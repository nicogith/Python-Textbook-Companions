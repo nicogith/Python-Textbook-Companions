{
 "metadata": {
  "name": "",
  "signature": "sha256:e8ae669d88fc715c49999174af0f47a67eb761cc981a916d61f3cb981ae07f2c"
 },
 "nbformat": 3,
 "nbformat_minor": 0,
 "worksheets": [
  {
   "cells": [
    {
     "cell_type": "heading",
     "level": 1,
     "metadata": {},
     "source": [
      "Chapter 14 : IRRIGATION CHANNEL 1 SILT THEORIES"
     ]
    },
    {
     "cell_type": "heading",
     "level": 2,
     "metadata": {},
     "source": [
      "Example 14.1 pg : 662"
     ]
    },
    {
     "cell_type": "code",
     "collapsed": false,
     "input": [
      "import math \n",
      "\n",
      "#design irrigation channel on Kennedy's theory\n",
      "\n",
      "#Given\n",
      "Q = 45;        \t\t\t\t#discharge\n",
      "N = 0.0225;    \t\t\t\t#rogosity coefficient\n",
      "m = 1.05;      \t\t\t\t#critical velocity ratio\n",
      "S = 1./5000;    \t\t\t\t#bed slope\n",
      "\n",
      "D = 2;  \t\t\t\t#assume\n",
      "Vo = 0.55*m*D**0.64;\n",
      "A = Q/Vo;\n",
      "#for a trapezoidal section\n",
      "B = (A-0.5*D**2)/2;\n",
      "P = B+D*5**0.5;\n",
      "R = A/P;\n",
      "C = (23+1/N+0.00155/S)*(R*S)**0.5/(1+(23+0.00155/S)*N/R**0.5);\n",
      "V = C*(R*S)**0.5;\n",
      "#Vo<V\n",
      "\n",
      "#assume D = 2.2\n",
      "D = 2.2;\n",
      "Vo = 0.55*m*D**0.64;\n",
      "A = Q/Vo;\n",
      "B = (A-0.5*D**2)/D;\n",
      "P = B+D*5**0.5;\n",
      "R = A/P;\n",
      "C = (23+1/N+0.00155/S)*(R*S)**0.5/(1+(23+0.00155/S)*N/R**0.5);\n",
      "V = C*(R*S)**0.5;\n",
      "\n",
      "#ratio of V and Vo is almost equal to 1\n",
      "\n",
      "# Results\n",
      "B = round(B*10)/10;\n",
      "print \"Width of channel section = %.2f m.\"%(B);\n",
      "print \"Depth of channel section = %.2f m.\"%(D);\n",
      "\n"
     ],
     "language": "python",
     "metadata": {},
     "outputs": [
      {
       "output_type": "stream",
       "stream": "stdout",
       "text": [
        "Width of channel section = 20.30 m.\n",
        "Depth of channel section = 2.20 m.\n"
       ]
      }
     ],
     "prompt_number": 1
    },
    {
     "cell_type": "heading",
     "level": 2,
     "metadata": {},
     "source": [
      "Example 14.2 pg : 663"
     ]
    },
    {
     "cell_type": "code",
     "collapsed": false,
     "input": [
      "import math \n",
      "from numpy import roots\n",
      "\n",
      "#design an irrigation canal for given data\n",
      "\n",
      "#Given\n",
      "Q = 14;        \t\t\t\t#discharge\n",
      "m = 1;         \t\t\t\t#critical velocity ratio\n",
      "r = 5.7;       \t\t\t\t#B/D\n",
      "\n",
      "D = (Q/(0.55*6.2))**(1/2.64);\n",
      "B = D*r;\n",
      "R = (B*D+D**2/2)/(B+D*5**0.5);\n",
      "Vo = 0.55*m*D**0.64;\n",
      "#applying kutters formula; V = C(RS)**0.5\n",
      "#where C = (23+1/N+0.00155/S)*(R*S)**0.5/(1+(23+0.00155/S)*N/R**0.5);\n",
      "#assuming S**0.5 = y\n",
      "#y = poly1d([-1.98D-5,1.55D-3,-0.954,67.5],'x','c');\n",
      "#roots(y);\n",
      "#taking real values of y\n",
      "S = 0.0139906**2;\n",
      "B = round(B*100)/100;\n",
      "D = round(D*100)/100;\n",
      "\n",
      "# Results\n",
      "print \"Width of channel section = %.2f m.\"%(B);\n",
      "print \"Depth of channel section = %.2f m.\"%(D);\n",
      "print \"Bed slope = %.2e.\"%(S);\n"
     ],
     "language": "python",
     "metadata": {},
     "outputs": [
      {
       "output_type": "stream",
       "stream": "stdout",
       "text": [
        "Width of channel section = 9.73 m.\n",
        "Depth of channel section = 1.71 m.\n",
        "Bed slope = 1.96e-04.\n"
       ]
      }
     ],
     "prompt_number": 2
    },
    {
     "cell_type": "heading",
     "level": 2,
     "metadata": {},
     "source": [
      "Example 14.3 pg : 668"
     ]
    },
    {
     "cell_type": "code",
     "collapsed": false,
     "input": [
      "import math \n",
      "\n",
      "#design a channel on Kennedy's theory\n",
      "\t\t\t\t\n",
      "#Given\n",
      "Q = 45.;            \t\t\t\t#discharge\n",
      "m = 1.05;          \t\t\t\t#critical velocity ratio\n",
      "N = 0.025;         \t\t\t\t#rugosity coefficient\n",
      "S = 1./5000;        \t\t\t\t#bed slope\n",
      "\n",
      "\n",
      "# Calculations\n",
      "l = S*Q**0.02/(N**2*m**2.02);\n",
      "#from fig.14.3 we get r = 10\n",
      "#solving the equation by trial and error method we get\n",
      "r = 9.7;\n",
      "D = (1.818*Q/(m*(r+0.5)))**(1/2.64);\n",
      "B = r*D;\n",
      "V = Q/(D**2*(r+0.5));\n",
      "Vo = 0.55*D**0.64*m;\n",
      "B = round(B);\n",
      "D = round(D*100)/100;\n",
      "V = round(V*1000)/1000;\n",
      "Vo = round(Vo*1000)/1000;\n",
      "\n",
      "# Results\n",
      "print \"Width of channel section = %.2f m.\"%(B);\n",
      "print \"Depth of channel section = %.2f m.\"%(D);\n",
      "print \"Velocity through the channel section = %.2f m/s.\"%(V);\n",
      "print \"Vo = %.2f m/s.Hence Safe\"%(Vo);\n"
     ],
     "language": "python",
     "metadata": {},
     "outputs": [
      {
       "output_type": "stream",
       "stream": "stdout",
       "text": [
        "Width of channel section = 21.00 m.\n",
        "Depth of channel section = 2.16 m.\n",
        "Velocity through the channel section = 0.94 m/s.\n",
        "Vo = 0.94 m/s.Hence Safe\n"
       ]
      }
     ],
     "prompt_number": 3
    },
    {
     "cell_type": "heading",
     "level": 2,
     "metadata": {},
     "source": [
      "Example 14.4 pg : 668"
     ]
    },
    {
     "cell_type": "code",
     "collapsed": false,
     "input": [
      "import math \n",
      "\n",
      "\n",
      "#design channel umath.sing method of curve fitting based onKennedy's theory\n",
      "\t\t\t\t\n",
      "#Given\n",
      "Q = 45.;         \t\t\t\t#discharge\n",
      "N = 0.0225;     \t\t\t\t#rugosity coefficient\n",
      "m = 1.05;       \t\t\t\t#critical velocity ratio\n",
      "S = 1./5000;     \t\t\t\t#Bed slope\n",
      "\n",
      "r = (1.607*S**1.63*Q**0.033/(N**3.26*m**3.293)-0.258)**(-0.915);\n",
      "D = (1.818*Q/(m*(r+0.5)))**(1/2.64);\n",
      "B = r*D;\n",
      "B = round(B);\n",
      "D = round(D*100)/100;\n",
      "\n",
      "# Results\n",
      "print \"Width of channel section = %.2f m.\"%(B);\n",
      "print \"Depth of channel section = %.2f m.\"%(D);\n"
     ],
     "language": "python",
     "metadata": {},
     "outputs": [
      {
       "output_type": "stream",
       "stream": "stdout",
       "text": [
        "Width of channel section = 21.00 m.\n",
        "Depth of channel section = 2.16 m.\n"
       ]
      }
     ],
     "prompt_number": 4
    },
    {
     "cell_type": "heading",
     "level": 2,
     "metadata": {},
     "source": [
      "Example 14.5 pg : 668"
     ]
    },
    {
     "cell_type": "code",
     "collapsed": false,
     "input": [
      "import math \n",
      "\n",
      "\n",
      "#design channel umath.sing curve of CWPC for B/D ratio\n",
      "\t\t\t\t\n",
      "#Given\n",
      "Q = 45.;         \t\t\t\t#discharge\n",
      "N = 0.0225;     \t\t\t\t#rugosity coefficient\n",
      "m = 1.05;       \t\t\t\t#critical velocity ratio\n",
      "\n",
      "r = (15+6.44*Q)**0.382;\n",
      "S = (N**2/1.338*Q**0.02)*(0.258+(15+6.44*Q)**(-0.417))**0.6135;\n",
      "D = (1.818*Q/(m*(r+0.5)))**(1/2.64);\n",
      "B = r*D;\n",
      "B = round(B);\n",
      "D = round(D*100)/100;\n",
      "\n",
      "# Results\n",
      "print \"Bed slope = %.2e.\"%(S);\n",
      "print \"Width of channel section = %.2f m.\"%(B);\n",
      "print \"Depth of channel section = %.2f m.\"%(D);\n",
      "\n"
     ],
     "language": "python",
     "metadata": {},
     "outputs": [
      {
       "output_type": "stream",
       "stream": "stdout",
       "text": [
        "Bed slope = 2.14e-04.\n",
        "Width of channel section = 20.00 m.\n",
        "Depth of channel section = 2.23 m.\n"
       ]
      }
     ],
     "prompt_number": 5
    },
    {
     "cell_type": "heading",
     "level": 2,
     "metadata": {},
     "source": [
      "Example 14.6 pg : 667"
     ]
    },
    {
     "cell_type": "code",
     "collapsed": false,
     "input": [
      "import math \n",
      "\n",
      "\n",
      "#design the channel section umath.sing the following data and calculate math.logitudnal section\n",
      "\t\t\t\t\n",
      "#Given\n",
      "Q = 30.;     \t\t\t\t#discharge\n",
      "f = 1.;      \t\t\t\t#silt factor\n",
      "s = 1./2;    \t\t\t\t#side slope\n",
      "\n",
      "V = (Q*f/140)**(1./6);\n",
      "A = Q/V;\n",
      "P = 4.75*Q**0.5;\n",
      "D = (P-(P**2-6.944*A)**0.5)/3.472;\n",
      "B = P-2.236*D;\n",
      "\n",
      "R = 5*V**2/(2*f);\n",
      "S = f**(5./3)/(3340*Q**(1./6));\n",
      "B = round(B*100)/100;\n",
      "D = round(D*100)/100;\n",
      "\n",
      "# Results\n",
      "print \"Bed slope = %.2e.\"%(S);\n",
      "print \"Width of channel section = %.2f m.\"%(B);\n",
      "print \"Depth of channel section = %.2f m.\"%(D);\n"
     ],
     "language": "python",
     "metadata": {},
     "outputs": [
      {
       "output_type": "stream",
       "stream": "stdout",
       "text": [
        "Bed slope = 1.70e-04.\n",
        "Width of channel section = 22.26 m.\n",
        "Depth of channel section = 1.68 m.\n"
       ]
      }
     ],
     "prompt_number": 6
    },
    {
     "cell_type": "heading",
     "level": 2,
     "metadata": {},
     "source": [
      "Example 14.7 pg : 682"
     ]
    },
    {
     "cell_type": "code",
     "collapsed": false,
     "input": [
      "import math \n",
      "from numpy import roots\n",
      "\n",
      "#design a channel in alluvial soil umath.sing tractive force approach\n",
      "\t\t\t\t\n",
      "#Given\n",
      "Q = 45.;         \t\t\t\t#discharge\n",
      "S = 1./4800;     \t\t\t\t#bed slope\n",
      "N = 0.0225;     \t\t\t\t#rogosity coefficient\n",
      "sigma = 0.0035; \t\t\t\t#permissible tractive stress\n",
      "s = 1./2;        \t\t\t\t#side slope\n",
      "gamma_w = 9.81;  \t\t\t\t#unit weigth of water\n",
      "\n",
      "\n",
      "# Calculations\n",
      "R = sigma/(gamma_w*S);\n",
      "V = R**(2./3)*S**0.5/N;\n",
      "A = Q/V;\n",
      "P = A/R;\n",
      "#y = poly1d([-49,28.61,-1.736],'x','c');\n",
      "y = [-1.736,28.61,-49]\n",
      "D = roots(y)[1];\n",
      "#we get D = 14.539034 and 1.9413812 \n",
      "#taking D = 1.9413812 \n",
      "B = 28.61-2.23*D;\n",
      "B = round(B*100)/100;\n",
      "D = round(D*100)/100;\n",
      "\n",
      "# Results\n",
      "print \"Width of channel section = %.2f m.\"%(B);\n",
      "print \"Depth of channel section = %.2f m.\"%(D);\n",
      "\n",
      " \n"
     ],
     "language": "python",
     "metadata": {},
     "outputs": [
      {
       "output_type": "stream",
       "stream": "stdout",
       "text": [
        "Width of channel section = 24.28 m.\n",
        "Depth of channel section = 1.94 m.\n"
       ]
      }
     ],
     "prompt_number": 7
    },
    {
     "cell_type": "heading",
     "level": 2,
     "metadata": {},
     "source": [
      "Example 14.8 pg : 687"
     ]
    },
    {
     "cell_type": "code",
     "collapsed": false,
     "input": [
      "import math \n",
      "from numpy import roots\n",
      "\n",
      "#designa channel section by Kennedy theory\n",
      "\n",
      "#Given\n",
      "Q = 28.;        \t\t\t\t#discharge\n",
      "m = 1.;         \t\t\t\t#critical velocity ratio\n",
      "r = 7.6;       \t\t\t\t#B/D\n",
      "\n",
      "D = (Q/4.46)**(1/2.64);\n",
      "B = r*D;\n",
      "R = 0.823*D;\n",
      "V = 0.55*(D)**0.64;\n",
      "\n",
      "#applying kutters formula; V = C(RS)**0.5\n",
      "#where C = (23+1/N+0.00155/S)*(R*S)**0.5/(1+(23+0.00155/S)*N/R**0.5);\n",
      "#we get equation in S\n",
      "#assuming S**0.5 = y\n",
      "#y = poly([-1.42D-5,1.55D-3,-0.885,67.4],'x','c');\n",
      "y = [67.4,-0.885,1.55e-3,-1.42e-5]\n",
      "d = roots(y)[0];\n",
      "#taking real values of y\n",
      "S = d.real**2;\n",
      "B = round(B*10)/10;\n",
      "D = round(D*100)/100;\n",
      "\n",
      "# Results\n",
      "print \"Width of channel section = %.2f m.\"%(B);\n",
      "print \"Depth of channel section = %.2f m.\"%(D);\n",
      "print \"Bed slope = %.2e.\"%(S);\n"
     ],
     "language": "python",
     "metadata": {},
     "outputs": [
      {
       "output_type": "stream",
       "stream": "stdout",
       "text": [
        "Width of channel section = 15.20 m.\n",
        "Depth of channel section = 2.01 m.\n",
        "Bed slope = 1.60e-04.\n"
       ]
      }
     ],
     "prompt_number": 8
    },
    {
     "cell_type": "heading",
     "level": 2,
     "metadata": {},
     "source": [
      "Example 14.9 pg : 688"
     ]
    },
    {
     "cell_type": "code",
     "collapsed": false,
     "input": [
      "import math \n",
      "#design the channel section and calculate discharge\n",
      "\t\t\t\t\n",
      "#Given\n",
      "r = 5.7;       \t\t\t\t#B/D\n",
      "S = 1./5000;    \t\t\t\t#bed slope\n",
      "N = 0.0225;    \t\t\t\t#rogosity coefficient\n",
      "m = 1;         \t\t\t\t#critical velocity ratio(assumed)\n",
      "\n",
      "#applying kutters formula; V = C(RS)**0.5\n",
      "#where C = (23+1/N+0.00155/S)*(R*S)**0.5/(1+(23+0.00155/S)*N/R**0.5);\n",
      "#we get equation in d as\n",
      "#38.88*D**0.64-66.5*D**0.5+30.37*D**0.14 = 0\n",
      "#solving it by trial and error method\n",
      "#we get D = 1.7 m.\n",
      "D = 1.7;\n",
      "B = r*D;\n",
      "V = 0.55*m*(D)**0.64;\n",
      "A = B*D+D**2/2;\n",
      "Q = A*V;\n",
      "Q = round(Q*100)/100;\n",
      "\n",
      "# Results\n",
      "print \"Width of channel section = %.2f m.\"%(B);\n",
      "print \"Depth of channel section = %.2f m.\"%(D);\n",
      "print \" Discharge = %.2f cumecs.\"%(Q);\n"
     ],
     "language": "python",
     "metadata": {},
     "outputs": [
      {
       "output_type": "stream",
       "stream": "stdout",
       "text": [
        "Width of channel section = 9.69 m.\n",
        "Depth of channel section = 1.70 m.\n",
        " Discharge = 13.84 cumecs.\n"
       ]
      }
     ],
     "prompt_number": 9
    },
    {
     "cell_type": "heading",
     "level": 2,
     "metadata": {},
     "source": [
      "Example 14.10 pg : 689"
     ]
    },
    {
     "cell_type": "code",
     "collapsed": false,
     "input": [
      "import math \n",
      "from numpy import roots\n",
      "\n",
      "#design irrigation channel  according to Laecy silt theory\n",
      "\t\t\t\t\n",
      "#Given\n",
      "Q = 15.;               \t\t\t\t#discharge\n",
      "f = 1.;                \t\t\t\t#laecy silt factor\n",
      "s = 1./2;              \t\t\t\t#channel side slope\n",
      "\n",
      "V = (Q*f**2/140);\n",
      "A = Q/V;\n",
      "R = 5*V**2/(2*f);\n",
      "#umath.sing the value of A in equations we get,\n",
      "#equation in D as\n",
      "y = [-1.73,18.336,-21.765]\n",
      "D = roots(y)[1];\n",
      "\n",
      "#we get D = 9.2368003 and 1.3620436.\n",
      "#taking\n",
      "D = 1.3620436;\n",
      "B = 18.336-D*2.23;\n",
      "P = 4.75*Q**0.5;\n",
      "S = 1/(3340*Q**(1./6));\n",
      "B = round(B*10)/10;\n",
      "D = round(D*100)/100;\n",
      "\n",
      "# Results\n",
      "print \"Width of channel section = %.2f m.\"%(B);\n",
      "print \"Depth of channel section = %.2f m.\"%(D);\n",
      "print \"Bed slope = %.2e.\"%(S);\n",
      " \n"
     ],
     "language": "python",
     "metadata": {},
     "outputs": [
      {
       "output_type": "stream",
       "stream": "stdout",
       "text": [
        "Width of channel section = 15.30 m.\n",
        "Depth of channel section = 1.36 m.\n",
        "Bed slope = 1.91e-04.\n"
       ]
      }
     ],
     "prompt_number": 10
    },
    {
     "cell_type": "heading",
     "level": 2,
     "metadata": {},
     "source": [
      "Example 14.11 pg  : 690"
     ]
    },
    {
     "cell_type": "code",
     "collapsed": false,
     "input": [
      "import math \n",
      "from numpy import roots\n",
      "#find channel section and discharge\n",
      "\t\t\t\t\n",
      "#Given\n",
      "S = 1./5000;            \t\t\t\t#bed slope\n",
      "s = 1./2;               \t\t\t\t#side slope\n",
      "f = 0.9;                 \t\t\t\t#laecy silt factor\n",
      "\n",
      "Q = (f**(5./3)/(3340*S))**6;\n",
      "R = f**3/(4980*S)**2;\n",
      "P = 4.75*Q**0.5;\n",
      "A = P*R;\n",
      "#umath.sing the value of A and P in equations we get,\n",
      "#equation in D as\n",
      "y = [-1.73,9.41,-6.961]\n",
      "D = roots(y)[1];\n",
      "\n",
      "#we get D = 4.5561754 and 0.8831309.\n",
      "#taking D = 0.8831309;\n",
      "B = 9.41-D*2.23;\n",
      "B = round(B*100)*100;\n",
      "D = round(D*100)/100;\n",
      "Q = round(Q*1000)/1000;\n",
      "\n",
      "# Results\n",
      "print \"Width of channel section = %.2f m.\"%(B);\n",
      "print \"Depth of channel section = %.2f m.\"%(D);\n",
      "print \" Discharge = %.2f cumecs.\"%(Q);\n"
     ],
     "language": "python",
     "metadata": {},
     "outputs": [
      {
       "output_type": "stream",
       "stream": "stdout",
       "text": [
        "Width of channel section = 74400.00 m.\n",
        "Depth of channel section = 0.88 m.\n",
        " Discharge = 3.92 cumecs.\n"
       ]
      }
     ],
     "prompt_number": 11
    },
    {
     "cell_type": "heading",
     "level": 2,
     "metadata": {},
     "source": [
      "Example 14.12 pg : 691"
     ]
    },
    {
     "cell_type": "code",
     "collapsed": false,
     "input": [
      "import math \n",
      "\t\t\t\t\n",
      "#Given\n",
      "gamma_w = 9.81;         \t\t\t\t#unit weigth of water\n",
      "D = 3.;                  \t\t\t\t#depth of channel\n",
      "d = 0.3;                \t\t\t\t#grain size\n",
      "k = 1.5;                \t\t\t\t#size of roughness of channel bed\n",
      "S = 1./4400;             \t\t\t\t#bed slope\n",
      "G = 2.65;              \t\t\t\t#specific gravity\n",
      "\n",
      "# Calculations\n",
      "tau_b = gamma_w*D*S;\n",
      "N1 = d**(1./6)/24;\n",
      "N = k**(1./6)/24;\n",
      "gamma_s = gamma_w*G;\n",
      "tau_c = 0.047*(gamma_s-gamma_w)*d/1000;\n",
      "r = (N1/N)**1.5;\n",
      "q = 47450*(tau_b*r-tau_c)**1.5;\n",
      "q = round(q*100)/100;\n",
      "\n",
      "# Results\n",
      "print \"quantity of bed load moved = %.2f kN/m/hr.\"%(q);\n",
      "\n"
     ],
     "language": "python",
     "metadata": {},
     "outputs": [
      {
       "output_type": "stream",
       "stream": "stdout",
       "text": [
        "quantity of bed load moved = 13.12 kN/m/hr.\n"
       ]
      }
     ],
     "prompt_number": 12
    },
    {
     "cell_type": "heading",
     "level": 2,
     "metadata": {},
     "source": [
      "Example 14.13 pg : 691"
     ]
    },
    {
     "cell_type": "code",
     "collapsed": false,
     "input": [
      "import math \n",
      "\t\t\t\t\n",
      "#Given\n",
      "gamma_w = 9.81;         \t\t\t\t#unit weigth of water\n",
      "D = 3.;                  \t\t\t\t#depth of channel\n",
      "d = 0.3;                \t\t\t\t#grain size\n",
      "k = 1.5;                \t\t\t\t#size of roughness of channel bed\n",
      "S = 1./4400;             \t\t\t\t#bed slope\n",
      "G = 2.65;              \t\t\t\t#specific gravity\n",
      "\n",
      "# Calculations\n",
      "N1 = d**(1./6)/24;\n",
      "N = k**(1./6)/24;\n",
      "r = (N1/N)**1.5;\n",
      "R1 = 3*r;\n",
      "si = (G-1)*d/(1000*R1*S);\n",
      "\t\t\t\t#hence we get\n",
      "fi = 7;\n",
      "q = 3600*fi*G*gamma_w*(G-1)**0.5*(gamma_w)**0.5*(d/1000)**1.5;\n",
      "q = round(q*10)/10;\n",
      "\n",
      "# Results\n",
      "print \"quantity of bed load moved = %.2f kN/m/hr.\"%(q);\n"
     ],
     "language": "python",
     "metadata": {},
     "outputs": [
      {
       "output_type": "stream",
       "stream": "stdout",
       "text": [
        "quantity of bed load moved = 13.70 kN/m/hr.\n"
       ]
      }
     ],
     "prompt_number": 13
    },
    {
     "cell_type": "heading",
     "level": 2,
     "metadata": {},
     "source": [
      "Example 14.14 pg : 692"
     ]
    },
    {
     "cell_type": "code",
     "collapsed": false,
     "input": [
      "import math \n",
      "\t\t\t\t\n",
      "#Given\n",
      "gamma_w = 9.81;         \t\t\t\t#unit weigth of water\n",
      "D = 3.;                  \t\t\t\t#depth of channel\n",
      "d = 0.3;                \t\t\t\t#grain size\n",
      "k = 1.5;                \t\t\t\t#size of roughness of channel bed\n",
      "S = 1./4400;             \t\t\t\t#bed slope\n",
      "G = 2.65;              \t\t\t\t#specific gravity\n",
      "V = 0.03;              \t\t\t\t#fall velocity\n",
      "c_ = 400;               \t\t\t\t#concentration at 0.3 m above bed\n",
      "a = 0.3;\n",
      "y = 1.;\n",
      "k_ = 0.4;             \t\t\t\t#van karman's consmath.tant\n",
      "\n",
      "\n",
      "# Calculations\n",
      "N1 = d**(1./6)/24;\n",
      "N = k**(1./6)/24;\n",
      "r = (N1/N)**1.5;\n",
      "R1 = 3*r;\n",
      "V_ = (gamma_w*R1*S)**0.5;\n",
      "c = c_*((a/y)*(D-y)/(D-a))**(V/(V_*k_));\n",
      "c = round(c*10)/10;\n",
      "\n",
      "# Results\n",
      "print \"concentration of suspended load = %.2f ppm.\"%(c);\n",
      "\n"
     ],
     "language": "python",
     "metadata": {},
     "outputs": [
      {
       "output_type": "stream",
       "stream": "stdout",
       "text": [
        "concentration of suspended load = 74.10 ppm.\n"
       ]
      }
     ],
     "prompt_number": 14
    },
    {
     "cell_type": "heading",
     "level": 2,
     "metadata": {},
     "source": [
      "Example 14.15 pg : 692"
     ]
    },
    {
     "cell_type": "code",
     "collapsed": false,
     "input": [
      "import math \n",
      "from numpy import roots\n",
      "\n",
      "\t\t\t\t#design an irrigation channel by Meyer peter equation\n",
      "\t\t\t\t\n",
      "#Given\n",
      "Q = 45;              \t\t\t\t#discharge\n",
      "c = 55;              \t\t\t\t#bed load concentraion\n",
      "d = 0.3;             \t\t\t\t#average grain diameter\n",
      "gamma_w = 9.81;      \t\t\t\t#unit weigth of water\n",
      "G = 2.67;\n",
      "f = 0.964;\n",
      "\n",
      "c = c*Q*gamma_w*3600/1000000;\n",
      "P = 4.75*Q**0.5;\n",
      "\t\t\t\t#taking channel width as B = 28 m(slightly less than P)\n",
      "B = 28.;\n",
      "qs = c/B;\n",
      "\t\t\t\t#assuming effective grain diameter k = 0.4 mm\n",
      "ks = 0.4e-3;\n",
      "N1 = ks**(1./6)/24;\n",
      "sf = 1.76*d**0.5;\n",
      "N = 0.0225*sf**0.25;\n",
      "r = N1/N;\n",
      "tau_c = 0.047*gamma_w*(G-1)*d/1000;\n",
      "tau_b = r**1.5*((qs/47450)**(2./3)+tau_c);\n",
      "\t\t\t\t#from Manning's formula we get on simplification\n",
      "R = (0.000992*1000/0.525)**(3./7);\n",
      "S = 0.525/(1000*R);\n",
      "\t\t\t\t#solving equation of R for trapezoidal section of side slope 1/2 we get\n",
      "y = [0.5,25.06,-36.792]\n",
      "D = roots(y)[1];\n",
      "#we get D =  -51.547499  and 1.4274989  \n",
      "#taking D = 1.4274989;\n",
      "D = round(D*100)/100;\n",
      "\n",
      "# Results\n",
      "print \"Width of channel section = %i m.\"%(B);\n",
      "print \"Depth of channel section = %.2f m.\"%(D);\n",
      "print \"Bed slope = %.2e.\"%(S);\n"
     ],
     "language": "python",
     "metadata": {},
     "outputs": [
      {
       "output_type": "stream",
       "stream": "stdout",
       "text": [
        "Width of channel section = 28 m.\n",
        "Depth of channel section = 1.43 m.\n",
        "Bed slope = 4.00e-04.\n"
       ]
      }
     ],
     "prompt_number": 15
    },
    {
     "cell_type": "heading",
     "level": 2,
     "metadata": {},
     "source": [
      "Example 14.16 pg : 693"
     ]
    },
    {
     "cell_type": "code",
     "collapsed": false,
     "input": [
      "import math \n",
      "from numpy import roots\n",
      "\n",
      "\n",
      "#design an irrigation channel by Einstein equation\n",
      "\t\t\t\t\n",
      "#Given\n",
      "Q = 45.;              \t\t\t\t#discharge\n",
      "c = 55.;              \t\t\t\t#bed load concentraion\n",
      "d = 0.3;             \t\t\t\t#average grain diameter\n",
      "gamma_w = 9.81;      \t\t\t\t#unit weigth of water\n",
      "G = 2.67;            \t\t\t\t#specific gravity of soil\n",
      "f = 0.964;           \t\t\t\t#silt factor\n",
      "\n",
      "#taking channel width as B = 28 m(slightly less than P)\n",
      "B = 28.;\n",
      "qs = c/B;\n",
      "\n",
      "fi = (qs/(gamma_w*G))*(1/(G-1))**0.5*(1000000000/(gamma_w*d**3))**0.5;\n",
      "#from fig. 14.6 we get value of sci\n",
      "#umath.sing the sci equation and Manning formula and on simplifications we get\n",
      "R = (2.4296)**(3./7);\n",
      "S = 0.4083/(1000*1.463);\n",
      "#solving equation of R for trapezoidal section of side slope 1/2 we get\n",
      "y = [0.5,24.73,-40.96]\n",
      "D = roots(y)[1];\n",
      "#we get D =  -51.064253   and 1.6042534  \n",
      "#taking D = 1.6042534;\n",
      "D = round(D*10)/10;\n",
      "\n",
      "# Results\n",
      "print \"Width of channel section = %i m.\"%(B);\n",
      "print \"Depth of channel section = %.2f m.\"%(D);\n",
      "print \"Bed slope = %.2e.\"%(S);\n"
     ],
     "language": "python",
     "metadata": {},
     "outputs": [
      {
       "output_type": "stream",
       "stream": "stdout",
       "text": [
        "Width of channel section = 28 m.\n",
        "Depth of channel section = 1.60 m.\n",
        "Bed slope = 2.79e-04.\n"
       ]
      }
     ],
     "prompt_number": 16
    },
    {
     "cell_type": "heading",
     "level": 2,
     "metadata": {},
     "source": [
      "Example 14.17 pg : 697"
     ]
    },
    {
     "cell_type": "code",
     "collapsed": false,
     "input": [
      "import math \n",
      "from numpy import roots\n",
      "#design a channel for non-alluvial deposites\n",
      "\t\t\t\t\n",
      "#Given\n",
      "Q = 45.;               \t\t\t\t#discharge\n",
      "S = 1./4000;           \t\t\t\t#bed slope\n",
      "v = 0.9;              \t\t\t\t#permissible velocity\n",
      "N = 0.025;            \t\t\t\t#rogosity coefficient\n",
      "\n",
      "\n",
      "# Calculations\n",
      "A = Q/v;\n",
      "R = (v*N/S**0.5)**1.5;\n",
      "P = A/R;\n",
      "\t\t\t\t#let us provide a trapezoidal section\n",
      "\t\t\t\t#from equation of Area and Perimeter of trapezoid\n",
      "y = [1.828,-29.45,50]\n",
      "D = roots(y)[1];\n",
      "#from which we get D = 14.181815 and 1.9286881\n",
      "#taking  D = 1.9286881;\n",
      "B = P-2*1.41*D;\n",
      "D = round(D*100)/100;\n",
      "\n",
      "# Results\n",
      "print \"Width of channel section = %i m.\"%(B);\n",
      "print \"Depth of channel section = %.2f m.\"%(D);\n",
      "\n"
     ],
     "language": "python",
     "metadata": {},
     "outputs": [
      {
       "output_type": "stream",
       "stream": "stdout",
       "text": [
        "Width of channel section = 24 m.\n",
        "Depth of channel section = 1.93 m.\n"
       ]
      }
     ],
     "prompt_number": 17
    },
    {
     "cell_type": "heading",
     "level": 2,
     "metadata": {},
     "source": [
      "Example 14.18 pg : 697"
     ]
    },
    {
     "cell_type": "code",
     "collapsed": false,
     "input": [
      "import math \n",
      "#design non-allvial channel umath.sing Bazin's formula\n",
      "\t\t\t\t\n",
      "#Given\n",
      "Q = 15.;               \t\t\t\t#discharge\n",
      "V = 0.75;             \t\t\t\t#mean velocity\n",
      "s = 1.;                \t\t\t\t#side slope\n",
      "K = 1.3;              \t\t\t\t#bazin's coefficient\n",
      "\t\t\t\t#width is five times its depth\n",
      "\n",
      "                \n",
      "# Calculations\n",
      "A = Q/V;\n",
      "D = (A/6)**0.5;\n",
      "B = 5*D;\n",
      "P = B+2*D*1.41;\n",
      "R = A/P;\n",
      "C = 87/(1+K/(R)**0.5);\n",
      "S = (V/C)**2/R;\n",
      "B = round(B*10)/10;\n",
      "D = round(D*100)/100;\n",
      "\n",
      "# Results\n",
      "print \"Width of channel section = %.2f m.\"%(B);\n",
      "print \"Depth of channel section = %.2f m.\"%(D);\n",
      "print \"Bed slope = %.2e.\"%(S);\n"
     ],
     "language": "python",
     "metadata": {},
     "outputs": [
      {
       "output_type": "stream",
       "stream": "stdout",
       "text": [
        "Width of channel section = 9.10 m.\n",
        "Depth of channel section = 1.83 m.\n",
        "Bed slope = 2.34e-04.\n"
       ]
      }
     ],
     "prompt_number": 18
    },
    {
     "cell_type": "heading",
     "level": 2,
     "metadata": {},
     "source": [
      "Example 14.19 pg : 698"
     ]
    },
    {
     "cell_type": "code",
     "collapsed": false,
     "input": [
      "import math \n",
      "\n",
      "#determine dimension of channel umath.sing chezy's equation\n",
      "\n",
      "\t\t\t\t\n",
      "#Given\n",
      "Q = 21.5;          \t\t\t\t#discharge\n",
      "S = 1./2500;        \t\t\t\t#slope of bottom\n",
      "C = 70;\n",
      "r = 1/1.73;\n",
      "#taking R = 0.5*D\n",
      "\n",
      "# Calculations and Results\n",
      "#and keeping it in Q = V*A;where V = C(RS)**0.5 and A = D**2(2*(4/3)**0.5-1/3**0.5);\n",
      "D = (21.5/1.7146)**(1/2.5);\n",
      "B = 2*D*((4./3)**0.5-(1./3)**0.5);\n",
      "B = round(B*100)/100;\n",
      "D = round(D*100)/100;\n",
      "print \"side slope = %.2f.\"%(r);\n",
      "print \"Width of channel section = %.2f m.\"%(B);\n",
      "print \"Depth of channel section = %.2f m.\"%(D);\n",
      "\n",
      "R = 0.5*D;\n",
      "V = C*(R*S)**0.5;\n",
      "n = R**(2./3)*S**0.5/V;\n",
      "n = round(n*1000)/1000;\n",
      "print \"value of manning n = %.2f.\"%(n);\n"
     ],
     "language": "python",
     "metadata": {},
     "outputs": [
      {
       "output_type": "stream",
       "stream": "stdout",
       "text": [
        "side slope = 0.58.\n",
        "Width of channel section = 3.18 m.\n",
        "Depth of channel section = 2.75 m.\n",
        "value of manning n = 0.01.\n"
       ]
      }
     ],
     "prompt_number": 19
    },
    {
     "cell_type": "heading",
     "level": 2,
     "metadata": {},
     "source": [
      "Example 14.20 pg : 698"
     ]
    },
    {
     "cell_type": "code",
     "collapsed": false,
     "input": [
      "import math \n",
      "\n",
      "\t\t\t\t#design a regime channel\n",
      "\t\t\t\t\n",
      "#Given\n",
      "Q = 100;          \t\t\t\t#discharge\n",
      "f = 1.1;          \t\t\t\t#silt factor\n",
      "s = 1./2;          \t\t\t\t#side slope\n",
      "\n",
      "\n",
      "# Calculations\n",
      "V = (Q*f**2/140)**(1./6);\n",
      "A = Q/V;\n",
      "P = 4.75*Q**0.5;\n",
      "D = (P-(P**2-6.944*A)**0.5)/3.472;\n",
      "B = P-2.236*D;\n",
      "R = 5*V**2/(2*f);\n",
      "S = f**(5./3)/(3340*Q**(1./6));\n",
      "B = round(B*10)/10;\n",
      "D = round(D*100)/100;\n",
      "\n",
      "# Results\n",
      "print \"Width of channel section = %.2f m.\"%(B);\n",
      "print \"Depth of channel section = %.2f m.\"%(D);\n",
      "print \"Bed slope = %.2e.\"%(S);\n"
     ],
     "language": "python",
     "metadata": {},
     "outputs": [
      {
       "output_type": "stream",
       "stream": "stdout",
       "text": [
        "Width of channel section = 42.20 m.\n",
        "Depth of channel section = 2.36 m.\n",
        "Bed slope = 1.63e-04.\n"
       ]
      }
     ],
     "prompt_number": 20
    },
    {
     "cell_type": "heading",
     "level": 2,
     "metadata": {},
     "source": [
      "Example 14.21 pg : 699"
     ]
    },
    {
     "cell_type": "code",
     "collapsed": false,
     "input": [
      "import math \n",
      "from numpy import poly1d,roots\n",
      "#design a channel umath.sing Laecy theory\n",
      "\t\t\t\t\n",
      "#Given\n",
      "Q = 40.;               \t\t\t\t#discharge\n",
      "s = 1.;                \t\t\t\t#side slope\n",
      "md = 0.8;             \t\t\t\t#average size of base material\n",
      "\n",
      "\n",
      "# Calculations\n",
      "f = 1.76*(md)**0.5;\n",
      "V = (Q*f**2/140)**(1./6);\n",
      "A = Q/V;\n",
      "P = 4.75*Q**0.5;\n",
      "#from equations of Area and perimeter of trapezoidal section;we get\n",
      "y = poly1d([42.41,-30.04,1.828],'x','c');\n",
      "D = roots(y)[0];\n",
      "\t\t\t\t#we get D = 14.873416 and 1.5598447\n",
      "\t\t\t\t#taking\n",
      "D = 1.5598447;\n",
      "B = A/D-D;\n",
      "R = 5*V**2/(2*f);\n",
      "S = f**(5./3)/(3340*Q**(1./6));\n",
      "B = round(B*100)/100;\n",
      "D = round(D*100)/100;\n",
      "\n",
      "# Results\n",
      "print \"Width of channel section = %.2f m.\"%(B);\n",
      "print \"Depth of channel section = %.2f m.\"%(D);\n",
      "print \"Bed slope = %.2e.\"%(S);\n",
      "\n"
     ],
     "language": "python",
     "metadata": {},
     "outputs": [
      {
       "output_type": "stream",
       "stream": "stdout",
       "text": [
        "Width of channel section = 25.60 m.\n",
        "Depth of channel section = 1.56 m.\n",
        "Bed slope = 3.45e-04.\n"
       ]
      }
     ],
     "prompt_number": 21
    },
    {
     "cell_type": "heading",
     "level": 2,
     "metadata": {},
     "source": [
      "Example 14.22 pg : 700"
     ]
    },
    {
     "cell_type": "code",
     "collapsed": false,
     "input": [
      "import math \n",
      "\t\t\t\t\n",
      "#Given\n",
      "Q = 30.;              \t\t\t\t#discharge\n",
      "V = 1.;               \t\t\t\t#velocity of flow\n",
      "\n",
      "\n",
      "# Calculations\n",
      "A = Q/V;\n",
      "#perimeter of section = 30/D-D/2\n",
      "#taking its derivative w.r.t to D\n",
      "D = 1/((1.914/30)**0.5);\n",
      "#from equation of area\n",
      "B = 30/D-D/2;\n",
      "B = round(B*10)/10;\n",
      "D = round(D*100)/100;\n",
      "\n",
      "# Results\n",
      "print \"Width of channel section = %.2f m.\"%(B);\n",
      "print \"Depth of channel section = %.2f m.\"%(D);\n",
      "\n"
     ],
     "language": "python",
     "metadata": {},
     "outputs": [
      {
       "output_type": "stream",
       "stream": "stdout",
       "text": [
        "Width of channel section = 5.60 m.\n",
        "Depth of channel section = 3.96 m.\n"
       ]
      }
     ],
     "prompt_number": 22
    },
    {
     "cell_type": "heading",
     "level": 2,
     "metadata": {},
     "source": [
      "Example 14.23 pg : 700"
     ]
    },
    {
     "cell_type": "code",
     "collapsed": false,
     "input": [
      "import math \n",
      "\n",
      "#determine whether flow is critical or sub-critical\n",
      "\t\t\t\t\n",
      "#Given\n",
      "Q = 17.;           \t\t\t\t#discharge\n",
      "B = 6.;            \t\t\t\t#base of channel\n",
      "s = 1./2;          \t\t\t\t#side slope\n",
      "D = 1.5;          \t\t\t\t#depth of channel\n",
      "\n",
      "\n",
      "# Calculations\n",
      "A = D*((B+B/s)/2);\n",
      "V = Q/A;\n",
      "P = B+2*((D/s)**2+D**2)**0.5;\n",
      "R = A/P;\n",
      "F = V/(9.81*R)**0.5;      \t\t\t\t#froud number\n",
      "F = round(F*100)/100;\n",
      "\n",
      "# Results\n",
      "#math.since F<1;\n",
      "print \"Froud number = %.2f.F<1.Flow is sub-critical\"%(F);\n"
     ],
     "language": "python",
     "metadata": {},
     "outputs": [
      {
       "output_type": "stream",
       "stream": "stdout",
       "text": [
        "Froud number = 0.39.F<1.Flow is sub-critical\n"
       ]
      }
     ],
     "prompt_number": 23
    },
    {
     "cell_type": "heading",
     "level": 2,
     "metadata": {},
     "source": [
      "Example 14.24 pg : 701"
     ]
    },
    {
     "cell_type": "code",
     "collapsed": false,
     "input": [
      "import math \n",
      "\n",
      "#Given\n",
      "B = 3.5;          \t\t\t\t#bottom width of channel\n",
      "n = 0.016;        \t\t\t\t#manning n\n",
      "S = 2.6/10000;    \t\t\t\t#bed slope\n",
      "Q = 8;            \t\t\t\t#discharge\n",
      "lfs = 1;          \t\t\t\t#left side slope\n",
      "rhs = 1.5;        \t\t\t\t#rigth side slope\n",
      "gamma_w = 9.81;   \t\t\t\t#unit weigth of water\n",
      "\n",
      "\n",
      "# Calculations\n",
      "#umath.sing the equation of area and perimeter of trapezoidal section;Manning's formula and V = Q/A we get D as\n",
      "#Manning formula: V = R**(2/3)*S**0.5/n\n",
      "#(D*(3.5+1.25*D))**2.5 = 78.281+71.951*D\n",
      "#solving it by trial and error method;we get\n",
      "D = 1.5;\n",
      "R = (D*(3.5+1.25*D))/(3.5+3.217*D);\n",
      "tau = gamma_w*R*S*1000;\n",
      "tau = round(tau*100)/100;\n",
      "\n",
      "# Results\n",
      "print \"Depth of section = %.2f m.\"%(D);\n",
      "print \"Average shear stress at channel bed = %.2f N/square-mm.\"%(tau);\n"
     ],
     "language": "python",
     "metadata": {},
     "outputs": [
      {
       "output_type": "stream",
       "stream": "stdout",
       "text": [
        "Depth of section = 1.50 m.\n",
        "Average shear stress at channel bed = 2.47 N/square-mm.\n"
       ]
      }
     ],
     "prompt_number": 24
    },
    {
     "cell_type": "heading",
     "level": 2,
     "metadata": {},
     "source": [
      "Example 14.25 pg : 702"
     ]
    },
    {
     "cell_type": "code",
     "collapsed": false,
     "input": [
      "import math \n",
      "\t\t\t\t\n",
      "#Given\n",
      "S = 1./5000;          \t\t\t\t#bed slope\n",
      "B = 40.;              \t\t\t\t#width of channel\n",
      "D = 2.6;             \t\t\t\t#depth of channel\n",
      "d = 0.38;            \t\t\t\t#mean diameter of bed material\n",
      "n = 0.021;           \t\t\t\t#Manning n\n",
      "D65 = 0.64e-3;       \t\t\t\t#bed material size(m)\n",
      "w = 1000.;            \t\t\t\t#density of water\n",
      "\n",
      "# Calculations\n",
      "#B/D as large tau_c = 0.075*d;\n",
      "tau_c = 0.075*d;\n",
      "tau_b = w*D*S;\n",
      "N1 = (D65)**(1./6)/24;\n",
      "r = N1/n;\n",
      "qs = 4700*24*(tau_b*r**1.5-tau_c)**1.5/1000;\n",
      "qs40 = qs*40;\n",
      "\n",
      "# Results\n",
      "print \"bed load transported by the channel  = %i t/m/day.\"%(qs40);\n"
     ],
     "language": "python",
     "metadata": {},
     "outputs": [
      {
       "output_type": "stream",
       "stream": "stdout",
       "text": [
        "bed load transported by the channel  = 411 t/m/day.\n"
       ]
      }
     ],
     "prompt_number": 25
    },
    {
     "cell_type": "heading",
     "level": 2,
     "metadata": {},
     "source": [
      "Example 14.26 pg : 702"
     ]
    },
    {
     "cell_type": "code",
     "collapsed": false,
     "input": [
      "import math \n",
      "\n",
      "#Given\n",
      "Q = 5.;              \t\t\t\t#discharge\n",
      "S = 0.2/1000;       \t\t\t\t#bed slope\n",
      "m = 0.8;            \t\t\t\t#critical velocity ratio\n",
      "s = 1./2;            \t\t\t\t#side slope of chanel\n",
      "C = 30.;\n",
      "#assuming\n",
      "\n",
      "# Calculations\n",
      "D = 1.;\n",
      "Vo = 0.55*m*D**0.64;\n",
      "A = Q/Vo;\n",
      "B = A/D-(s*D);\n",
      "P = B+2.43*D;\n",
      "R = A/P;\n",
      "V = C*(R*S)**0.5;\n",
      "#Vo>V\n",
      "#hence take second trial\n",
      "D = 0.8;     \t\t\t\t#assume\n",
      "Vo = 0.55*m*D**0.64;\n",
      "A = Q/Vo;\n",
      "B = A/D-(s*D);\n",
      "P = B+2.43*D;\n",
      "R = A/P;\n",
      "V = C*(R*S)**0.5;\n",
      "#again Vo>V\n",
      "#hence we take third trial\n",
      "D = 0.7;\n",
      "Vo = 0.55*m*D**0.64;\n",
      "A = Q/Vo;\n",
      "B = A/D+(s*D);\n",
      "P = B+2.43*D;\n",
      "R = A/P;\n",
      "V = C*(R*S)**0.5;\n",
      "B = round(B*100)/100;\n",
      "#Vo is almost equal to V;\n",
      "\n",
      "# Results\n",
      "print \"Width of channel section = %.2f m.\"%(B);\n",
      "print \"Depth of channel section = %.2f m.\"%(D);\n"
     ],
     "language": "python",
     "metadata": {},
     "outputs": [
      {
       "output_type": "stream",
       "stream": "stdout",
       "text": [
        "Width of channel section = 20.75 m.\n",
        "Depth of channel section = 0.70 m.\n"
       ]
      }
     ],
     "prompt_number": 26
    },
    {
     "cell_type": "heading",
     "level": 2,
     "metadata": {},
     "source": [
      "Example 14.27 pg : 703"
     ]
    },
    {
     "cell_type": "code",
     "collapsed": false,
     "input": [
      "import math \n",
      "\n",
      "#design irrigation channel by Kennedy method\n",
      "\n",
      "#Given\n",
      "Q = 50.;          \t\t\t\t#discharge\n",
      "r = 2.5;         \t\t\t\t#B/D ratio\n",
      "m = 1.1;         \t\t\t\t#critical velocity ratio\n",
      "N = 0.025;       \t\t\t\t#rogosity coefficient\n",
      "s = 0.5;         \t\t\t\t#side slope of channel\n",
      "\n",
      "\n",
      "# Calculations\n",
      "#umath.sing the equation of Vo and Q = A*V;we get\n",
      "D = (Q/1.815)**(1/2.64);\n",
      "B = r*D;\n",
      "R = (B*D+0.5*D**2)/(B+2.236*D);\n",
      "Vo = 0.55*m*D**0.64;\n",
      "\n",
      "#applying kutters formula; V = C(RS)**0.5\n",
      "#where C = (23+1/N+0.00155/S)*(R*S)**0.5/(1+(23+0.00155/S)*N/R**0.5);\n",
      "#assuming S**0.5 = y\n",
      "#taking real values of y\n",
      "S = 0.0196171 **2;\n",
      "B = round(B*100)/100;\n",
      "D = round(D*100)/100;\n",
      "\n",
      "# Results\n",
      "print \"Width of channel section = %.2f m.\"%(B);\n",
      "print \"Depth of channel section = %.2f m.\"%(D);\n",
      "print \"Bed slope = %.2e.\"%(S);\n"
     ],
     "language": "python",
     "metadata": {},
     "outputs": [
      {
       "output_type": "stream",
       "stream": "stdout",
       "text": [
        "Width of channel section = 8.78 m.\n",
        "Depth of channel section = 3.51 m.\n",
        "Bed slope = 3.85e-04.\n"
       ]
      }
     ],
     "prompt_number": 27
    },
    {
     "cell_type": "heading",
     "level": 2,
     "metadata": {},
     "source": [
      "Example 14.28 pg : 704"
     ]
    },
    {
     "cell_type": "code",
     "collapsed": false,
     "input": [
      "import math \n",
      "\n",
      "#design a regime channel umath.sing Laecy's theory\n",
      "\t\t\t\t\n",
      "#Given\n",
      "Q = 35;           \t\t\t\t#discharge\n",
      "f = 0.9;          \t\t\t\t#silt factor\n",
      "s = 1./2;          \t\t\t\t#side slope\n",
      "\n",
      "\n",
      "# Calculations\n",
      "V = (Q*f/140)**(1./6);\n",
      "A = Q/V;\n",
      "P = 4.75*Q**0.5;\n",
      "D = (P-(P**2-6.944*A)**0.5)/3.472;\n",
      "B = P-2.236*D;\n",
      "\n",
      "R = 5*V**2/(2*f);\n",
      "S = f**(5./3)/(3340*Q**(1./6));\n",
      "D = round(D*100)/100;\n",
      "\n",
      "# Results\n",
      "print \"Bed slope = %.2e.\"%(S);\n",
      "print \"Width of channel section = %i m.\"%(B);\n",
      "print \"Depth of channel section = %.2f m.\"%(D);\n"
     ],
     "language": "python",
     "metadata": {},
     "outputs": [
      {
       "output_type": "stream",
       "stream": "stdout",
       "text": [
        "Bed slope = 1.39e-04.\n",
        "Width of channel section = 24 m.\n",
        "Depth of channel section = 1.80 m.\n"
       ]
      }
     ],
     "prompt_number": 28
    },
    {
     "cell_type": "heading",
     "level": 2,
     "metadata": {},
     "source": [
      "Example 14.29 pg : 705"
     ]
    },
    {
     "cell_type": "code",
     "collapsed": false,
     "input": [
      "import math \n",
      "from numpy import roots\n",
      "\n",
      "#design an irrigation canal for given data\n",
      "\t\t\t\t\n",
      "#Given\n",
      "Q = 15.;        \t\t\t\t#discharge\n",
      "m = 1.;         \t\t\t\t#critical velocity ratio\n",
      "r = 5.7;       \t\t\t\t#B/D\n",
      "\n",
      "D = (Q/(0.55*6.2))**(1/2.64);\n",
      "B = D*r;\n",
      "R = (B*D+D**2/2)/(B+D*5**0.5);\n",
      "Vo = 0.55*m*D**0.64;\n",
      "#applying kutters formula; V = C(RS)**0.5\n",
      "#where C = (23+1/N+0.00155/S)*(R*S)**0.5/(1+(23+0.00155/S)*N/R**0.5);\n",
      "#assuming S**0.5 = y\n",
      "y = [67.5,-0.968,1.55e-3,-2e-5]\n",
      "d = roots(y)[0];\n",
      "\t\t\t\t#taking real values of y\n",
      "S = d.real**2;\n",
      "B = round(B*100)/100;\n",
      "D = round(D*100)/100;\n",
      "\n",
      "# Results\n",
      "print \"Width of channel section = %.2f m.\"%(B);\n",
      "print \"Depth of channel section = %.2f m.\"%(D);\n",
      "print \"Bed slope = %.2e.\"%(S);\n",
      "\n"
     ],
     "language": "python",
     "metadata": {},
     "outputs": [
      {
       "output_type": "stream",
       "stream": "stdout",
       "text": [
        "Width of channel section = 9.99 m.\n",
        "Depth of channel section = 1.75 m.\n",
        "Bed slope = 2.01e-04.\n"
       ]
      }
     ],
     "prompt_number": 29
    },
    {
     "cell_type": "heading",
     "level": 2,
     "metadata": {},
     "source": [
      "Example 14.30 pg : 705"
     ]
    },
    {
     "cell_type": "code",
     "collapsed": false,
     "input": [
      "import math \n",
      "#Design a section of unlined canal in a loomy soil\n",
      "\t\t\t\t\n",
      "#Given\n",
      "Q = 50.;             \t\t\t\t#discharge\n",
      "V = 1.;              \t\t\t\t#permissible velocity\n",
      "s = 2.;              \t\t\t\t#side slope\n",
      "r = 6.;              \t\t\t\t#B/D ratio\n",
      "N = 0.0225;         \t\t\t\t#rogosity coefficient\n",
      "\n",
      "\n",
      "# Calculations\n",
      "A = Q/V;\n",
      "D = (A/(r+2))**0.5;\n",
      "B = r*D;\n",
      "P = B+2*(5*D**2)**0.5;\n",
      "R = A/P;\n",
      "S = (V*N/R**(2/3))**2;\n",
      "\n",
      "# Results\n",
      "print \"Width of channel section = %i m.\"%(B);\n",
      "print \"Depth of channel section = %.2f m.\"%(D);\n",
      "print \"Bed slope = %.2e.\"%(S);\n"
     ],
     "language": "python",
     "metadata": {},
     "outputs": [
      {
       "output_type": "stream",
       "stream": "stdout",
       "text": [
        "Width of channel section = 15 m.\n",
        "Depth of channel section = 2.50 m.\n",
        "Bed slope = 5.06e-04.\n"
       ]
      }
     ],
     "prompt_number": 30
    },
    {
     "cell_type": "heading",
     "level": 2,
     "metadata": {},
     "source": [
      "Example 14.31 pg : 705"
     ]
    },
    {
     "cell_type": "code",
     "collapsed": false,
     "input": [
      "import math \n",
      "\t\t\t\t\n",
      "#Given\n",
      "gamma_w = 9.81;         \t\t\t\t#unit weigth of water\n",
      "D = 5.;                  \t\t\t\t#depth of channel\n",
      "d = 0.3;                \t\t\t\t#grain size\n",
      "k = 1.5;                \t\t\t\t#size of roughness of channel bed\n",
      "S = 1./4000;             \t\t\t\t#bed slope\n",
      "G = 2.65;              \t\t\t\t#specific gravity\n",
      "V = 0.02;              \t\t\t\t#fall velocity\n",
      "c_ = 1000.;               \t\t\t\t#concentration at 0.3 m above bed\n",
      "a = 0.3;\n",
      "y = 2.5;\n",
      "k_ = 0.4;             \t\t\t\t#van karman's consmath.tant\n",
      "\n",
      "\n",
      "# Calculations\n",
      "R = 5;                \t\t\t\t#R = D for wide channel\n",
      "V_ = (gamma_w*R*S)**0.5;\n",
      "c = c_*((a/y)*(D-y)/(D-a))**(V/(V_*k_));\n",
      "\n",
      "# Results\n",
      "print \"concentration of suspended load = %i ppm.\"%(c);\n"
     ],
     "language": "python",
     "metadata": {},
     "outputs": [
      {
       "output_type": "stream",
       "stream": "stdout",
       "text": [
        "concentration of suspended load = 288 ppm.\n"
       ]
      }
     ],
     "prompt_number": 31
    },
    {
     "cell_type": "heading",
     "level": 2,
     "metadata": {},
     "source": [
      "Example 14.32 pg : 706"
     ]
    },
    {
     "cell_type": "code",
     "collapsed": false,
     "input": [
      "import math \n",
      "\t\t\t\t\n",
      "#Given\n",
      "Q = 40.;        \t\t\t\t#discharge\n",
      "f = 1.;         \t\t\t\t#silt factor\n",
      "\n",
      "\n",
      "# Calculations and Results\n",
      "#Laecey's theory\n",
      "V = (Q*f/140)**(1./6);\n",
      "A = Q/V;\n",
      "P = 4.75*Q**0.5;\n",
      "D = (P-(P**2-6.944*A)**0.5)/3.472;\n",
      "B = P-2.236*D;\n",
      "\n",
      "R = 5*V**2/(2*f);\n",
      "S = f**(5./3)/(3340*Q**(1./6));\n",
      "B = round(B);\n",
      "D = round(D*100)/100;\n",
      "print \"By Laecey theory:\";\n",
      "print \"Bed slope = %.2e.\"%(S);\n",
      "print \"Width of channel section = %.2f m.\"%(B);\n",
      "print \"Depth of channel section = %.2f m.\"%(D);\n",
      "\n",
      "#Kennedy's theory\n",
      "r = B/D;        \n",
      "m = 1.;         \t\t\t\t#critical velocity ratio\n",
      "N = 0.0225;   \t\t\t\t#rogosity coefficient\n",
      "#umath.sing equation of area of trapezoidal section;Vo = 0.55mD**0.64 and Q = A*Vo\n",
      "\n",
      "D = (Q/8.058)**(1/2.64);\n",
      "B = r*D;\n",
      "B = round(B);\n",
      "D = round(D*100)/100;\n",
      "print \"By Kennedy theory:\";\n",
      "print \"Width of channel section = %.2f m.\"%(B);\n",
      "print \"Depth of channel section = %.2f m.\"%(D);\n",
      "\n"
     ],
     "language": "python",
     "metadata": {},
     "outputs": [
      {
       "output_type": "stream",
       "stream": "stdout",
       "text": [
        "By Laecey theory:\n",
        "Bed slope = 1.62e-04.\n",
        "Width of channel section = 26.00 m.\n",
        "Depth of channel section = 1.84 m.\n",
        "By Kennedy theory:\n",
        "Width of channel section = 26.00 m.\n",
        "Depth of channel section = 1.83 m.\n"
       ]
      }
     ],
     "prompt_number": 32
    },
    {
     "cell_type": "heading",
     "level": 2,
     "metadata": {},
     "source": [
      "Example 14.33 pg : 707"
     ]
    },
    {
     "cell_type": "code",
     "collapsed": false,
     "input": [
      "import math \n",
      "#design Laecey regime channel\n",
      "\t\t\t\t\n",
      "#Given\n",
      "A = 100000.;            \t\t\t\t#culturable area(hectare)\n",
      "IR = 0.4;              \t\t\t\t#intensity of irrigation in kharif season\n",
      "IK = 0.3;              \t\t\t\t#intensity of irrigation in rabi season\n",
      "OR = 1800.;             \t\t\t\t#outlet discharge factor in kharif season\n",
      "OK = 800.;              \t\t\t\t#outlet discharge factor in kharif season\n",
      "l = 0.1;              \t\t\t\t#conveyance loss\n",
      "md = 0.328;            \t\t\t\t#average diameter of material\n",
      "\n",
      "# Calculations\n",
      "AR = A*IR;           \t\t\t\t#area under rabi\n",
      "AK = A*IK;           \t\t\t\t#area under kharif  \n",
      "Qr = AR/OR;\n",
      "Qk = AK/OK;\n",
      "Q = 1.1*Qk;\n",
      "f = 1.76*(md)**0.5;\n",
      "V = (Q*f**2/144)**(1./6);\n",
      "A = Q/V;\n",
      "P = 4.75*(Q)**0.5;\n",
      "D = (P-(P**2-6.944*A)**0.5)/3.472;\n",
      "B = P-2.236*D;\n",
      "S = f**(5/3)/(3340*Q**(1./6));\n",
      "B = round(B*10)/10;\n",
      "D = round(D*100)/100;\n",
      "\n",
      "# Results\n",
      "print \"Bed slope = %.2e.\"%(S);\n",
      "print \"Width of channel section = %.2f m.\"%(B);\n",
      "print \"Depth of channel section = %.2f m.\"%(D);\n"
     ],
     "language": "python",
     "metadata": {},
     "outputs": [
      {
       "output_type": "stream",
       "stream": "stdout",
       "text": [
        "Bed slope = 1.62e-04.\n",
        "Width of channel section = 26.40 m.\n",
        "Depth of channel section = 1.86 m.\n"
       ]
      }
     ],
     "prompt_number": 33
    },
    {
     "cell_type": "heading",
     "level": 2,
     "metadata": {},
     "source": [
      "Example 14.34 pg : 707"
     ]
    },
    {
     "cell_type": "code",
     "collapsed": false,
     "input": [
      "import math \n",
      "\t\t\t\t\n",
      "#Given\n",
      "D = 2.8;         \t\t\t\t#depth of flow\n",
      "c_ = 700;        \t\t\t\t#concentration at 30 cm below water surface\n",
      "y = 0.1;\n",
      "a = D-0.3;\n",
      "e = 0.4;         \t\t\t\t#exponent in rouse equation;\n",
      "\n",
      "# Calculations\n",
      "c = c_*(a*(D-y)/(y*(D-a)))**e;\n",
      "\n",
      "# Results\n",
      "print \"concentration at point 10 cm above the bed = %i ppm.\"%(c);\n"
     ],
     "language": "python",
     "metadata": {},
     "outputs": [
      {
       "output_type": "stream",
       "stream": "stdout",
       "text": [
        "concentration at point 10 cm above the bed = 6109 ppm.\n"
       ]
      }
     ],
     "prompt_number": 34
    },
    {
     "cell_type": "heading",
     "level": 2,
     "metadata": {},
     "source": [
      "Example 14.35 pg : 708"
     ]
    },
    {
     "cell_type": "code",
     "collapsed": false,
     "input": [
      "import math \n",
      "#design the distributory umath.sing Laecey theory\n",
      "\t\t\t\t\n",
      "#Given\n",
      "f = 0.85;           \t\t\t\t#silt factor\n",
      "AR = 3600.;          \t\t\t\t#area for rabi\n",
      "AK = 1400.;          \t\t\t\t#area for kharif\n",
      "delta_r = 0.135;    \t\t\t\t#kor depth for rabi\n",
      "delta_k = 0.19;     \t\t\t\t#kor depth for kharif\n",
      "tr = 4.;             \t\t\t\t#kor period for rabi\n",
      "tk = 2.5;           \t\t\t\t#kor period for kharif\n",
      "\n",
      "# Calculations\n",
      "Du_r = 8.64*tr*7/delta_r;     \t\t\t\t#duty for rabi\n",
      "Du_k = 8.64*tk*7/delta_k;    \t\t\t\t#duty for kharif\n",
      "q_r = AR/Du_r;               \t\t\t\t#discharge for rabi\n",
      "q_k = AK/Du_k;               \t\t\t\t#discharge for kharif\n",
      "Q = q_r;                   \t\t\t\t#math.since q_r>q_k\n",
      "V = (Q*f**2/144)**(1./6);\n",
      "A = Q/V;\n",
      "P = 4.75*(Q)**0.5;\n",
      "D = (P-(P**2-6.944*A)**0.5)/3.472;\n",
      "S = f**(5./3)/(3340*Q**(1./6));\n",
      "P = round(P*100)/100;\n",
      "D = round(D*100)/100;\n",
      "\n",
      "# Results\n",
      "print \"Bed slope = %.2e.\"%(S);\n",
      "print \"Perimeter of channel section = %.2f m.\"%(P);\n",
      "print \"Depth of channel section = %.2f m.\"%(D);\n"
     ],
     "language": "python",
     "metadata": {},
     "outputs": [
      {
       "output_type": "stream",
       "stream": "stdout",
       "text": [
        "Bed slope = 2.03e-04.\n",
        "Perimeter of channel section = 6.73 m.\n",
        "Depth of channel section = 0.81 m.\n"
       ]
      }
     ],
     "prompt_number": 35
    }
   ],
   "metadata": {}
  }
 ]
}