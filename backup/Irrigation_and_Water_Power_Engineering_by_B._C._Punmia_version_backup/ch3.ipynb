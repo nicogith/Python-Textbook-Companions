{
 "metadata": {
  "name": "",
  "signature": "sha256:fb46725fd841b00338dce4327765570824d962464729228190009d6ed499fe86"
 },
 "nbformat": 3,
 "nbformat_minor": 0,
 "worksheets": [
  {
   "cells": [
    {
     "cell_type": "heading",
     "level": 1,
     "metadata": {},
     "source": [
      "Chapter 3 : WATER REQUIREMENTS OF CROPS"
     ]
    },
    {
     "cell_type": "heading",
     "level": 2,
     "metadata": {},
     "source": [
      "Example 3.1 pg : 44"
     ]
    },
    {
     "cell_type": "code",
     "collapsed": false,
     "input": [
      "\n",
      "\n",
      "#Given\n",
      "Na = 24.;                                         \t\t\t\t#concentration of sodium ion\n",
      "Ca = 3.6;                                        \t\t\t\t#concentration of calcium ion\n",
      "Mg = 2.;                                         \t\t\t\t#concentration of magnesium ion\n",
      "EC = 180.;                                       \t\t\t\t#electrical conductivity\n",
      "\n",
      "# Calculations\n",
      "SAR = Na/(((Ca+Mg)/2)**(0.5));                   \t\t\t\t#Sodium absorption ratio\n",
      "SAR = round(SAR*100)/100;\n",
      "\n",
      "# Results\n",
      "print \"SAR = %.2f.\"%(SAR);\n",
      "print \"Water falls under S2 class.\";    \t\t\t\t#from table 3.2\n",
      "print \"For EC = 180\";\n",
      "print \"water falls under C1 class.\";    \t\t\t\t#from table 3.1\n",
      "print \"Water is medium sodium and low saline water.\";\n"
     ],
     "language": "python",
     "metadata": {},
     "outputs": [
      {
       "output_type": "stream",
       "stream": "stdout",
       "text": [
        "SAR = 14.34.\n",
        "Water falls under S2 class.\n",
        "For EC = 180\n",
        "water falls under C1 class.\n",
        "Water is medium sodium and low saline water.\n"
       ]
      }
     ],
     "prompt_number": 1
    },
    {
     "cell_type": "heading",
     "level": 2,
     "metadata": {},
     "source": [
      "Example 3.2 pg : 52"
     ]
    },
    {
     "cell_type": "code",
     "collapsed": false,
     "input": [
      "\n",
      "#Given\n",
      "gammad = 15.;        \t\t\t\t#dry weigth of soil\n",
      "gammaw = 9.81;      \t\t\t\t#unit weigth of water\n",
      "Fc = 0.3;           \t\t\t\t#field capacity\n",
      "pwp = 0.08;         \t\t\t\t#permanent wilting point\n",
      "d = 0.8;            \t\t\t\t#root zone depth\n",
      "\n",
      "# Calculations\n",
      "d1 = gammad*Fc*1000/gammaw;\n",
      "d2 = gammad*pwp*1000/gammaw;\n",
      "d3 = gammad*d*(Fc-pwp)*1000/gammaw;\n",
      "\n",
      "# Results\n",
      "print \"Depth of moisture in root zone at field capacity = %.f mm/m.\"%(d1);\n",
      "print \"Depth of moisture in root zone at permanent wilting point = %.f mm/m.\"%(d2);\n",
      "print \"Depth of moisture available in root zone = %.f mm/m.\"%(d3);\n"
     ],
     "language": "python",
     "metadata": {},
     "outputs": [
      {
       "output_type": "stream",
       "stream": "stdout",
       "text": [
        "Depth of moisture in root zone at field capacity = 459 mm/m.\n",
        "Depth of moisture in root zone at permanent wilting point = 122 mm/m.\n",
        "Depth of moisture available in root zone = 269 mm/m.\n"
       ]
      }
     ],
     "prompt_number": 2
    },
    {
     "cell_type": "heading",
     "level": 2,
     "metadata": {},
     "source": [
      "Example 3.3 pg : 52"
     ]
    },
    {
     "cell_type": "code",
     "collapsed": false,
     "input": [
      "\n",
      "\n",
      "#Given\n",
      "gammad = 15.3;      \t\t\t\t#dry weigth of soil\n",
      "gammaw = 9.81;      \t\t\t\t#unit weigth of water\n",
      "Fc = 0.15;          \t\t\t\t#field capacity\n",
      "Mc = 0.08;          \t\t\t\t#moisture content before irrigation\n",
      "D = 60.;             \t\t\t\t#Depth of water applied\n",
      "\n",
      "# Calculations\n",
      "d = (gammaw*D)/(gammad*(Fc-Mc));\n",
      "\n",
      "# Results\n",
      "print \"Depth upto which soil profile is wetted = %.f mm.\"%(d);\n"
     ],
     "language": "python",
     "metadata": {},
     "outputs": [
      {
       "output_type": "stream",
       "stream": "stdout",
       "text": [
        "Depth upto which soil profile is wetted = 550 mm.\n"
       ]
      }
     ],
     "prompt_number": 3
    },
    {
     "cell_type": "heading",
     "level": 2,
     "metadata": {},
     "source": [
      "Example 3.4 pg :53"
     ]
    },
    {
     "cell_type": "code",
     "collapsed": false,
     "input": [
      "\n",
      "\n",
      "#Given\n",
      "Sg = 1.6;    \t\t\t\t#Apparent specific gravity\n",
      "Fc = 0.2;        \t\t\t\t#Field capacity\n",
      "M1 = 150.;        \t\t\t\t#mass of sample soil\n",
      "M2 = 136.;        \t\t\t\t#mass of sample after drying\n",
      "d = 0.9;         \t\t\t\t#depth of soil to be irrigated\n",
      "\n",
      "# Calculations\n",
      "Mc = (M1-M2)/M2;\n",
      "D = Sg*d*1000*(Fc-Mc);\n",
      "\n",
      "# Results\n",
      "print \"Depth of water required to irrigate the soil = %.f mm.\"%(D);\n"
     ],
     "language": "python",
     "metadata": {},
     "outputs": [
      {
       "output_type": "stream",
       "stream": "stdout",
       "text": [
        "Depth of water required to irrigate the soil = 140 mm.\n"
       ]
      }
     ],
     "prompt_number": 4
    },
    {
     "cell_type": "heading",
     "level": 2,
     "metadata": {},
     "source": [
      "Example 3.5 pg : 53"
     ]
    },
    {
     "cell_type": "code",
     "collapsed": false,
     "input": [
      "\t\t\t\t\n",
      "\n",
      "#Given\n",
      "d = 2.;            \t\t\t\t#root zone depth\n",
      "Wc = 0.05;        \t\t\t\t#existing water content\n",
      "gammad = 15;      \t\t\t\t#dry density of soil\n",
      "gammaw = 9.81;    \t\t\t\t#unit weigth of water\n",
      "Vw = 500.          \t\t\t\t#water applied to the soil\n",
      "Wl = 0.1;         \t\t\t\t#water loss\n",
      "A = 1000.;         \t\t\t\t#area of plot\n",
      "\n",
      "# Calculations\n",
      "Vu = Vw*0.9;      \t\t\t\t#volume of water used in soil  \n",
      "Wu = Vu*gammaw;   \t\t\t\t#weigth of water used in soil\n",
      "Ws = A*d*gammad;  \t\t\t\t#total dry weigth of soil\n",
      "Wa = Wu*100/Ws;   \t\t\t\t#percent water added\n",
      "Fc = Wc*100+Wa;   \n",
      "Fc = round(Fc*100)/100;\n",
      "\n",
      "# Results\n",
      "print \"The Field Capacity of soil is = %.2f percent.\"%(Fc);\n"
     ],
     "language": "python",
     "metadata": {},
     "outputs": [
      {
       "output_type": "stream",
       "stream": "stdout",
       "text": [
        "The Field Capacity of soil is = 19.72 percent.\n"
       ]
      }
     ],
     "prompt_number": 5
    },
    {
     "cell_type": "heading",
     "level": 2,
     "metadata": {},
     "source": [
      "Example 3.6 pg : 53"
     ]
    },
    {
     "cell_type": "code",
     "collapsed": false,
     "input": [
      "\t\t\t\t\n",
      "#Given\n",
      "Fc = 0.22;                                             \t\t\t\t#Field Capacity\n",
      "wc = 0.1;                                             \t\t\t\t#wilting coefficient\n",
      "gammad = 15.;                                          \t\t\t\t#dry unit weigth of soil\n",
      "gammaw = 9.81;                                        \t\t\t\t#unit wiegth of water\n",
      "d = 0.7;                                              \t\t\t\t#root zone depth\n",
      "w = 0.14;                                            \t\t\t\t#falled moisture content\n",
      "E = 0.75;                                           \t\t\t\t#water application efficiency\n",
      "\n",
      "# Calculations\n",
      "SC = gammad*d*(Fc-wc)*100/gammaw;\n",
      "D = gammad*d*(Fc-w)*1000/gammaw;\n",
      "FIR = D/E;                                         \t\t\t\t#Field irrigation requirement\n",
      "SC = round(SC*10)/10;\n",
      "D = round(D);\n",
      "FIR = round(FIR)+1;\n",
      "\n",
      "# Results\n",
      "print \"Maximum storage capacity of soil = %.2f cm.\"%(SC);\n",
      "print \"Water depth required to be applied = %.2f mm\"%(D);\n",
      "print \"Field Irrigation Requirement = %.2f mm\"%(FIR);\n"
     ],
     "language": "python",
     "metadata": {},
     "outputs": [
      {
       "output_type": "stream",
       "stream": "stdout",
       "text": [
        "Maximum storage capacity of soil = 12.80 cm.\n",
        "Water depth required to be applied = 86.00 mm\n",
        "Field Irrigation Requirement = 115.00 mm\n"
       ]
      }
     ],
     "prompt_number": 6
    },
    {
     "cell_type": "heading",
     "level": 2,
     "metadata": {},
     "source": [
      "Example 3.7 pg : 55"
     ]
    },
    {
     "cell_type": "code",
     "collapsed": false,
     "input": [
      "\t\t\t\t\n",
      "#Given\n",
      "Fc = 0.27;           \t\t\t\t#Field capacity\n",
      "pwp = 0.14;         \t\t\t\t#permanent wilting point\n",
      "gammad = 15.;        \t\t\t\t#dry density of soil\n",
      "gammaw = 9.81;      \t\t\t\t#unit weigth of water\n",
      "d = 0.75;          \t\t\t\t#effective depth of root zone\n",
      "Du = 11.;          \t\t\t\t#daily consumptive use of water\n",
      "\n",
      "# Calculations\n",
      "Am = Fc-pwp;      \t\t\t\t#Available moisture\n",
      "#let readily available moisture be 80 percent of available moisture\n",
      "RAm = 0.8*Am;\n",
      "Mo = Fc-RAm;\n",
      "D = gammad*d*(Fc-Mo)*100/gammaw;\n",
      "WF = D*10/Du;\n",
      "\n",
      "# Results\n",
      "print \"Watering Frequency = %i days.\"%(WF);\n"
     ],
     "language": "python",
     "metadata": {},
     "outputs": [
      {
       "output_type": "stream",
       "stream": "stdout",
       "text": [
        "Watering Frequency = 10 days.\n"
       ]
      }
     ],
     "prompt_number": 7
    },
    {
     "cell_type": "heading",
     "level": 2,
     "metadata": {},
     "source": [
      "Example 3.8 pg : 56"
     ]
    },
    {
     "cell_type": "code",
     "collapsed": false,
     "input": [
      "\t\t\t\t\n",
      "#Given\n",
      "Fc = 0.22;     \t\t\t\t#Field capacity\n",
      "Sg = 1.56;     \t\t\t\t#Apparent specific gravity\n",
      "d = 0.6;       \t\t\t\t#root zone depth\n",
      "#irrigation is started when 70 percent of moisture is used\n",
      "l = 250.;        \t\t\t\t#length of field\n",
      "b = 40.;         \t\t\t\t#width of field\n",
      "q = 20.;         \t\t\t\t#Discharge\n",
      "\n",
      "# Calculations\n",
      "m = (1-0.7)*Fc;\n",
      "D = Sg*d*(Fc-m)*1000;\n",
      "A = l*b;\n",
      "t = A*D/(q*3600);\n",
      "D = round(D);\n",
      "t = round(t);\n",
      "\n",
      "# Results\n",
      "print \"Net depth of irrigation water required = %.2f mm.\"%(D);\n",
      "print \"Time required to irrigate field = %.2f hours.\"%(t);\n"
     ],
     "language": "python",
     "metadata": {},
     "outputs": [
      {
       "output_type": "stream",
       "stream": "stdout",
       "text": [
        "Net depth of irrigation water required = 144.00 mm.\n",
        "Time required to irrigate field = 20.00 hours.\n"
       ]
      }
     ],
     "prompt_number": 8
    },
    {
     "cell_type": "heading",
     "level": 2,
     "metadata": {},
     "source": [
      "Example 3.9 pg : 64"
     ]
    },
    {
     "cell_type": "code",
     "collapsed": false,
     "input": [
      "\t\t\t\t\n",
      "#Given\n",
      "B = 110.;     \t\t\t\t#Base period\n",
      "D = 1400.;    \t\t\t\t#Duty of water\n",
      "\n",
      "# Calculations\n",
      "delta = 8.64*B*100/D;\n",
      "delta = round(delta);\n",
      "\n",
      "# Results\n",
      "print \"Delta for crop is = %.2f cm.\"%(delta);\n"
     ],
     "language": "python",
     "metadata": {},
     "outputs": [
      {
       "output_type": "stream",
       "stream": "stdout",
       "text": [
        "Delta for crop is = 68.00 cm.\n"
       ]
      }
     ],
     "prompt_number": 9
    },
    {
     "cell_type": "heading",
     "level": 2,
     "metadata": {},
     "source": [
      "Example 3.10 pg : 64"
     ]
    },
    {
     "cell_type": "code",
     "collapsed": false,
     "input": [
      "\t\t\t\t\n",
      "#Given\n",
      "B = 120.;      \t\t\t\t#Base period\n",
      "delta = 92.;   \t\t\t\t#total depth requirement of crop\n",
      "\n",
      "# Calculations\n",
      "D = 8.64*B*100/delta;\n",
      "\n",
      "# Results\n",
      "print \"Duty of water = %.2f hectares/cumec.\"%(D);\n"
     ],
     "language": "python",
     "metadata": {},
     "outputs": [
      {
       "output_type": "stream",
       "stream": "stdout",
       "text": [
        "Duty of water = 1126.96 hectares/cumec.\n"
       ]
      }
     ],
     "prompt_number": 10
    },
    {
     "cell_type": "heading",
     "level": 2,
     "metadata": {},
     "source": [
      "Example 3.11 pg : 65"
     ]
    },
    {
     "cell_type": "code",
     "collapsed": false,
     "input": [
      "\t\t\t\t\n",
      "#Given\n",
      "Cr = 2.;            \t\t\t\t#crop ratio\n",
      "A = 80000.;         \t\t\t\t#Area of field\n",
      "CI = 85.;           \t\t\t\t#percent field culturable irrigable\n",
      "IK = 30.;           \t\t\t\t#irrigation intensity during kharif season\n",
      "IR = 60.;           \t\t\t\t#irrigation intensity for rabi season\n",
      "DuK = 800.;           \t\t\t\t#Duty of water for kharif season\n",
      "DuR = 1700.;          \t\t\t\t#Duty of water for rabi season\n",
      "\n",
      "# Calculations\n",
      "CIA = A*CI/100;    \t\t\t\t#Culturable irrigable area\n",
      "AK = CIA*IK/100;   \t\t\t\t#Area under kharif season\n",
      "AR = CIA*IR/100;   \t\t\t\t#Area under rabi season\n",
      "DK = AK/DuK;\n",
      "DR = AR/DuR;\n",
      "\n",
      "\n",
      "# Results\n",
      "print \"Dischage required at head of canal during Kharif season = %.2f cumecs.\"%(DK);\n",
      "print \"Dischage required at head of canal during Rabi season = %.2f cumecs.\"%(DR);\n",
      "print \"Water requirement during kharif is greater than during rabi season\";\n",
      "print \"Hence,canal should be designed to carry discharge of %.2f cumecs.\"%(DK);\n"
     ],
     "language": "python",
     "metadata": {},
     "outputs": [
      {
       "output_type": "stream",
       "stream": "stdout",
       "text": [
        "Dischage required at head of canal during Kharif season = 25.50 cumecs.\n",
        "Dischage required at head of canal during Rabi season = 24.00 cumecs.\n",
        "Water requirement during kharif is greater than during rabi season\n",
        "Hence,canal should be designed to carry discharge of 25.50 cumecs.\n"
       ]
      }
     ],
     "prompt_number": 11
    },
    {
     "cell_type": "heading",
     "level": 2,
     "metadata": {},
     "source": [
      "Example 3.12 pg : 65"
     ]
    },
    {
     "cell_type": "code",
     "collapsed": false,
     "input": [
      "\n",
      "#Given\n",
      "CA = 2600.;       \t\t\t\t#culturable area\n",
      "IS = 20.;         \t\t\t\t#irrigation intensity for sugarcane\n",
      "IR = 40.;         \t\t\t\t#irrigation intensity for rice\n",
      "DuS = 750.;         \t\t\t\t#Duty of water for sugarcane\n",
      "DuR = 1800.;        \t\t\t\t#Duty of water for rice\n",
      "PK = 1.2;          \t\t\t\t#Peak demand\n",
      "\n",
      "# Calculations\n",
      "AS = CA*IS/100;     \t\t\t\t#Area under sugarcane  \n",
      "AR = CA*IR/100;     \t\t\t\t#Area under rice\n",
      "DS = AS/DuS;\n",
      "DR = AR/DuR;\n",
      "DT = DS+DR;\n",
      "DD = PK*DT-0.005333+0.01;\n",
      "DR = round(DR*1000)/1000;\n",
      "DT = round(DT*1000)/1000;\n",
      "\n",
      "# Results\n",
      "print \"Water required for Rice = %.2f cumecs.\"%(DR);\n",
      "print \" Sugarcane is a perennial crop.\";\n",
      "print \"Hence,Water required for Sugarcane = %.2f cumecs.\"%(DT);\n",
      "print \"Design dischage to meet the peak demand = %.2f cumecs.\"%(DD);\n"
     ],
     "language": "python",
     "metadata": {},
     "outputs": [
      {
       "output_type": "stream",
       "stream": "stdout",
       "text": [
        "Water required for Rice = 0.58 cumecs.\n",
        " Sugarcane is a perennial crop.\n",
        "Hence,Water required for Sugarcane = 1.27 cumecs.\n",
        "Design dischage to meet the peak demand = 1.53 cumecs.\n"
       ]
      }
     ],
     "prompt_number": 12
    },
    {
     "cell_type": "heading",
     "level": 2,
     "metadata": {},
     "source": [
      "Example 3.13 pg : 66"
     ]
    },
    {
     "cell_type": "code",
     "collapsed": false,
     "input": [
      "\t\t\t\t\n",
      "#Given\n",
      "ql = 20.;          \t\t\t\t#discharge in left branch\n",
      "Al = 20000.;       \t\t\t\t#culturable area in left branch\n",
      "Bl = 120.;         \t\t\t\t#Base period in left branch\n",
      "Il = 0.8;         \t\t\t\t#intensity of rabi in left branch\n",
      "qr = 8.;           \t\t\t\t#discharge in rigth branch\n",
      "Ar = 12000.;       \t\t\t\t#culturable area in rigth branch\n",
      "Br = 120.;         \t\t\t\t#Base period in rigth branch\n",
      "Ir = 0.5;         \t\t\t\t#intensity of rabi in rigth branch\n",
      "\n",
      "# Calculations and Results\n",
      "#for left canal\n",
      "ARl = Al*Il;\n",
      "Dl = ARl/ql;\n",
      "print \"Duty for left canal is = %i hectares/cumecs.\"%(Dl);\n",
      "\n",
      "#for rigth canal\n",
      "ARr = Ar*Ir;\n",
      "Dr = ARr/qr;\n",
      "print \"Duty for left canal is = %i hectares/cumecs.\"%(Dr);\n",
      "print \"Since,left canal has higher duty,it is more efficient\";\n",
      "\n"
     ],
     "language": "python",
     "metadata": {},
     "outputs": [
      {
       "output_type": "stream",
       "stream": "stdout",
       "text": [
        "Duty for left canal is = 800 hectares/cumecs.\n",
        "Duty for left canal is = 750 hectares/cumecs.\n",
        "Since,left canal has higher duty,it is more efficient\n"
       ]
      }
     ],
     "prompt_number": 13
    },
    {
     "cell_type": "heading",
     "level": 2,
     "metadata": {},
     "source": [
      "Example 3.14 pg : 66"
     ]
    },
    {
     "cell_type": "code",
     "collapsed": false,
     "input": [
      "\n",
      "#Given\n",
      "CA = 1200.;        \t\t\t\t#culturable area\n",
      "IA = 0.4;          \t\t\t\t#intensity of irrigation of crop A\n",
      "IB = 0.35;         \t\t\t\t#intensity of irrigation of crop B\n",
      "bA = 20.;           \t\t\t\t#kor period of crop A\n",
      "bB = 15.;           \t\t\t\t#kor period of crop B\n",
      "deltaA = 0.1;          \t\t\t\t#kor depth of crop A\n",
      "deltaB = 0.16;          \t\t\t\t#kor depth of crop B\n",
      "\n",
      "# Calculations and Results\n",
      "#crop A\n",
      "A = CA*IA;\n",
      "Du = 8.64*bA/deltaA;\n",
      "qA = A/Du;\n",
      "qA = round(qA*1000)/1000;\n",
      "print \"Discharge required for crop A = %.2f cumec.\"%(qA);\n",
      "\n",
      "#crop B\n",
      "A = CA*IB;\n",
      "Du = 8.64*bB/deltaB;\n",
      "qB = A/Du;\n",
      "qB = round(qB*1000)/1000;\n",
      "print \"Discharge required for crop B = %.2f cumec.\"%(qB);\n",
      "D = qA+qB;\n",
      "D = round(D*10)/10;\n",
      "print \"Design discharge of water course = %.2f cumec.\"%(D);\n"
     ],
     "language": "python",
     "metadata": {},
     "outputs": [
      {
       "output_type": "stream",
       "stream": "stdout",
       "text": [
        "Discharge required for crop A = 0.28 cumec.\n",
        "Discharge required for crop B = 0.52 cumec.\n",
        "Design discharge of water course = 0.80 cumec.\n"
       ]
      }
     ],
     "prompt_number": 14
    },
    {
     "cell_type": "heading",
     "level": 2,
     "metadata": {},
     "source": [
      "Example 3.15 pg : 67"
     ]
    },
    {
     "cell_type": "code",
     "collapsed": false,
     "input": [
      "\t\t\t\n",
      "#Given\n",
      "B = 12.;         \t\t\t\t#transplantaion period\n",
      "D = 0.5;        \t\t\t\t#total depth of water required by the crop\n",
      "R = 0.1;        \t\t\t\t#rain falling on field\n",
      "L = 0.2;        \t\t\t\t#loss of water\n",
      "A = 600.;        \t\t\t\t#irrigated area\n",
      "I = 0.6;        \t\t\t\t#intensity of irrigation\n",
      "delta = D-R;\n",
      "Dui = 8.64*B/delta;\n",
      "\n",
      "# Calculations and Results\n",
      "#math.since water loss is 20 percent\n",
      "Du = (1-L)*Dui;\n",
      "print \"Duty of water required = %.2f hectares/cumec.\"%(Du);\n",
      "\n",
      "TA = I*A;\n",
      "q = TA/Du;\n",
      "q = round(q*100)/100;\n",
      "print \"Discharge at head of water course = %.2f cumecs.\"%(q);\n"
     ],
     "language": "python",
     "metadata": {},
     "outputs": [
      {
       "output_type": "stream",
       "stream": "stdout",
       "text": [
        "Duty of water required = 207.36 hectares/cumec.\n",
        "Discharge at head of water course = 1.74 cumecs.\n"
       ]
      }
     ],
     "prompt_number": 15
    },
    {
     "cell_type": "heading",
     "level": 2,
     "metadata": {},
     "source": [
      "Example 3.16 pg : 67"
     ]
    },
    {
     "cell_type": "code",
     "collapsed": false,
     "input": [
      "import math \n",
      "\n",
      "#Given\n",
      "CF = 0.8;                        \t\t\t\t#Capacity factory\n",
      "Tf = 13./20;                      \t\t\t\t#time factor\n",
      "A = [850., 120., 600., 500., 360.];      \t\t\t\t\n",
      "#Given values of area\n",
      "B = [320., 90., 120., 120., 120.];       \t\t\t\t\n",
      "#Given values of Base period\n",
      "D = [580., 580., 1600. ,2000., 600.];    \t\t\t\t\n",
      "#Given values of duty at head canal\n",
      "\n",
      "# Calculations and Results\n",
      "DS = A[0]/D[0];                 \t\t\t\t#discharge for sugarcane \n",
      "DOS = A[1]/D[1];                \t\t\t\t#discharge for overlap sugarcane\n",
      "DW = A[2]/D[2];                 \t\t\t\t#discharge for wheat\n",
      "DB = A[3]/D[3];                 \t\t\t\t#discharge for bajri\n",
      "DV = A[4]/D[4];                 \t\t\t\t#discharge for vegetables\n",
      "DR = DS+DW;\n",
      "DM = DS+DB;\n",
      "DH = DS+DOS+DV;\n",
      "print \"Maximum demand is in hot weather\";\n",
      "q = DH/Tf;\n",
      "D = q/CF;\n",
      "q = round(1000*q)/1000;\n",
      "D = round(100*D)/100;\n",
      "print \"Full supply discharge at head = %.2f cumecs\"%(q);\n",
      "print \"Design discharge = %.2f cumecs.\"%(D);\n"
     ],
     "language": "python",
     "metadata": {},
     "outputs": [
      {
       "output_type": "stream",
       "stream": "stdout",
       "text": [
        "Maximum demand is in hot weather\n",
        "Full supply discharge at head = 3.50 cumecs\n",
        "Design discharge = 4.37 cumecs.\n"
       ]
      }
     ],
     "prompt_number": 16
    },
    {
     "cell_type": "heading",
     "level": 2,
     "metadata": {},
     "source": [
      "Example 3.17 pg : 68"
     ]
    },
    {
     "cell_type": "code",
     "collapsed": false,
     "input": [
      "import math \n",
      "from numpy import zeros\n",
      "\n",
      "#Given\n",
      "CL = 0.2;                   \t\t\t\t#Canal loss\n",
      "RL = 0.12;                  \t\t\t\t#Reservior loss\n",
      "A = [4800., 5600., 2400., 3200., 1400];     \t\t\t\t\n",
      "#Given values of area under crop\n",
      "D = [1800., 800., 1400., 900., 700];     \t\t\t\t\n",
      "#Given values of duty at field\n",
      "B = [120., 360., 200., 120., 120];       \t\t\t\t\n",
      "#Given values of base period\n",
      "\n",
      "# Calculations and Results\n",
      "#(a) Wheat\n",
      "d = A[0]/D[0];\n",
      "V1 = d*B[0];\n",
      "#(b) Sugarcane\n",
      "d = A[1]/D[1];\n",
      "V2 = d*B[1];\n",
      "#(c) Cotton\n",
      "d = A[2]/D[2];\n",
      "V3 = round(d*B[2]);\n",
      "#(d) Rice\n",
      "d = A[3]/D[3];\n",
      "V4 = round(d*B[3]);\n",
      "#(e) vegetables\n",
      "d = A[4]/D[4];\n",
      "V5 = d*B[4];\n",
      "\n",
      "Vd = (V1+V2+V3+V4+V5)*8.64;\n",
      "SC = Vd/((1-CL)*(1-RL));\n",
      "print \"Reservior capacity = %.2f hectare-metres.\"%(SC);\n",
      "\n",
      "#Alternative method\n",
      "delta = zeros(5)\n",
      "for i in range(5):\n",
      "    delta[i] = 8.64*B[i]/D[i];\n",
      "V = zeros(5)\n",
      "for j in range(5):\n",
      "    V[j] = A[j]*delta[j];\n",
      "\n",
      "s = 0;\n",
      "for k in range(5):\n",
      "    s = s+V[k];\n",
      "\n",
      "SC = s/((1-CL)*(1-RL));\n",
      "\n",
      "print \" By Alternative method.Storage capacity = %.f hectare-metres.\"%(SC);\n"
     ],
     "language": "python",
     "metadata": {},
     "outputs": [
      {
       "output_type": "stream",
       "stream": "stdout",
       "text": [
        "Reservior capacity = 47250.00 hectare-metres.\n",
        " By Alternative method.Storage capacity = 47244 hectare-metres.\n"
       ]
      }
     ],
     "prompt_number": 17
    },
    {
     "cell_type": "heading",
     "level": 2,
     "metadata": {},
     "source": [
      "Example 3.18 pg : 82"
     ]
    },
    {
     "cell_type": "code",
     "collapsed": false,
     "input": [
      "import math \n",
      "from numpy import zeros\n",
      "\t\t\t\t\n",
      "#Given\n",
      "eita = 0.7;        \t\t\t\t#water application efficiency\n",
      "k = 0.75;          \t\t\t\t#crop factor\n",
      "T = [19., 16., 12.,.5, 13.];   \t\t\t\t\n",
      "#Given values of temperature\n",
      "p = [7.19 ,7.15, 7.30, 7.03];  \t\t\t\t#daytime hours of the year\n",
      "RD = 1.2;              \t\t\t\t#rainfall in december\n",
      "RJ = 0.8;              \t\t\t\t#rainfall in january\n",
      "\n",
      "f = zeros(4)\n",
      "for i in range(4):\n",
      "    f[i] = p[i]*(1.8*T[i]+32)/40;\n",
      "\n",
      "s = 0;\n",
      "for i in range(4): \n",
      "    s = s+f[i];\n",
      "\n",
      "C = k*s;\n",
      "R = RD+RJ;\n",
      "CIR = C-R;\n",
      "FIR = CIR/eita;\n",
      "C = round(10*C)/10;\n",
      "CIR = round(CIR*10)/10;\n",
      "FIR = round(FIR*10)/10;\n",
      "\n",
      "# Results\n",
      "print \"Consumptive use = %.2f cm.\"%(C);\n",
      "print \"consumptive irrigatin requirement = %.2f cm.\"%(CIR);\n",
      "print \"field irrigatio reqiurement = %.2f cm.\"%(FIR);\n",
      "\n"
     ],
     "language": "python",
     "metadata": {},
     "outputs": [
      {
       "output_type": "stream",
       "stream": "stdout",
       "text": [
        "Consumptive use = 28.70 cm.\n",
        "consumptive irrigatin requirement = 26.70 cm.\n",
        "field irrigatio reqiurement = 38.20 cm.\n"
       ]
      }
     ],
     "prompt_number": 18
    },
    {
     "cell_type": "heading",
     "level": 2,
     "metadata": {},
     "source": [
      "Example 3.19 pg : 83"
     ]
    },
    {
     "cell_type": "code",
     "collapsed": false,
     "input": [
      "import math \n",
      "\t\t\t\t\n",
      "#Given\n",
      "L = 20.;             \t\t\t\t#latitude of place(degree North)\n",
      "T = 15.;             \t\t\t\t#mean monthly temperature(degree celcius)\n",
      "RH = 0.5;            \t\t\t\t#relative humidity\n",
      "E = 250.;            \t\t\t\t#elevation of area\n",
      "V = 25.;             \t\t\t\t#wind velocity at 2 m heigth\n",
      "\n",
      "#from table 3.10\n",
      "VP = 12.79;         \t\t\t\t#saturation vapour pressure\n",
      "s = 0.8;            \t\t\t\t#slope of curve between vapur pressure and temperature\n",
      "#from table 3.11\n",
      "R = 10.8;\n",
      "#from table 3.12\n",
      "N = 11.1;\n",
      "#from table 3.9\n",
      "n = 7.74;\n",
      "\n",
      "# Calculations\n",
      "p = n/N;\n",
      "e = VP*RH;\n",
      "Ea = 0.002187*(160+V)*(VP-e);\n",
      "r = 0.2;\n",
      "alpha = 0.49;\n",
      "sigma = 2.01E-9;\n",
      "Ta = 293;\n",
      "H = R*(1-r)*(0.29*math.cos(math.pi/9)+0.55*p)-sigma*Ta**4*(0.56-0.092*e**0.5)*(0.10+0.9*p);\n",
      "Et = (s*H+alpha*Ea)*31/(s+alpha);\n",
      "Et = round(Et*10)/10;\n",
      "\n",
      "# Results\n",
      "print \"consumptive use of rice in january = %.2f mm of water.\"%(Et);\n",
      "\n"
     ],
     "language": "python",
     "metadata": {},
     "outputs": [
      {
       "output_type": "stream",
       "stream": "stdout",
       "text": [
        "consumptive use of rice in january = 71.60 mm of water.\n"
       ]
      }
     ],
     "prompt_number": 19
    },
    {
     "cell_type": "heading",
     "level": 2,
     "metadata": {},
     "source": [
      "Example 3.20 pg : 89"
     ]
    },
    {
     "cell_type": "code",
     "collapsed": false,
     "input": [
      "import math \n",
      "\n",
      "\t\t\t\t\n",
      "#Given\n",
      "Fc = 0.27;               \t\t\t\t#Field capacity\n",
      "pwp = 0.13;              \t\t\t\t#permanent wilting point\n",
      "d = 80.;                 \t\t\t\t#depth of soil(cm)\n",
      "gammad = 1.5;           \t\t\t\t#dry unit weigth of soil(g/cc)\n",
      "gammaw = 1.;             \t\t\t\t#unit weigth of water(g/cc)\n",
      "M = 0.18;               \t\t\t\t#avearge soil moisture\n",
      "eita = 0.8;             \t\t\t\t#field efficiency\n",
      "FC = 0.15;              \t\t\t\t#field channel\n",
      "\n",
      "# Calculations\n",
      "SC = gammad*d*(Fc-pwp)/gammaw;\n",
      "D = gammad*d*(Fc-M)/gammaw;\n",
      "FIR = D/eita;\n",
      "W = FIR/(1-FC);\n",
      "W = round(W*10)/10;\n",
      "\n",
      "# Results\n",
      "print \"maximum storage capacity = %.2f cm\"%(SC);\n",
      "print \"depth of irrigation water = %.2f cm\"%(D);\n",
      "print \"field irrigation requirement = %.2f cm\"%(FIR);\n",
      "print \"water required at canal outlet = %.2f cm\"%(W);\n",
      "\n"
     ],
     "language": "python",
     "metadata": {},
     "outputs": [
      {
       "output_type": "stream",
       "stream": "stdout",
       "text": [
        "maximum storage capacity = 16.80 cm\n",
        "depth of irrigation water = 10.80 cm\n",
        "field irrigation requirement = 13.50 cm\n",
        "water required at canal outlet = 15.90 cm\n"
       ]
      }
     ],
     "prompt_number": 20
    },
    {
     "cell_type": "heading",
     "level": 2,
     "metadata": {},
     "source": [
      "Example 3.21 pg : 89"
     ]
    },
    {
     "cell_type": "code",
     "collapsed": false,
     "input": [
      "import math \n",
      "from numpy import zeros\n",
      "\t\t\t\t\n",
      "#Given\n",
      "W = 0.4;                     \t\t\t\t#amount of water available from precipitation\n",
      "Cl = 0.15;                   \t\t\t\t#Channel loss\n",
      "RL = 0.1;                    \t\t\t\t#reservior loss\n",
      "B = [120., 320., 120., 200., 100];   \t\t\t\t#Base period\n",
      "D = [1800., 800., 900., 1400., 1200];\t\t\t\t#Duty at field\n",
      "A = [500., 600., 300., 1200., 500];  \t\t\t\t#Area under crop\n",
      "\n",
      "# Calculations\n",
      "for i in range(5):\n",
      "    delta[i] = 8.64*B[i]/D[i];\n",
      "\n",
      "V = zeros(5)\n",
      "for i in range(5):\n",
      "    V[i] = delta[i]*A[i];\n",
      "\n",
      "s = 0;\n",
      "for i in range(5):\n",
      "    s = s+V[i];\n",
      "\n",
      "C = s*(1-W)/((1-Cl)*(1-RL));\n",
      "\n",
      "# Results\n",
      "print \"Reservior capacity = %.f ha-m.\"%(C);\n",
      "\n",
      "\n"
     ],
     "language": "python",
     "metadata": {},
     "outputs": [
      {
       "output_type": "stream",
       "stream": "stdout",
       "text": [
        "Reservior capacity = 3567 ha-m.\n"
       ]
      }
     ],
     "prompt_number": 22
    },
    {
     "cell_type": "heading",
     "level": 2,
     "metadata": {},
     "source": [
      "Example 3.22 pg : 90"
     ]
    },
    {
     "cell_type": "code",
     "collapsed": false,
     "input": [
      "\t\t\t\t\n",
      "#Given\n",
      "GCA = 10000.;                    \t\t\t\t#gross commanded area\n",
      "CCA = 0.75*GCA;                 \t\t\t\t#Culturable commanded area\n",
      "IR = 0.6;                       \t\t\t\t#intensity of irrigation during rabi season\n",
      "IK = 0.3;                       \t\t\t\t#intensity of irrigation during kharif season  \n",
      "DuR = 2500.;                     \t\t\t\t#duty during rabi season\n",
      "DuK = 1000.;                     \t\t\t\t#duty during kharif season\n",
      "\n",
      "# Calculations\n",
      "AR = IR*CCA;                    \t\t\t\t#area under irrigation in rabi season\n",
      "AK = IK*CCA;                    \t\t\t\t#area under irrigation in kharif season\n",
      "DR = AR/DuR;\n",
      "DK = AK/DuK;\n",
      "\n",
      "# Results\n",
      "print \"discharge required at head of distributory = %.2f cumecs.\"%(DK);\n"
     ],
     "language": "python",
     "metadata": {},
     "outputs": [
      {
       "output_type": "stream",
       "stream": "stdout",
       "text": [
        "discharge required at head of distributory = 2.25 cumecs.\n"
       ]
      }
     ],
     "prompt_number": 23
    },
    {
     "cell_type": "heading",
     "level": 2,
     "metadata": {},
     "source": [
      "Example 3.23 pg : 90"
     ]
    },
    {
     "cell_type": "code",
     "collapsed": false,
     "input": [
      "import math \n",
      "\t\t\t\t\n",
      "#Given\n",
      "Fc = 0.18;         \t\t\t\t#field capacity\n",
      "wc = 0.07;         \t\t\t\t#wilting cofficient\n",
      "Sg = 1.35;         \t\t\t\t#bulk density of soil\n",
      "d = 1.2;           \t\t\t\t#root zone depth\n",
      "\n",
      "# Calculations and Results\n",
      "m = Fc-wc;\n",
      "mo = wc+m/3;\n",
      "dw = 100*Sg*d*(Fc-mo);\n",
      "print \"Depth of water required = %.2f cm\"%(dw);\n",
      "ev1 = 1.1;         \t\t\t\t#average evapotranspiration rates in 1 NOV-30 NOV\n",
      "ev2 = 1.7;         \t\t\t\t#average evapotranspiration rates in 1 DEC-31 DEC\n",
      "ev3 = 2.4;         \t\t\t\t#average evapotranspiration rates in 1 JAN-31 JAN\n",
      "ev4 = 1.5;         \t\t\t\t#average evapotranspiration rates in 1 FEB-28 FEB\n",
      "ev5 = 3.5;         \t\t\t\t#average evapotranspiration rates in 1 MAR-25 MAR\n",
      "\t\t\t\t#irrigation requirement from 1 NOV to 3 JAn\n",
      "dev = (ev1*30+ev2*31+ev3*3)/10;\n",
      "print \"Water consumed by evapotranspiration = %.2f cm.\"%(dev);\n",
      "print \"No water is required during 1 NOV-3 JAN\";\n",
      "\n",
      "\t\t\t\t#irrigation requirement after 3rd JAN\n",
      "ws = (ev3-1.5)*16/10;             \t\t\t\t#water consumed from soil from 4 JAN-19 JAN\n",
      "ts = ws+dev;                \t\t\t\t#water withdrawn from soil from 1 NOV-19 JAN\n",
      "s = (dw-ts)*10;\n",
      "day = s/ev3;\n",
      "depth = ts+(4*ev3)/10+(2*ev3)/10;\n",
      "print \"depth of water required in first irrigation = %.2f cm.\"%(depth);\n",
      "\t\t\t\t#/irrigation requirement from 26 JAn to 25 MAR\n",
      "w1 = ev3*6;\n",
      "w2 = ev4*28;\n",
      "w3 = ev5*25;\n",
      "W = w1+w2+w3;\n",
      "x = (dw*10-(14.4+42))/ev5;\n",
      "print \"Hence second irrigation is required after %.2f days i.e on 18th March.\"%(x);\n",
      "depth1 = (W-(dw*10))/10;\n",
      "print \"required water depth = %.2f cm\"%(depth1);\n",
      "print \"First Watering on 29 JAn and 30 JAN = %.2f cm.Second watering required on 18th March = %.2f cm.\"%(depth,depth1);"
     ],
     "language": "python",
     "metadata": {},
     "outputs": [
      {
       "output_type": "stream",
       "stream": "stdout",
       "text": [
        "Depth of water required = 11.88 cm\n",
        "Water consumed by evapotranspiration = 9.29 cm.\n",
        "No water is required during 1 NOV-3 JAN\n",
        "depth of water required in first irrigation = 12.17 cm.\n",
        "Hence second irrigation is required after 17.83 days i.e on 18th March.\n",
        "required water depth = 2.51 cm\n",
        "First Watering on 29 JAn and 30 JAN = 12.17 cm.Second watering required on 18th March = 2.51 cm.\n"
       ]
      }
     ],
     "prompt_number": 24
    },
    {
     "cell_type": "heading",
     "level": 2,
     "metadata": {},
     "source": [
      "Example 3.24 pg : 91"
     ]
    },
    {
     "cell_type": "code",
     "collapsed": false,
     "input": [
      "\t\t\t\t\n",
      "#Given\n",
      "Fc = 0.26;              \t\t\t\t#Field capacity of soil\n",
      "A = 3000.;               \t\t\t\t#Area of field\n",
      "OM = 0.12;              \t\t\t\t#optimum moisture \n",
      "pwp = 0.1;              \t\t\t\t#permanent wilting point\n",
      "d = 80.;                \t\t\t\t#depth of root zone\n",
      "RD = 1.4;               \t\t\t\t#relative density of soil\n",
      "f = 10.;                 \t\t\t\t#frequency of irrigation\n",
      "eita = 0.23;            \t\t\t\t#overall efficiency\n",
      "\n",
      "# Calculations\n",
      "D = RD*d*(Fc-OM);\n",
      "U = D*10/f;\n",
      "Wr = A*D*100;\n",
      "q = Wr/(f*24*3600);\n",
      "q = round(q*100)/100;\n",
      "\n",
      "# Results\n",
      "print \"daily consumptive = %.2f mm.\"%(U);\n",
      "print \"discharge in canal = %.2f q cumecs.\"%(q);\n",
      "\n"
     ],
     "language": "python",
     "metadata": {},
     "outputs": [
      {
       "output_type": "stream",
       "stream": "stdout",
       "text": [
        "daily consumptive = 15.68 mm.\n",
        "discharge in canal = 5.44 q cumecs.\n"
       ]
      }
     ],
     "prompt_number": 25
    },
    {
     "cell_type": "heading",
     "level": 2,
     "metadata": {},
     "source": [
      "Example 3.25 pg : 92"
     ]
    },
    {
     "cell_type": "code",
     "collapsed": false,
     "input": [
      "\t\t\t\t\n",
      "#Given\n",
      "C1 = 0.2;              \t\t\t\t#consumptive requirement of crop for 1 to 15 days\n",
      "C2 = 0.3;              \t\t\t\t#consumptive requirement of crop for 16 to 40 days\n",
      "C3 = 0.5;              \t\t\t\t#consumptive requirement of crop for 41 to 50 days\n",
      "C4 = 0.1;              \t\t\t\t#consumptive requirement of crop for 51 to 55 days\n",
      "A = 50.;                \t\t\t\t#area of land\n",
      "wr = 5.;                \t\t\t\t#presowing water requirement\n",
      "R = 3.5;               \t\t\t\t#rainfall during 36th and 45th day\n",
      "\n",
      "# Calculations\n",
      "w1 = 15*C1*100;\n",
      "w2 = 25*C2*100;\n",
      "w3 = 10*C3*100;\n",
      "w4 = 5*C4*100;\n",
      "w5 = 5*100;\n",
      "W = w1+w2+w3+w4+w5;\n",
      "ER = 3.5*100;\n",
      "q = (W-ER)*A;\n",
      "\n",
      "# Results\n",
      "print \"total water to be delivered = %i cubic metre.\"%(q);\n",
      "\n",
      "\n"
     ],
     "language": "python",
     "metadata": {},
     "outputs": [
      {
       "output_type": "stream",
       "stream": "stdout",
       "text": [
        "total water to be delivered = 87500 cubic metre.\n"
       ]
      }
     ],
     "prompt_number": 26
    },
    {
     "cell_type": "heading",
     "level": 2,
     "metadata": {},
     "source": [
      "Example 3.26 pg : 93"
     ]
    },
    {
     "cell_type": "code",
     "collapsed": false,
     "input": [
      "\t\t\t\t\n",
      "#Given\n",
      "Fc = 0.3;          \t\t\t\t#field capacity\n",
      "pwp = 0.11;        \t\t\t\t#permanent wilting percent\n",
      "gammad = 1300.;     \t\t\t\t#density of soil\n",
      "gammaw = 1000.;     \t\t\t\t#density of water\n",
      "d = 700.;           \t\t\t\t#root zone depth\n",
      "CW = 12.;           \t\t\t\t#daily consumptive use of water\n",
      "\n",
      "# Calculations\n",
      "WHC = Fc-pwp;\n",
      "mo = Fc-(0.75*WHC);\n",
      "D = gammad*d*(Fc-mo)/gammaw;\n",
      "I = D/CW;\n",
      "\n",
      "# Results\n",
      "print \" watering interval = %i days\"%(I); "
     ],
     "language": "python",
     "metadata": {},
     "outputs": [
      {
       "output_type": "stream",
       "stream": "stdout",
       "text": [
        " watering interval = 10 days\n"
       ]
      }
     ],
     "prompt_number": 27
    },
    {
     "cell_type": "heading",
     "level": 2,
     "metadata": {},
     "source": [
      "Example 3.27 pg : 94"
     ]
    },
    {
     "cell_type": "code",
     "collapsed": false,
     "input": [
      "\t\t\t\t\n",
      "#Given\n",
      "A = 1000.;                \t\t\t\t#total area\n",
      "AI = 0.7*A;              \t\t\t\t#area under irrigation\n",
      "B = 15.;                  \t\t\t\t#Base period\n",
      "d = 500.;                 \t\t\t\t#depth of water required during transplantation\n",
      "R = 120.;                 \t\t\t\t#useful rain falling\n",
      "Wl = 0.2;                 \t\t\t\t#water loss\n",
      "\n",
      "# Calculations\n",
      "delta = d-R;\n",
      "Du = 8.64*B*1000/delta;\n",
      "DuH = Du*(1-Wl);\n",
      "q = AI/DuH;\n",
      "q = round(q*100)/100;\n",
      "\n",
      "# Results\n",
      "print \"Duty of water = %i hec/cumec.\"%(Du);\n",
      "print \"discharge required in water course = %.2f cumecs.\"%(q);"
     ],
     "language": "python",
     "metadata": {},
     "outputs": [
      {
       "output_type": "stream",
       "stream": "stdout",
       "text": [
        "Duty of water = 341 hec/cumec.\n",
        "discharge required in water course = 2.57 cumecs.\n"
       ]
      }
     ],
     "prompt_number": 28
    },
    {
     "cell_type": "heading",
     "level": 2,
     "metadata": {},
     "source": [
      "Example 3.28 pg : 94"
     ]
    },
    {
     "cell_type": "code",
     "collapsed": false,
     "input": [
      "from numpy import zeros\n",
      "\n",
      "#Given\n",
      "Ar = 4000.;                 \t\t\t\t#culturable commanded area\n",
      "CL = 0.25;                \t\t\t\t#canal loss\n",
      "RL = 0.15;                 \t\t\t\t#reservior loss\n",
      "B = [120., 360., 180., 120., 120.];  \t\t\t\t#base period\n",
      "D = [1800., 1700., 1400., 800., 700.];\t\t\t\t#duty of water\n",
      "I = [20., 20., 10., 15., 15.];       \t\t\t\t#intensity of irrigation\n",
      "\n",
      "A = zeros(5)\n",
      "# Calculations\n",
      "for i in range(5):\n",
      "    A[i] = Ar*I[i]/10;     \t\t\t\t#area under crop\n",
      "\n",
      "Q = zeros(5)\n",
      "for i in range(5):\n",
      "    Q[i] = A[i]/D[i];        \t\t\t\t#discharge required\n",
      "\n",
      "for i in range(5):\n",
      "    V[i] = 8.64E4*Q[i]*B[i];     \t\t\t\t#quantity of water\n",
      "\n",
      "s = 0;\n",
      "for i in range(5):\n",
      "    s = s+V[i];\n",
      "\n",
      "SC = round(s/((1-CL)*(1-RL)*1000000));\n",
      "\n",
      "# Results\n",
      "print \"Storage capacity = %iD+06 cubic metre.\"%(SC);"
     ],
     "language": "python",
     "metadata": {},
     "outputs": [
      {
       "output_type": "stream",
       "stream": "stdout",
       "text": [
        "Storage capacity = 633D+06 cubic metre.\n"
       ]
      }
     ],
     "prompt_number": 29
    }
   ],
   "metadata": {}
  }
 ]
}