{
 "metadata": {
  "name": "",
  "signature": "sha256:052e5024d5b2f54bda77f8d8972af18d1ffb4cd92ead6e287538c1745234bb8e"
 },
 "nbformat": 3,
 "nbformat_minor": 0,
 "worksheets": [
  {
   "cells": [
    {
     "cell_type": "heading",
     "level": 1,
     "metadata": {},
     "source": [
      "Chapter 10 : EARTH AND ROCKFILL DAM"
     ]
    },
    {
     "cell_type": "heading",
     "level": 2,
     "metadata": {},
     "source": [
      "Example 10.1 pg : 502"
     ]
    },
    {
     "cell_type": "code",
     "collapsed": false,
     "input": [
      "import math\n",
      "from numpy import array,float64,round\n",
      "\n",
      "\t\t\t\t\n",
      "#Given\n",
      "K = 5.E-4;             \t\t\t\t#coefficient of permeability of soil\n",
      "Bt = 6.;               \t\t\t\t#width of top of dam\n",
      "wb = 146.;             \t\t\t\t#width of base of dam\n",
      "H = 20.;               \t\t\t\t#heigth of dam\n",
      "hw = 2.;               \t\t\t\t#heigth of water in reservior\n",
      "hs1 = 4.;              \t\t\t\t#slope on upstream side\n",
      "hs2 = 3.;              \t\t\t\t#slope on downstream side\n",
      "df = 30.;              \t\t\t\t#length of drainage filter\n",
      "\n",
      "x = wb-df-72+72*0.3;\n",
      "y = 18.;\n",
      "s = (x**2+y**2)**0.5-x;\n",
      "\n",
      "x = array([0, 10, 20, 30, 40, 50, 60, 65.6],dtype=float64);\n",
      "y = (4.849*x+5.879)**0.5;\n",
      "y = round(y*1000)/1000;\n",
      "\n",
      "print \"x                       y\";\n",
      "for i  in range(8):\n",
      "    print \"%.2f          %.2f\"%(x[i],y[i]);\n",
      "sf = K*s*10000;\n",
      "sf = round(sf*1000)/1000;\n",
      "print \"Seepage flow per unit length of dam = %.2fD-6 cumecs/metre length of dam.\"%(sf);\n"
     ],
     "language": "python",
     "metadata": {},
     "outputs": [
      {
       "output_type": "stream",
       "stream": "stdout",
       "text": [
        "x                       y\n",
        "0.00          2.42\n",
        "10.00          7.37\n",
        "20.00          10.14\n",
        "30.00          12.30\n",
        "40.00          14.14\n",
        "50.00          15.76\n",
        "60.00          17.23\n",
        "65.60          18.00\n",
        "Seepage flow per unit length of dam = 12.12D-6 cumecs/metre length of dam.\n"
       ]
      }
     ],
     "prompt_number": 1
    },
    {
     "cell_type": "heading",
     "level": 2,
     "metadata": {},
     "source": [
      "Example 10.2 pg : 502"
     ]
    },
    {
     "cell_type": "code",
     "collapsed": false,
     "input": [
      "\t\t\t\t\n",
      "#Given\n",
      "K = 3.E-3;            \t\t\t\t#coefficient of permeability\n",
      "nd = 25.;              \t\t\t\t#number of potential drops\n",
      "nf = 4.;              \t\t\t\t#number of flow channels\n",
      "lf = 40.;             \t\t\t\t#filter length\n",
      "H = 52.;              \t\t\t\t#heigth of dam\n",
      "fb = 2.;              \t\t\t\t#free board\n",
      "\n",
      "# Calculations\n",
      "q = K*(H-fb)*nf/(nd*100);\n",
      "\n",
      "# Results\n",
      "print \"Discharge per meter length of dam = %.5f cumec/metre length.\"%(q);\n"
     ],
     "language": "python",
     "metadata": {},
     "outputs": [
      {
       "output_type": "stream",
       "stream": "stdout",
       "text": [
        "Discharge per meter length of dam = 0.00024 cumec/metre length.\n"
       ]
      }
     ],
     "prompt_number": 3
    },
    {
     "cell_type": "heading",
     "level": 2,
     "metadata": {},
     "source": [
      "Example 10.3 pg : 503"
     ]
    },
    {
     "cell_type": "code",
     "collapsed": false,
     "input": [
      "import math\n",
      "\t\t\t\t\n",
      "#Given\n",
      "x = 4.;\n",
      "#Given scale\n",
      "An = 14.4;       \t\t\t\t#area of N recmath.tangle\n",
      "At = 6.4;        \t\t\t\t#area of T recmath.tangle\n",
      "Au = 4.9;        \t\t\t\t#area of U recmath.tangle\n",
      "L = 12.6;        \t\t\t\t#length of arc;\n",
      "gamma_m = 19.;    \t\t\t\t#unit weigth of soil\n",
      "gamma_w = 9.81;  \t\t\t\t#unit weigth of water\n",
      "fi = 26.;         \t\t\t\t#effective angle(degree)\n",
      "co = 19.5;       \t\t\t\t#cohesion value\n",
      "\n",
      "# Calculations\n",
      "#consider 1m length of dam\n",
      "SumN = An*x**2*gamma_m;\n",
      "SumT = At*x**2*gamma_m;\n",
      "SumU = Au*x**2*gamma_w;\n",
      "Le = x*L;\n",
      "F = ((Le*co)+(SumN-SumU)*math.tan(math.radians(fi)))/SumT;\n",
      "F = round(F*100)/100;\n",
      "\n",
      "# Results\n",
      "print \"Factor of safety for slope = %.2f.\"%(F);"
     ],
     "language": "python",
     "metadata": {},
     "outputs": [
      {
       "output_type": "stream",
       "stream": "stdout",
       "text": [
        "Factor of safety for slope = 1.41.\n"
       ]
      }
     ],
     "prompt_number": 5
    },
    {
     "cell_type": "heading",
     "level": 2,
     "metadata": {},
     "source": [
      "Example 10.4 pg : 503"
     ]
    },
    {
     "cell_type": "code",
     "collapsed": false,
     "input": [
      "import math \n",
      "\n",
      "#check section for:\n",
      "#Stability of d/s slope against steady seepage\n",
      "#Sloughing of u/s slope against sudden drawdown\n",
      "#Stability of the foundation against shear\n",
      "#Seepage through body of dam\n",
      "\n",
      "#Given\n",
      "#Dimensions\n",
      "H = 20.;            \t\t\t\t#Heigth of dam\n",
      "Bt = 6.;            \t\t\t\t#top width of dam\n",
      "s1 = 4.;            \t\t\t\t#u/s slope\n",
      "s2 = 3.;            \t\t\t\t#d/s slope\n",
      "fb = 2.;            \t\t\t\t#free board\n",
      "#Properties of materials of dam\n",
      "gamma_d = 17.27;       \t\t\t\t#dry density\n",
      "wc = 0.15;             \t\t\t\t#optimum water content\n",
      "gamma_s = 21.19;       \t\t\t\t#saturated density\n",
      "gamma_w = 9.81;        \t\t\t\t#unit weigth of water\n",
      "wavg = 19.62;          \t\t\t\t#average unit weigth under seepage\n",
      "theta = 26.;            \t\t\t\t#average angle of internal friction(degree)\n",
      "co = 19.13;            \t\t\t\t#average cohesion\n",
      "K = 5.E-4;              \t\t\t\t#coefficient of permeability\n",
      "#properties of foundation materials\n",
      "gamma_f = 17.27;      \t\t\t\t#average unit weigth\n",
      "cof = 47.87;          \t\t\t\t#average cohesion\n",
      "fi = 8.;               \t\t\t\t#average angle internal friction\n",
      "t = 6.;                \t\t\t\t#thickness of clay\n",
      "FOSp = 1.5;           \t\t\t\t#permissible factor of safety of slope\n",
      "PS = 8.E-6;            \t\t\t\t#permissible seepage\n",
      "#(a) Stability of d/s slope against steady seepage\n",
      "An = 302.4;            \t\t\t\t#area of N diagram\n",
      "At = 91.2;             \t\t\t\t#area  of T diagram\n",
      "Au = 98.4;             \t\t\t\t#area of U diagram\n",
      "Le = 60.;               \t\t\t\t#length of arc\n",
      "SumN = An*gamma_s;\n",
      "SumT = At*gamma_s;\n",
      "SumU = Au*gamma_w;\n",
      "F = (Le*co)+(SumN-SumU)*math.tan(math.radians(theta))/SumT;\n",
      "F = round(F*100)/100;\n",
      "print \"Parta:\"\n",
      "print \"Factor of safety for slope = %.2f.\"%(F);\n",
      "print \"Safe\";\n",
      "\n",
      "#(b) Sloughing of u/s slope against sudden drawdown\n",
      "h1 = 15.;\n",
      "b = 80.;\n",
      "P = gamma_s*H**2*math.tan(math.radians(45-(theta/2)))**2/2+gamma_w*h1**2/2;\n",
      "sav = P/b;\n",
      "smax = 2*sav;\n",
      "Ne = (gamma_s-gamma_w)*b*H/2;\n",
      "R = Ne*math.tan(math.radians(theta))+co*b;\n",
      "fs = R/P;\n",
      "fs = round(fs*100)/100;\n",
      "print \"Partb:\"\n",
      "print \"Factor of safety w.r.t average shear = %.2f.\"%(fs);\n",
      "print \"Safe\";\n",
      "sr = 0.6*H*(gamma_s-gamma_w)*math.tan(math.radians(theta))+co;\n",
      "FS = sr/smax;\n",
      "FS = round(FS*100)/100;\n",
      "print \"Factor of safety w.r.t maximum shear = %.2f.\"%(FS);\n",
      "print \"Safe\";\n",
      "\n",
      "#(c) Stability of the foundation against shear\n",
      "h1 = 26.;\n",
      "h2 = 6.;\n",
      "gamma_m = (wavg*(h1-h2)+gamma_f*h2)/h1;\n",
      "l = (gamma_m*h1*math.tan(math.radians(fi))+cof)/(gamma_m*h1);\n",
      "fi1 = math.tan(math.radians(l));\n",
      "P = (h1**2-h2**2)/2*gamma_m*math.tan(math.radians(45-(fi1/2)))**2;\n",
      "sav = P/b;\n",
      "smax = 2*sav;\n",
      "s1 = cof+gamma_f*h2*math.tan(math.radians(fi));\n",
      "s2 = cof+gamma_m*h1*math.tan(math.radians(fi));\n",
      "as1 = (s1+s2)/2;\n",
      "fs = as1/sav;\n",
      "fs = round(fs*100)/100;\n",
      "print \"Partc:\"\n",
      "print \"Factor of safety w.r.t overall shear = %.2f.\"%(fs);\n",
      "print \"Safe\";\n",
      "\n",
      "gamma_av = (wavg*0.6*H+gamma_f*h2)/(0.6*H)+h2;\n",
      "s = cof+gamma_av*0.6*H*math.tan(math.radians(fi));\n",
      "fs = s/smax;\n",
      "fs = round(fs*100)/100;\n",
      "print \"Factor of safety w.r.t overall shear = %.2f.\"%(fs);\n",
      "print \"Unsafe\";\n",
      "\n",
      "#(d) Seepage through body of dam\n",
      "s = 2.;     \t\t\t\t#measured\n",
      "q = K*s*100000/100;\n",
      "print \"Partd:\"\n",
      "print \" Seepage through body of dam = %.2fD-5 cumecs/m length of dam\"%(q);"
     ],
     "language": "python",
     "metadata": {},
     "outputs": [
      {
       "output_type": "stream",
       "stream": "stdout",
       "text": [
        "Parta:\n",
        "Factor of safety for slope = 1149.17.\n",
        "Safe\n",
        "Partb:\n",
        "Factor of safety w.r.t average shear = 2.16.\n",
        "Safe\n",
        "Factor of safety w.r.t maximum shear = 1.24.\n",
        "Safe\n",
        "Partc:\n",
        "Factor of safety w.r.t overall shear = 1.18.\n",
        "Safe\n",
        "Factor of safety w.r.t overall shear = 0.69.\n",
        "Unsafe\n",
        "Partd:\n",
        " Seepage through body of dam = 1.00D-5 cumecs/m length of dam\n"
       ]
      }
     ],
     "prompt_number": 6
    },
    {
     "cell_type": "heading",
     "level": 2,
     "metadata": {},
     "source": [
      "Example 10.5 pg : 507"
     ]
    },
    {
     "cell_type": "code",
     "collapsed": false,
     "input": [
      "%matplotlib inline\n",
      "import math \n",
      "from matplotlib.pylab import plot,show\n",
      "from numpy import zeros\n",
      "#design upstream impervious blanket\n",
      "\t\t\t\t\n",
      "#Given\n",
      "Zb = 1.2;       \t\t\t\t#thickness of blanket\n",
      "Zf = 8;         \t\t\t\t#dismath.tance of blanket from foundation\n",
      "kb = 0.06;      \t\t\t\t#coefficient of permeability of blanket material\n",
      "kf = 72;        \t\t\t\t#coefficient of permeability of foundation soil\n",
      "Hw = 10;         \t\t\t\t#heigth of water in reservior\n",
      "Xd = 40;\n",
      "\n",
      "a = (kb/(kf*Zb*Zf))**0.5;\n",
      "Xo = 1.414/a;\n",
      "\n",
      "#we vary value of x\n",
      "x = [0, 25, 50, 75, 100, 125, 151.8, 300]\n",
      "Xr = zeros(8)\n",
      "ho = zeros(8)\n",
      "r = zeros(8)\n",
      "\n",
      "for i in range(8):\n",
      "    e = math.exp(2*a*x[i]);\n",
      "    Xr[i] = (e-1)/(a*(e+1));\n",
      "    ho[i] = Xr[i]*Hw/(Xr[i]+Xd);\n",
      "    r[i] = Xr[i]*100/(Xr[i]+Xd);\n",
      "\n",
      "print \"x                     Xr              ho         reduction qpercent\";\n",
      "for i in range(8):\n",
      "    print \"%.2f        %.2f        %.2f        %.2f\"%(x[i],Xr[i],ho[i],r[i]);\n",
      "\n",
      "#graph is plotted between r and x.\n",
      "#after around 130m length there is only slight increase in head dissipated(ho)\n",
      "plot(x,r)\n",
      "show()\n",
      "L = 130;\n",
      "print \"Thickness of blanket = %.2f m\"%(Zb);\n",
      "print \"Length of blanket = %i m.\"%(L);\n",
      "\n"
     ],
     "language": "python",
     "metadata": {},
     "outputs": [
      {
       "output_type": "stream",
       "stream": "stdout",
       "text": [
        "x                     Xr              ho         reduction qpercent\n",
        "0.00        0.00        0.00        0.00\n",
        "25.00        24.56        3.80        38.04\n",
        "50.00        46.67        5.38        53.85\n",
        "75.00        64.78        6.18        61.83\n",
        "100.00        78.50        6.62        66.24\n",
        "125.00        88.28        6.88        68.82\n",
        "151.80        95.35        7.04        70.45\n",
        "300.00        106.53        7.27        72.70\n"
       ]
      },
      {
       "metadata": {},
       "output_type": "display_data",
       "png": "[encoded data removed]",
       "text": [
        "<matplotlib.figure.Figure at 0x10ccbe7d0>"
       ]
      },
      {
       "output_type": "stream",
       "stream": "stdout",
       "text": [
        "Thickness of blanket = 1.20 m\n",
        "Length of blanket = 130 m.\n"
       ]
      }
     ],
     "prompt_number": 9
    }
   ],
   "metadata": {}
  }
 ]
}