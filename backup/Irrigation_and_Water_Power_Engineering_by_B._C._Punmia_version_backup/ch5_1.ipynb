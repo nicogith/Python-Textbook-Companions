{
 "metadata": {
  "name": "",
  "signature": "sha256:ba8fe47f9e34523e72313e6de9073278b5a7ecea1af12ee41d74f1b26aaa7966"
 },
 "nbformat": 3,
 "nbformat_minor": 0,
 "worksheets": [
  {
   "cells": [
    {
     "cell_type": "heading",
     "level": 1,
     "metadata": {},
     "source": [
      "Chapter 5 : GROUND WATER WELL IRRIGATION"
     ]
    },
    {
     "cell_type": "heading",
     "level": 2,
     "metadata": {},
     "source": [
      "Example 5.1 pg : 277"
     ]
    },
    {
     "cell_type": "code",
     "collapsed": false,
     "input": [
      "import math \n",
      "\t\t\t#design an open wellin fine sand\n",
      "\t\t\t\t\n",
      "#Given\n",
      "Q = 0.003;        \t\t\t\t#required discharge\n",
      "H = 2.5;          \t\t\t\t#depression head\n",
      "A = Q*3600/(0.5*H);\n",
      "d = (4*A/math.pi)**0.5;\n",
      "d = round(d*100)/100\n",
      "print \"Well diameter = %.2f m.\"%(d);\n",
      "\n",
      "\t\t\t\t#Alternative solution\n",
      "C = 7.5e-5;    \t\t\t\t#permeability consmath.tant from table 5.2\n",
      "A = Q/(C*H);\n",
      "d = (16*3/math.pi)**0.5;\n",
      "d = round(d*10)/10;\n",
      "print \"By alternative solution:\"\n",
      "print \"Well diameter = %.2f m\"%(d);\n",
      "\n"
     ],
     "language": "python",
     "metadata": {},
     "outputs": [
      {
       "output_type": "stream",
       "stream": "stdout",
       "text": [
        "Well diameter = 3.32 m.\n",
        "By alternative solution:\n",
        "Well diameter = 3.90 m\n"
       ]
      }
     ],
     "prompt_number": 1
    },
    {
     "cell_type": "heading",
     "level": 2,
     "metadata": {},
     "source": [
      "Example 5.2 pg : 278"
     ]
    },
    {
     "cell_type": "code",
     "collapsed": false,
     "input": [
      "import math \n",
      "\n",
      "#yield from well\n",
      "#diameter of well\n",
      "\n",
      "#Given\n",
      "h1 = 2.5;                  \t\t\t\t#initial pumping depression\n",
      "h = 1.8;                   \t\t\t\t#heigth after recuperation\n",
      "t = 80;                    \t\t\t\t#time\n",
      "h2 = h1-h;\n",
      "KbyA = 2.303*60*math.log10(h1/h2)/t;\n",
      "\n",
      "\n",
      "# Calculations and Results\n",
      "#Part (a)\n",
      "d = 4;           \t\t\t\t#diameter of well\n",
      "H = 3;           \t\t\t\t#depression head\n",
      "A = math.pi*d**2/4;\n",
      "Q = (KbyA)*A*H/3.6;\n",
      "print \"Part a\";\n",
      "Q = round(Q);\n",
      "print \"Yield from well = %.2f lit/sec.\"%(Q);\n",
      "\n",
      "#Part (b)\n",
      "Q = 8;          \t\t\t\t#yield(lit/sec)\n",
      "H = 2;\n",
      "A = Q*3.6/(H*(KbyA));\n",
      "d = (4*A/math.pi)**0.5;\n",
      "d = round(d*10)/10;\n",
      "print \"Part b\";\n",
      "print \"Daimeter of well = %.2f m\"%(d);\n"
     ],
     "language": "python",
     "metadata": {},
     "outputs": [
      {
       "output_type": "stream",
       "stream": "stdout",
       "text": [
        "Part a\n",
        "Yield from well = 10.00 lit/sec.\n",
        "Part b\n",
        "Daimeter of well = 4.40 m\n"
       ]
      }
     ],
     "prompt_number": 2
    },
    {
     "cell_type": "heading",
     "level": 2,
     "metadata": {},
     "source": [
      "Example 5.3 pg : 279"
     ]
    },
    {
     "cell_type": "code",
     "collapsed": false,
     "input": [
      "import math \n",
      "\n",
      "\n",
      "#Given\n",
      "d = 30;        \t\t\t\t#well diameter\n",
      "L = 15;        \t\t\t\t#strainer length\n",
      "P = 50;        \t\t\t\t#coefficient of permeability\n",
      "s = 0.2;       \t\t\t\t#effective size of sand\n",
      "b = 3;         \t\t\t\t#drawdown\n",
      "r = 150;       \t\t\t\t#radius of drawdown\n",
      "\n",
      "\n",
      "# Calculations\n",
      "Q = 2.72*L*P*b/(math.log10(r*2*100/d)*24*3.6);\n",
      "Q = round(Q*10)/10;\n",
      "\n",
      "# Results\n",
      "print \" yield from well = %.2f lit/sec.\"%(Q);\n",
      "\n"
     ],
     "language": "python",
     "metadata": {},
     "outputs": [
      {
       "output_type": "stream",
       "stream": "stdout",
       "text": [
        " yield from well = 23.60 lit/sec.\n"
       ]
      }
     ],
     "prompt_number": 3
    },
    {
     "cell_type": "heading",
     "level": 2,
     "metadata": {},
     "source": [
      "Example 5.4 pg : 280"
     ]
    },
    {
     "cell_type": "code",
     "collapsed": false,
     "input": [
      "import math \n",
      "\t\t\t\t\n",
      "#Given\n",
      "d = 30;           \t\t\t\t#diameter of well\n",
      "s = 2;            \t\t\t\t#drawdown\n",
      "L = 10;           \t\t\t\t#length of stainer\n",
      "k = 0.05;         \t\t\t\t#coefficient of permeability\n",
      "r = 300;          \t\t\t\t#radius of zero drawdown\n",
      "\n",
      "# Calculations\n",
      "Q = 2.72*k*s*(L+s/2)/(100*math.log10(2*100*r/d));\n",
      "\n",
      "# Results\n",
      "print \" discharge from tubewell = %.4f cumec.\"%(Q);\n"
     ],
     "language": "python",
     "metadata": {},
     "outputs": [
      {
       "output_type": "stream",
       "stream": "stdout",
       "text": [
        " discharge from tubewell = 0.0091 cumec.\n"
       ]
      }
     ],
     "prompt_number": 8
    },
    {
     "cell_type": "heading",
     "level": 2,
     "metadata": {},
     "source": [
      "Example 5.5 pg: 280"
     ]
    },
    {
     "cell_type": "code",
     "collapsed": false,
     "input": [
      "import math \n",
      "\t\t\t\t#design tube well\n",
      "\t\t\t\t\n",
      "#Given\n",
      "Q = 0.08;            \t\t\t\t#yield required\n",
      "b = 30;              \t\t\t\t#thickness of acquifer\n",
      "R = 300;             \t\t\t\t#Radius of circle of influence\n",
      "k = 60;              \t\t\t\t#permeability coefficient\n",
      "s = 5;               \t\t\t\t#Drawdown\n",
      "\n",
      "# Calculations\n",
      "r = R/(10**(2.72*b*s*k/(3600*24*Q)));\n",
      "r = round(r*10000)/10000;\n",
      "\n",
      "# Results\n",
      "print \"Radius of well = %.2f m\"%(r);"
     ],
     "language": "python",
     "metadata": {},
     "outputs": [
      {
       "output_type": "stream",
       "stream": "stdout",
       "text": [
        "Radius of well = 0.09 m\n"
       ]
      }
     ],
     "prompt_number": 9
    },
    {
     "cell_type": "heading",
     "level": 2,
     "metadata": {},
     "source": [
      "Example 5.6 pg : 281"
     ]
    },
    {
     "cell_type": "code",
     "collapsed": false,
     "input": [
      "import math \n",
      "\n",
      "\t\t\t\t\n",
      "#Given\n",
      "b = 30.;                  \t\t\t\t#thickness of acquifer\n",
      "s = 4.;                   \t\t\t\t#drawdown\n",
      "r = 0.1;                 \t\t\t\t#well radius\n",
      "k = 36.;                  \t\t\t\t#permeability coefficient\n",
      "R = 3000*s*(k/(24*3600))**0.5;\n",
      "\n",
      "Q = 2.72*b*k*s/(math.log10(R/r)*24*3.6);\n",
      "Q = round(Q*10)/10;\n",
      "print \"yield from well = %.2f lit/sec.\"%(Q);"
     ],
     "language": "python",
     "metadata": {},
     "outputs": [
      {
       "output_type": "stream",
       "stream": "stdout",
       "text": [
        "yield from well = 40.10 lit/sec.\n"
       ]
      }
     ],
     "prompt_number": 10
    },
    {
     "cell_type": "heading",
     "level": 2,
     "metadata": {},
     "source": [
      "Example 5.7 pg : 281"
     ]
    },
    {
     "cell_type": "code",
     "collapsed": false,
     "input": [
      "import math \n",
      "\n",
      "#Given\n",
      "k = 0.005;            \t\t\t\t#coefficient of permeability\n",
      "r = 0.1;              \t\t\t\t#well radius\n",
      "s = 4;                \t\t\t\t#drawdown\n",
      "b = 10;               \t\t\t\t#thickness\n",
      "R = 300;              \t\t\t\t#radius of circle of influence\n",
      "\n",
      "# Calculations and Results\n",
      "#Part(a)\n",
      "Q1 = 2.72*b*k*s/math.log10(R/r);\n",
      "Q1 = round(Q1*10000)/10000;\n",
      "print \"Discharge = %.2f cumec\"%(Q1);\n",
      "\n",
      "#Part (b)\n",
      "r = 0.2;\n",
      "Q2 = 2.72*b*k*s/math.log10(R/r);\n",
      "I = (Q2-Q1)*100/Q1;\n",
      "I = round(I*10)/10;\n",
      "print \"percent increase in discharge = %.2f percent.\"%(I);\n"
     ],
     "language": "python",
     "metadata": {},
     "outputs": [
      {
       "output_type": "stream",
       "stream": "stdout",
       "text": [
        "Discharge = 0.16 cumec\n",
        "percent increase in discharge = 9.40 percent.\n"
       ]
      }
     ],
     "prompt_number": 11
    },
    {
     "cell_type": "heading",
     "level": 2,
     "metadata": {},
     "source": [
      "Example 5.8 pg : 282"
     ]
    },
    {
     "cell_type": "code",
     "collapsed": false,
     "input": [
      "import math \n",
      "\n",
      "\n",
      "#percentage error\n",
      "#actual radius of influence\n",
      "\n",
      "#Given\n",
      "d = 0.2;            \t\t\t\t#diameter of well\n",
      "Q = 240;           \t\t\t\t#discharge\n",
      "RL1 = 240.5;       \t\t\t\t#reduce level of original water surface\n",
      "RL2 = 235.6;       \t\t\t\t#reduced level of water at pumping\n",
      "RL3 = 210;         \t\t\t\t#reduced level of impervious layer\n",
      "RL4 = 239.8;       \t\t\t\t#reduced level of water in well\n",
      "D = 50;             \t\t\t\t#radial dismath.tance of well from tube well\n",
      "\n",
      "# Calculations and Results\n",
      "#Part(a)\n",
      "h1 = RL2-RL3;\n",
      "h2 = RL4-RL3;\n",
      "k1 = Q*24*math.log10(D*2/d)/(1.36*(h2**2-h1**2));\n",
      "k1 = round(k1*100)/100;\n",
      "print \"Parta\";\n",
      "print \"coefficient of permeability = %.2f m/day.\"%(k1);\n",
      "#Part (b)\n",
      "R = 300;               \t\t\t\t#radius of influence\n",
      "H = RL1-RL3;\n",
      "h = RL2-RL3;\n",
      "k2 = Q*24*math.log10(R*2/d)/(1.36*(H**2-h**2));\n",
      "PE = (k2-k1)*100/k1;\n",
      "print \"Partb\";\n",
      "print \"percentage error = %i percent.\"%(PE);\n",
      "#Part (b)\n",
      "R = (d/2)*10**(1.36*k1*(H**2-h**2)/(24*Q));\n",
      "print \"Partc\";\n",
      "print \"Actual radius of influence = %i m.\"%(R);\n"
     ],
     "language": "python",
     "metadata": {},
     "outputs": [
      {
       "output_type": "stream",
       "stream": "stdout",
       "text": [
        "Parta\n",
        "coefficient of permeability = 49.13 m/day.\n",
        "Partb\n",
        "percentage error = 9 percent.\n",
        "Partc\n",
        "Actual radius of influence = 154 m.\n"
       ]
      }
     ],
     "prompt_number": 12
    },
    {
     "cell_type": "heading",
     "level": 2,
     "metadata": {},
     "source": [
      "Example 5.9 pg : 283"
     ]
    },
    {
     "cell_type": "code",
     "collapsed": false,
     "input": [
      "import math \n",
      "\n",
      "\n",
      "\t\t\t\t\n",
      "#Given\n",
      "A = 20.;            \t\t\t\t#area of field\n",
      "H = 129.;           \t\t\t\t#level to the highest land\n",
      "h1 = 120.2;        \t\t\t\t#water level in well during discharge\n",
      "Du = 800;          \t\t\t\t#duty for rise;\n",
      "eita = 0.6;        \t\t\t\t#efficiency of the pump\n",
      "\n",
      "# Calculations\n",
      "Q = A/Du;\n",
      "w = Q*1000;\n",
      "lift = H-h1;\n",
      "\t\t\t\t#design lift is taken as 9m\n",
      "wd = w*9;\n",
      "o = wd/75;\n",
      "i = o/eita;\n",
      "\n",
      "# Results\n",
      "print \"Input h.p of pump = %i h.p\"%i;\n"
     ],
     "language": "python",
     "metadata": {},
     "outputs": [
      {
       "output_type": "stream",
       "stream": "stdout",
       "text": [
        "Input h.p of pump = 5 h.p\n"
       ]
      }
     ],
     "prompt_number": 13
    },
    {
     "cell_type": "heading",
     "level": 2,
     "metadata": {},
     "source": [
      "Example 5.10 pg : 284"
     ]
    },
    {
     "cell_type": "code",
     "collapsed": false,
     "input": [
      "import math \n",
      "\n",
      "\n",
      "\t\t\t\t\n",
      "#Given\n",
      "Q = 150;           \t\t\t\t#discharge from tubewell\n",
      "t = 4000;          \t\t\t\t#working period of tubewell\n",
      "I = 0.45;          \t\t\t\t#intensity of irrigation\n",
      "d = 0.38;          \t\t\t\t#average depth of rabi and kharif crop\n",
      "\n",
      "# Calculations\n",
      "V = Q*t;\n",
      "A = V/d;\n",
      "CA = A/(I*10000);\n",
      "CA = round(CA);\n",
      "\n",
      "# Results\n",
      "print \"culturable area = %.2f hectares.\"%(CA);\n",
      "\n"
     ],
     "language": "python",
     "metadata": {},
     "outputs": [
      {
       "output_type": "stream",
       "stream": "stdout",
       "text": [
        "culturable area = 351.00 hectares.\n"
       ]
      }
     ],
     "prompt_number": 15
    },
    {
     "cell_type": "heading",
     "level": 2,
     "metadata": {},
     "source": [
      "Example 5.11 pg : 284"
     ]
    },
    {
     "cell_type": "code",
     "collapsed": false,
     "input": [
      "import math \n",
      "\n",
      "#percent decrease when two well discharges\n",
      "\n",
      "#Given\n",
      "d = 0.2;            \t\t\t\t#diameter of well\n",
      "r = d/2;\n",
      "B = 100;             \t\t\t\t#dismath.tance between wells\n",
      "b = 12;             \t\t\t\t#thickness of acquifer\n",
      "k = 60;             \t\t\t\t#coefficient of permeability\n",
      "s = 3;              \t\t\t\t#print ersion head\n",
      "R = 250;            \t\t\t\t#radius of influence\n",
      "Q = 2.72*b*k*s/(24*math.log10(R/r));\n",
      "print \"discharge if one well discharges = %i cubic metre/hour.\"%(Q);\n",
      "#when both well are discharging\n",
      "Q1 = 2.72*k*b*s/(24*math.log10(R**2/(r*B)));\n",
      "Q1 = round(Q1*10)/10;\n",
      "print \"discharge if both wells discharges = %.2f cubic metre/hour.\"%(Q1);\n",
      "PE = (Q-Q1)*100/Q;\n",
      "PE = round(PE*100)/100;\n",
      "print \"percentage decrease in discharge = %.2f percent.\"%(PE);\n",
      "\n"
     ],
     "language": "python",
     "metadata": {},
     "outputs": [
      {
       "output_type": "stream",
       "stream": "stdout",
       "text": [
        "discharge if one well discharges = 72 cubic metre/hour.\n",
        "discharge if both wells discharges = 64.50 cubic metre/hour.\n",
        "percentage decrease in discharge = 10.47 percent.\n"
       ]
      }
     ],
     "prompt_number": 16
    },
    {
     "cell_type": "heading",
     "level": 2,
     "metadata": {},
     "source": [
      "Example 5.12 pg : 285"
     ]
    },
    {
     "cell_type": "code",
     "collapsed": false,
     "input": [
      "import math \n",
      "\n",
      "#coefficient of permeability\n",
      "#drawdown in well\n",
      "#specific capacity\n",
      "#maximum rate at which water can be pumped\n",
      "\n",
      "#Given\n",
      "d = 0.6;            \t\t\t\t#diameter of well;\n",
      "rw = d/2;\n",
      "H = 40.;             \t\t\t\t#depth of water in well before pumping\n",
      "Q = 2000.;           \t\t\t\t#discharge from well\n",
      "s1 = 4.;             \t\t\t\t#drawdown in well\n",
      "B1 = 10.;            \t\t\t\t#dismath.tance between well\n",
      "s2 = 2.;\n",
      "B2 = 20.;\n",
      "#Part (a)\n",
      "h1 = H-s1;\n",
      "h2 = H-s2;\n",
      "t = (H**2-h2**2)/(H**2-h1**2);\n",
      "R = (B2/(B1**t))**(1/(1-t));\n",
      "R = round(R*100)/100;\n",
      "print \" radius of zero drawdown = %.2f m\"%(R);\n",
      "#Part (b)\n",
      "r = 10;\n",
      "k = Q*math.log10(R/r)*60*24/(1.36*(H**2-h1**2)*1000);\n",
      "k = round(k*100)/100;\n",
      "print \"coefficient of permeability = %.2f m/day.\"%(k);\n",
      "\n",
      "#part (c)\n",
      "Ho = (H**2-(Q*math.log10(R/rw)*24*60/(1000*1.36*k)))**0.5;\n",
      "D = H-Ho;\n",
      "D = round(D*100)/100;\n",
      "print \"drawdown in well = %.2f m.\"%(D);\n",
      "\n",
      "#part (d)\n",
      "C = Q/(1000*R);\n",
      "#for R = 1 m;Q = Sc\n",
      "#hence on putting the values in discharge equation  we get\n",
      "#Sc*math.log10(61.2*Sc) = 0.3223.\n",
      "#on solving this by trial and error method we get Sc = 0.266 m**2/min.\n",
      "print \"Specific capacity = 0.266 cubic metre/minutes/metre.\";\n",
      "\n",
      "#part (e)\n",
      "#this is obtained when Q = H\n",
      "#hence from equation of discharge,we get\n",
      "#Q*math.log10(69.2*Q) = 6.528.\n",
      "#solving it by trial and error method we get Q = 2.85 m**3/min.\n",
      "print \"maximum rate at which water can be pumped = 2.85 cubic metre/min\";\n"
     ],
     "language": "python",
     "metadata": {},
     "outputs": [
      {
       "output_type": "stream",
       "stream": "stdout",
       "text": [
        " radius of zero drawdown = 41.53 m\n",
        "coefficient of permeability = 4.31 m/day.\n",
        "drawdown in well = 16.59 m.\n",
        "Specific capacity = 0.266 cubic metre/minutes/metre.\n",
        "maximum rate at which water can be pumped = 2.85 cubic metre/min\n"
       ]
      }
     ],
     "prompt_number": 17
    },
    {
     "cell_type": "heading",
     "level": 2,
     "metadata": {},
     "source": [
      "Example 5.13 pg : 298"
     ]
    },
    {
     "cell_type": "code",
     "collapsed": false,
     "input": [
      "%pylab inline\n",
      "import math \n",
      "from numpy import zeros,linspace\n",
      "from matplotlib.pylab import plot\n",
      "\n",
      "\t\t\t\t\n",
      "#Given\n",
      "Q = 2500.;      \t\t\t\t#discharge(l/min)\n",
      "r = 60.;        \t\t\t\t#dismath.tance of observation well from acquifer\n",
      "tmin = [1, 1.5, 2, 2.5, 3, 4, 5, 6, 8, 10, 12, 14, 18, 24, 30, 40, 50, 60, 80, 100, 120, 150, 180, 210, 240];  \t\t\t\t#time in minutes\n",
      "s = [0.2, 0.26, 0.3, 0.33, 0.36, 0.41, 0.45, 0.48, 0.53, 0.56, 0.59, 0.62, 0.66, 0.71, 0.75, 0.80, 0.83, 0.86, 0.91, 0.95, 0.98, 1.03, 1.05, 1.08, 1.10];  \t\t\t\t#drawdown\n",
      "u = linspace(1,9,9)\n",
      "Wu = [0.2194, 0.04891, 0.01315, 0.003779, 0.001148, 0.000360, 0.000116, 0.0000377, 0.0000125];\n",
      "tday = zeros(25)\n",
      "for i in range(25):\n",
      "    tday[i] = tmin[i]/(60.*24);\n",
      "\n",
      "\n",
      "rt = zeros(25)\n",
      "for i in range(25):\n",
      "    rt[i] = r**2/tday[i];\n",
      "\n",
      "#graph is plotted between s and r**2/t and W(u) and u and they are superimposed.\n",
      "#from which we get\n",
      "plot(s,rt)\n",
      "plot(Wu,u)\n",
      "s1 = 0.52;\n",
      "Wu1 = 2.96;\n",
      "rt1 = 700000; \n",
      "u1 = 0.03;\n",
      "Q = 3600;                \t\t\t\t#discharge in cumec/day\n",
      "T = Q*Wu1/(4*math.pi*s1);\n",
      "S = 4*u1*T/rt1;\n",
      "T = round(T);\n",
      "print \"formation consmath.tant of acquifer:\";\n",
      "print \"T = %.2f cubic metre/day/m.S = %.2f.\"%(T,S);\n"
     ],
     "language": "python",
     "metadata": {},
     "outputs": [
      {
       "output_type": "stream",
       "stream": "stdout",
       "text": [
        "Populating the interactive namespace from numpy and matplotlib\n",
        "formation consmath.tant of acquifer:\n",
        "T = 1631.00 cubic metre/day/m.S = 0.00.\n"
       ]
      },
      {
       "metadata": {},
       "output_type": "display_data",
       "png": "[encoded data removed]",
       "text": [
        "<matplotlib.figure.Figure at 0x10aec95d0>"
       ]
      }
     ],
     "prompt_number": 1
    },
    {
     "cell_type": "heading",
     "level": 2,
     "metadata": {},
     "source": [
      "Example 5.14 pg : 299"
     ]
    },
    {
     "cell_type": "code",
     "collapsed": false,
     "input": [
      "%pylab inline\n",
      "import math\n",
      "from numpy import zeros\n",
      "from matplotlib.pylab import plot\n",
      "\n",
      "\t\t\t\t\n",
      "#Given\n",
      "Q = 2500;      \t\t\t\t#discharge(l/min)\n",
      "r = 60;        \t\t\t\t#dismath.tance of observation well from acquifer\n",
      "tmin = [1, 1.5, 2, 2.5, 3, 4, 5, 6, 8, 10, 12, 14, 18, 24, 30, 40, 50, 60, 80, 100, 120, 150, 180, 210, 240];  \t\t\t\t#time in minutes\n",
      "s = [0.2, 0.26, 0.3, 0.33, 0.36, 0.41, 0.45, 0.48, 0.53, 0.56, 0.59, 0.62, 0.66, 0.71, 0.75, 0.80, 0.83, 0.86, 0.91, 0.95, 0.98, 1.03, 1.05, 1.08, 1.10];  \t\t\t\t#drawdown\n",
      "tday = zeros(25)\n",
      "for i in range(25):\n",
      "    tday[i] = tmin[i]/(60*24);\n",
      "\n",
      "#from the graph between s and t we get\n",
      "plot(s,tday)\n",
      "ds = 0.38;\n",
      "Q = 3600;      \t\t\t\t#discharge in cumec/day\n",
      "T = 2.303*Q/(4*math.pi*ds);\n",
      "\t\t\t\t#extending the straight line we get\n",
      "to = 0.00024;\n",
      "S = 2.25*T*to/r**2;\n",
      "print \"formation constant of acquifer:\";\n",
      "print \"T = %i cubic metre/day/m.S = %.2f.\"%(T,S);\n",
      "\n"
     ],
     "language": "python",
     "metadata": {},
     "outputs": [
      {
       "output_type": "stream",
       "stream": "stdout",
       "text": [
        "Populating the interactive namespace from numpy and matplotlib\n",
        "formation constant of acquifer:"
       ]
      },
      {
       "output_type": "stream",
       "stream": "stdout",
       "text": [
        "\n",
        "T = 1736 cubic metre/day/m.S = 0.00.\n"
       ]
      },
      {
       "metadata": {},
       "output_type": "display_data",
       "png": "[encoded data removed]",
       "text": [
        "<matplotlib.figure.Figure at 0x10c4e2850>"
       ]
      }
     ],
     "prompt_number": 2
    },
    {
     "cell_type": "heading",
     "level": 2,
     "metadata": {},
     "source": [
      "Example 5.15 pg : 299"
     ]
    },
    {
     "cell_type": "code",
     "collapsed": false,
     "input": [
      "%pylab inline\n",
      "import math\n",
      "from numpy import zeros\n",
      "from matplotlib.pylab import plot\n",
      "\n",
      "\t\t\t\t\n",
      "#Given\n",
      "Q = 2500;      \t\t\t\t#discharge(l/min)\n",
      "r = 60;        \t\t\t\t#dismath.tance of observation well from acquifer\n",
      "tmin = [1, 1.5, 2, 2.5, 3, 4, 5, 6, 8, 10, 12, 14, 18, 24, 30, 40, 50, 60, 80, 100, 120, 150, 180, 210, 240];  \t\t\t\t#time in minutes\n",
      "s = [0.2, 0.26, 0.3, 0.33, 0.36, 0.41, 0.45, 0.48, 0.53, 0.56, 0.59, 0.62, 0.66, 0.71, 0.75, 0.80, 0.83, 0.86, 0.91, 0.95, 0.98, 1.03, 1.05, 1.08, 1.10];  \t\t\t\t#drawdown\n",
      "tday = zeros(25)\n",
      "for i in range(25):\n",
      "    tday[i] = tmin[i]/(60.*24);\n",
      "\n",
      "#graph is plotted between s and t\n",
      "#point P is choosen on it whose ordinate is:\n",
      "plot(s,tday)\n",
      "s1 = 0.45;\n",
      "t = 0.00347;\n",
      "ds = 0.38;             \t\t\t\t#for one math.log cycle of time\n",
      "Fu = s1/ds;\n",
      "#from fig 5.43\n",
      "#or umath.sing relation\n",
      "Wu = 2.303*Fu;  \n",
      "u = 0.035;    \t\t\t\t#from table 5.2\n",
      "Q = 3600;          \t\t\t\t#discharge in cumec/day\n",
      "T = Q*Wu/(4*math.pi*s1);\n",
      "S = 4*u*t*T/r**2;\n",
      "print \"formation consmath.tant of acquifer:\";\n",
      "print \"T = %i cubic metre/day/m.S = %.2f.\"%(T,S);\n",
      "\n"
     ],
     "language": "python",
     "metadata": {},
     "outputs": [
      {
       "output_type": "stream",
       "stream": "stdout",
       "text": [
        "Populating the interactive namespace from numpy and matplotlib\n",
        "formation consmath.tant of acquifer:"
       ]
      },
      {
       "output_type": "stream",
       "stream": "stdout",
       "text": [
        "\n",
        "T = 1736 cubic metre/day/m.S = 0.00.\n"
       ]
      },
      {
       "metadata": {},
       "output_type": "display_data",
       "png": "[encoded data removed]",
       "text": [
        "<matplotlib.figure.Figure at 0x10aeaaa90>"
       ]
      }
     ],
     "prompt_number": 3
    },
    {
     "cell_type": "heading",
     "level": 2,
     "metadata": {},
     "source": [
      "Example 5.15 pg : 300"
     ]
    },
    {
     "cell_type": "code",
     "collapsed": false,
     "input": [
      "import math \n",
      "\t\t\t\t#draw daown in main well\n",
      "\t\t\t\t\n",
      "#Given\n",
      "H = 25;          \t\t\t\t#static water level\n",
      "rw = 0.15;       \t\t\t\t#radius of well\n",
      "Q = 5400;        \t\t\t\t#discharge(litre/min)\n",
      "t = 24;          \t\t\t\t#time of discharge\n",
      "r1 = 30;          \t\t\t\t#dismath.tance of first well\n",
      "s1 = 1.11;       \t\t\t\t#drawdown\n",
      "h1 = H-s1;\n",
      "r2 = 90;         \t\t\t\t#dismath.tance of second well\n",
      "s2 = 0.53;       \t\t\t\t#drawdown\n",
      "h2 = H-s2;\n",
      "k = (Q*2.303*math.log10(r2/r1))/(math.pi*(h2**2-h1**2)*60000);\n",
      "T = k*H;\n",
      "T = round(T*10000)/10000;\n",
      "print \"transmissibility of acquifer = %.2f cumec/sec.\"%(T);\n",
      "hw = (h2**2-(Q*2.303*math.log10(r2/rw))/(math.pi*k*60000))**0.5;\n",
      "sw = H-hw;\n",
      "sw = round(sw*100)/100;\n",
      "print \"draw daown in main well = %.2f m.\"%(sw);\n",
      "\n"
     ],
     "language": "python",
     "metadata": {},
     "outputs": [
      {
       "output_type": "stream",
       "stream": "stdout",
       "text": [
        "transmissibility of acquifer = 0.03 cumec/sec.\n",
        "draw daown in main well = 4.13 m.\n"
       ]
      }
     ],
     "prompt_number": 24
    },
    {
     "cell_type": "heading",
     "level": 2,
     "metadata": {},
     "source": [
      "Example 5.16 pg : 300"
     ]
    },
    {
     "cell_type": "code",
     "collapsed": false,
     "input": [
      "import math \n",
      "\t\t\t\t\n",
      "#Given\n",
      "Q = 250;           \t\t\t\t#discharge(lit/min)\n",
      "H = 100;           \t\t\t\t#water level in acquifer\n",
      "s1 = 12;           \t\t\t\t#drawdown\n",
      "h1 = H-s1;\n",
      "\t\t\t\t#let t = ln(R/r)/(pi*k)\n",
      "t = (H**2-h1**2)/Q;\n",
      "h2 = H-18;\n",
      "Q1 = (H**2-h2**2)/t;\n",
      "print \"discharge at 18m drawdown = %d lpm\"%(Q1);\n",
      "\n"
     ],
     "language": "python",
     "metadata": {},
     "outputs": [
      {
       "output_type": "stream",
       "stream": "stdout",
       "text": [
        "discharge at 18m drawdown = 364 lpm\n"
       ]
      }
     ],
     "prompt_number": 32
    },
    {
     "cell_type": "heading",
     "level": 2,
     "metadata": {},
     "source": [
      "Example 5.17 pg : 301"
     ]
    },
    {
     "cell_type": "code",
     "collapsed": false,
     "input": [
      "import math \n",
      "\t\t\t\t\n",
      "#Given\n",
      "b = 10;              \t\t\t\t#thickness of acquifer\n",
      "k = 48;              \t\t\t\t#permeability coefficient\n",
      "R = 500.;             \t\t\t\t#radius of influence\n",
      "s = 12;              \t\t\t\t#drawdown\n",
      "Q = 5000;            \t\t\t\t#discharge(cumec/day)\n",
      "r = R/math.e**(2*math.pi*b*k*s/Q);\n",
      "D = 2*r;\n",
      "D = round(D*100)/100;\n",
      "print \"effective well diameter = %.2f m.\"%(D);\n"
     ],
     "language": "python",
     "metadata": {},
     "outputs": [
      {
       "output_type": "stream",
       "stream": "stdout",
       "text": [
        "effective well diameter = 0.72 m.\n"
       ]
      }
     ],
     "prompt_number": 26
    },
    {
     "cell_type": "heading",
     "level": 2,
     "metadata": {},
     "source": [
      "Example 5.18 pg : 301"
     ]
    },
    {
     "cell_type": "code",
     "collapsed": false,
     "input": [
      "import math \n",
      "\t\t\t\t\n",
      "#Given\n",
      "Q = 1500;            \t\t\t\t#discharge(lit/min)\n",
      "S = 0.004;           \t\t\t\t#storage coefficient\n",
      "k = 35;              \t\t\t\t#permeability\n",
      "t = 20;              \t\t\t\t#time of pumping\n",
      "b = 30;              \t\t\t\t#thickness of acquifer\n",
      "r = 40;              \t\t\t\t#dismath.tance of observation well\n",
      "T = k*b;\n",
      "s = Q*(2.303*math.log10(4*T*t*3600/(60*60*24*r**2*S))-0.5772)*60*60*24/(4*math.pi*T*60000);    \t\t\t\t#Jacob's equation\n",
      "s = round(s*100)/100;\n",
      "print \"drawdown at 40m = %.2f m.\"%(s);\n",
      "\n"
     ],
     "language": "python",
     "metadata": {},
     "outputs": [
      {
       "output_type": "stream",
       "stream": "stdout",
       "text": [
        "drawdown at 40m = 0.94 m.\n"
       ]
      }
     ],
     "prompt_number": 27
    },
    {
     "cell_type": "heading",
     "level": 2,
     "metadata": {},
     "source": [
      "Example 5.19 pg : 301"
     ]
    },
    {
     "cell_type": "code",
     "collapsed": false,
     "input": [
      "import math \n",
      "\n",
      "#Given\n",
      "h1 = 2.5;                  \t\t\t\t#initial pumping depression\n",
      "h = 1.8;                   \t\t\t\t#heigth after recuperation\n",
      "t = 80;                    \t\t\t\t#time\n",
      "h2 = h1-h;\n",
      "KbyA = 2.303*60*math.log10(h1/h2)/t;\n",
      "d = 4;           \t\t\t\t#diameter of well\n",
      "H = 3;           \t\t\t\t#depression head\n",
      "A = math.pi*d**2/4;\n",
      "Q = (KbyA)*A*H/3.6;\n",
      "Q = round(Q);\n",
      "print \"Yield from well = %.2f lit/sec.\"%(Q);\n"
     ],
     "language": "python",
     "metadata": {},
     "outputs": [
      {
       "output_type": "stream",
       "stream": "stdout",
       "text": [
        "Yield from well = 10.00 lit/sec.\n"
       ]
      }
     ],
     "prompt_number": 28
    },
    {
     "cell_type": "heading",
     "level": 2,
     "metadata": {},
     "source": [
      "Example 5.20 pg : 301"
     ]
    },
    {
     "cell_type": "code",
     "collapsed": false,
     "input": [
      "import math \n",
      "\n",
      "#Given\n",
      "rw = 0.15;         \t\t\t\t#radius of well\n",
      "b = 40;            \t\t\t\t#depth of acquifer\n",
      "Q = 1500;          \t\t\t\t#discharge(lpm)\n",
      "s1 = 3.5;          \t\t\t\t#drawdown of first well\n",
      "s2 = 2;            \t\t\t\t#drawdown of second well\n",
      "H = 40;           \n",
      "r1 = 25;           \t\t\t\t#dismath.tance of first well\n",
      "r2 = 75;           \t\t\t\t#dismath.tance of second well\n",
      "h1 = H-s1;\n",
      "h2 = H-s2;\n",
      "k = Q*2.303*math.log10(r2/r1)/(math.pi*1000*60*(h2**2-h1**2));\n",
      "T = b*k*1000;\n",
      "print \"transmissibility = %.2fD-3 square metre/sec\"%(T);\n",
      "\n",
      "hw = (h2**2-(Q*2.303*math.log10(r2/rw)/(math.pi*k*60000)))**0.5;\n",
      "sw = H-hw;\n",
      "sw = round(sw*100)/100;\n",
      "print \"drawdown at pumping well = %.2f m.\"%(sw);\n"
     ],
     "language": "python",
     "metadata": {},
     "outputs": [
      {
       "output_type": "stream",
       "stream": "stdout",
       "text": [
        "transmissibility = 3.13D-3 square metre/sec\n",
        "drawdown at pumping well = 11.51 m.\n"
       ]
      }
     ],
     "prompt_number": 29
    },
    {
     "cell_type": "heading",
     "level": 2,
     "metadata": {},
     "source": [
      "Example 5.21 pg : 302"
     ]
    },
    {
     "cell_type": "code",
     "collapsed": false,
     "input": [
      "import math \n",
      "\t\t\t\t\n",
      "#Given\n",
      "r = 0.25;       \t\t\t\t#radius of test well\n",
      "r1 = 10;        \t\t\t\t#dismath.tance of first well\n",
      "r2 = 60;        \t\t\t\t#dismath.tance of second well\n",
      "Q = 0.1;        \t\t\t\t#discharge(cumec/sec)\n",
      "s1 = 4;         \t\t\t\t#drawdown of first well\n",
      "s2 = 3;         \t\t\t\t#drawdown of second well\n",
      "b = 20;         \t\t\t\t#thickness of well\n",
      "k = 1000*Q*math.log10(r2/r1)/(2.72*b*(s1-s2));\n",
      "print \"coefficient of permeability = %.2fD-3 m/sec\"%(k);\n",
      "s = s2+Q*math.log10(r2/r)/(2.72*b*k);\n",
      "s = round(s*100)/100;\n",
      "print \"drawdown in test well = %.2f m.\"%(s); \n",
      "\n"
     ],
     "language": "python",
     "metadata": {},
     "outputs": [
      {
       "output_type": "stream",
       "stream": "stdout",
       "text": [
        "coefficient of permeability = 1.43D-3 m/sec\n",
        "drawdown in test well = 3.00 m.\n"
       ]
      }
     ],
     "prompt_number": 30
    },
    {
     "cell_type": "heading",
     "level": 2,
     "metadata": {},
     "source": [
      "Example 5.22 pg : 303"
     ]
    },
    {
     "cell_type": "code",
     "collapsed": false,
     "input": [
      "import math \n",
      "\t\t\t\t\n",
      "#Given\n",
      "h1 = 2.1;                  \t\t\t\t#initial pumping depression\n",
      "h = 1.6;                   \t\t\t\t#heigth after recuperation\n",
      "t = 90;                    \t\t\t\t#time\n",
      "h2 = h1-h;\n",
      "KbyA = 2.303*60*math.log10(h1/h2)/t;\n",
      "Q = 10;          \t\t\t\t#yield(lit/sec)\n",
      "H = 2;\n",
      "A = Q*3.6/(H*(KbyA));\n",
      "d = (4*A/math.pi)**0.5;\n",
      "d = round(d*10)/10;\n",
      "print \"Daimeter of well = %.2f m\"%(d);\n"
     ],
     "language": "python",
     "metadata": {},
     "outputs": [
      {
       "output_type": "stream",
       "stream": "stdout",
       "text": [
        "Daimeter of well = 4.90 m\n"
       ]
      }
     ],
     "prompt_number": 31
    },
    {
     "cell_type": "heading",
     "level": 2,
     "metadata": {},
     "source": [
      "Example 5.23 pg : 303"
     ]
    },
    {
     "cell_type": "code",
     "collapsed": false,
     "input": [
      "import math \n",
      "\n",
      "\n",
      "\t\t\t\t\n",
      "#Given\n",
      "h1 = 2.5;                  \t\t\t\t#initial pumping depression\n",
      "h = 1;                   \t\t\t\t#heigth after recuperation\n",
      "t = 60;                    \t\t\t\t#time\n",
      "h2 = h1-h;\n",
      "\n",
      "# Calculations\n",
      "KbyA = 2.303*60*math.log10(h1/h2)/t;\n",
      "d = 2.;           \t\t\t\t#diameter of well\n",
      "H = 3.;           \t\t\t\t#depression head\n",
      "A = math.pi*d**2/4;\n",
      "Q = (KbyA)*A*H;\n",
      "Q = round(Q*1000)/1000;\n",
      "\n",
      "# Results\n",
      "print \"Yield from well = %.2f cubic metre/hour.\"%(Q);\n"
     ],
     "language": "python",
     "metadata": {},
     "outputs": [
      {
       "output_type": "stream",
       "stream": "stdout",
       "text": [
        "Yield from well = 4.82 cubic metre/hour.\n"
       ]
      }
     ],
     "prompt_number": 33
    }
   ],
   "metadata": {}
  }
 ]
}