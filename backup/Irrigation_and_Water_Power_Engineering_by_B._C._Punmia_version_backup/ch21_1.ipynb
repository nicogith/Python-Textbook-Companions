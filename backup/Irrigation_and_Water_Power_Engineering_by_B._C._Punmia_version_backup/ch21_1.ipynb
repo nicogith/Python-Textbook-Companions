{
 "metadata": {
  "name": "",
  "signature": "sha256:cfc0d5f8100e77d08cba72409c2d6158116c0c87f0c1bc2797c7cdf67223be53"
 },
 "nbformat": 3,
 "nbformat_minor": 0,
 "worksheets": [
  {
   "cells": [
    {
     "cell_type": "heading",
     "level": 1,
     "metadata": {},
     "source": [
      "Chapter 21 :  WATER POWER ENGINEERING"
     ]
    },
    {
     "cell_type": "heading",
     "level": 2,
     "metadata": {},
     "source": [
      "Example 21.1 pg : 906"
     ]
    },
    {
     "cell_type": "code",
     "collapsed": false,
     "input": [
      "import math \n",
      "\n",
      "#total installed capacity\n",
      "#load factor\n",
      "#plant factor\n",
      "#utilization factor\n",
      "\t\t\t\t\n",
      "#Given\n",
      "c = 10000.;               \t\t\t\t#capacity of each generator;\n",
      "n = 3.;                \t\t\t\t#number of generator\n",
      "l1 = 12000.;            \t\t\t\t#initial load on plant\n",
      "l2 = 26000.;            \t\t\t\t#final load on plant\n",
      "\n",
      "\n",
      "# Calculations and Results\n",
      "tc = n*c;\n",
      "print \"Total installed capacity = %i kW.\"%(tc);\n",
      "\n",
      "avg = (l1+l2)/2;       \t\t\t\t#average load\n",
      "pk = l2;               \t\t\t\t#peak load\n",
      "lf = avg*100/pk;\n",
      "lf = round(lf*10)/10;\n",
      "print \"load factor = %.2f percent.\"%(lf);\n",
      "\n",
      "\t\t\t\t#take any time duration t hours\n",
      "pf = avg*100/tc;\n",
      "pf = round(pf*10)/10;\n",
      "print \"plant factor = %.2f percent.\"%(pf);\n",
      "\n",
      "uf = pk*100/tc;\n",
      "uf = round(uf*10)/10;\n",
      "print \"utilization ratio = %.2f percent.\"%(uf);\n"
     ],
     "language": "python",
     "metadata": {},
     "outputs": [
      {
       "output_type": "stream",
       "stream": "stdout",
       "text": [
        "Total installed capacity = 30000 kW.\n",
        "load factor = 73.10 percent.\n",
        "plant factor = 63.30 percent.\n",
        "utilization ratio = 86.70 percent.\n"
       ]
      }
     ],
     "prompt_number": 1
    },
    {
     "cell_type": "heading",
     "level": 2,
     "metadata": {},
     "source": [
      "Example 21.2 pg : 906"
     ]
    },
    {
     "cell_type": "code",
     "collapsed": false,
     "input": [
      "import math \n",
      "\n",
      "#pondage to be provided\n",
      "\t\t\t\t\n",
      "#Given\n",
      "Q = 40.;         \t\t\t\t# minimum flow in river\n",
      "H = 30.;         \t\t\t\t#net head\n",
      "lf = 0.73;       \t\t\t\t#load factor\n",
      "eita = 0.6;     \t\t\t\t#plant efficiency\n",
      "\n",
      "# Calculations and Results\n",
      "P = 9.81*Q*H*eita;\n",
      "pk = P/lf;\n",
      "pk = round(pk*10)/10;\n",
      "print \"maximum generation capacity of generator = %.2f kW.\"%(pk);\n",
      "\n",
      "pp = pk-P;           \t\t\t\t#power develop from pondage\n",
      "Q = pp/(9.81*H*eita);\n",
      "pr = Q*4*3600/10000;\n",
      "pr = round(pr*10)/10;\n",
      "print \"Pondage required = %.2fD+4 cubic metre.\"%(pr);\n"
     ],
     "language": "python",
     "metadata": {},
     "outputs": [
      {
       "output_type": "stream",
       "stream": "stdout",
       "text": [
        "maximum generation capacity of generator = 9675.60 kW.\n",
        "Pondage required = 21.30D+4 cubic metre.\n"
       ]
      }
     ],
     "prompt_number": 2
    },
    {
     "cell_type": "heading",
     "level": 2,
     "metadata": {},
     "source": [
      "Example 21.3 pg : 907"
     ]
    },
    {
     "cell_type": "code",
     "collapsed": false,
     "input": [
      "import math \n",
      "\n",
      "#maximum load factor\n",
      "\t\t\t\t\n",
      "#Given\n",
      "c = 15000.;            \t\t\t\t#installed capacity of plant\n",
      "lf = 0.3;             \t\t\t\t#load factor\n",
      "eita = 0.82;         \t\t\t\t#plant efficiency\n",
      "H = 25;              \t\t\t\t#working head\n",
      "\n",
      "# Calculations and Results\n",
      "avg = c*lf;        \t\t\t\t#average power developed\n",
      "Q = avg/(9.81*H*eita);\n",
      "Q = round(Q*100)/100;\n",
      "print \"minimum discharge required in the stream = %.2f cumecs.\"%(Q);\n",
      "\n",
      "Q = 32;         \t\t\t\t#for second case\n",
      "P = 9.81*H*Q*eita;\n",
      "lf = P*100/c;\n",
      "lf = round(lf*10)/10;\n",
      "print \"maximum load factor = %.2f percent.\"%(lf);\n"
     ],
     "language": "python",
     "metadata": {},
     "outputs": [
      {
       "output_type": "stream",
       "stream": "stdout",
       "text": [
        "minimum discharge required in the stream = 22.38 cumecs.\n",
        "maximum load factor = 42.90 percent.\n"
       ]
      }
     ],
     "prompt_number": 3
    }
   ],
   "metadata": {}
  }
 ]
}