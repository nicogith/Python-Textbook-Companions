{
 "metadata": {
  "name": "",
  "signature": "sha256:53d9baa002bc091d49086abaa2a84293a2f939159da5a1508c44dddc72e14dc5"
 },
 "nbformat": 3,
 "nbformat_minor": 0,
 "worksheets": [
  {
   "cells": [
    {
     "cell_type": "heading",
     "level": 1,
     "metadata": {},
     "source": [
      "Chapter 4 : HYDROLOGY\n"
     ]
    },
    {
     "cell_type": "heading",
     "level": 2,
     "metadata": {},
     "source": [
      "Example 4.1 pg : 113"
     ]
    },
    {
     "cell_type": "code",
     "collapsed": false,
     "input": [
      "\t\t\t\t\n",
      "#Given\n",
      "p = [78.8, 90.2, 98.6, 102.4, 70.4];   \t\t\t\t#rain guage readings at respective stations\n",
      "s = 0.;\n",
      "\n",
      "# Calculations and Results\n",
      "for i in range(5):\n",
      "    s = s+p[i];\n",
      "\n",
      "pavg = s/5;\n",
      "u = 0;\n",
      "for i in range(5):\n",
      "    u = u+(p[i]-pavg)**2;\n",
      "\n",
      "sx = (u/4)**0.5;\n",
      "Cv = sx*100/pavg;\n",
      "N = (Cv/6)**2;\n",
      "N = round(N*100)/100;\n",
      "print \"mean rainfall = %.2f cm.\"%(pavg);\n",
      "print \"total stations needed = %.2f.\"%(N);\n",
      "#taking N = 7\n",
      "N = 7;\n",
      "n = N-5;\n",
      "print \"additional guages needed = %i.\"%(n);\n",
      "\n"
     ],
     "language": "python",
     "metadata": {},
     "outputs": [
      {
       "output_type": "stream",
       "stream": "stdout",
       "text": [
        "mean rainfall = 88.08 cm.\n",
        "total stations needed = 6.44.\n",
        "additional guages needed = 2.\n"
       ]
      }
     ],
     "prompt_number": 1
    },
    {
     "cell_type": "heading",
     "level": 2,
     "metadata": {},
     "source": [
      "Example 4.2 pg : 115"
     ]
    },
    {
     "cell_type": "code",
     "collapsed": false,
     "input": [
      "\t\t\t\t\n",
      "#Given\n",
      "pB = 48.;         \t\t\t\t#precipitation at B\n",
      "pC = 51.;         \t\t\t\t#precpitation at C\n",
      "pD = 45.;         \t\t\t\t#precipitation at D\n",
      "\n",
      "# Calculations\n",
      "pA = (pB+pC+pD)/3;\n",
      "\n",
      "# Results\n",
      "print \"precipitation at A = %i mm.\"%(pA);"
     ],
     "language": "python",
     "metadata": {},
     "outputs": [
      {
       "output_type": "stream",
       "stream": "stdout",
       "text": [
        "precipitation at A = 48 mm.\n"
       ]
      }
     ],
     "prompt_number": 2
    },
    {
     "cell_type": "heading",
     "level": 2,
     "metadata": {},
     "source": [
      "Example 4.3 pg : 115"
     ]
    },
    {
     "cell_type": "code",
     "collapsed": false,
     "input": [
      "\t\t\t\t\n",
      "#Given\n",
      "pA = 6.6;         \t\t\t\t#precipitation at A\n",
      "pB = 4.8;         \t\t\t\t#precpitation at B\n",
      "pC = 3.7;         \t\t\t\t#precipitation at C\n",
      "nA = 72.6;        \t\t\t\t#normal precipitation at A\n",
      "nB = 51.8;        \t\t\t\t#normal precipitation at B\n",
      "nC = 38.2;        \t\t\t\t#normal precipitation at C\n",
      "nX = 65.6;        \t\t\t\t#normal precipitation at X\n",
      "\n",
      "# Calculations\n",
      "pX = (nX*pA/nA+nX*pB/nB+nX*pC/nC)/3;\n",
      "pX = round(pX*100)/100;\n",
      "\n",
      "# Results\n",
      "print \"precipitation at x = %.2f cm.\"%(pX);\n"
     ],
     "language": "python",
     "metadata": {},
     "outputs": [
      {
       "output_type": "stream",
       "stream": "stdout",
       "text": [
        "precipitation at x = 6.13 cm.\n"
       ]
      }
     ],
     "prompt_number": 3
    },
    {
     "cell_type": "heading",
     "level": 2,
     "metadata": {},
     "source": [
      "Example 4.4 pg : 115"
     ]
    },
    {
     "cell_type": "code",
     "collapsed": false,
     "input": [
      "\t\t\t\t\n",
      "#Given\n",
      "pB = 74.;         \t\t\t\t#precipitation at B\n",
      "pC = 88.;         \t\t\t\t#precpitation at C\n",
      "pD = 71.;         \t\t\t\t#precipitation at D\n",
      "pE = 80.;         \t\t\t\t#precipitation at E\n",
      "Bx = 9.;\n",
      "By = 6.;\n",
      "Cx = 12.;\n",
      "Cy = -9.;\n",
      "Dx = -11.;\n",
      "Dy = -6.;\n",
      "Ex = -7.;\n",
      "Ey = 7.;\n",
      "Ax = 0;\n",
      "Ay = 0;\n",
      "\n",
      "# Calculations\n",
      "Db = (Bx**2+By**2);\n",
      "Dc = (Cx**2+Cy**2);\n",
      "Dd = (Dx**2+Dy**2);\n",
      "De = (Ex**2+Ey**2);\n",
      "Wb = 1/Db;\n",
      "Wc = 1/Dc;\n",
      "Wd = 1/Dd;\n",
      "We = 1/De;\n",
      "s = pB*Wb+pC*Wc+pD*Wd+pE*We;\n",
      "pA = s/(Wb+Wc+Wd+We);\n",
      "pA = round(pA*10)/10;\n",
      "\n",
      "# Results\n",
      "print \"precipitation at A = %.2f mm.\"%(pA);\n"
     ],
     "language": "python",
     "metadata": {},
     "outputs": [
      {
       "output_type": "stream",
       "stream": "stdout",
       "text": [
        "precipitation at A = 77.50 mm.\n"
       ]
      }
     ],
     "prompt_number": 4
    },
    {
     "cell_type": "heading",
     "level": 2,
     "metadata": {},
     "source": [
      "Example 4.5 pg : 119"
     ]
    },
    {
     "cell_type": "code",
     "collapsed": false,
     "input": [
      "import math \n",
      "from numpy import zeros\n",
      "\t\t\t\t\n",
      "#Given\n",
      "p = [58., 61., 69., 56., 84., 86., 69., 79., 71.];   \t\t\t\t#values of precipitation\n",
      "s = 0;\n",
      "\n",
      "# Calculations and Results\n",
      "for i in range(9):\n",
      "    s = s+p[i];\n",
      "ar = s/9;\n",
      "ar = round(ar*10)/10;\n",
      "print \"umath.sing arithmatic average method:\"\n",
      "print \"Average rainfall = %.2f cm.\"%(ar);\n",
      "\n",
      "I = [86., 85., 80., 75., 70., 65., 60., 55., 50.];          \t\t\t\t#isphytes\n",
      "A = [0.43, 5.20, 4.0, 5.04, 5.85, 4.53, 4.09, 1.27];  \t\t\t\t#area between isohytes\n",
      "\n",
      "a = zeros(9)\n",
      "for i in range(8):\n",
      "    a[i] = (I[i]+I[i+1])/2;\n",
      "\n",
      "P = zeros(8)\n",
      "for i in range(8):\n",
      "    P[i] = A[i]*a[i];\n",
      "\n",
      "s = 0;\n",
      "for i in range(8):\n",
      "    s = s+P[i];\n",
      "\n",
      "t = 0;\n",
      "for i in range(8):\n",
      "    t = t+A[i];\n",
      "\n",
      "ar = s/t;\n",
      "ar = round(ar*10)/10;\n",
      "print \"isohytel method:\"\n",
      "print \"Average rainfall = %.2f cm.\"%(ar);\n",
      "\n",
      "A = [3.26, 0.39, 1.61, 2.04, 2.46, 0.84, 3.91, 5.09, 0.41, 3.94, 2.06, 4.40];   \t\t\t\t#thiessen area\n",
      "p = [58., 63., 71., 69., 86., 81., 84., 56., 53., 69., 61., 79.];           \t\t\t\t#observed precipitation\n",
      "P = zeros(12)\n",
      "for i in range(12):\n",
      "    P[i] = A[i]*p[i];\n",
      "\n",
      "s = 0;\n",
      "for i in range(12):\n",
      "    s = s+P[i];\n",
      "\n",
      "t = 0;\n",
      "for i in range(12):\n",
      "    t = t+A[i];\n",
      "\n",
      "ar = s/t;\n",
      "ar = round(ar*10)/10;\n",
      "print \"thiesson polygon method:\"\n",
      "print \"Average rainfall = %.2f cm.\"%(ar);\n",
      "\n",
      "#mean rainfall obtained by thiesson polygon method is different from book as product(A*P) is round offed in book.\n"
     ],
     "language": "python",
     "metadata": {},
     "outputs": [
      {
       "output_type": "stream",
       "stream": "stdout",
       "text": [
        "umath.sing arithmatic average method:\n",
        "Average rainfall = 70.30 cm.\n",
        "isohytel method:\n",
        "Average rainfall = 69.70 cm.\n",
        "thiesson polygon method:\n",
        "Average rainfall = 70.00 cm.\n"
       ]
      }
     ],
     "prompt_number": 5
    },
    {
     "cell_type": "heading",
     "level": 2,
     "metadata": {},
     "source": [
      "Example 4.6 pg : 127"
     ]
    },
    {
     "cell_type": "code",
     "collapsed": false,
     "input": [
      "%pylab inline\n",
      "import math \n",
      "from matplotlib.pyplot import plot\n",
      "from numpy import zeros\n",
      "\n",
      "\n",
      "#Given\n",
      "X = [69., 55., 62., 67., 87., 70., 65., 75., 90., 100., 90., 95., 85., 90., 75., 95.];   \t\t\t\t#annual rainfall at X\n",
      "Y = [77., 62., 67., 68., 86., 90., 65., 75, 70, 70, 70 ,75 ,65 ,70, 55, 75];    \t\t\t\t#average rainfall at 10 base stations\n",
      "cx = zeros(16)\n",
      "cx[0] = 69;               \t\t\t\t#accumulated annual values at station X \n",
      "for i in range(1,16):\n",
      "    cx[i] = cx[i-1]+X[i];\n",
      "\n",
      "cy = zeros(16)\n",
      "cy[0] = 77;\n",
      "for i in range(1,16):\n",
      "    cy[i] = cy[i-1]+Y[i];  \t\t\t\t#accumulated annual values at ten stations\n",
      "   \n",
      "\n",
      "#since curve is not having unform slope\n",
      "print \"Record at X is not consistent.\";\n",
      "print \"From the curve regime is observed in the year 1978.\"\n",
      "\n",
      "Q = [1970., 1971., 1972., 1973., 1974., 1975., 1976., 1977.];\n",
      "O = [95., 75., 90., 85., 95., 90., 100., 90.];\n",
      "for i in range(8):\n",
      "    A[i] = 0.7051*O[i];\n",
      "\n",
      "print \"Year          Observed rainfall          Adjusted rainfall\";\n",
      "for i in range(8):\n",
      "    print \"%i                %i                     %i\"%(Q[i],O[i],A[i]);\n",
      "\n",
      "#graph is plotted between cx and cy\n",
      "plot(cy,cx,cy,cx,\"ro\")"
     ],
     "language": "python",
     "metadata": {},
     "outputs": [
      {
       "output_type": "stream",
       "stream": "stdout",
       "text": [
        "Populating the interactive namespace from numpy and matplotlib\n",
        "Record at X is not consistent.\n",
        "From the curve regime is observed in the year 1978.\n",
        "Year          Observed rainfall          Adjusted rainfall\n",
        "1970                95                     66\n",
        "1971                75                     52\n",
        "1972                90                     63\n",
        "1973                85                     59\n",
        "1974                95                     66\n",
        "1975                90                     63\n",
        "1976                100                     70\n",
        "1977                90                     63\n"
       ]
      },
      {
       "metadata": {},
       "output_type": "pyout",
       "prompt_number": 9,
       "text": [
        "[<matplotlib.lines.Line2D at 0x110983f50>,\n",
        " <matplotlib.lines.Line2D at 0x110987210>]"
       ]
      },
      {
       "metadata": {},
       "output_type": "display_data",
       "png": "[encoded data removed]",
       "text": [
        "<matplotlib.figure.Figure at 0x10e5863d0>"
       ]
      }
     ],
     "prompt_number": 9
    },
    {
     "cell_type": "heading",
     "level": 2,
     "metadata": {},
     "source": [
      "Example 4.7 pg : 130"
     ]
    },
    {
     "cell_type": "code",
     "collapsed": false,
     "input": [
      "%pylab inline\n",
      "from numpy import zeros,linspace\n",
      "\t\t\t\t\n",
      "#Given\n",
      "c = [0, 12.4, 22.1, 35.1, 52.7, 63.7, 81.9, 109.2, 123.5, 132.6, 143.3, 146., 146.];  \t\t\t\t#cumulative rainfall\n",
      "T = linspace(0,13,len(c))          \t\t\t\t#Time\n",
      "t = 15./60;            \t\t\t\t#time interval\n",
      "r = zeros(13)\n",
      "I = zeros(13)\n",
      "r[0] = 0;\n",
      "print \"Rainfall intensity:\";\n",
      "I[0] = 0;\n",
      "for i in range(1,13):\n",
      "    r[i] = c[i]-c[i-1];  \n",
      "    I[i] = r[i]/t;          \t\t\t\t#Rainfall intensity\n",
      "    print \"%.2f\"%(I[i]);\n",
      "\n",
      "\n",
      "#graph is plotted between I and T\n",
      "bar(T,I)\n",
      "xlabel(\"Time hr\")\n",
      "ylabel(\"Rain fall insentity\")"
     ],
     "language": "python",
     "metadata": {},
     "outputs": [
      {
       "output_type": "stream",
       "stream": "stdout",
       "text": [
        "Populating the interactive namespace from numpy and matplotlib\n",
        "Rainfall intensity:\n",
        "49.60\n",
        "38.80\n",
        "52.00\n",
        "70.40\n",
        "44.00\n",
        "72.80\n",
        "109.20\n",
        "57.20\n",
        "36.40\n",
        "42.80\n",
        "10.80\n",
        "0.00\n"
       ]
      },
      {
       "metadata": {},
       "output_type": "pyout",
       "prompt_number": 15,
       "text": [
        "<matplotlib.text.Text at 0x110a8b610>"
       ]
      },
      {
       "metadata": {},
       "output_type": "display_data",
       "png": "[encoded data removed]",
       "text": [
        "<matplotlib.figure.Figure at 0x11098cd50>"
       ]
      }
     ],
     "prompt_number": 15
    },
    {
     "cell_type": "heading",
     "level": 2,
     "metadata": {},
     "source": [
      "Example 4.8 pg : 131"
     ]
    },
    {
     "cell_type": "code",
     "collapsed": false,
     "input": [
      "%pylab inline\n",
      "import math \n",
      "from numpy import zeros_like\n",
      "from matplotlib.pylab import plot,xlabel,ylabel\n",
      "\n",
      "\n",
      "#Given\n",
      "CR = array([0, 12.4, 22.1 ,35.1, 52.7, 63.7, 81.9, 109.2, 123.5, 132.6, 143.3, 146.0, 146.0]);  \t\t\t\t#cumulative rainfall\n",
      "\n",
      "c15 = zeros_like(CR)\n",
      "c30 = zeros_like(CR)\n",
      "c45 = zeros_like(CR)\n",
      "c60 = zeros_like(CR)\n",
      "c90 = zeros_like(CR)\n",
      "c120 = zeros_like(CR)\n",
      "\n",
      "# Calculations and Results\n",
      "c15[1] = 12.4;\n",
      "c30[2] = 22.1;\n",
      "c45[3] = 35.1;\n",
      "c60[4] = 52.7;\n",
      "c90[6] = 81.9;\n",
      "c120[8] = 123.5;\n",
      "for i in range(2,13):\n",
      "    c15[i] = CR[i]-CR[i-1];\n",
      "\n",
      "for i in range(3,13):\n",
      "    c30[i] = CR[i]-CR[i-2];\n",
      "\n",
      "for i in range(4,13):\n",
      "    c45[i] = CR[i]-CR[i-3];\n",
      "\n",
      "for i in range(5,13):\n",
      "    c60[i] = CR[i]-CR[i-4];\n",
      "\n",
      "for i in range(7,13):\n",
      "    c90[i] = CR[i]-CR[i-6];\n",
      "\n",
      "for i in range(9,13):\n",
      "    c120[i] = CR[i]-CR[i-8];\n",
      "\n",
      "print \"15min               30min               45min              60min          90min          120min\";\n",
      "for i in range(13):\n",
      "    print \"%.2f          %.2f          %.2f          %.2f          %.2f          %.2f\"%(c15[i],c30[i],c45[i],c60[i],c90[i],c120[i]);\n",
      "\n",
      "I = [109.2, 91, 79.7, 74.1, 67.6, 61.75];    \t\t\t\t#maximum intensity at respective durations\n",
      "D = [15 ,30 ,45 ,60 ,90 ,120];               \t\t\t\t#durations\n",
      "#greph is plotted between I and D\n",
      "plot(D,I,D,I,\"ro\")\n",
      "xlabel(\"Duration\")\n",
      "ylabel(\"max rain fall intensity\")\n"
     ],
     "language": "python",
     "metadata": {},
     "outputs": [
      {
       "output_type": "stream",
       "stream": "stdout",
       "text": [
        "Populating the interactive namespace from numpy and matplotlib\n",
        "15min               30min               45min              60min          90min          120min\n",
        "0.00          0.00          0.00          0.00          0.00          0.00\n",
        "12.40          0.00          0.00          0.00          0.00          0.00\n",
        "9.70          22.10          0.00          0.00          0.00          0.00\n",
        "13.00          22.70          35.10          0.00          0.00          0.00\n",
        "17.60          30.60          40.30          52.70          0.00          0.00\n",
        "11.00          28.60          41.60          51.30          0.00          0.00\n",
        "18.20          29.20          46.80          59.80          81.90          0.00\n",
        "27.30          45.50          56.50          74.10          96.80          0.00\n",
        "14.30          41.60          59.80          70.80          101.40          123.50\n",
        "9.10          23.40          50.70          68.90          97.50          120.20\n",
        "10.70          19.80          34.10          61.40          90.60          121.20\n",
        "2.70          13.40          22.50          36.80          82.30          110.90\n",
        "0.00          2.70          13.40          22.50          64.10          93.30\n"
       ]
      },
      {
       "metadata": {},
       "output_type": "pyout",
       "prompt_number": 1,
       "text": [
        "<matplotlib.text.Text at 0x1047360d0>"
       ]
      },
      {
       "metadata": {},
       "output_type": "display_data",
       "png": "[encoded data removed]",
       "text": [
        "<matplotlib.figure.Figure at 0x10252ad10>"
       ]
      }
     ],
     "prompt_number": 1
    },
    {
     "cell_type": "heading",
     "level": 2,
     "metadata": {},
     "source": [
      "Example 4.9 pg : 132"
     ]
    },
    {
     "cell_type": "code",
     "collapsed": false,
     "input": [
      "\n",
      "#Given\n",
      "p = [475, 377, 731, 1066, 361, 305, 926, 628, 409, 236, 337, 853];   \t\t\t\t#precipitation value\n",
      "N = 12.;                       \t\t\t\t#total number of years\n",
      "T = 6;                        \t\t\t\t#recurrence interval\n",
      "\n",
      "# Calculations\n",
      "m = N/T;\n",
      "\n",
      "# Results\n",
      "print \"Ranking of storm = %i.\"%(m);\n",
      "#hence pick 2nd severest storm\n",
      "print \"preciptation value which has recurrence period of 6 years = %i mm.\"%(p[6]);\n"
     ],
     "language": "python",
     "metadata": {},
     "outputs": [
      {
       "output_type": "stream",
       "stream": "stdout",
       "text": [
        "Ranking of storm = 2.\n",
        "preciptation value which has recurrence period of 6 years = 926 mm.\n"
       ]
      }
     ],
     "prompt_number": 21
    },
    {
     "cell_type": "heading",
     "level": 2,
     "metadata": {},
     "source": [
      "Example 4.10 pg : 132"
     ]
    },
    {
     "cell_type": "code",
     "collapsed": false,
     "input": [
      "%pylab inline\n",
      "import math \n",
      "from numpy import arange,array,zeros_like\n",
      "\t\t\t\t\n",
      "#Given\n",
      "I = linspace(25,16,10)          \t\t\t\t#isohytes\n",
      "a = array([407 ,1008, 1522, 1909, 2216, 2460, 2651, 2782, 2910, 2936]);  \t\t\t\t#enclosed area\n",
      "ia = zeros_like(a)\n",
      "ia[0] = 407.;\n",
      "\n",
      "# Calculations\n",
      "for i in range(1,10):\n",
      "    ia[i] = a[i]-a[i-1];\n",
      "r = linspace(25.5,16.5,10)\n",
      "rv = r*ia\n",
      "\n",
      "cv = zeros_like(rv)\n",
      "cv[0] = 10378;\n",
      "for i in range(1,10):\n",
      "    cv[i] = cv[i-1]+rv[i];\n",
      "\n",
      "eud = cv/a\n",
      "print \"From depth area curve we obtain average depth of precipitation = 24.1 mm for an area of 1800 sq. km.\";\n",
      "#graph is plotted between eud and a.\n",
      "# Results\n",
      "plot(a,eud,a,eud,\"ro\")\n",
      "xlabel(\"Area\")\n",
      "ylabel(\"mean precipitation depth\")"
     ],
     "language": "python",
     "metadata": {},
     "outputs": [
      {
       "output_type": "stream",
       "stream": "stdout",
       "text": [
        "Populating the interactive namespace from numpy and matplotlib\n",
        "From depth area curve we obtain average depth of precipitation = 24.1 mm for an area of 1800 sq. km.\n"
       ]
      },
      {
       "metadata": {},
       "output_type": "pyout",
       "prompt_number": 2,
       "text": [
        "<matplotlib.text.Text at 0x1047e27d0>"
       ]
      },
      {
       "metadata": {},
       "output_type": "display_data",
       "png": "[encoded data removed]",
       "text": [
        "<matplotlib.figure.Figure at 0x104730190>"
       ]
      }
     ],
     "prompt_number": 2
    },
    {
     "cell_type": "heading",
     "level": 2,
     "metadata": {},
     "source": [
      "Example 4.11 pg :133"
     ]
    },
    {
     "cell_type": "code",
     "collapsed": false,
     "input": [
      "%pylab inline\n",
      "import math \n",
      "from numpy import array\n",
      "\n",
      "#24h max. rainfall with return period of 8,15 and 25.\n",
      "#24h max rainfall with 40%,24% and 8% probability.\n",
      "#probabilty of rainfall of magnitude equal to or exceeding 100 mm.\n",
      "\t\t\t\t\n",
      "#Given\n",
      "N = 20.;\n",
      "r = array([142, 126, 116, 108, 102, 95, 92, 88, 86, 82, 80, 78, 76, 73, 71, 69, 68, 66, 65, 64],dtype=float64);   \t\t\t\t#rainfall in respective years\n",
      "m = linspace(1,20,20)             \t\t\t\t#ranking of storm\n",
      "p = m*100/(N+1)\n",
      "T = 100/p\n",
      "\n",
      "# Calculations and Results\n",
      "#from frequency curve obtained we get\n",
      "#Part (a)\n",
      "T1 = array([8, 15, 25]);\n",
      "r1 = array([119, 134, 149]);\n",
      "print \"Tyears          Rainfallmm\";\n",
      "for i in range(3):\n",
      "    print \"%i                         %i\"%(T1[i],r1[i]);\n",
      "\n",
      "\n",
      "#Part (b)\n",
      "p1 = [40 ,24, 8];\n",
      "r2 = [87, 101, 130];\n",
      "print \"probabilitypercent          Rainfallmm\";\n",
      "for i in range(3):\n",
      "    print \"%i                                %i\"%(p1[i],r2[i]);\n",
      "\n",
      "print \"For rainfall = 100 m.T = 4 years.Probability = 25 percent.\";\n"
     ],
     "language": "python",
     "metadata": {},
     "outputs": [
      {
       "output_type": "stream",
       "stream": "stdout",
       "text": [
        "Populating the interactive namespace from numpy and matplotlib\n",
        "Tyears          Rainfallmm\n",
        "8                         119\n",
        "15                         134\n",
        "25                         149\n",
        "probabilitypercent          Rainfallmm\n",
        "40                                87\n",
        "24                                101\n",
        "8                                130\n",
        "For rainfall = 100 m.T = 4 years.Probability = 25 percent.\n"
       ]
      }
     ],
     "prompt_number": 31
    },
    {
     "cell_type": "heading",
     "level": 2,
     "metadata": {},
     "source": [
      "Example 4.12 pg : 135"
     ]
    },
    {
     "cell_type": "code",
     "collapsed": false,
     "input": [
      "%pylab inline\n",
      "import math \n",
      "\n",
      "\n",
      "#plot IDF curve for return period of 10,2 and 1 years umath.sing california formula\n",
      "\t\t\t\t\n",
      "#Given\n",
      "t = array([5, 10, 20, 30, 60, 90, 120],dtype=float64);       \t\t\t\t#duration\n",
      "\t\t\t\t#value of P for respective return period is\n",
      "p10 = array([10.6, 14.7, 19.3, 20.8, 25.5, 29, 34.7]);  \t\t\t\t#rainfall for T = 10 years\n",
      "p2 = array([8.2, 10.3, 13.2, 14.2, 16.6 ,19.4, 21.4]);  \t\t\t\t#rainfall for T = 2 years\n",
      "p1 = array([3.5, 6.2, 8.9, 10, 13.2, 15, 16.5]);        \t\t\t\t#rainfall for T = 1 year\n",
      "\n",
      "\n",
      "# Calculations\n",
      "i1 = p10*60/t;                \t\t\t\t#intensity of rainfall with return period of 10 years\n",
      "i2 = p2*60/t;                 \t\t\t\t#intensity of rainfall with return period of 2 years\n",
      "i3 = p1*60/t;                 \t\t\t\t#intensity of rainfall with return period of 1 year\n",
      "\n",
      "# Results\n",
      "#graph is plotted between #t and i1 #t and i2 #t and i3\n",
      "plot(t,i1)\n",
      "plot(t,i2)\n",
      "plot(t,i3)\n",
      "xlabel(\"Duration\")\n",
      "ylabel(\"Intensity\")\n",
      "show()"
     ],
     "language": "python",
     "metadata": {},
     "outputs": [
      {
       "output_type": "stream",
       "stream": "stdout",
       "text": [
        "Populating the interactive namespace from numpy and matplotlib\n"
       ]
      },
      {
       "metadata": {},
       "output_type": "display_data",
       "png": "[encoded data removed]",
       "text": [
        "<matplotlib.figure.Figure at 0x110ba6310>"
       ]
      }
     ],
     "prompt_number": 34
    },
    {
     "cell_type": "heading",
     "level": 2,
     "metadata": {},
     "source": [
      "Example 4.13 pg : 137"
     ]
    },
    {
     "cell_type": "code",
     "collapsed": false,
     "input": [
      "%pylab inline\n",
      "import math \n",
      "\n",
      "\t\t\t\t\n",
      "#Given\n",
      "N = 20.;\n",
      "m = linspace(1,20,20)             \t\t\t\t#rank number\n",
      "rd = array([82, 78, 75, 72, 70, 68, 65, 63, 61, 58, 56, 54, 52, 50, 46, 40, 36, 34, 32, 30]);   \t\t\t\t#rainfall in decremath.sing order\n",
      "\n",
      "# Calculations\n",
      "ri = rd[::-1]\n",
      "T = N/(m-0.5);\n",
      "\n",
      "# Results\n",
      "#from the curves\n",
      "print \"maximum rainfall = 79cm for T = 15 years.\";\n",
      "print \"minimum rainfall  = 31 cm for T = 15 years.\";\n",
      "#graph is plotted between rd and T;ri and T\n",
      "subplot(121)\n",
      "plot(T,rd)\n",
      "xlabel(\"Reccurance interval\")\n",
      "ylabel(\"rainfall cm\")\n",
      "subplot(122)\n",
      "plot(T,ri)\n",
      "xlabel(\"Reccurance interval\")\n",
      "ylabel(\"rainfall cm\")\n"
     ],
     "language": "python",
     "metadata": {},
     "outputs": [
      {
       "output_type": "stream",
       "stream": "stdout",
       "text": [
        "Populating the interactive namespace from numpy and matplotlib\n",
        "maximum rainfall = 79cm for T = 15 years.\n",
        "minimum rainfall  = 31 cm for T = 15 years.\n"
       ]
      },
      {
       "metadata": {},
       "output_type": "pyout",
       "prompt_number": 44,
       "text": [
        "<matplotlib.text.Text at 0x110fc1410>"
       ]
      },
      {
       "metadata": {},
       "output_type": "display_data",
       "png": "[encoded data removed]",
       "text": [
        "<matplotlib.figure.Figure at 0x11102ee50>"
       ]
      }
     ],
     "prompt_number": 44
    },
    {
     "cell_type": "heading",
     "level": 2,
     "metadata": {},
     "source": [
      "Example 4.14 pg : 144"
     ]
    },
    {
     "cell_type": "code",
     "collapsed": false,
     "input": [
      "import math \n",
      "from numpy import zeros\n",
      "\t\t\t\t#average evaporation for one week\n",
      "\t\t\t\t\n",
      "#Given\n",
      "w = [12, 5, 2, -3, 1, 6, 11];     \t\t\t\t#water added or taken out\n",
      "r = [0, 6, 8, 12, 9, 5, 0];       \t\t\t\t#rainfall\n",
      "pan = zeros(7)\n",
      "le = zeros(7)\n",
      "for i in range(7):\n",
      "    pan[i] = w[i]+r[i];     \t\t\t\t#Pan evaporation\n",
      "    le[i] = 0.8*pan[i];     \t\t\t\t#lake evaporation\n",
      "s = sum(le)\n",
      "\n",
      "print \"daily lake evaporationmm:\";\n",
      "for i in range(7):\n",
      "    print \"%.2f\"%(le[i]);\n",
      "\n",
      "av = s/7;\n",
      "av = round(av*100)/100;\n",
      "print \"average evaporation for one week = %.2f mm.\"%(av);\n",
      "\n"
     ],
     "language": "python",
     "metadata": {},
     "outputs": [
      {
       "output_type": "stream",
       "stream": "stdout",
       "text": [
        "daily lake evaporationmm:\n",
        "9.60\n",
        "8.80\n",
        "8.00\n",
        "7.20\n",
        "8.00\n",
        "8.80\n",
        "8.80\n",
        "average evaporation for one week = 8.46 mm.\n"
       ]
      }
     ],
     "prompt_number": 45
    },
    {
     "cell_type": "heading",
     "level": 2,
     "metadata": {},
     "source": [
      "Example 4.15 pg : 145"
     ]
    },
    {
     "cell_type": "code",
     "collapsed": false,
     "input": [
      "import math \n",
      "\n",
      "#total depth and volume of evaporation loss\n",
      "\t\t\t\t\n",
      "#Given\n",
      "Rh = 0.4;         \t\t\t\t#relative humidity\n",
      "A = 4.8;          \t\t\t\t#average surface spread of reservior\n",
      "v3 = 18.;          \t\t\t\t#wind velocity at 3m above ground\n",
      "es = 31.81;       \t\t\t\t#saturated vapour pressure\n",
      "Km = 0.36;        \t\t\t\t#for large deep waters\n",
      "\n",
      "\n",
      "# Calculations and Results\n",
      "#umath.sing Meyer's formula\n",
      "ea = es*Rh;\n",
      "v9 = v3*(9./3)**(1./7);\n",
      "E = Km*(es-ea)*(1+v9/16);\n",
      "d = 7*E;\n",
      "v = d*A*100/1000;\n",
      "E = round(E*10)/10;\n",
      "d = round(d*10)/10;\n",
      "v = round(v*100)/100;\n",
      "print \"umath.sing Meyers formula:\";\n",
      "print \"average evaporation loss from reservior = %.2f mm/day.\"%(E);\n",
      "print \"total depth = %.2f mm\"%(d);\n",
      "print \"total volume = %.2f hectare-m.\"%(v);\n",
      "\n",
      "\t\t\t\t#umath.sing Rohwer's formula\n",
      "Pa = 760.;\n",
      "vdash = (0.6/2)**(1./7)*18;\n",
      "E = 0.771*(1.465-0.000732*Pa)*(0.44+0.0733*vdash)*(es-ea);\n",
      "d = 7*E;\n",
      "v = d*A*100/1000;\n",
      "E = round(E*10)/10;\n",
      "d = round(d*10)/10;\n",
      "v = round(v*10)/10;\n",
      "print \"umath.sing Rohwers formula:\";\n",
      "print \"average evaporation loss from reservior = %.2f mm/day.\"%(E);\n",
      "print \"total depth = %.2f mm\"%(d);\n",
      "print \"total volume = %.2f hectare-m.\"%(v);\n"
     ],
     "language": "python",
     "metadata": {},
     "outputs": [
      {
       "output_type": "stream",
       "stream": "stdout",
       "text": [
        "umath.sing Meyers formula:\n",
        "average evaporation loss from reservior = 15.90 mm/day.\n",
        "total depth = 111.40 mm\n",
        "total volume = 53.47 hectare-m.\n",
        "umath.sing Rohwers formula:\n",
        "average evaporation loss from reservior = 20.70 mm/day.\n",
        "total depth = 145.20 mm\n",
        "total volume = 69.70 hectare-m.\n"
       ]
      }
     ],
     "prompt_number": 46
    },
    {
     "cell_type": "heading",
     "level": 2,
     "metadata": {},
     "source": [
      "Example 4.16 pg : 149"
     ]
    },
    {
     "cell_type": "code",
     "collapsed": false,
     "input": [
      "%pylab inline\n",
      "import math \n",
      "\n",
      "#plot infiltration capacity curve\n",
      "\t\t\t\t\n",
      "#Given\n",
      "D = 30.;          \t\t\t\t#diameter of inside ring of infiltrometer\n",
      "A = math.pi*D**2/4;\n",
      "V = array([0, 200, 470, 840, 1405, 1840, 2245, 2510, 2745, 2885, 2990, 3130, 3270],dtype=float64);  \t\t\t\t#cumulative volume;\n",
      "t = array([0, 2, 5, 10, 20, 30, 45, 60, 80, 100, 120, 150, 180],dtype=float64);                  \t\t\t\t#Time(minutes)\n",
      "\n",
      "# Calculations and Results\n",
      "dt = zeros_like(t)\n",
      "\n",
      "for i in range(1,13):\n",
      "    dt[i] = (t[i]-t[i-1])/60;\n",
      "\n",
      "F = V/A;\n",
      "\n",
      "Fd = zeros_like(F)\n",
      "Fd[0] = F[0];\n",
      "for i in range(1,13):\n",
      "    Fd[i] = F[i]-F[i-1];\n",
      "\n",
      "ft = Fd/dt     \t\t\t\t#infirltration rate\n",
      "\n",
      "#from the graph\n",
      "print \"constant rate of infiltration = 0.40 cm/hr.\";\n",
      "avg10 = F[3]*60/10;\n",
      "avg30 = F[5]*60/30;\n",
      "avg10 = round(avg10*100)/100;\n",
      "avg30 = round(avg30*100)/100;\n",
      "print \"average rate of infiltration for first 10 min = %.2f cm/hr.\"%(avg10);\n",
      "print \"average rate of infiltration for first 30 min = %.2f cm/hr.\"%(avg30);\n",
      "#graph is plotted between ft and t\n",
      "plot(t,ft)\n",
      "xlabel(\"time in mins\")\n",
      "ylabel(\"Infiltrtion rate\")\n",
      "show()"
     ],
     "language": "python",
     "metadata": {},
     "outputs": [
      {
       "output_type": "stream",
       "stream": "stdout",
       "text": [
        "Populating the interactive namespace from numpy and matplotlib\n",
        "constant rate of infiltration = 0.40 cm/hr.\n",
        "average rate of infiltration for first 10 min = 7.13 cm/hr.\n",
        "average rate of infiltration for first 30 min = 5.21 cm/hr.\n"
       ]
      },
      {
       "metadata": {},
       "output_type": "display_data",
       "png": "[encoded data removed]",
       "text": [
        "<matplotlib.figure.Figure at 0x110b87a50>"
       ]
      }
     ],
     "prompt_number": 49
    },
    {
     "cell_type": "heading",
     "level": 2,
     "metadata": {},
     "source": [
      "Example 4.17 pg : 162"
     ]
    },
    {
     "cell_type": "code",
     "collapsed": false,
     "input": [
      "\n",
      "#drainage desity\n",
      "#form factor\n",
      "#channel slope\n",
      "#average overland flow length\n",
      "\t\t\t\t\n",
      "#Given\n",
      "A = 82.;         \t\t\t\t#area of watershed\n",
      "d = 12.6;       \t\t\t\t#dismath.tance between outlet and farther most point\n",
      "l = 440.;        \t\t\t\t#total length of channel\n",
      "e = 656.;        \t\t\t\t#elevation differnce between outlet and further most point\n",
      "\n",
      "\n",
      "# Calculations\n",
      "Dd = l/A;\n",
      "ff = A/d**2;\n",
      "cs = e/(d*1000);\n",
      "lo = 1000/(2*Dd);\n",
      "Dd = round(Dd*100)/100;\n",
      "ff = round(ff*1000)/1000;\n",
      "\n",
      "# Results\n",
      "print \"drainage desity = %.2f km/square.km.\"%(Dd);\n",
      "print \"form factor = %.2f.\"%(ff);\n",
      "print \"channel slope = %.2f.\"%(cs);\n",
      "print \"average overland flow length = %i m.\"%(lo);\n"
     ],
     "language": "python",
     "metadata": {},
     "outputs": [
      {
       "output_type": "stream",
       "stream": "stdout",
       "text": [
        "drainage desity = 5.37 km/square.km.\n",
        "form factor = 0.52.\n",
        "channel slope = 0.05.\n",
        "average overland flow length = 93 m.\n"
       ]
      }
     ],
     "prompt_number": 50
    },
    {
     "cell_type": "heading",
     "level": 2,
     "metadata": {},
     "source": [
      "Example 4.18 pg : 163"
     ]
    },
    {
     "cell_type": "code",
     "collapsed": false,
     "input": [
      "import math \n",
      "\n",
      "#compute fi and W index\n",
      "\t\t\t\t\n",
      "#Given\n",
      "R = 3.6;        \t\t\t\t#surface runoff\n",
      "r = [0, 1.3, 2.8, 4.1, 3.9, 2.8, 2.0, 1.8, 0.9];  \t\t\t\t#rainfall at respective time\n",
      "t = 4.;             \t\t\t\t#total time\n",
      "s = sum(r[2:]);\n",
      "\n",
      "# Calculations and Results\n",
      "fi = (s-R*2)/6;\n",
      "#math.since fi >1.3 and <1.8\n",
      "print \"fi index = %.2f cm.\"%(fi);\n",
      "print \"computations are correct.\";\n",
      "\n",
      "s = sum(r);\n",
      "P = s/2;\n",
      "Sr = 0.;\n",
      "W = (P-R-Sr)/t;\n",
      "print \"W index = %.2f cm/hr.\"%(W);\n"
     ],
     "language": "python",
     "metadata": {},
     "outputs": [
      {
       "output_type": "stream",
       "stream": "stdout",
       "text": [
        "fi index = 1.85 cm.\n",
        "computations are correct.\n",
        "W index = 1.55 cm/hr.\n"
       ]
      }
     ],
     "prompt_number": 51
    },
    {
     "cell_type": "heading",
     "level": 2,
     "metadata": {},
     "source": [
      "Example 4.19 pg : 163"
     ]
    },
    {
     "cell_type": "code",
     "collapsed": false,
     "input": [
      "import math \n",
      "from numpy import linspace,array\n",
      "\t\t\t\t\n",
      "#Given\n",
      "T = linspace(1,9,9)      \t\t\t\t#time from start\n",
      "r = array([0.7, 1.4, 2.4, 3.7, 2.9, 2.6, 1.7, 0.8, 0.5]);  \t\t\t\t#increamental rainfall\n",
      "R = 9.3;        \t\t\t\t#total run-off\n",
      "s = sum(r)\n",
      "\n",
      "ti = s-R;\n",
      "#first trial\n",
      "tr = 9.;   \t\t\t\t#assumed\n",
      "fi1 = ti/tr;\n",
      "#this makes 1st,8th and 9th hour ineffective\n",
      "\n",
      "#second trial\n",
      "tr = 6.;\n",
      "ti = s-R-r[0]-r[7]-r[8];\n",
      "fi = ti/tr;\n",
      "P = zeros_like(r)\n",
      "for i in range(9):\n",
      "    P[i] = r[i]-fi;\n",
      "    if (P[i]<0):\n",
      "        P[i] = 0;\n",
      "    \n",
      "print \"Timeh          rainfall excess.\";\n",
      "for i in range(9):\n",
      "    print \"%.2f          %.2f\"%(T[i],P[i]);\n",
      "\n",
      "print \"fi index = %.2f cm/hr.\"%(fi);\n",
      "print \"time of rainfall excess = %i hours..\"%(tr);\n"
     ],
     "language": "python",
     "metadata": {},
     "outputs": [
      {
       "output_type": "stream",
       "stream": "stdout",
       "text": [
        "Timeh          rainfall excess.\n",
        "1.00          0.00\n",
        "2.00          0.50\n",
        "3.00          1.50\n",
        "4.00          2.80\n",
        "5.00          2.00\n",
        "6.00          1.70\n",
        "7.00          0.80\n",
        "8.00          0.00\n",
        "9.00          0.00\n",
        "fi index = 0.90 cm/hr.\n",
        "time of rainfall excess = 6 hours..\n"
       ]
      }
     ],
     "prompt_number": 3
    },
    {
     "cell_type": "heading",
     "level": 2,
     "metadata": {},
     "source": [
      "Example 4.20 pg : 164"
     ]
    },
    {
     "cell_type": "code",
     "collapsed": false,
     "input": [
      "from numpy import array\n",
      "import math \n",
      "\n",
      "\t\t\t\t\n",
      "#Given\n",
      "P = array([72.2, 70.1, 73.3, 42.5, 81.3, 50.6, 52.9, 59.4, 60.3, 64.3, 68.8, 56.7, 77.2, 40.5, 44.1, 65.5]);  \t\t\t\t#Precipitation\n",
      "R = array([24.1, 22.7, 25.6, 11.3, 28.4, 12.7, 13.4, 15.7, 16.2, 17.7, 19.2, 14.9, 25.4, 10.6, 11.7, 17.9]);  \t\t\t\t#runoff\n",
      "\n",
      "# Calculations\n",
      "Ps = P**2\n",
      "Rs = R**2;\n",
      "PR = P*R;\n",
      "\n",
      "s = sum(Ps)\n",
      "t = sum(Rs)\n",
      "u = sum(PR)\n",
      "q = sum(P)\n",
      "w = sum(R)\n",
      "N = 16.;\n",
      "a = (N*u-q*w)/(N*s-q**2);\n",
      "b = (w-a*q)/N;\n",
      "b = round(b*1000)/1000;\n",
      "a = round(a*10000)/10000;\n",
      "\n",
      "# Results\n",
      "print \"Equation is:%.4f P %.3f.\"%(a,b);\n",
      "\n"
     ],
     "language": "python",
     "metadata": {},
     "outputs": [
      {
       "output_type": "stream",
       "stream": "stdout",
       "text": [
        "Equation is:0.4375 P -8.823.\n"
       ]
      }
     ],
     "prompt_number": 4
    },
    {
     "cell_type": "heading",
     "level": 2,
     "metadata": {},
     "source": [
      "Example 4.21 pg : 165"
     ]
    },
    {
     "cell_type": "code",
     "collapsed": false,
     "input": [
      "%pylab inline\n",
      "from numpy import linspace,array\n",
      "import math \n",
      "\t\t\t\t\n",
      "#Given\n",
      "A = 8.6;                                    \t\t\t\t#catchment area\n",
      "T = linspace(0,4,9)                              \t\t\t\t#time\n",
      "r = array([0, 0.4, 1.1, 2.3, 3.8, 4.8, 5.6, 6.2, 6.7]);    \t\t\t\t#accumulated rainfall\n",
      "fi = 0.4;                                   \t\t\t\t#fi index\n",
      "dt = 0.5;                                   \t\t\t\t#time interval\n",
      "\n",
      "# Calculations and Results\n",
      "d = zeros_like(r)\n",
      "\n",
      "for i in range(1,9):\n",
      "    d[i] = r[i]-r[i-1];                 \t\t\t\t#accumulated rainfall\n",
      "\n",
      "print \"Intensity of effective Rainfall:\";\n",
      "I = zeros_like(r)\n",
      "p = zeros_like(r)\n",
      "s = 0;\n",
      "for i in range(1,9):\n",
      "    p[i] = d[i]-fi;                \t\t\t\t#effective rainfall\n",
      "    I[i] = p[i]/dt;                \t\t\t\t#Intensity of effective Rainfall\n",
      "    s = s+I[i];\n",
      "    print \"%.2f\"%(I[i]);\n",
      "\n",
      "#graph is plotted between I and T\n",
      "run = s*dt;\n",
      "V = run*A*10000;\n",
      "print \"Volume of direct run-off = %.2f cubic metre.\"%(V);\n",
      "plot(T,I)\n",
      "show()"
     ],
     "language": "python",
     "metadata": {},
     "outputs": [
      {
       "output_type": "stream",
       "stream": "stdout",
       "text": [
        "Populating the interactive namespace from numpy and matplotlib\n",
        "Intensity of effective Rainfall:\n",
        "0.00\n",
        "0.60\n",
        "1.60\n",
        "2.20\n",
        "1.20\n",
        "0.80\n",
        "0.40\n",
        "0.20\n",
        "Volume of direct run-off = 301000.00 cubic metre.\n"
       ]
      },
      {
       "metadata": {},
       "output_type": "display_data",
       "png": "[encoded data removed]",
       "text": [
        "<matplotlib.figure.Figure at 0x1046bdd10>"
       ]
      }
     ],
     "prompt_number": 5
    },
    {
     "cell_type": "heading",
     "level": 2,
     "metadata": {},
     "source": [
      "Example 4.22 pg : 166"
     ]
    },
    {
     "cell_type": "code",
     "collapsed": false,
     "input": [
      "%pylab inline\n",
      "from numpy import array,linspace\n",
      "#total rainfall\n",
      "#total rainfall excess\n",
      "#W index\n",
      "\t\t\t\t\n",
      "#Given\n",
      "r = array([3.5, 6.5, 8.5 ,7.8, 6.4, 4, 4, 6]);       \t\t\t\t#rainfall intensity\n",
      "T = linspace(0,240,8)                        \t\t\t\t#time\n",
      "dt = 30.;                              \t\t\t\t#time interval\n",
      "\n",
      "# Calculations\n",
      "s = sum(r);\n",
      "P = s*dt/60;\n",
      "Pe = ((6.5-4.5)+(8.5-4.5)+(7.8-4.5)+(6.4-4.5)+(6-4.5))*dt/60;    \t\t\t\t#area of graph above r = 4.5.\n",
      "w = (P-Pe)/4;\n",
      "\n",
      "# Results\n",
      "print \"total rainfall = %.2f cm.\"%(P);\n",
      "print \"total rainfall excess = %.2f cm.\"%(Pe);\n",
      "print \"W index = %.2f cm/hr.\"%(w);\n",
      "plot(T,r)\n",
      "show()"
     ],
     "language": "python",
     "metadata": {},
     "outputs": [
      {
       "output_type": "stream",
       "stream": "stdout",
       "text": [
        "Populating the interactive namespace from numpy and matplotlib\n",
        "total rainfall = 23.35 cm.\n",
        "total rainfall excess = 6.35 cm.\n",
        "W index = 4.25 cm/hr.\n"
       ]
      },
      {
       "metadata": {},
       "output_type": "display_data",
       "png": "[encoded data removed]",
       "text": [
        "<matplotlib.figure.Figure at 0x102528b50>"
       ]
      }
     ],
     "prompt_number": 6
    },
    {
     "cell_type": "heading",
     "level": 2,
     "metadata": {},
     "source": [
      "Example 4.23 pg : 166"
     ]
    },
    {
     "cell_type": "code",
     "collapsed": false,
     "input": [
      "import math \n",
      "from numpy import array,zeros_like\n",
      "\n",
      "\t\t\t\t\n",
      "#Given\n",
      "r = array([0, 8, 22, 74, 92, 105, 114, 120],dtype=float64);      \t\t\t\t#raccumulated rainfall\n",
      "T = array([0, 2, 4, 6, 8, 10, 12, 14],dtype=float64);            \t\t\t\t#time for start of rainfall\n",
      "V = 2e6;                             \t\t\t\t#volume of run-off\n",
      "A = 40.;                              \t\t\t\t#catchment area\n",
      "tr = 14.;                             \t\t\t\t#duration of rainfall\n",
      "\n",
      "# Calculations\n",
      "d = V*1000/(40*1000000);\n",
      "\n",
      "l = r[7]-d;\n",
      "W = l/tr;\n",
      "I = zeros_like(r)\n",
      "for i in range(1,8):\n",
      "    I[i] = r[i]-r[i-1];           \t\t\t\t#incremental rainfall\n",
      "\n",
      "\n",
      "#rainfall excess is available in 4 time intervals of 2 hrs\n",
      "tre = 8.;\n",
      "fi = (l-I[1]-I[6]-I[7])/tre;\n",
      "fi = round(fi*100)/100;\n",
      "\n",
      "# Results\n",
      "print \"fi index = %.2f mm/hr.\"%(fi);\n"
     ],
     "language": "python",
     "metadata": {},
     "outputs": [
      {
       "output_type": "stream",
       "stream": "stdout",
       "text": [
        "fi index = 5.88 mm/hr.\n"
       ]
      }
     ],
     "prompt_number": 66
    },
    {
     "cell_type": "heading",
     "level": 2,
     "metadata": {},
     "source": [
      "Example 4.24 pg : 167"
     ]
    },
    {
     "cell_type": "code",
     "collapsed": false,
     "input": [
      "import math \n",
      "from numpy import array\n",
      "\n",
      "#Given\n",
      "r = array([2.0 ,2.5, 7.6, 3.8, 10.6, 5.0, 7.0, 10.0, 6.4, 3.8, 1.4, 1.4]);     \t\t\t\t#rainfall depths\n",
      "R = 25.5;\n",
      "\n",
      "# Calculations\n",
      "s = sum(r)\n",
      "tf = s-R;\n",
      "af = tf/12;\n",
      "#rainfall is less than average infiltration in1st,2nd,11th and 12th hours\n",
      "\n",
      "f = (tf-r[0]-r[1]-r[10]-r[11])/8;\n",
      "f = round(f*10)/10;\n",
      "\n",
      "# Results\n",
      "print \"average infiltration index = %d cm/hour.\"%(f);\n",
      "\n"
     ],
     "language": "python",
     "metadata": {},
     "outputs": [
      {
       "output_type": "stream",
       "stream": "stdout",
       "text": [
        "average infiltration index = 3 cm/hour.\n"
       ]
      }
     ],
     "prompt_number": 68
    },
    {
     "cell_type": "heading",
     "level": 2,
     "metadata": {},
     "source": [
      "Example 4.25 pg : 167"
     ]
    },
    {
     "cell_type": "code",
     "collapsed": false,
     "input": [
      "import math \n",
      "from numpy import zeros,zeros_like,array\n",
      "\t\t\t\t\n",
      "#Given\n",
      "r = array([2.0, 2.5, 7.6, 3.8, 10.6, 5.0, 7.0, 10.0, 6.4, 3.8, 1.4, 1.4]);     \t\t\t\t#rainfall depths\n",
      "A1 = 20.;\n",
      "A2 = 40.;\n",
      "A3 = 60.;\n",
      "\n",
      "# Calculations and Results\n",
      "A = A1+A2+A3;\n",
      "fi1 = 7.6;\n",
      "fi2 = 3.8;\n",
      "fi3 = 1.0;\n",
      "R1 = zeros_like(r)\n",
      "R2 = zeros_like(r)\n",
      "R3 = zeros_like(r)\n",
      "for i in range(12):\n",
      "    R1[i] = r[i]-fi1;             \t\t\t\t#rainfall excess\n",
      "    R2[i] = r[i]-fi2;\n",
      "    R3[i] = r[i]-fi3;\n",
      "    if (R1[i]<0):\n",
      "        R1[i] = 0;\n",
      "    if (R2[i]<0):\n",
      "        R2[i] = 0;\n",
      "    if (R3[i]<0):\n",
      "        R3[i] = 0;\n",
      "\n",
      "print \"average depth of hourly rainfall excesscm/hr\";\n",
      "a1 = zeros(12)\n",
      "a2 = zeros(12)\n",
      "a3 = zeros(12)\n",
      "T = zeros(12)\n",
      "for i in range(12):\n",
      "    a1[i] = R1[i]*A1/A;                    \t\t\t\t#average rainfall excess\n",
      "    a2[i] = R2[i]*A2/A;\n",
      "    a3[i] = R3[i]*A3/A;\n",
      "    T[i] = a1[i]+a2[i]+a3[i];               \t\t\t\t#total hourly rainfall excess\n",
      "    T[i] = round(T[i]*100)/100;\n",
      "    print \"%.2f\"%(T[i]);\n"
     ],
     "language": "python",
     "metadata": {},
     "outputs": [
      {
       "output_type": "stream",
       "stream": "stdout",
       "text": [
        "average depth of hourly rainfall excesscm/hr\n",
        "0.50\n",
        "0.75\n",
        "4.57\n",
        "1.40\n",
        "7.57\n",
        "2.40\n",
        "4.07\n",
        "6.97\n",
        "3.57\n",
        "1.40\n",
        "0.20\n",
        "0.20\n"
       ]
      }
     ],
     "prompt_number": 69
    },
    {
     "cell_type": "heading",
     "level": 2,
     "metadata": {},
     "source": [
      "Example 4.26 pg : 185"
     ]
    },
    {
     "cell_type": "code",
     "collapsed": false,
     "input": [
      "from numpy import array,linspace\n",
      "#derive the unit hydrograph\n",
      "\t\t\t\t\n",
      "#Given\n",
      "A = 92.;                   \t\t\t\t#area of drainage bamath.sin\n",
      "t = array([6, 8, 10, 12, 14, 16, 18, 20, 22, 24, 2, 4, 6, 8, 10, 12, 14, 16],dtype=float64);   \t\t\t\t#time\n",
      "r = array([10.6, 9.7, 107.8, 175.6, 193.9, 150.3, 126.2, 106.9, 90, 72.8, 58.2, 48, 36.2, 28.4, 20.2, 14, 10.2, 10.4]); \t\t\t\t#total run-off\n",
      "B = array([10.6, 9.7, 9.73, 9.77, 9.8, 9.83, 9.87, 9.9, 9.93, 9.97, 10, 10.03, 10.07, 10.10, 10.13, 10.16, 10.20, 10.40]);  \t\t\t\t#base flow\n",
      "s = 0;\n",
      "\n",
      "# Calculations and Results\n",
      "d = r - B\n",
      "s = sum(d)\n",
      "\n",
      "n = 0.36*s*2/A;\n",
      "print \"ordinates of unit hydrograph:\";\n",
      "u = zeros(18)\n",
      "for i in range(18):\n",
      "    u[i] = d[i]/n;                  \t\t\t\t#ordinates of unit hydrograph\n",
      "    u[i] = round(u[i]*100)/100;\n",
      "    print \"%.2f\"%(u[i]);\n",
      "\n",
      "print \"Hydograph is 4-hr unit hydrograph\";\n"
     ],
     "language": "python",
     "metadata": {},
     "outputs": [
      {
       "output_type": "stream",
       "stream": "stdout",
       "text": [
        "ordinates of unit hydrograph:\n",
        "0.00\n",
        "0.00\n",
        "11.50\n",
        "19.45\n",
        "21.60\n",
        "16.48\n",
        "13.65\n",
        "11.38\n",
        "9.39\n",
        "7.37\n",
        "5.65\n",
        "4.45\n",
        "3.07\n",
        "2.15\n",
        "1.18\n",
        "0.45\n",
        "0.00\n",
        "0.00\n",
        "Hydograph is 4-hr unit hydrograph\n"
       ]
      }
     ],
     "prompt_number": 7
    },
    {
     "cell_type": "heading",
     "level": 2,
     "metadata": {},
     "source": [
      "Example 4.27 pg : 186"
     ]
    },
    {
     "cell_type": "code",
     "collapsed": false,
     "input": [
      "import math \n",
      "from numpy import zeros\n",
      "\t\t\t\t\n",
      "#Given\n",
      "A = 316.;         \t\t\t\t#drainage area\n",
      "B = 17.;          \t\t\t\t#base flow\n",
      "t = 6.;\n",
      "O = [17.0, 113.2, 254.5, 198.0, 150.0, 113.2, 87.7, 67.9, 53.8, 42.5, 31.1, 22.6, 17.0];    \t\t\t\t#ordinates of storm hydrograph\n",
      "Or = zeros(13)\n",
      "Oh = zeros(13)\n",
      "for i in range(13): \n",
      "    Or[i] = O[i]-B;                 \t\t\t\t#ordinates of direct run-off\n",
      "    Oh[i] = Or[i]/6.477;            \t\t\t\t#ordinates of unit hydrograph\n",
      "\n",
      "\n",
      "s = sum(Or);\n",
      "re = s*60*60*t/(A*10000);\n",
      "re = round(re*1000)/1000;\n",
      "\n",
      "# Results\n",
      "print \"rainfall excess = %.2f cm.\"%(re);\n"
     ],
     "language": "python",
     "metadata": {},
     "outputs": [
      {
       "output_type": "stream",
       "stream": "stdout",
       "text": [
        "rainfall excess = 6.48 cm.\n"
       ]
      }
     ],
     "prompt_number": 74
    },
    {
     "cell_type": "heading",
     "level": 2,
     "metadata": {},
     "source": [
      "Example 4.28 pg : 188"
     ]
    },
    {
     "cell_type": "code",
     "collapsed": false,
     "input": [
      "import math \n",
      "from numpy import zeros\n",
      "\t\t\t\t\n",
      "#Given\n",
      "fi = 2.5;          \t\t\t\t#infiltration index\n",
      "B = 10;            \t\t\t\t#Base flow\n",
      "O = [0, 110, 365, 500, 390, 310, 250, 235, 175, 130, 95, 65, 40, 22, 10, 0, 0, 0];   \t\t\t\t#ordinates of unit hydrograph\n",
      "R1 = 2;R2 = 6.75;R3 = 3.75;\n",
      "r1 = (R1*10-(fi*3)-5)/10;             \t\t\t\t#rainfall excess in first three hour\n",
      "r2 = (R2*10-(fi*3))/10;               \t\t\t\t#rainfall excess in second three hour\n",
      "r3 = (R3*10-(fi*3))/10;               \t\t\t\t#rainfall excess in third three hour\n",
      "\n",
      "s1 = zeros(18)\n",
      "for i in range(18):\n",
      "    s1[i] = r1*O[i];                \n",
      "s2 = zeros(18)\n",
      "for i in range(1,18):\n",
      "    s2[i] = r2*O[i-1];\n",
      "s3 = zeros(18)\n",
      "for i in range(2,18):\n",
      "    s3[i] = r3*O[i-2];\n",
      "                   \t\t\t\t#surface run-off from rainfall excess during succesive unit periods\n",
      "print \"ordinates of storm hydrograph\";\n",
      "T = zeros(18)\n",
      "t = zeros(18)\n",
      "for i in range(18):\n",
      "    T[i] = s1[i]+s2[i]+s3[i];\n",
      "    t[i] = T[i]+B;\n",
      "    t[i] = round(t[i]*10)/10;\n",
      "    print \"%.2f\"%(t[i]);\n"
     ],
     "language": "python",
     "metadata": {},
     "outputs": [
      {
       "output_type": "stream",
       "stream": "stdout",
       "text": [
        "ordinates of storm hydrograph\n",
        "10.00\n",
        "92.50\n",
        "943.80\n",
        "2905.00\n",
        "4397.50\n",
        "4082.50\n",
        "3227.50\n",
        "2616.30\n",
        "2301.30\n",
        "1862.50\n",
        "1386.30\n",
        "1018.80\n",
        "715.00\n",
        "461.50\n",
        "269.50\n",
        "136.00\n",
        "40.00\n",
        "10.00\n"
       ]
      }
     ],
     "prompt_number": 75
    },
    {
     "cell_type": "heading",
     "level": 2,
     "metadata": {},
     "source": [
      "Example 4.29 pg : 189"
     ]
    },
    {
     "cell_type": "code",
     "collapsed": false,
     "input": [
      "%pylab inline\n",
      "from numpy import array,linspace,zeros\n",
      "#derive and plot 6 hr unit hydrograph\n",
      "\t\t\t\t\n",
      "#Given\n",
      "A = 103.4;      \t\t\t\t#area of bamath.sin\n",
      "t = linspace(0,36,9);   \t\t\t\t#time\n",
      "q = [0, 21, 80, 82, 189, 123, 184, 87, 55.5, 25.25, 9, 6, 0];  \t\t\t\t#flow\n",
      "print \"ordinates of unit hydrograph are:\";\n",
      "u = zeros(9)\n",
      "u[0] = 0;\n",
      "u[1] = q[1]/2.;\n",
      "u[2] = (q[2]-4*u[0])/2;\n",
      "u[3] = (q[3]-4*u[1])/2;\n",
      "for i in range(4,9):\n",
      "    u[i] = (q[i]-3*u[i-4]-4*u[i-2])/2;      \t\t\t\t#ordinates of unit hydrograph\n",
      "\n",
      "for i in range(9):\n",
      "    print \"%.2f\"%(u[i]);\n",
      "print \"The succesive unit hydrograph will have same ordinates but will be shiftedlaterally by 6 hrs.\";\n",
      "#graph is plotted between u and t.\n",
      "plot(t,u)\n",
      "xlabel(\"Time in hours\")\n",
      "ylabel(\"Discharge\")"
     ],
     "language": "python",
     "metadata": {},
     "outputs": [
      {
       "output_type": "stream",
       "stream": "stdout",
       "text": [
        "Populating the interactive namespace from numpy and matplotlib\n",
        "ordinates of unit hydrograph are:\n",
        "0.00\n",
        "10.50\n",
        "40.00\n",
        "20.00\n",
        "14.50\n",
        "5.75\n",
        "3.00\n",
        "2.00\n",
        "0.00\n",
        "The succesive unit hydrograph will have same ordinates but will be shiftedlaterally by 6 hrs.\n"
       ]
      },
      {
       "metadata": {},
       "output_type": "pyout",
       "prompt_number": 9,
       "text": [
        "<matplotlib.text.Text at 0x1049bc250>"
       ]
      },
      {
       "metadata": {},
       "output_type": "display_data",
       "png": "[encoded data removed]",
       "text": [
        "<matplotlib.figure.Figure at 0x10490cf90>"
       ]
      }
     ],
     "prompt_number": 9
    },
    {
     "cell_type": "heading",
     "level": 2,
     "metadata": {},
     "source": [
      "Example 4.30 pg : 190"
     ]
    },
    {
     "cell_type": "code",
     "collapsed": false,
     "input": [
      "import math \n",
      "from numpy import zeros\n",
      "\n",
      "\n",
      "\n",
      "#derive ordinates of 6 hrs unit hydrograph\n",
      "\t\t\t\t\n",
      "#Given\n",
      "R = [0, 1, 2.7, 5, 8, 9.8, 9, 7.5, 6.3, 5, 4, 2.9, 2.1, 1.3 ,0.5, 0, 0, 0, 0, 0];  \t\t\t\t#2hrs unit hydrograph\n",
      "print \"ordinates of 6 hrs unit hydrograph\";\n",
      "O1 = zeros(20)\n",
      "for i in range(18):\n",
      "    O1[i+2] = R[i];\n",
      "O2 = zeros(20)\n",
      "for i in range(16):\n",
      "    O2[i+4] = R[i];\n",
      "S = zeros(20)\n",
      "f = zeros(20)#offset unit hydrograph\n",
      "for i in range(20):\n",
      "    S[i] = O1[i]+O2[i]+R[i];        \t\t\t\t#sum\n",
      "    f[i] = S[i]/3;                  \t\t\t\t#ordinates of 6 hrs unit hydrograph\n",
      "    f[i] = round(f[i]*10)/10;\n",
      "    print \"%.2f\"%(f[i]);\n"
     ],
     "language": "python",
     "metadata": {},
     "outputs": [
      {
       "output_type": "stream",
       "stream": "stdout",
       "text": [
        "ordinates of 6 hrs unit hydrograph\n",
        "0.00\n",
        "0.30\n",
        "0.90\n",
        "2.00\n",
        "3.60\n",
        "5.30\n",
        "6.60\n",
        "7.40\n",
        "7.80\n",
        "7.40\n",
        "6.40\n",
        "5.10\n",
        "4.10\n",
        "3.10\n",
        "2.20\n",
        "1.40\n",
        "0.90\n",
        "0.40\n",
        "0.20\n",
        "0.00\n"
       ]
      }
     ],
     "prompt_number": 79
    },
    {
     "cell_type": "heading",
     "level": 2,
     "metadata": {},
     "source": [
      "Example 4.31 pg : 190"
     ]
    },
    {
     "cell_type": "code",
     "collapsed": false,
     "input": [
      "import math \n",
      "from numpy import array,linspace,zeros\n",
      "\t\t\t\t\n",
      "#Given\n",
      "t = linspace(0,45,16)     \t\t\t\t#time\n",
      "O = [0 ,9, 20, 35, 49, 43, 35, 28, 22, 17, 12, 9, 6, 3, 0, 0];           \t\t\t\t#ordinate of 2 hr unit hydrograph\n",
      "\n",
      "# Calculations and Results\n",
      "of = zeros(16)\n",
      "for i in range(2,16):\n",
      "    of[i] = O[i-2]+of[i-2];                 \t\t\t\t#offset ordinate\n",
      "\n",
      "s = zeros(16)\n",
      "for i in range(16):\n",
      "   s[i] = O[i]+of[i];                       \t\t\t\t#ordinate of s-curve\n",
      "\n",
      "of1 = zeros(16)\n",
      "for i in range(3,16):\n",
      "    of1[i] = s[i-3];                        \t\t\t\t#offset of s-curve\n",
      "\n",
      "print \"ordinates of 9 hrs unit hydrograph:\";\n",
      "y = zeros(16)\n",
      "u = zeros(16)\n",
      "for i in range(16):\n",
      "    y[i] = s[i]-of1[i];\n",
      "    u[i] = 2*y[i]/3;                            \t\t\t\t#ordinate of 9 hrs unit hydrograph\n",
      "    u[i] = round(u[i]*10)/10;\n",
      "    print \"%.2f\"%(u[i]);\n",
      "\n",
      "\n"
     ],
     "language": "python",
     "metadata": {},
     "outputs": [
      {
       "output_type": "stream",
       "stream": "stdout",
       "text": [
        "ordinates of 9 hrs unit hydrograph:\n",
        "0.00\n",
        "6.00\n",
        "13.30\n",
        "29.30\n",
        "40.00\n",
        "44.70\n",
        "40.00\n",
        "30.70\n",
        "26.00\n",
        "18.70\n",
        "15.30\n",
        "10.00\n",
        "8.00\n",
        "4.00\n",
        "2.00\n",
        "0.00\n"
       ]
      }
     ],
     "prompt_number": 10
    },
    {
     "cell_type": "heading",
     "level": 2,
     "metadata": {},
     "source": [
      "Example 4.32 pg : 210"
     ]
    },
    {
     "cell_type": "code",
     "collapsed": false,
     "input": [
      "import math \n",
      "from numpy import zeros,linspace\n",
      "\n",
      "\n",
      "#california method\n",
      "#Hazens method\n",
      "#gumbels method\n",
      "\t\t\t\t\n",
      "#Given\n",
      "q = [9200, 7800, 6600, 5800, 5260, 4980, 4525, 3810, 3630, 3250, 3110, 3090, 2380, 2390, 1723]; \t\t\t\t#Discharge arranged in decreamath.sing order\n",
      "N = 15;\n",
      "C = 0.3;\n",
      "m = linspace(1,15,15)\n",
      "C = [0.3, 0.44, 0.52, 0.57, 0.61, 0.66, 0.7, 0.74, 0.78, 0.82, 0.86, 0.88, 0.94, 0.96, 1];   \t\t\t\t#from table 4.25\n",
      "print \"California          Hazen          Gumbel\";\n",
      "Ca = zeros(15)\n",
      "H = zeros(15)\n",
      "G = zeros(15)\n",
      "Ca = zeros(15)\n",
      "G = zeros(15)\n",
      "\n",
      "for i in range(15):\n",
      "    Ca[i] = N/m[i];\n",
      "    H[i] = 2*N/(2*m[i]-1);\n",
      "    G[i] = N/(m[i]+C[i]-1);\n",
      "    Ca[i] = round(Ca[i]*100)/100;\n",
      "    G[i] = round(G[i]*100)/100;\n",
      "    H[i] = round(H[i]*100)/100;\n",
      "    print \"%.2f          %.2f          %.2f\"%(Ca[i],H[i],G[i]);\n"
     ],
     "language": "python",
     "metadata": {},
     "outputs": [
      {
       "output_type": "stream",
       "stream": "stdout",
       "text": [
        "California          Hazen          Gumbel\n",
        "15.00          30.00          50.00\n",
        "7.50          10.00          10.42\n",
        "5.00          6.00          5.95\n",
        "3.75          4.29          4.20\n",
        "3.00          3.33          3.25\n",
        "2.50          2.73          2.65\n",
        "2.14          2.31          2.24\n",
        "1.88          2.00          1.94\n",
        "1.67          1.76          1.71\n",
        "1.50          1.58          1.53\n",
        "1.36          1.43          1.38\n",
        "1.25          1.30          1.26\n",
        "1.15          1.20          1.16\n",
        "1.07          1.11          1.07\n",
        "1.00          1.03          1.00\n"
       ]
      }
     ],
     "prompt_number": 2
    },
    {
     "cell_type": "heading",
     "level": 2,
     "metadata": {},
     "source": [
      "Example 4.33 pg : 211"
     ]
    },
    {
     "cell_type": "code",
     "collapsed": false,
     "input": [
      "import math \n",
      "\n",
      "\t\t\t\t\n",
      "#Given\n",
      "T1 = 40.;\n",
      "T2 = 80.;            \t\t\t\t#Return period\n",
      "F1 = 27000.;\n",
      "F2 = 31000.;      \t\t\t\t#Peak flood\n",
      "\n",
      "# Calculations\n",
      "y80 = -(2.303*math.log10(2.303*math.log10(T2/(T2-1))));\n",
      "y40 = -(2.303*math.log10(2.303*math.log10(T1/(T1-1))));\n",
      "y = (F2-F1)/(y80-y40);\n",
      "T = 240.;\n",
      "y240 = -(2.303*math.log10(2.303*math.log10(T/(T-1))));\n",
      "x240 = F2+(y240-y80)*y;\n",
      "\n",
      "# Results\n",
      "print \"flood magnitude with return period of 240 years = %i cumec.\"%(x240);\n"
     ],
     "language": "python",
     "metadata": {},
     "outputs": [
      {
       "output_type": "stream",
       "stream": "stdout",
       "text": [
        "flood magnitude with return period of 240 years = 37306 cumec.\n"
       ]
      }
     ],
     "prompt_number": 4
    },
    {
     "cell_type": "heading",
     "level": 2,
     "metadata": {},
     "source": [
      "Example 4.34 pg : 212"
     ]
    },
    {
     "cell_type": "code",
     "collapsed": false,
     "input": [
      "import math \n",
      "\n",
      "\n",
      "\t\t\t\t\n",
      "#Given\n",
      "N = 40;\n",
      "Sn = 1.1413;\n",
      "yn = 0.5436;         \t\t\t\t#from table 4.21 (a) and(b)\n",
      "q = [1330, 1095, 1030, 980, 975, 950, 945, 940, 925, 855, 853, 840, 835, 825, 810, 795, 756, 710, 708, 705, 700, 670, 625, 620, 610, 605, 595, 585, 570, 550, 530, 505, 500, 495, 485, 465, 460, 420, 390, 380];  \t\t\t\t#discharge\n",
      "s = sum(q)\n",
      "xavg = s/N;\n",
      "w = 0;\n",
      "\n",
      "# Calculations\n",
      "t = zeros(40)\n",
      "for i in range(40):\n",
      "    t[i] = (q[i]-xavg)**2;\n",
      "    w = w+t[i];\n",
      "\n",
      "sigma = (w/(N-1))**0.5;\n",
      "N = 10.;\n",
      "y10 = -(2.303*math.log10(2.303*math.log10(N/(N-1))));\n",
      "K10 = (y10-yn)/Sn;\n",
      "x10 = xavg+K10*sigma;\n",
      "N = 20.;\n",
      "y20 = -(2.303*math.log10(2.303*math.log10(N/(N-1))));\n",
      "K20 = (y20-yn)/Sn;\n",
      "x20 = xavg+K20*sigma;\n",
      "N = 5.;\n",
      "y5 = -(2.303*math.log10(2.303*math.log10(N/(N-1))));\n",
      "K5 = (y5-yn)/Sn;\n",
      "x5 = xavg+K5*sigma;\n",
      "\n",
      "T = 100.;\n",
      "y100 = -(2.303*math.log10(2.303*math.log10(T/(T-1))));\n",
      "K100 = (y100-yn)/Sn;\n",
      "x100 = xavg+K100*sigma;\n",
      "\n",
      "T = 200.;\n",
      "y200 = -(2.303*math.log10(2.303*math.log10(T/(T-1))));\n",
      "K200 = (y200-yn)/Sn;\n",
      "x200 = xavg+K200*sigma;\n",
      "x100 = round(x100);\n",
      "\n",
      "# Results\n",
      "print \"For T = 100 years:flood discharge = %.2f cumecs.\\\n",
      "\\nFor T = 200 years:flood discharge = %.f cumecs.\"%(x100,x200);\n"
     ],
     "language": "python",
     "metadata": {},
     "outputs": [
      {
       "output_type": "stream",
       "stream": "stdout",
       "text": [
        "For T = 100 years:flood discharge = 1487.00 cumecs.\n",
        "For T = 200 years:flood discharge = 1620 cumecs.\n"
       ]
      }
     ],
     "prompt_number": 8
    },
    {
     "cell_type": "heading",
     "level": 2,
     "metadata": {},
     "source": [
      "Example 4.35 pg : 214"
     ]
    },
    {
     "cell_type": "code",
     "collapsed": false,
     "input": [
      "import math \n",
      "from numpy.linalg import solve\n",
      "\n",
      "\t\t\t\t\n",
      "#Given\n",
      "sigma = 1.1413;        \t\t\t\t#smath.radians(numpy.arcmath.tan(ard deviation\n",
      "yn = 0.5436;\n",
      "T = 50.;\n",
      "\n",
      "# Calculations\n",
      "y50 = -2.303*math.log10(2.303*math.log10(T/(T-1)));\n",
      "K50 = (y50-yn)/sigma;\n",
      "T = 100.;\n",
      "y100 = -2.303*math.log10(2.303*math.log10(T/(T-1)));\n",
      "K100 = (y100-yn)/sigma;\n",
      "x50 = 878;  x100 = 970;     \t\t\t\t\n",
      "#Given peak flood\n",
      "A = [[K50, 1],[K100, 1]];\n",
      "B = [x50,x100];\n",
      "C = solve(A,B)#A\\B;\n",
      "xavg = C[1];\n",
      "sigmad = C[0];\n",
      "T = 200.;\n",
      "y200 = -2.303*math.log10(2.303*math.log10(T/(T-1)));\n",
      "K200 = (y200-yn)/sigma;\n",
      "x200 = xavg+K200*sigmad;\n",
      "x200 = round(x200);\n",
      "\n",
      "# Results\n",
      "print \"200 year flood for stream = %.2f cumecs.\"%(x200);\n"
     ],
     "language": "python",
     "metadata": {},
     "outputs": [
      {
       "output_type": "stream",
       "stream": "stdout",
       "text": [
        "200 year flood for stream = 1062.00 cumecs.\n"
       ]
      }
     ],
     "prompt_number": 9
    },
    {
     "cell_type": "heading",
     "level": 2,
     "metadata": {},
     "source": [
      "Example 4.36 pg : 214"
     ]
    },
    {
     "cell_type": "code",
     "collapsed": false,
     "input": [
      "import math \n",
      "#risk of failure of cofferdam\n",
      "#return period\n",
      "\n",
      "#Given\n",
      "T = 30.;             \t\t\t\t#deign for period\n",
      "n = 6.;              \t\t\t\t#period of construction\n",
      "\n",
      "# Calculations\n",
      "R = (1-(1-(1/T))**n)*100;\n",
      "R1 = 0.1;          \t\t\t\t#reduced risk\n",
      "T1 = 1./(1-(1-R1)**(1./6));\n",
      "R = round(R*10)/10;\n",
      "T1 = round(T1*100)/100;\n",
      "\n",
      "# Results\n",
      "print \"risk of failure of cofferdam = %.2f percent.\"%(R);\n",
      "print \"return period = %.2f years.\"%(T1);\n"
     ],
     "language": "python",
     "metadata": {},
     "outputs": [
      {
       "output_type": "stream",
       "stream": "stdout",
       "text": [
        "risk of failure of cofferdam = 18.40 percent.\n",
        "return period = 57.45 years.\n"
       ]
      }
     ],
     "prompt_number": 85
    },
    {
     "cell_type": "heading",
     "level": 2,
     "metadata": {},
     "source": [
      "Example 4.37 pg : 215"
     ]
    },
    {
     "cell_type": "code",
     "collapsed": false,
     "input": [
      "import math \n",
      "\n",
      "\n",
      "#probability of excedence\n",
      "#probability of flood magnitude occuring at:\n",
      "#at least once in 10 years\n",
      "#two times in 10 succesive years\n",
      "#once in 10 succesive years\n",
      "\n",
      "#Given\n",
      "T = 40.;            \t\t\t\t#return period\n",
      "P = 1./T;\n",
      "n = 10;\n",
      "Rsk = 1.-(1-P)**n;\n",
      "s = 1.;\n",
      "t = 1.;\n",
      "for i in range(1,n+1):  \n",
      "    s = s*i;\n",
      "\n",
      "for i in range(1,n-1):\n",
      "    t = t*i;\n",
      "\n",
      "P2n = s*P**2*(1-P)**8/(t*2);\n",
      "P1n = n*P*(1-P)**(n-1);\n",
      "Rsk = round(Rsk*1000)/1000;\n",
      "P2n = round(P2n*10000)/10000;\n",
      "P1n = round(P1n*1000)/1000;\n",
      "\n",
      "# Results\n",
      "print \"probability of excedence = %.2f.\"%(P);\n",
      "print \"probability of flood magnitude occuring at least once in 10 years = %.2f\"%(Rsk);\n",
      "print \"probability of flood magnitude occuring at two times in 10 succesive years = %.2f\"%(P2n);\n",
      "print \"probability of flood magnitude occuring at once in 10 succesive years = %.2f\"%(P1n);\n",
      "\n"
     ],
     "language": "python",
     "metadata": {},
     "outputs": [
      {
       "output_type": "stream",
       "stream": "stdout",
       "text": [
        "probability of excedence = 0.03.\n",
        "probability of flood magnitude occuring at least once in 10 years = 0.22\n",
        "probability of flood magnitude occuring at two times in 10 succesive years = 0.02\n",
        "probability of flood magnitude occuring at once in 10 succesive years = 0.20\n"
       ]
      }
     ],
     "prompt_number": 87
    },
    {
     "cell_type": "heading",
     "level": 2,
     "metadata": {},
     "source": [
      "Example 4.38 pg : 215"
     ]
    },
    {
     "cell_type": "code",
     "collapsed": false,
     "input": [
      "import math \n",
      "\n",
      "\t\t\t\t\n",
      "#Given\n",
      "C1 = 0.22;C2 = 0.12;C3 = 0.32;     \t\t\t\t#run-off coefficient\n",
      "A1 = 3.2;A2 = 4.8;A3 = 1.8;       \n",
      "L = 2.4;                      \t\t\t\t#length of water course\n",
      "H = 30;                       \t\t\t\t#fall\n",
      "T = 30;                       \t\t\t\t#frequency\n",
      "\n",
      "# Calculations\n",
      "t = 60*0.000323*(L*1000)**0.77*(H/(L*1000))**(-0.385);\n",
      "i = 78*T**0.22/(t+12)**0.45;\n",
      "q = 2.778*i*(C1*A1+C2*A2+C3*A3);\n",
      "q = round(q*10)/10;\n",
      "\n",
      "# Results\n",
      "print \"peak rate of run off = %.2f cumecs.\"%(q);\n"
     ],
     "language": "python",
     "metadata": {},
     "outputs": [
      {
       "output_type": "stream",
       "stream": "stdout",
       "text": [
        "peak rate of run off = 141.20 cumecs.\n"
       ]
      }
     ],
     "prompt_number": 10
    },
    {
     "cell_type": "heading",
     "level": 2,
     "metadata": {},
     "source": [
      "Example 4.39 pg : 216"
     ]
    },
    {
     "cell_type": "code",
     "collapsed": false,
     "input": [
      "import math \n",
      "\t\t\t\t\n",
      "#Given\n",
      "T = 30;            \t\t\t\t#return period\n",
      "A = 2.4;           \t\t\t\t#area of watershed\n",
      "s = 1./200;         \t\t\t\t#slope oof catchment\n",
      "L = 1.8;           \t\t\t\t#length of travel of water\n",
      "C = 0.25;          \t\t\t\t#average run-off coefficient\n",
      "r = [2.5, 3.8, 4.8, 5.9, 6.7, 7.4, 8.4, 8.7, 9.2];   \t\t\t\t#rmath.sinfall depth\n",
      "\n",
      "# Calculations\n",
      "t = 60*0.000323*(L*1000)**0.77*(s)**(-0.385); \n",
      "rmax = r[6]+(r[7]-r[6])*7.84/10;\n",
      "i = rmax*60/t;\n",
      "q = 2.778*C*A*i;\n",
      "q = round(q*100)/100;\n",
      "\n",
      "# Results\n",
      "print \"peak flow rate = %.2f cumecs.\"%(q);\n"
     ],
     "language": "python",
     "metadata": {},
     "outputs": [
      {
       "output_type": "stream",
       "stream": "stdout",
       "text": [
        "peak flow rate = 18.05 cumecs.\n"
       ]
      }
     ],
     "prompt_number": 11
    },
    {
     "cell_type": "heading",
     "level": 2,
     "metadata": {},
     "source": [
      "Example 4.40 pg : 216"
     ]
    },
    {
     "cell_type": "code",
     "collapsed": false,
     "input": [
      "import math \n",
      "\n",
      "\t\t\t\t\n",
      "#Given\n",
      "pA = 75.;         \t\t\t\t#precipitation at A\n",
      "pB = 58;         \t\t\t\t#precpitation at B\n",
      "pC = 47;         \t\t\t\t#precipitation at C\n",
      "nA = 826;        \t\t\t\t#normal precipitation at A\n",
      "nB = 618;        \t\t\t\t#normal precipitation at B\n",
      "nC = 482;        \t\t\t\t#normal precipitation at C\n",
      "nX = 757;        \t\t\t\t#normal precipitation at X\n",
      "\n",
      "\n",
      "# Calculations\n",
      "pX = (nX*pA/nA+nX*pB/nB+nX*pC/nC)/3.;\n",
      "pX = round(pX*10)/10;\n",
      "\n",
      "# Results\n",
      "print \"precipitation at x = %.2f cm.\"%(pX);\n",
      "\n"
     ],
     "language": "python",
     "metadata": {},
     "outputs": [
      {
       "output_type": "stream",
       "stream": "stdout",
       "text": [
        "precipitation at x = 70.90 cm.\n"
       ]
      }
     ],
     "prompt_number": 12
    },
    {
     "cell_type": "heading",
     "level": 2,
     "metadata": {},
     "source": [
      "Example 4.41 pg : 216"
     ]
    },
    {
     "cell_type": "code",
     "collapsed": false,
     "input": [
      "import math \n",
      "\t\t\t\t\n",
      "#Given\n",
      "p = [41, 51, 32, 55, 50, 68];   \t\t\t\t#rain guage readings at respective stations\n",
      "s = sum(p)\n",
      "pavg = s/6;\n",
      "u = 0;\n",
      "for i in range(5):\n",
      "    u = u+(p[i]-pavg)**2;\n",
      "\n",
      "# Calculations\n",
      "sx = (u/5)**0.5;\n",
      "Cv = sx*100/pavg;\n",
      "N = (Cv/8)**2;\n",
      "N = round(N*100)/100;\n",
      "\n",
      "# Results\n",
      "print \"mean rainfall = %.2f cm.\"%(pavg);\n",
      "print \"total stations needed = %.2f.\"%(N);\n",
      "\n",
      "\n"
     ],
     "language": "python",
     "metadata": {},
     "outputs": [
      {
       "output_type": "stream",
       "stream": "stdout",
       "text": [
        "mean rainfall = 49.00 cm.\n",
        "total stations needed = 5.08.\n"
       ]
      }
     ],
     "prompt_number": 13
    },
    {
     "cell_type": "heading",
     "level": 2,
     "metadata": {},
     "source": [
      "Example 4.42 pg : 217"
     ]
    },
    {
     "cell_type": "code",
     "collapsed": false,
     "input": [
      "import math \n",
      "\t\t\t\t\n",
      "#Given\n",
      "a = 4;               \t\t\t\t#dimension of plot sides\n",
      "P1 = 4.8;P2 = 13;P3 = 8;P4 = 5.4;P5 = 3.2;P6 = 9.4;     \t\t\t\t#precipitaion at respective stations\n",
      "\n",
      "# Calculations\n",
      "A1 = a**2/8+a**2/(4*1.73);\n",
      "A2 = a**2/8;\n",
      "A3 = A2;A4 = A1;\n",
      "A5 = a**2/(4*1.73);\n",
      "A6 = a**2/2;\n",
      "A = A1+A2+A3+A4+A5+A6;\n",
      "Pavg = (P1*A1+P2*A2+P3*A3+P4*A4+P5*A5+P6*A6)/A;\n",
      "\n",
      "# Results\n",
      "print \"Mean precipitaion = %.2f cm.\"%(Pavg);\n"
     ],
     "language": "python",
     "metadata": {},
     "outputs": [
      {
       "output_type": "stream",
       "stream": "stdout",
       "text": [
        "Mean precipitaion = 7.35 cm.\n"
       ]
      }
     ],
     "prompt_number": 14
    },
    {
     "cell_type": "heading",
     "level": 2,
     "metadata": {},
     "source": [
      "Example 4.43 pg : 218"
     ]
    },
    {
     "cell_type": "code",
     "collapsed": false,
     "input": [
      "import math \n",
      "from numpy import linspace\n",
      "\t\t\t\t\n",
      "#Given\n",
      "A = [90, 140, 125, 140, 85, 40, 20];  \t\t\t\t#area of isohytes\n",
      "I = linspace(13,1,7)                  \t\t\t\t#average isohytel interval\n",
      "s = 0;t = 0;\n",
      "for i in range(7):\n",
      "    s = s+A[i]*I[i];\n",
      "    t = t+A[i];\n",
      "\n",
      "Pavg = s/t;\n",
      "Pavg = round(Pavg*10)/10;\n",
      "\n",
      "# Results\n",
      "print \" average depth of precipitation = %.2f cm.\"%(Pavg);\n"
     ],
     "language": "python",
     "metadata": {},
     "outputs": [
      {
       "output_type": "stream",
       "stream": "stdout",
       "text": [
        " average depth of precipitation = 8.40 cm.\n"
       ]
      }
     ],
     "prompt_number": 15
    },
    {
     "cell_type": "heading",
     "level": 2,
     "metadata": {},
     "source": [
      "Example 4.44 pg : 218"
     ]
    },
    {
     "cell_type": "code",
     "collapsed": false,
     "input": [
      "import math \n",
      "\t\t\t\t\n",
      "#Given\n",
      "p = [120, 95, 96, 60, 65, 70, 45, 21];   \t\t\t\t#rain guage readings at respective stations\n",
      "\n",
      "# Calculations and Results\n",
      "s = sum(p)\n",
      "pavg = s/8;\n",
      "u = 0;\n",
      "for i in range(8):\n",
      "    u = u+(p[i]-pavg)**2;\n",
      "\n",
      "sx = (u/7)**0.5;\n",
      "Cv = sx*100/pavg;\n",
      "N = (Cv/13.99)**2;\n",
      "N = round(N*100)/100;\n",
      "print \"mean rainfall = %.2f cm.\"%(pavg);\n",
      "print \"total stations needed = %.2f.\"%(N);\n",
      "\t\t\t\t#taking N = 10\n",
      "N = 10;\n",
      "n = N-8;\n",
      "print \"additional guages needed = %i.\"%(n);\n"
     ],
     "language": "python",
     "metadata": {},
     "outputs": [
      {
       "output_type": "stream",
       "stream": "stdout",
       "text": [
        "mean rainfall = 71.00 cm.\n",
        "total stations needed = 10.03.\n",
        "additional guages needed = 2.\n"
       ]
      }
     ],
     "prompt_number": 16
    },
    {
     "cell_type": "heading",
     "level": 2,
     "metadata": {},
     "source": [
      "Example 4.45 pg : 219"
     ]
    },
    {
     "cell_type": "code",
     "collapsed": false,
     "input": [
      "%pylab inline\n",
      "from matplotlib.pylab import plot\n",
      "from numpy import zeros,linspace\n",
      "import math \n",
      "#compute maximum rainfall intensities for 5,10,15,20,25,30,35,40,45,50 minutes\n",
      "#plot intensity duration graph\n",
      "\t\t\t\t\n",
      "#Given\n",
      "CR = [0, 1.02, 2.08, 3.30, 4.72, 5.58, 6.40, 7.16, 7.88, 8.54, 9.14];  \t\t\t\t#cumulative rainfall\n",
      "\n",
      "c5 = zeros(11)\n",
      "c10 = zeros(11)\n",
      "c15 = zeros(11)\n",
      "c20 = zeros(11)\n",
      "c25 = zeros(11)\n",
      "c30 = zeros(11)\n",
      "c35 = zeros(11)\n",
      "c40 = zeros(11)\n",
      "c45 = zeros(11)\n",
      "c50 = zeros(11)\n",
      "\n",
      "c5[1] = CR[1];\n",
      "c10[2] = CR[2];\n",
      "c15[3] = CR[3];\n",
      "c20[4] = CR[4];\n",
      "c25[5] = CR[5];\n",
      "c30[6] = CR[6];\n",
      "c35[7] = CR[7];\n",
      "c40[8] = CR[8];\n",
      "c45[9] = CR[9];\n",
      "c50[10] = CR[10];\n",
      "for i in range(2,11):\n",
      "    c5[i] = CR[i]-CR[i-1];\n",
      "\n",
      "for i in range(3,11):\n",
      "    c10[i] = CR[i]-CR[i-2];\n",
      "\n",
      "for i in range(4,11):\n",
      "    c15[i] = CR[i]-CR[i-3];\n",
      "\n",
      "for i in range(5,11):\n",
      "    c20[i] = CR[i]-CR[i-4];\n",
      "\n",
      "for i in range(6,11):\n",
      "    c25[i] = CR[i]-CR[i-5];\n",
      "\n",
      "for i in range(7,11):\n",
      "    c30[i] = CR[i]-CR[i-6];\n",
      "\n",
      "for i in range(8,11):\n",
      "    c35[i] = CR[i]-CR[i-7];\n",
      "\n",
      "for i in range(9,11):\n",
      "    c40[i] = CR[i]-CR[i-8];\n",
      "\n",
      "for i in range(10,11):\n",
      "    c45[i] = CR[i]-CR[i-9];\n",
      "                \t\t\t\t#rainfall in any possible time interval\n",
      "\n",
      "print \"5min    10min    15min    20min    25min    30min    35min    40min    45min    50min\";\n",
      "for i in range(11):\n",
      "    print \"%4.2f    %5.2f    %5.2f    %5.2f    %5.2f    %5.2f    %5.2f    %5.2f    %5.2f    %5.2f\"%(c5[i],c10[i],c15[i],c20[i],c25[i],c30[i],c35[i],c40[i],c45[i],c50[i]);\n",
      "\n",
      "I = [17.04, 15.84, 14.80, 14.16, 13.39, 12.80, 12.27, 11.82, 11.39, 10.97];    \t\t\t\t#maximum intensity at respective durations\n",
      "D = linspace(5,50,len(I))               \t\t\t\t#durations\n",
      "#graph is plotted between I and D\n",
      "plot(I,D)\n"
     ],
     "language": "python",
     "metadata": {},
     "outputs": [
      {
       "output_type": "stream",
       "stream": "stdout",
       "text": [
        "Populating the interactive namespace from numpy and matplotlib\n",
        "5min    10min    15min    20min    25min    30min    35min    40min    45min    50min\n",
        "0.00     0.00     0.00     0.00     0.00     0.00     0.00     0.00     0.00     0.00\n",
        "1.02     0.00     0.00     0.00     0.00     0.00     0.00     0.00     0.00     0.00\n",
        "1.06     2.08     0.00     0.00     0.00     0.00     0.00     0.00     0.00     0.00\n",
        "1.22     2.28     3.30     0.00     0.00     0.00     0.00     0.00     0.00     0.00\n",
        "1.42     2.64     3.70     4.72     0.00     0.00     0.00     0.00     0.00     0.00\n",
        "0.86     2.28     3.50     4.56     5.58     0.00     0.00     0.00     0.00     0.00\n",
        "0.82     1.68     3.10     4.32     5.38     6.40     0.00     0.00     0.00     0.00\n",
        "0.76     1.58     2.44     3.86     5.08     6.14     7.16     0.00     0.00     0.00\n",
        "0.72     1.48     2.30     3.16     4.58     5.80     6.86     7.88     0.00     0.00\n",
        "0.66     1.38     2.14     2.96     3.82     5.24     6.46     7.52     8.54     0.00\n",
        "0.60     1.26     1.98     2.74     3.56     4.42     5.84     7.06     8.12     9.14\n"
       ]
      },
      {
       "metadata": {},
       "output_type": "pyout",
       "prompt_number": 11,
       "text": [
        "[<matplotlib.lines.Line2D at 0x103f7ab10>]"
       ]
      },
      {
       "metadata": {},
       "output_type": "display_data",
       "png": "[encoded data removed]",
       "text": [
        "<matplotlib.figure.Figure at 0x10490ce90>"
       ]
      }
     ],
     "prompt_number": 11
    },
    {
     "cell_type": "heading",
     "level": 2,
     "metadata": {},
     "source": [
      "Example 4.46 pg : 221"
     ]
    },
    {
     "cell_type": "code",
     "collapsed": false,
     "input": [
      "%pylab inline\n",
      "import math\n",
      "from matplotlib.pylab import plot\n",
      "#draw storm hyetograph and intensity duration curve\n",
      "\t\t\t\t\n",
      "#Given\n",
      "p = [0, 5, 7.5, 8.5, 9];      \t\t\t\t#accumulated precipitation\n",
      "t = [0, 30, 60, 90, 120];     \t\t\t\t#time\n",
      "r = zeros(5)\n",
      "I = zeros(5)\n",
      "\n",
      "print \"Rainfall intensity:\";\n",
      "for i in range(1,5):\n",
      "    r[i] = p[i]-p[i-1];          \t\t\t\t#rainfall in succesive 30 min interval\n",
      "    I[i] = r[i]*60/30;           \t\t\t\t#rainfall intensity\n",
      "    print \"%.2f\"%(I[i]);\n",
      "\n",
      "#graph is plotted between I and t.\n",
      "plot(I,t)\n",
      "\n"
     ],
     "language": "python",
     "metadata": {},
     "outputs": [
      {
       "output_type": "stream",
       "stream": "stdout",
       "text": [
        "Populating the interactive namespace from numpy and matplotlib\n",
        "Rainfall intensity:\n",
        "10.00\n",
        "5.00\n",
        "2.00\n",
        "1.00\n"
       ]
      },
      {
       "metadata": {},
       "output_type": "pyout",
       "prompt_number": 12,
       "text": [
        "[<matplotlib.lines.Line2D at 0x1047dced0>]"
       ]
      },
      {
       "metadata": {},
       "output_type": "display_data",
       "png": "[encoded data removed]",
       "text": [
        "<matplotlib.figure.Figure at 0x10473bd10>"
       ]
      }
     ],
     "prompt_number": 12
    },
    {
     "cell_type": "heading",
     "level": 2,
     "metadata": {},
     "source": [
      "Example 4.47 pg : 222"
     ]
    },
    {
     "cell_type": "code",
     "collapsed": false,
     "input": [
      "%pylab inline\n",
      "import math\n",
      "from numpy import zeros,linspace\n",
      "\n",
      "\t\t\t\t\n",
      "#Given\n",
      "I = linspace(21,12,10)          \t\t\t\t#isohytes\n",
      "a = [543, 1345, 2030, 2545, 2955, 3280, 3535, 3710, 3880, 3915];  \t\t\t\t#enclosed area\n",
      "ia = zeros(10)\n",
      "ia[0] = 543;\n",
      "for i in range(1,10):\n",
      "    ia[i] = a[i]-a[i-1];              \t\t\t\t#net incremental area between isohytes\n",
      "\n",
      "rv = zeros(10)\n",
      "r = linspace(21.5,12.5,10)          \n",
      "for i in range(10):\n",
      "    rv[i] = r[i]*ia[i];               \t\t\t\t#rainfall volume\n",
      "\n",
      "cv = zeros(10)\n",
      "cv[0] = 11675;\n",
      "for i in range(10):\n",
      "    cv[i] = cv[i-1]+rv[i];            \t\t\t\t#cumulative volume\n",
      "\n",
      "eud = zeros(10)\n",
      "for i in range(10):\n",
      "    eud[i] = cv[i]/a[i];               \t\t\t\t#depth(mm)\n",
      "\n",
      "\n",
      "print \"From depth area curve we obtain average depth of precipitation = 20.15 mm for anarea of 2400 sq. km.\";\n",
      "#graph is plotted between eud and a\n",
      "plot(eud,a)\n"
     ],
     "language": "python",
     "metadata": {},
     "outputs": [
      {
       "output_type": "stream",
       "stream": "stdout",
       "text": [
        "Populating the interactive namespace from numpy and matplotlib\n",
        "From depth area curve we obtain average depth of precipitation = 20.15 mm for anarea of 2400 sq. km.\n"
       ]
      },
      {
       "metadata": {},
       "output_type": "pyout",
       "prompt_number": 13,
       "text": [
        "[<matplotlib.lines.Line2D at 0x1047dcf90>]"
       ]
      },
      {
       "metadata": {},
       "output_type": "display_data",
       "png": "[encoded data removed]",
       "text": [
        "<matplotlib.figure.Figure at 0x104a0a190>"
       ]
      }
     ],
     "prompt_number": 13
    },
    {
     "cell_type": "heading",
     "level": 2,
     "metadata": {},
     "source": [
      "Example 4.48 pg : 222"
     ]
    },
    {
     "cell_type": "code",
     "collapsed": false,
     "input": [
      "import math \n",
      "\t\t\t\t\n",
      "#Given\n",
      "h1 = 7.75;        \t\t\t\t#initial depth of water\n",
      "r = 3.80;         \t\t\t\t#rainfall during the week\n",
      "hr = 2.50;       \t\t\t\t#depth of water removed\n",
      "C = 0.7;        \t\t\t\t#pan coefficient\n",
      "\n",
      "# Calculations\n",
      "ha = r-hr;\n",
      "hl = ha+h1;\n",
      "h2 = 8.32;\n",
      "ev = hl-h2;\n",
      "evs = ev*C;\n",
      "evs = round(evs*100)/100;\n",
      "\n",
      "# Results\n",
      "print \"evaporation from reservior surface during the week = %.2f cm.\"%(evs);\n"
     ],
     "language": "python",
     "metadata": {},
     "outputs": [
      {
       "output_type": "stream",
       "stream": "stdout",
       "text": [
        "evaporation from reservior surface during the week = 0.51 cm.\n"
       ]
      }
     ],
     "prompt_number": 21
    },
    {
     "cell_type": "heading",
     "level": 2,
     "metadata": {},
     "source": [
      "Example 4.49 pg : 223"
     ]
    },
    {
     "cell_type": "code",
     "collapsed": false,
     "input": [
      "import math \n",
      "from numpy import linspace\n",
      "\n",
      "\t\t\t\t\n",
      "#Given\n",
      "T = linspace(1,12,12)      \t\t\t\t#time from start\n",
      "r = [1.8, 2.6, 7.8, 3.9, 10.6, 5.4, 7.8, 9.2, 6.5, 4.4, 1.8, 1.6];  \t\t\t\t#increamental rainfall\n",
      "R = 24.4;        \t\t\t\t#total run-off\n",
      "s = sum(r)\n",
      "\n",
      "ti = s-R;\n",
      "\n",
      "#first trial\n",
      "tr = 7;   \t\t\t\t#assumed\n",
      "ti = s-R-r[0]-r[1]-r[3]-r[10]-r[11];\n",
      "fi = ti/tr;\n",
      "P = zeros(12)\n",
      "for i in range(12):\n",
      "    P[i] = r[i]-fi;\n",
      "    if (P[i]<0):\n",
      "        P[i] = 0;\n",
      "\n",
      "print \"Timeh          rainfall excess.\";\n",
      "for i in range(12):\n",
      "    print \"%.2f          %.2f\"%(T[i],P[i]);\n",
      "\n",
      "print \"fi index = %.2f cm/hr.\"%(fi);\n",
      "\n"
     ],
     "language": "python",
     "metadata": {},
     "outputs": [
      {
       "output_type": "stream",
       "stream": "stdout",
       "text": [
        "Timeh          rainfall excess.\n",
        "1.00          0.00\n",
        "2.00          0.00\n",
        "3.00          3.90\n",
        "4.00          0.00\n",
        "5.00          6.70\n",
        "6.00          1.50\n",
        "7.00          3.90\n",
        "8.00          5.30\n",
        "9.00          2.60\n",
        "10.00          0.50\n",
        "11.00          0.00\n",
        "12.00          0.00\n",
        "fi index = 3.90 cm/hr.\n"
       ]
      }
     ],
     "prompt_number": 22
    },
    {
     "cell_type": "heading",
     "level": 2,
     "metadata": {},
     "source": [
      "Example 4.50 pg : 224"
     ]
    },
    {
     "cell_type": "code",
     "collapsed": false,
     "input": [
      "import math \n",
      "from numpy import linspace\n",
      "\t\t\t\t\n",
      "#Given\n",
      "r = [0.6, 1.35, 2.25, 3.45, 2.7, 2.4, 1.5, 0.75];      \t\t\t\t#incremental rainfall\n",
      "T = linspace(1,8,8)            \t\t\t\t#time from start of rainfal\n",
      "t = 8.;\n",
      "P = 15.;                \t\t\t\t#total rainfall\n",
      "R = 8.7;              \t\t\t\t#direct run-off\n",
      "\n",
      "# Calculations\n",
      "W = (P-R)/t;\n",
      "#math.since fi wil be more than W\n",
      "tre = 6;\n",
      "fi = ((P-R)-r[0]-r[7])/tre;\n",
      "\n",
      "# Results\n",
      "print \"fi index = %.2f cm/hr.\"%(fi);\n"
     ],
     "language": "python",
     "metadata": {},
     "outputs": [
      {
       "output_type": "stream",
       "stream": "stdout",
       "text": [
        "fi index = 0.83 cm/hr.\n"
       ]
      }
     ],
     "prompt_number": 23
    },
    {
     "cell_type": "heading",
     "level": 2,
     "metadata": {},
     "source": [
      "Example 4.51 pg : 224"
     ]
    },
    {
     "cell_type": "code",
     "collapsed": false,
     "input": [
      "import math \n",
      "from scipy.integrate import quad \n",
      "\t\t\t\t\n",
      "#Given\n",
      "I = 10;           \t\t\t\t#total infiltration rate\n",
      "fI = 5;           \t\t\t\t#final infiltration rate\n",
      "k = 0.95;         \t\t\t\t#rate of decay of difference between final and initial infiltration rate\n",
      "\n",
      "\n",
      "# Calculations\n",
      "def f8(t): \n",
      "\t return fI+(I-fI)*math.e**(-k*t)\n",
      "\n",
      "q =  quad(f8,0,6)[0]\n",
      "q = round(q*100)/100;\n",
      "\n",
      "# Results\n",
      "print \"total infiltration depth = %.2f mm.\"%(q);"
     ],
     "language": "python",
     "metadata": {},
     "outputs": [
      {
       "output_type": "stream",
       "stream": "stdout",
       "text": [
        "total infiltration depth = 35.25 mm.\n"
       ]
      }
     ],
     "prompt_number": 25
    },
    {
     "cell_type": "heading",
     "level": 2,
     "metadata": {},
     "source": [
      "Example 4.52 pg : 224"
     ]
    },
    {
     "cell_type": "code",
     "collapsed": false,
     "input": [
      "import math \n",
      "from numpy import linspace\n",
      "\n",
      "#find the equation of infiltration capacity\n",
      "\t\t\t\t\n",
      "#Given\n",
      "fc = 1;            \t\t\t\t#consmath.tant infiltration rate\n",
      "ft = [10.4, 5.6, 3.2, 2.1, 1.5, 1.2, 1.1, 1, 1];   \t\t\t\t#infiltration capacity\n",
      "f = ft[0]-fc;\n",
      "t = linspace(0,2,9)\n",
      "\n",
      "r = zeros(9)\n",
      "for i in range(9):\n",
      "    r[i] = ft[i]-fc;\n",
      "\n",
      "h = zeros(7)\n",
      "for i in range(7):\n",
      "     h[i] = math.log10(r[i]);\n",
      "\n",
      "s = 0.775;        \t\t\t\t#from graph\n",
      "k = 1/(math.log10(math.e)*s);\n",
      "k = round(k*100)/100;\n",
      "\n",
      "# Results\n",
      "print \"Equation is:ft = fc+%.2fe**-%.2ft)\"%(f,k);"
     ],
     "language": "python",
     "metadata": {},
     "outputs": [
      {
       "output_type": "stream",
       "stream": "stdout",
       "text": [
        "Equation is:ft = fc+9.40e**-2.97t)\n"
       ]
      }
     ],
     "prompt_number": 26
    },
    {
     "cell_type": "heading",
     "level": 2,
     "metadata": {},
     "source": [
      "Example 4.53 pg : 226"
     ]
    },
    {
     "cell_type": "code",
     "collapsed": false,
     "input": [
      "%pylab inline\n",
      "from matplotlib.pylab import bar\n",
      "import math \n",
      "#total rainfall\n",
      "#net run-off\n",
      "#W index\n",
      "\n",
      "#Given\n",
      "r = [2, 2, 8, 7, 1.25, 1.25, 4.5];       \t\t\t\t#rainfall intensity\n",
      "T = [15, 30, 45, 60, 70, 90, 105];                        \t\t\t\t#time\n",
      "dt = 15.;                              \t\t\t\t#time interval\n",
      "fi = 3.;                               \t\t\t\t#fi index\n",
      "#graph is plotted between r and T\n",
      "bar(T,r)\n",
      "s = sum(r)\n",
      "P = s*dt/60;\n",
      "Pe = ((8-3)+(7-3)+(4.5-3))*dt/60;    \t\t\t\t#area of graph above r = 3.0.\n",
      "w = (P-Pe)/(105./60);\n",
      "w = round(w*1000)/1000;\n",
      "\n",
      "# Results\n",
      "print \"total rainfall = %.2f cm.\"%(P);\n",
      "print \"net run-off = %.2f cm.\"%(Pe);\n",
      "print \"W index = %.2f cm/hr.\"%(w);\n"
     ],
     "language": "python",
     "metadata": {},
     "outputs": [
      {
       "output_type": "stream",
       "stream": "stdout",
       "text": [
        "Populating the interactive namespace from numpy and matplotlib\n",
        "total rainfall = 6.50 cm."
       ]
      },
      {
       "output_type": "stream",
       "stream": "stdout",
       "text": [
        "\n",
        "net run-off = 2.62 cm.\n",
        "W index = 2.21 cm/hr.\n"
       ]
      },
      {
       "metadata": {},
       "output_type": "display_data",
       "png": "[encoded data removed]",
       "text": [
        "<matplotlib.figure.Figure at 0x104b42510>"
       ]
      }
     ],
     "prompt_number": 14
    },
    {
     "cell_type": "heading",
     "level": 2,
     "metadata": {},
     "source": [
      "Example 4.54 pg : 226"
     ]
    },
    {
     "cell_type": "code",
     "collapsed": false,
     "input": [
      "import math \n",
      "\n",
      "\n",
      "#run-off by rainfall of 3.3cm in 3hrs\n",
      "\t\t\t\t\n",
      "#Given\n",
      "A = [36, 18, 66];             \t\t\t\t#area of catchment\n",
      "fi = [0.9 ,1.1, 0.5];         \t\t\t\t#fi index\n",
      "r1 = [0.6 ,0.9, 1.0];         \t\t\t\t#rainfall in first hour\n",
      "r2 = [2.4 ,2.1, 2.0];        \t\t\t\t#rainfall in second hour\n",
      "r3 = [1.3, 1.5, 0.9];        \t\t\t\t#rainfall in third hour\n",
      "\n",
      "# Calculations and Results\n",
      "t36 = r1[0]+r2[0]+r3[0];\n",
      "t18 = r1[1]+r2[1]+r3[1];\n",
      "t66 = r1[2]+r2[2]+r3[2];\n",
      "\n",
      "p = (t36*A[0]+t18*A[1]+t66*A[2])/(A[0]+A[1]+A[2]);\n",
      "print \"Total rainfall in catchment = %.2f cm.\"%(p);\n",
      "\n",
      "ro1 = [0 ,0, 0.5];\n",
      "ro2 = [1.5 ,1.0, 1.5];\n",
      "ro3 = [0.4, 0.4, 0.4];    \t\t\t\t#rainfall-fi\n",
      "t1 = ro1[0]+ro2[0]+ro3[0];\n",
      "t2 = ro1[1]+ro2[1]+ro3[1];\n",
      "t3 = ro1[2]+ro2[2]+ro3[2];\n",
      "run = (A[0]*t1+A[1]*t2+A[2]*t3)/(A[0]+A[1]+A[2]);       \t\t\t\t#run-off from entire catchment\n",
      "\n",
      "print \"run-off by rainfall of 3.3cm in 3hrs = %.2f cm.\"%(run);\n",
      "\n",
      "fia = (fi[0]*A[0]+fi[1]*A[1]+fi[2]*A[2])/(A[0]+A[1]+A[2]);\n",
      "tr = (1.1-fia)*3;\n",
      "print \"Total run-off = %.2f cm.\"%(tr);\n"
     ],
     "language": "python",
     "metadata": {},
     "outputs": [
      {
       "output_type": "stream",
       "stream": "stdout",
       "text": [
        "Total rainfall in catchment = 4.11 cm.\n",
        "run-off by rainfall of 3.3cm in 3hrs = 2.10 cm.\n",
        "Total run-off = 1.17 cm.\n"
       ]
      }
     ],
     "prompt_number": 31
    },
    {
     "cell_type": "heading",
     "level": 2,
     "metadata": {},
     "source": [
      "Example 4.55 pg : 227"
     ]
    },
    {
     "cell_type": "code",
     "collapsed": false,
     "input": [
      "import math \n",
      "from numpy import array\n",
      "\n",
      "\t\t\t\t\n",
      "#Given\n",
      "P = array([4, 22, 28, 15, 12, 8, 4, 15, 10, 5]);  \t\t\t\t#Precipitation\n",
      "R = array([0.2, 7.1, 10.9, 4.0, 3.0, 1.3, 0.4, 4.1, 2.0, 0.3]);  \t\t\t\t#runoff\n",
      "\n",
      "# Calculations\n",
      "Ps = P**2\n",
      "Rs = R**2\n",
      "PR = P*R\n",
      "\n",
      "s = sum(Ps)\n",
      "t = sum(Rs)\n",
      "u = sum(PR)\n",
      "q = sum(P)\n",
      "w = sum(R)\n",
      "\n",
      "N = 10.;\n",
      "a = (N*u-q*w)/(N*s-q**2);\n",
      "b = (w-a*q)/N;\n",
      "a = round(a*10000)/10000;\n",
      "b = round(b*10000)/10000;\n",
      "\n",
      "# Results\n",
      "print \"Equation is:%.2f P %.2f.\"%(a,b);\n"
     ],
     "language": "python",
     "metadata": {},
     "outputs": [
      {
       "output_type": "stream",
       "stream": "stdout",
       "text": [
        "Equation is:0.43 P -1.93.\n"
       ]
      }
     ],
     "prompt_number": 33
    },
    {
     "cell_type": "heading",
     "level": 2,
     "metadata": {},
     "source": [
      "Example 4.56 pg : 228"
     ]
    },
    {
     "cell_type": "code",
     "collapsed": false,
     "input": [
      "import math \n",
      "\t\t\t\t\n",
      "#Given\n",
      "Q = 470;                \t\t\t\t#peak discharge of flood hydrograph\n",
      "B = 15;                 \t\t\t\t#base flow\n",
      "l = 0.25;               \t\t\t\t#infiltration loss\n",
      "Qr = Q-B;\n",
      "d = 8;                  \t\t\t\t#average depth of rainfall\n",
      "\n",
      "# Calculations\n",
      "re = d-l*6;            \t\t\t\t#rainfall excess\n",
      "q = Qr/re;\n",
      "\n",
      "# Results\n",
      "print \"peak discharge of 6 hrs unit hydrograph = %i cumecs.\"%(q);\n"
     ],
     "language": "python",
     "metadata": {},
     "outputs": [
      {
       "output_type": "stream",
       "stream": "stdout",
       "text": [
        "peak discharge of 6 hrs unit hydrograph = 70 cumecs.\n"
       ]
      }
     ],
     "prompt_number": 117
    },
    {
     "cell_type": "heading",
     "level": 2,
     "metadata": {},
     "source": [
      "Example 4.57 pg : 228"
     ]
    },
    {
     "cell_type": "code",
     "collapsed": false,
     "input": [
      "import math \n",
      "from numpy import array,zeros\n",
      "\n",
      "\t\t\t\t\n",
      "#Given\n",
      "fi = 0.25;          \t\t\t\t#infiltration index\n",
      "B = 20;            \t\t\t\t#Base flow\n",
      "O = array([0, 20, 60, 150, 120, 90, 70, 50, 30, 20, 10, 0, 0, 0]);   \t\t\t\t#ordinates of unit hydrograph\n",
      "R1 = 5;\n",
      "R2 = 0.8;\n",
      "R3 = 3;\n",
      "r1 = R1-(fi*4);                                 \t\t\t\t#rainfall excess in first four hour\n",
      "r2 = R2-(fi*4);                                 \t\t\t\t#rainfall excess in second four hour\n",
      "r3 = R3-(fi*4);                                 \t\t\t\t#rainfall excess in third four hour\n",
      "if r2<0 :\n",
      "    r2 = 0;\n",
      "\n",
      "# Calculations and Results\n",
      "s1 = r1*O\n",
      "s2 = zeros(14)\n",
      "for i in range(1,14):\n",
      "    s2[i] = r2*O[i-1];\n",
      "\n",
      "s3 = zeros(14)\n",
      "for i in range(2,14):\n",
      "    s3[i] = r3*O[i-2];\n",
      "#surface run-off from rainfall excess during succesive unit periods\n",
      "print \"ordinates of storm hydrograph\";\n",
      "T = zeros(14)\n",
      "t = zeros(14)\n",
      "for i in range(14):\n",
      "    T[i] = s1[i]+s2[i]+s3[i];             \t\t\t\t#sub-total\n",
      "    t[i] = T[i]+B;                        \t\t\t\t#ordinate of flood hydrograph\n",
      "    print \"%i\"%(t[i]);\n",
      "\n"
     ],
     "language": "python",
     "metadata": {},
     "outputs": [
      {
       "output_type": "stream",
       "stream": "stdout",
       "text": [
        "ordinates of storm hydrograph\n",
        "20\n",
        "100\n",
        "260\n",
        "660\n",
        "620\n",
        "680\n",
        "540\n",
        "400\n",
        "280\n",
        "200\n",
        "120\n",
        "60\n",
        "40\n",
        "20\n"
       ]
      }
     ],
     "prompt_number": 34
    },
    {
     "cell_type": "heading",
     "level": 2,
     "metadata": {},
     "source": [
      "Example 4.58 pg : 229"
     ]
    },
    {
     "cell_type": "code",
     "collapsed": false,
     "input": [
      "import math \n",
      "from numpy import array\n",
      "\t\t\t\t\n",
      "#Given\n",
      "fi = 2.5;            \t\t\t\t#fi index\n",
      "t = 24.;\n",
      "A = 200.;             \t\t\t\t#area of catchment\n",
      "R1 = 7.5;\n",
      "R2 = 2.0;\n",
      "R3 = 5.; \t\t\t\t#rainfall\n",
      "r1 = R1-fi;\n",
      "r2 = R2-fi;\n",
      "r3 = R3-fi;\n",
      "r2 = 0;\n",
      "r = [5, 0, 2.5];      \t\t\t\t#excess rainfall\n",
      "D = array([5 ,15, 40, 25, 10, 5, 0, 0, 0]);  \t\t\t\t#distribution\n",
      "d1 = D*r[0]/100\n",
      "d2 = zeros(9)\n",
      "for i in range(8):\n",
      "     d2[i+1] = D[i]*r[1]/100;\n",
      "\n",
      "d3 = zeros(9)\n",
      "for i in range(7):\n",
      "     d3[i+2] = D[i]*r[2]/100;\n",
      "#distribution run-off for rainfall excess\n",
      "\n",
      "tr1 = zeros(9)\n",
      "tr2 = zeros(9)\n",
      "for i in range(9):\n",
      "    tr1[i] = d1[i]+d2[i]+d3[i];           \t\t\t\t#total run-off as depth\n",
      "    tr2[i] = 23.148*tr1[i];               \t\t\t\t#total run-off as discharge\n",
      "    tr2[i] = round(tr2[i]*1000)/1000;\n",
      "\n",
      "s = sum(tr2)\n",
      "\n",
      "print \"Total run-off:\";\n",
      "print \"as depth          as discharge\";\n",
      "for i in range(9):\n",
      "    print \"%.2f          %.2f\"%(tr1[i],tr2[i]);\n",
      "\n",
      "r = 0.36*s*t/A;\n",
      "r = round(r*10)/10;\n",
      "print \"total run-off = %.2f cm.\"%(r);\n",
      "\n"
     ],
     "language": "python",
     "metadata": {},
     "outputs": [
      {
       "output_type": "stream",
       "stream": "stdout",
       "text": [
        "Total run-off:\n",
        "as depth          as discharge\n",
        "0.00          0.00\n",
        "0.00          0.00\n",
        "2.12          49.19\n",
        "1.38          31.83\n",
        "1.00          23.15\n",
        "0.62          14.47\n",
        "0.25          5.79\n",
        "0.12          2.89\n",
        "0.00          0.00\n",
        "total run-off = 5.50 cm.\n"
       ]
      }
     ],
     "prompt_number": 35
    },
    {
     "cell_type": "heading",
     "level": 2,
     "metadata": {},
     "source": [
      "Example 4.59 pg : 230"
     ]
    },
    {
     "cell_type": "code",
     "collapsed": false,
     "input": [
      "import math \n",
      "from numpy import zeros\n",
      "\t\t\t\t\n",
      "#Given\n",
      "O = [10, 30, 90, 220, 280, 220, 166, 126, 92, 62, 40, 20, 10];      \t\t\t\t#ordinates of 6 hr flood hydrograph\n",
      "B = 10;          \t\t\t\t#Base flow\n",
      "r = zeros(13)\n",
      "\n",
      "for i in range(13):\n",
      "    r[i] = O[i]-B;           \t\t\t\t#ordinates of direct run-off\n",
      "\n",
      "print \"Ordinates of 6 hr unit hydrograph\";\n",
      "u = zeros(13)\n",
      "\n",
      "for i in range(1,13):\n",
      "    u[i] = r[i]-u[i-1];          \t\t\t\t#ordinates of 6 hrs unit hydrograph\n",
      "\n",
      "for i in range(13): \n",
      "    print \"%i\"%(u[i]);\n",
      "\n"
     ],
     "language": "python",
     "metadata": {},
     "outputs": [
      {
       "output_type": "stream",
       "stream": "stdout",
       "text": [
        "Ordinates of 6 hr unit hydrograph\n",
        "0\n",
        "20\n",
        "60\n",
        "150\n",
        "120\n",
        "90\n",
        "66\n",
        "50\n",
        "32\n",
        "20\n",
        "10\n",
        "0\n",
        "0\n"
       ]
      }
     ],
     "prompt_number": 36
    },
    {
     "cell_type": "heading",
     "level": 2,
     "metadata": {},
     "source": [
      "Example 4.60 pg : 231"
     ]
    },
    {
     "cell_type": "code",
     "collapsed": false,
     "input": [
      "import math \n",
      "from numpy import zeros\n",
      "\n",
      "#determine the ordinates of 1 cm-6 hour hydrograph\n",
      "\t\t\t\t\n",
      "#Given\n",
      "t = 6;\n",
      "A = 450;       \t\t\t\t#catchment area\n",
      "O = [5, 15, 40, 80, 60, 50, 25, 15, 5];   \t\t\t\t#ordinates of flood hydrograph\n",
      "B = 5;         \t\t\t\t#base flow assumed\n",
      "s = 0;\n",
      "r = zeros(9)\n",
      "for i in range(9):\n",
      "    r[i] = O[i]-B;        \t\t\t\t#ordinates of direct run-off\n",
      "    s = s+r[i];\n",
      "\n",
      "n = s*0.36*12/A;\n",
      "print \"ordinates of unit hydrograph\";\n",
      "for i in range(9):\n",
      "    u[i] = r[i]/n;\n",
      "    u[i] = round(u[i]*100)/100;\n",
      "    print \"%.2f\"%(u[i]);\n",
      "\n",
      "\n"
     ],
     "language": "python",
     "metadata": {},
     "outputs": [
      {
       "output_type": "stream",
       "stream": "stdout",
       "text": [
        "ordinates of unit hydrograph\n",
        "0.00\n",
        "4.17\n",
        "14.58\n",
        "31.25\n",
        "22.92\n",
        "18.75\n",
        "8.33\n",
        "4.17\n",
        "0.00\n"
       ]
      }
     ],
     "prompt_number": 37
    },
    {
     "cell_type": "heading",
     "level": 2,
     "metadata": {},
     "source": [
      "Example 4.61 pg : 232"
     ]
    },
    {
     "cell_type": "code",
     "collapsed": false,
     "input": [
      "import math \n",
      "from numpy import zeros\n",
      "\n",
      "#obtain ordinates 24 hr unit hydrograph\n",
      "\t\t\t\t\n",
      "#Given\n",
      "O = [0, 5.5, 13.5, 26.5, 45, 82, 162, 240, 231, 165, 112, 79, 57, 42, 31, 22, 14, 9.5, 6.6, 4, 2, 1, 0, 0, 0, 0, 0];  \t\t\t\t#ordinates of  1st 8 hrs unit hydrograph\n",
      "o1 = zeros(27)\n",
      "o2 = zeros(29)\n",
      "for i in range(25):\n",
      "    o1[i+2] = O[i];                          \t\t\t\t#ordinates of  2nd 8 hrs unit hydrograph\n",
      "    o2[i+4] = O[i];                          \t\t\t\t#ordinates of  3rd 8 hrs unit hydrograph\n",
      "\n",
      "o3 = zeros(27)\n",
      "t = zeros(27)\n",
      "print \"ordinates 24 hr unit hydrograph:\";\n",
      "for i in range(27):\n",
      "    o3[i] = o1[i]+o2[i]+O[i];        \t\t\t\t#total 24 hr hydrograph of 3 cm run-off\n",
      "    t[i] = o3[i]/3;\n",
      "    t[i] = round(t[i]*10)/10;\n",
      "    print \"%.2f\"%(t[i]);\n"
     ],
     "language": "python",
     "metadata": {},
     "outputs": [
      {
       "output_type": "stream",
       "stream": "stdout",
       "text": [
        "ordinates 24 hr unit hydrograph:\n",
        "0.00\n",
        "1.80\n",
        "4.50\n",
        "10.70\n",
        "19.50\n",
        "38.00\n",
        "73.50\n",
        "116.20\n",
        "146.00\n",
        "162.30\n",
        "168.30\n",
        "161.30\n",
        "133.30\n",
        "95.30\n",
        "66.70\n",
        "47.70\n",
        "34.00\n",
        "24.50\n",
        "17.20\n",
        "11.80\n",
        "7.50\n",
        "4.80\n",
        "2.90\n",
        "1.70\n",
        "0.70\n",
        "0.30\n",
        "0.00\n"
       ]
      }
     ],
     "prompt_number": 38
    },
    {
     "cell_type": "heading",
     "level": 2,
     "metadata": {},
     "source": [
      "Example 4.62 pg : 233"
     ]
    },
    {
     "cell_type": "code",
     "collapsed": false,
     "input": [
      "%pylab inline\n",
      "import math \n",
      "from numpy import zeros,linspace\n",
      "\n",
      "\n",
      "#ordinates of 1 hr unit hydrograph\n",
      "\t\t\t\t\n",
      "#Given\n",
      "t = linspace(0,12,13) \t\t\t#time\n",
      "O = [0, 0, 54, 0, 175, 0, 127, 0, 58, 0, 25, 0, 0, 0];           \t\t\t\t#ordinate of 2 hr unit hydrograph\n",
      "of = zeros(13)\n",
      "for i in range(2,13):\n",
      "    if (i%2) == 0:\n",
      "        of[i] = 0\n",
      "    else:\n",
      "        of[i] = O[i-2]+of[i-2];\n",
      "\n",
      "s = [0, 25, 54, 120, 229, 300, 356, 390, 414, 430, 439, 439, 439];     \t\t\t\t#Ordinates of S-curve\n",
      "of1 = zeros(13)\n",
      "for i in range(1,13):\n",
      "    of1[i] = s[i-1];\n",
      "\n",
      "y = zeros(13)\n",
      "u = zeros(13)\n",
      "print \"ordinates of 1 hr unit hydrograph:\";\n",
      "for i in range(13):\n",
      "    y[i] = s[i]-of1[i];\n",
      "    u[i] = y[i]*2;\n",
      "    print \"%i\"%(u[i]);\n",
      "\n",
      "#graph is plotted between u and t\n",
      "plot(t,u)\n",
      "\n",
      "\n",
      "# graph in book is wrong. Please check."
     ],
     "language": "python",
     "metadata": {},
     "outputs": [
      {
       "output_type": "stream",
       "stream": "stdout",
       "text": [
        "Populating the interactive namespace from numpy and matplotlib\n",
        "ordinates of 1 hr unit hydrograph:\n",
        "0\n",
        "50\n",
        "58\n",
        "132\n",
        "218\n",
        "142\n",
        "112\n",
        "68\n",
        "48\n",
        "32\n",
        "18\n",
        "0\n",
        "0\n"
       ]
      },
      {
       "metadata": {},
       "output_type": "pyout",
       "prompt_number": 15,
       "text": [
        "[<matplotlib.lines.Line2D at 0x104903850>]"
       ]
      },
      {
       "metadata": {},
       "output_type": "display_data",
       "png": "[encoded data removed]",
       "text": [
        "<matplotlib.figure.Figure at 0x1049b8950>"
       ]
      }
     ],
     "prompt_number": 15
    },
    {
     "cell_type": "heading",
     "level": 2,
     "metadata": {},
     "source": [
      "Example 4.63 pg : 234"
     ]
    },
    {
     "cell_type": "code",
     "collapsed": false,
     "input": [
      "import math \n",
      "\n",
      "\t\t\t\t\n",
      "#Given\n",
      "xavg = 1200;        \t\t\t\t#sample mean\n",
      "n = 50.;             \t\t\t\t#assurance year\n",
      "A = 0.95;           \t\t\t\t#assurance percent\n",
      "Rsk = 1-A;\n",
      "sigma = 650;        \t\t\t\t#smath.radians(numpy.arcmath.tan(ard deviation\n",
      "yn = 0.53622;       \t\t\t\t#mean of reduced variate\n",
      "sigma30 = 1.11238;  \t\t\t\t#smath.radians(numpy.arcmath.tan(ard deviation of reduced variate\n",
      "\n",
      "# Calculations\n",
      "T = 1/(1-(1-Rsk)**(1/n));\n",
      "yt = -2.303*math.log10(2.303*math.log10(T/(T-1)));\n",
      "K = (yt-yn)/sigma30;\n",
      "xt = xavg+K*sigma;\n",
      "\n",
      "# Results\n",
      "print \" design disharge = %i cumecs.\"%(xt);\n",
      "\n"
     ],
     "language": "python",
     "metadata": {},
     "outputs": [
      {
       "output_type": "stream",
       "stream": "stdout",
       "text": [
        " design disharge = 4908 cumecs.\n"
       ]
      }
     ],
     "prompt_number": 43
    },
    {
     "cell_type": "heading",
     "level": 2,
     "metadata": {},
     "source": [
      "Example 4.64 pg : 235"
     ]
    },
    {
     "cell_type": "code",
     "collapsed": false,
     "input": [
      "import math \n",
      "\n",
      "\t\t\t\t\n",
      "#Given\n",
      "T1 = 50.;\n",
      "T2 = 100.;            \t\t\t\t#Return period\n",
      "F1 = 20600.;\n",
      "F2 = 22150;      \t\t\t\t#Peak flood\n",
      "\n",
      "# Calculations\n",
      "y100 = -(2.303*math.log10(2.303*math.log10(T2/(T2-1))));\n",
      "y50 = -(2.303*math.log10(2.303*math.log10(T1/(T1-1))));\n",
      "y = (F2-F1)/(y100-y50);\n",
      "T = 500.;\n",
      "y500 = -(2.303*math.log10(2.303*math.log10(T/(T-1))));\n",
      "x500 = F2+(y500-y100)*y;\n",
      "x500 = round(x500);\n",
      "\n",
      "# Results\n",
      "print \"flood magnitude with return period of 240 years = %.2f cumec.\"%(x500);\n"
     ],
     "language": "python",
     "metadata": {},
     "outputs": [
      {
       "output_type": "stream",
       "stream": "stdout",
       "text": [
        "flood magnitude with return period of 240 years = 25732.00 cumec.\n"
       ]
      }
     ],
     "prompt_number": 44
    },
    {
     "cell_type": "heading",
     "level": 2,
     "metadata": {},
     "source": [
      "Example 4.65 pg : 235"
     ]
    },
    {
     "cell_type": "code",
     "collapsed": false,
     "input": [
      "import math \n",
      "\n",
      "\t\t\t\t\n",
      "#Given\n",
      "xavg = 1.65;      \t\t\t\t#mean of data\n",
      "sigma = 0.45;     \t\t\t\t#smath.radians(numpy.arcmath.tan(ard deviation\n",
      "x = 3;\n",
      "\n",
      "# Calculations\n",
      "y = 1.2825*(x-xavg)/sigma+0.577;\n",
      "l = math.e**(math.e**(-y));\n",
      "T = l/(l-1);\n",
      "T = round(T*10)/10;\n",
      "\n",
      "# Results\n",
      "print \"recurrence interval of 10 minutes storm = %.2f years.\"%(T);\n"
     ],
     "language": "python",
     "metadata": {},
     "outputs": [
      {
       "output_type": "stream",
       "stream": "stdout",
       "text": [
        "recurrence interval of 10 minutes storm = 84.00 years.\n"
       ]
      }
     ],
     "prompt_number": 45
    },
    {
     "cell_type": "heading",
     "level": 2,
     "metadata": {},
     "source": [
      "Example 4.66 pg : 236"
     ]
    },
    {
     "cell_type": "code",
     "collapsed": false,
     "input": [
      "import math \n",
      "\t\t\t\t\n",
      "#Given\n",
      "T1 = 50.;\n",
      "T2 = 100.;            \t\t\t\t#Return period\n",
      "F1 = 30800.;\n",
      "F2 = 36300.;      \t\t\t\t#Peak flood\n",
      "\n",
      "# Calculations\n",
      "y100 = -(2.303*math.log10(2.303*math.log10(T2/(T2-1))));\n",
      "y50 = -(2.303*math.log10(2.303*math.log10(T1/(T1-1))));\n",
      "y = (F2-F1)/(y100-y50);\n",
      "T = 200.;\n",
      "y200 = -(2.303*math.log10(2.303*math.log10(T/(T-1))));\n",
      "x200 = F2+(y200-y100)*y;\n",
      "x200 = round(x200);\n",
      "\n",
      "# Results\n",
      "print \"flood magnitude with return period of 240 years = %.2f cumecs.\"%(x200);\n",
      "\n"
     ],
     "language": "python",
     "metadata": {},
     "outputs": [
      {
       "output_type": "stream",
       "stream": "stdout",
       "text": [
        "flood magnitude with return period of 240 years = 41780.00 cumecs.\n"
       ]
      }
     ],
     "prompt_number": 46
    },
    {
     "cell_type": "heading",
     "level": 2,
     "metadata": {},
     "source": [
      "Example 4.67 pg : 236"
     ]
    },
    {
     "cell_type": "code",
     "collapsed": false,
     "input": [
      "import math \n",
      "\t\t\t\t\n",
      "#Given\n",
      "xavg = 4200.;      \t\t\t\t#mean\n",
      "sigma = 1705.;     \t\t\t\t#smath.radians(numpy.arcmath.tan(ard deviation\n",
      "xt = 9550.;        \t\t\t\t#flood value\n",
      "\n",
      "# Calculations\n",
      "K = (xt-xavg)/sigma;\n",
      "yt = 1.2825*K+0.577;\n",
      "l = math.e**(math.e**(-yt));\n",
      "T = l/(l-1);\n",
      "\n",
      "# Results\n",
      "print \"Return period of flood of 9950 cumec/s = %.2f years.\"%(T);\n",
      "\n"
     ],
     "language": "python",
     "metadata": {},
     "outputs": [
      {
       "output_type": "stream",
       "stream": "stdout",
       "text": [
        "Return period of flood of 9950 cumec/s = 100.11 years.\n"
       ]
      }
     ],
     "prompt_number": 49
    },
    {
     "cell_type": "heading",
     "level": 2,
     "metadata": {},
     "source": [
      "Example 4.68 pg : 237"
     ]
    },
    {
     "cell_type": "code",
     "collapsed": false,
     "input": [
      "import math \n",
      "\n",
      "\t\t\t\t\n",
      "#Given\n",
      "T1 = 100.;\n",
      "T2 = 50.;            \t\t\t\t#Return period\n",
      "F1 = 485.;\n",
      "F2 = 445.;      \t\t\t\t#Peak flood\n",
      "\n",
      "# Calculations\n",
      "y50 = -(2.303*math.log10(2.303*math.log10(T2/(T2-1))));\n",
      "y100 = -(2.303*math.log10(2.303*math.log10(T1/(T1-1))));\n",
      "y = (F2-F1)/(y50-y100);\n",
      "T = 1000.;\n",
      "y1000 = -(2.303*math.log10(2.303*math.log10(T/(T-1))));\n",
      "x1000 = F2+(y1000-y50)*y;\n",
      "x1000 = round(x1000*10)/10;\n",
      "\n",
      "# Results\n",
      "print \"flood magnitude with return period of 240 years = %.2f cumecs.\"%(x1000);\n"
     ],
     "language": "python",
     "metadata": {},
     "outputs": [
      {
       "output_type": "stream",
       "stream": "stdout",
       "text": [
        "flood magnitude with return period of 240 years = 617.20 cumecs.\n"
       ]
      }
     ],
     "prompt_number": 50
    },
    {
     "cell_type": "heading",
     "level": 2,
     "metadata": {},
     "source": [
      "Example 4.69 pg : 238"
     ]
    },
    {
     "cell_type": "code",
     "collapsed": false,
     "input": [
      "import math \n",
      "\n",
      "#probability of exceedence\n",
      "#probability of occurence in next 12 years\n",
      "\n",
      "#Given\n",
      "T = 25.;        \t\t\t\t#return period\n",
      "n = 12.;\n",
      "\n",
      "# Calculations\n",
      "P = 1/T;\n",
      "Rsk = 1-(1-P)**n;\n",
      "P = round(P*100)/100;\n",
      "Rsk = round(Rsk*10000)/10000;\n",
      "\n",
      "# Results\n",
      "print \"probability of exceedence = %.2f.\"%(P);\n",
      "print \"probability of occurence in next 12 years = %.2f.\"%(Rsk);\n",
      "\n"
     ],
     "language": "python",
     "metadata": {},
     "outputs": [
      {
       "output_type": "stream",
       "stream": "stdout",
       "text": [
        "probability of exceedence = 0.04.\n",
        "probability of occurence in next 12 years = 0.39.\n"
       ]
      }
     ],
     "prompt_number": 51
    }
   ],
   "metadata": {}
  }
 ]
}