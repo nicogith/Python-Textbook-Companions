{
 "metadata": {
  "name": "",
  "signature": "sha256:06ec184185f2d3771e5e9a8334a24a140307b0ca6ee46117ed9968f716f623ca"
 },
 "nbformat": 3,
 "nbformat_minor": 0,
 "worksheets": [
  {
   "cells": [
    {
     "cell_type": "heading",
     "level": 1,
     "metadata": {},
     "source": [
      "Chapter 17 : CANAL OUTLETS"
     ]
    },
    {
     "cell_type": "heading",
     "level": 2,
     "metadata": {},
     "source": [
      "Example 17.1 pg : 788"
     ]
    },
    {
     "cell_type": "code",
     "collapsed": false,
     "input": [
      "import math \n",
      "\t\t\t\t\n",
      "#Given\n",
      "D = 100.0;         \t\t\t\t#F.S.L of distributory\n",
      "wc = 99.90;      \t\t\t\t#F.S.L of water course\n",
      "L = 9.;           \t\t\t\t#length of pipe\n",
      "d = 20.;          \t\t\t\t#diameter of pipe\n",
      "f = 0.005;     \t\t\t\t#coefficient of friction\n",
      "g = 9.81;      \t\t\t\t#acceleration due to gravity\n",
      "\n",
      "# Calculations\n",
      "H = D-wc;        \t\t\t\t#working head\n",
      "C = (d/((1.5*d/(400*f)+L)*f))**0.5/20;\n",
      "A = math.pi*d**2/(4*10000);\n",
      "q = C*A*(2*g*H)**0.5;\n",
      "q = round(q*10000)/10000;\n",
      "\n",
      "# Results\n",
      "print \"discharge through the outlet = %.5f cumec.\"%(q);\n"
     ],
     "language": "python",
     "metadata": {},
     "outputs": [
      {
       "output_type": "stream",
       "stream": "stdout",
       "text": [
        "discharge through the outlet = 0.02840 cumec.\n"
       ]
      }
     ],
     "prompt_number": 2
    },
    {
     "cell_type": "heading",
     "level": 2,
     "metadata": {},
     "source": [
      "Example 17.2 pg : 788"
     ]
    },
    {
     "cell_type": "code",
     "collapsed": false,
     "input": [
      "import math \n",
      "\n",
      "#design a submerged pipe\n",
      "\t\t\t\t\n",
      "#Given\n",
      "q = 0.04;         \t\t\t\t#discharge through outlet\n",
      "D = 100.0;         \t\t\t\t#F.S.L of distributing canal\n",
      "wc = 99.90;      \t\t\t\t#F.S.L of water course\n",
      "dep = 1.1;       \t\t\t\t#full supply depth distributing canal\n",
      "C = 0.7;         \t\t\t\t#average value of coefficient of discharge\n",
      "g = 9.81;      \t\t\t\t#acceleration due to gravity\n",
      "\n",
      "# Calculations\n",
      "\n",
      "H = D-wc;          \t\t\t\t#available head\n",
      "A = q/(C*(2*g*H)**0.5);\n",
      "d = (4*A/math.pi)**0.5*100;\n",
      "d = round(d*10)/10;\n",
      "\n",
      "# Results\n",
      "print \"diameter of pipe required = %.2f cm.\"%(d);\n",
      "print \"use pipe of diameter 25 cm.\";\n"
     ],
     "language": "python",
     "metadata": {},
     "outputs": [
      {
       "output_type": "stream",
       "stream": "stdout",
       "text": [
        "diameter of pipe required = 22.80 cm.\n",
        "use pipe of diameter 25 cm.\n"
       ]
      }
     ],
     "prompt_number": 3
    },
    {
     "cell_type": "heading",
     "level": 2,
     "metadata": {},
     "source": [
      "Example 17.3 pg : 788"
     ]
    },
    {
     "cell_type": "code",
     "collapsed": false,
     "input": [
      "import math \n",
      "\n",
      "\n",
      "#design submerged pipe\n",
      "\t\t\t\t\n",
      "#Given\n",
      "q = 0.04;         \t\t\t\t#discharge through outlet\n",
      "D = 100.0;         \t\t\t\t#F.S.L of distributing canal\n",
      "wc = 99.90;      \t\t\t\t#F.S.L of water course\n",
      "dep = 1.1;       \t\t\t\t#full supply depth distributing canal\n",
      "f = 0.01;         \t\t\t\t#coefficient of friction\n",
      "g = 9.81;      \t\t\t\t#acceleration due to gravity\n",
      "L = 9.;         \t\t\t\t#Length of pipe\n",
      "\n",
      "H = D-wc;        \t\t\t\t#working head\n",
      "\n",
      "# Calculations\n",
      "#first trial\n",
      "#taking d = 22.8 cm\n",
      "d = 22.8;\n",
      "C = (d/((1.5*d/(400*f)+L)*f))**0.5/20;\n",
      "A = q/(C*(2*g*H)**0.5);\n",
      "d = (4*A/math.pi)**0.5*100;\n",
      "\t\t\t\t#second trial\n",
      "C = (d/((1.5*d/(400*f)+L)*f))**0.5/20;\n",
      "A = q/(C*(2*g*H)**0.5);\n",
      "d = (4*A/math.pi)**0.5*100;\n",
      "d = round(d*100)/100;\n",
      "\n",
      "# Results\n",
      "print \"diameter of pipe required = %.2f cm.\"%(d);\n",
      "print \"provide diameter of pipe as 25 cm.\";\n"
     ],
     "language": "python",
     "metadata": {},
     "outputs": [
      {
       "output_type": "stream",
       "stream": "stdout",
       "text": [
        "diameter of pipe required = 24.94 cm.\n",
        "provide diameter of pipe as 25 cm.\n"
       ]
      }
     ],
     "prompt_number": 4
    },
    {
     "cell_type": "heading",
     "level": 2,
     "metadata": {},
     "source": [
      "Example 17.4 pg : 795"
     ]
    },
    {
     "cell_type": "code",
     "collapsed": false,
     "input": [
      "import math \n",
      "#design an open flume outlet\n",
      "\t\t\t\t\n",
      "#Given\n",
      "Q = 0.06;           \t\t\t\t#discharge\n",
      "D = 0.85;           \t\t\t\t#full supply depth\n",
      "Hw = 15.;             \t\t\t\t#available working head\n",
      "Bt = 7.;\n",
      "C = 1.6;      \t\t\t\t#let us choose\n",
      "\n",
      "# Calculations and Results\n",
      "H = (Q*100/(C*Bt))**(2./3);\n",
      "mh = 0.2*H;        \t\t\t\t#minimum modular head\n",
      "mh = round(mh*1000)/1000;\n",
      "print \"minimum modular head = %.2f m. < available working head.hemce,design is safe.\"%(mh);\n",
      "o = H/D;\n",
      "o = round(o*1000)/1000;\n",
      "print \"setting of outlet = %.2f. <0.9.hence,outlet will work as hyper propotional outlet.\"%(o);\n"
     ],
     "language": "python",
     "metadata": {},
     "outputs": [
      {
       "output_type": "stream",
       "stream": "stdout",
       "text": [
        "minimum modular head = 0.13 m. < available working head.hemce,design is safe.\n",
        "setting of outlet = 0.78. <0.9.hence,outlet will work as hyper propotional outlet.\n"
       ]
      }
     ],
     "prompt_number": 5
    }
   ],
   "metadata": {}
  }
 ]
}