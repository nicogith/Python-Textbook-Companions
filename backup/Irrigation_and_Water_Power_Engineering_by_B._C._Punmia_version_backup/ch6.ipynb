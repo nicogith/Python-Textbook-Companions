{
 "metadata": {
  "name": "",
  "signature": "sha256:cdf8fdbaa560cd66d2c449918f65db6ec9d56e694a7e8698e703276e2f6f0ae8"
 },
 "nbformat": 3,
 "nbformat_minor": 0,
 "worksheets": [
  {
   "cells": [
    {
     "cell_type": "heading",
     "level": 1,
     "metadata": {},
     "source": [
      "Chapter 6 : RESERVIOR PLANNING"
     ]
    },
    {
     "cell_type": "heading",
     "level": 2,
     "metadata": {},
     "source": [
      "Example 6.1 pg : 328"
     ]
    },
    {
     "cell_type": "code",
     "collapsed": false,
     "input": [
      "import math \n",
      "from numpy import zeros,linspace\n",
      "#determine maximum reservior level\n",
      "#maximum discharge over spillway\n",
      "#plot inflow and routed hydrograph and find peak flow and peak lag\n",
      "\n",
      "#Given\n",
      "e = [100, 100.3, 100.6, 100.9, 101.2, 101.5, 101.8, 102.1, 102.4, 102.7];    \t\t\t\t#elevation(km)\n",
      "A = [405, 412, 420, 425, 428, 436, 445, 453, 460, 469];          \t\t\t\t#area\n",
      "o = [0, 14.9, 42.2, 77.3, 119, 169, 217, 272, 334, 405];         \t\t\t\t#outflow\n",
      "c = zeros(10)\n",
      "dh = zeros(10)\n",
      "s = zeros(10)\n",
      "h = zeros(10)\n",
      "h1 = zeros(10)\n",
      "h2 = zeros(10)\n",
      "for i in range(10):\n",
      "    dh[i] = e[i]-e[i-1];\n",
      "    s[i] = dh[i]/3*(A[i-1]+A[i]+(A[i-1]*A[i])**0.5);       \t\t\t\t#storage between contours\n",
      "    c[i] = c[i-1]+s[i];                        \t\t\t\t#cumulative storage\n",
      "    h[i] = c[i]/1.08;                         \t\t\t\t#2s/t\n",
      "    h1[i] = h[i]-o[i];                         \t\t\t\t#2s/t-o\n",
      "    h2[i] = h[i]+o[i];                         \t\t\t\t#2s/t+o\n",
      "\n",
      "T = linspace(0,102,17)\n",
      "I = [42, 45, 57, 88, 147, 210, 272, 340, 350, 338, 314, 288, 263, 240, 198, 170, 143, 120];  \t\t\t\t#inflow\n",
      "h4 = [0, 0, 60, 122, 185, 266, 362, 455, 545, 605, 623, 620, 600, 575, 550, 515, 470, 430];    \t\t\t\t#2s/t-0 obtained from curve a\n",
      "O = [0, 10, 24, 42, 74, 130, 194, 260, 316, 334, 328, 312, 286, 264, 236, 204, 177, 150];     \t\t\t\t#outflow read from curve a\n",
      "re = [100.2, 100.39, 100.58, 100.86, 101.26, 101.65, 102.03, 102.31, 102.4, 102.37, 102.3, 102.18, 102.06, 101.9, 101.72, 101.56, 102.4];   \t\t\t\t#reservior elevation read from curve b\n",
      "t = zeros(17)\n",
      "h3 = zeros(17)\n",
      "for i in range(1,17):\n",
      "    t[i] = I[i-1]+I[i];                        \t\t\t\t#I1+I2\n",
      "    h3[i] = t[i]+h4[i];                        \t\t\t\t#2s/t+O\n",
      "\n",
      "pt = T[9]-T[8];\n",
      "d = I[8]-O[9];\n",
      "#results\n",
      "print \" maximum reservior level = %.2f m.\"%(re[9]);\n",
      "print \"maximum discharge over spillway = %.2f cumecs.\"%(O[9]);\n",
      "print \"reduction in peak discharge = %.2f cumecs.\"%(d);\n",
      "print \"peak lag = %.f hours.\"%(pt);\n"
     ],
     "language": "python",
     "metadata": {},
     "outputs": [
      {
       "output_type": "stream",
       "stream": "stdout",
       "text": [
        " maximum reservior level = 102.37 m.\n",
        "maximum discharge over spillway = 334.00 cumecs.\n",
        "reduction in peak discharge = 16.00 cumecs.\n",
        "peak lag = 6 hours.\n"
       ]
      }
     ],
     "prompt_number": 3
    },
    {
     "cell_type": "heading",
     "level": 2,
     "metadata": {},
     "source": [
      "Example 6.2 pg : 331"
     ]
    },
    {
     "cell_type": "code",
     "collapsed": false,
     "input": [
      "import math \n",
      "from numpy import zeros\n",
      "\t\t\t\t\n",
      "#Given\n",
      "in1 = [8.6, 2.2, 1.8, 0, 0, 13.5, 280.6, 510.2, 136, 52.5, 20.6, 12.3];      \t\t\t\t#inflow(ha-m)\n",
      "pan = [2.2, 2.3, 3.1, 8.6, 12.8, 15.6, 12.3, 10.6, 10, 8.2, 5.8, 3];       \t\t\t\t#pan evaporation\n",
      "p = [0.8, 1.2, 0, 0, 0, 4.8, 12.2, 18.6, 8.6, 1.5, 0, 0]                   \t\t\t\t#precipitation\n",
      "D = [14.5, 15.8, 16.2, 16.8, 17.5, 18, 18, 17, 16.5, 16, 15.8, 15];        \t\t\t\t#Demand\n",
      "s = 0;\n",
      "r = zeros(12)\n",
      "E = zeros(12)\n",
      "P = zeros(12)\n",
      "S = zeros(12)\n",
      "# Calculations\n",
      "for i in range(12):\n",
      "    if in1[i]<10:\n",
      "        r[i] = in1[i];                                       \t\t\t\t#D/S requirement\n",
      "    else:\n",
      "        r[i] = 10;\n",
      "\n",
      "    E[i] = 3.6*pan[i];                                     \t\t\t\t#Evaporation over reservior area\n",
      "    P[i] = 3.5*p[i];                                       \t\t\t\t#Precipitation\n",
      "    I[i] = in1[i]-r[i]-E[i]+P[i];                           \t\t\t\t#Adjusted inflow\n",
      "    S[i] = D[i]-I[i];                                      \t\t\t\t#Water required from storage\n",
      "    if S[i]<0:\n",
      "        S[i] = 0;\n",
      "\n",
      "    s = s+S[i];\n",
      "\n",
      "\n",
      "# Results\n",
      "print \"required useful storage = %.2f ha-m.\"%(s);\n"
     ],
     "language": "python",
     "metadata": {},
     "outputs": [
      {
       "output_type": "stream",
       "stream": "stdout",
       "text": [
        "required useful storage = 281.64 ha-m.\n"
       ]
      }
     ],
     "prompt_number": 4
    },
    {
     "cell_type": "heading",
     "level": 2,
     "metadata": {},
     "source": [
      "Example 6.3 pg : 333"
     ]
    },
    {
     "cell_type": "code",
     "collapsed": false,
     "input": [
      "import math \n",
      "from numpy import zeros\n",
      "\n",
      "\t\t\t\t\n",
      "#Given\n",
      "V = 475;            \t\t\t\t#flow required to be maintained throughout the year\n",
      "Y = V*365*8.64;     \t\t\t\t#yearly demand\n",
      "\t\t\t\t#yearly demand gives the slope of demand curve\n",
      "t = linspace(0,36,37)           \t\t\t\t#number of season startin from 1960;each year is diveded into 3 seasons.\n",
      "q = [0, 1050, 300, 50, 3000, 250, 40, 3500, 370, 90, 2000, 150, 120, 1200, 350, 65, 1400, 400, 100, 3600, 200, 80, 3000, 200, 80, 3000, 150, 120, 700, 210, 50, 800, 120, 80, 2400, 320, 120, 3200, 280, 80];    \t\t\t\t#average discharge\n",
      "v = [0, 0.9707, 0.4717, 0.0328, 2.7734, 0.3981, 0.0263, 3.2357, 0.5818, 0.0591, 1.8490, 0.2356, 0.0788, 1.1094, 0.5504, 0.0427, 1.2943, 0.6290, 0.0657, 3.3281, 0.3145, 0.0525, 2.7734, 0.2359, 0.0788, 0.6441, 0.3302, 0.028, 0.7396, 0.1887, 0.0525, 2.2188, 0.5032, 0.0788, 2.9583, 0.4403, 0.0525];        \t\t\t\t#voloume\n",
      "cv = zeros(37)\n",
      "cv[0] = v[0];\n",
      "for i in range(37):\n",
      "    cv[i] = cv[i-1]+v[i];\n",
      "\n",
      "#each year is divided into three seasons(monsoon,winter and summer).and readings are taken for 12 years\n",
      "#mass inflow curve is plotted and math.tangent are drawn at the apexes and parellel to demand curve slope;\n",
      "#the respectiv ordinates represent the deficiency during dry period\n",
      "#maximum of these ordinates gives the desired reservior capacity\n",
      "print \"storage capacity of reservior = 1.6 million ha-m.\";\n",
      "\n"
     ],
     "language": "python",
     "metadata": {},
     "outputs": [
      {
       "output_type": "stream",
       "stream": "stdout",
       "text": [
        "storage capacity of reservior = 1.6 million ha-m.\n"
       ]
      }
     ],
     "prompt_number": 5
    },
    {
     "cell_type": "heading",
     "level": 2,
     "metadata": {},
     "source": [
      "Example 6.4 pg : 336"
     ]
    },
    {
     "cell_type": "code",
     "collapsed": false,
     "input": [
      "import math \n",
      "from numpy import linspace,zeros\n",
      "\t\t\t\t\n",
      "#Given\n",
      "asi = 3.6;                                 \t\t\t\t#annual sediment inflow(x10**6)\n",
      "gamma_s = 12;                             \t\t\t\t#specific weigth of sediment\n",
      "vs = asi/12;\n",
      "ir = 30.;                                 \t\t\t\t#initial reservior capacity\n",
      "fr = 60.;                                \t\t\t\t#final reservior capacity \n",
      "r = ir/fr;                              \t\t\t\t#initial capacity/inflow ratio\n",
      "\n",
      "# Calculations\n",
      "#r = 0.5; hence we start capacity/inflow ratio from 0.5\n",
      "c = linspace(0.5,0.1,5)                    \t\t\t\t#capacity inflow ratio\n",
      "e = [0.96 ,0.955, 0.95, 0.93, 0.87];      \t\t\t\t#trap efficiency\n",
      "ae = zeros(4)\n",
      "for i in range(4):\n",
      "    ae[i] = (e[i]+e[i+1])/2;            \t\t\t\t#average efficiency for interval\n",
      "\n",
      "as1 = [0.2872, 0.2857, 0.2820, 0.2700];    \t\t\t\t#annual sediment trapped\n",
      "s = 0\n",
      "y = zeros(4)\n",
      "for i in range(4):\n",
      "    y[i] = 6/as1[i];                  \t\t\t\t#year to fill\n",
      "    s = s+y[i];\n",
      "\n",
      "# Results\n",
      "print \" probable life of reservior = %i years.\"%(s);\n",
      "\n"
     ],
     "language": "python",
     "metadata": {},
     "outputs": [
      {
       "output_type": "stream",
       "stream": "stdout",
       "text": [
        " probable life of reservior = 85 years.\n"
       ]
      }
     ],
     "prompt_number": 6
    },
    {
     "cell_type": "heading",
     "level": 2,
     "metadata": {},
     "source": [
      "Example 6.5 pg : 337"
     ]
    },
    {
     "cell_type": "code",
     "collapsed": false,
     "input": [
      "import math \n",
      "\n",
      "#corresponding maximum level of water above spillway crest\n",
      "\n",
      "#Given\n",
      "I = [60, 480, 900, 470, 270, 160, 110, 80, 60];   \t\t\t\t#inflow\n",
      "#for the first time interval 0 hours to 3 hours\n",
      "I1 = I[0];\n",
      "I2 = I[1];\n",
      "t = 3*3600.;\n",
      "ti = (I1+I2)*t/2;              \t\t\t\t#total inflow\n",
      "#outflow = 1.62*h1**1.5;\n",
      "#storage change = (30+3h1)h1\n",
      "#from the basic equation i.e total inflow = total outflow+change in storage\n",
      "#on solving we get\n",
      "#h1**2+0.54h1**1.5+10h1-0.972 = 0;\n",
      "#solving it by trial and error method;we get\n",
      "h1 = 0.0954;\n",
      "#for the second time interval 3 hours to 6 hours\n",
      "I1 = I[1];\n",
      "I2 = I[2];\n",
      "t = 3*3600.;\n",
      "ti = (I1+I2)*t/2;              \t\t\t\t#total inflow\n",
      "#outflow = 0.0477+1.62*h2**1.5;\n",
      "#storage change = (30+3h2)h2\n",
      "#from the basic equation i.e total inflow = total outflow+change in storage\n",
      "#on solving we get\n",
      "#h2**2+0.54h2**1.5+10h2-3.4312 = 0;\n",
      "#solving it by trial and error method;we get\n",
      "h2 = 0.323;\n",
      "#for the third time interval 6 hours to 9 hours\n",
      "I1 = I[2];\n",
      "I2 = I[3];\n",
      "t = 3*3600.;\n",
      "ti = (I1+I2)*t/2;              \t\t\t\t#total inflow\n",
      "#outflow = 0.2974+1.62*h3**1.5;\n",
      "#storage change = (30+3h3)h3\n",
      "#from the basic equation i.e total inflow = total outflow+change in storage\n",
      "#on solving we get\n",
      "#h3**2+0.54h3**1.5+10h3-5.7012 = 0;\n",
      "#solving it by trial and error method;we get\n",
      "h3 = 0.522;\n",
      "#for the fourth time interval 9 hours to 12 hours\n",
      "I1 = I[3];\n",
      "I2 = I[4];\n",
      "t = 3*3600.;\n",
      "ti = (I1+I2)*t/2;              \t\t\t\t#total inflow\n",
      "#outflow = 0.611+1.62*h4**1.5;\n",
      "#storage change = (30+3h4)h4\n",
      "#from the basic equation i.e total inflow = total outflow+change in storage\n",
      "#on solving we get\n",
      "#h4**2+0.54h4**1.5+10h4-6.6208 = 0;\n",
      "#solving it by trial and error method;we get\n",
      "h4 = 0.601;\n",
      "#for the fifth time interval 12 hours to 15 hours\n",
      "I1 = I[4];\n",
      "I2 = I[5];\n",
      "t = 3*3600;\n",
      "ti = (I1+I2)*t/2;              \t\t\t\t#total inflow\n",
      "#outflow = 0.7548+1.62*h5**1.5;\n",
      "#storage change = (30+3h5)h5\n",
      "#from the basic equation i.e total inflow = total outflow+change in storage\n",
      "#on solving we get\n",
      "#h5**2+0.54h5**1.5+10h5-6.8936 = 0;\n",
      "#solving it by trial and error method;we get\n",
      "h5 = 0.624;\n",
      "#for the sixth time interval 12 hours to 15 hours\n",
      "I1 = I[5];\n",
      "I2 = I[6];\n",
      "t = 3*3600.;\n",
      "ti = (I1+I2)*t/2;              \t\t\t\t#total inflow\n",
      "#outflow = 0.7985.62*h6**1.5;\n",
      "#storage change = (30+3h6)h6\n",
      "#from the basic equation i.e total inflow = total outflow+change in storage\n",
      "#on solving we get\n",
      "#h6**2+0.54h6**1.5+10h6-6.8492 = 0;\n",
      "#solving it by trial and error method;we get\n",
      "h6 = 0.620;\n",
      "hmax = h5;\n",
      "q = 300*(h5)**1.5;        \t\t\t\t#equation given\n",
      "q = round(q*100)/100;\n",
      "\n",
      "# Results\n",
      "print \"maximum outflow discharge over spillway = %.2f cumecs.\"%(q);\n",
      "print \"maximum level of water above spillway crest = %.2f m.\"%(h5);\n"
     ],
     "language": "python",
     "metadata": {},
     "outputs": [
      {
       "output_type": "stream",
       "stream": "stdout",
       "text": [
        "maximum outflow discharge over spillway = 147.88 cumecs.\n",
        "maximum level of water above spillway crest = 0.62 m.\n"
       ]
      }
     ],
     "prompt_number": 7
    },
    {
     "cell_type": "heading",
     "level": 2,
     "metadata": {},
     "source": [
      "Example 6.6 pg : 339"
     ]
    },
    {
     "cell_type": "code",
     "collapsed": false,
     "input": [
      "import math \n",
      "from numpy import zeros\n",
      "\t\t\t\t\n",
      "#Given\n",
      "t = 240.;            \t\t\t\t#total math.cost of project(million rupees)\n",
      "s = [32., 88., 72.];     \t\t\t\t#separable math.cost\n",
      "eb = [40., 138., 112.];   \t\t\t\t#estimated benifit\n",
      "sp = [47., 104., 101.];   \t\t\t\t#alternate math.single purpose math.cost\n",
      "\t\t\t\t#umath.sing remaining benifit method\n",
      "ts = s[0]+s[1]+s[2]; \t\t\t\t#total separable math.cost\n",
      "tj = t-ts;           \t\t\t\t#total joint math.cost\n",
      "w = 0;\n",
      "b = zeros(3)\n",
      "rb = zeros(3)\n",
      "for i in range(3):\n",
      "    if eb[i]<sp[i]:\n",
      "        b[i] = eb[i];            \t\t\t\t#benifit limited by alternate math.cost\n",
      "    else:\n",
      "        b[i] = sp[i];\n",
      "\n",
      "    rb[i] = b[i]-s[i];            \t\t\t\t#remaining benifit\n",
      "    w = w+rb[i];  \n",
      "y = 0;\n",
      "aj = zeros(3)\n",
      "ta = zeros(3)\n",
      "for i in range(3):\n",
      "     aj[i] = tj*rb[i]/w;         \t\t\t\t#allocated joint math.cost\n",
      "     ta[i] = s[i]+aj[i];         \t\t\t\t#total allocations\n",
      "     y = y+ta[i];\n",
      "\n",
      "print \"Using remaining benifit method.\";\n",
      "print \"allocations to each project purposepercent:\";\n",
      "per = zeros(3)\n",
      "for i in range(3):\n",
      "    per[i] = ta[i]*100/y;            \t\t\t\t#total allocation percent\n",
      "    print \"%.2f\"%(per[i]);\n",
      "\n",
      "\n",
      "\n",
      "#umath.sing alternate justifiable method\n",
      "w = 0;\n",
      "ac = zeros(3)\n",
      "for i in range(3):\n",
      "    ac[i] = sp[i]-s[i];           \t\t\t\t#alternate math.cost less separable math.cost\n",
      "    w = w+ac[i];      \n",
      "\n",
      "y = 0;\n",
      "ajc = zeros(3)\n",
      "ta = zeros(3)\n",
      "for i in range(3):\n",
      "    ajc[i] = tj*ac[i]/w;         \t\t\t\t#allocated joint math.cost\n",
      "    ta[i] = s[i]+ajc[i];         \t\t\t\t#total allocation\n",
      "    y = y+ta[i];\n",
      "    \n",
      "print \"Using alternate justifiable expenditure method method.\";\n",
      "print \"allocations to each project purposepercent:\";\n",
      "pr = zeros(3)\n",
      "for i in range(3):\n",
      "    pr[i] = ta[i]*100/y;         \t\t\t\t#total allocation percent\n",
      "    print \"%.2f\"%(pr[i]);\n"
     ],
     "language": "python",
     "metadata": {},
     "outputs": [
      {
       "output_type": "stream",
       "stream": "stdout",
       "text": [
        "Using remaining benifit method.\n",
        "allocations to each project purposepercent:\n",
        "16.35\n",
        "42.70\n",
        "40.94\n",
        "Using alternate justifiable expenditure method method.\n",
        "allocations to each project purposepercent:\n",
        "18.33\n",
        "42.00\n",
        "39.67\n"
       ]
      }
     ],
     "prompt_number": 9
    },
    {
     "cell_type": "heading",
     "level": 2,
     "metadata": {},
     "source": [
      "Example 6.8 pg : 342"
     ]
    },
    {
     "cell_type": "code",
     "collapsed": false,
     "input": [
      "import math \n",
      "from numpy import zeros\n",
      "\t\t\t\t\n",
      "#Given\n",
      "I = [35, 55, 92, 130, 160, 140];   \t\t\t\t#inflow(cumec/sec)\n",
      "x = 0.28;\n",
      "K = 1.6;              \t\t\t\t#studied value\n",
      "t = 6;\n",
      "K = K*24;                    \t\t\t\t#in hours\n",
      "co = (-K*x+0.5*t)/(K-K*x+0.5*t);\n",
      "c1 = (K*x+0.5*t)/(K-K*x+0.5*t);\n",
      "c2 = (K-K*x-0.5*t)/(K-K*x+0.5*t);\n",
      "c = co+c1+c2;\n",
      "#c = 1; which implies (OK)\n",
      "#from Muskingum equation\n",
      "p1 = zeros(6)\n",
      "p2 = zeros(6)\n",
      "p3 = zeros(6)\n",
      "O = zeros(6)\n",
      "O[0] = 35;\n",
      "print \"outflow hydrograph:%.2f\"%(O[0]);\n",
      "for i in range(1,6):\n",
      "    p1[i] = co*I[i];\n",
      "    p2[i] = c1*I[i-1];\n",
      "    p3[i] = c2*O[i-1];\n",
      "    O[i] = p1[i]+p2[i]+p3[i];\n",
      "    O[i] = round(O[i]*100)/100;\n",
      "    print \"%.2f\"%(O[i]);\n"
     ],
     "language": "python",
     "metadata": {},
     "outputs": [
      {
       "output_type": "stream",
       "stream": "stdout",
       "text": [
        "outflow hydrograph:35.00\n",
        "29.94\n",
        "25.49\n",
        "28.90\n",
        "41.10\n",
        "69.44\n"
       ]
      }
     ],
     "prompt_number": 10
    },
    {
     "cell_type": "heading",
     "level": 2,
     "metadata": {},
     "source": [
      "Example 6.9 pg : 343"
     ]
    },
    {
     "cell_type": "code",
     "collapsed": false,
     "input": [
      "import math \n",
      "from numpy import zeros_like,zeros\n",
      "\t\t\t\t\n",
      "#Given\n",
      "md = [50, 75, 80, 85, 130, 120, 25, 25, 40, 45, 50, 60];       \t\t\t\t#monthly demand\n",
      "e = [6, 8, 13, 17, 22, 22, 14,11, 13, 12, 7, 5];              \t\t\t\t#evaporation\n",
      "r = [1, 0, 0, 0, 0, 19, 43, 39, 22, 6, 2, 1];                  \t\t\t\t#rain1fall\n",
      "in1 = [50, 40, 30, 25, 20, 30, 200, 225, 150, 90, 70, 60];      \t\t\t\t#monthly in1flow\n",
      "A = 30.;                                             \t\t\t\t#area of reservior\n",
      "Cr = 0.4;                                           \t\t\t\t#run-off coefficient\n",
      "er = zeros_like(md)\n",
      "ni = zeros(12)\n",
      "niv = zeros(12)\n",
      "nd =zeros(12)\n",
      "for i in range(12):\n",
      "    er[i] = 0.4*r[i];                               \t\t\t\t#effective rain1fall\n",
      "    ni[i] = er[i]-e[i];                             \t\t\t\t#net in1flow\n",
      "    niv[i] = ni[i]*0.01*A;                          \t\t\t\t#net in1flow volume\n",
      "    nd[i] = md[i]-niv[i];                           \t\t\t\t#net demand\n",
      "\n",
      "cnd = zeros(12)\n",
      "ci = zeros(12)\n",
      "cnd[0] = nd[0];                                    \t\t\t\t#cumulative demand\n",
      "ci[0] = in1[0];                                     \t\t\t\t#cumulative in1flow\n",
      "for i in range(1,12):\n",
      "    cnd[i] = cnd[i-1]+nd[i];\n",
      "    ci[i] = ci[i-1]+in1[i];\n",
      "\n",
      "ed = zeros(12,dtype=float)\n",
      "es = zeros(12)\n",
      "print \"Excess demand:\";\n",
      "for i in range(12):\n",
      "    ed[i] = cnd[i]-ci[i];                          \t\t\t\t#excess demand\n",
      "    if ed[i]<0: \n",
      "        es[i] = ed[i];                             \t\t\t\t#excess supply\n",
      "        ed[i] = 0;\n",
      "\n",
      "    print \"%.2f\"%(ed[i]);\n",
      "\n",
      "print \"min1imum storage required = Maximum of excess demand = %.2f Mm**3.\"%(ed[5]);\n"
     ],
     "language": "python",
     "metadata": {},
     "outputs": [
      {
       "output_type": "stream",
       "stream": "stdout",
       "text": [
        "Excess demand:\n",
        "1.80\n",
        "39.20\n",
        "93.10\n",
        "158.20\n",
        "274.80\n",
        "369.30\n",
        "193.40\n",
        "0.00\n",
        "0.00\n",
        "0.00\n",
        "0.00\n",
        "0.00\n",
        "min1imum storage required = Maximum of excess demand = 369.30 Mm**3.\n"
       ]
      }
     ],
     "prompt_number": 12
    },
    {
     "cell_type": "heading",
     "level": 2,
     "metadata": {},
     "source": [
      "Example 6.10 pg : 344"
     ]
    },
    {
     "cell_type": "code",
     "collapsed": false,
     "input": [
      "import math \n",
      "from numpy import array,zeros_like\n",
      "#minimum capacity of reservior\n",
      "#the initial storage storage required to maintain uniform demand\n",
      "\t\t\t\t\n",
      "#Given\n",
      "in1 = array([2.83, 4.25, 5.66, 18.4, 22.64, 22.64, 19.81, 8.49, 7.1, 7.1, 5.66, 5.66]);     \t\t\t\t#inflow(x10**5)\n",
      "s = sum(in1)\n",
      "avd = s/12;                                                        \t\t\t\t#average demand(x10**5)\n",
      "s = 0\n",
      "t = 0;\n",
      "e = zeros_like(in1)\n",
      "D = zeros_like(in1)\n",
      "for i in range(12):\n",
      "    e[i] = avd-in1[i];\n",
      "    if e[i]<0:\n",
      "        S[i] = -e[i];                                               \t\t\t\t#surplus(x10**5)\n",
      "        s = s+S[i];\n",
      "    else:\n",
      "        D[i] = e[i];                                              \t\t\t\t#Deficit(x10**5)\n",
      "        t = t+D[i];\n",
      "    \n",
      "d = (s-(t-D[0]-D[1]-D[2]));\n",
      "s = s;\n",
      "\n",
      "print \"minimum capacity of reservior = %.2fD+5 cumec.\"%(s);\n",
      "print \"storage required to maintain uniform demand = %.2fD+5 cumec\"%(d);\n"
     ],
     "language": "python",
     "metadata": {},
     "outputs": [
      {
       "output_type": "stream",
       "stream": "stdout",
       "text": [
        "minimum capacity of reservior = 40.08D+5 cumec.\n",
        "storage required to maintain uniform demand = 19.82D+5 cumec\n"
       ]
      }
     ],
     "prompt_number": 13
    }
   ],
   "metadata": {}
  }
 ]
}