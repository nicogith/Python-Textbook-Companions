{
 "metadata": {
  "name": "",
  "signature": "sha256:3545b25396a8ddd5a6290547da9d278c18ef204a72b66bd3a11c0eea3ce41199"
 },
 "nbformat": 3,
 "nbformat_minor": 0,
 "worksheets": [
  {
   "cells": [
    {
     "cell_type": "heading",
     "level": 1,
     "metadata": {},
     "source": [
      "Chapter 2 : METHODS OF IRRIGATION"
     ]
    },
    {
     "cell_type": "heading",
     "level": 2,
     "metadata": {},
     "source": [
      "Example 2.1 pg : 21"
     ]
    },
    {
     "cell_type": "code",
     "collapsed": false,
     "input": [
      "import math \n",
      "\n",
      "\n",
      "#Given\n",
      "Q = 0.0108   #discharge through well\n",
      "y = 0.075    #average depth of flow\n",
      "I = 0.05     #average infiltration rate\n",
      "A = 0.1      #area to cover\n",
      "\n",
      "# Calculations\n",
      "t = (60*2.303*y*math.log10(Q/(Q-I*A)))/I\n",
      "\n",
      "# Results\n",
      "print \"Time required to cover given area = %.f minutes.\"%(t)\n"
     ],
     "language": "python",
     "metadata": {},
     "outputs": [
      {
       "output_type": "stream",
       "stream": "stdout",
       "text": [
        "Time required to cover given area = 56 minutes.\n"
       ]
      }
     ],
     "prompt_number": 1
    },
    {
     "cell_type": "heading",
     "level": 2,
     "metadata": {},
     "source": [
      "Example 2.2 pg : 21"
     ]
    },
    {
     "cell_type": "code",
     "collapsed": false,
     "input": [
      "\n",
      "#Given\n",
      "Q = 0.0108   #discharge through well\n",
      "y = 0.075   #average depth of flow\n",
      "I = 0.05   #average infiltration rate\n",
      "A = 0.1   #area to cover\n",
      "\n",
      "# Calculations\n",
      "Amax = Q/I;\n",
      "\n",
      "# Results\n",
      "print \"Maximum area that can be irrigated  = %.2f hectare.\"%(Amax);\n"
     ],
     "language": "python",
     "metadata": {},
     "outputs": [
      {
       "output_type": "stream",
       "stream": "stdout",
       "text": [
        "Maximum area that can be irrigated  = 0.22 hectare.\n"
       ]
      }
     ],
     "prompt_number": 2
    },
    {
     "cell_type": "heading",
     "level": 2,
     "metadata": {},
     "source": [
      "Example 2.3 pg : 22"
     ]
    },
    {
     "cell_type": "code",
     "collapsed": false,
     "input": [
      "import math \n",
      "\n",
      "\n",
      "\n",
      "#time of water application\n",
      "#optimum length of each border strip\n",
      "#dischrge for each border strip\n",
      "\n",
      "#Given\n",
      "d = 0.05;\t\t\t\t\t\t\t\t#depth of root zone\n",
      "I = 1.25E-5;\t\t\t\t\t\t\t\t#average infiltration rate\n",
      "s = 0.0035\t\t\t\t\t\t\t\t#slope of border strip\n",
      "t = d/(I*3600);\n",
      "\n",
      "# Calculations and Results\n",
      "t = round(t*1000)/1000;\n",
      "print \"Time of water application = %.2f hours.\"%(t);\n",
      "\n",
      "#Part (a)\n",
      "q = 2E-3;\t\t\t\t\t\t\t\t#discharge entering water source\n",
      "qdash = q*100**2*60;\n",
      "n = 0.55425-(0.0001386*qdash);\n",
      "yo = (n*q/(s**0.5))**0.6;\n",
      "y = 0.665*yo;\n",
      "L = (q/I)*(1-math.e**(-d/y));\n",
      "L = round(10*L)/10;\n",
      "print \"Part a:\";\n",
      "print \"Optimum length of each border strip = %.2f m.\"%(L);\n",
      "\n",
      "#Part (b)\n",
      "Lgiven = 150\t\t\t\t\t\t\t\t#given value of length\n",
      "#First Trial\n",
      "q = 3E-3;\n",
      "qdash = q*100**2*60;\n",
      "n = 0.55425-(0.0001386*qdash);\n",
      "yo = (n*q/(s**0.5))**0.6;\n",
      "y = 0.665*yo;\n",
      "L = (q/I)*(1-math.e**(-d/y));\n",
      "#second trial\n",
      "q = 3.15E-3;\n",
      "qdash = q*100**2*60;\n",
      "n = 0.55425-(0.0001386*qdash);\n",
      "yo = (n*q/(s**0.5))**0.6;\n",
      "y = 0.665*yo;\n",
      "L = (q/I)*(1-math.e**(-d/y));\n",
      "q = 9*Lgiven*q*1000/L;\n",
      "q = round(q*10)/10;\n",
      "print \"Part b:\";\n",
      "print \"Discharge for each border strip = %.2f lps.\"%(q);\n"
     ],
     "language": "python",
     "metadata": {},
     "outputs": [
      {
       "output_type": "stream",
       "stream": "stdout",
       "text": [
        "Time of water application = 1.11 hours.\n",
        "Part a:\n",
        "Optimum length of each border strip = 101.90 m.\n",
        "Part b:\n",
        "Discharge for each border strip = 28.20 lps.\n"
       ]
      }
     ],
     "prompt_number": 8
    },
    {
     "cell_type": "heading",
     "level": 2,
     "metadata": {},
     "source": [
      "Example 2.4 pg : 26"
     ]
    },
    {
     "cell_type": "code",
     "collapsed": false,
     "input": [
      "import math \n",
      "\n",
      "\n",
      "\n",
      "\n",
      "#deep percolation loss\n",
      "#water application efficiency and time of irrigation.\n",
      "\n",
      "#Given\n",
      "B = 12.;\t\t\t\t#breadth of bamath.sin\n",
      "L = 36.\t\t\t\t#length of bamath.sin\n",
      "d = 70.\t\t\t\t#depth of irrigation\n",
      "Ic = 70.\t\t\t\t#cumulative infiltration\n",
      "kdash = 9;\n",
      "ndash = 0.42;\n",
      "#Part (a) \n",
      "a = 5;\n",
      "b = 0.6;\n",
      "q = 1.5;\t\t\t\t#stream size\n",
      "\n",
      "# Calculations and Results\n",
      "Q = (q*B)/1000;\n",
      "tl = (L/a)**(1/b);\n",
      "td = (Ic/kdash)**(1/ndash);\n",
      "T = tl+td;\n",
      "p = (1-(td/T)**(ndash))*100;\n",
      "eita = (1-p/100)*100;\n",
      "Tdash = (d*L*B)/(10*eita*Q*60);\n",
      "p = round(p*100)/100;\n",
      "eita = round(eita*100)/100;\n",
      "Tdash = round(Tdash*10)/10;\n",
      "print \"Part a:\"\n",
      "print \"Deep percolation loss =  %.2f percent.\"%(p);\n",
      "print \"Water application efficiency =  %.2f percent.\"%(eita);\n",
      "print \"Time of irrigation =  %.2f minutes.\"%(Tdash);\n",
      "#part (b)\n",
      "a = 8;\n",
      "b = 0.6;\n",
      "q = 3;\n",
      "Q = (q*B)/1000;\n",
      "tl = (L/a)**(1/b);\n",
      "td = (Ic/kdash)**(1/ndash);\n",
      "T = tl+td;\n",
      "p = (1-(td/T)**(ndash))*100;\n",
      "eita = (1-p/100)*100;\n",
      "Tdash = (d*L*B)/(10*eita*Q*60);\n",
      "p = round(p*100)/100;\n",
      "eita = round(eita*100)/100;\n",
      "Tdash = round(Tdash*10)/10;\n",
      "\n",
      "print \"Part b:\"\n",
      "print \"Deep percolation loss =  %.2f percent.\"%(p);\n",
      "print \"Water application efficiency =  %.2f percent.\"%(eita);\n",
      "print \"Time of irrigation =  %.2f minutes.\"%(Tdash);\n"
     ],
     "language": "python",
     "metadata": {},
     "outputs": [
      {
       "output_type": "stream",
       "stream": "stdout",
       "text": [
        "Part a:\n",
        "Deep percolation loss =  7.47 percent.\n",
        "Water application efficiency =  92.53 percent.\n",
        "Time of irrigation =  30.30 minutes.\n",
        "Part b:\n",
        "Deep percolation loss =  3.66 percent.\n",
        "Water application efficiency =  96.34 percent.\n",
        "Time of irrigation =  14.50 minutes.\n"
       ]
      }
     ],
     "prompt_number": 9
    },
    {
     "cell_type": "heading",
     "level": 2,
     "metadata": {},
     "source": [
      "Example 2.5 pg : 31"
     ]
    },
    {
     "cell_type": "code",
     "collapsed": false,
     "input": [
      "import math \n",
      "from numpy import zeros\n",
      "\n",
      "\n",
      "#given\n",
      "d = 37.5\t\t\t\t#crop water requirement\n",
      "W = 1.\t\t\t\t#furrow spacing\n",
      "L = 120.\t\t\t\t#length of furrow\n",
      "n = -0.49;\n",
      "k = 38.;\n",
      "Ttotal = 143.;\t\t\t\t#Total time of irrigation\n",
      "A = [0 ,23, 52 ,88, 127]\t\t\t\t#given values of time of advance\n",
      "B = zeros(5)\n",
      "C = zeros(5)\n",
      "D = zeros(5)\n",
      "E = zeros(5)\n",
      "\n",
      "# Calculations\n",
      "for i in range(5):\t\t\t\t#loop to find respective values of time of ponding\n",
      "    B[i] = 143-A[i] \n",
      "\n",
      "for j in range(5):\t\t\t\t#loop to find respective furrow infiltration\n",
      "    C[j] = B[j]**(n)*k;\n",
      "\n",
      "for K in range(4):\t\t\t\t#loop to find respective average infiltration\n",
      "    D[K] = (C[K]+C[K+1])/2;\n",
      "\n",
      "\n",
      "E[0] = D[0];\n",
      "for l in range(1,4):\t\t\t\t#loop to determine cumulative infiltration\n",
      "    E[l] = D[l]+E[l-1];\n",
      "\n",
      "I = E[3];\n",
      "\n",
      "T = (30*d*W*(n+1)/k)**(1/(n+1));\n",
      "dav = ((24.5*Ttotal)+(I*(T-Ttotal)))/L;\n",
      "q = ((120*37.5)-(24.5*143))/62;\n",
      "T = round(T);\n",
      "dav = round(dav*10)/10;\n",
      "q = round(q*100)/100;\n",
      "I = round(I*100)/100;\n",
      "\n",
      "# Results\n",
      "print \"Maximum size of cut-back stream = %.2f lpm.\"%(I);\n",
      "print \"Minimum size of cut-back stream = %.2f lpm.\"%(q);\n",
      "print \"Time required for putting 37.5mm depth of water = %.2f minutes.\"%(T);\n",
      "print \"Average depth of water required = %.2f mm.\"%(dav);\n"
     ],
     "language": "python",
     "metadata": {},
     "outputs": [
      {
       "output_type": "stream",
       "stream": "stdout",
       "text": [
        "Maximum size of cut-back stream = 19.69 lpm.\n",
        "Minimum size of cut-back stream = 16.07 lpm.\n",
        "Time required for putting 37.5mm depth of water = 205.00 minutes.\n",
        "Average depth of water required = 39.40 mm.\n"
       ]
      }
     ],
     "prompt_number": 3
    },
    {
     "cell_type": "heading",
     "level": 2,
     "metadata": {},
     "source": [
      "Example 2.6 pg : 32"
     ]
    },
    {
     "cell_type": "code",
     "collapsed": false,
     "input": [
      "\n",
      "#Given\n",
      "L = 100.;\t\t\t\t#length of furrow\n",
      "W = 1.;\t\t\t\t#furrow spacing\n",
      "s = 0.3\t\t\t\t#longitudnal slope of furrow\n",
      "t1 = 80.\t\t\t\t#initial time flow of  stream\n",
      "t2 = 35.\t\t\t\t#final time flow of stream\n",
      "\n",
      "# Calculations\n",
      "qm = 0.6/s;\n",
      "q = qm*0.4;\n",
      "dav = ((q*t2*60)+(2*t1*60))/100;\n",
      "\n",
      "# Results\n",
      "print \"Average depth of water applied = %.2f mm.\"%(dav);\n"
     ],
     "language": "python",
     "metadata": {},
     "outputs": [
      {
       "output_type": "stream",
       "stream": "stdout",
       "text": [
        "Average depth of water applied = 112.80 mm.\n"
       ]
      }
     ],
     "prompt_number": 4
    },
    {
     "cell_type": "heading",
     "level": 2,
     "metadata": {},
     "source": [
      "Example 2.7 pg : 40"
     ]
    },
    {
     "cell_type": "code",
     "collapsed": false,
     "input": [
      "import math \n",
      "\n",
      "\n",
      "#Given\n",
      "Q = 0.0072;\t\t\t\t#discharge through well\n",
      "y = 0.1;\t\t\t\t#average depth of flow\n",
      "I = 0.05\t\t\t\t#infiltration capacity of soil\n",
      "A = 0.04\t\t\t\t#area of land\n",
      "\n",
      "# Calculations\n",
      "t = (2.303*y*60/I)*math.log10(Q/(Q-I*A));\n",
      "Amax = Q/I;\n",
      "t = round(t*100)/100;\n",
      "\n",
      "# Results\n",
      "print \"Time required to irrigate = %.2f minutes.\"%(t);\n",
      "print \"Maximum area that can be irrigated = %.2f ha.\"%(Amax);\n"
     ],
     "language": "python",
     "metadata": {},
     "outputs": [
      {
       "output_type": "stream",
       "stream": "stdout",
       "text": [
        "Time required to irrigate = 39.06 minutes.\n",
        "Maximum area that can be irrigated = 0.14 ha.\n"
       ]
      }
     ],
     "prompt_number": 5
    }
   ],
   "metadata": {}
  }
 ]
}