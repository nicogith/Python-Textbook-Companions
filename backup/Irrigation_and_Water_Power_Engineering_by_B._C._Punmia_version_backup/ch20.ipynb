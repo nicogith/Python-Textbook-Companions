{
 "metadata": {
  "name": "",
  "signature": "sha256:9fa9b8923853c5929c3c0b3b718ed4db74e8cca06a82acc75a09e2384344b2e1"
 },
 "nbformat": 3,
 "nbformat_minor": 0,
 "worksheets": [
  {
   "cells": [
    {
     "cell_type": "heading",
     "level": 1,
     "metadata": {},
     "source": [
      "Chapter 20 : RIVER ENGINEERING"
     ]
    },
    {
     "cell_type": "heading",
     "level": 2,
     "metadata": {},
     "source": [
      "Example 20.1 pg : 888"
     ]
    },
    {
     "cell_type": "code",
     "collapsed": false,
     "input": [
      "import math \n",
      "\n",
      "#design  a guide bank required for a bridge in a river\n",
      "\n",
      "\t\t\t\t\n",
      "#Given\n",
      "Q = 50000.;         \t\t\t\t#discharge\n",
      "f = 1.1;           \t\t\t\t#silt factor\n",
      "bl = 130.;          \t\t\t\t#bed level of river\n",
      "hfl = 140.;         \t\t\t\t#high flood level\n",
      "\n",
      "# Calculations and Results\n",
      "L = 4.75*(Q)**0.5;\n",
      "L = L+212;          \t\t\t\t#providing 20 percent more length\n",
      "L_up = 5*L/4;       \t\t\t\t#upstream length of guide bund\n",
      "L_down = L/4;       \t\t\t\t#downstream length of guide bund\n",
      "r_up = 0.45*L;      \t\t\t\t#radius of upstream curved head\n",
      "print \"upstream length of guide bund = %i m.\"%(L_up);\n",
      "print \"downstream length of guide bund = %i m.\"%(L_down);\n",
      "print \"upstream radius of curved head = %i m.;it can be carved at 145 degrees.\"%(r_up);\n",
      "print \"downstream radius of curved head = 287m.;it can be carved at 60 degrees.\";\n",
      "\n",
      "fb = 1.5;       \t\t\t\t#free board\n",
      "ltop = fb+hfl;  \t\t\t\t#level of top of guide bund\n",
      "print \"level of top of guide bund = %.2f m.\"%(ltop);\n",
      "print \"adopt top level = 142 m.\";\n",
      "ltop = 142;\n",
      "Hr = ltop-bl;\n",
      "print \"keep top width = 4 m. and side slope as 2:1.\";\n",
      "T = 0.06*(Q)**(1./3);         \t\t\t\t#thickness of stone pitching\n",
      "T = round(T*100)/100;\n",
      "print \"Thickness of stone pitching = %.2f m.\"%(T);\n",
      "R = 0.47*(Q/f)**(1./3);      \t\t\t\t#depth of scour\n",
      "Rmax = 1.25*R;            \t\t\t\t#maximum scour\n",
      "rl = hfl-Rmax;            \t\t\t\t#R.L at maximum anticipated cover\n",
      "D = bl-rl;                \t\t\t\t#depth of maximum scour\n",
      "Lapron = 1.5*D;\n",
      "R = round(R*100)/100;\n",
      "Lapron = round(Lapron*100)/100;\n",
      "print \"depth of scour = %.2f m.\"%(R);\n",
      "print \"for straigtht reach of guide band:\";\n",
      "print \"length of apron = %.2f m.\"%(Lapron);\n",
      "Rmax = 1.5*R;\n",
      "rl = hfl-Rmax;\n",
      "D1 = bl-rl;\n",
      "Lapron = 1.5*D1;\n",
      "R = round(R*100)/100;\n",
      "print \"for curvilinear transition portion of guide band:\";\n",
      "print \"length of apron = %.2f m.\"%(Lapron);\n",
      "T1 = 1.9*T;\n",
      "T1 = round(T1*10)/10;\n",
      "print \"thickness of apron = %.2f m.\"%(T1);\n",
      "print \"volume of stones:\";\n",
      "ss = 5**0.5*(141-130)*T;\n",
      "as1 = 5**0.5*D*1.25*T;\n",
      "ss = round(ss*100)/100;\n",
      "as1 = round(as1*100)/100;\n",
      "print \"at shank:\";\n",
      "print \"on slope = %.2f cubic metre/m.\"%(ss);\n",
      "print \"on apron with a slope 2:1  = %.2f cubic metre/m.\"%(as1);\n",
      "\n",
      "va = 5**0.5*D1*1.25*T;\n",
      "vs = ss;\n",
      "vs = round(vs*100)/100;\n",
      "va = round(va*100)/100;\n",
      "print \"U/S andD/S curved portion:\";\n",
      "print \"on slope = %.2f cubic metre/m.\"%(vs);\n",
      "print \"on apron  = %.2f cubic metre/m.\"%(va);\n",
      "\n",
      "ta = va/(1.5*D1);\n",
      "ta = round(ta*10)/10;\n",
      "print \"thickness of launching apron = %.2f m.\"%(ta);\n"
     ],
     "language": "python",
     "metadata": {},
     "outputs": [
      {
       "output_type": "stream",
       "stream": "stdout",
       "text": [
        "upstream length of guide bund = 1592 m.\n",
        "downstream length of guide bund = 318 m.\n",
        "upstream radius of curved head = 573 m.;it can be carved at 145 degrees.\n",
        "downstream radius of curved head = 287m.;it can be carved at 60 degrees.\n",
        "level of top of guide bund = 141.50 m.\n",
        "adopt top level = 142 m.\n",
        "keep top width = 4 m. and side slope as 2:1.\n",
        "Thickness of stone pitching = 2.21 m.\n",
        "depth of scour = 16.77 m.\n",
        "for straigtht reach of guide band:\n",
        "length of apron = 16.45 m.\n",
        "for curvilinear transition portion of guide band:\n",
        "length of apron = 22.73 m.\n",
        "thickness of apron = 4.20 m.\n",
        "volume of stones:\n",
        "at shank:\n",
        "on slope = 54.36 cubic metre/m.\n",
        "on apron with a slope 2:1  = 67.74 cubic metre/m.\n",
        "U/S andD/S curved portion:\n",
        "on slope = 54.36 cubic metre/m.\n",
        "on apron  = 93.61 cubic metre/m.\n",
        "thickness of launching apron = 4.10 m.\n"
       ]
      }
     ],
     "prompt_number": 1
    }
   ],
   "metadata": {}
  }
 ]
}