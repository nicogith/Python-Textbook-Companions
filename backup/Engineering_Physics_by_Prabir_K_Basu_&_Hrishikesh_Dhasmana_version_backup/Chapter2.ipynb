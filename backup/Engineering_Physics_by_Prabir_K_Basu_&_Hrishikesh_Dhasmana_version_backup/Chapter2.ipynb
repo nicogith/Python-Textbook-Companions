{
 "cells": [
  {
   "cell_type": "markdown",
   "metadata": {},
   "source": [
    "#  Chapter 1 : Diffraction\n"
   ]
  },
  {
   "cell_type": "markdown",
   "metadata": {},
   "source": [
    "## Example number 1 , Page number 256"
   ]
  },
  {
   "cell_type": "code",
   "execution_count": 2,
   "metadata": {
    "collapsed": false
   },
   "outputs": [
    {
     "name": "stdout",
     "output_type": "stream",
     "text": [
      "The Total Linear Width of central maxima is 1.2 cm\n"
     ]
    }
   ],
   "source": [
    "#importing modules\n",
    "import math\n",
    "from __future__ import division\n",
    "\n",
    "#Variable declaration\n",
    "theta=6*10**-3 #Angular Width\n",
    "D=1            #Distance of Screen\n",
    "\n",
    "#Calculations\n",
    "Totalangularwidth=2*theta\n",
    "tlw=Totalangularwidth*D*10**2\n",
    "\n",
    "#Result\n",
    "print\"The Total Linear Width of central maxima is\",tlw,\"cm\"\n"
   ]
  },
  {
   "cell_type": "markdown",
   "metadata": {},
   "source": [
    "## Example number 2 , Page number 257"
   ]
  },
  {
   "cell_type": "code",
   "execution_count": 7,
   "metadata": {
    "collapsed": false
   },
   "outputs": [
    {
     "name": "stdout",
     "output_type": "stream",
     "text": [
      "The Wavelength is 5600 Angstrom\n"
     ]
    }
   ],
   "source": [
    "#importing modules\n",
    "import math\n",
    "from __future__ import division\n",
    "\n",
    "#Variable declaration\n",
    "e=0.14  #width of the slit\n",
    "y=1.6   #Distance of center of dark band from middle of central bright band\n",
    "n=2     #no. of dark band\n",
    "D=2     #Distance from the slit\n",
    "\n",
    "#Calculations\n",
    "lambdaa=((e*y)/(D*n))*10**5\n",
    "\n",
    "#Result\n",
    "print\"The Wavelength is %i\"%lambdaa,\"Angstrom\""
   ]
  },
  {
   "cell_type": "markdown",
   "metadata": {},
   "source": [
    "## Example number 3 , Page number 257"
   ]
  },
  {
   "cell_type": "code",
   "execution_count": 14,
   "metadata": {
    "collapsed": false
   },
   "outputs": [
    {
     "name": "stdout",
     "output_type": "stream",
     "text": [
      "The Width of the slit is  0.0001 cm\n"
     ]
    }
   ],
   "source": [
    "#importing modules\n",
    "import math\n",
    "from __future__ import division\n",
    "\n",
    "#Variable declaration\n",
    "lambdaa=5000*10**-8  #Wavelength\n",
    "theta=30             #Angular Width\n",
    "\n",
    "#Calculations\n",
    "thetarad=math.radians(theta)\n",
    "sinetheta=math.sin(thetarad)\n",
    "e=(lambdaa)/(sinetheta)\n",
    "\n",
    "#Result\n",
    "print\"The Width of the slit is \",e,\"cm\""
   ]
  },
  {
   "cell_type": "markdown",
   "metadata": {},
   "source": [
    "## Example number 4 , Page number 257"
   ]
  },
  {
   "cell_type": "code",
   "execution_count": 21,
   "metadata": {
    "collapsed": false
   },
   "outputs": [
    {
     "name": "stdout",
     "output_type": "stream",
     "text": [
      "The Wavelength is 5000 Angstrom\n"
     ]
    }
   ],
   "source": [
    "#importing modules\n",
    "import math\n",
    "from __future__ import division\n",
    "\n",
    "#Variable declaration\n",
    "y=5*10**-3     #First Minima\n",
    "D=2            #Distance of screen\n",
    "e=0.2*10**-3   #Slit width\n",
    "\n",
    "#Calculations\n",
    "lambdaa=((e*y)/D)*10**10\n",
    "\n",
    "#Result\n",
    "print\"The Wavelength is %i\"%lambdaa,\"Angstrom\""
   ]
  },
  {
   "cell_type": "markdown",
   "metadata": {},
   "source": [
    "## Example number 6 , Page number 258"
   ]
  },
  {
   "cell_type": "code",
   "execution_count": 44,
   "metadata": {
    "collapsed": false
   },
   "outputs": [
    {
     "name": "stdout",
     "output_type": "stream",
     "text": [
      "The Wavelengths are 6250 Angstrom & 5000 Angstrom\n"
     ]
    }
   ],
   "source": [
    "#importing modules\n",
    "import math\n",
    "from __future__ import division\n",
    "\n",
    "#Variable declaration\n",
    "y=0.005              #First Minima\n",
    "D=1                  #Distance of screen\n",
    "e=0.5*10**-2         #Slit width\n",
    "\n",
    "#Calculations\n",
    "yd=(y/D)\n",
    "sinyd=(math.sin(yd))\n",
    "lambdaa1=((e*sinyd)/4)*10**9\n",
    "lambdaa2=((e*sinyd)/5)*10**9\n",
    "\n",
    "#Result\n",
    "print\"The Wavelengths are %4.0f\" %lambdaa1,\"Angstrom & %4.0f\"%lambdaa2,\"Angstrom\""
   ]
  },
  {
   "cell_type": "markdown",
   "metadata": {},
   "source": [
    "## Example number 7 , Page number 259"
   ]
  },
  {
   "cell_type": "code",
   "execution_count": 48,
   "metadata": {
    "collapsed": false
   },
   "outputs": [
    {
     "name": "stdout",
     "output_type": "stream",
     "text": [
      "The Wavelength is 5000 Angstrom\n"
     ]
    }
   ],
   "source": [
    "#importing modules\n",
    "import math\n",
    "from __future__ import division\n",
    "\n",
    "#Variable declaration\n",
    "n=2                  #order of spectral line\n",
    "theta=30             #Angular Width\n",
    "invde=5000           #Inverse of diffraction element\n",
    "\n",
    "#Calculations\n",
    "thetarad=math.radians(theta)\n",
    "sinetheta=math.sin(thetarad)\n",
    "lambdaa=((sinetheta)/(n*invde))*10**8\n",
    "\n",
    "#Result\n",
    "print\"The Wavelength is %i\"%lambdaa,\"Angstrom\""
   ]
  },
  {
   "cell_type": "markdown",
   "metadata": {},
   "source": [
    "## Example number 8 , Page number 259"
   ]
  },
  {
   "cell_type": "code",
   "execution_count": 56,
   "metadata": {
    "collapsed": false
   },
   "outputs": [
    {
     "name": "stdout",
     "output_type": "stream",
     "text": [
      "The Angular Difference is 46.7 Degrees\n"
     ]
    }
   ],
   "source": [
    "#importing modules\n",
    "import math\n",
    "from __future__ import division\n",
    "\n",
    "#Variable declaration\n",
    "lambdaa=5000*10**-8   #Wavelength\n",
    "invde=6000            #Diffraction element inverse\n",
    "\n",
    "#Calculations\n",
    "sinetheta1=lambdaa*invde\n",
    "sinetheta3=lambdaa*invde*3\n",
    "theta1=math.degrees(math.asin(sinetheta1))\n",
    "theta3=math.degrees(math.asin(sinetheta3))\n",
    "deltheta=theta3-theta1\n",
    "\n",
    "#Result\n",
    "print\"The Angular Difference is %2.1f\"%deltheta,\"Degrees\""
   ]
  },
  {
   "cell_type": "markdown",
   "metadata": {},
   "source": [
    "## Example number 9 , Page number 260"
   ]
  },
  {
   "cell_type": "code",
   "execution_count": 59,
   "metadata": {
    "collapsed": false
   },
   "outputs": [
    {
     "name": "stdout",
     "output_type": "stream",
     "text": [
      "The orders visible would be 19\n"
     ]
    }
   ],
   "source": [
    "#importing modules\n",
    "import math\n",
    "from __future__ import division\n",
    "\n",
    "#Variable declaration\n",
    "lambdaa=5000*10**-8   #Wavelength\n",
    "invde=(2620/2.54)            #Diffraction element inverse\n",
    "\n",
    "#Calculations\n",
    "n=(1/(lambdaa*invde))\n",
    "#Result\n",
    "print\"The orders visible would be %i\"%n"
   ]
  },
  {
   "cell_type": "markdown",
   "metadata": {},
   "source": [
    "## Example number 10 , Page number 260"
   ]
  },
  {
   "cell_type": "code",
   "execution_count": 60,
   "metadata": {
    "collapsed": false
   },
   "outputs": [
    {
     "name": "stdout",
     "output_type": "stream",
     "text": [
      "The orders visible will be from 3 to 6 order Spectrum\n"
     ]
    }
   ],
   "source": [
    "#importing modules\n",
    "import math\n",
    "from __future__ import division\n",
    "\n",
    "#Variable declaration\n",
    "lambdaa1=4000*10**-8     #Wavelength1\n",
    "lambdaa2=7000*10**-8     #Wavelength2\n",
    "invde=4000               #Diffraction element inverse\n",
    "\n",
    "#Calculations\n",
    "n1=(1/(lambdaa1*invde))\n",
    "n2=(1/(lambdaa2*invde))\n",
    "#Result\n",
    "print\"The orders visible will be from %i\"%n2,\"to %i\"%n1,\"order Spectrum\""
   ]
  },
  {
   "cell_type": "markdown",
   "metadata": {},
   "source": [
    "## Example number 12 , Page number 262"
   ]
  },
  {
   "cell_type": "code",
   "execution_count": 77,
   "metadata": {
    "collapsed": false
   },
   "outputs": [
    {
     "name": "stdout",
     "output_type": "stream",
     "text": [
      " The number of line cm in grating is 5000.0\n"
     ]
    }
   ],
   "source": [
    "#importing modules\n",
    "import math\n",
    "from __future__ import division\n",
    "\n",
    "#Variable declaration\n",
    "lambdaa=5000*10**-8     #Wavelength\n",
    "theta=30                 #Angular Width\n",
    "\n",
    "\n",
    "#Calculations\n",
    "thetarad=(math.radians(theta))\n",
    "invde=((2*lambdaa)/(math.sin(thetarad)))**-1\n",
    "\n",
    "#Result\n",
    "print\" The number of line cm in grating is\",invde"
   ]
  },
  {
   "cell_type": "markdown",
   "metadata": {},
   "source": [
    "## Example number 13 , Page number 263"
   ]
  },
  {
   "cell_type": "code",
   "execution_count": 79,
   "metadata": {
    "collapsed": false
   },
   "outputs": [
    {
     "name": "stdout",
     "output_type": "stream",
     "text": [
      " The grating element is 0.00032 cm\n"
     ]
    }
   ],
   "source": [
    "#importing modules\n",
    "import math\n",
    "from __future__ import division\n",
    "\n",
    "#Variable declaration\n",
    "lambdaa=6000*10**-8     #Wavelength\n",
    "sinetheta=(3/4)         #Angular Width\n",
    "n=4\n",
    "\n",
    "#Calculations\n",
    "gratingele=((n*lambdaa)/sinetheta)\n",
    "#Result\n",
    "print\" The grating element is\",gratingele,\"cm\""
   ]
  },
  {
   "cell_type": "markdown",
   "metadata": {},
   "source": [
    "## Example number 14 , Page number 263"
   ]
  },
  {
   "cell_type": "code",
   "execution_count": 85,
   "metadata": {
    "collapsed": false
   },
   "outputs": [
    {
     "name": "stdout",
     "output_type": "stream",
     "text": [
      " The Angle of Diffraction is 2.06 degrees\n"
     ]
    }
   ],
   "source": [
    "#importing modules\n",
    "import math\n",
    "from __future__ import division\n",
    "\n",
    "#Variable declaration\n",
    "lambdaa=6000*10**-8     #Wavelength\n",
    "n=3\n",
    "invde=200               #inverse of diffraction element\n",
    "\n",
    "#Calculations\n",
    "sinetheta=(n*lambdaa*invde)\n",
    "thetarad=math.asin(sinetheta)\n",
    "theta=math.degrees(thetarad)\n",
    "#Result\n",
    "print\" The Angle of Diffraction is %1.2f\"%theta,\"degrees\"\n",
    "\n",
    "#Note:The second part of problem is theoretical and hence is not solved"
   ]
  },
  {
   "cell_type": "markdown",
   "metadata": {},
   "source": [
    "## Example number 15 , Page number 264"
   ]
  },
  {
   "cell_type": "code",
   "execution_count": 101,
   "metadata": {
    "collapsed": false
   },
   "outputs": [
    {
     "name": "stdout",
     "output_type": "stream",
     "text": [
      " The difference between the two wavelengths is 86.6 Angstrom\n"
     ]
    }
   ],
   "source": [
    "#importing modules\n",
    "import math\n",
    "from __future__ import division\n",
    "\n",
    "#Variable declaration\n",
    "lambdaa=5000*10**-10     #Wavelength\n",
    "theta=30                 #Angular Width\n",
    "dtheta=0.01\n",
    "\n",
    "#Calculations\n",
    "thetarad=(math.radians(theta))\n",
    "dlambda=((lambdaa*math.cos(thetarad))/(math.sin(thetarad)))*10**8\n",
    "\n",
    "#Result\n",
    "print\" The difference between the two wavelengths is %2.1f\"%dlambda,\"Angstrom\""
   ]
  },
  {
   "cell_type": "markdown",
   "metadata": {},
   "source": [
    "## Example number 16 , Page number 265"
   ]
  },
  {
   "cell_type": "code",
   "execution_count": 104,
   "metadata": {
    "collapsed": false
   },
   "outputs": [
    {
     "name": "stdout",
     "output_type": "stream",
     "text": [
      " The Maximum resolving power is 100000 or 10**5\n"
     ]
    }
   ],
   "source": [
    "#importing modules\n",
    "import math\n",
    "from __future__ import division\n",
    "\n",
    "#Variable declaration\n",
    "lambdaa=5000*10**-8     #Wavelength\n",
    "N=40000                 #Grating lines\n",
    "de=12.5*10**-5          #Diffraction element\n",
    "\n",
    "#Calculations\n",
    "RPmax=((de*N)/lambdaa)\n",
    "\n",
    "#Result\n",
    "print\" The Maximum resolving power is %i\"%RPmax,\"or 10**5\""
   ]
  },
  {
   "cell_type": "markdown",
   "metadata": {},
   "source": [
    "## Example number 17 , Page number 265"
   ]
  },
  {
   "cell_type": "code",
   "execution_count": 107,
   "metadata": {
    "collapsed": false
   },
   "outputs": [
    {
     "name": "stdout",
     "output_type": "stream",
     "text": [
      " The Minimum number of lines in the grating are 491\n"
     ]
    }
   ],
   "source": [
    "#importing modules\n",
    "import math\n",
    "from __future__ import division\n",
    "\n",
    "#Variable declaration\n",
    "lambdaa=5890              #Wavelength\n",
    "dlambdaa=6                #Difference in wavelengths\n",
    "n=2                       #order\n",
    "\n",
    "#Calculations\n",
    "N=((lambdaa)/(n*dlambdaa))\n",
    "\n",
    "#Result\n",
    "print\" The Minimum number of lines in the grating are %3.0f\"%N"
   ]
  },
  {
   "cell_type": "markdown",
   "metadata": {},
   "source": [
    "## Example number 18 , Page number 265"
   ]
  },
  {
   "cell_type": "code",
   "execution_count": 112,
   "metadata": {
    "collapsed": false
   },
   "outputs": [
    {
     "name": "stdout",
     "output_type": "stream",
     "text": [
      " (a)The resolving power in second order is 120000\n",
      " (b) The smallest wavelength that can be resolved in the 3rd order in 5896 Angstrom wavelength region is 0.0328 Angstrom\n"
     ]
    }
   ],
   "source": [
    "#importing modules\n",
    "import math\n",
    "from __future__ import division\n",
    "\n",
    "#Variable declaration\n",
    "lambdaa=5896               #Wavelength\n",
    "N=60000                    #Total Number of lines in 10 cm\n",
    "n1=2                       #order\n",
    "n2=3                       #order\n",
    "\n",
    "#Calculations\n",
    "RP=n1*N\n",
    "dlambda=((lambdaa)/(n2*N))\n",
    "\n",
    "#Result\n",
    "print\" (a)The resolving power in second order is\",RP\n",
    "print\" (b) The smallest wavelength that can be resolved in the 3rd order in 5896 Angstrom wavelength region is %0.4f\"%dlambda,\"Angstrom\""
   ]
  },
  {
   "cell_type": "code",
   "execution_count": null,
   "metadata": {
    "collapsed": true
   },
   "outputs": [],
   "source": []
  }
 ],
 "metadata": {
  "kernelspec": {
   "display_name": "Python 2",
   "language": "python",
   "name": "python2"
  },
  "language_info": {
   "codemirror_mode": {
    "name": "ipython",
    "version": 2
   },
   "file_extension": ".py",
   "mimetype": "text/x-python",
   "name": "python",
   "nbconvert_exporter": "python",
   "pygments_lexer": "ipython2",
   "version": "2.7.11"
  }
 },
 "nbformat": 4,
 "nbformat_minor": 0
}
