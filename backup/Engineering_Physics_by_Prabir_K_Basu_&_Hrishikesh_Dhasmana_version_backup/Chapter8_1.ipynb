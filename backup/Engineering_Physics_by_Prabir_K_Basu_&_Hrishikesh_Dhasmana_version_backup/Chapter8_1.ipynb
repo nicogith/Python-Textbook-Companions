{
 "cells": [
  {
   "cell_type": "markdown",
   "metadata": {},
   "source": [
    "#  Chapter 8 : Electromagnetic Theory"
   ]
  },
  {
   "cell_type": "markdown",
   "metadata": {},
   "source": [
    "## Example number 1 , Page number 282"
   ]
  },
  {
   "cell_type": "code",
   "execution_count": 5,
   "metadata": {
    "collapsed": false
   },
   "outputs": [
    {
     "name": "stdout",
     "output_type": "stream",
     "text": [
      "The Dipole Moment induced in each Helium atom is 0.244 *10**-38 Coul-m\n"
     ]
    }
   ],
   "source": [
    "#importing modules\n",
    "import math\n",
    "from __future__ import division\n",
    "\n",
    "#Variable declaration\n",
    "k=1.000074\n",
    "E=100\n",
    "E0=8.854*10**-12\n",
    "n=0.268*10**26\n",
    "\n",
    "#Calculations\n",
    "p=(k-1)*E0*E\n",
    "P=(p/n)*10**38\n",
    "\n",
    "#Result\n",
    "print\"The Dipole Moment induced in each Helium atom is %1.3f\"%P,\"*10**-38 Coul-m\""
   ]
  },
  {
   "cell_type": "markdown",
   "metadata": {},
   "source": [
    "## Example number 2 , Page number 283"
   ]
  },
  {
   "cell_type": "code",
   "execution_count": 24,
   "metadata": {
    "collapsed": false
   },
   "outputs": [
    {
     "name": "stdout",
     "output_type": "stream",
     "text": [
      "The Electrical Susceptibility is 0.000074\n"
     ]
    }
   ],
   "source": [
    "#importing modules\n",
    "import math\n",
    "from __future__ import division\n",
    "\n",
    "#Variable declaration\n",
    "k=1.000074\n",
    "#Calculations\n",
    "X=(k-1)\n",
    "\n",
    "#Result\n",
    "print\"The Electrical Susceptibility is %0.6f\"%X\n"
   ]
  },
  {
   "cell_type": "markdown",
   "metadata": {},
   "source": [
    "## Example number 3 , Page number 283"
   ]
  },
  {
   "cell_type": "code",
   "execution_count": 15,
   "metadata": {
    "collapsed": false
   },
   "outputs": [
    {
     "name": "stdout",
     "output_type": "stream",
     "text": [
      "(a) The Value of Er is 5\n",
      "(b) The Net Dipole Moment is  0.0002 coul-m or 2*10**-4 coul-m\n"
     ]
    }
   ],
   "source": [
    "#importing modules\n",
    "import math\n",
    "from __future__ import division\n",
    "\n",
    "#Variable declaration\n",
    "E=1*10**-4\n",
    "D=5*10**-4\n",
    "V=0.5\n",
    "P=4*10**-4\n",
    "\n",
    "#Calculations\n",
    "Er=(D/E)\n",
    "NDM=P*V\n",
    "\n",
    "#Result\n",
    "print\"(a) The Value of Er is %i\"%Er\n",
    "print\"(b) The Net Dipole Moment is \",NDM,\"coul-m or 2*10**-4 coul-m\"\n"
   ]
  },
  {
   "cell_type": "markdown",
   "metadata": {},
   "source": [
    "## Example number 4 , Page number 283"
   ]
  },
  {
   "cell_type": "code",
   "execution_count": 33,
   "metadata": {
    "collapsed": false
   },
   "outputs": [
    {
     "name": "stdout",
     "output_type": "stream",
     "text": [
      "(a) The Polarization in the Dielectric is 17.71 *10**-6 coul/m**2\n",
      "(b) The Displacement Current Density is 26.56 *10**-6 coul/m**2\n",
      "(c) The Energy Density is 13.281 J/m**3\n"
     ]
    }
   ],
   "source": [
    "#importing modules\n",
    "import math\n",
    "from __future__ import division\n",
    "\n",
    "#Variable declaration\n",
    "k=3\n",
    "E0=8.854*10**-12\n",
    "E=10**6\n",
    "\n",
    "#Calculations\n",
    "P=(E0*(k-1)*E)*10**6\n",
    "D=(E0*k*E)*10**6\n",
    "Ed=0.5*E0*k*(E**2)\n",
    "\n",
    "#Result\n",
    "print\"(a) The Polarization in the Dielectric is %2.2f\"%P,\"*10**-6 coul/m**2\"\n",
    "print\"(b) The Displacement Current Density is %2.2f\"%D,\"*10**-6 coul/m**2\"\n",
    "print\"(c) The Energy Density is\",Ed,\"J/m**3\"\n"
   ]
  }
 ],
 "metadata": {
  "kernelspec": {
   "display_name": "Python 2",
   "language": "python",
   "name": "python2"
  },
  "language_info": {
   "codemirror_mode": {
    "name": "ipython",
    "version": 2
   },
   "file_extension": ".py",
   "mimetype": "text/x-python",
   "name": "python",
   "nbconvert_exporter": "python",
   "pygments_lexer": "ipython2",
   "version": "2.7.11"
  }
 },
 "nbformat": 4,
 "nbformat_minor": 0
}
