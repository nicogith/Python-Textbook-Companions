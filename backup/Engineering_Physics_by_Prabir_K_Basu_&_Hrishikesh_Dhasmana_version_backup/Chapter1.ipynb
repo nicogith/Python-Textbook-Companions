{
 "cells": [
  {
   "cell_type": "markdown",
   "metadata": {},
   "source": [
    "#  Chapter 1 : Interference"
   ]
  },
  {
   "cell_type": "markdown",
   "metadata": {},
   "source": [
    "## Example number 1 , Page number 241"
   ]
  },
  {
   "cell_type": "code",
   "execution_count": 1,
   "metadata": {
    "collapsed": false
   },
   "outputs": [
    {
     "name": "stdout",
     "output_type": "stream",
     "text": [
      "The Fringe width in Youngs Double Slit Experiment is Beta= 0.5890 *10**-3 m\n"
     ]
    }
   ],
   "source": [
    "#importing modules\n",
    "import math\n",
    "from __future__ import division\n",
    "\n",
    "#Variable declaration\n",
    "D=0.5         #Distance from Screen\n",
    "d=0.5        #Distance between parallel slits\n",
    "lambdaa=5890  #Wavelength\n",
    "\n",
    "#Calculations\n",
    "Beta=(D*lambdaa)/(d)/10**4\n",
    "\n",
    "#Result\n",
    "print\"The Fringe width in Youngs Double Slit Experiment is Beta= %1.4f\" %Beta,\"*10**-3 m\"\n",
    "\n"
   ]
  },
  {
   "cell_type": "markdown",
   "metadata": {},
   "source": [
    "## Example number 2 , Page number 241"
   ]
  },
  {
   "cell_type": "code",
   "execution_count": 2,
   "metadata": {
    "collapsed": false
   },
   "outputs": [
    {
     "name": "stdout",
     "output_type": "stream",
     "text": [
      "The Double slit separation 2d= 5.1 mu m\n"
     ]
    }
   ],
   "source": [
    "#importing modules\n",
    "import math\n",
    "from __future__ import division\n",
    "\n",
    "#Variable declaration\n",
    "D=2             #Distance from screen\n",
    "lambdaa=5100    #Wavelength\n",
    "Beta=0.02       #Fringe Width\n",
    "x=10            #No. of fringes\n",
    "\n",
    "\n",
    "#Calculations\n",
    "d=(x*D*lambdaa)/Beta/10**6\n",
    "\n",
    "#Result\n",
    "print\"The Double slit separation 2d=\",d,\"mu m\""
   ]
  },
  {
   "cell_type": "markdown",
   "metadata": {},
   "source": [
    "## Example number 3 , Page number 241"
   ]
  },
  {
   "cell_type": "code",
   "execution_count": 3,
   "metadata": {
    "collapsed": false
   },
   "outputs": [
    {
     "name": "stdout",
     "output_type": "stream",
     "text": [
      "The Wavelength lamda=0.5890 *10**-6 m\n"
     ]
    }
   ],
   "source": [
    "#importing modules\n",
    "import math\n",
    "from __future__ import division\n",
    "\n",
    "#Variable declaration\n",
    "D=1                     #Distance from screen\n",
    "Beta=0.31*10**-3        #Fringe Width\n",
    "d=1.9*10**-3            #Slit separation\n",
    "\n",
    "\n",
    "#Calculations\n",
    "lambdaa=(Beta*d*10**6)/D\n",
    "\n",
    "#Result\n",
    "print\"The Wavelength lamda=%0.4f\"%lambdaa,\"*10**-6 m\""
   ]
  },
  {
   "cell_type": "markdown",
   "metadata": {},
   "source": [
    "## Example number 4 , Page number 242"
   ]
  },
  {
   "cell_type": "code",
   "execution_count": 4,
   "metadata": {
    "collapsed": false
   },
   "outputs": [
    {
     "name": "stdout",
     "output_type": "stream",
     "text": [
      "The position of the 10th fringe is 1.178 *10**-4 m\n"
     ]
    }
   ],
   "source": [
    "#importing modules\n",
    "import math\n",
    "from __future__ import division\n",
    "\n",
    "#Variable declaration\n",
    "D=0.04                     #Distance from screen\n",
    "Lambdaa=5890*10**-10        #Wavelength\n",
    "d=2*10**-3                 #Slit separation\n",
    "n=10                       #No. of fringes\n",
    "\n",
    "\n",
    "#Calculations\n",
    "x10=(n*D*lambdaa*10**-2)/d\n",
    "\n",
    "#Result\n",
    "print\"The position of the 10th fringe is\",x10,\"*10**-4 m\""
   ]
  },
  {
   "cell_type": "markdown",
   "metadata": {},
   "source": [
    "## Example number 5 , Page number 242"
   ]
  },
  {
   "cell_type": "code",
   "execution_count": 5,
   "metadata": {
    "collapsed": false
   },
   "outputs": [
    {
     "name": "stdout",
     "output_type": "stream",
     "text": [
      "The position of the 10th fringe is 5 *10**-4 m\n"
     ]
    }
   ],
   "source": [
    "#importing modules\n",
    "import math\n",
    "from __future__ import division\n",
    "\n",
    "#Variable declaration\n",
    "D=0.8                       #Distance from screen\n",
    "Lambdaa=5890*10**-10        #Wavelength\n",
    "Beta=9.424*10**-4           #Fringe Width\n",
    "\n",
    "\n",
    "#Calculations\n",
    "d=(D*lambdaa*10**-2)/Beta\n",
    "\n",
    "#Result\n",
    "print\"The position of the 10th fringe is %i\"%d,\"*10**-4 m\""
   ]
  },
  {
   "cell_type": "markdown",
   "metadata": {},
   "source": [
    "## Example number 6 , Page number 242"
   ]
  },
  {
   "cell_type": "code",
   "execution_count": 6,
   "metadata": {
    "collapsed": false
   },
   "outputs": [
    {
     "name": "stdout",
     "output_type": "stream",
     "text": [
      "The Fringe width observed at a distance of 1m from BP is 37.2 *10**-5 m\n"
     ]
    }
   ],
   "source": [
    "#importing modules\n",
    "import math\n",
    "from __future__ import division\n",
    "\n",
    "#Variable declaration\n",
    "D=1.1                       #Distance from screen\n",
    "Lambdaa=5900*10**-10        #Wavelength\n",
    "d=0.00174                   #Fringe separation\n",
    "\n",
    "\n",
    "#Calculations\n",
    "Beta=(D*lambdaa*10**-1)/d\n",
    "\n",
    "#Result\n",
    "print\"The Fringe width observed at a distance of 1m from BP is %1.1f\"%Beta,\"*10**-5 m\""
   ]
  },
  {
   "cell_type": "markdown",
   "metadata": {},
   "source": [
    "## Example number 7 , Page number 243"
   ]
  },
  {
   "cell_type": "code",
   "execution_count": 7,
   "metadata": {
    "collapsed": false
   },
   "outputs": [
    {
     "name": "stdout",
     "output_type": "stream",
     "text": [
      "The Angle of prism at the vertex is is 177 deg 17.8 min\n"
     ]
    }
   ],
   "source": [
    "#importing modules\n",
    "import math\n",
    "from __future__ import division\n",
    "\n",
    "#Variable declaration\n",
    "D=2                     #Distance from screen\n",
    "Lambdaa=5890*10**-10    #Wavelength\n",
    "mu=1.5                  #refractive index of glass\n",
    "a=0.25                  #distance from slit\n",
    "Beta=0.2*10**-3         #Fringe width\n",
    "\n",
    "\n",
    "#Calculations\n",
    "alpha=(D*lambdaa*180*10**-6)/(2*a*(mu-1)*Beta*3.14)\n",
    "A=(180-2*(round(alpha,2)))\n",
    "\n",
    "#Result\n",
    "print\"The Angle of prism at the vertex is is %i\"%A,\"deg 17.8 min\""
   ]
  },
  {
   "cell_type": "markdown",
   "metadata": {},
   "source": [
    "## Example number 8 , Page number 243"
   ]
  },
  {
   "cell_type": "code",
   "execution_count": 8,
   "metadata": {
    "collapsed": false
   },
   "outputs": [
    {
     "name": "stdout",
     "output_type": "stream",
     "text": [
      "The Wavelength is 5872.5 Angstrom\n"
     ]
    }
   ],
   "source": [
    "#importing modules\n",
    "import math\n",
    "from __future__ import division\n",
    "\n",
    "#Variable declaration\n",
    "D=1                        #Distance from screen\n",
    "mu=1.5                     #refractive index of glass\n",
    "a=0.5                      #distance from slit\n",
    "Beta=0.0135*10**-2         #Fringe width\n",
    "alpha=0.0087               #angleof prism\n",
    "\n",
    "\n",
    "#Calculations\n",
    "lambdaa=(Beta*2*a*(mu-1)*alpha*10**10)/D\n",
    "\n",
    "#Result\n",
    "print\"The Wavelength is\",lambdaa,\"Angstrom\""
   ]
  },
  {
   "cell_type": "markdown",
   "metadata": {},
   "source": [
    "## Example number 9 , Page number 244"
   ]
  },
  {
   "cell_type": "code",
   "execution_count": 9,
   "metadata": {
    "collapsed": false
   },
   "outputs": [
    {
     "name": "stdout",
     "output_type": "stream",
     "text": [
      "The fringe width would become  0.116 mm\n"
     ]
    }
   ],
   "source": [
    "#importing modules\n",
    "import math\n",
    "from __future__ import division\n",
    "\n",
    "#Variable declaration\n",
    "d=0.75                   #slit separation\n",
    "Beta=0.087*10**-3        #Fringe width\n",
    "\n",
    "\n",
    "#Calculations\n",
    "Beta2=Beta*10**3/d\n",
    "\n",
    "#Result\n",
    "print\"The fringe width would become \",Beta2,\"mm\""
   ]
  },
  {
   "cell_type": "markdown",
   "metadata": {},
   "source": [
    "## Example number 10 , Page number 245"
   ]
  },
  {
   "cell_type": "code",
   "execution_count": 10,
   "metadata": {
    "collapsed": false
   },
   "outputs": [
    {
     "name": "stdout",
     "output_type": "stream",
     "text": [
      "The wavelength is 5875 Angstrom\n"
     ]
    }
   ],
   "source": [
    "#importing modules\n",
    "import math\n",
    "from __future__ import division\n",
    "\n",
    "#Variable declaration\n",
    "d=7.5*10**-4                   #slit separation\n",
    "Beta=0.094*10**-2              #Fringe width\n",
    "D=1.2                          #Distance from Screen\n",
    "\n",
    "\n",
    "#Calculations\n",
    "lambdaa=(Beta*d*10**10)/D\n",
    "\n",
    "#Result\n",
    "print\"The wavelength is %i\"%lambdaa,\"Angstrom\""
   ]
  },
  {
   "cell_type": "markdown",
   "metadata": {},
   "source": [
    "## Example number 11 , Page number 245"
   ]
  },
  {
   "cell_type": "code",
   "execution_count": 11,
   "metadata": {
    "collapsed": false
   },
   "outputs": [
    {
     "name": "stdout",
     "output_type": "stream",
     "text": [
      "The Fringe width is 1.625 *10**-4 m\n"
     ]
    }
   ],
   "source": [
    "#importing modules\n",
    "import math\n",
    "from __future__ import division\n",
    "\n",
    "#Variable declaration\n",
    "d=3.6125*10**-3                #slit separation\n",
    "D=1                            #Distance from Screen\n",
    "lambdaa=5870*10**-10           #Wavelength\n",
    "\n",
    "\n",
    "#Calculations\n",
    "Beta=(D*lambdaa*10**4)/d\n",
    "\n",
    "#Result\n",
    "print\"The Fringe width is\",round(Beta,3),\"*10**-4 m\""
   ]
  },
  {
   "cell_type": "markdown",
   "metadata": {},
   "source": [
    "## Example number 12 , Page number 246"
   ]
  },
  {
   "cell_type": "code",
   "execution_count": 12,
   "metadata": {
    "collapsed": false
   },
   "outputs": [
    {
     "name": "stdout",
     "output_type": "stream",
     "text": [
      "The wavelength is 5850 *10**-10 m\n"
     ]
    }
   ],
   "source": [
    "#importing modules\n",
    "import math\n",
    "from __future__ import division\n",
    "\n",
    "#Variable declaration\n",
    "d=0.3*10**-2                #slit separation\n",
    "D=1                            #Distance from Screen\n",
    "Beta=0.0195*10**-2           #Wavelength\n",
    "\n",
    "\n",
    "#Calculations\n",
    "lambdaa=(Beta*d*10**10)/D\n",
    "\n",
    "#Result\n",
    "print\"The wavelength is %i\"%lambdaa,\"*10**-10 m\""
   ]
  },
  {
   "cell_type": "markdown",
   "metadata": {},
   "source": [
    "## Example number 13 , Page number 246"
   ]
  },
  {
   "cell_type": "code",
   "execution_count": 13,
   "metadata": {
    "collapsed": false
   },
   "outputs": [
    {
     "name": "stdout",
     "output_type": "stream",
     "text": [
      "The number of fringes would be 67\n"
     ]
    }
   ],
   "source": [
    "#importing modules\n",
    "import math\n",
    "from __future__ import division\n",
    "\n",
    "#Variable declaration\n",
    "n1=62                   #fringes\n",
    "lambdaa1=5893*10**-10   #Wavelength 1\n",
    "lambdaa2=5461*10**-10   #Wavelength 2\n",
    "\n",
    "\n",
    "#Calculations\n",
    "n2=(n1*lambdaa1)/lambdaa2\n",
    "\n",
    "#Result\n",
    "print\"The number of fringes would be %i\"%round(n2)"
   ]
  },
  {
   "cell_type": "markdown",
   "metadata": {},
   "source": [
    "## Example number 14 , Page number 247"
   ]
  },
  {
   "cell_type": "code",
   "execution_count": 14,
   "metadata": {
    "collapsed": false
   },
   "outputs": [
    {
     "name": "stdout",
     "output_type": "stream",
     "text": [
      "The refractive index is  1.52\n"
     ]
    }
   ],
   "source": [
    "#importing modules\n",
    "import math\n",
    "from __future__ import division\n",
    "\n",
    "#Variable declaration\n",
    "lambdaa=5.46*10**-7   #Wavelength\n",
    "t=6.3*10**-6          #thickness\n",
    "\n",
    "#Calculations\n",
    "mu=((6*lambdaa)/t)+1\n",
    "\n",
    "#Result\n",
    "print\"The refractive index is \",mu"
   ]
  },
  {
   "cell_type": "markdown",
   "metadata": {},
   "source": [
    "## Example number 15 , Page number 247"
   ]
  },
  {
   "cell_type": "code",
   "execution_count": 15,
   "metadata": {
    "collapsed": false
   },
   "outputs": [
    {
     "name": "stdout",
     "output_type": "stream",
     "text": [
      "The refractive index is  6.71 mu m\n"
     ]
    }
   ],
   "source": [
    "#importing modules\n",
    "import math\n",
    "from __future__ import division\n",
    "\n",
    "#Variable declaration\n",
    "s=2.143*10**-3\n",
    "mu=1.542  #refractive index\n",
    "lambdaa=5893*10**-10 #Wavelength\n",
    "Beta=0.347*10**-3\n",
    "\n",
    "#Calculations\n",
    "t=(s*lambdaa*10**6)/(Beta*(mu-1))\n",
    "\n",
    "#Result\n",
    "print\"The refractive index is \",round(t,2),\"mu m\""
   ]
  },
  {
   "cell_type": "markdown",
   "metadata": {},
   "source": [
    "## Example number 16 , Page number 248"
   ]
  },
  {
   "cell_type": "code",
   "execution_count": 16,
   "metadata": {
    "collapsed": false
   },
   "outputs": [
    {
     "name": "stdout",
     "output_type": "stream",
     "text": [
      "The number of dark bands seen betwween 4000 A and 5000A  is 12\n"
     ]
    }
   ],
   "source": [
    "#importing modules\n",
    "import math\n",
    "from __future__ import division\n",
    "\n",
    "#Variable declaration\n",
    "mu=1.4                #Refractive index\n",
    "cosr=0.8631\n",
    "t=0.01*10**-3         #thickness\n",
    "lambda1=4000*10**-10  #Wavelength 1\n",
    "lambda2=5000*10**-10  #Wavelength 2\n",
    "\n",
    "\n",
    "#Calculations\n",
    "n1=(2*mu*t*cosr)/lambda1\n",
    "n2=(2*mu*t*cosr)/lambda2\n",
    "deln=round(n1)-round(n2)\n",
    "\n",
    "#Result\n",
    "print\"The number of dark bands seen betwween 4000 A and 5000A  is %i\"%deln"
   ]
  },
  {
   "cell_type": "markdown",
   "metadata": {},
   "source": [
    "## Example number 17 , Page number 249"
   ]
  },
  {
   "cell_type": "code",
   "execution_count": 17,
   "metadata": {
    "collapsed": false
   },
   "outputs": [
    {
     "name": "stdout",
     "output_type": "stream",
     "text": [
      "The Thickness is  0.0017  cm\n"
     ]
    }
   ],
   "source": [
    "#importing modules\n",
    "import math\n",
    "from __future__ import division\n",
    "\n",
    "#Variable declaration\n",
    "mu=1.33                #Refractive index\n",
    "cosr=0.7989\n",
    "lambda1=6.1*10**-5     #Wavelength 1\n",
    "lambda2=6*10**-5       #Wavelength 2\n",
    "\n",
    "\n",
    "#Calculations\n",
    "t=(lambda1*lambda2*10**-5)/(2*mu*cosr*(lambda1-lambda2)*10**-5)\n",
    "\n",
    "#Result\n",
    "print\"The Thickness is \",round(t,4),\" cm\""
   ]
  },
  {
   "cell_type": "markdown",
   "metadata": {},
   "source": [
    "## Example number 18 , Page number 249"
   ]
  },
  {
   "cell_type": "code",
   "execution_count": 18,
   "metadata": {
    "collapsed": false
   },
   "outputs": [
    {
     "name": "stdout",
     "output_type": "stream",
     "text": [
      "The Thickness is  1.667  mu m\n"
     ]
    }
   ],
   "source": [
    "#importing modules\n",
    "import math\n",
    "from __future__ import division\n",
    "\n",
    "#Variable declaration\n",
    "n=8                   #number of fringes\n",
    "lambdaa=5893*10**-10   #Wavelength\n",
    "mu=1.5                #Refractive index\n",
    "cosr=(2*math.sqrt(2))/3\n",
    "#Calculations\n",
    "t=(n*lambdaa*10**6)/(2*mu*cosr)\n",
    "\n",
    "#Result\n",
    "print\"The Thickness is \",round(t,3),\" mu m\""
   ]
  },
  {
   "cell_type": "markdown",
   "metadata": {},
   "source": [
    "## Example number 19 , Page number 250"
   ]
  },
  {
   "cell_type": "code",
   "execution_count": 19,
   "metadata": {
    "collapsed": false
   },
   "outputs": [
    {
     "name": "stdout",
     "output_type": "stream",
     "text": [
      "The order of interference of dark band is 6 \n"
     ]
    }
   ],
   "source": [
    "#importing modules\n",
    "import math\n",
    "from __future__ import division\n",
    "\n",
    "#Variable declaration\n",
    "mu=4/3            #refractive index\n",
    "t=1.5             #thickness\n",
    "cosr=0.7603\n",
    "lambdaa=5*10**-7  #Wavelength\n",
    "\n",
    "\n",
    "#Calculations\n",
    "n=(2*mu*t*cosr*10**-6)/lambdaa\n",
    "\n",
    "#Result\n",
    "print\"The order of interference of dark band is %i \"%n"
   ]
  },
  {
   "cell_type": "markdown",
   "metadata": {},
   "source": [
    "## Example number 20 , Page number 250"
   ]
  },
  {
   "cell_type": "code",
   "execution_count": 20,
   "metadata": {
    "collapsed": false
   },
   "outputs": [
    {
     "name": "stdout",
     "output_type": "stream",
     "text": [
      "For n=0 Lambda is 26600.0\n",
      "For n=1 Lambda is 8866\n",
      "For n=2 Lambda is 5320.0\n",
      "Out of these only 5320.0 lies in the visible range for n=2\n"
     ]
    }
   ],
   "source": [
    "#importing modules\n",
    "import math\n",
    "from __future__ import division\n",
    "\n",
    "#Variable declaration\n",
    "mu=1.33    #refractive index\n",
    "n1=0\n",
    "n2=1\n",
    "n3=2\n",
    "t=5*10**-7 #thickness\n",
    "\n",
    "\n",
    "#Calculations\n",
    "lambda1=(4*mu*t*10**10)/(2*n1+1)\n",
    "lambda2=(4*mu*t*10**10)/(2*n2+1)\n",
    "lambda3=(4*mu*t*10**10)/(2*n3+1)\n",
    "\n",
    "#Result\n",
    "print\"For n=0 Lambda is\",lambda1  #The answer given in the book is 26000 however it is mathematically incorrect\n",
    "print\"For n=1 Lambda is %i\"%lambda2    #The answer given in the book is 8666 however it is mathematically incorrect\n",
    "print\"For n=2 Lambda is\",lambda3       # The answer given in the book is 5200 however it is mathematically incorrect\n",
    "print\"Out of these only\",lambda3,\"lies in the visible range for n=2\"  "
   ]
  },
  {
   "cell_type": "markdown",
   "metadata": {},
   "source": [
    "## Example number 21 , Page number 251"
   ]
  },
  {
   "cell_type": "code",
   "execution_count": 21,
   "metadata": {
    "collapsed": false
   },
   "outputs": [
    {
     "name": "stdout",
     "output_type": "stream",
     "text": [
      "The Wavelength is 6875 Angstrom\n"
     ]
    }
   ],
   "source": [
    "#importing modules\n",
    "import math\n",
    "from __future__ import division\n",
    "\n",
    "#Variable declaration\n",
    "R=100   #radius\n",
    "D25=0.8 #Diameter of the 25th ring\n",
    "D5=0.3  #Diameter of the 5th ring\n",
    "p=20    \n",
    "\n",
    "\n",
    "#Calculations\n",
    "lambdaa=((D25**2)-(D5**2))*10**8/(4*20*100)\n",
    "\n",
    "#Result\n",
    "print\"The Wavelength is %i\"%lambdaa,\"Angstrom\""
   ]
  },
  {
   "cell_type": "markdown",
   "metadata": {},
   "source": [
    "## Example number 22 , Page number 251"
   ]
  },
  {
   "cell_type": "code",
   "execution_count": 22,
   "metadata": {
    "collapsed": false
   },
   "outputs": [
    {
     "name": "stdout",
     "output_type": "stream",
     "text": [
      "The Thickness is 2.946 cm\n",
      "The Radius is 106.1 cm\n"
     ]
    }
   ],
   "source": [
    "#importing modules\n",
    "import math\n",
    "from __future__ import division\n",
    "\n",
    "#Variable declaration\n",
    "n=10                 #no. of ring\n",
    "D10=0.5              #Diameter of the 10th ring\n",
    "lambdaa=5893*10**-8  #Wavelength\n",
    "    \n",
    "#Calculations\n",
    "R=(D10**2)/(4*10*5893*10**-8)\n",
    "t=(D10**2)*10**4/(8*R)\n",
    "\n",
    "#Result\n",
    "print\"The Thickness is\",round(t,3),\"cm\"\n",
    "print\"The Radius is\",round(R,1),\"cm\""
   ]
  },
  {
   "cell_type": "markdown",
   "metadata": {},
   "source": [
    "## Example number 23 , Page number 252"
   ]
  },
  {
   "cell_type": "code",
   "execution_count": 23,
   "metadata": {
    "collapsed": false
   },
   "outputs": [
    {
     "name": "stdout",
     "output_type": "stream",
     "text": [
      "The Diameter of the nth dark ring is 1.129 cm\n"
     ]
    }
   ],
   "source": [
    "#importing modules\n",
    "import math\n",
    "from __future__ import division\n",
    "\n",
    "#Variable declaration\n",
    "n=59                 #no. of ring\n",
    "lambdaa=6*10**-7     #Wavelength\n",
    "R=0.9                #Radius\n",
    "    \n",
    "#Calculations\n",
    "D59=math.sqrt(4*R*n*lambdaa)*10**2\n",
    "\n",
    "#Result\n",
    "print\"The Diameter of the nth dark ring is\",round(D59,3),\"cm\""
   ]
  },
  {
   "cell_type": "markdown",
   "metadata": {},
   "source": [
    "## Example number 24 , Page number 252"
   ]
  },
  {
   "cell_type": "code",
   "execution_count": 24,
   "metadata": {
    "collapsed": false
   },
   "outputs": [
    {
     "name": "stdout",
     "output_type": "stream",
     "text": [
      "The Diameter of the 20th dark ring is 0.908 cm\n"
     ]
    }
   ],
   "source": [
    "#importing modules\n",
    "import math\n",
    "from __future__ import division\n",
    "\n",
    "#Variable declaration\n",
    "n=20                 #no. of ring\n",
    "lambdaaR=0.0103      #Wavelength*R\n",
    "    \n",
    "#Calculations\n",
    "D20=math.sqrt(4*n*lambdaaR)\n",
    "\n",
    "#Result\n",
    "print\"The Diameter of the 20th dark ring is\",round(D20,3),\"cm\""
   ]
  },
  {
   "cell_type": "markdown",
   "metadata": {},
   "source": [
    "## Example number 25 , Page number 253"
   ]
  },
  {
   "cell_type": "code",
   "execution_count": 25,
   "metadata": {
    "collapsed": false
   },
   "outputs": [
    {
     "name": "stdout",
     "output_type": "stream",
     "text": [
      "The Radius is 12.25 m\n"
     ]
    }
   ],
   "source": [
    "#importing modules\n",
    "import math\n",
    "from __future__ import division\n",
    "\n",
    "#Variable declaration\n",
    "D3=10**-2\n",
    "lambdaa=5890*10**-10\n",
    "\n",
    "    \n",
    "#Calculations\n",
    "R=(D3*math.sqrt(3))*10**-2/(24*lambdaa)\n",
    "\n",
    "#Result\n",
    "print\"The Radius is\",round(R,2),\"m\""
   ]
  },
  {
   "cell_type": "markdown",
   "metadata": {},
   "source": [
    "## Example number 26 , Page number 253"
   ]
  },
  {
   "cell_type": "code",
   "execution_count": 26,
   "metadata": {
    "collapsed": false
   },
   "outputs": [
    {
     "name": "stdout",
     "output_type": "stream",
     "text": [
      "The Wavelength is 5760 Angstrom\n"
     ]
    }
   ],
   "source": [
    "#importing modules\n",
    "import math\n",
    "from __future__ import division\n",
    "\n",
    "#Variable declaration\n",
    "n=8            #no. of ring\n",
    "D8=0.72*10**-2 #Diameter of the 8th ring\n",
    "R=3            #Radius\n",
    "\n",
    "    \n",
    "#Calculations\n",
    "lambdaa=(D8**2)*10**10/((2*(2*n-1))*R)\n",
    "\n",
    "#Result\n",
    "print\"The Wavelength is %i\"%lambdaa,\"Angstrom\""
   ]
  },
  {
   "cell_type": "markdown",
   "metadata": {},
   "source": [
    "## Example number 27 , Page number 253"
   ]
  },
  {
   "cell_type": "code",
   "execution_count": 27,
   "metadata": {
    "collapsed": false
   },
   "outputs": [
    {
     "name": "stdout",
     "output_type": "stream",
     "text": [
      "The Velocity in the liquid is 2.08 *10**10   m/s\n"
     ]
    }
   ],
   "source": [
    "#importing modules\n",
    "import math\n",
    "from __future__ import division\n",
    "\n",
    "#Variable declaration\n",
    "c=3*10**10  #Speed of Light in Vacuum\n",
    "mu=1.44     #Refractive Index\n",
    "\n",
    "#Calculations\n",
    "u=c*10**-10/mu\n",
    "\n",
    "#Result\n",
    "print\"The Velocity in the liquid is\",round(u,2),\"*10**10   m/s\""
   ]
  },
  {
   "cell_type": "markdown",
   "metadata": {},
   "source": [
    "## Example number 27 , Page number 254"
   ]
  },
  {
   "cell_type": "code",
   "execution_count": 28,
   "metadata": {
    "collapsed": false
   },
   "outputs": [
    {
     "name": "stdout",
     "output_type": "stream",
     "text": [
      "The Distance between 5th and 15th Dark ring is 0.0085 m\n"
     ]
    }
   ],
   "source": [
    "#importing modules\n",
    "import math\n",
    "from __future__ import division\n",
    "\n",
    "#Variable declaration\n",
    "lambdaa=5400*10**-10  #Wavelength\n",
    "n1=5\n",
    "n2=15\n",
    "R=100       #Radius of both rings\n",
    "\n",
    "#Calculations\n",
    "r5=math.sqrt((R*n1*lambdaa)/2)\n",
    "r15=math.sqrt((R*n2*lambdaa)/2)\n",
    "d=round(r15,4)-round(r5,4)\n",
    "\n",
    "#Result\n",
    "print\"The Distance between 5th and 15th Dark ring is\",d,\"m\""
   ]
  },
  {
   "cell_type": "markdown",
   "metadata": {},
   "source": [
    "## Example number 29 , Page number 255"
   ]
  },
  {
   "cell_type": "code",
   "execution_count": 29,
   "metadata": {
    "collapsed": false
   },
   "outputs": [
    {
     "name": "stdout",
     "output_type": "stream",
     "text": [
      "The Refractive Index is 1.5\n"
     ]
    }
   ],
   "source": [
    "#importing modules\n",
    "import math\n",
    "from __future__ import division\n",
    "\n",
    "#Variable declaration\n",
    "l=0.0025 #Distance moved\n",
    "t=0.005  #thickness of mica sheet\n",
    "\n",
    "#Calculations\n",
    "mu=((l/t)+1)\n",
    "\n",
    "#Result\n",
    "print\"The Refractive Index is\",mu"
   ]
  },
  {
   "cell_type": "markdown",
   "metadata": {},
   "source": [
    "## Example number 30 , Page number 255"
   ]
  },
  {
   "cell_type": "code",
   "execution_count": 30,
   "metadata": {
    "collapsed": false
   },
   "outputs": [
    {
     "name": "stdout",
     "output_type": "stream",
     "text": [
      "The Wavelength is 5896 Angstrom\n"
     ]
    }
   ],
   "source": [
    "#importing modules\n",
    "import math\n",
    "from __future__ import division\n",
    "\n",
    "#Variable declaration\n",
    "l=0.02948*10**-3 #Distance moved\n",
    "n=100            #number of fringes\n",
    "\n",
    "#Calculations\n",
    "lambdaa=(2*l)*10**10/n\n",
    "\n",
    "#Result\n",
    "print\"The Wavelength is %i\"%lambdaa,\"Angstrom\""
   ]
  },
  {
   "cell_type": "markdown",
   "metadata": {},
   "source": [
    "## Example number 31 , Page number 255"
   ]
  },
  {
   "cell_type": "code",
   "execution_count": 31,
   "metadata": {
    "collapsed": false
   },
   "outputs": [
    {
     "name": "stdout",
     "output_type": "stream",
     "text": [
      "The Distance by which the mirror moved is 2893953 *10**-10 m\n"
     ]
    }
   ],
   "source": [
    "#importing modules\n",
    "import math\n",
    "from __future__ import division\n",
    "\n",
    "#Variable declaration\n",
    "lambdaa1=5896  #Wavelength1\n",
    "lambdaa2=5890  #Wavelength2\n",
    "\n",
    "\n",
    "#Calculations\n",
    "l=(lambdaa1*lambdaa2)/(2*(lambdaa1-lambdaa2))\n",
    "\n",
    "#Result\n",
    "print\"The Distance by which the mirror moved is %i\"%l,\"*10**-10 m\""
   ]
  },
  {
   "cell_type": "markdown",
   "metadata": {},
   "source": [
    "## Example number 32 , Page number 256"
   ]
  },
  {
   "cell_type": "code",
   "execution_count": 32,
   "metadata": {
    "collapsed": false
   },
   "outputs": [
    {
     "name": "stdout",
     "output_type": "stream",
     "text": [
      "The Difference between two wavelengths is  5.9 Angstrom\n"
     ]
    }
   ],
   "source": [
    "#importing modules\n",
    "import math\n",
    "from __future__ import division\n",
    "\n",
    "#Variable declaration\n",
    "lambdaa=5893*10**-10  #Wavelength\n",
    "l=0.2945*10**-3       #Distance by which mirror is displaced\n",
    "\n",
    "\n",
    "#Calculations\n",
    "dellambdaa=(lambdaa**2)*10**10/(2*l)\n",
    "\n",
    "#Result\n",
    "print\"The Difference between two wavelengths is \",round(dellambdaa,1),\"Angstrom\""
   ]
  }
 ],
 "metadata": {
  "kernelspec": {
   "display_name": "Python 2",
   "language": "python",
   "name": "python2"
  },
  "language_info": {
   "codemirror_mode": {
    "name": "ipython",
    "version": 2
   },
   "file_extension": ".py",
   "mimetype": "text/x-python",
   "name": "python",
   "nbconvert_exporter": "python",
   "pygments_lexer": "ipython2",
   "version": "2.7.11"
  }
 },
 "nbformat": 4,
 "nbformat_minor": 0
}
