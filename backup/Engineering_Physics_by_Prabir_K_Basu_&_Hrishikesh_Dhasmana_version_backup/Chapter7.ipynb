{
 "cells": [
  {
   "cell_type": "markdown",
   "metadata": {},
   "source": [
    "#  Chapter 7 : Dielectric "
   ]
  },
  {
   "cell_type": "markdown",
   "metadata": {},
   "source": [
    "## Example number 1 , Page number 278"
   ]
  },
  {
   "cell_type": "code",
   "execution_count": 2,
   "metadata": {
    "collapsed": false
   },
   "outputs": [
    {
     "name": "stdout",
     "output_type": "stream",
     "text": [
      "The Magnitude of E for a plane wave in free space is 376.5\n"
     ]
    }
   ],
   "source": [
    "#importing modules\n",
    "import math\n",
    "from __future__ import division\n",
    "\n",
    "#Variable declaration\n",
    "E0=8.86*10**-12\n",
    "mu0=4*3.14*10**-7\n",
    "H=1\n",
    "\n",
    "#Calculations\n",
    "E=H*(math.sqrt(mu0/E0))\n",
    "\n",
    "#Result\n",
    "print\"The Magnitude of E for a plane wave in free space is %3.1f\"%E"
   ]
  },
  {
   "cell_type": "markdown",
   "metadata": {},
   "source": [
    "## Example number 2 , Page number 279"
   ]
  },
  {
   "cell_type": "code",
   "execution_count": 15,
   "metadata": {
    "collapsed": false
   },
   "outputs": [
    {
     "name": "stdout",
     "output_type": "stream",
     "text": [
      "The Impedence of the Medium is 266.2\n",
      "The Peak Magnetic Field Intensity is 0.188 A/m\n",
      "The Velocity of the wave is 2.12 *10**8 m/s\n"
     ]
    }
   ],
   "source": [
    "#importing modules\n",
    "import math\n",
    "from __future__ import division\n",
    "\n",
    "#Variable declaration\n",
    "mu0=4*3.14*10**-7\n",
    "mur=1\n",
    "Er=2\n",
    "E0=8.86*10**-12\n",
    "E01=5\n",
    "c=3*10**8\n",
    "\n",
    "#Calculations\n",
    "Z=math.sqrt((mu0*mur)/(E0*Er))\n",
    "H0=(E01/Z)*10\n",
    "v=((c)/math.sqrt(mur*Er))*10**-8\n",
    "\n",
    "#Result\n",
    "print\"The Impedence of the Medium is %3.1f\"%Z\n",
    "print\"The Peak Magnetic Field Intensity is %1.3f\"%H0,\"A/m\"\n",
    "print\"The Velocity of the wave is %1.2f\"%v,\"*10**8 m/s\""
   ]
  },
  {
   "cell_type": "markdown",
   "metadata": {},
   "source": [
    "## Example number 3 , Page number 279"
   ]
  },
  {
   "cell_type": "code",
   "execution_count": 20,
   "metadata": {
    "collapsed": false
   },
   "outputs": [
    {
     "name": "stdout",
     "output_type": "stream",
     "text": [
      "The Wavelength is 0.001 m or 10**-3 m\n",
      "The Amplitude of the oscillating magnetic field is 1.67 *10**-7 T\n"
     ]
    }
   ],
   "source": [
    "#importing modules\n",
    "import math\n",
    "from __future__ import division\n",
    "\n",
    "#Variable declaration\n",
    "c=3*10**8\n",
    "f=3*10**11\n",
    "E0=50\n",
    "\n",
    "#Calculations\n",
    "lambdaa=(c/f)\n",
    "B0=(E0/c)*10**7\n",
    "\n",
    "#Result\n",
    "print\"The Wavelength is\",lambdaa,\"m or 10**-3 m\"\n",
    "print\"The Amplitude of the oscillating magnetic field is %1.2f\"%B0,\"*10**-7 T\""
   ]
  },
  {
   "cell_type": "markdown",
   "metadata": {},
   "source": [
    "## Example number 4 , Page number 280"
   ]
  },
  {
   "cell_type": "code",
   "execution_count": 25,
   "metadata": {
    "collapsed": false
   },
   "outputs": [
    {
     "name": "stdout",
     "output_type": "stream",
     "text": [
      "The Average solar energy incident on earth is 1.92 cal/cm**2/min\n"
     ]
    }
   ],
   "source": [
    "#importing modules\n",
    "import math\n",
    "from __future__ import division\n",
    "\n",
    "#Variable declaration\n",
    "R=1.5*10**11   #Average distance between sun & Earth\n",
    "P=3.8*10**26   #Power Radiated by sun\n",
    "\n",
    "\n",
    "#Calculations\n",
    "S=((P*60)/(4*3.14*(R**2)*4.2*100))*10**-2\n",
    "\n",
    "#Result\n",
    "print\"The Average solar energy incident on earth is %1.2f\"%S,\"cal/cm**2/min\""
   ]
  },
  {
   "cell_type": "markdown",
   "metadata": {},
   "source": [
    "## Example number 5 , Page number 280"
   ]
  },
  {
   "cell_type": "code",
   "execution_count": 31,
   "metadata": {
    "collapsed": false
   },
   "outputs": [
    {
     "name": "stdout",
     "output_type": "stream",
     "text": [
      "The Amplitude of Electric field is 1026 V/m\n",
      "The Amplitude of Magnetic field per turn is 2.73 A-turn/m\n"
     ]
    }
   ],
   "source": [
    "#importing modules\n",
    "import math\n",
    "from __future__ import division\n",
    "\n",
    "#Variable declaration\n",
    "S=2     #solar energy\n",
    "EH=1400\n",
    "Z=376.6\n",
    "\n",
    "#Calculations\n",
    "E=math.sqrt(EH*Z)\n",
    "H=math.sqrt(EH/Z)\n",
    "E0=E*math.sqrt(2)\n",
    "H0=H*math.sqrt(2)\n",
    "\n",
    "#Result\n",
    "print\"The Amplitude of Electric field is %i\"%E0,\"V/m\"\n",
    "print\"The Amplitude of Magnetic field per turn is %1.2f\"%H0,\"A-turn/m\""
   ]
  },
  {
   "cell_type": "markdown",
   "metadata": {},
   "source": [
    "## Example number 6 , Page number 281"
   ]
  },
  {
   "cell_type": "code",
   "execution_count": 33,
   "metadata": {
    "collapsed": false
   },
   "outputs": [
    {
     "name": "stdout",
     "output_type": "stream",
     "text": [
      "The Intensity of Electric field is 86.58 V/m\n",
      "The Intensity of Magnetic Field is 0.230 A-turn/m\n"
     ]
    }
   ],
   "source": [
    "#importing modules\n",
    "import math\n",
    "from __future__ import division\n",
    "\n",
    "#Variable declaration\n",
    "EH=(1000/(16*3.14))\n",
    "Z=376.6\n",
    "\n",
    "#Calculations\n",
    "E=math.sqrt(EH*Z)\n",
    "H=math.sqrt(EH/Z)\n",
    "\n",
    "#Result\n",
    "print\"The Intensity of Electric field is %2.2f\"%E,\"V/m\"\n",
    "print\"The Intensity of Magnetic Field is %0.3f\"%H,\"A-turn/m\""
   ]
  },
  {
   "cell_type": "markdown",
   "metadata": {},
   "source": [
    "## Example number 7 , Page number 281"
   ]
  },
  {
   "cell_type": "code",
   "execution_count": 42,
   "metadata": {
    "collapsed": false
   },
   "outputs": [
    {
     "name": "stdout",
     "output_type": "stream",
     "text": [
      "The Intensity of Electric field is 75 Ohm\n"
     ]
    }
   ],
   "source": [
    "#importing modules\n",
    "import math\n",
    "from __future__ import division\n",
    "\n",
    "#Variable declaration\n",
    "Er=2.22  #Dielectric Constant\n",
    "D=3.87   #Outer Diameter\n",
    "d=0.6    #Inner Diameter\n",
    "\n",
    "from numpy.lib.scimath import logn\n",
    "from math import e\n",
    "\n",
    "#Calculations\n",
    "Z=((60/math.sqrt(Er))*logn(e,(D/d)))\n",
    "\n",
    "#Result\n",
    "print\"The Intensity of Electric field is %i\"%Z,\"Ohm\""
   ]
  },
  {
   "cell_type": "markdown",
   "metadata": {},
   "source": [
    "## Example number 8 , Page number 282"
   ]
  },
  {
   "cell_type": "code",
   "execution_count": 46,
   "metadata": {
    "collapsed": false
   },
   "outputs": [
    {
     "name": "stdout",
     "output_type": "stream",
     "text": [
      "The Characteristic Impedence is 74.64 Ohm\n"
     ]
    }
   ],
   "source": [
    "#importing modules\n",
    "import math\n",
    "from __future__ import division\n",
    "\n",
    "#Variable declaration\n",
    "C=70*10**-12     #Cable Capacitance\n",
    "L=0.39*10**-6    #Cable Inductance\n",
    "\n",
    "#Calculations\n",
    "Z0=(math.sqrt(L/C))\n",
    "\n",
    "#Result\n",
    "print\"The Characteristic Impedence is %2.2f\"%Z0,\"Ohm\""
   ]
  },
  {
   "cell_type": "markdown",
   "metadata": {},
   "source": [
    "## Example number 9 , Page number 282"
   ]
  },
  {
   "cell_type": "code",
   "execution_count": 48,
   "metadata": {
    "collapsed": false
   },
   "outputs": [
    {
     "name": "stdout",
     "output_type": "stream",
     "text": [
      "The Dielectric Constant of the insulation used is 2.6\n"
     ]
    }
   ],
   "source": [
    "#importing modules\n",
    "import math\n",
    "from __future__ import division\n",
    "\n",
    "#Variable declaration\n",
    "VF=0.62  #Velocity Factor of coaxial Cable\n",
    "\n",
    "#Calculations\n",
    "Er=(1/(VF**2))\n",
    "\n",
    "#Result\n",
    "print\"The Dielectric Constant of the insulation used is %1.1f\"%Er"
   ]
  }
 ],
 "metadata": {
  "kernelspec": {
   "display_name": "Python 2",
   "language": "python",
   "name": "python2"
  },
  "language_info": {
   "codemirror_mode": {
    "name": "ipython",
    "version": 2
   },
   "file_extension": ".py",
   "mimetype": "text/x-python",
   "name": "python",
   "nbconvert_exporter": "python",
   "pygments_lexer": "ipython2",
   "version": "2.7.11"
  }
 },
 "nbformat": 4,
 "nbformat_minor": 0
}
