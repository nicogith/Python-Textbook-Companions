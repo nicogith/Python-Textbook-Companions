{
 "cells": [
  {
   "cell_type": "markdown",
   "metadata": {},
   "source": [
    "#  Chapter 4 & 5 : Fiber Optics and Laser"
   ]
  },
  {
   "cell_type": "markdown",
   "metadata": {},
   "source": [
    "## Example number 1 , Page number 273"
   ]
  },
  {
   "cell_type": "code",
   "execution_count": 16,
   "metadata": {
    "collapsed": false
   },
   "outputs": [
    {
     "name": "stdout",
     "output_type": "stream",
     "text": [
      "(a) The critical angle is :80.63 degrees\n",
      "(b) The Fractional refractive index is :0.013\n",
      "(c) The Acceptance angle is :0.244 Radians\n",
      "(d) The Numerical Apperture is :0.242\n"
     ]
    }
   ],
   "source": [
    "#importing modules\n",
    "import math\n",
    "from __future__ import division\n",
    "\n",
    "#Variable declaration\n",
    "muclad=1.48   #Refractive index of claddings\n",
    "mucore=1.5    #Refractive index of core\n",
    "\n",
    "#Calculations\n",
    "thetac=math.degrees(math.asin(muclad/mucore))\n",
    "fri=(mucore-muclad)/mucore\n",
    "aa=(math.sqrt((mucore**2)-(muclad**2)))\n",
    "NA=math.sin(aa)\n",
    "#Result\n",
    "print\"(a) The critical angle is :%2.2f\"%thetac,\"degrees\"\n",
    "print\"(b) The Fractional refractive index is :%1.3f\"%fri\n",
    "print\"(c) The Acceptance angle is :%1.3f\"%aa,\"Radians\"\n",
    "print\"(d) The Numerical Apperture is :%1.3f\"%NA"
   ]
  },
  {
   "cell_type": "markdown",
   "metadata": {},
   "source": [
    "## Example number 2 , Page number 273"
   ]
  },
  {
   "cell_type": "code",
   "execution_count": 27,
   "metadata": {
    "collapsed": false
   },
   "outputs": [
    {
     "name": "stdout",
     "output_type": "stream",
     "text": [
      "(a) The V number is 40.64\n",
      "(b) The number of modes are 412.81\n"
     ]
    }
   ],
   "source": [
    "#importing modules\n",
    "import math\n",
    "from __future__ import division\n",
    "\n",
    "#Variable declaration\n",
    "a=25*10**-6                   #core radius\n",
    "lambdaa=0.85*10**-6    #Wavelength\n",
    "NA=0.22                #Numerical Aperture\n",
    "\n",
    "#Calculations\n",
    "V=((2*3.14*a*0.22)/lambdaa)\n",
    "N=((V**2)/4)\n",
    "\n",
    "#Result\n",
    "print\"(a) The V number is %2.2f\"%V\n",
    "print\"(b) The number of modes are %3.2f\"%N\n",
    "\n",
    "#Note: The answer in the book is wrongly stated as 40.66 and 413.31"
   ]
  },
  {
   "cell_type": "markdown",
   "metadata": {},
   "source": [
    "## Example number 3 , Page number 274"
   ]
  },
  {
   "cell_type": "code",
   "execution_count": 29,
   "metadata": {
    "collapsed": false
   },
   "outputs": [
    {
     "name": "stdout",
     "output_type": "stream",
     "text": [
      "The coherence length of the laser beam is 100000.0 m or 10**5 m\n"
     ]
    }
   ],
   "source": [
    "#importing modules\n",
    "import math\n",
    "from __future__ import division\n",
    "\n",
    "#Variable declaration\n",
    "c=3*10**8\n",
    "delf=3000    #Bandwidth\n",
    "\n",
    "#Calculations\n",
    "lc=(c/delf)\n",
    "\n",
    "#Result\n",
    "print\"The coherence length of the laser beam is\",lc,\"m or 10**5 m\""
   ]
  },
  {
   "cell_type": "markdown",
   "metadata": {},
   "source": [
    "## Example number 4 , Page number 274"
   ]
  },
  {
   "cell_type": "code",
   "execution_count": 31,
   "metadata": {
    "collapsed": false
   },
   "outputs": [
    {
     "name": "stdout",
     "output_type": "stream",
     "text": [
      "The transverse coherence length is 0.005 cm\n"
     ]
    }
   ],
   "source": [
    "#importing modules\n",
    "import math\n",
    "from __future__ import division\n",
    "\n",
    "#Variable declaration\n",
    "lambdaa=5*10**-5        #Wavelength\n",
    "theta=32                #Angle subtended by the sun at the slit\n",
    "\n",
    "#Calculations\n",
    "l=((lambdaa*60*180)/(theta*3.14))\n",
    "\n",
    "#Result\n",
    "print\"The transverse coherence length is %1.3f\"%l,\"cm\""
   ]
  },
  {
   "cell_type": "markdown",
   "metadata": {},
   "source": [
    "## Example number 5 , Page number 274"
   ]
  },
  {
   "cell_type": "code",
   "execution_count": 36,
   "metadata": {
    "collapsed": false
   },
   "outputs": [
    {
     "name": "stdout",
     "output_type": "stream",
     "text": [
      "The Degree of Monochromaticity is 18 *10**-6\n"
     ]
    }
   ],
   "source": [
    "#importing modules\n",
    "import math\n",
    "from __future__ import division\n",
    "\n",
    "#Variable declaration\n",
    "lambdaa=5400*10**-10        #Wavelength\n",
    "tc=10**-10                  #coherence time\n",
    "c=3*10**-8                 \n",
    "\n",
    "#Calculations\n",
    "dom=((lambdaa)/(tc*c))*10**-10\n",
    "\n",
    "#Result\n",
    "print\"The Degree of Monochromaticity is %2.0f\"%dom,\"*10**-6\""
   ]
  }
 ],
 "metadata": {
  "kernelspec": {
   "display_name": "Python 2",
   "language": "python",
   "name": "python2"
  },
  "language_info": {
   "codemirror_mode": {
    "name": "ipython",
    "version": 2
   },
   "file_extension": ".py",
   "mimetype": "text/x-python",
   "name": "python",
   "nbconvert_exporter": "python",
   "pygments_lexer": "ipython2",
   "version": "2.7.11"
  }
 },
 "nbformat": 4,
 "nbformat_minor": 0
}
