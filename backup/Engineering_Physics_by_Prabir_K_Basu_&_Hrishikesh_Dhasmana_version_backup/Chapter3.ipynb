{
 "cells": [
  {
   "cell_type": "markdown",
   "metadata": {},
   "source": [
    "#  Chapter 3 : Polarization"
   ]
  },
  {
   "cell_type": "markdown",
   "metadata": {},
   "source": [
    "## Example number 1 , Page number 266"
   ]
  },
  {
   "cell_type": "code",
   "execution_count": 5,
   "metadata": {
    "collapsed": false
   },
   "outputs": [
    {
     "name": "stdout",
     "output_type": "stream",
     "text": [
      "The Angle of polarization is 33 Degrees\n"
     ]
    }
   ],
   "source": [
    "#importing modules\n",
    "import math\n",
    "from __future__ import division\n",
    "\n",
    "#Variable declaration\n",
    "mu=1.54       #refractive index of glass\n",
    "\n",
    "#Calculations\n",
    "ip=math.degrees(math.atan(1.54))\n",
    "r=90-ip\n",
    "\n",
    "#Result\n",
    "print\"The Angle of polarization is %2.0f\"%r,\"Degrees\"\n"
   ]
  },
  {
   "cell_type": "markdown",
   "metadata": {},
   "source": [
    "## Example number 2 , Page number 266"
   ]
  },
  {
   "cell_type": "code",
   "execution_count": 8,
   "metadata": {
    "collapsed": false
   },
   "outputs": [
    {
     "name": "stdout",
     "output_type": "stream",
     "text": [
      "The Angle of polarization is 1.7321 Degrees\n"
     ]
    }
   ],
   "source": [
    "#importing modules\n",
    "import math\n",
    "from __future__ import division\n",
    "\n",
    "#Variable declaration\n",
    "ip=60  #Angle of incidence\n",
    "\n",
    "#Calculations\n",
    "mu=math.tan(math.radians(ip))\n",
    "\n",
    "#Result\n",
    "print\"The Angle of polarization is %1.4f\"%mu,\"Degrees\""
   ]
  },
  {
   "cell_type": "markdown",
   "metadata": {},
   "source": [
    "## Example number 3 , Page number 266"
   ]
  },
  {
   "cell_type": "code",
   "execution_count": 9,
   "metadata": {
    "collapsed": false
   },
   "outputs": [
    {
     "name": "stdout",
     "output_type": "stream",
     "text": [
      "The Angle of Refraction is 49.11 Degrees\n"
     ]
    }
   ],
   "source": [
    "#importing modules\n",
    "import math\n",
    "from __future__ import division\n",
    "\n",
    "#Variable declaration\n",
    "muwater=0.8660  #Refractive index of water\n",
    "\n",
    "#Calculations\n",
    "ip=math.degrees(math.atan(muwater))\n",
    "r=90-ip\n",
    "\n",
    "#Result\n",
    "print\"The Angle of Refraction is %2.2f\"%r,\"Degrees\""
   ]
  },
  {
   "cell_type": "markdown",
   "metadata": {},
   "source": [
    "## Example number 4 , Page number 267"
   ]
  },
  {
   "cell_type": "code",
   "execution_count": 17,
   "metadata": {
    "collapsed": false
   },
   "outputs": [
    {
     "name": "stdout",
     "output_type": "stream",
     "text": [
      "The thickness of the crystal is  0.003 cm\n"
     ]
    }
   ],
   "source": [
    "#importing modules\n",
    "import math\n",
    "from __future__ import division\n",
    "\n",
    "#Variable declaration\n",
    "lambdaa=6000*10**-10  #Wavelength\n",
    "muo=1.55              #Refractive index of ordinary rays\n",
    "mue=1.54              #Refractive index of extra ordinary rays\n",
    "\n",
    "#Calculations\n",
    "t=((lambdaa)/(2*(muo-mue)))*10**2\n",
    "\n",
    "#Result\n",
    "print\"The thickness of the crystal is \",t,\"cm\""
   ]
  },
  {
   "cell_type": "markdown",
   "metadata": {},
   "source": [
    "## Example number 5 , Page number 267"
   ]
  },
  {
   "cell_type": "code",
   "execution_count": 16,
   "metadata": {
    "collapsed": false
   },
   "outputs": [
    {
     "name": "stdout",
     "output_type": "stream",
     "text": [
      "The thickness of the crystal is  0.00147325 cm\n"
     ]
    }
   ],
   "source": [
    "#importing modules\n",
    "import math\n",
    "from __future__ import division\n",
    "\n",
    "#Variable declaration\n",
    "lambdaa=5893*10**-10  #Wavelength\n",
    "muo=1.54              #Refractive index of ordinary rays\n",
    "mue=1.53              #Refractive index of extra ordinary rays\n",
    "\n",
    "#Calculations\n",
    "t=((lambdaa)/(4*(muo-mue)))*10**2\n",
    "\n",
    "#Result\n",
    "print\"The thickness of the crystal is \",t,\"cm\""
   ]
  },
  {
   "cell_type": "markdown",
   "metadata": {},
   "source": [
    "## Example number 6 , Page number 267"
   ]
  },
  {
   "cell_type": "code",
   "execution_count": 19,
   "metadata": {
    "collapsed": false
   },
   "outputs": [
    {
     "name": "stdout",
     "output_type": "stream",
     "text": [
      "The thickness of the crystal is 0.00268 cm\n"
     ]
    }
   ],
   "source": [
    "#importing modules\n",
    "import math\n",
    "from __future__ import division\n",
    "\n",
    "#Variable declaration\n",
    "lambdaa=5893*10**-10   #Wavelength\n",
    "muo=1.551              #Refractive index of ordinary rays\n",
    "mue=1.54               #Refractive index of extra ordinary rays\n",
    "\n",
    "#Calculations\n",
    "t=((lambdaa)/(2*(muo-mue)))*10**2\n",
    "\n",
    "#Result\n",
    "print\"The thickness of the crystal is %0.5f\"%t,\"cm\""
   ]
  },
  {
   "cell_type": "markdown",
   "metadata": {},
   "source": [
    "## Example number 7 , Page number 268"
   ]
  },
  {
   "cell_type": "code",
   "execution_count": 24,
   "metadata": {
    "collapsed": false
   },
   "outputs": [
    {
     "name": "stdout",
     "output_type": "stream",
     "text": [
      "The Amount of optical rotation produced is 198 degrees\n"
     ]
    }
   ],
   "source": [
    "#importing modules\n",
    "import math\n",
    "from __future__ import division\n",
    "\n",
    "#Variable declaration\n",
    "lambdaa=4000*10**-10      #Wavelength\n",
    "mul=1.55821               #Refractive index of left landed\n",
    "mur=1.55810               #Refractive index of right landed\n",
    "t=2*10**-3                #thickness\n",
    "\n",
    "#Calculations\n",
    "orot=math.degrees((2*3.14*(t*(mul-mur)))/lambdaa)\n",
    "\n",
    "#Result\n",
    "print\"The Amount of optical rotation produced is %3.0f\"%orot,\"degrees\""
   ]
  },
  {
   "cell_type": "markdown",
   "metadata": {},
   "source": [
    "## Example number 8 , Page number 269"
   ]
  },
  {
   "cell_type": "code",
   "execution_count": 30,
   "metadata": {
    "collapsed": false
   },
   "outputs": [
    {
     "name": "stdout",
     "output_type": "stream",
     "text": [
      "The Amount of optical rotation produced is 1.152 pi radians\n"
     ]
    }
   ],
   "source": [
    "#importing modules\n",
    "import math\n",
    "from __future__ import division\n",
    "\n",
    "#Variable declaration\n",
    "lambdaa=5000*10**-10      #Wavelength\n",
    "muo=1.5418               #Refractive index of ordinary rays\n",
    "mue=1.5508               #Refractive index of extra ordinary rays\n",
    "t=0.032*10**-3                #thickness\n",
    "\n",
    "#Calculations\n",
    "orot=((2*(t*(mue-muo)))/lambdaa)\n",
    "\n",
    "#Result\n",
    "print\"The Amount of optical rotation produced is\",orot,\"pi radians\""
   ]
  },
  {
   "cell_type": "markdown",
   "metadata": {},
   "source": [
    "## Example number 9 , Page number 269"
   ]
  },
  {
   "cell_type": "code",
   "execution_count": 34,
   "metadata": {
    "collapsed": false
   },
   "outputs": [
    {
     "name": "stdout",
     "output_type": "stream",
     "text": [
      "The Specific rotation of sugar solution is 65 degree/(dm/(gm/cc))\n"
     ]
    }
   ],
   "source": [
    "#importing modules\n",
    "import math\n",
    "from __future__ import division\n",
    "\n",
    "#Variable declaration\n",
    "theta=6.5      #rotation of plane\n",
    "l=2            #length\n",
    "c=0.05         #concentration\n",
    "\n",
    "#Calculations\n",
    "s=(theta/(l*c))\n",
    "\n",
    "#Result\n",
    "print\"The Specific rotation of sugar solution is %i\"%s,\"degree/(dm/(gm/cc))\""
   ]
  },
  {
   "cell_type": "markdown",
   "metadata": {},
   "source": [
    "## Example number 10 , Page number 269"
   ]
  },
  {
   "cell_type": "code",
   "execution_count": 36,
   "metadata": {
    "collapsed": false
   },
   "outputs": [
    {
     "name": "stdout",
     "output_type": "stream",
     "text": [
      "The Concentration of sugar solution is, 0.1 gm/cc\n"
     ]
    }
   ],
   "source": [
    "#importing modules\n",
    "import math\n",
    "from __future__ import division\n",
    "\n",
    "#Variable declaration\n",
    "theta=12       #rotation of plane\n",
    "l=2            #length\n",
    "s=60           #Specific rotation\n",
    "\n",
    "#Calculations\n",
    "c=(theta/(l*s))\n",
    "\n",
    "#Result\n",
    "print\"The Concentration of sugar solution is,\",c,\"gm/cc\""
   ]
  },
  {
   "cell_type": "markdown",
   "metadata": {},
   "source": [
    "## Example number 11 , Page number 270"
   ]
  },
  {
   "cell_type": "code",
   "execution_count": 39,
   "metadata": {
    "collapsed": false
   },
   "outputs": [
    {
     "name": "stdout",
     "output_type": "stream",
     "text": [
      "The Mass of sugar dissolved in 2 liter of water for optical rotation 24 deg is 213.3 gm\n"
     ]
    }
   ],
   "source": [
    "#importing modules\n",
    "import math\n",
    "from __future__ import division\n",
    "\n",
    "#Variable declaration\n",
    "theta1=12       #rotation of plane\n",
    "l1=2            #length\n",
    "theta2=24       #rotation of plane\n",
    "l2=3            #length\n",
    "c1=0.08         #Concentration\n",
    "\n",
    "#Calculations\n",
    "s=((theta1)/(l1*c1))\n",
    "c2=((theta2)/(s*l2))\n",
    "Ms=10*10*10*c2\n",
    "Ms2=Ms*2\n",
    "\n",
    "#Result\n",
    "print\"The Mass of sugar dissolved in 2 liter of water for optical rotation 24 deg is %3.1f\"%Ms2,\"gm\""
   ]
  },
  {
   "cell_type": "markdown",
   "metadata": {},
   "source": [
    "## Example number 12 , Page number 270"
   ]
  },
  {
   "cell_type": "code",
   "execution_count": 42,
   "metadata": {
    "collapsed": false
   },
   "outputs": [
    {
     "name": "stdout",
     "output_type": "stream",
     "text": [
      "The Difference in RI is 8.4 *10**-5\n"
     ]
    }
   ],
   "source": [
    "#importing modules\n",
    "import math\n",
    "from __future__ import division\n",
    "\n",
    "#Variable declaration\n",
    "lambdaa=5086*10**-7            #Wavelength\n",
    "s=29.73                        #Specific rotation\n",
    "\n",
    "#Calculations\n",
    "delmu=((s*lambdaa)/180)*10**5\n",
    "\n",
    "#Result\n",
    "print\"The Difference in RI is %1.1f\"%delmu,\"*10**-5\""
   ]
  },
  {
   "cell_type": "markdown",
   "metadata": {},
   "source": [
    "## Example number 13 , Page number 271"
   ]
  },
  {
   "cell_type": "code",
   "execution_count": 43,
   "metadata": {
    "collapsed": false
   },
   "outputs": [
    {
     "name": "stdout",
     "output_type": "stream",
     "text": [
      "The Concentation of sugar solution is  6.5 degree\n"
     ]
    }
   ],
   "source": [
    "#importing modules\n",
    "import math\n",
    "from __future__ import division\n",
    "\n",
    "#Variable declaration\n",
    "theta1=13      #rotation of plane\n",
    "l1=2            #length\n",
    "l2=3            #Length\n",
    "s=6.5           #Specific rotation\n",
    "\n",
    "#Calculations\n",
    "theta=s*l2*(1/3)\n",
    "\n",
    "#Result\n",
    "print\"The Concentation of sugar solution is \",theta,\"degree\""
   ]
  },
  {
   "cell_type": "markdown",
   "metadata": {},
   "source": [
    "## Example number 14 , Page number 271"
   ]
  },
  {
   "cell_type": "code",
   "execution_count": 45,
   "metadata": {
    "collapsed": false
   },
   "outputs": [
    {
     "name": "stdout",
     "output_type": "stream",
     "text": [
      "The Length will be 35 cm\n"
     ]
    }
   ],
   "source": [
    "#importing modules\n",
    "import math\n",
    "from __future__ import division\n",
    "\n",
    "#Variable declaration\n",
    "theta1=35       #rotation of plane\n",
    "s=100           #Specific rotation\n",
    "c=0.1           #Concentration\n",
    "\n",
    "#Calculations\n",
    "l=((theta1)/(s*c))*10\n",
    "\n",
    "#Result\n",
    "print\"The Length will be %i\"%l,\"cm\""
   ]
  },
  {
   "cell_type": "markdown",
   "metadata": {},
   "source": [
    "## Example number 15 , Page number 271"
   ]
  },
  {
   "cell_type": "code",
   "execution_count": 46,
   "metadata": {
    "collapsed": false
   },
   "outputs": [
    {
     "name": "stdout",
     "output_type": "stream",
     "text": [
      "percentage of purity of sample 93.75 %\n"
     ]
    }
   ],
   "source": [
    "#importing modules\n",
    "import math\n",
    "from __future__ import division\n",
    "\n",
    "#Variable declaration\n",
    "theta1=9.9       #rotation of plane\n",
    "l=2              #Length\n",
    "c=0.08           #Concentration\n",
    "s2=66            #specific rotation\n",
    "\n",
    "#Calculations\n",
    "s1=((theta1)/(l*c))\n",
    "pis=((s2-s1)/s2)*100\n",
    "pps=100-pis\n",
    "\n",
    "\n",
    "#Result\n",
    "print\"percentage of purity of sample\",pps,\"%\""
   ]
  }
 ],
 "metadata": {
  "kernelspec": {
   "display_name": "Python 2",
   "language": "python",
   "name": "python2"
  },
  "language_info": {
   "codemirror_mode": {
    "name": "ipython",
    "version": 2
   },
   "file_extension": ".py",
   "mimetype": "text/x-python",
   "name": "python",
   "nbconvert_exporter": "python",
   "pygments_lexer": "ipython2",
   "version": "2.7.11"
  }
 },
 "nbformat": 4,
 "nbformat_minor": 0
}
