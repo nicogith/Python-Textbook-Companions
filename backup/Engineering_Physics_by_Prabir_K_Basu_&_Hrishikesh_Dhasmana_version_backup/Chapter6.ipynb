{
 "cells": [
  {
   "cell_type": "markdown",
   "metadata": {},
   "source": [
    "#  Chapter 6 : Simple Harmonic Motion"
   ]
  },
  {
   "cell_type": "markdown",
   "metadata": {},
   "source": [
    "## Example number 1 , Page number 274"
   ]
  },
  {
   "cell_type": "code",
   "execution_count": 2,
   "metadata": {
    "collapsed": false
   },
   "outputs": [
    {
     "name": "stdout",
     "output_type": "stream",
     "text": [
      "The time taken to move from one end of its path to 0.025m from mean position is 1 sec\n"
     ]
    }
   ],
   "source": [
    "#importing modules\n",
    "import math\n",
    "from __future__ import division\n",
    "\n",
    "#Variable declaration\n",
    "W=(3.14/3)    #Angular frequency in radian\n",
    "\n",
    "\n",
    "\n",
    "#Calculations\n",
    "t=((3.14)/(3*W))\n",
    "\n",
    "#Result\n",
    "print\"The time taken to move from one end of its path to 0.025m from mean position is %i\"%t,\"sec\"\n",
    "\n"
   ]
  },
  {
   "cell_type": "markdown",
   "metadata": {},
   "source": [
    "## Example number 2 , Page number 275"
   ]
  },
  {
   "cell_type": "code",
   "execution_count": 3,
   "metadata": {
    "collapsed": false
   },
   "outputs": [
    {
     "name": "stdout",
     "output_type": "stream",
     "text": [
      "The Maximum Velocity is 0.012 m/sec\n"
     ]
    }
   ],
   "source": [
    "#importing modules\n",
    "import math\n",
    "from __future__ import division\n",
    "\n",
    "#Variable declaration\n",
    "T=31.4          #Time Period\n",
    "A=0.06          #Amplitude\n",
    "\n",
    "\n",
    "#Calculations\n",
    "W=((2*3.14)/T)\n",
    "Vmax=W*A\n",
    "\n",
    "#Result\n",
    "print\"The Maximum Velocity is\",Vmax,\"m/sec\"\n",
    "\n"
   ]
  },
  {
   "cell_type": "markdown",
   "metadata": {},
   "source": [
    "## Example number 3 , Page number 275"
   ]
  },
  {
   "cell_type": "code",
   "execution_count": 5,
   "metadata": {
    "collapsed": false
   },
   "outputs": [
    {
     "name": "stdout",
     "output_type": "stream",
     "text": [
      "The Time Period of Oscillation for the other body is 0.28 sec\n"
     ]
    }
   ],
   "source": [
    "#importing modules\n",
    "import math\n",
    "from __future__ import division\n",
    "\n",
    "#Variable declaration\n",
    "m=8          #mass\n",
    "g=9.8        #acceleration due to gravity\n",
    "x=0.32       #Stretched spring deviation\n",
    "m2=0.5       #mass of the other body\n",
    "\n",
    "\n",
    "#Calculations\n",
    "k=((m*g)/x)\n",
    "T=((2*3.14)*math.sqrt(m2/k))\n",
    "\n",
    "#Result\n",
    "print\"The Time Period of Oscillation for the other body is %0.2f\"%T,\"sec\""
   ]
  },
  {
   "cell_type": "markdown",
   "metadata": {},
   "source": [
    "## Example number 5 , Page number 276"
   ]
  },
  {
   "cell_type": "code",
   "execution_count": 16,
   "metadata": {
    "collapsed": false
   },
   "outputs": [
    {
     "name": "stdout",
     "output_type": "stream",
     "text": [
      "The Time Interval is 14.67 sec\n"
     ]
    }
   ],
   "source": [
    "#importing modules\n",
    "import math\n",
    "from __future__ import division\n",
    "\n",
    "#Variable declaration\n",
    "Q=10**4    #Quality Factor\n",
    "f=250      #Frequency\n",
    "\n",
    "\n",
    "#Calculations\n",
    "Tau=((Q)/(2*3.14*f))\n",
    "t=((math.log(10,10)*20)/(0.4342944819*3.14))\n",
    "\n",
    "#Result\n",
    "print\"The Time Interval is %2.2f\"%t,\"sec\""
   ]
  },
  {
   "cell_type": "markdown",
   "metadata": {},
   "source": [
    "## Example number 6 , Page number 277"
   ]
  },
  {
   "cell_type": "code",
   "execution_count": 15,
   "metadata": {
    "collapsed": false
   },
   "outputs": [
    {
     "name": "stdout",
     "output_type": "stream",
     "text": [
      "The Time in which the amplitude decreases is 5.3 sec\n"
     ]
    }
   ],
   "source": [
    "#importing modules\n",
    "import math\n",
    "from __future__ import division\n",
    "\n",
    "#Variable declaration\n",
    "Q=2000    #Quality Factor\n",
    "f=240      #Frequency\n",
    "\n",
    "\n",
    "#Calculations\n",
    "Tau=((Q)/(2*3.14*f))\n",
    "t=4*Tau\n",
    "\n",
    "#Result\n",
    "print\"The Time in which the amplitude decreases is %1.1f\"%t,\"sec\""
   ]
  },
  {
   "cell_type": "markdown",
   "metadata": {},
   "source": [
    "## Example number 7 , Page number 277"
   ]
  },
  {
   "cell_type": "code",
   "execution_count": 18,
   "metadata": {
    "collapsed": false
   },
   "outputs": [
    {
     "name": "stdout",
     "output_type": "stream",
     "text": [
      "The Value of A/Amax is 0.71\n"
     ]
    }
   ],
   "source": [
    "#importing modules\n",
    "import math\n",
    "from __future__ import division\n",
    "\n",
    "#Variable declaration\n",
    "A=50/1.4  #Amplitude which is A=(50f/1.4*W**2)\n",
    "Amax=50   #Max Amplitude which is Amax=(50f/W**2)\n",
    "\n",
    "\n",
    "#Calculations\n",
    "Rat=A/Amax\n",
    "\n",
    "#Result\n",
    "print\"The Value of A/Amax is %0.2f\"%Rat"
   ]
  }
 ],
 "metadata": {
  "kernelspec": {
   "display_name": "Python 2",
   "language": "python",
   "name": "python2"
  },
  "language_info": {
   "codemirror_mode": {
    "name": "ipython",
    "version": 2
   },
   "file_extension": ".py",
   "mimetype": "text/x-python",
   "name": "python",
   "nbconvert_exporter": "python",
   "pygments_lexer": "ipython2",
   "version": "2.7.11"
  }
 },
 "nbformat": 4,
 "nbformat_minor": 0
}
