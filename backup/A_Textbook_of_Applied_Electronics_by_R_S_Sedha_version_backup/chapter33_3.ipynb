{
 "cells": [
  {
   "cell_type": "markdown",
   "metadata": {},
   "source": [
    "# Chapter 33 , Wave Shaping"
   ]
  },
  {
   "cell_type": "markdown",
   "metadata": {},
   "source": [
    "## Example 33.2 , Page Number 853"
   ]
  },
  {
   "cell_type": "code",
   "execution_count": 1,
   "metadata": {
    "collapsed": false
   },
   "outputs": [
    {
     "name": "stdout",
     "output_type": "stream",
     "text": [
      "Output peak voltage is  0.3  V.\n"
     ]
    }
   ],
   "source": [
    "import math\n",
    "\n",
    "#Variables\n",
    "   \n",
    "Vpk = 1.0                     #Peak-to-peak voltage (in volts)\n",
    "Tby2 = 0.1                    #Half-period (in seconds)\n",
    "tau = 0.25                    #Time constant (in seconds)  \n",
    "\n",
    "#Calculation\n",
    "\n",
    "Vc = 0.5 * math.exp(-Tby2/tau)     #Output voltage (in volts)\n",
    "\n",
    "#Result\n",
    "\n",
    "print \"Output peak voltage is \",round(Vc,1),\" V.\""
   ]
  },
  {
   "cell_type": "markdown",
   "metadata": {},
   "source": [
    "## Example 33.3 , Page Number 854"
   ]
  },
  {
   "cell_type": "code",
   "execution_count": 2,
   "metadata": {
    "collapsed": false
   },
   "outputs": [
    {
     "name": "stdout",
     "output_type": "stream",
     "text": [
      "The peak value of input voltage is  10.0  kV.\n"
     ]
    }
   ],
   "source": [
    "import math\n",
    "\n",
    "#Variables\n",
    "\n",
    "RC = 250.0 * 10**-12                   #Time constance (in seconds)\n",
    "Vomax = 50.0                           #Maximum output voltage (in volts)                         \n",
    "tau = 0.05  * 10**-6                   #time (in seconds)\n",
    "\n",
    "#Calculation\n",
    "\n",
    "alpha = Vomax / RC                     #alpha (in volt per second)\n",
    "Vp = alpha * tau                       #Peak voltage (in volts)\n",
    "\n",
    "#Result\n",
    "\n",
    "print \"The peak value of input voltage is \",Vp * 10**-3,\" kV.\""
   ]
  },
  {
   "cell_type": "markdown",
   "metadata": {},
   "source": [
    "## Example 33.5 , Page Number 861"
   ]
  },
  {
   "cell_type": "code",
   "execution_count": 11,
   "metadata": {
    "collapsed": false
   },
   "outputs": [
    {
     "name": "stdout",
     "output_type": "stream",
     "text": [
      "Following graph shows the output.\n",
      "The part above the line is clipped out.\n"
     ]
    },
    {
     "data": {
      "text/plain": [
       "<matplotlib.text.Annotation at 0x82616f0>"
      ]
     },
     "execution_count": 11,
     "metadata": {},
     "output_type": "execute_result"
    },
    {
     "data": {
      "image/png": "[encoded data removed]",
      "text/plain": [
       "<matplotlib.figure.Figure at 0x7e69970>"
      ]
     },
     "metadata": {},
     "output_type": "display_data"
    }
   ],
   "source": [
    "import math\n",
    "import numpy\n",
    "%matplotlib inline\n",
    "from matplotlib.pyplot import plot,ylim,xlabel,ylabel,title,annotate\n",
    "\n",
    "#Variables\n",
    "\n",
    "Vi = 2.0             #positive clipping (in volts)\n",
    "\n",
    "#Calculation\n",
    "\n",
    "Vomax = 5.0          #Maximum output voltage (in volts)    \n",
    "\n",
    "#Result\n",
    "\n",
    "print \"Following graph shows the output.\\nThe part above the line is clipped out.\"\n",
    "\n",
    "#Graph\n",
    "\n",
    "t = numpy.linspace(0.001,2,400)\n",
    "y = numpy.sin(2*math.pi*t)\n",
    "plot(t, 5*y)\n",
    "plot(t,(2*t)/t,'--')\n",
    "ylim( (-6,6) )\n",
    "ylabel('Vo')\n",
    "xlabel('t')\n",
    "title('Output Waveform')\n",
    "annotate(\"Clipping level\",xy=(0.575,2))"
   ]
  },
  {
   "cell_type": "markdown",
   "metadata": {},
   "source": [
    "## Example 33.6 , Page Number 861"
   ]
  },
  {
   "cell_type": "code",
   "execution_count": 10,
   "metadata": {
    "collapsed": false
   },
   "outputs": [
    {
     "name": "stderr",
     "output_type": "stream",
     "text": [
      "C:\\Anaconda\\lib\\site-packages\\IPython\\kernel\\__main__.py:22: RuntimeWarning: invalid value encountered in divide\n"
     ]
    },
    {
     "data": {
      "text/plain": [
       "<matplotlib.text.Text at 0x7ed1f70>"
      ]
     },
     "execution_count": 10,
     "metadata": {},
     "output_type": "execute_result"
    },
    {
     "data": {
      "image/png": "[encoded data removed]",
      "text/plain": [
       "<matplotlib.figure.Figure at 0x7ca1f50>"
      ]
     },
     "metadata": {},
     "output_type": "display_data"
    }
   ],
   "source": [
    "import math\n",
    "import numpy\n",
    "%matplotlib inline\n",
    "from matplotlib.pyplot import xlim,ylim,plot,title,xlabel,ylabel\n",
    "\n",
    "#Variables \n",
    "\n",
    "Vp = 10.0                      #Peak to peak voltage (in volts)\n",
    "\n",
    "#Calculation\n",
    "\n",
    "Vi = 4.0                       #Input voltage (in volts)\n",
    "Vo = 1.0                       #Maximum output voltage (in volts)\n",
    "\n",
    "#Graph\n",
    "\n",
    "x = numpy.linspace(0,11,400)\n",
    "y = numpy.sin(x)\n",
    "xlim((0,14))\n",
    "ylim((0,3))\n",
    "plot(x,5*y - 4)\n",
    "plot(x,(1*x)/x,\"--\")\n",
    "title(\"Output waveform\")\n",
    "xlabel(\"t\")\n",
    "ylabel(\"Vo\")"
   ]
  },
  {
   "cell_type": "markdown",
   "metadata": {},
   "source": [
    "## Example 33.7 , Page Number 862"
   ]
  },
  {
   "cell_type": "code",
   "execution_count": 9,
   "metadata": {
    "collapsed": false
   },
   "outputs": [
    {
     "name": "stdout",
     "output_type": "stream",
     "text": [
      "Following is the graph :\n"
     ]
    },
    {
     "data": {
      "text/plain": [
       "<matplotlib.text.Annotation at 0x7ed13b0>"
      ]
     },
     "execution_count": 9,
     "metadata": {},
     "output_type": "execute_result"
    },
    {
     "data": {
      "image/png": "[encoded data removed]",
      "text/plain": [
       "<matplotlib.figure.Figure at 0x7e73810>"
      ]
     },
     "metadata": {},
     "output_type": "display_data"
    }
   ],
   "source": [
    "import math\n",
    "import numpy\n",
    "%matplotlib inline\n",
    "from matplotlib.pyplot import plot,ylim,ylabel,xlabel,title,annotate\n",
    "\n",
    "#Variables\n",
    "\n",
    "Vp = 10.0               #Peak-to-peak voltage (in volts)\n",
    "\n",
    "#Result\n",
    "\n",
    "print \"Following is the graph :\"\n",
    "\n",
    "#Graph\n",
    "\n",
    "t = numpy.arange(0.001, 2.0, 0.005)\n",
    "y = numpy.sin(2*math.pi*t)\n",
    "plot(t, 5*y)\n",
    "plot(t,(-3*t)/t,'--')\n",
    "ylim( (-6,6) )\n",
    "ylabel('Vo')\n",
    "xlabel('t')\n",
    "title('Output Waveform')\n",
    "annotate(\"Clipping level\",xy=(0.575,-2.9))"
   ]
  },
  {
   "cell_type": "markdown",
   "metadata": {},
   "source": [
    "## Example 33.8 , Page Number 866"
   ]
  },
  {
   "cell_type": "code",
   "execution_count": 8,
   "metadata": {
    "collapsed": false
   },
   "outputs": [
    {
     "name": "stdout",
     "output_type": "stream",
     "text": [
      "Following is the output :\n"
     ]
    },
    {
     "data": {
      "text/plain": [
       "<matplotlib.text.Text at 0x7cc8310>"
      ]
     },
     "execution_count": 8,
     "metadata": {},
     "output_type": "execute_result"
    },
    {
     "data": {
      "image/png": "[encoded data removed]",
      "text/plain": [
       "<matplotlib.figure.Figure at 0x7caa690>"
      ]
     },
     "metadata": {},
     "output_type": "display_data"
    }
   ],
   "source": [
    "import math\n",
    "import numpy\n",
    "%matplotlib inline\n",
    "from matplotlib.pyplot import plot,ylim,ylabel,xlabel,title\n",
    "\n",
    "#Variables\n",
    "\n",
    "Vp = 5.0                        #Peak voltage (in volts)\n",
    "\n",
    "#Calculation\n",
    "\n",
    "Vpos = 3.0                      #Positive clipping voltage (in volts)\n",
    "Vneg = -2.0                     #Negative clipping voltage (in volts)\n",
    "\n",
    "#Result\n",
    "\n",
    "print \"Following is the output :\"\n",
    "#Graph\n",
    "\n",
    "t = numpy.arange(0.001, 2.0, 0.005)\n",
    "y = numpy.sin(2*math.pi*t)\n",
    "plot(t, 5*y)\n",
    "plot(t,(3*t)/t,'--')\n",
    "plot(t,(-2*t)/t,'--')\n",
    "ylim( (-6,6) )\n",
    "ylabel('Vo')\n",
    "xlabel('t')\n",
    "title('Output Waveform')"
   ]
  },
  {
   "cell_type": "markdown",
   "metadata": {},
   "source": [
    "## Example 33.9 , Page Number 866"
   ]
  },
  {
   "cell_type": "code",
   "execution_count": 7,
   "metadata": {
    "collapsed": false
   },
   "outputs": [
    {
     "name": "stdout",
     "output_type": "stream",
     "text": [
      "Output waveform is as follows :\n",
      "The parts below and above the clipping levels are clipped off.\n"
     ]
    },
    {
     "data": {
      "text/plain": [
       "<matplotlib.text.Text at 0x7d25710>"
      ]
     },
     "execution_count": 7,
     "metadata": {},
     "output_type": "execute_result"
    },
    {
     "data": {
      "image/png": "[encoded data removed]",
      "text/plain": [
       "<matplotlib.figure.Figure at 0x798b430>"
      ]
     },
     "metadata": {},
     "output_type": "display_data"
    }
   ],
   "source": [
    "import math\n",
    "import numpy\n",
    "%matplotlib inline\n",
    "from matplotlib.pyplot import plot,ylim,xlabel,ylabel,title\n",
    "\n",
    "#Variables\n",
    "\n",
    "Vp = 10.0               #Peak-to-peak voltage (in volts)\n",
    "\n",
    "#Calculation\n",
    "\n",
    "Vpos = 3.0              #Positive clipping voltage (in volts)\n",
    "Vneg = -2.0             #Negative clipping voltage (in volts)\n",
    "\n",
    "#Result\n",
    "\n",
    "print \"Output waveform is as follows :\\nThe parts below and above the clipping levels are clipped off.\"\n",
    "\n",
    "#Graph\n",
    "\n",
    "t = numpy.arange(0.001, 2.0, 0.005)\n",
    "y = numpy.sin(2*math.pi*t)\n",
    "plot(t, 10*y)\n",
    "plot(t,(-2*t)/t,'--')\n",
    "plot(t,(3*t)/t,'--')\n",
    "ylim( (-11,11) )\n",
    "ylabel('Vo')\n",
    "xlabel('t')\n",
    "title('Output Waveform')"
   ]
  },
  {
   "cell_type": "markdown",
   "metadata": {},
   "source": [
    "## Example 33.10 , Page Number 866"
   ]
  },
  {
   "cell_type": "code",
   "execution_count": 6,
   "metadata": {
    "collapsed": false
   },
   "outputs": [
    {
     "name": "stdout",
     "output_type": "stream",
     "text": [
      "The value of R1 is  5.3  kilo-ohm.\n"
     ]
    },
    {
     "data": {
      "text/plain": [
       "<matplotlib.text.Text at 0x76bb7f0>"
      ]
     },
     "execution_count": 6,
     "metadata": {},
     "output_type": "execute_result"
    },
    {
     "data": {
      "image/png": "[encoded data removed]",
      "text/plain": [
       "<matplotlib.figure.Figure at 0x6827490>"
      ]
     },
     "metadata": {},
     "output_type": "display_data"
    }
   ],
   "source": [
    "import math\n",
    "import numpy\n",
    "%matplotlib inline\n",
    "from matplotlib.pyplot import plot,ylim,xlabel,ylabel,title\n",
    "\n",
    "#Variables\n",
    "\n",
    "Vp = 8.0                   #Peak voltage (in volts) \n",
    "Vo = 2.7                   #Maximum acceptance voltage (in volts)\n",
    "Io = 1.0 * 10**-3          #maximum output current (in Ampere)\n",
    "\n",
    "#Calculation\n",
    "\n",
    "VR1 = Vp - Vo              #Maximum voltage drop across R1 (in volts) \n",
    "R1min = VR1 / Io           #Resistance (in ohm)\n",
    "\n",
    "#Result\n",
    "\n",
    "print \"The value of R1 is \",R1min * 10**-3,\" kilo-ohm.\"\n",
    "\n",
    "#Graph\n",
    "\n",
    "k = numpy.arange(0.0001, 5.0, 0.0005)\n",
    "k1= numpy.arange(5.0, 10.0, 0.0005)\n",
    "k2= numpy.arange(10.0, 15.0, 0.0005)\n",
    "k3= numpy.arange(15.0, 20.0, 0.0005)\n",
    "\n",
    "m=numpy.arange(-2.7,2.7, 0.0005)\n",
    "x1=(0.001*m)/m\n",
    "x5=(5*m)/m\n",
    "x10=(10*m)/m\n",
    "x15=(15*m)/m\n",
    "\n",
    "plot(k,-2.7*k/k,'b')\n",
    "plot(k1,2.7*k1/k1,'b')\n",
    "plot(k2,-2.7*k2/k2,'b')\n",
    "plot(k3,2.7*k3/k3,'b')\n",
    "plot(x1,m,'b')\n",
    "plot(x5,m,'b')\n",
    "plot(x10,m,'b')\n",
    "plot(x15,m,'b')\n",
    "ylim( (-5,5) )\n",
    "ylabel('Vo')\n",
    "xlabel('t')\n",
    "title('Output')"
   ]
  },
  {
   "cell_type": "markdown",
   "metadata": {},
   "source": [
    "## Example 33.11 , Page Number 868"
   ]
  },
  {
   "cell_type": "code",
   "execution_count": 5,
   "metadata": {
    "collapsed": false
   },
   "outputs": [
    {
     "data": {
      "text/plain": [
       "<matplotlib.text.Text at 0x769e750>"
      ]
     },
     "execution_count": 5,
     "metadata": {},
     "output_type": "execute_result"
    },
    {
     "data": {
      "image/png": "[encoded data removed]",
      "text/plain": [
       "<matplotlib.figure.Figure at 0x63429b0>"
      ]
     },
     "metadata": {},
     "output_type": "display_data"
    }
   ],
   "source": [
    "import math\n",
    "import numpy\n",
    "%matplotlib inline\n",
    "from matplotlib.pyplot import plot,ylim,title,xlabel,ylabel\n",
    "\n",
    "#Variables\n",
    "\n",
    "Vp = 10.0            #Peak voltage (in volts)\n",
    "\n",
    "#Calculation\n",
    "\n",
    "Vi = 3.0             #Input voltage (in volts)     \n",
    "Vo = Vi - 2.0        #Output voltage (in volts) \n",
    "\n",
    "#Graph\n",
    "\n",
    "t = numpy.linspace(0,2,100)\n",
    "t1 = numpy.linspace(2,4,100)\n",
    "t2 = numpy.linspace(4,9,100)\n",
    "t3 = numpy.linspace(9,11,100)\n",
    "t4 = numpy.linspace(11,21,100)\n",
    "t5 = numpy.linspace(21,23,100)\n",
    "t6 = numpy.linspace(23,28,100)\n",
    "t7 = numpy.linspace(28,30,100)\n",
    "t8 = numpy.linspace(30,32,100)\n",
    "\n",
    "ylim((0,5))\n",
    "plot(t1,0.5*t1 -1,'b')\n",
    "plot(t2,(1*t2)/t2,'b')\n",
    "plot(t3,1 -0.5*(t3-9))\n",
    "plot(t5,0.5*(t5-21),'b')\n",
    "plot(t6,(1*t6)/t6,'b')\n",
    "plot(t7,1-0.5*(t7-28),'b')\n",
    "plot(t8,(0*t8/t8),'b')\n",
    "title(\"Output waveform\")\n",
    "xlabel(\"time (t) ->\")\n",
    "ylabel(\"Output voltage (Vo) ->\")"
   ]
  },
  {
   "cell_type": "markdown",
   "metadata": {},
   "source": [
    "## Example 33.12 , Page Number 869"
   ]
  },
  {
   "cell_type": "code",
   "execution_count": 4,
   "metadata": {
    "collapsed": false
   },
   "outputs": [
    {
     "name": "stderr",
     "output_type": "stream",
     "text": [
      "C:\\Anaconda\\lib\\site-packages\\IPython\\kernel\\__main__.py:27: RuntimeWarning: invalid value encountered in divide\n"
     ]
    },
    {
     "data": {
      "text/plain": [
       "<matplotlib.text.Text at 0x775f510>"
      ]
     },
     "execution_count": 4,
     "metadata": {},
     "output_type": "execute_result"
    },
    {
     "data": {
      "image/png": "[encoded data removed]",
      "text/plain": [
       "<matplotlib.figure.Figure at 0x6342f30>"
      ]
     },
     "metadata": {},
     "output_type": "display_data"
    }
   ],
   "source": [
    "import math\n",
    "import numpy\n",
    "%matplotlib inline\n",
    "from matplotlib.pyplot import ylim,xlim,plot,title,xlabel,ylabel\n",
    "\n",
    "#Variables\n",
    "\n",
    "VSmax = 20.0                    #peak voltage (in volts)\n",
    "VD2 = 0.7                       #Voltage drop across diode D2 (in volts) \n",
    "\n",
    "#Calculation\n",
    "\n",
    "Vomin = 5.0 - VD2               #Minimum output voltage (in volts)  \n",
    "Vomax = 10.7                    #Maximum output voltage (in volts)  \n",
    "\n",
    "#Graph\n",
    "\n",
    "t = numpy.linspace(0,4,100)\n",
    "t1 = numpy.linspace(4,10,100)\n",
    "t2 = numpy.linspace(10,20,100)\n",
    "t3 = numpy.linspace(20,24,100)\n",
    "t4 = numpy.linspace(24,30,100)\n",
    "t5 = numpy.linspace(30,40,100)\n",
    "\n",
    "ylim((0,15))\n",
    "xlim((0,40))\n",
    "plot(t,(4.3*t)/t,'b')\n",
    "plot(t1,4.3 + 6.4/6*(t1 - 4))\n",
    "plot(t2,(10.7*t2)/t2,'b')\n",
    "plot(t3,(4.3*t3)/t3,'b')\n",
    "plot(t4,4.3 + 6.4/6*(t4 - 24),'b')\n",
    "plot(t5,(10.7*t5)/t5,'b')\n",
    "\n",
    "title(\"Output waveform\")\n",
    "xlabel(\"t (in ms) ->\")\n",
    "ylabel(\"Vo (in volt) ->\")"
   ]
  },
  {
   "cell_type": "markdown",
   "metadata": {},
   "source": [
    "## Example 33.13 , Page Number 872"
   ]
  },
  {
   "cell_type": "code",
   "execution_count": 3,
   "metadata": {
    "collapsed": false
   },
   "outputs": [
    {
     "name": "stderr",
     "output_type": "stream",
     "text": [
      "C:\\Anaconda\\lib\\site-packages\\IPython\\kernel\\__main__.py:15: RuntimeWarning: invalid value encountered in divide\n"
     ]
    },
    {
     "data": {
      "text/plain": [
       "<matplotlib.text.Text at 0x6373a70>"
      ]
     },
     "execution_count": 3,
     "metadata": {},
     "output_type": "execute_result"
    },
    {
     "data": {
      "image/png": "[encoded data removed]",
      "text/plain": [
       "<matplotlib.figure.Figure at 0x6342ef0>"
      ]
     },
     "metadata": {},
     "output_type": "display_data"
    }
   ],
   "source": [
    "import math\n",
    "import numpy\n",
    "%matplotlib inline\n",
    "from matplotlib.pyplot import plot,xlabel,ylabel,title\n",
    "\n",
    "#Variables\n",
    "\n",
    "Vp = 48.0                 #Peak-to-peak voltage (in volts)\n",
    "\n",
    "#Graph\n",
    "\n",
    "x = numpy.linspace(0,2 * math.pi,100)\n",
    "y = numpy.sin(x)\n",
    "plot(x,24 + 24*y)\n",
    "plot(x,(24*x)/x,'--')\n",
    "xlabel(\"Time(t)\")\n",
    "ylabel(\"Output voltage (Vo)\")\n",
    "title(\"Output waveform\")"
   ]
  },
  {
   "cell_type": "markdown",
   "metadata": {},
   "source": [
    "## Example 33.14 , Page Number 872"
   ]
  },
  {
   "cell_type": "code",
   "execution_count": 2,
   "metadata": {
    "collapsed": false
   },
   "outputs": [
    {
     "data": {
      "text/plain": [
       "<matplotlib.text.Text at 0x64a0b30>"
      ]
     },
     "execution_count": 2,
     "metadata": {},
     "output_type": "execute_result"
    },
    {
     "data": {
      "image/png": "[encoded data removed]",
      "text/plain": [
       "<matplotlib.figure.Figure at 0x6264e10>"
      ]
     },
     "metadata": {},
     "output_type": "display_data"
    }
   ],
   "source": [
    "import math\n",
    "import numpy\n",
    "%matplotlib inline\n",
    "from matplotlib.pyplot import plot,ylim,xlabel,ylabel,title,subplot\n",
    "\n",
    "\n",
    "#Variables\n",
    "\n",
    "Vi = 10.0                    #Input a.c. voltage (in volts)\n",
    "\n",
    "#Graph\n",
    "\n",
    "#Positive Clipping\n",
    "subplot(211)\n",
    "k1= numpy.arange(0.0001, 0.500, 0.0005)\n",
    "k2= numpy.arange(0.500, 1.000, 0.0005)\n",
    "k3= numpy.arange(1.000,1.500, 0.0005)\n",
    "k4= numpy.arange(1.500,2.000, 0.0005)\n",
    "m = numpy.arange(-10,10,0.0005)\n",
    "\n",
    "x5=(0.0500*m)/m\n",
    "x10=(0.500*m)/m\n",
    "x15=(1.000*m)/m\n",
    "x25=(1.500*m)/m\n",
    "\n",
    "plot(k1,10*k1/k1,'b')\n",
    "plot(k2,-10*k2/k2,'b')\n",
    "plot(k3,10*k3/k3,'b')\n",
    "plot(k4,-10*k4/k4,'b')\n",
    "plot(x10,m,'b')\n",
    "plot(x15,m,'b')\n",
    "plot(x25,m,'b')\n",
    "\n",
    "ylim( (-12,12) )\n",
    "ylabel('Vo')\n",
    "xlabel('Positive Clipping')\n",
    "title('Output Waveform 1')\n",
    "\n",
    "#Negative Clipping\n",
    "subplot(212)\n",
    "k1= numpy.arange(0.0001, 0.500, 0.0005)\n",
    "k2= numpy.arange(0.500, 1.000, 0.0005)\n",
    "k3= numpy.arange(1.000,1.500, 0.0005)\n",
    "k4= numpy.arange(1.500,2.000, 0.0005)\n",
    "m = numpy.arange(-20,0,0.0005)\n",
    "\n",
    "x5=(0.500*m)/m\n",
    "x10=(0.500*m)/m\n",
    "x15=(1.000*m)/m\n",
    "x25=(1.500*m)/m\n",
    "\n",
    "plot(k1,0*k1/k1,'b')\n",
    "plot(k2,-20*k2/k2,'b')\n",
    "plot(k3,0*k3/k3,'b')\n",
    "plot(k4,-20*k4/k4,'b')\n",
    "plot(x10,m,'b')\n",
    "plot(x15,m,'b')\n",
    "plot(x25,m,'b')\n",
    "\n",
    "ylim( (-22,0) )\n",
    "ylabel('Vo')\n",
    "xlabel('t')\n",
    "title('Output Waveform 2')"
   ]
  }
 ],
 "metadata": {
  "kernelspec": {
   "display_name": "Python 2",
   "language": "python",
   "name": "python2"
  },
  "language_info": {
   "codemirror_mode": {
    "name": "ipython",
    "version": 2
   },
   "file_extension": ".py",
   "mimetype": "text/x-python",
   "name": "python",
   "nbconvert_exporter": "python",
   "pygments_lexer": "ipython2",
   "version": "2.7.10"
  }
 },
 "nbformat": 4,
 "nbformat_minor": 0
}
