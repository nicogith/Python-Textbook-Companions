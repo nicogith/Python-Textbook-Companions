{
 "metadata": {
  "name": "",
  "signature": "sha256:3d2015ac31b05394e05afcfb5c1742d239465e40465a478e82205d7108590d8c"
 },
 "nbformat": 3,
 "nbformat_minor": 0,
 "worksheets": [
  {
   "cells": [
    {
     "cell_type": "heading",
     "level": 1,
     "metadata": {},
     "source": [
      "Chapter 31 , Sinusoidal Oscillators"
     ]
    },
    {
     "cell_type": "heading",
     "level": 2,
     "metadata": {},
     "source": [
      "Example 31.1 , Page Number 787"
     ]
    },
    {
     "cell_type": "code",
     "collapsed": false,
     "input": [
      "import math\n",
      "\n",
      "#Variables\n",
      "\n",
      "fo = 22.0 * 10**3                         #Frequency (in Hertz)\n",
      "C = 2.0 * 10**-9                          #Capacitance (in Farad)\n",
      "\n",
      "#Calculation\n",
      "\n",
      "L = (0.159/fo)**2/C                       #Inductance (in Henry)      \n",
      " \n",
      "#Result\n",
      "\n",
      "print \"Inductance is \",round(L,3),\" H.\""
     ],
     "language": "python",
     "metadata": {},
     "outputs": [
      {
       "output_type": "stream",
       "stream": "stdout",
       "text": [
        "Inductance is  0.026  H.\n"
       ]
      }
     ],
     "prompt_number": 1
    },
    {
     "cell_type": "heading",
     "level": 2,
     "metadata": {},
     "source": [
      "Example 31.2 , Page Number 787"
     ]
    },
    {
     "cell_type": "code",
     "collapsed": false,
     "input": [
      "import math\n",
      "\n",
      "#Variables\n",
      "\n",
      "fo = 2.2 * 10**6                         #Frequency (in Hertz)\n",
      "\n",
      "#Calculation\n",
      "\n",
      "f1o = fo * 2**0.5                        #New frequency (in Hertz) \n",
      "\n",
      "#Result\n",
      "\n",
      "print \"It will work at frequency of \",round(f1o * 10**-6,2),\" MHz when capacitance is reduced by 50%.\""
     ],
     "language": "python",
     "metadata": {},
     "outputs": [
      {
       "output_type": "stream",
       "stream": "stdout",
       "text": [
        "It will work at frequency of  3.11  MHz when capacitance is reduced by 50%.\n"
       ]
      }
     ],
     "prompt_number": 2
    },
    {
     "cell_type": "heading",
     "level": 2,
     "metadata": {},
     "source": [
      "Example 31.3 , Page Number 789"
     ]
    },
    {
     "cell_type": "code",
     "collapsed": false,
     "input": [
      "import math\n",
      "\n",
      "#Variables\n",
      "\n",
      "C = 100.0 * 10**-12                  #Capacitance (in Farad)\n",
      "L1 = 30.0 * 10**-6                   #Inductance1 (in Henry)\n",
      "L2 = 1.0 * 10**-8                    #Inductance2 (in Henry)   \n",
      "\n",
      "#Calculation\n",
      "\n",
      "L = L1 + L2                          #Net inductance (in Henry)\n",
      "fo = 1/(2*math.pi*(L * C)**0.5)      #Frequency of oscillations (in Hertz)\n",
      "\n",
      "#Result\n",
      "\n",
      "print \"Frequency of oscillations is \",round(fo * 10**-6,1),\" MHz,\""
     ],
     "language": "python",
     "metadata": {},
     "outputs": [
      {
       "output_type": "stream",
       "stream": "stdout",
       "text": [
        "Frequency of oscillations is  2.9  MHz,\n"
       ]
      }
     ],
     "prompt_number": 3
    },
    {
     "cell_type": "heading",
     "level": 2,
     "metadata": {},
     "source": [
      "Example 31.4 , Page Number 790"
     ]
    },
    {
     "cell_type": "code",
     "collapsed": false,
     "input": [
      "import math\n",
      "\n",
      "#Variables\n",
      "\n",
      "L1 = 1000.0 * 10**-6                  #Inductance1 (in Henry)\n",
      "L2 = 100.0 * 10**-6                   #Inductance2 (in Henry)\n",
      "M = 20.0 * 10**-6                     #Mutual Inductance (in Henry)\n",
      "C = 20.0 * 10**-12                    #Capacitance (in Farad)                      \n",
      "\n",
      "#Calculation\n",
      "\n",
      "L = L1 + L2 + 2 * M                  #Net inductance (in Henry)\n",
      "fo = 1/(2*math.pi*(L * C)**0.5)      #Frequency of oscillations (in Hertz)\n",
      "\n",
      "#Result\n",
      "\n",
      "print \"Frequency of oscillations is \",round(fo * 10**-6,3),\" MHz,\"\n",
      "\n",
      "#Slight variation due to higher precision."
     ],
     "language": "python",
     "metadata": {},
     "outputs": [
      {
       "output_type": "stream",
       "stream": "stdout",
       "text": [
        "Frequency of oscillations is  1.054  MHz,\n"
       ]
      }
     ],
     "prompt_number": 4
    },
    {
     "cell_type": "heading",
     "level": 2,
     "metadata": {},
     "source": [
      "Example 31.5 , Page Number 790"
     ]
    },
    {
     "cell_type": "code",
     "collapsed": false,
     "input": [
      "import math\n",
      "\n",
      "#Variables\n",
      "\n",
      "C = 1.0 * 10**-9                       #Capacitance (in Farad)\n",
      "L1 = 4.7 * 10**-3                      #Inductance1 (in Henry)\n",
      "L2 = 47.0 * 10**-6                     #Inductance2 (in Henry)\n",
      "\n",
      "#Calculation\n",
      "\n",
      "L = L1 + L2                            #Net inductance (in Henry)\n",
      "fo = 1/(2*math.pi*(L * C)**0.5)        #Frequency of oscillations (in Hertz)\n",
      "\n",
      "#Result\n",
      "\n",
      "print \"Frequency of oscillations is \",round(fo * 10**-3,2),\" kHz,\"\n",
      "\n",
      "#Slight variation due to higher precision."
     ],
     "language": "python",
     "metadata": {},
     "outputs": [
      {
       "output_type": "stream",
       "stream": "stdout",
       "text": [
        "Frequency of oscillations is  73.05  kHz,\n"
       ]
      }
     ],
     "prompt_number": 5
    },
    {
     "cell_type": "heading",
     "level": 2,
     "metadata": {},
     "source": [
      "Example 31.6 , Page Number 791"
     ]
    },
    {
     "cell_type": "code",
     "collapsed": false,
     "input": [
      "import math\n",
      "\n",
      "#Variables\n",
      "\n",
      "L1 = 2.0 * 10**-3                         #Inductance1 (in Henry)\n",
      "L2 = 20.0 * 10**-6                        #Inductance2 (in Henry)\n",
      "fomin = 950.0 * 10**3                     #Frequency minimum (in Hertz)\n",
      "fomax = 2050.0 * 10**3                    #Frequency maximum (in Hertz)\n",
      "\n",
      "#Calculation\n",
      "\n",
      "L = L1 + L2                               #Net inductance (in Henry)\n",
      "C1 = 1.0/(4 * math.pi**2*(L*fomin**2))    #Capacitance1 (in Farad)\n",
      "C2 = 1.0/(4 * math.pi**2*(L*fomax**2))    #Capacitance2 (in Farad)\n",
      "\n",
      "#Result\n",
      "\n",
      "print \"Range of capacitance required is \",round(C2 * 10**12,2),\" pF and \",round(C1 * 10**12,1),\" pF.\""
     ],
     "language": "python",
     "metadata": {},
     "outputs": [
      {
       "output_type": "stream",
       "stream": "stdout",
       "text": [
        "Range of capacitance required is  2.98  pF and  13.9  pF.\n"
       ]
      }
     ],
     "prompt_number": 6
    },
    {
     "cell_type": "heading",
     "level": 2,
     "metadata": {},
     "source": [
      "Example 31.7 , Page Number 792"
     ]
    },
    {
     "cell_type": "code",
     "collapsed": false,
     "input": [
      "import math\n",
      "\n",
      "#Variables\n",
      "  \n",
      "L1 = 0.1 * 10**-3                         #Inductance1 (in Henry)\n",
      "L2 = 10.0 * 10**-6                        #Inductance2 (in Henry)\n",
      "M = 20.0 * 10**-6                         #Mutual Inductance (in Hnery)                          \n",
      "fo = 4110.0 * 10**3                       #Frequency (in Hertz)\n",
      "\n",
      "#Calculation\n",
      "\n",
      "L = L1 + L2 + 2*M                         #Net inductance (in Henry)\n",
      "C = 1.0/(4 * math.pi**2 * L*fo**2)        #Capacitance (in Farad)\n",
      "beta = L2 / L1                            #Feedback ratio\n",
      "Av = 1/beta                               #Voltage gain\n",
      "\n",
      "#Result\n",
      "\n",
      "print \"Capacitance required is \",round(C * 10**12,4),\" pF.\\nVoltage gain for sustained condition is \",Av,\".\"\n",
      "\n",
      "#Calculation error in the value of M used in formula , therefore incorrect value of C."
     ],
     "language": "python",
     "metadata": {},
     "outputs": [
      {
       "output_type": "stream",
       "stream": "stdout",
       "text": [
        "Capacitance required is  9.9969  pF.\n",
        "Voltage gain for sustained condition is  10.0 .\n"
       ]
      }
     ],
     "prompt_number": 7
    },
    {
     "cell_type": "heading",
     "level": 2,
     "metadata": {},
     "source": [
      "Example 31.8 , Page Number 793"
     ]
    },
    {
     "cell_type": "code",
     "collapsed": false,
     "input": [
      "import math\n",
      "\n",
      "#Variables\n",
      "\n",
      "C1 = 0.001 * 10**-6                      #Capacitance (in Farad)                         \n",
      "C2 = 0.01 * 10**-6                       #Capacitance (in Farad)\n",
      "L = 5.0 * 10**-6                         #Inductance (in Henry) \n",
      "\n",
      "#Calculation\n",
      "\n",
      "Av = C2 / C1                             #Voltage gain\n",
      "C = C1 * C2 / (C1 + C2)                  #Net capacitance (in Farad)\n",
      "fo = 1 /(2*math.pi*(L * C)**0.5)         #Frequency (in Hertz) \n",
      "\n",
      "#Result\n",
      "\n",
      "print \"Required voltage gain is \",Av,\".\\nFrequency of oscillation is \",round(fo * 10**-6,2),\" Mhz.\"\n",
      "\n",
      "#Slight variation due to higher precision."
     ],
     "language": "python",
     "metadata": {},
     "outputs": [
      {
       "output_type": "stream",
       "stream": "stdout",
       "text": [
        "Required voltage gain is  10.0 .\n",
        "Frequency of oscillation is  2.36  Mhz.\n"
       ]
      }
     ],
     "prompt_number": 8
    },
    {
     "cell_type": "heading",
     "level": 2,
     "metadata": {},
     "source": [
      "Example 31.9 , Page Number 793"
     ]
    },
    {
     "cell_type": "code",
     "collapsed": false,
     "input": [
      "import math\n",
      "\n",
      "#Variables\n",
      "\n",
      "C1 = 0.1 * 10**-6                   #Capacitance (in Farad)\n",
      "C2 = 1.0 * 10**-6                   #Capacitance (in Farad)\n",
      "L = 470.0 * 10**-6                  #Inductance (in Henry)  \n",
      "\n",
      "#Calculation\n",
      "\n",
      "C = C1 * C2/ (C1 + C2)              #Net capacitance (in Farad)     \n",
      "fo = 1 /(2*math.pi*(L * C)**0.5)    #Frequency (in Hertz) \n",
      "\n",
      "#Result\n",
      "\n",
      "print \"Frequency of oscillation is \",round(fo * 10**-3,2),\" kHz.\"\n",
      "\n",
      "#Slight variation due to higher precision"
     ],
     "language": "python",
     "metadata": {},
     "outputs": [
      {
       "output_type": "stream",
       "stream": "stdout",
       "text": [
        "Frequency of oscillation is  24.35  kHz.\n"
       ]
      }
     ],
     "prompt_number": 9
    },
    {
     "cell_type": "heading",
     "level": 2,
     "metadata": {},
     "source": [
      "Example 31.10 , Page Number 794"
     ]
    },
    {
     "cell_type": "code",
     "collapsed": false,
     "input": [
      "import math\n",
      "\n",
      "#Variables\n",
      "\n",
      "C1 = 100.0 * 10**-12                    #Capacitance (in Farad)\n",
      "C2 = 7500.0 * 10**-12                   #Capacitance (in Farad)\n",
      "fomin = 950.0 * 10**3                   #Frequency minimum (in Hertz)\n",
      "fomax = 2050.0 * 10**3                  #Frequency maximum (in Hertz)\n",
      "\n",
      "#Calculation\n",
      "\n",
      "C = C1 * C2/ (C1 + C2)                  #Net capacitance (in Farad)     \n",
      "L1 = 1.0/(4 * math.pi**2*(C*fomin**2))  #Inductance1 (in Henry)\n",
      "L2 = 1.0/(4 * math.pi**2*(C*fomax**2))  #Inductance2 (in Henry)\n",
      "\n",
      "#Result\n",
      "\n",
      "print \"The range of inductance required is from \",round(L2 * 10**6),\" micro-Henry to \",round(L1 * 10**6),\" micro-Henry.\""
     ],
     "language": "python",
     "metadata": {},
     "outputs": [
      {
       "output_type": "stream",
       "stream": "stdout",
       "text": [
        "The range of inductance required is from  61.0  micro-Henry to  284.0  micro-Henry.\n"
       ]
      }
     ],
     "prompt_number": 10
    },
    {
     "cell_type": "heading",
     "level": 2,
     "metadata": {},
     "source": [
      "Example 31.11 , Page Number 795"
     ]
    },
    {
     "cell_type": "code",
     "collapsed": false,
     "input": [
      "import math\n",
      "\n",
      "#Variables\n",
      "\n",
      "fo = 450.0 * 10**3                #Frequency(in Hertz)\n",
      "#Let us assume \n",
      "C1 = C2 = C = 10.0 * 10**-6       #Capacitance (in Farad)\n",
      "C21 = 2 * C2                      #Capacitance (in Farad)  \n",
      "\n",
      "#Calculation\n",
      "\n",
      "fo1 = fo * (3.0/4.0)**0.5         #New Frequency (in Hertz)                 \n",
      "\n",
      "#Result\n",
      "\n",
      "print \"The oscillation frequency if C2 is doubled is \",round(fo1 * 10**-3,1),\" kHz.\""
     ],
     "language": "python",
     "metadata": {},
     "outputs": [
      {
       "output_type": "stream",
       "stream": "stdout",
       "text": [
        "The oscillation frequency if C2 is doubled is  389.7  kHz.\n"
       ]
      }
     ],
     "prompt_number": 8
    },
    {
     "cell_type": "heading",
     "level": 2,
     "metadata": {},
     "source": [
      "Example 31.12 , Page Number 796"
     ]
    },
    {
     "cell_type": "code",
     "collapsed": false,
     "input": [
      "import math\n",
      "\n",
      "#Variables\n",
      "\n",
      "C1 = 0.1 * 10**-6                   #Capacitance (in Farad)\n",
      "C2 = 1.0 * 10**-6                   #Capacitance (in Farad)    \n",
      "C3 = 100.0 * 10**-12                #Capacitance (in Farad)\n",
      "L = 470.0 * 10**-6                  #Inductance (in Henry)\n",
      "\n",
      "#Calculation\n",
      "\n",
      "C = (1.0/C1 + 1.0/C2 +1.0/C3)**-1   #Capacitance (in Farad)    \n",
      "fo = 1/(2*math.pi *(L*C)**0.5)      #Frequency (in Hertz)\n",
      "\n",
      "#Result\n",
      "\n",
      "print \"Frequency of oscillation is \",round(fo * 10**-3,1),\" kHz.\""
     ],
     "language": "python",
     "metadata": {},
     "outputs": [
      {
       "output_type": "stream",
       "stream": "stdout",
       "text": [
        "Frequency of oscillation is  734.5  kHz.\n"
       ]
      }
     ],
     "prompt_number": 12
    },
    {
     "cell_type": "heading",
     "level": 2,
     "metadata": {},
     "source": [
      "Example 31.13 , Page Number 799"
     ]
    },
    {
     "cell_type": "code",
     "collapsed": false,
     "input": [
      "import math\n",
      "\n",
      "#Variables\n",
      "\n",
      "L = 0.33                       #Inductance (in Henry)\n",
      "C1 = 0.065 * 10**-12           #Capacitance (in Farad)  \n",
      "C2 = 1.0 * 10**-12             #Capacitance (in Farad)\n",
      "R = 5.5 * 10**3                #Resistance (in ohm)              \n",
      "\n",
      "#Calculation\n",
      "\n",
      "fs = 1/(2*math.pi*(L*C1)**0.5) #Series Resonant frequency (in Hertz)\n",
      "Qfactor = 2*math.pi*fs*L/R     #Q-factor\n",
      "\n",
      "#Result\n",
      "\n",
      "print \"Series resonant frequency is \",round(fs * 10**-6,2),\" MHz.\\nQ-factor of the crystal is \",round(Qfactor,1),\".\"\n",
      "\n",
      "#Slight variation due to higher precision"
     ],
     "language": "python",
     "metadata": {},
     "outputs": [
      {
       "output_type": "stream",
       "stream": "stdout",
       "text": [
        "Series resonant frequency is  1.09  MHz.\n",
        "Q-factor of the crystal is  409.7 .\n"
       ]
      }
     ],
     "prompt_number": 13
    },
    {
     "cell_type": "heading",
     "level": 2,
     "metadata": {},
     "source": [
      "Example 31.14 , Page Number 802"
     ]
    },
    {
     "cell_type": "code",
     "collapsed": false,
     "input": [
      "import math\n",
      "\n",
      "#Variables\n",
      "\n",
      "gm = 5000.0 * 10**-6                    #Transconductance (in mho)\n",
      "rd = 40.0 * 10**3                       #Resistance (in ohm)\n",
      "R = 10.0 * 10**3                        #Resistance (in ohm)\n",
      "fo = 1.0 * 10**3                        #Frequency (in Hertz) \n",
      "Av = 40.0                               #Voltage gain\n",
      "\n",
      "#Calculation\n",
      "\n",
      "C = 1/(2*math.pi*(R)*6**0.5*fo)         #Capacitance (in Farad)\n",
      "rL = Av / gm                            #a.c. load resistance (in ohm)     \n",
      "RD = (rL * rd)/(rd-rL)                  #Drain resistance (in ohm)\n",
      "\n",
      "#Result\n",
      "\n",
      "print \"Value of capacitor is \",round(C* 10**6,5),\" micro-Farad.\"\n",
      "print \"Value of drain resistance is \",RD * 10**-3,\" kilo-ohm.\""
     ],
     "language": "python",
     "metadata": {},
     "outputs": [
      {
       "output_type": "stream",
       "stream": "stdout",
       "text": [
        "Value of capacitor is  0.0065  micro-Farad.\n",
        "Value of drain resistance is  10.0  kilo-ohm.\n"
       ]
      }
     ],
     "prompt_number": 14
    },
    {
     "cell_type": "heading",
     "level": 2,
     "metadata": {},
     "source": [
      "Example 31.15 , Page Number 803"
     ]
    },
    {
     "cell_type": "code",
     "collapsed": false,
     "input": [
      "import math\n",
      "\n",
      "#Variables\n",
      "\n",
      "fo = 2.0 * 10**3                   #Frequency (in Hertz)\n",
      "mu = 50.0                          #Amplification factor   \n",
      "rd = 5.0 * 10**3                   #Resistance (in ohm)                  \n",
      "Av = 40.0                          #Voltage gain\n",
      "R = 10.0 * 10**3                   #Resistance (in ohm)        \n",
      "\n",
      "#Calculation\n",
      "\n",
      "gm = mu / rd                       #Transconductance (in mho)\n",
      "rL = Av/ gm                        #a.c. load resistance (in ohm) \n",
      "RD = (rL * rd)/(rd-rL)             #Drain resistance (in ohm)\n",
      "RC = 0.065/(fo)                    #RC product (in second)\n",
      "C = RC / R                         #Capacitance (in Farad) \n",
      "\n",
      "#Result\n",
      "\n",
      "print \"Maximum value of RD is \",RD * 10**-3,\" kilo-ohm.\\nValue of the RC product is \",RC,\" s.\\nValue of R is \",R * 10**-3,\" kilo-ohm.\\nValue of C is \",C * 10**9,\" nF.\" "
     ],
     "language": "python",
     "metadata": {},
     "outputs": [
      {
       "output_type": "stream",
       "stream": "stdout",
       "text": [
        "Maximum value of RD is  20.0  kilo-ohm.\n",
        "Value of the RC product is  3.25e-05  s.\n",
        "Value of R is  10.0  kilo-ohm.\n",
        "Value of C is  3.25  nF.\n"
       ]
      }
     ],
     "prompt_number": 15
    },
    {
     "cell_type": "heading",
     "level": 2,
     "metadata": {},
     "source": [
      "Example 31.18 , Page Number 807"
     ]
    },
    {
     "cell_type": "code",
     "collapsed": false,
     "input": [
      "import math\n",
      "\n",
      "#Variables\n",
      "\n",
      "fo = 2.0 * 10**3                                #Frequency (in Hertz)\n",
      "hie = 2.0 * 10**3                               #hie (in ohm)\n",
      "R1 = 20.0 * 10**3                               #Resistance (in ohm)\n",
      "R2 = 80.0 * 10**3                               #Resistance (in ohm)\n",
      "RC = 10.0 * 10**3                               #Collector Resistance (in ohm)\n",
      "R = 8.0 * 10**3                                 #Resistance (in ohm)\n",
      "\n",
      "#Calculation\n",
      "\n",
      "C = 1/(2*math.pi*R)*(1/(6 + 4*RC/R)**0.5)/fo    #Capacitance (in Farad)\n",
      "hfe = 23 + 29 * R/RC + 4* RC /R                 #Current gain \n",
      "Ri = (1/R1 + 1/R2 + 1/hie)**-1                  #Input resistance (in ohm)\n",
      "R3 = R - Ri                                     #Feedback resitor (in ohm)\n",
      "\n",
      "#Result\n",
      "\n",
      "print \"Value of capacaitor C is \",round(C * 10**6,3),\" micro-Farad.\\nValue of transistor gain is hfe >= \",hfe,\".\\nValue of feedback resistor R3 is \",round(R3 * 10**-3,1),\" kilo-ohm.\""
     ],
     "language": "python",
     "metadata": {},
     "outputs": [
      {
       "output_type": "stream",
       "stream": "stdout",
       "text": [
        "Value of capacaitor C is  0.003  micro-Farad.\n",
        "Value of transistor gain is hfe >=  51.2 .\n",
        "Value of feedback resistor R3 is  6.2  kilo-ohm.\n"
       ]
      }
     ],
     "prompt_number": 16
    },
    {
     "cell_type": "heading",
     "level": 2,
     "metadata": {},
     "source": [
      "Example 31.19 , Page Number 809"
     ]
    },
    {
     "cell_type": "code",
     "collapsed": false,
     "input": [
      "import math\n",
      "\n",
      "#Variables\n",
      "\n",
      "fo = 10.0 * 10**3                        #Frequency (in Hertz)\n",
      "R = 100.0 * 10**3                        #Resistance (in ohm) \n",
      "\n",
      "#Calculation\n",
      "\n",
      "C = 1/(2*math.pi*R*fo)                   #Capacitance (in Farad) \n",
      "\n",
      "#Result\n",
      "\n",
      "print \"Value of the capacitor C is \",round(C * 10**12),\" pico-Farad.\""
     ],
     "language": "python",
     "metadata": {},
     "outputs": [
      {
       "output_type": "stream",
       "stream": "stdout",
       "text": [
        "Value of the capacitor C is  159.0  pico-Farad.\n"
       ]
      }
     ],
     "prompt_number": 17
    }
   ],
   "metadata": {}
  }
 ]
}