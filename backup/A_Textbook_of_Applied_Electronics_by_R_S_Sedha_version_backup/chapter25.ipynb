{
 "metadata": {
  "name": "",
  "signature": "sha256:4029aa712a09fc12ed238727e69e568e1d1aadee47eaef63bc86ef0b7bc7335e"
 },
 "nbformat": 3,
 "nbformat_minor": 0,
 "worksheets": [
  {
   "cells": [
    {
     "cell_type": "heading",
     "level": 1,
     "metadata": {},
     "source": [
      "Chapter 25 , Hybrid Parameters"
     ]
    },
    {
     "cell_type": "heading",
     "level": 2,
     "metadata": {},
     "source": [
      "Example 25.1 , Page Number 626"
     ]
    },
    {
     "cell_type": "code",
     "collapsed": false,
     "input": [
      "#Variables\n",
      "\n",
      "R1 = 6.0                     #Resistance (in ohm)\n",
      "R2 = 4.0                     #Resistance (in ohm)\n",
      "R3 = 4.0                     #Resistance (in ohm)\n",
      "\n",
      "#Calculation\n",
      "#Let i1 = 10 A and v2 = 10 V.\n",
      "i1 = 10.0                    #Assumed current (in Ampere)  \n",
      "v2 = 10.0                    #Assumed voltage (in volts)\n",
      "#Parameters h11 and h21\n",
      "\n",
      "h11 = R1 + R2 * R3/(R2 + R3) #Input resistance looking from the input terminals (in ohm)\n",
      "i2 = -i1 / 2                 #Current2 (in Ampere)\n",
      "h21 = i2/i1                  #h21\n",
      "\n",
      "#Parameters h12 and h22\n",
      "\n",
      "v1 = v2/2                    #Voltage1 (in volts)   \n",
      "h12 = v1 / v2                #h12\n",
      "rnet = R2 + R3               #Output resistance (in ohm)  \n",
      "h22 = 1/rnet                 #h22 (in mhos)\n",
      "\n",
      "#Result\n",
      "\n",
      "print \"h11 : \",h11,\"\\nh21 : \",h21,\"\\nh12 : \",h12,\"\\nh22 : \",h22"
     ],
     "language": "python",
     "metadata": {},
     "outputs": [
      {
       "output_type": "stream",
       "stream": "stdout",
       "text": [
        "h11 :  8.0 \n",
        "h21 :  -0.5 \n",
        "h12 :  0.5 \n",
        "h22 :  0.125\n"
       ]
      }
     ],
     "prompt_number": 1
    },
    {
     "cell_type": "heading",
     "level": 2,
     "metadata": {},
     "source": [
      "Example 25.2 , Page Number 635"
     ]
    },
    {
     "cell_type": "code",
     "collapsed": false,
     "input": [
      "#Variables\n",
      "\n",
      "hie = 1.0 * 10**3                      #hie (in ohm)\n",
      "hre = 1.0 * 10**-4                     #hre\n",
      "hoe = 100.0 * 10**-6                   #hoe (in mho)\n",
      "RC = 1.0 * 10**3                       #Collector resistance (in ohm) \n",
      "RS = 1000.0                            #Source resistance (in ohm)\n",
      "hfe = beta = 50.0                      #Common emitter current gain          \n",
      "\n",
      "#Calculation\n",
      "\n",
      "rL = RC                                #a.c. load resistance (in ohm)\n",
      "Ai = -hfe /(1 + hoe * rL)              #Current gain of a transistor\n",
      "Ri = hie + hre * Ai * rL               #Input resistance looking directly into the base (in ohm)\n",
      "Ris = Ri                               #Iput resistance of the amplified stage (in ohm)\n",
      "dh = hie * hoe - hre * hfe             #Change in h\n",
      "Ro = (RS + hie)/(RS * hoe + dh)        #Output resistance looking directly into collector (in ohm)\n",
      "Ros = Ro * rL /(Ro + rL)               #Output resistance of the amplified stage (in ohm)\n",
      "Ais = Ai * RS / (RS + Ris)             #Current gain of amplified stage\n",
      "Av = Ai * rL / Ri                      #Voltage gain of transistor     \n",
      "Avs = Av * Ris / (RS + Ris)            #Voltage gain of amplified stage   \n",
      "\n",
      "#Result\n",
      "\n",
      "print \"Input resistance of the amplifier stage is \",round(Ris),\" ohm.\\nOutput resistance of amplifier stage is \",round(Ros),\" ohm.\\nCurrent gain of amplified stage is \",round(Ais,1),\"\\nVoltage gain of amplifier stage is \",round(Avs,1),\".\""
     ],
     "language": "python",
     "metadata": {},
     "outputs": [
      {
       "output_type": "stream",
       "stream": "stdout",
       "text": [
        "Input resistance of the amplifier stage is  995.0  ohm.\n",
        "Output resistance of amplifier stage is  911.0  ohm.\n",
        "Current gain of amplified stage is  -22.8 \n",
        "Voltage gain of amplifier stage is  -22.8 .\n"
       ]
      }
     ],
     "prompt_number": 2
    },
    {
     "cell_type": "heading",
     "level": 2,
     "metadata": {},
     "source": [
      "Example 25.3 , Page Number 637"
     ]
    },
    {
     "cell_type": "code",
     "collapsed": false,
     "input": [
      "#Variables\n",
      "\n",
      "hie = 1.1 * 10**3                      #hie (in ohm)\n",
      "hre = 2.5 * 10**-4                     #hre\n",
      "hoe = 25.0 * 10**-6                    #hoe (in mho)\n",
      "RS = 1000.0                            #Source resistance (in ohm)\n",
      "hfe = beta = 50.0                      #Common emitter current gain  \n",
      "rL = 1000.0                            #ac.c load resistance (in ohm)\n",
      "\n",
      "#Calculation\n",
      "\n",
      "Ai = hfe /(1 + hoe * rL)               #Current gain of a transistor\n",
      "Ri = hie + hre * Ai * rL               #Input impedance (in ohm)\n",
      "Av = Ai * rL / Ri                      #Voltage gain                   \n",
      "\n",
      "#Result\n",
      "\n",
      "print \"Current gain is \",round(Ai,2),\"\\nInput impedance is \",round(Ri,1),\"\\nVoltage gain is \",round(Av,2)"
     ],
     "language": "python",
     "metadata": {},
     "outputs": [
      {
       "output_type": "stream",
       "stream": "stdout",
       "text": [
        "Current gain is  48.78 \n",
        "Input impedance is  1112.2 \n",
        "Voltage gain is  43.86\n"
       ]
      }
     ],
     "prompt_number": 3
    },
    {
     "cell_type": "heading",
     "level": 2,
     "metadata": {},
     "source": [
      "Example 25.4 , Page Number 639"
     ]
    },
    {
     "cell_type": "code",
     "collapsed": false,
     "input": [
      "#Variables\n",
      "\n",
      "RC = 4.0 * 10**3              #Collector resistance (in ohm)\n",
      "RB = 40.0 * 10**3             #Base resistance (in ohm)\n",
      "RS = 10.0 * 10**3             #Source resistance (in ohm)\n",
      "hie = 1100.0                  #hie (in ohm)\n",
      "hfe = 50.0                    #hfe\n",
      "hre = hoe = dh = 0            #hre and hoe\n",
      "\n",
      "#Calculation\n",
      "\n",
      "RB2 = RB                      #Resistance (in kilo-ohm) \n",
      "rL = RC * RB2 /(RC +RB2)      #a.c. load resistance (in ohm)\n",
      "Ai = -hfe                     #Current gain\n",
      "Ri = hie                      #Input resistance of the amplifier looking into the base (in ohm) \n",
      "Av = Ai * rL / Ri             #Voltage gain\n",
      "RB1 = RB/(1 - Av)             #Resistance (in ohm)\n",
      "Ris = Ri * RB1 / (Ri + RB1)   #Input resistance  looking from source terminals (in ohm)\n",
      "Ro = \"infinite\"               #Output resistance (in ohm)\n",
      "Ros = rL                      #Output resistance of the stage (in ohm)\n",
      "Avs = Av * Ris / (RS + Ris)   #Voltage gain of the stage \n",
      "\n",
      "#Result\n",
      "\n",
      "print \"Voltage gain is \",round(Avs,1),\".\\nInput resistance is \",round(Ris),\" ohm.\\nOutput resistance is \",round(Ros),\" ohm.\"\n",
      "\n",
      "#Slight variation due to higher precision."
     ],
     "language": "python",
     "metadata": {},
     "outputs": [
      {
       "output_type": "stream",
       "stream": "stdout",
       "text": [
        "Voltage gain is  -3.2 .\n",
        "Input resistance is  197.0  ohm.\n",
        "Output resistance is  3636.0  ohm.\n"
       ]
      }
     ],
     "prompt_number": 4
    },
    {
     "cell_type": "heading",
     "level": 2,
     "metadata": {},
     "source": [
      "Example 25.5 , Page Number 640"
     ]
    },
    {
     "cell_type": "code",
     "collapsed": false,
     "input": [
      "#Variables\n",
      "\n",
      "hie = 1.1 * 10**3                       #hie (in ohm)\n",
      "hre = 2.5 * 10**-4                      #hre\n",
      "hoe = 25.0 * 10**-6                     #hoe (in mho)\n",
      "RS = 10000.0                            #Source resistance (in ohm)\n",
      "hfe = beta = 50.0                       #Common emitter current gain  \n",
      "rL = 1000.0                             #ac.c load resistance (in ohm)\n",
      "RB = 200.0 * 10**3                      #Feedback resistor (in ohm)\n",
      "RC = 5.0 * 10**3                        #Collector resistance (in ohm)\n",
      "\n",
      "#Calculation\n",
      "\n",
      "rL = RC * RB / (RC + RB)                #a.c. load resistance (in ohm) \n",
      "Ai = hfe /(1 + hoe * rL)                #Current gain\n",
      "Ri = hie + hre * Ai * rL                #Input resistance of the amplifier looking into the base (in ohm) \n",
      "Av = Ai * rL / Ri                       #Voltage gain\n",
      "RB1 = RB/(1 - (-17.4))                    #Resistance (in ohm)\n",
      "Ris = Ri * RB1 / (Ri + RB1)             #Input resistance  looking from source terminals (in ohm)\n",
      "Avs = Av * Ris / (RS + Ris)             #Voltage gain of the stage \n",
      "\n",
      "#Result\n",
      "\n",
      "print \"Ai is \",round(Ai,2),\"\\nAv is \",round(Av,2),\"\\nAvs is \",round(Avs,1),\"\\nRi is \",round(Ri*10**-3,3),\" kilo-ohm.\""
     ],
     "language": "python",
     "metadata": {},
     "outputs": [
      {
       "output_type": "stream",
       "stream": "stdout",
       "text": [
        "Ai is  44.57 \n",
        "Av is  188.32 \n",
        "Avs is  17.8 \n",
        "Ri is  1.154  kilo-ohm.\n"
       ]
      }
     ],
     "prompt_number": 1
    },
    {
     "cell_type": "heading",
     "level": 2,
     "metadata": {},
     "source": [
      "Example 25.6 , Page Number 643"
     ]
    },
    {
     "cell_type": "code",
     "collapsed": false,
     "input": [
      "#Variables\n",
      "\n",
      "hib = 28.0                   #hib (in ohm)\n",
      "hfb = -0.98                  #hfb\n",
      "hrb = 5.0 * 10**-4           #hrb\n",
      "hob = 0.34 * 10**-6          #hoh (in Siemen)\n",
      "rL = 1.2 * 10**3             #a.c. load resistance (in ohm)\n",
      "RS = 0.0                     #Source resistance (in ohm)\n",
      "\n",
      "#Calculation\n",
      "\n",
      "Ai = -(hfb/(1 + hob * rL))   #Current gain\n",
      "Ri = hib + hrb * Ai * rL     #Input resistance (in ohm)\n",
      "dh = hib * hob - hrb * hfb   #change in h\n",
      "Ro = (RS + hib)/(RS*hib + dh)#Output resistance (in ohm)\n",
      "Av = Ai * rL / Ri            #Voltage gain\n",
      "\n",
      "#Result\n",
      "\n",
      "print \"The value of input resistance is \",round(Ri,1),\" ohm.\\nThe value of output resistance is \",round(Ro * 10**-3),\" kilo-ohm.\\nThe value of current gain is \",round(Ai,2),\" .\\nThe value of voltage gain is \",round(Av),\" .\""
     ],
     "language": "python",
     "metadata": {},
     "outputs": [
      {
       "output_type": "stream",
       "stream": "stdout",
       "text": [
        "The value of input resistance is  28.6  ohm.\n",
        "The value of output resistance is  56.0  kilo-ohm.\n",
        "The value of current gain is  0.98  .\n",
        "The value of voltage gain is  41.0  .\n"
       ]
      }
     ],
     "prompt_number": 6
    },
    {
     "cell_type": "heading",
     "level": 2,
     "metadata": {},
     "source": [
      "Example 25.7 , Page Number 644"
     ]
    },
    {
     "cell_type": "code",
     "collapsed": false,
     "input": [
      "#Variables\n",
      "\n",
      "hic = 2.0 * 10**3                           #hic (in ohm)\n",
      "hfc = -51.0                                 #hfe\n",
      "hrc = 1.0                                   #hrc\n",
      "hoc = 25.0 * 10**-6                         #hoc (in mho)\n",
      "rL = RE = 5.0 * 10**3                       #a.c. load resistance (in ohm)\n",
      "RS = 1.0 * 10**3                            #Source resistance (in ohm)\n",
      "R1 = R2 = 10.0 * 10**3                      #Resistance (in ohm)\n",
      "\n",
      "#Calculation\n",
      "\n",
      "Ai = -hfc / (1 + hoc * rL)                  #Current gain\n",
      "Ri = hic + hrc * Ai * rL                    #Input resistance (in ohm)\n",
      "Ris = (R1*R2*Ri)/(Ri*R1 + Ri*R2 + R1*R2)    #Input resistance of the amplified stage (in ohm)\n",
      "Ro = -(RS + hic)/hfc                        #Output resistance (in ohm)\n",
      "Ros = Ro * RE / (Ro + RE)                   #Input resistance of the amplified stage (in ohm)\n",
      "Ais = Ai * RS / (RS + Ris)                  #Current gain of amplified stage \n",
      "Av = Ai * rL / Ri                           #Voltage gain\n",
      "Avs = Av * Ris / (RS + Ris)                 #Voltage gain of amplified stage \n",
      "\n",
      "#Result\n",
      "\n",
      "print \"The value of input resistance of amplified stage is \",round(Ris),\" ohm.\\nThe value of output resistance of amplified stage is \",round(abs(Ros),1),\" kilo-ohm.\\nThe value of current gain of amplified stage is \",round(Ais,1),\" .\\nThe value of voltage gain of amplified stage is \",round(Avs,3),\" .\"\n",
      "\n",
      "#Slight variation due to higher precision."
     ],
     "language": "python",
     "metadata": {},
     "outputs": [
      {
       "output_type": "stream",
       "stream": "stdout",
       "text": [
        "The value of input resistance of amplified stage is  4893.0  ohm.\n",
        "The value of output resistance of amplified stage is  58.1  kilo-ohm.\n",
        "The value of current gain of amplified stage is  7.7  .\n",
        "The value of voltage gain of amplified stage is  0.823  .\n"
       ]
      }
     ],
     "prompt_number": 7
    },
    {
     "cell_type": "heading",
     "level": 2,
     "metadata": {},
     "source": [
      "Example 25.8 , Page Number 646"
     ]
    },
    {
     "cell_type": "code",
     "collapsed": false,
     "input": [
      "#Variables\n",
      "\n",
      "hie = 1500.0                                #hie (in ohm)\n",
      "hfe = 50.0                                  #hfe\n",
      "hre = 50.0 * 10**-4                         #hre\n",
      "hoe = 20.0 * 10**-6                         #hoe\n",
      "R1 = 20.0 * 10**3                           #Resistance (in ohm)\n",
      "R2 = 10.0 * 10**3                           #Resistance (in ohm)\n",
      "RC = 5.0 * 10**3                            #Collector resistance (in ohm)  \n",
      "RE = 1.0 * 10**3                            #Emitter resistance (in ohm)\n",
      "RL = 10.0 * 10**3                           #Load resistance (in ohm)  \n",
      "RS = 0                                      #Source resistance (in ohm)\n",
      "\n",
      "#Calculation\n",
      "\n",
      "Ai = -hfe\n",
      "rL = RC * RL /(RC + RL)                     #a.c. load resistance (in ohm)\n",
      "Ri = hie                                    #Input resistance (in ohm)\n",
      "Ris = (R1*R2*Ri)/(Ri*R1 + Ri*R2 + R1*R2)    #Input resistance of the amplified stage (in ohm)\n",
      "Ro = 1 / hoe                                #Output resistance (in ohm)\n",
      "Ros = Ro * rL /(Ro + rL)                    #Output resistance of the stage (in ohm)\n",
      "Av = Ai * rL / Ri                           #Voltage gain\n",
      "Avs = Av * Ris / (RS + Ris)                 #Voltage gain of the stage \n",
      "Ais = Ai                                    #Current gain of the stage\n",
      "\n",
      "#Result\n",
      "\n",
      "print \"Input resistance of the stage is \",round(Ris * 10**-3,2),\" kilo-ohm.\\nOutput resistance of the stage is \",round(Ros * 10**-3,1),\" kilo-ohm.\\nVoltage gain of the stage is \",round(Avs),\" .\\nCurrent gain of the stage is \",Ai,\" .\"\n",
      "\n",
      "#Slight variation due to higher precision."
     ],
     "language": "python",
     "metadata": {},
     "outputs": [
      {
       "output_type": "stream",
       "stream": "stdout",
       "text": [
        "Input resistance of the stage is  1.22  kilo-ohm.\n",
        "Output resistance of the stage is  3.1  kilo-ohm.\n",
        "Voltage gain of the stage is  -111.0  .\n",
        "Current gain of the stage is  -50.0  .\n"
       ]
      }
     ],
     "prompt_number": 8
    },
    {
     "cell_type": "heading",
     "level": 2,
     "metadata": {},
     "source": [
      "Example 25.9 , Page Number 647"
     ]
    },
    {
     "cell_type": "code",
     "collapsed": false,
     "input": [
      "#Variables\n",
      "\n",
      "RC = 12.0 * 10**3                       #Collector resistance (in ohm)\n",
      "RL = 4.7 * 10**3                        #Load resistance (in ohm) \n",
      "R1 = 33.0 * 10**3                       #Resistance (in ohm)\n",
      "R2 = 4.7 * 10**3                        #Resistance (in ohm)\n",
      "IC = 1.0 * 10**-3                       #Collector current (in Ampere)\n",
      "hiemin = 1.0 * 10**3                    #hie minimum (in ohm)\n",
      "hiemax = 5.0 * 10**3                    #hie maximum (in ohm)\n",
      "hfemin = 70.0                           #Current gain minimum\n",
      "hfemax = 350.0                          #Current gain maximum\n",
      "\n",
      "#Calculation\n",
      "\n",
      "hie = (hiemin * hiemax)**0.5            #hie (in ohm)\n",
      "hfe = (hfemin * hfemax)**0.5            #current gain \n",
      "Ri = hie                                #input resistance (in ohm)\n",
      "Ris = (R1*R2*Ri)/(Ri*R1+Ri*R2+R1*R2)    #Input resistance of the amplified stage (in ohm)\n",
      "Ai = hfe                                #Current gain of transistor\n",
      "rL = RC * RL / (RC + RL)                #a.c. load resistance (in ohm)\n",
      "Avs = Av = Ai*rL / Ri                   #overall voltage gain\n",
      "\n",
      "#Result\n",
      "\n",
      "print \"Input impedance is \",round(Ris * 10**-3,2),\" kilo-ohm.\\nOverall voltage gain is \",round(Avs,1),\".\"\n",
      "\n",
      "#Calculation error in book for hfe."
     ],
     "language": "python",
     "metadata": {},
     "outputs": [
      {
       "output_type": "stream",
       "stream": "stdout",
       "text": [
        "Input impedance is  1.45  kilo-ohm.\n",
        "Overall voltage gain is  236.4 .\n"
       ]
      }
     ],
     "prompt_number": 9
    },
    {
     "cell_type": "heading",
     "level": 2,
     "metadata": {},
     "source": [
      "Example 25.10 , Page Number 648"
     ]
    },
    {
     "cell_type": "code",
     "collapsed": false,
     "input": [
      "#Variables\n",
      "\n",
      "RB = 330.0 * 10**3                    #Base resistance (in ohm)\n",
      "RC = 2.7 * 10**3                      #Collector resistance (in ohm)    \n",
      "hfe = 120.0                           #current gain\n",
      "hie = 1.175 * 10**3                   #hie (in ohm)\n",
      "hoe = 20 * 10**-6                     #hoe (in Ampere per volt)\n",
      "\n",
      "#Calculation\n",
      "\n",
      "Ri = hie                              #Input resistance of transistor (in ohm)\n",
      "Ris = hie * RB /(hie + RB)            #Input resistance of the circuit (in ohm)\n",
      "Ro = 1 / hoe                          #Output resistance of transistor (in ohm)\n",
      "Ros = Ro * RC / (Ro + RC)             #Output resistance of the circuit (in ohm)\n",
      "Ai = hfe                              #Current gain of the circuit\n",
      "Avs = Ai * RC / Ri                    #Overall voltage gain  \n",
      "\n",
      "#Result\n",
      "\n",
      "print \"Input resistance of the circuit is \",round(Ris * 10**-3,2),\" kilo-ohm.\\nOutput resistance of the circuit is \",round(Ros * 10**-3,2),\" kilo-ohm.\\nCurrent gain of the circuit is \",Ai,\".\\nVoltage gain of the circuit is \",round(Avs,1),\".\""
     ],
     "language": "python",
     "metadata": {},
     "outputs": [
      {
       "output_type": "stream",
       "stream": "stdout",
       "text": [
        "Input resistance of the circuit is  1.17  kilo-ohm.\n",
        "Output resistance of the circuit is  2.56  kilo-ohm.\n",
        "Current gain of the circuit is  120.0 .\n",
        "Voltage gain of the circuit is  275.7 .\n"
       ]
      }
     ],
     "prompt_number": 10
    },
    {
     "cell_type": "heading",
     "level": 2,
     "metadata": {},
     "source": [
      "Example 25.11 , Page Number 649"
     ]
    },
    {
     "cell_type": "code",
     "collapsed": false,
     "input": [
      "#Variables\n",
      "\n",
      "hfe = 50.0                  #Current gain\n",
      "\n",
      "#Calculation\n",
      "\n",
      "hfb = -hfe / (1 + hfe)      #hfb\n",
      "hfc = -(1 + hfe)            #hfc  \n",
      "\n",
      "#Result\n",
      "\n",
      "print \"Value of hfb = \",round(hfb,2),\".\\nValue of hfc = \",hfc,\".\""
     ],
     "language": "python",
     "metadata": {},
     "outputs": [
      {
       "output_type": "stream",
       "stream": "stdout",
       "text": [
        "Value of hfb =  -0.98 .\n",
        "Value of hfc =  -51.0 .\n"
       ]
      }
     ],
     "prompt_number": 11
    },
    {
     "cell_type": "heading",
     "level": 2,
     "metadata": {},
     "source": [
      "Example 25.12 , Page Number 649"
     ]
    },
    {
     "cell_type": "code",
     "collapsed": false,
     "input": [
      "#Variables\n",
      "\n",
      "hie = 1100.0                          #hie (in ohm)\n",
      "hre = 2.5 * 10**-4                    #hre\n",
      "hfe = 50.0                            #Current gain\n",
      "hoe = 24.0 * 10**-6                   #hoe (in Ampere per volt)\n",
      "rL = RL = 10.0 * 10**3                #Load resistance (in ohm) \n",
      "RS = 1.0 * 10**3                      #Source resistance (in ohm)\n",
      "\n",
      "#Calculation\n",
      "\n",
      "hic = hie                             #hic (in ohm)\n",
      "hrc = (1 - hre)                       #hrc\n",
      "hfc = -(1 + hfe)                      #hfc\n",
      "Ai = -(hfc/(1 + hoe * rL))            #Current gain\n",
      "Ri = hic + hrc * Ai * rL              #Input resistance (in ohm)\n",
      "Av = Ai * rL / Ri                     #Voltage gain\n",
      "\n",
      "#Result\n",
      "\n",
      "print \"Current gain is \",round(Ai,1),\".\\nInput resistance is \",round(Ri * 10**-3,1),\" kilo-ohm.\\nVoltage gain is \",round(Av,3),\".\"\n",
      "\n",
      "#Slight variation due to higher precision."
     ],
     "language": "python",
     "metadata": {},
     "outputs": [
      {
       "output_type": "stream",
       "stream": "stdout",
       "text": [
        "Current gain is  41.1 .\n",
        "Input resistance is  412.3  kilo-ohm.\n",
        "Voltage gain is  0.998 .\n"
       ]
      }
     ],
     "prompt_number": 12
    }
   ],
   "metadata": {}
  }
 ]
}