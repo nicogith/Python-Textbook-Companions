{
 "cells": [
  {
   "cell_type": "markdown",
   "metadata": {},
   "source": [
    "# Chapter 32 , Non-Sinusoidal Oscillators"
   ]
  },
  {
   "cell_type": "markdown",
   "metadata": {},
   "source": [
    "## Example 32.1 , Page Number 816"
   ]
  },
  {
   "cell_type": "code",
   "execution_count": 1,
   "metadata": {
    "collapsed": false
   },
   "outputs": [
    {
     "name": "stdout",
     "output_type": "stream",
     "text": [
      "The upper end point is ic =  50.0  mA.\n",
      "The lower end point is VCE =  10.0  V.\n"
     ]
    },
    {
     "data": {
      "text/plain": [
       "<matplotlib.text.Text at 0x5fa8a90>"
      ]
     },
     "execution_count": 1,
     "metadata": {},
     "output_type": "execute_result"
    },
    {
     "data": {
      "image/png": "[encoded data removed]",
      "text/plain": [
       "<matplotlib.figure.Figure at 0x5f944d0>"
      ]
     },
     "metadata": {},
     "output_type": "display_data"
    }
   ],
   "source": [
    "import math\n",
    "import numpy\n",
    "%matplotlib inline\n",
    "from matplotlib.pyplot import *\n",
    "\n",
    "#Variables\n",
    "\n",
    "VCC = 10.0                     #Supply voltage (in volts)\n",
    "VBB = 5.0                      #Voltage across base (in volts)\n",
    "RC = 200.0                     #Collector resistance (in ohm)\n",
    "\n",
    "#Calculation\n",
    "\n",
    "#Upper end point\n",
    "ic = VCC / RC                  #Collector current (in Ampere)\n",
    "VCE = VCEsat = 0               #Collector-to-emitter voltage (in volts)\n",
    "\n",
    "#lower cut-off point\n",
    "ic1 = 0                        #Collector current (in Ampere) \n",
    "VCE1 = VCC                     #Collector-to-emitter voltage (in volts)  \n",
    "\n",
    "#Result\n",
    "\n",
    "print \"The upper end point is ic = \",ic * 10**3,\" mA.\\nThe lower end point is VCE = \",VCE1,\" V.\"\n",
    "\n",
    "#Graph\n",
    "\n",
    "x = numpy.linspace(0,VCE1,100)\n",
    "plot(x,ic*10**3 - ic*10**3/VCE1*x)\n",
    "title(\"d.c. load line\")\n",
    "xlabel(\"Collector-to-emitter voltage VCE (V)\")\n",
    "ylabel(\"Collector current IC (mA)\")"
   ]
  },
  {
   "cell_type": "markdown",
   "metadata": {},
   "source": [
    "## Example 32.2 , Page Number 822"
   ]
  },
  {
   "cell_type": "code",
   "execution_count": 2,
   "metadata": {
    "collapsed": false
   },
   "outputs": [
    {
     "name": "stdout",
     "output_type": "stream",
     "text": [
      "Frequency of oscillation is  362.0  kHz.\n"
     ]
    }
   ],
   "source": [
    "import math\n",
    "\n",
    "#Variables\n",
    "\n",
    "R1 = R2 = R = 20.0 * 10**3              #Resistance (in ohm)\n",
    "C1 = C2 = C = 100.0 * 10**-12           #Capacitance (in Farad)    \n",
    "\n",
    "#Calculation\n",
    "\n",
    "f = 1/(1.38 * R * C)                    #Frequency (in Hertz) \n",
    "\n",
    "#Result\n",
    "\n",
    "print \"Frequency of oscillation is \",round(f * 10**-3),\" kHz.\""
   ]
  },
  {
   "cell_type": "markdown",
   "metadata": {},
   "source": [
    "## Example 32.3 , Page Number 822"
   ]
  },
  {
   "cell_type": "code",
   "execution_count": 3,
   "metadata": {
    "collapsed": false
   },
   "outputs": [
    {
     "name": "stdout",
     "output_type": "stream",
     "text": [
      "Time period of oscillation is  0.7  ms.\n",
      "Frequency of oscillation is  1.42  kHz.\n"
     ]
    }
   ],
   "source": [
    "import math\n",
    "\n",
    "#Variables\n",
    "\n",
    "R1 = 2.0 * 10**3         #Resistance (in ohm)\n",
    "R2 = 20.0 * 10**3        #Resistance (in ohm)\n",
    "C1 = 0.01 * 10**-6       #Capacitance (in Farad)\n",
    "C2 = 0.05 * 10**-6       #Capacitance (in Farad)\n",
    "\n",
    "#Calculation\n",
    "\n",
    "T = 0.69*(R1*C1 + R2*C2) #Time periode of oscillation (in seconds)\n",
    "f = 1/T                  #Frequency of oscillation (in Hertz)\n",
    "\n",
    "#Result\n",
    "\n",
    "print \"Time period of oscillation is \",round(T * 10**3,1),\" ms.\\nFrequency of oscillation is \",round(f * 10**-3,2),\" kHz.\"\n",
    "\n",
    "#Slight variation due to higher precision."
   ]
  },
  {
   "cell_type": "markdown",
   "metadata": {},
   "source": [
    "## Example 32.4 , Page Number 822"
   ]
  },
  {
   "cell_type": "code",
   "execution_count": 4,
   "metadata": {
    "collapsed": false
   },
   "outputs": [
    {
     "name": "stdout",
     "output_type": "stream",
     "text": [
      "Value of C1 capacitor is  145.0  pico-Farad.\n",
      "Value of C2 capacitor is  1304.0  pico-Farad.\n"
     ]
    }
   ],
   "source": [
    "import math\n",
    "\n",
    "#Variables\n",
    "\n",
    "T1 = 1.0 * 10**-6                #Pulse width (in seconds)\n",
    "f = 100.0 * 10**3                #Frequency (in Hertz)\n",
    "R1 = R2 = 10.0 * 10**3           #Resistance (in ohm)\n",
    "\n",
    "#Calculation\n",
    "\n",
    "T = 1/f                          #Time period of oscillation (in seconds) \n",
    "C1 = T1 / 0.69 / R1              #Capacitance (in Farad)\n",
    "T2 = T - T1                      #Time period (in seconds) \n",
    "C2 = T2 / 0.69 / R2              #Capacitance (in Farad)\n",
    "\n",
    "#Result\n",
    "\n",
    "print \"Value of C1 capacitor is \",round(C1 * 10**12),\" pico-Farad.\\nValue of C2 capacitor is \",round(C2 * 10**12),\" pico-Farad.\""
   ]
  },
  {
   "cell_type": "markdown",
   "metadata": {},
   "source": [
    "## Example 32.5 , Page Number 823"
   ]
  },
  {
   "cell_type": "code",
   "execution_count": 5,
   "metadata": {
    "collapsed": false
   },
   "outputs": [
    {
     "name": "stdout",
     "output_type": "stream",
     "text": [
      "Rc :  3000.0  ohm.\n",
      "RC1 :  3000.0  ohm.\n",
      "IBsat :  0.00025  A.\n",
      "IB :  0.0005  A.\n",
      "R1 :  30.0  kilo-ohm.\n",
      "R2 :  30.0  kilo-ohm.\n",
      "C1 :  14976.0  pico-Farad.\n",
      "C2 :  12077.0  pico-Farad.\n",
      "Output waveform time constants :\n",
      "t1 =  449.3  micro-second.\n",
      "t2 :  362.3  micro-second\n",
      "t11 :  44.9  micro-second\n",
      "t12 :  36.2  micro-second.\n"
     ]
    }
   ],
   "source": [
    "import math\n",
    "\n",
    "#Variables\n",
    "\n",
    "T2A = 310.0 * 10**-6            #Time period (in seconds)\n",
    "T2B = 250.0 * 10**-6            #Time period (in seconds)\n",
    "VCC = 15.0                      #Supply voltage (in volts)\n",
    "ICsat = 5.0 * 10**-3            #Saturated collector current (in Ampere)\n",
    "hFEmin = 20.0                   #Current gain\n",
    "\n",
    "#Calculation\n",
    "\n",
    "RC = VCC / ICsat                #Collector resistance (in ohm)\n",
    "RC1 = RC2 = RC                  #Collector resistance of transistors Q1 and Q2 (in ohm)              \n",
    "IBsat = ICsat / hFEmin          #Saturated Base current (in Ampere)\n",
    "IB = 2 * IBsat                  #Base current (in Ampere)\n",
    "R1 = R2 = R = VCC / IB          #Resistance (in ohm)\n",
    "C1 = T2A / 0.69 / R1            #Capacitance (in Farad)\n",
    "C2 = T2B / 0.69 / R2            #Capacitance (in Farad)\n",
    "t1 = R1 * C1                    #Time constant1 (in seconds)\n",
    "t2 = R2 * C2                    #Time constant2 (in seconds)\n",
    "t11 = RC1 * C1                  #Time constant (in seconds)\n",
    "t12 = RC1 * C2                  #Time constant (in seconds)\n",
    "\n",
    "#Result\n",
    "\n",
    "print \"Rc : \",RC,\" ohm.\\nRC1 : \",RC1,\" ohm.\\nIBsat : \",IBsat,\" A.\\nIB : \",IB,\" A.\\nR1 : \",R1*10**-3,\" kilo-ohm.\\nR2 : \",R2*10**-3,\" kilo-ohm.\\nC1 : \",round(C1 * 10**12),\" pico-Farad.\\nC2 : \",round(C2*10**12),\" pico-Farad.\"\n",
    "print \"Output waveform time constants :\\nt1 = \",round(t1 * 10**6,1),\" micro-second.\\nt2 : \",round(t2 * 10**6,1),\" micro-second\\nt11 : \",round(t11 * 10**6,1),\" micro-second\\nt12 : \",round(t12 * 10**6,1),\" micro-second.\" \n",
    "\n",
    "#In some places milli seconds is mentioned in place of micro second in book."
   ]
  },
  {
   "cell_type": "markdown",
   "metadata": {},
   "source": [
    "## Example 32.6 , Page Number 826"
   ]
  },
  {
   "cell_type": "code",
   "execution_count": 6,
   "metadata": {
    "collapsed": false
   },
   "outputs": [
    {
     "name": "stdout",
     "output_type": "stream",
     "text": [
      "The duty cycle of the waveform at the output (Q) of the monostable multivibrator is  10.0 %.\n"
     ]
    }
   ],
   "source": [
    "import math\n",
    "\n",
    "#Variables\n",
    "\n",
    "f = 20.0 * 10**3            #Frequency (in Hertz)\n",
    "tp = 5.0 * 10**-6           #Pulse duration (in seconds)        \n",
    "\n",
    "#Calculation\n",
    "\n",
    "T = 1/f                     #Time period (in seconds)\n",
    "duty_cycle = tp / T         #Duty cycle of monostable multivibrator  \n",
    "\n",
    "#Result\n",
    "\n",
    "print \"The duty cycle of the waveform at the output (Q) of the monostable multivibrator is \",duty_cycle * 100,\"%.\""
   ]
  },
  {
   "cell_type": "markdown",
   "metadata": {},
   "source": [
    "## Example 32.7 , Page Number 826"
   ]
  },
  {
   "cell_type": "code",
   "execution_count": 7,
   "metadata": {
    "collapsed": false
   },
   "outputs": [
    {
     "name": "stdout",
     "output_type": "stream",
     "text": [
      "Value of R3 is  7.246  kilo-ohm and value of C1 is  1.0  nF.\n"
     ]
    }
   ],
   "source": [
    "import math\n",
    "\n",
    "#Variables\n",
    "\n",
    "f = 100.0 * 10**3              #Frequency (in Hertz)\n",
    "C1 = 0.001 * 10**-6            #Capacitance (in Farad)   \n",
    "\n",
    "#Calculation\n",
    "\n",
    "duty_cycle = 0.5               #Duty cycle \n",
    "T = 1/f                        #Time period (in seconds)\n",
    "tp = duty_cycle * T            #Pulse width (in seconds)       \n",
    "R3 = tp / 0.69 / C1            #Resistance (in ohm)   \n",
    "\n",
    "#Result\n",
    "\n",
    "print \"Value of R3 is \",round(R3 * 10**-3,3),\" kilo-ohm and value of C1 is \",C1 * 10**9,\" nF.\"   "
   ]
  },
  {
   "cell_type": "markdown",
   "metadata": {},
   "source": [
    "## Example 32.8 , Page Number 834"
   ]
  },
  {
   "cell_type": "code",
   "execution_count": 8,
   "metadata": {
    "collapsed": false
   },
   "outputs": [
    {
     "name": "stdout",
     "output_type": "stream",
     "text": [
      "The pulse width is  24.2  micro-second.\n"
     ]
    }
   ],
   "source": [
    "import math\n",
    "\n",
    "#Variables\n",
    "\n",
    "R1 = 2.2 * 10**3                     #Resistance (in ohm)\n",
    "C1 = 0.01 * 10**-6                   #Capacitance (in Farad)\n",
    "\n",
    "#Calculation\n",
    "\n",
    "tp = 1.1 * R1 * C1                   #Pulse width (in seconds)\n",
    "\n",
    "#Result\n",
    "\n",
    "print \"The pulse width is \",tp * 10**6,\" micro-second.\""
   ]
  },
  {
   "cell_type": "markdown",
   "metadata": {},
   "source": [
    "## Example 32.9 , Page Number 834"
   ]
  },
  {
   "cell_type": "code",
   "execution_count": 9,
   "metadata": {
    "collapsed": false
   },
   "outputs": [
    {
     "name": "stdout",
     "output_type": "stream",
     "text": [
      "Resistance required is  9.09  kilo-ohm.\n"
     ]
    }
   ],
   "source": [
    "import math\n",
    "\n",
    "#Variables\n",
    "\n",
    "C = 1000.0 * 10**-12             #Capacitance (in Farad) \n",
    "tp = 10.0 * 10**-6               #Pulse width (in seconds)\n",
    "T = 60.0 * 10**-6                #time period (in seconds) \n",
    "\n",
    "#Calculation\n",
    "\n",
    "R1 = tp / (1.1 * C)              #Resistance (in ohm)               \n",
    "\n",
    "#Result\n",
    "\n",
    "print \"Resistance required is \",round(R1 * 10**-3,2),\" kilo-ohm.\""
   ]
  },
  {
   "cell_type": "markdown",
   "metadata": {},
   "source": [
    "## Example 32.10 , Page Number 836"
   ]
  },
  {
   "cell_type": "code",
   "execution_count": 10,
   "metadata": {
    "collapsed": false
   },
   "outputs": [
    {
     "name": "stdout",
     "output_type": "stream",
     "text": [
      "t1 is  8.05  micro-seconds.\n",
      "t2 is  3.29  micro-seconds.\n",
      "Duty cycle is  71.0 %.\n"
     ]
    }
   ],
   "source": [
    "import math\n",
    "\n",
    "#Variables\n",
    "\n",
    "R1 = 6.8 * 10**3                #Resistance (in ohm)\n",
    "R2 = 4.7 * 10**3                #Resistance (in ohm)\n",
    "C1 = 1000.0 * 10**-12           #Capacitance (in Farad) \n",
    "\n",
    "#Calculation\n",
    "\n",
    "t2 = 0.7 * R2 * C1              #Time interval2 (in seconds)\n",
    "t1 = 0.7 * (R1 + R2 ) * C1      #Time interval1 (in seconds)  \n",
    "T = t1 + t2                     #Total time (in seconds)\n",
    "duty_cycle = t1 / T * 100       #Duty cycle of the waveform \n",
    "\n",
    "#Result\n",
    "\n",
    "print \"t1 is \",t1 * 10**6,\" micro-seconds.\\nt2 is \",t2 * 10**6,\" micro-seconds.\\nDuty cycle is \",round(duty_cycle),\"%.\""
   ]
  },
  {
   "cell_type": "markdown",
   "metadata": {},
   "source": [
    "## Example 32.11 , Page Number 837"
   ]
  },
  {
   "cell_type": "code",
   "execution_count": 11,
   "metadata": {
    "collapsed": false
   },
   "outputs": [
    {
     "name": "stdout",
     "output_type": "stream",
     "text": [
      "Frequency is  1.03  kHz.\n",
      "Duty cycle is  60.0 %.\n"
     ]
    }
   ],
   "source": [
    "import math\n",
    "\n",
    "#Variables\n",
    "\n",
    "R1 = 27.0 * 10**3                  #Resistance (in ohm)\n",
    "R2 = 56.0 * 10**3                  #Resistance (in ohm)  \n",
    "C1 = 0.01 * 10**-6                 #Capacitance (in Farad)    \n",
    "\n",
    "#Calculation\n",
    "\n",
    "t2 = 0.7 * R2 * C1                 #Time interval2 (in seconds)\n",
    "t1 = 0.7 * (R1 + R2 ) * C1         #Time interval1 (in seconds)  \n",
    "T = t1 + t2                        #Total time (in seconds)\n",
    "f = 1 / T                          #Frequency (in Hertz)\n",
    "duty_cycle = t1 / T * 100          #Duty cycle of the waveform \n",
    "\n",
    "#Result\n",
    "\n",
    "print \"Frequency is \",round(f * 10**-3,2),\" kHz.\\nDuty cycle is \",round(duty_cycle),\"%.\" \n",
    "\n",
    "#In book it forgot to mention the duty_cycle."
   ]
  },
  {
   "cell_type": "markdown",
   "metadata": {},
   "source": [
    "## Example 32.12 , Page Number 838"
   ]
  },
  {
   "cell_type": "code",
   "execution_count": 12,
   "metadata": {
    "collapsed": false
   },
   "outputs": [
    {
     "name": "stdout",
     "output_type": "stream",
     "text": [
      "Time period is  0.02 ms.\n",
      "t1 is  0.012  ms.\n",
      "t2 is  0.008  ms.\n",
      "R2 is  5.19  kilo-ohm.\n",
      "R1 is  2.6  kilo-ohm.\n"
     ]
    }
   ],
   "source": [
    "import math\n",
    "\n",
    "#Variables\n",
    "\n",
    "f = 50.0 * 10**3               #Frequency (in Hertz)\n",
    "duty_cycle = 0.6               #Duty cycle\n",
    "C = 0.0022 * 10**-6            #Capacitance (in Farad)             \n",
    "\n",
    "#Calculation\n",
    "\n",
    "T = 1/f                        #Time period (in seconds)\n",
    "t1 = duty_cycle * T            #time interval1 (in seconds)\n",
    "t2 = T - t1                    #time interval2 (in seconds)\n",
    "R2 = t2 / (0.7 * C )           #Resistance (in ohm)  \n",
    "R1 = t1 / (0.7 * C) - R2       #Resistance (in ohm) \n",
    "\n",
    "#Result\n",
    "\n",
    "print \"Time period is \",T * 10**3,\"ms.\\nt1 is \",t1 * 10**3,\" ms.\\nt2 is \",t2 * 10**3,\" ms.\\nR2 is \",round(R2 * 10**-3,2),\" kilo-ohm.\\nR1 is \",round(R1 * 10**-3,1),\" kilo-ohm.\""
   ]
  }
 ],
 "metadata": {
  "kernelspec": {
   "display_name": "Python 2",
   "language": "python",
   "name": "python2"
  },
  "language_info": {
   "codemirror_mode": {
    "name": "ipython",
    "version": 2
   },
   "file_extension": ".py",
   "mimetype": "text/x-python",
   "name": "python",
   "nbconvert_exporter": "python",
   "pygments_lexer": "ipython2",
   "version": "2.7.10"
  }
 },
 "nbformat": 4,
 "nbformat_minor": 0
}
