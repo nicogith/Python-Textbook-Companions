{
 "metadata": {
  "name": "",
  "signature": "sha256:8b9ceddb3b2adb5742dd1317566761cdfe116bbf966972fcb1710e301f43f106"
 },
 "nbformat": 3,
 "nbformat_minor": 0,
 "worksheets": [
  {
   "cells": [
    {
     "cell_type": "heading",
     "level": 1,
     "metadata": {},
     "source": [
      "Chapter 7 , Passive Circuit Elements"
     ]
    },
    {
     "cell_type": "heading",
     "level": 2,
     "metadata": {},
     "source": [
      "Example 7.4 , Page Number 121"
     ]
    },
    {
     "cell_type": "code",
     "collapsed": false,
     "input": [
      "import math \n",
      "\n",
      "#Variables\n",
      "\n",
      "N = 150.0                       #Number of turns\n",
      "mur = 3540.0                    #Relative permeability (in H/m)\n",
      "mu0 = 4*math.pi * 10 **-7       #Absoulte permeability (in H/m)\n",
      "l = 0.05                        #coil length (in meter)\n",
      "A = 5 * 10**-4                  #Area of cross - section (in metersquare)\n",
      "\n",
      "#Calculation\n",
      "\n",
      "L = (mur * mu0 * A * N**2)/l    #Coil inductance (in Henry)\n",
      "\n",
      "#Result\n",
      "\n",
      "print \"The coil inductance is \",round(L,2),\" Henry.\""
     ],
     "language": "python",
     "metadata": {},
     "outputs": [
      {
       "output_type": "stream",
       "stream": "stdout",
       "text": [
        "The coil inductance is  1.0  Henry.\n"
       ]
      }
     ],
     "prompt_number": 1
    },
    {
     "cell_type": "heading",
     "level": 2,
     "metadata": {},
     "source": [
      "Example 7.5 , Page Number 122"
     ]
    },
    {
     "cell_type": "code",
     "collapsed": false,
     "input": [
      "import math\n",
      "\n",
      "#Variables\n",
      "\n",
      "L1 = 40.0                      #Inductance (in micro-Henry)\n",
      "L2 = 80.0                      #Inductance (in micro-Henry)\n",
      "M = 11.3                       #Mutual Inductance (in micro-Henry)\n",
      "\n",
      "#Calculation\n",
      "\n",
      "k = M/(L1 * L2)**0.5           #Coefficient of Coupling \n",
      "\n",
      "#Result\n",
      "\n",
      "print \"Coefficient of coupling is \",round(k,2),\".\""
     ],
     "language": "python",
     "metadata": {},
     "outputs": [
      {
       "output_type": "stream",
       "stream": "stdout",
       "text": [
        "Coefficient of coupling is  0.2 .\n"
       ]
      }
     ],
     "prompt_number": 2
    },
    {
     "cell_type": "heading",
     "level": 2,
     "metadata": {},
     "source": [
      "Example 7.6 , Page Number 125"
     ]
    },
    {
     "cell_type": "code",
     "collapsed": false,
     "input": [
      "import math\n",
      "\n",
      "#Variables\n",
      "\n",
      "Q = 90.0                 #Q-factor\n",
      "L = 15.0 * 10**-6        #Inductance (in Henry)\n",
      "f = 10.0 * 10**6         #Frequency (in Hertz)  \n",
      "\n",
      "#Calculation\n",
      "\n",
      "Ro = 2*math.pi*f*L/Q     #d.c. resistance (in ohm)\n",
      "\n",
      "#Result\n",
      "\n",
      "print \"d.c. resistance of coil is \",round(Ro,1),\" ohm.\""
     ],
     "language": "python",
     "metadata": {},
     "outputs": [
      {
       "output_type": "stream",
       "stream": "stdout",
       "text": [
        "d.c. resistance of coil is  10.5  ohm.\n"
       ]
      }
     ],
     "prompt_number": 2
    },
    {
     "cell_type": "heading",
     "level": 2,
     "metadata": {},
     "source": [
      "Example 7.7 , Page Number 126"
     ]
    },
    {
     "cell_type": "code",
     "collapsed": false,
     "input": [
      "import math\n",
      "\n",
      "#Variables\n",
      "\n",
      "k = 5.0                   #dielectric constant\n",
      "A = 0.04                  #Plate area (in meter-square)\n",
      "d = 0.02                  #Thickness of dielectric(in meter) \n",
      "eps0 = 8.85 * 10**-12     #Absolute permittivity (in kg*m**3*s**-3*A**-2)\n",
      "\n",
      "#Calculation\n",
      "\n",
      "C = eps0 * k * A / d      #Capacitance (in Farad)   \n",
      "\n",
      "#Result\n",
      "\n",
      "print \"Capacitance of parallel plate capacitor is \",C * 10**12,\"pF.\" "
     ],
     "language": "python",
     "metadata": {},
     "outputs": [
      {
       "output_type": "stream",
       "stream": "stdout",
       "text": [
        "Capacitance of parallel plate capacitor is  88.5 pF.\n"
       ]
      }
     ],
     "prompt_number": 6
    },
    {
     "cell_type": "heading",
     "level": 2,
     "metadata": {},
     "source": [
      "Example 7.8 , Page Number 127"
     ]
    },
    {
     "cell_type": "code",
     "collapsed": false,
     "input": [
      "import math\n",
      "\n",
      "#Variables\n",
      "\n",
      "k = 1200.0                   #dielectric constant\n",
      "A = 0.2                      #Plate area (in meter-square)\n",
      "eps0 = 8.85 * 10**-12        #Absolute permittivity (in kg*m**3*s**-3*A**-2)\n",
      "C = 0.428                    #Capacitance (in micro-farad)\n",
      "\n",
      "#Calculation\n",
      "\n",
      "d = eps0 * k * A / C         #thickness of dielectric (in meter)\n",
      " \n",
      "#Result\n",
      "\n",
      "print \"Thickness of dielectric is \",round(d * 10**9,2),\" mm.\""
     ],
     "language": "python",
     "metadata": {},
     "outputs": [
      {
       "output_type": "stream",
       "stream": "stdout",
       "text": [
        "Thickness of dielectric is  4.96  mm.\n"
       ]
      }
     ],
     "prompt_number": 7
    }
   ],
   "metadata": {}
  }
 ]
}