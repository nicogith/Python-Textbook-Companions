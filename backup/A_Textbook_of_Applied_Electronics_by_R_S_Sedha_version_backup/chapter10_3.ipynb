{
 "metadata": {
  "name": "",
  "signature": "sha256:14854f0f2c20034037bfa5a3449dea2addd83d4eed6b29f5eda0eb459f0c6332"
 },
 "nbformat": 3,
 "nbformat_minor": 0,
 "worksheets": [
  {
   "cells": [
    {
     "cell_type": "heading",
     "level": 1,
     "metadata": {},
     "source": [
      "Chapter 10 , Semiconductors"
     ]
    },
    {
     "cell_type": "heading",
     "level": 2,
     "metadata": {},
     "source": [
      "Example 10.1 , Page Number 183"
     ]
    },
    {
     "cell_type": "code",
     "collapsed": false,
     "input": [
      "import math\n",
      "\n",
      "#Variables\n",
      "\n",
      "R = 1000.0                          #Resistance (in ohm)\n",
      "sig = 5.8 * 10**7                   #Conductivity in (Siemen per meter)\n",
      "d = 10**-3                          #diameter (in meter)\n",
      "E = 10 * 10**-3                     #Eletric field (in Volt per meter)\n",
      "\n",
      "#Calculation\n",
      "\n",
      "l = R *sig * math.pi * d**2 /4      #length (in meter)\n",
      "J = sig * E                         #Current density (in Ampere per metersquare)\n",
      "\n",
      "#Result\n",
      "\n",
      "print \"Length of wire is \",round(l/1000,2),\" km.\\nCurrent desity is \",J,\" A/(m*m).\""
     ],
     "language": "python",
     "metadata": {},
     "outputs": [
      {
       "output_type": "stream",
       "stream": "stdout",
       "text": [
        "Length of wire is  45.55  km.\n",
        "Current desity is  580000.0  A/(m*m).\n"
       ]
      }
     ],
     "prompt_number": 2
    },
    {
     "cell_type": "heading",
     "level": 2,
     "metadata": {},
     "source": [
      "Example 10.2 , Page Number 184"
     ]
    },
    {
     "cell_type": "code",
     "collapsed": false,
     "input": [
      "import math\n",
      "\n",
      "#Variables\n",
      "\n",
      "d = 2* 10**-3             #diameter (in meter)\n",
      "sig = 5.8 * 10**7         #conductivity (in siemen per meter)\n",
      "mu = 0.0032               #mobilty (in metersquare per volt-second)\n",
      "E = 20 * 10**-3           #Electric field (in Volt per meter)\n",
      "q = 1.6 * 10**-19         #Charge on electron (in Coulomb)\n",
      "\n",
      "#Calculation\n",
      "\n",
      "n = sig / (q * mu)        #charge density (in cubic-meter) \n",
      "J = sig * E               #Charge density (in Ampere per square-meter)\n",
      "A = math.pi * d**2 / 4    #Cross section of wire (in square-meter)\n",
      "I = J * A                 #Current (in Ampere)\n",
      "v = mu * E                #Drift velocity (in meter per second)\n",
      "\n",
      "#Result\n",
      "\n",
      "print \"Charge density of free electrons is \",round(n,3),\" m**-3.\\nThe current density is \",J,\" A/m**3.\\nCurrent flowing in the wire is \",round(I,3),\" A.\\nElectron drift velocity is \",v,\" m/s.\" "
     ],
     "language": "python",
     "metadata": {},
     "outputs": [
      {
       "output_type": "stream",
       "stream": "stdout",
       "text": [
        "Charge density of free electrons is  1.1328125e+29  m**-3.\n",
        "The current density is  1160000.0  A/m**3.\n",
        "Current flowing in the wire is  3.644  A.\n",
        "Electron drift velocity is  6.4e-05  m/s.\n"
       ]
      }
     ],
     "prompt_number": 3
    },
    {
     "cell_type": "heading",
     "level": 2,
     "metadata": {},
     "source": [
      "Example 10.3 , Page Number 185"
     ]
    },
    {
     "cell_type": "code",
     "collapsed": false,
     "input": [
      "import math\n",
      "\n",
      "#Variables\n",
      "\n",
      "n = 5.8 * 10**28                  #number of free electrons (in per cubic-meter)\n",
      "p = 1.54 * 10**-8                 #resistivity (in ohm-meter)\n",
      "q = 1.6 * 10**-19                 #charge (in Coulomb)\n",
      "m = 9.1 * 10**-31                 #mass of electron (in kg)\n",
      "\n",
      "#Calculation\n",
      "\n",
      "sig = 1/p                         #conductivity (in siemen per meter)\n",
      "mu = sig /(q * n)                 #mobility (in meter-square/volt-second)\n",
      "t = mu * m / q                    #time (in second)\n",
      "\n",
      "#Result\n",
      "\n",
      "print \"Mobility of electrons is \",round(mu,6),\" m**2/V-s.\\nRelaxation time is \",round(t*10**12,6),\" ps.\"\n",
      "\n",
      "#Calculation error in book."
     ],
     "language": "python",
     "metadata": {},
     "outputs": [
      {
       "output_type": "stream",
       "stream": "stdout",
       "text": [
        "Mobility of electrons is  0.006997  m**2/V-s.\n",
        "Relaxation time is  0.039797  ps.\n"
       ]
      }
     ],
     "prompt_number": 4
    },
    {
     "cell_type": "heading",
     "level": 2,
     "metadata": {},
     "source": [
      "Example 10.4 , Page Number 186"
     ]
    },
    {
     "cell_type": "code",
     "collapsed": false,
     "input": [
      "import math\n",
      "\n",
      "#Variables\n",
      "\n",
      "un = 0.38                            #mobility of electrons in germanium (in meter-square/volt-second)\n",
      "up = 0.18                            #mobility of holes in germanium (in meter-square/volt-second)\n",
      "ni = n = p = 2.5 * 10**19            #mobile ions for germanium (in per cubic-meter)\n",
      "un1 = 0.13                           #mobility of electrons in germanium (in meter-square/volt-second)\n",
      "up1 = 0.05                           #mobility of holes in germanium (in meter-square/volt-second)\n",
      "ni1 = n1 = p1 = 1.5 * 10**16         #mobile ions for germanium (in per cubic-meter)\n",
      "q = 1.6 * 10**-19                    #charge of electron (in Coulomb)\n",
      "\n",
      "#Calculation\n",
      "\n",
      "#for germanium:\n",
      "\n",
      "sig = q * ni * (un + up)             #Conductivity of germanium (in siemen per metre)\n",
      "sig1 = q * ni1 * (un1 + up1)         #Conductivity of silicon (in siemen per metre)\n",
      "\n",
      "#Result\n",
      "\n",
      "print \"Intrinsic conductivity of germanium is \",sig,\" S/m and of silicon is \",sig1,\" S/m.\""
     ],
     "language": "python",
     "metadata": {},
     "outputs": [
      {
       "output_type": "stream",
       "stream": "stdout",
       "text": [
        "Intrinsic conductivity of germanium is  2.24  S/m and of silicon is  0.000432  S/m.\n"
       ]
      }
     ],
     "prompt_number": 31
    },
    {
     "cell_type": "heading",
     "level": 2,
     "metadata": {},
     "source": [
      "Example 10.5 , Page Number 187"
     ]
    },
    {
     "cell_type": "code",
     "collapsed": false,
     "input": [
      "import math\n",
      "\n",
      "#Variables\n",
      "\n",
      "ni = 1.41 * 10**16                    #intrinsic concentration (in per cubic-metre) \n",
      "un = 0.145                            #mobility of electrons in germanium (in metre-square/volt-second)\n",
      "up = 0.05                             #mobility of holes in germanium (in metre-square/volt-second)\n",
      "q = 1.6 * 10**-19                     #charge of electron (in Coulomb)\n",
      " \n",
      "#Calculation\n",
      "\n",
      "sig = q * ni * (un + up)              #Conductivity of germanium (in siemen per metre)\n",
      "\n",
      "#Result\n",
      "\n",
      "print \"Intrinsic conductivity of silicon is \",sig,\" S/m.\"\n",
      "print \"Contribution by electron is \",q*ni*un,\" S/m.\"\n",
      "print \"Contribution by electron is \",q*ni*up,\" S/m.\""
     ],
     "language": "python",
     "metadata": {},
     "outputs": [
      {
       "output_type": "stream",
       "stream": "stdout",
       "text": [
        "Intrinsic conductivity of silicon is  0.00043992  S/m.\n",
        "Contribution by electron is  0.00032712  S/m.\n",
        "Contribution by electron is  0.0001128  S/m.\n"
       ]
      }
     ],
     "prompt_number": 30
    },
    {
     "cell_type": "heading",
     "level": 2,
     "metadata": {},
     "source": [
      "Example 10.6 , Page Number 187"
     ]
    },
    {
     "cell_type": "code",
     "collapsed": false,
     "input": [
      "import math\n",
      "\n",
      "#Variables\n",
      "\n",
      "l = 0.2 * 10**-3                    #length (in meter)\n",
      "A = 0.04 * 10**-6                   #Area of cross section (in square-meter)\n",
      "V = 1                               #Voltage (in volts)\n",
      "I = 8 * 10**-3                      #current (in Ampere)\n",
      "un = 0.13                           #mobility of electron (in m**2 per volt-second)\n",
      "q = 1.6 * 10**-19                   #charge on electron (in Coulomb)\n",
      "\n",
      "#Calculation\n",
      "\n",
      "\n",
      "R = V/I                              #Resistance (in ohm)\n",
      "p = R * A/l                          #Resistivity (in ohm-meter)\n",
      "sig = 1/p                            #Conductivity (in siemen per meter)\n",
      "n = sig / (q * un)                   #concentration (in per cubic-meter)   \n",
      "J = I/A                              #current density (in Ampere per square-meter)\n",
      "v = J/(n*q)\n",
      "\n",
      "#Result\n",
      "\n",
      "print \"Concentration of free electrons is \",round(n,3),\" m**-3.\\nDrift velocity is \",v,\" m/s.\""
     ],
     "language": "python",
     "metadata": {},
     "outputs": [
      {
       "output_type": "stream",
       "stream": "stdout",
       "text": [
        "Concentration of free electrons is  1.92307692308e+21  m**-3.\n",
        "Drift velocity is  650.0  m/s.\n"
       ]
      }
     ],
     "prompt_number": 29
    },
    {
     "cell_type": "heading",
     "level": 2,
     "metadata": {},
     "source": [
      "Example 10.7 , Page Number 188"
     ]
    },
    {
     "cell_type": "code",
     "collapsed": false,
     "input": [
      "import math\n",
      "\n",
      "#Variables\n",
      "\n",
      "p = 0.47                         #Resistivity (in ohm-meter)\n",
      "q = 1.6 * 10**-19                #charge on electron (in Coulomb)\n",
      "un = 0.39                        #mobility of electron in germanium (in m**2 per volt-second)\n",
      "up = 0.19                        #mobility of hole in germanium (in m**2 per volt-second)\n",
      "\n",
      "#Calculation\n",
      "\n",
      "sig = 1/p                        #Conductivity (in siemen per meter)\n",
      "ni = sig / (q *(un +up))         #intrinsic concentration (in per cubic-meter)\n",
      "\n",
      "#Result\n",
      "\n",
      "print \"Intrinsic concentration is \",ni,\" m**-3.\""
     ],
     "language": "python",
     "metadata": {},
     "outputs": [
      {
       "output_type": "stream",
       "stream": "stdout",
       "text": [
        "Intrinsic concentration is  2.29273661042e+19  m**-3.\n"
       ]
      }
     ],
     "prompt_number": 28
    },
    {
     "cell_type": "heading",
     "level": 2,
     "metadata": {},
     "source": [
      "Example 10.8 , Page Number 190"
     ]
    },
    {
     "cell_type": "code",
     "collapsed": false,
     "input": [
      "import math\n",
      "\n",
      "#Variables\n",
      "\n",
      "ND = 10**21                 #Donor concentration (in per cubic-meter)\n",
      "NA = 5 * 10**20             #Acceptor concentration (in per cubic-meter)\n",
      "un = 0.18                   #mobility of electron in silicon (in m**2 per volt-second)\n",
      "q = 1.6 * 10**-19           #charge on electron (in Coulomb)\n",
      "\n",
      "\n",
      "#Calculation\n",
      "\n",
      "n = ND -NA                  #net donor density (in per cubic-meter)\n",
      "sig = n * q * un            #Conductivity (in Siemen per meter)\n",
      "\n",
      "#Result\n",
      "\n",
      "print \"Conductivity of silicon is \",sig,\" (ohm-meter)**-1.\" "
     ],
     "language": "python",
     "metadata": {},
     "outputs": [
      {
       "output_type": "stream",
       "stream": "stdout",
       "text": [
        "Conductivity of silicon is  14.4  (ohm-meter)**-1.\n"
       ]
      }
     ],
     "prompt_number": 27
    },
    {
     "cell_type": "heading",
     "level": 2,
     "metadata": {},
     "source": [
      "Example 10.9 , Page Number 190"
     ]
    },
    {
     "cell_type": "code",
     "collapsed": false,
     "input": [
      "import math\n",
      "\n",
      "#Variables\n",
      "\n",
      "p = 100.0              #resistivity (in ohm-meter)\n",
      "q = 1.6 * 10**-19      #Charge on a electron (in Coulomb)\n",
      "un = 0.36              #donor concentration (in per cubic-meter)\n",
      "\n",
      "#Calculation\n",
      "\n",
      "sig = 1/p              #conductivity (in siemen per meter)\n",
      "n = sig /(q * un)      #intrinsic concentration (in per cubic-meter)\n",
      "ND = n                 #Donor concentration (in per cubic-meter) \n",
      "\n",
      "#Result\n",
      "\n",
      "print \"Donor concentration is \",ND,\" m**-3.\""
     ],
     "language": "python",
     "metadata": {},
     "outputs": [
      {
       "output_type": "stream",
       "stream": "stdout",
       "text": [
        "Donor concentration is  1.73611111111e+17  m**-3.\n"
       ]
      }
     ],
     "prompt_number": 26
    },
    {
     "cell_type": "heading",
     "level": 2,
     "metadata": {},
     "source": [
      "Example 10.10 , Page Number 191"
     ]
    },
    {
     "cell_type": "code",
     "collapsed": false,
     "input": [
      "import math\n",
      "\n",
      "#Variables\n",
      "\n",
      "ND = 2 * 10**14                     #Donor atom concentration (in atoms per cubic-centimeter)\n",
      "NA = 3 * 10**14                     #Acceptor atom concentration (in atoms per cubic-centimeter)\n",
      "ni = 2.3 * 10**19                   #intrinsic concentration (in atoms per cubic-centimeter)\n",
      "\n",
      "#Calculation\n",
      "\n",
      "n = ni**2 / NA                      #concentration of electrons (in electrons per cubic-centimeter)\n",
      "p = ni**2 / ND                      #concentration of holes (in holes per cubic-centimeter)\n",
      " \n",
      "#Result\n",
      "\n",
      "print \"Electron concentration is \",n,\" electrons/cm**3.\\nHole concentration is \",p,\" holes/cm**3.\""
     ],
     "language": "python",
     "metadata": {},
     "outputs": [
      {
       "output_type": "stream",
       "stream": "stdout",
       "text": [
        "Electron concentration is  1.76333333333e+24  electrons/cm**3.\n",
        "Hole concentration is  2.645e+24  holes/cm**3.\n"
       ]
      }
     ],
     "prompt_number": 25
    },
    {
     "cell_type": "heading",
     "level": 2,
     "metadata": {},
     "source": [
      "Example 10.11 , Page Number 191"
     ]
    },
    {
     "cell_type": "code",
     "collapsed": false,
     "input": [
      "import math\n",
      "\n",
      "#Variables\n",
      "\n",
      "ND = 5 * 10**8                      #Donor atom concentration (in atoms per cubic-centimeter)\n",
      "NA = 6 * 10**16                     #Acceptor atom concentration (in atoms per cubic-centimeter)\n",
      "ni = 1.5 * 10**10                   #intrinsic concentration (in atoms per cubic-centimeter)\n",
      "\n",
      "#Calculation\n",
      "\n",
      "n = ni**2/NA                        #number of electrons (in per cubic-centimeter)\n",
      "p = ni**2/ND                        #number of holes (in per cubic-centimeter)\n",
      "\n",
      "#Result\n",
      "\n",
      "print \"Density of electrons is \",n,\" cm**-3.\\nDensity of holes is \",p,\" cm**-3.\""
     ],
     "language": "python",
     "metadata": {},
     "outputs": [
      {
       "output_type": "stream",
       "stream": "stdout",
       "text": [
        "Density of electrons is  3750.0  cm**-3.\n",
        "Density of holes is  4.5e+11  cm**-3.\n"
       ]
      }
     ],
     "prompt_number": 24
    },
    {
     "cell_type": "heading",
     "level": 2,
     "metadata": {},
     "source": [
      "Example 10.12 , Page Number 192"
     ]
    },
    {
     "cell_type": "code",
     "collapsed": false,
     "input": [
      "import math\n",
      "\n",
      "#Variables\n",
      "\n",
      "d = 0.001                      #diameter (in meter)\n",
      "ND = 10**20                    #Number of phosphorus ions (in per cubic-meter)\n",
      "R = 1000                       #Resistance (in ohm)\n",
      "un = 0.1                       #mobility (in meter-square per volt-second)\n",
      "q = 1.6 * 10**-19              #charge on electron (in Coulomb)\n",
      "\n",
      "#Calculation\n",
      "\n",
      "n = ND                         #Number of free electron (in per cubic-meter)\n",
      "sig = q*n*un                   #conductivity (in Siemen per meter)\n",
      "A = math.pi * d**2 / 4         #Area of cross section (in meter-square)\n",
      "l = R * sig * A                #length (in meter) \n",
      "\n",
      "#Result\n",
      "\n",
      "print \"Length of the silicon would be \",round(l*1000,3),\" mm.\""
     ],
     "language": "python",
     "metadata": {},
     "outputs": [
      {
       "output_type": "stream",
       "stream": "stdout",
       "text": [
        "Length of the silicon would be  1.257  mm.\n"
       ]
      }
     ],
     "prompt_number": 23
    },
    {
     "cell_type": "heading",
     "level": 2,
     "metadata": {},
     "source": [
      "Example 10.13 , Page Number 192"
     ]
    },
    {
     "cell_type": "code",
     "collapsed": false,
     "input": [
      "import math\n",
      "\n",
      "#Variables\n",
      "\n",
      "q = 1.6 * 10**-19            #Charge on electron (in Coulomb)  \n",
      "sig = 100.0                  #Conductivity of Ge (in per ohm-centimeter)\n",
      "sig1 = 0.1                   #Conductivity of Si (in per ohm-centimeter)\n",
      "ni = 1.5 * 10**10            #intrinsic conductivity for Si (in per cubic-centimeter)\n",
      "un = 3800.0                  #mobility of electrons for Ge (in square-centimetermeter per volt-second)\n",
      "up = 1800.0                  #mobility of holes for Ge (in square-centimeter per volt-second)\n",
      "un1 = 1300.0                 #mobility of electrons for Si (in square-centimetermeter per volt-second)\n",
      "up1 = 500.0                  #mobility of holes for Si (in square-centimeter per volt-second)\n",
      "ni1 = 2.5 * 10**13           #intrinsic concentration for Ge (in per cubic-centimeter)\n",
      "\n",
      "#Calculation\n",
      "\n",
      "p = sig / (q * up)           #Concentration of p-type germanium (in cubic-centimeter)\n",
      "n = ni1**2 / p               #Concentration of electrons in germanium (in cubic-centimeter)\n",
      "n1 = sig1 / (q * un1)        #Concentration of N-type silicon (in cubic-centimeter)\n",
      "p1 = ni**2 / n1              #Concentration of holes in silicon (in cubic-centimere)\n",
      "\n",
      "#Result\n",
      "\n",
      "print \"For p-type germanium, hole concentration is \",p,\"/cm**3.\\nFor p-type germanium, electron concentration is \",n,\"/cm**3.\"\n",
      "print \"For n-type silicon, hole concentration is \",p1,\"/cm**3.\\nFor n-type silicon, electron concentration is \",n1,\"/cm**3.\""
     ],
     "language": "python",
     "metadata": {},
     "outputs": [
      {
       "output_type": "stream",
       "stream": "stdout",
       "text": [
        "For p-type germanium, hole concentration is  3.47222222222e+17 /cm**3.\n",
        "For p-type germanium, electron concentration is  1800000000.0 /cm**3.\n",
        "For n-type silicon, hole concentration is  468000.0 /cm**3.\n",
        "For n-type silicon, electron concentration is  4.80769230769e+14 /cm**3.\n"
       ]
      }
     ],
     "prompt_number": 22
    },
    {
     "cell_type": "heading",
     "level": 2,
     "metadata": {},
     "source": [
      "Example 10.14 , Page Number 193"
     ]
    },
    {
     "cell_type": "code",
     "collapsed": false,
     "input": [
      "import math\n",
      "\n",
      "#Variables\n",
      "\n",
      "un = 3800                             #mobility of electrons (in centimeter-square per volt-second)\n",
      "up = 1800                             #mobility of holes (in centimeter-square per volt-second)\n",
      "ni = 2.5 * 10**13                     #intrinsic concentration (in per cubic-centimeter)\n",
      "Nge = 4.41 * 10**22                   #concentration of germanium (in per cubic-centimeter)\n",
      "q = 1.6 * 10**-19                     #charge on electron (in Coulomb) \n",
      "\n",
      "#Calculation\n",
      "\n",
      "ND = Nge/10**8                       #Number of donor atoms (in per cubic-centimeter)\n",
      "p = p = ni**2/ND                     #Number of holes (in per cubic-centimeter)\n",
      "sig = q * ND * un                    #Conductivity of n-type germanium (in per ohm-centimeter)\n",
      "p = 1/sig                            #resistivity (in ohm-centimeter)\n",
      "\n",
      "#Result\n",
      "\n",
      "print \"resistivity of the germanium sample is \",round(p,3),\" ohm-cm.\""
     ],
     "language": "python",
     "metadata": {},
     "outputs": [
      {
       "output_type": "stream",
       "stream": "stdout",
       "text": [
        "resistivity of the germanium sample is  3.73  ohm-cm.\n"
       ]
      }
     ],
     "prompt_number": 21
    },
    {
     "cell_type": "heading",
     "level": 2,
     "metadata": {},
     "source": [
      "Example 10.15 , Page Number 194"
     ]
    },
    {
     "cell_type": "code",
     "collapsed": false,
     "input": [
      "import math\n",
      "\n",
      "#Variables\n",
      "\n",
      "un = 1350                             #mobility of electrons (in centimeter-square per volt-second)\n",
      "up = 480                              #mobility of holes (in centimeter-square per volt-second)\n",
      "ni = 1.52 * 10**10                    #intrinsic concentration (in per cubic-centimeter)\n",
      "Nsi = 4.96 * 10**22                   #concentration of silicon (in per cubic-centimeter)\n",
      "q = 1.6 * 10**-19                     #charge on electron (in Coulomb) \n",
      "\n",
      "#Calculation\n",
      "\n",
      "sigi = q * ni * (un + up)             #conductivity of intrinsic silicon (in per ohm-centimeter)\n",
      "p = 1/sig                             #resitivity (in ohm-centimeter)\n",
      "ND = Nsi/(50 * 10**6)                 #Number of donor atoms (per cubic-centimeter)\n",
      "n = ND                                #NUmber of free electrons (in per cubic-centimeter)\n",
      "p = ni**2/n                           #number of holes (in per cubic-centimeter)\n",
      "sig = q * n * un                      #conductivity of doped silicon (in per ohm-centimeter)\n",
      "p = 1/sig                             #resistivity (in ohm-centimeter)\n",
      "\n",
      "#Result\n",
      "\n",
      "print \"Resistivity of doped silicon is \",round(p,2),\" ohm-cm.\""
     ],
     "language": "python",
     "metadata": {},
     "outputs": [
      {
       "output_type": "stream",
       "stream": "stdout",
       "text": [
        "Resistivity of doped silicon is  4.67  ohm-cm.\n"
       ]
      }
     ],
     "prompt_number": 14
    },
    {
     "cell_type": "heading",
     "level": 2,
     "metadata": {},
     "source": [
      "Example 10.16 , Page Number 196"
     ]
    },
    {
     "cell_type": "code",
     "collapsed": false,
     "input": [
      "#Variables\n",
      "\n",
      "up = 0.048                      #hole mobility (in meter-square per volt-second)\n",
      "un = 0.135                      #electron mobility (in meter-square per volt-second)\n",
      "q = 1.602 * 10**-19             #charge on electron (in Coulomb)\n",
      "Nsi1 = 5 * 10**28               #concentration of intrinsic silicon (in atoms per cubic-meter)\n",
      "ni = 1.5 * 10**16               #number of electron-hole pairs (per cubic-meter)\n",
      "alpha = 0.05                    #temperature coefficient (in per degree Celsius)\n",
      "dT = 14                         #change in temperature (in degree celsius)\n",
      "\n",
      "#Calculation\n",
      "\n",
      "sig1 = q * ni * (un + up)       #conductivity of intrinsic silicon (in per ohm-meter)\n",
      "NA = Nsi1/10**7                 #Number of indium atoms (in per cubic-meter)\n",
      "p = NA                          #Number of holes (in per cubic meter)\n",
      "n = ni**2/p                     #Number of free electrons (in per cubic-meter)\n",
      "sig2 = q * p * up               #Conductivity of doped silicon (in per ohm-meter)\n",
      "sig34 = sig1*(1 + alpha * dT)   #Conductivity at 34 degree Celsius (in per ohm-meter) \n",
      "\n",
      "#Result\n",
      "\n",
      "print \"Conductivity of intrinsic silicon is \",round(sig1,5),\" per ohm-meter.\\nConductivity of doped Silicon is \",round(sig2,2),\" per ohm-meter.\\nConductivity of silicon at 34 degree Celsius is \",round(sig34,5),\" per ohm-meter.\""
     ],
     "language": "python",
     "metadata": {},
     "outputs": [
      {
       "output_type": "stream",
       "stream": "stdout",
       "text": [
        "Conductivity of intrinsic silicon is  0.00044  per ohm-meter.\n",
        "Conductivity of doped Silicon is  38.45  per ohm-meter.\n",
        "Conductivity of silicon at 34 degree Celsius is  0.00075  per ohm-meter.\n"
       ]
      }
     ],
     "prompt_number": 3
    },
    {
     "cell_type": "heading",
     "level": 2,
     "metadata": {},
     "source": [
      "Example 10.17 , Page Number 199"
     ]
    },
    {
     "cell_type": "code",
     "collapsed": false,
     "input": [
      "import math\n",
      "\n",
      "#Variables\n",
      "\n",
      "un = 3600.0 * 10**-4             #mobility of electrons (in meter-square per volt-second)\n",
      "up = 1700.0 * 10**-4             #mobility of holes (in meter-square per volt-second)\n",
      "k = 1.38 * 10**23                #Boltzmann constant\n",
      "T = 300.0                        #Temperature (in kelvin)\n",
      "\n",
      "#Calculation\n",
      "\n",
      "VT = T/11600                     #Voltage (in volts)\n",
      "Dp = up * VT                     #Coefficient of holes (in meter-square per second)\n",
      "Dn = un * VT                     #Coefficient of electrons (in meter-square per second)\n",
      "\n",
      "#Result\n",
      "\n",
      "print \"Coefficient of holes is \",round(Dp,6),\" m**2/s.\\nCoefficient of electrons is \",round(Dn,4),\" m**2/s.\"\n",
      "#un and up in book should be in (cm**2/V-sec)"
     ],
     "language": "python",
     "metadata": {},
     "outputs": [
      {
       "output_type": "stream",
       "stream": "stdout",
       "text": [
        "Coefficient of holes is  0.004397  m**2/s.\n",
        "Coefficient of electrons is  0.0093  m**2/s.\n"
       ]
      }
     ],
     "prompt_number": 2
    },
    {
     "cell_type": "heading",
     "level": 2,
     "metadata": {},
     "source": [
      "Example 10.18 , Page Number 202"
     ]
    },
    {
     "cell_type": "code",
     "collapsed": false,
     "input": [
      "import math\n",
      "\n",
      "#Variables\n",
      "\n",
      "RH = 160                #Hall coeffficient (in cubic-centimeter per Coulomb)\n",
      "p = 0.16                #Resistivity (in ohm-centimeter)\n",
      "\n",
      "#Calculation\n",
      "\n",
      "sig = 1/p               #Conductivity (in per ohm-centimeter)\n",
      "un = sig * RH           #Electron mobility (in cmentimeter-square per volt-second)\n",
      "\n",
      "#Result\n",
      "\n",
      "print \"Electron mobility is \",un,\" cm**2/V-s.\""
     ],
     "language": "python",
     "metadata": {},
     "outputs": [
      {
       "output_type": "stream",
       "stream": "stdout",
       "text": [
        "Electron mobility is  1000.0  cm**2/V-s.\n"
       ]
      }
     ],
     "prompt_number": 19
    },
    {
     "cell_type": "heading",
     "level": 2,
     "metadata": {},
     "source": [
      "Example 10.19 , Page Number 203"
     ]
    },
    {
     "cell_type": "code",
     "collapsed": false,
     "input": [
      "import math\n",
      "\n",
      "#Variables\n",
      "\n",
      "I = 50                    #Current (in Ampere)\n",
      "B = 1.2                   #Magnetic field (in Weber per meter-square)\n",
      "t = 0.5 * 10**-3          #thickness (in meter)\n",
      "VH = 100                  #Hall coltage (in volts)\n",
      "q = 1.6 * 10**-19         #Charge on electron (in Coulomb)\n",
      "\n",
      "#Calculation\n",
      "\n",
      "n = B * I / (VH * q * t)  #number of conduction electrons (in per cubic-meter) \n",
      "\n",
      "#Result\n",
      "\n",
      "print \"Number of conduction electrons is \",n,\" m**-3.\""
     ],
     "language": "python",
     "metadata": {},
     "outputs": [
      {
       "output_type": "stream",
       "stream": "stdout",
       "text": [
        "Number of conduction electrons is  7.5e+21  m**-3.\n"
       ]
      }
     ],
     "prompt_number": 18
    },
    {
     "cell_type": "heading",
     "level": 2,
     "metadata": {},
     "source": [
      "Example 10.20 , Page Number 203"
     ]
    },
    {
     "cell_type": "code",
     "collapsed": false,
     "input": [
      "import math\n",
      "\n",
      "#Variables\n",
      "\n",
      "p =  20 * 10**-2             #Resistivity (in ohm-meter)\n",
      "u = 100 * 10**-4             #mobility (in meter-square per volt-second)\n",
      "\n",
      "#Calculation\n",
      "\n",
      "sig = 1/p                    #Conductivity (in per ohm-meter)\n",
      "n = sig / (q * u)            #number of electron carriers (in per cubic-meter)\n",
      "\n",
      "#Result\n",
      "\n",
      "print \"Number of electron carriers is \",round(n,1),\" m**-3.\""
     ],
     "language": "python",
     "metadata": {},
     "outputs": [
      {
       "output_type": "stream",
       "stream": "stdout",
       "text": [
        "Number of electron carriers is  3.125e+21  m**-3.\n"
       ]
      }
     ],
     "prompt_number": 17
    },
    {
     "cell_type": "heading",
     "level": 2,
     "metadata": {},
     "source": [
      "Example 10.21 , Page Number 203"
     ]
    },
    {
     "cell_type": "code",
     "collapsed": false,
     "input": [
      "import math\n",
      "\n",
      "#Variables\n",
      "\n",
      "RH = 3.66 *10**-4                  #Hall coefficient (in cubic-meter per Coulomb)\n",
      "p = 8.93 * 10 **-3                 #Resistivity (in ohm-meter)\n",
      "q = 1.6 * 10**-19                  #Charge on electron (in Coulomb)\n",
      "\n",
      "#Calculation\n",
      "\n",
      "sig = 1/p                          #Conductivity (in per ohm-meter)\n",
      "u = sig * RH                       #mobility (in meter-square per volt-second)\n",
      "n = 1 / (RH * q)                   #Density of charge carriers (in per cubic-meter)\n",
      "\n",
      "#Result\n",
      "\n",
      "print \"Mobility of charge carriers is \",round(u,3),\" m**2/V-s.\\nDensity of charge carriers is \",n,\" m**-3.\""
     ],
     "language": "python",
     "metadata": {},
     "outputs": [
      {
       "output_type": "stream",
       "stream": "stdout",
       "text": [
        "Mobility of charge carriers is  0.041  m**2/V-s.\n",
        "Density of charge carriers is  1.70765027322e+22  m**-3.\n"
       ]
      }
     ],
     "prompt_number": 1
    },
    {
     "cell_type": "heading",
     "level": 2,
     "metadata": {},
     "source": [
      "Example 10.22 , Page Number 204"
     ]
    },
    {
     "cell_type": "code",
     "collapsed": false,
     "input": [
      "import math\n",
      "\n",
      "#Variables\n",
      "\n",
      "p = 9 * 10**-3           #Resistivity (in ohm-meter)\n",
      "up = 0.03                #Mobility (in meter-square per volt-second)\n",
      "\n",
      "#Calculation\n",
      "\n",
      "sig = 1/p                #Conductivity (in per ohm-meter)\n",
      "RH = up / sig            #Hall coefficient (in cubic-meter per Coulomb)          \n",
      "\n",
      "#Result\n",
      "\n",
      "print \"Value of Hall-coefficient is \",RH,\" m**3/C.\""
     ],
     "language": "python",
     "metadata": {},
     "outputs": [
      {
       "output_type": "stream",
       "stream": "stdout",
       "text": [
        "Value of Hall-coefficient is  0.00027  m**3/C.\n"
       ]
      }
     ],
     "prompt_number": 15
    }
   ],
   "metadata": {}
  }
 ]
}