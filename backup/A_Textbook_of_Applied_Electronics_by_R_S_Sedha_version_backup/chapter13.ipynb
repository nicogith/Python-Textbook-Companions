{
 "metadata": {
  "name": "",
  "signature": "sha256:ea486cd34183a067072977e88059026cc40960256cd7fa353619377287d5cba9"
 },
 "nbformat": 3,
 "nbformat_minor": 0,
 "worksheets": [
  {
   "cells": [
    {
     "cell_type": "heading",
     "level": 1,
     "metadata": {},
     "source": [
      "Chapter 13 , Special Purpose Diodes and Opto-Electornic Devices"
     ]
    },
    {
     "cell_type": "heading",
     "level": 2,
     "metadata": {},
     "source": [
      "Example 13.1 , Page Number 253"
     ]
    },
    {
     "cell_type": "code",
     "collapsed": false,
     "input": [
      "#Variables\n",
      "\n",
      "PZM = 500                         #Power rating of zener diode (in milli-watt)\n",
      "VZ = 6.8                          #Zener voltage rating (in volts)\n",
      "\n",
      "#Calculation\n",
      "\n",
      "IZM = PZM / VZ                    #Maximum value of zener current (in milli-Ampere)\n",
      "\n",
      "#Result\n",
      "\n",
      "print \"THe value of IZM for the device is \",round(IZM,1),\" mA.\""
     ],
     "language": "python",
     "metadata": {},
     "outputs": [
      {
       "output_type": "stream",
       "stream": "stdout",
       "text": [
        "THe value of IZM for the device is  73.5  mA.\n"
       ]
      }
     ],
     "prompt_number": 1
    },
    {
     "cell_type": "heading",
     "level": 2,
     "metadata": {},
     "source": [
      "Example 13.2 , Page Number 253"
     ]
    },
    {
     "cell_type": "code",
     "collapsed": false,
     "input": [
      "#Variables\n",
      "\n",
      "PZM = 500                             #Power rating of zener diode (in milli-watt)\n",
      "df = 3.33                             #derating factor (in milli-watt)\n",
      "T1 = 75                               #Temperature (in degree Celsius)\n",
      "T2 = 50                               #Temperature (in degree Celsius)\n",
      "\n",
      "#Calculation\n",
      "\n",
      "Tdf = df * (T1 - T2)                  #Total derating factor (in milli-watt)\n",
      "PZ = PZM - Tdf                        #Maximimum power dissipating for the device (in milli-watt)\n",
      "\n",
      "#Result\n",
      "\n",
      "print \"The maximum power dissipation for the device is \",PZ,\" mW.\" "
     ],
     "language": "python",
     "metadata": {},
     "outputs": [
      {
       "output_type": "stream",
       "stream": "stdout",
       "text": [
        "The maximum power dissipation for the device is  416.75  mW.\n"
       ]
      }
     ],
     "prompt_number": 2
    },
    {
     "cell_type": "heading",
     "level": 2,
     "metadata": {},
     "source": [
      "Example 13.3 , Page Number 254"
     ]
    },
    {
     "cell_type": "code",
     "collapsed": false,
     "input": [
      "#Variables\n",
      "\n",
      "IZ1 = 20                       #Reverse current (in milli-Ampere)\n",
      "IZ2 = 30                       #Reverse current (in milli-Ampere)\n",
      "VZ1 = 5.6                      #Zener voltage (in volts)\n",
      "VZ2 = 5.65                     #Zener voltage (in volts)\n",
      "\n",
      "#Calculation\n",
      "\n",
      "dIZ = IZ2 - IZ1                #Change in reverse current (in milli-Ampere)\n",
      "dVZ = VZ2 - VZ1                #Change in zener voltage (in volts)\n",
      "rZ = dVZ / (dIZ * 10**-3)      #Resistance of device (in ohm)\n",
      "\n",
      "#Result\n",
      "\n",
      "print \"Resistance of the zener diode is \",rZ,\" ohm.\""
     ],
     "language": "python",
     "metadata": {},
     "outputs": [
      {
       "output_type": "stream",
       "stream": "stdout",
       "text": [
        "Resistance of the zener diode is  5.0  ohm.\n"
       ]
      }
     ],
     "prompt_number": 3
    },
    {
     "cell_type": "heading",
     "level": 2,
     "metadata": {},
     "source": [
      "Example 13.4 , Page Number 254"
     ]
    },
    {
     "cell_type": "code",
     "collapsed": false,
     "input": [
      "#Variables\n",
      "\n",
      "VZ = 4.7                          #Zener voltage (in volts)\n",
      "rZ = 15                           #Resistance (in ohm)\n",
      "IZ = 20 * 10**-3                  #Current (in Ampere)\n",
      "\n",
      "#Calculation\n",
      "\n",
      "VZ1 = VZ + IZ * rZ                #Terminal voltage of a zener diode (in volts)\n",
      " \n",
      "#Result\n",
      "\n",
      "print \"Terminal voltage of the zener diode is \",VZ1,\" V.\""
     ],
     "language": "python",
     "metadata": {},
     "outputs": [
      {
       "output_type": "stream",
       "stream": "stdout",
       "text": [
        "Terminal voltage of the zener diode is  5.0  V.\n"
       ]
      }
     ],
     "prompt_number": 4
    },
    {
     "cell_type": "heading",
     "level": 2,
     "metadata": {},
     "source": [
      "Example 13.5 , Page Number 262"
     ]
    },
    {
     "cell_type": "code",
     "collapsed": false,
     "input": [
      "import math\n",
      "\n",
      "#Variables\n",
      "\n",
      "C1min = C2min = Cmin = 5                        #Minimum capacitance (in pico-farad)\n",
      "C1max = C2max =  Cmax = 50                      #Maximum capacitance (in pico-farad)\n",
      "L = 10                                          #Inductance (in milli-Henry)\n",
      " \n",
      "#Calculation\n",
      "\n",
      "CTmin = C1min * C2min / (C1min + C2min)         #Total minimum capacitance (in pico-farad)\n",
      "CTmin = CTmin * 10**-12                         #Total minimum capacitance (in farad)\n",
      "L = 10 * 10**-3                                 #Inductance (in Henry)\n",
      "f0max = 1/(2*math.pi*(L*CTmin)**0.5)            #Maximun resonant frequency (in Hertz)\n",
      "CTmax = C1max * C2max / (C1max + C2max)         #Total maximum capacitance (in pico-farad)\n",
      "CTmax = CTmax * 10**-12                         #Total minimum capacitance (in farad)\n",
      "f0min = 1/(2*math.pi*(L*CTmax)**0.5)            #Minimum resonant frequency (in Hertz)\n",
      "\n",
      "#Result\n",
      "\n",
      "print \"Tuning range for the circuit is between \",round(f0min * 10**-3),\" kHz and \",round(f0max * 10**-6,0),\" MHz.\""
     ],
     "language": "python",
     "metadata": {},
     "outputs": [
      {
       "output_type": "stream",
       "stream": "stdout",
       "text": [
        "Tuning range for the circuit is between  318.0  kHz and  1.0  MHz.\n"
       ]
      }
     ],
     "prompt_number": 1
    },
    {
     "cell_type": "heading",
     "level": 2,
     "metadata": {},
     "source": [
      "Example 13.6 , Page Number 266"
     ]
    },
    {
     "cell_type": "code",
     "collapsed": false,
     "input": [
      "#Variables\n",
      "\n",
      "T = 0.04 * 10**-6                     #Time period (in seconds)\n",
      "\n",
      "#Calculation\n",
      "\n",
      "f = 1/T                               #Frequency (in Hertz)\n",
      "f = f * 10**-6                        #Frequency (in Mega-Hertz)\n",
      "f5 = 5 * f                            #%th - harmonic (in Mega-Hertz)\n",
      "\n",
      "#Result\n",
      "\n",
      "print \"Frequency of 5th harmonic is \",f5,\" MHz.\""
     ],
     "language": "python",
     "metadata": {},
     "outputs": [
      {
       "output_type": "stream",
       "stream": "stdout",
       "text": [
        "Frequency of 5th harmonic is  125.0  MHz.\n"
       ]
      }
     ],
     "prompt_number": 6
    },
    {
     "cell_type": "heading",
     "level": 2,
     "metadata": {},
     "source": [
      "Example 13.7 , Page Number 270"
     ]
    },
    {
     "cell_type": "code",
     "collapsed": false,
     "input": [
      "#Variables\n",
      "\n",
      "Vout = 8.0                     #Output voltage (in volts)\n",
      "VFmin = 1.8                    #LED min voltage (in volts)\n",
      "VFmax = 2.0                    #LED max voltage (in volts)\n",
      "IFmax = 16 * 10**-3            #Maximum current (in Ampere)\n",
      "\n",
      "#Calculation\n",
      "\n",
      "RS = (Vout - VFmin) / IFmax    #Current limiting Resistor (in ohm)\n",
      "RS1 = (Vout - VFmax) / IFmax   #Current limiting Resistor 1 (in ohm)\n",
      "\n",
      "#Result\n",
      "\n",
      "print \"In either case , the smallest standard-value resistor that has a value greater than \",RS, \" ohm or \",RS1,\"  ohm is the 390 ohm resistor.\\nTherefore Rs should be 390 ohm.\" "
     ],
     "language": "python",
     "metadata": {},
     "outputs": [
      {
       "output_type": "stream",
       "stream": "stdout",
       "text": [
        "In either case , the smallest standard-value resistor that has a value greater than  387.5  ohm or  375.0   ohm is the 390 ohm resistor.\n",
        "Therefore Rs should be 390 ohm.\n"
       ]
      }
     ],
     "prompt_number": 7
    },
    {
     "cell_type": "heading",
     "level": 2,
     "metadata": {},
     "source": [
      "Example 13.8 , Page Number 271"
     ]
    },
    {
     "cell_type": "code",
     "collapsed": false,
     "input": [
      "#Variables\n",
      "\n",
      "VDmin = 1.5               #minimum voltage drop (in volts)\n",
      "VDmax = 2.3               #maximum voltage drop (in volts)\n",
      "VS = 10                   #Source voltage (in volts)\n",
      "R1 = 470                  #Resistance (in ohm)\n",
      "\n",
      "#Calculation\n",
      "\n",
      "Imax = (VS - VDmin) / R1  #Maximum current (in Ampere)\n",
      "Imin = (VS - VDmax) / R1  #Minimum current (in Ampere)\n",
      "\n",
      "#Result\n",
      "\n",
      "print \"Minimum value of LED current is \",round(Imin * 10**3,1),\" mA.\\nMaximum value of LED current is \",round(Imax * 10**3,1),\" mA.\" "
     ],
     "language": "python",
     "metadata": {},
     "outputs": [
      {
       "output_type": "stream",
       "stream": "stdout",
       "text": [
        "Minimum value of LED current is  16.4  mA.\n",
        "Maximum value of LED current is  18.1  mA.\n"
       ]
      }
     ],
     "prompt_number": 8
    },
    {
     "cell_type": "heading",
     "level": 2,
     "metadata": {},
     "source": [
      "Example 13.9 , Page Number 271"
     ]
    },
    {
     "cell_type": "code",
     "collapsed": false,
     "input": [
      "#Variables\n",
      "\n",
      "VDmin = 1.8                  #minimum voltage drop (in volts)\n",
      "VDmax = 3.0                  #maximum voltage drop (in volts)\n",
      "\n",
      "#Calculation\n",
      "\n",
      "#Case 1\n",
      "\n",
      "VS = 24.0                    #Source voltage (in volts)\n",
      "RS = 820.0                   #Resistance (in ohm)\n",
      "Imax = (VS - VDmin) / RS     #Maximum current (in Ampere)\n",
      "Imin = (VS - VDmax) / RS     #Minimum current (in Ampere)\n",
      "dI = Imax - Imin             #Change in current (in Ampere)\n",
      "\n",
      "#Case 2\n",
      "\n",
      "VS1 = 5.0                    #Source voltage (in volts)\n",
      "RS1 = 120.0                  #Resistance (in ohm)\n",
      "Imax1 = (VS1 - VDmin) / RS1  #Maximum current (in Ampere)\n",
      "Imin1 = (VS1 - VDmax) / RS1  #Minimum current (in Ampere)\n",
      "dI1= Imax1 - Imin1           #Change in current (in Ampere)\n",
      "\n",
      "#Result\n",
      "\n",
      "print \"Since change in current in case 1 i.e\",round(dI*10**3,2),\"mA is less than change in current in case 2 i,e,\",round(dI1* 10**3,2),\" mA.\" \n",
      "print \"Therefore brightness in the first case will remain constant.\"\n",
      "\n",
      "#printing mistake in book for value of VDmin. It should be 1.8 volts instead of 1.1 volts."
     ],
     "language": "python",
     "metadata": {},
     "outputs": [
      {
       "output_type": "stream",
       "stream": "stdout",
       "text": [
        "Since change in current in case 1 i.e 1.46 mA is less than change in current in case 2 i,e, 10.0  mA.\n",
        "Therefore brightness in the first case will remain constant.\n"
       ]
      }
     ],
     "prompt_number": 9
    },
    {
     "cell_type": "heading",
     "level": 2,
     "metadata": {},
     "source": [
      "Example 13.10 , Page Number 281"
     ]
    },
    {
     "cell_type": "code",
     "collapsed": false,
     "input": [
      "#Variables\n",
      "\n",
      "R1 = 100.0 * 10**3             #Resistance when illuminated (in ohm)\n",
      "r = 1.0 * 10**3                #cell resistance (in ohm)\n",
      "I = 10.0 * 10**-3              #Current (in Ampere)\n",
      "VS = 30                        #Source voltage (in volts)\n",
      "\n",
      "#Calculation\n",
      "\n",
      "R = VS/I - r                   #R is the series resitance (in ohm)\n",
      "Id = VS / (R + R1)             #Dark current (in Ampere)\n",
      "\n",
      "#Result\n",
      "\n",
      "print \"Ther series resistance required is \",R/1000,\" kilo-ohm.\\nThe dark current is \",round(Id * 10**3,1),\" A.\" "
     ],
     "language": "python",
     "metadata": {},
     "outputs": [
      {
       "output_type": "stream",
       "stream": "stdout",
       "text": [
        "Ther series resistance required is  2.0  kilo-ohm.\n",
        "The dark current is  0.3  A.\n"
       ]
      }
     ],
     "prompt_number": 10
    },
    {
     "cell_type": "heading",
     "level": 2,
     "metadata": {},
     "source": [
      "Example 13.11 , Page Number 284"
     ]
    },
    {
     "cell_type": "code",
     "collapsed": false,
     "input": [
      "#Variables\n",
      "\n",
      "V = 12.0                        #Battery voltage (in volts)\n",
      "I = 0.5                         #Current (in Ampere)\n",
      "T = 24                          #Time period (in hours)\n",
      "V1 = 0.5                        #Voltage by each cell (in volts)\n",
      "I1 = 50 * 10**-3                #Current in each cell (in Ampere)\n",
      "\n",
      "#Calculation\n",
      "\n",
      "VS = 13.5                       #Solar bank voltage (in volts)\n",
      "n = VS / V1                     #Number of series connected solar cells \n",
      "Q = T/2 * I                     #Charge given out in one day (in Ampere-Hour)\n",
      "I2 = Q / (T/2)                  #Charging current (in Ampere)\n",
      "N = I2/I1                       #Number of groups of solar cell required                     \n",
      "nT = n * N                      #Total number of solar cells required               \n",
      "\n",
      "#Result\n",
      "\n",
      "print \"Total cells required is \",nT,\".\" "
     ],
     "language": "python",
     "metadata": {},
     "outputs": [
      {
       "output_type": "stream",
       "stream": "stdout",
       "text": [
        "Total cells required is  270.0 .\n"
       ]
      }
     ],
     "prompt_number": 11
    }
   ],
   "metadata": {}
  }
 ]
}