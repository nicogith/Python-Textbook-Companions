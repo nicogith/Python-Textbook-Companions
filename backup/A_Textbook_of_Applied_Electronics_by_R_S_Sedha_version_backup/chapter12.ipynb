{
 "metadata": {
  "name": "",
  "signature": "sha256:4f9a886343eabfb6ce6cbe3bd27b3463c264efdc9adbc5c406f46f986746bd4d"
 },
 "nbformat": 3,
 "nbformat_minor": 0,
 "worksheets": [
  {
   "cells": [
    {
     "cell_type": "heading",
     "level": 1,
     "metadata": {},
     "source": [
      "Chapter 12 , PN Junction Diode"
     ]
    },
    {
     "cell_type": "heading",
     "level": 2,
     "metadata": {},
     "source": [
      "Example 12.1 , Page Number 226"
     ]
    },
    {
     "cell_type": "code",
     "collapsed": false,
     "input": [
      "#Variables\n",
      "\n",
      "I0 = 2 * 10**-7              #Current (in Ampere)\n",
      "VF = 0.1                     #Forward voltage (in volts)\n",
      "\n",
      "#Calculation\n",
      "\n",
      "I = I0 * (exp(40*VF)-1)      #Current through diode (in Ampere)\n",
      "\n",
      "#Result\n",
      "\n",
      "print \"Current throrough diode is \",round(I*10**6,2),\" micro-Ampere.\""
     ],
     "language": "python",
     "metadata": {},
     "outputs": [
      {
       "output_type": "stream",
       "stream": "stdout",
       "text": [
        "Current throrough diode is  10.72  micro-Ampere.\n"
       ]
      }
     ],
     "prompt_number": 15
    },
    {
     "cell_type": "heading",
     "level": 2,
     "metadata": {},
     "source": [
      "Example 12.2 , Page Number 226"
     ]
    },
    {
     "cell_type": "code",
     "collapsed": false,
     "input": [
      "#Variables\n",
      "\n",
      "VF = 0.22                      #Forward voltage (in volts)\n",
      "T = 298.0                      #Temperature (in kelvin)\n",
      "I0 = 10**-3                    #Current (in Ampere)\n",
      "n = 1\n",
      "\n",
      "#Calculation\n",
      "\n",
      "VT = T/11600                   #Volt equivalent of temperature (in volts)\n",
      "I = I0*(exp(VF/(n*VT))-1)      #Diode Current (in Ampere) \n",
      "\n",
      "#Result\n",
      "\n",
      "print \"Diode current is \",round(I,1),\" A.\""
     ],
     "language": "python",
     "metadata": {},
     "outputs": [
      {
       "output_type": "stream",
       "stream": "stdout",
       "text": [
        "Diode current is  5.2  A.\n"
       ]
      }
     ],
     "prompt_number": 14
    },
    {
     "cell_type": "heading",
     "level": 2,
     "metadata": {},
     "source": [
      "Example 12.3 , Page Number 226"
     ]
    },
    {
     "cell_type": "code",
     "collapsed": false,
     "input": [
      "#Variables\n",
      "\n",
      "I1 = 0.5 * 10**-3          #Diode current1 (in Ampere)\n",
      "V1 = 340 * 10**-3          #Voltage1 (in volts)\n",
      "I2 = 15 * 10**-3           #Diode current2 (in Ampere)\n",
      "V2 = 440 * 10**-3          #Voltage2 (in volts)\n",
      "\n",
      "#Calculation\n",
      "\n",
      "n = 4/log(30)                #By solving both the given equations\n",
      "\n",
      "#Result\n",
      "\n",
      "print \"Value of n is \",round(n,2),\".\""
     ],
     "language": "python",
     "metadata": {},
     "outputs": [
      {
       "output_type": "stream",
       "stream": "stdout",
       "text": [
        "Value of n is  1.18 .\n"
       ]
      }
     ],
     "prompt_number": 13
    },
    {
     "cell_type": "heading",
     "level": 2,
     "metadata": {},
     "source": [
      "Example 12.4 , Page Number 228"
     ]
    },
    {
     "cell_type": "code",
     "collapsed": false,
     "input": [
      "#Variables\n",
      "\n",
      "I300 = 10 * 10**-6             #Current at 300 kelvin (in Ampere)\n",
      "T1 = 300                       #Temperature (in kelvin)\n",
      "T2 = 400                       #Temperature (in kelvin)\n",
      "\n",
      "#Calculation\n",
      "\n",
      "I400 = I300 * 2**((T2-T1)/10)  #Current at 400 kelvin (in Ampere)  \n",
      "\n",
      "#Result\n",
      "\n",
      "print \"Current at 400 k is \",round(I400*10**3,1),\" mA.\""
     ],
     "language": "python",
     "metadata": {},
     "outputs": [
      {
       "output_type": "stream",
       "stream": "stdout",
       "text": [
        "Current at 400 k is  10.2  mA.\n"
       ]
      }
     ],
     "prompt_number": 12
    },
    {
     "cell_type": "heading",
     "level": 2,
     "metadata": {},
     "source": [
      "Example 12.5 , Page Number 230"
     ]
    },
    {
     "cell_type": "code",
     "collapsed": false,
     "input": [
      "#Variables\n",
      "\n",
      "rb = 2               #bulk resistance (in ohm)\n",
      "IF = 12 * 10**-3     #FOrward current (in Ampere)\n",
      "\n",
      "#Calculation\n",
      "\n",
      "VF = 0.6 + IF * rb   #Voltage drop (in volts)\n",
      "\n",
      "#Result\n",
      "\n",
      "print \"Voltage drop across a silicon diode is \",VF,\" V.\""
     ],
     "language": "python",
     "metadata": {},
     "outputs": [
      {
       "output_type": "stream",
       "stream": "stdout",
       "text": [
        "Voltage drop across a silicon diode is  0.624  V.\n"
       ]
      }
     ],
     "prompt_number": 11
    },
    {
     "cell_type": "heading",
     "level": 2,
     "metadata": {},
     "source": [
      "Example 12.6 , Page Number 230"
     ]
    },
    {
     "cell_type": "code",
     "collapsed": false,
     "input": [
      "#Variables\n",
      "\n",
      "T = 398.0                    #Temperature (in kelvin)\n",
      "I0 = 30 * 10**-6             #Reverse saturation current (in Ampere)\n",
      "V = 0.2                      #Voltage (in volts)\n",
      "\n",
      "#Calculation\n",
      "\n",
      "VT = T/11600                 #Volt equivalent of temperature (in volts)\n",
      "I = I0 * (exp(V/VT)-1)       #Diode current (in Ampere)\n",
      "rac = VT/I0 * exp(-V/VT)     #dynamic resistance in forward direction (in ohm)\n",
      "rac1 = VT/I0 * exp(V/VT)     #dynamic resistance in reverse direction (in ohm)\n",
      "\n",
      "#Result\n",
      "\n",
      "print \"Dynamic resistance in forward direction is \",round(rac,2),\" ohm.\\nDynamic resistance in backward direction is \",round(rac1/10**6,3),\" Mega-ohm.\""
     ],
     "language": "python",
     "metadata": {},
     "outputs": [
      {
       "output_type": "stream",
       "stream": "stdout",
       "text": [
        "Dynamic resistance in forward direction is  3.36  ohm.\n",
        "Dynamic resistance in backward direction is  0.389  Mega-ohm.\n"
       ]
      }
     ],
     "prompt_number": 10
    },
    {
     "cell_type": "heading",
     "level": 2,
     "metadata": {},
     "source": [
      "Example 12.8 , Page Number 237"
     ]
    },
    {
     "cell_type": "code",
     "collapsed": false,
     "input": [
      "#Variables\n",
      "\n",
      "PDmax = 0.5              #power dissipation (in watt)\n",
      "VF = 1                   #Forward voltage (in volts)\n",
      "VBR = 150                #Breakdown voltage (in volts)\n",
      "\n",
      "#Calculation\n",
      "\n",
      "IFmax = PDmax/VF         #Maximum forward current (in Ampere)\n",
      "IR = PDmax/VBR           #Breakdwon current that burns out the diode (in Ampere)\n",
      "\n",
      "#Result\n",
      "\n",
      "print \"Maximum forward current is \",IFmax,\" A.\\nBreakdwon current that burns out the diode is \",round(IR*10**3,2),\" mA.\""
     ],
     "language": "python",
     "metadata": {},
     "outputs": [
      {
       "output_type": "stream",
       "stream": "stdout",
       "text": [
        "Maximum forward current is  0.5  A.\n",
        "Breakdwon current that burns out the diode is  3.33  mA.\n"
       ]
      }
     ],
     "prompt_number": 9
    },
    {
     "cell_type": "heading",
     "level": 2,
     "metadata": {},
     "source": [
      "Example 12.9 , Page Number 238"
     ]
    },
    {
     "cell_type": "code",
     "collapsed": false,
     "input": [
      "#Variables\n",
      "\n",
      "R = 330                   #Resistance (in ohm)\n",
      "VS = 5                    #Source voltage (in volts)\n",
      "\n",
      "#Calculation\n",
      "\n",
      "VD = VS                   #Voltage drop across diode (in volts)\n",
      "VR = 0                    #VOltage drop across the resistance (in volts)\n",
      "I = 0                     #Current through circuit\n",
      "\n",
      "#Result\n",
      "\n",
      "print \"Voltage drop across the diode is \",VD,\" V.\\nVoltage drop across the resistance is \",VR,\" V.\\nCurrent through the circuit is \",I,\" A.\""
     ],
     "language": "python",
     "metadata": {},
     "outputs": [
      {
       "output_type": "stream",
       "stream": "stdout",
       "text": [
        "Voltage drop across the diode is  5  V.\n",
        "Voltage drop across the resistance is  0  V.\n",
        "Current through the circuit is  0  A.\n"
       ]
      }
     ],
     "prompt_number": 8
    },
    {
     "cell_type": "heading",
     "level": 2,
     "metadata": {},
     "source": [
      "Example 12.10 , Page Number 239"
     ]
    },
    {
     "cell_type": "code",
     "collapsed": false,
     "input": [
      "#Variables\n",
      "\n",
      "VS = 12.0                     #Source coltage (in volts)\n",
      "R = 470.0                     #Resistance (in ohm)\n",
      "\n",
      "#Calculation\n",
      "\n",
      "VD = 0                      #Voltage drop across diode (in volts)\n",
      "VR = VS                     #Value of VR (in volts)\n",
      "I = VS/R                    #Current (in Ampere)\n",
      "\n",
      "#Result\n",
      "\n",
      "print \"Value of VD is \",VD,\" V.\\nValue of VR is \",VR,\" V.\\nCurrent through the circuit is \",round(I*10**3,2),\" mA.\""
     ],
     "language": "python",
     "metadata": {},
     "outputs": [
      {
       "output_type": "stream",
       "stream": "stdout",
       "text": [
        "Value of VD is  0  V.\n",
        "Value of VR is  12.0  V.\n",
        "Current through the circuit is  25.53  mA.\n"
       ]
      }
     ],
     "prompt_number": 7
    },
    {
     "cell_type": "heading",
     "level": 2,
     "metadata": {},
     "source": [
      "Example 12.11 , Page Number 239"
     ]
    },
    {
     "cell_type": "code",
     "collapsed": false,
     "input": [
      "#Variables\n",
      "\n",
      "VS = 6                 #Source voltage (in volts)\n",
      "R1 = 330               #Resistance (in ohm)\n",
      "R2 = 470               #Resistance (in ohm)\n",
      "VD = 0.7               #Diode voltage (in volts)\n",
      "\n",
      "#Calculation\n",
      "\n",
      "RT = R1 + R2           #Total Resistance (in ohm)\n",
      "I = (VS - 0.7)/RT      #Current through the diode\n",
      "\n",
      "#Result\n",
      "\n",
      "print \"Current through the circuit is \",I * 10**3,\" mA.\""
     ],
     "language": "python",
     "metadata": {},
     "outputs": [
      {
       "output_type": "stream",
       "stream": "stdout",
       "text": [
        "Current through the circuit is  6.625  mA.\n"
       ]
      }
     ],
     "prompt_number": 6
    },
    {
     "cell_type": "heading",
     "level": 2,
     "metadata": {},
     "source": [
      "Example 12.12 , Page Number 240"
     ]
    },
    {
     "cell_type": "code",
     "collapsed": false,
     "input": [
      "#Variables\n",
      "\n",
      "VS = 5                 #Source voltage (in volts)\n",
      "R = 510                #Resistance (in ohm)\n",
      "VF = 0.7               #Forward voltage drop (in volts)\n",
      "\n",
      "#Calculation\n",
      "\n",
      "VR = VS - VF           #Net voltage (in volts)\n",
      "I = VR / R             #Current through the diode\n",
      "\n",
      "#Result\n",
      "\n",
      "print \"Voltage across the resistor is \",VR,\" V.\\nThe circuit current is \",round(I * 10**3,2),\" mA.\""
     ],
     "language": "python",
     "metadata": {},
     "outputs": [
      {
       "output_type": "stream",
       "stream": "stdout",
       "text": [
        "Voltage across the resistor is  4.3  V.\n",
        "The circuit current is  8.43  mA.\n"
       ]
      }
     ],
     "prompt_number": 5
    },
    {
     "cell_type": "heading",
     "level": 2,
     "metadata": {},
     "source": [
      "Example 12.13 , Page Number 240"
     ]
    },
    {
     "cell_type": "code",
     "collapsed": false,
     "input": [
      "#Variables\n",
      "\n",
      "VS = 6                         #Source voltage (in volts)\n",
      "VD1 = VD2 = 0.7                #Diode Voltage drop (in volts)\n",
      "R = 1.5 * 10**3                #Resistance (in ohm)\n",
      "\n",
      "#Calculation\n",
      "\n",
      "I = (VS - VD1 - VD2)/R         #Current (in Ampere)\n",
      "\n",
      "#Result\n",
      "\n",
      "print \"Total current through the circuit is \",round(I * 10**3,3),\" mA.\" "
     ],
     "language": "python",
     "metadata": {},
     "outputs": [
      {
       "output_type": "stream",
       "stream": "stdout",
       "text": [
        "Total current through the circuit is  3.067  mA.\n"
       ]
      }
     ],
     "prompt_number": 4
    },
    {
     "cell_type": "heading",
     "level": 2,
     "metadata": {},
     "source": [
      "Example 12.14 , Page Number 240"
     ]
    },
    {
     "cell_type": "code",
     "collapsed": false,
     "input": [
      "#Variables\n",
      "\n",
      "VS = 12                          #Source voltage (in volts)\n",
      "R1 = 1.5 * 10**3                 #Resistance (in ohm)\n",
      "R2 = 1.8 * 10**3                 #Resistance (in ohm)\n",
      "VD1 = VD2 = 0.7                  #Diode Voltage drop (in volts)\n",
      "\n",
      "#Calculation\n",
      "\n",
      "RT = R1 + R2                     #Total Resistance (in ohm)\n",
      "I = (VS - VD1 - VD2)/RT          #Current (in Ampere)\n",
      "\n",
      "#Result\n",
      "\n",
      "print \"Total current through the circuit is \",round(I * 10**3,3),\" mA.\" "
     ],
     "language": "python",
     "metadata": {},
     "outputs": [
      {
       "output_type": "stream",
       "stream": "stdout",
       "text": [
        "Total current through the circuit is  3.212  mA.\n"
       ]
      }
     ],
     "prompt_number": 3
    },
    {
     "cell_type": "heading",
     "level": 2,
     "metadata": {},
     "source": [
      "Example 12.15 , Page Number 241"
     ]
    },
    {
     "cell_type": "code",
     "collapsed": false,
     "input": [
      "#Variables\n",
      "\n",
      "R = 3.3 * 10**3              #Resitance (in ohm) \n",
      "\n",
      "#Calculation\n",
      "\n",
      "#Case (a)\n",
      "\n",
      "V11 = V21 = 0                #Voltages (in volts)\n",
      "V01 = 0                      #Output Voltage (in volts)\n",
      "\n",
      "#Case (b)\n",
      "\n",
      "V21 = 0                      #Voltage (in volts)\n",
      "V22 = 5                      #Voltage (in volts)\n",
      "V02 = V22 - 0.7              #Output voltage (in volts)  \n",
      "\n",
      "#Case (c)\n",
      "\n",
      "V31 = 5                      #Voltage (in volts)\n",
      "V32 = 0                      #Voltages (in volts)\n",
      "V03 = V31 - 0.7              #Output voltage (in volts)  \n",
      "\n",
      "#Case (d)\n",
      "\n",
      "V41 = V42 = 5                #Voltages (in volts)\n",
      "V04 = V41 - 0.7              #Output voltage (in volts)  \n",
      "\n",
      "#Result\n",
      "\n",
      "print \"Output Voltage in case 1 is \",V01,\" V.\\nOutput Voltage in case 2 is \",V02,\" V.\\nOutput Voltage in case 3 is \",V03,\" V.\\nOutput Voltage in case 4 is \",V04,\" V.\""
     ],
     "language": "python",
     "metadata": {},
     "outputs": [
      {
       "output_type": "stream",
       "stream": "stdout",
       "text": [
        "Output Voltage in case 1 is  0  V.\n",
        "Output Voltage in case 2 is  4.3  V.\n",
        "Output Voltage in case 3 is  4.3  V.\n",
        "Output Voltage in case 4 is  4.3  V.\n"
       ]
      }
     ],
     "prompt_number": 2
    },
    {
     "cell_type": "heading",
     "level": 2,
     "metadata": {},
     "source": [
      "Example 12.16 , Page Number 242"
     ]
    },
    {
     "cell_type": "code",
     "collapsed": false,
     "input": [
      "import math\n",
      "\n",
      "#Variables\n",
      "\n",
      "rB = 1.0                                    #bulk resistance (in ohm)\n",
      "V = 10 * 10**-3                             #Signal Amplitude (in volts)\n",
      "\n",
      "#Calculation\n",
      "\n",
      "#Case (a)\n",
      "\n",
      "R = 20.0                                    #Resitance (in kilo-ohm)\n",
      "Vg = 20.0                                   #Source voltage (in volts)\n",
      "I = (Vg - 0.7)/R                            #Current (in milli-Ampere)         \n",
      "\n",
      "#Case (b)\n",
      "\n",
      "rj = 50.0                                   #junction resistance (in ohm)\n",
      "re = rB + rj                                #a.c. resistance (n ohm)\n",
      "rnet = re * (R*10**3)/(re + (R*10**3))      #Net resistance (in ohm)\n",
      "V1 = V * re/(re + 1000)                     #Voltage drop across 51 ohm resitance (in ohm)\n",
      "\n",
      "#Result\n",
      "\n",
      "print \"Current in dc circuit is \",round(I),\" mA.\\na.c voltage drop across 51 ohm resistance is \",round(V1*10**3,3),\" mV.\"\n",
      "\n",
      "#Graph\n",
      "\n",
      "x = linspace(-4*math.pi,4*math.pi,500)\n",
      "plot(x,0.7 + 0.48*10**-3*sin(x),)\n",
      "title(\"Total Voltage 'V' across the diode\")\n",
      "xlabel(\"t(in seconds)->\")\n",
      "ylabel(\"Voltage(in volts)->\")"
     ],
     "language": "python",
     "metadata": {},
     "outputs": [
      {
       "output_type": "stream",
       "stream": "stdout",
       "text": [
        "Current in dc circuit is  1.0  mA.\n",
        "a.c voltage drop across 51 ohm resistance is  0.485  mV.\n"
       ]
      },
      {
       "metadata": {},
       "output_type": "pyout",
       "prompt_number": 1,
       "text": [
        "<matplotlib.text.Text at 0x7f38e8365ad0>"
       ]
      },
      {
       "metadata": {},
       "output_type": "display_data",
       "png": "[encoded data removed]",
       "text": [
        "<matplotlib.figure.Figure at 0x7f38e8dab850>"
       ]
      }
     ],
     "prompt_number": 1
    }
   ],
   "metadata": {}
  }
 ]
}