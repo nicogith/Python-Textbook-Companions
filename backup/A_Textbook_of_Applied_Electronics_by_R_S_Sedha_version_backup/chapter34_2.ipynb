{
 "metadata": {
  "name": "",
  "signature": "sha256:3fc338a030e4c2c109e9bc75c84604c2cf87b091971f96fe505c5b211472f4a5"
 },
 "nbformat": 3,
 "nbformat_minor": 0,
 "worksheets": [
  {
   "cells": [
    {
     "cell_type": "heading",
     "level": 1,
     "metadata": {},
     "source": [
      "Chapter 34 , Time Base Circuits"
     ]
    },
    {
     "cell_type": "heading",
     "level": 2,
     "metadata": {},
     "source": [
      "Example 34.1, Page Number 883"
     ]
    },
    {
     "cell_type": "code",
     "collapsed": false,
     "input": [
      "import math\n",
      "\n",
      "#Variables\n",
      "\n",
      "R = 100.0 * 10**3                                #Resistance (in ohm)\n",
      "C = 0.4 * 10**-6                                 #Capacitance (in Farad)\n",
      "n = 0.57                                         #Ratio of peak-peak voltage to the supply voltage \n",
      "\n",
      "#Calculation\n",
      "\n",
      "f = 1 / (2.3 * R * C * math.log10(1/(1-n)))      #Frequency (in Hertz) \n",
      "\n",
      "#Result\n",
      "\n",
      "print \"Frequency of sweep is \",round(f,2),\" Hz.\"\n",
      "\n",
      "#Slight variation due to higher precision."
     ],
     "language": "python",
     "metadata": {},
     "outputs": [
      {
       "output_type": "stream",
       "stream": "stdout",
       "text": [
        "Frequency of sweep is  29.66  Hz.\n"
       ]
      }
     ],
     "prompt_number": 16
    },
    {
     "cell_type": "heading",
     "level": 2,
     "metadata": {},
     "source": [
      "Example 34.2 , Page Number 883"
     ]
    },
    {
     "cell_type": "code",
     "collapsed": false,
     "input": [
      "import math\n",
      "\n",
      "#Variables\n",
      "\n",
      "n = 0.62                                     #Ratio of peak-peak voltage to the supply voltage \n",
      "R = 5.0 * 10**3                              #Resistance (in ohm)\n",
      "C = 0.05 * 10**-6                            #Capacitor (in Farad)\n",
      "\n",
      "#Calculation\n",
      "\n",
      "T = 2.3 * R * C * math.log10(1/(1-n))        #Time period of oscillation (in seconds)\n",
      "f = 1/T                                      #Frequency of oscillation (in Hertz)   \n",
      "f1 = 50.0                                    #New frequency (in Hertz)\n",
      "T1 = 1/f1                                    #New time period of oscillation (in seconds)\n",
      "R1 = T1 / (2.3 * C * math.log10(1/(1-n)))    #New Resistance (in ohm)\n",
      "f2 = 50.0                                    #Another new frequency (in Hertz)\n",
      "C2 = 0.5 * 10**-6                            #Capacitance (in Farad)    \n",
      "T2 = 1/f2                                    #Another new time period (in seconds)\n",
      "R2 = T2 / (2.3 * C2 * math.log10(1/(1-n)))   #New Resistance (in ohm)\n",
      "\n",
      "#Result\n",
      "\n",
      "print \"The time period and frequency of oscillation in case 1 is \",round(T * 10**3,2),\" ms and \",round(f),\" Hz.\"\n",
      "print \"New value of R is \",round(R1 * 10**-3),\" kilo-ohm.\"\n",
      "print \"Value of R with C is 0.5 micro-Farad is \",round(R2 * 10**-3,1),\" kilo-ohm.\""
     ],
     "language": "python",
     "metadata": {},
     "outputs": [
      {
       "output_type": "stream",
       "stream": "stdout",
       "text": [
        "The time period and frequency of oscillation in case 1 is  0.24  ms and  4139.0  Hz.\n",
        "New value of R is  414.0  kilo-ohm.\n",
        "Value of R with C is 0.5 micro-Farad is  41.4  kilo-ohm.\n"
       ]
      }
     ],
     "prompt_number": 17
    }
   ],
   "metadata": {}
  }
 ]
}