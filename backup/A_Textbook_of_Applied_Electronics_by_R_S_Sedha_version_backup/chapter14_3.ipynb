{
 "metadata": {
  "name": "",
  "signature": "sha256:2230f558abad311ac9e2b809ce74f917fbf18727096bb922bf424293f0d38ca4"
 },
 "nbformat": 3,
 "nbformat_minor": 0,
 "worksheets": [
  {
   "cells": [
    {
     "cell_type": "heading",
     "level": 1,
     "metadata": {},
     "source": [
      "Chapter 14 , Bipolar Junction Transistor"
     ]
    },
    {
     "cell_type": "heading",
     "level": 2,
     "metadata": {},
     "source": [
      "Example 14.1 , Page Number 308"
     ]
    },
    {
     "cell_type": "code",
     "collapsed": false,
     "input": [
      "import math\n",
      "\n",
      "#Variables\n",
      "\n",
      "IE = 10                     #Emitter current (in milli-Ampere)\n",
      "IC = 9.8                    #Collector current (in milli-Ampere)  \n",
      "\n",
      "#Calculation\n",
      "\n",
      "IB = IE - IC                #Base current (in milli-Ampere)\n",
      "\n",
      "#Result\n",
      "\n",
      "print \"Base current is \",IB,\" mA.\"  "
     ],
     "language": "python",
     "metadata": {},
     "outputs": [
      {
       "output_type": "stream",
       "stream": "stdout",
       "text": [
        "Base current is  0.2  mA.\n"
       ]
      }
     ],
     "prompt_number": 1
    },
    {
     "cell_type": "heading",
     "level": 2,
     "metadata": {},
     "source": [
      "Example 14.2 , Page Number 310"
     ]
    },
    {
     "cell_type": "code",
     "collapsed": false,
     "input": [
      "import math\n",
      "\n",
      "#Variables\n",
      "\n",
      "IE = 6.28                     #Emitter current (in milli-Ampere)\n",
      "IC = 6.20                     #Collector current (in milli-Ampere)  \n",
      "\n",
      "#Calculation\n",
      "\n",
      "alpha = IC / IE               #Common base current gain   \n",
      "\n",
      "#Result\n",
      "\n",
      "print \"Common-Base current gain is \",round(alpha,3),\".\"  "
     ],
     "language": "python",
     "metadata": {},
     "outputs": [
      {
       "output_type": "stream",
       "stream": "stdout",
       "text": [
        "Common-Base current gain is  0.987 .\n"
       ]
      }
     ],
     "prompt_number": 2
    },
    {
     "cell_type": "heading",
     "level": 2,
     "metadata": {},
     "source": [
      "Example 14.3 , Page Number 310"
     ]
    },
    {
     "cell_type": "code",
     "collapsed": false,
     "input": [
      "import math\n",
      "\n",
      "#Variables\n",
      "\n",
      "alpha = 0.967                  #common base current gain\n",
      "IE = 10                        #Emitter current (in milli-Ampere)\n",
      "\n",
      "#Calculation\n",
      "\n",
      "IC = alpha * IE                #Collector current (in milli-Ampere)\n",
      "IB = IE - IC                   #Base current (in milli-Ampere)\n",
      "\n",
      "#Result\n",
      "\n",
      "print \"Base current is \",IB,\" mA.\" "
     ],
     "language": "python",
     "metadata": {},
     "outputs": [
      {
       "output_type": "stream",
       "stream": "stdout",
       "text": [
        "Base current is  0.33  mA.\n"
       ]
      }
     ],
     "prompt_number": 3
    },
    {
     "cell_type": "heading",
     "level": 2,
     "metadata": {},
     "source": [
      "Example 14.4 , Page Number 311"
     ]
    },
    {
     "cell_type": "code",
     "collapsed": false,
     "input": [
      "import math\n",
      "\n",
      "#Variables\n",
      "\n",
      "IE = 10                        #Emitter current (in milli-Ampere)\n",
      "alpha = 0.987                  #common base current gain\n",
      "\n",
      "#Calculation\n",
      "\n",
      "IC = alpha * IE                #Collector current (in milli-Ampere)\n",
      "IB = IE - IC                   #Base current (in milli-Ampere)\n",
      "\n",
      "#Result\n",
      "\n",
      "print \"IC is \",IC,\" mA.\\nIB is \",IB,\" mA.\""
     ],
     "language": "python",
     "metadata": {},
     "outputs": [
      {
       "output_type": "stream",
       "stream": "stdout",
       "text": [
        "IC is  9.87  mA.\n",
        "IB is  0.13  mA.\n"
       ]
      }
     ],
     "prompt_number": 4
    },
    {
     "cell_type": "heading",
     "level": 2,
     "metadata": {},
     "source": [
      "Example 14.5 , Page Number 312"
     ]
    },
    {
     "cell_type": "code",
     "collapsed": false,
     "input": [
      "import math\n",
      "\n",
      "#Variables\n",
      "\n",
      "alpha1 = 0.975                  #common base current gain\n",
      "beta1 = 200.0                   #common emitter current gain\n",
      "\n",
      "#Calculation\n",
      "\n",
      "beta = alpha1 / (1-alpha1)      #common emitter current gain           \n",
      "alpha = beta1 / (beta1 + 1)     #common base current gain \n",
      "\n",
      "#Result\n",
      "\n",
      "print \"Value of beta when alpha = 0.975 is \",beta,\".\\nValue of alpha when beta = 200 is \",round(alpha,3),\".\""
     ],
     "language": "python",
     "metadata": {},
     "outputs": [
      {
       "output_type": "stream",
       "stream": "stdout",
       "text": [
        "Value of beta when alpha = 0.975 is  39.0 .\n",
        "Value of alpha when beta = 200 is  0.995 .\n"
       ]
      }
     ],
     "prompt_number": 5
    },
    {
     "cell_type": "heading",
     "level": 2,
     "metadata": {},
     "source": [
      "Example 14.6 , Page Number 313"
     ]
    },
    {
     "cell_type": "code",
     "collapsed": false,
     "input": [
      "import math\n",
      "\n",
      "#Variables\n",
      "\n",
      "beta = 100.0                   #common emitter current gain\n",
      "IC = 40.0                      #Collector current (in milli-Ampere)  \n",
      "\n",
      "#Calculation\n",
      "\n",
      "IB = IC / beta                 #Base current (in milli-Ampere)\n",
      "IE = IB + IC                   #Emitter current (in milli-Ampere)\n",
      "\n",
      "#Result\n",
      "\n",
      "print \"The value of emitter current is \",IE,\" mA.\""
     ],
     "language": "python",
     "metadata": {},
     "outputs": [
      {
       "output_type": "stream",
       "stream": "stdout",
       "text": [
        "The value of emitter current is  40.4  mA.\n"
       ]
      }
     ],
     "prompt_number": 6
    },
    {
     "cell_type": "heading",
     "level": 2,
     "metadata": {},
     "source": [
      "Example 14.7 , Page Number 313"
     ]
    },
    {
     "cell_type": "code",
     "collapsed": false,
     "input": [
      "import math\n",
      "\n",
      "#Variables\n",
      "\n",
      "beta = 150.0                   #common emitter current gain\n",
      "IE = 10                        #Emitter current (in milli-Ampere)\n",
      "\n",
      "#Calculation\n",
      "\n",
      "alpha = beta / (beta + 1)      #common base current gain \n",
      "IC = alpha * IE                #Collector current (in milli-Ampere)\n",
      "IB = IE - IC                   #Base current (in milli-Ampere)\n",
      "\n",
      "#Result\n",
      "\n",
      "print \"Collector current is \",round(IC,2),\" mA.\\nBase current is \",round(IB,2),\" mA.\""
     ],
     "language": "python",
     "metadata": {},
     "outputs": [
      {
       "output_type": "stream",
       "stream": "stdout",
       "text": [
        "Collector current is  9.93  mA.\n",
        "Base current is  0.07  mA.\n"
       ]
      }
     ],
     "prompt_number": 7
    },
    {
     "cell_type": "heading",
     "level": 2,
     "metadata": {},
     "source": [
      "Example 14.8 , Page Number 313"
     ]
    },
    {
     "cell_type": "code",
     "collapsed": false,
     "input": [
      "import math\n",
      "\n",
      "#Variables\n",
      "\n",
      "beta = 170.0                   #common emitter current gain\n",
      "IC = 80.0                      #Collector current (in milli-Ampere)  \n",
      "\n",
      "#Calculation\n",
      "\n",
      "IB = IC / beta                 #Base current (in milli-Ampere)\n",
      "IE = IB + IC                   #Emitter current (in milli-Ampere)\n",
      "\n",
      "#Result\n",
      "\n",
      "print \"Base current is \",round(IB,2),\" mA.\\nEmitter current is \",round(IE,2),\" mA.\""
     ],
     "language": "python",
     "metadata": {},
     "outputs": [
      {
       "output_type": "stream",
       "stream": "stdout",
       "text": [
        "Base current is  0.47  mA.\n",
        "Emitter current is  80.47  mA.\n"
       ]
      }
     ],
     "prompt_number": 8
    },
    {
     "cell_type": "heading",
     "level": 2,
     "metadata": {},
     "source": [
      "Example 14.9 , Page Number 314"
     ]
    },
    {
     "cell_type": "code",
     "collapsed": false,
     "input": [
      "import math\n",
      "\n",
      "#Variables\n",
      "\n",
      "IB = 0.125                       #Base current (in milli-Ampere)\n",
      "beta = 200.0                     #common emitter current gain\n",
      "\n",
      "#Calculation\n",
      "\n",
      "IC = IB * beta                   #Collector current (in milli-Ampere)\n",
      "IE = IC + IB                     #Emitter current (in milli-Ampere)\n",
      "\n",
      "#Result\n",
      "\n",
      "print \"Value of collector current is \",IC,\" mA.\\nValue of emitter current is \",IE,\" mA.\"\n",
      "\n",
      "#Correction in book . The Value of IB is 0.125 mA."
     ],
     "language": "python",
     "metadata": {},
     "outputs": [
      {
       "output_type": "stream",
       "stream": "stdout",
       "text": [
        "Value of collector current is  25.0  mA.\n",
        "Value of emitter current is  25.125  mA.\n"
       ]
      }
     ],
     "prompt_number": 9
    },
    {
     "cell_type": "heading",
     "level": 2,
     "metadata": {},
     "source": [
      "Example 14.10 , Page Number 314"
     ]
    },
    {
     "cell_type": "code",
     "collapsed": false,
     "input": [
      "import math\n",
      "\n",
      "#Variables\n",
      "\n",
      "IE = 12.0                        #Emitter current (in milli-Ampere)\n",
      "beta = 140.0                     #common emitter current gain\n",
      "\n",
      "#Calculation\n",
      "\n",
      "IB = IE / (1 + beta)             #Base current (in milli-Ampere)\n",
      "IC = IE - IB                     #Collector current (in milli-Ampere)\n",
      "\n",
      "#Result\n",
      "\n",
      "print \"Collector current is \",round(IC,3),\" mA.\\nBase current is \",round(IB,3),\" mA.\""
     ],
     "language": "python",
     "metadata": {},
     "outputs": [
      {
       "output_type": "stream",
       "stream": "stdout",
       "text": [
        "Collector current is  11.915  mA.\n",
        "Base current is  0.085  mA.\n"
       ]
      }
     ],
     "prompt_number": 10
    },
    {
     "cell_type": "heading",
     "level": 2,
     "metadata": {},
     "source": [
      "Example 14.11 , Page Number 314"
     ]
    },
    {
     "cell_type": "code",
     "collapsed": false,
     "input": [
      "import math\n",
      "\n",
      "#Variables\n",
      "\n",
      "IB = 105 * 10**-3                 #Base current (in milli-Ampere)\n",
      "IC = 2.05                         #Collector current (in milli-Ampere)\n",
      "\n",
      "#Calculation\n",
      "\n",
      "beta = IC / IB                    #Common base current gain\n",
      "alpha = beta / (1 + beta)         #Common emitter current gain\n",
      "IE = IB + IC                      #Emitter current (in milli-Ampere)\n",
      "IC1 = IC + 0.65                   #New collector current (in milli-Ampere)\n",
      "IB1 = IB + 27 * 10**-3            #New base current (in milli-Ampere)                     \n",
      "beta1 = IC1 / IB1                 #New value of beta\n",
      "\n",
      "#Result\n",
      "\n",
      "print \"Beta of the transistor is \",round(beta,1),\".\\nalpha of the transistor is \",round(alpha,2),\".\\nEmitter current is \",IE,\" mA.\\nNew value of beta is \",round(beta1,2),\".\"\n",
      "\n",
      "#Correction to be done in book in value of IB . IB is in micro - Ampere in both initial and in the changed condition. In calculation proper conversion has been done."
     ],
     "language": "python",
     "metadata": {},
     "outputs": [
      {
       "output_type": "stream",
       "stream": "stdout",
       "text": [
        "Beta of the transistor is  19.5 .\n",
        "alpha of the transistor is  0.95 .\n",
        "Emitter current is  2.155  mA.\n",
        "New value of beta is  20.45 .\n"
       ]
      }
     ],
     "prompt_number": 11
    },
    {
     "cell_type": "heading",
     "level": 2,
     "metadata": {},
     "source": [
      "Example 14.12 , Page Number 317"
     ]
    },
    {
     "cell_type": "code",
     "collapsed": false,
     "input": [
      "import math\n",
      "\n",
      "#Variables\n",
      "\n",
      "alpha = 0.98                               #common base current gain\n",
      "ICO = 5 * 10**-3                           #Leakage current (in milli-Ampere)\n",
      "IB = 100 * 10**-3                          #Base current (in milli-Ampere)\n",
      "\n",
      "#Calculation\n",
      "\n",
      "IC = (alpha * IB + ICO)/ (1 - alpha)       #Collector current (in milli-Ampere)\n",
      "IE = IC + IB                               #Emitter current (in milli-Ampere)                        \n",
      "\n",
      "#Result\n",
      "\n",
      "print \"Value of collector current is \",IC,\" mA.\\nValue of emitter current is \",IE,\" mA.\"\n",
      "\n",
      "#Correction about conversion of micro-Ampere and milli-Ampere to be done in the book."
     ],
     "language": "python",
     "metadata": {},
     "outputs": [
      {
       "output_type": "stream",
       "stream": "stdout",
       "text": [
        "Value of collector current is  5.15  mA.\n",
        "Value of emitter current is  5.25  mA.\n"
       ]
      }
     ],
     "prompt_number": 12
    },
    {
     "cell_type": "heading",
     "level": 2,
     "metadata": {},
     "source": [
      "Example 14.13 , Page Number 318"
     ]
    },
    {
     "cell_type": "code",
     "collapsed": false,
     "input": [
      "import math\n",
      "\n",
      "#Variables\n",
      "\n",
      "ICBO = 10 * 10**-3                    #Leakage current (in milli-Ampere)\n",
      "beta = hFE = 50                       #common emitter current gain\n",
      "T2 = 50.0                             #Temperature (in degree Celsius)  \n",
      "T1 = 27.0                             #Temperature (in degree Celsius)\n",
      "\n",
      "#Calculation\n",
      "\n",
      "#Case (a)\n",
      "\n",
      "IB = 0.25                             #Base current (in milli-Ampere)\n",
      "IC = beta * IB + (1 + beta)* ICBO     #Value of new collector current (in milli-Ampere)\n",
      "\n",
      "#Case (b)\n",
      "\n",
      "ICBO1 = ICBO * 2**((T2 - T1)/10)      #ICBO at 50 degree celsius (in milli-Ampere)\n",
      "IC1 =  beta * IB + (1 + beta)* ICBO1  #Value of new collector current (in milli-Ampere)\n",
      "\n",
      "#Result\n",
      "\n",
      "print \"Collector current when IB = 0.25 mA is \",IC,\" mA.\\nCollector current at 50 degree Celsius is \",round(IC1,2),\" mA.\""
     ],
     "language": "python",
     "metadata": {},
     "outputs": [
      {
       "output_type": "stream",
       "stream": "stdout",
       "text": [
        "Collector current when IB = 0.25 mA is  13.01  mA.\n",
        "Collector current at 50 degree Celsius is  15.01  mA.\n"
       ]
      }
     ],
     "prompt_number": 13
    }
   ],
   "metadata": {}
  }
 ]
}