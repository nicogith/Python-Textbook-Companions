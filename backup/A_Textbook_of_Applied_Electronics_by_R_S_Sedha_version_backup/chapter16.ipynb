{
 "metadata": {
  "name": "",
  "signature": "sha256:f25147ebcc92e6ce53b6688799fa9c871a43d56b8db4b81050d11be7008518fd"
 },
 "nbformat": 3,
 "nbformat_minor": 0,
 "worksheets": [
  {
   "cells": [
    {
     "cell_type": "heading",
     "level": 1,
     "metadata": {},
     "source": [
      "Chapter 16 , Field-Effect Transistor"
     ]
    },
    {
     "cell_type": "heading",
     "level": 2,
     "metadata": {},
     "source": [
      "Example 16.1 , Page Number 350"
     ]
    },
    {
     "cell_type": "code",
     "collapsed": false,
     "input": [
      "#Variables\n",
      " \n",
      "IDSS = 15.0                            #Drain-Source current (in milli-Ampere)\n",
      "VGSoff = -5.0                          #Gate-Source voltage (in volts)\n",
      "\n",
      "#Calculation\n",
      "\n",
      "#When VGS = 0 volts\n",
      "VGS1 = 0                               #VGS (in volts)\n",
      "ID1 = IDSS * (1 - (VGS1 /VGSoff)**2)   #Drain current (in milli-Ampere)\n",
      "\n",
      "#When VGS = -1 volt\n",
      "VGS2 = -1                              #VGS (in volts)\n",
      "ID2 = IDSS * (1 - VGS2 /VGSoff)**2     #Drain current (in milli-Ampere)\n",
      "\n",
      "#When VGS = -4 volt\n",
      "VGS3 = -4                              #VGS (in volts)  \n",
      "ID3 = IDSS * (1 - VGS3 /VGSoff)**2     #Drain current (in milli-Ampere)\n",
      "\n",
      "#Result\n",
      "\n",
      "print \"Drain current when VGS = 0 V is \",ID1,\" mA.\\nDrain Current when VGS = -1 V is \",ID2,\" mA.\\nDrain Current when VGS = -4 V is \",ID3,\" mA.\"  "
     ],
     "language": "python",
     "metadata": {},
     "outputs": [
      {
       "output_type": "stream",
       "stream": "stdout",
       "text": [
        "Drain current when VGS = 0 V is  15.0  mA.\n",
        "Drain Current when VGS = -1 V is  9.6  mA.\n",
        "Drain Current when VGS = -4 V is  0.6  mA.\n"
       ]
      }
     ],
     "prompt_number": 1
    },
    {
     "cell_type": "heading",
     "level": 2,
     "metadata": {},
     "source": [
      "Example 16.2 , Page Number 350"
     ]
    },
    {
     "cell_type": "code",
     "collapsed": false,
     "input": [
      "#Variables\n",
      "\n",
      "VGSoff = -20.0                          #Gate-Source voltage (in volts)\n",
      "IDSS = 12.0                             #Drain-Source current (in milli-Ampere)\n",
      "\n",
      "#Calculation\n",
      "\n",
      "#When VGS = -5 V \n",
      "VGS1 = -5                               #VGS (in volts)\n",
      "ID1 = IDSS * (1 - VGS1/VGSoff)**2       #Drain current (in milli-Ampere)\n",
      "\n",
      "#When VGS = -10 V\n",
      "VGS2 = -10                              #VGS (in volts)\n",
      "ID2 = IDSS * (1 - VGS2/VGSoff)**2       #Drain current (in milli-Ampere)\n",
      "\n",
      "#When VGS = -15 V\n",
      "VGS3 = -15                              #VGS (in volts)\n",
      "ID3 = IDSS * (1 - VGS3/VGSoff)**2       #Drain current (in milli-Ampere)\n",
      "\n",
      "#Result\n",
      "\n",
      "print \"Drain current when VGS = 0 V is \",ID1,\" mA.\\nDrain Current when VGS = -1 V is \",ID2,\" mA.\\nDrain Current when VGS = -4 V is \",ID3,\" mA.\" \n",
      "\n",
      "#Graph\n",
      "\n",
      "x = linspace(-20,0,100)\n",
      "plot(x,12*(1+x/20)**2,'r')\n",
      "title(\"transconductance curve\")\n",
      "xlabel(\"Gate-to-Source voltage VGS (V)\")\n",
      "ylabel(\"Drain current ID(mA)\")"
     ],
     "language": "python",
     "metadata": {},
     "outputs": [
      {
       "output_type": "stream",
       "stream": "stdout",
       "text": [
        "Drain current when VGS = 0 V is  6.75  mA.\n",
        "Drain Current when VGS = -1 V is  3.0  mA.\n",
        "Drain Current when VGS = -4 V is  0.75  mA.\n"
       ]
      },
      {
       "metadata": {},
       "output_type": "pyout",
       "prompt_number": 2,
       "text": [
        "<matplotlib.text.Text at 0x7f61cd1fe510>"
       ]
      },
      {
       "metadata": {},
       "output_type": "display_data",
       "png": "[encoded data removed]",
       "text": [
        "<matplotlib.figure.Figure at 0x7f61cdc432d0>"
       ]
      }
     ],
     "prompt_number": 2
    },
    {
     "cell_type": "heading",
     "level": 2,
     "metadata": {},
     "source": [
      "Example 16.3 , Page Number 351"
     ]
    },
    {
     "cell_type": "code",
     "collapsed": false,
     "input": [
      "#Variables\n",
      "\n",
      "VGSoffmin = -2.0                          #Gate-Source voltage (in volts)\n",
      "VGSoffmax = -6.0                          #Gate-Source voltage (in volts)\n",
      "IDSSmin = 8.0                             #Drain-Source current (in milli-Ampere)\n",
      "IDSSmax = 20                              #Drain-Source current (in milli-Ampere)\n",
      "\n",
      "#Calculation\n",
      "\n",
      "#ID = IDSS * (1 - VGS/VGSoff)**2           #Drain current (in milli-Ampere)\n",
      "\n",
      "#Plotting different values of VGS in the graph\n",
      "\n",
      "#Result\n",
      "print \"The maximum curve and minimum curves are plotted as shown in the following plots.\"\n",
      "\n",
      "#Graph\n",
      "\n",
      "x1 = linspace(-2,0,2)\n",
      "plot(x1,8 * (1 + x1/2)**2)\n",
      "x2 = linspace(-6,0,2)\n",
      "plot(x2,20 * (1 + x2/6)**2,'r')\n",
      "title(\"VGs vs ID\")\n",
      "xlabel(\"Gate-to-Source voltage (VGS)\")\n",
      "ylabel(\"Drain current ID (mA)\")\n",
      "annotate(\"maximum curve\",xy=(-5,10))\n",
      "annotate(\"minimum curve\",xy=(-2.5,5))"
     ],
     "language": "python",
     "metadata": {},
     "outputs": [
      {
       "output_type": "stream",
       "stream": "stdout",
       "text": [
        "The maximum curve and minimum curves are plotted as shown in the following plots.\n"
       ]
      },
      {
       "metadata": {},
       "output_type": "pyout",
       "prompt_number": 3,
       "text": [
        "<matplotlib.text.Annotation at 0x7f61cd163d10>"
       ]
      },
      {
       "metadata": {},
       "output_type": "display_data",
       "png": "[encoded data removed]",
       "text": [
        "<matplotlib.figure.Figure at 0x7f61cd17d9d0>"
       ]
      }
     ],
     "prompt_number": 3
    },
    {
     "cell_type": "heading",
     "level": 2,
     "metadata": {},
     "source": [
      "Example 16.4 , Page Number 356"
     ]
    },
    {
     "cell_type": "code",
     "collapsed": false,
     "input": [
      "#Variables\n",
      "\n",
      "VGS1 = -3.1                          #Gate-Source voltage (in volts)\n",
      "VGS2 = -3.0                          #Gate-Source voltage (in volts)\n",
      "ID1 = 1.0                            #Drain current (in milli-Ampere)                  \n",
      "ID2 = 1.3                            #Drain current (in milli-Ampere)\n",
      "\n",
      "#Calculation\n",
      "\n",
      "dVGS = VGS2 - VGS1                   #Change in Gate-Source voltage (in volts)\n",
      "dID = ID2 - ID1                      #Change in Drain current (in milli-Ampere)\n",
      "gm = dID / dVGS                      #Transconductance (in milli-Ampere per volt)\n",
      "\n",
      "#Result\n",
      "\n",
      "print \"The value of transconductance is \",gm,\" mA/V.\"\n",
      "\n",
      "#Calculation error in book in the value of gm."
     ],
     "language": "python",
     "metadata": {},
     "outputs": [
      {
       "output_type": "stream",
       "stream": "stdout",
       "text": [
        "The value of transconductance is  3.0  mA/V.\n"
       ]
      }
     ],
     "prompt_number": 1
    },
    {
     "cell_type": "heading",
     "level": 2,
     "metadata": {},
     "source": [
      "Example 16.5 , Page Number 357"
     ]
    },
    {
     "cell_type": "code",
     "collapsed": false,
     "input": [
      "#Variables\n",
      "\n",
      "IDSS = 20.0                             #Drain-Source current (in milli-Ampere)\n",
      "VP = -8.0                               #Peak-point Voltage (in volts)\n",
      "VGS = -4.0                              #Gate-Source voltage (in volts)\n",
      "gmo = 5000 * 10**-3                     #Transconductance (in milli-Ampere per volt)\n",
      "\n",
      "#Calculation\n",
      "\n",
      "ID = IDSS * (1 - VGS/VP)**2             #Drain current (in milli-Ampere)\n",
      "gm = gmo * (1 - VGS/VP)                 #Transconductance (in milli-Ampere per volt)\n",
      "\n",
      "#Result\n",
      "\n",
      "print \"The value of transconductance at VGS = -4 V is \",gm * 10**3,\" micro-S.\\nThe value of drain current at VGs = -4 V is \",ID,\" mA.\" "
     ],
     "language": "python",
     "metadata": {},
     "outputs": [
      {
       "output_type": "stream",
       "stream": "stdout",
       "text": [
        "The value of transconductance at VGS = -4 V is  2500.0  micro-S.\n",
        "The value of drain current at VGs = -4 V is  5.0  mA.\n"
       ]
      }
     ],
     "prompt_number": 5
    },
    {
     "cell_type": "heading",
     "level": 2,
     "metadata": {},
     "source": [
      "Example 16.6 , Page Number 363"
     ]
    },
    {
     "cell_type": "code",
     "collapsed": false,
     "input": [
      "#Variables\n",
      "\n",
      "IDon = 10.0                           #Drain current (in milli-Ampere)\n",
      "VGS = -12.0                           #Gate-Source voltage (in volts)\n",
      "VGSth = -3.0                          #Threshold Gate-Source voltage  (in volts)\n",
      "VGS1 = -6.0                           #Gate-Source voltage in another case (in volts)\n",
      "\n",
      "#Calculation\n",
      "\n",
      "K = IDon/(VGS - VGSth)**2             #Transconductance (milli-Ampere per volt)\n",
      "ID = round(K,2) * (VGS1 - VGSth)**2   #Drain current (in milli-Ampere)\n",
      "\n",
      "#Result\n",
      "\n",
      "print \"Since the value of VGS is negative for the enhancement-type MOSFET ,this indicated that device is P-channel.\"\n",
      "print \"The value of ID when VGS = -6 V is \",ID,\" mA.\""
     ],
     "language": "python",
     "metadata": {},
     "outputs": [
      {
       "output_type": "stream",
       "stream": "stdout",
       "text": [
        "Since the value of VGS is negative for the enhancement-type MOSFET ,this indicated that device is P-channel.\n",
        "The value of ID when VGS = -6 V is  1.08  mA.\n"
       ]
      }
     ],
     "prompt_number": 6
    }
   ],
   "metadata": {}
  }
 ]
}