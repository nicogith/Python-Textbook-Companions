{
 "metadata": {
  "name": "",
  "signature": "sha256:0fdc7dcad8fcd2f167edb5ff1aa93cdfcfdf893e69231f27b735d5b50d2a9828"
 },
 "nbformat": 3,
 "nbformat_minor": 0,
 "worksheets": [
  {
   "cells": [
    {
     "cell_type": "heading",
     "level": 1,
     "metadata": {},
     "source": [
      " Chapter 3 , Electricity and Ohm's Law"
     ]
    },
    {
     "cell_type": "heading",
     "level": 2,
     "metadata": {},
     "source": [
      "Example 3.1 , Page Number 23"
     ]
    },
    {
     "cell_type": "code",
     "collapsed": false,
     "input": [
      "#Variables\n",
      "\n",
      "W = 75.0     #Work done (in Joules)\n",
      "Q = 50.0     #Charge produced (in Coulomb)\n",
      "\n",
      "#Calculation\n",
      "V = W/Q    #Voltage between battery terminals (in Volts)\n",
      "\n",
      "#Result\n",
      "print \"Terminal voltage of a battery is \",V,\" V.\""
     ],
     "language": "python",
     "metadata": {},
     "outputs": [
      {
       "output_type": "stream",
       "stream": "stdout",
       "text": [
        "Terminal voltage of a battery is  1.5  V.\n"
       ]
      }
     ],
     "prompt_number": 2
    },
    {
     "cell_type": "heading",
     "level": 2,
     "metadata": {},
     "source": [
      "Example 3.2 , Page Number 23"
     ]
    },
    {
     "cell_type": "code",
     "collapsed": false,
     "input": [
      "#Variables\n",
      "V = 1.5    #Voltage (in Volts)\n",
      "E =7.5     #Energy produced (in Joules)\n",
      "\n",
      "#Calculation\n",
      "Q = E/V    #Charge separated ( in Coulomb )\n",
      "\n",
      "#Result\n",
      "print \"The Amount of charge separated by the battery is \",Q,\" C.\""
     ],
     "language": "python",
     "metadata": {},
     "outputs": [
      {
       "output_type": "stream",
       "stream": "stdout",
       "text": [
        "The Amount of charge separated by the battery is  5.0  C.\n"
       ]
      }
     ],
     "prompt_number": 3
    },
    {
     "cell_type": "heading",
     "level": 2,
     "metadata": {},
     "source": [
      "Example 3.3 , Page Number 25"
     ]
    },
    {
     "cell_type": "code",
     "collapsed": false,
     "input": [
      "#Variables \n",
      "\n",
      "Q = 7.5         #Charge (in Coulomb)\n",
      "t = 0.5         #Time (in minute)\n",
      "\n",
      "#Calculation\n",
      "\n",
      "t = 0.5 * 60    #Time (in seconds)\n",
      "I= Q/t          #Current (in Ampere)\n",
      "\n",
      "#Result\n",
      "\n",
      "print \"The current in the element is \",I,\" A.\""
     ],
     "language": "python",
     "metadata": {},
     "outputs": [
      {
       "output_type": "stream",
       "stream": "stdout",
       "text": [
        "The current in the element is  0.25  A.\n"
       ]
      }
     ],
     "prompt_number": 4
    },
    {
     "cell_type": "heading",
     "level": 2,
     "metadata": {},
     "source": [
      "Example 3.4 , Page Number 25"
     ]
    },
    {
     "cell_type": "code",
     "collapsed": false,
     "input": [
      "#Variables\n",
      "I = 5             #Current (in Ampere) \n",
      "Q = 4 * 10**-3    #Charge (in Coulomb)\n",
      "\n",
      "#Calculation\n",
      "t = Q/I           #time (in seconds)\n",
      "\n",
      "#Result\n",
      "print \"Time in which the 4 mC of charge flows through this element is \",t * 10**3,\" ms.\""
     ],
     "language": "python",
     "metadata": {},
     "outputs": [
      {
       "output_type": "stream",
       "stream": "stdout",
       "text": [
        "Time in which the 4 mC of charge flows through this element is  0.8  ms.\n"
       ]
      }
     ],
     "prompt_number": 1
    },
    {
     "cell_type": "heading",
     "level": 2,
     "metadata": {},
     "source": [
      "Example 3.5 , Page Number 25"
     ]
    },
    {
     "cell_type": "code",
     "collapsed": false,
     "input": [
      "#Variables\n",
      "\n",
      "I = 0.3    #Current (in Ampere)\n",
      "W = 9.45   #Heat (in Joules)\n",
      "t = 5      #Time (in seconds)\n",
      "\n",
      "#Calculation\n",
      "\n",
      "Q = I * t\n",
      "V = W/Q    #Voltage (in Volts)\n",
      "\n",
      "#Result\n",
      "\n",
      "print \"The voltage across filament is \",V,\" volts.\"\n"
     ],
     "language": "python",
     "metadata": {},
     "outputs": [
      {
       "output_type": "stream",
       "stream": "stdout",
       "text": [
        "The voltage across filament is  6.3  volts.\n"
       ]
      }
     ],
     "prompt_number": 6
    },
    {
     "cell_type": "heading",
     "level": 2,
     "metadata": {},
     "source": [
      "Example 3.6 , Page Number 28"
     ]
    },
    {
     "cell_type": "code",
     "collapsed": false,
     "input": [
      "\n",
      "#Variables\n",
      "\n",
      "p = 2.83 * 10**-8    #Resistivity (in ohm-meter)\n",
      "w = 0.5              #width (in meter)\n",
      "t = 2 * 10**-3       #thickness (in meter)\n",
      "l = 1                #length (in meter)\n",
      "\n",
      "#Calculation\n",
      "\n",
      "A = w * t            #Area of cross-section (in metersquare)\n",
      "R = p*l/A            #Resistance (in ohm)\n",
      "\n",
      "#Result\n",
      "\n",
      "print \"The resistance between left end and right end is \",R * 10**6,\" micro-ohm.\""
     ],
     "language": "python",
     "metadata": {},
     "outputs": [
      {
       "output_type": "stream",
       "stream": "stdout",
       "text": [
        "The resistance between left end and right end is  28.3  micro-ohm.\n"
       ]
      }
     ],
     "prompt_number": 2
    },
    {
     "cell_type": "heading",
     "level": 2,
     "metadata": {},
     "source": [
      "Example 3.7 , Page Number 28"
     ]
    },
    {
     "cell_type": "code",
     "collapsed": false,
     "input": [
      "#Case 1:\n",
      "\n",
      "#Variables\n",
      "\n",
      "w = 0.01              #width (in meter)\n",
      "h = 0.01              #height (in meter)\n",
      "l = 0.50              #length (in meter)\n",
      "p = 3.5 * 10**-5      #Resistivity (in ohm-meter)\n",
      "\n",
      "#Calculation\n",
      "\n",
      "A = w * h             #Area of cross section (in metersquare)\n",
      "R = p*l/A             #Resistance (in ohm)\n",
      "\n",
      "#Result 1:\n",
      "\n",
      "print \"Resistance in case 1 is : \",R,\" ohm.\"\n",
      "\n",
      "#Case 2:\n",
      "\n",
      "#Variables\n",
      "\n",
      "w = 0.50              #width (in meter)\n",
      "h = 0.01              #height (in meter)\n",
      "l = 0.01              #length (in meter)\n",
      "\n",
      "#Calculation\n",
      "\n",
      "A = w * h             #Area of cross section (in metersquare)\n",
      "R = p*l/A             #Resistance (in ohm-meter)\n",
      "\n",
      "#Result\n",
      "\n",
      "print \"Resistance in case 2 is: \",R,\" ohm.\""
     ],
     "language": "python",
     "metadata": {},
     "outputs": [
      {
       "output_type": "stream",
       "stream": "stdout",
       "text": [
        "Resistance in case 1 is :  0.175  ohm.\n",
        "Resistance in case 2 is:  7e-05  ohm.\n"
       ]
      }
     ],
     "prompt_number": 10
    },
    {
     "cell_type": "heading",
     "level": 2,
     "metadata": {},
     "source": [
      "Example 3.8 , Page Number 28"
     ]
    },
    {
     "cell_type": "code",
     "collapsed": false,
     "input": [
      "import math\n",
      "\n",
      "#Variables\n",
      "\n",
      "l = 120               #length of wire (in meter)\n",
      "d = 0.25 * 10**-2     #Diameter of cross section (in meter)\n",
      "p = 1.7 * 10**-8      #Resistivity (in ohm-meter)\n",
      "\n",
      "#Calculation\n",
      "\n",
      "r = d/2               #Radius of cross section (in meter)\n",
      "A = math.pi *r*r      #Area of cross section (in metersquare)\n",
      "R = p*l/A             #Resistance (in ohm)\n",
      "\n",
      "#Result\n",
      "\n",
      "print \"Resistance of the wire is \",round(R,3),\" ohm.\""
     ],
     "language": "python",
     "metadata": {},
     "outputs": [
      {
       "output_type": "stream",
       "stream": "stdout",
       "text": [
        "Resistance of the wire is  0.416  ohm.\n"
       ]
      }
     ],
     "prompt_number": 11
    },
    {
     "cell_type": "heading",
     "level": 2,
     "metadata": {},
     "source": [
      "Example 3.9 , Page Number 29"
     ]
    },
    {
     "cell_type": "code",
     "collapsed": false,
     "input": [
      "#Variables\n",
      "\n",
      "p = 2.8 * 10**-8      #Resistivity (in ohm-meter)\n",
      "d = 0.15 * 10**-2     #Diameter of wire (in meter)\n",
      "R = 10                #Resistance (in ohm)\n",
      "\n",
      "#Calculation\n",
      "\n",
      "A = math.pi *d*d/4    #Area of cross section (in metersquare)\n",
      "l = R*A/p             #Length of wire (in meter)\n",
      "\n",
      "#Result\n",
      "\n",
      "print \"Length of the wire is \",round(l),\" meter.\""
     ],
     "language": "python",
     "metadata": {},
     "outputs": [
      {
       "output_type": "stream",
       "stream": "stdout",
       "text": [
        "Length of the wire is  631.0  meter.\n"
       ]
      }
     ],
     "prompt_number": 3
    },
    {
     "cell_type": "heading",
     "level": 2,
     "metadata": {},
     "source": [
      "Example 3.10 , Page Number 29"
     ]
    },
    {
     "cell_type": "code",
     "collapsed": false,
     "input": [
      "import math\n",
      "\n",
      "#Variables\n",
      "\n",
      "p = 1.7 * 10**-8             #Resistivity (in ohm-meter)\n",
      "l = 2 * 150                  #Length (in meter)\n",
      "R = 0.722                    #Resistance (in ohm)\n",
      "\n",
      "#Calculation\n",
      "\n",
      "A = p*l/R                    #Area of cross section (in metersquare)\n",
      "d = (A * 4 / math.pi)**0.5   #diameter of wire (in meter)\n",
      "\n",
      "#Result\n",
      "\n",
      "print \" Diameter of the wire is : \",round(d * 10**3),\" mm.\""
     ],
     "language": "python",
     "metadata": {},
     "outputs": [
      {
       "output_type": "stream",
       "stream": "stdout",
       "text": [
        " Diameter of the wire is :  3.0  mm.\n"
       ]
      }
     ],
     "prompt_number": 5
    },
    {
     "cell_type": "heading",
     "level": 2,
     "metadata": {},
     "source": [
      "Example 3.11 , Page Number 30"
     ]
    },
    {
     "cell_type": "code",
     "collapsed": false,
     "input": [
      "import math\n",
      "\n",
      "#Variables\n",
      "\n",
      "lc = 200                   #Length of copper wire (in meter)\n",
      "Rc = 1.5                   #Resistance of Copper wire(in ohm)\n",
      "pc = 1.7 * 10**-8          #Resistivity of  (in ohm-meter)\n",
      "ls = 10                    #Length of silver wire (in meter)\n",
      "ps = 1.6 * 10**-8          #Resistivity of Silver (in ohm-meter)\n",
      "\n",
      "#Calculation\n",
      "\n",
      "A = pc * lc / Rc           #Area of cross section (in metersquare)\n",
      "Rs = ps * ls / A           #Resistance of silver wire(in ohm)\n",
      "\n",
      "#Result\n",
      "\n",
      "print \"The resistance of silver wire is \",round(Rs,2),\" ohm.\""
     ],
     "language": "python",
     "metadata": {},
     "outputs": [
      {
       "output_type": "stream",
       "stream": "stdout",
       "text": [
        "The resistance of silver wire is  0.07  ohm.\n"
       ]
      }
     ],
     "prompt_number": 7
    },
    {
     "cell_type": "heading",
     "level": 2,
     "metadata": {},
     "source": [
      "Example 3.12 , Page Number 32"
     ]
    },
    {
     "cell_type": "code",
     "collapsed": false,
     "input": [
      "#Variables\n",
      "\n",
      "T1 = 800                                 #Temperature (in celsius degeree)\n",
      "T2 = 2250                                #Temperature (in celsius degeree)\n",
      "R20 = 3.49                               #Resistance at 20 degree celsius (in ohm)\n",
      "alpha20 = 4.5 * 10**-3                   #Temperature coefficient at 20 degree celsius (in per degree Celsius)\n",
      "\n",
      "#Calculation\n",
      "\n",
      "R800 = R20 * (1 + alpha20*(T1 - 20))     #Resistance at 800 degree celsius (in ohm)\n",
      "R2250 = R20 * (1 + alpha20*(T2-20))      #Resistance at 2250 degree celsius (in ohm)\n",
      "\n",
      "#Result\n",
      "\n",
      "print \"Resistance at 800 degree celsius is \",round(R800,1), \" ohm.\\nResistance at 2250 degree celsius is \",round(R2250,1),\" ohm.\""
     ],
     "language": "python",
     "metadata": {},
     "outputs": [
      {
       "output_type": "stream",
       "stream": "stdout",
       "text": [
        "Resistance at 800 degree celsius is  15.7  ohm.\n",
        "Resistance at 2250 degree celsius is  38.5  ohm.\n"
       ]
      }
     ],
     "prompt_number": 8
    },
    {
     "cell_type": "heading",
     "level": 2,
     "metadata": {},
     "source": [
      "Example 3.13 , Page Number 32"
     ]
    },
    {
     "cell_type": "code",
     "collapsed": false,
     "input": [
      "#Variables\n",
      "\n",
      "T1 = 20                              #Temperature (in degree celsius)\n",
      "R1 = 10000                           #Resistance at 20 degree celsius (in ohm)\n",
      "T2 = -25                             #Temperature (in degree celsius) \n",
      "alpha = 0.0039                       #Temperature coefficient at 20 degree celsius (in per degree Celsius)\n",
      "\n",
      "#Calculation\n",
      "\n",
      "R80 = R1*(1 + alpha*(80 - T1))       #Resistance at 80 degree celsius (in ohm)\n",
      "RT2 = R1*(1 + alpha*(-25 - T1))      #Resistance at -25 degree celsius (in ohm)\n",
      "\n",
      "#Result\n",
      "\n",
      "print \"Resistance at 80 degree celsius is \",round(R80 * 10**-3,1),\" kilo-ohm.\\nResistance at -25 degree celsius is \",round(RT2 * 10**-3,1),\" kilo-ohm.\""
     ],
     "language": "python",
     "metadata": {},
     "outputs": [
      {
       "output_type": "stream",
       "stream": "stdout",
       "text": [
        "Resistance at 80 degree celsius is  12.3  kilo-ohm.\n",
        "Resistance at -25 degree celsius is  8.2  kilo-ohm.\n"
       ]
      }
     ],
     "prompt_number": 11
    },
    {
     "cell_type": "heading",
     "level": 2,
     "metadata": {},
     "source": [
      "Example 3.14 , Page Number 32"
     ]
    },
    {
     "cell_type": "code",
     "collapsed": false,
     "input": [
      "import math\n",
      "\n",
      "#Variables\n",
      "\n",
      "p = 14 * 10**-8                   #Resistivity of gold (in ohm-meter)\n",
      "alpha = 5.8 * 10**-4              #Temperature coefficient (in per degree celsius)\n",
      "l = 3                             #Length (in meter)\n",
      "d = 13 * 10**-6                   #diameter of wire\n",
      "\n",
      "#Calculation\n",
      "\n",
      "A = math.pi * d * d / 4           #Area of cross-section (in metersquare)\n",
      "R = p * l /A                      #Resistance of wire at 20 degree celsius(in ohm)\n",
      "R1 = R*(1 + alpha*(200-20))\n",
      "#Result\n",
      "\n",
      "print \"Resistance of wire at 200 degree celsius is \",round(R1,1),\" ohm.\""
     ],
     "language": "python",
     "metadata": {},
     "outputs": [
      {
       "output_type": "stream",
       "stream": "stdout",
       "text": [
        "Resistance of wire at 200 degree celsius is  3494.6  ohm.\n"
       ]
      }
     ],
     "prompt_number": 12
    },
    {
     "cell_type": "heading",
     "level": 2,
     "metadata": {},
     "source": [
      "Example 3.15 , Page Number 34"
     ]
    },
    {
     "cell_type": "code",
     "collapsed": false,
     "input": [
      "#Variables\n",
      "\n",
      "R = 10*10**-3       #Resistance (in ohm)\n",
      "\n",
      "#Calculation\n",
      "\n",
      "G = 1/R             #Conductance (in siemens)\n",
      "\n",
      "#Result\n",
      "\n",
      "print \"The conductance of gold conductor is \",G,\" siemens.\""
     ],
     "language": "python",
     "metadata": {},
     "outputs": [
      {
       "output_type": "stream",
       "stream": "stdout",
       "text": [
        "The conductance of gold conductor is  100.0  siemens.\n"
       ]
      }
     ],
     "prompt_number": 38
    },
    {
     "cell_type": "heading",
     "level": 2,
     "metadata": {},
     "source": [
      "Example 3.16 , Page Number 34"
     ]
    },
    {
     "cell_type": "code",
     "collapsed": false,
     "input": [
      "#Variables\n",
      "\n",
      "R = 10.0*10**3       #Resistance (in ohm)\n",
      "\n",
      "#Calculation\n",
      "\n",
      "G = 1/R              #Conductance (in siemens)\n",
      "\n",
      "#Result\n",
      "\n",
      "print \"The conductance of gold conductor is \",G,\" siemens.\""
     ],
     "language": "python",
     "metadata": {},
     "outputs": [
      {
       "output_type": "stream",
       "stream": "stdout",
       "text": [
        "The conductance of gold conductor is  0.0001  siemens.\n"
       ]
      }
     ],
     "prompt_number": 37
    },
    {
     "cell_type": "heading",
     "level": 2,
     "metadata": {},
     "source": [
      "Example 3.17 , Page Number 34"
     ]
    },
    {
     "cell_type": "code",
     "collapsed": false,
     "input": [
      "#Variables\n",
      "\n",
      "G = 50*10**-6         #Conductance (in siemens)\n",
      "\n",
      "#Calculation\n",
      "\n",
      "R = 1/G               #Resistance (in ohm)\n",
      "\n",
      "#Result\n",
      "\n",
      "print \"The Resistance is \",R * 10**-3,\" kilo-ohm.\""
     ],
     "language": "python",
     "metadata": {},
     "outputs": [
      {
       "output_type": "stream",
       "stream": "stdout",
       "text": [
        "The Resistance is  20.0  kilo-ohm.\n"
       ]
      }
     ],
     "prompt_number": 13
    },
    {
     "cell_type": "heading",
     "level": 2,
     "metadata": {},
     "source": [
      "Example 3.18 , Page Number 35"
     ]
    },
    {
     "cell_type": "code",
     "collapsed": false,
     "input": [
      "#Variables\n",
      "\n",
      "V = 18                   #Voltage (in volts)\n",
      "I = 60*10**-6            #current (in Ampere)\n",
      "\n",
      "#Calculation\n",
      "\n",
      "R = V/I                  #Resistance (in ohm)\n",
      "G = 1/R                  #Conductance (in siemens) \n",
      "\n",
      "#Result\n",
      "\n",
      "print \"The conductance is \",round(G * 10**6,2),\" micro-siemens.\""
     ],
     "language": "python",
     "metadata": {},
     "outputs": [
      {
       "output_type": "stream",
       "stream": "stdout",
       "text": [
        "The conductance is  3.33  micro-siemens.\n"
       ]
      }
     ],
     "prompt_number": 14
    },
    {
     "cell_type": "heading",
     "level": 2,
     "metadata": {},
     "source": [
      "Example 3.19 , Page Number 38"
     ]
    },
    {
     "cell_type": "code",
     "collapsed": false,
     "input": [
      "#Variables\n",
      "\n",
      "R = 600.00               #Resistance (in ohm)\n",
      "V = 230.00               #Voltage (in volts)\n",
      "\n",
      "#Calculation\n",
      "\n",
      "I = V/R                  #Current (in Ampere)\n",
      "\n",
      "#Result\n",
      "\n",
      "print \"Current in the power line is \",round(I,3),\" A.\""
     ],
     "language": "python",
     "metadata": {},
     "outputs": [
      {
       "output_type": "stream",
       "stream": "stdout",
       "text": [
        "Current in the power line is  0.383  A.\n"
       ]
      }
     ],
     "prompt_number": 31
    },
    {
     "cell_type": "heading",
     "level": 2,
     "metadata": {},
     "source": [
      "Example 3.20 , Page Number 39"
     ]
    },
    {
     "cell_type": "code",
     "collapsed": false,
     "input": [
      "#Variables\n",
      "\n",
      "R = 8                 #Resistance (in ohm)\n",
      "I = 2.5               #Current (in Ampere)\n",
      "\n",
      "#Calculation\n",
      "\n",
      "V = I*R               #Voltage (in volts)\n",
      "\n",
      "#Result\n",
      "\n",
      "print \"The maximum safe voltage is \",V,\" volts.\""
     ],
     "language": "python",
     "metadata": {},
     "outputs": [
      {
       "output_type": "stream",
       "stream": "stdout",
       "text": [
        "The maximum safe voltage is  20.0  volts.\n"
       ]
      }
     ],
     "prompt_number": 30
    },
    {
     "cell_type": "heading",
     "level": 2,
     "metadata": {},
     "source": [
      "Example 3.21 , Page Number 39"
     ]
    },
    {
     "cell_type": "code",
     "collapsed": false,
     "input": [
      "#Variables\n",
      "\n",
      "R = 1.5 * 10**3         #Resistance (in ohm)\n",
      "I = 16 * 10**-3         #Current (in Ampere)\n",
      "\n",
      "#Calculation\n",
      "\n",
      "V = I*R                 #Voltage (in volts)\n",
      "\n",
      "#Result\n",
      "\n",
      "print \"The voltage that must be applied to the relay coil to energize it is \",V,\" volts.\"  "
     ],
     "language": "python",
     "metadata": {},
     "outputs": [
      {
       "output_type": "stream",
       "stream": "stdout",
       "text": [
        "The voltage that must be applied to the relay coil to energize it is  24.0  volts.\n"
       ]
      }
     ],
     "prompt_number": 29
    },
    {
     "cell_type": "heading",
     "level": 2,
     "metadata": {},
     "source": [
      "Example 3.22 , Page Number 39"
     ]
    },
    {
     "cell_type": "code",
     "collapsed": false,
     "input": [
      "#Variables\n",
      "\n",
      "I = 20 * 10**-3              #Current per segment (in Ampere)\n",
      "V = 5                        #Voltage (in volts)\n",
      "\n",
      "#Calculation\n",
      "\n",
      "R = V/I                      #Resistance (in ohm)\n",
      "  \n",
      "#Result\n",
      "\n",
      "print \"Resistance that must be inserted into the circuit of each segment is \",R,\" ohm.\""
     ],
     "language": "python",
     "metadata": {},
     "outputs": [
      {
       "output_type": "stream",
       "stream": "stdout",
       "text": [
        "Resistance that must be inserted into the circuit of each segment is  250.0  ohm.\n"
       ]
      }
     ],
     "prompt_number": 28
    },
    {
     "cell_type": "heading",
     "level": 2,
     "metadata": {},
     "source": [
      "Example 3.23 , Page Number 39"
     ]
    },
    {
     "cell_type": "code",
     "collapsed": false,
     "input": [
      "#Variables\n",
      "\n",
      "V = 7 * 2                  #Voltage : 7 div * (2 V/div) (in volts)\n",
      "I = 5 * 5 * 10**-3         #Current : 5 div * (5 * 10**-3) (in Ampere)\n",
      "\n",
      "#Calculation\n",
      "\n",
      "R = V/I                    #Resistance (in ohm)\n",
      "\n",
      "#Result\n",
      "\n",
      "print \"The value of resistance is \",R,\" ohm.\""
     ],
     "language": "python",
     "metadata": {},
     "outputs": [
      {
       "output_type": "stream",
       "stream": "stdout",
       "text": [
        "The value of resistance is  560.0  ohm.\n"
       ]
      }
     ],
     "prompt_number": 27
    },
    {
     "cell_type": "heading",
     "level": 2,
     "metadata": {},
     "source": [
      "Example 3.24 , Page Number 42"
     ]
    },
    {
     "cell_type": "code",
     "collapsed": false,
     "input": [
      "#Variables\n",
      "\n",
      "W = 64000                    #Heat produced (in Joules)                \n",
      "t = 40                       #time (in seconds)\n",
      "\n",
      "#Calculation\n",
      "\n",
      "P = W/t                      #Rate at which electrical energy is converted into heat energy (in watt)\n",
      "\n",
      "#Result\n",
      "\n",
      "print \"The rate at which electrical energy is converted into heat energy is : \",P,\" W.\""
     ],
     "language": "python",
     "metadata": {},
     "outputs": [
      {
       "output_type": "stream",
       "stream": "stdout",
       "text": [
        "The rate at which electrical energy is converted into heat energy is :  1600  W.\n"
       ]
      }
     ],
     "prompt_number": 26
    },
    {
     "cell_type": "heading",
     "level": 2,
     "metadata": {},
     "source": [
      "Example 3.25 , Page Number 42"
     ]
    },
    {
     "cell_type": "code",
     "collapsed": false,
     "input": [
      "#Variables\n",
      "\n",
      "I = 5                 #Current (in Ampere)\n",
      "V = 230               #Voltage (in volts)\n",
      "\n",
      "#Calculation\n",
      "\n",
      "P = V*I               #Power consumed (in watt)\n",
      "\n",
      "#Result\n",
      "\n",
      "print \"The power consumed by the toaster is: \",P,\" watt.\""
     ],
     "language": "python",
     "metadata": {},
     "outputs": [
      {
       "output_type": "stream",
       "stream": "stdout",
       "text": [
        "The power consumed by the toaster is:  1150  watt.\n"
       ]
      }
     ],
     "prompt_number": 25
    },
    {
     "cell_type": "heading",
     "level": 2,
     "metadata": {},
     "source": [
      "Example 3.26 , Page Number 42"
     ]
    },
    {
     "cell_type": "code",
     "collapsed": false,
     "input": [
      "#Variables\n",
      "\n",
      "P = 36.0               #Power consumed (in watt)\n",
      "V = 230.0              #Voltage (in volts)\n",
      "\n",
      "#Calculation\n",
      "\n",
      "I = P/V                #Current (in Ampere)\n",
      "\n",
      "#Result\n",
      "\n",
      "print \"Current through filament is \",round(I,3),\" A.\""
     ],
     "language": "python",
     "metadata": {},
     "outputs": [
      {
       "output_type": "stream",
       "stream": "stdout",
       "text": [
        "Current through filament is  0.157  A.\n"
       ]
      }
     ],
     "prompt_number": 24
    },
    {
     "cell_type": "heading",
     "level": 2,
     "metadata": {},
     "source": [
      "Example 3.27 , Page Number 42"
     ]
    },
    {
     "cell_type": "code",
     "collapsed": false,
     "input": [
      "#Variables\n",
      "\n",
      "P = 150 *12/1000.0        #Power consumed by 12 bulbs (in kilowatt)     \n",
      "t = 10.0                  #Time (in hours)\n",
      "\n",
      "#Calculation\n",
      "\n",
      "W = P * t                 #Energy used (in kWh)\n",
      "\n",
      "#Result\n",
      "\n",
      "print \"The energy used is \",W,\" kWh.\""
     ],
     "language": "python",
     "metadata": {},
     "outputs": [
      {
       "output_type": "stream",
       "stream": "stdout",
       "text": [
        "The energy used is  18.0  kWh.\n"
       ]
      }
     ],
     "prompt_number": 23
    },
    {
     "cell_type": "heading",
     "level": 2,
     "metadata": {},
     "source": [
      "Example 3.28 , Page Number 42"
     ]
    },
    {
     "cell_type": "code",
     "collapsed": false,
     "input": [
      "#Variables\n",
      "\n",
      "Ps = 500.0                   #Power of stereo system (in watt)\n",
      "Pa = 2400.0                  #Power of air conditioner (in watt)\n",
      "t = 3                        #time (in hours) \n",
      "\n",
      "#Calculation\n",
      "\n",
      "P = (Ps + Pa)/1000           #Total power consumed (in kilowatt)\n",
      "W = P * t                    #Energy used (in kilowatthour)\n",
      "\n",
      "#Result\n",
      "\n",
      "print \"The energy used is \",W,\" kWh.\""
     ],
     "language": "python",
     "metadata": {},
     "outputs": [
      {
       "output_type": "stream",
       "stream": "stdout",
       "text": [
        "The energy used is  8.7  kWh.\n"
       ]
      }
     ],
     "prompt_number": 22
    },
    {
     "cell_type": "heading",
     "level": 2,
     "metadata": {},
     "source": [
      "Example 3.29 , Page Number 43"
     ]
    },
    {
     "cell_type": "code",
     "collapsed": false,
     "input": [
      "#Variables\n",
      "\n",
      "V = 230.0               #Voltage (in volts)\n",
      "P = 180.0               #Power (in watt)\n",
      "\n",
      "#Calculation\n",
      "\n",
      "I = P/V                 #Current (in Ampere)\n",
      "\n",
      "#Result\n",
      "\n",
      "print \"The input current is \",round(I,3),\" A.\""
     ],
     "language": "python",
     "metadata": {},
     "outputs": [
      {
       "output_type": "stream",
       "stream": "stdout",
       "text": [
        "The input current is  0.783  A.\n"
       ]
      }
     ],
     "prompt_number": 21
    },
    {
     "cell_type": "heading",
     "level": 2,
     "metadata": {},
     "source": [
      "Example 3.30 , Page Number 43"
     ]
    },
    {
     "cell_type": "code",
     "collapsed": false,
     "input": [
      "#Variables\n",
      "\n",
      "V = 24.0                      #Voltage (in volts)\n",
      "I = 2.0                       #Current (in Ampere)\n",
      "Pb = 0.5                      #Power rating of each light bulb (in watt)\n",
      "\n",
      "#Calculation\n",
      "\n",
      "P = V * I                     #Maximum power (in watt)\n",
      "P80 = P * 0.8                 #80% of power rating (in watt) \n",
      "n = (P80//Pb)                 #Number of bulbs required \n",
      "\n",
      "#Result\n",
      "\n",
      "print \"The number of bulbs required is \",n,\".\" "
     ],
     "language": "python",
     "metadata": {},
     "outputs": [
      {
       "output_type": "stream",
       "stream": "stdout",
       "text": [
        "The number of bulbs required is  76.0 .\n"
       ]
      }
     ],
     "prompt_number": 20
    },
    {
     "cell_type": "heading",
     "level": 2,
     "metadata": {},
     "source": [
      "Example 3.31 , Page Number 44"
     ]
    },
    {
     "cell_type": "code",
     "collapsed": false,
     "input": [
      "#Variables\n",
      "\n",
      "R = 750.0               #Resistance (in ohm)\n",
      "I = 32.0                #Current (in milliAmpere)               \n",
      "\n",
      "#Calculation\n",
      "\n",
      "P = I**2 * 10**-6 * R   #Power (in watt)\n",
      "\n",
      "#Result\n",
      "\n",
      "print \"Power consumed by relay coil is \",P*1000,\" mW.\""
     ],
     "language": "python",
     "metadata": {},
     "outputs": [
      {
       "output_type": "stream",
       "stream": "stdout",
       "text": [
        "Power consumed by relay coil is  768.0  mW.\n"
       ]
      }
     ],
     "prompt_number": 19
    },
    {
     "cell_type": "heading",
     "level": 2,
     "metadata": {},
     "source": [
      "Example 3.32 , Page Number 44"
     ]
    },
    {
     "cell_type": "code",
     "collapsed": false,
     "input": [
      "#Variables\n",
      "\n",
      "R = 36.0                   #Resistance (in ohm)\n",
      "V = 230.0                  #Voltage (in volts)\n",
      "\n",
      "#Calculation\n",
      "\n",
      "P = V**2/R                 #Power (in watt)\n",
      "\n",
      "#Result\n",
      "\n",
      "print \"Power rating is \",round(P/1000,3),\" kW.\""
     ],
     "language": "python",
     "metadata": {},
     "outputs": [
      {
       "output_type": "stream",
       "stream": "stdout",
       "text": [
        "Power rating is  1.469  kW.\n"
       ]
      }
     ],
     "prompt_number": 18
    },
    {
     "cell_type": "heading",
     "level": 2,
     "metadata": {},
     "source": [
      "Example 3.33 , Page Number 45"
     ]
    },
    {
     "cell_type": "code",
     "collapsed": false,
     "input": [
      "#Variables\n",
      "\n",
      "P = 36              #Power (in watt)\n",
      "V = 230.0           #Voltage (in volts)\n",
      "\n",
      "#Calculation\n",
      "\n",
      "R = V**2/P          #Resistance (in ohm) \n",
      "\n",
      "#Result\n",
      "\n",
      "print \"Resistance of the heating element is \",round(R),\" ohm.\""
     ],
     "language": "python",
     "metadata": {},
     "outputs": [
      {
       "output_type": "stream",
       "stream": "stdout",
       "text": [
        "Resistance of the heating element is  1469.0  ohm.\n"
       ]
      }
     ],
     "prompt_number": 15
    },
    {
     "cell_type": "heading",
     "level": 2,
     "metadata": {},
     "source": [
      "Example 3.34 , Page Number 45"
     ]
    },
    {
     "cell_type": "code",
     "collapsed": false,
     "input": [
      "#Case a :\n",
      "\n",
      "#Variables\n",
      "\n",
      "R = 8.0            #Resistance (in ohm)\n",
      "P1 = 60.0          #Power (in watt)\n",
      "\n",
      "#Calculation\n",
      "\n",
      "I1 = (P1/R)**0.5   #Current (in Ampere)\n",
      "\n",
      "#Case b :\n",
      "\n",
      "#Variables\n",
      "\n",
      "R = 8.0            #Resistance (in ohm)\n",
      "P2 = 120.0         #Power (in watt)\n",
      "\n",
      "#Calculation\n",
      "\n",
      "I2 = (P2/R)**0.5   #Current (in Ampere)\n",
      "\n",
      "#Result\n",
      "\n",
      "print \"Maximum new current is \",round(I1,2),\" A.\\nMaximum new current is \",round(I2,2),\" A.\""
     ],
     "language": "python",
     "metadata": {},
     "outputs": [
      {
       "output_type": "stream",
       "stream": "stdout",
       "text": [
        "Maximum new current is  2.74  A.\n",
        "Maximum new current is  3.87  A.\n"
       ]
      }
     ],
     "prompt_number": 16
    },
    {
     "cell_type": "heading",
     "level": 2,
     "metadata": {},
     "source": [
      "Example 3.35 , Page Number 46"
     ]
    },
    {
     "cell_type": "code",
     "collapsed": false,
     "input": [
      "#Variables\n",
      "\n",
      "R = 30.0               #Resistance (in kiloohm)\n",
      "I                      #Value of previous current (in Ampere)\n",
      "I1 = 1.5*I             #New value of current (in Ampere)\n",
      "\n",
      "#Calculation\n",
      "\n",
      "P = I**2 * R           #Power dissipated due to previous current (in kilowatt)\n",
      "P1 = I1**2 * R         #Power dissipated due to new current (in kilowatt)\n",
      "P2 = (P1 - P)/P * 100  #Percentage increase in power dissipation\n",
      "\n",
      "#Result\n",
      "\n",
      "print \"Percentage Increase in power dissipation is \",P2,\" %.\" "
     ],
     "language": "python",
     "metadata": {},
     "outputs": [
      {
       "output_type": "stream",
       "stream": "stdout",
       "text": [
        "Percentage Increase in power dissipation is  125.0  %.\n"
       ]
      }
     ],
     "prompt_number": 15
    },
    {
     "cell_type": "heading",
     "level": 2,
     "metadata": {},
     "source": [
      "Example 3.36 , Page Number 46"
     ]
    },
    {
     "cell_type": "code",
     "collapsed": false,
     "input": [
      "#Variables\n",
      "\n",
      "V = 6.0                  #voltage (in volts)\n",
      "C = 2.0                  #Capacity of battery (in Ampere-hour)\n",
      "P = 1.2                  #Power rating (in watt)\n",
      "\n",
      "#Calculation\n",
      "\n",
      "R = V**2 / P             #Resistance (in ohm)\n",
      "I = V/R                  #Current  (in Ampere)\n",
      "t = C/I                  #time (in hour)\n",
      "\n",
      "#Result\n",
      "\n",
      "print \"Battery will last for \",t,\" hours.\""
     ],
     "language": "python",
     "metadata": {},
     "outputs": [
      {
       "output_type": "stream",
       "stream": "stdout",
       "text": [
        "Battery will last for  10.0  hours.\n"
       ]
      }
     ],
     "prompt_number": 14
    }
   ],
   "metadata": {}
  }
 ]
}