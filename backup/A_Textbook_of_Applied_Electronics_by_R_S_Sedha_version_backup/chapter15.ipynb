{
 "metadata": {
  "name": "",
  "signature": "sha256:192e3bd0e3d21ede3d158e2725c65f85d15567c10daa6772cc56e213a5cefa2c"
 },
 "nbformat": 3,
 "nbformat_minor": 0,
 "worksheets": [
  {
   "cells": [
    {
     "cell_type": "heading",
     "level": 1,
     "metadata": {},
     "source": [
      "Chapter 15 , BJT Characteristics "
     ]
    },
    {
     "cell_type": "heading",
     "level": 2,
     "metadata": {},
     "source": [
      "Example 15.1 , Page Number 331"
     ]
    },
    {
     "cell_type": "code",
     "collapsed": false,
     "input": [
      "#Variables\n",
      "\n",
      "PDmax = 500                            #Maximum Power dissipation at 25 degree Celsius (in milli-watt)\n",
      "DF = 2.28                              #derating factor (in milli-watt per degree Celsius)\n",
      "T = 70                                 #Temperaure (in degree Celsius)\n",
      "\n",
      "#Calculation\n",
      "\n",
      "PDmax70 = PDmax - DF * (T - 25)        #Maximum Power dissipation at 70 degree Celsius (in milli-watt)\n",
      "\n",
      "#Result\n",
      "\n",
      "print \"Maximum power dissipation at 70 degree Celsius is \",round(PDmax70),\" mW.\"  "
     ],
     "language": "python",
     "metadata": {},
     "outputs": [
      {
       "output_type": "stream",
       "stream": "stdout",
       "text": [
        "Maximum power dissipation at 70 degree Celsius is  397.0  mW.\n"
       ]
      }
     ],
     "prompt_number": 1
    }
   ],
   "metadata": {}
  }
 ]
}