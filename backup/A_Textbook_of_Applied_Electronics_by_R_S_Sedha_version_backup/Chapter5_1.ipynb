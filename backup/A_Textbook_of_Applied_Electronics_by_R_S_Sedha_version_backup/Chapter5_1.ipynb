{
 "metadata": {
  "celltoolbar": "Raw Cell Format",
  "name": "",
  "signature": "sha256:a817a168befae35ccb17b36fd01ad5caaed21c361e584abe602cb8559a070af9"
 },
 "nbformat": 3,
 "nbformat_minor": 0,
 "worksheets": [
  {
   "cells": [
    {
     "cell_type": "heading",
     "level": 1,
     "metadata": {},
     "source": [
      "Chapter 5 , Kirchhoff's Laws and Network Theorems"
     ]
    },
    {
     "cell_type": "heading",
     "level": 2,
     "metadata": {},
     "source": [
      "Example 5.1 , Page Number 73"
     ]
    },
    {
     "cell_type": "code",
     "collapsed": false,
     "input": [
      "import math\n",
      "\n",
      "#Variables\n",
      "\n",
      "IT = 20           #Total current (in milli-Ampere)\n",
      "I2 = 4            #Current (in milli-Ampere)\n",
      "\n",
      "#Calculation\n",
      "\n",
      "I1 = IT - I2      #Current (in milli-Ampere)\n",
      "\n",
      "#Result\n",
      "\n",
      "print \"Value of the current I1 is \",I1,\" mA.\""
     ],
     "language": "python",
     "metadata": {},
     "outputs": [
      {
       "output_type": "stream",
       "stream": "stdout",
       "text": [
        "Value of the current I1 is  16  mA.\n"
       ]
      }
     ],
     "prompt_number": 1
    },
    {
     "cell_type": "heading",
     "level": 2,
     "metadata": {},
     "source": [
      "Example 5.2 , Page Number 74"
     ]
    },
    {
     "cell_type": "code",
     "collapsed": false,
     "input": [
      "import math\n",
      "\n",
      "#Variables\n",
      "\n",
      "I = 1               #Current (in Ampere)\n",
      "\n",
      "#Calculation\n",
      "\n",
      "#Applying Kirchoff's voltage law:\n",
      "#(1 *3) + (1 * R) + (1 * 4) - 12 =0\n",
      "\n",
      "R = 5               #Resistance (in ohm)\n",
      "\n",
      "#Result\n",
      "\n",
      "print \"Value of R is \",R,\" ohm.\""
     ],
     "language": "python",
     "metadata": {},
     "outputs": [
      {
       "output_type": "stream",
       "stream": "stdout",
       "text": [
        "Value of R is  5  ohm.\n"
       ]
      }
     ],
     "prompt_number": 3
    },
    {
     "cell_type": "heading",
     "level": 2,
     "metadata": {},
     "source": [
      "Example 5.3 , Page Number 74"
     ]
    },
    {
     "cell_type": "code",
     "collapsed": false,
     "input": [
      "import math\n",
      "\n",
      "#Variables\n",
      "\n",
      "Vs = 100          #Source Voltage (in volts)\n",
      "I = 5             #Current entering the circuit (in Ampere)\n",
      "IL = 5            #Current leaving the circuit (in Ampere)\n",
      "R15 = 15           #Resistor of 15 ohm (in ohm)\n",
      "V15 = 30          #Voltage across 15 ohm resistor (in ohm)\n",
      "\n",
      "#Calculation\n",
      "\n",
      "I1 = V15 / R15    #Current through 15 ohm resistor (in Ampere)\n",
      "IA = I + I1       #Current entering junction A (in Ampere)\n",
      "#Applying Kirchoff's current law\n",
      "I2 = I + I1       #Current through 5 ohm resistor (in Ampere)\n",
      "IB = I2           #Current entering juction B (in Ampere)\n",
      "IR = IA - IL      #Current through R (in Ampere)\n",
      "#Applying Kirchoff's voltage law\n",
      "#(7 * 5) + (2 *R) - 100 + 30 =0\n",
      "R = 35.0/2\n",
      "\n",
      "#Result\n",
      "\n",
      "print \"The value of R is \",R,\" ohm.\""
     ],
     "language": "python",
     "metadata": {},
     "outputs": [
      {
       "output_type": "stream",
       "stream": "stdout",
       "text": [
        "The value of R is  17.5  ohm.\n"
       ]
      }
     ],
     "prompt_number": 6
    },
    {
     "cell_type": "heading",
     "level": 2,
     "metadata": {},
     "source": [
      "Example 5.4 , Page Number 75"
     ]
    },
    {
     "cell_type": "code",
     "collapsed": false,
     "input": [
      "import math\n",
      "\n",
      "#Variables\n",
      "\n",
      "V = 25          #Source voltage (in volts)\n",
      "RB = 99         #Resistance (in kilo-ohm)\n",
      "RC = 2          #Resistance (in kilo-ohm)\n",
      "RE = 1          #Resistance (in kilo-ohm)\n",
      "VCE = 5         #Voltage across C and E (in volts)\n",
      "\n",
      "#Calculation\n",
      "\n",
      "#Applying Kirchoff's Voltage law:\n",
      "#IB*RB + VBE + IE*RE -V = 0\n",
      "#IB*RB + VBE + (IB + IC)*RE - VCC = 0\n",
      "#100*IB + IC = 24\n",
      "#IB + 3*IC = 20\n",
      "IC = 1976.0/299\n",
      "IB = 20 - (3 * 6.61)\n",
      "\n",
      "#Result\n",
      "\n",
      "print \"Value of IB is \",round(IB,3),\" mA.\\nValue of IC is \",round(IC,3),\" mA.\""
     ],
     "language": "python",
     "metadata": {},
     "outputs": [
      {
       "output_type": "stream",
       "stream": "stdout",
       "text": [
        "Value of IB is  0.17  mA.\n",
        "Value of IC is  6.609  mA.\n"
       ]
      }
     ],
     "prompt_number": 36
    },
    {
     "cell_type": "heading",
     "level": 2,
     "metadata": {},
     "source": [
      "Example 5.5 , Page Number 77"
     ]
    },
    {
     "cell_type": "code",
     "collapsed": false,
     "input": [
      "import math\n",
      "\n",
      "#Variables\n",
      "\n",
      "VS1 = 5            #Voltage source 1 (in volts)\n",
      "VS2 = 3            #Voltage source 2 (in volts)\n",
      "V6  = 0            #Voltage drop across 6 ohm resistor when AB is open (in volts)\n",
      "R1 = 6             #Resistor (in ohm)\n",
      "R2 = 4             #Resistor (in ohm)\n",
      "\n",
      "#Calculation\n",
      "\n",
      "I = 5.0/4          #Current through 4 ohm resistor (in Ampere)\n",
      "V = I * R2         #Voltage drop across 4 ohm Resistor (in volts)\n",
      "VOC = VS2 + V6 + V #Open circuit voltage (in volts)\n",
      "Rth = R1\n",
      "\n",
      "#Result\n",
      "\n",
      "print \"Thevenin's equivalent Voltage is \",VOC,\" V.\\nThevenin's equivalent resistance is \",Rth,\" ohm.\""
     ],
     "language": "python",
     "metadata": {},
     "outputs": [
      {
       "output_type": "stream",
       "stream": "stdout",
       "text": [
        "Thevenin's equivalent Voltage is  8.0  V.\n",
        "Thevenin's equivalent resistance is  6  ohm.\n"
       ]
      }
     ],
     "prompt_number": 56
    },
    {
     "cell_type": "heading",
     "level": 2,
     "metadata": {},
     "source": [
      "Example 5.6 , Page Number 78"
     ]
    },
    {
     "cell_type": "code",
     "collapsed": false,
     "input": [
      "import math\n",
      "\n",
      "#Variables\n",
      "\n",
      "V = 25.0                                  #Source voltage (in volts)\n",
      "R1 = 100.0                                #Resistance (in ohm)\n",
      "R2 = 75.0                                 #Resistance (in ohm)\n",
      "R3 = 50.0                                 #Resistance (in ohm)\n",
      "R4 = 25.0                                 #Resistance (in ohm)\n",
      "RL = 250.0                                #Load resistance (in ohm)     \n",
      "\n",
      "#Calculation\n",
      "\n",
      "I = V / (R1 + R2 + R3)                  #Series curren (in Ampere)\n",
      "VR2 = I * R2                            #Voltage drop across R2\n",
      "VOC = VR2                               #Open circuit voltage (in volts)\n",
      "Vth = VOC                               #Thevenin's equivalent voltage (in volts)\n",
      "Rth = R4 + R2*(R1 + R3)/(R1 + R2 + R3)  #Thevenin's equivalent resistance (in ohm)\n",
      "IL = Vth/(Rth + RL)\n",
      "\n",
      "#Result\n",
      "\n",
      "print \"Thevenin's equivalent voltage is \",round(Vth,3),\" V. and resistance in \",Rth,\" ohm.\"\n",
      "print \"Current through load resistance is \",round(IL,3),\" A.\""
     ],
     "language": "python",
     "metadata": {},
     "outputs": [
      {
       "output_type": "stream",
       "stream": "stdout",
       "text": [
        "Thevenin's equivalent voltage is  8.333  V. and resistance in  75.0  ohm.\n",
        "Current through load resistance is  0.026  A.\n"
       ]
      }
     ],
     "prompt_number": 59
    },
    {
     "cell_type": "heading",
     "level": 2,
     "metadata": {},
     "source": [
      "Example 5.7 , Page Number 80"
     ]
    },
    {
     "cell_type": "code",
     "collapsed": false,
     "input": [
      "import math\n",
      "\n",
      "#Variables\n",
      "\n",
      "R1 = 2.0                                #Resistance (in kilo-ohm)\n",
      "R2 = 1.0                                #Resistance (in kilo-ohm)\n",
      "R3 = 2.0                                #Resistance (in kilo-ohm)\n",
      "I = 0.1                                 #Current source (in Ampere)\n",
      "\n",
      "#Calculation\n",
      "\n",
      "#Using Thevenin's theorem : \n",
      "\n",
      "I2 = I * R1 / (R1 + (R2 +R3))         #Current through brach ECD (in Ampere)\n",
      "VR3 = I2 * R3* 10 **3                 #Voltage drop across R3 (in volts)\n",
      "Vth = VR3                             #Thevenin's Voltage\n",
      "Rth = R3 * (R1 + R2)/(R1 + R2 + R3)\n",
      "\n",
      "#Result\n",
      "\n",
      "print \"Thevenin's voltage is \",Vth,\" V.\\nThevenin's Resistance is \",Rth,\" kilo-ohm.\" "
     ],
     "language": "python",
     "metadata": {},
     "outputs": [
      {
       "output_type": "stream",
       "stream": "stdout",
       "text": [
        "Thevenin's voltage is  80.0  V.\n",
        "Thevenin's Resistance is  1.2  kilo-ohm.\n"
       ]
      }
     ],
     "prompt_number": 2
    },
    {
     "cell_type": "heading",
     "level": 2,
     "metadata": {},
     "source": [
      "Example 5.8 , Page Number 82"
     ]
    },
    {
     "cell_type": "code",
     "collapsed": false,
     "input": [
      "import math\n",
      "\n",
      "#Variables\n",
      "\n",
      "R1 = 0.6                                    #Resistance (in ohm)\n",
      "R2 = 0.6                                    #Resistance (in ohm)\n",
      "R3 = 0.8                                    #Resistance (in ohm)\n",
      "R4 = 0.8                                    #Resistance (in ohm)\n",
      "\n",
      "#Calculation\n",
      "\n",
      "Rth = R3 + R4*(R1 + R2)/(R4 + (R1 +R2))     #Thevenin's resistance (in ohm)\n",
      "\n",
      "#Result\n",
      "\n",
      "print \"The value of Rth is \",Rth,\" ohm.\""
     ],
     "language": "python",
     "metadata": {},
     "outputs": [
      {
       "output_type": "stream",
       "stream": "stdout",
       "text": [
        "The value of Rth is  1.28  ohm.\n"
       ]
      }
     ],
     "prompt_number": 4
    },
    {
     "cell_type": "heading",
     "level": 2,
     "metadata": {},
     "source": [
      "Example 5.9 , Page Number 83"
     ]
    },
    {
     "cell_type": "code",
     "collapsed": false,
     "input": [
      "import math\n",
      "\n",
      "#Variables\n",
      "\n",
      "V = 12.0                                 #Voltage (in volts)\n",
      "R1 = 3.0                                 #Resistance (in ohm)\n",
      "R2 = 9.0                                 #Resistance (in ohm)\n",
      "\n",
      "#Calculation\n",
      "\n",
      "#Using Norton's Theorem\n",
      "\n",
      "Isc = V / R1                           #Short circuit current (in Ampere)\n",
      "IN = Isc                               #Norton's Current (in Ampere)\n",
      "RN = R1 * R2 / (R1 + R2)               #Norton's resistance (in ohm)\n",
      "\n",
      "#Result\n",
      "\n",
      "print \"Norton's Current is \",IN,\" A.\\nNorton's Resistance is \",RN,\" ohm.\" "
     ],
     "language": "python",
     "metadata": {},
     "outputs": [
      {
       "output_type": "stream",
       "stream": "stdout",
       "text": [
        "Norton's Current is  4.0  A.\n",
        "Norton's Resistance is  2.25  ohm.\n"
       ]
      }
     ],
     "prompt_number": 6
    },
    {
     "cell_type": "heading",
     "level": 2,
     "metadata": {},
     "source": [
      "Example 5.10 , Page Number 85"
     ]
    },
    {
     "cell_type": "code",
     "collapsed": false,
     "input": [
      "import math\n",
      "\n",
      "#Variables\n",
      "\n",
      "V = 15.0                        #Voltage 15 volt battery (in volts)\n",
      "R1 = 6.0                        #Resistance (in ohm)\n",
      "R2 = 3.0                        #Resistance (in ohm)\n",
      "R3 = 3.0                        #Resistance (in ohm)\n",
      "V0 = 30.0                       #Voltage 30 volt battery (in volts)\n",
      "\n",
      "#Calculation\n",
      "\n",
      "R4 = R2 * R3 / (R2 + R3)      #R4 = R2 || R3 (in ohm)\n",
      "V1 = R4 / (R1 + R4) * V       #Voltage drop across R4 (in volts)\n",
      "R5 = R1 * R3 / (R1 + R3)      #R5 = R1 || R3 (in ohm)\n",
      "V2 = R5 / (R2 + R5) * V0      #Voltage drop across R5 (in volts)\n",
      "I = V/R3\n",
      "\n",
      "#Result\n",
      "\n",
      "print \"In case 1: Voltage drop across R3 is \",V1,\" V.\\nIn case 2: Voltage drop across R3 is \",V2,\" V.\\nThe current through R3 is \",I,\" A.\"  "
     ],
     "language": "python",
     "metadata": {},
     "outputs": [
      {
       "output_type": "stream",
       "stream": "stdout",
       "text": [
        "In case 1: Voltage drop across R3 is  3.0  V.\n",
        "In case 2: Voltage drop across R3 is  12.0  V.\n",
        "The current through R3 is  5.0  A.\n"
       ]
      }
     ],
     "prompt_number": 9
    },
    {
     "cell_type": "heading",
     "level": 2,
     "metadata": {},
     "source": [
      "Example 5.11 , Page Number 88"
     ]
    },
    {
     "cell_type": "code",
     "collapsed": false,
     "input": [
      "import math\n",
      "\n",
      "#Variables\n",
      "\n",
      "Vth = 100                      #Thevenin Voltage (in micro-volts)\n",
      "Rth = 50                       #Thevenin Resistance (in ohm)\n",
      "\n",
      "#Calculation\n",
      "\n",
      "RL = Rth                       #Maximum Load Resistance (in ohm)\n",
      "PL = (Vth/(Rth + RL))**2 *RL   #Maximum load power (in pico-watt)\n",
      "\n",
      "#Result\n",
      "print \"Maximum load resistance is \",RL,\" ohm.\\nMaximum load power is \",PL,\" pW.\""
     ],
     "language": "python",
     "metadata": {},
     "outputs": [
      {
       "output_type": "stream",
       "stream": "stdout",
       "text": [
        "Maximum load resistance is  50  ohm.\n",
        "Maximum load power is  50  pW.\n"
       ]
      }
     ],
     "prompt_number": 13
    },
    {
     "cell_type": "heading",
     "level": 2,
     "metadata": {},
     "source": [
      "Example 5.12 , Page Number 88"
     ]
    },
    {
     "cell_type": "code",
     "collapsed": false,
     "input": [
      "import math\n",
      "\n",
      "#Variables\n",
      "\n",
      "VTH = 20.0 * 10**-3              #Thevenin's Voltage (in volts)\n",
      "RTH = 300.0                      #Thevenin's Resistance (in ohm) \n",
      "RL = 300.0                       #Load Resistance (in ohm)\n",
      "\n",
      "#Calculation\n",
      "\n",
      "PL = (VTH/(RTH + RL))**2 * RL    #Power across load resistance (in watt)   \n",
      "\n",
      "#Result\n",
      "\n",
      "print \"The value of power transmitted to the receiver is \",round(PL*10**6,2),\" micro-watt.\""
     ],
     "language": "python",
     "metadata": {},
     "outputs": [
      {
       "output_type": "stream",
       "stream": "stdout",
       "text": [
        "The value of power transmitted to the receiver is  0.33  micro-watt.\n"
       ]
      }
     ],
     "prompt_number": 1
    },
    {
     "cell_type": "heading",
     "level": 2,
     "metadata": {},
     "source": [
      "Example 5.13 , Page Number 89"
     ]
    },
    {
     "cell_type": "code",
     "collapsed": false,
     "input": [
      "import math\n",
      "\n",
      "#Variables\n",
      "\n",
      "R1 = 5.0                      #resistance (in ohm)\n",
      "R2 = 2.0                      #resistance (in ohm)\n",
      "R3 = 3.0                      #resistance (in ohm)\n",
      "\n",
      "#Calculation\n",
      "\n",
      "Req = R2 * R3 / (R2 + R3)   #Equivalent resistance (in ohm)\n",
      "RL = R1 + Req\n",
      "\n",
      "#Result\n",
      "\n",
      "print \"Load resistance is \",RL,\" ohm.\""
     ],
     "language": "python",
     "metadata": {},
     "outputs": [
      {
       "output_type": "stream",
       "stream": "stdout",
       "text": [
        "Load resistance is  6.2  ohm.\n"
       ]
      }
     ],
     "prompt_number": 62
    }
   ],
   "metadata": {}
  }
 ]
}