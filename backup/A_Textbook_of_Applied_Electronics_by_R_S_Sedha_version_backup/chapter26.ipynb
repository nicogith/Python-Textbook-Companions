{
 "metadata": {
  "name": "",
  "signature": "sha256:65d04ec58f08a625163af505c7315cf0eb590c938440b7ce9bda5b05a5c63ff1"
 },
 "nbformat": 3,
 "nbformat_minor": 0,
 "worksheets": [
  {
   "cells": [
    {
     "cell_type": "heading",
     "level": 1,
     "metadata": {},
     "source": [
      "Chapter 26 , Multistage BJT Amplifiers"
     ]
    },
    {
     "cell_type": "heading",
     "level": 2,
     "metadata": {},
     "source": [
      "Example 26.1 , Page Number 658"
     ]
    },
    {
     "cell_type": "code",
     "collapsed": false,
     "input": [
      "#Variables\n",
      "\n",
      "Av1 = 10.0                          #Voltage gain1\n",
      "Av2 = 20.0                          #Voltage gain2\n",
      "Av3 = 40.0                          #Voltage gain3\n",
      "\n",
      "#Calculation\n",
      "\n",
      "Av = Av1 * Av2 * Av3                #Voltage gain\n",
      "Gv1 = 20 * log10(Av1)               #dB voltage gain1\n",
      "Gv2 = 20 * log10(Av2)               #dB voltage gain2\n",
      "Gv3 = 20 * log10(Av3)               #dB voltage gain3\n",
      "Gv = Gv1 + Gv2 + Gv3                #dB voltage gain\n",
      "\n",
      "#Result\n",
      "\n",
      "print \"Overall voltage gain is \",Av,\".\\nTotal dB voltage gain is \",round(Gv),\" dB.\""
     ],
     "language": "python",
     "metadata": {},
     "outputs": [
      {
       "output_type": "stream",
       "stream": "stdout",
       "text": [
        "Overall voltage gain is  8000.0 .\n",
        "Total dB voltage gain is  78.0  dB.\n"
       ]
      }
     ],
     "prompt_number": 1
    },
    {
     "cell_type": "heading",
     "level": 2,
     "metadata": {},
     "source": [
      "Example 26.2 , Page Number 659"
     ]
    },
    {
     "cell_type": "code",
     "collapsed": false,
     "input": [
      "#Variables\n",
      "\n",
      "n = 3                       #Number of amplified stages\n",
      "Vin1 = 0.05                 #Input to first stage (in volts peak-to-peak)\n",
      "Vout3 = 150.0               #Output of final stage (in volts peak-to-peak)\n",
      "Av1 = 20.0                  #Voltage gain of first stage \n",
      "Vin3 = 15.0                 #Input of final stage (in volts peak-to-peak)  \n",
      "\n",
      "#Calculation\n",
      "\n",
      "Av = Vout3 / Vin1           #Overall voltage gain\n",
      "Av3 = Vout3 / Vin3          #Voltage gain of third stage\n",
      "Av2 = Av / (Av1 * Av3)      #Voltage gain of second stage\n",
      "Vin2 = Vin3 / Av2           #Input voltage gain of second stage                 \n",
      "\n",
      "#Result\n",
      "\n",
      "print \"Overall voltage gain is \",Av,\".\\nVoltage gain of 2nd and 3rd stage is \",Av2,\" and \",Av3,\".\\nInput voltage of the second stage is \",Vin2,\" Vpk-pk.\""
     ],
     "language": "python",
     "metadata": {},
     "outputs": [
      {
       "output_type": "stream",
       "stream": "stdout",
       "text": [
        "Overall voltage gain is  3000.0 .\n",
        "Voltage gain of 2nd and 3rd stage is  15.0  and  10.0 .\n",
        "Input voltage of the second stage is  1.0  Vpk-pk.\n"
       ]
      }
     ],
     "prompt_number": 2
    },
    {
     "cell_type": "heading",
     "level": 2,
     "metadata": {},
     "source": [
      "Example 26.3 , Page Number 663"
     ]
    },
    {
     "cell_type": "code",
     "collapsed": false,
     "input": [
      "#Variables\n",
      "\n",
      "VCC = 10.0                        #Source voltage (in volts)\n",
      "RC = 5.0 * 10**3                  #Collector resistance (in ohm) \n",
      "RB = 1.0 * 10**6                  #Base resistance (in ohm)\n",
      "RE = 1.0 * 10**3                  #Emitter resistance (in ohm)\n",
      "RL = 10.0 * 10**3                 #Load resistance (in ohm)\n",
      "beta1 = beta2 = 100.0             #Common emitter current gain\n",
      "\n",
      "#Calculation\n",
      "\n",
      "IE = VCC /(RE + RB/beta1)         #Emitter current (in Ampere)\n",
      "r1e = 25.0/IE * 10**-3            #a.c. emitter diode resistance (in ohm)\n",
      "Ri1 = beta1 * r1e                 #Input resistance of first stage (in ohm)\n",
      "Ri2 = beta2 * r1e                 #Input resistance of second stage (in ohm)\n",
      "Ro1 = RC * Ri2 / (RC + Ri2)       #Output resistance of first stage (in ohm)\n",
      "Ro2 = RC * RL / (RC + RL)         #Output resitance of second stage (in ohm)\n",
      "Av1 = Ro1 / r1e                   #Voltage gain of first stage\n",
      "Av2 = Ro2 / r1e                   #Voltage gain of second stage\n",
      "Av = Av1 * Av2                    #Overall voltage gain\n",
      "Gv = 20 * log10(Av)               #Overall dB voltage gain\n",
      "\n",
      "#Result\n",
      "\n",
      "print \"Input resistance of first and scond stage is \",round(Ri1),\" ohm and \",round(Ri2),\" ohm.\\nOutput resistance of first and second stage is \",round(Ro1,1),\" ohm and \",round(Ro2,1),\" ohm.\\nVoltage gain of first and second stage is \",round(Av1),\" and \",round(Av2,1),\".\\nOverall voltage gain and dB voltage gain is \",round(Av),\" and \",round(Gv,1),\" dB.\""
     ],
     "language": "python",
     "metadata": {},
     "outputs": [
      {
       "output_type": "stream",
       "stream": "stdout",
       "text": [
        "Input resistance of first and scond stage is  2750.0  ohm and  2750.0  ohm.\n",
        "Output resistance of first and second stage is  1774.2  ohm and  3333.3  ohm.\n",
        "Voltage gain of first and second stage is  65.0  and  121.2 .\n",
        "Overall voltage gain and dB voltage gain is  7820.0  and  77.9  dB.\n"
       ]
      }
     ],
     "prompt_number": 3
    },
    {
     "cell_type": "heading",
     "level": 2,
     "metadata": {},
     "source": [
      "Example 26.4 , Page Number 664"
     ]
    },
    {
     "cell_type": "code",
     "collapsed": false,
     "input": [
      "#Variables\n",
      "\n",
      "VCC = 15.0                        #Source voltage (in volts)\n",
      "RC = 3.3 * 10**3                  #Collector resistance (in ohm) \n",
      "RE = 1.0 * 10**3                  #Emitter resistance (in ohm)\n",
      "RL = 10.0 * 10**3                 #Load resistance (in ohm)\n",
      "R1 = 33.0 * 10**3                 #Resistance (in ohm)\n",
      "R2 = 8.2 * 10**3                  #Resistance (in ohm)\n",
      "beta1 = beta2 = 100.0             #Common emitter current gain\n",
      "VBE = 0.7                         #Emitter-to-base voltage (in volts)\n",
      "\n",
      "#Calculation\n",
      "\n",
      "Vth = VCC * R2 / (R1 + R2)        #Thevenin's voltage (in volts)\n",
      "Rth = R1 * R2 / (R1 + R2)         #Thevenin's equivalent resistance (in ohm)\n",
      "IE = (Vth - VBE)/(RE + Rth/beta1) #Emitter current (in Ampere)\n",
      "r1e = 25.0/IE * 10**-3            #a.c. emitter resistance (in ohm)\n",
      "Ri2 = beta1 * r1e                 #Input resistance of second stage (in ohm)\n",
      "Ro1 = RC * Ri2 / (RC + Ri2)       #Output resistance of first stage (in ohm)\n",
      "Ro2 = RC * RL /(RC + RL)          #Output resistance of second stage (in ohm)\n",
      "Av1 = Ro1 / r1e                   #Voltage gain of the first stage\n",
      "Av2 = Ro2 / r1e                   #Voltage gain of second stage\n",
      "Av = Av1 * Av2                    #Overall voltage gain\n",
      "Gv = 20 * log10(Av)               #Overall voltage (in decibels)\n",
      "\n",
      "#Result\n",
      "\n",
      "print \"Voltage gain of stage one and two are as follows \",round(Av1,2),\" and \",round(Av2,2),\".\\nOverall voltage gain is \",round(Av),\".\\nOverall voltage gain in decibels is \",round(Gv,1),\" dB.\"\n",
      "\n",
      "#Slight variation in the value of Av2 and Av due to higher precision."
     ],
     "language": "python",
     "metadata": {},
     "outputs": [
      {
       "output_type": "stream",
       "stream": "stdout",
       "text": [
        "Voltage gain of stage one and two are as follows  73.9  and  212.85 .\n",
        "Overall voltage gain is  15728.0 .\n",
        "Overall voltage gain in decibels is  83.9  dB.\n"
       ]
      }
     ],
     "prompt_number": 4
    },
    {
     "cell_type": "heading",
     "level": 2,
     "metadata": {},
     "source": [
      "Example 26.5 , Page Number 669"
     ]
    },
    {
     "cell_type": "code",
     "collapsed": false,
     "input": [
      "#Variables\n",
      "\n",
      "VCC = 10.0                        #Source voltage (in volts)\n",
      "RB = 470.0 * 10**3                #Base resistance (in ohm) \n",
      "RE = 1.0 * 10**3                  #Emitter resistance (in ohm)\n",
      "RL = 1.0 * 10**3                  #Load resistance (in ohm)\n",
      "a = 4.0                           #Turn's ratio\n",
      "beta1 = beta2 = 50.0              #Common emitter current gain\n",
      "VBE = 0.7                         #Emitter-to-base voltage (in volts)\n",
      "\n",
      "#Calculation\n",
      "\n",
      "IE = VCC/ (RE + RB/beta1)         #Emitter current (in Ampere)\n",
      "r1e = 25.0 / IE * 10**-3          #a.c. emitter diode resistance (in ohm)\n",
      "Ri1 = RB*beta1*r1e/(RB+beta1*r1e) #Input resistance of first stage (in ohm)\n",
      "Ri2 = RB*beta2*r1e/(RB+beta2*r1e) #Input resistance of Second stage (in ohm)\n",
      "R1i2 = a**2 * Ri2                 #Input resistance of the second stage transformed to primary side (in ohm)\n",
      "Ro1 = R1i2                        #Output resistance of second stage (in ohm)\n",
      "R1o2 = a**2 * RL                  #Output resistance of the second stage transformed to the primary side (in ohm)   \n",
      "Av1 = Ro1/r1e                     #Voltage gain of first stage\n",
      "Av2 = R1o2/r1e                    #Voltage gain of second stage\n",
      "Av = Av1 * Av2                    #Overall voltage gain\n",
      "Gv = 20 * log10(Av)               #Overall voltage gain (in decibels) \n",
      "\n",
      "#Result\n",
      "\n",
      "print \"Voltage gain of first stage is \",round(Av1,1),\".\\nVoltage gain of second stage is \",round(Av2,1),\".\\nOverall voltage gain is \",round(Av),\".\\nOverall voltage gain in decibels is \",round(Gv),\" dB.\"\n",
      "\n",
      "#Slight variation due to higher precision."
     ],
     "language": "python",
     "metadata": {},
     "outputs": [
      {
       "output_type": "stream",
       "stream": "stdout",
       "text": [
        "Voltage gain of first stage is  797.8 .\n",
        "Voltage gain of second stage is  615.4 .\n",
        "Overall voltage gain is  490950.0 .\n",
        "Overall voltage gain in decibels is  114.0  dB.\n"
       ]
      }
     ],
     "prompt_number": 5
    },
    {
     "cell_type": "heading",
     "level": 2,
     "metadata": {},
     "source": [
      "Example 26.6 , Page Number 672"
     ]
    },
    {
     "cell_type": "code",
     "collapsed": false,
     "input": [
      "#Variables\n",
      "\n",
      "VCC = 12.0                         #Source voltage (in volts)\n",
      "R1 = 100.0 * 10**3                 #Resistance (in ohm)\n",
      "R2 = 20.0 * 10**3                  #Resistance (in ohm)\n",
      "R3 = 10.0 * 10**3                  #Resistance (in ohm)\n",
      "R4 = 2.0 * 10**3                   #Resistance (in ohm)\n",
      "R5 = 10.0 * 10**3                  #Resistance (in ohm)\n",
      "R6 = 2.0 * 10**3                   #Resistance (in ohm)\n",
      "beta1 = beta2 = 100.0              #Common emitter current gain\n",
      "\n",
      "#Calculation\n",
      "\n",
      "Vth = VCC * R2 / (R1 + R2)         #Thevenin's voltage (in volts)\n",
      "IE1 = Vth / R4                     #Emitter curren1 (in Ampere)\n",
      "r1e = 25.0 / IE1 * 10**-3          #a.c. emitter diode resistance (in ohm) \n",
      "VR6 = VCC - IE1 * R3               #Voltage across resistance6 (in volts)\n",
      "IE2 = VR6 / R6                     #Emitter current2 (in Ampere)\n",
      "r1e2 = 25.0 / IE2 * 10**-3         #a.c. emitter diode resistance2 (in ohm)\n",
      "Ri2 = beta2*(r1e2 + R6)            #Input resistance of second stage (in ohm)\n",
      "Ro1 = R3 * Ri2 /(R3 + Ri2)         #Output resistance of first stage (in ohm)\n",
      "Ro2 = R5                           #Output resistance of second stage (in ohm)\n",
      "Av1 = Ro1/(r1e + R4)               #Voltage gain of first stage \n",
      "Av2 = Ro2/(r1e2 + R6)              #Voltage gain of second stage\n",
      "Av = Av1 * Av2                     #Overall voltage gain \n",
      "\n",
      "#Result\n",
      "\n",
      "print \"Voltage gain of first stage is \",round(Av1,1),\".\\nVoltage gain of second stage is \",round(Av2,1),\".\\nOverall voltage gain is \",round(Av,2),\".\"\n",
      "\n",
      "#Calculation mistake in book about Ro1 , therefore slight variation in the answers."
     ],
     "language": "python",
     "metadata": {},
     "outputs": [
      {
       "output_type": "stream",
       "stream": "stdout",
       "text": [
        "Voltage gain of first stage is  4.7 .\n",
        "Voltage gain of second stage is  4.9 .\n",
        "Overall voltage gain is  23.24 .\n"
       ]
      }
     ],
     "prompt_number": 6
    },
    {
     "cell_type": "heading",
     "level": 2,
     "metadata": {},
     "source": [
      "Example 26.7 , Page Number 674"
     ]
    },
    {
     "cell_type": "code",
     "collapsed": false,
     "input": [
      "#Variables\n",
      "\n",
      "VCC = 10.0                          #Source voltage (in volts)\n",
      "R1 = 800.0                          #Resistance (in ohm)\n",
      "R2 = 200.0                          #Resistance (in ohm)\n",
      "R3 = 600.0                          #Resistance (in ohm)\n",
      "R4 = 200.0                          #Resistance (in ohm)\n",
      "R5 = 100.0                          #Resistance (in ohm)\n",
      "R6 = 1000.0                         #Resistance (in ohm)\n",
      "beta1 = beta2 = 100.0               #Common emitter current gain\n",
      "VBE = 0.7                           #Emitter-to-base voltage (in volts)\n",
      "\n",
      "#Calculation\n",
      "\n",
      "VR2 = VCC * (R2 / (R1 + R2))        #Voltage across resistance2 (in volts)\n",
      "IE1 = (VR2 - VBE)/R2                #Emitter current of Q1 transistor (in Ampere)\n",
      "IC1 = IE1                           #Collector current of Q1 transistor (in Ampere)\n",
      "VC1 = VCC - IC1 * R3                #Voltage at the collector of Q1 transistor (in volts)\n",
      "VE1 = IE1 * R4                      #Voltage at the emitter of Q1 transistor (in volts)\n",
      "VCE1 = VC1 - VE1                    #Collector-to-emitter voltage of Q1 transistor (in volts)\n",
      "VE2 = VC1 - (-VBE)                  #Voltage at the emitter of Q2 transistor (in volts)\n",
      "IE2 = (VCC - VE2)/R6                #Emitter current of Q2 transistor (in Ampere)\n",
      "IC2 = IE2                           #Collector-current of Q2 transistor (in Ampere)\n",
      "VC2 = IC2 * R5                      #Voltage at the collector of Q2 transistor (in volts)\n",
      "VCE2 = VC2 - VE2                    #Collector-to-emitter voltage of Q2 transistor (in volts)\n",
      "\n",
      "r1e1 = 25.0 / IE1 * 10**-3          #a.c. emitter diode resistance of Q1 transistor (in ohm)\n",
      "r1e2 = 25.0 / IE2 * 10**-3          #a.c. emitter diode resistance of Q2 transistor (in ohm)\n",
      "Ri2 = beta2 * (r1e2 + R6)           #Input resistance of second stage (in ohm)\n",
      "Ro1 = R3 * Ri2 / (R3 + Ri2)         #Output resistance of first stage (in ohm)\n",
      "Av1 = Ro1 / (r1e1 + R4)             #Voltage gain of first stage\n",
      "Av2 = 1.0                           #Voltage gain of second stage         \n",
      "Av = Av1 * Av2                      #Overall voltage gain\n",
      "\n",
      "#Result\n",
      "\n",
      "print \"Emitter current of Q1 transistor is \",IE1 * 10**3,\" mA.\\nCollector current of Q1 transistor is \",IC1 * 10**3,\" mA.\\nEmitter current of Q2 transistor is \",IE2 * 10**3,\" mA.\\nCollecotr-current of Q2 transistor is \",IC2 * 10**3,\" mA.\"\n",
      "print \"Collector-to-emitter voltage of Q1 transistor is \",VCE1,\" v.\\nCollector-to-emitter voltage of Q2 transistor is \",VCE2,\".\"\n",
      "print \"Overall voltage gain is \",round(Av,2),\".\""
     ],
     "language": "python",
     "metadata": {},
     "outputs": [
      {
       "output_type": "stream",
       "stream": "stdout",
       "text": [
        "Emitter current of Q1 transistor is  6.5  mA.\n",
        "Collector current of Q1 transistor is  6.5  mA.\n",
        "Emitter current of Q2 transistor is  3.2  mA.\n",
        "Collecotr-current of Q2 transistor is  3.2  mA.\n",
        "Collector-to-emitter voltage of Q1 transistor is  4.8  v.\n",
        "Collector-to-emitter voltage of Q2 transistor is  -6.48 .\n",
        "Overall voltage gain is  2.93 .\n"
       ]
      }
     ],
     "prompt_number": 7
    },
    {
     "cell_type": "heading",
     "level": 2,
     "metadata": {},
     "source": [
      "Example 26.8 , Page Number 679"
     ]
    },
    {
     "cell_type": "code",
     "collapsed": false,
     "input": [
      "#Variables\n",
      "\n",
      "VCC = 10.0                        #Source voltage (in volts)\n",
      "RE = 1.5 * 10**3                  #Emitter resistance (in ohm)\n",
      "R1 = 30.0 * 10**3                 #Resistance (in ohm)\n",
      "R2 = 20.0 * 10**3                 #Resistance (in ohm)\n",
      "beta1 = 150.0                     #Common emitter current gain\n",
      "beta2 = 100.0                     #Common emitter current gain\n",
      "VBE = 0.7                         #Emitter-to-base voltage (in volts)\n",
      "\n",
      "#Calculation\n",
      "\n",
      "Ai = beta1 * beta2                #Overall current gain of transistor\n",
      "VR2 = VCC * R2/(R1 + R2)          #Voltage across resistor2 (in volts)\n",
      "VB2 = VR2 - VBE                   #Voltage at the base of Q2 (in volts)\n",
      "VE2 = VB2 - VBE                   #Voltage at the emitter of Q2 (in volts)\n",
      "IE2 = VE2 / RE                    #Emitter current of Q2 (in Ampere)\n",
      "r1e2 = 25.0/IE2 * 10**-3          #a.c. emitter diode resistance of Q2 (in ohm)\n",
      "IB2 = IE2 / beta2                 #Base current of Q2 (in Ampere)\n",
      "IE1 = IB2                         #Emitter current of Q2\n",
      "r1e1 = 25.0/IE1 * 10**-3          #a.c. emitter diode resistance of Q1 (in ohm)   \n",
      "Ri1 = R1 * R2/(R1 + R2)           #Total input resistance (in ohm)\n",
      "Av = RE/(r1e1/beta2 + r1e2 + RE)  #Overall voltage gain\n",
      "\n",
      "#Result\n",
      "\n",
      "print \"The overall current gain is \",Ai,\".\"\n",
      "print \"The a.c. emitter diode resistance of Q1 transistor is \",round(r1e1,1),\" ohm.\\nThe a.c. emitter diode resistance of Q2 transistor is \",round(r1e2,2),\" ohm.\"\n",
      "print \"Total input resistance is \",Ri1 * 10**-3,\" kilo-ohm.\"\n",
      "print \"Overall voltage gain is \",round(Av,2),\".\"\n",
      "\n",
      "#Slight variation due to higher precision."
     ],
     "language": "python",
     "metadata": {},
     "outputs": [
      {
       "output_type": "stream",
       "stream": "stdout",
       "text": [
        "The overall current gain is  15000.0 .\n",
        "The a.c. emitter diode resistance of Q1 transistor is  1442.3  ohm.\n",
        "The a.c. emitter diode resistance of Q2 transistor is  14.42  ohm.\n",
        "Total input resistance is  12.0  kilo-ohm.\n",
        "Overall voltage gain is  0.98 .\n"
       ]
      }
     ],
     "prompt_number": 8
    }
   ],
   "metadata": {}
  }
 ]
}