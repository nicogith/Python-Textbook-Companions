{
 "cells": [
  {
   "cell_type": "markdown",
   "metadata": {},
   "source": [
    "# Chapter 22 , BJT Biasing and Stabilization"
   ]
  },
  {
   "cell_type": "markdown",
   "metadata": {},
   "source": [
    "## Example 22.1 , Page Number 527"
   ]
  },
  {
   "cell_type": "code",
   "execution_count": 1,
   "metadata": {
    "collapsed": false
   },
   "outputs": [
    {
     "name": "stdout",
     "output_type": "stream",
     "text": [
      "The value of saturation current is  2.0  mA.\n",
      "The value of cut-off voltage is  20.0  V.\n"
     ]
    },
    {
     "data": {
      "text/plain": [
       "<matplotlib.text.Text at 0x60d98f0>"
      ]
     },
     "execution_count": 1,
     "metadata": {},
     "output_type": "execute_result"
    },
    {
     "data": {
      "image/png": "[encoded data removed]",
      "text/plain": [
       "<matplotlib.figure.Figure at 0x26a1670>"
      ]
     },
     "metadata": {},
     "output_type": "display_data"
    }
   ],
   "source": [
    "import math\n",
    "import numpy\n",
    "%matplotlib inline\n",
    "from matplotlib.pyplot import plot,title,xlabel,ylabel\n",
    "\n",
    "#Variables\n",
    "\n",
    "VBB = 10.0                    #Base Voltage (in volts)\n",
    "RB = 47.0                     #Base Resistance (in kilo-ohm)\n",
    "VCC = 20.0                    #Voltage Source (in volts)\n",
    "RC = 10.0                     #Collector Resistance (in kilo-ohm)\n",
    "beta = 100.0                  #Common-Emitter current gain \n",
    "\n",
    "#Calculation\n",
    "\n",
    "ICsat = VCC / RC              #Saturation current (in milli-Ampere)\n",
    "VCEcutoff = VCC               #Cutoff voltage (in volts)\n",
    "\n",
    "#Result\n",
    "\n",
    "print \"The value of saturation current is \",ICsat,\" mA.\\nThe value of cut-off voltage is \",VCEcutoff,\" V.\"\n",
    "\n",
    "#Graph\n",
    "\n",
    "x = numpy.linspace(0,20,100)\n",
    "plot(x,x/10)\n",
    "title(\"d.c. load line\")\n",
    "xlabel(\"Collector-to-emitter voltage VCE (V)\")\n",
    "ylabel(\"Collector current IC (mA)\")"
   ]
  },
  {
   "cell_type": "markdown",
   "metadata": {},
   "source": [
    "## Example 22.2 , Page Number 528"
   ]
  },
  {
   "cell_type": "code",
   "execution_count": 2,
   "metadata": {
    "collapsed": false
   },
   "outputs": [
    {
     "name": "stdout",
     "output_type": "stream",
     "text": [
      "Q-points corresponds to  8.84  V and  37.2  mA.\n"
     ]
    },
    {
     "data": {
      "text/plain": [
       "<matplotlib.text.Annotation at 0x620f450>"
      ]
     },
     "execution_count": 2,
     "metadata": {},
     "output_type": "execute_result"
    },
    {
     "data": {
      "image/png": "[encoded data removed]",
      "text/plain": [
       "<matplotlib.figure.Figure at 0x60aaf10>"
      ]
     },
     "metadata": {},
     "output_type": "display_data"
    }
   ],
   "source": [
    "import math\n",
    "import numpy\n",
    "%matplotlib inline\n",
    "from matplotlib.pyplot import plot,title,xlabel,ylabel,annotate\n",
    "\n",
    "#Variables\n",
    "\n",
    "VCC = 20.0                    #Source voltage (in volts)\n",
    "RC = 300.0                    #Collector resistance (in ohm)\n",
    "VBB = 10.0                    #Base voltage (in volts)\n",
    "RB = 50.0                     #Base Resistance (in kilo-ohm)\n",
    "beta = 200.0                  #Common-emittter current gain  \n",
    "\n",
    "#Calculation\n",
    "\n",
    "ICsat = VCC / RC              #Saturation current (in Ampere)\n",
    "VCEcutoff = VCC               #Cutoff voltage (in volts)\n",
    "#Using kirchoff's voltage law\n",
    "IB = (VBB - 0.7) / RB         #Base current (in milli-Ampere)\n",
    "IC = beta * IB                #Collector current (in milli-Ampere)\n",
    "VCE = VCC - IC * RC * 10**-3  #Collector-to-emitter voltage (in volts)\n",
    "\n",
    "#Result\n",
    "\n",
    "print \"Q-points corresponds to \",VCE,\" V and \",IC,\" mA.\"\n",
    "\n",
    "#Graph\n",
    "\n",
    "x = numpy.linspace(0,20,100)\n",
    "plot(x,66.7 - 66.7/20 * x)\n",
    "title(\"d.c. load line\")\n",
    "xlabel(\"Collector-to-emitter voltage VCE (V)\")\n",
    "ylabel(\"Collector current IC (mA)\")\n",
    "annotate(\"Q\",xy=(8.84,37.2))\n",
    "annotate(\"66.7\",xy=(0,66.7))\n",
    "annotate(\"37.2\",xy=(0,37.2))\n",
    "annotate(\"8.84\",xy=(8.84,0))"
   ]
  },
  {
   "cell_type": "markdown",
   "metadata": {},
   "source": [
    "## Example 22.3 , Page Number 533"
   ]
  },
  {
   "cell_type": "code",
   "execution_count": 3,
   "metadata": {
    "collapsed": false
   },
   "outputs": [
    {
     "name": "stdout",
     "output_type": "stream",
     "text": [
      "The value of base current is  0.14  mA.\n",
      "The value of Collector current is  11.11  mA.\n",
      "THe value of Collector-to-Emitter voltage is  15.89  V.\n"
     ]
    }
   ],
   "source": [
    "import math\n",
    "\n",
    "#Variables\n",
    "\n",
    "VCC = 25.0                    #Source voltage (in volts)\n",
    "RC = 820.0                    #Collector Resistance (in ohm)\n",
    "RB = 180.0                    #Base Resistance (in kilo-ohm)\n",
    "beta = 80.0                   #Common-Emitter current gain\n",
    "\n",
    "#Calculation\n",
    "\n",
    "IB = VCC / RB                 #Base current (in milli-Ampere)\n",
    "IC = beta * IB                #Collector current (in milli-Ampere)\n",
    "VCE = VCC - IC * RC * 10**-3  #Collector-to-Emitter voltage (in volts)\n",
    "\n",
    "#Result\n",
    "\n",
    "print \"The value of base current is \",round(IB,2),\" mA.\\nThe value of Collector current is \",round(IC,2),\" mA.\\nTHe value of Collector-to-Emitter voltage is \",round(VCE,2),\" V.\"\n",
    "\n",
    "#Slight variation in answers due to higher precision."
   ]
  },
  {
   "cell_type": "markdown",
   "metadata": {},
   "source": [
    "## Example 22.4 , Page Number 534"
   ]
  },
  {
   "cell_type": "code",
   "execution_count": 4,
   "metadata": {
    "collapsed": false
   },
   "outputs": [
    {
     "name": "stdout",
     "output_type": "stream",
     "text": [
      "The base current is  0.05  mA.\n",
      "The collector current is  5.0  mA.\n"
     ]
    }
   ],
   "source": [
    "#Variables\n",
    "\n",
    "VBB = 2.7                       #Base voltage (in Volts)\n",
    "RB = 40.0                       #Base resistance (in kilo-ohm)\n",
    "VCC = 10.0                      #Supply voltage (in volts)\n",
    "RC = 2.5                        #Collector resistance (in kilo-ohm)\n",
    "VBE = 0.7                       #Emitter-to-base voltage (in volts)\n",
    "beta = 100.0                    #Current gain \n",
    "\n",
    "#Calculation\n",
    "\n",
    "IB = (VBB - VBE)/RB             #Base current (in milli-Ampere)\n",
    "IC = beta * IB\n",
    "\n",
    "#Result\n",
    "\n",
    "print \"The base current is \",IB,\" mA.\"\n",
    "print \"The collector current is \",IC,\" mA.\""
   ]
  },
  {
   "cell_type": "markdown",
   "metadata": {},
   "source": [
    "## Example 22.5 , Page Number 534"
   ]
  },
  {
   "cell_type": "code",
   "execution_count": 5,
   "metadata": {
    "collapsed": false
   },
   "outputs": [
    {
     "name": "stdout",
     "output_type": "stream",
     "text": [
      "The value of collector current is for operation in saturation region is  1.0  mA.\n",
      "Since  1.29  mA is greater than  1.0  mA , therefore it will operate in saturation region.\n"
     ]
    }
   ],
   "source": [
    "import math\n",
    "\n",
    "#Variables\n",
    "\n",
    "VCC = 5.0                      #Source voltage (in volts)\n",
    "RC = 5.0                       #Collector resistance (in kilo-ohm)\n",
    "VBB = 5.0                      #Base voltage (in volts)\n",
    "RB = 100.0                     #Base Resistance (in kilo-ohm)\n",
    "VBE = 0.7                      #Emitter-to-Base Voltage (in volts)\n",
    "beta = 30.0                    #Common-Emitter current gain\n",
    "\n",
    "#Calculation\n",
    "\n",
    "IB = (VBB - VBE)/RB            #Base Current (in milli-Ampere)\n",
    "IC = beta * IB                 #Collector Current (in milli-Ampere)\n",
    "IC1 = VCC / RC                 #Collector Current (in milli-Ampere)\n",
    "\n",
    "#Result\n",
    "\n",
    "print \"The value of collector current is for operation in saturation region is \",IC1,\" mA.\\nSince \",IC,\" mA is greater than \",IC1,\" mA , therefore it will operate in saturation region.\""
   ]
  },
  {
   "cell_type": "markdown",
   "metadata": {},
   "source": [
    "## Example 22.6 , Page Number 535"
   ]
  },
  {
   "cell_type": "code",
   "execution_count": 6,
   "metadata": {
    "collapsed": false
   },
   "outputs": [
    {
     "name": "stdout",
     "output_type": "stream",
     "text": [
      "Stability factor for the fixed bias circuit is  101.0 .\n",
      "The voltage between the collector and the ground is  2.1  V.\n"
     ]
    }
   ],
   "source": [
    "import math\n",
    "\n",
    "#Variables\n",
    "\n",
    "VCC = 12.0                     #Source voltage (in volts)\n",
    "RC = 330.0                     #Collector resistance (in ohm)\n",
    "IB = 0.3                       #Base current (in milli-Ampere)\n",
    "beta = 100.0                   #Common-emitter current gain  \n",
    "\n",
    "#Calculation\n",
    "\n",
    "RB = VCC / IB                  #Resistance (in kilo-ohm)\n",
    "S = 1 + beta                   #Stability factor \n",
    "IC = beta * IB                 #Collector current (in milli-Ampere)\n",
    "VCE = VCC - IC * RC * 10**-3   #Collector-Ground voltage (in volts)   \n",
    "\n",
    "#Result\n",
    "\n",
    "print \"Stability factor for the fixed bias circuit is \",S,\".\\nThe voltage between the collector and the ground is \",VCE,\" V.\""
   ]
  },
  {
   "cell_type": "markdown",
   "metadata": {},
   "source": [
    "## Example 22.7 , Page Number 536"
   ]
  },
  {
   "cell_type": "code",
   "execution_count": 7,
   "metadata": {
    "collapsed": false
   },
   "outputs": [
    {
     "name": "stdout",
     "output_type": "stream",
     "text": [
      "VCE of the transistor is  8.0  V.\n",
      "VCC of the transistor is  20.0  V.\n",
      "IB of the transistor is  0.04  mA.\n",
      "IC of transistor is  4.0  mA.\n"
     ]
    }
   ],
   "source": [
    "import math\n",
    "\n",
    "#Variables\n",
    "\n",
    "VCC = 20.0                      #Source voltage (in volts)\n",
    "RC = 2.0                        #Collector resistance (in kilo-ohm)\n",
    "RB = 400.0                      #Base Resistance (in kilo-ohm)\n",
    "beta = 100.0                    #Common-Emitter current gain\n",
    "RE = 1.0                        #Emitter Resistance (in kilo-ohm)\n",
    "\n",
    "#Calculation\n",
    "\n",
    "IB = VCC / (RB + beta * RE)     #Base current (in milli-Ampere)\n",
    "IC = beta * IB                  #Collector Current (in milli-Ampere)\n",
    "VCE = VCC - IC * (RC + RE)      #Collector-to-Emitter Voltage (volts)\n",
    "\n",
    "#Result\n",
    "\n",
    "print \"VCE of the transistor is \",VCE,\" V.\\nVCC of the transistor is \",VCC,\" V.\\nIB of the transistor is \",IB,\" mA.\\nIC of transistor is \",IC,\" mA.\""
   ]
  },
  {
   "cell_type": "markdown",
   "metadata": {},
   "source": [
    "## Example 22.8 , Page Number 537"
   ]
  },
  {
   "cell_type": "code",
   "execution_count": 3,
   "metadata": {
    "collapsed": false
   },
   "outputs": [
    {
     "name": "stdout",
     "output_type": "stream",
     "text": [
      "The value of IC is  2.35  mA.\n",
      "The value of VCE is  12.0  V.\n"
     ]
    },
    {
     "data": {
      "text/plain": [
       "<matplotlib.text.Annotation at 0x6275410>"
      ]
     },
     "execution_count": 3,
     "metadata": {},
     "output_type": "execute_result"
    },
    {
     "data": {
      "image/png": "[encoded data removed]",
      "text/plain": [
       "<matplotlib.figure.Figure at 0x6219e50>"
      ]
     },
     "metadata": {},
     "output_type": "display_data"
    }
   ],
   "source": [
    "import math\n",
    "import numpy\n",
    "%matplotlib inline\n",
    "from matplotlib.pyplot import plot,title,xlabel,ylabel,annotate\n",
    "\n",
    "#Variables\n",
    "\n",
    "VCC = 12.0                        #Source voltage (in volts)\n",
    "RC = 2.2                          #Collector resistance (in kilo-ohm)\n",
    "RB = 240.0                        #Base Resistance (in kilo-ohm)\n",
    "beta = 50.0                       #Common-Emitter current gain\n",
    "VBE = 0.7                         #Emitter-to-Base Voltage (in volts)\n",
    "RE = 0                            #Emitter resistance (in kilo-ohm)\n",
    "\n",
    "#Calculation\n",
    "\n",
    "IC = (VCC - VBE)/(RE + RB/beta)   #Collector current (in milli-Ampere)\n",
    "VCE = VCC - IC * RC               #Collector-to-Emitter voltage (in volts)\n",
    "ICsat = VCC / RC                  #Saturation current (in milli-Ampere)\n",
    "VCEcutoff = VCC                   #Cut-off voltage (in volts) \n",
    "\n",
    "#Result\n",
    "\n",
    "print \"The value of IC is \",round(IC,2),\" mA.\\nThe value of VCE is \",VCEcutoff,\" V.\" \n",
    "\n",
    "#Graph\n",
    "\n",
    "x = numpy.linspace(0,12,100)\n",
    "plot(x,5.45 - 5.45/12 * x)\n",
    "title(\"d.c. load line\")\n",
    "xlabel(\"Collector-to-emitter voltage VCE (V)\")\n",
    "ylabel(\"Collector current IC (mA)\")\n",
    "annotate(\"6.83 V\",xy=(6.83,0))\n",
    "annotate(\"5.45 mA\",xy=(0,5.45))"
   ]
  },
  {
   "cell_type": "markdown",
   "metadata": {},
   "source": [
    "## Example 22.9 , Page Number 538"
   ]
  },
  {
   "cell_type": "code",
   "execution_count": 4,
   "metadata": {
    "collapsed": false
   },
   "outputs": [
    {
     "name": "stdout",
     "output_type": "stream",
     "text": [
      "Operating voltage is  20.0  V.\n",
      "Opearing current is  2.0  mA.\n"
     ]
    },
    {
     "data": {
      "text/plain": [
       "<matplotlib.text.Annotation at 0x63e64b0>"
      ]
     },
     "execution_count": 4,
     "metadata": {},
     "output_type": "execute_result"
    },
    {
     "data": {
      "image/png": "[encoded data removed]",
      "text/plain": [
       "<matplotlib.figure.Figure at 0x653e950>"
      ]
     },
     "metadata": {},
     "output_type": "display_data"
    }
   ],
   "source": [
    "import math\n",
    "import numpy\n",
    "%matplotlib inline\n",
    "from matplotlib.pyplot import plot,title,xlabel,ylabel,annotate\n",
    "#Variables\n",
    "\n",
    "VCC = 30.0                        #Source voltage (in volts)\n",
    "RC = 5.0                          #Collector resistance (in kilo-ohm)\n",
    "RB = 1.5 * 10**3                  #Base Resistance (in kilo-ohm)\n",
    "beta = 100.0                      #Common-emitter current gain\n",
    "\n",
    "#Calculation\n",
    "\n",
    "ICsat = VCC / RC                  #Saturation current (in milli-Ampere)\n",
    "VCEcutoff = VCC                   #Cut-off voltage (in volts)\n",
    "IB = VCC / RB                     #Base current (in milli-Ampere)\n",
    "IC = beta * IB                    #Collector current (in milli-Ampere)\n",
    "VCE = VCC - IC * RC               #Collector-to-Emitter voltage (in volts)\n",
    "\n",
    "#Result\n",
    "\n",
    "print \"Operating voltage is \",VCE,\" V.\\nOpearing current is \",IC,\" mA.\"\n",
    "\n",
    "#Graph\n",
    "\n",
    "x = numpy.linspace(0,30,100)\n",
    "plot(x,6.0 - 6.0/30.0 * x)\n",
    "title(\"d.c. load line\")\n",
    "xlabel(\"Collector-to-emitter voltage VCE (V)\")\n",
    "ylabel(\"Collector current IC (mA)\")\n",
    "annotate(\"20 V\",xy=(20,0))\n",
    "annotate(\"2 mA\",xy=(0,2))\n",
    "annotate(\"Q\",xy=(20,2))"
   ]
  },
  {
   "cell_type": "markdown",
   "metadata": {},
   "source": [
    "## Example 22.10 , Page Number 538"
   ]
  },
  {
   "cell_type": "code",
   "execution_count": 10,
   "metadata": {
    "collapsed": false
   },
   "outputs": [
    {
     "name": "stdout",
     "output_type": "stream",
     "text": [
      "When VBB = 0 V , LED is in OFF condition.\n",
      "When VBB = 3 V , LED is in ON condition.\n"
     ]
    }
   ],
   "source": [
    "import math\n",
    "\n",
    "#Variables\n",
    "\n",
    "VCC = 5.0                        #Source voltage (in volts)\n",
    "RE = 100.0                       #Emitter resistance (in kilo-ohm)\n",
    "VBE = 0.7                        #Emitter-base Voltage (in volts)\n",
    "\n",
    "#Calculation\n",
    "\n",
    "#Case 1 : when VBB = 0.2 V ->OFF\n",
    "#Case 2: when VBB = 3 V ->ON\n",
    "\n",
    "#Result\n",
    "\n",
    "print \"When VBB = 0 V , LED is in OFF condition.\\nWhen VBB = 3 V , LED is in ON condition.\""
   ]
  },
  {
   "cell_type": "markdown",
   "metadata": {},
   "source": [
    "## Example 22.11 , Page Number 539"
   ]
  },
  {
   "cell_type": "code",
   "execution_count": 11,
   "metadata": {
    "collapsed": false
   },
   "outputs": [
    {
     "name": "stdout",
     "output_type": "stream",
     "text": [
      "Collector current is  9.9  mA.\n",
      "Collector-to-Emitter voltage is  16.8669387755  V.\n",
      "Stability factor is  81.0 .\n"
     ]
    }
   ],
   "source": [
    "import math\n",
    "\n",
    "#Variables\n",
    "\n",
    "VCC = 25.0                        #Source voltage (in volts)\n",
    "RC = 820.0                        #Collector resistance (in ohm)\n",
    "RB = 180.0 * 10**3                #Base Resistance (in ohm)\n",
    "beta = 80.0                       #Common-Emitter current gain\n",
    "VBE = 0.7                         #Emitter-to-Base Voltage (in volts)\n",
    "RE = 200.0                        #Emitter resistance (in kilo-ohm)\n",
    "\n",
    "#Calculation\n",
    "\n",
    "IC = (VCC -VBE)/(RE + RB / beta)  #Collector current (in milli-Ampere)\n",
    "VCE = VCC - IC * RC               #Collector-to-Emitter voltage (in volts)    \n",
    "S = 1 + beta                      #Stability factor   \n",
    "\n",
    "#Result\n",
    "\n",
    "print \"Collector current is \",round(IC * 10**3,1),\" mA.\\nCollector-to-Emitter voltage is \",VCE,\" V.\\nStability factor is \",S,\".\"\n",
    "\n",
    "#Stability is not calculated in the book."
   ]
  },
  {
   "cell_type": "markdown",
   "metadata": {},
   "source": [
    "## Example 22.12 , Page Number 540"
   ]
  },
  {
   "cell_type": "code",
   "execution_count": 5,
   "metadata": {
    "collapsed": false
   },
   "outputs": [
    {
     "name": "stdout",
     "output_type": "stream",
     "text": [
      "Collector current is  0.845  mA.\n",
      "Collector-to-Emitter voltage is  1.55  V.\n"
     ]
    },
    {
     "data": {
      "text/plain": [
       "<matplotlib.text.Annotation at 0x71996d0>"
      ]
     },
     "execution_count": 5,
     "metadata": {},
     "output_type": "execute_result"
    },
    {
     "data": {
      "image/png": "[encoded data removed]",
      "text/plain": [
       "<matplotlib.figure.Figure at 0x65470b0>"
      ]
     },
     "metadata": {},
     "output_type": "display_data"
    }
   ],
   "source": [
    "import math\n",
    "import numpy\n",
    "%matplotlib inline\n",
    "from matplotlib.pyplot import plot,title,xlabel,ylabel,annotate\n",
    "\n",
    "#Variables\n",
    "\n",
    "VCC = 10.0                        #Source voltage (in volts)\n",
    "RC = 10.0 * 10**3                 #Collector resistance (in ohm)\n",
    "RB = 100.0 * 10**3                #Base Resistance (in ohm)\n",
    "beta = 100.0                      #Common-Emitter current gain\n",
    "VBE = 0.7                         #Emitter-to-Base Voltage (in volts)\n",
    "\n",
    "#Calculation\n",
    "\n",
    "IC = (VCC -VBE)/(RC + RB / beta)  #Collector current (in Ampere)\n",
    "VCE = VCC - IC * RC               #Collector-to-Emitter voltage (in volts)    \n",
    "ICsat = VCC / RC                  #Saturation current (in milli-Ampere)\n",
    "VCEcutoff = VCC                   #Cut-off voltage (in volts)\n",
    "\n",
    "#Result\n",
    "\n",
    "print \"Collector current is \",round(IC * 10**3,3),\" mA.\\nCollector-to-Emitter voltage is \",round(VCE,2),\" V.\"\n",
    "\n",
    "#Graph\n",
    "\n",
    "x = numpy.linspace(0,10,100)\n",
    "plot(x,6.0 - 6.0/30.0 * x)\n",
    "title(\"d.c. load line\")\n",
    "xlabel(\"Collector-to-emitter voltage VCE (V)\")\n",
    "ylabel(\"Collector current IC (mA)\")\n",
    "annotate(\"20 V\",xy=(20,0))\n",
    "annotate(\"2 mA\",xy=(0,2))\n",
    "annotate(\"Q\",xy=(20,2))"
   ]
  },
  {
   "cell_type": "markdown",
   "metadata": {},
   "source": [
    "## Example 22.13 , Page Number 541"
   ]
  },
  {
   "cell_type": "code",
   "execution_count": 13,
   "metadata": {
    "collapsed": false
   },
   "outputs": [
    {
     "name": "stdout",
     "output_type": "stream",
     "text": [
      "IB is  0.0465  mA.\n",
      "IC is  2.325  mA.\n",
      "IE is  2.325  mA.\n"
     ]
    }
   ],
   "source": [
    "import math\n",
    "\n",
    "#Variables\n",
    "\n",
    "VCC = 10.0                        #Source voltage (in volts)\n",
    "RC = 2.0 * 10**3                  #Collector resistance (in ohm)\n",
    "RB = 100.0 * 10**3                #Base Resistance (in ohm)\n",
    "beta = 50.0                       #Common-Emitter current gain\n",
    "VBE = 0.7                         #Emitter-to-Base Voltage (in volts)\n",
    "\n",
    "#Calculation\n",
    "\n",
    "IB = (VCC - VBE)/(RB + beta * RC) #Base current (in Ampere)\n",
    "IC = beta * IB                    #Collector current (in Ampere)\n",
    "IE = IC                           #Emitter current (in Ampere)\n",
    "S = 1 + beta                      #Stability factor\n",
    "\n",
    "#Result\n",
    "\n",
    "print \"IB is \",IB * 10**3,\" mA.\\nIC is \",IC * 10**3,\" mA.\\nIE is \",IE * 10**3,\" mA.\""
   ]
  },
  {
   "cell_type": "markdown",
   "metadata": {},
   "source": [
    "## Example 22.14 , Page Number 542"
   ]
  },
  {
   "cell_type": "code",
   "execution_count": 14,
   "metadata": {
    "collapsed": false
   },
   "outputs": [
    {
     "name": "stdout",
     "output_type": "stream",
     "text": [
      "In case 1, Collector junction is short circuited.\n",
      "In case 2, Collector resistance is short circuited. \n"
     ]
    }
   ],
   "source": [
    "import math\n",
    "\n",
    "#Variables\n",
    "\n",
    "#When VC = 0 volts\n",
    "VCC = 9.0                                #Source voltage (in volts)\n",
    "RB = 220.0                               #Base Resistance (in kilo-ohm)\n",
    "RC = 3.3                                 #Collector Resistance (in kilo-ohm)\n",
    "VBE = 0.3                                #Emitter-to-Base voltage (in volts)\n",
    "beta = 100.0                             #Common emitter current gain                     \n",
    "\n",
    "#Calculation\n",
    "\n",
    "IB = (VCC - VBE)/((RB + beta*RC)* 10**3) #Base current (in Ampere)\n",
    "IC = beta * IB                           #Collector current (in Ampere)\n",
    "VCE = VCC - IC * RC * 10**3              #Collector-to-emitter voltage (in volts)\n",
    "VC = VCE                                 #Collector voltage (in volts)\n",
    "ICRC = VCC                               #Voltage (in volts) \n",
    "\n",
    "#When VC = 9 volts\n",
    "IB1 = 16.0                               #Base current (in micro-Ampere)\n",
    "IC1 = beta * IB1                         #Collector current (in micro-Ampere) \n",
    "RC1 = 0                                  #Collector Resistance (in ohm)  \n",
    "\n",
    "#Result\n",
    "\n",
    "print \"In case 1, Collector junction is short circuited.\\nIn case 2, Collector resistance is short circuited. \" "
   ]
  },
  {
   "cell_type": "markdown",
   "metadata": {},
   "source": [
    "## Example 22.15 , Page Number 542"
   ]
  },
  {
   "cell_type": "code",
   "execution_count": 15,
   "metadata": {
    "collapsed": false
   },
   "outputs": [
    {
     "name": "stdout",
     "output_type": "stream",
     "text": [
      "The value of R1 is  14.6  kilo-ohm.\n"
     ]
    }
   ],
   "source": [
    "import math\n",
    "\n",
    "#Variables\n",
    "\n",
    "VCC = 12.0                               #Source voltage (in volts)\n",
    "RE = 100.0                               #Emitter Resistance (in ohm)\n",
    "RC = 3.3                                 #Collector Resistance (in kilo-ohm)\n",
    "IE = 2.0                                 #Emitter current (in milli-Ampere)\n",
    "VBE = 0.7                                #Emitter-to-Base Voltage (in volts)\n",
    "alpha = 0.98                             #Common base current gain\n",
    "R2 = 20.0                                #Resistance (in kilo-ohm)\n",
    "\n",
    "#Calculation\n",
    "\n",
    "IC = alpha * IE                          #Collector current (in milli-Ampere)\n",
    "VB = VBE + IE * RE * 10**-3              #Base voltage (in volts)\n",
    "VC = VCC - IC * RC                       #Collector voltage (in volts)   \n",
    "IR2 = VC / (R2)                          #Current through resistance 2 (in milli-Ampere)\n",
    "IB = IE - IC                             #Base current (in milli-Ampere)\n",
    "IR1 = IR2 + IB                           #Current through resistance 1 (in milli-Ampere)\n",
    "R1 = (VC - VB) / IR1                     #Value of the resistance (in kilo-ohm)\n",
    "\n",
    "#Result\n",
    "\n",
    "print \"The value of R1 is \",round(R1,1),\" kilo-ohm.\"\n",
    "\n",
    "#Correction to be done in the book about the formula of IR2"
   ]
  },
  {
   "cell_type": "markdown",
   "metadata": {},
   "source": [
    "## Example 22.16 , Page Number 543"
   ]
  },
  {
   "cell_type": "code",
   "execution_count": 2,
   "metadata": {
    "collapsed": false
   },
   "outputs": [
    {
     "name": "stdout",
     "output_type": "stream",
     "text": [
      "Base resistance is  101.84  kilo-ohm.\n"
     ]
    }
   ],
   "source": [
    "import math\n",
    "\n",
    "#Variables\n",
    "\n",
    "VCC = 24.0                               #Source voltage (in volts)\n",
    "RE = 270.0                               #Emitter Resistance (in ohm)\n",
    "RC = 10.0                                #Collector Resistance (in kilo-ohm)\n",
    "VBE = 0.7                                #Emitter-to-Base Voltage (in volts)\n",
    "beta = 45.0                              #Common emitter current gain                     \n",
    "VCE = 5.0                                #Collector-to-Emitter voltage (in volts)    \n",
    "\n",
    "#Calculation\n",
    "\n",
    "IC = (VCC - VCE) / RC                    #Collector current (in milli-Ampere)\n",
    "RB = ((VCC - VBE) / IC - RC) * beta      #Base Resistance (in kilo-ohm)             \n",
    "\n",
    "#Result\n",
    "\n",
    "print \"Base resistance is \",round(RB,2),\" kilo-ohm.\"\n",
    "\n",
    "#Calculation mistake in book."
   ]
  },
  {
   "cell_type": "markdown",
   "metadata": {},
   "source": [
    "## Example 22.17 , Page Number 545"
   ]
  },
  {
   "cell_type": "code",
   "execution_count": 1,
   "metadata": {
    "collapsed": false
   },
   "outputs": [
    {
     "name": "stdout",
     "output_type": "stream",
     "text": [
      "DC bias current is  1.06  mA.\n",
      "DC bias voltage is  1.1  V.\n",
      "Stability factor is  16.1 .\n"
     ]
    }
   ],
   "source": [
    "import math\n",
    "\n",
    "#Variables\n",
    "\n",
    "VCC = 3.0                                #Source voltage (in volts)\n",
    "RB = 33.0                                #Base Resistance (in kilo-ohm)\n",
    "RC = 1.8                                 #Collector Resistance (in kilo-ohm)\n",
    "VBE = 0.7                                #Emitter-to-Base Voltage (in volts)\n",
    "beta = 90.0                              #Common emitter current gain     \n",
    "\n",
    "#Calculation\n",
    "\n",
    "IB = (VCC - VBE) / (RB + beta * RC)      #Base current (in milli-Ampere)\n",
    "IC = beta * IB                           #Collector current (in milli-Ampere)\n",
    "VCE = VCC -IC * RC                       #Collector-to-emitter voltage (in volts)\n",
    "S = (1 + beta)/(1 + beta*RC/(RC + RB))   #Stability factor\n",
    "\n",
    "#Result\n",
    "\n",
    "print \"DC bias current is \",round(IC,2),\" mA.\\nDC bias voltage is \",round(VCE,1),\" V.\\nStability factor is \",round(S,1),\".\""
   ]
  },
  {
   "cell_type": "markdown",
   "metadata": {},
   "source": [
    "## Example 22.18 , Page Number 546"
   ]
  },
  {
   "cell_type": "code",
   "execution_count": 2,
   "metadata": {
    "collapsed": false
   },
   "outputs": [
    {
     "name": "stdout",
     "output_type": "stream",
     "text": [
      "Collector current is  5.27  mA.\n",
      "Collector-to-Emitter voltage is  2.1  V.\n"
     ]
    }
   ],
   "source": [
    "import math\n",
    "\n",
    "#Variables\n",
    "\n",
    "VCC = 10.0                                #Source voltage (in volts)\n",
    "RE = 500.0                                #Emitter Resistance (in ohm)\n",
    "RC = 1.0                                  #Collector Resistance (in kilo-ohm)\n",
    "R1 = 10.0                                 #Resistance (in kilo-ohm)\n",
    "R2 = 5.0                                  #Resistance (in kilo-ohm)\n",
    "VBE = 0.7                                 #Emitter-to-Base Voltage (in volts)\n",
    "beta = 100.0                               #Common emitter current gain     \n",
    "\n",
    "#Calculation\n",
    "\n",
    "VB = VCC * (R2 /(R1 + R2))                #Base voltage (in volts)\n",
    "VE = VB - VBE                             #Emitter voltage (in volts)\n",
    "IE = VE / RE                              #Emitter current (in Ampere)\n",
    "IC = IE                                   #Collector current (in Ampere)\n",
    "VCE = VCC - IC * (RC * 10**3 + RE)        #Collector-to-Emitter voltage (in volts)\n",
    "\n",
    "#Result\n",
    "\n",
    "print \"Collector current is \",round(IC * 10**3,2),\" mA.\\nCollector-to-Emitter voltage is \",VCE,\" V.\""
   ]
  },
  {
   "cell_type": "markdown",
   "metadata": {},
   "source": [
    "## Example 22.19 , Page Number 547"
   ]
  },
  {
   "cell_type": "code",
   "execution_count": 3,
   "metadata": {
    "collapsed": false
   },
   "outputs": [
    {
     "name": "stdout",
     "output_type": "stream",
     "text": [
      "Emitter current is  2.15  mA.\n",
      "The value of collector-to-emitter voltage is  8.55  V.\n"
     ]
    }
   ],
   "source": [
    "import math\n",
    "\n",
    "#Variables\n",
    "\n",
    "VCC = 15.0                                 #Source voltage (in volts)\n",
    "RE = 2.0                                   #Emitter Resistance (in kilo-ohm)\n",
    "RC = 1.0                                   #Collector Resistance (in kilo-ohm)\n",
    "R1 = 10.0                                  #Resistance (in kilo-ohm)\n",
    "R2 = 5.0                                   #Resistance (in kilo-ohm)\n",
    "VBE = 0.7                                  #Emitter-to-Base Voltage (in volts)\n",
    "\n",
    "#Calculation\n",
    "\n",
    "Vth = VCC * (R2 /(R1 + R2))                #Thevenin's voltage (in volts)\n",
    "Rth = R1 * R2 / (R1 + R2)                  #Thevenin's equivalent resistance (in kilo-ohm)\n",
    "IE = (Vth - VBE)/(RE)                      #Emitter current (in milli-Ampere)\n",
    "VCE = VCC - IE * (RC + RE)                 #Collector-to-Emitter voltage (in volts)\n",
    "\n",
    "#Result\n",
    "\n",
    "print \"Emitter current is \",IE,\" mA.\\nThe value of collector-to-emitter voltage is \",VCE,\" V.\""
   ]
  },
  {
   "cell_type": "markdown",
   "metadata": {},
   "source": [
    "## Example 22.20 , Page Number 549"
   ]
  },
  {
   "cell_type": "code",
   "execution_count": 4,
   "metadata": {
    "collapsed": false
   },
   "outputs": [
    {
     "name": "stdout",
     "output_type": "stream",
     "text": [
      "The percentage change in collector current is  43.5  %.\n"
     ]
    }
   ],
   "source": [
    "import math\n",
    "\n",
    "#Variables\n",
    "\n",
    "VCC = 12.0                                 #Source voltage (in volts)\n",
    "RE = 100.0                                 #Emitter Resistance (in ohm)\n",
    "RC = 1.0                                   #Collector Resistance (in kilo-ohm)\n",
    "R1 = 25.0                                  #Resistance (in kilo-ohm)\n",
    "R2 = 5.0                                   #Resistance (in kilo-ohm)\n",
    "VBE = 0.7                                  #Emitter-to-Base Voltage (in volts)\n",
    "betamin = 50.0                             #Common emitter current gain (min)\n",
    "betamax = 150.0                            #Common emitter current gain (max)\n",
    "\n",
    "#Calculation\n",
    "\n",
    "Vth = VCC * (R2 /(R1 + R2))                #Thevenin's voltage (in volts)\n",
    "Rth = R1 * R2 / (R1 + R2) * 10**3          #Thevenin's equivalent resistance (in ohm)\n",
    "IE1 = (Vth - VBE)/(RE + Rth/betamin)       #Emitter current (in Ampere)\n",
    "IE2 = (Vth - VBE)/(RE + Rth/betamax)       #Emitter current (in Ampere)\n",
    "perc_change = (IE2 - IE1) / IE1 * 100      #Percentage change in the value of beta  \n",
    "\n",
    "#Result\n",
    "\n",
    "print \"The percentage change in collector current is \",round(perc_change,1),\" %.\""
   ]
  },
  {
   "cell_type": "markdown",
   "metadata": {},
   "source": [
    "## Example 22.21 , Page Number 549"
   ]
  },
  {
   "cell_type": "code",
   "execution_count": 5,
   "metadata": {
    "collapsed": false
   },
   "outputs": [
    {
     "name": "stdout",
     "output_type": "stream",
     "text": [
      "Operating point values are IC =  3.1  mA and VCE =  3.781  V.\n"
     ]
    }
   ],
   "source": [
    "import math\n",
    "\n",
    "#Variables\n",
    "\n",
    "VCC = 9.0                                  #Source voltage (in volts)\n",
    "RE = 680.0                                 #Emitter Resistance (in ohm)\n",
    "RC = 1.0                                   #Collector Resistance (in kilo-ohm)\n",
    "R1 = 33.0                                  #Resistance (in kilo-ohm)\n",
    "R2 = 15.0                                  #Resistance (in kilo-ohm)\n",
    "VBE = 0.7                                  #Emitter-to-Base Voltage (in volts)\n",
    "\n",
    "#Calculation\n",
    "\n",
    "VB = VCC * R2 / (R1 + R2)                  #Base voltage (in volts)\n",
    "VE = VB - VBE                              #Emitter voltage (in volts)\n",
    "IE = VE / RE                               #Emitter current (in Ampere)\n",
    "IC = IE                                    #Collector current (in Ampere)\n",
    "VRC = IC * RC  * 10**3                     #Voltage across collector resistance (in volts)\n",
    "VC = VCC - VRC                             #Collector voltage (in volts)\n",
    "VCE = VC - VE                              #Collector-to-emitter voltage (in volts)\n",
    "\n",
    "#Result\n",
    "\n",
    "print \"Operating point values are IC = \",round(IC * 10**3,1),\" mA and VCE = \",round(VCE,3),\" V.\""
   ]
  },
  {
   "cell_type": "markdown",
   "metadata": {},
   "source": [
    "## Example 22.22 , Page Number 550"
   ]
  },
  {
   "cell_type": "code",
   "execution_count": 6,
   "metadata": {
    "collapsed": false
   },
   "outputs": [
    {
     "name": "stdout",
     "output_type": "stream",
     "text": [
      "The value of R1 is  40.0  kilo-ohm and value of RC is  2200.0  ohm.\n"
     ]
    }
   ],
   "source": [
    "import math\n",
    "\n",
    "#Variables\n",
    "\n",
    "VCC = 5.0                                  #Source voltage (in volts)\n",
    "RE = 0.3                                   #Emitter Resistance (in kilo-ohm)\n",
    "IC = 1.0                                   #Collector Current (in milli-Ampere)\n",
    "beta = 100.0                               #Common emitter current gain\n",
    "VCE = 2.5                                  #Collector-to-Emitter voltage (in volts)\n",
    "VBE = 0.7                                  #Emitter-to-Base Voltage (in volts)\n",
    "ICO = 0                                    #Reverse saturation current (in Ampere) \n",
    "R2 = 10.0                                  #Resistance (in kilo-ohm)\n",
    "\n",
    "\n",
    "#Calculation\n",
    "\n",
    "IE = IC                                    #Emitter current (in milli-Ampere)\n",
    "RC = (VCC - VCE) / IE - RE                 #Collector resistance (in kilo-ohm)\n",
    "VE = IE * RE                               #Emitter voltage (in volts)\n",
    "VB = VE + VBE                              #Base voltage (in volts)\n",
    "R1 = VCC / VB * R2 - R2                    #Resistance1 (in kilo-ohm) \n",
    "\n",
    "#Result\n",
    "\n",
    "print \"The value of R1 is \",R1,\" kilo-ohm and value of RC is \",RC * 10**3,\" ohm.\""
   ]
  },
  {
   "cell_type": "markdown",
   "metadata": {},
   "source": [
    "## Example 22.23 , Page Number 551"
   ]
  },
  {
   "cell_type": "code",
   "execution_count": 7,
   "metadata": {
    "collapsed": false
   },
   "outputs": [
    {
     "name": "stdout",
     "output_type": "stream",
     "text": [
      "Emitter current is  1.86  mA.\n",
      "Value of VCE is  18.14  V.\n",
      "Value of collector potential is  27.44  V.\n"
     ]
    }
   ],
   "source": [
    "import math\n",
    "\n",
    "#Variables\n",
    "\n",
    "VCC = 20.0                                 #Source voltage (in volts)\n",
    "RE = 5.0                                   #Emitter Resistance (in kilo-ohm)\n",
    "RC = 1.0                                   #Collector Resistance (in kilo-ohm)\n",
    "R1 = 10.0                                  #Resistance (in kilo-ohm)\n",
    "R2 = 10.0                                  #Resistance (in kilo-ohm)\n",
    "VBE = 0.7                                  #Emitter-to-Base Voltage (in volts)\n",
    "\n",
    "#Calculation\n",
    "\n",
    "VB = VCC * R2 / (R1 + R2)                  #Voltage (in volts)\n",
    "VE = VB - VBE                              #Emitter voltage (in volts)\n",
    "IE = VE / RE                               #Emitter current (in milli-Ampere)\n",
    "IC = IE                                    #Collector current (in milli-Ampere)\n",
    "VCE = VCC - IC * RC                        #Collector-to-emitter voltage (in volts)    \n",
    "VC = VCE + VE                              #Collector potential (in volts)\n",
    "\n",
    "#Result\n",
    "\n",
    "print \"Emitter current is \",IE,\" mA.\\nValue of VCE is \",VCE,\" V.\\nValue of collector potential is \",VC,\" V.\"\n",
    "\n",
    "#VC is not calculated in the book."
   ]
  },
  {
   "cell_type": "markdown",
   "metadata": {},
   "source": [
    "## Example 22.24 , Page Number 552"
   ]
  },
  {
   "cell_type": "code",
   "execution_count": 8,
   "metadata": {
    "collapsed": false
   },
   "outputs": [
    {
     "name": "stdout",
     "output_type": "stream",
     "text": [
      "Collector-to-Emitter VCE is  7.5  V.\n",
      "Base current is  0.026  mA.\n"
     ]
    }
   ],
   "source": [
    "import math\n",
    "\n",
    "#Variables\n",
    "\n",
    "VCC = 8.0                           #Source voltage (in volts)\n",
    "VRC = 0.5                           #Voltage across collector resistance (in volts)\n",
    "RC = 800.0                          #Collector resistance (in ohm)\n",
    "alpha = 0.96                        #common base current gain\n",
    "\n",
    "#Calculation\n",
    "\n",
    "VCE = VCC - VRC                     #Collector-to-emitter voltage (in volts)  \n",
    "IC = VRC / RC                       #Collector current (in milli-Ampere)\n",
    "IE = IC / alpha                     #Emitter current (in milli-Ampere)\n",
    "IB = IE - IC                        #Base current (in milli-Ampere)\n",
    "\n",
    "#Result\n",
    "\n",
    "print \"Collector-to-Emitter VCE is \",VCE,\" V.\\nBase current is \",round(IB * 10**3,3),\" mA.\""
   ]
  },
  {
   "cell_type": "markdown",
   "metadata": {},
   "source": [
    "## Example 22.27 , Page Number 554"
   ]
  },
  {
   "cell_type": "code",
   "execution_count": 9,
   "metadata": {
    "collapsed": false
   },
   "outputs": [
    {
     "name": "stdout",
     "output_type": "stream",
     "text": [
      "Value of RE is  1.4  kilo-ohm.\n",
      "Value of R1 is  5.2  kilo-ohm.\n",
      "Value of R2 is  7.0  kilo-ohm.\n"
     ]
    }
   ],
   "source": [
    "import math\n",
    "\n",
    "#Variables\n",
    "\n",
    "beta = 50.0                          #Common emitter current gain\n",
    "VBE = 0.7                            #Emitter-to-Base Voltage (in volts)\n",
    "VCC = 22.5                           #Source voltage (in volts)\n",
    "RC = 5.6                             #Collector Resistance (in kilo-ohm)\n",
    "VCE = 12.0                           #Collector-to-emitter voltage (in volts)\n",
    "IC = 1.5                             #Collector current (in milli-Ampere)\n",
    "#Stability factor (S) <= 3.\n",
    "S = 3\n",
    "\n",
    "#Calculation\n",
    "\n",
    "RE = (VCC - VCE)/IC - RC             #Emitter resistance (in kilo-ohm)\n",
    "Rth = (4375 - (1.4 * 10**3))*10**-3  #Thevenin's Equivalent Resistance (in ohm)\n",
    "R2 = 0.1 * beta * RE                 #Resistance (in kilo-ohm)                       \n",
    "R1 = (R2 - Rth)**-1 * R2 *Rth        #Resistance 1 (in kilo-ohm)  \n",
    "\n",
    "#Result\n",
    "\n",
    "print \"Value of RE is \",RE ,\" kilo-ohm.\\nValue of R1 is \",round(R1,1),\" kilo-ohm.\\nValue of R2 is \",R2,\" kilo-ohm.\" "
   ]
  },
  {
   "cell_type": "markdown",
   "metadata": {},
   "source": [
    "## Example 22.28 , Page Number 556"
   ]
  },
  {
   "cell_type": "code",
   "execution_count": 10,
   "metadata": {
    "collapsed": false
   },
   "outputs": [
    {
     "name": "stdout",
     "output_type": "stream",
     "text": [
      "The value of emitter current is  1.86  mA.\n",
      "THe value of collector current is  1.86  mA.\n",
      "The value of collector-to-emitter voltage is  8.84  V.\n"
     ]
    }
   ],
   "source": [
    "import math\n",
    "\n",
    "#Variables\n",
    "\n",
    "VEE = 10.0                           #Emitter Bias Voltage (in volts)\n",
    "VCC = 10.0                           #Source voltage (in volts)\n",
    "RC = 1.0                             #Collector Resistance (in kilo-ohm)\n",
    "RE = 5.0                             #Emitter Resistance (in kilo-ohm)\n",
    "RB = 50.0                            #Base Resistance (in kilo-ohm)   \n",
    "VBE = 0.7                            #Emitter-to-Base Voltage (in volts)\n",
    "\n",
    "#Calculation\n",
    "\n",
    "VE = -VBE                            #Emitter voltage (in volts)\n",
    "IE = (VEE - VBE)/ RE                 #Emitter current (in milli-Ampere)\n",
    "IC = IE                              #Collector current (in milli-Ampere)\n",
    "VC = VCC - IC * RC                   #Collector voltage (in volts)\n",
    "VCE = VC - VE                        #Collector-to-Emitter voltage (in volts)\n",
    "\n",
    "#Result\n",
    "\n",
    "print \"The value of emitter current is \",IE,\" mA.\\nTHe value of collector current is \",IC,\" mA.\\nThe value of collector-to-emitter voltage is \",VCE,\" V.\""
   ]
  },
  {
   "cell_type": "markdown",
   "metadata": {},
   "source": [
    "## Example 22.29 , Page Number 557"
   ]
  },
  {
   "cell_type": "code",
   "execution_count": 12,
   "metadata": {
    "collapsed": false
   },
   "outputs": [
    {
     "name": "stdout",
     "output_type": "stream",
     "text": [
      "The change is collector current is  1.513 %.\n",
      "The change in collector to emitter voltage is  2.16 %.\n"
     ]
    }
   ],
   "source": [
    "import math\n",
    "\n",
    "#Variables\n",
    "\n",
    "VEE = 20.0                           #Emitter Bias Voltage (in volts)\n",
    "VCC = 20.0                           #Source voltage (in volts)\n",
    "RC = 5.0                             #Collector Resistance (in kilo-ohm)\n",
    "RE = 10.0                            #Emitter Resistance (in kilo-ohm)\n",
    "RB = 10.0                            #Base Resistance (in kilo-ohm)   \n",
    "VE = -0.7                            #Emitter Voltage (in volts)\n",
    "betamin = 50.0                       #Common emitter current gain minimum\n",
    "betamax = 100.0                      #Common emitter current gain maximum \n",
    "VE1 = -0.6                           #Emitter Voltage1 (in volts)\n",
    "VBE = 0.7                            #Emitter-to-base voltage (in volts)  \n",
    "VBE1 = 0.6                           #New emitter-to-base voltage (in volts)\n",
    "\n",
    "#Calculation\n",
    "\n",
    "IE = (VEE - VBE)/(RE + RB / betamin) #Emitter current (in milli-Ampere)\n",
    "IC = IE                              #Collector current (in milli-Ampere)\n",
    "VC = VCC - IC * RC                   #Collector voltage (in volts)\n",
    "VCE = VC - VE                        #Collector-to-emitter voltage (in volts)\n",
    "IE1 = (VEE - VBE1)/(RE + RB/betamax) #Emitter current 1 (in milli-Ampere)\n",
    "IC1 = IE1                            #Collector current 1 (in milli-Ampere)\n",
    "VC1 = VCC - IC1 * RC                 #Collector voltage 1 (in volts)\n",
    "VCE1 = VC1 - VE1                     #Collector-to-emitter voltage 1 (in volts)\n",
    "dIC = (IC1 - IC) / IC                #Change in collector current\n",
    "dVCE = (VCE - VCE1) / VCE            #Change in collector to emitter voltage  \n",
    "\n",
    "#Result\n",
    "\n",
    "print \"The change is collector current is \",round(dIC,5)* 100,\"%.\\nThe change in collector to emitter voltage is \",100*round(dVCE,4),\"%.\"\n",
    "\n",
    "#Slight changes due to higher precision."
   ]
  },
  {
   "cell_type": "markdown",
   "metadata": {},
   "source": [
    "## Example 22.30 , Page Number 561"
   ]
  },
  {
   "cell_type": "code",
   "execution_count": 13,
   "metadata": {
    "collapsed": false
   },
   "outputs": [
    {
     "name": "stdout",
     "output_type": "stream",
     "text": [
      "Base voltage is  -2.0  V.\n",
      "Emitter voltage is  -1.8  V.\n",
      "Collector voltage is  -8.4  V.\n",
      "Collector current is  1.8  mA.\n",
      "Emitter current is  1.8  mA.\n",
      "Collector-to-emitter voltage is  -6.6  V.\n"
     ]
    }
   ],
   "source": [
    "import math\n",
    "\n",
    "#Variables\n",
    "\n",
    "VCC = 12.0                                  #Source voltage (in volts)\n",
    "RE = 1.0                                    #Emitter Resistance (in kilo-ohm)\n",
    "RC = 2.0                                    #Collector Resistance (in kilo-ohm)\n",
    "R1 = 100.0                                  #Resistance (in kilo-ohm)\n",
    "R2 = 20.0                                   #Resistance (in kilo-ohm)\n",
    "VBE = -0.2                                  #Emitter-to-Base Voltage (in volts)\n",
    "beta = 100.0                                #Common emitter current gain\n",
    "\n",
    "#Calculation\n",
    "\n",
    "VB = -VCC * R2 / (R1 + R2)                  #Base voltage (in volts)\n",
    "VE = VB - VBE                               #Emitter voltage (in volts)\n",
    "IE = -VE / RE                               #Emitter current (in milli-Ampere) \n",
    "IC = IE                                     #Collector current (in milli-Ampere)\n",
    "VC = -(VCC - IC * RC)                       #Collector voltage (in volts)\n",
    "VCE = VC - VE                               #Collector-to-emitter voltage (in volts) \n",
    "\n",
    "#Result\n",
    "\n",
    "print \"Base voltage is \",VB,\" V.\\nEmitter voltage is \",VE,\" V.\\nCollector voltage is \",VC,\" V.\\nCollector current is \",IC,\" mA.\\nEmitter current is \",IE,\" mA.\\nCollector-to-emitter voltage is \",VCE,\" V.\"\n",
    "\n",
    "#Formula of IE and VB is given wrong in the book."
   ]
  },
  {
   "cell_type": "markdown",
   "metadata": {},
   "source": [
    "## Example 22.31 , Page Number 561"
   ]
  },
  {
   "cell_type": "code",
   "execution_count": 14,
   "metadata": {
    "collapsed": false
   },
   "outputs": [
    {
     "name": "stdout",
     "output_type": "stream",
     "text": [
      "The value of base voltage is  2.0  V.\n",
      "The value of emitter voltage is  1.3  V.\n"
     ]
    }
   ],
   "source": [
    "import math\n",
    "\n",
    "#Variables\n",
    "\n",
    "VCC = 10.0                                   #Source voltage (in volts)\n",
    "RE = 2.0                                     #Emitter Resistance (in kilo-ohm)\n",
    "RC = 10.0                                    #Collector Resistance (in kilo-ohm)\n",
    "R1 = 16.0                                    #Resistance (in kilo-ohm)\n",
    "R2 = 4.0                                     #Resistance (in kilo-ohm)\n",
    "VBE = 0.7                                    #Emitter-to-Base Voltage (in volts)\n",
    "beta = 100.0                                 #Common emitter current gain\n",
    "\n",
    "#Calculation\n",
    "\n",
    "VB = VCC * R2 / (R1 + R2)                    #Base voltage (in volts)\n",
    "VE = VB - VBE                                #Emitter voltage (in volts) \n",
    "\n",
    "#Result\n",
    "\n",
    "print \"The value of base voltage is \",VB,\" V.\\nThe value of emitter voltage is \",VE,\" V.\" "
   ]
  },
  {
   "cell_type": "markdown",
   "metadata": {},
   "source": [
    "## Example 22.32 , Page Number 562"
   ]
  },
  {
   "cell_type": "code",
   "execution_count": 15,
   "metadata": {
    "collapsed": false
   },
   "outputs": [
    {
     "name": "stdout",
     "output_type": "stream",
     "text": [
      "The operating point values are IC =  0.404  mA and VCE =  -3.78  V.\n"
     ]
    }
   ],
   "source": [
    "import math\n",
    "\n",
    "#Variables\n",
    "\n",
    "VCC = 4.5                                    #Source voltage (in volts)\n",
    "RE = 0.27                                    #Emitter Resistance (in kilo-ohm)\n",
    "RC = 1.5                                     #Collector Resistance (in kilo-ohm)\n",
    "R1 = 27.0                                    #Resistance (in kilo-ohm)\n",
    "R2 = 2.7                                     #Resistance (in kilo-ohm)\n",
    "VBE = 0.3                                    #Emitter-to-Base Voltage for germanium (in volts)\n",
    "beta = 44.0                                  #Common emitter current gain \n",
    "\n",
    "#Calculation\n",
    "\n",
    "VB = - VCC * R2 / (R1 + R2)                  #Base voltage (in volts)\n",
    "VE = VB - (-VBE)                             #Emitter voltage (in volts)\n",
    "IE = VE / RE                                 #Emitter current (in milli-Ampere)\n",
    "IC = IE                                      #Collector current (in milli-Ampere)\n",
    "VRC = -IC * RC                               #Voltage across collector resistance (in volts)\n",
    "VC = -(VCC - VRC)                            #Collector voltage (in volts)\n",
    "VCE = -(-VC - (-VE))                         #Collector-to-emitter voltage (in volts)\n",
    "\n",
    "#Result\n",
    "\n",
    "print \"The operating point values are IC = \",round(-IC,3),\" mA and VCE = \",round(VCE,2),\" V.\""
   ]
  }
 ],
 "metadata": {
  "kernelspec": {
   "display_name": "Python 2",
   "language": "python",
   "name": "python2"
  },
  "language_info": {
   "codemirror_mode": {
    "name": "ipython",
    "version": 2
   },
   "file_extension": ".py",
   "mimetype": "text/x-python",
   "name": "python",
   "nbconvert_exporter": "python",
   "pygments_lexer": "ipython2",
   "version": "2.7.10"
  }
 },
 "nbformat": 4,
 "nbformat_minor": 0
}
