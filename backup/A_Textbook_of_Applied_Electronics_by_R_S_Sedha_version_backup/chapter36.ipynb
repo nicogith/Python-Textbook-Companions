{
 "metadata": {
  "name": "",
  "signature": "sha256:18142c4d926311a435ed592a7ec40be6e57bd0d23bda115aad3c84afb60326d1"
 },
 "nbformat": 3,
 "nbformat_minor": 0,
 "worksheets": [
  {
   "cells": [
    {
     "cell_type": "heading",
     "level": 1,
     "metadata": {},
     "source": [
      "Chapter 36 , Basic Op-Amp Applications"
     ]
    },
    {
     "cell_type": "heading",
     "level": 2,
     "metadata": {},
     "source": [
      "Example 36.1 , Page Number 920"
     ]
    },
    {
     "cell_type": "code",
     "collapsed": false,
     "input": [
      "import math\n",
      "\n",
      "#Variables\n",
      "\n",
      "R1 = 1.0 * 10**3                #Resistance (in ohm)\n",
      "R2 = 100.0 * 10**3              #Resistance (in ohm)\n",
      "f1 = 159.0                      #Frequency (in Hertz)\n",
      "\n",
      "#Calculation\n",
      "\n",
      "C = 1.0/(2*math.pi*R2*f1)       #Capacitance (in Farad) \n",
      "\n",
      "#Result\n",
      "\n",
      "print \"Capacitance required in the circuit is \",round(C * 10**6,2),\" micro-Farad.\""
     ],
     "language": "python",
     "metadata": {},
     "outputs": [
      {
       "output_type": "stream",
       "stream": "stdout",
       "text": [
        "Capacitance required in the circuit is  0.01  micro-Farad.\n"
       ]
      }
     ],
     "prompt_number": 1
    },
    {
     "cell_type": "heading",
     "level": 2,
     "metadata": {},
     "source": [
      "Example 36.2 , Page Number 921"
     ]
    },
    {
     "cell_type": "code",
     "collapsed": false,
     "input": [
      "import math\n",
      "\n",
      "#Variables\n",
      "\n",
      "R1 = 1.0 * 10**3                #Resistance (in ohm)\n",
      "Rf = 51.0 * 10**3               #Resistance (in ohm)\n",
      "Cf = 0.01 * 10**-6               #Capacitance (in Farad)\n",
      "\n",
      "#Calculation\n",
      "\n",
      "f = 1.0/(2*math.pi*Rf*Cf)       #Frequency (in Hertz)\n",
      "fmin = 10* f                    #Minimum frequency required (in Hertz)     \n",
      "\n",
      "#Result\n",
      "\n",
      "print \"The cut-off frequency of an integrator circuit is \",round(f),\" Hz.\"\n",
      "print \"Minimum non-linear operating frequency is \",round(fmin),\" Hz.\"\n",
      "\n",
      "#Printing mistake about the value of Cf. It should be 0.01 micro-Farad."
     ],
     "language": "python",
     "metadata": {},
     "outputs": [
      {
       "output_type": "stream",
       "stream": "stdout",
       "text": [
        "The cut-off frequency of an integrator circuit is  312.0  Hz.\n",
        "Minimum non-linear operating frequency is  3121.0  Hz.\n"
       ]
      }
     ],
     "prompt_number": 2
    },
    {
     "cell_type": "heading",
     "level": 2,
     "metadata": {},
     "source": [
      "Example 36.3 , Page Number 922"
     ]
    },
    {
     "cell_type": "code",
     "collapsed": false,
     "input": [
      "import math\n",
      "\n",
      "#Variables\n",
      "\n",
      "R1 = 10.0 * 10**3                     #Resistance (in ohm)\n",
      "C1 = 0.01 * 10**-6                    #Capacitor (in Farad)\n",
      "\n",
      "#Calculation\n",
      "\n",
      "f2 = 1.0/(2*math.pi*R1*C1)            #Frequency (in Hertz)\n",
      "fmax = f2 / 10.0                      #Maximum linear operating freqeuncy (in Hertz)\n",
      "\n",
      "#Result\n",
      "\n",
      "print \"Cut-off frequency is \",round(f2,1),\" Hz.\"\n",
      "print \"Maximum linear operating frequency is \",round(fmax),\" Hz.\"\n",
      "\n",
      "#Printing mistake in book about the value of f2."
     ],
     "language": "python",
     "metadata": {},
     "outputs": [
      {
       "output_type": "stream",
       "stream": "stdout",
       "text": [
        "Cut-off frequency is  1591.5  Hz.\n",
        "Maximum linear operating frequency is  159.0  Hz.\n"
       ]
      }
     ],
     "prompt_number": 3
    },
    {
     "cell_type": "heading",
     "level": 2,
     "metadata": {},
     "source": [
      "Example 36.4 , Page Number 924"
     ]
    },
    {
     "cell_type": "code",
     "collapsed": false,
     "input": [
      "import math\n",
      "\n",
      "#Variables\n",
      "\n",
      "R1 = R2 = 51.0 * 10**3                    #Resistance (in ohm)\n",
      "C1 = C2 = C =  0.001 * 10**-6             #Capacitance (in Farad) \n",
      "\n",
      "#Calculation\n",
      "\n",
      "fo = 1.0/(2*math.pi*R1*C1)                #Resonant frequency (in Hertz)\n",
      "\n",
      "#Result\n",
      "\n",
      "print \"The frequency of oscillations is \",round(fo,1),\" Hz.\""
     ],
     "language": "python",
     "metadata": {},
     "outputs": [
      {
       "output_type": "stream",
       "stream": "stdout",
       "text": [
        "The frequency of oscillations is  3120.7  Hz.\n"
       ]
      }
     ],
     "prompt_number": 4
    }
   ],
   "metadata": {}
  }
 ]
}