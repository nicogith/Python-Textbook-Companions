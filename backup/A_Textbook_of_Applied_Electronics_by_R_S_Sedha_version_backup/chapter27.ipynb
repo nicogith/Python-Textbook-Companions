{
 "metadata": {
  "name": "",
  "signature": "sha256:1ae571c835954c432281fc89697e7aa1664f8d32dc4decfbc5ad9df82b932dae"
 },
 "nbformat": 3,
 "nbformat_minor": 0,
 "worksheets": [
  {
   "cells": [
    {
     "cell_type": "heading",
     "level": 1,
     "metadata": {},
     "source": [
      "Chapter 27 , Power Amplifiers"
     ]
    },
    {
     "cell_type": "heading",
     "level": 2,
     "metadata": {},
     "source": [
      "Example 27.1 , Page Number 689"
     ]
    },
    {
     "cell_type": "code",
     "collapsed": false,
     "input": [
      "#Variables \n",
      "\n",
      "VCC = 10.0                        #Source voltage (in volts)\n",
      "R1 = 10.0                         #Resistance (in kilo-ohm)\n",
      "R2 = 5.0                          #Resistance (in kilo-ohm)\n",
      "RC = 1.0                          #Collector resistance (in kilo-ohm)    \n",
      "RE = 500.0 * 10**-3               #Emitter resistance (in kilo-ohm)  \n",
      "RL = 1.5                          #Load resistance (in kilo-ohm)\n",
      "beta = 100.0                      #Common emitter current gain\n",
      "VBE = 0.7                         #Emitter-to-Base voltage (in volts)\n",
      "\n",
      "#Calculation\n",
      "\n",
      "VR2 = VCC * (R2 /(R1 + R2))       #Voltage drop across R2 (in volts)\n",
      "IEQ = (VR2 - VBE) / RE            #Emitter current (in milli-Ampere)\n",
      "ICQ = IEQ                         #Collector current (in milli-Ampere)\n",
      "VCEQ = VCC - ICQ * (RC + RE)      #Collector-to-Emitter voltage (in volts)\n",
      "rL = RC * RL /(RC + RL)           #a.c. load resistance (in kilo-ohm)\n",
      "ICsat = ICQ + VCEQ / rL           #Collector current at saturation point (in milli-Ampere) \n",
      "VCEsat = 0                        #Voltage at saturation point (in volts)\n",
      "ICcutoff = 0                      #Collector current at cut off point (in milli-Ampere)\n",
      "VCEcutoff = VCEQ + ICQ * rL       #Collector-to-emitter voltage at cut-off point (in volts)\n",
      "\n",
      "#Result\n",
      "\n",
      "print \"Collector current at saturation point is \",round(ICsat,2),\" mA.\\nCollector-to-emitter voltage at saturation point is \",VCEsat,\" V.\"\n",
      "print \"Collector current at cut off point is \",ICcutoff,\" mA.\\nCollector-to-emitter voltage at cut-off point is \",VCEcutoff,\" V.\"\n",
      "\n",
      "#Slight variation due to higher precision.\n",
      "\n",
      "#Graph\n",
      "\n",
      "x = linspace(0,5.27,100)\n",
      "plot(x,8.78 - 8.78/5.27 * x)\n",
      "title(\"a.c. load line\")\n",
      "xlabel(\"Collector-to-emitter voltage VCE (V)\")\n",
      "ylabel(\"Collector current IC (mA)\")\n",
      "annotate(\"Q\",xy=(2.11,5.26))\n",
      "annotate(\"8.78\",xy=(0,8.78))\n",
      "annotate(\"5.27\",xy=(5.27,0))"
     ],
     "language": "python",
     "metadata": {},
     "outputs": [
      {
       "output_type": "stream",
       "stream": "stdout",
       "text": [
        "Collector current at saturation point is  8.77  mA.\n",
        "Collector-to-emitter voltage at saturation point is  0  V.\n",
        "Collector current at cut off point is  0  mA.\n",
        "Collector-to-emitter voltage at cut-off point is  5.26  V.\n"
       ]
      },
      {
       "metadata": {},
       "output_type": "pyout",
       "prompt_number": 1,
       "text": [
        "<matplotlib.text.Annotation at 0x7fdb3a6a3d50>"
       ]
      },
      {
       "metadata": {},
       "output_type": "display_data",
       "png": "[encoded data removed]",
       "text": [
        "<matplotlib.figure.Figure at 0x7fdb3b17a210>"
       ]
      }
     ],
     "prompt_number": 1
    },
    {
     "cell_type": "heading",
     "level": 2,
     "metadata": {},
     "source": [
      "Example 27.2 , Page Number 691"
     ]
    },
    {
     "cell_type": "code",
     "collapsed": false,
     "input": [
      "#Variables \n",
      "\n",
      "VCC = 20.0                        #Source voltage (in volts)\n",
      "R1 = 10.0                         #Resistance (in kilo-ohm)\n",
      "R2 = 1.8                          #Resistance (in kilo-ohm)\n",
      "RC = 620.0 * 10**-3               #Collector resistance (in kilo-ohm)    \n",
      "RE = 200.0 * 10**-3               #Emitter resistance (in kilo-ohm)  \n",
      "RL = 1.2                          #Load resistance (in kilo-ohm)\n",
      "beta = 180.0                      #Common emitter current gain\n",
      "VBE = 0.7                         #Emitter-to-Base voltage (in volts)\n",
      "\n",
      "#Calculation\n",
      "\n",
      "VB = VCC * (R2 /(R1 + R2))        #Voltage drop across R2 (in volts)\n",
      "VE = VB - VBE                     #Voltage at the emitter (in volts)\n",
      "IE = VE / RE                      #Emitter current (in milli-Ampere)\n",
      "IC = IE                           #Collector current (in milli-Ampere)\n",
      "VCE = VCC - IE*(RC + RE)          #Collector-to-emitter voltage (in volts)\n",
      "ICEQ = IC                         #Collector current at Q (in milli-Ampere)\n",
      "VCEQ = VCE                        #Collector-to-emitter voltage at Q (in volts)  \n",
      "rL = RC * RL/(RC + RL)            #a.c. load resistance (in kilo-ohm)  \n",
      "PP = 2 * ICEQ * rL                #Compliance of the amplifier (in volts) \n",
      "\n",
      "#Result\n",
      "\n",
      "print \"Overall compliance (PP) of the amplifier is \",round(PP,2),\" V.\""
     ],
     "language": "python",
     "metadata": {},
     "outputs": [
      {
       "output_type": "stream",
       "stream": "stdout",
       "text": [
        "Overall compliance (PP) of the amplifier is  9.61  V.\n"
       ]
      }
     ],
     "prompt_number": 2
    },
    {
     "cell_type": "heading",
     "level": 2,
     "metadata": {},
     "source": [
      "Example 27.3 , Page Number 694"
     ]
    },
    {
     "cell_type": "code",
     "collapsed": false,
     "input": [
      "#Variables \n",
      "\n",
      "r1e = 8.0                       #a.c. load resistance (in ohm)\n",
      "RC = 220.0                      #Collector resistance (in ohm)\n",
      "RE = 47.0                       #Emitter resistance (in ohm)\n",
      "R1 = 4.7 * 10**3                #Resistance (in ohm)\n",
      "R2 = 470.0                      #Resistance (in ohm)\n",
      "beta = 50.0                     #Common emitter current gain\n",
      "\n",
      "#Calculation\n",
      "\n",
      "rL = RC                         #Load resistance (in ohm)\n",
      "Av = rL / r1e                   #Voltage gain\n",
      "Ai = beta                       #Current gain\n",
      "Ap = Av * Ai                    #Power gain  \n",
      "\n",
      "#Result\n",
      "\n",
      "print \"Voltage gain is \",Av,\" and Power gain is \",Ap,\".\""
     ],
     "language": "python",
     "metadata": {},
     "outputs": [
      {
       "output_type": "stream",
       "stream": "stdout",
       "text": [
        "Voltage gain is  27.5  and Power gain is  1375.0 .\n"
       ]
      }
     ],
     "prompt_number": 3
    },
    {
     "cell_type": "heading",
     "level": 2,
     "metadata": {},
     "source": [
      "Example 27.4 , Page Number 698"
     ]
    },
    {
     "cell_type": "code",
     "collapsed": false,
     "input": [
      "#Variables \n",
      "\n",
      "Ptrdc = 20.0                        #dc Power (in watt)\n",
      "Poac = 5.0                          #ac Power (in watt)     \n",
      "\n",
      "#Calculation\n",
      "\n",
      "ne = Poac / Ptrdc                   #Collector efficiency   \n",
      "P = Ptrdc                           #Power rating of the transistor\n",
      "\n",
      "#Result\n",
      "\n",
      "print \"Collector efficiency is \",ne * 100,\"% .\\nPower rating of the transistor is \",P,\" W.\""
     ],
     "language": "python",
     "metadata": {},
     "outputs": [
      {
       "output_type": "stream",
       "stream": "stdout",
       "text": [
        "Collector efficiency is  25.0 % .\n",
        "Power rating of the transistor is  20.0  W.\n"
       ]
      }
     ],
     "prompt_number": 4
    },
    {
     "cell_type": "heading",
     "level": 2,
     "metadata": {},
     "source": [
      "Example 27.5 , Page Number 699"
     ]
    },
    {
     "cell_type": "code",
     "collapsed": false,
     "input": [
      "#Variables \n",
      "\n",
      "Pcdc = 10.0                   #dc power (in watt)\n",
      "ne = 0.32                     #efficiency\n",
      "\n",
      "#Calculation\n",
      "\n",
      "Poac = ne * Pcdc / (1 - ne)   #a.c. power output (in watt)\n",
      "\n",
      "#Result\n",
      "\n",
      "print \"The a.c. power output is \",round(Poac,1),\" W.\""
     ],
     "language": "python",
     "metadata": {},
     "outputs": [
      {
       "output_type": "stream",
       "stream": "stdout",
       "text": [
        "The a.c. power output is  4.7  W.\n"
       ]
      }
     ],
     "prompt_number": 5
    },
    {
     "cell_type": "heading",
     "level": 2,
     "metadata": {},
     "source": [
      "Example 27.6 , Page Number 699"
     ]
    },
    {
     "cell_type": "code",
     "collapsed": false,
     "input": [
      "#Variables \n",
      "\n",
      "nc = 0.5                       #Efficiency\n",
      "VCC = 24.0                     #Source voltage (in volts)\n",
      "Poac = 3.5                     #a.c. power output (in watt)\n",
      "\n",
      "#Calculation\n",
      "\n",
      "Ptrdc = Poac / nc              #dc power (in watt)\n",
      "Pcdc = Ptrdc - Poac            #Power dissipated as heat (in watt)   \n",
      "\n",
      "#Result\n",
      "\n",
      "print \"Total power within the circuit is \",Ptrdc,\" W.\\nThe power Pcdc = \",Pcdc,\" W is dissipated in the form of heat within the transistor collector region.\""
     ],
     "language": "python",
     "metadata": {},
     "outputs": [
      {
       "output_type": "stream",
       "stream": "stdout",
       "text": [
        "Total power within the circuit is  7.0  W.\n",
        "The power Pcdc =  3.5  W is dissipated in the form of heat within the transistor collector region.\n"
       ]
      }
     ],
     "prompt_number": 6
    },
    {
     "cell_type": "heading",
     "level": 2,
     "metadata": {},
     "source": [
      "Example 27.7 , Page Number 699"
     ]
    },
    {
     "cell_type": "code",
     "collapsed": false,
     "input": [
      "#Variables \n",
      "\n",
      "VCC = 20.0                       #Supply voltage (in volts)\n",
      "VCEQ = 10.0                      #Collector-to-emitter voltage (in volts)\n",
      "ICQ = 600.0 * 10**-3             #Collector current (in Ampere)\n",
      "RL = 16.0                        #Load resistance (in ohm)\n",
      "Ip = 300.0 * 10**-3              #Output current variation (in Ampere)\n",
      "\n",
      "#Calculation\n",
      "\n",
      "Pindc = VCC * ICQ                #dc power supplied (in watt)\n",
      "PRLdc = ICQ**2 * RL              #dc power consumed by load resistor (in watt)  \n",
      "I = Ip / 2**0.5                  #r.m.s. value of Collector current (in Ampere) \n",
      "Poac = I**2 * RL                 #a.c. power across load resistor (in ohm) \n",
      "Ptrdc = Pindc - PRLdc            #dc power delievered to transistor (in watt)\n",
      "Pcdc = Ptrdc - Poac              #dc power wasted in transistor collector (in watt) \n",
      "no = Poac / Pindc                #Overall efficiency\n",
      "nc = Poac / Ptrdc                #Collector efficiency  \n",
      "\n",
      "#Result\n",
      "\n",
      "print \"Power supplied by the d.c. source to the amplifier circuit is \",Pindc,\" W.\"\n",
      "print \"D.C. power consumed by the load resistor is \",PRLdc,\" W.\"\n",
      "print \"A.C. power developed across the load resistor is \",Poac,\" W.\"\n",
      "print \"D.C. power delivered to the transistor is \",Ptrdc,\" W.\"\n",
      "print \"D.C. power wasted in the transistor collector is \",Pcdc,\" W.\"\n",
      "print \"Overall efficiency is \",no,\".\"\n",
      "print \"Collector efficiency is \",round(nc * 100,1),\"% .\""
     ],
     "language": "python",
     "metadata": {},
     "outputs": [
      {
       "output_type": "stream",
       "stream": "stdout",
       "text": [
        "Power supplied by the d.c. source to the amplifier circuit is  12.0  W.\n",
        "D.C. power consumed by the load resistor is  5.76  W.\n",
        "A.C. power developed across the load resistor is  0.72  W.\n",
        "D.C. power delivered to the transistor is  6.24  W.\n",
        "D.C. power wasted in the transistor collector is  5.52  W.\n",
        "Overall efficiency is  0.06 .\n",
        "Collector efficiency is  11.5 % .\n"
       ]
      }
     ],
     "prompt_number": 7
    },
    {
     "cell_type": "heading",
     "level": 2,
     "metadata": {},
     "source": [
      "Example 27.8 , Page Number 702"
     ]
    },
    {
     "cell_type": "code",
     "collapsed": false,
     "input": [
      "#Variables \n",
      "\n",
      "a = 15.0                     #Turns ratio\n",
      "RL = 8.0                     #Load resistance (in ohm)   \n",
      "\n",
      "#Calculation\n",
      "\n",
      "R1L = a**2 * RL              #Effective resistance (in ohm)   \n",
      "\n",
      "#Result\n",
      "\n",
      "print \"The effective resistance is \",R1L * 10**-3,\" kilo-ohm.\""
     ],
     "language": "python",
     "metadata": {},
     "outputs": [
      {
       "output_type": "stream",
       "stream": "stdout",
       "text": [
        "The effective resistance is  1.8  kilo-ohm.\n"
       ]
      }
     ],
     "prompt_number": 8
    },
    {
     "cell_type": "heading",
     "level": 2,
     "metadata": {},
     "source": [
      "Example 27.9 , Page Number 702"
     ]
    },
    {
     "cell_type": "code",
     "collapsed": false,
     "input": [
      "#Variables \n",
      "\n",
      "RL = 16.0                    #Load resistance (in ohm)\n",
      "R1L = 10.0 * 10**3           #Effective resistance (in ohm)\n",
      "\n",
      "#Calculation\n",
      "\n",
      "a = (R1L / RL)**0.5          #Turns ratio\n",
      "\n",
      "#Result\n",
      "\n",
      "print \"Turns ratio is \",a,\": 1.\""
     ],
     "language": "python",
     "metadata": {},
     "outputs": [
      {
       "output_type": "stream",
       "stream": "stdout",
       "text": [
        "Turns ratio is  25.0 : 1.\n"
       ]
      }
     ],
     "prompt_number": 9
    },
    {
     "cell_type": "heading",
     "level": 2,
     "metadata": {},
     "source": [
      "Example 27.10 , Page Number 702"
     ]
    },
    {
     "cell_type": "code",
     "collapsed": false,
     "input": [
      "#Variables \n",
      "\n",
      "RL = 8.0                    #Load resistance (in ohm)\n",
      "a = 10.0                    #Turns ratio\n",
      "ICQ = 500.0 * 10**-3        #Collector current (in Ampere)\n",
      "\n",
      "#Calculation\n",
      "\n",
      "R1L = a**2 * RL             #Effective load (in ohm)\n",
      "Poac = 1.0/2* ICQ**2 * R1L  #Maximum power delieverd (in watt)\n",
      "\n",
      "#Result\n",
      "\n",
      "print \"The maximum power delievered to load is \",Poac,\" W.\""
     ],
     "language": "python",
     "metadata": {},
     "outputs": [
      {
       "output_type": "stream",
       "stream": "stdout",
       "text": [
        "The maximum power delievered to load is  100.0  W.\n"
       ]
      }
     ],
     "prompt_number": 10
    },
    {
     "cell_type": "heading",
     "level": 2,
     "metadata": {},
     "source": [
      "Example 27.11 , Page Number 702"
     ]
    },
    {
     "cell_type": "code",
     "collapsed": false,
     "input": [
      "#Variables \n",
      "\n",
      "Ptrdc = 100.0 * 10**-3           #Maximum collector dissipated power (in watt)\n",
      "VCC = 10.0                       #Source voltage (in volts)\n",
      "RL = 16.0                        #Load resistance (in ohm)\n",
      "no = nc = 0.5                    #Efiiciency\n",
      "\n",
      "#Calculation\n",
      "\n",
      "Poac = no * Ptrdc                #Maximum undistorted a.c. output power (in watt)\n",
      "ICQ = 2 * Poac / VCC             #Quiescent collector current (in Ampere)\n",
      "R1L = VCC / ICQ                  #Effective load resistance (in ohm)\n",
      "a = (R1L / RL)**0.5\n",
      "\n",
      "#Result\n",
      "\n",
      "print \"Maximum undistorted a.c. output power is \",Poac,\" W.\\nQuiescent collector current is \",ICQ,\" A.\\nTransformer turns ratio is \",round(a),\".\""
     ],
     "language": "python",
     "metadata": {},
     "outputs": [
      {
       "output_type": "stream",
       "stream": "stdout",
       "text": [
        "Maximum undistorted a.c. output power is  0.05  W.\n",
        "Quiescent collector current is  0.01  A.\n",
        "Transformer turns ratio is  8.0 .\n"
       ]
      }
     ],
     "prompt_number": 12
    },
    {
     "cell_type": "heading",
     "level": 2,
     "metadata": {},
     "source": [
      "Example 27.12 , Page Number 703"
     ]
    },
    {
     "cell_type": "code",
     "collapsed": false,
     "input": [
      "#Variables \n",
      "\n",
      "VCC = 10.0                   #Source voltage (in volts)\n",
      "Ip = 50.0 * 10**-3           #Collector current (in Ampere)\n",
      "RL = 4.0                     #Load resistance (in ohm)     \n",
      "\n",
      "#Calculation\n",
      "\n",
      "I = round(Ip / 2**0.5,3)     #r.m.s. value of collector current (in Ampere)\n",
      "Poac = I**2 * RL             #Average power delievered (in watt)\n",
      "V1 = VCC                     #Primary voltage (in volts)\n",
      "R1L = V1 / Ip                #Effective load resistance (in ohm)\n",
      "a = round((R1L / RL)**0.5)   #Turns ratio\n",
      "V2 = V1 / a                  #Secondary voltage (in volts)\n",
      "I2p = V2 / RL                #Peak value of secondary current (in Ampere)\n",
      "I2 = I2p / 2**0.5            #r.m.s. value of secondary current (in Ampere)\n",
      "Pavg = I2**2 * RL            #Average power transferred to speaker (in watt) \n",
      "\n",
      "#Result\n",
      "\n",
      "print \"Power transferred when directly connected is \",Poac * 10**3,\" mW.\" \n",
      "print \"The average power transferred to the speaker is \",round(Pavg,2) * 10**3,\" mW.\""
     ],
     "language": "python",
     "metadata": {},
     "outputs": [
      {
       "output_type": "stream",
       "stream": "stdout",
       "text": [
        "Power transferred when directly connected is  4.9  mW.\n",
        "The average power transferred to the speaker is  260.0  mW.\n"
       ]
      }
     ],
     "prompt_number": 13
    },
    {
     "cell_type": "heading",
     "level": 2,
     "metadata": {},
     "source": [
      "Example 27.13 , Page Number 706"
     ]
    },
    {
     "cell_type": "code",
     "collapsed": false,
     "input": [
      "#Variables \n",
      "\n",
      "RL = 1.0 * 10**3                   #Load resistance (in ohm)\n",
      "IC = 10.0 * 10**-3                 #Collector current (in Ampere)\n",
      "\n",
      "#Calculation\n",
      "\n",
      "PL = IC**2 * RL                    #Load power (in watt)\n",
      "\n",
      "#Result\n",
      "\n",
      "print \"Power delivered to the load is \",PL,\" W.\""
     ],
     "language": "python",
     "metadata": {},
     "outputs": [
      {
       "output_type": "stream",
       "stream": "stdout",
       "text": [
        "Power delivered to the load is  0.1  W.\n"
       ]
      }
     ],
     "prompt_number": 14
    },
    {
     "cell_type": "heading",
     "level": 2,
     "metadata": {},
     "source": [
      "Example 27.14 , Page Number 710"
     ]
    },
    {
     "cell_type": "code",
     "collapsed": false,
     "input": [
      "#Variables \n",
      "\n",
      "RL = 8.0                   #Load resistance (in ohm)\n",
      "VP = 16.0                  #Peak output voltage (in volts)\n",
      "\n",
      "#Calculation\n",
      "\n",
      "P = VP**2 / (2 * RL)       #Power drawn from the source (in watt)  \n",
      "\n",
      "#Result\n",
      "\n",
      "print \"The power drawn from the source is \",P,\" W.\""
     ],
     "language": "python",
     "metadata": {},
     "outputs": [
      {
       "output_type": "stream",
       "stream": "stdout",
       "text": [
        "The power drawn from the source is  16.0  W.\n"
       ]
      }
     ],
     "prompt_number": 15
    },
    {
     "cell_type": "heading",
     "level": 2,
     "metadata": {},
     "source": [
      "Example 27.15 , Page Number 710"
     ]
    },
    {
     "cell_type": "code",
     "collapsed": false,
     "input": [
      "#Variables \n",
      "\n",
      "Pcdc = 10.0              #Power rating of amplifier (in watt)\n",
      "n = 0.785                #Maximum overall efficiency           \n",
      "\n",
      "#Calculation\n",
      "\n",
      "PT = 2 * Pcdc            #Total power dissipation of two transistors (in watt)\n",
      "Poac = (PT * n) / (1-n)  #Maximum power output (in watt)\n",
      "\n",
      "#Result\n",
      "\n",
      "print \"Maximum power output is \",round(Poac,2),\" W.\""
     ],
     "language": "python",
     "metadata": {},
     "outputs": [
      {
       "output_type": "stream",
       "stream": "stdout",
       "text": [
        "Maximum power output is  73.02  W.\n"
       ]
      }
     ],
     "prompt_number": 16
    },
    {
     "cell_type": "heading",
     "level": 2,
     "metadata": {},
     "source": [
      "Example 27.16 , Page Number 711"
     ]
    },
    {
     "cell_type": "code",
     "collapsed": false,
     "input": [
      "#Variables \n",
      "\n",
      "no = 0.6                  #efficiency \n",
      "Pcdc = 2.5                #Maximum collector dissipation of each transistor (in watt)\n",
      "\n",
      "#Calculation\n",
      "\n",
      "PT = 2 * Pcdc            #Total power dissipation of two transistors (in watt)\n",
      "Pindc = PT / (1 - no )   #dc input power (in watt)\n",
      "Poac = no * Pindc        #ac output power (in watt)     \n",
      "\n",
      "#Result\n",
      "\n",
      "print \"The d.c. input power is \",Pindc,\" W.\\nThe a.c. output power is \",Poac,\" W.\""
     ],
     "language": "python",
     "metadata": {},
     "outputs": [
      {
       "output_type": "stream",
       "stream": "stdout",
       "text": [
        "The d.c. input power is  12.5  W.\n",
        "The a.c. output power is  7.5  W.\n"
       ]
      }
     ],
     "prompt_number": 17
    }
   ],
   "metadata": {}
  }
 ]
}