{
 "metadata": {
  "name": "",
  "signature": "sha256:69b48b36a61396f28ecb80f184056a30de94e22bf70a39e3b66b811b10039140"
 },
 "nbformat": 3,
 "nbformat_minor": 0,
 "worksheets": [
  {
   "cells": [
    {
     "cell_type": "heading",
     "level": 1,
     "metadata": {},
     "source": [
      "Chapter 6 , A.C. Fundamentals"
     ]
    },
    {
     "cell_type": "heading",
     "level": 2,
     "metadata": {},
     "source": [
      "Example 6.1 , Page Number 94"
     ]
    },
    {
     "cell_type": "code",
     "collapsed": false,
     "input": [
      "import math\n",
      "\n",
      "#Variables\n",
      "\n",
      "t = 1.0          #time (in milliseconds)\n",
      "n = 10.0         #number of cycles\n",
      "\n",
      "#Calculation\n",
      "\n",
      "T = t/n          #Time period (in milliseconds)\n",
      "\n",
      "#Result\n",
      "\n",
      "print \"Time period by one cycle is \",T,\" ms.\""
     ],
     "language": "python",
     "metadata": {},
     "outputs": [
      {
       "output_type": "stream",
       "stream": "stdout",
       "text": [
        "Time period by one cycle is  0.1  ms.\n"
       ]
      }
     ],
     "prompt_number": 1
    },
    {
     "cell_type": "heading",
     "level": 2,
     "metadata": {},
     "source": [
      "Example 6.2 , Page Number 94"
     ]
    },
    {
     "cell_type": "code",
     "collapsed": false,
     "input": [
      "import math\n",
      "\n",
      "#Variables\n",
      "\n",
      "t = 0.01          #Time period of positive half cycle (in seconds)\n",
      "\n",
      "#Calculation\n",
      "\n",
      "t1 = 0.01         #Time period of negative half cycle (in seconds)\n",
      "T = t + t1        #Time period of one complete cycle (in seconds)\n",
      "\n",
      "#Result\n",
      "\n",
      "print \" Time period of rectified input is \",T,\" s.\""
     ],
     "language": "python",
     "metadata": {},
     "outputs": [
      {
       "output_type": "stream",
       "stream": "stdout",
       "text": [
        " Time period of rectified input is  0.02  s.\n"
       ]
      }
     ],
     "prompt_number": 2
    },
    {
     "cell_type": "heading",
     "level": 2,
     "metadata": {},
     "source": [
      "Example 6.3 , Page Number 95"
     ]
    },
    {
     "cell_type": "code",
     "collapsed": false,
     "input": [
      "import math\n",
      "\n",
      "#Variables\n",
      "\n",
      "n = 5.0                  #number of cycles\n",
      "t = 10.0                 #time period (in micro-seconds)\n",
      "\n",
      "#Calculation\n",
      "\n",
      "f = n / t                #frequency (in Mega-hertz)\n",
      "T = 1/f                  #Time period (in micro-seconds)\n",
      "\n",
      "#Result\n",
      "\n",
      "print \"Frequency and Time period of the sine wave is \",f,\" MHz and \",T,\" micro-seconds.\""
     ],
     "language": "python",
     "metadata": {},
     "outputs": [
      {
       "output_type": "stream",
       "stream": "stdout",
       "text": [
        "Frequency and Time period of the sine wave is  0.5  MHz and  2.0  micro-seconds.\n"
       ]
      }
     ],
     "prompt_number": 3
    },
    {
     "cell_type": "heading",
     "level": 2,
     "metadata": {},
     "source": [
      "Example 6.4 , Page Number 95"
     ]
    },
    {
     "cell_type": "code",
     "collapsed": false,
     "input": [
      "import math\n",
      "\n",
      "#Variables\n",
      "\n",
      "f = 69.0                #frequency (in Mega-hertz)\n",
      "\n",
      "#Calculation\n",
      "\n",
      "T = 1/f                 #Time period (in micro-seconds)\n",
      "\n",
      "#Result\n",
      "\n",
      "print \"Time period is \",round(T * 10**3,2), \" ns.\" "
     ],
     "language": "python",
     "metadata": {},
     "outputs": [
      {
       "output_type": "stream",
       "stream": "stdout",
       "text": [
        "Time period is  14.49  ns.\n"
       ]
      }
     ],
     "prompt_number": 4
    },
    {
     "cell_type": "heading",
     "level": 2,
     "metadata": {},
     "source": [
      "Example 6.5 , Page Number 97"
     ]
    },
    {
     "cell_type": "code",
     "collapsed": false,
     "input": [
      "import math\n",
      "\n",
      "#Variables\n",
      "\n",
      "Vmax = 20.0            #Voltage (in milli-volts)\n",
      "\n",
      "#Calculation\n",
      "\n",
      "Vrms = 0.707 * Vmax    #Rms Voltage (in milli-volts)\n",
      "Vdc = 0.637 * Vmax     #Average value of signal (in milli-volts)\n",
      "\n",
      "#Result\n",
      "\n",
      "print \"RMS value is \",Vrms,\" mV.\\nAverage value is \",Vdc,\" mV.\""
     ],
     "language": "python",
     "metadata": {},
     "outputs": [
      {
       "output_type": "stream",
       "stream": "stdout",
       "text": [
        "RMS value is  14.14  mV.\n",
        "Average value is  12.74  mV.\n"
       ]
      }
     ],
     "prompt_number": 5
    }
   ],
   "metadata": {}
  }
 ]
}