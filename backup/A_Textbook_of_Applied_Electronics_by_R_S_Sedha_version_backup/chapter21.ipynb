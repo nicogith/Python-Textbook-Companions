{
 "metadata": {
  "name": "",
  "signature": "sha256:3b66ed66eef7e508a35927ce1de7f26b975c46ddffc75dc40db99bd8964b8a3f"
 },
 "nbformat": 3,
 "nbformat_minor": 0,
 "worksheets": [
  {
   "cells": [
    {
     "cell_type": "heading",
     "level": 1,
     "metadata": {},
     "source": [
      "Chapter 21 , Controlled Rectifiers"
     ]
    },
    {
     "cell_type": "heading",
     "level": 2,
     "metadata": {},
     "source": [
      "Example 21.1 , Page Number 508"
     ]
    },
    {
     "cell_type": "code",
     "collapsed": false,
     "input": [
      "import math\n",
      "\n",
      "#Variables\n",
      "\n",
      "RL = 100.0                                   #Resistance (in ohm)\n",
      "Vm = 300.0                                   #Maximum voltage (in volts) \n",
      "P1 = 25.0                                    #Load power1 (in watt)\n",
      "P2 = 80.0                                    #Load power2 (in watt)\n",
      "\n",
      "#Calculation \n",
      "\n",
      "Vdc = Vm / (2 * math.pi)                     #dc voltage (in volts)\n",
      "#When power is 25 watt\n",
      "cosinealpha = (P1 * RL / Vdc**2)**0.5 -1     #cos of alpha       \n",
      "alpha = math.acos(cosinealpha)               #Value of alpha (in radians)\n",
      "\n",
      "#When power is 80 watt\n",
      "cosinealpha1 = (P2 * RL / Vdc**2)**0.5 -1    #cos of alpha       \n",
      "alpha1 = math.acos(cosinealpha1)             #Value of alpha (in radians)\n",
      "#Result\n",
      "\n",
      "print \"Angular firing control when load power P = 25 W is \",round(alpha * 180.0 / math.pi,2),\" degree.\\nAngular firing control when load power P = 80 W is \",round(alpha1 * 180.0 / math.pi,2),\" degree.\"\n",
      "\n",
      "#Calculation difference in value of cosinealpha from book due to higher precision."
     ],
     "language": "python",
     "metadata": {},
     "outputs": [
      {
       "output_type": "stream",
       "stream": "stdout",
       "text": [
        "Angular firing control when load power P = 25 W is  87.29  degree.\n",
        "Angular firing control when load power P = 80 W is  29.16  degree.\n"
       ]
      }
     ],
     "prompt_number": 1
    },
    {
     "cell_type": "heading",
     "level": 2,
     "metadata": {},
     "source": [
      "Example 21.2 , Page Number 509"
     ]
    },
    {
     "cell_type": "code",
     "collapsed": false,
     "input": [
      "#Variables\n",
      "\n",
      "Vm = 200.0                      #maximum voltage (in volts)\n",
      "RL = 1.0                        #Resistance (in kilo-ohm)\n",
      "\n",
      "#Calculation\n",
      "\n",
      "#When alpha = 0 degree\n",
      "Vdc = 0.318 * Vm                #dc voltage (in volts)\n",
      "Idc = Vdc / RL                  #dc Current (in milli-Ampere)\n",
      "P = Vdc * Idc                   #Power (in milli-watt) \n",
      "\n",
      "#When alpha = 45 degree         \n",
      "Vdc1 = 0.27 * Vm                #dc voltage1 (in volts)\n",
      "Idc1 = Vdc1 / RL                #dc current1 (in milli-Ampere)\n",
      "P1 = Vdc1 * Idc1                #Power1 (in milli-watt)\n",
      "\n",
      "#When alpha = 90 degree\n",
      "Vdc2 = 0.159 * Vm               #dc voltage2 (in volts)\n",
      "Idc2 = Vdc2 / RL                #dc current2 (in milli-Ampere)\n",
      "P2 = Vdc2 * Idc2                #Power2 (in milli-watt)\n",
      "\n",
      "#When alpha = 135 degree\n",
      "Vdc3 = 0.0466 * Vm              #dc voltage3 (in volts)\n",
      "Idc3 = Vdc3 / RL                #dc current3 (in milli-Ampere)\n",
      "P3 = Vdc3 * Idc3                #Power3 (in milli-watt)\n",
      "\n",
      "#Result\n",
      "\n",
      "print \"Power delivered when alpha = 0 degree is \",round(P),\" mW.\\nPower delivered when alpha = 45 degree is \",P1,\" mW.\\nPower delivered when alpha = 90 degree is \",round(P2),\" mW.\\nPower delivered when alpha = 135 degree is \",round(P3,2),\" mW.\" "
     ],
     "language": "python",
     "metadata": {},
     "outputs": [
      {
       "output_type": "stream",
       "stream": "stdout",
       "text": [
        "Power delivered when alpha = 0 degree is  4045.0  mW.\n",
        "Power delivered when alpha = 45 degree is  2916.0  mW.\n",
        "Power delivered when alpha = 90 degree is  1011.0  mW.\n",
        "Power delivered when alpha = 135 degree is  86.86  mW.\n"
       ]
      }
     ],
     "prompt_number": 2
    },
    {
     "cell_type": "heading",
     "level": 2,
     "metadata": {},
     "source": [
      "Example 21.3 , Page Number 513"
     ]
    },
    {
     "cell_type": "code",
     "collapsed": false,
     "input": [
      "import math\n",
      "\n",
      "#Variables\n",
      "\n",
      "Vrms = 220.0                                 #rms voltage (in volts)\n",
      "alpha = 60.0                                 #Firing angle (in degree)     \n",
      "\n",
      "#Calculation\n",
      "\n",
      "alpharad = alpha * math.pi/180.0             #Firing angle (in radians) \n",
      "Vm = 2**0.5 * Vrms                           #Maximum or Peak voltage (in volts)\n",
      "Vdc = Vm /(2 * math.pi)*(1 + cos(alpharad))  #dc output voltage (in volts)                 \n",
      "\n",
      "#Result\n",
      "\n",
      "print \"The d.c. output voltage is \",round(Vdc,2),\" V.\"\n",
      "\n",
      "#Slight variation in answer due to higher precision"
     ],
     "language": "python",
     "metadata": {},
     "outputs": [
      {
       "output_type": "stream",
       "stream": "stdout",
       "text": [
        "The d.c. output voltage is  74.28  V.\n"
       ]
      }
     ],
     "prompt_number": 3
    },
    {
     "cell_type": "heading",
     "level": 2,
     "metadata": {},
     "source": [
      "Example 21.4 , Page Number 513"
     ]
    },
    {
     "cell_type": "code",
     "collapsed": false,
     "input": [
      "import math\n",
      "\n",
      "#Variables\n",
      "\n",
      "Idc = 0.5                                    #dc current (in Ampere)\n",
      "Vrms = 100.0                                 #Rms voltage (in volts)\n",
      "alpha = 45.0                                 #Firing angle (in degree)       \n",
      "Idc = 0.5                                    #dc current (in Ampere)\n",
      "\n",
      "#Calculation\n",
      "\n",
      "alpharad = alpha * math.pi / 180.0           #Firing angle (in radians)\n",
      "Vm = 2**0.5 * Vrms                           #Peak voltage (in volts) \n",
      "Vdc = Vm / (2 * math.pi)*(1 + cos(alpharad)) #Average voltage (in volts)\n",
      "RL = Vdc / Idc                               #Load resistance (in ohm)  \n",
      "\n",
      "#Result\n",
      "\n",
      "print \"The value of resistance to limit the average current to 0.5 A is \",round(RL,2),\" ohm.\"\n",
      "\n",
      "#Slight variation in answer due to higher precision"
     ],
     "language": "python",
     "metadata": {},
     "outputs": [
      {
       "output_type": "stream",
       "stream": "stdout",
       "text": [
        "The value of resistance to limit the average current to 0.5 A is  76.85  ohm.\n"
       ]
      }
     ],
     "prompt_number": 4
    },
    {
     "cell_type": "heading",
     "level": 2,
     "metadata": {},
     "source": [
      "Example 21.5 , Page Number 520"
     ]
    },
    {
     "cell_type": "code",
     "collapsed": false,
     "input": [
      "#Variables\n",
      "\n",
      "TON = 30.0            #Chopper ON time (in milli-second)\n",
      "TOFF = 10.0           #Chopper OFF time (in milli-second)   \n",
      "\n",
      "#Calculation\n",
      "\n",
      "T = TON + TOFF        #Total time (in milli-second)\n",
      "cdc = TON / T         #Chopper duty cycle\n",
      "f = 1 / T             #Chopping frequency (in Hertz)\n",
      "\n",
      "#Result\n",
      "\n",
      "print \"Chopper duty cycle is \",cdc,\".\\nChopping frequency is \",f * 10**3,\" Hz.\"\n",
      "\n",
      "#Correction to be done in book , the units mentioned are milli-Ampere but in the calculation it used micro-Ampere."
     ],
     "language": "python",
     "metadata": {},
     "outputs": [
      {
       "output_type": "stream",
       "stream": "stdout",
       "text": [
        "Chopper duty cycle is  0.75 .\n",
        "Chopping frequency is  25.0  Hz.\n"
       ]
      }
     ],
     "prompt_number": 5
    },
    {
     "cell_type": "heading",
     "level": 2,
     "metadata": {},
     "source": [
      "Example 21.6 , Page Number 520"
     ]
    },
    {
     "cell_type": "code",
     "collapsed": false,
     "input": [
      "#Variables\n",
      "\n",
      "TON = 30.0                 #Chopper ON time (in milli-second)\n",
      "TOFF = 10.0                #Chopper OFF time (in milli-second)   \n",
      "Vdc = 200.0                #dc voltage (in volts)\n",
      "\n",
      "#Calculation\n",
      "\n",
      "T = TON + TOFF             #Total time (in milli-second)\n",
      "cdc = TON / T              #Chopper duty cycle\n",
      "VL = Vdc * cdc             #dc output voltage (in volts)  \n",
      "\n",
      "#Result\n",
      "\n",
      "print \"Average valuye of dc voltage is \",VL,\" V.\""
     ],
     "language": "python",
     "metadata": {},
     "outputs": [
      {
       "output_type": "stream",
       "stream": "stdout",
       "text": [
        "Average valuye of dc voltage is  150.0  V.\n"
       ]
      }
     ],
     "prompt_number": 6
    }
   ],
   "metadata": {}
  }
 ]
}