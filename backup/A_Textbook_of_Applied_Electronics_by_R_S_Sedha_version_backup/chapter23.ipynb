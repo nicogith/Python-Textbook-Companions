{
 "metadata": {
  "name": "",
  "signature": "sha256:20179c904742e2ec972eba4de835d238ef7378c846b076a3bcef14f754934524"
 },
 "nbformat": 3,
 "nbformat_minor": 0,
 "worksheets": [
  {
   "cells": [
    {
     "cell_type": "heading",
     "level": 1,
     "metadata": {},
     "source": [
      "Chapter 23 , Low and High Frequency BJT Models"
     ]
    },
    {
     "cell_type": "heading",
     "level": 2,
     "metadata": {},
     "source": [
      "Example 23.1 , Page Number 580"
     ]
    },
    {
     "cell_type": "code",
     "collapsed": false,
     "input": [
      "#Variables\n",
      "\n",
      "IC = 10.0                           #Collector current (in milli-Ampere)\n",
      "VCE = 10.0                          #Collector-to-emitter voltage (in volts)\n",
      "hie = 500.0                         #Input resistance (in ohm)\n",
      "hoe = 10 **-5                       #Output conductance (in Ampere/volt)\n",
      "hfe = 100.0                         #Common emitter current gain     \n",
      "hre = 10**-4                        #Constant\n",
      "\n",
      "#Calculation\n",
      "\n",
      "gm = IC / 25.0                      #Transconductance (in Siemen) \n",
      "rb1e = hfe / gm                     #Resistance (in ohm)      \n",
      "rbb1 = hie - rb1e                   #Base spreading resistance (in ohm)\n",
      "gb1c = hre / rb1e                   #Feedback conductance (in Siemen)\n",
      "rce = 1 / (hoe - (1 + hfe)* gb1c)   #Output resistance (in ohm)\n",
      "\n",
      "#Result\n",
      "\n",
      "print \"Value of transconductance is \",gm,\" per ohm.\\nValue of resistance rb1e is \",rb1e,\" ohm.\\nValue of base spreading resistance is \",rbb1,\" ohm.\\nValue of feedback conductance is \",gb1c,\" per ohm.\\nValue of output resistance is \",round(abs(rce * 10**-3)),\" kilo-ohm.\" "
     ],
     "language": "python",
     "metadata": {},
     "outputs": [
      {
       "output_type": "stream",
       "stream": "stdout",
       "text": [
        "Value of transconductance is  0.4  per ohm.\n",
        "Value of resistance rb1e is  250.0  ohm.\n",
        "Value of base spreading resistance is  250.0  ohm.\n",
        "Value of feedback conductance is  4e-07  per ohm.\n",
        "Value of output resistance is  33.0  kilo-ohm.\n"
       ]
      }
     ],
     "prompt_number": 2
    }
   ],
   "metadata": {}
  }
 ]
}