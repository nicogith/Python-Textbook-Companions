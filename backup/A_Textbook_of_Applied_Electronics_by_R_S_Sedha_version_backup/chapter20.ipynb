{
 "metadata": {
  "name": "",
  "signature": "sha256:32d462bd2f586fefb22c3642131e5f96f22f80eedec5b0e5c7236c64bdaf5c1f"
 },
 "nbformat": 3,
 "nbformat_minor": 0,
 "worksheets": [
  {
   "cells": [
    {
     "cell_type": "heading",
     "level": 1,
     "metadata": {},
     "source": [
      "Chapter 20 , Regulated Power Supplies"
     ]
    },
    {
     "cell_type": "heading",
     "level": 2,
     "metadata": {},
     "source": [
      "Example 20.1 , Page Number 466"
     ]
    },
    {
     "cell_type": "code",
     "collapsed": false,
     "input": [
      "#Variables\n",
      "\n",
      "dVL = 100.0 * 10**-6                 #Change in output voltage (in volts)\n",
      "dVin = 5.0                           #Change in input voltage (in volts)\n",
      "\n",
      "#Calculation\n",
      "\n",
      "LR = dVL / dVin                      #Line regulation (in volt per volt)\n",
      "\n",
      "#Result\n",
      "\n",
      "print \"The value of line regulation is \",LR * 10**6,\" micro-volt/volt.\""
     ],
     "language": "python",
     "metadata": {},
     "outputs": [
      {
       "output_type": "stream",
       "stream": "stdout",
       "text": [
        "The value of line regulation is  20.0  micro-volt/volt.\n"
       ]
      }
     ],
     "prompt_number": 1
    },
    {
     "cell_type": "heading",
     "level": 2,
     "metadata": {},
     "source": [
      "Example 20.2 , Page Number 466"
     ]
    },
    {
     "cell_type": "code",
     "collapsed": false,
     "input": [
      "#Variables\n",
      "\n",
      "LR = 1.4                       #Line regulation (in micro-volt per volt)               \n",
      "dVS = 10                       #Change in source voltage (in volts)\n",
      "\n",
      "#Calculation\n",
      "\n",
      "dVL = LR * dVS                 #Change in output voltage (in micro-volts)\n",
      "\n",
      "#Result\n",
      "\n",
      "print \"The change in output voltage is \",dVL,\" micro-volt.\""
     ],
     "language": "python",
     "metadata": {},
     "outputs": [
      {
       "output_type": "stream",
       "stream": "stdout",
       "text": [
        "The change in output voltage is  14.0  micro-volt.\n"
       ]
      }
     ],
     "prompt_number": 2
    },
    {
     "cell_type": "heading",
     "level": 2,
     "metadata": {},
     "source": [
      "Example 20.3 , Page Number 466"
     ]
    },
    {
     "cell_type": "code",
     "collapsed": false,
     "input": [
      "#Variables\n",
      "\n",
      "dIL = 40.0                    #Change in current (in milli-Ampere)\n",
      "VNL = 8.0                     #Voltage under no load (in volts)\n",
      "VFL = 7.995                   #Voltage under full load (in volts)\n",
      "\n",
      "#Calculation\n",
      "\n",
      "LR = (VNL - VFL)/ dIL         #Line regulation (in milli-volt per milli-Ampere)   \n",
      "\n",
      "#Result\n",
      "\n",
      "print \"Line regulation is \",LR * 10**3,\"mV/mA.\""
     ],
     "language": "python",
     "metadata": {},
     "outputs": [
      {
       "output_type": "stream",
       "stream": "stdout",
       "text": [
        "Line regulation is  0.125 mV/mA.\n"
       ]
      }
     ],
     "prompt_number": 3
    },
    {
     "cell_type": "heading",
     "level": 2,
     "metadata": {},
     "source": [
      "Example 20.4 , Page Number 467"
     ]
    },
    {
     "cell_type": "code",
     "collapsed": false,
     "input": [
      "#Variables\n",
      "\n",
      "LR = 10.0                              #Load regulation (in micro-volt per milli-Ampere)\n",
      "VNL = 5.0                              #No load Voltage (in volts)\n",
      "dIL = 20.0                             #Change in current (in milli-Ampere)\n",
      "\n",
      "#Calculation\n",
      "\n",
      "VFL = VNL - LR * dIL * 10**-6          #Full load Voltage (in volts) \n",
      "\n",
      "#Result\n",
      "\n",
      "print \"Full load Voltage is \",VFL,\" V.\""
     ],
     "language": "python",
     "metadata": {},
     "outputs": [
      {
       "output_type": "stream",
       "stream": "stdout",
       "text": [
        "Full load Voltage is  4.9998  V.\n"
       ]
      }
     ],
     "prompt_number": 4
    },
    {
     "cell_type": "heading",
     "level": 2,
     "metadata": {},
     "source": [
      "Example 20.5 , Page Number 467"
     ]
    },
    {
     "cell_type": "code",
     "collapsed": false,
     "input": [
      "#Variables\n",
      "\n",
      "V0 = 10                      #Regulated dc supply (in volts)\n",
      "LR = 0.00002                 #Line regulation \n",
      "\n",
      "#Calculation\n",
      "\n",
      "dV = LR * V0                 #Change in output voltage (in volts)\n",
      "\n",
      "#Result\n",
      "\n",
      "print \"Change in output voltage is \",dV * 10**3,\" mV.\""
     ],
     "language": "python",
     "metadata": {},
     "outputs": [
      {
       "output_type": "stream",
       "stream": "stdout",
       "text": [
        "Change in output voltage is  0.2  mV.\n"
       ]
      }
     ],
     "prompt_number": 5
    },
    {
     "cell_type": "heading",
     "level": 2,
     "metadata": {},
     "source": [
      "Example 20.6 , Page Number 468"
     ]
    },
    {
     "cell_type": "code",
     "collapsed": false,
     "input": [
      "#Variables\n",
      "\n",
      "VS = 30.0                   #Source voltage (in volts)\n",
      "RS = 240.0                  #Series resistance (in ohm)\n",
      "Vz = 12.0                   #Zener voltage (in volts)\n",
      "RL = 500.0                  #Load resistance (in ohm)\n",
      "\n",
      "#Calculation\n",
      "\n",
      "VL = Vz                     #Voltage drop across load (in volts)\n",
      "IS = (VS - Vz) / RS         #Current through RS (in Ampere)\n",
      "VRS = IS * RS               #Voltage drop across series resistance (in volts)\n",
      "IL = VL / RL                #Load current (in Ampere)\n",
      "IZ = IS - IL                #Zener current (in Ampere)\n",
      "\n",
      "#Result\n",
      "\n",
      "print \"Load voltage is \",VL,\" V.\\nVoltage drop across series resistance is \",VRS,\" V.\\nCurrent through Zener diode is \",IZ,\" A.\""
     ],
     "language": "python",
     "metadata": {},
     "outputs": [
      {
       "output_type": "stream",
       "stream": "stdout",
       "text": [
        "Load voltage is  12.0  V.\n",
        "Voltage drop across series resistance is  18.0  V.\n",
        "Current through Zener diode is  0.051  A.\n"
       ]
      }
     ],
     "prompt_number": 6
    },
    {
     "cell_type": "heading",
     "level": 2,
     "metadata": {},
     "source": [
      "Example 20.7 , Page Number 470"
     ]
    },
    {
     "cell_type": "code",
     "collapsed": false,
     "input": [
      "#Variables\n",
      "\n",
      "VZ = 5.1                      #Voltage across zener diode (in volts)\n",
      "rZ = 10                       #Zener diode resistance (in ohm)\n",
      "IZmin = 1 * 10**-3            #Minimum zener diode current (in Ampere)\n",
      "IZmax = 15 * 10**-3           #Maximum zener diode current (in Ampere)\n",
      "RS = 600                      #Serier resistance (in ohm)\n",
      "\n",
      "#Calculation\n",
      "\n",
      "VOmin = VZ + IZmin * rZ       #Minimum value of output voltage (in volts)\n",
      "VSmin = IZmin * RS + VOmin    #Minimum value of input voltage (in volts)\n",
      "VOmax = VZ + IZmax * rZ       #Maximum value of output voltage (in volts)\n",
      "VSmax = IZmax * RS + VOmax    #Maximum value of input voltage (in volts)\n",
      "\n",
      "#Result\n",
      "\n",
      "print \"Minimum value of input voltage is \",VSmin,\" V.\\nMaximum value of input voltage is \",VSmax,\" V.\" "
     ],
     "language": "python",
     "metadata": {},
     "outputs": [
      {
       "output_type": "stream",
       "stream": "stdout",
       "text": [
        "Minimum value of input voltage is  5.71  V.\n",
        "Maximum value of input voltage is  14.25  V.\n"
       ]
      }
     ],
     "prompt_number": 7
    },
    {
     "cell_type": "heading",
     "level": 2,
     "metadata": {},
     "source": [
      "Example 20.8 , Page Number 470"
     ]
    },
    {
     "cell_type": "code",
     "collapsed": false,
     "input": [
      "#Variables\n",
      "\n",
      "VS = 24.0                        #Source voltage (in volts)\n",
      "RS = 500.0                       #Series resistance (in ohm)\n",
      "VZ = 12.0                        #Zener Voltage (in volts)\n",
      "IZmin = 3.0                      #Minimum Zener current (in milli-Ampere)\n",
      "IZmax = 90.0                     #Maximum Zener current (in milli-Ampere)\n",
      "rZ = 0.0                         #Zener resistance (in ohm)\n",
      "\n",
      "#Calculation\n",
      "\n",
      "IS = (VS - VZ) / RS              #Current through RS (in Ampere)\n",
      "ILmax = IS - IZmin * 10**-3      #Maximum value of load Current (in Ampere) \n",
      "RLmin = VZ / ILmax               #Minimum value of Load resistance (in ohm) \n",
      "\n",
      "#Result\n",
      "\n",
      "print \"Minimum value of load resistance is \",round(RLmin),\" ohm.\""
     ],
     "language": "python",
     "metadata": {},
     "outputs": [
      {
       "output_type": "stream",
       "stream": "stdout",
       "text": [
        "Minimum value of load resistance is  571.0  ohm.\n"
       ]
      }
     ],
     "prompt_number": 8
    },
    {
     "cell_type": "heading",
     "level": 2,
     "metadata": {},
     "source": [
      "Example 20.9 , Page Number 471"
     ]
    },
    {
     "cell_type": "code",
     "collapsed": false,
     "input": [
      "#Variables\n",
      "\n",
      "VZ = 10.0                                   #Zener voltage (in volts)\n",
      "RS = 1.0                                    #Series Resistance (in kilo-ohm)   \n",
      "RL = 2.0                                    #Load Resistance (in kilo-ohm)\n",
      "VSmin = 22.0                                #Minimum source voltage (in volts) \n",
      "VSmax = 40                                  #Maximum source voltage (in volts) \n",
      "\n",
      "#Calculation\n",
      "\n",
      "IL = VZ / RL                                #Load current (in milli-Ampere)\n",
      "IZmax = (VSmax - VZ) / RS - IL              #Maximum value of zener current (in milli-Ampere)\n",
      "IZmin = (VSmin - VZ) / RS - IL              #Minimum value of zener current (in milli-Ampere)\n",
      "\n",
      "#Result\n",
      "\n",
      "print \"Maximum value of zener current is \",IZmax,\" mA.\\nMinimum value of zener current is \",IZmin,\" mA.\""
     ],
     "language": "python",
     "metadata": {},
     "outputs": [
      {
       "output_type": "stream",
       "stream": "stdout",
       "text": [
        "Maximum value of zener current is  25.0  mA.\n",
        "Minimum value of zener current is  7.0  mA.\n"
       ]
      }
     ],
     "prompt_number": 9
    },
    {
     "cell_type": "heading",
     "level": 2,
     "metadata": {},
     "source": [
      "Example 20.10 , Page Number 472"
     ]
    },
    {
     "cell_type": "code",
     "collapsed": false,
     "input": [
      "#Variables\n",
      "\n",
      "VZ = 10.0                                #Zener voltage (in volts)\n",
      "VSmin = 13.0                             #Minimum source voltage (in volts)\n",
      "VSmax = 16.0                             #Maximum source voltage (in volts)\n",
      "ILmin = 10.0                             #Minimum load current (in milli-Ampere)\n",
      "ILmax = 85.0                             #Maximum load current (in milli-Ampere)\n",
      "IZmin = 15.0                             #Minimum zener current (in milli-Ampere)\n",
      "\n",
      "#Calculation\n",
      "\n",
      "RSmax = (VSmin - VZ)/ (IZmin + ILmax)    #Maximum value of RS (in kilo-ohm)\n",
      "IZmax = (VSmax - VZ)/ RSmax - ILmin      #Maximum zener current (in milli-Ampere)\n",
      "PZmax = IZmax * 10**-3 * VZ              #Maximum power dissipation in zener (in watt)\n",
      "\n",
      "#Result\n",
      "\n",
      "print \"Maximum value of RS is \",RSmax * 10**3,\" ohm.\\nMaximum power dissipation be the zener diode is \",PZmax,\" W.\""
     ],
     "language": "python",
     "metadata": {},
     "outputs": [
      {
       "output_type": "stream",
       "stream": "stdout",
       "text": [
        "Maximum value of RS is  30.0  ohm.\n",
        "Maximum power dissipation be the zener diode is  1.9  W.\n"
       ]
      }
     ],
     "prompt_number": 10
    },
    {
     "cell_type": "heading",
     "level": 2,
     "metadata": {},
     "source": [
      "Example 20.11 , Page Number 473"
     ]
    },
    {
     "cell_type": "code",
     "collapsed": false,
     "input": [
      "#Variables\n",
      "\n",
      "VSmin = 19.5                            #Minimum source voltage (in volts)\n",
      "VSmax = 22.5                            #Maximum source voltage (in volts)\n",
      "RL = 6.0 * 10**3                        #Load resistance (in ohm)\n",
      "VZ = 18.0                               #Zener voltage (in volts)\n",
      "IZmin = 2.0 * 10**-6                    #Minimum zener current (in Ampere)\n",
      "PZmax = 60.0 * 10**-3                   #Maximum power dissipation (in watt)\n",
      "rZ = 20.0                               #Zener resistance (in ohm)\n",
      "VL = VZ                                 #Voltage across load resistance (in volt)\n",
      "\n",
      "#Calculation\n",
      "\n",
      "IZmax = (PZmax / rZ)**0.5                #Maximum value of zener current (in milli-Ampere)\n",
      "IL = VL / RL                             #Load current (in milli-Ampere)\n",
      "RSmax = (VSmin - VZ) / (IZmin + IL)      #Maximum value of regulating resistance (in kilo-ohm)  \n",
      "RSmin = (VSmax - VZ) / (IZmax + IL)      #Minimum value of regulating resistance (in kilo-ohm) \n",
      "\n",
      "#Result\n",
      "\n",
      "print \"Magnitude of regulating resistance should be between \",round(RSmin,1),\" ohm and \",round(RSmax),\" ohm.\""
     ],
     "language": "python",
     "metadata": {},
     "outputs": [
      {
       "output_type": "stream",
       "stream": "stdout",
       "text": [
        "Magnitude of regulating resistance should be between  77.9  ohm and  500.0  ohm.\n"
       ]
      }
     ],
     "prompt_number": 11
    },
    {
     "cell_type": "heading",
     "level": 2,
     "metadata": {},
     "source": [
      "Example 20.12 , Page Number 473"
     ]
    },
    {
     "cell_type": "code",
     "collapsed": false,
     "input": [
      "#Variables\n",
      "\n",
      "VSmin = 8.0                    #Minimum source voltage (in volts)\n",
      "VSmax = 12                     #Maximum source voltage (in volts)\n",
      "RS = 2.2                       #Resistance (in kilo-ohm)\n",
      "VZ = 5.0                       #Zener voltage (in volts)\n",
      "RL = 10.0                      #Load resistance (in kilo-ohm)\n",
      "VL = VZ                        #Voltage across load (in volts)\n",
      "\n",
      "#Calculation\n",
      "\n",
      "ISmin = (VSmin - VZ)/ RS       #Minimum value of input current (in milli-Ampere)\n",
      "ISmax = (VSmax - VZ)/RS        #Maximum value of input current (in milli-Ampere)    \n",
      "IL = VL / RL                   #Load current (in milli-Ampere)\n",
      "IZmin = ISmin - IL             #Minimum Zener current (in milli-Ampere)\n",
      "IZmax = ISmax - IL             #Maximum Zener current (in milli-Ampere)   \n",
      "\n",
      "#Result\n",
      "\n",
      "print \"Minimum value of Zener current is \",round(IZmin,3),\" mA.\\nMaximum value of Zener current is \",round(IZmax,3),\" mA.\""
     ],
     "language": "python",
     "metadata": {},
     "outputs": [
      {
       "output_type": "stream",
       "stream": "stdout",
       "text": [
        "Minimum value of Zener current is  0.864  mA.\n",
        "Maximum value of Zener current is  2.682  mA.\n"
       ]
      }
     ],
     "prompt_number": 12
    },
    {
     "cell_type": "heading",
     "level": 2,
     "metadata": {},
     "source": [
      "Example 20.13 , Page Number 474"
     ]
    },
    {
     "cell_type": "code",
     "collapsed": false,
     "input": [
      "#Variables\n",
      "\n",
      "VO = VL = 5.0                     #Output voltage (in volts)\n",
      "IL = 20.0                         #Load current (in milli-Ampere)\n",
      "PZmax = 500.0                     #Maximum power dissipation in zener (in milli-watt)\n",
      "VSmin = 9.0                       #Minimum source voltage (in volts)\n",
      "VSmax = 15.0                      #Maximum source voltage (in volts)\n",
      "\n",
      "#Calculation\n",
      "\n",
      "IZmax = PZmax / VZ                #Maximum zener current (in milli-Ampere)\n",
      "ISmax = IL + IZ                   #Maximum input current (in milli-Ampere)\n",
      "RSmin = (VSmax - VZ)/(IZmax + IL) #Minimum value of regulating resistance (in kilo-ohm)\n",
      "IZ = (VSmin - VZ)/ RSmin - IL     #Minimum value of zener current           \n",
      "\n",
      "#Result\n",
      "\n",
      "print \"Input varies from the normal 12 v within the range of +- 3 V.\"\n",
      "print \"Zener current vary from \",IZ,\" mA to \",IZmax,\" mA.\"\n",
      "print \"For safety purpose RS should be 220 ohm.\""
     ],
     "language": "python",
     "metadata": {},
     "outputs": [
      {
       "output_type": "stream",
       "stream": "stdout",
       "text": [
        "Input varies from the normal 12 v within the range of +- 3 V.\n",
        "Zener current vary from  28.0  mA to  100.0  mA.\n",
        "For safety purpose RS should be 220 ohm.\n"
       ]
      }
     ],
     "prompt_number": 13
    },
    {
     "cell_type": "heading",
     "level": 2,
     "metadata": {},
     "source": [
      "Example 20.14 , Page Number 475"
     ]
    },
    {
     "cell_type": "code",
     "collapsed": false,
     "input": [
      "#Variables\n",
      "\n",
      "RS = 500.0                                    #Series resistance (in ohm)\n",
      "RL = 1.0                                      #Load resistance (in kilo-ohm) \n",
      "VZ = 10.0                                     #Zener voltage (in volts)\n",
      "IZmin = 5.0                                   #Minimum Zener current (in milli-Ampere)\n",
      "IZmax = 55.0                                  #Maximum Zener current (in milli-Ampere)   \n",
      "\n",
      "#Calculation\n",
      "\n",
      "IL = VZ / RL                                  #Load current (in milli-Ampere) \n",
      "VSmin = (IL + IZmin) * RS * 10**-3 + VZ       #Minimum value of input voltage (in volts)\n",
      "VSmax = (IL + IZmax) * RS * 10**-3 + VZ       #Maximum value of input voltage (in volts)\n",
      "\n",
      "#Result\n",
      "\n",
      "print \"The minimum value of voltage level at input is \",VSmin,\" V and the maximum is \",VSmax,\" V.\""
     ],
     "language": "python",
     "metadata": {},
     "outputs": [
      {
       "output_type": "stream",
       "stream": "stdout",
       "text": [
        "The minimum value of voltage level at input is  17.5  V and the maximum is  42.5  V.\n"
       ]
      }
     ],
     "prompt_number": 14
    },
    {
     "cell_type": "heading",
     "level": 2,
     "metadata": {},
     "source": [
      "Example 20.15 , Page Number 476"
     ]
    },
    {
     "cell_type": "code",
     "collapsed": false,
     "input": [
      "#Variables\n",
      "\n",
      "VS = 15.0                   #Input voltage (in volts)\n",
      "RS = 33.0                   #Series resistance (in ohm)\n",
      "beta = 100.0                #common-emitter current gain \n",
      "RL = 100.0                  #Load resistance (in ohm)\n",
      "VZ = 10.0                   #Voltage across zener diode (in volts) \n",
      "VBE = 0.7                   #Voltage across base and emitter\n",
      "\n",
      "#Calculation\n",
      "\n",
      "VL = VZ + VBE               #Load voltage (in volts)\n",
      "IL = VL / RL                #Load current (in Ampere)\n",
      "IS = (VS - VL) / RS         #Current through RS (in Ampere)\n",
      "IC = IS - IL                #Collector current (in Ampere)\n",
      "IB = IZ = IC/beta           #Base current (in Ampere)\n",
      "\n",
      "#Result\n",
      "\n",
      "print \"Load voltage is \",VL,\" V.\"\n",
      "print \"Load current is \",IL * 10**3,\" mA.\"\n",
      "print \"Current  through Rs is \",round(IS * 10**3,1),\" mA.\"\n",
      "print \"Collector current is \",round(IC* 10**3,1),\" mA.\"\n",
      "print \"Base current is \",round(IB * 10**6),\" micro-A.\" "
     ],
     "language": "python",
     "metadata": {},
     "outputs": [
      {
       "output_type": "stream",
       "stream": "stdout",
       "text": [
        "Load voltage is  10.7  V.\n",
        "Load current is  107.0  mA.\n",
        "Current  through Rs is  130.3  mA.\n",
        "Collector current is  23.3  mA.\n",
        "Base current is  233.0  micro-A.\n"
       ]
      }
     ],
     "prompt_number": 15
    },
    {
     "cell_type": "heading",
     "level": 2,
     "metadata": {},
     "source": [
      "Example 20.16 , Page Number 478"
     ]
    },
    {
     "cell_type": "code",
     "collapsed": false,
     "input": [
      "#Variables\n",
      "\n",
      "VS = 15.0                      #Input voltage (in volts)\n",
      "VZ = 8.3                       #Zener voltage (in volts)\n",
      "beta = 100.0                   #Common-emitter current gain\n",
      "R = 1.8                        #Resistance (in kilo-ohm)\n",
      "RL = 2.0                       #Resistance (in kilo-ohm)\n",
      "VBE = 0.7                      #Voltage across base-emitter junction (in volts)  \n",
      "\n",
      "#Calculation\n",
      "\n",
      "VL = VZ - VBE                  #Voltage across load (in volts)\n",
      "VCE = VS - VL                  #Collector to emitter voltage (in volts)\n",
      "IR = (VS - VZ)/ R              #Current through R (in milli-Ampere)\n",
      "IL = VL / RL                   #Load current (in milli-Ampere)\n",
      "IB = IL / beta                 #Base current (in milli-Ampere)    \n",
      "IZ = IR - IB                   #Current through Zener (in milli-Ampere)\n",
      "\n",
      "#Result\n",
      "\n",
      "print \"Load voltage is \",VL,\" V.\"\n",
      "print \"Collector to Emitter voltage is \",VCE,\" V.\"\n",
      "print \"Current through R is \",round(IR,2),\" mA.\"\n",
      "print \"Load current is \",IL,\" mA.\"\n",
      "print \"Base current is \",IB * 10**3,\" micro-A.\"\n",
      "print \"Current through Zener is \",round(IZ,2),\" mA.\"\n",
      "\n",
      "#Calculation error in book in the value of beta and in IB and IZ."
     ],
     "language": "python",
     "metadata": {},
     "outputs": [
      {
       "output_type": "stream",
       "stream": "stdout",
       "text": [
        "Load voltage is  7.6  V.\n",
        "Collector to Emitter voltage is  7.4  V.\n",
        "Current through R is  3.72  mA.\n",
        "Load current is  3.8  mA.\n",
        "Base current is  38.0  micro-A.\n",
        "Current through Zener is  3.68  mA.\n"
       ]
      }
     ],
     "prompt_number": 16
    },
    {
     "cell_type": "heading",
     "level": 2,
     "metadata": {},
     "source": [
      "Example 20.17 , Page Number 479"
     ]
    },
    {
     "cell_type": "code",
     "collapsed": false,
     "input": [
      "#Variables\n",
      "\n",
      "IZmin = 0                     #Minimun Zener current (in Ampere)\n",
      "ILmax = 2.0                   #Maximum load current (in Ampere)\n",
      "VL = 12.0                     #Voltage across load (in volts)\n",
      "VSmin = 15.0                  #Minimum Input voltage (in volts)\n",
      "VSmax = 20.0                  #Maximum Input Voltage (in volts)\n",
      "beta = 100                    #common emitter current gain\n",
      "VBE = 0.5                     #Voltage between base-emitter junction (in volts)\n",
      "VZ = 12.5                     #Voltage across zener diode (in volts)\n",
      "IZmin = 1.0 * 10**-3          #Current through Zener diode   \n",
      "ICmax = ILmax                 #Maximum Collector current (in Ampere) \n",
      "\n",
      "#Calculation\n",
      "\n",
      "IBmax = ICmax / beta          #Maximum collector current\n",
      "IR = IBmax + IZmin            #Current through resistance R (in Ampere)\n",
      "Rmax = (VSmin - VZ)/ IR       #Maximum value of resistance R (in ohm)\n",
      "IZmax = (VSmax - VZ)/ Rmax    #Maximum value of Zener current (in Ampere)\n",
      "PZmax = VZ * IZmax            #Maximum power dissipation in Zener Diode (in watt)\n",
      "PRmax = (VSmax - VZ) * IZmax  #Maximum power dissipated in Resistance R (in watt)\n",
      "VCEmax = VSmax - VL           #Maximum value of collector-to-emitter voltage (in volts)      \n",
      "PDmax = VCEmax * ILmax        #Maximum power dissipation of the transistor (in watt)\n",
      "\n",
      "#Result\n",
      "\n",
      "print \"Maximum value of R is \",round(Rmax),\" ohm.\\nMaximum power dissipation of the zener diode is \",round(PZmax,2),\" W.\\nMaximum power dissipation of resistance R is \",round(PRmax,2),\" W.\\nMaximum power dissipation of the transistor is \",PDmax,\" W.\"\n",
      "\n",
      "#Correction to be done in the formula used for IZmax in the book.Correct approach is used in the solved example here. "
     ],
     "language": "python",
     "metadata": {},
     "outputs": [
      {
       "output_type": "stream",
       "stream": "stdout",
       "text": [
        "Maximum value of R is  119.0  ohm.\n",
        "Maximum power dissipation of the zener diode is  0.79  W.\n",
        "Maximum power dissipation of resistance R is  0.47  W.\n",
        "Maximum power dissipation of the transistor is  16.0  W.\n"
       ]
      }
     ],
     "prompt_number": 17
    },
    {
     "cell_type": "heading",
     "level": 2,
     "metadata": {},
     "source": [
      "Example 20.18 , Page Number 481"
     ]
    },
    {
     "cell_type": "code",
     "collapsed": false,
     "input": [
      "#Variables\n",
      "\n",
      "VL = 12.0                      #Voltage across load (in volts)\n",
      "IL = 200.0                     #Load current (in milli-Ampere)\n",
      "VS = 30.0                      #Source voltage (in volts)\n",
      "RS = 10.0                      #Series resistance (in ohm)\n",
      "beta1 = hfe1 = 150.0           #common-emitter current gain 1\n",
      "beta2 = hfe2 = 100.0           #common-emitter current gain 2\n",
      "IC1 = 10.0                     #Collector current (in milli-Ampere)\n",
      "VBE1 = 0.7                     #Emitter-to-Base voltage1 (in volts)\n",
      "VBE2 = 0.7                     #Emitter-to-Base voltage2 (in volts)\n",
      "VZ = VR = 6.0                  #Voltage across zener diode (in volts)\n",
      "RZ = 10.0                      #Resistance of zener diode (in ohm)\n",
      "IZ = 20.0                      #Current through zener diode (in milli-Ampere)\n",
      "ID = 10.0 * 10**-3             #Current (in Ampere) \n",
      "I1 = 10.0 * 10**-3             #Current (in Ampere)   \n",
      "\n",
      "#Calculation\n",
      "\n",
      "RD = (VL - VZ) / ID            #Resistance (in ohm)\n",
      "V2 = VZ + VBE2                 #Voltage (in volts)\n",
      "R1 = (VL - V2)/I1              #Value of resistance R1 (in ohm)\n",
      "R2 = R1 * (V2 / (VL - V2))     #Value of resistance R2 (in ohm)\n",
      "IB1 = (IL + I1 + ID) / beta1   #Base Current IB1 (in Ampere)\n",
      "I = IB1 + IC1                  #Current through resistance R3 (in Ampere)\n",
      "R3 = (VS - (VBE1 + VL))/I      #Value of resistance (in ohm)  \n",
      "\n",
      "#Result\n",
      "\n",
      "print \"Value of Resistance RD is \",RD,\" ohm.\\nValue of Resistance R1 and R2 is \",R1,\" ohm and \",R2,\" ohm.\"\n",
      "print \"Value of Resistance R3 is \",round(R3,1),\" kilo-ohm.\"\n",
      "\n",
      "#Error in the formula used for R1 in book. Correct formula is used here."
     ],
     "language": "python",
     "metadata": {},
     "outputs": [
      {
       "output_type": "stream",
       "stream": "stdout",
       "text": [
        "Value of Resistance RD is  600.0  ohm.\n",
        "Value of Resistance R1 and R2 is  530.0  ohm and  670.0  ohm.\n",
        "Value of Resistance R3 is  1.5  kilo-ohm.\n"
       ]
      }
     ],
     "prompt_number": 18
    },
    {
     "cell_type": "heading",
     "level": 2,
     "metadata": {},
     "source": [
      "Example 20.19 , Page Number 484"
     ]
    },
    {
     "cell_type": "code",
     "collapsed": false,
     "input": [
      "#Variables\n",
      "\n",
      "VS = 25.0                  #Source voltage (in volts)\n",
      "VZ = 15.0                  #Zener voltage (in volts)\n",
      "RL = 1.0                   #Load resistance (in kilo-ohm)\n",
      "VBE = 0.7                  #Emitter-to-Base voltage (in volts)  \n",
      "\n",
      "#Calculation\n",
      "\n",
      "Vout = VZ/2 + VBE          #Output voltage (in volts)\n",
      "IL = Vout / RL             #Load current (in milli-Ampere)\n",
      "IE1 = IL                   #Current (in milli-Ampere)\n",
      "VCE1 = VS - Vout           #Collector-To-Emitter voltage (in volts)\n",
      "P1 = VCE1 * IE1            #Power dissipated (in watt)\n",
      "\n",
      "#Result\n",
      "\n",
      "print \"Vout is \",Vout,\" V.\\nIL is \",IL,\" mA.\\nIE1 is \",IE1,\" mA.\\nP1 is \",P1,\" W.\"\n",
      "\n",
      "#Calculation error in book for the value of P1."
     ],
     "language": "python",
     "metadata": {},
     "outputs": [
      {
       "output_type": "stream",
       "stream": "stdout",
       "text": [
        "Vout is  8.2  V.\n",
        "IL is  8.2  mA.\n",
        "IE1 is  8.2  mA.\n",
        "P1 is  137.76  W.\n"
       ]
      }
     ],
     "prompt_number": 19
    },
    {
     "cell_type": "heading",
     "level": 2,
     "metadata": {},
     "source": [
      "Example 20.20 , Page Number 492"
     ]
    },
    {
     "cell_type": "code",
     "collapsed": false,
     "input": [
      "#Variables\n",
      "\n",
      "IADJ = 100.0 * 10**-6                            #Current (in Ampere)\n",
      "Vin = 35.0                                       #Input voltage (in volts)\n",
      "R1 = 220.0                                       #Resistance1 (in ohm)\n",
      "R2min = 0                                        #Resistance2 minimum (in ohm)\n",
      "R2max = 5.0 * 10**3                              #Resistance2 maximum (in ohm)\n",
      "VREF = 1.25                                      #Reference voltage (in volts)\n",
      "\n",
      "#Calculation\n",
      "\n",
      "Voutmin = VREF * (R2min/R1 + 1) + IADJ * R2min   #Minimum output voltage (in volts)\n",
      "Voutmax = VREF * (R2max/R1 + 1) + IADJ * R2max   #Maximum output voltage (in volts) \n",
      "\n",
      "#Result\n",
      "\n",
      "print \"Maximum output voltage is \",round(Voutmax,2),\" V.\\nMinimum output voltage is \",Voutmin,\" V.\" "
     ],
     "language": "python",
     "metadata": {},
     "outputs": [
      {
       "output_type": "stream",
       "stream": "stdout",
       "text": [
        "Maximum output voltage is  30.16  V.\n",
        "Minimum output voltage is  1.25  V.\n"
       ]
      }
     ],
     "prompt_number": 20
    },
    {
     "cell_type": "heading",
     "level": 2,
     "metadata": {},
     "source": [
      "Example 20.21 , Page Number 492"
     ]
    },
    {
     "cell_type": "code",
     "collapsed": false,
     "input": [
      "#Variables\n",
      "\n",
      "R1 = 220.0               #Resistance1 (in ohm)\n",
      "R2 = 1.5 * 10**3         #Resistance2 (in ohm)\n",
      "VREF = 1.25              #Reference voltage (in volts)\n",
      "\n",
      "#Calculation\n",
      "\n",
      "Vo = VREF * (R2/R1 + 1)  #Regulated dc output voltage (in volts)\n",
      "\n",
      "#Result\n",
      "\n",
      "print \"Regulated dc output voltage is \",round(Vo,2),\" V.\"\n",
      "\n",
      "#Calculation error in the book."
     ],
     "language": "python",
     "metadata": {},
     "outputs": [
      {
       "output_type": "stream",
       "stream": "stdout",
       "text": [
        "Regulated dc output voltage is  9.77  V.\n"
       ]
      }
     ],
     "prompt_number": 21
    },
    {
     "cell_type": "heading",
     "level": 2,
     "metadata": {},
     "source": [
      "Example 20.22 , Page Number 493"
     ]
    },
    {
     "cell_type": "code",
     "collapsed": false,
     "input": [
      "#Variables\n",
      "\n",
      "R1 = 240.0               #Resistance1 (in ohm)\n",
      "R2 = 2.4 * 10**3         #Resistance2 (in ohm)\n",
      "VREF = 1.25              #Reference voltage (in volts)\n",
      "\n",
      "#Calculation\n",
      "\n",
      "Vo = VREF * (R2/R1 + 1)  #Regulated dc output voltage (in volts)\n",
      "\n",
      "#Result\n",
      "\n",
      "print \"Regulated dc output voltage is \",Vo,\" V.\""
     ],
     "language": "python",
     "metadata": {},
     "outputs": [
      {
       "output_type": "stream",
       "stream": "stdout",
       "text": [
        "Regulated dc output voltage is  13.75  V.\n"
       ]
      }
     ],
     "prompt_number": 22
    }
   ],
   "metadata": {}
  }
 ]
}