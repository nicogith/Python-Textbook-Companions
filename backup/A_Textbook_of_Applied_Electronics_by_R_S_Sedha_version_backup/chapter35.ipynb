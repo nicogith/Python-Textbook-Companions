{
 "metadata": {
  "name": "",
  "signature": "sha256:4eaaeae330501e8f1f6bc5b2282cf7a01a3aba17d1206c686005d5c371c69437"
 },
 "nbformat": 3,
 "nbformat_minor": 0,
 "worksheets": [
  {
   "cells": [
    {
     "cell_type": "heading",
     "level": 1,
     "metadata": {},
     "source": [
      "Chapter 35 , Operational Amplifiers (OP - Amps)"
     ]
    },
    {
     "cell_type": "heading",
     "level": 2,
     "metadata": {},
     "source": [
      "Example 35.1 , Page Number 895"
     ]
    },
    {
     "cell_type": "code",
     "collapsed": false,
     "input": [
      "#Variables\n",
      "\n",
      "Adm = 200000.0                    #Differential gain\n",
      "Acm = 6.33                        #Common mode gain                    \n",
      "\n",
      "#Calculation\n",
      "\n",
      "CMRR = 20 * log10(Adm / Acm)      #Common-mode rejection ratio (in Decibels)   \n",
      "\n",
      "#Result\n",
      "\n",
      "print \"The common-mode rejection ratio is \",round(CMRR),\" dB.\""
     ],
     "language": "python",
     "metadata": {},
     "outputs": [
      {
       "output_type": "stream",
       "stream": "stdout",
       "text": [
        "The common-mode rejection ratio is  90.0  dB.\n"
       ]
      }
     ],
     "prompt_number": 1
    },
    {
     "cell_type": "heading",
     "level": 2,
     "metadata": {},
     "source": [
      "Example 35.2 , Page Number 896"
     ]
    },
    {
     "cell_type": "code",
     "collapsed": false,
     "input": [
      "#Variables\n",
      "\n",
      "CMRR = 90.0                    #Common-mode rejection ratio (in Decibels)\n",
      "Adm = 30000.0                  #Differential gain\n",
      "\n",
      "#Calculation\n",
      "\n",
      "Acm = 10**(-CMRR/20.0) * Adm   #Common-mode gain \n",
      "\n",
      "#Result\n",
      "\n",
      "print \"The common-mode gain is \",round(Acm,3),\".\""
     ],
     "language": "python",
     "metadata": {},
     "outputs": [
      {
       "output_type": "stream",
       "stream": "stdout",
       "text": [
        "The common-mode gain is  0.095 .\n"
       ]
      }
     ],
     "prompt_number": 2
    },
    {
     "cell_type": "heading",
     "level": 2,
     "metadata": {},
     "source": [
      "Example 35.3 , Page Number 896"
     ]
    },
    {
     "cell_type": "code",
     "collapsed": false,
     "input": [
      "import math\n",
      "\n",
      "#Variables\n",
      "\n",
      "Slew_rate = 0.5 * 10**6                  #Slew rate (in volt per second)\n",
      "Vpk = 100.0 * 10**-3                     #Peak-to-peak voltage (in volts)\n",
      "\n",
      "#Calculation\n",
      "\n",
      "fmax = Slew_rate / (2 * math.pi * Vpk)   #Maximum operating frequency (in Hertz)\n",
      "\n",
      "#Result\n",
      "\n",
      "print \"The maximum operating frequency for the amplifier is \",round(fmax * 10**-3),\" kHz.\""
     ],
     "language": "python",
     "metadata": {},
     "outputs": [
      {
       "output_type": "stream",
       "stream": "stdout",
       "text": [
        "The maximum operating frequency for the amplifier is  796.0  kHz.\n"
       ]
      }
     ],
     "prompt_number": 3
    },
    {
     "cell_type": "heading",
     "level": 2,
     "metadata": {},
     "source": [
      "Example 35.4 , Page Number 896"
     ]
    },
    {
     "cell_type": "code",
     "collapsed": false,
     "input": [
      "import math\n",
      "\n",
      "#Variables\n",
      "\n",
      "Slew_rate1 = 0.5 * 10**6                  #Slew rate (in volt per second)\n",
      "Slew_rate2 = 13.0 * 10**6                 #Slew rate (in volt per second)\n",
      "Vpk = 10.0                                #Peak-to-peak voltage (in volts)\n",
      "\n",
      "#Calculation\n",
      "\n",
      "fmax = Slew_rate1 / (2 * math.pi * Vpk)   #Maximum operating frequency1 (in Hertz)\n",
      "fmax1 = Slew_rate2 / (2 * math.pi * Vpk)  #Maximum operating frequency2 (in Hertz)\n",
      "\n",
      "#Result\n",
      "\n",
      "print \"The maximum operating frequency for TLO 741 is \",round(fmax * 10**-3,3),\" kHz.\\nThe maximum opearing frequency for TLO 81 is \",round(fmax1 * 10**-3,1),\" kHz.\"\n",
      "\n",
      "#Slight variation due to higher precision."
     ],
     "language": "python",
     "metadata": {},
     "outputs": [
      {
       "output_type": "stream",
       "stream": "stdout",
       "text": [
        "The maximum operating frequency for TLO 741 is  7.958  kHz.\n",
        "The maximum opearing frequency for TLO 81 is  206.9  kHz.\n"
       ]
      }
     ],
     "prompt_number": 4
    },
    {
     "cell_type": "heading",
     "level": 2,
     "metadata": {},
     "source": [
      "Example 35.5 , Page Number 899"
     ]
    },
    {
     "cell_type": "code",
     "collapsed": false,
     "input": [
      "#Variables\n",
      "\n",
      "ACL = 200.0                  #Closed loop voltage gain\n",
      "Vout = 8.0                   #Output voltage (in volts)\n",
      "\n",
      "#Calculation\n",
      "\n",
      "Vin = - Vout / ACL           #Input a.c. voltage (in volts)\n",
      "\n",
      "#Result\n",
      "\n",
      "print \"Maximum allowable input voltage (Vin) is \",abs(Vin * 10**3),\" mV.\" "
     ],
     "language": "python",
     "metadata": {},
     "outputs": [
      {
       "output_type": "stream",
       "stream": "stdout",
       "text": [
        "Maximum allowable input voltage (Vin) is  40.0  mV.\n"
       ]
      }
     ],
     "prompt_number": 5
    },
    {
     "cell_type": "heading",
     "level": 2,
     "metadata": {},
     "source": [
      "Example 35.6 , Page Number 900"
     ]
    },
    {
     "cell_type": "code",
     "collapsed": false,
     "input": [
      "#Variables\n",
      "\n",
      "ACL = 150.0                  #Closed loop voltage gain\n",
      "Vin = 200.0 * 10**-3         #Input a.c. voltage (in volts) \n",
      "V = 12.0                     #Voltage (in volts)       \n",
      "\n",
      "#Calculation\n",
      "\n",
      "Vout = ACL * Vin             #Output voltage (in volts)\n",
      "Vpkplus = V -2.0             #maximum positive peak voltage (in volts)\n",
      "Vpkneg = -V + 2.0            #maximum negative peagk voltage (in volts) \n",
      "\n",
      "#Result\n",
      "\n",
      "print \"The maximum possible output value could be between \",Vpkplus,\" V and \",Vpkneg,\" V.\""
     ],
     "language": "python",
     "metadata": {},
     "outputs": [
      {
       "output_type": "stream",
       "stream": "stdout",
       "text": [
        "The maximum possible output value could be between  10.0  V and  -10.0  V.\n"
       ]
      }
     ],
     "prompt_number": 6
    },
    {
     "cell_type": "heading",
     "level": 2,
     "metadata": {},
     "source": [
      "Example 35.7 , Page Number 900"
     ]
    },
    {
     "cell_type": "code",
     "collapsed": false,
     "input": [
      "#Variables\n",
      "\n",
      "R1 = 1.0 * 10**3               #Resistance (in volts)\n",
      "R2 = 10.0 * 10**3              #Resistance (in volts)\n",
      "vinmin = 0.1                   #Input voltage minimum (in volts)\n",
      "vinmax = 0.4                   #Input voltage maximum (in volts)\n",
      "\n",
      "#Calculation\n",
      "\n",
      "ACL = R2 / R1                  #Closed loop voltage gain\n",
      "Voutmin = ACL * vinmin         #Minimum output voltage (in volts)\n",
      "Voutmax = ACL * vinmax         #Maximum output voltage (in volts)\n",
      "\n",
      "#Result\n",
      "\n",
      "print \"The value of output voltage increases from \",Voutmin,\" V to \",Voutmax,\" V.\""
     ],
     "language": "python",
     "metadata": {},
     "outputs": [
      {
       "output_type": "stream",
       "stream": "stdout",
       "text": [
        "The value of output voltage increases from  1.0  V to  4.0  V.\n"
       ]
      }
     ],
     "prompt_number": 7
    },
    {
     "cell_type": "heading",
     "level": 2,
     "metadata": {},
     "source": [
      "Example 35.8 , Page Number 901"
     ]
    },
    {
     "cell_type": "code",
     "collapsed": false,
     "input": [
      "#Variables\n",
      "\n",
      "R1 = 1.0 * 10**3                   #Resistance (in ohm)\n",
      "R2 = 2.0 * 10**3                   #Resistance (in ohm)\n",
      "V1 = 1.0                           #Voltage (in volts)\n",
      "\n",
      "#Calculation\n",
      "\n",
      "ACL = R2 / R1                      #Closed loop voltage gain   \n",
      "vo = ACL * V1                      #Output voltage (in volts)\n",
      "\n",
      "#Result\n",
      "\n",
      "print \"Output voltage of the inverting amplifier is \",vo,\" V.\""
     ],
     "language": "python",
     "metadata": {},
     "outputs": [
      {
       "output_type": "stream",
       "stream": "stdout",
       "text": [
        "Output voltage of the inverting amplifier is  2.0  V.\n"
       ]
      }
     ],
     "prompt_number": 8
    },
    {
     "cell_type": "heading",
     "level": 2,
     "metadata": {},
     "source": [
      "Example 35.9 , Page Number 901"
     ]
    },
    {
     "cell_type": "code",
     "collapsed": false,
     "input": [
      "import math\n",
      "\n",
      "#Variables\n",
      "\n",
      "R2 = 100.0 * 10**3                 #Resistance (in ohm)\n",
      "R1 = 10.0 * 10**3                  #Resistance (in ohm)  \n",
      "ACM = 0.001                        #Common-mode gain \n",
      "Slew_rate = 0.5 * 10**6            #Slew rate (in volt per second)   \n",
      "Vpk = 5.0                          #Peak voltage (in volts)\n",
      "\n",
      "#Calculation\n",
      "\n",
      "ACL = R2 / R1                       #Closed loop voltage gain\n",
      "Zin = R1                            #Input impedance of the circuit (in ohm)\n",
      "Zout = 80.0                         #Output impedance of the circuit (in ohm)\n",
      "CMRR = ACL / ACM                    #Common mode rejection ratio    \n",
      "fmax = Slew_rate / (2*math.pi*Vpk)  #Maximum frequency (in Hertz)\n",
      "\n",
      "#Result\n",
      "\n",
      "print \"Closed-loop gain is \",ACL,\".\\nInput impedance is \",Zin * 10**-3,\" kilo-ohm.\\nOutput impedance is \",Zout,\" ohm.\\nCommon-mode rejection ratio is \",CMRR,\".\\nMaximum operating frequency is \",round(fmax * 10**-3,1),\" kHz.\""
     ],
     "language": "python",
     "metadata": {},
     "outputs": [
      {
       "output_type": "stream",
       "stream": "stdout",
       "text": [
        "Closed-loop gain is  10.0 .\n",
        "Input impedance is  10.0  kilo-ohm.\n",
        "Output impedance is  80.0  ohm.\n",
        "Common-mode rejection ratio is  10000.0 .\n",
        "Maximum operating frequency is  15.9  kHz.\n"
       ]
      }
     ],
     "prompt_number": 9
    },
    {
     "cell_type": "heading",
     "level": 2,
     "metadata": {},
     "source": [
      "Example 35.10 , Page Number 904"
     ]
    },
    {
     "cell_type": "code",
     "collapsed": false,
     "input": [
      "#Variables\n",
      "\n",
      "R2 = 100.0 * 10**3                 #Resistance (in ohm)\n",
      "R1 = 10.0 * 10**3                  #Resistance (in ohm)  \n",
      "Slew_rate = 0.5 * 10**6            #Slew rate (in volt per second)   \n",
      "Vpk = 5.5                          #Peak voltage (in volts)\n",
      "RL = 10.0 * 10**3                  #Load resistance (in ohm)  \n",
      "ACM = 0.001                        #Common mode gain \n",
      "\n",
      "#Calculation\n",
      "\n",
      "ACL = (1 + R2/R1)                  #Closed loop voltage gain     \n",
      "CMRR = ACL / ACM                   #Common-mode rejection ratio       \n",
      "vin = 1.0                          #Voltage (in volts)\n",
      "Vout = ACL * vin                   #Output voltage (in volts)\n",
      "Vpk = 5.5                          #Peak-to-peak voltage (in volts)    \n",
      "fmax = Slew_rate/(2*math.pi*Vpk)   #Maximum frequency (in Hertz)\n",
      "\n",
      "#Result\n",
      "\n",
      "print \"Closed loop gain is \",ACL,\".\\nCMRR is \",CMRR,\".\\nMaximum operating frequency is \",round(fmax * 10**-3,2),\" kHz.\""
     ],
     "language": "python",
     "metadata": {},
     "outputs": [
      {
       "output_type": "stream",
       "stream": "stdout",
       "text": [
        "Closed loop gain is  11.0 .\n",
        "CMRR is  11000.0 .\n",
        "Maximum operating frequency is  14.47  kHz.\n"
       ]
      }
     ],
     "prompt_number": 10
    },
    {
     "cell_type": "heading",
     "level": 2,
     "metadata": {},
     "source": [
      "Example 35.11 , Page Number 905"
     ]
    },
    {
     "cell_type": "code",
     "collapsed": false,
     "input": [
      "import math\n",
      "\n",
      "#Variables\n",
      "\n",
      "ACL = 1.0                          #Closed loop gain\n",
      "Acm = 0.001                        #Common mode gain      \n",
      "Slew_rate = 0.5 * 10**6            #Slew rate (in Volt per second)\n",
      "\n",
      "#Calculation\n",
      "\n",
      "CMRR = ACL / ACM                   #Common-mode rejection ratio       \n",
      "vin = 1.0                          #Voltage (in volts)\n",
      "Vout = ACL * vin                   #Output voltage (in volts)\n",
      "Vpk = 3.0                          #Peak-to-peak voltage (in volts)    \n",
      "fmax = Slew_rate/(2*math.pi*Vpk)   #Maximum frequency (in Hertz)\n",
      "\n",
      "#Result\n",
      "\n",
      "print \"ACL is \",ACL,\".\\nCMRR is \",CMRR,\".\\nfmax is \",round(fmax * 10**-3,1),\" kHz.\""
     ],
     "language": "python",
     "metadata": {},
     "outputs": [
      {
       "output_type": "stream",
       "stream": "stdout",
       "text": [
        "ACL is  1.0 .\n",
        "CMRR is  1000.0 .\n",
        "fmax is  26.5  kHz.\n"
       ]
      }
     ],
     "prompt_number": 11
    },
    {
     "cell_type": "heading",
     "level": 2,
     "metadata": {},
     "source": [
      "Example 35.12 , Page Number 906"
     ]
    },
    {
     "cell_type": "code",
     "collapsed": false,
     "input": [
      "#Variables\n",
      "\n",
      "V1 = 0.1                                          #Voltage (in volts)\n",
      "V2 = 1.0                                          #Voltage (in volts)\n",
      "V3 = 0.5                                          #Voltage (in volts)         \n",
      "R1 = 10.0 * 10**3                                 #Resistance (in ohm)\n",
      "R2 = 10.0 * 10**3                                 #Resistance (in ohm)\n",
      "R3 = 10.0 * 10**3                                 #Resistance (in ohm)\n",
      "R4 = 22.0 * 10**3                                 #Resistance (in ohm)\n",
      "\n",
      "#Calculation\n",
      "\n",
      "Vout = (-R4/R1*V1) + (-R4/R2*V2) + (-R4/R3*V3)    #Output voltage (in volts)\n",
      "\n",
      "#Result\n",
      "\n",
      "print \"Output voltage is \",abs(Vout),\" V.\""
     ],
     "language": "python",
     "metadata": {},
     "outputs": [
      {
       "output_type": "stream",
       "stream": "stdout",
       "text": [
        "Output voltage is  3.52  V.\n"
       ]
      }
     ],
     "prompt_number": 12
    },
    {
     "cell_type": "heading",
     "level": 2,
     "metadata": {},
     "source": [
      "Example 35.13 , Page Number 907"
     ]
    },
    {
     "cell_type": "code",
     "collapsed": false,
     "input": [
      "#Variables\n",
      "\n",
      "#V1 = 2 * sin(wt)                                 #Voltage (in volts)\n",
      "V2 = 5.0                                          #Voltage (in volts)\n",
      "V3 = -100.0 * 10**-3                              #Voltage (in volts) \n",
      "\n",
      "#Result\n",
      "\n",
      "#Vo = 4 * V1 + V2 + 0.1 * V3                      #Output voltage\n",
      "\n",
      "#Graph\n",
      "\n",
      "x = linspace(0,10,200)\n",
      "plot(x,-15 + 8*sin(x))\n",
      "plot(x,(-15*x)/x,'')\n",
      "title(\"output waveform\")\n",
      "ylabel(\"output voltage (Vo)\")\n",
      "xlabel(\"t\")"
     ],
     "language": "python",
     "metadata": {},
     "outputs": [
      {
       "metadata": {},
       "output_type": "pyout",
       "prompt_number": 14,
       "text": [
        "<matplotlib.text.Text at 0x7f7140bf50d0>"
       ]
      },
      {
       "metadata": {},
       "output_type": "display_data",
       "png": "[encoded data removed]",
       "text": [
        "<matplotlib.figure.Figure at 0x7f7140c20510>"
       ]
      }
     ],
     "prompt_number": 14
    },
    {
     "cell_type": "heading",
     "level": 2,
     "metadata": {},
     "source": [
      "Example 35.14 , Page Number 908"
     ]
    },
    {
     "cell_type": "code",
     "collapsed": false,
     "input": [
      "#Variables\n",
      "\n",
      "V1 = -2.0                                          #Voltage (in volts)\n",
      "V2 = 2.0                                           #Voltage (in volts)\n",
      "V3 = -1.0                                          #Voltage (in volts)         \n",
      "R1 = 200.0 * 10**3                                 #Resistance (in ohm)\n",
      "R2 = 250.0 * 10**3                                 #Resistance (in ohm)\n",
      "R3 = 500.0 * 10**3                                 #Resistance (in ohm)\n",
      "Rf = 1.0 * 10**6                                   #Resistance (in ohm)\n",
      "\n",
      "#Calculation\n",
      "\n",
      "Vout = (-Rf/R1*V1) + (-Rf/R2*V2) + (-Rf/R3*V3)     #Output voltage (in volts)\n",
      "\n",
      "#Result\n",
      "\n",
      "print \"Output voltage is \",Vout,\" V.\""
     ],
     "language": "python",
     "metadata": {},
     "outputs": [
      {
       "output_type": "stream",
       "stream": "stdout",
       "text": [
        "Output voltage is  4.0  V.\n"
       ]
      }
     ],
     "prompt_number": 15
    }
   ],
   "metadata": {}
  }
 ]
}