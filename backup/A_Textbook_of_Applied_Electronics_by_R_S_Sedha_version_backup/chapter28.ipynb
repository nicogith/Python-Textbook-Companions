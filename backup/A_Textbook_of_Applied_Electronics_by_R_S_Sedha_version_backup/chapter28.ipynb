{
 "metadata": {
  "name": "",
  "signature": "sha256:ab7fa91888be408d88199dbc30e37921df67f73326f8dd21b2338b11e1039521"
 },
 "nbformat": 3,
 "nbformat_minor": 0,
 "worksheets": [
  {
   "cells": [
    {
     "cell_type": "heading",
     "level": 1,
     "metadata": {},
     "source": [
      "Chapter 28 , Tuned Amplifiers"
     ]
    },
    {
     "cell_type": "heading",
     "level": 2,
     "metadata": {},
     "source": [
      "Example 28.1 , Page Number 717"
     ]
    },
    {
     "cell_type": "code",
     "collapsed": false,
     "input": [
      "#Variables\n",
      "\n",
      "L = 150.0 * 10**-6          #Inductance (in Henry)\n",
      "C = 100.0 * 10**-12         #Capacitance (in Farad)\n",
      "\n",
      "#Calculation\n",
      "\n",
      "fo = 0.159 / (L * C)**0.5   #Resonant frequency (in Hertz)\n",
      "\n",
      "#Result\n",
      "\n",
      "print \"The resonant frequency is \",round(fo * 10**-6,1),\" MHz.\""
     ],
     "language": "python",
     "metadata": {},
     "outputs": [
      {
       "output_type": "stream",
       "stream": "stdout",
       "text": [
        "The resonant frequency is  1.3  MHz.\n"
       ]
      }
     ],
     "prompt_number": 1
    },
    {
     "cell_type": "heading",
     "level": 2,
     "metadata": {},
     "source": [
      "Example 28.2 , Page Number 718"
     ]
    },
    {
     "cell_type": "code",
     "collapsed": false,
     "input": [
      "#Variables\n",
      "\n",
      "L = 100.0 * 10**-6          #Inductance (in Henry)\n",
      "C = 100.0 * 10**-12         #Capacitance (in Farad)\n",
      "R = 5.0                     #Resistance (in ohm)\n",
      "\n",
      "#Calculation\n",
      "\n",
      "fo = 0.159 / (L * C)**0.5   #Resonant frequency (in Hertz)\n",
      "Zp = L / (C*R)              #Circuit impedance at resonance (in ohm)\n",
      "\n",
      "#Result\n",
      "\n",
      "print \"Resonant frequency is \",fo * 10**-6,\" MHz.\\nCircuit impedance at resonance is \",Zp * 10**-3,\" kilo-ohm.\""
     ],
     "language": "python",
     "metadata": {},
     "outputs": [
      {
       "output_type": "stream",
       "stream": "stdout",
       "text": [
        "Resonant frequency is  1.59  MHz.\n",
        "Circuit impedance at resonance is  200.0  kilo-ohm.\n"
       ]
      }
     ],
     "prompt_number": 2
    },
    {
     "cell_type": "heading",
     "level": 2,
     "metadata": {},
     "source": [
      "Example 28.3 , Page Number 720"
     ]
    },
    {
     "cell_type": "code",
     "collapsed": false,
     "input": [
      "#Variables\n",
      "\n",
      "fo = 1.0 * 10**6           #Resonant frequency (in Hertz)\n",
      "Qo = 100.0                 #Quality factor\n",
      "\n",
      "#Calculation\n",
      "\n",
      "BW = fo / Qo               #Bandwidth (in Hertz)\n",
      "\n",
      "#Result\n",
      "\n",
      "print \"Bandwidth of the circuit is \",BW * 10**-3,\" kHz.\""
     ],
     "language": "python",
     "metadata": {},
     "outputs": [
      {
       "output_type": "stream",
       "stream": "stdout",
       "text": [
        "Bandwidth of the circuit is  10.0  kHz.\n"
       ]
      }
     ],
     "prompt_number": 3
    },
    {
     "cell_type": "heading",
     "level": 2,
     "metadata": {},
     "source": [
      "Example 28.4 , Page Number 720"
     ]
    },
    {
     "cell_type": "code",
     "collapsed": false,
     "input": [
      "#Variables\n",
      "\n",
      "fo = 1600.0 * 10**3        #Resonant frequency (in Hertz)\n",
      "BW = 10.0 * 10**3          #Bandwidth (in Hertz)\n",
      "\n",
      "#Calculation\n",
      "\n",
      "Qo = fo / BW               #Quality factor\n",
      "\n",
      "#Result\n",
      "\n",
      "print \"The Q-factor is \",Qo,\".\""
     ],
     "language": "python",
     "metadata": {},
     "outputs": [
      {
       "output_type": "stream",
       "stream": "stdout",
       "text": [
        "The Q-factor is  160.0 .\n"
       ]
      }
     ],
     "prompt_number": 4
    },
    {
     "cell_type": "heading",
     "level": 2,
     "metadata": {},
     "source": [
      "Example 28.5 , Page Number 720"
     ]
    },
    {
     "cell_type": "code",
     "collapsed": false,
     "input": [
      "#Variables\n",
      "\n",
      "fo = 2.0 * 10**6           #Resonant frequency (in Hertz)\n",
      "BW = 50.0 * 10**3          #Bandwidth (in Hertz)\n",
      "\n",
      "#Calculation\n",
      "\n",
      "Qo = fo / BW               #Quality factor\n",
      "\n",
      "#Result\n",
      "\n",
      "print \"The Q-factor is \",Qo,\".\""
     ],
     "language": "python",
     "metadata": {},
     "outputs": [
      {
       "output_type": "stream",
       "stream": "stdout",
       "text": [
        "The Q-factor is  40.0 .\n"
       ]
      }
     ],
     "prompt_number": 5
    },
    {
     "cell_type": "heading",
     "level": 2,
     "metadata": {},
     "source": [
      "Example 28.6 , Page Number 720"
     ]
    },
    {
     "cell_type": "code",
     "collapsed": false,
     "input": [
      "import math\n",
      "\n",
      "#Variables\n",
      "\n",
      "fo = 455.0 * 10**3         #Resonant frequency (in Hertz)\n",
      "BW = 10.0 * 10**3          #Bandwidth (in Hertz)\n",
      "XL = 1255.0                #Inductive reactance (in ohm)\n",
      "\n",
      "#Calculation\n",
      "\n",
      "Qo = fo / BW               #Quality factor\n",
      "R = XL / Qo                #Resistance (in ohm)\n",
      "L = XL / (2*math.pi*fo)    #Inductance (in Henry)\n",
      "C = 1 / (XL*2*math.pi*fo)  #Capacitance (in Farad)\n",
      "Zp = L / (C*R)             #Circuit impedance (in ohm)\n",
      "\n",
      "#Result\n",
      "\n",
      "print \"The value of circuit impedance at resonance is \",round(Zp * 10**-3),\" kilo-ohm.\""
     ],
     "language": "python",
     "metadata": {},
     "outputs": [
      {
       "output_type": "stream",
       "stream": "stdout",
       "text": [
        "The value of circuit impedance at resonance is  57.0  kilo-ohm.\n"
       ]
      }
     ],
     "prompt_number": 6
    }
   ],
   "metadata": {}
  }
 ]
}