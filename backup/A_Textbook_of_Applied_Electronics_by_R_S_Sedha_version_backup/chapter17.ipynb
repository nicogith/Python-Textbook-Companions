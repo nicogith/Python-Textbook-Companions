{
 "metadata": {
  "name": "",
  "signature": "sha256:1d16302bdeaeca8618b5de290d65ca882b87b778ad4d5982044984274fdd070e"
 },
 "nbformat": 3,
 "nbformat_minor": 0,
 "worksheets": [
  {
   "cells": [
    {
     "cell_type": "heading",
     "level": 1,
     "metadata": {},
     "source": [
      "Chapter 17 , Thyristors"
     ]
    },
    {
     "cell_type": "heading",
     "level": 2,
     "metadata": {},
     "source": [
      "Example 17.1 , Page Number 379"
     ]
    },
    {
     "cell_type": "code",
     "collapsed": false,
     "input": [
      "#Variables\n",
      "\n",
      "I = 40                      #Current (in milli-Ampere)\n",
      "t = 15 * 10**-3             #time (in seconds)\n",
      "CFS = 93                    #Circuit fusing rate (in Ampere-square second)\n",
      "\n",
      "#Calculation\n",
      "\n",
      "SCR = I**2 * t              #Surge in the device (in Ampere-square second) \n",
      "\n",
      "#Result\n",
      "\n",
      "print \"Since value of SCR i.e. \",SCR,\" A**2s is less than CFS i.e. \",CFS,\" A**2s.\"\n",
      "print \"Therefore the device will not be destroyed.\""
     ],
     "language": "python",
     "metadata": {},
     "outputs": [
      {
       "output_type": "stream",
       "stream": "stdout",
       "text": [
        "Since value of SCR i.e.  24.0  A**2s is less than CFS i.e.  93  A**2s.\n",
        "Therefore the device will not be destroyed.\n"
       ]
      }
     ],
     "prompt_number": 1
    },
    {
     "cell_type": "heading",
     "level": 2,
     "metadata": {},
     "source": [
      "Example 17.2 , Page Number 379"
     ]
    },
    {
     "cell_type": "code",
     "collapsed": false,
     "input": [
      "#Variables\n",
      "\n",
      "SCR = I2t = 75.0            #SCR (in Ampere-square second)\n",
      "IS = 100.0                  #Current (in Ampere)\n",
      "\n",
      "#Calculation\n",
      "\n",
      "tmax = I2t / IS**2          #Maximum allowable time (in seconds)\n",
      "\n",
      "#Result\n",
      "\n",
      "print \"Maximum allowable time is \",tmax * 10**3,\" ms.\""
     ],
     "language": "python",
     "metadata": {},
     "outputs": [
      {
       "output_type": "stream",
       "stream": "stdout",
       "text": [
        "Maximum allowable time is  7.5  ms.\n"
       ]
      }
     ],
     "prompt_number": 2
    },
    {
     "cell_type": "heading",
     "level": 2,
     "metadata": {},
     "source": [
      "Example 17.3 , Page Number 385"
     ]
    },
    {
     "cell_type": "code",
     "collapsed": false,
     "input": [
      "#Variables\n",
      "\n",
      "VD = 0.7                     #Voltage (in volts)\n",
      "n = 0.75                     #Intrinsic stand-off ratio\n",
      "VBB = 12                     #Base Voltage (in volts)\n",
      "\n",
      "#Calculation\n",
      "\n",
      "VP = n * VBB + VD            #Peak-point voltage (in volts)\n",
      "\n",
      "#Result\n",
      "\n",
      "print \"Peak - point voltage of the circuit is \",VP,\" V.\""
     ],
     "language": "python",
     "metadata": {},
     "outputs": [
      {
       "output_type": "stream",
       "stream": "stdout",
       "text": [
        "Peak - point voltage of the circuit is  9.7  V.\n"
       ]
      }
     ],
     "prompt_number": 3
    },
    {
     "cell_type": "heading",
     "level": 2,
     "metadata": {},
     "source": [
      "Example 17.4 , Page Number 385"
     ]
    },
    {
     "cell_type": "code",
     "collapsed": false,
     "input": [
      "#Variables\n",
      "\n",
      "rB1 = 4.0                    #Resistance (in kilo-ohm)\n",
      "rB2 = 2.5                    #Resistance (in kilo-ohm)\n",
      "VBB = 15.0                   #Base voltage (in volts)\n",
      "VD = 0.7                     #Voltage (in volts)\n",
      "\n",
      "#Calculation\n",
      "\n",
      "n = rB1 / (rB1 + rB2)        #Intrinsic stand-off ratio\n",
      "VP = n * VBB + VD            #Peak-point voltage (in volts)\n",
      "\n",
      "#Result\n",
      "\n",
      "print \"Intrinsic stand off ratio is \",round(n,4),\".\\nPeak-point voltage is \",round(VP), \"V.\""
     ],
     "language": "python",
     "metadata": {},
     "outputs": [
      {
       "output_type": "stream",
       "stream": "stdout",
       "text": [
        "Intrinsic stand off ratio is  0.6154 .\n",
        "Peak-point voltage is  10.0 V.\n"
       ]
      }
     ],
     "prompt_number": 4
    },
    {
     "cell_type": "heading",
     "level": 2,
     "metadata": {},
     "source": [
      "Example 17.5 , Page Number 385"
     ]
    },
    {
     "cell_type": "code",
     "collapsed": false,
     "input": [
      "#Variables\n",
      "\n",
      "n = 0.60                     #Intrinsic stand-off ratio\n",
      "rBB = 7.0                    #Base- Bulk resistance (in kilo-ohm)\n",
      "\n",
      "#Calculation\n",
      "\n",
      "rB1 = n * rBB                #Resistance (in ohm)\n",
      "rB2 = rBB - rB1              #Resistance (in ohm)\n",
      "\n",
      "#Result\n",
      "\n",
      "print \"Static values of rB1 is \",rB1,\" kilo-ohm and of rB2 is \",rB2,\" kilo-ohm.\" "
     ],
     "language": "python",
     "metadata": {},
     "outputs": [
      {
       "output_type": "stream",
       "stream": "stdout",
       "text": [
        "Static values of rB1 is  4.2  kilo-ohm and of rB2 is  2.8  kilo-ohm.\n"
       ]
      }
     ],
     "prompt_number": 5
    }
   ],
   "metadata": {}
  }
 ]
}