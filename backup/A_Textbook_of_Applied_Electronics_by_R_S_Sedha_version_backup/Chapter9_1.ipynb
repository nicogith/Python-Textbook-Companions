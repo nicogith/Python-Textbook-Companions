{
 "metadata": {
  "name": "",
  "signature": "sha256:df20b687327eb5de3142132bf5d03052042219b0928fedb0b3e836d35edbbea8"
 },
 "nbformat": 3,
 "nbformat_minor": 0,
 "worksheets": [
  {
   "cells": [
    {
     "cell_type": "heading",
     "level": 1,
     "metadata": {},
     "source": [
      "Chapter 9 , Voltage and Current Sources"
     ]
    },
    {
     "cell_type": "heading",
     "level": 2,
     "metadata": {},
     "source": [
      "Example 9.1 , Page Number 158"
     ]
    },
    {
     "cell_type": "code",
     "collapsed": false,
     "input": [
      "import math\n",
      "\n",
      "#Variables\n",
      "\n",
      "V = 1.5                     #Source Voltage (in volts)\n",
      "RS = 0.2                    #Resistance (in ohm)\n",
      "RL = 1                      #Load Resistance (in ohm)\n",
      "\n",
      "#Calculation\n",
      "\n",
      "RT = RS + RL                #Total Resistance (in ohm)\n",
      "I = V / RT                  #Current (in Ampere)\n",
      "VAB = I * RL                #Voltage drop across AB (in volts)\n",
      "VR = V - VAB                #Voltage drop due to internal resistance (in volts)\n",
      "\n",
      "#Result\n",
      "\n",
      "print \"Voltage drop across internal resistance is \",VR,\" volts.\""
     ],
     "language": "python",
     "metadata": {},
     "outputs": [
      {
       "output_type": "stream",
       "stream": "stdout",
       "text": [
        "Voltage drop across internal resistance is  0.25  volts.\n"
       ]
      }
     ],
     "prompt_number": 2
    },
    {
     "cell_type": "heading",
     "level": 2,
     "metadata": {},
     "source": [
      "Example 9.2 , Page Number 159"
     ]
    },
    {
     "cell_type": "code",
     "collapsed": false,
     "input": [
      "import math\n",
      "\n",
      "#Variables\n",
      "\n",
      "VS = 1.5                    #Source Voltage (in volts)\n",
      "RS = 0.4                    #Resistance (in ohm)\n",
      "RL = 2.0                    #Load Resistance (in ohm)\n",
      "\n",
      "#Calculation\n",
      "\n",
      "RT = RS + RL                #Total Resistance (in ohm)\n",
      "I = VS/ RT                  #Current (in Ampere)\n",
      "VT = I * RL                 #Terminal Voltage (in volts)\n",
      "PL = I**2 * RL              #Power dissipated by load resistance (in watt)\n",
      "PS = I**2 * RT              #Power Supplied by the voltage source (in watt)\n",
      "eff = PL / PS               #Efficiency of the circuit\n",
      "\n",
      "#Result\n",
      "\n",
      "print \"Terminal Voltage is \",VT,\" V.\\nPower dissipated by 2 ohm resistor is \",round(PL,2),\" W.\\nEfficiency of the circuit is \",round(eff,2),\".\""
     ],
     "language": "python",
     "metadata": {},
     "outputs": [
      {
       "output_type": "stream",
       "stream": "stdout",
       "text": [
        "Terminal Voltage is  1.25  V.\n",
        "Power dissipated by 2 ohm resistor is  0.78  W.\n",
        "Efficiency of the circuit is  0.83 .\n"
       ]
      }
     ],
     "prompt_number": 3
    },
    {
     "cell_type": "heading",
     "level": 2,
     "metadata": {},
     "source": [
      "Example 9.3 , Page Number 160"
     ]
    },
    {
     "cell_type": "code",
     "collapsed": false,
     "input": [
      "import math\n",
      "\n",
      "#Case a.1:\n",
      "\n",
      "#Variables\n",
      "\n",
      "VS = 6.0                    #Source Voltage (in volts)\n",
      "RS = 2.0                    #Resistance (in ohm)\n",
      "#When RL is 2 ohm\n",
      "RL = 2.0                    #Load Resistance (in ohm) \n",
      "\n",
      "#Calculation\n",
      "\n",
      "RT = RS + RL                #Total Resistance (in ohm)\n",
      "I = VS / RT                 #Current in the Circuit (in Ampere)\n",
      "VT1 = I * RL                #Terminal Voltage (in volts)\n",
      "\n",
      "#Result\n",
      "\n",
      "print \"Terminal voltage when RL is 2 ohm : \",VT1,\" V.\"\n",
      "\n",
      "#Case a.2:\n",
      "\n",
      "#Variables\n",
      "\n",
      "#When RL is 20 ohm\n",
      "RL = 20.0                   #Load Resistance (in ohm)\n",
      "\n",
      "#Calculation\n",
      "\n",
      "RT = RS + RL                #Total Resistance (in ohm)\n",
      "I = VS / RT                 #Current in the Circuit (in Ampere)\n",
      "VT2 = I * RL                #Terminal Voltage (in volts)\n",
      "\n",
      "#Result\n",
      "\n",
      "print \"Terminal voltage when RL is 20 ohm : \",round(VT,2),\" V.\"\n",
      "print \"Variation in terminal voltage is \",(VT2-VT1)/VT2,\" V.\"\n",
      "\n",
      "#Case b.1:\n",
      "\n",
      "#Variables\n",
      "\n",
      "RS = 100.0                   #Resistance (in ohm)\n",
      "#When RL is 10 kilo-ohm\n",
      "RL = 10.0 * 10**3            #Load Resistance (in ohm) \n",
      "\n",
      "#Calculation\n",
      "\n",
      "RT = RS + RL                 #Total Resistance (in ohm)\n",
      "I = VS / RT                  #Current in the circuit (in Ampere)\n",
      "VT = I * RL                  #Terminal Voltage (in volts)\n",
      "\n",
      "#Result\n",
      "\n",
      "print \"Terminal voltage when RL is 100 kilo-ohm is: \",round(VT,2),\" V.\"\n",
      "\n",
      "#Case b.2:\n",
      "\n",
      "#Variables\n",
      "\n",
      "#When RL is 100 kilo-ohm\n",
      "RL = 100.0 * 10**3            #Load Resistance (in ohm) \n",
      "\n",
      "#Calculation\n",
      "\n",
      "RT = RS + RL                  #Total Resistance (in ohm)\n",
      "I = VS / RT                   #Current in the circuit (in Ampere)\n",
      "VT1 = I * RL                  #Terminal Voltage (in volts)\n",
      "\n",
      "#Result\n",
      "\n",
      "print \"Terminal voltage when RL is 100 kilo-ohm is :\",round(VT1,3),\" V.\"\n",
      "print \"Variation in terminal voltage is \",round((VT1-VT)/VT1,3),\" V.\""
     ],
     "language": "python",
     "metadata": {},
     "outputs": [
      {
       "output_type": "stream",
       "stream": "stdout",
       "text": [
        "Terminal voltage when RL is 2 ohm :  3.0  V.\n",
        "Terminal voltage when RL is 20 ohm :  1.25  V.\n",
        "Variation in terminal voltage is  0.45  V.\n",
        "Terminal voltage when RL is 100 kilo-ohm is:  5.94  V.\n",
        "Terminal voltage when RL is 100 kilo-ohm is : 5.994  V.\n",
        "Variation in terminal voltage is  0.009  V.\n"
       ]
      }
     ],
     "prompt_number": 4
    },
    {
     "cell_type": "heading",
     "level": 2,
     "metadata": {},
     "source": [
      "Example 9.4 , Page Number 163"
     ]
    },
    {
     "cell_type": "code",
     "collapsed": false,
     "input": [
      "import math\n",
      "\n",
      "#Variables\n",
      "\n",
      "VS = 12.0                    #Source Voltage (in volts)\n",
      "VT = 10.0                    #Terminal Voltage (in volts)\n",
      "RL = 10.0                    #Load resistance (in ohm)\n",
      "\n",
      "#Calculation\n",
      "\n",
      "RS = RL*(VS / VT - 1)        #Internal Resistance (in ohm)\n",
      "\n",
      "#Result\n",
      "\n",
      "print \"The internal resistance of the source is \",RS,\" ohm.\""
     ],
     "language": "python",
     "metadata": {},
     "outputs": [
      {
       "output_type": "stream",
       "stream": "stdout",
       "text": [
        "The internal resistance of the source is  2.0  ohm.\n"
       ]
      }
     ],
     "prompt_number": 5
    },
    {
     "cell_type": "heading",
     "level": 2,
     "metadata": {},
     "source": [
      "Example 9.5 , Page Number 165"
     ]
    },
    {
     "cell_type": "code",
     "collapsed": false,
     "input": [
      "import math\n",
      "\n",
      "#Variables\n",
      "\n",
      "IS = 30.0                #Current (in milli-Ampere)\n",
      "RS = 15.0                #Source resistance (in kilo-ohm)\n",
      "\n",
      "#Calculation\n",
      "\n",
      "RL = RS / 20.0           #Load Resistance (in kilo-ohm) \n",
      "IL = IS * RS/(RL +RS)    #Load Current (in Ampere)\n",
      "\n",
      "\n",
      "#Result\n",
      "\n",
      "print \"Largest value of load resistance to provide constant current is \",RL*10**3,\" ohm.\"\n",
      "print \"Variation of current from the short-cicuit current is \",round((IS-IL)/IS,4),\".\""
     ],
     "language": "python",
     "metadata": {},
     "outputs": [
      {
       "output_type": "stream",
       "stream": "stdout",
       "text": [
        "Largest value of load resistance to provide constant current is  750.0  ohm.\n",
        "Variation of current from the short-cicuit current is  0.0476 .\n"
       ]
      }
     ],
     "prompt_number": 6
    },
    {
     "cell_type": "heading",
     "level": 2,
     "metadata": {},
     "source": [
      "Example 9.6 , Page Number 168"
     ]
    },
    {
     "cell_type": "code",
     "collapsed": false,
     "input": [
      "import math\n",
      "\n",
      "#Variables\n",
      "\n",
      "VS = 12.0                  #Source Voltage (in volts)\n",
      "RS = 3.0                   #Source resistance (in ohm)\n",
      "\n",
      "#Calculation\n",
      "\n",
      "IS = VS / RS               #Source current (in Ampere)\n",
      "\n",
      "#Result\n",
      "\n",
      "print \"Current source value is \",IS,\" A.\""
     ],
     "language": "python",
     "metadata": {},
     "outputs": [
      {
       "output_type": "stream",
       "stream": "stdout",
       "text": [
        "Current source value is  4.0  A.\n"
       ]
      }
     ],
     "prompt_number": 7
    },
    {
     "cell_type": "heading",
     "level": 2,
     "metadata": {},
     "source": [
      "Example 9.7 , Page Number 169"
     ]
    },
    {
     "cell_type": "code",
     "collapsed": false,
     "input": [
      "import math\n",
      "\n",
      "#Variables\n",
      "\n",
      "IS = 5.0                    #Source current (in milli-Ampere)\n",
      "RS = 2.0                    #Source resistance (in kilo-ohm)\n",
      "\n",
      "#Calculation\n",
      "\n",
      "VS = IS * RS                #Voltage source (in volts)\n",
      "\n",
      "#Result\n",
      "\n",
      "print \"Equivalent voltage source is \",VS,\" V.\""
     ],
     "language": "python",
     "metadata": {},
     "outputs": [
      {
       "output_type": "stream",
       "stream": "stdout",
       "text": [
        "Equivalent voltage source is  10.0  V.\n"
       ]
      }
     ],
     "prompt_number": 8
    },
    {
     "cell_type": "heading",
     "level": 2,
     "metadata": {},
     "source": [
      "Example 9.8 , Page Number 169"
     ]
    },
    {
     "cell_type": "code",
     "collapsed": false,
     "input": [
      "import math\n",
      "\n",
      "#Variables\n",
      "\n",
      "IS =1.5                 #Source current (in milli-Ampere)\n",
      "RS = 2                  #Source resistance (in kilo-ohm)\n",
      "\n",
      "#Calculation\n",
      "\n",
      "RL = 10*40/(10+40)      #Load Reistance (in kilo-ohm)\n",
      "IL = IS * RS/(RL +RS)   #Load current (in milli-Ampere)\n",
      "IL2 = IL * 10/(10 +40)  #Current through part 2 (in milli-Ampere)\n",
      "VS = IS * RS            #Souce voltage (in volts)\n",
      "\n",
      "#Result\n",
      "\n",
      "print \"current through 40 kilo-ohm resistor is \",IL2,\" mA.\"\n",
      "print \"Equivalent volage source is \",VS,\" V.\""
     ],
     "language": "python",
     "metadata": {},
     "outputs": [
      {
       "output_type": "stream",
       "stream": "stdout",
       "text": [
        "current through 40 kilo-ohm resistor is  0.06  mA.\n",
        "Equivalent volage source is  3.0  V.\n"
       ]
      }
     ],
     "prompt_number": 9
    }
   ],
   "metadata": {}
  }
 ]
}