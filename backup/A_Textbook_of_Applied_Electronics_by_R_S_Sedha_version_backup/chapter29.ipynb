{
 "metadata": {
  "name": "",
  "signature": "sha256:d9b60f8cd8162483730ad384ab7c7d7f2f7f6698c9c40e79bba3ee3df33d40e7"
 },
 "nbformat": 3,
 "nbformat_minor": 0,
 "worksheets": [
  {
   "cells": [
    {
     "cell_type": "heading",
     "level": 1,
     "metadata": {},
     "source": [
      "Chapter 29 , Feedback Amplifiers"
     ]
    },
    {
     "cell_type": "heading",
     "level": 2,
     "metadata": {},
     "source": [
      "Example 29.1 , Page Number 730"
     ]
    },
    {
     "cell_type": "code",
     "collapsed": false,
     "input": [
      "#Variables\n",
      "\n",
      "Av = 400.0                     #Voltage gain\n",
      "beta = 0.1                     #feedback ratio\n",
      "\n",
      "#Calculation\n",
      "\n",
      "A1v = Av / (1 + beta * Av)     #Voltage gain with negative feedback\n",
      "\n",
      "#Result\n",
      "\n",
      "print \"The voltage gain of an amplifier with negative feedback is \",round(A1v,2),\".\""
     ],
     "language": "python",
     "metadata": {},
     "outputs": [
      {
       "output_type": "stream",
       "stream": "stdout",
       "text": [
        "The voltage gain of an amplifier with negative feedback is  9.76 .\n"
       ]
      }
     ],
     "prompt_number": 1
    },
    {
     "cell_type": "heading",
     "level": 2,
     "metadata": {},
     "source": [
      "Example 29.2 , Page Number 730"
     ]
    },
    {
     "cell_type": "code",
     "collapsed": false,
     "input": [
      "#Variables\n",
      "\n",
      "Av = 100.0                     #Voltage gain\n",
      "A1v = 20.0                     #Voltage gain with negative feedback  \n",
      "\n",
      "#Calculation\n",
      "\n",
      "beta = (Av/A1v - 1) / Av       #feedback ratio \n",
      "\n",
      "#Result\n",
      "\n",
      "print \"The percentage of the negative feedback is \",beta * 100,\"%.\""
     ],
     "language": "python",
     "metadata": {},
     "outputs": [
      {
       "output_type": "stream",
       "stream": "stdout",
       "text": [
        "The percentage of the negative feedback is  4.0 %.\n"
       ]
      }
     ],
     "prompt_number": 2
    },
    {
     "cell_type": "heading",
     "level": 2,
     "metadata": {},
     "source": [
      "Example 29.3 , Page Number 730"
     ]
    },
    {
     "cell_type": "code",
     "collapsed": false,
     "input": [
      "#Variables\n",
      "\n",
      "Av = 1000.0                     #Voltage gain\n",
      "A1v = 10.0                      #Voltage gain with negative feedback  \n",
      "\n",
      "#Calculation\n",
      "\n",
      "beta = (Av/A1v - 1) / Av        #feedback ratio \n",
      "\n",
      "#Result\n",
      "\n",
      "print \"The fraction of the output that is feedback to the input is \",beta,\".\""
     ],
     "language": "python",
     "metadata": {},
     "outputs": [
      {
       "output_type": "stream",
       "stream": "stdout",
       "text": [
        "The fraction of the output that is feedback to the input is  0.099 .\n"
       ]
      }
     ],
     "prompt_number": 3
    },
    {
     "cell_type": "heading",
     "level": 2,
     "metadata": {},
     "source": [
      "Example 29.4 , Page Number 730"
     ]
    },
    {
     "cell_type": "code",
     "collapsed": false,
     "input": [
      "#Variables\n",
      "\n",
      "V1o = Vo = 12.5                 #Output voltage (in volts)\n",
      "V1in = 1.5                      #Input voltage with feedback (in volts)\n",
      "Vin = 0.25                      #Input voltage without feedback (in volts)\n",
      "\n",
      "#Calculation\n",
      "\n",
      "Av = Vo / Vin                   #Voltage gain without negative feedback\n",
      "A1v = V1o / V1in                #Voltage gain with negative feedback\n",
      "beta = (Av/A1v - 1) / Av        #feedback ratio \n",
      "\n",
      "#Result\n",
      "\n",
      "print \"The value of voltage gain without negative feedback is \",Av,\".\\nThe value of voltage gain with negative feedback is \",round(A1v,2),\".\\nThe value of beta is \",beta,\".\""
     ],
     "language": "python",
     "metadata": {},
     "outputs": [
      {
       "output_type": "stream",
       "stream": "stdout",
       "text": [
        "The value of voltage gain without negative feedback is  50.0 .\n",
        "The value of voltage gain with negative feedback is  8.33 .\n",
        "The value of beta is  0.1 .\n"
       ]
      }
     ],
     "prompt_number": 4
    },
    {
     "cell_type": "heading",
     "level": 2,
     "metadata": {},
     "source": [
      "Example 29.5 , Page Number 731"
     ]
    },
    {
     "cell_type": "code",
     "collapsed": false,
     "input": [
      "#Variables\n",
      "\n",
      "Av = 60.0                       #Voltage gain\n",
      "A1v = 80.0                      #Voltage gain with negative feedback\n",
      "\n",
      "#Calculation\n",
      "\n",
      "beta = (1 - Av/A1v ) / Av       #feedback ratio \n",
      "beta1 = 1/Av                    #feedback ratio which causes oscillation\n",
      "\n",
      "#Result\n",
      "\n",
      "print \"Value of feedback ratio is \",round(beta,3),\".\\nThe percentage of feedback which causes oscillation is \",round(beta1 * 100,1),\"%.\""
     ],
     "language": "python",
     "metadata": {},
     "outputs": [
      {
       "output_type": "stream",
       "stream": "stdout",
       "text": [
        "Value of feedback ratio is  0.004 .\n",
        "The percentage of feedback which causes oscillation is  1.7 %.\n"
       ]
      }
     ],
     "prompt_number": 5
    },
    {
     "cell_type": "heading",
     "level": 2,
     "metadata": {},
     "source": [
      "Example 29.6 , Page Number 732"
     ]
    },
    {
     "cell_type": "code",
     "collapsed": false,
     "input": [
      "#Variables\n",
      "\n",
      "A1v = 100.0                      #Voltage gain with negative feedback\n",
      "Vin = 50.0 * 10**-3              #Input voltage without feedback (in volts)\n",
      "V1in = 0.6                       #Input voltage with feedback (in volts)  \n",
      "\n",
      "#Calculation\n",
      "\n",
      "V1o = A1v * V1in                 #Output voltage with feedback (in volts)\n",
      "Vo = V1o                         #Output voltage without feedback (in volts)   \n",
      "Av = Vo / Vin                    #Voltage gain without feedback \n",
      "beta = (Av/A1v - 1) / Av         #feedback ratio \n",
      "\n",
      "#Result\n",
      "\n",
      "print \"The value of voltage gain without feedback is \",Av,\".\\nThe value of voltage gain with feedback is \",A1v,\".\""
     ],
     "language": "python",
     "metadata": {},
     "outputs": [
      {
       "output_type": "stream",
       "stream": "stdout",
       "text": [
        "The value of voltage gain without feedback is  1200.0 .\n",
        "The value of voltage gain with feedback is  100.0 .\n"
       ]
      }
     ],
     "prompt_number": 6
    },
    {
     "cell_type": "heading",
     "level": 2,
     "metadata": {},
     "source": [
      "Example 29.7 , Page Number 733"
     ]
    },
    {
     "cell_type": "code",
     "collapsed": false,
     "input": [
      "#Variables\n",
      "\n",
      "Av = 800.0                                 #Voltage gain\n",
      "beta = 0.05                                #Feedback ratio  \n",
      "dAvbyAv = 20.0                             #Percentage change in open loop gain\n",
      "\n",
      "#Calculation\n",
      "\n",
      "dA1vbyA1v = 1 / (1 + beta*Av)*dAvbyAv      #Percentage change in closed loop gain \n",
      "\n",
      "#Result\n",
      "\n",
      "print \"The percentage change in closed loop gain is \",round(dA1vbyA1v,1),\"%.\""
     ],
     "language": "python",
     "metadata": {},
     "outputs": [
      {
       "output_type": "stream",
       "stream": "stdout",
       "text": [
        "The percentage change in closed loop gain is  0.5 %.\n"
       ]
      }
     ],
     "prompt_number": 7
    },
    {
     "cell_type": "heading",
     "level": 2,
     "metadata": {},
     "source": [
      "Example 29.8 , Page Number 733"
     ]
    },
    {
     "cell_type": "code",
     "collapsed": false,
     "input": [
      "#Variables\n",
      "\n",
      "A1v = 100.0                            #Voltage gain with feedback\n",
      "dA1vbyA1v = 0.01                       #Percentage change in closed loop gain   \n",
      "dAvbyAv = 0.20                         #Percentage change in open loop gain\n",
      "\n",
      "#Calculation\n",
      "\n",
      "betamultAvplus1 = dAvbyAv/dA1vbyA1v    #Product of feedback ratio and voltage ratio plus one\n",
      "Av = A1v * betamultAvplus1             #Voltage gain without feedback    \n",
      "beta = betamultAvplus1 / Av            #Feedback ratio      \n",
      "\n",
      "#Result\n",
      "\n",
      "print \"The value of Av is \",Av,\".\\nThe value of beta is \",beta,\".\""
     ],
     "language": "python",
     "metadata": {},
     "outputs": [
      {
       "output_type": "stream",
       "stream": "stdout",
       "text": [
        "The value of Av is  2000.0 .\n",
        "The value of beta is  0.01 .\n"
       ]
      }
     ],
     "prompt_number": 8
    },
    {
     "cell_type": "heading",
     "level": 2,
     "metadata": {},
     "source": [
      "Example 29.9 , Page Number 735"
     ]
    },
    {
     "cell_type": "code",
     "collapsed": false,
     "input": [
      "#Variables\n",
      "\n",
      "Av = 100.0                    #Voltage gain without feedback\n",
      "BW = 200.0 * 10**3            #Bandwidth without feedback (in Hertz)\n",
      "beta = 0.05                   #Feedback ratio\n",
      "BWn = 1.0 * 10**6             #New bandwidth without feedback (in Hertz)\n",
      "\n",
      "#Calculation\n",
      "\n",
      "BW1 = (1 + beta*Av) * BW      #Bandwidth with feedback (in Hertz)  \n",
      "A1v = Av/(1 + beta*Av)        #Voltage gain with feedback\n",
      "beta1 = (BWn/BW - 1)/Av       #Amount of feedback required \n",
      "\n",
      "#Result\n",
      "\n",
      "print \"The new bandwidth is \",BW1 * 10**-3,\" kHz.\\nThe new gain is \",round(A1v,1),\".\"\n",
      "print \"Amout of feedback required when BW = 1MHz is \",beta1 * 100,\"%.\""
     ],
     "language": "python",
     "metadata": {},
     "outputs": [
      {
       "output_type": "stream",
       "stream": "stdout",
       "text": [
        "The new bandwidth is  1200.0  kHz.\n",
        "The new gain is  16.7 .\n",
        "Amout of feedback required when BW = 1MHz is  4.0 %.\n"
       ]
      }
     ],
     "prompt_number": 9
    },
    {
     "cell_type": "heading",
     "level": 2,
     "metadata": {},
     "source": [
      "Example 29.10 , Page Number 735"
     ]
    },
    {
     "cell_type": "code",
     "collapsed": false,
     "input": [
      "#Variables\n",
      "\n",
      "Av = 1500.0                      #Voltage gain\n",
      "BW = 4.0 * 10**6                 #Bandwidth wihtout feedback (in Hertz)\n",
      "A1v = 150.0                      #Voltage gain with feedback\n",
      "\n",
      "#Calculation\n",
      "\n",
      "beta = (Av/A1v -1) / Av          #Feedback ratio\n",
      "BW1 = (1 + beta*Av) * BW         #Bandwidth with feedback (in Hertz) \n",
      "\n",
      "#Result\n",
      "\n",
      "print \"The value of feedback factor is \",beta * 100,\"%.\\nThe value of bandwidth with feedback is \",BW1 * 10**-6,\" MHz.\" "
     ],
     "language": "python",
     "metadata": {},
     "outputs": [
      {
       "output_type": "stream",
       "stream": "stdout",
       "text": [
        "The value of feedback factor is  0.6 %.\n",
        "The value of bandwidth with feedback is  40.0  MHz.\n"
       ]
      }
     ],
     "prompt_number": 10
    },
    {
     "cell_type": "heading",
     "level": 2,
     "metadata": {},
     "source": [
      "Example 29.11 , Page Number 736"
     ]
    },
    {
     "cell_type": "code",
     "collapsed": false,
     "input": [
      "#Variables\n",
      "\n",
      "Rin = 4.2 * 10**3                    #Input resistance (in ohm)\n",
      "Av = 220.0                           #Voltage gain without feedback\n",
      "beta = 0.01                          #Feedback ratio\n",
      "f1 = 1.5 * 10**3                     #Cut off frequency without feedback (in Hertz)\n",
      "f2 = 501.5 * 10**3                   #Cut off frequency with feedback (in Hertz)\n",
      "\n",
      "#Calculation\n",
      "\n",
      "R1i = (1 + beta * Av) * Rin          #Input resistance of feedback amplifier (in ohm)\n",
      "f11 = f1 / (1 + beta * Av)           #New cut off frequency without feedback (in Hertz) \n",
      "f21 = (1 + beta * Av) * f2           #New cut off frequency with feedback (in Hertz)  \n",
      "\n",
      "#Result\n",
      "\n",
      "print \"The value of input resistance with feedback is \",R1i * 10**-3,\" kilo-ohm.\\nNew cut off frequency without feedback is \",round(f11),\" Hz.\\nNew cut off frequency with feedback is \",f21 * 10**-3,\"  kHz.\""
     ],
     "language": "python",
     "metadata": {},
     "outputs": [
      {
       "output_type": "stream",
       "stream": "stdout",
       "text": [
        "The value of input resistance with feedback is  13.44  kilo-ohm.\n",
        "New cut off frequency without feedback is  469.0  Hz.\n",
        "New cut off frequency with feedback is  1604.8   kHz.\n"
       ]
      }
     ],
     "prompt_number": 11
    },
    {
     "cell_type": "heading",
     "level": 2,
     "metadata": {},
     "source": [
      "Example 29.12 , Page Number 737"
     ]
    },
    {
     "cell_type": "code",
     "collapsed": false,
     "input": [
      "#Variables\n",
      "\n",
      "Av = 1000.0                           #Voltage gain without feedback\n",
      "beta = 0.01                           #Feedback ratio\n",
      "f1 = 50.0                             #Cut off frequency without feedback (in Hertz)\n",
      "f2 = 200.0 * 10**3                    #Cut off frequency with feedback (in Hertz)\n",
      "D = 0.05                              #Distortion \n",
      "\n",
      "#Calculation\n",
      "\n",
      "A1v = Av / (1 + beta * Av)            #Voltage gain with feedback\n",
      "f11 = f1 / (1 + beta * Av)            #New cut off frequency without feedback (in Hertz) \n",
      "f21 = (1 + beta * Av) * f2            #New cut off frequency with feedback (in Hertz)  \n",
      "D1 = D/(1 + beta * Av)                #New Distortion\n",
      "\n",
      "#Result\n",
      "\n",
      "print \"Voltage gain with feedback is \",round(A1v,1),\".\\nf11 is \",round(f11,1),\" Hz.\\nf21 is \",f21 * 10**-6,\" MHz.\\nDistortion with feedback is \",round(D1 * 100,2),\"%.\" "
     ],
     "language": "python",
     "metadata": {},
     "outputs": [
      {
       "output_type": "stream",
       "stream": "stdout",
       "text": [
        "Voltage gain with feedback is  90.9 .\n",
        "f11 is  4.5  Hz.\n",
        "f21 is  2.2  MHz.\n",
        "Distortion with feedback is  0.45 %.\n"
       ]
      }
     ],
     "prompt_number": 12
    },
    {
     "cell_type": "heading",
     "level": 2,
     "metadata": {},
     "source": [
      "Example 29.13 , Page Number 737"
     ]
    },
    {
     "cell_type": "code",
     "collapsed": false,
     "input": [
      "#Variables\n",
      "\n",
      "Av = 100.0                      #Voltage gain without feedback\n",
      "N = 0.8                         #Reduction in noise\n",
      "\n",
      "#Calculation\n",
      "\n",
      "beta = ((1 - N)**-1  - 1)/Av    #feedback ratio\n",
      "A1v = Av / (1 + beta * Av)      #Voltage gain with feedback\n",
      "\n",
      "#Result\n",
      "\n",
      "print \"Percentage of negative feedback is \",beta * 100,\"%.\\nVoltage gain with feedback is \",A1v,\".\""
     ],
     "language": "python",
     "metadata": {},
     "outputs": [
      {
       "output_type": "stream",
       "stream": "stdout",
       "text": [
        "Percentage of negative feedback is  4.0 %.\n",
        "Voltage gain with feedback is  20.0 .\n"
       ]
      }
     ],
     "prompt_number": 13
    },
    {
     "cell_type": "heading",
     "level": 2,
     "metadata": {},
     "source": [
      "Example 29.14 , Page Number 739"
     ]
    },
    {
     "cell_type": "code",
     "collapsed": false,
     "input": [
      "#Variables\n",
      "\n",
      "Av = 300.0                    #Voltage gain without feedback\n",
      "Ri = 1.5 * 10**3              #Input resistance (in ohm)\n",
      "Ro = 50.0 * 10**3             #Output resistance (in ohm)\n",
      "beta = 1.0/15.0               #feedback ratio  \n",
      "\n",
      "#Calculation\n",
      "\n",
      "A1v = Av/ (1 + beta*Av)       #Voltage gain with feedback \n",
      "R1i = (1 + beta* Av)* Ri      #Input resistance with feedback (in ohm)    \n",
      "R1o = Ro/(1 + beta * Av)      #Output resistance with feedback (in ohm)\n",
      "\n",
      "#Result\n",
      "\n",
      "print \"Voltage gain with feedback is \",round(A1v,1),\".\\nInput resistance with feedback is \",R1i * 10**-3,\" kilo-ohm.\\nOutput resistance with feedback is \",round(R1o * 10**-3,1),\" kilo-ohm.\""
     ],
     "language": "python",
     "metadata": {},
     "outputs": [
      {
       "output_type": "stream",
       "stream": "stdout",
       "text": [
        "Voltage gain with feedback is  14.3 .\n",
        "Input resistance with feedback is  31.5  kilo-ohm.\n",
        "Output resistance with feedback is  2.4  kilo-ohm.\n"
       ]
      }
     ],
     "prompt_number": 16
    },
    {
     "cell_type": "heading",
     "level": 2,
     "metadata": {},
     "source": [
      "Example 29.15 , Page Number 741"
     ]
    },
    {
     "cell_type": "code",
     "collapsed": false,
     "input": [
      "#Variables\n",
      "\n",
      "hfe = 100.0                              #hfe \n",
      "hie = 2.0 * 10**3                        #hie (in ohm)\n",
      "Re1 = 100.0                              #Emitter resistance (in ohm)\n",
      "R1 = 15.0 * 10**3                        #Resistance (in ohm)\n",
      "R2 = 5.6 * 10**3                         #Resistance (in ohm)\n",
      "Rc = 470.0                               #Collector resistance (in ohm)\n",
      "\n",
      "#Calculation\n",
      "\n",
      "Ai = hfe                                 #Current gain\n",
      "Av = Ai * Rc / hie                       #Voltage gain \n",
      "Ri = (R1*R2*hie)/(R1*R2+R2*hie+R1*hie)   #Input resistance (in ohm)  \n",
      "beta = Re1 / Rc                          #feedback ratio \n",
      "A1v = Av / (1 + beta * Av)               #Voltage ratio with feedback\n",
      "R1i = Ri*(1 + beta * Av)                 #Input resistancewith feedback (in ohm)\n",
      "\n",
      "#Result\n",
      "\n",
      "print \"Voltage gain without feedback is \",Av,\".\\nInput resistance without feedback is \",round(Ri),\" kilo-ohm.\\nVoltage gain with feedback is \",round(A1v,2),\".\\nInput resistance with feedback is \",round(R1i,1),\" kilo-ohm.\"\n",
      "\n",
      "#Slight variation due to higher precision."
     ],
     "language": "python",
     "metadata": {},
     "outputs": [
      {
       "output_type": "stream",
       "stream": "stdout",
       "text": [
        "Voltage gain without feedback is  23.5 .\n",
        "Input resistance without feedback is  1342.0  kilo-ohm.\n",
        "Voltage gain with feedback is  3.92 .\n",
        "Input resistance with feedback is  8051.1  kilo-ohm.\n"
       ]
      }
     ],
     "prompt_number": 14
    },
    {
     "cell_type": "heading",
     "level": 2,
     "metadata": {},
     "source": [
      "Example 29.16 , Page Number 743"
     ]
    },
    {
     "cell_type": "code",
     "collapsed": false,
     "input": [
      "#Variables\n",
      "\n",
      "hfe = 99.0                             #hfe\n",
      "hie = 2.0 * 10**3                      #hie (in ohm)\n",
      "Rc = 22.0 * 10**3                      #Load resistor of frist stage (in ohm)   \n",
      "R4  = 100.0                            #Emitter resistance of first stage (in ohm)\n",
      "R1 = 220.0 * 10**3                     #Biasing resistor of second stage (in ohm)\n",
      "R2 = 22.0 * 10**3                      #Biasing resistor of second stage (in ohm)\n",
      "R1c = 4.7 * 10**3                      #Load resistance of second stage (in ohm)\n",
      "R3 = 7.8 * 10**3                       #Feedback resistor from collector of second stage to emitter of first stage (in ohm)\n",
      "\n",
      "#Calculation\n",
      "\n",
      "Ri = hie                               #Input resistance of first stage (in ohm)\n",
      "Ro1 = (1/Rc + 1/R1 + 1/R2 + 1/hie)**-1 #Output resistance of first stage (in ohm)\n",
      "Ri2 = hie                              #Input resistance of second stage (in ohm)  \n",
      "Ro2 = R1c * (R3 + R4)/(R1c + R3 + R4)  #Output resistance of second stage (in ohm)\n",
      "Av1 = hfe * Ro1 / hie                  #Voltage gain of first stage  \n",
      "Av2 = hfe * Ro2 / hie                  #Voltage gain of second stage \n",
      "Av = Av1 * Av2                         #Overall voltage gain without feedback\n",
      "beta = R4 / (R3 + R4)                  #Feedback ratio\n",
      "Ri1 = Ri*(1 + beta*Av)                 #Input resistance with feedback (in ohm)\n",
      "R1o2 = Ro2 / (1 + beta * Av)           #Output resistance with feedback (in ohm)\n",
      "A1v = Av / (1 + beta * Av)             #Overall voltage gain with feedback   \n",
      "\n",
      "#Result\n",
      "\n",
      "print \"Voltage gain without feedback is \",round(Av,1),\".\\nInput resistance of first stage without feedback is \",Ri * 10**-3,\" kilo-ohm.\\nInput resistance of second stage without feedback is \",Ri2 * 10**-3,\" kilo-ohm.\\nOutput resistance of first stage without feedback is \",round(Ro1 * 10**-3,2),\" kilo-ohm.\\nOutput resistance of second stage without feedback is \",round(Ro2 * 10**-3,2),\" kilo-ohm .\"\n",
      "print \"Voltage gain with feedback is \",round(A1v,1),\".\\nInput resistance with feedback is \",round(Ri1 * 10**-3,2),\" kilo-ohm.\\nOutput resistance with feedback is \",round(R1o2 * 10**-3,3),\" kilo-ohm.\"\n",
      "\n",
      "#Calculation error in book about value of Av."
     ],
     "language": "python",
     "metadata": {},
     "outputs": [
      {
       "output_type": "stream",
       "stream": "stdout",
       "text": [
        "Voltage gain without feedback is  12126.0 .\n",
        "Input resistance of first stage without feedback is  2.0  kilo-ohm.\n",
        "Input resistance of second stage without feedback is  2.0  kilo-ohm.\n",
        "Output resistance of first stage without feedback is  1.68  kilo-ohm.\n",
        "Output resistance of second stage without feedback is  2.95  kilo-ohm .\n",
        "Voltage gain with feedback is  78.5 .\n",
        "Input resistance with feedback is  308.99  kilo-ohm.\n",
        "Output resistance with feedback is  0.019  kilo-ohm.\n"
       ]
      }
     ],
     "prompt_number": 1
    }
   ],
   "metadata": {}
  }
 ]
}