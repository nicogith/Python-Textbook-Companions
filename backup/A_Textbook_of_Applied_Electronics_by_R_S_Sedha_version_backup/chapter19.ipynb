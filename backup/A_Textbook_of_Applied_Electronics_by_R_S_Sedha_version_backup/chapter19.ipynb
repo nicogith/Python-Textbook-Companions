{
 "metadata": {
  "name": "",
  "signature": "sha256:760d87102b04913aaa22840fc9fc7b602772718e8c95e475054a2d67f69d9015"
 },
 "nbformat": 3,
 "nbformat_minor": 0,
 "worksheets": [
  {
   "cells": [
    {
     "cell_type": "heading",
     "level": 1,
     "metadata": {},
     "source": [
      "Chapter 19 , Rectifiers and Filters"
     ]
    },
    {
     "cell_type": "heading",
     "level": 2,
     "metadata": {},
     "source": [
      "Example 19.1 , Page Number 430"
     ]
    },
    {
     "cell_type": "code",
     "collapsed": false,
     "input": [
      "#Variables\n",
      "\n",
      "V1 = 230.0                      #Primary voltage (in volts)\n",
      "N2byN1 = 1.0/10                 #Turns ratio\n",
      "\n",
      "#Calculation\n",
      "\n",
      "V2 = V1 * N2byN1                #Secondary voltage (in ratio)\n",
      "Vm = 2**0.5 * V2                #Maximum value of secondary voltage (in volts)\n",
      "Vdc = 0.318 * Vm                #dc output voltage (in volts)\n",
      "PIV = Vm                        #Peak inverse voltage (in volts)  \n",
      "\n",
      "#Result\n",
      "\n",
      "print \"dc output voltage is \",round(Vdc,1),\" V.\\nPIV of the diode is \",round(PIV,1),\" V.\" "
     ],
     "language": "python",
     "metadata": {},
     "outputs": [
      {
       "output_type": "stream",
       "stream": "stdout",
       "text": [
        "dc output voltage is  10.3  V.\n",
        "PIV of the diode is  32.5  V.\n"
       ]
      }
     ],
     "prompt_number": 1
    },
    {
     "cell_type": "heading",
     "level": 2,
     "metadata": {},
     "source": [
      "Example 19.2 , Page Number 431"
     ]
    },
    {
     "cell_type": "code",
     "collapsed": false,
     "input": [
      "#Variables\n",
      "\n",
      "RL = 20                        #Load resistance (in kilo-ohm)\n",
      "V2 = 24                        #Secondary voltage (in volts)\n",
      "\n",
      "#Calculation\n",
      "\n",
      "Vm = 2**0.5 * V2               #Maximum value of secondary voltage (in volts)\n",
      "Im = Vm / RL                   #Maximumj value of load current (in milli-Ampere)\n",
      "Idc = 0.318 * Im               #dc current (in milli-Ampere)\n",
      "\n",
      "#Result\n",
      "\n",
      "print \"The value of dc load current is \",round(Idc,3),\" mA.\""
     ],
     "language": "python",
     "metadata": {},
     "outputs": [
      {
       "output_type": "stream",
       "stream": "stdout",
       "text": [
        "The value of dc load current is  0.54  mA.\n"
       ]
      }
     ],
     "prompt_number": 2
    },
    {
     "cell_type": "heading",
     "level": 2,
     "metadata": {},
     "source": [
      "Example 19.3 , Page Number 431"
     ]
    },
    {
     "cell_type": "code",
     "collapsed": false,
     "input": [
      "#Variables\n",
      "\n",
      "V1 = 230                 #Primary voltage (in volts)\n",
      "N2byN1 = 1.0/2.0         #Turns ratio\n",
      "RL = 200                 #Resistance (in ohm)\n",
      "\n",
      "#Calculation\n",
      "\n",
      "V2 = V1 * N2byN1         #Secondary voltage (in volts)\n",
      "Vm = 2**0.5 * V2         #Maximum value of secondary voltage (in volts)\n",
      "Im = Vm / RL             #Maximum value of load current (in Ampere)\n",
      "Pm = Im**2 * RL          #Maximum value of load power (in watt)\n",
      "Vdc = 0.318 * Vm         #Average value of load power (in watt)\n",
      "Idc = Vdc / RL           #Average value of load current (in Ampere)\n",
      "Pdc = Idc**2 * RL        #Average value of load power (in watt)\n",
      "\n",
      "#Result\n",
      "\n",
      "print \"Maximum value of load power is \",round(Pm,1),\" W.\"\n",
      "print \"Average value of load power is \",round(Pdc,1),\" W.\""
     ],
     "language": "python",
     "metadata": {},
     "outputs": [
      {
       "output_type": "stream",
       "stream": "stdout",
       "text": [
        "Maximum value of load power is  132.3  W.\n",
        "Average value of load power is  13.4  W.\n"
       ]
      }
     ],
     "prompt_number": 3
    },
    {
     "cell_type": "heading",
     "level": 2,
     "metadata": {},
     "source": [
      "Example 19.4 , Page Number 432"
     ]
    },
    {
     "cell_type": "code",
     "collapsed": false,
     "input": [
      "import math\n",
      "\n",
      "#Variables\n",
      "\n",
      "Vdc = 30.0                    #Average value of voltage (in volts)\n",
      "RL = 600.0                    #Load resistance (in ohm)\n",
      "Rf = 25.0                     #forward resistance (in ohm)\n",
      "\n",
      "#Calculation\n",
      "\n",
      "Idc = Vdc / RL                #Average value of load current (in Ampere)\n",
      "Im = round(math.pi * Idc,3)   #Maximum value of load current (in Ampere) \n",
      "Vinmax = Im * (Rf + RL)       #Maximum a.c. voltage required at the input (in volts)\n",
      "\n",
      "#Result\n",
      "\n",
      "print \"Maximum a.c. voltage required at the input is \",Vinmax,\" V.\""
     ],
     "language": "python",
     "metadata": {},
     "outputs": [
      {
       "output_type": "stream",
       "stream": "stdout",
       "text": [
        "Maximum a.c. voltage required at the input is  98.125  V.\n"
       ]
      }
     ],
     "prompt_number": 2
    },
    {
     "cell_type": "heading",
     "level": 2,
     "metadata": {},
     "source": [
      "Example 19.5 , Page Number 436"
     ]
    },
    {
     "cell_type": "code",
     "collapsed": false,
     "input": [
      "#Variables\n",
      "\n",
      "V2 = 30.0                 #secondary voltage (in volts)\n",
      "RL = 5.1                  #Load resistance (in kilo-ohm)\n",
      "\n",
      "#Calculation\n",
      "\n",
      "VS = V2 / 2               #Voltage between center - tap and either end of secondary winding (in volts)\n",
      "Vm = 2**0.5 * VS          #maximum value of voltage (in volts)\n",
      "Vdc = 0.636 * Vm          #dc output voltage (in volts)\n",
      "Idc = Vdc / RL            #dc load current (in milli-Ampere)\n",
      "\n",
      "#Result\n",
      "\n",
      "print \"The dc output voltage is \",round(Vdc,1),\" V.\\nThe dc output current is \",round(Idc,3),\" mA.\" \n",
      "\n",
      "#Slight variation in value of Idc due to less precision used in book"
     ],
     "language": "python",
     "metadata": {},
     "outputs": [
      {
       "output_type": "stream",
       "stream": "stdout",
       "text": [
        "The dc output voltage is  13.5  V.\n",
        "The dc output current is  2.645  mA.\n"
       ]
      }
     ],
     "prompt_number": 5
    },
    {
     "cell_type": "heading",
     "level": 2,
     "metadata": {},
     "source": [
      "Example 19.6 , Page Number 440"
     ]
    },
    {
     "cell_type": "code",
     "collapsed": false,
     "input": [
      "#Variables\n",
      "\n",
      "V1 = 230.0                #primary voltage (in volts)\n",
      "N2byN1 = 1.0/4.0          #Turns ratio\n",
      "RL = 200                  #Load resistance (in ohm)\n",
      "fin = 50                  #Frequency (in hertz)\n",
      "\n",
      "#Calculation\n",
      "\n",
      "V2 = V1 * N2byN1          #Secondary voltage (in volts)\n",
      "Vm = 2**0.5 * V2          #Maximum value of voltage (in volts)\n",
      "Vdc = 0.636 * Vm          #Average value of voltage (in volts)\n",
      "PIV = Vm                  #peak inverse voltage (in volts)\n",
      "fout = 2 * fin            #Output frequency (in volts)     \n",
      "\n",
      "#Result\n",
      "\n",
      "print \"The dc output voltage is \",round(Vdc,1),\" V.\\nPeak inverse Voltage of a diode is \",round(PIV,1),\" V.\\nOutput frequency is \",fout,\" HZ.\""
     ],
     "language": "python",
     "metadata": {},
     "outputs": [
      {
       "output_type": "stream",
       "stream": "stdout",
       "text": [
        "The dc output voltage is  51.7  V.\n",
        "Peak inverse Voltage of a diode is  81.3  V.\n",
        "Output frequency is  100  HZ.\n"
       ]
      }
     ],
     "prompt_number": 6
    },
    {
     "cell_type": "heading",
     "level": 2,
     "metadata": {},
     "source": [
      "Example 19.7 , Page Number 444"
     ]
    },
    {
     "cell_type": "code",
     "collapsed": false,
     "input": [
      "import math\n",
      "\n",
      "#Variables\n",
      "\n",
      "V1 = 230.0                #primary voltage (in volts)\n",
      "N2byN1 = 1.0/5.0          #Turns ratio\n",
      "RL = 100                  #Load resistance (in ohm)\n",
      "\n",
      "#Calculation\n",
      "\n",
      "V2 = V1 * N2byN1          #Secondary voltage (in volts)\n",
      "VS = V2 / 2               #Voltage between center - tap and either end of secondary winding (in volts)\n",
      "Vm = 2**0.5 * VS          #Maximum value of voltage (in volts)\n",
      "Vdc = 2/math.pi * Vm      #Averaage value of Voltage (in volts)\n",
      "PIV = 2 * Vm              #Peak inverse voltage (in volts)\n",
      "n = 0.812                 #Efficiency of full wave rectifier\n",
      "\n",
      "#Result\n",
      "\n",
      "print \"The dc output voltage is \",round(Vdc,1),\" V.\\nPeak inverse voltage is \",round(PIV),\" V.\\nRectification efficiency is \",n,\".\""
     ],
     "language": "python",
     "metadata": {},
     "outputs": [
      {
       "output_type": "stream",
       "stream": "stdout",
       "text": [
        "The dc output voltage is  20.7  V.\n",
        "Peak inverse voltage is  65.0  V.\n",
        "Rectification efficiency is  0.812 .\n"
       ]
      }
     ],
     "prompt_number": 7
    },
    {
     "cell_type": "heading",
     "level": 2,
     "metadata": {},
     "source": [
      "Example 19.8 , Page Number 445"
     ]
    },
    {
     "cell_type": "code",
     "collapsed": false,
     "input": [
      "import math\n",
      "\n",
      "#Variables\n",
      "\n",
      "VS = 200                 #Voltage between center - tap and either end of secondary winding (in volts)\n",
      "Imax = 700               #Maximum value of current (in milli-Ampere)\n",
      "Iavg = 250               #Average value of current (in milli-Ampere)\n",
      "\n",
      "#Calculation\n",
      "\n",
      "Imax1 = 0.8 * Imax       #Maximum value of current for normal operation (in milli-Ampere)\n",
      "Vm = 2**0.5 * VS         #Maximum value of voltage (in volts)\n",
      "RL = Vm / Imax1          #Load resistance (in kilo-ohm)\n",
      "Vdc = 2 * Vm / math.pi   #Average value of voltage (in volts)\n",
      "Idc = Vdc / RL           #Average value of current (in milli-Ampere)\n",
      "PIV = 2 * Vm             #peak Inverse voltage (in volts)\n",
      "\n",
      "#Result\n",
      "\n",
      "print \"The value of load resistor is \",round(RL,3), \"kilo-ohm.\\nThe dc load voltage and current is \",round(Vdc),\" V and \",Idc,\" mA.\\nPeak inverse voltage is \",round(PIV,2),\" V.\"  "
     ],
     "language": "python",
     "metadata": {},
     "outputs": [
      {
       "output_type": "stream",
       "stream": "stdout",
       "text": [
        "The value of load resistor is  0.505 kilo-ohm.\n",
        "The dc load voltage and current is  180.0  V and  356.507072526  mA.\n",
        "Peak inverse voltage is  565.69  V.\n"
       ]
      }
     ],
     "prompt_number": 8
    },
    {
     "cell_type": "heading",
     "level": 2,
     "metadata": {},
     "source": [
      "Example 19.9 , Page Number 449"
     ]
    },
    {
     "cell_type": "code",
     "collapsed": false,
     "input": [
      "#Variables\n",
      "\n",
      "Vs = 150.0            #Voltage (in volts)\n",
      "Idc = 2.0             #Average value of current (in Ampere)\n",
      "\n",
      "#Calculation\n",
      "\n",
      "Vdc = 2.34 * Vs       #Average calue of voltage (in volts)\n",
      "Ipi = 1/0.955 * Idc   #Peak current per diode (in Ampere)\n",
      "Iavg = 2.0/3.0        #Average current per diode (in AMpere)\n",
      "Pdc = Vdc * Idc       #Average power delievered to the load (in watt)\n",
      "\n",
      "#Result\n",
      "\n",
      "print \"The value of Vdc is \",Vdc,\" V.\\nPeak current through each diode is \",round(Ipi,1),\" A.\\nAverage current through each diode is\",round(Iavg,2),\" A.\\nAverage power delievered to the load is \",Pdc,\" W.\"\n",
      "\n",
      "#Calculation error in calculating the value of Pdc in book. It's value is 702 but printed value is 701 watt.  "
     ],
     "language": "python",
     "metadata": {},
     "outputs": [
      {
       "output_type": "stream",
       "stream": "stdout",
       "text": [
        "The value of Vdc is  351.0  V.\n",
        "Peak current through each diode is  2.1  A.\n",
        "Average current through each diode is 0.67  A.\n",
        "Average power delievered to the load is  702.0  W.\n"
       ]
      }
     ],
     "prompt_number": 9
    },
    {
     "cell_type": "heading",
     "level": 2,
     "metadata": {},
     "source": [
      "Example 19.10 , Page Number 454"
     ]
    },
    {
     "cell_type": "code",
     "collapsed": false,
     "input": [
      "import math\n",
      "\n",
      "#Case (a):\n",
      "\n",
      "#Variables\n",
      "\n",
      "f = 50.0                             #Frequency (in Hertz)\n",
      "g = 0.05                             #Ripple factor\n",
      "RL = 100.0                           #Resistance (in ohm)\n",
      "w = 2 * math.pi * f                  #Angular frequency (in radians per second)       \n",
      "\n",
      "#Calculation\n",
      "\n",
      "L = RL / (3 * 2**0.5 * w * g)        #Inductance (in Henry) \n",
      "\n",
      "#Result\n",
      "\n",
      "print \"Value of inductance is \",round(L,1),\" H.\"\n",
      "\n",
      "#Case (b):\n",
      "\n",
      "#Variables\n",
      "\n",
      "f = 400.0                            #Frequency (in Hertz)\n",
      "g = 0.05                             #Ripple factor\n",
      "RL = 100.0                           #Resistance (in ohm)\n",
      "w = 2 * math.pi * f                  #Angular frequency (in radians per second)       \n",
      "\n",
      "#Calculation\n",
      "\n",
      "L = RL / (3 * 2**0.5 * w * g)        #Inductance (in Henry) \n",
      "\n",
      "#Result\n",
      "\n",
      "print \"New Value of inductance is \",round(L,3),\" H.\""
     ],
     "language": "python",
     "metadata": {},
     "outputs": [
      {
       "output_type": "stream",
       "stream": "stdout",
       "text": [
        "Value of inductance is  1.5  H.\n",
        "New Value of inductance is  0.188  H.\n"
       ]
      }
     ],
     "prompt_number": 10
    },
    {
     "cell_type": "heading",
     "level": 2,
     "metadata": {},
     "source": [
      "Example 19.11 , Page Number 455"
     ]
    },
    {
     "cell_type": "code",
     "collapsed": false,
     "input": [
      "#Variables\n",
      "\n",
      "Vdc = 30.0                        #Average value of voltage (in volts)\n",
      "RL = 1.0                          #Resistance (in kilo-ohm)\n",
      "gamma = 0.01                      #Ripple factor\n",
      "f = 50                            #Frequency (in Hertz)\n",
      "#Calculation\n",
      "\n",
      "C = 2890.0 / (gamma * RL)         #Capacitance (in nano Farad)\n",
      "\n",
      "#Result\n",
      "\n",
      "print \"Value of capacitance is \",C * 10**-3,\" micro-Farad.\""
     ],
     "language": "python",
     "metadata": {},
     "outputs": [
      {
       "output_type": "stream",
       "stream": "stdout",
       "text": [
        "Value of capacitance is  289.0  micro-Farad.\n"
       ]
      }
     ],
     "prompt_number": 11
    },
    {
     "cell_type": "heading",
     "level": 2,
     "metadata": {},
     "source": [
      "Example 19.12 , Page Number 456 "
     ]
    },
    {
     "cell_type": "code",
     "collapsed": false,
     "input": [
      "#Variables\n",
      "\n",
      "Vdc = 12.0                    #Average value of voltage (in volts)\n",
      "Idc = 100.0                   #Average value of current (in milli-Ampere) \n",
      "gamma = 0.01                  #Ripple factor\n",
      "L = 1.0                       #Inductance (in Henry) \n",
      "\n",
      "#Calculation\n",
      "\n",
      "C = 1.195 / (gamma * L)       #Capacitance\n",
      "\n",
      "#Result\n",
      "\n",
      "print \"Capacitance is \",C,\" micro-Farad.\""
     ],
     "language": "python",
     "metadata": {},
     "outputs": [
      {
       "output_type": "stream",
       "stream": "stdout",
       "text": [
        "Capacitance is  119.5  micro-Farad.\n"
       ]
      }
     ],
     "prompt_number": 12
    },
    {
     "cell_type": "heading",
     "level": 2,
     "metadata": {},
     "source": [
      "Example 19.13 , Page Number 457"
     ]
    },
    {
     "cell_type": "code",
     "collapsed": false,
     "input": [
      "#Variables\n",
      "\n",
      "Idc = 0.2                            #Average value of current (in Ampere)\n",
      "Vdc = 30.0                           #Average value of voltage (in volts)\n",
      "C1 = C2 = 100.0                      #Capacitance (in milli-Farad)\n",
      "L = 5.0                              #Inductance (in Henry)\n",
      "f = 50.0                             #Frequency (in Hertz) \n",
      "\n",
      "#Calculation\n",
      "\n",
      "RL = Vdc / Idc                       #Load resistance (in ohm)\n",
      "gamma = 5700.0 / (C1 * C2 * RL * L)  #Ripple factor\n",
      " \n",
      "#Result\n",
      "\n",
      "print \"Ripple factor for 50 Hz supply is \",gamma,\".\"\n",
      "\n",
      "#Correction to be done in the formula for ripple factor used in the question. \n",
      "#gamma = 5700 / (c1 * C2 * RL * L) --> right formula."
     ],
     "language": "python",
     "metadata": {},
     "outputs": [
      {
       "output_type": "stream",
       "stream": "stdout",
       "text": [
        "Ripple factor for 50 Hz supply is  0.00076 .\n"
       ]
      }
     ],
     "prompt_number": 13
    }
   ],
   "metadata": {}
  }
 ]
}