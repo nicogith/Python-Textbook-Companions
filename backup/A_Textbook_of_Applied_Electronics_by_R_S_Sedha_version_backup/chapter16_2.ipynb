{
 "cells": [
  {
   "cell_type": "markdown",
   "metadata": {},
   "source": [
    "# Chapter 16 , Field-Effect Transistor"
   ]
  },
  {
   "cell_type": "markdown",
   "metadata": {},
   "source": [
    "## Example 16.1 , Page Number 350"
   ]
  },
  {
   "cell_type": "code",
   "execution_count": 1,
   "metadata": {
    "collapsed": false
   },
   "outputs": [
    {
     "name": "stdout",
     "output_type": "stream",
     "text": [
      "Drain current when VGS = 0 V is  15.0  mA.\n",
      "Drain Current when VGS = -1 V is  9.6  mA.\n",
      "Drain Current when VGS = -4 V is  0.6  mA.\n"
     ]
    }
   ],
   "source": [
    "import math\n",
    "\n",
    "#Variables\n",
    " \n",
    "IDSS = 15.0                            #Drain-Source current (in milli-Ampere)\n",
    "VGSoff = -5.0                          #Gate-Source voltage (in volts)\n",
    "\n",
    "#Calculation\n",
    "\n",
    "#When VGS = 0 volts\n",
    "VGS1 = 0                               #VGS (in volts)\n",
    "ID1 = IDSS * (1 - (VGS1 /VGSoff)**2)   #Drain current (in milli-Ampere)\n",
    "\n",
    "#When VGS = -1 volt\n",
    "VGS2 = -1                              #VGS (in volts)\n",
    "ID2 = IDSS * (1 - VGS2 /VGSoff)**2     #Drain current (in milli-Ampere)\n",
    "\n",
    "#When VGS = -4 volt\n",
    "VGS3 = -4                              #VGS (in volts)  \n",
    "ID3 = IDSS * (1 - VGS3 /VGSoff)**2     #Drain current (in milli-Ampere)\n",
    "\n",
    "#Result\n",
    "\n",
    "print \"Drain current when VGS = 0 V is \",ID1,\" mA.\\nDrain Current when VGS = -1 V is \",ID2,\" mA.\\nDrain Current when VGS = -4 V is \",ID3,\" mA.\"  "
   ]
  },
  {
   "cell_type": "markdown",
   "metadata": {},
   "source": [
    "## Example 16.2 , Page Number 350"
   ]
  },
  {
   "cell_type": "code",
   "execution_count": 1,
   "metadata": {
    "collapsed": false
   },
   "outputs": [
    {
     "name": "stdout",
     "output_type": "stream",
     "text": [
      "Drain current when VGS = 0 V is  6.75  mA.\n",
      "Drain Current when VGS = -1 V is  3.0  mA.\n",
      "Drain Current when VGS = -4 V is  0.75  mA.\n"
     ]
    },
    {
     "data": {
      "text/plain": [
       "<matplotlib.text.Text at 0x60bccf0>"
      ]
     },
     "execution_count": 1,
     "metadata": {},
     "output_type": "execute_result"
    },
    {
     "data": {
      "image/png": "[encoded data removed]",
      "text/plain": [
       "<matplotlib.figure.Figure at 0x60aa770>"
      ]
     },
     "metadata": {},
     "output_type": "display_data"
    }
   ],
   "source": [
    "import numpy\n",
    "%matplotlib inline\n",
    "from matplotlib.pyplot import *\n",
    "\n",
    "#Variables\n",
    "\n",
    "VGSoff = -20.0                          #Gate-Source voltage (in volts)\n",
    "IDSS = 12.0                             #Drain-Source current (in milli-Ampere)\n",
    "\n",
    "#Calculation\n",
    "\n",
    "#When VGS = -5 V \n",
    "VGS1 = -5                               #VGS (in volts)\n",
    "ID1 = IDSS * (1 - VGS1/VGSoff)**2       #Drain current (in milli-Ampere)\n",
    "\n",
    "#When VGS = -10 V\n",
    "VGS2 = -10                              #VGS (in volts)\n",
    "ID2 = IDSS * (1 - VGS2/VGSoff)**2       #Drain current (in milli-Ampere)\n",
    "\n",
    "#When VGS = -15 V\n",
    "VGS3 = -15                              #VGS (in volts)\n",
    "ID3 = IDSS * (1 - VGS3/VGSoff)**2       #Drain current (in milli-Ampere)\n",
    "\n",
    "#Result\n",
    "\n",
    "print \"Drain current when VGS = 0 V is \",ID1,\" mA.\\nDrain Current when VGS = -1 V is \",ID2,\" mA.\\nDrain Current when VGS = -4 V is \",ID3,\" mA.\" \n",
    "\n",
    "#Graph\n",
    "\n",
    "x = numpy.linspace(-20,0,100)\n",
    "y = x\n",
    "plot(x,12*(1+y/20)**2,'r')\n",
    "title(\"transconductance curve\")\n",
    "xlabel(\"Gate-to-Source voltage VGS (V)\")\n",
    "ylabel(\"Drain current ID(mA)\")"
   ]
  },
  {
   "cell_type": "markdown",
   "metadata": {},
   "source": [
    "## Example 16.3 , Page Number 351"
   ]
  },
  {
   "cell_type": "code",
   "execution_count": 2,
   "metadata": {
    "collapsed": false
   },
   "outputs": [
    {
     "name": "stdout",
     "output_type": "stream",
     "text": [
      "The maximum curve and minimum curves are plotted as shown in the following plots.\n"
     ]
    },
    {
     "data": {
      "text/plain": [
       "<matplotlib.text.Annotation at 0x621db30>"
      ]
     },
     "execution_count": 2,
     "metadata": {},
     "output_type": "execute_result"
    },
    {
     "data": {
      "image/png": "[encoded data removed]",
      "text/plain": [
       "<matplotlib.figure.Figure at 0x608d550>"
      ]
     },
     "metadata": {},
     "output_type": "display_data"
    }
   ],
   "source": [
    "import math\n",
    "import numpy\n",
    "%matplotlib inline\n",
    "from matplotlib.pyplot import *\n",
    "\n",
    "#Variables\n",
    "\n",
    "VGSoffmin = -2.0                          #Gate-Source voltage (in volts)\n",
    "VGSoffmax = -6.0                          #Gate-Source voltage (in volts)\n",
    "IDSSmin = 8.0                             #Drain-Source current (in milli-Ampere)\n",
    "IDSSmax = 20                              #Drain-Source current (in milli-Ampere)\n",
    "\n",
    "#Calculation\n",
    "\n",
    "#ID = IDSS * (1 - VGS/VGSoff)**2           #Drain current (in milli-Ampere)\n",
    "\n",
    "#Plotting different values of VGS in the graph\n",
    "\n",
    "#Result\n",
    "print \"The maximum curve and minimum curves are plotted as shown in the following plots.\"\n",
    "\n",
    "#Graph\n",
    "\n",
    "x1 = numpy.linspace(-2,0,2)\n",
    "y1 = x1\n",
    "plot(x1,8 * (1 + y1/2)**2)\n",
    "x2 = numpy.linspace(-6,0,2)\n",
    "y2 = x2\n",
    "plot(x2,20 * (1 + y2/6)**2,'r')\n",
    "title(\"VGs vs ID\")\n",
    "xlabel(\"Gate-to-Source voltage (VGS)\")\n",
    "ylabel(\"Drain current ID (mA)\")\n",
    "annotate(\"maximum curve\",xy=(-5,10))\n",
    "annotate(\"minimum curve\",xy=(-2.5,5))"
   ]
  },
  {
   "cell_type": "markdown",
   "metadata": {},
   "source": [
    "## Example 16.4 , Page Number 356"
   ]
  },
  {
   "cell_type": "code",
   "execution_count": 5,
   "metadata": {
    "collapsed": false
   },
   "outputs": [
    {
     "name": "stdout",
     "output_type": "stream",
     "text": [
      "The value of transconductance is  3.0  mA/V.\n"
     ]
    }
   ],
   "source": [
    "import math\n",
    "\n",
    "#Variables\n",
    "\n",
    "VGS1 = -3.1                          #Gate-Source voltage (in volts)\n",
    "VGS2 = -3.0                          #Gate-Source voltage (in volts)\n",
    "ID1 = 1.0                            #Drain current (in milli-Ampere)                  \n",
    "ID2 = 1.3                            #Drain current (in milli-Ampere)\n",
    "\n",
    "#Calculation\n",
    "\n",
    "dVGS = VGS2 - VGS1                   #Change in Gate-Source voltage (in volts)\n",
    "dID = ID2 - ID1                      #Change in Drain current (in milli-Ampere)\n",
    "gm = dID / dVGS                      #Transconductance (in milli-Ampere per volt)\n",
    "\n",
    "#Result\n",
    "\n",
    "print \"The value of transconductance is \",gm,\" mA/V.\"\n",
    "\n",
    "#Calculation error in book in the value of gm."
   ]
  },
  {
   "cell_type": "markdown",
   "metadata": {},
   "source": [
    "## Example 16.5 , Page Number 357"
   ]
  },
  {
   "cell_type": "code",
   "execution_count": 4,
   "metadata": {
    "collapsed": false
   },
   "outputs": [
    {
     "name": "stdout",
     "output_type": "stream",
     "text": [
      "The value of transconductance at VGS = -4 V is  2500.0  micro-S.\n",
      "The value of drain current at VGs = -4 V is  5.0  mA.\n"
     ]
    }
   ],
   "source": [
    "#Variables\n",
    "\n",
    "IDSS = 20.0                             #Drain-Source current (in milli-Ampere)\n",
    "VP = -8.0                               #Peak-point Voltage (in volts)\n",
    "VGS = -4.0                              #Gate-Source voltage (in volts)\n",
    "gmo = 5000 * 10**-3                     #Transconductance (in milli-Ampere per volt)\n",
    "\n",
    "#Calculation\n",
    "\n",
    "ID = IDSS * (1 - VGS/VP)**2             #Drain current (in milli-Ampere)\n",
    "gm = gmo * (1 - VGS/VP)                 #Transconductance (in milli-Ampere per volt)\n",
    "\n",
    "#Result\n",
    "\n",
    "print \"The value of transconductance at VGS = -4 V is \",gm * 10**3,\" micro-S.\\nThe value of drain current at VGs = -4 V is \",ID,\" mA.\" "
   ]
  },
  {
   "cell_type": "markdown",
   "metadata": {},
   "source": [
    "## Example 16.6 , Page Number 363"
   ]
  },
  {
   "cell_type": "code",
   "execution_count": 3,
   "metadata": {
    "collapsed": false
   },
   "outputs": [
    {
     "name": "stdout",
     "output_type": "stream",
     "text": [
      "Since the value of VGS is negative for the enhancement-type MOSFET ,this indicated that device is P-channel.\n",
      "The value of ID when VGS = -6 V is  1.08  mA.\n"
     ]
    }
   ],
   "source": [
    "import math\n",
    "\n",
    "#Variables\n",
    "\n",
    "IDon = 10.0                           #Drain current (in milli-Ampere)\n",
    "VGS = -12.0                           #Gate-Source voltage (in volts)\n",
    "VGSth = -3.0                          #Threshold Gate-Source voltage  (in volts)\n",
    "VGS1 = -6.0                           #Gate-Source voltage in another case (in volts)\n",
    "\n",
    "#Calculation\n",
    "\n",
    "K = IDon/(VGS - VGSth)**2             #Transconductance (milli-Ampere per volt)\n",
    "ID = round(K,2) * (VGS1 - VGSth)**2   #Drain current (in milli-Ampere)\n",
    "\n",
    "#Result\n",
    "\n",
    "print \"Since the value of VGS is negative for the enhancement-type MOSFET ,this indicated that device is P-channel.\"\n",
    "print \"The value of ID when VGS = -6 V is \",ID,\" mA.\""
   ]
  }
 ],
 "metadata": {
  "kernelspec": {
   "display_name": "Python 2",
   "language": "python",
   "name": "python2"
  },
  "language_info": {
   "codemirror_mode": {
    "name": "ipython",
    "version": 2
   },
   "file_extension": ".py",
   "mimetype": "text/x-python",
   "name": "python",
   "nbconvert_exporter": "python",
   "pygments_lexer": "ipython2",
   "version": "2.7.10"
  }
 },
 "nbformat": 4,
 "nbformat_minor": 0
}
