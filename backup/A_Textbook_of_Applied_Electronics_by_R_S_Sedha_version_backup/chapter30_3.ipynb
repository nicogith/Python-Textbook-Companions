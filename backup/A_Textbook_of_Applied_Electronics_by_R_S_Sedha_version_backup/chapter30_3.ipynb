{
 "cells": [
  {
   "cell_type": "markdown",
   "metadata": {},
   "source": [
    "# Chapter 30 , Field-Effect Transistor Amplifiers"
   ]
  },
  {
   "cell_type": "markdown",
   "metadata": {},
   "source": [
    "## Example 30.1 , Page Number 750"
   ]
  },
  {
   "cell_type": "code",
   "execution_count": 1,
   "metadata": {
    "collapsed": false
   },
   "outputs": [
    {
     "name": "stdout",
     "output_type": "stream",
     "text": [
      "Value of drain-to-source voltage is  2.5  V.\n",
      "Value of Gate-to-source voltage is  -2.5  V.\n"
     ]
    }
   ],
   "source": [
    "import math\n",
    "\n",
    "#Variables\n",
    "\n",
    "ID = 5.0 * 10**-3              #Drain current (in Ampere)\n",
    "VDD = 10.0                     #Voltage (in volts)\n",
    "RD = 1.0 * 10**3               #Drain resistance (in ohm)\n",
    "RS = 500.0                     #Source resistance (in ohm)                    \n",
    "\n",
    "#Calculation\n",
    "\n",
    "VS = ID * RS                   #Source voltage (in volts)\n",
    "VD = VDD - ID * RD             #Drain voltage (in volts)\n",
    "VDS = VD - VS                  #Drain-Source voltage (in volts)\n",
    "VGS = -VS                      #Gate-to-source voltage (in volts)\n",
    "\n",
    "#Result\n",
    "\n",
    "print \"Value of drain-to-source voltage is \",VDS,\" V.\\nValue of Gate-to-source voltage is \",VGS,\" V.\""
   ]
  },
  {
   "cell_type": "markdown",
   "metadata": {},
   "source": [
    "## Example 30.2 , Page Number 751"
   ]
  },
  {
   "cell_type": "code",
   "execution_count": 2,
   "metadata": {
    "collapsed": false
   },
   "outputs": [
    {
     "name": "stdout",
     "output_type": "stream",
     "text": [
      "Value of resistance R1 is  1.5  kilo-ohm.\n"
     ]
    }
   ],
   "source": [
    "import math\n",
    "\n",
    "#Variables\n",
    "\n",
    "RD = 56.0 * 10**3                  #Drain resistance (in ohm)\n",
    "RG = 1.0 * 10**6                   #Gate resistance (in ohm)\n",
    "IDSS = 1.5 * 10**-3                #Drain to ground current (in Ampere)\n",
    "Vp = -1.5                          #Voltage (in volts)\n",
    "VDD = 20.0                         #Supply voltage (in volts)\n",
    "VD = 10.0                          #Drain voltage (in volts)  \n",
    "R = 4.0 * 10**3                    #Resistance (in ohm)  \n",
    "\n",
    "#Calculation\n",
    "\n",
    "ID = (VDD - VD) / RD               #Drain current (in Ampere) \n",
    "VGS = (1 - (ID / IDSS)**0.5)*Vp    #Gate-to-source voltage (in volts)\n",
    "VS = -VGS                          #Source voltage (in volts)  \n",
    "R1 = VS / ID - R                   #Resistance R1 (in ohm)\n",
    "\n",
    "#Result\n",
    "\n",
    "print \"Value of resistance R1 is \",round(R1 * 10**-3,1),\" kilo-ohm.\""
   ]
  },
  {
   "cell_type": "markdown",
   "metadata": {},
   "source": [
    "## Example 30.3 , Page Number 752"
   ]
  },
  {
   "cell_type": "code",
   "execution_count": 3,
   "metadata": {
    "collapsed": false
   },
   "outputs": [
    {
     "name": "stdout",
     "output_type": "stream",
     "text": [
      "Value of RS is  933.0  ohm.\n",
      "Value of RD is  5.7  kilo-ohm.\n"
     ]
    }
   ],
   "source": [
    "import math\n",
    "\n",
    "#Variables\n",
    "\n",
    "ID = 1.5 * 10**-3                  #Drain current (in Ampere)\n",
    "IDSS = 5.0 * 10**-3                #Drain-to-source current (in Ampere)     \n",
    "Vp = -2.0                          #Voltage (in volts)\n",
    "VDS = 10.0                         #Drain-to-source voltage (in volts)\n",
    "VDD = 20.0                         #Supply voltage (in volts)  \n",
    "\n",
    "#Calculation\n",
    "\n",
    "VGS = (1 - ID/IDSS)*Vp             #Gate-to-Source voltage (in volts)\n",
    "VS = -VGS                          #Source voltage (in volts)\n",
    "RS = VS / ID                       #Source resistance (in ohm)\n",
    "RD = (VDD - VDS) / ID - RS         #Drain resistance (in ohm)\n",
    "\n",
    "#Result\n",
    "\n",
    "print \"Value of RS is \",round(RS),\" ohm.\\nValue of RD is \",round(RD * 10**-3,1),\" kilo-ohm.\""
   ]
  },
  {
   "cell_type": "markdown",
   "metadata": {},
   "source": [
    "## Example 30.4 , Page Number 754"
   ]
  },
  {
   "cell_type": "code",
   "execution_count": 1,
   "metadata": {
    "collapsed": false
   },
   "outputs": [
    {
     "name": "stdout",
     "output_type": "stream",
     "text": [
      "Quiescent values of ID and VGS is  5.0  mA and  -1.4  V.\n",
      "D.C. voltage between drain and ground is  6.0  V.\n"
     ]
    },
    {
     "data": {
      "image/png": "[encoded data removed]",
      "text/plain": [
       "<matplotlib.figure.Figure at 0x2683f70>"
      ]
     },
     "metadata": {},
     "output_type": "display_data"
    }
   ],
   "source": [
    "import math\n",
    "import numpy\n",
    "%matplotlib inline\n",
    "from matplotlib.pyplot import plot,title,xlabel,ylabel,annotate\n",
    "\n",
    "#Variables\n",
    "\n",
    "RD = 1.8 * 10**3                  #Drain resistance (in ohm)\n",
    "RS = 270.0                        #Source resistance (in ohm)\n",
    "RG = 10.0 * 10**6                 #Resistance (in ohm)\n",
    "IDSS = 12.0 * 10**-3              #Drain-to-source current (in Ampere) \n",
    "ID = 6.0 * 10**-3                 #Drain current (in Ampere)\n",
    "VDD = 15.0                        #Supply voltage (in volts)\n",
    "\n",
    "#Calculation\n",
    "\n",
    "VS = ID * RS                      #Source voltage (in volts)\n",
    "VGS = - VS                        #Gate-to-Source Voltage     \n",
    "IDQ = 5.0 * 10**-3                #Drain current at Q point (in Ampere)\n",
    "VGSQ = -1.4                       #Gate-to-source voltage (in volts)   \n",
    "VD = VDD - IDQ * RD               #Drain voltage (in volts)\n",
    "\n",
    "#Graph\n",
    "\n",
    "x = numpy.linspace(-4,0,100)\n",
    "plot(x,12*(1 + x/4)**2,'r')\n",
    "title(\"transfer characteristic\")\n",
    "plot(x,x*(-5.0/1.40),'b')\n",
    "xlabel(\"Gate-to-Source voltage VGS (V)\")\n",
    "ylabel(\"Drain current ID(mA)\")\n",
    "annotate(\"Q\",xy=(-1.62,6.0))\n",
    "\n",
    "#Result\n",
    "\n",
    "print \"Quiescent values of ID and VGS is \",IDQ * 10**3,\" mA and \",VGSQ,\" V.\"\n",
    "print \"D.C. voltage between drain and ground is \",VD,\" V.\""
   ]
  },
  {
   "cell_type": "markdown",
   "metadata": {},
   "source": [
    "## Example 30.5 , Page Number 755"
   ]
  },
  {
   "cell_type": "code",
   "execution_count": 5,
   "metadata": {
    "collapsed": false
   },
   "outputs": [
    {
     "name": "stdout",
     "output_type": "stream",
     "text": [
      "Value of RD is  1.5  kilo-ohm.\n",
      "Value of RS is  528.0  ohm.\n"
     ]
    }
   ],
   "source": [
    "import math\n",
    "\n",
    "#Variables\n",
    "\n",
    "VP = VGSoff = 5.0                   #Voltage (in volts)\n",
    "IDSS = 12.0 * 10**-3                #Drain-to-source current (in Ampere)\n",
    "VDD = 12.0                          #Drain voltage (in volts)\n",
    "ID = 4.0 * 10**-3                   #Drain current (in Ampere)\n",
    "VDS = 6.0                           #Drain-to-source voltage (in volts)\n",
    "\n",
    "#Calculation\n",
    "\n",
    "VGS = (1 - (ID / IDSS)**0.5)*VGSoff #Gate-to-source voltage (in volts)\n",
    "VS = VGS                            #Source voltage (in volts)\n",
    "RS = VS / ID                        #Source resistance (in ohm)\n",
    "RD = (VDD - VDS) / ID               #Drain resistance (in ohm)\n",
    "\n",
    "#Result\n",
    "\n",
    "print \"Value of RD is \",RD * 10**-3,\" kilo-ohm.\\nValue of RS is \",round(RS),\" ohm.\"\n",
    "\n",
    "#Slight variation due to higher precision."
   ]
  },
  {
   "cell_type": "markdown",
   "metadata": {},
   "source": [
    "## Example 30.6 , Page Number 756"
   ]
  },
  {
   "cell_type": "code",
   "execution_count": 6,
   "metadata": {
    "collapsed": false
   },
   "outputs": [
    {
     "name": "stdout",
     "output_type": "stream",
     "text": [
      "Operating point is ID =  5.0  mA and VDS =  10.0  V.\n",
      "Value of RD is  2.0  kilo-ohm and RS is  440.0  ohm.\n"
     ]
    }
   ],
   "source": [
    "import math\n",
    "\n",
    "#Variables\n",
    "\n",
    "IDSS = 10.0 * 10**-3                    #Drain-to-source current (in Ampere)\n",
    "VDD = 20.0                              #Drain voltage (in volts)\n",
    "\n",
    "#Calculation\n",
    "\n",
    "IDQ = IDSS / 2                          #Drain current at Q point (in Ampere)\n",
    "VDSQ = VDD / 2                          #Drain-to-source voltage at Q point (in volts)\n",
    "VGS = -2.2                              #Gate-to-source voltage (in volts)\n",
    "ID = 5.0 * 10**-3                       #Drain current (in Ampere)\n",
    "RD = (VDD - VDSQ) / ID                  #Drain resistance (in ohm)\n",
    "VS = - VGS                              #Source voltage (in volts)\n",
    "RS = VS / ID                            #Source resistance (in ohm)      \n",
    "\n",
    "#Result\n",
    "\n",
    "print \"Operating point is ID = \",IDQ * 10**3,\" mA and VDS = \",VDSQ,\" V.\"\n",
    "print \"Value of RD is \",RD * 10**-3,\" kilo-ohm and RS is \",RS,\" ohm.\""
   ]
  },
  {
   "cell_type": "markdown",
   "metadata": {},
   "source": [
    "## Example 30.7 , Page Number 758"
   ]
  },
  {
   "cell_type": "code",
   "execution_count": 3,
   "metadata": {
    "collapsed": false
   },
   "outputs": [
    {
     "name": "stdout",
     "output_type": "stream",
     "text": [
      "Value of VGS is  -3.8  V. and value of VDS is  4.0  V.\n"
     ]
    }
   ],
   "source": [
    "import math\n",
    "\n",
    "#Variables\n",
    "\n",
    "VDD = 20.0                        #Supply voltage (in volts)\n",
    "RD = 2.5 * 10**3                  #Drain resistance (in ohm)\n",
    "RS = 1.5 * 10**3                  #Source resistance (in ohm)\n",
    "R1 = 2.0 * 10**6                  #Resistance (in ohm)\n",
    "R2 = 250.0 * 10**3                #Resitance (in ohm)\n",
    "ID = 4.0 * 10**-3                 #Drain current (in Ampere) \n",
    "\n",
    "#Calculation\n",
    "\n",
    "VG = VDD * R2 / (R1 + R2)         #Gate voltage (in volts)\n",
    "VS = ID * RS                      #Source voltage (in volts)\n",
    "VGS = VG - VS                     #Gate-to-source voltage (in volts)\n",
    "VD = VDD - ID * RD                #Drain voltage (in volts)   \n",
    "\n",
    "#Result\n",
    "\n",
    "print \"Value of VGS is \",round(VGS,1),\" V. and value of VDS is \",VD - VS,\" V.\""
   ]
  },
  {
   "cell_type": "markdown",
   "metadata": {},
   "source": [
    "## Example 30.8 , Page Number 764"
   ]
  },
  {
   "cell_type": "code",
   "execution_count": 8,
   "metadata": {
    "collapsed": false
   },
   "outputs": [
    {
     "name": "stdout",
     "output_type": "stream",
     "text": [
      "Voltage gain is  -6.0 .\n"
     ]
    }
   ],
   "source": [
    "import math\n",
    "\n",
    "#Variables\n",
    "\n",
    "gm = 4.0 * 10**-3                      #Transconductance (in Siemen)\n",
    "RD = 1.5 * 10**3                       #Drain resistance (in ohm) \n",
    "\n",
    "#Calculation\n",
    "\n",
    "Av = -gm * RD                          #Voltage gain    \n",
    "\n",
    "#Result\n",
    "\n",
    "print \"Voltage gain is \",Av,\".\""
   ]
  },
  {
   "cell_type": "markdown",
   "metadata": {},
   "source": [
    "## Example 30.9 , Page Number 764"
   ]
  },
  {
   "cell_type": "code",
   "execution_count": 9,
   "metadata": {
    "collapsed": false
   },
   "outputs": [
    {
     "name": "stdout",
     "output_type": "stream",
     "text": [
      "Voltage gain is  -24.5 .\n"
     ]
    }
   ],
   "source": [
    "import math\n",
    "\n",
    "#Variables\n",
    "\n",
    "gm = 2.5 * 10**-3                      #Transconductance (in Ampere per volt)\n",
    "rd = 500.0 * 10**3                     #Resistance (in ohm)\n",
    "RD = 10.0 * 10**3                      #Load resistance (in ohm)\n",
    "\n",
    "#Calculation\n",
    "\n",
    "rL = RD * rd / (RD + rd)               #a.c. equivalent resistance (in ohm)\n",
    "Av = -gm * rL                          #Voltage gain   \n",
    "\n",
    "#Result\n",
    "\n",
    "print \"Voltage gain is \",round(Av,1),\".\""
   ]
  },
  {
   "cell_type": "markdown",
   "metadata": {},
   "source": [
    "## Example 30.10 , Page Number 764"
   ]
  },
  {
   "cell_type": "code",
   "execution_count": 10,
   "metadata": {
    "collapsed": false
   },
   "outputs": [
    {
     "name": "stdout",
     "output_type": "stream",
     "text": [
      "Voltage gain is  -26.7 .\n",
      "Input resistance is  100.0  Mega-ohm.\n",
      "Output resistance is  13.3  kilo-ohm.\n"
     ]
    }
   ],
   "source": [
    "import math\n",
    "\n",
    "#Variables\n",
    "\n",
    "gm = 2.0 * 10**-3                      #Transconductance (in Ampere per volt)\n",
    "rd = 40.0 * 10**3                      #Resistance (in ohm)\n",
    "RD = 20.0 * 10**3                      #Drain resistance (in ohm)\n",
    "RG = 100.0 * 10**6                     #Gate resistance (in ohm)    \n",
    "\n",
    "#Calculation\n",
    "\n",
    "rL = RD * rd / (RD + rd)               #a.c. equivalent resistance (in ohm)\n",
    "Av = -gm * rL                          #Voltage gain   \n",
    "R1i = RG                               #input resistance (in ohm)\n",
    "R1o = rL                               #output resistance (in ohm) \n",
    "\n",
    "#Result\n",
    "\n",
    "print \"Voltage gain is \",round(Av,1),\".\"\n",
    "print \"Input resistance is \",R1i * 10**-6,\" Mega-ohm.\\nOutput resistance is \",round(R1o * 10**-3,1),\" kilo-ohm.\" "
   ]
  },
  {
   "cell_type": "markdown",
   "metadata": {},
   "source": [
    "## Example 30.11 , Page Number 765"
   ]
  },
  {
   "cell_type": "code",
   "execution_count": 11,
   "metadata": {
    "collapsed": false
   },
   "outputs": [
    {
     "name": "stdout",
     "output_type": "stream",
     "text": [
      "Voltage gain is  -16.67 .\n"
     ]
    }
   ],
   "source": [
    "import math\n",
    "\n",
    "#Variables\n",
    "\n",
    "gm = 2.0 * 10**-3                           #Transconductance (in Ampere per volt)\n",
    "rd = 10.0 * 10**3                           #Resistance (in ohm)\n",
    "RD = 50.0 * 10**3                           #Drain resistance (in ohm)\n",
    "\n",
    "#Calculation\n",
    "\n",
    "rL = RD * rd / (RD + rd)                    #a.c. equivalent resistance (in ohm)\n",
    "Av = - gm * rL                              #Voltage gain\n",
    "\n",
    "#Result\n",
    "\n",
    "print \"Voltage gain is \",round(Av,2),\".\""
   ]
  },
  {
   "cell_type": "markdown",
   "metadata": {},
   "source": [
    "## Example 30.12 , Page Number 765"
   ]
  },
  {
   "cell_type": "code",
   "execution_count": 12,
   "metadata": {
    "collapsed": false
   },
   "outputs": [
    {
     "name": "stdout",
     "output_type": "stream",
     "text": [
      "Voltage gain is  -48.9 .\n"
     ]
    }
   ],
   "source": [
    "import math\n",
    "\n",
    "#Variables\n",
    "\n",
    "RD = 100.0 * 10**3                     #Drain resistance (in ohm)              \n",
    "gm = 1.6 * 10**-3                      #Transconductance (in Ampere per volt)\n",
    "rd = 44.0 * 10**3                      #Resistance (in ohm)\n",
    "Cgs = 3.0 * 10**-12                    #Capacitance gate-to-source (in Farad)\n",
    "Cds = 1.0 * 10**-12                    #Capacitance drain-to-source (in Farad)\n",
    "Cgd = 2.8 * 10**-12                    #Capacitance gate-to-drain (in Farad) \n",
    "\n",
    "#Calculation\n",
    "\n",
    "rL = RD * rd / (RD + rd)               #a.c. load resistance (in ohm)  \n",
    "Av = -gm * rL                          #Voltage gain \n",
    "\n",
    "#Result\n",
    "\n",
    "print \"Voltage gain is \",round(Av,1),'.'"
   ]
  },
  {
   "cell_type": "markdown",
   "metadata": {},
   "source": [
    "## Example 30.13 , Page Number 766"
   ]
  },
  {
   "cell_type": "code",
   "execution_count": 13,
   "metadata": {
    "collapsed": false
   },
   "outputs": [
    {
     "name": "stdout",
     "output_type": "stream",
     "text": [
      "Output voltage is  0.844  V.\n"
     ]
    }
   ],
   "source": [
    "import math\n",
    "\n",
    "#Variables\n",
    "\n",
    "gm = 4500.0 * 10**-6                   #Transconductance (in Ampere per volt)\n",
    "RD = 3.0 * 10**3                       #Drain resistance (in ohm)\n",
    "RL = 5.0 * 10**3                       #Load  resistance (in ohm) \n",
    "Vin = 100.0 * 10**-3                   #Input voltage (in volts)\n",
    "ID = 2.0 * 10**-3                      #Drain current (in Ampere)\n",
    "\n",
    "#Calculation\n",
    "\n",
    "rL = RD * RL / (RD + RL)               #a.c. load resistance (in ohm)\n",
    "vo = -gm * rL * Vin                    #Output voltage (in volts)   \n",
    "\n",
    "#Result\n",
    "\n",
    "print \"Output voltage is \",abs(round(vo,3)),\" V.\""
   ]
  },
  {
   "cell_type": "markdown",
   "metadata": {},
   "source": [
    "## Example 30.14 , Page Number 768"
   ]
  },
  {
   "cell_type": "code",
   "execution_count": 14,
   "metadata": {
    "collapsed": false
   },
   "outputs": [
    {
     "name": "stdout",
     "output_type": "stream",
     "text": [
      "Voltage gain when RL is zero is  -2.0 .\n",
      "Voltage gain when Rl is 100 kilo-ohm is  -1.97 .\n"
     ]
    }
   ],
   "source": [
    "import math\n",
    "\n",
    "#Variables\n",
    "\n",
    "gm = 4.0 * 10**-3                     #Transconductance (in Siemen)\n",
    "RD = 1.5 * 10**3                      #Drain resistance (in ohm)\n",
    "RG = 10.0 * 10**6                     #Gate resistance (in ohm)\n",
    "rs = 500.0                            #resistance (in ohm)     \n",
    "\n",
    "#Calculation\n",
    "\n",
    "#Voltage gain when Rl is zero\n",
    "\n",
    "rL = RD                               #a.c. load resistance (in ohm)\n",
    "Av = -(gm * rL)/(1 + gm * rs)         #Voltage gain1 \n",
    "\n",
    "#Voltage gain when Rl is 100 kilo-ohm\n",
    "\n",
    "RL = 100.0 * 10**3                    #Load resistance (in ohm)      \n",
    "rL1 = RD * RL / (RD + RL)             #a.c. load resistance (in ohm)\n",
    "Av1 = -(gm * rL1)/(1 + gm * rs)       #Voltage gain1 \n",
    "\n",
    "#Result\n",
    "\n",
    "print \"Voltage gain when RL is zero is \",Av,\".\\nVoltage gain when Rl is 100 kilo-ohm is \",round(Av1,2),\".\" "
   ]
  },
  {
   "cell_type": "markdown",
   "metadata": {},
   "source": [
    "## Example 30.15 , Page Number 768"
   ]
  },
  {
   "cell_type": "code",
   "execution_count": 15,
   "metadata": {
    "collapsed": false
   },
   "outputs": [
    {
     "name": "stdout",
     "output_type": "stream",
     "text": [
      "Voltage gain for unbypassed Rs is  -1.35 .\n",
      "Voltage gain for bypassed Rs is  -4.163 .\n"
     ]
    }
   ],
   "source": [
    "import math\n",
    "\n",
    "#Variables\n",
    "\n",
    "RD = 1.5 * 10**3                        #Drain resistance (in ohm)\n",
    "RS = 750.0                              #Source resistance (in ohm)\n",
    "RG = 1.0 * 10**6                        #Gate resistance (in ohm)\n",
    "IDSS = 10.0 * 10**-3                    #Supply current (in Ampere)\n",
    "Vp = -3.5                               #Voltage (in volts)\n",
    "IDQ = 2.3 * 10**-3                      #Drain current at Q point (in Ampere)\n",
    "VGSQ = -1.8                             #Gate-to-source voltage at Q point (in volts)\n",
    "\n",
    "#Calculation\n",
    "\n",
    "gmo = -2 * IDSS / Vp                    #Maximum transconductance (in Ampere per volt)\n",
    "gm = gmo * (1 - VGSQ/Vp)                #Transconductance at Q point (in Ampere per volt)               \n",
    "rL = RD                                 #a.c. load resistance (in ohm)\n",
    "Av = - gm * rL / (1 + gm * RS)          #Unbypassed RS (in ohm)\n",
    "Av1 = -gm * rL                          #Bypassed RS (in ohm) \n",
    "\n",
    "#Result\n",
    "\n",
    "print \"Voltage gain for unbypassed Rs is \",round(Av,2),\".\\nVoltage gain for bypassed Rs is \",round(Av1,3),\".\"\n",
    "\n",
    "#Slight variation due to higher precision"
   ]
  },
  {
   "cell_type": "markdown",
   "metadata": {},
   "source": [
    "## Example 30.16 , Page Number 771"
   ]
  },
  {
   "cell_type": "code",
   "execution_count": 16,
   "metadata": {
    "collapsed": false
   },
   "outputs": [
    {
     "name": "stdout",
     "output_type": "stream",
     "text": [
      "Voltage gain is  0.988 .\n",
      "Input resistance is  100.0  Mega-ohm.\n",
      "Output resistance is  125.0  ohm.\n"
     ]
    }
   ],
   "source": [
    "import math\n",
    "\n",
    "#Variables\n",
    "\n",
    "gm = 8000.0 * 10**-6                   #Transconductance (in Siemen)\n",
    "RS = 10.0 * 10**3                      #Drain resistance (in ohm)\n",
    "RG = 100.0 * 10**6                     #Gate resistance (in ohm) \n",
    "\n",
    "#Calculation\n",
    "\n",
    "Av = RS / (RS + 1 / gm)                #Voltage gain\n",
    "R1i = RG                               #Input resistance (in ohm)\n",
    "R1o = 1 / gm                           #Output resistance (in ohm)\n",
    "\n",
    "#Result\n",
    "\n",
    "print \"Voltage gain is \",round(Av,3),\".\\nInput resistance is \",R1i * 10**-6,\" Mega-ohm.\\nOutput resistance is \",R1o,\" ohm.\""
   ]
  },
  {
   "cell_type": "markdown",
   "metadata": {},
   "source": [
    "## Example 30.17 , Page Number 772"
   ]
  },
  {
   "cell_type": "code",
   "execution_count": 17,
   "metadata": {
    "collapsed": false
   },
   "outputs": [
    {
     "name": "stdout",
     "output_type": "stream",
     "text": [
      "Voltage gain is  0.965 .\n",
      "Input resistance is  0.5  Mega-ohm.\n",
      "Output resistance is  175.4  ohm.\n",
      "Output voltage is  1.77  mV.\n"
     ]
    }
   ],
   "source": [
    "import math\n",
    "\n",
    "#Variables\n",
    "\n",
    "vin = 2.0 * 10**-3                      #Input voltage (in volts)\n",
    "gm = 5500.0 * 10**-6                    #Transconductance (in Siemen)\n",
    "R1 = R2 = 1.0 * 10**6                   #Resistance (in ohm)\n",
    "RS = 5.0 * 10**3                        #Source resistance (in ohm)\n",
    "RL = 2.0 * 10**3                        #Load resistance (in ohm)\n",
    "\n",
    "#Calculation\n",
    "\n",
    "Av = RS / (RS + 1/gm)                   #Voltage gain \n",
    "R1i = R1 * R2 / (R1 + R2)               #Input resistance (in ohm)\n",
    "R1o = RS * 1/gm /(RS + 1/gm)            #Output resistance (in ohm)\n",
    "Vo = RL / (RL + R1o) * Av * vin         #Output voltage (in volts)\n",
    "\n",
    "#Result\n",
    "\n",
    "print \"Voltage gain is \",round(Av,3),\".\\nInput resistance is \",R1i * 10**-6,\" Mega-ohm.\\nOutput resistance is \",round(R1o,1),\" ohm.\\nOutput voltage is \",round(Vo * 10**3,2),\" mV.\""
   ]
  },
  {
   "cell_type": "markdown",
   "metadata": {},
   "source": [
    "## Example 30.18 , Page Number 774"
   ]
  },
  {
   "cell_type": "code",
   "execution_count": 18,
   "metadata": {
    "collapsed": false
   },
   "outputs": [
    {
     "name": "stdout",
     "output_type": "stream",
     "text": [
      "Amplifier voltage gain  is  25.0 .\n",
      "Input resistance is  333.0  ohm.\n"
     ]
    }
   ],
   "source": [
    "import math\n",
    "\n",
    "#Variables\n",
    "\n",
    "gm = 2500.0 * 10**-6                   #Transconductance (in Amper per volt)\n",
    "RD = 10.0 * 10**3                      #Drain resistance (in ohm)\n",
    "RS = 2.0 * 10**3                       #Source resistance (in ohm)\n",
    "\n",
    "#Calculation\n",
    "\n",
    "Av = gm * RD                           #Voltage gain \n",
    "R1i = RS * 1/gm /(RS + 1/gm)           #Input resistance (in ohm)\n",
    "\n",
    "#Result\n",
    "\n",
    "print \"Amplifier voltage gain  is \",Av,\".\\nInput resistance is \",round(R1i),\" ohm.\""
   ]
  },
  {
   "cell_type": "markdown",
   "metadata": {},
   "source": [
    "## Example 30.19 , Page Number 775"
   ]
  },
  {
   "cell_type": "code",
   "execution_count": 19,
   "metadata": {
    "collapsed": false
   },
   "outputs": [
    {
     "name": "stdout",
     "output_type": "stream",
     "text": [
      "Input resistance is  100.0  ohm.\n",
      "a.c. voltage gain is  3.75 .\n"
     ]
    }
   ],
   "source": [
    "import math\n",
    "\n",
    "#Variables\n",
    "\n",
    "gmo = 5.0 * 10**-3                       #Maximum transconductance (in Siemen)\n",
    "RD = 1.0 * 10**3                         #Drain resistance (in ohm)\n",
    "RS = 200.0                               #Source resistance (in ohm)\n",
    "ID = 5.0 * 10**-3                        #Drain current (in Ampere)\n",
    "\n",
    "#Calculation\n",
    "\n",
    "R1i = RS * 1/gmo /(RS + 1/gmo)           #Input resistance (in ohm)\n",
    "VS = ID * RS                             #Source voltage (in volts) \n",
    "VGS = VS                                 #Gate-to-Source voltage (in volts)\n",
    "IDSS = 2 * ID                            #Supply current (in Ampere)\n",
    "VGSoff = -2 * IDSS / ID                  #Gate-to-source cut off voltage (in volts)\n",
    "gm = gmo * (1 - abs(VGS / VGSoff))       #Transconductance (in Siemen) \n",
    "Av = gm * RD                             #Voltage gain  \n",
    "\n",
    "#Result\n",
    "\n",
    "print \"Input resistance is \",R1i,\" ohm.\\na.c. voltage gain is \",Av,\".\""
   ]
  }
 ],
 "metadata": {
  "kernelspec": {
   "display_name": "Python 2",
   "language": "python",
   "name": "python2"
  },
  "language_info": {
   "codemirror_mode": {
    "name": "ipython",
    "version": 2
   },
   "file_extension": ".py",
   "mimetype": "text/x-python",
   "name": "python",
   "nbconvert_exporter": "python",
   "pygments_lexer": "ipython2",
   "version": "2.7.10"
  }
 },
 "nbformat": 4,
 "nbformat_minor": 0
}
