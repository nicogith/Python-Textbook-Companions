{
 "metadata": {
  "name": "",
  "signature": "sha256:ede2b0bb266c67744fbe14f69a09ec9b5592c13400e7d0bf2db5fa598ebe9db1"
 },
 "nbformat": 3,
 "nbformat_minor": 0,
 "worksheets": [
  {
   "cells": [
    {
     "cell_type": "heading",
     "level": 1,
     "metadata": {},
     "source": [
      "15: Lasers"
     ]
    },
    {
     "cell_type": "heading",
     "level": 2,
     "metadata": {},
     "source": [
      "Example number 15.1, Page number 283"
     ]
    },
    {
     "cell_type": "code",
     "collapsed": false,
     "input": [
      "#importing modules\n",
      "import math\n",
      "from __future__ import division\n",
      "\n",
      "#Variable declaration\n",
      "k=1.38*10**-23;   #boltzmann constant(J/K)\n",
      "T=1000;    #temperature(K)\n",
      "new1=7.5*10**14;  \n",
      "new2=4.3*10**14;\n",
      "h=6.626*10**-34;    #planck's constant(Js)\n",
      "\n",
      "#Calculation\n",
      "kT=k*T;\n",
      "#optical region extends from 4000 to 7000 angstrom\n",
      "hnew=h*(new1-new2);  \n",
      "\n",
      "#Result\n",
      "print \"value of kT is\",kT,\"J\"\n",
      "print \"value of hnew is\",hnew,\"J\"\n",
      "print \"hnew>kT.therefore spontaneous transitions are dominant ones in optical region\""
     ],
     "language": "python",
     "metadata": {},
     "outputs": [
      {
       "output_type": "stream",
       "stream": "stdout",
       "text": [
        "value of kT is 1.38e-20 J\n",
        "value of hnew is 2.12032e-19 J\n",
        "hnew>kT.therefore spontaneous transitions are dominant ones in optical region\n"
       ]
      }
     ],
     "prompt_number": 3
    },
    {
     "cell_type": "heading",
     "level": 2,
     "metadata": {},
     "source": [
      "Example number 15.2, Page number 298"
     ]
    },
    {
     "cell_type": "code",
     "collapsed": false,
     "input": [
      "#importing modules\n",
      "import math\n",
      "from __future__ import division\n",
      "\n",
      "#Variable declaration\n",
      "h=6.626*10**-34;    #planck's constant(Js)\n",
      "c=3*10**8;    #velocity of light(m/sec)\n",
      "P=0.6;   #power(watt)\n",
      "T=30*10**-3;    #time(s)\n",
      "lamda=640*10**-9;   #wavelength(m)\n",
      "\n",
      "#Calculation\n",
      "E=P*T;    #energy deposited(J)\n",
      "n=E*lamda/(h*c);   #number of photons in each pulse\n",
      "\n",
      "#Result\n",
      "print \"energy deposited is\",E,\"J\"\n",
      "print \"number of photons in each pulse is\",round(n/10**16,1),\"*10**16\""
     ],
     "language": "python",
     "metadata": {},
     "outputs": [
      {
       "output_type": "stream",
       "stream": "stdout",
       "text": [
        "energy deposited is 0.018 J\n",
        "number of photons in each pulse is 5.8 *10**16\n"
       ]
      }
     ],
     "prompt_number": 6
    },
    {
     "cell_type": "heading",
     "level": 2,
     "metadata": {},
     "source": [
      "Example number 15.3, Page number 298"
     ]
    },
    {
     "cell_type": "code",
     "collapsed": false,
     "input": [
      "#importing modules\n",
      "import math\n",
      "from __future__ import division\n",
      "\n",
      "#Variable declaration\n",
      "lamda=5000*10**-10;   #wavelength(m)\n",
      "f=0.2;   #focal length(m)\n",
      "a=0.009;   #radius of aperture(m)\n",
      "P=2.5*10**-3;   #power(W)\n",
      "\n",
      "#Calculation\n",
      "A=math.pi*lamda**2*f**2/a**2;    #area of spot at focal plane(m**2)\n",
      "I=P/A;   #intensity at focus(W/m**2)\n",
      "\n",
      "#Result\n",
      "print \"area of spot at focal plane is\",round(A*10**10,2),\"*10**-10 m**2\"\n",
      "print \"intensity at focus is\",round(I/10**6,3),\"*10**6 W/m**2\""
     ],
     "language": "python",
     "metadata": {},
     "outputs": [
      {
       "output_type": "stream",
       "stream": "stdout",
       "text": [
        "area of spot at focal plane is 3.88 *10**-10 m**2\n",
        "intensity at focus is 6.446 *10**6 W/m**2\n"
       ]
      }
     ],
     "prompt_number": 11
    },
    {
     "cell_type": "heading",
     "level": 2,
     "metadata": {},
     "source": [
      "Example number 15.4, Page number 298"
     ]
    },
    {
     "cell_type": "code",
     "collapsed": false,
     "input": [
      "#importing modules\n",
      "import math\n",
      "from __future__ import division\n",
      "\n",
      "#Variable declaration\n",
      "lamda=693*10**-9;   #wavelength(m)\n",
      "D=3*10**-3;    #diameter of mirror(m)\n",
      "d=300*10**3;   #distance from earth(m)\n",
      "\n",
      "#Calculation\n",
      "delta_theta=1.22*lamda/D;    #angular spread(rad)\n",
      "a=delta_theta*d;    #diameter of beam on satellite(m)\n",
      "\n",
      "#Result\n",
      "print \"angular spread is\",round(delta_theta*10**4,2),\"*10**-4 rad\"\n",
      "print \"diameter of beam on satellite is\",round(a,2),\"m\""
     ],
     "language": "python",
     "metadata": {},
     "outputs": [
      {
       "output_type": "stream",
       "stream": "stdout",
       "text": [
        "angular spread is 2.82 *10**-4 rad\n",
        "diameter of beam on satellite is 84.55 m\n"
       ]
      }
     ],
     "prompt_number": 15
    }
   ],
   "metadata": {}
  }
 ]
}