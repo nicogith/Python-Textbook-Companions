{
 "metadata": {
  "name": "",
  "signature": "sha256:9326f276d5dc99ce97d41c9ca0d5924dbd68f522091536657f41d8cfe038dc31"
 },
 "nbformat": 3,
 "nbformat_minor": 0,
 "worksheets": [
  {
   "cells": [
    {
     "cell_type": "heading",
     "level": 1,
     "metadata": {},
     "source": [
      "19: Nuclear reactions"
     ]
    },
    {
     "cell_type": "heading",
     "level": 2,
     "metadata": {},
     "source": [
      "Example number 19.1, Page number 368"
     ]
    },
    {
     "cell_type": "code",
     "collapsed": false,
     "input": [
      "#importing modules\n",
      "import math\n",
      "from __future__ import division\n",
      "\n",
      "#Variable declaration\n",
      "m2H=2.014102;    #atomic mass of 2H(u)\n",
      "mn=1.008665;    #mass of n(u)\n",
      "m63Cu=62.929599;   #mass of 63Cu(u)\n",
      "m64Zn=63.929144;   #mass of m64Zn(u)\n",
      "E=931.5;    #energy(MeV)\n",
      "Kx=10;   #energy of deutron(MeV)\n",
      "Ky=15;   #energy of neutron(MeV)\n",
      "\n",
      "#Calculation\n",
      "Q=E*(m2H+m63Cu-mn-m64Zn);    #Q-value(MeV)\n",
      "KY=Q+Kx-Ky;    #kinetic energy(MeV)\n",
      "\n",
      "#Result\n",
      "print \"Q-value is\",round(Q,3),\"MeV\"\n",
      "print \"kinetic energy is\",round(KY,3),\"MeV\""
     ],
     "language": "python",
     "metadata": {},
     "outputs": [
      {
       "output_type": "stream",
       "stream": "stdout",
       "text": [
        "Q-value is 5.488 MeV\n",
        "kinetic energy is 0.488 MeV\n"
       ]
      }
     ],
     "prompt_number": 2
    },
    {
     "cell_type": "heading",
     "level": 2,
     "metadata": {},
     "source": [
      "Example number 19.2, Page number 368"
     ]
    },
    {
     "cell_type": "code",
     "collapsed": false,
     "input": [
      "#importing modules\n",
      "import math\n",
      "from __future__ import division\n",
      "\n",
      "#Variable declaration\n",
      "m19F=18.998404;    #atomic mass of 19F(u)\n",
      "mH=1.007825;   #mass of H(u)\n",
      "m19O=19.003577;   #mass of 19O(u)\n",
      "mn=1.008665;   #mass of n(u)\n",
      "E=931.5;    #energy(MeV)\n",
      "\n",
      "#Calculation\n",
      "Q=E*(m19F+mn-mH-m19O);    #Q-value(MeV)\n",
      "Kxmin=-Q*(1+(mn/m19F));   #threshold energy(MeV)\n",
      "\n",
      "#Result\n",
      "print \"Q-value is\",round(Q,4),\"MeV\"\n",
      "print \"threshold energy is\",round(Kxmin,2),\"MeV\""
     ],
     "language": "python",
     "metadata": {},
     "outputs": [
      {
       "output_type": "stream",
       "stream": "stdout",
       "text": [
        "Q-value is -4.0362 MeV\n",
        "threshold energy is 4.25 MeV\n"
       ]
      }
     ],
     "prompt_number": 5
    },
    {
     "cell_type": "heading",
     "level": 2,
     "metadata": {},
     "source": [
      "Example number 19.3, Page number 373"
     ]
    },
    {
     "cell_type": "code",
     "collapsed": false,
     "input": [
      "#importing modules\n",
      "import math\n",
      "from __future__ import division\n",
      "\n",
      "#Variable declaration\n",
      "mn=1.008665;   #mass of n(u)\n",
      "mu=235.043924;    #mass of 235U(u)\n",
      "mBa=140.91440;    #mass of 141Ba(u)\n",
      "mKr=91.92630;    #mass of Kr(u)\n",
      "E=931.5;    #energy(MeV)\n",
      "\n",
      "#Calculation\n",
      "mr=mn+mu;    #mass of reactants(u)\n",
      "mp=mBa+mKr+(3*mn);   #mass of products(u)\n",
      "md=mr-mp;   #mass difference(u)\n",
      "E=md*E;    #energy released(MeV)\n",
      "\n",
      "#Result\n",
      "print \"energy released is\",round(E,1),\"MeV\""
     ],
     "language": "python",
     "metadata": {},
     "outputs": [
      {
       "output_type": "stream",
       "stream": "stdout",
       "text": [
        "energy released is 173.2 MeV\n"
       ]
      }
     ],
     "prompt_number": 19
    },
    {
     "cell_type": "heading",
     "level": 2,
     "metadata": {},
     "source": [
      "Example number 19.4, Page number 373"
     ]
    },
    {
     "cell_type": "code",
     "collapsed": false,
     "input": [
      "#importing modules\n",
      "import math\n",
      "from __future__ import division\n",
      "\n",
      "#Variable declaration\n",
      "E=200*10**6;    #energy released(eV)\n",
      "e=1.6*10**-19;   #conversion factor from J to eV\n",
      "P=300*10**6;   #power(W)\n",
      "t=1;    #time(s)\n",
      "\n",
      "#Calculation\n",
      "n=P*t/(E*e);    #number of fissions per second\n",
      "\n",
      "#Result\n",
      "print \"number of fissions per second is\",n"
     ],
     "language": "python",
     "metadata": {},
     "outputs": [
      {
       "output_type": "stream",
       "stream": "stdout",
       "text": [
        "number of fissions per second is 9.375e+18\n"
       ]
      }
     ],
     "prompt_number": 20
    },
    {
     "cell_type": "heading",
     "level": 2,
     "metadata": {},
     "source": [
      "Example number 19.5, Page number 378"
     ]
    },
    {
     "cell_type": "code",
     "collapsed": false,
     "input": [
      "#importing modules\n",
      "import math\n",
      "from __future__ import division\n",
      "\n",
      "#Variable declaration\n",
      "m2H1=2*1.66*10**-27;    #mass of proton(kg)\n",
      "E=931.5;    #energy(MeV)\n",
      "m1=2.014102;\n",
      "m2=3.01609;\n",
      "mH=1.007825;   #mass of H(u)\n",
      "\n",
      "#Calculation\n",
      "E=E*((2*m1)-m2-mH);    #energy released(MeV)\n",
      "n=0.001/m2H1;    #number of nuclei\n",
      "Eg=n*E/2;   #energy released per gm(MeV)\n",
      "\n",
      "#Result\n",
      "print \"energy released per gm is\",round(Eg/10**23,2),\"*10**23 MeV\"\n",
      "print \"answer given in the book is wrong\""
     ],
     "language": "python",
     "metadata": {},
     "outputs": [
      {
       "output_type": "stream",
       "stream": "stdout",
       "text": [
        "energy released per gm is 6.02 *10**23 MeV\n",
        "answer given in the book is wrong\n"
       ]
      }
     ],
     "prompt_number": 31
    },
    {
     "cell_type": "heading",
     "level": 2,
     "metadata": {},
     "source": [
      "Example number 19.6, Page number 379"
     ]
    },
    {
     "cell_type": "code",
     "collapsed": false,
     "input": [
      "#importing modules\n",
      "import math\n",
      "from __future__ import division\n",
      "\n",
      "#Variable declaration\n",
      "k=8.99*10**9;   #value of k(Nm**2/C**2)\n",
      "rd=1.5*10**-15;   #radius of deuterium nucleus(m)\n",
      "rt=1.7*10**-15;   #radius of tritium nucleus(m)\n",
      "e=1.6*10**-19;   #conversion factor from J to eV\n",
      "KE=0.225;    #kinetic energy for 1 particle(MeV)\n",
      "k=1.38*10**-23;   #boltzmann constant(J/K)\n",
      "\n",
      "#Calculation\n",
      "K_E=k*e**2/(e*(rd+rt));    #kinetic energy of 2 particles(MeV)\n",
      "T=2*KE*e*10**6/(3*k);   #temperature(K)\n",
      "\n",
      "#Result\n",
      "print \"temperature is\",round(T/10**9),\"*10**9 K\""
     ],
     "language": "python",
     "metadata": {},
     "outputs": [
      {
       "output_type": "stream",
       "stream": "stdout",
       "text": [
        "temperature is 2.0 *10**9 K\n"
       ]
      }
     ],
     "prompt_number": 35
    }
   ],
   "metadata": {}
  }
 ]
}