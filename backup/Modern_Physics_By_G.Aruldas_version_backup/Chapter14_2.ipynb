{
 "metadata": {
  "name": "",
  "signature": "sha256:f383b09bed78232b6f6bef91df71b6fd8febd00a3f89287a33c756d53748eb03"
 },
 "nbformat": 3,
 "nbformat_minor": 0,
 "worksheets": [
  {
   "cells": [
    {
     "cell_type": "heading",
     "level": 1,
     "metadata": {},
     "source": [
      "14: Superconductivity"
     ]
    },
    {
     "cell_type": "heading",
     "level": 2,
     "metadata": {},
     "source": [
      "Example number 14.1, Page number 272"
     ]
    },
    {
     "cell_type": "code",
     "collapsed": false,
     "input": [
      "#importing modules\n",
      "import math\n",
      "from __future__ import division\n",
      "\n",
      "#Variable declaration\n",
      "Bc0=0.0305;    #critical field(T)\n",
      "T=2;   #temperature(K)\n",
      "Tc=3.722;   #critical temperature(K)\n",
      "r=2*10**-3;  #diameter(m)\n",
      "mew0=4*math.pi*10**-7;   #magnetic permeability\n",
      "\n",
      "#Calculation\n",
      "BcT=Bc0*(1-(T/Tc)**2);   #critical field(T)\n",
      "Ic=2*math.pi*r*BcT/mew0;   #current(A)\n",
      "\n",
      "#Result\n",
      "print \"current is\",round(Ic,1),\"A\""
     ],
     "language": "python",
     "metadata": {},
     "outputs": [
      {
       "output_type": "stream",
       "stream": "stdout",
       "text": [
        "current is 216.9 A\n"
       ]
      }
     ],
     "prompt_number": 2
    },
    {
     "cell_type": "heading",
     "level": 2,
     "metadata": {},
     "source": [
      "Example number 14.2, Page number 274"
     ]
    },
    {
     "cell_type": "code",
     "collapsed": false,
     "input": [
      "#importing modules\n",
      "import math\n",
      "from __future__ import division\n",
      "\n",
      "#Variable declaration\n",
      "lamda0=37;   #london penetration depth(nm)\n",
      "T=5.2;    #temperature(K)\n",
      "Tc=7.193;   #critical temperature(K)\n",
      "\n",
      "#Calculation\n",
      "a=1-(T/Tc)**4;\n",
      "lamdaT=lamda0*(a**(-1/2));   #penetration depth of lead(nm)\n",
      "\n",
      "#Result\n",
      "print \"penetration depth of lead is\",round(lamdaT,3),\"nm\""
     ],
     "language": "python",
     "metadata": {},
     "outputs": [
      {
       "output_type": "stream",
       "stream": "stdout",
       "text": [
        "penetration depth of lead is 43.398 nm\n"
       ]
      }
     ],
     "prompt_number": 7
    }
   ],
   "metadata": {}
  }
 ]
}