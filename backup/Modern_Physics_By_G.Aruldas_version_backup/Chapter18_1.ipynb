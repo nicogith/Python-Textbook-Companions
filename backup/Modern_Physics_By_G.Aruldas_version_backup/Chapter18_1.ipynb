{
 "metadata": {
  "name": "",
  "signature": "sha256:0f6dea1f19194326599a9bca2989e912ed17e32f1ffb8d9305e16c13f8cacf2c"
 },
 "nbformat": 3,
 "nbformat_minor": 0,
 "worksheets": [
  {
   "cells": [
    {
     "cell_type": "heading",
     "level": 1,
     "metadata": {},
     "source": [
      "18: Radioactive decay"
     ]
    },
    {
     "cell_type": "heading",
     "level": 2,
     "metadata": {},
     "source": [
      "Example number 18.1, Page number 347"
     ]
    },
    {
     "cell_type": "code",
     "collapsed": false,
     "input": [
      "#importing modules\n",
      "import math\n",
      "from __future__ import division\n",
      "\n",
      "#Variable declaration\n",
      "N0=1;   #assume\n",
      "\n",
      "#Calculation\n",
      "f=(N0/2)/N0;   #fraction after t1/2\n",
      "f1=(N0/4)/N0;   #fraction after 2 half lives\n",
      "f2=(N0/(2**5))/N0;   #fraction after 5 half lives\n",
      "f3=(N0/(2**10))/N0;   #fraction after 10 half lives\n",
      "\n",
      "#Result\n",
      "print \"fraction after 2 half lives is\",f1\n",
      "print \"fraction after 5 half lives is\",f2\n",
      "print \"fraction after 10 half lives is\",f3"
     ],
     "language": "python",
     "metadata": {},
     "outputs": [
      {
       "output_type": "stream",
       "stream": "stdout",
       "text": [
        "fraction after 2 half lives is 0.25\n",
        "fraction after 5 half lives is 0.03125\n",
        "fraction after 10 half lives is 0.0009765625\n"
       ]
      }
     ],
     "prompt_number": 1
    },
    {
     "cell_type": "heading",
     "level": 2,
     "metadata": {},
     "source": [
      "Example number 18.2, Page number 348"
     ]
    },
    {
     "cell_type": "code",
     "collapsed": false,
     "input": [
      "#importing modules\n",
      "import math\n",
      "from __future__ import division\n",
      "\n",
      "#Variable declaration\n",
      "thalf=2.7*24*60*60;   #half life(s)\n",
      "m=1*10**-6;   #mass(gm)\n",
      "Na=6.02*10**23;   #avagadro number(atoms/mol)\n",
      "M=198;    #molar mass(g/mol)\n",
      "t=8*24*60*60;\n",
      "\n",
      "#Calculation\n",
      "lamda=0.693/thalf;    #decay constant(per sec)\n",
      "N=m*Na/M;    #number of nuclei(atoms)\n",
      "A0=lamda*N;    #activity(disintegrations per sec)\n",
      "A=A0*math.exp(-lamda*t);    #activity for 8 days(decays per sec)\n",
      "\n",
      "#Result\n",
      "print \"decay constant is\",round(lamda*10**6,2),\"*10**-6 per sec\"\n",
      "print \"activity is\",round(A0/10**9,2),\"*10**9 disintegrations per sec\"\n",
      "print \"activity for 8 days is\",round(A/10**9,2),\"*10**9 decays per sec\""
     ],
     "language": "python",
     "metadata": {},
     "outputs": [
      {
       "output_type": "stream",
       "stream": "stdout",
       "text": [
        "decay constant is 2.97 *10**-6 per sec\n",
        "activity is 9.03 *10**9 disintegrations per sec\n",
        "activity for 8 days is 1.16 *10**9 decays per sec\n"
       ]
      }
     ],
     "prompt_number": 10
    },
    {
     "cell_type": "heading",
     "level": 2,
     "metadata": {},
     "source": [
      "Example number 18.3, Page number 348"
     ]
    },
    {
     "cell_type": "code",
     "collapsed": false,
     "input": [
      "#importing modules\n",
      "import math\n",
      "from __future__ import division\n",
      "\n",
      "#Variable declaration\n",
      "thalf=5570*365*24*60*60;   #half life(s)\n",
      "dNbydt=3.7*10**10*2*10**-3;   #number of decays per sec\n",
      "m=14;\n",
      "Na=6.02*10**23;   #avagadro number(atoms/mol)\n",
      "\n",
      "#Calculation\n",
      "lamda=0.693/thalf;    #decay constant(per sec)\n",
      "N=dNbydt/lamda;    #number of atoms\n",
      "mN=m*N/Na;   #mass of 2mCi(g)\n",
      "\n",
      "#Result\n",
      "print \"mass of 2mCi is\",round(mN*10**4,2),\"*10**-4 g\""
     ],
     "language": "python",
     "metadata": {},
     "outputs": [
      {
       "output_type": "stream",
       "stream": "stdout",
       "text": [
        "mass of 2mCi is 4.36 *10**-4 g\n"
       ]
      }
     ],
     "prompt_number": 23
    },
    {
     "cell_type": "heading",
     "level": 2,
     "metadata": {},
     "source": [
      "Example number 18.5, Page number 353"
     ]
    },
    {
     "cell_type": "code",
     "collapsed": false,
     "input": [
      "#importing modules\n",
      "import math\n",
      "from __future__ import division\n",
      "\n",
      "#Variable declaration\n",
      "thalf=1.25*10**9;   #half life(yr)\n",
      "r=10.2;   #ratio of number of atoms\n",
      "\n",
      "#Calculation\n",
      "a=1+r;\n",
      "lamda=0.693/thalf;    #decay constant(per yr)\n",
      "t=math.log(a)/lamda;   #time(yr)\n",
      "\n",
      "#Result\n",
      "print \"the rock is\",round(t/10**9,2),\"*10**9 yrs old\""
     ],
     "language": "python",
     "metadata": {},
     "outputs": [
      {
       "output_type": "stream",
       "stream": "stdout",
       "text": [
        "the rock is 4.36 *10**9 yrs old\n"
       ]
      }
     ],
     "prompt_number": 12
    },
    {
     "cell_type": "heading",
     "level": 2,
     "metadata": {},
     "source": [
      "Example number 18.6, Page number 356"
     ]
    },
    {
     "cell_type": "code",
     "collapsed": false,
     "input": [
      "#importing modules\n",
      "import math\n",
      "from __future__ import division\n",
      "\n",
      "#Variable declaration\n",
      "mU=232.037131;    #atomic mass of U(u)\n",
      "mHe=4.002603;   #atomic mass of He(u)\n",
      "E=931.5;    #energy(MeV)\n",
      "KE=5.32;   #kinetic energy of alpha particle(MeV)\n",
      "\n",
      "#Calculation\n",
      "mTh=mU-mHe-(KE/E);   #atomic mass of Th(u)\n",
      "\n",
      "#Result\n",
      "print \"atomic mass of Th is\",round(mTh,5),\"u\""
     ],
     "language": "python",
     "metadata": {},
     "outputs": [
      {
       "output_type": "stream",
       "stream": "stdout",
       "text": [
        "atomic mass of Th is 228.02882 u\n"
       ]
      }
     ],
     "prompt_number": 14
    },
    {
     "cell_type": "heading",
     "level": 2,
     "metadata": {},
     "source": [
      "Example number 18.7, Page number 359"
     ]
    },
    {
     "cell_type": "code",
     "collapsed": false,
     "input": [
      "#importing modules\n",
      "import math\n",
      "from __future__ import division\n",
      "\n",
      "#Variable declaration\n",
      "E=931.5;    #energy(MeV)\n",
      "mX=11.011433;   #mass of 11C(u)\n",
      "mXdash=11.009305;  #mass of 11B(u)\n",
      "me=0.511;\n",
      "\n",
      "#Calculation\n",
      "Q=(E*(mX-mXdash))-(2*me);    #Q value for decay(MeV)\n",
      "\n",
      "#Result\n",
      "print \"maximum energy is\",round(Q,2),\"MeV.minimum energy is zero\""
     ],
     "language": "python",
     "metadata": {},
     "outputs": [
      {
       "output_type": "stream",
       "stream": "stdout",
       "text": [
        "maximum energy is 0.96 MeV.minimum energy is zero\n"
       ]
      }
     ],
     "prompt_number": 16
    },
    {
     "cell_type": "heading",
     "level": 2,
     "metadata": {},
     "source": [
      "Example number 18.8, Page number 359"
     ]
    },
    {
     "cell_type": "code",
     "collapsed": false,
     "input": [
      "#importing modules\n",
      "import math\n",
      "from __future__ import division\n",
      "\n",
      "#Variable declaration\n",
      "mK=39.963999;    #mass of K(u)\n",
      "mAr=39.962384;   #mass of Ar(u)\n",
      "E=931.5;    #energy(MeV)\n",
      "\n",
      "#Calculation\n",
      "Q=(mK-mAr)*E;   #kinetic energy of neutrino(MeV)\n",
      "\n",
      "#Result\n",
      "print \"kinetic energy of neutrino is\",round(Q,3),\"MeV\""
     ],
     "language": "python",
     "metadata": {},
     "outputs": [
      {
       "output_type": "stream",
       "stream": "stdout",
       "text": [
        "kinetic energy of neutrino is 1.504 MeV\n"
       ]
      }
     ],
     "prompt_number": 18
    },
    {
     "cell_type": "heading",
     "level": 2,
     "metadata": {},
     "source": [
      "Example number 18.9, Page number 360"
     ]
    },
    {
     "cell_type": "code",
     "collapsed": false,
     "input": [
      "#importing modules\n",
      "import math\n",
      "from __future__ import division\n",
      "\n",
      "#Variable declaration\n",
      "mN=12.018613;    #mass of N(u)\n",
      "mC=12;   #mass of C(u)\n",
      "me=0.000549;   #mass of me(u)\n",
      "E=931.5;    #energy(MeV)\n",
      "Egamma=4.43;   #energy of emitted gamma ray(MeV)\n",
      "\n",
      "#Calculation\n",
      "Q=(mN-mC-(2*me))*E;   #Q value(MeV)\n",
      "Emax=Q-Egamma;   #maximum kinetic energy(MeV)\n",
      "\n",
      "#Result\n",
      "print \"maximum kinetic energy is\",round(Emax,2),\"MeV\""
     ],
     "language": "python",
     "metadata": {},
     "outputs": [
      {
       "output_type": "stream",
       "stream": "stdout",
       "text": [
        "maximum kinetic energy is 11.89 MeV\n"
       ]
      }
     ],
     "prompt_number": 20
    }
   ],
   "metadata": {}
  }
 ]
}