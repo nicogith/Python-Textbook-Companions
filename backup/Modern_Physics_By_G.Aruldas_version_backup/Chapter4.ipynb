{
 "metadata": {
  "name": "",
  "signature": "sha256:1d6457e2a94e0fa2b026a0acb8ba4fab526573258ee2c274c4328b7f611fb97a"
 },
 "nbformat": 3,
 "nbformat_minor": 0,
 "worksheets": [
  {
   "cells": [
    {
     "cell_type": "heading",
     "level": 1,
     "metadata": {},
     "source": [
      "4: Wave mechanical concepts"
     ]
    },
    {
     "cell_type": "heading",
     "level": 2,
     "metadata": {},
     "source": [
      "Example number 4.1, Page number 59"
     ]
    },
    {
     "cell_type": "code",
     "collapsed": false,
     "input": [
      "#importing modules\n",
      "import math\n",
      "from __future__ import division\n",
      "\n",
      "#Variable declaration\n",
      "h=6.626*10**-34;    #planck's constant(Js)\n",
      "e=1.6*10**-19;   #conversion factor from J to eV\n",
      "m=9.1*10**-31;    #mass of electron(kg)\n",
      "V=1;    #assume\n",
      "\n",
      "#Calculation\n",
      "lamda=h/math.sqrt(2*m*e*V);    #debroglie wavelength(m)\n",
      "\n",
      "#Result\n",
      "print \"debroglie wavelength is math.sqrt(\",int((lamda*10**10)**2),\"/V) angstrom\""
     ],
     "language": "python",
     "metadata": {},
     "outputs": [
      {
       "output_type": "stream",
       "stream": "stdout",
       "text": [
        "debroglie wavelength is math.sqrt( 150 /V) angstrom\n"
       ]
      }
     ],
     "prompt_number": 9
    },
    {
     "cell_type": "heading",
     "level": 2,
     "metadata": {},
     "source": [
      "Example number 4.2, Page number 59"
     ]
    },
    {
     "cell_type": "code",
     "collapsed": false,
     "input": [
      "#importing modules\n",
      "import math\n",
      "from __future__ import division\n",
      "\n",
      "#Variable declaration\n",
      "h=6.626*10**-34;    #planck's constant(Js)\n",
      "c=3*10**8;    #velocity of light(m/sec)\n",
      "e=1.6*10**-19;   #conversion factor from J to eV\n",
      "m=9.1*10**-31;    #mass of electron(kg)\n",
      "KE=100*10**6;   #kinetic energy(eV)\n",
      "\n",
      "#Calculation\n",
      "p=math.sqrt(2*m*e);     #momentum(kg m/s)\n",
      "lamda1=h/p;    #debroglie wavelength for 1 eV(m)\n",
      "lamda2=h*c/(KE*e);    #debroglie wavelength for 100 MeV(m)\n",
      "\n",
      "#Result\n",
      "print \"debroglie wavelength for 1 eV is\",round(lamda1*10**9,1),\"nm\"\n",
      "print \"debroglie wavelength for 100 MeV is\",round(lamda2*10**15,2),\"*10**-15 m\""
     ],
     "language": "python",
     "metadata": {},
     "outputs": [
      {
       "output_type": "stream",
       "stream": "stdout",
       "text": [
        "debroglie wavelength for 1 eV is 1.2 nm\n",
        "debroglie wavelength for 100 MeV is 12.42 *10**-15 m\n"
       ]
      }
     ],
     "prompt_number": 12
    },
    {
     "cell_type": "heading",
     "level": 2,
     "metadata": {},
     "source": [
      "Example number 4.3, Page number 64"
     ]
    },
    {
     "cell_type": "code",
     "collapsed": false,
     "input": [
      "#importing modules\n",
      "import math\n",
      "from __future__ import division\n",
      "\n",
      "#Variable declaration\n",
      "m=9.1*10**-31;    #mass of electron(kg)\n",
      "v=4*10**6;    #speed of electron(m/s)\n",
      "sp=1/100;     #speed precision\n",
      "hbar=1.05*10**-34;  \n",
      "\n",
      "#Calculation\n",
      "p=m*v;   #momentum(kg m/s)\n",
      "deltap=p*sp;    #uncertainity in momentum(kg m/s)\n",
      "deltax=hbar/(2*deltap);   #precision in position(m)\n",
      "\n",
      "#Result\n",
      "print \"precision in position is\",round(deltax*10**9,2),\"nm\""
     ],
     "language": "python",
     "metadata": {},
     "outputs": [
      {
       "output_type": "stream",
       "stream": "stdout",
       "text": [
        "precision in position is 1.44 nm\n"
       ]
      }
     ],
     "prompt_number": 14
    },
    {
     "cell_type": "heading",
     "level": 2,
     "metadata": {},
     "source": [
      "Example number 4.4, Page number 64"
     ]
    },
    {
     "cell_type": "code",
     "collapsed": false,
     "input": [
      "#importing modules\n",
      "import math\n",
      "from __future__ import division\n",
      "\n",
      "#Variable declaration\n",
      "c=3*10**8;    #velocity of light(m/sec)\n",
      "lamda=4000*10**-10;    #wavelength(m)\n",
      "deltat=10**-8;    #average lifetime(s)\n",
      "\n",
      "#Calculation\n",
      "delta_lamda=lamda**2/(4*math.pi*c*deltat);   #width of line(m)\n",
      "\n",
      "#Result\n",
      "print \"width of line is\",round(delta_lamda*10**15,2),\"*10**-15 m\""
     ],
     "language": "python",
     "metadata": {},
     "outputs": [
      {
       "output_type": "stream",
       "stream": "stdout",
       "text": [
        "width of line is 4.24 *10**-15 m\n"
       ]
      }
     ],
     "prompt_number": 16
    }
   ],
   "metadata": {}
  }
 ]
}