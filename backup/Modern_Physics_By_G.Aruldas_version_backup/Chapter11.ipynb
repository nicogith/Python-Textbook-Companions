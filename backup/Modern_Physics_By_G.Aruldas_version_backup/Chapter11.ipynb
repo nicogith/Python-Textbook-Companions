{
 "metadata": {
  "name": "",
  "signature": "sha256:df9996e09d849b24524dd415b626cbe4279b4acdbe25d68bb407e2d42467c7a7"
 },
 "nbformat": 3,
 "nbformat_minor": 0,
 "worksheets": [
  {
   "cells": [
    {
     "cell_type": "heading",
     "level": 1,
     "metadata": {},
     "source": [
      "11: Lattice dynamics"
     ]
    },
    {
     "cell_type": "heading",
     "level": 2,
     "metadata": {},
     "source": [
      "Example number 11.1, Page number 238"
     ]
    },
    {
     "cell_type": "code",
     "collapsed": false,
     "input": [
      "#importing modules\n",
      "import math\n",
      "from __future__ import division\n",
      "\n",
      "#Variable declaration\n",
      "h=6.626*10**-34;    #planck's constant(Js)\n",
      "k=1.38*10**-23;   #boltzmann constant(J/K)\n",
      "thetaD=350;    #temperature for Cu(K)\n",
      "theetaD=550;   #temperature for Si(K)\n",
      "\n",
      "#Calculation\n",
      "newDCu=k*thetaD/h;   #highest possible frequency for Cu(per sec)\n",
      "newDSi=k*theetaD/h;  #highest possible frequency for Si(per sec)\n",
      "\n",
      "#Result\n",
      "print \"highest possible frequency for Cu is\",round(newDCu/10**11,3),\"*10**11 per sec\"\n",
      "print \"highest possible frequency for Si is\",round(newDSi/10**11,2),\"*10**11 per sec\""
     ],
     "language": "python",
     "metadata": {},
     "outputs": [
      {
       "output_type": "stream",
       "stream": "stdout",
       "text": [
        "highest possible frequency for Cu is 72.895 *10**11 per sec\n",
        "highest possible frequency for Si is 114.55 *10**11 per sec\n"
       ]
      }
     ],
     "prompt_number": 3
    },
    {
     "cell_type": "heading",
     "level": 2,
     "metadata": {},
     "source": [
      "Example number 11.2, Page number 238"
     ]
    },
    {
     "cell_type": "code",
     "collapsed": false,
     "input": [
      "#importing modules\n",
      "import math\n",
      "from __future__ import division\n",
      "\n",
      "#Variable declaration\n",
      "h=6.626*10**-34;    #planck's constant(Js)\n",
      "k=1.38*10**-23;   #boltzmann constant(J/K)\n",
      "N=6.02*10**26;   #avagadro number(k/mole)\n",
      "T=10;   #temperature(K)\n",
      "thetaD=105;   #debye temperature(K)\n",
      "\n",
      "#Calculation\n",
      "C=(12/5)*(math.pi**4)*N*k*(T/thetaD)**3;   #specific heat of lead(J/K kmol)\n",
      "newD=k*thetaD/h;    #highest frequency(per sec)\n",
      "\n",
      "#Result\n",
      "print \"specific heat of lead is\",round(C,1),\"J/K kmol\"\n",
      "print \"answer varies due to rounding off errors\"\n",
      "print \"highest frequency is\",round(newD/10**11,2),\"*10**11 per sec\""
     ],
     "language": "python",
     "metadata": {},
     "outputs": [
      {
       "output_type": "stream",
       "stream": "stdout",
       "text": [
        "specific heat of lead is 1677.7 J/K kmol\n",
        "answer varies due to rounding off errors\n",
        "highest frequency is 21.87 *10**11 per sec\n"
       ]
      }
     ],
     "prompt_number": 6
    }
   ],
   "metadata": {}
  }
 ]
}