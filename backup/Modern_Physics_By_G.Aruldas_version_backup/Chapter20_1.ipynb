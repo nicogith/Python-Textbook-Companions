{
 "metadata": {
  "name": "",
  "signature": "sha256:eeb9c551735bd0ab45890fc906baf874437271bf852063fccc60d822b2aaeaef"
 },
 "nbformat": 3,
 "nbformat_minor": 0,
 "worksheets": [
  {
   "cells": [
    {
     "cell_type": "heading",
     "level": 1,
     "metadata": {},
     "source": [
      "20: Nuclear radiation detectors and particle accelerators"
     ]
    },
    {
     "cell_type": "heading",
     "level": 2,
     "metadata": {},
     "source": [
      "Example number 20.1, Page number 390"
     ]
    },
    {
     "cell_type": "code",
     "collapsed": false,
     "input": [
      "#importing modules\n",
      "import math\n",
      "from __future__ import division\n",
      "\n",
      "#Variable declaration\n",
      "h=6.626*10**-34;    #planck's constant(Js)\n",
      "e=1.6*10**-19;   #conversion factor from J to eV\n",
      "m=1.67*10**-27;    #mass of proton(kg)\n",
      "E=30*10**6;   #energy(eV)\n",
      "r=1.2*10**-15;   #radius of nucleon(m)\n",
      "\n",
      "#Calculation\n",
      "lamdaP=h/math.sqrt(2*m*E*e);   #wavelength of proton(m)\n",
      "lamdaAlpha=h/math.sqrt(2*4*m*E*e);   #wavelength of alpha particle(m)\n",
      "a=2*r;    #size of nucleon(m)\n",
      "\n",
      "#Result\n",
      "print \"wavelength of proton is\",round(lamdaP*10**15,1),\"*10**-15 m\"\n",
      "print \"wavelength of alpha particle is\",round(lamdaAlpha*10**15,1),\"*10**-15 m\"\n",
      "print \"size of nucleon is\",a,\"m\"\n",
      "print \"alpha particle is better\""
     ],
     "language": "python",
     "metadata": {},
     "outputs": [
      {
       "output_type": "stream",
       "stream": "stdout",
       "text": [
        "wavelength of proton is 5.2 *10**-15 m\n",
        "wavelength of alpha particle is 2.6 *10**-15 m\n",
        "size of nucleon is 2.4e-15 m\n",
        "alpha particle is better\n"
       ]
      }
     ],
     "prompt_number": 3
    },
    {
     "cell_type": "heading",
     "level": 2,
     "metadata": {},
     "source": [
      "Example number 20.2, Page number 391"
     ]
    },
    {
     "cell_type": "code",
     "collapsed": false,
     "input": [
      "#importing modules\n",
      "import math\n",
      "from __future__ import division\n",
      "\n",
      "#Variable declaration\n",
      "q=1.6*10**-19;   #conversion factor from J to eV\n",
      "B=2;   #magnetic field(T)\n",
      "m=1.67*10**-27;    #mass of proton(kg)\n",
      "R=0.25;   #radius(m)\n",
      "a=6.24*10**12;   #conversion factor from J to MeV\n",
      "\n",
      "#Calculation\n",
      "f=q*B/(2*math.pi*m);    #frequency needed(MHz)\n",
      "KE=q**2*B**2*R**2/(2*m);   #kinetic energy(J)\n",
      "KE=KE*a;     #kinetic energy(MeV)\n",
      "\n",
      "#Result\n",
      "print \"frequency needed is\",round(f*10**-6,1),\"MHz\"\n",
      "print \"kinetic energy is\",round(KE),\"MeV\""
     ],
     "language": "python",
     "metadata": {},
     "outputs": [
      {
       "output_type": "stream",
       "stream": "stdout",
       "text": [
        "frequency needed is 30.5 MHz\n",
        "kinetic energy is 12.0 MeV\n"
       ]
      }
     ],
     "prompt_number": 8
    }
   ],
   "metadata": {}
  }
 ]
}