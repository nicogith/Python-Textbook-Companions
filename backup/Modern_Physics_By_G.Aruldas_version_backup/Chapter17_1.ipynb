{
 "metadata": {
  "name": "",
  "signature": "sha256:d405bf204e77196ade310e0be88ebb97609af7dc21d3bd3e418e5c80ec00e4d3"
 },
 "nbformat": 3,
 "nbformat_minor": 0,
 "worksheets": [
  {
   "cells": [
    {
     "cell_type": "heading",
     "level": 1,
     "metadata": {},
     "source": [
      "17: Nuclear properties"
     ]
    },
    {
     "cell_type": "heading",
     "level": 2,
     "metadata": {},
     "source": [
      "Example number 17.1, Page number 324"
     ]
    },
    {
     "cell_type": "code",
     "collapsed": false,
     "input": [
      "#importing modules\n",
      "import math\n",
      "from __future__ import division\n",
      "\n",
      "#Variable declaration\n",
      "m=1.67*10**-27;    #nucleon mass(kg)\n",
      "R0=1.2*10**-15;    #radius of nucleus(m)\n",
      "\n",
      "#Calculation\n",
      "d=m*3/(4*math.pi*R0**3);   #density of nucleus(kg/m**3)\n",
      "\n",
      "#Result\n",
      "print \"density of nucleus is\",round(d/10**17,1),\"*10**17 kg/m**3\""
     ],
     "language": "python",
     "metadata": {},
     "outputs": [
      {
       "output_type": "stream",
       "stream": "stdout",
       "text": [
        "density of nucleus is 2.3 *10**17 kg/m**3\n"
       ]
      }
     ],
     "prompt_number": 2
    },
    {
     "cell_type": "heading",
     "level": 2,
     "metadata": {},
     "source": [
      "Example number 17.2, Page number 324"
     ]
    },
    {
     "cell_type": "code",
     "collapsed": false,
     "input": [
      "#importing modules\n",
      "import math\n",
      "from __future__ import division\n",
      "\n",
      "#Variable declaration\n",
      "a=1.2*10**-15;\n",
      "k=9*10**9;   #value of N(Nm**2/C**2)\n",
      "q1=2;\n",
      "q2=90;\n",
      "e=1.6*10**-19;   #conversion factor from J to eV\n",
      "\n",
      "#Calculation\n",
      "r=a*((4**(1/3))+(228**(1/3)));    #distance(m)\n",
      "E=k*q1*q2*e**2/r;    #kinetic energy(J)\n",
      "E=E/(e*10**6);     #kinetic energy(MeV)\n",
      "\n",
      "#Result\n",
      "print \"potential energy is 0. kinetic energy is\",round(E,1),\"MeV\""
     ],
     "language": "python",
     "metadata": {},
     "outputs": [
      {
       "output_type": "stream",
       "stream": "stdout",
       "text": [
        "potential energy is 0. kinetic energy is 28.1 MeV\n"
       ]
      }
     ],
     "prompt_number": 5
    },
    {
     "cell_type": "heading",
     "level": 2,
     "metadata": {},
     "source": [
      "Example number 17.3, Page number 326"
     ]
    },
    {
     "cell_type": "code",
     "collapsed": false,
     "input": [
      "#importing modules\n",
      "import math\n",
      "from __future__ import division\n",
      "\n",
      "#Variable declaration\n",
      "E=2.48*10**4;    #electric field(V/m)\n",
      "m=1.6605*10**-27;    #nucleon mass(kg)\n",
      "e=1.6*10**-19;   #conversion factor from J to eV\n",
      "B=0.75;    #magnetic field(T)\n",
      "\n",
      "#Calculation\n",
      "r1=E*12*m/(e*B**2);    #distance on photographic plate for 12C(m)\n",
      "r1=r1*10**3;   #distance on photographic plate for 12C(mm)\n",
      "r2=E*13*m/(e*B**2);    #distance on photographic plate for 13C(m)\n",
      "r2=r2*10**3;   #distance on photographic plate for 13C(mm)\n",
      "r3=E*14*m/(e*B**2);    #distance on photographic plate for 14C(m)\n",
      "r3=r3*10**3;   #distance on photographic plate for 14C(mm)\n",
      "r4=(2*r2)-(2*r1);   #distance between lines of 13C and 12C(mm)\n",
      "r5=(2*r3)-(2*r2);   #distance between lines of 14C and 13C(mm)\n",
      "r=r4/2;    #distance if ions are doubly charged(mm)\n",
      "\n",
      "#Result\n",
      "print \"distance on photographic plate for 12C is\",round(r1,2),\"mm\"\n",
      "print \"distance on photographic plate for 13C is\",round(r2,2),\"mm\"\n",
      "print \"distance on photographic plate for 14C is\",round(r3,2),\"mm\"\n",
      "print \"distance if ions are doubly charged is\",round(r,2),\"mm\""
     ],
     "language": "python",
     "metadata": {},
     "outputs": [
      {
       "output_type": "stream",
       "stream": "stdout",
       "text": [
        "distance on photographic plate for 12C is 5.49 mm\n",
        "distance on photographic plate for 13C is 5.95 mm\n",
        "distance on photographic plate for 14C is 6.41 mm\n",
        "distance if ions are doubly charged is 0.46 mm\n"
       ]
      }
     ],
     "prompt_number": 7
    },
    {
     "cell_type": "heading",
     "level": 2,
     "metadata": {},
     "source": [
      "Example number 17.4, Page number 327"
     ]
    },
    {
     "cell_type": "code",
     "collapsed": false,
     "input": [
      "#importing modules\n",
      "import math\n",
      "from __future__ import division\n",
      "\n",
      "#Variable declaration\n",
      "n=6;   #number of neutrons\n",
      "p=6;   #number of protons\n",
      "M=12;  #mass of 12C6(u)\n",
      "E=931.5;  #energy(MeV)\n",
      "\n",
      "#Calculation\n",
      "mn=n*1.008665;   #mass of neutrons(u)\n",
      "mp=p*1.007825;    #mass of hydrogen atoms(u)\n",
      "m=mp+mn;   #total mass(u)\n",
      "md=m-M;    #mass deficiency(u)\n",
      "BE=md*E;   #binding energy(MeV)\n",
      "be=BE/12;  #average binding energy per nucleon(MeV)\n",
      "\n",
      "#Result\n",
      "print \"binding energy is\",round(BE,2),\"MeV\"\n",
      "print \"average binding energy per nucleon is\",round(be,2),\"MeV\""
     ],
     "language": "python",
     "metadata": {},
     "outputs": [
      {
       "output_type": "stream",
       "stream": "stdout",
       "text": [
        "binding energy is 92.16 MeV\n",
        "average binding energy per nucleon is 7.68 MeV\n"
       ]
      }
     ],
     "prompt_number": 9
    },
    {
     "cell_type": "heading",
     "level": 2,
     "metadata": {},
     "source": [
      "Example number 17.6, Page number 335"
     ]
    },
    {
     "cell_type": "code",
     "collapsed": false,
     "input": [
      "#importing modules\n",
      "import math\n",
      "from __future__ import division\n",
      "\n",
      "#Variable declaration\n",
      "M22Na=21.9944;   #mass of 22Na(u)\n",
      "m=1.008665;   #mass of last neutron(u)\n",
      "M23Na=22.989767;   #mass of 23Na(u)\n",
      "E=931.5;  #energy(MeV)\n",
      "\n",
      "#Calculation\n",
      "M=M22Na+m;   \n",
      "md=M-M23Na;     #mass deficiency(u)\n",
      "BE=md*E;    #binding energy(MeV)\n",
      "\n",
      "#Result\n",
      "print \"binding energy is\",round(BE,1),\"MeV\""
     ],
     "language": "python",
     "metadata": {},
     "outputs": [
      {
       "output_type": "stream",
       "stream": "stdout",
       "text": [
        "binding energy is 12.4 MeV\n"
       ]
      }
     ],
     "prompt_number": 11
    },
    {
     "cell_type": "heading",
     "level": 2,
     "metadata": {},
     "source": [
      "Example number 17.7, Page number 341"
     ]
    },
    {
     "cell_type": "code",
     "collapsed": false,
     "input": [
      "#importing modules\n",
      "import math\n",
      "from __future__ import division\n",
      "\n",
      "#Variable declaration\n",
      "hbar=1.05*10**-34;   \n",
      "c=3*10**8;   #speed of light(m/s)\n",
      "mpi=140;    #mass of pi-meson(MeV/c**2)\n",
      "e=1.6*10**-13;\n",
      "\n",
      "#Calculation\n",
      "r=hbar*c/(mpi*e);    #range of nuclear force(m)\n",
      "\n",
      "#Result\n",
      "print \"range of nuclear force is\",round(r*10**15,1),\"fm\""
     ],
     "language": "python",
     "metadata": {},
     "outputs": [
      {
       "output_type": "stream",
       "stream": "stdout",
       "text": [
        "range of nuclear force is 1.4 fm\n"
       ]
      }
     ],
     "prompt_number": 13
    }
   ],
   "metadata": {}
  }
 ]
}