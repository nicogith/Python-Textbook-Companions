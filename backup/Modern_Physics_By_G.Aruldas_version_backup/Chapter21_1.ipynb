{
 "metadata": {
  "name": "",
  "signature": "sha256:42eb4bd0fae1331d52fd855bad43219acea712dc31c5270f1f64fa698ba366ad"
 },
 "nbformat": 3,
 "nbformat_minor": 0,
 "worksheets": [
  {
   "cells": [
    {
     "cell_type": "heading",
     "level": 1,
     "metadata": {},
     "source": [
      "21: Elementary particles"
     ]
    },
    {
     "cell_type": "heading",
     "level": 2,
     "metadata": {},
     "source": [
      "Example number 21.1, Page number 399"
     ]
    },
    {
     "cell_type": "code",
     "collapsed": false,
     "input": [
      "#importing modules\n",
      "import math\n",
      "from __future__ import division\n",
      "\n",
      "#Variable declaration\n",
      "mpi=140;     #mass of pi-meson\n",
      "mp=938.3;    #mass of proton\n",
      "mk=498;   #mass of k\n",
      "m=1116;  \n",
      "\n",
      "#Calculation\n",
      "Q=mpi+mp-mk-m;    #Q-value(MeV)\n",
      "\n",
      "#Result\n",
      "print \"Q-value is\",round(Q),\"MeV\""
     ],
     "language": "python",
     "metadata": {},
     "outputs": [
      {
       "output_type": "stream",
       "stream": "stdout",
       "text": [
        "Q-value is -536.0 MeV\n"
       ]
      }
     ],
     "prompt_number": 3
    },
    {
     "cell_type": "heading",
     "level": 2,
     "metadata": {},
     "source": [
      "Example number 21.2, Page number 399"
     ]
    },
    {
     "cell_type": "code",
     "collapsed": false,
     "input": [
      "#importing modules\n",
      "import math\n",
      "from __future__ import division\n",
      "\n",
      "#Variable declaration\n",
      "mpc2=938.3;    #energy of proton(MeV)\n",
      "Epic2=139.6;   #energy of pi-meson(MeV)\n",
      "mnc2=939.6;    #energy of neutron(MeV)\n",
      "KE=0.6;    #kinetic energy of neutron(MeV)\n",
      "\n",
      "#Calculation\n",
      "Epi=mpc2+Epic2-mnc2-KE;    #energy conservation(MeV)\n",
      "mpic2=math.sqrt((Epi**2)-((mnc2+KE)**2)+(mnc2**2));   #pi0 mass(MeV)\n",
      "\n",
      "#Result\n",
      "print \"pi0 mass is\",round(mpic2,1),\"MeV\""
     ],
     "language": "python",
     "metadata": {},
     "outputs": [
      {
       "output_type": "stream",
       "stream": "stdout",
       "text": [
        "pi0 mass is 133.5 MeV\n"
       ]
      }
     ],
     "prompt_number": 5
    }
   ],
   "metadata": {}
  }
 ]
}