{
 "metadata": {
  "name": "",
  "signature": "sha256:1e02050388cdd15ca19e058c38c307c0fd0b145ef71769674c045940ea70b08b"
 },
 "nbformat": 3,
 "nbformat_minor": 0,
 "worksheets": [
  {
   "cells": [
    {
     "cell_type": "heading",
     "level": 1,
     "metadata": {},
     "source": [
      "7: Atomic physics"
     ]
    },
    {
     "cell_type": "heading",
     "level": 2,
     "metadata": {},
     "source": [
      "Example number 7.1, Page number 113"
     ]
    },
    {
     "cell_type": "code",
     "collapsed": false,
     "input": [
      "#importing modules\n",
      "import math\n",
      "from __future__ import division\n",
      "\n",
      "#Variable declaration\n",
      "mewB=9.27*10**-24;\n",
      "B=3;   #magnetic field(T)\n",
      "e=1.6*10**-19;   #conversion factor from J to eV\n",
      "\n",
      "#Calculation\n",
      "E=2*mewB*B/e;    #energy difference(eV)\n",
      "\n",
      "#Result\n",
      "print \"energy difference is\",round(E*10**4,2),\"*10**-4 eV\""
     ],
     "language": "python",
     "metadata": {},
     "outputs": [
      {
       "output_type": "stream",
       "stream": "stdout",
       "text": [
        "energy difference is 3.48 *10**-4 eV\n"
       ]
      }
     ],
     "prompt_number": 2
    },
    {
     "cell_type": "heading",
     "level": 2,
     "metadata": {},
     "source": [
      "Example number 7.3, Page number 118"
     ]
    },
    {
     "cell_type": "code",
     "collapsed": false,
     "input": [
      "#importing modules\n",
      "import math\n",
      "from __future__ import division\n",
      "\n",
      "#Variable declaration\n",
      "l=2;\n",
      "s=1/2;\n",
      "j1=2+(1/2);\n",
      "j2=2-(1/2);\n",
      "\n",
      "#Calculation\n",
      "L=math.sqrt(l*(l+1));   #value of L(hbar)\n",
      "S=math.sqrt(s*(s+1));   #value of S(hbar)\n",
      "J1=math.sqrt(j1*(j1+1));   #value of J for D5/2 state(hbar)\n",
      "J2=math.sqrt(j2*(j2+1));   #value of J for D3/2 state(hbar)\n",
      "costheta1=((j1*(j1+1))-(l*(l+1))-(s*(s+1)))/(2*L*S);\n",
      "theta1=math.acos(costheta1);    #angle between L and S for D5/2(radian)\n",
      "theta1=theta1*180/math.pi;    #angle between L and S for D5/2(degrees)\n",
      "costheta2=((j2*(j2+1))-(l*(l+1))-(s*(s+1)))/(2*L*S);\n",
      "theta2=math.acos(costheta2);    #angle between L and S for D3/2(radian)\n",
      "theta2=theta2*180/math.pi;    #angle between L and S for D3/2(degrees)\n",
      "\n",
      "#Result\n",
      "print \"value of L is\",round(L,3),\"hbar\"\n",
      "print \"value of S is\",round(S,3),\"hbar\"\n",
      "print \"value of J for D5/2 state is\",round(J1,3),\"hbar\"\n",
      "print \"value of J for D3/2 state is\",round(J2,3),\"hbar\"\n",
      "print \"angle between L and S for D5/2 is\",round(theta1,2),\"degrees\"\n",
      "print \"angle between L and S for D3/2 is\",int(theta2),\"degrees\""
     ],
     "language": "python",
     "metadata": {},
     "outputs": [
      {
       "output_type": "stream",
       "stream": "stdout",
       "text": [
        "value of L is 2.449 hbar\n",
        "value of S is 0.866 hbar\n",
        "value of J for D5/2 state is 2.958 hbar\n",
        "value of J for D3/2 state is 1.936 hbar\n",
        "angle between L and S for D5/2 is 61.87 degrees\n",
        "angle between L and S for D3/2 is 135 degrees\n"
       ]
      }
     ],
     "prompt_number": 4
    },
    {
     "cell_type": "heading",
     "level": 2,
     "metadata": {},
     "source": [
      "Example number 7.10, Page number 136"
     ]
    },
    {
     "cell_type": "code",
     "collapsed": false,
     "input": [
      "#importing modules\n",
      "import math\n",
      "from __future__ import division\n",
      "\n",
      "#Variable declaration\n",
      "S=1;\n",
      "L=1;  \n",
      "J=1;\n",
      "\n",
      "#Calculation\n",
      "a=L*(L+1)-(L*(L+1));\n",
      "g1=1+(a/(2*L*(L+1)));    #lande's g-factor for pure orbital angular momentum\n",
      "b=(S*(S+1)+(S*(S+1)))/(2*S*(S+1));   #lande's g-factor for pure spin angular momentum\n",
      "g2=1+b;      #lande's g-factor for pure spin angular momentum\n",
      "c=J*(J+1)+(S*(S+1))-(L*(L+1));\n",
      "g3=1+(c/(2*J*(J+1)));   #lande's g-factor for state 3P1\n",
      "\n",
      "#Result\n",
      "print \"lande's g-factor for pure orbital angular momentum is\",g1\n",
      "print \"ande's g-factor for pure spin angular momentum is\",g2\n",
      "print \"lande's g-factor for state 3P1 is\",g3"
     ],
     "language": "python",
     "metadata": {},
     "outputs": [
      {
       "output_type": "stream",
       "stream": "stdout",
       "text": [
        "lande's g-factor for pure orbital angular momentum is 1.0\n",
        "ande's g-factor for pure spin angular momentum is 2.0\n",
        "lande's g-factor for state 3P1 is 1.5\n"
       ]
      }
     ],
     "prompt_number": 6
    },
    {
     "cell_type": "heading",
     "level": 2,
     "metadata": {},
     "source": [
      "Example number 7.12, Page number 141"
     ]
    },
    {
     "cell_type": "code",
     "collapsed": false,
     "input": [
      "#importing modules\n",
      "import math\n",
      "from __future__ import division\n",
      "\n",
      "#Variable declaration\n",
      "EKalpha=21.99;   #energy in silver(keV)\n",
      "EKbita=25.145;   #energy in silver(keV)\n",
      "E=-25.514;    #energy of n=1 state(keV)\n",
      " \n",
      "#Calculation\n",
      "ELalpha=EKbita-EKalpha;     #energy of L alpha X ray(keV)\n",
      "E2=-E-EKalpha;    #binding energy of L electron(keV)\n",
      "\n",
      "#Result\n",
      "print \"energy of L alpha X ray is\",ELalpha,\"keV\"\n",
      "print \"binding energy of L electron is\",E2,\"keV\""
     ],
     "language": "python",
     "metadata": {},
     "outputs": [
      {
       "output_type": "stream",
       "stream": "stdout",
       "text": [
        "energy of L alpha X ray is 3.155 keV\n",
        "binding energy of L electron is 3.524 keV\n"
       ]
      }
     ],
     "prompt_number": 8
    },
    {
     "cell_type": "heading",
     "level": 2,
     "metadata": {},
     "source": [
      "Example number 7.13, Page number 141"
     ]
    },
    {
     "cell_type": "code",
     "collapsed": false,
     "input": [
      "#importing modules\n",
      "import math\n",
      "from __future__ import division\n",
      "\n",
      "#Variable declaration\n",
      "h=6.626*10**-34;    #planck's constant(Js)\n",
      "c=3*10**8;    #velocity of light(m/sec)\n",
      "Z=11;    #atomic number\n",
      "R=1.097*10**7;    #value of R(per m)\n",
      "\n",
      "#Calculation\n",
      "E=(3*h*c*R*(Z-1)**2)/4;     #energy of k aplha X-ray(keV)\n",
      "\n",
      "#Result\n",
      "print \"energy of k aplha X-ray is\",round(E*10**16,2),\"*10**-16 keV\"\n",
      "print \"answer given in the book is wrong\""
     ],
     "language": "python",
     "metadata": {},
     "outputs": [
      {
       "output_type": "stream",
       "stream": "stdout",
       "text": [
        "energy of k aplha X-ray is 1.64 *10**-16 keV\n",
        "answer given in the book is wrong\n"
       ]
      }
     ],
     "prompt_number": 12
    }
   ],
   "metadata": {}
  }
 ]
}