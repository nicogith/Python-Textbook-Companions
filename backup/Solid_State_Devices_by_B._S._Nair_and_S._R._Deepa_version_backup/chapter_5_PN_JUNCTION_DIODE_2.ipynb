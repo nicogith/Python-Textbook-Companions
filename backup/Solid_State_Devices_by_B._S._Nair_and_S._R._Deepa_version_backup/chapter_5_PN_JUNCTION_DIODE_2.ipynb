{
 "cells": [
  {
   "cell_type": "markdown",
   "metadata": {},
   "source": [
    "# chapter 5 PN JUNCTION DIODE"
   ]
  },
  {
   "cell_type": "markdown",
   "metadata": {},
   "source": [
    "## Example 5_5  pgno: 142"
   ]
  },
  {
   "cell_type": "code",
   "execution_count": 1,
   "metadata": {
    "collapsed": false
   },
   "outputs": [
    {
     "name": "stdout",
     "output_type": "stream",
     "text": [
      "Na 100000000000000000 /cmˆ3\n",
      "Nd=  1000000000000000 /cmˆ3\n",
      "no =  15000000000.0 cmˆ−3\n",
      "e =  1.6e-19 columns\n",
      "K =  1.38e-23 J/k\n",
      "T =  300 K\n",
      "(a)fermi level in the P region , Efi Efp=((KT/e) ∗ log (Na/no ) ) )=  0.406564315296 eV\n",
      "fermi level in the n region,Efn Efi=((KT/e)∗log (Nd/no) ) )= 0.287405536734  eV\n",
      "(b) junction potential at room temperature ,Efn Efp=(Efi Efp)+(Efn Efi))= 0.69396985203  eV\n"
     ]
    }
   ],
   "source": [
    "#exa 5.5\n",
    "from math import log\n",
    "Na =10**17\n",
    "print \"Na\",Na,\"/cmˆ3\" # initializing value of medium p doping concentration .\n",
    "Nd =10**15\n",
    "print \"Nd= \",Nd,\"/cmˆ3\" # initializing value of light n doping .\n",
    "no=1.5*10**10\n",
    "print \"no = \",no,\"cmˆ−3\" # initializing value of intrinsic carrier concentration .\n",
    "e=1.6*10**-19\n",
    "print \"e = \",e,\"columns\" # initializing value of charge of electrons .\n",
    "K=1.38*10**-23\n",
    "print \"K = \",K,\"J/k\"   #initializing value of boltzmann constant .\n",
    "T=300\n",
    "print \"T = \",T,\"K\" # initializing value of temperature .\n",
    "Efi_Efp=((K*T/e)*log(Na/no))\n",
    "print \"(a)fermi level in the P region , Efi Efp=((KT/e) ∗ log (Na/no ) ) )= \",Efi_Efp,\"eV\" # calculation .\n",
    "Efn_Efi=((K*T/e)*log(Nd/no))\n",
    "print \"fermi level in the n region,Efn Efi=((KT/e)∗log (Nd/no) ) )=\",Efn_Efi,\" eV\" # calculation\n",
    "Efn_Efp=(Efi_Efp)+(Efn_Efi)\n",
    "print\"(b) junction potential at room temperature ,Efn Efp=(Efi Efp)+(Efn Efi))=\",Efn_Efp,\" eV\" #calculation ."
   ]
  },
  {
   "cell_type": "markdown",
   "metadata": {},
   "source": [
    "## Example 5_7  pgno: 143"
   ]
  },
  {
   "cell_type": "code",
   "execution_count": 2,
   "metadata": {
    "collapsed": false
   },
   "outputs": [
    {
     "name": "stdout",
     "output_type": "stream",
     "text": [
      "Pp=  1000000000000000000 /cmˆ3\n",
      "Nn=  1000000000000000 /cmˆ3\n",
      "tp =  7e-06 s\n",
      "tn =  2e-07 s\n",
      "up=  800 cm2/Vs\n",
      "un=  300 cm2/Vs\n",
      "no =  15000000000.0 cmˆ−3\n",
      "Vf =  0.6 V\n",
      "A =  0.0001 mˆ2\n",
      "e =  1.6e-19 columns\n",
      "K =  1.38e-23 J/k\n",
      "T =  300 K\n",
      "Vt=(K∗T/e))= 0.025875 eV\n",
      "Dp=Vt∗un= 7.7625 cmˆ−3\n",
      "Dn=Vt∗up= 20.7 cmˆ−3\n",
      "Lp=(sqrt(Dp∗tp))= 0.00737139742518 cm\n",
      "Ln=(sqrt(Dn∗tn))= 0.00203469899494 cm\n",
      "npo=(no^2/Pp)= 225.0 cmˆ−3\n",
      "Ppo=(noˆ2/Nn)= 225000.0 cmˆ−3\n",
      "Reverse saturation current ,Io=(((Dp∗Ppo)/(Lp)) + ( ( D n ∗ n p o ) / ( L n ) ) ) ∗ e ∗ A=  3.827628972e-15  A \n",
      "Diode forward current , If=Io∗((exp(Vf/Vt))−1)= 4.5032547414e-05 A\n"
     ]
    }
   ],
   "source": [
    "#exa 5.7\n",
    "from math import sqrt\n",
    "from math import exp\n",
    "Pp =10**18\n",
    "print \"Pp= \",Pp,\"/cmˆ3\" # initializing value of doping concentration in p region.\n",
    "Nn =10**15\n",
    "print \"Nn= \",Nn,\"/cmˆ3\" # initializing value of doping concentration in n region.\n",
    "tp =7*10** -6\n",
    "print \"tp = \",tp,\"s\" # initializing value of hole lifetime .\n",
    "tn =0.2*10** -6\n",
    "print \"tn = \",tn,\"s\" # initializing value of electron lifetime .\n",
    "up=800\n",
    "print \"up= \",up,\"cm2/Vs\" # initializing value of P side mobility .\n",
    "un=300\n",
    "print \"un= \",un,\"cm2/Vs\" # initializing value of n side mobility .\n",
    "no=1.5*(10**10)\n",
    "print \"no = \",no,\"cmˆ−3\" # initializing value of intrinsic concentration .\n",
    "Vf=0.6\n",
    "print \"Vf = \",Vf,\"V\" # initializing value of forward bias voltage .\n",
    "A=100*(10**-6)\n",
    "print \"A = \",A,\"mˆ2\"# initializing value of diode cross−sectional area .\n",
    "e=1.6*(10**-19)\n",
    "print \"e = \",e,\"columns\" # initializing value of charge of electrons .\n",
    "K=1.38*(10**-23)\n",
    "print \"K = \",K,\"J/k\" # initializing value of boltzmann constant .\n",
    "T=300\n",
    "print \"T = \",T,\"K\"  # initializing value of temperature .\n",
    "Vt=(K*T/e)\n",
    "print \"Vt=(K∗T/e))=\",Vt,\"eV\" #calculation .\n",
    "Dp=Vt*un\n",
    "print \"Dp=Vt∗un=\",Dp,\"cmˆ−3\" # calculation .\n",
    "Dn=Vt*up\n",
    "print \"Dn=Vt∗up=\",Dn,\"cmˆ−3\" # calculation .\n",
    "Lp=sqrt(Dp*tp)\n",
    "print \"Lp=(sqrt(Dp∗tp))=\",Lp,\"cm\" # calculation .\n",
    "Ln=(sqrt(Dn*tn))\n",
    "print \"Ln=(sqrt(Dn∗tn))=\",Ln,\"cm\" # calculation .\n",
    "npo=(no**2/Pp)\n",
    "print \"npo=(no^2/Pp)=\",npo,\"cmˆ−3\" # calculation .\n",
    "Ppo=(no**2/Nn)\n",
    "print \"Ppo=(noˆ2/Nn)=\",Ppo,\"cmˆ−3\" #calculation .\n",
    "Io=(((Dp*Ppo)/(Lp))+((Dn*npo)/(Ln)))*e*A\n",
    "print \"Reverse saturation current ,Io=(((Dp∗Ppo)/(Lp)) + ( ( D n ∗ n p o ) / ( L n ) ) ) ∗ e ∗ A= \",Io,\" A \" #calculation .\n",
    "If=Io*((exp(Vf/Vt))-1)\n",
    "print \"Diode forward current , If=Io∗((exp(Vf/Vt))−1)=\",If,\"A\" # calculation .\n",
    "#//the value of Io(reverse saturation current ),after calculation is provided wrong in the book.Due to which If (diode forward current )also differ.\n"
   ]
  },
  {
   "cell_type": "markdown",
   "metadata": {},
   "source": [
    "## Example 5_8  pgno: 144"
   ]
  },
  {
   "cell_type": "code",
   "execution_count": 3,
   "metadata": {
    "collapsed": false
   },
   "outputs": [
    {
     "name": "stdout",
     "output_type": "stream",
     "text": [
      "Na =  40000000000000000 cmˆ−3\n",
      "Nd =  20000000000000000000 cmˆ−3\n",
      "no =  15000000000.0 cmˆ−3\n",
      "e =  1.6e-19 columns\n",
      "K =  1.38e-23 J/k\n",
      "T =  300 K\n",
      "Built in potential potential ,Vbi=((K∗T/e)∗log((Na∗Nd) /(no) ˆ2) )= 0.926513569765 V\n"
     ]
    }
   ],
   "source": [
    "#exa 5.8\n",
    "Na =4*10**16\n",
    "print \"Na = \",Na,\"cmˆ−3\" # initializing value of acceptor concentration .\n",
    "Nd =2*10**19\n",
    "print \"Nd = \",Nd,\"cmˆ−3\" # initializing value of donor concentration .\n",
    "no=1.5*10**10\n",
    "print \"no = \",no,\"cmˆ−3\" # initializing value of intrinsic carrier concentration .\n",
    "e=1.6*10**-19\n",
    "print \"e = \",e,\"columns\" # initializing value of charge of electrons .\n",
    "K=1.38*10**-23\n",
    "print \"K = \",K,\"J/k\" # initializing value of boltzmann constant .\n",
    "T=300\n",
    "print \"T = \",T,\"K\" # initializing value of temperature .\n",
    "Vbi=((K*T/e)*log((Na*Nd)/(no)**2))\n",
    "print \"Built in potential potential ,Vbi=((K∗T/e)∗log((Na∗Nd) /(no) ˆ2) )=\",Vbi,\"V\" # calculation\n",
    "#The value used for Nd in the book for solution is different than provided in the question .\n",
    "#I have used the value provided in the solution(i.eNd=2∗10ˆ19)"
   ]
  },
  {
   "cell_type": "markdown",
   "metadata": {},
   "source": [
    "## Example 5_9  pgno: 144"
   ]
  },
  {
   "cell_type": "code",
   "execution_count": 4,
   "metadata": {
    "collapsed": false
   },
   "outputs": [
    {
     "name": "stdout",
     "output_type": "stream",
     "text": [
      "Na =  40000000000000000 cmˆ−3\n",
      "Nd =  20000000000000000000 cmˆ−3\n",
      "no =  1800000.0 cmˆ−3\n",
      "e =  1.6e-19 columns\n",
      "K =  1.38e-23 J/k\n",
      "T =  300 K\n",
      "Built in potential potential ,Vbi=((K∗T/e)∗log((Na∗Nd) /(no) ˆ2) )=  1.39371354345 V\n"
     ]
    }
   ],
   "source": [
    "#exa 5.9\n",
    "Na =4*10**16\n",
    "print \"Na = \",Na,\"cmˆ−3\" # initializing value of acceptor concentration .\n",
    "Nd =2*10**19\n",
    "print \"Nd = \",Nd,\"cmˆ−3\" # initializing value of donor concentration .\n",
    "no=1.8*10**6\n",
    "print \"no = \",no,\"cmˆ−3\" # initializing value of intrinsic carrier concentration .\n",
    "e=1.6*10**-19\n",
    "print \"e = \",e,\"columns\"  # initializing value of charge of electrons .\n",
    "K=1.38*10**-23\n",
    "print \"K = \",K,\"J/k\"   # initializing value of boltzmann constant .\n",
    "T=300\n",
    "print \"T = \",T,\"K\" # initializing value of temperature .\n",
    "Vbi=((K*T/e)*log((Na*Nd)/(no)**2))\n",
    "print \"Built in potential potential ,Vbi=((K∗T/e)∗log((Na∗Nd) /(no) ˆ2) )= \",Vbi,\"V\" # calculation .\n"
   ]
  },
  {
   "cell_type": "markdown",
   "metadata": {},
   "source": [
    "## Example 5_10  pgno: 144"
   ]
  },
  {
   "cell_type": "code",
   "execution_count": 5,
   "metadata": {
    "collapsed": false
   },
   "outputs": [
    {
     "name": "stdout",
     "output_type": "stream",
     "text": [
      "Na=  1e+17 /cmˆ3\n",
      "Nd=  1e+19 /cmˆ3\n",
      "Vbi =  0.64 V\n",
      "e =  1.6e-19 columns\n",
      "Er =  11.9\n",
      "Eo =  8.854e-14  F/cm\n",
      " total permittivity ,E=Eo∗Er=  1.053626e-12  F/cm\n",
      "W=sqrt((2∗E∗Vbi/e)∗((Nd+Na)/(Na∗Nd))))= 9.22675353524e-06  cm\n",
      "xn=((W∗Na) /(Nd+Na) ) )= 9.13539953984e-08 cm\n",
      "xp=((W∗Nd) /(Nd+Na) ) )= 9.13539953984e-06 cm\n",
      "Emax=(−e∗Nd∗xn)/E)= -138727.017592 V/cm\n"
     ]
    }
   ],
   "source": [
    "# exa 5.10\n",
    "from math import sqrt\n",
    "Na =10e16\n",
    "print \"Na= \",Na,\"/cmˆ3\" # initializing value of medium p doping concentration .\n",
    "Nd =10e18\n",
    "print \"Nd= \",Nd,\"/cmˆ3\" # initializing value of light n doping .\n",
    "Vbi =0.64\n",
    "print \"Vbi = \",Vbi,\"V\" # initializing value of built in voltage .\n",
    "e=1.6*10**-19\n",
    "print \"e = \",e,\"columns\"  # initializing value of charge of electrons .\n",
    "Er=11.9\n",
    "print \"Er = \",Er # initializing value of relative dielectric permittivity constant .\n",
    "Eo=8.854*10**-14\n",
    "print \"Eo = \",Eo,\" F/cm\" # initializing value of permittivity of free space .\n",
    "E=Eo*Er\n",
    "print \" total permittivity ,E=Eo∗Er= \",E,\" F/cm\"  #calculation .\n",
    "W=sqrt((2*E*Vbi/e)*((Nd+Na)/(Na*Nd)))\n",
    "print \"W=sqrt((2∗E∗Vbi/e)∗((Nd+Na)/(Na∗Nd))))=\",W,\" cm\"  # calculation .\n",
    "xn=((W*Na)/(Nd+Na))\n",
    "print \"xn=((W∗Na) /(Nd+Na) ) )=\",xn,\"cm\"  # calculation .\n",
    "xp=((W*Nd)/(Nd+Na))\n",
    "print \"xp=((W∗Nd) /(Nd+Na) ) )=\",xp,\"cm\"  # calculation .\n",
    "Emax=(-e*Nd*xn)/E\n",
    "print \"Emax=(−e∗Nd∗xn)/E)=\",Emax,\"V/cm\"  #calculation .\n",
    "# The value and unit of W(depletion width) ,provided after calculation in the book is wrong.Due to this xn,xp ,Emax also differ.\n",
    "\n"
   ]
  },
  {
   "cell_type": "markdown",
   "metadata": {},
   "source": [
    "## Example 5_12  pgno: 145"
   ]
  },
  {
   "cell_type": "code",
   "execution_count": 6,
   "metadata": {
    "collapsed": false
   },
   "outputs": [
    {
     "name": "stdout",
     "output_type": "stream",
     "text": [
      "Na =  10000000000000000 /cmˆ3\n",
      "Nd =  1000000000000000000 /cmˆ3\n",
      "Vbi =  0.64 V\n",
      "Vr =  20 V\n",
      "e =  1.6e-19 columns\n",
      "Er =  11.9\n",
      "Eo =  8.854e-14  F/cm\n",
      " total permittivity ,E=Eo∗Er=  1.053626e-12  F/cm\n",
      "Emax=−(sqrt(((2∗e∗(Vbi+Vr))/(E))∗((Nd∗Na)/(Na+Nd)))))=  -249129.931857 V/cm\n"
     ]
    }
   ],
   "source": [
    "#exa 5.12\n",
    "Na =10**16\n",
    "print \"Na = \",Na,\"/cmˆ3\" # initializing value of medium p doping concentration .\n",
    "Nd =10**18\n",
    "print \"Nd = \",Nd,\"/cmˆ3\" # initializing value of light n doping .\n",
    "Vbi =0.64\n",
    "print \"Vbi = \",Vbi,\"V\" # initializing value of built in voltage .\n",
    "Vr=20\n",
    "print \"Vr = \",Vr,\"V\" # initializing value of applied reverse voltage .\n",
    "e=1.6*10**-19\n",
    "print \"e = \",e,\"columns\" # initializing value of charge of electrons .\n",
    "Er=11.9\n",
    "print \"Er = \",Er # initializing value of relative dielectric permittivity constant .\n",
    "Eo=8.854*10**-14\n",
    "print \"Eo = \",Eo,\" F/cm\" # initializing value of permittivity of free space .\n",
    "E=Eo*Er\n",
    "print \" total permittivity ,E=Eo∗Er= \",E,\" F/cm\" #calculation .\n",
    "Emax=-(sqrt(((2*e*(Vbi+Vr))/(E))*((Nd*Na)/(Na+Nd))))\n",
    "print \"Emax=−(sqrt(((2∗e∗(Vbi+Vr))/(E))∗((Nd∗Na)/(Na+Nd)))))= \",Emax,\"V/cm\"  #calculation .\n"
   ]
  },
  {
   "cell_type": "markdown",
   "metadata": {},
   "source": [
    "## Example 5_13  pgno: 146"
   ]
  },
  {
   "cell_type": "code",
   "execution_count": 7,
   "metadata": {
    "collapsed": false
   },
   "outputs": [
    {
     "name": "stdout",
     "output_type": "stream",
     "text": [
      "Emax =  200000 V/cm\n",
      "Nd=  1000000000000000000 /cmˆ3\n",
      "Vbi =  0.54 V\n",
      "Vr =  20 V \n",
      "e =  1.6e-19 columns\n",
      "Er =  11.9\n",
      "Eo =  8.854e-14  F/cm\n",
      "total permittivity ,E=Eo∗Er= 1.053626e-12  F/cm\n",
      "Na=(Emaxˆ2∗E∗Nd)/((2∗e∗(Vbi+Vr)∗Nd)−(Emaxˆ2∗E)) )=  6.45341703981e+15 cmˆ−3\n"
     ]
    }
   ],
   "source": [
    "#exa 5.13\n",
    "Emax =2*10**5\n",
    "print \"Emax = \",Emax,\"V/cm\" # initializing value of maximum electric field .\n",
    "Nd=1*10**18\n",
    "print \"Nd= \",Nd,\"/cmˆ3\" # initializing value of donor concentration .\n",
    "Vbi=0.54\n",
    "print \"Vbi = \",Vbi,\"V\" # initializing value of built in voltage .\n",
    "Vr=20\n",
    "print \"Vr = \",Vr,\"V \" #initializing value of applied reverse voltage .\n",
    "e=1.6*10**-19\n",
    "print \"e = \",e,\"columns\" # initializing value of charge of electrons .\n",
    "Er=11.9\n",
    "print \"Er = \",Er # initializing value of relative dielectric permittivity constant .\n",
    "Eo=8.854*10**-14\n",
    "print \"Eo = \",Eo,\" F/cm\" # initializing value of permittivity of free space .\n",
    "E=Eo*Er\n",
    "print \"total permittivity ,E=Eo∗Er=\",E,\" F/cm\"  #calculation .\n",
    "Na=((Emax**2)*E*Nd)/((2*e*(Vbi+Vr)*Nd)-((Emax**2)*E))\n",
    "print \"Na=(Emaxˆ2∗E∗Nd)/((2∗e∗(Vbi+Vr)∗Nd)−(Emaxˆ2∗E)) )= \",Na,\"cmˆ−3\" # calculation .\n"
   ]
  },
  {
   "cell_type": "markdown",
   "metadata": {},
   "source": [
    "## Example 5_14  pgno: 146"
   ]
  },
  {
   "cell_type": "code",
   "execution_count": 8,
   "metadata": {
    "collapsed": false
   },
   "outputs": [
    {
     "name": "stdout",
     "output_type": "stream",
     "text": [
      "Na =  10000000000000000 /cmˆ3\n",
      "Nd =  1000000000000000000 /cmˆ3\n",
      "A =  1 cmˆ2\n",
      "Vj = 0.54 V\n",
      "Va =  10 V\n",
      "e =  1.6e-19 columns\n",
      "Er =  11.9\n",
      "Eo =  8.854e-14  F/cm\n",
      "total permittivity ,E=Eo∗Er=  1.053626e-12  F/cm\n",
      "Cj=sqrt((e∗E∗Aˆ2/(2∗(Va+Vj))∗((Na∗Nd)/(Na+Nd))))= 8.89830403817e-09 f/cmˆ2\n"
     ]
    }
   ],
   "source": [
    "#exa 5.14\n",
    "Na =10**16\n",
    "print \"Na = \",Na,\"/cmˆ3\" # initializing value of acceptor concentration .\n",
    "Nd =10**18\n",
    "print \"Nd = \",Nd,\"/cmˆ3\" # initializing value of donor concentration .\n",
    "A=1\n",
    "print \"A = \",A,\"cmˆ2\" # initializing value of area for finding junction capacitance per unit area.\n",
    "Vj =0.54\n",
    "print \"Vj =\",Vj,\"V\" # initializing value of built in voltage .\n",
    "Va=10\n",
    "print \"Va = \",Va,\"V\" # initializing value of applied reverse voltage .\n",
    "e=1.6*10**-19\n",
    "print \"e = \",e,\"columns\" # initializing value of charge of electrons .\n",
    "Er=11.9\n",
    "print \"Er = \",Er # initializing value of relative dielectric permittivity constant .\n",
    "Eo=8.854*10**-14\n",
    "print \"Eo = \",Eo,\" F/cm\"  # initializing value of permittivity of free space .\n",
    "E=Eo*Er\n",
    "print \"total permittivity ,E=Eo∗Er= \",E,\" F/cm\" # calculation .\n",
    "Cj=sqrt((e*E*A**2/(2*(Va+Vj)))*((Na*Nd)/(Na+Nd)))\n",
    "print \"Cj=sqrt((e∗E∗Aˆ2/(2∗(Va+Vj))∗((Na∗Nd)/(Na+Nd))))=\",Cj,\"f/cmˆ2\" # calculation .\n"
   ]
  },
  {
   "cell_type": "markdown",
   "metadata": {},
   "source": [
    "## Example 5_15  pgno: 146"
   ]
  },
  {
   "cell_type": "code",
   "execution_count": 9,
   "metadata": {
    "collapsed": false
   },
   "outputs": [
    {
     "name": "stdout",
     "output_type": "stream",
     "text": [
      "Na=  1000000000000000 cmˆ−3\n",
      "Nd=  1000000000000000000  cmˆ−3\n",
      "no =  1800000.0  cmˆ−3\n",
      "e =  1.6e-19 columbs\n",
      "K =  1.38e-23  J/k\n",
      "T =  300  K\n",
      "Built in potential potential ,Vbi=((K∗T/e)∗log((Na∗Nd)/(no)ˆ2))=  1.220749215 V\n"
     ]
    }
   ],
   "source": [
    "#exa 5.15\n",
    "Na =10**15\n",
    "print \"Na= \",Na,\"cmˆ−3\"  # initializing value of acceptor concentration .\n",
    "Nd =10**18\n",
    "print \"Nd= \",Nd,\" cmˆ−3\" # initializing value of donor concentration .\n",
    "no=1.8*10**6\n",
    "print \"no = \",no,\" cmˆ−3\" # initializing value of intrinsic carrier concentration .\n",
    "e=1.6*10**-19\n",
    "print \"e = \",e,\"columbs\" # initializing value of charge of electrons .\n",
    "K=1.38*10**-23\n",
    "print \"K = \",K,\" J/k\" # initializing value of boltzmann constant .\n",
    "T=300\n",
    "print \"T = \",T,\" K\" # initializing value of temperature .\n",
    "Vbi=((K*T/e)*log((Na*Nd)/(no)**2))\n",
    "print \"Built in potential potential ,Vbi=((K∗T/e)∗log((Na∗Nd)/(no)ˆ2))= \",Vbi,\"V\"  # calculation .\n"
   ]
  },
  {
   "cell_type": "markdown",
   "metadata": {},
   "source": [
    "## Example 5_16  pgno: 146"
   ]
  },
  {
   "cell_type": "code",
   "execution_count": 10,
   "metadata": {
    "collapsed": false
   },
   "outputs": [
    {
     "name": "stdout",
     "output_type": "stream",
     "text": [
      "Na=  1000000000000000000 cmˆ−3\n",
      "Nd=  1000000000000000000  cmˆ−3\n",
      "Vbi =  1.4\n",
      "e =  1.6e-19  columbs\n",
      "K =  1.38e-23 J/k\n",
      "T =  300  K\n",
      "Vt =  0.0259  eV\n",
      "no=sqrt ((Na∗Nd)/(exp(Vbi/Vt)))= 1829411.05814 cmˆ−3\n"
     ]
    }
   ],
   "source": [
    "#5.16\n",
    "Na =10**18\n",
    "print \"Na= \",Na, \"cmˆ−3\" # initializing value of acceptor concentration .\n",
    "Nd =10**18\n",
    "print \"Nd= \",Nd,\" cmˆ−3\" # initializing value of donor concentration .\n",
    "Vbi =1.4\n",
    "print \"Vbi = \",Vbi  # initializing value of built in voltage .\n",
    "e=1.6*10**-19\n",
    "print \"e = \",e,\" columbs\"  # initializing value of charge of electrons .\n",
    "K=1.38*10**-23\n",
    "print \"K = \",K,\"J/k\" # initializing value of boltzmann constant .\n",
    "T=300\n",
    "print \"T = \",T,\" K\" # initializing value of temperature .\n",
    "Vt=0.0259\n",
    "print \"Vt = \",Vt,\" eV\" # initializing value of thermal voltage .\n",
    "no=sqrt((Na*Nd)/(exp(Vbi/Vt)))\n",
    "print \"no=sqrt ((Na∗Nd)/(exp(Vbi/Vt)))=\",no,\"cmˆ−3\"  #calculation ."
   ]
  },
  {
   "cell_type": "markdown",
   "metadata": {},
   "source": [
    "## Example 5_18  pgno: 147"
   ]
  },
  {
   "cell_type": "code",
   "execution_count": 11,
   "metadata": {
    "collapsed": false
   },
   "outputs": [
    {
     "name": "stdout",
     "output_type": "stream",
     "text": [
      "Na =  100000000000000000  cmˆ−3\n",
      "Nd =  50000000000000000  cmˆ−3\n",
      "e =  1.6e-19  columbs\n",
      "no =  15000000000.0  cmˆ3\n",
      "T =  300  K\n",
      "Vt =  0.0259  eV\n",
      "(a)Vbi=(Vt∗(log(Na∗Nd/(noˆ2))))=  0.795961750143  V\n",
      "(b)value of fermi level on each side of junction ,Efi Efp=(Vt∗log(Na/(no)))= 0.40695713106  V\n",
      "Efn Efi=(Vt∗log(Nd/(no)))= 0.389004619083  V\n",
      "(c)The energy band digram is similar to Fig P5 .3\n",
      "(d)Vbi=((Efi Efp)+(Efn Efi))/(e)=Vj= 0.795961750143  V\n"
     ]
    }
   ],
   "source": [
    "#exa 5.18\n",
    "Na =10**17\n",
    "print \"Na = \",Na,\" cmˆ−3\"  # initializing value of acceptor concentration .\n",
    "Nd =5*10**16\n",
    "print \"Nd = \",Nd,\" cmˆ−3\" # initializing value of donor concentration .\n",
    "e=1.6*10**-19\n",
    "print \"e = \",e,\" columbs\" # initializing value of charge of electrons .\n",
    "no=1.5*10**10\n",
    "print \"no = \",no,\" cmˆ3\" # initializing value of intrinsic carrier concentration .\n",
    "T=300\n",
    "print \"T = \",T,\" K\" # initializing value of temperature .\n",
    "Vt=0.0259\n",
    "print \"Vt = \",Vt,\" eV\" # initializing value of thermal voltage .\n",
    "Vbi=(Vt*(log(Na*Nd/(no**2))))\n",
    "print \"(a)Vbi=(Vt∗(log(Na∗Nd/(noˆ2))))= \",Vbi,\" V\"  #calculation .\n",
    "Efi_Efp=(Vt*log(Na/(no)))\n",
    "print \"(b)value of fermi level on each side of junction ,Efi Efp=(Vt∗log(Na/(no)))=\",Efi_Efp,\" V\" # calculation .\n",
    "Efn_Efi=(Vt*log(Nd/(no)))\n",
    "print \"Efn Efi=(Vt∗log(Nd/(no)))=\",Efn_Efi,\" V\"  #calculation .\n",
    "print \"(c)The energy band digram is similar to Fig P5 .3\"\n",
    "Vbi=((Efi_Efp)+(Efn_Efi))\n",
    "print \"(d)Vbi=((Efi Efp)+(Efn Efi))/(e)=Vj=\",Vbi,\" V\"   # calculation .\n"
   ]
  },
  {
   "cell_type": "markdown",
   "metadata": {},
   "source": [
    "## Example 5_19  pgno: 148"
   ]
  },
  {
   "cell_type": "code",
   "execution_count": 12,
   "metadata": {
    "collapsed": false
   },
   "outputs": [
    {
     "name": "stdout",
     "output_type": "stream",
     "text": [
      "Na =  500000000000000000 /cmˆ3\n",
      "Nd =  500000000000000000 /cmˆ3\n",
      "no =  15000000000.0 cmˆ−3\n",
      "e =  1.6e-19 columbs\n",
      "K =  1.38e-23 J/k\n",
      "T =  300 K\n",
      "(a)Built in potential potential ,Vbi=((K∗T/e)∗log ((Na∗Nd)/(no)ˆ2))= 0.896417042561 eV\n",
      "(b)fermi level in the P region and N region , Efi Efp=((KT/e)∗log(Na/no)))=  0.44820852128 eV\n",
      "(c)VBI from the fermi level ,VBI=2∗(Efi Efp))= 0.896417042561 V\n"
     ]
    }
   ],
   "source": [
    "#exa 5.19\n",
    "from math import log\n",
    "Na =5*10**17\n",
    "print \"Na = \",Na,\"/cmˆ3\" # initializing value of medium p doping concentration .\n",
    "Nd =5*10**17\n",
    "print \"Nd = \",Nd,\"/cmˆ3\"  # initializing value of light n doping .\n",
    "no=1.5*10**10\n",
    "print \"no = \",no,\"cmˆ−3\" # initializing value of intrinsic concentration .\n",
    "e=1.6*10**-19\n",
    "print \"e = \",e,\"columbs\"  # initializing value of charge of electrons .\n",
    "K=1.38*10**-23\n",
    "print \"K = \",K,\"J/k\" # initializing value of boltzmann constant .\n",
    "T=300\n",
    "print \"T = \",T,\"K\" # initializing value of temperature .\n",
    "Vbi=((K*T/e)*log((Na*Nd)/(no)**2))\n",
    "print \"(a)Built in potential potential ,Vbi=((K∗T/e)∗log ((Na∗Nd)/(no)ˆ2))=\",Vbi,\"eV\" #calculation .\n",
    "Efi_Efp=((K*T/e)*log(Na/no))\n",
    "print \"(b)fermi level in the P region and N region , Efi Efp=((KT/e)∗log(Na/no)))= \",Efi_Efp,\"eV\" # calculation .\n",
    "VBI=2*(Efi_Efp)\n",
    "print \"(c)VBI from the fermi level ,VBI=2∗(Efi Efp))=\",VBI,\"V\"  # calculation ."
   ]
  },
  {
   "cell_type": "markdown",
   "metadata": {},
   "source": [
    "## Example 5_20  pgno: 148"
   ]
  },
  {
   "cell_type": "code",
   "execution_count": 13,
   "metadata": {
    "collapsed": false
   },
   "outputs": [
    {
     "name": "stdout",
     "output_type": "stream",
     "text": [
      "Nc =  2.8e+19  /cmˆ3\n",
      "Nv =  1.04e+19  /cmˆ3\n",
      "no =  15000000000.0  cmˆ−3\n",
      "e =  1.6e-19  columbs\n",
      "K =  8.62e-05  J/k\n",
      "T =  300  K\n",
      "Vt =  0.0259  eV\n",
      "Ec Ef =  0.21  eV\n",
      "Ef Ev =  0.18  eV\n",
      "Nd=(Nc/exp((Ec−Ef)/(K∗T))))=  8.32539212771e+15  cmˆ−3\n",
      "Na=(Nv/exp (( Ef−Ev) /(K∗T) ) ) )= 9.86510951303e+15 cmˆ−3\n",
      "Built in potential  ,Vbi=(Vt∗(log(Na∗Nd/(noˆ2))))=  0.68954178887  V\n"
     ]
    }
   ],
   "source": [
    "#exa 5.20\n",
    "Nc=2.8*10**19\n",
    "print \"Nc = \",Nc,\" /cmˆ3\"  # initializing value of number of electron in the conduction band .\n",
    "Nv=1.04*10**19\n",
    "print \"Nv = \",Nv,\" /cmˆ3\" # initializing value of number of electron in the valence band..\n",
    "no=1.5*10**10\n",
    "print \"no = \",no,\" cmˆ−3\" # initializing value of intrinsic carrier concentration .\n",
    "e=1.6*10**-19\n",
    "print \"e = \",e,\" columbs\"  # initializing value of charge of electrons .\n",
    "K=8.62*10**-5\n",
    "print \"K = \",K,\" J/k\" # initializing value of boltzmann constant .\n",
    "T=300\n",
    "print \"T = \",T,\" K\"  # initializing value of temperature .\n",
    "Vt=0.0259\n",
    "print \"Vt = \",Vt,\" eV\" # initializing value of thermal voltage .\n",
    "Ec_Ef =0.21\n",
    "print \"Ec Ef = \",Ec_Ef,\" eV\" # initializing value of energy difference between conduction band and fermi level.\n",
    "Ef_Ev =0.18\n",
    "print \"Ef Ev = \",Ef_Ev,\" eV\" # initializing value of energy difference between fermi level and valence band .\n",
    "Nd=(Nc/exp((Ec_Ef)/(K*T)))\n",
    "print \"Nd=(Nc/exp((Ec−Ef)/(K∗T))))= \",Nd,\" cmˆ−3\" #calculation .\n",
    "Na=(Nv/exp((Ef_Ev)/(K*T)))\n",
    "print \"Na=(Nv/exp (( Ef−Ev) /(K∗T) ) ) )=\",Na,\"cmˆ−3\" # calculation .\n",
    "Vbi=(Vt*(log(Na*Nd/(no**2))))\n",
    "print \"Built in potential  ,Vbi=(Vt∗(log(Na∗Nd/(noˆ2))))= \",Vbi,\" V\" #calculation ."
   ]
  },
  {
   "cell_type": "markdown",
   "metadata": {},
   "source": [
    "## Example 5_21  pgno: 149"
   ]
  },
  {
   "cell_type": "code",
   "execution_count": 14,
   "metadata": {
    "collapsed": false
   },
   "outputs": [
    {
     "name": "stdout",
     "output_type": "stream",
     "text": [
      "Vbi =  1.2 /cmˆ3\n",
      "no =  1800000.0 cmˆ−3”\n",
      "Vt =  0.0259 eV\n",
      "Er =  13.1\n",
      "Eo =  8.854e-14  F/cm\n",
      "e =  1.6e-19  columbs\n",
      " total permittivity ,E=Eo∗Er= 1.159874e-12  F/cm\n",
      "(a)NaNd=((noˆ2)∗(exp(Vbi/Vt)))=  4.28841757806e+32  /cmˆ6\n",
      "Na=(sqrt(NaNd/(4)))= 1.03542474112e+16  /cmˆ3\n",
      "(b)Nd=4∗Na=  4.14169896446e+16  /cmˆ3\n",
      "(c)W=sqrt((2∗E∗Vbi/e)∗((Nd+Na)/(Na∗Nd))))=  4.58296745959e-05  cm\n",
      "(d)xn=0.2∗W=  9.16593491919e-06  cm\n",
      "xp=0.8∗W=  3.66637396767e-05  cm\n",
      "(e)Emax=(−e∗Nd∗xn)/E)=  -52367.8167292 V/cm\n"
     ]
    }
   ],
   "source": [
    "#exa 5.21\n",
    "from math import sqrt\n",
    "from math import exp\n",
    "Vbi =1.2\n",
    "print \"Vbi = \",Vbi,\"/cmˆ3\" # initializing value of built in voltage .\n",
    "no=1.8*10**6\n",
    "print \"no = \",no,\"cmˆ−3”\" # initializing value of intrinsic concentration .\n",
    "Vt =0.0259\n",
    "print \"Vt = \",Vt,\"eV\" # initializing value of thermal voltage .\n",
    "Er =13.1\n",
    "print \"Er = \",Er # initializing value of relative dielectric permittivity constant .\n",
    "Eo=8.854*10**-14\n",
    "print \"Eo = \",Eo,\" F/cm\" # initializing value of permittivity of free space .\n",
    "e =1.6*(10**-19)\n",
    "print \"e = \",e,\" columbs\" # initializing value of charge of electrons .\n",
    "E=Eo*Er\n",
    "print \" total permittivity ,E=Eo∗Er=\",E,\" F/cm\"  # calculation .\n",
    "NaNd=((no**2)*(exp(Vbi/Vt)))\n",
    "print \"(a)NaNd=((noˆ2)∗(exp(Vbi/Vt)))= \",NaNd,\" /cmˆ6\"  # calculation .\n",
    "Na=(sqrt(NaNd/(4)))\n",
    "print \"Na=(sqrt(NaNd/(4)))=\",Na,\" /cmˆ3\"  # calculation .\n",
    "Nd=4*Na\n",
    "print \"(b)Nd=4∗Na= \",Nd,\" /cmˆ3\"   # calculation.\n",
    "W=sqrt((2*E*Vbi/e)*((Nd+Na)/(Na*Nd)))\n",
    "print \"(c)W=sqrt((2∗E∗Vbi/e)∗((Nd+Na)/(Na∗Nd))))= \",W,\" cm\"  # calculation .\n",
    "xn=0.2*W\n",
    "print \"(d)xn=0.2∗W= \",xn,\" cm\"  # calculation .\n",
    "xp=0.8*W\n",
    "print \"xp=0.8∗W= \",xp,\" cm\"  # calculation .\n",
    "Emax=(-e*Nd*xn)/E\n",
    "print \"(e)Emax=(−e∗Nd∗xn)/E)= \",Emax,\"V/cm\"  # calculation .\n",
    "#The value of Na after calculation is provided wrong in the book.Due to which value of W,xn,xp and Emax differ ,than the answer provided in the book ."
   ]
  },
  {
   "cell_type": "markdown",
   "metadata": {},
   "source": [
    "## Example 5_22  pgno: 150"
   ]
  },
  {
   "cell_type": "code",
   "execution_count": 15,
   "metadata": {
    "collapsed": false
   },
   "outputs": [
    {
     "name": "stdout",
     "output_type": "stream",
     "text": [
      "Na =  10000000000000000 cmˆ−3\n",
      "Nd =  5000000000000000 cmˆ−3\n",
      "no =  15000000000.0 cmˆ−3\n",
      "Vbi =  0.676 V\n",
      "e =  1.6e-19 columns\n",
      "K =  1.38e-23 J/k\n",
      "T=(Vbi∗(e/K)∗(1/(log((Na∗Nd)/(noˆ2))))))=  299.984615257 K\n"
     ]
    }
   ],
   "source": [
    "#exa 5.22\n",
    "from math import log\n",
    "Na =10**16\n",
    "print \"Na = \",Na,\"cmˆ−3\" # initializing value of acceptor concentration .\n",
    "Nd =5*10**15\n",
    "print \"Nd = \",Nd,\"cmˆ−3\" # initializing value of donor concentration .\n",
    "no=1.5*10**10\n",
    "print \"no = \",no,\"cmˆ−3\"  # initializing value of intrinsic concentration .\n",
    "Vbi =0.676\n",
    "print \"Vbi = \",Vbi,\"V\" # initializing value of built in voltage .\n",
    "e=1.6*10**-19\n",
    "print \"e = \",e,\"columns\" # initializing value of charge of electrons .\n",
    "K=1.38*10**-23\n",
    "print \"K = \",K,\"J/k\" # initializing value of boltzmann constant .\n",
    "T=(Vbi*(e/K)*(1/(log((Na*Nd)/(no**2)))))\n",
    "print \"T=(Vbi∗(e/K)∗(1/(log((Na∗Nd)/(noˆ2))))))= \",T,\"K\"  # calculation ."
   ]
  },
  {
   "cell_type": "markdown",
   "metadata": {},
   "source": [
    "## Example 5_23  pgno: 150"
   ]
  },
  {
   "cell_type": "code",
   "execution_count": 16,
   "metadata": {
    "collapsed": false
   },
   "outputs": [
    {
     "name": "stdout",
     "output_type": "stream",
     "text": [
      "Na =  500000000000000000 cmˆ−3\n",
      "Nd =  100000000000000000 cmˆ−3\n",
      "no =  15000000000.0 cmˆ−3\n",
      "e =  1.6e-19 columns\n",
      "K =  1.38e-23 J/k\n",
      "T =  300 K\n",
      "VBI =  0.847 V\n",
      "(a)Built in potential potential ,Vbi=((K∗T/e)∗log ((Na∗Nd)/(no)ˆ2))=  0.854772836577 V\n",
      "(b)T=(VBI∗(e/K)∗(1/(log((Na∗Nd)/(noˆ2))))))=  297.271964113 K\n"
     ]
    }
   ],
   "source": [
    "#exa 5.23\n",
    "Na =5*10**17\n",
    "print \"Na = \",Na,\"cmˆ−3\" # initializing value of acceptor concentration .\n",
    "Nd =10**17\n",
    "print \"Nd = \",Nd,\"cmˆ−3\" # initializing value of donor concentration .\n",
    "no=1.5*10**10\n",
    "print \"no = \",no,\"cmˆ−3\" # initializing value of intrinsic concentration .\n",
    "e=1.6*10**-19\n",
    "print \"e = \",e,\"columns\" # initializing value of charge of electrons .\n",
    "K=1.38*10**-23\n",
    "print \"K = \",K,\"J/k\" # initializing value of boltzmann constant .\n",
    "T=300\n",
    "print \"T = \",T,\"K\"  # initializing value of temperature .\n",
    "VBI=0.847\n",
    "print \"VBI = \",VBI,\"V\" # initializing value of VBI when VBI is reduced by 1%.\n",
    "Vbi=((K*T/e)*log((Na*Nd)/(no)**2))\n",
    "print \"(a)Built in potential potential ,Vbi=((K∗T/e)∗log ((Na∗Nd)/(no)ˆ2))= \",Vbi,\"V\" # calculation .\n",
    "T=(e*VBI/K)*((log(Na*Nd/(no**2)))**-1)\n",
    "print \"(b)T=(VBI∗(e/K)∗(1/(log((Na∗Nd)/(noˆ2))))))= \",T,\"K\"  # calculation .\n",
    "#the answer for part (b) is not provided in the book ."
   ]
  },
  {
   "cell_type": "markdown",
   "metadata": {},
   "source": [
    "## Example 5_24  pgno: 150"
   ]
  },
  {
   "cell_type": "code",
   "execution_count": 17,
   "metadata": {
    "collapsed": false,
    "slideshow": {
     "slide_type": "subslide"
    }
   },
   "outputs": [
    {
     "name": "stdout",
     "output_type": "stream",
     "text": [
      "Na =  4e+12  /cmˆ3\n",
      "Nd =  4e+16  /cmˆ3\n",
      "no =  1.5e+11  /cmˆ3\n",
      "K =  1.38e-23  J/k\n",
      "T =  300  K\n",
      "e =  1.6e-19  columbs\n",
      "Er =  11.9\n",
      "Eo =  8.854e-14  F/cm\n",
      "total permittivity ,E=Eo∗Er= 1.053626e-12  F/cm\n",
      "Built in potential potential ,Vbi=((K∗T/e)∗log((Na∗Nd)/(no)ˆ2))= 0.408234249531  eV\n",
      "W=sqrt((2∗E∗Vbi/e)∗((Nd+Na)/(Na∗Nd))))= 0.00115943039897  cm\n",
      "xn=((W∗Na) /(Nd+Na) ) )= 1.15931446752e-07 cm\n",
      "xp=((W∗Nd) /(Nd+Na) ) )= 0.00115931446752 cm\n",
      "Emax=(e∗Nd∗xn)/E)= 704.19794046  V/cm\n"
     ]
    }
   ],
   "source": [
    "#exa 5.24\n",
    "from math import log\n",
    "from math import sqrt\n",
    "Na =4e12\n",
    "print \"Na = \",Na,\" /cmˆ3\" # initializing value of medium p doping concentration .\n",
    "Nd =4e16\n",
    "print \"Nd = \",Nd,\" /cmˆ3\" # initializing value of light n doping.\n",
    "no=1.5*10e10\n",
    "print \"no = \",no,\" /cmˆ3\" # initializing value of intrinsic carrier concentration .\n",
    "K=1.38e-23\n",
    "print \"K = \",K,\" J/k\" # initializing value of boltzmann constant .\n",
    "T=300\n",
    "print \"T = \",T,\" K\" #  initializing value of temperature .\n",
    "e=1.6e-19\n",
    "print \"e = \",e,\" columbs\" # initializing value of charge of electrons .\n",
    "Er=11.9\n",
    "print \"Er = \",Er # initializing value of relative dielectric permittivity constant .\n",
    "Eo=8.854e-14\n",
    "print \"Eo = \",Eo,\" F/cm\" # initializing value of permittivity of free space .\n",
    "E=Eo*Er\n",
    "print \"total permittivity ,E=Eo∗Er=\",E,\" F/cm\" # calculation .\n",
    "Vbi=((K*T/e)*log((Na*Nd)/(no)**2))\n",
    "print \"Built in potential potential ,Vbi=((K∗T/e)∗log((Na∗Nd)/(no)ˆ2))=\",Vbi,\" eV\" #calculation .\n",
    "W=sqrt((2.*E*Vbi/e)*((Nd+Na)/(Na*Nd)))\n",
    "print\"W=sqrt((2∗E∗Vbi/e)∗((Nd+Na)/(Na∗Nd))))=\",W,\" cm\"  # calculation .\n",
    "xn=((W*Na)/(Nd+Na))\n",
    "print \"xn=((W∗Na) /(Nd+Na) ) )=\",xn,\"cm\" # calculation .\n",
    "xp=((W*Nd)/(Nd+Na))\n",
    "print \"xp=((W∗Nd) /(Nd+Na) ) )=\",xp,\"cm\" #calculation .\n",
    "Emax=(e*Nd*xn)/E\n",
    "print \"Emax=(e∗Nd∗xn)/E)=\",Emax,\" V/cm\" #calculation .\n",
    "#the value of W( depletion width) , after calculation is provided wrong in the book,due to this xn,xp ,Emax also differ.(also,the value of Nd+Na substitute in the formula for for xn,xp is wrong )"
   ]
  },
  {
   "cell_type": "markdown",
   "metadata": {},
   "source": [
    "## Example 5_25  pgno: 151"
   ]
  },
  {
   "cell_type": "code",
   "execution_count": 18,
   "metadata": {
    "collapsed": false
   },
   "outputs": [
    {
     "name": "stdout",
     "output_type": "stream",
     "text": [
      "Na =  400000000000000000 /cmˆ3\n",
      "Nd =  4000000000000000 /cmˆ3\n",
      "no =  15000000000.0 cmˆ−3\n",
      "Emax =  300000 /cmˆ3\n",
      "K =  1.38e-23 J/k\n",
      "T =  300 K\n",
      "e =  1.6e-19 columns\n",
      " Er =  11.9\n",
      "Eo =  8.854e-14  F/cm\n",
      " total permittivity ,E=Eo∗Er= 1.053626e-12  F/cm\n",
      "Built in potential potential ,Vbi=((K∗T/e)∗log ((Na∗Nd)/(no)ˆ2))= 0.765710585218  V\n",
      "xn=(E∗Emax) /( e∗Nd) )= 0.0004938871875  cm\n",
      "W=(xn(Nd+Na)/Na))= 0.000498826059375  cm\n",
      "Vr=(Wˆ2∗e/(2∗E))∗((Na∗Nd)/(Na+Nd))−(Vbi))= 74.058198321  V\n"
     ]
    }
   ],
   "source": [
    "#exa 5.25\n",
    "Na =4*10**17\n",
    "print \"Na = \",Na,\"/cmˆ3\" # initializing value of donor concentration .\n",
    "Nd =4*10**15\n",
    "print \"Nd = \",Nd,\"/cmˆ3\" # initializing value of light n doping.\n",
    "no=1.5*10**10\n",
    "print \"no = \",no,\"cmˆ−3\" # initializing value of intrinsic concentration .\n",
    "Emax =300*10**3\n",
    "print \"Emax = \",Emax,\"/cmˆ3\" # initializing value of maximum electric field .\n",
    "K=1.38*10**-23\n",
    "print \"K = \",K,\"J/k\" # initializing value of boltzmann constant .\n",
    "T=300\n",
    "print \"T = \",T,\"K\" # initializing value of temperature .\n",
    "e=1.6*10**-19\n",
    "print \"e = \",e,\"columns\" # initializing value of charge of electrons .\n",
    "Er=11.9\n",
    "print \" Er = \",Er # initializing value of relative dielectric permittivity constant .\n",
    "Eo=8.854*10**-14\n",
    "print \"Eo = \",Eo,\" F/cm\" # initializing value of permittivity of free space .\n",
    "E=Eo*Er\n",
    "print \" total permittivity ,E=Eo∗Er=\",E,\" F/cm\" # calculation .\n",
    "Vbi=((K*T/e)*log((Na*Nd)/(no)**2))\n",
    "print \"Built in potential potential ,Vbi=((K∗T/e)∗log ((Na∗Nd)/(no)ˆ2))=\",Vbi,\" V\" # calculation .\n",
    "xn=(E*Emax/(Nd*e))\n",
    "print \"xn=(E∗Emax) /( e∗Nd) )=\",xn,\" cm\" #calculation .\n",
    "W=(xn*(Nd+Na)/Na)\n",
    "print \"W=(xn(Nd+Na)/Na))=\",W,\" cm\" #calculation .\n",
    "Vr=((W**2*e/(2*E))*((Na*Nd)/(Na+Nd)))-(Vbi)\n",
    "print \"Vr=(Wˆ2∗e/(2∗E))∗((Na∗Nd)/(Na+Nd))−(Vbi))=\",Vr,\" V\" # calculation ."
   ]
  },
  {
   "cell_type": "markdown",
   "metadata": {},
   "source": [
    "## Example 5_26  pgno: 152"
   ]
  },
  {
   "cell_type": "code",
   "execution_count": 19,
   "metadata": {
    "collapsed": false
   },
   "outputs": [
    {
     "name": "stdout",
     "output_type": "stream",
     "text": [
      "Na =  5000000000000000 cmˆ−3\n",
      "Nd =  1000000000000000000 cmˆ−3\n",
      "e =  1.6e-19 columns\n",
      "Vr =  10 V\n",
      "Er =  11.9\n",
      "Eo =  8.854e-14 F/cm\n",
      " total permittivity ,E=Eo∗Er= 1.053626e-12  F/cm\n",
      "Emax =  1000000 V/cm\n",
      "W =  2e-05 cm\n",
      "Nd=(Emax∗e)/(W∗e))= 3.29258125e+17 cmˆ−3\n"
     ]
    }
   ],
   "source": [
    "#exa 5.26\n",
    "Na =5*10**15\n",
    "print \"Na = \",Na,\"cmˆ−3\" # initializing value of acceptor concentration .\n",
    "Nd =10**18\n",
    "print \"Nd = \",Nd,\"cmˆ−3\" # initializing value of donor concentration .\n",
    "e=1.6*10**-19\n",
    "print \"e = \",e,\"columns\" # initializing value of charge of electrons .\n",
    "Vr=10\n",
    "print \"Vr = \",Vr,\"V\" # initializing value reverse voltage .\n",
    "Er=11.9\n",
    "print \"Er = \",Er # initializing value of relative dielectric permittivity constant .\n",
    "Eo=8.854*10**-14\n",
    "print \"Eo = \",Eo,\"F/cm\" # initializing value of permittivity of free space .\n",
    "E=Eo*Er\n",
    "print \" total permittivity ,E=Eo∗Er=\",E,\" F/cm\"  # calculation .\n",
    "Emax=10**6\n",
    "print \"Emax = \",Emax,\"V/cm\" # initializing value of maximum electric field .\n",
    "W=(2.*Vr/(Emax))\n",
    "print \"W = \",W,\"cm\" # calculation .\n",
    "Nd=(Emax*E)/(W*e)\n",
    "print \"Nd=(Emax∗e)/(W∗e))=\",Nd,\"cmˆ−3\" # calculation "
   ]
  },
  {
   "cell_type": "markdown",
   "metadata": {},
   "source": [
    "## Example 5_27  pgno: 152"
   ]
  },
  {
   "cell_type": "code",
   "execution_count": 20,
   "metadata": {
    "collapsed": false
   },
   "outputs": [
    {
     "name": "stdout",
     "output_type": "stream",
     "text": [
      "Na =  5000000000000000 cmˆ3\n",
      "Nd =  1000000000000000000 cmˆ3\n",
      "no =  15000000000.0 cmˆ−3\n",
      "Vr1 =  0 V\n",
      "Vr2 =  5 V\n",
      "A =  3e-05 cmˆ2\n",
      "e =  1.6e-19 columns\n",
      "Er =  11.9\n",
      "Eo =  8.854e-14  F/cm\n",
      "total permittivity ,E=Eo∗Er= 1.053626e-12  F/cm\n",
      "Vt= 0.0259  V\n",
      "Built in potential ,Vbi=(Vt∗log ((Na∗Nd)/(no)ˆ2) )=  0.795961750143  V\n",
      "Cj1=sqrt((e∗E∗(Aˆ2)/(2∗(Vr1+Vbi))∗((Na∗Nd)/(Na+Nd))))= 6.88597370389e-13  F\n",
      "Cj2=sqrt((e∗E∗(Aˆ2)/(2∗(Vr2+Vbi))∗((Na∗Nd)/(Na+Nd))))= 2.55181216611e-13  F\n"
     ]
    }
   ],
   "source": [
    "#exa 5.27\n",
    "from math import sqrt\n",
    "from math import log\n",
    "Na =5*10**15\n",
    "print \"Na = \",Na,\"cmˆ3\" # initializing value of acceptor concentration .\n",
    "Nd =10**18\n",
    "print \"Nd = \",Nd,\"cmˆ3\"  # initializing value of donor concentration .\n",
    "no=1.5*10**10\n",
    "print \"no = \",no,\"cmˆ−3\" # initializing value of intrinsic carrier concentration .\n",
    "Vr1=0\n",
    "print \"Vr1 = \",Vr1,\"V\" # initializing value of built in voltage .\n",
    "Vr2=5\n",
    "print \"Vr2 = \",Vr2,\"V\" # initializing value of applied reverse voltage .\n",
    "A=3*10**-5\n",
    "print \"A = \",A,\"cmˆ2\" # initializing value of cross sectional area .\n",
    "e=1.6*10**-19\n",
    "print \"e = \",e,\"columns\" # initializing value of charge of electrons .\n",
    "Er=11.9\n",
    "print \"Er = \",Er # initializing value of relative dielectric permittivity constant .\n",
    "Eo=8.854*10**-14\n",
    "print \"Eo = \",Eo,\" F/cm\" # initializing value of permittivity of free space .\n",
    "E=Eo*Er\n",
    "print \"total permittivity ,E=Eo∗Er=\",E,\" F/cm\"   # calculation .\n",
    "Vt=0.0259\n",
    "print \"Vt=\",Vt,\" V\" # initializing the value of thermal voltage .\n",
    "Vbi=((Vt)*log((Na*Nd)/(no)**2))\n",
    "print \"Built in potential ,Vbi=(Vt∗log ((Na∗Nd)/(no)ˆ2) )= \",Vbi,\" V\"  # calculation .\n",
    "Cj1=sqrt((e*E*(A**2)/(2*(Vr1+Vbi)))*((Na*Nd)/(Na+Nd)))\n",
    "print \"Cj1=sqrt((e∗E∗(Aˆ2)/(2∗(Vr1+Vbi))∗((Na∗Nd)/(Na+Nd))))=\",Cj1,\" F\" #calculation .\n",
    "Cj2=sqrt((e*E*(A**2)/(2*(Vr2+Vbi)))*((Na*Nd)/(Na+Nd)))\n",
    "print \"Cj2=sqrt((e∗E∗(Aˆ2)/(2∗(Vr2+Vbi))∗((Na∗Nd)/(Na+Nd))))=\",Cj2,\" F\"  #calculation .\n",
    "# the value of Vr2 use for calculating answer of Cj2 is different than provided in question .\n",
    "# I have used the value provided in the solution ( i .e. Vr2=5)\n"
   ]
  },
  {
   "cell_type": "markdown",
   "metadata": {},
   "source": [
    "## Example 5_28  pgno: 153"
   ]
  },
  {
   "cell_type": "code",
   "execution_count": 4,
   "metadata": {
    "collapsed": false
   },
   "outputs": [
    {
     "name": "stdout",
     "output_type": "stream",
     "text": [
      "Na =  10000000000000000 cmˆ3\n",
      "Nd =  50000000000000000 cmˆ3\n",
      "no =  15000000000.0 cmˆ−3\n",
      "Dn =  25 cmˆ2/sec\n",
      "Dp =  10 cmˆ2/sec\n",
      "tn =  5e-07 s\n",
      "tp =  5e-07 s\n",
      "e =  1.6e-19 columns\n",
      "Pno=(noˆ2/Nd))=  4500.0 cmˆ−3\n",
      "Npo=(noˆ2/Na))=  22500.0 cmˆ−3\n",
      "Lp=(sqrt(Dp∗tp)))=  0.0022360679775 cm\n",
      "Ln=(sqrt(Dn∗tn)))=  0.00353553390593 cm\n",
      "Jo=((e ∗((Dp∗Pno/(Lp) )+(Dn∗Npo) /(Ln) ) ) )=  2.86757820103e-11  A/cmˆ2\n"
     ]
    }
   ],
   "source": [
    "#exa 5.28\n",
    "from math import sqrt\n",
    "Na =1*10**16\n",
    "print \"Na = \",Na,\"cmˆ3\" # initializing value of acceptor concentration. \n",
    "Nd = 5*10**16\n",
    "print \"Nd = \",Nd,\"cmˆ3\" # initializing value of donor concentration .\n",
    "no=1.5*10**10\n",
    "print \"no = \",no,\"cmˆ−3\" # initializing value of intrinsic concentration .\n",
    "Dn=25\n",
    "print \"Dn = \",Dn,\"cmˆ2/sec\" # initializing value of diffusion cofficient on the P side.\n",
    "Dp=10\n",
    "print \"Dp = \",Dp,\"cmˆ2/sec\" # initializing value of diffusion cofficient on the N side .\n",
    "tp =5*10** -7\n",
    "print \"tn = \",tp,\"s\" # initializing value of hole lifetime .\n",
    "tn =5*10** -7\n",
    "print \"tp = \",tn,\"s\" # initializing value of electron lifetime .\n",
    "e=1.6*10**-19\n",
    "print \"e = \",e,\"columns\" # initializing value of charge of electrons .\n",
    "Pno=(no**2/Nd)\n",
    "print \"Pno=(noˆ2/Nd))= \",Pno,\"cmˆ−3\" # calculation .\n",
    "Npo=(no**2/Na)\n",
    "print \"Npo=(noˆ2/Na))= \",Npo,\"cmˆ−3\" # calculation .\n",
    "Lp=(sqrt(Dp*tp))\n",
    "print \"Lp=(sqrt(Dp∗tp)))= \",Lp,\"cm\" # calculation .\n",
    "Ln=(sqrt(Dn*tn))\n",
    "print \"Ln=(sqrt(Dn∗tn)))= \",Ln,\"cm\"  # calculation .\n",
    "Jo=((e*((Dp*Pno/(Lp))+(Dn*Npo)/(Ln))))\n",
    "print \"Jo=((e ∗((Dp∗Pno/(Lp) )+(Dn∗Npo) /(Ln) ) ) )= \",Jo,\" A/cmˆ2\" # calculation ."
   ]
  },
  {
   "cell_type": "markdown",
   "metadata": {},
   "source": [
    "## Example 5_29  pgno: 154"
   ]
  },
  {
   "cell_type": "code",
   "execution_count": 2,
   "metadata": {
    "collapsed": false
   },
   "outputs": [
    {
     "name": "stdout",
     "output_type": "stream",
     "text": [
      "Na =  1000000000000000 cmˆ3\n",
      "Nd =  1000000000000000 cmˆ3\n",
      "no =  15000000000.0 cmˆ−3\n",
      "Dn =  50 cmˆ2/sec\n",
      "Dp =  20 cmˆ2/sec\n",
      "tn =  5e-07 s\n",
      "tp =  5e-07 s\n",
      "e =  1.6e-19 columns\n",
      "Pno=(noˆ2/Nd))=  225000.0 cmˆ−3\n",
      "Npo=(noˆ2/Na))=  225000.0 cmˆ−3\n",
      "Lp=(sqrt(Dp∗tp)))=  0.00316227766017 cm\n",
      "Ln=(sqrt(Dn∗tn)))=  0.005 cm\n",
      "Jo=((e ∗((Dp∗Pno/(Lp) )+(Dn∗Npo) /(Ln))))= 5.87683991532e-10 A/cmˆ2\n"
     ]
    }
   ],
   "source": [
    "#exa 5.29\n",
    "from math import sqrt\n",
    "Na =10**15\n",
    "print \"Na = \",Na,\"cmˆ3\" # initializing value of acceptor concentration .\n",
    "Nd =10**15\n",
    "print \"Nd = \",Nd,\"cmˆ3\" # initializing value of donor concentration .\n",
    "no=1.5*10**10\n",
    "print \"no = \",no,\"cmˆ−3\" # initializing value of intrinsic carrier concentration .\n",
    "Dn=50\n",
    "print \"Dn = \",Dn,\"cmˆ2/sec\" # initializing value of built in voltage .\n",
    "Dp=20\n",
    "print \"Dp = \",Dp,\"cmˆ2/sec\" # initializing value of applied reverse voltage .\n",
    "tp =5*10** -7\n",
    "print \"tn = \",tp,\"s\" # initializing value of hole lifetime .\n",
    "tn =5*10** -7\n",
    "print \"tp = \",tn,\"s\" # initializing value of electrons lifetime .\n",
    "e=1.6*10**-19\n",
    "print \"e = \",e,\"columns\" # initializing value of charge of electrons .\n",
    "Pno=(no**2/Nd)\n",
    "print \"Pno=(noˆ2/Nd))= \",Pno,\"cmˆ−3\" # calculation .\n",
    "Npo=(no**2/Na)\n",
    "print \"Npo=(noˆ2/Na))= \",Npo,\"cmˆ−3\" # calculation .\n",
    "Lp=(sqrt(Dp*tp))\n",
    "print \"Lp=(sqrt(Dp∗tp)))= \",Lp,\"cm\"  # calculation .\n",
    "Ln=(sqrt(Dn*tn))\n",
    "print \"Ln=(sqrt(Dn∗tn)))= \",Ln,\"cm\" # calculation .\n",
    "Jo=((e*((Dp*Pno/(Lp))+(Dn*Npo)/(Ln))))\n",
    "print \"Jo=((e ∗((Dp∗Pno/(Lp) )+(Dn∗Npo) /(Ln))))=\",Jo,\"A/cmˆ2\" # calculation .\n",
    "# the value of tp , tn provided in the question , is different than that provided in the solution.\n",
    "# I have used the value ,provided in the solution(i. e . tp=tn =5∗10ˆ7)\n"
   ]
  },
  {
   "cell_type": "markdown",
   "metadata": {},
   "source": [
    "## Example 5_30  pgno: 154"
   ]
  },
  {
   "cell_type": "code",
   "execution_count": 23,
   "metadata": {
    "collapsed": false
   },
   "outputs": [
    {
     "name": "stdout",
     "output_type": "stream",
     "text": [
      "Eg =  -1.1 V\n",
      "Vf1 =  0.6 V\n",
      "T1 =  300 K\n",
      "T2 =  310 K\n",
      "Forward voltage for case 2,Vf2=((Eg+Vf1)∗T2)/( T1)+Eg)=  0.583333333333  V\n"
     ]
    }
   ],
   "source": [
    "#exa 5.30\n",
    "Eg = -1.1\n",
    "print \"Eg = \",Eg,\"V\" # initializing value of energy gap .\n",
    "Vf1 =0.6\n",
    "print \"Vf1 = \",Vf1,\"V\" # initializing value of forward voltage for case 1.\n",
    "T1 =300\n",
    "print \"T1 = \",T1,\"K\" # initializing value of temperature for case 1.\n",
    "T2 =310\n",
    "print \"T2 = \",T2,\"K\" # initializing value of temperature for case 2 .\n",
    "Vf2=(((Eg+Vf1)*T2)/(T1))-Eg\n",
    "print \"Forward voltage for case 2,Vf2=((Eg+Vf1)∗T2)/( T1)+Eg)= \",Vf2,\" V\"  # calculation .\n"
   ]
  }
 ],
 "metadata": {
  "kernelspec": {
   "display_name": "Python 2",
   "language": "python",
   "name": "python2"
  },
  "language_info": {
   "codemirror_mode": {
    "name": "ipython",
    "version": 2
   },
   "file_extension": ".py",
   "mimetype": "text/x-python",
   "name": "python",
   "nbconvert_exporter": "python",
   "pygments_lexer": "ipython2",
   "version": "2.7.10"
  }
 },
 "nbformat": 4,
 "nbformat_minor": 0
}
