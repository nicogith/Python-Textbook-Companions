{
 "cells": [
  {
   "cell_type": "markdown",
   "metadata": {},
   "source": [
    "# Chapter 3 CARRIER TRANSPORT IN SEMICONDUCTOR"
   ]
  },
  {
   "cell_type": "markdown",
   "metadata": {},
   "source": [
    "## Example 3_1 pgno: 71"
   ]
  },
  {
   "cell_type": "code",
   "execution_count": 1,
   "metadata": {
    "collapsed": false
   },
   "outputs": [
    {
     "name": "stdout",
     "output_type": "stream",
     "text": [
      "I =  0.005  amphere\n",
      "B=  1e-06  Tesla\n",
      "w =  0.0001  m\n",
      "l =  0.001  m\n",
      "t =  1e-05  m\n",
      "p =  100000000000000000  atoms/mˆ3\n",
      "e =  1.6e-19  columb\n",
      "Hall electric field ,EH=(I∗B)/(w∗t∗p∗e)=  312.5  V/m\n",
      "Hall electric field in centimeter ,EH=(I∗B)/(w∗ t∗p∗e)=  3.125  V/cm\n"
     ]
    }
   ],
   "source": [
    "#exa 3.1\n",
    "I=5*10**-3\n",
    "print \"I = \",I,\" amphere\" # initializing value of current flowing through the sample.\n",
    "B=1*10**-6\n",
    "print \"B= \",B,\" Tesla\" # initializing value of magnetic field .\n",
    "w=0.01*10**-2\n",
    "print \"w = \",w,\" m\" # initializing value of width of germanium sample .\n",
    "l=0.1*10**-2\n",
    "print \"l = \",l,\" m\" # initializing value of length of germanium sample .\n",
    "t=0.001*10**-2\n",
    "print \"t = \",t,\" m\" # initializing value of thickness of germanium sample .\n",
    "p=10**17\n",
    "print \"p = \",p,\" atoms/mˆ3\" # initializing value of doped acceptor atoms .\n",
    "e=1.6*10**-19\n",
    "print \"e = \",e,\" columb\" # initializing value of charge of electron .\n",
    "EH=(I*B)/(w*t*p*e)\n",
    "print \"Hall electric field ,EH=(I∗B)/(w∗t∗p∗e)= \",EH,\" V/m\"  # calculation 18 \n",
    "E=EH*10**-2\n",
    "print \"Hall electric field in centimeter ,EH=(I∗B)/(w∗ t∗p∗e)= \",E,\" V/cm\" # calculation"
   ]
  },
  {
   "cell_type": "markdown",
   "metadata": {},
   "source": [
    "## Example 3_2 pgno: 72"
   ]
  },
  {
   "cell_type": "code",
   "execution_count": 2,
   "metadata": {
    "collapsed": false
   },
   "outputs": [
    {
     "name": "stdout",
     "output_type": "stream",
     "text": [
      "I =  0.005  amphere\n",
      "B=  1e-06  Tesla\n",
      "w =  0.0001  m\n",
      "l =  0.001  m\n",
      "t =  1e-05  m\n",
      "p =  100000000000000000  atoms/cmˆ3\n",
      "e =  1.6e-19  columb\n",
      "hall cofficient ,Rh=(1/(p∗e))=  62.5  cmˆ3/C\n"
     ]
    }
   ],
   "source": [
    "#exa 3.2\n",
    "I=5*10**-3\n",
    "print \"I = \",I,\" amphere\" # initializing value of current flowing through the sample.\n",
    "B=1*10**-6\n",
    "print \"B= \",B,\" Tesla\" # initializing value of magnetic field .\n",
    "w=0.01*10**-2\n",
    "print \"w = \",w,\" m\" # initializing value of width of germanium sample .\n",
    "l=0.1*10**-2\n",
    "print \"l = \",l,\" m\" # initializing value of length of germanium sample .\n",
    "t=0.001*10**-2\n",
    "print \"t = \",t,\" m\" # initializing value of thickness of germanium sample .\n",
    "p=10**17\n",
    "print \"p = \",p,\" atoms/cmˆ3\" # initializing value of doped acceptor atoms .\n",
    "e=1.6*10**-19\n",
    "print \"e = \",e,\" columb\" # initializing value of charge of electron .\n",
    "Rh=(1/(p*e))\n",
    "print \"hall cofficient ,Rh=(1/(p∗e))= \",Rh,\" cmˆ3/C\"# calculation"
   ]
  },
  {
   "cell_type": "markdown",
   "metadata": {},
   "source": [
    "## Example 3_3 pgno: 72"
   ]
  },
  {
   "cell_type": "code",
   "execution_count": 3,
   "metadata": {
    "collapsed": false
   },
   "outputs": [
    {
     "name": "stdout",
     "output_type": "stream",
     "text": [
      "I =  0.01  amphere\n",
      "B=  1e-05  Tesla\n",
      "w =  0.0001  m\n",
      "l =  0.001  m\n",
      "t =  1e-05  m\n",
      "n =  10000000000000000  atoms/cmˆ3\n",
      "e =  1.6e-19  columb\n",
      "Hall voltage ,Vh=((I∗B)/(n∗e∗t)))=  6.25  V\n"
     ]
    }
   ],
   "source": [
    "#exa 3.3\n",
    "I=10*10**-3\n",
    "print \"I = \",I,\" amphere\" # initializing value of current flowing through the sample.\n",
    "B=10*10**-6\n",
    "print \"B= \",B,\" Tesla\" # initializing value of magnetic field .\n",
    "w=0.01*10**-2\n",
    "print \"w = \",w,\" m\" # initializing value ofwidth of germanium sample .\n",
    "l=0.1*10**-2\n",
    "print \"l = \",l,\" m\" # initializing value of length of germanium sample .\n",
    "t=0.001*10**-2\n",
    "print \"t = \",t,\" m\" # initializing value of thickness of germanium sample .\n",
    "n=10**16\n",
    "print \"n = \",n,\" atoms/cmˆ3\" # initializing value of doped donor atoms .\n",
    "e=1.6*10**-19\n",
    "print \"e = \",e,\" columb\" # initializing value of charge of electron .\n",
    "Vh=((I*B)/(n*e*t))\n",
    "print \"Hall voltage ,Vh=((I∗B)/(n∗e∗t)))= \",Vh,\" V\" # calculation"
   ]
  },
  {
   "cell_type": "markdown",
   "metadata": {},
   "source": [
    "## Example 3_4 pgno: 72"
   ]
  },
  {
   "cell_type": "code",
   "execution_count": 4,
   "metadata": {
    "collapsed": false
   },
   "outputs": [
    {
     "name": "stdout",
     "output_type": "stream",
     "text": [
      "I =  0.01  amphere\n",
      "B=  1e-05  Tesla\n",
      "w =  0.0001  m\n",
      "l =  0.001  m\n",
      "t =  1e-05  m\n",
      "p =  1000000000000000000  atoms/cmˆ3\n",
      "e =  1.6e-19  columb\n",
      "Hall voltage ,Yh=((B)/(p∗e∗t)))=  6.25 ohm\n"
     ]
    }
   ],
   "source": [
    "#exa 3.4\n",
    "I=10*10**-3\n",
    "print \"I = \",I,\" amphere\" # initializing value of current flowing through the sample.\n",
    "B=10*10**-6\n",
    "print \"B= \",B,\" Tesla\" # initializing value of magnetic field .\n",
    "w=0.01*10**-2\n",
    "print \"w = \",w,\" m\"  # initializing value of width of germanium sample .\n",
    "l=0.1*10**-2\n",
    "print \"l = \",l,\" m\" # initializing value of length of germanium sample .\n",
    "t=0.001*10**-2\n",
    "print \"t = \",t,\" m\" # initializing value of thickness of germanium sample .\n",
    "p=10**18\n",
    "print \"p = \",p,\" atoms/cmˆ3\" # initializing value of doped donor atoms .\n",
    "e=1.6*10**-19\n",
    "print \"e = \",e,\" columb\" # initializing value of charge of electron .\n",
    "Yh=((B)/(p*e*t))\n",
    "print \"Hall voltage ,Yh=((B)/(p∗e∗t)))= \",Yh,\"ohm\" # calculation"
   ]
  },
  {
   "cell_type": "markdown",
   "metadata": {},
   "source": [
    "## Example 3_8 pgno: 75"
   ]
  },
  {
   "cell_type": "code",
   "execution_count": 5,
   "metadata": {
    "collapsed": false
   },
   "outputs": [
    {
     "name": "stdout",
     "output_type": "stream",
     "text": [
      "no =  15000000000.0\n",
      "n=  20000000000000000\n",
      "un =  1200\n",
      "up =  500\n",
      "e =  1.6e-19  columb\n",
      "resistivity ,p=(1/(2∗e∗no∗(sqrt(un/up))))=  268957.17682  ohm\n",
      "conductivity ,s=(1/p))=  3.71806401236e-06  S /cm\n",
      "intrinsic conductivity ,sigma=e∗no∗(un+up))=  4.08e-06  S/cm\n"
     ]
    }
   ],
   "source": [
    "#exa 3.8\n",
    "from math import sqrt\n",
    "no=1.5*10**10\n",
    "print \"no = \",no #  initializing value of electron hole per cmˆ3.\n",
    "n=2*10**16\n",
    "print \"n= \",n # initializing value of number of electrons per cmˆ3.\n",
    "un =1200\n",
    "print \"un = \",un # initializing value of mobility of n−type carrier .\n",
    "up =500\n",
    "print \"up = \",up # initializing value of mobility of p−type carrier .\n",
    "e=1.6*10**-19\n",
    "print \"e = \",e,\" columb\" # initializing value of charge of electron .\n",
    "p=(1/(2*e*no*(sqrt(un*up))))\n",
    "print \"resistivity ,p=(1/(2∗e∗no∗(sqrt(un/up))))= \",p,\" ohm\" # calculation\n",
    "sigmamin=(1/p)\n",
    "print \"conductivity ,s=(1/p))= \",sigmamin,\" S /cm\" # calculation\n",
    "sigma=e*no*(un+up)\n",
    "print \"intrinsic conductivity ,sigma=e∗no∗(un+up))= \",sigma,\" S/cm\" # calculation"
   ]
  },
  {
   "cell_type": "markdown",
   "metadata": {},
   "source": [
    "## Example 3_10 pgno: 76"
   ]
  },
  {
   "cell_type": "code",
   "execution_count": 6,
   "metadata": {
    "collapsed": false
   },
   "outputs": [
    {
     "name": "stdout",
     "output_type": "stream",
     "text": [
      "po =  1000000000000000000  cmˆ−3\n",
      "no =  15000000000.0  /cmˆ−3\n",
      "P(o)=  100000000000000000  cmˆ−3\n",
      "A =  0.1  cmˆ−2\n",
      "up =  300  cmˆ2/Vs\n",
      "t =  7e-09  sec\n",
      "T =  300 K\n",
      "Vt =  0.0259  eV\n",
      "x =  5e-06  cm\n",
      "Diffusion cofficient ,Dp=(Vt∗up))=  7.77  cmˆ2/s\n",
      "Diffusion length ,Lp=(sqrt(Dp∗t)))=  0.000233216637485  cm\n",
      "Excess charge generated ,p(x)=(po+(P(o)∗exp(−x/Lp) ) )=  1.09787888943e+18  cmˆ−3\n",
      "Fermi level ,Efi Efp=(Vt∗log(p(x)/no)))=  0.469012627899  eV\n"
     ]
    }
   ],
   "source": [
    "#exa 3.10\n",
    "from math import sqrt\n",
    "from math import exp\n",
    "from math import log\n",
    "po =10**18\n",
    "print \"po = \",po,\" cmˆ−3\" # initializing value of N type doping level .\n",
    "no=1.5*10**10\n",
    "print \"no = \",no,\" /cmˆ−3\" # initializing value of electron and hole concentration per cmˆ3.\n",
    "Po =10**17\n",
    "print \"P(o)= \",Po,\" cmˆ−3\" # initializing value of excess hole concentration .\n",
    "A=0.1\n",
    "print \"A = \",A,\" cmˆ−2\" #  initializing the value of area .\n",
    "up=300\n",
    "print \"up = \",up,\" cmˆ2/Vs\" # initializing value of mobility of p−type carrier .\n",
    "t=7*10**-9\n",
    "print \"t = \",t,\" sec\" # initializing value of transit time.\n",
    "T=300\n",
    "print \"T = \",T,\"K\" # initializing value of temperature .\n",
    "Vt=0.0259\n",
    "print \"Vt = \",Vt,\" eV\" # initializing value of thermal voltage at 300K.\n",
    "x=500*10**-8\n",
    "print \"x = \",x,\" cm\" # initializing value of distance at which difference in fermi level is to calculated .\n",
    "Dp=(Vt*up)\n",
    "print \"Diffusion cofficient ,Dp=(Vt∗up))= \",Dp,\" cmˆ2/s\" #calculation \n",
    "Lp=(sqrt(Dp*t))\n",
    "print \"Diffusion length ,Lp=(sqrt(Dp∗t)))= \",Lp,\" cm\" # calculation\n",
    "px=(po+(Po*exp(-x/Lp)))\n",
    "print \"Excess charge generated ,p(x)=(po+(P(o)∗exp(−x/Lp) ) )= \",px,\" cmˆ−3\" # calculation\n",
    "Efi_Efp=(Vt*log(px/no))\n",
    "print \"Fermi level ,Efi Efp=(Vt∗log(p(x)/no)))= \",Efi_Efp,\" eV\" # calculation"
   ]
  },
  {
   "cell_type": "markdown",
   "metadata": {},
   "source": [
    "## Example 3_11 pgno: 77"
   ]
  },
  {
   "cell_type": "code",
   "execution_count": 7,
   "metadata": {
    "collapsed": false
   },
   "outputs": [
    {
     "name": "stdout",
     "output_type": "stream",
     "text": [
      "A =  1e-05  cmˆ2\n",
      "Dp=  0.000777  cmˆ2/s\n",
      "Lp =  2.33e-06  cm\n",
      "x =  5e-06  cm\n",
      "P(O)−po =  100000000000000000000000\n",
      "e =  1.6e-19 column\n",
      "Hole current ,I=(((e∗A∗Dp∗[P(O)−po])/Lp)∗exp(−x/Lp))=  6.24054720884 amphere\n",
      " stored excess hole ,Q=(e∗A∗Dp∗Lp∗P))=  2.896656e-10 C\n"
     ]
    }
   ],
   "source": [
    "#exa 3.11\n",
    "from math import exp\n",
    "A=0.1*10**-4\n",
    "print \"A = \",A,\" cmˆ2\" # initializing value of area .\n",
    "Dp =7.77*10** -4\n",
    "print \"Dp= \",Dp,\" cmˆ2/s\" # initializing value of diffusion cofficient .\n",
    "Lp =0.233*10** -5\n",
    "print \"Lp = \",Lp,\" cm\" # initializing value of diffusion length .\n",
    "x=500*10**-8\n",
    "print \"x = \",x,\" cm\" # initializing value of distance\n",
    "P=10**17*10**6\n",
    "print \"P(O)−po = \",P # initializing value of P(O)−po\n",
    "e=1.6*10**-19\n",
    "print \"e = \",e,\"column\"  # initializing value of charge of electron .\n",
    "I=(((e*A*Dp*P)/Lp)*exp(-x/Lp))\n",
    "print \"Hole current ,I=(((e∗A∗Dp∗[P(O)−po])/Lp)∗exp(−x/Lp))= \",I,\"amphere\" # calculation\n",
    "Q=(e*A*Dp*Lp*P)\n",
    "print \" stored excess hole ,Q=(e∗A∗Dp∗Lp∗P))= \",Q,\"C\" # calculation\n",
    "# the value of current(I) given after calculation inthe book is wrong, (as the value of Lp used in the formula while finding value of hole current ( I)at two places is used different).\n",
    "# I have used the value Lp=0.233∗10ˆ−5 cm"
   ]
  },
  {
   "cell_type": "markdown",
   "metadata": {},
   "source": [
    "## Example 3_12 pgno: 77"
   ]
  },
  {
   "cell_type": "code",
   "execution_count": 8,
   "metadata": {
    "collapsed": false
   },
   "outputs": [
    {
     "name": "stdout",
     "output_type": "stream",
     "text": [
      "I =  0.002  amphere\n",
      "B=  0.1  Tesla\n",
      "w =  0.0002  mm\n",
      "l =  0.002  m\n",
      "t =  2e-05  m\n",
      "Vaa =  10  V\n",
      "Vh =  -0.01  V\n",
      "e =  1.6e-19  columb\n",
      "electron concentration ,n=((I∗B)/(e∗t∗Vh))=  -6.25e+21  mˆ−3\n",
      "mobility ,un=(I∗L/(e∗n∗Vaa∗w∗t))=  0.1  mˆ2/Vs\n"
     ]
    }
   ],
   "source": [
    "#exa 3.12\n",
    "I=2*10**-3\n",
    "print \"I = \",I,\" amphere\" # initializing value of current flowing through the sample.\n",
    "B=1000*10**-4\n",
    "print \"B= \",B,\" Tesla\" # initializing value of magnetic field .\n",
    "w=0.2*10**-3\n",
    "print \"w = \",w,\" mm\" # initializing value of width of sample .\n",
    "l=2*10**-3\n",
    "print \"l = \",l,\" m\"  # initializing value of length of sample .\n",
    "t=0.02*10**-3\n",
    "print \"t = \",t,\" m\" # initializing value of thickness of sample .\n",
    "Vaa=10\n",
    "print \"Vaa = \",Vaa,\" V\" # initializing value of applied voltage .\n",
    "Vh = -10*10** -3\n",
    "print \"Vh = \",Vh,\" V\" # initializing value of hall voltage .\n",
    "e=1.6*10**-19\n",
    "print \"e = \",e,\" columb\" # initializing value of charge of electron .\n",
    "n=((I*B)/(e*t*Vh))\n",
    "print \"electron concentration ,n=((I∗B)/(e∗t∗Vh))= \",n,\" mˆ−3\" # calculation\n",
    "un=(I*l/(e*abs(n)*Vaa*w*t))\n",
    "print \"mobility ,un=(I∗L/(e∗n∗Vaa∗w∗t))= \",un,\" mˆ2/Vs\" # calculation"
   ]
  },
  {
   "cell_type": "markdown",
   "metadata": {},
   "source": [
    "## Example 3_14 pgno: 78"
   ]
  },
  {
   "cell_type": "code",
   "execution_count": 9,
   "metadata": {
    "collapsed": false
   },
   "outputs": [
    {
     "name": "stdout",
     "output_type": "stream",
     "text": [
      "ND x = ((10ˆ17) −(10ˆ18∗x))\n",
      "differentiating above equation with resprct to x\n",
      "d[ND x]/dx = (−10ˆ18) cmˆ−4\n",
      "now, electric field is given by \n",
      "E x = −(VT/ND x)∗(d[ND x]/dx) = (0.0259∗10ˆ18)/((10ˆ15) −(10ˆ18∗x))\n",
      "for x = 0\n",
      "E x =  25.9 V/cm\n",
      "for x = 1∗10ˆ−4 cm\n",
      "E x =  28.7777777778 V/cm\n"
     ]
    }
   ],
   "source": [
    "#exa 3.14\n",
    "print \"ND x = ((10ˆ17) −(10ˆ18∗x))\"  # donor concentration in an N type semiconductor\n",
    "print \"differentiating above equation with resprct to x\"\n",
    "print \"d[ND x]/dx = (−10ˆ18) cmˆ−4\"\n",
    "print \"now, electric field is given by \"\n",
    "print \"E x = −(VT/ND x)∗(d[ND x]/dx) = (0.0259∗10ˆ18)/((10ˆ15) −(10ˆ18∗x))\" # equation for electric field\n",
    "print \"for x = 0\" \n",
    "x=0\n",
    "E_x = (0.0259*10**18)/((10**15) -(10**18*x))\n",
    "print \"E x = \",E_x,\"V/cm\"\n",
    "print \"for x = 1∗10ˆ−4 cm\"\n",
    "x = 1*10**-4\n",
    "E_x = (0.0259*10**18)/((10**15) -(10**18*x))\n",
    "print \"E x = \",E_x,\"V/cm\""
   ]
  },
  {
   "cell_type": "markdown",
   "metadata": {},
   "source": [
    "## Example 3_17 pgno: 81"
   ]
  },
  {
   "cell_type": "code",
   "execution_count": 10,
   "metadata": {
    "collapsed": false
   },
   "outputs": [
    {
     "name": "stdout",
     "output_type": "stream",
     "text": [
      "Nd =  100000000000000000  /cmˆ3\n",
      "Na=  0 /cmˆ3\n",
      "no =  1800000.0  /cmˆ3\n",
      "E =  5  V/cm\n",
      "un =  7500  cmˆ2/s\n",
      "n1=  100000000000000000  cmˆ−3\n",
      "e =  1.6e-19  columb\n",
      "Electron concentration ,n=(−(Na−Nd)+sqrt ((Na−Nd)ˆ2+4∗no))/2)=  1e+17  cmˆ−3\n",
      "Hole concentration ,p=(noˆ2/n))=  3.24e-05  cmˆ−3\n",
      "Drift current density , Jdrift=n1∗un∗e∗E)=  600.0  A/cmˆ2\n"
     ]
    }
   ],
   "source": [
    "#exa 3.17\n",
    "from math import sqrt\n",
    "Nd =10**17\n",
    "print \"Nd = \",Nd,\" /cmˆ3\" # initializing value of donor concentration .\n",
    "Na=0\n",
    "print \"Na= \",Na,\"/cmˆ3\"  # initializing value of acceptor concentration .\n",
    "no=1.8*10**6\n",
    "print \"no = \",no,\" /cmˆ3\" # initializing value of electron and hole concentration per cmˆ3.\n",
    "E=5\n",
    "print \"E = \",E,\" V/cm\" # initializing value of electric field .\n",
    "un=7500\n",
    "print \"un = \",un,\" cmˆ2/s\" # initializing value of mobility .\n",
    "n1=10**17\n",
    "print \"n1= \",n1,\" cmˆ−3\" # initializing value of impurity concentration .\n",
    "e=1.6*10**-19\n",
    "print \"e = \",e,\" columb\" # initializing value of charge of electron .\n",
    "n=(-(Na-Nd)+sqrt((Na-Nd)**2+4*no))/2\n",
    "print \"Electron concentration ,n=(−(Na−Nd)+sqrt ((Na−Nd)ˆ2+4∗no))/2)= \",n,\" cmˆ−3\"  #calculation\n",
    "p=(no**2/n)\n",
    "print \"Hole concentration ,p=(noˆ2/n))= \",p,\" cmˆ−3\"  # calculation\n",
    "Jdrift=n1*un*e*E\n",
    "print \"Drift current density , Jdrift=n1∗un∗e∗E)= \",Jdrift,\" A/cmˆ2\" # calculation"
   ]
  },
  {
   "cell_type": "markdown",
   "metadata": {},
   "source": [
    "## Example 3_18 pgno: 82"
   ]
  },
  {
   "cell_type": "code",
   "execution_count": 11,
   "metadata": {
    "collapsed": false
   },
   "outputs": [
    {
     "name": "stdout",
     "output_type": "stream",
     "text": [
      "Nd =  0  /cmˆ3\n",
      "Na=  100000000000000000  /cmˆ3\n",
      "no =  1800000.0  /cmˆ3\n",
      "E =  10  V/cm\n",
      "un =  200  cmˆ2/s\n",
      "p1=  100000000000000000  cmˆ−3\n",
      "e =  1.6e-19  columb\n",
      "Electron concentration ,p=−(−(Na−Nd)−sqrt ((Na−Nd)**2+4∗(no**2)))/2=  1e+17  cmˆ−3\n",
      "Hole concentration ,n=(noˆ2/p))=  3.24e-05 cmˆ−3\n",
      "Drift current density , Jdrift=n1∗un∗e∗E)=  32.0  A/cmˆ2\n"
     ]
    }
   ],
   "source": [
    "#exa 3.18\n",
    "from math import sqrt\n",
    "Nd=0\n",
    "print \"Nd = \",Nd,\" /cmˆ3\" # initializing value of donor concentration .\n",
    "Na =10**17\n",
    "print \"Na= \",Na,\" /cmˆ3\" # initializing value of acceptor concentration .\n",
    "no=1.8*10**6\n",
    "print \"no = \",no,\" /cmˆ3\" # initializing value of electron and hole concentration per cmˆ3.\n",
    "E=10\n",
    "print \"E = \",E,\" V/cm\" # initializing value of electric field .\n",
    "un=200\n",
    "print \"un = \",un,\" cmˆ2/s\" # initializing value of mobility \n",
    "p1=10**17\n",
    "print \"p1= \",p1,\" cmˆ−3\" # initializing value of impurity concentration .\n",
    "e=1.6*10**-19\n",
    "print \"e = \",e,\" columb\" # initializing value of charge of electron .\n",
    "p=-(-(Na-Nd)-sqrt((Na-Nd)**2+4*(no**2)))/2\n",
    "print \"Electron concentration ,p=−(−(Na−Nd)−sqrt ((Na−Nd)**2+4∗(no**2)))/2= \",p,\" cmˆ−3\" # calculation\n",
    "n=(no**2/p)\n",
    "print \"Hole concentration ,n=(noˆ2/p))= \",n,\"cmˆ−3\"  # calculation\n",
    "Jdrift=p1*un*e*E\n",
    "print \"Drift current density , Jdrift=n1∗un∗e∗E)= \",Jdrift,\" A/cmˆ2\" # calculation"
   ]
  },
  {
   "cell_type": "markdown",
   "metadata": {},
   "source": [
    "## Example 3_19 pgno: 82"
   ]
  },
  {
   "cell_type": "code",
   "execution_count": 12,
   "metadata": {
    "collapsed": false
   },
   "outputs": [
    {
     "name": "stdout",
     "output_type": "stream",
     "text": [
      "D =  120  A/cmˆ2\n",
      "E =  5  V/cm\n",
      "e =  1.6e-19 columb\n",
      "thermal equilibrium value of hole concentration ,p=(D/(450∗ e∗E)))=  3.33333333333e+17  /cmˆ3\n"
     ]
    }
   ],
   "source": [
    "#exa 3.19\n",
    "D=120\n",
    "print \"D = \",D,\" A/cmˆ2\" # initializing value of drift current density .\n",
    "E=5\n",
    "print \"E = \",E,\" V/cm\" # initializing value of electric field .\n",
    "e=1.6*10**-19\n",
    "print \"e = \",e,\"columb\" # initializing value of charge of electron .\n",
    "p=(D/(450*e*E))\n",
    "print \"thermal equilibrium value of hole concentration ,p=(D/(450∗ e∗E)))= \",p,\" /cmˆ3\" # calculation"
   ]
  },
  {
   "cell_type": "markdown",
   "metadata": {},
   "source": [
    "## Example 3_20 pgno: 83"
   ]
  },
  {
   "cell_type": "code",
   "execution_count": 13,
   "metadata": {
    "collapsed": false
   },
   "outputs": [
    {
     "name": "stdout",
     "output_type": "stream",
     "text": [
      "Nd =  50000000000000000  /cmˆ3\n",
      "A=  5e-07  cmˆ2\n",
      "l =  0.2  /cm\n",
      "E =  10  V\n",
      "un =  1100  cmˆ2/s\n",
      "p=  50000000000000000  /cmˆ−3\n",
      "e =  1.6e-19 columb\n",
      "Current through the bar,I=(p∗up∗e∗E∗A)/l)=  0.00022 A\n"
     ]
    }
   ],
   "source": [
    "#exa 3.20\n",
    "Nd =5*10**16\n",
    "print \"Nd = \",Nd,\" /cmˆ3\" # initializing value of donor concentration .\n",
    "A=50*10**-8\n",
    "print \"A= \",A,\" cmˆ2\" # initializing value of area .\n",
    "l=0.2\n",
    "print \"l = \",l,\" /cm\" # initializing value of length .\n",
    "E=10\n",
    "print \"E = \",E,\" V\" # initializing value of electric field .\n",
    "up=1100\n",
    "print \"un = \",up,\" cmˆ2/s\" # initializing value of mobility .\n",
    "p=5*10**16\n",
    "print \"p= \",p,\" /cmˆ−3\" # initializing value of impurity concentration .\n",
    "e=1.6*10**-19\n",
    "print \"e = \",e,\"columb\" # initializing value of charge of electron .\n",
    "I=(p*up*e*E*A)/l\n",
    "print \"Current through the bar,I=(p∗up∗e∗E∗A)/l)= \",I,\"A\"  # calculation"
   ]
  }
 ],
 "metadata": {
  "kernelspec": {
   "display_name": "Python 2",
   "language": "python",
   "name": "python2"
  },
  "language_info": {
   "codemirror_mode": {
    "name": "ipython",
    "version": 2
   },
   "file_extension": ".py",
   "mimetype": "text/x-python",
   "name": "python",
   "nbconvert_exporter": "python",
   "pygments_lexer": "ipython2",
   "version": "2.7.10"
  }
 },
 "nbformat": 4,
 "nbformat_minor": 0
}
