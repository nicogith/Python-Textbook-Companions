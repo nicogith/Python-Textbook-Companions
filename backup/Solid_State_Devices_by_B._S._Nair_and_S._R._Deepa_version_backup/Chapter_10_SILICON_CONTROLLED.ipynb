{
 "cells": [
  {
   "cell_type": "markdown",
   "metadata": {},
   "source": [
    "# Chapter 10 SILICON CONTROLLED RECTIFIER"
   ]
  },
  {
   "cell_type": "markdown",
   "metadata": {},
   "source": [
    "## Exmaple 10_2   pgno: 296"
   ]
  },
  {
   "cell_type": "code",
   "execution_count": 1,
   "metadata": {
    "collapsed": false
   },
   "outputs": [
    {
     "name": "stdout",
     "output_type": "stream",
     "text": [
      "Nd =  100000000000000  /cmˆ−3\n",
      "Er =  11.9\n",
      "e =  1.6e-19  columns\n",
      "Eo =  8.854e-14  F/cm\n",
      "W =  0.01  cm\n",
      " total permittivity ,E=Eo∗Er= 1.053626e-12  F/cm\n",
      "Punch trough voltage ,Vpt=(e∗Nd∗Wˆ2)/(2∗E))= 759.282705628  V\n"
     ]
    }
   ],
   "source": [
    "#exa 10.2\n",
    "Nd =10**14\n",
    "print\"Nd = \",Nd,\" /cmˆ−3\" # initializing value of donor ion concentration .\n",
    "Er =11.9\n",
    "print\"Er = \",Er # initializing value of relative dielectric permittivity constant .\n",
    "e=1.6*10**-19\n",
    "print\"e = \",e,\" columns\" # initializing value of charge of electrons .\n",
    "Eo=8.854*10**-14\n",
    "print\"Eo = \",Eo,\" F/cm\" # initializing value of permittivity of free space .\n",
    "W=100*10**-4\n",
    "print\"W = \",W,\" cm\" # initializing value of width of SCR.\n",
    "E=Eo*Er\n",
    "print\" total permittivity ,E=Eo∗Er=\",E,\" F/cm\" # calculation\n",
    "Vpt=(e*Nd*W**2)/(2*E)\n",
    "print\"Punch trough voltage ,Vpt=(e∗Nd∗Wˆ2)/(2∗E))=\",Vpt,\" V\"# calculation"
   ]
  },
  {
   "cell_type": "markdown",
   "metadata": {},
   "source": [
    "## Exmaple 10_3  pgno: 296"
   ]
  },
  {
   "cell_type": "code",
   "execution_count": 1,
   "metadata": {
    "collapsed": false
   },
   "outputs": [
    {
     "name": "stdout",
     "output_type": "stream",
     "text": [
      "Ia =  0.002  A\n",
      "(ap+an) =  0.9\n",
      "a =  0.45\n",
      "Ico=Ia∗(1−(2∗an))= 0.0002  A\n",
      "(da/dt)=1/2∗Ico∗((Ia)ˆ−2))= 25.0  /A\n"
     ]
    }
   ],
   "source": [
    "#exa 10.3\n",
    "Ia =2e-3\n",
    "print\"Ia = \",Ia,\" A\" # initializing value of forward current of thyrsistor .\n",
    "x=0.9\n",
    "print\"(ap+an) = \",x # initializing value of sum of current gain of n,ptype semiconductor [ value is get in by variable x,but represented on console window through ap +an ] .\n",
    "a=0.45\n",
    "print\"a = \",a  # initializing value of current gain of both n,p type semiconductor (as it is assume that ap[current gain of n type semiconductor]=an[ current gain of ptype semiconductor ] in the question ) .\n",
    "Ico=Ia*(1-(2*a))\n",
    "print\"Ico=Ia∗(1−(2∗an))=\",Ico,\" A\" # calculation\n",
    "y=1./2.*Ico*((Ia)**-2)\n",
    "print\"(da/dt)=1/2∗Ico∗((Ia)ˆ−2))=\",y,\" /A\" # calculation\n",
    "#The answer for (da/dt) after doing calculation is provided wrong in the book ."
   ]
  }
 ],
 "metadata": {
  "kernelspec": {
   "display_name": "Python 2",
   "language": "python",
   "name": "python2"
  },
  "language_info": {
   "codemirror_mode": {
    "name": "ipython",
    "version": 2
   },
   "file_extension": ".py",
   "mimetype": "text/x-python",
   "name": "python",
   "nbconvert_exporter": "python",
   "pygments_lexer": "ipython2",
   "version": "2.7.10"
  }
 },
 "nbformat": 4,
 "nbformat_minor": 0
}
