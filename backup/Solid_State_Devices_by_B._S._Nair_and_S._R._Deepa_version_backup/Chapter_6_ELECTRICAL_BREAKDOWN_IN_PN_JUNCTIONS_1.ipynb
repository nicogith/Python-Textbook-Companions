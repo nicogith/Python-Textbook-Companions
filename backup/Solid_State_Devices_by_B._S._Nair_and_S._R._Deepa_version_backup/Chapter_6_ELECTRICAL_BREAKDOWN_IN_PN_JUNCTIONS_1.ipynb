{
 "cells": [
  {
   "cell_type": "markdown",
   "metadata": {},
   "source": [
    "# Chapter 6 ELECTRICAL BREAKDOWN IN PN JUNCTIONS"
   ]
  },
  {
   "cell_type": "markdown",
   "metadata": {},
   "source": [
    "## Example 6_2 pgno: 183"
   ]
  },
  {
   "cell_type": "code",
   "execution_count": 1,
   "metadata": {
    "collapsed": false
   },
   "outputs": [
    {
     "name": "stdout",
     "output_type": "stream",
     "text": [
      "X1 =  4.13  eV\n",
      "X2 =  4.07  eV\n",
      "Eg1 =  0.7  eV\n",
      "Eg2 =  1.43  F/cm\n",
      "Nv1 =  6e+18  cmˆ−3\n",
      "Nv2 =  7e+18  cmˆ−3\n",
      "Vt =  0.0259  eV\n",
      "e =  1.6e-19  columbs\n",
      "no =  2.5e+13  cmˆ−3\n",
      "Pp =  1e+17  cmˆ−3\n",
      "Nd =  1e+17  cmˆ−3\n",
      "np= 6250000000.0  cmˆ−3\n",
      "delta Eg=(Eg2−Eg1)= 0.73  eV\n",
      "delta Ec=(X1−X2)= 0.06  eV\n",
      "delta ￼ Ev=(delta ￼ Eg−delta ￼ Ec )= 0.67  eV\n",
      "Vbi=((delta Ev∗1.6∗10ˆ−19)/(e))+((Vt∗log((Nv1∗Nd) /(np∗Nv2) ) ) )= 1.09563926875  V\n"
     ]
    }
   ],
   "source": [
    "#exa 6.2\n",
    "from math import log\n",
    "X1 =4.13\n",
    "print\"X1 = \",X1,\" eV\" # initializing value of eldelta Ectron effinity of germanium.\n",
    "X2 =4.07\n",
    "print\"X2 = \",X2,\" eV\" # initializing value of electron effinity of gallium arsenide .\n",
    "Eg1 =0.7\n",
    "print\"Eg1 = \",Eg1,\" eV\" # initializing value of energy gap of germanium .\n",
    "Eg2 =1.43\n",
    "print\"Eg2 = \",Eg2,\" F/cm\" # initializing value of energy gap of gallium arsenide..\n",
    "Nv1 =6e18\n",
    "print\"Nv1 = \",Nv1,\" cmˆ−3\" # initializing value of density of states in Valence band,Nv for germanium .\n",
    "Nv2 =7e18\n",
    "print\"Nv2 = \",Nv2,\" cmˆ−3\" # initializing value of density of states in Valence band,Nv for galliminum arsenide .\n",
    "Vt=0.0259\n",
    "print\"Vt = \",Vt,\" eV\" # initializing valueof thermal voltage . . . Vt = K∗T/e\n",
    "e=1.6e-19\n",
    "print\"e = \",e,\" columbs\" # initializing value of electronic charge .\n",
    "no=2.5e13\n",
    "print\"no = \",no,\" cmˆ−3\" # initializingvalue of intrinsic carrier concentration .\n",
    "Pp=1e17\n",
    "print\"Pp = \",Pp,\" cmˆ−3\" # initializing value of hole concentration on the depletion edge of the N region .\n",
    "Nd=1e17\n",
    "print\"Nd = \",Nd,\" cmˆ−3\" # initializing value of number of donor ions (which is equal to hole concentration on the depletion edge of the N region).\n",
    "np=(no**2)/Pp\n",
    "print\"np=\",np,\" cmˆ−3\"# calculation\n",
    "delta_Eg=(Eg2-Eg1)\n",
    "print\"delta Eg=(Eg2−Eg1)=\",delta_Eg,\" eV\"#calculation\n",
    "delta_Ec=(X1-X2)\n",
    "print\"delta Ec=(X1−X2)=\",delta_Ec,\" eV\"#calculation\n",
    "delta_Ev=(delta_Eg-delta_Ec)\n",
    "print\"delta ￼ Ev=(delta ￼ Eg−delta ￼ Ec )=\",delta_Ev,\" eV\"# calculation\n",
    "Vbi=((delta_Ev*1.6*10**-19)/(e))+((Vt*log((Nv1*Nd)/(np*Nv2))))\n",
    "print\"Vbi=((delta Ev∗1.6∗10ˆ−19)/(e))+((Vt∗log((Nv1∗Nd) /(np∗Nv2) ) ) )=\",Vbi,\" V\"# calculation"
   ]
  },
  {
   "cell_type": "markdown",
   "metadata": {},
   "source": [
    "## Example 6_4 pgno: 184"
   ]
  },
  {
   "cell_type": "code",
   "execution_count": 2,
   "metadata": {
    "collapsed": false
   },
   "outputs": [
    {
     "name": "stdout",
     "output_type": "stream",
     "text": [
      "Nc =  2.8e+19  cmˆ−3\n",
      "k =  -4e+15  cmˆ4Fˆ−2Vˆ−1\n",
      "Er =  11.9\n",
      "Eo =  8.854e-14  F/cm\n",
      "e =  1.6e-19  columns\n",
      "Vt =  0.0259  eV\n",
      "VBI =  0.3  V\n",
      " total permittivity ,E=Eo∗Er = 1.053626e-12  F/cm \n",
      "Nd=((−2)/(e∗E)∗(1/k)))= 2.96594806886e+15  cmˆ−3\n",
      "Vn=(Vt∗( log (Nc/Nd) ) )= 0.237056563109  V\n",
      "VBn=(VBI+Vn)= 0.537056563109  V\n"
     ]
    }
   ],
   "source": [
    "#exa 6.4\n",
    "from math import log\n",
    "Nc=2.8e19\n",
    "print\"Nc = \",Nc,\" cmˆ−3\" # initializing value of effective density of state in the conduction band .\n",
    "k=-4e15\n",
    "print\"k = \",k,\" cmˆ4Fˆ−2Vˆ−1\" # initializing value of slope of the (1/Cˆ2) versus V curve.\n",
    "Er =11.9\n",
    "print\"Er = \",Er # initializing value of relative dielectric permittivity constant .\n",
    "Eo=8.854e-14\n",
    "print\"Eo = \",Eo,\" F/cm\" # initializing value of dielectric constant of free space.\n",
    "e=1.6e-19\n",
    "print\"e = \",e,\" columns\" # initializing value of charge of electrons .\n",
    "Vt=0.0259\n",
    "print\"Vt = \",Vt,\" eV\" # initializing value of thermal voltage .\n",
    "VBI=0.3\n",
    "print\"VBI = \",VBI,\" V\" # initializing value of built in voltage .\n",
    "E=Eo*Er\n",
    "print\" total permittivity ,E=Eo∗Er =\",E,\" F/cm \"# calculation\n",
    "Nd=((-2)/(e*E)*(1/k))\n",
    "print\"Nd=((−2)/(e∗E)∗(1/k)))=\",Nd,\" cmˆ−3\" # c a l c u l a t i o n\n",
    "Vn=(Vt*(log(Nc/Nd)))\n",
    "print\"Vn=(Vt∗( log (Nc/Nd) ) )=\",Vn,\" V\"#calculation\n",
    "VBn=(VBI+Vn)\n",
    "print\"VBn=(VBI+Vn)=\",VBn,\" V\"# calculation\n",
    "# taking ,... d(1/Cˆ2)/dV as k,... for simlification,"
   ]
  },
  {
   "cell_type": "markdown",
   "metadata": {},
   "source": [
    "## Example 6_5 pgno: 184"
   ]
  },
  {
   "cell_type": "code",
   "execution_count": 3,
   "metadata": {
    "collapsed": false
   },
   "outputs": [
    {
     "name": "stdout",
     "output_type": "stream",
     "text": [
      "Nd =  2e+17 /cmˆ−3\n",
      "Nc =  2.8e+19 /cmˆ−3\n",
      "Js =  4e-05 A/cmˆ2\n",
      "T =  300 K\n",
      "R =  110  A/(K−cmˆ2)\n",
      "Vt =  0.0259  eV\n",
      "VBn =  0.679478119251  V\n",
      "Vn =  0.127988538746  V\n",
      "VBI=(VBn−Vn))= 0.551489580505  V\n"
     ]
    }
   ],
   "source": [
    "#exa 6.5\n",
    "from math import log\n",
    "Nd =2e17\n",
    "print\"Nd = \",Nd,\"/cmˆ−3\" # initializing value of donor concentration .\n",
    "Nc=2.8e19\n",
    "print\"Nc = \",Nc,\"/cmˆ−3\" # initializing value of effective density of state in the conduction band .\n",
    "Js =40e-6\n",
    "print\"Js = \",Js,\"A/cmˆ2\" # initializing value of saturation current density .\n",
    "T=300\n",
    "print\"T = \",T,\"K\" # initializing value of absolute temperature .\n",
    "R=110\n",
    "print\"R = \",R,\" A/(K−cmˆ2)\" #initializing value of richardson ’ s constant .\n",
    "Vt=0.0259\n",
    "print\"Vt = \",Vt,\" eV\" # initializing value of thermal voltage .\n",
    "VBn=(Vt*(log(R*T**2/Js)))\n",
    "print\"VBn = \",VBn,\" V\" # calculation .\n",
    "Vn=(Vt*(log(Nc/Nd)))\n",
    "print\"Vn = \",Vn,\" V\" # calculation .\n",
    "VBI=(VBn-Vn)\n",
    "print\"VBI=(VBn−Vn))=\",VBI,\" V\"#calculation\n",
    "#The value of Vn (after calculation ) is provided wrong in the book,due to which VBI also differ."
   ]
  },
  {
   "cell_type": "markdown",
   "metadata": {},
   "source": [
    "## Example 6_6 pgno: 186"
   ]
  },
  {
   "cell_type": "code",
   "execution_count": 4,
   "metadata": {
    "collapsed": false
   },
   "outputs": [
    {
     "name": "stdout",
     "output_type": "stream",
     "text": [
      "Nd =  200000000000000000  /cmˆ−3\n",
      "Dp =  30  cmˆ2/s\n",
      "Nc =  2.8e+19  /cmˆ−3\n",
      "Js =  4e-05 A/cmˆ2\n",
      "no =  15000000000.0  cmˆ−3\n",
      "tp =  1e-06  s\n",
      "T =  300  K\n",
      "R =  110  A/(K−cmˆ2)\n",
      "Vt =  0.0259  eV\n",
      "e =  1.6e-19  columbs\n",
      "Er =  11.9\n",
      "Eo =  8.854e-14  F/cm\n",
      " total permittivity ,E=Eo∗Er)= 1.053626e-12  F/cm\n",
      "VBn =  0.679478119251  V\n",
      "Vn =  0.127988538746  V\n",
      "VBI=(VBn−Vn))= 0.551489580505  V\n",
      "current density in a metal semiconductor junction ,W =  4.26124893939e-06  A\n",
      "Diffusion length ,Lp=(sqrt(Dp∗tp)) =  0.00547722557505  cm\n",
      " saturation hole current density , Jpo=(e∗Dp∗noˆ2) /(Lp∗Nd) ) =  9.85900603509e-13  A/cmˆ2\n"
     ]
    }
   ],
   "source": [
    "#exa 6.6\n",
    "from math import sqrt\n",
    "from math import log\n",
    "Nd =2*10**17\n",
    "print\"Nd = \",Nd,\" /cmˆ−3\" # initializing value of donor concentration .\n",
    "Dp=30\n",
    "print\"Dp = \",Dp,\" cmˆ2/s\" # initializing value of diffusion cofficient .\n",
    "Nc=2.8*10**19\n",
    "print\"Nc = \",Nc,\" /cmˆ−3\" # initializing value of effective density of state in the conduction band .\n",
    "Js =40*10**-6\n",
    "print\"Js = \",Js, \"A/cmˆ2\" # initializing value of saturation current density .\n",
    "no=1.5*10**10\n",
    "print\"no = \",no,\" cmˆ−3\" # initializing value of intrinsic concentration of electrons .\n",
    "tp=10**-6\n",
    "print\"tp = \",tp,\" s\" # initializing value of hole life−time.\n",
    "T=300\n",
    "print\"T = \",T,\" K\" # initializing value of absolute temperature .\n",
    "R=110\n",
    "print\"R = \",R,\" A/(K−cmˆ2)\" #initializing value of richardson ’ s constant .\n",
    "Vt=0.0259\n",
    "print\"Vt = \",Vt,\" eV\" # initializing value of thermal voltage .\n",
    "e=1.6*10**-19\n",
    "print\"e = \",e,\" columbs\" # initializing value of charge of electrons .\n",
    "Er=11.9\n",
    "print\"Er = \",Er # initializing value of relative dielectric permittivity constant .\n",
    "Eo=8.854*10**-14\n",
    "print\"Eo = \",Eo,\" F/cm\" # initializing value of dielectric constant of free space.\n",
    "E=Eo*Er\n",
    "print\" total permittivity ,E=Eo∗Er)=\",E,\" F/cm\"# calculation\n",
    "VBn=(Vt*(log(R*T**2/Js)))\n",
    "print\"VBn = \",VBn,\" V\" # calculation .\n",
    "Vn=(Vt*(log(Nc/Nd)))\n",
    "print\"Vn = \",Vn,\" V\" # calculation .\n",
    "VBI=(VBn-Vn)\n",
    "print\"VBI=(VBn−Vn))=\",VBI,\" V\"#calculation\n",
    "W=(sqrt((E*VBI)/(e*Nd)))\n",
    "print\"current density in a metal semiconductor junction ,W = \",W,\" A\" # calculation .\n",
    "Lp=(sqrt(Dp*tp))\n",
    "print\"Diffusion length ,Lp=(sqrt(Dp∗tp)) = \", Lp,\" cm\" # calculation .\n",
    "Jpo=(e*Dp*no**2)/(Lp*Nd)\n",
    "print\" saturation hole current density , Jpo=(e∗Dp∗noˆ2) /(Lp∗Nd) ) = \",Jpo,\" A/cmˆ2\" # calculation .\n",
    "#The value of Vn (after calculation ) is provided wrong in the book,due to which VBI differ and due to VBI ,current density in a metal semiconductor junction (W) gets changed .\n",
    "#The value of Jpo ( saturation hole current density ),after calculation is also provided wrong in the book .,"
   ]
  },
  {
   "cell_type": "markdown",
   "metadata": {},
   "source": [
    "## Example 6_8 pgno:186"
   ]
  },
  {
   "cell_type": "code",
   "execution_count": 5,
   "metadata": {
    "collapsed": false
   },
   "outputs": [
    {
     "name": "stdout",
     "output_type": "stream",
     "text": [
      "Er =  11.9\n",
      "Eo =  8.854e-14  F/cm\n",
      "VBD =  20  V\n",
      "e =  1.6e-19  columns\n",
      " total permittivity ,E=Eo∗Er)= 1.053626e-12  F/cm\n",
      "Emax =  500000  V/cm\n",
      "ND=(Eo∗Er∗(Emaxˆ2))/(2∗e∗VBD)= 4.1157265625e+16 cmˆ−3\n"
     ]
    }
   ],
   "source": [
    "#exa 6.8\n",
    "Er =11.9\n",
    "print\"Er = \",Er # initializing value of relative dielectric permittivity constant.\n",
    "Eo=8.854*10**-14\n",
    "print\"Eo = \",Eo,\" F/cm\" # initializing value of permittivity of free space .\n",
    "VBD =20\n",
    "print\"VBD = \",VBD,\" V\" #initializing value of break down voltage .\n",
    "e=1.6*10**-19\n",
    "print\"e = \",e,\" columns\" # initializing value of charge of electrons .\n",
    "E=Eo*Er\n",
    "print\" total permittivity ,E=Eo∗Er)=\",E,\" F/cm\"# calculation\n",
    "Emax =5*10**5\n",
    "print\"Emax = \",Emax,\" V/cm\" # initializing value of maximum critical electric field .\n",
    "ND=(Eo*Er*(Emax**2))/(2*e*VBD)\n",
    "print\"ND=(Eo∗Er∗(Emaxˆ2))/(2∗e∗VBD)=\",ND,\"cmˆ−3\"# calculation\n",
    "#the formula given in the solution for VBD is somewhat written wrong.The correct formula is ( VBD=(E∗Emaxˆ2/2∗e∗ND)) ."
   ]
  },
  {
   "cell_type": "markdown",
   "metadata": {},
   "source": [
    "## Example 6_9 pgno: 187"
   ]
  },
  {
   "cell_type": "code",
   "execution_count": 6,
   "metadata": {
    "collapsed": false
   },
   "outputs": [
    {
     "name": "stdout",
     "output_type": "stream",
     "text": [
      "Er =  11.9\n",
      "Eo =  8.854e-14  F/cm\n",
      "e =  1.6e-19  columns\n",
      "no =  15000000000.0 cmˆ−3\n",
      "Nd= 1e+16  cmˆ−3\n",
      "Emax =  200000.0  V/cm\n",
      "Na= 1e+16  cmˆ−3\n",
      "Vt =  0.0259  eV\n",
      " total permittivity ,E=Eo∗Er)= 1.053626e-12  F/cm\n",
      "VBI=(Vt∗(log(Na∗Nd/noˆ2))) =  0.694640354303  V\n",
      "breakdown voltage for symetrical abrupt junction ,VBD+VBI=(E∗Emaxˆ2) /( e∗Nd) )= 26.34065 V\n",
      "VBD=V−VBI = 25.6460096457  V\n"
     ]
    }
   ],
   "source": [
    "#exa 6.9\n",
    "Er =11.9\n",
    "print\"Er = \",Er # initializing value of relative dielectric permittivity constant.\n",
    "Eo=8.854e-14\n",
    "print\"Eo = \",Eo,\" F/cm\" # initializing value of permittivity of free space .\n",
    "e=1.6e-19\n",
    "print\"e = \",e,\" columns\" # initializing value of charge of electrons .\n",
    "no=1.5e10\n",
    "print\"no = \",no,\"cmˆ−3\" # initializing value of intrinsic concentration of electrons .\n",
    "Nd =1e16\n",
    "print\"Nd=\",Nd,\" cmˆ−3\"#initializing the value of donor concentration .\n",
    "Emax =2e5\n",
    "print\"Emax = \",Emax,\" V/cm\" # initializing value of maximum critical electric field .\n",
    "Na =1e16\n",
    "print\"Na=\",Na,\" cmˆ−3\"# initializing the value of acceptor concentration .\n",
    "Vt=0.0259\n",
    "print\"Vt = \",Vt,\" eV\" # initializing value of thermal voltage .\n",
    "E=Eo*Er\n",
    "print\" total permittivity ,E=Eo∗Er)=\",E,\" F/cm\"# calculation\n",
    "VBI=(Vt*(log(Na*Nd/no**2)))\n",
    "print\"VBI=(Vt∗(log(Na∗Nd/noˆ2))) = \",VBI,\" V\" # calculation .\n",
    "V=(E*Emax**2)/(e*Nd)\n",
    "print\"breakdown voltage for symetrical abrupt junction ,VBD+VBI=(E∗Emaxˆ2) /( e∗Nd) )=\",V,\"V\" # calculation \n",
    "VBD=V-VBI\n",
    "print\"VBD=V−VBI =\",VBD,\" V\"# calculation"
   ]
  },
  {
   "cell_type": "markdown",
   "metadata": {},
   "source": [
    "## Example 6_10 pgno: 187"
   ]
  },
  {
   "cell_type": "code",
   "execution_count": 7,
   "metadata": {
    "collapsed": false
   },
   "outputs": [
    {
     "name": "stdout",
     "output_type": "stream",
     "text": [
      "Er =  11.9\n",
      "Eo =  8.854e-14  F/cm\n",
      "e =  1.6e-19  columns\n",
      "no =  15000000000.0 cmˆ−3\n",
      "Emax =  1000000  V/cm\n",
      "Nd= 1000000000000000000  cmˆ−3\n",
      "Na= 1000000000000000000  cmˆ−3\n",
      "Vt =  0.0259  eV\n",
      "VBI=(Vt∗(log(Na∗Nd/noˆ2))) =  0.933188169937  V\n",
      " total permittivity ,E=Eo∗Er)= 1.053626e-12  F/cm 99\n",
      "breakdown voltage for symetrical abrupt junction ,VBD+VBI=(E∗Emaxˆ2) /( e∗Nd) )= 6.5851625 V\n",
      "VBD=V−VBI)= 5.65197433006  V\n"
     ]
    }
   ],
   "source": [
    "#exa 6.10\n",
    "from math import log\n",
    "Er =11.9\n",
    "print\"Er = \",Er # initializing value of relative dielectric permittivity constant.\n",
    "Eo=8.854*10**-14\n",
    "print\"Eo = \",Eo,\" F/cm\" # initializing value of permittivity of free space .\n",
    "e=1.6*10**-19\n",
    "print\"e = \",e,\" columns\" # initializing value of charge of electrons .\n",
    "no=1.5*10**10\n",
    "print\"no = \",no,\"cmˆ−3\" # initializing value of intrinsic concentration of electrons .\n",
    "Emax=10**6\n",
    "print\"Emax = \",Emax,\" V/cm\" # initializing value of maximum critical electric field ..\n",
    "Nd =1*10**18\n",
    "print\"Nd=\",Nd,\" cmˆ−3\"#initializing the value of donor concentration .\n",
    "Na =1*10**18\n",
    "print\"Na=\",Na,\" cmˆ−3\"# initializing the value of acceptor concentration .\n",
    "Vt=0.0259\n",
    "print\"Vt = \",Vt,\" eV\" # initializing value of thermal voltage .\n",
    "VBI=(Vt*(log(Na*Nd/no**2)))\n",
    "print\"VBI=(Vt∗(log(Na∗Nd/noˆ2))) = \",VBI,\" V\" # calculation .\n",
    "E=Eo*Er\n",
    "print\" total permittivity ,E=Eo∗Er)=\",E,\" F/cm 99\"# calculation\n",
    "V=(E*Emax**2)/(e*Nd)\n",
    "print\"breakdown voltage for symetrical abrupt junction ,VBD+VBI=(E∗Emaxˆ2) /( e∗Nd) )=\",V,\"V\"# calculation\n",
    "VBD=V-VBI\n",
    "print\"VBD=V−VBI)=\",VBD,\" V\"# calculation"
   ]
  },
  {
   "cell_type": "code",
   "execution_count": 8,
   "metadata": {
    "collapsed": false
   },
   "outputs": [
    {
     "name": "stdout",
     "output_type": "stream",
     "text": [
      "Nd =  1e+18  cmˆ−3\n",
      "Na =  -1e+18  cmˆ3\n",
      "Er =  11.9\n",
      "Eo =  8.854e-14  F/cm\n",
      "e =  1.6e-19  columns\n",
      "Vt =  0.0259  eV\n",
      "Vbd =  15  eV\n",
      "W =  0.0002  cm\n",
      " total permittivity ,E=Eo∗Er= 1.053626e-12  F/cm\n",
      "slope of doping profile curve ,a=((Nd−Na)/(W))=  1e+22  cmˆ−4\n",
      "Emax=(((Vbd)ˆ2)∗9∗e∗a/(32∗E))ˆ(1/3)= 1.0  V/cm\n"
     ]
    }
   ],
   "source": [
    "#exa 6.11\n",
    "Nd =1e18\n",
    "print\"Nd = \",Nd,\" cmˆ−3\" # initializing value of donor concentration .\n",
    "Na = -1e18\n",
    "print\"Na = \",Na,\" cmˆ3\" # initializing value of acceptor concentration .\n",
    "Er =11.9\n",
    "print\"Er = \",Er # initializing value of relative dielectric permittivity constant .\n",
    "Eo=8.854e-14\n",
    "print\"Eo = \",Eo,\" F/cm\" # initializing value of dielectric constant of free space.\n",
    "e=1.6e-19\n",
    "print\"e = \",e,\" columns\" # initializing value of charge of electrons .\n",
    "Vt=0.0259\n",
    "print\"Vt = \",Vt,\" eV\" # initializing value of thermal voltage .\n",
    "Vbd=15\n",
    "print\"Vbd = \",Vbd,\" eV\" # initializing value of break down voltage .\n",
    "W=2e-4\n",
    "print\"W = \",W,\" cm\" # initializing value of the distance over which doping profile varies.\n",
    "E=Eo*Er\n",
    "print\" total permittivity ,E=Eo∗Er=\",E,\" F/cm\"# calculation\n",
    "a=((Nd-Na)/(W))\n",
    "print\"slope of doping profile curve ,a=((Nd−Na)/(W))= \",a,\" cmˆ−4\"# calculation\n",
    "Emax=(((Vbd)**2)*9*e*a/(32*E))**(1/3)\n",
    "print\"Emax=(((Vbd)ˆ2)∗9∗e∗a/(32∗E))ˆ(1/3)=\",Emax,\" V/cm\"# calculation\n",
    "## calculation was given wrong in the book"
   ]
  },
  {
   "cell_type": "markdown",
   "metadata": {},
   "source": [
    "## Example 6_12  pgno: 188"
   ]
  },
  {
   "cell_type": "code",
   "execution_count": 9,
   "metadata": {
    "collapsed": false
   },
   "outputs": [
    {
     "name": "stdout",
     "output_type": "stream",
     "text": [
      "Ew =  4.55  V\n",
      "X =  4.01 V\n",
      "Er =  11.9\n",
      "Eo =  8.854e-14  F/cm\n",
      "e =  1.6e-19  columns\n",
      "Nc =  2.8e+19 /cmˆ−3\n",
      "Nd =  100000000000000000 /cmˆ−3\n",
      "Vt =  0.0259  eV\n",
      " Barrier height ,VB=(Ew−X) =  0.54  V\n",
      "Ec Ef=(Vt∗log(Nc/Nd))= 0.145941050722  V\n",
      "VBI=(VB−(Ec ￼ Ef ) )= 0.394058949278  V\n",
      "Depletion width ,xn=sqrt(2∗Eo∗Er∗VBI/(e∗Nd))= 7.20408525154e-06  cm\n",
      "maximum electric field ,Emax=(e∗Nd∗xn/(Eo∗Er))= 109398.746827  V/cm\n"
     ]
    }
   ],
   "source": [
    "#exa 6.12\n",
    "from math import sqrt\n",
    "from math import log\n",
    "Ew =4.55\n",
    "print\"Ew = \",Ew,\" V\" # initializing value of work function of tungusten .\n",
    "X=4.01\n",
    "print\"X = \",X,\"V\" # initializing value of electron effinity of silicon .\n",
    "Er =11.9\n",
    "print\"Er = \",Er # initializing value of relative dielectric permittivity constant.\n",
    "Eo=8.854*10**-14\n",
    "print\"Eo = \",Eo,\" F/cm\" # initializing value of permittivity of free space .\n",
    "e=1.6*10**-19\n",
    "print\"e = \",e,\" columns\" # initializing value of charge of electrons .\n",
    "Nc=2.8*10**19\n",
    "print\"Nc = \",Nc,\"/cmˆ−3\" # initializing value of effective density of state in the conduction band .\n",
    "Nd=10**17\n",
    "print\"Nd = \",Nd,\"/cmˆ−3\" # initializing value of donor concentration .\n",
    "Vt=0.0259\n",
    "print\"Vt = \",Vt,\" eV\" # initializing value of thermal voltage .\n",
    "VB=(Ew-X)\n",
    "print\" Barrier height ,VB=(Ew−X) = \",VB,\" V\" # calculation .\n",
    "Ec_Ef=(Vt*log(Nc/Nd))\n",
    "print\"Ec Ef=(Vt∗log(Nc/Nd))=\",Ec_Ef,\" V\"#calculation\n",
    "VBI=(VB-(Ec_Ef))\n",
    "print\"VBI=(VB−(Ec ￼ Ef ) )=\",VBI,\" V\"# calculation\n",
    "xn=sqrt(2*Eo*Er*VBI/(e*Nd))\n",
    "print\"Depletion width ,xn=sqrt(2∗Eo∗Er∗VBI/(e∗Nd))=\",xn,\" cm\"# calculation\n",
    "Emax=(e*Nd*xn/(Eo*Er))\n",
    "print\"maximum electric field ,Emax=(e∗Nd∗xn/(Eo∗Er))=\",Emax,\" V/cm\"# calculation"
   ]
  },
  {
   "cell_type": "markdown",
   "metadata": {},
   "source": [
    "## Example 6_13 pgno: 189"
   ]
  },
  {
   "cell_type": "code",
   "execution_count": 10,
   "metadata": {
    "collapsed": false
   },
   "outputs": [
    {
     "name": "stdout",
     "output_type": "stream",
     "text": [
      "Ew =  4.5  V\n",
      "X =  4.01 V\n",
      "Er =  12\n",
      "Eo =  8.854e-14  F/cm\n",
      "Vr =  3  V\n",
      "e =  1.6e-19  columns\n",
      "Nc =  2.8e+19 /cmˆ−3\n",
      "Nd =  100000000000000000 /cmˆ−3\n",
      "Vt =  0.0259  eV\n",
      " barrier height ,VB=(Ew−X) =  0.49  V\n",
      "Ec Ef=(Vt∗log(Nc/Nd))= 0.145941050722  V\n",
      "VBI=(VB−(Ec ￼ Ef ) )= 0.344058949278  V\n",
      "Depletion width ,xn=sqrt(2∗Eo∗Er∗(VBI+Vr)/(e∗Nd))= 2.10742608187e-05  cm\n",
      "maximum electric field ,Emax=(e∗Nd∗xn/(Eo∗Er))= 317359.548508  V/cm\n",
      "Capitance per unit area ,C=sqrt (( e∗Eo∗Er∗Nd)/(2∗(VBI+Vr) ) )= 5.04160031586e-08  F/cmˆ2\n"
     ]
    }
   ],
   "source": [
    "#exa 6.13\n",
    "from math import sqrt\n",
    "from math import log\n",
    "Ew =4.5\n",
    "print\"Ew = \",Ew,\" V\" # initializing value of work function of tungusten .\n",
    "X=4.01\n",
    "print\"X = \",X,\"V\" # initializing value of electron effinity of silicon .\n",
    "Er=12\n",
    "print\"Er = \",Er # initializing value of relative dielectric permittivity constant.\n",
    "Eo=8.854*10**-14\n",
    "print\"Eo = \",Eo,\" F/cm\" # initializing value of permittivity of free space .\n",
    "Vr=3\n",
    "print\"Vr = \",Vr,\" V\" # initializing value of reverse voltage .\n",
    "e=1.6*10**-19\n",
    "print\"e = \",e,\" columns\" # initializing value of charge of electrons .\n",
    "Nc=2.8*10**19\n",
    "print\"Nc = \",Nc,\"/cmˆ−3\" # initializing value of effective density of state in the conduction band .\n",
    "Nd=10**17\n",
    "print\"Nd = \",Nd,\"/cmˆ−3\" # initializing value of donor concentration .\n",
    "Vt=0.0259\n",
    "print\"Vt = \",Vt,\" eV\" # initializing value of thermal voltage .\n",
    "VB=(Ew-X)\n",
    "print\" barrier height ,VB=(Ew−X) = \",VB,\" V\"# calculation .\n",
    "Ec_Ef=(Vt*log(Nc/Nd))\n",
    "print\"Ec Ef=(Vt∗log(Nc/Nd))=\",Ec_Ef,\" V\"#calculation\n",
    "VBI=(VB-(Ec_Ef))\n",
    "print\"VBI=(VB−(Ec ￼ Ef ) )=\",VBI,\" V\"#calculation\n",
    "xn=sqrt((2*Eo*Er*(VBI+Vr))/(e*Nd))\n",
    "print\"Depletion width ,xn=sqrt(2∗Eo∗Er∗(VBI+Vr)/(e∗Nd))=\",xn,\" cm\"#calculation\n",
    "Emax=(e*Nd*xn/(Eo*Er))\n",
    "print\"maximum electric field ,Emax=(e∗Nd∗xn/(Eo∗Er))=\",Emax,\" V/cm\"# calculation\n",
    "C=sqrt((e*Eo*Er*Nd)/(2*(VBI+Vr)))\n",
    "print\"Capitance per unit area ,C=sqrt (( e∗Eo∗Er∗Nd)/(2∗(VBI+Vr) ) )=\",C,\" F/cmˆ2\"# calculation\n",
    "#the Value of reverse voltage(Vr) provided in the question is different than used in the solution . I have used the value provided in the solution ( i . e Vr=3).\n",
    "#the value of C (Capitance per unit area) after calculation is provided wrong in the book."
   ]
  },
  {
   "cell_type": "markdown",
   "metadata": {},
   "source": [
    "## Example 6_13 pgno: 190"
   ]
  },
  {
   "cell_type": "code",
   "execution_count": 11,
   "metadata": {
    "collapsed": false
   },
   "outputs": [
    {
     "name": "stdout",
     "output_type": "stream",
     "text": [
      "Ew =  4.28  V\n",
      "X =  4.01 V\n",
      "Er =  11.9\n",
      "Eo =  8.854e-14  F/cm\n",
      "e =  1.6e-19  columns\n",
      "Nc =  2.8e+19 /cmˆ−3\n",
      "Nd =  1000000000000000 /cmˆ−3\n",
      "Vt =  0.0259  eV\n",
      " barrier height ,VB=(Ew−X) =  0.27  V\n",
      "Ec Ef=(Vt∗log(Nc/Nd))= 0.265214958539  V\n",
      "VBI=(VB−(Ec ￼ Ef ) )= 0.00478504146083  V\n",
      "Depletion width ,xn=sqrt(2∗Eo∗Er∗VBI/(e∗Nd))= 7.93854843013e-06  cm\n",
      "maximum electric field ,Emax=(e∗Nd∗xn/(Eo∗Er))= 1205.52050616  V/cm\n"
     ]
    }
   ],
   "source": [
    "#exa 6.14\n",
    "from math import log\n",
    "Ew =4.28\n",
    "print\"Ew = \",Ew,\" V\" # initializing value of work function of tungusten .\n",
    "X=4.01\n",
    "print\"X = \",X,\"V\" # initializing value of electron effinity of silicon .\n",
    "Er =11.9\n",
    "print\"Er = \",Er # initializing value of relative dielectric permittivity constant.\n",
    "Eo=8.854*10**-14\n",
    "print\"Eo = \",Eo,\" F/cm\" # initializing value of permittivity of free space .\n",
    "e=1.6*10**-19\n",
    "print\"e = \",e,\" columns\" # initializing value of charge of electrons .\n",
    "Nc=2.8*10**19\n",
    "print\"Nc = \",Nc,\"/cmˆ−3\" # initializing value of effective density of state in the conduction band .\n",
    "Nd=10**15\n",
    "print\"Nd = \",Nd,\"/cmˆ−3\" # initializing value of donor concentration .\n",
    "Vt=0.0259\n",
    "print\"Vt = \",Vt,\" eV\" # initializing value of thermal voltage .\n",
    "VB=(Ew-X)\n",
    "print\" barrier height ,VB=(Ew−X) = \",VB,\" V\"# calculation .\n",
    "Ec_Ef=(Vt*log(Nc/Nd))\n",
    "print\"Ec Ef=(Vt∗log(Nc/Nd))=\",Ec_Ef,\" V\"#calculation\n",
    "VBI=(VB-(Ec_Ef))\n",
    "print\"VBI=(VB−(Ec ￼ Ef ) )=\",VBI,\" V\"#calculation\n",
    "xn=sqrt(2*Eo*Er*VBI/(e*Nd))\n",
    "print\"Depletion width ,xn=sqrt(2∗Eo∗Er∗VBI/(e∗Nd))=\",xn,\" cm\"# calculation\n",
    "Emax=(e*Nd*xn/(Eo*Er))\n",
    "print\"maximum electric field ,Emax=(e∗Nd∗xn/(Eo∗Er))=\",Emax,\" V/cm\"# calculation\n",
    "#the Value of donor concentration (Nd) provided in the question is different than used in the solution . I have used the value provided in the question(i.e Nd=10ˆ15). ,i.e answer differs than provided in the book ."
   ]
  },
  {
   "cell_type": "markdown",
   "metadata": {},
   "source": [
    "## Example 6_15 pgno: 191"
   ]
  },
  {
   "cell_type": "code",
   "execution_count": 12,
   "metadata": {
    "collapsed": false
   },
   "outputs": [
    {
     "name": "stdout",
     "output_type": "stream",
     "text": [
      "Ew =  5.1  V\n",
      "X =  4.01 V\n",
      "Er =  11.9\n",
      "Eo =  8.854e-14  F/cm\n",
      "e =  1.6e-19  columns\n",
      "Nc =  2.8e+19 /cmˆ−3\n",
      "Nd =  5000000000000000 /cmˆ−3\n",
      "Vt =  0.0259  eV\n",
      "Vr =  5  V\n",
      "A =  0.0001  cmˆ2\n",
      " barrier height ,VB=(Ew−X) =  1.09  V\n",
      "Ec Ef=(Vt∗log(Nc/Nd))= 0.223530516607  V\n",
      "VBI=(VB−(Ec ￼ Ef ) )= 0.866469483393  V\n",
      "Capitance per unit area ,C1=sqrt (( e∗Eo∗Er∗Nd)/(2∗(VBI+Vr) ) )= 8.4758805431e-09  F/cmˆ2\n",
      "total junction capatiance ,C=C1∗A= 8.4758805431e-13 F\n"
     ]
    }
   ],
   "source": [
    "#exa 6.15\n",
    "from math import sqrt\n",
    "from math import log\n",
    "Ew =5.1\n",
    "print\"Ew = \",Ew,\" V\" # initializing value of work function of tungusten .\n",
    "X=4.01\n",
    "print\"X = \",X,\"V\" # initializing value of electron effinity of silicon .\n",
    "Er =11.9\n",
    "print\"Er = \",Er # initializing value of relative dielectric permittivity constant.\n",
    "Eo=8.854*10**-14\n",
    "print\"Eo = \",Eo,\" F/cm\" # initializing value of permittivity of free space .\n",
    "e=1.6*10**-19\n",
    "print\"e = \",e,\" columns\" # initializing value of charge of electrons .\n",
    "Nc=2.8*10**19\n",
    "print\"Nc = \",Nc,\"/cmˆ−3\" # initializing value of effective density of state in the conduction band .\n",
    "Nd =5*10**15\n",
    "print\"Nd = \",Nd,\"/cmˆ−3\" # initializing value of donor concentration .\n",
    "Vt=0.0259\n",
    "print\"Vt = \",Vt,\" eV\" # initializing value of thermal voltage .\n",
    "Vr=5\n",
    "print\"Vr = \",Vr,\" V\" # initializing value of reverse voltage .\n",
    "A=1*10**-4\n",
    "print\"A = \",A,\" cmˆ2\" # initializing valueof area of the gold silicon junction diode..\n",
    "VB=(Ew-X)\n",
    "print\" barrier height ,VB=(Ew−X) = \",VB,\" V\"# calculation .\n",
    "Ec_Ef=(Vt*log(Nc/Nd))\n",
    "print\"Ec Ef=(Vt∗log(Nc/Nd))=\",Ec_Ef,\" V\"#calculation\n",
    "VBI=(VB-(Ec_Ef))\n",
    "print\"VBI=(VB−(Ec ￼ Ef ) )=\",VBI,\" V\"#calculation\n",
    "C1=sqrt((e*Eo*Er*Nd)/(2*(VBI+Vr)))\n",
    "print\"Capitance per unit area ,C1=sqrt (( e∗Eo∗Er∗Nd)/(2∗(VBI+Vr) ) )=\",C1,\" F/cmˆ2\"#calculation\n",
    "C=C1*A\n",
    "print\"total junction capatiance ,C=C1∗A=\",C,\"F\"# calculation"
   ]
  },
  {
   "cell_type": "code",
   "execution_count": 13,
   "metadata": {
    "collapsed": false
   },
   "outputs": [
    {
     "name": "stdout",
     "output_type": "stream",
     "text": [
      "Er =  13.1\n",
      "Eo =  8.854e-14  F/cm\n",
      "e =  1.6e-19  columns\n",
      "Emax =  30000  V/cm\n",
      " total permittivity ,E=Eo∗Er)= 1.159874e-12  F/cm\n",
      "lowering of the barrier height ,V=sqrt(e∗Emax/(4∗pi∗E) )= 0.0181472273453  V\n",
      " position of the maximum barrier height ,Xmax=sqrt(e/(16∗%pi∗E∗Emax))= 3.02453789089e-07  cm\n"
     ]
    }
   ],
   "source": [
    "#exa 6.17\n",
    "from math import pi\n",
    "from math import sqrt\n",
    "Er =13.1\n",
    "print\"Er = \",Er # initializing value of relative dielectric permittivity constant.\n",
    "Eo=8.854*10**-14\n",
    "print\"Eo = \",Eo,\" F/cm\" # initializing value of permittivity of free space .\n",
    "e=1.6*10**-19\n",
    "print\"e = \",e,\" columns\" # initializing value of charge of electrons .\n",
    "Emax =30*10**3\n",
    "print\"Emax = \",Emax,\" V/cm\" # initializing value of maximum critical electric field ..\n",
    "E=Eo*Er\n",
    "print\" total permittivity ,E=Eo∗Er)=\",E,\" F/cm\"# calculation\n",
    "V=sqrt(e*Emax/(4*pi*E))\n",
    "print\"lowering of the barrier height ,V=sqrt(e∗Emax/(4∗pi∗E) )=\",V,\" V\"# calculation\n",
    "Xmax=sqrt(e/(16*pi*E*Emax))\n",
    "print\" position of the maximum barrier height ,Xmax=sqrt(e/(16∗%pi∗E∗Emax))=\",Xmax,\" cm\"# calculation"
   ]
  },
  {
   "cell_type": "markdown",
   "metadata": {},
   "source": [
    "## Example 6_18 pgno: 192"
   ]
  },
  {
   "cell_type": "code",
   "execution_count": 14,
   "metadata": {
    "collapsed": false
   },
   "outputs": [
    {
     "name": "stdout",
     "output_type": "stream",
     "text": [
      "A =  0.0001  cmˆ−2\n",
      "VBn =  0.55 V\n",
      "T =  300 K\n",
      "R =  110  A/(K−cmˆ2)\n",
      "Vt =  0.0259  eV\n",
      "V =  0.25  V\n",
      "reverse saturation current , Io=A∗R∗Tˆ2∗exp(−VBn/Vt) =  5.93151320618e-07  A\n",
      "diode current , I=Io(exp(V/Vt)−1)= 0.00922931077027 A\n"
     ]
    }
   ],
   "source": [
    "#exa 6.18\n",
    "from math import exp\n",
    "A=10**-4\n",
    "print\"A = \",A,\" cmˆ−2\" # initializing value of cross sectional area .\n",
    "VBn =0.55\n",
    "print\"VBn = \",VBn,\"V\" # initializing value of barrier height .\n",
    "T=300\n",
    "print\"T = \",T,\"K\" # initializing value of absolute temperature .\n",
    "R=110\n",
    "print\"R = \",R,\" A/(K−cmˆ2)\" #initializing value of richardson ’ s constant .\n",
    "Vt=0.0259\n",
    "print\"Vt = \",Vt,\" eV\" # initializing value of thermal voltage .\n",
    "V=0.25\n",
    "print\"V = \",V,\" V\" # initializing value of forward bias voltage .\n",
    "Io=A*R*T**2*exp(-VBn/Vt)\n",
    "print\"reverse saturation current , Io=A∗R∗Tˆ2∗exp(−VBn/Vt) = \",Io,\" A\" # calculation .\n",
    "I=Io*((exp(V/Vt))-1)\n",
    "print\"diode current , I=Io(exp(V/Vt)−1)=\",I,\"A\"# calculation"
   ]
  },
  {
   "cell_type": "markdown",
   "metadata": {},
   "source": [
    "## Example 6_19 pgno:192"
   ]
  },
  {
   "cell_type": "code",
   "execution_count": 15,
   "metadata": {
    "collapsed": false
   },
   "outputs": [
    {
     "name": "stdout",
     "output_type": "stream",
     "text": [
      "Io1 =  1e-09  A\n",
      "Io2 =  1e-14 A\n",
      "Vt =  0.0259  eV\n",
      "I =  0.0001  A\n",
      "forward Voltage for silicon SBD,VfSBD=Vt∗(( log(I/Io1+1)))=  0.298185028541  V\n",
      "forward Voltage for silicon SBD,VfPN=Vt∗((log(I/Io2+1)))= 0.596369539088  V\n"
     ]
    }
   ],
   "source": [
    "#exa 6.19\n",
    "from math import log\n",
    "Io1 =10**-9\n",
    "print\"Io1 = \",Io1,\" A\" # initializing value of reverse saturation current of silicon SBD.\n",
    "Io2 =10**-14\n",
    "print\"Io2 = \",Io2,\"A\" # initializing value of reverse saturation current of a PN junction .\n",
    "Vt =0.0259\n",
    "print\"Vt = \",Vt,\" eV\" # initializing value of thermal voltage .\n",
    "I=100*10**-6\n",
    "print\"I = \",I,\" A\" # initializing value of required current .\n",
    "VfSBD=Vt*((log(I/Io1+1)))\n",
    "print\"forward Voltage for silicon SBD,VfSBD=Vt∗(( log(I/Io1+1)))= \",VfSBD,\" V\" # calculation\n",
    "VfPN=Vt*((log(I/Io2+1)))\n",
    "print\"forward Voltage for silicon SBD,VfPN=Vt∗((log(I/Io2+1)))=\",VfPN,\" V\"#calculation"
   ]
  },
  {
   "cell_type": "markdown",
   "metadata": {},
   "source": [
    "## Example 6_20 pgno: 193"
   ]
  },
  {
   "cell_type": "code",
   "execution_count": 16,
   "metadata": {
    "collapsed": false
   },
   "outputs": [
    {
     "name": "stdout",
     "output_type": "stream",
     "text": [
      "Io1 =  1e-06  A\n",
      "Io2 =  1e-06 A\n",
      "Vt =  0.0259  eV\n",
      "I =  0.001  A\n",
      "V =  0.25  V\n",
      "forward Voltage for silicon SBD,VfSBD=Vt∗(( log(I/Io1+1)))=  0.178936748784  V\n",
      "forward volage applied across the PN Diode ,VfPN=(V+VfSBD)= 0.428936748784  V\n",
      "reverse saturation current of the PN junction Diode,Io=(I/((exp(VfPN/Vt))−1))= 6.41998882039e-11  A\n"
     ]
    }
   ],
   "source": [
    "#exa 6.20\n",
    "from math import log\n",
    "Io1 =10*10**-7\n",
    "print\"Io1 = \",Io1,\" A\" # initializing value of reverse saturation current of silicon SBD.\n",
    "Io2 =10*10**-7\n",
    "print\"Io2 = \",Io2,\"A\" # initializing value of reverse saturation current of a PN junction .\n",
    "Vt =0.0259\n",
    "print\"Vt = \",Vt,\" eV\" # initializing value of thermal voltage .\n",
    "I=1*10**-3\n",
    "print\"I = \",I,\" A\" # initializing value of forward current .\n",
    "V=0.25\n",
    "print\"V = \",V,\" V\" # initializing value of difference in the forward voltage of the two diode .\n",
    "VfSBD=Vt*((log(I/Io1+1)))\n",
    "print\"forward Voltage for silicon SBD,VfSBD=Vt∗(( log(I/Io1+1)))= \",VfSBD,\" V\" # calculation 109\n",
    "VfPN=(V+VfSBD)\n",
    "print\"forward volage applied across the PN Diode ,VfPN=(V+VfSBD)=\",VfPN,\" V\"#calculation  \n",
    "Io=(I/((exp(VfPN/Vt))-1))\n",
    "print\"reverse saturation current of the PN junction Diode,Io=(I/((exp(VfPN/Vt))−1))=\",Io,\" A\" # calculation"
   ]
  }
 ],
 "metadata": {
  "kernelspec": {
   "display_name": "Python 2",
   "language": "python",
   "name": "python2"
  },
  "language_info": {
   "codemirror_mode": {
    "name": "ipython",
    "version": 2
   },
   "file_extension": ".py",
   "mimetype": "text/x-python",
   "name": "python",
   "nbconvert_exporter": "python",
   "pygments_lexer": "ipython2",
   "version": "2.7.10"
  }
 },
 "nbformat": 4,
 "nbformat_minor": 0
}
