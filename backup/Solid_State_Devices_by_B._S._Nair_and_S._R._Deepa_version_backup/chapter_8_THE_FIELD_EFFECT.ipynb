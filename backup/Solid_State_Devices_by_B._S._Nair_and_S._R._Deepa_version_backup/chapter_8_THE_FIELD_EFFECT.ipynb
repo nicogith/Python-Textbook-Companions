{
 "cells": [
  {
   "cell_type": "markdown",
   "metadata": {},
   "source": [
    "# Chapter 8 THE FIELD EFFECT TRANSISTOR"
   ]
  },
  {
   "cell_type": "markdown",
   "metadata": {},
   "source": [
    "## Example 8_1 pgno: 267"
   ]
  },
  {
   "cell_type": "code",
   "execution_count": 1,
   "metadata": {
    "collapsed": false
   },
   "outputs": [
    {
     "name": "stdout",
     "output_type": "stream",
     "text": [
      "Nd=  10000000000000000  /cmˆ3\n",
      "Er=  3.9\n",
      "Eo =  8.854e-14  F/cm\n",
      "W =  5e-05  cm\n",
      "L =  0.0001  cm\n",
      "tox =  4e-06  cm\n",
      " total permittivity ,E=Eo∗Er= 3.45306e-13  F/cm\n",
      "Oxide capacitance ,Cox=(E∗W∗L)/tox)= 4.316325e-16  F\n",
      "Capacitance per unit area ,Co=(Cox/(W∗L)))= 8.63265e-08  F/cmˆ2\n"
     ]
    }
   ],
   "source": [
    "#exa 8.1\n",
    "Nd =10**16\n",
    "print\"Nd= \",Nd,\" /cmˆ3\" # initializing value of donor ion concentration .\n",
    "Er =3.9\n",
    "print\"Er= \",Er # initializing value of relative dielectric permittivity constant .\n",
    "Eo=8.854*10**-14\n",
    "print\"Eo = \",Eo,\" F/cm\" # initializing value of permittivity of free space .\n",
    "W=0.5*10**-4\n",
    "print\"W = \",W,\" cm\" # initializing value of width of p−substrate .\n",
    "L=10**-4\n",
    "print\"L = \",L,\" cm\" # initializing value of length of p−substrate .\n",
    "tox =400*10**-8\n",
    "print\"tox = \",tox,\" cm\" # initializing value of thickness of p−substrate .\n",
    "E=Eo*Er\n",
    "print\" total permittivity ,E=Eo∗Er=\",E,\" F/cm\"# calculation\n",
    "Cox=(E*W*L)/tox\n",
    "print\"Oxide capacitance ,Cox=(E∗W∗L)/tox)=\",Cox,\" F\"# calculation\n",
    "Co=(Cox/(W*L))\n",
    "print\"Capacitance per unit area ,Co=(Cox/(W∗L)))=\",Co,\" F/cmˆ2\"# calculation"
   ]
  },
  {
   "cell_type": "markdown",
   "metadata": {},
   "source": [
    "## Example 8_2 pgno: 267"
   ]
  },
  {
   "cell_type": "code",
   "execution_count": 2,
   "metadata": {
    "collapsed": false
   },
   "outputs": [
    {
     "name": "stdout",
     "output_type": "stream",
     "text": [
      "Na =  100000000000000000  /cmˆ3\n",
      "Vt =  0.0259 V\n",
      "e =  1.6e-19  columns\n",
      "ni =  15000000000.0 /cmˆ3\n",
      "Er =  11.9\n",
      "Eo =  8.854e-14  F/cm\n",
      "Vs=Vt∗log(Na/ni))= 0.40695713106  V\n",
      " total permittivity ,E=Eo∗Er= 1.053626e-12  F/cm\n",
      "maximum depletion width ,Wd(max)=Sqrt(4∗E∗Vs/(e∗Na)))= 1.03535092381e-05  cm\n"
     ]
    }
   ],
   "source": [
    "#exa 8.2\n",
    "from math import log\n",
    "from math import sqrt\n",
    "Na =10**17\n",
    "print\"Na = \",Na,\" /cmˆ3\" # initializing value of acceptor ion concentration .\n",
    "Vt =0.0259\n",
    "print\"Vt = \",Vt,\"V\" # initializing value of thermal voltage .\n",
    "e=1.6*10**-19\n",
    "print\"e = \",e,\" columns\" # initializing value of charge of electrons .\n",
    "ni=1.5*10**10\n",
    "print\"ni = \",ni,\"/cmˆ3\" #initializing value of intrinsic carrier concentration .\n",
    "Er=11.9\n",
    "print\"Er = \",Er # initializing value of relative dielectric permittivity constant\n",
    "Eo=8.854*10**-14\n",
    "print\"Eo = \",Eo,\" F/cm\" # initializing value of permittivity of free space .\n",
    "Vs=Vt*log(Na/ni)\n",
    "print\"Vs=Vt∗log(Na/ni))=\",Vs,\" V\"#calculation\n",
    "E=Eo*Er\n",
    "print\" total permittivity ,E=Eo∗Er=\",E,\" F/cm\" # calculation\n",
    "Wd=sqrt(4*E*Vs/(e*Na))\n",
    "print\"maximum depletion width ,Wd(max)=Sqrt(4∗E∗Vs/(e∗Na)))=\",Wd,\" cm\"#calculation"
   ]
  },
  {
   "cell_type": "markdown",
   "metadata": {},
   "source": [
    "## Example 8_3 pgno: 268"
   ]
  },
  {
   "cell_type": "code",
   "execution_count": 3,
   "metadata": {
    "collapsed": false
   },
   "outputs": [
    {
     "name": "stdout",
     "output_type": "stream",
     "text": [
      "Nd =  3000000000000000000  /cmˆ3\n",
      "Vt =  0.0259 V\n",
      "e =  1.6e-19  columns\n",
      "ni =  15000000000.0 /cmˆ3\n",
      "Er =  11.9\n",
      "Eo =  8.854e-14  F/cm\n",
      "Vs=Vt∗log(Nd/ni))= 0.495048143245  V\n",
      " total permittivity ,E=Eo∗Er= 1.053626e-12  F/cm\n",
      "maximum depletion width ,Wd(max)=Sqrt(4∗E∗Vs/(e∗Nd)))= 2.08485729922e-06  cm\n"
     ]
    }
   ],
   "source": [
    "#exa 8.3\n",
    "from math import sqrt\n",
    "from math import log\n",
    "Nd =3*10**18\n",
    "print\"Nd = \",Nd,\" /cmˆ3\" # initializing value of acceptor ion concentration .\n",
    "Vt =0.0259\n",
    "print\"Vt = \",Vt,\"V\" # initializing value of thermal voltage .\n",
    "e=1.6*10**-19\n",
    "print\"e = \",e,\" columns\" # initializing value of charge of electrons .\n",
    "ni=1.5*10**10\n",
    "print\"ni = \",ni,\"/cmˆ3\" #initializing value of intrinsic carrier concentration .\n",
    "Er=11.9\n",
    "print\"Er = \",Er # initializing value of relative dielectric permittivity constant\n",
    "Eo=8.854*10**-14\n",
    "print\"Eo = \",Eo,\" F/cm\" # initializing value of permittivity of free space .\n",
    "Vs=Vt*log(Nd/ni)\n",
    "print\"Vs=Vt∗log(Nd/ni))=\",Vs,\" V\"# calculation\n",
    "E=Eo*Er\n",
    "print\" total permittivity ,E=Eo∗Er=\",E,\" F/cm\" # calculation\n",
    "Wd=sqrt(4*E*Vs/(e*Nd))\n",
    "print\"maximum depletion width ,Wd(max)=Sqrt(4∗E∗Vs/(e∗Nd)))=\",Wd,\" cm\"#calculation"
   ]
  },
  {
   "cell_type": "markdown",
   "metadata": {},
   "source": [
    "## Example 8_5 pgno: 269"
   ]
  },
  {
   "cell_type": "code",
   "execution_count": 4,
   "metadata": {
    "collapsed": false
   },
   "outputs": [
    {
     "name": "stdout",
     "output_type": "stream",
     "text": [
      "Vm =  3.2  V\n",
      "X =  3.25  V\n",
      "Nd =  20000000000000000  /cmˆ3\n",
      "ni =  15000000000.0  V\n",
      "Vt =  0.0259 V\n",
      "Eg =  1.12 V\n",
      "Vfp=(Vt∗log(Nd/ni))= 0.365272689128  V\n",
      "Vms=−(Vm+(Eg/2)+Vfp−Vm)= -0.925272689128  V\n"
     ]
    }
   ],
   "source": [
    "#exa 8.5\n",
    "from math import log\n",
    "Vm =3.2\n",
    "print\"Vm = \",Vm,\" V\" # initializing value of modified metal work function .\n",
    "X=3.25\n",
    "print\"X = \",X,\" V\" # initializing value of modified electron affinity .\n",
    "Nd =2*10**16\n",
    "print\"Nd = \",Nd,\" /cmˆ3\" # initializing value of donor concentration .\n",
    "ni=1.5*10**10\n",
    "print\"ni = \",ni,\" V\" # initializing value of intrinsic carrier concentration .\n",
    "Vt=0.0259\n",
    "print\"Vt = \",Vt,\"V\" # initializing value of thermal voltage .\n",
    "Eg=1.12\n",
    "print\"Eg = \",Eg,\"V\" # initializing value of energy gap .\n",
    "Vfp=(Vt*log(Nd/ni))\n",
    "print\"Vfp=(Vt∗log(Nd/ni))=\",Vfp,\" V\" # calculation .\n",
    "Vms=-(Vm+(Eg/2)+Vfp-Vm)\n",
    "print\"Vms=−(Vm+(Eg/2)+Vfp−Vm)=\",Vms,\" V\" # calculation ."
   ]
  },
  {
   "cell_type": "markdown",
   "metadata": {},
   "source": [
    "## Example 8_7 pgno: 270"
   ]
  },
  {
   "cell_type": "code",
   "execution_count": 5,
   "metadata": {
    "collapsed": false
   },
   "outputs": [
    {
     "name": "stdout",
     "output_type": "stream",
     "text": [
      "Nd =  10000000000000000  /cmˆ3\n",
      "Vms =  -1.12  V\n",
      "Er =  3.9\n",
      "Eo =  8.854e-14  F/cm\n",
      "tox =  2e-06  cm\n",
      "Qss =  2.5e-08  columbs/cmˆ2\n",
      "Total permittivity ,Eox=Eo∗Er= 3.45306e-13  F/cm\n",
      "Capacitance per unit area ,Co=(E/tox))= 1.72653e-07  F/cmˆ2\n",
      " Flat band voltage , Vfb=(Vms−(Qss/Co) ) )= -1.26479910572  V\n"
     ]
    }
   ],
   "source": [
    "#exa 8.7\n",
    "Nd =10**16\n",
    "print\"Nd = \",Nd,\" /cmˆ3\" # initializing value of donor ion concentration .\n",
    "Vms = -1.12\n",
    "print\"Vms = \",Vms,\" V\" # initializing value of metal semiconductor work function difference .\n",
    "Er =3.9\n",
    "print\"Er = \",Er # initializing value of relative dielectric permittivity constant .\n",
    "Eo=8.854*10**-14\n",
    "print\"Eo = \",Eo,\" F/cm\" # initializing value of permittivity of free space .\n",
    "tox =200*10**-8\n",
    "print\"tox = \",tox,\" cm\" # initializing value of thickness of p−type substrate .\n",
    "Qss =2.5*10**-8\n",
    "print\"Qss = \",Qss,\" columbs/cmˆ2\" # initializing value of charge density on semiconductor surface .\n",
    "Eox=Eo*Er\n",
    "print\"Total permittivity ,Eox=Eo∗Er=\",Eox,\" F/cm\"# calculation\n",
    "Co=(Eox/tox)\n",
    "print\"Capacitance per unit area ,Co=(E/tox))=\",Co,\" F/cmˆ2\"# calculation\n",
    "Vfb=(Vms-(Qss/Co))\n",
    "print\" Flat band voltage , Vfb=(Vms−(Qss/Co) ) )=\",Vfb,\" V\"# calculation\n",
    "#the answer for Co after calculation is provided wrong in the book "
   ]
  },
  {
   "cell_type": "markdown",
   "metadata": {},
   "source": [
    "## Example 8_9 pgno: 271"
   ]
  },
  {
   "cell_type": "code",
   "execution_count": 6,
   "metadata": {
    "collapsed": false
   },
   "outputs": [
    {
     "name": "stdout",
     "output_type": "stream",
     "text": [
      "Na =  30000000000000000  /cmˆ3\n",
      "Vms =  -1.12 V\n",
      "Er =  11.9\n",
      "Eo =  8.854e-14  F/cm\n",
      "ni =  15000000000.0 cmˆ−3\n",
      "e =  1.6e-19  columns\n",
      "tox =  3e-06  cm\n",
      "Vfb =  -1.12  V\n",
      "Qss =  100000000000  electronic charge columns/cmˆ2\n",
      "Vt =  0.0259  eV\n",
      "er =  3.9\n",
      "total permittivity ,Eox=Eo∗Er= 1.053626e-12  F/cm\n",
      "Potential ,Vfp=Vt∗(log(Na/(ni))))= 0.375774235428  V\n",
      "Maximum depletion width ,Wd=sqrt ((4∗E∗Vs)/(e∗Nd)))= 1.81641933617e-05  cm\n",
      "Over all maximum depletion width ,QDmax=(e∗Na∗ Wd) )= 8.71881281361e-08  columns/cmˆ2\n",
      "Threshold Voltage ,VT=(((QDmax−1.6∗10ˆ−8)∗tox)/(er∗Eo),(2∗Vfp+Vfb)= 0.250027108378  V\n"
     ]
    }
   ],
   "source": [
    "#exa 8.9\n",
    "from math import log\n",
    "Na =3*10**16\n",
    "print\"Na = \",Na,\" /cmˆ3\" # initializing value of acceptor ion concentration .\n",
    "Vms = -1.12\n",
    "print\"Vms = \",Vms,\"V\" # initializing value of metal semiconductor work function difference .\n",
    "Er =11.9\n",
    "print\"Er = \",Er # initializing value of relative dielectric permittivity constant .\n",
    "Eo=8.854*10**-14\n",
    "print\"Eo = \",Eo,\" F/cm\" # initializing value of permittivity of free space .\n",
    "ni=1.5*10**10\n",
    "print\"ni = \",ni,\"cmˆ−3\" # initializing value of intrinsic concentration of electrons .\n",
    "e=1.6*10**-19\n",
    "print\"e = \",e,\" columns\" # initializing value of charge of electrons .\n",
    "tox =300*10**-8\n",
    "print\"tox = \",tox,\" cm\" # initializing value of thickness of p−type substrate .\n",
    "Vfb=-1.12\n",
    "print\"Vfb = \",Vfb,\" V\" # initializing value of flat band voltage .\n",
    "Qss=10**11\n",
    "print\"Qss = \",Qss,\" electronic charge columns/cmˆ2\" # initializing value of charge density on semiconductor surface .\n",
    "Vt=0.0259\n",
    "print\"Vt = \",Vt,\" eV\" # initializing value of thermal voltage .\n",
    "er=3.9\n",
    "print\"er = \",er # initializing value of relative dielectric permittivity constant\n",
    "Eox=Eo*Er\n",
    "print\"total permittivity ,Eox=Eo∗Er=\",Eox,\" F/cm\"# calculation\n",
    "Vfp=Vt*(log(Na/(ni)))\n",
    "print\"Potential ,Vfp=Vt∗(log(Na/(ni))))=\",Vfp,\" V\"#calculation\n",
    "Wd=sqrt((4*Eox*Vfp)/(e*Na))\n",
    "print\"Maximum depletion width ,Wd=sqrt ((4∗E∗Vs)/(e∗Nd)))=\",Wd,\" cm\"#calculation\n",
    "QDmax=(e*Na*Wd)\n",
    "print\"Over all maximum depletion width ,QDmax=(e∗Na∗ Wd) )=\",QDmax,\" columns/cmˆ2\" # calculation\n",
    "VT=(((QDmax -1.6*10**-8)*tox)/(er*Eo))+(2*Vfp+Vfb)\n",
    "print \"Threshold Voltage ,VT=(((QDmax−1.6∗10ˆ−8)∗tox)/(er∗Eo),(2∗Vfp+Vfb)=\",VT,\" V\" # calculation"
   ]
  },
  {
   "cell_type": "markdown",
   "metadata": {},
   "source": [
    "## Example 8_10 pgno: 271"
   ]
  },
  {
   "cell_type": "code",
   "execution_count": 7,
   "metadata": {
    "collapsed": false
   },
   "outputs": [
    {
     "name": "stdout",
     "output_type": "stream",
     "text": [
      "L =  0.000125  cm\n",
      "un =  600 cmˆ2/V−s\n",
      "Co =  6.9e-09 F/cmˆ2\n",
      "VT =  0.6  V\n",
      "Vgs =  4  V\n",
      "W =  0.0012 cm\n",
      "Drain current ,Id=((Co∗un∗W)/(L)∗((Vgs−VT)ˆ2/(2)))= 0.00022972032  A\n"
     ]
    }
   ],
   "source": [
    "#exa 8.10\n",
    "L=1.25*10**-4\n",
    "print\"L = \",L,\" cm\" # initializing value of length of channel .\n",
    "un =600\n",
    "print\"un = \",un,\"cmˆ2/V−s\" # initializing value of mobility of n−channel MOS transistor .\n",
    "Co =6.9*10**-9\n",
    "print\"Co = \",Co,\"F/cmˆ2\" # initializing value of capacitance per unit area .\n",
    "VT =0.60\n",
    "print\"VT = \",VT,\" V\" # initializing value of threshold Voltage .\n",
    "Vgs=4\n",
    "print\"Vgs = \",Vgs,\" V\" # initializing value of gate to source voltage .\n",
    "W=12*10**-4\n",
    "print\"W = \",W,\"cm\" # initializing value of width of channel .\n",
    "Id=((Co*un*W)/(L)*((Vgs-VT)**2/(2)))\n",
    "print\"Drain current ,Id=((Co∗un∗W)/(L)∗((Vgs−VT)ˆ2/(2)))=\",Id,\" A\"#calculation .\n",
    "#The answer provided in the book (for Id) is wrong as the value of mobility used for solution is different than provided in the question and also value of (Vgs−Vt) is put wrong in the solution than given in the book .\n",
    "#I have used the value given in the question i.e. answer differ ."
   ]
  },
  {
   "cell_type": "markdown",
   "metadata": {},
   "source": [
    "## Example 8_13 pgno: 273"
   ]
  },
  {
   "cell_type": "code",
   "execution_count": 8,
   "metadata": {
    "collapsed": false
   },
   "outputs": [
    {
     "name": "stdout",
     "output_type": "stream",
     "text": [
      "Na =  200000000000000000  /cmˆ3\n",
      "Er =  11.9\n",
      "Eo =  8.854e-14  F/cm\n",
      "ni =  15000000000.0 cmˆ−3\n",
      "e =  1.6e-19  columns\n",
      "tox =  4e-06  cm\n",
      "Vt =  0.0259  eV\n",
      "er =  3.9\n",
      "Potential ,Vfp=Vt∗(log(Na/(ni))))= 0.424909643036  V\n",
      "Depletion width ,Wd=sqrt ((4∗Er∗Eo∗Vs)/(e∗Nd)))= 7.48077408723e-06  cm\n",
      "Minimum Capacitance,CTmin=(er∗Eo/((er/Er)∗(Wd)+(tox)))= 5.35218545918e-08  F/cmˆ2\n",
      "Flat band capacitance ,CFB=((er∗Eo) /((( er/Er)∗sqrt(Vt∗Er∗Eo/(e∗Na))))+(tox))= 8.02543256028e-08  F/ cmˆ2\n"
     ]
    }
   ],
   "source": [
    "#exa 8.13\n",
    "from math import sqrt\n",
    "from math import log\n",
    "Na =2*10**17\n",
    "print\"Na = \",Na,\" /cmˆ3\" # initializing value of acceptor ion concentration .\n",
    "Er =11.9\n",
    "print\"Er = \",Er # initializing value of relative dielectric permittivity constant .\n",
    "Eo=8.854*10**-14\n",
    "print\"Eo = \",Eo,\" F/cm\" # initializing value of permittivity of free space .\n",
    "ni=1.5*10**10\n",
    "print\"ni = \",ni,\"cmˆ−3\" # initializing value of intrinsic concentration of electrons .\n",
    "e=1.6*10**-19\n",
    "print\"e = \",e,\" columns\" # initializing value of charge of electrons .\n",
    "tox =400*10**-8\n",
    "print\"tox = \",tox,\" cm\" # initializing value of thickness of p−type substrate .\n",
    "Vt=0.0259\n",
    "print\"Vt = \",Vt,\" eV\" # initializing value of thermal voltage .\n",
    "er=3.9\n",
    "print\"er = \",er  # initializing value of relative dielectric permittivity constant\n",
    "Vfp=Vt*(log(Na/(ni)))\n",
    "print\"Potential ,Vfp=Vt∗(log(Na/(ni))))=\",Vfp,\" V\"#calculation\n",
    "Wd=sqrt((4*Er*Eo*Vfp)/(e*Na))\n",
    "print\"Depletion width ,Wd=sqrt ((4∗Er∗Eo∗Vs)/(e∗Nd)))=\",Wd,\" cm\"# calculation\n",
    "CTmin=(er*Eo/(((er/Er)*(Wd))+(tox)))\n",
    "print\"Minimum Capacitance,CTmin=(er∗Eo/((er/Er)∗(Wd)+(tox)))=\",CTmin,\" F/cmˆ2\"#calculation\n",
    "CFB=((er*Eo)/((((er/Er)*sqrt(Vt*Er*Eo/(e*Na))))+(tox)))\n",
    "print\"Flat band capacitance ,CFB=((er∗Eo) /((( er/Er)∗sqrt(Vt∗Er∗Eo/(e∗Na))))+(tox))=\",CFB,\" F/ cmˆ2\"# calculation\n",
    "#the value of Na (acceptor ion concentration) and tox ( thickness of p−type substrate ) is provided different in the question than used in the solution .\n",
    "#I have used the value provided in the solution .( i . e Na=2∗10ˆ17 and tox =400∗10ˆ8cm)"
   ]
  },
  {
   "cell_type": "markdown",
   "metadata": {},
   "source": [
    "## Example 8_14 pgno: 274"
   ]
  },
  {
   "cell_type": "code",
   "execution_count": 9,
   "metadata": {
    "collapsed": false
   },
   "outputs": [
    {
     "name": "stdout",
     "output_type": "stream",
     "text": [
      "Vfb =  -1.0  V\n",
      "Vms =  -0.9 V\n",
      "tox =  2e-06  cm\n",
      "et =  3.9\n",
      "eo =  8.85e-14 F/cm\n",
      "e =  1.6e-19  columns\n",
      "eox=(eo∗et))= 3.4515e-13  F/cmˆ2\n",
      "Oxide capacitance ,Cox=(eox/tox))= 1.72575e-07  F/cmˆ2\n",
      "charge density on semiconductor surface ,Qss=(( Vms−Vfb)∗Cox))= 1.72575e-08  C/cmˆ2\n",
      "charge density on semiconductor surface (in terms of number of charges) ,Qss∗=Qss/e)= 1.07859375e+11  electrons/cmˆ2\n"
     ]
    }
   ],
   "source": [
    "#exa 8.14\n",
    "Vfb = -1.0\n",
    "print\"Vfb = \",Vfb,\" V\" # initializing value of flat band voltage .\n",
    "Vms = -0.9\n",
    "print\"Vms = \",Vms,\"V\" # initializing value of metal semiconductor work function difference .\n",
    "tox =200*10**-8\n",
    "print\"tox = \",tox,\" cm\" # initializing value of gate oxide thickness .\n",
    "et =3.9\n",
    "print\"et = \",et # initializing value of relative permittivity .\n",
    "eo =8.85*10**-14\n",
    "print\"eo = \",eo,\"F/cm\" # initializing value of free space permittivity .\n",
    "e=1.6*10**-19\n",
    "print\"e = \",e,\" columns\" # initializing value of charge of electrons .\n",
    "eox=(eo*et)\n",
    "print\"eox=(eo∗et))=\",eox,\" F/cmˆ2\" # calculation\n",
    "Cox=(eox/tox)\n",
    "print\"Oxide capacitance ,Cox=(eox/tox))=\",Cox,\" F/cmˆ2\"# calculation\n",
    "Qss=((Vms-Vfb)*Cox)\n",
    "print\"charge density on semiconductor surface ,Qss=(( Vms−Vfb)∗Cox))=\",Qss,\" C/cmˆ2\" # calculation\n",
    "Qss1=Qss/e\n",
    "print\"charge density on semiconductor surface (in terms of number of charges) ,Qss∗=Qss/e)=\",Qss1,\" electrons/cmˆ2\" #calculation"
   ]
  },
  {
   "cell_type": "markdown",
   "metadata": {},
   "source": [
    "## Example 8_15 pgno: 274"
   ]
  },
  {
   "cell_type": "code",
   "execution_count": 1,
   "metadata": {
    "collapsed": false
   },
   "outputs": [
    {
     "name": "stdout",
     "output_type": "stream",
     "text": [
      "L =  3e-06  meter\n",
      "un =  800.0 cmˆ2/V−s\n",
      "VT =  1.0  V\n",
      "Vgs =  0  V\n",
      "tox =  5e-06  cm\n",
      "et =  3.9\n",
      "eo =  8.85e-14 F/cm\n",
      "W =  3e-05 m\n",
      "eox=(eo∗et))= 3.4515e-13  F/cmˆ2\n",
      "Drain current ,Id=((eox∗un∗W)/(tox∗L)∗((Vgs−VT)ˆ2/(2))))= 276120.0  A\n"
     ]
    }
   ],
   "source": [
    "#exa 8.15\n",
    "L=3e-6\n",
    "print\"L = \",L,\" meter\" # initializing value of length of channel .\n",
    "un =800.\n",
    "print\"un = \",un,\"cmˆ2/V−s\" # initializing value of mobility of n−channel MOS transistor .\n",
    "VT=1.\n",
    "print\"VT = \",VT,\" V\" # initializing value of threshold Voltage .\n",
    "Vgs=0\n",
    "print\"Vgs = \",Vgs,\" V\" # initializing value of gate to source voltage .\n",
    "tox =500e-8\n",
    "print\"tox = \",tox,\" cm\" # initializing value of gate oxide thickness .\n",
    "et=3.9\n",
    "print\"et = \",et # initializing value of relative permittivity .\n",
    "eo =8.85e-14\n",
    "print\"eo = \",eo,\"F/cm\" # initializing value of free space permittivity .\n",
    "W=30e-6\n",
    "print\"W = \",W,\"m\" # initializing value of width of channel .\n",
    "eox=(eo*et)\n",
    "print\"eox=(eo∗et))=\",eox,\" F/cmˆ2\"# calculation\n",
    "Id=((eox*un*W)/(tox*L)*((Vgs-VT)**2/(2)))*(1e9)\n",
    "print\"Drain current ,Id=((eox∗un∗W)/(tox∗L)∗((Vgs−VT)ˆ2/(2))))=\",Id,\" A\"#calculation"
   ]
  },
  {
   "cell_type": "markdown",
   "metadata": {},
   "source": [
    "## Example 8_16 pgno: 274"
   ]
  },
  {
   "cell_type": "code",
   "execution_count": 11,
   "metadata": {
    "collapsed": false
   },
   "outputs": [
    {
     "name": "stdout",
     "output_type": "stream",
     "text": [
      "L =  2.5e-06  meter\n",
      "un =  800 cmˆ2/V−s\n",
      "VT =  0.8  V\n",
      "Vgs =  1  V\n",
      "tox =  4e-06  cm\n",
      "et =  3.9\n",
      "eo =  8.85e-14 F/cm\n",
      "eox=(eo∗et))= 3.4515e-13  F/cmˆ2\n",
      "W =  2.5e-05 m\n",
      "Drain current ,Id=((eox∗un∗W)/(tox∗L)∗((Vgs−VT)ˆ2/(2))))= 1.3806e-05  A\n"
     ]
    }
   ],
   "source": [
    "#exa 8.16\n",
    "L=2.5*10**-6\n",
    "print\"L = \",L,\" meter\" # initializing value of length of channel .\n",
    "un =800\n",
    "print\"un = \",un,\"cmˆ2/V−s\" # initializing value of mobility of n−channel MOS transistor .\n",
    "VT =0.8\n",
    "print\"VT = \",VT,\" V\" # initializing value of threshold Voltage .\n",
    "Vgs=1\n",
    "print\"Vgs = \",Vgs,\" V\" # initializing value of gate to source voltage .\n",
    "tox =400*10**-8\n",
    "print\"tox = \",tox,\" cm\" # initializing value of gate oxide thickness .\n",
    "et=3.9\n",
    "print\"et = \",et # initializing value of relative permittivity .\n",
    "eo =8.85*10**-14\n",
    "print\"eo = \",eo,\"F/cm\" # initializing value of free space permittivity .\n",
    "eox=(eo*et)\n",
    "print\"eox=(eo∗et))=\",eox,\" F/cmˆ2\" # calculation\n",
    "W=25*10**-6\n",
    "print\"W = \",W,\"m\" # initializing value of width of channel . .\n",
    "Id=((eox*un*W)/(tox*L)*((Vgs-VT)**2/(2)))\n",
    "print\"Drain current ,Id=((eox∗un∗W)/(tox∗L)∗((Vgs−VT)ˆ2/(2))))=\",Id,\" A\"#calculation"
   ]
  },
  {
   "cell_type": "markdown",
   "metadata": {},
   "source": [
    "## Example 8_17 pgno: 274"
   ]
  },
  {
   "cell_type": "code",
   "execution_count": 12,
   "metadata": {
    "collapsed": false
   },
   "outputs": [
    {
     "name": "stdout",
     "output_type": "stream",
     "text": [
      "un =  525 cmˆ2/V−s\n",
      "VT =  0.75  V\n",
      "Vgs =  2  V\n",
      "tox =  4e-06  cm\n",
      "et =  3.9\n",
      "eo =  8.85e-14 F/cm\n",
      "eox=(eo∗et))= 3.4515e-13  F/cmˆ2\n",
      "Id =  0.006 A\n",
      "width to length ratio ,W/L=((Id∗tox∗2)/(eox∗un∗((Vgs−VT)ˆ2)))=  169.532915296\n"
     ]
    }
   ],
   "source": [
    "#8.17\n",
    "un =525\n",
    "print\"un = \",un,\"cmˆ2/V−s\" # initializing value of mobility of n−channel MOS transistor .\n",
    "VT =0.75\n",
    "print\"VT = \",VT,\" V\" # initializing value of threshold Voltage .\n",
    "Vgs=2\n",
    "print\"Vgs = \",Vgs,\" V\" # initializing value of gate to source voltage .\n",
    "tox =400*10**-8\n",
    "print\"tox = \",tox,\" cm\" # initializing value of gate oxide thickness .\n",
    "et=3.9\n",
    "print\"et = \",et # initializing value of relative permittivity .\n",
    "eo =8.85*10**-14\n",
    "print\"eo = \",eo,\"F/cm\" # initializing value of free space permittivity .\n",
    "eox=(eo*et)\n",
    "print\"eox=(eo∗et))=\",eox,\" F/cmˆ2\" # calculation\n",
    "Id =6*10**-3\n",
    "print\"Id = \",Id,\"A\" # initializing value of width of channel . .\n",
    "X=((Id*tox*2)/(eox*un*((Vgs-VT)**2)))\n",
    "print\"width to length ratio ,W/L=((Id∗tox∗2)/(eox∗un∗((Vgs−VT)ˆ2)))= \",X # calculation"
   ]
  },
  {
   "cell_type": "markdown",
   "metadata": {},
   "source": [
    "## Example 8_18 pgno: 275"
   ]
  },
  {
   "cell_type": "code",
   "execution_count": 13,
   "metadata": {
    "collapsed": false
   },
   "outputs": [
    {
     "name": "stdout",
     "output_type": "stream",
     "text": [
      "Nd =  20000000000000000  /cmˆ3\n",
      "a =  0.0002  cm\n",
      "e =  1.6e-19  columns\n",
      "Er =  11.9\n",
      "Eo =  8.85e-14 F/cm\n",
      "E=(Eo∗Er))= 1.05315e-12  F/cmˆ2\n",
      "Pinch off Voltage ,Vp=((e∗Nd∗aˆ2)/(2∗E)))= 60.7700707402  V\n"
     ]
    }
   ],
   "source": [
    "#exa 8.18\n",
    "Nd =2*10**16\n",
    "print\"Nd = \",Nd,\" /cmˆ3\" # initializing value of donor ion concentration .\n",
    "a=2*10**-4\n",
    "print\"a = \",a,\" cm\" # initializing value of height of channel at pinch off .\n",
    "e=1.6*10**-19\n",
    "print\"e = \",e,\" columns\" # initializing value of charge of electrons .\n",
    "Er =11.9\n",
    "print\"Er = \",Er # initializing value of relative permittivity .\n",
    "Eo =8.85*10**-14\n",
    "print\"Eo = \",Eo,\"F/cm\" # initializing value of free space permittivity .\n",
    "E=(Eo*Er)\n",
    "print\"E=(Eo∗Er))=\",E,\" F/cmˆ2\"#calculation\n",
    "Vp=((e*Nd*a**2)/(2*E))\n",
    "print\"Pinch off Voltage ,Vp=((e∗Nd∗aˆ2)/(2∗E)))=\",Vp,\" V\"# calculation,"
   ]
  },
  {
   "cell_type": "markdown",
   "metadata": {},
   "source": [
    "## Example 8_20 pgno: 275"
   ]
  },
  {
   "cell_type": "code",
   "execution_count": 14,
   "metadata": {
    "collapsed": false
   },
   "outputs": [
    {
     "name": "stdout",
     "output_type": "stream",
     "text": [
      "a =  0.0002  cm\n",
      "Er =  11.9\n",
      "Eo =  8.854e-14  F/cm\n",
      "un =  1350 cmˆ2/V−s\n",
      "W =  0.0008  cm\n",
      "L =  0.001  cm\n",
      "e =  1.6e-19  columns\n",
      "Vp =  4  V\n",
      "Vgs =  0  V\n",
      " total permittivity ,E=Eo∗Er= 1.053626e-12  F/cm\n",
      "Donor ion concentration ,Nd=((Vp∗2∗E)/(e∗aˆ2)))= 1.3170325e+15  /cmˆ3\n",
      "On Drain resistance ,rds=(L/(W∗a∗e∗un∗Nd)))= 21969.9856953  ohm\n"
     ]
    }
   ],
   "source": [
    "#exa 8.20\n",
    "a=2*10**-4\n",
    "print\"a = \",a,\" cm\" # initializing value of height of channel at pinch off .\n",
    "Er =11.9\n",
    "print\"Er = \",Er  # initializing value of relative dielectric permittivity constant .\n",
    "Eo=8.854*10**-14\n",
    "print\"Eo = \",Eo,\" F/cm\" # initializing value of permittivity of free space .\n",
    "un =1350\n",
    "print\"un = \",un,\"cmˆ2/V−s\" # initializing value of mobility of n−type silicon Mosfet.\n",
    "W=8*10**-4\n",
    "print\"W = \",W,\" cm\" # initializing value of width of p−substrate .\n",
    "L=10*10**-4\n",
    "print\"L = \",L,\" cm\" # initializing value of length of p−substrate \n",
    "e=1.6*10**-19\n",
    "print\"e = \",e,\" columns\" # initializing value of charge of electrons .\n",
    "Vp=4\n",
    "print\"Vp = \",Vp,\" V\" # initializing value of thickness of p−substrate . \n",
    "Vgs=0\n",
    "print\"Vgs = \",Vgs,\" V\" # initializing value of gate to source voltage .\n",
    "E=Eo*Er\n",
    "print\" total permittivity ,E=Eo∗Er=\",E,\" F/cm\" # calculation\n",
    "Nd=((Vp*2*E)/(e*a**2))\n",
    "print\"Donor ion concentration ,Nd=((Vp∗2∗E)/(e∗aˆ2)))=\",Nd,\" /cmˆ3\"# calculation\n",
    "rds=(L/(W*a*e*un*Nd))\n",
    "print\"On Drain resistance ,rds=(L/(W∗a∗e∗un∗Nd)))=\",rds,\" ohm\"# calculation"
   ]
  }
 ],
 "metadata": {
  "kernelspec": {
   "display_name": "Python 2",
   "language": "python",
   "name": "python2"
  },
  "language_info": {
   "codemirror_mode": {
    "name": "ipython",
    "version": 2
   },
   "file_extension": ".py",
   "mimetype": "text/x-python",
   "name": "python",
   "nbconvert_exporter": "python",
   "pygments_lexer": "ipython2",
   "version": "2.7.10"
  }
 },
 "nbformat": 4,
 "nbformat_minor": 0
}
