{
 "cells": [
  {
   "cell_type": "markdown",
   "metadata": {},
   "source": [
    "# 06:COUNTING"
   ]
  },
  {
   "cell_type": "markdown",
   "metadata": {},
   "source": [
    "## Example 01: Page 386"
   ]
  },
  {
   "cell_type": "code",
   "execution_count": 1,
   "metadata": {
    "collapsed": false
   },
   "outputs": [
    {
     "name": "stdout",
     "output_type": "stream",
     "text": [
      "Total ways to assign offices to these employees is 132\n"
     ]
    }
   ],
   "source": [
    "n=2 #number of employees\n",
    "r=12 #number of office rooms\n",
    "ways_alloc_sanchez=12\n",
    "ways_alloc_patel=11\n",
    "\n",
    "#By PRODUCT RULE\n",
    "print \"Total ways to assign offices to these employees is\",ways_alloc_sanchez*ways_alloc_patel\n"
   ]
  },
  {
   "cell_type": "markdown",
   "metadata": {},
   "source": [
    "# 06:COUNTING"
   ]
  },
  {
   "cell_type": "markdown",
   "metadata": {},
   "source": [
    "## Example 02: Page 386"
   ]
  },
  {
   "cell_type": "code",
   "execution_count": 2,
   "metadata": {
    "collapsed": false
   },
   "outputs": [
    {
     "name": "stdout",
     "output_type": "stream",
     "text": [
      "Total number of chairs that can be labelled with an alphabet and an integer is 2600\n"
     ]
    }
   ],
   "source": [
    "alphabets=26 #Total number of alphabets\n",
    "posint=100 #Total positive numbers not beyond 100\n",
    "\n",
    "#number of chairs to be labelled with a alphabet and an integer using product rule\n",
    "print \"Total number of chairs that can be labelled with an alphabet and an integer is\",alphabets*posint\n"
   ]
  },
  {
   "cell_type": "markdown",
   "metadata": {},
   "source": [
    "# 06:COUNTING"
   ]
  },
  {
   "cell_type": "markdown",
   "metadata": {},
   "source": [
    "## Example 03: Page 386"
   ]
  },
  {
   "cell_type": "code",
   "execution_count": 3,
   "metadata": {
    "collapsed": false
   },
   "outputs": [
    {
     "name": "stdout",
     "output_type": "stream",
     "text": [
      "total number of ports 768\n"
     ]
    }
   ],
   "source": [
    "mc=32 #total number of microcomputers\n",
    "port=24 #total number of ports in each microcomputer\n",
    "\n",
    "#total number of different ports to a microcomputer in the center are found using product rule\n",
    "\n",
    "print \"total number of ports\",mc*port\n"
   ]
  },
  {
   "cell_type": "markdown",
   "metadata": {},
   "source": [
    "# 06 Counting"
   ]
  },
  {
   "cell_type": "markdown",
   "metadata": {},
   "source": [
    "## Example 04: Page 386"
   ]
  },
  {
   "cell_type": "code",
   "execution_count": 4,
   "metadata": {
    "collapsed": false
   },
   "outputs": [
    {
     "name": "stdout",
     "output_type": "stream",
     "text": [
      "Total different bit strings of lenth seven are 128\n"
     ]
    }
   ],
   "source": [
    "bits=2 #possible bits either 0 or 1\n",
    "ns=7 #number of bits in the string (ie). length of the string\n",
    " # 7 bits are capable of taking either 0 or 1 so by PRODUCT RULE\n",
    "print \"Total different bit strings of lenth seven are\",bits**ns\n"
   ]
  },
  {
   "cell_type": "markdown",
   "metadata": {},
   "source": [
    "# 06:COUNTING"
   ]
  },
  {
   "cell_type": "markdown",
   "metadata": {},
   "source": [
    "## Example 05: Page 387"
   ]
  },
  {
   "cell_type": "code",
   "execution_count": 7,
   "metadata": {
    "collapsed": false
   },
   "outputs": [
    {
     "name": "stdout",
     "output_type": "stream",
     "text": [
      "The total number of choices are 17576000\n"
     ]
    }
   ],
   "source": [
    "letters=26 #number of letters in english alphabet\n",
    "no_of_letters=3 #number of letters \n",
    "choices=10 #number of choices for each letter\n",
    "result=1#in order to avoid junk values.  Assigned it to 1.\n",
    "for i in range(0,no_of_letters):\n",
    "    result=result*letters*choices\n",
    "print \"The total number of choices are\",result"
   ]
  },
  {
   "cell_type": "markdown",
   "metadata": {},
   "source": [
    "# 06:COUNTING"
   ]
  },
  {
   "cell_type": "markdown",
   "metadata": {},
   "source": [
    "## Example 01: Page 407"
   ]
  },
  {
   "cell_type": "code",
   "execution_count": 10,
   "metadata": {
    "collapsed": false
   },
   "outputs": [
    {
     "name": "stdout",
     "output_type": "stream",
     "text": [
      "The number of ways to select 3 students from a group of 5 students to line up for a picture is  60\n",
      "The number of ways to select 5 students from a group of 5 students to line up for a picture is  120\n"
     ]
    }
   ],
   "source": [
    "def permutation(n,r): #function definition\n",
    "    \n",
    "    i=n\n",
    "    result=1\n",
    "    for i in range((n-r)+1,n+1): #computing the permutation\n",
    "       result=result*i\n",
    "    \n",
    "    return result\n",
    "\n",
    "print \"The number of ways to select 3 students from a group of 5 students to line up for a picture is \",permutation(5,3) #function call\n",
    "print \"The number of ways to select 5 students from a group of 5 students to line up for a picture is \",permutation(5,5) #function call\n"
   ]
  },
  {
   "cell_type": "markdown",
   "metadata": {},
   "source": [
    "# 06:COUNTING"
   ]
  },
  {
   "cell_type": "markdown",
   "metadata": {},
   "source": [
    "## Example 04: Page 409"
   ]
  },
  {
   "cell_type": "code",
   "execution_count": 1,
   "metadata": {
    "collapsed": false
   },
   "outputs": [
    {
     "name": "stdout",
     "output_type": "stream",
     "text": [
      "Enter the number of people100\n",
      "Enter the prizes3\n",
      "The number of ways to decide the prize winners is 970200\n"
     ]
    }
   ],
   "source": [
    "def permutation(n,r): #function definition\n",
    "    \n",
    "    i=n\n",
    "    result=1\n",
    "    for i in range((n-r)+1,n+1): #permutation computation\n",
    "       result=result*i\n",
    "    return result\n",
    "num=input(\"Enter the number of people\")\n",
    "perm=input(\"Enter the prizes\")\n",
    "print \"The number of ways to decide the prize winners is\",permutation(num,perm) #function call\n"
   ]
  },
  {
   "cell_type": "markdown",
   "metadata": {},
   "source": [
    "# 06:COUNTING"
   ]
  },
  {
   "cell_type": "markdown",
   "metadata": {},
   "source": [
    "## Example 05: Page 409"
   ]
  },
  {
   "cell_type": "code",
   "execution_count": 2,
   "metadata": {
    "collapsed": false
   },
   "outputs": [
    {
     "name": "stdout",
     "output_type": "stream",
     "text": [
      "Enter the number of runners8\n",
      "Enter the number of prizes3\n",
      "The number of ways to decide the prize winners is 336\n"
     ]
    }
   ],
   "source": [
    "def permutation(n,r):\n",
    "    \n",
    "    i=n\n",
    "    result=1\n",
    "    for i in range((n-r)+1,n+1):\n",
    "       result=result*i\n",
    "    \n",
    "    return result\n",
    "num=input(\"Enter the number of runners\")\n",
    "perm=input(\"Enter the number of prizes\")\n",
    "print \"The number of ways to decide the prize winners is\",permutation(num,perm)\n",
    "\n"
   ]
  },
  {
   "cell_type": "markdown",
   "metadata": {},
   "source": [
    "# 06:COUNTING"
   ]
  },
  {
   "cell_type": "markdown",
   "metadata": {},
   "source": [
    "## Example 06: Page 409"
   ]
  },
  {
   "cell_type": "code",
   "execution_count": 3,
   "metadata": {
    "collapsed": false
   },
   "outputs": [
    {
     "name": "stdout",
     "output_type": "stream",
     "text": [
      "Enter the number of cities8\n",
      "The number of possible ways to decide the path is 5040\n"
     ]
    }
   ],
   "source": [
    "def calc(n):\n",
    "    \n",
    "    i=n\n",
    "    result=1\n",
    "    for i in range(1,n): #find the number of ways to decide the path. since the first city us decided. The for loop is from 1 to n\n",
    "      result=result*i\n",
    "    \n",
    "    return result\n",
    "num=input(\"Enter the number of cities\") \n",
    "print \"The number of possible ways to decide the path is\",calc(num)\n",
    "\n"
   ]
  },
  {
   "cell_type": "markdown",
   "metadata": {},
   "source": [
    "# 06:COUNTING"
   ]
  },
  {
   "cell_type": "markdown",
   "metadata": {},
   "source": [
    "## Example 10: Page 410"
   ]
  },
  {
   "cell_type": "code",
   "execution_count": 5,
   "metadata": {
    "collapsed": false
   },
   "outputs": [
    {
     "name": "stdout",
     "output_type": "stream",
     "text": [
      "Enter the number of elements4\n",
      "Enter the combinations2\n",
      "The number of combinations are  6\n"
     ]
    }
   ],
   "source": [
    "def combination(n,r): #combination function\n",
    "    i=n\n",
    "    numerator=1\n",
    "    denominator=1\n",
    "    for i in range((n-r)+1,n+1):#computes the value of the numerator \n",
    "       numerator=numerator*i\n",
    "    for j in range (1,r+1): #computes the value of the denominator\n",
    "        denominator=denominator*j\n",
    "    result=numerator/denominator #computes result\n",
    "    return result\n",
    "num=input(\"Enter the number of elements\")\n",
    "comb=input(\"Enter the combinations\")\n",
    "print \"The number of combinations are \",combination(num,comb)\n"
   ]
  },
  {
   "cell_type": "markdown",
   "metadata": {},
   "source": [
    "# 06:COUNTING"
   ]
  },
  {
   "cell_type": "markdown",
   "metadata": {},
   "source": [
    "## Example 12: Page 412"
   ]
  },
  {
   "cell_type": "code",
   "execution_count": 7,
   "metadata": {
    "collapsed": false
   },
   "outputs": [
    {
     "name": "stdout",
     "output_type": "stream",
     "text": [
      "Enter the number of members in a team10\n",
      "Enter the number of players5\n",
      "The number of combinations are  252\n"
     ]
    }
   ],
   "source": [
    "def combination(n,r): #function definition for combination\n",
    "    i=n\n",
    "    numerator=1\n",
    "    denominator=1\n",
    "    for i in range((n-r)+1,n+1):\n",
    "       numerator=numerator*i\n",
    "    for j in range (1,r+1):\n",
    "        denominator=denominator*j\n",
    "    result=numerator/denominator\n",
    "    return result\n",
    "num=input(\"Enter the number of members in a team\")\n",
    "comb=input(\"Enter the number of players\")\n",
    "print \"The number of combinations are \",combination(num,comb) #function call\n"
   ]
  },
  {
   "cell_type": "markdown",
   "metadata": {},
   "source": [
    "# 06:COUNTING"
   ]
  },
  {
   "cell_type": "markdown",
   "metadata": {},
   "source": [
    "## Example 13: Page 412"
   ]
  },
  {
   "cell_type": "code",
   "execution_count": 8,
   "metadata": {
    "collapsed": false
   },
   "outputs": [
    {
     "name": "stdout",
     "output_type": "stream",
     "text": [
      "Enter the total number of astronauts30\n",
      "Enter the number of astronauts to be selected 6\n",
      "The total number of combinations of selected astronauts to Mars are  593775\n"
     ]
    }
   ],
   "source": [
    "def combination(n,r): #function definition\n",
    "    i=n\n",
    "    numerator=1\n",
    "    denominator=1\n",
    "    for i in range((n-r)+1,n+1):\n",
    "       numerator=numerator*i\n",
    "    for j in range (1,r+1):\n",
    "        denominator=denominator*j\n",
    "    result=numerator/denominator\n",
    "    return result\n",
    "num=input(\"Enter the total number of astronauts\")\n",
    "comb=input(\"Enter the number of astronauts to be selected \")\n",
    "print \"The total number of combinations of selected astronauts to Mars are \",combination(num,comb) #function call\n"
   ]
  },
  {
   "cell_type": "markdown",
   "metadata": {},
   "source": [
    "# 06:COUNTING"
   ]
  },
  {
   "cell_type": "markdown",
   "metadata": {},
   "source": [
    "## Example 15: Page 413"
   ]
  },
  {
   "cell_type": "code",
   "execution_count": 9,
   "metadata": {
    "collapsed": false
   },
   "outputs": [
    {
     "name": "stdout",
     "output_type": "stream",
     "text": [
      "Enter the total number of faculty in computer science department9\n",
      "Enter the number of faculty to be selected for computer science department3\n",
      "Enter the total number of faculty in maths department11\n",
      "Enter the number of faculty to be selected for maths department4\n",
      "The total number of combinations of selected faculties are  27720\n"
     ]
    }
   ],
   "source": [
    "def combination(n,r): #Function definition\n",
    "    i=n\n",
    "    numerator=1\n",
    "    denominator=1\n",
    "    for i in range((n-r)+1,n+1): #computation of the numerator\n",
    "       numerator=numerator*i\n",
    "    for j in range (1,r+1): #computation of the denominator\n",
    "        denominator=denominator*j\n",
    "    result=numerator/denominator\n",
    "    return result\n",
    "num1=input(\"Enter the total number of faculty in computer science department\")\n",
    "comb1=input(\"Enter the number of faculty to be selected for computer science department\")\n",
    "num2=input(\"Enter the total number of faculty in maths department\")\n",
    "comb2=input(\"Enter the number of faculty to be selected for maths department\")\n",
    "\n",
    "print \"The total number of combinations of selected faculties are \",combination(num1,comb1)*combination(num2,comb2) #Function call\n"
   ]
  },
  {
   "cell_type": "code",
   "execution_count": null,
   "metadata": {
    "collapsed": true
   },
   "outputs": [],
   "source": []
  }
 ],
 "metadata": {
  "kernelspec": {
   "display_name": "Python 2",
   "language": "python",
   "name": "python2"
  },
  "language_info": {
   "codemirror_mode": {
    "name": "ipython",
    "version": 2
   },
   "file_extension": ".py",
   "mimetype": "text/x-python",
   "name": "python",
   "nbconvert_exporter": "python",
   "pygments_lexer": "ipython2",
   "version": "2.7.9"
  }
 },
 "nbformat": 4,
 "nbformat_minor": 0
}
