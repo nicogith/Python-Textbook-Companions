{
 "cells": [
  {
   "cell_type": "markdown",
   "metadata": {},
   "source": [
    "# 01:THE FOUNDATIONS: LOGIC AND PROOFS\n"
   ]
  },
  {
   "cell_type": "markdown",
   "metadata": {},
   "source": [
    "##Example 01:Page 02"
   ]
  },
  {
   "cell_type": "code",
   "execution_count": 1,
   "metadata": {
    "collapsed": false
   },
   "outputs": [
    {
     "name": "stdout",
     "output_type": "stream",
     "text": [
      "The following sentences are Propositions\n",
      "1.  Washington D.C is the capital of the United States of America\n",
      "2.  Toronto is the capital of Canada\n",
      "3.  1+1=2.\n",
      "4.  2+2=3.\n"
     ]
    }
   ],
   "source": [
    "print \"The following sentences are Propositions\" #Proposition should be a declarative sentence or should result in either a YES or a NO.\n",
    "\n",
    "print \"1.  Washington D.C is the capital of the United States of America\\n2.  Toronto is the capital of Canada\\n3.  1+1=2.\\n4.  2+2=3.\" #Since these statements are declarative and they answer the question YES or NO they are called propositions.\n"
   ]
  },
  {
   "cell_type": "markdown",
   "metadata": {},
   "source": [
    "# 01:THE FOUNDATIONS: LOGIC AND PROOFS"
   ]
  },
  {
   "cell_type": "markdown",
   "metadata": {},
   "source": [
    "##Example 02:Page 02"
   ]
  },
  {
   "cell_type": "code",
   "execution_count": 2,
   "metadata": {
    "collapsed": false
   },
   "outputs": [
    {
     "name": "stdout",
     "output_type": "stream",
     "text": [
      "1.  What time is it? \n",
      "2.  Read this carefully. \n",
      "3.  x+1=2.\n",
      "4.  x+y=Z.\n",
      "Sentences 1 and 2 are not propositions since they are not declarative.  Sentences 3 and 4 are neither true nor false and so they are not propositions.\n"
     ]
    }
   ],
   "source": [
    "print \"1.  What time is it? \\n2.  Read this carefully. \\n3.  x+1=2.\\n4.  x+y=Z.\"\n",
    "print\"Sentences 1 and 2 are not propositions since they are not declarative.  Sentences 3 and 4 are neither true nor false and so they are not propositions.\"\n"
   ]
  },
  {
   "cell_type": "markdown",
   "metadata": {},
   "source": [
    "# 01:THE FOUNDATIONS: LOGIC AND PROOFS"
   ]
  },
  {
   "cell_type": "markdown",
   "metadata": {},
   "source": [
    "##Example 03:Page 03"
   ]
  },
  {
   "cell_type": "code",
   "execution_count": 9,
   "metadata": {
    "collapsed": false
   },
   "outputs": [
    {
     "name": "stdout",
     "output_type": "stream",
     "text": [
      "Propositon p=Michael's PC runs Linux.\n",
      "\n",
      " Negation of p is ~p : It is not the case that Michael's PC runs Linux.\n",
      "\n",
      " Negation of p is ~p : Michae's PC does not run.\n"
     ]
    }
   ],
   "source": [
    "print \"Propositon p=Michael's PC runs Linux.\"\n",
    "print \"\\n Negation of p is ~p : It is not the case that Michael's PC runs Linux.\"\n",
    "print \"\\n Negation of p is ~p : Michae's PC does not run.\"#Negation is opposite of the truth value of the proposition expressed with \"it is not the case that\" or with \"not\".\n"
   ]
  },
  {
   "cell_type": "markdown",
   "metadata": {},
   "source": [
    "# 01:THE FOUNDATIONS: LOGIC AND PROOFS"
   ]
  },
  {
   "cell_type": "markdown",
   "metadata": {},
   "source": [
    "##Example 04:Page 03"
   ]
  },
  {
   "cell_type": "code",
   "execution_count": 10,
   "metadata": {
    "collapsed": false
   },
   "outputs": [
    {
     "name": "stdout",
     "output_type": "stream",
     "text": [
      "Let p=Vandana's smartphone has at least 32GB of memory.\n",
      "The negation of p is ( ~p ) :It is not the case that Vandana's smartphone has at least 32GB of memory.\n",
      "Or in simple English ( ~p ): Vandana's smartphone does not have at least 32GB of memory.\n",
      "Or even more simple as ( ~p ): Vandana's smartphone has less than 32GB of memory.\n"
     ]
    }
   ],
   "source": [
    "print \"Let p=Vandana's smartphone has at least 32GB of memory.\"\n",
    "print \"The negation of p is ( ~p ) :It is not the case that Vandana's smartphone has at least 32GB of memory.\"\n",
    "print \"Or in simple English ( ~p ): Vandana's smartphone does not have at least 32GB of memory.\"\n",
    "print \"Or even more simple as ( ~p ): Vandana's smartphone has less than 32GB of memory.\"\n"
   ]
  },
  {
   "cell_type": "markdown",
   "metadata": {},
   "source": [
    "# 01:THE FOUNDATIONS: LOGIC AND PROOFS"
   ]
  },
  {
   "cell_type": "markdown",
   "metadata": {},
   "source": [
    "##Example 05:Page 04"
   ]
  },
  {
   "cell_type": "code",
   "execution_count": 11,
   "metadata": {
    "collapsed": false
   },
   "outputs": [
    {
     "name": "stdout",
     "output_type": "stream",
     "text": [
      "Let p,q be two propositions\n",
      "Let p= Rebecca's PC has more than 16GB free hard disk space \n",
      "Let q= The processor in Rebecca's PC runs faster than 1GHz\n",
      "Conjunction of p^q is : Rebecca's PC has more than 16GB free hard disk space and The processor in Rebecca's PC runs faster than 1GHz\n"
     ]
    }
   ],
   "source": [
    "p=\"Rebecca's PC has more than 16GB free hard disk space\"\n",
    "q=\"The processor in Rebecca's PC runs faster than 1GHz\"\n",
    "print \"Let p,q be two propositions\"\n",
    "print \"Let p=\",p,\"\\n\",\"Let q=\",q\n",
    "print \"Conjunction of p^q is : \"+p+\" and \"+q #conjunction combines two propositons with \"and\"\n"
   ]
  },
  {
   "cell_type": "markdown",
   "metadata": {},
   "source": [
    "# 01:THE FOUNDATIONS: LOGIC AND PROOFS"
   ]
  },
  {
   "cell_type": "markdown",
   "metadata": {},
   "source": [
    "##Example 06:Page 05"
   ]
  },
  {
   "cell_type": "code",
   "execution_count": 12,
   "metadata": {
    "collapsed": false
   },
   "outputs": [
    {
     "name": "stdout",
     "output_type": "stream",
     "text": [
      "Let p,q be two propositions\n",
      "Let p= Rebecca's PC has more than 16GB free hard disk space \n",
      "Let q= The processor in Rebecca's PC runs faster than 1GHz\n",
      "Disjunction of p\\/q is : Rebecca's PC has more than 16GB free hard disk space or The processor in Rebecca's PC runs faster than 1GHz\n"
     ]
    }
   ],
   "source": [
    "p=\"Rebecca's PC has more than 16GB free hard disk space\"\n",
    "q=\"The processor in Rebecca's PC runs faster than 1GHz\"\n",
    "print \"Let p,q be two propositions\"\n",
    "print \"Let p=\",p,\"\\n\",\"Let q=\",q\n",
    "print \"Disjunction of p\\/q is : \"+p+\" or \"+q #unavailability of cup symbol.  So \\/\n",
    "#Disjunction combines two propositons using OR \n",
    "\n"
   ]
  },
  {
   "cell_type": "markdown",
   "metadata": {},
   "source": [
    "# 01:THE FOUNDATIONS: LOGIC AND PROOFS"
   ]
  },
  {
   "cell_type": "markdown",
   "metadata": {},
   "source": [
    "##Example 07:Page 07"
   ]
  },
  {
   "cell_type": "code",
   "execution_count": 14,
   "metadata": {
    "collapsed": false
   },
   "outputs": [
    {
     "name": "stdout",
     "output_type": "stream",
     "text": [
      "Let p= Maria learns discrete mathematics \n",
      "Let q= Maria will find a good job\n",
      "p->q is : If Maria learns discrete mathematics then Maria will find a good job\n",
      "p->q is also expressed as : Maria will find a good job  when  Maria learns discrete mathematics\n"
     ]
    }
   ],
   "source": [
    "p=\"Maria learns discrete mathematics\"\n",
    "q=\"Maria will find a good job\"\n",
    "print\"Let p=\",p,\"\\n\",\"Let q=\",q\n",
    "print\"p->q is : \"+\"If \"+p+\" then \"+q #p->q p implies q means If P then Q.\n",
    "print\"p->q is also expressed as :\",q,\" when \",p\n"
   ]
  },
  {
   "cell_type": "markdown",
   "metadata": {
    "collapsed": true
   },
   "source": [
    "# 01:THE FOUNDATIONS: LOGIC AND PROOFS"
   ]
  },
  {
   "cell_type": "markdown",
   "metadata": {},
   "source": [
    "## Example 01:Page 37"
   ]
  },
  {
   "cell_type": "code",
   "execution_count": 15,
   "metadata": {
    "collapsed": false
   },
   "outputs": [
    {
     "name": "stdout",
     "output_type": "stream",
     "text": [
      "p( 4 ) which is the statement 4 >3, is true\n",
      "p( 2 ) which is the statement 2 >3, is false\n"
     ]
    }
   ],
   "source": [
    "def p(x): #Function defined to check whether the given statements are true.\n",
    "    if(x>3):\n",
    "        print \"p(\",x,\") which is the statement\",x,\">3, is true\"\n",
    "    else:\n",
    "        print \"p(\",x,\") which is the statement\",x,\">3, is false\"\n",
    "p(4)#Fuction call \n",
    "p(2)\n"
   ]
  },
  {
   "cell_type": "markdown",
   "metadata": {},
   "source": [
    "# 01:THE FOUNDATIONS: LOGIC AND PROOFS"
   ]
  },
  {
   "cell_type": "markdown",
   "metadata": {},
   "source": [
    "## Example 02:Page 38"
   ]
  },
  {
   "cell_type": "code",
   "execution_count": 17,
   "metadata": {
    "collapsed": false
   },
   "outputs": [
    {
     "name": "stdout",
     "output_type": "stream",
     "text": [
      "Systems under attack are CS1 and MATH1.  The truth values for the same are calculated using functions.\n",
      "A( CS1 ) is true.\n",
      "A( CS2 ) is false.\n",
      "A( MATH1 ) is true.\n"
     ]
    }
   ],
   "source": [
    "x1=\"CS1\" #Defining systems to check whether they are under attack through a function.\n",
    "x2=\"CS2\"\n",
    "x3=\"MATH1\"\n",
    "def A(x):\n",
    "    if(x==\"CS1\"):                #Since cs1 and Math1 are the two computers under attack\n",
    "        print \"A(\",x,\") is true.\"\n",
    "    else:\n",
    "        if(x==\"MATH1\"):         #Since CS1 and MATH1 are the two computers under attack\n",
    "            print \"A(\",x,\") is true.\"\n",
    "        else:\n",
    "           print\"A(\",x,\") is false.\"\n",
    "print \"Systems under attack are CS1 and MATH1.  The truth values for the same are calculated using functions.\"\n",
    "A(x1)#Function call \n",
    "A(x2)\n",
    "A(x3)\n"
   ]
  }
 ],
 "metadata": {
  "kernelspec": {
   "display_name": "Python 2",
   "language": "python",
   "name": "python2"
  },
  "language_info": {
   "codemirror_mode": {
    "name": "ipython",
    "version": 2
   },
   "file_extension": ".py",
   "mimetype": "text/x-python",
   "name": "python",
   "nbconvert_exporter": "python",
   "pygments_lexer": "ipython2",
   "version": "2.7.9"
  }
 },
 "nbformat": 4,
 "nbformat_minor": 0
}
