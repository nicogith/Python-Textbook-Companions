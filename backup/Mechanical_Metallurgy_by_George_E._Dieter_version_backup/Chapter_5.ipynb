{
 "cells": [
  {
   "cell_type": "markdown",
   "metadata": {},
   "source": [
    "# Chapter 5: Dislocation theory"
   ]
  },
  {
   "cell_type": "markdown",
   "metadata": {},
   "source": [
    "### Example 5.1, Forces Between Dislocations, Page No. 166"
   ]
  },
  {
   "cell_type": "code",
   "execution_count": 1,
   "metadata": {
    "collapsed": false
   },
   "outputs": [
    {
     "name": "stdout",
     "output_type": "stream",
     "text": [
      "The Total force on the dislocation is = 1.32629e-07 N\n"
     ]
    }
   ],
   "source": [
    "#variable declaration\n",
    "from math import pi\n",
    "G=40;\n",
    "G=G*10**9;          #conversion to N/m^2\n",
    "b=2.5;\n",
    "b=b*10**-10;          #conversion to m\n",
    "r=1200;\n",
    "r=r*10**-10;          #conversion to m\n",
    "l=0.04;\n",
    "l=l*10**-3;            #conversion to m\n",
    "\n",
    "#calculation\n",
    "F=G*b**2/(2*pi*r);\n",
    "Ft=F*l;\n",
    "\n",
    "#result\n",
    "print('The Total force on the dislocation is = %g N')%(Ft);"
   ]
  }
 ],
 "metadata": {
  "kernelspec": {
   "display_name": "Python 2",
   "language": "python",
   "name": "python2"
  },
  "language_info": {
   "codemirror_mode": {
    "name": "ipython",
    "version": 2
   },
   "file_extension": ".py",
   "mimetype": "text/x-python",
   "name": "python",
   "nbconvert_exporter": "python",
   "pygments_lexer": "ipython2",
   "version": "2.7.9"
  }
 },
 "nbformat": 4,
 "nbformat_minor": 0
}
