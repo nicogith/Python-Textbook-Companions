{
 "cells": [
  {
   "cell_type": "markdown",
   "metadata": {},
   "source": [
    "# Chapter 18: Extrusion"
   ]
  },
  {
   "cell_type": "markdown",
   "metadata": {},
   "source": [
    "### Example 18.1, Extrusion Process, Page No. 629"
   ]
  },
  {
   "cell_type": "code",
   "execution_count": 1,
   "metadata": {
    "collapsed": false
   },
   "outputs": [
    {
     "name": "stdout",
     "output_type": "stream",
     "text": [
      "\n",
      "Force required for the Operation = 3827.95 metric tons\n",
      "\n",
      "\n",
      "Note: Slight calculation errors in book\n"
     ]
    }
   ],
   "source": [
    "from math import log\n",
    "from math import radians\n",
    "from math import tan\n",
    "from math import sqrt\n",
    "from math import pi\n",
    "\n",
    "#variable declaration\n",
    "def cot(x):\n",
    "    return 1/tan(x);\n",
    "Db=6;\n",
    "Df=2;\n",
    "L=15;\n",
    "v=2;\n",
    "alpha=60;\n",
    "mu=0.1;\n",
    "\n",
    "#calculations\n",
    "R=Db**2/Df**2;\n",
    "e=6*v*log(R)/Db\n",
    "sigma=200*e**0.15;\n",
    "alpha=radians(alpha);\n",
    "B=mu*cot(alpha);\n",
    "p_d=sigma*((1+B)/B)*(1-R**B);\n",
    "p_d=abs(p_d);\n",
    "t_i=sigma/sqrt(3);\n",
    "p_e=p_d+4*t_i*L/Db;\n",
    "p_e=p_e*145.0377;                    #conversion to psi\n",
    "A=pi*Db**2/4;\n",
    "P=p_e*A;\n",
    "P=P*0.000453;                      #conversion to metric tons\n",
    "\n",
    "#result\n",
    "print('\\nForce required for the Operation = %g metric tons\\n\\n\\nNote: Slight calculation errors in book')%(P);"
   ]
  }
 ],
 "metadata": {
  "kernelspec": {
   "display_name": "Python 2",
   "language": "python",
   "name": "python2"
  },
  "language_info": {
   "codemirror_mode": {
    "name": "ipython",
    "version": 2
   },
   "file_extension": ".py",
   "mimetype": "text/x-python",
   "name": "python",
   "nbconvert_exporter": "python",
   "pygments_lexer": "ipython2",
   "version": "2.7.9"
  }
 },
 "nbformat": 4,
 "nbformat_minor": 0
}
