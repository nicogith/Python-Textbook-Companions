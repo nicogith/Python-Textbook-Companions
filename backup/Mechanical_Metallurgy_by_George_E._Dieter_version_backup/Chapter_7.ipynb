{
 "cells": [
  {
   "cell_type": "markdown",
   "metadata": {},
   "source": [
    "# Chapter 7: Fracture"
   ]
  },
  {
   "cell_type": "markdown",
   "metadata": {},
   "source": [
    "### Example 7.1, Cohesive Strength, Page No. 245"
   ]
  },
  {
   "cell_type": "code",
   "execution_count": 1,
   "metadata": {
    "collapsed": false
   },
   "outputs": [
    {
     "name": "stdout",
     "output_type": "stream",
     "text": [
      "Cohesive strength of a silica fiber = 24.367 GPa\n"
     ]
    }
   ],
   "source": [
    "from math import sqrt\n",
    "\n",
    "#variable declaration\n",
    "E=95;\n",
    "E=E*10**9;\n",
    "Ys=1000;\n",
    "Ys=Ys*10**-3;                 #conversion to J/m^2\n",
    "a0=1.6;\n",
    "a0=a0*10**-10;                   #conversion to m\n",
    "\n",
    "#calculation\n",
    "sigma_max=sqrt(E*Ys/a0)\n",
    "sigma_max=sigma_max*10**-9;\n",
    "\n",
    "#result\n",
    "print('Cohesive strength of a silica fiber = %g GPa')%(sigma_max);"
   ]
  },
  {
   "cell_type": "markdown",
   "metadata": {},
   "source": [
    "### Example 7.2, Fracture Stress, Page No. 246"
   ]
  },
  {
   "cell_type": "code",
   "execution_count": 2,
   "metadata": {
    "collapsed": false
   },
   "outputs": [
    {
     "name": "stdout",
     "output_type": "stream",
     "text": [
      "Fracture Stress = 100 MPa\n"
     ]
    }
   ],
   "source": [
    "from math import sqrt\n",
    "\n",
    "#variable declaration\n",
    "E=100;\n",
    "E=E*10**9;\n",
    "Ys=1;\n",
    "a0=2.5*10**-10;\n",
    "c=10**4*a0;\n",
    "\n",
    "#calculation\n",
    "sigma_f=sqrt(E*Ys/(4*c));\n",
    "sigma_f=sigma_f*10**-6;\n",
    "\n",
    "#result\n",
    "print('Fracture Stress = %g MPa')%(sigma_f);"
   ]
  }
 ],
 "metadata": {
  "kernelspec": {
   "display_name": "Python 2",
   "language": "python",
   "name": "python2"
  },
  "language_info": {
   "codemirror_mode": {
    "name": "ipython",
    "version": 2
   },
   "file_extension": ".py",
   "mimetype": "text/x-python",
   "name": "python",
   "nbconvert_exporter": "python",
   "pygments_lexer": "ipython2",
   "version": "2.7.9"
  }
 },
 "nbformat": 4,
 "nbformat_minor": 0
}
