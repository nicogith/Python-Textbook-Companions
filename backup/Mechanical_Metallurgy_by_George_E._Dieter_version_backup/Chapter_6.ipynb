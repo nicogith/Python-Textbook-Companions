{
 "cells": [
  {
   "cell_type": "markdown",
   "metadata": {},
   "source": [
    "# Chapter 6: Strengthening Mechanisms"
   ]
  },
  {
   "cell_type": "markdown",
   "metadata": {},
   "source": [
    "### Example 6.1, Grain Size Measurement, Page No. 193"
   ]
  },
  {
   "cell_type": "code",
   "execution_count": 1,
   "metadata": {
    "collapsed": false
   },
   "outputs": [
    {
     "name": "stdout",
     "output_type": "stream",
     "text": [
      "\n",
      "Yield Stress = 254.464 MPa\n"
     ]
    }
   ],
   "source": [
    "from math import sqrt\n",
    "\n",
    "#variable declaration\n",
    "sigma_i=150;\n",
    "k=0.7;\n",
    "n=6;\n",
    "\n",
    "#calculation\n",
    "N_x=2**(n-1);\n",
    "N=N_x/(0.01)**2;             #in grains/in^2\n",
    "N=N*10**6/25.4**2;             # in grains/m^2\n",
    "D=sqrt(1/N);\n",
    "sigma0=sigma_i+k/sqrt(D);\n",
    "\n",
    "#result\n",
    "print ('\\nYield Stress = %g MPa')%(sigma0);"
   ]
  },
  {
   "cell_type": "markdown",
   "metadata": {},
   "source": [
    "### Example 6.2, Strengthing Mechanism, Page No. 219"
   ]
  },
  {
   "cell_type": "code",
   "execution_count": 2,
   "metadata": {
    "collapsed": false
   },
   "outputs": [
    {
     "name": "stdout",
     "output_type": "stream",
     "text": [
      "\n",
      "Particle Spacing = 2.3e-08 m\n",
      "Particle Size = 7.35948e-10 m\n"
     ]
    }
   ],
   "source": [
    "#variable declaration\n",
    "sigma0=600;\n",
    "G=27.6;\n",
    "G=G*10**9           #conversion to Pa\n",
    "b=2.5*10**-8;\n",
    "b=b*10**-2;            #conversion to m\n",
    "T0=sigma0/2;\n",
    "T0=T0*10**6;             #conversion to Pa\n",
    "\n",
    "#calculation\n",
    "lambda1=G*b/T0;\n",
    "Cu_max=54;\n",
    "Cu_eq=4;\n",
    "Cu_min=0.5;\n",
    "rho_al=2.7;\n",
    "rho_theta=4.43;\n",
    "wt_a=(Cu_max-Cu_eq)/(Cu_max-Cu_min);\n",
    "wt_theta=(Cu_eq-Cu_min)/(Cu_max-Cu_min);\n",
    "V_a=wt_a/rho_al;\n",
    "V_theta=wt_theta/rho_theta;\n",
    "f=V_theta/(V_a+V_theta);\n",
    "r=(3*f*lambda1)/(4*(1-f));\n",
    "\n",
    "#result\n",
    "print('\\nParticle Spacing = %g m\\nParticle Size = %g m')%(lambda1,r);"
   ]
  },
  {
   "cell_type": "markdown",
   "metadata": {},
   "source": [
    "### Example 6.3, Fiber Strengthing, Page No. 222"
   ]
  },
  {
   "cell_type": "code",
   "execution_count": 3,
   "metadata": {
    "collapsed": false
   },
   "outputs": [
    {
     "name": "stdout",
     "output_type": "stream",
     "text": [
      "\n",
      "Ec for 10 vol% = 92 GPa\n",
      "\n",
      "\n",
      "Ec for 60 vol% = 252 GPa\n",
      "\n"
     ]
    }
   ],
   "source": [
    "#variable declaration\n",
    "Ef=380;\n",
    "Em=60;\n",
    "\n",
    "#calculation\n",
    "#Case 1\n",
    "f_f1=0.1;\n",
    "Ec1=Ef*f_f1+(1-f_f1)*Em;\n",
    "\n",
    "#Case 2\n",
    "f_f2=0.6;\n",
    "Ec2=Ef*f_f2+(1-f_f2)*Em;\n",
    "\n",
    "#result\n",
    "print('\\nEc for 10 vol%% = %g GPa\\n')%(Ec1);\n",
    "print('\\nEc for 60 vol%% = %g GPa\\n')%(Ec2);"
   ]
  },
  {
   "cell_type": "markdown",
   "metadata": {},
   "source": [
    "### Example 6.4, Load Transfer, Page No. 225"
   ]
  },
  {
   "cell_type": "code",
   "execution_count": 4,
   "metadata": {
    "collapsed": false
   },
   "outputs": [
    {
     "name": "stdout",
     "output_type": "stream",
     "text": [
      "\n",
      "sigma_cu = 2.55 GPa for L=100um\n",
      "\n",
      "sigma_cu = 0.596875 GPa for L=2mm\n"
     ]
    }
   ],
   "source": [
    "#variable declaration\n",
    "sigma_fu=5;\n",
    "sigma_fu=sigma_fu*10**9;         #Conversion to Pa\n",
    "sigma_m=100;\n",
    "sigma_m=sigma_m*10**6;        #Conversion to Pa\n",
    "T0=80;\n",
    "T0=T0*10**6;                   #Conversion to Pa\n",
    "f_f=0.5;\n",
    "d=100;\n",
    "d=d*10**-6;\n",
    "B=0.5;\n",
    "L1=10;\n",
    "L1=L1*10**2;                  #conversion to m\n",
    "Lc=sigma_fu*d/(2*T0);\n",
    "sigma_cu1=sigma_fu*f_f*(1-Lc/(2*L1))+sigma_m*(1-f_f);\n",
    "sigma_cu1=sigma_cu1*10**-9;\n",
    "print('\\nsigma_cu = %g GPa for L=100um\\n')%(sigma_cu1);\n",
    "\n",
    "L2=2;\n",
    "L2=L2*10**-3;          #conversion to m\n",
    "sigma_cu2=sigma_fu*f_f*(1-Lc/(2*L2))+sigma_m*(1-f_f);\n",
    "sigma_cu2=sigma_cu2*10**-9;\n",
    "print('sigma_cu = %g GPa for L=2mm')%(sigma_cu2);"
   ]
  }
 ],
 "metadata": {
  "kernelspec": {
   "display_name": "Python 2",
   "language": "python",
   "name": "python2"
  },
  "language_info": {
   "codemirror_mode": {
    "name": "ipython",
    "version": 2
   },
   "file_extension": ".py",
   "mimetype": "text/x-python",
   "name": "python",
   "nbconvert_exporter": "python",
   "pygments_lexer": "ipython2",
   "version": "2.7.9"
  }
 },
 "nbformat": 4,
 "nbformat_minor": 0
}
