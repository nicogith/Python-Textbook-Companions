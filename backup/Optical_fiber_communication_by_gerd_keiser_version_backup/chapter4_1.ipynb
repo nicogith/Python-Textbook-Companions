{
 "metadata": {
  "name": "",
  "signature": "sha256:5598be9aef1350639437f4862626120c2629ec5b43239811079d2ec95f6c2031"
 },
 "nbformat": 3,
 "nbformat_minor": 0,
 "worksheets": [
  {
   "cells": [
    {
     "cell_type": "heading",
     "level": 1,
     "metadata": {},
     "source": [
      "Chapter 4: Optical Sources"
     ]
    },
    {
     "cell_type": "heading",
     "level": 2,
     "metadata": {},
     "source": [
      "Example 4.1, Page Number: 136"
     ]
    },
    {
     "cell_type": "code",
     "collapsed": false,
     "input": [
      "import math\n",
      "\n",
      "#variable declaration\n",
      "m = 9.11*1e-31                          #Electron rest mass (kg)\n",
      "me = 6.19*10**-32                       #Effective electron mass = 0.068m (kg)\n",
      "mh = 5.10*10**-31                       #Effective hole mass = 0.56m (kg) \n",
      "Eg = 1.42*1.60218*1e-19                 #bandgap energy (volts)\n",
      "kB = 1.38054*1e-23                      #Boltzman's constant\n",
      "T = 300                                 #room temperature (kelvin)\n",
      "h = 6.6256*1e-34                        #Planck's constant\n",
      "\n",
      "#calculation\n",
      "K = 2.0*((2.0*math.pi*kB*T/(h**2.0))**(1.5))*((me*mh)**(0.75))             #characteristic constant of material\n",
      "ni = K*(math.exp(-Eg/(2.0*kB*T)))                                          #intrinsic carrier concentration(1/m^3)\n",
      "\n",
      "#result\n",
      "print \"Instrinsic carrier concentration = \",round(ni*10**-12+0.07,2)*1e12,\"1/m^3\",\"=\",round(ni*10**-12+0.07,2)*10**6 ,\"1/cm^3\""
     ],
     "language": "python",
     "metadata": {},
     "outputs": [
      {
       "output_type": "stream",
       "stream": "stdout",
       "text": [
        "Instrinsic carrier concentration =  2.62e+12 1/m^3 = 2620000.0 1/cm^3\n"
       ]
      }
     ],
     "prompt_number": 1
    },
    {
     "cell_type": "heading",
     "level": 2,
     "metadata": {},
     "source": [
      "Example 4.3, Page Number: 146"
     ]
    },
    {
     "cell_type": "code",
     "collapsed": false,
     "input": [
      "import math\n",
      "\n",
      "#variable declaration\n",
      "x = 0.07                                  #compositional parameter of GaAlAs\n",
      "\n",
      "#calculation\n",
      "Eg = 1.424+1.266*x+0.266*x**2             #energy gap(eV)\n",
      "Lam_bda = 1.240/Eg                        #peak emission wavelength(um) \n",
      "\n",
      "#result\n",
      "print \"Bandgap energy Eg = \" ,round(Eg,2),\"eV\" \n",
      "print \"Peak emission Wavelength lam_bda  = \" ,round(Lam_bda,2),\"um\""
     ],
     "language": "python",
     "metadata": {},
     "outputs": [
      {
       "output_type": "stream",
       "stream": "stdout",
       "text": [
        "Bandgap energy Eg =  1.51 eV\n",
        "Peak emission Wavelength lam_bda  =  0.82 um\n"
       ]
      }
     ],
     "prompt_number": 45
    },
    {
     "cell_type": "heading",
     "level": 2,
     "metadata": {},
     "source": [
      "Example 4.4, Page Number: 146"
     ]
    },
    {
     "cell_type": "code",
     "collapsed": false,
     "input": [
      "import math\n",
      "\n",
      "#variable declaration\n",
      "y = 0.57                                  #compositional parameter of InGaAsP\n",
      "\n",
      "#calculation\n",
      "Eg = 1.35-0.72*y+0.12*(y**2)              #energy gap(eV)\n",
      "Lam_bda = 1.240/Eg                        #peak emission wavelength(um) \n",
      "\n",
      "#result\n",
      "print \"Bandgap energy Eg = \" ,round(Eg,2),\"eV\" \n",
      "print \"Peak emission wavelength Lam_bda  = \" ,round(Lam_bda,2),\"um\""
     ],
     "language": "python",
     "metadata": {},
     "outputs": [
      {
       "output_type": "stream",
       "stream": "stdout",
       "text": [
        "Bandgap energy Eg =  0.98 eV\n",
        "Peak emission wavelength Lam_bda  =  1.27 um\n"
       ]
      }
     ],
     "prompt_number": 46
    },
    {
     "cell_type": "heading",
     "level": 2,
     "metadata": {},
     "source": [
      "Example 4.5, Page Number: 149"
     ]
    },
    {
     "cell_type": "code",
     "collapsed": false,
     "input": [
      "import math\n",
      "\n",
      "#variable declaration\n",
      "tuo_r = 30.0                              #radiative re-combination (ns)\n",
      "tuo_nr =100.0                             #non-radiative re-combination (ns)\n",
      "h = 6.6256*1e-34                          #Plank's constant (J.s)\n",
      "C = 3.0*1e8                               #free space velocity (m/sec)\n",
      "q = 1.602*1e-19                           #electron charge (coulombs)\n",
      "I = 0.040                                 #drive current (Amps)\n",
      "Lam_bda = 1.31*1e-6                       #peak wavelength of InGaAsP LED\n",
      "\n",
      "#calculation\n",
      "tuo_ = (tuo_r*tuo_nr)/(tuo_r+tuo_nr)            #bulk recombination time(ns)\n",
      "Etta_internal = tuo_/tuo_r                      #internal quantum efficiency\n",
      "Pinternal = Etta_internal*h*C*I/(q*Lam_bda)     #internal power level(mW)\n",
      "\n",
      "#result\n",
      "print \"Bulk recombination time = \" ,round(tuo_,1),\"ns\"\n",
      "print \"Internal quantum efficiency Etta_internal = \", round(Etta_internal,2)\n",
      "print \"Internal power level = \" , round(Pinternal*1000,1), \"mW\"\n"
     ],
     "language": "python",
     "metadata": {},
     "outputs": [
      {
       "output_type": "stream",
       "stream": "stdout",
       "text": [
        "Bulk recombination time =  23.1 ns\n",
        "Internal quantum efficiency Etta_internal =  0.77\n",
        "Internal power level =  29.1 mW\n"
       ]
      }
     ],
     "prompt_number": 47
    },
    {
     "cell_type": "heading",
     "level": 2,
     "metadata": {},
     "source": [
      "Example 4.6, Page Number: 151"
     ]
    },
    {
     "cell_type": "code",
     "collapsed": false,
     "input": [
      "import math\n",
      "\n",
      "#variable declaration\n",
      "n = 3.5                                     #refractive index of an LED\n",
      "\n",
      "#calculation\n",
      "Etta_External = 1/(n*(n+1)**2)              #external quantum efficiency\n",
      "\n",
      "#result\n",
      "print \"External quantum efficiency = \",round(Etta_External*100,2), \"%\""
     ],
     "language": "python",
     "metadata": {},
     "outputs": [
      {
       "output_type": "stream",
       "stream": "stdout",
       "text": [
        "External quantum efficiency =  1.41 %\n"
       ]
      }
     ],
     "prompt_number": 49
    },
    {
     "cell_type": "heading",
     "level": 2,
     "metadata": {},
     "source": [
      "Example 4.7, Page Number: 157"
     ]
    },
    {
     "cell_type": "code",
     "collapsed": false,
     "input": [
      "import math\n",
      "\n",
      "#variable declaration\n",
      "L = 500*1e-6                                 #Laser diode length (meters)\n",
      "R1 = 0.32                                    #reflection co-efficient value of one end \n",
      "R2 = 0.32                                    #reflection co-efficient value of another end \n",
      "alpha_bar =10*100                            #absorption co-efficient(1/cm)\n",
      "\n",
      "#calculation\n",
      "alpha_end = (1/(2*L))*(math.log(1/(R1*R2)))   #mirrorloss in the lasing cavity\n",
      "alpha_threshold = alpha_bar+alpha_end         #the lasing threshold(1/cm)\n",
      "\n",
      "\n",
      "#result\n",
      "print \"The lasing threshold gain = \" , round(alpha_threshold/100),\"1/cm\""
     ],
     "language": "python",
     "metadata": {},
     "outputs": [
      {
       "output_type": "stream",
       "stream": "stdout",
       "text": [
        "The lasing threshold gain =  33.0 1/cm\n"
       ]
      }
     ],
     "prompt_number": 72
    },
    {
     "cell_type": "heading",
     "level": 2,
     "metadata": {},
     "source": [
      "Example 4.8, Page Number: 161"
     ]
    },
    {
     "cell_type": "code",
     "collapsed": false,
     "input": [
      "import math\n",
      "\n",
      "#variable declaration\n",
      "Lam_bda = 850*1e-9                              #Emission wavelength of LASER diode(nm)\n",
      "n = 3.7                                         #refractive index of LASER diode\n",
      "L = 500.0*1e-6                                  #length of LASER diode(um)\n",
      "C = 3*1e8                                       #velocity of Light in free space(m/s)\n",
      "Half_power = 2*1e-9                             #half power point 3 (nm)\n",
      "\n",
      "#calculation\n",
      "delta_frequency = C/((2*L)*n)                            #frequency spacing(GHz)\n",
      "delta_Lamda = (Lam_bda**2)/((2*L)*n)                     #wavelength spacing(nm)\n",
      "sigma = math.sqrt(-(Half_power**2)/(2*math.log(0.5)))    #spectral width of gain(nm)\n",
      "\n",
      "#result\n",
      "print \"Freqency spacing  = \"  ,round(delta_frequency/1e9),\"GHz\"\n",
      "print \"Wavelegth spacing  = \" , round(delta_Lamda/1e-9,2),\"nm\"\n",
      "print \"Spectral width of gain = \" , round(sigma/1e-9,2),\"nm\""
     ],
     "language": "python",
     "metadata": {},
     "outputs": [
      {
       "output_type": "stream",
       "stream": "stdout",
       "text": [
        "Freqency spacing  =  81.0 GHz\n",
        "Wavelegth spacing  =  0.2 nm\n",
        "Spectral width of gain =  1.7 nm\n"
       ]
      }
     ],
     "prompt_number": 74
    },
    {
     "cell_type": "heading",
     "level": 2,
     "metadata": {},
     "source": [
      "Example 4.9, Page Number: 161"
     ]
    },
    {
     "cell_type": "code",
     "collapsed": false,
     "input": [
      "import math\n",
      "\n",
      "#variable declaration\n",
      "Lam_bda = 900*10e-9                         # wavelength of light emitted by laser diode(nm)\n",
      "L = 300*10e-6                               #length of laser chip(um)\n",
      "n = 4.3                                     #refractive index of the laser material\n",
      "\n",
      "#calculation\n",
      "m = 2*L*n/Lam_bda                             #number of half-wavelengths\n",
      "delta_Lambda = (Lam_bda**2)/(2*L*n)           #wavelength spacing(nm)\n",
      "\n",
      "#result\n",
      "print \"Number of half-wavelength spanning the region betwen mirror = \" , round(m)\n",
      "print \"Wavelength spacing between lasing modes = \" , round(delta_Lambda*1e8,1),\"nm\"\n"
     ],
     "language": "python",
     "metadata": {},
     "outputs": [
      {
       "output_type": "stream",
       "stream": "stdout",
       "text": [
        "Number of half-wavelength spanning the region betwen mirror =  2867.0\n",
        "Wavelength spacing between lasing modes =  0.3 nm\n"
       ]
      }
     ],
     "prompt_number": 3
    }
   ],
   "metadata": {}
  }
 ]
}