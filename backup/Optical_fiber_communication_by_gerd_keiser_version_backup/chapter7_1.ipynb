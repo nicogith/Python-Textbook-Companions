{
 "metadata": {
  "name": "",
  "signature": "sha256:52945d2ecbd107493bfdff515b21007d6d8bd600f51e01015bc9fd9a03be50eb"
 },
 "nbformat": 3,
 "nbformat_minor": 0,
 "worksheets": [
  {
   "cells": [
    {
     "cell_type": "heading",
     "level": 1,
     "metadata": {},
     "source": [
      "Chapter 7: Optical receiver operation"
     ]
    },
    {
     "cell_type": "heading",
     "level": 2,
     "metadata": {},
     "source": [
      "Example 7.1, Page Number: 258"
     ]
    },
    {
     "cell_type": "code",
     "collapsed": false,
     "input": [
      "import math\n",
      "\n",
      "#variable declaration\n",
      "bon = 1.0                                            #signal on level\n",
      "boff = 0.0                                           #signal off level\n",
      "sigma_on = 1.0                                       #variance sigma-on level\n",
      "sigma_off = 1.0                                      #variance sigma-on level\n",
      "\n",
      "#calculation\n",
      "Q = (bon - boff)/(sigma_on + sigma_off)              #parameter value\n",
      "Vth = bon-Q*sigma_on                                 #optimum decision threshold\n",
      "\n",
      "#result\n",
      "print \"Q parameter value = \" ,Q\n",
      "print \"Optimum decision threshold Vth = \",Vth"
     ],
     "language": "python",
     "metadata": {},
     "outputs": [
      {
       "output_type": "stream",
       "stream": "stdout",
       "text": [
        "Q parameter value =  0.5\n",
        "Optimum decision threshold Vth =  0.5\n"
       ]
      }
     ],
     "prompt_number": 69
    },
    {
     "cell_type": "heading",
     "level": 2,
     "metadata": {},
     "source": [
      "Example 7.2, Page Number: 258"
     ]
    },
    {
     "cell_type": "code",
     "collapsed": false,
     "input": [
      "import math\n",
      "import matplotlib.pyplot as plt\n",
      "import numpy as np\n",
      "import scipy as sp\n",
      "from scipy import special\n",
      "\n",
      "%matplotlib inline\n",
      "\n",
      "#variable declaration\n",
      "Q = 6.0                                              #parameter value from figure\n",
      "\n",
      "#calculation\n",
      "Pe = (1.0/2.0)*(1-math.erf(Q/math.sqrt(2.0)))        #probability of error \n",
      "S_N_dB = 10*math.log10(2*Q)                          #signal to naoise ratio (dB)\n",
      "\n",
      "#result\n",
      "print \"Probability of error = \" ,round(Pe,10)\n",
      "print \"Signal to naoise ratio =\",round(S_N_dB,1),\"dB\"\n",
      "\n",
      "#plot\n",
      "q1=arange(0.0, 8.0, 0.5)\n",
      "Pe1 = (1.0/2.0)*(1-sp.special.erf(q1/sqrt(2.0))) \n",
      "plot(-q1+8,-Pe1)\n",
      "ylabel('BER (Pe)')\n",
      "xlabel('factor Q')\n",
      "title('Plot of BER (Pe) versus the factor Q')\n",
      "text(6,-0.3,'Q=5.99 for')\n",
      "text(6,-0.35,' Pe=10^-9')    "
     ],
     "language": "python",
     "metadata": {},
     "outputs": [
      {
       "output_type": "stream",
       "stream": "stdout",
       "text": [
        "Probability of error =  1e-09\n",
        "Signal to naoise ratio = 10.8 dB\n"
       ]
      },
      {
       "metadata": {},
       "output_type": "pyout",
       "prompt_number": 4,
       "text": [
        "<matplotlib.text.Text at 0xa73bd30>"
       ]
      },
      {
       "metadata": {},
       "output_type": "display_data",
       "png": "[encoded data removed]",
       "text": [
        "<matplotlib.figure.Figure at 0xa4e30b8>"
       ]
      }
     ],
     "prompt_number": 4
    },
    {
     "cell_type": "heading",
     "level": 2,
     "metadata": {},
     "source": [
      "Example 7.3, Page Number: 259"
     ]
    },
    {
     "cell_type": "heading",
     "level": 3,
     "metadata": {},
     "source": [
      "Example 7.3(a)"
     ]
    },
    {
     "cell_type": "code",
     "collapsed": false,
     "input": [
      "import math\n",
      "\n",
      "#variable declaration\n",
      "s_n=8.5                            #signal-to-noise ratio\n",
      "s_n_db=18.6                        #signal-to-noise ratio (dB)\n",
      "tele_rate=1.544                    #telephone rate\n",
      "v_by_sig=12.0                      #peak signal-to-rms-noise ratio\n",
      "v_by_sig_db=21.6                   #peak signal-to-rms-noise ratio(dB)\n",
      "\n",
      "#calculation\n",
      "Pe1=(1.0/math.sqrt(2.0*math.pi))*(math.exp(-((s_n**2.0)/8.0))/(s_n/2.0))    #Probability of error 1    \n",
      "q=v_by_sig/2                                                                #parameter value\n",
      "ber=(1.0/2.0)*(1.0-math.erf(q/math.sqrt(2.0)))                              #bit error rate or Probability of error 2\n",
      "\n",
      "#result\n",
      "print \"Probability of error for signal-to-noise ratio 8.5 = \", round(Pe1,5)\n",
      "print \"Probability of error for peak signal-to-rms-noise ratio 12.0 = \", round(ber,10)\n"
     ],
     "language": "python",
     "metadata": {},
     "outputs": [
      {
       "output_type": "stream",
       "stream": "stdout",
       "text": [
        "Probability of error for signal-to-noise ratio 8.5 =  1e-05\n",
        "Probability of error for peak signal-to-rms-noise ratio 12.0 =  1e-09\n"
       ]
      }
     ],
     "prompt_number": 71
    },
    {
     "cell_type": "heading",
     "level": 3,
     "metadata": {},
     "source": [
      "Example 7.3(b)"
     ]
    },
    {
     "cell_type": "code",
     "collapsed": false,
     "input": [
      "import math\n",
      "\n",
      "#variable declaration\n",
      "v_by_sig=13.0                      #peak signal-to-rms-noise ratio for SONET\n",
      "v_by_sig_db=22.3                   #peak signal-to-rms-noise ratio(dB) for SONET\n",
      "\n",
      "#calculation\n",
      "q=v_by_sig /2                                       #parameter value\n",
      "ber=(1.0/(2.0*4.0))*(1.0-math.erf(q/math.sqrt(2.0)))      #bit error rate or Probability of error \n",
      "\n",
      "#result\n",
      "print \"Probability of error for peak signal-to-rms-noise ratio 13.0 = \", round(ber,11), \"OR\",round(ber/10,12)"
     ],
     "language": "python",
     "metadata": {},
     "outputs": [
      {
       "output_type": "stream",
       "stream": "stdout",
       "text": [
        "Probability of error for peak signal-to-rms-noise ratio 13.0 =  1e-11 OR 1e-12\n"
       ]
      }
     ],
     "prompt_number": 4
    },
    {
     "cell_type": "heading",
     "level": 2,
     "metadata": {},
     "source": [
      "Example 7.4, Page Number: 262"
     ]
    },
    {
     "cell_type": "code",
     "collapsed": false,
     "input": [
      "import math\n",
      "\n",
      "#variable declaration\n",
      "h = 6.625*10**-34                   #planks constant(J*s)\n",
      "C = 3*10**8                         #freespace velocity(m/s)\n",
      "B = 10**6                           #data rate(Mb/s)\n",
      "Lambda = 850*10**-9                 #Wavelength (m)\n",
      "\n",
      "#calculation\n",
      "tuo = 2.0/B\n",
      "E = 20.7*h*C/Lambda                     #Energy of incident photon\n",
      "Pi = E/tuo                              #Minimum incident optical power(W)\n",
      "Pi_db = 10.0*(math.log10(Pi))-(-40)     #optical power level with reference 1mW = -40dBm\n",
      "\n",
      "#result\n",
      "print \"Minimum incident optical power = \",round(Pi*10**13,2),\"pW\"\n",
      "print \"Optical power level with reference 1mW = \",round(Pi_db,1),\"dBm\""
     ],
     "language": "python",
     "metadata": {},
     "outputs": [
      {
       "output_type": "stream",
       "stream": "stdout",
       "text": [
        "Minimum incident optical power =  24.2 pW\n",
        "Optical power level with reference 1mW =  -76.2 dBm\n"
       ]
      }
     ],
     "prompt_number": 75
    }
   ],
   "metadata": {}
  }
 ]
}