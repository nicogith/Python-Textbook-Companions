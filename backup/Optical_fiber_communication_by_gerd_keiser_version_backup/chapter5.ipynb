{
 "metadata": {
  "name": "",
  "signature": "sha256:36c911cea36773d62dbfdfd257319508866d11b39912270afd0ba3c55a7245e6"
 },
 "nbformat": 3,
 "nbformat_minor": 0,
 "worksheets": [
  {
   "cells": [
    {
     "cell_type": "heading",
     "level": 1,
     "metadata": {},
     "source": [
      "Chepter 5: Power launching and coupling"
     ]
    },
    {
     "cell_type": "heading",
     "level": 2,
     "metadata": {},
     "source": [
      "Example 5.1, Page Number: 192"
     ]
    },
    {
     "cell_type": "code",
     "collapsed": false,
     "input": [
      "import math\n",
      "\n",
      "#variable declartion\n",
      "phi = 0                                        #lateral coordinate(degree)\n",
      "Half_power = 10                                #half power beam width(degree)\n",
      "\n",
      "#calculation\n",
      "teta = Half_power/2\n",
      "teta_rad = teta/57.3\n",
      "L = math.log(0.5)/math.log(math.cos(teta_rad))      #power distribution co-efficient\n",
      "\n",
      "#result\n",
      "print \"Power distribution co-efficient L = \" ,round(L)"
     ],
     "language": "python",
     "metadata": {},
     "outputs": [
      {
       "output_type": "stream",
       "stream": "stdout",
       "text": [
        "Power distribution co-efficient L =  182.0\n"
       ]
      }
     ],
     "prompt_number": 14
    },
    {
     "cell_type": "heading",
     "level": 2,
     "metadata": {},
     "source": [
      "Example 5.2, Page Number: 194"
     ]
    },
    {
     "cell_type": "code",
     "collapsed": false,
     "input": [
      "import math\n",
      "\n",
      "#variable declartion\n",
      "rs = 35.0*1e-6                                        #the source radius (meter)\n",
      "a = 25.0*1e-6                                         #the core radius of stepindex fiber (meter)\n",
      "NA = 0.20                                             #the numerical aperture value\n",
      "Bo = 150.0*1e4                                        #radiance ( W/cm^2 * sr)\n",
      "\n",
      "#calculation\n",
      "Ps = ((math.pi**2)*(rs**2))*Bo                        #power emitted by the source\n",
      "PLED_step = Ps*(NA**2)                                #for larger core fiber(W)\n",
      "PLED_step1 = (((a/rs)**2)*Ps)*(NA**2)                 #for smaller core fiber at the end face(W)\n",
      "\n",
      "#result\n",
      "print \"For larger core fiber optical power emitted from the LED light source = \" , round(PLED_step*1e3,3),\"mW\"\n",
      "print \"For smaller core fiber then area optical power coupled to step index fiber on W = \" , round(PLED_step1*1e3,3),\"mW\""
     ],
     "language": "python",
     "metadata": {},
     "outputs": [
      {
       "output_type": "stream",
       "stream": "stdout",
       "text": [
        "For larger core fiber optical power emitted from the LED light source =  0.725 mW\n",
        "For smaller core fiber then area optical power coupled to step index fiber on W =  0.37 mW\n"
       ]
      }
     ],
     "prompt_number": 1
    },
    {
     "cell_type": "heading",
     "level": 2,
     "metadata": {},
     "source": [
      "Example 5.3, Page Number: 194"
     ]
    },
    {
     "cell_type": "code",
     "collapsed": false,
     "input": [
      "import math\n",
      "\n",
      "#variable declartion\n",
      "n1 = 3.6                                                #refractive index of optical source\n",
      "n = 1.48                                                #refractive index of silica fiber\n",
      "\n",
      "#calculation\n",
      "R = ((n1-n)/(n1+n))**2                                  #fresnel reflection\n",
      "L = -10*(math.log10(1-R))                               #power loss(dB)\n",
      "\n",
      "#result\n",
      "print\"Fresnel reflection = \",round(R,3),\" = \",round(R*100,1),\"%\"\n",
      "print\"Power loss = \" , round(L,2),\"dB\""
     ],
     "language": "python",
     "metadata": {},
     "outputs": [
      {
       "output_type": "stream",
       "stream": "stdout",
       "text": [
        "Fresnel reflection =  0.174  =  17.4 %\n",
        "Power loss =  0.83 dB\n"
       ]
      }
     ],
     "prompt_number": 16
    },
    {
     "cell_type": "heading",
     "level": 2,
     "metadata": {},
     "source": [
      "Example 5.4, Page Number: 205"
     ]
    },
    {
     "cell_type": "code",
     "collapsed": false,
     "input": [
      "import math\n",
      "\n",
      "#variable declartion\n",
      "a =1*1e-6                                #core radii (meters)\n",
      "d = 0.3*a                                #axial offset\n",
      "\n",
      "#calculation\n",
      "PT_P = (2/math.pi)*(math.acos(d/(2*a))-(1-(d/(2*a))**2)**0.5*(d/(6*a))*(5-0.5*(d/a)**2))  \n",
      "PT_P_dB = 10*(math.log10(PT_P))                                #power coupled between two fibers(dB)\n",
      "\n",
      "#result\n",
      "print \"Power coupled between two graded index fibers = \" , round(PT_P_dB,2),\"dB\""
     ],
     "language": "python",
     "metadata": {},
     "outputs": [
      {
       "output_type": "stream",
       "stream": "stdout",
       "text": [
        "Power coupled between two graded index fibers =  -1.26 dB\n"
       ]
      }
     ],
     "prompt_number": 17
    },
    {
     "cell_type": "heading",
     "level": 2,
     "metadata": {},
     "source": [
      "Example 5.5, Page Number: 211"
     ]
    },
    {
     "cell_type": "code",
     "collapsed": false,
     "input": [
      "import math\n",
      "\n",
      "#variable declartion\n",
      "V = 2.4                                   #normalized frequency\n",
      "n1 = 1.47                                 #core refractive index\n",
      "n2 = 1.465                                #cladding refractive index\n",
      "a = (9.0/2.0)*10**-6                      #core radii (meters)\n",
      "d = 1*10**-6                              #lateral offset (meters)\n",
      "\n",
      "#calculation\n",
      "W = a*(0.65+1.619*V**(-1.5)+2.879*V**-6)            #mode field diameter (um)\n",
      "Lsm = -10*(math.log10(math.exp(-(d/W)**2)))         #Loss between identical fibers(dB)\n",
      "\n",
      "#result\n",
      "print \"Mode field diameter = \" , round(W*1e6,2),\"um\"\n",
      "print \"Loss between single mode fibers due to lateral misalignment = \" , round(Lsm,2),\"dB\""
     ],
     "language": "python",
     "metadata": {},
     "outputs": [
      {
       "output_type": "stream",
       "stream": "stdout",
       "text": [
        "Mode field diameter =  4.95 um\n",
        "Loss between single mode fibers due to lateral misalignment =  0.18 dB\n"
       ]
      }
     ],
     "prompt_number": 2
    },
    {
     "cell_type": "heading",
     "level": 2,
     "metadata": {},
     "source": [
      "Example 5.6, Page Number: 212"
     ]
    },
    {
     "cell_type": "code",
     "collapsed": false,
     "input": [
      "import math\n",
      "\n",
      "#variable declartion\n",
      "V = 2.4                                       #normalized frequency\n",
      "n1 = 1.47                                     #core refractive index\n",
      "n2 = 1.465                                    #cladding refractive index\n",
      "a = (9.0/2.0)*1e-6                            #coreradii in meters\n",
      "d = 1*1e-6                                    #lateral offset (m)\n",
      "teta = 1                                      #in (degrees)\n",
      "teta = 1/57.3                                 #in (radaians)                  \n",
      "\n",
      "#calculation\n",
      "W = a*(0.65+1.619*V**(-1.5)+2.879*V**-6)                                  #mode field diameter\n",
      "Lam_bda = 1300.0*10**-9                                                   #wavelength (m)\n",
      "Lsm_ang = -10*(math.log10(math.exp(-(math.pi*n2*W*teta/Lam_bda)**2)))     #(dB)\n",
      "\n",
      "#result\n",
      "print \"Loss between single mode fibers due to angular misalignment = \",round(Lsm_ang,2),\"dB\""
     ],
     "language": "python",
     "metadata": {},
     "outputs": [
      {
       "output_type": "stream",
       "stream": "stdout",
       "text": [
        "Loss between single mode fibers due to angular misalignment =  0.41 dB\n"
       ]
      }
     ],
     "prompt_number": 3
    }
   ],
   "metadata": {}
  }
 ]
}