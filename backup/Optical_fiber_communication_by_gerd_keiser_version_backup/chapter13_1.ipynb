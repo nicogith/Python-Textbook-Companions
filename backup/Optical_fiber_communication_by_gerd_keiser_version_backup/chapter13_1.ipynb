{
 "metadata": {
  "name": "",
  "signature": "sha256:a2081322aeeec1f784d913a531d652947d3374639d5b34917181cf0739e34394"
 },
 "nbformat": 3,
 "nbformat_minor": 0,
 "worksheets": [
  {
   "cells": [
    {
     "cell_type": "heading",
     "level": 1,
     "metadata": {},
     "source": [
      "Chapter 13: Optical networks"
     ]
    },
    {
     "cell_type": "heading",
     "level": 2,
     "metadata": {},
     "source": [
      "Example 13.1, Page Number: 464"
     ]
    },
    {
     "cell_type": "code",
     "collapsed": false,
     "input": [
      "import math\n",
      "import numpy as np\n",
      "\n",
      "#variable declaration\n",
      "N=np.array([5,10,50])                      #number of station\n",
      "alpha = 0.4                                #attanuation (dB/km)\n",
      "L_tap = 10                                 #coupling loss (dB)\n",
      "L_thru = 0.9                               #coupler throughput(dB)\n",
      "Li = 0.5                                   #intrinsic coupler loss(dB)\n",
      "Lc = 1.0                                   #coupler to fiber loss(dB)\n",
      "L = 0.5                                    #link length(km)\n",
      "\n",
      "#calculation\n",
      "fiber_Loss = alpha *L                                                   #fiber loss(dB)\n",
      "Pbudget = N*(alpha*L+2*Lc+Li+ L_thru)-alpha*L-2*L_thru +2* L_tap        #power budget(dB)\n",
      "\n",
      "#result\n",
      "print \"Fiber loss at 500m =\",fiber_Loss,\"dB\"\n",
      "print \"Power budget of three stations 5, 10, 50 respectively = \",Pbudget[0],\"dB\",Pbudget[1],\"dB\",Pbudget[2],\"dB\" "
     ],
     "language": "python",
     "metadata": {},
     "outputs": [
      {
       "output_type": "stream",
       "stream": "stdout",
       "text": [
        "Fiber loss at 500m = 0.2 dB\n",
        "Power budget of three stations 5, 10, 50 respectively =  36.0 dB 54.0 dB 198.0 dB\n"
       ]
      }
     ],
     "prompt_number": 1
    },
    {
     "cell_type": "heading",
     "level": 2,
     "metadata": {},
     "source": [
      "Example 13.2, Page Number: 465"
     ]
    },
    {
     "cell_type": "code",
     "collapsed": false,
     "input": [
      "import math\n",
      "import matplotlib.pyplot as plt\n",
      "import numpy as np\n",
      "import scipy as sp\n",
      "from scipy import special\n",
      "\n",
      "%matplotlib inline\n",
      "\n",
      "#variable declaration\n",
      "alpha = 0.4                                #attanuation (dB/km)\n",
      "L_tap = 10                                 #coupling loss (dB)\n",
      "L_thru = 0.9                               #coupler throughput(dB)\n",
      "Li = 0.5                                   #intrinsic coupler loss(dB)\n",
      "Lc = 1.0                                   #coupler to fiber loss(dB)\n",
      "L = 0.5                                    #link length(km)\n",
      "Pbudget_LED = 38                           #power loss of LED\n",
      "Pbudget_LASER = 51                         #power loss of LASER\n",
      "\n",
      "#calculation\n",
      "N_LED = (Pbudget_LED + alpha*L-2*L_thru-2*L_tap)/(alpha*L+2*Lc+Li+L_thru)\n",
      "N_LASER = (Pbudget_LASER + alpha*L-2*L_thru-2*L_tap)/(alpha*L+2*Lc+Li+L_thru)\n",
      "\n",
      "#result\n",
      "print \"Number of stations allowed for given loss of 38 dB with LED source =\",round(N_LED,0)\n",
      "print \"Number of stations allowed for given loss of 51 dB with LASER source =\",round(N_LASER,0)\n",
      "\n",
      "#plot\n",
      "x1=arange(0.0, 50.0, 10.0)\n",
      "Pbudget1 = x1*(alpha*L+2*Lc+Li+ L_thru)-alpha*L-2*L_thru +2* L_tap\n",
      "plot(x1,Pbudget1)\n",
      "title('Plot of total power loss as a function of number attached station for linear bus')\n",
      "ylabel('Power loss between station 1 and N(dB)')\n",
      "xlabel('Number of stations')\n",
      "text(30,120,'Linear bus')"
     ],
     "language": "python",
     "metadata": {},
     "outputs": [
      {
       "output_type": "stream",
       "stream": "stdout",
       "text": [
        "Number of stations allowed for given loss of 38 dB with LED source = 5.0\n",
        "Number of stations allowed for given loss of 51 dB with LASER source = 8.0\n"
       ]
      },
      {
       "metadata": {},
       "output_type": "pyout",
       "prompt_number": 4,
       "text": [
        "<matplotlib.text.Text at 0xa859828>"
       ]
      },
      {
       "metadata": {},
       "output_type": "display_data",
       "png": "[encoded data removed]",
       "text": [
        "<matplotlib.figure.Figure at 0xa4215f8>"
       ]
      }
     ],
     "prompt_number": 4
    },
    {
     "cell_type": "heading",
     "level": 2,
     "metadata": {},
     "source": [
      "Example 13.3, Page Number: 465"
     ]
    },
    {
     "cell_type": "code",
     "collapsed": false,
     "input": [
      "import math\n",
      "import numpy as np\n",
      "\n",
      "#variable declaration\n",
      "N=np.array([5,10])                         #number of station\n",
      "alpha = 0.4                                #attanuation (dB/km)\n",
      "L_thru = 0.9                               #coupler throughput(dB)\n",
      "Li = 0.5                                   #intrinsic coupler loss(dB)\n",
      "Lc = 1.0                                   #coupler to fiber loss(dB)\n",
      "L = 0.5                                    #link length(km)\n",
      "\n",
      "#calculation\n",
      "DR = (N-2)*(alpha*L+2*Lc+Li+L_thru)           #dynamic range(dB)\n",
      "\n",
      "#result\n",
      "print \"Dynamic range for number of station 5 = \",DR[0],\"dB\"\n",
      "print \"Dynamic range for number of station 10 = \",DR[1],\"dB\""
     ],
     "language": "python",
     "metadata": {},
     "outputs": [
      {
       "output_type": "stream",
       "stream": "stdout",
       "text": [
        "Dynamic range for number of station 5 =  10.8 dB\n",
        "Dynamic range for number of station 10 =  28.8 dB\n"
       ]
      }
     ],
     "prompt_number": 5
    },
    {
     "cell_type": "heading",
     "level": 2,
     "metadata": {},
     "source": [
      "Example 13.4, Page Number: 466"
     ]
    },
    {
     "cell_type": "code",
     "collapsed": false,
     "input": [
      "import math\n",
      "\n",
      "#variable declaration\n",
      "N1=10                                      #number of station\n",
      "N2=50                                      #number of station\n",
      "alpha = 0.4                                #attanuation (dB/km)\n",
      "L = 0.5                                    #link length(km)\n",
      "Lc = 1.0                                   #coupler to fiber loss(dB)\n",
      "Lexcess1 = 0.75                            #excess loss for 10 station\n",
      "Lexcess2 = 1.25                            #excess loss for 50 station\n",
      "\n",
      "#calculation\n",
      "Ps_Pr1 = Lexcess1+alpha*2*L+2*Lc+10*math.log10(N1)              #power margin for 10 station(dB)\n",
      "Ps_Pr2 = Lexcess2+alpha*2*L+2*Lc+10*math.log10(N2)              #power margin for 50 station(dB)\n",
      "\n",
      "#result\n",
      "print \"Power margin between transmitter and receiver for 10 station =\",round(Ps_Pr1,1),\"dB\"\n",
      "print \"Power margin between transmitter and receiver for 50 station =\",round(Ps_Pr2,1),\"dB\"\n"
     ],
     "language": "python",
     "metadata": {},
     "outputs": [
      {
       "output_type": "stream",
       "stream": "stdout",
       "text": [
        "Power margin between transmitter and receiver for 10 station = 13.2 dB\n",
        "Power margin between transmitter and receiver for 50 station = 20.6 dB\n"
       ]
      }
     ],
     "prompt_number": 14
    },
    {
     "cell_type": "heading",
     "level": 2,
     "metadata": {},
     "source": [
      "Example 13.5, Page Number: 477"
     ]
    },
    {
     "cell_type": "code",
     "collapsed": false,
     "input": [
      "import math\n",
      "\n",
      "#variable declaration\n",
      "L_OM2 = 40                                  #Length of OM2 fiber(meter)\n",
      "L_OM3 = 100                                 #Length of OM3 fiber(meter)\n",
      "BW_OM2 = 500*10**6                          #bandwidth of OM2 fiber(MHz)\n",
      "BW_OM3 = 2000*10**6                         #bandwidth of OM3 fiber(MHz)\n",
      "\n",
      "#calculation\n",
      "Lmax = L_OM2*(BW_OM3/BW_OM2)+L_OM3          #Maximum link length(meter)\n",
      "\n",
      "#result\n",
      "print \"Maximum link length = \",Lmax,\"m\""
     ],
     "language": "python",
     "metadata": {},
     "outputs": [
      {
       "output_type": "stream",
       "stream": "stdout",
       "text": [
        "Maximum link length =  260 m\n"
       ]
      }
     ],
     "prompt_number": 15
    }
   ],
   "metadata": {}
  }
 ]
}