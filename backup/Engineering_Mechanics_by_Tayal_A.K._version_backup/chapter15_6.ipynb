{
 "metadata": {
  "name": "chapter15.ipynb"
 },
 "nbformat": 3,
 "nbformat_minor": 0,
 "worksheets": [
  {
   "cells": [
    {
     "cell_type": "heading",
     "level": 1,
     "metadata": {},
     "source": [
      "Chapter 15: Curvilinear Motion Of A Particle"
     ]
    },
    {
     "cell_type": "heading",
     "level": 2,
     "metadata": {},
     "source": [
      "Example 15.15-2,Page No:386"
     ]
    },
    {
     "cell_type": "code",
     "collapsed": false,
     "input": [
      "import math\n",
      "\n",
      "# Initilization of variables\n",
      "\n",
      "r=200 # m # radius of the curved road\n",
      "v_1=72*1000*3600**-1 # m/s # initial speed of the car\n",
      "v_2=36*1000*3600**-1 # m/s # speed of the car after 10 seconds\n",
      "t=10 # seconds\n",
      "\n",
      "# Calculations\n",
      "\n",
      "A_n=v_1**2/r # m/s^2 # normal component of acceleration\n",
      "A_t=0 # since dv/dt=0 # tangential component of acceeration\n",
      "delv=v_1-v_2\n",
      "delt=t-0\n",
      "a_t=delv/delt # m/s^2 # tangential component of deceleration after the brakes are applied\n",
      "a_n=v_1**2/r # m/s^2 # normal component of deceleration  after the brakes are applied\n",
      "\n",
      "# Results\n",
      "\n",
      "print\"The normal component of acceleration is \",round(A_n),\"m/s^2\"\n",
      "print\"The tangential component of acceleration is \",round(A_t),\"m/s^2\"\n",
      "print\"The normal component of deceleration is \",round(a_n),\"m/s^2\"\n",
      "print\"The tangential component of deceleration is \",round(a_t),\"m/s^2\"\n"
     ],
     "language": "python",
     "metadata": {},
     "outputs": [
      {
       "output_type": "stream",
       "stream": "stdout",
       "text": [
        "The normal component of acceleration is  2.0 m/s^2\n",
        "The tangential component of acceleration is  0.0 m/s^2\n",
        "The normal component of deceleration is  2.0 m/s^2\n",
        "The tangential component of deceleration is  1.0 m/s^2\n"
       ]
      }
     ],
     "prompt_number": 2
    },
    {
     "cell_type": "heading",
     "level": 2,
     "metadata": {},
     "source": [
      "Example 15.15-3,Page No:387"
     ]
    },
    {
     "cell_type": "code",
     "collapsed": false,
     "input": [
      "import math\n",
      "\n",
      "# Iintilization of variables\n",
      "\n",
      "r=250 # m # radius of the curved road\n",
      "a_t=0.6 # m/s^2 # tangential acceleration\n",
      "a=0.75 # m/s^2 # total acceleration attained by the car\n",
      "\n",
      "# Calculations\n",
      "\n",
      "a_n=(a**2-a_t**2)**0.5 # m/s^2\n",
      "v=sqrt(a_n*r) # m/s\n",
      "\n",
      "# Using v=u+a*t\n",
      "u=0\n",
      "t=v/a_t # seconds\n",
      "\n",
      "# Now using v^2-u^2=2*a*s\n",
      "s=v**2/(2*a_t) # m\n",
      "\n",
      "# Results\n",
      "\n",
      "print\"The distance  traveled by the car is \",round(s,2),\"m\"\n",
      "print\"The time for which the car travels is \",round(t,2),\"seconds\"\n"
     ],
     "language": "python",
     "metadata": {},
     "outputs": [
      {
       "output_type": "stream",
       "stream": "stdout",
       "text": [
        "The distance  traveled by the car is  93.75 m\n",
        "The time for which the car travels is  17.68 seconds\n"
       ]
      }
     ],
     "prompt_number": 7
    },
    {
     "cell_type": "heading",
     "level": 2,
     "metadata": {},
     "source": [
      "Example 15.15-5,Page No:388"
     ]
    },
    {
     "cell_type": "code",
     "collapsed": false,
     "input": [
      "import math\n",
      "\n",
      "# Initilization of variables\n",
      "\n",
      "v=10 # m/s # speed of the car\n",
      "r=200 # m # radius of the road\n",
      "t=15 # seconds\n",
      "\n",
      "# Calculations\n",
      "\n",
      "omega=(v*r**-1) # radian/seconds # angular velocity of the car\n",
      "\n",
      "# Velocity in x & y direction is given by eq'n\n",
      "v_x=omega*r*sin(omega*t) # m/s # value of v_x is -ve but we consider it to be +ve for calculations\n",
      "v_y=omega*r*cos(omega*t) # m/s\n",
      "\n",
      "# Acceleration in x & y direction is given by\n",
      "a_x=(omega**2)*r*cos(omega*t) # m/s^2 # value of a_x is -ve but we consider it to be +ve for calculations\n",
      "a_y=(omega**2)*r*sin(omega*t) # m/s^2 # value of a_y is -ve but we consider it to be +ve for calculations\n",
      "\n",
      "# Results\n",
      "\n",
      "print\"The component of velocity in X direction (v_x) is \",round(v_x,2),\"m/s\"\n",
      "print\"The component of velocity in Y direction (v_y) is \",round(v_y,2),\"m/s\"\n",
      "print\"The component of acceleration in X direction (a_x) is \",round(a_x,3),\"m/s^2\"\n",
      "print\"The component of acceleration in Y direction (a_y) is \",round(a_y,3),\"m/s^2\"\n"
     ],
     "language": "python",
     "metadata": {},
     "outputs": [
      {
       "output_type": "stream",
       "stream": "stdout",
       "text": [
        "The component of velocity in X direction (v_x) is  6.82 m/s\n",
        "The component of velocity in Y direction (v_y) is  7.32 m/s\n",
        "The component of acceleration in X direction (a_x) is  0.366 m/s^2\n",
        "The component of acceleration in Y direction (a_y) is  0.341 m/s^2\n"
       ]
      }
     ],
     "prompt_number": 24
    },
    {
     "cell_type": "heading",
     "level": 2,
     "metadata": {},
     "source": [
      "Example 15.15-6,Page No:392"
     ]
    },
    {
     "cell_type": "code",
     "collapsed": false,
     "input": [
      "import math\n",
      "\n",
      "# Initilization of variables\n",
      "\n",
      "t=1 # seconds\n",
      "pi=3.14\n",
      "\n",
      "# Calculations\n",
      "\n",
      "# From the equations of r and theta given we find 1st & 2nd derative and substitute t=1sec Here we consider the 1st derative as r_1 & theta_1 and so on...\n",
      "r=(1.25*t**2)-(0.9*t**3) # m\n",
      "r_1=(1.25*(2*t))-(0.9*(3*t**2)) # m/s\n",
      "r_2=2.5-(0.9*3*(2*t)) # m/s^2\n",
      "theta=(pi/2)*(4*t-3*t**2) # radian\n",
      "theta_1=(pi/2)*(4-(6*t)) # rad/second\n",
      "theta_2=(pi/2)*(0-(6*t)) # rad/second^2\n",
      "\n",
      "# Velocity of collar P\n",
      "v_r=r_1 # m/s\n",
      "v_theta=r*theta_1 # m/s\n",
      "v=(v_r**2+v_theta**2)**0.5 # m/s\n",
      "alpha=arctan(v_theta/v_r) # degree\n",
      "\n",
      "# Acceleration of the collar P\n",
      "a_r=r_2-(r*theta_1**2) # m/s^2\n",
      "a_theta=(r*theta_2)+(2*r_1*theta_1) # m/s^2\n",
      "a=(a_r**2+a_theta**2)**0.5 # m/s^2\n",
      "beta=arctan(a_theta/a_r) # degree\n",
      "\n",
      "# Acceleration of collar P relative to the rod. Let it be a_relative\n",
      "a_relative=r_2 # m/s^2 # towards O\n",
      "\n",
      "# Calculations\n",
      "\n",
      "print\"The velocity of the collar is \",round(v,3),\"m/s\"\n",
      "print\"The accelaration of the collar is \",round(a,3),\"m/s^2\"\n",
      "print\"The acceleration of the collar relative to the rod is \",round(a_relative,1),\"m/s^2\"\n"
     ],
     "language": "python",
     "metadata": {},
     "outputs": [
      {
       "output_type": "stream",
       "stream": "stdout",
       "text": [
        "The velocity of the collar is  1.117 m/s\n",
        "The accelaration of the collar is  6.671 m/s^2\n",
        "The acceleration of the collar relative to the rod is  -2.9 m/s^2\n"
       ]
      }
     ],
     "prompt_number": 28
    },
    {
     "cell_type": "heading",
     "level": 2,
     "metadata": {},
     "source": [
      "Example 15.15-7,Page No:394"
     ]
    },
    {
     "cell_type": "code",
     "collapsed": false,
     "input": [
      "import math\n",
      "\n",
      "# Consider the eq'ns of motion from the book\n",
      "# The notations have been changed for the derivatives of r & theta\n",
      "# (1) At t=0 s\n",
      "theta_0=0\n",
      "theta_1=2*pi # rad/s\n",
      "theta_2=0\n",
      "r_0=0\n",
      "r_1=10 # cm/s\n",
      "r_2=0\n",
      "# At t=0.3 s\n",
      "t=0.3 # sec\n",
      "theta=2*pi*t # rad\n",
      "theta1=2*pi # rad/s\n",
      "theta2=0\n",
      "r=10*t # cm\n",
      "r1=10 # cm/s\n",
      "r2=0\n",
      "# (i) \n",
      "#Velocity\n",
      "v_r=r_1 # cm/s\n",
      "v_theta=r_0*theta_1\n",
      "v=sqrt(v_r**2+v_theta**2) # cm/s\n",
      "# Acceleration\n",
      "a_r=r_2-(r_0*theta_1**2) # cm/s^2\n",
      "a_theta=(r_0*theta_2)+(2*r_1*theta_1) # cm/s^2\n",
      "a=sqrt(a_r**2+a_theta**2) # cm/s^2\n",
      "# (ii)\n",
      "# Velocity\n",
      "V_R=r1 # cm/s\n",
      "V_theta=r*theta1 # cm/s\n",
      "V=sqrt(V_R**2+V_theta**2) # cm/s\n",
      "# Acceleration\n",
      "A_r=r2-(r*theta1**2) # cm/s^2\n",
      "A_theta=(r*theta2)+(2*r1*theta1) # cm/s^2\n",
      "A=sqrt(A_r**2+A_theta**2) # cm/s^2\n",
      "\n",
      "# Results\n",
      "\n",
      "print\"The velocity and the acceleration of the partice at t=0 s is \",round(v),\"cm/s\",\"&\",round(a,1),\"cm/s^2\"\n",
      "print\"The velocity and the acceleration of the partice at t=0.3 s is \",round(V,2),\"cm/s\",\"&\",round(A,2),\"cm/s^2\"\n"
     ],
     "language": "python",
     "metadata": {},
     "outputs": [
      {
       "output_type": "stream",
       "stream": "stdout",
       "text": [
        "The velocity and the acceleration of the partice at t=0 s is  10.0 cm/s & 125.7 cm/s^2\n",
        "The velocity and the acceleration of the partice at t=0.3 s is  21.34 cm/s & 172.68 cm/s^2\n"
       ]
      }
     ],
     "prompt_number": 4
    },
    {
     "cell_type": "heading",
     "level": 2,
     "metadata": {},
     "source": [
      "Example 15.15-9,Page No:404"
     ]
    },
    {
     "cell_type": "code",
     "collapsed": false,
     "input": [
      "import math\n",
      "\n",
      "# Calculations\n",
      "# Tension in the wire before it is cut\n",
      "T_ab=1/((2.747*0.643)+(0.766)) # From eqn's 1 & 2..Here T_ab is multiplied with W (i.e weight of small ball) \n",
      "T_AB=cos(40*(pi/180)) # Tension in the wire after the wire is cut. Again T_AB is multiplied with W.\n",
      "# Results\n",
      "\n",
      "print\"The tension in the wire before and after it is cut is respectively \",round(T_ab,3),\"W\",\"&\",round(T_AB,3),\"W\"\n"
     ],
     "language": "python",
     "metadata": {},
     "outputs": [
      {
       "output_type": "stream",
       "stream": "stdout",
       "text": [
        "The tension in the wire before and after it is cut is respectively  0.395 W & 0.766 W\n"
       ]
      }
     ],
     "prompt_number": 8
    },
    {
     "cell_type": "heading",
     "level": 2,
     "metadata": {},
     "source": [
      "Example 15.15-10,Page No:405"
     ]
    },
    {
     "cell_type": "code",
     "collapsed": false,
     "input": [
      "import math\n",
      "\n",
      "# Initilization of variables\n",
      "\n",
      "W_A=120 # N # Weight of block A\n",
      "W_B=80 # N # Weight of block B\n",
      "mu_a=0.4 # coefficient of friction under block A\n",
      "n=40 # r.p.m # rotation of frame\n",
      "r_a=1.2 # m # distance from block A to the axis of rotation\n",
      "r_b=1.6 # m # distance from block A to the axis of rotation\n",
      "g=9.81 # m/s^2 # acc due to gravity\n",
      "pi=3.14 # constant\n",
      "\n",
      "# Calculations\n",
      "\n",
      "# Consider the F.B.D of block A.\n",
      "N=W_A # N # Sum F_y=0\n",
      "\n",
      "# Now here, a_n=omega^2*r\n",
      "omega=(2*pi*n)*60**-1 # rad/sec\n",
      "a_n=(omega**2)*r_a # m/s^2\n",
      "\n",
      "# sum F_x=0 gives the eq'n of T as,\n",
      "T=((W_A*g**-1)*a_n)-(mu_a*N) # N \n",
      "\n",
      "# Now consider the F.B.D of block B\n",
      "A_n=(omega**2)*r_b # m/s^2\n",
      "N_1=(W_B*g**-1)*A_n # N # sum F_x=0\n",
      "mu=(T-W_B)*N_1**-1 \n",
      "\n",
      "# Results\n",
      "\n",
      "print\"The coefficient of friction of block B is \",round(mu,3) \n",
      "#answer may vary due to decimal variance in python\n"
     ],
     "language": "python",
     "metadata": {},
     "outputs": [
      {
       "output_type": "stream",
       "stream": "stdout",
       "text": [
        "The coefficient of friction of block B is  0.565\n"
       ]
      }
     ],
     "prompt_number": 13
    },
    {
     "cell_type": "heading",
     "level": 2,
     "metadata": {},
     "source": [
      "Example 15.15-12,Page No:408"
     ]
    },
    {
     "cell_type": "code",
     "collapsed": false,
     "input": [
      "import math\n",
      "\n",
      "# Initilization of variables\n",
      "W=10000 # N # Weight of the locomotive\n",
      "# Calculations\n",
      "# Consider the various derivations given in the textbook\n",
      "R_max=W*20**-1 # N # eq'n for  max reaction\n",
      "# The position of occurence of maximum thrust cannot be defined here. Refer textbook for the answer\n",
      "# Results\n",
      "\n",
      "print\"The maximum lateral thrust is \",round(R_max),\"N\"\n"
     ],
     "language": "python",
     "metadata": {},
     "outputs": [
      {
       "output_type": "stream",
       "stream": "stdout",
       "text": [
        "The maximum lateral thrust is  500.0 N\n"
       ]
      }
     ],
     "prompt_number": 14
    },
    {
     "cell_type": "heading",
     "level": 2,
     "metadata": {},
     "source": [
      "Example 15.15-13,Page No:411"
     ]
    },
    {
     "cell_type": "code",
     "collapsed": false,
     "input": [
      "import math\n",
      "\n",
      "# Initilization of variables\n",
      "W=10 #N # Weight of the ball\n",
      "# Calculations\n",
      "# consider the eq'n derived to find the reaction, given as\n",
      "R=W*(1+((2*pi**2)*9**-1)) # N \n",
      "# Results\n",
      "\n",
      "print\"The value of the reaction is \",round(R,1),\"N\"\n",
      "#answer may vary due to decimal variance\n"
     ],
     "language": "python",
     "metadata": {},
     "outputs": [
      {
       "output_type": "stream",
       "stream": "stdout",
       "text": [
        "The value of the reaction is  31.9 N\n"
       ]
      }
     ],
     "prompt_number": 15
    },
    {
     "cell_type": "heading",
     "level": 2,
     "metadata": {},
     "source": [
      "Example 15.15-15,Page No:412"
     ]
    },
    {
     "cell_type": "code",
     "collapsed": false,
     "input": [
      "import math\n",
      "\n",
      "# Initilization of variables\n",
      "\n",
      "P=50 # N # Weight of ball P\n",
      "Q=50 # N # Weight of ball Q\n",
      "R=100 # N # Weight of the governing device\n",
      "l=0.3 # m # length of each side\n",
      "theta=30 # degree\n",
      "g=9.81 # m/s^2 # acc due to gravity\n",
      "pi=3.14 # constant\n",
      "\n",
      "# Calculations\n",
      "\n",
      "# Consider the respective F.B.D\n",
      "r=l*sin(theta*(pi/180)) # m # Radius of circe\n",
      "# On solving eqn's 1,2 &3 we get the value of v as,\n",
      "v=(((Q+R)*g*r)/(3**0.5*Q))**0.5 # m/s \n",
      "# But the eq'n v=omega*r we get the value of N as,\n",
      "N=(60*v)/(2*pi*r) # r.p.m \n",
      "\n",
      "# Results\n",
      "\n",
      "print\"The speed of rotation is \",round(N,1),\"r.p.m\"\n",
      "# NOTE: In the text book (A.K. Tayal) this sum is numbered as 'EXAMPLE 15.14' which is incorrect.\n"
     ],
     "language": "python",
     "metadata": {},
     "outputs": [
      {
       "output_type": "stream",
       "stream": "stdout",
       "text": [
        "The speed of rotation is  101.7 r.p.m\n"
       ]
      }
     ],
     "prompt_number": 33
    },
    {
     "cell_type": "heading",
     "level": 2,
     "metadata": {},
     "source": [
      "Example 15.15-16,Page No:414"
     ]
    },
    {
     "cell_type": "code",
     "collapsed": false,
     "input": [
      "import math\n",
      "\n",
      "# Initilization of variables\n",
      "\n",
      "Q=20 # N # Weight of the governor device\n",
      "W=10 # N # Weight of the fly balls\n",
      "theta=30 # degree # angle between the vertical shaft and the axis AB\n",
      "l=0.2 # m # length of the shaft\n",
      "g=9.81 # m/s^2 # acc due to gravity\n",
      "pi=3.14 # constant\n",
      "\n",
      "# Calculations\n",
      "\n",
      "# Consider the respective F.B.D\n",
      "# Radius of the circle is given as,\n",
      "r=Q*sin(theta*(pi/180))*(10**-2) # m \n",
      "\n",
      "# Solving eq'n 1 & 2 for v. The eq'n for v is given as,\n",
      "v=(((W*l*0.5)+(0.05*Q))/((W*0.2*(3)**0.5)/(2*g*r)))**0.5 # m/s\n",
      "\n",
      "# But, v=r*omega=2*pi*N*r/60. From this eq'n we get N as,\n",
      "N=(v*60)/(2*pi*r) # r.p.m.\n",
      "\n",
      "# Results\n",
      "\n",
      "print\"The speed of the fly-balls is \",round(N,1),\"r.p.m\"\n"
     ],
     "language": "python",
     "metadata": {},
     "outputs": [
      {
       "output_type": "stream",
       "stream": "stdout",
       "text": [
        "The speed of the fly-balls is  101.7 r.p.m\n"
       ]
      }
     ],
     "prompt_number": 36
    },
    {
     "cell_type": "heading",
     "level": 2,
     "metadata": {},
     "source": [
      "Example 15.15-18,Page No:421 "
     ]
    },
    {
     "cell_type": "code",
     "collapsed": false,
     "input": [
      "import math\n",
      "\n",
      "# Initilization of variables\n",
      "\n",
      "r=50 # m # radius of the road\n",
      "mu=0.15 # coefficient of friction between the wheels and the road\n",
      "g=9.81 # m/s^2 # acc due to gravity\n",
      "\n",
      "# Calculations\n",
      "\n",
      "# The eq'n fo max speed of the vehicle without skidding is \n",
      "v=(mu*g*r)**0.5 # m/s\n",
      "\n",
      "# The angle theta made with the vertical while negotiating the corner is \n",
      "theta=arctan(v**2/(g*r))*(180/pi) # degree\n",
      "\n",
      "# Results\n",
      "\n",
      "print\"The maximum speed with which the vehicle can travel is \",round(v,2),\"m/s\"\n",
      "print\"The angle made with the vertical is \",round(theta,2),\"degree\"\n"
     ],
     "language": "python",
     "metadata": {},
     "outputs": [
      {
       "output_type": "stream",
       "stream": "stdout",
       "text": [
        "The maximum speed with which the vehicle can travel is  8.58 m/s\n",
        "The angle made with the vertical is  8.54 degree\n"
       ]
      }
     ],
     "prompt_number": 38
    },
    {
     "cell_type": "heading",
     "level": 2,
     "metadata": {},
     "source": [
      "Example 15.15-19,Page No:422"
     ]
    },
    {
     "cell_type": "code",
     "collapsed": false,
     "input": [
      "import math\n",
      "\n",
      "# Initilization of variables\n",
      "\n",
      "v=100*1000*3600**-1 # m/s # or 100 km/hr\n",
      "r=250 # m # radius of the road\n",
      "g=9.81 # m/s^2 # acc due to gravity\n",
      "\n",
      "# Calculations\n",
      "\n",
      "# The angle of banking is given by eq'n,\n",
      "theta=arctan((v**2)/(g*r))*(180/pi) # degree \n",
      "\n",
      "# Results\n",
      "\n",
      "print\"The angle of banking of the track is \",round(theta,2),\"degree\"\n"
     ],
     "language": "python",
     "metadata": {},
     "outputs": [
      {
       "output_type": "stream",
       "stream": "stdout",
       "text": [
        "The angle of banking of the track is  17.47 degree\n"
       ]
      }
     ],
     "prompt_number": 42
    },
    {
     "cell_type": "heading",
     "level": 2,
     "metadata": {},
     "source": [
      "Example 15.15-20,Page No:422"
     ]
    },
    {
     "cell_type": "code",
     "collapsed": false,
     "input": [
      "import math\n",
      "\n",
      "# Initilization of variables\n",
      "\n",
      "W=10000 # N # Weight of the car\n",
      "r=100 # m # radius of the road\n",
      "v=10 # m/s # speed of the car\n",
      "h=1 # m # height of the C.G of the car above the ground\n",
      "b=1.5 # m # distance between the wheels\n",
      "g=9.81 # m/s^2 # acc due to gravity\n",
      "\n",
      "# Calculations\n",
      "\n",
      "# The reactions at the wheels are given by te eq'ns:\n",
      "R_A=(W/2)*(1-((v**2*h)/(g*r*b))) # N # Reaction at A\n",
      "R_B=(W/2)*(1+((v**2*h)/(g*r*b))) # N # Reaction at B\n",
      "\n",
      "# The eq'n for max speed to avoid overturning on level ground is,\n",
      "v_max=((g*r*(b/2))/(h))**0.5 # m/s\n",
      "\n",
      "# Results\n",
      "\n",
      "print\"The reaction at Wheel A (R_A) is \",round(R_A,1),\"N\"\n",
      "print\"The reaction at Wheel B (R_B) is \",round(R_B,1),\"N\"\n",
      "print\"The maximum speed at which the vehicle can travel without the fear of overturning is \",round(v_max,2),\"m/s\" \n"
     ],
     "language": "python",
     "metadata": {},
     "outputs": [
      {
       "output_type": "stream",
       "stream": "stdout",
       "text": [
        "The reaction at Wheel A (R_A) is  4660.2 N\n",
        "The reaction at Wheel B (R_B) is  5339.8 N\n",
        "The maximum speed at which the vehicle can travel without the fear of overturning is  27.12 m/s\n"
       ]
      }
     ],
     "prompt_number": 45
    },
    {
     "cell_type": "heading",
     "level": 2,
     "metadata": {},
     "source": [
      "Example 15.15-21,Page No:423"
     ]
    },
    {
     "cell_type": "code",
     "collapsed": false,
     "input": [
      "import math\n",
      "\n",
      "# Initilization of variables\n",
      "\n",
      "W=1 # N # Weight of the bob\n",
      "theta=8 # degree # angle made by the bob with the vertical\n",
      "r=100 # m # radius of the curve\n",
      "g=9.81 # m/s^2 # acc due to gravity\n",
      "\n",
      "# Calculations\n",
      "\n",
      "# from eq'n 1 & 2 we get v as,\n",
      "v=((g*r*tan(theta*(pi/180)))**0.5)*3600*1000**-1 # km/hr \n",
      "T=W/cos(theta*(pi/180)) # N # from eq'n 2\n",
      "\n",
      "# Results\n",
      "\n",
      "print\"The speed of the cariage is \",round(v,2),\"km/hr\"\n",
      "print\"The tension in the chord is \",round(T,2),\"N\"\n"
     ],
     "language": "python",
     "metadata": {},
     "outputs": [
      {
       "output_type": "stream",
       "stream": "stdout",
       "text": [
        "The speed of the cariage is  42.26 km/hr\n",
        "The tension in the chord is  1.01 N\n"
       ]
      }
     ],
     "prompt_number": 47
    }
   ],
   "metadata": {}
  }
 ]
}