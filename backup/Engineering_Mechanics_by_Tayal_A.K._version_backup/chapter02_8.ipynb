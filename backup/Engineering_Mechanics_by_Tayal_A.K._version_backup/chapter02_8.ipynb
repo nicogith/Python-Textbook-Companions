{
 "metadata": {
  "name": "chapter02.ipynb"
 },
 "nbformat": 3,
 "nbformat_minor": 0,
 "worksheets": [
  {
   "cells": [
    {
     "cell_type": "heading",
     "level": 1,
     "metadata": {},
     "source": [
      "Chapter 2:Concurrent Forces in A Plane"
     ]
    },
    {
     "cell_type": "heading",
     "level": 2,
     "metadata": {},
     "source": [
      "Example 2.2-1, Page No:10"
     ]
    },
    {
     "cell_type": "code",
     "collapsed": false,
     "input": [
      "import math\n",
      "\n",
      "#Initilization of variables\n",
      "\n",
      "P=50 #N\n",
      "Q=100 #N\n",
      "beta=150 #degree # angle between P & the horizontal\n",
      "\n",
      "#Calculations\n",
      "\n",
      "R=(P**2+Q**2-(2*P*Q*cos(beta*(pi/180))))**0.5 # using the Trignometric solution\n",
      "Alpha=(arcsin(((sin(beta*(pi/180))*Q)/R)))*(180/pi)+15 #Angle in degrees\n",
      "\n",
      "#Result\n",
      "print \"The magnitude of resultant is\",round(R,2),\"N\"\n",
      "print \"The direction of resultant is\",round(Alpha,2),\"degrees\"\n"
     ],
     "language": "python",
     "metadata": {},
     "outputs": [
      {
       "output_type": "stream",
       "stream": "stdout",
       "text": [
        "The magnitude of resultant is 145.47 N\n",
        "The direction of resultant is 35.1 degrees\n"
       ]
      }
     ],
     "prompt_number": 1
    },
    {
     "cell_type": "heading",
     "level": 2,
     "metadata": {},
     "source": [
      "Example 2.2-2,Page No:16"
     ]
    },
    {
     "cell_type": "code",
     "collapsed": false,
     "input": [
      "import math\n",
      "\n",
      "#Initilization of variables\n",
      "\n",
      "P=50 #N\n",
      "Q=100 #N\n",
      "beta=15 #degree # angle between P& the horizontal\n",
      "theta=45 #degree # angle between the resultant (R) & the horizontal\n",
      "\n",
      "#Calculations\n",
      "\n",
      "Rx=P*cos(beta*(pi/180))+Q*cos(theta*(pi/180)) #N\n",
      "Ry=P*sin(beta*(pi/180))+Q*sin(theta*(pi/180)) #N\n",
      "R=((Rx**2)+(Ry**2))**0.5 #N\n",
      "alpha=arctan(Ry/Rx)*(180/pi) #degree\n",
      "\n",
      "#Results\n",
      "\n",
      "print\"The magnitude of the resultant is \",round(R,2),\"N\"\n",
      "print\"The ange of the resultant with x-axis is\",round(alpha,2),\"degrees\""
     ],
     "language": "python",
     "metadata": {},
     "outputs": [
      {
       "output_type": "stream",
       "stream": "stdout",
       "text": [
        "The magnitude of the resultant is  145.47 N\n",
        "The ange of the resultant with x-axis is 35.1 degrees\n"
       ]
      }
     ],
     "prompt_number": 13
    },
    {
     "cell_type": "heading",
     "level": 2,
     "metadata": {},
     "source": [
      "Example 2.2-4,Page No:19"
     ]
    },
    {
     "cell_type": "code",
     "collapsed": false,
     "input": [
      "import math\n",
      "\n",
      "#Initilization of variables\n",
      "\n",
      "Tac=3.5 #kN\n",
      "Tbc=3.5 #kN\n",
      "alpha=20 #degree #angle made by Tac with -ve X axis\n",
      "beta=50 #degree #angle made by Tbc with +ve X axis\n",
      "\n",
      "#Calculations\n",
      "\n",
      "theta=(arctan(((Tac*sin(alpha*(pi/180)))+(Tbc*sin(beta*(pi/180))))/((Tac*cos(alpha*(pi/180)))-(Tbc*cos(beta*(pi/180))))))*(180/pi) #degree\n",
      "P=Tac*(cos(alpha*(pi/180))-cos(beta*(pi/180)))/(cos(theta*(pi/180))) #kN # from eq'n 1\n",
      "\n",
      "#Results\n",
      "\n",
      "print\"The maximum force that can be applied is \",round(P,1),\"kN\"\n",
      "print\"The direction of applied force is \",round(theta,2),\"degrees\""
     ],
     "language": "python",
     "metadata": {},
     "outputs": [
      {
       "output_type": "stream",
       "stream": "stdout",
       "text": [
        "The maximum force that can be applied is  4.0 kN\n",
        "The direction of applied force is  75.0 degrees\n"
       ]
      }
     ],
     "prompt_number": 34
    },
    {
     "cell_type": "heading",
     "level": 2,
     "metadata": {},
     "source": [
      "Example 2.2-8,Page No:25"
     ]
    },
    {
     "cell_type": "code",
     "collapsed": false,
     "input": [
      "import math\n",
      "\n",
      "#Initilization of variables\n",
      "\n",
      "lAB=0.4 #m\n",
      "lBC=0.3 #m\n",
      "\n",
      "#Calculations\n",
      "\n",
      "alpha=arctan(lAB/lBC)*(180/pi) #degree\n",
      "\n",
      "#Results\n",
      "\n",
      "print\"The angle which the force should make with the horizontal to keep the edge AB of the body vertical is \",round(alpha,2),\"degrees\" #here alpha=theta"
     ],
     "language": "python",
     "metadata": {},
     "outputs": [
      {
       "output_type": "stream",
       "stream": "stdout",
       "text": [
        "The angle which the force should make with the horizontal to keep the edge AB of the body vertical is  53.13 degrees\n"
       ]
      }
     ],
     "prompt_number": 37
    },
    {
     "cell_type": "heading",
     "level": 2,
     "metadata": {},
     "source": [
      "Example 2.2-9,Page No:28"
     ]
    },
    {
     "cell_type": "code",
     "collapsed": false,
     "input": [
      "import math\n",
      "\n",
      "#Initilization of variables\n",
      "\n",
      "F=1000 #N\n",
      "lAB=0.5 #m\n",
      "lDC=0.25 #m #length of the perpendicular drawn from point C to AB\n",
      "\n",
      "#Calculations\n",
      "\n",
      "lAC=((0.3)**2+(0.25)**2)**0.5 #m\n",
      "lBC=((0.20)**2+(0.25)**2)**0.5 #m\n",
      "Sac=(lAC*F)*(lAB)**-1 #N #by law of concurrent forces\n",
      "Sbc=(lBC*F)/(lAB) #N #by law of concurrent forces\n",
      "\n",
      "#Results\n",
      "\n",
      "print\"The axial force in the bar AC(by aw of concurrent forces) is \",round(Sac),\"N\" #the answer in textbook is wrong by 1 N  \n",
      "print\"The axial force in the bar BC(by aw of concurrent forces) is \",round(Sbc),\"N\""
     ],
     "language": "python",
     "metadata": {},
     "outputs": [
      {
       "output_type": "stream",
       "stream": "stdout",
       "text": [
        "The axial force in the bar AC(by aw of concurrent forces) is  781.0 N\n",
        "The axial force in the bar BC(by aw of concurrent forces) is  640.0 N\n"
       ]
      }
     ],
     "prompt_number": 5
    },
    {
     "cell_type": "heading",
     "level": 2,
     "metadata": {},
     "source": [
      "Example 2.2-10,Page No:30"
     ]
    },
    {
     "cell_type": "code",
     "collapsed": false,
     "input": [
      "import math\n",
      "#Initilization of variables\n",
      "\n",
      "F3=500 #N\n",
      "alpha=60 #degree #angle made by F3 with F2\n",
      "beta=40 #degree #angle made by F1 with F3\n",
      "theta=80 #degree #angle made by F1 with F2\n",
      "\n",
      "#Calculations\n",
      "\n",
      "# Solving by using law of sines\n",
      "\n",
      "F1=(F3*sin(alpha*(pi/180))/sin(theta*(pi/180))) #N #by law of sines\n",
      "F2=(F3*sin(beta*(pi/180))/sin(theta*(pi/180))) #N #by law of sines\n",
      "\n",
      "#Resuts\n",
      "\n",
      "print\"The force F1 is \",round(F1,1),\"N\"\n",
      "print\"The force F2 is \",round(F2,1),\"N\""
     ],
     "language": "python",
     "metadata": {},
     "outputs": [
      {
       "output_type": "stream",
       "stream": "stdout",
       "text": [
        "The force F1 is  439.7 N\n",
        "The force F2 is  326.4 N\n"
       ]
      }
     ],
     "prompt_number": 44
    },
    {
     "cell_type": "heading",
     "level": 2,
     "metadata": {},
     "source": [
      "Example 2.2-11,Page No:31"
     ]
    },
    {
     "cell_type": "code",
     "collapsed": false,
     "input": [
      "import math\n",
      "\n",
      "#Initilization of variables\n",
      "\n",
      "P=5000 #N\n",
      "lAB=5 #m\n",
      "lOB=1.443 # m\n",
      "alpha=30 #degree #angle made by force P with the beam\n",
      "\n",
      "#Calculations\n",
      "\n",
      "theta=arctan(lOB/lAB)*(180/pi) #degree # eq'n 1\n",
      "Xa=(P*cos(alpha*(pi/180))) #N #using eq'n 4\n",
      "Ya=Xa*tan(theta*(pi/180)) #N #from eq'n 3 & 4\n",
      "Rb=(P*sin(alpha*(pi/180)))-Ya # N # substuting value of Ya in eq'n 5\n",
      "Ra=((Xa**2)+(Ya**2))**0.5 #N\n",
      "\n",
      "#Results\n",
      "\n",
      "print\"The reaction at support A is \",round(Ra,1),\"N\"\n",
      "print\"The reaction at support B is \",round(Rb),\"N\""
     ],
     "language": "python",
     "metadata": {},
     "outputs": [
      {
       "output_type": "stream",
       "stream": "stdout",
       "text": [
        "The reaction at support A is  4506.8 N\n",
        "The reaction at support B is  1250.0 N\n"
       ]
      }
     ],
     "prompt_number": 46
    },
    {
     "cell_type": "heading",
     "level": 2,
     "metadata": {},
     "source": [
      "Example 2.2-12,Page No:32"
     ]
    },
    {
     "cell_type": "code",
     "collapsed": false,
     "input": [
      "import math\n",
      "\n",
      "#Initilization of variables\n",
      "\n",
      "W=1000 #N\n",
      "OD=0.4 #m\n",
      "AD=0.3 #m\n",
      "AO=0.5 #m #AO=sqrt((0.4)^2+(0.3)^2)\n",
      "\n",
      "#Calculations\n",
      "\n",
      "Ra=W*AO/OD #N\n",
      "Rc=W*AD/OD #N\n",
      "alpha=arctan(OD/AD)*(180/pi) #degree\n",
      "\n",
      "#Results\n",
      "\n",
      "print\"The reaction at support A is \",round(Ra),\"N\" # answer in textbook is wrong by 50 N\n",
      "print\"The reaction at support B is \",round(Rc),\"N\"\n",
      "print\"The angle that Rc makes with horizontal \",round(alpha,1),\"degrees\""
     ],
     "language": "python",
     "metadata": {},
     "outputs": [
      {
       "output_type": "stream",
       "stream": "stdout",
       "text": [
        "The reaction at support A is  1250.0 N\n",
        "The reaction at support B is  750.0 N\n",
        "The angle that Rc makes with horizontal  53.1 degrees\n"
       ]
      }
     ],
     "prompt_number": 7
    },
    {
     "cell_type": "heading",
     "level": 2,
     "metadata": {},
     "source": [
      "Example 2.2-13,Page No:33"
     ]
    },
    {
     "cell_type": "code",
     "collapsed": false,
     "input": [
      "import math\n",
      "\n",
      "#Initilization of variables\n",
      "\n",
      "W=2500 #N #This load acts at point B and C.\n",
      "alpha=30 #degree # angle made by T1 with +ve y-axis & T2 with +ve x-axis\n",
      "\n",
      "#Calculations\n",
      "\n",
      "T2=W-(((cos(alpha*(pi/180)))**2/(sin(alpha*(pi/180))))-(sin(alpha*(pi/180)))) # N # substuting eq'n 1 in 2\n",
      "T1=(T2*cos(30*(pi/180)))/(sin(30*(pi/180)))#N # using eq'n 1\n",
      "T3=T2 #N # By equilibrium eq'n at point C(sumFx=0)\n",
      "\n",
      "#Results\n",
      "\n",
      "print\"Tension in portion AB is \",round(T1),\"N\" #due to decimal variance the answer varies by 2.0 N\n",
      "print\"Tension in portion BC is \",round(T2),\"N\" #due to decimal variance the answer varies by 1.0 N\n",
      "print\"Tension in portion CD is \",round(T3),\"N\" #due to decimal variance the answer varies by 1.0 N"
     ],
     "language": "python",
     "metadata": {},
     "outputs": [
      {
       "output_type": "stream",
       "stream": "stdout",
       "text": [
        "Tension in portion AB is  4328.0 N\n",
        "Tension in portion BC is  2499.0 N\n",
        "Tension in portion CD is  2499.0 N\n"
       ]
      }
     ],
     "prompt_number": 10
    },
    {
     "cell_type": "heading",
     "level": 2,
     "metadata": {},
     "source": [
      "Example 2.2-15,Page No:35"
     ]
    },
    {
     "cell_type": "code",
     "collapsed": false,
     "input": [
      "import math\n",
      "\n",
      "#Initilization of variables\n",
      "\n",
      "d=0.6 #m  #diameter of the wheel\n",
      "r=0.3 #m #radius of the wheel\n",
      "W=1000 #N #weight of the wheel\n",
      "h=0.15 #m #height of rectangular block\n",
      "\n",
      "#Calculations\n",
      "\n",
      "theta=arctan(((h)**0.5)/((d-h)**0.5))\n",
      "P=(W*tan(theta)) #N # dividing eq'n 1 & 2\n",
      "\n",
      "#Resuts\n",
      "\n",
      "print\"The force P so that the wheel is just to roll over the block is \",round(P),\"N\""
     ],
     "language": "python",
     "metadata": {},
     "outputs": [
      {
       "output_type": "stream",
       "stream": "stdout",
       "text": [
        "The force P so that the wheel is just to roll over the block is  577.0 N\n"
       ]
      }
     ],
     "prompt_number": 56
    },
    {
     "cell_type": "heading",
     "level": 2,
     "metadata": {},
     "source": [
      "Example 2.2-16,Page No:36"
     ]
    },
    {
     "cell_type": "code",
     "collapsed": false,
     "input": [
      "import math\n",
      "\n",
      "#Initilization of variables\n",
      "\n",
      "Soa=1000 #N (tension)\n",
      "alpha=45 #degree #where alpha=(360/8)\n",
      "theta=67.5 #degree #angle made by bar AO with AB &AH\n",
      "\n",
      "#Calcultions\n",
      "\n",
      "Sab=Soa*(sin(theta*(pi/180))/sin(alpha*(pi/180))) # N # Using law of sines\n",
      "Sah=Sab #N\n",
      "Sob=(Sab*sin((180-2*(theta))*(pi/180)))/sin(theta*(pi/180)) #N\n",
      "\n",
      "#Results\n",
      "\n",
      "print\"The axial force in the bar AB is \",round(Sab,1),\"N\" #Compression\n",
      "print\"The axial force in the bar OB is \",round(Sob),\"N\" #Tension"
     ],
     "language": "python",
     "metadata": {},
     "outputs": [
      {
       "output_type": "stream",
       "stream": "stdout",
       "text": [
        "The axial force in the bar AB is  1306.6 N\n",
        "The axial force in the bar OB is  1000.0 N\n"
       ]
      }
     ],
     "prompt_number": 60
    },
    {
     "cell_type": "heading",
     "level": 2,
     "metadata": {},
     "source": [
      "Example 2.2-17,Page No:37"
     ]
    },
    {
     "cell_type": "code",
     "collapsed": false,
     "input": [
      "import math\n",
      "\n",
      "#Initilization of variables\n",
      "\n",
      "W=500 #N #weight of cylinder\n",
      "alpha=25 #degree #angle made by OA with horizontal\n",
      "beta=65 #degree #angle made by OB with horizontal\n",
      "theta=90 #degree # theta=(alpha+beta)\n",
      "\n",
      "#Calculations\n",
      "\n",
      "Ra=(W*sin(beta*(pi/180)))/sin(theta*(pi/180)) #N #from equilibrium eq'n\n",
      "Rb=(W*sin(alpha*(pi/180)))/sin(theta*(pi/180)) #N #from equilibrium eqn's\n",
      "\n",
      "#Results\n",
      "\n",
      "print\"The reaction at A is \",round(Ra,1),\"N\"\n",
      "print\"The reaction at B is \",round(Rb,1),\"N\""
     ],
     "language": "python",
     "metadata": {},
     "outputs": [
      {
       "output_type": "stream",
       "stream": "stdout",
       "text": [
        "The reaction at A is  453.2 N\n",
        "The reaction at B is  211.3 N\n"
       ]
      }
     ],
     "prompt_number": 62
    },
    {
     "cell_type": "heading",
     "level": 2,
     "metadata": {},
     "source": [
      "Example 2.2-18,Page No:38"
     ]
    },
    {
     "cell_type": "code",
     "collapsed": false,
     "input": [
      "import math\n",
      "\n",
      "#Initilization of variables\n",
      "\n",
      "Wa=1000 #N #weight of sphere A\n",
      "Wb=400 #N #weight of sphere B\n",
      "Ra=0.09 #m #radius of sphere A\n",
      "Rb=0.05 #m #radius of sphere B\n",
      "theta=33.86 #degree #angle made by Rq with Wb\n",
      "alpha=60 #degree #angle made by Rl with horizontal\n",
      "\n",
      "#Calculations\n",
      "\n",
      "Rq=Wb/cos(theta*(pi/180)) #N #using sum Fy=0 for sphere B\n",
      "Rp=Rq*sin(theta*(pi/180)) #N #using sum Fx=0 for sphere B\n",
      "Rl=(Rq*sin(theta*(pi/180)))/sin(alpha*(pi/180)) #N #using sum Fx=0 for sphere A\n",
      "Rn=((Wa)+(Rq*cos(theta*(pi/180)))-(Rl*cos(alpha*(pi/180)))) #N\n",
      "\n",
      "#Results\n",
      "\n",
      "print\"The reaction at point P is \",round(Rp,1),\"N\"\n",
      "print\"The reaction at point L is \",round(Rl),\"N\"\n",
      "print\"The reaction at point N is \",round(Rn,1),\"N\" # the answer in textbook is wrong by 3.2 N"
     ],
     "language": "python",
     "metadata": {},
     "outputs": [
      {
       "output_type": "stream",
       "stream": "stdout",
       "text": [
        "The reaction at point P is  268.4 N\n",
        "The reaction at point L is  310.0 N\n",
        "The reaction at point N is  1245.0 N\n"
       ]
      }
     ],
     "prompt_number": 65
    },
    {
     "cell_type": "heading",
     "level": 2,
     "metadata": {},
     "source": [
      "Example 2.2-19,Page No:39"
     ]
    },
    {
     "cell_type": "code",
     "collapsed": false,
     "input": [
      "import math\n",
      "\n",
      "#Initilization of variables\n",
      "\n",
      "P=50 #N\n",
      "Q=100 #N\n",
      "alpha=30 #degree #angle made by Rq with +ve Y-axis\n",
      "\n",
      "#Calculations\n",
      "\n",
      "theta_r=arctan((P*((cos(alpha*(pi/180)))/(sin(alpha*(pi/180))))-Q*tan(alpha*(pi/180)))/(P+Q)) #radians\n",
      "theta=theta_r*(180/pi)\n",
      "T=Q/(cos(theta*(pi/180))*(cos(alpha*(pi/180)))/(sin(alpha*(pi/180)))-sin(theta*(pi/180))) #N\n",
      "\n",
      "#Results\n",
      "print\"The tension in the string is \",round(T,1),\"N\"\n",
      "print\"The angle wich the string makes with the horizontal when the system is in equilibrium is \",round(theta,1),\"degrees\" \n",
      "#Note:The decimal accuracy in python causes discrepancy in answers"
     ],
     "language": "python",
     "metadata": {},
     "outputs": [
      {
       "output_type": "stream",
       "stream": "stdout",
       "text": [
        "The tension in the string is  66.1 N\n",
        "The angle wich the string makes with the horizontal when the system is in equilibrium is  10.9 degrees\n"
       ]
      }
     ],
     "prompt_number": 4
    },
    {
     "cell_type": "heading",
     "level": 2,
     "metadata": {},
     "source": [
      "Example 2.2-20,Page No:41"
     ]
    },
    {
     "cell_type": "code",
     "collapsed": false,
     "input": [
      "import math\n",
      "\n",
      "#Initilization of variables\n",
      "\n",
      "theta1=50.5 #degree #is the angle made between BC & and BE\n",
      "theta2=36.87 #degree #is te angle ade between BA &BE \n",
      "g=9.81 #m/s^2\n",
      "Wa=15*g #N\n",
      "Wb=40*g #N\n",
      "Wc=20*g #N\n",
      "\n",
      "#Calculations\n",
      "\n",
      "R2=Wc/(sin(theta1*(pi/180))) #N #from F.B.D of cylinder C(sum Fy=0)\n",
      "R4=(Wb+R2*sin(theta1*(pi/180)))/sin(theta2*(pi/180)) #N #from F.B.D of cylinder B(sum Fy=0)\n",
      "R6=R4*cos(theta2*(pi/180)) #N #from F.B.D of cylinder A(sum Fx=0)\n",
      "\n",
      "#Results\n",
      "\n",
      "print\"The reaction between the cylinder A and the wall of the channel is \",round(R6,2),\"N\""
     ],
     "language": "python",
     "metadata": {},
     "outputs": [
      {
       "output_type": "stream",
       "stream": "stdout",
       "text": [
        "The reaction between the cylinder A and the wall of the channel is  784.8 N\n"
       ]
      }
     ],
     "prompt_number": 70
    },
    {
     "cell_type": "heading",
     "level": 2,
     "metadata": {},
     "source": [
      "Example 2.2-21,Page No:50"
     ]
    },
    {
     "cell_type": "code",
     "collapsed": false,
     "input": [
      "import math\n",
      "\n",
      "#Initilazation of variables\n",
      "\n",
      "F=1000 #N\n",
      "theta=30 #degree #angle made by the force with the beam AB\n",
      "Lab=3 #m\n",
      "Lae=2 #m\n",
      "Lce=1 #m\n",
      "\n",
      "#Calculations\n",
      "\n",
      "Re=(F*Lab*sin(theta*(pi/180)))/Lae #N #Taking moment at A\n",
      "Rd=(Re*Lce)/(Lab*sin(theta*(pi/180))) #N #Taking moment about C\n",
      "\n",
      "#Results\n",
      "\n",
      "print\"The reaction at D due to force of 1000 N acting at B is \",round(Rd,2),\"N\""
     ],
     "language": "python",
     "metadata": {},
     "outputs": [
      {
       "output_type": "stream",
       "stream": "stdout",
       "text": [
        "The reaction at D due to force of 1000 N acting at B is  500.0 N\n"
       ]
      }
     ],
     "prompt_number": 71
    },
    {
     "cell_type": "heading",
     "level": 2,
     "metadata": {},
     "source": [
      "Example 2.2-23,Page No:51"
     ]
    },
    {
     "cell_type": "code",
     "collapsed": false,
     "input": [
      "import math\n",
      "\n",
      "#Initilization of variables\n",
      "\n",
      "W=1000 #N\n",
      "r=0.30 #m #radius of the wheel\n",
      "h=0.15 #m #height of the obstacle\n",
      "\n",
      "#Calculations\n",
      "\n",
      "theta=arcsin(1)*(180/pi) #degree #P is mini when sin(theta)=1 from eq'n of P\n",
      "Pmini=(W*((2*r*h)-(h**2))**0.5)/(r*sin(theta*(pi/180))) #N\n",
      "\n",
      "#Results\n",
      "\n",
      "print\"The least force required to just turn the wheel over the block is \",round(Pmini),\"N\"\n",
      "print\"The angle wich should be made by Pmini with AC is \",round(theta,2),\"degrees\""
     ],
     "language": "python",
     "metadata": {},
     "outputs": [
      {
       "output_type": "stream",
       "stream": "stdout",
       "text": [
        "The least force required to just turn the wheel over the block is  866.0 N\n",
        "The angle wich should be made by Pmini with AC is  90.0 degrees\n"
       ]
      }
     ],
     "prompt_number": 2
    }
   ],
   "metadata": {}
  }
 ]
}