{
 "metadata": {
  "name": "chapter22.ipynb"
 },
 "nbformat": 3,
 "nbformat_minor": 0,
 "worksheets": [
  {
   "cells": [
    {
     "cell_type": "heading",
     "level": 1,
     "metadata": {},
     "source": [
      "Chapter 22: Kinetics Of Rigid Body:Force And Acceleration"
     ]
    },
    {
     "cell_type": "heading",
     "level": 2,
     "metadata": {},
     "source": [
      "Example 22.22-1,Page No:562"
     ]
    },
    {
     "cell_type": "code",
     "collapsed": false,
     "input": [
      "import math\n",
      "\n",
      "# Initilization of variables\n",
      "\n",
      "N=1500 # r.p.m\n",
      "r=0.5 # m # radius of the disc\n",
      "m=300 # N # weight of the disc\n",
      "t=120 # seconds # time in which the disc comes to rest\n",
      "omega=0 \n",
      "pi=3.14 \n",
      "g=9.81 # m/s^2\n",
      "\n",
      "# Calculations\n",
      "\n",
      "omega_0=(2*pi*N)*0.01666 # rad/s #1/60=0.01666\n",
      "\n",
      "# angular deceleration is given as,\n",
      "alpha=-(omega_0/t) # radian/second^2\n",
      "theta=(omega_0**2)/(2*(-alpha)) # radian\n",
      "\n",
      "# Let n be the no of revolutions taken by the disc before it comes to rest, then\n",
      "n=theta/(2*pi)\n",
      "\n",
      "# Now,\n",
      "I_G=((0.5)*m*r**2)/g\n",
      "\n",
      "# The frictional torque is given as,\n",
      "M=I_G*alpha # N-m\n",
      "\n",
      "# Results\n",
      "\n",
      "print\"(a) The no of revolutions executed by the disc before coming to rest is \",round(n,2)\n",
      "print\"(b) The frictional torque is \",round(M),\"N-m\"\n"
     ],
     "language": "python",
     "metadata": {},
     "outputs": [
      {
       "output_type": "stream",
       "stream": "stdout",
       "text": [
        "(a) The no of revolutions executed by the disc before coming to rest is  1499.4\n",
        "(b) The frictional torque is  -5.0 N-m\n"
       ]
      }
     ],
     "prompt_number": 9
    },
    {
     "cell_type": "heading",
     "level": 2,
     "metadata": {},
     "source": [
      "Example 22.22-2,Page No:563"
     ]
    },
    {
     "cell_type": "code",
     "collapsed": false,
     "input": [
      "import math\n",
      "\n",
      "# Initilization of variables\n",
      "\n",
      "s=1 # m\n",
      "mu=0.192 # coefficient of static friction\n",
      "g=9.81 # m/s^2\n",
      "\n",
      "# Calculations\n",
      "\n",
      "# The maximum angle of the inclined plane is given as,\n",
      "theta=arctan(3*mu)*(180/pi) # degree\n",
      "a=(2/3)*g*sin(theta*(pi/180)) # m/s^2 # by solving eq'n 4\n",
      "v=(2*a*s)**0.5 # m/s\n",
      "\n",
      "# Let the acceleration at the centre be A which is given as,\n",
      "A=g*sin(theta*(pi/180)) # m/s^2 # from eq'n 1\n",
      "\n",
      "# Results\n",
      "\n",
      "print\"(a) The acceleration at the centre is \",round(A,3),\"m/s^2\"\n",
      "print\"(b) The maximum angle of the inclined plane is \",round(theta),\"degree\"\n"
     ],
     "language": "python",
     "metadata": {},
     "outputs": [
      {
       "output_type": "stream",
       "stream": "stdout",
       "text": [
        "(a) The acceleration at the centre is  4.896 m/s^2\n",
        "(b) The maximum angle of the inclined plane is  30.0 degree\n"
       ]
      }
     ],
     "prompt_number": 11
    },
    {
     "cell_type": "heading",
     "level": 2,
     "metadata": {},
     "source": [
      "Example 22.22-5,Page No:568"
     ]
    },
    {
     "cell_type": "code",
     "collapsed": false,
     "input": [
      "import math\n",
      "\n",
      "# Initilization of variables\n",
      "\n",
      "W_a=25 # N \n",
      "W_b=25 # N \n",
      "W=200 # N # weight of the pulley\n",
      "i_g=0.2 # m # radius of gyration\n",
      "g=9.81 # m/s^2\n",
      "\n",
      "# Calculations\n",
      "\n",
      "# Solving eqn's 1 & 2 for acceleration of weight A (assume a)\n",
      "a=(0.15*W_a*g)/(((W*i_g**2)/(0.45))+(0.45*W_a)+((0.6*W_b)/(3))) # m/s^2\n",
      "\n",
      "# Results\n",
      "\n",
      "print\"The acceleration of weight A is \",round(a,2),\"m/s^2\"\n"
     ],
     "language": "python",
     "metadata": {},
     "outputs": [
      {
       "output_type": "stream",
       "stream": "stdout",
       "text": [
        "The acceleration of weight A is  1.08 m/s^2\n"
       ]
      }
     ],
     "prompt_number": 13
    },
    {
     "cell_type": "heading",
     "level": 2,
     "metadata": {},
     "source": [
      "Example 22.22-8,Page No:571"
     ]
    },
    {
     "cell_type": "code",
     "collapsed": false,
     "input": [
      "import math\n",
      "\n",
      "# Initilization of variables\n",
      "\n",
      "r_1=0.075 # m\n",
      "r_2=0.15 # m\n",
      "P=50 # N\n",
      "W=100 # N\n",
      "i_g=0.05 # m\n",
      "theta=30 # degree\n",
      "g=9.81 # m/s^2\n",
      "\n",
      "# Calculations\n",
      "\n",
      "# The eq'n for acceleration of the pool is given by solving eqn's 1,2 &3 as,\n",
      "a=(50*g*(r_2*cos(theta*(pi/180))-r_1))/(100*((i_g**2/r_2)+r_2)) # m/s^2\n",
      "\n",
      "# Results\n",
      "\n",
      "print\"The acceleration of the pool is \",round(a,2),\"m/s^2\"\n"
     ],
     "language": "python",
     "metadata": {},
     "outputs": [
      {
       "output_type": "stream",
       "stream": "stdout",
       "text": [
        "The acceleration of the pool is  1.62 m/s^2\n"
       ]
      }
     ],
     "prompt_number": 15
    },
    {
     "cell_type": "heading",
     "level": 2,
     "metadata": {},
     "source": [
      "Example 22.22-10,Page No:574"
     ]
    },
    {
     "cell_type": "code",
     "collapsed": false,
     "input": [
      "import math\n",
      "\n",
      "# Initilization of variables\n",
      "\n",
      "L=1 # m # length of rod AB\n",
      "m=10 # kg # mass of the rod\n",
      "g=9.81 \n",
      "theta=30 # degree\n",
      "\n",
      "# Calculations\n",
      "\n",
      "# solving eq'n 4 for omega we get,\n",
      "omega=(2*16.82*sin(theta*(pi/180)))**0.5 # rad/s\n",
      "\n",
      "# Now solving eq'ns 1 &3 for alpha we get,\n",
      "alpha=(1.714)*g*cos(theta*(pi/180)) # rad/s\n",
      "\n",
      "# Components of reaction are given as,\n",
      "R_t=((m*g*cos(theta*(pi/180)))-((m*alpha*L)/4)) # N\n",
      "R_n=((m*omega**2*L)/4)+(m*g*sin(theta*(pi/180))) # N\n",
      "R=(R_t**2+R_n**2)**0.5 # N \n",
      "\n",
      "# Results\n",
      "\n",
      "print\"(a) The angular velocity of the rod is \",round(omega,2),\"rad/sec\"\n",
      "print\"(b) The reaction at the hinge is \",round(R,1),\"N\"\n"
     ],
     "language": "python",
     "metadata": {},
     "outputs": [
      {
       "output_type": "stream",
       "stream": "stdout",
       "text": [
        "(a) The angular velocity of the rod is  4.1 rad/sec\n",
        "(b) The reaction at the hinge is  103.2 N\n"
       ]
      }
     ],
     "prompt_number": 31
    },
    {
     "cell_type": "code",
     "collapsed": false,
     "input": [],
     "language": "python",
     "metadata": {},
     "outputs": []
    }
   ],
   "metadata": {}
  }
 ]
}