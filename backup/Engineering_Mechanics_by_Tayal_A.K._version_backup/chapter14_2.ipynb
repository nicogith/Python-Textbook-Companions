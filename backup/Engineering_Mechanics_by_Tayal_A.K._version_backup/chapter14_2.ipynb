{
 "metadata": {
  "name": "chapter14.ipynb"
 },
 "nbformat": 3,
 "nbformat_minor": 0,
 "worksheets": [
  {
   "cells": [
    {
     "cell_type": "heading",
     "level": 1,
     "metadata": {},
     "source": [
      "Chapter 14: Rectilinear Motion Of A Particle"
     ]
    },
    {
     "cell_type": "heading",
     "level": 2,
     "metadata": {},
     "source": [
      "Example 14.14-3,Page No:335"
     ]
    },
    {
     "cell_type": "code",
     "collapsed": false,
     "input": [
      "import math\n",
      "\n",
      "# Initilization of variables\n",
      "a_T=0.18 # m/s^2 # acc of trolley\n",
      "# Calculations\n",
      "a_B=-a_T*3**-1 # m/s^2 # from eq'n 4\n",
      "t=4 # seconds\n",
      "v_T=a_T*t # m/s # velocity of trolley after 4 seconds\n",
      "v_B=-v_T*3**-1 # m/s # from eq'n 3\n",
      "S_T=(0.5)*a_T*t**2 # m # distance moved by trolley in 4 sec\n",
      "S_B=-S_T*3**-1 # m # from eq'n 2\n",
      "# Results\n",
      "\n",
      "print\"The acceleration of block B is \",round(a_B,2),\"m/s^2\"\n",
      "print\"The velocity of trolley & the block after 4 sec is \",round(v_T,2),\"m/s\",\"&\",round(v_B,2),\"m/s\"\n",
      "print\"The distance moved by the trolley & the block is \",round(S_T,2),\"m\",\"&\",round(S_B,2),\"m\"\n",
      "# The -ve sign indicates that the velocity or the distance travelled is in opposite direction.\n"
     ],
     "language": "python",
     "metadata": {},
     "outputs": [
      {
       "output_type": "stream",
       "stream": "stdout",
       "text": [
        "The acceleration of block B is  -0.06 m/s^2\n",
        "The velocity of trolley & the block after 4 sec is  0.72 m/s & -0.24 m/s\n",
        "The distance moved by the trolley & the block is  1.44 m & -0.48 m\n"
       ]
      }
     ],
     "prompt_number": 1
    },
    {
     "cell_type": "heading",
     "level": 2,
     "metadata": {},
     "source": [
      "Example 14.14-4,Page No:338"
     ]
    },
    {
     "cell_type": "code",
     "collapsed": false,
     "input": [
      "import math\n",
      "\n",
      "# Initiliztion of variables\n",
      "\n",
      "v_B=12 # cm/s # velocity of block B\n",
      "u=0\n",
      "s=24 # cm # distance travelled by bock B\n",
      "t=5 # seconds\n",
      "\n",
      "# Calculations\n",
      "\n",
      "a_B=v_B**2/(2*s) # cm/s^2 # using eq'n v^2-u^2=28*a*s for block B. Here u=0\n",
      "a_A=(1.5)*a_B # cm/s^2 # from eq'n 4 # Here a_A is negative which means acceleration is in opposite direction. However we consider +ve values for further calculations\n",
      "v_A=u+(a_A*t) # m/s # using eq'n v=u+(a*t)\n",
      "S_A=(u*t)+((0.5)*a_A*t**2) # m # using eq'n S=(u*t)+((1/2)*a*t^2)\n",
      "\n",
      "# Results\n",
      "\n",
      "print\"The acceleration of block A (a_A) is \",round(a_A,1),\"cm/s^2\"\n",
      "print\"The acceleration of block B (a_B) is \",round(a_B),\"cm/s^2\"\n",
      "print\"The velocity of block A (v_A) after 5 seconds is \",round(v_A,1),\"m/s\"\n",
      "print\"The position of block A (S_A) after 5 seconds is \",round(S_A,2),\"m\"\n"
     ],
     "language": "python",
     "metadata": {},
     "outputs": [
      {
       "output_type": "stream",
       "stream": "stdout",
       "text": [
        "The acceleration of block A (a_A) is  4.5 cm/s^2\n",
        "The acceleration of block B (a_B) is  3.0 cm/s^2\n",
        "The velocity of block A (v_A) after 5 seconds is  22.5 m/s\n",
        "The position of block A (S_A) after 5 seconds is  56.25 m\n"
       ]
      }
     ],
     "prompt_number": 3
    },
    {
     "cell_type": "heading",
     "level": 2,
     "metadata": {},
     "source": [
      "Example 14.14-5,Page No:340"
     ]
    },
    {
     "cell_type": "code",
     "collapsed": false,
     "input": [
      "import math\n",
      "\n",
      "# Initilization of variables\n",
      "\n",
      "u=72*1000*60**-2 # km/hr # speed of the vehicle\n",
      "s=300 # m # distance where the light is turning is red\n",
      "t=20 # s # traffic light timed to remain red\n",
      "\n",
      "# Calculations\n",
      "\n",
      "# Now to find the acceleration we use the eq'n s=u*t+(1/2)*a*t^2\n",
      "a=(((s)-(u*t))*2)*t**-2 # m/s^2 (Deceleration) \n",
      "v=(u+(a*t))*(60*60*0.001) # km/hr # here we multiply with (60*60)/1000 to convert m/s to km/hr\n",
      "\n",
      "# Results\n",
      "\n",
      "print\"(a) The required uniform acceleration of the car is \",round(a,2),\"m/s^2\"\n",
      "print\"(b) The speed at which the motorist crosses the traffic light is \",round(v),\"km/hr\"\n"
     ],
     "language": "python",
     "metadata": {},
     "outputs": [
      {
       "output_type": "stream",
       "stream": "stdout",
       "text": [
        "(a) The required uniform acceleration of the car is  -0.5 m/s^2\n",
        "(b) The speed at which the motorist crosses the traffic light is  36.0 km/hr\n"
       ]
      }
     ],
     "prompt_number": 39
    },
    {
     "cell_type": "heading",
     "level": 2,
     "metadata": {},
     "source": [
      "Example 14.14-6,Page No:340"
     ]
    },
    {
     "cell_type": "code",
     "collapsed": false,
     "input": [
      "import math\n",
      "\n",
      "# Initilization of variables\n",
      "\n",
      "S=50 # m # height of the tower\n",
      "v=25 # m/s # velocity at which the stone is thrown up from the foot of the tower\n",
      "g=9.81 # m/s^2 # acc due to graity\n",
      "\n",
      "# Calculations\n",
      "\n",
      "# The equation of time for the two stones to cross each other is given as,\n",
      "t=S/v # seconds\n",
      "S_1=(0.5)*g*t**2 # m # from the top\n",
      "\n",
      "# Results\n",
      "\n",
      "print\"The time (t) at which the two stones cross each other is \",round(t),\"seconds\"\n",
      "print\"The two stones cross each other (from top) at a distance of \",round(S_1,1),\"m\"\n"
     ],
     "language": "python",
     "metadata": {},
     "outputs": [
      {
       "output_type": "stream",
       "stream": "stdout",
       "text": [
        "The time (t) at which the two stones cross each other is  2.0 seconds\n",
        "The two stones cross each other (from top) at a distance of  19.6 m\n"
       ]
      }
     ],
     "prompt_number": 41
    },
    {
     "cell_type": "heading",
     "level": 2,
     "metadata": {},
     "source": [
      "Example 14.14-7,Page No:341"
     ]
    },
    {
     "cell_type": "code",
     "collapsed": false,
     "input": [
      "import math\n",
      "\n",
      "# Intilization of variables\n",
      "\n",
      "acc=0.5 # m/s^2 # acceleration of the elevator\n",
      "s=25 # m # distance travelled by the elevator from the top\n",
      "u=0 # m/s\n",
      "g=9.81 # m/s^2 # acc due to gravity\n",
      "\n",
      "# Calculations\n",
      "\n",
      "# Using eq'n the eq'n v^2-u^2=2*a*s, solving for v we get,\n",
      "v=sqrt((2*acc*s)+(u^2)) # m/s \n",
      "# Now solving eq'n 1 & 2 for t we get, (4.655*t^2)-(5*t)+(25)=0\n",
      "# Find the roots of the eq'n using the eq'n,t=(-b+sqrt(b^2-(4*a*c)))/(2*a).In this eq'n the values of a,b & c are,\n",
      "a=4.655\n",
      "b=-5\n",
      "c=-25\n",
      "t=(-b+((b**2)-(4*a*c))**0.5)/(2*a) # seconds\n",
      "\n",
      "# Let S_1 be the distance travelled by the elevator after it travels 25 m from top when the stone hits the elevator,This disance S_1 is given as,\n",
      "S_1=(v*t)+((1/2)*acc*t**2) # m\n",
      "\n",
      "# Let S be the total dist from top when the stone hits the elevator,\n",
      "S=S_1+s # m\n",
      "\n",
      "# Results\n",
      "\n",
      "print\"The time taken by the stone to hit the elevator is \",round(t,3),\"second\"\n",
      "print\"The distance (S)travelled by the elevator at the time of impact is \",round(S,2),\"m\"\n"
     ],
     "language": "python",
     "metadata": {},
     "outputs": [
      {
       "output_type": "stream",
       "stream": "stdout",
       "text": [
        "The time taken by the stone to hit the elevator is  2.916 second\n",
        "The distance (S)travelled by the elevator at the time of impact is  40.15 m\n"
       ]
      }
     ],
     "prompt_number": 48
    },
    {
     "cell_type": "heading",
     "level": 2,
     "metadata": {},
     "source": [
      "Example 14.14-9,Page No:343"
     ]
    },
    {
     "cell_type": "code",
     "collapsed": false,
     "input": [
      "import math\n",
      "\n",
      "# Initilization of variables\n",
      "\n",
      "v=60 # km/hr # velocity of the train\n",
      "d1=15 # km # Distance travelled by the local train from the velocity-time graph (here d1= Area OED)\n",
      "d2=12 # km # from the velocity-time graph (here d2= Area OABB')\n",
      "d3=3 # km # from the velocity-time graph (here d3= Area BB'C)\n",
      "\n",
      "# Calculations\n",
      "\n",
      "t_1=d2*v**-1 # hr # time of travel for first 12 kms\n",
      "t_2=(2*d3)*v**-1 # hr # time of for next 3 kms\n",
      "\n",
      "# Total time of travel for passenger train is given by eq'n\n",
      "t=t_1+t_2 # hr\n",
      "\n",
      "# Now time of travel of the local train (let it be T) is given as,\n",
      "T=2*t # hr\n",
      "V_max=2*d1/T # km/hr\n",
      "\n",
      "# Results\n",
      "\n",
      "print\"The maximum speed of the local train is \",round(V_max),\"km/hr\"\n"
     ],
     "language": "python",
     "metadata": {},
     "outputs": [
      {
       "output_type": "stream",
       "stream": "stdout",
       "text": [
        "The maximum speed of the local train is  50.0 km/hr\n"
       ]
      }
     ],
     "prompt_number": 65
    },
    {
     "cell_type": "heading",
     "level": 2,
     "metadata": {},
     "source": [
      "Example 14.14-10,Page No:345"
     ]
    },
    {
     "cell_type": "code",
     "collapsed": false,
     "input": [
      "import math\n",
      "\n",
      "# Initilization of variables\n",
      "\n",
      "a=10 # m/s^2 # acceleration of the particle\n",
      "S_5th=50 # m # distance travelled by the particle during the 5th second\n",
      "t=5 # seconds\n",
      "\n",
      "# Calculations\n",
      "\n",
      "# The distance travelled by the particle in time t is given by, S=(u*t)+(1/2)*a*t^2.....(consider this as eq'n 1)\n",
      "# Here, The distance travelled by the particle in the 5th second=The distance travelled in 5 seconds - The distance travelled in 4 seconds..... (consider eq'n 2)\n",
      "# Using eq'n 1: S_(0-5)=(5*u)+(1/2)*10*5^2 = 5*u+125.....(consider eq'n 3)\n",
      "# again, S_(0-4)=(4*u)+(1/2)*10*4^2 = 4*u+80....(consider eq'n 4)\n",
      "\n",
      "# Now,put eq'n 3&4 in eq'n 2 and solve for u. We get, 50=[(5*u+125)-(4*u+80)] i.e 50=u+45\n",
      "u=(S_5th)-45 # m/s\n",
      "\n",
      "# Results\n",
      "\n",
      "print\"The initial velocity of the particle is \",round(u),\"m/s\"\n"
     ],
     "language": "python",
     "metadata": {},
     "outputs": [
      {
       "output_type": "stream",
       "stream": "stdout",
       "text": [
        "The initial velocity of the particle is  5.0 m/s\n"
       ]
      }
     ],
     "prompt_number": 66
    },
    {
     "cell_type": "heading",
     "level": 2,
     "metadata": {},
     "source": [
      "Example 14.14-11,Page No:345"
     ]
    },
    {
     "cell_type": "code",
     "collapsed": false,
     "input": [
      "import math\n",
      "\n",
      "# Initilization of variables\n",
      "# Conditions given are\n",
      "t=1 # s\n",
      "x=14.75 # m\n",
      "v=6.33 # m/s\n",
      "# Calculations\n",
      "# We use expression 1,2 & 3 to find distance,velocity & acceleration of the particle after 2 sec\n",
      "T=2 # sec\n",
      "X=(T**4*12**-1)-(T**3*3**-1)+(T**2)+(5*T)+9 # m # eq'n 3\n",
      "V=(T**3*3**-1)-(T**2)+(2*T)+5 # m/s \n",
      "a=(T**2)-(2*T)+2 # m/s^2\n",
      "# Results\n",
      "\n",
      "print\"The distance travelled by the particle is \",round(X,2),\"m\"\n",
      "print\"The velocity of the particle is \",round(V,2),\"m/s\"\n",
      "print\"The acceleration of the particle is \",round(a),\"m/s^2\"\n",
      "# The answer may vary due to decimal point error\n"
     ],
     "language": "python",
     "metadata": {},
     "outputs": [
      {
       "output_type": "stream",
       "stream": "stdout",
       "text": [
        "The distance travelled by the particle is  21.67 m\n",
        "The velocity of the particle is  7.67 m/s\n",
        "The acceleration of the particle is  2.0 m/s^2\n"
       ]
      }
     ],
     "prompt_number": 4
    },
    {
     "cell_type": "heading",
     "level": 2,
     "metadata": {},
     "source": [
      "Example 14.14-12,Page No:346"
     ]
    },
    {
     "cell_type": "code",
     "collapsed": false,
     "input": [
      "import math\n",
      "\n",
      "# Calculations\n",
      "# From eq'n 2 it is clear that velocity of the particle becomes zero at t=3 sec\n",
      "t=3 # sec .. from eq'n 2\n",
      "# Position of particle at t=3 sec\n",
      "x=(t**3)-(3*t**2)-(9*t)+12 # m # from eq'n 1\n",
      "# Acc of particle at t=3 sec\n",
      "a=6*(t-1) # m/s^2 # from eq'n 3\n",
      "# Results\n",
      "\n",
      "print\"The time at which the velocity of the particle becomes zero is \",round(t),\"sec\"\n",
      "print\"The position of the partice at t=3 sec is \",round(x),\"m\"\n",
      "print\"The acceleration of the particle is \",round(a),\"m/s^2\"\n",
      "# Ref textbook for the  graphs\n"
     ],
     "language": "python",
     "metadata": {},
     "outputs": [
      {
       "output_type": "stream",
       "stream": "stdout",
       "text": [
        "The time at which the velocity of the particle becomes zero is  3.0 sec\n",
        "The position of the partice at t=3 sec is  -15.0 m\n",
        "The acceleration of the particle is  12.0 m/s^2\n"
       ]
      }
     ],
     "prompt_number": 5
    },
    {
     "cell_type": "heading",
     "level": 2,
     "metadata": {},
     "source": [
      "Example 14.14-15,Page No:354"
     ]
    },
    {
     "cell_type": "code",
     "collapsed": false,
     "input": [
      "import math\n",
      "\n",
      "#Initilization of variables\n",
      "\n",
      "F=250 # N # Force acting on a body\n",
      "m=100 # kg # mass of the body\n",
      "\n",
      "# Calculations\n",
      "\n",
      "# Using the eq'n of motion\n",
      "a=F*m**-1 # m/s^2 \n",
      "\n",
      "# Results\n",
      "\n",
      "print\"The acceleration of the body is \",round(a,2),\"m/s^2\"\n"
     ],
     "language": "python",
     "metadata": {},
     "outputs": [
      {
       "output_type": "stream",
       "stream": "stdout",
       "text": [
        "The acceleration of the body is  2.5 m/s^2\n"
       ]
      }
     ],
     "prompt_number": 70
    },
    {
     "cell_type": "heading",
     "level": 2,
     "metadata": {},
     "source": [
      "Example 14.14-16,Page No:354"
     ]
    },
    {
     "cell_type": "code",
     "collapsed": false,
     "input": [
      "import math\n",
      "\n",
      "# Initilization of variables\n",
      "\n",
      "a=1 # m/s^2 # downward/upward acceleration of the elevator\n",
      "W=500 # N # Weight of man\n",
      "g=9.81 # m/s^2 # acceleration due to gravity\n",
      "\n",
      "# Calculations\n",
      "\n",
      "# (a) Downward Motion \n",
      "R_1=W*(1-(a/g)) # N # (Assume pressure as R_1)\n",
      "\n",
      "# (b) Upward Motion\n",
      "R_2=W*(1+(a/g)) # N # (Assume pressure as R_2)\n",
      "\n",
      "# Results\n",
      "\n",
      "print\"(a) The pressure transmitted to the floor by the  man for Downward motion of the elevator is \",round(R_1),\"N\"\n",
      "print\"(b) The pressure transmitted to the floor by the  man for Upward motion of the elevator is \",round(R_2,2),\"N\"\n"
     ],
     "language": "python",
     "metadata": {},
     "outputs": [
      {
       "output_type": "stream",
       "stream": "stdout",
       "text": [
        "(a) The pressure transmitted to the floor by the  man for Downward motion of the elevator is  449.0 N\n",
        "(b) The pressure transmitted to the floor by the  man for Upward motion of the elevator is  550.97 N\n"
       ]
      }
     ],
     "prompt_number": 72
    },
    {
     "cell_type": "heading",
     "level": 2,
     "metadata": {},
     "source": [
      "Example 14.14-17,Page no:355"
     ]
    },
    {
     "cell_type": "code",
     "collapsed": false,
     "input": [
      "import math\n",
      "\n",
      "# Initilization of variables\n",
      "\n",
      "W=5000 # N # Total weight of the elevator\n",
      "u=0 # m/s\n",
      "v=2 # m/s # velocity of the elevator\n",
      "s=2 # m # distance traveled by the elevator\n",
      "t=2 # seconds # time to stop the lift\n",
      "w=600 # N # weight of the man\n",
      "g=9.81 # m/s^2 # acc due to gravity\n",
      "\n",
      "# Calculations\n",
      "\n",
      "# Acceleration acquired by the elevator after travelling 2 m is given by,\n",
      "a=(((v**2-u**2)**0.5/2)) # m/s^2\n",
      "\n",
      "# (a) Let T be the the tension in the cable which is given by eq'n,\n",
      "T=W*(1+(a/g)) # N\n",
      "\n",
      "# (b) Motion of man\n",
      "# Let R be the pressure experinced by the man.Then from the Eq'n of motion of man pressure is given as,\n",
      "R=w*(1-(a/g)) # N \n",
      "\n",
      "# Results\n",
      "\n",
      "print\"(a) The Tensile force in the cable is \",round(T,1),\"N\"\n",
      "print\"(b) The pressure transmitted to the floor by the man is \",round(R,1),\"N\"\n"
     ],
     "language": "python",
     "metadata": {},
     "outputs": [
      {
       "output_type": "stream",
       "stream": "stdout",
       "text": [
        "(a) The Tensile force in the cable is  5509.7 N\n",
        "(b) The pressure transmitted to the floor by the man is  538.8 N\n"
       ]
      }
     ],
     "prompt_number": 83
    },
    {
     "cell_type": "heading",
     "level": 2,
     "metadata": {},
     "source": [
      "Example 14.14-18,Page No:355"
     ]
    },
    {
     "cell_type": "code",
     "collapsed": false,
     "input": [
      "import math\n",
      "\n",
      "# Initilization of variables\n",
      "\n",
      "M_1=10 # kg # mass of the 1st block\n",
      "M_2=5 # kg # mass of the 2nd block\n",
      "mu=0.25 # coefficient of friction between the blocks and the surface\n",
      "g=9.81 # m/s^2 # acc due to gravity\n",
      "\n",
      "# Calculations\n",
      "a=g*(M_2-(mu*M_1))/(M_1+M_2) # m/s^2 # from eq'n 5\n",
      "T=M_1*M_2*g*(1+mu)/(M_1+M_2) # N # from eq'n 6\n",
      "\n",
      "# Results\n",
      "\n",
      "print\"The acceleration of the masses is \",round(a,3),\"m/s^2\"\n",
      "print\"The tension in the string is \",round(T,3),\"N\"\n"
     ],
     "language": "python",
     "metadata": {},
     "outputs": [
      {
       "output_type": "stream",
       "stream": "stdout",
       "text": [
        "The acceleration of the masses is  1.635 m/s^2\n",
        "The tension in the string is  40.875 N\n"
       ]
      }
     ],
     "prompt_number": 85
    },
    {
     "cell_type": "heading",
     "level": 2,
     "metadata": {},
     "source": [
      "Example 14.14-19,Page No:357"
     ]
    },
    {
     "cell_type": "code",
     "collapsed": false,
     "input": [
      "import math\n",
      "\n",
      "# Initilization of variables\n",
      "\n",
      "M_1=150 # kg # mass of the 1st block\n",
      "M_2=100 # kg # mass of the 2nd block\n",
      "mu=0.2 # coefficient of friction between the blocks and the inclined plane\n",
      "g=9.81 # m/s^2 # acc due to gravity\n",
      "theta=45 # degree # inclination of the surface\n",
      "\n",
      "# Calculations\n",
      "\n",
      "# substuting the value of eq'n 3 in eq'n 1 & solving for T,we get value of T as,\n",
      "T=((M_1*M_2*g)*(sin(theta*(pi/180))+2-(mu*cos(theta*(pi/180)))))/((4*M_1)+(M_2)) # N\n",
      "\n",
      "# Results\n",
      "\n",
      "print\"The tension in the string during the motion of the system is \",round(T,1),\"N\"\n"
     ],
     "language": "python",
     "metadata": {},
     "outputs": [
      {
       "output_type": "stream",
       "stream": "stdout",
       "text": [
        "The tension in the string during the motion of the system is  539.3 N\n"
       ]
      }
     ],
     "prompt_number": 87
    },
    {
     "cell_type": "heading",
     "level": 2,
     "metadata": {},
     "source": [
      "Example 14.14-20,Page No:358"
     ]
    },
    {
     "cell_type": "code",
     "collapsed": false,
     "input": [
      "import math\n",
      "\n",
      "# Initilization of variables\n",
      "\n",
      "M_1=5 # kg # mass of the 1st block\n",
      "theta_1=30 # degree # inclination of the 1st plane\n",
      "M_2=10 # kg # mass of the 2nd block\n",
      "theta_2=60 # degree # inclination of the 2nd plane\n",
      "mu=0.33 # coefficient of friction between the blocks and the inclined plane\n",
      "g=9.81 # m/s^2 # acc due to gravity\n",
      "\n",
      "# Calculations\n",
      "\n",
      "# solving eq'n 1 & 2 for a we get,\n",
      "a=((((M_2*(sin(theta_2*(pi/180))-(mu*cos(theta_2*(pi/180)))))-(M_1*(sin(theta_1*(pi/180))+(mu*cos(theta_1*(pi/180)))))))*g)/(M_1+M_2) # m/s^2\n",
      "\n",
      "# Results\n",
      "\n",
      "print\"The acceleration of the masses is \",round(a,3),\"m/s^2\"\n"
     ],
     "language": "python",
     "metadata": {},
     "outputs": [
      {
       "output_type": "stream",
       "stream": "stdout",
       "text": [
        "The acceleration of the masses is  2.015 m/s^2\n"
       ]
      }
     ],
     "prompt_number": 89
    },
    {
     "cell_type": "heading",
     "level": 2,
     "metadata": {},
     "source": [
      "Example 14.14-21,Page No:359"
     ]
    },
    {
     "cell_type": "code",
     "collapsed": false,
     "input": [
      "import math\n",
      "\n",
      "# Initilization of variables\n",
      "\n",
      "S=5 # m # distance between block A&B\n",
      "mu_A=0.2 # coefficient of friction between the block A and the inclined plane\n",
      "mu_B=0.1 # coefficient of friction between the block B and the inclined plane\n",
      "theta=20 # degree # inclination of the pane\n",
      "g=9.81 # m/s^2 # acc due to gravity\n",
      "\n",
      "# Calculatio#\n",
      "\n",
      "# EQUATION OF MOTION OF BLOCK A:\n",
      "# Let a_A & a_B be the acceleration of block A & B.\n",
      "a_A=(g*sin(theta*(pi/180)))-(mu_A*g*cos(theta*(pi/180))) # m/s^2 # from eq'n 1 & eq'n 2\n",
      "\n",
      "# EQUATION OF MOTION OF BLOCK B:\n",
      "a_B=g*((sin(theta*(pi/180)))-(mu_B*cos(theta*(pi/180)))) # m/s^2 # from eq'n 3 & Rb\n",
      "\n",
      "# Now the eq'n for time of collision of the blocks is given as,\n",
      "t=((S*2)/(a_B-a_A))**0.5 # seconds \n",
      "S_A=(0.5)*a_A*t**2 # m # distance travelled by block A\n",
      "S_B=(0.5)*a_B*t**2 # m # distance travelled by block B\n",
      "\n",
      "# Results\n",
      "\n",
      "print\"The time before collision is \",round(t,2),\"seconds\"\n",
      "print\"The distance travelled by block A before collision is \",round(S_A,2),\"m\"\n",
      "print\"The distance travelled by block B before collision is \",round(S_B,2),\"m\"\n"
     ],
     "language": "python",
     "metadata": {},
     "outputs": [
      {
       "output_type": "stream",
       "stream": "stdout",
       "text": [
        "The time before collision is  3.29 seconds\n",
        "The distance travelled by block A before collision is  8.2 m\n",
        "The distance travelled by block B before collision is  13.2 m\n"
       ]
      }
     ],
     "prompt_number": 96
    },
    {
     "cell_type": "heading",
     "level": 2,
     "metadata": {},
     "source": [
      "Example 14.14-22,Page No:361"
     ]
    },
    {
     "cell_type": "code",
     "collapsed": false,
     "input": [
      "import math\n",
      "\n",
      "# Initilization of variables\n",
      "\n",
      "P=50 # N # Weight of the car\n",
      "Q=100 # N # Weight of the rectangular block\n",
      "g=9.81 # m/s^2 # acc due to gravity\n",
      "b=25 # cm # width of the rectangular block\n",
      "d=50 # cm # depth of the block\n",
      "\n",
      "# Calculations\n",
      "\n",
      "a=(Q*g)/(4*P+2*Q) # m/s^2 # from eq'n 4\n",
      "W=(Q*(P+Q))/(4*P+Q) # N # from eq'n 6\n",
      "\n",
      "# Resuts\n",
      "\n",
      "print\"The maximum value of weight (W) by which the car can be accelerated is \",round(W),\"N\"\n",
      "print\"The acceleration is \",round(a,2),\"m/s^2\"\n"
     ],
     "language": "python",
     "metadata": {},
     "outputs": [
      {
       "output_type": "stream",
       "stream": "stdout",
       "text": [
        "The maximum value of weight (W) by which the car can be accelerated is  50.0 N\n",
        "The acceleration is  2.45 m/s^2\n"
       ]
      }
     ],
     "prompt_number": 99
    },
    {
     "cell_type": "heading",
     "level": 2,
     "metadata": {},
     "source": [
      "Example 14.14-23,Page No:363"
     ]
    },
    {
     "cell_type": "code",
     "collapsed": false,
     "input": [
      "import math\n",
      "\n",
      "# Initilization of variables\n",
      "\n",
      "P=40 # N # weight on puley r_1\n",
      "Q=60 # N # weight on pulley r_2\n",
      "g=9.81 # m/s^2 # acc due to gravity\n",
      "\n",
      "# Calculations\n",
      "\n",
      "# The eq'n for acceleration of pulley Pi.e a_p is,\n",
      "a_p=(2*P-Q)*(4*P+Q)**-1*2*g # m/s^2\n",
      "\n",
      "# Results\n",
      "\n",
      "print\"The downward acceleration of P is \",round(a_p,3),\"m/s^2\"\n"
     ],
     "language": "python",
     "metadata": {},
     "outputs": [
      {
       "output_type": "stream",
       "stream": "stdout",
       "text": [
        "The downward acceleration of P is  1.784 m/s^2\n"
       ]
      }
     ],
     "prompt_number": 112
    },
    {
     "cell_type": "heading",
     "level": 2,
     "metadata": {},
     "source": [
      "Example 14.14-24,Page No:364"
     ]
    },
    {
     "cell_type": "code",
     "collapsed": false,
     "input": [
      "import math\n",
      "\n",
      "# Initilization of variables\n",
      "\n",
      "M=15 # kg # mass of the wedge\n",
      "m=6 # kg # mass of the block\n",
      "theta=30 # degree # angle of the wedge\n",
      "g=9.81 # m/s^2 # acc due to gravity\n",
      "\n",
      "# Calculations\n",
      "\n",
      "a_A=((m*g*cos(theta*(pi/180))*sin(theta*(pi/180)))/((M)+(m*(sin(theta*(pi/180)))**2)))/(g) # g # By eliminating R_1 from eq'n 1&3.\n",
      "\n",
      "# Here, assume a_r is the acceleration of block B relative to wedge A which is given by substuting a_A in eq'n 2\n",
      "\n",
      "a_r=(((g*sin(theta*(pi/180)))*(m+M))/((M)+(m*(sin(theta*(pi/180)))**2)))/(g) # g\n",
      "\n",
      "# Results\n",
      "\n",
      "print\"(a) The acceleration of the wedge is \",round(a_A,3),\"g\"\n",
      "print\"(b) The acceleration of the bock relative to the wedge is \",round(a_r,3),\"g\"\n"
     ],
     "language": "python",
     "metadata": {},
     "outputs": [
      {
       "output_type": "stream",
       "stream": "stdout",
       "text": [
        "(a) The acceleration of the wedge is  0.157 g\n",
        "(b) The acceleration of the bock relative to the wedge is  0.636 g\n"
       ]
      }
     ],
     "prompt_number": 114
    },
    {
     "cell_type": "heading",
     "level": 2,
     "metadata": {},
     "source": [
      "Example 14.14-25,Page No:366"
     ]
    },
    {
     "cell_type": "code",
     "collapsed": false,
     "input": [
      "import math\n",
      "import numpy as np\n",
      "\n",
      "# Initilization of variables\n",
      "\n",
      "P=30 # N # weight on pulley A\n",
      "Q=20 # N # weight on pulley B\n",
      "R=10 # N # weight on puey B\n",
      "g=9.81 # m/s^2 # acc due to gravity\n",
      "\n",
      "# Calculations\n",
      "\n",
      "# Solving eqn's 6 & 7 using matrix for a & a_1, we get\n",
      "A=np.array([[70 ,-40],[-10, 30]])\n",
      "B=np.array([10,-10])\n",
      "C=np.linalg.solve(A,B)\n",
      "\n",
      "# Acceleration of P is given as,\n",
      "P=C[0] # m/s^2\n",
      "# Acceleration of Q is given as,\n",
      "Q=C[1]-C[0] # m/s^2\n",
      "# Acceleration of R is given as,\n",
      "R=-(C[1]+C[0]) # m/s^2 # as R is taken to be +ve\n",
      "\n",
      "# Results\n",
      "\n",
      "print\"The acceleration of P is  \",round(P,2),\"g\"\n",
      "print\"The acceleration of Q is  \",round(Q,2),\"g\"\n",
      "print\"The acceleration of R is \",round(R,2),\"g\"\n",
      "# Here the -ve sign indicates deceleration or backward/downward acceleation.\n"
     ],
     "language": "python",
     "metadata": {},
     "outputs": [
      {
       "output_type": "stream",
       "stream": "stdout",
       "text": [
        "The acceleration of P is   -0.06 g\n",
        "The acceleration of Q is   -0.29 g\n",
        "The acceleration of R is  0.41 g\n"
       ]
      }
     ],
     "prompt_number": 2
    },
    {
     "cell_type": "heading",
     "level": 2,
     "metadata": {},
     "source": [
      "Example 14.14-30,Page No:372"
     ]
    },
    {
     "cell_type": "code",
     "collapsed": false,
     "input": [
      "import math\n",
      "\n",
      "# Initilization of variables\n",
      "\n",
      "W=1 # kg/m # weight of the bar\n",
      "L_AB=0.6 # m # length of segment AB\n",
      "L_BC=0.30 # m # length of segment BC\n",
      "g=9.81 # m/s^2 # acc due to gravity\n",
      "\n",
      "# Calculations\n",
      "\n",
      "# Consider the respective F.B.D.\n",
      "theta_1=arctan(5/12)*(180/pi) # slope of bar AB # here theta_1= atan(theta)\n",
      "theta_2=arcsin(5/13)*(180/pi) # theta_2=asin(theta)\n",
      "theta_3=arccos(12/13)*(180/pi) # theta_3=acos(theta)\n",
      "M_AB=L_AB*W # kg acting at D # Mass of segment AB\n",
      "M_BC=L_BC*W # kg acting at E # Mass of segment BC\n",
      "\n",
      "# The various forces acting on the bar are:\n",
      "\n",
      "# Writing the eqn's of dynamic equilibrium\n",
      "Y_A=(L_AB*g)+(L_BC*g) # N # sum F_y=0\n",
      "\n",
      "# Using moment eq'n Sum M_A=0:Here,in this eq'n the values are as follows,\n",
      "AF=L_BC*cos(theta_3) \n",
      "DF=L_BC*sin(theta_2)\n",
      "AH=(L_AB*cos(theta_3))+((L_BC/2)*sin(theta_2))\n",
      "IG=(L_AB*sin(theta_2)-((L_BC/2)*cos(theta_3)))\n",
      "\n",
      "# On simplifying and solving moment eq'n we get a as,\n",
      "a=(g*(L_AB*(DF)+L_BC*(IG)))*(L_AB*(AF)+L_BC*(AH))**-1\n",
      "#a=(2*L_AB*L_BC*g*sin(theta_2))-(L_BC*g*(L_BC/2)*cos(theta_3))/((2*L_AB*L_BC*cos(theta_3*(pi/180)))+(L_BC*(L_BC/2)*sin(theta_2*(pi/180)))) # m/s^2\n",
      "X_A=0.9*a #N # from eq'n of dynamic equilibrium\n",
      "R_A=(X_A**2+Y_A**2)**0.5 # N # Resultant of R_A\n",
      "alpha=arctan(Y_A/X_A)*(180/pi) # degree\n",
      "\n",
      "# Results\n",
      "\n",
      "print\"The acceleration is \",round(a,4),\"m/s^2\"\n",
      "print\"The reaction at A (R_A) is \",round(R_A,3),\"N\"\n",
      "print\"The angle made by the resultant is \",round(alpha,2),\"degree\"\n"
     ],
     "language": "python",
     "metadata": {},
     "outputs": [
      {
       "output_type": "stream",
       "stream": "stdout",
       "text": [
        "The acceleration is  -1.2263 m/s^2\n",
        "The reaction at A (R_A) is  8.898 N\n",
        "The angle made by the resultant is  -82.87 degree\n"
       ]
      }
     ],
     "prompt_number": 44
    },
    {
     "cell_type": "code",
     "collapsed": false,
     "input": [],
     "language": "python",
     "metadata": {},
     "outputs": []
    }
   ],
   "metadata": {}
  }
 ]
}