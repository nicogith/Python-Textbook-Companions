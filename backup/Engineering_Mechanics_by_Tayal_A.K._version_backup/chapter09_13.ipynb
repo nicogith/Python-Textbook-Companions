{
 "metadata": {
  "name": "chapter09.ipynb"
 },
 "nbformat": 3,
 "nbformat_minor": 0,
 "worksheets": [
  {
   "cells": [
    {
     "cell_type": "heading",
     "level": 1,
     "metadata": {},
     "source": [
      "Chapter 9: Analysis Of Plane Trusses And Frames"
     ]
    },
    {
     "cell_type": "heading",
     "level": 2,
     "metadata": {},
     "source": [
      "Example 9.9-1,Page No:198"
     ]
    },
    {
     "cell_type": "code",
     "collapsed": false,
     "input": [
      "import math\n",
      "\n",
      "# Initilization of variables\n",
      "\n",
      "W1=2000 #N # load at joint D of the truss\n",
      "W2=4000 #N # load at joint E of the truss\n",
      "Lac=6 #m # length of the tie\n",
      "Lab=3 #m\n",
      "Lbc=3 #m\n",
      "theta=60 #degree # interior angles of the truss\n",
      "\n",
      "# Calculations\n",
      "\n",
      "# Here A is simply supported & B is  roller support. Now the SUPPORT REACTIONS are given as,\n",
      "Rc=((W1*(Lab*0.5))+(W2*(Lab+(Lbc*0.5))))/Lac #N # Taking moment at A\n",
      "Ra=W1+W2-Rc #N # Take sum Fy=0\n",
      "\n",
      "# ANALYSIS OF TRUSS BY METHOD OF JOINT\n",
      "# ASSUMPTION- we consider the,(1) Forces moving towards each other as +ve i.e TENSILE (T) & (2) Forces moving away from each other as -ve i.e COMPRESSIVE (C)\n",
      "\n",
      "# (1) JOINT A\n",
      "Fad=Ra/(sin(theta*(pi/180))) #N #(C) # Using eq'n 2\n",
      "Fab=Fad*cos(theta*(pi/180)) #N # (T) # Using eq'n 1\n",
      "\n",
      "# (2) JOINT C\n",
      "Fce=Rc/(sin(theta*(pi/180))) #N # (C) # Using eq'n 4\n",
      "Fcb=Fce*cos(theta*(pi/180)) #N # (T) # Using eq'n 3\n",
      "\n",
      "# (3) JOINT D\n",
      "Fdb=((Fad*sin(theta*(pi/180)))-(W1))/sin(theta*(pi/180)) #N  # (T) # Using eq'n 6\n",
      "Fde=(Fdb*cos(theta*(pi/180)))+(Fad*cos(theta*(pi/180))) #N # (C) # Using eq'n 5\n",
      "\n",
      "# (4) JOINT E\n",
      "Feb=((Fce*cos(theta*(pi/180)))-(Fde))/cos(theta*(pi/180)) #N # (C) # Using eq'n 7\n",
      "\n",
      "# Results\n",
      "\n",
      "print\"The Axial Force in member AD (Fad) is \",round(Fad),\"N\"\n",
      "print\"The Axial Force in member AB (Fab) is \",round(Fab),\"N\"\n",
      "print\"The Axial Force in member CE (Fce) is \",round(Fce),\"N\"\n",
      "print\"The Axial Force in member CB (Fcb) is \",round(Fcb,1),\"N\"\n",
      "print\"The Axial Force in member DB (Fdb) is \",round(Fdb),\"N\"\n",
      "print\"The Axial Force in member DE  (Fde)is \",round(Fde),\"N\"\n",
      "print\"The Axial Force in member EB (Feb) is \",round(Feb),\"N\"\n"
     ],
     "language": "python",
     "metadata": {},
     "outputs": [
      {
       "output_type": "stream",
       "stream": "stdout",
       "text": [
        "The Axial Force in member AD (Fad) is  2887.0 N\n",
        "The Axial Force in member AB (Fab) is  1443.0 N\n",
        "The Axial Force in member CE (Fce) is  4041.0 N\n",
        "The Axial Force in member CB (Fcb) is  2020.7 N\n",
        "The Axial Force in member DB (Fdb) is  577.0 N\n",
        "The Axial Force in member DE  (Fde)is  1732.0 N\n",
        "The Axial Force in member EB (Feb) is  577.0 N\n"
       ]
      }
     ],
     "prompt_number": 4
    },
    {
     "cell_type": "heading",
     "level": 2,
     "metadata": {},
     "source": [
      "Example 9.9-2,Page No:201"
     ]
    },
    {
     "cell_type": "code",
     "collapsed": false,
     "input": [
      "import math\n",
      "\n",
      "# Initilization of variables\n",
      "\n",
      "W1=2000 #N (or 2 kN)# load at joint D of the truss\n",
      "W2=4000 #N (or 4 kN)# load at joint E of the truss\n",
      "Lac=6 #m # length of the tie\n",
      "Lab=3 #m\n",
      "Lbc=3 #m\n",
      "theta=60 #degree # interior angles of the truss\n",
      "\n",
      "# Calculations\n",
      "\n",
      "# Here A is simply supported & B is  roller support. Now the SUPPORT REACTIONS are given as,\n",
      "Rc=((W1*(Lab*0.5))+(W2*(Lab+(Lbc*0.5))))/Lac #N # Taking moment at A\n",
      "Ra=W1+W2-Rc #N # Take sum Fy=0\n",
      "\n",
      "# Calculations\n",
      "\n",
      "# Calculating the axial forces in the respective members by METHOD OF SECTION\n",
      "# A section is drawn passing through member DE such that it cuts the respective member. Now consider the equilibrium of the left hand portion of the truss. The three unknown forces are Fde, Fdb, & Fab\n",
      "# Take moment about B\n",
      "Fde=((3*Ra)-(W1*Lab*sin(30*(pi/180))))/(3*cos(30*(pi/180))) #N # (T)\n",
      "\n",
      "# Results\n",
      "\n",
      "print\"The axial force in the member DE (Fde)is \",round(Fde),\"N\"\n"
     ],
     "language": "python",
     "metadata": {},
     "outputs": [
      {
       "output_type": "stream",
       "stream": "stdout",
       "text": [
        "The axial force in the member DE (Fde)is  1732.0 N\n"
       ]
      }
     ],
     "prompt_number": 7
    },
    {
     "cell_type": "heading",
     "level": 2,
     "metadata": {},
     "source": [
      "Example 9.9-3,Page No:202"
     ]
    },
    {
     "cell_type": "code",
     "collapsed": false,
     "input": [
      "import math\n",
      "\n",
      "# Initilization of variables\n",
      "\n",
      "W=1 #kN # load on the truss at joint D\n",
      "theta=45 #degree # angle made by the members AC & BD with the horizontal\n",
      "Lab=1 #m \n",
      "Lcd=1 #m # here Lcd= the distance from B to the line of extension drawn from 1kN force on the horizontal\n",
      "\n",
      "# Calculations \n",
      "\n",
      "# (1) JOINT E\n",
      "# Here the joint E is in equilibrium under two forces Fec & Fed which are non-collinear. Hence they must be 0. i.e Fec=Fed=0 \n",
      "Fec=0\n",
      "Fed=0\n",
      "\n",
      "# (2) JOINT D\n",
      "Fdb=W/sin(theta*(pi/180)) # kN # (C)# sum Fy=0\n",
      "Fdc=Fdb*cos(theta*(pi/180)) # kN # (T) # sum Fx=0\n",
      "\n",
      "# (3) JOINT C\n",
      "Fca=Fdc/sin(theta*(pi/180)) # kN # (T) # sum Fx=0\n",
      "Fcb=-(Fca*sin(theta*(pi/180))) # kN # (C) # sum Fy=0\n",
      "\n",
      "# Results\n",
      "\n",
      "print\"The axial force in the member DC (Fdc) is \",round(Fdc),\"kN\"\n",
      "print\"The axial force in the member DB (Fdb) is \",round(Fdb),\"kN\"\n",
      "print\"The axial force in the member CA (Fca) is \",round(Fca,2),\"kN\" #squareroot of 2 =1.41\n",
      "print\"The axial force in the member CB (Fcb) is \",round(Fcb),\"kN\"\n",
      "print\"The axial force in the member EC (Fec) is \",round(Fec),\"kN\"\n",
      "print\"The axial force in the member ED (Fed) is \",round(Fed),\"kN\"\n",
      "# Here -ve sign indicates COMPRESSIVE force & +ve indicates TENSILE force\n"
     ],
     "language": "python",
     "metadata": {},
     "outputs": [
      {
       "output_type": "stream",
       "stream": "stdout",
       "text": [
        "The axial force in the member DC (Fdc) is  1.0 kN\n",
        "The axial force in the member DB (Fdb) is  1.0 kN\n",
        "The axial force in the member CA (Fca) is  1.41 kN\n",
        "The axial force in the member CB (Fcb) is  -1.0 kN\n",
        "The axial force in the member EC (Fec) is  0.0 kN\n",
        "The axial force in the member ED (Fed) is  0.0 kN\n"
       ]
      }
     ],
     "prompt_number": 9
    },
    {
     "cell_type": "heading",
     "level": 2,
     "metadata": {},
     "source": [
      "Example 9.9-5,Page No:206"
     ]
    },
    {
     "cell_type": "code",
     "collapsed": false,
     "input": [
      "import math\n",
      "\n",
      "# Initilization of variables\n",
      "\n",
      "W1=1000 #N # Load acting at the end pannels and the ridge\n",
      "W2=2000 #N # Load acting at the intermidiate pannels\n",
      "Laf=1 #m\n",
      "Lgf=1 #m\n",
      "Lag=2 #m\n",
      "Lbg=1 #m\n",
      "Lab=3 #m\n",
      "theta=30 #degree # angle made by the principal rafter with the tie beam\n",
      "beta=60 #degree # angle made by the slings (i.e members CF & CG) with the tie beam\n",
      "\n",
      "# Calculations\n",
      "\n",
      "# consider the equilibrium of the entire truss as a F.B.D\n",
      "Xa=2*(W1*sin(theta*(pi/180)))+(W2*sin(theta*(pi/180))) #N # sum Fx=0\n",
      "Rb=((W2*Laf*cos(theta*(pi/180)))+(W1*Lag*cos(theta*(pi/180))))/Lab # N # Moment at A=0\n",
      "Ya=2*(W1*cos(theta*(pi/180)))+(W2*cos(theta*(pi/180)))-(Rb) #N # sum Fy=0\n",
      "\n",
      "# Now pass a section through the truss such that it cuts the members CE,CG & FG. Now consider the equilibrium of the right hand side of the truss\n",
      "\n",
      "# Take moment about C\n",
      "Ffg=(Rb*(Lbg+0.5))/(0.5*tan(beta*(pi/180))) # N # (T) # Here 0.5 is the half distance of Lgf\n",
      "\n",
      "# Take moment about G\n",
      "Fce=(-Rb*Lbg)/(Lbg*sin(theta*(pi/180))) # N # (C)\n",
      "\n",
      "# Take moment about B\n",
      "Fcg=0/(Lbg*sin(beta*(pi/180))) # N\n",
      "\n",
      "# Results \n",
      "\n",
      "print\"The axial force in the member FG (Ffg) is \",round(Ffg),\"N\"\n",
      "print\"The axial force in the member CE (Fce) is \",round(Fce),\"N\"\n",
      "print\"The axial force in the member CG (Fcg) is \",round(Fcg),\"N\"\n"
     ],
     "language": "python",
     "metadata": {},
     "outputs": [
      {
       "output_type": "stream",
       "stream": "stdout",
       "text": [
        "The axial force in the member FG (Ffg) is  2000.0 N\n",
        "The axial force in the member CE (Fce) is  -2309.0 N\n",
        "The axial force in the member CG (Fcg) is  0.0 N\n"
       ]
      }
     ],
     "prompt_number": 11
    },
    {
     "cell_type": "heading",
     "level": 2,
     "metadata": {},
     "source": [
      "Example 9.9-6,Page No:208"
     ]
    },
    {
     "cell_type": "code",
     "collapsed": false,
     "input": [
      "import math\n",
      "\n",
      "# Initilization of variables\n",
      "\n",
      "W1=100 #N # load acting at pt. C vertically\n",
      "W2=50 #N # load acting at point B horizontaly\n",
      "L=2 #m # length of each bar in the hexagonal truss\n",
      "theta=60 #degree # internal angle of the truss\n",
      "\n",
      "# Calculations\n",
      "\n",
      "# We calculate the values of different members of the truss\n",
      "HG=L*sin(theta*(pi/180))\n",
      "AF=L\n",
      "\n",
      "# Support A is hinged whereas support F is a roller support. Firstly we find the support reactios as follows,\n",
      "Rf=(W2*HG)/AF #N # moment at F\n",
      "Xa=W2 #N # sum Fx=0\n",
      "Ya=W1-Rf #N # sum Fy=0\n",
      "\n",
      "# Now pass a section through the truss cutting the members CD,GD,GE & GF and consider equilibrium of right hand portion of the truss\n",
      "Fcd=(Rf*(L/2))/(L*sin(theta*(pi/180))) # N (C) # Taking moment about G\n",
      "\n",
      "# Now pass a scetion pq cutting the members CB,GB & GA\n",
      "Fga=((Rf*(L+(L/2)))-(W1*(L/2)))/(L*sin(theta*(pi/180))) # N (T) # Taking moment about B\n",
      "\n",
      "# take moment about G\n",
      "Fcb=((W1*(L/2))+(Rf*(L/2)))/(L*sin(theta*(pi/180))) # N (C)\n",
      "Fgb=(Fcb*cos(theta*(pi/180)))-(Fga*cos(theta*(pi/180))) # N (T) # sum Fx=0\n",
      "\n",
      "# Results\n",
      "\n",
      "print\"The axial force in the member CD (Fcd) is \",round(Fcd),\"N\"\n",
      "print\"The axial force in the member GB (Fgb) is \",round(Fgb,2),\"N\"\n"
     ],
     "language": "python",
     "metadata": {},
     "outputs": [
      {
       "output_type": "stream",
       "stream": "stdout",
       "text": [
        "The axial force in the member CD (Fcd) is  25.0 N\n",
        "The axial force in the member GB (Fgb) is  32.74 N\n"
       ]
      }
     ],
     "prompt_number": 13
    },
    {
     "cell_type": "heading",
     "level": 2,
     "metadata": {},
     "source": [
      "Example 9.9-10,Page No:214"
     ]
    },
    {
     "cell_type": "code",
     "collapsed": false,
     "input": [
      "import math\n",
      "\n",
      "# Initilization of variables\n",
      "\n",
      "W=24 # kN # Load acting at pt C\n",
      "Laf=12 # m # length of the tie beam\n",
      "l=4 # m# length of each member in the tie\n",
      "h=3 # m # height of the slings\n",
      "Lae=8 # m\n",
      "\n",
      "# Calculations\n",
      "\n",
      "s=((l**2)+(h**2))**0.5 # m # sloping length \n",
      "\n",
      "# From triangle BCD,\n",
      "theta=arccos(h/s)*(180/pi)\n",
      "\n",
      "# SUPPORT REACTIONS\n",
      "Rf=(W*l)/Laf # kN # take moment at A\n",
      "Ra=W-Rf # kN # sum Fy=0\n",
      "\n",
      "# now pass a sectio mn through the truss and consider te equilibrium of the left hand portion \n",
      "Fce=(Ra*l)*h**-1 # kN (T) # Take moment at B\n",
      "\n",
      "Fbd=((W*l)-(Ra*Lae))*h**-1 # kN (C) # take moment at E\n",
      "\n",
      "Fbe=(Ra-W)*(cos(theta*(pi/180)))**-1 # kN\n",
      "\n",
      "Fbd2=(-Ra*l)*h**-1 # kN # take moment at C\n",
      "\n",
      "Fce2= ((Ra*Lae)-(W*l))*h**-1# kN (T) # take moment at D\n",
      "\n",
      "Fcd=(W-Ra)*(cos(theta*(pi/180)))**-1 # kN (T) # sum Fy=0\n",
      "\n",
      "# Resuts\n",
      "\n",
      "print\"(1) The axial force in the bar CE (Fce) is \",round(Fce,2),\"kN\" \n",
      "print\"(2) The axial force in the bar BD (Fbd) is \",round(Fbd,3),\"kN\"#answer in textbook is wrong \n",
      "print\"(3) The axial force in the bar BE (Fbe) is \",round(Fbe,2),\"kN\" \n",
      "print\"(4) The axial force in the bar CE (Fce) is \",round(Fce2,2),\"kN\"#answer in textbook is wrong \n",
      "print\"(5) The axial force in the bar BD (Fbd) is \",round(Fbd2,3),\"kN\" \n",
      "print\"(6) The axial force in the bar CD (Fcd) is \",round(Fcd,2),\"kN\"\n"
     ],
     "language": "python",
     "metadata": {},
     "outputs": [
      {
       "output_type": "stream",
       "stream": "stdout",
       "text": [
        "(1) The axial force in the bar CE (Fce) is  21.33 kN\n",
        "(2) The axial force in the bar BD (Fbd) is  -10.667 kN\n",
        "(3) The axial force in the bar BE (Fbe) is  -13.33 kN\n",
        "(4) The axial force in the bar CE (Fce) is  10.67 kN\n",
        "(5) The axial force in the bar BD (Fbd) is  -21.333 kN\n",
        "(6) The axial force in the bar CD (Fcd) is  13.33 kN\n"
       ]
      }
     ],
     "prompt_number": 4
    },
    {
     "cell_type": "heading",
     "level": 2,
     "metadata": {},
     "source": [
      "Example 9.9-12,Page No:224"
     ]
    },
    {
     "cell_type": "code",
     "collapsed": false,
     "input": [
      "import math\n",
      "\n",
      "# Initilization of variables\n",
      "\n",
      "W1=4 # kN # load acting at a distance of 5 m from C\n",
      "W2=3 # kN # load acting at a distance of 7.5 m from C\n",
      "L=30 #m # distance AB\n",
      "L1=15 # dist AC\n",
      "L2=15 #m #dist BC\n",
      "l1=10 #m # distance between A and 4 kN load\n",
      "l2=22.5 #m # distance between A and 3 kN load\n",
      "\n",
      "# Calculations\n",
      "\n",
      "# (1) Reactions\n",
      "Yb=((W1*l1)+(W2*l2))/L # kN # Take moment at A\n",
      "Ya=W1+W2-Yb # kN # sum Fy=0\n",
      "\n",
      "# Xa=Xb........(eq'n 1)   // sum Fx=0\n",
      "# (2) Dismember\n",
      "# Member AC. Consider equilibrium of member AC\n",
      "# Xa=Xc ... Consider thus as eq'n 2 // sum Fx=0\n",
      "Yc=W1-Ya # kN # sum Fy=0\n",
      "# Take moment about A\n",
      "Xc=((W1*l1)-(Yc*L1))/L1 # kN \n",
      "\n",
      "# now from eq'n 1 & 2\n",
      "Xa=Xc # kN\n",
      "Xb=Xa # kN\n",
      "\n",
      "# The components of reactions at A & B are,\n",
      "Ra=(Xa**2+Ya**2)**0.5 # kN\n",
      "Rb=(Xb**2+Yb**2)**0.5 # kN\n",
      "\n",
      "# Results\n",
      "\n",
      "print\"The reaction at A ( Ra) is \",round(Ra,2),\"kN\"\n",
      "print\"The reaction at B ( Rb) is \",round(Rb,2),\"kN\"\n"
     ],
     "language": "python",
     "metadata": {},
     "outputs": [
      {
       "output_type": "stream",
       "stream": "stdout",
       "text": [
        "The reaction at A ( Ra) is  4.0 kN\n",
        "The reaction at B ( Rb) is  4.14 kN\n"
       ]
      }
     ],
     "prompt_number": 35
    },
    {
     "cell_type": "heading",
     "level": 2,
     "metadata": {},
     "source": [
      "Example 9.9-13,Page No:225"
     ]
    },
    {
     "cell_type": "code",
     "collapsed": false,
     "input": [
      "import math\n",
      "\n",
      "# Initilization of variables\n",
      "\n",
      "W1=2 # kN # load acting at a distance of 1m from point A\n",
      "W2=1 # kN # load acting at a distance of 1m from point B\n",
      "theta=30 # degree\n",
      "L=4 # m # length of the tie beam\n",
      "l=1 #m # length of each member in the tie\n",
      "\n",
      "# Calculations\n",
      "\n",
      "# (a) Reactions\n",
      "Yb=((W1*l)+(W2*3*l))*L**-1 # kN # Taking moment about A\n",
      "Ya=W1+W2-Yb # kN # sum Fy=0\n",
      "\n",
      "# (b) Dismember\n",
      "# MEMBER AB\n",
      "# Xa=Xb........ (eq'n 1) # sum Fx=0\n",
      "# MEMBER AC\n",
      "# Xa=Xc.........(eq'n 2) # sum Fx=0\n",
      "Yc=W1-Ya # kN # sum Fy=0\n",
      "# Taking moment about A\n",
      "Xc=((W1*l)-(Yc*2*l))*(2*tan(theta*(pi/180)))**-1 # kN\n",
      "# From eq'n 1 & 2\n",
      "Xa=Xc # kN\n",
      "Xb=Xa # kN\n",
      "\n",
      "# Results\n",
      "\n",
      "print\"The force in tie bar AB is \",round(Xb,3),\"kN\" #due to decimal variance answer varies by 0.44kN\n"
     ],
     "language": "python",
     "metadata": {},
     "outputs": [
      {
       "output_type": "stream",
       "stream": "stdout",
       "text": [
        "The force in tie bar AB is  1.299 kN\n"
       ]
      }
     ],
     "prompt_number": 6
    },
    {
     "cell_type": "heading",
     "level": 2,
     "metadata": {},
     "source": [
      "Example 9.9-14,Page No:226"
     ]
    },
    {
     "cell_type": "code",
     "collapsed": false,
     "input": [
      "import math\n",
      "\n",
      "# Initilization of variables\n",
      "\n",
      "W=1000 # N \n",
      "r=0.25 # radius of pulley at E \n",
      "Lab=2 #m\n",
      "Lad=1 # m\n",
      "Lbd=1 # m \n",
      "Ldc=0.75 # m\n",
      "l1=0.5 #m # c/c distance between bar AB and point E\n",
      "l2=1.25 # m # dist between rigid support and the weight\n",
      "\n",
      "# Calculations\n",
      "\n",
      "# (a) Reactions\n",
      "Xa=W # N # sum Fx=0\n",
      "Yb=((W*l1)+(W*l2))/Lab # N # Take moment about A\n",
      "Ya=W-Yb # N # sum Fy=0\n",
      "\n",
      "# Dismember\n",
      "# MEMBER ADB\n",
      "# consider triangle BCD  to find theta, where s= length of bar BC, \n",
      "s=(Lbd**2+Ldc**2)**0.5 # m\n",
      "theta=arccos(Lbd/s)*(180/pi) # degree\n",
      "\n",
      "# equilibrium eq'n of member ADB\n",
      "Yd=(Ya*Lab)/Lad #  take moment about B\n",
      "Fbc=(Yb+Ya-Yd)/sin(theta*(pi/180)) # N # sum Fy=0\n",
      "Xd=(Fbc*cos(theta*(pi/180)))+(Xa) # N # sum Fx=0\n",
      "\n",
      "# PIN D\n",
      "Rd=(Xd**2+Yd**2)**0.5 # N # shear force on the pin\n",
      "\n",
      "# Results\n",
      "\n",
      "print\"The compressive force in bar BC (Fbc) is \",round(Fbc),\"N\"\n",
      "print\"The shear force on the pin is \",round(Rd,1),\"N\"\n"
     ],
     "language": "python",
     "metadata": {},
     "outputs": [
      {
       "output_type": "stream",
       "stream": "stdout",
       "text": [
        "The compressive force in bar BC (Fbc) is  1250.0 N\n",
        "The shear force on the pin is  2015.6 N\n"
       ]
      }
     ],
     "prompt_number": 51
    },
    {
     "cell_type": "heading",
     "level": 2,
     "metadata": {},
     "source": [
      "Example 9.9-15,Page No:229"
     ]
    },
    {
     "cell_type": "code",
     "collapsed": false,
     "input": [
      "import math\n",
      "import numpy as np\n",
      "# Initiliztion of variables\n",
      "\n",
      "P=5000 # N\n",
      "theta=45 # degree # angle made by Rd & Re with the horizontal\n",
      "Lab=3 # m\n",
      "Lac=3 # m\n",
      "Lbd=2 # m\n",
      "Lce=2 # m\n",
      "l=1.5 # m # dist of load P from B\n",
      "\n",
      "# Calculations (BEAM AB )\n",
      "# Consider the equilibrium of beams \n",
      "# We are using matrix to solve the simultaneous eqn's \n",
      "A=np.array([[(Lbd*sin(theta*(pi/180))), Lab],[(Lce*sin(theta*(pi/180))) ,-Lac]])\n",
      "B=np.array([(P*l), 0])\n",
      "C=np.linalg.solve(A,B)\n",
      "# Calculations (BEAM AC)\n",
      "Re=C[0] # N (C) # from eq'n 1\n",
      "Ya=(Re*Lce*sin(theta*(pi/180)))/Lac # N #from eq'n 7\n",
      "Xa=C[0]*cos(theta*(pi/180)) # N # from eq'n 2\n",
      "Ra=(Xa**2+Ya**2)**0.5 # N (C)\n",
      "Yb=P-Ya-(C[0]*sin(theta*(pi/180))) # N (C) # eq'n 3\n",
      "Yc=Ya-(Re*sin(theta*(pi/180))) # N (T)\n",
      "\n",
      "# Results \n",
      "\n",
      "print\"(1) The value of axial force (Rd) in bar 2 is \",round(C[0]),\"N\"\n",
      "print\"(2) The value of axial force (Re) in bar 3 is \",round(Re),\"N\"\n",
      "print\"(3) The value of axial force (Yb) in bar 1 is \",round(Yb),\"N\"\n",
      "print\"(4) The value of axial force (Yc) in bar 4 is \",round(Yc),\"N\"\n",
      "# here consider Yc as +ve coz the assumed direction of the force was compressive which is to be reversed\n"
     ],
     "language": "python",
     "metadata": {},
     "outputs": [
      {
       "output_type": "stream",
       "stream": "stdout",
       "text": [
        "(1) The value of axial force (Rd) in bar 2 is  2652.0 N\n",
        "(2) The value of axial force (Re) in bar 3 is  2652.0 N\n",
        "(3) The value of axial force (Yb) in bar 1 is  1875.0 N\n",
        "(4) The value of axial force (Yc) in bar 4 is  -625.0 N\n"
       ]
      }
     ],
     "prompt_number": 4
    }
   ],
   "metadata": {}
  }
 ]
}