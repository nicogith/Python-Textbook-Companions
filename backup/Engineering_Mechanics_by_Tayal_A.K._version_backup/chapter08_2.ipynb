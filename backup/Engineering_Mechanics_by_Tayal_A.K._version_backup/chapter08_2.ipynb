{
 "metadata": {
  "name": "chapter8.ipynb"
 },
 "nbformat": 3,
 "nbformat_minor": 0,
 "worksheets": [
  {
   "cells": [
    {
     "cell_type": "heading",
     "level": 1,
     "metadata": {},
     "source": [
      "Chapter 8: Simple Lifting Machines"
     ]
    },
    {
     "cell_type": "heading",
     "level": 2,
     "metadata": {},
     "source": [
      "Example 8.8-1,Page No:179"
     ]
    },
    {
     "cell_type": "code",
     "collapsed": false,
     "input": [
      "import math\n",
      "\n",
      "# Initilization of variables\n",
      "\n",
      "VR=6 # Velocity ratio\n",
      "P=20 #N # Effort\n",
      "W=100 #N # Load lifted\n",
      "\n",
      "# Calculations\n",
      "\n",
      "#(a)\n",
      "\n",
      "P_actual=P #N\n",
      "W_actual=W #N\n",
      "MA=W/P # where, MA= Mechanical advantage\n",
      "E=(0.833)*100 #% # Where MA/VR=0.833 and E= efficiency\n",
      "\n",
      "#(b)\n",
      "# Now ideal effort required is,\n",
      "P_ideal=W*VR**-1 #N\n",
      "# Effort loss in friction is, (Le)\n",
      "Le=P_actual-P_ideal #N # Effort loss in friction\n",
      "\n",
      "#(c)\n",
      "# Ideal load lifted is,(W_ideal)\n",
      "W_ideal=P*VR #N \n",
      "# Frictional load/resistance,\n",
      "F=W_ideal-W_actual # N\n",
      "\n",
      "# Results\n",
      "\n",
      "print\"(a) The efficiency of the machine is \",round(E,3),\"percent\"\n",
      "print\"(b) The effort loss in friction of the machine is \",round(Le,2),\"N\"\n",
      "print\"(c) The Frictional load of the machine is \",round(F),\"N\"\n"
     ],
     "language": "python",
     "metadata": {},
     "outputs": [
      {
       "output_type": "stream",
       "stream": "stdout",
       "text": [
        "(a) The efficiency of the machine is  83.3 percent\n",
        "(b) The effort loss in friction of the machine is  3.33 N\n",
        "(c) The Frictional load of the machine is  20.0 N\n"
       ]
      }
     ],
     "prompt_number": 5
    },
    {
     "cell_type": "heading",
     "level": 2,
     "metadata": {},
     "source": [
      "Example 8.8-2, Page No:180"
     ]
    },
    {
     "cell_type": "code",
     "collapsed": false,
     "input": [
      "import math\n",
      "import matplotlib.pyplot as plt\n",
      "%matplotlib inline\n",
      "\n",
      "# Initilization of variables\n",
      "V_r=20 # Velocity ratio\n",
      "# Values from the table # Variables have been assumed\n",
      "# Values of W in N\n",
      "W=[30 ,40 ,50 ,60 ,70 ,80 ,90 ,100]\n",
      "# P in N\n",
      "P=[7 ,8.5 ,10 ,11.5 ,13.5 ,14.5 ,16 ,17.5]\n",
      "M_A=[W[0]*P[0]**-1 ,W[1]*P[1]**-1 ,W[2]*P[2]**-1 ,W[3]*P[3]**-1 ,W[4]*P[4]**-1 ,W[5]*P[5]**-1 ,W[6]*P[6]**-1 ,W[7]*P[7]**-1]\n",
      "# Efficiency (n)\n",
      "n=[(V_r**-1)*M_A[0] ,(V_r**-1)*M_A[1] ,(V_r**-1)*M_A[2] ,(V_r**-1)*M_A[3], (V_r**-1)*M_A[4] ,(V_r**-1)*M_A[5] ,(V_r**-1)*M_A[6] ,(V_r**-1)*M_A[7]]*100 # %\n",
      "# Calculations\n",
      "# Part (a)- Realtionship between W & P\n",
      "# Here part a cannot be solved as it has variables which cannot be defined in Scilab. Ref.textbook for the solution\n",
      "# Part (b)- Graph between W & efficiency n(eta)\n",
      "x=[0 ,W[0] ,W[1] ,W[2] ,W[3] ,W[4] ,W[5] ,W[6] ,W[7]] # values for W # N\n",
      "y=[0 ,n[0] ,n[1] ,n[2] ,n[3] ,n[4] ,n[5] ,n[6] ,n[7]] # values for efficiency n (eta) # %\n",
      "d=transpose(x)\n",
      "plt.plot(d,y)\n",
      "plt.show()\n",
      "\n",
      "# Results\n",
      "\n",
      "print\"The graph is the solution\"\n",
      "# The value of m is found by drawing straight line on the graph and by taking its slope. Ref textbook for the solution\n",
      "# The curve of the graph may differ from textbook because of the graphical calculation.\n"
     ],
     "language": "python",
     "metadata": {},
     "outputs": [
      {
       "metadata": {},
       "output_type": "display_data",
       "png": "[encoded data removed]",
       "text": [
        "<matplotlib.figure.Figure at 0x4fe1370>"
       ]
      },
      {
       "output_type": "stream",
       "stream": "stdout",
       "text": [
        "The graph is the solution\n"
       ]
      }
     ],
     "prompt_number": 1
    },
    {
     "cell_type": "heading",
     "level": 2,
     "metadata": {},
     "source": [
      "Example 8.8-3,Page No:184"
     ]
    },
    {
     "cell_type": "code",
     "collapsed": false,
     "input": [
      "import math\n",
      "\n",
      "# Initialization of variables\n",
      "\n",
      "W_actual=1360 #N #Load lifted\n",
      "P_actual=100 #N # Effort\n",
      "n=4 # no of pulleys\n",
      "\n",
      "# Calculations\n",
      "\n",
      "# for 1st system of pulleys having 4 movable pulleys, Velocity ratio is\n",
      "VR=2**(n) # Velocity Ratio\n",
      "\n",
      "# If the machine were to be ideal(frictionless)\n",
      "MA=VR # Here, M.A= mechanical advantage \n",
      "\n",
      "# For a load of 1360 N, ideal effort required is\n",
      "P_ideal=W_actual/VR #N\n",
      "\n",
      "# Effort loss in friction is,\n",
      "P_friction=P_actual-P_ideal #N\n",
      "\n",
      "# For a effort of 100 N, ideal load lifted is,\n",
      "W_ideal=VR*100 #N \n",
      "\n",
      "# Load lost in friction is,\n",
      "W_friction=W_ideal-W_actual # N \n",
      "\n",
      "# Results\n",
      "\n",
      "print\"(a) The effort wasted in friction is \",round(P_friction,2),\"N\"\n",
      "print\"(b) The load wasted in friction is \",round(W_friction,2),\"N\"\n"
     ],
     "language": "python",
     "metadata": {},
     "outputs": [
      {
       "output_type": "stream",
       "stream": "stdout",
       "text": [
        "(a) The effort wasted in friction is  15.0 N\n",
        "(b) The load wasted in friction is  240.0 N\n"
       ]
      }
     ],
     "prompt_number": 2
    },
    {
     "cell_type": "heading",
     "level": 2,
     "metadata": {},
     "source": [
      "Example 8.8-4,Page No:185"
     ]
    },
    {
     "cell_type": "code",
     "collapsed": false,
     "input": [
      "import math\n",
      "\n",
      "# Initilization of variables\n",
      "\n",
      "W=1000 #N # Load to be lifted\n",
      "n=5 # no. of pulleys\n",
      "E=75 #% # Efficiency\n",
      "\n",
      "# Calculations\n",
      "\n",
      "# Velocity Ratio is given as,\n",
      "VR=n \n",
      "\n",
      "# Mechanical Advantage (MA) is,\n",
      "MA=(E*0.01)*VR # from formulae, Efficiency=E=MA/VR\n",
      "P=W/MA #N # Effort required\n",
      "\n",
      "# Results\n",
      "\n",
      "print\"The effort required to lift the load of 1000 N is \",round(P,2),\"N\"\n"
     ],
     "language": "python",
     "metadata": {},
     "outputs": [
      {
       "output_type": "stream",
       "stream": "stdout",
       "text": [
        "The effort required to lift the load of 1000 N is  266.67 N\n"
       ]
      }
     ],
     "prompt_number": 4
    },
    {
     "cell_type": "heading",
     "level": 2,
     "metadata": {},
     "source": [
      "Example 8.8-5,Page No:191 "
     ]
    },
    {
     "cell_type": "code",
     "collapsed": false,
     "input": [
      "import math\n",
      "\n",
      "# Initilization of variables\n",
      "\n",
      "W=2000 #N # Load to be raised\n",
      "l=0.70 #m # length of the handle\n",
      "d=0.05 #m # diameter of the screw\n",
      "p=0.01 #m # pitch of the screw\n",
      "mu=0.15 # coefficient of friction at the screw thread\n",
      "pie=3.14 #constant\n",
      "E=1 # efficiency\n",
      "\n",
      "# Calculations\n",
      "\n",
      "phi=arctan(mu)*(180/pi) #degree\n",
      "theta=arctan(p/(pie*d))*(180/pi) #degree # where theta is the Helix angle\n",
      "\n",
      "# Force required at the circumference of the screw is,\n",
      "P=W*tan(theta*(pi/180)+phi*(pi/180)) # N //\n",
      "\n",
      "# Force required at the end of the handle is,\n",
      "F=(P*(d*0.5))/l #N # as d/2=d*0.5\n",
      "\n",
      "# Force required (Ideal case)\n",
      "VR=2*pie*l/p\n",
      "MA=E*VR # from formulae E=M.A/V,R\n",
      "P_ideal=W/MA #N # From formulae, M.A=W/P\n",
      "\n",
      "# Results\n",
      "\n",
      "print\"The force required at the end of the handle is \",round(F,2),\"N\"\n",
      "print\"The force required if the screw jack is considered to be an ideal machine is \",round(P_ideal,2),\"N\" \n"
     ],
     "language": "python",
     "metadata": {},
     "outputs": [
      {
       "output_type": "stream",
       "stream": "stdout",
       "text": [
        "The force required at the end of the handle is  15.41 N\n",
        "The force required if the screw jack is considered to be an ideal machine is  4.55 N\n"
       ]
      }
     ],
     "prompt_number": 10
    }
   ],
   "metadata": {}
  }
 ]
}