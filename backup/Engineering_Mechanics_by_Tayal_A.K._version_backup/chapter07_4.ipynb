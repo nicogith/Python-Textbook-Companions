{
 "metadata": {
  "name": "chapter7.ipynb"
 },
 "nbformat": 3,
 "nbformat_minor": 0,
 "worksheets": [
  {
   "cells": [
    {
     "cell_type": "heading",
     "level": 1,
     "metadata": {},
     "source": [
      "Chapter 7: Application Of Friction"
     ]
    },
    {
     "cell_type": "heading",
     "level": 2,
     "metadata": {},
     "source": [
      "Example 7.7-1,Page No:152"
     ]
    },
    {
     "cell_type": "code",
     "collapsed": false,
     "input": [
      "import math\n",
      "\n",
      "# Initilization of variables\n",
      "\n",
      "d1=24 # cm # diameter of larger pulley\n",
      "d2=12 # cm # diameter of smaller pulley\n",
      "d=30 #cm # seperation betweem 1st & the 2nd pulley\n",
      "pie=3.14\n",
      "\n",
      "# Calcuations\n",
      "\n",
      "r1=d1*0.5 #cm # radius of 1st pulley #1/2=0.5\n",
      "r2=d2*0.5 #cm # radius of 2nd pulley #1/2=0.5\n",
      "theta=(arcsin((r1-r2)/d))*(180/pi) #degrees \n",
      "\n",
      "# Angle of lap\n",
      "beta_1=180+(2*theta) #degree # for larger pulley\n",
      "beta_2=180-(2*theta) #degree # for smaller pulley\n",
      "L=pie*(r1+r2)+(2*d)+((r1-r2)**(2/d)) #cm # Length of the belt\n",
      "\n",
      "# Results\n",
      "\n",
      "print\"The angle of lap for the larger pulley is \",round(beta_1,2),\"degree\"\n",
      "print\"he angle of lap for the smaller pulley is \",round(beta_2,2),\"degree\"\n",
      "print\"he length of pulley required is \",round(L,2),\"cm\"\n"
     ],
     "language": "python",
     "metadata": {},
     "outputs": [
      {
       "output_type": "stream",
       "stream": "stdout",
       "text": [
        "The angle of lap for the larger pulley is  203.07 degree\n",
        "he angle of lap for the smaller pulley is  156.93 degree\n",
        "he length of pulley required is  117.52 cm\n"
       ]
      }
     ],
     "prompt_number": 22
    },
    {
     "cell_type": "heading",
     "level": 2,
     "metadata": {},
     "source": [
      "Example 7.7-2,Page No:153"
     ]
    },
    {
     "cell_type": "code",
     "collapsed": false,
     "input": [
      "import math\n",
      "\n",
      "# Initilization of variables\n",
      "\n",
      "d1=0.6 #m # diameter of larger pulley\n",
      "d2=0.3 #m diameter of smaller pulley\n",
      "d=3.5 #m #separation between the pulleys\n",
      "pie=3.14\n",
      "\n",
      "# Calculations\n",
      "\n",
      "r1=d1*0.5 #m # radius of larger pulley #1/2=0.5\n",
      "r2=d2*0.5 #m # radius of smaller pulley #1/2=0.5\n",
      "theta=arcsin((r1+r2)/d)*(180/pi) #degree\n",
      "\n",
      "# Angle of lap for both the pulleys is same, i.e\n",
      "\n",
      "beta=180+(2*theta) # degree\n",
      "L=((pie*(r1+r2))+(2*d)+(((r1+r2)**2)/d)) #cm # Length of the belt\n",
      "\n",
      "# Results\n",
      "\n",
      "print\"The angle of lap for the pulley is \",round(beta,1),\"degree\"\n",
      "print\"The length of pulley required is \",round(L,3),\"m\"\n"
     ],
     "language": "python",
     "metadata": {},
     "outputs": [
      {
       "output_type": "stream",
       "stream": "stdout",
       "text": [
        "The angle of lap for the pulley is  194.8 degree\n",
        "The length of pulley required is  8.471 m\n"
       ]
      }
     ],
     "prompt_number": 29
    },
    {
     "cell_type": "heading",
     "level": 2,
     "metadata": {},
     "source": [
      "Example 7.7-4,Page No:161"
     ]
    },
    {
     "cell_type": "code",
     "collapsed": false,
     "input": [
      "import math\n",
      "\n",
      "# Initilization of variables\n",
      "\n",
      "W1=1000 #N\n",
      "mu=0.25 #coefficient of friction\n",
      "pie=3.14\n",
      "beta=pie\n",
      "T1=W1 # Tension in the 1st belt carrying W1\n",
      "e=2.718 #constant\n",
      "\n",
      "# Calculations\n",
      "\n",
      "T2=T1/(e**(mu*beta)) #N # Tension in the 2nd belt\n",
      "W2=T2 #N\n",
      "\n",
      "# Results\n",
      "\n",
      "print\"The minimum weight W2 to keep W1 in equilibrium is \",round(W2),\"N\"\n"
     ],
     "language": "python",
     "metadata": {},
     "outputs": [
      {
       "output_type": "stream",
       "stream": "stdout",
       "text": [
        "The minimum weight W2 to keep W1 in equilibrium is  456.0 N\n"
       ]
      }
     ],
     "prompt_number": 31
    },
    {
     "cell_type": "heading",
     "level": 2,
     "metadata": {},
     "source": [
      "Example 7.7-5,Page No:162"
     ]
    },
    {
     "cell_type": "code",
     "collapsed": false,
     "input": [
      "import math\n",
      "\n",
      "# Initilization of variables\n",
      "\n",
      "mu=0.5 # coefficient of friction between the belt and the wheel\n",
      "W=100 #N\n",
      "theta=45 #degree\n",
      "e=2.718\n",
      "Lac=0.75 #m # ength of the lever\n",
      "Lab=0.25 #m\n",
      "Lbc=0.50 #m\n",
      "r=0.25 #m\n",
      "pie=3.14 # constant\n",
      "\n",
      "# Calculations\n",
      "\n",
      "beta=((180+theta)*pie)/180 # radian # angle of lap\n",
      "\n",
      "# from eq'n 2\n",
      "T1=(W*Lbc)/Lab #N \n",
      "T2=T1/(e**(mu*beta)) #N # from eq'n 1\n",
      "\n",
      "# consider the F.B.D of the pulley and take moment about its center, we get Braking Moment (M)\n",
      "M=r*(T1-T2) #N-m\n",
      "\n",
      "# Results\n",
      "\n",
      "print\"The braking moment (M) exerted by the vertical weight W is \",round(M,2),\"N-m\"\n"
     ],
     "language": "python",
     "metadata": {},
     "outputs": [
      {
       "output_type": "stream",
       "stream": "stdout",
       "text": [
        "The braking moment (M) exerted by the vertical weight W is  42.97 N-m\n"
       ]
      }
     ],
     "prompt_number": 32
    },
    {
     "cell_type": "heading",
     "level": 2,
     "metadata": {},
     "source": [
      "Example 7.7-6,Page No:163"
     ]
    },
    {
     "cell_type": "code",
     "collapsed": false,
     "input": [
      "import math\n",
      "\n",
      "# Initiization of variables\n",
      "\n",
      "W= 1000 #N # or 1kN\n",
      "mu=0.3 # coefficient of friction between the rope and the cylinder\n",
      "e=2.718 # constant\n",
      "pie=3.14 # constant\n",
      "alpha=90 # degree # since 2*alpha=180 egree\n",
      "\n",
      "# Calculations\n",
      "\n",
      "beta=2*pie*3 # radian # for 3 turn of the rope\n",
      "\n",
      "# Here T1 is the larger tension in that section of the rope which is about to slip\n",
      "T1=W #N\n",
      "F=W/e**(mu*(1/(sin(alpha*(pi/180))))*(beta)) #N # Here T2=F\n",
      "\n",
      "# Results\n",
      "\n",
      "print\"The  force required to suport the weight of 1000 N i.e 1kN is \",round(F,1),\"N\"\n"
     ],
     "language": "python",
     "metadata": {},
     "outputs": [
      {
       "output_type": "stream",
       "stream": "stdout",
       "text": [
        "The  force required to suport the weight of 1000 N i.e 1kN is  3.5 N\n"
       ]
      }
     ],
     "prompt_number": 34
    },
    {
     "cell_type": "heading",
     "level": 2,
     "metadata": {},
     "source": [
      "Example 7.7-7,Page No:163"
     ]
    },
    {
     "cell_type": "code",
     "collapsed": false,
     "input": [
      "import math\n",
      "\n",
      "# Initilization of variables\n",
      "\n",
      "Pw=50 #kW\n",
      "T_max=1500 #N\n",
      "v=10 # m/s # velocity of rope\n",
      "w=4 # N/m # weight of rope\n",
      "mu=0.2 # coefficient of friction \n",
      "g=9.81 # m/s^2 # acceleration due to gravity\n",
      "e=2.718 # constant\n",
      "pie=3.14 # constant\n",
      "alpha=30 # degree # since 2*alpha=60 \n",
      "\n",
      "# Calcuations\n",
      "\n",
      "beta=pie # radian # angle of lap\n",
      "T_e=(w*v**2)/g # N # where T_e is the centrifugal tension\n",
      "T1=(T_max)-(T_e) #N\n",
      "T2=T1/(e**(mu*(1/sin(alpha*(pi/180)))*(beta))) #N # From eq'n T1/T2=e^(mu*cosec(alpha)*beta)\n",
      "P=(T1-T2)*v*(10**-3) #kW # power transmitted by a single rope\n",
      "N=Pw/P # Number of ropes required\n",
      "\n",
      "# Results\n",
      "\n",
      "print\"The number of ropes required to transmit 50 kW is \",round(N),\"Nos\"\n",
      "# approx no of ropes is 5\n"
     ],
     "language": "python",
     "metadata": {},
     "outputs": [
      {
       "output_type": "stream",
       "stream": "stdout",
       "text": [
        "The number of ropes required to transmit 50 kW is  5.0 Nos\n"
       ]
      }
     ],
     "prompt_number": 36
    },
    {
     "cell_type": "heading",
     "level": 2,
     "metadata": {},
     "source": [
      "Example 7.7-8,Page No:164"
     ]
    },
    {
     "cell_type": "code",
     "collapsed": false,
     "input": [
      "import math\n",
      "\n",
      "# Initilization of variables\n",
      "\n",
      "d1=0.45 #m # diameter of larger pulley\n",
      "d2=0.20 #m # diameter of smaller pulley\n",
      "d=1.95 #m # separation between the pulley's\n",
      "T_max=1000 #N # or 1kN which is the maximum permissible tension\n",
      "mu=0.20 # coefficient of friction\n",
      "N=100 # r.p.m # speed of larger pulley\n",
      "e=2.718 # constant\n",
      "pie=3.14 # constant\n",
      "T_e=0 #N # as the data for calculating T_e is not given we assume T_e=0\n",
      "\n",
      "# Calculations\n",
      "\n",
      "r1=d1*0.5 #m # radius of larger pulley #1/2=0.5\n",
      "r2=d2*0.5 #m # radius of smaller pulley #1/2=0.5\n",
      "theta=arcsin((r1+r2)/d)*(180/pi) # degree\n",
      "\n",
      "# for cross drive the angle of lap for both the pulleys is same\n",
      "beta=(180+(2*(theta)))*(pi/180) #radian\n",
      "T1=T_max-T_e #N\n",
      "T2=T1/(e**(mu*(beta))) #N # from formulae, T1/T2=e^(mu*beta)\n",
      "v=((2*pie)*N*r1)/60 # m/s # where v=velocity of belt which is given as, v=wr=2*pie*N*r/60\n",
      "P=(T1-T2)*v*(10**-3) #kW # Power\n",
      "\n",
      "# Results\n",
      "\n",
      "print\"The power transmitted by the cross belt drive is \",round(P,1),\"kW\"\n",
      "# the approx answer is 1.3 kW The answer given in the book (i.e 1.81kW) is wrong.\n"
     ],
     "language": "python",
     "metadata": {},
     "outputs": [
      {
       "output_type": "stream",
       "stream": "stdout",
       "text": [
        "The power transmitted by the cross belt drive is  1.2 kW\n"
       ]
      }
     ],
     "prompt_number": 48
    },
    {
     "cell_type": "heading",
     "level": 2,
     "metadata": {},
     "source": [
      "Example 7.7-9,Page No:165"
     ]
    },
    {
     "cell_type": "code",
     "collapsed": false,
     "input": [
      "import math\n",
      "\n",
      "# Initilization of variabes\n",
      "\n",
      "b=0.1 #m #width of the belt\n",
      "t=0.008 #m #thickness of the belt\n",
      "v=26.67 # m/s # belt speed\n",
      "pie=3.14 # constant\n",
      "beta=165 # radian # angle of lap for the smaller belt\n",
      "mu=0.3 # coefficient of friction\n",
      "sigma_max=2 # MN/m^2 # maximum permissible stress in the belt\n",
      "m=0.9 # kg/m # mass of the belt\n",
      "g=9.81 # m/s^2\n",
      "e=2.718 # constant\n",
      "\n",
      "# Calculations\n",
      "\n",
      "A=b*t # m^2 # cross-sectional area of the belt\n",
      "T_e=m*v**2 # N # where T_e is the Centrifugal tension\n",
      "T_max=(sigma_max)*(A)*(10**6) # N # maximum tension in the belt\n",
      "T1=(T_max)-(T_e) # N \n",
      "T2=T1/(e**((mu*pie*beta)/180)) #N # from formulae T1/T2=e^(mu*beta)\n",
      "P=(T1-T2)*v*(10**-3) #kW # Power transmitted\n",
      "T_o=(T1+T2)/2 # N # Initial tension\n",
      "\n",
      "# Now calculations to transmit maximum power\n",
      "\n",
      "Te=T_max/3 # N # max tension\n",
      "u=(T_max/(3*m))**0.5 # m/s # belt speed for max power\n",
      "T_1=T_max-Te # N # T1 for case 2\n",
      "T_2=T_1/(e**((mu*pie*beta)/180)) # N \n",
      "P_max=(T_1-T_2)*u*(10**-3) # kW # Max power transmitted\n",
      "\n",
      "# Results\n",
      "\n",
      "print\"The initial power transmitted is \",round(P,2),\"kW\"\n",
      "print\"The initial tension in the belt is \",round(T_o,1),\"N\"\n",
      "print\"The maximum power that can be transmitted is \",round(P_max,2),\"kW\" # the answer is approx 15.017kW wheres the answer 14.99kW given in book is wrong      \n",
      "print\"The maximum power is transmitted at a belt speed of \",round(u,2),\"m/s\"\n"
     ],
     "language": "python",
     "metadata": {},
     "outputs": [
      {
       "output_type": "stream",
       "stream": "stdout",
       "text": [
        "The initial power transmitted is  14.8 kW\n",
        "The initial tension in the belt is  682.3 N\n",
        "The maximum power that can be transmitted is  15.02 kW\n",
        "The maximum power is transmitted at a belt speed of  24.34 m/s\n"
       ]
      }
     ],
     "prompt_number": 54
    },
    {
     "cell_type": "heading",
     "level": 2,
     "metadata": {},
     "source": [
      "Example 7.7-10,Page No:169"
     ]
    },
    {
     "cell_type": "code",
     "collapsed": false,
     "input": [
      "import math\n",
      "\n",
      "# Initilization of variables\n",
      "\n",
      "p=0.0125 # m # pitch of screw\n",
      "d=0.1 #m # diameter of the screw\n",
      "r=0.05 #m # radius of the screw\n",
      "l=0.5 #m # length of the lever\n",
      "W=50 #kN # load on the lever\n",
      "mu=0.20 # coefficient of friction \n",
      "pie=3.14 #constant\n",
      "\n",
      "# Calculations\n",
      "\n",
      "theta=arctan(p/(2*pie*r))*(180/pi) #degree # theta is the Helix angle\n",
      "phi=arctan(mu)*(180/pi) # degree # phi is the angle of friction\n",
      "\n",
      "# Taking the leverage due to handle into account,force F1 required is,\n",
      "F1=(W*(tan(theta*(pi/180)+phi*(pi/180))))*(r/l) #kN\n",
      "\n",
      "# To lower the load\n",
      "F2=(W*(tan(theta*(pi/180)-phi*(pi/180))))*(r/l) #kN # -ve sign of F2 indicates force required is in opposite sense\n",
      "E=(tan(theta*(pi/180))/tan(theta*(pi/180)+phi*(pi/180)))*100 # % # here E=eata=efficiency in %\n",
      "\n",
      "# Results\n",
      "\n",
      "print\"The force required (i.e F1) to raise the weight is \",round(F1,3),\"kN\" #due to decimal variance answer varies by 0.004kN \n",
      "print\"The force required (i.e F2) to lower the weight is \",round(F2,3),\"kN\"\n",
      "print\"The efficiency of the jack is \",round(E,2),\"percent\"\n"
     ],
     "language": "python",
     "metadata": {},
     "outputs": [
      {
       "output_type": "stream",
       "stream": "stdout",
       "text": [
        "The force required (i.e F1) to raise the weight is  1.209 kN\n",
        "The force required (i.e F2) to lower the weight is  -0.795 kN\n",
        "The efficiency of the jack is  16.47 percent\n"
       ]
      }
     ],
     "prompt_number": 58
    },
    {
     "cell_type": "heading",
     "level": 2,
     "metadata": {},
     "source": [
      "Example 7.7-11,Page No:172"
     ]
    },
    {
     "cell_type": "code",
     "collapsed": false,
     "input": [
      "import math\n",
      "\n",
      "# Initilization of variabes\n",
      "\n",
      "P=20000 #N #Weight of the shaft\n",
      "D=0.30 #m #diameter of the shaft\n",
      "R=0.15 #m #radius of the shaft\n",
      "mu=0.12 # coefficient of friction\n",
      "\n",
      "# Calculations\n",
      "\n",
      "# Friction torque T is given by formulae,\n",
      "T=(0.666)*P*R*mu #N-m #2/3=0.666\n",
      "M=T #N-m\n",
      "\n",
      "# Results\n",
      "\n",
      "print\"The frictional torque is \",round(M),\"N-m\"\n"
     ],
     "language": "python",
     "metadata": {},
     "outputs": [
      {
       "output_type": "stream",
       "stream": "stdout",
       "text": [
        "The frictional torque is  240.0 N-m\n"
       ]
      }
     ],
     "prompt_number": 61
    }
   ],
   "metadata": {}
  }
 ]
}