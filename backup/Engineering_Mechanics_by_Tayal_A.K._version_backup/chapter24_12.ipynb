{
 "metadata": {
  "name": "chapter24.ipynb"
 },
 "nbformat": 3,
 "nbformat_minor": 0,
 "worksheets": [
  {
   "cells": [
    {
     "cell_type": "heading",
     "level": 1,
     "metadata": {},
     "source": [
      "Chapter 24: Mechanical Vibrations"
     ]
    },
    {
     "cell_type": "heading",
     "level": 2,
     "metadata": {},
     "source": [
      "Example 24.24-1,Page No:596"
     ]
    },
    {
     "cell_type": "code",
     "collapsed": false,
     "input": [
      "import math\n",
      "\n",
      "# Initilization of variables\n",
      "\n",
      "f=0.1666666 # oscillations/second\n",
      "x=8 # cm # distance from the mean position\n",
      "pi=3.14\n",
      "\n",
      "# Calculations\n",
      "\n",
      "omega=2*pi*f\n",
      "\n",
      "# Amplitude is given by eq'n \n",
      "r=sqrt((25*x**2)/16) # cm\n",
      "\n",
      "# Maximum acceleration is given as,\n",
      "a_max=(pi/3)**2*10 # cm/s^2\n",
      "\n",
      "# Velocity when it is at a dist of 5 cm (assume s=5 cm) is given by\n",
      "s=5 # cm\n",
      "v=omega*(r**2-s**2)**0.5 # cm/s\n",
      "\n",
      "# Results\n",
      "\n",
      "print\"(a) The amplitude of oscillation is \",round(r,2),\"cm\"\n",
      "print\"(b) The maximum acceleration is \",round(a_max,2),\"cm/s^2\"\n",
      "print\"(c) The velocity of the particle at 5 cm from mean position  is \",round(v,2),\"cm/s\"\n"
     ],
     "language": "python",
     "metadata": {},
     "outputs": [
      {
       "output_type": "stream",
       "stream": "stdout",
       "text": [
        "(a) The amplitude of oscillation is  10.0 cm\n",
        "(b) The maximum acceleration is  10.96 cm/s^2\n",
        "(c) The velocity of the particle at 5 cm from mean position  is  9.06 cm/s\n"
       ]
      }
     ],
     "prompt_number": 3
    },
    {
     "cell_type": "heading",
     "level": 2,
     "metadata": {},
     "source": [
      "Example 24.24-2,Page No:597"
     ]
    },
    {
     "cell_type": "code",
     "collapsed": false,
     "input": [
      "import math\n",
      "\n",
      "# Initilization of variables\n",
      "\n",
      "x_1=0.1 # m # assume the distance of the particle from mean position as (x_1 & x_2)\n",
      "x_2=0.2# m \n",
      "\n",
      "# assume velocities as v_1 & v_2\n",
      "\n",
      "v_1=1.2 # m/s\n",
      "v_2=0.8 # m/s\n",
      "pi=3.14\n",
      "\n",
      "# Calculations\n",
      "\n",
      "# The amplitude of oscillations is given by dividing eq'n 1 by 2 as,\n",
      "r=(0.064)**0.5 # m\n",
      "omega=v_1*((r**2-x_1**2)**0.5) # radians/second\n",
      "t=(2*pi)/omega # seconds\n",
      "v_max=r*omega # m/s\n",
      "\n",
      "# let the max acceleration be a which is given as,\n",
      "a=r*omega**2 # m/s^2\n",
      "\n",
      "# Results\n",
      "\n",
      "print\"(a) The amplitude of oscillations is \",round(r,3),\"m\"\n",
      "print\"(b) The time period of oscillations is \",round(t,2),\"seconds\"\n",
      "print\"(c) The maximum velocity is \",round(v_max,2),\"m/s\"\n",
      "print\"(d) The maximum acceleration is \",round(a,2),\"m/s^2\"\n",
      "# NOTE: the value of t is incorrect in the text book\n"
     ],
     "language": "python",
     "metadata": {},
     "outputs": [
      {
       "output_type": "stream",
       "stream": "stdout",
       "text": [
        "(a) The amplitude of oscillations is  0.253 m\n",
        "(b) The time period of oscillations is  1.22 seconds\n",
        "(c) The maximum velocity is  1.31 m/s\n",
        "(d) The maximum acceleration is  6.75 m/s^2\n"
       ]
      }
     ],
     "prompt_number": 14
    },
    {
     "cell_type": "heading",
     "level": 2,
     "metadata": {},
     "source": [
      "Exammple 24.24-5,Page No:"
     ]
    },
    {
     "cell_type": "code",
     "collapsed": false,
     "input": [
      "import math\n",
      "\n",
      "# Initilization of variabes\n",
      "\n",
      "W=50 # N # weight\n",
      "x_0=0.075 # m # amplitude\n",
      "f=1 # oscillation/sec # frequency\n",
      "pi=3.14\n",
      "g=9.81 \n",
      "\n",
      "# Calculations\n",
      "\n",
      "omega=2*pi*f\n",
      "K=(((2*pi)**2*W)/g)*(10**-2) # N/cm\n",
      "\n",
      "# let the total extension of the string be delta which is given as,\n",
      "delta=(W/K)+(x_0*10**2) # cm\n",
      "T=K*delta # N # Max Tension\n",
      "v=omega*x_0 #m/s # max velocity\n",
      "\n",
      "# Results\n",
      "\n",
      "print\"(a) The stiffness of the spring is \",round(K,2),\"N/cm\"\n",
      "print\"(b) The maximum Tension in the spring is \",round(T,2),\"N\"\n",
      "print\"(c) The maximum velocity is \",round(v,2),\"m/s\"\n"
     ],
     "language": "python",
     "metadata": {},
     "outputs": [
      {
       "output_type": "stream",
       "stream": "stdout",
       "text": [
        "(a) The stiffness of the spring is  2.01 N/cm\n",
        "(b) The maximum Tension in the spring is  65.08 N\n",
        "(c) The maximum velocity is  0.47 m/s\n"
       ]
      }
     ],
     "prompt_number": 15
    },
    {
     "cell_type": "heading",
     "level": 2,
     "metadata": {},
     "source": [
      "Example 24.24-10,Page No:"
     ]
    },
    {
     "cell_type": "code",
     "collapsed": false,
     "input": [
      "import math\n",
      "\n",
      "# Initilization of variables\n",
      "\n",
      "l=1 # m # length of the simple pendulum\n",
      "g=9.81 # m/s^2\n",
      "pi=3.14\n",
      "\n",
      "# Calculations\n",
      "\n",
      "# Let t_s be the time period when the elevator is stationary\n",
      "t_s=2*pi*(l/g)**0.5 #/ seconds\n",
      "\n",
      "# Let t_u be the time period when the elevator moves upwards. Then from eqn 1\n",
      "t_u=2*pi*((l)/(g+(g/10)))**0.5 # seconds\n",
      "\n",
      "# Let t_d be the time period when the elevator moves downwards.\n",
      "t_d=2*pi*(l/(g-(g/10)))**0.5 # seconds\n",
      "\n",
      "# Results\n",
      "\n",
      "print\"The time period of oscillation of the pendulum for upward acc of the elevator is \",round(t_u,2),\"seconds\"\n",
      "print\"The time period of oscillation of the pendulum for downward acc of the elevator is \",round(t_d,2),\"seconds\"\n"
     ],
     "language": "python",
     "metadata": {},
     "outputs": [
      {
       "output_type": "stream",
       "stream": "stdout",
       "text": [
        "The time period of oscillation of the pendulum for upward acc of the elevator is  1.91 seconds\n",
        "The time period of oscillation of the pendulum for downward acc of the elevator is  2.11 seconds\n"
       ]
      }
     ],
     "prompt_number": 17
    },
    {
     "cell_type": "heading",
     "level": 2,
     "metadata": {},
     "source": [
      "Example 24.24-11,Page No:"
     ]
    },
    {
     "cell_type": "code",
     "collapsed": false,
     "input": [
      "import math\n",
      "\n",
      "# Initilization of variables\n",
      "\n",
      "t=1 # second # time period of the simple pendulum\n",
      "g=9.81 # m/s^2\n",
      "pi=3.14\n",
      "\n",
      "# Calculations\n",
      "\n",
      "# Length of pendulum is given as,\n",
      "l=(t/(2*pi)**2)*g # m\n",
      "\n",
      "# Let t_u be the time period when the elevator moves upwards. Then the time period is given as,\n",
      "t_u=2*pi*((l)/(g+(g/10)))**0.5 # seconds\n",
      "\n",
      "# Let t_d be the time period when the elevator moves downwards.\n",
      "t_d=2*pi*(l/(g-(g/10)))**0.5 # seconds\n",
      "\n",
      "# Results\n",
      "\n",
      "print\"The time period of oscillation of the pendulum for upward acc of the elevator is \",round(t_u,2),\"seconds\"\n",
      "print\"The time period of oscillation of the pendulum for downward acc of the elevator is \",round(t_d,2),\"seconds\"\n"
     ],
     "language": "python",
     "metadata": {},
     "outputs": [
      {
       "output_type": "stream",
       "stream": "stdout",
       "text": [
        "The time period of oscillation of the pendulum for upward acc of the elevator is  0.95 seconds\n",
        "The time period of oscillation of the pendulum for downward acc of the elevator is  1.05 seconds\n"
       ]
      }
     ],
     "prompt_number": 19
    },
    {
     "cell_type": "heading",
     "level": 2,
     "metadata": {},
     "source": [
      "Example 24.24-12,Page No:"
     ]
    },
    {
     "cell_type": "code",
     "collapsed": false,
     "input": [
      "import math\n",
      "\n",
      "# Initilization of variables\n",
      "\n",
      "m=15 # kg # mass of the disc\n",
      "D=0.3 # m # diameter of the disc\n",
      "R=0.15 # m # radius\n",
      "l=1 # m # length of the shaft\n",
      "d=0.01 # m # diameter of the shaft\n",
      "G=30*10**9 # N-m^2 # modulus of rigidity\n",
      "pi=3.14\n",
      "\n",
      "# Calculations\n",
      "\n",
      "# M.I of the disc about the axis of rotation is given as,\n",
      "I=(m*R**2)*0.5 # kg-m^2\n",
      "\n",
      "# Stiffness of the shaft\n",
      "k_t=(pi*d**4*G)/(32*l) # N-m/radian\n",
      "t=2*pi*(I/k_t)**0.5 # seconds\n",
      "\n",
      "# Results\n",
      "\n",
      "print\"The time period of oscillations of the disc is \",round(t,2),\"seconds\"\n"
     ],
     "language": "python",
     "metadata": {},
     "outputs": [
      {
       "output_type": "stream",
       "stream": "stdout",
       "text": [
        "The time period of oscillations of the disc is  0.48 seconds\n"
       ]
      }
     ],
     "prompt_number": 24
    },
    {
     "cell_type": "code",
     "collapsed": false,
     "input": [],
     "language": "python",
     "metadata": {},
     "outputs": [],
     "prompt_number": 24
    }
   ],
   "metadata": {}
  }
 ]
}