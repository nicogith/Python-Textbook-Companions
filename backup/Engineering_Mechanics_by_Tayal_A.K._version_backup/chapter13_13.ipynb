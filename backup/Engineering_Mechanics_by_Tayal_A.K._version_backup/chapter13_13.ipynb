{
 "metadata": {
  "name": "chapter13.ipynb"
 },
 "nbformat": 3,
 "nbformat_minor": 0,
 "worksheets": [
  {
   "cells": [
    {
     "cell_type": "heading",
     "level": 1,
     "metadata": {},
     "source": [
      "Chapter 13: Principle Of Virtual Work"
     ]
    },
    {
     "cell_type": "heading",
     "level": 2,
     "metadata": {},
     "source": [
      "Example 13.13-1,Page No:312"
     ]
    },
    {
     "cell_type": "code",
     "collapsed": false,
     "input": [
      "import math\n",
      "\n",
      "# Initilization of variables\n",
      "\n",
      "W=1000 # N # weight to be raised\n",
      "\n",
      "# Calculations\n",
      "\n",
      "# From the Principle of virtual work,\n",
      "P=W/2 # N\n",
      "\n",
      "# Results\n",
      "\n",
      "print\"The value of force (i.e P) that can hold the system in equilibrium is \",round(P),\"N\"\n"
     ],
     "language": "python",
     "metadata": {},
     "outputs": [
      {
       "output_type": "stream",
       "stream": "stdout",
       "text": [
        "The value of force (i.e P) that can hold the system in equilibrium is  500.0 N\n"
       ]
      }
     ],
     "prompt_number": 1
    },
    {
     "cell_type": "heading",
     "level": 2,
     "metadata": {},
     "source": [
      "Example 13.13-7,Page No:317"
     ]
    },
    {
     "cell_type": "code",
     "collapsed": false,
     "input": [
      "import math\n",
      "\n",
      "# Initilization of variables\n",
      "\n",
      "P=1000 # N # Force acting at the hinge of the 1st square\n",
      "Q=1000 # N # Force acting at the hinge of the 2nd square\n",
      "\n",
      "# Calculations\n",
      "\n",
      "# Chosing the co-ordinate system with originat A, we can write,\n",
      "theta=45 # degree\n",
      "\n",
      "# Forces that do work are P,Q & X_B. Applying the principle of virtual work & Simplyfying and solving for X_B,\n",
      "X_B=((2*P)*0.166666)*(cos(theta*(pi/180))/sin(theta*(pi/180))) # N # as 1/6=0.166666\n",
      "\n",
      "# Now give a virtual angular displacement to the whole frame about end A such that line AB turns by an angle delta_phi.\n",
      "\n",
      "# The force doing work are P,Q&Y_B.Applying the principle of virtual work & Simplyfying this eq'n and solving for Y_B,\n",
      "Y_B=((3*Q)+P)*0.166666 # N  # as 1/6=0.166666\n",
      "\n",
      "# Simply by removing the support at A & replacing it by the reactions X_A & Y_A we can obtain,\n",
      "X_A=X_B # N\n",
      "Y_A=P+Q-Y_B # N\n",
      "\n",
      "# Results\n",
      "\n",
      "print\"The Horizontal component of reaction at A (X_A) is \",round(X_A,1),\"N\"\n",
      "print\"The Vertical component of reaction at A (Y_A) is \",round(Y_A,1),\"N\"\n",
      "print\"The Horizontal component of reaction at B (X_B) is \",round(X_B,1),\"N\"\n",
      "print\"The Vertical component of reaction at B (Y_B) is \",round(Y_B,1),\"N\"\n"
     ],
     "language": "python",
     "metadata": {},
     "outputs": [
      {
       "output_type": "stream",
       "stream": "stdout",
       "text": [
        "The Horizontal component of reaction at A (X_A) is  333.3 N\n",
        "The Vertical component of reaction at A (Y_A) is  1333.3 N\n",
        "The Horizontal component of reaction at B (X_B) is  333.3 N\n",
        "The Vertical component of reaction at B (Y_B) is  666.7 N\n"
       ]
      }
     ],
     "prompt_number": 13
    }
   ],
   "metadata": {}
  }
 ]
}