{
 "metadata": {
  "name": "chapter23.ipynb"
 },
 "nbformat": 3,
 "nbformat_minor": 0,
 "worksheets": [
  {
   "cells": [
    {
     "cell_type": "heading",
     "level": 1,
     "metadata": {},
     "source": [
      "Chapter 23: Kinetics Of Rigid Body:Work And Energy"
     ]
    },
    {
     "cell_type": "heading",
     "level": 2,
     "metadata": {},
     "source": [
      "Example 23.23-2,Page No:586"
     ]
    },
    {
     "cell_type": "code",
     "collapsed": false,
     "input": [
      "import math\n",
      "\n",
      "# Initilization of variables\n",
      "\n",
      "m=600 # kg # mass of the roller\n",
      "r=0.25 # m # radius of the roller\n",
      "P=850 # N # Force\n",
      "v=3 # m/s # velocity to be acquired\n",
      "theta=30 # degree # angle made by v with the force P\n",
      "\n",
      "# Calculations\n",
      "\n",
      "# The distance required to be rolled is given by equating the Work done between positions 1 & 2 as,\n",
      "x=((0.75)*m*v**2)/(P*cos(theta*(pi/180))) # m\n",
      "\n",
      "# Results\n",
      "\n",
      "print\"The distance required to be rolled is \",round(x,1),\"m\"\n"
     ],
     "language": "python",
     "metadata": {},
     "outputs": [
      {
       "output_type": "stream",
       "stream": "stdout",
       "text": [
        "The distance required to be rolled is  5.5 m\n"
       ]
      }
     ],
     "prompt_number": 3
    }
   ],
   "metadata": {}
  }
 ]
}