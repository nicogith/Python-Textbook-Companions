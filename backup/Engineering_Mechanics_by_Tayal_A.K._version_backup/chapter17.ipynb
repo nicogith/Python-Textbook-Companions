{
 "metadata": {
  "name": "chapter17.ipynb"
 },
 "nbformat": 3,
 "nbformat_minor": 0,
 "worksheets": [
  {
   "cells": [
    {
     "cell_type": "heading",
     "level": 1,
     "metadata": {},
     "source": [
      "Chapter 17: Kinetics Of A Particle : Impulse And Momentum"
     ]
    },
    {
     "cell_type": "heading",
     "level": 2,
     "metadata": {},
     "source": [
      "Example 17.17-1,Page no:460"
     ]
    },
    {
     "cell_type": "code",
     "collapsed": false,
     "input": [
      "import math\n",
      "\n",
      "# Initilization of variables\n",
      "\n",
      "m=0.1 # kg # mass of ball\n",
      "\n",
      "# Calculations\n",
      "\n",
      "# Consider the respective F.B.D.\n",
      "\n",
      "# For component eq'n in x-direction\n",
      "delta_t=0.015 # seconds # time for which the ball &the bat are in contact\n",
      "v_x_1=-25 # m/s \n",
      "v_x_2=40*cos(40*(pi/180)) # m/s\n",
      "F_x_average=((m*(v_x_2))-(m*(v_x_1)))/(delta_t) # N\n",
      "\n",
      "# For component eq'n in y-direction\n",
      "delta_t=0.015 # sceonds\n",
      "v_y_1=0 # m/s\n",
      "v_y_2=40*sin(40*(pi/180)) # m/s\n",
      "F_y_average=((m*v_y_2)-(m*(v_y_1)))/(delta_t) # N\n",
      "F_average=(F_x_average**2+F_y_average**2)**0.5 # N\n",
      "\n",
      "# Results\n",
      "\n",
      "print\"The average impules force exerted by the bat on the ball is \",round(F_average,1),\"N\"\n"
     ],
     "language": "python",
     "metadata": {},
     "outputs": [
      {
       "output_type": "stream",
       "stream": "stdout",
       "text": [
        "The average impules force exerted by the bat on the ball is  408.6 N\n"
       ]
      }
     ],
     "prompt_number": 2
    },
    {
     "cell_type": "heading",
     "level": 2,
     "metadata": {},
     "source": [
      "Examplle 17.17-2,Page No:461"
     ]
    },
    {
     "cell_type": "code",
     "collapsed": false,
     "input": [
      "import math\n",
      "\n",
      "# Initiliation of variables\n",
      "\n",
      "m_g=3000 # kg # mass of the gun\n",
      "m_s=50 # kg # mass of the shell\n",
      "v_s=300 # m/s # initial velocity of shell\n",
      "s=0.6 # m # distance at which the gun is brought to rest\n",
      "v=0 # m/s # initial velocity of gun\n",
      "\n",
      "# Calculations\n",
      "\n",
      "# On equating eq'n 1 & eq'n 2 we get v_g as,\n",
      "v_g=(m_s*v_s)/(-m_g) # m/s\n",
      "\n",
      "# Using v^2-u^2=2*a*s to find acceleration,\n",
      "a=(v**2-v_g**2)/(2*s) # m/s^2\n",
      "\n",
      "# Force required to stop the gun,\n",
      "F=m_g*-a # N # here we make a +ve to find the Force\n",
      "\n",
      "# Time required to stop the gun, using v=u+a*t:\n",
      "t=(-v_g)/(-a)  # seconds # we take -a to consider +ve value of acceleration\n",
      "\n",
      "# Results\n",
      "\n",
      "print\"The recoil velocity of gun is \",round(v_g),\"m/s\"\n",
      "print\"The Force required to stop the gun is \",round(F),\"N\" # Answer in textbook 62400 is wrong as a=20.833\n",
      "print\"The time required to stop the gun is \",round(t,2),\"seconds\"\n"
     ],
     "language": "python",
     "metadata": {},
     "outputs": [
      {
       "output_type": "stream",
       "stream": "stdout",
       "text": [
        "The recoil velocity of gun is  -5.0 m/s\n",
        "The Force required to stop the gun is  62500.0 N\n",
        "The time required to stop the gun is  0.24 seconds\n"
       ]
      }
     ],
     "prompt_number": 18
    },
    {
     "cell_type": "heading",
     "level": 2,
     "metadata": {},
     "source": [
      "Example 17.17-3,Page No:462"
     ]
    },
    {
     "cell_type": "code",
     "collapsed": false,
     "input": [
      "import math\n",
      "\n",
      "# Initilization of variables\n",
      "\n",
      "m_m=50 # kg # mass of man\n",
      "m_b=250 # kg # mass of boat\n",
      "s=5 # m # length of the boat\n",
      "v_r=1 # m/s # here v_r=v_(m/b)= relative velocity of man with respect to boat\n",
      "\n",
      "# Calculations\n",
      "\n",
      "# Velocity of man is given by, v_m=(-v_r)+v_b\n",
      "\n",
      "# Final momentum of the man and the boat=m_m*v_m+m_b*v_b. From this eq'n v_b is given as\n",
      "v_b=(m_m*v_r)*(m_m+m_b)**-1 # m/s # this is the absolute velocity of the boat\n",
      "\n",
      "# Time taken by man to move to the other end of the boat is,\n",
      "t=s/v_r # seconds\n",
      "\n",
      "# The distance travelled by the boat in the same time is,\n",
      "s_b=v_b*t # m to right from O\n",
      "\n",
      "# Results\n",
      "\n",
      "print\"(a) The velocity of boat as observed from the ground is \",round(v_b,3),\"m/s\"\n",
      "print\"(b) The distance by which the boat gets shifted is \",round(s_b,3),\"m\"\n"
     ],
     "language": "python",
     "metadata": {},
     "outputs": [
      {
       "output_type": "stream",
       "stream": "stdout",
       "text": [
        "(a) The velocity of boat as observed from the ground is  0.167 m/s\n",
        "(b) The distance by which the boat gets shifted is  0.833 m\n"
       ]
      }
     ],
     "prompt_number": 23
    },
    {
     "cell_type": "heading",
     "level": 2,
     "metadata": {},
     "source": [
      "Example 17.17-5,Page No:464"
     ]
    },
    {
     "cell_type": "code",
     "collapsed": false,
     "input": [
      "import math\n",
      "\n",
      "# Initilization of variables\n",
      "\n",
      "M=250 # kg # mass of the boat\n",
      "M_1=50 # kg # mass of the man\n",
      "M_2=75 # kg # mass of the man\n",
      "v=4 # m/s # relative velocity of man w.r.t boat\n",
      "\n",
      "# Calculations \n",
      "\n",
      "# (a)\n",
      "# Let the increase in the velocity or the final velocity of the boat when TWO MEN DIVE SIMULTANEOUSLY is given by eq'n,\n",
      "deltaV_1=((M_1+M_2)*v)*(M+(M_1+M_2))**-1 # m/s\n",
      "\n",
      "# (b) # The increase in the velocity or the final velocity of the boat when man of 75 kg dives 1st followed by man of 50 kg\n",
      "# Man of 75 kg dives first, So let the final velocity is given as\n",
      "deltaV_75=(M_2*v)*((M+M_1)+M_2)**-1 # m/s\n",
      "# Now let the man of 50 kg jumps  next, Here\n",
      "deltaV_50=(M_1*v)*(M+M_1)**-1 # m/s\n",
      "# Let final velocity of boat is,\n",
      "deltaV_2=0+deltaV_75+deltaV_50 # m/s\n",
      "\n",
      "# (c) \n",
      "# The man of 50 kg jumps first,\n",
      "delV_50=(M_1*v)*((M+M_2)+(M_1))**-1 # m/s\n",
      "# the man of 75 kg jumps next,\n",
      "delV_75=(M_2*v)*(M+M_2)**-1 # m/s\n",
      "# Final velocity of boat is,\n",
      "deltaV_3=0+delV_50+delV_75 # m/s\n",
      "\n",
      "# Results\n",
      "\n",
      "print\"(a) The Final velocity of boat when two men dive simultaneously is \",round(deltaV_1,2),\"m/s\"\n",
      "print\"(b) The Final velocity of boat when the man of 75 kg dives first and 50 kg dives second is \",round(deltaV_2,3),\"m/s\"\n",
      "print\"(c) The Final velocity of boat when the man of 50kg dives first followed by the man of 75 kg is \",round(deltaV_3,3),\"m/s\"  \n"
     ],
     "language": "python",
     "metadata": {},
     "outputs": [
      {
       "output_type": "stream",
       "stream": "stdout",
       "text": [
        "(a) The Final velocity of boat when two men dive simultaneously is  1.33 m/s\n",
        "(b) The Final velocity of boat when the man of 75 kg dives first and 50 kg dives second is  1.467 m/s\n",
        "(c) The Final velocity of boat when the man of 50kg dives first followed by the man of 75 kg is  1.456 m/s\n"
       ]
      }
     ],
     "prompt_number": 30
    },
    {
     "cell_type": "heading",
     "level": 2,
     "metadata": {},
     "source": [
      "Example 17.17-6,Page No:466"
     ]
    },
    {
     "cell_type": "code",
     "collapsed": false,
     "input": [
      "import math\n",
      "\n",
      "# Initilization of variables\n",
      "\n",
      "m_m=70 # kg # mass of man\n",
      "m_c=35 # kg # mass of canoe\n",
      "m=25*1000**-1 # kg # mass of bullet\n",
      "m_wb=2.25 # kg # mass of wodden block\n",
      "V_b=5 # m/s # velocity of block\n",
      "\n",
      "# Calculations\n",
      "\n",
      "# Considering Initial Momentum of bullet=Final momentum of bullet & the block we have,Velocity of  bullet (v) is given by eq'n,\n",
      "v=(V_b*(m_wb+m))/(m) # m/s \n",
      "\n",
      "# Considering, Momentum of the bullet=Momentum of the canoe & the man,the velocity on canoe is given by eq'n\n",
      "V=(m*v)*(m_m+m_c)**-1 # m/s\n",
      "\n",
      "# Results\n",
      "\n",
      "print\"The velocity of the canoe is \",round(V,3),\"m/s\"\n"
     ],
     "language": "python",
     "metadata": {},
     "outputs": [
      {
       "output_type": "stream",
       "stream": "stdout",
       "text": [
        "The velocity of the canoe is  0.108 m/s\n"
       ]
      }
     ],
     "prompt_number": 35
    },
    {
     "cell_type": "heading",
     "level": 2,
     "metadata": {},
     "source": [
      "Example 17.17-8,Page no:470"
     ]
    },
    {
     "cell_type": "code",
     "collapsed": false,
     "input": [
      "import math\n",
      "\n",
      "# Initilization of variables\n",
      "\n",
      "m=2 # kg # mass of the particle\n",
      "v_0=20 # m/s # speed of rotation of the mass attached to the string\n",
      "r_0=1 # m # radius of the circle along which the particle is rotated\n",
      "r_1=r_0*0.5 # m\n",
      "\n",
      "# Calculations\n",
      "\n",
      "# here, equating (H_0)_1=(H_0)_2 i.e  (m*v_0)*r_0=(m*v_1)*r_1 (here, r_1=r_0/2). On solving we get v_1 as,\n",
      "v_1=2*v_0 # m/s\n",
      "# Tension is given by eq'n,\n",
      "T=(m*v_1**2)/r_1 # N\n",
      "\n",
      "# Results\n",
      "\n",
      "print\"The new speed of the particle is \",round(v_1),\"m/s\"\n",
      "print\"The tension in the string is \",round(T),\"N\"\n"
     ],
     "language": "python",
     "metadata": {},
     "outputs": [
      {
       "output_type": "stream",
       "stream": "stdout",
       "text": [
        "The new speed of the particle is  40.0 m/s\n",
        "The tension in the string is  6400.0 N\n"
       ]
      }
     ],
     "prompt_number": 37
    }
   ],
   "metadata": {}
  }
 ]
}