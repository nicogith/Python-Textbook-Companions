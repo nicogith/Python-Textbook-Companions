{
 "metadata": {
  "name": "chapter16.ipynb"
 },
 "nbformat": 3,
 "nbformat_minor": 0,
 "worksheets": [
  {
   "cells": [
    {
     "cell_type": "heading",
     "level": 1,
     "metadata": {},
     "source": [
      "Chapter 16: Kinetics Of A Particle : Work And Energy"
     ]
    },
    {
     "cell_type": "heading",
     "level": 2,
     "metadata": {},
     "source": [
      "Example 16.16-1,Page No:432"
     ]
    },
    {
     "cell_type": "code",
     "collapsed": false,
     "input": [
      "import math\n",
      "\n",
      "# Initilization of variables\n",
      "\n",
      "k=1000 # N/m # stiffness of spring\n",
      "x_1=0.1 # m # distance upto which the spring is stretched\n",
      "x_2=0.2 # m \n",
      "x_0=0 # initial position of spring\n",
      "\n",
      "# Calculations\n",
      "\n",
      "# Work required to stretch the spring by 10 cm from undeformed position is given as,\n",
      "U_10=-(k/2)*(x_1**2-x_0**2) # N-m \n",
      "# Work required to stretch from 10 cm to 20 cm is,\n",
      "U=-(0.5)*k*(x_2**2-x_1**2) # N-m\n",
      "\n",
      "# Results\n",
      "\n",
      "print\"The work of the spring force is \",round(U_10),\"N-m\"\n",
      "print\"The work required to stretch the spring by 20 cm is \",round(U),\"N-m\"\n"
     ],
     "language": "python",
     "metadata": {},
     "outputs": [
      {
       "output_type": "stream",
       "stream": "stdout",
       "text": [
        "The work of the spring force is  -5.0 N-m\n",
        "The work required to stretch the spring by 20 cm is  -15.0 N-m\n"
       ]
      }
     ],
     "prompt_number": 2
    },
    {
     "cell_type": "heading",
     "level": 2,
     "metadata": {},
     "source": [
      "Example 16.16-3,Page No:436"
     ]
    },
    {
     "cell_type": "code",
     "collapsed": false,
     "input": [
      "import math\n",
      "\n",
      "# Initilization of variables\n",
      "\n",
      "M_A=100 # kg # mass of block A\n",
      "M_B=150 # kg # mass of block B\n",
      "mu=0.2 # coefficient of friction between the blocks and the surface\n",
      "x=1 # m # distance by which block A moves\n",
      "g=9.81 # m/s^2 # acc due to gravity\n",
      "\n",
      "# Calculations\n",
      "\n",
      "# Consider the respective F.B.D\n",
      "# Applying the principle of work and energy to the system of blocks A&B and on simplifying we get the value of v as,\n",
      "v=(((-mu*M_A*g)+(M_B*g))/(125))**0.5 # m/s \n",
      "\n",
      "# Results\n",
      "\n",
      "print\"The velocity of block A is \",round(v,2),\"m/s\"\n"
     ],
     "language": "python",
     "metadata": {},
     "outputs": [
      {
       "output_type": "stream",
       "stream": "stdout",
       "text": [
        "The velocity of block A is  3.19 m/s\n"
       ]
      }
     ],
     "prompt_number": 4
    },
    {
     "cell_type": "heading",
     "level": 2,
     "metadata": {},
     "source": [
      "Example 16.16-4,Page No:440"
     ]
    },
    {
     "cell_type": "code",
     "collapsed": false,
     "input": [
      "import math\n",
      "\n",
      "# Initilization of variables\n",
      "\n",
      "M=500*10**3 # kg # mass of the train\n",
      "u=0 # m/s # initial speed\n",
      "v=90*1000*3600**-1 # m/s # final speed\n",
      "t=50 # seconds\n",
      "F_r=15*10**3 # N # Frictioal resistance to motion\n",
      "\n",
      "# Calculations\n",
      "\n",
      "# Acceleration is given as,\n",
      "a=v*t**-1 # m/s^2\n",
      "# The total force required to accelerate the train is,\n",
      "F=M*a # N\n",
      "# The maximum power required is at, t=50s & v=25 m/s\n",
      "P=(F+F_r)*v*(10**-6) # MW\n",
      "# At any time after 50 seconds, the force required only to overcome the frictional resistance of 15*10^3 N is,\n",
      "P_req=F_r*v*(10**-3) # kW\n",
      "\n",
      "# Results\n",
      "\n",
      "print\"(a) The maximum power required is \",round(P,3),\"MW\"\n",
      "print\"(b) The power required to maintain a speed of 90 km/hr is \",round(P_req,2),\"kW\" \n"
     ],
     "language": "python",
     "metadata": {},
     "outputs": [
      {
       "output_type": "stream",
       "stream": "stdout",
       "text": [
        "(a) The maximum power required is  6.625 MW\n",
        "(b) The power required to maintain a speed of 90 km/hr is  375.0 kW\n"
       ]
      }
     ],
     "prompt_number": 11
    },
    {
     "cell_type": "heading",
     "level": 2,
     "metadata": {},
     "source": [
      "Example 16.16-5,Page No:440"
     ]
    },
    {
     "cell_type": "code",
     "collapsed": false,
     "input": [
      "import math\n",
      "\n",
      "# Initilization of variables\n",
      "\n",
      "W=50 # N # Weight suspended on spring\n",
      "k=10 # N/cm # stiffness of the spring\n",
      "x_2=15 # cm # measured extensions\n",
      "h=10 # cm # height for position 2\n",
      "\n",
      "# Calculations\n",
      "\n",
      "# Consider the required F.B.D.\n",
      "\n",
      "# POSITION 1: The force exerted by the spring is,\n",
      "F_1=W # N\n",
      "\n",
      "# Extension of spring from undeformed position is x_1,\n",
      "x_1=F_1/k # cm\n",
      "\n",
      "# POSITION 2: When pulled by 10 cm to the floor. P.E of weight is,\n",
      "P_E_g=-W*h # N-cm # (P_E_g= P_E_gravity)\n",
      "\n",
      "# P.E of the spring with respect to position 1\n",
      "P_E_s=(0.5)*k*(x_2**2-x_1**2) # N-cm  # (P_E_s= P_E_ spring)\n",
      "\n",
      "# Total P.E of the system with respect to position 1\n",
      "P_E_t=P_E_g+P_E_s # N-cm # (P_E_t= P_E_total)\n",
      "\n",
      "# Total energy of the system,\n",
      "E_2=P_E_t # N-cm\n",
      "\n",
      "# Total energy of the system in position 3 w.r.t position 1 is:\n",
      "x=-(100)**0.5 # cm\n",
      "x=+(100)**0.5 # cm\n",
      "\n",
      "# Results\n",
      "\n",
      "print\"The potential energy of the system is \",round(E_2),\"N-cm\"\n",
      "print\"The maximum height above the floor that the weight W will attain after release is \",round(x),\"cm\"\n"
     ],
     "language": "python",
     "metadata": {},
     "outputs": [
      {
       "output_type": "stream",
       "stream": "stdout",
       "text": [
        "The potential energy of the system is  500.0 N-cm\n",
        "The maximum height above the floor that the weight W will attain after release is  10.0 cm\n"
       ]
      }
     ],
     "prompt_number": 14
    },
    {
     "cell_type": "heading",
     "level": 2,
     "metadata": {},
     "source": [
      "Example 16.16-6,Page No:442"
     ]
    },
    {
     "cell_type": "code",
     "collapsed": false,
     "input": [
      "import math\n",
      "\n",
      "# Initilization of variables\n",
      "\n",
      "m=5 # kg # mass of the ball\n",
      "k=500 # N/m # stiffness of the spring\n",
      "h=10 # cm # height of drop\n",
      "g=9.81 # m/s^2 # acc due to gravity\n",
      "\n",
      "# Calculations\n",
      "\n",
      "# Consider the respective F.B.D.\n",
      "# In eq'n 1 substitute the respective values and simplify it further. In this eq'n of 2nd degree a=1 b=-0.1962 & c=-0.01962. Thus the roots of the eq'n is given as,\n",
      "a=1 \n",
      "b=-0.1962\n",
      "c=-0.01962\n",
      "delta=((-b+(((b**2)-(4*a*c))**0.5))/(2*a))*(10**2) # cm # We consider the +ve value of delta\n",
      "\n",
      "# Results\n",
      "\n",
      "print\"The maximum deflection of the spring is \",round(delta,2),\"cm\"\n"
     ],
     "language": "python",
     "metadata": {},
     "outputs": [
      {
       "output_type": "stream",
       "stream": "stdout",
       "text": [
        "The maximum deflection of the spring is  26.91 cm\n"
       ]
      }
     ],
     "prompt_number": 16
    },
    {
     "cell_type": "heading",
     "level": 2,
     "metadata": {},
     "source": [
      "Example 16.16-7,Page No:444"
     ]
    },
    {
     "cell_type": "code",
     "collapsed": false,
     "input": [
      "import math\n",
      "\n",
      "# Initilization of variables\n",
      "\n",
      "m=5 # kg # mass of the ball\n",
      "k=500 # N/m # stiffness of the spring\n",
      "h=0.1 # m # height of vertical fall\n",
      "g=9.81 # m/s^2 # acc due to gravity\n",
      "\n",
      "# Calculations\n",
      "\n",
      "# Consider the respective F.B.D\n",
      "# On equating the total energies at position 1 & 2 we get eq'n of delta as,\n",
      "delta=((2*m*g*h)/(k))**0.5 # m \n",
      "\n",
      "# Results\n",
      "\n",
      "print\"The maximum compression of the spring is \",round(delta,3),\"m\"\n"
     ],
     "language": "python",
     "metadata": {},
     "outputs": [
      {
       "output_type": "stream",
       "stream": "stdout",
       "text": [
        "The maximum compression of the spring is  0.14 m\n"
       ]
      }
     ],
     "prompt_number": 20
    },
    {
     "cell_type": "heading",
     "level": 2,
     "metadata": {},
     "source": [
      "Example 16.16-9,Page No:445"
     ]
    },
    {
     "cell_type": "code",
     "collapsed": false,
     "input": [
      "import math\n",
      "\n",
      "# Initilization of variables\n",
      "\n",
      "m=5 # kg # mass of the collar\n",
      "k=500 # N/m # stiffness of the spring\n",
      "AB=0.15 # m # Refer the F.B.D for AB\n",
      "AC=0.2 # m # Refer the F.B.D for AC\n",
      "g=9.81 # m/s^2 # acc due to gravity\n",
      "\n",
      "# Calculations\n",
      "\n",
      "# Consider the respective F.B.D\n",
      "\n",
      "# POSITION 1: \n",
      "P_E_1=m*g*(AB)+0 \n",
      "K_E_1=0\n",
      "E_1=P_E_1+K_E_1 #\n",
      "\n",
      "# POSITION 2 : Length of the spring in position 2\n",
      "CB=(AB**2+AC**2)**0.5 # m \n",
      "# x is the extension in the spring\n",
      "x=CB-AC # m\n",
      "# On substuting and Equating equations of total energies for position1 & position 2 we get the value of v as,\n",
      "v=(((E_1-((0.5)*k*x**2))*2)/m)**0.5 # m/s\n",
      "\n",
      "# Results\n",
      "\n",
      "print\"The velocity of the collar will be \",round(v,2),\"m/s\"\n",
      "# The answer given in the text book (v=16.4 m/s) is wrong.\n"
     ],
     "language": "python",
     "metadata": {},
     "outputs": [
      {
       "output_type": "stream",
       "stream": "stdout",
       "text": [
        "The velocity of the collar will be  1.64 m/s\n"
       ]
      }
     ],
     "prompt_number": 24
    },
    {
     "cell_type": "heading",
     "level": 2,
     "metadata": {},
     "source": [
      "Example 16.16-10,Page No:446"
     ]
    },
    {
     "cell_type": "code",
     "collapsed": false,
     "input": [
      "import math\n",
      "\n",
      "# Initilization of variables\n",
      "\n",
      "m=5 # kg # mass of the block\n",
      "theta=30 # degree # inclination of the plane\n",
      "x=0.5 # m # distance travelled by the block\n",
      "k=1500 # N/m # stiffness of the spring\n",
      "mu=0.2 # coefficient of friction between the block and the surface\n",
      "g=9.81 # m/s^2 # acc due to gravity\n",
      "\n",
      "# Calculations\n",
      "\n",
      "# Consider the F.B.D of the block\n",
      "# Applying the principle of work and energy between the positions 1 & 2 and on further simplification we get the generic eq'n for delta as, 750*delta^2-16.03*delta-8.015=0. From this eq'n e have values of a.b & c as,\n",
      "a=750\n",
      "b=-16.03\n",
      "c=-8.015\n",
      "# Thus the roots of the eq'n are given as,\n",
      "delta=(-b+((b**2-(4*a*c))**0.5))/(2*a) # m\n",
      "\n",
      "# Results\n",
      "\n",
      "print\"The maximum compression of the spring is \",round(delta,3),\"m\"\n"
     ],
     "language": "python",
     "metadata": {},
     "outputs": [
      {
       "output_type": "stream",
       "stream": "stdout",
       "text": [
        "The maximum compression of the spring is  0.115 m\n"
       ]
      }
     ],
     "prompt_number": 28
    },
    {
     "cell_type": "heading",
     "level": 2,
     "metadata": {},
     "source": [
      "Example 16.16-11,Page No:448"
     ]
    },
    {
     "cell_type": "code",
     "collapsed": false,
     "input": [
      "import math\n",
      "\n",
      "# Initilization of variables\n",
      "\n",
      "M=10 # kg # Here M=M_1=M_2\n",
      "g=9.81 # m/s^2 # acc due to gravity\n",
      "\n",
      "# Calculations\n",
      "\n",
      "# Consider the respective F.B.D\n",
      "# Applying the principle of conservation of energy and by equating the total energies at position 1 & position 2 we get v as,\n",
      "v=((M*g*4)/(25))**0.5 # m/s\n",
      "\n",
      "# Results\n",
      "\n",
      "print\"The velocity of mass M_2 is \",round(v,2),\"m/s\"\n"
     ],
     "language": "python",
     "metadata": {},
     "outputs": [
      {
       "output_type": "stream",
       "stream": "stdout",
       "text": [
        "The velocity of mass M_2 is  3.96 m/s\n"
       ]
      }
     ],
     "prompt_number": 29
    }
   ],
   "metadata": {}
  }
 ]
}