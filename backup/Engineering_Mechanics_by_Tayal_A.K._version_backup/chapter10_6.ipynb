{
 "metadata": {
  "name": "chapter10.ipynb"
 },
 "nbformat": 3,
 "nbformat_minor": 0,
 "worksheets": [
  {
   "cells": [
    {
     "cell_type": "heading",
     "level": 1,
     "metadata": {},
     "source": [
      "Chapter 10: Uniform Flexible Suspension Cables"
     ]
    },
    {
     "cell_type": "heading",
     "level": 2,
     "metadata": {},
     "source": [
      "Example 10.10-1,Page No:238"
     ]
    },
    {
     "cell_type": "code",
     "collapsed": false,
     "input": [
      "import math\n",
      "import numpy as np\n",
      "\n",
      "# Initilization of variables\n",
      "\n",
      "W1=400 # N # vertical load at pt C\n",
      "W2=600 # N # vertical load at pt D\n",
      "W3=400 # N # vertical load at pt E\n",
      "l=2 # m # l= Lac=Lcd=Lde=Leb\n",
      "h=2.25 # m # distance of the cable from top\n",
      "L=2 # m # dist of A from top\n",
      "\n",
      "# Calculations\n",
      "\n",
      "# Solving eqn's 1&2 using MATRIX for Xb & Yb\n",
      "A=np.array([[-L ,4*l],[-h, 2*l]])\n",
      "B=np.array([((W1*l)+(W2*2*l)+(W1*3*l)),(W1*l)])\n",
      "C=np.linalg.solve(A,B)\n",
      "\n",
      "# Now consider the F.B.D of BE, Take moment at E\n",
      "y_e=(C[1]*l)/C[0] # m / here y_e is the distance between E and the top\n",
      "theta_1=arctan(y_e/l)*(180/pi) # degree # where theta_1 is the angle between BE and the horizontal\n",
      "T_BE=C[0]/cos(theta_1*(pi/180)) # N (T_BE=T_max)\n",
      "\n",
      "# Now consider the F.B.D of portion BEDC\n",
      "# Take moment at C\n",
      "y_c=((C[1]*6)-(W3*4)-(W2*2))/(C[0]) # m\n",
      "theta_4=arctan(((y_c)-(l))/(l))*(180/pi) # degree\n",
      "T_CA=C[0]/cos(theta_4*(pi/180)) # N # Tension in CA\n",
      "\n",
      "# Results\n",
      "\n",
      "print\"(i) The horizontal reaction at B (Xb) is \",round(C[0]),\"N\"\n",
      "print\"(i) The vertical reaction at B (Yb) is \",round(C[1]),\"N\"\n",
      "print\"(ii) The sag at point E (y_e) is \",round(y_e,3),\"m\"\n",
      "print\"(iii) The tension in portion CA (T_CA) is \",round(T_CA,1),\"N\"\n",
      "print\"(iv) The max tension in the cable (T_max) is \",round(T_BE,1),\"N\" #answer varies due to decimal variance\n",
      "print\"(iv) The max slope (theta_1) in the cable is \",round(theta_1,1),\"degree\"\n"
     ],
     "language": "python",
     "metadata": {},
     "outputs": [
      {
       "output_type": "stream",
       "stream": "stdout",
       "text": [
        "(i) The horizontal reaction at B (Xb) is  1600.0 N\n",
        "(i) The vertical reaction at B (Yb) is  1100.0 N\n",
        "(ii) The sag at point E (y_e) is  1.375 m\n",
        "(iii) The tension in portion CA (T_CA) is  1627.9 N\n",
        "(iv) The max tension in the cable (T_max) is  1941.6 N\n",
        "(iv) The max slope (theta_1) in the cable is  34.5 degree\n"
       ]
      }
     ],
     "prompt_number": 4
    },
    {
     "cell_type": "heading",
     "level": 2,
     "metadata": {},
     "source": [
      "Example 10.10-2,Page No:241"
     ]
    },
    {
     "cell_type": "code",
     "collapsed": false,
     "input": [
      "import math\n",
      "\n",
      "# Initiization of variables\n",
      "\n",
      "W1=100 # N # Pt load at C\n",
      "W2=150 # N # Pt load at D\n",
      "W3=200 # N # Pt load at E\n",
      "l=1 # m # l=Lac=Lcd=Lde=Leb\n",
      "h=2 # m # dist between Rb & top\n",
      "Xa=200 # N\n",
      "Xb=200 # N\n",
      "\n",
      "# Calculations\n",
      "\n",
      "# consider the F.B.D of entire cable\n",
      "# Take moment at A\n",
      "Yb=((W1*l)+(W2*2*l)+(W3*3*l)-(Xb*h))/(4*l) # N\n",
      "Ya=W1+W2+W3-Yb # N # sum Fy=0\n",
      "# Now consider the F.B.D of AC\n",
      "\n",
      "# Take moment at C,\n",
      "y_c=(Ya*l)/Xa # m\n",
      "theta_1=arctan(y_c/l)*(180/pi) # degree\n",
      "T_AC=Xa/cos(theta_1*(pi/180)) # N # T_AC*cosd(theta_1)=horizontal component of tension in the cable\n",
      "# here, T_AC=T_max\n",
      "T_max=(Xa**2+Ya**2)**0.5 # N\n",
      "T_AC=T_max\n",
      "\n",
      "# Now consider the F.B.D of portion ACD\n",
      "y_d=((Ya*2*l)-(W1*l))/(Xa) # m # taking moment at D\n",
      "theta_2=arctan(((y_d)-(y_c))/(l))*(180/pi) # degree\n",
      "T_CD=Xa/(cos(theta_2*(pi/180))) # N \n",
      "\n",
      "# Results\n",
      "\n",
      "print\"(i) The component of support reaction at A (Ya) is \",round(Ya),\"N\"\n",
      "print\"(i) The component of support reaction at B (Yb) is \",round(Yb),\"N\"\n",
      "print\"(ii) The tension in portion AC (T_AC) of the cable is \",round(T_AC,1),\"N\"\n",
      "print\"(ii) The tension in portion CD (T_CD) of the cable is \",round(T_CD,1),\"N\"\n",
      "print\"(iii) The max tension in the cable is \",round(T_max,1),\"N\"\n"
     ],
     "language": "python",
     "metadata": {},
     "outputs": [
      {
       "output_type": "stream",
       "stream": "stdout",
       "text": [
        "(i) The component of support reaction at A (Ya) is  300.0 N\n",
        "(i) The component of support reaction at B (Yb) is  150.0 N\n",
        "(ii) The tension in portion AC (T_AC) of the cable is  360.6 N\n",
        "(ii) The tension in portion CD (T_CD) of the cable is  282.8 N\n",
        "(iii) The max tension in the cable is  360.6 N\n"
       ]
      }
     ],
     "prompt_number": 14
    },
    {
     "cell_type": "heading",
     "level": 2,
     "metadata": {},
     "source": [
      "Example 10.10-3,Page No:246"
     ]
    },
    {
     "cell_type": "code",
     "collapsed": false,
     "input": [
      "import math\n",
      "\n",
      "# Initilization of variables\n",
      "\n",
      "w=75 # kg/m # mass per unit length of thw pipe\n",
      "l=20 # m # dist between A &  B\n",
      "g=9.81 #m/s^2 # acc due to gravity\n",
      "y=2 # m # position of C below B\n",
      "\n",
      "# Calculations\n",
      "\n",
      "# Let x_b be the distance of point C from B \n",
      "# In eq'n x_b^2+32*x_b-320=0\n",
      "a=1\n",
      "b=32\n",
      "c=-320\n",
      "x_b=(-b+(b**2-(4*a*c))**0.5)/(2*a) # m # we get x_b by equating eqn's 1&2\n",
      "\n",
      "# Now tension T_0\n",
      "T_0=((w*g*x_b**2)/(2*y))*(10**-3) #kN # from eq'n 1\n",
      "\n",
      "# Now the max tension occurs at point A,hence x is given as,\n",
      "x=20-x_b # m\n",
      "w_x=w*g*x*10**(-3) # kN \n",
      "T_max=((T_0)**2+(w_x)**2)**0.5 # kN # Maximum Tension\n",
      "\n",
      "# Results\n",
      "\n",
      "print\"The lowest point C which is situated at a distance (x_b) from support B is \",round(x_b),\"m\"\n",
      "print\"The maximum tension (T_max) in the cable is \",round(T_max,2),\"kN\"\n",
      "print\"The minimum tension (T_0) in the cable is \",round(T_0,2),\"kN\"\n"
     ],
     "language": "python",
     "metadata": {},
     "outputs": [
      {
       "output_type": "stream",
       "stream": "stdout",
       "text": [
        "The lowest point C which is situated at a distance (x_b) from support B is  8.0 m\n",
        "The maximum tension (T_max) in the cable is  14.71 kN\n",
        "The minimum tension (T_0) in the cable is  11.77 kN\n"
       ]
      }
     ],
     "prompt_number": 18
    },
    {
     "cell_type": "heading",
     "level": 2,
     "metadata": {},
     "source": [
      "Example 10.10-4,Page No:247"
     ]
    },
    {
     "cell_type": "code",
     "collapsed": false,
     "input": [
      "import math\n",
      "\n",
      "# Initilization of variables\n",
      "\n",
      "m=0.5 # kg/m # mass of the cable per unit length\n",
      "g=9.81 # m/s^2\n",
      "x=30#/ m # length AB\n",
      "y=0.5 # m # dist between C & the horizontal\n",
      "x_b=15 # m # dist of horizontal from C to B\n",
      "\n",
      "# Calculations\n",
      "\n",
      "w=m*g # N/m # weight of the cable per unit length\n",
      "T_0=(w*x_b**2)/(2*y) # N # From eq'n 1\n",
      "T_B=((T_0)**2+(w*x*0.5)**2)**0.5 # N # Tension in the cable at point B\n",
      "W=T_B # N # As pulley is frictionless the tension in the pulley on each side is same,so W=T_B\n",
      "\n",
      "\n",
      "# Slope of the cable at B,\n",
      "theta=arccos(T_0/T_B)*(180/pi) # degree\n",
      "\n",
      "# Now length of the cable between C & B is,\n",
      "S_cb =x_b*(1+((2/3)*(y/x_b)*0.5)) # m\n",
      "\n",
      "\n",
      "# Now total length of the cable AB is,\n",
      "S_ab=2*S_cb # m \n",
      "\n",
      "# Results\n",
      "\n",
      "print\"(i) The magnitude of load W is \",round(W),\"N\"\n",
      "print\"(ii) The angle of the cable with the horizontal at B is \",round(theta,1),\"degree\"\n",
      "print\"(iii) The total length of the cable AB is \",round(S_ab),\"m\"\n"
     ],
     "language": "python",
     "metadata": {},
     "outputs": [
      {
       "output_type": "stream",
       "stream": "stdout",
       "text": [
        "(i) The magnitude of load W is  1106.0 N\n",
        "(ii) The angle of the cable with the horizontal at B is  3.8 degree\n",
        "(iii) The total length of the cable AB is  30.0 m\n"
       ]
      }
     ],
     "prompt_number": 116
    },
    {
     "cell_type": "heading",
     "level": 2,
     "metadata": {},
     "source": [
      "Example 10.10-5,Page No:249"
     ]
    },
    {
     "cell_type": "code",
     "collapsed": false,
     "input": [
      "import math\n",
      "\n",
      "# Initilization of variables\n",
      "\n",
      "x=30 # m # distance between two electric poles\n",
      "Tmax=400 # N # Max Pull or tension\n",
      "w=3 # N/m # weight per unit length of the cable\n",
      "\n",
      "# Calculations\n",
      "\n",
      "# The cable is assumed to be parabolic in shape, its eq'n is y=w*x^2/2*T_0.....(eq'n 1). Substuting the co-ordinates of point B (l/2,h), where h is the sag in the cable.This gives, T_0=(w*(l/2)^2)/(2*h)=wl^2/8*h\n",
      "# Now the maximum pull or tension occurs at B,\n",
      "T_B=Tmax # N \n",
      "# Hence T_B=Tmax=sqrt(T_0^2+(w*l/2)^2). On simplyfyingthis eq'n we get, \n",
      "h=(x**2)**0.5/((16*(((Tmax*2)**2/(w*x)**2)))+(1))**0.5 # m \n",
      "\n",
      "# Results \n",
      "\n",
      "print\"The smallest value of the sag in the cable is \",round(h,3),\"m\"\n"
     ],
     "language": "python",
     "metadata": {},
     "outputs": [
      {
       "output_type": "stream",
       "stream": "stdout",
       "text": [
        "The smallest value of the sag in the cable is  0.843 m\n"
       ]
      }
     ],
     "prompt_number": 72
    },
    {
     "cell_type": "heading",
     "level": 2,
     "metadata": {},
     "source": [
      "Example 10.10-6,Page No:252"
     ]
    },
    {
     "cell_type": "code",
     "collapsed": false,
     "input": [
      "import math\n",
      "\n",
      "# Initilization of variables\n",
      "\n",
      "l=200 # m # length of the cable\n",
      "m=1000 # kg # mass of the cable\n",
      "S=50 # m # sag in the cable\n",
      "s=l/2 # m\n",
      "g=9.81 # m/s^2\n",
      "\n",
      "# Calculations\n",
      "\n",
      "w=(m*g)/l # N/m # mass per unit length of the cable\n",
      "# Substuting the values s=l/2 & y=c+S in eq'n 1 to get the value of c,\n",
      "c=7500/100 # m \n",
      "Tmax=((w*c)**2+(w*s)**2)**0.5 # N # Maximum Tension\n",
      "# To determine the span (2*x) let us use the eq'n of catenary, y=c*cosh(x/c), where y=c+50. On simplyfying we get y/c=cosh(x/c), here let y/c=A\n",
      "y=c+50\n",
      "\n",
      "A=1.666 \n",
      "x=c*(arccosh(A))*(pi/180)# m \n",
      "L=2*x*(180/pi) # m # where L= span\n",
      "\n",
      "# Results\n",
      "\n",
      "print\"The horizontal distance between the supports and the max Tension (L) is \",round(L),\"m\"\n"
     ],
     "language": "python",
     "metadata": {},
     "outputs": [
      {
       "output_type": "stream",
       "stream": "stdout",
       "text": [
        "The horizontal distance between the supports and the max Tension (L) is  165.0 m\n"
       ]
      }
     ],
     "prompt_number": 114
    }
   ],
   "metadata": {}
  }
 ]
}