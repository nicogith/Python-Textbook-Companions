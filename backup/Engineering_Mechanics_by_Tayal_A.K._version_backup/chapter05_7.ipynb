{
 "metadata": {
  "name": "chapter5.ipynb"
 },
 "nbformat": 3,
 "nbformat_minor": 0,
 "worksheets": [
  {
   "cells": [
    {
     "cell_type": "heading",
     "level": 1,
     "metadata": {},
     "source": [
      "Chapter 5: General Case Of Forces In Plane"
     ]
    },
    {
     "cell_type": "heading",
     "level": 2,
     "metadata": {},
     "source": [
      "Example 5.5-2,Page No:111"
     ]
    },
    {
     "cell_type": "code",
     "collapsed": false,
     "input": [
      "import math\n",
      "\n",
      "#Inilization of variables\n",
      "\n",
      "W=2000 #N\n",
      "Lab=2 #m #length of the member from the vertical to the 1st load of 2000 N\n",
      "Lac=5 #m #length of the member from the vertical to the 2nd load of 2000 N\n",
      "Lpq=3.5 #m\n",
      "\n",
      "#Calculations\n",
      "\n",
      "Rq=((W*Lab)+(W*Lac))/Lpq #N #take moment abt. pt P\n",
      "Xp=Rq #N #sum Fx=0\n",
      "Yp=2*W #N #sum Fy=0\n",
      "Rp=(Xp**2+Yp**2)**0.5 #N\n",
      "\n",
      "#Resuts\n",
      "\n",
      "print\"The reaction at P is \",round(Rp,1),\"N\"\n",
      "print\"The reaction at Q is \",round(Rq),\"N\"\n"
     ],
     "language": "python",
     "metadata": {},
     "outputs": [
      {
       "output_type": "stream",
       "stream": "stdout",
       "text": [
        "The reaction at P is  5656.9 N\n",
        "The reaction at Q is  4000.0 N\n"
       ]
      }
     ],
     "prompt_number": 1
    },
    {
     "cell_type": "heading",
     "level": 2,
     "metadata": {},
     "source": [
      "Example 5.5-3,Page No:112"
     ]
    },
    {
     "cell_type": "code",
     "collapsed": false,
     "input": [
      "import math\n",
      "import numpy as np\n",
      "#Initilization of vaiables\n",
      "\n",
      "W=25 #N # self weight of the ladder\n",
      "M=75 #N # weight of the man standing o the ladder\n",
      "theta=63.43 #degree # angle which the ladder makes with the horizontal\n",
      "alpha=30 #degree # angle made by the string with the horizontal\n",
      "Loa=2 #m # spacing between the wall and the ladder\n",
      "Lob=4 #m #length from the horizontal to the top of the ladder touching the wall(vertical)\n",
      "\n",
      "#Calculations\n",
      "\n",
      "#Using matrix to solve the simultaneous eqn's 3 & 4\n",
      "\n",
      "A=np.array([[2 ,-4],[1, -0.577]])\n",
      "B=np.array([100,100])\n",
      "C=np.linalg.solve(A,B)\n",
      "\n",
      "#Results\n",
      "\n",
      "print\"The reaction at A i.e Ra is \",round(C[0],2),\"N\"\n",
      "print\"The reaction at B i.e Rb is \",round(C[1],2),\"N\"\n",
      "\n",
      "#Calculations\n",
      "\n",
      "T=C[1]/cos(alpha*(pi/180)) #N # from (eqn 1)\n",
      "\n",
      "#Results\n",
      "\n",
      "print\"The required tension in the string is \",round(T,2),\"N\"\n",
      "\n",
      "#answer may vary due to decimal variance"
     ],
     "language": "python",
     "metadata": {},
     "outputs": [
      {
       "output_type": "stream",
       "stream": "stdout",
       "text": [
        "The reaction at A i.e Ra is  120.27 N\n",
        "The reaction at B i.e Rb is  35.14 N\n",
        "The required tension in the string is  40.57 N\n"
       ]
      }
     ],
     "prompt_number": 2
    },
    {
     "cell_type": "heading",
     "level": 2,
     "metadata": {},
     "source": [
      "Example 5.5-4,Page No:113"
     ]
    },
    {
     "cell_type": "code",
     "collapsed": false,
     "input": [
      "import math\n",
      "\n",
      "#Initilization of variables\n",
      "\n",
      "W=100 #N\n",
      "theta=60 #degree #angle made by the ladder with the horizontal\n",
      "alpha=30 #degree #angle made by the ladder with the vertical wall\n",
      "Lob=4 #m # length from the horizontal to the top of the ladder touching the wall(vertical)\n",
      "Lcd=2 #m # length from the horizontal to the centre of the ladder where the man stands\n",
      "\n",
      "#Calculations\n",
      "\n",
      "Lab=Lob*(1/cos(alpha*(pi/180))) #m #length of the ladder\n",
      "Lad=Lcd*tan(alpha*(pi/180)) #m\n",
      "Rb=(W*Lad)/Lab #N #take moment at A\n",
      "Xa=Rb*sin(theta*(pi/180)) #N # From eq'n 1\n",
      "Ya=W+Rb*cos(theta*(pi/180)) #N #From eq'n 2\n",
      "\n",
      "#Results\n",
      "\n",
      "print\"The reaction at B i.e Rb is \",round(Rb),\"N\"\n",
      "print\"The horizontal reaction at A i.e Xa is \",round(Xa,2),\"N\"\n",
      "print\"The vertical reaction at A i.e Ya is \",round(Ya,1),\"N\"\n"
     ],
     "language": "python",
     "metadata": {},
     "outputs": [
      {
       "output_type": "stream",
       "stream": "stdout",
       "text": [
        "The reaction at B i.e Rb is  25.0 N\n",
        "The horizontal reaction at A i.e Xa is  21.65 N\n",
        "The vertical reaction at A i.e Ya is  112.5 N\n"
       ]
      }
     ],
     "prompt_number": 6
    },
    {
     "cell_type": "heading",
     "level": 2,
     "metadata": {},
     "source": [
      "Example 5.5-5,Page No:114"
     ]
    },
    {
     "cell_type": "code",
     "collapsed": false,
     "input": [
      "import math\n",
      "\n",
      "#Initilization of variables\n",
      "\n",
      "W=100 #N #self weight of the man\n",
      "alpha=30 #degree # angle made by the ladder with the wall\n",
      "Lob=4 #m # length from the horizontal to the top of the ladder touching the wall(vertical)\n",
      "Lcd=2 #m\n",
      "\n",
      "#Calculations\n",
      "\n",
      "# using the equiblirium equations\n",
      "\n",
      "Ya=W #N # From eq'n 2\n",
      "Lad=Lcd*tan(alpha*(pi/180)) #m #Lad is the distance fom pt A to the point where the line from the cg intersects the horizontal\n",
      "Rb=(W*Lad)/Lob #N # Taking sum of moment abt A\n",
      "Xa=Rb #N # From eq'n 1\n",
      "\n",
      "#Results\n",
      "\n",
      "print\"The horizontal reaction at A i.e Xa is \",round(Xa,2),\"N\"\n",
      "print\"The vertical reaction at A i.e Ya is \",round(Ya),\"N\"\n",
      "print\"The reaction at B i.e Rb is \",round(Rb,2),\"N\"\n"
     ],
     "language": "python",
     "metadata": {},
     "outputs": [
      {
       "output_type": "stream",
       "stream": "stdout",
       "text": [
        "The horizontal reaction at A i.e Xa is  28.87 N\n",
        "The vertical reaction at A i.e Ya is  100.0 N\n",
        "The reaction at B i.e Rb is  28.87 N\n"
       ]
      }
     ],
     "prompt_number": 8
    },
    {
     "cell_type": "heading",
     "level": 2,
     "metadata": {},
     "source": [
      "Example 5.5-6,Page No:115"
     ]
    },
    {
     "cell_type": "code",
     "collapsed": false,
     "input": [
      "import math\n",
      "\n",
      "#Initilization of variables\n",
      "\n",
      "d=0.09 #m #diametre of the right circular cylinder\n",
      "h=0.12 #m #height of the cyinder\n",
      "W=10 #N # self weight of the bar\n",
      "l=0.24 #m #length of the bar\n",
      "\n",
      "#Calculations\n",
      "\n",
      "theta=arctan(h/d)*(180/pi) # angle which the bar makes with the horizontal\n",
      "Lad=(d**2+h**2)**0.5 #m # Lad is the length of the bar from point A to point B\n",
      "Rd=(W*h*cos(theta*(pi/180)))/Lad #N # Taking moment at A\n",
      "Xa=Rd*sin(theta*(pi/180)) #N # sum Fx=0.... From eq'n 1\n",
      "Ya=W-(Rd*cos(theta*(pi/180))) #N # sum Fy=0..... From eq'n 2\n",
      "Ra=(Xa**2+Ya**2)**0.5 #resultant of Xa & Ya\n",
      "\n",
      "#Results\n",
      "\n",
      "print\"The horizontal reaction at A i.e Xa is \",round(Xa,2),\"N\"\n",
      "print\"The vertical reaction at A i.e Ya is \",round(Ya,2),\"N\"\n",
      "print\"Therefore the reaction at A i.e Ra is \",round(Ra,2),\"N\"\n",
      "print\"The reaction at D i.e Rd is \",round(Rd,2),\"N\"\n"
     ],
     "language": "python",
     "metadata": {},
     "outputs": [
      {
       "output_type": "stream",
       "stream": "stdout",
       "text": [
        "The horizontal reaction at A i.e Xa is  3.84 N\n",
        "The vertical reaction at A i.e Ya is  7.12 N\n",
        "Therefore the reaction at A i.e Ra is  8.09 N\n",
        "The reaction at D i.e Rd is  4.8 N\n"
       ]
      }
     ],
     "prompt_number": 10
    }
   ],
   "metadata": {}
  }
 ]
}