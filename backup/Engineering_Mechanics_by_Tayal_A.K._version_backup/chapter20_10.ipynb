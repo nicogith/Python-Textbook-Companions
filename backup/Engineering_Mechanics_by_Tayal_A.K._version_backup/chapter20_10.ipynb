{
 "metadata": {
  "name": "chapter20.ipynb"
 },
 "nbformat": 3,
 "nbformat_minor": 0,
 "worksheets": [
  {
   "cells": [
    {
     "cell_type": "heading",
     "level": 1,
     "metadata": {},
     "source": [
      "Chapter 20: Motion Of Projectile"
     ]
    },
    {
     "cell_type": "heading",
     "level": 2,
     "metadata": {},
     "source": [
      "Example 20.20-1,Page No:518"
     ]
    },
    {
     "cell_type": "code",
     "collapsed": false,
     "input": [
      "import math\n",
      "\n",
      "#Initilization of variables\n",
      "\n",
      "v_o=500 # m/s # velocity of the projectile\n",
      "alpha=30 # angle at which the projectile is fired\n",
      "t=30 # seconds\n",
      "g=9.81 # m/s^2 # acc due to gravity\n",
      "\n",
      "# Calculations\n",
      "\n",
      "v_x=v_o*cos(alpha*(pi/180)) # m/s # Initial velocity in the horizontal direction\n",
      "v_y=v_o*sin(alpha*(pi/180)) # m/s # Initial velocity in the vertical direction\n",
      "\n",
      "# MOTION IN HORIZONTA DIRECTION:\n",
      "V_x=v_x # m/s # V_x=Horizontal velocity after 30 seconds\n",
      "\n",
      "# MOTION IN VERTICAL DIRECTION: # using the eq'n v=u+a*t\n",
      "V_y=v_y-(g*t) # m/s # -ve sign denotes downward motion\n",
      "\n",
      "# Let the Resultant velocity be v_R. It is given as,\n",
      "v_R=((V_x)**2+(-V_y)**2)**0.5# m/s\n",
      "theta=arctan((-V_y)/V_x)*(180/pi) # degree # direction of the projectile\n",
      "\n",
      "# Results\n",
      "\n",
      "print\"The velocity of the projectile is \",round(v_R,2),\"m/s\" # The answer of velocity is wrong in the text book.\n",
      "print\"The direction of the projectile is \",round(theta,2),\"degree\" # -ve value of theta indicates that the direction is in downward direction\n"
     ],
     "language": "python",
     "metadata": {},
     "outputs": [
      {
       "output_type": "stream",
       "stream": "stdout",
       "text": [
        "The velocity of the projectile is  435.27 m/s\n",
        "The direction of the projectile is  5.84 degree\n"
       ]
      }
     ],
     "prompt_number": 8
    },
    {
     "cell_type": "heading",
     "level": 2,
     "metadata": {},
     "source": [
      "Example 20.20-2,Page no:519"
     ]
    },
    {
     "cell_type": "code",
     "collapsed": false,
     "input": [
      "import math\n",
      "\n",
      "# Initilization of variables\n",
      "\n",
      "v_A=10 # m/s # velocity of body A\n",
      "alpha_A=60 # degree # direction of body A\n",
      "alpha_B=45 # degree # direction of body B\n",
      "\n",
      "# Calculations\n",
      "\n",
      "# (a) The velocity (v_B) for the same range is given by eq'n;\n",
      "v_B=((v_A**2*sin(2*alpha_A*(pi/180)))/(sin(2*alpha_B*(pi/180))))**0.5 # m/s\n",
      "\n",
      "# (b) Now velocity v_B for the same maximum height is given as,\n",
      "v_b=((v_A**2)*((sin(alpha_A*(pi/180)))**2/(sin(alpha_B*(pi/180)))**2))**0.5 # m/s\n",
      "\n",
      "# (c) Now the velocity (v) for the equal time of flight is;\n",
      "v=(v_A*sin(alpha_A*(pi/180)))/(sin(alpha_B*(pi/180))) # m/s\n",
      "\n",
      "# Results\n",
      "\n",
      "print\"(a) The velocity of body B for horizontal range is \",round(v_B,1),\"m/s\"\n",
      "print\"(b) The velocity of body B for the maximum height is \",round(v_b,2),\"m/s\"\n",
      "print\"(c) The velocity of body B for equal time of flight is \",round(v,2),\"m/s\"\n"
     ],
     "language": "python",
     "metadata": {},
     "outputs": [
      {
       "output_type": "stream",
       "stream": "stdout",
       "text": [
        "(a) The velocity of body B for horizontal range is  9.3 m/s\n",
        "(b) The velocity of body B for the maximum height is  12.25 m/s\n",
        "(c) The velocity of body B for equal time of flight is  12.25 m/s\n"
       ]
      }
     ],
     "prompt_number": 10
    },
    {
     "cell_type": "heading",
     "level": 2,
     "metadata": {},
     "source": [
      "Example 20.20-3,Page No:520 "
     ]
    },
    {
     "cell_type": "code",
     "collapsed": false,
     "input": [
      "import math\n",
      "\n",
      "# Initilization of variables\n",
      "\n",
      "y=3.6 # m # height of the wall\n",
      "x_1=4.8 # m # position of the boy w.r.t the wall\n",
      "x_2=3.6 # m # distance from the wall where the ball hits the ground\n",
      "g=9.81 # m/s^2 # acc due to gravity\n",
      "\n",
      "# Calculations\n",
      "\n",
      "# The range of the projectile is r, given as,\n",
      "r=x_1+x_2 # m\n",
      "\n",
      "# Let the angle of the projection be alpha, which is derived and given as,\n",
      "alpha=arctan((y)/(x_1-(x_1**2/r)))*(180/pi) # degree\n",
      "\n",
      "# Now substuting the value of alpha in eq'n 3 we get the least velocity (v_o) as;\n",
      "v_o=((g*r)/(sin(2*alpha*(pi/180))))**0.5 # m/s\n",
      "\n",
      "# Results\n",
      "\n",
      "print\"The least velocity with which the ball can be thrown is \",round(v_o,2),\"m/s\"\n",
      "print\"The angle of projection for the same is \",round(alpha,1),\"degree\"\n"
     ],
     "language": "python",
     "metadata": {},
     "outputs": [
      {
       "output_type": "stream",
       "stream": "stdout",
       "text": [
        "The least velocity with which the ball can be thrown is  9.78 m/s\n",
        "The angle of projection for the same is  60.3 degree\n"
       ]
      }
     ],
     "prompt_number": 12
    },
    {
     "cell_type": "heading",
     "level": 2,
     "metadata": {},
     "source": [
      "Example 20.20-5,Page No:523 "
     ]
    },
    {
     "cell_type": "code",
     "collapsed": false,
     "input": [
      "import math\n",
      "\n",
      "# Initilization of variables\n",
      "\n",
      "v_o=400 # m/s # initial velocity of each gun\n",
      "r=5000 # m # range of each of the guns\n",
      "g=9.81 # m/s^2 # acc due to gravity\n",
      "p=180 # degree \n",
      "pi=3.14\n",
      "\n",
      "# Calculations\n",
      "\n",
      "# now from eq'n 1\n",
      "theta_1=(arcsin(r*g/v_o**2)*(180/pi))/2 # degree # angle at which the 1st gun is fired\n",
      "\n",
      "# from eq'n 3\n",
      "theta_2=(p-2*theta_1)/2 # degree \n",
      "\n",
      "# For 1st & 2nd gun, s is\n",
      "s=r # m\n",
      "\n",
      "# For 1st gun \n",
      "v_x=v_o*cos(theta_1*(pi/180)) # m/s\n",
      "\n",
      "# Now the time of flight for 1st gun is t_1, which is given by relation,\n",
      "t_1=s*(v_x)**-1 # seconds\n",
      "\n",
      "# For 2nd gun\n",
      "V_x=v_o*cos(theta_2*(pi/180))\n",
      "\n",
      "# Now the time of flight for 2nd gun is t_2\n",
      "t_2=s/V_x # seconds\n",
      "\n",
      "# Let the time difference between the two hits be delta.T. Then,\n",
      "T=t_2-t_1 # seconds\n",
      "\n",
      "# Results\n",
      "\n",
      "print\"The time difference between the two hits is \",round(T,2),\"seconds\" #answer varies by 0.6 sec due to decimal variance\n"
     ],
     "language": "python",
     "metadata": {},
     "outputs": [
      {
       "output_type": "stream",
       "stream": "stdout",
       "text": [
        "The time difference between the two hits is  67.5 seconds\n"
       ]
      }
     ],
     "prompt_number": 99
    },
    {
     "cell_type": "heading",
     "level": 2,
     "metadata": {},
     "source": [
      "Example 20.20-6,Page No:524"
     ]
    },
    {
     "cell_type": "code",
     "collapsed": false,
     "input": [
      "import math\n",
      "\n",
      "# Initilization of variables\n",
      "\n",
      "h=2000 # m/ height of the plane\n",
      "v=540*1000*3600**-1 # m/s # velocity of the plane\n",
      "g=9.81 # m/s^2 # acc due to gravity\n",
      "pi=3.14\n",
      "\n",
      "# Calculations\n",
      "\n",
      "# Time t required to travel down a height 2000 m is given by eq'n,\n",
      "u=0 # m/s # initial velocity\n",
      "t=(2*h/g)**0.5 # seconds\n",
      "\n",
      "# Now let s be the horizonta distance travelled by the bomb in time t seconds, then\n",
      "s= v*t # m\n",
      "\n",
      "# angle is given as theta,\n",
      "theta=arctan(h/s)*(180/pi) # degree\n",
      "\n",
      "# Results\n",
      "\n",
      "print\"The pilot should release the bomb from a distance of \",round(s),\"m\" #the answer varies by 1m due to decimal variance\n",
      "print\"The angle at which the target would appear is \",round(theta,1),\"degree\"\n"
     ],
     "language": "python",
     "metadata": {},
     "outputs": [
      {
       "output_type": "stream",
       "stream": "stdout",
       "text": [
        "The pilot should release the bomb from a distance of  3029.0 m\n",
        "The angle at which the target would appear is  33.5 degree\n"
       ]
      }
     ],
     "prompt_number": 70
    },
    {
     "cell_type": "heading",
     "level": 2,
     "metadata": {},
     "source": [
      "Example 20.20-7,Page No:525"
     ]
    },
    {
     "cell_type": "code",
     "collapsed": false,
     "input": [
      "import math\n",
      "\n",
      "# Initilization of variables\n",
      "\n",
      "theta=30 # degree # angle at which the bullet is fired\n",
      "s=-50 # position of target below hill\n",
      "v=100 # m/s # velocity at which the bullet if fired\n",
      "g=9.81 # m/s^2 \n",
      "\n",
      "# Calculations\n",
      "\n",
      "v_x=v*cos(theta*(pi/180)) # m/s # Initial velocity in horizontal direction\n",
      "v_y=v*sin(theta*(pi/180)) # m/s # Initial velocity in vertical direction\n",
      "\n",
      "# (a) Max height attained by the bullet\n",
      "h=v_y**2/(2*g) # m\n",
      "\n",
      "# (b)Let the vertical Velocity with which the bullet will hit the target be V_y. Then,\n",
      "V_y=((2*-9.81*s)+(v_y)**2)**0.5 # m/s # the value of V_y is +ve & -ve\n",
      "\n",
      "# Let V be the velocity with wich it hits the target\n",
      "V=((v_x)**2+(V_y)**2)**0.5 # m/s\n",
      "\n",
      "# (c) The time required to hit the target\n",
      "a=g # m/s^2\n",
      "t=(v_y-(-V_y))/a # seconds\n",
      "\n",
      "# Results\n",
      "\n",
      "print\"(a) The maximum height to which the bullet will rise above the soldier is \",round(h,1),\"m\"\n",
      "print\"(b) The velocity with which the bullet will hit the target is \",round(V,1),\"m/s\"\n",
      "print\"(c) The time required to hit the target is \",round(t,1),\"seconds\"\n"
     ],
     "language": "python",
     "metadata": {},
     "outputs": [
      {
       "output_type": "stream",
       "stream": "stdout",
       "text": [
        "(a) The maximum height to which the bullet will rise above the soldier is  127.3 m\n",
        "(b) The velocity with which the bullet will hit the target is  104.8 m/s\n",
        "(c) The time required to hit the target is  11.1 seconds\n"
       ]
      }
     ],
     "prompt_number": 72
    },
    {
     "cell_type": "heading",
     "level": 2,
     "metadata": {},
     "source": [
      "Example 20.20-8,Page No:527"
     ]
    },
    {
     "cell_type": "code",
     "collapsed": false,
     "input": [
      "import math\n",
      "\n",
      "# Initilization of variables\n",
      "\n",
      "W=30 # N # Weight of the hammer\n",
      "theta=30 # degree # ref fig.20.12\n",
      "mu=0.18 # coefficient of friction\n",
      "s=10 # m # distance travelled by the hammer # fig 20.12\n",
      "g=9.81 # m/s^2 # acc due to gravity\n",
      "\n",
      "# Calculations\n",
      "\n",
      "# The acceleration of the hammer is given as,\n",
      "a=g*((sin(theta*(pi/180)))-(mu*cos(theta*(pi/180)))) # m/s^2\n",
      "\n",
      "# The velocity of the hammer at point B is,\n",
      "v=(2*a*s)**0.5 # m/s\n",
      "\n",
      "# Let the initial velocity of the hammer in horizontal direction be v_x & v_y in vertical direction, Then,\n",
      "v_x=v*cos(theta*(pi/180)) # m/s\n",
      "v_y=v*sin(theta*(pi/180)) # m/s\n",
      "\n",
      "# MOTION IN VERTICAL DIRECTION\n",
      "# Now, let time required to travel vertical distance (i.e BB'=S=5 m) is given by finding the roots of the second degree eq'n as,\n",
      "# From the eq'n 4.9*t^2+4.1*t-5=0,\n",
      "a=4.9\n",
      "b=4.1\n",
      "c=-5\n",
      "\n",
      "# The roots of the eq'n are,\n",
      "t=((-b)+((b**2-(4*a*c))**0.5))/(2*a)\n",
      "\n",
      "# MOTION IN HORIZONTAL DIRECTION\n",
      "# Let the horizotal distance travelled by the hammer in time t be s_x.Then,\n",
      "s_x=v_x*cos(theta*(pi/180))*t # m\n",
      "x=1+s_x # m\n",
      "\n",
      "# Results\n",
      "\n",
      "print\"The distance x where the hammer hits the round is \",round(x,2),\"m\"\n"
     ],
     "language": "python",
     "metadata": {},
     "outputs": [
      {
       "output_type": "stream",
       "stream": "stdout",
       "text": [
        "The distance x where the hammer hits the round is  5.16 m\n"
       ]
      }
     ],
     "prompt_number": 101
    },
    {
     "cell_type": "heading",
     "level": 2,
     "metadata": {},
     "source": [
      "Example 20.20-9,Page no:528"
     ]
    },
    {
     "cell_type": "code",
     "collapsed": false,
     "input": [
      "import math\n",
      "\n",
      "# Initilization of variables\n",
      "s=1000 # m # distance OB (ref fig.20.13)\n",
      "h=19.6 # m # height of shell from ground\n",
      "g=9.81 # m/s^2 # acc due to gravity\n",
      "\n",
      "# Calculations\n",
      "\n",
      "# MOTION OF ENTIRE SHELL FROM O to A.\n",
      "v_y=(2*(g)*h)**0.5 # m/s # initial velocity of shell in vertical direction\n",
      "t=v_y/g # seconds # time taken by the entire shell to reach point A\n",
      "v_x=s/t # m/s # velocity of shell in vertical direction\n",
      "\n",
      "# VELOCITIES OF THE TWO PARTS OF THE SHELL AFTER BURSTING AT A:\n",
      "\n",
      "# Let v_x2 be the horizontal velocity of 1st & the 2nd part after bursting which is given as,\n",
      "v_x2=v_x*2 # m/s\n",
      "\n",
      "# Now distance BC travelled by part 2 is\n",
      "BC=v_x2*t # m\n",
      "\n",
      "# Distance from firing point OC\n",
      "OC=s+BC # m\n",
      "\n",
      "# Results\n",
      "\n",
      "print\"(a) The velocity of shell just before bursting is \",round(v_x),\"m/s\"\n",
      "print\"(b) The velocity of first part immediately before the shell burst is \",round(v_x),\"m/s\"\n",
      "print\"(c) The velocity of second part immediately after the shell burst is \",round(v_x2,1),\"m/s\"\n",
      "print\"(b) The distance between the firing point & the point where the second part of the shell hit the ground is \",round(OC),\"m\"\n"
     ],
     "language": "python",
     "metadata": {},
     "outputs": [
      {
       "output_type": "stream",
       "stream": "stdout",
       "text": [
        "(a) The velocity of shell just before bursting is  500.0 m/s\n",
        "(b) The velocity of first part immediately before the shell burst is  500.0 m/s\n",
        "(c) The velocity of second part immediately after the shell burst is  1000.5 m/s\n",
        "(b) The distance between the firing point & the point where the second part of the shell hit the ground is  3000.0 m\n"
       ]
      }
     ],
     "prompt_number": 106
    },
    {
     "cell_type": "heading",
     "level": 2,
     "metadata": {},
     "source": [
      "Example 20.20-10,Page No:530"
     ]
    },
    {
     "cell_type": "code",
     "collapsed": false,
     "input": [
      "import math\n",
      "\n",
      "# Initilization of variables\n",
      "\n",
      "v_o=200 # m/s # initial velocity\n",
      "theta=60 # degree # angle of the incline\n",
      "y=5 # rise of incline\n",
      "x=12 # length of incline\n",
      "g=9.81 # m/s^2 # acc due to gravity\n",
      "\n",
      "\n",
      "# Calculations\n",
      "\n",
      "# The angle of the inclined plane with respect to horizontal\n",
      "beta=arctan(y*x**-1)*(180/pi) # degree\n",
      "\n",
      "# The angle of projection with respect to horizontal\n",
      "alpha=90-theta # degree\n",
      "\n",
      "# Range is given by eq'n (ref. fig.20.14)\n",
      "AB=(2*v_o**2*(sin((alpha-beta)*(pi/180)))*cos(alpha*(pi/180)))/(g*(cos(beta*(pi/180)))**2) # m\n",
      "\n",
      "# Range AC when the short is fired down the plane\n",
      "AC=(2*v_o**2*(sin((alpha+beta)*(pi/180)))*cos(alpha*(pi/180)))/(g*(cos(beta*(pi/180)))**2) # m\n",
      "BC=AB+AC # m\n",
      "\n",
      "# Results\n",
      "\n",
      "print\"The range covered (i.e BC) is \",round(BC),\"m\" #due to decimal variancce answer varies by 1m\n"
     ],
     "language": "python",
     "metadata": {},
     "outputs": [
      {
       "output_type": "stream",
       "stream": "stdout",
       "text": [
        "The range covered (i.e BC) is  7649.0 m\n"
       ]
      }
     ],
     "prompt_number": 138
    },
    {
     "cell_type": "code",
     "collapsed": false,
     "input": [],
     "language": "python",
     "metadata": {},
     "outputs": []
    }
   ],
   "metadata": {}
  }
 ]
}