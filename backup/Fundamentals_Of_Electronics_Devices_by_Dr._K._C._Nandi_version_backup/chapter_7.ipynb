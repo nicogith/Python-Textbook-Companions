{
 "metadata": {
  "name": ""
 },
 "nbformat": 3,
 "nbformat_minor": 0,
 "worksheets": [
  {
   "cells": [
    {
     "cell_type": "heading",
     "level": 1,
     "metadata": {},
     "source": [
      "Chapter : 7 - Optoelectronic Devices"
     ]
    },
    {
     "cell_type": "heading",
     "level": 2,
     "metadata": {},
     "source": [
      "Example : 7.6.1 - Page No : 7-16"
     ]
    },
    {
     "cell_type": "code",
     "collapsed": false,
     "input": [
      "from __future__ import division\n",
      "# Given data\n",
      "O_V = 5;# output voltage in V\n",
      "V_D = 1.5;#voltage drop in V\n",
      "R = (O_V - V_D)/O_V;\n",
      "R = R * 10**3;# in ohm\n",
      "print \"The resistance value = %0.f \u03a9\" %R\n",
      "print \"As this is not standard value, use R=680 \u03a9 which is a standard value\""
     ],
     "language": "python",
     "metadata": {},
     "outputs": [
      {
       "output_type": "stream",
       "stream": "stdout",
       "text": [
        "The resistance value = 700 \u03a9\n",
        "As this is not standard value, use R=680 \u03a9 which is a standard value\n"
       ]
      }
     ],
     "prompt_number": 2
    },
    {
     "cell_type": "heading",
     "level": 2,
     "metadata": {},
     "source": [
      "Example : 7.23.1 - Page No : 7-57"
     ]
    },
    {
     "cell_type": "code",
     "collapsed": false,
     "input": [
      "from math import sqrt, log\n",
      "# Given data\n",
      "N_A = 7.5*10**24;# in atoms/m**3\n",
      "N_D = 1.5*10**22;# in atoms/m**3\n",
      "I_lembda = 12.5*10**-3;# in A/cm**2\n",
      "D_e = 25*10**-4;# in m**2/s\n",
      "D_h = 1*10**-3;# in m**2/s\n",
      "Torque_eo = 500;# in ns\n",
      "Torque_ho = 100;# in ns\n",
      "n_i = 1.5*10**16;# in /m**3\n",
      "e = 1.6*10**-19;\n",
      "P_C = 12.5;# in mA/cm**2\n",
      "L_e = sqrt(D_e*Torque_ho*10**-9);# in m\n",
      "L_e = L_e * 10**6;# in \u00b5m\n",
      "L_h = sqrt(D_h*Torque_ho*10**-9);# in m\n",
      "L_h = L_h * 10**6;# in \u00b5m\n",
      "J_s = e*((n_i)**2)*( (D_e/(L_e*10**-6*N_A)) + (D_h/(L_h*10**-6*N_D)) );# in A/m**2\n",
      "J_s = J_s * 10**-4;# in A/cm**2\n",
      "V_T = 26;# in mV\n",
      "V_OC = V_T*log( 1+(I_lembda/J_s) );# in mV\n",
      "V_OC = V_OC * 10**-3;# in V\n",
      "print \"Open circuit voltage = %0.3f V\" %V_OC"
     ],
     "language": "python",
     "metadata": {},
     "outputs": [
      {
       "output_type": "stream",
       "stream": "stdout",
       "text": [
        "Open circuit voltage = 0.522 V\n"
       ]
      }
     ],
     "prompt_number": 5
    },
    {
     "cell_type": "heading",
     "level": 2,
     "metadata": {},
     "source": [
      "Example : 7.23.2 - Page No : 7-57"
     ]
    },
    {
     "cell_type": "code",
     "collapsed": false,
     "input": [
      "from math import exp\n",
      "# Given data\n",
      "Phi_o = 1*10**21;# in m**-2s**-1\n",
      "Alpha = 1*10**5;# in m**-1\n",
      "W = 25;# in \u00b5m\n",
      "W =W * 10**-6;# in m\n",
      "e = 1.6*10**-19;# in C\n",
      "G_L1 = Alpha*Phi_o;# in m**-3s**-1\n",
      "G_L2 = Alpha*Phi_o*exp( (-Alpha*W) );# in m**-3s**-1\n",
      "J_L = e*Phi_o*(1-exp(-Alpha*W));# in A/m**2\n",
      "J_L = J_L * 10**-1;# in mA/cm**2\n",
      "print \"Photo current density = %0.2f mA/cm**2\" %J_L"
     ],
     "language": "python",
     "metadata": {},
     "outputs": [
      {
       "output_type": "stream",
       "stream": "stdout",
       "text": [
        "Photo current density = 14.69 mA/cm**2\n"
       ]
      }
     ],
     "prompt_number": 8
    }
   ],
   "metadata": {}
  }
 ]
}