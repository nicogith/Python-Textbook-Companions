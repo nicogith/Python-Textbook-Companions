{
 "metadata": {
  "name": ""
 },
 "nbformat": 3,
 "nbformat_minor": 0,
 "worksheets": [
  {
   "cells": [
    {
     "cell_type": "heading",
     "level": 1,
     "metadata": {},
     "source": [
      "Chapter : 8 - Negative Conductance Microwave Devices And Power Devices"
     ]
    },
    {
     "cell_type": "heading",
     "level": 2,
     "metadata": {},
     "source": [
      "Example : 8.13.1 - Page No : 8-35"
     ]
    },
    {
     "cell_type": "code",
     "collapsed": false,
     "input": [
      "from __future__ import division\n",
      "# Given data\n",
      "R= 10;# in k\u03a9\n",
      "R= R*10**3;# in \u03a9\n",
      "# Part (i)\n",
      "V=300;# in V\n",
      "I_A= V/R;# in A\n",
      "print \"Part (i) : For 300 V voltage : \"\n",
      "print \"The anode current = %0.f mA\" %(I_A*10**3)\n",
      "# Part (ii)\n",
      "V=100;# in V\n",
      "I_A= V/R;# in A\n",
      "print \"Part (ii) : For 100 V voltage : \"\n",
      "print \"The anode current = %0.f mA\" %(I_A*10**3)"
     ],
     "language": "python",
     "metadata": {},
     "outputs": [
      {
       "output_type": "stream",
       "stream": "stdout",
       "text": [
        "Part (i) : For 300 V voltage : \n",
        "The anode current = 30 mA\n",
        "Part (ii) : For 100 V voltage : \n",
        "The anode current = 10 mA\n"
       ]
      }
     ],
     "prompt_number": 4
    },
    {
     "cell_type": "heading",
     "level": 2,
     "metadata": {},
     "source": [
      "Example : 8.14.1 - Page No : 8-43"
     ]
    },
    {
     "cell_type": "code",
     "collapsed": false,
     "input": [
      "# Given data\n",
      "t_rr = 10;# in \u00b5s\n",
      "Q_rr = 150;# in \u00b5c\n",
      "I_rr = (2*Q_rr)/t_rr;# in A\n",
      "print \"The peak reverse recovery current = %0.f A\" %I_rr"
     ],
     "language": "python",
     "metadata": {},
     "outputs": [
      {
       "output_type": "stream",
       "stream": "stdout",
       "text": [
        "The peak reverse recovery current = 30 A\n"
       ]
      }
     ],
     "prompt_number": 6
    }
   ],
   "metadata": {}
  }
 ]
}