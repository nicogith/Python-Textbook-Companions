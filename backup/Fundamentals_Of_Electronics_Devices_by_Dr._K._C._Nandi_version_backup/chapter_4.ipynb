{
 "metadata": {
  "name": "",
  "signature": "sha256:05740426f73b9605877bfd0b7708432621382112013a8d4f8751c47309a06737"
 },
 "nbformat": 3,
 "nbformat_minor": 0,
 "worksheets": [
  {
   "cells": [
    {
     "cell_type": "heading",
     "level": 1,
     "metadata": {},
     "source": [
      "Chapter : 4 - Junction Properties"
     ]
    },
    {
     "cell_type": "heading",
     "level": 2,
     "metadata": {},
     "source": [
      "Example :  4.16.1 - Page No : 4-69"
     ]
    },
    {
     "cell_type": "code",
     "collapsed": false,
     "input": [
      "from __future__ import division\n",
      "from math import log\n",
      "# Given data\n",
      "t = 4.4 * 10**22 # total number of Ge atoms/cm**3\n",
      "n = 1 * 10**8 # number of impurity atoms\n",
      "N_A = t/n # in atoms/cm**3\n",
      "N_A = N_A * 10**6 # in atoms/m**3\n",
      "N_D = N_A * 10**3 # in atoms/m**3\n",
      "n_i = 2.5 * 10**13 # in atoms/cm**3\n",
      "n_i = n_i * 10**6 # in atoms/m**3\n",
      "V_T = 26 #in mV\n",
      "V_T= V_T*10**-3 # in V\n",
      "V_J = V_T * log((N_A * N_D)/(n_i)**2) # in V\n",
      "print \"Part (a) : The contact potential = %0.3f V \" %V_J\n",
      "# Part (b)\n",
      "t = 5* 10**22 # total number of Si atoms/cm**3\n",
      "N_A = t/n # in atoms/cm**3\n",
      "N_A = N_A * 10**6 # in atoms/m**3\n",
      "N_D = N_A * 10**3 # in atoms/m**3\n",
      "n_i = 1.5 * 10**10 # in atoms/cm**3\n",
      "n_i = n_i * 10**6 # in atoms/m**3\n",
      "V_T = 26 #in mV\n",
      "V_T= V_T*10**-3 # in V\n",
      "V_J = V_T * log((N_A * N_D)/(n_i)**2) # in V\n",
      "print \"Part (b) : The contact potential  = %0.3f V \" %V_J"
     ],
     "language": "python",
     "metadata": {},
     "outputs": [
      {
       "output_type": "stream",
       "stream": "stdout",
       "text": [
        "Part (a) : The contact potential = 0.329 V \n",
        "Part (b) : The contact potential  = 0.721 V \n"
       ]
      }
     ],
     "prompt_number": 1
    },
    {
     "cell_type": "heading",
     "level": 2,
     "metadata": {},
     "source": [
      "Example :  4.16.2 - Page No : 4-71"
     ]
    },
    {
     "cell_type": "code",
     "collapsed": false,
     "input": [
      "# Given data\n",
      "V_T = 26 # in mV\n",
      "V_T=V_T*10**-3 # in V\n",
      "n_i = 2.5 * 10**13 \n",
      "Sigma_p = 1 \n",
      "Sigma_n = 1 \n",
      "Mu_n = 3800 \n",
      "q = 1.6 * 10**-19 # in C\n",
      "Mu_p = 1800 \n",
      "N_A = Sigma_p/(2* q * Mu_p) # in /cm**3\n",
      "N_D = Sigma_n /(q * Mu_n) # in /cm**3\n",
      "V_J = V_T * log((N_A * N_D)/(n_i)**2) # in V\n",
      "print \"For Ge the height of the energy barrier = %0.2f V \" %V_J\n",
      "# For Si p-n juction\n",
      "n_i = 1.5 * 10**10 \n",
      "Mu_n = 1300 \n",
      "Mu_p = 500 \n",
      "N_A = Sigma_p/(2* q * Mu_p) # in /cm**3\n",
      "N_D = Sigma_n /(q * Mu_n) # in /cm**3\n",
      "V_J = V_T * log((N_A * N_D)/(n_i)**2) # in V\n",
      "print \"For Si p-n junction  the height of the energy barrier = %0.3f V \" %V_J"
     ],
     "language": "python",
     "metadata": {},
     "outputs": [
      {
       "output_type": "stream",
       "stream": "stdout",
       "text": [
        "For Ge the height of the energy barrier = 0.22 V \n",
        "For Si p-n junction  the height of the energy barrier = 0.666 V \n"
       ]
      }
     ],
     "prompt_number": 2
    },
    {
     "cell_type": "heading",
     "level": 2,
     "metadata": {},
     "source": [
      "Example 4.16.3 - Page No : 4-72"
     ]
    },
    {
     "cell_type": "code",
     "collapsed": false,
     "input": [
      "from math import exp\n",
      "# Given data\n",
      "Eta = 1 \n",
      "V_T = 26 # in mV\n",
      "V_T= V_T*10**-3 # in V\n",
      "# I = I_o * (exp(V/(Eta*V_T)) - 1) and I = -(0.9) * I_o \n",
      "V= log(1-0.9)*V_T # in V\n",
      "print \"The voltage = %0.2f volts \" %V\n",
      "# Part (ii)\n",
      "V1=0.05 # in V\n",
      "V2= -0.05 # in V\n",
      "ratio= (exp(V1/(Eta*V_T))-1)/(exp(V2/(Eta*V_T))-1)\n",
      "print \"The ratio of the current for a forward bias to reverse bias = %0.2f\" %ratio\n",
      "# Part (iii)\n",
      "Io= 10 # in \u00b5A\n",
      "Io=Io*10**-3 # in mA\n",
      "#For \n",
      "V=0.1 # in V\n",
      "I = Io * (exp(V/(Eta*V_T)) - 1) # in mA\n",
      "print \"For v=0.1 V , the value of I = %0.3f mA \" %I\n",
      "#For \n",
      "V=0.2 # in V\n",
      "I = Io * (exp(V/(Eta*V_T)) - 1) # in mA\n",
      "print \"For v=0.2 V , the value of I = %0.1f mA \" %I\n",
      "#For \n",
      "V=0.3 # in V\n",
      "I = Io * (exp(V/(Eta*V_T)) - 1) # in mA\n",
      "print \"For v=0.3 V , the value of I = %0.2f A \" %(I*10**-3)\n",
      "print \"From three value of I, for small rise in forward voltage, the diode current increase rapidly\""
     ],
     "language": "python",
     "metadata": {},
     "outputs": [
      {
       "output_type": "stream",
       "stream": "stdout",
       "text": [
        "The voltage = -0.06 volts \n",
        "The ratio of the current for a forward bias to reverse bias = -6.84\n",
        "For v=0.1 V , the value of I = 0.458 mA \n",
        "For v=0.2 V , the value of I = 21.9 mA \n",
        "For v=0.3 V , the value of I = 1.03 A \n",
        "From three value of I, for small rise in forward voltage, the diode current increase rapidly\n"
       ]
      }
     ],
     "prompt_number": 3
    },
    {
     "cell_type": "heading",
     "level": 2,
     "metadata": {},
     "source": [
      "Example 4.16.4 - Page No : 4-73"
     ]
    },
    {
     "cell_type": "code",
     "collapsed": false,
     "input": [
      "# Given data\n",
      "# Part (i)\n",
      "T1= 25 # in \u00b0C\n",
      "T2= 80 # in \u00b0C\n",
      "# Formula Io2= Io1*2**((T2-T1)/10)\n",
      "AntiFactor= 2**((T2-T1)/10) \n",
      "print \"Anticipated factor for Ge = %0.f \" %AntiFactor\n",
      "# Part (ii)\n",
      "T1= 25 # in \u00b0C\n",
      "T2= 150 # in \u00b0C\n",
      "AntiFactor= 2**((T2-T1)/10) \n",
      "print \"Anticipated factor for Si = %0.f \" %AntiFactor"
     ],
     "language": "python",
     "metadata": {},
     "outputs": [
      {
       "output_type": "stream",
       "stream": "stdout",
       "text": [
        "Anticipated factor for Ge = 45 \n",
        "Anticipated factor for Si = 5793 \n"
       ]
      }
     ],
     "prompt_number": 4
    },
    {
     "cell_type": "heading",
     "level": 2,
     "metadata": {},
     "source": [
      "Example 4.16.5 - Page No : 4-74"
     ]
    },
    {
     "cell_type": "code",
     "collapsed": false,
     "input": [
      "# Given data\n",
      "I=5 # in \u00b5A\n",
      "V=10 # in V\n",
      "T1= 0.11 # in \u00b0C**-1\n",
      "T2= 0.07 # in \u00b0C**-1\n",
      "# Io+I_R=I                            (i)\n",
      "# dI_by_dT= dIo_by_dT      (ii)\n",
      "# 1/Io*dIo_by_dT = T1 and 1/I*dI_by_dT = T2, So\n",
      "Io= T2*I/T1 # in \u00b5A\n",
      "I_R= I-Io # in \u00b5A\n",
      "R= V/I_R # in M\u03a9\n",
      "print \"The leakage resistance = %0.1f M\u03a9 \" %R"
     ],
     "language": "python",
     "metadata": {},
     "outputs": [
      {
       "output_type": "stream",
       "stream": "stdout",
       "text": [
        "The leakage resistance = 5.5 M\u03a9 \n"
       ]
      }
     ],
     "prompt_number": 5
    },
    {
     "cell_type": "heading",
     "level": 2,
     "metadata": {},
     "source": [
      "Example 4.16.6 - Page No : 4-75"
     ]
    },
    {
     "cell_type": "code",
     "collapsed": false,
     "input": [
      "# Given data\n",
      "Eta = 1 \n",
      "T = 125 # in \u00b0C\n",
      "T = T + 273 # in K\n",
      "V_T = 8.62 * 10**-5 * 398 # in V\n",
      "I_o = 30 # in \u00b5A\n",
      "I_o= I_o*10**-6 # in A\n",
      "v = 0.2 # in V\n",
      "r_f = (Eta * V_T)/(I_o * exp(v/(Eta* V_T))) # in ohm\n",
      "print \"The dynamic resistance in the forward direction = %0.2f ohm \" %r_f\n",
      "r_r = (Eta * V_T)/(I_o * exp(-v/(Eta* V_T))) # in ohm\n",
      "print \"The dynamic resistance in the reverse direction = %0.2f kohm \" %(r_r*10**-3)"
     ],
     "language": "python",
     "metadata": {},
     "outputs": [
      {
       "output_type": "stream",
       "stream": "stdout",
       "text": [
        "The dynamic resistance in the forward direction = 3.36 ohm \n",
        "The dynamic resistance in the reverse direction = 389.08 kohm \n"
       ]
      }
     ],
     "prompt_number": 6
    },
    {
     "cell_type": "heading",
     "level": 2,
     "metadata": {},
     "source": [
      "Example :  4.16.7 - Page No : 4-76"
     ]
    },
    {
     "cell_type": "code",
     "collapsed": false,
     "input": [
      "from numpy import pi\n",
      "# Given data\n",
      "epsilon = 16/(36 * pi * 10**11) # in F/cm\n",
      "A = 1 * 10**-2 \n",
      "W = 2 * 10**-4 \n",
      "C_T = (epsilon * A)/W # in F\n",
      "print \"The barrier capacitance = %0.2f pF \" %(C_T*10**12)"
     ],
     "language": "python",
     "metadata": {},
     "outputs": [
      {
       "output_type": "stream",
       "stream": "stdout",
       "text": [
        "The barrier capacitance = 70.74 pF \n"
       ]
      }
     ],
     "prompt_number": 7
    },
    {
     "cell_type": "heading",
     "level": 2,
     "metadata": {},
     "source": [
      "Example 4.16.8 - Page No : 4-76"
     ]
    },
    {
     "cell_type": "code",
     "collapsed": false,
     "input": [
      "from math import sqrt\n",
      "# Given data\n",
      "A = 1 # in mm**2\n",
      "A = A * 10**-6 # in m**2\n",
      "N_A = 3 * 10**20 # in atoms/m**3\n",
      "q = 1.6 *10**-19 # in C\n",
      "V_o = 0.2 # in V\n",
      "epsilon_r=16 \n",
      "epsilon_o= 8.854*10**-12 # in F/m\n",
      "epsilon=epsilon_r*epsilon_o \n",
      "# Part (a)\n",
      "V=-10 # in V\n",
      "# V_o - V = 1/2*((q * N_A )/epsilon) * W**2\n",
      "W = sqrt(((V_o - V) * 2 * epsilon)/(q * N_A)) # m\n",
      "C_T1 = (epsilon * A)/W # in F\n",
      "print \"The width of the depletion layer  for an applied reverse voltage of 10V     = %0.2f \u00b5m \" %(W*10**6)\n",
      "# Part (b)\n",
      "V=-0.1 # in V\n",
      "W = sqrt(((V_o - V) * 2 * epsilon)/(q * N_A)) # m\n",
      "C_T2 = (epsilon * A)/W # in F\n",
      "print \"The width of the depletion layer  for an applied reverse voltage of 0.1V    = %0.2f \u00b5m \" %(W*10**6)\n",
      "# Part (c)\n",
      "V=0.1 # in V\n",
      "W = sqrt(((V_o - V) * 2 * epsilon)/(q * N_A)) # m\n",
      "print \"The width of the depletion layer  for an applied for a forward bias of 0.1V = %0.3f \u00b5m \" %(W*10**6)\n",
      "# Part (d)\n",
      "print \"The space charge capacitance for an applied reverse voltage of 10V          = %0.2f pF \" %(C_T1*10**12)\n",
      "print \"The space charge capacitance for an applied reverse voltage of 0.1V         = %0.2f pF \" %(C_T2*10**12)"
     ],
     "language": "python",
     "metadata": {},
     "outputs": [
      {
       "output_type": "stream",
       "stream": "stdout",
       "text": [
        "The width of the depletion layer  for an applied reverse voltage of 10V     = 7.76 \u00b5m \n",
        "The width of the depletion layer  for an applied reverse voltage of 0.1V    = 1.33 \u00b5m \n",
        "The width of the depletion layer  for an applied for a forward bias of 0.1V = 0.768 \u00b5m \n",
        "The space charge capacitance for an applied reverse voltage of 10V          = 18.26 pF \n",
        "The space charge capacitance for an applied reverse voltage of 0.1V         = 106.46 pF \n"
       ]
      }
     ],
     "prompt_number": 8
    },
    {
     "cell_type": "heading",
     "level": 2,
     "metadata": {},
     "source": [
      "Example :  4.16.9 - Page No : 4-78"
     ]
    },
    {
     "cell_type": "code",
     "collapsed": false,
     "input": [
      "# Given data\n",
      "I_o = 1.8 * 10**-9 # A\n",
      "v = 0.6 # in V\n",
      "Eta = 2 \n",
      "V_T = 26 # in mV\n",
      "V_T=V_T*10**-3 # in V\n",
      "I = I_o *(exp(v/(Eta * V_T))) # in A\n",
      "print \"The current in the junction = %0.3f mA \" %(I*10**3)"
     ],
     "language": "python",
     "metadata": {},
     "outputs": [
      {
       "output_type": "stream",
       "stream": "stdout",
       "text": [
        "The current in the junction = 0.185 mA \n"
       ]
      }
     ],
     "prompt_number": 9
    },
    {
     "cell_type": "heading",
     "level": 2,
     "metadata": {},
     "source": [
      "Example :  4.16.10 - Page No : 4-78"
     ]
    },
    {
     "cell_type": "code",
     "collapsed": false,
     "input": [
      "# Given data\n",
      "I_o = 2.4 * 10**-14 \n",
      "I = 1.5 # in mA\n",
      "I=I*10**-3 # in A\n",
      "Eta = 1\n",
      "V_T = 26 # in mV\n",
      "V_T= V_T*10**-3 # in V\n",
      "v =log((I + I_o)/I_o) * V_T # in V\n",
      "print \"The forward biasing voltage across the junction = %0.4f V \" %v"
     ],
     "language": "python",
     "metadata": {},
     "outputs": [
      {
       "output_type": "stream",
       "stream": "stdout",
       "text": [
        "The forward biasing voltage across the junction = 0.6463 V \n"
       ]
      }
     ],
     "prompt_number": 10
    },
    {
     "cell_type": "heading",
     "level": 2,
     "metadata": {},
     "source": [
      "Example :  4.16.11 - Page No : 4-79"
     ]
    },
    {
     "cell_type": "code",
     "collapsed": false,
     "input": [
      "# Given data\n",
      "I_o = 10 # in nA\n",
      "# I = I_o * ((e**(v/(Eta * V_T))) - 1)\n",
      "# e**(v/(Eta * V_T)<< 1, so neglecting it\n",
      "I = I_o * (-1) # in nA\n",
      "print \"The Diode current = %0.f nA \" %I"
     ],
     "language": "python",
     "metadata": {},
     "outputs": [
      {
       "output_type": "stream",
       "stream": "stdout",
       "text": [
        "The Diode current = -10 nA \n"
       ]
      }
     ],
     "prompt_number": 11
    },
    {
     "cell_type": "heading",
     "level": 2,
     "metadata": {},
     "source": [
      "Example :  4.16.12 - Page No : 4-79"
     ]
    },
    {
     "cell_type": "code",
     "collapsed": false,
     "input": [
      "# Given data\n",
      "R = 4.5 # in ohm\n",
      "I = 44.4 # in mA\n",
      "I=I*10**-3 # in A\n",
      "V = R * I # in V\n",
      "Eta = 1 \n",
      "V_T = 26 #in mV\n",
      "V_T=V_T*10**-3 # in V\n",
      "I_o = I/((exp(V/(Eta * V_T))) -1) # in A\n",
      "# At\n",
      "V = 0.1 # in V\n",
      "r_f = (Eta * V_T)/(I_o * ((exp(V/(Eta * V_T)))-1)) # in ohm\n",
      "print \"The diode dynamic resistance = %0.2f \u03a9 \" %r_f"
     ],
     "language": "python",
     "metadata": {},
     "outputs": [
      {
       "output_type": "stream",
       "stream": "stdout",
       "text": [
        "The diode dynamic resistance = 27.78 \u03a9 \n"
       ]
      }
     ],
     "prompt_number": 12
    },
    {
     "cell_type": "heading",
     "level": 2,
     "metadata": {},
     "source": [
      "Example :  4.16.13 - Page No : 4-80"
     ]
    },
    {
     "cell_type": "code",
     "collapsed": false,
     "input": [
      "%matplotlib inline\n",
      "import matplotlib.pyplot as plt\n",
      "import numpy as np\n",
      "# Given data\n",
      "V_D = 10 # in V\n",
      "# V_S = i*R_L + V_D\n",
      "V_S = V_D # in V (i * R_L = 0)\n",
      "print \"when diode is OFF, the voltage = %0.f volts \" %V_S\n",
      "R_L = 250 # in ohm\n",
      "I = V_S/R_L # in A\n",
      "print \"when diode is ON, the current = %0.f mA \" %(I*10**3)\n",
      "V_D= np.arange(0,10,0.1) # in V\n",
      "I= (V_S-V_D)/R_L*1000 # in mA\n",
      "plt.plot(V_D,I)\n",
      "plt.xlabel('V_D in volts') \n",
      "plt.ylabel('Current in mA')\n",
      "plt.title('DC load line')\n",
      "plt.axis([0, 12, 0, 50])\n",
      "plt.show()\n",
      "print \"DC load line shown in figure\""
     ],
     "language": "python",
     "metadata": {},
     "outputs": [
      {
       "output_type": "stream",
       "stream": "stdout",
       "text": [
        "when diode is OFF, the voltage = 10 volts \n",
        "when diode is ON, the current = 40 mA \n"
       ]
      },
      {
       "metadata": {},
       "output_type": "display_data",
       "png": "[encoded data removed]",
       "text": [
        "<matplotlib.figure.Figure at 0x7f0e680b52d0>"
       ]
      },
      {
       "output_type": "stream",
       "stream": "stdout",
       "text": [
        "DC load line shown in figure\n"
       ]
      }
     ],
     "prompt_number": 13
    },
    {
     "cell_type": "heading",
     "level": 2,
     "metadata": {},
     "source": [
      "Example :  4.16.14 - Page No : 4-81"
     ]
    },
    {
     "cell_type": "code",
     "collapsed": false,
     "input": [
      "# Given data\n",
      "V = 0.25 # in V\n",
      "I_o = 1.2 # in \u00b5A\n",
      "I_o = I_o * 10**-6 # in A\n",
      "V_T = 26 # in mV\n",
      "V_T = V_T * 10**-3 # in V\n",
      "Eta = 1 \n",
      "r = (Eta * V_T)/(I_o * (exp(V/(Eta * V_T)))) # in ohm\n",
      "print \"The ac resistance of the diode = %0.3f ohm \" %r"
     ],
     "language": "python",
     "metadata": {},
     "outputs": [
      {
       "output_type": "stream",
       "stream": "stdout",
       "text": [
        "The ac resistance of the diode = 1.445 ohm \n"
       ]
      }
     ],
     "prompt_number": 14
    },
    {
     "cell_type": "heading",
     "level": 2,
     "metadata": {},
     "source": [
      "Example :  4.16.15 - Page No : 4-82"
     ]
    },
    {
     "cell_type": "code",
     "collapsed": false,
     "input": [
      "# Given data\n",
      "t = 4.4 * 10**22 # in total number of atoms/cm**3\n",
      "n = 1 * 10**8 # number of impurity\n",
      "N_A = t/n # in atoms/cm**3\n",
      "N_A = N_A * 10**6 # in atoms/m**3\n",
      "N_D = N_A * 10**3 # in atoms/m**3\n",
      "V_T = 26 # in mV\n",
      "V_T = V_T * 10**-3 # in V\n",
      "n_i = 2.5 * 10**19 # in /cm**3\n",
      "V_J = V_T * log((N_A * N_D)/(n_i)**2) # in V\n",
      "print \"The junction potential = %0.3f V \"%V_J"
     ],
     "language": "python",
     "metadata": {},
     "outputs": [
      {
       "output_type": "stream",
       "stream": "stdout",
       "text": [
        "The junction potential = 0.329 V \n"
       ]
      }
     ],
     "prompt_number": 15
    },
    {
     "cell_type": "heading",
     "level": 2,
     "metadata": {},
     "source": [
      "Example :  4.16.16 - Page No : 4-82"
     ]
    },
    {
     "cell_type": "code",
     "collapsed": false,
     "input": [
      "# Given data\n",
      "Eta = 1 \n",
      "I_o = 30 # in MuA\n",
      "I_o = I_o * 10**-6 # in A\n",
      "v = 0.2 # in V\n",
      "K = 1.381 * 10**-23 # in J/degree K \n",
      "T = 125 # in \u00b0C\n",
      "T = T + 273 # in K\n",
      "q = 1.6 * 10**-19 # in C\n",
      "V_T = (K*T)/q # in V\n",
      "r_f = (Eta * V_T)/(I_o * (exp(v/(Eta * V_T)))) # in ohm\n",
      "print \"The forward dynamic resistance = %0.3f ohm \" %r_f\n",
      "r_f1 = (Eta * V_T)/(I_o * (exp(-(v)/(Eta * V_T)))) # in ohm\n",
      "print \"The Reverse dynamic resistance = %0.2f k\u03a9 \" %(r_f1*10**-3)"
     ],
     "language": "python",
     "metadata": {},
     "outputs": [
      {
       "output_type": "stream",
       "stream": "stdout",
       "text": [
        "The forward dynamic resistance = 3.391 ohm \n",
        "The Reverse dynamic resistance = 386.64 k\u03a9 \n"
       ]
      }
     ],
     "prompt_number": 16
    },
    {
     "cell_type": "heading",
     "level": 2,
     "metadata": {},
     "source": [
      "Example :  4.16.17 - Page No : 4-83"
     ]
    },
    {
     "cell_type": "code",
     "collapsed": false,
     "input": [
      "# Given data\n",
      "q = 1.6 * 10**-19 # in C\n",
      "N_A = 3 * 10**20 # in /m**3\n",
      "A = 1 # in \u00b5m**2\n",
      "A = A * 10**-6 # in m**2\n",
      "V = -10 # in V\n",
      "V_J = 0.25 # in V\n",
      "V_B = V_J - V # in V\n",
      "epsilon_o = 8.854 # in pF/m\n",
      "epsilon_o = epsilon_o * 10**-12 # in F/m\n",
      "epsilon_r = 16 \n",
      "epsilon = epsilon_o * epsilon_r \n",
      "W = sqrt((V_B * 2 * epsilon)/(q * N_A)) # in m \n",
      "print \"The width of depletion layer = %0.2f \u00b5m \" %(W*10**6)\n",
      "C_T = (epsilon * A)/W # in pF\n",
      "print \"The space charge capacitance = %0.4f pF \" %(C_T*10**12)"
     ],
     "language": "python",
     "metadata": {},
     "outputs": [
      {
       "output_type": "stream",
       "stream": "stdout",
       "text": [
        "The width of depletion layer = 7.78 \u00b5m \n",
        "The space charge capacitance = 18.2127 pF \n"
       ]
      }
     ],
     "prompt_number": 17
    },
    {
     "cell_type": "heading",
     "level": 2,
     "metadata": {},
     "source": [
      "Example :  4.16.18 - Page No : 4-84"
     ]
    },
    {
     "cell_type": "code",
     "collapsed": false,
     "input": [
      "# Given data\n",
      "W = 2 * 10**-4 # in cm\n",
      "W = W * 10**-2 # in m\n",
      "A = 1 # in mm**2\n",
      "A = A * 10**-6 # in m**2\n",
      "epsilon_r = 16 \n",
      "epsilon_o = 8.854 * 10**-12 # in F/m\n",
      "epsilon = epsilon_r * epsilon_o \n",
      "C_T = (epsilon * A)/W # in F\n",
      "print \"The barrier capacitance = %0.3f pF \" %(C_T*10**12)"
     ],
     "language": "python",
     "metadata": {},
     "outputs": [
      {
       "output_type": "stream",
       "stream": "stdout",
       "text": [
        "The barrier capacitance = 70.832 pF \n"
       ]
      }
     ],
     "prompt_number": 18
    },
    {
     "cell_type": "heading",
     "level": 2,
     "metadata": {},
     "source": [
      "Example :  4.16.19 - Page No : 4-85"
     ]
    },
    {
     "cell_type": "code",
     "collapsed": false,
     "input": [
      "# Given data\n",
      "C_T = 100 # in pF\n",
      "C_T=C_T*10**-12 # in F\n",
      "epsilon_r = 12 \n",
      "epsilon_o = 8.854 * 10**-12 # in F/m\n",
      "epsilon = epsilon_r * epsilon_o \n",
      "Rho_p = 5 # in ohm-cm\n",
      "Rho_p = Rho_p * 10**-2 # in ohm-m\n",
      "V_j = 0.5 # in V\n",
      "V = -4.5 # in V\n",
      "Mu_p = 500 # in cm**2\n",
      "Mu_p = Mu_p * 10**-4 # in m**2\n",
      "Sigma_p = 1/Rho_p # in per ohm-m\n",
      "qN_A = Sigma_p/ Mu_p \n",
      "V_B = V_j - V \n",
      "W = sqrt((V_B * 2 * epsilon)/qN_A) # in m\n",
      "#C_T = (epsilon * A)/W \n",
      "A = (C_T * W)/ epsilon # in m\n",
      "D = sqrt(A * (4/pi)) # in m\n",
      "D = D * 10**3 # in mm\n",
      "print \"The value of diameter = %0.3f mm \" %D\n",
      " "
     ],
     "language": "python",
     "metadata": {},
     "outputs": [
      {
       "output_type": "stream",
       "stream": "stdout",
       "text": [
        "The value of diameter = 1.398 mm \n"
       ]
      }
     ],
     "prompt_number": 19
    },
    {
     "cell_type": "heading",
     "level": 2,
     "metadata": {},
     "source": [
      "Example :  4.16.20 - Page No : 4-20"
     ]
    },
    {
     "cell_type": "code",
     "collapsed": false,
     "input": [
      "# Given data\n",
      "q = 1.6 * 10**-19 # in C\n",
      "Mu_p = 500 # in cm**2/V-sec\n",
      "Rho_p = 3.5 # in ohm-cm\n",
      "Mu_n = 1500 # in cm**2/V-sec\n",
      "Rho_n = 10 # in ohm-cm\n",
      "N_A = 1/(Rho_p * Mu_p * q) # in /cm**3\n",
      "N_D = 1/(Rho_n * Mu_n * q) # in /cm**3\n",
      "V_J = 0.56 # in V\n",
      "n_i = 1.5 * 10**10 # in /cm**3\n",
      "V_T = V_J/log((N_A * N_D)/(n_i)**2) # in V\n",
      "# V_T = T/11600\n",
      "T = V_T * 11600 # in K\n",
      "T = T /19.78 # in \u00b0C   ( 1 degree K = 19.78 degree C)\n",
      "print \"The Temperature of junction = %0.3f \u00b0C \" %T"
     ],
     "language": "python",
     "metadata": {},
     "outputs": [
      {
       "output_type": "stream",
       "stream": "stdout",
       "text": [
        "The Temperature of junction = 14.524 \u00b0C \n"
       ]
      }
     ],
     "prompt_number": 20
    },
    {
     "cell_type": "heading",
     "level": 2,
     "metadata": {},
     "source": [
      "Example :  4.16.21 - Page No : 4-88"
     ]
    },
    {
     "cell_type": "code",
     "collapsed": false,
     "input": [
      "# Given data\n",
      "V_T = 26 # in mV\n",
      "V_T = V_T * 10**-3 # in V\n",
      "Eta = 1 \n",
      "# I = -90% for Io, so\n",
      "IbyIo= 0.1 \n",
      "# I  = I_o * ((e**(v/(Eta * V_T)))-1)\n",
      "V = log(IbyIo) * V_T # in V\n",
      "print \"The reverse bias voltage = %0.5f volts \" %V"
     ],
     "language": "python",
     "metadata": {},
     "outputs": [
      {
       "output_type": "stream",
       "stream": "stdout",
       "text": [
        "The reverse bias voltage = -0.05987 volts \n"
       ]
      }
     ],
     "prompt_number": 21
    },
    {
     "cell_type": "heading",
     "level": 2,
     "metadata": {},
     "source": [
      "Example :  4.16.22 - Page No : 4-89"
     ]
    },
    {
     "cell_type": "code",
     "collapsed": false,
     "input": [
      "# Given data\n",
      "R = 5 # in ohm\n",
      "I = 50 # in mA\n",
      "I=I*10**-3 # in A\n",
      "V = R * I # in V\n",
      "Eta = 1 \n",
      "V_T = 26 # in mV\n",
      "V_T=V_T*10**-3 # in V\n",
      "I_o = I/((exp(V/(Eta * V_T))) - 1) # in A\n",
      "print \"Reverse saturation current = %0.2f \u00b5A \" %(I_o*10**6)\n",
      "v1 = 0.2 # in V\n",
      "r = (Eta * V_T)/(I_o * (exp(v1/(Eta * V_T)))) # in ohm\n",
      "print \"Dynamic resistance of the diode = %0.3f \u03a9 \" %r"
     ],
     "language": "python",
     "metadata": {},
     "outputs": [
      {
       "output_type": "stream",
       "stream": "stdout",
       "text": [
        "Reverse saturation current = 3.33 \u00b5A \n",
        "Dynamic resistance of the diode = 3.558 \u03a9 \n"
       ]
      }
     ],
     "prompt_number": 22
    }
   ],
   "metadata": {}
  }
 ]
}