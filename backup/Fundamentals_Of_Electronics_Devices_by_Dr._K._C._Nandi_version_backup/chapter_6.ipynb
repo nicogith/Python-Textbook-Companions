{
 "metadata": {
  "name": ""
 },
 "nbformat": 3,
 "nbformat_minor": 0,
 "worksheets": [
  {
   "cells": [
    {
     "cell_type": "heading",
     "level": 1,
     "metadata": {},
     "source": [
      "Chapter : 6 - Field Effect Transistors"
     ]
    },
    {
     "cell_type": "heading",
     "level": 2,
     "metadata": {},
     "source": [
      "Example : 6.9.1 - Page No : 6-26"
     ]
    },
    {
     "cell_type": "code",
     "collapsed": false,
     "input": [
      "from __future__ import division\n",
      "from numpy import pi\n",
      "# Given data\n",
      "q = 1.6 * 10**-19;# in C\n",
      "N_D = 10**15;# in electrons/cm**3\n",
      "N_D = N_D * 10**6;# in electrons/m**3\n",
      "epsilon_r = 12;\n",
      "epsilon_o = (36 * pi * 10**9)**-1;\n",
      "epsilon = epsilon_o * epsilon_r;\n",
      "a = 3 * 10**-4;# in cm\n",
      "a = a * 10**-2;# in m\n",
      "V_P = (q * N_D * a**2)/( 2 * epsilon);# in V\n",
      "print \"The Pinch off voltage = %0.1f V\" %V_P\n",
      "# V_GS = V_P * (1-(b/a))**2\n",
      "b = (1-0.707) *a;# in m\n",
      "print \"The value of b = %0.3f \u00b5m\" %(b*10**6)\n",
      "print \"Hence the channel width has been reduced to about one third of its value for V_GS = 0\"\n",
      "# Note : The unit of b in the book is wrong since the value of b is calculated in \u00b5m."
     ],
     "language": "python",
     "metadata": {},
     "outputs": [
      {
       "output_type": "stream",
       "stream": "stdout",
       "text": [
        "The Pinch off voltage = 6.8 V\n",
        "The value of b = 0.879 \u00b5m\n",
        "Hence the channel width has been reduced to about one third of its value for V_GS = 0\n"
       ]
      }
     ],
     "prompt_number": 7
    },
    {
     "cell_type": "heading",
     "level": 2,
     "metadata": {},
     "source": [
      "Example : 6.9.2 - Page No : 6-26"
     ]
    },
    {
     "cell_type": "code",
     "collapsed": false,
     "input": [
      "from math import sqrt\n",
      "# Given data\n",
      "I_DSS = 8;# in mA\n",
      "V_P = -4;# in V\n",
      "I_D = 3;# in mA\n",
      "V_GS = V_P * (1 - sqrt(I_D/I_DSS));# in V\n",
      "print \"The value of V_GS = %0.2f V\" %V_GS\n",
      "V_DS = V_GS - V_P;# in V\n",
      "print \"The value of V_DS = %0.2f V\" %V_DS"
     ],
     "language": "python",
     "metadata": {},
     "outputs": [
      {
       "output_type": "stream",
       "stream": "stdout",
       "text": [
        "The value of V_GS = -1.55 V\n",
        "The value of V_DS = 2.45 V\n"
       ]
      }
     ],
     "prompt_number": 9
    },
    {
     "cell_type": "heading",
     "level": 2,
     "metadata": {},
     "source": [
      "Example : 6.9.3 - Page No : 6-27"
     ]
    },
    {
     "cell_type": "code",
     "collapsed": false,
     "input": [
      "# Given data\n",
      "V_P = -4;# in V\n",
      "I_DSS = 9;# in mA\n",
      "I_DSS = I_DSS * 10**-3;# in A\n",
      "V_GS = -2;# in V\n",
      "I_D = I_DSS * ((1 - (V_GS/V_P))**2);# in A\n",
      "print \"The drain current = %0.2f mA\" %(I_D*10**3)"
     ],
     "language": "python",
     "metadata": {},
     "outputs": [
      {
       "output_type": "stream",
       "stream": "stdout",
       "text": [
        "The drain current = 2.25 mA\n"
       ]
      }
     ],
     "prompt_number": 10
    },
    {
     "cell_type": "heading",
     "level": 2,
     "metadata": {},
     "source": [
      "Example : 6.9.4 - Page No : 6-27"
     ]
    },
    {
     "cell_type": "code",
     "collapsed": false,
     "input": [
      "# Given data\n",
      "I_DSS = 12;# in mA\n",
      "I_DSS = I_DSS * 10**-3;# in A\n",
      "V_P = -(6);# in V\n",
      "V_GS = -(1);# in V\n",
      "g_mo = (-2 * I_DSS)/V_P;# in A/V\n",
      "g_m = g_mo * (1 - (V_GS/V_P));# in S\n",
      "print \"The value of transconductance = %0.2f mS\" %(g_m*10**3)"
     ],
     "language": "python",
     "metadata": {},
     "outputs": [
      {
       "output_type": "stream",
       "stream": "stdout",
       "text": [
        "The value of transconductance = 3.33 mS\n"
       ]
      }
     ],
     "prompt_number": 11
    },
    {
     "cell_type": "heading",
     "level": 2,
     "metadata": {},
     "source": [
      "Example : 6.9.5 - Page No : 6-28"
     ]
    },
    {
     "cell_type": "code",
     "collapsed": false,
     "input": [
      "# Given data\n",
      "I_DSS = 10;# in mA \n",
      "I_DSS = I_DSS * 10**-3;# in A\n",
      "V_P = -(5);# in V\n",
      "V_GS = -(2.5);# in V\n",
      "g_m = ((-2 * I_DSS)/V_P) * (1 -(V_GS/V_P));# in S\n",
      "g_m = g_m * 10**3;# in mS\n",
      "print \"The Transconductance = %0.f mS\" %g_m\n",
      "I_D = I_DSS * ((1 - (V_GS/V_P))**2);# in A\n",
      "print \"The drain current = %0.1f mA\" %(I_D*10**3)"
     ],
     "language": "python",
     "metadata": {},
     "outputs": [
      {
       "output_type": "stream",
       "stream": "stdout",
       "text": [
        "The Transconductance = 2 mS\n",
        "The drain current = 2.5 mA\n"
       ]
      }
     ],
     "prompt_number": 14
    }
   ],
   "metadata": {}
  }
 ]
}