{
 "metadata": {
  "name": "",
  "signature": "sha256:f580dc14cd164012c93f758d593e5fbb20692db2a4830c462cc2ecc139c62a4a"
 },
 "nbformat": 3,
 "nbformat_minor": 0,
 "worksheets": [
  {
   "cells": [
    {
     "cell_type": "heading",
     "level": 1,
     "metadata": {},
     "source": [
      "Chapter : 5 - Bipolar Junction Transistors (BJTs)"
     ]
    },
    {
     "cell_type": "heading",
     "level": 2,
     "metadata": {},
     "source": [
      "Example :  5.9.1 - Page No : 5-22"
     ]
    },
    {
     "cell_type": "code",
     "collapsed": false,
     "input": [
      "from __future__ import division\n",
      "# Given data\n",
      "V_EE = 8 # in V\n",
      "V_BE = 0.7 # in V\n",
      "R_E = 1.5 # in k ohm\n",
      "I_E = (V_EE - V_BE)/R_E # in mA\n",
      "I_C = I_E # in mA\n",
      "print \"The value of I_C = %0.2f mA \" %I_C\n",
      "V_CC = 18 # in V\n",
      "R_C = 1.2 # in k\u03a9\n",
      "V_CB = V_CC - (I_C * R_C) # in V\n",
      "print \"The value of V_CB = %0.2f V \" %V_CB"
     ],
     "language": "python",
     "metadata": {},
     "outputs": [
      {
       "output_type": "stream",
       "stream": "stdout",
       "text": [
        "The value of I_C = 4.87 mA \n",
        "The value of V_CB = 12.16 V \n"
       ]
      }
     ],
     "prompt_number": 1
    },
    {
     "cell_type": "heading",
     "level": 2,
     "metadata": {},
     "source": [
      "Example :  5.9.2 - Page No : 5-23"
     ]
    },
    {
     "cell_type": "code",
     "collapsed": false,
     "input": [
      "# Given data\n",
      "alpha = 0.9 \n",
      "I_E = 1 # mA\n",
      "I_C = alpha * I_E # in mA\n",
      "I_B = I_E - I_C # in mA\n",
      "print \"The value of base current = %0.1f mA \" %I_B"
     ],
     "language": "python",
     "metadata": {},
     "outputs": [
      {
       "output_type": "stream",
       "stream": "stdout",
       "text": [
        "The value of base current = 0.1 mA \n"
       ]
      }
     ],
     "prompt_number": 2
    },
    {
     "cell_type": "heading",
     "level": 2,
     "metadata": {},
     "source": [
      "Example :  5.11.1 - Page No : 5-41"
     ]
    },
    {
     "cell_type": "code",
     "collapsed": false,
     "input": [
      "# Given data\n",
      "bita = 50 \n",
      "I_B= 20 # in \u00b5A\n",
      "I_B=I_B*10**-6 # in A\n",
      "I_C= bita*I_B # in A\n",
      "I_E= I_C+I_B # in A\n",
      "I_E = I_E * 10**3 # in mA\n",
      "print \"The Emitter current = %0.2f mA \" %I_E"
     ],
     "language": "python",
     "metadata": {},
     "outputs": [
      {
       "output_type": "stream",
       "stream": "stdout",
       "text": [
        "The Emitter current = 1.02 mA \n"
       ]
      }
     ],
     "prompt_number": 3
    },
    {
     "cell_type": "heading",
     "level": 2,
     "metadata": {},
     "source": [
      "Example :  5.11.1(a) - Page No : 5-42"
     ]
    },
    {
     "cell_type": "code",
     "collapsed": false,
     "input": [
      "# Given data\n",
      "beta_dc = 90 \n",
      "I_C = 15 # in mA\n",
      "I_C = I_C * 10**-3 # in A\n",
      "I_B = I_C/beta_dc # in A\n",
      "print \"The base current = %0.2f \u00b5A \" %(I_B*10**6)\n",
      "I_E = I_C + I_B # in A\n",
      "I_E = I_E * 10**3 # in mA\n",
      "print \"The Emitter current = %0.3f mA \" %I_E\n",
      "alpha_dc = beta_dc/(1+beta_dc) \n",
      "print \"The value of alpha_dc = %0.3f\" %alpha_dc"
     ],
     "language": "python",
     "metadata": {},
     "outputs": [
      {
       "output_type": "stream",
       "stream": "stdout",
       "text": [
        "The base current = 166.67 \u00b5A \n",
        "The Emitter current = 15.167 mA \n",
        "The value of alpha_dc = 0.989\n"
       ]
      }
     ],
     "prompt_number": 4
    },
    {
     "cell_type": "heading",
     "level": 2,
     "metadata": {},
     "source": [
      "Example :  5.11.3 - Page No : 5-43"
     ]
    },
    {
     "cell_type": "code",
     "collapsed": false,
     "input": [
      "# Given data\n",
      "del_ic = 1.8 # in mA\n",
      "del_ie = 1.89 # in mA\n",
      "alpha = del_ic / del_ie \n",
      "bita = alpha/(1 - alpha) \n",
      "del_ib = del_ic/bita # in mA\n",
      "del_ib = del_ib * 10**3 # in \u00b5A\n",
      "print \"The change in I_B = %0.f \u00b5A \"  %del_ib"
     ],
     "language": "python",
     "metadata": {},
     "outputs": [
      {
       "output_type": "stream",
       "stream": "stdout",
       "text": [
        "The change in I_B = 90 \u00b5A \n"
       ]
      }
     ],
     "prompt_number": 5
    },
    {
     "cell_type": "heading",
     "level": 2,
     "metadata": {},
     "source": [
      "Example : 5.11.4 - Page No : 5-43"
     ]
    },
    {
     "cell_type": "code",
     "collapsed": false,
     "input": [
      "# Given data\n",
      "V_CC = 10 # in V\n",
      "R_C = 3 # in k \u03a9\n",
      "R_C= R_C*10**3 # in \u03a9\n",
      "bita = 100 \n",
      "I_CO = 20 # in nA\n",
      "I_CO = I_CO * 10**-9 # in A\n",
      "V_BB = 5 # in V\n",
      "R_B = 200 # in k\u03a9\n",
      "R_B= R_B*10**3 # in \u03a9\n",
      "V_BE = 0.7 # in V\n",
      "# Applying KVL to the base circuit, V_BB= I_B*R_B+V_BE\n",
      "I_B = (V_BB - V_BE)/R_B # in A\n",
      "print \"The base current = %0.1f \u00b5A \" %(I_B*10**6)\n",
      "I_C = (bita * I_B) + I_CO # in A\n",
      "print \"The collector current = %0.5f mA \" %(I_C*10**3)\n",
      "I_E = I_C + I_B # in A\n",
      "print \"Emitter current = %0.5f mA \" %(I_E*10**3)\n",
      "V_CE = V_CC - (I_C * R_C) # in V\n",
      "print \"Collector emitter voltage = %0.4f V \" %(V_CE)"
     ],
     "language": "python",
     "metadata": {},
     "outputs": [
      {
       "output_type": "stream",
       "stream": "stdout",
       "text": [
        "The base current = 21.5 \u00b5A \n",
        "The collector current = 2.15002 mA \n",
        "Emitter current = 2.17152 mA \n",
        "Collector emitter voltage = 3.5499 V \n"
       ]
      }
     ],
     "prompt_number": 6
    },
    {
     "cell_type": "heading",
     "level": 2,
     "metadata": {},
     "source": [
      "Example 5.11.5 - Page No : 5-44"
     ]
    },
    {
     "cell_type": "code",
     "collapsed": false,
     "input": [
      "# Given data\n",
      "bita = 100 \n",
      "I_CBO = 4 # in \u00b5A\n",
      "I_B = 40 # in \u00b5A\n",
      "I_C = (bita * I_B) + ((1+bita) * I_CBO) # in \u00b5A\n",
      "I_C = I_C * 10**-3 # in msA\n",
      "print \"The collector current = %0.3f mA \" %I_C"
     ],
     "language": "python",
     "metadata": {},
     "outputs": [
      {
       "output_type": "stream",
       "stream": "stdout",
       "text": [
        "The collector current = 4.404 mA \n"
       ]
      }
     ],
     "prompt_number": 7
    },
    {
     "cell_type": "heading",
     "level": 2,
     "metadata": {},
     "source": [
      "Example :  5.11.6 - Page No : 5-45"
     ]
    },
    {
     "cell_type": "code",
     "collapsed": false,
     "input": [
      "%matplotlib inline\n",
      "import matplotlib.pyplot as plt\n",
      "import numpy as np\n",
      "from __future__ import division\n",
      "# Given data\n",
      "del_IC = 1 * 10**-3 # in A\n",
      "del_IB = 10 * 10**-6 # in A\n",
      "CurrentGain= del_IC/del_IB \n",
      "print \"The current gain = %0.f\" %CurrentGain\n",
      "del_IC= del_IC*10**3 # in mA\n",
      "del_IB= del_IB*10**6 # in \u00b5A\n",
      "I_B=np.arange(0,50,0.1) # in \u00b5A\n",
      "I_C= I_B/del_IB+del_IC # in mA\n",
      "plt.plot(I_B,I_C)\n",
      "plt.xlabel('Base current in micro A')\n",
      "plt.ylabel('Collector current in mA')\n",
      "plt.title('Transfer Characteristics')\n",
      "plt.axis([0, 60, 0, 7])\n",
      "plt.show()\n",
      "print \"Transfer Characteristics is shown in figure\""
     ],
     "language": "python",
     "metadata": {},
     "outputs": [
      {
       "output_type": "stream",
       "stream": "stdout",
       "text": [
        "The current gain = 100\n"
       ]
      },
      {
       "metadata": {},
       "output_type": "display_data",
       "png": "[encoded data removed]",
       "text": [
        "<matplotlib.figure.Figure at 0x7f8cdc73de90>"
       ]
      },
      {
       "output_type": "stream",
       "stream": "stdout",
       "text": [
        "Transfer Characteristics is shown in figure\n"
       ]
      }
     ],
     "prompt_number": 1
    },
    {
     "cell_type": "heading",
     "level": 2,
     "metadata": {},
     "source": [
      "Example :  5.14.1 - Page No : 5-51"
     ]
    },
    {
     "cell_type": "code",
     "collapsed": false,
     "input": [
      "# Given data\n",
      "I_CBO = 3 #in \u00b5A\n",
      "I_CBO= I_CBO*10**-3 # in mA \n",
      "I_C= 15 # in mA\n",
      "# But it is given that I_C= 99.5% of I_E, SO\n",
      "I_E= I_C/99.5*100 # in mA\n",
      "alpha_dc= I_C/I_E \n",
      "print \"The value of alpha_dc = %0.3f\" %alpha_dc\n",
      "print \"The value of I_E = %0.2f mA \" %I_E"
     ],
     "language": "python",
     "metadata": {},
     "outputs": [
      {
       "output_type": "stream",
       "stream": "stdout",
       "text": [
        "The value of alpha_dc = 0.995\n",
        "The value of I_E = 15.08 mA \n"
       ]
      }
     ],
     "prompt_number": 9
    },
    {
     "cell_type": "heading",
     "level": 2,
     "metadata": {},
     "source": [
      "Example : 5.14.2 - Page No : 5-52"
     ]
    },
    {
     "cell_type": "code",
     "collapsed": false,
     "input": [
      "#Given data\n",
      "alpha_dc = 0.99 \n",
      "I_CBO = 10 # in \u00b5A\n",
      "I_CBO= I_CBO*10**-6 # in A\n",
      "I_E = 10 # in mA\n",
      "I_E= I_E*10**-3 # in A\n",
      "I_C = (alpha_dc * I_E) + I_CBO # in A\n",
      "print \"The value of I_C = %0.2f mA \" %(I_C*10**3)\n",
      "I_B = I_E - I_C # in A\n",
      "I_B = I_B * 10**6 # in \u00b5A\n",
      "print \"The value of I_B = %0.f \u00b5A \" %I_B"
     ],
     "language": "python",
     "metadata": {},
     "outputs": [
      {
       "output_type": "stream",
       "stream": "stdout",
       "text": [
        "The value of I_C = 9.91 mA \n",
        "The value of I_B = 90 \u00b5A \n"
       ]
      }
     ],
     "prompt_number": 21
    },
    {
     "cell_type": "heading",
     "level": 2,
     "metadata": {},
     "source": [
      "Example :  5.14.3 - Page No : 5-52"
     ]
    },
    {
     "cell_type": "code",
     "collapsed": false,
     "input": [
      "# Given data\n",
      "alpha_dc = 0.99 \n",
      "I_C = 6 # in mA\n",
      "I_C= I_C*10**-3 # in A\n",
      "I_CBO = 15 # in \u00b5A\n",
      "I_CBO= I_CBO*10**-6 # in A\n",
      "I_E = (I_C - I_CBO)/alpha_dc # in A\n",
      "I_B = I_E - I_C # in A \n",
      "print \"The value of I_B = %0.f \u00b5A \" %(I_B*10**6)"
     ],
     "language": "python",
     "metadata": {},
     "outputs": [
      {
       "output_type": "stream",
       "stream": "stdout",
       "text": [
        "The value of I_B = 45 \u00b5A \n"
       ]
      }
     ],
     "prompt_number": 22
    },
    {
     "cell_type": "heading",
     "level": 2,
     "metadata": {},
     "source": [
      "Example : 5.14.5 - Page No : 5-53"
     ]
    },
    {
     "cell_type": "code",
     "collapsed": false,
     "input": [
      "# Given data\n",
      "alpha_dc = 0.98 \n",
      "I_CBO = 12 # in \u00b5A\n",
      "I_CBO = I_CBO * 10**-6 # in A\n",
      "I_B = 120 # in \u00b5A\n",
      "I_B = I_B * 10**-6 # in A\n",
      "beta_dc = alpha_dc/(1-alpha_dc) \n",
      "I_E = ((1 + beta_dc) * I_B) + ((1 + beta_dc) * I_CBO) #in A\n",
      "I_E = I_E * 10**3 # in mA\n",
      "print \"The value of I_E = %0.1f mA \" %I_E"
     ],
     "language": "python",
     "metadata": {},
     "outputs": [
      {
       "output_type": "stream",
       "stream": "stdout",
       "text": [
        "The value of I_E = 6.6 mA \n"
       ]
      }
     ],
     "prompt_number": 23
    },
    {
     "cell_type": "heading",
     "level": 2,
     "metadata": {},
     "source": [
      "Example : 5.14.6 - Page No : 5-53"
     ]
    },
    {
     "cell_type": "code",
     "collapsed": false,
     "input": [
      "# Given data\n",
      "bita= 100 \n",
      "V_BEsat= 0.8 # in V\n",
      "V_CEsat= 0.2 # in V\n",
      "V_BEact= 0.7 # in V\n",
      "V_CC = 10 # in V\n",
      "V_BB=5 # in V\n",
      "R_E = 2 # in k\u03a9\n",
      "R_C = 3 # in k\u03a9\n",
      "R_B= 50 # in k\u03a9\n",
      "# Applying KVL to collector loop\n",
      "# V_CC= I_Csat*R_C +V_CEsat +I_E*R_E and I_E= I_Csat+I_B, So\n",
      "#I_B= ((V_CC-V_CEsat)-(R_C+R_E)*I_Csat)/R_E            (i)\n",
      "# Applying KVL to base loop\n",
      "# V_BB-I_B*R_B -V_BEsat-I_E*R_E =0 and I_E= I_Csat+I_B, So\n",
      "#V_BB-V_BEsat= R_E*I_Csat + (R_B+R_E)*I_B              (ii)\n",
      "# From eq (i) and (ii)\n",
      "I_B = ((V_BB-V_BEsat)*5- (V_CC-V_CEsat)*2) / ((R_B+R_E)*5 - R_E*2)  # in mA\n",
      "I_Csat= ((V_CC-V_CEsat)-R_E*I_B)/(R_C+R_E) # in mA\n",
      "I_Bmin= I_Csat/bita # in mA\n",
      "if I_B<I_Bmin :\n",
      "    print \"Since the value of I_B (\",round(I_B*10**3,2),\"\u00b5A) is less than the value of I_Bmin (\",round(I_Bmin*10**3,1),\"\u00b5A)\" \n",
      "    print \"So the transistor is not in the saturation region. But it is conducting hence it can not be in cutoff.\"\n",
      "    print \"Therefore the transistor is in the active region\""
     ],
     "language": "python",
     "metadata": {},
     "outputs": [
      {
       "output_type": "stream",
       "stream": "stdout",
       "text": [
        "Since the value of I_B ( 5.47 \u00b5A) is less than the value of I_Bmin ( 19.6 \u00b5A)\n",
        "So the transistor is not in the saturation region. But it is conducting hence it can not be in cutoff.\n",
        "Therefore the transistor is in the active region\n"
       ]
      }
     ],
     "prompt_number": 24
    },
    {
     "cell_type": "heading",
     "level": 2,
     "metadata": {},
     "source": [
      "Example 5.14.7 - Page No : 5-55"
     ]
    },
    {
     "cell_type": "code",
     "collapsed": false,
     "input": [
      "# Given data\n",
      "bita= 100 \n",
      "V_BEsat= 0.8 # in V\n",
      "V_CEsat= 0.2 # in V\n",
      "V_BEact= 0.7 # in V\n",
      "V_CC = 10 # in V\n",
      "V_BB=5 # in V\n",
      "R_E = 2 # in k\u03a9\n",
      "R_C = 3 # in k\u03a9\n",
      "R_B= 50 # in k\u03a9\n",
      "# Applying KVL to input loop\n",
      "# V_BB= I_B*R_B+(1+bita)*I_B*R_E+V_BEact or \n",
      "I_B= (V_BB-V_BEact)/(R_B+(1+bita)*R_E) # in mA\n",
      "I_C= bita*I_B # in mA\n",
      "# Applying KVL to collector circuit\n",
      "# V_CC= I_Csat*R_C +V_CEsat +(I_C+I_B)*R_E\n",
      "V_CEact= V_CC-I_B*R_E-I_C*(R_C+R_E) # in V\n",
      "print \"The value of I_B = %0.f \u00b5A \" %(I_B*10**3)\n",
      "print \"The value of I_C = %0.1f mA \" %I_C\n",
      "print \"The value of V_CE = %0.3f volts \" %V_CEact"
     ],
     "language": "python",
     "metadata": {},
     "outputs": [
      {
       "output_type": "stream",
       "stream": "stdout",
       "text": [
        "The value of I_B = 17 \u00b5A \n",
        "The value of I_C = 1.7 mA \n",
        "The value of V_CE = 1.434 volts \n"
       ]
      }
     ],
     "prompt_number": 25
    },
    {
     "cell_type": "heading",
     "level": 2,
     "metadata": {},
     "source": [
      "Example 5.14.8 - Page No : 5-55"
     ]
    },
    {
     "cell_type": "code",
     "collapsed": false,
     "input": [
      "# Given data\n",
      "bita = 100 \n",
      "V_CEsat = 0.2 # in V\n",
      "R_B = 150 # in kohm\n",
      "R_C = 2 # in kohm\n",
      "V_CC  = 10 # in V\n",
      "V_BEsat = 0.8 # in V\n",
      "I_B = (V_CC - V_BEsat)/R_B # in mA\n",
      "I_C = (V_CC - V_CEsat)/R_C # in mA\n",
      "I_Bmin = I_C/bita # in mA\n",
      "if I_B>I_Bmin :\n",
      "    print \"Since the value of I_B (\",round(I_B*10**3,2),\"\u00b5A) is greater than the value of I_Bmin (\",int(I_Bmin*10**3),\"\u00b5A)\" \n",
      "    print \"So the transistor is in the saturation region.\""
     ],
     "language": "python",
     "metadata": {},
     "outputs": [
      {
       "output_type": "stream",
       "stream": "stdout",
       "text": [
        "Since the value of I_B ( 61.33 \u00b5A) is greater than the value of I_Bmin ( 49 \u00b5A)\n",
        "So the transistor is in the saturation region.\n"
       ]
      }
     ],
     "prompt_number": 26
    },
    {
     "cell_type": "heading",
     "level": 2,
     "metadata": {},
     "source": [
      "Example 5.14.9 - Page No : 5-57"
     ]
    },
    {
     "cell_type": "code",
     "collapsed": false,
     "input": [
      "# Given data\n",
      "bita = 100 \n",
      "V_CE = 0.2 #in V\n",
      "V_BE = 0.8 # in V\n",
      "R_C= 500 # in \u03a9\n",
      "R_B= 44*10**3 # in \u03a9\n",
      "R_E= 1*10**3 # in \u03a9\n",
      "V_CC= 15 # in V\n",
      "V_GE= -15 # in V\n",
      "# Applying KVL to collector circuit\n",
      "# V_CC-V_GE - I_Csat*R_C-V_CE-I_E*R_E=0, but I_Csat= bita*I_Bmin and I_E= 1+bita\n",
      "I_Bmin= (V_CC-V_GE-V_CE)/(R_C*bita+(1+bita)*R_E) # in A\n",
      "# Applying KVL to the base emitter circuit\n",
      "# V_BB-I_Bmin*R_B-V_BE-I_E*R_E + V_CC=0\n",
      "V_BB= I_Bmin*R_B + V_BE + (1+bita)*I_Bmin*R_E-V_CC # in V\n",
      "print \"The value of I_B(min) = %0.3f mA \" %(I_Bmin*10**3)\n",
      "print \"The value of V_BB = %0.1f volts \" %V_BB"
     ],
     "language": "python",
     "metadata": {},
     "outputs": [
      {
       "output_type": "stream",
       "stream": "stdout",
       "text": [
        "The value of I_B(min) = 0.197 mA \n",
        "The value of V_BB = 14.4 volts \n"
       ]
      }
     ],
     "prompt_number": 27
    },
    {
     "cell_type": "heading",
     "level": 2,
     "metadata": {},
     "source": [
      "Example :  5.14.10 - Page No : 5-58"
     ]
    },
    {
     "cell_type": "code",
     "collapsed": false,
     "input": [
      "# Given data\n",
      "V_ECsat= 0.2 # in V\n",
      "V_CC= 10 # in V\n",
      "V_EBsat= 0.8 # in V\n",
      "\n",
      "# Part (i)\n",
      "bita= 100 \n",
      "R_B= 220 # in k\u03a9\n",
      "# Applying KVL to collector circuit, V_CC= V_EC+ICRC\n",
      "ICRC= V_CC-V_ECsat # in V\n",
      "# Applying KVL to input loop, V_CC= V_EBsat+I_B*R_B        (i)\n",
      "I_B= (V_CC-V_EBsat)/R_B # in mA\n",
      "I_C= bita*I_B # in mA\n",
      "R_Cmin= ICRC/I_C # in k\u03a9\n",
      "print \"The minimum value of R_C = %0.3f k\u03a9 \" %R_Cmin\n",
      "# Part (ii)\n",
      "R_C= 1.2 # in k\u03a9\n",
      "I_Csat= ICRC/R_C # in mA\n",
      "I_B= I_Csat/bita # in mA\n",
      "# From eq (i)\n",
      "R_B= (V_CC-V_EBsat)/I_B # in k\u03a9\n",
      "print \"The maximum value of R_B = %0.2f k\u03a9 \" %R_B"
     ],
     "language": "python",
     "metadata": {},
     "outputs": [
      {
       "output_type": "stream",
       "stream": "stdout",
       "text": [
        "The minimum value of R_C = 2.343 k\u03a9 \n",
        "The maximum value of R_B = 112.65 k\u03a9 \n"
       ]
      }
     ],
     "prompt_number": 28
    },
    {
     "cell_type": "heading",
     "level": 2,
     "metadata": {},
     "source": [
      "Example : 5.14.11 - Page No : 5-60"
     ]
    },
    {
     "cell_type": "code",
     "collapsed": false,
     "input": [
      "# Given data\n",
      "bita= 100 \n",
      "V_BEsat= 0.8 # in V\n",
      "V_CEsat= 0.2 # in V\n",
      "V_BEact= 0.7 # in V\n",
      "V_CC = 10 # in V\n",
      "R_E = 1 # in k\u03a9\n",
      "R_C = 2 # in k\u03a9\n",
      "R_B= 100 # in k\u03a9\n",
      "bita=100 \n",
      "alpha= bita/(1+bita) \n",
      "# Applying KVL to collector circuit\n",
      "# V_CC= I_Csat*R_C +V_CE +R_E*I_E\n",
      "# but I_E= alpha*I_Csat\n",
      "I_Csat= (V_CC-V_CEsat)/(R_C+R_E*alpha) # in mA\n",
      "I_Bmin= I_Csat/bita # in mA\n",
      "# Applying KVL to base loop\n",
      "# V_CC= I_B*R_B +V_BEsat +I_E*R_E\n",
      "# but I_E= I_Csat+I_B\n",
      "I_B= (V_CC-V_BEsat-I_Csat*R_E)/(R_B+R_E) # in mA\n",
      "print \"The value of I_B = %0.2f \u00b5A \" %(I_B*10**3)\n",
      "print \"The minimum value of I_B = %0.1f \u00b5A \" %(I_Bmin*10**3)\n",
      "if I_B>I_Bmin :\n",
      "    print \"Since the value of I_B is greater than the value of I_Bmin\"\n",
      "    print \"Hence the transistor is in saturation .\"\n",
      "I_E= (1+bita)*I_Bmin # in mA\n",
      "R_E= (V_CC-V_BEact-I_Bmin*R_B)/I_E # in k\u03a9\n",
      "print \"The value of R_E = %0.3f k\u03a9 \" %R_E\n",
      "print \"So R_E should be greater than this value in order to bring the transistor just out of saturation \""
     ],
     "language": "python",
     "metadata": {},
     "outputs": [
      {
       "output_type": "stream",
       "stream": "stdout",
       "text": [
        "The value of I_B = 58.64 \u00b5A \n",
        "The minimum value of I_B = 32.8 \u00b5A \n",
        "Since the value of I_B is greater than the value of I_Bmin\n",
        "Hence the transistor is in saturation .\n",
        "The value of R_E = 1.819 k\u03a9 \n",
        "So R_E should be greater than this value in order to bring the transistor just out of saturation \n"
       ]
      }
     ],
     "prompt_number": 29
    },
    {
     "cell_type": "heading",
     "level": 2,
     "metadata": {},
     "source": [
      "Example :  5.14.12 - Page No : 5-62"
     ]
    },
    {
     "cell_type": "code",
     "collapsed": false,
     "input": [
      "# Given data\n",
      "V_CC = 9 # in V\n",
      "V_BE = 0.8 # in V\n",
      "V_CE = 0.2 # in V\n",
      "R_B = 50 # in k\u03a9\n",
      "R_C=2 # in k\u03a9\n",
      "R_E = 1 # in k\u03a9\n",
      "bita=70 \n",
      "# Applying KVL to input loop, V_CC= I_B*R_B +V_BE +I_E*R_E\n",
      "# V_CC- V_BE= (R_B+R_E)*I_B + R_E*I_C          (i)\n",
      "# Applying KVL to output loop, V_CC= R_C*I_C +V_CE +I_C*R_E +I_B*R_E\n",
      "#I_B = ((V_CC- V_CE)-(R_C+R_E)*I_C)/R_E         (ii)\n",
      "# From eq (i) and (ii)\n",
      "I_C= ( (V_CC- V_BE)-(R_B+R_E)* (V_CC- V_CE)/R_E)/(1-(R_B+R_E)*(R_C+R_E)) # in mA\n",
      "I_B = ((V_CC- V_CE)-(R_C+R_E)*I_C)/R_E# in mA\n",
      "I_Bmin= I_C/bita # in mA\n",
      "if I_B>I_Bmin :\n",
      "    print \"Since the value of I_B (\",round(I_B,3),\" mA) is greater than the value of I_Bmin (\",round(I_Bmin,4),\" mA)\"\n",
      "    print \"So the transistor is in saturation \"\n",
      "V_C= V_CC-I_C*R_C # in V\n",
      "print \"The value of collector voltage = %0.3f volts \" %V_C\n",
      "bita= I_C/I_B \n",
      "print \"The minimum value of bita that will change the state of the trasistor = %0.3f\" %bita"
     ],
     "language": "python",
     "metadata": {},
     "outputs": [
      {
       "output_type": "stream",
       "stream": "stdout",
       "text": [
        "Since the value of I_B ( 0.104  mA) is greater than the value of I_Bmin ( 0.0414  mA)\n",
        "So the transistor is in saturation \n",
        "The value of collector voltage = 3.203 volts \n",
        "The minimum value of bita that will change the state of the trasistor = 27.886\n"
       ]
      }
     ],
     "prompt_number": 30
    }
   ],
   "metadata": {}
  }
 ]
}