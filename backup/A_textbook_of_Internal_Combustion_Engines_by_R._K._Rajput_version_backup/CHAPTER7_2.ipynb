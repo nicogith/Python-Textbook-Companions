{
 "cells": [
  {
   "cell_type": "markdown",
   "metadata": {},
   "source": [
    "# CHAPTER 7 - Air capacity of four stroke engines"
   ]
  },
  {
   "cell_type": "markdown",
   "metadata": {},
   "source": [
    "## EXAMPLE 7.1 PAGE 246"
   ]
  },
  {
   "cell_type": "code",
   "execution_count": 4,
   "metadata": {
    "collapsed": false
   },
   "outputs": [
    {
     "name": "stdout",
     "output_type": "stream",
     "text": [
      "Gas Inhaled per minute : 0.23 m**3/min \n"
     ]
    }
   ],
   "source": [
    "from __future__ import division\n",
    "from math import pi\n",
    "# Initialisation of Variables\n",
    "D=20.3#................#Diameter in cm\n",
    "L=30.5#.................#Length in cm\n",
    "N=300#................#Engine rpm\n",
    "eta=78#.................#Efficiency in percentage\n",
    "afr=4/1#.................#Air Fuel Ratio\n",
    "\n",
    "#Calculations\n",
    "StV = ((pi)/4)*((D/100)**2)*(L/100)#.......#Calculating the stroke volume\n",
    "Vinh= (eta/100)*StV#...................#Volume Inhaled\n",
    "Gainh= (Vinh/(4+1))#..............#Gas Inhaled\n",
    "Gainhpm = Gainh*(N/2)#\n",
    "print \"Gas Inhaled per minute : %0.2f m**3/min \"%(Gainhpm)"
   ]
  },
  {
   "cell_type": "markdown",
   "metadata": {},
   "source": [
    "## EXAMPLE 7.2 PAGE 247"
   ]
  },
  {
   "cell_type": "code",
   "execution_count": 9,
   "metadata": {
    "collapsed": false
   },
   "outputs": [
    {
     "name": "stdout",
     "output_type": "stream",
     "text": [
      "Volumetric efficiency of the engine is : 0.85\n"
     ]
    }
   ],
   "source": [
    "from __future__ import division\n",
    "#Initializing the variables\n",
    "\n",
    "N=3600#................#engine rpm\n",
    "T=15#................#Inlet temperature in degree Celsius\n",
    "Tk = T+273#..............#Inlet temperature in Kelvin\n",
    "p=760#................#Inlet pressure in mm of Hg i.e. 1.013 x 10**5 Pa\n",
    "ppa=1.013*(10**5)#.........# Inlet pressure in Pascals\n",
    "pdv=4066#..............#Total piston displacement volume in cm**3\n",
    "pdvsi=pdv*(10**(-6))#.............#Total piston displacement volume in m**3\n",
    "afr=14/1#...................#Air fuel ratio is 14:1\n",
    "bsfc=0.38#..................# b.s.f.c in kg/kWh\n",
    "BP=86#.............#power output in kW\n",
    "R=287#................#Gas constant for air in J/kg.K\n",
    "#Calculations\n",
    "m = (BP*bsfc*afr)/60#...............#Air consumption\n",
    "V = (m*R*Tk)/ppa#\n",
    "DV= pdvsi*(N/2)#.........#Displacement Volume\n",
    "VE=V/DV#...............#Volumetric Efficiency\n",
    "print \"Volumetric efficiency of the engine is : %0.2f\"%(VE)"
   ]
  },
  {
   "cell_type": "markdown",
   "metadata": {},
   "source": [
    "## EXAMPLE 7.3 PAGE 248"
   ]
  },
  {
   "cell_type": "code",
   "execution_count": 1,
   "metadata": {
    "collapsed": false
   },
   "outputs": [
    {
     "name": "stdout",
     "output_type": "stream",
     "text": [
      "The volumetric efficiency based on the free air condition : 0.86\n"
     ]
    }
   ],
   "source": [
    "from __future__ import division\n",
    "from math import sqrt,pi\n",
    "#Initializing the variables\n",
    "n=4#..............#No of cylinders\n",
    "d=5#.............#diameter of orifice in cm\n",
    "dsi=d/100#..........# diameter in m\n",
    "Cd=0.6#.............#Co-efficient of discharge\n",
    "D=10#..............#Engine bore in cm\n",
    "Dsi=d/100#............#Engine bore in m\n",
    "L=12#................#Engine stroke in cm\n",
    "Lsi=L/100#............#Engine stroke in m\n",
    "N=1200#...............#Engine rpm\n",
    "hw=0.046#............#Pressure drop across orifice in m of water\n",
    "T = 17#..........#Ambient Temparature in Degree Celsius\n",
    "Tk = T+273#..........# Ambient Temperature in Kelvin\n",
    "Pbar = 1#.............# Ambient pressure in bar\n",
    "Ppa = 1 * (10**5)#.......#Ambient pressure in Pascal\n",
    "R = 287#.............# Gas constant in J/kg.K\n",
    "rhow = 1000#............#Density of water in kg/m**3\n",
    "g=9.81#...............#Acceleration due to gravity\n",
    "#Calculations\n",
    "\n",
    "rhoa= Ppa/(R*Tk)#.........#Density of air\n",
    "ha= (hw*rhow)/rhoa#\n",
    "av= sqrt(2*g*ha)#.............#Air velocity\n",
    "area = (pi/4)*(dsi**2)#\n",
    "Vact = Cd*area*av#.............# V actual\n",
    "Vswt = n*(pi/4)*(Dsi**2)*Lsi*(N/60*2)#\n",
    "eff = Vact/Vswt#...............#Volumetric efficiency\n",
    "print \"The volumetric efficiency based on the free air condition : %0.2f\"%(eff)"
   ]
  },
  {
   "cell_type": "markdown",
   "metadata": {},
   "source": [
    "## EXAMPLE 7.4 PAGE 249"
   ]
  },
  {
   "cell_type": "code",
   "execution_count": 1,
   "metadata": {
    "collapsed": false
   },
   "outputs": [
    {
     "name": "stdout",
     "output_type": "stream",
     "text": [
      "The given fuel C7H16 requires 11(O2) for complete combustion\n",
      "Hence, Mass of fuel is : 100.00\n",
      "Mass of Oxygen required is : 352.00\n",
      "The air fuel ratio is : 15.30\n",
      "The volumetric efficiency of the engine is = 75.90 %\n"
     ]
    }
   ],
   "source": [
    "from __future__ import division\n",
    "#Initializing the variables\n",
    "n=1#...................#No of cylinders\n",
    "k=0.5#\n",
    "Vs=7000#............#displacement volume in cm**3\n",
    "Vssi= Vs*(10**(-6))#........#displacement volume in m**3\n",
    "OP=14.7#...................#Power developed in kW\n",
    "N=450#..................#Engine rpm\n",
    "sfc=0.272#................#Specific fuel consumption in kg/kWh\n",
    "#Fuel used is C7H16\n",
    "mC=12#.............#mass of carbon in amu\n",
    "mH=1#.................#mass of hydrogen in amu\n",
    "mO=16#.................#mass of oxygen in amu\n",
    "pi=1.013 * (10**5)#................#initial pressure in pascal\n",
    "T=30#...................#initial temperature in degree celsius\n",
    "Tk=30+273#................#initial temperature in degree kelvin\n",
    "R=287#..................#Gas constant for air in J/kg.K\n",
    "#calculations\n",
    "print \"The given fuel C7H16 requires 11(O2) for complete combustion\"\n",
    "mf=(7*mC)+(16*mH)#\n",
    "print \"Hence, Mass of fuel is : %0.2f\"%(mf)\n",
    "MO=11* 2 * mO#\n",
    "print \"Mass of Oxygen required is : %0.2f\"%(MO)\n",
    "ma = MO/0.23#.......#mass of air\n",
    "#Air contains 23% of oxygen by weight\n",
    "afr = ma/mf#...............#air fuel ratio is the ratio of mass of air to mass of fuel\n",
    "print \"The air fuel ratio is : %0.2f\"%(afr)\n",
    "MF = sfc * OP#...........#actual fuel consumed in kg/h\n",
    "MA = afr*MF#\n",
    "AAS = MA * (1+0.3)#....................#actual air supplied in kg/h\n",
    "M = AAS + MF#................#mass of charge in kg/h\n",
    "VCS = ((M/60)*R*Tk)/pi#.............#Volume of charge sucked in m**3/min\n",
    "DVM = Vssi * (N/2)#..............#Displacement volume/min\n",
    "eta = VCS/DVM#\n",
    "print \"The volumetric efficiency of the engine is = %0.2f %%\"%(eta*100)"
   ]
  },
  {
   "cell_type": "markdown",
   "metadata": {},
   "source": [
    "## EXAMPLE 7.5 PAGE 250"
   ]
  },
  {
   "cell_type": "code",
   "execution_count": 2,
   "metadata": {
    "collapsed": false
   },
   "outputs": [
    {
     "name": "stdout",
     "output_type": "stream",
     "text": [
      "The volumetric efficiency is = 87.43 %\n",
      "The brake thermal efficiency is = 23.38 %\n",
      "The brake torque = 0.01 Nm \n"
     ]
    }
   ],
   "source": [
    "from __future__ import division\n",
    "#Initializing the variables\n",
    "n=6#................#No of cylinders\n",
    "vsi=730*(10**(-6))#..........#Piston displacement per cylinder in m**3\n",
    "BP=80#.............#Power produced per cylinder in kW\n",
    "N=3100#...........#Engine rpm\n",
    "C=44*(10**6)#...........#Calorific value of petrol in J/kg\n",
    "Pc=28#........#Petrol consumed per hour in kg\n",
    "afr = 13/1#.......#air fuel ratio\n",
    "pi=0.88*(10**5)#..............#Intake pressure in pa\n",
    "T=300#............#Intake temperature in Kelvin\n",
    "R = 287#.........#gas constant in J/kg.K\n",
    "#calculations\n",
    "ma = (Pc*afr)/60#...........#air comsumed\n",
    "rhoa = pi/(R*T)#.......#Density of air\n",
    "etaV=ma/(rhoa*vsi*n*(N/2))#\n",
    "print \"The volumetric efficiency is = %0.2f %%\"%(etaV*100)\n",
    "mf = Pc/3600#...............#Fuel consumed per sec\n",
    "etaBT = (BP*1000)/(mf*C)#\n",
    "print \"The brake thermal efficiency is = %0.2f %%\"%(etaBT*100)\n",
    "T=(BP*60*1000)/(2*(pi)*N)#\n",
    "print \"The brake torque = %0.2f Nm \"%(T)"
   ]
  },
  {
   "cell_type": "markdown",
   "metadata": {},
   "source": [
    "## EXAMPLE 7.6 PAGE 251"
   ]
  },
  {
   "cell_type": "code",
   "execution_count": 3,
   "metadata": {
    "collapsed": false
   },
   "outputs": [
    {
     "name": "stdout",
     "output_type": "stream",
     "text": [
      "The volumetric efficiency is = 81.44 %\n",
      "Percentage Reduction in Output = 4.61 %\n"
     ]
    }
   ],
   "source": [
    "from __future__ import division\n",
    "from math import sqrt\n",
    "#Initializing the variables\n",
    "etaV1 = 0.8#.........#Volumetric efficiency\n",
    "pi1 = 1.013#.......#Inlet pressure\n",
    "pe1= 1.013\n",
    "pi2= 1.013#\n",
    "pe2 = 1.15#.........#Exhaust pressure\n",
    "Tk1 = 298#...........#Temperature in Kelvin\n",
    "Tk2 = 318#...........#Temperature in Kelvin\n",
    "r = 7.5#........#compression ratio\n",
    "ga=1.4#..........#degree of freedom for gas\n",
    "#calculations\n",
    "#For pressure change\n",
    "eta_V2 = r - (pe2/pi2)**(1/ga)#\n",
    "eta_V1 = r - (pe1/pi1)**(1/ga)#\n",
    "x=eta_V2/eta_V1#\n",
    "#For inlet temperature change\n",
    "y = sqrt(Tk2/Tk1)#\n",
    "#For volumetric efficiency, considering both pressure and temperature\n",
    "etaV2 = etaV1*x*y#\n",
    "print \"The volumetric efficiency is = %0.2f %%\"%(etaV2*100)\n",
    "PO=((etaV1/Tk1)-(etaV2/Tk2))/(etaV1/Tk1)#\n",
    "print \"Percentage Reduction in Output = %0.2f %%\"%(PO*100)"
   ]
  },
  {
   "cell_type": "markdown",
   "metadata": {},
   "source": [
    "## EXAMPLE 7.7 PAGE 252"
   ]
  },
  {
   "cell_type": "code",
   "execution_count": 4,
   "metadata": {
    "collapsed": false
   },
   "outputs": [
    {
     "name": "stdout",
     "output_type": "stream",
     "text": [
      "The percentage increase in volumetric efficiency is = 6.68 %\n",
      "The percentage increase in power = 23.34 %\n"
     ]
    }
   ],
   "source": [
    "from __future__ import division\n",
    "from math import sqrt\n",
    "#Initializing the variables\n",
    "pi1 = 1.013#.......#Inlet pressure\n",
    "pe1= 1.013\n",
    "pi2= 1.3#\n",
    "pe2 = 1.013#.........#Exhaust pressure\n",
    "Tk1 = 300#...........#Temperature in Kelvin\n",
    "Tk2 = 333#...........#Temperature in Kelvin\n",
    "r = 14#........#compression ratio\n",
    "ga=1.4#..........#degree of freedom for gas\n",
    "R=287#...........#gas constant in J/kg.K\n",
    "#calculations\n",
    "#For pressure change\n",
    "eta_V2 = r - (pe2/pi2)**(1/ga)#\n",
    "eta_V1 = r - (pe1/pi1)**(1/ga)#\n",
    "x=eta_V2/eta_V1#\n",
    "#For inlet temperature change\n",
    "y = sqrt(Tk2/Tk1)#\n",
    "#For volumetric efficiency, considering both pressure and temperature\n",
    "pive = ((x*y)-1)#.........#percentage increase in volumetric efficiency\n",
    "print \"The percentage increase in volumetric efficiency is = %0.2f %%\"%(pive*100)\n",
    "rho1 = (pi1*10**5)/(R*Tk1)#\n",
    "rho2 = (pi2*10**5)/(R*Tk2)#\n",
    "z = (rho2/rho1)*x*y#\n",
    "pip = (z-1)#\n",
    "print \"The percentage increase in power = %0.2f %%\"%(pip*100)"
   ]
  },
  {
   "cell_type": "markdown",
   "metadata": {},
   "source": [
    "## EXAMPLE 7.8 PAGE 253"
   ]
  },
  {
   "cell_type": "code",
   "execution_count": 5,
   "metadata": {
    "collapsed": false
   },
   "outputs": [
    {
     "name": "stdout",
     "output_type": "stream",
     "text": [
      "There is no change in volumetric efficiency due to inlet and exhaust pressure change\n",
      "For inlet temperature change\n",
      "Percentage decrease = 4.99 %\n",
      "Brake power of the engine on the hill station = 24.81 kW \n"
     ]
    }
   ],
   "source": [
    "from __future__ import division\n",
    "from math import sqrt\n",
    "#Initializing the variables\n",
    "IP1 = 32#...............#Indicated power output in kW\n",
    "etamech=80#............#Mechanical efficiency at sea level\n",
    "p1=1.013#.............#initial pressure at sea level in bar\n",
    "tk1 = 308#...............#Initial temperature at sea level in Kelvin\n",
    "tk2 = 278#..................#temperature atop the hill in Kelvin\n",
    "rhoHg=13600#..............#Density of mercury in kg/m**3\n",
    "h=2000#.....................#Hill altitude \n",
    "g = 9.81#................#Acceleration due to gravity\n",
    "delp = 10#..............#drop of mercury in mm Hg per every 100 m climb\n",
    "#calculations\n",
    "\n",
    "print \"There is no change in volumetric efficiency due to inlet and exhaust pressure change\"\n",
    "print \"For inlet temperature change\"\n",
    "x = sqrt(tk2/tk1)#................#for inlet temperature change\n",
    "#x is the ratio of the efficiencies at the beginning and on hill top\n",
    "print \"Percentage decrease = %0.2f %%\"%((1-x)*100)\n",
    "dp = rhoHg*g*((delp/1000)*(h/100))*(10**(-5))#........#Drop in pressure at hill station\n",
    "p2=p1-dp#\n",
    "IP_1 = p1/tk1#\n",
    "IP_2 = (x*p2)/tk2#\n",
    "k = IP_2/IP_1#..............#Ratio of indicative power output during initial and final conditions\n",
    "IP2 = (IP1 * k)/(etamech/100)#\n",
    "#Since the engine speed is the same at two places, the friction and hence mechanical efficiency remains unchanged\n",
    "BP2 = IP2*(etamech/100)#\n",
    "print \"Brake power of the engine on the hill station = %0.2f kW \"%(BP2)"
   ]
  },
  {
   "cell_type": "markdown",
   "metadata": {},
   "source": [
    "## EXAMPLE 7.9 PAGE 254"
   ]
  },
  {
   "cell_type": "code",
   "execution_count": 6,
   "metadata": {
    "collapsed": false
   },
   "outputs": [
    {
     "name": "stdout",
     "output_type": "stream",
     "text": [
      "The volumetric efficiency of supercharged engine = 86.36 %\n",
      "Indicated power of supercharged engine is = 102.11 kW \n"
     ]
    }
   ],
   "source": [
    "from __future__ import division\n",
    "from math import sqrt\n",
    "#Initializing the variables\n",
    "etaV1 = 0.81#.........#Volumetric efficiency\n",
    "pi1 = 1.01#.......#Inlet pressure before supercharger\n",
    "pe1= 1.01#...........#Exhaust pressure before supercharger\n",
    "pi2= 1.38#............#Inlet pressure after supercharger\n",
    "pe2 = 1.01#.........#Exhaust pressure in bar after addition of super charger\n",
    "Tk1 = 300#...........#Temperature in Kelvin\n",
    "Tk2 = 321#...........#Temperature in Kelvin\n",
    "r = 7.5#........#compression ratio\n",
    "ga=1.4#..........#degree of freedom for gas\n",
    "R=287#.............#Gas constant for air in J/kgK\n",
    "IP1=75#...............#Indicated power output before addition of supercharger\n",
    "#calculations\n",
    "#For pressure change\n",
    "eta_V2 = r - (pe2/pi2)**(1/ga)#\n",
    "eta_V1 = r - (pe1/pi1)**(1/ga)#\n",
    "x=eta_V2/eta_V1#\n",
    "#For inlet temperature change\n",
    "y = sqrt(Tk2/Tk1)#\n",
    "#For volumetric efficiency, considering both pressure and temperature\n",
    "etaV2 = etaV1*x*y#\n",
    "print \"The volumetric efficiency of supercharged engine = %0.2f %%\"%(etaV2*100)\n",
    "rho1 = (pi1*10**5)/(R*Tk1)#....#density of air before addition of supercharger\n",
    "rho2 = (pi2*10**5)/(R*Tk2)#..#density of air after addition of supercharger\n",
    "IP2 = IP1 * (etaV2*rho2)/(etaV1*rho1)#\n",
    "print \"Indicated power of supercharged engine is = %0.2f kW \"%IP2"
   ]
  },
  {
   "cell_type": "markdown",
   "metadata": {},
   "source": [
    "## EXAMPLE 7.10 PAGE 255"
   ]
  },
  {
   "cell_type": "code",
   "execution_count": 7,
   "metadata": {
    "collapsed": false
   },
   "outputs": [
    {
     "name": "stdout",
     "output_type": "stream",
     "text": [
      "The volumetric efficiency of the engine = 72.66 %\n",
      "The heating value of 1 m**3 of charge at 25 degree Celsius = 1513.16 kJ.m**3\n"
     ]
    }
   ],
   "source": [
    "from __future__ import division\n",
    "from math import sqrt,pi\n",
    "#Initializing the variables\n",
    "n=1#.....#No of cylinders\n",
    "D=0.32#.....#Bore of the cylinder in m\n",
    "L=0.38#......#Stroke of the cylinder in m\n",
    "N = 280#....#Engine rpm\n",
    "CV = 18600#....#calorific value of fues in kJ/m**3\n",
    "Tk1 = 300#....#Initial temperature in Kelvin\n",
    "p1 = 1.013#.....#Initial pressure in bar\n",
    "ma = 3.36#.......#mass of air consumed per min\n",
    "tgc = 0.25#......#test gas consumption in m**3/min\n",
    "pw = 120#.........#pressure of water in mm during the test gas consumption\n",
    "tgct = 300#.......#Temperature in Kelvin during test gas consumption\n",
    "rhow = 1000#.....#density of water in kg/m**3\n",
    "R=287#...........#Gas constant in J/kg.K\n",
    "#calculations\n",
    "V= (ma*R*Tk1)/(p1*(10**5))#...#Volume of air consumed at inlet condition\n",
    "\n",
    "gsp = p1 +(pw/rhow)/10.2#...................#Gas supply pressure\n",
    "#1 bar = 10.2 m\n",
    "gcic = tgc*(gsp/p1)#..........#Gas consumption at inlet condition\n",
    "Vi = gcic+V#.....#Volume of mixture at inlet condition\n",
    "Vswt = (pi/4)*(D**2)*L*(N/2)#......#Swept volume \n",
    "etaV = Vi/Vswt#.....#Volumetric efficiency\n",
    "print \"The volumetric efficiency of the engine = %0.2f %%\"%(etaV*100)\n",
    "hv = (gcic/Vi)*CV#......#Heating value\n",
    "print \"The heating value of 1 m**3 of charge at 25 degree Celsius = %0.2f kJ.m**3\"%hv"
   ]
  },
  {
   "cell_type": "markdown",
   "metadata": {},
   "source": [
    "## EXAMPLE 7.12 PAGE 256"
   ]
  },
  {
   "cell_type": "code",
   "execution_count": 8,
   "metadata": {
    "collapsed": false
   },
   "outputs": [
    {
     "name": "stdout",
     "output_type": "stream",
     "text": [
      "(i)Nominal diameter of the inlet valve = 0.04 m or 44.95 mm\n",
      "(ii)When the engine is modified to develop max indicative power at 2800rpm, nominal diameter of the inlet valve = 0.05 m or 48.55 mm\n",
      "(iii)The new mach index value is : 0.64\n",
      "Hence the volumetric efficiency drops (There is a steady decrease in volumetric efficiency of an engine if there is an increase in the mach index beyond 0.55, Refer the FIG 7_12)\n",
      "(iv)The mach index for the unmodified engine  : 1.10\n",
      "The volumetric efficiency is approximately 56% (from the FIG 7_12)\n"
     ]
    }
   ],
   "source": [
    "from __future__ import division\n",
    "from math import sqrt,pi\n",
    "#Initializing the variables\n",
    "Z=0.55#.............#Mach Index\n",
    "Dcy=0.11#............#Engine Bore in m\n",
    "L = 0.14#............#stroke length in m\n",
    "N = 2400#.............#Engine rpm\n",
    "N1 = 2800#............#Engine rpm after modification\n",
    "N2=4800#.............#Max rpm for unmodified engine\n",
    "p = 0.88#.........#pressure at intake valve in bar\n",
    "t=340#...............#temperature at intake valve in Kelvin\n",
    "ki = 0.33#...........#Inlet flow co-efficient\n",
    "ga = 1.4#...............#degree of freedom of the gas\n",
    "R = 287#.................#Gas constant for air in J/kg.K\n",
    "#calculations\n",
    "\n",
    "Us = sqrt(ga*R*t)#......#sonic velocity of air-fuel mixture at the inlet valve\n",
    "Up = (2*L*N)/60#...........#piston speed\n",
    "Div = sqrt(((Dcy**2)*Up)/(Z*ki*Us))#...............#Nominal diameter of the inlet valve in m\n",
    "print \"(i)Nominal diameter of the inlet valve = %0.2f m or %0.2f mm\"%(Div,Div*1000)\n",
    "Div1 = sqrt(((Dcy**2)*2*L*N1)/(Z*ki*Us*60))#.......# Nominal diameter of inlet valve for the modified engine in m\n",
    "print \"(ii)When the engine is modified to develop max indicative power at 2800rpm, nominal diameter of the inlet valve = %0.2f m or %0.2f mm\"%(Div1, Div1*1000,)\n",
    "Up1=(2*L*N1)/60#............#New piston speed for modified engine\n",
    "Z1 = ((Dcy/Div)**2)*(Up1/(ki*Us))#\n",
    "print \"(iii)The new mach index value is : %0.2f\"%(Z1)\n",
    "print \"Hence the volumetric efficiency drops (There is a steady decrease in volumetric efficiency of an engine if there is an increase in the mach index beyond 0.55, Refer the FIG 7_12)\"\n",
    "Up2 = (2*L*N2)/60#..............#Piston speed at max rpm for unmodified engine\n",
    "Z2 = ((Dcy/Div)**2)*(Up2/(ki*Us))#\n",
    "print \"(iv)The mach index for the unmodified engine  : %0.2f\"%Z2\n",
    "print \"The volumetric efficiency is approximately 56% (from the FIG 7_12)\""
   ]
  }
 ],
 "metadata": {
  "kernelspec": {
   "display_name": "Python 2",
   "language": "python",
   "name": "python2"
  },
  "language_info": {
   "codemirror_mode": {
    "name": "ipython",
    "version": 2
   },
   "file_extension": ".py",
   "mimetype": "text/x-python",
   "name": "python",
   "nbconvert_exporter": "python",
   "pygments_lexer": "ipython2",
   "version": "2.7.9"
  }
 },
 "nbformat": 4,
 "nbformat_minor": 0
}
