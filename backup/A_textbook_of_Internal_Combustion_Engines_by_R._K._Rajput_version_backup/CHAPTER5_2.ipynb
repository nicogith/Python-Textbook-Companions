{
 "cells": [
  {
   "cell_type": "markdown",
   "metadata": {},
   "source": [
    "# CHAPTER 5 - Combustion in S.I. Engines"
   ]
  },
  {
   "cell_type": "markdown",
   "metadata": {},
   "source": [
    "## EXAMPLE 5.1 PAGE 218"
   ]
  },
  {
   "cell_type": "code",
   "execution_count": 2,
   "metadata": {
    "collapsed": false
   },
   "outputs": [
    {
     "name": "stdout",
     "output_type": "stream",
     "text": [
      "Time for one combustion process = 4.51e-03 seconds \n",
      "The crank position is = 12.47 degree\n"
     ]
    }
   ],
   "source": [
    "from __future__ import division\n",
    "# Initialisation of Variables\n",
    "d=10.2#............#Engine bore in cm\n",
    "spo=0.6#............#Spark plug offset in cm\n",
    "vf=15.8#............#Average flame speed in m/s\n",
    "thetas=20#.............#The angle of the crank when spark plug is fired\n",
    "theta=6.5#..........#Angle by which the Engine rotates for combustion to develop (degree)\n",
    "N=1200#................#Engine rpm\n",
    "#calculations\n",
    "dmax=(0.5*d)+spo#.........#Max distance of flame travel in cm\n",
    "tf=(dmax)/(vf*100)#................#Time of flame travel in seconds\n",
    "degs=(N/60)*360#...................#Conversion of engine rpm into degree/second\n",
    "ctheta=tf*degs#...............#Crank angle for flame travel in degree\n",
    "tc=theta/degs#..................#time for combustion to develop in seconds\n",
    "top=tf+tc#......................#Time for one combustion process in seconds\n",
    "thetatot=theta+ctheta#................#Total crank rotation in degree\n",
    "thetacp = thetatot-thetas#..........#Crank position\n",
    "print \"Time for one combustion process = %0.2e seconds \"%top\n",
    "print \"The crank position is = %0.2f degree\"%thetacp"
   ]
  },
  {
   "cell_type": "markdown",
   "metadata": {},
   "source": [
    "## EXAMPLE 5.2 PAGE 219"
   ]
  },
  {
   "cell_type": "code",
   "execution_count": 3,
   "metadata": {
    "collapsed": false
   },
   "outputs": [
    {
     "name": "stdout",
     "output_type": "stream",
     "text": [
      "The time of spark = 15.00 Degrees before TDC \n",
      "Time of spark = 16.54 degrees before TDC\n"
     ]
    }
   ],
   "source": [
    "from __future__ import division\n",
    "# Initialisation of Variables\n",
    "dp=22#............#Delay period in degree\n",
    "cp=17#...............#Combustion period in degree\n",
    "dper=14#...............#Delay Percentage\n",
    "#Calculations\n",
    "thetad=dp/2#.........#Full throttle half speed will result in delay angle being reduced for the same time\n",
    "#Thus ignition timing should be arranged so that the total of thetad+cp ends 13 degree after TDC\n",
    "tsp=(thetad+cp)-13#............#Time of spark in degree\n",
    "print \"The time of spark = %0.2f Degrees before TDC \"%tsp\n",
    "#Half throttle half speed will result in an increase of 14% in delay time over that at full throttle half speed \n",
    "theta=(dper*thetad)/100#\n",
    "dtheta=thetad+theta#............#Delay angle\n",
    "tp=dtheta+cp#................#Total period\n",
    "tsp=tp-13#..............#\n",
    "print \"Time of spark = %0.2f degrees before TDC\"%tsp"
   ]
  }
 ],
 "metadata": {
  "kernelspec": {
   "display_name": "Python 2",
   "language": "python",
   "name": "python2"
  },
  "language_info": {
   "codemirror_mode": {
    "name": "ipython",
    "version": 2
   },
   "file_extension": ".py",
   "mimetype": "text/x-python",
   "name": "python",
   "nbconvert_exporter": "python",
   "pygments_lexer": "ipython2",
   "version": "2.7.9"
  }
 },
 "nbformat": 4,
 "nbformat_minor": 0
}
