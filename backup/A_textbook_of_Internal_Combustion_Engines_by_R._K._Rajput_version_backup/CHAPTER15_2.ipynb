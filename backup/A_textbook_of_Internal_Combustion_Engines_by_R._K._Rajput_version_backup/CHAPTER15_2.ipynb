{
 "cells": [
  {
   "cell_type": "markdown",
   "metadata": {},
   "source": [
    "# CHAPTER 15 - Engine Cooling"
   ]
  },
  {
   "cell_type": "markdown",
   "metadata": {},
   "source": [
    "## EXAMPLE 15.1 PAGE 499"
   ]
  },
  {
   "cell_type": "code",
   "execution_count": 1,
   "metadata": {
    "collapsed": false
   },
   "outputs": [
    {
     "name": "stdout",
     "output_type": "stream",
     "text": [
      "The mass of cooling water required = 3668.50 kg/h for petrol engine \n",
      "The mass of cooling water required = 2674.95 kg/h for diesel engine \n"
     ]
    }
   ],
   "source": [
    "from __future__ import division\n",
    "# Initialisation of Variables\n",
    "BP=90#.................#Brake Power in kW\n",
    "deltw=27#.................#Raise in temperature of water \n",
    "etaP=0.25#...................#Efficiency of petrol engine\n",
    "etaD=0.3#....................#Efficiency od diesel engine\n",
    "Pec=32#......................#Percentage of energy going to coolant in petrol engine\n",
    "Dec=28#......................#Percentage of energy going to coolant in diesel engine\n",
    "cp=4.187#..........#specific heat of water at constant pressure\n",
    "#Calculations\n",
    "hsP = BP/etaP#............#Heat supplied in kW or kJ/s\n",
    "ecP=hsP*(Pec/100)#.............#Energy going to cooling water in kg/s\n",
    "mwP=ecP/(cp*deltw)#.............#Mass of cooling water required\n",
    "hsD = BP/etaD#............#Heat supplied in kW or kJ/s\n",
    "ecD=hsD*(Dec/100)#.............#Energy going to cooling water in kg/s\n",
    "mwD=ecD/(cp*deltw)#.............#Mass of cooling water required\n",
    "print \"The mass of cooling water required = %0.2f kg/h for petrol engine \"%(mwP*3600)\n",
    "print \"The mass of cooling water required = %0.2f kg/h for diesel engine \"%(mwD*3600)"
   ]
  }
 ],
 "metadata": {
  "kernelspec": {
   "display_name": "Python 2",
   "language": "python",
   "name": "python2"
  },
  "language_info": {
   "codemirror_mode": {
    "name": "ipython",
    "version": 2
   },
   "file_extension": ".py",
   "mimetype": "text/x-python",
   "name": "python",
   "nbconvert_exporter": "python",
   "pygments_lexer": "ipython2",
   "version": "2.7.9"
  }
 },
 "nbformat": 4,
 "nbformat_minor": 0
}
