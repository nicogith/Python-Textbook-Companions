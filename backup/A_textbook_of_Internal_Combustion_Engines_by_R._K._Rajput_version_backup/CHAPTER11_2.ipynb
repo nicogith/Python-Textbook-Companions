{
 "cells": [
  {
   "cell_type": "markdown",
   "metadata": {},
   "source": [
    "# CHAPTER 11 - Carburetion and Carburettors"
   ]
  },
  {
   "cell_type": "markdown",
   "metadata": {},
   "source": [
    "## EXAMPLE 11.1 PAGE 399"
   ]
  },
  {
   "cell_type": "code",
   "execution_count": 2,
   "metadata": {
    "collapsed": false
   },
   "outputs": [
    {
     "name": "stdout",
     "output_type": "stream",
     "text": [
      "Suction at throat = 4447.61 N/m**2 \n"
     ]
    }
   ],
   "source": [
    "from __future__ import division\n",
    "from math import pi\n",
    "# Initialisation of Variables\n",
    "d=0.1#..................#Cylinder bore in m\n",
    "l=0.12#................#Cylinder stroke in m\n",
    "N=1800#..................#Engine rpm\n",
    "d2=0.028#................#Throat diameter in m\n",
    "Cda=0.8#................#Co efficient of air flow\n",
    "etaV=0.75#..................#Volumetric efficiency\n",
    "rhoa=1.2#................#Density of air in kg/m**3\n",
    "n=4#.......................#No of cylinders\n",
    "#Calculations\n",
    "Vs=(pi/4)*d*d*l*n#.................#Stroke Volume in m**3\n",
    "Va=etaV*Vs#.......................#Actual volume per stroke in m**3\n",
    "Vas=Va*(N/2)*(1/60)#.............#Actual volume sucked per second\n",
    "ma=Vas*rhoa#.........................#Air consumed in kg/sec\n",
    "delp=((ma/(Cda*(pi/4)*d2*d2))**2)/(2*rhoa)#.............#Suction at throat in N/m**2\n",
    "print \"Suction at throat = %0.2f N/m**2 \"%delp"
   ]
  },
  {
   "cell_type": "markdown",
   "metadata": {},
   "source": [
    "## EXAMPLE 11.2 PAGE 400"
   ]
  },
  {
   "cell_type": "code",
   "execution_count": 1,
   "metadata": {
    "collapsed": false
   },
   "outputs": [
    {
     "name": "stdout",
     "output_type": "stream",
     "text": [
      "Suction at the throat = 539.13 N/m**2 \n",
      "Throat area = 7.72 cm**2 \n"
     ]
    }
   ],
   "source": [
    "from __future__ import division\n",
    "from math import sqrt\n",
    "# Initialisation of Variables\n",
    "cp=5#.................#Consumption of petrol in kg/h\n",
    "afr = 16#...............#Air fuel ratio\n",
    "Af=2*10**(-6)#..............#Fuel orifice area in m**2\n",
    "z=0.005#................#Distance between tip of jet and level of petrol in float chamber in m\n",
    "spgrp=0.75#..............#Specific gravity of petrol\n",
    "rhow=1000#.................#Density of water in kg/m**3\n",
    "rhoa=1.2#....................#Density of air in kg/m**3\n",
    "Cda=0.8#...............#Coefficient of discharge for venturi throat\n",
    "g=9.81#...............#Acceleration due to gravity in m/sec**2\n",
    "#Calculations\n",
    "mf=cp/3600#.................#Fuel consumed in kg/sec\n",
    "delp=(((mf/(Af*Cda))**2)*(1/(2*spgrp*rhow)))+(g*z*spgrp*rhow)#\n",
    "print \"Suction at the throat = %0.2f N/m**2 \"%delp\n",
    "ma=mf*afr#................#Air flow rate\n",
    "Atsqr=((ma/Cda)**2)*(1/(2*rhoa*delp))#....................#Throat area in m**2\n",
    "print \"Throat area = %0.2f cm**2 \"%(sqrt(Atsqr)*10**4)"
   ]
  },
  {
   "cell_type": "markdown",
   "metadata": {},
   "source": [
    "## EXAMPLE 11.3 PAGE 401"
   ]
  },
  {
   "cell_type": "code",
   "execution_count": 3,
   "metadata": {
    "collapsed": false
   },
   "outputs": [
    {
     "name": "stdout",
     "output_type": "stream",
     "text": [
      "Diameter of the fuel jet = 1.32 mm\n"
     ]
    }
   ],
   "source": [
    "from __future__ import division\n",
    "from math import pi,sqrt\n",
    "# Initialisation of Variables\n",
    "pc=7.2#.................#Petrol consumed in kg/h\n",
    "spgrp=0.75#................#Specific gravity of fuel\n",
    "rhow=1000#.................#Density of water in kg/m**3\n",
    "t1=300#...................#Temperature of air in Kelvin\n",
    "afr=15#....................#Air fuel ratio\n",
    "d2=0.024#....................#Diameter of choke tube in m\n",
    "z=0.0042#...................#The height of the jet above petrol level in float chamber in m\n",
    "Cda=0.8#....................#Coefficient of discharge for air\n",
    "Cdf=0.7#.....................#Coefficient of discharge for fuel\n",
    "p1=1.013#.....................#Atmospheric pressure in bar\n",
    "g=9.81#.......................#Acceleration due to gravity in m/s**2\n",
    "R=287#........................#Gas constant in J/kg.K\n",
    "#calculations\n",
    "mf=pc/3600#....................#Rate of fuel consumption in kg/sec\n",
    "rhof=spgrp*rhow#...............#Density of fuel in kg/m**3\n",
    "rhoa=(p1*10**5)/(R*t1)#............#Density of air in kg/m**3\n",
    "ma=mf*afr#.......................#Air flow rate \n",
    "delpa=((ma/(Cda*(pi/4)*d2**2))**2)*(1/(2*rhoa))#....................#Suction in N/m**2\n",
    "df=sqrt((mf/sqrt(2*rhof*(delpa-(g*z*rhof))))*(1/(Cdf*(pi/4))))#.................#Diameter of fuel jet in m\n",
    "print \"Diameter of the fuel jet = %0.2f mm\"%(df*1000)"
   ]
  },
  {
   "cell_type": "markdown",
   "metadata": {},
   "source": [
    "## EXAMPLE 11.4 PAGE 402"
   ]
  },
  {
   "cell_type": "code",
   "execution_count": 15,
   "metadata": {
    "collapsed": false
   },
   "outputs": [
    {
     "name": "stdout",
     "output_type": "stream",
     "text": [
      "Suction at the throat = 7.67 cm of Water \n",
      "Throat area = 2.86 cm \n",
      "Velocity of air across the venturi throat = 8.34 m/s \n"
     ]
    }
   ],
   "source": [
    "from __future__ import division\n",
    "from math import sqrt,pi\n",
    "# Initialisation of Variables\n",
    "pc=5.45#......................#Petrol consumption in kg/h\n",
    "afr=15#......................#Air fuel ratio\n",
    "af=2*10**(-6)#................#Fuel jet orifice area in m**2\n",
    "z=0.00635#...................#Distance between tip of fuel jet and level of petrol in the float chamber in m\n",
    "Cda=0.8#............................#Coefficient of discharge of venturi throat\n",
    "rhoa=1.29#........................#Density of air in kg/m**3\n",
    "spgrp=0.72#........................#Specific gravity of fuel\n",
    "rhow=1000#.........................#Density of water in kg/m**3\n",
    "g=9.81#..............................#Acceleration due to gravity in m/s**2\n",
    "Cdf=0.75#........................#Coefficient of discharge of the fuel\n",
    "#calculations\n",
    "mf=pc/3600#....................#Fuel consumed in kg/sec\n",
    "rhof=spgrp*rhow#...............#Density of fuel in kg/m**3\n",
    "delp=(((mf/(af*Cdf))**2)*(1/(2*rhof)))+(g*z*rhof)#......................#Depression in venturi throat in N/m**2\n",
    "h2odep=delp/(g*1000)#................................#Depression in venturi throat in cm of Water\n",
    "print \"Suction at the throat = %0.2f cm of Water \"%(h2odep*100)\n",
    "ma=mf*afr#................#Air flow rate\n",
    "At=sqrt(((ma/Cda)**2)*(1/(2*rhoa*delp)))#....................#Throat area in m**2\n",
    "dt=sqrt(At/(pi/4))#........................................#Throat diameter in m\n",
    "print \"Throat area = %0.2f cm \"%(dt*100)\n",
    "Ct=sqrt((2*g*z*rhof)/rhoa)#..........................#Velocity of air across the venturi throat in m/sec\n",
    "print \"Velocity of air across the venturi throat = %0.2f m/s \"%(Ct)\n"
   ]
  },
  {
   "cell_type": "markdown",
   "metadata": {},
   "source": [
    "## EXAMPLE 11.5 PAGE 403"
   ]
  },
  {
   "cell_type": "code",
   "execution_count": 16,
   "metadata": {
    "collapsed": false
   },
   "outputs": [
    {
     "name": "stdout",
     "output_type": "stream",
     "text": [
      "Throat pressure = 0.76 bar \n",
      "Air fuel ratio when the air cleaner is fitted : 13.69\n"
     ]
    }
   ],
   "source": [
    "from __future__ import division\n",
    "from math import sqrt,pi\n",
    "# Initialisation of Variables\n",
    "afr=15#.....................#Air fuel ratio\n",
    "p1=1#.........................#Atmospheric pressure in bar\n",
    "p2=0.8#.......................#Pressure at venturi throat in bar\n",
    "pd=30#....................#Pressure drop to air cleaner in mm of Hg\n",
    "rhohg=13600#....................#Density of Hg in kg/m**3\n",
    "af=240#........................#Air flow at sea level in kg/h\n",
    "g=9.81#.....................#Acceleration due to gravity in m/s**2\n",
    "#calculations\n",
    "delpa=p1-p2#........................#When there is no air cleaner\n",
    "pt=1-(rhohg*g*(pd/1000)*10**(-5))-delpa#..........................#Throat pressure in bar\n",
    "print \"Throat pressure = %0.2f bar \"%pt\n",
    "afrn=afr*sqrt(delpa/(p1-pt))#...............................#Air fuel ratio when the air cleaner is fitted\n",
    "print \"Air fuel ratio when the air cleaner is fitted : %0.2f\"%afrn"
   ]
  },
  {
   "cell_type": "markdown",
   "metadata": {},
   "source": [
    "## EXAMPLE 11.6 PAGE 403"
   ]
  },
  {
   "cell_type": "code",
   "execution_count": 17,
   "metadata": {
    "collapsed": false
   },
   "outputs": [
    {
     "name": "stdout",
     "output_type": "stream",
     "text": [
      "Throat diameter = 0.03 m\n"
     ]
    }
   ],
   "source": [
    "from __future__ import division\n",
    "from math import sqrt,pi\n",
    "# Initialisation of Variables\n",
    "As=4.6#........................#Air supply in kg/min\n",
    "p1=1.013#.......................#Atmospheric pressure in bar\n",
    "t1=298#......................#Atmospheric temperature in Kelvin\n",
    "C2=80#........................#Air flow velocity in m/s\n",
    "Cv=0.8#....................#Velocity co efficient\n",
    "ga=1.4#........................#Degree of freedom of gas\n",
    "R=0.287#........................#Gas constant in kJ/kgK\n",
    "#Calculations\n",
    "cp=R*(ga/(ga-1))#.......................#Specific heat capacity of air in kJ/kgK\n",
    "p2=((1-(((C2/Cv)**2)*(1/(2*cp*1000*t1))))**(ga/(ga-1)))*p1#...................#Throat pressure in bar\n",
    "rho1=(p1*10**5)/(R*1000*t1)#\n",
    "rho2=rho1*(p2/p1)**(1/ga)#\n",
    "ma=As/60#...................#Air flow in kg/s\n",
    "A2=ma/(rho2*C2)#.................#Throat area in m**2\n",
    "d2=sqrt((4*A2)/pi)#................#Throat diameter in m\n",
    "print \"Throat diameter = %0.2f m\"%d2"
   ]
  },
  {
   "cell_type": "markdown",
   "metadata": {},
   "source": [
    "## EXAMPLE 11.7 PAGE 404"
   ]
  },
  {
   "cell_type": "code",
   "execution_count": 18,
   "metadata": {
    "collapsed": false
   },
   "outputs": [
    {
     "name": "stdout",
     "output_type": "stream",
     "text": [
      "Throat diameter = 3.53 cm \n",
      "Orifice diameter = 0.0023 cm \n"
     ]
    }
   ],
   "source": [
    "from __future__ import division\n",
    "from math import sqrt,pi\n",
    "# Initialisation of Variables\n",
    "As=6#........................#Air supply in kg/min\n",
    "fs=0.45#..........................#Fuel supply in kg/min\n",
    "p1=1.013#.......................#Atmospheric pressure in bar\n",
    "t1=300#......................#Atmospheric temperature in Kelvin\n",
    "rhof=740#......................#Density of fuel in kg/m**3\n",
    "C2=92#........................#Air flow velocity in m/s\n",
    "Cda=0.8#....................#Velocity co efficient\n",
    "Cdf=0.6#.........................#Coefficient of discharge for fuel\n",
    "ga=1.4#........................#Degree of freedom of gas\n",
    "r=0.75#......................#ratio of pressure drop across venturi and of that of choke\n",
    "R=0.287#........................#Gas constant in kJ/kgK\n",
    "#Calculations\n",
    "ma=As/60#.................................#Air flow in kg/s\n",
    "mf=fs/60#.................................#Fuel flow in kg/s\n",
    "cp=R*(ga/(ga-1))#.......................#Specific heat capacity of air in kJ/kgK\n",
    "p2=((1-(((C2/Cda)**2)*(1/(2*cp*1000*t1))))**(ga/(ga-1)))*p1#...................#Throat pressure in bar\n",
    "v1=(R*t1*1000)/(p1*10**5)#\n",
    "v2=v1*(p1/p2)**(1/ga)#................#specific volume in m**3/kg\n",
    "A2=(ma*v2)/(C2)#.................#Throat area in m**2\n",
    "d2=sqrt((4*A2)/pi)#................#Throat diameter in m\n",
    "print \"Throat diameter = %0.2f cm \"%(d2*100)\n",
    "pdv=p1-p2#..........#Pressure drop at venturi in bar\n",
    "pdj=r*pdv#.............#Pressure drop at jet in bar\n",
    "Af=((mf/Cdf)*(1/sqrt(2*rhof*pdj*10**5)))#.............#Area of orifice in m**2\n",
    "df=sqrt((4*Af)/pi)#................#Orifice diameter in m\n",
    "print \"Orifice diameter = %0.4f cm \"%(df)"
   ]
  },
  {
   "cell_type": "markdown",
   "metadata": {},
   "source": [
    "## EXAMPLE 11.8 PAGE 404"
   ]
  },
  {
   "cell_type": "code",
   "execution_count": 7,
   "metadata": {
    "collapsed": false
   },
   "outputs": [
    {
     "name": "stdout",
     "output_type": "stream",
     "text": [
      "Diameter of choke = 29.61 mm \n",
      "Diameter of the fuel jet = 1.68 mm \n"
     ]
    }
   ],
   "source": [
    "from __future__ import division\n",
    "from math import sqrt,pi\n",
    "# Initialisation of Variables\n",
    "Vs=1489*10**(-6)#.......................#Capacity of engine in m**3\n",
    "N=4200#...............#Engine rpm at which max speed is developed\n",
    "etaV=0.75#.....................#Volumetric efficiency\n",
    "afr=13#........................#air fuel ratio\n",
    "Ct=85#..........................#Theoretical air speed at peak power in m/s\n",
    "C2=Ct#\n",
    "Cda=0.82#....................#Coefficient of discharge for the venturi\n",
    "Cdf=0.65#....................#Coefficient of discharge of main petrol jet\n",
    "spgr=0.74#..................#Specific gravity of petrol\n",
    "z=0.006#.................................#Level of petrol surface below choke\n",
    "p1=1.013#......................#Atmospheric pressure in bar\n",
    "t1=293#.........................#Atmospheric temperature in Kelvin\n",
    "r=0.4#.............................#Ratio of diameter of emulsion tube to choke diameter\n",
    "R=0.287#.............................#Gas constant in kJ/kgK\n",
    "ga=1.4#..............................#Degree of freedom for air\n",
    "g=9.81#..............................#Acceleration due to gravity in m/s**2\n",
    "rhow=1000#...........................#Density of water in kg/m**3\n",
    "#calculations\n",
    "rhof=rhow*spgr#............................#Density of fuel in kg/m**3\n",
    "Va=(etaV*Vs*N)/(60*2)#.....................#Volume of air induced in m**3/s\n",
    "ma=(p1*10**5*Va)/(R*t1*1000)#...............#mass flow of air in kg/s\n",
    "cp=R*(ga/(ga-1))#.......................#Specific heat capacity of air in kJ/kgK\n",
    "p2=((1-(((C2)**2)*(1/(2*cp*1000*t1))))**(ga/(ga-1)))*p1#...................#Throat pressure in bar\n",
    "pt=p2#\n",
    "vt=Va*(p1/p2)**(1/ga)#.....................#Volume flow of air at choke in m**3/s\n",
    "At=vt/(Ct*Cda)#...................#Area of emulsion tube in m\n",
    "D=sqrt((4*At*10**6)/(pi*(1-r**2)))#...................#Diameter of choke in mm\n",
    "print \"Diameter of choke = %0.2f mm \"%D\n",
    "mf=ma/afr#..................#Mass flow of fuel in kg/s\n",
    "delpa=(p1-p2)*10**5#\n",
    "df=sqrt((mf/sqrt(2*rhof*(delpa-(g*z*rhof))))*(1/(Cdf*(pi/4))))#.................#Diameter of fuel jet in m\n",
    "print \"Diameter of the fuel jet = %0.2f mm \"%(df*1000)"
   ]
  },
  {
   "cell_type": "markdown",
   "metadata": {},
   "source": [
    "## EXAMPLE 11.9 PAGE 405"
   ]
  },
  {
   "cell_type": "code",
   "execution_count": 6,
   "metadata": {
    "collapsed": false
   },
   "outputs": [
    {
     "name": "stdout",
     "output_type": "stream",
     "text": [
      "Air fuel ratio when the nozzle lip is neglected :  11.35\n",
      "Air fuel ratio when nozzle lip is taken into account :  11.39\n",
      "Minimum velocity of air = 8.58 m/s\n"
     ]
    }
   ],
   "source": [
    "from __future__ import division\n",
    "from math import sqrt,pi\n",
    "# Initialisation of Variables\n",
    "da=0.018#..........................#Throat Diameter in m\n",
    "df=0.0012#......................#Diameter of fuel orifice in m\n",
    "Cda=0.82#.................#Coefficient of air flow\n",
    "Cdf=0.65#......................#Coefficient of fuel flow\n",
    "z=0.006#........................#Level of petrol surface below the throat\n",
    "rhoa=1.2#.......................#density of air in kg/m**3\n",
    "rhof=750#.........................#density of fuel in kg/m**3\n",
    "g=9.81#........................#Acceleration due to gravity in m/s**2\n",
    "delp=0.065*10**5#...................#Pressure drop in N/m**2\n",
    "#Calculations\n",
    "afr1=(Cda/Cdf)*((da/df)**2)*sqrt(rhoa/rhof)#..................#Air fuel ratio when the nozzle lip is neglected\n",
    "print \"Air fuel ratio when the nozzle lip is neglected : \",round(afr1,2)\n",
    "afr2=afr1*sqrt(delp/(delp-(g*z*rhof)))#.....................#Air fuel ratio when nozzle lip is taken into account\n",
    "print \"Air fuel ratio when nozzle lip is taken into account : \",round(afr2,2)\n",
    "C2=sqrt((2*g*z*rhof)/rhoa)#.........................#Minimum velocity of air in m/s\n",
    "print \"Minimum velocity of air = %0.2f m/s\"%C2"
   ]
  },
  {
   "cell_type": "markdown",
   "metadata": {},
   "source": [
    "## EXAMPLE 11.10 PAGE 406"
   ]
  },
  {
   "cell_type": "code",
   "execution_count": 5,
   "metadata": {
    "collapsed": false
   },
   "outputs": [
    {
     "name": "stdout",
     "output_type": "stream",
     "text": [
      "Fuel consumption = 46.66 kg/h \n",
      "Velocity of air at the throat = 132.52 m/s \n"
     ]
    }
   ],
   "source": [
    "from __future__ import division\n",
    "from math import sqrt,pi\n",
    "# Initialisation of Variables\n",
    "d=0.11#..................#Engine bore in m\n",
    "l=0.11#..................#Engine length in m\n",
    "da=0.042#................#Throat diameter of the choke tube in m\n",
    "N=3000#..................#Engine rpm\n",
    "etaV=0.75#...............#Volumetric efficiency\n",
    "Ra=287#..................#Gas constant for air in J/kgK\n",
    "Rv=97#...................#Gas constant for fuel vapour in J/kgK\n",
    "t=273#....................#Temperature in Kelvin\n",
    "p=1.013#...................#Pressure in bar\n",
    "delpa=0.12#.................#Pressure depression in bar\n",
    "t2=273+15#...................#Temperature at throat\n",
    "n=8#........................#No of cylinders\n",
    "mO=32#.......................#Mass of Oxygen molecule in amu\n",
    "mC=12#........................#Mass of Carbon molecule in amu\n",
    "mH=1#.......................#Mass of Hydrogen molecule in amu\n",
    "cC=84#......................#Composition of carbon in %\n",
    "cH2=16#.....................#Composition of Hydrogen in % \n",
    "#Calculations\n",
    "Vfm=(pi/4)*d*d*l*n*(N/2)*etaV#.....................#Volume of fuel mixture supplied in m**3/min\n",
    "afr=((cC*(mO/mC))+(cH2*(mO/(4*mH))))/23#..................#Air fuel ratio\n",
    "va=(Ra*t)/(p*10**5)#.....................#Volume of 1 kg of air in m**3/kg\n",
    "vf=(Rv*t)/(p*10**5)#......................#Volume of 1 kg of fuel vapour in m**3/kg\n",
    "fc=(Vfm/((afr*va)+vf))*60#...............#Fuel consumption in kg/h\n",
    "print \"Fuel consumption = %0.2f kg/h \"%fc\n",
    "rhoa=((p-delpa)*10**5)/(Ra*t2)#...............#Density of air at the throat in kg/m**3\n",
    "Ca=(afr*(fc/3600))/((pi/4)*da*da*rhoa)#................#Velocity of air at the throat in m/s\n",
    "print \"Velocity of air at the throat = %0.2f m/s \"%Ca"
   ]
  },
  {
   "cell_type": "markdown",
   "metadata": {},
   "source": [
    "## EXAMPLE 11.11 PAGE 407"
   ]
  },
  {
   "cell_type": "code",
   "execution_count": 4,
   "metadata": {
    "collapsed": false
   },
   "outputs": [
    {
     "name": "stdout",
     "output_type": "stream",
     "text": [
      "Air fuel ratio at the altitude : 11.26\n"
     ]
    }
   ],
   "source": [
    "from __future__ import division\n",
    "from math import sqrt,pi\n",
    "# Initialisation of Variables\n",
    "a=4500#.................#Altitude\n",
    "afr=14#...............#Air fuel ratio at sea level\n",
    "t1=25#...........#Temperature at sea level in Celsius\n",
    "p1=1.013#...........#Pressure at sea level in bar\n",
    "#Calculations\n",
    "t2=t1-(0.0064*a)#.........................#Temperature at the given altitude using the given formula in Celsius\n",
    "p2=p1/(10**(a/19300))#....................#Pressure at the given altitude using the given formula in bar\n",
    "afr2=afr*sqrt((p2*(t1+273))/(p1*(t2+273)))#...................#Air fuel ratio at the altitude\n",
    "print \"Air fuel ratio at the altitude : %0.2f\"%afr2"
   ]
  }
 ],
 "metadata": {
  "kernelspec": {
   "display_name": "Python 2",
   "language": "python",
   "name": "python2"
  },
  "language_info": {
   "codemirror_mode": {
    "name": "ipython",
    "version": 2
   },
   "file_extension": ".py",
   "mimetype": "text/x-python",
   "name": "python",
   "nbconvert_exporter": "python",
   "pygments_lexer": "ipython2",
   "version": "2.7.9"
  }
 },
 "nbformat": 4,
 "nbformat_minor": 0
}
