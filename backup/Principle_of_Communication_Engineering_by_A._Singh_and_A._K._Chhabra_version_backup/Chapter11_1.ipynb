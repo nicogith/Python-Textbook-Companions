{
 "cells": [
  {
   "cell_type": "markdown",
   "metadata": {},
   "source": [
    "# Chapter No 11 - Broadband Communication"
   ]
  },
  {
   "cell_type": "markdown",
   "metadata": {},
   "source": [
    "## Example11.1, page no 435"
   ]
  },
  {
   "cell_type": "code",
   "execution_count": 2,
   "metadata": {
    "collapsed": false
   },
   "outputs": [
    {
     "name": "stdout",
     "output_type": "stream",
     "text": [
      "The total no of samples per second is:\n",
      "160000 samples/second\n"
     ]
    }
   ],
   "source": [
    "#Given\n",
    "c=20# no of signal channels\n",
    "s=8e3# Channel sampling rate\n",
    "t=1/s# time interval over which ll channels are sampled once\n",
    "#b\n",
    "g=5e-6# guaed time for each channel sample\n",
    "s_duration=t-g# duration of each sample\n",
    "#c\n",
    "samples_sec=c*s#\n",
    "print 'The total no of samples per second is:\\n%d samples/second'%samples_sec"
   ]
  }
 ],
 "metadata": {
  "kernelspec": {
   "display_name": "Python 2",
   "language": "python",
   "name": "python2"
  },
  "language_info": {
   "codemirror_mode": {
    "name": "ipython",
    "version": 2
   },
   "file_extension": ".py",
   "mimetype": "text/x-python",
   "name": "python",
   "nbconvert_exporter": "python",
   "pygments_lexer": "ipython2",
   "version": "2.7.9"
  }
 },
 "nbformat": 4,
 "nbformat_minor": 0
}
