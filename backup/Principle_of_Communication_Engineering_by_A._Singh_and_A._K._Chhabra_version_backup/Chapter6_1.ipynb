{
 "cells": [
  {
   "cell_type": "markdown",
   "metadata": {},
   "source": [
    "# Chapter 6  : Radio Receivers"
   ]
  },
  {
   "cell_type": "markdown",
   "metadata": {},
   "source": [
    "## Example 6.1, page no 262"
   ]
  },
  {
   "cell_type": "code",
   "execution_count": 1,
   "metadata": {
    "collapsed": false
   },
   "outputs": [
    {
     "name": "stdout",
     "output_type": "stream",
     "text": [
      "Carrier freq for the BW to be 1% of fc is: 2000 kHz\n"
     ]
    }
   ],
   "source": [
    "#Given\n",
    "#Vm(t),Vc(t),Vmod(t)\n",
    "fm=10e3#modulating freq\n",
    "BW=2*fm# Bandwidth\n",
    "fc=100*BW#Carrier freq\n",
    "print'Carrier freq for the BW to be 1%% of fc is: %d kHz'%(fc/1000)"
   ]
  },
  {
   "cell_type": "markdown",
   "metadata": {},
   "source": [
    "## Example6.2, page no 262"
   ]
  },
  {
   "cell_type": "code",
   "execution_count": 2,
   "metadata": {
    "collapsed": false
   },
   "outputs": [
    {
     "name": "stdout",
     "output_type": "stream",
     "text": [
      "a)\n",
      "Tuning capacitor range is: 4.579156\n",
      "b)\n",
      "Tuning capacitor range is: 1051\n"
     ]
    }
   ],
   "source": [
    "#Given\n",
    "fmax=1600e3\n",
    "fmin=500e3\n",
    "IF=465e3\n",
    "#i\n",
    "fo1max=fmax+IF\n",
    "fo1min=fmin+IF\n",
    "C1max_C1min=(fo1max/fo1min)**2\n",
    "#ii\n",
    "fo2max=fmax-IF\n",
    "fo2min=fmin-IF\n",
    "C2max_C2min=(fo2max/fo2min)**2\n",
    "print 'a)\\nTuning capacitor range is: %f\\nb)\\nTuning capacitor range is: %d'%(C1max_C1min,C2max_C2min)\n"
   ]
  }
 ],
 "metadata": {
  "kernelspec": {
   "display_name": "Python 2",
   "language": "python",
   "name": "python2"
  },
  "language_info": {
   "codemirror_mode": {
    "name": "ipython",
    "version": 2
   },
   "file_extension": ".py",
   "mimetype": "text/x-python",
   "name": "python",
   "nbconvert_exporter": "python",
   "pygments_lexer": "ipython2",
   "version": "2.7.9"
  }
 },
 "nbformat": 4,
 "nbformat_minor": 0
}
