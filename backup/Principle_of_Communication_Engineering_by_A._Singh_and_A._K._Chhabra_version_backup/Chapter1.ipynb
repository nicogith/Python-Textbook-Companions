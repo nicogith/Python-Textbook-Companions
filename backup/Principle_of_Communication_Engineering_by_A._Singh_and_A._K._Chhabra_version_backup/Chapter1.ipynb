{
 "cells": [
  {
   "cell_type": "markdown",
   "metadata": {},
   "source": [
    "# Chapter 1 : Signals"
   ]
  },
  {
   "cell_type": "markdown",
   "metadata": {},
   "source": [
    "## Example1,page no12"
   ]
  },
  {
   "cell_type": "code",
   "execution_count": 2,
   "metadata": {
    "collapsed": false
   },
   "outputs": [
    {
     "name": "stdout",
     "output_type": "stream",
     "text": [
      "The value of the above integral is:C=0\n",
      " Since C=0, the two functions: \n",
      "  f(t)=sin(n*wo*t)\n",
      "  g(t)=cos(n*wo*t) are Orthogonal\n"
     ]
    }
   ],
   "source": [
    "from numpy.random import randint\n",
    "from numpy import pi, arange\n",
    "from mpmath  import quad, sin, cos\n",
    "#Given:\n",
    "n=round(randint(1000))#any integers\n",
    "m=round(randint(1000))#any integers\n",
    "wo=2*(n+m)*pi#Angular Freq\n",
    "t=arange(0,2*pi/wo,0.01)\n",
    "to=0;t1=2*pi/wo\n",
    "C= quad(lambda t:sin(n*wo*t)*cos(m*wo*t),[to,t1])# integrating sin(n*wo*t)*cos(m*wo*t) function\n",
    "print \"The value of the above integral is:C=%d\\n Since C=%d, the two functions: \\n  f(t)=sin(n*wo*t)\\n  g(t)=cos(n*wo*t) are Orthogonal\"%(C,C)"
   ]
  },
  {
   "cell_type": "markdown",
   "metadata": {},
   "source": [
    "## Example2,page no 12"
   ]
  },
  {
   "cell_type": "code",
   "execution_count": 1,
   "metadata": {
    "collapsed": false
   },
   "outputs": [
    {
     "name": "stdout",
     "output_type": "stream",
     "text": [
      "The optimum value of C to minimise the mean square error is:\n",
      " C= 1.273240\n"
     ]
    }
   ],
   "source": [
    "from numpy import arange,pi\n",
    "from mpmath  import quad, sin\n",
    "#Given:\n",
    "# Curve on page no 9....fig 1.6\n",
    "t=arange(0,2*pi,0.1)\n",
    "t0=0\n",
    "t1=2*pi\n",
    "C=((quad(lambda t: sin(t),[t0,t1/2])-quad(lambda t: sin(t),[t1/2,t1]))/quad(lambda t :(sin(t))**2,[t0,t1]))\n",
    "\n",
    "print \"The optimum value of C to minimise the mean square error is:\\n C= %f\"%(C)"
   ]
  },
  {
   "cell_type": "markdown",
   "metadata": {},
   "source": [
    "## Example3,page no12"
   ]
  },
  {
   "cell_type": "code",
   "execution_count": 1,
   "metadata": {
    "collapsed": false
   },
   "outputs": [
    {
     "name": "stdout",
     "output_type": "stream",
     "text": [
      "a) The value of constants Cn are:\n",
      "1.273237    for n= 1\n",
      "\n",
      "0.000000    for n= 2\n",
      "\n",
      "0.424406    for n= 3\n",
      "\n",
      "0.000000    for n= 4\n",
      "\n",
      "0.254636    for n= 5\n",
      "\n",
      "0.000000    for n= 6\n",
      "\n",
      "0.181874    for n= 7\n",
      "\n",
      "b) Mean Square error is\n",
      "epsi(1) = 0.190000\n",
      "\n",
      "epsi(3) = 0.100000\n",
      "\n",
      "epsi(5) = 0.070000\n",
      "\n",
      "epsi(7) = 0.050000\n",
      "\n"
     ]
    }
   ],
   "source": [
    "from numpy import arange\n",
    "from mpmath  import quad\n",
    "from math import pi,sin\n",
    "#Given:\n",
    "#a  # Referance Figure on page no 9.. (1.6d)\n",
    "\n",
    "t=range(0,int(2*3.14+1))\n",
    "t0=0\n",
    "t1=2*3.14\n",
    "print 'a) The value of constants Cn are:'\n",
    "C=[]        \n",
    "for i in range(1,8):\n",
    "    C.append((quad(lambda t:sin(i*t),[t0,t1/2])-quad(lambda t:sin(i*t),[t1/2,t1]))/quad(lambda t:(sin(i*t))**2,[t0,t1]))\n",
    "    if C[i-1] <= 0.01:\n",
    "        C[i-1]=0\n",
    "    \n",
    "    print '%f    for n= %d\\n'%(C[i-1],i)\n",
    "\n",
    "#b Mean Square error\n",
    "\n",
    "int1=quad(lambda t:(1)**2,[t0,t1])\n",
    "for n in range(1,8):\n",
    "    if (n%2) == 0:\n",
    "        C[n-1] = 0\n",
    "    else:\n",
    "        C[n-1]=4.0/(n*pi)\n",
    "\n",
    "\n",
    "K=[]\n",
    "for n in range(1,8):\n",
    " \n",
    "    K.append(quad(lambda t:(sin(n*t))**2,[t0,t1]))\n",
    " \n",
    "K[n-1]=pi\n",
    "S=[0]\n",
    "for n in range(1,8):\n",
    "    S.append(S[n-1]+(((C[n-1])**2)*K[n-1]))\n",
    "#Mean Square error\n",
    "epsi=[]\n",
    "for n in range(1,8):\n",
    "    epsi.append((1.0/(t1-t0)*(int1-S[n])))\n",
    "\n",
    "print 'b) Mean Square error is'\n",
    "for n in arange(1,2+7,2):\n",
    "    print 'epsi(%d) = %f\\n'%(n,round(100*epsi[n-1])/100)"
   ]
  },
  {
   "cell_type": "markdown",
   "metadata": {},
   "source": [
    "## Example4,page no12"
   ]
  },
  {
   "cell_type": "code",
   "execution_count": 2,
   "metadata": {
    "collapsed": false
   },
   "outputs": [
    {
     "name": "stdout",
     "output_type": "stream",
     "text": [
      "P0 = 1\n",
      "P1 = t\n",
      "P2 = 1.5*t**2 - 0.5\n",
      "P3 = 2.5*t**2 - 1.5\n",
      "\n",
      "The Constant coeff (Cn) values are :\n",
      "C0 = 0.0\n",
      "C1 = -1.5\n",
      "C2 = 0.0\n",
      "C3 = 0.875\n",
      "\n",
      "f(t)= 0*P0 + -1.500000*P1 + 0*P2 + 0.875000*P3\n"
     ]
    }
   ],
   "source": [
    "from sympy import symbols,solve\n",
    "from mpmath  import quad\n",
    "from numpy import arange\n",
    "#Given:\n",
    "t=arange(-1,1.01,0.01)\n",
    "t0=-1\n",
    "t1=1\n",
    "# Legendre Polynomial\n",
    "t=symbols(\"t\")\n",
    "P0=1\n",
    "P1=t\n",
    "P2=-0.5+1.5*t**2\n",
    "P3=-1.5+2.5*t**2\n",
    "print \"P0 =\",P0\n",
    "print \"P1 =\",P1\n",
    "print \"P2 =\",P2\n",
    "print \"P3 =\",P3\n",
    "#The Constant coeff (Cn)\n",
    "C0=0.5*(quad(lambda t:1,[-1,0])+quad(lambda t:-1,[0,1]))\n",
    "C1=1.5*(quad(lambda t:t,[-1,0])+quad(lambda t:-t,[0,1]))\n",
    "C2=2.5*(quad(lambda t:(1.5*t**2)-0.5,[-1,0])+quad(lambda t:-(1.5*t**2)+0.5,[0,1]))\n",
    "C3=3.5*(quad(lambda t:(2.5*t**3)-(1.5*t),[-1,0])+quad(lambda t:-(2.5*t**3)+(1.5*t),[0,1]))\n",
    "print \"\\nThe Constant coeff (Cn) values are :\"\n",
    "print \"C0 =\",C0\n",
    "print \"C1 =\",C1\n",
    "print \"C2 =\",C2\n",
    "print \"C3 =\",C3\n",
    "print \"\\nf(t)= %d*%s + %f*%s + %d*%s + %f*%s\"%(C0,\"P0\",C1,\"P1\",C2,\"P2\",C3,\"P3\")"
   ]
  },
  {
   "cell_type": "markdown",
   "metadata": {},
   "source": [
    "## Example 5, page no 19"
   ]
  },
  {
   "cell_type": "code",
   "execution_count": 3,
   "metadata": {
    "collapsed": false
   },
   "outputs": [
    {
     "name": "stdout",
     "output_type": "stream",
     "text": [
      "The value of a0 is: 0.500000\n",
      "\n",
      "The values of a(n):   (upto n=10)\n",
      "0\n",
      "0\n",
      "0\n",
      "0\n",
      "0\n",
      "0\n",
      "0\n",
      "0\n",
      "0\n",
      "0\n",
      "The values of b(n):    (upto n=10)\n",
      "-0.318308838986\n",
      "-0.159152848691\n",
      "-0.106100153783\n",
      "-0.0795732827116\n",
      "-0.0636567411629\n",
      "-0.0530453643632\n",
      "-0.0454655102642\n",
      "-0.0397803578398\n",
      "-0.0353583398512\n",
      "-0.0318205159538\n",
      "The trigonometric Fourier series for given function\n",
      " can be written as:\n",
      "\n",
      "f(t)=-0.318309-0.159153sin(2*pi*t)-0.106100sin(4*pi*t)\n",
      "-0.079573sin(6*pi*t)-0.063657sin(8*pi*t)-0.053045sin(10*pi*t)\n",
      "-0.045466sin(12*pi*t)-0.039780sin(14*pi*t).......\n"
     ]
    }
   ],
   "source": [
    "from math import pi,cos,sin\n",
    "from numpy import arange,trapz\n",
    "#given\n",
    "T=1\n",
    "t0=0\n",
    "wo=2*pi\n",
    "P=1\n",
    "t=arange(0,1.001,0.001)\n",
    "f=P*t\n",
    "#The trigonometric Fourier series coeff for given function\n",
    "a0=(1/T)*trapz(t,f)\n",
    "a=[]\n",
    "a.append(0)\n",
    "for n in range(1,11):\n",
    "    f1=[]\n",
    "    for tt in t:\n",
    "        f1.append((P*tt)*cos(wo*n*tt))\n",
    "    a.append((2/T)*trapz(t,f1))\n",
    "    \n",
    "    if a[(n)]<2.01:\n",
    "        a[(n)]=0\n",
    "    \n",
    "b=[]\n",
    "b.append(0)\n",
    "for n in range(1,11):\n",
    "    f2=[]\n",
    "    for tt in t:\n",
    "        f2.append((P*tt)*sin(2*pi*(1/T)*n*tt))\n",
    "    b.append(-(2/T)*trapz(t,f2))\n",
    "\n",
    "# Displaying trigonometric Fourier series coeff\n",
    "print \"The value of a0 is: %f\\n\"%(a0)\n",
    "print \"The values of a(n):   (upto n=10)\"\n",
    "for n in range(1,11):\n",
    "    print a[(n)]\n",
    "\n",
    "print \"The values of b(n):    (upto n=10)\"\n",
    "for n in range(1,11):\n",
    "    print b[(n)]\n",
    "\n",
    "print \"The trigonometric Fourier series for given function\\n can be written as:\\n\"\n",
    "print \"f(t)=%f%fsin(2*pi*t)%fsin(4*pi*t)\\n%fsin(6*pi*t)%fsin(8*pi*t)%fsin(10*pi*t)\\n%fsin(12*pi*t)%fsin(14*pi*t).......\"%(b[1],b[2],b[3],b[4],b[5],b[6],b[7],b[8])"
   ]
  },
  {
   "cell_type": "markdown",
   "metadata": {},
   "source": [
    "## Example 6, page no 21"
   ]
  },
  {
   "cell_type": "code",
   "execution_count": 2,
   "metadata": {
    "collapsed": false
   },
   "outputs": [
    {
     "name": "stdout",
     "output_type": "stream",
     "text": [
      "The Exponential Fourier coeff(Fn) are:for n=-5 to 5\n",
      "-0.05j \n",
      "\n",
      "(1+0j) \n",
      "\n",
      "-0.0981305252753j \n",
      "\n",
      "(1+0j) \n",
      "\n",
      "-0.315687575734j \n",
      "\n",
      "(0.5+0j) \n",
      "\n",
      "0j \n",
      "\n",
      "(1-0.153884176859j) \n",
      "\n",
      "0j \n",
      "\n",
      "(1-0.0688190960236j) \n",
      "\n",
      "0j \n",
      "\n",
      "\n",
      "The given function in Expo Fourier series can be represented as \n",
      "\n",
      "f(t)= 0.500000+jP/2*pi* ∑1/n *exp(j2*pi*t)\n"
     ]
    }
   ],
   "source": [
    "from __future__ import division\n",
    "from numpy import nditer,trapz, arange\n",
    "from math import cos,sin,pi\n",
    "#given\n",
    "\n",
    "t0=1\n",
    "T=1\n",
    "w0=2*3.14/T\n",
    "P=1\n",
    "t=arange(0,0.1+1,0.1)\n",
    "f=[P*tt for tt in t]# function f(t)=P*t, 0<t<1\n",
    "a=1\n",
    "print 'The Exponential Fourier coeff(Fn) are:for n=-5 to 5'\n",
    "Fr=[];Fi=[]\n",
    "for n in range(-5,6):  # Calculating the fourier coeff\n",
    "    fr=[ff*cos(pi*n*tt/T) for ff,tt in nditer([f,t])]\n",
    "    #Fr(a)=inttrap(t,fr)\n",
    "    Fr.append(trapz(t,fr))\n",
    "    fi=[ff*sin(pi*n*tt/T) for ff,tt in nditer([f,t])]\n",
    "    Fi.append(trapz(t,fi))\n",
    "    if Fr[a-1] < 0.01:\n",
    "        Fr[a-1]=0\n",
    "    \n",
    "    if Fi[a-1] < 0.01:\n",
    "        Fi[a-1]=0\n",
    "    \n",
    "    print Fr[a-1]-1J*Fi[a-1],'\\n'\n",
    "    a=a+1\n",
    "\n",
    "print '\\nThe given function in Expo Fourier series can be represented as \\n'\n",
    "print 'f(t)= %f+jP/2*pi* ∑1/n *exp(j2*pi*t)'%(P/2)"
   ]
  },
  {
   "cell_type": "markdown",
   "metadata": {},
   "source": [
    "## Example 7, page no 22"
   ]
  },
  {
   "cell_type": "code",
   "execution_count": 1,
   "metadata": {
    "collapsed": false
   },
   "outputs": [
    {
     "name": "stdout",
     "output_type": "stream",
     "text": [
      "The Expo fourier series coeff are: for n=-5 to 5\n",
      "(2.77555756156e-17-1.37737043993e-15j) \n",
      "\n",
      "(0.127481160803+3.12250225676e-16j) \n",
      "\n",
      "(-1.9567680809e-15-1.47624967806e-15j) \n",
      "\n",
      "(0.636776885598+6.54858112181e-16j) \n",
      "\n",
      "(-1.69309011255e-15-0.5j) \n",
      "\n",
      "(-1.90970223489+0j) \n",
      "\n",
      "(-1.69309011255e-15+0.5j) \n",
      "\n",
      "(0.636776885598-6.54858112181e-16j) \n",
      "\n",
      "(-1.9567680809e-15+1.47624967806e-15j) \n",
      "\n",
      "(0.127481160803-3.12250225676e-16j) \n",
      "\n",
      "(2.77555756156e-17+1.37737043993e-15j) \n",
      "\n",
      "The given function in Expo Fourier series can be represented as \n",
      "\n",
      "f(t)= 2V/pi -2V*exp(j2*pi*t)/3*pi -2V*exp(j2*pi*t)/15*pi\n",
      "      -2V*exp(j2*pi*t)/35*pi ...\n",
      "     -2V*exp(-j2*pi*t)/3*pi -2V*exp(-j2*pi*t)/15*pi...\n"
     ]
    },
    {
     "data": {
      "image/png": "[encoded data removed]",
      "text/plain": [
       "<matplotlib.figure.Figure at 0x7fefd18f9f10>"
      ]
     },
     "metadata": {},
     "output_type": "display_data"
    }
   ],
   "source": [
    "from numpy import arange,sin,pi,cos,trapz,nditer,zeros\n",
    "%matplotlib inline \n",
    "from matplotlib.pyplot import plot,subplot,title,legend,xlabel,ylabel,show\n",
    "\n",
    "#given\n",
    "V=1\n",
    "t0=1\n",
    "T=1\n",
    "w0=2*3.14/T\n",
    "P=1\n",
    "t=arange(0,0.01+3,0.01)\n",
    "f=[V*abs(sin(pi*tt)) for tt in t]\n",
    "#The Expo fourier series coeff\n",
    "print 'The Expo fourier series coeff are: for n=-5 to 5'\n",
    "a=1\n",
    "Fr=[];Fi=[];mag=[]\n",
    "for n in range(-5,6):\n",
    "    fr=[ff*cos(pi*n*tt/T) for ff,tt in nditer([f,t])]\n",
    "    Fr.append(trapz(t,fr))\n",
    "    fi=[ff*sin(pi*n*tt/T) for ff,tt in nditer([f,t])] \n",
    "    Fi.append(trapz(t,fi))\n",
    "    mag.append(abs(Fr[a-1]+1J*Fi[a-1]))\n",
    "\n",
    "    print Fr[a-1]-(1J*Fi[a-1]),'\\n'\n",
    "    x=zeros(len(t))\n",
    "    #x=x+((Fr(a))-1J*Fi(a)).*(cos(pi*n*t/T)+1J*sin(pi*n*t/T))\n",
    "    x=x+((Fr[a-1])-1J*Fi[a-1])*(cos(pi*n*t/T)+1J*sin(pi*n*t/T))\n",
    "    a=a+1\n",
    "\n",
    "print 'The given function in Expo Fourier series can be represented as \\n'\n",
    "print 'f(t)= 2V/pi -2V*exp(j2*pi*t)/3*pi -2V*exp(j2*pi*t)/15*pi\\n      -2V*exp(j2*pi*t)/35*pi ...\\n     -2V*exp(-j2*pi*t)/3*pi -2V*exp(-j2*pi*t)/15*pi...'\n",
    "n=range(-5,6)\n",
    "subplot(2,1,1)\n",
    "plot(t,f) # Rectified sine function Plot\n",
    "xlabel(\"t\")\n",
    "ylabel(\"sin(t)\")\n",
    "legend([\"sin(pi*t)\"])\n",
    "subplot(2,1,2)\n",
    "plot(n,mag) #Plot of the magnitude of the Fourier coeff\n",
    "xlabel(\"w\")\n",
    "ylabel(\"Fn\")\n",
    "legend([\"Expo Fourier Coeff\"])\n",
    "show()"
   ]
  },
  {
   "cell_type": "markdown",
   "metadata": {},
   "source": [
    "## Example 8, page no 24"
   ]
  },
  {
   "cell_type": "code",
   "execution_count": 2,
   "metadata": {
    "collapsed": false
   },
   "outputs": [
    {
     "name": "stdout",
     "output_type": "stream",
     "text": [
      "The fourier series coeff Fn are:\n",
      "(-0.185792520964+0j) \n",
      "\n",
      "(-0.121542879381+6.93889390391e-18j) \n",
      "\n",
      "(-0.0695370407613+0j) \n",
      "\n",
      "(-0.0312803786267+0j) \n",
      "\n",
      "(-0.00787673751141+1.73472347598e-18j) \n",
      "\n",
      "(1+0j) \n",
      "\n",
      "(-0.00787673751141+1.73472347598e-18j) \n",
      "\n",
      "(-0.00787673751141-1.73472347598e-18j) \n",
      "\n",
      "(-0.0312803786267+0j) \n",
      "\n",
      "(-0.0695370407613+0j) \n",
      "\n",
      "(-0.121542879381-6.93889390391e-18j) \n",
      "\n",
      "(-1.23107341487-2.77555756156e-17j) \n",
      "\n",
      "(-0.86361423984-2.77555756156e-17j) \n",
      "\n",
      "(-0.520835737317-2.77555756156e-17j) \n",
      "\n",
      "(-0.243085758762+2.77555756156e-17j) \n",
      "\n",
      "(-0.0625607572533+0j) \n",
      "\n",
      "(1+0j) \n",
      "\n",
      "(-0.0625607572533+0j) \n",
      "\n",
      "(-0.0625607572533+0j) \n",
      "\n",
      "(-0.243085758762-2.77555756156e-17j) \n",
      "\n",
      "(-0.520835737317+2.77555756156e-17j) \n",
      "\n",
      "(-0.86361423984+2.77555756156e-17j) \n",
      "\n"
     ]
    },
    {
     "data": {
      "image/png": "[encoded data removed]",
      "text/plain": [
       "<matplotlib.figure.Figure at 0x7f840a393350>"
      ]
     },
     "metadata": {},
     "output_type": "display_data"
    }
   ],
   "source": [
    "from numpy import pi,arange,cos,sin,trapz,zeros\n",
    "%matplotlib inline \n",
    "from matplotlib.pyplot import plot,subplot,title,legend,xlabel,ylabel,show\n",
    "\n",
    "#given\n",
    "\n",
    "T=500e-3\n",
    "w0=2*pi/T\n",
    "d=50e-3\n",
    "A=10\n",
    "t=arange(-d/2,0.01+T-d/2,0.01)\n",
    "t1=arange(-d/2,0.01+d/2,0.01)\n",
    "f1=A\n",
    "t2=arange(d/2,0.01+T-(d/2),0.01)\n",
    "f2=0\n",
    "a=0\n",
    "Fr=[];Fi=[];mag=[]\n",
    "print 'The fourier series coeff Fn are:'\n",
    "for n in range(-5,6):\n",
    "    if n==0:\n",
    "       Fr.append(1);Fi.append(0)\n",
    "    else: \n",
    "      fa1=f1*cos(pi*n*t1/T)\n",
    "      fa2=f2*cos(pi*n*t2/T)\n",
    "      fb1=f1*sin(pi*n*t1/T)\n",
    "      fb2=f2*sin(pi*n*t2/T)\n",
    "    \n",
    "    Fr.append(1/T*(trapz(t1,fa1)+trapz(t2,fa2)))\n",
    "    Fi.append(trapz(t1,fb1)+trapz(t2,fb2))\n",
    "    mag.append(abs(Fr[a]+1J*Fi[a]))\n",
    "\n",
    "    print Fr[a]-1J*Fi[a],'\\n'\n",
    "    x=zeros(len(t))\n",
    "    x=x+((Fr[a])-1J*Fi[a])*(cos(pi*n*t/T)+1J*sin(pi*n*t/T))\n",
    "    a=a+1\n",
    "\n",
    "n=range(-5,6)\n",
    "subplot(3,1,1)\n",
    "plot(t,[f1]*len(t))\n",
    "xlabel(\"t\")\n",
    "ylabel(\"f(t)\")\n",
    "subplot(3,1,2)\n",
    "plot(n,mag) # expo fourier series coeff\n",
    "xlabel(\"n\") \n",
    "ylabel(\"Coeff Magnitude\") \n",
    "subplot(3,1,3)\n",
    "plot(t,x)\n",
    "plot(-t,x) # one sided spectrum with T=500ms\n",
    "xlabel(\"w\")\n",
    "ylabel(\"Fn\")\n",
    "\n",
    "T1=T/2\n",
    "t=arange(-d/2,0.01+T1-d/2,0.01)\n",
    "t1=arange(-d/2,0.01+d/2,0.01)\n",
    "f1=A\n",
    "t2=arange(d/2,0.01+T1-(d/2),0.01)\n",
    "f2=0\n",
    "#The Expo fourier series coeff\n",
    "a=0\n",
    "Fr1=[];Fi1=[];mag=[]\n",
    "for n in range(-5,6):\n",
    "    if n==0:\n",
    "       Fr1.append(1);Fi1.append(0)\n",
    "    else :\n",
    "        fr1=f1*cos(pi*n*t1/T1)\n",
    "        fr2=f2*cos(pi*n*t2/T1)\n",
    "        fi1=f1*sin(pi*n*t1/T1)\n",
    "        fi2=f2*sin(pi*n*t2/T1)\n",
    "    \n",
    "    Fr1.append(1/T1*(trapz(t1,fr1)+trapz(t2,fr2)))\n",
    "    Fi1.append(1/T1*(trapz(t1,fi1)+trapz(t2,fi2)))\n",
    "    mag.append(abs(Fr1[a]+1J*Fi1[a]))\n",
    "    print Fr1[a]-1J*Fi1[a],'\\n'\n",
    "    y = zeros(len(t))\n",
    "    y=y+((Fr1[a])-1J*Fi1[a])*(cos(pi*n*t/T1)+1J*sin(pi*n*t/T1))\n",
    "    a=a+1\n",
    "\n",
    "plot(t,y)\n",
    "plot(-t,y) # double sided spectrum with T=250ms\n",
    "show()"
   ]
  },
  {
   "cell_type": "markdown",
   "metadata": {},
   "source": [
    "## Example 9, page no 12"
   ]
  },
  {
   "cell_type": "code",
   "execution_count": 1,
   "metadata": {
    "collapsed": false
   },
   "outputs": [
    {
     "data": {
      "image/png": "[encoded data removed]",
      "text/plain": [
       "<matplotlib.figure.Figure at 0x7f4da89b5850>"
      ]
     },
     "metadata": {},
     "output_type": "display_data"
    },
    {
     "data": {
      "image/png": "[encoded data removed]",
      "text/plain": [
       "<matplotlib.figure.Figure at 0x7f4da8640e90>"
      ]
     },
     "metadata": {},
     "output_type": "display_data"
    },
    {
     "name": "stdout",
     "output_type": "stream",
     "text": [
      "|F(w)|= 1/sqrt(a**2+w**2) and\n",
      " Theta(w)=-atan(w/a)\n"
     ]
    },
    {
     "data": {
      "image/png": "[encoded data removed]",
      "text/plain": [
       "<matplotlib.figure.Figure at 0x7f4da857c950>"
      ]
     },
     "metadata": {},
     "output_type": "display_data"
    },
    {
     "name": "stdout",
     "output_type": "stream",
     "text": [
      "|F(w)|= 2*a/sqrt(a**2+w**2) and\n",
      " Theta(w)=0\n"
     ]
    }
   ],
   "source": [
    "from __future__ import division\n",
    "from numpy import arange, exp, pi, transpose, mat, fliplr, angle, absolute, shape\n",
    "%matplotlib inline\n",
    "from matplotlib.pyplot import plot, xlabel, ylabel, show, title, subplot\n",
    "\n",
    "#Given:\n",
    "# Analog Signal\n",
    "A =1 # Amplitude\n",
    "Dt = 0.005#\n",
    "t = arange(0,Dt+10,Dt)\n",
    "xt = exp(-A*t)#\n",
    "\n",
    "# Continuous time Fourier Transform\n",
    "Wmax =2*pi*1# # Analog Frequency = 1Hz\n",
    "K = 4#\n",
    "k = arange(0,(K/1000)+K, (K/1000))\n",
    "W = k* Wmax /K#\n",
    "XW = mat(xt)*exp(-1J*transpose(mat(t))*mat(W))*Dt\n",
    "XW_Mag =abs(XW)#\n",
    "W = -1*fliplr(mat(W))+mat(W)#  (2:1001)]# # Omega from -Wmax to Wmax\n",
    "XW_Mag=fliplr(XW_Mag )+XW_Mag  # (2:1001)]#\n",
    "\n",
    "\n",
    "#[XW_Phase ,db] = phasemag (XW)#\n",
    "XW_Phase = angle(XW)\n",
    "db=abs(XW)\n",
    "XW_Phase = -1*fliplr(XW_Phase)+XW_Phase #(2:1001)]#\n",
    "\n",
    "\n",
    "\n",
    "# Plotting Continuous Time Signal\n",
    "plot(t,xt)#\n",
    "xlabel( 't in sec .')#\n",
    "ylabel(' x(t) ')\n",
    "title(' Continuous Time Signal ' )\n",
    "show()\n",
    "\n",
    "\n",
    "# Plotting Magnitude Response of CTS\n",
    "subplot (3 ,1 ,1)#\n",
    "i, j = shape(W)\n",
    "W1=[]\n",
    "XW_Mag1=[]\n",
    "for ii in range(0,i):\n",
    "    for jj in range(0,j):\n",
    "        W1.append(W[ii,jj])\n",
    "        XW_Mag1.append(XW_Mag[ii,jj])\n",
    "        \n",
    "plot(W1, XW_Mag1)\n",
    "xlabel ( ' Frequency in Radians / Seconds---> W' )#\n",
    "ylabel ( ' abs (X(jW) ) ' )\n",
    "title ( 'Magnitude Response (CTFT) ' )\n",
    "\n",
    "\n",
    "\n",
    "\n",
    "# Plotting Phase Reponse of CTS\n",
    "subplot (3 ,1 ,3)#\n",
    "\n",
    "i, j = shape(W)\n",
    "W1=[]\n",
    "XW_Phase1=[]\n",
    "for ii in range(0,i):\n",
    "    for jj in range(0,j):\n",
    "        W1.append(W[ii,jj])\n",
    "        XW_Phase1.append(XW_Phase[ii,jj])\n",
    "\n",
    "\n",
    "plot(W1, [xx*pi/180 for xx in XW_Phase1 ])\n",
    "xlabel(' Frequency in Radians / Seconds---> W')#\n",
    "ylabel('<X(jW) ')\n",
    "title(' Phase Response (CTFT)in Radians' )\n",
    "show()\n",
    "print '|F(w)|= 1/sqrt(a**2+w**2) and\\n Theta(w)=-atan(w/a)'\n",
    "\n",
    "#Part b \n",
    "# Analog Signal\n",
    "\n",
    "A=1## Amplitude\n",
    "Dt=0.005#\n",
    "t1=arange(-4.5,Dt+4.5,Dt)\n",
    "xt1=exp(-A*abs(t1))\n",
    "# Continuous time Fourier Transform\n",
    "Wmax1 =2*pi*1## Analog Frequency = 1Hz\n",
    "K=4#\n",
    "k=arange(0,(K/1000)+K,(K/1000))\n",
    "W1=k*Wmax1/K\n",
    "XW1=mat(xt1)*exp(-1J*transpose(mat(t1))*mat(W1))*Dt\n",
    "XW1=(XW1).real\n",
    "W1=-1*fliplr(mat(W1))+mat(W1) # (2:1001) ]# # Omega from -Wmax to Wmax\n",
    "XW1=fliplr(mat(XW1))+mat(XW1) #(2:1001) ]#\n",
    "subplot(3 ,1 ,1)#\n",
    "plot(t,xt)\n",
    "xlabel('t in sec.')#\n",
    "ylabel('x(t)')\n",
    "title(' Continuous Time Signal')\n",
    "subplot(3 ,1 ,3)\n",
    "i, j = shape(W1)\n",
    "W11=[]\n",
    "XW11=[]\n",
    "for ii in range(0,i):\n",
    "    for jj in range(0,j):\n",
    "        W11.append(W[ii,jj])\n",
    "        XW11.append(XW_Phase[ii,jj])\n",
    "\n",
    "plot(W11,XW11)\n",
    "xlabel('Frequency in Radians / Seconds W')#\n",
    "ylabel('X(jW)')\n",
    "title('Continuous time Fourier Transform ')\n",
    "show()\n",
    "print '|F(w)|= 2*a/sqrt(a**2+w**2) and\\n Theta(w)=0'"
   ]
  },
  {
   "cell_type": "markdown",
   "metadata": {},
   "source": [
    "## Example10, page no 38"
   ]
  },
  {
   "cell_type": "code",
   "execution_count": 1,
   "metadata": {
    "collapsed": false
   },
   "outputs": [
    {
     "name": "stdout",
     "output_type": "stream",
     "text": [
      "a)\n",
      "At wo,n=0: The spectral amplitude is: F0= 0.100000 V\n",
      "\n",
      "b)\n",
      "The Fourier tranform of f(t-delta/2) is given as: \n",
      "\n",
      "f(t)=A*delta/T*∑Sa(n*delta*pi/T)*exp(jwo(t-delta/2))\n"
     ]
    }
   ],
   "source": [
    "from numpy import pi,sin\n",
    "\n",
    "#Given\n",
    "#a\n",
    "A=1\n",
    "delta=1e-3\n",
    "T=10e-3\n",
    "w0=2*pi/T\n",
    "n=0\n",
    "for i in range(0,11):\n",
    "    if n==0:\n",
    "        Sa=1 \n",
    "    else :\n",
    "        Sa=sin(n*pi*delta/T)/(n*pi*delta/T)\n",
    "    \n",
    "\n",
    "F=(A*delta/T)*Sa #spectral Amplitude\n",
    "print 'a)\\nAt wo,n=0: The spectral amplitude is: F0= %f V\\n'%F\n",
    "#b\n",
    "# displaying the fourier Transform of the given function\n",
    "print 'b)\\nThe Fourier tranform of f(t-delta/2) is given as: '\n",
    "print '\\nf(t)=A*delta/T*∑Sa(n*delta*pi/T)*exp(jwo(t-delta/2))'"
   ]
  },
  {
   "cell_type": "markdown",
   "metadata": {},
   "source": [
    "## Example11(1), page no 39"
   ]
  },
  {
   "cell_type": "code",
   "execution_count": 1,
   "metadata": {
    "collapsed": false
   },
   "outputs": [
    {
     "data": {
      "image/png": "[encoded data removed]",
      "text/plain": [
       "<matplotlib.figure.Figure at 0x7feefd09ba10>"
      ]
     },
     "metadata": {},
     "output_type": "display_data"
    },
    {
     "name": "stdout",
     "output_type": "stream",
     "text": [
      "F(w)= A*t*Sa(w*t/2) \n"
     ]
    }
   ],
   "source": [
    "from numpy import arange, ones,pi,exp,mat,transpose, shape\n",
    "%matplotlib inline\n",
    "from matplotlib.pyplot import plot, xlabel, ylabel, show, title, subplot\n",
    "\n",
    "#Given\n",
    "T = 10# #time Tau\n",
    "Tg = arange(-T/2,0.1+T/2,0.1)  # time period for given Gate Function -tau/2 to tau/2\n",
    "G_t0 = 1# #Magnitude of Gate Function (A)\n",
    "G_t = G_t0*ones (len(Tg))## Gate function G(t)\n",
    "f = arange(-pi,pi / len(Tg)+pi,pi / len(Tg))\n",
    "Dw = 0.1#\n",
    "F_jW =mat(G_t)*exp(1J*transpose(mat(Tg))*mat(f))*Dw## fourier Transform of the gate function\n",
    "F_jW = (F_jW).real\n",
    "# Plotting the Fourier Transform of G(t)\n",
    "subplot (2 ,1 ,1)\n",
    "plot(Tg,G_t)\n",
    "title( ' Given Function (Gate Function) G(t) ' )\n",
    "subplot(2 ,1 ,2)\n",
    "i,j =shape(mat(f))\n",
    "m,n=shape(F_jW)\n",
    "f1=[];F_jW1=[]\n",
    "for ii in range(0,i):\n",
    "    for jj in range(0,j):\n",
    "        f1.append(mat(f)[ii,jj])\n",
    "for ii in range(0,m):\n",
    "    for jj in range(0,n):\n",
    "        F_jW1.append(F_jW[ii,jj])\n",
    "        \n",
    "\n",
    "plot(f1,F_jW1)\n",
    "xlabel('Frequency in Radians/Seconds ')#\n",
    "title('Continuous time Fourier Transform X(jW)' )\n",
    "title ( 'Fourier Transform of G(t)=  F(jW) ' )\n",
    "show()\n",
    "print 'F(w)= A*t*Sa(w*t/2) '"
   ]
  },
  {
   "cell_type": "markdown",
   "metadata": {},
   "source": [
    "## Example11(2), page no 43"
   ]
  },
  {
   "cell_type": "code",
   "execution_count": 1,
   "metadata": {
    "collapsed": false
   },
   "outputs": [
    {
     "name": "stdout",
     "output_type": "stream",
     "text": [
      "|F(w)|= 2*pi*A*delta(w), Hence the Fourier Transform of constant is an Impulse Function\n"
     ]
    },
    {
     "data": {
      "image/png": "[encoded data removed]",
      "text/plain": [
       "<matplotlib.figure.Figure at 0x7ff09aeaa410>"
      ]
     },
     "metadata": {},
     "output_type": "display_data"
    }
   ],
   "source": [
    "from __future__ import division\n",
    "from numpy import arange, ones,pi,exp,mat,transpose,pi, fliplr, shape\n",
    "%matplotlib inline\n",
    "from matplotlib.pyplot import plot, xlabel, ylabel, show, title, subplot\n",
    "\n",
    "#Given\n",
    "# CTS Signal\n",
    "A=2## Amplitude\n",
    "Dt=0.01#\n",
    "T1=49.5# #Time in seconds\n",
    "t=arange(-T1/2,Dt+T1 /2, Dt)\n",
    "xt=[]\n",
    "for i in range(0,len(t)):\n",
    "    xt.append(A)\n",
    "\n",
    "# Continuous time Fourier Transform\n",
    "Wmax=2*pi*1## Analog Frequency = 1Hz\n",
    "K =4#\n",
    "k=arange(0,(K/1000)+K,(K/1000))\n",
    "W=k*Wmax/K#\n",
    "#xt=transpose(mat(xt))\n",
    "XW =(mat(xt)*exp(1J*transpose(mat(t))*mat(W)*Dt))-5#\n",
    "\n",
    "\n",
    "XW_Mag =(XW).real\n",
    "W = -1*fliplr(mat(W))+W # (2:1001)]# # Omega from -Wmax to Wmax\n",
    "XW_Mag = fliplr(mat(XW_Mag))+XW_Mag #(2:1001)\n",
    "subplot(2 ,1 ,1)#\n",
    "plot(t,xt)#\n",
    "xlabel('t in msec .')#\n",
    "title(' Contiuous Time Signal x(t) ')\n",
    "subplot(2 ,1 ,2)#\n",
    "i,j =shape(mat(W))\n",
    "m,n=shape(XW_Mag)\n",
    "W1=[];XW_Mag1=[]\n",
    "for ii in range(0,i):\n",
    "    for jj in range(0,j):\n",
    "        W1.append(mat(W)[ii,jj])\n",
    "for ii in range(0,m):\n",
    "    for jj in range(0,n):\n",
    "        XW_Mag1.append(XW_Mag[ii,jj])\n",
    "\n",
    "plot(W1,XW_Mag1)\n",
    "xlabel('Frequency in Radians/Seconds ')#\n",
    "title('Continuous time Fourier Transform X(jW) = an Impulse Function' )\n",
    "print '|F(w)|= 2*pi*A*delta(w), Hence the Fourier Transform of constant is an Impulse Function'"
   ]
  },
  {
   "cell_type": "markdown",
   "metadata": {},
   "source": [
    "## Example13, page no 44"
   ]
  },
  {
   "cell_type": "code",
   "execution_count": 1,
   "metadata": {
    "collapsed": false
   },
   "outputs": [
    {
     "name": "stdout",
     "output_type": "stream",
     "text": [
      "F(w)= 1/(j*w)+ pi*delta(w)\n"
     ]
    },
    {
     "data": {
      "image/png": "[encoded data removed]",
      "text/plain": [
       "<matplotlib.figure.Figure at 0x7f59089dda50>"
      ]
     },
     "metadata": {},
     "output_type": "display_data"
    }
   ],
   "source": [
    "from __future__ import division\n",
    "from numpy import arange, ones,pi,exp,mat,transpose,pi, fliplr, shape\n",
    "%matplotlib inline\n",
    "from matplotlib.pyplot import plot, xlabel, ylabel, show, title, subplot\n",
    "\n",
    "\n",
    "# CTS Signal\n",
    "A =1# # Amplitude\n",
    "Dt = 0.005#\n",
    "T1 =0.5# #Time in seconds\n",
    "t=arange(0,Dt+T1, Dt)\n",
    "xt=[]\n",
    "for i in range(0,len(t)):\n",
    "    xt.append(A)\n",
    "\n",
    "# Continuous time Fourier Transform\n",
    "Wmax= 2*pi*1# # Analog Frequency = 1Hz\n",
    "K =4#\n",
    "k=arange(0,(K/1000)+K,(K/1000))\n",
    "W =k*Wmax/K#\n",
    "#xt=transpose(mat(xt))\n",
    "XW =mat(xt)*exp(-1J*transpose(mat(t))*mat(W))*Dt#\n",
    "XW_Mag =(XW).real\n",
    "W =-1*fliplr(mat(W))+W #(2:1001)]# # Omega from -Wmax to Wmax\n",
    "XW_Mag =fliplr(mat(XW_Mag))+XW_Mag #(2:1001)]\n",
    "# displaying the given function\n",
    "subplot(2 ,1 ,1)#\n",
    "plot(t,xt)#\n",
    "xlabel('t in msec .')#\n",
    "title(' Contiuous Time Signal x(t) ')\n",
    "# displaying the fourier Transform of the given function\n",
    "subplot(2 ,1 ,2)#\n",
    "print 'F(w)= 1/(j*w)+ pi*delta(w)'\n",
    "i,j =shape(mat(W))\n",
    "m,n=shape(XW_Mag)\n",
    "W1=[];XW_Mag1=[]\n",
    "for ii in range(0,i):\n",
    "    for jj in range(0,j):\n",
    "        W1.append(mat(W)[ii,jj])\n",
    "for ii in range(0,m):\n",
    "    for jj in range(0,n):\n",
    "        XW_Mag1.append(XW_Mag[ii,jj])\n",
    "\n",
    "plot(W1,XW_Mag1)\n",
    "\n",
    "xlabel('Frequency in Radians / Seconds ')#\n",
    "title('Continuous time Fourier Transform X(jW)' )\n",
    "show()"
   ]
  },
  {
   "cell_type": "markdown",
   "metadata": {},
   "source": [
    "## Example14, page no 44"
   ]
  },
  {
   "cell_type": "code",
   "execution_count": 1,
   "metadata": {
    "collapsed": false
   },
   "outputs": [
    {
     "data": {
      "image/png": "[encoded data removed]",
      "text/plain": [
       "<matplotlib.figure.Figure at 0x7fc99dc4ab50>"
      ]
     },
     "metadata": {},
     "output_type": "display_data"
    },
    {
     "data": {
      "image/png": "[encoded data removed]",
      "text/plain": [
       "<matplotlib.figure.Figure at 0x7fc99aaa3710>"
      ]
     },
     "metadata": {},
     "output_type": "display_data"
    }
   ],
   "source": [
    "from numpy import pi,sqrt\n",
    "%matplotlib inline\n",
    "from matplotlib.pyplot import plot, xlabel, ylabel, show, title, subplot\n",
    "\n",
    "# CTS Signal\n",
    "# Continuous Time Fourier Transforms of\n",
    "# Sinusoidal waveforms(a)sin(Wot)(b)cos(Wot)\n",
    "\n",
    "# CTFT\n",
    "T1 = 2#\n",
    "T = 4* T1#\n",
    "Wo = 2* pi /T#\n",
    "W = [-Wo ,0, Wo ]#\n",
    "ak = (2* pi *Wo*T1/ pi )/ 1J#\n",
    "XW = [-ak ,0, ak ]#\n",
    "ak1 = (2* pi*Wo*T1/pi)#\n",
    "XW1 =[ ak1 ,0, ak1 ]#\n",
    "#displaying the given function\n",
    "plot(W,[aa.imag for aa in XW])\n",
    "xlabel('W' )#\n",
    "title( 'CTFT of sin(Wot ) ')\n",
    "show()\n",
    "#displaying the fourier Transform of the given function\n",
    "plot(W,XW1)\n",
    "xlabel('W' )#\n",
    "title( 'CTFT of cos (Wot)')\n",
    "show()"
   ]
  },
  {
   "cell_type": "markdown",
   "metadata": {},
   "source": [
    "## Example16, page no 47"
   ]
  },
  {
   "cell_type": "code",
   "execution_count": 9,
   "metadata": {
    "collapsed": false
   },
   "outputs": [
    {
     "name": "stdout",
     "output_type": "stream",
     "text": [
      "Spectral Amplitude of the given function is given by \n",
      "Fn= A*delta/2 *[Sa(n*pi*delta/T)]\n",
      "Therefore the fourier transform will be :\n",
      "F[f(t)]=0.628319 ∑Sa[n*pi/10]8delta(w-4*n*pi)\n"
     ]
    }
   ],
   "source": [
    "from numpy import pi\n",
    "A=1\n",
    "delta=50e-3\n",
    "T=500e-3\n",
    "print 'Spectral Amplitude of the given function is given by '# Displaying the expression for Spectral Amplitude\n",
    "print 'Fn= A*delta/2 *[Sa(n*pi*delta/T)]'\n",
    "print 'Therefore the fourier transform will be :'\n",
    "print 'F[f(t)]=%f ∑Sa[n*pi/10]8delta(w-4*n*pi)'%(2*pi*A*delta/T)# Displaying the Fourier transform"
   ]
  },
  {
   "cell_type": "markdown",
   "metadata": {},
   "source": [
    "## Example17,page no12"
   ]
  },
  {
   "cell_type": "code",
   "execution_count": 10,
   "metadata": {
    "collapsed": false
   },
   "outputs": [
    {
     "name": "stdout",
     "output_type": "stream",
     "text": [
      "F[∂t(t)]= 2*pi/T*∑∂(w-wo)\n"
     ]
    },
    {
     "data": {
      "image/png": "[encoded data removed]",
      "text/plain": [
       "<matplotlib.figure.Figure at 0x7f6080bf8910>"
      ]
     },
     "metadata": {},
     "output_type": "display_data"
    }
   ],
   "source": [
    "from numpy import ones,pi\n",
    "%matplotlib inline\n",
    "from matplotlib.pyplot import plot, xlabel, ylabel, show, title, subplot\n",
    "\n",
    "#Given:\n",
    "# CTFT\n",
    "T = range(-4,5)##\n",
    "T1 = 1# # Sampling Interval\n",
    "xt = ones (len(T))#\n",
    "ak = 1/ T1#\n",
    "XW = 2* pi *ak* ones (len(T))#\n",
    "Wo = 2*pi/T1#\n",
    "W = [Wo*Tt for Tt in T]#\n",
    "# Displaying the given function\n",
    "subplot(2 ,1 ,1)\n",
    "plot(T,xt)\n",
    "xlabel ( 't ' )#\n",
    "title('Periodic Impulse Train ')\n",
    "# displaying the fourier Transform of the given function\n",
    "subplot(2 ,1 ,2)\n",
    "plot(W,XW)\n",
    "xlabel('t')#\n",
    "title ( 'CTFT of Periodic Impulse Train')\n",
    "\n",
    "print 'F[∂t(t)]= 2*pi/T*∑∂(w-wo)'"
   ]
  },
  {
   "cell_type": "markdown",
   "metadata": {},
   "source": [
    "## Example18,page no12"
   ]
  },
  {
   "cell_type": "code",
   "execution_count": 2,
   "metadata": {
    "collapsed": false
   },
   "outputs": [
    {
     "name": "stdout",
     "output_type": "stream",
     "text": [
      "Hence Fourier transform of given Gate function is:\n",
      " A*delta*Sa[w*delta/2]/ exp(-j*w*delta/2)\n"
     ]
    },
    {
     "data": {
      "image/png": "[encoded data removed]",
      "text/plain": [
       "<matplotlib.figure.Figure at 0x7fc99ae62450>"
      ]
     },
     "metadata": {},
     "output_type": "display_data"
    }
   ],
   "source": [
    "from __future__ import division\n",
    "from numpy import arange, pi,exp,mat, transpose,fliplr,shape\n",
    "%matplotlib inline\n",
    "from matplotlib.pyplot import plot, xlabel, ylabel, show, title, subplot\n",
    "\n",
    "#Given:\n",
    "# CTS Signal\n",
    "A =1# # Amplitude\n",
    "Dt = 0.005#\n",
    "T1 = 2# #Time in seconds\n",
    "t = arange(0,Dt+T1 /2, Dt)\n",
    "xt=[]\n",
    "for i in range(0,len(t)):\n",
    "    xt.append(A)\n",
    "\n",
    "# Continuous time Fourier Transform\n",
    "Wmax= 2*pi*1# # Analog Frequency = 1Hz\n",
    "K =4#\n",
    "k=arange(0,(K/1000)+K,(K/1000))\n",
    "W =k*Wmax/K#\n",
    "XW =mat(xt)*exp(-1J*transpose(mat(t))*mat(W))*Dt#\n",
    "XW_Mag =(XW).real\n",
    "W =-fliplr(mat(W))+W #(2:1001)]# # Omega from  Wmax to Wmax\n",
    "XW_Mag =fliplr(mat(XW_Mag))+XW_Mag #(2:1001)]#\n",
    "# displaying the given function\n",
    "subplot(2 ,1 ,1)#\n",
    "plot(t,xt)#\n",
    "xlabel('t in msec .')#\n",
    "title(' Contiuous Time Signal x(t)  {Gate Function} ')\n",
    "# displaying the fourier Transform of the given function\n",
    "subplot(2 ,1 ,2)#\n",
    "i,j =shape(mat(W))\n",
    "m,n=shape(XW_Mag)\n",
    "W1=[];XW_Mag1=[]\n",
    "for ii in range(0,i):\n",
    "    for jj in range(0,j):\n",
    "        W1.append(mat(W)[ii,jj])\n",
    "for ii in range(0,m):\n",
    "    for jj in range(0,n):\n",
    "        XW_Mag1.append(XW_Mag[ii,jj])\n",
    "\n",
    "plot(W1,XW_Mag1)\n",
    "\n",
    "xlabel('Frequency in Radians / Seconds ')#\n",
    "title('Continuous time Fourier Transform X(jW)' )\n",
    "print 'Hence Fourier transform of given Gate function is:\\n A*delta*Sa[w*delta/2]/ exp(-j*w*delta/2)'"
   ]
  }
 ],
 "metadata": {
  "kernelspec": {
   "display_name": "Python 2",
   "language": "python",
   "name": "python2"
  },
  "language_info": {
   "codemirror_mode": {
    "name": "ipython",
    "version": 2
   },
   "file_extension": ".py",
   "mimetype": "text/x-python",
   "name": "python",
   "nbconvert_exporter": "python",
   "pygments_lexer": "ipython2",
   "version": "2.7.9"
  }
 },
 "nbformat": 4,
 "nbformat_minor": 0
}
