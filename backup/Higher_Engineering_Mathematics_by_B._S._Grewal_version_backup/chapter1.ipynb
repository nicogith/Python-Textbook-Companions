{
 "cells": [
  {
   "cell_type": "markdown",
   "metadata": {},
   "source": [
    "# Chapter 1: Solution of Equation & Curve Fitting"
   ]
  },
  {
   "cell_type": "markdown",
   "metadata": {},
   "source": [
    "## Example 1.1, page no. 21"
   ]
  },
  {
   "cell_type": "code",
   "execution_count": 3,
   "metadata": {
    "collapsed": false
   },
   "outputs": [
    {
     "name": "stdout",
     "output_type": "stream",
     "text": [
      "The roots of above equation are:  [-3.   2.   0.5]\n"
     ]
    }
   ],
   "source": [
    "import numpy\n",
    "\n",
    "x = numpy.poly([0])\n",
    "p = 2*(x**3)+x**2-13*x+6\n",
    "print \"The roots of above equation are: \", numpy.roots([2,1,-13,6])"
   ]
  },
  {
   "cell_type": "markdown",
   "metadata": {},
   "source": [
    "## Example 1.2, page no. 21"
   ]
  },
  {
   "cell_type": "code",
   "execution_count": 8,
   "metadata": {
    "collapsed": false
   },
   "outputs": [
    {
     "name": "stdout",
     "output_type": "stream",
     "text": [
      "The roots of the equation are:  [ 2.00000000+2.64575131j  2.00000000-2.64575131j -2.66666667+0.j        ]\n"
     ]
    }
   ],
   "source": [
    "import numpy\n",
    "\n",
    "x = numpy.poly([0])\n",
    "print \"The roots of the equation are: \", numpy.roots ([3, -4, 1, 88])"
   ]
  },
  {
   "cell_type": "markdown",
   "metadata": {
    "collapsed": true
   },
   "source": [
    "## Example 1.3, page no. 22"
   ]
  },
  {
   "cell_type": "code",
   "execution_count": 2,
   "metadata": {
    "collapsed": false
   },
   "outputs": [
    {
     "name": "stdout",
     "output_type": "stream",
     "text": [
      "The roots of above equation are: [ 6.  3. -2.]\n"
     ]
    }
   ],
   "source": [
    "import numpy\n",
    "\n",
    "x = numpy.poly([0])\n",
    "p = x^3-7*(x^2)+36\n",
    "print \"The roots of above equation are:\", numpy.roots([1, -7, 0, 36])"
   ]
  },
  {
   "cell_type": "markdown",
   "metadata": {},
   "source": [
    "## Example 1.4, page no. 23"
   ]
  },
  {
   "cell_type": "code",
   "execution_count": 1,
   "metadata": {
    "collapsed": false
   },
   "outputs": [
    {
     "name": "stdout",
     "output_type": "stream",
     "text": [
      "The roots of above equation are: [ 5. -4.  2. -1.]\n"
     ]
    }
   ],
   "source": [
    "import numpy\n",
    "\n",
    "x = numpy.poly ([0]) \n",
    "p = x**4-2*(x**3)-21*(x**2)+22*x+40\n",
    "print \"The roots of above equation are:\", numpy.roots([1,-2,-21,22,40])"
   ]
  },
  {
   "cell_type": "markdown",
   "metadata": {},
   "source": [
    "## Example 1.5, page no. 23"
   ]
  },
  {
   "cell_type": "code",
   "execution_count": 2,
   "metadata": {
    "collapsed": false
   },
   "outputs": [
    {
     "name": "stdout",
     "output_type": "stream",
     "text": [
      "The roots of above equation are: [ 4.   2.   1.   0.5]\n"
     ]
    }
   ],
   "source": [
    "import numpy\n",
    "\n",
    "x = numpy.poly ([0]) \n",
    "p = 2*(x**4)-15*(x**3)+35*(x**2)-30*x+8\n",
    "print \"The roots of above equation are:\", numpy.roots([2,-15,35,-30,8])"
   ]
  },
  {
   "cell_type": "markdown",
   "metadata": {},
   "source": [
    "## Example 1.6, page no. 24"
   ]
  },
  {
   "cell_type": "code",
   "execution_count": 25,
   "metadata": {
    "collapsed": false
   },
   "outputs": [
    {
     "name": "stdout",
     "output_type": "stream",
     "text": [
      "The roots of above equation are: [ 2.87938524  0.65270364 -0.53208889]\n",
      "let x1 = 0.6527036 x2 = -0.5320889 x3 = 2.8793852\n",
      "So the equation whose roots are cube of the roots of above equation is (x−x1ˆ3)∗(x−x2ˆ3)∗(x−x3ˆ3)\n",
      "(x - 23.8725770741465)*(x - 0.278066086195109)*(x + 0.150644263115026)\n"
     ]
    }
   ],
   "source": [
    "import numpy\n",
    "import sympy\n",
    "\n",
    "x = numpy.poly ([0]) \n",
    "p = x**3-3*(x**2)+1\n",
    "ans = numpy.roots([1,-3, 0, 1])\n",
    "print \"The roots of above equation are:\", ans\n",
    "x = sympy.Symbol('x')\n",
    "print \"let x1 = 0.6527036 x2 = -0.5320889 x3 = 2.8793852\"\n",
    "print \"So the equation whose roots are cube of the roots of above equation is (x−x1ˆ3)∗(x−x2ˆ3)∗(x−x3ˆ3)\"\n",
    "p1 = (x-x1**3)*(x-x2**3)*(x-x3**3)\n",
    "print p1"
   ]
  },
  {
   "cell_type": "markdown",
   "metadata": {},
   "source": [
    "## Example 1.7, page no. 25"
   ]
  },
  {
   "cell_type": "code",
   "execution_count": 37,
   "metadata": {
    "collapsed": false
   },
   "outputs": [
    {
     "name": "stdout",
     "output_type": "stream",
     "text": [
      "The roots of above equation are:\n",
      "[ 4.48928857  2.28916855 -0.77845712]\n",
      "let x1 = -0.7784571 x2 = 2.2891685 x3 = 4.4892886\n",
      "Now, since we want equation whose sum of roots is 0. sum of roots of above equation is 6, so we will decrease\n",
      "Value of each root by 2 i.e. x4 = x1-2\n",
      "x4 =  -2.7784571\n",
      "x5 =  0.2891685\n",
      "x6 =  2.4892886\n",
      "Hence, the required equation is ( x−x4 ) ∗ ( x−x5 ) ∗ ( x−x6 ) = 0 −−>\n",
      "(x - 2.4892886)*(x - 0.2891685)*(x + 2.7784571)\n"
     ]
    }
   ],
   "source": [
    "import numpy\n",
    "import sympy\n",
    "\n",
    "x = numpy.poly ([0]) \n",
    "x1 = numpy.poly ([0]) \n",
    "x2 = numpy.poly ([0]) \n",
    "x3 = numpy.poly ([0]) \n",
    "x4 = numpy.poly ([0]) \n",
    "x5 = numpy.poly ([0] ) \n",
    "x6 = numpy.poly ([0]) \n",
    "p = x**3-6*(x**2)+5*x+8\n",
    "print \"The roots of above equation are:\"\n",
    "print numpy.roots ([1, -6, 5, 8])\n",
    "print \"let x1 = -0.7784571 x2 = 2.2891685 x3 = 4.4892886\"\n",
    "x1 = -0.7784571\n",
    "x2 = 2.2891685\n",
    "x3 = 4.4892886\n",
    "print \"Now, since we want equation whose sum of roots is 0. sum of roots of above equation is 6, so we will decrease\"\n",
    "print \"Value of each root by 2 i.e. x4 = x1-2\"\n",
    "x = sympy.Symbol('x')\n",
    "x4 = x1-2\n",
    "print \"x4 = \", x4\n",
    "x5=x2-2\n",
    "print \"x5 = \", x5\n",
    "x6=x3-2\n",
    "print \"x6 = \", x6\n",
    "print \"Hence, the required equation is ( x−x4 ) ∗ ( x−x5 ) ∗ ( x−x6 ) = 0 −−>\"\n",
    "p1 =( x-x4 )*(x-x5)*(x-x6)\n",
    "print p1"
   ]
  },
  {
   "cell_type": "markdown",
   "metadata": {},
   "source": [
    "## Example 1.8, page no. 28"
   ]
  },
  {
   "cell_type": "code",
   "execution_count": 5,
   "metadata": {
    "collapsed": false
   },
   "outputs": [
    {
     "name": "stdout",
     "output_type": "stream",
     "text": [
      "The roots of above equation are: [ 3.          2.          1.          0.5         0.33333333]\n"
     ]
    }
   ],
   "source": [
    "import numpy\n",
    "\n",
    "x = numpy.poly ([0]) \n",
    "p = 6*(x**5)-41*(x**4)+97*(x**3)-97*(x**2)+41*x-6\n",
    "print \"The roots of above equation are:\",numpy.roots([6,-41,97,-97,41,-6])"
   ]
  },
  {
   "cell_type": "markdown",
   "metadata": {},
   "source": [
    "## Example 1.9, page no. 28"
   ]
  },
  {
   "cell_type": "code",
   "execution_count": 38,
   "metadata": {
    "collapsed": false
   },
   "outputs": [
    {
     "name": "stdout",
     "output_type": "stream",
     "text": [
      "The roots of above equation are: [ 2.00000000+0.j        -1.00000000+0.j         0.83333333+0.5527708j\n",
      "  0.83333333-0.5527708j  1.00000000+0.j         0.50000000+0.j       ]\n"
     ]
    }
   ],
   "source": [
    "import numpy\n",
    "\n",
    "x = numpy.poly([0]) \n",
    "p = 6*(x**6)-25*(x**5)+31*(x**4)-31*(x**2)+25*x-6\n",
    "print \"The roots of above equation are:\", numpy.roots([6,-25,31,0,-31,25,-6])"
   ]
  },
  {
   "cell_type": "markdown",
   "metadata": {},
   "source": [
    "## Example 1.10, page no. 29"
   ]
  },
  {
   "cell_type": "code",
   "execution_count": 8,
   "metadata": {
    "collapsed": false
   },
   "outputs": [
    {
     "name": "stdout",
     "output_type": "stream",
     "text": [
      "The roots of above equation are: [ 2.+3.46410162j  2.-3.46410162j -1.+0.j        ]\n"
     ]
    }
   ],
   "source": [
    "import numpy\n",
    "\n",
    "x = numpy.poly ([0]) \n",
    "p = x**3-3*(x**2)+12*x+16\n",
    "print \"The roots of above equation are:\", numpy.roots([1,-3,12,16])"
   ]
  },
  {
   "cell_type": "markdown",
   "metadata": {},
   "source": [
    "## Example 1.11, page no. 30"
   ]
  },
  {
   "cell_type": "code",
   "execution_count": 9,
   "metadata": {
    "collapsed": false
   },
   "outputs": [
    {
     "name": "stdout",
     "output_type": "stream",
     "text": [
      "The roots of above equation are: [ 0.28571429+0.24743583j  0.28571429-0.24743583j -0.25000000+0.j        ]\n"
     ]
    }
   ],
   "source": [
    "import numpy\n",
    "x = numpy.poly ([0]) \n",
    "p = 28*(x**3)-9*(x**2)+1\n",
    "print \"The roots of above equation are:\",numpy.roots([28,-9,0,1])"
   ]
  },
  {
   "cell_type": "markdown",
   "metadata": {},
   "source": [
    "## Example 1.12, page no. 31"
   ]
  },
  {
   "cell_type": "code",
   "execution_count": 11,
   "metadata": {
    "collapsed": false
   },
   "outputs": [
    {
     "name": "stdout",
     "output_type": "stream",
     "text": [
      "The roots of above equation are: [-5. +0.00000000e+00j  2. +2.90013456e-08j  2. -2.90013456e-08j]\n"
     ]
    }
   ],
   "source": [
    "import numpy\n",
    "\n",
    "x = numpy.poly ([0]) \n",
    "p = x**3+x**2-16*x+20\n",
    "print \"The roots of above equation are:\",numpy.roots ([1,1,-16,20])"
   ]
  },
  {
   "cell_type": "markdown",
   "metadata": {},
   "source": [
    "## Example 1.13, page no. 31"
   ]
  },
  {
   "cell_type": "code",
   "execution_count": 12,
   "metadata": {
    "collapsed": false
   },
   "outputs": [
    {
     "name": "stdout",
     "output_type": "stream",
     "text": [
      "The roots of above equation are: [ 1.08727971+1.17131211j  1.08727971-1.17131211j -1.17455941+0.j        ]\n"
     ]
    }
   ],
   "source": [
    "import numpy\n",
    "\n",
    "x = numpy.poly ([0]) \n",
    "p = x**3-3*(x**2)+3\n",
    "print \"The roots of above equation are:\",numpy.roots ([1,-1,0,3])"
   ]
  },
  {
   "cell_type": "markdown",
   "metadata": {},
   "source": [
    "## Example 1.14, page no. 33"
   ]
  },
  {
   "cell_type": "code",
   "execution_count": 13,
   "metadata": {
    "collapsed": false
   },
   "outputs": [
    {
     "name": "stdout",
     "output_type": "stream",
     "text": [
      "The roots of above equation are: [ 6.  4.  3. -1.]\n"
     ]
    }
   ],
   "source": [
    "import numpy\n",
    "\n",
    "x = numpy.poly([0]) \n",
    "p = x**4-12*(x**3)+41*(x**2)-18*x-72\n",
    "print \"The roots of above equation are:\",numpy.roots ([1,-12,41,-18,-72])"
   ]
  },
  {
   "cell_type": "markdown",
   "metadata": {},
   "source": [
    "## Example 1.15, page no. 34"
   ]
  },
  {
   "cell_type": "code",
   "execution_count": 14,
   "metadata": {
    "collapsed": false
   },
   "outputs": [
    {
     "name": "stdout",
     "output_type": "stream",
     "text": [
      "The roots of above equation are: [-2.30277564  2.61803399  1.30277564  0.38196601]\n"
     ]
    }
   ],
   "source": [
    "import numpy\n",
    "\n",
    "x = numpy.poly ([0]) \n",
    "p = x**4-2*(x**3)-5*(x**2)+10*x-3\n",
    "print \"The roots of above equation are:\", numpy.roots ([1,-2,-5,10,-3])"
   ]
  },
  {
   "cell_type": "markdown",
   "metadata": {},
   "source": [
    "## Example 1.16, page no. 35"
   ]
  },
  {
   "cell_type": "code",
   "execution_count": 15,
   "metadata": {
    "collapsed": false
   },
   "outputs": [
    {
     "name": "stdout",
     "output_type": "stream",
     "text": [
      "The roots of above equation are: [ 3.73205081+0.j         -2.00000000+1.73205081j -2.00000000-1.73205081j\n",
      "  0.26794919+0.j        ]\n"
     ]
    }
   ],
   "source": [
    "import numpy\n",
    "\n",
    "x = numpy.poly ([0]) \n",
    "p = x**4-8*(x**2)-24*x+7\n",
    "print \"The roots of above equation are:\",numpy.roots ([1,0,-8,-24,7])"
   ]
  },
  {
   "cell_type": "markdown",
   "metadata": {},
   "source": [
    "## Example 1.17, page no. 35"
   ]
  },
  {
   "cell_type": "code",
   "execution_count": 16,
   "metadata": {
    "collapsed": false
   },
   "outputs": [
    {
     "name": "stdout",
     "output_type": "stream",
     "text": [
      "The roots of above equation are: [ 6.05932014 -1.65491082  1.59559067]\n"
     ]
    }
   ],
   "source": [
    "import numpy\n",
    "\n",
    "x = numpy.poly ([0]) \n",
    "p = x**4-6*(x**3)-3*(x**2)+22*x-6\n",
    "print \"The roots of above equation are:\",numpy.roots ([1,-6,-3,22.-6])"
   ]
  },
  {
   "cell_type": "markdown",
   "metadata": {},
   "source": [
    "## Example 1.18, page no. 37"
   ]
  },
  {
   "cell_type": "code",
   "execution_count": 18,
   "metadata": {
    "collapsed": false
   },
   "outputs": [
    {
     "name": "stdout",
     "output_type": "stream",
     "text": [
      "From the graph, it is clear that the point of intersection is nearly x = 1.43\n"
     ]
    },
    {
     "data": {
      "image/png": "[encoded data removed]",
      "text/plain": [
       "<matplotlib.figure.Figure at 0x7fa769850290>"
      ]
     },
     "metadata": {},
     "output_type": "display_data"
    }
   ],
   "source": [
    "%matplotlib inline\n",
    "import matplotlib.pyplot as plt\n",
    "import numpy\n",
    "import math\n",
    "\n",
    "x = numpy.linspace(1 ,3 ,30)\n",
    "y1 = 3-x\n",
    "y2 = math.e**(x-1)\n",
    "plt.xlabel('X axis')\n",
    "plt.ylabel('Y axis')\n",
    "plt.title('My Graph')\n",
    "plt.plot(x, y1, \"o-\" )\n",
    "plt.plot(x, y2, \"+-\" )\n",
    "plt.legend([\"3-x\" ,\"e**(x-1)\"])\n",
    "print \"From the graph, it is clear that the point of intersection is nearly x = 1.43\""
   ]
  },
  {
   "cell_type": "markdown",
   "metadata": {},
   "source": [
    "## Example 1.19, page no. 40"
   ]
  },
  {
   "cell_type": "code",
   "execution_count": 23,
   "metadata": {
    "collapsed": false
   },
   "outputs": [
    {
     "name": "stdout",
     "output_type": "stream",
     "text": [
      "From the graph, it is clear that the point of intersection is nearly x=2.3\n"
     ]
    },
    {
     "data": {
      "image/png": "[encoded data removed]",
      "text/plain": [
       "<matplotlib.figure.Figure at 0x7fa7698ce210>"
      ]
     },
     "metadata": {},
     "output_type": "display_data"
    }
   ],
   "source": [
    "%matplotlib inline\n",
    "import matplotlib.pyplot as plt\n",
    "import numpy\n",
    "import math\n",
    "\n",
    "x = numpy.linspace(1 ,3 ,30)\n",
    "y1 = x\n",
    "y2 = numpy.sin(x)+math.pi/2\n",
    "plt.xlabel('X axis')\n",
    "plt.ylabel('Y axis')\n",
    "plt.title('My Graph')\n",
    "plt.plot(x, y1, \"o-\")\n",
    "plt.plot(x, y2, \"+-\")\n",
    "plt.legend([\"x\", \"sin(x)+pi/2\"])\n",
    "print \"From the graph, it is clear that the point of intersection is nearly x=2.3\""
   ]
  },
  {
   "cell_type": "markdown",
   "metadata": {},
   "source": [
    "## Example 1.20, page no. 41"
   ]
  },
  {
   "cell_type": "code",
   "execution_count": 29,
   "metadata": {
    "collapsed": false
   },
   "outputs": [
    {
     "name": "stdout",
     "output_type": "stream",
     "text": [
      "From the graph, it is clear that the point of intersection is nearly x=2.3 \n"
     ]
    },
    {
     "data": {
      "image/png": "[encoded data removed]",
      "text/plain": [
       "<matplotlib.figure.Figure at 0x7fa7696dc7d0>"
      ]
     },
     "metadata": {},
     "output_type": "display_data"
    }
   ],
   "source": [
    "%matplotlib inline\n",
    "import matplotlib.pyplot as plt\n",
    "import numpy\n",
    "import math\n",
    "\n",
    "x = numpy.linspace(0, 3, 30)\n",
    "y1 = -1/numpy.cos(x)\n",
    "y2 = numpy.cosh(x)\n",
    "plt.xlabel('X axis')\n",
    "plt.ylabel('Y axis')\n",
    "plt.title('My Graph')\n",
    "plt.plot(x, y1, \"o-\" )\n",
    "plt.plot(x, y2, \"+-\" )\n",
    "plt.legend ([\"-sec(x)\", \"cosh(x)\"])\n",
    "print \"From the graph, it is clear that the point of intersection is nearly x=2.3 \""
   ]
  }
 ],
 "metadata": {
  "kernelspec": {
   "display_name": "Python 2",
   "language": "python",
   "name": "python2"
  },
  "language_info": {
   "codemirror_mode": {
    "name": "ipython",
    "version": 2
   },
   "file_extension": ".py",
   "mimetype": "text/x-python",
   "name": "python",
   "nbconvert_exporter": "python",
   "pygments_lexer": "ipython2",
   "version": "2.7.10"
  }
 },
 "nbformat": 4,
 "nbformat_minor": 0
}
