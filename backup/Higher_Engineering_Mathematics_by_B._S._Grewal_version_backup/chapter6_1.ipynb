{
 "cells": [
  {
   "cell_type": "markdown",
   "metadata": {},
   "source": [
    "# Chapter 6 : Integration And Its Applications"
   ]
  },
  {
   "cell_type": "markdown",
   "metadata": {},
   "source": [
    "## Example 6.1.1, page no. 199"
   ]
  },
  {
   "cell_type": "code",
   "execution_count": 37,
   "metadata": {
    "collapsed": false
   },
   "outputs": [
    {
     "name": "stdout",
     "output_type": "stream",
     "text": [
      "Indefinite integral\n",
      "3*x/8 - sin(x)**3*cos(x)/4 - 3*sin(x)*cos(x)/8\n"
     ]
    }
   ],
   "source": [
    "import sympy,numpy\n",
    "\n",
    "print \"Indefinite integral\"\n",
    "x = sympy.Symbol('x')\n",
    "f = sympy.integrate((sympy.sin(x))**4,(x))\n",
    "print f"
   ]
  },
  {
   "cell_type": "markdown",
   "metadata": {},
   "source": [
    "## Example 6.1.2, page no. 200"
   ]
  },
  {
   "cell_type": "code",
   "execution_count": 39,
   "metadata": {
    "collapsed": false
   },
   "outputs": [
    {
     "name": "stdout",
     "output_type": "stream",
     "text": [
      "Indefinite integral\n",
      "-sin(x)**7/7 + 3*sin(x)**5/5 - sin(x)**3 + sin(x)\n"
     ]
    }
   ],
   "source": [
    "import sympy,numpy\n",
    "\n",
    "print \"Indefinite integral\"\n",
    "x = sympy.Symbol('x')\n",
    "f = sympy.integrate((sympy.cos(x))**7,(x))\n",
    "print f"
   ]
  },
  {
   "cell_type": "markdown",
   "metadata": {},
   "source": [
    "## Example 6.2.1, page no. 202"
   ]
  },
  {
   "cell_type": "code",
   "execution_count": 41,
   "metadata": {
    "collapsed": false
   },
   "outputs": [
    {
     "name": "stdout",
     "output_type": "stream",
     "text": [
      "Definite integral\n",
      "0.490873852123\n"
     ]
    }
   ],
   "source": [
    "import sympy,numpy,math\n",
    "\n",
    "print \"Definite integral\"\n",
    "x = sympy.Symbol('x')\n",
    "f = sympy.integrate((sympy.cos(x))**6,(x,0,math.pi/2))\n",
    "print float(f)"
   ]
  },
  {
   "cell_type": "markdown",
   "metadata": {},
   "source": [
    "## Example 6.2.2, page no. 202"
   ]
  },
  {
   "cell_type": "code",
   "execution_count": 43,
   "metadata": {
    "collapsed": false
   },
   "outputs": [
    {
     "name": "stdout",
     "output_type": "stream",
     "text": [
      "Definite integral\n",
      "zoo*a**6 + a**6*log(-2*a**2)/4 - 11*a**6/24\n"
     ]
    }
   ],
   "source": [
    "import sympy,numpy,math\n",
    "\n",
    "print \"Definite integral\"\n",
    "x = sympy.Symbol('x')\n",
    "a = sympy.Symbol('a')\n",
    "g = x**7/(a**2-x**2)**1/2\n",
    "f = sympy.integrate(g,(x,0,a))\n",
    "print f"
   ]
  },
  {
   "cell_type": "markdown",
   "metadata": {},
   "source": [
    "## Example 6.2.3, page no. 203"
   ]
  },
  {
   "cell_type": "code",
   "execution_count": 45,
   "metadata": {
    "collapsed": false
   },
   "outputs": [
    {
     "name": "stdout",
     "output_type": "stream",
     "text": [
      "Definite integral\n",
      "4*a**4\n"
     ]
    }
   ],
   "source": [
    "import sympy,numpy,math\n",
    "\n",
    "print \"Definite integral\"\n",
    "x = sympy.Symbol('x')\n",
    "a = sympy.Symbol('a')\n",
    "g = x**3*(2*a*x-x**2)**(1/2) \n",
    "f = sympy.integrate(g,(x,0,2*a))\n",
    "print f"
   ]
  },
  {
   "cell_type": "markdown",
   "metadata": {},
   "source": [
    "## Example 6.2.4, page no. 204"
   ]
  },
  {
   "cell_type": "code",
   "execution_count": 23,
   "metadata": {
    "collapsed": false
   },
   "outputs": [
    {
     "name": "stdout",
     "output_type": "stream",
     "text": [
      "Definite integral\n",
      "0.5*(a**2 + 0.5625)**(-n) + 0.5*(a**2 + 0.0625)**(-n)\n"
     ]
    }
   ],
   "source": [
    "from sympy.abc import x,a,n\n",
    "from sympy.integrals import Integral\n",
    "print \"Definite integral\"\n",
    "g = 1./(a**2+x**2)**n \n",
    "f = Integral(g,(x,0,1))\n",
    "print f.as_sum(2).n()"
   ]
  },
  {
   "cell_type": "markdown",
   "metadata": {},
   "source": [
    "## Example 6.4.1, page no. 207"
   ]
  },
  {
   "cell_type": "code",
   "execution_count": 4,
   "metadata": {
    "collapsed": false
   },
   "outputs": [
    {
     "name": "stdout",
     "output_type": "stream",
     "text": [
      "Definite integral\n",
      "0.0532891345937363\n"
     ]
    }
   ],
   "source": [
    "from sympy.abc import x,a,n\n",
    "from sympy.integrals import Integral\n",
    "import sympy, math\n",
    "print \"Definite integral\"\n",
    "g = (sympy.sin(6*x))**3*(sympy.cos(3*x))**7\n",
    "f = Integral(g,(x,0,math.pi/6))\n",
    "print f.as_sum(2).n()"
   ]
  },
  {
   "cell_type": "markdown",
   "metadata": {},
   "source": [
    "## Example 6.4.2, page no. 208"
   ]
  },
  {
   "cell_type": "code",
   "execution_count": 52,
   "metadata": {
    "collapsed": false
   },
   "outputs": [
    {
     "name": "stdout",
     "output_type": "stream",
     "text": [
      "Definite integral\n",
      "0.0571428571429\n"
     ]
    }
   ],
   "source": [
    "import sympy,numpy,math\n",
    "\n",
    "print \"Definite integral\"\n",
    "x = sympy.Symbol('x')\n",
    "g = (sympy.sin(6*x))**3*(sympy.cos(3*x))**7\n",
    "g = x**4*(1-x**2)**(3/2)\n",
    "f = sympy.integrate(g,(x,0,1)) \n",
    "print float(f)"
   ]
  },
  {
   "cell_type": "markdown",
   "metadata": {},
   "source": [
    "## Example 6.5, page no. 208"
   ]
  },
  {
   "cell_type": "code",
   "execution_count": 63,
   "metadata": {
    "collapsed": false
   },
   "outputs": [
    {
     "name": "stdout",
     "output_type": "stream",
     "text": [
      "Definite integral\n",
      "Enter n : 0\n",
      "Enter m : 1\n",
      "1.0\n",
      "1.0\n",
      "Equal\n"
     ]
    }
   ],
   "source": [
    "import sympy,numpy,math\n",
    "\n",
    "print \"Definite integral\"\n",
    "x = sympy.Symbol('x')\n",
    "m = sympy.Symbol('m')\n",
    "n = sympy.Symbol('n')\n",
    "n = int(raw_input(\"Enter n : \"))\n",
    "m = int(raw_input(\"Enter m : \"))\n",
    "g =(sympy.cos(x))**m*sympy.cos(n*x)\n",
    "f = sympy.integrate(g,(x,0,math.pi/2))\n",
    "print float(f) \n",
    "g2 =(sympy.cos(x))**(m-1)*sympy.cos((n-1)*x)\n",
    "f2 = m/(m+n)*sympy.integrate(g2,(x,0,math.pi/2))\n",
    "print float(f2)\n",
    "print \"Equal\""
   ]
  },
  {
   "cell_type": "markdown",
   "metadata": {},
   "source": [
    "## Example 6.6.1, page no. 210"
   ]
  },
  {
   "cell_type": "code",
   "execution_count": 65,
   "metadata": {
    "collapsed": false
   },
   "outputs": [
    {
     "name": "stdout",
     "output_type": "stream",
     "text": [
      "Definite integral\n",
      "Enter n : 1\n",
      "Piecewise((x*exp(-I*x)*sin(x)/2 - I*x*exp(-I*x)*cos(x)/2 - exp(-I*x)*cos(x)/2, a == -I), (x*exp(I*x)*sin(x)/2 + I*x*exp(I*x)*cos(x)/2 - exp(I*x)*cos(x)/2, a == I), (a*exp(a*x)*sin(x)/(a**2 + 1) - exp(a*x)*cos(x)/(a**2 + 1), True))\n"
     ]
    }
   ],
   "source": [
    "import sympy,numpy,math\n",
    "\n",
    "print \"Definite integral\"\n",
    "x = sympy.Symbol('x')\n",
    "a = sympy.Symbol('a')\n",
    "n = int(raw_input(\"Enter n : \"))\n",
    "g = sympy.exp(a*x)*(sympy.sin(x))**n\n",
    "f = sympy.integrate(g,(x))\n",
    "print f"
   ]
  },
  {
   "cell_type": "markdown",
   "metadata": {},
   "source": [
    "## Example 6.7.1, page no. 212"
   ]
  },
  {
   "cell_type": "code",
   "execution_count": 66,
   "metadata": {
    "collapsed": false
   },
   "outputs": [
    {
     "name": "stdout",
     "output_type": "stream",
     "text": [
      "(4*sin(x)**2 - 3)/(4*sin(x)**4 - 8*sin(x)**2 + 4) - log(sin(x)**2 - 1)/2\n"
     ]
    }
   ],
   "source": [
    "import sympy,numpy,math\n",
    "\n",
    "x = sympy.Symbol('x')\n",
    "print sympy.integrate(sympy.tan(x)**5,(x))"
   ]
  },
  {
   "cell_type": "markdown",
   "metadata": {},
   "source": [
    "## Example 6.8, page no. 215"
   ]
  },
  {
   "cell_type": "code",
   "execution_count": 11,
   "metadata": {
    "collapsed": false
   },
   "outputs": [
    {
     "name": "stdout",
     "output_type": "stream",
     "text": [
      "Enter the value of n : 3\n",
      "n(p+q)=  0.999999999999999\n"
     ]
    }
   ],
   "source": [
    "import numpy,sympy,math\n",
    "\n",
    "n = int(raw_input(\"Enter the value of n : \"))\n",
    "p = sympy.integrate((sympy.tan(x))**(n-1),('x',0,math.pi/4))\n",
    "q = sympy.integrate((sympy.tan(x))**(n+1),('x',0,math.pi/4))\n",
    "print \"n(p+q)= \",\n",
    "print n*(p+q)"
   ]
  },
  {
   "cell_type": "markdown",
   "metadata": {},
   "source": [
    "## Example 6.9.1, page no. 217"
   ]
  },
  {
   "cell_type": "code",
   "execution_count": 69,
   "metadata": {
    "collapsed": false
   },
   "outputs": [
    {
     "name": "stdout",
     "output_type": "stream",
     "text": [
      "1.33333333333333\n"
     ]
    }
   ],
   "source": [
    "import sympy,numpy,math\n",
    "\n",
    "x = sympy.Symbol('x')\n",
    "g = sympy.sec(x)**4\n",
    "print sympy.integrate(g,('x',0,math.pi/4))"
   ]
  },
  {
   "cell_type": "markdown",
   "metadata": {},
   "source": [
    "## Example 6.9.2, page no. 217"
   ]
  },
  {
   "cell_type": "code",
   "execution_count": 36,
   "metadata": {
    "collapsed": false
   },
   "outputs": [
    {
     "name": "stdout",
     "output_type": "stream",
     "text": [
      "0.607986405500361\n"
     ]
    }
   ],
   "source": [
    "import sympy,numpy,math\n",
    "\n",
    "x = sympy.Symbol('x')\n",
    "print sympy.integrate('1/sin(x)**3',('x',math.pi/3,math.pi/2))"
   ]
  },
  {
   "cell_type": "markdown",
   "metadata": {},
   "source": [
    "## Example 6.10, page no. 220"
   ]
  },
  {
   "cell_type": "code",
   "execution_count": 20,
   "metadata": {
    "collapsed": false
   },
   "outputs": [
    {
     "name": "stdout",
     "output_type": "stream",
     "text": [
      "0.000362418686373\n"
     ]
    }
   ],
   "source": [
    "import sympy,math\n",
    "from sympy.abc import x\n",
    "from sympy.integrals import Integral\n",
    "import sympy, math\n",
    "g = x*sympy.sin(x)**6*sympy.cos(x)**4\n",
    "f = Integral(g,(x,0,math.pi/6))\n",
    "print float(f)"
   ]
  },
  {
   "cell_type": "markdown",
   "metadata": {},
   "source": [
    "## Example 6.12, page no. 221"
   ]
  },
  {
   "cell_type": "code",
   "execution_count": 17,
   "metadata": {
    "collapsed": false
   },
   "outputs": [
    {
     "name": "stdout",
     "output_type": "stream",
     "text": [
      "0.785398163397\n"
     ]
    }
   ],
   "source": [
    "import sympy,math\n",
    "from sympy.abc import x\n",
    "from sympy.integrals import Integral\n",
    "x = sympy.Symbol('x')\n",
    "a = math.pi/2\n",
    "f = (sympy.sin(x)**0.5)/(sympy.sin(x)**0.5+sympy.cos(x)**0.5)\n",
    "f = Integral(f,(x, 0, a))\n",
    "print float(f)"
   ]
  },
  {
   "cell_type": "markdown",
   "metadata": {},
   "source": [
    "## Example 6.13, page no. 223"
   ]
  },
  {
   "cell_type": "code",
   "execution_count": 4,
   "metadata": {
    "collapsed": false
   },
   "outputs": [
    {
     "name": "stdout",
     "output_type": "stream",
     "text": [
      "The summation is equivalent to integration of 1/(1+xˆ2) from 0 to 1\n",
      "0.785398163397\n"
     ]
    }
   ],
   "source": [
    "import sympy,numpy,math\n",
    "\n",
    "x = sympy.Symbol('x')\n",
    "print \"The summation is equivalent to integration of 1/(1+xˆ2) from 0 to 1\"\n",
    "g = 1/(1+x**2)\n",
    "f = sympy.integrate(g,(x,0,1))\n",
    "print float(f)"
   ]
  },
  {
   "cell_type": "markdown",
   "metadata": {},
   "source": [
    "## Example 6.14, page no.  223"
   ]
  },
  {
   "cell_type": "code",
   "execution_count": 5,
   "metadata": {
    "collapsed": false
   },
   "outputs": [
    {
     "name": "stdout",
     "output_type": "stream",
     "text": [
      "The summation is equivalent to integration of log(1+x) from 0 to 1\n",
      "0.38629436112\n"
     ]
    }
   ],
   "source": [
    "import sympy,numpy,math\n",
    "\n",
    "x = sympy.Symbol('x')\n",
    "print \"The summation is equivalent to integration of log(1+x) from 0 to 1\"\n",
    "g = sympy.log(1+x)\n",
    "f = sympy.integrate(g,(x,0,1))\n",
    "print float(f) "
   ]
  },
  {
   "cell_type": "markdown",
   "metadata": {},
   "source": [
    "## Example 6.15, page no. 225"
   ]
  },
  {
   "cell_type": "code",
   "execution_count": 31,
   "metadata": {
    "collapsed": false
   },
   "outputs": [
    {
     "name": "stdout",
     "output_type": "stream",
     "text": [
      "0.0337339994178\n"
     ]
    }
   ],
   "source": [
    "import sympy,math\n",
    "from sympy.integrals import Integral\n",
    "f = Integral(x*sympy.sin(x)**8*sympy.cos(x)**4,(x,0,math.pi))\n",
    "print float(f)"
   ]
  },
  {
   "cell_type": "markdown",
   "metadata": {},
   "source": [
    "## Example 6.16, page no. 226"
   ]
  },
  {
   "cell_type": "code",
   "execution_count": 30,
   "metadata": {
    "collapsed": false
   },
   "outputs": [
    {
     "name": "stdout",
     "output_type": "stream",
     "text": [
      "-1.08879304515\n"
     ]
    }
   ],
   "source": [
    "import numpy,sympy,math\n",
    "from sympy.integrals import Integral\n",
    "x = sympy.Symbol('x')\n",
    "#f = sympy.integrate(sympy.log(sympy.sin(x)),('x',0,math.pi/2))\n",
    "f = Integral(sympy.log(sympy.sin(x)), (x, 0, 1.5707963267949))\n",
    "print float(f)"
   ]
  },
  {
   "cell_type": "markdown",
   "metadata": {},
   "source": [
    "## Example 6.24, page no. 234"
   ]
  },
  {
   "cell_type": "code",
   "execution_count": 20,
   "metadata": {
    "collapsed": false
   },
   "outputs": [
    {
     "name": "stdout",
     "output_type": "stream",
     "text": [
      "from the graph, it is clear that the points of intersection are x=−4 and x =8.\n",
      "So, our region of integration is from x=−4 to x=8\n",
      "36\n"
     ]
    },
    {
     "data": {
      "image/png": "[encoded data removed]",
      "text/plain": [
       "<matplotlib.figure.Figure at 0x7faae1cad790>"
      ]
     },
     "metadata": {},
     "output_type": "display_data"
    }
   ],
   "source": [
    "%matplotlib inline\n",
    "import matplotlib.pyplot as plt\n",
    "import numpy\n",
    "import math\n",
    "\n",
    "x = numpy.linspace(-5,10,70)\n",
    "y1 = (x+8)/2\n",
    "y2 = x**2/8\n",
    "\n",
    "plt.xlabel('X axis')\n",
    "plt.ylabel('Y axis')\n",
    "plt.title('My Graph')\n",
    "plt.plot(x, y1, \"o-\" )\n",
    "plt.plot(x, y2, \"+-\" )\n",
    "plt.legend([\"(x+8)/2\",\"x**2/8\"])\n",
    "print \"from the graph, it is clear that the points of intersection are x=−4 and x =8.\"\n",
    "print \"So, our region of integration is from x=−4 to x=8\"\n",
    "print sympy.integrate('(x+8)/2-x**2/8',('x',-4,8))"
   ]
  }
 ],
 "metadata": {
  "kernelspec": {
   "display_name": "Python 2",
   "language": "python",
   "name": "python2"
  },
  "language_info": {
   "codemirror_mode": {
    "name": "ipython",
    "version": 2
   },
   "file_extension": ".py",
   "mimetype": "text/x-python",
   "name": "python",
   "nbconvert_exporter": "python",
   "pygments_lexer": "ipython2",
   "version": "2.7.11+"
  }
 },
 "nbformat": 4,
 "nbformat_minor": 0
}
