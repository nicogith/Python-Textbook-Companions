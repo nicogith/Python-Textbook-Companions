{
 "metadata": {
  "name": "",
  "signature": "sha256:4bfa36805a5140f0dc7023e6b533e12bf6cf488b53f4f9082629f42b62484f4a"
 },
 "nbformat": 3,
 "nbformat_minor": 0,
 "worksheets": [
  {
   "cells": [
    {
     "cell_type": "heading",
     "level": 1,
     "metadata": {},
     "source": [
      "Chapter 02:Semiconductor Physics"
     ]
    },
    {
     "cell_type": "heading",
     "level": 2,
     "metadata": {},
     "source": [
      "Example E1 - pg 35"
     ]
    },
    {
     "cell_type": "code",
     "collapsed": false,
     "input": [
      "#Calculate the conductivity and resistivity of germanium\n",
      "#!/usr/bin/env/ python\n",
      "#-*- coding: utf-8 -*-\n",
      "q=1.6*10.**-19.#Coulomb        #charge of an electron\n",
      "ni=2.5*10.**19.#per m**3        #concentration\n",
      "un=0.36#m**2/Vs              #mobility of electron\n",
      "up=0.17#m**2/Vs             #mobility of holes\n",
      "con=q*ni*(un+up);           #conductivity\n",
      "res=(1./con);                #resistivity\n",
      "print '%s %.2f %s' %(\"The conductivty is =\",con,'S/m');\n",
      "print '%s %.2f %s' %(\"The resistivity is =\",res,'ohm m');\n"
     ],
     "language": "python",
     "metadata": {},
     "outputs": [
      {
       "output_type": "stream",
       "stream": "stdout",
       "text": [
        "The conductivty is = 2.12 S/m\n",
        "The resistivity is = 0.47 ohm m\n"
       ]
      }
     ],
     "prompt_number": 1
    },
    {
     "cell_type": "heading",
     "level": 2,
     "metadata": {},
     "source": [
      "Ecample E2 - pg 44"
     ]
    },
    {
     "cell_type": "code",
     "collapsed": false,
     "input": [
      "#Determine the conductivity of extrinsic semiconductor\n",
      "#given\n",
      "e=1.6*10.**-19.;#Coulomb        #charge of an electron\n",
      "ni=1.5*10.**16.;#per m**3        #concentration\n",
      "un=0.13;#m**2/Vs             #mobility of electron\n",
      "up=0.05;#m**2/Vs            #mobility of holes\n",
      "Si=5.*10.**28.;#per m**3        #atomic density in silicon\n",
      "dop=(1./(2.*10.**8.));          #concentration of an antimony per silicon atoms\n",
      "Nd=dop*Si;#per m**3       #donor concentraion\n",
      "n=Nd;#per m**3           #free electron concentration\n",
      "p=(ni**2/Nd);#per m **3   # hole concentration\n",
      "con=e*(n*un+p*up);\n",
      "print '%s %.1f %s' %(\"The conductivty is=\",con, 'S/m');\n"
     ],
     "language": "python",
     "metadata": {},
     "outputs": [
      {
       "output_type": "stream",
       "stream": "stdout",
       "text": [
        "The conductivty is= 5.2 S/m\n"
       ]
      }
     ],
     "prompt_number": 3
    }
   ],
   "metadata": {}
  }
 ]
}