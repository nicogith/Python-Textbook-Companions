{
 "cells": [
  {
   "cell_type": "markdown",
   "metadata": {},
   "source": [
    "# Chapter 2: Power Electronics Circuit Layout"
   ]
  },
  {
   "cell_type": "markdown",
   "metadata": {},
   "source": [
    "### Example 2.9,Page 83"
   ]
  },
  {
   "cell_type": "code",
   "execution_count": 1,
   "metadata": {
    "collapsed": false
   },
   "outputs": [
    {
     "name": "stdout",
     "output_type": "stream",
     "text": [
      "load current is 3.75 A\n",
      "wiring resistance is 26.67 mohm\n",
      "resistance per inch is 1666.67 microohm/inch\n"
     ]
    }
   ],
   "source": [
    "#finding an appropriate wire gauge\n",
    "\n",
    "#initialisation of variable\n",
    "from math import pi,tan,sqrt,sin,cos,acos,atan\n",
    "V=15.0;#voltage\n",
    "R=4.0;#resistance\n",
    "Vl=.1;\n",
    "D=8.0;#duty cycle\n",
    "\n",
    "#calculation\n",
    "Il=V/R;\n",
    "Rw=Vl/Il#wiring resistance\n",
    "Ri=Rw/(2*D);\n",
    "\n",
    "#result\n",
    "print \"load current is\",round(Il,2), \"A\"\n",
    "print \"wiring resistance is\",round(Rw*1000,2), \"mohm\"\n",
    "print \"resistance per inch is\",round(Ri*1e6,2), \"microohm/inch\""
   ]
  }
 ],
 "metadata": {
  "kernelspec": {
   "display_name": "Python 2",
   "language": "python",
   "name": "python2"
  }
 },
 "nbformat": 4,
 "nbformat_minor": 0
}
