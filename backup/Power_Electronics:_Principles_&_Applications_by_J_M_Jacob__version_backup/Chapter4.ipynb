{
 "cells": [
  {
   "cell_type": "markdown",
   "metadata": {},
   "source": [
    "# Chapter 4: Linear Power Amplifier Integrated Circuits"
   ]
  },
  {
   "cell_type": "markdown",
   "metadata": {},
   "source": [
    "### Example 4.1,Page 162"
   ]
  },
  {
   "cell_type": "code",
   "execution_count": 1,
   "metadata": {
    "collapsed": false
   },
   "outputs": [
    {
     "name": "stdout",
     "output_type": "stream",
     "text": [
      "output voltage is 500.0 mV\n"
     ]
    }
   ],
   "source": [
    "#finding voltage \n",
    "\n",
    "#initialisation of variable\n",
    "from math import pi,tan,sqrt,sin,cos,acos,atan\n",
    "Rf=1;\n",
    "Ri=10;\n",
    "Vi=0;\n",
    "Ip=500;\n",
    "\n",
    "#calculation\n",
    "Vrf=Ip*Rf;\n",
    "\n",
    "#result\n",
    "print \"output voltage is\",round(Vrf,2), \"mV\""
   ]
  },
  {
   "cell_type": "markdown",
   "metadata": {},
   "source": [
    "### Example 4.2,Page 165"
   ]
  },
  {
   "cell_type": "code",
   "execution_count": 2,
   "metadata": {
    "collapsed": false
   },
   "outputs": [
    {
     "name": "stdout",
     "output_type": "stream",
     "text": [
      "frequency of OPA548 is 67.26 KHz\n",
      "slew rate of OPA548 is 1.12 Mhz\n",
      "the OPA548 can be used\n"
     ]
    }
   ],
   "source": [
    "#finding frequency\n",
    "\n",
    "#initialisation of variable\n",
    "from math import pi,tan,sqrt,sin,cos,acos,atan\n",
    "Vi=300.0;\n",
    "P=35.0;\n",
    "R=8.0;\n",
    "S=10000.0;\n",
    "fh=20.0;\n",
    "\n",
    "#calculation\n",
    "Vl=(P*R)**.5;\n",
    "Vp=Vl*2**.5;\n",
    "Il=Vl/R;\n",
    "f=S/(2*pi*Vp);\n",
    "Ao=Vl/Vi;\n",
    "G=Ao*fh;\n",
    "\n",
    "#result\n",
    "print \"frequency of OPA548 is\",round(f,2), \"KHz\"\n",
    "print \"slew rate of OPA548 is\",round(G,2), \"Mhz\"\n",
    "print('the OPA548 can be used')"
   ]
  },
  {
   "cell_type": "markdown",
   "metadata": {},
   "source": [
    "### Example 4.3,Page 168"
   ]
  },
  {
   "cell_type": "code",
   "execution_count": 3,
   "metadata": {
    "collapsed": false
   },
   "outputs": [
    {
     "name": "stdout",
     "output_type": "stream",
     "text": [
      "power delivered is 3.5 watt\n"
     ]
    }
   ],
   "source": [
    "#finding power\n",
    "\n",
    "#initialisation of variable\n",
    "from math import pi,tan,sqrt,sin,cos,acos,atan\n",
    "Rl=10.0;\n",
    "V=12.0;\n",
    "Vl=5.0;\n",
    "\n",
    "#calculation\n",
    "Pl=Vl**2/Rl;\n",
    "I=Vl/Rl;\n",
    "Ps=V*I;\n",
    "Pic=Ps-Pl;\n",
    "\n",
    "#result\n",
    "print \"power delivered is\",round(Pic,2), \"watt\""
   ]
  },
  {
   "cell_type": "markdown",
   "metadata": {},
   "source": [
    "### Example 4.4,Page 170"
   ]
  },
  {
   "cell_type": "code",
   "execution_count": 1,
   "metadata": {
    "collapsed": false
   },
   "outputs": [
    {
     "name": "stdout",
     "output_type": "stream",
     "text": [
      "Vload     Iload     Pload          Ps        Pic\n",
      "0.0       0.0        0.0          0.0        0.0\n",
      "0.2       0.0        0.0          0.24        0.24\n",
      "0.4       0.0        0.02          0.48        0.46\n",
      "0.6       0.1        0.04          0.72        0.68\n",
      "0.8       0.1        0.06          0.96        0.9\n",
      "4.8       0.5        2.3          5.76        3.46\n",
      "5.0       0.5        2.5          6.0        3.5\n",
      "5.2       0.5        2.7          6.24        3.54\n",
      "5.4       0.5        2.92          6.48        3.56\n",
      "5.6       0.6        3.14          6.72        3.58\n",
      "5.8       0.6        3.36          6.96        3.6\n",
      "6.0       0.6        3.6          7.2        3.6\n",
      "6.2       0.6        3.84          7.44        3.6\n",
      "6.4       0.6        4.1          7.68        3.58\n",
      "11.4       1.1        13.0          13.68        0.68\n",
      "11.6       1.2        13.46          13.92        0.46\n",
      "11.8       1.2        13.92          14.16        0.24\n",
      "12.0       1.2        14.4          14.4        0.0\n"
     ]
    },
    {
     "data": {
      "text/plain": [
       "<matplotlib.text.Text at 0x7fd132102a10>"
      ]
     },
     "execution_count": 1,
     "metadata": {},
     "output_type": "execute_result"
    },
    {
     "data": {
      "image/png": "[encoded data removed]",
      "text/plain": [
       "<matplotlib.figure.Figure at 0x7fd1321993d0>"
      ]
     },
     "metadata": {},
     "output_type": "display_data"
    }
   ],
   "source": [
    "#finding Vload vs Pic graph\n",
    "\n",
    "#initialisation of variable\n",
    "%matplotlib inline\n",
    "import numpy as np\n",
    "from pylab import plot, xlabel, ylabel, title\n",
    "Vload=[0.0, 0.2, 0.4, 0.6, 0.8, 4.8, 5.0, 5.2, 5.4, 5.6, 5.8, 6.0, 6.2, 6.4, 11.4, 11.6, 11.8, 12.0];\n",
    "Iload=[0.0, 0.0, 0.0, 0.1, 0.1, 0.5, 0.5, 0.5, 0.5, 0.6, 0.6, 0.6, 0.6, 0.6, 1.1, 1.2, 1.2, 1.2];\n",
    "Pload=[0.00, 0.00, 0.02, 0.04, 0.06, 2.30, 2.50, 2.70, 2.92, 3.14, 3.36, 3.60, 3.84, 4.10, 13.00, 13.46, 13.92, 14.40];\n",
    "Ps=[0.00, 0.24, 0.48, 0.72, 0.96, 5.76, 6.00, 6.24, 6.48, 6.72, 6.96, 7.20, 7.44, 7.68, 13.68, 13.92, 14.16, 14.40];\n",
    "Pic=[0.00, 0.24, 0.46, 0.68, 0.90, 3.46, 3.50, 3.54, 3.56, 3.58, 3.60, 3.60, 3.60, 3.58, 0.68, 0.46, 0.24, 0.00];\n",
    "\n",
    "#result\n",
    "print('Vload     Iload     Pload          Ps        Pic');\n",
    "for i in range(0,18):\n",
    "    print Vload[i],\"     \",Iload[i],\"      \",Pload[i],\"        \",Ps[i],\"      \", Pic[i]\n",
    "    \n",
    "plot(Vload,Pic);\n",
    "xlabel('load voltage (V)')\n",
    "ylabel('IC Power(W)')\n",
    "title('load voltage vs IC Power')\n"
   ]
  },
  {
   "cell_type": "markdown",
   "metadata": {},
   "source": [
    "### Example 4.5,Page 173"
   ]
  },
  {
   "cell_type": "code",
   "execution_count": 4,
   "metadata": {
    "collapsed": false
   },
   "outputs": [
    {
     "name": "stdout",
     "output_type": "stream",
     "text": [
      "IC power is 2.57 W\n",
      "total power is 3.82 W\n",
      "dc supply current is 159.155 mA\n",
      "power delivered is 1.25 watt\n"
     ]
    }
   ],
   "source": [
    "#finding different power and current\n",
    "\n",
    "#initialisation of variable\n",
    "from math import pi,tan,sqrt,sin,cos,acos,atan\n",
    "V=12.0;\n",
    "Vp=5.0;\n",
    "R=10.0;\n",
    "\n",
    "#calculation\n",
    "Ip=Vp/R;\n",
    "Il=Ip/2**.5;\n",
    "Pl=(Vp*Ip)/2;\n",
    "Id=Ip/pi;\n",
    "Pt=2*V*Ip/pi;\n",
    "Pic=Pt-Pl;\n",
    "\n",
    "#result\n",
    "print \"IC power is\",round(Pic,2), \"W\"\n",
    "print \"total power is\",round(Pt,2), \"W\"\n",
    "print \"dc supply current is\",round(Id*1000,3), \"mA\"\n",
    "print \"power delivered is\",round(Pl,2), \"watt\""
   ]
  },
  {
   "cell_type": "markdown",
   "metadata": {},
   "source": [
    "### Example 4.6,Page 179"
   ]
  },
  {
   "cell_type": "code",
   "execution_count": 5,
   "metadata": {
    "collapsed": false
   },
   "outputs": [
    {
     "name": "stdout",
     "output_type": "stream",
     "text": [
      "thermal resistance is 24.61 C/W\n"
     ]
    }
   ],
   "source": [
    "#finding thermal resistance\n",
    "\n",
    "#initialisation of variable\n",
    "from math import pi,tan,sqrt,sin,cos,acos,atan\n",
    "Ts=40.0;\n",
    "P=2.92;\n",
    "Qj=2.5;\n",
    "Qc=2.0;\n",
    "Tj=125.0;\n",
    "\n",
    "#calculation\n",
    "Qs=(Tj-Ts)/P-Qj-Qc;\n",
    "\n",
    "#result\n",
    "print \"thermal resistance is\",round(Qs,2),\"C/W\""
   ]
  },
  {
   "cell_type": "markdown",
   "metadata": {},
   "source": [
    "### Example 4.7,Page 180"
   ]
  },
  {
   "cell_type": "code",
   "execution_count": 48,
   "metadata": {
    "collapsed": false
   },
   "outputs": [
    {
     "name": "stdout",
     "output_type": "stream",
     "text": [
      "Vload     Iload     Pload         Ps        Pic\n",
      "9.4       0.94        4.42       14.36        9.94\n",
      "9.6       0.96        4.61       14.67        10.06\n",
      "10.0 power delivered by IC in watt\n"
     ]
    }
   ],
   "source": [
    "#finding power\n",
    "\n",
    "#initialisation of variable\n",
    "from math import pi,tan,sqrt,sin,cos,acos,atan\n",
    "V=24.0;\n",
    "R=10.0;\n",
    "Qs=4.0;\n",
    "Tj=125.0;\n",
    "Ta=40.0;\n",
    "Qj=2.5;\n",
    "Qc=2.0;\n",
    "Vload=[9.4, 9.6];\n",
    "Iload=[.94, .96];\n",
    "Pload=[4.42, 4.61];\n",
    "Ps=[14.36, 14.67];\n",
    "Pic=[9.94, 10.06];\n",
    "\n",
    "#calculation\n",
    "P=(Tj-Ta)/(Qj+Qc+Qs);\n",
    "\n",
    "#result\n",
    "print('Vload     Iload     Pload         Ps        Pic');\n",
    "for i in range(0,2):\n",
    "    print Vload[i],\"     \",Iload[i],\"      \",Pload[i],\"     \",Ps[i],\"      \", Pic[i]\n",
    "print round(P,2),\"power delivered by IC in watt\""
   ]
  },
  {
   "cell_type": "markdown",
   "metadata": {},
   "source": [
    "### Example 4.8,Page 182"
   ]
  },
  {
   "cell_type": "code",
   "execution_count": 7,
   "metadata": {
    "collapsed": false
   },
   "outputs": [
    {
     "name": "stdout",
     "output_type": "stream",
     "text": [
      "gain is 23.0\n",
      "limit current is 4.01 A\n",
      "output voltage is 46.0 V\n",
      "maximum output voltage is 32.0 V\n"
     ]
    }
   ],
   "source": [
    "#finding current and voltage\n",
    "\n",
    "#initialisation of variable\n",
    "from math import pi,tan,sqrt,sin,cos,acos,atan\n",
    "Rf=22.0;\n",
    "Ri=1.0;\n",
    "Rs=15.0;\n",
    "I=4.75;\n",
    "Rc=4.0;\n",
    "Vp=2.0;\n",
    "Rl=8.0;\n",
    "Im=4.0;\n",
    "\n",
    "#calculation\n",
    "Av=1+(Rf/Ri);\n",
    "Il=(Rs*I)/(Rc+13.75);\n",
    "Vo=Vp*Av;\n",
    "V=Im*Rl;\n",
    "\n",
    "#result\n",
    "print \"gain is\",round(Av,2)\n",
    "print \"limit current is\",round(Il,2), \"A\"\n",
    "print \"output voltage is\",round(Vo,2), \"V\"\n",
    "print \"maximum output voltage is\",round(V,2), \"V\""
   ]
  },
  {
   "cell_type": "markdown",
   "metadata": {},
   "source": [
    "### Example 4.9,Page 185"
   ]
  },
  {
   "cell_type": "code",
   "execution_count": 8,
   "metadata": {
    "collapsed": false
   },
   "outputs": [
    {
     "name": "stdout",
     "output_type": "stream",
     "text": [
      "loudness ofsound is 108.06 dB\n"
     ]
    }
   ],
   "source": [
    "#finding loudness\n",
    "\n",
    "#initialisation of variable\n",
    "from math import pi,tan,sqrt,sin,cos,acos,atan,log\n",
    "D=8.0;\n",
    "d=1.0;\n",
    "I=90.0;\n",
    "\n",
    "#calculation\n",
    "Is=20*log(d/D,10);\n",
    "Ir=I-Is;\n",
    "\n",
    "#result\n",
    "print \"loudness ofsound is\",round(Ir,2), \"dB\""
   ]
  },
  {
   "cell_type": "markdown",
   "metadata": {},
   "source": [
    "### Example 4.10,Page 186"
   ]
  },
  {
   "cell_type": "code",
   "execution_count": 14,
   "metadata": {
    "collapsed": false
   },
   "outputs": [
    {
     "name": "stdout",
     "output_type": "stream",
     "text": [
      "19.95 power provided in watt\n"
     ]
    }
   ],
   "source": [
    "#finding power\n",
    "\n",
    "#initialisation of variable\n",
    "from math import pi,tan,sqrt,sin,cos,acos,atan,log\n",
    "D=1.0;\n",
    "I1=108.0;\n",
    "I2=95.0;\n",
    "P=1.0;\n",
    "\n",
    "#calculation\n",
    "I=I1-I2;\n",
    "Pr=P*10**(I/10);\n",
    "\n",
    "#result\n",
    "print \"power provided is\",round(Pr,2), \"watt\""
   ]
  },
  {
   "cell_type": "markdown",
   "metadata": {},
   "source": [
    "### Example 4.11,Page 188"
   ]
  },
  {
   "cell_type": "code",
   "execution_count": 9,
   "metadata": {
    "collapsed": false
   },
   "outputs": [
    {
     "name": "stdout",
     "output_type": "stream",
     "text": [
      "output voltage is 12.65 V\n",
      "gain is 10.28\n"
     ]
    }
   ],
   "source": [
    "#finding output voltage and gain\n",
    "\n",
    "#initialisation of variable\n",
    "from math import pi,tan,sqrt,sin,cos,acos,atan,log\n",
    "P=20;\n",
    "R=8;\n",
    "Vi=1.23;\n",
    "\n",
    "#calculation\n",
    "V=(P*R)**.5;\n",
    "G=V/Vi;\n",
    "\n",
    "#result\n",
    "print \"output voltage is\",round(V,2), \"V\"\n",
    "print \"gain is\",round(G,2)\n"
   ]
  },
  {
   "cell_type": "markdown",
   "metadata": {},
   "source": [
    "### Example 4.12,Page 191"
   ]
  },
  {
   "cell_type": "code",
   "execution_count": 10,
   "metadata": {
    "collapsed": false
   },
   "outputs": [
    {
     "name": "stdout",
     "output_type": "stream",
     "text": [
      "resistor b/w pins 1&8 is 600.0 ohm\n",
      "thus pick a 620 ohm resistor\n",
      "capacitor b/w pins 1&8 is 22.46 microF\n",
      "thus pick a 27 microF capacitor\n"
     ]
    }
   ],
   "source": [
    "#finding resistor and capacitor\n",
    "\n",
    "#initialisation of variable\n",
    "from math import pi,tan,sqrt,sin,cos,acos,atan,log\n",
    "G=40.0;\n",
    "f=80.0;\n",
    "R1=15000.0;\n",
    "R2=150.0;\n",
    "\n",
    "#calculation\n",
    "R=2*(R1/G)-R2;\n",
    "R11=620;\n",
    "C=1/(2*pi*f*R11/7);\n",
    "\n",
    "#result\n",
    "print \"resistor b/w pins 1&8 is\",round(R,2),\"ohm\"\n",
    "print('thus pick a 620 ohm resistor')\n",
    "print \"capacitor b/w pins 1&8 is\",round(C*1e6,2), \"microF\"\n",
    "print('thus pick a 27 microF capacitor')"
   ]
  },
  {
   "cell_type": "markdown",
   "metadata": {},
   "source": [
    "### Example 4.13,Page 193"
   ]
  },
  {
   "cell_type": "code",
   "execution_count": 11,
   "metadata": {
    "collapsed": false
   },
   "outputs": [
    {
     "name": "stdout",
     "output_type": "stream",
     "text": [
      "power dissipated is 140.0 mW\n",
      "thermal resistance is 628.93 degree C/W\n"
     ]
    }
   ],
   "source": [
    "#finding thermal resistance and power\n",
    "\n",
    "#initialisation of variable\n",
    "from math import pi,tan,sqrt,sin,cos,acos,atan,log\n",
    "R=8.0#resistance\n",
    "V=5.0#voltage\n",
    "Tm=150.0#temperature\n",
    "Ta=50.0#temperature\n",
    "Qa=107.0;\n",
    "Qc=37.0;\n",
    "Ps=299.0;\n",
    "\n",
    "#calculation\n",
    "Vd=V/2;\n",
    "Vm=V-1;\n",
    "Vp=Vm-Vd;\n",
    "Vr=Vp/2**.5;\n",
    "Pl=1000*Vr**2/R;\n",
    "Pl=140;\n",
    "Pic=Ps-Pl;\n",
    "Q=(Tm-Ta)/Pic;\n",
    "\n",
    "#result\n",
    "print \"power dissipated is\",round(Pl,2), \"mW\"\n",
    "print \"thermal resistance is\",round(Q*1000,2),\"degree C/W\""
   ]
  },
  {
   "cell_type": "markdown",
   "metadata": {},
   "source": [
    "### Example 4.14,Page 197"
   ]
  },
  {
   "cell_type": "code",
   "execution_count": 12,
   "metadata": {
    "collapsed": false
   },
   "outputs": [
    {
     "name": "stdout",
     "output_type": "stream",
     "text": [
      "power deliverd is 562.5 mwatt\n"
     ]
    }
   ],
   "source": [
    "#finding power delivered\n",
    "\n",
    "#initialisation of variable\n",
    "from math import pi,tan,sqrt,sin,cos,acos,atan,log\n",
    "R=8.0#resistance\n",
    "V=5.0#voltage\n",
    "\n",
    "#calculation\n",
    "Vl=V-1;\n",
    "Vp=Vl-1;\n",
    "Vr=Vp/2**.5;\n",
    "P=Vr**2/R;\n",
    "\n",
    "#result\n",
    "print \"power deliverd is\",round(P*1000,2), \"mwatt\""
   ]
  },
  {
   "cell_type": "markdown",
   "metadata": {},
   "source": [
    "### Example 4.15,Page 201"
   ]
  },
  {
   "cell_type": "code",
   "execution_count": 13,
   "metadata": {
    "collapsed": false
   },
   "outputs": [
    {
     "name": "stdout",
     "output_type": "stream",
     "text": [
      "power delivered is 85.56 watt\n",
      "thermal resistance is 1.4 degreeC/W\n"
     ]
    }
   ],
   "source": [
    "#finding thermal resistance and power\n",
    "\n",
    "#initialisation of variable\n",
    "from math import pi,tan,sqrt,sin,cos,acos,atan,log\n",
    "R=8.0#resistance\n",
    "Ts=35.0#temperature\n",
    "Ta=150.0#temperature\n",
    "Vm=42.0#voltage\n",
    "\n",
    "#calcuation\n",
    "Vp=Vm-5;\n",
    "Vr=Vp/2**.5;\n",
    "Pm=Vr**2/R;\n",
    "P=45;\n",
    "Qs=(Ta-Ts)/P-1.2;\n",
    "\n",
    "#result\n",
    "print \"power delivered is\",round(Pm,2), \"watt\"\n",
    "print \"thermal resistance is\",round(round(Qs*10)/10,2), \"degreeC/W\""
   ]
  }
 ],
 "metadata": {
  "kernelspec": {
   "display_name": "Python 2",
   "language": "python",
   "name": "python2"
  },
  "language_info": {
   "codemirror_mode": {
    "name": "ipython",
    "version": 2
   },
   "file_extension": ".py",
   "mimetype": "text/x-python",
   "name": "python",
   "nbconvert_exporter": "python",
   "pygments_lexer": "ipython2",
   "version": "2.7.6"
  }
 },
 "nbformat": 4,
 "nbformat_minor": 0
}
