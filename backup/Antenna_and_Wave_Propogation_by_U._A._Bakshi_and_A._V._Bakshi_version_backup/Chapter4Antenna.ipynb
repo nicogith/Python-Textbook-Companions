{
 "cells": [
  {
   "cell_type": "markdown",
   "metadata": {},
   "source": [
    "# Chapter 4 Antenna Arrays"
   ]
  },
  {
   "cell_type": "markdown",
   "metadata": {},
   "source": [
    "## 4.1 HPBW calculation"
   ]
  },
  {
   "cell_type": "code",
   "execution_count": 1,
   "metadata": {
    "collapsed": false
   },
   "outputs": [
    {
     "name": "stdout",
     "output_type": "stream",
     "text": [
      "The Beam Width First Null is 114.592 degree\n",
      "The half power beam width is 57.2958 degree\n"
     ]
    }
   ],
   "source": [
    "from __future__ import division\n",
    "import math\n",
    "\n",
    "#D=2(L/lamda)\n",
    "#broadside array\n",
    "L=1;\n",
    "Lamda=1;#assume\n",
    "BWFN=2 *180/(math.pi); #2/(L/lamda)\n",
    "print(\"The Beam Width First Null is %g degree\"%BWFN);\n",
    "HPBW=BWFN/2;\n",
    "print(\"The half power beam width is %g degree\"%HPBW);"
   ]
  },
  {
   "cell_type": "markdown",
   "metadata": {},
   "source": [
    "## 4.2 BWFN calculation"
   ]
  },
  {
   "cell_type": "code",
   "execution_count": 2,
   "metadata": {
    "collapsed": false
   },
   "outputs": [
    {
     "name": "stdout",
     "output_type": "stream",
     "text": [
      "The Beam Width First Null is 54.023 degree\n"
     ]
    }
   ],
   "source": [
    "from __future__ import division\n",
    "import math\n",
    "\n",
    "#end fire array\n",
    "#D=4(L/lamda)\n",
    "#BWFN=2sqrt(2m/(L/lamda))\n",
    "lamda=1;\n",
    "D=36;\n",
    "L=D/4;\n",
    "m=1;\n",
    "BWFN=114.6*math.sqrt(2*m/L);\n",
    "print(\"The Beam Width First Null is %g degree\"%BWFN);"
   ]
  },
  {
   "cell_type": "markdown",
   "metadata": {},
   "source": [
    "## 4.3 Maxima Minima calculation"
   ]
  },
  {
   "cell_type": "code",
   "execution_count": 3,
   "metadata": {
    "collapsed": false
   },
   "outputs": [
    {
     "name": "stdout",
     "output_type": "stream",
     "text": [
      "The positions of maxima are 1.5708,0,3.14159 radians\n",
      "The positions of minima are 1.0472,1.0472 radians\n"
     ]
    }
   ],
   "source": [
    "from __future__ import division\n",
    "import math\n",
    "\n",
    "#2 element array\n",
    "#part a\n",
    "max1=math.acos(0);\n",
    "max2=math.acos(1);\n",
    "max3=math.acos(-1);\n",
    "print(\"The positions of maxima are %g,%d,%g radians\"%(max1,max2,max3));\n",
    "\n",
    "#part b\n",
    "#minima\n",
    "min1=math.acos(0.5);\n",
    "min2=math.acos(0.5);\n",
    "print(\"The positions of minima are %g,%g radians\"%(min1,min2));"
   ]
  },
  {
   "cell_type": "markdown",
   "metadata": {},
   "source": [
    "## 4.4 Radiation Pattern calculation"
   ]
  },
  {
   "cell_type": "code",
   "execution_count": 6,
   "metadata": {
    "collapsed": false
   },
   "outputs": [
    {
     "name": "stdout",
     "output_type": "stream",
     "text": [
      "The only position of maximum radiation is 0 radians\n",
      "The position of minimum radiation pattern is 3.14159 radians\n",
      "Et 0.6203340637620398\n",
      "Hence as the radiation pattern suggest that antenna is unidirectional antenna\n"
     ]
    }
   ],
   "source": [
    "from __future__ import division\n",
    "import math\n",
    "\n",
    "#2 element array\n",
    "max1=math.acos(1);\n",
    "print(\"The only position of maximum radiation is %d radians\"%max1);\n",
    "min1=math.acos(-1);\n",
    "print(\"The position of minimum radiation pattern is %g radians\"%min1);\n",
    "phi=180;#assume phi=180 degree;\n",
    "Et=2*math.cos(((math.pi/4)*math.cos(phi))-(math.pi/4));\n",
    "print('Et',Et);\n",
    "print(\"Hence as the radiation pattern suggest that antenna is unidirectional antenna\");"
   ]
  },
  {
   "cell_type": "markdown",
   "metadata": {},
   "source": [
    "## 4.5 Null Calculation"
   ]
  },
  {
   "cell_type": "code",
   "execution_count": 7,
   "metadata": {
    "collapsed": false
   },
   "outputs": [
    {
     "name": "stdout",
     "output_type": "stream",
     "text": [
      "The direction of nulls are 1.31812 1.0472 0.722734 radians\n"
     ]
    }
   ],
   "source": [
    "from __future__ import division\n",
    "import math\n",
    "\n",
    "#broadside array\n",
    "#part a\n",
    "n=8;\n",
    "m1=1;\n",
    "d=0.5;\n",
    "lamda=1;\n",
    "ph1=math.acos((m1*lamda)/(n*d));\n",
    "m2=2; \n",
    "ph2=math.acos((m2*lamda)/(n*d));\n",
    "m3=3;\n",
    "ph3=math.acos((m3*lamda)/(n*d));\n",
    "print(\"The direction of nulls are %g %g %g radians\"%(ph1,ph2,ph3));"
   ]
  },
  {
   "cell_type": "markdown",
   "metadata": {},
   "source": [
    "## 4.6 Lobe calculation"
   ]
  },
  {
   "cell_type": "code",
   "execution_count": 8,
   "metadata": {
    "collapsed": false
   },
   "outputs": [
    {
     "name": "stdout",
     "output_type": "stream",
     "text": [
      "The minor lobes values are 1.1864 0.895665 0.505361\n"
     ]
    }
   ],
   "source": [
    "from __future__ import division\n",
    "import math\n",
    "\n",
    "#taking values from previous problems \n",
    "#broadside array\n",
    "m1=1;\n",
    "n=8;\n",
    "d=0.5;\n",
    "lamda=1;\n",
    "ph1=math.acos(lamda*(2*m1+1)/(2*n*d));\n",
    "m2=2;\n",
    "ph2=math.acos(lamda*(2*m2+1)/(2*n*d));\n",
    "m3=3;\n",
    "ph3=math.acos(lamda*(2*m3+1)/(2*n*d));\n",
    "print(\"The minor lobes values are %g %g %g\"%(ph1,ph2,ph3));"
   ]
  },
  {
   "cell_type": "markdown",
   "metadata": {},
   "source": [
    "## 4.7 BWFN calculation"
   ]
  },
  {
   "cell_type": "code",
   "execution_count": 9,
   "metadata": {
    "collapsed": false
   },
   "outputs": [
    {
     "name": "stdout",
     "output_type": "stream",
     "text": [
      "The radiated power is 18.25 W\n",
      "The length is 2 m\n",
      "The Beam width first null is 0.1 radians\n",
      "The half power beam width is 0.05 radians\n"
     ]
    }
   ],
   "source": [
    "from __future__ import division\n",
    "import math\n",
    "\n",
    "#broadside array\n",
    "n=4;\n",
    "lamda=0.1\n",
    "d=0.5\n",
    "i=0.25\n",
    "Rrad=73;\n",
    "\n",
    "#part a\n",
    "Prad=n*(i**2*Rrad);\n",
    "print(\"The radiated power is %g W\"%Prad);\n",
    "\n",
    "#part b\n",
    "L=n*d;\n",
    "print(\"The length is %d m\"%L);\n",
    "BWFN=2*lamda/L;\n",
    "HPBW=BWFN/2;\n",
    "print(\"The Beam width first null is %g radians\"%BWFN);\n",
    "print(\"The half power beam width is %g radians\"%HPBW);"
   ]
  },
  {
   "cell_type": "markdown",
   "metadata": {},
   "source": [
    "## 4.8 Dmin calculation"
   ]
  },
  {
   "cell_type": "code",
   "execution_count": 10,
   "metadata": {
    "collapsed": false
   },
   "outputs": [
    {
     "name": "stdout",
     "output_type": "stream",
     "text": [
      "The minimum distance between array is 0.250554 m\n"
     ]
    }
   ],
   "source": [
    "from __future__ import division\n",
    "import math\n",
    "\n",
    "#broadside array\n",
    "Gdmax=5.01108; #antilog[7/10]\n",
    "n=10;\n",
    "lamda=1;\n",
    "d=Gdmax/(20*lamda);\n",
    "print(\"The minimum distance between array is %g m\"%d);"
   ]
  },
  {
   "cell_type": "markdown",
   "metadata": {},
   "source": [
    "## 4.9 Gain calculation"
   ]
  },
  {
   "cell_type": "code",
   "execution_count": 12,
   "metadata": {
    "collapsed": false
   },
   "outputs": [
    {
     "name": "stdout",
     "output_type": "stream",
     "text": [
      "In Case of Broadside array\n",
      "The directive gain is 4\n",
      "The directive gain in db is 6.0206 db\n",
      "\n",
      "In case of End fire array\n",
      "The directive gain is 8\n",
      "The directive gain in db is 9.0309 db\n"
     ]
    }
   ],
   "source": [
    "from __future__ import division\n",
    "import math\n",
    "\n",
    "#broadside array\n",
    "n=8;\n",
    "d=0.25;\n",
    "lamda=1;\n",
    "\n",
    "#part a\n",
    "Gdmax=(2*n*d)/lamda;\n",
    "Gdmaxdb=10*math.log10(Gdmax);\n",
    "print(\"In Case of Broadside array\")\n",
    "print(\"The directive gain is %g\"%Gdmax);\n",
    "print(\"The directive gain in db is %g db\"%Gdmaxdb);\n",
    "\n",
    "#part b\n",
    "#end fire array\n",
    "Gdmax1=(4*n*d)/lamda;\n",
    "Gdmaxdb1=10*math.log10(Gdmax1);\n",
    "print(\"\\nIn case of End fire array\");\n",
    "print(\"The directive gain is %g\"%Gdmax1);\n",
    "print(\"The directive gain in db is %g db\"%Gdmaxdb1);"
   ]
  },
  {
   "cell_type": "markdown",
   "metadata": {},
   "source": [
    "## 4.10 BWFN calculation"
   ]
  },
  {
   "cell_type": "code",
   "execution_count": 14,
   "metadata": {
    "collapsed": false
   },
   "outputs": [
    {
     "name": "stdout",
     "output_type": "stream",
     "text": [
      "The length is 7.5 m\n",
      "The length is 3.75 m\n",
      "The BWFN is 83.692 degree\n"
     ]
    }
   ],
   "source": [
    "from __future__ import division\n",
    "import math\n",
    "\n",
    "#broadside array\n",
    "Gdmax=15;\n",
    "L=Gdmax/2;\n",
    "print(\"The length is %g m\"%L);\n",
    "\n",
    "#endfire array\n",
    "L1=Gdmax/4;\n",
    "print(\"The length is %g m\"%L1);\n",
    "BWFN=114.6*math.sqrt(2/L1);\n",
    "print(\"The BWFN is %g degree\"%BWFN);"
   ]
  },
  {
   "cell_type": "markdown",
   "metadata": {},
   "source": [
    "## 4.11 Directivity calculation"
   ]
  },
  {
   "cell_type": "code",
   "execution_count": 15,
   "metadata": {
    "collapsed": false
   },
   "outputs": [
    {
     "name": "stdout",
     "output_type": "stream",
     "text": [
      "The directivity is 17.89\n",
      "The directivity in db is 12.5261 db\n"
     ]
    }
   ],
   "source": [
    "from __future__ import division\n",
    "import math\n",
    "\n",
    "#Hansen-Woodyard end fire array\n",
    "n=10;\n",
    "d=0.25;\n",
    "L=n*d;\n",
    "D=1.789*4*L;\n",
    "Ddb=10*math.log10(D);\n",
    "print(\"The directivity is %g\"%D);\n",
    "print(\"The directivity in db is %g db\"%Ddb);"
   ]
  },
  {
   "cell_type": "markdown",
   "metadata": {},
   "source": [
    "## 4.12 Effective Aperture calculation"
   ]
  },
  {
   "cell_type": "code",
   "execution_count": 16,
   "metadata": {
    "collapsed": false
   },
   "outputs": [
    {
     "name": "stdout",
     "output_type": "stream",
     "text": [
      "The HPBW is 41.846 degree\n",
      "The directivity is 15\n",
      "The directivity in db is 11.7609 db\n",
      "The beam solid angle is 0.837758 sr\n",
      "The effective aperture is 1.19366 m^2\n"
     ]
    }
   ],
   "source": [
    "from __future__ import division\n",
    "import math\n",
    "\n",
    "#end fire array\n",
    "n=16;\n",
    "d=0.25;\n",
    "L=(n-1)*d;\n",
    "m=1;\n",
    "\n",
    "#part a\n",
    "HPBW=57.3*math.sqrt((2*m)/L);\n",
    "print(\"The HPBW is %g degree\"%HPBW);\n",
    "\n",
    "#part b\n",
    "D=4*L;\n",
    "Ddb=10*math.log10(D);\n",
    "print(\"The directivity is %d\"%D);\n",
    "print(\"The directivity in db is %g db\"%Ddb);\n",
    "\n",
    "#part c\n",
    "A=4*(math.pi)/D;\n",
    "print(\"The beam solid angle is %g sr\"%A);\n",
    "\n",
    "#part d\n",
    "lamda=1;\n",
    "Ae=D*lamda**2/(4*(math.pi));\n",
    "print(\"The effective aperture is %g m^2\"%Ae);"
   ]
  },
  {
   "cell_type": "markdown",
   "metadata": {},
   "source": [
    "## 4.13 Directive Gain Calculation"
   ]
  },
  {
   "cell_type": "code",
   "execution_count": 18,
   "metadata": {
    "collapsed": false
   },
   "outputs": [
    {
     "name": "stdout",
     "output_type": "stream",
     "text": [
      "The directive gain is 10\n",
      "The directive gain in db is 10 db\n"
     ]
    }
   ],
   "source": [
    "from __future__ import division\n",
    "import math\n",
    "\n",
    "#end fire array\n",
    "n=10;\n",
    "d=0.25;\n",
    "lamda=1;#assume\n",
    "Gdmax=4*n*d;\n",
    "Gdmaxdb=10*math.log10(Gdmax);\n",
    "print(\"The directive gain is %d\"%Gdmax);\n",
    "print(\"The directive gain in db is %d db\"%Gdmaxdb);"
   ]
  },
  {
   "cell_type": "markdown",
   "metadata": {},
   "source": [
    "## 4.14 Directivity calculation"
   ]
  },
  {
   "cell_type": "code",
   "execution_count": 19,
   "metadata": {
    "collapsed": false
   },
   "outputs": [
    {
     "name": "stdout",
     "output_type": "stream",
     "text": [
      "The directivity is 50\n"
     ]
    }
   ],
   "source": [
    "from __future__ import division\n",
    "import math\n",
    "\n",
    "n=50;\n",
    "d=0.5;\n",
    "lamda=1;#assume\n",
    "L=n*d;\n",
    "D=2*(L/lamda);\n",
    "print(\"The directivity is %g\"%D);"
   ]
  }
 ],
 "metadata": {
  "kernelspec": {
   "display_name": "Python 3",
   "language": "python",
   "name": "python3"
  },
  "language_info": {
   "codemirror_mode": {
    "name": "ipython",
    "version": 3
   },
   "file_extension": ".py",
   "mimetype": "text/x-python",
   "name": "python",
   "nbconvert_exporter": "python",
   "pygments_lexer": "ipython3",
   "version": "3.5.2"
  }
 },
 "nbformat": 4,
 "nbformat_minor": 1
}
