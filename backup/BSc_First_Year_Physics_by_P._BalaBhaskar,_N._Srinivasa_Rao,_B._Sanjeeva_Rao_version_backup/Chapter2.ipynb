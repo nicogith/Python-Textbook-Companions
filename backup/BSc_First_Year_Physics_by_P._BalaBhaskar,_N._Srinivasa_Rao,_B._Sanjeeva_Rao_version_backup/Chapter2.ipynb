{
 "cells": [
  {
   "cell_type": "markdown",
   "metadata": {},
   "source": [
    "# 2: Mechanics of Particles"
   ]
  },
  {
   "cell_type": "markdown",
   "metadata": {},
   "source": [
    "## Example number 1, Page number 75"
   ]
  },
  {
   "cell_type": "code",
   "execution_count": 2,
   "metadata": {
    "collapsed": false
   },
   "outputs": [
    {
     "name": "stdout",
     "output_type": "stream",
     "text": [
      "momentum of electron is 5.37 *10**-19 gm cm/sec\n",
      "velocity of truck in 1st case is 12 m/sec\n",
      "velocity of truck in 2nd case is 18.97 m/sec\n"
     ]
    }
   ],
   "source": [
    "#importing modules\n",
    "import math\n",
    "from __future__ import division\n",
    "\n",
    "#Variable declaration\n",
    "m=9*10**-28;       #mass(gram)\n",
    "E=100;             #kinetic energy(eV)\n",
    "e=1.6*10**-12;     #kinetic energy(erg)\n",
    "mc=4000;           #mass of car(kg)\n",
    "mt=10000;          #mass of truck(kg)\n",
    "vc=30;             #speed of car(m/s)\n",
    "\n",
    "#Calculation\n",
    "P=math.sqrt(E*e*2*m);      #momentum of electron(gm cm/sec)\n",
    "vt=mc*vc/mt;               #velocity of truck in 1st case(m/sec)\n",
    "v1=math.sqrt(mc*vc**2/mt);      #velocity of truck in 2nd case(m/sec)\n",
    "\n",
    "#Result\n",
    "print \"momentum of electron is\",round(P*10**19,2),\"*10**-19 gm cm/sec\"\n",
    "print \"velocity of truck in 1st case is\",int(vt),\"m/sec\"\n",
    "print \"velocity of truck in 2nd case is\",round(v1,2),\"m/sec\""
   ]
  },
  {
   "cell_type": "markdown",
   "metadata": {},
   "source": [
    "## Example number 2, Page number 76"
   ]
  },
  {
   "cell_type": "code",
   "execution_count": 8,
   "metadata": {
    "collapsed": false
   },
   "outputs": [
    {
     "name": "stdout",
     "output_type": "stream",
     "text": [
      "magnitude of velocity is 10 *math.sqrt(2) m/sec\n",
      "direction of velocity is 135 degrees or 225 degrees\n"
     ]
    }
   ],
   "source": [
    "#importing modules\n",
    "import math\n",
    "from __future__ import division\n",
    "\n",
    "#Variable declaration\n",
    "v=30;         #speed(m/sec)\n",
    "P1=30;        #momentum of 1st part(i)\n",
    "P2=30;        #momentum of 2nd part(j)\n",
    "P3=3;         #momentum of 3rd part(v)\n",
    "\n",
    "#Calculation\n",
    "#from conservation of momentum, 30i+30j+3v=0. from which we get v=-10(i+j)\n",
    "i=1;         #coordinate of i\n",
    "j=1;         #coordinate of j\n",
    "m=math.sqrt(i**2+j**2);       #magnitude\n",
    "mv=10*m;                     #magnitude of velocity(m/sec)\n",
    "vbar=math.acos(-10/mv);       #direction of velocity(rad)      \n",
    "vbar1=int(vbar*180/math.pi);   #direction of velocity(degrees)\n",
    "vbar2=360-vbar1;               #direction of velocity(degrees) \n",
    "\n",
    "#Result\n",
    "print \"magnitude of velocity is\",int(mv/math.sqrt(2)),\"*math.sqrt(2) m/sec\"\n",
    "print \"direction of velocity is\",vbar1,\"degrees or\",vbar2,\"degrees\""
   ]
  },
  {
   "cell_type": "markdown",
   "metadata": {},
   "source": [
    "## Example number 3, Page number 77"
   ]
  },
  {
   "cell_type": "code",
   "execution_count": 3,
   "metadata": {
    "collapsed": false
   },
   "outputs": [
    {
     "name": "stdout",
     "output_type": "stream",
     "text": [
      "ratio of mass of fuel to empty rocket is 1095\n",
      "answer given in the book is wrong\n",
      "time is 9.99 sec\n"
     ]
    }
   ],
   "source": [
    "#importing modules\n",
    "import math\n",
    "from __future__ import division\n",
    "\n",
    "#Variable declaration\n",
    "v0=0;      #initial velocity of rocket\n",
    "vr=1.6;    #velocity of gases(km/sec)\n",
    "v=11.2;    #final velocity(km/sec)\n",
    "alphabyM0=1/10;      #fuel burnt rate\n",
    "\n",
    "#Calculation\n",
    "#assume x=log(M0/M)\n",
    "x=(v-v0)/vr;     \n",
    "M0byM=math.exp(x);    \n",
    "MfbyMe=M0byM-1;             #ratio of mass of fuel to empty rocket\n",
    "t=(1-(1/M0byM))*(1/alphabyM0);        #time(sec)\n",
    "\n",
    "#Result\n",
    "print \"ratio of mass of fuel to empty rocket is\",int(MfbyMe)\n",
    "print \"answer given in the book is wrong\"\n",
    "print \"time is\",round(t,2),\"sec\""
   ]
  },
  {
   "cell_type": "markdown",
   "metadata": {},
   "source": [
    "## Example number 4, Page number 78"
   ]
  },
  {
   "cell_type": "code",
   "execution_count": 17,
   "metadata": {
    "collapsed": false
   },
   "outputs": [
    {
     "name": "stdout",
     "output_type": "stream",
     "text": [
      "final velocity of rocket is 7.82 km/sec\n"
     ]
    }
   ],
   "source": [
    "#importing modules\n",
    "import math\n",
    "from __future__ import division\n",
    "\n",
    "#Variable declaration\n",
    "m1=300;     #mass in 1st stage(kg)\n",
    "m2=30;      #mass in 2nd stage(kg)\n",
    "m3=2400;    #fuel filled(kg)\n",
    "m4=270;     #fuel filled(kg)\n",
    "u=2;        #velocity(km/sec)\n",
    "\n",
    "#Calculation\n",
    "M0=m1+m2+m3+m4;      #mass(kg)\n",
    "M=m1+m2+m4;          #mass(kg)\n",
    "v0=u*math.log(M0/M);      #initial velocity of rocket to the second stage(km/sec)\n",
    "M01=m2+m4;                #mass(kg)\n",
    "V=v0+(u*math.log(M01/m2));      #final velocity of rocket(km/sec)\n",
    "\n",
    "#Result\n",
    "print \"final velocity of rocket is\",round(V,2),\"km/sec\""
   ]
  },
  {
   "cell_type": "markdown",
   "metadata": {},
   "source": [
    "## Example number 5, Page number 79"
   ]
  },
  {
   "cell_type": "code",
   "execution_count": 19,
   "metadata": {
    "collapsed": false
   },
   "outputs": [
    {
     "name": "stdout",
     "output_type": "stream",
     "text": [
      "final velocity of rocket is 2.8 km/sec\n"
     ]
    }
   ],
   "source": [
    "#importing modules\n",
    "import math\n",
    "from __future__ import division\n",
    "\n",
    "#Variable declaration\n",
    "mr=40;      #mass of rocket(kg)\n",
    "mf=360;     #mass of fuel(kg)\n",
    "g=9.8;      #acceleration due to gravity(kg/m**2)\n",
    "v=2*10**3;  #exhaust velocity(m/sec)\n",
    "v0=0;       #velocity(m/sec)\n",
    "\n",
    "#Calculation\n",
    "M=mr+mf;            #mass(kg)\n",
    "dmbydt=M*g/v;       #thrust(kg/sec)\n",
    "t=mf/dmbydt;        #time taken(sec)\n",
    "Vmax=v0+(v*math.log(M/mr))-(g*t);       #final velocity of rocket(m/sec)\n",
    "\n",
    "#Result\n",
    "print \"final velocity of rocket is\",round(Vmax/10**3,1),\"km/sec\""
   ]
  },
  {
   "cell_type": "markdown",
   "metadata": {},
   "source": [
    "## Example number 6, Page number 80"
   ]
  },
  {
   "cell_type": "code",
   "execution_count": 25,
   "metadata": {
    "collapsed": false
   },
   "outputs": [
    {
     "name": "stdout",
     "output_type": "stream",
     "text": [
      "thrust on rocket is 98 kg/sec\n",
      "thrust on rocket to give acceleration is 398 kg/sec\n"
     ]
    }
   ],
   "source": [
    "#importing modules\n",
    "import math\n",
    "from __future__ import division\n",
    "\n",
    "#Variable declaration\n",
    "g=9.8;      #acceleration due to gravity(kg/m**2)\n",
    "vr=800;     #exhaust velocity(m/sec)\n",
    "M=8000;     #mass(kg)\n",
    "a=30;       #acceleration(m/s**2)\n",
    "\n",
    "#Calculation\n",
    "dMbydt=M*g/vr;       #thrust on rocket(kg/sec)\n",
    "dMbydt1=M*(g+a)/vr;      #thrust on rocket to give acceleration(kg/sec)\n",
    "\n",
    "#Result\n",
    "print \"thrust on rocket is\",int(dMbydt),\"kg/sec\"\n",
    "print \"thrust on rocket to give acceleration is\",int(dMbydt1),\"kg/sec\""
   ]
  },
  {
   "cell_type": "markdown",
   "metadata": {},
   "source": [
    "## Example number 8, Page number 81"
   ]
  },
  {
   "cell_type": "code",
   "execution_count": 27,
   "metadata": {
    "collapsed": false
   },
   "outputs": [
    {
     "name": "stdout",
     "output_type": "stream",
     "text": [
      "thrust acting on rocket is 200 N\n"
     ]
    }
   ],
   "source": [
    "#importing modules\n",
    "import math\n",
    "from __future__ import division\n",
    "\n",
    "#Variable declaration\n",
    "urel=10000;      #exhaust velocity(m/s)\n",
    "dMbydt=0.02;     #rate of fuel burnt(kg/sec)\n",
    "\n",
    "#Calculation\n",
    "Freaction=urel*dMbydt;       #thrust acting on rocket(N)\n",
    "\n",
    "#Result\n",
    "print \"thrust acting on rocket is\",int(Freaction),\"N\""
   ]
  },
  {
   "cell_type": "markdown",
   "metadata": {},
   "source": [
    "## Example number 9, Page number 82"
   ]
  },
  {
   "cell_type": "code",
   "execution_count": 32,
   "metadata": {
    "collapsed": false
   },
   "outputs": [
    {
     "name": "stdout",
     "output_type": "stream",
     "text": [
      "final velocity of rocket is 4.4 km/sec\n"
     ]
    }
   ],
   "source": [
    "#importing modules\n",
    "import math\n",
    "from __future__ import division\n",
    "\n",
    "#Variable declaration\n",
    "M=5000;      #mass of rocket(kg)\n",
    "mf=40000;     #mass of fuel(kg)\n",
    "urel=2*10**3;  #exhaust velocity(m/sec)\n",
    "v0=0; \n",
    "\n",
    "#Calculation\n",
    "M0=M+mf;            #mass(kg)\n",
    "V=v0+(urel*math.log(M0/M));       #maximum velocity of rocket(m/sec)\n",
    "\n",
    "#Result\n",
    "print \"final velocity of rocket is\",round(V/10**3,1),\"km/sec\""
   ]
  },
  {
   "cell_type": "markdown",
   "metadata": {},
   "source": [
    "## Example number 10, Page number 82"
   ]
  },
  {
   "cell_type": "code",
   "execution_count": 39,
   "metadata": {
    "collapsed": false
   },
   "outputs": [
    {
     "name": "stdout",
     "output_type": "stream",
     "text": [
      "recoil velocity of nucleus is 0.27 *10**5 m/s\n",
      "direction of momentum of nucleus is 150.0 degrees\n",
      "kinetic energy is 0.145 *10**-15 J\n"
     ]
    }
   ],
   "source": [
    "#importing modules\n",
    "import math\n",
    "from __future__ import division\n",
    "\n",
    "#Variable declaration\n",
    "P1=9.22*10**-21;     #momentum(kgm/s)\n",
    "P2=5.33*10**-21;     #momentum(kgm/s)\n",
    "m=3.9*10**-25;       #mass of nucleus(kg)\n",
    "\n",
    "#Calculation\n",
    "P=math.sqrt(P1**2+P2**2);     #momentum(kgm/s)\n",
    "V=P/m;       #recoil velocity of nucleus(m/s)\n",
    "theta=math.atan(P2/P1);       #direction of momentum of nucleus(rad)\n",
    "theta=180-(theta*180/math.pi);      #direction of momentum of nucleus(degrees) \n",
    "K=P**2/(2*m);                 #kinetic energy(J)\n",
    "\n",
    "#Result\n",
    "print \"recoil velocity of nucleus is\",round(V/10**5,2),\"*10**5 m/s\"\n",
    "print \"direction of momentum of nucleus is\",round(theta),\"degrees\"\n",
    "print \"kinetic energy is\",round(K*10**15,3),\"*10**-15 J\""
   ]
  },
  {
   "cell_type": "markdown",
   "metadata": {},
   "source": [
    "## Example number 13, Page number 86"
   ]
  },
  {
   "cell_type": "code",
   "execution_count": 42,
   "metadata": {
    "collapsed": false
   },
   "outputs": [
    {
     "name": "stdout",
     "output_type": "stream",
     "text": [
      "recoil velocity of residual is -2.564 *10**5 m/s\n",
      "kinetic energy of residual is 0.068 MeV\n"
     ]
    }
   ],
   "source": [
    "#importing modules\n",
    "import math\n",
    "from __future__ import division\n",
    "\n",
    "#Variable declaration\n",
    "malpha=4;       #kinetic energy of alpha particle(MeV)\n",
    "mth=234;        #mass of thorium(kg)\n",
    "valpha=1.5*10**7;      #velocity(m/s)\n",
    "\n",
    "#Calculation\n",
    "vth=-malpha*valpha/mth;       #recoil velocity of residual(m/s)\n",
    "Kalpha=malpha;                #kinetic energy of alpha(MeV)\n",
    "Kth=malpha*Kalpha/mth;               #kinetic energy of residual(MeV)\n",
    "\n",
    "#Result\n",
    "print \"recoil velocity of residual is\",round(vth/10**5,3),\"*10**5 m/s\"\n",
    "print \"kinetic energy of residual is\",round(Kth,3),\"MeV\""
   ]
  },
  {
   "cell_type": "markdown",
   "metadata": {},
   "source": [
    "## Example number 14, Page number 86"
   ]
  },
  {
   "cell_type": "code",
   "execution_count": 53,
   "metadata": {
    "collapsed": false
   },
   "outputs": [
    {
     "name": "stdout",
     "output_type": "stream",
     "text": [
      "velocity before collision is 5.196\n",
      "velocity after collision is 5.196\n",
      "kinetic energy before collision is 40.5*m\n",
      "kinetic energy before collision is 27.0*m\n",
      "energy is not conserved\n"
     ]
    }
   ],
   "source": [
    "#importing modules\n",
    "import math\n",
    "from __future__ import division\n",
    "from sympy import Symbol\n",
    "\n",
    "#Variable declaration\n",
    "u1=9;     #velocity(m/sec)\n",
    "theta=30*math.pi/180;       #scattering angle(rad)\n",
    "u2=0;                       #velocity(m/sec)\n",
    "m=Symbol(\"m\");\n",
    "\n",
    "#Calculation\n",
    "v1plusv2=u1/math.cos(theta);      \n",
    "v1minusv2=u2/math.cos(180-theta);    \n",
    "v1=(v1plusv2+v1minusv2)/2;           #velocity before collision\n",
    "v2=(v1plusv2-v1minusv2)/2;           #velocity after collisiovelocity after collision isn,v2\n",
    "KE1=(m*(u1**2/2))+(m*(u2**2/2));                #kinetic energy before collision\n",
    "KE2=((m*v1**2)/2)+((m*v2**2)/2);                #kinetic energy before collision\n",
    "\n",
    "#Result\n",
    "print \"velocity before collision is\",round(v1,3)\n",
    "print \"velocity after collision is\",round(v2,3)\n",
    "print \"kinetic energy before collision is\",KE1\n",
    "print \"kinetic energy before collision is\",KE2\n",
    "print \"energy is not conserved\""
   ]
  }
 ],
 "metadata": {
  "kernelspec": {
   "display_name": "Python 2",
   "language": "python",
   "name": "python2"
  },
  "language_info": {
   "codemirror_mode": {
    "name": "ipython",
    "version": 2
   },
   "file_extension": ".py",
   "mimetype": "text/x-python",
   "name": "python",
   "nbconvert_exporter": "python",
   "pygments_lexer": "ipython2",
   "version": "2.7.11"
  }
 },
 "nbformat": 4,
 "nbformat_minor": 0
}
