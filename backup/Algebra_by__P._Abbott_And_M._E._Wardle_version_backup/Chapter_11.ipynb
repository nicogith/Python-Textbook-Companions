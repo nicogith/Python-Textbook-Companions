{
 "cells": [
  {
   "cell_type": "markdown",
   "metadata": {},
   "source": [
    "# Chapter 11 Factors"
   ]
  },
  {
   "cell_type": "markdown",
   "metadata": {},
   "source": [
    "## Example 11_1 pgno:128"
   ]
  },
  {
   "cell_type": "code",
   "execution_count": 28,
   "metadata": {
    "collapsed": false
   },
   "outputs": [
    {
     "name": "stdout",
     "output_type": "stream",
     "text": [
      "6*a^2+3*a*c \n",
      "=> 3a(2a+c)\n"
     ]
    }
   ],
   "source": [
    "\n",
    "#factors of 6a^2 + 3ac\n",
    "print ('6*a^2+3*a*c ')\n",
    "print('=> 3a(2a+c)')\n"
   ]
  },
  {
   "cell_type": "markdown",
   "metadata": {},
   "source": [
    "## Example 11_2 pgno:128"
   ]
  },
  {
   "cell_type": "code",
   "execution_count": 29,
   "metadata": {
    "collapsed": false
   },
   "outputs": [
    {
     "name": "stdout",
     "output_type": "stream",
     "text": [
      "\n",
      " the highest common factor to each term is 5 and other factor is y \n",
      "\n",
      "5y(x^2y-2x^2+4y)\n"
     ]
    }
   ],
   "source": [
    "\n",
    "#5*x^2*y^2-10*x^2*y+20*y^2\n",
    "\n",
    "print\"\\n the highest common factor to each term is 5 and other factor is y \\n\"\n",
    "print('5y(x^2y-2x^2+4y)')\n"
   ]
  },
  {
   "cell_type": "markdown",
   "metadata": {},
   "source": [
    "## Example 11_3 pgno:129"
   ]
  },
  {
   "cell_type": "code",
   "execution_count": 30,
   "metadata": {
    "collapsed": false
   },
   "outputs": [
    {
     "name": "stdout",
     "output_type": "stream",
     "text": [
      " \n",
      " (a^2+ac)+(ad+cd) => a(a+c)+d(a+d)  \n",
      "\n",
      "the factors are:\n",
      "(a+c)(a+d)\n"
     ]
    }
   ],
   "source": [
    "\n",
    "#factors of a^2+cd+ad+ac\n",
    "\n",
    "print(\" \\n (a^2+ac)+(ad+cd) => a(a+c)+d(a+d)  \\n\")\n",
    "print(\"the factors are:\")\n",
    "print('(a+c)(a+d)')\n",
    "\n",
    "\n"
   ]
  },
  {
   "cell_type": "markdown",
   "metadata": {},
   "source": [
    "## Example 11_4 pgno:130"
   ]
  },
  {
   "cell_type": "code",
   "execution_count": 31,
   "metadata": {
    "collapsed": false
   },
   "outputs": [
    {
     "name": "stdout",
     "output_type": "stream",
     "text": [
      "\n",
      " there are no factors of this expression\n"
     ]
    }
   ],
   "source": [
    "\n",
    "#factorize, if possible,ab+ac+bc+bd\n",
    "\n",
    "print(\"\\n there are no factors of this expression\")\n"
   ]
  },
  {
   "cell_type": "markdown",
   "metadata": {},
   "source": [
    "## Example 11_5 pgno:130"
   ]
  },
  {
   "cell_type": "code",
   "execution_count": 32,
   "metadata": {
    "collapsed": false
   },
   "outputs": [
    {
     "name": "stdout",
     "output_type": "stream",
     "text": [
      "(ab-5a)-(3b-15) => a(b-5)-3(b-5)\n",
      "\n",
      " the factors are: \n",
      "\n",
      "(b-5)(a-3)\n"
     ]
    }
   ],
   "source": [
    "\n",
    "#factors of ab-5a-3b+15\n",
    "\n",
    "#by arrangement into suitable pairs,\n",
    "print(\"(ab-5a)-(3b-15) => a(b-5)-3(b-5)\")\n",
    "print(\"\\n the factors are: \\n\")\n",
    "print('(b-5)(a-3)')\n"
   ]
  },
  {
   "cell_type": "markdown",
   "metadata": {},
   "source": [
    "## Example 11_6 pgno:131"
   ]
  },
  {
   "cell_type": "code",
   "execution_count": 33,
   "metadata": {
    "collapsed": false
   },
   "outputs": [
    {
     "name": "stdout",
     "output_type": "stream",
     "text": [
      "[-9. -4.]\n"
     ]
    }
   ],
   "source": [
    "\n",
    "#x^2+13*x+36\n",
    "import numpy\n",
    "\n",
    "#x^2+13*x+36;\n",
    "p=numpy.array([1, 13, 36])\n",
    "x=numpy.roots(p)\n",
    "print x\n"
   ]
  },
  {
   "cell_type": "markdown",
   "metadata": {},
   "source": [
    "## Example 11_7 pgno:131"
   ]
  },
  {
   "cell_type": "code",
   "execution_count": 34,
   "metadata": {
    "collapsed": false
   },
   "outputs": [
    {
     "name": "stdout",
     "output_type": "stream",
     "text": [
      "[ 9.  4.]\n"
     ]
    }
   ],
   "source": [
    "\n",
    "#x^2-13*x+36\n",
    "import numpy\n",
    "p=numpy.array([1, -13, 36])\n",
    "x=numpy.roots(p)\n",
    "print x\n"
   ]
  },
  {
   "cell_type": "markdown",
   "metadata": {},
   "source": [
    "## Example 11_8 pgno:132"
   ]
  },
  {
   "cell_type": "code",
   "execution_count": 35,
   "metadata": {
    "collapsed": false
   },
   "outputs": [
    {
     "name": "stdout",
     "output_type": "stream",
     "text": [
      "[ 10.   3.]\n"
     ]
    }
   ],
   "source": [
    "\n",
    "#y^2-13*y+30\n",
    "import numpy\n",
    "\n",
    "p=numpy.array([1, -13, 30]);\n",
    "y=numpy.roots(p)\n",
    "print y\n"
   ]
  },
  {
   "cell_type": "markdown",
   "metadata": {},
   "source": [
    "## Example 11_9 pgno:132"
   ]
  },
  {
   "cell_type": "code",
   "execution_count": 8,
   "metadata": {
    "collapsed": false
   },
   "outputs": [
    {
     "name": "stdout",
     "output_type": "stream",
     "text": [
      "[ 9. -4.]\n"
     ]
    }
   ],
   "source": [
    "\n",
    "#x^2-5*x-36\n",
    "import numpy\n",
    "p=numpy.array([1, -5, -36])\n",
    "x=numpy.roots(p)\n",
    "print x\n"
   ]
  },
  {
   "cell_type": "markdown",
   "metadata": {},
   "source": [
    "## Example 11_10 pgno:132"
   ]
  },
  {
   "cell_type": "code",
   "execution_count": 36,
   "metadata": {
    "collapsed": false
   },
   "outputs": [
    {
     "name": "stdout",
     "output_type": "stream",
     "text": [
      "[-14.   2.]\n"
     ]
    }
   ],
   "source": [
    "\n",
    "#x^2+12*x-28\n",
    "import numpy\n",
    "p=numpy.array([1, 12, -28])\n",
    "x=numpy.roots(p)\n",
    "print x\n"
   ]
  },
  {
   "cell_type": "markdown",
   "metadata": {},
   "source": [
    "## Example 11_11 pgno:132"
   ]
  },
  {
   "cell_type": "code",
   "execution_count": 37,
   "metadata": {
    "collapsed": false
   },
   "outputs": [
    {
     "name": "stdout",
     "output_type": "stream",
     "text": [
      "[ 4.+5.65685425j  4.-5.65685425j]\n",
      "the second letter b will appear in 1st term of each factor\n",
      "ans(1)=(4b+a)\n",
      "ans(2)=(-12b+a)\n"
     ]
    }
   ],
   "source": [
    "#a^2-8*a*b-48*b^2\n",
    "import numpy\n",
    "p=numpy.array([1, -8, 48])\n",
    "x=numpy.roots(p)\n",
    "print x\n",
    "\n",
    "print \"the second letter b will appear in 1st term of each factor\"\n",
    "print \"ans(1)=(4b+a)\";                                    \n",
    "print \"ans(2)=(-12b+a)\""
   ]
  },
  {
   "cell_type": "markdown",
   "metadata": {},
   "source": [
    "## Example 11_12 pgno:133"
   ]
  },
  {
   "cell_type": "code",
   "execution_count": 38,
   "metadata": {
    "collapsed": false
   },
   "outputs": [
    {
     "name": "stdout",
     "output_type": "stream",
     "text": [
      "(array([-3. , -0.5]), 'the factors of 2*x^2+7*x+3 are')\n"
     ]
    }
   ],
   "source": [
    "#2*x^2+7*x+3\n",
    "\n",
    "import numpy\n",
    "p=numpy.array([2, 7, 3])\n",
    "x=numpy.roots(p)\n",
    "\n",
    "\n",
    "print(x,\"the factors of 2*x^2+7*x+3 are\")"
   ]
  },
  {
   "cell_type": "markdown",
   "metadata": {},
   "source": [
    "## Example 11_13 pgno:133"
   ]
  },
  {
   "cell_type": "code",
   "execution_count": 39,
   "metadata": {
    "collapsed": false
   },
   "outputs": [
    {
     "ename": "SyntaxError",
     "evalue": "invalid syntax (<ipython-input-39-753e9ac8844c>, line 8)",
     "output_type": "error",
     "traceback": [
      "\u001b[1;36m  File \u001b[1;32m\"<ipython-input-39-753e9ac8844c>\"\u001b[1;36m, line \u001b[1;32m8\u001b[0m\n\u001b[1;33m    print x\"the factors of 6*x^2+17*x-3 are\"\u001b[0m\n\u001b[1;37m                                           ^\u001b[0m\n\u001b[1;31mSyntaxError\u001b[0m\u001b[1;31m:\u001b[0m invalid syntax\n"
     ]
    }
   ],
   "source": [
    "\n",
    "#6*x^2+17*x-3\n",
    "import numpy\n",
    "p=numpy.array([6, 17, -3])\n",
    "x=numpy.roots(p)\n",
    "\n",
    "#multiply by 6 the p1 factors to get the original factors of p\n",
    "print x\"the factors of 6*x^2+17*x-3 are\"                                                                                                                                                                                                                                                                                                                                                                                                                                                                                                                                                                                                                                                                \n"
   ]
  },
  {
   "cell_type": "markdown",
   "metadata": {},
   "source": [
    "## Example 11_14 pgno:133"
   ]
  },
  {
   "cell_type": "code",
   "execution_count": 40,
   "metadata": {
    "collapsed": false
   },
   "outputs": [
    {
     "name": "stdout",
     "output_type": "stream",
     "text": [
      "[ 5.   -0.75] the factors of 4*x^2-17*x-15 are\n"
     ]
    }
   ],
   "source": [
    "\n",
    "#4*x^2-17*x-15\n",
    "import numpy\n",
    "p=numpy.array([4, -17, -15])\n",
    "x=numpy.roots(p)\n",
    "\n",
    "print x,\"the factors of 4*x^2-17*x-15 are\"                                                                                                                                                                                                                                                                                                                                                                                                                                                                                                                                                                                                                                        \n"
   ]
  },
  {
   "cell_type": "markdown",
   "metadata": {},
   "source": [
    "## Example 11_15 pgno:136"
   ]
  },
  {
   "cell_type": "code",
   "execution_count": 41,
   "metadata": {
    "collapsed": false
   },
   "outputs": [
    {
     "name": "stdout",
     "output_type": "stream",
     "text": [
      "[ 0.1 -0.1] is the complete square of binomial\n"
     ]
    }
   ],
   "source": [
    "\n",
    "#100*x^2-1\n",
    "import numpy\n",
    "p=numpy.array([100, 0, -1])\n",
    "x=numpy.roots(p)\n",
    "print x,\"is the complete square of binomial\"\n",
    "\n",
    "                                                                                                                                                                                                                                                                                                                                                                                                                                                                                                                                 \n"
   ]
  },
  {
   "cell_type": "markdown",
   "metadata": {},
   "source": [
    "## Example 11_16 pgno:136"
   ]
  },
  {
   "cell_type": "code",
   "execution_count": 42,
   "metadata": {
    "collapsed": false
   },
   "outputs": [
    {
     "name": "stdout",
     "output_type": "stream",
     "text": [
      "36*a^2*b^2-25=(6ab+5)(6ab-5)\n"
     ]
    }
   ],
   "source": [
    "\n",
    "#36*a^2*b^2-25\n",
    "\n",
    "#the numbers squared are 6ab and 5\")\n",
    "print (\"36*a^2*b^2-25=(6ab+5)(6ab-5)\") \n",
    "                                                                                                                                                                                                                                                                                                                                                                                                                                                                                                                                 \n"
   ]
  },
  {
   "cell_type": "markdown",
   "metadata": {},
   "source": [
    "## Example 11_17 pgno:136"
   ]
  },
  {
   "cell_type": "code",
   "execution_count": 43,
   "metadata": {
    "collapsed": false
   },
   "outputs": [
    {
     "name": "stdout",
     "output_type": "stream",
     "text": [
      "(a+b+c)(a+b-c)\n"
     ]
    }
   ],
   "source": [
    "\n",
    "#factorize (a+b)^2 - c^2\n",
    "\n",
    "#using the formula, a^2-b^2=(a+b)(a-b)\n",
    "print ('(a+b+c)(a+b-c)')\n"
   ]
  },
  {
   "cell_type": "markdown",
   "metadata": {},
   "source": [
    "## Example 11_18 pgno:136"
   ]
  },
  {
   "cell_type": "code",
   "execution_count": 44,
   "metadata": {
    "collapsed": false
   },
   "outputs": [
    {
     "name": "stdout",
     "output_type": "stream",
     "text": [
      "(b+c)(2a+b-c)\n"
     ]
    }
   ],
   "source": [
    "\n",
    "#factorize (a+b)^2 - (c-a)^2\n",
    "\n",
    "#using the formula, a^2-b^2=(a+b)(a-b)\n",
    "print ('(b+c)(2a+b-c)')\n",
    "                                   \n"
   ]
  },
  {
   "cell_type": "markdown",
   "metadata": {},
   "source": [
    "## Example 11_19 pgno:136"
   ]
  },
  {
   "cell_type": "code",
   "execution_count": 47,
   "metadata": {
    "collapsed": false
   },
   "outputs": [
    {
     "name": "stdout",
     "output_type": "stream",
     "text": [
      "1750.0\n"
     ]
    }
   ],
   "source": [
    "print 47.5**2-22.5**2"
   ]
  },
  {
   "cell_type": "markdown",
   "metadata": {},
   "source": [
    "## Example 11_20 pgno:136"
   ]
  },
  {
   "cell_type": "code",
   "execution_count": 48,
   "metadata": {
    "collapsed": false
   },
   "outputs": [
    {
     "name": "stdout",
     "output_type": "stream",
     "text": [
      "difference in area=pi mm**2 2520\n"
     ]
    }
   ],
   "source": [
    "\n",
    "\n",
    "#area of ring between 2 concentric circles.\n",
    "#given,r1=97mm,r2=83mm\n",
    "\n",
    "r1=97;r2=83;\n",
    "#the area of ring is difference between the areas of 2 circles\n",
    "diff_in_area=(r1**2-r2**2);\n",
    "print\"difference in area=pi mm**2\",diff_in_area"
   ]
  }
 ],
 "metadata": {
  "kernelspec": {
   "display_name": "Python 2",
   "language": "python",
   "name": "python2"
  },
  "language_info": {
   "codemirror_mode": {
    "name": "ipython",
    "version": 2
   },
   "file_extension": ".py",
   "mimetype": "text/x-python",
   "name": "python",
   "nbconvert_exporter": "python",
   "pygments_lexer": "ipython2",
   "version": "2.7.9"
  }
 },
 "nbformat": 4,
 "nbformat_minor": 0
}
