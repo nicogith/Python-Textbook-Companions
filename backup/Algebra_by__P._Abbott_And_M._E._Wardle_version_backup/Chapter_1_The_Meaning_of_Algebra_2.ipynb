{
 "cells": [
  {
   "cell_type": "markdown",
   "metadata": {},
   "source": [
    "# Chapter 1 The Meaning of Algebra"
   ]
  },
  {
   "cell_type": "markdown",
   "metadata": {},
   "source": [
    "## Example 1_1 pgno:19"
   ]
  },
  {
   "cell_type": "code",
   "execution_count": 1,
   "metadata": {
    "collapsed": false
   },
   "outputs": [
    {
     "name": "stdout",
     "output_type": "stream",
     "text": [
      " total no. of pence =100x+y \n"
     ]
    }
   ],
   "source": [
    "#ex1: no.of pence in x pounds added to y pence\n",
    "\n",
    "#to express pounds in pence, multiply by 100\n",
    "\n",
    "x=('x')\n",
    "x_pounds=100*x; # x_pounds=100*x pence\n",
    "print' total no. of pence =100x+y '\n",
    "\n",
    "\n",
    "\n"
   ]
  },
  {
   "cell_type": "markdown",
   "metadata": {},
   "source": [
    "## Example 1_2 pgno:19"
   ]
  },
  {
   "cell_type": "code",
   "execution_count": 2,
   "metadata": {
    "collapsed": false
   },
   "outputs": [
    {
     "name": "stdout",
     "output_type": "stream",
     "text": [
      "\n",
      "car travels *vkm in 20min 0.333333333333\n"
     ]
    }
   ],
   "source": [
    "#ex2:car travels t h at v km/h.how far it go in 20min\n",
    "\n",
    "#'car goes  1*v km in 1h  2*v km in 2h  ...  t*v km in th'\n",
    "x=20./60.;\n",
    "print'\\ncar travels *vkm in 20min',x\n",
    "\n",
    "\n",
    "\n"
   ]
  },
  {
   "cell_type": "markdown",
   "metadata": {},
   "source": [
    "## Example 1_3 pgno:19"
   ]
  },
  {
   "cell_type": "code",
   "execution_count": 2,
   "metadata": {
    "collapsed": false
   },
   "outputs": [
    {
     "name": "stdout",
     "output_type": "stream",
     "text": [
      "result in algebraic form: \n",
      "(3*x+5)/(4*y)\n"
     ]
    }
   ],
   "source": [
    "#ex3\n",
    "\n",
    "x='x'#is polynomial function of degree zero poly(0,'x');\n",
    "y='y'#is polynomial function of degree zero poly(0,'y');\n",
    "sum1='3*x+5';\n",
    "divisor='4*y';\n",
    "print\"result in algebraic form: \\n(3*x+5)/(4*y)\"\n"
   ]
  }
 ],
 "metadata": {
  "kernelspec": {
   "display_name": "Python 2",
   "language": "python",
   "name": "python2"
  },
  "language_info": {
   "codemirror_mode": {
    "name": "ipython",
    "version": 2
   },
   "file_extension": ".py",
   "mimetype": "text/x-python",
   "name": "python",
   "nbconvert_exporter": "python",
   "pygments_lexer": "ipython2",
   "version": "2.7.9"
  }
 },
 "nbformat": 4,
 "nbformat_minor": 0
}
