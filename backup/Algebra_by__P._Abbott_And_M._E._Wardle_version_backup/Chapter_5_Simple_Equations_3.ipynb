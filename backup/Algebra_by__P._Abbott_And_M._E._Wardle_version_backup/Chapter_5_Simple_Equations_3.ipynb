{
 "cells": [
  {
   "cell_type": "markdown",
   "metadata": {},
   "source": [
    "# Chapter 5 Simple Equations"
   ]
  },
  {
   "cell_type": "markdown",
   "metadata": {},
   "source": [
    "## Example 5_1 pgno:62"
   ]
  },
  {
   "cell_type": "code",
   "execution_count": 1,
   "metadata": {
    "collapsed": false
   },
   "outputs": [
    {
     "name": "stdout",
     "output_type": "stream",
     "text": [
      "expr=6*x-5=2*x+9\n",
      "3.5\n"
     ]
    }
   ],
   "source": [
    "print'expr=6*x-5=2*x+9'\n",
    "#by solving \n",
    "x=14./4.;\n",
    "print x\n"
   ]
  },
  {
   "cell_type": "markdown",
   "metadata": {},
   "source": [
    "## Example 5_2 pgno:62"
   ]
  },
  {
   "cell_type": "code",
   "execution_count": 2,
   "metadata": {
    "collapsed": false
   },
   "outputs": [
    {
     "name": "stdout",
     "output_type": "stream",
     "text": [
      "expr=10(x-4)=4(2x-1)+5\n",
      "20.5\n"
     ]
    }
   ],
   "source": [
    "print'expr=10(x-4)=4(2x-1)+5'\n",
    "#by solving \n",
    "x=41./2.;\n",
    "print x\n"
   ]
  },
  {
   "cell_type": "markdown",
   "metadata": {},
   "source": [
    "## Example 5_3 pgno:63"
   ]
  },
  {
   "cell_type": "code",
   "execution_count": 3,
   "metadata": {
    "collapsed": false
   },
   "outputs": [
    {
     "name": "stdout",
     "output_type": "stream",
     "text": [
      "expr=3*x/5+x/2=5*x/2-3\n",
      "20\n"
     ]
    }
   ],
   "source": [
    "print'expr=3*x/5+x/2=5*x/2-3'\n",
    "#by solving \n",
    "x=60/3;\n",
    "print x\n"
   ]
  },
  {
   "cell_type": "markdown",
   "metadata": {},
   "source": [
    "## Example 5_4 pgno:63"
   ]
  },
  {
   "cell_type": "code",
   "execution_count": 4,
   "metadata": {
    "collapsed": false
   },
   "outputs": [
    {
     "name": "stdout",
     "output_type": "stream",
     "text": [
      "expr=4*x-((x-2)/3)=5+((2*x+1)/4)\n",
      "1.44736842105\n"
     ]
    }
   ],
   "source": [
    "print'expr=4*x-((x-2)/3)=5+((2*x+1)/4)'\n",
    "#by solving \n",
    "x=55./38.;\n",
    "print x\n"
   ]
  }
 ],
 "metadata": {
  "kernelspec": {
   "display_name": "Python 2",
   "language": "python",
   "name": "python2"
  },
  "language_info": {
   "codemirror_mode": {
    "name": "ipython",
    "version": 2
   },
   "file_extension": ".py",
   "mimetype": "text/x-python",
   "name": "python",
   "nbconvert_exporter": "python",
   "pygments_lexer": "ipython2",
   "version": "2.7.9"
  }
 },
 "nbformat": 4,
 "nbformat_minor": 0
}
