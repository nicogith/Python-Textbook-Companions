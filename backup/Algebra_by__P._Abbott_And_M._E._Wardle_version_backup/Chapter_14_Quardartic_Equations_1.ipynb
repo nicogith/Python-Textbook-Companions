{
 "cells": [
  {
   "cell_type": "markdown",
   "metadata": {},
   "source": [
    "# Chapter 14 Quardartic Equations"
   ]
  },
  {
   "cell_type": "markdown",
   "metadata": {},
   "source": [
    "## Example 14_1 pgno:168"
   ]
  },
  {
   "cell_type": "code",
   "execution_count": 18,
   "metadata": {
    "collapsed": false
   },
   "outputs": [
    {
     "name": "stdout",
     "output_type": "stream",
     "text": [
      "the solution is \n",
      "\n",
      "{-sqrt(5)/2 + 1/2: 1, 1/2 + sqrt(5)/2: 1}\n"
     ]
    }
   ],
   "source": [
    "\n",
    "#x^2-x-1=0\n",
    "from sympy import *\n",
    "\n",
    "x=symbols('x')\n",
    "y=x**2-x-1;# y=0\n",
    "print\"the solution is \\n\"\n",
    "\n",
    "x=roots(y)\n",
    "print x\n",
    "\n"
   ]
  },
  {
   "cell_type": "markdown",
   "metadata": {},
   "source": [
    "## Example 14_2 pgno:168"
   ]
  },
  {
   "cell_type": "code",
   "execution_count": 19,
   "metadata": {
    "collapsed": false
   },
   "outputs": [
    {
     "name": "stdout",
     "output_type": "stream",
     "text": [
      "the solution is \n",
      "\n",
      "{-sqrt(13)/6 + 5/6: 1, sqrt(13)/6 + 5/6: 1}\n"
     ]
    }
   ],
   "source": [
    "\n",
    "#3*x^2-5*x+1=0\n",
    "from  sympy import *\n",
    "x=symbols('x');\n",
    "y=3*x**2-5*x+1;# y=0\n",
    "print\"the solution is \\n\"\n",
    "\n",
    "x=roots(y)\n",
    "\n",
    "print x\n",
    "\n"
   ]
  },
  {
   "cell_type": "markdown",
   "metadata": {},
   "source": [
    "## Example 14_3 pgno:168"
   ]
  },
  {
   "cell_type": "code",
   "execution_count": 21,
   "metadata": {
    "collapsed": false
   },
   "outputs": [
    {
     "name": "stdout",
     "output_type": "stream",
     "text": [
      "the solution is \n",
      "\n",
      "[-6.74456265  4.74456265]\n"
     ]
    }
   ],
   "source": [
    "\n",
    "from sympy import *\n",
    "import numpy\n",
    "x=symbols('x')\n",
    "p1=1/(x-1);\n",
    "p2=1/(x+2);\n",
    "y=p1-p2;\n",
    "y1=1./16.;\n",
    "a=numer(y)*denom(y1);\n",
    "b=numer(y1)*denom(y);\n",
    "r=a-b;\n",
    "print\"the solution is \\n\"\n",
    "x=numpy.roots([-1, -1, 8])\n",
    "print 2*x"
   ]
  },
  {
   "cell_type": "markdown",
   "metadata": {},
   "source": [
    "## Example 14_4 pgno:171"
   ]
  },
  {
   "cell_type": "code",
   "execution_count": 22,
   "metadata": {
    "collapsed": false
   },
   "outputs": [
    {
     "name": "stdout",
     "output_type": "stream",
     "text": [
      "the solution  is  \n",
      "\n",
      "('x=,', {-3: 1, 5: 1})\n"
     ]
    }
   ],
   "source": [
    "\n",
    "#x^2-2*x-15=0\n",
    "\n",
    "from sympy import *\n",
    "import numpy\n",
    "x=symbols('x');\n",
    "y=x**2-2*x-15;# y=0\n",
    "print\"the solution  is  \\n\"\n",
    "print(\"x=,\",roots(y))\n",
    "\n"
   ]
  },
  {
   "cell_type": "markdown",
   "metadata": {},
   "source": [
    "## Example 14_5 pgno:171"
   ]
  },
  {
   "cell_type": "code",
   "execution_count": 23,
   "metadata": {
    "collapsed": false
   },
   "outputs": [
    {
     "name": "stdout",
     "output_type": "stream",
     "text": [
      "the solution  is  \n",
      "\n",
      "('x=, \\n', {1/3: 1, -4/3: 1})\n"
     ]
    }
   ],
   "source": [
    "\n",
    "#9*x*(x+1)=4\n",
    "from sympy import *\n",
    "import numpy\n",
    "x=symbols('x')\n",
    "y=9*x*(x+1)-4; #y=0\n",
    "print\"the solution  is  \\n\"\n",
    "print(\"x=, \\n\",roots(y))\n"
   ]
  },
  {
   "cell_type": "markdown",
   "metadata": {},
   "source": [
    "## Example 14_6 pgno:173"
   ]
  },
  {
   "cell_type": "code",
   "execution_count": 24,
   "metadata": {
    "collapsed": false
   },
   "outputs": [
    {
     "name": "stdout",
     "output_type": "stream",
     "text": [
      "('\\t x= \\n  \\n or  ', 0.20000000000000001)\n",
      "(' x=', -2.0)\n"
     ]
    }
   ],
   "source": [
    "\n",
    "#5*x**2+9*x-2=0\n",
    "from sympy import *\n",
    "from numpy import sqrt\n",
    "x=symbols('x');\n",
    "y=5*x**2+9*x-2;\n",
    "a=5;b=9;c=-2;#from equation we get these values\n",
    "#using the formula - solution of quadratic equation ax**2+bx+c=0\n",
    "x=(-b+sqrt(b**2-4*a*c))/(2*a);\n",
    "print(\"\\t x= \\n  \\n or  \",x)\n",
    "x=(-b-sqrt(b**2-4*a*c))/(2*a);\n",
    "print(\" x=\",x)\n",
    "\n",
    " \n"
   ]
  },
  {
   "cell_type": "markdown",
   "metadata": {},
   "source": [
    "## Example 14_7 pgno:174"
   ]
  },
  {
   "cell_type": "code",
   "execution_count": 25,
   "metadata": {
    "collapsed": false
   },
   "outputs": [
    {
     "name": "stdout",
     "output_type": "stream",
     "text": [
      "the solution is\n",
      "5.21221445045\n",
      "or \n",
      "\n",
      "0.288\n"
     ]
    }
   ],
   "source": [
    "\n",
    "from sympy import *\n",
    "from math import sqrt\n",
    "\n",
    "x=symbols('x');\n",
    "p1=1/(x-1);\n",
    "p2=2./3.;\n",
    "p3=2/(x-3);\n",
    "p=(p1+p2-p3);\n",
    "p=3*numer(p);#As p=0 and to remove fractions, multiply by 3\n",
    "a=2;b=-11;c=3;#from equation we get these values\n",
    "#using the formula - solution of quadratic equation ax**2+bx+c=0\n",
    "print(\"the solution is\")\n",
    "\n",
    "x=(-b+sqrt(b**2-4*a*c))/(2*a)\n",
    "print x\n",
    "print(\"or \\n\")\n",
    "x=(-b-sqrt(b**2-4*a*c))/(2*a)\n",
    "print round(x,3)\n"
   ]
  },
  {
   "cell_type": "markdown",
   "metadata": {},
   "source": [
    "## Example 14_8 pgno:"
   ]
  },
  {
   "cell_type": "code",
   "execution_count": 26,
   "metadata": {
    "collapsed": false
   },
   "outputs": [
    {
     "name": "stdout",
     "output_type": "stream",
     "text": [
      "('\\n the solution  is  t= or t=\\n', 30.422, 1.578)\n"
     ]
    }
   ],
   "source": [
    "\n",
    "\n",
    "#given u=160,g=10,h=240\n",
    "from sympy import *\n",
    "from math import sqrt\n",
    "#using the formulae \"h=u*t-(g*t**2)/2\"\n",
    "u=160;\n",
    "g=10;\n",
    "h=240;\n",
    "t=symbols('t');\n",
    "r=(240-u*t+(g*t**2)/2)#u*t-(g*t**2)/2-h=0\n",
    "a=5;b=-160;c=240;#from equation we get these values\n",
    "#using the formulae - solution of quadratic equation ax**2+bx+c=0\n",
    "t=(-b+sqrt(b**2-4*a*c))/(2*a);\n",
    "t1=(-b-sqrt(b**2-4*a*c))/(2*a);\n",
    "print(\"\\n the solution  is  t= or t=\\n\",round(t,3),round(t1,3))#the answer given in textbook is wrong\n"
   ]
  },
  {
   "cell_type": "markdown",
   "metadata": {},
   "source": [
    "## Example 14_9 pgno:176"
   ]
  },
  {
   "cell_type": "code",
   "execution_count": 27,
   "metadata": {
    "collapsed": false
   },
   "outputs": [
    {
     "name": "stdout",
     "output_type": "stream",
     "text": [
      "avg. speed for 1st journey is x=24km/h\n",
      "('total_timefhours', 6)\n"
     ]
    }
   ],
   "source": [
    "\n",
    "from sympy import *\n",
    "import numpy\n",
    "#let x km/hr is avg. speed for 1st journey\n",
    "#as velocity=distance/time, time for 1st journey is 84/x hrs\n",
    "#speed for return journey is 84/(x+4).from given data, this is <1/2 hr than the 1st time \n",
    "x=symbols('x');\n",
    "#In algebraic form,(84/x)-(84/(x+4))=1/2\n",
    "y=(84/x)-(84/(x+4))-1/2; #y=0. so, numerator=0\n",
    "x=numpy.roots([-1, -4, 8])\n",
    "#x=roots(numer(y));\n",
    "#velocity can't be in negatives.take +ve root\n",
    "print(\"avg. speed for 1st journey is x=24km/h\")\n",
    "distance=84;#given\n",
    "velocity=24;#found\n",
    "time=distance/velocity;#time for 1st journey\n",
    "time1=distance/(velocity+4);#time for 2nd journey\n",
    "print(\"total_timefhours\",time+time1)\n"
   ]
  },
  {
   "cell_type": "markdown",
   "metadata": {},
   "source": [
    "## Example 14_10 pgno:179"
   ]
  },
  {
   "cell_type": "code",
   "execution_count": 28,
   "metadata": {
    "collapsed": false
   },
   "outputs": [
    {
     "name": "stdout",
     "output_type": "stream",
     "text": [
      "the solutions are: \n",
      "\n",
      "({-12/5: 1, 3: 1}, -x + 1)\n"
     ]
    }
   ],
   "source": [
    "#x+y=1, 38x^2-x*y+y^2=37\n",
    "from sympy import *\n",
    "x=symbols('x');\n",
    "y=1-x;\n",
    "#substitute y=1-x in equ. 38x^2-x*y+y^2=37\n",
    "Y=3*x**2-x*(1-x)+(1-x)**2-37;\n",
    "x=roots(Y);\n",
    "#y=1-x;\n",
    "print('the solutions are: \\n')\n",
    "print(x,y)\n"
   ]
  },
  {
   "cell_type": "markdown",
   "metadata": {},
   "source": [
    "## Example 14_11 pgno:180"
   ]
  },
  {
   "cell_type": "code",
   "execution_count": 29,
   "metadata": {
    "collapsed": false
   },
   "outputs": [
    {
     "name": "stdout",
     "output_type": "stream",
     "text": [
      "the solutions are: \n",
      "\n",
      "('(x,y)=() \\n', {12: 1, 7: 1})\n",
      "y=19-x\n"
     ]
    }
   ],
   "source": [
    "#x+y=19, xy=84\n",
    "from sympy import *\n",
    "x=symbols('x');\n",
    "#substitute y=19-x in xy=84\n",
    "Y=x*(19-x)-84;\n",
    "x=roots(Y);\n",
    "\n",
    "print('the solutions are: \\n')\n",
    "print(\"(x,y)=() \\n\",x)\n",
    "print 'y=19-x'\n"
   ]
  },
  {
   "cell_type": "markdown",
   "metadata": {},
   "source": [
    "## Example 14_12 pgno:181"
   ]
  },
  {
   "cell_type": "code",
   "execution_count": 17,
   "metadata": {
    "collapsed": false
   },
   "outputs": [
    {
     "name": "stdout",
     "output_type": "stream",
     "text": [
      "the solutions of (x,y) are: \n",
      "\n",
      "[array([ -1.02144599e+01+0.j        ,   1.02144599e+01+0.j        ,\n",
      "         1.11022302e-16+3.91601715j,   1.11022302e-16-3.91601715j]), {}]\n"
     ]
    }
   ],
   "source": [
    "\n",
    "#x**2+y**2=89, xy=40\n",
    "from sympy import *\n",
    "import numpy\n",
    "x=symbols('x');\n",
    "#substitute y=40/x in x**2+y**2=89\n",
    "Y=x**2+(40/x)**2-89;\n",
    "x=numpy.roots([1, 0, -89, 0, -1600]);#Y=0, numerator=0\n",
    "y=roots(89-x**2);\n",
    "print('the solutions of (x,y) are: \\n')\n",
    "print [x,y]\n",
    "\n"
   ]
  }
 ],
 "metadata": {
  "kernelspec": {
   "display_name": "Python 2",
   "language": "python",
   "name": "python2"
  },
  "language_info": {
   "codemirror_mode": {
    "name": "ipython",
    "version": 2
   },
   "file_extension": ".py",
   "mimetype": "text/x-python",
   "name": "python",
   "nbconvert_exporter": "python",
   "pygments_lexer": "ipython2",
   "version": "2.7.9"
  }
 },
 "nbformat": 4,
 "nbformat_minor": 0
}
