{
 "cells": [
  {
   "cell_type": "markdown",
   "metadata": {},
   "source": [
    "#Chapter 20 Rational and Irrational Numbers"
   ]
  },
  {
   "cell_type": "markdown",
   "metadata": {},
   "source": [
    "## Example 20_1 pgno:251"
   ]
  },
  {
   "cell_type": "code",
   "execution_count": 2,
   "metadata": {
    "collapsed": false
   },
   "outputs": [
    {
     "name": "stdout",
     "output_type": "stream",
     "text": [
      "(sqrt(5)+sqrt(20))\n",
      "sqrt(27)-sqrt(75)+sqrt(48)\n"
     ]
    }
   ],
   "source": [
    "\n",
    "#ex(1) (sqrt(5)+sqrt(20))\n",
    "from math import sqrt\n",
    "val=(sqrt(5)+sqrt(20))\n",
    "\n",
    "print ('(sqrt(5)+sqrt(20))');\n",
    "if((sqrt(5)+sqrt(20))==3*sqrt(5)):  \n",
    "    val_1=(val)\n",
    "\n",
    "#ex(2) sqrt(27)-sqrt(75)+sqrt(48)\n",
    "print ('sqrt(27)-sqrt(75)+sqrt(48)');\n",
    "val_2=(val)\n",
    "\n",
    "    \n"
   ]
  },
  {
   "cell_type": "markdown",
   "metadata": {},
   "source": [
    "## Example 20_2 pgno:252"
   ]
  },
  {
   "cell_type": "code",
   "execution_count": 3,
   "metadata": {
    "collapsed": false
   },
   "outputs": [
    {
     "name": "stdout",
     "output_type": "stream",
     "text": [
      "i.e.,\n",
      "1.21676051329\n"
     ]
    }
   ],
   "source": [
    "\n",
    "#1/(sqrt(5)-sqrt(2))\n",
    "from math import sqrt\n",
    "#rationalising the denominator\n",
    "\n",
    "denom1=(sqrt(5)+sqrt(2))*(sqrt(5)-sqrt(2))\n",
    "\n",
    "\n",
    "numer1=(sqrt(5)+sqrt(2))\n",
    "val=(numer1/denom1)\n",
    "print(\"i.e.,\")\n",
    "print val  \n"
   ]
  },
  {
   "cell_type": "markdown",
   "metadata": {},
   "source": [
    "## Example 20_3 pgno:252"
   ]
  },
  {
   "cell_type": "code",
   "execution_count": 4,
   "metadata": {
    "collapsed": false
   },
   "outputs": [
    {
     "name": "stdout",
     "output_type": "stream",
     "text": [
      "i.e.,\n",
      "0.38196601125\n"
     ]
    }
   ],
   "source": [
    "\n",
    "#(sqrt(5)-1)/(sqrt(5)+1)\n",
    "from math import sqrt\n",
    "#rationalising the denominator\n",
    "\n",
    "denom1=(sqrt(5)+sqrt(1))*(sqrt(5)-sqrt(1));\n",
    "\n",
    "\n",
    "\n",
    "numer1=(6-2*sqrt(5))\n",
    "val=(numer1/denom1)\n",
    "print(\"i.e.,\")\n",
    "print val"
   ]
  }
 ],
 "metadata": {
  "kernelspec": {
   "display_name": "Python 2",
   "language": "python",
   "name": "python2"
  },
  "language_info": {
   "codemirror_mode": {
    "name": "ipython",
    "version": 2
   },
   "file_extension": ".py",
   "mimetype": "text/x-python",
   "name": "python",
   "nbconvert_exporter": "python",
   "pygments_lexer": "ipython2",
   "version": "2.7.9"
  }
 },
 "nbformat": 4,
 "nbformat_minor": 0
}
