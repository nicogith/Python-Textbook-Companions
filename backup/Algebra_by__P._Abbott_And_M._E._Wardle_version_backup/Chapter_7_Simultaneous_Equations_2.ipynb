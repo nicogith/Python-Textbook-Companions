{
 "cells": [
  {
   "cell_type": "markdown",
   "metadata": {},
   "source": [
    "# Chapter 7 Simultaneous Equations"
   ]
  },
  {
   "cell_type": "markdown",
   "metadata": {},
   "source": [
    "## Example 7_1 pgno:79"
   ]
  },
  {
   "cell_type": "code",
   "execution_count": 11,
   "metadata": {
    "collapsed": false
   },
   "outputs": [
    {
     "name": "stdout",
     "output_type": "stream",
     "text": [
      "y=21-2*x\n",
      "(44-3*x)/4\n",
      "the number is  8\n",
      " the solution is :\n",
      " x=   8\n",
      " y=  5\n"
     ]
    }
   ],
   "source": [
    "#2x+y=21, 3x+4y=44\n",
    "import numpy\n",
    "print\"y=21-2*x\"\n",
    "p1=numpy.array([-2, 21])\n",
    "print\"(44-3*x)/4\"\n",
    "p2=numpy.array([-3/4, 44/4])\n",
    "\n",
    "\n",
    "for x in range(0,20):\n",
    "  if(21-2*x==(44-3*x)/4):\n",
    "    print\"the number is \",x\n",
    "    print\" the solution is :\\n x=  \",x\n",
    "    break\n",
    "y=21-2*x;\n",
    "#\"substitute the x value in any one of the above equations\"\n",
    "print\" y= \",y\n"
   ]
  },
  {
   "cell_type": "markdown",
   "metadata": {},
   "source": [
    "## Example 7_2 pgno:80"
   ]
  },
  {
   "cell_type": "code",
   "execution_count": 12,
   "metadata": {
    "collapsed": false
   },
   "outputs": [
    {
     "name": "stdout",
     "output_type": "stream",
     "text": [
      "y=15-x; \n",
      "Y=3*x-21\n",
      "p3=p1-p2\n",
      "the solution is\n",
      "[ 6.]\n"
     ]
    }
   ],
   "source": [
    "import numpy\n",
    "print\"y=15-x; \"\n",
    "p1=numpy.array([-1, 15])\n",
    "print\"Y=3*x-21\"\n",
    "p2=numpy.array([3, -21])\n",
    "print\"p3=p1-p2\"\n",
    "p3=p1-p2\n",
    "print \"the solution is\" \n",
    "\n",
    "x=numpy.roots(p3)\n",
    "y=15-x;\n",
    "print y"
   ]
  },
  {
   "cell_type": "markdown",
   "metadata": {},
   "source": [
    "## Example 7_3 pgno:80"
   ]
  },
  {
   "cell_type": "code",
   "execution_count": 13,
   "metadata": {
    "collapsed": false
   },
   "outputs": [
    {
     "name": "stdout",
     "output_type": "stream",
     "text": [
      "y=(42-2*x)/3;\n",
      "y=5*x-20;\n",
      "the number is  6\n",
      " the solution is :\n",
      " x=   6\n",
      " y=  10\n",
      "\n",
      " the solution is : \n",
      "6 10\n"
     ]
    }
   ],
   "source": [
    "import numpy\n",
    "print\"y=(42-2*x)/3;\"\n",
    "p1=numpy.array([-2/3, 42/3])\n",
    "print\"y=5*x-20;\"\n",
    "p2=numpy.array([5, -20])\n",
    "for x in range(0,20):\n",
    "  if((42-2*x)/3==5*x-20):\n",
    "    print\"the number is \",x\n",
    "    print\" the solution is :\\n x=  \",x\n",
    "    break\n",
    "\n",
    "y=5*x-20;\n",
    "#\"substitute the x value in any one of the above equations\"\n",
    "print\" y= \",y\n",
    "print\"\\n the solution is : \\n\",x,y"
   ]
  },
  {
   "cell_type": "markdown",
   "metadata": {},
   "source": [
    "## Example 7_4 pgno:82"
   ]
  },
  {
   "cell_type": "code",
   "execution_count": 14,
   "metadata": {
    "collapsed": false
   },
   "outputs": [
    {
     "name": "stdout",
     "output_type": "stream",
     "text": [
      "R1=(1.486-1.2*R2)/0.5;\n",
      "R=(4.67+2*R2)/4.5;\n",
      "p3=p1-p2\n",
      "[ 1.03777778]\n",
      "[ 0.80592593]\n"
     ]
    }
   ],
   "source": [
    "\n",
    "import numpy\n",
    "print\"R1=(1.486-1.2*R2)/0.5;\"\n",
    "p1=numpy.array([-1.2/0.5, 1.486/0.5])\n",
    "print\"R=(4.67+2*R2)/4.5;\"\n",
    "p2=numpy.array([1/2, 4.67/4.5])\n",
    "print\"p3=p1-p2\"\n",
    "p3=p1-p2\n",
    "\n",
    "R2=numpy.roots(p3)\n",
    "\n",
    "R1=(1.486-1.2*R2)/0.5\n",
    "print R1\n",
    "print R2\n",
    "#difference in answer is due to round off error\n",
    "\n"
   ]
  },
  {
   "cell_type": "markdown",
   "metadata": {},
   "source": [
    "## Example 7_5 pgno:85"
   ]
  },
  {
   "cell_type": "code",
   "execution_count": 15,
   "metadata": {
    "collapsed": false
   },
   "outputs": [
    {
     "name": "stdout",
     "output_type": "stream",
     "text": [
      "p1=y=(53-x)/3;\n",
      "p2=(4*x-2)/2;\n",
      "the solution is : \n",
      "\n",
      "the number is  8\n",
      "y= -16\n"
     ]
    }
   ],
   "source": [
    "import numpy\n",
    "print\"p1=y=(53-x)/3;\"\n",
    "p1=numpy.array([-1/3, 53/3])\n",
    "print\"p2=(4*x-2)/2;\"\n",
    "p2=numpy.array([2, -1])\n",
    "print\"the solution is : \\n\"\n",
    "\n",
    "\n",
    "for x in range(0,100):\n",
    "  if((53-x)/3==(4*x-2)/2):\n",
    "    print\"the number is \",x\n",
    "\n",
    "\n",
    "\n",
    "#\"substitute the x value in any one of the above equations\"\n",
    "y=(53-x)/3;\n",
    "print\"y=\",y\n"
   ]
  },
  {
   "cell_type": "markdown",
   "metadata": {},
   "source": [
    "## Example 7_6 pgno:84"
   ]
  },
  {
   "cell_type": "code",
   "execution_count": 16,
   "metadata": {
    "collapsed": false
   },
   "outputs": [
    {
     "name": "stdout",
     "output_type": "stream",
     "text": [
      "p1=6-4*m\n",
      "p2=4.5-2.4*m\n",
      "p3=p1-p2\n",
      "y=m*x+b\n"
     ]
    }
   ],
   "source": [
    "import numpy\n",
    "print\"p1=6-4*m\"\n",
    "p1=numpy.array([-4, 6])\n",
    "print\"p2=4.5-2.4*m\"\n",
    "p2=numpy.array([-2.4, 4.5])\n",
    "print\"p3=p1-p2\"\n",
    "p=p1-p2\n",
    "\n",
    "m=numpy.roots(p)\n",
    "\n",
    "#substitute this value \n",
    "b=6-4*m\n",
    "#\"substitute these values in the equation y=mx+b\"\n",
    "\n",
    "print \"y=m*x+b\"\n",
    "\n"
   ]
  },
  {
   "cell_type": "markdown",
   "metadata": {},
   "source": [
    "## Example 7_7 pgno:"
   ]
  },
  {
   "cell_type": "code",
   "execution_count": 17,
   "metadata": {
    "collapsed": false
   },
   "outputs": [
    {
     "name": "stdout",
     "output_type": "stream",
     "text": [
      "y=(1100-25*x)/20;\n",
      "y=(1150-20*x)/25;\n",
      "the number is  20\n",
      "the total no. of books sold was    30\n",
      "the number originally sold at 25p was  99\n"
     ]
    }
   ],
   "source": [
    "#let x=number originally sold at 25p\n",
    "#let y=number originally sold at 20p\n",
    "#amounts received for these were 25x pence and 20y pence & their total value was 1100pence =>25x+20y=1100 \n",
    "import numpy\n",
    "print\"y=(1100-25*x)/20;\"\n",
    "p1=numpy.array([-25/20, 1100/20])\n",
    "print\"y=(1150-20*x)/25;\"\n",
    "p2=numpy.array([-20/25, 1150/25])\n",
    "\n",
    "\n",
    "\n",
    "for x in range(0,100):\n",
    "  if((1100-25*x)/20==(1150-20*x)/25):\n",
    "    print\"the number is \",x\n",
    "\n",
    "#\"substitute the x value in any one of the above equations\"\n",
    "y=(1100-25*x)/20;\n",
    "print\"the total no. of books sold was   \",x+y\n",
    "print\"the number originally sold at 25p was \",x\n"
   ]
  }
 ],
 "metadata": {
  "kernelspec": {
   "display_name": "Python 2",
   "language": "python",
   "name": "python2"
  },
  "language_info": {
   "codemirror_mode": {
    "name": "ipython",
    "version": 2
   },
   "file_extension": ".py",
   "mimetype": "text/x-python",
   "name": "python",
   "nbconvert_exporter": "python",
   "pygments_lexer": "ipython2",
   "version": "2.7.9"
  }
 },
 "nbformat": 4,
 "nbformat_minor": 0
}
