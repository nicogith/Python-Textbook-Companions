{
 "cells": [
  {
   "cell_type": "markdown",
   "metadata": {},
   "source": [
    "# Chapter 16 Logarithms"
   ]
  },
  {
   "cell_type": "markdown",
   "metadata": {},
   "source": [
    "## Example 16_1 pgno:196"
   ]
  },
  {
   "cell_type": "code",
   "execution_count": 22,
   "metadata": {
    "collapsed": false
   },
   "outputs": [
    {
     "data": {
      "image/png": "[encoded data removed]",
      "text/plain": [
       "<matplotlib.figure.Figure at 0x3edc080>"
      ]
     },
     "metadata": {},
     "output_type": "display_data"
    },
    {
     "name": "stdout",
     "output_type": "stream",
     "text": [
      "4.78630092323 1.0\n"
     ]
    }
   ],
   "source": [
    "\n",
    "import numpy\n",
    "import numpy\n",
    "import matplotlib\n",
    "from matplotlib import pyplot\n",
    "%matplotlib inline\n",
    "x=numpy.linspace(0,1,7);\n",
    "y=10**x;\n",
    "pyplot.plot(x,y);\n",
    "pyplot.title(\" graph of y=10**x\")\n",
    "pyplot.xlabel(\"x axis\")\n",
    "pyplot.ylabel(\"y axis\");\n",
    "pyplot.legend(\"y=10**x\");\n",
    "\n",
    "pyplot.grid()\n",
    "pyplot.show()\n",
    "\n",
    "\n",
    "\n",
    "#ex1:1.8*2.6=? ,from graph\n",
    "#1.8=10**0.26 \\n 2.6=10**0.42  \n",
    "x=10**0.26;y=10**0.42;\n",
    "#format(4)\n",
    "ex1_ans=x*y#from the graph\n",
    "\n",
    "#ex2:9**(1/3)\n",
    "#9=10**0.96\n",
    "x=10**0.96;\n",
    "#format(4)\n",
    "ex2_ans=x**(1/3)#third law of indices\n",
    "\n",
    "print ex1_ans,ex2_ans\n"
   ]
  },
  {
   "cell_type": "markdown",
   "metadata": {},
   "source": [
    "## Example 16_2 pgno:198"
   ]
  },
  {
   "cell_type": "code",
   "execution_count": 23,
   "metadata": {
    "collapsed": false
   },
   "outputs": [
    {
     "name": "stdout",
     "output_type": "stream",
     "text": [
      "1.74973631557 10 3.0 4.0\n"
     ]
    }
   ],
   "source": [
    "import math\n",
    "from math import log10\n",
    "\n",
    "\n",
    "ans1=log10(56.2)\n",
    "ans2=10\n",
    "ans3=log10(1000)\n",
    "ans4=log10(81)/log10(3)\n",
    "\n",
    "print ans1,ans2,ans3,ans4\n"
   ]
  },
  {
   "cell_type": "markdown",
   "metadata": {},
   "source": [
    "## Example 16_3 pgno:201"
   ]
  },
  {
   "cell_type": "code",
   "execution_count": 24,
   "metadata": {
    "collapsed": false
   },
   "outputs": [
    {
     "name": "stdout",
     "output_type": "stream",
     "text": [
      "from anti-logarithm table,corresponding no. is 2352\n",
      "235.2\n"
     ]
    }
   ],
   "source": [
    "\n",
    "#no. whose logarithm is 2.3714\n",
    "\n",
    "mantissa=0.3714;\n",
    "print(\"from anti-logarithm table,corresponding no. is 2352\")\n",
    "# As,characteristic is 2,no. must lie between 100 & 1000.\\n \\n hence 3 significant figures in the intergral part\n",
    "print 235.2\n"
   ]
  },
  {
   "cell_type": "markdown",
   "metadata": {},
   "source": [
    "## Example 16_4 pgno:203"
   ]
  },
  {
   "cell_type": "code",
   "execution_count": 25,
   "metadata": {
    "collapsed": false
   },
   "outputs": [
    {
     "name": "stdout",
     "output_type": "stream",
     "text": [
      "253.7161\n"
     ]
    }
   ],
   "source": [
    "\n",
    "#value of (57.86*4.385)\n",
    "from math import log10\n",
    "#log(p*q)=log(p)+log(q)\n",
    "p=57.86;q=4.385;\n",
    "logx=log10(p)+log10(q);\n",
    "format(6)\n",
    "x=10**logx\n",
    "print x\n",
    "\n",
    "\n"
   ]
  },
  {
   "cell_type": "markdown",
   "metadata": {},
   "source": [
    "## Example 16_5 pgno:204"
   ]
  },
  {
   "cell_type": "code",
   "execution_count": 26,
   "metadata": {
    "collapsed": false
   },
   "outputs": [
    {
     "name": "stdout",
     "output_type": "stream",
     "text": [
      "61.1\n"
     ]
    }
   ],
   "source": [
    "\n",
    "#value of (5.672*18.94)/1.758\n",
    "from math import log10\n",
    "#log(p*q)=log(p)+log(q) , log(p/q)=log(p)-log(q)\n",
    "p=5.672;q=18.94;r=1.758;\n",
    "logx=log10(p)+log10(q)-log10(r);\n",
    "\n",
    "x=10**logx\n",
    "print round(x,1)"
   ]
  },
  {
   "cell_type": "markdown",
   "metadata": {},
   "source": [
    "## Example 16_6 pgno:204"
   ]
  },
  {
   "cell_type": "code",
   "execution_count": 27,
   "metadata": {
    "collapsed": false
   },
   "outputs": [
    {
     "name": "stdout",
     "output_type": "stream",
     "text": [
      "3.73\n"
     ]
    }
   ],
   "source": [
    "\n",
    "#5th root of 721.8\n",
    "from math import log10\n",
    "#log(a)^n=n*log(a)\n",
    "p=721.8;n=1./5.;\n",
    "logx=n*log10(p);\n",
    "#format(6)\n",
    "x=10**logx\n",
    "print round(x,3)\n"
   ]
  },
  {
   "cell_type": "markdown",
   "metadata": {},
   "source": [
    "## Example 16_7 pgno:206"
   ]
  },
  {
   "cell_type": "code",
   "execution_count": 28,
   "metadata": {
    "collapsed": false
   },
   "outputs": [
    {
     "name": "stdout",
     "output_type": "stream",
     "text": [
      "-0.4969 -1.4969 -2.4969\n"
     ]
    }
   ],
   "source": [
    "\n",
    "#logs of 0.3185,0.03185,0.003185\n",
    "from math import log10\n",
    "x=0.3185;y=0.03185;z=0.003185;\n",
    "logx=log10(0.3185)\n",
    "logy=log10(0.03185)\n",
    "logz=log10(0.003185)\n",
    "\n",
    "print round(logx,4),round(logy,4),round(logz,4)\n"
   ]
  },
  {
   "cell_type": "markdown",
   "metadata": {},
   "source": [
    "## Example 16_8 pgno:206"
   ]
  },
  {
   "cell_type": "code",
   "execution_count": 29,
   "metadata": {
    "collapsed": false
   },
   "outputs": [
    {
     "name": "stdout",
     "output_type": "stream",
     "text": [
      "from anti-logarithm table, corresponding no.is 3840 \n",
      "0.00348\n"
     ]
    }
   ],
   "source": [
    "\n",
    "#no. with logarithm -3.5416\n",
    "\n",
    "mantissa=0.5416;\n",
    "print(\"from anti-logarithm table, corresponding no.is 3840 \")\n",
    "#characteristic is -3.\\n \\n hence there will be 2 zeros after the decimal point\n",
    "print 0.003480\n"
   ]
  },
  {
   "cell_type": "markdown",
   "metadata": {},
   "source": [
    "## Example 16_9 pgno:207"
   ]
  },
  {
   "cell_type": "code",
   "execution_count": 30,
   "metadata": {
    "collapsed": false
   },
   "outputs": [
    {
     "name": "stdout",
     "output_type": "stream",
     "text": [
      "('sum=-', 2.3455)\n"
     ]
    }
   ],
   "source": [
    "\n",
    "#sum of logarithms -1.6173,-2.3415,-1.6493,-0.7374\n",
    "\n",
    "x=.6173;y=.3415;z=.6493;a=0.7374;#mantissa's of all 4 logarithms\n",
    "mantissa=x+y+z+a;\n",
    "#2 which is carried forward from the addition of mantissa is +ve.\n",
    "characteristic=-1-2-1-0+2;#characteristic part of all 4 logarithms\n",
    "print(\"sum=-\",mantissa)\n",
    "\n",
    "\n",
    "\n",
    " "
   ]
  },
  {
   "cell_type": "markdown",
   "metadata": {},
   "source": [
    "## Example 16_10 pgno:207"
   ]
  },
  {
   "cell_type": "code",
   "execution_count": 31,
   "metadata": {
    "collapsed": false
   },
   "outputs": [
    {
     "name": "stdout",
     "output_type": "stream",
     "text": [
      "1.7712\n"
     ]
    }
   ],
   "source": [
    "\n",
    "#logarithm :  -1.6175-(-3.8463)\n",
    "\n",
    "mantissa=1.6175-0.8463;\n",
    "#in borrowing to subtract 8 from 6, -1(characteristic) becomes -2 \n",
    "characteristic=-2-(-3);\n",
    "print mantissa+characteristic\n",
    "\n"
   ]
  },
  {
   "cell_type": "markdown",
   "metadata": {},
   "source": [
    "## Example 16_11 pgno:208"
   ]
  },
  {
   "cell_type": "code",
   "execution_count": 32,
   "metadata": {
    "collapsed": false
   },
   "outputs": [
    {
     "name": "stdout",
     "output_type": "stream",
     "text": [
      "-4.6289\n"
     ]
    }
   ],
   "source": [
    "\n",
    "#logarithm : multiply -2.8763 by 3\n",
    "\n",
    "num=2.8763;#given\n",
    "mantissa=0.8763;\n",
    "mul=mantissa*3;\n",
    "#when mantissa is multiplied, 2 is carried forward. (-2)*3=-6. the characteristic becomes -6+2=-4\n",
    "print -4.6289\n"
   ]
  },
  {
   "cell_type": "markdown",
   "metadata": {},
   "source": [
    "## Example 16_12 pgno:208"
   ]
  },
  {
   "cell_type": "code",
   "execution_count": 33,
   "metadata": {
    "collapsed": false
   },
   "outputs": [
    {
     "name": "stdout",
     "output_type": "stream",
     "text": [
      "1.16406\n"
     ]
    }
   ],
   "source": [
    "\n",
    "#logarithm: -1.8738*1.3\n",
    "\n",
    "#multiply mantissa & characteristic seperately and add results\n",
    "x=0.8738*1.3;\n",
    "y=-1*1.3;\n",
    "#as y=-1.3 is -ve, change it to -2.7 to make mantissa +ve\n",
    "y=-2.7;\n",
    "mantissa_sum=0.13594+0.7; #of x & y\n",
    "characteristic_sum=2-1;\n",
    "print 2*characteristic_sum-mantissa_sum\n"
   ]
  },
  {
   "cell_type": "markdown",
   "metadata": {},
   "source": [
    "## Example 16_13 pgno:208"
   ]
  },
  {
   "cell_type": "code",
   "execution_count": 34,
   "metadata": {
    "collapsed": false
   },
   "outputs": [
    {
     "name": "stdout",
     "output_type": "stream",
     "text": [
      "-2.4572\n"
     ]
    }
   ],
   "source": [
    "\n",
    "#divide -5.3716 by 3\n",
    "\n",
    "#characteristic=-5=-6+1 or the log as -6+1.3716\n",
    "characteristic=-6/3;\n",
    "mantissa=1.3716/3;\n",
    "print characteristic-mantissa\n",
    "\n",
    "\n"
   ]
  },
  {
   "cell_type": "markdown",
   "metadata": {},
   "source": [
    "## Example 16_14 pgno:211"
   ]
  },
  {
   "cell_type": "code",
   "execution_count": 35,
   "metadata": {
    "collapsed": false
   },
   "outputs": [
    {
     "name": "stdout",
     "output_type": "stream",
     "text": [
      "3.912\n"
     ]
    }
   ],
   "source": [
    "\n",
    "#log50 to the base e \n",
    "from math import log\n",
    "print round(log(50),3)#natural logarithm\n",
    "# or, log50_base_e=log10(50)*2.3026\n"
   ]
  }
 ],
 "metadata": {
  "kernelspec": {
   "display_name": "Python 2",
   "language": "python",
   "name": "python2"
  },
  "language_info": {
   "codemirror_mode": {
    "name": "ipython",
    "version": 2
   },
   "file_extension": ".py",
   "mimetype": "text/x-python",
   "name": "python",
   "nbconvert_exporter": "python",
   "pygments_lexer": "ipython2",
   "version": "2.7.9"
  }
 },
 "nbformat": 4,
 "nbformat_minor": 0
}
