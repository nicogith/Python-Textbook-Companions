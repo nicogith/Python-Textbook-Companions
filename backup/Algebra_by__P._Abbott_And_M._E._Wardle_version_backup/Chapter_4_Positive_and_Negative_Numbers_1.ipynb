{
 "cells": [
  {
   "cell_type": "markdown",
   "metadata": {},
   "source": [
    "# Chapter 4 Positive and Negative Numbers"
   ]
  },
  {
   "cell_type": "markdown",
   "metadata": {},
   "source": [
    "## Example 4_1 pgno:53"
   ]
  },
  {
   "cell_type": "code",
   "execution_count": 1,
   "metadata": {
    "collapsed": false
   },
   "outputs": [
    {
     "name": "stdout",
     "output_type": "stream",
     "text": [
      "subtraction\n",
      "5*x-(-3*x)\n",
      "-2*b-(-4*b)\n"
     ]
    }
   ],
   "source": [
    "from sympy import *\n",
    "\n",
    "print(\"subtraction\")\n",
    "x=symbols('x')#is polynomial functio with degree zero poly(0,'x');\n",
    "b=symbols('b')#is polynomial functio with degree zero poly(0,'b');\n",
    "print \"5*x-(-3*x)\"\n",
    "print \"-2*b-(-4*b)\"\n"
   ]
  }
 ],
 "metadata": {
  "kernelspec": {
   "display_name": "Python 2",
   "language": "python",
   "name": "python2"
  },
  "language_info": {
   "codemirror_mode": {
    "name": "ipython",
    "version": 2
   },
   "file_extension": ".py",
   "mimetype": "text/x-python",
   "name": "python",
   "nbconvert_exporter": "python",
   "pygments_lexer": "ipython2",
   "version": "2.7.9"
  }
 },
 "nbformat": 4,
 "nbformat_minor": 0
}
