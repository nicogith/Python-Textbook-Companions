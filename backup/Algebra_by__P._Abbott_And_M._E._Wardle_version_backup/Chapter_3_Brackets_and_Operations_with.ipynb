{
 "cells": [
  {
   "cell_type": "markdown",
   "metadata": {},
   "source": [
    "# Chapter 3 Brackets and Operations with Them"
   ]
  },
  {
   "cell_type": "markdown",
   "metadata": {},
   "source": [
    "## Example 3_1 pgno:42"
   ]
  },
  {
   "cell_type": "code",
   "execution_count": 3,
   "metadata": {
    "collapsed": false
   },
   "outputs": [
    {
     "name": "stdout",
     "output_type": "stream",
     "text": [
      "a^3+(a^2)b+a(b^2)\n"
     ]
    }
   ],
   "source": [
    "\n",
    "\n",
    "#simplify a(a^2+ab+b^2)\n",
    "\n",
    "print('a^3+(a^2)b+a(b^2)')\n"
   ]
  },
  {
   "cell_type": "markdown",
   "metadata": {},
   "source": [
    "## Example 3_2 pgno:42"
   ]
  },
  {
   "cell_type": "code",
   "execution_count": 4,
   "metadata": {
    "collapsed": false
   },
   "outputs": [
    {
     "name": "stdout",
     "output_type": "stream",
     "text": [
      "20a\n"
     ]
    }
   ],
   "source": [
    "#simplify 2(4a+3b)+6(2a-b)\n",
    "\n",
    "#b gets cancelled  \n",
    "print('20a')\n"
   ]
  },
  {
   "cell_type": "markdown",
   "metadata": {},
   "source": [
    "## Example 3_3 pgno:42"
   ]
  },
  {
   "cell_type": "code",
   "execution_count": 5,
   "metadata": {
    "collapsed": false
   },
   "outputs": [
    {
     "name": "stdout",
     "output_type": "stream",
     "text": [
      "3x-5y\n"
     ]
    }
   ],
   "source": [
    "\n",
    "#simplify 5x-(5y+2x)\n",
    "\n",
    "#on adding like terms\n",
    "print('3x-5y')\n"
   ]
  },
  {
   "cell_type": "markdown",
   "metadata": {},
   "source": [
    "## Example 3_4 pgno:43"
   ]
  },
  {
   "cell_type": "code",
   "execution_count": 6,
   "metadata": {
    "collapsed": false
   },
   "outputs": [
    {
     "name": "stdout",
     "output_type": "stream",
     "text": [
      "total=a+b\n",
      "6 1\n"
     ]
    }
   ],
   "source": [
    "#simplify 3(4a-b)-2(3a-2b)\n",
    "\n",
    "#by removing braces\n",
    "a_coeff=3*4-2*3;b_coeff=-3-2*-2;\n",
    "print\"total=a+b\\n\",a_coeff,b_coeff\n",
    "\n"
   ]
  },
  {
   "cell_type": "markdown",
   "metadata": {},
   "source": [
    "## Example 3_5 pgno:43"
   ]
  },
  {
   "cell_type": "code",
   "execution_count": 7,
   "metadata": {
    "collapsed": false
   },
   "outputs": [
    {
     "name": "stdout",
     "output_type": "stream",
     "text": [
      "x^2-x*y-2*y^2\n",
      "2)after substituting given values\n",
      "-2\n"
     ]
    }
   ],
   "source": [
    "\n",
    "#x(2x-y)-x(x-y)-y(x+2y)\n",
    "\n",
    "#(\"1)after simplifying\")\n",
    "print('x^2-x*y-2*y^2')\n",
    "print(\"2)after substituting given values\")\n",
    "x=2;y=1;\n",
    "val=x^2-x*y-2*y^2;\n",
    "print val\n"
   ]
  },
  {
   "cell_type": "markdown",
   "metadata": {},
   "source": [
    "## Example 3_6 pgno:45"
   ]
  },
  {
   "cell_type": "code",
   "execution_count": 8,
   "metadata": {
    "collapsed": false
   },
   "outputs": [
    {
     "name": "stdout",
     "output_type": "stream",
     "text": [
      "6a+10b+10c\n"
     ]
    }
   ],
   "source": [
    "\n",
    "#simplify 2(3a+5(b+c))\n",
    "\n",
    "#by removing braces,\n",
    "print('6a+10b+10c')\n"
   ]
  },
  {
   "cell_type": "markdown",
   "metadata": {},
   "source": [
    "## Example 3_7 pgno:45"
   ]
  },
  {
   "cell_type": "code",
   "execution_count": 9,
   "metadata": {
    "collapsed": false
   },
   "outputs": [
    {
     "name": "stdout",
     "output_type": "stream",
     "text": [
      "total=a+b\n",
      "3 6\n"
     ]
    }
   ],
   "source": [
    "#simplify 3(3a-2(a-b))\n",
    "\n",
    "#by removing braces,\n",
    "a_coeff=3*3-3*2;b_coeff=3*2;\n",
    "print\"total=a+b\\n\",a_coeff,b_coeff\n",
    "\n"
   ]
  },
  {
   "cell_type": "markdown",
   "metadata": {},
   "source": [
    "## Example 3_8 pgno:45"
   ]
  },
  {
   "cell_type": "code",
   "execution_count": 10,
   "metadata": {
    "collapsed": false
   },
   "outputs": [
    {
     "name": "stdout",
     "output_type": "stream",
     "text": [
      "12*a-2*[3*a-{4-2*(a-3)}]\n",
      "20*a+20\n"
     ]
    }
   ],
   "source": [
    "\n",
    "\n",
    "#simplify 12a-2[3a-(4-2(a-3))]\n",
    "\n",
    "#a is a polynomial function with degree zero\n",
    "\n",
    "print \"12*a-2*[3*a-{4-2*(a-3)}]\"\n",
    "print '20*a+20'\n"
   ]
  }
 ],
 "metadata": {
  "kernelspec": {
   "display_name": "Python 2",
   "language": "python",
   "name": "python2"
  },
  "language_info": {
   "codemirror_mode": {
    "name": "ipython",
    "version": 2
   },
   "file_extension": ".py",
   "mimetype": "text/x-python",
   "name": "python",
   "nbconvert_exporter": "python",
   "pygments_lexer": "ipython2",
   "version": "2.7.9"
  }
 },
 "nbformat": 4,
 "nbformat_minor": 0
}
