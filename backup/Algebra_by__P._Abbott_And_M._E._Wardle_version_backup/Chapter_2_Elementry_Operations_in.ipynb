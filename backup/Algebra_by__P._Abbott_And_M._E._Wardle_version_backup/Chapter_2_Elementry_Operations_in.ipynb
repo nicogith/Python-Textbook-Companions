{
 "cells": [
  {
   "cell_type": "markdown",
   "metadata": {},
   "source": [
    "# Chapter 2 Elementry Operations in Algebra"
   ]
  },
  {
   "cell_type": "markdown",
   "metadata": {},
   "source": [
    "## Example 2_1 pgno:25"
   ]
  },
  {
   "cell_type": "code",
   "execution_count": 14,
   "metadata": {
    "collapsed": false
   },
   "outputs": [
    {
     "name": "stdout",
     "output_type": "stream",
     "text": [
      "total=a+b 7 3\n"
     ]
    }
   ],
   "source": [
    "\n",
    "#simplify 5a+6b+2a-3b\n",
    "\n",
    "#('collecting like terms \\n');\n",
    "x=5+2;y=6-3;\n",
    "print\"total=a+b\",x,y\n",
    "\n"
   ]
  },
  {
   "cell_type": "markdown",
   "metadata": {},
   "source": [
    "## Example 2_2 pgno:26"
   ]
  },
  {
   "cell_type": "code",
   "execution_count": 15,
   "metadata": {
    "collapsed": false
   },
   "outputs": [
    {
     "name": "stdout",
     "output_type": "stream",
     "text": [
      "total=x+y-5 22 3\n"
     ]
    }
   ],
   "source": [
    "#collecting like terms ;\n",
    "x=15+7;y=6-3;\n",
    "print\"total=x+y-5\",x,y\n"
   ]
  },
  {
   "cell_type": "markdown",
   "metadata": {},
   "source": [
    "## Example 2_3 pgno:26"
   ]
  },
  {
   "cell_type": "code",
   "execution_count": 16,
   "metadata": {
    "collapsed": false
   },
   "outputs": [
    {
     "name": "stdout",
     "output_type": "stream",
     "text": [
      "18\n"
     ]
    }
   ],
   "source": [
    "x_coeff=6-3;y_coeff=2+4;\n",
    "#\"substitue given values\"\n",
    "x=3;y=2;\n",
    "val=x_coeff*x + y_coeff*y -3\n",
    "print val\n",
    "\n"
   ]
  },
  {
   "cell_type": "markdown",
   "metadata": {},
   "source": [
    "## Example 2_4 pgno:33"
   ]
  },
  {
   "cell_type": "code",
   "execution_count": 17,
   "metadata": {
    "collapsed": false
   },
   "outputs": [
    {
     "name": "stdout",
     "output_type": "stream",
     "text": [
      "84a**6/12a**2\n"
     ]
    }
   ],
   "source": [
    "#84a**6/12a**2\n",
    "import string\n",
    "A=1;#is polynomial function of degree zero poly(0,'x');#for this I assume it to be 1 for my convince   poly(0,'a');\n",
    "p1=84*A**6;\n",
    "p2=12*A**2;\n",
    "p=p1/p2;\n",
    "print '84a**6/12a**2'\n",
    "\n",
    "\n",
    " "
   ]
  },
  {
   "cell_type": "markdown",
   "metadata": {},
   "source": [
    "## Example 2_5 pgno:33"
   ]
  },
  {
   "cell_type": "code",
   "execution_count": 18,
   "metadata": {
    "collapsed": false
   },
   "outputs": [
    {
     "name": "stdout",
     "output_type": "stream",
     "text": [
      "3x**4/6x**6\n"
     ]
    }
   ],
   "source": [
    "\n",
    "#3x**4/6x**6\n",
    "from sympy import *\n",
    "x=symbols('x')#is polynomial function of degree zero poly(0,'x');#for this I assume it to be 1 for my convince   poly(0,'a');poly(0,'x');\n",
    "p1=3*x**4;\n",
    "p2=6*x**6;\n",
    "p=p1/p2\n",
    "print '3x**4/6x**6'\n"
   ]
  },
  {
   "cell_type": "markdown",
   "metadata": {},
   "source": [
    "## Example 2_6 pgno:34"
   ]
  },
  {
   "cell_type": "code",
   "execution_count": 19,
   "metadata": {
    "collapsed": false
   },
   "outputs": [
    {
     "name": "stdout",
     "output_type": "stream",
     "text": [
      "val=8*x/15 \n",
      "\n"
     ]
    }
   ],
   "source": [
    " #x/3 + x/5\n",
    "from sympy import *\n",
    "x=symbols('x')#is polynomial function of degree zero poly(0,'x');#for this I assume it to be 1 for my convince   poly(0,'a');poly(0,'x');poly(0,'x');\n",
    "p1=x/3;\n",
    "p2=x/5;\n",
    "p=p1+p2;\n",
    "q=8*x/15;\n",
    "if(p==q):\n",
    "    print\"val=8*x/15 \\n\"\n",
    "\n",
    "\n"
   ]
  },
  {
   "cell_type": "markdown",
   "metadata": {},
   "source": [
    "## Example 2_7 pgno:34"
   ]
  },
  {
   "cell_type": "code",
   "execution_count": 20,
   "metadata": {
    "collapsed": false
   },
   "outputs": [
    {
     "name": "stdout",
     "output_type": "stream",
     "text": [
      "((3b + 4a)/(ab))\n"
     ]
    }
   ],
   "source": [
    "#given problem sum of 3/a + 4/b\n",
    "\n",
    "print\"((3b + 4a)/(ab))\""
   ]
  },
  {
   "cell_type": "markdown",
   "metadata": {},
   "source": [
    "## Example 2_8 pgno:34"
   ]
  },
  {
   "cell_type": "code",
   "execution_count": 21,
   "metadata": {
    "collapsed": false
   },
   "outputs": [
    {
     "name": "stdout",
     "output_type": "stream",
     "text": [
      "(bx-ay)/(by)\n"
     ]
    }
   ],
   "source": [
    "#given problem is x/y - a/b\n",
    "\n",
    "print'(bx-ay)/(by)'\n",
    " "
   ]
  },
  {
   "cell_type": "markdown",
   "metadata": {},
   "source": [
    "## Example 2_9 pgno:35"
   ]
  },
  {
   "cell_type": "code",
   "execution_count": 22,
   "metadata": {
    "collapsed": false
   },
   "outputs": [
    {
     "name": "stdout",
     "output_type": "stream",
     "text": [
      "ans=\n",
      "(a+b)/k 8 25 60\n"
     ]
    }
   ],
   "source": [
    "\n",
    "#2a/15 + 5b/12\n",
    "\n",
    "\n",
    "d=60#\"L.C.M of denominators\"\n",
    "k=d;\n",
    "a_coeff=60/15*2;\n",
    "b_coeff=60/12*5;\n",
    "print'ans='\n",
    "print\"(a+b)/k\",a_coeff,b_coeff,k\n",
    "\n"
   ]
  },
  {
   "cell_type": "markdown",
   "metadata": {},
   "source": [
    "## Example 2_10 pgno:35"
   ]
  },
  {
   "cell_type": "code",
   "execution_count": 23,
   "metadata": {
    "collapsed": false
   },
   "outputs": [
    {
     "name": "stdout",
     "output_type": "stream",
     "text": [
      "ans=\n",
      "(bx-ay)/a**2b**2 3 2 36\n"
     ]
    }
   ],
   "source": [
    "\n",
    "#x/12a**2b - y/18ab**2\n",
    "\n",
    "k=36#lcm(d);#L.C.M of denominators\n",
    "\n",
    "#\"L.C.M of a**2*b and a*b**2 is a**2*b**2\"\n",
    "x_coeff=36/12;\n",
    "y_coeff=36/18;\n",
    "print'ans='\n",
    "print\"(bx-ay)/a**2b**2\",x_coeff,y_coeff,k\n"
   ]
  },
  {
   "cell_type": "markdown",
   "metadata": {},
   "source": [
    "## Example 2_11 pgno:36"
   ]
  },
  {
   "cell_type": "code",
   "execution_count": 24,
   "metadata": {
    "collapsed": false
   },
   "outputs": [
    {
     "name": "stdout",
     "output_type": "stream",
     "text": [
      "val=\n",
      "/*x**2/y**2 2 3\n"
     ]
    }
   ],
   "source": [
    "\n",
    "#4*x**3*y/(6*x*y**3)\n",
    "\n",
    "gcd_d=1#GCD of 4 and 6 is 2\n",
    "m=4/gcd_d\n",
    "n=6/gcd_d\n",
    "x=1#is polynomial function of degree zero poly(0,'x');#for this I assume it to be 1 for my convincepoly(0,'x');\n",
    "y=1#is polynomial function of degree zero poly(0,'x');#for this I assume it to be 1 for my convincepoly(0,'y');\n",
    "p1=x**3;p2=x;p=p1/p2;\n",
    "q1=y;q2=y**3;q=q1/q2;\n",
    "#val=m/n*p*q \n",
    "print'val='\n",
    "print\"/*x**2/y**2\",m/2,n/2\n",
    "\n"
   ]
  },
  {
   "cell_type": "markdown",
   "metadata": {},
   "source": [
    "## Example 2_12 pgno:36"
   ]
  },
  {
   "cell_type": "code",
   "execution_count": 25,
   "metadata": {
    "collapsed": false
   },
   "outputs": [
    {
     "name": "stdout",
     "output_type": "stream",
     "text": [
      "val=\n",
      "*x**2*y/a**3 0.285714285714\n"
     ]
    }
   ],
   "source": [
    "\n",
    "#6*a*x**4*2*y**3/(14*x**2*y**2*3*a**4)\n",
    "from sympy import *\n",
    "\n",
    "x=symbols('x')#is polynomial function of degree zero poly(0,'x');#for this I assume it to be 1 for my convincepoly(0,'x');poly(0,'x');\n",
    "y=symbols('y')#is polynomial function of degree zero poly(0,'x');#for this I assume it to be 1 for my convincepoly(0,'x');poly(0,'y');\n",
    "a=symbols('a')#is polynomial function of degree zero poly(0,'x');#for this I assume it to be 1 for my convincepoly(0,'x');poly(0,'a');\n",
    "num=6.*2./(14.*3.);\n",
    "p1=x**4;p2=x**2;p=p1/p2;\n",
    "q1=y**3;q2=y**2;q=q1/q2;\n",
    "r1=a;r2=a**4;r=r1/r2;\n",
    "#val=num*p*q*r\n",
    "print'val='\n",
    "print\"*x**2*y/a**3\",num\n"
   ]
  },
  {
   "cell_type": "markdown",
   "metadata": {},
   "source": [
    "## Example 2_13 pgno:36"
   ]
  },
  {
   "cell_type": "code",
   "execution_count": 26,
   "metadata": {
    "collapsed": false
   },
   "outputs": [
    {
     "name": "stdout",
     "output_type": "stream",
     "text": [
      "val=\n",
      "*x/(a*y) 1.2\n"
     ]
    }
   ],
   "source": [
    "#(8x**3)/(5a**2y) *(3a)/(4x**2)\n",
    "from sympy import *\n",
    "\n",
    "x=symbols('x')#is polynomial function of degree zero poly(0,'x');#for this I assume it to be 1 for my convincepoly(0,'x');poly(0,'x');\n",
    "y=symbols('y')#is polynomial function of degree zero poly(0,'x');#for this I assume it to be 1 for my convincepoly(0,'x');poly(0,'y');\n",
    "a=symbols('a')#is polynomial function of degree zero poly(0,'x');#for this I assume it to be 1 for my convincepoly(0,'x');poly(0,'a');\n",
    "p1=x**3;p2=x**2;p=p1/p2;\n",
    "q=1/y;\n",
    "r1=a;r2=a**2;r=r1/r2;\n",
    "num=8.*3./(5.*4.);\n",
    "#val=num*p*q*r\n",
    "print('val=')\n",
    "print\"*x/(a*y)\",num\n"
   ]
  }
 ],
 "metadata": {
  "kernelspec": {
   "display_name": "Python 2",
   "language": "python",
   "name": "python2"
  },
  "language_info": {
   "codemirror_mode": {
    "name": "ipython",
    "version": 2
   },
   "file_extension": ".py",
   "mimetype": "text/x-python",
   "name": "python",
   "nbconvert_exporter": "python",
   "pygments_lexer": "ipython2",
   "version": "2.7.9"
  }
 },
 "nbformat": 4,
 "nbformat_minor": 0
}
