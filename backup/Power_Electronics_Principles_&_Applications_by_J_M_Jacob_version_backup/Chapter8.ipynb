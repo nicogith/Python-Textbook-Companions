{
 "cells": [
  {
   "cell_type": "markdown",
   "metadata": {},
   "source": [
    "# Chapter 8: Thyristors"
   ]
  },
  {
   "cell_type": "markdown",
   "metadata": {},
   "source": [
    "### Example 8.3,Page 397"
   ]
  },
  {
   "cell_type": "code",
   "execution_count": 1,
   "metadata": {
    "collapsed": false
   },
   "outputs": [
    {
     "name": "stdout",
     "output_type": "stream",
     "text": [
      "inductance is 6.22 microH\n",
      "load impedence at angle 90 degree is 0.00195 ohm\n"
     ]
    }
   ],
   "source": [
    "#finding inductance,load impedence\n",
    "\n",
    "#initialisation of variable\n",
    "from math import pi,tan,sqrt,sin,cos,acos,atan\n",
    "V=220.0;#line voltage\n",
    "f=50.0;#hertz\n",
    "R=80.0;#load resistance\n",
    "K=50.0;#di/dt\n",
    "\n",
    "#calculation\n",
    "L=V*2**.5/K;\n",
    "Z=2*pi*f*L;\n",
    "\n",
    "#result\n",
    "print \"inductance is\",round(L,2),\"microH\"\n",
    "print \"load impedence at angle 90 degree is\",round(Z*1e-6,5), \"ohm\""
   ]
  },
  {
   "cell_type": "markdown",
   "metadata": {},
   "source": [
    "### Example 8.4,Page 400"
   ]
  },
  {
   "cell_type": "code",
   "execution_count": 3,
   "metadata": {
    "collapsed": false
   },
   "outputs": [
    {
     "name": "stdout",
     "output_type": "stream",
     "text": [
      "minimum value of capacitor is 0.067 micfoF\n",
      "\n",
      "choose C=.1 micoF\n",
      "capacitor impedence at angle -90degree is 31.83 ohm\n",
      "Load current in mA at an angle 90 degrees is 6.91\n",
      "Potential drop in V at an angle 90 degrees is 0.55\n",
      "Power dissipated is 3 mW\n"
     ]
    }
   ],
   "source": [
    "#finding capacitor,current\n",
    "\n",
    "#initialisation of variable\n",
    "from math import pi,tan,sqrt,sin,cos,acos,atan\n",
    "V=220.0;#line voltage\n",
    "f=50.0;#hertz\n",
    "R=80.0;#load resistance\n",
    "K=75.0;#dv/dt\n",
    "Vd=400.0;#DRM voltage\n",
    "\n",
    "\n",
    "#calculation\n",
    "C=Vd/R/K;\n",
    "C1=.1;\n",
    "Z=1/(2*pi*f*C1);\n",
    "Iload=V/1000/(-Z*cos(180*pi/180)+R*round(cos(90*pi/180)));\n",
    "Vload=Iload/1000*R;\n",
    "P=Vload*Iload;\n",
    "\n",
    "#result\n",
    "print \"minimum value of capacitor is\",round(C,3), \"micfoF\"\n",
    "print('\\nchoose C=.1 micoF')\n",
    "print \"capacitor impedence at angle -90degree is\",round(Z*1000,2), \"ohm\"\n",
    "print \"Load current in mA at an angle 90 degrees is\",round(Iload,2)\n",
    "print \"Potential drop in V at an angle 90 degrees is\",round(Vload,2)\n",
    "print \"Power dissipated is\",int(P), \"mW\""
   ]
  },
  {
   "cell_type": "markdown",
   "metadata": {},
   "source": [
    "### Example 8.5,Page 402"
   ]
  },
  {
   "cell_type": "code",
   "execution_count": 4,
   "metadata": {
    "collapsed": false
   },
   "outputs": [
    {
     "name": "stdout",
     "output_type": "stream",
     "text": [
      "snubbing resistnce is 7.39 ohm\n"
     ]
    }
   ],
   "source": [
    "#finding snubbing resistance\n",
    "\n",
    "#initialisation of variable\n",
    "from math import pi,tan,sqrt,sin,cos,acos,atan\n",
    "V=220;#line voltage\n",
    "f=50;#hertz\n",
    "R=80;#load resistance\n",
    "I=46;#TSM current\n",
    "\n",
    "#calculation\n",
    "Rs=V*2**.5/(I-V*2**.5/R);\n",
    "\n",
    "#result\n",
    "print \"snubbing resistnce is\",round(Rs,2), \"ohm\""
   ]
  },
  {
   "cell_type": "markdown",
   "metadata": {},
   "source": [
    "### Example 8.6,Page 414"
   ]
  },
  {
   "cell_type": "code",
   "execution_count": 5,
   "metadata": {
    "collapsed": false
   },
   "outputs": [
    {
     "name": "stdout",
     "output_type": "stream",
     "text": [
      "line period is 16.67 ms\n",
      "half-cycle time is 8.333 ms\n",
      "no. of cycles is 10.0\n",
      "voltage for t1 is 54.0 V\n",
      "power for t1 is 291.6 W\n",
      "voltage for t2 is 100.0 V\n",
      "voltage for t2 is 1000.0 W\n"
     ]
    }
   ],
   "source": [
    "#finding voltage , power and cycles\n",
    "\n",
    "#initialisation of variable\n",
    "from math import pi,tan,sqrt,sin,cos,acos,atan\n",
    "R=10.0;#load\n",
    "V=120.0;#rms voltage\n",
    "f=60.0;#hertz\n",
    "T=83.3;#ms\n",
    "t1=15;#ms\n",
    "t2=55;#ms\n",
    "\n",
    "#calculation\n",
    "Tl=1/f;\n",
    "Th=Tl/2;\n",
    "C=round(T/Th/100)*100;\n",
    "D1=.2;\n",
    "V1=round(V*D1**.5);\n",
    "P1=V1**2/R;\n",
    "D2=.7;\n",
    "V2=round(V*D2**.5);\n",
    "P2=V2**2/R;\n",
    "\n",
    "#result\n",
    "print \"line period is\",round(Tl*1000,2), \"ms\"\n",
    "print \"half-cycle time is\",round(Th*1000,3), \"ms\"\n",
    "print \"no. of cycles is\",C/1000\n",
    "print \"voltage for t1 is\",round(V1,3), \"V\"\n",
    "print \"power for t1 is\",round(P1,3), \"W\"\n",
    "print \"voltage for t2 is\",round(V2,3), \"V\"\n",
    "print \"voltage for t2 is\",round(P2,3), \"W\""
   ]
  },
  {
   "cell_type": "markdown",
   "metadata": {},
   "source": [
    "### Example 8.8,Page 427"
   ]
  },
  {
   "cell_type": "code",
   "execution_count": 7,
   "metadata": {
    "collapsed": false
   },
   "outputs": [
    {
     "name": "stdout",
     "output_type": "stream",
     "text": [
      "average voltage is 42.0 V\n",
      "dc voltage is 41.0 V\n",
      "\n",
      "the markers indicae Vp=163V Vave=41\n",
      "full-wave rms voltage is 108.0 V\n",
      "rms voltage is 108.0 V\n",
      "\n",
      "the markers indicate Vp=169V ;Vave=106V\n"
     ]
    }
   ],
   "source": [
    "#finding dc volatge,average voltage,rms voltage\n",
    "\n",
    "#initialisation of variable\n",
    "from math import pi,tan,sqrt,sin,cos,acos,atan\n",
    "V=120.0;#line voltage\n",
    "A=60.0;#degree\n",
    "D=0.35;\n",
    "\n",
    "#calculation\n",
    "Va=D*V;\n",
    "Vd=V*2**.5*(cos(A*pi/180)+1)/2/pi;\n",
    "Vr=.9*V;\n",
    "Vrms=V*(2**.5)*(.5*(pi-1.047)+.25*sin(2*A*pi/180))**.5/pi**.5;\n",
    "\n",
    "#result\n",
    "print \"average voltage is\",round(Va,3), \"V\"\n",
    "print \"dc voltage is\",round(Vd), \"V\"\n",
    "print('\\nthe markers indicae Vp=163V Vave=41')\n",
    "print \"full-wave rms voltage is\",round(Vr), \"V\"\n",
    "print \"rms voltage is\",round(Vrms), \"V\"\n",
    "print('\\nthe markers indicate Vp=169V ;Vave=106V')\n"
   ]
  },
  {
   "cell_type": "markdown",
   "metadata": {},
   "source": [
    "### Example 8.9,Page 430"
   ]
  },
  {
   "cell_type": "code",
   "execution_count": 8,
   "metadata": {
    "collapsed": false
   },
   "outputs": [
    {
     "name": "stdout",
     "output_type": "stream",
     "text": [
      "rms voltage is 141.18 V\n",
      "double checked value of rms voltage is 141.18 V\n"
     ]
    }
   ],
   "source": [
    "#finding rms voltage and double checked rms voltage\n",
    "\n",
    "#initialisation of variable\n",
    "from math import pi,tan,sqrt,sin,cos,acos,atan\n",
    "V=220.0;#line voltage\n",
    "P=1.3;#kW\n",
    "R=15.0;#ohm\n",
    "\n",
    "#calculation\n",
    "Vr=round((P*1000*R)**.5);\n",
    "D=Vr/V;\n",
    "Vr=V*2**.5*(.5*(pi-1.710)+sin(196*pi/180)/4)**.5/pi**.5;\n",
    "\n",
    "#result\n",
    "print \"rms voltage is\",round(Vr,2), \"V\"\n",
    "print \"double checked value of rms voltage is\",round(Vr,2), \"V\""
   ]
  }
 ],
 "metadata": {
  "kernelspec": {
   "display_name": "Python 2",
   "language": "python",
   "name": "python2"
  },
  "language_info": {
   "codemirror_mode": {
    "name": "ipython",
    "version": 2
   },
   "file_extension": ".py",
   "mimetype": "text/x-python",
   "name": "python",
   "nbconvert_exporter": "python",
   "pygments_lexer": "ipython2",
   "version": "2.7.6"
  }
 },
 "nbformat": 4,
 "nbformat_minor": 0
}
