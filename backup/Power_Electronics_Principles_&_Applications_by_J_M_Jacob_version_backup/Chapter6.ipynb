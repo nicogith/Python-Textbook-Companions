{
 "cells": [
  {
   "cell_type": "markdown",
   "metadata": {},
   "source": [
    "# Chapter 6: Power Switches"
   ]
  },
  {
   "cell_type": "markdown",
   "metadata": {},
   "source": [
    "### Example 6.1,Page 274"
   ]
  },
  {
   "cell_type": "code",
   "execution_count": 2,
   "metadata": {
    "collapsed": false
   },
   "outputs": [
    {
     "name": "stdout",
     "output_type": "stream",
     "text": [
      "collector current is 1.81 A\n",
      "load power is 49.32 W\n",
      "transistor power is 1.45 W\n",
      "least value of base current is 90.67 mA\n",
      "max value of base resistance is 4.85 ohm\n",
      "thus pick Rb=33ohm\n"
     ]
    }
   ],
   "source": [
    "#finding Ic,Pload,Pq,Ibase,Rbase\n",
    "\n",
    "#initialisation of variable\n",
    "from math import pi,tan,sqrt,sin,cos,acos,atan\n",
    "Vs=28.0;#V\n",
    "Vi=5.0;#V\n",
    "Rl=15.0;#ohm\n",
    "Vc=.8;#V\n",
    "b=20.0;\n",
    "\n",
    "#calculation\n",
    "Ic=(Vs-Vc)/Rl;\n",
    "Pl=Ic**2*Rl;\n",
    "Pq=Ic*Vc;\n",
    "Ib=Ic/b*1000;\n",
    "Rb=(Vi-.6)/Ib;\n",
    "\n",
    "#result\n",
    "print \"collector current is\",round(Ic,2), \"A\"\n",
    "print \"load power is\",round(Pl,2), \"W\"\n",
    "print \"transistor power is\",round(Pq,2), \"W\"\n",
    "print \"least value of base current is\",round(Ib,2), \"mA\"\n",
    "print \"max value of base resistance is\",round(Rb*100,2), \"ohm\"\n",
    "print ('thus pick Rb=33ohm')"
   ]
  },
  {
   "cell_type": "markdown",
   "metadata": {},
   "source": [
    "### Example 6.4,Page 282"
   ]
  },
  {
   "cell_type": "code",
   "execution_count": 3,
   "metadata": {
    "collapsed": false
   },
   "outputs": [
    {
     "name": "stdout",
     "output_type": "stream",
     "text": [
      "load resistance is 554.0 ohm\n",
      "thus pick Rl=560ohm\n",
      "max value of Rb is 3.0 kohm\n",
      "thus pick Rb=2.2kohm\n",
      "load current is 49.46 mA\n",
      "load power is 685.08 mW\n",
      "power delivered is 7.42 mW\n"
     ]
    }
   ],
   "source": [
    "#finding Pload,Pq,Iload,resistances\n",
    "\n",
    "#initialisation of variable\n",
    "from math import pi,tan,sqrt,sin,cos,acos,atan\n",
    "Vd=28.0;#V\n",
    "f=100.0;#frequency\n",
    "I=50.0;#current\n",
    "Rl1=560.0;\n",
    "Vp=2.4;\n",
    "Ib=500.0;#microAmp\n",
    "D=.5;#duty cycle\n",
    "\n",
    "#calculation\n",
    "Rl=(Vd-.3)/I;\n",
    "Rb=(Vp-.9)/Ib;\n",
    "Vl=Vd-.3;\n",
    "Ip=Vl/Rl1;\n",
    "Pl=D*Vl*Ip;\n",
    "Pq=D*Ip*.3;\n",
    "\n",
    "#result\n",
    "print \"load resistance is\",round(Rl*1000), \"ohm\"\n",
    "print('thus pick Rl=560ohm')\n",
    "print \"max value of Rb is\",round(Rb*1000,2),\"kohm\"\n",
    "print('thus pick Rb=2.2kohm')\n",
    "print \"load current is\",round(Ip*1000,2), \"mA\"\n",
    "print \"load power is\",round(Pl*1000,2), \"mW\"\n",
    "print \"power delivered is\",round(Pq*1000,2), \"mW\""
   ]
  },
  {
   "cell_type": "markdown",
   "metadata": {},
   "source": [
    "### Example 6.5,Page 286"
   ]
  },
  {
   "cell_type": "code",
   "execution_count": 4,
   "metadata": {
    "collapsed": false
   },
   "outputs": [
    {
     "name": "stdout",
     "output_type": "stream",
     "text": [
      "time of rise is 788.48 ns\n",
      "time of rise is 4.65 microsec\n"
     ]
    }
   ],
   "source": [
    "#finding time of rise\n",
    "\n",
    "#initialisation of variable\n",
    "from math import pi,tan,sqrt,sin,cos,acos,atan\n",
    "C=640.0;#capacitor\n",
    "R1=560.0;#load resistance\n",
    "R2=3.3;#kohm\n",
    "\n",
    "#calculation\n",
    "t1=2.2*R1*C;\n",
    "t2=2.2*R2*C;\n",
    "\n",
    "#result\n",
    "print \"time of rise is\",round(t1/1000,2), \"ns\"\n",
    "print \"time of rise is\",round(t2/1000,2), \"microsec\""
   ]
  },
  {
   "cell_type": "markdown",
   "metadata": {},
   "source": [
    "### Example 6.6,Page 287"
   ]
  },
  {
   "cell_type": "code",
   "execution_count": 2,
   "metadata": {
    "collapsed": false
   },
   "outputs": [
    {
     "name": "stdout",
     "output_type": "stream",
     "text": [
      "resistance is 682.5 ohm\n",
      "pick up resistance=680 ohm\n",
      "rise time is 957.44 ns\n"
     ]
    },
    {
     "data": {
      "image/png": "[encoded data removed]",
      "text/plain": [
       "<matplotlib.figure.Figure at 0x7f4e9da3f2d0>"
      ]
     },
     "metadata": {},
     "output_type": "display_data"
    }
   ],
   "source": [
    "#finding Rpick up,time of rise\n",
    "\n",
    "#initialisation of variable\n",
    "%matplotlib inline\n",
    "import numpy as np\n",
    "import matplotlib.pyplot as plt\n",
    "Vol=0.7;\n",
    "Iol=40.0/1000;#current\n",
    "Rpullup1=680.0;\n",
    "C=640.0;\n",
    "Epullup=28.0;\n",
    "#for plotting\n",
    "x=[0, .1, 1.9, 4.1, 5, 5.1, 5.3, 5.6, 6.0, 9.3];\n",
    "y=[27.8, .1, .1, .1, .1, 5, 13.5, 21.0, 27.0, 27.8];\n",
    "\n",
    "#calculation\n",
    "Rpullup=(Epullup-Vol)/Iol;\n",
    "trise=2.2*Rpullup1*C;\n",
    "plt.plot(x,y,'r');\n",
    "plt.xlabel ('time(mus)')\n",
    "plt.ylabel ('Vout')\n",
    "plt.title ('Vout vs time')\n",
    "\n",
    "#result\n",
    "print \"resistance is\",round(Rpullup,2), \"ohm\"\n",
    "print('pick up resistance=680 ohm');\n",
    "print \"rise time is\",round(trise/1000,2), \"ns\"\n",
    "\n"
   ]
  },
  {
   "cell_type": "markdown",
   "metadata": {},
   "source": [
    "### Example 6.7,Page 289"
   ]
  },
  {
   "cell_type": "code",
   "execution_count": 5,
   "metadata": {
    "collapsed": false
   },
   "outputs": [
    {
     "name": "stdout",
     "output_type": "stream",
     "text": [
      "worst case resistance is 0.286 ohm\n",
      "load current is 4.45 A\n",
      "load voltage is 26.73 V\n",
      "load power is 47.62 W\n",
      "drop voltage is 1.27 V\n",
      "power is 2.27 W\n",
      "temperature is 182.6 deg.C\n"
     ]
    }
   ],
   "source": [
    "#finding worst case resistance and power characteristics\n",
    "\n",
    "#initialisation of variable\n",
    "from math import pi,tan,sqrt,sin,cos,acos,atan\n",
    "R1=.11;#resistance\n",
    "Vd=28.0;#voltage\n",
    "R2=6.0;#ohm\n",
    "D=.4;#duty cycle\n",
    "Q=62.0;\n",
    "\n",
    "#calculation\n",
    "Ro=2.6*R1;\n",
    "Ip=Vd/(R2+Ro);\n",
    "Vl=Ip*R2;\n",
    "Pl=D*Vl*Ip;\n",
    "Vq=Ip*Ro;\n",
    "Pq=D*Vq*Ip;\n",
    "T=40+round(Pq*10)/10*Q;\n",
    "\n",
    "#result\n",
    "print \"worst case resistance is\",round(Ro,3), \"ohm\"\n",
    "print \"load current is\",round(Ip,2),\"A\"\n",
    "print \"load voltage is\",round(Vl,2), \"V\"\n",
    "print \"load power is\",round(Pl,2), \"W\"\n",
    "print \"drop voltage is\",round(Vq,2), \"V\"\n",
    "print \"power is\",round(Pq*10,2)/10, \"W\"\n",
    "print \"temperature is\",round(T,2), \"deg.C\""
   ]
  },
  {
   "cell_type": "markdown",
   "metadata": {},
   "source": [
    "### Example 6.8,Page 292"
   ]
  },
  {
   "cell_type": "code",
   "execution_count": 6,
   "metadata": {
    "collapsed": false
   },
   "outputs": [
    {
     "name": "stdout",
     "output_type": "stream",
     "text": [
      "voltage is 150.0 V\n"
     ]
    }
   ],
   "source": [
    "#finding voltage\n",
    "\n",
    "#initialisation of variable\n",
    "from math import pi,tan,sqrt,sin,cos,acos,atan\n",
    "L=10.0;#inductor\n",
    "I=4.5;#current\n",
    "t=300.0#time\n",
    "\n",
    "#calculation\n",
    "V=L*I/t;\n",
    "\n",
    "#result\n",
    "print \"voltage is\",round(V*1000,2), \"V\""
   ]
  },
  {
   "cell_type": "markdown",
   "metadata": {},
   "source": [
    "### Example 6.9,Page 298"
   ]
  },
  {
   "cell_type": "code",
   "execution_count": 1,
   "metadata": {
    "collapsed": false
   },
   "outputs": [
    {
     "name": "stdout",
     "output_type": "stream",
     "text": [
      "R1+R2 is 682.5 ohm\n",
      "pick R1=330ohm & R2=360ohm as they divide Vd setting 8V<Vg<18V\n",
      "node voltage for V1 is 28.0 V\n",
      "node voltage for V2 is 0.7 V\n",
      "gate voltage is 15.31 V\n",
      "gate & source diff is -12.69 V\n",
      "load voltage is 26.73 V\n",
      "load current is 2.23 A\n",
      "load power is 47.63 W\n",
      "Pq is 2.26 W\n",
      "thermal resistance is 44.92 degreeC/W\n"
     ]
    }
   ],
   "source": [
    "#finding resistance and power characteristics\n",
    "\n",
    "#initialisation of variable\n",
    "from math import pi,tan,sqrt,sin,cos,acos,atan\n",
    "Rl=12.0;#load resistance\n",
    "V1=.8;#voltage\n",
    "V2=2.4;#voltage\n",
    "D=.8;#duty cycle\n",
    "Tj=150.0;#degreeC\n",
    "Ta=40.0;#degreeC\n",
    "Vd=28.0;\n",
    "Vo=.7;\n",
    "I=40.0;#mA;\n",
    "R1=330;\n",
    "R2=360;\n",
    "Vn1=28;\n",
    "Vn2=.7;\n",
    "\n",
    "#calculation\n",
    "k=(Vd-Vo)/I;\n",
    "Vg=R2*Vd/(R1+R2)+Vn2;\n",
    "Vgs=Vg-Vd;\n",
    "Vl=Vd*Rl/(Rl+.57);\n",
    "Il=Vl/Rl;\n",
    "Pl=D*Vl*Il;\n",
    "Vq=Il*.57;\n",
    "Pq=D*Vq*Il;\n",
    "Q=(Tj-Ta)/Pq-3.7;\n",
    "\n",
    "#result\n",
    "print \"R1+R2 is\",round(k*1000,2), \"ohm\"\n",
    "print('pick R1=330ohm & R2=360ohm as they divide Vd setting 8V<Vg<18V')\n",
    "print \"node voltage for V1 is\",round(Vn1,2),\"V\"\n",
    "print \"node voltage for V2 is\",round(Vn2,2), \"V\"\n",
    "print \"gate voltage is\",round(Vg,2), \"V\"\n",
    "print \"gate & source diff is\",round(Vgs,2), \"V\"\n",
    "print \"load voltage is\",round(Vl,3), \"V\"\n",
    "print \"load current is\",round(Il,2), \"A\"\n",
    "print \"load power is\",round(Pl,2), \"W\"\n",
    "print \"Pq is\",round(Pq,2), \"W\"\n",
    "print \"thermal resistance is\",round(Q,2), \"degreeC/W\""
   ]
  },
  {
   "cell_type": "markdown",
   "metadata": {},
   "source": [
    "### Example 6.10,Page 305"
   ]
  },
  {
   "cell_type": "code",
   "execution_count": 8,
   "metadata": {
    "collapsed": false
   },
   "outputs": [
    {
     "name": "stdout",
     "output_type": "stream",
     "text": [
      "time is 1.1 micro s\n"
     ]
    }
   ],
   "source": [
    "#finding time\n",
    "\n",
    "#initialisation of variable\n",
    "from math import pi,tan,sqrt,sin,cos,acos,atan\n",
    "I=40.0;#current\n",
    "Q=44.0;#nC\n",
    "\n",
    "#calculation\n",
    "t=Q/I;\n",
    "\n",
    "#result\n",
    "print \"time is\",round(t,2), \"micro s\""
   ]
  },
  {
   "cell_type": "markdown",
   "metadata": {},
   "source": [
    "### Example 6.11,Page 313"
   ]
  },
  {
   "cell_type": "code",
   "execution_count": 9,
   "metadata": {
    "collapsed": false
   },
   "outputs": [
    {
     "name": "stdout",
     "output_type": "stream",
     "text": [
      "current is 1.8 A\n",
      "load voltage is 26.97 V\n",
      "power is 40.85 W\n",
      "high side voltage is 0.67 V\n",
      "high side power is 1.03 W\n",
      "low side voltage is 0.36 V\n",
      "low side power is 0.55 W\n",
      "IC power is 1.56 W\n",
      "thermal resistance is 55.49 degreeC/W\n"
     ]
    }
   ],
   "source": [
    "#finding different voltages and power\n",
    "\n",
    "#initialisation of variable\n",
    "from math import pi,tan,sqrt,sin,cos,acos,atan\n",
    "Rl=15.0;#load resistance\n",
    "D=.85;#duty cycle\n",
    "Ts=60.0;#degreeC\n",
    "Vd=28.0;#voltage\n",
    "R1=.375;\n",
    "R2=.2;\n",
    "\n",
    "#calculation\n",
    "I=Vd/(R1+R2+Rl);\n",
    "Vl1=I*Rl;\n",
    "P=D*Vl*I;\n",
    "Vh=I*R1;\n",
    "Ph=D*Vh*I;\n",
    "Vl=I*R2;\n",
    "Pl=D*Vl*I;\n",
    "Pic=Ph+Pl;\n",
    "Pic=1.56;\n",
    "Tj=150;\n",
    "Ta=60;\n",
    "Q=(Tj-Ta)/Pic-2.2;\n",
    "\n",
    "#result\n",
    "print \"current is\",round(I,2), \"A\"\n",
    "print \"load voltage is\",round(Vl1,2), \"V\"\n",
    "print \"power is\",round(P,2), \"W\"\n",
    "print \"high side voltage is\",round(Vh,2), \"V\"\n",
    "print \"high side power is\",round(Ph,2), \"W\"\n",
    "print \"low side voltage is\",round(Vl,2), \"V\"\n",
    "print \"low side power is\",round(Pl,2), \"W\"\n",
    "print \"IC power is\",round(Pic,2), \"W\"\n",
    "print \"thermal resistance is\",round(Q,2), \"degreeC/W\""
   ]
  }
 ],
 "metadata": {
  "kernelspec": {
   "display_name": "Python 2",
   "language": "python",
   "name": "python2"
  },
  "language_info": {
   "codemirror_mode": {
    "name": "ipython",
    "version": 2
   },
   "file_extension": ".py",
   "mimetype": "text/x-python",
   "name": "python",
   "nbconvert_exporter": "python",
   "pygments_lexer": "ipython2",
   "version": "2.7.6"
  }
 },
 "nbformat": 4,
 "nbformat_minor": 0
}
