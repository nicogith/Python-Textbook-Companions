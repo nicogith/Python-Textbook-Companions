{
 "metadata": {
  "name": "",
  "signature": "sha256:754d16208f27c1e0dbeadb6f1c3c27ce91525c1955b7b285b7e9d6100cebe96b"
 },
 "nbformat": 3,
 "nbformat_minor": 0,
 "worksheets": [
  {
   "cells": [
    {
     "cell_type": "heading",
     "level": 1,
     "metadata": {},
     "source": [
      "Chapter 7 : radiation heat transfer"
     ]
    },
    {
     "cell_type": "heading",
     "level": 2,
     "metadata": {},
     "source": [
      "Example 7.3 Page No : 215"
     ]
    },
    {
     "cell_type": "code",
     "collapsed": false,
     "input": [
      "import math \n",
      "# Variables\n",
      "Ts = 5780.              \t\t\t#K, surface temp.\n",
      "\n",
      "# Calculations and Results\n",
      "#(a)\n",
      "lamda1 = 0.4         \t\t\t#micrometer, starting visible spectrum range \n",
      "lamda2 = 0.7         \t\t\t#micrometer,ending visible spectrum range\n",
      "E1 = lamda1*Ts       \t\t\t#micrometer K, \n",
      "E2 = lamda2*Ts       \t\t\t#micrometer K, \n",
      "#from table 7.2\n",
      "#fraction of radiation lying between 0 and lamda1\n",
      "F1 = 0.1229\n",
      "#fraction of radiation lying between 0 and lamda2\n",
      "F2 = 0.4889\n",
      "#the fraction of radiation falls betweem lamda1 & lamda 2\n",
      "F3 = F2-F1\n",
      "print \"the fraction of radiation falls in visible range is %.3f \"%(F3)\n",
      "#(b)\n",
      "F4 = F1\n",
      "print \"the fraction of radiation on the left of visible range is %.4f \"%(F4)\n",
      "#(c)\n",
      "F5 = 1-F2\n",
      "print \"the fraction in right of visible range is %.4f \"%(F5)\n",
      "#(d)\n",
      "#from wein's print lacement law\n",
      "lmax = 2898/Ts\n",
      "print \"The maximum wavelength is %.4f micrometer is\"%(lmax)\n",
      "c = 2.998*10**8      \t\t\t#m/s, speed of light\n",
      "mu = c/lmax\n",
      "print \"The frequency is %1.2e s**-1\"%(mu)\n",
      "#(e)\n",
      "#from eq. 7.4\n",
      "h = 6.6256*10**-34         \t\t\t#Js planck's consmath.tant\n",
      "k = 1.3805*10**-23         \t\t\t#J/K, boltzman consmath.tant\n",
      "Eblmax = (2*math.pi*h*c**2*(lmax*10**-6)**-5)/((math.exp(h*c/(lmax*10**-6*k*Ts)))-1)\n",
      "print \"the maximum spectral emissive power is %1.3e W/m**2\"%(Eblmax)\n",
      "#(f)\n",
      "s = 5.668*10**-8           \t\t\t#stephen math.cosmath.tant\n",
      "Eb = s*Ts**4\n",
      "print \"the hemispherical total emissive power is %1.3e W/m**2\"%(Eb)\n",
      "\n",
      "# note : rounding off error."
     ],
     "language": "python",
     "metadata": {},
     "outputs": [
      {
       "output_type": "stream",
       "stream": "stdout",
       "text": [
        "the fraction of radiation falls in visible range is 0.366 \n",
        "the fraction of radiation on the left of visible range is 0.1229 \n",
        "the fraction in right of visible range is 0.5111 \n",
        "The maximum wavelength is 0.5014 micrometer is\n",
        "The frequency is 5.98e+08 s**-1\n",
        "the maximum spectral emissive power is 8.298e+13 W/m**2\n",
        "the hemispherical total emissive power is 6.326e+07 W/m**2\n"
       ]
      }
     ],
     "prompt_number": 2
    },
    {
     "cell_type": "heading",
     "level": 2,
     "metadata": {},
     "source": [
      "Example 7.4 Page No : 216"
     ]
    },
    {
     "cell_type": "code",
     "collapsed": false,
     "input": [
      "#Variables\n",
      "Eb = 4000.           \t\t\t#W/m sq, Total emmisive power\n",
      "s = 5.669*10**-8  \t\t\t#Stephen boltzman consmath.tant\n",
      "\n",
      "#Calculation\n",
      "T = (Eb/s)**0.25  \t\t\t#k, surface temp. of black body\n",
      "ym = 2898./T      \t\t\t#micro meter,\n",
      "#By weins law : Max. wavelength of emmision is inversaly proportional \n",
      "#to temprature. and consmath.tant is 2898 micrometer.\n",
      "\n",
      "#Result\n",
      "print \"Surface temp. is %.0f C\"%(T)\n",
      "print \"wavength is  %.2f micrometer \"%(ym)\n",
      "print \" from fig 7.1 it  falls in the infrared region of spectrum.\"\n"
     ],
     "language": "python",
     "metadata": {},
     "outputs": [
      {
       "output_type": "stream",
       "stream": "stdout",
       "text": [
        "Surface temp. is 515 C\n",
        "wavength is  5.62 micrometer \n",
        " from fig 7.1 it  falls in the infrared region of spectrum.\n"
       ]
      }
     ],
     "prompt_number": 3
    },
    {
     "cell_type": "heading",
     "level": 2,
     "metadata": {},
     "source": [
      "Example 7.5 Page No : 219"
     ]
    },
    {
     "cell_type": "code",
     "collapsed": false,
     "input": [
      "# Variables\n",
      "T = 1500.       \t\t\t#K, surface temprature\n",
      "#from fig 7.7\n",
      "e1 = 0.2     \t\t\t#emissivity ,when wavelength(l1) is 0<l1<2 micrometer\n",
      "e2 = 0.6     \t\t\t#emissivity ,when wavelength(l2) is 2<l2<6 micrometer\n",
      "e3 = 0.1     \t\t\t#emissivity ,when wavelength(l3) is 6<l3<10 micrometer\n",
      "e4 = 0       \t\t\t#emissivity ,when wavelength(l4) is l4>10 micrometer\n",
      "#from table 7.2\n",
      "F1 = 0.2733        \t\t\t#fraction of energy in  wavelength (l1)\n",
      "F2 = 0.89-F1       \t\t\t#fraction of energy in  wavelength (l2)\n",
      "F3 = 0.9689-0.89   \t\t\t#fraction of energy in  wavelength (l3)\n",
      "\n",
      "#Calculation and Result\n",
      "s = 5.669*10**-8    \t\t\t#stephen's consmath.tant\n",
      "Eb = s*T**4         \t\t\t#emissive power \n",
      "E = (e1*F1+e2*F2+e3*F3)*Eb\n",
      "print \"total hemispherical) emissive power is %1.3e W/m**2\"%(E)\n",
      "#(b)\n",
      "e = E/(s*T**4)\n",
      "print \"total hemispherical) emissivity of the surface is %.4f\"%(e)\n"
     ],
     "language": "python",
     "metadata": {},
     "outputs": [
      {
       "output_type": "stream",
       "stream": "stdout",
       "text": [
        "total hemispherical) emissive power is 1.241e+05 W/m**2\n",
        "total hemispherical) emissivity of the surface is 0.4326\n"
       ]
      }
     ],
     "prompt_number": 4
    },
    {
     "cell_type": "heading",
     "level": 2,
     "metadata": {},
     "source": [
      "Example 7.6 Page No : 226"
     ]
    },
    {
     "cell_type": "code",
     "collapsed": false,
     "input": [
      "from scipy.integrate import quad \n",
      "\n",
      "# Variables\n",
      "ri = 5.         \t\t\t#cm ,inside radius  of ring\n",
      "w = 3.          \t\t\t#cm, width\n",
      "ro = ri+w      \t\t\t#cm, outside radius \n",
      "L = 20.         \t\t\t#cm, surface dismath.tance\n",
      "\n",
      "# Calculations\n",
      "def f4(r): \n",
      "    return 20.**2*r/(20.**2+r**2)**2\n",
      "\n",
      "F1 = 2* quad(f4,0,ri)[0]\n",
      "\n",
      "#view factor along surface dA1-A2\"\n",
      "\n",
      "def f5(r): \n",
      "    return 20**2*r/(20**2+r**2)**2\n",
      "\n",
      "F2 = 2* quad(f5,ri,ro)[0]\n",
      "\n",
      "# Results\n",
      "print \"fraction of radiation passes through hole  %.4f \"%(F1)\n",
      "print \"fraction of radiation intercepted by the ring %.4f \"%(F2)\n"
     ],
     "language": "python",
     "metadata": {},
     "outputs": [
      {
       "output_type": "stream",
       "stream": "stdout",
       "text": [
        "fraction of radiation passes through hole  0.0588 \n",
        "fraction of radiation intercepted by the ring 0.0791 \n"
       ]
      }
     ],
     "prompt_number": 5
    },
    {
     "cell_type": "heading",
     "level": 2,
     "metadata": {},
     "source": [
      "Example 7.8 Page No : 232"
     ]
    },
    {
     "cell_type": "code",
     "collapsed": false,
     "input": [
      "import math\n",
      "#Variables\n",
      "F11 = 0        \t\t\t#view factor\n",
      "d = 1.           \t\t\t#let it be\n",
      "print \"view factor F11  =  %.0f\" %(F11)\n",
      "\n",
      "#Calculation and Result\n",
      "F12 = 1-F11   \t\t\t#view factor\n",
      "print  \"view factor F22  = %.0f\"%(F12)\n",
      "\n",
      "A1 = ((math.pi)*d**2)/4   \t\t\t#sq m, area\n",
      "A2 = ((math.pi)*d**2)/2   \t\t\t#sq m, area\n",
      "F21 = A1/A2            \t\t\t#from eq . 7.26\n",
      "print \"view factor F21  = %.1f\"%( F21)\n",
      "F22 = 1-F21  \n",
      "#Results\n",
      "print \"view factor = %.1f\"%(F22)\n"
     ],
     "language": "python",
     "metadata": {},
     "outputs": [
      {
       "output_type": "stream",
       "stream": "stdout",
       "text": [
        "view factor F11  =  0\n",
        "view factor F22  = 1\n",
        "view factor F21  = 0.5\n",
        "view factor = 0.5\n"
       ]
      }
     ],
     "prompt_number": 6
    },
    {
     "cell_type": "heading",
     "level": 2,
     "metadata": {},
     "source": [
      "Example 7.9 Page No : 233"
     ]
    },
    {
     "cell_type": "code",
     "collapsed": false,
     "input": [
      "import math\n",
      "#Variable\n",
      "s = 3.         \t\t\t#no. of surface\n",
      "tvf = s**2    \t\t\t#total view factor\n",
      "\n",
      "#using the result of example 7.8\n",
      "F11 = 0 \n",
      "F33 =  0.5\n",
      "print \"view factor F11  = %.0f\"%(F11)\n",
      "print \"view factor F33  = %.1f\"%(F33)\n",
      "\n",
      "#Calculation & Results\n",
      "R1 = 0.25     \t\t\t#R = d/2*h &h = 2d\n",
      "R2 = 0.25\n",
      "X = 1+((1+R2**2)/(R1**2))\n",
      "F14 = (0.5)*(X-math.sqrt((X**2)-4*(R2/R1)**2))\n",
      "print \"view factor F14  = %.3f\"%(F14)\n",
      "F13 = F14\n",
      "print \"view factor F13  = %.3f\"%(F13)\n",
      "F12 = 1-F11-F13  \t\t\t# from eq. 7.31 for surface 1\n",
      "print \"view factor F12  = %.3f\"%(F12)\n",
      "\n",
      "d = 1.            \t\t\t#say\n",
      "A1 = (math.pi*(d**2))/4.\n",
      "A3 = (math.pi*(d**2))/2.\n",
      "F31 = A1*F13/(A3)\n",
      "print \"view factor F31  = %.3f\"%(F31)\n",
      "\n",
      "# from eq. 7.31 for surface 3\n",
      "F33 = 0.5\n",
      "F32 = 1-F31-F33\n",
      "print \"view factor F32  = %.3f\"%(F32)\n",
      "\n",
      "#for surface 2\n",
      "A2 = 2*math.pi*d**2\n",
      "F21 = A1*F12/A2\n",
      "print \"view factor F21  = %.3f\"%(F21)\n",
      "F23 = A3*F32/A2\n",
      "print \"view factor F23  = %.3f\"%(F23)\n",
      "F22 = 1-F21-F23\n",
      "print \"view factor F22  = %.3f\"%(F22)\n"
     ],
     "language": "python",
     "metadata": {},
     "outputs": [
      {
       "output_type": "stream",
       "stream": "stdout",
       "text": [
        "view factor F11  = 0\n",
        "view factor F33  = 0.5\n",
        "view factor F14  = 0.056\n",
        "view factor F13  = 0.056\n",
        "view factor F12  = 0.944\n",
        "view factor F31  = 0.028\n",
        "view factor F32  = 0.472\n",
        "view factor F21  = 0.118\n",
        "view factor F23  = 0.118\n",
        "view factor F22  = 0.764\n"
       ]
      }
     ],
     "prompt_number": 7
    },
    {
     "cell_type": "heading",
     "level": 2,
     "metadata": {},
     "source": [
      "Example 7.10 Page No : 235"
     ]
    },
    {
     "cell_type": "code",
     "collapsed": false,
     "input": [
      "import math\n",
      "# Variables\n",
      "ds = 0.3         \t\t\t#m, diameter of shell\n",
      "r1 = 0.1         \t\t\t#m, dismath.tance from the  centre\n",
      "\n",
      "#Calculation and Results\n",
      "#by the defination of view factor\n",
      "F12 = 1.\n",
      "print \"The view factor from surface 1 to 2 is %.0f\"%(F12)\n",
      "#F21\n",
      "R = ds/2.          \t\t\t#m, radius of sphere\n",
      "r2 = math.sqrt(R**2-r1**2)\n",
      "A1 = math.pi*r2**2      \t\t\t#m**2 area\n",
      "A2 = 2*math.pi*R**2+2*math.pi*R*math.sqrt(R**2-r2**2)\n",
      "#from reciprocity relation\n",
      "F21 = (A1/A2)*F12\n",
      "print \"The view factor from surface 2 to 1 is %.3f\"%(F21)\n"
     ],
     "language": "python",
     "metadata": {},
     "outputs": [
      {
       "output_type": "stream",
       "stream": "stdout",
       "text": [
        "The view factor from surface 1 to 2 is 1\n",
        "The view factor from surface 2 to 1 is 0.167\n"
       ]
      }
     ],
     "prompt_number": 8
    },
    {
     "cell_type": "heading",
     "level": 2,
     "metadata": {},
     "source": [
      "Example 7.12 Page No : 237"
     ]
    },
    {
     "cell_type": "code",
     "collapsed": false,
     "input": [
      "import math \n",
      "from scipy.integrate import quad \n",
      "# Variables\n",
      "d = 0.3     \t\t\t#m, diameter of steel sphere\n",
      "Ti = 800.    \t\t\t#K, initial temp. of sphere\n",
      "T2 = 303.    \t\t\t#C,ambient temp.\n",
      "T1 = 343.     \t\t\t#C, final tempreture\n",
      "rho = 7801.  \t\t\t#kg/m**3, density of steel\n",
      "cp = 0.473  \t\t\t#kj/kg C, specific heat of steel\n",
      "#calculation\n",
      "R = d/2    \t\t\t#m, radius of sphere\n",
      "A1 = 4*math.pi*R**2   \t\t\t#m**2, area of sphere\n",
      "m = 4./3*math.pi*R**3*rho  \t\t\t#m**3, mass of sphere\n",
      "F12 = 1.              \t\t\t#view factor\n",
      "s = 5.669*10**-8      \t\t\t#stephen Boltzman's consmath.tant\n",
      "#-dT1/dt = A1*F12*s*(T**4-T2**4)/(m*cp)\n",
      "\n",
      "def f1(T1): \n",
      "    return (1/(T1**4-T2**4))\n",
      "\n",
      "I =  quad(f1,343,800)[0]\n",
      "\n",
      "t = I/(A1*F12*s/(m*cp*10**3))\n",
      "\n",
      "# Results\n",
      "print \"The time required for the ball to cool is %.1f h\"%(t/3600)\n"
     ],
     "language": "python",
     "metadata": {},
     "outputs": [
      {
       "output_type": "stream",
       "stream": "stdout",
       "text": [
        "The time required for the ball to cool is 10.3 h\n"
       ]
      }
     ],
     "prompt_number": 9
    },
    {
     "cell_type": "heading",
     "level": 2,
     "metadata": {},
     "source": [
      "Example 7.13 Page No : 247"
     ]
    },
    {
     "cell_type": "code",
     "collapsed": false,
     "input": [
      "import math\n",
      "#Variables\n",
      "d = 0.114          \t\t\t#m, dia.o f pipe\n",
      "l = 1.                 \t\t\t#m,  length of pipe\n",
      "A = (math.pi)*d*l  \t\t\t#m sq,  area\n",
      "e1 = 1.             \t\t\t#emmisivity of black body\n",
      "F12 =  1.           \t\t\t#view factor, 1:pipe surface, 2:room walls\n",
      "s = 5.67*10**-8    \t\t\t#stephen boltzman consmath.tant\n",
      "T1 =  440.          \t\t\t#K, steam temp.\n",
      "T2 = 300.           \t\t\t#K, wall temp.\n",
      "#Caluclation\n",
      "Q12 = A*e1*F12*s*(T1**4-T2**4)  \t\t\t#net rate of radiative heat loss\n",
      "\n",
      "#Results\n",
      "print \"a) Net rate of radiative heat loss Q12  = %.1f W \"%(Q12)\n",
      "#Part-b\n",
      "e2 = 0.74\n",
      "Q12 = A*e2*F12*s*(T1**4-T2**4)  \t\t\t#net rate of radiative heat loss\n",
      "print \"b) Net rate of radiative heat loss Q12  = %.1f W\"%(Q12)\n"
     ],
     "language": "python",
     "metadata": {},
     "outputs": [
      {
       "output_type": "stream",
       "stream": "stdout",
       "text": [
        "a) Net rate of radiative heat loss Q12  = 596.6 W \n",
        "b) Net rate of radiative heat loss Q12  = 441.5 W\n"
       ]
      }
     ],
     "prompt_number": 11
    },
    {
     "cell_type": "heading",
     "level": 2,
     "metadata": {},
     "source": [
      "Example 7.14 Page No : 247"
     ]
    },
    {
     "cell_type": "code",
     "collapsed": false,
     "input": [
      "import math\n",
      "#Variable declaration\n",
      "F12 = 1.                \t\t\t#view factor\n",
      "r1 = 0.15              \t\t\t#m inner radius of phere\n",
      "r2 = 0.155            \t\t\t#m , outer radius\n",
      "\n",
      "#Calculation\n",
      "A1 = 4.*(math.pi)*r1**2  \t\t\t#sq m inner area\n",
      "A2 = 4.*(math.pi)*r2**2  \t\t\t#sq m,outer area \n",
      "F21 = A1/A2\n",
      "h = 200.                 \t\t\t#J/g, heat of vaporization of nitrogen\n",
      "s = 5.669*10**-8     \t\t\t# boltzman consmath.tant\n",
      "T2 = 298.               \t\t\t#K, temp. of outer wall\n",
      "T1 = 77.                \t\t\t#K, Temp. of inner wall\n",
      "e1 = 0.06              \t\t\t#emmisivity\n",
      "e2 = 0.06              \t\t\t#emmisivity\n",
      "x = ((1-e1)/(e1*A1))+(1/(A1*F12))+((1-e2)/(e2*A2))\n",
      "Q1net = (s*(T2**4-T1**4))/(x)\n",
      "\n",
      "#Result-a-i\n",
      "print \"a-i) View factor F12  =  %.0f\"%(F12)\n",
      "print \"view factor F21  =  %.3f\"%(F21)\n",
      "#Result- b\n",
      "print \"ii) The net rate of heat gain Q1net  = %.1f J/s\"%(Q1net)\n",
      "nl = Q1net/h\n",
      "nl = nl*3600        \t\t\t#g/h\n",
      "print \"b) Rate of nitrogen loss  =  %.0f g/h\"%(nl)\n"
     ],
     "language": "python",
     "metadata": {},
     "outputs": [
      {
       "output_type": "stream",
       "stream": "stdout",
       "text": [
        "a-i) View factor F12  =  1\n",
        "view factor F21  =  0.937\n",
        "ii) The net rate of heat gain Q1net  = 4.0 J/s\n",
        "b) Rate of nitrogen loss  =  72 g/h\n"
       ]
      }
     ],
     "prompt_number": 12
    },
    {
     "cell_type": "heading",
     "level": 2,
     "metadata": {},
     "source": [
      "Example 7.15 Page No : 248"
     ]
    },
    {
     "cell_type": "code",
     "collapsed": false,
     "input": [
      "import math\n",
      "# Variables\n",
      "x = 0.15             \t\t\t#m, length of opening on a furnace\n",
      "y = 0.12             \t\t\t#m, width of opening on a furnace\n",
      "x1 = 6.               \t\t\t#m, width of wall\n",
      "y1 = 5.               \t\t\t#m, height of wall\n",
      "e2 = 0.8             \t\t\t#emissivity of wall\n",
      "T1 = 1400.            \t\t\t#C, furnace temp.\n",
      "T2 = 35.              \t\t\t#C, wall temp.\n",
      "T3 = 273.             \t\t\t#C, smath.radians(numpy.arcmath.tan(ard temp.\n",
      "s = 5.669*10**-8     \t\t\t#stephen boltzman's consmath.tant\n",
      "#in fig. 7.29\n",
      "l1 = 2.               \t\t\t#m, l1 = AF\n",
      "l2 = 1.5             \t\t\t#m, l2 = AH\n",
      "h = 3.                \t\t\t#m, E = dA1\n",
      "\n",
      "# Calculations\n",
      "F1 = (1./(2*math.pi))*((l2/(math.sqrt(l2**2+h**2)))*math.tanh(l1/(math.sqrt(l2**2+h**2)))+(l1/(math.sqrt(l1**2+h**2)))*math.tan(l2/(math.sqrt(l1**2+h**2))))\n",
      "#Similarly\n",
      "#for the dA1-A3 pair the equation is\n",
      "F2 = 0.1175\n",
      "#for the dA1-A4 pair the equation is\n",
      "F3 = 0.1641\n",
      "#for the dA1-A5 pair the equation is\n",
      "F4 = 0.0992\n",
      "#view factor b/w the opening (dA1)and the wall (W) is \n",
      "F5 = F1+F2+F3+F4\n",
      "#Calculation of radient heat exchange\n",
      "dA1 = x*y\n",
      "Aw = x1*y1\n",
      "Eb1 = s*(T1+T3)**4\n",
      "Ebw = s*(T2+T3)**4\n",
      "F6 = dA1*F5/Aw\n",
      "Q = dA1*F5*e2*(Eb1*(1-(1-e2)*F6)-Ebw)\n",
      "\n",
      "# Results\n",
      "print \"the net rate of radiant heat transfer to the wall is %.0f W\"%(round(Q,-2))\n",
      "\n"
     ],
     "language": "python",
     "metadata": {},
     "outputs": [
      {
       "output_type": "stream",
       "stream": "stdout",
       "text": [
        "the net rate of radiant heat transfer to the wall is 2900 W\n"
       ]
      }
     ],
     "prompt_number": 13
    },
    {
     "cell_type": "heading",
     "level": 2,
     "metadata": {},
     "source": [
      "Example 7.16 Page No : 250"
     ]
    },
    {
     "cell_type": "code",
     "collapsed": false,
     "input": [
      "#Variable declaration\n",
      "l = 3.           \t\t\t#m, length of wall\n",
      "w = 2.           \t\t\t#m,  width of, wall\n",
      "d = 3.           \t\t\t#m\n",
      "R1 = l/d\n",
      "A1 = l*w        \t\t\t#sq m,area  1: front part\n",
      "A2 = A1         \t\t\t#sq m ,  area, 2\"back part\n",
      "e1 = 0.7        \t\t\t#emmisivity\n",
      "e2 = 0.7        \t\t\t#emmisivity\n",
      "T1 = 673.        \t\t\t#k\n",
      "T2 = 523.        \t\t\t#k\n",
      "s = 5.669*10**-8  \t\t\t#stephen boltzman consmath.tant\n",
      "\n",
      "#Calculation\n",
      "F12 =  0.148  \t\t\t#view factor ,from fig. 7.12\n",
      "x = (A1+A2-2*A1*F12)/(A2-(A1*(F12**2)))+((1/e1)-1)+(A1/A2)*((1/e2)-1)\n",
      "\n",
      "#Results\n",
      "Q1net = -1*A1*(s*(T2**4-T1**4))/(x)\n",
      "print \"the net rate of radiant heat loss  = %.1f kW \"%(Q1net/1000)\n",
      "# (b)\n",
      "F24 = 1.        \t\t\t#from fig 7.12\n",
      "T20 = 333.      \t\t\t#K, outer surface temp. of surface 2\n",
      "T4 = 303.       \t\t\t#K, ambient temp\n",
      "Q2rad = A2*e2*F24*s*(T20**4-T4**4)\n",
      "q = Q1net-Q2rad\n",
      "q1 = q/1000     \t\t\t# Kw\n",
      "h = q/(A2*(T20-T4))\n",
      "print \"convective heat transfer coeff.  = %.0f W/sq m C\"%(h)\n"
     ],
     "language": "python",
     "metadata": {},
     "outputs": [
      {
       "output_type": "stream",
       "stream": "stdout",
       "text": [
        "the net rate of radiant heat loss  = 17.1 kW \n",
        "convective heat transfer coeff.  = 90 W/sq m C\n"
       ]
      }
     ],
     "prompt_number": 14
    },
    {
     "cell_type": "heading",
     "level": 2,
     "metadata": {},
     "source": [
      "Example 7.17 Page No : 251"
     ]
    },
    {
     "cell_type": "code",
     "collapsed": false,
     "input": [
      "from numpy import *\n",
      "import math\n",
      "\n",
      "# Variables\n",
      "r1i = 0.1       \t\t\t#m, inner radius of disk 1\n",
      "r1o = 0.2       \t\t\t#m, outer radius of disk 1\n",
      "r2i = 0.12      \t\t\t#m, inner radius of disk 2\n",
      "r2o = 0.25      \t\t\t#m, outer radius of disk 2\n",
      "h = 0.08        \t\t\t#m, dismath.tance between the disks\n",
      "R2 = r2o/h\n",
      "R1 = r1o/h\n",
      "X = 1+(1+R1**2)/R2**2\n",
      "F23_14 = 1./2*(X-math.sqrt(X**2-4*(R1/R2)**2))\n",
      "\n",
      "#calculation\n",
      "R2_ = r2o/h\n",
      "R1_ = r1i/h\n",
      "X_ = 1+(1+R1_**2)/R2_**2\n",
      "F23_4 = 1/2*(X_-math.sqrt(X_**2-4*(R1_/R2_)**2))     \t\t\t#view factor\n",
      "#similarly\n",
      "F3_14 = 0.815          \t\t\t#view factor\n",
      "F34 = 0.4              \t\t\t#view factor\n",
      "A23 = math.pi*r2o**2        \t\t\t#area\n",
      "A3 = math.pi*r2i**2\n",
      "A1 = math.pi*(r1o**2-r1i**2)\n",
      "#from eq. 1\n",
      "F12 = A23*(F23_14-F23_4)/A1-(A3*(F3_14-F34))/A1\n",
      "\n",
      "#calculation of the rate of radiative heat exchange\n",
      "# Variables\n",
      "T1 = 1000.            \t\t\t#K, temprature of disk 1\n",
      "T2 = 300.             \t\t\t#K, temprature of disk 2\n",
      "s = 5.669*10**-8      \t\t\t#stephen's Boltzman consmath.tant\n",
      "e1 = 0.8             \t\t\t#emissivity\n",
      "e2 = 0.7\n",
      "A2 = math.pi*(r2o**2-r2i**2)\n",
      "F1s = 1-F12\n",
      "F2s = 1-(A1*F12/A2)\n",
      "#calculation\n",
      "#let some quantities equal to \n",
      "a = (1-e1)/(e1*A1)\n",
      "b = 1/(A1*F12)\n",
      "c = (1-e2)/(e2*A2)\n",
      "d = 1/(A1*F1s)\n",
      "e = 1/(A2*F2s)\n",
      "f = s*T1**4\n",
      "g = s*T2**4\n",
      "#from eq. 7.42(a)\n",
      "#(f-J1)/a = (J1-J2)/b+J1/d\n",
      "#(g-J2)/c = (J2-J1)/b+J1/e\n",
      "#solving two eqns by matrix\n",
      "A = array([[-0.0564,0.5036],[0.4712,-0.0564]])\n",
      "B = array([[161.847],[21376.31]])\n",
      "X = linalg.solve(A,B)\n",
      "J1 = X[0]\n",
      "J2 = X[1]\n",
      "\n",
      "#net rate of radiation exchange \n",
      "Q12net = (J1-J2)/17.73\n",
      "\n",
      "# Results\n",
      "print \"net rate of radiation exchange b/w disk 1 and 2 is %d W/m**2\"%(Q12net)\n"
     ],
     "language": "python",
     "metadata": {},
     "outputs": [
      {
       "output_type": "stream",
       "stream": "stdout",
       "text": [
        "net rate of radiation exchange b/w disk 1 and 2 is 2286 W/m**2\n"
       ]
      }
     ],
     "prompt_number": 15
    },
    {
     "cell_type": "heading",
     "level": 2,
     "metadata": {},
     "source": [
      "Example 7.18 Page No : 255"
     ]
    },
    {
     "cell_type": "code",
     "collapsed": false,
     "input": [
      "from scipy.optimize import fsolve \n",
      "import math \n",
      "\n",
      "# Variables\n",
      "di = 0.0254       \t\t\t#m, inner diameter of tube\n",
      "Ti = 77.           \t\t\t#K, liquid temprature\n",
      "do = 52.5*10**-3   \t\t\t#m, pipe internal diameter\n",
      "To = 270.          \t\t\t#K, wall temprature\n",
      "l = 1.             \t\t\t#m, length of tube\n",
      "e1 = 0.05         \t\t\t#emissivity of tube wall\n",
      "e2 = 0.1          \t\t\t#emissivity of pipe wall\n",
      "e3 = 0.02         \t\t\t#emissivity for inner surface of radiation field\n",
      "e4 = 0.03         \t\t\t#emissivity for outer surface of radiation field\n",
      "s = 5.669*10**-8   \t\t\t#stephen boltzman math.cosmath.tantl\n",
      "\n",
      "#Calculation\n",
      "ds = (do+di)/2    \t\t\t#m, diameter of radiation shield\n",
      "Ao = math.pi*do*l     \t\t\t#m**2, outer pipe area\n",
      "As = math.pi*ds*l     \t\t\t#m**2, shield area\n",
      "Ai = math.pi*di*l     \t\t\t#m**2, inner pipe area\n",
      "#View factors\n",
      "#for the long cylindrical enclosure made up of the outer pipe and the shield\n",
      "Fso = 1.    \t\t\t#because outer surface of shield cant see itself\n",
      "Fos = As/Ao \n",
      "Fsi = Ai/As\n",
      "#now assume \n",
      "#(1-e2)/e2+ 1/Fos +Ao*(1-e4)/(As*e4) = x\n",
      "#(1-e3)/e3 +1/Fsi +(1/Fsi)*(1-e1)/e1 = y\n",
      "x = (1-e2)/e2+ 1/Fos +Ao*(1-e4)/(As*e4)\n",
      "y = (1-e3)/e3 +1/Fsi +(1/Fsi)*(1-e1)/e1\n",
      "#solving the  equations for heat transfer from the outer pipe and inner pipe\n",
      "def f(Ts): \n",
      "    return (Ao*(To**4-Ts**4)/x)-(Ai*(Ts**4-Ti**4)/x)\n",
      "Ts = fsolve(f,1)\n",
      "Qos = (Ao*s*(To**4-Ts**4))/x\n",
      "\n",
      "# Results\n",
      "print \"The net rate of heat gain of tube is %.2f W\"%(Qos)\n",
      "\n",
      "# note : rounding off error."
     ],
     "language": "python",
     "metadata": {},
     "outputs": [
      {
       "output_type": "stream",
       "stream": "stdout",
       "text": [
        "The net rate of heat gain of tube is 0.30 W\n"
       ]
      }
     ],
     "prompt_number": 16
    },
    {
     "cell_type": "heading",
     "level": 2,
     "metadata": {},
     "source": [
      "Example 7.19 Page No : 258"
     ]
    },
    {
     "cell_type": "code",
     "collapsed": false,
     "input": [
      "# Variables\n",
      "T1 = 300 + 273.      #K\n",
      "Ta = 30. + 273.      # K\n",
      "w = 0.075            # m\n",
      "k = 0.08             # W/m c\n",
      "l = 1.075            # m\n",
      "delta = 5.669 * 10**-8   # W/m**2 K**4\n",
      "A1 = 1 * 1.5         # M**2\n",
      "A2 = A1\n",
      "A2m = (1.5 + 1.9)/2   # m**2\n",
      "A3m = (5. + 6.02)/2   # m**2  \n",
      "\n",
      "# Calculations\n",
      "T2 = 545.1          # k\n",
      "T2_ = 322.6\n",
      "T3 = 544.7\n",
      "T3_ = 328.4\n",
      "rate_of_heatloss1 = int(A2m*k/w*(T2-T2_))\n",
      "rate_of_heatloss2 = int(A3m*k/w*(T3-T3_))\n",
      "total = rate_of_heatloss1 + rate_of_heatloss2\n",
      "\n",
      "# results\n",
      "print \"Rate of heat loss from the top surface : %d W\"%rate_of_heatloss1\n",
      "print \"Rate of heat loss from the side walls : %d W\"%rate_of_heatloss2\n",
      "print \"Total rate of heat loss : %d W\"%total"
     ],
     "language": "python",
     "metadata": {},
     "outputs": [
      {
       "output_type": "stream",
       "stream": "stdout",
       "text": [
        "Rate of heat loss from the top surface : 403 W\n",
        "Rate of heat loss from the side walls : 1271 W\n",
        "Total rate of heat loss : 1674 W\n"
       ]
      }
     ],
     "prompt_number": 4
    },
    {
     "cell_type": "heading",
     "level": 2,
     "metadata": {},
     "source": [
      "Example 7.20 Page No : 264"
     ]
    },
    {
     "cell_type": "code",
     "collapsed": false,
     "input": [
      "import math\n",
      "\n",
      "# Variables\n",
      "T = 300.          \t\t\t#K, temprature\n",
      "per = 91.         \t\t\t#percent, adsorbed radiation\n",
      "lam = 4.2        \t\t\t#micrometer, wavelength radiation\n",
      "L = 0.1          \t\t\t#m, path length\n",
      "\n",
      "#calculation\n",
      "# I2/I1 = f\n",
      "f = 1-per/100.    \t\t\t#fraction of incident radiation transmitted\n",
      "#from  eq. 7.69\n",
      "a = -math.log(f)/L\n",
      "\n",
      "# Results\n",
      "print \"the spectral extinction coefficient is %.2f m**-1\"%(a)\n",
      "\n",
      "# note : rounding off error."
     ],
     "language": "python",
     "metadata": {},
     "outputs": [
      {
       "output_type": "stream",
       "stream": "stdout",
       "text": [
        "the spectral extinction coefficient is 24.08 m**-1\n"
       ]
      }
     ],
     "prompt_number": 18
    },
    {
     "cell_type": "heading",
     "level": 2,
     "metadata": {},
     "source": [
      "Example 7.21 Page No : 265"
     ]
    },
    {
     "cell_type": "code",
     "collapsed": false,
     "input": [
      "# Variables\n",
      "Ts = 800.         \t\t\t#C, wall temp.\n",
      "Tg = 1100.        \t\t\t#C. burner temprature\n",
      "CO2 = 8.          \t\t\t#percent, composition of CO2 in flue gas\n",
      "M = 15.2         \t\t\t#percent, composition of moisture in flue gas\n",
      "a = 0.4          \t\t\t#m, length of  duct\n",
      "b = 0.4          \t\t\t#width of duct\n",
      "h = 15.           \t\t\t#W/m**2 C, heat transfer coefficient\n",
      "P = 1.            \t\t\t#atm  pressure\n",
      "#CAlCULATION of Eg(Tg)\n",
      "pc = CO2/100.*P         \t\t\t#atm, partial pressure of CO2\n",
      "pw = M/100.*P          \t\t\t#atm, partial pressure of moisture\n",
      "l = 1.                 \t\t\t#m, length of duct\n",
      "V = a*b*l             \t\t\t#m**3, volume of duct\n",
      "A = 1.6*l             \t\t\t#m**2 area of duct\n",
      "Le = 3.6*(V/A)        \t\t\t#m, mean beam length\n",
      "\n",
      "pc*Le\n",
      "pw*Le\n",
      "Tg_ = Tg+273.\n",
      "Ts_ = Ts+273.\n",
      "#from fig 7.38\n",
      "Ec = 0.06\n",
      "Eg = 0.048             \t\t\t#from fig 7.39\n",
      "#a correction dE need to be calculated\n",
      "#pw/(pc+pw)\n",
      "#pc*Le+pw*Le\n",
      "#from fig. 7.39\n",
      "dE = 0.003\n",
      "Eg_Tg = Ec+Eg-dE      \t\t\t#emissivity at temp. Tg\n",
      "\n",
      "#Calculation of alpha\n",
      "#pc*Le*Ts/Tg\n",
      "#from fig. 7.37\n",
      "Ec1 = 0.068\n",
      "#from fig. 7.38\n",
      "Ew1 = 0.069\n",
      "Cc = 1                \t\t\t#correction factor\n",
      "Cw = 1                \t\t\t#correction factor\n",
      "d_alpha = dE          \t\t\t#AT 1 ATM TOTAL PRESSURE\n",
      "alpha = Cc*Ec1*(Tg_/Ts_)**0.65+Cw*Ew1*(Tg_/Ts_)**0.45-dE\n",
      "#radiant   heat ransfer rate\n",
      "s = 5.669*10**-8                 \t\t\t#stephen's boltzman consmath.tant\n",
      "Qrad = A*s*(Eg_Tg*Tg_**4-alpha*Ts_**4)      \t\t\t#kW\n",
      "Qconv = h*A*(Tg-Ts)   \t\t\t#kW, convective heat transfer rate\n",
      "Q = Qrad+Qconv\n",
      "\n",
      "# Results\n",
      "print \"The total rate of heat transfer from the gas to the wall is %.1f kW\"%(Q/1000)\n"
     ],
     "language": "python",
     "metadata": {},
     "outputs": [
      {
       "output_type": "stream",
       "stream": "stdout",
       "text": [
        "The total rate of heat transfer from the gas to the wall is 22.5 kW\n"
       ]
      }
     ],
     "prompt_number": 25
    }
   ],
   "metadata": {}
  }
 ]
}