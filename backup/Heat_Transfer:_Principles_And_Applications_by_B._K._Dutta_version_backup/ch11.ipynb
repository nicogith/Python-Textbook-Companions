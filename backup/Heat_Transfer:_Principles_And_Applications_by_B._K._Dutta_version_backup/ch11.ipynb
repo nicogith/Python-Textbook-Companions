{
 "metadata": {
  "name": "",
  "signature": "sha256:89cbca7c573c1c37fd66977dec66db1e8ea38451b6b44d0c99e4e4d48fb5ae18"
 },
 "nbformat": 3,
 "nbformat_minor": 0,
 "worksheets": [
  {
   "cells": [
    {
     "cell_type": "heading",
     "level": 1,
     "metadata": {},
     "source": [
      "Chapter 11 : Boundary layer heat transfer"
     ]
    },
    {
     "cell_type": "heading",
     "level": 2,
     "metadata": {},
     "source": [
      "Example 11.1 Page No : 478"
     ]
    },
    {
     "cell_type": "code",
     "collapsed": false,
     "input": [
      "import math \n",
      "#Variable\n",
      "v  = 1. \t\t\t#m/s\n",
      "#temprature\n",
      "T = 25.            \t\t\t# degree celcius\n",
      "#length of plate,l = 1m\n",
      "l = 1.             \t\t\t#m\n",
      "#width of plate,w = 0.5m\n",
      "w = 0.5 \t\t\t#m\n",
      "#angle of incidence,theta = 0 degree\n",
      "theta = 0.         \t\t\t#degree\n",
      "\n",
      "#Calculation\n",
      "#for water at 25 degree celcius ,momentum diffusivity,\n",
      "MD = 8.63*(10**-7)  \t\t\t# m**2/s\n",
      "#local Reynold no.\n",
      "x = 0.5 \t\t\t#m\n",
      "Re = x*v/MD \n",
      "#from Eq. 11.39,the boundary layer thickness is\n",
      "t = 5*x/(Re**0.5)\n",
      "\n",
      "\n",
      "#Results\n",
      "print  \"i) Boundary layer thickness is %.4f  m\"%(t)\n",
      "\n",
      "#local drag coefficient\n",
      "#CD = local drag force per unit area (F)/kinetic energy per unit volume(KE)\n",
      "#F = 0.332*rho*v**2*Re**0.5 and KE =  0.5*rho*v**2\n",
      "CD = 0.332*v**2*(Re**-0.5)/(0.5)*v**2\n",
      "\n",
      "print \"Local drag coefficient is %.2e \"%(CD)\n",
      "\n",
      "#From eq 11.44, the drag force acting on one side of the plate is\n",
      "#kinetic viscocity\n",
      "mu = 8.6*(10**-4)\n",
      "fd = 0.664*mu*v*(l*v/MD)**0.5*w\n",
      "#the total force acting on both sides of the plate\n",
      "\n",
      "tfd = 2*fd\n",
      "print \"total drag force is %.3f  N \"%(tfd)\n",
      "\n",
      "#shear stress at any point in the boundary layer\n",
      "#at a point in the boundary layer,\n",
      "x = 0.5 \t\t\t#m\n",
      "y = t/2\n",
      "# n = blasius dimensionless variable\n",
      "n = y/(MD*x/v)**0.5\n",
      "#From table 11.1, at n = 2.5,f\"(n) = 0.218\n",
      "#shear stress =  tau\n",
      "fn = 0.218 \t\t\t#f\"(n) = fn\n",
      "tau = (mu*v*(v/(MD*x))**0.5)*fn\n",
      "print \"Shear stress is %.3f N/m**2\"%(tau)\n"
     ],
     "language": "python",
     "metadata": {},
     "outputs": [
      {
       "output_type": "stream",
       "stream": "stdout",
       "text": [
        "i) Boundary layer thickness is 0.0033  m\n",
        "Local drag coefficient is 8.72e-04 \n",
        "total drag force is 0.615  N \n",
        "Shear stress is 0.285 N/m**2\n"
       ]
      }
     ],
     "prompt_number": 1
    },
    {
     "cell_type": "heading",
     "level": 2,
     "metadata": {},
     "source": [
      "Example 11.2 Page No : 488"
     ]
    },
    {
     "cell_type": "code",
     "collapsed": false,
     "input": [
      "#Variable\n",
      "Ts = 200.           \t\t\t# C,temp. of air\n",
      "Ta = 30.            \t\t\t#C, temp .of surface\n",
      "Va = 8.             \t\t\t#m/s, velocity of air\n",
      "d = 0.75           \t\t\t#m, dismath.tant from leading edge\n",
      "\n",
      "#Calculation and Results\n",
      "Tm = (Ts+Ta)/2     \t\t\t#C, Mean temp. of boundary layer\n",
      "mu = 2.5*10**-5    \t\t\t#m**2/s, vismath.cosity\n",
      "P = 0.69           \t\t\t#prndatl no.\n",
      "k = 0.036          \t\t\t#W/m c, thermal conductivity\n",
      "Re = d*Va/mu       \t\t\t#reynold no.\n",
      "t = 5*d/(Re**0.5*P**(1./3))           \t\t\t#m, thermal boundary layer thickness\n",
      "print \"Thermal boundary layer thickness is %.1f mm \"%(t*10**3)\n",
      "\n",
      "N = (0.332*Re**(0.5)*P**(1./3))   \t\t\t#Nusslet no.\n",
      "h = k*N/d                                     \t\t\t#heat transfer coefficent\n",
      "print \"heat transfer coeff is %.1f W/m**2 C\"%(h)\n"
     ],
     "language": "python",
     "metadata": {},
     "outputs": [
      {
       "output_type": "stream",
       "stream": "stdout",
       "text": [
        "Thermal boundary layer thickness is 8.7 mm \n",
        "heat transfer coeff is 6.9 W/m**2 C\n"
       ]
      }
     ],
     "prompt_number": 2
    },
    {
     "cell_type": "heading",
     "level": 2,
     "metadata": {},
     "source": [
      "Example 11.3 Page No : 489"
     ]
    },
    {
     "cell_type": "code",
     "collapsed": false,
     "input": [
      "# Variables\n",
      "#Free strean velocity (v1) and temp.(t1) on side 1\n",
      "v1 = 6. \t\t\t#m/s\n",
      "t1 = 150. \t\t\t#degree celcius\n",
      "#same on  side 2\n",
      "v2 = 3. \t\t\t#m/s\n",
      "t2 = 50. \t\t\t#degree celcius\n",
      "#dismath.tant\n",
      "x = 0.7 \t\t\t#m\n",
      "#The plate temp. is assumed to be equal to the mean of the bulk air temp on the two sides of the plates\n",
      "T = 100. \t\t\t#degree celcius\n",
      "\n",
      "# Calculations\n",
      "#Side 1\n",
      "#mean air temp.\n",
      "tm1 = (T+t1)/2\n",
      "#From thermophysical properties:kinetic vismath.cosity (kv),Prandtl no.(P), thermal conductivity (k)\n",
      "kv1 = 2.6*10**-5 \t\t\t#m**2/s\n",
      "P1 = 0.69\n",
      "k1 = 0.0336 \t\t\t#W/m degree celcius\n",
      "#Reynold no.\n",
      "Re1 = x*v1/kv1\n",
      "#Nusslet no(N1)\n",
      "a = 1/3.\n",
      "N1 = 0.332*(Re1)**0.5*P1**a\n",
      "h1 = k1*N1/x\n",
      "#Side 2 of the plate\n",
      "tm2 = (T+t2)/2\n",
      "#Similarly\n",
      "kv2 = 2.076*(10)**-5 \t\t\t#m**2/s\n",
      "P2 = 0.70\n",
      "k2 = 0.03 \t\t\t#W/m degree celcius\n",
      "Re2 = x*v2/kv2\n",
      "N2 = 0.332*(Re2)**0.5*P2**a\n",
      "h2 = k2*N2/x\n",
      "#overall heat transfer coeff. \n",
      "U = h1*h2/(h1+h2)\n",
      "#The local rate of heat exchange\n",
      "RH = U*(t1-t2)\n",
      "\n",
      "# Results\n",
      "print \"Local rate of heat exchange is  %.0f W/m2\"%(RH)\n",
      "#the plate temp is given by\n",
      "TP = t2+(t1-t2)*U/h2\n",
      "print \"Plate temperature is :%.0f Celsius \"%(TP)\n"
     ],
     "language": "python",
     "metadata": {},
     "outputs": [
      {
       "output_type": "stream",
       "stream": "stdout",
       "text": [
        "Local rate of heat exchange is  235 W/m2\n",
        "Plate temperature is :108 Celsius \n"
       ]
      }
     ],
     "prompt_number": 4
    },
    {
     "cell_type": "heading",
     "level": 2,
     "metadata": {},
     "source": [
      "Example 11.4 Page No : 490"
     ]
    },
    {
     "cell_type": "code",
     "collapsed": false,
     "input": [
      "import math\n",
      "# Variables\n",
      "T1 = 120.                             \t\t\t#C, initial temp.\n",
      "T2 = 25.                              \t\t\t#C, Final temp.\n",
      "Tm = (T1+T2)/2                       \t\t\t#C, mean temp.\n",
      "rho = 8880.                           \t\t\t#kg/m**3, density of plate\n",
      "#Properties of air at mean temp.\n",
      "mu = 2.07*10**-5                      \t\t\t#m**2/s, vismath.cosity\n",
      "Pr = 0.7                             \t\t\t#Prandtl no.\n",
      "k = 0.03                             \t\t\t#W/m C, thermal conductivity\n",
      "l = 0.4                              \t\t\t#m, length of plate\n",
      "w = 0.3                              \t\t\t#m, width of plate\n",
      "d = 0.0254                           \t\t\t#m, thickness of plate\n",
      "Vinf = 1.                             \t\t\t#m/s, air velocity\n",
      "Re = l*Vinf/mu                       \t\t\t#REynold no.\n",
      "\n",
      "#from eq. 11.90 (b)\n",
      "Nu = 0.664*(Re)**(1./2)*(Pr)**(1./3)     \t\t\t#average Nusslet no.\n",
      "#Nu = l*h/k\n",
      "h = Nu*k/l                           \t\t\t#W/m**2 C, heat transfer coefficient\n",
      "#Rate of change of temp. is given by\n",
      "A = 2*l*w                            \t\t\t#m**2. area of plate\n",
      "t = 1*3600.                           \t\t\t#s, time\n",
      "cp = 0.385*10.**3                      \t\t\t#j/kg K, specific heat\n",
      "m = l*w*d*rho                        \t\t\t#kg, mass of plate\n",
      "\n",
      "#-d/dt(m*cp8dt) = A*hv*(T1-T2)\n",
      "#appling the boundary condition \n",
      "T = (T1-T2)*math.exp(-A*h*t/(m*cp))+T2\n",
      "print \"The  temprature of plate after 1 hour is %.0f C\"%(T)\n"
     ],
     "language": "python",
     "metadata": {},
     "outputs": [
      {
       "output_type": "stream",
       "stream": "stdout",
       "text": [
        "The  temprature of plate after 1 hour is 82 C\n"
       ]
      }
     ],
     "prompt_number": 5
    },
    {
     "cell_type": "heading",
     "level": 2,
     "metadata": {},
     "source": [
      "Example 11.5 Page No : 508"
     ]
    },
    {
     "cell_type": "code",
     "collapsed": false,
     "input": [
      "import math\n",
      "# Variables\n",
      "#Reynold no (Re),friction factor(f),Prandlt no. (P)\n",
      "Re = 7.44*(10**4)\n",
      "f = 0.00485\n",
      "P = 5.12\n",
      "x = P-1            \t\t\t#assume\n",
      "\n",
      "# Calculations\n",
      "#according to Von Karmen anamath.logy\n",
      "N = ((f/2)*Re*P)/(1+(5*math.sqrt(f/2))*(x+math.log(1+(5./6)*x)))\n",
      "\n",
      "# Results\n",
      "print \"Nusslet no is: %.0f \"%(N)\n",
      "\n"
     ],
     "language": "python",
     "metadata": {},
     "outputs": [
      {
       "output_type": "stream",
       "stream": "stdout",
       "text": [
        "Nusslet no is: 388 \n"
       ]
      }
     ],
     "prompt_number": 6
    }
   ],
   "metadata": {}
  }
 ]
}