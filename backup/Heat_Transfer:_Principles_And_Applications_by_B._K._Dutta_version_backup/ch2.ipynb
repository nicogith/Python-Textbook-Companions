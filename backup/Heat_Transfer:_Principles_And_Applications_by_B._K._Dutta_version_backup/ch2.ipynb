{
 "metadata": {
  "name": "",
  "signature": "sha256:d195c9056d9c143d1483fc50717f27f02c283963376970b0882c1b9368f4f133"
 },
 "nbformat": 3,
 "nbformat_minor": 0,
 "worksheets": [
  {
   "cells": [
    {
     "cell_type": "heading",
     "level": 1,
     "metadata": {},
     "source": [
      "Chapter 2 :Steady State conduction In one  dimension"
     ]
    },
    {
     "cell_type": "heading",
     "level": 2,
     "metadata": {},
     "source": [
      "Example 2.1 Page No : 14"
     ]
    },
    {
     "cell_type": "code",
     "collapsed": false,
     "input": [
      "# Variables\n",
      "A = 1.           \t\t\t#m**2, area\n",
      "#for inner layer (cement)\n",
      "ti = 0.06       \t\t\t#m, thickness\n",
      "ki = 0.72       \t\t\t#W/m C,  thermal conductivity\n",
      "Ti = -15.        \t\t\t#C, temprature\n",
      "#for middle layer (cork)\n",
      "tm = 0.1        \t\t\t#m, thickness\n",
      "km = 0.043      \t\t\t#W/m C,  thermal conductivity\n",
      "#for outer layer(brick)\n",
      "to = 0.25       \t\t\t#m, thickness\n",
      "ko = 0.7        \t\t\t#W/m C,  thermal conductivity\n",
      "To = 30.         \t\t\t#C, temprature\n",
      "\n",
      "# Calculation and Results\n",
      "#Thermal resistance of outer layer  \t\t\t#C/W\n",
      "Ro = to/(ko*A) \n",
      "#Thermal resistance of middle layer   \t\t\t#C/W\n",
      "Rm = tm/(km*A) \n",
      "#Thermal resistance of inner layer    \t\t\t#C/W\n",
      "Ri = ti/(ki*A)\n",
      "Rt = Ro+Rm+Ri\n",
      "tdf = To-Ti        \t\t\t#temp driving force\n",
      "#(a)\n",
      "Q = tdf/Rt      \t\t\t#rate of heat gain\n",
      "print \"the rate of heat gain is %.2f W\"%(Q)\n",
      "\n",
      "#(b)\n",
      "#from fig. 2.4\n",
      "td1 = Q*to/(ko*A)   \t\t\t#C temp. drop across the brick layer\n",
      "T1 = To-td1         \t\t\t#interface temp. between brick and cork\n",
      "#similarly\n",
      "td2 = Q*tm/(km*A)   \t\t\t#C temp. drop across the cork layer\n",
      "T2 = T1-td2         \t\t\t#C, interface temp. between cement and cork\n",
      "print \"interface temp. between brick and cork is %.1f C\"%(T1)\n",
      "print \"interface temp. between cement and cork is %.1f C\"%(T2)\n",
      "\n",
      "\n",
      "#(c)\n",
      "Rpo = Ro/Rt         \t\t\t#thermal resistance offered by brick layer\n",
      "Rpm = Rm/Rt         \t\t\t#thermal resistance offered by cork layer\n",
      "Rpi = Ri/Rt         \t\t\t#thermal resistance offered by cement layer\n",
      "print \"thermal resistance offered by brick layer is %.1f percent\"%(Rpo*100)\n",
      "print \"thermal resistance offered by cork layer is %.1f percent\"%(Rpm*100)\n",
      "print \"thermal resistance offered by cement layer is %.1f percent\"%(Rpi*100)\n",
      "\n",
      "#second part\n",
      "x = 30.              \t\t\t#percentage dec in heat transfer \n",
      "Q1 = Q*(1-x/100)    \t\t\t#W, desired rate of heat flow\n",
      "Rth = tdf/Q1        \t\t\t#C/W, required thermal resistance\n",
      "Rad = Rth-Rt        \t\t\t#additional thermal resistance\n",
      "Tad = Rad*km*A\n",
      "print \"Additional thickness of cork to be provided  = %.1f cm\"%(Tad*100)\n",
      "\n"
     ],
     "language": "python",
     "metadata": {},
     "outputs": [
      {
       "output_type": "stream",
       "stream": "stdout",
       "text": [
        "the rate of heat gain is 16.27 W\n",
        "interface temp. between brick and cork is 24.2 C\n",
        "interface temp. between cement and cork is -13.6 C\n",
        "thermal resistance offered by brick layer is 12.9 percent\n",
        "thermal resistance offered by cork layer is 84.1 percent\n",
        "thermal resistance offered by cement layer is 3.0 percent\n",
        "Additional thickness of cork to be provided  = 5.1 cm\n"
       ]
      }
     ],
     "prompt_number": 1
    },
    {
     "cell_type": "heading",
     "level": 2,
     "metadata": {},
     "source": [
      "Example 2.2 Page No : 15"
     ]
    },
    {
     "cell_type": "code",
     "collapsed": false,
     "input": [
      "# Variables\n",
      "#outer thickness of brickwork (to) & inner thickness (ti)\n",
      "to = 0.15    \t\t\t#m thickness\n",
      "ti = 0.012   \t\t\t#m thickness\n",
      "#thickness of intermediate layer(til)\n",
      "til = 0.07   \t\t\t#m  thick\n",
      "#thermal conductivities of brick  and wood\n",
      "kb = 0.70    \t\t\t#W/m celcius\n",
      "kw = 0.18    \t\t\t#W/m celcius\n",
      "#temp. of outside and inside wall\n",
      "To = -15    \t\t\t#celcius\n",
      "Ti = 21     \t\t\t#celcius\n",
      "#area\n",
      "A = 1       \t\t\t#m**2\n",
      "\n",
      "\n",
      "# Calculations and Results\n",
      "#(a)\n",
      "#Thermal resistance of brick  , wood and insulating layer\n",
      "TRb = to/(kb*A)   \t\t\t#C/W\n",
      "TRw = ti/(kw*A)   \t\t\t#C/W\n",
      "TRi = 2*TRb       \t\t\t#C/W\n",
      "#Total thermal resistance\n",
      "TR = TRb+TRw+TRi  \t\t\t#C/W\n",
      "#Temp. driving force\n",
      "T = Ti-To         \t\t\t#C\n",
      "#Rate of heat loss\n",
      "Q = T/TR\n",
      "print \"Rate of heat loss is %.1f W\"%(Q)\n",
      "#(b)thermal conductivities of insulating layer\n",
      "k = til/(A*TRi)\n",
      "print \"thermal conductivities of insulating layer is %.4f W/m C\"%(k)"
     ],
     "language": "python",
     "metadata": {},
     "outputs": [
      {
       "output_type": "stream",
       "stream": "stdout",
       "text": [
        "Rate of heat loss is 50.7 W\n",
        "thermal conductivities of insulating layer is 0.1633 W/m C\n"
       ]
      }
     ],
     "prompt_number": 3
    },
    {
     "cell_type": "heading",
     "level": 2,
     "metadata": {},
     "source": [
      "Example 2.3 Page No : 19"
     ]
    },
    {
     "cell_type": "code",
     "collapsed": false,
     "input": [
      "\n",
      "import math \n",
      "\n",
      "# Variables\n",
      "#Length & Inside rdius of gas duct\n",
      "L = 1.       \t\t\t#m\n",
      "ri = 0.5    \t\t\t#m radius\n",
      "#Properties of inner and outer layer\n",
      "ki = 1.3    \t\t\t#W/m C, thermal conductivity of inner bricks\n",
      "ti = 0.27   \t\t\t#m, inner layer thickness \n",
      "ko = 0.92   \t\t\t#W/m C, thermal conductivity of special bricks \n",
      "to = 0.14   \t\t\t#m, outer layer thickness\n",
      "Ti = 400.    \t\t\t#C, inner layer temp.\n",
      "To = 65.     \t\t\t#C, outer layer temp.\n",
      "\n",
      "#calculation and Results\n",
      "r_ = ri+ti   \t\t\t#m, outer radius of fireclay  brick layer\n",
      "ro = r_+to   \t\t\t#m, outer radius of special brick layer\n",
      "#Heat transfer resistance\n",
      "#Heat transfer resistance of fireclay brick\n",
      "R1 = (math.log(r_/ri))/(2*math.pi*L*ki)\n",
      "#Heat transfer resistance of special brick\n",
      "R2 = (math.log(ro/r_))/(2*math.pi*L*ko)\n",
      "#Total resistance\n",
      "R = round(R1+R2,4)\n",
      "#Driving force\n",
      "T = Ti-To\n",
      "#Rate of heat loss\n",
      "Q = T/(R)\n",
      "print \"Rate of heat loss is %d W\"%(Q)\n",
      "#interface temp.\n",
      "Tif = Ti-(Q*R1)\n",
      "print \"interface temp.is  %d C\"%(Tif)\n",
      "#Fractional resistance offered  by the special brick layer\n",
      "FR = R2/(R1+R2)\n",
      "print \"Fractional resistance offered  by the special brick layer is %.3f \"%(FR)\n"
     ],
     "language": "python",
     "metadata": {},
     "outputs": [
      {
       "output_type": "stream",
       "stream": "stdout",
       "text": [
        "Rate of heat loss is 4095 W\n",
        "interface temp.is  183 C\n",
        "Fractional resistance offered  by the special brick layer is 0.353 \n"
       ]
      }
     ],
     "prompt_number": 5
    },
    {
     "cell_type": "heading",
     "level": 2,
     "metadata": {},
     "source": [
      "Example 2.4 Page No : 20"
     ]
    },
    {
     "cell_type": "code",
     "collapsed": false,
     "input": [
      "import math\n",
      "\n",
      "# Variables\n",
      "d1 = 0.06       \t\t\t#m, one end diameter of steel rod\n",
      "d2 = 0.12       \t\t\t#m,other end diameter of steel rod\n",
      "l = 0.2         \t\t\t#m length of rod\n",
      "T2 = 30.         \t\t\t#C, temp. at end 2\n",
      "Q = 50.          \t\t\t#W, heat loss\n",
      "k = 15.           \t\t\t#W/m c, thermal conductivity of rod\n",
      "\n",
      "# Calculation and Results\n",
      "#T = 265.8-(7.07/(0.06-0.15*x))........(a)\n",
      "#(a)\n",
      "x1 = 0\n",
      "#from eq. (a)\n",
      "T1 = 265.8-(7.07/(0.06-0.15*x1))\n",
      "print \"The hot  end temp. is %.0f C\"%(T1)\n",
      "#(b)  from eq. (i)\n",
      "C = 50                 \t\t\t#integration consmath.tant\n",
      "#from eq. (i)\n",
      "D1 = -C/(math.pi*d1**2*k)   \t\t\t#D = dT/dx, temprature gradient\n",
      "print \"The temprature gradient at hot end is %.1f C/m\"%(D1)\n",
      "#similarly\n",
      "D2 = -1179             \t\t\t#at x =  0.2m\n",
      "print \"The temprature gradient at cold end is %.0f C/m\"%(D2)\n",
      "\n",
      "#(c)\n",
      "x2 = 0.15              \t\t\t#m, given,\n",
      "x3 = l-x2              \t\t\t#m, section away from the cold end\n",
      "#from eq. (a)\n",
      "T2 = 265.8-(7.07/(0.06-0.15*x3))\n",
      "print \"the temprature at 0.15m away from the cold end is %.0f C\"%(T2)\n"
     ],
     "language": "python",
     "metadata": {},
     "outputs": [
      {
       "output_type": "stream",
       "stream": "stdout",
       "text": [
        "The hot  end temp. is 148 C\n",
        "The temprature gradient at hot end is -294.7 C/m\n",
        "The temprature gradient at cold end is -1179 C/m\n",
        "the temprature at 0.15m away from the cold end is 131 C\n"
       ]
      }
     ],
     "prompt_number": 6
    },
    {
     "cell_type": "heading",
     "level": 2,
     "metadata": {},
     "source": [
      "Example 2.5 Page No : 24"
     ]
    },
    {
     "cell_type": "code",
     "collapsed": false,
     "input": [
      "import math\n",
      "\n",
      "# Variables\n",
      "#inside and outside diameter and Temp.  of sphorical vessel\n",
      "do = 16.         \t\t\t#m, diameter  \n",
      "t = 0.1          \t\t\t#m, thick \n",
      "Ri = do/2        \t\t\t#m, inside radius \n",
      "Ro = Ri+t        \t\t\t#m. outside radius\n",
      "To = 27.          \t\t\t#C, temperature\n",
      "Ti = 4.           \t\t\t#C  ammonia\n",
      "k = 0.02         \t\t\t#W/m C, thermal conductivity of foam layer \n",
      "\n",
      "# Calculations and Results\n",
      "#from eq. 2.23 the rate of heat transfer\n",
      "Q = (Ti-To)*(4*math.pi*k*Ro*Ri)/(Ro-Ri)\n",
      "print \"the rate of heat transfer is %.0f W\"%(Q)\n",
      "#Refrigeration capacity(RC)\n",
      "#3516 Watt =  1 ton\n",
      "RC = -Q/3516\n",
      "print \"Refrigeration capacity is %.2f tons\"%(RC)\n"
     ],
     "language": "python",
     "metadata": {},
     "outputs": [
      {
       "output_type": "stream",
       "stream": "stdout",
       "text": [
        "the rate of heat transfer is -3746 W\n",
        "Refrigeration capacity is 1.07 tons\n"
       ]
      }
     ],
     "prompt_number": 7
    },
    {
     "cell_type": "heading",
     "level": 2,
     "metadata": {},
     "source": [
      "Example 2.6 Page No : 28"
     ]
    },
    {
     "cell_type": "code",
     "collapsed": false,
     "input": [
      "import math \n",
      "# Variables\n",
      "d = 0.05        \t\t\t#m, diameter of rod\n",
      "l = 0.5         \t\t\t#m, length of rod\n",
      "T1 = 30.         \t\t\t#CTemp. at  one end (1)\n",
      "T2 = 300.        \t\t\t#C, temp  at other end (2)\n",
      "\n",
      "# Calculations and Results\n",
      "x1 = l/2         \t\t\t#m, at mid plane\n",
      "#temprature distribution ,\n",
      "#comparing with quadratic eq. ax**2+bx+c \n",
      "#and its solution as x = (-b+math.sqrt(b**2-4*a*c))/2*a\n",
      "a = 1.35*10**-4\n",
      "b = 1\n",
      "c = -(564*x1+30.1)\n",
      "T = (-b+math.sqrt(b**2-4*a*c))/(2*a)\n",
      "print \"the temprature midway in the rod at steady state is %.1f C\"%(T)\n",
      "\n",
      "#Temprature gradient at the ends of the rod\n",
      "x2 = 0               \t\t\t#m, at one end\n",
      "a1 = 1.35*10**-4\n",
      "b1 = 1\n",
      "c1 = -(564*x2+30.1)\n",
      "T1 = (-b1+math.sqrt(b1**2-4*a1*c1))/(2*a1)\n",
      "k1 = 202+0.0545*T1   \n",
      "C1 = 113930           \t\t\t#integration consmath.tant from eq. (1)\n",
      "TG1 = C1/k1           \t\t\t#C/W, temprature gradient, dT/dx\n",
      "#similarly\n",
      "x3 = 0.5\n",
      "a2 = 1.35*10**-4\n",
      "b2 = 1\n",
      "c2 = -(564*x3+30.1)\n",
      "T2 = (-b2+math.sqrt(b2**2-4*a2*c2))/(2*a2)\n",
      "k2 = 202+0.0545*T2\n",
      "TG2 = C1/k2\n",
      "print \"Temprature gradient at one end of the rod is %.0f C/W\"%(TG1)\n",
      "print \"Temprature gradient at other end of the rod is %.1f C/W\"%(TG2)"
     ],
     "language": "python",
     "metadata": {},
     "outputs": [
      {
       "output_type": "stream",
       "stream": "stdout",
       "text": [
        "the temprature midway in the rod at steady state is 167.3 C\n",
        "Temprature gradient at one end of the rod is 559 C/W\n",
        "Temprature gradient at other end of the rod is 521.8 C/W\n"
       ]
      }
     ],
     "prompt_number": 8
    },
    {
     "cell_type": "heading",
     "level": 2,
     "metadata": {},
     "source": [
      "Example 2.7 Page No : 29"
     ]
    },
    {
     "cell_type": "code",
     "collapsed": false,
     "input": [
      "import math \n",
      "from scipy.integrate import quad \n",
      "# Variables\n",
      "#temprature distribution in wall\n",
      "\n",
      "t = 0.3             \t\t\t#m, thickness of wall\n",
      "k = 23.5            \t\t\t#W/m c  thermal conductivity of wall\n",
      "\n",
      "# Calculations and Results\n",
      "x1 = 0\n",
      "T1 = 600+2500*x1-12000*x1**2    \t\t\t#C, at surface\n",
      "x2 = 0.3\n",
      "T2 = 600+2500*x2-12000*x2**2    \t\t\t#C, at x = 0.3\n",
      "\n",
      "def f3(x): \n",
      "    return 600+2500*x-12000*x**2\n",
      "\n",
      "Tav = 1/t* quad(f3,0,0.3)[0]\n",
      "\n",
      "print \"At the surface x = 0, the temp. is %.0f C\"%(T1)\n",
      "print \"At the surface x = 0.3m, the temp. is %.0f C\"%(T2)\n",
      "print \"Rhe average temprature of the wall is %.0f C\"%(Tav)\n",
      "\n",
      "#(b)\n",
      "\n",
      "#for maximum temprature D = 0\n",
      "x3 = 2500/24000.\n",
      "print \"The maximum temprature occurs at %.3f m\"%(x3)\n",
      "Tmax = 600+2500*x3-12000*x3**2\n",
      "print \"The maximum temp. is %.0f C\"%(Tmax)\n",
      "\n",
      "#(c)\n",
      "D1 = 2500-24000*x1         \t\t\t#at x = 0, temprature gradient\n",
      "Hf1 = -k*D1                \t\t\t#W/m**2, heat flux at left surface(x = 0)\n",
      "D2 = 2500-24000*x2         \t\t\t#at x = 0.3, temprature gradient\n",
      "Hf2 = -k*D2                \t\t\t#W/m**2, heat flux at right surface(x = 0.3)\n",
      "print \"heat flux at left surface is %.0f W/m**2\"%(Hf1)\n",
      "print \"heat flux at right surface is %.0f W/m**2\"%(Hf2)\n",
      "\n",
      "#(d)\n",
      "Qt = Hf2-Hf1              \t\t\t#W/m**2, total rate of heat loss\n",
      "Vw = 0.3                  \t\t\t#m**3/m**2, volume of wall per unit surface area\n",
      "Hav = Qt/Vw               \t\t\t#W/m**3, average volumetric rate\n",
      "print \"The average volumetric rate if heat genaration is %.0f W/m**3 \"%(Hav)   \n"
     ],
     "language": "python",
     "metadata": {},
     "outputs": [
      {
       "output_type": "stream",
       "stream": "stdout",
       "text": [
        "At the surface x = 0, the temp. is 600 C\n",
        "At the surface x = 0.3m, the temp. is 270 C\n",
        "Rhe average temprature of the wall is 615 C\n",
        "The maximum temprature occurs at 0.104 m\n",
        "The maximum temp. is 730 C\n",
        "heat flux at left surface is -58750 W/m**2\n",
        "heat flux at right surface is 110450 W/m**2\n",
        "The average volumetric rate if heat genaration is 564000 W/m**3 \n"
       ]
      }
     ],
     "prompt_number": 9
    },
    {
     "cell_type": "heading",
     "level": 2,
     "metadata": {},
     "source": [
      "Example 2.8 Page No : 30"
     ]
    },
    {
     "cell_type": "code",
     "collapsed": false,
     "input": [
      "import math \n",
      "# Variables\n",
      "ka = 24         \t\t\t#W/mC thermal conductivitiy of material A\n",
      "tA = 0.1        \t\t\t#m, thickness of A material\n",
      "kB = 230        \t\t\t#W/mC thermal conductivity of metl B\n",
      "kC = 200        \t\t\t#W/mC thermal conductivity of metal C\n",
      "tB = 0.1        \t\t\t#m, thickness of B metal\n",
      "tC = 0.1        \t\t\t#m, thickness of C metal\n",
      "TBo = 100       \t\t\t#C, outer surface temp. of B wall\n",
      "TCo = 100       \t\t\t#C, outer surface temp. of C wall\n",
      "Q = 2.5*10**5    \t\t\t#W/m**3, heat generated\n",
      "\n",
      "# Calculations and Results\n",
      "#At D = 0\n",
      "x = 2175./10416\n",
      "print \"The maximum temp. will occur at a position %.3f m\"%(x)\n",
      "x1 = x\n",
      "TA = -5208*x1**2+2175*x1-74.5\n",
      "print \"The maximum temprature is %.1f C\"%(TA)\n",
      "\n"
     ],
     "language": "python",
     "metadata": {},
     "outputs": [
      {
       "output_type": "stream",
       "stream": "stdout",
       "text": [
        "The maximum temp. will occur at a position 0.209 m\n",
        "The maximum temprature is 152.6 C\n"
       ]
      }
     ],
     "prompt_number": 10
    },
    {
     "cell_type": "heading",
     "level": 2,
     "metadata": {},
     "source": [
      "Example 2.9 Page No : 36"
     ]
    },
    {
     "cell_type": "code",
     "collapsed": false,
     "input": [
      "import math\n",
      "\n",
      "# Variables\n",
      "di = 0.15         \t\t\t#m, inner diameter\n",
      "do = 0.3          \t\t\t#m, outer diameter\n",
      "Q1 = 100.*10**3  \t\t\t#W/,m**3,inner  rate of heat generation\n",
      "Q2 = 40.*10**3   \t\t\t#W/m**3, outer rate of heat generation\n",
      "Ti = 100.       \t\t\t#C, temp.at inside surface\n",
      "To = 200.       \t\t\t#C, temp. at outside surface\n",
      "k1 = 30.        \t\t\t#W/m C, thermal conductivity of material for inner layer\n",
      "k2 = 10.        \t\t\t#W/m C, thermal conductivity of material for outer layer\n",
      "\n",
      "# Calculations and Results\n",
      "#T1 = 364+100*math.log(r)-833.3*r**2          (1)\n",
      "#T2 = 718+216*math.log(r)-1000*r**2           (2)\n",
      "#(b)from eq. 1\n",
      "r = math.sqrt(100./2*833.3)\n",
      "print \"This radial position does not fall within layer 1. Therefore no temprature maximum occurs in this layer.\"\n",
      "#similarly\n",
      "print \" Similarly no temprature maximum occurs in  layer 2.\"\n",
      "ro = di        \t\t        # m, outer boundary\n",
      "Tmax = To\n",
      "print \"The maximum temprature at the outer boundary is %.0f C\"%(Tmax)\n"
     ],
     "language": "python",
     "metadata": {},
     "outputs": [
      {
       "output_type": "stream",
       "stream": "stdout",
       "text": [
        "This radial position does not fall within layer 1. Therefore no temprature maximum occurs in this layer.\n",
        " Similarly no temprature maximum occurs in  layer 2.\n",
        "The maximum temprature at the outer boundary is 200 C\n"
       ]
      }
     ],
     "prompt_number": 11
    }
   ],
   "metadata": {}
  }
 ]
}