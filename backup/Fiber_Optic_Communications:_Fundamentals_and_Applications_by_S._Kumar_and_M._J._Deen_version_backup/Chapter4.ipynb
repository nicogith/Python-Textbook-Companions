{
 "metadata": {
  "name": "",
  "signature": "sha256:8baab9bca1418a8884a5af2981bac41de779102e305e522a4d23916cff098300"
 },
 "nbformat": 3,
 "nbformat_minor": 0,
 "worksheets": [
  {
   "cells": [
    {
     "cell_type": "heading",
     "level": 1,
     "metadata": {},
     "source": [
      "Chapter 04:Optical Modulators and Modulation Schemes"
     ]
    },
    {
     "cell_type": "heading",
     "level": 2,
     "metadata": {},
     "source": [
      "Ex4.2:pg-152"
     ]
    },
    {
     "cell_type": "code",
     "collapsed": false,
     "input": [
      "# Example no.4.2\n",
      "# To calculate the voltage required to introduce a phase shift of pi/2.\n",
      "# Page no.152\n",
      "\n",
      "import math\n",
      "\n",
      "\n",
      "# Given data\n",
      "lambda0=1530*10**-9;                                  # An electro-optic modulator operating wavelength\n",
      "d=10*10**-6;                                          # Thickness\n",
      "L=5*10**-2;                                           # Length\n",
      "n0=2.2;                                              # Refractive index\n",
      "r33=30*10**-12;                                       # Pockel coefficient in m/V\n",
      "deltaphi=math.pi/2;                                      # Phase shift\n",
      "V=(deltaphi*lambda0*d)/(math.pi*L*n0**3*r33);             # The voltage required to introduce a phase shift of pi/2\n",
      "\n",
      "#Displaying the result in command window\n",
      "print \"\\n The voltage required to introduce a phase shift of pi/2 = \",round(V,2),\" V\"\n"
     ],
     "language": "python",
     "metadata": {},
     "outputs": [
      {
       "output_type": "stream",
       "stream": "stdout",
       "text": [
        "\n",
        " The voltage required to introduce a phase shift of pi/2 =  0.48  V\n"
       ]
      }
     ],
     "prompt_number": 1
    }
   ],
   "metadata": {}
  }
 ]
}