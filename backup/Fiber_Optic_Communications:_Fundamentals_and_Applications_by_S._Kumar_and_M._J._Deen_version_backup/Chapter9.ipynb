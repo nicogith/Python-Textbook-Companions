{
 "metadata": {
  "name": "",
  "signature": "sha256:eef7903c3fa3a419290525708b02ea218941d948dd675194fdf0106749ce3fdc"
 },
 "nbformat": 3,
 "nbformat_minor": 0,
 "worksheets": [
  {
   "cells": [
    {
     "cell_type": "heading",
     "level": 1,
     "metadata": {},
     "source": [
      "Chapter 09:Channel Multiplexing Techniques"
     ]
    },
    {
     "cell_type": "heading",
     "level": 2,
     "metadata": {},
     "source": [
      "Ex9.1:pg-392"
     ]
    },
    {
     "cell_type": "code",
     "collapsed": false,
     "input": [
      "# Example 9.1\n",
      "# Calculation of the (a) the channel spacing, (b) the signal bandwidth in a channel and cther total bandwidth of the WDM signal, and (c) the total data rate.\n",
      "# Page no 392\n",
      "\n",
      "\n",
      "\n",
      "#Given data\n",
      "Bs=10*10**12;               # Symbol rate\n",
      "n=6;                      # Spectral efficiency\n",
      "Fs=10*10**12;              # Symbol rate\n",
      "N=12;                    # No of channels\n",
      "\n",
      "\n",
      "\n",
      "# (a) Channel spacing\n",
      "B=Bs*log2(64);\n",
      "f=B/n;\n",
      "\n",
      "# (b) Total bandwidth of the WDM signal\n",
      "T1=(N-1)*f+(2*Fs)/2; \n",
      "T1=T1*10**-12;\n",
      "# (c) Total data rate\n",
      "T2=N*B;\n",
      "T2=T2*10**-12;\n",
      "\n",
      "# Displaying results in the command window            \n",
      "print \"\\n Channel spacing = \",round(f*10**-12),\" GHz \"\n",
      "\n",
      "print \"\\n Total bandwidth of the WDM signal = \",T1,\" GHz \"\n",
      "print \"\\n Total data rate = \",T2,\" Gb/s \"\n",
      "\n"
     ],
     "language": "python",
     "metadata": {},
     "outputs": [
      {
       "output_type": "stream",
       "stream": "stdout",
       "text": [
        "\n",
        " Channel spacing =  10.0  GHz \n",
        "\n",
        " Total bandwidth of the WDM signal =  120.0  GHz \n",
        "\n",
        " Total data rate =  720.0  Gb/s \n"
       ]
      }
     ],
     "prompt_number": 10
    },
    {
     "cell_type": "heading",
     "level": 2,
     "metadata": {},
     "source": [
      "Ex9.2:pg-393"
     ]
    },
    {
     "cell_type": "code",
     "collapsed": false,
     "input": [
      "# Example 9.2\n",
      "# Calculation of the total power at the fiber output.\n",
      "# Page no 393\n",
      "\n",
      "import math\n",
      "\n",
      "#Given data\n",
      "\n",
      "p=0;                # Power per channel\n",
      "fl=0.2;             # Fiber loss\n",
      "f=50;               # Wavelength\n",
      "\n",
      "\n",
      "# The total power at the fiber output.\n",
      "pc=10**(0.1*p);\n",
      "tp=pc*11;\n",
      "tp1=10*math.log10(tp);\n",
      "tfl=fl*f;\n",
      "to=tp1-tfl;\n",
      "\n",
      "\n",
      "\n",
      "\n",
      "#Displaying results in the command window            \n",
      "print \"\\n The total power at the fiber output = \",round(to,3),\" dBm \"\n",
      "\n"
     ],
     "language": "python",
     "metadata": {},
     "outputs": [
      {
       "output_type": "stream",
       "stream": "stdout",
       "text": [
        "\n",
        " The total power at the fiber output =  0.414  dBm \n"
       ]
      }
     ],
     "prompt_number": 11
    },
    {
     "cell_type": "heading",
     "level": 2,
     "metadata": {},
     "source": [
      "Ex9.3:pg-400"
     ]
    },
    {
     "cell_type": "code",
     "collapsed": false,
     "input": [
      "# Example 9.3\n",
      "# Calculation of a) The lengths of the adjacent waveguides and b) phase shift phi1 and phi2.\n",
      "# Page no 400\n",
      "\n",
      "\n",
      "import math\n",
      "\n",
      "#Given data\n",
      "\n",
      "p=0;                     # Power per channel\n",
      "fl=0.2;                  # Fiber loss\n",
      "m1=100;                  # Wavelength\n",
      "m2=110;\n",
      "lambdaa1=1550*10**-9;\n",
      "lambdaa2=1550.8*10**-9;\n",
      "c=3*10**8;               # Velocity of light\n",
      "b0=5.87*10**6;\n",
      "b1=4.86*10**-9;\n",
      "\n",
      "# a) The lengths of the adjacent waveguides\n",
      "l1=(2*math.pi*m1)/b0;\n",
      "l2=(2*math.pi*m2)/b0;\n",
      "\n",
      "\n",
      "# b) Phase shift phi1 and phi2.\n",
      "dfdl=-(c/lambdaa1**2);\n",
      "dbdl=2*math.pi*b1*dfdl;\n",
      "phi1=2*math.pi*m1+(lambdaa2-lambdaa1)*l1*dbdl;\n",
      "phi2=2*math.pi*m2+(lambdaa2-lambdaa1)*l2*dbdl;\n",
      "\n",
      "#Displaying results in the command window            \n",
      "print \"\\n The lengths of the adjacent waveguides  = \",round(l1*10**6,2),\" micrometer \"\n",
      "print \"\\n The lengths of the adjacent waveguides  = \",round(l2*10**6,2),\" micrometer\"\n",
      "print \"\\n Phase shift phi1   = \",round(phi1*10**-2,2),\" x 10**2 rad \"\n",
      "print \"\\n Phase shift phi2 = \",round(phi2*10**-2,2),\"  x 10**2 rad\"\n",
      "\n",
      "# The answers vary due to round off error\n"
     ],
     "language": "python",
     "metadata": {},
     "outputs": [
      {
       "output_type": "stream",
       "stream": "stdout",
       "text": [
        "\n",
        " The lengths of the adjacent waveguides  =  107.04  micrometer \n",
        "\n",
        " The lengths of the adjacent waveguides  =  117.74  micrometer\n",
        "\n",
        " Phase shift phi1   =  6.28  x 10**2 rad \n",
        "\n",
        " Phase shift phi2 =  6.91   x 10**2 rad\n"
       ]
      }
     ],
     "prompt_number": 12
    },
    {
     "cell_type": "heading",
     "level": 2,
     "metadata": {},
     "source": [
      "Ex9.4:pg-408"
     ]
    },
    {
     "cell_type": "code",
     "collapsed": false,
     "input": [
      "# Example 9.4\n",
      "# Calculation of the maximum reach up to which the carrier orthogonality is preserved.\n",
      "# Page no 408\n",
      "\n",
      "import math\n",
      "\n",
      "#Given data\n",
      "b=22*10**-27;                 # Power launched in port 1\n",
      "T=1.28*10**-9;                # Guard interval\n",
      "N=128;                       #  Subcarriers\n",
      "f=78.125*10**6;               # Frequency spacing between subcarriers\n",
      "\n",
      "# Bit rate of communication system\n",
      "I=T/(b*2*math.pi*N*f);\n",
      "I=I*10**-3;\n",
      "\n",
      "\n",
      "\n",
      "#Displaying results in the command window            \n",
      "print \"\\n The maximum reach up to which the carrier orthogonality is preserved = \",round(I),\" km \"\n",
      "\n",
      "# The answers vary due to round off error\n"
     ],
     "language": "python",
     "metadata": {},
     "outputs": [
      {
       "output_type": "stream",
       "stream": "stdout",
       "text": [
        "\n",
        " The maximum reach up to which the carrier orthogonality is preserved =  926.0  km \n"
       ]
      }
     ],
     "prompt_number": 13
    },
    {
     "cell_type": "heading",
     "level": 2,
     "metadata": {},
     "source": [
      "Ex9.5:pg-410"
     ]
    },
    {
     "cell_type": "code",
     "collapsed": false,
     "input": [
      "# Example 9.5\n",
      "# Calculation of the maximum reach up to which the carrier orthogonality is preserved.\n",
      "# Page no 410\n",
      "\n",
      "\n",
      "\n",
      "\n",
      "#Given data\n",
      "d=30*10**-12;          # Delay\n",
      "b=0.5*10**-8;          \n",
      "\n",
      "# The maximum reach up to which the carrier orthogonality is preserved\n",
      "L=d/b;\n",
      "L=L*10**3;\n",
      "\n",
      "\n",
      "\n",
      "#Displaying results in the command window            \n",
      "print \"\\n The maximum reach up to which the carrier orthogonality is preserved = \",round(L,3),\" mm \"\n",
      "\n",
      "# The answers vary due to round off error\n"
     ],
     "language": "python",
     "metadata": {},
     "outputs": [
      {
       "output_type": "stream",
       "stream": "stdout",
       "text": [
        "\n",
        " The maximum reach up to which the carrier orthogonality is preserved =  6.0  mm \n"
       ]
      }
     ],
     "prompt_number": 14
    },
    {
     "cell_type": "heading",
     "level": 2,
     "metadata": {},
     "source": [
      "Ex9.6:pg-411"
     ]
    },
    {
     "cell_type": "code",
     "collapsed": false,
     "input": [
      "# Example 9.6\n",
      "# Calculation of the ODTM to multiplex data.\n",
      "# Page no 411\n",
      "\n",
      "\n",
      "\n",
      "#Given data\n",
      "f1=10*10**9;\n",
      "f2=40*10**9;\n",
      "\n",
      "\n",
      "# The ODTM to multiplex data\n",
      "b1=1.0/(f1);\n",
      "b2=1.0/(f2);\n",
      "b1=b1*10**12;\n",
      "b2=b2*10**12;\n",
      "\n",
      "#Displaying results in the command window            \n",
      "print \"\\n Bit interval for 10 Gb/s signal is  =\",round(b1),\" ps \"\n",
      "print \"\\n Bit interval for 40 Gb/s signal is = \",round(b2),\"ps \"\n",
      "\n",
      "# The answers vary due to round off error\n"
     ],
     "language": "python",
     "metadata": {},
     "outputs": [
      {
       "output_type": "stream",
       "stream": "stdout",
       "text": [
        "\n",
        " Bit interval for 10 Gb/s signal is  = 100.0  ps \n",
        "\n",
        " Bit interval for 40 Gb/s signal is =  25.0 ps \n"
       ]
      }
     ],
     "prompt_number": 16
    },
    {
     "cell_type": "heading",
     "level": 2,
     "metadata": {},
     "source": [
      "Ex9.7:pg-413"
     ]
    },
    {
     "cell_type": "code",
     "collapsed": false,
     "input": [
      "# Example 9.7\n",
      "# Calculation of the (a) the total data rate and (b) the spectral efficiency.\n",
      "# Page no 413\n",
      "\n",
      "import math\n",
      "\n",
      "#Given data\n",
      "M=16;\n",
      "np=2;              # No of polarization\n",
      "nc=24;             # No of channels\n",
      "bs=28*10**9;      # Symbol rate per polarization\n",
      "\n",
      "# (a) The total data rate\n",
      "B=bs*math.log(M,2);\n",
      "T=B*np*nc;\n",
      "\n",
      "\n",
      "# (b) The spectral efficiency\n",
      "N=bs*nc;\n",
      "s=T/N;\n",
      "\n",
      "#Displaying results in the command window            \n",
      "print \"\\n The total data rate  = \",round(T*10**-12,3),\" Tb/s \"\n",
      "\n",
      "print \"\\n The spectral efficiency = \",round(s,1),\" b/s/Hz \"\n",
      "\n"
     ],
     "language": "python",
     "metadata": {},
     "outputs": [
      {
       "output_type": "stream",
       "stream": "stdout",
       "text": [
        "\n",
        " The total data rate  =  5.376  Tb/s \n",
        "\n",
        " The spectral efficiency =  8.0  b/s/Hz \n"
       ]
      }
     ],
     "prompt_number": 22
    },
    {
     "cell_type": "heading",
     "level": 2,
     "metadata": {},
     "source": [
      "Ex9.8:pg-413"
     ]
    },
    {
     "cell_type": "code",
     "collapsed": false,
     "input": [
      "# Example 9.8\n",
      "# Calculation of the number of subcarriers required to transmit information.\n",
      "# Page no 413\n",
      "\n",
      "import math\n",
      "\n",
      "#Given data\n",
      "M=4;\n",
      "np=2;              # No of polarization\n",
      "nc=24;            # No of channels\n",
      "bs=10*10**9;      # Symbol rate per polarization\n",
      "d=5000*10**3;     # Transmission distance\n",
      "b=22*10**-27;\n",
      "ts= 49.3*10**-9;\n",
      "\n",
      "# The total data rate\n",
      "B=bs*math.log(M,2);\n",
      "T=d*b*math.pi*bs;\n",
      "#L=T/(b*2*math.pi*N*bs);\n",
      "N=(bs*ts)/2;\n",
      "\n",
      "\n",
      "#Displaying results in the command window            \n",
      "print \"\\n The number of subcarriers required to transmit information = \",round(N),\" \"\n",
      "\n",
      "# The answers vary due to round off error\n"
     ],
     "language": "python",
     "metadata": {},
     "outputs": [
      {
       "output_type": "stream",
       "stream": "stdout",
       "text": [
        "\n",
        " The number of subcarriers required to transmit information =  247.0  \n"
       ]
      }
     ],
     "prompt_number": 23
    },
    {
     "cell_type": "heading",
     "level": 2,
     "metadata": {},
     "source": [
      "Ex9.9:pg-414"
     ]
    },
    {
     "cell_type": "code",
     "collapsed": false,
     "input": [
      "# Example 9.9\n",
      "# Calculation of the (a) the signal power/subcarrier/polarization at the fiber output, (b) the data rate and (c) the spectral efficiency\n",
      "# Page no 414\n",
      "\n",
      "import math\n",
      "\n",
      "#Given data\n",
      "fl=0.19;            # Fiber loss\n",
      "fg=70;              # Fiber length\n",
      "nc=24;             # No of channels\n",
      "ip=2;\n",
      "bs=10*10**9;        # Symbol rate per polarization\n",
      "ts= 12.8*10**-9;    # Symbol period\n",
      "n=64;              # No of subcarriers\n",
      "np=2;              # Launch power to the fiber\n",
      "\n",
      "\n",
      "# (a) The signal power/subcarrier/polarization at the fiber output\n",
      "T=fl*fg;\n",
      "p=ip-T;\n",
      "p1=10**(p/10);\n",
      "s=p1/(np*n);\n",
      "#s=s*10**4;\n",
      "\n",
      "# (b) The data rate\n",
      "bs=1/ts;\n",
      "B=math.log(n,2)*bs;\n",
      "bt=B*2*n;\n",
      "\n",
      "# (c) the spectral efficiency\n",
      "Tb=n*bs;\n",
      "se=bt/Tb;\n",
      "\n",
      "\n",
      "\n",
      "\n",
      "#Displaying results in the command window            \n",
      "print \"\\n The signal power/subcarrier/polarization at the fiber output = \",round(s*10**4,3),\" x 10**-4 mW \"\n",
      "\n",
      "print \"\\n The data rate = \",bt*10**-9,\"Gb/s \"\n",
      "\n",
      "print \"\\n The spectral efficiency = \",se,\" b/s/Hz \"\n",
      "\n",
      "# The answers vary due to round off error\n"
     ],
     "language": "python",
     "metadata": {},
     "outputs": [
      {
       "output_type": "stream",
       "stream": "stdout",
       "text": [
        "\n",
        " The signal power/subcarrier/polarization at the fiber output =  5.791  x 10**-4 mW \n",
        "\n",
        " The data rate =  60.0 Gb/s \n",
        "\n",
        " The spectral efficiency =  12.0  b/s/Hz \n"
       ]
      }
     ],
     "prompt_number": 24
    }
   ],
   "metadata": {}
  }
 ]
}