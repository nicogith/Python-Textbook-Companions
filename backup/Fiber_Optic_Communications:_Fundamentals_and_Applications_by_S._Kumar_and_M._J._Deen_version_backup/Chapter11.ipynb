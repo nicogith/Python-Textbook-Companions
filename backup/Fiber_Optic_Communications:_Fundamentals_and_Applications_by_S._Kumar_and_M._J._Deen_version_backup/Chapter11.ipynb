{
 "metadata": {
  "name": "",
  "signature": "sha256:9aca0eaa158eb47fac722ebf15bc24112cea7e06ec3f145afacec7f090f5b463"
 },
 "nbformat": 3,
 "nbformat_minor": 0,
 "worksheets": [
  {
   "cells": [
    {
     "cell_type": "heading",
     "level": 1,
     "metadata": {},
     "source": [
      "Chapter 11:Digital Signal Processing"
     ]
    },
    {
     "cell_type": "heading",
     "level": 2,
     "metadata": {},
     "source": [
      "Ex11.1:pg-509"
     ]
    },
    {
     "cell_type": "code",
     "collapsed": false,
     "input": [
      "# Example 11.1\n",
      "# Calculation of the minimum number of taps needed to compensate for the fiber dispersion\n",
      "# Page no 509\n",
      "\n",
      "import math\n",
      "\n",
      "# Given data\n",
      "b=22*10**-27;                 # Power launched in port 1\n",
      "l=800*10**3;                  # Power launched in port 2\n",
      "T=50*10**-12;                # Power launched in port 3 \n",
      "\n",
      "\n",
      "# Bit rate of communication system\n",
      "k=math.ceil((math.pi*b*l)/T**2);\n",
      "n=(2*k)+1;\n",
      "\n",
      "\n",
      "# Displaying results in the command window            \n",
      "print \"\\n The number of the taps = \",round(n,3)\n",
      "# The answers vary due to round off error\n"
     ],
     "language": "python",
     "metadata": {},
     "outputs": [
      {
       "output_type": "stream",
       "stream": "stdout",
       "text": [
        "\n",
        " The number of the taps =  47.0\n"
       ]
      }
     ],
     "prompt_number": 2
    }
   ],
   "metadata": {}
  }
 ]
}