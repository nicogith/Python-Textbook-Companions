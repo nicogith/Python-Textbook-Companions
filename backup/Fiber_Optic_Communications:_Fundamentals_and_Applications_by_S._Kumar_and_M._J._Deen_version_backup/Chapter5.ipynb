{
 "metadata": {
  "name": "",
  "signature": "sha256:0b9c3e954d0b3472e5cfaca992b6e710fc9df1a3af76ec0abff8646734de75f4"
 },
 "nbformat": 3,
 "nbformat_minor": 0,
 "worksheets": [
  {
   "cells": [
    {
     "cell_type": "heading",
     "level": 1,
     "metadata": {},
     "source": [
      "Chapter 05:Optical Receivers"
     ]
    },
    {
     "cell_type": "heading",
     "level": 2,
     "metadata": {},
     "source": [
      "Ex5.1:pg-196"
     ]
    },
    {
     "cell_type": "code",
     "collapsed": false,
     "input": [
      "# Example no.5.1\n",
      "# To calculate (a) the photon incidence rate, (b) the photon absorption rate, and, (c) the quantum efficiency.\n",
      "# Page no.196\n",
      "\n",
      "\n",
      "\n",
      "# Given data\n",
      "lambdaa=550*10**(-9);                         # The wavelength of electromagnetic wave in m\n",
      "c=3*10**8;                                   # Speed of ligth in air\n",
      "h=6.626*10**(-34);                           # Planck's constant\n",
      "alpha=10**4;                                 # absorption coefficient\n",
      "W=3*10**-4;                                  # width of the active region\n",
      "Pi=1*10**-9;                                 # optical power\n",
      "eta=0.9;                                    # the fraction of photocarriers that contribute to the photocurrent\n",
      "Rp=0;                                       # the power transmission coefficient at the air\u00e2\u20ac\u201csemiconductor interface\n",
      "\n",
      "# (a) the photon incidence rate\n",
      "Eph=(h*c)/lambdaa;                          # The energy of a photon\n",
      "Rincident=Pi/Eph;                          # The photon incidence rate\n",
      "\n",
      "# Display result on command window\n",
      "print \"\\n The photon incidence rate = \",round(Rincident*10**-9,2),\" X 10**9 photon/s\"\n",
      "\n",
      "# (b) the photon absorption rate\n",
      "Rabs=(Rincident*(1-exp(-alpha*W)));        # The photon absorption rate\n",
      "\n",
      "# Display result on command window\n",
      "print \"\\n The photon absorption rate = \",round(Rabs*10**-9,2),\" X 10**9 photon/s\"\n",
      "\n",
      "#c) the quantum efficiency\n",
      "neta=(1-Rp)*eta*(1-exp(-alpha*W));          # The quantum efficiency\n",
      "\n",
      "# Display result on command window\n",
      "print \"\\n The quantum efficiency = \",round(neta,3)"
     ],
     "language": "python",
     "metadata": {},
     "outputs": [
      {
       "output_type": "stream",
       "stream": "stdout",
       "text": [
        "\n",
        " The photon incidence rate =  2.77  X 10**9 photon/s\n",
        "\n",
        " The photon absorption rate =  2.63  X 10**9 photon/s\n",
        "\n",
        " The quantum efficiency =  0.855\n"
       ]
      }
     ],
     "prompt_number": 11
    },
    {
     "cell_type": "heading",
     "level": 2,
     "metadata": {},
     "source": [
      "Ex5.2:pg-198"
     ]
    },
    {
     "cell_type": "code",
     "collapsed": false,
     "input": [
      "# Example no.5.2\n",
      "# To calculate (a) the responsivity R and (b) the cutoff wavelength \n",
      "# Page no.198\n",
      "\n",
      "\n",
      "\n",
      "\n",
      "# Given data\n",
      "neta=0.9;                                        # The quantum efficiency\n",
      "Eg=1.42;                                         # The band-gap energy in eV\n",
      "lambdaa=1.1;                                      # The operating (free-space) wavelength in micrometer\n",
      "\n",
      "# (a) The responsivity \n",
      "R=(neta*lambdaa)/1.24;                            # The responsivity in A/W\n",
      "\n",
      "# Display result on command window\n",
      "print \"\\n The responsivity = \",round(R,1),\" A/W\"                                                             #Wrong answer in book\n",
      "\n",
      "# (b) The cutoff wavelength \n",
      "lambdac=1.2/Eg;                                #The cutoff wavelength in micrometer\n",
      "\n",
      "# Display result on command window\n",
      "print \"\\n The cutoff wavelength = \",round(lambdac,3),\" micrometer\"                                             #Wrong answer in book\n"
     ],
     "language": "python",
     "metadata": {},
     "outputs": [
      {
       "output_type": "stream",
       "stream": "stdout",
       "text": [
        "\n",
        " The responsivity =  0.8  A/W\n",
        "\n",
        " The cutoff wavelength =  0.845  micrometer\n"
       ]
      }
     ],
     "prompt_number": 12
    },
    {
     "cell_type": "heading",
     "level": 2,
     "metadata": {},
     "source": [
      "Ex5.3:pg-199"
     ]
    },
    {
     "cell_type": "code",
     "collapsed": false,
     "input": [
      "# Example no.5.3\n",
      "# To find quantum efficiency at different wavelength and same responsivity\n",
      "# Page no.199\n",
      "\n",
      "\n",
      "\n",
      "\n",
      "# Given data\n",
      "lambda1=0.7;                                         # The radiation wavelength in micrometer\n",
      "R=0.4;                                               # The responsivity in A/W\n",
      "lambda2=0.5;                                         # The reduced wavelength in micrometer\n",
      "neta1=(R*1.24)/lambda1;                              # The quantum efficiency for 0.7micrometer wavelength\n",
      "neta2=neta1*(lambda2/lambda1);                       # The quantum efficiency for reduced wavelength 0.5micrometer \n",
      "\n",
      "# Display result on command window\n",
      "print \"\\n The quantum efficiency for 0.7 micrometer wavelength = \",round(neta1,4)\n",
      "print \"\\n The quantum efficiency for reduced wavelength of 0.5 micrometer = \",round(neta2,3)\n"
     ],
     "language": "python",
     "metadata": {},
     "outputs": [
      {
       "output_type": "stream",
       "stream": "stdout",
       "text": [
        "\n",
        " The quantum efficiency for 0.7 micrometer wavelength =  0.7086\n",
        "\n",
        " The quantum efficiency for reduced wavelength of 0.5 micrometer =  0.506\n"
       ]
      }
     ],
     "prompt_number": 13
    },
    {
     "cell_type": "heading",
     "level": 2,
     "metadata": {},
     "source": [
      "Ex5.4:pg-199"
     ]
    },
    {
     "cell_type": "code",
     "collapsed": false,
     "input": [
      "# Example no.5.4\n",
      "# To determine the refractive index and thickness of the antireflection coating\n",
      "# Page no.199\n",
      "\n",
      "import math\n",
      "\n",
      "\n",
      "# Given data\n",
      "lambdaa=680*10**-9;                                   # Wavelength of red ligth in meter\n",
      "nair=1;                                             # Refractive index of air\n",
      "nsilicon=3.6;                                       # Refractive index of silicon\n",
      "nAR=math.sqrt(nair*nsilicon);                            # Refractive index of antireflection coating\n",
      "tAR=lambdaa/(4*nAR);                                 # Thickness of antireflection coating\n",
      "\n",
      "# Display result on command window\n",
      "print \"\\n Refractive index of antireflection coating = \",round(nAR,1)\n",
      "print \"\\n Thickness of antireflection coating = \",round(tAR*10**9),\" nm\"\n",
      "\n",
      "\n",
      "\n"
     ],
     "language": "python",
     "metadata": {},
     "outputs": [
      {
       "output_type": "stream",
       "stream": "stdout",
       "text": [
        "\n",
        " Refractive index of antireflection coating =  1.9\n",
        "\n",
        " Thickness of antireflection coating =  90.0  nm\n"
       ]
      }
     ],
     "prompt_number": 15
    },
    {
     "cell_type": "heading",
     "level": 2,
     "metadata": {},
     "source": [
      "Ex5.5:pg-216"
     ]
    },
    {
     "cell_type": "code",
     "collapsed": false,
     "input": [
      "# Example 5.5\n",
      "# To calculate the inaccuracy with which resonator should be fabricated\n",
      "# Page no.216\n",
      "\n",
      "\n",
      "import math\n",
      "\n",
      "# Given data\n",
      "R1=0.9;                                        # Reflectivity at point A\n",
      "integer=4;\n",
      "n=3.5;                                         # Reflection index of silicon\n",
      "F=math.pi/(1-math.sqrt(R1));                            # The finesse of the resonator and also called as the ratio of the free spectral range\n",
      "lambda0=850;                                   # Wavelength in nanometer\n",
      "L=integer*lambda0/(2*n);                       # Resonator length in nanometer\n",
      "\n",
      "# The inaccuracy with which resonator should be fabricated\n",
      "deltaL=L*0.5/F;\n",
      "\n",
      "# Display result on command window\n",
      "print \"\\n Resonator length = \",round(L),\"nm\"\n",
      "print \"\\n The inaccuracy in length with which resonator should be fabricated = \",round(deltaL),\" nm\"\n"
     ],
     "language": "python",
     "metadata": {},
     "outputs": [
      {
       "output_type": "stream",
       "stream": "stdout",
       "text": [
        "\n",
        " Resonator length =  486.0 nm\n",
        "\n",
        " The inaccuracy in length with which resonator should be fabricated =  4.0  nm\n"
       ]
      }
     ],
     "prompt_number": 16
    },
    {
     "cell_type": "heading",
     "level": 2,
     "metadata": {},
     "source": [
      "Ex5.6:pg-229"
     ]
    },
    {
     "cell_type": "code",
     "collapsed": false,
     "input": [
      "# Example no.5.6\n",
      "# To find the peak current if (a) LO power = 10 dBm, (b) LO power = \u00e2\u02c6\u201910 dBm for the single-branch receiver\n",
      "# Page no.229\n",
      "\n",
      "\n",
      "\n",
      "\n",
      "# Given data\n",
      "L=100;                                           # Length of fiber\n",
      "loss=0.2*L;                                      # Total fiber loss\n",
      "PtdBm=12;                                        # The peak power of the signal at the transmitter\n",
      "R=0.9;                                           # Responsivity in A/W\n",
      "PrdBm=PtdBm-loss;                                # The power at the receiver\n",
      "\n",
      "# (a) the peak current LO power = 10 dBm\n",
      "PLO1dBm=10;                                         # Power at local oscillator in dBm\n",
      "PLO1=10**(0.1*PLO1dBm);                              # Power at local oscillator in mW\n",
      "Pr=10**(0.1*PrdBm);                                  # Power at receiver in mW\n",
      "Id1=R*sqrt(Pr*PLO1);                                # The peak current at LO power = 10dBm\n",
      "I1=R*Pr/2+R*sqrt(Pr*PLO1);                          # The peak current after ignoring the d.c. term\n",
      "\n",
      "# Display result on command window\n",
      "print \"\\n The peak current at LO power 10dBm = \",round(Id1,4),\" mA\"\n",
      "print \"\\n The peak current after ignoring the d.c. term = \",round(I1,3),\" mA\"\n",
      "\n",
      "# (b) the peak current LO power = -10 dBm\n",
      "PLO2dBm=-10;                                      # Power at local oscillator in dBm\n",
      "PLO2=10**(0.1*PLO2dBm);                            # Power at local oscillator in mW\n",
      "Id2=R*sqrt(Pr*PLO2);                              # The peak current at LO power = -10dBm\n",
      "I2=R*Pr/2+R*sqrt(Pr*PLO2);                        # The peak current after ignoring the d.c. term\n",
      "\n",
      "# Display result on command window\n",
      "print \"\\n The peak current at LO power -10dBm = \",round(Id2,4),\" mA\"\n",
      "print \"\\n The peak current after ignoring the d.c. term = \",round(I2,4),\" mA\"\n"
     ],
     "language": "python",
     "metadata": {},
     "outputs": [
      {
       "output_type": "stream",
       "stream": "stdout",
       "text": [
        "\n",
        " The peak current at LO power 10dBm =  1.133  mA\n",
        "\n",
        " The peak current after ignoring the d.c. term =  1.204  mA\n",
        "\n",
        " The peak current at LO power -10dBm =  0.1133  mA\n",
        "\n",
        " The peak current after ignoring the d.c. term =  0.1846  mA\n"
       ]
      }
     ],
     "prompt_number": 18
    },
    {
     "cell_type": "heading",
     "level": 2,
     "metadata": {},
     "source": [
      "Ex5.7:pg-234"
     ]
    },
    {
     "cell_type": "code",
     "collapsed": false,
     "input": [
      "# Example no.5.7\n",
      "# To find the peak current if (a) LO power = 10 dBm, (b) LO power = \u00e2\u02c6\u201910 dBm for the balanced receiver\n",
      "# Page no.234\n",
      "\n",
      "\n",
      "import math\n",
      "\n",
      "# Given data\n",
      "L=100;                                            # Length of fiber\n",
      "loss=0.2*L;                                       # Total fiber loss\n",
      "PtdBm=12;                                         # The peak power of the signal at the transmitter\n",
      "R=0.9;                                            # Responsivity in A/W\n",
      "PrdBm=PtdBm-loss;                                 # The power at the receiver\n",
      "\n",
      "# (a) the peak current LO power = 10 dBm\n",
      "PLO1dBm=10;                                       # Power at local oscillator in dBm\n",
      "PLO1=10**(0.1*PLO1dBm);                            # Power at local oscillator in mW\n",
      "Pr=10**(0.1*PrdBm);                                # Power at receiver in mW\n",
      "Id1=2*R*math.sqrt(Pr*PLO1);                            # The peak current LO power = 10 dBm\n",
      "\n",
      "# Display result on command window\n",
      "print \"\\n The peak current for LO power 10 dBm = \",round(Id1,4),\" mA\"\n",
      "\n",
      "# (b) the peak current LO power = -10 dBm\n",
      "PLO2dBm=-10;                                      # Power at local oscillator in dBm\n",
      "PLO2=10**(0.1*PLO2dBm);                            # Power at local oscillator in mW\n",
      "Id2=2*R*sqrt(Pr*PLO2);                            # The peak current LO power = -10 dBm\n",
      "\n",
      "# Display result on command window\n",
      "print \"\\n The peak current for LO power -10 dBm = \",round(Id2,4),\" mA\"\n",
      "\n",
      "# comment on the intermodulation cross-talk in a single-branch receiver and the balanced receiver\n",
      "print \"\\n A single-branch receiver would have a significant amount of cross-talk. In contrast, for a balanced receiver, intermodulation \\n cross-talk is canceled out due to the balanced detection.\" \n"
     ],
     "language": "python",
     "metadata": {},
     "outputs": [
      {
       "output_type": "stream",
       "stream": "stdout",
       "text": [
        "\n",
        " The peak current for LO power 10 dBm =  2.2661  mA\n",
        "\n",
        " The peak current for LO power -10 dBm =  0.2266  mA\n",
        "\n",
        " A single-branch receiver would have a significant amount of cross-talk. In contrast, for a balanced receiver, intermodulation \n",
        " cross-talk is canceled out due to the balanced detection.\n"
       ]
      }
     ],
     "prompt_number": 21
    },
    {
     "cell_type": "heading",
     "level": 2,
     "metadata": {},
     "source": [
      "Ex5.8:pg-238"
     ]
    },
    {
     "cell_type": "code",
     "collapsed": false,
     "input": [
      "# Example no.5.8\n",
      "# To find the in-phase and quadrature components of the current of a balanced IQ receiver.\n",
      "# Page no.238\n",
      "\n",
      "import math\n",
      "\n",
      "\n",
      "\n",
      "# Given data\n",
      "PLO=10;                                         # Local oscillator power in mW from Example 5.7a\n",
      "Pr=0.1585;                                      # Power at receiver in mW\n",
      "R=0.9;                                          # Responsivity in A/W\n",
      "st=complex((-1/math.sqrt(2)),(1/math.sqrt(2)));           # The QPSK transmitted signal\n",
      "Ii=R*math.sqrt(Pr*PLO)*real(st);                     # The in-phase component of the current in mA\n",
      "Iq=-R*math.sqrt(Pr*PLO)*imag(st);                    # The quadrature component of the current in mA\n",
      "\n",
      "# Display result on command window\n",
      "print \"\\n The in-phase component of the current = \",round(Ii,4),\" mA\"\n",
      "print \"\\n The quadrature component of the current = \",round(Iq,4),\" mA\"\n",
      "\n"
     ],
     "language": "python",
     "metadata": {},
     "outputs": [
      {
       "output_type": "stream",
       "stream": "stdout",
       "text": [
        "\n",
        " The in-phase component of the current =  -0.8012  mA\n",
        "\n",
        " The quadrature component of the current =  -0.8012  mA\n"
       ]
      }
     ],
     "prompt_number": 23
    },
    {
     "cell_type": "heading",
     "level": 2,
     "metadata": {},
     "source": [
      "Ex5.9:pg-241"
     ]
    },
    {
     "cell_type": "code",
     "collapsed": false,
     "input": [
      "# Example 5.9\n",
      "# To find the in-phase and quadrature components of the current of a polarization modulated (PM) QPSK signal\n",
      "# Page no. 241\n",
      "\n",
      "\n",
      "\n",
      "import math\n",
      "\n",
      "# Given data\n",
      "theta1=math.pi/4;\n",
      "Sx=exp(1j*theta1);                                                 # Signal data in x-polarization\n",
      "theta2=(5*math.pi)/4;\n",
      "Sy=exp(1j*theta2);                                                 # Signal data in y-polarization\n",
      "PLO=10;                                                             # Local oscillator power in mW from Example 5.8\n",
      "Pr=0.1585;                                                          # Power at receiver in mW from Example 5.8\n",
      "R=0.9;                                                              # Reflectivity\n",
      "\n",
      "# The complex photocurrent corresponding to x-polarization \n",
      "Ix= (R*math.sqrt(Pr*PLO))*Sx/2;                                         # The complex photocurrent corresponding to x-polarization\n",
      "Iix=real(Ix);                                                      # In-phase component of phtocurrent corresponding to x-polarization\n",
      "Iqx=-imag(Ix);                                                     # Quadrature component of phtocurrent corresponding to x-polarization\n",
      "\n",
      "# The complex photocurrent corresponding to y-polarization \n",
      "Iy= (R*math.sqrt(Pr*PLO))*Sy/2;                                         # The complex photocurrent corresponding to y-polarization\n",
      "Iiy=real(Iy);                                                      # In-phase component of phtocurrent corresponding to y-polarization\n",
      "Iqy=-imag(Iy);                                                     # Quadrature component of phtocurrent corresponding to y-polarization\n",
      "\n",
      "# Display result on command window\n",
      "print \"\\n In-phase component of phtocurrent corresponding to x-polarization = \",round(Iix,4),\" mA\"\n",
      "print \"\\n Quadrature component of phtocurrent corresponding to x-polarization = \",round(Iqx,4),\" mA\"\n",
      "print \"\\n In-phase component of phtocurrent corresponding to y-polarization = \",round(Iiy,4),\" mA\"\n",
      "print \"\\n Quadrature component of phtocurrent corresponding to y-polarization = \",round(Iqy,4),\" mA\"\n"
     ],
     "language": "python",
     "metadata": {},
     "outputs": [
      {
       "output_type": "stream",
       "stream": "stdout",
       "text": [
        "\n",
        " In-phase component of phtocurrent corresponding to x-polarization =  0.4006  mA\n",
        "\n",
        " Quadrature component of phtocurrent corresponding to x-polarization =  -0.4006  mA\n",
        "\n",
        " In-phase component of phtocurrent corresponding to y-polarization =  -0.4006  mA\n",
        "\n",
        " Quadrature component of phtocurrent corresponding to y-polarization =  0.4006  mA\n"
       ]
      }
     ],
     "prompt_number": 29
    }
   ],
   "metadata": {}
  }
 ]
}