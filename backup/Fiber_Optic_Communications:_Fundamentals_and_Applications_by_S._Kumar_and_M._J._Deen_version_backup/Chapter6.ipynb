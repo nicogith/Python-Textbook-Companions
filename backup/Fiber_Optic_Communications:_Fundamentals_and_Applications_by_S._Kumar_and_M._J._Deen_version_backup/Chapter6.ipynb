{
 "metadata": {
  "name": "",
  "signature": "sha256:944cb2a2635a55e95324127e7d0ba95a23edb3ebc60544907acca9d49f565018"
 },
 "nbformat": 3,
 "nbformat_minor": 0,
 "worksheets": [
  {
   "cells": [
    {
     "cell_type": "heading",
     "level": 1,
     "metadata": {},
     "source": [
      "Chapter 06:Optical Amplifiers"
     ]
    },
    {
     "cell_type": "heading",
     "level": 2,
     "metadata": {},
     "source": [
      "Ex6.1:pg-249"
     ]
    },
    {
     "cell_type": "code",
     "collapsed": false,
     "input": [
      "# Example 6.1\n",
      "# Calculation of the gain\n",
      "# Page no 249\n",
      "\n",
      "\n",
      "\n",
      "#Given data\n",
      "\n",
      "n=1.5;                    # Refractive ondex of air\n",
      "lambdaa=1550*10**-9;        # Wavelength \n",
      "c=3*10**8;                 # Velocity of light\n",
      "p=5.73*10**-17;            # Power spectral density\n",
      "h=6.63*10**-34             # Planck constant\n",
      "\n",
      "\n",
      "# Gain\n",
      "f=c/lambdaa;\n",
      "\n",
      "G=(p/(2*n*h*f))+1;\n",
      "\n",
      "#Displaying results in the command window            \n",
      "print \"\\n Gain G =\",round(G)\n",
      "\n",
      "\n",
      "\n",
      "\n",
      "\n"
     ],
     "language": "python",
     "metadata": {},
     "outputs": [
      {
       "output_type": "stream",
       "stream": "stdout",
       "text": [
        "\n",
        " Gain G = 150.0\n"
       ]
      }
     ],
     "prompt_number": 12
    },
    {
     "cell_type": "heading",
     "level": 2,
     "metadata": {},
     "source": [
      "Ex6.2:pg-255"
     ]
    },
    {
     "cell_type": "code",
     "collapsed": false,
     "input": [
      "# Example 6.2\n",
      "# Calculation of the variance of the signal\u00e2\u20ac\u201cASE beat noise\n",
      "# Page no 255\n",
      "\n",
      "\n",
      "\n",
      "\n",
      "\n",
      "#Given data\n",
      "\n",
      "a=1.3*10**-16;                 # PSD of an amplifier\n",
      "f=7*10**9;                    # Cut off frequency\n",
      "Pi=10*10**-6;                 # Input power\n",
      "R=0.8;                      # Responsivity\n",
      "G=20;                       # Gain of an amplifier\n",
      "\n",
      "# The variance of the signal\u00e2\u20ac\u201cASE beat noise\n",
      "G=10**(G/10.0);\n",
      "P=G*Pi;\n",
      "\n",
      "r=4*R**2*P*a*f;\n",
      "r=r*10**9;\n",
      "\n",
      "\n",
      "\n",
      "\n",
      "#Displaying results in the command window            \n",
      "print \"\\n The variance of the signal\u00e2\u20ac\u201cASE beat noise current is = \",round(r,2),\" x 10**-9  A**2\"\n",
      "\n",
      "# The answers vary due to round off error\n"
     ],
     "language": "python",
     "metadata": {},
     "outputs": [
      {
       "output_type": "stream",
       "stream": "stdout",
       "text": [
        "\n",
        " The variance of the signal\u00e2\u20ac\u201cASE beat noise current is =  2.33  x 10**-9  A**2\n"
       ]
      }
     ],
     "prompt_number": 13
    },
    {
     "cell_type": "heading",
     "level": 2,
     "metadata": {},
     "source": [
      "Ex6.3:pg-257"
     ]
    },
    {
     "cell_type": "code",
     "collapsed": false,
     "input": [
      "# Example 6.3\n",
      "# Calculation of the (a) the variance of the signal\u00e2\u20ac\u201cASE beat noise current, (b) the variance of the ASE\u00e2\u20ac\u201cASE beat noise current, and (c) the total variance.\n",
      "# Page no 257\n",
      "\n",
      "\n",
      "\n",
      "\n",
      "\n",
      "#Given data\n",
      "\n",
      "G=30;       # Gain\n",
      "\n",
      "nsp=5;\n",
      "R=0.8;\n",
      "f1=16*10**9;\n",
      "fe=9*10**9;\n",
      "#Pi1=-60;\n",
      "c=3*10**8;             # Velocity of light\n",
      "h=6.63*10**-34        # Planck constant\n",
      "lambdaa=1530*10**-9;   # Wavelegth\n",
      "Pi1=-27;            # Input power\n",
      "Pi2=-60;\n",
      "f0=16*10**9;\n",
      "\n",
      "\n",
      "#(a) The variance of the signal\u00e2\u20ac\u201cASE beat noise current for Pin=-27dBm\n",
      "Po=G+Pi1;\n",
      "Po=10**(Po/10.0);\n",
      "Po=Po*10**-3;\n",
      "G=10**(G/10.0);\n",
      "f=c/lambdaa;\n",
      "r=nsp*h*f*(G-1);\n",
      "B=8*10**9;\n",
      "#B=min(f/2,fe);\n",
      "r0=4*R**2*Po*r*B;\n",
      "#r0=r0*10**12;\n",
      "\n",
      "#(b) The variance of the ASE\u00e2\u20ac\u201cASE beat noise current\n",
      "\n",
      "r1=R**2*r**2*((2*f0)-fe)*fe;\n",
      "\n",
      "#r1=r1*10**11;\n",
      "# (c) The total variance.\n",
      "\n",
      "rt=r0+r1;\n",
      "\n",
      "# Displaying results in the command window            \n",
      "print \"\\n (a) The variance of the signal\u00e2\u20ac\u201cASE beat noise current for Pin=-27dBm\"\n",
      "\n",
      "print \"\\n The variance of the signal\u00e2\u20ac\u201cASE beat noise current = \",round(r0*10**8,2),\" x 10**-8 A**2\"\n",
      "print \"\\n The variance of the ASE\u00e2\u20ac\u201cASE beat noise current = \",round(r1*10**11,2),\" x 10**-11 A**2\"\n",
      "\n",
      "print \"\\n The total variance = \",round(rt*10**8,3),\" x 10**-8 A**2\"\n",
      "# The answers vary due to round off error\n",
      "\n",
      "\n",
      "#Given data\n",
      "\n",
      "G=30;       # Gain\n",
      "nsp=5;\n",
      "R=0.8;       # \n",
      "f1=16*10**9;\n",
      "fe=9*10**9;\n",
      "#Pi1=-60;\n",
      "c=3*10**8;    # Velocity of light\n",
      "h=6.63*10**-34    # Planck constant\n",
      "lambdaa=1530*10**-9;  # Wavelegth\n",
      "Pi1=-27;              # Input power\n",
      "Pi2=-60;\n",
      "f0=16*10**9;\n",
      "\n",
      "#(b) The variance of the signal\u00e2\u20ac\u201cASE beat noise current for Pin=-60dBm\n",
      "Po2=G+Pi2;\n",
      "Po=10**(Po2/10);\n",
      "Po=Po*10**-3;\n",
      "G=10**(G/10);\n",
      "f=c/lambdaa;\n",
      "r=nsp*h*f*(G-1);\n",
      "B=8*10**9;\n",
      "#B=min(f/2,fe);\n",
      "r0=4*R**2*Po*r*B;\n",
      "#r0=r0*10**12;\n",
      "\n",
      "#(b) The variance of the ASE\u00e2\u20ac\u201cASE beat noise current\n",
      "\n",
      "r1=R**2*r**2*((2*f0)-fe)*fe;\n",
      "\n",
      "#r1=r1*10**11;\n",
      "# (c) The total variance.\n",
      "\n",
      "rt=r0+r1;\n",
      "\n",
      "# Displaying results in the command window            \n",
      "print \"\\n \\n (b) The variance of the signal\u00e2\u20ac\u201cASE beat noise current for Pin=-60dBm\"\n",
      "\n",
      "print \"\\n The variance of the signal\u00e2\u20ac\u201cASE beat noise current = \",round(r0*10**11,2),\" x 10**-11 A**2\"\n",
      "print \"\\n The variance of the ASE\u00e2\u20ac\u201cASE beat noise current = \",round(r1*10**11,2),\" x 10**-11 A**2\"\n",
      "\n",
      "print \"\\n The total variance = \",round(rt*10**11,2),\" x 10**-11 A**2 \"\n"
     ],
     "language": "python",
     "metadata": {},
     "outputs": [
      {
       "output_type": "stream",
       "stream": "stdout",
       "text": [
        "\n",
        " (a) The variance of the signal\u00e2\u20ac\u201cASE beat noise current for Pin=-27dBm\n",
        "\n",
        " The variance of the signal\u00e2\u20ac\u201cASE beat noise current =  2.65  x 10**-8 A**2\n",
        "\n",
        " The variance of the ASE\u00e2\u20ac\u201cASE beat noise current =  5.59  x 10**-11 A**2\n",
        "\n",
        " The total variance =  2.659  x 10**-8 A**2\n",
        "\n",
        " \n",
        " (b) The variance of the signal\u00e2\u20ac\u201cASE beat noise current for Pin=-60dBm\n",
        "\n",
        " The variance of the signal\u00e2\u20ac\u201cASE beat noise current =  1.33  x 10**-11 A**2\n",
        "\n",
        " The variance of the ASE\u00e2\u20ac\u201cASE beat noise current =  5.59  x 10**-11 A**2\n",
        "\n",
        " The total variance =  6.92  x 10**-11 A**2 \n"
       ]
      }
     ],
     "prompt_number": 16
    },
    {
     "cell_type": "heading",
     "level": 2,
     "metadata": {},
     "source": [
      "Ex6.4:pg-262"
     ]
    },
    {
     "cell_type": "code",
     "collapsed": false,
     "input": [
      "# Example 6.4\n",
      "# Calculation of the amplifier gain\n",
      "# Page no 262\n",
      "\n",
      "\n",
      "\n",
      "close;\n",
      "\n",
      "#Given data\n",
      "\n",
      "Po=0;                   # Signal output of amplifier\n",
      "#f=7*10**9;             # Cut off frequency\n",
      "B=7.5*10**9;             # Bandwidth\n",
      "R=0.9;                  # Responsivity\n",
      "c=3*10**8;               # Velocity of light\n",
      "lambdaa=1550*10**-9;      # Operating frequency\n",
      "fn=4.5;                 # Noise figure\n",
      "Ro=0.066*10**-3;         # Beat noise current\n",
      "h=6.626*10**-34;         # Planck constant\n",
      "\n",
      "# The amplifier gain\n",
      "P=10**(Po/10)*10**-3;\n",
      "r=Ro**2/(4*R**2*B*P);\n",
      "fn=10**(fn/10);\n",
      "f=c/lambdaa;\n",
      "G=(1/fn)*(((2*r)/(h*f))+1);\n",
      "\n",
      "\n",
      "\n",
      "\n",
      "#Displaying results in the command window            \n",
      "print \"\\n The amplifier gain = \",round(G)\n",
      "\n",
      "\n",
      "# The answers vary due to round off error\n"
     ],
     "language": "python",
     "metadata": {},
     "outputs": [
      {
       "output_type": "stream",
       "stream": "stdout",
       "text": [
        "\n",
        " The amplifier gain =  992.0\n"
       ]
      }
     ],
     "prompt_number": 17
    },
    {
     "cell_type": "heading",
     "level": 2,
     "metadata": {},
     "source": [
      "Ex6.5:pg-263"
     ]
    },
    {
     "cell_type": "code",
     "collapsed": false,
     "input": [
      "# Example 6.5\n",
      "# Calculation of the OSNR in a bandwidth of 12.49 GHz.\n",
      "# Page no 263\n",
      "\n",
      "\n",
      "\n",
      "import math\n",
      "\n",
      "#Given data\n",
      "\n",
      "G=25;                 # Gain\n",
      "c=3*10**8;             # Velocity of light\n",
      "h=6.63*10**-34         # Planck constant\n",
      "lambdaa=1545*10**-9;    # Wavelegth\n",
      "Pi=-22;              # Input power\n",
      "fn=6;      \n",
      "B=12.49*10**9;\n",
      "\n",
      "# The OSNR in a bandwidth of 12.49 GHz\n",
      "Po=G+Pi;\n",
      "Po=10**(Po/10.0);\n",
      "Po=Po*10**-3;\n",
      "fn=10**(fn/10.0);\n",
      "G=10**(G/10.0);\n",
      "f=c/lambdaa;\n",
      "r=(G*fn-1)*(h*f/2.0);\n",
      "O=Po/(2*r*B);\n",
      "O=10*math.log10(O);\n",
      "\n",
      "# Displaying results in the command window            \n",
      "print \"\\n The OSNR in a bandwidth of 12.49 GHz = \",round(O,2),\" dB\"\n",
      "\n",
      "\n",
      "\n",
      "# The answers vary due to round off error\n"
     ],
     "language": "python",
     "metadata": {},
     "outputs": [
      {
       "output_type": "stream",
       "stream": "stdout",
       "text": [
        "\n",
        " The OSNR in a bandwidth of 12.49 GHz =  29.94  dB\n"
       ]
      }
     ],
     "prompt_number": 20
    },
    {
     "cell_type": "heading",
     "level": 2,
     "metadata": {},
     "source": [
      "Ex6.6:pg-268"
     ]
    },
    {
     "cell_type": "code",
     "collapsed": false,
     "input": [
      "# Example 6.6\n",
      "# Calculation of the single-pass gain and 3-dB bandwidth\n",
      "# Page no 268\n",
      "\n",
      "\n",
      "\n",
      "import math\n",
      "\n",
      "#Given data\n",
      "\n",
      "c1=3*10**8;                # Velocity of light\n",
      "f=7*10**9;                # Cut off frequency\n",
      "L=500*10**-6;             # Input power\n",
      "Gp=15;                   # Peak gain\n",
      "n=3.2;\n",
      "Gs=2.52;\n",
      "R=0.32;\n",
      "a=0.1024;\n",
      "b=-0.6546;\n",
      "c=1;\n",
      "\n",
      "# The single-pass gain\n",
      "\n",
      "x1 =( -1*b+ math.sqrt ((b **2) -4*a*c)) /(2* a); # 1 s t r o o t\n",
      "x2 =( -1*b- math.sqrt ((b **2) -4*a*c)) /(2* a); # 2nd r o o t\n",
      "\n",
      "# The 3-dB bandwidth\n",
      "G=10**(Gp/10.0);\n",
      "x=(1-(R*x2))/(2*math.sqrt(R*x2));\n",
      "f=(c1/(math.pi*L*n))*math.asin(x);\n",
      "# f=f*10**-9; \n",
      "\n",
      "# Displaying results in the command window            \n",
      "\n",
      "print \"Single pass gain Gs= \",round(x1,2),\"   or\"\n",
      "print \"\\nSingle pass gain Gs= \",round(x2,2)\n",
      "print \"\\nThe the 3-dB bandwidth = \",round(f*10**-9,2),\" GHz \"\n",
      "\n",
      "\n",
      "# The answers vary due to round off error\n"
     ],
     "language": "python",
     "metadata": {},
     "outputs": [
      {
       "output_type": "stream",
       "stream": "stdout",
       "text": [
        "Single pass gain Gs=  3.87    or\n",
        "\n",
        "Single pass gain Gs=  2.52\n",
        "\n",
        "The the 3-dB bandwidth =  6.39  GHz \n"
       ]
      }
     ],
     "prompt_number": 23
    },
    {
     "cell_type": "heading",
     "level": 2,
     "metadata": {},
     "source": [
      "Ex6.7:pg-273"
     ]
    },
    {
     "cell_type": "code",
     "collapsed": false,
     "input": [
      "# Example 6.7\n",
      "# Calculation of (a) the saturation power and (b) the bias current I\n",
      "# Page no 273\n",
      "\n",
      "\n",
      "\n",
      "\n",
      "\n",
      "#Given data\n",
      "\n",
      "c=3*10**8;                # Velocity of light\n",
      "lambdaa=1530*10**-9;      # Wavelength\n",
      "t=0.3                   # Overlap factor\n",
      "r=7.3*10**-20;           # Gain cross section\n",
      "r0=1*10**-9;            # Carrier lifetime\n",
      "q=1.609*10**-19;     \n",
      "v=7.5*10**-16;         # Active volume\n",
      "h=6.63*10**-34         # Planck constant\n",
      "A=5*10**-6;            # Effective area\n",
      "g=4.82*10**3;          # Small signal gain coeffifient\n",
      "N=3.5*10**23;          # \n",
      "\n",
      "# (a) the saturation power and \n",
      "\n",
      "\n",
      "f=c/lambdaa;\n",
      "Ps=(h*f*A)/(t*r*r0);\n",
      "Ps=Ps*10**-3;\n",
      "\n",
      "# (b) the bias current I\n",
      "\n",
      "I=(g/(r*r0)+N/r0)*q*v;\n",
      "I=I*10**3;\n",
      "# Displaying results in the command window            \n",
      "print \"\\n The saturation power Psat = \",round(Ps,3),\" mW \"\n",
      "\n",
      "print \"\\n The bias current I = \",round(I,3),\" mA \"\n",
      "\n",
      "\n",
      "# The answers vary due to round off error\n"
     ],
     "language": "python",
     "metadata": {},
     "outputs": [
      {
       "output_type": "stream",
       "stream": "stdout",
       "text": [
        "\n",
        " The saturation power Psat =  29.68  mW \n",
        "\n",
        " The bias current I =  50.204  mA \n"
       ]
      }
     ],
     "prompt_number": 24
    },
    {
     "cell_type": "heading",
     "level": 2,
     "metadata": {},
     "source": [
      "Ex6.9:pg-290"
     ]
    },
    {
     "cell_type": "code",
     "collapsed": false,
     "input": [
      "# Example 6.9\n",
      "# Calculation of the variance of the signal\u00e2\u20ac\u201cASE beat noise current.\n",
      "# Page no 290\n",
      "\n",
      "\n",
      "\n",
      "\n",
      "#Given data\n",
      "\n",
      "si=30.0;                # Electrical SNRs at the amplifier input\n",
      "so=25.0;               # Electrical SNRs at the amplifier output\n",
      "p=0;                 # Signal power at output \n",
      "r=-126.0;             # Signal power at input \n",
      "R=0.9;              # Planck constant\n",
      "f=195*10.0**12;       # Frequency\n",
      "b=20*10.0**9;         # Bandwidth\n",
      "\n",
      "# The variance of the signal\u00e2\u20ac\u201cASE beat noise current\n",
      "p1=10**(p/10)*10**-3;\n",
      "rn=10**(r/10)*10**-3;\n",
      "r1=rn*b;\n",
      "r0=2*R**2*p1*r1;\n",
      "\n",
      "\n",
      "#Displaying results in the command window            \n",
      "print \"\\n The variance of the signal\u00e2\u20ac\u201cASE beat noise current = \",round(r0*10**9,2),\" x 10**-9 A**2  W/Hz\"\n",
      "\n",
      "\n",
      "# The value of noise power given in example as -126 but for calculation it is taken as -128 in book. Therefore answer is varying.\n"
     ],
     "language": "python",
     "metadata": {},
     "outputs": [
      {
       "output_type": "stream",
       "stream": "stdout",
       "text": [
        "\n",
        " The variance of the signal\u00e2\u20ac\u201cASE beat noise current =  8.14  x 10**-9 A**2  W/Hz\n"
       ]
      }
     ],
     "prompt_number": 25
    },
    {
     "cell_type": "heading",
     "level": 2,
     "metadata": {},
     "source": [
      "Ex6.12:pg-296"
     ]
    },
    {
     "cell_type": "code",
     "collapsed": false,
     "input": [
      "# Example 6.12\n",
      "# Calculation of the ASE power spectral density per polarization.\n",
      "# Page no 296\n",
      "\n",
      "\n",
      "\n",
      "#Given data\n",
      "\n",
      "si=30.0;                # Electrical SNRs at the amplifier input\n",
      "so=25.0;               # Electrical SNRs at the amplifier output\n",
      "po=2;                # Signal power at output \n",
      "pi=-13;             # Signal power at input \n",
      "h=6.626*10**-34;     # Planck constant\n",
      "f=195*10**12;\n",
      "\n",
      "# The ASE power spectral density per polarization\n",
      "fn=si-so;\n",
      "fn=10**(fn/10);\n",
      "G=po-pi;\n",
      "G=10**(G/10.0);\n",
      "r=(h*f*(G*fn-1))/2;\n",
      "r=r*10**18;\n",
      "\n",
      "#Displaying results in the command window            \n",
      "print \"\\n The ASE power spectral density per polarization = \",round(r,3),\" x 10**-18 W/Hz \"\n",
      "\n",
      "\n",
      "\n"
     ],
     "language": "python",
     "metadata": {},
     "outputs": [
      {
       "output_type": "stream",
       "stream": "stdout",
       "text": [
        "\n",
        " The ASE power spectral density per polarization =  6.396  x 10**-18 W/Hz \n"
       ]
      }
     ],
     "prompt_number": 26
    },
    {
     "cell_type": "heading",
     "level": 2,
     "metadata": {},
     "source": [
      "Ex6.13:pg-296"
     ]
    },
    {
     "cell_type": "code",
     "collapsed": false,
     "input": [
      "# Example 6.13\n",
      "# Calculation of the geometric mean of the facet reflectivity R\n",
      "# Page no 296\n",
      "\n",
      "import math\n",
      "\n",
      "#Given data\n",
      "Gm=20.0;\n",
      "G1=5.0;\n",
      "\n",
      "# The geometric mean of the facet reflectivity R\n",
      "Gmax=10**(Gm/10);                    # Peak Gain\n",
      "Gs=10**(G1/10);                      # Single pass gain\n",
      "R=(sqrt(Gs)-10)/(math.sqrt(Gs)-Gs*10);\n",
      "\n",
      "\n",
      "\n",
      "\n",
      "#Displaying results in the command window            \n",
      "print \"\\n The geometric mean of the facet reflectivity R = \",round(R,3)\n",
      "\n",
      "\n",
      "\n"
     ],
     "language": "python",
     "metadata": {},
     "outputs": [
      {
       "output_type": "stream",
       "stream": "stdout",
       "text": [
        "\n",
        " The geometric mean of the facet reflectivity R =  0.275\n"
       ]
      }
     ],
     "prompt_number": 27
    },
    {
     "cell_type": "heading",
     "level": 2,
     "metadata": {},
     "source": [
      "Ex6.14:pg-297"
     ]
    },
    {
     "cell_type": "code",
     "collapsed": false,
     "input": [
      "# Example 6.14\n",
      "# Calculation of the upper bound on the single-pass gain\n",
      "# Page no 297\n",
      "import math\n",
      "\n",
      "#Given data\n",
      "\n",
      "n=3.5;                    # Refractive index\n",
      "c1=3*10**8;                # Velocity of light\n",
      "L=200*10**-6;             # Amplifier length\n",
      "a=0.09;\n",
      "b=-(1.2*0.1805**2+0.6);\n",
      "c=1;\n",
      "\n",
      "# The geometric mean of the facet reflectivity R\n",
      "f=c1/(2*n*L);\n",
      "\n",
      "x1 =( -1*b+ math.sqrt ((b **2) -4*a*c)) /(2* a); # 1 s t r o o t\n",
      "x2 =( -1*b- math.sqrt ((b **2) -4*a*c)) /(2* a); # 2nd r o o t\n",
      "\n",
      "\n",
      "\n",
      "#Displaying results in the command window            \n",
      "print \"\\n The geometric mean of the facet reflectivity R = \",round(f*10**-9,2),\" GHz \"\n",
      "print \"\\n The upper bound on the single-pass gain Gs = \",round(x1,2),\" or  \"\n",
      "print \"\\n The upper bound on the single-pass gain Gs = \",round(x2,2)\n",
      "\n",
      "\n",
      "# The answers vary due to round off error\n"
     ],
     "language": "python",
     "metadata": {},
     "outputs": [
      {
       "output_type": "stream",
       "stream": "stdout",
       "text": [
        "\n",
        " The geometric mean of the facet reflectivity R =  214.29  GHz \n",
        "\n",
        " The upper bound on the single-pass gain Gs =  4.77  or  \n",
        "\n",
        " The upper bound on the single-pass gain Gs =  2.33\n"
       ]
      }
     ],
     "prompt_number": 28
    }
   ],
   "metadata": {}
  }
 ]
}