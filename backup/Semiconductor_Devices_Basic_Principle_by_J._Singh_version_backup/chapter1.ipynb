{
 "metadata": {
  "name": "",
  "signature": "sha256:87ec2de187104d95ee2f6c0506d06458448c9c71e8a53382b631624a9ef50d23"
 },
 "nbformat": 3,
 "nbformat_minor": 0,
 "worksheets": [
  {
   "cells": [
    {
     "cell_type": "heading",
     "level": 1,
     "metadata": {},
     "source": [
      "Chapter1:ELECTRONS IN SOLIDS"
     ]
    },
    {
     "cell_type": "heading",
     "level": 2,
     "metadata": {},
     "source": [
      "Ex1.1:pg-06"
     ]
    },
    {
     "cell_type": "code",
     "collapsed": false,
     "input": [
      "\n",
      "A1=27#initializing value of atomic mass of alluminium\n",
      "AV = 6.023*10**23 #initializing value of avagadro number\n",
      "N = 13 #initializing value of number of electrons of alluminium per atom\n",
      "P1 = 2.7 #initializing value of density of alluminium\n",
      "E1=AV*(N*P1/A1)\n",
      "print\"Electrons density of alluminium,n(Al)= \",\"{:.2e}\".format(E1),\" cm**-3\"\n",
      "A2=12 #initializing value of atomic mass of carbon\n",
      "N1 = 6 #initializing value of number of electrons of carbon per atom\n",
      "P2 = 3.515 #initializing value of density of carbon\n",
      "E2=AV*(N1*P2/A2)\n",
      "print\"Electrons density of carbon,n(C)= \",\"{:.3e}\".format(E2),\" cm**-3\"\n",
      "A3=28 #initializing value of atomic mass of silicon\n",
      "N2 = 14 #initializing value of number of electrons of silicon per atom\n",
      "P3 = 2.33 #gcm**-3, initializing value of density of silicon\n",
      "E3=AV*(N2*P3/A3)\n",
      "print\"Electrons density of silicon,n(Si)=\",\"{:.2e}\".format(E3),\" cm**-3\"\n",
      "#using Drudes approach\n",
      "print\"using Drudes approach\"\n",
      "Zc1=3 ##initializing value of valence electron of alluminium atom\n",
      "E4=AV*(Zc1*P1/A1)\n",
      "print\"Electrons density of alluminium,n(Al)=\",\"{:.1e}\".format(E4),\" cm**-3\"\n",
      "Zc2=4 #initializing value of valence electron of carbon atom\n",
      "E5=AV*(Zc2*P2/A2)\n",
      "print\"Electrons density of carbon,n(C)=\",\"{:.2e}\".format(E5),\" cm**-3\"\n",
      "Zc3=4 #initializing value of valence electron of silicon atom\n",
      "E6=AV*(Zc3*P3/A3)\n",
      "print\"Electrons density of silicon,n(Si)=\",\"{:.1e}\".format(E6),\" cm**-3\"\n"
     ],
     "language": "python",
     "metadata": {},
     "outputs": [
      {
       "output_type": "stream",
       "stream": "stdout",
       "text": [
        "Electrons density of alluminium,n(Al)=  7.83e+23  cm**-3\n",
        "Electrons density of carbon,n(C)=  1.059e+24  cm**-3\n",
        "Electrons density of silicon,n(Si)= 7.02e+23  cm**-3\n",
        "using Drudes approach\n",
        "Electrons density of alluminium,n(Al)= 1.8e+23  cm**-3\n",
        "Electrons density of carbon,n(C)= 7.06e+23  cm**-3\n",
        "Electrons density of silicon,n(Si)= 2.0e+23  cm**-3\n"
       ]
      }
     ],
     "prompt_number": 6
    },
    {
     "cell_type": "heading",
     "level": 2,
     "metadata": {},
     "source": [
      "Ex1.2:pg-13"
     ]
    },
    {
     "cell_type": "code",
     "collapsed": false,
     "input": [
      "\n",
      "# silicon has diomond structure which is made up of FCC lattice \n",
      "N=4.0 #initializing value of number of points per cube of volume\n",
      "print\"N=4\"\n",
      "A = 5.43*10**-8 #\"cm**-1\" #initializing value of lattice constant of silicon\n",
      "D = 2.0 #initializing value of number of silicon atoms per lattice point\n",
      "E1 = N*D/A**3\n",
      "print\"number density of silicon,N(Si)= \",\"{:.3e}\".format(E1),\" atomscm**-3\"\n",
      "#for gallium in GaAs there is 1 Ga atom and 1 As atom as per lattice point , it also has fcc structure\n",
      "A1 = 5.65*10**-8 #initializing value of lattice constant of gallium\n",
      "D1 = 1.0 #initializing value of number of gallium atoms per lattice point\n",
      "E2 = N*D1/A1**3\n",
      "print\"number density of gallium atoms,N(Ga)=\"\"{:.2e}\".format(E2),\" atomscm**-3\"\n"
     ],
     "language": "python",
     "metadata": {},
     "outputs": [
      {
       "output_type": "stream",
       "stream": "stdout",
       "text": [
        "N=4\n",
        "number density of silicon,N(Si)=  4.997e+22  atomscm**-3\n",
        "number density of gallium atoms,N(Ga)=2.22e+22  atomscm**-3\n"
       ]
      }
     ],
     "prompt_number": 9
    },
    {
     "cell_type": "heading",
     "level": 2,
     "metadata": {},
     "source": [
      "Ex1.3:pg-14"
     ]
    },
    {
     "cell_type": "code",
     "collapsed": false,
     "input": [
      "\n",
      "# silicon has diomond structure which is made up of FCC lattice \n",
      "\n",
      "N=4.0 #initializing value of number of points per cube of volume\n",
      "A = 5.43*10**-8 #\"cm**-3\" #initializing value of lattice constant of silicon\n",
      "D = 2.0 #initializing value of number of silicon atoms per lattice point\n",
      "E1 = N*D/A**3\n",
      "print\"number density of silicon,Nsi = \"\"{:.2e}\".format(E1),\" atomscm**-3\"\n",
      "\n",
      "#for gallium in GaAs there is 1 Ga atom and 1 As atom as per lattice point , it also has fcc structure\n",
      "\n",
      "A1 = 5.65*10**-8 #initializing value of lattice constant of gallium\n",
      "D1 = 1.0 #initializing value of number of gallium atoms per lattice point\n",
      "E2 = N*D1/A1**3\n",
      "print\"number density of gallium atoms,NGa= \"\"{:.2e}\".format(E2),\" atomscm**-3\"\n",
      "\n",
      "# using above answer in following part\n",
      "S1=10*10**-12 #initializing value of dimensions of silicon transistor\n",
      "N1 = (E1*S1)\n",
      "print\"number Si atom in silicon transistor,N(Si)= \",\"{:.2e}\".format(N1),\" atoms\"\n",
      "S2 = 200*10*5*10**(-12) #\" cm**3\", #initializing value of dimensions of GaAs semiconductor laser\n",
      "N2 = (E2*S2)\n",
      "print\"number of Ga atom in GaAs semiconductor,N(Ga)= \",\"{:.2e}\".format(N2),\" atoms\"\n"
     ],
     "language": "python",
     "metadata": {},
     "outputs": [
      {
       "output_type": "stream",
       "stream": "stdout",
       "text": [
        "number density of silicon,Nsi = 5.00e+22  atomscm**-3\n",
        "number density of gallium atoms,NGa= 2.22e+22  atomscm**-3\n",
        "number Si atom in silicon transistor,N(Si)=  5.00e+11  atoms\n",
        "number of Ga atom in GaAs semiconductor,N(Ga)=  2.22e+14  atoms\n"
       ]
      }
     ],
     "prompt_number": 11
    },
    {
     "cell_type": "heading",
     "level": 2,
     "metadata": {},
     "source": [
      "Ex1.4:pg-15"
     ]
    },
    {
     "cell_type": "code",
     "collapsed": false,
     "input": [
      "\n",
      "# In the (001) surface the top atoms are either Ga or As\n",
      "#A square of area a**2 has 4 atoms on the edges of square shared by 4 other square and 1 atom in centre\n",
      "\n",
      "N=2.0 #initializing value of total number of atoms per square\n",
      "a = 5.65*10**-8 #\"cm**-1\", #initializing value of lattice constant of gallium\n",
      "SD = N/(a**2)\n",
      "print\"surface density of Ga,N(Ga)= \",\"{:.3e}\".format(SD),\"cm**-2\"\n",
      "\n"
     ],
     "language": "python",
     "metadata": {},
     "outputs": [
      {
       "output_type": "stream",
       "stream": "stdout",
       "text": [
        "surface density of Ga,N(Ga)=  6.265e+14 cm**-2\n"
       ]
      }
     ],
     "prompt_number": 13
    },
    {
     "cell_type": "heading",
     "level": 2,
     "metadata": {},
     "source": [
      "Ex1.5:pg-15"
     ]
    },
    {
     "cell_type": "code",
     "collapsed": false,
     "input": [
      "\n",
      "a = 5.65*10**-8 #initializing value of lattice constant of gallium\n",
      "A = a/2\n",
      "print\"monolayer distance in the (001) direction,(A(ml)=\",\"{:.3e}\".format(A),\" cm**-1\"\n"
     ],
     "language": "python",
     "metadata": {},
     "outputs": [
      {
       "output_type": "stream",
       "stream": "stdout",
       "text": [
        "monolayer distance in the (001) direction,(A(ml)= 2.825e-08  cm**-1\n"
       ]
      }
     ],
     "prompt_number": 24
    },
    {
     "cell_type": "heading",
     "level": 2,
     "metadata": {},
     "source": [
      "\n",
      "Ex1.6:pg-22"
     ]
    },
    {
     "cell_type": "code",
     "collapsed": false,
     "input": [
      "\n",
      "h=6.6*10**-34    #\"Js\", # plancks constant\n",
      "c = 3*10**8 #\"m/s\", # velocity of light\n",
      "E1 = 1.6*10**-19 #\"J\", #initializing value of energy of photon\n",
      "L1 = h*c/E1\n",
      "print\"wavelengh of photon,L(ph)= \"\"{:.2e}\".format(L1),\" m\"\n",
      "E2 = 1.6*10**-19 #\"J\", #initializing value of energy of electron\n",
      "mo = 9.1*10**-31 #\"kg\", #initializing value of mass of electron\n",
      "L2 = h/sqrt(2*mo*E2)\n",
      "print\"wavelengh of electron,L(e)= \"\"{:.2e}\".format(L2),\" m\"\n",
      "m=1.0/1824 #initializing value of ratio of mass of electron to mass of neutron\n",
      "L3 = L2*sqrt(m)\n",
      "print\"wavelengh of neutron,L(n)=\"\"{:.2e}\".format(L3),\" m\"\n",
      "\n",
      "\n",
      "\n"
     ],
     "language": "python",
     "metadata": {},
     "outputs": [
      {
       "output_type": "stream",
       "stream": "stdout",
       "text": [
        "wavelengh of photon,L(ph)= 1.24e-06  m\n",
        "wavelengh of electron,L(e)= 1.22e-09  m\n",
        "wavelengh of neutron,L(n)=2.86e-11  m\n"
       ]
      }
     ],
     "prompt_number": 25
    },
    {
     "cell_type": "heading",
     "level": 2,
     "metadata": {},
     "source": [
      "\n",
      "Ex1.7:pg-25"
     ]
    },
    {
     "cell_type": "code",
     "collapsed": false,
     "input": [
      "import math\n",
      "h=1.05*10**-34    #initializing value of reduced plancks constant or dirac constant or h-bar\n",
      "m = 9.1*10**-31 #initializing value of mass of electron\n",
      "E = 0.1 #initializing value of energy of electron\n",
      "N = (sqrt(2)*(m)**(3.0/2))/((math.pi)**2*(h)**3)\n",
      "print\"density of states in 3D is ,N(E)= \",\"{:.2e}\".format(N),\"E**1/2 J**-1m**-3\"\n",
      "\n",
      "#Expressing E in eV and the density of states in commonly used units of eV**-1cm**-3\n",
      "N1 = 6.8*10**21*sqrt(E)\n",
      "print\"density of states in 3D is ,N(E)= \"\"{:.2e}\".format(N1),\"eV**-1cm**-3\"\n",
      "\n",
      "\n",
      "\n",
      "\n"
     ],
     "language": "python",
     "metadata": {},
     "outputs": [
      {
       "output_type": "stream",
       "stream": "stdout",
       "text": [
        "density of states in 3D is ,N(E)=  1.07e+56 E**1/2 J**-1m**-3\n",
        "density of states in 3D is ,N(E)= 2.15e+21 eV**-1cm**-3\n"
       ]
      }
     ],
     "prompt_number": 28
    },
    {
     "cell_type": "heading",
     "level": 2,
     "metadata": {},
     "source": [
      "Ex1.8:pg-25"
     ]
    },
    {
     "cell_type": "code",
     "collapsed": false,
     "input": [
      "\n",
      "h=1.05*10**-34     #initializing value of reduced plancks constant or dirac constant or h-bar\n",
      "m = 9.1*10**-31 #initializing value of mass of electron\n",
      "E = 2.0 #initializing value of energy of electron\n",
      "#N = (sqrt(2)*(m)**(3.0/2))/((math.pi)**2*(h)**3)\n",
      "#Expressing E in eV and the density of states in commonly used units of eV**-1cm**-3\n",
      "N1 = 6.8*10**21*sqrt(E-2.0)\n",
      "print\"density of states in 3D is ,N(E)= \",round(N1,2),\"eV**-1cm**-3\""
     ],
     "language": "python",
     "metadata": {},
     "outputs": [
      {
       "output_type": "stream",
       "stream": "stdout",
       "text": [
        "density of states in 3D is ,N(E)=  0.0 eV**-1cm**-3\n"
       ]
      }
     ],
     "prompt_number": 1
    },
    {
     "cell_type": "heading",
     "level": 2,
     "metadata": {},
     "source": [
      "\n",
      "Ex1.9:pg-38"
     ]
    },
    {
     "cell_type": "code",
     "collapsed": false,
     "input": [
      "\n",
      "h=1.05*10**-34 #initializing value of reduced plancks constant or dirac constant or h-bar\n",
      "m = 9.1*10**-31 #initializing value of mass of electron\n",
      "n = 10**28 #initializing value of mass of electron\n",
      "E = (3*(math.pi)**(2)*n)**(2/3)*(h**2/(2*m))\n",
      "print\"The fermi energy at 0K is ,E[F]= \",\"{:.2e}\".format(E),\"J\"\n",
      "Ef= E/(1.6*10**(-19))\n",
      "print\"The fermi energy at 0K in eV is ,E[F] = \",\"{:.2e}\".format(Ef),\"eV\"\n",
      "# Answer givenin the textbook is wrong"
     ],
     "language": "python",
     "metadata": {},
     "outputs": [
      {
       "output_type": "stream",
       "stream": "stdout",
       "text": [
        "The fermi energy at 0K is ,E[F]=  6.06e-39 J\n",
        "The fermi energy at 0K in eV is ,E[F] =  3.79e-20 eV\n"
       ]
      }
     ],
     "prompt_number": 32
    },
    {
     "cell_type": "heading",
     "level": 2,
     "metadata": {},
     "source": [
      "Ex1.10:pg-39"
     ]
    },
    {
     "cell_type": "code",
     "collapsed": false,
     "input": [
      "\n",
      "print\"for temperature T1=77K\"\n",
      "kBT1=0.0067 #initializing value of multiplication of boltzmann constant and temperature T1\n",
      "n1 = 10**19 #initializing value of density of electron\n",
      "Nc1 = 3.34*10**18#initializing value of effective density of electron\n",
      "print\"Nc1 = 3.34*10**18 cm**-3\"\n",
      "Ef1= kBT1*((log(n1/Nc1)))\n",
      "print\"The fermi level at 77K (using boltzmann static) is ,Ef1(B)= \",\"{:.2e}\".format(Ef1),\"eV\"\n",
      "Ef2= kBT1*((log(n1/Nc1))+(1.0/sqrt(8))*(n1/Nc1))\n",
      "print\"The fermi level at 77K (using Joyce-Dixon static) is ,Ef1(J)= \",\"{:.2e}\".format(Ef2),\"eV\"\n",
      "print\"for temperature T2=300K\"\n",
      "kBT2=0.026 #initializing value of multiplication of boltzmann constant and temperature T2\n",
      "Nc2 = 2.56*10**19 #initializing value of effective density of electron\n",
      "print\"Nc2 = 2.56*10**19 cm**-3\"\n",
      "Ef3= kBT2*((log(n1/Nc2)))\n",
      "print\"The fermi level at 300K (using boltzmann static) is ,Ef2(B)= \",\"{:.2e}\".format(Ef3),\"eV\"\n",
      "Ef4= kBT2*((log(n1/Nc2))+(1.0/sqrt(8))*(n1/Nc2))\n",
      "print\"The fermi level at 300K (using Joyce-Dixon static) is ,Ef2(J)= \",\"{:.2e}\".format(Ef4),\"eV\""
     ],
     "language": "python",
     "metadata": {},
     "outputs": [
      {
       "output_type": "stream",
       "stream": "stdout",
       "text": [
        "for temperature T1=77K\n",
        "Nc1 = 3.34*10**18 cm**-3\n",
        "The fermi level at 77K (using boltzmann static) is ,Ef1(B)=  7.35e-03 eV\n",
        "The fermi level at 77K (using Joyce-Dixon static) is ,Ef1(J)=  1.44e-02 eV\n",
        "for temperature T2=300K\n",
        "Nc2 = 2.56*10**19 cm**-3\n",
        "The fermi level at 300K (using boltzmann static) is ,Ef2(B)=  -2.44e-02 eV\n",
        "The fermi level at 300K (using Joyce-Dixon static) is ,Ef2(J)=  -2.08e-02 eV\n"
       ]
      }
     ],
     "prompt_number": 35
    }
   ],
   "metadata": {}
  }
 ]
}