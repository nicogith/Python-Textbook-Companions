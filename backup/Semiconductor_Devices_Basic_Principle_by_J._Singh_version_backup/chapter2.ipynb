{
 "metadata": {
  "name": "",
  "signature": "sha256:89b26be9b34fcc4abdf434215c6ed45e9bed850a39f0e736d3ded9e4d9969c4c"
 },
 "nbformat": 3,
 "nbformat_minor": 0,
 "worksheets": [
  {
   "cells": [
    {
     "cell_type": "heading",
     "level": 1,
     "metadata": {},
     "source": [
      "\n",
      "Chapter2:ELECTRONS IN SEMICONDUCTORS"
     ]
    },
    {
     "cell_type": "heading",
     "level": 2,
     "metadata": {},
     "source": [
      "Ex2.1:pg-55"
     ]
    },
    {
     "cell_type": "code",
     "collapsed": false,
     "input": [
      "h=1.05*10**-34\n",
      "mo = 9.1*10**-31\n",
      "E = 0.1*1.6*10**(-19)\n",
      "m=0.067*mo\n",
      "k = sqrt(2*m*E)/h\n",
      "print\"The k-value for an electron in the conduction band of GaAs is ,k = \",\"{:.1e}\".format(k),\"m**-1\"\n",
      "ko = 1.625*10**9\n",
      "print\"the two value are quite difference since the k value represent effective momentum\""
     ],
     "language": "python",
     "metadata": {},
     "outputs": [
      {
       "output_type": "stream",
       "stream": "stdout",
       "text": [
        "The k-value for an electron in the conduction band of GaAs is ,k =  4.2e+08 m**-1\n",
        "the two value are quite difference since the k value represent effective momentum\n"
       ]
      }
     ],
     "prompt_number": 4
    },
    {
     "cell_type": "heading",
     "level": 2,
     "metadata": {},
     "source": [
      "Ex2.2:pg-56"
     ]
    },
    {
     "cell_type": "code",
     "collapsed": false,
     "input": [
      "mo = 9.1*10**-31\n",
      "ml = 0.98*mo\n",
      "mt = 0.19*mo\n",
      "mhh =0.49*mo\n",
      "mlh = 0.16*mo\n",
      "mdos = (((6)**(2.0/3))*((ml)*((mt)**2))**(1.0/3))\n",
      "print\"The conduction band density of states mass is ,mdos* =\",\"{:.2e}\".format(mdos),\"kg\"\n",
      "mdos1 = (((mhh)**(3/2)+(mlh)**(3/2))**(2.0/3))\n",
      "print\"The Valence band density of states mass is ,mdos1*=\",\"{:.2e}\".format(mdos1),\"kg\"\n",
      "# In the book ,the answer is given in the form of mo\n",
      " \n",
      "\n"
     ],
     "language": "python",
     "metadata": {},
     "outputs": [
      {
       "output_type": "stream",
       "stream": "stdout",
       "text": [
        "The conduction band density of states mass is ,mdos* = 9.86e-31 kg\n",
        "The Valence band density of states mass is ,mdos1*= 7.05e-21 kg\n"
       ]
      }
     ],
     "prompt_number": 6
    },
    {
     "cell_type": "heading",
     "level": 2,
     "metadata": {},
     "source": [
      "Ex2.3:pg-59"
     ]
    },
    {
     "cell_type": "code",
     "collapsed": false,
     "input": [
      "\n",
      "h=1.05*10**-34\n",
      "mo = 9.1*10**-31\n",
      "mhh =0.5*mo\n",
      "k = 0.1*10**10\n",
      "Ev = 0\n",
      "e = 1.6*10**-19\n",
      "#(we have assumed the valence band energy Ev=0eV as it is not provided in the book)\n",
      "Ee= Ev-(((h**2)*(k**2))/(2*mhh))\n",
      "print\"The electron energy in the valence band is ,Ee=\",\"{:.2e}\".format(Ee),\"J\"\n",
      "Ee1= Ee/e\n",
      "print\"The electron energy in the valence band is ,Ee= Ee/e=\",\"{:.2e}\".format(Ee1),\"eV\"\n",
      "Eh= Ev+((((h**2)*(k**2))/(2*mhh))/e)\n",
      "print\"The hole energy in the valence band is ,Eh=\",\"{:.2e}\".format(Eh),\"eV\"\n",
      "\n",
      " \n",
      "\n"
     ],
     "language": "python",
     "metadata": {},
     "outputs": [
      {
       "output_type": "stream",
       "stream": "stdout",
       "text": [
        "The electron energy in the valence band is ,Ee= -1.21e-20 J\n",
        "The electron energy in the valence band is ,Ee= Ee/e= -7.57e-02 eV\n",
        "The hole energy in the valence band is ,Eh= 7.57e-02 eV\n"
       ]
      }
     ],
     "prompt_number": 7
    },
    {
     "cell_type": "heading",
     "level": 2,
     "metadata": {},
     "source": [
      "Ex2.4:pg-62"
     ]
    },
    {
     "cell_type": "code",
     "collapsed": false,
     "input": [
      "h=1.06*10**-34\n",
      "mo = 9.1*10**-31\n",
      "m = 0.067*mo\n",
      "print\"m = \",\"{:.2e}\".format(m),\"kg\"\n",
      "E = 0.5*1.6*10**-19\n",
      "print\"E = \",\"{:.2e}\".format(E),\"J\" #initializing value of electron energy measured from the bandedge\n",
      "#  Effective momentum of electron in the conduction band of GaAs\n",
      "hk = sqrt(2*m*E)\n",
      "print\"The effetive momentum of an electron in the conduction band of GaAs is ,hk = \"\"{:.2e}\".format(hk),\"m**-1\"#calculation\n",
      "k = hk/h\n",
      "print\"the corresponding wavevector is,k = \",\"{:.1e}\".format(k),\"m**-1\"\n",
      "#Effective momentum of free electron in the space with same energy\n",
      "p = sqrt(2*mo*E)\n",
      "print\"The effetive momentum of an electron in the space is ,p = \",\"{:.1e}\".format(p),\"kgms**-1\""
     ],
     "language": "python",
     "metadata": {},
     "outputs": [
      {
       "output_type": "stream",
       "stream": "stdout",
       "text": [
        "m =  6.10e-32 kg\n",
        "E =  8.00e-20 J\n",
        "The effetive momentum of an electron in the conduction band of GaAs is ,hk = 9.88e-26 m**-1\n",
        "the corresponding wavevector is,k =  9.3e+08 m**-1\n",
        "The effetive momentum of an electron in the space is ,p =  3.8e-25 kgms**-1\n"
       ]
      }
     ],
     "prompt_number": 12
    },
    {
     "cell_type": "heading",
     "level": 2,
     "metadata": {},
     "source": [
      "Ex2.5:pg-63"
     ]
    },
    {
     "cell_type": "code",
     "collapsed": false,
     "input": [
      "import math\n",
      "h=1.05*10**-34 #initializing value of reduced plancks constant or dirac constant or h-bar\n",
      "mo = 9.1*10**-31 #initializing value of mass of electron\n",
      "ml = 0.98*mo #initializing value of longitudinal mass\n",
      "mt = 0.19*mo #initializing value of transverse mass\n",
      "a = 5.43*10**-10 #initializing value of latice constant\n",
      "kx = ((2*math.pi*0.95)/a) #initializing value of given k-value in x direction \n",
      "ky = ((2*math.pi*0.1)/a) #initializing value of given k-value in y direction \n",
      "kz = ((2*math.pi*0.0)/a) #initializing value of given k-value in z direction \n",
      "kxo = ((2*math.pi*0.85)/a) #initializing value of k-value for Si occupies the (100) valley in x direction \n",
      "kyo = ((2*math.pi*0.0)/a) #initializing value of k-value for Si occupies the (100) valley in y direction \n",
      "kzo = ((2*math.pi*0.0)/a) #initializing value of k-value for Si occupies the (100) valley in z direction \n",
      "kl = kx-kxo\n",
      "print\"the change in k vector in x direction is,kl = kx-kxo = \",\"{:.3e}\".format(kl),\"m**-1\"\n",
      "kt = ky-kyo\n",
      "print\"the change in k vector in y direction is,kt = ky-kyo = \",\"{:.3e}\".format(kt),\"m**-1\"\n",
      "E= (((h**2)*(kl**2))/(2*ml))+(((h**2)*(kt**2))/(2*mt))\n",
      "print\"The electron energy measured from the conduction bandege is ,E=  \",\"{:.3e}\".format(E),\"J\"\n"
     ],
     "language": "python",
     "metadata": {},
     "outputs": [
      {
       "output_type": "stream",
       "stream": "stdout",
       "text": [
        "the change in k vector in x direction is,kl = kx-kxo =  1.157e+09 m**-1\n",
        "the change in k vector in y direction is,kt = ky-kyo =  1.157e+09 m**-1\n",
        "The electron energy measured from the conduction bandege is ,E=   5.097e-20 J\n"
       ]
      }
     ],
     "prompt_number": 3
    },
    {
     "cell_type": "heading",
     "level": 2,
     "metadata": {},
     "source": [
      "Ex2.9:pg-70"
     ]
    },
    {
     "cell_type": "code",
     "collapsed": false,
     "input": [
      "import math\n",
      "h=1.05*10**-34 #initializing value of reduced plancks constant or dirac constant or h-bar\n",
      "mo = 9.1*10**-31 #initializing value of mass of electron\n",
      "me = 0.067*mo #initializing value of effective mass of GaAs\n",
      "kbT = 4.16*10**-21 #initializing value of kbT at 300K\n",
      "Nc=2*(((me*kbT)/(2*math.pi*(h**2)))**(3/2))\n",
      "print\"for GaAs conduction band case effective density of states is ,Nc= \",\"{:.2e}\".format(Nc),\"m**-3\"\n",
      "ml = 0.98*mo #initializing value of longitudinal mass\n",
      "mt = 0.19*mo #initializing value of transverse mass\n",
      "mdos = (((6)**(2.0/3))*((ml)*((mt)**2))**(1.0/3))\n",
      "Nc1 = 2*((mdos*kbT)/(2*(math.pi)*(h**2)))**(3/2)\n",
      "print\"for silicon conduction band case effective density of states is ,Nc = \",\"{:.2e}\".format(Nc1),\"m**-3\"\n",
      "\n",
      "# Note : due to different precisions taken by me and the author ... my answer differ \n",
      "\n",
      "print\"for silicon\"\n",
      "mhh =0.5*mo #initializing value of heavy hole mass for silicon\n",
      "mlh = 0.15*mo #initializing value of light hole mass for silicon\n",
      "Nv1 =((kbT/(2*(math.pi)*(h**2)))**(3/2))*2*(mhh**(3/2)+mlh**(3/2))\n",
      "print\"for silicon valence band case effective density of states is ,Nv = \",\"{:.2e}\".format(Nv1),\"m**-3\"\n",
      "print\"for GaAs \"\n",
      "mhh1 =0.45*mo #initializing value of heavy hole mass\n",
      "mlh1 = 0.08*mo #initializing value of light hole mass\n",
      "Nv = 2*(mhh1**(3/2)+mlh1**(3/2))*((kbT/(2*(math.pi)*(h**2)))**(3/2))\n",
      "print\"for GaAs valence band case effective density of states is ,Nv= \",\"{:.2e}\".format(Nv),\"m**-3\"\n",
      "\n",
      "# Answer given in the book for valence band case is wrong\n"
     ],
     "language": "python",
     "metadata": {},
     "outputs": [
      {
       "output_type": "stream",
       "stream": "stdout",
       "text": [
        "for GaAs conduction band case effective density of states is ,Nc=  7.32e+15 m**-3\n",
        "for silicon conduction band case effective density of states is ,Nc =  1.18e+17 m**-3\n",
        "for silicon\n",
        "for silicon valence band case effective density of states is ,Nv =  7.10e+16 m**-3\n",
        "for GaAs \n",
        "for GaAs valence band case effective density of states is ,Nv=  5.79e+16 m**-3\n"
       ]
      }
     ],
     "prompt_number": 6
    },
    {
     "cell_type": "heading",
     "level": 2,
     "metadata": {},
     "source": [
      "Ex2.10:pg-70"
     ]
    },
    {
     "cell_type": "code",
     "collapsed": false,
     "input": [
      "\n",
      "mo = 9.1*10**-31 #initializing value of mass of electron\n",
      "me = 0.067*mo #initializing value of effective mass of GaAs\n",
      "kbT = 0.026 #initializing value of kbT at 300K\n",
      "ml = 0.98*mo #initializing value of longitudinal mass\n",
      "mt = 0.19*mo #initializing value of transverse mass\n",
      "mh = 0.55*mo #initializing value of density of state mass for the valence band \n",
      "#let\n",
      "Eg = 0.0 #initializing value of valence bandedge energy\n",
      "mdos = (((6)**(2/3))*((ml)*((mt)**2))**(1.0/3))\n",
      "print\"The desity of states of effective mass of the combined six valleys of silicon is mdos* = \",\"{:.2e}\".format(mdos),\"kg\"\n",
      "Efi = (Eg/2)+((3.0/4)*kbT*log(mh/mdos))\n",
      "print\"The intrinsic fermi level is given by Efi= \",\"{:.2e}\".format(Efi),\"eV\"\n",
      "# -ve sign show that fermi level is below the centre of mid-bandgap\n",
      "# In this question the answer is provided in the book is in terms of Eg and i have assumed value of Eg = 0 V \n"
     ],
     "language": "python",
     "metadata": {},
     "outputs": [
      {
       "output_type": "stream",
       "stream": "stdout",
       "text": [
        "The desity of states of effective mass of the combined six valleys of silicon is mdos* =  2.99e-31 kg\n",
        "The intrinsic fermi level is given by Efi=  1.01e-02 eV\n"
       ]
      }
     ],
     "prompt_number": 1
    },
    {
     "cell_type": "heading",
     "level": 2,
     "metadata": {},
     "source": [
      "Ex2.11:pg-71"
     ]
    },
    {
     "cell_type": "code",
     "collapsed": false,
     "input": [
      "import math\n",
      "mo = 9.1*10**-31 #initializing value of mass of electron\n",
      "me = 0.027*mo #initializing value of effective mass of GaAs\n",
      "kbT = 0.026 #initializing value of kbT at 300K\n",
      "mh = 0.4*mo #initializing value of longitudinal mass\n",
      "h=1.05*10**-34 #initializing value of plank constant.\n",
      "Eg = 0.35 #initializing value of valence bandedge energy\n",
      "ni =2*(((kbT*1.6*10**-19)/(2*(math.pi)*h**2))**(3/2))*((me*mh)**(3/4))*(exp(-Eg/(2*kbT)))\n",
      "print\"ni =2*(kbT/(2*(math.pi)*h**2))**(3/2)*((me*mh)**(3/4))*(exp(-Eg/(2*kbT)))= \",\"{:.2e}\".format(ni),\"m**-3\"\n",
      "kbT = 0.05175\n",
      "print\"kbT = \",\"{:.2e}\".format(kbT),\"eV\" #initializing value of kbT at 600K\n",
      "ni =2*(((kbT*1.6*10**-19)/(2*(math.pi)*h**2))**(3/2))*((me*mh)**(3/4))*(exp(-Eg/(2*kbT)))\n",
      "print\"ni =2*(kbT/(2*(math.pi)*h**2))**(3/2)*((me*mh)**(3/4))*(exp(-Eg/(2*kbT)))= \",\"{:.2e}\".format(ni),\"m**-3\"\n",
      "#Note: In the textbook wrong answer is given for intrinsic carrier concentration at 600K\n"
     ],
     "language": "python",
     "metadata": {},
     "outputs": [
      {
       "output_type": "stream",
       "stream": "stdout",
       "text": [
        "ni =2*(kbT/(2*(math.pi)*h**2))**(3/2)*((me*mh)**(3/4))*(exp(-Eg/(2*kbT)))=  1.43e+44 m**-3\n",
        "kbT =  5.17e-02 eV\n",
        "ni =2*(kbT/(2*(math.pi)*h**2))**(3/2)*((me*mh)**(3/4))*(exp(-Eg/(2*kbT)))=  8.13e+45 m**-3\n"
       ]
      }
     ],
     "prompt_number": 2
    },
    {
     "cell_type": "heading",
     "level": 2,
     "metadata": {},
     "source": [
      "Ex2.12:pg-75"
     ]
    },
    {
     "cell_type": "code",
     "collapsed": false,
     "input": [
      "mo = 9.1*10**-31 #initializing value of mass of electron\n",
      "m_star=0.067*mo #initializing value of appropriate mass in the conduction band for GaAs\n",
      "apsilen = 13.2*8.85*10**-14 #initializing value of relative permitivity for GaAs\n",
      "apsilen_not = 8.85*10**-14 #initializing value of permitivity\n",
      "ml = 0.98*mo #initializing value of longitudinal mass\n",
      "mt = 0.2*mo #initializing value of transverse mass\n",
      "m_sigma_star = (3)/((1.0/ml)+(2.0/mt))\n",
      "print\"The conductivity mass for silicon is ,m_sigma_star = (3*mo)/((1/ml)+(2/mt))= \",\"{:.2e}\".format(m_sigma_star),\"Kg\"\n",
      "print\"The shallow level energies are given by,Ed = Ec-(13.6(eV)*((m_star/mo)/(apsilen/apsilen_not)**2))\"\n",
      "#Let Ec = 0 V and taking positive answer, \n",
      "Ed_GaAs = (13.6*((m_star/mo)/(apsilen/apsilen_not)**2))\n",
      "print\"The donor level energy in GaAs is ,Ed_GaAs = Ed= \",\"{:.2e}\".format(Ed_GaAs),\"eV\"\n",
      "m_dot_GaAs=0.45*mo\n",
      "print\"m_dot_GaAs=0.45*mo = \",\"{:.2e}\".format(m_dot_GaAs),\"kg\" #initializing value of heavy hole mass for GaAs\n",
      "Ea_GaAs = (13.6*((m_dot_GaAs/mo)/(apsilen/apsilen_not)**2))\n",
      "print\"The acceptor level energy in GaAs is ,Ea_GaAs = \",\"{:.2e}\".format(Ea_GaAs),\"eV\"\n",
      "apsilen = 11.9*8.85*10**-14 #initializing value of relative permitivity for GaAs\n",
      "m_dot_Si=0.5*mo #initializing value of heavy hole mass for GaAs\n",
      "Ea_Si = (13.6*((m_dot_Si/mo)/(apsilen/apsilen_not)**2))\n",
      "print\"The acceptor level energy in Si is ,Ea_Si = (13.6*((m_dot_Si/mo)/(apsilen/apsilen_not)**2))= \",\"{:.2e}\".format(Ea_Si),\"eV\"\n",
      "Ed_Si = (13.6*((m_sigma_star/mo)/(apsilen/apsilen_not)**2))\n",
      "print\"The donor level energy in Si is ,Ed_Si = (13.6*((m_sigma_star/mo)/(apsilen/apsilen_not)**2))= \",\"{:.2e}\".format(Ed_Si),\"eV\"\n",
      "# Note : due to different precisions taken by me and the author ... my answer differ \n"
     ],
     "language": "python",
     "metadata": {},
     "outputs": [
      {
       "output_type": "stream",
       "stream": "stdout",
       "text": [
        "The conductivity mass for silicon is ,m_sigma_star = (3*mo)/((1/ml)+(2/mt))=  2.48e-31 Kg\n",
        "The shallow level energies are given by,Ed = Ec-(13.6(eV)*((m_star/mo)/(apsilen/apsilen_not)**2))\n",
        "The donor level energy in GaAs is ,Ed_GaAs = Ed=  5.23e-03 eV\n",
        "m_dot_GaAs=0.45*mo =  4.10e-31 kg\n",
        "The acceptor level energy in GaAs is ,Ea_GaAs =  3.51e-02 eV\n",
        "The acceptor level energy in Si is ,Ea_Si = (13.6*((m_dot_Si/mo)/(apsilen/apsilen_not)**2))=  4.80e-02 eV\n",
        "The donor level energy in Si is ,Ed_Si = (13.6*((m_sigma_star/mo)/(apsilen/apsilen_not)**2))=  2.61e-02 eV\n"
       ]
      }
     ],
     "prompt_number": 3
    },
    {
     "cell_type": "heading",
     "level": 2,
     "metadata": {},
     "source": [
      "Ex2.13:pg-77"
     ]
    },
    {
     "cell_type": "code",
     "collapsed": false,
     "input": [
      "n = 10**17 #initializing value of free density of electron of GaAs\n",
      "kBT=0.026 #initializing value of multiplication of boltzmann constant and temperature \n",
      "Nc = 4.45*10**17 #initializing value of effective density of electron\n",
      "#(we have assumed the valence band energy Ev=0eV as it is not provided in the book)\n",
      "E1= kBT*((log(n/Nc)))\n",
      "print\"Ef(B)=\",\"{:.1e}\".format(E1),\"eV\"\n",
      "E2= kBT*((log(n/Nc))+(1/sqrt(8))*(n/Nc))\n",
      "print\"E(J)=\",\"{:.1e}\".format(E2),\"eV\"\n",
      "#for Boltzmann approximation the carrier concentration and fermi level are related as : Ef = Ec+E1\n",
      "#for joyce dixon approximation the carrier concentration and fermi level are related as : Ef = Ec+E2\n",
      "e=E1-E2\n",
      "print\"The error produced by using boltzmann approx. is  e=\"\"{:.2e}\".format(e),\"eV\"\n"
     ],
     "language": "python",
     "metadata": {},
     "outputs": [
      {
       "output_type": "stream",
       "stream": "stdout",
       "text": [
        "Ef(B)= -3.9e-02 eV\n",
        "E(J)= -3.7e-02 eV\n",
        "The error produced by using boltzmann approx. is  e=-2.07e-03 eV\n"
       ]
      }
     ],
     "prompt_number": 6
    },
    {
     "cell_type": "heading",
     "level": 2,
     "metadata": {},
     "source": [
      "Ex2.14:pg-77"
     ]
    },
    {
     "cell_type": "code",
     "collapsed": false,
     "input": [
      "print\"In the Boltzmann approximation, the carrier density is simply\"\n",
      "print\"n = Nc = 2.78*10**19 cm**-3\"\n",
      "N=2.78*10**19 #initializing value of carrier density\n",
      "#In joyce dixon approximation the carrier density is obtained from the solution of the equation\n",
      "print\"Ef = 0 = kBT *(log(n/Nc)+(n/(sqrt8*Nc)))\"\n",
      "#solving by trial and error , we get\n",
      "#n/Nc= 0.76\n",
      "n=0.76*N\n",
      "print\"electron carrier concentration is n=0.76*Nc= \",\"{:.2e}\".format(n),\" cm**-3\"\n"
     ],
     "language": "python",
     "metadata": {},
     "outputs": [
      {
       "output_type": "stream",
       "stream": "stdout",
       "text": [
        "In the Boltzmann approximation, the carrier density is simply\n",
        "n = Nc = 2.78*10**19 cm**-3\n",
        "Ef = 0 = kBT *(log(n/Nc)+(n/(sqrt8*Nc)))\n",
        "electron carrier concentration is n=0.76*Nc=  2.11e+19  cm**-3\n"
       ]
      }
     ],
     "prompt_number": 7
    },
    {
     "cell_type": "heading",
     "level": 2,
     "metadata": {},
     "source": [
      "Ex2.16:pg-80"
     ]
    },
    {
     "cell_type": "code",
     "collapsed": false,
     "input": [
      "Nc = 2.8*10**19 #initializing value of effective density of electron\n",
      "Nd = 10**16 #initializing value of donor atom\n",
      "Ec_minus_Ed = 45*10**-3 #initializing value of donor binding energy\n",
      "kBT=0.026 #initializing value of multiplication of boltzmann constant and temperature \n",
      "\n",
      "#let fraction of ionised donor are represented as Fd = (nd/(n+nd))\n",
      "Fd= (1/(((Nc/(2*Nd))*exp(-(Ec_minus_Ed/kBT)))+1))*100\n",
      "print\"fraction of ionised donor is Fd=\",round(Fd,2),\"%\"\n",
      "Nd = 10**18\n",
      "print\"Nd = \",\"{:.2e}\".format(Nd),\"cm**-3\"\n",
      "Fd= (1.0/(((Nc/(2*Nd))*exp(-(Ec_minus_Ed/kBT)))+1))*100\n",
      "print\"fraction of ionised donor is Fd=\",round(Fd,2),\"%\"\n",
      "# Note : due to different precisions taken by me and the author ... my answer differ \n",
      "\n",
      "\n",
      "\n"
     ],
     "language": "python",
     "metadata": {},
     "outputs": [
      {
       "output_type": "stream",
       "stream": "stdout",
       "text": [
        "fraction of ionised donor is Fd= 0.4 %\n",
        "Nd =  1.00e+18 cm**-3\n",
        "fraction of ionised donor is Fd= 28.74 %\n"
       ]
      }
     ],
     "prompt_number": 10
    },
    {
     "cell_type": "heading",
     "level": 2,
     "metadata": {},
     "source": [
      "Ex2.17:pg-80"
     ]
    },
    {
     "cell_type": "code",
     "collapsed": false,
     "input": [
      "Nc_Si = 2.78*10**19 #initializing value of effective density of electron for silicon\n",
      "Nc_GaAs = 4.45*10**17 #initializing value of effective density of electron for GaAs\n",
      "print\"for joyce dixon approximation the carrier concentration and fermi level are related as : Ef -Ec = kBT*(log(n/Nc)+(n/(sqrt8*Nc))\"\n",
      "print(\"using Ef-Ec = 3* kBT\") \n",
      "print(\"solving above equation by hit and trial method for n/Nc,we get n/Nc = 4.4\") \n",
      "n_by_Nc = 4.4\n",
      "n_Si = n_by_Nc*Nc_Si\n",
      "print\"carrier density for silicon is n=\"\"{:.2e}\".format(n_Si),\"cm**-3\"\n",
      "n_GaAs = n_by_Nc*Nc_GaAs\n",
      "print\"carrier density for GaAs is n=\",\"{:.2e}\".format(n_GaAs),\"cm**-3\"\n"
     ],
     "language": "python",
     "metadata": {},
     "outputs": [
      {
       "output_type": "stream",
       "stream": "stdout",
       "text": [
        "for joyce dixon approximation the carrier concentration and fermi level are related as : Ef -Ec = kBT*(log(n/Nc)+(n/(sqrt8*Nc))\n",
        "using Ef-Ec = 3* kBT\n",
        "solving above equation by hit and trial method for n/Nc,we get n/Nc = 4.4\n",
        "carrier density for silicon is n=1.22e+20 cm**-3\n",
        "carrier density for GaAs is n= 1.96e+18 cm**-3\n"
       ]
      }
     ],
     "prompt_number": 12
    }
   ],
   "metadata": {}
  }
 ]
}