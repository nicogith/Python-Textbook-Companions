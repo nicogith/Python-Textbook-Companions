{
 "metadata": {
  "name": "",
  "signature": "sha256:583e9a3370db0a45b2805011aaba429aa5ff178400e4cdec220559b9edbb5a50"
 },
 "nbformat": 3,
 "nbformat_minor": 0,
 "worksheets": [
  {
   "cells": [
    {
     "cell_type": "heading",
     "level": 1,
     "metadata": {},
     "source": [
      "Chapter7:BIPOLAR JUNCTION TRANSISTORS"
     ]
    },
    {
     "cell_type": "heading",
     "level": 2,
     "metadata": {},
     "source": [
      "\n",
      "Ex7.2:pg-275"
     ]
    },
    {
     "cell_type": "code",
     "collapsed": false,
     "input": [
      "alpha_F=.99\n",
      "alpha_R=.25\n",
      "kbT = 0.026\n",
      "# for part a\n",
      "Ic1 = 1.0\n",
      "Ib1 = .02\n",
      "\n",
      "VCE= kbT*log((((Ic1*(1-alpha_R))+Ib1)*alpha_F)/(((alpha_F*Ib1)-((Ic1*(1-alpha_F))))*alpha_R))\n",
      "print\"The saturation voltage is ,VCE=\",\"{:.2e}\".format(VCE),\" V\"\n",
      " #for part b\n",
      "Ic2 = 5.0\n",
      "Ib2 = .075\n",
      "VCE1= kbT*log((((Ic2*(1-alpha_R))+Ib2)*alpha_F)/(((alpha_F*Ib2)-((Ic2*(1-alpha_F))))*alpha_R))\n",
      "print\"The saturation voltage is ,VCE1=\",\"{:.2e}\".format(VCE1),\" V\""
     ],
     "language": "python",
     "metadata": {},
     "outputs": [
      {
       "output_type": "stream",
       "stream": "stdout",
       "text": [
        "The saturation voltage is ,VCE= 1.49e-01  V\n",
        "The saturation voltage is ,VCE1= 1.67e-01  V\n"
       ]
      }
     ],
     "prompt_number": 2
    },
    {
     "cell_type": "heading",
     "level": 2,
     "metadata": {},
     "source": [
      "\n",
      "Ex7.3:pg-278"
     ]
    },
    {
     "cell_type": "code",
     "collapsed": false,
     "input": [
      "nbo = 2.25*10**3\n",
      "peo = 112.5\n",
      "pco = 2.25*10**4\n",
      "# using law of mass action for a homogeneous semiconductor, we have relation peo*neo=nbo*pbo=ni**2 \n",
      "ni_power_2 = nbo/peo\n",
      "print\"square of electron density of ionisation electron for npn silicon transistor is ni**2 = \",\"{:.2e}\".format(ni_power_2),\"cm**-3\"\n",
      "pbo = 10**16\n",
      "V = (1.0-((peo)/(10*nbo)))\n",
      "print\"The emitter efficiency (gamma)is,V =\",\"{:.2e}\".format(V)\n",
      "neo = ni_power_2*pbo\n",
      "print\"The required emitter doping is,neo =\",\"{:.2e}\".format(neo),\"cm**-3\"\n"
     ],
     "language": "python",
     "metadata": {},
     "outputs": [
      {
       "output_type": "stream",
       "stream": "stdout",
       "text": [
        " square of electron density of ionisation electron for npn silicon transistor is ni**2 =  2.00e+01 cm**-3\n",
        "The emitter efficiency (gamma)is,V = 9.95e-01\n",
        "The required emitter doping is,neo = 2.00e+17 cm**-3\n"
       ]
      }
     ],
     "prompt_number": 4
    },
    {
     "cell_type": "heading",
     "level": 2,
     "metadata": {},
     "source": [
      "Ex7.4:pg-279"
     ]
    },
    {
     "cell_type": "code",
     "collapsed": false,
     "input": [
      "B= 0.997\n",
      "Db = 10.0\n",
      "Tb = 10**-6\n",
      "Lb = sqrt(Db*Tb)\n",
      "print\"The electron carrier diffusion length is,Lb =\",\"{:.2e}\".format(Lb),\"cm\"\n",
      "# assume the neutral basewidth Wbn is equal to actual basewidth Wb\n",
      "Wbn = sqrt((1-B)*(2*(Lb**2)))\n",
      "print\"The base width is,Wb =\",\"{:.2e}\".format(Wbn),\"cm\"\n",
      "# Note : due to different precisions taken by me and the author ... my answer differ \n"
     ],
     "language": "python",
     "metadata": {},
     "outputs": [
      {
       "output_type": "stream",
       "stream": "stdout",
       "text": [
        "The electron carrier diffusion length is,Lb = 3.16e-03 cm\n",
        "The base width is,Wb = 2.45e-04 cm\n"
       ]
      }
     ],
     "prompt_number": 7
    },
    {
     "cell_type": "heading",
     "level": 2,
     "metadata": {},
     "source": [
      "Ex7.5:pg-279"
     ]
    },
    {
     "cell_type": "code",
     "collapsed": false,
     "input": [
      "# using values from the result of Example 7.1\n",
      "VEB = 0.6\n",
      "Ic = 0.2268*10**-3\n",
      "Ib = 4.92*10**-6\n",
      "kbT = 0.026\n",
      "Beta = Ic/Ib\n",
      "print\"The current gain Beta =\",round(Beta)\n",
      "gm = Ic/kbT\n",
      "print\"The transconductance is,gm =\",\"{:.2e}\".format(gm),\"S\"\n"
     ],
     "language": "python",
     "metadata": {},
     "outputs": [
      {
       "output_type": "stream",
       "stream": "stdout",
       "text": [
        "The current gain Beta = 46.0\n",
        "The transconductance is,gm = 8.72e-03 S\n"
       ]
      }
     ],
     "prompt_number": 10
    },
    {
     "cell_type": "heading",
     "level": 2,
     "metadata": {},
     "source": [
      "Ex7.6:pg-279"
     ]
    },
    {
     "cell_type": "code",
     "collapsed": false,
     "input": [
      "De = 20.0\n",
      "Db=De\n",
      "Nde = 5*10**17\n",
      "Nab = 10**17\n",
      "Wb = 10**-4\n",
      "ni = 1.5*10**10\n",
      "# for case (a) value of Te=10**-6s\n",
      "Te1 = 10**-6\n",
      "Le1 = sqrt(De*Te1)\n",
      "Lb1=Le1\n",
      "peo1 = (ni)**2/Nde\n",
      "print\"The  majority carrier densities for the emitter in npn transistor is,peo = \",\"{:.2e}\".format(peo1),\"cm**-3\"\n",
      "nbo1 = (ni)**2/Nab\n",
      "print\"The  majority carrier densities for the base in npn transistor is,nbo =\",\"{:.2e}\".format(nbo1),\"cm**-3\"\n",
      "alpha_1 = (1.0-((peo1*De*Wb)/(nbo1*Db*Le1)))*(1-((Wb**2)/(2*Le1**2)))\n",
      "print\"The  current gain is,alpha_ =\"\"{:.2e}\".format(alpha_1)\n",
      "Beta1 = (alpha_1)/(1.0-alpha_1)\n",
      "print\"The current gain Beta1 =\",round(Beta1,1)\n",
      "#for case (b) value of Te=10**-8s\n",
      "Te2 = 10**-8\n",
      "Le2 = sqrt(De*Te2)\n",
      "print\"The  diffusion length is,Le =\",\"{:.2e}\".format(Le2),\"cm\"\n",
      "peo2 = (ni)**2/Nde\n",
      "nbo2 = (ni)**2/Nab\n",
      "alpha_2 = (1-((peo2*De*Wb)/(nbo2*Db*Le2)))*(1-((Wb**2)/(2*Le2**2)))\n",
      "print\"The  current gain alpha_ =\",\"{:.2e}\".format(alpha_2)\n",
      "Beta2 = (alpha_2)/(1-alpha_2)\n",
      "print\"The current gain Beta2 =\",round(Beta2,1)\n"
     ],
     "language": "python",
     "metadata": {},
     "outputs": [
      {
       "output_type": "stream",
       "stream": "stdout",
       "text": [
        "The  majority carrier densities for the emitter in npn transistor is,peo =  4.50e+02 cm**-3\n",
        "The  majority carrier densities for the base in npn transistor is,nbo = 2.25e+03 cm**-3\n",
        "The  current gain is,alpha_ =9.95e-01\n",
        "The current gain Beta1 = 210.8\n",
        "The  diffusion length is,Le = 4.47e-04 cm\n",
        "The  current gain alpha_ = 9.31e-01\n",
        "The current gain Beta2 = 13.6\n"
       ]
      }
     ],
     "prompt_number": 23
    },
    {
     "cell_type": "heading",
     "level": 2,
     "metadata": {},
     "source": [
      "\n",
      "Ex7.7:pg-281"
     ]
    },
    {
     "cell_type": "code",
     "collapsed": false,
     "input": [
      "import math\n",
      "nbo = 2.25*10**3\n",
      "peo = 112.5\n",
      "Db = 30.0\n",
      "De = 10.0\n",
      "Nde = 10**18\n",
      "Nab = 10**16\n",
      "Lb = 10*10**-4\n",
      "Le = 4*10**-4\n",
      "kbT = 0.026\n",
      "Wb = 0.5*10**-4\n",
      "We1 = 10*10**-4\n",
      "We2 = 1.0*10**-4\n",
      "e = 1.6*10**-19\n",
      "print\"for emitter thickness = 10*10**-4 cm\"\n",
      "gamma_1 = (((Db*nbo*math.tan(Lb/Wb))/(Lb))/(((Db*nbo*math.tan(Lb/Wb))/Lb)+((De*peo*math.tan(Le/We1))/Le)))\n",
      "print\"The emitter efficiency gamma_1 =\",\"{:.2e}\".format(gamma_1)\n",
      "print\"for emitter thickness = 10**-4 cm\"\n",
      "gamma_2 = (((Db*nbo*math.tan(Lb/Wb))/(Lb))/(((Db*nbo*math.tan(Lb/Wb))/Lb)+((De*peo*math.tan(Le/We2))/Le)))\n",
      "print\"The emitter efficiency (gamma)is,gamma_2 =\"\"{:.1e}\".format(gamma_2)\n",
      "#NOTE: In the textbook author has used approximate value for the calculation of gamma thus the above solution is differ from that of the gamma"
     ],
     "language": "python",
     "metadata": {},
     "outputs": [
      {
       "output_type": "stream",
       "stream": "stdout",
       "text": [
        "for emitter thickness = 10*10**-4 cm\n",
        "The emitter efficiency gamma_1 = 9.92e-01\n",
        "for emitter thickness = 10**-4 cm\n",
        "The emitter efficiency (gamma)is,gamma_2 =9.8e-01\n"
       ]
      }
     ],
     "prompt_number": 6
    },
    {
     "cell_type": "heading",
     "level": 2,
     "metadata": {},
     "source": [
      "Ex7.8:pg-289"
     ]
    },
    {
     "cell_type": "code",
     "collapsed": false,
     "input": [
      "Ndc = 5*10**15\n",
      "Nab = 5*10**16\n",
      "ni = sqrt(2.25*10**20)\n",
      "kbT = 0.026\n",
      "e = 1.6*10**-19\n",
      "Vbi= (kbT)*((log((Nab*Ndc)/(ni**2))))\n",
      "print\"The built in voltage is ,Vbi=\",\"{:.2e}\".format(Vbi),\"V\"\n",
      "print\"              for an applied bias of 1 V                \"\n",
      "VCB1 = 1\n",
      "apsilent_s = 11.9*8.85*10**-14\n",
      "Wb = 10**-4\n",
      "dWb1 = sqrt((2*apsilent_s*(Vbi+VCB1)*Ndc)/(e*Nab*(Nab+Ndc)))\n",
      "print\"The extent of depletion into the base side is,dWb =\",\"{:.2e}\".format(dWb1),\"cm\"\n",
      "Wbn1 = Wb-dWb1\n",
      "print\"The neutral base width is,Wbn =\",\"{:.2e}\".format(Wbn1),\"cm\"\n",
      "nbo = ((ni)**2)/Nab\n",
      "print\"The required base doping is,nbo =\",\"{:.2e}\".format(nbo),\"cm**-3\"\n",
      "Db = 20\n",
      "VBE = 0.7\n",
      "Jc1 = ((e*Db*nbo)/Wbn1)*(exp(VBE/kbT))\n",
      "print\"The collector current density is,Jc1 =\",\"{:.2e}\".format(Jc1),\"A/cm**2\"\n",
      "print\"              for an applied bias of 5 V            \"\n",
      "VCB2 = 5.0\n",
      "VCE1= VCB1+VBE\n",
      "print\"The collector emitter voltage is ,VCE=\",\"{:.2e}\".format(VCE1),\" V\"\n",
      "VCE2= VCB2+VBE\n",
      "print\"The collector emitter voltage is ,VCE=\",\"{:.2e}\".format(VCE2),\" V\"\n",
      "dWb2 = sqrt((2*apsilent_s*(Vbi+VCB2)*Ndc)/(e*Nab*(Nab+Ndc)))\n",
      "print\"The extent of depletion into the base side is,dWb =\",\"{:.2e}\".format(dWb2),\"cm\"\n",
      "Wbn2 = Wb-dWb2\n",
      "print\"The neutral base width is,Wbn =\",\"{:.2e}\".format(Wbn2),\"cm\"\n",
      "Jc2 = ((e*Db*nbo)/Wbn2)*(exp(VBE/kbT))\n",
      "print\"The collector current density is,Jc =\",\"{:.2e}\".format(Jc2),\" A/cm**2\"\n",
      "VA = (Jc1/((Jc2-Jc1)/(VCE2-VCE1)))-(VCE1)\n",
      "print\"The Early voltage is,VA =\",\"{:.2e}\".format(VA),\"V\"\n",
      "# Note : due to different precisions taken by me and the author ... my answer differ by \"0.2\" value."
     ],
     "language": "python",
     "metadata": {},
     "outputs": [
      {
       "output_type": "stream",
       "stream": "stdout",
       "text": [
        "The built in voltage is ,Vbi= 7.21e-01 V\n",
        "              for an applied bias of 1 V                \n",
        "The extent of depletion into the base side is,dWb = 6.42e-06 cm\n",
        "The neutral base width is,Wbn = 9.36e-05 cm\n",
        "The required base doping is,nbo = 4.50e+03 cm**-3\n",
        "The collector current density is,Jc1 = 7.58e+01 A/cm**2\n",
        "              for an applied bias of 5 V            \n",
        "The collector emitter voltage is ,VCE= 1.70e+00  V\n",
        "The collector emitter voltage is ,VCE= 5.70e+00  V\n",
        "The extent of depletion into the base side is,dWb = 1.17e-05 cm\n",
        "The neutral base width is,Wbn = 8.83e-05 cm\n",
        "The collector current density is,Jc = 8.03e+01  A/cm**2\n",
        "The Early voltage is,VA = 6.51e+01 V\n"
       ]
      }
     ],
     "prompt_number": 8
    },
    {
     "cell_type": "heading",
     "level": 2,
     "metadata": {},
     "source": [
      "\n",
      "Ex7.9:pg-290"
     ]
    },
    {
     "cell_type": "code",
     "collapsed": false,
     "input": [
      "Ndc = 10**16\n",
      "Nab = 5*10**16\n",
      "e = 1.6*10**-19\n",
      "apsilen = 11.9*8.85*10**-14\n",
      "Wb = .2*10**-4\n",
      "Vpt= ((e*(Wb**2)*Nab*(Ndc+Nab))/(2*apsilen*Ndc))\n",
      "print\"The punchthrough voltage is ,Vpt=\",round(Vpt,2),\"V\"\n",
      "Twb = 1.2*10**-4\n",
      "F = Vpt/Twb\n",
      "print\"The average field at punchthrough voltage is ,F =\",\"{:.2e}\".format(F),\"V/cm\"\n",
      "# Note : due to different precisions taken by me and the author ... my answer differ by \"0.16\" value."
     ],
     "language": "python",
     "metadata": {},
     "outputs": [
      {
       "output_type": "stream",
       "stream": "stdout",
       "text": [
        "The punchthrough voltage is ,Vpt= 9.12 V\n",
        "The average field at punchthrough voltage is ,F = 7.60e+04 V/cm\n"
       ]
      }
     ],
     "prompt_number": 10
    },
    {
     "cell_type": "heading",
     "level": 2,
     "metadata": {},
     "source": [
      "Ex7.10:pg-290"
     ]
    },
    {
     "cell_type": "code",
     "collapsed": false,
     "input": [
      "apsilent_s = 11.9*8.85*10**-14\n",
      "Ndc = 5.0*10**16\n",
      "Nde = 10**18\n",
      "Nab = 10**17\n",
      "ni = sqrt(2.25*10**20)\n",
      "kbT = 0.026\n",
      "e = 1.6*10**-19\n",
      "Db = 30.0\n",
      "De = 10\n",
      "Lb = 15*10**-4\n",
      "Le = 5*10**-4\n",
      "Beta= 100\n",
      "nbo = 2.25*10**3\n",
      "peo = 112.5\n",
      "VCB1 = 5.0\n",
      "#\"using relation   B = (IC/IB) = ((Db*nbo*Le)/(De*peo*Wbn))\"\n",
      "Wbn = ((Db*nbo*Le)/(De*peo*100))\n",
      "print\"neutral base width is ,Wbn =\",\"{:.2e}\".format(Wbn),\"cm\"\n",
      "Vbi= (kbT)*((log((Nab*Ndc)/(ni**2))))\n",
      "print\"The built in voltage is ,Vbi=\",\"{:.2e}\".format(Vbi),\"V\"\n",
      "dWb1 = sqrt((2*apsilent_s*(Vbi+VCB1)*Ndc)/(e*Nab*(Nab+Ndc)))\n",
      "print\"The extent of depletion into the base side is,dWb =\",\"{:.2e}\".format(dWb1),\"cm\"\n",
      "Wb = Wbn+dWb1\n",
      "print\"The  base width is,Wb = Wbn+dWb1= \",\"{:.2e}\".format(Wb),\"cm\"\n",
      "\n",
      "# NOTE: the value calculated for Wbn is wrong in the book and all the succesive answer also depeandant on that are also wrong\n",
      "\n",
      "#(\"Two disadvange are\")\n",
      "#(\"The output conductance will suffer and the collector current will have a stronger dependence on VCB\")\n",
      "#(\"The device may suffer punchthrough at a lower bias\")\n",
      "#(\"Two advantages\")\n",
      "#(\"The current gain will be higher\")\n",
      "#(\"The device speed will be faster\")"
     ],
     "language": "python",
     "metadata": {},
     "outputs": [
      {
       "output_type": "stream",
       "stream": "stdout",
       "text": [
        "neutral base width is ,Wbn = 3.00e-04 cm\n",
        "The built in voltage is ,Vbi= 7.99e-01 V\n",
        "The extent of depletion into the base side is,dWb = 1.60e-05 cm\n",
        "The  base width is,Wb = Wbn+dWb1=  3.16e-04 cm\n"
       ]
      }
     ],
     "prompt_number": 1
    },
    {
     "cell_type": "heading",
     "level": 2,
     "metadata": {},
     "source": [
      "\n",
      "Ex7.11:pg-291"
     ]
    },
    {
     "cell_type": "code",
     "collapsed": false,
     "input": [
      "Ndc = 10**16\n",
      "Nab = 10**17\n",
      "Nde = 10**18\n",
      "ni = 1.5*10**10\n",
      "kbT = 0.026\n",
      "e = 1.6*10**-19\n",
      "Db = 30.0\n",
      "De = 10.0\n",
      "Lb = 10*10**-4\n",
      "Le = 10*10**-4\n",
      "Wb = 10**-4\n",
      "We = 10**-4\n",
      "Vbi= (kbT)*((log((Nab*Ndc)/ni**2)))\n",
      "print\"The built in voltage is ,Vbi= (kbT)*((log((Na*Nd)/Ni**2)))= \",\"{:.2e}\".format(Vbi),\"V\"\n",
      "print\"              for an applied reverse bias of 5 V                \"\n",
      "VCB1 = 5.0\n",
      "apsilen = 11.9*8.85*10**-14\n",
      "nbo = 2.25*10**3\n",
      "peo = 112.5\n",
      "dWb1 = sqrt((2*apsilen*(Vbi+VCB1)*Ndc)/(e*Nab*(Nab+Ndc)))\n",
      "print\"The extent of depletion into the base side is,dWb =\",\"{:.2e}\".format(dWb1),\"cm\"\n",
      "Wbn1 = Wb-dWb1\n",
      "print\"The neutral base width is,Wbn = Wb-dWb1= \",\"{:.2e}\".format(Wbn1),\"cm\"\n",
      "gamma_e_1 = (1-((peo*De*Wbn1)/(Db*nbo*We)))\n",
      "print\"The emitter efficiency gamma_e_1 =\",\"{:.2e}\".format(gamma_e_1)\n",
      "B1 = 1-((Wbn1**2)/(2*(Lb)**2))\n",
      "print\"The base transport factor is,B =\"\"{:.2e}\".format(B1)\n",
      "alpha1 = gamma_e_1*B1\n",
      "print\"The  current gain alpha1 =\"\"{:.2e}\".format(alpha1)\n",
      "Beta3 = (alpha1)/(1-alpha1)\n",
      "print\"The current gain Beta3 =\"\"{:.2e}\".format(Beta3)\n",
      "VBE = 1.0\n",
      "A= 4.0*10**-6\n",
      "IC = (((e*A*Db*nbo)/(Wbn1))*(exp((VBE)/(kbT))-1))\n",
      "print\"The collector current is,IC =\",\"{:.2e}\".format(IC),\"A\"\n",
      "#Note: in text book the author hasused precision value for gamma and alpha thats why there is difference in the value of beta.\n",
      "print\"              for an applied reverse bias of 6 V                \"\n",
      "VCB2 = 6.0\n",
      "dWb2 = sqrt((2*apsilen*(Vbi+VCB2)*Ndc)/(e*Nab*(Nab+Ndc)))\n",
      "print\"The extent of depletion into the base side is,dWb2 =\",\"{:.2e}\".format(dWb2),\"cm\"\n",
      "Wbn2 = Wb-dWb2\n",
      "print\"The neutral base width is,Wbn2 =\",\"{:.2e}\".format(Wbn2),\"cm\"\n",
      "IC2 = (((e*A*Db*nbo)/(Wbn2))*(exp((VBE)/(kbT))-1))\n",
      "print\"The collector current is,IC =\",\"{:.2e}\".format(IC2),\"A\"\n",
      "go = (IC2-IC)/(VCB2-VCB1)\n",
      "print\"The output conductance is,go =\",\"{:.2e}\".format(go),\"ohm**-1\"\n"
     ],
     "language": "python",
     "metadata": {},
     "outputs": [
      {
       "output_type": "stream",
       "stream": "stdout",
       "text": [
        "The built in voltage is ,Vbi= (kbT)*((log((Na*Nd)/Ni**2)))=  7.57e-01 V\n",
        "              for an applied reverse bias of 5 V                \n",
        "The extent of depletion into the base side is,dWb = 8.30e-06 cm\n",
        "The neutral base width is,Wbn = Wb-dWb1=  9.17e-05 cm\n",
        "The emitter efficiency gamma_e_1 = 9.85e-01\n",
        "The base transport factor is,B =9.96e-01\n",
        "The  current gain alpha1 =9.81e-01\n",
        "The current gain Beta3 =5.05e+01\n",
        "The collector current is,IC = 2.38e+01 A\n",
        "              for an applied reverse bias of 6 V                \n",
        "The extent of depletion into the base side is,dWb2 = 8.99e-06 cm\n",
        "The neutral base width is,Wbn2 = 9.10e-05 cm\n",
        "The collector current is,IC = 2.40e+01 A\n",
        "The output conductance is,go = 1.81e-01 ohm**-1\n"
       ]
      }
     ],
     "prompt_number": 7
    },
    {
     "cell_type": "heading",
     "level": 2,
     "metadata": {},
     "source": [
      "Ex7.12:pg-310"
     ]
    },
    {
     "cell_type": "code",
     "collapsed": false,
     "input": [
      "kbT = 0.026\n",
      "Wb = 0.4*10**-4\n",
      "e = 1.6*10**-19\n",
      "IE = 1.5*10**-3\n",
      "Db = 60.0\n",
      "Wdc = 2*10**-4\n",
      "Cje = 2*10**-12\n",
      "rC = 30.0\n",
      "TcC = .4*10**-12\n",
      "#NOTE:Total collector capicitance represented in book as(Cu+Cs)\n",
      "vs = 10**7\n",
      "re = kbT/IE\n",
      "Te = re*Cje\n",
      "Tt = (Wb**2)/(2*Db)\n",
      "Td = (Wdc)/vs\n",
      "Tc = rC*Tc\n",
      "Tec = Te+Tt+Td+Tc\n",
      "print\"The total time is,Tec =\",\"{:.2e}\".format(Tec),\"s\"\n",
      "fT = 1/(2*math.pi*Tec)\n",
      "print\"fT=\",\"{:.2e}\".format(fT),\"HZ\"\n",
      "print\"if the emitter current is doubled the time is reduced by half and cutoff frequency becomes 2.54 GHz\"\n",
      "print\"if the base width is reduced by half , the base transit time becomes 3.3 ps and cutoff frequency becomes 2.08 GHz\""
     ],
     "language": "python",
     "metadata": {},
     "outputs": [
      {
       "output_type": "stream",
       "stream": "stdout",
       "text": [
        "Te= 3.47e-11 S\n",
        "TC= 3.60e-10 S\n",
        "The total time is,Tec = 4.28e-10 s\n",
        "fT= 3.72e+08 HZ\n",
        "if the emitter current is doubled the time is reduced by half and cutoff frequency becomes 2.54 GHz\n",
        "if the base width is reduced by half , the base transit time becomes 3.3 ps and cutoff frequency becomes 2.08 GHz\n"
       ]
      }
     ],
     "prompt_number": 11
    },
    {
     "cell_type": "heading",
     "level": 2,
     "metadata": {},
     "source": [
      "Ex7.13:pg-319"
     ]
    },
    {
     "cell_type": "code",
     "collapsed": false,
     "input": [
      "T = 300.0\n",
      "Nd1 = 10**18\n",
      "Nd2 = 10**20\n",
      "dEg1 = (22.5*sqrt((Nd1*300)/((10**18)*T)))/10**3\n",
      "print\"The bandgap narrowing is,dEg = \",\"{:.2e}\".format(dEg1),\"ev\"\n",
      "dEg2= (22.5*sqrt((Nd2*300)/((10**18)*T)))/10**3\n",
      "print\"The bandgap narrowing is,dEg =\",\"{:.2e}\".format(dEg2),\"ev\"\n",
      "kbT =0.026\n",
      "neo1 = 10**18\n",
      "neo2 = 10**20\n",
      "ni = sqrt(2.25*10**20)\n",
      "peo1 = (ni**2*exp(dEg1/kbT))/neo1\n",
      "print\"The hole density in emitter is,peo =\",\"{:.2e}\".format(peo1),\"cm**-3\"\n",
      "# note:-there is error in the unit of peo in the book\n",
      "peo2 = (ni**2*exp(dEg2/kbT))/neo2\n",
      "print\"The hole density in emitter is,peo2 =\",\"{:.2e}\".format(peo2),\"cm**-3\"\n",
      "# Note : due to different precisions taken by me and the author ... my answer differ "
     ],
     "language": "python",
     "metadata": {},
     "outputs": [
      {
       "output_type": "stream",
       "stream": "stdout",
       "text": [
        "The bandgap narrowing is,dEg =  2.25e-02 ev\n",
        "The bandgap narrowing is,dEg = 2.25e-01 ev\n",
        "The hole density in emitter is,peo = 5.35e+02 cm**-3\n",
        "The hole density in emitter is,peo2 ="
       ]
      },
      {
       "output_type": "stream",
       "stream": "stdout",
       "text": [
        " 1.29e+04 cm**-3\n"
       ]
      }
     ],
     "prompt_number": 12
    },
    {
     "cell_type": "heading",
     "level": 2,
     "metadata": {},
     "source": [
      "Ex7.14:pg-319"
     ]
    },
    {
     "cell_type": "code",
     "collapsed": false,
     "input": [
      "ni = 2.2*10**6\n",
      "Nde = 5*10**17\n",
      "Nab = 10**17\n",
      "kbT = 0.026\n",
      "Wb = 0.5*10**-4\n",
      "Db = 100.0\n",
      "De = 15.0\n",
      "Le = 1.5*10**-4\n",
      "dEg = 0.36\n",
      "print(\"        For GaAs          \")\n",
      "peo1 = ni**2/Nde\n",
      "print\"The  minority carrier densities for the emitter in npn GaAs BJT is,peo(GaAs) =\",\"{:.1e}\".format(peo1),\"cm**-3\"\n",
      "nbo1 = ni**2/Nab\n",
      "print\"The  minority carrier densities for the base in npn GaAs BJT is,nbo = \",\"{:.2e}\".format(nbo1),\"cm**-3\"\n",
      "Ve1 = (1-((peo1*De*Wb)/(Db*nbo1*Le)))\n",
      "print\"The emitter efficiency (gamma)is,Ve =\",\"{:.2e}\".format(Ve1)\n",
      "gammae=1-((peo1*De*Wb)/(nbo1*Db*Le))\n",
      "print\"gammae=\",round(gammae,2)\n",
      "print(\"        For HBT          \")\n",
      "peo2 = (peo1)*(exp(-(dEg/kbT)))\n",
      "print\"The  minority carrier densities for the emitter in HBT is,peo(HBT) =\",\"{:.1e}\".format(peo2),\"cm**-3\"\n",
      "print\"in this case the emitter efficiency is essentially unity\"\n"
     ],
     "language": "python",
     "metadata": {},
     "outputs": [
      {
       "output_type": "stream",
       "stream": "stdout",
       "text": [
        "        For GaAs          \n",
        "The  minority carrier densities for the emitter in npn GaAs BJT is,peo(GaAs) = 9.7e-06 cm**-3\n",
        "The  minority carrier densities for the base in npn GaAs BJT is,nbo =  4.84e-05 cm**-3\n",
        "The emitter efficiency (gamma)is,Ve = 9.90e-01\n",
        "gammae= 0.99\n",
        "        For HBT          \n",
        "The  minority carrier densities for the emitter in HBT is,peo(HBT) = 9.4e-12 cm**-3\n",
        "in this case the emitter efficiency is essentially unity\n"
       ]
      }
     ],
     "prompt_number": 4
    }
   ],
   "metadata": {}
  }
 ]
}