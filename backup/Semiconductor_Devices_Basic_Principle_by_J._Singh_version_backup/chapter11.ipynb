{
 "metadata": {
  "name": "",
  "signature": "sha256:24412b81a5c65650b2787cc4857a74b974a33461556f46a12dcfe8e6b4e63b68"
 },
 "nbformat": 3,
 "nbformat_minor": 0,
 "worksheets": [
  {
   "cells": [
    {
     "cell_type": "heading",
     "level": 1,
     "metadata": {},
     "source": [
      "\n",
      "Chapter11:SEMICONDUCTOR OPTOELECTRONICS"
     ]
    },
    {
     "cell_type": "heading",
     "level": 2,
     "metadata": {},
     "source": [
      "\n",
      "Ex11.1:pg-462"
     ]
    },
    {
     "cell_type": "code",
     "collapsed": false,
     "input": [
      "hw=1.7\n",
      "Eg = 1.43\n",
      "alpha= 4.21*10**4*((hw-Eg)/(hw))\n",
      "print\"The absorption coefficient(alpha) for GaAs is ,alpha=\",\"{:.1e}\".format(alpha),\"cm**-1\""
     ],
     "language": "python",
     "metadata": {},
     "outputs": [
      {
       "output_type": "stream",
       "stream": "stdout",
       "text": [
        "The absorption coefficient(alpha) for GaAs is ,alpha= 6.7e+03 cm**-1\n"
       ]
      }
     ],
     "prompt_number": 2
    },
    {
     "cell_type": "heading",
     "level": 2,
     "metadata": {},
     "source": [
      "\n",
      "Ex11.2:pg-462"
     ]
    },
    {
     "cell_type": "code",
     "collapsed": false,
     "input": [
      "hw=1.43\n",
      "alpha = 2.5*10**4\n",
      "amt = 0.9\n",
      "L= -(1/alpha)*log(1-amt)\n",
      "print\"The length of the material  is ,L=\",\"{:.2e}\".format(L),\"cm\""
     ],
     "language": "python",
     "metadata": {},
     "outputs": [
      {
       "output_type": "stream",
       "stream": "stdout",
       "text": [
        "The length of the material  is ,L= 9.21e-05 cm\n"
       ]
      }
     ],
     "prompt_number": 3
    },
    {
     "cell_type": "heading",
     "level": 2,
     "metadata": {},
     "source": [
      "\n",
      "Ex11.3:pg-463"
     ]
    },
    {
     "cell_type": "code",
     "collapsed": false,
     "input": [
      "Pop = 10.0\n",
      "hw=1.65\n",
      "alpha = 7*10**3\n",
      "T = 10**-9\n",
      "GL = (alpha*Pop)/(hw*1.6*10**-19)\n",
      "print\"The rate of e-h pair production is ,GL =\",\"{:.2e}\".format(GL),\"cm**-3s**-1\"\n",
      "dn = (GL*T)\n",
      "print\"The excess carrier density is ,dn =\",\"{:.2e}\".format(dn),\"cm**-3\""
     ],
     "language": "python",
     "metadata": {},
     "outputs": [
      {
       "output_type": "stream",
       "stream": "stdout",
       "text": [
        "The rate of e-h pair production is ,GL = 2.65e+23 cm**-3s**-1\n",
        "The excess carrier density is ,dn = 2.65e+14 cm**-3\n"
       ]
      }
     ],
     "prompt_number": 4
    },
    {
     "cell_type": "heading",
     "level": 2,
     "metadata": {},
     "source": [
      "Ex11.4:pg-468"
     ]
    },
    {
     "cell_type": "code",
     "collapsed": false,
     "input": [
      "A= 10**4*10**-8\n",
      "Na=2*10**16\n",
      "Nd=10**16\n",
      "Dn = 20\n",
      "Dp = 12\n",
      "Tn = 10**-8\n",
      "Tp = 10**-8\n",
      "GL = 10**22\n",
      "kbT = 0.026\n",
      "Es = 11.9*8.85*10**-14\n",
      "e = 1.6*10**-19\n",
      "VR = 2.0\n",
      "ni = 1.5*10**10\n",
      "Ln = sqrt(Dn*Tn)\n",
      "print\"The electron diffusion length is ,Ln =\",\"{:.1e}\".format(Ln),\"cm\"\n",
      "Lp = sqrt(Dp*Tp)\n",
      "print\"The hole diffusion length is ,Lp =\",\"{:.2e}\".format(Lp),\"cm\"\n",
      "Vbi = kbT*log((Na*Nd)/(ni)**2)\n",
      "print\"The built in voltage is ,Vbi =\",\"{:.2e}\".format(Vbi),\"V\"\n",
      "W = sqrt((2*Es*(Na+Nd)*(Vbi+VR))/(e*Na*Nd))\n",
      "print\"The depletion width is ,W =\",\"{:.2e}\".format(W),\"cm\"\n",
      "IL= (e*A*GL*(W+Ln+Lp))\n",
      "print\"The photocurrent is ,IL=\",\"{:.2e}\".format(IL),\"A\""
     ],
     "language": "python",
     "metadata": {},
     "outputs": [
      {
       "output_type": "stream",
       "stream": "stdout",
       "text": [
        "The electron diffusion length is ,Ln = 4.5e-04 cm\n",
        "The hole diffusion length is ,Lp = 3.46e-04 cm\n",
        "The built in voltage is ,Vbi = 7.15e-01 V\n",
        "The depletion width is ,W = 7.32e-05 cm\n",
        "The photocurrent is ,IL= 1.39e-04 A\n"
       ]
      }
     ],
     "prompt_number": 2
    },
    {
     "cell_type": "heading",
     "level": 2,
     "metadata": {},
     "source": [
      "\n",
      "Ex11.5:pg-469"
     ]
    },
    {
     "cell_type": "code",
     "collapsed": false,
     "input": [
      "A= 1.0\n",
      "Na=5*10**17\n",
      "Nd=10**16\n",
      "Dn = 20.0\n",
      "Dp = 10.0\n",
      "Tn = 3*10**-7\n",
      "Tp = 10**-7\n",
      "kbT = 0.026\n",
      "IL = 25*10**-3\n",
      "e = 1.6*10**-19\n",
      "ni = 1.5*10**10\n",
      "Ln = sqrt(Dn*Tn)\n",
      "print\"The electron diffusion length is ,Ln =\",\"{:.2e}\".format(Ln),\"cm\"\n",
      "Lp = sqrt(Dp*Tp)\n",
      "print\"The hole diffusion length is ,Lp =\",\"{:.2e}\".format(Lp),\"cm\"\n",
      "Io = A*e*(ni)**2*((Dn/(Ln*Na))+(Dp/(Lp*Nd)))\n",
      "print\"The saturation current is ,Io =\",\"{:.2e}\".format(Io),\"A\"\n",
      "Voc= (kbT)*log(1+(IL/Io))\n",
      "print\"The open circuit voltage is ,Voc=\",\"{:.1e}\".format(Voc),\"V\""
     ],
     "language": "python",
     "metadata": {},
     "outputs": [
      {
       "output_type": "stream",
       "stream": "stdout",
       "text": [
        "The electron diffusion length is ,Ln = 2.45e-03 cm\n",
        "The hole diffusion length is ,Lp = 1.00e-03 cm\n",
        "The saturation current is ,Io = 3.66e-11 A\n",
        "The open circuit voltage is ,Voc= 5.3e-01 V\n"
       ]
      }
     ],
     "prompt_number": 4
    },
    {
     "cell_type": "heading",
     "level": 2,
     "metadata": {},
     "source": [
      "\n",
      "Ex11.6:pg-469"
     ]
    },
    {
     "cell_type": "code",
     "collapsed": false,
     "input": [
      "A= 1.0\n",
      "Na=5*10**17\n",
      "Nd=10**16\n",
      "Dn = 20.0\n",
      "Dp = 10.0\n",
      "Tn = 3*10**-7\n",
      "Tp = 10**-7\n",
      "kbT = 0.026\n",
      "IL = 25*10**-3\n",
      "e = 1.6*10**-19\n",
      "ni = 1.5*10**10\n",
      "Io = 3.66*10**-11\n",
      "Voc= (kbT)*log(1+(IL/Io))\n",
      "print\"The open circuit voltage is ,Voc=\",\"{:.2e}\".format(Voc),\"V\"\n",
      "P = 0.8*IL*Voc \n",
      "print\"The power per solar cell is ,P=\",\"{:.2e}\".format(P),\"W\"\n",
      "# Note: Answer given in the book is incorrect it is 10.6 mW not 1.06 mW\n",
      "N_series = 10/(0.9*Voc)\n",
      "print\"The number of solar cell needed to produce output power 10V is ,N_series =\",round(N_series,2)\n",
      "N_parallel = 10/(0.9*IL*10)\n",
      "print\"The number of solar cell needed to produce output power 10W is ,N_parallel =\",round(N_parallel,2)\n",
      "# Note : due to different precisions taken by me and the author ... my answer differ "
     ],
     "language": "python",
     "metadata": {},
     "outputs": [
      {
       "output_type": "stream",
       "stream": "stdout",
       "text": [
        "The open circuit voltage is ,Voc= 5.29e-01 V\n",
        "The power per solar cell is ,P= 1.06e-02 W\n",
        "The number of solar cell needed to produce output power 10V is ,N_series = 21.01\n",
        "The number of solar cell needed to produce output power 10W is ,N_parallel = 44.44\n"
       ]
      }
     ],
     "prompt_number": 6
    },
    {
     "cell_type": "heading",
     "level": 2,
     "metadata": {},
     "source": [
      "\n",
      "Ex11.7:pg-471"
     ]
    },
    {
     "cell_type": "code",
     "collapsed": false,
     "input": [
      "Pop = 1.0\n",
      "hw=1.43\n",
      "a = 700.0\n",
      "W = 10**-3\n",
      "e = 1.6*10**-19\n",
      "Phi_o =(Pop)/(hw*1.6*10**-19)\n",
      "print\"The photon flux incident on the detector Phi_o =\",\"{:.2e}\".format(Phi_o),\"cm**-2s**-1\"\n",
      "JL=e*Phi_o*(1-exp(-(a*W)))\n",
      "print\"The photocurrent density is ,JL=\",\"{:.2e}\".format(JL),\"A/cm**2\""
     ],
     "language": "python",
     "metadata": {},
     "outputs": [
      {
       "output_type": "stream",
       "stream": "stdout",
       "text": [
        " The photon flux incident on the detector Phi_o = 4.37e+18 cm**-2s**-1\n",
        "The photocurrent density is ,JL= 3.52e-01 A/cm**2\n"
       ]
      }
     ],
     "prompt_number": 9
    },
    {
     "cell_type": "heading",
     "level": 2,
     "metadata": {},
     "source": [
      "Ex11.8:pg-479"
     ]
    },
    {
     "cell_type": "code",
     "collapsed": false,
     "input": [
      "import math\n",
      "h=1.05*10**-34\n",
      "mo = 9.1*10**-31\n",
      "me = 0.067*9.1*10**-31\n",
      "kbT = 0.026\n",
      "mh = 0.45*9.1*10**-31\n",
      "To = 0.6*10**-9\n",
      "p = 1.0*10**21\n",
      "T = (p/(2.0*To))*((2.0*(math.pi)*h**2)/(kbT*1.6*10**-19*(me+mh)))**(3.0/2.0)\n",
      "print\"T =\",\"{:.2e}\".format(T),\"s**-1\"\n",
      "Tr = 1.0/T\n",
      "print\"The e-h recombination time is Tr =\"\"{:.2e}\".format(Tr),\"s\"\n"
     ],
     "language": "python",
     "metadata": {},
     "outputs": [
      {
       "output_type": "stream",
       "stream": "stdout",
       "text": [
        "T = 1.75e+05 s**-1\n",
        "The e-h recombination time is Tr =5.70e-06 s\n"
       ]
      }
     ],
     "prompt_number": 18
    },
    {
     "cell_type": "heading",
     "level": 2,
     "metadata": {},
     "source": [
      "\n",
      "Ex11.9:pg-480"
     ]
    },
    {
     "cell_type": "code",
     "collapsed": false,
     "input": [
      "h=1.05*10**-34\n",
      "mo = 9.1*10**-31\n",
      "me = 0.067*9.1*10**-31\n",
      "kbT = 0.026\n",
      "mh = 0.45*9.1*10**-31\n",
      "To = .6*10**-9\n",
      "tnr = 10**-7\n",
      "p = 10**21\n",
      "mr = 1.0/((1.0/me)+(1.0/mh))\n",
      "print\"The reduced mass for the e-h system is mr* =\",\"{:.2e}\".format(mr),\"kg\"\n",
      "print\"           For low p-doping such as 10**16, the recombination time is given as below\"\n",
      "T1 = (p/(2.0*To))*((2.0*(math.pi)*h**2)/(kbT*1.6*10**-19*(me+mh)))**(3.0/2.0)\n",
      "print\"T =\",\"{:.2e}\".format(T),\"s**-1\"\n",
      "Tr1 = 1.0/T1\n",
      "print\"The e-h recombination time is Tr1 =\",\"{:.2e}\".format(Tr1),\"s\"\n",
      "nQr1 = 1.0/(1+(Tr1/tnr))\n",
      "print\"The internal quantum efficiency  is nQr1 =\"\"{:.2e}\".format(nQr1)\n",
      "print\"         For high p-doping such as 5*10**17, the recombination time is given as below\"\n",
      "T2 = (1.0/To)*((mr/mh)**(3.0/2.0))\n",
      "print\"T2 =\",\"{:.2e}\".format(T2),\"s**-1\"\n",
      "Tr2 = 1.0/T2\n",
      "print\"The e-h recombination time is Tr2 =\",\"{:.2e}\".format(Tr2),\"s\"\n",
      "nQr2 = 1.0/(1+(Tr2/tnr))\n",
      "print\"The internal quantum efficiency  is nQr2 =\"\"{:.2e}\".format(nQr2)\n",
      "# Note : due to different precisions taken by me and the author ... my answer differ \n"
     ],
     "language": "python",
     "metadata": {},
     "outputs": [
      {
       "output_type": "stream",
       "stream": "stdout",
       "text": [
        "The reduced mass for the e-h system is mr* = 5.31e-32 kg\n",
        "           For low p-doping such as 10**16, the recombination time is given as below\n",
        "T = 1.75e+05 s**-1\n",
        "The e-h recombination time is Tr1 = 5.70e-06 s\n",
        "The internal quantum efficiency  is nQr1 =1.72e-02\n",
        "         For high p-doping such as 5*10**17, the recombination time is given as below\n",
        "T2 = 7.78e+07 s**-1\n",
        "The e-h recombination time is Tr2 = 1.29e-08 s\n",
        "The internal quantum efficiency  is nQr2 =8.86e-01\n"
       ]
      }
     ],
     "prompt_number": 19
    },
    {
     "cell_type": "heading",
     "level": 2,
     "metadata": {},
     "source": [
      "\n",
      "Ex11.10:pg-480"
     ]
    },
    {
     "cell_type": "code",
     "collapsed": false,
     "input": [
      "Na=5*10**16\n",
      "Nd=5*10**17\n",
      "Dn = 30.0\n",
      "Dp = 15.0\n",
      "Tn = 10**-8\n",
      "Tp = 10**-7\n",
      "e = 1.6*10**-19\n",
      "ni = 1.84*10**6\n",
      "kbT = 0.026\n",
      "V = 1.0\n",
      "nQr=0.5\n",
      "np = ni**2/Na\n",
      "pn = ni**2/Nd\n",
      "Ln = sqrt(Dn*Tn)\n",
      "print\"The electron diffusion length is ,Ln =\",\"{:.3e}\".format(Ln),\"cm\"\n",
      "Lp = sqrt(Dp*Tp)\n",
      "print\"The hole diffusion length is ,Lp =\",\"{:.2e}\".format(Lp),\"cm\"\n",
      "Yinj = ((e*Dn*np)/Ln)/(((e*Dn*np)/Ln)+((e*Dp*pn)/Lp))\n",
      "print\"The injection efficiency is ,Yinj =\"\"{:.1e}\".format(Yinj)"
     ],
     "language": "python",
     "metadata": {},
     "outputs": [
      {
       "output_type": "stream",
       "stream": "stdout",
       "text": [
        "The electron diffusion length is ,Ln = 5.477e-04 cm\n",
        "The hole diffusion length is ,Lp = 1.22e-03 cm\n",
        "The injection efficiency is ,Yinj =9.8e-01\n"
       ]
      }
     ],
     "prompt_number": 23
    },
    {
     "cell_type": "heading",
     "level": 2,
     "metadata": {},
     "source": [
      "\n",
      "Ex11.11:pg-481"
     ]
    },
    {
     "cell_type": "code",
     "collapsed": false,
     "input": [
      "A= 10**-2\n",
      "Na=5*10**16\n",
      "Nd=5*10**17\n",
      "Dn = 30.0\n",
      "Dp = 15.0\n",
      "Tn = 10**-8\n",
      "Tp = 10**-7\n",
      "e = 1.6*10**-19\n",
      "ni = 1.84*10**6\n",
      "kbT = 0.026\n",
      "V = 1.0\n",
      "nQr=0.5\n",
      "Eph = 1.41\n",
      "np = ni**2/Na\n",
      "pn = ni**2/Nd\n",
      "Ln = sqrt(Dn*Tn)\n",
      "print\"The electron diffusion length is ,Ln =\",\"{:.2e}\".format(Ln),\"cm\"\n",
      "Lp = sqrt(Dp*Tp)\n",
      "print\"The hole diffusion length is ,Lp =\",\"{:.2e}\".format(Lp),\"cm\"\n",
      "In = ((A*e*Dn*np)/Ln)*(exp(V/kbT)-1)\n",
      "print\"The injected current is ,In =\",\"{:.2e}\".format(In),\"A\"\n",
      "Iph = (In*nQr)/e\n",
      "print\"The photon generated per second is ,Iph =\",\"{:.2e}\".format(Iph),\"s**-1\"\n",
      "P = Iph*e*Eph\n",
      "print\"The optical power is ,P =\",\"{:.2e}\".format(P),\"W\""
     ],
     "language": "python",
     "metadata": {},
     "outputs": [
      {
       "output_type": "stream",
       "stream": "stdout",
       "text": [
        "The electron diffusion length is ,Ln = 5.48e-04 cm\n",
        "The hole diffusion length is ,Lp = 1.22e-03 cm\n",
        "The injected current is ,In = 3.00e-04 A\n",
        "The photon generated per second is ,Iph = 9.37e+14 s**-1\n",
        "The optical power is ,P = 2.11e-04 W\n"
       ]
      }
     ],
     "prompt_number": 24
    },
    {
     "cell_type": "heading",
     "level": 2,
     "metadata": {},
     "source": [
      "\n",
      "Ex11.12:pg-489"
     ]
    },
    {
     "cell_type": "code",
     "collapsed": false,
     "input": [
      "R =.33\n",
      "alpha_R = 20\n",
      "L= (-1.0/alpha_R)*log(R)\n",
      "print\"The length of the cavity is ,L=\",\"{:.2e}\".format(L),\"cm\""
     ],
     "language": "python",
     "metadata": {},
     "outputs": [
      {
       "output_type": "stream",
       "stream": "stdout",
       "text": [
        " The length of the cavity is ,L= 5.54e-02 cm\n"
       ]
      }
     ],
     "prompt_number": 26
    },
    {
     "cell_type": "heading",
     "level": 2,
     "metadata": {},
     "source": [
      "\n",
      "Ex11.14:pg-494"
     ]
    },
    {
     "cell_type": "code",
     "collapsed": false,
     "input": [
      "n = 1.1*10**18\n",
      "nth=1.32*10**18\n",
      "e = 1.6*10**-19\n",
      "d = 2*10**-4\n",
      "Tr = 2.4*10**-9\n",
      "Jth = (e*nth*d)/Tr\n",
      "print\"The current density is Jth =\",\"{:.2e}\".format(Jth),\"A/cm**2\""
     ],
     "language": "python",
     "metadata": {},
     "outputs": [
      {
       "output_type": "stream",
       "stream": "stdout",
       "text": [
        "The current density is Jth = 1.76e+04 A/cm**2\n"
       ]
      }
     ],
     "prompt_number": 27
    }
   ],
   "metadata": {}
  }
 ]
}