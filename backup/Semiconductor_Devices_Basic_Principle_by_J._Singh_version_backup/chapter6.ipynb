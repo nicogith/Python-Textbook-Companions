{
 "metadata": {
  "name": "",
  "signature": "sha256:04a6842d7b11c3362cf74422ffc19db29b3f2ea1cd75fe882bcb992815e56505"
 },
 "nbformat": 3,
 "nbformat_minor": 0,
 "worksheets": [
  {
   "cells": [
    {
     "cell_type": "heading",
     "level": 1,
     "metadata": {},
     "source": [
      "\n",
      "Chapter6:SEMICONDUCTOR JUNCTIONS WITH METALS AND INSULATORS"
     ]
    },
    {
     "cell_type": "heading",
     "level": 2,
     "metadata": {},
     "source": [
      "Ex6.1:pg-226"
     ]
    },
    {
     "cell_type": "code",
     "collapsed": false,
     "input": [
      "e = 1.6*10**-19\n",
      "n = 10**22\n",
      "rho = 2.7*10**(-6)\n",
      "print\"using following terms   J = Current density ; s(sigma) = 1/rho = conductivity ; F = Electric field \"\n",
      "print\"Using relations  J = s*F = n*e*v = n*e*u*F ; we get\"\n",
      "mu_ = 1.0/(n*e*rho)\n",
      "print\"The mobility of electrons in aluminium is ,mu_ =\",\"{:.2e}\".format(mu_),\"cm**2(Vs)**-1\"\n",
      "#The answer given in the book is 240.4 cm**2/Vs which is wrong\n"
     ],
     "language": "python",
     "metadata": {},
     "outputs": [
      {
       "output_type": "stream",
       "stream": "stdout",
       "text": [
        "using following terms   J = Current density ; s(sigma) = 1/rho = conductivity ; F = Electric field \n",
        "Using relations  J = s*F = n*e*v = n*e*u*F ; we get\n",
        "The mobility of electrons in aluminium is ,mu_ = 2.31e+02 cm**2(Vs)**-1\n"
       ]
      }
     ],
     "prompt_number": 3
    },
    {
     "cell_type": "heading",
     "level": 2,
     "metadata": {},
     "source": [
      "\n",
      "Ex6.2:pg-232"
     ]
    },
    {
     "cell_type": "code",
     "collapsed": false,
     "input": [
      "e = 1.6*10**-19\n",
      "apsilen = 11.9*8.85*10**-12\n",
      "A= 7.85*10**-9\n",
      "S= 3*10**24\n",
      "Nd = (2/(S*e*apsilen*(A**2)))\n",
      "print\"The doping density in silicon is ,Nd =\",\"{:.2e}\".format(Nd),\"m**-3\""
     ],
     "language": "python",
     "metadata": {},
     "outputs": [
      {
       "output_type": "stream",
       "stream": "stdout",
       "text": [
        "The doping density in silicon is ,Nd = 6.42e+20 m**-3\n"
       ]
      }
     ],
     "prompt_number": 1
    },
    {
     "cell_type": "heading",
     "level": 2,
     "metadata": {},
     "source": [
      "Ex6.3:pg-236"
     ]
    },
    {
     "cell_type": "code",
     "collapsed": false,
     "input": [
      "Nd = 10**16\n",
      "Nc = 2.8*10**19\n",
      "kBT=0.026\n",
      "Vf=0.3\n",
      "e = 1.6*10**-19\n",
      "A= 10**-3\n",
      "print\"        for W-n type Si schottky barrier          \"\n",
      "T = 300\n",
      "phi_b = 0.67\n",
      "print\"schottky barrier heights(in volts) =\",\"{:.2e}\".format(phi_b),\"eV\"\n",
      "R = 110\n",
      "Is = A*R*(T**2)*(exp(-(phi_b)/(kBT)))\n",
      "print\"The reverse saturation current is ,Is =\",\"{:.2e}\".format(Is),\"A\"\n",
      "print\"using relation I= Is*(exp((e*V)/(nkBT))-1) and neglecting 1\"\n",
      "I = Is*(exp((Vf)/(kBT)))\n",
      "print\"I=\",\"{:.1e}\".format(I),\"A\"\n",
      "print\"        for Si p+ -n junction diode          \"\n",
      "Na = 10**19\n",
      "Db = 10.5\n",
      "Tb = 10**-6\n",
      "Lb = sqrt(Db*Tb)\n",
      "print\"The electron carrier diffusion length is,Lb =\",\"{:.2e}\".format(Lb),\"cm\"\n",
      "pn = 2.2*10**4\n",
      "Io = A*e*pn*(Db/Lb)\n",
      "print\"The saturation current current is Io =\",\"{:.1e}\".format(Io),\"A\"\n",
      "I1 = Io*(exp((Vf)/(kBT)))\n",
      "print\"The diode current for HBT is ,I =\",\"{:.1e}\".format(I1),\"A\"\n",
      "print\"Since diode current for HBT is almost 6 orders of magnitude smaller than the value in the Schottky diode \"\n",
      "print\"hence for the p-n diode to have the same current that the schottky dode has at .3 V , the voltage required is .71V\"\n"
     ],
     "language": "python",
     "metadata": {},
     "outputs": [
      {
       "output_type": "stream",
       "stream": "stdout",
       "text": [
        "        for W-n type Si schottky barrier          \n",
        "schottky barrier heights(in volts) = 6.70e-01 eV\n",
        "The reverse saturation current is ,Is = 6.37e-08 A\n",
        "using relation I= Is*(exp((e*V)/(nkBT))-1) and neglecting 1\n",
        "I= 6.5e-03 A\n",
        "        for Si p+ -n junction diode          \n",
        "The electron carrier diffusion length is,Lb = 3.24e-03 cm\n",
        "The saturation current current is Io = 1.1e-14 A\n",
        "The diode current for HBT is ,I = 1.2e-09 A\n",
        "Since diode current for HBT is almost 6 orders of magnitude smaller than the value in the Schottky diode \n",
        "hence for the p-n diode to have the same current that the schottky dode has at .3 V , the voltage required is .71V\n"
       ]
      }
     ],
     "prompt_number": 10
    },
    {
     "cell_type": "heading",
     "level": 2,
     "metadata": {},
     "source": [
      "\n",
      "Ex6.4:pg-237"
     ]
    },
    {
     "cell_type": "code",
     "collapsed": false,
     "input": [
      "kBT=0.026\n",
      "mo = 9.1*10**-31\n",
      "m=0.08*mo\n",
      "T = 300\n",
      "phi_b1 = 0.7\n",
      "phi_b2 = 0.6\n",
      "R = 120*(m/mo)\n",
      "print\"The effective richardson constant is ,R* =\",round(R,2),\" A cm**-2 k**-2\"\n",
      "Js1 = R*(T**2)*(exp(-(phi_b1)/(kBT)))\n",
      "print\"The saturation current density is ,Js(phi_b=0.7) =\",\"{:.1e}\".format(Js1),\"A/cm**2\"\n",
      "Js2 = R*(T**2)*(exp(-(phi_b2)/(kBT)))\n",
      "print\"The saturation current density is ,Js(phi_b=0.6) =\",\"{:.2e}\".format(Js2),\"A/cm**2\"\n"
     ],
     "language": "python",
     "metadata": {},
     "outputs": [
      {
       "output_type": "stream",
       "stream": "stdout",
       "text": [
        "The effective richardson constant is ,R* = 9.6  A cm**-2 k**-2\n",
        "The saturation current density is ,Js(phi_b=0.7) = 1.8e-06 A/cm**2\n",
        "The saturation current density is ,Js(phi_b=0.6) = 8.21e-05 A/cm**2\n"
       ]
      }
     ],
     "prompt_number": 13
    },
    {
     "cell_type": "heading",
     "level": 2,
     "metadata": {},
     "source": [
      "Ex6.5:pg-239"
     ]
    },
    {
     "cell_type": "code",
     "collapsed": false,
     "input": [
      "apsilen = 11.9*8.85*10**-12\n",
      "Nd = 10**16\n",
      "Nc = 2.8*10**19\n",
      "kBT = 0.026\n",
      "I=10*10**-3\n",
      "e = 1.6*10**-19\n",
      "A= 10**-3\n",
      "print\"        for W-n type Si schottky barrier          \"\n",
      "T = 300\n",
      "phi_b = 0.67\n",
      "R = 110\n",
      "Is = A*R*(T**2)*(exp(-(phi_b)/(kBT)))\n",
      "V = kBT*(log(I/Is))\n",
      "E = kBT*log(Nc/Nd)\n",
      "print\"The fermi level positionin the neutral semiconductor(Efs) with respect to the conduction band is,Ec-Efs= E = \",\"{:.2e}\".format(E),\"eV\"\n",
      "Vbi= phi_b-(E)\n",
      "print\"The built in voltage is ,Vbi=\",\"{:.2e}\".format(Vbi),\"V\"\n",
      "Cd = A*sqrt((e*Nd*apsilen)/(2*(Vbi-V)))\n",
      "print\"The diode capacitance is ,Cd =\",\"{:.2e}\".format(Cd),\"F\"\n",
      "R = kBT/I\n",
      "print\"The resistance is ,R =\",\"{:.2e}\".format(R),\"ohm\"\n",
      "RC = R*Cd\n",
      "print\"The RC time constant is ,RC(schottky) =\",\"{:.2e}\".format(RC),\"s\"\n",
      "print\"        for Si p+ -n junction diode          \"\n",
      "Tb = 10**-6\n",
      "print\"In the p-n diode the junction capacitance and the small signal resistance will be same as those in the schottky diode\"\n",
      "Cdiff = ((I*Tb)/(kBT))\n",
      "print\"The diffusion capacitance is ,Cdiff = (I*Tb)/(kBT) = \",\"{:.2e}\".format(Cdiff),\"F\"\n",
      "RC1 = R*Cdiff\n",
      "print\"The RC time constant is ,RC(p-n) = \",\"{:.2e}\".format(RC1),\"s\"\n",
      "print\"From the above RC time constant value it can be concluded that p-n diode is almost 1000 times slower\"\n",
      "# Note: due to approximation, the value of diode capicitance and diffusion capacitance are differ from that of the textbook"
     ],
     "language": "python",
     "metadata": {},
     "outputs": [
      {
       "output_type": "stream",
       "stream": "stdout",
       "text": [
        "        for W-n type Si schottky barrier          \n",
        "The fermi level positionin the neutral semiconductor(Efs) with respect to the conduction band is,Ec-Efs= E =  2.06e-01 eV\n",
        "The built in voltage is ,Vbi="
       ]
      },
      {
       "output_type": "stream",
       "stream": "stdout",
       "text": [
        " 4.64e-01 V\n",
        "The diode capacitance is ,Cd = 7.43e-10 F\n",
        "The resistance is ,R = 2.60e+00 ohm\n",
        "The RC time constant is ,RC(schottky) = 1.93e-09 s\n",
        "        for Si p+ -n junction diode          \n",
        "In the p-n diode the junction capacitance and the small signal resistance will be same as those in the schottky diode\n",
        "The diffusion capacitance is ,Cdiff = (I*Tb)/(kBT) =  3.85e-07 F\n",
        "The RC time constant is ,RC(p-n) =  1.00e-06 s\n",
        "From the above RC time constant value it can be concluded that p-n diode is almost 1000 times slower\n"
       ]
      }
     ],
     "prompt_number": 14
    },
    {
     "cell_type": "heading",
     "level": 2,
     "metadata": {},
     "source": [
      "\n",
      "Ex6.6:pg-242"
     ]
    },
    {
     "cell_type": "code",
     "collapsed": false,
     "input": [
      "apsilen = 11.9*8.85*10**-14\n",
      "phi_b = 0.66\n",
      "mo = 9.1*10**-31\n",
      "m=0.34*mo\n",
      "e = 1.6*10**-19\n",
      "h = 1.05*10**-34\n",
      "n1 = 10**18\n",
      "n2 = 10**20\n",
      "print\"Assume that the built in potential Vbi is same as barrier potential becouse of highly doped semiconductor\"\n",
      "W1 = (sqrt((2*apsilen*phi_b)/(e*n1)))/10**-8\n",
      "print\"The depletion width is ,W(n=10**18) =\",\"{:.2e}\".format(W1),\" Angstrom\"\n",
      "W2 = (sqrt((2*apsilen*phi_b)/(e*n2)))/10**-8\n",
      "print\"The depletion width is ,W(n=10**20) =\",\"{:.2e}\".format(W2),\" Angstrom\"\n",
      "F1 = phi_b/(W1*10**-8)\n",
      "print\"The average field in depletion region for(n=10**18), F1 =\",\"{:.2e}\".format(F1),\"V/cm\"\n",
      "F2 = phi_b/(W2*10**-8)\n",
      "print\"The average field in depletion region for(n=10**18), F2 =\",\"{:.2e}\".format(F2),\"V/cm\"\n",
      "F1 = F1/10**-2\n",
      "F2 = F2/10**-2\n",
      "T = exp(-(4.0*(2.0*m)**.5*(e*phi_b)**(3.0/2.0))/(3.0*e*F1*h))\n",
      "print\"The tunneling current for(n=10**18),T =\",\"{:.2e}\".format(T),\"V/cm\"\n",
      "T1 = exp(-(4.0*(2.0*m)**.5*(e*phi_b)**(3.0/2.0))/(3.0*e*F2*h))\n",
      "print\"The tunneling current for(n=10**20), T1 =\",\"{:.2e}\".format(T1),\"V/cm\"\n",
      "# in the textbook author has used approximate value for depletion width and hence it affect the value of all other answer\n",
      "# NOTE: In the textbook author has used approximate answer for tunneling current"
     ],
     "language": "python",
     "metadata": {},
     "outputs": [
      {
       "output_type": "stream",
       "stream": "stdout",
       "text": [
        "Assume that the built in potential Vbi is same as barrier potential becouse of highly doped semiconductor\n",
        "The depletion width is ,W(n=10**18) = 2.95e+02  Angstrom\n",
        "The depletion width is ,W(n=10**20) = 2.95e+01  Angstrom\n",
        "The average field in depletion region for(n=10**18), F1 = 2.24e+05 V/cm\n",
        "The average field in depletion region for(n=10**18), F2 = 2.24e+06 V/cm\n",
        "The tunneling current for(n=10**18),T = 2.79e-42 V/cm\n",
        "The tunneling current for(n=10**20), T1 = 6.99e-05 V/cm\n"
       ]
      }
     ],
     "prompt_number": 17
    },
    {
     "cell_type": "heading",
     "level": 2,
     "metadata": {},
     "source": [
      "Ex6.7:pg-248"
     ]
    },
    {
     "cell_type": "code",
     "collapsed": false,
     "input": [
      "n = 10**18\n",
      "W = 25*10**-4\n",
      "R = 100*10**3\n",
      "e = 1.6*10**-19\n",
      "D= 5000*10**-8\n",
      "mu_=100.0\n",
      "Ro = 1.0/(n*e*mu_*D)\n",
      "print\"The sheet resistance of the film is ,Ro =\",\"{:.2e}\".format(Ro),\" ohm/square\"\n",
      "L = (R*W)/Ro\n",
      "print\"The length of the desired resistor is ,L =\",\"{:.2e}\".format(L),\" cm\""
     ],
     "language": "python",
     "metadata": {},
     "outputs": [
      {
       "output_type": "stream",
       "stream": "stdout",
       "text": [
        "The sheet resistance of the film is ,Ro = 1.25e+03  ohm/square\n",
        "The length of the desired resistor is ,L = 2.00e-01  cm\n"
       ]
      }
     ],
     "prompt_number": 1
    }
   ],
   "metadata": {}
  }
 ]
}