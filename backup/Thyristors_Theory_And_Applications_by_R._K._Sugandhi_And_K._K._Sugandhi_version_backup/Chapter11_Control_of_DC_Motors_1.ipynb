{
 "cells": [
  {
   "cell_type": "markdown",
   "metadata": {},
   "source": [
    "# Chapter11 Control of DC Motors"
   ]
  },
  {
   "cell_type": "markdown",
   "metadata": {},
   "source": [
    "## Example11.1,Pg.no.30"
   ]
  },
  {
   "cell_type": "code",
   "execution_count": 5,
   "metadata": {
    "collapsed": false
   },
   "outputs": [
    {
     "name": "stdout",
     "output_type": "stream",
     "text": [
      "Rated motor current=Idc= 434.8 amps\n",
      "Hence AC voltage for six pulse configuration= 408.89 volts\n",
      "AC rating of field converter = 170.37 V\n",
      "DC power= 2300.0 Watts\n",
      "AC power= 2415.0 Watts\n",
      "Field converter shall be locked at an angle of A= 35.61 degrees\n"
     ]
    }
   ],
   "source": [
    "import math\n",
    "from math import pi \n",
    "Idc=(200.0/460.0)*(1000.0)       #Rated motor current in amps\n",
    "Idc=round(Idc,1)\n",
    "print 'Rated motor current=Idc=',Idc,'amps' #Thus the main armature converter will be having dc side rating of 500Amps and 460 volts \n",
    "Ac=552.0/1.35\n",
    "Ac=round(Ac,2)\n",
    "print 'Hence AC voltage for six pulse configuration=',Ac,'volts' #Hence a 3phase ,415v AC supply will be adequate for armature control\n",
    "AC=230.0/1.35\n",
    "AC=round(AC,2)\n",
    "print 'AC rating of field converter =',AC,'V'\n",
    "DCp=230.0*10.0\n",
    "print 'DC power=',DCp,'Watts'\n",
    "ACp=1.05*2300\n",
    "print 'AC power=',ACp,'Watts'\n",
    "Edca=(170+170/10)*1.35    #available voltage in volts\n",
    "Edc=1.35*230\n",
    "A=math.acos(Edca/Edc)*180/pi\n",
    "A=round(A,2)\n",
    "print 'Field converter shall be locked at an angle of A=',A,'degrees'"
   ]
  },
  {
   "cell_type": "markdown",
   "metadata": {},
   "source": [
    "## Example11.2,Pg.no.31"
   ]
  },
  {
   "cell_type": "code",
   "execution_count": 7,
   "metadata": {
    "collapsed": false
   },
   "outputs": [
    {
     "name": "stdout",
     "output_type": "stream",
     "text": [
      "Required voltage after allowing 10 percent drop=Edca= 484.0 volts\n",
      "Cosine of the locked angle=C= 0.86\n",
      "Converter shall be locked at an angle of A = 30.68 degrees\n"
     ]
    }
   ],
   "source": [
    "from math import pi \n",
    "Vdc=440.0          #Rated dc voltage in volts\n",
    "Edca=Vdc+Vdc/10.0  #Required voltage after allowing 10 % drop\n",
    "print 'Required voltage after allowing 10 percent drop=Edca=',Edca,'volts'\n",
    "Edc=1.35*415.0\n",
    "C=Edca/Edc\n",
    "C=round(C,2)\n",
    "print 'Cosine of the locked angle=C=',C\n",
    "A=math.acos(C)*180/pi      #locked angle in degrees\n",
    "A=round(A,2)\n",
    "print 'Converter shall be locked at an angle of A =',A,'degrees'"
   ]
  },
  {
   "cell_type": "markdown",
   "metadata": {},
   "source": [
    "## Example11.3,Pg.no.32"
   ]
  },
  {
   "cell_type": "code",
   "execution_count": 10,
   "metadata": {
    "collapsed": false
   },
   "outputs": [
    {
     "name": "stdout",
     "output_type": "stream",
     "text": [
      "Eb1= 210.0 volts\n",
      "Eb2= 105.0 volts\n",
      "Edca2= 145.0 volts\n",
      "Cosine of the firing angle corresponding to 500 rpm load=C2= 0.63\n",
      "firing angle corresponding to 500 rpm load A= 50.95 degrees\n"
     ]
    }
   ],
   "source": [
    "from math import pi\n",
    "Edca1=230.0\n",
    "N1=1000.0\n",
    "N2=500.0\n",
    "Eb1=210.0\n",
    "Eb1=Edca1-20.0\n",
    "print 'Eb1=',Eb1,'volts'\n",
    "Eb2=Eb1*N2/N1\n",
    "print 'Eb2=',Eb2,'volts'\n",
    "V=40.0      #motor armature drop at rated load in volts\n",
    "Edca2=Eb2+V\n",
    "print 'Edca2=',Edca2,'volts'\n",
    "C1=1.0     #cosine of the firing angle corresponding to 1000 rpm load\n",
    "C2=C1*Edca2/Edca1           #cosine of the firing angle corresponding to 500 rpm load\n",
    "C2=round(C2,2)\n",
    "print 'Cosine of the firing angle corresponding to 500 rpm load=C2=',C2\n",
    "A=math.acos(C2)*180/pi   #firing angle corresponding to 500 rpm load in degrees\n",
    "A=round(A,2)\n",
    "print 'firing angle corresponding to 500 rpm load A=',A,'degrees'"
   ]
  },
  {
   "cell_type": "markdown",
   "metadata": {},
   "source": [
    "## Example11.4,Pg.np.32"
   ]
  },
  {
   "cell_type": "code",
   "execution_count": 18,
   "metadata": {
    "collapsed": false
   },
   "outputs": [
    {
     "name": "stdout",
     "output_type": "stream",
     "text": [
      "Rated output voltage from the converter= Edca1= 506.0 volts\n",
      "Cosine of the triggering angle=C2= 0.6 Triggering angle=A2= 34.38 degrees\n",
      "Powerfactor=PF2= 0.59\n",
      "Reactive power at 75 percent load=RP2= 71.12 KVAR\n",
      "Sixth harmonic ripple current=I6= 16 Amps\n",
      "Inductance required in dc circuit=L= 4.06 mH\n",
      "Cosine of the triggering angle=C1= 0.9\n",
      "Triggering angle=A1= 51.57 degrees\n",
      "Powerfactor=PF1= 0.9\n",
      "Reactive power at 75 percent load=RP1= 51.2 KVAR\n"
     ]
    }
   ],
   "source": [
    "from math import pi,sqrt\n",
    "Edca1=1.15*440.0    #Rated output voltage from the converter for rated speed of750rpm\n",
    "print 'Rated output voltage from the converter= Edca1=',Edca1,'volts'\n",
    "N1=750.0\n",
    "N2=500.0\n",
    "Edca2=Edca1*N2/N1\n",
    "E2=415.0\n",
    "C2=Edca2/(1.35*E2)\n",
    "C2=round(C2,2)\n",
    "print 'Cosine of the triggering angle=C2=',C2,\n",
    "A2=C2*180/pi\n",
    "A2=round(A2,2)\n",
    "print 'Triggering angle=A2=',A2,'degrees'\n",
    "PF2=C2*(1+math.cos(15.0*pi/180.0))/2\n",
    "PF2=round(PF2,2)\n",
    "print 'Powerfactor=PF2=',PF2\n",
    "Id=200           #dc current in amps\n",
    "I2=0.75*0.817*Id       #Current at 75 percent load in amps\n",
    "RP2=sqrt(3)*E2*I2*sqrt(1-PF2**2)/1000    #Reactive power drawn at 75% load\n",
    "RP2=round(RP2,2)\n",
    "print 'Reactive power at 75 percent load=RP2=',RP2,'KVAR'\n",
    "h=6\n",
    "Wv=24.17        #maximum voltage ripple in percent\n",
    "Wi=8             #maximum permissible current ripple in percent\n",
    "I6=Wi*Id/100\n",
    "print 'Sixth harmonic ripple current=I6=',I6,'Amps'\n",
    "W=314\n",
    "L=(Wv*Edca1*10)/(I6*h*W)\n",
    "L=round(L,2)\n",
    "print 'Inductance required in dc circuit=L=',L,'mH'\n",
    "C1=Edca1/(1.35*E2)\n",
    "C1=round(C1,2)\n",
    "print 'Cosine of the triggering angle=C1=',C1\n",
    "A1=C1*180/pi\n",
    "A1=round(A1,2)\n",
    "print 'Triggering angle=A1=',A1,'degrees'\n",
    "PF1=C1*(1+math.cos(15*pi/180))/2\n",
    "PF1=round(PF1,1)\n",
    "print 'Powerfactor=PF1=',PF1\n",
    "I1=0.817*Id      # Current at 75 percent load in amps\n",
    "RP1=sqrt(3)*E2*I1*sqrt(1-PF1**2)/1000.0       #Reactive power drawn at 75% load\n",
    "RP1=round(RP1,1)\n",
    "print 'Reactive power at 75 percent load=RP1=',RP1,'KVAR'"
   ]
  },
  {
   "cell_type": "markdown",
   "metadata": {},
   "source": [
    "## Example11.5,Pg.no.34"
   ]
  },
  {
   "cell_type": "code",
   "execution_count": 20,
   "metadata": {
    "collapsed": false
   },
   "outputs": [
    {
     "name": "stdout",
     "output_type": "stream",
     "text": [
      "Cosine of the triggering angle=C= 0.82\n",
      "Triggering angle=A= 47.0 degrees\n",
      "Cosine of the triggering angle=C10= 0.1\n",
      "Triggering angle=A10= 5.7 degrees\n",
      "Active power drawn from the system at rated speed=AP= 104.5 KW\n",
      "Reactive power drawn from the system=RP= 72.9 KVAR\n",
      "Activepower drawn from thesystem at 10 percentrated speed=AP10= 12.7 KW\n",
      "Reactive power drawn from the system=RP10= 126.8 KVAR\n",
      "P= 1.7\n",
      "Thus reactive power has increased by 74.589 percent due to reduction in motor speed\n"
     ]
    }
   ],
   "source": [
    "from math import pi,sqrt\n",
    "Edca=460\n",
    "E2=415\n",
    "C=Edca/(1.35*E2)\n",
    "C=round(C,2)\n",
    "print 'Cosine of the triggering angle=C=',C\n",
    "A=C*180/pi\n",
    "A=round(A,1)\n",
    "print 'Triggering angle=A=',A,'degrees'\n",
    "Edca10=0.1*460\n",
    "C10=Edca10/(1.35*E2)\n",
    "C10=round(C10,1)\n",
    "print 'Cosine of the triggering angle=C10=',C10\n",
    "A10=C10*180/pi\n",
    "A10=round(A10,1)\n",
    "print 'Triggering angle=A10=',A10,'degrees'\n",
    "Id=10**5/Edca        #dc current in amps\n",
    "I2=0.817*Id          #Current at rated speed in amps\n",
    "AP=sqrt(3)*E2*I2*C/1000\n",
    "AP=round(AP,1)\n",
    "print 'Active power drawn from the system at rated speed=AP=',AP,'KW'\n",
    "RP=sqrt(3)*E2*I2*sqrt(1-C**2)/1000    #Reactive power drawn from the system\n",
    "RP=round(RP,1)\n",
    "print 'Reactive power drawn from the system=RP=',RP,'KVAR'\n",
    "AP10=sqrt(3)*E2*I2*C10/1000\n",
    "AP10=round(AP10,1)\n",
    "print 'Activepower drawn from thesystem at 10 percentrated speed=AP10=',AP10,'KW'\n",
    "RP10=sqrt(3)*E2*I2*sqrt(1-C10**2)/1000       #Reactive power drawn from the system\n",
    "RP10=round(RP10,1)\n",
    "print 'Reactive power drawn from the system=RP10=',RP10,'KVAR'\n",
    "P=RP10/RP\n",
    "P=round(P,1)\n",
    "print 'P=',P\n",
    "print 'Thus reactive power has increased by 74.589 percent due to reduction in motor speed'"
   ]
  },
  {
   "cell_type": "markdown",
   "metadata": {},
   "source": [
    "## Example11.6,Pg.no.35"
   ]
  },
  {
   "cell_type": "code",
   "execution_count": 21,
   "metadata": {
    "collapsed": false
   },
   "outputs": [
    {
     "name": "stdout",
     "output_type": "stream",
     "text": [
      "Reactive power at rated speed and rated load =72.79KVAR\n",
      "Reactive power at rated speed and 10 percent load= 7.279 KVAR\n",
      "reactive power at 10 percent speed and 10 percent load= 12.708 KVAR\n"
     ]
    }
   ],
   "source": [
    "import math\n",
    "#given\n",
    "Rp=72.79\n",
    "Rp1=0.1*72.79     #Reactive power at rated speed and 10 percent load \n",
    "Rp2=0.1*127.08    #reactive power at 10 percent speed and 10 percent load\n",
    "print 'Reactive power at rated speed and rated load =72.79KVAR'\n",
    "print 'Reactive power at rated speed and 10 percent load=',Rp1,'KVAR'\n",
    "print 'reactive power at 10 percent speed and 10 percent load=',Rp2,'KVAR'"
   ]
  },
  {
   "cell_type": "markdown",
   "metadata": {},
   "source": [
    "## Example11.7,Pg.no.35"
   ]
  },
  {
   "cell_type": "code",
   "execution_count": 22,
   "metadata": {
    "collapsed": false
   },
   "outputs": [
    {
     "name": "stdout",
     "output_type": "stream",
     "text": [
      "Eb2= 328 volts\n",
      "Ia= 227.0 Amps\n",
      "Ra= 0.1 ohms\n",
      "Terminal voltage of dc motor at 500 rpm and 75 percent load=Edca= 345.0 volts\n",
      "Cosine of the triggering angle of the converter=C2= 0.6\n",
      "triggering angle of the converter A= 53.1 degrees\n"
     ]
    }
   ],
   "source": [
    "from math import pi\n",
    "N1=500\n",
    "N2=400\n",
    "Eb1=410\n",
    "Eb2=Eb1*N2/N1\n",
    "print 'Eb2=',Eb2,'volts'\n",
    "V=440             #operating voltage of dc motor in volts\n",
    "P=100             #input power of dc motor in KW\n",
    "Ia=P*1000/V\n",
    "Ia=round(Ia,1)\n",
    "print 'Ia=',Ia,'Amps'\n",
    "Ra=(V-Eb1)/Ia;\n",
    "Ra=round(Ra,1)\n",
    "print 'Ra=',Ra,'ohms'\n",
    "E2=415\n",
    "Edca=Eb2+(0.75*Ia*Ra)       #terminal voltage of dc motor at 500 rpm and 75% load\n",
    "Edca=round(Edca,1)\n",
    "print 'Terminal voltage of dc motor at 500 rpm and 75 percent load=Edca=',Edca,'volts'\n",
    "C=Edca/(1.35*E2)         #cosine of the triggering angle of the converter\n",
    "C=round(C,1)\n",
    "print 'Cosine of the triggering angle of the converter=C2=',C\n",
    "A=math.acos(C)*180/pi            #triggering angle of the converter in degrees\n",
    "A=round(A,1)\n",
    "print 'triggering angle of the converter A=',A,'degrees'"
   ]
  }
 ],
 "metadata": {
  "kernelspec": {
   "display_name": "Python 2",
   "language": "python",
   "name": "python2"
  },
  "language_info": {
   "codemirror_mode": {
    "name": "ipython",
    "version": 2
   },
   "file_extension": ".py",
   "mimetype": "text/x-python",
   "name": "python",
   "nbconvert_exporter": "python",
   "pygments_lexer": "ipython2",
   "version": "2.7.10"
  }
 },
 "nbformat": 4,
 "nbformat_minor": 0
}
