{
 "cells": [
  {
   "cell_type": "markdown",
   "metadata": {},
   "source": [
    "# Chapter 12 Controllers and Their Optimisation"
   ]
  },
  {
   "cell_type": "markdown",
   "metadata": {},
   "source": [
    "## Example12.1,Pg.no.37"
   ]
  },
  {
   "cell_type": "code",
   "execution_count": 1,
   "metadata": {
    "collapsed": false
   },
   "outputs": [
    {
     "name": "stdout",
     "output_type": "stream",
     "text": [
      "permanent Error of P controller=P= 2 percent\n"
     ]
    }
   ],
   "source": [
    "import math\n",
    "V=40 #gain of the controller in volts\n",
    "P=100/(1+V)        #permanent error of p controller in percent\n",
    "print 'permanent Error of P controller=P=',P,'percent'"
   ]
  },
  {
   "cell_type": "markdown",
   "metadata": {},
   "source": [
    "## Example12.2,Pg.no.37"
   ]
  },
  {
   "cell_type": "code",
   "execution_count": 2,
   "metadata": {
    "collapsed": false
   },
   "outputs": [
    {
     "name": "stdout",
     "output_type": "stream",
     "text": [
      "gain of the controller=V= 54.6 volts\n",
      "Motor armature time constant=T1= 873.6 milliseconds\n"
     ]
    }
   ],
   "source": [
    "import math\n",
    "P=1.8        #permanent error of p controller in percent\n",
    "V=100/1.8-1  #gain of the controller in volts\n",
    "V=round(V,1)\n",
    "print 'gain of the controller=V=',V,'volts'\n",
    "G=8       #sum of all time constants in milliseconds \n",
    "T1=2*G*V       #motor armature time constant\n",
    "T1=round(T1,1)\n",
    "print 'Motor armature time constant=T1=',T1,'milliseconds'"
   ]
  },
  {
   "cell_type": "markdown",
   "metadata": {},
   "source": [
    "## Example12.3,Pg.no.38"
   ]
  },
  {
   "cell_type": "code",
   "execution_count": 4,
   "metadata": {
    "collapsed": false
   },
   "outputs": [
    {
     "name": "stdout",
     "output_type": "stream",
     "text": [
      "time constant for the current loop=t1= 1 ms\n",
      "Smaller time constant=G= 2.5 ms\n",
      "Time constant of the controller in AVO=Tn= 30 ms\n",
      "Gain of the control system=V= 6.0\n",
      "Gain of the PI controller=Vr= 0.43\n",
      "R1= 25.6 Kiloohms\n",
      "C1= 1.2 microfarads\n"
     ]
    }
   ],
   "source": [
    "import math\n",
    "f=50    #frequency in hz\n",
    "p=6     #pulse number\n",
    "t1=1000/(2*f*p)          #time constant for the current loop in ms\n",
    "print 'time constant for the current loop=t1=',t1,'ms'\n",
    "t2=1.5  #time constant of feedback channel in ms\n",
    "G=t1+t2    #smaller time constant in ms\n",
    "print 'Smaller time constant=G=',G,'ms'\n",
    "T1=30        #bigger time constant in ms\n",
    "Tn=T1        #time constant of the controller in ms\n",
    "print 'Time constant of the controller in AVO=Tn=',Tn,'ms'\n",
    "V=T1/(2*G)     #gain of the control system\n",
    "print 'Gain of the control system=V=',V\n",
    "Vg=14        #gain of the regulating current link\n",
    "Vr=V/Vg      #gain of the PI controller\n",
    "Vr=round(Vr,2)\n",
    "print 'Gain of the PI controller=Vr=',Vr\n",
    "R2=11           #R2 in KiloOhms\n",
    "R1=R2/Vr        #R1 in kiloohms\n",
    "R1=round(R1,1)\n",
    "print 'R1=',R1,'Kiloohms'\n",
    "C1=Tn/R1        #C1 in microfarads\n",
    "C1=round(C1,1)\n",
    "print 'C1=',C1,'microfarads'"
   ]
  },
  {
   "cell_type": "markdown",
   "metadata": {},
   "source": [
    "## Example12.4,Pg.no.39"
   ]
  },
  {
   "cell_type": "code",
   "execution_count": 7,
   "metadata": {
    "collapsed": false
   },
   "outputs": [
    {
     "name": "stdout",
     "output_type": "stream",
     "text": [
      "Time constant of the controller in SO=Tn= 80.0 ms\n",
      "Gain of the control system=V= 8.75\n",
      "Gain of the PI regulator=Vr= 8.75\n",
      "R2= 96.25 Kiloohms\n",
      "C2= 0.8 microfarads\n"
     ]
    }
   ],
   "source": [
    "import math\n",
    "G=20.0        #smaller time constant in ms\n",
    "T1=350.0      #bigger time constant in ms\n",
    "Tn=4*G      #time constant of the controller in ms\n",
    "print 'Time constant of the controller in SO=Tn=',Tn,'ms'\n",
    "V=T1/(2*G)        #gain of the control system\n",
    "print 'Gain of the control system=V=',V\n",
    "Vg=1.0           #gain of the regulating current link\n",
    "Vr=V/Vg        #gain of the PI regulator\n",
    "print 'Gain of the PI regulator=Vr=',Vr\n",
    "R1=11.0          #R1 in KiloOhms\n",
    "R2=R1*Vr       #R2 in kiloohms\n",
    "print 'R2=',R2,'Kiloohms'\n",
    "C2=Tn/R2        #C1 in microfarads\n",
    "C2=round(C2,1)\n",
    "print 'C2=',C2,'microfarads'"
   ]
  },
  {
   "cell_type": "markdown",
   "metadata": {},
   "source": [
    "## Example12.5,Pg.no.39"
   ]
  },
  {
   "cell_type": "code",
   "execution_count": 11,
   "metadata": {
    "collapsed": false
   },
   "outputs": [
    {
     "name": "stdout",
     "output_type": "stream",
     "text": [
      "Time constant of the controller=Tn= 80 ms\n",
      "Gain of the control system=V= 6\n",
      "Natural frequency of the system=Wn= 0.118 rad/ ms\n",
      "time taken by the system to achieve its desired value=Tf= 28.2 ms\n",
      "Maximum overshoot for a symmetrically optimised system is 4.3 percent\n",
      "Time at which maximum overload will occur= Tmax= 37.44 ms\n"
     ]
    }
   ],
   "source": [
    "import math\n",
    "from math import sqrt\n",
    "G=6        #smaller time constant in ms\n",
    "T1=80      #bigger time constant in ms\n",
    "Tn=T1      #time constant of the controller in ms\n",
    "print 'Time constant of the controller=Tn=',Tn,'ms'\n",
    "V=T1/(2*G)   #gain of the control system\n",
    "print 'Gain of the control system=V=',V\n",
    "Wn=1/(sqrt(2)*G)    #Natural frequency of the system in rad/ms\n",
    "Wn=round(Wn,3)\n",
    "print 'Natural frequency of the system=Wn=',Wn,'rad/ ms'\n",
    "Tf=4.7*G      #time taken by the system to achiecve i t s desired output for firsttime \n",
    "print 'time taken by the system to achieve its desired value=Tf=',Tf,'ms'\n",
    "print 'Maximum overshoot for a symmetrically optimised system is 4.3 percent'\n",
    "Tmax=6.24*G         #time at which maximum overload will occur in ms\n",
    "print 'Time at which maximum overload will occur= Tmax=',Tmax,'ms'"
   ]
  },
  {
   "cell_type": "markdown",
   "metadata": {},
   "source": [
    "## Example12.6,Pg.no.40"
   ]
  },
  {
   "cell_type": "code",
   "execution_count": 12,
   "metadata": {
    "collapsed": false
   },
   "outputs": [
    {
     "name": "stdout",
     "output_type": "stream",
     "text": [
      "time constant of the controller=Tn= 80 ms\n",
      "Gain of the control system=V= 4\n",
      "time taken by the system to achieve its final value=Tf= 62.0 ms\n",
      "Maximum overshoot for a symmetrically optimised system is 43 percent\n"
     ]
    }
   ],
   "source": [
    "import math\n",
    "G=20      #smaller time constant in ms\n",
    "Tn=4*G    #time constant of the controller in ms\n",
    "print 'time constant of the controller=Tn=',Tn,'ms'\n",
    "T1=170       #bigger time constant in ms\n",
    "V=T1/(2*G)   #gain of the control system\n",
    "print 'Gain of the control system=V=',V\n",
    "Tf=3.1*G    #time taken by the system to achiecve its final value on step input\n",
    "print 'time taken by the system to achieve its final value=Tf=',Tf,'ms'\n",
    "print 'Maximum overshoot for a symmetrically optimised system is 43 percent'"
   ]
  },
  {
   "cell_type": "markdown",
   "metadata": {},
   "source": [
    "## Example12.7,Pg.no.40"
   ]
  },
  {
   "cell_type": "code",
   "execution_count": 13,
   "metadata": {
    "collapsed": false
   },
   "outputs": [
    {
     "name": "stdout",
     "output_type": "stream",
     "text": [
      "time taken by the system to achieve its final value=Tf= 47.0 ms\n",
      "Maximum overshoot for a symmetrically optimised system is 4.3 percent\n",
      "Time at which maximum overshoot will occur =Tmax= 62.4 ms\n",
      "Settling time=Ts= 84.0 ms\n"
     ]
    }
   ],
   "source": [
    "import math\n",
    "G=10         #smaller time constant in ms\n",
    "Tf=4.7*G     #time taken by the system to achiecve its final output for firsttime\n",
    "print 'time taken by the system to achieve its final value=Tf=',Tf,'ms'\n",
    "print 'Maximum overshoot for a symmetrically optimised system is 4.3 percent'\n",
    "Tmax=6.24*G      #time at which maximum overshoot will occur in ms\n",
    "print 'Time at which maximum overshoot will occur =Tmax=',Tmax,'ms'\n",
    "Ts=8.4*G         #settling time in ms\n",
    "print 'Settling time=Ts=',Ts,'ms'"
   ]
  },
  {
   "cell_type": "markdown",
   "metadata": {},
   "source": [
    "## Example12.8,Pg.no.41"
   ]
  },
  {
   "cell_type": "code",
   "execution_count": 15,
   "metadata": {
    "collapsed": false
   },
   "outputs": [
    {
     "name": "stdout",
     "output_type": "stream",
     "text": [
      "Response for an AVO system:\n",
      "time taken by the system to achieve its final value=Tf= 47.0 ms\n",
      "Maximum overshoot for a symmetrically optimised system is 4.3 percent\n",
      "Settling time=Ts= 84.0 ms\n",
      "Response for an SO system:\n",
      "time taken by the system to achieve its final value=Tf= 31.0 ms\n",
      "Settling time=Ts= 166.0 ms\n"
     ]
    }
   ],
   "source": [
    "import math\n",
    "print 'Response for an AVO system:'\n",
    "G=10    #smaller time constant in ms\n",
    "Tf=4.7*G       #time taken by the system to achiecve its f i n a l output for firsttime\n",
    "print 'time taken by the system to achieve its final value=Tf=',Tf,'ms'\n",
    "print 'Maximum overshoot for a symmetrically optimised system is 4.3 percent'\n",
    "Ts=8.4*G   #settling time in ms\n",
    "print 'Settling time=Ts=',Ts,'ms'\n",
    "print 'Response for an SO system:'\n",
    "G=10               #smaller time constant in ms\n",
    "Tf=3.1*G           #time taken by the system to achiecve its f i n a l output for firsttime\n",
    "print 'time taken by the system to achieve its final value=Tf=',Tf,'ms'\n",
    "Ts=16.6*G       #settling time in ms\n",
    "print 'Settling time=Ts=',Ts,'ms'"
   ]
  }
 ],
 "metadata": {
  "kernelspec": {
   "display_name": "Python 2",
   "language": "python",
   "name": "python2"
  },
  "language_info": {
   "codemirror_mode": {
    "name": "ipython",
    "version": 2
   },
   "file_extension": ".py",
   "mimetype": "text/x-python",
   "name": "python",
   "nbconvert_exporter": "python",
   "pygments_lexer": "ipython2",
   "version": "2.7.10"
  }
 },
 "nbformat": 4,
 "nbformat_minor": 0
}
