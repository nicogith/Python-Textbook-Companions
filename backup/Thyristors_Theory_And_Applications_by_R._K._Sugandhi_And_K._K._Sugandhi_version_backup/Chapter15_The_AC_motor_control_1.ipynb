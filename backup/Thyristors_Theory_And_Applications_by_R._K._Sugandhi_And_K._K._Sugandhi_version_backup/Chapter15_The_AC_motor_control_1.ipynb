{
 "cells": [
  {
   "cell_type": "markdown",
   "metadata": {},
   "source": [
    "# Chapter 15 The AC motor control"
   ]
  },
  {
   "cell_type": "markdown",
   "metadata": {},
   "source": [
    "## Example 15.1,Pg.no.48"
   ]
  },
  {
   "cell_type": "code",
   "execution_count": 2,
   "metadata": {
    "collapsed": false
   },
   "outputs": [
    {
     "name": "stdout",
     "output_type": "stream",
     "text": [
      "value of slip of motor=S2= 50.0 percentage\n",
      "value of new stator current=I2= 250.0 Amp\n"
     ]
    }
   ],
   "source": [
    "from math import sqrt\n",
    "S1=2.0            #value of slip in percentage of slip ring induction motor\n",
    "Ns=1000.0         #value of stator speed in rpm\n",
    "Nr=500.0          #value of rotor speed in rpm\n",
    "S2=(Ns-Nr)*100/Ns        #valu of slip in percentage of motor\n",
    "print 'value of slip of motor=S2=',S2,'percentage'\n",
    "I1=50.0                  #stator current in amps\n",
    "I2=I1*sqrt(S2/S1)\n",
    "print 'value of new stator current=I2=',I2,'Amp'"
   ]
  },
  {
   "cell_type": "markdown",
   "metadata": {},
   "source": [
    "## Example 15.2,Pg.no.48"
   ]
  },
  {
   "cell_type": "code",
   "execution_count": 5,
   "metadata": {
    "collapsed": false
   },
   "outputs": [
    {
     "name": "stdout",
     "output_type": "stream",
     "text": [
      "value of converter rated current=Icr= 75.0 amp\n",
      "value of converter rated ac voltage=Vac= 74.07 volts\n",
      "KVA rating of transformer=Pkva= 7.875 KVA\n"
     ]
    }
   ],
   "source": [
    "import math\n",
    "Imr=50.0       #motor field rating in amp//\n",
    "Icr=1.5*Imr    #converter rated current in amp\n",
    "print 'value of converter rated current=Icr=',Icr,'amp'\n",
    "Vdc=100.0       #converter dc rating in volts\n",
    "Vac=Vdc/1.35    #converter ac rating voltage required\n",
    "Vac=round(Vac,2)\n",
    "print 'value of converter rated ac voltage=Vac=',Vac,'volts'\n",
    "Pkva=(1.05*100*75)/1000          #KVA rating of the transformer\n",
    "print 'KVA rating of transformer=Pkva=',Pkva,'KVA'"
   ]
  },
  {
   "cell_type": "markdown",
   "metadata": {},
   "source": [
    "## Example 15.3,Pg.no.49"
   ]
  },
  {
   "cell_type": "code",
   "execution_count": 7,
   "metadata": {
    "collapsed": false
   },
   "outputs": [
    {
     "name": "stdout",
     "output_type": "stream",
     "text": [
      "value of speed N1= 1440.0 rpm\n",
      "value of f= 0.3\n",
      "value of new torque developed=T2= 6666.7 Watts\n"
     ]
    }
   ],
   "source": [
    "import math\n",
    "S1=0.04        #value of slip in of induction motor\n",
    "Ns=1500.0        #value of initial speed in rpm\n",
    "N2=1300.0      #value of speed reduced to in rpm\n",
    "N1=Ns*(1-S1)   #value of speed N1 in rpm\n",
    "print 'value of speed N1=',N1,'rpm'\n",
    "f=(Ns-N1)/(Ns-N2)\n",
    "print 'value of f=',f\n",
    "T1=2000.0         #developing torque in induction motor in watts\n",
    "T2=T1/f        #new value of torque developed by the motor in watts\n",
    "T2=round(T2,1)\n",
    "print 'value of new torque developed=T2=',T2,'Watts'"
   ]
  },
  {
   "cell_type": "markdown",
   "metadata": {},
   "source": [
    "## Example 15.4,Pg.no.49"
   ]
  },
  {
   "cell_type": "code",
   "execution_count": 8,
   "metadata": {
    "collapsed": false
   },
   "outputs": [
    {
     "name": "stdout",
     "output_type": "stream",
     "text": [
      "value of new torque developed=Tb= 1000.0 Watts\n"
     ]
    }
   ],
   "source": [
    "import math\n",
    "f1a=50.0         #initial frequency in hertz\n",
    "f1b=75.0         #value of frequency increased to in hertz\n",
    "Ta=1500.0        #developing torque in induction motor in watts\n",
    "Tb=Ta*f1a/f1b    #new value of torque developed by the motor in watts\n",
    "print 'value of new torque developed=Tb=',Tb,'Watts'"
   ]
  },
  {
   "cell_type": "markdown",
   "metadata": {},
   "source": [
    "## Example 15.5,Pg.no.50"
   ]
  },
  {
   "cell_type": "code",
   "execution_count": 9,
   "metadata": {
    "collapsed": false
   },
   "outputs": [
    {
     "name": "stdout",
     "output_type": "stream",
     "text": [
      "torque developed by motor=T= 6889.0 watts\n",
      "value of rotor frequency=f2= 3.0 hertz\n"
     ]
    }
   ],
   "source": [
    "import math\n",
    "V=415.0         #operating input voltage of induction motor in volts\n",
    "S=0.04          #input slip\n",
    "r2=1.0          #rotor resistance referred to stator in ohms\n",
    "T=(S*V**2)/r2   #torque developed by motor in watts\n",
    "print 'torque developed by motor=T=',T,'watts'\n",
    "f1=75.0         #input stator frequency in hertz\n",
    "f2=S*f1         #rotor frequency in hertz\n",
    "print 'value of rotor frequency=f2=',f2,'hertz'"
   ]
  },
  {
   "cell_type": "markdown",
   "metadata": {},
   "source": [
    "## Example 15.6,Pg.no.50"
   ]
  },
  {
   "cell_type": "code",
   "execution_count": 10,
   "metadata": {
    "collapsed": false
   },
   "outputs": [
    {
     "name": "stdout",
     "output_type": "stream",
     "text": [
      "value of input voltage to the motor=Vb= 249.0 volts\n",
      "value of input power to the motor=Pb= 60.0 KVA\n"
     ]
    }
   ],
   "source": [
    "import math\n",
    "f1a=50.0       #intial frequency in hertz\n",
    "f1b=30.0       #value of frequency reduced to in hertz\n",
    "Va=415.0       #operating voltage of induction motor in volts\n",
    "Vb=Va*f1b/f1a  #input voltage to the motor in volts\n",
    "print 'value of input voltage to the motor=Vb=',Vb,'volts'\n",
    "Pa=100.0       #operating power of induction motor in KVA\n",
    "Pb=Pa*f1b/f1a  #input power to the motor in KVA\n",
    "print 'value of input power to the motor=Pb=',Pb,'KVA'"
   ]
  },
  {
   "cell_type": "markdown",
   "metadata": {},
   "source": [
    "## Example 15.7,Pg.no.51"
   ]
  },
  {
   "cell_type": "code",
   "execution_count": 12,
   "metadata": {
    "collapsed": false
   },
   "outputs": [
    {
     "name": "stdout",
     "output_type": "stream",
     "text": [
      "value of frequency changed to f1b= 30.0 hz\n",
      "speed at 4 percent slip=Nb= 864.0 rpm\n",
      "value of stator voltage to the motor=Vb= 243.75 volts\n",
      "torque if stator drop is negligible=T= 1592.36 watts\n",
      "rotor copper loss=P2= 6.0 KVA\n"
     ]
    }
   ],
   "source": [
    "import math\n",
    "f1a=40.0     #intial frequency in hertz\n",
    "Pa=200.0     #input power of squirrel cage motor in KVA\n",
    "Pb=150.0     #input power to the motor after change in speed in KVA\n",
    "f1b=f1a*Pb/Pa      #frequency changed to in hertz\n",
    "print 'value of frequency changed to f1b=',f1b,'hz'\n",
    "Nsa=1200.0         #motor initial syncronous speed in rpm\n",
    "Nsb=Nsa*f1b/f1a\n",
    "Sb=0.04\n",
    "Nb=Nsb*(1-Sb)      #speed in rpm at 4% slip\n",
    "print 'speed at 4 percent slip=Nb=',Nb,'rpm'\n",
    "Va=325            #operating voltage of induction motor in volts\n",
    "Vb=Va*f1b/f1a     #stator voltage to the motor in volts\n",
    "print 'value of stator voltage to the motor=Vb=',Vb,'volts'\n",
    "Pag=150.0         #power transferred from stator to rotor at 30 hz in KVA\n",
    "Ws=2*3.14*Nsb/60\n",
    "T=Pag*1000/Ws     #torque if stator drop is negligible in watts\n",
    "T=round(T,2)\n",
    "print 'torque if stator drop is negligible=T=',T,'watts'\n",
    "P2=Sb*Pag         #rotor copper loss in KVA\n",
    "print 'rotor copper loss=P2=',P2,'KVA'"
   ]
  },
  {
   "cell_type": "markdown",
   "metadata": {},
   "source": [
    "## Example 15.8,Pg.no.52"
   ]
  },
  {
   "cell_type": "code",
   "execution_count": 15,
   "metadata": {
    "collapsed": false
   },
   "outputs": [
    {
     "name": "stdout",
     "output_type": "stream",
     "text": [
      "value of stator frequency increased to f1b= 57.74 hertz\n"
     ]
    }
   ],
   "source": [
    "from math import sqrt\n",
    "f1a=50.0       #i n t i a l input frequency in hertz\n",
    "Ta=2000.0      #developing torque in induction motor in watts\n",
    "Tb=1500.0      #new value of torque reduced to in watts\n",
    "f1b=f1a*sqrt(Ta/Tb)         #value of stator frequency increased to in hertz\n",
    "f1b=round(f1b,2)\n",
    "print 'value of stator frequency increased to f1b=',f1b,'hertz'"
   ]
  },
  {
   "cell_type": "markdown",
   "metadata": {},
   "source": [
    "## Example 15.9,Pg.no.52"
   ]
  },
  {
   "cell_type": "code",
   "execution_count": 17,
   "metadata": {
    "collapsed": false
   },
   "outputs": [
    {
     "name": "stdout",
     "output_type": "stream",
     "text": [
      "firing angle starts from A1= 84.0 degrees\n",
      "firing angle ends at A2= 65.2 degrees\n",
      "input power factor=IPF= 0.0591\n",
      "distortion factor=Mh= 0.3379\n"
     ]
    }
   ],
   "source": [
    "from math import pi,sqrt\n",
    "Vom1=sqrt(2)*41.5            #starting rms value of output voltage\n",
    "Vom2=sqrt(2)*166             #ending rms value of output voltage\n",
    "V=415.0                      #operating voltage of cyclo converter\n",
    "A1=(math.acos(Vom1/(1.35*V)))*180/pi           #firing angle starts from\n",
    "A1=round(A1,1)\n",
    "print 'firing angle starts from A1=',A1,'degrees'\n",
    "A2=(math.acos(Vom2/(1.35*V)))*180/pi         #f i r i n g angle ends at \n",
    "A2=round(A2,1)\n",
    "print 'firing angle ends at A2=',A2,'degrees'\n",
    "PFl=0.8                                #load power factor\n",
    "IPF=math.cos(pi*7/15)*PFl/sqrt(2)      #input power factor\n",
    "DF=0.7                                 #input displacement factor\n",
    "IPF=round(IPF,4)\n",
    "print 'input power factor=IPF=',IPF\n",
    "Mh=math.cos(pi*0.3627)*PFl/(sqrt(2)*DF)\n",
    "Mh=round(Mh,4)\n",
    "print 'distortion factor=Mh=',Mh"
   ]
  },
  {
   "cell_type": "markdown",
   "metadata": {},
   "source": [
    "## Example 15.10,Pg.no.53"
   ]
  },
  {
   "cell_type": "code",
   "execution_count": 19,
   "metadata": {
    "collapsed": false
   },
   "outputs": [
    {
     "name": "stdout",
     "output_type": "stream",
     "text": [
      "trigger angle ranges fromA5= 83.99 degrees\n",
      "trigger angle ranges upto A51= 96.01 degrees\n",
      "highest value of input power factor=HIPF= 0.2\n",
      "lowest value of input power factor=LIPF= 0.07\n",
      "highest value of distortion factor=HDF= 0.27\n",
      "lowest value of distortion factor=LDF= 0.09\n"
     ]
    }
   ],
   "source": [
    "from math import sqrt,pi\n",
    "Vo5m=sqrt(2)*41.5          #rms value of output voltage\n",
    "V=415.0                    #operating voltage of cyclo converter\n",
    "A5=(math.acos(Vo5m/(1.35*V)))*180/pi          #trigger angle ranges from\n",
    "A5=round(A5,2)\n",
    "print 'trigger angle ranges fromA5=',A5,'degrees'\n",
    "A51=180.0-A5                #trigger angle ranges upto\n",
    "A51=round(A51,2)\n",
    "print 'trigger angle ranges upto A51=',A51,'degrees'\n",
    "LPF=0.9                     #load power factor\n",
    "CA15=0.3132                 #maximum cosine value corresponding to operating frequency 15hz\n",
    "HIPF=CA15*LPF/sqrt(2)       #highest value of input power factor\n",
    "HIPF=round(HIPF,2)\n",
    "print 'highest value of input power factor=HIPF=',HIPF\n",
    "LIPF=math.cos(A5*pi/180)*LPF/sqrt(2)         #lowest value of input power factor\n",
    "LIPF=round(LIPF,2)\n",
    "print 'lowest value of input power factor=LIPF=',LIPF\n",
    "IDF=0.75                                     #input displacement factor\n",
    "HDF=CA15*LPF/(sqrt(2)*IDF)                   #highest value of distortion factor\n",
    "HDF=round(HDF,2)\n",
    "print 'highest value of distortion factor=HDF=',HDF\n",
    "LDF=HDF*math.cos(A5*pi/180)/CA15             #lowest value of distortion factor\n",
    "LDF=round(LDF,2)\n",
    "print 'lowest value of distortion factor=LDF=',LDF"
   ]
  },
  {
   "cell_type": "markdown",
   "metadata": {},
   "source": [
    "## Example 15.11,Pg.no.54"
   ]
  },
  {
   "cell_type": "code",
   "execution_count": 22,
   "metadata": {
    "collapsed": false
   },
   "outputs": [
    {
     "name": "stdout",
     "output_type": "stream",
     "text": [
      "highest value of cosAm= 0.866\n",
      "laod power factor of cyclo converter= 0.817\n"
     ]
    }
   ],
   "source": [
    "import math\n",
    "from math import sqrt\n",
    "PFm=0.5              #highest value of input factor\n",
    "Am=3.14/6            #highest value of input powerfactor occurs at 30 degrees\n",
    "A=math.cos(Am)       #highest value of cosAm if firingangle ranging from 30 to 150\n",
    "A=round(A,3)\n",
    "print 'highest value of cosAm=',A\n",
    "PFl=(sqrt(2)*PFm)/A\n",
    "PFl=round(PFl,3)\n",
    "print 'laod power factor of cyclo converter=',PFl"
   ]
  },
  {
   "cell_type": "markdown",
   "metadata": {},
   "source": [
    "## Example 15.12,Pg.no.54"
   ]
  },
  {
   "cell_type": "code",
   "execution_count": 24,
   "metadata": {
    "collapsed": false
   },
   "outputs": [
    {
     "name": "stdout",
     "output_type": "stream",
     "text": [
      "input displacement factor= 0.857\n"
     ]
    }
   ],
   "source": [
    "import math\n",
    "PFi=0.6         #input powerfactor\n",
    "DF=0.7          #distortion factor\n",
    "IDF=PFi/DF      #input displacement factor\n",
    "IDF=round(IDF,3)\n",
    "print 'input displacement factor=',IDF"
   ]
  },
  {
   "cell_type": "markdown",
   "metadata": {},
   "source": [
    "## Example 15.13,Pg.no.54"
   ]
  },
  {
   "cell_type": "code",
   "execution_count": 26,
   "metadata": {
    "collapsed": false
   },
   "outputs": [
    {
     "name": "stdout",
     "output_type": "stream",
     "text": [
      "firing angle of cyclo converter drive=A= 81.0 degrees\n",
      "distortion factor=DF= 0.143\n"
     ]
    }
   ],
   "source": [
    "from math import sqrt\n",
    "PFi=0.1         #input powerfactor\n",
    "PFl=0.9         #load powerfactor\n",
    "A=(math.acos(sqrt(2)*PFi/PFl))*180/3.14         #firing angle indegrees\n",
    "A=round(A,2)\n",
    "print 'firing angle of cyclo converter drive=A=',A,'degrees'\n",
    "IDF=0.7         #leading input displacement factor\n",
    "DF=PFi/IDF      #distortion factor\n",
    "DF=round(DF,3)\n",
    "print 'distortion factor=DF=',DF"
   ]
  },
  {
   "cell_type": "markdown",
   "metadata": {},
   "source": [
    "## Example 15.14,Pg.no.55"
   ]
  },
  {
   "cell_type": "code",
   "execution_count": 27,
   "metadata": {
    "collapsed": false
   },
   "outputs": [
    {
     "name": "stdout",
     "output_type": "stream",
     "text": [
      "triggering angle of negative group=An= 150.0 degrees\n"
     ]
    }
   ],
   "source": [
    "import math\n",
    "Ap=30.0      #triggering angle of positive group in degrees\n",
    "An=180-Ap    #triggering angle of negative group in degrees\n",
    "print 'triggering angle of negative group=An=',An,'degrees'"
   ]
  },
  {
   "cell_type": "markdown",
   "metadata": {},
   "source": [
    "## Example 15.15,Pg.no.55"
   ]
  },
  {
   "cell_type": "code",
   "execution_count": 29,
   "metadata": {
    "collapsed": false
   },
   "outputs": [
    {
     "name": "stdout",
     "output_type": "stream",
     "text": [
      "input current to the converter=I= 100.362 amp\n"
     ]
    }
   ],
   "source": [
    "from math import pi,sqrt\n",
    "V=415.0         #input operating voltage of cycloconverter in volts\n",
    "Pi=50.0         #input power of the cycloconverter in KVA\n",
    "PF=0.8          #input power factor\n",
    "A=0.785         #firing angle in radians \n",
    "I=(Pi*1000*sqrt(2))/(3*V*PF*math.cos(A))      #input current to the converter in amp\n",
    "I=round(I,3)\n",
    "print 'input current to the converter=I=',I,'amp'"
   ]
  },
  {
   "cell_type": "markdown",
   "metadata": {},
   "source": [
    "## Example 15.16,Pg.no.56"
   ]
  },
  {
   "cell_type": "code",
   "execution_count": 31,
   "metadata": {
    "collapsed": false
   },
   "outputs": [
    {
     "name": "stdout",
     "output_type": "stream",
     "text": [
      "load power factor of motor=PF= 0.83\n"
     ]
    }
   ],
   "source": [
    "import math\n",
    "Vo=200.0          #input operating voltage of cycloconverter in volts\n",
    "Po=50*10**3       #input power of the cycloconverter in VA\n",
    "Io=100.0          #drawing current from motor in amp\n",
    "PF=Po/(3*Vo*Io)   #load power factor\n",
    "PF=round(PF,2)\n",
    "print 'load power factor of motor=PF=',PF"
   ]
  }
 ],
 "metadata": {
  "kernelspec": {
   "display_name": "Python 2",
   "language": "python",
   "name": "python2"
  },
  "language_info": {
   "codemirror_mode": {
    "name": "ipython",
    "version": 2
   },
   "file_extension": ".py",
   "mimetype": "text/x-python",
   "name": "python",
   "nbconvert_exporter": "python",
   "pygments_lexer": "ipython2",
   "version": "2.7.10"
  }
 },
 "nbformat": 4,
 "nbformat_minor": 0
}
