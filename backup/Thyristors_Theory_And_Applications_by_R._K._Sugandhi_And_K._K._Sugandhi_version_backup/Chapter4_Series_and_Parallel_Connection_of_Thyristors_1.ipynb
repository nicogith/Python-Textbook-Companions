{
 "cells": [
  {
   "cell_type": "markdown",
   "metadata": {},
   "source": [
    "# Chapter4 Series and Parallel Connection of Thyristors"
   ]
  },
  {
   "cell_type": "markdown",
   "metadata": {},
   "source": [
    "## Example 4.1,Pg.no 13"
   ]
  },
  {
   "cell_type": "code",
   "execution_count": 9,
   "metadata": {
    "collapsed": false
   },
   "outputs": [
    {
     "name": "stdout",
     "output_type": "stream",
     "text": [
      "Number of Devices in Series= 5.0\n",
      "Number of Devices in Parallel= 3.0\n"
     ]
    }
   ],
   "source": [
    "import math\n",
    "Vc=3500    #voltage rating of circuit\n",
    "Vt=750     #voltage rating of each thyristor\n",
    "Ic=1500    #current rating of circuit\n",
    "It=500     #current rating of each thyristor\n",
    "DF=0.1     #Derating factor of circuit\n",
    "Ns=Vc/(Vt*(1-DF))   #number of devices in series\n",
    "Ns=round(Ns,0)\n",
    "print 'Number of Devices in Series=',Ns\n",
    "Np=Ic/(It*(1-DF))   #number of devices in parallel\n",
    "Np=round(Np,0)\n",
    "print 'Number of Devices in Parallel=',Np"
   ]
  },
  {
   "cell_type": "markdown",
   "metadata": {},
   "source": [
    "## Example 4.2,Pg.no 13"
   ]
  },
  {
   "cell_type": "code",
   "execution_count": 10,
   "metadata": {
    "collapsed": false
   },
   "outputs": [
    {
     "name": "stdout",
     "output_type": "stream",
     "text": [
      "value of equivalent resistance=R= 20000.0 ohms\n",
      "value of equivalent capacitance=C1= 0.5 microfarads\n"
     ]
    }
   ],
   "source": [
    "import math\n",
    "Ed=20.0    #permissible difference in voltage across devices in Volts\n",
    "Id=1*10**-3   #maximum difference in latching current across devices in Amperes\n",
    "Qd=10.0          #difference in recovery charge in Micro coloumbs\n",
    "Vd=20.0         #permissible difference in blocking voltage in Volts\n",
    "R=Ed/Id       #equivalent resistance in Ohms\n",
    "R1=R\n",
    "print 'value of equivalent resistance=R=',R1,'ohms'\n",
    "C1=Qd/Vd   #equivalent capacitance in Micro farads\n",
    "print 'value of equivalent capacitance=C1=',C1,'microfarads'"
   ]
  }
 ],
 "metadata": {
  "kernelspec": {
   "display_name": "Python 2",
   "language": "python",
   "name": "python2"
  },
  "language_info": {
   "codemirror_mode": {
    "name": "ipython",
    "version": 2
   },
   "file_extension": ".py",
   "mimetype": "text/x-python",
   "name": "python",
   "nbconvert_exporter": "python",
   "pygments_lexer": "ipython2",
   "version": "2.7.10"
  }
 },
 "nbformat": 4,
 "nbformat_minor": 0
}
