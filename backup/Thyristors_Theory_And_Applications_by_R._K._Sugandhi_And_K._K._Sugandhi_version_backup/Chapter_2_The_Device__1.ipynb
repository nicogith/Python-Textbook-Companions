{
 "cells": [
  {
   "cell_type": "markdown",
   "metadata": {},
   "source": [
    "# Chapter 2 The Device"
   ]
  },
  {
   "cell_type": "markdown",
   "metadata": {},
   "source": [
    "## Example 2.1,Page number 7"
   ]
  },
  {
   "cell_type": "code",
   "execution_count": 9,
   "metadata": {
    "collapsed": false
   },
   "outputs": [
    {
     "name": "stdout",
     "output_type": "stream",
     "text": [
      "value of voltage safety factor= 2.56\n"
     ]
    }
   ],
   "source": [
    "from math import pi,sqrt\n",
    "import math \n",
    "Vpiv=1500                   # peak inverse voltage\n",
    "V=415                       # main supply\n",
    "Vf=Vpiv/(sqrt(2)*V)         # voltage safety factor\n",
    "Vf=round(Vf,2)\n",
    "print  'value of voltage safety factor=',Vf"
   ]
  },
  {
   "cell_type": "markdown",
   "metadata": {},
   "source": [
    "## Example 2.2,Page number 7"
   ]
  },
  {
   "cell_type": "code",
   "execution_count": 10,
   "metadata": {
    "collapsed": false
   },
   "outputs": [
    {
     "name": "stdout",
     "output_type": "stream",
     "text": [
      "value of peak inverse voltage= 683.07 volts\n"
     ]
    }
   ],
   "source": [
    "from math import pi,sqrt\n",
    "import math \n",
    "Vf=2.1                    # voltage safety factor \n",
    "V=230                     # main supply\n",
    "Vpiv=sqrt(2)*Vf*V         # peak inverse voltage\n",
    "Vpiv=round(Vpiv,2)\n",
    "print 'value of peak inverse voltage=',Vpiv,'volts'"
   ]
  },
  {
   "cell_type": "markdown",
   "metadata": {},
   "source": [
    "## Example 2.3,Page number 8"
   ]
  },
  {
   "cell_type": "code",
   "execution_count": 11,
   "metadata": {
    "collapsed": false
   },
   "outputs": [
    {
     "name": "stdout",
     "output_type": "stream",
     "text": [
      "value of capacitive current= 0.0045 Amp\n"
     ]
    }
   ],
   "source": [
    "import math \n",
    "C=30*10**-12                       # equivalent capacitance \n",
    "diffV=150*10**6                    # dv/dt value of capacitor\n",
    "Ic=C*(diffV)                       # capacitive current\n",
    "print 'value of capacitive current=',Ic,'Amp'"
   ]
  },
  {
   "cell_type": "markdown",
   "metadata": {},
   "source": [
    "## Example 2.4,Page number 8"
   ]
  },
  {
   "cell_type": "code",
   "execution_count": 12,
   "metadata": {
    "collapsed": false
   },
   "outputs": [
    {
     "name": "stdout",
     "output_type": "stream",
     "text": [
      "value of equivalent capacitance= 28.57 pico farad\n"
     ]
    }
   ],
   "source": [
    "import math \n",
    "Ic=5.0                      # capacitive current in milli amperes\n",
    "difV=175.0                  # dv/dt value in mega V/s\n",
    "C=Ic/(difV)*10**3         # equivalent capacitance in pico farad\n",
    "C=round(C,2)\n",
    "print 'value of equivalent capacitance=',C,'pico farad'"
   ]
  },
  {
   "cell_type": "markdown",
   "metadata": {},
   "source": [
    "## Example 2.5,Page number 8"
   ]
  },
  {
   "cell_type": "code",
   "execution_count": 13,
   "metadata": {
    "collapsed": false
   },
   "outputs": [
    {
     "name": "stdout",
     "output_type": "stream",
     "text": [
      "value of dv/dt= 240.0 Mv/s\n"
     ]
    }
   ],
   "source": [
    "import math \n",
    "Ic=6*10**-3             # capacitive current\n",
    "C=25*10**-12            # equivalent capacitance\n",
    "diffV=Ic/C              # dv/dt value of capacitor\n",
    "diffV=diffV/10**6\n",
    "print 'value of dv/dt=',diffV,'Mv/s'"
   ]
  },
  {
   "cell_type": "markdown",
   "metadata": {},
   "source": [
    "## Example 2.6,Page number 9"
   ]
  },
  {
   "cell_type": "code",
   "execution_count": 14,
   "metadata": {
    "collapsed": false
   },
   "outputs": [
    {
     "name": "stdout",
     "output_type": "stream",
     "text": [
      "value of dv/dt that can trigger the device= 142 V/microseconds\n"
     ]
    }
   ],
   "source": [
    "import math \n",
    "Ic=5              # capacitive current in milli amperes\n",
    "C=35              # equivalent capacitance in pico farad\n",
    "difV=Ic*10**3/C   # value of dv/dt that can trigger the device in V/ microseconds\n",
    "print  'value of dv/dt that can trigger the device=',difV,'V/microseconds'"
   ]
  },
  {
   "cell_type": "markdown",
   "metadata": {},
   "source": [
    "## Example 2.7,Page number 9"
   ]
  },
  {
   "cell_type": "code",
   "execution_count": 15,
   "metadata": {
    "collapsed": false
   },
   "outputs": [
    {
     "name": "stdout",
     "output_type": "stream",
     "text": [
      "value of voltage safety factor= 2.3 v\n"
     ]
    }
   ],
   "source": [
    "from math import sqrt\n",
    "import math \n",
    "Vpiv=1350            # peak inverse voltage in volts\n",
    "V=415                # main supply in volts\n",
    "Vf=Vpiv/(sqrt(2)*V)  # voltage safety factor\n",
    "Vf=round(Vf,2)\n",
    "print  'value of voltage safety factor=',Vf,'v'"
   ]
  }
 ],
 "metadata": {
  "kernelspec": {
   "display_name": "Python 2",
   "language": "python",
   "name": "python2"
  },
  "language_info": {
   "codemirror_mode": {
    "name": "ipython",
    "version": 2
   },
   "file_extension": ".py",
   "mimetype": "text/x-python",
   "name": "python",
   "nbconvert_exporter": "python",
   "pygments_lexer": "ipython2",
   "version": "2.7.10"
  }
 },
 "nbformat": 4,
 "nbformat_minor": 0
}
