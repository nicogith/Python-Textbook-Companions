{
 "metadata": {
  "name": "",
  "signature": ""
 },
 "nbformat": 3,
 "nbformat_minor": 0,
 "worksheets": [
  {
   "cells": [
    {
     "cell_type": "heading",
     "level": 1,
     "metadata": {},
     "source": [
      "Chapter 1 : Introduction to optical communication systems"
     ]
    },
    {
     "cell_type": "heading",
     "level": 2,
     "metadata": {},
     "source": [
      "Exa 1.1 : page no. 17"
     ]
    },
    {
     "cell_type": "code",
     "collapsed": false,
     "input": [
      "from sympy import *\n",
      "#Given data :\n",
      "epsilon_o, mu_o = symbols('epsilon_o, mu_o ')\n",
      "epsilon=2*epsilon_o \n",
      "mu=2*mu_o \n",
      "v=(1/sqrt(mu*epsilon)) \n",
      "print \"v =\",v,\"    ...eqn(1)\"\n",
      "c = 1/sqrt(epsilon_o*mu_o) # formula\n",
      "print \"c =\",c,\"        ...eqn(2)\"\n",
      "c=3*10**8 #speed of light in m/s\n",
      "v=c/2 #in m/s(from above 2 eqn)\n",
      "print \"These two equation gives,\"\n",
      "print \"Velocity of light in medium %0.1e m/s \" %v "
     ],
     "language": "python",
     "metadata": {},
     "outputs": [
      {
       "output_type": "stream",
       "stream": "stdout",
       "text": [
        "v = 1/(2*sqrt(epsilon_o*mu_o))     ...eqn(1)\n",
        "c = 1/sqrt(epsilon_o*mu_o)         ...eqn(2)\n",
        "These two equation gives,\n",
        "Velocity of light in medium 1.5e+08 m/s \n"
       ]
      }
     ],
     "prompt_number": 11
    },
    {
     "cell_type": "heading",
     "level": 2,
     "metadata": {},
     "source": [
      "Exa 1.2 : page no. 18"
     ]
    },
    {
     "cell_type": "code",
     "collapsed": false,
     "input": [
      "from math import asin, pi\n",
      "#Given data :\n",
      "n1=1.5 #refractive index\n",
      "n2=1.47 #refractive index\n",
      "#Formula : sin(theta_c)=n2/n1 \n",
      "theta_c=asin(n2/n1)*180/pi #in Degree\n",
      "print \"Critical Angle = %0.2f Degree\" %theta_c \n",
      "#Note : Answer in the book is wrong."
     ],
     "language": "python",
     "metadata": {},
     "outputs": [
      {
       "output_type": "stream",
       "stream": "stdout",
       "text": [
        "Critical Angle = 78.52 Degree\n"
       ]
      }
     ],
     "prompt_number": 12
    },
    {
     "cell_type": "heading",
     "level": 2,
     "metadata": {},
     "source": [
      "Exa 1.3 : page no. 18"
     ]
    },
    {
     "cell_type": "code",
     "collapsed": false,
     "input": [
      "from math import sin\n",
      "#Given data :\n",
      "n1=1.52 #refractive index\n",
      "#Formula : sin(theta_c)=n2/n1 \n",
      "theta_c=73.2 #in Degree\n",
      "n2=n1*sin(theta_c*pi/180) \n",
      "print \"Refractive Index of another medium = %0.2f\" %n2 "
     ],
     "language": "python",
     "metadata": {},
     "outputs": [
      {
       "output_type": "stream",
       "stream": "stdout",
       "text": [
        "Refractive Index of another medium = 1.46\n"
       ]
      }
     ],
     "prompt_number": 13
    },
    {
     "cell_type": "heading",
     "level": 2,
     "metadata": {},
     "source": [
      "Exa 1.4 : page no. 18"
     ]
    },
    {
     "cell_type": "code",
     "collapsed": false,
     "input": [
      "#Given data :\n",
      "n=1.33 #refractive index\n",
      "#Formula : velocity_of_light_in_medium=velocity_of_light_in_free_space/Refractive_Index \n",
      "c=3*10**8 #in m/s\n",
      "v=c/n #in m/s\n",
      "print \"velocity of light in medium = %0.2e m/s\" %v "
     ],
     "language": "python",
     "metadata": {},
     "outputs": [
      {
       "output_type": "stream",
       "stream": "stdout",
       "text": [
        "velocity of light in medium = 2.26e+08 m/s\n"
       ]
      }
     ],
     "prompt_number": 14
    },
    {
     "cell_type": "heading",
     "level": 2,
     "metadata": {},
     "source": [
      "Exa 1.5 : page no. 18"
     ]
    },
    {
     "cell_type": "code",
     "collapsed": false,
     "input": [
      "#Given data :\n",
      "c=3*10**8 #in m/s\n",
      "v=1.1*10**8 #in m/s\n",
      "#Formula : velocity_of_light_in_medium=velocity_of_light_in_free_space/Refractive_Index \n",
      "n=c/v #in m/s\n",
      "print \"Refractive Index of medium = %0.2f \" %n "
     ],
     "language": "python",
     "metadata": {},
     "outputs": [
      {
       "output_type": "stream",
       "stream": "stdout",
       "text": [
        "Refractive Index of medium = 2.73 \n"
       ]
      }
     ],
     "prompt_number": 15
    }
   ],
   "metadata": {}
  }
 ]
}
