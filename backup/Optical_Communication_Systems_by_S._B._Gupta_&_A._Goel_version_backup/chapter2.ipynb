{
 "metadata": {
  "name": "",
  "signature": ""
 },
 "nbformat": 3,
 "nbformat_minor": 0,
 "worksheets": [
  {
   "cells": [
    {
     "cell_type": "heading",
     "level": 1,
     "metadata": {},
     "source": [
      "Chapter2 : Optical fiber & its types"
     ]
    },
    {
     "cell_type": "heading",
     "level": 2,
     "metadata": {},
     "source": [
      "Exa 2.1 : page 35"
     ]
    },
    {
     "cell_type": "code",
     "collapsed": false,
     "input": [
      "#Given data :\n",
      "n1=1.40 #refractive index\n",
      "delta=1.0 #relative refractive index difference in %\n",
      "#Formula : n2/n1=1-delta\n",
      "n2=n1*(1-delta/100) #refractive index(unitless)\n",
      "print \"Refractive index of cladding = %0.3f \" %n2 "
     ],
     "language": "python",
     "metadata": {},
     "outputs": [
      {
       "output_type": "stream",
       "stream": "stdout",
       "text": [
        "Refractive index of cladding = 1.386 \n"
       ]
      }
     ],
     "prompt_number": 3
    },
    {
     "cell_type": "heading",
     "level": 2,
     "metadata": {},
     "source": [
      "Exa 2.2 : page 35"
     ]
    },
    {
     "cell_type": "code",
     "collapsed": false,
     "input": [
      "from math import *\n",
      "#Given data :\n",
      "n1=1.50 #refractive index\n",
      "n2=1.47 #refractive index\n",
      "#Formula : sin(theta_C)=n2/n1 \n",
      "theta_c=asin(n2/n1)*180/pi #in degree\n",
      "print \"Critical Angle at core cladding interface = %0.1f Degree \" %theta_c "
     ],
     "language": "python",
     "metadata": {},
     "outputs": [
      {
       "output_type": "stream",
       "stream": "stdout",
       "text": [
        "Critical Angle at core cladding interface = 78.5 Degree \n"
       ]
      }
     ],
     "prompt_number": 5
    },
    {
     "cell_type": "heading",
     "level": 2,
     "metadata": {},
     "source": [
      "Exa 2.3 : page 35"
     ]
    },
    {
     "cell_type": "code",
     "collapsed": false,
     "input": [
      "from math import *\n",
      "#Given data :\n",
      "delta=1.0 #relative refractive index difference in %\n",
      "n1=1.50 #refractive index\n",
      "#Formula : NA=n1*sqrt(2*delta) \n",
      "NA=n1*sqrt(2*delta/100) \n",
      "print \"Numerical Aperture of the fibre = %0.3f \" %NA "
     ],
     "language": "python",
     "metadata": {},
     "outputs": [
      {
       "output_type": "stream",
       "stream": "stdout",
       "text": [
        "Numerical Aperture of the fibre = 0.212 \n"
       ]
      }
     ],
     "prompt_number": 5
    },
    {
     "cell_type": "heading",
     "level": 2,
     "metadata": {},
     "source": [
      "Exa 2.4 : page 35"
     ]
    },
    {
     "cell_type": "code",
     "collapsed": false,
     "input": [
      "from math import *\n",
      "#Given data :\n",
      "delta=1 #relative refractive index difference in %\n",
      "n1=1.55 #refractive index\n",
      "n2=1.51 #refractive index\n",
      "#Formula : NA=sqrt(n1**2-n2**2) \n",
      "NA=sqrt(n1**2-n2**2)\n",
      "print \"Numerical Aperture of the fibre = %0.2f \" %NA \n",
      "#Formula : NA=sin(fi_o).....(max)\n",
      "fi_o_max=asin(NA)*180/pi #in Degree\n",
      "print \"Acceptance angle = %0.1f degree \" %fi_o_max "
     ],
     "language": "python",
     "metadata": {},
     "outputs": [
      {
       "output_type": "stream",
       "stream": "stdout",
       "text": [
        "Numerical Aperture of the fibre = 0.35 \n",
        "Acceptance angle = 20.5 degree \n"
       ]
      }
     ],
     "prompt_number": 6
    },
    {
     "cell_type": "heading",
     "level": 2,
     "metadata": {},
     "source": [
      "Exa 2.5 : page 36"
     ]
    },
    {
     "cell_type": "code",
     "collapsed": false,
     "input": [
      "from math import *\n",
      "#Given data :\n",
      "NA=0.40 #Unitless\n",
      "n1=1.50 #refractive index\n",
      "delta=1 #relative refractive index difference in %\n",
      "#Part (a) :\n",
      "#Formula : NA=sin(fi_o).....(max)\n",
      "fi_o_max=asin(NA)*180/pi #in Degree\n",
      "print \"(a) Acceptance angle = %0.1f degree \" %fi_o_max \n",
      "#Part (b) :\n",
      "#Formula : n2/n1=1-delta\n",
      "n2=n1*(1-delta/100) #refractive index(unitless)\n",
      "#Formula : sin(theta_C)=n2/n1 \n",
      "theta_c=asin((n2/n1))*180/pi #in degree\n",
      "print \"(b) Critical Angle at core cladding interface = %0.1f Degree  \" %theta_c "
     ],
     "language": "python",
     "metadata": {},
     "outputs": [
      {
       "output_type": "stream",
       "stream": "stdout",
       "text": [
        "(a) Acceptance angle = 23.6 degree \n",
        "(b) Critical Angle at core cladding interface = 81.9 Degree  \n"
       ]
      }
     ],
     "prompt_number": 12
    },
    {
     "cell_type": "heading",
     "level": 2,
     "metadata": {},
     "source": [
      "Exa 2.6 : page 36"
     ]
    },
    {
     "cell_type": "code",
     "collapsed": false,
     "input": [
      "from math import *\n",
      "#Given data :\n",
      "v=2*10**8 #in m/s\n",
      "fi_c=60 #in degree\n",
      "#Part (a)\n",
      "#Formula : v=c/n \n",
      "c=3*10**8 #in m/s\n",
      "n1=c/v #unitless\n",
      "print \"(a) Refractive index of core = %0.2f \" %n1 \n",
      "#Formula : sin(fi_c)=n2/n1 \n",
      "n2=n1*sin(fi_c*pi/180) #unitless\n",
      "print \"  & Refractive index of cladding = %0.2f \" %n2 \n",
      "#Part (b)\n",
      "NA=sqrt(n1**2-n2**2) #Unitless\n",
      "print \"(b) Numerical Aperture = %0.2f \" %NA "
     ],
     "language": "python",
     "metadata": {},
     "outputs": [
      {
       "output_type": "stream",
       "stream": "stdout",
       "text": [
        "(a) Refractive index of core = 1.50 \n",
        "  & Refractive index of cladding = 1.30 \n",
        "(b) Numerical Aperture = 0.75 \n"
       ]
      }
     ],
     "prompt_number": 15
    },
    {
     "cell_type": "heading",
     "level": 2,
     "metadata": {},
     "source": [
      "Exa 2.7 : page 37"
     ]
    },
    {
     "cell_type": "code",
     "collapsed": false,
     "input": [
      "from math import *\n",
      "#Given data :\n",
      "d=30 #in um\n",
      "a=d/2 #in um\n",
      "lamda=0.80 #in um\n",
      "NA=0.74 #Unitless\n",
      "V=2*pi*a*NA/lamda #V number\n",
      "print \"V number = %0.1f \" %V "
     ],
     "language": "python",
     "metadata": {},
     "outputs": [
      {
       "output_type": "stream",
       "stream": "stdout",
       "text": [
        "V number = 87.2 \n"
       ]
      }
     ],
     "prompt_number": 17
    },
    {
     "cell_type": "heading",
     "level": 2,
     "metadata": {},
     "source": [
      "Exa 2.8 : page 37"
     ]
    },
    {
     "cell_type": "code",
     "collapsed": false,
     "input": [
      "#Given data :\n",
      "d=60 #in um\n",
      "a=d/2 #in um\n",
      "delta=1 #relative refractive index difference in %\n",
      "lamda=0.80 #in um\n",
      "n1=1.5 #Unitless\n",
      "#Part (a)\n",
      "#Formula : v=2*pi*a*n1*NA/lambda \n",
      "#NA=sqrt(2*delta)\n",
      "v=2*pi*a*n1*sqrt(2*delta/100)/lamda #Normalized frequency\n",
      "print \"(a) Normalized frequency for the fiber = %0.2f \" %v \n",
      "#Part (b)\n",
      "print \"(b) Only the modes with cut-off v numbers below this value will propagate.\" \n",
      "N=v**2/2 #No. of modes supported\n",
      "print \"    Number of modes supported = %0.f \" %round(N) \n",
      "#Note : Answer in the book is wrong."
     ],
     "language": "python",
     "metadata": {},
     "outputs": [
      {
       "output_type": "stream",
       "stream": "stdout",
       "text": [
        "(a) Normalized frequency for the fiber = 49.98 \n",
        "(b) Only the modes with cut-off v numbers below this value will propagate.\n",
        "    Number of modes supported = 1249 \n"
       ]
      }
     ],
     "prompt_number": 20
    },
    {
     "cell_type": "heading",
     "level": 2,
     "metadata": {},
     "source": [
      "Exa 2.9 : page 38"
     ]
    },
    {
     "cell_type": "code",
     "collapsed": false,
     "input": [
      "#Given data :\n",
      "NA=0.16 #Unitless\n",
      "d=30 #in um\n",
      "a=d/2 #in um\n",
      "n1=1.50 #Unitless\n",
      "lamda=0.9 #in um\n",
      "v=2*pi*a*NA/lamda #V number\n",
      "N=v**2/2 #No. of modes propagate\n",
      "print \"Number of guided modes in the fibre = %0.f \" %ceil(N) "
     ],
     "language": "python",
     "metadata": {},
     "outputs": [
      {
       "output_type": "stream",
       "stream": "stdout",
       "text": [
        "Number of guided modes in the fibre = 141 \n"
       ]
      }
     ],
     "prompt_number": 21
    },
    {
     "cell_type": "heading",
     "level": 2,
     "metadata": {},
     "source": [
      "Exa 2.10 : page 38"
     ]
    },
    {
     "cell_type": "code",
     "collapsed": false,
     "input": [
      "#Given data :\n",
      "fi_o=22 #in Degree\n",
      "delta=3 #relative refractive index difference in %\n",
      "#Part (a) :\n",
      "#Formula : NA=sin(fi_o).....(max)\n",
      "NA=sin(fi_o*pi/180) #Numerical Aperture(Unitless)\n",
      "print \"(a) Numerical Aperture = %0.3f \" %NA \n",
      "#Part (b) :\n",
      "#Formula : n2/n1=1-delta\n",
      "#Let say, n2/n1=n2byn1\n",
      "n2byn1=(1-delta/100) #refractive index(unitless)\n",
      "#Formula : sin(fi_C)=n2/n1 \n",
      "fi_c=asin(n2byn1)*180/pi #in degree\n",
      "print \"(b) Critical Angle at core cladding interface = %0.2f Degree \" %fi_c"
     ],
     "language": "python",
     "metadata": {},
     "outputs": [
      {
       "output_type": "stream",
       "stream": "stdout",
       "text": [
        "(a) Numerical Aperture = 0.375 \n",
        "(b) Critical Angle at core cladding interface = 75.93 Degree \n"
       ]
      }
     ],
     "prompt_number": 23
    },
    {
     "cell_type": "heading",
     "level": 2,
     "metadata": {},
     "source": [
      "Exa 2.11 : page 38"
     ]
    },
    {
     "cell_type": "code",
     "collapsed": false,
     "input": [
      "#Given data :\n",
      "delta=0.45 #relative refractive index difference in %\n",
      "fi_o=0.115 #in Radian\n",
      "c=3*10**8 #speed of light in m/s\n",
      "#Formula : NA=sin(fi_o).....(max)\n",
      "NA=sin(fi_o) #Numerical Aperture(Unitless)\n",
      "#Formula : NA=n1*sqrt(2*delta)\n",
      "n1=NA/sqrt(2*delta/100) #unitless\n",
      "#Formula : n1=c/v \n",
      "v=c/n1 #in m/s\n",
      "print \"Speed of light in fibre core is %0.2e \"%round(v,3),\"m/s\" "
     ],
     "language": "python",
     "metadata": {},
     "outputs": [
      {
       "output_type": "stream",
       "stream": "stdout",
       "text": [
        "Speed of light in fibre core is 2.48e+08  m/s\n"
       ]
      }
     ],
     "prompt_number": 24
    },
    {
     "cell_type": "heading",
     "level": 2,
     "metadata": {},
     "source": [
      "Exa 2.12 : page 39"
     ]
    },
    {
     "cell_type": "code",
     "collapsed": false,
     "input": [
      "#Given data :\n",
      "n1=1.5 #Unitless\n",
      "delta=1 #relative refractive index difference in %\n",
      "lamda=1.3 #in um\n",
      "N=1100 #No. of modes\n",
      "#Formula : v=2*pi*a*n1*NA/lamda \n",
      "#NA=sqrt(2*delta)\n",
      "#v=sqrt(2*N)\n",
      "a=(sqrt(2*N)*lamda)/(2*pi*n1*sqrt(2*delta/100)) #Normalized frequency\n",
      "print \"Diameter of the fiber core = %0.1f micro meter\" %(2*a)"
     ],
     "language": "python",
     "metadata": {},
     "outputs": [
      {
       "output_type": "stream",
       "stream": "stdout",
       "text": [
        "Diameter of the fiber core = 91.5 micro meter\n"
       ]
      }
     ],
     "prompt_number": 26
    },
    {
     "cell_type": "heading",
     "level": 2,
     "metadata": {},
     "source": [
      "Exa 2.13 : page 40"
     ]
    },
    {
     "cell_type": "code",
     "collapsed": false,
     "input": [
      "#Given data :\n",
      "n1=1.52 #unitless\n",
      "fi_o=8 #in Degree\n",
      "#Formula : sin(fi_o)=n1*sqrt(2*delta)\n",
      "delta=(sin(fi_o*pi/180)/n1)**2/2 #Relative refractive index\n",
      "print \"The value of relative refractive index difference =\",round(delta*100,2),\"%\" "
     ],
     "language": "python",
     "metadata": {},
     "outputs": [
      {
       "output_type": "stream",
       "stream": "stdout",
       "text": [
        "The value of relative refractive index difference = 0.42 %\n"
       ]
      }
     ],
     "prompt_number": 27
    },
    {
     "cell_type": "heading",
     "level": 2,
     "metadata": {},
     "source": [
      "Exa 2.14 : page 40"
     ]
    },
    {
     "cell_type": "code",
     "collapsed": false,
     "input": [
      "#Given data :\n",
      "N=700 #No. of modes\n",
      "d=30 #in um\n",
      "a=d/2 #in um\n",
      "NA=0.62 #Numerical Aperture\n",
      "#Formula : v=2*sqrt(N) and v=2*pi*a*NA/lamda\n",
      "lamda=2*pi*a*NA/(2*sqrt(N)) #in um\n",
      "print \"Wavelength of light propagating in fibre = %0.2f micro meter\" %lamda "
     ],
     "language": "python",
     "metadata": {},
     "outputs": [
      {
       "output_type": "stream",
       "stream": "stdout",
       "text": [
        "Wavelength of light propagating in fibre = 1.10 micro meter\n"
       ]
      }
     ],
     "prompt_number": 28
    },
    {
     "cell_type": "heading",
     "level": 2,
     "metadata": {},
     "source": [
      "Exa 2.15 : page 40"
     ]
    },
    {
     "cell_type": "code",
     "collapsed": false,
     "input": [
      "#Given data :\n",
      "n1=1.5 #unitless\n",
      "alfa=2 #characteristic index profile\n",
      "d=40 #in um\n",
      "a=d/2 #in um\n",
      "#Part (a) :\n",
      "lamda=1.3 #in um\n",
      "delta=1 \n",
      "#Formula : v=2*pi*a*NA/lamda=2*pi*a*(n1*sqrt(2*delta))/lamda\n",
      "v=2*pi*a*(n1*sqrt(2*delta/100))/lamda #Unitless\n",
      "print \"(a) Normalized Frequency for single mode transmission = %0.1f \" %v \n",
      "#Part (b) :\n",
      "#Formula : N=(alfa/alfa+2)*(v**2/2)\n",
      "N=(alfa/(alfa+2))*(v**2/2) #No. of guided modes\n",
      "print \"(b) No. of guided modes propagating in the fibre = %d \" %N "
     ],
     "language": "python",
     "metadata": {},
     "outputs": [
      {
       "output_type": "stream",
       "stream": "stdout",
       "text": [
        "(a) Normalized Frequency for single mode transmission = 20.5 \n",
        "(b) No. of guided modes propagating in the fibre = 105 \n"
       ]
      }
     ],
     "prompt_number": 30
    },
    {
     "cell_type": "heading",
     "level": 2,
     "metadata": {},
     "source": [
      "Exa 2.16 : page 41"
     ]
    },
    {
     "cell_type": "code",
     "collapsed": false,
     "input": [
      "#Given data :\n",
      "d=60 #in um\n",
      "a=d/2 #in um\n",
      "NA=0.25 #Unitless\n",
      "lamda=1.1 #in um\n",
      "v=2*pi*a*NA/lamda #unitless\n",
      "N=v**2/4 #No. of modes\n",
      "print \"Number of supported guided modes = %d\" %N "
     ],
     "language": "python",
     "metadata": {},
     "outputs": [
      {
       "output_type": "stream",
       "stream": "stdout",
       "text": [
        "Number of supported guided modes = 458\n"
       ]
      }
     ],
     "prompt_number": 31
    },
    {
     "cell_type": "heading",
     "level": 2,
     "metadata": {},
     "source": [
      "Exa 2.17  :page 40"
     ]
    },
    {
     "cell_type": "code",
     "collapsed": false,
     "input": [
      "#Given data :\n",
      "d=10 #in um\n",
      "a=d/2 #in um\n",
      "lamda_c=1.3 #in um\n",
      "n1=1.55 #unitless\n",
      "#Part (a)\n",
      "#for single mode transmission cut-off wavelength is lamda_c=2*pi*a*n1*sqrt(2*delta)/2.405\n",
      "delta=(lamda_c*2.405/(2*pi*a*n1))**2/2 #unitless\n",
      "print \"(a) Normalized refractive index difference = %0.5f %% \" %delta \n",
      "#Part (b) \n",
      "#Formula : n2/n1=delta\n",
      "n2=n1*(1-delta) \n",
      "print \"(b) Refractive index of cladding glass = %0.3f \" %n2 \n",
      "#Part (c) :\n",
      "fi_o=asin(n1*sqrt(2*delta))*180/pi #in degree\n",
      "print \"(c) Acceptance angle = %0.1f degree \" %fi_o"
     ],
     "language": "python",
     "metadata": {},
     "outputs": [
      {
       "output_type": "stream",
       "stream": "stdout",
       "text": [
        "(a) Normalized refractive index difference = 0.00206 % \n",
        "(b) Refractive index of cladding glass = 1.547 \n",
        "(c) Acceptance angle = 5.7 degree \n"
       ]
      }
     ],
     "prompt_number": 35
    },
    {
     "cell_type": "heading",
     "level": 2,
     "metadata": {},
     "source": [
      "Exa 2.18 : page 42"
     ]
    },
    {
     "cell_type": "code",
     "collapsed": false,
     "input": [
      "#Given data :\n",
      "d=7 #in um\n",
      "a=d/2 #in um\n",
      "n1=1.49 #unitless\n",
      "delta=1 #relative refractive index difference in %\n",
      "#Part (a)\n",
      "#Formula : lamda_c=2*pi*a*n1*sqrt(2*delta)/2.405 \n",
      "lamda_c=2*pi*a*n1*sqrt(2*delta/100)/2.405 #in um\n",
      "print \"(a) Shortest wavelength of the light = %0.2f micro meter \" %lamda_c \n",
      "#Part (b) \n",
      "#Formula : delta=(1/2)*{2.405*lamda_c/(2*pi*a*n1)}**2\n",
      "d=10 #in um\n",
      "a=d/2 #in um\n",
      "delta=(1/2)*(2.405*lamda_c/(2*pi*a*n1))**2 #unitless\n",
      "print \"(b) Maximum possible relative refractive index difference = %0.2f %% \"  %(delta*100)"
     ],
     "language": "python",
     "metadata": {},
     "outputs": [
      {
       "output_type": "stream",
       "stream": "stdout",
       "text": [
        "(a) Shortest wavelength of the light = 1.93 micro meter \n",
        "(b) Maximum possible relative refractive index difference = 0.49 % \n"
       ]
      }
     ],
     "prompt_number": 36
    },
    {
     "cell_type": "heading",
     "level": 2,
     "metadata": {},
     "source": [
      "Exa 2.19 : page 42"
     ]
    },
    {
     "cell_type": "code",
     "collapsed": false,
     "input": [
      "#Given data :\n",
      "n1=1.49 #unitless\n",
      "n2=1.48 #unitless\n",
      "lamda_c=1.5 #in um\n",
      "#Formula : a=2.405*lamda_c/(2*pi*sqrt(n1**2-n2**2))\n",
      "a=2.405*lamda_c/(2*pi*sqrt(n1**2-n2**2)) #in um\n",
      "print \"Fibre core diameter = %0.2f micro meter\" %(2*a)"
     ],
     "language": "python",
     "metadata": {},
     "outputs": [
      {
       "output_type": "stream",
       "stream": "stdout",
       "text": [
        "Fibre core diameter = 6.66 micro meter\n"
       ]
      }
     ],
     "prompt_number": 37
    },
    {
     "cell_type": "heading",
     "level": 2,
     "metadata": {},
     "source": [
      "Exa 2.20 : page 43"
     ]
    },
    {
     "cell_type": "code",
     "collapsed": false,
     "input": [
      "#Given data :\n",
      "N=742 #No. of guided modes(unitless)\n",
      "n1=1.5 #unitlessnm\n",
      "alfa=2 #characteristic index profile\n",
      "NA=0.3 #unitless\n",
      "d=70 #in um\n",
      "a=d/2 #in um\n",
      "alfa=2 #Graded index profile for parabolic\n",
      "#Formula : N=(alfa/(alfa+2))/(v**2/2)\n",
      "v=sqrt(N*((alfa+2)/alfa)*2) #Unitless\n",
      "#Formula : v=2*pi*a*NA/lambda\n",
      "lamda=2*pi*a*NA/v #in um\n",
      "print \"Wavelength of light propagating in fibre = %0.2f micro meter \" %(lamda)\n",
      "#Formula : lambvda_c=lambda=2*pi*a*NA/(2.405*(sqrt((alfa+2)/alfa)))\n",
      "a=lamda*(2.405*(sqrt((alfa+2)/alfa)))/(2*pi*NA) #in um\n",
      "print \"Diameter of fibre = %0.2f micro meter \" %(2*a) \n",
      "#Note : Answer in the book is not accurate."
     ],
     "language": "python",
     "metadata": {},
     "outputs": [
      {
       "output_type": "stream",
       "stream": "stdout",
       "text": [
        "Wavelength of light propagating in fibre = 1.21 micro meter \n",
        "Diameter of fibre = 4.37 micro meter \n"
       ]
      }
     ],
     "prompt_number": 38
    },
    {
     "cell_type": "heading",
     "level": 2,
     "metadata": {},
     "source": [
      "Exa 2.21 : page 44"
     ]
    },
    {
     "cell_type": "code",
     "collapsed": false,
     "input": [
      "#Given data :\n",
      "n1=1.447 #unitless\n",
      "n2=1.442 #unitless\n",
      "lamda=1.3 #in um\n",
      "d=7.2 #in um\n",
      "a=d/2 #in um\n",
      "#Formula : v=2*pi*a*sqrt(n1**2-n2**2)/lambda\n",
      "v=2*pi*a*sqrt(n1**2-n2**2)/lamda #unitless\n",
      "print \"Value of v = %0.3f \" %v"
     ],
     "language": "python",
     "metadata": {},
     "outputs": [
      {
       "output_type": "stream",
       "stream": "stdout",
       "text": [
        "Value of v = 2.091 \n"
       ]
      }
     ],
     "prompt_number": 41
    },
    {
     "cell_type": "heading",
     "level": 2,
     "metadata": {},
     "source": [
      "Exa 2.23 : page 44"
     ]
    },
    {
     "cell_type": "code",
     "collapsed": false,
     "input": [
      "#Given data :\n",
      "alfa=1.9 \n",
      "#characteristic index profile\n",
      "#Formula : v=2.405*sqrt[(alfa+2)/alfa]\n",
      "v=2.405*sqrt((alfa+2)/alfa) #unitless\n",
      "print \"Value of v = %0.2f \" %v\n",
      "#Note : Answer in the book is not accurate."
     ],
     "language": "python",
     "metadata": {},
     "outputs": [
      {
       "output_type": "stream",
       "stream": "stdout",
       "text": [
        "Value of v = 3.45 \n"
       ]
      }
     ],
     "prompt_number": 42
    },
    {
     "cell_type": "heading",
     "level": 2,
     "metadata": {},
     "source": [
      "Exa 2.24 : page 45"
     ]
    },
    {
     "cell_type": "code",
     "collapsed": false,
     "input": [
      "from sympy import *\n",
      "a = symbols('a')\n",
      "#Given data :\n",
      "delta=1 #relative refractive index difference in %\n",
      "n1=1.47 #unitless\n",
      "lamda=1.5 #in um\n",
      "alfa=2 #unitless\n",
      "v1 = 2*pi*a*n1*sqrt(2*delta/100)/lamda  # eqn(1)\n",
      "v2 = 2.405*sqrt((2+alfa)/alfa)  # eqn(2)\n",
      "a = solve(v1-v2,a)  # in um\n",
      "d = 2*a[0] # diameter in um\n",
      "print \"The diameter = %0.1f micro meter \" %d"
     ],
     "language": "python",
     "metadata": {},
     "outputs": [
      {
       "output_type": "stream",
       "stream": "stdout",
       "text": [
        "The diameter = 7.8 micro meter \n"
       ]
      }
     ],
     "prompt_number": 49
    },
    {
     "cell_type": "heading",
     "level": 2,
     "metadata": {},
     "source": [
      "Exa 2.25 : page 45"
     ]
    },
    {
     "cell_type": "code",
     "collapsed": false,
     "input": [
      "#Given data :\n",
      "delta=1 #relative refractive index difference in %\n",
      "n1=1.47 #unitless\n",
      "lamda=1.5 #in um\n",
      "alfa=2 #unitless\n",
      "#Formula : v=2*pi*a*n1*sqrt(2*delta)/lambda\n",
      "a=2.405*lamda/(2*pi*n1*sqrt(2*delta/100)) \n",
      "print \"The diameter = %0.2f micro meter \" %(2*a)"
     ],
     "language": "python",
     "metadata": {},
     "outputs": [
      {
       "output_type": "stream",
       "stream": "stdout",
       "text": [
        "The diameter = 5.52 micro meter \n"
       ]
      }
     ],
     "prompt_number": 50
    }
   ],
   "metadata": {}
  }
 ]
}
