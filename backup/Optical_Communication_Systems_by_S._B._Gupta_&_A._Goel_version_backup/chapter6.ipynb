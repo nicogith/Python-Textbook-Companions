{
 "metadata": {
  "name": "",
  "signature": ""
 },
 "nbformat": 3,
 "nbformat_minor": 0,
 "worksheets": [
  {
   "cells": [
    {
     "cell_type": "heading",
     "level": 1,
     "metadata": {},
     "source": [
      "Chapter 6 - LED light source"
     ]
    },
    {
     "cell_type": "heading",
     "level": 2,
     "metadata": {},
     "source": [
      "Exa 6.1 : page no. 113"
     ]
    },
    {
     "cell_type": "code",
     "collapsed": false,
     "input": [
      "from __future__ import division\n",
      "#given data :\n",
      "Tr=40 #in ns\n",
      "Tnr=90 #in ns\n",
      "T=Tr*Tnr/(Tr+Tnr) #in ns\n",
      "print \"Bulk recombination life-time = %0.1f nano second \" %T\n",
      "ETAint=(T/Tr)*100 #in %\n",
      "print \"Internal Quantum Efficiency = %0.f %% \"  % ETAint"
     ],
     "language": "python",
     "metadata": {},
     "outputs": [
      {
       "output_type": "stream",
       "stream": "stdout",
       "text": [
        "Bulk recombination life-time = 27.7 nano second \n",
        "Internal Quantum Efficiency = 69 % \n"
       ]
      }
     ],
     "prompt_number": 2
    },
    {
     "cell_type": "heading",
     "level": 2,
     "metadata": {},
     "source": [
      "Exa 6.2 : page no. 113"
     ]
    },
    {
     "cell_type": "code",
     "collapsed": false,
     "input": [
      "#given data :\n",
      "lamda=1310 #in nm\n",
      "lamda=lamda*10**-9 #in meter\n",
      "ETAint=70 #in %\n",
      "I=50 #in mA\n",
      "I=I*10**-3 #in A\n",
      "h=6.63*10**-34 #constant\n",
      "c=3*10**8 #speed of light in m/s\n",
      "q=1.6*10**-19 #in coulamb\n",
      "Pint=(ETAint/100)*I*h*c/(q*lamda) #in Watts\n",
      "print \"Internally generated optical power = %0.1f mW \" %(Pint*10**3) "
     ],
     "language": "python",
     "metadata": {},
     "outputs": [
      {
       "output_type": "stream",
       "stream": "stdout",
       "text": [
        "Internally generated optical power = 33.2 mW \n"
       ]
      }
     ],
     "prompt_number": 4
    },
    {
     "cell_type": "heading",
     "level": 2,
     "metadata": {},
     "source": [
      "Exa 6.3 : page no. 114"
     ]
    },
    {
     "cell_type": "code",
     "collapsed": false,
     "input": [
      "#given data : \n",
      "Pint=28.4 #in mw\n",
      "Pint=Pint*10**-3 #in Watts\n",
      "I=60 #in mA\n",
      "I=I*10**-3 #in A\n",
      "h=6.63*10**-34 #constant\n",
      "c=3*10**8 #speed of light in m/s\n",
      "q=1.6*10**-19 #in coulamb\n",
      "#Tr=Tnr\n",
      "#Formula : Pint=(Tnr/(Tr+Tnr))*(I*h*c/(q*lambda))\n",
      "#as Tr=Tnr : (Tnr/(Tr+Tnr))=1/2\n",
      "lamda=(1/2)*(I*h*c/(q*Pint)) #in m\n",
      "print \"Peak emission wavelength from the device = %0.3f micro meter \"  %(lamda*10**6)"
     ],
     "language": "python",
     "metadata": {},
     "outputs": [
      {
       "output_type": "stream",
       "stream": "stdout",
       "text": [
        "Peak emission wavelength from the device = 1.313 micro meter \n"
       ]
      }
     ],
     "prompt_number": 6
    },
    {
     "cell_type": "heading",
     "level": 2,
     "metadata": {},
     "source": [
      "Exa 6.4 : page no. 114"
     ]
    },
    {
     "cell_type": "code",
     "collapsed": false,
     "input": [
      "#given data :\n",
      "L=20 #in um\n",
      "L=L*10**-6 #in meter\n",
      "Tr=80 #in ns\n",
      "Tnr=80 #in ns\n",
      "tau=Tr*Tnr/(Tr+Tnr) #in ns\n",
      "#Formula : L=(D*tau)**(1/2)\n",
      "D=(L**2)/(tau*10**-9) #in m**2-s**-1\n",
      "print \"Diffusion Coefficient of LED = %0.2f m^2-s^-1 \" %D"
     ],
     "language": "python",
     "metadata": {},
     "outputs": [
      {
       "output_type": "stream",
       "stream": "stdout",
       "text": [
        "Diffusion Coefficient of LED = 0.01 m^2-s^-1 \n"
       ]
      }
     ],
     "prompt_number": 7
    },
    {
     "cell_type": "heading",
     "level": 2,
     "metadata": {},
     "source": [
      "Exa 6.5 : page no. 115"
     ]
    },
    {
     "cell_type": "code",
     "collapsed": false,
     "input": [
      "from math import *\n",
      "#given data :\n",
      "EBW=50 #MHz in 3dB\n",
      "#Formula : EBW(3dB)=OpticalBW(3dB)/sqrt(2)\n",
      "OpticalBW=sqrt(2)*EBW #in 3dB\n",
      "print \"3dB Optical Bandwidth = %0.1f MHz  \" %OpticalBW "
     ],
     "language": "python",
     "metadata": {},
     "outputs": [
      {
       "output_type": "stream",
       "stream": "stdout",
       "text": [
        "3dB Optical Bandwidth = 70.7 MHz  \n"
       ]
      }
     ],
     "prompt_number": 9
    },
    {
     "cell_type": "heading",
     "level": 2,
     "metadata": {},
     "source": [
      "Exa 6.6 : page no. 115"
     ]
    },
    {
     "cell_type": "code",
     "collapsed": false,
     "input": [
      "#given data :\n",
      "tau=5 #in ns\n",
      "# 1/((1+omega*tau)**2)**(1/2) = 1/2\n",
      "#Formula :omega=2*pi*F \n",
      "F=sqrt(3)/(2*pi*tau*10**-9) #in Hz\n",
      "print \"Optical Modulation Bandwidth = %0.f MHz \" %(F*10**-6)  "
     ],
     "language": "python",
     "metadata": {},
     "outputs": [
      {
       "output_type": "stream",
       "stream": "stdout",
       "text": [
        "Optical Modulation Bandwidth = 55 MHz \n"
       ]
      }
     ],
     "prompt_number": 12
    },
    {
     "cell_type": "heading",
     "level": 2,
     "metadata": {},
     "source": [
      "Exa 6.7 : page no. 115"
     ]
    },
    {
     "cell_type": "code",
     "collapsed": false,
     "input": [
      "#given data :\n",
      "tau=10 #in ns\n",
      "# 1/((1+omega*tau)**2)**(1/2) = 1/2\" \n",
      "#Formula :omega=2*pi*F \n",
      "F=sqrt(3)/(2*pi*tau*10**-9) #in Hz\n",
      "F=F*10**-6 #in MHz\n",
      "EMB=F/sqrt(2) #in MHz\n",
      "print \"Electrical Modulation Bandwidth = %0.2f MHz \" %EMB  "
     ],
     "language": "python",
     "metadata": {},
     "outputs": [
      {
       "output_type": "stream",
       "stream": "stdout",
       "text": [
        "Electrical Modulation Bandwidth = 19.49 MHz \n"
       ]
      }
     ],
     "prompt_number": 14
    },
    {
     "cell_type": "heading",
     "level": 2,
     "metadata": {},
     "source": [
      "Exa 6.8 : page no. 116"
     ]
    },
    {
     "cell_type": "code",
     "collapsed": false,
     "input": [
      "#given data :\n",
      "Po=200 #in uwatts\n",
      "tau=10 #in ns\n",
      "F=10 #in MHz\n",
      "print \"We have : P(w)/P(o)=Po/((1+2*pi*F*tau)**2)**(1/2)\" \n",
      "Pw=(Po*10**-6)/(1+(2*pi*F*10**6*tau*10**-9)**2)**(1/2) #in Watts\n",
      "print \"Optical output power = %0.1f micro watts \" %(Pw*10**6)  "
     ],
     "language": "python",
     "metadata": {},
     "outputs": [
      {
       "output_type": "stream",
       "stream": "stdout",
       "text": [
        "We have : P(w)/P(o)=Po/((1+2*pi*F*tau)**2)**(1/2)\n",
        "Optical output power = 169.3 micro watts \n"
       ]
      }
     ],
     "prompt_number": 17
    },
    {
     "cell_type": "heading",
     "level": 2,
     "metadata": {},
     "source": [
      "Exa 6.9 : page no. 116"
     ]
    },
    {
     "cell_type": "code",
     "collapsed": false,
     "input": [
      "#given data :\n",
      "Po=200 #in uwatts\n",
      "tau=10 #in ns\n",
      "F=50 #in MHz\n",
      "print \"We have : P(w)/P(o)=Po/((1+2*pi*F*tau)**2)**(1/2)\" \n",
      "Pw=(Po*10**-6)/(1+(2*pi*F*10**6*tau*10**-9)**2)**(1/2) #in Watts\n",
      "print \"Optical output power = %0.1f micro watts \" %(Pw*10**6)  "
     ],
     "language": "python",
     "metadata": {},
     "outputs": [
      {
       "output_type": "stream",
       "stream": "stdout",
       "text": [
        "We have : P(w)/P(o)=Po/((1+2*pi*F*tau)**2)**(1/2)\n",
        "Optical output power = 60.7 micro watts \n"
       ]
      }
     ],
     "prompt_number": 19
    },
    {
     "cell_type": "heading",
     "level": 2,
     "metadata": {},
     "source": [
      "Exa 6.10 : page no. 116"
     ]
    },
    {
     "cell_type": "code",
     "collapsed": false,
     "input": [
      "#given data :\n",
      "nm=3.5 #refractive index of InP unitless\n",
      "n=1 #refractive index of air  unitless\n",
      "F=0.6 #Transmission factor at crystal-air interface\n",
      "#Part (a)\n",
      "# Pe=Pint*F*n**2/(4*nm**2)\n",
      "#Let F*n**2/(4*nm**2)=x\n",
      "x=F*n**2/(4*nm**2) \n",
      "print \"Pint =\",x\n",
      "print \"Hence the power emitted into air is only 1.2% of the internal optical power.\" \n",
      "#Part (b)\n",
      "print \"ETAext=(Pe/P)*100\" \n",
      "print \"ETAext=(0.012*Pint/P)*100\"\n",
      "#given : Pint=0.5P\n",
      "print \"ETAext=(0.012*0.5*P/P)*100\"\n",
      "print \"ETAext :\",(0.012*0.5)*100,\"%\" "
     ],
     "language": "python",
     "metadata": {},
     "outputs": [
      {
       "output_type": "stream",
       "stream": "stdout",
       "text": [
        "Pint = 0.0122448979592\n",
        "Hence the power emitted into air is only 1.2% of the internal optical power.\n",
        "ETAext=(Pe/P)*100\n",
        "ETAext=(0.012*Pint/P)*100\n",
        "ETAext=(0.012*0.5*P/P)*100\n",
        "ETAext : 0.6 %\n"
       ]
      }
     ],
     "prompt_number": 22
    },
    {
     "cell_type": "code",
     "collapsed": false,
     "input": [
      "from sympy import *\n",
      "#given data :\n",
      "nm=3.5 #refractive index of InP unitless\n",
      "n=1 #refractive index of air  unitless\n",
      "F=0.6 #Transmission factor at crystal-air interface\n",
      "#Part (a)\n",
      "Pint, P = symbols('Pint, P')\n",
      "Pe=Pint*F*n**2/(4*nm**2)\n",
      "print \"Power emitted into air is only\",round(Pe/Pint*100,1),\"% of the internal optical power.\" \n",
      "#Part (b)\n",
      "Pint = 0.5*P\n",
      "Pe=Pint*F*n**2/(4*nm**2)\n",
      "ETAext=(Pe/P)*100\n",
      "print \"ETAext =\",round(ETAext,2),\"%\" "
     ],
     "language": "python",
     "metadata": {},
     "outputs": [
      {
       "output_type": "stream",
       "stream": "stdout",
       "text": [
        "Power emitted into air is only 1.2 % of the internal optical power.\n",
        "ETAext = 0.61 %\n"
       ]
      }
     ],
     "prompt_number": 39
    },
    {
     "cell_type": "heading",
     "level": 2,
     "metadata": {},
     "source": [
      "Exa 6.11 : page no. 117"
     ]
    },
    {
     "cell_type": "code",
     "collapsed": false,
     "input": [
      "#given data :\n",
      "#given : Pint=0.3*P\n",
      "nm=3.6 #refractive index of InP unitless\n",
      "n=1 #refractive index of air  unitless\n",
      "F=0.68 #Transmission factor at crystal-air interface\n",
      "Pint, P = symbols('Pint, P')\n",
      "Pe=Pint*F*n**2/(4*nm**2)\n",
      "Pint=0.3*P\n",
      "ETAext=Pint*100*F*n**2/(4*P*nm**2)\n",
      "print \"External Power Efficiency = %0.2f %% \" %ETAext "
     ],
     "language": "python",
     "metadata": {},
     "outputs": [
      {
       "output_type": "stream",
       "stream": "stdout",
       "text": [
        "External Power Efficiency = 0.39 % \n"
       ]
      }
     ],
     "prompt_number": 44
    },
    {
     "cell_type": "heading",
     "level": 2,
     "metadata": {},
     "source": [
      "Exa 6.12 : page no. 117"
     ]
    },
    {
     "cell_type": "code",
     "collapsed": false,
     "input": [
      "#given data :\n",
      "ETAext=1.5 #in %\n",
      "I=25 #in mA\n",
      "V=4 #in Volt\n",
      "F=0.8 #Transmission factor at crystal-air interface\n",
      "nm=3.6 #refractive index of GaAs unitless\n",
      "n=1 #refractive index of air  unitless\n",
      "# formula : ETAext = Pint*F*n^2/(4*nm^2*P)*100\n",
      "P = V*I*1e-3  # W\n",
      "Pint = ETAext/(F*n**2/(4*nm**2*P)*100)\n",
      "print \"Optical power generated in the device = %0.1f mW \" %(Pint*1000) "
     ],
     "language": "python",
     "metadata": {},
     "outputs": [
      {
       "output_type": "stream",
       "stream": "stdout",
       "text": [
        "Optical power generated in the device = 97.2 mW \n"
       ]
      }
     ],
     "prompt_number": 54
    }
   ],
   "metadata": {}
  }
 ]
}
