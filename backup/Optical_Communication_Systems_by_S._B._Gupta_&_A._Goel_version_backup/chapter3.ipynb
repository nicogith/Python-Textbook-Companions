{
 "metadata": {
  "name": "",
  "signature": ""
 },
 "nbformat": 3,
 "nbformat_minor": 0,
 "worksheets": [
  {
   "cells": [
    {
     "cell_type": "heading",
     "level": 1,
     "metadata": {},
     "source": [
      "Chapter3 - Transmission characteristics of fibre"
     ]
    },
    {
     "cell_type": "heading",
     "level": 2,
     "metadata": {},
     "source": [
      "Exa 3.1 : page no. 60"
     ]
    },
    {
     "cell_type": "code",
     "collapsed": false,
     "input": [
      "from __future__ import division\n",
      "from math import *\n",
      "from numpy import *\n",
      "#Given data :\n",
      "lamda=1.5 #im um\n",
      "deltaTwg=0.5 #in ns\n",
      "deltaTmat=2.8 #in ns\n",
      "Tt=2.5 #in ns\n",
      "#For single mode fibre, deltaTmod=0 #in ns\n",
      "deltaTmod=0 #in ns\n",
      "deltaTtotal=sqrt(deltaTmod**2+deltaTmat**2+deltaTwg**2) #in ns\n",
      "Tr=sqrt(Tt**2+deltaTtotal**2) #in ns\n",
      "B=1/(2*Tr*10**-9) #in bits/sec\n",
      "print \"Maximum allowed bit rate for the fibre = %0.2f Mbits/sec \" %(B*10**-6)\n",
      "#Note : Answer in the book s not accurate."
     ],
     "language": "python",
     "metadata": {},
     "outputs": [
      {
       "output_type": "stream",
       "stream": "stdout",
       "text": [
        "Maximum allowed bit rate for the fibre = 132.04 Mbits/sec \n"
       ]
      }
     ],
     "prompt_number": 1
    },
    {
     "cell_type": "heading",
     "level": 2,
     "metadata": {},
     "source": [
      "Exa 3.2 : page no. 61"
     ]
    },
    {
     "cell_type": "code",
     "collapsed": false,
     "input": [
      "#Given data :\n",
      "n1=1.55 #unitless\n",
      "n2=1.50 #unitless\n",
      "l=15 #in Km\n",
      "delta=(n1-n2)/n1 #unitless\n",
      "c=3*10**8 #in m/s\n",
      "deltaT=n1*delta/c #in s/m\n",
      "deltaT=(n1*delta*1000/c) #in s/Km\n",
      "print \"Intermodal dispersion per Km of length = %0.2f ns/Km\" %(deltaT*10**9)\n",
      "deltaTtotal=deltaT*l*1000 #in ns\n",
      "print \"Total intermodal dispersion = %0.2f micro second \" %(deltaTtotal*1000)\n",
      "#Note : Answer in the book is not accurate."
     ],
     "language": "python",
     "metadata": {},
     "outputs": [
      {
       "output_type": "stream",
       "stream": "stdout",
       "text": [
        "Intermodal dispersion per Km of length = 166.67 ns/Km\n",
        "Total intermodal dispersion = 2.50 micro second \n"
       ]
      }
     ],
     "prompt_number": 10
    },
    {
     "cell_type": "heading",
     "level": 2,
     "metadata": {},
     "source": [
      "Exa 3.3 : page no. 61"
     ]
    },
    {
     "cell_type": "code",
     "collapsed": false,
     "input": [
      "#Given data :\n",
      "#Formula Pulse Broadning per Km : deltaTmat(per Km)=(deltaTAUs*1000/c)*(lamda*d2n/dlamda**2)\n",
      "deltaTAUs=45 #in nm\n",
      "deltaTAUs=45*10**-9 #in m\n",
      "lamda=0.9 #in um\n",
      "lamda=0.9*10**-6 #in m\n",
      "#let say, d**2n/dlamda**2=a\n",
      "a=4*10**-2 #in um**-2\n",
      "a=a*(10**-6)**-2 #in m**-2\n",
      "c=3*10**8 #in m/s\n",
      "deltaTmat_Km=(deltaTAUs*1000/c)*(lamda*a) #in sec/Km\n",
      "print \"Pulse broadning per Km = %0.2f ns/km \" %(deltaTmat_Km*10**9)"
     ],
     "language": "python",
     "metadata": {},
     "outputs": [
      {
       "output_type": "stream",
       "stream": "stdout",
       "text": [
        "Pulse broadning per Km = 5.40 ns/km \n"
       ]
      }
     ],
     "prompt_number": 12
    },
    {
     "cell_type": "heading",
     "level": 2,
     "metadata": {},
     "source": [
      "Exa 3.4 : page no. 61"
     ]
    },
    {
     "cell_type": "code",
     "collapsed": false,
     "input": [
      "#Given data :\n",
      "n1=1.55 #unitless\n",
      "n2=1.50 #unitless\n",
      "l=15 #in Km\n",
      "delta=(n1-n2)/n1 #unitless\n",
      "c=3*10**8 #in m/s\n",
      "#Formula Intermodal_dispersion/m : deltaT_perKm=n1*delta**2/(8*c)\n",
      "#Formula Intermodal_dispersion/Km : deltaT_perKm=n1*delta**2*1000/(8*c)\n",
      "deltaT_perKm=n1*delta**2*1000/(8*c) #in sec/km\n",
      "deltaT_perKm=deltaT_perKm*10**9#in nanosec/km\n",
      "print \"Total intermodal dispersion per Km = %0.3f ns/km\" %(deltaT_perKm) \n",
      "deltaTtotal=deltaT_perKm*l #in ns\n",
      "print \"Total intermodal dispersion for 15 Km length = %0.2f nano second\" %(deltaTtotal)\n",
      "#Note : Answer in the book is not accurate."
     ],
     "language": "python",
     "metadata": {},
     "outputs": [
      {
       "output_type": "stream",
       "stream": "stdout",
       "text": [
        "Total intermodal dispersion per Km = 0.672 ns/km\n",
        "Total intermodal dispersion for 15 Km length = 10.08 nano second\n"
       ]
      }
     ],
     "prompt_number": 16
    },
    {
     "cell_type": "heading",
     "level": 2,
     "metadata": {},
     "source": [
      "Exa 3.5 : page no. 62"
     ]
    },
    {
     "cell_type": "code",
     "collapsed": false,
     "input": [
      "#Given data :\n",
      "Tr=6 #in ns/Km\n",
      "BitRate=10 #in Mbps\n",
      "#part (a)\n",
      "BDP=1/(2*Tr*10**-9) #in bps-Km\n",
      "BDP=BDP/10**6 #in Mbps-Km\n",
      "print \"(a) Bandwidth Distance Product for the fibre = %0.2f Mbps-Km \" %BDP \n",
      "#Part (b)\n",
      "lmax=BDP/BitRate #in Km\n",
      "print \"(b) Dispersion limited length of the fibre = %0.2f km\" %lmax"
     ],
     "language": "python",
     "metadata": {},
     "outputs": [
      {
       "output_type": "stream",
       "stream": "stdout",
       "text": [
        "(a) Bandwidth Distance Product for the fibre = 83.33 Mbps-Km \n",
        "(b) Dispersion limited length of the fibre = 8.33 km\n"
       ]
      }
     ],
     "prompt_number": 18
    },
    {
     "cell_type": "heading",
     "level": 2,
     "metadata": {},
     "source": [
      "Exa 3.6 : page no. 62"
     ]
    },
    {
     "cell_type": "code",
     "collapsed": false,
     "input": [
      "#Given data :\n",
      "Tr=0.2 #in us\n",
      "l=20 #in Km\n",
      "#part (a)\n",
      "B=1/(2*Tr*10**-6) #in Hz\n",
      "B=B/10**6 #in MHz\n",
      "print \"(a) Maximum possible assuming no intersymbol interference = %0.1f MHz \"  %B\n",
      "#Part (b)\n",
      "Dispersion=Tr*10**-6/l #in sec/Km\n",
      "print \"(b) Dispersion = %0.f ns/Km \" %(Dispersion*10**9) \n",
      "#part (c)\n",
      "BDP=B*l #in MHz-Km\n",
      "print \"(c) Bandwidth Distance product for the fibre = %0.f MHz-Km \" %BDP"
     ],
     "language": "python",
     "metadata": {},
     "outputs": [
      {
       "output_type": "stream",
       "stream": "stdout",
       "text": [
        "(a) Maximum possible assuming no intersymbol interference = 2.5 MHz \n",
        "(b) Dispersion = 10 ns/Km \n",
        "(c) Bandwidth Distance product for the fibre = 50 MHz-Km \n"
       ]
      }
     ],
     "prompt_number": 19
    },
    {
     "cell_type": "heading",
     "level": 2,
     "metadata": {},
     "source": [
      "Exa 3.8 : page no. 63"
     ]
    },
    {
     "cell_type": "code",
     "collapsed": false,
     "input": [
      "#Given data :\n",
      "deltaTau_s=2 #in nm\n",
      "L=30 #in Km\n",
      "Dmat=20 #in ps/nm-km\n",
      "#formula : deltaT_mat=deltaTau_s*L*[(lamda/c)*(d**2*n/d*lamda**2)]\n",
      "#formula : deltaT_mat=deltaTau_s*L*Dmat\n",
      "deltaT_mat=deltaTau_s*L*Dmat #in ps\n",
      "deltaT_mat=deltaT_mat*10**-3 #in ns\n",
      "print \"Pulse broadning due to material dispersion = %0.2f ns \" %deltaT_mat "
     ],
     "language": "python",
     "metadata": {},
     "outputs": [
      {
       "output_type": "stream",
       "stream": "stdout",
       "text": [
        "Pulse broadning due to material dispersion = 1.20 ns \n"
       ]
      }
     ],
     "prompt_number": 20
    },
    {
     "cell_type": "heading",
     "level": 2,
     "metadata": {},
     "source": [
      "Exa 3.9 : page no. 64"
     ]
    },
    {
     "cell_type": "code",
     "collapsed": false,
     "input": [
      "#Given data :\n",
      "FibreLoss=20 #in dB\n",
      "#Pat (a)\n",
      "lamda_a=1.3 #/in um\n",
      "loss_a=1.5 #in dB/Km\n",
      "#Repeater spacing \n",
      "la=FibreLoss/loss_a #in Km\n",
      "print \"(a) At wavelength of 1.3 micro meter, repeter spacing = %0.1f Km \" %la \n",
      "#Pat (b)\n",
      "lamda_b=1.5 #/in um\n",
      "loss_b=0.5 #in dB/Km\n",
      "#Repeater spacing \n",
      "lb=FibreLoss/loss_b #in Km\n",
      "print \"(b) At wavelength of 1.5 micro meter, repeter spacing = %0.f Km \" %lb"
     ],
     "language": "python",
     "metadata": {},
     "outputs": [
      {
       "output_type": "stream",
       "stream": "stdout",
       "text": [
        "(a) At wavelength of 1.3 micro meter, repeter spacing = 13.3 Km \n",
        "(b) At wavelength of 1.5 micro meter, repeter spacing = 40 Km \n"
       ]
      }
     ],
     "prompt_number": 22
    },
    {
     "cell_type": "heading",
     "level": 2,
     "metadata": {},
     "source": [
      "Exa 3.10 : page no. 64"
     ]
    },
    {
     "cell_type": "code",
     "collapsed": false,
     "input": [
      "#Given data :\n",
      "Dmat=0.15 #in ns/nm-km\n",
      "lamda=0.9 #in um\n",
      "deltaTau_s=1.5 #in nm\n",
      "#part (a) \n",
      "#formula : deltaTmat/L=deltaTau_s*Dmat\n",
      "deltaTmatBYL=deltaTau_s*Dmat #in ns/Km\n",
      "print \"(a) Pulse dispersion per unit length of fibre is\",deltaTmatBYL,\"ns/Km\" \n",
      "#part (b)\n",
      "L=15 #in Km \n",
      "#formula : deltaTmat=deltaTau_s*Dmat*L\n",
      "deltaTmat=deltaTau_s*Dmat*L #in ns\n",
      "print \"(b) Material dispersion per in a 15 Km length of fibre is\",deltaTmat,\"ns\" "
     ],
     "language": "python",
     "metadata": {},
     "outputs": [
      {
       "output_type": "stream",
       "stream": "stdout",
       "text": [
        "(a) Pulse dispersion per unit length of fibre is 0.225 ns/Km\n",
        "(b) Material dispersion per in a 15 Km length of fibre is 3.375 ns\n"
       ]
      }
     ],
     "prompt_number": 23
    },
    {
     "cell_type": "heading",
     "level": 2,
     "metadata": {},
     "source": [
      "Exa 3.11 : page no. 64"
     ]
    },
    {
     "cell_type": "code",
     "collapsed": false,
     "input": [
      "#Given data :\n",
      "#Let Material Dispersion, lamda**2*(d**2n/dlamda**2)=a\n",
      "a=0.03 #in ns\n",
      "deltaTau_s=15 #in nm\n",
      "lamda=1.3 #in um\n",
      "lamda=1.3*10**3 #in nm\n",
      "c=3*10**8 #speed of light in m/s\n",
      "c=3*10**5 #speed of light in Km/s\n",
      "#Part (a)\n",
      "Dmat=a/(lamda*c) #sec/nm-Km\n",
      "Dmat=Dmat*10**12 #ps/nm-Km\n",
      "print \"(a) Material dispersion coefficient at a wavelength of 1.3 micro meter is\",round(Dmat,1),\"ps/nm-Km\" \n",
      "#Part (b)\n",
      "deltaTmat_perKm=deltaTau_s*Dmat #in ps/km\n",
      "print \"(b) Rms pulse broadning per Km due to material dispersion is\",round(deltaTmat_perKm*10**-3,2),\"ns/km\" \n",
      "#Note : Ans is  not accurate in the book."
     ],
     "language": "python",
     "metadata": {},
     "outputs": [
      {
       "output_type": "stream",
       "stream": "stdout",
       "text": [
        "(a) Material dispersion coefficient at a wavelength of 1.3 micro meter is 76.9 ps/nm-Km\n",
        "(b) Rms pulse broadning per Km due to material dispersion is 1.15 ns/km\n"
       ]
      }
     ],
     "prompt_number": 27
    },
    {
     "cell_type": "heading",
     "level": 2,
     "metadata": {},
     "source": [
      "Exa 3.12 : page no. 65"
     ]
    },
    {
     "cell_type": "code",
     "collapsed": false,
     "input": [
      "#Given data :\n",
      "l=6 #in Km\n",
      "n1=1.5 #unitless\n",
      "delta=1#in %\n",
      "c=3*10**8 #speed of light in m/s\n",
      "#Part (a)\n",
      "deltaT=l*10**3*n1*(delta/100)/c #in sec\n",
      "deltaT=deltaT*10**9 #in ns\n",
      "print \"(a) Delay difference between the slowest and fastest modes at output = %0.f ns\" %deltaT\n",
      "#Part (b)\n",
      "B=1/(2*deltaT*10**-9) #in bps\n",
      "B=B*10**-6 #in Mbps\n",
      "print \"(b) Assuming no intersymbol interference, maximum bit rate = %0.2f Mbps\" %B"
     ],
     "language": "python",
     "metadata": {},
     "outputs": [
      {
       "output_type": "stream",
       "stream": "stdout",
       "text": [
        "(a) Delay difference between the slowest and fastest modes at output = 300 ns\n",
        "(b) Assuming no intersymbol interference, maximum bit rate = 1.67 Mbps\n"
       ]
      }
     ],
     "prompt_number": 29
    },
    {
     "cell_type": "heading",
     "level": 2,
     "metadata": {},
     "source": [
      "Exa 3.13 : page no. 66"
     ]
    },
    {
     "cell_type": "code",
     "collapsed": false,
     "input": [
      "#Given data :\n",
      "lamda=1.3 #in um\n",
      "lamda=1.3*10**-6 #in m\n",
      "n1=1.5 #unitless\n",
      "delta=3#in %\n",
      "c=3*10**8 #speed of light in m/s\n",
      "n2=n1*(1-delta/100) #unitless\n",
      "Rcm=3*n1**2*lamda/(4*pi*(n1**2-n2**2)**(3/2)) #in meter\n",
      "Rcm=Rcm*10**6 #in um\n",
      "print \"Critical radius of curvature = %0.1f micro meter \" %Rcm"
     ],
     "language": "python",
     "metadata": {},
     "outputs": [
      {
       "output_type": "stream",
       "stream": "stdout",
       "text": [
        "Critical radius of curvature = 14.4 micro meter \n"
       ]
      }
     ],
     "prompt_number": 32
    },
    {
     "cell_type": "heading",
     "level": 2,
     "metadata": {},
     "source": [
      "Exa 3.14 : page no. 66"
     ]
    },
    {
     "cell_type": "code",
     "collapsed": false,
     "input": [
      "#Given data :\n",
      "d=8 #in um\n",
      "a=d/2 #in um\n",
      "a=a*10**-6 #in meter\n",
      "n1=1.5 #unitless\n",
      "n2=1.46 #unitless\n",
      "lamda=1.55 #in um\n",
      "lamda=1.55*10**-6 #in meter\n",
      "c=3*10**8 #speed of light in m/s\n",
      "lamda_c=(2*pi*a*sqrt(n1**2-n2**2))/2.405 #in meter\n",
      "Rcs=(20*lamda/(n1-n2)**(3/2))*((2.748*lamda_c-0.996*lamda)/lamda_c)**-3 #in meter\n",
      "Rcs=Rcs*10**3 #in mm\n",
      "print \"Critical radius of curvature = %0.2f mm\" %Rcs \n",
      "#Note : Answer in the book is wrong."
     ],
     "language": "python",
     "metadata": {},
     "outputs": [
      {
       "output_type": "stream",
       "stream": "stdout",
       "text": [
        "Critical radius of curvature = 0.31 mm\n"
       ]
      }
     ],
     "prompt_number": 35
    },
    {
     "cell_type": "heading",
     "level": 2,
     "metadata": {},
     "source": [
      "Exa 3.15 : page no. 67"
     ]
    },
    {
     "cell_type": "code",
     "collapsed": false,
     "input": [
      "#Given data :\n",
      "n1=1.49 #unitless\n",
      "Rcs=10.4 #in mm\n",
      "Rcs=Rcs*10**-3 #in meter\n",
      "lamda=1.3 #in um\n",
      "lamda=1.3*10**-6 #in meter\n",
      "c=3*10**8 #speed of light in m/s\n",
      "lamda_c=1.15 #in um\n",
      "lamda_c=lamda_c*10**-6 #in meter\n",
      "#part (a) :\n",
      "#formula : (n1-n2)**(3/2)=(20*lamda/Rcs)*[(2.748*lamda_c-0.996*lamda)/lamda_c]**-3\n",
      "n2=n1-(20*lamda/Rcs)**(2/3)*((2.748*lamda_c-0.996*lamda)/lamda_c)**(-3*2/3) #unitless\n",
      "print \"(a) Refractive index of cladding = %0.3f \" %n2 \n",
      "#Part (b) :\n",
      "delta=(n1-n2)/n1 #unitless\n",
      "print \"(b) Relative refractive index diference = %0.2f %% \"%(delta*100) "
     ],
     "language": "python",
     "metadata": {},
     "outputs": [
      {
       "output_type": "stream",
       "stream": "stdout",
       "text": [
        "(a) Refractive index of cladding = 1.483 \n",
        "(b) Relative refractive index diference = 0.47 % \n"
       ]
      }
     ],
     "prompt_number": 37
    },
    {
     "cell_type": "heading",
     "level": 2,
     "metadata": {},
     "source": [
      "Exa 3.16 : page no. 67"
     ]
    },
    {
     "cell_type": "code",
     "collapsed": false,
     "input": [
      "#Given data :\n",
      "n1=1.46 #unitless\n",
      "n2=1.45 #unitless\n",
      "Rcm=84 #in um\n",
      "Rcm=Rcm*10**-6 #in meter\n",
      "lamda=Rcm*4*pi*(n1**2-n2**2)**(3/2)/(3*n1**2) #in meter\n",
      "print \"Wavelength of transmitted light = %0.3f micro meter \" %(lamda*10**6) "
     ],
     "language": "python",
     "metadata": {},
     "outputs": [
      {
       "output_type": "stream",
       "stream": "stdout",
       "text": [
        "Wavelength of transmitted light = 0.819 micro meter \n"
       ]
      }
     ],
     "prompt_number": 38
    }
   ],
   "metadata": {}
  }
 ]
}
