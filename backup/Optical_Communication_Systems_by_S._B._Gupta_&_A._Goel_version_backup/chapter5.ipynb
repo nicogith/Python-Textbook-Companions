{
 "metadata": {
  "name": "",
  "signature": ""
 },
 "nbformat": 3,
 "nbformat_minor": 0,
 "worksheets": [
  {
   "cells": [
    {
     "cell_type": "heading",
     "level": 1,
     "metadata": {},
     "source": [
      "Chapter5 - Optical fibre connection"
     ]
    },
    {
     "cell_type": "heading",
     "level": 2,
     "metadata": {},
     "source": [
      "Exa 5.1 : page 92"
     ]
    },
    {
     "cell_type": "code",
     "collapsed": false,
     "input": [
      "from numpy import *\n",
      "from __future__ import division\n",
      "#Given data :\n",
      "n=1.5 #refractive index\n",
      "R=((1-n)/(1+n))**2 #unitless\n",
      "print \"Reflected light = %0.f %% \" %(R*100) \n",
      "print \"The remainder transmitted light = %0.f %% \"%(100-R*100)\n",
      "loss=-10*log10(1-R) #in dB\n",
      "print \"Transmission loss = %0.3f dB\" %loss "
     ],
     "language": "python",
     "metadata": {},
     "outputs": [
      {
       "output_type": "stream",
       "stream": "stdout",
       "text": [
        "Reflected light = 4 % \n",
        "The remainder transmitted light = 96 % \n",
        "Transmission loss = 0.177 dB\n"
       ]
      }
     ],
     "prompt_number": 4
    },
    {
     "cell_type": "heading",
     "level": 2,
     "metadata": {},
     "source": [
      "Exa 5.2 : page 92"
     ]
    },
    {
     "cell_type": "code",
     "collapsed": false,
     "input": [
      "#Given data :\n",
      "n1=3.6 #refractive index\n",
      "n2=1.48 #refractive index\n",
      "R=((n1-n2)/(n1+n2))**2 #unitless\n",
      "loss=-10*log10(1-R) #in dB\n",
      "print \"Transmission loss = %0.2f dB \" %loss "
     ],
     "language": "python",
     "metadata": {},
     "outputs": [
      {
       "output_type": "stream",
       "stream": "stdout",
       "text": [
        "Transmission loss = 0.83 dB \n"
       ]
      }
     ],
     "prompt_number": 6
    }
   ],
   "metadata": {}
  }
 ]
}
