{
 "metadata": {
  "name": "",
  "signature": ""
 },
 "nbformat": 3,
 "nbformat_minor": 0,
 "worksheets": [
  {
   "cells": [
    {
     "cell_type": "heading",
     "level": 1,
     "metadata": {},
     "source": [
      "Chapter 8 - Photodetectors"
     ]
    },
    {
     "cell_type": "heading",
     "level": 2,
     "metadata": {},
     "source": [
      "Exa 8.1 : page 167"
     ]
    },
    {
     "cell_type": "code",
     "collapsed": false,
     "input": [
      "from __future__ import division\n",
      "#Given data :\n",
      "Eg=1.43 #in eV\n",
      "T=300 #in kelvin\n",
      "h=6.63*10**-34 #Planks constant\n",
      "c=3*10**8 #speed of light in m/s\n",
      "lamda_c=h*c/(Eg*1.6*10**-19) #in meter\n",
      "print \"Longest Wavelength cut-off= %0.f nm  \" %(lamda_c*10**9)"
     ],
     "language": "python",
     "metadata": {},
     "outputs": [
      {
       "output_type": "stream",
       "stream": "stdout",
       "text": [
        "Longest Wavelength cut-off= 869 nm  \n"
       ]
      }
     ],
     "prompt_number": 2
    },
    {
     "cell_type": "heading",
     "level": 2,
     "metadata": {},
     "source": [
      "Exa 8.2 : page 168"
     ]
    },
    {
     "cell_type": "code",
     "collapsed": false,
     "input": [
      "#Given data :\n",
      "photons=6*10**12 #no. of incident photons\n",
      "lamda=1330 #in nm\n",
      "pairs=4.8*10**12 #no. of electron hole pairs generated\n",
      "ETA=pairs/photons #Quantum efficiency (unitless)\n",
      "ETA=ETA*100 #Quantum efficiency in %\n",
      "print \"Quantum efficiency = %0.f %% \" %ETA "
     ],
     "language": "python",
     "metadata": {},
     "outputs": [
      {
       "output_type": "stream",
       "stream": "stdout",
       "text": [
        "Quantum efficiency = 80 % \n"
       ]
      }
     ],
     "prompt_number": 4
    },
    {
     "cell_type": "heading",
     "level": 2,
     "metadata": {},
     "source": [
      "Exa 8.3 : page 168"
     ]
    },
    {
     "cell_type": "code",
     "collapsed": false,
     "input": [
      "#Given data :\n",
      "lamda=1300 #in nm\n",
      "lamda=lamda*10**-9 #in meter\n",
      "ETA=90 #quantum efficiency in % \n",
      "h=6.63*10**-34 #Planks constant\n",
      "q=1.6*10**-19 #in coulamb\n",
      "c=3*10**8 #in m/s\n",
      "R=(ETA/100)*q*lamda/(h*c) #in A/W\n",
      "print \"Responsivity of InGaAs = %0.2f A/W \" %R "
     ],
     "language": "python",
     "metadata": {},
     "outputs": [
      {
       "output_type": "stream",
       "stream": "stdout",
       "text": [
        "Responsivity of InGaAs = 0.94 A/W \n"
       ]
      }
     ],
     "prompt_number": 5
    },
    {
     "cell_type": "heading",
     "level": 2,
     "metadata": {},
     "source": [
      "Exa 8.4 : page 168"
     ]
    },
    {
     "cell_type": "code",
     "collapsed": false,
     "input": [
      "#Given data :\n",
      "E=4.5*10**-21 #in Joule\n",
      "R=0.9 #in A/W\n",
      "P=20 #in uWatt\n",
      "Ip=R*P #in uA\n",
      "print \"Photocurrent generated = %0.f micro Ampere\" %Ip "
     ],
     "language": "python",
     "metadata": {},
     "outputs": [
      {
       "output_type": "stream",
       "stream": "stdout",
       "text": [
        "Photocurrent generated = 18 micro Ampere\n"
       ]
      }
     ],
     "prompt_number": 6
    },
    {
     "cell_type": "heading",
     "level": 2,
     "metadata": {},
     "source": [
      "Exa 8.5 : page 168"
     ]
    },
    {
     "cell_type": "code",
     "collapsed": false,
     "input": [
      "#Given data :\n",
      "ETA=65 #Quantum efficiency in %\n",
      "lamda=900 #in nm\n",
      "lamda=lamda*10**-9 #in meter\n",
      "q=1.6*10**-19 #in coulamb\n",
      "h=6.63*10**-34 #Planks constant\n",
      "c=3*10**8 #in m/s\n",
      "P=0.5 #in uWatt\n",
      "Im=20 #in uA\n",
      "Ip=(ETA/100)*q*P*lamda/(h*c) #in micro Ampere\n",
      "M=Im/Ip #unitless\n",
      "print \"Multiplication Factor = %0.f\" %M \n",
      "#Note : Ans in the book is not accurate."
     ],
     "language": "python",
     "metadata": {},
     "outputs": [
      {
       "output_type": "stream",
       "stream": "stdout",
       "text": [
        "Multiplication Factor = 85\n"
       ]
      }
     ],
     "prompt_number": 7
    },
    {
     "cell_type": "heading",
     "level": 2,
     "metadata": {},
     "source": [
      "Exa 8.6  : page 169"
     ]
    },
    {
     "cell_type": "code",
     "collapsed": false,
     "input": [
      "from math import *\n",
      "#Given data :\n",
      "C_A=2 #in pF\n",
      "C_D=5 #in pF\n",
      "RL=50 #in Ohm\n",
      "RA=1 #in KOhm\n",
      "RA=1*10**3 #in Ohm\n",
      "C=C_A+C_D #in pF\n",
      "R=RA*RL/(RA+RL) #in Ohm\n",
      "B=1/(2*pi*R*C*10**-12) #in Hz\n",
      "print \"Circuit Bandwidth of p-i-n photodiode = %0.f MHz \" %(B*10**-6) \n",
      "#Note : Ans in the book is not accurate."
     ],
     "language": "python",
     "metadata": {},
     "outputs": [
      {
       "output_type": "stream",
       "stream": "stdout",
       "text": [
        "Circuit Bandwidth of p-i-n photodiode = 477 MHz \n"
       ]
      }
     ],
     "prompt_number": 9
    },
    {
     "cell_type": "heading",
     "level": 2,
     "metadata": {},
     "source": [
      "Exa 8.7 : page 169"
     ]
    },
    {
     "cell_type": "code",
     "collapsed": false,
     "input": [
      "#Given data :\n",
      "ETA=40 #quantum efficiency in % \n",
      "E=1.5 #in eV\n",
      "Ip=3 #in uA\n",
      "h=6.63*10**-34 #Planks constant\n",
      "c=3*10**8 #in m/s\n",
      "q=1.6*10**-19 #in coulamb\n",
      "lamda=h*c/(E*1.6*10**-19) #in meter\n",
      "print \"Wavelength of photodiode = %0.f nm \" %(lamda*10**9) \n",
      "P=Ip*10**-6*(E*1.6*10**-19)/(ETA*q/100) \n",
      "print \"Power required = %0.2f micro Watts \" %(P*10**6) \n",
      "#Note : Ans in the book is not accurate."
     ],
     "language": "python",
     "metadata": {},
     "outputs": [
      {
       "output_type": "stream",
       "stream": "stdout",
       "text": [
        "Wavelength of photodiode = 829 nm \n",
        "Power required = 11.25 micro Watts \n"
       ]
      }
     ],
     "prompt_number": 11
    },
    {
     "cell_type": "heading",
     "level": 2,
     "metadata": {},
     "source": [
      "Exa 8.8  : page 170"
     ]
    },
    {
     "cell_type": "code",
     "collapsed": false,
     "input": [
      "#Given data :\n",
      "photons=1600 #incident photons/sec\n",
      "lamda=1.3 #in um\n",
      "electrons=1100 #generated/sec\n",
      "ETA=electrons/photons #unitless\n",
      "q=1.6*10**-19 #in coulamb\n",
      "h=6.63*10**-34 #Planks constant\n",
      "c=3*10**8 #in m/s\n",
      "R=ETA*q*lamda*10**-6/(h*c) #in A/W\n",
      "print \"Responsivity = %0.2f A/W  \" %R "
     ],
     "language": "python",
     "metadata": {},
     "outputs": [
      {
       "output_type": "stream",
       "stream": "stdout",
       "text": [
        "Responsivity = 0.72 A/W  \n"
       ]
      }
     ],
     "prompt_number": 12
    },
    {
     "cell_type": "heading",
     "level": 2,
     "metadata": {},
     "source": [
      "Exa 8.9  : page 170"
     ]
    },
    {
     "cell_type": "code",
     "collapsed": false,
     "input": [
      "#Given data :\n",
      "C=1 #in pF\n",
      "#Part (a) :\n",
      "FH=1 #in MHz\n",
      "R=1/((2*pi*FH*10**6*C)*10**-12) #in ohm\n",
      "print \"(a) For 1 MHz, Maximum Load Resistnce = %0.f kohm \" %(R*10**-3) \n",
      "\n",
      "#Part (b) :\n",
      "FH=1 #in GHz\n",
      "R=1/((2*pi*FH*10**9*C)*10**-12) #in ohm\n",
      "print \"(b) For 1 GHz, Maximum Load Resistnce = %0.f ohm\" %R "
     ],
     "language": "python",
     "metadata": {},
     "outputs": [
      {
       "output_type": "stream",
       "stream": "stdout",
       "text": [
        "(a) For 1 MHz, Maximum Load Resistnce = 159 kohm \n",
        "(b) For 1 GHz, Maximum Load Resistnce = 159 ohm\n"
       ]
      }
     ],
     "prompt_number": 14
    },
    {
     "cell_type": "heading",
     "level": 2,
     "metadata": {},
     "source": [
      "Exa 8.10  : page 170"
     ]
    },
    {
     "cell_type": "code",
     "collapsed": false,
     "input": [
      "#Given data :\n",
      "lamda=1.3 #in um\n",
      "lamda=lamda*10**-6 #in meter\n",
      "Id=8 #in nA\n",
      "ETA=55 #in %\n",
      "h=6.63*10**-34 #Planks constant\n",
      "c=3*10**8 #in m/s\n",
      "q=1.6*10**-19 #in coulamb\n",
      "NEP=(h*c)*sqrt(2*q*Id*10**-9)/((ETA/100)*q*lamda) #in Ohm\n",
      "print \"NEP for Si p-i-n photodiode = %0.1e ohm \" %NEP "
     ],
     "language": "python",
     "metadata": {},
     "outputs": [
      {
       "output_type": "stream",
       "stream": "stdout",
       "text": [
        "NEP for Si p-i-n photodiode = 8.8e-14 ohm \n"
       ]
      }
     ],
     "prompt_number": 16
    },
    {
     "cell_type": "heading",
     "level": 2,
     "metadata": {},
     "source": [
      "Exa 8.11  : page 171"
     ]
    },
    {
     "cell_type": "code",
     "collapsed": false,
     "input": [
      "#Given data :\n",
      "A=2.5 #in mm**2\n",
      "A=A*10**-6 #in m**2\n",
      "B=1 #in KHz\n",
      "B=B*10**3 #in Hz\n",
      "Dstar=10**11 #mHz**1/2W**-1\n",
      "NEP=sqrt(A*B)/Dstar #in Watts\n",
      "print \"Smallest detectable signal power = %0.1f pW  \"%(NEP*10**12) "
     ],
     "language": "python",
     "metadata": {},
     "outputs": [
      {
       "output_type": "stream",
       "stream": "stdout",
       "text": [
        "Smallest detectable signal power = 0.5 pW  \n"
       ]
      }
     ],
     "prompt_number": 18
    },
    {
     "cell_type": "heading",
     "level": 2,
     "metadata": {},
     "source": [
      "Exa 8.12 : page 171"
     ]
    },
    {
     "cell_type": "code",
     "collapsed": false,
     "input": [
      "#Given data :\n",
      "A=200*25 #in um**2\n",
      "A=A*10**-12 #in m**2\n",
      "ETA=55 #Quantum Efficiency in %\n",
      "lamda=1.3 #in um\n",
      "lamda=lamda*10**-6 #in meter\n",
      "Id=8 #in nA\n",
      "Id=Id*10**-9 #i Ampere\n",
      "h=6.63*10**-34 #Planks constant\n",
      "q=1.6*10**-19 #in coulamb\n",
      "c=3*10**8 #in m/s\n",
      "NEP=h*c*sqrt(2*q*Id)/((ETA/100)*q*lamda) #in Watts\n",
      "print \"Noise equivalent power = %0.e Watts  \" %(NEP) \n",
      "Dstar=sqrt(A)/NEP #in m-Hz**2/W**-1\n",
      "print \"Specific detectivity of Ge p-i-n photodiode = %0.e m-Hz^(1/2)-W^-1 \" %Dstar \n",
      "#Note : Answer in the bok is not accurate."
     ],
     "language": "python",
     "metadata": {},
     "outputs": [
      {
       "output_type": "stream",
       "stream": "stdout",
       "text": [
        "Noise equivalent power = 9e-14 Watts  \n",
        "Specific detectivity of Ge p-i-n photodiode = 8e+08 m-Hz^(1/2)-W^-1 \n"
       ]
      }
     ],
     "prompt_number": 24
    },
    {
     "cell_type": "heading",
     "level": 2,
     "metadata": {},
     "source": [
      "Exa 8.13 : page 172"
     ]
    },
    {
     "cell_type": "code",
     "collapsed": false,
     "input": [
      "#Given data :\n",
      "C=6 #in pF\n",
      "C=C*10**-12 #in F\n",
      "FH=8 #in MHz\n",
      "FH=FH*10**6 #in Hz\n",
      "#Formula : FH=1/(2*pi*R*C)\n",
      "R=1/(2*pi*FH*C) #in Ohm\n",
      "print \"Maximum load resistance = %0.1f kohm\" %(R*10**-3)"
     ],
     "language": "python",
     "metadata": {},
     "outputs": [
      {
       "output_type": "stream",
       "stream": "stdout",
       "text": [
        "Maximum load resistance = 3.3 kohm\n"
       ]
      }
     ],
     "prompt_number": 26
    },
    {
     "cell_type": "heading",
     "level": 2,
     "metadata": {},
     "source": [
      "Exa 8.14 : page 172"
     ]
    },
    {
     "cell_type": "code",
     "collapsed": false,
     "input": [
      "#Given data :\n",
      "lamda=0.9 #in um\n",
      "lamda=lamda*10**-6 #in meter\n",
      "ETA=60 #Quantum Efficiency in %\n",
      "Id=3 #in nA\n",
      "Id=Id*10**-9 #in Ampere\n",
      "B=5 #in MHz\n",
      "P=200 #in nW\n",
      "P=P*10**-9 #in Watts \n",
      "h=6.63*10**-34 #Planks constant\n",
      "q=1.6*10**-19 #in coulamb\n",
      "c=3*10**8 #in m/s\n",
      "Ip=P*(ETA/100)*q*lamda/(h*c) #in Ampere\n",
      "#Formula : Is**2=2*q*(Ip+Id)*B\n",
      "Is=sqrt(2*q*(Ip+Id)*B*10**6) #in Ampere\n",
      "print \"Total shot noise current = %0.2f nA \" %(Is*10**9) "
     ],
     "language": "python",
     "metadata": {},
     "outputs": [
      {
       "output_type": "stream",
       "stream": "stdout",
       "text": [
        "Total shot noise current = 0.38 nA \n"
       ]
      }
     ],
     "prompt_number": 27
    },
    {
     "cell_type": "heading",
     "level": 2,
     "metadata": {},
     "source": [
      "Exa 8.15 : page 172"
     ]
    },
    {
     "cell_type": "code",
     "collapsed": false,
     "input": [
      "#Given data :\n",
      "lamda=1.35 #in um\n",
      "lamda=lamda*10**-6 #in meter\n",
      "ETA=40 #Quantum Efficiency in %\n",
      "Im=4.9 #in uA\n",
      "Im=Im*10**-6 #in Ampere\n",
      "P=0.2 #/in uW\n",
      "P=P*10**-6 #in watts\n",
      "h=6.63*10**-34 #Planks constant\n",
      "q=1.6*10**-19 #in coulamb\n",
      "c=3*10**8 #in m/s\n",
      "M=Im*h*c/((ETA/100)*q*P*lamda) #unitless\n",
      "print \"Multiplication factor = %0.f \" %(floor(M))"
     ],
     "language": "python",
     "metadata": {},
     "outputs": [
      {
       "output_type": "stream",
       "stream": "stdout",
       "text": [
        "Multiplication factor = 56 \n"
       ]
      }
     ],
     "prompt_number": 28
    },
    {
     "cell_type": "heading",
     "level": 2,
     "metadata": {},
     "source": [
      "Exa 8.16 : page 173"
     ]
    },
    {
     "cell_type": "code",
     "collapsed": false,
     "input": [
      "#Given data :\n",
      "photons=10**13 #incident photons/sec\n",
      "E=1.28*10**-19 #in Joule\n",
      "h=6.63*10**-34 #Planks constant\n",
      "q=1.6*10**-19 #in coulamb\n",
      "c=3*10**8 #in m/s\n",
      "#Part (a) : \n",
      "lamda=h*c/(E) #in meter\n",
      "print \"(a) Wavelength of incident radiation = %0.2f micro meter\" %(lamda*10**6) \n",
      "#Part (b) :\n",
      "Ip=q*photons #in Ampere\n",
      "print \"(b) Output photocurrent = %0.2f micro Ampere\" %(Ip*10**6) \n",
      "#Part (c) :\n",
      "M=18 #unitless\n",
      "Im=M*Ip #in Ampere\n",
      "print \"(c) If device is an APD, Output photocurrent = %0.1f micro Ampere\" %(Im*10**6) "
     ],
     "language": "python",
     "metadata": {},
     "outputs": [
      {
       "output_type": "stream",
       "stream": "stdout",
       "text": [
        "(a) Wavelength of incident radiation = 1.55 micro meter\n",
        "(b) Output photocurrent = 1.60 micro Ampere\n",
        "(c) If device is an APD, Output photocurrent = 28.8 micro Ampere\n"
       ]
      }
     ],
     "prompt_number": 30
    },
    {
     "cell_type": "heading",
     "level": 2,
     "metadata": {},
     "source": [
      "Exa 8.17 : page 173"
     ]
    },
    {
     "cell_type": "code",
     "collapsed": false,
     "input": [
      "#Given data :\n",
      "M=20 #unitless\n",
      "lamda=1.5 #in um\n",
      "lamda=lamda*10**-6 #in meter\n",
      "R=0.6 #in A/W\n",
      "h=6.63*10**-34 #Planks constant\n",
      "q=1.6*10**-19 #in coulamb\n",
      "c=3*10**8 #in m/s\n",
      "photons=10**10 #incident photons/sec\n",
      "Im=M*R*photons*h*c/lamda #in Ampere\n",
      "print \"Output Photo current = %0.1f nA \" %(Im*10**9) \n",
      "ETA=R*h*c/(q*lamda) #unitless\n",
      "print \"Quantum Efficiency = %0.f %%\" %(round(ETA*100))"
     ],
     "language": "python",
     "metadata": {},
     "outputs": [
      {
       "output_type": "stream",
       "stream": "stdout",
       "text": [
        "Output Photo current = 15.9 nA \n",
        "Quantum Efficiency = 50 %\n"
       ]
      }
     ],
     "prompt_number": 32
    },
    {
     "cell_type": "heading",
     "level": 2,
     "metadata": {},
     "source": [
      "Exa 8.18 : page 174"
     ]
    },
    {
     "cell_type": "code",
     "collapsed": false,
     "input": [
      "#Given data :\n",
      "RL=630 #in Ohm\n",
      "B=50 #in MHz\n",
      "B=B*10**6 #in Hz\n",
      "Ip=10**-7 #in Ampere\n",
      "T=18 #in degree C\n",
      "T=T+273 #in kelvin\n",
      "q=1.6*10**-19 #in coulamb\n",
      "K=1.38*10**-23 #Boltzman Constant\n",
      "SbyN=Ip**2/(2*q*B*Ip+4*K*T*B/RL) #unitless\n",
      "SbyNdB=10*log10(SbyN) #in dB\n",
      "print \"Maximum SNR = %0.f dB \" %round(SbyNdB)"
     ],
     "language": "python",
     "metadata": {},
     "outputs": [
      {
       "output_type": "stream",
       "stream": "stdout",
       "text": [
        "Maximum SNR = 9 dB \n"
       ]
      }
     ],
     "prompt_number": 33
    },
    {
     "cell_type": "heading",
     "level": 2,
     "metadata": {},
     "source": [
      "Exa 8.19 : page 174"
     ]
    },
    {
     "cell_type": "code",
     "collapsed": false,
     "input": [
      "#Given data :\n",
      "lamda=1.3 #in um\n",
      "lamda=lamda*10**-6 #in meter\n",
      "Id=16 #in nA\n",
      "Id=Id*10**-9 #in Ampere\n",
      "ETA=90 #Quantum Efficiency in %\n",
      "RL=1000 #in Ohm\n",
      "P=1.2 #in uW\n",
      "P=P*10**-6 #in Watts\n",
      "B=80 #in Mhz\n",
      "B=B*10**6 #in Hz\n",
      "T=20 #in degree C\n",
      "T=T+273 #in kelvin\n",
      "q=1.6*10**-19 #in c\n",
      "K=1.38*10**-23 #Boltzman Constant\n",
      "h=6.63*10**-34 #Planks constant\n",
      "c=3*10**8 #in m/s\n",
      "Ip=(ETA/100)*q*lamda*P/(h*c) #in Ampere\n",
      "Iq=sqrt(2*q*Ip*B) #in Ampere\n",
      "print \"Mean square quantum noise = %0.2f nA \" %(Iq*10**9) \n",
      "I_dark=sqrt(2*q*Id*B) #in Ampere\n",
      "print \"Mean square dark current noise = %0.2f nA \"%(I_dark*10**9) \n",
      "It=sqrt(4*K*T*B/RL) #in Ampere\n",
      "print \"Mean square thermal current noise = %0.f nA \" %round(It*10**9) "
     ],
     "language": "python",
     "metadata": {},
     "outputs": [
      {
       "output_type": "stream",
       "stream": "stdout",
       "text": [
        "Mean square quantum noise = 5.38 nA \n",
        "Mean square dark current noise = 0.64 nA \n",
        "Mean square thermal current noise = 36 nA \n"
       ]
      }
     ],
     "prompt_number": 35
    },
    {
     "cell_type": "heading",
     "level": 2,
     "metadata": {},
     "source": [
      "Exa 8.20 : page 175"
     ]
    },
    {
     "cell_type": "code",
     "collapsed": false,
     "input": [
      "#Given data :\n",
      "F=3 #in dB\n",
      "F=10**(F/10) #unitless\n",
      "M=1 #unitless\n",
      "lamda=1.3 #in um\n",
      "lamda=lamda*10**-6 #in meter\n",
      "Id=16 #in nA\n",
      "Id=Id*10**-9 #in Ampere\n",
      "ETA=90 #Quantum Efficiency in %\n",
      "RL=1000 #in Ohm\n",
      "P=1.2 #in uW\n",
      "P=P*10**-6 #in Watts\n",
      "B=80 #in Mhz\n",
      "B=B*10**6 #in Hz\n",
      "T=20 #in degree C\n",
      "T=T+273 #in kelvin\n",
      "q=1.6*10**-19 #in c\n",
      "K=1.38*10**-23 #Boltzman Constant\n",
      "h=6.63*10**-34 #Planks constant\n",
      "c=3*10**8 #in m/s\n",
      "Ip=(ETA/100)*q*lamda*P/(h*c) #in Ampere\n",
      "SbyN=Ip**2*M**2/(2*q*B*(Ip+Id)*M**2+(4*K*T*B*F/RL)) \n",
      "print \"SNR at the output = %0.f \"%SbyN\n",
      "# Answer is not accurate in the textbook."
     ],
     "language": "python",
     "metadata": {},
     "outputs": [
      {
       "output_type": "stream",
       "stream": "stdout",
       "text": [
        "SNR at the output = 489 \n"
       ]
      }
     ],
     "prompt_number": 38
    }
   ],
   "metadata": {}
  }
 ]
}
