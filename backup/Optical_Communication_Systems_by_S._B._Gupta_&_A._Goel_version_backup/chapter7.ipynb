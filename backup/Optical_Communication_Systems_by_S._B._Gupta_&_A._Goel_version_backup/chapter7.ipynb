{
 "metadata": {
  "name": "",
  "signature": ""
 },
 "nbformat": 3,
 "nbformat_minor": 0,
 "worksheets": [
  {
   "cells": [
    {
     "cell_type": "heading",
     "level": 1,
     "metadata": {},
     "source": [
      "Chapter 7 - Laser light source"
     ]
    },
    {
     "cell_type": "heading",
     "level": 2,
     "metadata": {},
     "source": [
      "Exa 7.1 : page 142"
     ]
    },
    {
     "cell_type": "code",
     "collapsed": false,
     "input": [
      "from __future__ import division\n",
      "from numpy import exp\n",
      "#Given data :\n",
      "lamda=1.5 #in um\n",
      "T=900 #in kelvin\n",
      "h=6.63*10**-34 #Planks contant\n",
      "c=3*10**8 #speed of light in m/s\n",
      "K=1.38*10**-23 #Boltzman Constant\n",
      "#Formula : StiEmissionRate/SponEmissionRate=1/(exp(h*F/(K*T))-1)=1/(exp(h*c/(K*T*lamda))-1)\n",
      "StiEmRateBySponEmRate=1/(exp(h*c/(K*T*lamda*10**-6))-1) \n",
      "print \"Stimulated Emission Rate/Spontanious Emission Rate = %0.2e \"%StiEmRateBySponEmRate "
     ],
     "language": "python",
     "metadata": {},
     "outputs": [
      {
       "output_type": "stream",
       "stream": "stdout",
       "text": [
        "Stimulated Emission Rate/Spontanious Emission Rate = 2.31e-05 \n"
       ]
      }
     ],
     "prompt_number": 1
    },
    {
     "cell_type": "heading",
     "level": 2,
     "metadata": {},
     "source": [
      "Exa 7.2 : page 143"
     ]
    },
    {
     "cell_type": "code",
     "collapsed": false,
     "input": [
      "#Given data :\n",
      "lamda=0.8 #in um\n",
      "lamda=lamda*10**-6 #in meter\n",
      "deltaNEU=300 #in GHz\n",
      "deltaNEU=deltaNEU*10**9 #in Hz\n",
      "c=3*10**8 #speed of light in m/s\n",
      "n=3.6 #Refractive index(unitless)\n",
      "#Part (a) :\n",
      "#Formula : deltaNEU=c/(2*n*L)\n",
      "L=c/(2*n*deltaNEU) #in meter\n",
      "print \"(a) Length of optical cavity = %0.2f micro meter\" %(L*10**6)\n",
      "#Part(b) : \n",
      "K=2*n*L/lamda #No. of longitudinal modes\n",
      "print \"(b) No. of longitudinal modes = %0.f \" %K "
     ],
     "language": "python",
     "metadata": {},
     "outputs": [
      {
       "output_type": "stream",
       "stream": "stdout",
       "text": [
        "(a) Length of optical cavity = 138.89 micro meter\n",
        "(b) No. of longitudinal modes = 1250 \n"
       ]
      }
     ],
     "prompt_number": 2
    },
    {
     "cell_type": "heading",
     "level": 2,
     "metadata": {},
     "source": [
      "Exa 7.3 : page 143"
     ]
    },
    {
     "cell_type": "code",
     "collapsed": false,
     "input": [
      "#Given data :\n",
      "lamda=0.55 #in um\n",
      "lamda=lamda*10**-6 #in meter\n",
      "c=3*10**8 #speed of light in m/s\n",
      "n=1.78 #Refractive index(unitless)\n",
      "K=260000 #No. of longitudinal modes\n",
      "#Part (a) :\n",
      "L=K*lamda/(2*n) #in meter\n",
      "print \"(a) Length of the crystal = %0.4f meter\" %L\n",
      "#Part (b) :\n",
      "deltaNEU=c/(2*n*L) #in Hz\n",
      "print \"(b) Frequency separation of longitudinal modes = %0.3f GHz\" %(deltaNEU*10**-9) "
     ],
     "language": "python",
     "metadata": {},
     "outputs": [
      {
       "output_type": "stream",
       "stream": "stdout",
       "text": [
        "(a) Length of the crystal = 0.0402 meter\n",
        "(b) Frequency separation of longitudinal modes = 2.098 GHz\n"
       ]
      }
     ],
     "prompt_number": 4
    },
    {
     "cell_type": "heading",
     "level": 2,
     "metadata": {},
     "source": [
      "Exa 7.4 : page 144"
     ]
    },
    {
     "cell_type": "code",
     "collapsed": false,
     "input": [
      "#Given data :\n",
      "Eg=1.43 #in eV\n",
      "deltalamda=0.1 #in nm\n",
      "deltalamda=deltalamda*10**-9#in meter\n",
      "c=3*10**8 #speed of light in m/s\n",
      "h=6.63*10**-34 #Planks contant\n",
      "#Part (a) :\n",
      "#Fomula : Eg=h*c/lamda\n",
      "lamda=h*c/(Eg*1.6*10**-19) #in meter\n",
      "print \"(a) Wavelength of optical emission = %0.2f micro meter \" %(lamda*10**6)\n",
      "#Part (b) :\n",
      "#Formula : deltaNEU=c*deltalamda/lamda**2 #in Hz\n",
      "deltaNEU=c*deltalamda/lamda**2 #in Hz\n",
      "print \"(b) Frequency separation of longitudinal modes = %0.1f GHz \" %(deltaNEU*10**-9) "
     ],
     "language": "python",
     "metadata": {},
     "outputs": [
      {
       "output_type": "stream",
       "stream": "stdout",
       "text": [
        "(a) Wavelength of optical emission = 0.87 micro meter \n",
        "(b) Frequency separation of longitudinal modes = 39.7 GHz \n"
       ]
      }
     ],
     "prompt_number": 6
    },
    {
     "cell_type": "heading",
     "level": 2,
     "metadata": {},
     "source": [
      "Exa 7.5 : page 145"
     ]
    },
    {
     "cell_type": "code",
     "collapsed": false,
     "input": [
      "#Given data :\n",
      "To=150 #in kelvin\n",
      "T1=20 #in degree C\n",
      "T1=T1+273 #in kelvin\n",
      "T2=70 #in degree C\n",
      "T2=T2+273 #in kelvin\n",
      "#Formula   Jth=exp(T/To)\n",
      "Jth20=exp(T1/To) \n",
      "Jth70=exp(T2/To)\n",
      "ratio=Jth70/Jth20 #unitless\n",
      "print \"Ratio of current densities for AlGaAs injection laser = %0.1f \" %ratio "
     ],
     "language": "python",
     "metadata": {},
     "outputs": [
      {
       "output_type": "stream",
       "stream": "stdout",
       "text": [
        "Ratio of current densities for AlGaAs injection laser = 1.4 \n"
       ]
      }
     ],
     "prompt_number": 8
    },
    {
     "cell_type": "heading",
     "level": 2,
     "metadata": {},
     "source": [
      "Exa 7.6 : page 145"
     ]
    },
    {
     "cell_type": "code",
     "collapsed": false,
     "input": [
      "#Given data :\n",
      "lamda=1.55 #in um\n",
      "m=1 #for first order\n",
      "n=3.5 #Refractive Index(unitless)\n",
      "#Formula : GratingPeriod=m*lamda/(2*n)\n",
      "GratingPeriod=m*lamda/(2*n) #in um\n",
      "print \"Grating Period for an InGaAsP DFB Laser diode = %0.2f micro meter\" %GratingPeriod "
     ],
     "language": "python",
     "metadata": {},
     "outputs": [
      {
       "output_type": "stream",
       "stream": "stdout",
       "text": [
        "Grating Period for an InGaAsP DFB Laser diode = 0.22 micro meter\n"
       ]
      }
     ],
     "prompt_number": 10
    },
    {
     "cell_type": "heading",
     "level": 2,
     "metadata": {},
     "source": [
      "Exa 7.7 : page 145"
     ]
    },
    {
     "cell_type": "code",
     "collapsed": false,
     "input": [
      "#Given data :\n",
      "L=0.3 #in mm\n",
      "L=L*10**-3 #in meter\n",
      "n=3.6 #Refractive Index(unitless)\n",
      "c=3*10**8 #speed of light in m/s\n",
      "lamda=0.82 #in um\n",
      "lamda=lamda*10**-6 #in meter\n",
      "deltaNEU=c/(2*n*L) #in Hz\n",
      "print \"Frequency spread between longitudinal modes = %0.f GHz\" %(deltaNEU*10**-9) \n",
      "deltalamda=lamda**2/(c/deltaNEU)#in meter\n",
      "print \"Wavelength spread between longitudinal modes = %0.2f nm\"%(deltalamda*10**9) "
     ],
     "language": "python",
     "metadata": {},
     "outputs": [
      {
       "output_type": "stream",
       "stream": "stdout",
       "text": [
        "Frequency spread between longitudinal modes = 139 GHz\n",
        "Wavelength spread between longitudinal modes = 0.31 nm\n"
       ]
      }
     ],
     "prompt_number": 13
    }
   ],
   "metadata": {}
  }
 ]
}
