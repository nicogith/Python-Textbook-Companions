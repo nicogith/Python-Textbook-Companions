{
 "cells": [
  {
   "cell_type": "markdown",
   "metadata": {},
   "source": [
    "# Chapter-1 Review of fundamentals of semiconductor"
   ]
  },
  {
   "cell_type": "markdown",
   "metadata": {},
   "source": [
    "## Ex 1.5.1 Pg 1-7"
   ]
  },
  {
   "cell_type": "code",
   "execution_count": 92,
   "metadata": {
    "collapsed": false
   },
   "outputs": [
    {
     "name": "stdout",
     "output_type": "stream",
     "text": [
      "Forbidden gap for Si : \n",
      "at 35 degree C = 1.099 eV\n",
      "at 60 degree C = 1.090 eV\n",
      "\n",
      "Forbidden gap for Ge : \n",
      "at 35 degree C = 0.7163 eV\n",
      "at 60 degree C = 0.7107 eV\n"
     ]
    }
   ],
   "source": [
    "from __future__ import division\n",
    "#Given : \n",
    "t1=35##degreeC\n",
    "t2=60##degreeC\n",
    "T1=t1+273##K\n",
    "T2=t2+273##K\n",
    "print \"Forbidden gap for Si : \"\n",
    "EG1_Si=1.21-3.6*10**-4*T1##eV\n",
    "print \"at 35 degree C = %0.3f eV\"%EG1_Si\n",
    "EG2_Si=1.21-3.6*10**-4*T2##eV\n",
    "print \"at 60 degree C = %0.3f eV\"%EG2_Si\n",
    "print \"\\nForbidden gap for Ge : \"\n",
    "EG1_Ge=0.785-2.23*10**-4*T1##eV\n",
    "print \"at 35 degree C = %0.4f eV\"%EG1_Ge\n",
    "EG2_Ge=0.785-2.23*10**-4*T2##eV\n",
    "print \"at 60 degree C = %0.4f eV\"%EG2_Ge"
   ]
  },
  {
   "cell_type": "markdown",
   "metadata": {},
   "source": [
    "## Ex 1.9.1 Pg 1-22"
   ]
  },
  {
   "cell_type": "code",
   "execution_count": 93,
   "metadata": {
    "collapsed": false
   },
   "outputs": [
    {
     "name": "stdout",
     "output_type": "stream",
     "text": [
      "(i) Concentration of electron = 2.88e+21 m**3 \n",
      "(ii) Drift velocity = 2.167 m/s \n"
     ]
    }
   ],
   "source": [
    "#Given : \n",
    "l=6*10**-2##m\n",
    "V=1##Volt\n",
    "A=10*10**-6##m**2\n",
    "I=10*10**-3##A\n",
    "q=1.602*10**-19##Coulomb\n",
    "mu_n=1300*10**-4##m**2/V-s\n",
    "E=V/l##V/m\n",
    "v=mu_n*E##m/s\n",
    "J=I/A##A/m**2\n",
    "n=J/(q*mu_n*E)##per m**3\n",
    "print \"(i) Concentration of electron = %0.2e m**3 \"%n\n",
    "print \"(ii) Drift velocity = %0.3f m/s \"%v"
   ]
  },
  {
   "cell_type": "markdown",
   "metadata": {},
   "source": [
    "## Ex 1.9.2 Pg 1-23"
   ]
  },
  {
   "cell_type": "code",
   "execution_count": 94,
   "metadata": {
    "collapsed": false
   },
   "outputs": [
    {
     "name": "stdout",
     "output_type": "stream",
     "text": [
      "Electron mobility = 0.365 m**2/V-s\n"
     ]
    }
   ],
   "source": [
    "#Given : \n",
    "l=6*10**-2##m\n",
    "V=12##Volt\n",
    "v=73##m/s\n",
    "E=V/l##V/m\n",
    "mu=v/E##m**2/V-s\n",
    "print \"Electron mobility = %0.3f m**2/V-s\"%mu"
   ]
  },
  {
   "cell_type": "markdown",
   "metadata": {},
   "source": [
    "## Ex 1.10.1 Pg 1-25"
   ]
  },
  {
   "cell_type": "code",
   "execution_count": 95,
   "metadata": {
    "collapsed": false
   },
   "outputs": [
    {
     "name": "stdout",
     "output_type": "stream",
     "text": [
      "Concentration of electron = 9.615e+20 per m**3 \n",
      "Electron velocity = 3.250 m/s \n"
     ]
    }
   ],
   "source": [
    "#Given : \n",
    "l=4*10**-2##m\n",
    "A=10*10**-6##m**2\n",
    "V=1##Volt\n",
    "I=5*10**-3##A\n",
    "q=1.6*10**-19##Coulomb\n",
    "mu=1300##cm**2/V-s\n",
    "J=I/A##A/m**2\n",
    "E=V/l##V/m\n",
    "n=J/(q*mu*10**-4*E)#\n",
    "v=mu*10**-4*E##m/s\n",
    "print \"Concentration of electron = %0.3e per m**3 \"%n\n",
    "print \"Electron velocity = %0.3f m/s \"%v"
   ]
  },
  {
   "cell_type": "markdown",
   "metadata": {},
   "source": [
    "## Ex 1.11.1 Pg 1-28"
   ]
  },
  {
   "cell_type": "code",
   "execution_count": 96,
   "metadata": {
    "collapsed": false
   },
   "outputs": [
    {
     "name": "stdout",
     "output_type": "stream",
     "text": [
      "Conductivity = 5.520e-04 (ohm-m)**-1 \n",
      "Resistivity = 1811.6 ohm-m\n"
     ]
    }
   ],
   "source": [
    "#Given : \n",
    "ni=1.5*10**10/10**-6##per m**3\n",
    "mu_n=1800*10**-4##m**2/V-s\n",
    "mu_p=500*10**-4##m**2/V-s\n",
    "q=1.6*10**-19##Coulomb\n",
    "sigma_i=ni*(mu_n+mu_p)*q##(ohm-m)**-1\n",
    "print \"Conductivity = %0.3e (ohm-m)**-1 \"%sigma_i\n",
    "rho_i=1/sigma_i##ohm-m\n",
    "print \"Resistivity = %0.1f ohm-m\"%rho_i"
   ]
  },
  {
   "cell_type": "markdown",
   "metadata": {},
   "source": [
    "## Ex 1.11.2 Pg 1-28"
   ]
  },
  {
   "cell_type": "code",
   "execution_count": 97,
   "metadata": {
    "collapsed": false
   },
   "outputs": [
    {
     "name": "stdout",
     "output_type": "stream",
     "text": [
      "Intrinsic carrier concentration  = 1.5e+10 per cm**3\n"
     ]
    }
   ],
   "source": [
    "from math import sqrt, exp\n",
    "#Given : \n",
    "T=300##K\n",
    "Ao=2.735*10**31##constant for Si\n",
    "k=86*10**-6##boltzman constant\n",
    "EGO=1.1##volt(Bandgap energy)\n",
    "ni=sqrt(Ao*T**3*exp(-EGO/k/T))##per cm**3\n",
    "print \"Intrinsic carrier concentration  = %0.1e per cm**3\"%ni"
   ]
  },
  {
   "cell_type": "markdown",
   "metadata": {},
   "source": [
    "## Ex 1.11.3 Pg 1-29"
   ]
  },
  {
   "cell_type": "code",
   "execution_count": 98,
   "metadata": {
    "collapsed": false
   },
   "outputs": [
    {
     "name": "stdout",
     "output_type": "stream",
     "text": [
      "(i) Current = 3.00 A\n",
      "(ii) Conductivity  = 2.78e+07 (ohm-m)**-1\n",
      "(iii) velocity of free electrons = 2.08e-02 m/s\n",
      "(iv) Mobility = 0.193 m**2/V-s \n"
     ]
    }
   ],
   "source": [
    "#Given : \n",
    "A=1*10**-6##m**2\n",
    "R=3.6*10**-4/10**-2##ohm/m\n",
    "n=9*10**26##electrons/m**3\n",
    "J=3*10**6##A/m**2\n",
    "q=1.6*10**-19##Coulomb\n",
    "I=J*A##A\n",
    "print \"(i) Current = %0.2f A\"%I\n",
    "rho=R*A##ohm-m\n",
    "sigma=1/rho##(ohm-m)**-1\n",
    "print \"(ii) Conductivity  = %0.2e (ohm-m)**-1\"%sigma\n",
    "v=J/n/q##m/s\n",
    "print \"(iii) velocity of free electrons = %0.2e m/s\"%v\n",
    "mu=sigma/n/q##m**2/V-s\n",
    "print \"(iv) Mobility = %0.3f m**2/V-s \"%mu"
   ]
  },
  {
   "cell_type": "markdown",
   "metadata": {},
   "source": [
    "## Ex 1.11.4 Pg 1-31"
   ]
  },
  {
   "cell_type": "code",
   "execution_count": 99,
   "metadata": {
    "collapsed": false
   },
   "outputs": [
    {
     "name": "stdout",
     "output_type": "stream",
     "text": [
      "Intrinsic concentration at 30 degree C = 1.16e+16 per m**3) \n",
      "Intrinsic concentration at 100 degree C = 1.221e+18 (per m**3)\n"
     ]
    }
   ],
   "source": [
    "#Given : \n",
    "rho=3*10**5*10**-2##ohm-m\n",
    "T1=30+273##K\n",
    "mu_n=0.13##m**2/V-s\n",
    "mu_p=0.05##m**2/V-s\n",
    "q=1.6*10**-19##Coulomb\n",
    "T2=100+273##K\n",
    "sigma_i=1/rho##(ohm-m)**-1\n",
    "ni1=sigma_i/q/(mu_n+mu_p)##electrons/m**3\n",
    "print \"Intrinsic concentration at 30 degree C = %0.2e per m**3) \"%ni1\n",
    "k=8.62*10**-5##eV/K(Boltzman constant)\n",
    "EGO=1.21##V(Energy band gap)\n",
    "Ao=ni1**2/(T1**3*exp(-EGO/k/T1))##constant\n",
    "ni2=sqrt(Ao*T2**3*exp(-EGO/k/T2))##per cm**3\n",
    "print \"Intrinsic concentration at 100 degree C = %0.3e (per m**3)\"%ni2"
   ]
  },
  {
   "cell_type": "markdown",
   "metadata": {},
   "source": [
    "## Ex 1.11.5 Pg 1-32"
   ]
  },
  {
   "cell_type": "code",
   "execution_count": 100,
   "metadata": {
    "collapsed": false
   },
   "outputs": [
    {
     "name": "stdout",
     "output_type": "stream",
     "text": [
      "Majority Carrier density = 3.720e+20 per m**3\n"
     ]
    }
   ],
   "source": [
    "#Given : \n",
    "l=0.1*10**-2##m\n",
    "R=1.5*10**3##ohm\n",
    "mu_n=0.14##m**2/V-s\n",
    "mu_p=0.05##m**2/V-s\n",
    "A=8*10**-8##m**2\n",
    "ni=1.5*10**10*10**6## per m**3\n",
    "q=1.6*10**-19##Coulomb\n",
    "rho_n=R*A/l##ohm-m\n",
    "sigma_n=1/rho_n##(ohm-m)**-1\n",
    "ND=sigma_n/mu_n/q##\n",
    "print \"Majority Carrier density = %0.3e per m**3\"%ND"
   ]
  },
  {
   "cell_type": "markdown",
   "metadata": {},
   "source": [
    "## Ex 1.11.6 Pg 1-32"
   ]
  },
  {
   "cell_type": "code",
   "execution_count": 101,
   "metadata": {
    "collapsed": false
   },
   "outputs": [
    {
     "name": "stdout",
     "output_type": "stream",
     "text": [
      "Length of the bar = 0.855 mm\n"
     ]
    }
   ],
   "source": [
    "#Given : \n",
    "A=2.5*10**-4##m**2\n",
    "n=1.5*10**16##per m**3\n",
    "q=1.6*10**-19##Coulomb\n",
    "mu_n=0.14##m**2/V-s\n",
    "mu_p=0.05##m**2/V-s\n",
    "I=1.2*10**-3##A\n",
    "V=9##Volts\n",
    "ni=n## per m**3\n",
    "sigma_i=ni*q*(mu_n+mu_p)##(ohm-m)**-1\n",
    "rho_i=1/sigma_i##ohm-m\n",
    "R=V/I##ohm\n",
    "l=R*A/rho_i##m\n",
    "print \"Length of the bar = %0.3f mm\"%(l*1000)"
   ]
  },
  {
   "cell_type": "markdown",
   "metadata": {},
   "source": [
    "## Ex 1.11.7 Pg 1-34"
   ]
  },
  {
   "cell_type": "code",
   "execution_count": 102,
   "metadata": {
    "collapsed": false
   },
   "outputs": [
    {
     "name": "stdout",
     "output_type": "stream",
     "text": [
      "Resistivity = 2.3148e+05 ohm-cm\n",
      "Ratio of donor impurity atom to Si atom : 1e-08\n"
     ]
    }
   ],
   "source": [
    "from __future__ import division\n",
    "#Given : \n",
    "n=5*10**22##per cm**3\n",
    "mu_n=1300##cm**2/V-s\n",
    "mu_p=500##cm**2/V-s\n",
    "ni=1.5*10**10##per cm**3\n",
    "T=300##K\n",
    "rho_n=9.5##ohm-cm\n",
    "q=1.6*10**-19##Coulomb\n",
    "sigma_i=ni*q*(mu_n+mu_p)##(ohm-cm)**-1\n",
    "rho_i=1/sigma_i##ohm-cm\n",
    "print \"Resistivity = %0.4e ohm-cm\"%rho_i\n",
    "sigma_n=1/rho_n##(ohm-cm)**-1\n",
    "ND=sigma_n/mu_n/q##per m**3\n",
    "Ratio=ND/n#\n",
    "print \"Ratio of donor impurity atom to Si atom : %0.e\"%(Ratio)"
   ]
  },
  {
   "cell_type": "markdown",
   "metadata": {},
   "source": [
    "## Ex 1.11.8 Pg 1-35"
   ]
  },
  {
   "cell_type": "code",
   "execution_count": 103,
   "metadata": {
    "collapsed": false
   },
   "outputs": [
    {
     "name": "stdout",
     "output_type": "stream",
     "text": [
      "Resistivity of intrinsic Si = 2246.91 ohm-m \n",
      "Resistivity of doped Si = 9.259e-02 ohm-m\n"
     ]
    }
   ],
   "source": [
    "#Given : \n",
    "n=5*10**22##per cm**3\n",
    "ni=1.52*10**10*10**6##per m**3\n",
    "q=1.6*10**-19##Coulomb\n",
    "mu_n=0.135##m**2/V-s\n",
    "mu_p=0.048##m**2/V-s\n",
    "impurity=1/10**8##atoms\n",
    "sigma_i=ni*q*(mu_n+mu_p)##(ohm-cm)**-1\n",
    "rho_i=1/sigma_i##ohm-cm\n",
    "print \"Resistivity of intrinsic Si = %0.2f ohm-m \"%rho_i\n",
    "ND=n*impurity*10**6##per m**3\n",
    "sigma_n=ND*mu_n*q##(ohm-m)**-1\n",
    "rho_n=1/sigma_n##ohm-m\n",
    "print \"Resistivity of doped Si = %0.3e ohm-m\"%rho_n\n",
    "#Answer in the book is not accurate."
   ]
  },
  {
   "cell_type": "markdown",
   "metadata": {},
   "source": [
    "## Ex 1.11.9 Pg 1-36"
   ]
  },
  {
   "cell_type": "code",
   "execution_count": 104,
   "metadata": {
    "collapsed": false
   },
   "outputs": [
    {
     "name": "stdout",
     "output_type": "stream",
     "text": [
      "Ratio of doner atom to Si atom per unit volume : 1e-08\n"
     ]
    }
   ],
   "source": [
    "#Given : \n",
    "rho=9.6*10**-2##ohm-m\n",
    "mu_n=1300*10**-4##m**2/V-s\n",
    "sigma_n=1/rho##(ohm-cm)**-1\n",
    "TotalAtoms=5*10**28##per m**3\n",
    "q=1.6*10**-19##Coulomb\n",
    "ND=sigma_n/mu_n/q##per m**3\n",
    "ratio=ND/TotalAtoms#\n",
    "print \"Ratio of doner atom to Si atom per unit volume : %0.e\"%ratio"
   ]
  },
  {
   "cell_type": "markdown",
   "metadata": {},
   "source": [
    "## Ex 1.11.10 Pg 1-37"
   ]
  },
  {
   "cell_type": "code",
   "execution_count": 105,
   "metadata": {
    "collapsed": false
   },
   "outputs": [
    {
     "name": "stdout",
     "output_type": "stream",
     "text": [
      "Resistivity of Ge = 45.0 ohm-cm\n"
     ]
    }
   ],
   "source": [
    "#Given : \n",
    "ni=2.5*10**13##per cm**3\n",
    "mu_p=1800##cm**2/V-s\n",
    "mu_n=3800##cm**2/V-s\n",
    "q=1.6*10**-19##Coulomb\n",
    "sigma_i=ni*q*(mu_n+mu_p)##(ohm-cm)**-1\n",
    "rho_i=1/sigma_i##ohm-cm\n",
    "print \"Resistivity of Ge =\",round(rho_i),\"ohm-cm\""
   ]
  },
  {
   "cell_type": "markdown",
   "metadata": {},
   "source": [
    "## Ex 1.11.11 Pg 1-37"
   ]
  },
  {
   "cell_type": "code",
   "execution_count": 106,
   "metadata": {
    "collapsed": false
   },
   "outputs": [
    {
     "name": "stdout",
     "output_type": "stream",
     "text": [
      "Electron concentration  = 1.440e+10 per m**3 \n",
      "Conductivity of Si = 80 (ohm-m)**-1\n"
     ]
    }
   ],
   "source": [
    "#Given : \n",
    "ni=1.2*10**16##per m**3\n",
    "p=10**22##per m**3\n",
    "mu_p=500*10**-4##cm**2/V-s\n",
    "mu_n=1350*10**-4##cm**2/V-s\n",
    "q=1.6*10**-19##Coulomb\n",
    "n=ni**2/p##per m**3\n",
    "print \"Electron concentration  = %0.3e per m**3 \"%n\n",
    "sigma=q*(n*mu_n+p*mu_p)##(ohm-m)**-1\n",
    "print \"Conductivity of Si = %0.f (ohm-m)**-1\"%sigma"
   ]
  },
  {
   "cell_type": "markdown",
   "metadata": {},
   "source": [
    "## Ex 1.12.1 Pg 1-39"
   ]
  },
  {
   "cell_type": "code",
   "execution_count": 107,
   "metadata": {
    "collapsed": false
   },
   "outputs": [
    {
     "name": "stdout",
     "output_type": "stream",
     "text": [
      "Electron concentration  = 1e+17 per cm**3 \n",
      "Holes  = 2.25e+03 per cm**3 : \n"
     ]
    }
   ],
   "source": [
    "#Given : \n",
    "T=27+273##K\n",
    "ND=10**17##per cm**3\n",
    "ni=1.5*10**10##per cm**3\n",
    "n=ND##per m**3#ND>>n\n",
    "print \"Electron concentration  = %0.e per cm**3 \"%n\n",
    "p=ni**2/n##per m**3\n",
    "print \"Holes  = %0.2e per cm**3 : \"%p"
   ]
  },
  {
   "cell_type": "markdown",
   "metadata": {},
   "source": [
    "## Ex 1.12.2 Pg 1-39"
   ]
  },
  {
   "cell_type": "code",
   "execution_count": 108,
   "metadata": {
    "collapsed": false
   },
   "outputs": [
    {
     "name": "stdout",
     "output_type": "stream",
     "text": [
      "Total free electrons  = 2.20e+17 per m**3\n"
     ]
    }
   ],
   "source": [
    "#Given : \n",
    "Vol=4*50*1.5##mm**3\n",
    "ni=2.4*10**19##per m**3\n",
    "p=7.85*10**14##per m**3\n",
    "n=ni**2/p##per m**3\n",
    "Vol=Vol*10**-9##m**3\n",
    "TotalElectron=n*Vol##no. of electrons\n",
    "print \"Total free electrons  = %0.2e per m**3\"%TotalElectron"
   ]
  },
  {
   "cell_type": "markdown",
   "metadata": {},
   "source": [
    "## Ex 1.13.1 Pg 1-41"
   ]
  },
  {
   "cell_type": "code",
   "execution_count": 109,
   "metadata": {
    "collapsed": false
   },
   "outputs": [
    {
     "name": "stdout",
     "output_type": "stream",
     "text": [
      "Total current density = 524.21 A/m**2 \n"
     ]
    }
   ],
   "source": [
    "#Given : \n",
    "ND=10**14##per cm**3\n",
    "NA=7*10**13##per cm**3\n",
    "rho_i=60##ohm-cm\n",
    "E=2##V/cm\n",
    "q=1.6*10**-19##Coulomb\n",
    "mu_p=1800##cm**2/V-s\n",
    "mu_n=3800##cm**2/V-s\n",
    "sigma_i=1/rho_i##(ohm-cm)**-1\n",
    "ni=sigma_i/q/(mu_n+mu_p)##per cm**3\n",
    "from sympy import symbols, solve\n",
    "p = symbols('p')\n",
    "n=p+(ND-NA)##per cm**3\n",
    "#n*p=ni**2 \n",
    "expr = n*p-ni**2 \n",
    "#m=[1 (ND-NA) -ni**2]##polynomial\n",
    "p=solve(expr,p)[1]##per m**3 #taking only +ve value\n",
    "n=ni**2/p##per m**3\n",
    "J=(n*mu_n+p*mu_p)*q*E/10**-4##A/m**2\n",
    "print \"Total current density = %0.2f A/m**2 \"%J\n",
    "#Answer in the textbook is not accurate."
   ]
  },
  {
   "cell_type": "markdown",
   "metadata": {},
   "source": [
    "## Ex 1.13.2 Pg 1-43"
   ]
  },
  {
   "cell_type": "code",
   "execution_count": 110,
   "metadata": {
    "collapsed": false
   },
   "outputs": [
    {
     "name": "stdout",
     "output_type": "stream",
     "text": [
      "Value of electrical field, E = 0.8150 V/cm \n"
     ]
    }
   ],
   "source": [
    "#Given : \n",
    "ND=10**14##per cm**3\n",
    "NA=7*10**3##per cm**3\n",
    "rho_i=60##ohm-cm\n",
    "J=52##mA/cm**2\n",
    "q=1.6*10**-19##Coulomb\n",
    "mu_p=1800##cm**2/V-s\n",
    "mu_n=3800##cm**2/V-s\n",
    "sigma_i=1/rho_i##(ohm-cm)**-1\n",
    "ni=sigma_i/q/(mu_n+mu_p)##per cm**3\n",
    "from sympy import symbols, solve\n",
    "p = symbols('p')\n",
    "n=p+(ND-NA)##per cm**3\n",
    "#n*p=ni**2 \n",
    "expr = n*p-ni**2 \n",
    "#m=[1 (ND-NA) -ni**2]##polynomial\n",
    "p=solve(expr,p)[1]##per m**3 #taking only +ve value\n",
    "n=ni**2/p##per m**3\n",
    "E=J*10**-3/q/(n*mu_n+p*mu_p)##V/m\n",
    "print \"Value of electrical field, E = %0.4f V/cm \"%E"
   ]
  },
  {
   "cell_type": "markdown",
   "metadata": {},
   "source": [
    "## Ex 1.13.3 Pg 1-45"
   ]
  },
  {
   "cell_type": "code",
   "execution_count": 111,
   "metadata": {
    "collapsed": false
   },
   "outputs": [
    {
     "name": "stdout",
     "output_type": "stream",
     "text": [
      "Total current density = 382.75 A/m**2\n"
     ]
    }
   ],
   "source": [
    "#Given : \n",
    "ND=10**14##per cm**3\n",
    "NA=7*10**13##per cm**3\n",
    "rho_i=60##ohm-cm\n",
    "E=2##V/cm\n",
    "q=1.6*10**-19##Coulomb\n",
    "mu_p=500##cm**2/V-s\n",
    "mu_n=1300##cm**2/V-s\n",
    "sigma_i=1/rho_i##(ohm-cm)**-1\n",
    "ni=sigma_i/q/(mu_n+mu_p)##per cm**3\n",
    "from sympy import symbols, solve\n",
    "p = symbols('p')\n",
    "n=p+(ND-NA)##per cm**3\n",
    "#n*p=ni**2 \n",
    "expr = n*p-ni**2 \n",
    "#m=[1 (ND-NA) -ni**2]##polynomial\n",
    "p=solve(expr,p)[1]##per m**3 #taking only +ve value\n",
    "n=ni**2/p##per m**3\n",
    "J=(n*mu_n+p*mu_p)*q*E/10**-4##A/m**2\n",
    "print \"Total current density = %0.2f A/m**2\"%J"
   ]
  },
  {
   "cell_type": "markdown",
   "metadata": {},
   "source": [
    "## Ex 1.13.4 Pg 1-46"
   ]
  },
  {
   "cell_type": "code",
   "execution_count": 112,
   "metadata": {
    "collapsed": false
   },
   "outputs": [
    {
     "name": "stdout",
     "output_type": "stream",
     "text": [
      "Electron mobility = 0.365 m**2/V-s \n"
     ]
    }
   ],
   "source": [
    "#Given : \n",
    "l=6*10**-2##m\n",
    "V=12##volts\n",
    "v=73##m/s\n",
    "E=V/l##V/m\n",
    "mu=v/E##m**2/V-s\n",
    "print \"Electron mobility = %0.3f m**2/V-s \"%mu"
   ]
  },
  {
   "cell_type": "markdown",
   "metadata": {},
   "source": [
    "## Ex 1.15.1 Pg 1-54"
   ]
  },
  {
   "cell_type": "code",
   "execution_count": 113,
   "metadata": {
    "collapsed": false
   },
   "outputs": [
    {
     "name": "stdout",
     "output_type": "stream",
     "text": [
      "Magnitude of hall voltage = 65 mV \n"
     ]
    }
   ],
   "source": [
    "#Given : \n",
    "ND=10**13##per cm**3\n",
    "Bz=0.2##Wb/m**2\n",
    "d=5##mm\n",
    "E=5##V/cm\n",
    "q=1.6*10**-19##Coulomb\n",
    "mu_n=1300##cm**2/V-s\n",
    "rho=ND*q##Coulomb/cm**3\n",
    "J=rho*mu_n*E##A/cm**2\n",
    "VH=Bz*10**-4*J*d*10**-1/rho##V\n",
    "print \"Magnitude of hall voltage = %0.f mV \"%(VH*10**3)"
   ]
  },
  {
   "cell_type": "markdown",
   "metadata": {},
   "source": [
    "## Ex 1.15.2 Pg 1-55"
   ]
  },
  {
   "cell_type": "code",
   "execution_count": 114,
   "metadata": {
    "collapsed": false
   },
   "outputs": [
    {
     "name": "stdout",
     "output_type": "stream",
     "text": [
      "Mobility = 0.050909 m**2/V-s\n"
     ]
    }
   ],
   "source": [
    "#Given : \n",
    "rho=220*10**3*10**-2##ohm/m\n",
    "d=2.2*10**-3##m\n",
    "w=2*10**-3##m\n",
    "B=0.1##Wb/m**2\n",
    "I=5*10**-6##A\n",
    "VH=28*10**-3##V\n",
    "sigma=1/rho##(ohm-m)**-1\n",
    "RH=VH*w/(B*I)##ohm\n",
    "mu=sigma*RH##m**2/V-s\n",
    "print \"Mobility = %0.6f m**2/V-s\"%mu"
   ]
  },
  {
   "cell_type": "markdown",
   "metadata": {},
   "source": [
    "## Ex 1.16.1 Pg 1-59"
   ]
  },
  {
   "cell_type": "code",
   "execution_count": 115,
   "metadata": {
    "collapsed": false
   },
   "outputs": [
    {
     "name": "stdout",
     "output_type": "stream",
     "text": [
      "Concentration of electron = 9.615e+20 per m**3\n",
      "Electron velocity = 3.25 m/s\n"
     ]
    }
   ],
   "source": [
    "#Given : \n",
    "l=4*10**-2##m\n",
    "A=10*10**-6##m**2\n",
    "V=1##Volt\n",
    "I=5*10**-3##A\n",
    "q=1.6*10**-19##Coulomb\n",
    "mu=1300##cm**2/V-s\n",
    "J=I/A##A/m**2\n",
    "E=V/l##V/m\n",
    "n=J/(q*mu*10**-4*E)\n",
    "v=mu*10**-4*E##m/s\n",
    "print \"Concentration of electron = %0.3e per m**3\"%n\n",
    "print \"Electron velocity = %0.2f m/s\"%v"
   ]
  },
  {
   "cell_type": "markdown",
   "metadata": {},
   "source": [
    "## Ex 1.16.2 Pg 1-59"
   ]
  },
  {
   "cell_type": "code",
   "execution_count": 116,
   "metadata": {
    "collapsed": false
   },
   "outputs": [
    {
     "name": "stdout",
     "output_type": "stream",
     "text": [
      "Resistivity of doped Ge = 3.738 ohm-cm\n"
     ]
    }
   ],
   "source": [
    "#Given : \n",
    "mu_n=3800##cm**2/V-s\n",
    "mu_p=1300##cm**2/V-s\n",
    "ni=2.5*10**13##per cm**3\n",
    "q=1.6*10**-19##Coulomb\n",
    "ND=4.4*10**22/10**8##per cm**3\n",
    "sigma_n=ND*q*mu_n##(ohm-m)**-1\n",
    "rho_n=1/sigma_n##ohm-cm\n",
    "print \"Resistivity of doped Ge = %0.3f ohm-cm\"%rho_n"
   ]
  },
  {
   "cell_type": "markdown",
   "metadata": {},
   "source": [
    "## Ex 1.16.3 Pg 1-60"
   ]
  },
  {
   "cell_type": "code",
   "execution_count": 117,
   "metadata": {
    "collapsed": false
   },
   "outputs": [
    {
     "name": "stdout",
     "output_type": "stream",
     "text": [
      "Minor carrier density = 4.5e+11 per m**3\n"
     ]
    }
   ],
   "source": [
    "#Given : \n",
    "ni=1.5*10**16##per m**3\n",
    "n=5*10**20##per m**3\n",
    "p=ni**2/n##per m**3\n",
    "print \"Minor carrier density = %0.1e per m**3\"%p"
   ]
  },
  {
   "cell_type": "markdown",
   "metadata": {},
   "source": [
    "## Ex 1.16.4 Pg 1-60"
   ]
  },
  {
   "cell_type": "code",
   "execution_count": 118,
   "metadata": {
    "collapsed": false
   },
   "outputs": [
    {
     "name": "stdout",
     "output_type": "stream",
     "text": [
      "Electron concentration, n = 8.00e+15 per cm**3\n",
      "Hole concentration, p = 2.8125e+04 per cm**3 \n",
      "Total electron concentration, nT = 8e+15 per cm**3\n",
      "Total hole concentration, pT = 1.00e+14 per cm**3\n",
      "Current, I = 36.45 mA\n"
     ]
    }
   ],
   "source": [
    "#Given : \n",
    "ni=1.5*10**10##per cm**3\n",
    "mu_n=1400##cm**2/V-s\n",
    "mu_p=500##cm**2/V-s\n",
    "l=1##cm\n",
    "a=1##mm**2\n",
    "q=1.6*10**-19##Coulomb\n",
    "del_n=10**14##per cm**3\n",
    "del_p=10**14##per cm**3\n",
    "Nd=8*10**15##per cm**3\n",
    "n=Nd##per cm**3(Nd>>ni)\n",
    "print \"Electron concentration, n = %0.2e per cm**3\"%n\n",
    "p=ni**2/n##per m**3\n",
    "print \"Hole concentration, p = %0.4e per cm**3 \"%p\n",
    "nT=Nd+del_n##per cm**3\n",
    "print \"Total electron concentration, nT = %0.e per cm**3\"%nT\n",
    "pT=p+del_p##per cm**3\n",
    "print \"Total hole concentration, pT = %0.2e per cm**3\"%pT\n",
    "sigma=(nT*mu_n+pT*mu_p)*q##(ohm-cm)**-1\n",
    "rho=1/sigma##ohm-cm\n",
    "R=rho*l/(a*10**-2)##ohm\n",
    "V=2##volt\n",
    "I=V/R##A\n",
    "print \"Current, I = %0.2f mA\"%(I*1000)"
   ]
  },
  {
   "cell_type": "markdown",
   "metadata": {},
   "source": [
    "## Ex 1.16.5 Pg 1-61"
   ]
  },
  {
   "cell_type": "code",
   "execution_count": 119,
   "metadata": {
    "collapsed": false
   },
   "outputs": [
    {
     "name": "stdout",
     "output_type": "stream",
     "text": [
      "Current, I = 0.944 mA\n"
     ]
    }
   ],
   "source": [
    "#Given : \n",
    "A=2.3*10**-4##m**2\n",
    "n=1.5*10**16##per m**3\n",
    "l=1##mm\n",
    "mu_n=1400##cm**2/V-s\n",
    "mu_p=500##cm**2/V-s\n",
    "p=n##per m**3\n",
    "ni=n##per m**3\n",
    "q=1.6*10**-19##Coulomb\n",
    "sigma_i=ni*(mu_n*10**-4+mu_p*10**-4)*q##(ohm-m)**-1\n",
    "rho_i=1/sigma_i##ohm-m\n",
    "R=rho_i*l*10**-3/A##ohm\n",
    "V=9##volt\n",
    "I=V/R##A\n",
    "print \"Current, I = %0.3f mA\"%(I*1000)"
   ]
  },
  {
   "cell_type": "markdown",
   "metadata": {},
   "source": [
    "## Ex 1.16.6 Pg 1-62"
   ]
  },
  {
   "cell_type": "code",
   "execution_count": 120,
   "metadata": {
    "collapsed": false
   },
   "outputs": [
    {
     "name": "stdout",
     "output_type": "stream",
     "text": [
      "Concentration gradient, dn/dx = 1.624e+19\n"
     ]
    }
   ],
   "source": [
    "#Given : \n",
    "ND=10**14##per m**3\n",
    "Jn=10##mA/cm**2\n",
    "E=3##V/cm\n",
    "T=27+273##K\n",
    "q=1.6*10**-19##Coulomb\n",
    "mu_n=1500##cm**2/V-s\n",
    "Dn=mu_n/39##Diffusion constant\n",
    "n=ND##per m**3\n",
    "dnBYdx=((Jn*10**-3/10**-4)-n*q*mu_n*E)/q/Dn##concentration gradient\n",
    "print \"Concentration gradient, dn/dx = %0.3e\"%dnBYdx"
   ]
  },
  {
   "cell_type": "markdown",
   "metadata": {},
   "source": [
    "## Ex 1.16.7 Pg 1-63"
   ]
  },
  {
   "cell_type": "code",
   "execution_count": 121,
   "metadata": {
    "collapsed": false
   },
   "outputs": [
    {
     "name": "stdout",
     "output_type": "stream",
     "text": [
      "Total current density = 672.0 A/m**2\n"
     ]
    }
   ],
   "source": [
    "#Given : \n",
    "ND=10**13##per m**3\n",
    "NA=10**14##per m**3\n",
    "rho_i=44##ohm-cm\n",
    "E=3##V/cm\n",
    "q=1.6*10**-19##Coulomb\n",
    "mu_n=0.38##m**2/V-s\n",
    "mu_p=0.18##m**2/V-s\n",
    "ni=2.5*10**19##per m**3\n",
    "from sympy import symbols, solve\n",
    "p = symbols('p')\n",
    "n=p+(ND-NA)##per cm**3\n",
    "#n*p=ni**2 \n",
    "expr = n*p-ni**2 \n",
    "#m=[1 (ND-NA) -ni**2]##polynomial\n",
    "p=solve(expr,p)[1]##per m**3 #taking only +ve value\n",
    "n=ni**2/p##per m**3\n",
    "J=(n*mu_n+p*mu_p)*q*(E/10**-2)##A/m**2\n",
    "print \"Total current density = %0.1f A/m**2\"%J\n",
    "#Ans in the textbook is not accurate."
   ]
  },
  {
   "cell_type": "markdown",
   "metadata": {},
   "source": [
    "## Ex 1.16.8 Pg 1-64"
   ]
  },
  {
   "cell_type": "code",
   "execution_count": 122,
   "metadata": {
    "collapsed": false
   },
   "outputs": [
    {
     "name": "stdout",
     "output_type": "stream",
     "text": [
      "Conductivity of intrinsic Ge = 2.24 (ohm-m)**-1\n",
      "Conductivity after adding donor impurity = 267.52 (ohm-m)**-1\n",
      "Conductivity after adding acceptor impurity = 126.72 (ohm-m)**-1 \n"
     ]
    }
   ],
   "source": [
    "#Given : \n",
    "T=300##K\n",
    "ni=2.5*10**13##per cm**3\n",
    "mu_n=3800##cm**2/V-s\n",
    "mu_p=1800##cm**2/V-s\n",
    "q=1.6*10**-19##Coulomb\n",
    "sigma_i=ni*(mu_n+mu_p)*q/10**-2##(ohm-m)**-1\n",
    "print \"Conductivity of intrinsic Ge = %0.2f (ohm-m)**-1\"%sigma_i\n",
    "ND=4.4*10**22/10**7##per cm**3\n",
    "n=ND##per cm**3\n",
    "sigma_n=n*mu_n*q/10**-2##(ohm-m)**-1\n",
    "print \"Conductivity after adding donor impurity = %0.2f (ohm-m)**-1\"%sigma_n\n",
    "NA=4.4*10**22/10**7##per cm**3\n",
    "p=NA##per cm**3\n",
    "sigma_p=p*mu_p*q/10**-2##(ohm-m)**-1\n",
    "print \"Conductivity after adding acceptor impurity = %0.2f (ohm-m)**-1 \"%sigma_p"
   ]
  },
  {
   "cell_type": "markdown",
   "metadata": {},
   "source": [
    "## Ex 1.40.1 Pg 1-102"
   ]
  },
  {
   "cell_type": "code",
   "execution_count": 123,
   "metadata": {
    "collapsed": false
   },
   "outputs": [
    {
     "name": "stdout",
     "output_type": "stream",
     "text": [
      "Equilibrium hole concentration = 2.25e+03 per cm**3\n"
     ]
    }
   ],
   "source": [
    "#Given : \n",
    "ND=10**17##per cm**3\n",
    "ni=1.5*10**10##per cm**3\n",
    "no=ND##per cm**3#/Nd>>ni\n",
    "po=ni**2/no##per cm**3\n",
    "print \"Equilibrium hole concentration = %0.2e per cm**3\"%po"
   ]
  },
  {
   "cell_type": "markdown",
   "metadata": {},
   "source": [
    "## Ex 1.40.3 Pg 1-103"
   ]
  },
  {
   "cell_type": "code",
   "execution_count": 124,
   "metadata": {
    "collapsed": false
   },
   "outputs": [
    {
     "name": "stdout",
     "output_type": "stream",
     "text": [
      "Fermi level, Ef = Ei + 0.407 eV\n"
     ]
    }
   ],
   "source": [
    "from math import log\n",
    "#Given : \n",
    "ni=1.5*10**10##per cm**3\n",
    "ND=10**17##per cm**3\n",
    "no=ND##per cm**3#/Nd>>ni\n",
    "po=ni**2/no##per cm**3\n",
    "KT=0.0259##constant\n",
    "delEf=KT*log(no/ni)##eV\n",
    "print \"Fermi level, Ef = Ei +\",round(delEf,3),\"eV\""
   ]
  },
  {
   "cell_type": "markdown",
   "metadata": {},
   "source": [
    "## Ex 1.40.4 Pg 1-104"
   ]
  },
  {
   "cell_type": "code",
   "execution_count": 125,
   "metadata": {
    "collapsed": false
   },
   "outputs": [
    {
     "name": "stdout",
     "output_type": "stream",
     "text": [
      "Diffusion coffiecients of electron = 4.40e-03 m**2/s\n",
      "Diffusion coffiecients of holes = 6.47e-04 m**2/s\n"
     ]
    }
   ],
   "source": [
    "#Given : \n",
    "K=1.38*10**-23##J/K\n",
    "T=27+273##K\n",
    "e=1.6*10**-19##constant\n",
    "mu_n=0.17##m**2/V-s\n",
    "mu_p=0.025##m**2/V-s\n",
    "Dn=K*T/e*mu_n##m**2/s\n",
    "print \"Diffusion coffiecients of electron = %0.2e m**2/s\"%Dn\n",
    "Dp=K*T/e*mu_p##m**2/s\n",
    "print \"Diffusion coffiecients of holes = %0.2e m**2/s\"%Dp"
   ]
  },
  {
   "cell_type": "markdown",
   "metadata": {},
   "source": [
    "## Ex 1.40.5 Pg 1-105"
   ]
  },
  {
   "cell_type": "code",
   "execution_count": 126,
   "metadata": {
    "collapsed": false
   },
   "outputs": [
    {
     "name": "stdout",
     "output_type": "stream",
     "text": [
      "Diffusion current density = 3.152e+03 A/m**2\n"
     ]
    }
   ],
   "source": [
    "#Given : \n",
    "K=1.38*10**-23##J/K\n",
    "T=27+273##K\n",
    "e=1.6*10**-19##constant\n",
    "del_no=10**20##per.m**3\n",
    "tau_n=10**-7##s\n",
    "mu_n=0.15##m**2/V-s\n",
    "Dn=K*T/e*mu_n##m**2/s\n",
    "Ln=sqrt(Dn*tau_n)##m\n",
    "Jn=e*Dn*del_no/Ln##A/m**2\n",
    "print \"Diffusion current density = %0.3e A/m**2\"%Jn"
   ]
  },
  {
   "cell_type": "markdown",
   "metadata": {},
   "source": [
    "## Ex 1.40.6 Pg 1-105"
   ]
  },
  {
   "cell_type": "code",
   "execution_count": 127,
   "metadata": {
    "collapsed": false
   },
   "outputs": [
    {
     "name": "stdout",
     "output_type": "stream",
     "text": [
      "Concentration of holes = 4.680e+11 per m**3\n"
     ]
    }
   ],
   "source": [
    "#Given : \n",
    "sigma_n=0.1##(ohm-cm)**-1\n",
    "mu_n=1300##m**2/V-s\n",
    "ni=1.5*10**10##per cm**3\n",
    "q=1.6*10**-19##Coulomb\n",
    "n_n=sigma_n/q/mu_n##per cm**3\n",
    "p_n=ni**2/n_n##per cm**3\n",
    "p_n=p_n*10**6##per m**3\n",
    "print \"Concentration of holes = %0.3e per m**3\"%p_n"
   ]
  },
  {
   "cell_type": "markdown",
   "metadata": {},
   "source": [
    "## Ex 1.40.7 Pg 1-106"
   ]
  },
  {
   "cell_type": "code",
   "execution_count": 128,
   "metadata": {
    "collapsed": false
   },
   "outputs": [
    {
     "name": "stdout",
     "output_type": "stream",
     "text": [
      "Electron transit time = 6.41e-09 s\n",
      "Photoconductor gain : 216.0\n"
     ]
    }
   ],
   "source": [
    "#Given : \n",
    "L=100*10**-6##m\n",
    "A=10**-7*10**-6##m**2\n",
    "mu_e=0.13##m**2/V-s\n",
    "mu_h=0.05##m**2/V-s\n",
    "tau_h=10**-6##sec\n",
    "V=12##volt\n",
    "E=V/L##v/m\n",
    "tn=L**2/(mu_e*V)##sec\n",
    "print \"Electron transit time = %0.2e s\"%tn\n",
    "Gain=tau_h/tn*(1+mu_h/mu_e)##\n",
    "print \"Photoconductor gain :\",Gain"
   ]
  },
  {
   "cell_type": "markdown",
   "metadata": {},
   "source": [
    "## Ex 1.40.8 Pg 1-106"
   ]
  },
  {
   "cell_type": "code",
   "execution_count": 129,
   "metadata": {
    "collapsed": false
   },
   "outputs": [
    {
     "name": "stdout",
     "output_type": "stream",
     "text": [
      "Resistivity of intrinsic Ge at 300K = 45.00 ohm-cm\n",
      "Resistivity of doped Ge = 3.74 ohm-cm \n"
     ]
    }
   ],
   "source": [
    "#Given : \n",
    "T=300##K\n",
    "rho_i=45##ohm-cm\n",
    "#part (i)\n",
    "mu_n=3800##cm**2/V-s\n",
    "mu_p=1800##cm**2/V-s\n",
    "ni=2.5*10**13##per cm**3\n",
    "q=1.6*10**-19##Coulomb\n",
    "sigma=ni*q*(mu_n+mu_p)##(ohm-cm)**-1\n",
    "rho=1/sigma##ohm-cm\n",
    "print \"Resistivity of intrinsic Ge at 300K = %0.2f ohm-cm\"%round(rho)\n",
    "#part (ii)\n",
    "ND=4.4*10**22/10**8##per cm**3\n",
    "sigma=ND*q*mu_n##(ohm-cm)**-1\n",
    "rho=1/sigma##ohm-cm\n",
    "print \"Resistivity of doped Ge = %0.2f ohm-cm \"%rho"
   ]
  },
  {
   "cell_type": "markdown",
   "metadata": {},
   "source": [
    "## Ex 1.40.9 Pg 1-107"
   ]
  },
  {
   "cell_type": "code",
   "execution_count": 130,
   "metadata": {
    "collapsed": false
   },
   "outputs": [
    {
     "name": "stdout",
     "output_type": "stream",
     "text": [
      "Electron concentration = 1e+22 per m**3\n",
      "Electron concentration = 1e+10 per m**3\n"
     ]
    }
   ],
   "source": [
    "#Given : \n",
    "ni=10**16##per m**3\n",
    "ND=10**22##per m**3\n",
    "n=ND##per m**3#ND>>ni\n",
    "print \"Electron concentration = %0.e per m**3\"%n\n",
    "p=ni**2/n##per m**3\n",
    "print \"Electron concentration = %0.e per m**3\"%p"
   ]
  },
  {
   "cell_type": "markdown",
   "metadata": {},
   "source": [
    "## Ex 1.40.10 Pg 1-107"
   ]
  },
  {
   "cell_type": "code",
   "execution_count": 131,
   "metadata": {
    "collapsed": false
   },
   "outputs": [
    {
     "name": "stdout",
     "output_type": "stream",
     "text": [
      "Ratio of donor atom to Si atom : 1e-08\n"
     ]
    }
   ],
   "source": [
    "#Given : \n",
    "rho=9.6*10**-2##ohm-m\n",
    "mu_n=1300##cm**2/V-s\n",
    "q=1.6*10**-19##Coulomb\n",
    "sigma_n=1/rho##(ohm-m)**-1\n",
    "ND=sigma_n/q/(mu_n*10**-4)##per m**3\n",
    "ni=5*10**22*10**6##per m**3\n",
    "print \"Ratio of donor atom to Si atom : %0.e\"%(ND/ni)"
   ]
  },
  {
   "cell_type": "markdown",
   "metadata": {},
   "source": [
    "## Ex 1.40.11 Pg 1-108"
   ]
  },
  {
   "cell_type": "code",
   "execution_count": 132,
   "metadata": {
    "collapsed": false
   },
   "outputs": [
    {
     "name": "stdout",
     "output_type": "stream",
     "text": [
      "Equillibrium electron density = 2.25e+15 per cm**3\n",
      "Equillibrium hole density = 1e+05 per cm**3 \n"
     ]
    }
   ],
   "source": [
    "#Given : \n",
    "ni=1.5*10**10##per cm**3\n",
    "n_n=2.25*10**15##per cm**3\n",
    "print \"Equillibrium electron density = %0.2e per cm**3\"%n_n\n",
    "p_n=ni**2/n_n##per cm**3\n",
    "print \"Equillibrium hole density = %0.e per cm**3 \"%p_n"
   ]
  },
  {
   "cell_type": "markdown",
   "metadata": {},
   "source": [
    "## Ex 1.40.12 Pg 1-108"
   ]
  },
  {
   "cell_type": "code",
   "execution_count": 133,
   "metadata": {
    "collapsed": false
   },
   "outputs": [
    {
     "name": "stdout",
     "output_type": "stream",
     "text": [
      "Material is p-type & Carrier concentration = 1e+16 holes per cm**3\n"
     ]
    }
   ],
   "source": [
    "#Given : \n",
    "NA=2*10**16##per cm**3\n",
    "ND=10**16##per cm**3\n",
    "p=NA-ND##per cm**3\n",
    "print \"Material is p-type & Carrier concentration = %0.e holes per cm**3\"%p"
   ]
  },
  {
   "cell_type": "markdown",
   "metadata": {},
   "source": [
    "## Ex 1.40.13 Pg 1-108"
   ]
  },
  {
   "cell_type": "code",
   "execution_count": 134,
   "metadata": {
    "collapsed": false
   },
   "outputs": [
    {
     "name": "stdout",
     "output_type": "stream",
     "text": [
      "Rate of generation of minority carrier = 1e+20 electron hole pair/sec/cm**3\n"
     ]
    }
   ],
   "source": [
    "#Given : \n",
    "del_n=10**15##per cm**3\n",
    "tau_p=10*10**-6##sec\n",
    "rate=del_n/tau_p##rate of generation minority carrier\n",
    "print \"Rate of generation of minority carrier = %0.e electron hole pair/sec/cm**3\"%rate"
   ]
  },
  {
   "cell_type": "markdown",
   "metadata": {},
   "source": [
    "## Ex 1.40.14 Pg 1-109"
   ]
  },
  {
   "cell_type": "code",
   "execution_count": 135,
   "metadata": {
    "collapsed": false
   },
   "outputs": [
    {
     "name": "stdout",
     "output_type": "stream",
     "text": [
      "Mobility = 5000 cm**2/V-s\n"
     ]
    }
   ],
   "source": [
    "#Given : \n",
    "E=10##V/cm\n",
    "v=1/(20*10**-6)##m/s\n",
    "mu=v/E##cm**2/V-s\n",
    "print \"Mobility = %02.f cm**2/V-s\"%mu"
   ]
  },
  {
   "cell_type": "markdown",
   "metadata": {},
   "source": [
    "## Ex 1.40.15 Pg 1-109"
   ]
  },
  {
   "cell_type": "code",
   "execution_count": 136,
   "metadata": {
    "collapsed": false
   },
   "outputs": [
    {
     "name": "stdout",
     "output_type": "stream",
     "text": [
      "Hole diffucion current, Jp = -707.17 A/cm**2)\n",
      "Electron diffucion current, Jp = 2552.08 A/cm**2\n"
     ]
    }
   ],
   "source": [
    "#Given : \n",
    "ND=4.5*10**15 #per cm**3\n",
    "A=1*10**-2 #cm**2\n",
    "l=10 #cm\n",
    "tau_p=1*10**-6 #sec\n",
    "tau_n=1*10**-6 #sec\n",
    "Dp=12 #cm**2/sec\n",
    "Dn=30 #cm**2/sec\n",
    "q=1.6*10**-19 #coulamb\n",
    "del_p=10**21 #electron hole pair/cm**3/sec\n",
    "x=34.6*10**-4 #cm\n",
    "Kdash=26 #mV(Kdash is taken as K*T/q)\n",
    "ni=1.5*10**10 #per cm**3\n",
    "no=ND #per cm**3#ND<<ni\n",
    "po=ni**2/no #per cm**3\n",
    "ln=sqrt(Dn*tau_n) #cm\n",
    "lp=sqrt(Dp*tau_p) #cm\n",
    "dpBYdx=del_p*exp(-x/lp) #per cm**4\n",
    "dnBYdx=del_p*exp(-x/ln) #per cm**4\n",
    "Jp=-q*Dp*dpBYdx #A/cm**2\n",
    "print \"Hole diffucion current, Jp = %0.2f A/cm**2)\"%Jp\n",
    "Jn=q*Dn*dnBYdx #A/cm**2\n",
    "print \"Electron diffucion current, Jp = %0.2f A/cm**2\"%Jn\n",
    "#Answer is wrong in the book. Wrong calculation for dpBYdx and dnBYdx."
   ]
  },
  {
   "cell_type": "markdown",
   "metadata": {},
   "source": [
    "## Ex 1.40.16 Pg 1-111"
   ]
  },
  {
   "cell_type": "code",
   "execution_count": 137,
   "metadata": {
    "collapsed": false
   },
   "outputs": [
    {
     "name": "stdout",
     "output_type": "stream",
     "text": [
      "Energy band gap = 2.26 eV\n"
     ]
    }
   ],
   "source": [
    "#Given : \n",
    "h=6.626*10**-34##J-s\n",
    "lamda=5490##Angstrum\n",
    "c=3*10**8##m/s(speed of light)\n",
    "f=c/(lamda*10**-10)##Hz\n",
    "E=(h/1.6/10**-19)*f##eV\n",
    "print \"Energy band gap = %0.2f eV\"%E"
   ]
  },
  {
   "cell_type": "markdown",
   "metadata": {},
   "source": [
    "## Ex 1.40.17 Pg 1-111"
   ]
  },
  {
   "cell_type": "code",
   "execution_count": 138,
   "metadata": {
    "collapsed": false
   },
   "outputs": [
    {
     "data": {
      "image/png": "[encoded data removed]",
      "text/plain": [
       "<matplotlib.figure.Figure at 0x7f5da1c9e290>"
      ]
     },
     "metadata": {},
     "output_type": "display_data"
    },
    {
     "name": "stdout",
     "output_type": "stream",
     "text": [
      "Current density = 1120.00 A/cm**2\n"
     ]
    }
   ],
   "source": [
    "#Given : \n",
    "q=1.6*10**-19##Coulomb\n",
    "Dn=35##cm**2/s\n",
    "x=[0, 2]##micro meter\n",
    "n=[10**17 ,6*10**16]##per cm**3\n",
    "%matplotlib inline\n",
    "from matplotlib.pyplot import plot, title, show, xlabel, ylabel\n",
    "plot(x,n)#\n",
    "title('n Vs x')#\n",
    "xlabel('x(micro meter)')#\n",
    "ylabel('n(electrons per cm**3)')#\n",
    "show()\n",
    "dnBYdx=(n[1]-n[0])/(x[0]-x[1])/10**-4##gradient\n",
    "Jn=q*Dn*dnBYdx##A/cm**2\n",
    "print \"Current density = %0.2f A/cm**2\"%Jn"
   ]
  },
  {
   "cell_type": "markdown",
   "metadata": {},
   "source": [
    "## Ex 1.40.18 Pg 1-112"
   ]
  },
  {
   "cell_type": "code",
   "execution_count": 139,
   "metadata": {
    "collapsed": false
   },
   "outputs": [
    {
     "name": "stdout",
     "output_type": "stream",
     "text": [
      "Resistance of the bar = 1 Mohm\n"
     ]
    }
   ],
   "source": [
    "#Given : \n",
    "q=1.6*10**-19##Coulomb\n",
    "l=0.1##cm\n",
    "A=100*10**-8##cm**2\n",
    "n_n=5*10**20*10**-6##per cm**3\n",
    "mu_n=0.13*10**4##cm**2/V-s\n",
    "sigma_n=q*n_n*mu_n##(ohm-cm)**-1\n",
    "rho=1/sigma_n##ohm-cm\n",
    "R=rho*l/A##ohm\n",
    "print \"Resistance of the bar = %0.f Mohm\"%round(R/10**6)"
   ]
  },
  {
   "cell_type": "markdown",
   "metadata": {},
   "source": [
    "## Ex 1.40.19 Pg 1-113"
   ]
  },
  {
   "cell_type": "code",
   "execution_count": 140,
   "metadata": {
    "collapsed": false
   },
   "outputs": [
    {
     "name": "stdout",
     "output_type": "stream",
     "text": [
      "Answer is (B). Depletion width on p-side = 0.33 micro meter\n"
     ]
    }
   ],
   "source": [
    "#Given : \n",
    "NA=9*10**16##per cm**3\n",
    "ND=1*10**16##per cm**3\n",
    "w_total=3##micro meter\n",
    "w_p=w_total*ND/NA##micro meter\n",
    "print \"Answer is (B). Depletion width on p-side = %0.2f micro meter\"%w_p"
   ]
  },
  {
   "cell_type": "markdown",
   "metadata": {},
   "source": [
    "## Ex 1.40.20 Pg 1-113"
   ]
  },
  {
   "cell_type": "code",
   "execution_count": 141,
   "metadata": {
    "collapsed": false
   },
   "outputs": [
    {
     "name": "stdout",
     "output_type": "stream",
     "text": [
      "Majority carrier density = 4.50e+11 per m**3\n"
     ]
    }
   ],
   "source": [
    "#Given : \n",
    "ni=1.5*10**16##per m**3\n",
    "n_n=5*10**20##per m**3\n",
    "p_n=ni**2/n_n##per m**3\n",
    "print \"Majority carrier density = %0.2e per m**3\"%p_n"
   ]
  },
  {
   "cell_type": "markdown",
   "metadata": {},
   "source": [
    "## Ex 1.40.21 Pg 1-113"
   ]
  },
  {
   "cell_type": "code",
   "execution_count": 142,
   "metadata": {
    "collapsed": false
   },
   "outputs": [
    {
     "data": {
      "image/png": "[encoded data removed]",
      "text/plain": [
       "<matplotlib.figure.Figure at 0x7f5d8376ebd0>"
      ]
     },
     "metadata": {},
     "output_type": "display_data"
    },
    {
     "name": "stdout",
     "output_type": "stream",
     "text": [
      "Current density = 8.00 A/cm**2\n"
     ]
    }
   ],
   "source": [
    "#Given : \n",
    "q=1.6*10**-19##Coulomb\n",
    "Dn=25##cm**2/s\n",
    "x=[0 ,0.5]##micro meter(base width)\n",
    "n=[10**14 ,0]##per cm**3\n",
    "from matplotlib.pyplot import plot, title, show, xlabel, ylabel\n",
    "plot(x,n)#\n",
    "title('n Vs x')#\n",
    "xlabel('x(micro meter)')#\n",
    "ylabel('n(electrons per cm**3)')#\n",
    "show()\n",
    "dnBYdx=(n[1]-n[0])/(x[0]-x[1])/10**-4##gradient\n",
    "Jn=q*Dn*dnBYdx##A/cm**2\n",
    "print \"Current density = %0.2f A/cm**2\"%Jn"
   ]
  },
  {
   "cell_type": "markdown",
   "metadata": {},
   "source": [
    "## Ex 1.40.22 Pg 1-114"
   ]
  },
  {
   "cell_type": "code",
   "execution_count": 143,
   "metadata": {
    "collapsed": false
   },
   "outputs": [
    {
     "name": "stdout",
     "output_type": "stream",
     "text": [
      "Band gap = 1.431 eV\n"
     ]
    }
   ],
   "source": [
    "#Given : \n",
    "h=6.64*10**-34##planks constant\n",
    "c=3*10**8##m/s(speed of light)\n",
    "lamda=0.87*10**-6##m\n",
    "Eg=h*c/lamda/(1.6*10**-19)##eV\n",
    "print \"Band gap = %0.3f eV\"%Eg"
   ]
  },
  {
   "cell_type": "markdown",
   "metadata": {},
   "source": [
    "## Ex 1.40.23 Pg 1-114"
   ]
  },
  {
   "cell_type": "code",
   "execution_count": 144,
   "metadata": {
    "collapsed": false
   },
   "outputs": [
    {
     "name": "stdout",
     "output_type": "stream",
     "text": [
      "(a) Absorbed power = 9.00 mW\n",
      "(b) Rate of excess thermal energy = 2.564e-03 J/s\n",
      "(c) No. of photons per sec : 2.81e+16\n"
     ]
    }
   ],
   "source": [
    "#Given : \n",
    "t=0.46*10**-4##cm\n",
    "E=2##eV\n",
    "alfa=5*10**4##cm**-1\n",
    "Io=10##mW\n",
    "q=1.6*10**-19##Coulomb\n",
    "It=Io*exp(-alfa*t)##mW\n",
    "Pabs=Io-It##mW\n",
    "print \"(a) Absorbed power = %0.2f mW\"%round(Pabs)\n",
    "Eg=1.43##eV(Band gap)\n",
    "heat_fraction=(E-Eg)/E#\n",
    "E_heat=heat_fraction*Pabs*10**-3##J/s(energy converted to heat)\n",
    "print \"(b) Rate of excess thermal energy = %0.3e J/s\"%E_heat\n",
    "photons=Pabs*10**-3/q/E##no. of photons per sec\n",
    "print \"(c) No. of photons per sec : %0.2e\"%photons"
   ]
  },
  {
   "cell_type": "markdown",
   "metadata": {},
   "source": [
    "## Ex 1.40.24 Pg 1-115"
   ]
  },
  {
   "cell_type": "code",
   "execution_count": 145,
   "metadata": {
    "collapsed": false
   },
   "outputs": [
    {
     "name": "stdout",
     "output_type": "stream",
     "text": [
      "Steady state separation between Fp & Ec = 0.70 eV\n",
      "Hole current = 1900.55 A\n",
      "Excess stored hole charge = 1.44e-07 Coulomb\n"
     ]
    }
   ],
   "source": [
    "#Given : \n",
    "Kdash=0.0259##constant(taken as K*T/q)\n",
    "A=0.5##cm**2\n",
    "Na=10**17##per cm**3\n",
    "ni=1.5*10**10##per cm**3\n",
    "delta_p=5*10**16##per cm**3\n",
    "x=1000##Angstrum\n",
    "mu_p=500##cm**2/V-s\n",
    "tau_p=10**-10##sec\n",
    "q=1.6*10**-19##Coulomb\n",
    "\n",
    "Dp=Kdash*mu_p##cm/s\n",
    "Lp=sqrt(Dp*tau_p)##cm\n",
    "p0=Na##per cm**3\n",
    "p=p0+delta_p*exp(x*10**-8/Lp)##per cm**3\n",
    "delE1=log(p/ni)*Kdash##eV(taken as Ei-Fp)\n",
    "Eg=1.12##eV(Band gap)\n",
    "delE2=Eg-delE1##eV(taken as Ec-Fp)\n",
    "print \"Steady state separation between Fp & Ec = %0.2f eV\"%delE2\n",
    "Ip=q*A*Dp/Lp*delta_p*exp(x*10**-8/Lp)##A\n",
    "print \"Hole current = %0.2f A\"%Ip\n",
    "Qp=q*A*delta_p*Lp##C\n",
    "print \"Excess stored hole charge = %0.2e Coulomb\"%Qp\n",
    "#Answer in the book is wrong beacause of calculation mistake in the value of p & Ip."
   ]
  },
  {
   "cell_type": "markdown",
   "metadata": {},
   "source": [
    "## Ex 1.40.25 Pg 1-116"
   ]
  },
  {
   "cell_type": "code",
   "execution_count": 146,
   "metadata": {
    "collapsed": false
   },
   "outputs": [
    {
     "name": "stdout",
     "output_type": "stream",
     "text": [
      "Steady state separation between Fp & Ec = 0.70 eV\n",
      "Hole current = 1900.55 A \n",
      "Excess stored hole charge = 1.44e-07 Coulomb\n"
     ]
    }
   ],
   "source": [
    "#Given : \n",
    "Kdash=0.0259##constant(taken as K*T/q)\n",
    "A=0.5##cm**2\n",
    "Na=10**17##per cm**3\n",
    "ni=1.5*10**10##per cm**3\n",
    "delta_p=5*10**16##per cm**3\n",
    "x=1000##Angstrum\n",
    "mu_p=500##cm**2/V-s\n",
    "tau_p=10**-10##sec\n",
    "q=1.6*10**-19##Coulomb\n",
    "\n",
    "Dp=Kdash*mu_p##cm/s\n",
    "Lp=sqrt(Dp*tau_p)##cm\n",
    "p0=Na##per cm**3\n",
    "p=p0+delta_p*exp(x*10**-8/Lp)##per cm**3\n",
    "delE1=log(p/ni)*Kdash##eV(taken as Ei-Fp)\n",
    "Eg=1.12##eV(Band gap)\n",
    "delE2=Eg-delE1##eV(taken as Ec-Fp)\n",
    "print \"Steady state separation between Fp & Ec = %0.2f eV\"%delE2\n",
    "Ip=q*A*Dp/Lp*delta_p*exp(x*10**-8/Lp)##A\n",
    "print \"Hole current = %0.2f A \"%Ip\n",
    "Qp=q*A*delta_p*Lp##C\n",
    "print \"Excess stored hole charge = %0.2e Coulomb\"%Qp\n",
    "#Answer in the book is wrong beacause of calculation mistake in the value of p & Ip."
   ]
  }
 ],
 "metadata": {
  "kernelspec": {
   "display_name": "Python 2",
   "language": "python",
   "name": "python2"
  },
  "language_info": {
   "codemirror_mode": {
    "name": "ipython",
    "version": 2
   },
   "file_extension": ".py",
   "mimetype": "text/x-python",
   "name": "python",
   "nbconvert_exporter": "python",
   "pygments_lexer": "ipython2",
   "version": "2.7.9"
  }
 },
 "nbformat": 4,
 "nbformat_minor": 0
}
