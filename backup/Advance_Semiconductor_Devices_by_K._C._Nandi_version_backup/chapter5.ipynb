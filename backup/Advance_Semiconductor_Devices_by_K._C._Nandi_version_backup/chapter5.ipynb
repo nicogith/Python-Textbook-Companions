{
 "metadata": {
  "name": "",
  "signature": ""
 },
 "nbformat": 3,
 "nbformat_minor": 0,
 "worksheets": [
  {
   "cells": [
    {
     "cell_type": "heading",
     "level": 1,
     "metadata": {},
     "source": [
      "Chapter-5 Metal semiconductor field effect transistors"
     ]
    },
    {
     "cell_type": "heading",
     "level": 2,
     "metadata": {},
     "source": [
      "Ex 5.6.1 Pg 5-22"
     ]
    },
    {
     "cell_type": "code",
     "collapsed": false,
     "input": [
      "#Given : \n",
      "VTN=0.7##V\n",
      "W=45##micro m\n",
      "L=4##micro m\n",
      "mu_n=700##cm**2/V-s\n",
      "t_ox=450##Angstrum\n",
      "epsilon_ox=3.9*8.85*10**-14##F/cm\n",
      "VGS=2*VTN##V\n",
      "Kn=(W*10**-4)*mu_n*epsilon_ox/(2*(L*10**-4)*(t_ox*10**-8))##A/V**2\n",
      "Kn=Kn*10**3##mA/V**2\n",
      "print \"Kn = %0.3f mA/V**2\"%Kn\n",
      "ID=Kn*(VGS-VTN)**2##A\n",
      "print \"Current = %0.2f mA\"%ID\n",
      "#Answer is wrong in the book. Calculation mistake whle calculating value for Kn."
     ],
     "language": "python",
     "metadata": {},
     "outputs": [
      {
       "output_type": "stream",
       "stream": "stdout",
       "text": [
        "Kn = 0.302 mA/V**2\n",
        "Current = 0.15 mA\n"
       ]
      }
     ],
     "prompt_number": 3
    }
   ],
   "metadata": {}
  }
 ]
}
