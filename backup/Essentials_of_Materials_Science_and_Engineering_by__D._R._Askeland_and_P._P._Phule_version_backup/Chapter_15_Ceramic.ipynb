{
 "cells": [
  {
   "cell_type": "markdown",
   "metadata": {},
   "source": [
    "# Chapter 15 Ceramic Materials"
   ]
  },
  {
   "cell_type": "markdown",
   "metadata": {},
   "source": [
    "## Example 15_1 pgno:581"
   ]
  },
  {
   "cell_type": "code",
   "execution_count": 1,
   "metadata": {
    "collapsed": false
   },
   "outputs": [
    {
     "name": "stdout",
     "output_type": "stream",
     "text": [
      "15.5279503106 Apparent Porosity in percent:\n",
      "2.23602484472 Bulk Density of Ceramic:\n",
      "30.1242236025 True Porosity of Ceramic  in Percent:\n",
      "0.485 Fraction Closed Pores of Ceramic:\n"
     ]
    }
   ],
   "source": [
    "# Initialisation of Variables\n",
    "rho=3.2;#Specific Gravity of SiC in g/cm**2\n",
    "Ww=385.;#Weight of Ceramic when dry in g\n",
    "Wd=360.;#Weight of Ceramic after Soaking in water in g\n",
    "Ws=224.;#Weight of Ceramic Suspended in    water in g\n",
    "#CALCULATIONS\n",
    "A=((Ww-Wd)/(Ww-Ws))*100;#Apparent Porosity in percent\n",
    "B=(Wd)/(Ww-Ws);#Bulk Density of Ceramic\n",
    "T=((rho-B)/rho)*100;#True Porosity of Ceramic  in Percent\n",
    "C=T-A;#Closed pore percent of ceramic\n",
    "F=C/T;#Fraction Closed Pores of Ceramic\n",
    "print A,\"Apparent Porosity in percent:\"\n",
    "print B,\"Bulk Density of Ceramic:\"\n",
    "print T,\"True Porosity of Ceramic  in Percent:\"\n",
    "print round(F,3),\"Fraction Closed Pores of Ceramic:\"\n"
   ]
  },
  {
   "cell_type": "markdown",
   "metadata": {},
   "source": [
    "## Example 15_2 pgno:584"
   ]
  },
  {
   "cell_type": "code",
   "execution_count": 2,
   "metadata": {
    "collapsed": false
   },
   "outputs": [
    {
     "name": "stdout",
     "output_type": "stream",
     "text": [
      "0.142857142857 Mole Fraction of B2O3:\n",
      "16.2 Weight Percent of B2O3:\n"
     ]
    }
   ],
   "source": [
    "# Initialisation of Variables\n",
    "R=2.5;#Ratio of O to Si in SiO2\n",
    "W1=69.62;#Weight of B2O3 in g/ml\n",
    "W2=60.08;##Weight of SiO2 in g/ml\n",
    "#CALCULATIONS\n",
    "Fb1=(R-2)/3.5;#Mole Fraction of B2O3\n",
    "Fb2=1-Fb1;#Mole fraction of SiO2\n",
    "Wp=((Fb1*W1)/((Fb1*W1)+(Fb2*W2)))*100;#Weight Percent of B2O3\n",
    "print Fb1,\"Mole Fraction of B2O3:\"\n",
    "print round(Wp,1),\"Weight Percent of B2O3:\"\n"
   ]
  }
 ],
 "metadata": {
  "kernelspec": {
   "display_name": "Python 2",
   "language": "python",
   "name": "python2"
  },
  "language_info": {
   "codemirror_mode": {
    "name": "ipython",
    "version": 2
   },
   "file_extension": ".py",
   "mimetype": "text/x-python",
   "name": "python",
   "nbconvert_exporter": "python",
   "pygments_lexer": "ipython2",
   "version": "2.7.9"
  }
 },
 "nbformat": 4,
 "nbformat_minor": 0
}
