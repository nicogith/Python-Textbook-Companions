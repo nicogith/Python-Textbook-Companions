{
 "cells": [
  {
   "cell_type": "markdown",
   "metadata": {},
   "source": [
    "# Chapter 2 Atomic Structure "
   ]
  },
  {
   "cell_type": "markdown",
   "metadata": {},
   "source": [
    "## Example 2_1 pgno:28"
   ]
  },
  {
   "cell_type": "code",
   "execution_count": 1,
   "metadata": {
    "collapsed": false
   },
   "outputs": [
    {
     "name": "stdout",
     "output_type": "stream",
     "text": [
      "the number of atoms in the given amount of silver is 5.58274928616e+23\n"
     ]
    }
   ],
   "source": [
    "#given \n",
    "w=100#gms\n",
    "A=(w*6.022*10**23)/107.868\n",
    "print \"the number of atoms in the given amount of silver is\" ,A"
   ]
  },
  {
   "cell_type": "markdown",
   "metadata": {},
   "source": [
    "## Example 2_2 pgno:28"
   ]
  },
  {
   "cell_type": "code",
   "execution_count": 1,
   "metadata": {
    "collapsed": false
   },
   "outputs": [
    {
     "name": "stdout",
     "output_type": "stream",
     "text": [
      "Volume of each Iron magnetic nano -particle in  cm**3: 1.41371669412e-20\n",
      "Mass of each iron nano-particle in g: 1.10269902141e-19\n"
     ]
    }
   ],
   "source": [
    "\n",
    "from math import pi\n",
    "# Initialisation of Variables\n",
    "r=1.5*10**-7;#Radius of a particle in cm\n",
    "rho=7.8;#Density of iron magnetic nano- particle in cm**3\n",
    "#CALCULATIONS\n",
    "v=(4./3.)*pi*(r)**3;#Volume of each Iron magnetic nano -particle in cm**3\n",
    "m=rho*v;#Mass of each iron nano-particle in g\n",
    "print \"Volume of each Iron magnetic nano -particle in  cm**3:\",v\n",
    "print \"Mass of each iron nano-particle in g:\",m\n",
    " "
   ]
  },
  {
   "cell_type": "markdown",
   "metadata": {},
   "source": [
    "## Example 2_4 pgno:41"
   ]
  },
  {
   "cell_type": "code",
   "execution_count": 2,
   "metadata": {
    "collapsed": false
   },
   "outputs": [
    {
     "name": "stdout",
     "output_type": "stream",
     "text": [
      "Fraction covalent of   SiO2 : 0.486\n"
     ]
    }
   ],
   "source": [
    "\n",
    "from math import exp\n",
    "# Initialisation of Variables\n",
    "Es=1.8;#Electro negativity of Silicon from fig.2-8\n",
    "Eo=3.5;#Electro negativity of Oxygen from  fig.2-8\n",
    "#CALCULATION\n",
    "F=exp(-0.25*(Eo-Es)**2);#Fraction covalent of   SiO2 \n",
    "print \"Fraction covalent of   SiO2 :\",round(F,3)\n"
   ]
  }
 ],
 "metadata": {
  "kernelspec": {
   "display_name": "Python 2",
   "language": "python",
   "name": "python2"
  },
  "language_info": {
   "codemirror_mode": {
    "name": "ipython",
    "version": 2
   },
   "file_extension": ".py",
   "mimetype": "text/x-python",
   "name": "python",
   "nbconvert_exporter": "python",
   "pygments_lexer": "ipython2",
   "version": "2.7.9"
  }
 },
 "nbformat": 4,
 "nbformat_minor": 0
}
