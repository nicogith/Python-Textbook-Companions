{
 "cells": [
  {
   "cell_type": "markdown",
   "metadata": {},
   "source": [
    "# Chapter 6 Mechanical Properties : part one"
   ]
  },
  {
   "cell_type": "markdown",
   "metadata": {},
   "source": [
    "## Example 6_1 pgno:207"
   ]
  },
  {
   "cell_type": "code",
   "execution_count": 10,
   "metadata": {
    "collapsed": false
   },
   "outputs": [
    {
     "name": "stdout",
     "output_type": "stream",
     "text": [
      "The value in psi is= 4992.60678261\n",
      "The value of epselon 0.0005\n"
     ]
    }
   ],
   "source": [
    "from math import pi\n",
    "F=1000#in lb\n",
    "Ao=(pi/4)*(0.505)**2#in**2\n",
    "rho=F/Ao\n",
    "delta_I=0.001#in\n",
    "I_o=2#in\n",
    "e=delta_I/I_o\n",
    "print\"The value in psi is=\",rho\n",
    "print\"The value of epselon\",e"
   ]
  },
  {
   "cell_type": "markdown",
   "metadata": {},
   "source": [
    "## Example 6_2 pgno:207"
   ]
  },
  {
   "cell_type": "code",
   "execution_count": 1,
   "metadata": {
    "collapsed": false
   },
   "outputs": [
    {
     "name": "stdout",
     "output_type": "stream",
     "text": [
      "The required crosssectional area of the rod in in^2: 1\n",
      "Diameter of rod in in: 1.1283791671\n",
      "The maximum length of the rod in in: 0.000625\n",
      "The minimum strain allowed on rod: 100.0\n",
      "The minimum cross-sectional area in in^2: 2\n"
     ]
    }
   ],
   "source": [
    "# Initialisation of Variables\n",
    "F=45000;#Force applied on an aluminum rod in lb\n",
    "e=25000;#the maximum allowable stress on the rod in psi\n",
    "l2=150;#the minimum length of the rod in in\n",
    "e1=0.0025;#The strain appiled on rod\n",
    "sigma=16670;#Stress applied on rod in psi\n",
    "L=0.25;#The maximum allowable elastic deformation in in\n",
    "from math import sqrt,pi\n",
    "#CALCULATIONS\n",
    "Ao1=F/e;#The required crosssectional area of the rod\n",
    "d=sqrt((Ao1*4)/pi);#Diameter of rod in in\n",
    "l1=e1*L;#The maximum length of the rod in in\n",
    "e2=L/e1;#The minimum strain allowed on rod\n",
    "Ao2=F/sigma;#The minimum cross-sectional area in in^2\n",
    "print \"The required crosssectional area of the rod in in^2:\",Ao1\n",
    "print \"Diameter of rod in in:\",d\n",
    "print \"The maximum length of the rod in in:\",l1\n",
    "print \"The minimum strain allowed on rod:\",e2\n",
    "print \"The minimum cross-sectional area in in^2:\",Ao2\n"
   ]
  },
  {
   "cell_type": "markdown",
   "metadata": {},
   "source": [
    "## Example 6_3 pgno:213"
   ]
  },
  {
   "cell_type": "code",
   "execution_count": 2,
   "metadata": {
    "collapsed": false
   },
   "outputs": [
    {
     "name": "stdout",
     "output_type": "stream",
     "text": [
      "Modulus of elasticity  of aluminum alloy from table 6-1: 10000000.0\n",
      "The length after deformation of bar in in 50.15\n",
      "Strain applied of aluminum alloy: 0.003\n"
     ]
    }
   ],
   "source": [
    "# Initialisation of Variables\n",
    "sigma1=35000;#Stress applied of aluminum alloy in psi from table 6-1\n",
    "e1=0.0035;##Strain applied of aluminum alloy from table 6-1\n",
    "sigma2=30000;#Stress applied of aluminum alloy  in psi\n",
    "Lo=50;#initial length of  aluminum alloy\n",
    "#CALCULATIONS\n",
    "E=sigma1/e1;#Modulus of elasticity  of aluminum alloy\n",
    "e2=sigma2/E;#Strain applied of aluminum alloy\n",
    "L=Lo+(e2*Lo);#The length after deformation of bar in in\n",
    "print \"Modulus of elasticity  of aluminum alloy from table 6-1:\",E\n",
    "print \"The length after deformation of bar in in\",L\n",
    "print \"Strain applied of aluminum alloy:\",e2\n"
   ]
  },
  {
   "cell_type": "markdown",
   "metadata": {},
   "source": [
    "## Example 6_4 pgno:214"
   ]
  },
  {
   "cell_type": "code",
   "execution_count": 3,
   "metadata": {
    "collapsed": false
   },
   "outputs": [
    {
     "name": "stdout",
     "output_type": "stream",
     "text": [
      "Percentage of Elongation: 9.75\n",
      "Percentage of Reduction in area: 37.9\n",
      "The final length is less than 2.205 in because, after fracture, the elastic strain is recovered.\n"
     ]
    }
   ],
   "source": [
    "# Initialisation of Variables\n",
    "Lf=2.195;#Final length after failure\n",
    "d1=0.505;#Diameter of alluminum alloy in in\n",
    "d2=0.398;#Final diameter of alluminum alloy in in\n",
    "Lo=2;#Initial length of alluminum alloy \n",
    "from math import pi\n",
    "#CALCULATIONS\n",
    "A0=(pi/4)*d1**2;#Area of original of alluminum alloy\n",
    "Af=(pi/4)*d2**2;#Area of final of alluminum   alloy\n",
    "E=((Lf-Lo)/Lo)*100;#Percentage of Elongation \n",
    "R=((A0-Af)/A0)*100;#Percentage of Reduction in area\n",
    "print \"Percentage of Elongation:\",E\n",
    "print \"Percentage of Reduction in area:\",round(R,1)\n",
    "print\"The final length is less than 2.205 in because, after fracture, the elastic strain is recovered.\""
   ]
  },
  {
   "cell_type": "markdown",
   "metadata": {},
   "source": [
    "## Example 6_5 pgno:217"
   ]
  },
  {
   "cell_type": "code",
   "execution_count": 4,
   "metadata": {
    "collapsed": false
   },
   "outputs": [
    {
     "name": "stdout",
     "output_type": "stream",
     "text": [
      "Engineering stress in psiAt the tensile or maximum load 39940.8542609\n",
      "True stress in psi At the tensile or maximum load 41237.025201\n",
      "Engineering strain At the tensile or maximum load 0.06\n",
      "True strain At the tensile or maximum load 0.058268908124\n",
      "Engineering stress At fracture: 37943.8115478\n",
      "True stress At fracture 61088.2335041\n",
      "Engineering strain At fracture: 0.1025\n",
      "True strain At fracture: 0.476\n"
     ]
    }
   ],
   "source": [
    "# Initialisation of Variables\n",
    "F=8000.;#.......#Load applied for the aluminum alloy in lb\n",
    "F2=7600.;#......#Load applied for the aluminum alloy in lb at fracture\n",
    "dt1=0.505;#.......#diameter of for the aluminum alloy in in\n",
    "dt2=0.497;#.......#The diameter at maximum load\n",
    "Lt=2.120;#..........#Final length at maxium load\n",
    "Lot=2.;#.............#Initial length of alluminum alloy\n",
    "Ff=7600.;#.........#Load applied for the aluminum alloy after fracture in lb\n",
    "df=0.398;#.......#The diameter at maximum load after fracture\n",
    "Lf=0.205;#.......#Final length at fracture\n",
    "from math import pi,log\n",
    "#CALCULATIONS\n",
    "Es=F/((pi/4)*dt1**2);#.....#Engineering stress in psiAt the tensile or maximum load\n",
    "Ts=F/((pi/4)*dt2**2);#.....#True stress in psi At the tensile or maximum load\n",
    "Ee=(Lt-Lot)/Lot;#........#Engineering strain At the tensile or maximum load\n",
    "Te=log(Lt/Lot);#........#True strain At the tensile or maximum load\n",
    "Es2=F2/((pi/4)*dt1**2);#......##Engineering stress At fracture:\n",
    "Ts2=F2/((pi/4)*df**2);#......#True stress At fracture:\n",
    "Ee2=Lf/Lot;#..........#Engineering strain At fracture:\n",
    "Te2=log(((pi/4)*dt1**2)/((pi/4)*df**2));#.......#True strain At fracture:\n",
    "print \"Engineering stress in psiAt the tensile or maximum load\",Es\n",
    "print \"True stress in psi At the tensile or maximum load\",Ts\n",
    "print \"Engineering strain At the tensile or maximum load\",Ee\n",
    "print \"True strain At the tensile or maximum load\",Te\n",
    "print \"Engineering stress At fracture:\",Es2\n",
    "print \"True stress At fracture\",Ts2\n",
    "print \"Engineering strain At fracture:\",Ee2\n",
    "print \"True strain At fracture:\",round(Te2,3)\n"
   ]
  },
  {
   "cell_type": "markdown",
   "metadata": {},
   "source": [
    "## Example 6_6 pgno:221"
   ]
  },
  {
   "cell_type": "code",
   "execution_count": 5,
   "metadata": {
    "collapsed": false
   },
   "outputs": [
    {
     "name": "stdout",
     "output_type": "stream",
     "text": [
      "The force required to fracture the material in  lb: 421.875\n",
      "The deflection of  the sample at fracture in in 0.0278\n"
     ]
    }
   ],
   "source": [
    "# Initialisation of Variables\n",
    "Fs=45000;#.......#The flexural strength of a composite  material in psi\n",
    "Fm=18*10**6;#........#The flexural modulus of composite material in psi\n",
    "w=0.5;#.......#wide of sample in in\n",
    "h=0.375;#......#Height of sample in in\n",
    "l=5;#..........#Length of sample in in\n",
    "#CALCULATIONS\n",
    "F=Fs*2*w*h**2/(3*l);#......#The force required to fracture the material in lb\n",
    "delta=(l**3)*F/(Fm*4*w*h**3);#.......#The deflection of  the sample at fracture \n",
    "print \"The force required to fracture the material in  lb:\",F\n",
    "print \"The deflection of  the sample at fracture in in\",round(delta,4)\n"
   ]
  }
 ],
 "metadata": {
  "kernelspec": {
   "display_name": "Python 2",
   "language": "python",
   "name": "python2"
  },
  "language_info": {
   "codemirror_mode": {
    "name": "ipython",
    "version": 2
   },
   "file_extension": ".py",
   "mimetype": "text/x-python",
   "name": "python",
   "nbconvert_exporter": "python",
   "pygments_lexer": "ipython2",
   "version": "2.7.9"
  }
 },
 "nbformat": 4,
 "nbformat_minor": 0
}
