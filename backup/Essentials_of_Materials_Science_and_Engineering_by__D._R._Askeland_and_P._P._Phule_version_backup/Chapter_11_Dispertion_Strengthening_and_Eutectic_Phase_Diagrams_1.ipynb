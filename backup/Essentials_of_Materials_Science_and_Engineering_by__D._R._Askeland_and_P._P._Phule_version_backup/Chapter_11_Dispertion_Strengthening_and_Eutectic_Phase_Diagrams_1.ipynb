{
 "cells": [
  {
   "cell_type": "markdown",
   "metadata": {},
   "source": [
    "# Chapter 11 Dispertion Strengthening and Eutectic Phase Diagrams"
   ]
  },
  {
   "cell_type": "markdown",
   "metadata": {},
   "source": [
    "## Example 11_2 pgno:422"
   ]
  },
  {
   "cell_type": "code",
   "execution_count": 7,
   "metadata": {
    "collapsed": false
   },
   "outputs": [
    {
     "name": "stdout",
     "output_type": "stream",
     "text": [
      "8.16326530612 c.Amount of beeta forms of Pb-Sn in gm:\n",
      "1.83673469388 d.The mass of Sn in the alpha phase in g:\n",
      "8.2 d.The mass of Sn in beeta phase in g:\n",
      "90.0 e.The mass of Pb in the alpha phase in g:\n"
     ]
    }
   ],
   "source": [
    "# Initialisation of Variables\n",
    "Sn=2.#Amount of Tin Dissolved in alpha solid solution \n",
    "Sn2=10.;#Amount of Tin Dissolved in alpha+beeta   solid solution at 0 degree celsius\n",
    "m=100.;#Total mass of the Pb-Sn alloy in gm\n",
    "Pbm=90.#Total mass of the Pb in Pb-Sn alloy in gm\n",
    "#CALCULATIONS\n",
    "B=((Sn2-Sn)/(m-Sn))*100;#The amount of beeta Sn  that forms if a Pb-10% Sn alloy is cooled to 0 Degree celsius\n",
    "B2=100-B;#The amount of alpha Sn that forms if a Pb-10% Sn alloy is cooled to 0 Degree celsius\n",
    "Sn1=(Sn/100.)*(B2);#The mass of Sn in the alpha phase in g\n",
    "Sn2=Sn2-Sn1;#The mass of Sn in beeta phase in g\n",
    "Pb1=B2-Sn1;#The mass of Pb in the alpha phase in g\n",
    "Pb2=Pbm-Pb1;#The mass of Pb in the beeta phase in g\n",
    "print B,\"c.Amount of beeta forms of Pb-Sn in gm:\"\n",
    "print Sn1,\"d.The mass of Sn in the alpha phase in g:\"\n",
    "print round(Sn2,1),\"d.The mass of Sn in beeta phase in g:\"\n",
    "print Pb1,\"e.The mass of Pb in the alpha phase in g:\"\n",
    "\n"
   ]
  },
  {
   "cell_type": "markdown",
   "metadata": {},
   "source": [
    "## Example 11_3 pgno:425"
   ]
  },
  {
   "cell_type": "code",
   "execution_count": 8,
   "metadata": {
    "collapsed": false
   },
   "outputs": [
    {
     "name": "stdout",
     "output_type": "stream",
     "text": [
      "0.453503184713 Weight fraction of alpha phase\n",
      "0.546496815287 Weight fraction of beeta phase\n",
      "90.7006369427 The mass of the alpha phase in 200g in g:\n",
      "109.299363057 The amount of the beeta phase in g at  182 degree celsius:\n",
      "73.4675159236 Mass of Pb in the alpha phase in g:\n",
      "17.2331210191 Mass of Sn in alpha phase\n",
      "2.73248407643 Mass of Pb in beeta phase:\n",
      "106.6 mass of Sn in beeta Phase:\n"
     ]
    }
   ],
   "source": [
    "# Initialisation of Variables\n",
    "M=200.;#Mass of alpha phase of alloy in gm\n",
    "Sn=61.9;#Percentage of the Sn in the eutectic alloy in percent\n",
    "Pb=19.;#Percentage of the Pb in the alpha phase in percent\n",
    "Pb2=97.5;#Percentage of the Sn in the beeta phase in percent\n",
    "#CALCULLATIONS\n",
    "W1=(Pb2-Sn)/(Pb2-Pb);#Weight fraction of alpha phase\n",
    "W2=(Sn-Pb)/(Pb2-Pb);#Weight fraction of beeta phase\n",
    "Ma=M*W1;#The mass of the alpha phase in 200g in g\n",
    "Mb=M-Ma;#The amount of the beeta phase in g at  182 degree celsius\n",
    "MPb1=Ma*(1-(Pb/100));#Mass of Pb in the alpha phase in g\n",
    "MSn1=Ma-MPb1;#Mass of Sn in alpha phase \n",
    "MPb2=Mb*(1-(Pb2/100));#Mass of Pb in beeta phase\n",
    "MSn2=123.8-MSn1;#mass of Sn in beeta Phase\n",
    "print W1,\"Weight fraction of alpha phase\"\n",
    "print W2,\"Weight fraction of beeta phase\"\n",
    "print Ma,\"The mass of the alpha phase in 200g in g:\"\n",
    "print Mb,\"The amount of the beeta phase in g at  182 degree celsius:\"\n",
    "print MPb1,\"Mass of Pb in the alpha phase in g:\"\n",
    "print MSn1,\"Mass of Sn in alpha phase\"\n",
    "print MPb2,\"Mass of Pb in beeta phase:\"\n",
    "print round(MSn2,1),\"mass of Sn in beeta Phase:\""
   ]
  },
  {
   "cell_type": "markdown",
   "metadata": {},
   "source": [
    "## Example 11_5 pgno:429"
   ]
  },
  {
   "cell_type": "code",
   "execution_count": 5,
   "metadata": {
    "collapsed": false
   },
   "outputs": [
    {
     "name": "stdout",
     "output_type": "stream",
     "text": [
      "74.0 The amount of compositions of primary alpha in Pb-Sn:\n",
      "26.0 The amount of composition of eutectic in Pb-Sn:\n"
     ]
    }
   ],
   "source": [
    "# Initialisation of Variables\n",
    "Sn=61.9;#Percentage of the Sn in the eutectic alloy in percent\n",
    "Pb=19.;#Percentage of the Pb in the alpha phase in percent\n",
    "Sn2=30.;#Percentage of the Sn in the eutectic alloy in percent\n",
    "#CALCULATIONS\n",
    "Pa=(Sn-Sn2)/(Sn-Pb);#The amount of compositions of primary alpha in Pb-Sn\n",
    "L=(Sn2-Pb)/(Sn-Pb);#The amount of composition of eutectic in Pb-Sn\n",
    "print round(Pa*100),\"The amount of compositions of primary alpha in Pb-Sn:\"\n",
    "print round(L*100),\"The amount of composition of eutectic in Pb-Sn:\"\n"
   ]
  },
  {
   "cell_type": "markdown",
   "metadata": {},
   "source": [
    "## Example 11_6 pgno:434"
   ]
  },
  {
   "cell_type": "code",
   "execution_count": 6,
   "metadata": {
    "collapsed": false
   },
   "outputs": [
    {
     "name": "stdout",
     "output_type": "stream",
     "text": [
      "59.0 L200 in percentage\n",
      "70.0 L210 in percentage\n"
     ]
    }
   ],
   "source": [
    "\n",
    "per_L_200=((40.-18.)/(55.-18.))*100\n",
    "Per_L_210=((40.-17.)/(50.-17.))*100\n",
    "print round(per_L_200),\"L200 in percentage\"\n",
    "print round(Per_L_210),\"L210 in percentage\"\n",
    "#answer variation is due to round off"
   ]
  }
 ],
 "metadata": {
  "kernelspec": {
   "display_name": "Python 2",
   "language": "python",
   "name": "python2"
  },
  "language_info": {
   "codemirror_mode": {
    "name": "ipython",
    "version": 2
   },
   "file_extension": ".py",
   "mimetype": "text/x-python",
   "name": "python",
   "nbconvert_exporter": "python",
   "pygments_lexer": "ipython2",
   "version": "2.7.9"
  }
 },
 "nbformat": 4,
 "nbformat_minor": 0
}
