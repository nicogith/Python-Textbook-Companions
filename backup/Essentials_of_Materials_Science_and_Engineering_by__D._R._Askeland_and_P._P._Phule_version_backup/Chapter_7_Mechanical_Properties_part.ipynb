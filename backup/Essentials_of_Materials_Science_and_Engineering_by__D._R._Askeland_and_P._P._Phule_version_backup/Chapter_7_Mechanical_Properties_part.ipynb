{
 "cells": [
  {
   "cell_type": "markdown",
   "metadata": {},
   "source": [
    "# Chapter 7 Mechanical Properties part two"
   ]
  },
  {
   "cell_type": "markdown",
   "metadata": {},
   "source": [
    "## Example 7_1 pgno:251"
   ]
  },
  {
   "cell_type": "code",
   "execution_count": 7,
   "metadata": {
    "collapsed": false
   },
   "outputs": [
    {
     "name": "stdout",
     "output_type": "stream",
     "text": [
      "0.8 Depth of crank that will propagate in the steel in in:\n"
     ]
    }
   ],
   "source": [
    "from math import pi\n",
    "# Initialisation of Variables\n",
    "f=1.12;#Geometry factor for the specimen and flaw\n",
    "sigma=45000.;#Applied stress on Steel in psi\n",
    "K=80000.;#The stress intensity factor\n",
    "#CALCULATIONS\n",
    "a=(K/(f*sigma))**2/pi;#Depth of crank in in\n",
    "print round(a,1),\"Depth of crank that will propagate in the steel in in:\"\n"
   ]
  },
  {
   "cell_type": "markdown",
   "metadata": {},
   "source": [
    "## Example 7_2 pgno:253"
   ]
  },
  {
   "cell_type": "code",
   "execution_count": 8,
   "metadata": {
    "collapsed": false
   },
   "outputs": [
    {
     "name": "stdout",
     "output_type": "stream",
     "text": [
      "706.0 The radius of the crack tip in Angstroms\n"
     ]
    }
   ],
   "source": [
    "# Initialisation of Variables\n",
    "T=60000.;#Tensile strength Of Sialon (acronym   for silicon aluminum oxynitride) in psi\n",
    "sigma=500.;#The stress at which the part unexpectedly fails in psi\n",
    "a=0.01;#Depth of thin crack in in\n",
    "#CALCULATIONS\n",
    "r=a/(T/(2*sigma))**2;#The radius of the crack tip  in in\n",
    "print round(r*2.54*10**8),\"The radius of the crack tip in Angstroms\"\n",
    "#difference in answer is due to erronous caluctions\n",
    "\n"
   ]
  },
  {
   "cell_type": "markdown",
   "metadata": {},
   "source": [
    "## Example 7_3 pgno:254"
   ]
  },
  {
   "cell_type": "code",
   "execution_count": 9,
   "metadata": {
    "collapsed": false
   },
   "outputs": [
    {
     "name": "stdout",
     "output_type": "stream",
     "text": [
      "2.63 THickness of ceramic :\n"
     ]
    }
   ],
   "source": [
    "from math  import sqrt,pi\n",
    "# Initialisation of Variables\n",
    "F=40000;# Maximum Tensile load in lb\n",
    "K=9000;#Fracture toughness of Ceramic\n",
    "w=3;# plate made of Sialon width  \n",
    "#CALCULATIONS\n",
    "A=F*sqrt(pi)/K;#Area of ceramic\n",
    "T=A/w;# Thickness of Ceramic\n",
    "print round(T,2),\"THickness of ceramic :\"\n"
   ]
  },
  {
   "cell_type": "markdown",
   "metadata": {},
   "source": [
    "## Example 7_8 pgno:263"
   ]
  },
  {
   "cell_type": "code",
   "execution_count": 10,
   "metadata": {
    "collapsed": false
   },
   "outputs": [
    {
     "name": "stdout",
     "output_type": "stream",
     "text": [
      "269.4 The characteristic strength of the ceramic in MPa:\n",
      "209.8 Expected level of stress that can be supported in MPa:\n"
     ]
    }
   ],
   "source": [
    "from math import log,exp\n",
    "# Initialisation of Variables\n",
    "m=9;#Weibull modulus of an ceramic \n",
    "sigma1=250;#The flexural strength in MPa\n",
    "F1=0.4;#probability of failure \n",
    "F2=0.1;#Expected the probability of failure\n",
    "#CALCULATIONS\n",
    "sigma2=exp(log(sigma1)-(log(log(1/(1-F1)))/m ));# The characteristic strength of the ceramic\n",
    "sigma3=exp((log(log(1/(1-F2)))/m)+log(sigma2));#Expected level of stress that can be supported in MPa\n",
    "print round(sigma2,1),\"The characteristic strength of the ceramic in MPa:\"\n",
    "print round(sigma3,1),\"Expected level of stress that can be supported in MPa:\"\n",
    "\n"
   ]
  },
  {
   "cell_type": "markdown",
   "metadata": {},
   "source": [
    "## Example 7_9 pgno:264"
   ]
  },
  {
   "cell_type": "code",
   "execution_count": 11,
   "metadata": {
    "collapsed": false
   },
   "outputs": [
    {
     "name": "stdout",
     "output_type": "stream",
     "text": [
      "3.15 Weibull modulus of ceramic:\n"
     ]
    }
   ],
   "source": [
    "from math import log\n",
    "# Initialisation of Variables\n",
    "Ln1=0.5\n",
    "Ln2=-2.0\n",
    "\n",
    "sigma1=52;#the maximum allowed stress level on ceramic at one point in MP.\n",
    "sigma2=23.5;#the maximum allowed stress level on ceramic at another point in MP.\n",
    "#CALCULATIONS\n",
    "m=(Ln1-Ln2)/(log(sigma1)-log(sigma2));#Weibull modulus of ceramic\n",
    "print round(m,2),\"Weibull modulus of ceramic:\""
   ]
  },
  {
   "cell_type": "markdown",
   "metadata": {},
   "source": [
    "## Example 7_11 pgno:270"
   ]
  },
  {
   "cell_type": "code",
   "execution_count": 12,
   "metadata": {
    "collapsed": false
   },
   "outputs": [
    {
     "name": "stdout",
     "output_type": "stream",
     "text": [
      "4.39 The Diameter of Shaft in in.:\n",
      "5.54 The minimum diameter required to prevent failure in in.:\n"
     ]
    }
   ],
   "source": [
    "from math import pi\n",
    "# Initialisation of Variables\n",
    "N=5.256*10**5;#No. of cycles that the shaft will  experience in one year\n",
    "F=12500.;#applied load  on shaft in lb\n",
    "L=96.;#Length of Kliin produced from tool steel in in.\n",
    "sigma1=72000.;#the applied stress on Shaft\n",
    "f=2.;#Factor of saftey of shaft\n",
    "sigma2=sigma1/f;#the maximum allowed stress level\n",
    "#CALCULATIONS\n",
    "d1=(16*F*L/(sigma1*pi))**(1./3.);#The Diameter of Shaft in in.\n",
    "d2=(16*F*L/(sigma2*pi))**(1./3.);#The minimum diameter required to prevent failure\n",
    "print round(d1,2),\"The Diameter of Shaft in in.:\"\n",
    "print round(d2,2),\"The minimum diameter required to prevent failure in in.:\"\n"
   ]
  }
 ],
 "metadata": {
  "kernelspec": {
   "display_name": "Python 2",
   "language": "python",
   "name": "python2"
  },
  "language_info": {
   "codemirror_mode": {
    "name": "ipython",
    "version": 2
   },
   "file_extension": ".py",
   "mimetype": "text/x-python",
   "name": "python",
   "nbconvert_exporter": "python",
   "pygments_lexer": "ipython2",
   "version": "2.7.9"
  }
 },
 "nbformat": 4,
 "nbformat_minor": 0
}
