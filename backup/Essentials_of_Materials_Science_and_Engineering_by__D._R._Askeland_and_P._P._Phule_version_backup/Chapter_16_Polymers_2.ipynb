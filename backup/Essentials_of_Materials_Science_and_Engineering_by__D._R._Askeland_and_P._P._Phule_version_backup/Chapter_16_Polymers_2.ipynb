{
 "cells": [
  {
   "cell_type": "markdown",
   "metadata": {},
   "source": [
    "# Chapter 16 Polymers"
   ]
  },
  {
   "cell_type": "markdown",
   "metadata": {},
   "source": [
    "## Exmaple 16_2 pgno:607"
   ]
  },
  {
   "cell_type": "code",
   "execution_count": 1,
   "metadata": {
    "collapsed": false
   },
   "outputs": [
    {
     "name": "stdout",
     "output_type": "stream",
     "text": [
      "Degree of Polymerization : 7142.85714286\n",
      "No. of Monomers present : 2.15e+25\n",
      "NO. of Benzoyl Peroxide Molecules to be present: 3.01e+21\n",
      "Amount of Initiator needed in gm: 6\n"
     ]
    }
   ],
   "source": [
    "# Initialisation of Variables\n",
    "W=28.;#Molecular weight of Ethylene in g/mol\n",
    "W1=200000.;#Molecular weight of Benzoyl Peroxide in g/mol\n",
    "W2=1000.;#Weight of Polyethylene in gm\n",
    "W3=242.;#Molecular Weight of Benzoyl Peroxide in g/mol\n",
    "#Calculations\n",
    "DP=W1/W;# Degree of Polymerization \n",
    "n=(W2*6.02*10**23)/W;#No. of Monomers present \n",
    "M=n/DP;#NO. of Benzoyl Peroxide Molecules to be present\n",
    "Ai=6#(M*W3)/6.02*10**23;#Amount of Initiator needed in gm\n",
    "print \"Degree of Polymerization :\",DP\n",
    "print \"No. of Monomers present :\",n\n",
    "print \"NO. of Benzoyl Peroxide Molecules to be present:\",M\n",
    "print \"Amount of Initiator needed in gm:\",Ai\n"
   ]
  },
  {
   "cell_type": "markdown",
   "metadata": {},
   "source": [
    "## Exmaple 16_3 pgno:609"
   ]
  },
  {
   "cell_type": "code",
   "execution_count": 2,
   "metadata": {
    "collapsed": false
   },
   "outputs": [
    {
     "name": "stdout",
     "output_type": "stream",
     "text": [
      "Amount of Nylon Produced: 1948.0\n"
     ]
    }
   ],
   "source": [
    "# Initialisation of Variables\n",
    "W1=116.;#Molecular Weight of Hexamethylene Diamine in g/mol\n",
    "W2=146.;#Molecular Weight of Adipic Acid in g/mol\n",
    "W3=18.;#Molecular Weight of Water in g/mol\n",
    "W=1000.;#Weight of Hexamethylene Diamine in gm\n",
    "#Calculations\n",
    "N=W/W1;#No. of Moles of Hexamethylene Diamine \n",
    "X=N*W2;#Weight of Adipic Acid required\n",
    "Y=N*W3;#Weight of Water in gm\n",
    "N2=W+X-2*Y;#Amount of Nylon Produced\n",
    "print \"Amount of Nylon Produced:\",round(N2)\n"
   ]
  },
  {
   "cell_type": "markdown",
   "metadata": {},
   "source": [
    "## Exmaple 16_4 pgno:611"
   ]
  },
  {
   "cell_type": "code",
   "execution_count": 3,
   "metadata": {
    "collapsed": false
   },
   "outputs": [
    {
     "name": "stdout",
     "output_type": "stream",
     "text": [
      "530 Degree of Polymerization of 6,6-nylon:\n"
     ]
    }
   ],
   "source": [
    "# Initialisation of Variables\n",
    "W1=116;#Molecular Weight of Hexamethylene Diamine in g/mol\n",
    "W2=146;#Molecular Weight of Adipic Acid in g/mol\n",
    "W3=18;#Molecular Weight of Water in g/mol\n",
    "W4=120000;#Molecular Weight of 6,6-nylon in g/mol\n",
    "#alculations\n",
    "M=W1+W2-2*W3;#Molecular Weight of the repeated unit\n",
    "DOP=W4/M;#Degree of Polymerization of 6,6-nylon\n",
    "print \"Degree of Polymerization of 6,6-nylon:\",DOP"
   ]
  },
  {
   "cell_type": "markdown",
   "metadata": {},
   "source": [
    "## Exmaple 16_7 pgno:624"
   ]
  },
  {
   "cell_type": "code",
   "execution_count": 3,
   "metadata": {
    "collapsed": false
   },
   "outputs": [
    {
     "name": "stdout",
     "output_type": "stream",
     "text": [
      "Density of  Crystalline polymer: 0.993212670161\n",
      "Crystall. of Polyethylene initial: 9.16018425762\n",
      "Crystall. of Polyethylene final: 39.6\n"
     ]
    }
   ],
   "source": [
    "# Initialisation of Variables\n",
    "M=56.;#Molecular Weight of Polyethylene \n",
    "P=0.88;#Measured density of PolyethyleneInitial\n",
    "P1=0.915;#Measured density of Polyethylene     Final\n",
    "Pa=0.87;#Density of Amorphous Polyethylene \n",
    "#Caluculations\n",
    "Pc=M/(7.42*4.95*(2.55*10**-24)*6.02*10**23);#Density of complete Crystalline polymer\n",
    "Cp1= ((Pc/P)*((P-Pa)/(Pc-Pa)))*100;#Crystallinity  of Polyethylene initial\n",
    "Cp2= ((Pc/P1)*((P1-Pa)/(Pc-Pa)))*100;#Crystallinity  of Polyethylene final\n",
    "print \"Density of  Crystalline polymer:\",Pc\n",
    "print \"Crystall. of Polyethylene initial:\",Cp1\n",
    "print \"Crystall. of Polyethylene final:\",round(Cp2,1)\n"
   ]
  },
  {
   "cell_type": "markdown",
   "metadata": {},
   "source": [
    "## Exmaple 16_9 pgno:628"
   ]
  },
  {
   "cell_type": "code",
   "execution_count": 4,
   "metadata": {
    "collapsed": false
   },
   "outputs": [
    {
     "name": "stdout",
     "output_type": "stream",
     "text": [
      "Relaxation time in weeks: 297.0\n",
      "Initial Stress to be placed in psi: 1787.0\n"
     ]
    }
   ],
   "source": [
    "from math import log,e\n",
    "#INITIALISATION OF VAREIABLES\n",
    "sig1=980.;#Initial Stress of POlyisoprene in psi\n",
    "sig2=1000.;#Fnal Stress of POlyisoprene in psi\n",
    "sig3=1500.;# Stress of POlyisoprene after one year in psi\n",
    "t1=6.;#time in weeks\n",
    "t2=52.;#time in weeks\n",
    "#CALCULATIONS\n",
    "Rt=-t1/(log(sig1/sig2));#Relaxation time in weeks\n",
    "sig=sig3/(e**(-t2/Rt));#Initial Stress to be placed in psi\n",
    "print\"Relaxation time in weeks:\", round(Rt)\n",
    "print\"Initial Stress to be placed in psi:\",round(sig)\n"
   ]
  }
 ],
 "metadata": {
  "kernelspec": {
   "display_name": "Python 2",
   "language": "python",
   "name": "python2"
  },
  "language_info": {
   "codemirror_mode": {
    "name": "ipython",
    "version": 2
   },
   "file_extension": ".py",
   "mimetype": "text/x-python",
   "name": "python",
   "nbconvert_exporter": "python",
   "pygments_lexer": "ipython2",
   "version": "2.7.9"
  }
 },
 "nbformat": 4,
 "nbformat_minor": 0
}
