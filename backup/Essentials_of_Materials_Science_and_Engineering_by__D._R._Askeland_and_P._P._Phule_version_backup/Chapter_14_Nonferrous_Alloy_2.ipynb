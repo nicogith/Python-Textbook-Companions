{
 "cells": [
  {
   "cell_type": "markdown",
   "metadata": {},
   "source": [
    "# Chapter 14 Nonferrous Alloy"
   ]
  },
  {
   "cell_type": "markdown",
   "metadata": {},
   "source": [
    "## Exaple 14_1 pgno:545"
   ]
  },
  {
   "cell_type": "code",
   "execution_count": 1,
   "metadata": {
    "collapsed": false
   },
   "outputs": [
    {
     "name": "stdout",
     "output_type": "stream",
     "text": [
      "a. Load applied on Aluminum in lb: 13744.4678595\n",
      "c.  Weight of Steel  in lb/ft: 0.669159235215\n",
      "Weight of Aluminum in lb/ft: 0.444\n",
      "b. Diameter of Aluminum in in.:  0.697\n"
     ]
    }
   ],
   "source": [
    "from math import pi,sqrt\n",
    "# Initialisation of Variables\n",
    "d1=0.5;#Diameter of a steel Cable in in.\n",
    "rhoy=70000.;#Yield Strength of Steel Cable in psi\n",
    "rhoa1=36000.;#Yield Strength of Aluminum in psi\n",
    "rhos=0.284;#Density of Steel in lb/in**3\n",
    "rhoa2=0.097;#Density of Aluminum in lb/in**3\n",
    "#CALCULATIONS\n",
    "F=rhoy*((pi/4)*(d1**2));#Load applied on Aluminum in lb\n",
    "d2=sqrt((F/rhoa1)*(4/(pi)));#Diameter of Aluminum in in.\n",
    "Ws=(pi/4)*(d1**2)*12*rhos;#Weight of Steel  in lb/ft\n",
    "Wa=(pi/4)*(d2**2)*12*rhoa2;#Weight of        Aluminum in lb/ft\n",
    "print \"a. Load applied on Aluminum in lb:\",F\n",
    "print \"c.  Weight of Steel  in lb/ft:\",Ws\n",
    "print \"Weight of Aluminum in lb/ft:\",round(Wa,3)\n",
    "print \"b. Diameter of Aluminum in in.: \",round(d2,3)"
   ]
  }
 ],
 "metadata": {
  "kernelspec": {
   "display_name": "Python 2",
   "language": "python",
   "name": "python2"
  },
  "language_info": {
   "codemirror_mode": {
    "name": "ipython",
    "version": 2
   },
   "file_extension": ".py",
   "mimetype": "text/x-python",
   "name": "python",
   "nbconvert_exporter": "python",
   "pygments_lexer": "ipython2",
   "version": "2.7.9"
  }
 },
 "nbformat": 4,
 "nbformat_minor": 0
}
