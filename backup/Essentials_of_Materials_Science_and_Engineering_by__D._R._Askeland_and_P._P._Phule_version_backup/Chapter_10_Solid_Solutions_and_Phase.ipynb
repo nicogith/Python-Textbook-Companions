{
 "cells": [
  {
   "cell_type": "markdown",
   "metadata": {},
   "source": [
    "# Chapter 10 Solid Solutions and Phase Equilibrium"
   ]
  },
  {
   "cell_type": "markdown",
   "metadata": {},
   "source": [
    "## Example 10_6 pgno:391"
   ]
  },
  {
   "cell_type": "code",
   "execution_count": 6,
   "metadata": {
    "collapsed": false
   },
   "outputs": [
    {
     "name": "stdout",
     "output_type": "stream",
     "text": [
      "2 Degrees of freedom of both Copper and NIckel at 1300 celsius \n",
      "1 Degrees of freedom of both Copper and NIckel at 1250 celsius \n",
      "2 Degrees of freedom of both Copper and NIckel at 1200 celsius \n"
     ]
    }
   ],
   "source": [
    "#INITIALISATION OF VARIABLES\n",
    "c1=2;#NO.of independent Chemical components at 1300 celsius\n",
    "p1=1;#No.of phases at 1300 celsius\n",
    "c2=2;#NO.of independent Chemical components at 1250 celsius\n",
    "p2=2;#No.of phases at 1250 celsius\n",
    "c3=2;#NO.of independent Chemical components at 1200 celsius\n",
    "p3=1;#No.of phases at 1200 celsius\n",
    "#CALCULATIONS\n",
    "f1=1+c1-p1;#Degrees of freedom of both Copper and NIckel at 1300 celsius \n",
    "f2=1+c2-p2;#Degrees of freedom of both Copper and NIckel at 1250 celsius\n",
    "f3=1+c3-p3;#Degrees of freedom of both Copper and NIckel at 1200 celsius\n",
    "print f1,\"Degrees of freedom of both Copper and NIckel at 1300 celsius \"\n",
    "print f2,\"Degrees of freedom of both Copper and NIckel at 1250 celsius \"\n",
    "print f3,\"Degrees of freedom of both Copper and NIckel at 1200 celsius \"\n"
   ]
  },
  {
   "cell_type": "markdown",
   "metadata": {},
   "source": [
    "## Example 10_8 pgno:393"
   ]
  },
  {
   "cell_type": "code",
   "execution_count": 7,
   "metadata": {
    "collapsed": false
   },
   "outputs": [
    {
     "name": "stdout",
     "output_type": "stream",
     "text": [
      "0.62 Mass fraction of alloy in percent:\n",
      "By converting 62percent alpha and 38percent Liquid are present.:\n"
     ]
    }
   ],
   "source": [
    "# Initialisation of Variables\n",
    "Nia=40.;#no, of grams of nickel in alloy at alla temperature\n",
    "NiL=32.;#Mass of Nickel present in Liquid\n",
    "Nialpha=45.;#Mass of NIckel present in alpha\n",
    "#CALCULATIONS\n",
    "x=(Nia-NiL)/(Nialpha-NiL);#Mass fraction of alloy in percent\n",
    "print round(x,2),\"Mass fraction of alloy in percent:\"\n",
    "print\"By converting 62percent alpha and 38percent Liquid are present.:\"\n"
   ]
  },
  {
   "cell_type": "markdown",
   "metadata": {},
   "source": [
    "## Example 10_9 pgno:395"
   ]
  },
  {
   "cell_type": "code",
   "execution_count": 5,
   "metadata": {
    "collapsed": false
   },
   "outputs": [
    {
     "name": "stdout",
     "output_type": "stream",
     "text": [
      "At 1300 degree celsius only one phase so 100 percent Liquid\n",
      "77.0 Percentage of Liquid at 1270 degree celsius :\n",
      "23.0 Percentage of Solid qt 1270 degree celsius:\n",
      "38.0 Percentage of Liquid at 1250 degree celsius :\n",
      "62.0 Percentage of Solid at 1250 degree celsius:\n",
      "At 1200 degree celsius only one phase so 100 percent Solid \n"
     ]
    }
   ],
   "source": [
    "# Initialisation of Variables\n",
    "NiL=37.;# percentage of NI the Liquid contains at 1270 degree celsius\n",
    "NiS=50.;#percentage of NI the Solid contains at 1270 degree celsius\n",
    "NiL2=32.;#percentage of NI the Liquidcontains at 1250 degree celsius\n",
    "NiS2=45.;#percentage of NI the Solid contains at 1250 degree celsius\n",
    "NiS3=40.;#percentage of NI the Solid contains at 1200 degree celsius\n",
    "NiL3=40.;#percentage of NI the Liquid contains at 1300 degree celsius\n",
    "#CALCULATIONS\n",
    "L=((NiS-NiL3)/(NiS-NiL))*100;#Percentage of Liquid at 1270 degree celsius \n",
    "S=((NiS3-NiL)/(NiS-NiL))*100;#Percentage of Solid qt 1270 degree celsius\n",
    "L2=((NiS2-NiL3)/(NiS2-NiL2))*100;#Percentage of Liquid at 1250 degree celsius \n",
    "S2=((NiS3-NiL2)/(NiS2-NiL2))*100;#Percentage of Solid qt 1250 degree celsius\n",
    "print \"At 1300 degree celsius only one phase so 100 percent Liquid\"\n",
    "print round(L),\"Percentage of Liquid at 1270 degree celsius :\"\n",
    "print round(S),\"Percentage of Solid qt 1270 degree celsius:\"\n",
    "print round(L2),\"Percentage of Liquid at 1250 degree celsius :\"\n",
    "print round(S2),\"Percentage of Solid at 1250 degree celsius:\"\n",
    "print \"At 1200 degree celsius only one phase so 100 percent Solid \"\n"
   ]
  }
 ],
 "metadata": {
  "kernelspec": {
   "display_name": "Python 2",
   "language": "python",
   "name": "python2"
  },
  "language_info": {
   "codemirror_mode": {
    "name": "ipython",
    "version": 2
   },
   "file_extension": ".py",
   "mimetype": "text/x-python",
   "name": "python",
   "nbconvert_exporter": "python",
   "pygments_lexer": "ipython2",
   "version": "2.7.9"
  }
 },
 "nbformat": 4,
 "nbformat_minor": 0
}
