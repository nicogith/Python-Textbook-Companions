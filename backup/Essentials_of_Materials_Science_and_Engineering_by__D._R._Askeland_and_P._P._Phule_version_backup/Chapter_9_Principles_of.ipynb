{
 "cells": [
  {
   "cell_type": "markdown",
   "metadata": {},
   "source": [
    "# Chapter 9 Principles of Solidification"
   ]
  },
  {
   "cell_type": "markdown",
   "metadata": {},
   "source": [
    "## Example 9_1 pgno:333"
   ]
  },
  {
   "cell_type": "code",
   "execution_count": 8,
   "metadata": {
    "collapsed": false
   },
   "outputs": [
    {
     "name": "stdout",
     "output_type": "stream",
     "text": [
      "12.5122850123 Critical Radius of copper in cm:\n",
      "4.7241633375e-23 Volume of FCC unit cell of copper in cm**3:\n",
      "8.2053761484e-21 Critical volume of FCC copper :\n",
      "174.0 The number of unit cells in the critical nucleus :\n",
      "696.0 Since there are four atoms in each unit cell of FCC metals:\n"
     ]
    }
   ],
   "source": [
    "from math import pi\n",
    "# Initialisation of Variables\n",
    "deltaT=236;#Typical Undercooling for HomogeneousNucleation from the table 9-1 for cooper \n",
    "Tm=1358;#Freezing Temperature from the table 9-1 for cooper in degree celsius\n",
    "deltaH=1628;# Latent Heat of Fusion from the table 9-1 for cooper in J/cm**3\n",
    "sigma1=177*10**-7;#Solid-Liquid Interfacial Energyfrom the table 9-1 for cooper in J/cm**2\n",
    "a0=3.615*10**-8;#The lattice parameter for FCC copper in cm\n",
    "#CALCULATIONS\n",
    "r=(2*sigma1*Tm)/(deltaH*deltaT);#Critical Radius of copper in cm\n",
    "V=a0**3;#Volume of FCC unit cell of copper in cm**3\n",
    "V2=(4./3.)*pi*r**3;#Critical volume of FCC copper \n",
    "N=V2/V#The number of unit cells in the critical nucleus \n",
    "Nc=4*round(N);#Since there are four atoms in each unit cell of FCC metals\n",
    "print r*10**8,\"Critical Radius of copper in cm:\"\n",
    "print V,\"Volume of FCC unit cell of copper in cm**3:\"\n",
    "print V2,\"Critical volume of FCC copper :\"\n",
    "print round(N),\"The number of unit cells in the critical nucleus :\"\n",
    "print Nc,\"Since there are four atoms in each unit cell of FCC metals:\"\n"
   ]
  },
  {
   "cell_type": "markdown",
   "metadata": {},
   "source": [
    "## Example 9_2 pgno:339"
   ]
  },
  {
   "cell_type": "code",
   "execution_count": 9,
   "metadata": {
    "collapsed": false
   },
   "outputs": [
    {
     "name": "stdout",
     "output_type": "stream",
     "text": [
      "1.73 The thickness in inches=\n"
     ]
    }
   ],
   "source": [
    "from math import pi\n",
    "#page 255\n",
    "# Initialisation of Variables\n",
    "d=18.;#Diameter of the casting in in\n",
    "x=2.;#Thickness  of the casting in in\n",
    "B=22.#Mold constant of casting\n",
    "V=(pi/4.)*d**2;#Volume of the casting in in**3\n",
    "A=2*(pi/4.)*d**2+pi*d*x;#The surface area of the casting in contact with the mold\n",
    "x=(0.708*A)/V\n",
    "print round(x,2),\"The thickness in inches=\"\n",
    "#the diffrence in asnwer is due to round foo error\n"
   ]
  },
  {
   "cell_type": "markdown",
   "metadata": {},
   "source": [
    "## Example 9_4 pgno:342"
   ]
  },
  {
   "cell_type": "code",
   "execution_count": 10,
   "metadata": {
    "collapsed": false
   },
   "outputs": [
    {
     "name": "stdout",
     "output_type": "stream",
     "text": [
      "the total solidification time is  31.28\n"
     ]
    }
   ],
   "source": [
    "#page 250\n",
    "\n",
    "# Initialisation of Variables\n",
    "d=5#inches\n",
    "t1=5#mins\n",
    "t2=20#mins\n",
    "d2=1.5#inches\n",
    "#CALCULATIONS\n",
    "ksol=0.447#inches/mts**0.5\n",
    "c1=0.5;\n",
    "t=((d-3+c1)/ksol)**2\n",
    "print \"the total solidification time is \",round(t,2)#mins"
   ]
  },
  {
   "cell_type": "markdown",
   "metadata": {},
   "source": [
    "## Example 9_5 pgno:342"
   ]
  },
  {
   "cell_type": "code",
   "execution_count": 7,
   "metadata": {
    "collapsed": false
   },
   "outputs": [
    {
     "name": "stdout",
     "output_type": "stream",
     "text": [
      "0.77\n"
     ]
    }
   ],
   "source": [
    "#page 250\n",
    "from math import pi\n",
    "from sympy import *\n",
    "# Initialisation of Variables\n",
    "l=12 #inchs\n",
    "w=8#inchs\n",
    "ts=40000#psi\n",
    "mc=45#mins/in**2\n",
    "x=symbols('x')\n",
    "v=8*12*x\n",
    "a=2*8*12+2*x*12\n",
    "#by solving the two equations we get \n",
    "x=64/82.67;\n",
    "print round(x,2)"
   ]
  }
 ],
 "metadata": {
  "kernelspec": {
   "display_name": "Python 2",
   "language": "python",
   "name": "python2"
  },
  "language_info": {
   "codemirror_mode": {
    "name": "ipython",
    "version": 2
   },
   "file_extension": ".py",
   "mimetype": "text/x-python",
   "name": "python",
   "nbconvert_exporter": "python",
   "pygments_lexer": "ipython2",
   "version": "2.7.9"
  }
 },
 "nbformat": 4,
 "nbformat_minor": 0
}
