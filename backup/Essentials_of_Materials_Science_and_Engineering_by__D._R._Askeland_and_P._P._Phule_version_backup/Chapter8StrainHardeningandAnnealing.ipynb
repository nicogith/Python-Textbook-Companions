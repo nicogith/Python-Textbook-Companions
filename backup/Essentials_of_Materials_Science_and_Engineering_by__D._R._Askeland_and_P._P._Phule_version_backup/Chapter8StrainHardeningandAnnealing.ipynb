{
 "cells": [
  {
   "cell_type": "markdown",
   "metadata": {},
   "source": [
    "# Chapter 8 Strain Hardening and Annealing "
   ]
  },
  {
   "cell_type": "markdown",
   "metadata": {},
   "source": [
    "## Example 8_1 pgno:300"
   ]
  },
  {
   "cell_type": "code",
   "execution_count": 6,
   "metadata": {
    "collapsed": false
   },
   "outputs": [
    {
     "name": "stdout",
     "output_type": "stream",
     "text": [
      "50.0 Amount of Cold work accomplished in step1:\n",
      "68.0 Amount of Cold work accomplished in step2:\n",
      "84.0 Actual Total Cold work in percent:\n"
     ]
    }
   ],
   "source": [
    "# Initialisation of Variables\n",
    "t0=1;#Thickness of Copper plate in cm\n",
    "tf=0.50;#Cold reducetion of coopper in cm in step1\n",
    "tf2=0.16;# Further Cold reduction of cooper in cm in step2\n",
    "#CALCULATIONS\n",
    "CW1=((t0-tf)/t0)*100;#Amount of Cold work accomplished in step1\n",
    "CW2=((tf-tf2)/tf)*100;#Amount of Cold work accomplished in step2\n",
    "CW=((t0-tf2)/t0)*100;#Actual Total Cold work in percent\n",
    "print CW1,\"Amount of Cold work accomplished in step1:\" \n",
    "print CW2,\"Amount of Cold work accomplished in step2:\"\n",
    "print CW,\"Actual Total Cold work in percent:\"\n"
   ]
  },
  {
   "cell_type": "markdown",
   "metadata": {},
   "source": [
    "## Example 8_2 pgno:301"
   ]
  },
  {
   "cell_type": "code",
   "execution_count": 7,
   "metadata": {
    "collapsed": false
   },
   "outputs": [
    {
     "name": "stdout",
     "output_type": "stream",
     "text": [
      "0.167 Maximum thicknessproduced  in cm:\n",
      "0.182 Minimum thicknessproduced  in cm:\n"
     ]
    }
   ],
   "source": [
    "# Initialisation of Variables\n",
    "tf=0.1;#Thickness of cooper to produce in cm\n",
    "CW1=40.;#cold work to produce a tensile strengthof 65,000 psi\n",
    "CW2=45.;#cold work to produce a tensile strengthof 60,000 psi\n",
    "#CALCULATIONS\n",
    "Tmax=(tf/(1-(CW1/100)));#Maximum thicknessproduced in step1 in cm\n",
    "Tmin=(tf/(1-(CW2/100)));#Minimum thicknessproduced in step2 in cm\n",
    "print round(Tmax,3),\"Maximum thicknessproduced  in cm:\"\n",
    "print round(Tmin,3),\"Minimum thicknessproduced  in cm:\"\n"
   ]
  },
  {
   "cell_type": "markdown",
   "metadata": {},
   "source": [
    "## Example 8_4 pgno:307"
   ]
  },
  {
   "cell_type": "code",
   "execution_count": 8,
   "metadata": {
    "collapsed": false
   },
   "outputs": [
    {
     "name": "stdout",
     "output_type": "stream",
     "text": [
      "75.0 The fianal Cold Work in percent:\n",
      "2764.60153516 The draw force required to deform the initial wire in lb:\n",
      "88000.0 The stress acting on the wire after passing through the die in psi:\n"
     ]
    }
   ],
   "source": [
    "from math import pi\n",
    "# Initialisation of Variables\n",
    "D0=0.40;#Let's assume that the starting diameter of the copper wire in in.\n",
    "Df=0.20;# Diameter of the copper wire to be produced in in.\n",
    "sigma1=22000;#Yeidl strength at 0% cold work\n",
    "#CALCULATIONS\n",
    "CW=((D0**2-Df**2)/D0**2)*100;#The fianal Cold Work in percent\n",
    "F=sigma1*(pi/4)*D0**2;#The draw force required to deform the initial wire in lb\n",
    "sigma2=F/((pi/4)*Df**2);# The stress acting on the wire after passing through the die in psi\n",
    "print CW,\"The fianal Cold Work in percent:\"\n",
    "print F,\"The draw force required to deform the initial wire in lb:\"\n",
    "print sigma2,\"The stress acting on the wire after passing through the die in psi:\"\n",
    "\n"
   ]
  },
  {
   "cell_type": "markdown",
   "metadata": {},
   "source": [
    "## Example 8_5 pgno:313"
   ]
  },
  {
   "cell_type": "code",
   "execution_count": 9,
   "metadata": {
    "collapsed": false
   },
   "outputs": [
    {
     "name": "stdout",
     "output_type": "stream",
     "text": [
      "96.36 Cold work between from 5 to 0.182 cm in percent:\n",
      "5 1. Final Thickness of strip in cm\n",
      "270.2 2. Recrystallization temperature By using 0.4Tm relationship in degree celsius:\n",
      "81.8    3.  Cold work of the strip of 1 cm thickness :\n"
     ]
    }
   ],
   "source": [
    "# Initialisation of Variables\n",
    "t0=5;#Assming we are able to purchase only 5-cm thick stock\n",
    "t02=1;#Thickness of strip in cm\n",
    "tf=0.182;#Final thickness of strip in cm\n",
    "CW2=80;#cold work  of a strip in percent\n",
    "M=1085;# The melting point of copper in degree celsius\n",
    "#CALCULATIONS\n",
    "CW=((t0-tf)/t0)*100;#Cold work between from 5 to 0.182 cm in percent\n",
    "tf2=(1-(CW2/100))*t0;# Final Thickness of strip in cm\n",
    "Tr=0.4*(M+273);# Recrystallization temperature By using 0.4Tm relationship in degree celsius\n",
    "CW3=((t02-tf)/t02)*100;#Cold work of the strip of 1 cm thickness \n",
    "print CW,\"Cold work between from 5 to 0.182 cm in percent:\"\n",
    "print tf2,\"1. Final Thickness of strip in cm\"\n",
    "print Tr-273,\"2. Recrystallization temperature By using 0.4Tm relationship in degree celsius:\"\n",
    "print CW3,\"   3.  Cold work of the strip of 1 cm thickness :\""
   ]
  },
  {
   "cell_type": "markdown",
   "metadata": {},
   "source": [
    "## Example 8_6 pgno:316"
   ]
  },
  {
   "cell_type": "code",
   "execution_count": 5,
   "metadata": {
    "collapsed": false
   },
   "outputs": [
    {
     "name": "stdout",
     "output_type": "stream",
     "text": [
      "96.36 Hot work for a strip from 5cm to 0.182 cm in percent:\n",
      "96.66 Hot work for a strip from 5cm to 0.167 cm in percent\n"
     ]
    }
   ],
   "source": [
    "# Initialisation of Variables\n",
    "t0=5;#We are able to purchase strip of 5cm thickness in cm\n",
    "tf=0.182;#Thickness to be produced in cm\n",
    "tf2=0.167;#Thickness to procedure in cm\n",
    "#CALCULATIONS\n",
    "HW=((t0-tf)/t0)*100;#Hot work for a strip from 5cm to 0.182 cm in percent\n",
    "HW2=((t0-tf2)/t0)*100;#Hot work for a strip from 5cm to 0.167 cm in percent\n",
    "print round(HW,1),\"Hot work for a strip from 5cm to 0.182 cm in percent:\"\n",
    "print round(HW2,1),\"Hot work for a strip from 5cm to 0.167 cm in percent\"\n"
   ]
  }
 ],
 "metadata": {
  "kernelspec": {
   "display_name": "Python 2",
   "language": "python",
   "name": "python2"
  },
  "language_info": {
   "codemirror_mode": {
    "name": "ipython",
    "version": 2
   },
   "file_extension": ".py",
   "mimetype": "text/x-python",
   "name": "python",
   "nbconvert_exporter": "python",
   "pygments_lexer": "ipython2",
   "version": "2.7.9"
  }
 },
 "nbformat": 4,
 "nbformat_minor": 0
}
