{
 "cells": [
  {
   "cell_type": "markdown",
   "metadata": {},
   "source": [
    "# Chapter 16 Polymers"
   ]
  },
  {
   "cell_type": "markdown",
   "metadata": {},
   "source": [
    "## Exmaple 16_2 pgno:607"
   ]
  },
  {
   "cell_type": "code",
   "execution_count": 1,
   "metadata": {
    "collapsed": false
   },
   "outputs": [
    {
     "name": "stdout",
     "output_type": "stream",
     "text": [
      "7142.85714286 Degree of Polymerization :\n",
      "2.15e+25 No. of Monomers present :\n",
      "3.01e+21 NO. of Benzoyl Peroxide Molecules to be present:\n",
      "6 Amount of Initiator needed in gm:\n"
     ]
    }
   ],
   "source": [
    "# Initialisation of Variables\n",
    "W=28.;#Molecular weight of Ethylene in g/mol\n",
    "W1=200000.;#Molecular weight of Benzoyl Peroxide in g/mol\n",
    "W2=1000.;#Weight of Polyethylene in gm\n",
    "W3=242.;#Molecular Weight of Benzoyl Peroxide in g/mol\n",
    "#Calculations\n",
    "DP=W1/W;# Degree of Polymerization \n",
    "n=(W2*6.02*10**23)/W;#No. of Monomers present \n",
    "M=n/DP;#NO. of Benzoyl Peroxide Molecules to be present\n",
    "Ai=6#(M*W3)/6.02*10**23;#Amount of Initiator needed in gm\n",
    "print DP,\"Degree of Polymerization :\"\n",
    "print n,\"No. of Monomers present :\"\n",
    "print M,\"NO. of Benzoyl Peroxide Molecules to be present:\"\n",
    "print Ai,\"Amount of Initiator needed in gm:\"\n"
   ]
  },
  {
   "cell_type": "markdown",
   "metadata": {},
   "source": [
    "## Exmaple 16_3 pgno:609"
   ]
  },
  {
   "cell_type": "code",
   "execution_count": 2,
   "metadata": {
    "collapsed": false
   },
   "outputs": [
    {
     "name": "stdout",
     "output_type": "stream",
     "text": [
      "1948.0 Amount of Nylon Produced:\n"
     ]
    }
   ],
   "source": [
    "# Initialisation of Variables\n",
    "W1=116.;#Molecular Weight of Hexamethylene Diamine in g/mol\n",
    "W2=146.;#Molecular Weight of Adipic Acid in g/mol\n",
    "W3=18.;#Molecular Weight of Water in g/mol\n",
    "W=1000.;#Weight of Hexamethylene Diamine in gm\n",
    "#Calculations\n",
    "N=W/W1;#No. of Moles of Hexamethylene Diamine \n",
    "X=N*W2;#Weight of Adipic Acid required\n",
    "Y=N*W3;#Weight of Water in gm\n",
    "N2=W+X-2*Y;#Amount of Nylon Produced\n",
    "print round(N2),\"Amount of Nylon Produced:\"\n"
   ]
  },
  {
   "cell_type": "markdown",
   "metadata": {},
   "source": [
    "## Exmaple 16_4 pgno:611"
   ]
  },
  {
   "cell_type": "code",
   "execution_count": 3,
   "metadata": {
    "collapsed": false
   },
   "outputs": [
    {
     "name": "stdout",
     "output_type": "stream",
     "text": [
      "530 Degree of Polymerization of 6,6-nylon:\n"
     ]
    }
   ],
   "source": [
    "# Initialisation of Variables\n",
    "W1=116;#Molecular Weight of Hexamethylene Diamine in g/mol\n",
    "W2=146;#Molecular Weight of Adipic Acid in g/mol\n",
    "W3=18;#Molecular Weight of Water in g/mol\n",
    "W4=120000;#Molecular Weight of 6,6-nylon in g/mol\n",
    "#alculations\n",
    "M=W1+W2-2*W3;#Molecular Weight of the repeated unit\n",
    "DOP=W4/M;#Degree of Polymerization of 6,6-nylon\n",
    "print DOP,\"Degree of Polymerization of 6,6-nylon:\""
   ]
  },
  {
   "cell_type": "markdown",
   "metadata": {},
   "source": [
    "## Exmaple 16_7 pgno:624"
   ]
  },
  {
   "cell_type": "code",
   "execution_count": 4,
   "metadata": {
    "collapsed": false
   },
   "outputs": [
    {
     "name": "stdout",
     "output_type": "stream",
     "text": [
      "0.993212670161 Density of  Crystalline polymer:\n",
      "9.16018425762 Crystall. of Polyethylene initial:\n",
      "39.6 Crystall. of Polyethylene final:\n"
     ]
    }
   ],
   "source": [
    "# Initialisation of Variables\n",
    "M=56.;#Molecular Weight of Polyethylene \n",
    "P=0.88;#Measured density of PolyethyleneInitial\n",
    "P1=0.915;#Measured density of Polyethylene     Final\n",
    "Pa=0.87;#Density of Amorphous Polyethylene \n",
    "#Caluculations\n",
    "Pc=M/(7.42*4.95*(2.55*10**-24)*6.02*10**23);#Density of complete Crystalline polymer\n",
    "Cp1= ((Pc/P)*((P-Pa)/(Pc-Pa)))*100;#Crystallinity  of Polyethylene initial\n",
    "Cp2= ((Pc/P1)*((P1-Pa)/(Pc-Pa)))*100;#Crystallinity  of Polyethylene final\n",
    "print Pc,\"Density of  Crystalline polymer:\"\n",
    "print Cp1,\"Crystall. of Polyethylene initial:\"\n",
    "print round(Cp2,1),\"Crystall. of Polyethylene final:\"\n"
   ]
  },
  {
   "cell_type": "markdown",
   "metadata": {},
   "source": [
    "## Exmaple 16_9 pgno:628"
   ]
  },
  {
   "cell_type": "code",
   "execution_count": 5,
   "metadata": {
    "collapsed": false
   },
   "outputs": [
    {
     "name": "stdout",
     "output_type": "stream",
     "text": [
      "297.0 Relaxation time in weeks:\n",
      "1787.0 Initial Stress to be placed in psi:\n"
     ]
    }
   ],
   "source": [
    "from math import log,e\n",
    "#INITIALISATION OF VAREIABLES\n",
    "sig1=980.;#Initial Stress of POlyisoprene in psi\n",
    "sig2=1000.;#Fnal Stress of POlyisoprene in psi\n",
    "sig3=1500.;# Stress of POlyisoprene after one year in psi\n",
    "t1=6.;#time in weeks\n",
    "t2=52.;#time in weeks\n",
    "#CALCULATIONS\n",
    "Rt=-t1/(log(sig1/sig2));#Relaxation time in weeks\n",
    "sig=sig3/(e**(-t2/Rt));#Initial Stress to be placed in psi\n",
    "print round(Rt),\"Relaxation time in weeks:\"\n",
    "print round (sig),\"Initial Stress to be placed in psi:\"\n"
   ]
  }
 ],
 "metadata": {
  "kernelspec": {
   "display_name": "Python 2",
   "language": "python",
   "name": "python2"
  },
  "language_info": {
   "codemirror_mode": {
    "name": "ipython",
    "version": 2
   },
   "file_extension": ".py",
   "mimetype": "text/x-python",
   "name": "python",
   "nbconvert_exporter": "python",
   "pygments_lexer": "ipython2",
   "version": "2.7.9"
  }
 },
 "nbformat": 4,
 "nbformat_minor": 0
}
