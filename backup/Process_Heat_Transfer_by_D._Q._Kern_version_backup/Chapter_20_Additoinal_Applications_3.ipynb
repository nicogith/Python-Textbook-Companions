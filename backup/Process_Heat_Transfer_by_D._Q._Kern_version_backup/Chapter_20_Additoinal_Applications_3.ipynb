{
 "cells": [
  {
   "cell_type": "markdown",
   "metadata": {},
   "source": [
    "# Chapter 20: Additoinal Applications"
   ]
  },
  {
   "cell_type": "markdown",
   "metadata": {},
   "source": [
    "## Example 20.1 pgno:719"
   ]
  },
  {
   "cell_type": "code",
   "execution_count": 19,
   "metadata": {
    "collapsed": false
   },
   "outputs": [
    {
     "name": "stdout",
     "output_type": "stream",
     "text": [
      "\t example 20.1 \t\n",
      "\t approximate values are mentioned in the book \t\n",
      "\t Rej is :  \t159198.113208\n",
      "\t hi is :  Btu/(hr)*(ft**2)*(F) \t413.861386139\n",
      "\t Uc is :  Btu/(hr)*(ft**2)*(F) \t324.366270047\n",
      "\t hd is :  \t200.0\n",
      "\t UD is :  Btu/(hr)*(ft**2)*(F) \t123.717442778\n",
      "\t temperature difference is : F \t76.8232268984\n",
      "\t temperature of the steam :  F \t221.0\n"
     ]
    }
   ],
   "source": [
    "print\"\\t example 20.1 \\t\"\n",
    "print\"\\t approximate values are mentioned in the book \\t\"\n",
    "T=150; # F\n",
    "L=0.6; # ft\n",
    "N=7500; # rev/hr\n",
    "row=62.5; # lb/ft**3\n",
    "mu=1.06; # at 150 F and from fig 14, lb/ft*hr\n",
    "k=0.38; # Btu/(hr)*(ft**2)*(F/ft), from table 4\n",
    "c=1; # Btu/(lb)*(F)\n",
    "Rej=(L**2)*(N)*(row)/(mu);\n",
    "print\"\\t Rej is :  \\t\",Rej\n",
    "Z=1; # Z=(mu/muw)**(0.14), regarded as 1 for water\n",
    "Dj=1.01; # ft, from table 11\n",
    "j=1100; # fig 20.2\n",
    "hi=((j)*(k/Dj)*((c*mu/k)**(1/3))*(Z)**(0.14));\n",
    "print\"\\t hi is :  Btu/(hr)*(ft**2)*(F) \\t\",hi\n",
    "hoi=1500; # Btu/(hr)*(ft**2)*(F)\n",
    "Uc=((hi*hoi)/(hi+hoi)); # from eq 6.38\n",
    "print\"\\t Uc is :  Btu/(hr)*(ft**2)*(F) \\t\",Uc\n",
    "Rd=0.005;\n",
    "hd=(1/Rd);\n",
    "print\"\\t hd is :  \\t\",hd\n",
    "UD=((Uc*hd)/(Uc+hd));\n",
    "print\"\\t UD is :  Btu/(hr)*(ft**2)*(F) \\t\",UD\n",
    "A=3.43; # ft**2\n",
    "Q=32600;\n",
    "delt=(Q/(UD*A));\n",
    "print\"\\t temperature difference is : F \\t\",delt\n",
    "Ts=(T+delt)-6;\n",
    "print\"\\t temperature of the steam :  F \\t\",round(Ts)\n",
    "# end\n"
   ]
  },
  {
   "cell_type": "markdown",
   "metadata": {},
   "source": [
    "## Example 20.2 pgno:723"
   ]
  },
  {
   "cell_type": "code",
   "execution_count": 20,
   "metadata": {
    "collapsed": false
   },
   "outputs": [
    {
     "name": "stdout",
     "output_type": "stream",
     "text": [
      "\t example 20.2 \t\n",
      "\t approximate values are mentioned in the book \t\n",
      "\t Rej is :  \t159198.113208\n",
      "\t hi is :  Btu/(hr)*(ft**2)*(F) \t639.603960396\n",
      "\t Uc is :  Btu/(hr)*(ft**2)*(F) \t448.40351689\n",
      "\t hd is :  \t200.0\n",
      "\t UD is :  Btu/(hr)*(ft**2)*(F) \t138.310019983\n",
      "\t Area is :  ft**2 \t3.36717676544\n",
      "\t area per turn is :  ft**2 \t0.3288208\n",
      "\t number of turns :  \t10.0\n"
     ]
    }
   ],
   "source": [
    "print\"\\t example 20.2 \\t\"\n",
    "print\"\\t approximate values are mentioned in the book \\t\"\n",
    "T1=150; # F\n",
    "T2=220; # F\n",
    "L=0.6; # ft\n",
    "N=7500; # rev/hr\n",
    "row=62.5; # lb/ft**3\n",
    "mu=1.06; # at 150 F and from fig 14, lb/ft*hr\n",
    "k=0.38; # Btu/(hr)*(ft**2)*(F/ft), from table 4\n",
    "c=1; # Btu/(lb)*(F)\n",
    "Rej=(L**2)*(N)*(row)/(mu);\n",
    "print\"\\t Rej is :  \\t\",Rej\n",
    "Z=1; # Z=(mu/muw)**(0.14), regarded as 1 for water\n",
    "Dj=1.01; # ft, from table 11\n",
    "j=1700; # fig 20.2\n",
    "hi=((j)*(k/Dj)*((c*mu/k)**(1/3))*(Z)**(0.14));\n",
    "print\"\\t hi is :  Btu/(hr)*(ft**2)*(F) \\t\",hi\n",
    "hoi=1500; # Btu/(hr)*(ft**2)*(F)\n",
    "Uc=((hi*hoi)/(hi+hoi)); # from eq 6.38\n",
    "print\"\\t Uc is :  Btu/(hr)*(ft**2)*(F) \\t\",Uc\n",
    "Rd=0.005;\n",
    "hd=(1/Rd);\n",
    "print\"\\t hd is :  \\t\",hd\n",
    "UD=((Uc*hd)/(Uc+hd));\n",
    "print\"\\t UD is :  Btu/(hr)*(ft**2)*(F) \\t\",UD\n",
    "Q=32600;\n",
    "A=(Q/(UD*(T2-T1)));\n",
    "print\"\\t Area is :  ft**2 \\t\",A\n",
    "a=0.1309; # ft**2/ft\n",
    "a1=(3.14*0.8*a);\n",
    "print\"\\t area per turn is :  ft**2 \\t\",a1\n",
    "n=(A/a1);\n",
    "print\"\\t number of turns :  \\t\",round(n)\n",
    "# end\n"
   ]
  },
  {
   "cell_type": "markdown",
   "metadata": {},
   "source": [
    "## Example 20.3 pgno:725"
   ]
  },
  {
   "cell_type": "code",
   "execution_count": 21,
   "metadata": {
    "collapsed": false
   },
   "outputs": [
    {
     "name": "stdout",
     "output_type": "stream",
     "text": [
      "\t example 20.3 \t\n",
      "\t approximate values are mentioned in the book \t\n",
      "\t 1.for heat balance \t\n",
      "\t for oil \t\n",
      "\t total heat required for oil is : Btu/hr \t10062400.0\n",
      "\t for water \t\n",
      "\t total heat required for water is : Btu/hr \t10200000\n",
      "\t delt1 is : F \t80\n",
      "\t delt2 is : F \t535\n",
      "\t LMTD is  F \t230\n",
      "\t caloric temperature of hot fluid is : F \t437\n",
      "\t caloric temperature of cold fluid is : \t130\n",
      "\t hot fluid:inner tube side, oil \t\n",
      "\t flow area is : ft**2 \t0.0458\n",
      "\t mass velocity is : lb/(hr)*(ft**2) \t722707.423581\n",
      "\t reynolds number is : \t31455.9705947\n",
      "\t hi is : Btu/(hr)*(ft**2)*(F) \t101.239669421\n",
      "\t Correct hio to the surface at the OD is : Btu/(hr)*(ft**2)*(F) \t83.8842975207\n",
      "\t tw is : F \t240.107773852\n",
      "\t tf is : F \t185.053886926\n",
      "\t Uc is : Btu/(hr)*(ft**2)*(F) \t53.7985865724\n",
      "\t hd is : \t100.0\n",
      "\t UD is : Btu/(hr)*(ft**2)*(F) \t34.9798966111\n",
      "\t Area is : ft**2 \t1267.80895267\n",
      "\t pipe length : \t58.0\n"
     ]
    }
   ],
   "source": [
    "print\"\\t example 20.3 \\t\"\n",
    "print\"\\t approximate values are mentioned in the book \\t\"\n",
    "T1=675; # inlet hot fluid,F\n",
    "T2=200; # outlet hot fluid,F\n",
    "t1=120; # inlet cold fluid,F\n",
    "t2=140; # outlet cold fluid,F\n",
    "W=33100; # lb/hr\n",
    "w=510000; # lb/hr\n",
    "print\"\\t 1.for heat balance \\t\"\n",
    "print\"\\t for oil \\t\"\n",
    "c=0.64; # Btu/(lb)*(F)\n",
    "Q=((W)*(c)*(T1-T2)); # Btu/hr\n",
    "print\"\\t total heat required for oil is : Btu/hr \\t\",Q\n",
    "print\"\\t for water \\t\"\n",
    "c=1; # Btu/(lb)*(F)\n",
    "Q=((w)*(c)*(t2-t1)); # Btu/hr\n",
    "print\"\\t total heat required for water is : Btu/hr \\t\",Q\n",
    "delt1=T2-t1; #F\n",
    "delt2=T1-t2; # F\n",
    "print\"\\t delt1 is : F \\t\",delt1\n",
    "print\"\\t delt2 is : F \\t\",delt2\n",
    "LMTD=230;\n",
    "print\"\\t LMTD is  F \\t\",LMTD\n",
    "Tc=((T2)+(T1))/(2); # caloric temperature of hot fluid,F\n",
    "print\"\\t caloric temperature of hot fluid is : F \\t\",Tc\n",
    "tc=((t1)+(t2))/(2); # caloric temperature of cold fluid,F\n",
    "print\"\\t caloric temperature of cold fluid is : \\t\",tc\n",
    "print\"\\t hot fluid:inner tube side, oil \\t\"\n",
    "at=0.0458; # flow area, ft**2, table 11\n",
    "print\"\\t flow area is : ft**2 \\t\",at\n",
    "Gt=(W/(at)); # mass velocity,lb/(hr)*(ft**2)\n",
    "print\"\\t mass velocity is : lb/(hr)*(ft**2) \\t\",Gt\n",
    "mu2=5.56; # at 400F,lb/(ft)*(hr)\n",
    "D=0.242; # ft, table 11\n",
    "Ret=((D)*(Gt)/mu2); # reynolds number\n",
    "print\"\\t reynolds number is : \\t\",Ret\n",
    "jH=100; # from fig.24\n",
    "Z=0.245; # Z=(k(c*mu/k)**(1/3)), Btu/(hr)*(ft)*(F/ft), fig 16\n",
    "hi=((jH)*(Z/D)); #Hi=(hi/phyp),using eq.6.15,Btu/(hr)*(ft**2)*(F)\n",
    "print\"\\t hi is : Btu/(hr)*(ft**2)*(F) \\t\",hi\n",
    "ID=2.9; # ft\n",
    "OD=3.5; # ft\n",
    "hio=((hi)*(ID/OD)); # using eq.6.5\n",
    "print\"\\t Correct hio to the surface at the OD is : Btu/(hr)*(ft**2)*(F) \\t\",hio\n",
    "ho=150; # Btu/(hr)*(ft**2)\n",
    "tw=(tc)+(((hio)/(hio+ho))*(Tc-tc)); # from eq.5.31\n",
    "print\"\\t tw is : F \\t\",tw\n",
    "tf=(tw+tc)/2;\n",
    "print\"\\t tf is : F \\t\",tf\n",
    "delt=110; # F\n",
    "d0=3.5; # in, fig 10.4\n",
    "Uc=((ho*hio)/(ho+hio)); # from eq 6.38\n",
    "print\"\\t Uc is : Btu/(hr)*(ft**2)*(F) \\t\",Uc\n",
    "Rd=0.01;\n",
    "hd=(1/Rd);\n",
    "print\"\\t hd is : \\t\",hd\n",
    "UD=((Uc*hd)/(Uc+hd));\n",
    "print\"\\t UD is : Btu/(hr)*(ft**2)*(F) \\t\",UD\n",
    "A=(Q/(UD*(LMTD)));\n",
    "print\"\\t Area is : ft**2 \\t\",A\n",
    "a=0.917; # ft**2/ft, table 11\n",
    "L=(A/(a*24));\n",
    "print\"\\t pipe length : \\t\",round(L)\n",
    "# end\n"
   ]
  },
  {
   "cell_type": "markdown",
   "metadata": {},
   "source": [
    "## Example 20.4 pgno:729"
   ]
  },
  {
   "cell_type": "code",
   "execution_count": 22,
   "metadata": {
    "collapsed": false
   },
   "outputs": [
    {
     "name": "stdout",
     "output_type": "stream",
     "text": [
      "\t example 20.4 \t\n",
      "\t approximate values are mentioned in the book \t\n",
      "\t 1.for heat balance \t\n",
      "\t for SO2 \t\n",
      "\t total heat required for SO2 is :  Btu/hr \t166320.0\n",
      "\t for water \t\n",
      "\t total heat required for water is :  Btu/hr \t166500.0\n",
      "\t delt1 is :  F \t65.0\n",
      "\t delt2 is :  F \t350.0\n",
      "\t LMTD is : F \t169.475824421\n",
      "\t delt is :  F \t166.086307932\n",
      "\t caloric temperature of hot fluid is :  F \t300.0\n",
      "\t caloric temperature of cold fluid is :  \t92.5\n",
      "\t hot fluid:inner tube side, SO2 \t\n",
      "\t flow area is :  ft**2 \t0.0512\n",
      "\t mass velocity is :  lb/(hr)*(ft**2) \t65625.0\n",
      "\t reynolds number is :  \t409756.097561\n",
      "\t hi is :  Btu/(hr)*(ft**2)*(F) \t21.0800390625\n",
      "\t Correct hio to the surface at the OD is :  Btu/(hr)*(ft**2)*(F) \t18.4781599554\n",
      "\t cold fluid water \t\n",
      "\t G :  lb/(hr)*(ft) \t693\n",
      "\t Re is : \t1428.86597938\n",
      "\t ho is :  Btu/(hr)*(ft**2)*(F) \t65.0\n",
      "\t Uc is :  Btu/(hr)*(ft**2)*(F) \t14.3879596501\n",
      "\t hd is :  \t100.0\n",
      "\t UD is :  Btu/(hr)*(ft**2)*(F) \t12.5782116353\n",
      "\t Area is :  ft**2 \t78.10657332\n",
      "\t pipe length :  \t8.75\n"
     ]
    }
   ],
   "source": [
    "print\"\\t example 20.4 \\t\"\n",
    "print\"\\t approximate values are mentioned in the book \\t\"\n",
    "T1=450.; # inlet hot fluid,F\n",
    "T2=150.; # outlet hot fluid,F\n",
    "t1=85.; # inlet cold fluid,F\n",
    "t2=100.; # outlet cold fluid,F\n",
    "W=3360; # lb/hr\n",
    "w=11100; # lb/hr\n",
    "from math import log10\n",
    "print\"\\t 1.for heat balance \\t\"\n",
    "print\"\\t for SO2 \\t\"\n",
    "c=0.165; # Btu/(lb)*(F)\n",
    "Q=((W)*(c)*(T1-T2)); # Btu/hr\n",
    "print\"\\t total heat required for SO2 is :  Btu/hr \\t\",Q\n",
    "print\"\\t for water \\t\"\n",
    "c=1; # Btu/(lb)*(F)\n",
    "Q=((w)*(c)*(t2-t1)); # Btu/hr\n",
    "print\"\\t total heat required for water is :  Btu/hr \\t\",Q\n",
    "delt1=T2-t1; #F\n",
    "delt2=T1-t2; # F\n",
    "print\"\\t delt1 is :  F \\t\",delt1\n",
    "print\"\\t delt2 is :  F \\t\",delt2\n",
    "LMTD=((delt2-delt1)/((2.3)*(log10(delt2/delt1))));\n",
    "print\"\\t LMTD is : F \\t\",LMTD\n",
    "R=20;\n",
    "S=0.0412;\n",
    "FT=0.98; # fig 18\n",
    "delt=(FT*LMTD);\n",
    "print\"\\t delt is :  F \\t\",delt\n",
    "Tc=((T2)+(T1))/(2); # caloric temperature of hot fluid,F\n",
    "print\"\\t caloric temperature of hot fluid is :  F \\t\",Tc\n",
    "tc=((t1)+(t2))/(2); # caloric temperature of cold fluid,F\n",
    "print\"\\t caloric temperature of cold fluid is :  \\t\",tc\n",
    "print\"\\t hot fluid:inner tube side, SO2 \\t\"\n",
    "at=0.0512; # flow area, ft**2, table 11\n",
    "print\"\\t flow area is :  ft**2 \\t\",at\n",
    "Gt=(W/(at)); # mass velocity,lb/(hr)*(ft**2)\n",
    "print\"\\t mass velocity is :  lb/(hr)*(ft**2) \\t\",Gt\n",
    "mu2=0.041; # at 300F,lb/(ft)*(hr), fig 15\n",
    "D=0.256; # ft, table 11\n",
    "Ret=((D)*(Gt)/mu2); # reynolds number\n",
    "print\"\\t reynolds number is :  \\t\",Ret\n",
    "jH=790; # from fig.24\n",
    "Z=0.006831; # Z=(k(c*mu/k)**(1/3)), Btu/(hr)*(ft)*(F/ft)\n",
    "hi=((jH)*(Z/D)); #Hi=(hi/phyp),using eq.6.15,Btu/(hr)*(ft**2)*(F)\n",
    "print\"\\t hi is :  Btu/(hr)*(ft**2)*(F) \\t\",hi\n",
    "ID=3.068; # ft\n",
    "OD=3.5; # ft\n",
    "hio=((hi)*(ID/OD)); # using eq.6.5\n",
    "print\"\\t Correct hio to the surface at the OD is :  Btu/(hr)*(ft**2)*(F) \\t\",hio\n",
    "print\"\\t cold fluid water \\t\"\n",
    "L=8; # ft\n",
    "G=(w/(2*L));\n",
    "print\"\\t G :  lb/(hr)*(ft) \\t\",G\n",
    "mu1=1.94; # at 92.5F, lb/(ft)*(hr)\n",
    "Re=(4*G/mu1);\n",
    "print\"\\t Re is : \\t\",Re\n",
    "Do=0.292; # ft\n",
    "ho=(65*(G/Do)**(1/3));\n",
    "print\"\\t ho is :  Btu/(hr)*(ft**2)*(F) \\t\",ho\n",
    "Uc=((ho*hio)/(ho+hio)); # from eq 6.38\n",
    "print\"\\t Uc is :  Btu/(hr)*(ft**2)*(F) \\t\",Uc\n",
    "Rd=0.01;\n",
    "hd=(1/Rd);\n",
    "print\"\\t hd is :  \\t\",hd\n",
    "UD=((Uc*hd)/(Uc+hd));\n",
    "print\"\\t UD is :  Btu/(hr)*(ft**2)*(F) \\t\",UD\n",
    "A=(Q/(UD*(LMTD)));\n",
    "print\"\\t Area is :  ft**2 \\t\",A # calculation mistake in book\n",
    "a=0.917; # ft**2/ft, table 11\n",
    "l=(A/(a*8))-1.9;\n",
    "print\"\\t pipe length :  \\t\",round(l,2)\n",
    "# end\n"
   ]
  },
  {
   "cell_type": "markdown",
   "metadata": {},
   "source": [
    "# Example 20.5 pgno:736"
   ]
  },
  {
   "cell_type": "code",
   "execution_count": 23,
   "metadata": {
    "collapsed": false
   },
   "outputs": [
    {
     "name": "stdout",
     "output_type": "stream",
     "text": [
      "\t example 20.5 \t\n",
      "\t approximate values are mentioned in the book \t\n",
      "\t evaporation percentage is :  \t0.121913091814\n",
      "\t heat load is :  Btu/hr \t1917500\n",
      "\t sensible heat is :  Btu/hr \t1687400.0\n",
      "\t final spray temperature is :  F \t110.088095238\n",
      "\t total spray :  lb/hr \t84000.0\n",
      "\t m is :  lb/(hr)*(ft**2) \t875.0\n",
      "\t Z is :  \t1.12568513365\n",
      "\t ho is :  Btu/(hr)*(ft**2)*(F) \t316.940192565\n",
      "\t tube side coefficient \t\n",
      "\t assuming even number of passes and tube side velocity about 8fps \t\n",
      "\t mass velocity is :  lb/(hr)*(ft**2) \t1903225.80645\n",
      "\t velocity is :  fps \t8.45878136201\n",
      "\t Correct hio to the surface at the OD is :  Btu/(hr)*(ft**2)*(F) \t1861.8\n",
      "\t Uc is :  Btu/(hr)*(ft**2)*(F) \t270.83506906\n",
      "\t total surface is :  ft**2 \t471.24\n",
      "\t delt1 is :  F \t40.0\n",
      "\t delt2 is :  F \t33.0\n",
      "\t LMTD is : F \t36.4287504681\n",
      "\t delt is :  F \t35.3358879541\n",
      "\t UD is :  Btu/(hr)*(ft**2)*(F) \t115.153519517\n",
      "\t actual Rd is :  (hr)*(ft**2)*(F)/Btu \t0.005\n",
      "\t The assumption of three horizontal rows is satisfactory, since a dirt factor of 0.004 was required \t\n"
     ]
    }
   ],
   "source": [
    "print\"\\t example 20.5 \\t\"\n",
    "print\"\\t approximate values are mentioned in the book \\t\"\n",
    "Nt=25.; # number of tubes\n",
    "A=50.; # total projected area\n",
    "Tav=100.; # F\n",
    "s=28.; # assumption spray, lb/(min)*(ft**2)\n",
    "Do=0.0833; # ft\n",
    "PH=0.1562;\n",
    "Y=0.874;\n",
    "Z=0.466;\n",
    "E=(0.171*(Do*Y*Z)**0.1); # (E/(Do*Y*Z)**0.1)=0.171, from fig 20.10\n",
    "from math import log10\n",
    "print\"\\t evaporation percentage is :  \\t\",E\n",
    "Q=(295*500*(143-130));\n",
    "print\"\\t heat load is :  Btu/hr \\t\",Q\n",
    "Q1=(Q*(1-0.12));\n",
    "print\"\\t sensible heat is :  Btu/hr \\t\",Q1\n",
    "t2=(90)+(Q1/(28*60*50));\n",
    "print\"\\t final spray temperature is :  F \\t\",t2\n",
    "w=(s*60*50);\n",
    "print\"\\t total spray :  lb/hr \\t\",w\n",
    "m=(w/(2*4*12));\n",
    "print\"\\t m is :  lb/(hr)*(ft**2) \\t\",m\n",
    "mu=1.84; # lb/(ft)*(hr)\n",
    "Z=((m**0.3)*Do*Y*Z/(mu*0.125));\n",
    "print\"\\t Z is :  \\t\",Z\n",
    "N=3; # assume 3 horizontal rows\n",
    "ho=300*(N**0.05); # (ho/(N**0.05))=300, from fig 20.11\n",
    "print\"\\t ho is :  Btu/(hr)*(ft**2)*(F) \\t\",ho\n",
    "print\"\\t tube side coefficient \\t\"\n",
    "print\"\\t assuming even number of passes and tube side velocity about 8fps \\t\"\n",
    "at=0.0775; # ft**2\n",
    "Gt=(295*500/(at)); # mass velocity,lb/(hr)*(ft**2)\n",
    "print\"\\t mass velocity is :  lb/(hr)*(ft**2) \\t\",Gt\n",
    "V=(Gt/(3600*62.5));\n",
    "print\"\\t velocity is :  fps \\t\",V\n",
    "hi=2140; # Btu/(hr)*(ft**2)*(F), fig 25\n",
    "ID=0.87; # ft\n",
    "OD=1; # ft\n",
    "hio=((hi)*(ID/OD)); # using eq.6.5\n",
    "print\"\\t Correct hio to the surface at the OD is :  Btu/(hr)*(ft**2)*(F) \\t\",hio\n",
    "Uc=((ho*hio)/(ho+hio)); # from eq 6.38\n",
    "print\"\\t Uc is :  Btu/(hr)*(ft**2)*(F) \\t\",Uc\n",
    "a=0.2618; # ft**2, table 11\n",
    "A1=(2*3*25*12*a);\n",
    "print\"\\t total surface is :  ft**2 \\t\",A1\n",
    "T1=143; # inlet hot fluid,F\n",
    "T2=130; # outlet hot fluid,F\n",
    "t1=90; # inlet cold fluid,F\n",
    "t2=110; # outlet cold fluid,F\n",
    "delt1=T2-t1; #F\n",
    "delt2=T1-t2; # F\n",
    "delt1=40.;\n",
    "delt2=33.;\n",
    "print\"\\t delt1 is :  F \\t\",delt1\n",
    "print\"\\t delt2 is :  F \\t\",delt2\n",
    "LMTD=((delt2-delt1)/((2.3)*(log10(delt2/delt1))));\n",
    "print\"\\t LMTD is : F \\t\",LMTD # calculation mistake in book\n",
    "R=0.65;\n",
    "S=0.377;\n",
    "FT=0.97; # fig 18\n",
    "delt=(FT*LMTD);\n",
    "print\"\\t delt is :  F \\t\",delt\n",
    "UD=(Q/(A1*(delt)));\n",
    "print\"\\t UD is :  Btu/(hr)*(ft**2)*(F) \\t\",UD\n",
    "Rd=((Uc-UD)/((UD)*(Uc))); # (hr)*(ft**2)*(F)/Btu\n",
    "print\"\\t actual Rd is :  (hr)*(ft**2)*(F)/Btu \\t\",round(Rd,4)\n",
    "print\"\\t The assumption of three horizontal rows is satisfactory, since a dirt factor of 0.004 was required \\t\"\n",
    "# end\n"
   ]
  },
  {
   "cell_type": "markdown",
   "metadata": {},
   "source": [
    "## Example 20.6 pgno:745"
   ]
  },
  {
   "cell_type": "code",
   "execution_count": 24,
   "metadata": {
    "collapsed": false
   },
   "outputs": [
    {
     "name": "stdout",
     "output_type": "stream",
     "text": [
      "\t example 20.6 \t\n",
      "\t approximate values are mentioned in the book \t\n",
      "\t R is :  \t2.0\n",
      "\t V is :  \t1.5\n",
      "\t F is :  \t1\n",
      "\t Z is :  \t0.733333333333\n",
      "\t deltD is :  \t1.1745\n",
      "\t delt is :  \t58.725\n",
      "\t delt1 is :  F \t50.0\n",
      "\t delt2 is :  F \t100.0\n",
      "\t LMTD is : F \t72.0\n"
     ]
    }
   ],
   "source": [
    "print\"\\t example 20.6 \\t\"\n",
    "print\"\\t approximate values are mentioned in the book \\t\"\n",
    "T1=200.; # inlet hot fluid,F\n",
    "T2=100.; # outlet hot fluid,F\n",
    "t1=50.; # inlet cold fluid,F\n",
    "t2=100.; # outlet cold fluid,F\n",
    "from math import log10\n",
    "R=((T1-T2)/(t2-t1));\n",
    "print\"\\t R is :  \\t\",R\n",
    "V=((T1+T2-t1-t2)/(t2-t1))/(2);\n",
    "print\"\\t V is :  \\t\",V\n",
    "u=120;\n",
    "U=60;\n",
    "F=((u*1)/(U*2));\n",
    "print\"\\t F is :  \\t\",F\n",
    "E=1.1; # In Fig.20.18b for R = 2.0and F = l.O,the abscissa and ordinate intersect at E =1.10.\n",
    "Z=(E/V);\n",
    "print\"\\t Z is :  \\t\",Z\n",
    "deltD=0.783*V; # deltD/V=0.783, from fig 20.17\n",
    "print\"\\t deltD is :  \\t\",deltD\n",
    "delt=(deltD*(t2-t1));\n",
    "print\"\\t delt is :  \\t\",delt\n",
    "delt1=T2-t1; #F\n",
    "delt2=T1-t2; # F\n",
    "print\"\\t delt1 is :  F \\t\",delt1\n",
    "print\"\\t delt2 is :  F \\t\",delt2\n",
    "LMTD=((delt2-delt1)/((2.3)*(log10(delt2/delt1))));\n",
    "print\"\\t LMTD is : F \\t\",round(LMTD)\n",
    "# end\n"
   ]
  },
  {
   "cell_type": "markdown",
   "metadata": {},
   "source": [
    "## Example 20.7 pgno:752"
   ]
  },
  {
   "cell_type": "code",
   "execution_count": 25,
   "metadata": {
    "collapsed": false
   },
   "outputs": [
    {
     "name": "stdout",
     "output_type": "stream",
     "text": [
      "\t example 20.7 \t\n",
      "\t approximate values are mentioned in the book \t\n",
      "\t beta is : \t0.0036\n",
      "\t for sand \t\n",
      "\t total heat required for sand is : Btu/hr \t36000.0\n",
      "\t w is : lb/hr \t2000.0\n",
      "\t R is : \t0.1\n",
      "\t S is : \t0.909090909091\n",
      "\t rate per tube is : lb/hr \t62.475\n",
      "\t number of tubes : \t16.006402561\n",
      "\t for air assume hoi=9 and Beta=0.2 \t\n",
      "\t w1 is : lb/hr \t8000.0\n",
      "\t rate per tube is : lb/hr \t39.0\n",
      "\t number of tubes : \t25.0\n"
     ]
    }
   ],
   "source": [
    "print\"\\t example 20.7 \\t\"\n",
    "print\"\\t approximate values are mentioned in the book \\t\"\n",
    "T1=284.; # inlet hot fluid,F\n",
    "T2=104.; # outlet hot fluid,F\n",
    "t1=86.; # inlet cold fluid,F\n",
    "t2=104.; # outlet cold fluid,F\n",
    "W=1000; # lb/hr\n",
    "k=0.15; # thermal conductivity\n",
    "L=10;\n",
    "Beta=((2*k)/(500*(2./12.))); # hoi=500Btu/(hr)*(ft^2)*(F) for water\n",
    "print\"\\t beta is : \\t\",Beta\n",
    "print\"\\t for sand \\t\"\n",
    "C=0.2; # Btu/(lb)*(F)\n",
    "Q=((W)*(C)*(T1-T2)); # Btu/hr\n",
    "print\"\\t total heat required for sand is : Btu/hr \\t\",Q\n",
    "c=1;\n",
    "w=(Q/(t2-t1));\n",
    "print\"\\t w is : lb/hr \\t\",w\n",
    "R=((W*C)/(w*c));\n",
    "print\"\\t R is : \\t\",R\n",
    "S=((T2-T1)/(t1-T1));\n",
    "print\"\\t S is : \\t\",S\n",
    "W1=(8.33*(k*L)/C); # ((W1*C)/(k*L))=8.33 from fig 20.20b for Beta=0\n",
    "print\"\\t rate per tube is : lb/hr \\t\",W1\n",
    "N1=(W/W1);\n",
    "print\"\\t number of tubes : \\t\",N1\n",
    "print\"\\t for air assume hoi=9 and Beta=0.2 \\t\"\n",
    "c1=0.25;\n",
    "w1=(Q/(c1*(t2-t1)));\n",
    "print\"\\t w1 is : lb/hr \\t\",w1\n",
    "W2=(5.23*(k*L)/C); # ((W1*C)/(k*L))=5.23 from fig 20.20b for Beta=0.2\n",
    "print\"\\t rate per tube is : lb/hr \\t\",round(W2)\n",
    "N2=(W/W2);\n",
    "print\"\\t number of tubes : \\t\",round(N2)\n",
    "# end\n"
   ]
  },
  {
   "cell_type": "markdown",
   "metadata": {},
   "source": [
    "## Example 20.8a pgno758"
   ]
  },
  {
   "cell_type": "code",
   "execution_count": 26,
   "metadata": {
    "collapsed": false
   },
   "outputs": [
    {
     "name": "stdout",
     "output_type": "stream",
     "text": [
      "\t example 20.8a \t\n",
      "\t approximate values are mentioned in the book \t\n",
      "\t unsteady state \t\n",
      "\t Lb of water is :  lb \t375.0\n",
      "\t heat to be supplied :  kwhr \t5.49531066823\n",
      "\t losses \t\n",
      "\t from surface of water :  kwhr \t1\n",
      "\t from sides of vessel :  kwhr \t0.11\n",
      "\t losses from bottom are negigible \t\n",
      "\t total requirement :  kwhr \t6.60531066823\n",
      "\t steady state \t\n",
      "\t heat to be supplied :  kwhr \t1.9531066823\n",
      "\t total requirement :  kwhr \t3.06\n"
     ]
    }
   ],
   "source": [
    "print\"\\t example 20.8a \\t\"\n",
    "print\"\\t approximate values are mentioned in the book \\t\"\n",
    "L=3; # ft\n",
    "B=2; # ft\n",
    "h=18/12; # ft , height of water present in tank\n",
    "print\"\\t unsteady state \\t\"\n",
    "m=(L*B*h*62.5);\n",
    "print\"\\t Lb of water is :  lb \\t\",m\n",
    "t1=50;\n",
    "t2=150;\n",
    "c=1;\n",
    "Q=(m*c*(t2-t1))/(2*3412); # kwhr\n",
    "print\"\\t heat to be supplied :  kwhr \\t\",Q\n",
    "print\"\\t losses \\t\"\n",
    "Q1=(L*B*260)/(1000); # from fig 20.25c\n",
    "print\"\\t from surface of water :  kwhr \\t\",Q1\n",
    "Q2=(5.5*((2*B*2)+(2*L*B))/(1000)); # from fig 20.25c\n",
    "print\"\\t from sides of vessel :  kwhr \\t\",Q2\n",
    "print\"\\t losses from bottom are negigible \\t\"\n",
    "Qt=(Q+Q1+Q2);\n",
    "print\"\\t total requirement :  kwhr \\t\",Qt\n",
    "print\"\\t steady state \\t\"\n",
    "m1=8; # gal/hr\n",
    "Qs=(m1*8.33*c*(t2-t1))/(3412); # kwhr\n",
    "print\"\\t heat to be supplied :  kwhr \\t\",Qs\n",
    "Qts=(Qs+Q1+Q2);\n",
    "print\"\\t total requirement :  kwhr \\t\",round(Qts,2)\n",
    "# end\n",
    "\n"
   ]
  },
  {
   "cell_type": "markdown",
   "metadata": {},
   "source": [
    "## Example 20.8b pgno:760"
   ]
  },
  {
   "cell_type": "code",
   "execution_count": 27,
   "metadata": {
    "collapsed": false
   },
   "outputs": [
    {
     "name": "stdout",
     "output_type": "stream",
     "text": [
      "\t example 20.8b \t\n",
      "\t approximate values are mentioned in the book \t\n",
      "\t heat to steel charge :  Btu \t3600.0\n",
      "\t heat to air :  Btu \t540.0\n",
      "\t From Fig. 20.25a for 52ft^2 of oven outside surface and a temperature rise of 300F the loss is 5kw for 1 in.thick insulations.For 2 in.thick insulation the loss is 2.5kw \t\n",
      "\t total requirement :  kw \t3.71\n"
     ]
    }
   ],
   "source": [
    "print\"\\t example 20.8b \\t\"\n",
    "print\"\\t approximate values are mentioned in the book \\t\"\n",
    "m=100; # lb\n",
    "t1=70;\n",
    "t2=370; \n",
    "L=4;\n",
    "B=3;\n",
    "n=4; # number of air changers\n",
    "c1=0.12\n",
    "Q1=(m*c1*(t2-t1));\n",
    "print\"\\t heat to steel charge :  Btu \\t\",Q1\n",
    "c2=0.25\n",
    "Q2=(n*L*B*2*0.075*c2*(t2-t1));\n",
    "print\"\\t heat to air :  Btu \\t\",Q2\n",
    "print\"\\t From Fig. 20.25a for 52ft^2 of oven outside surface and a temperature rise of 300F the loss is 5kw for 1 in.thick insulations.For 2 in.thick insulation the loss is 2.5kw \\t\"\n",
    "Qt=((Q1+Q2)/(3412))+(2.5)\n",
    "print\"\\t total requirement :  kw \\t\",round(Qt,2)\n",
    "# end\n"
   ]
  },
  {
   "cell_type": "markdown",
   "metadata": {},
   "source": [
    "## Example 20.8c pgno:762"
   ]
  },
  {
   "cell_type": "code",
   "execution_count": 28,
   "metadata": {
    "collapsed": false
   },
   "outputs": [
    {
     "name": "stdout",
     "output_type": "stream",
     "text": [
      "\t example 20.8c \t\n",
      "\t approximate values are mentioned in the book \t\n",
      "\t heat :  Btu \t15187.5\n",
      "\t velocity is :  fps \t2.0\n",
      "\t Refer to Fig.20.22a.The air is capable of removing 33watts/in which is the maximum dissipation which may be expected. Any group of heaters providing 5 kw which do not require a dissipation of more than 33 w/in. and which will fit into the duct will be satisfactory \t\n",
      "\t Thus in Table 20.3 elements of 350 watts with a total length each of 18 in. each are satisfactory \t\n"
     ]
    }
   ],
   "source": [
    "print\"\\t example 20.8c \\t\"\n",
    "print\"\\t approximate values are mentioned in the book \\t\"\n",
    "m=270; # cfm\n",
    "t1=70;\n",
    "t2=120; \n",
    "L=1.5; # ft\n",
    "B=1.5; # ft\n",
    "c=0.25\n",
    "row=0.075; # lb/ft^3\n",
    "Q=(m*row*60*c*(t2-t1));\n",
    "print\"\\t heat :  Btu \\t\",Q\n",
    "V=(m/(L*B*60)); # fps\n",
    "print\"\\t velocity is :  fps \\t\",V\n",
    "print\"\\t Refer to Fig.20.22a.The air is capable of removing 33watts/in which is the maximum dissipation which may be expected. Any group of heaters providing 5 kw which do not require a dissipation of more than 33 w/in. and which will fit into the duct will be satisfactory \\t\"\n",
    "print\"\\t Thus in Table 20.3 elements of 350 watts with a total length each of 18 in. each are satisfactory \\t\"\n",
    "# end\n"
   ]
  },
  {
   "cell_type": "markdown",
   "metadata": {},
   "source": [
    "## Example 20.8d pgno:762"
   ]
  },
  {
   "cell_type": "code",
   "execution_count": 29,
   "metadata": {
    "collapsed": false
   },
   "outputs": [
    {
     "name": "stdout",
     "output_type": "stream",
     "text": [
      "\t example 20.8d \t\n",
      "\t approximate values are mentioned in the book \t\n",
      "\t unsteady state \t\n",
      "\t weight of plate :  lb \t81.25\n",
      "\t heat :  Btu \t2429.375\n",
      "\t From Figure 20.25b for a black body the radiation is 1.5w/in^2.The radiation from the top is actually 110 per cent of this value, and from the bottom of the plate it is 55 per cent for an average of 82.5 per cent is taken \t\n",
      "\t radiation loss :  kw \t0.7722\n",
      "\t total requirement :  kw \t1.48420908558\n",
      "\t staedy state \t\n",
      "\t heat :  Btu \t3542.0\n",
      "\t total requirement :  kw \t1.83810082063\n",
      "\t The steady state is controlling.The requirements are satisfied, by four 24-in. strip heaters, but the sheath temperature must now be checked. Since the temperature drop per unit flux density is 14 to 19F, assume an average of 16.5DegF. For clamp-on strips 24 in. long the watts per square inch deliverable are 16 \t\n",
      "\t delt is :  F \t264.0\n",
      "\t The sheath temperature is then 300 + 264 = 564DegF, which is satisfactory for steel sheathed elements with a 750F maximum. \t\n"
     ]
    }
   ],
   "source": [
    "print\"\\t example 20.8d \\t\"\n",
    "print\"\\t approximate values are mentioned in the book \\t\"\n",
    "t1=70;\n",
    "t2=300; \n",
    "L=26; # in\n",
    "B=12; # in\n",
    "H=1; # in\n",
    "c1=0.13\n",
    "# specific gravity of cast iron is 7.2\n",
    "print\"\\t unsteady state \\t\"\n",
    "m=(L*B*H*62.5*7.2/1728); # lb\n",
    "print\"\\t weight of plate :  lb \\t\",m\n",
    "Q1=(m*c1*(t2-t1));\n",
    "print\"\\t heat :  Btu \\t\",Q1\n",
    "print\"\\t From Figure 20.25b for a black body the radiation is 1.5w/in^2.The radiation from the top is actually 110 per cent of this value, and from the bottom of the plate it is 55 per cent for an average of 82.5 per cent is taken \\t\"\n",
    "Q2=(2*26*12*1.5*0.825/1000); # ke\n",
    "print\"\\t radiation loss :  kw \\t\",Q2\n",
    "Qt=((Q1)/(3412))+(Q2);\n",
    "print\"\\t total requirement :  kw \\t\",Qt\n",
    "print\"\\t staedy state \\t\"\n",
    "m2=70;\n",
    "c2=0.22;\n",
    "Qs=(m2*c2*(t2-t1));\n",
    "print\"\\t heat :  Btu \\t\",Qs\n",
    "Ql=0.8; # kw\n",
    "Qts=((Qs)/(3412))+(Ql);\n",
    "print\"\\t total requirement :  kw \\t\",Qts\n",
    "print\"\\t The steady state is controlling.The requirements are satisfied, by four 24-in. strip heaters, but the sheath temperature must now be checked. Since the temperature drop per unit flux density is 14 to 19F, assume an average of 16.5DegF. For clamp-on strips 24 in. long the watts per square inch deliverable are 16 \\t\"\n",
    "delt=(16*16.5);\n",
    "print\"\\t delt is :  F \\t\",delt\n",
    "print\"\\t The sheath temperature is then 300 + 264 = 564DegF, which is satisfactory for steel sheathed elements with a 750F maximum. \\t\"\n",
    "# end\n"
   ]
  }
 ],
 "metadata": {
  "kernelspec": {
   "display_name": "Python 2",
   "language": "python",
   "name": "python2"
  },
  "language_info": {
   "codemirror_mode": {
    "name": "ipython",
    "version": 2
   },
   "file_extension": ".py",
   "mimetype": "text/x-python",
   "name": "python",
   "nbconvert_exporter": "python",
   "pygments_lexer": "ipython2",
   "version": "2.7.9"
  }
 },
 "nbformat": 4,
 "nbformat_minor": 0
}
