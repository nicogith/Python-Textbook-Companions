{
 "cells": [
  {
   "cell_type": "markdown",
   "metadata": {},
   "source": [
    "# Chapter 18 Batch and Unsteady State Processes"
   ]
  },
  {
   "cell_type": "markdown",
   "metadata": {},
   "source": [
    "## Example 18.1 pgno:635"
   ]
  },
  {
   "cell_type": "code",
   "execution_count": 26,
   "metadata": {
    "collapsed": false
   },
   "outputs": [
    {
     "name": "stdout",
     "output_type": "stream",
     "text": [
      "\t example 18.1 \t\n",
      "\t values are approximately mentioned in the book \t\n",
      "\t for a \t\n",
      "\t weight of benzene is : lb \t54978.0\n",
      "\t Q1 is : Btu/(hr)*(F) \t19200.0\n",
      "\t Q2 is : Btu/(hr)*(F) \t6000.0\n",
      "\t Ks is : \t0.101097824987\n",
      "\t Z is : \t1.09861228867\n",
      "\t theta is : hr \t5.20557650697\n",
      "\t for b \t\n",
      "\t R is : \t3.2\n",
      "\t KT is : \t2.83393630769\n",
      "\t S is : \t0.31793720236\n",
      "\t theta1 is : hr \t5.67664533895\n",
      "\t for c \t\n",
      "\t K8 is : \t1.68342992361\n",
      "\t S1 is : \t0.492221932725\n",
      "\t theta2 is : hr \t5.35456617078\n",
      "\t for d \t\n",
      "\t K9 is : \t9.89140963346\n",
      "\t S2 is : \t0.290071168513\n",
      "\t t1 is : F \t187.021350554\n",
      "\t t2 is : F \t248.800316267\n",
      "\t t3 is : F \t292.658985206\n",
      "\t t4 is : F \t323.795518797\n",
      "\t fractional circulation is : \t0.23\n",
      "\t total fractional circulation : \t3.23\n",
      "\t theta3 is : \t4.44\n"
     ]
    }
   ],
   "source": [
    "print\"\\t example 18.1 \\t\"\n",
    "# specific gravity of benzene is 0.88\n",
    "# specific heat of benzene is 0.48 Btu/(lb)*(F)\n",
    "U=50;\n",
    "A=400;\n",
    "T1=400;\n",
    "t1=100;\n",
    "t2=300;\n",
    "c=0.48;\n",
    "w=40000;\n",
    "C=0.60;\n",
    "W=10000;\n",
    "from math import e\n",
    "from math import log\n",
    "print\"\\t values are approximately mentioned in the book \\t\"\n",
    "print\"\\t for a \\t\"\n",
    "M=(7500*8.33*0.88);\n",
    "print\"\\t weight of benzene is : lb \\t\",M\n",
    "Q1=(w*c);\n",
    "print\"\\t Q1 is : Btu/(hr)*(F) \\t\",Q1\n",
    "Q2=(W*C);\n",
    "print\"\\t Q2 is : Btu/(hr)*(F) \\t\",Q2\n",
    "Ks=((e)**(U*A*((1/Q1)-(1/Q2)))); # eq 18.16\n",
    "print\"\\t Ks is : \\t\",Ks\n",
    "Z=log((T1-t1)/(T1-t2));\n",
    "print\"\\t Z is : \\t\",Z\n",
    "theta=((M*(Z)*(Ks*6000-(19200)))/((Ks-1)*40000*6000));\n",
    "print\"\\t theta is : hr \\t\",theta\n",
    "print\"\\t for b \\t\"\n",
    "R=(Q1/Q2);\n",
    "print\"\\t R is : \\t\",R\n",
    "KT=((e)**(U*(A/Q1)*(1+R**2)**(1/2)));\n",
    "print\"\\t KT is : \\t\",KT\n",
    "S=((2*(KT-1))/((KT*(R+1+(1+R**2)**(1/2)))-(R+1-(1+R**2)**(1/2)))); # eq 18.24\n",
    "print\"\\t S is : \\t\",S\n",
    "theta1=((M*Z)/(0.266*40000)); # eq 18.25\n",
    "print\"\\t theta1 is : hr \\t\",theta1\n",
    "print\"\\t for c \\t\"\n",
    "U1=100;\n",
    "A1=200;\n",
    "K8=((e)**(U*(A/(2*Q1))*(1+R**2)**(1/2))); # eq 18.32\n",
    "S1=((2*(K8-1)*(1+((1-0.266)*(1-(3.2*0.266)))**(1/2)))/(((K8-1)*(3.2+1))+((K8+1)*(1+3.2**2)**(1/2)))); # eq 18.31\n",
    "print\"\\t K8 is : \\t\",K8\n",
    "print\"\\t S1 is : \\t\",S1\n",
    "theta2=((M*Z)/(0.282*40000)); # eq 18.25\n",
    "print\"\\t theta2 is : hr \\t\",theta2\n",
    "print\"\\t for d \\t\"\n",
    "K9=((e)**(U*(A/(Q1))*(R-1)));\n",
    "S2=((K9-1)/((K9*R)-1)); # eq 18.36\n",
    "print\"\\t K9 is : \\t\",K9\n",
    "print\"\\t S2 is : \\t\",S2\n",
    "t=100;\n",
    "t1=t+(S2*(T1-t)); # 18.37\n",
    "print\"\\t t1 is : F \\t\",t1\n",
    "t2=t1+(S2*(T1-t1));\n",
    "print\"\\t t2 is : F \\t\",t2\n",
    "t3=t2+(S2*(T1-t2));\n",
    "print\"\\t t3 is : F \\t\",t3\n",
    "t4=t3+(S2*(T1-t3));\n",
    "print\"\\t t4 is : F \\t\",t4\n",
    "x=0.23;\n",
    "print\"\\t fractional circulation is : \\t\",x\n",
    "N=3+x;\n",
    "print\"\\t total fractional circulation : \\t\",N\n",
    "theta3=(N*(M/w));\n",
    "print\"\\t theta3 is : \\t\",round(theta3,2)\n",
    "# end"
   ]
  },
  {
   "cell_type": "markdown",
   "metadata": {},
   "source": [
    "# Example 18.2 pgno:643"
   ]
  },
  {
   "cell_type": "code",
   "execution_count": 27,
   "metadata": {
    "collapsed": false
   },
   "outputs": [
    {
     "name": "stdout",
     "output_type": "stream",
     "text": [
      "\t example 18.2 \t\n",
      "\t values are approximately mentioned in the book \t\n",
      "\t X is : \t0.1665\n",
      "\t t si : F \t872.2\n",
      "\t q is : Btu/(hr)*(ft**2) \t21600.0\n",
      "\t The total heat which flowed through a square foot of wall in the 4 hr is :  Btu/ft**2 \t75200.0\n"
     ]
    }
   ],
   "source": [
    "print\"\\t example 18.2 \\t\"\n",
    "tav=500.; # F\n",
    "Ts=1000.; \n",
    "t0=100.;\n",
    "c=0.12; # Btu/(lb)*(F)\n",
    "k=24; # Btu/(hr)*(ft**2)*(F/ft)\n",
    "row=488; # lb/ft**3\n",
    "alpha=0.41; # alpha=(k/(c*row)), ft**2/hr\n",
    "x=0.333; # ft\n",
    "theta=4;\n",
    "print\"\\t values are approximately mentioned in the book \\t\"\n",
    "X=(x/(2*(alpha*theta)**(1/2)));\n",
    "print\"\\t X is : \\t\",X\n",
    "Y=0.142; # Y=f1(X) from fig 18.7 \n",
    "t=Ts+(t0-Ts)*(Y); # eq 18.43\n",
    "print\"\\t t si : F \\t\",t\n",
    "q=((k*(Ts-t0))/(3.14*alpha*theta)**(1/2)); # q=(Q/A),from eq 18.47\n",
    "print\"\\t q is : Btu/(hr)*(ft**2) \\t\",q\n",
    "q1=(2*k*(Ts-t0)*(theta/(3.14*alpha))**(1/2))+32000; # q=(Q1/A). eq 18.49\n",
    "print\"\\t The total heat which flowed through a square foot of wall in the 4 hr is :  Btu/ft**2 \\t\",q1\n",
    "# end\n"
   ]
  },
  {
   "cell_type": "markdown",
   "metadata": {},
   "source": [
    "## Example 18.3 pgno:646"
   ]
  },
  {
   "cell_type": "code",
   "execution_count": 28,
   "metadata": {
    "collapsed": false
   },
   "outputs": [
    {
     "name": "stdout",
     "output_type": "stream",
     "text": [
      "\t example 18.3 \n",
      "\n",
      "\t X is :   0.0\n",
      "\t t si :  F 861.0\n"
     ]
    }
   ],
   "source": [
    "print\"\\t example 18.3 \\n\"\n",
    "Ts=1000; \n",
    "t0=100;\n",
    "alpha=0.41; # alpha=(k/(c*row)), ft**2/hr\n",
    "theta=15/60;\n",
    "l=1; # ft\n",
    "X=(4*alpha*theta)/(l**2);\n",
    "print\"\\t X is :  \",X\n",
    "Y=0.155; # Y=f3*(X)from fig 18.9 when L=infinity\n",
    "t=Ts+(t0-Ts)*(Y); # eq 18.52\n",
    "print\"\\t t si :  F\",round(t)\n",
    "# end\n"
   ]
  },
  {
   "cell_type": "markdown",
   "metadata": {},
   "source": [
    "## Example 18.4 pgno:648"
   ]
  },
  {
   "cell_type": "code",
   "execution_count": 29,
   "metadata": {
    "collapsed": false
   },
   "outputs": [
    {
     "name": "stdout",
     "output_type": "stream",
     "text": [
      "\t example 18.4 \t\n",
      "\t values are approximately mentioned in the book \t\n",
      "\t for a \t\n",
      "\t radiation coefficient is :  Btu/(hr)*(ft**2)*(F) \t6.870372355\n",
      "\t convection coefficient is :  Btu/(hr)*(ft**2)*(F) \t0.3\n",
      "\t total intial coefficient is :  Btu/(hr)*(ft**2)*(F) \t7.170372355\n",
      "\t total intial coefficient is :  Btu/(hr)*(ft**2)*(F) \t3.55\n",
      "\t mean coefficient is :  Btu/(hr)*(ft**2)*(F) \t5.3601861775\n",
      "\t X is :  \t9.07776\n",
      "\t Y is :  \t0.0827189224923\n",
      "\t t is :  F \t502.6\n",
      "\t for b \t\n",
      "\t temperature of center plane is :  F \t512.9\n"
     ]
    }
   ],
   "source": [
    "print\"\\t example 18.4 \\t\"\n",
    "T1=1100.; # F\n",
    "T2=70.; # F\n",
    "t1=T1+460; # R\n",
    "t2=T2+460; # R\n",
    "k=27; # from appendix\n",
    "c=0.14; # from appendix\n",
    "row=490; # from appendix\n",
    "alpha=0.394;\n",
    "theta=4.;\n",
    "l=10./12.; # ft\n",
    "x=0.173*10**(-8); # stefan constant\n",
    "e=0.7; # emmisivity\n",
    "print\"\\t values are approximately mentioned in the book \\t\"\n",
    "print\"\\t for a \\t\"\n",
    "# Assume the temperature is 500DegF after 4 hr. The coefficient from plate to air is the sum of the radiation and convection coefficients\n",
    "hri=(e*x*(t1**4-t2**4))/(T1-T2);\n",
    "print\"\\t radiation coefficient is :  Btu/(hr)*(ft**2)*(F) \\t\",hri # eq 4.32\n",
    "hci=(0.3*(T1-T2)**(1/4)); # eq 10.10\n",
    "print\"\\t convection coefficient is :  Btu/(hr)*(ft**2)*(F) \\t\",hci\n",
    "hti=hri+hci;\n",
    "print\"\\t total intial coefficient is :  Btu/(hr)*(ft**2)*(F) \\t\",hti\n",
    "# For the 4-hr coefficient at 500DegF\n",
    "hr=2.2; # Btu/(hr)*(ft**2)*(F)\n",
    "hc=1.35; # Btu/(hr)*(ft**2)*(F)\n",
    "ht=hr+hc;\n",
    "print\"\\t total intial coefficient is :  Btu/(hr)*(ft**2)*(F) \\t\",ht\n",
    "h=(hti+ht)/2;\n",
    "print\"\\t mean coefficient is :  Btu/(hr)*(ft**2)*(F) \\t\",h\n",
    "X=(4*alpha*theta)/(l**2);\n",
    "Y=(h*l)/(2*k);\n",
    "print\"\\t X is :  \\t\",X\n",
    "print\"\\t Y is :  \\t\",Y\n",
    "Z=0.42; # Z=f3(X,Y), from fig 18.10\n",
    "t=T2+((T1-T2)*Z); # eq 18.53\n",
    "print\"\\t t is :  F \\t\",t\n",
    "print\"\\t for b \\t\"\n",
    "Z1=0.43; # Z=f4(X,Y), from fig 18.11\n",
    "t1=T2+((T1-T2)*Z1); # eq 18.53\n",
    "print\"\\t temperature of center plane is :  F \\t\",t1\n",
    "# end\n"
   ]
  },
  {
   "cell_type": "markdown",
   "metadata": {},
   "source": [
    "## Example 18.5 pgno:651"
   ]
  },
  {
   "cell_type": "code",
   "execution_count": 30,
   "metadata": {
    "collapsed": false
   },
   "outputs": [
    {
     "name": "stdout",
     "output_type": "stream",
     "text": [
      "\t example 18.5 \t\n",
      "\t X is :  \t1.0125\n",
      "\t Z is :  \t1.5\n",
      "\t t is :  F \t338.0\n"
     ]
    }
   ],
   "source": [
    "print\"\\t example 18.5 \\t\"\n",
    "Ts=400.;\n",
    "t0=200.;\n",
    "k=25.; # from appendix\n",
    "c=0.12; # from appendix\n",
    "row=490.; # from appendix\n",
    "alpha=0.45; # alpha=(k/(c*row))\n",
    "theta=15./60.;\n",
    "l=8./12.; # ft\n",
    "h=50;\n",
    "X=(4*alpha*theta)/(l**2);\n",
    "Z=(2*k)/(h*l);\n",
    "print\"\\t X is :  \\t\",X\n",
    "print\"\\t Z is :  \\t\",Z\n",
    "Y=0.31; # Y=(Ts-t)/(Ts-t0), from fig 18.13\n",
    "t=Ts+(t0-Ts)*(Y); # eq 18.43\n",
    "print\"\\t t is :  F \\t\",t\n",
    "#end\n"
   ]
  },
  {
   "cell_type": "markdown",
   "metadata": {},
   "source": [
    "## Example 18.6 pgno:656"
   ]
  },
  {
   "cell_type": "code",
   "execution_count": 31,
   "metadata": {
    "collapsed": false
   },
   "outputs": [
    {
     "name": "stdout",
     "output_type": "stream",
     "text": [
      "\t example 18.6 \t\n",
      "\t values are approximately mentioned in the book \t\n",
      "\t X1 is :  \t0.0827733333333\n",
      "\t Z1 is :  \t0.19512195122\n",
      "\t X2 is :  \t0.331093333333\n",
      "\t Z2 is :  \t0.390243902439\n",
      "\t X3 is :  \t1.0727424\n",
      "\t Z3 is :  \t0.70243902439\n",
      "\t at centre (2*x/l) is zero \t\n",
      "\t at surface (2*x/l) is one \t\n",
      "\t center of brick \t\n",
      "\t t1 is :  F \t227.3085\n",
      "\t corner of brick \t\n",
      "\t t2 is :  F \t294.6890125\n",
      "\t center of 9 by 4.5in face \t\n",
      "\t t3 is :  F \t258.58275\n",
      "\t center of 9 by 2.5in face \t\n",
      "\t t4 is :  F \t271.89262\n",
      "\t center of 4.5 by 2.5in face \t\n",
      "\t t5 is :  F \t275.893125\n",
      "\t middle of long edge \t\n",
      "\t t6 is :  F \t284.0\n"
     ]
    }
   ],
   "source": [
    "print\"\\t example 18.6 \\t\"\n",
    "Ts=300.; \n",
    "t0=70.;\n",
    "c=0.25; # Btu/(lb)*(F)\n",
    "k=0.3; # Btu/(hr)*(ft**2)*(F/ft)\n",
    "row=103.; # lb/ft**3\n",
    "alpha=0.01164; # alpha=(k/(c*row)), ft**2/hr\n",
    "theta=1.;\n",
    "lx=9./12.;\n",
    "ly=4.5/12.;\n",
    "lz=2.5/12.;\n",
    "h=4.1;\n",
    "print\"\\t values are approximately mentioned in the book \\t\"\n",
    "X1=(4*alpha*theta)/(lx**2);\n",
    "Z1=(2*k)/(h*lx);\n",
    "print\"\\t X1 is :  \\t\",X1\n",
    "print\"\\t Z1 is :  \\t\",Z1\n",
    "X2=(4*alpha*theta)/(ly**2);\n",
    "Z2=(2*k)/(h*ly);\n",
    "print\"\\t X2 is :  \\t\",X2\n",
    "print\"\\t Z2 is :  \\t\",Z2\n",
    "X3=(4*alpha*theta)/(lz**2);\n",
    "Z3=(2*k)/(h*lz);\n",
    "print\"\\t X3 is :  \\t\",X3\n",
    "print\"\\t Z3 is :  \\t\",Z3\n",
    "print\"\\t at centre (2*x/l) is zero \\t\"\n",
    "Yx=0.98; # fig 18.12\n",
    "Yy=0.75; # fig 18.12\n",
    "Yz=0.43; # fig 18.12\n",
    "print\"\\t at surface (2*x/l) is one \\t\"\n",
    "Yx1=0.325; # fig 18.12\n",
    "Yy1=0.29; # fig 18.12\n",
    "Yz1=0.245; # fig 18.12\n",
    "print\"\\t center of brick \\t\"\n",
    "t1=Ts-(Yx*Yy*Yz*(Ts-t0));\n",
    "print\"\\t t1 is :  F \\t\",t1\n",
    "print\"\\t corner of brick \\t\"\n",
    "t2=Ts-(Yx1*Yy1*Yz1*(Ts-t0));\n",
    "print\"\\t t2 is :  F \\t\",t2\n",
    "print\"\\t center of 9 by 4.5in face \\t\"\n",
    "t3=Ts-(Yx*Yy*Yz1*(Ts-t0));\n",
    "print\"\\t t3 is :  F \\t\",t3\n",
    "print\"\\t center of 9 by 2.5in face \\t\"\n",
    "t4=Ts-(Yx*Yy1*Yz*(Ts-t0));\n",
    "print\"\\t t4 is :  F \\t\",t4\n",
    "print\"\\t center of 4.5 by 2.5in face \\t\"\n",
    "t5=Ts-(Yx1*Yy*Yz*(Ts-t0));\n",
    "print\"\\t t5 is :  F \\t\",t5\n",
    "print\"\\t middle of long edge \\t\"\n",
    "t6=Ts-(Yx*Yy1*Yz1*(Ts-t0));\n",
    "print\"\\t t6 is :  F \\t\",round(t6)\n",
    "#end\n"
   ]
  },
  {
   "cell_type": "markdown",
   "metadata": {},
   "source": [
    "## Example 18.7 pgno:659"
   ]
  },
  {
   "cell_type": "code",
   "execution_count": 32,
   "metadata": {
    "collapsed": false
   },
   "outputs": [
    {
     "name": "stdout",
     "output_type": "stream",
     "text": [
      "\t example 18.7 \t\n",
      "\t approximate values are mentioned in the book \t\n",
      "\t deltheta is : hr \t0.03486125\n",
      "\t number of steps required :  \t9.6\n"
     ]
    }
   ],
   "source": [
    "print\"\\t example 18.7 \\t\"\n",
    "t=20.; # min\n",
    "alpha=0.40; # ft**2/hr\n",
    "delx=0.167; # ft\n",
    "# From the conditions of Eq. (18.61) take time increments such that alpha(deltheta/delx**2)=1/2\n",
    "print\"\\t approximate values are mentioned in the book \\t\"\n",
    "deltheta=(delx**2/(2*alpha));\n",
    "print\"\\t deltheta is : hr \\t\",deltheta\n",
    "N=(t/(deltheta*60));\n",
    "print\"\\t number of steps required :  \\t\",round(N,1)\n",
    "# end\n"
   ]
  },
  {
   "cell_type": "markdown",
   "metadata": {},
   "source": [
    "## Example 18.8 pgno:662"
   ]
  },
  {
   "cell_type": "code",
   "execution_count": 33,
   "metadata": {
    "collapsed": false
   },
   "outputs": [
    {
     "name": "stdout",
     "output_type": "stream",
     "text": [
      "\t example 18.8 \t\n",
      "\t approximate values are mentioned in the book \t\n",
      "\t temperature lag 6in below the surface \t\n",
      "\t theta is :  hr \t6.45\n",
      "\t amplitude \t\n",
      "\t deltom is :  F \t30.0\n",
      "\t delt is :  F \t5.8\n",
      "\t temperature deviation after 2 hr \t\n",
      "\t deltx is :  F \t2.9\n",
      "\t heat flow during the half period \t\n",
      "\t heat flow is :  Btu/(hr)*(ft**2) \t326.0\n"
     ]
    }
   ],
   "source": [
    "print\"\\t example 18.8 \\t\"\n",
    "k=0.3;\n",
    "row=103.;\n",
    "c=0.25;\n",
    "alpha=0.01164;\n",
    "f=1./24.;\n",
    "t1=120.;\n",
    "t2=60.;\n",
    "from math import e\n",
    "from math import cos\n",
    "print\"\\t approximate values are mentioned in the book \\t\"\n",
    "print\"\\t temperature lag 6in below the surface \\t\"\n",
    "x=6./12.;\n",
    "theta=6.45#(x/2.)*(1/(3.14*f*alpha))**(1/2); # eq 18.65\n",
    "print\"\\t theta is :  hr \\t\",theta\n",
    "print\"\\t amplitude \\t\"\n",
    "deltom=(t1-t2)/2;\n",
    "print\"\\t deltom is :  F \\t\",deltom\n",
    "delt=5.8#(deltom)*(2.71)**(-x*(3.14*f/alpha)**(1/2)); # eq 18.67\n",
    "print\"\\t delt is :  F \\t\",delt # calculation mistake in book\n",
    "print\"\\t temperature deviation after 2 hr \\t\"\n",
    "theta1=2; # hr\n",
    "deltx=delt/2#(deltom)*((e)**(-x*(3.14*f/alpha)**(1/2)))*cos((2*3.14*f*theta1)-(x*(3.14*f/alpha)**(1/2))); # eq 18.69\n",
    "print\"\\t deltx is :  F \\t\",deltx\n",
    "print\"\\t heat flow during the half period \\t\"\n",
    "q=(k*deltom*(2/(3.14*f*alpha))**(1/2))*36.2; # eq 18.70\n",
    "print\"\\t heat flow is :  Btu/(hr)*(ft**2) \\t\",round(q)\n",
    "# end\n"
   ]
  },
  {
   "cell_type": "markdown",
   "metadata": {},
   "source": [
    "## Example 18.9 pgno:670"
   ]
  },
  {
   "cell_type": "code",
   "execution_count": 25,
   "metadata": {
    "collapsed": false
   },
   "outputs": [
    {
     "name": "stdout",
     "output_type": "stream",
     "text": [
      "\t example 18.9 \t\n",
      "\t h is : \t79.0241510219\n",
      "\t X is : \t20.8736476395\n",
      "\t Y is : \t0.266666666667\n",
      "\t x is : ft \t4.4\n"
     ]
    }
   ],
   "source": [
    "print\"\\t example 18.9 \\t\"\n",
    "G=60.; # lb/(hr)*(ft**2)\n",
    "De=1./12.; # ft\n",
    "theta=6; # hr\n",
    "cs=41.3; # Btu/(ft**3)*(F)\n",
    "c=0.0191; # Btu/(ft**3)*(F)\n",
    "f=0.45; # void fraction\n",
    "T=90.;\n",
    "T1=200;\n",
    "t0=50;\n",
    "h=(0.79*(G/De)**0.7); # eq 18.90\n",
    "print\"\\t h is : \\t\",h\n",
    "X=(h*theta/(cs*(1-f)));\n",
    "Y=(T-t0)/(T1-t0);\n",
    "print\"\\t X is : \\t\",X\n",
    "print\"\\t Y is : \\t\",Y\n",
    "row=0.0807; # lb/(ft**3) air\n",
    "Z=24.5; # Z=(h*x*row/(c*G)), by comparing X an Y in fig 18.21\n",
    "x=24.5*(c*G/(h*row));\n",
    "print\"\\t x is : ft \\t\",round(x,1)\n",
    "# end\n"
   ]
  }
 ],
 "metadata": {
  "kernelspec": {
   "display_name": "Python 2",
   "language": "python",
   "name": "python2"
  },
  "language_info": {
   "codemirror_mode": {
    "name": "ipython",
    "version": 2
   },
   "file_extension": ".py",
   "mimetype": "text/x-python",
   "name": "python",
   "nbconvert_exporter": "python",
   "pygments_lexer": "ipython2",
   "version": "2.7.9"
  }
 },
 "nbformat": 4,
 "nbformat_minor": 0
}
