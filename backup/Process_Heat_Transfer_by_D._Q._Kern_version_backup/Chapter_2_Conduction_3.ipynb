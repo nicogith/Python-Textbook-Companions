{
 "cells": [
  {
   "cell_type": "markdown",
   "metadata": {},
   "source": [
    "# Chapter 2:CONDUCTION"
   ]
  },
  {
   "cell_type": "markdown",
   "metadata": {},
   "source": [
    "## Example2.1 pg:13"
   ]
  },
  {
   "cell_type": "code",
   "execution_count": 1,
   "metadata": {
    "collapsed": false
   },
   "outputs": [
    {
     "name": "stdout",
     "output_type": "stream",
     "text": [
      " heat is  Btu/hr  69120.0\n",
      "\t approximate values are mentioned in the book \n",
      "\n"
     ]
    }
   ],
   "source": [
    "\n",
    "#given\n",
    "Tavg=900; # average temperature of the wall,F\n",
    "k=0.15; # Thermal conductivity at 932 F,Btu/(hr)(ft^2)(F/ft)\n",
    "T1=1500; # hot side temperature,F\n",
    "T2=300; # cold side temperature,F\n",
    "A=192; # surface area,ft^2\n",
    "L=0.5; # thickness,ft\n",
    "#solution\n",
    "Q=(k)*(A)*(T1-T2)/L; # formula for heat,Btu/hr\n",
    "print \" heat is  Btu/hr \",Q\n",
    "print\"\\t approximate values are mentioned in the book \\n\"\n",
    "#end\n",
    "\n"
   ]
  },
  {
   "cell_type": "markdown",
   "metadata": {},
   "source": [
    "## Example2.2 pg:14"
   ]
  },
  {
   "cell_type": "code",
   "execution_count": 3,
   "metadata": {
    "collapsed": false
   },
   "outputs": [
    {
     "name": "stdout",
     "output_type": "stream",
     "text": [
      "\t resistance offered by firebrick :  (hr)*(F)/Btu  0.97\n",
      "\t resistance offered by insulating brick : (hr)*(F)/Btu  2.2\n",
      "\t resistance offered by buildingbrick : (hr)*(F)/Btu  1.25\n",
      "\t total resistance offered by three walls : (hr)*(F)/Btu  4.42\n",
      "\t heat loss/ft^2 :  Btu/hr  331.0\n",
      "\t delta is : F  322.0\n",
      "\t temperature at interface of firebrick and insulating brick  F  1278.0\n",
      "\t deltb is :  F  729.0\n",
      "\t temperature at interface of insulating brick and building brick  F  549.0\n",
      "\t approximate values are mentioned in the book \n",
      "\n"
     ]
    }
   ],
   "source": [
    "\n",
    "#given\n",
    "La=0.66; # Thickness of firebrick wall,ft\n",
    "Lb=0.33; # Thickness of insulating brick wall,ft\n",
    "Lc=0.5; # Thickness of building brick wall,ft\n",
    "Ka=0.68; # themal conductivity of firebrick,Btu/(hr)*(ft^2)*(F/ft)\n",
    "Kb=0.15; # themal conductivity of insulating brick,Btu/(hr)*(ft^2)*(F/ft)\n",
    "Kc=0.40; # themal conductivity of building brick,Btu/(hr)*(ft^2)*(F/ft)\n",
    "A=1.; # surface area,ft^2\n",
    "Ta=1600.; # temperature of inner wall,F\n",
    "Tb=125.; # temperature of outer wall.F\n",
    "#solution\n",
    "Ra=La/(Ka)*(A); # formula for resistance,(hr)*(F)/Btu\n",
    "print\"\\t resistance offered by firebrick :  (hr)*(F)/Btu \",round(Ra,2)\n",
    "Rb=Lb/(Kb)*(A); # formula for resistance,(hr)*(F)/Btu\n",
    "print\"\\t resistance offered by insulating brick : (hr)*(F)/Btu \",round(Rb,2)\n",
    "Rc=Lc/(Kc)*(A); # formula for resistance,(hr)*(F)/Btu\n",
    "print\"\\t resistance offered by buildingbrick : (hr)*(F)/Btu \",round(Rc,2)\n",
    "R=Ra+Rb+Rc; # total resistance offered by three walls,(hr)*(F)/Btu\n",
    "print\"\\t total resistance offered by three walls : (hr)*(F)/Btu \",round(R,2)\n",
    "Q=(1600-125)/4.45; # using formula for heat loss/ft^2,Btu/hr\n",
    "print\"\\t heat loss/ft^2 :  Btu/hr \",round(Q,0)\n",
    "# T1,T2 are temperatures at interface of firebrick and insulating brick, and insulating brick and building brick respectively,F\n",
    "delta=(Q)*(Ra); # formula for temperature difference,F\n",
    "print\"\\t delta is : F \",round(delta,0)\n",
    "T1=Ta-((Q)*(Ra)); # temperature at interface of firebrick and insulating brick,F\n",
    "print\"\\t temperature at interface of firebrick and insulating brick  F \",round(T1,0)\n",
    "deltb=Q*(Rb);\n",
    "print\"\\t deltb is :  F \",round(deltb,0)\n",
    "T2=T1-((Q)*(Rb)); #temperature at interface of insulating brick and building brick,F\n",
    "print\"\\t temperature at interface of insulating brick and building brick  F \",round(T2,0)\n",
    "print\"\\t approximate values are mentioned in the book \\n\"\n",
    "#end\n"
   ]
  },
  {
   "cell_type": "markdown",
   "metadata": {},
   "source": [
    "## Example2.3 pg:15"
   ]
  },
  {
   "cell_type": "code",
   "execution_count": 4,
   "metadata": {
    "collapsed": false
   },
   "outputs": [
    {
     "name": "stdout",
     "output_type": "stream",
     "text": [
      "\t approximate values are mentioned in the book \n",
      "\n",
      "\t resistance offered by air film (hr)(F)/Btu  0.79\n",
      "\t total resistance  (hr)(F)/Btu  5.24\n",
      "\t heat loss  Btu/hr  282.0\n"
     ]
    }
   ],
   "source": [
    "\n",
    "print\"\\t approximate values are mentioned in the book \\n\"\n",
    "#given\n",
    "Lair=0.25/12; # thickness of air film,ft\n",
    "Kair=0.0265; # thermal conductivity of air at 572F,Btu/(hr)*(ft^2)(F/ft)\n",
    "A=1; # surface area,ft^2\n",
    "#solution\n",
    "Rair=Lair/(Kair*(A)); # resistance offered by air film, (hr)(F)/Btu\n",
    "print\"\\t resistance offered by air film (hr)(F)/Btu \",round(Rair,2)\n",
    "R=4.45; # resistance from previous example 2.2,(hr)(F)/Btu\n",
    "Rt=(R)+Rair; # total resistance,(hr)(F)/Btu\n",
    "print\"\\t total resistance  (hr)(F)/Btu \",round(Rt,2)\n",
    "Ta=1600; # temperature of inner wall,F\n",
    "Tb=125; # temperature of outer wall,F\n",
    "Q=(1600-125)/Rt; # heat loss, Btu/hr\n",
    "print\"\\t heat loss  Btu/hr \",round(Q,0)\n"
   ]
  },
  {
   "cell_type": "markdown",
   "metadata": {},
   "source": [
    "## Example2.4 pg 16"
   ]
  },
  {
   "cell_type": "code",
   "execution_count": 1,
   "metadata": {
    "collapsed": false
   },
   "outputs": [
    {
     "name": "stdout",
     "output_type": "stream",
     "text": [
      "\t heat flow is :  Btu/(hr)*(ft)  543.0\n",
      "\t approximate values are mentioned in the book \n",
      "\n"
     ]
    }
   ],
   "source": [
    "\n",
    "#given\n",
    "k=0.63; # thermal conductivity of pipe, Btu/(hr)*(ft^2)*(F/ft)\n",
    "Do=6. # in\n",
    "Di=5. # in\n",
    "Ti=200.;# inner side temperature,F\n",
    "To=175.; # outer side temperature,F\n",
    "#solution\n",
    "import math\n",
    "from math import log\n",
    "q=(2*(3.14)*(k)*(Ti-To))/(log (Do/Di)); # formula for heat flow,Btu/(hr)*(ft)\n",
    "print\"\\t heat flow is :  Btu/(hr)*(ft) \",round(q,0)\n",
    "print\"\\t approximate values are mentioned in the book \\n\"\n",
    "# caculation mistake in book\n",
    "# end\n"
   ]
  },
  {
   "cell_type": "markdown",
   "metadata": {},
   "source": [
    "##Example2.5 pg 19"
   ]
  },
  {
   "cell_type": "code",
   "execution_count": 1,
   "metadata": {
    "collapsed": false
   },
   "outputs": [
    {
     "name": "stdout",
     "output_type": "stream",
     "text": [
      "\t approximate values are mentioned in the book \n",
      "\n",
      "\t heat loss for linear foot is :  Btu/(hr)*(lin ft)  104.4\n",
      "\t Check between ts and t1, since delt/R = deltc/Rc \n",
      "\t t1 is :  F  122.300238658\n",
      "\t heat loss for linear foot is :  Btu/(hr)*(lin ft) 102.9\n",
      "\t Check between ts and t1, since delt/R = deltc/Rc \n",
      "\t t1 is : F  125.4\n"
     ]
    }
   ],
   "source": [
    "\n",
    "print\"\\t approximate values are mentioned in the book \\n\"\n",
    "#given\n",
    "t1=150; # assume temperature of outer surface of rockwool,F\n",
    "ta=70; # temperature of surrounding air,F\n",
    "ha=2.23; # surface coefficient,Btu/(hr)*(ft^2)*(F)\n",
    "#solution\n",
    "import math\n",
    "from math import log\n",
    "q=(3.14)*(300-70)/(((1/(2*0.033))*log(3.375/2.375))+(1/((2.23)*(3.375/12)))); # using formula for heat loss,Btu/(hr)*(lin ft), calculation mistake\n",
    "print\"\\t heat loss for linear foot is :  Btu/(hr)*(lin ft) \",round(q,1)\n",
    "print\"\\t Check between ts and t1, since delt/R = deltc/Rc \"\n",
    "t1=300-(((104.8)*((1)*(log(3.375/2.375))))/((2)*(3.14)*(.033))); # using eq 2.31,F\n",
    "print\"\\t t1 is :  F \",t1\n",
    "t1=125; # assume temperature of outer surface of rockwool,F\n",
    "ha=2.10; # surface coefficient,Btu/(hr)*(ft^2)*(F)\n",
    "q=((3.14)*(300-70))/(((1/(2*0.033))*log(3.375/2.375))+(1/((2.10)*(3.375/12)))); # using formula for heat loss,Btu/(hr)*(lin ft)\n",
    "print\"\\t heat loss for linear foot is :  Btu/(hr)*(lin ft)\",round(q,1)\n",
    "print\"\\t Check between ts and t1, since delt/R = deltc/Rc \"\n",
    "t1=300-(((103)*((1)*(log(3.375/2.375))))/((2)*(3.14)*(.033))); # using eq 2.31,F\n",
    "print\"\\t t1 is : F \",round(t1,1)\n",
    "# end \n"
   ]
  }
 ],
 "metadata": {
  "kernelspec": {
   "display_name": "Python 2",
   "language": "python",
   "name": "python2"
  },
  "language_info": {
   "codemirror_mode": {
    "name": "ipython",
    "version": 2
   },
   "file_extension": ".py",
   "mimetype": "text/x-python",
   "name": "python",
   "nbconvert_exporter": "python",
   "pygments_lexer": "ipython2",
   "version": "2.7.9"
  }
 },
 "nbformat": 4,
 "nbformat_minor": 0
}
