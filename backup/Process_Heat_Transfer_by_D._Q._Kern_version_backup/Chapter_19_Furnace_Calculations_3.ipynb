{
 "cells": [
  {
   "cell_type": "markdown",
   "metadata": {},
   "source": [
    "# Chapter 19: Furnace Calculations"
   ]
  },
  {
   "cell_type": "markdown",
   "metadata": {},
   "source": [
    "## Example 19.1 pgno:702 "
   ]
  },
  {
   "cell_type": "code",
   "execution_count": 1,
   "metadata": {
    "collapsed": false
   },
   "outputs": [
    {
     "name": "stdout",
     "output_type": "stream",
     "text": [
      "\t example 19.1 \t\n",
      "\t approxiate values are mentioned in the book \t\n",
      "\t heat liberated by the fuel : Btu/hr \t66666666.6667\n",
      "\t fuel quantity : lb/hr \t3891.8077447\n",
      "\t air required : lb/hr \t67873.1270675\n",
      "\t steam for atomizing : lb/hr \t1167.54232341\n",
      "\t QA is : Btu/hr \t5565596.41954\n",
      "\t QS is negligible \t\n",
      "\t QW is : Btu/hr \t1333333.33333\n",
      "\t Qnet is : Btu/hr \t70898929.7529\n",
      "\t QG is : Btu/hr \t34715859.1166\n",
      "\t Q1 is : Btu/hr \t36183070.6363\n",
      "\t area of tube is : ft**2 \t50.3708333333\n",
      "\t estimated number of tubes : \t59.8611475495\n",
      "\t cold plane surface per tube : ft**2 \t27.2708333333\n",
      "\t Acp1 is : ft**2 \t25.5527708333\n",
      "\t total cold plane surface is : ft**2 \t1529.61818515\n",
      "\t surface of end walls : ft**2 \t610.5264\n",
      "\t surface of side wall : ft**2 \t574.42\n",
      "\t surface of bridge walls : ft**2 \t376.915\n",
      "\t surface of floor and arch : ft**2 \t1575.42\n",
      "\t AT is : ft**2 \t3137.2814\n",
      "\t AR is : ft**2 \t1607.66321485\n",
      "\t ratio of areas is : \t1.05102255612\n",
      "\t dimension ratio is 3:2:1 \t\n",
      "\t length is : ft \t0.0\n",
      "\t gas emissivity \t\n",
      "\t percentage correction at P : \t0.464837049743\n",
      "\t Pt is : \t3.5\n",
      "\t eG is : \t0\n",
      "\t overall exchange factor : \t0.635\n",
      "\t Z is : \t37251.9195663\n",
      "\t TG required (at Ts = 800F) = 1670F compared with 1730DegF assumed in heat balance) \t\n"
     ]
    }
   ],
   "source": [
    "print\"\\t example 19.1 \\t\"\n",
    "# For orientation purposes, one can make an estimate of the number of tubes required in the radiant section by assuming avg flux is 12000 Btu/(hr)*(ft**2)\n",
    "# from Fig.19.14 it can be seen that with a tube temperature of 800DegF, an exit-gas temperature of l730DegF will be required to effect such a flux.\n",
    "print\"\\t approxiate values are mentioned in the book \\t\"\n",
    "Q=50000000; # Btu/hr\n",
    "QF=(Q/0.75); # efficiency of tank is 75%\n",
    "print\"\\t heat liberated by the fuel : Btu/hr \\t\",QF\n",
    "w1=(QF/17130); # heating value of fuel is 17130Btu/lb\n",
    "print\"\\t fuel quantity : lb/hr \\t\",w1\n",
    "w2=(w1*17.44); # lb of fuel fired with 17.44lb of air\n",
    "print\"\\t air required : lb/hr \\t\",w2\n",
    "w3=(w1*0.3); # 0.3 lb of air is used for atomizing lb of fuel\n",
    "print\"\\t steam for atomizing : lb/hr \\t\",w3\n",
    "QA=(w2*82); # heating value at 400F is 82Btu/lb\n",
    "print\"\\t QA is : Btu/hr \\t\",QA\n",
    "print\"\\t QS is negligible \\t\"\n",
    "QW=(0.02*QF);\n",
    "print\"\\t QW is : Btu/hr \\t\",QW\n",
    "Qnet=(QF+QA-QW);\n",
    "print\"\\t Qnet is : Btu/hr \\t\",Qnet\n",
    "#Heat out m gases at 1730DegF, 25 per cent excess air, 476 Btu/lb of flue gas\n",
    "QG=(476*(w1+w2+w3));\n",
    "print\"\\t QG is : Btu/hr \\t\",QG\n",
    "Q1=(Qnet-QG);\n",
    "print\"\\t Q1 is : Btu/hr \\t\",Q1 # calculation mistake in book\n",
    "A=(3.14*38.5*(5./12.)); # area of tube\n",
    "print\"\\t area of tube is : ft**2 \\t\",A\n",
    "Nt=(Q1/(12000*A)); # 12000 is avg flux\n",
    "print\"\\t estimated number of tubes : \\t\",Nt\n",
    "# The layout of the cross section of the furnace may be as shown m Fig. 19.16.\n",
    "# center to center distance is 8(1/2)in\n",
    "Acp=(8.5*38.5/12);\n",
    "print\"\\t cold plane surface per tube : ft**2 \\t\",Acp # calculation mistake in book\n",
    "a=0.937; # a=alpha, from fig 19.11 as Ratio of center-to-center/OD is 1.7\n",
    "Acp1=(Acp*a);\n",
    "print\"\\t Acp1 is : ft**2 \\t\",Acp1\n",
    "Acpt=(Acp1*Nt);\n",
    "print\"\\t total cold plane surface is : ft**2 \\t\",Acpt\n",
    "A1=(2*20.46*14.92); # from fig 19.16\n",
    "print\"\\t surface of end walls : ft**2 \\t\",A1\n",
    "A2=(38.5*14.92); # from fig 19.16\n",
    "print\"\\t surface of side wall : ft**2 \\t\",A2\n",
    "A3=(38.5*9.79); # from fig 19.16\n",
    "print\"\\t surface of bridge walls : ft**2 \\t\",A3\n",
    "A4=(2*20.46*38.5); # from fig 19.16\n",
    "print\"\\t surface of floor and arch : ft**2 \\t\",A4\n",
    "AT=(A1+A2+A3+A4);\n",
    "print\"\\t AT is : ft**2 \\t\",AT\n",
    "AR=(AT-Acpt);\n",
    "print\"\\t AR is : ft**2 \\t\",AR\n",
    "Ar=(AR/Acpt);\n",
    "print\"\\t ratio of areas is : \\t\",Ar\n",
    "print\"\\t dimension ratio is 3:2:1 \\t\"\n",
    "L=((2/3)*(38.5*20.46*14.92)**(1/3));\n",
    "print\"\\t length is : ft \\t\",L\n",
    "print\"\\t gas emissivity \\t\"\n",
    "# From the analysis of the fuel, the steam quantity, and the assumption that the humidity of the air is 50 per cent of saturation at 60F, the partial pressures of CO2 and H2O in the combustion gases with 25 per cent excess air are\n",
    "pCO2=0.1084;\n",
    "pH2O=0.1248\n",
    "pCO2L=1.63; # pCO2L=(pCO2*L)\n",
    "pH2OL=1.87;\n",
    "P=((pCO2)/(pCO2+pH2O));\n",
    "print\"\\t percentage correction at P : \\t\",P\n",
    "Pt=pCO2L+pH2OL;\n",
    "print\"\\t Pt is : \\t\",Pt\n",
    "# %correction estimated to be 8%\n",
    "eG=(((6500+14500)-(650+1950))/(39000-4400))*((100-8)/100); # values from fig 19.12 and 19.13, eq 19.5\n",
    "print\"\\t eG is : \\t\",eG\n",
    "f=0.635; # from fig 19.15 as (AR/Acpt)=1.09 and eG=0.496\n",
    "print\"\\t overall exchange factor : \\t\",f\n",
    "Z=(Q1/(Acpt*f));\n",
    "print\"\\t Z is : \\t\",round(Z)\n",
    "print\"\\t TG required (at Ts = 800F) = 1670F compared with 1730DegF assumed in heat balance) \\t\"\n",
    "# end\n"
   ]
  },
  {
   "cell_type": "markdown",
   "metadata": {},
   "source": [
    "## Example 19.2 pgno:705"
   ]
  },
  {
   "cell_type": "code",
   "execution_count": 4,
   "metadata": {
    "collapsed": false
   },
   "outputs": [
    {
     "name": "stdout",
     "output_type": "stream",
     "text": [
      "\t example 19.2 \n",
      "\n",
      "\t approxiate values are mentioned in the book \n",
      "\t Q is :  Btu/hr  24867609.5833\n",
      "\t The radiant-section average rate will be 8350 Btu/(hr) (ft2), and the exit-flue-gas temperature 1540DegF by heat balance. \n",
      "\n"
     ]
    }
   ],
   "source": [
    "print\"\\t example 19.2 \\n\"\n",
    "QF=50000000.;\n",
    "G=22.36;\n",
    "Acpt=1500.;\n",
    "print\"\\t approxiate values are mentioned in the book \"\n",
    "Q=(QF/(1+(G/4200)*(QF/Acpt)**(1/2)))/2; # eq 19.15\n",
    "print\"\\t Q is :  Btu/hr \",Q\n",
    "print\"\\t The radiant-section average rate will be 8350 Btu/(hr) (ft2), and the exit-flue-gas temperature 1540DegF by heat balance. \\n\"\n",
    "# end"
   ]
  },
  {
   "cell_type": "markdown",
   "metadata": {},
   "source": [
    "## Example 19.3 pgno:707"
   ]
  },
  {
   "cell_type": "code",
   "execution_count": 5,
   "metadata": {
    "collapsed": false
   },
   "outputs": [
    {
     "name": "stdout",
     "output_type": "stream",
     "text": [
      "\t example 19.3 \n",
      "\n",
      "\t approxiate values are mentioned in the book \n",
      "\n",
      "\t a1 is :   1.63\n",
      "\t a2 is :  2.2331\n",
      "\t Qr2 is :   0.309300671182\n",
      "\t ratio of heats is :   1.22092370204\n",
      "\t Hence the radiant absorption will be increased only 22 per cent for an increase of 50 per cent in the heat liberated. \n",
      "\n"
     ]
    }
   ],
   "source": [
    "print\"\\t example 19.3 \\n\"\n",
    "Qr=1.5; # Qr=(QF2/QF1)\n",
    "Cr=1.5; # Cr=(CR2/CR1)\n",
    "Gr=140/125; # Gr=(G2/G1)\n",
    "Qr1=0.38; # Qr1=(Q1/QF1)\n",
    "print\"\\t approxiate values are mentioned in the book \\n\"\n",
    "a1=1.63; # a1=(G1*(CR1/27)^(1/2)), from eq 19.17\n",
    "print\"\\t a1 is :  \",a1\n",
    "a2=1.37*(a1); # a2=(G2*(CR2/27)^(1/2))\n",
    "print\"\\t a2 is : \",a2\n",
    "Qr2=(1/(1+a2)); # Qr2=(Q2/QF2),from eq 19.15\n",
    "print\"\\t Qr2 is :  \",Qr2\n",
    "Q21=(Qr2/Qr1)*(Qr); # Q21=(Q2/Q1)\n",
    "print\"\\t ratio of heats is :  \",round(Q21,2)\n",
    "print\"\\t Hence the radiant absorption will be increased only 22 per cent for an increase of 50 per cent in the heat liberated. \\n\"\n",
    "# end\n",
    "\n"
   ]
  },
  {
   "cell_type": "markdown",
   "metadata": {},
   "source": [
    "## Example 19.4 pgno:708"
   ]
  },
  {
   "cell_type": "code",
   "execution_count": 6,
   "metadata": {
    "collapsed": false
   },
   "outputs": [
    {
     "name": "stdout",
     "output_type": "stream",
     "text": [
      "\t example 19.4 \t\n",
      "\t approxiate values are mentioned in the book \t\n",
      "\t L is :  ft \t0.565\n",
      "\t pH2OL is :  atm-ft \t0.070512\n",
      "\t pCO2L is :  atm-ft \t0.061246\n",
      "\t qTG is :  \t2750\n",
      "\t qTG is :  \t325\n",
      "\t q is :  \t2182.5\n",
      "\t percentage correction at P : %.3f \t0.464837049743\n",
      "\t Pt is :  \t0.131758\n",
      "\t q1 is :  \t2138.85\n",
      "\t radiation coefficient is :  Btu/(hr)*(ft^2)*(F) \t2.51629411765\n"
     ]
    }
   ],
   "source": [
    "print\"\\t example 19.4 \\t\"\n",
    "eS=0.9; # assumed\n",
    "TG=1500;\n",
    "TS=650;\n",
    "pCO2=0.1084;\n",
    "pH2O=0.1248;\n",
    "print\"\\t approxiate values are mentioned in the book \\t\"\n",
    "L=(0.4*8.5)-(0.567*5);  # table 19.1\n",
    "print\"\\t L is :  ft \\t\",L\n",
    "pH2OL=0.1248*L;\n",
    "pCO2L=0.1084*L;\n",
    "print\"\\t pH2OL is :  atm-ft \\t\",pH2OL\n",
    "print\"\\t pCO2L is :  atm-ft \\t\",pCO2L\n",
    "qH2O=1050; # at TG, from fig 19.12 ana 19.13\n",
    "qCO2=1700; # at TG, from fig 19.12 ana 19.13\n",
    "qTG=(qH2O+qCO2);\n",
    "print\"\\t qTG is :  \\t\",qTG\n",
    "qsH2O=165; # at TS, from fig 19.12 ana 19.13\n",
    "qsCO2=160; # at TS, from fig 19.12 ana 19.13\n",
    "qTS=(qsH2O+qsCO2);\n",
    "print\"\\t qTG is :  \\t\",qTS\n",
    "q=(0.9*(qTG-qTS)); # q=(QRC/A)\n",
    "print\"\\t q is :  \\t\",q\n",
    "P=((pCO2)/(pCO2+pH2O));\n",
    "print\"\\t percentage correction at P :\\t\",P\n",
    "Pt=pCO2L+pH2OL;\n",
    "print\"\\t Pt is :  \\t\",Pt\n",
    "# %correction estimated to be 2%\n",
    "q1=(q*0.98); # # q1=(QRC/A)\n",
    "print\"\\t q1 is :  \\t\",q1\n",
    "hr=(q1/(TG-TS));\n",
    "print\"\\t radiation coefficient is :  Btu/(hr)*(ft^2)*(F) \\t\",round(hr,2)\n",
    "#end\n",
    "\n",
    "\n"
   ]
  },
  {
   "cell_type": "markdown",
   "metadata": {},
   "source": [
    "## Example 19.5 pgno:709"
   ]
  },
  {
   "cell_type": "code",
   "execution_count": 10,
   "metadata": {
    "collapsed": false
   },
   "outputs": [
    {
     "name": "stdout",
     "output_type": "stream",
     "text": [
      "\t example 19.5 \t\n",
      "\t approxiate values are mentioned in the book \t\n",
      "\t a is :  ft**2/ft \t3.5\n",
      "\t AR is :  ft**2/ft \t9.6\n",
      "\t ratio of two areas is :  \t2.74285714286\n",
      "\t q1 is :  Btu/(hr)*(ft**2) \t10582\n",
      "\t q2 is :  Btu/(hr)*(ft**2) \t5925.92\n",
      "\t convection rate basis \t\n",
      "\t q3 is :  Btu/(hr)*(ft**2) \t808.8\n",
      "\t qt is :  Btu/(hr)*(ft**2) \t6734.72\n",
      "\t required a is :  ft**2 \t74.2421362729\n",
      "\t length required is :  ft \t19.2\n"
     ]
    }
   ],
   "source": [
    "print\"\\t example 19.5 \\t\"\n",
    "Q=500000;\n",
    "print\"\\t approxiate values are mentioned in the book \\t\"\n",
    "a=(3.5+(3.14*4*(120/360)))/(1); # a=(alpha*Acp) from fig 19.17\n",
    "AR=(3+3.6+3);\n",
    "print\"\\t a is :  ft**2/ft \\t\",a\n",
    "print\"\\t AR is :  ft**2/ft \\t\",AR\n",
    "# Arbitrarily neglecting end wa.lls and also .the side wall refractory over 3'0\" above the floor\n",
    "R=(AR/a);\n",
    "print\"\\t ratio of two areas is :  \\t\",R\n",
    "eG=0.265;\n",
    "TG=1174; # F\n",
    "TS=500; # F\n",
    "f=0.56; # from fig 19.15 as (AR/Acpt)=2.49 and eG=0.265\n",
    "q=15300; # at TG and TS,q=(Q/(a*f))\n",
    "# However, the convection coefficient is small, 1.0 +or- Btu/(hr)(ft2)(\"F), and AR/a is not 2.0 as in the assumptions for the Lobo and Evans equation.\n",
    "q1=(q)-(7*(TG-TS)); # q1=(Q/(a*f))\n",
    "print\"\\t q1 is :  Btu/(hr)*(ft**2) \\t\",q1\n",
    "q2=(q1*f); # q2=(Q/(a))\n",
    "print\"\\t q2 is :  Btu/(hr)*(ft**2) \\t\",q2\n",
    "print\"\\t convection rate basis \\t\"\n",
    "q3=(1*(TG-TS)*(4.2/a)); # q2=(Q/(a))\n",
    "print\"\\t q3 is :  Btu/(hr)*(ft**2) \\t\",q3 # calculation mistake in book\n",
    "qt=(q2+q3); # qt=(Q/(a))\n",
    "print\"\\t qt is :  Btu/(hr)*(ft**2) \\t\",qt\n",
    "ar=(Q/qt);\n",
    "print\"\\t required a is :  ft**2 \\t\",ar\n",
    "L=(ar/a)-2;\n",
    "print\"\\t length required is :  ft \\t\",round(L,1)\n",
    "# end\n"
   ]
  }
 ],
 "metadata": {
  "kernelspec": {
   "display_name": "Python 2",
   "language": "python",
   "name": "python2"
  },
  "language_info": {
   "codemirror_mode": {
    "name": "ipython",
    "version": 2
   },
   "file_extension": ".py",
   "mimetype": "text/x-python",
   "name": "python",
   "nbconvert_exporter": "python",
   "pygments_lexer": "ipython2",
   "version": "2.7.9"
  }
 },
 "nbformat": 4,
 "nbformat_minor": 0
}
