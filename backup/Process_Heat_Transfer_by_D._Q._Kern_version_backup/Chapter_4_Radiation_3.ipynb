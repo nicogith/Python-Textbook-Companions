{
 "cells": [
  {
   "cell_type": "markdown",
   "metadata": {},
   "source": [
    "# Chapter 4: Radiation"
   ]
  },
  {
   "cell_type": "markdown",
   "metadata": {},
   "source": [
    "## Example 4.1 pgno:75"
   ]
  },
  {
   "cell_type": "code",
   "execution_count": 1,
   "metadata": {
    "collapsed": false
   },
   "outputs": [
    {
     "name": "stdout",
     "output_type": "stream",
     "text": [
      "\t approximate values are mentioned in the book \n",
      "\n",
      "\t heat removed from colder wall per unit area is : Btu/(hr)*(ft**2)  3500.0\n"
     ]
    }
   ],
   "source": [
    "print\"\\t approximate values are mentioned in the book \\n\";\n",
    "#given\n",
    "T1=1000+460; # R\n",
    "T2=800+460; # R\n",
    "#solution\n",
    "Q=((0.173)*((14.6)**4-(12.6)**4)); # using eq.4.24,Btu/(hr)*(ft**2)\n",
    "#results\n",
    "print\"\\t heat removed from colder wall per unit area is : Btu/(hr)*(ft**2) \",round(Q,0)\n",
    "# end\n"
   ]
  },
  {
   "cell_type": "markdown",
   "metadata": {},
   "source": [
    "## Example 4.2 pgno:76"
   ]
  },
  {
   "cell_type": "code",
   "execution_count": 2,
   "metadata": {
    "collapsed": false
   },
   "outputs": [
    {
     "name": "stdout",
     "output_type": "stream",
     "text": [
      "\t approximate values are mentioned in the book \n",
      "\n",
      "\t heat removed from colder wall per unit area is : Btu/(hr)*(ft**2)  1826.0\n",
      "\t For perfect black bodies the value was 3500 Btu/(hr)(ft**2) \n"
     ]
    }
   ],
   "source": [
    "print\"\\t approximate values are mentioned in the book \\n\"\n",
    "#given\n",
    "T1=1000+460; # R\n",
    "T2=800+460; # R\n",
    "e1=0.6; # emissivity of hotter wall\n",
    "e2=0.8; # emissivity of colder wall\n",
    "#solution\n",
    "Q=(((0.173)/((1/0.6)+(1/0.8)-1))*((14.6)**4-(12.6)**4)); # using eq.4.26,heat loss per unit area,Btu/(hr)*(ft**2)\n",
    "#results\n",
    "print\"\\t heat removed from colder wall per unit area is : Btu/(hr)*(ft**2) \",round(Q,0)\n",
    "print\"\\t For perfect black bodies the value was 3500 Btu/(hr)(ft**2) \"\n",
    "# end\n"
   ]
  },
  {
   "cell_type": "markdown",
   "metadata": {},
   "source": [
    "## Example 4.3 pgno:78"
   ]
  },
  {
   "cell_type": "code",
   "execution_count": 5,
   "metadata": {
    "collapsed": false
   },
   "outputs": [
    {
     "name": "stdout",
     "output_type": "stream",
     "text": [
      "\t approximate values are mentioned in the book \n",
      "\n",
      "\t area is :  ft**2/lin ft  0.88\n",
      "\t heat loss  is : Btu/(hr)*(lin ft)  52.4\n",
      "\t fictitious film coefficient is :  Btu/(hr)(ft**2)(F)  1.08\n"
     ]
    }
   ],
   "source": [
    "print\"\\t approximate values are mentioned in the book \\n\"\n",
    "#given\n",
    "T1=125.+460.; # R\n",
    "T2=70.+460.; # R\n",
    "e=0.9; # emissivity,using table 4.1B\n",
    "#solution\n",
    "from math import pi\n",
    "A=(pi)*(3.375/12)*(1); # area,ft**2/lin ft\n",
    "print\"\\t area is :  ft**2/lin ft \",round(A,2)\n",
    "Q=(0.9)*(0.88)*(0.173)*((T1/100)**4-(T2/100)**4); # heat loss using eq.4.32,Btu/(hr)*(lin ft)\n",
    "print\"\\t heat loss  is : Btu/(hr)*(lin ft) \",round(Q,1)\n",
    "hr=(Q)/((A)*(T1-T2)); # fictitious film coefficient,using eq 4.33,Btu/(hr)(ft**2)(F)\n",
    "print\"\\t fictitious film coefficient is :  Btu/(hr)(ft**2)(F) \",round(hr,2)\n",
    "#end\n"
   ]
  },
  {
   "cell_type": "markdown",
   "metadata": {},
   "source": [
    "## Example 4.4 pgno:82"
   ]
  },
  {
   "cell_type": "code",
   "execution_count": 4,
   "metadata": {
    "collapsed": false
   },
   "outputs": [
    {
     "name": "stdout",
     "output_type": "stream",
     "text": [
      "\t approximate values are mentioned in the book \n",
      "\n",
      "\t surface area of pipe is :  ft**2/lin ft  0.62\n",
      "\t surface area of duct is :  ft**2/lin ft  4\n",
      "\t The surface of the pipe is not negligible by comparison with that of the duct, and(f) of Table 4.2 applies most nearly\n",
      "\t Fe is :  0.6\n",
      "\t heat loss due to radiation is :  Btu/(hr)*(lin ft)  162.0\n"
     ]
    }
   ],
   "source": [
    "print\"\\t approximate values are mentioned in the book \\n\"\n",
    "#given\n",
    "T1=300+460; # R\n",
    "T2=75+460; #R\n",
    "A1=0.622; # area from table 11 in the appendix A,ft**2/lin ft\n",
    "A2=4*(1*1); # surface area of duct,ft**2/lin ft\n",
    "e1=0.79; # emissivity of oxidized steel from table 4.1\n",
    "e2=0.276; # emissivity of oxidized zinc from table 4.1\n",
    "print\"\\t surface area of pipe is :  ft**2/lin ft \",round(A1,2)\n",
    "print\"\\t surface area of duct is :  ft**2/lin ft \",A2\n",
    "print\"\\t The surface of the pipe is not negligible by comparison with that of the duct, and(f) of Table 4.2 applies most nearly\"\n",
    "Fa=1; # from table 4.2\n",
    "Fe=((1)/((1/e1)+((A1/A2)*((1/e2)-1)))); # from table 4.2\n",
    "print\"\\t Fe is : \",round(Fe,2)\n",
    "Q=(0.173*10**-8)*(Fa)*(Fe)*(A1)*((T1)**4-(T2)**4); # heat loss due to radiation,Btu/(hr)*(lin ft)\n",
    "print\"\\t heat loss due to radiation is :  Btu/(hr)*(lin ft) \",round(Q,0)\n",
    "# end\n"
   ]
  }
 ],
 "metadata": {
  "kernelspec": {
   "display_name": "Python 2",
   "language": "python",
   "name": "python2"
  },
  "language_info": {
   "codemirror_mode": {
    "name": "ipython",
    "version": 2
   },
   "file_extension": ".py",
   "mimetype": "text/x-python",
   "name": "python",
   "nbconvert_exporter": "python",
   "pygments_lexer": "ipython2",
   "version": "2.7.9"
  }
 },
 "nbformat": 4,
 "nbformat_minor": 0
}
