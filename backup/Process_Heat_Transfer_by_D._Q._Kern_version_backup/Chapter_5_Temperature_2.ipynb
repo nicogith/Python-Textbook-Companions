{
 "cells": [
  {
   "cell_type": "markdown",
   "metadata": {},
   "source": [
    "# Chapter 5: Temperature"
   ]
  },
  {
   "cell_type": "markdown",
   "metadata": {},
   "source": [
    "## Example 5.1 pgno:90"
   ]
  },
  {
   "cell_type": "code",
   "execution_count": 1,
   "metadata": {
    "collapsed": false
   },
   "outputs": [
    {
     "name": "stdout",
     "output_type": "stream",
     "text": [
      "\t for counter current flow \n",
      "\t delt1 is :  F  150.0\n",
      "\t delt2 is :  F  100.0\n",
      "\t LMTDc is : F  123.3\n",
      "\t for parallel flow \n",
      "\t delt1 is :  F  200.0\n",
      "\t delt2 is :  F  50.0\n",
      "\t LMTDp is : F  108.0\n"
     ]
    }
   ],
   "source": [
    "#given\n",
    "T1=300.; # hot fluid inlet temperature,F\n",
    "T2=200.; # hot fluid outlet temperature,F\n",
    "t1=100.; # cold fluid inlet temperature,F\n",
    "t2=150.; # cold fluid outlet temperature,F\n",
    "#solution\n",
    "from math import log\n",
    "print\"\\t for counter current flow \"\n",
    "delt1=T1-t2; #F\n",
    "delt2=T2-t1; # F\n",
    "print\"\\t delt1 is :  F \",delt1\n",
    "print\"\\t delt2 is :  F \",delt2\n",
    "LMTDc=((delt2-delt1)/(log(delt2/delt1)));\n",
    "print\"\\t LMTDc is : F \",round(LMTDc,1)\n",
    "print\"\\t for parallel flow \"\n",
    "delt1=T1-t1; # F\n",
    "delt2=T2-t2; # F\n",
    "print\"\\t delt1 is :  F \",delt1\n",
    "print\"\\t delt2 is :  F \",delt2\n",
    "LMTDp=((delt2-delt1)/((log(delt2/delt1))));\n",
    "print\"\\t LMTDp is : F \",round(LMTDp,0)\n",
    "#end\n"
   ]
  },
  {
   "cell_type": "markdown",
   "metadata": {},
   "source": [
    "## Example 5.2 pgno:91"
   ]
  },
  {
   "cell_type": "code",
   "execution_count": 2,
   "metadata": {
    "collapsed": false
   },
   "outputs": [
    {
     "name": "stdout",
     "output_type": "stream",
     "text": [
      "\t for counter current flow \n",
      "\t delt1 is :  F  100.0\n",
      "\t delt2 is :  F  50.0\n",
      "\t LMTD is : F  72.1347520444\n",
      "\t for parallel flow \n",
      "\t delt1 is :  F  150.0\n",
      "\t delt2 is :  F  0.0\n",
      "\t denominator becomes infinity so LMTD becomes Zero \n",
      "\n",
      "\t LMTD is Zero \n",
      "\n"
     ]
    }
   ],
   "source": [
    "\n",
    "#given\n",
    "T1=300.; # hot fluid inlet temperature,F\n",
    "T2=200.; # hot fluid outlet temperature,F\n",
    "t1=150.; # cold fluid inlet temperature,F\n",
    "t2=200.; # cold fluid outlet temperature,F\n",
    "#solution\n",
    "from math import log\n",
    "print\"\\t for counter current flow \"\n",
    "delt1=T1-t2; #F\n",
    "delt2=T2-t1; # F\n",
    "print\"\\t delt1 is :  F \",delt1\n",
    "print\"\\t delt2 is :  F \",delt2\n",
    "LMTD=((delt2-delt1)/((1)*(log(delt2/delt1))))\n",
    "print\"\\t LMTD is : F \",LMTD\n",
    "print\"\\t for parallel flow \"\n",
    "delt1=T1-t1; # F\n",
    "delt2=T2-t2; # F\n",
    "print\"\\t delt1 is :  F \",delt1\n",
    "print\"\\t delt2 is :  F \",delt2\n",
    "if delt2 == 0:\n",
    "    print\"\\t denominator becomes infinity so LMTD becomes Zero \\n\"\n",
    "    print\"\\t LMTD is Zero \\n\"\n",
    "else:\n",
    "    LMTD=((delt2-delt1)/((1)*(log(delt2/delt1))));\n",
    "    print\"\\t LMTD is : F \",LMTD\n",
    "    \n",
    "#end\n"
   ]
  },
  {
   "cell_type": "markdown",
   "metadata": {},
   "source": [
    "## Example 5.3 pgno:91"
   ]
  },
  {
   "cell_type": "code",
   "execution_count": 4,
   "metadata": {
    "collapsed": false
   },
   "outputs": [
    {
     "name": "stdout",
     "output_type": "stream",
     "text": [
      "\t approximate values are mentioned in the book \n",
      "\n",
      "\t for counter current flow \n",
      "\n",
      "\t delth is :  F  25.0\n",
      "\t deltc is :  F  100.0\n",
      "\t LMTD is : F  54.1\n"
     ]
    }
   ],
   "source": [
    "\n",
    "print\"\\t approximate values are mentioned in the book \\n\"\n",
    "#given\n",
    "T1=300.; # hot fluid inlet temperature,F\n",
    "T2=200.; # hot fluid outlet temperature,F\n",
    "t1=100.; # cold fluid inlet temperature,F\n",
    "t2=275.; # cold fluid outlet temperature,F\n",
    "#solution\n",
    "from math import log\n",
    "print\"\\t for counter current flow \\n\"\n",
    "deltc=T2-t1; #F\n",
    "delth=T1-t2; # F\n",
    "print\"\\t delth is :  F \",delth\n",
    "print\"\\t deltc is :  F \",deltc\n",
    "LMTD=((delth-deltc)/((1)*(log(delth/deltc))))\n",
    "print\"\\t LMTD is : F \",round(LMTD,1)\n",
    "#end\n"
   ]
  },
  {
   "cell_type": "markdown",
   "metadata": {},
   "source": [
    "## Example 5.4 pgno:92"
   ]
  },
  {
   "cell_type": "code",
   "execution_count": 5,
   "metadata": {
    "collapsed": false
   },
   "outputs": [
    {
     "name": "stdout",
     "output_type": "stream",
     "text": [
      "\t example 5.4 \n",
      "\n",
      "\t process is isothermal with hot fluid so temperature of hot fluid remains constant \n",
      "\n",
      "\t for counter current flow \n",
      "\n",
      "\t delt1 is :  F  25.0\n",
      "\t delt2 is :  F  200.0\n",
      "\t LMTD is : F  84.1572107185\n",
      "\t for parallel flow \n",
      "\n",
      "\t delt1 is :  F  200.0\n",
      "\t delt2 is :  F  25.0\n",
      "\t LMTD is : F  84.1572107185\n",
      "\t these are identical \n",
      "\n"
     ]
    }
   ],
   "source": [
    "print\"\\t example 5.4 \\n\"\n",
    "print\"\\t process is isothermal with hot fluid so temperature of hot fluid remains constant \\n\"\n",
    "#given\n",
    "T1=300.; # hot fluid inlet temperature,F\n",
    "T2=300.; # hot fluid outlet temperature,F\n",
    "t1=100.; # cold fluid inlet temperature,F\n",
    "t2=275.; # cold fluid outlet temperature,F\n",
    "#solution\n",
    "from math import log\n",
    "print\"\\t for counter current flow \\n\"\n",
    "delt1=T1-t2; #F\n",
    "delt2=T2-t1; # F\n",
    "print\"\\t delt1 is :  F \",delt1\n",
    "print\"\\t delt2 is :  F \",delt2\n",
    "LMTD=((delt2-delt1)/((1)*(log(delt2/delt1))))\n",
    "print\"\\t LMTD is : F \",LMTD\n",
    "print\"\\t for parallel flow \\n\"\n",
    "delt1=T1-t1; # F\n",
    "delt2=T2-t2; # F\n",
    "print\"\\t delt1 is :  F \",delt1\n",
    "print\"\\t delt2 is :  F \",delt2\n",
    "if delt2 == 0:\n",
    "    print\"\\t denominator becomes infinity so LMTD becomes Zero \\n\"\n",
    "    print\"\\t LMTD is Zero \\n\"\n",
    "else:\n",
    "    LMTD=((delt2-delt1)/((1)*(log(delt2/delt1))));\n",
    "    print\"\\t LMTD is : F \",LMTD\n",
    "    \n",
    "print\"\\t these are identical \\n\"\n",
    "#end\n"
   ]
  },
  {
   "cell_type": "markdown",
   "metadata": {},
   "source": [
    "## Example 5.5 pgno:93"
   ]
  },
  {
   "cell_type": "code",
   "execution_count": 7,
   "metadata": {
    "collapsed": false,
    "scrolled": true
   },
   "outputs": [
    {
     "name": "stdout",
     "output_type": "stream",
     "text": [
      "\t example 5.5 \t\n",
      "\t approximate values are mentioned in the book \t\n",
      "\t for inlet \t\n",
      "\t Re is : \t2589.0\n",
      "\t Pr is : \t3.52\n",
      "\t nusselt number is :  \t105.0\n",
      "\t heat transfer coefficient is : 158.0\n",
      "\t for outlet \t\n",
      "\t Re is :  \t3372.0\n",
      "\t Pr is :  \t3.23\n",
      "\t nusselt number is :  \t125.0\n",
      "\t heat transfer coefficient is : 189.0\n"
     ]
    }
   ],
   "source": [
    "print\"\\t example 5.5 \\t\"\n",
    "print\"\\t approximate values are mentioned in the book \\t\"\n",
    "print\"\\t for inlet \\t\"\n",
    "t1=99.1; # temperature of inlet,F\n",
    "t2=129.2; # temperature of outlet,F\n",
    "c=.478; # Btu/(hr)*(ft)*(F/ft)\n",
    "mu=7.139; # lb/(ft)(hr)\n",
    "k=0.078; # Btu/(hr)*(ft)*(F/ft)\n",
    "G=854000; # mass velocity,lb/(ft**2)(hr)\n",
    "D=0.622/12; # diameter,ft\n",
    "Re=((D)*((G)/(mu)))**(0.9);\n",
    "print\"\\t Re is : \\t\",round(Re)\n",
    "Pr=((c)*(mu)/k)**(1./3.); # prandtl number raised to power 1/3\n",
    "print\"\\t Pr is : \\t\",round(Pr,2)\n",
    "Nu=0.0115*(Re)*(Pr); # formula for nusselt number\n",
    "print\"\\t nusselt number is :  \\t\",round(Nu)\n",
    "hi=((k)*(Nu)/(D)); # heat transfer coefficient\n",
    "print\"\\t heat transfer coefficient is :\",round(hi) # caculation mistake in book\n",
    "print\"\\t for outlet \\t\"\n",
    "c=.495; # Btu/(hr)*(ft)*(F/ft)\n",
    "mu=2.20*2.42; # lb/(ft)(hr)\n",
    "k=0.078; # Btu/(hr)*(ft)*(F/ft)\n",
    "G=854000; # mass velocity,lb/(ft**2)(hr)\n",
    "D=0.622/12; # diameter,ft\n",
    "Re=((D)*((G)/(mu)))**(.9); # reynolds number raised to poer 0.9, calculation mistake in book\n",
    "print\"\\t Re is :  \\t\",round(Re)\n",
    "Pr=((c)*(mu)/k)**(1./3.); # prandtl number raised to power 1/3\n",
    "print\"\\t Pr is :  \\t\",round(Pr,2)\n",
    "Nu=0.0115*(Re)*(Pr); # formula for nusselt number\n",
    "print\"\\t nusselt number is :  \\t\",round(Nu)\n",
    "hi=((k)*(Nu)/(D)); # heat transfer coefficient\n",
    "print\"\\t heat transfer coefficient is :\",round(hi) # caculation mistake in book\n",
    "#end\n"
   ]
  },
  {
   "cell_type": "markdown",
   "metadata": {},
   "source": [
    "## Example 5.6 pgno:97"
   ]
  },
  {
   "cell_type": "code",
   "execution_count": 11,
   "metadata": {
    "collapsed": false
   },
   "outputs": [
    {
     "name": "stdout",
     "output_type": "stream",
     "text": [
      "\t example 5.6 \n",
      "\t approximate values are mentioned in the book \n",
      "\t for counter current flow \n",
      "\t temperature difference for crude oil is :  F  100\n",
      "\t temperature difference for gasoline is :  F  40\n",
      "\t The larger value of K. correspQnds to the controlling heat transfer coefficient which is assumed to establish the variation of U with temperature \n",
      "\t deltc is :  F  120\n",
      "\t delth is :  F  180\n",
      "\t ratio of two local temperature difference is :  0.67\n",
      "\t caloric temperature of hot fluid is :  F  242.5\n",
      "\t caloric temperature of cold fluid is : F  97.0\n"
     ]
    }
   ],
   "source": [
    "print\"\\t example 5.6 \"\n",
    "print\"\\t approximate values are mentioned in the book \"\n",
    "T1=300; # hot fluid inlet temperature,F\n",
    "T2=200; # hot fluid outlet temperature,F\n",
    "t1=80; # cold fluid inlet temperature,F\n",
    "t2=120; # cold fluid outlet temperature,F\n",
    "print\"\\t for counter current flow \"\n",
    "delT=T1-T2; # temperature difference for crude oil,F\n",
    "print\"\\t temperature difference for crude oil is :  F \",delT\n",
    "Kc=0.68; # from fig.17\n",
    "delt=t2-t1; # temperature difference for gasoline,F\n",
    "print\"\\t temperature difference for gasoline is :  F \",delt\n",
    "Kc<=0.10; # from fig.17\n",
    "print\"\\t The larger value of K. correspQnds to the controlling heat transfer coefficient which is assumed to establish the variation of U with temperature \"\n",
    "deltc=T2-t1; #F\n",
    "delth=T1-t2; # F\n",
    "print\"\\t deltc is :  F \",deltc\n",
    "print\"\\t delth is :  F \",delth\n",
    "A=120./180.#((deltc)/(delth));\n",
    "print\"\\t ratio of two local temperature difference is : \",round(A,2)\n",
    "Fc=0.425; # from fig.17\n",
    "Tc=((T2)+((Fc)*(T1-T2))); # caloric temperature of hot fluid,F\n",
    "print\"\\t caloric temperature of hot fluid is :  F \",Tc\n",
    "tc=((t1)+((Fc)*(t2-t1))); # caloric temperature of cold fluid,F\n",
    "print\"\\t caloric temperature of cold fluid is : F \",tc\n",
    "# end\n",
    "\n"
   ]
  }
 ],
 "metadata": {
  "kernelspec": {
   "display_name": "Python 2",
   "language": "python",
   "name": "python2"
  },
  "language_info": {
   "codemirror_mode": {
    "name": "ipython",
    "version": 2
   },
   "file_extension": ".py",
   "mimetype": "text/x-python",
   "name": "python",
   "nbconvert_exporter": "python",
   "pygments_lexer": "ipython2",
   "version": "2.7.9"
  }
 },
 "nbformat": 4,
 "nbformat_minor": 0
}
