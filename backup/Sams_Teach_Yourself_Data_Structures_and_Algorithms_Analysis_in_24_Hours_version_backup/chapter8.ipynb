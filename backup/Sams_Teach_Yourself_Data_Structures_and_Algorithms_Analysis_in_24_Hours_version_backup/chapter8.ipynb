{
 "metadata": {
  "name": ""
 },
 "nbformat": 3,
 "nbformat_minor": 0,
 "worksheets": [
  {
   "cells": [
    {
     "cell_type": "heading",
     "level": 1,
     "metadata": {},
     "source": [
      "8: Linked Lists"
     ]
    },
    {
     "cell_type": "heading",
     "level": 2,
     "metadata": {},
     "source": [
      "Example 1: Page 146"
     ]
    },
    {
     "cell_type": "code",
     "collapsed": false,
     "input": [
      "class Link:\n",
      "\tdef __init__(self):\n",
      "\t\tself.iData\t#data\n",
      "\t\tself.dData\t#data\n",
      "\t\tself.pNext\t#next link"
     ],
     "language": "python",
     "metadata": {},
     "outputs": [],
     "prompt_number": 1
    },
    {
     "cell_type": "heading",
     "level": 2,
     "metadata": {},
     "source": [
      "Example 2: Page 147"
     ]
    },
    {
     "cell_type": "code",
     "collapsed": false,
     "input": [
      "class Link:\n",
      "\tdef __init__(self):\n",
      "\t\tself.pItem\t#object holding data\n",
      "\t\tself.pNext\t#next link"
     ],
     "language": "python",
     "metadata": {},
     "outputs": [],
     "prompt_number": 2
    },
    {
     "cell_type": "heading",
     "level": 2,
     "metadata": {},
     "source": [
      "Example 3: Page 150"
     ]
    },
    {
     "cell_type": "code",
     "collapsed": false,
     "input": [
      "class Link:\n",
      "\n",
      "\t#using Id instead of id as id is reserved in Python\n",
      "\tdef __init__(self, Id, dd):\t#special method to create objects\n",
      "\t#with instances customized to a specific initial state\n",
      "\t\tself.iData = Id\t#data item\n",
      "\t\tself.dData = dd\t#data item\n",
      "\t\tself.pNext = None\t#next link in list\n",
      "\t\t\n",
      "\tdef displayLink(self):\t#display ourself {22, 2.99}\n",
      "\t\tprint '{', self.iData, ',', self.dData, '}'\n",
      "#end class Link"
     ],
     "language": "python",
     "metadata": {},
     "outputs": [],
     "prompt_number": 3
    },
    {
     "cell_type": "heading",
     "level": 2,
     "metadata": {},
     "source": [
      "Example 4: Page 151"
     ]
    },
    {
     "cell_type": "code",
     "collapsed": false,
     "input": [
      "class LinkList:\n",
      "\tdef __init__(self):\t#special method to create objects\n",
      "\t#with instances customized to a specific initial state\n",
      "\n",
      "\t\t#as private instance variables don't exist in Python,\n",
      "\t\t#hence using a convention: name prefixed with an underscore, to treat them as non-public part\n",
      "\t\tself._pFirst = None\t#first link on list\n",
      "\t\t#(no links on list yet)\n",
      "\n",
      "\tdef isEmpty(self):\t#true if list is empty\n",
      "\t\treturn self._pFirst == None\n",
      "\n",
      "\t#other methods go here\n",
      "#end class LinkList"
     ],
     "language": "python",
     "metadata": {},
     "outputs": [],
     "prompt_number": 4
    },
    {
     "cell_type": "heading",
     "level": 2,
     "metadata": {},
     "source": [
      "Example 5: Page 152"
     ]
    },
    {
     "cell_type": "code",
     "collapsed": false,
     "input": [
      "#insert at start of list\n",
      "def insertFirst(Id, dd):\n",
      "\t#make new link\n",
      "\tpNewLink = Link(Id, dd)\n",
      "\tpNewLink.pNext = pFirst\t#newLink-->old first\n",
      "\tpFirst = pNewLink\t#first-->newLink"
     ],
     "language": "python",
     "metadata": {},
     "outputs": [],
     "prompt_number": 5
    },
    {
     "cell_type": "heading",
     "level": 2,
     "metadata": {},
     "source": [
      "Example 6: Page 153"
     ]
    },
    {
     "cell_type": "code",
     "collapsed": false,
     "input": [
      "#delete first link\n",
      "def removeFirst():\n",
      "\t#assumes list not empty\n",
      "\tpTemp = pFirst\t#save first\n",
      "\tpFirst = pFirst.pNext\t#unlink it: first-->old next\n",
      "\tdel pTemp\t#delete old first"
     ],
     "language": "python",
     "metadata": {},
     "outputs": [],
     "prompt_number": 6
    },
    {
     "cell_type": "heading",
     "level": 2,
     "metadata": {},
     "source": [
      "Example 7: Page 154"
     ]
    },
    {
     "cell_type": "code",
     "collapsed": false,
     "input": [
      "def displayList():\n",
      "\tprint 'List (first-->last):',\n",
      "\tpCurrent = pFirst\t#start at beginning of list\n",
      "\twhile pCurrent != None:\t#until end of list,\n",
      "\t\tpCurrent.displayLink()\t#print data\n",
      "\t\tpCurrent = pCurrent.pNext\t#move to next link"
     ],
     "language": "python",
     "metadata": {},
     "outputs": [],
     "prompt_number": 7
    },
    {
     "cell_type": "heading",
     "level": 2,
     "metadata": {},
     "source": [
      "Example 8: Page 155"
     ]
    },
    {
     "cell_type": "code",
     "collapsed": false,
     "input": [
      "#demonstrates linked list\n",
      "\n",
      "class Link:\n",
      "\n",
      "\t#using Id instead of id as id is reserved in Python\n",
      "\tdef __init__(self, Id, dd):\t#special method to create objects\n",
      "\t#with instances customized to a specific initial state\n",
      "\t\tself.iData = Id\t#data item\n",
      "\t\tself.dData = dd\t#data item\n",
      "\t\tself.pNext = None\t#next link in list\n",
      "\t\t\n",
      "\tdef displayLink(self):\t#display ourself {22, 2.99}\n",
      "\t\tprint '{', self.iData, ',', self.dData, '}',\n",
      "#end class Link\n",
      "\n",
      "class LinkList:\n",
      "\tdef __init__(self):\t#special method to create objects\n",
      "\t#with instances customized to a specific initial state\n",
      "\n",
      "\t\t#as private instance variables don't exist in Python,\n",
      "\t\t#hence using a convention: name prefixed with an underscore, to treat them as non-public part\n",
      "\t\tself._pFirst = None\t#first link on list\n",
      "\t\t#(no links on list yet)\n",
      "\n",
      "\tdef isEmpty(self):\t#true if list is empty\n",
      "\t\treturn self._pFirst == None\n",
      "\n",
      "\t#insert at start of list\n",
      "\tdef insertFirst(self, Id, dd):\n",
      "\t\t#make new link\n",
      "\t\tpNewLink = Link(Id, dd)\n",
      "\t\tpNewLink.pNext = self._pFirst\t#newLink-->old first\n",
      "\t\tself._pFirst = pNewLink\t#first-->newLink\n",
      "\n",
      "\tdef getFirst(self):\t#return first link\n",
      "\t\treturn self._pFirst\n",
      "\n",
      "\tdef removeFirst(self):\t#delete first link\n",
      "\t\t#assumes list not empty\n",
      "\t\tpTemp = self._pFirst\t#save first\n",
      "\t\tself._pFirst = self._pFirst.pNext\t#unlink it: first-->old next\n",
      "\t\tdel pTemp\t#delete old first\n",
      "\n",
      "\tdef displayList(self):\n",
      "\t\tprint 'List (first-->last):',\n",
      "\t\tpCurrent = self._pFirst\t#start at beginning of list\n",
      "\t\twhile pCurrent:\t#until end of list,\n",
      "\t\t\tpCurrent.displayLink()\t#print data\n",
      "\t\t\tpCurrent = pCurrent.pNext\t#move to next link\n",
      "#end class LinkList\n",
      "\n",
      "theList = LinkList()\t#make new list\n",
      "\n",
      "theList.insertFirst(22, 2.99)\t#insert four items\n",
      "theList.insertFirst(44, 4.99)\n",
      "theList.insertFirst(66, 6.99)\n",
      "theList.insertFirst(88, 8.99)\n",
      "\n",
      "theList.displayList()\t#display list\n",
      "print\n",
      "\n",
      "while not theList.isEmpty():\t#until it's empty,\n",
      "\tpTemp = theList.getFirst()\t#get first link\n",
      "\t\t#display its key\n",
      "\tprint 'Removing link with key', pTemp.iData\n",
      "\ttheList.removeFirst()\t#remove it\n",
      "theList.displayList()\t#display empty list\n",
      "#end main"
     ],
     "language": "python",
     "metadata": {},
     "outputs": [
      {
       "output_type": "stream",
       "stream": "stdout",
       "text": [
        "List (first-->last): { 88 , 8.99 } { 66 , 6.99 } { 44 , 4.99 } { 22 , 2.99 }\n",
        "Removing link with key 88\n",
        "Removing link with key 66\n",
        "Removing link with key 44\n",
        "Removing link with key 22\n",
        "List (first-->last):\n"
       ]
      }
     ],
     "prompt_number": 8
    },
    {
     "cell_type": "heading",
     "level": 2,
     "metadata": {},
     "source": [
      "Example 9: Page 158"
     ]
    },
    {
     "cell_type": "code",
     "collapsed": false,
     "input": [
      "#demonstrates linked list\n",
      "\n",
      "class Link:\n",
      "\n",
      "\t#using Id instead of id as id is reserved in Python\n",
      "\tdef __init__(self, Id, dd):\t#special method to create objects\n",
      "\t#with instances customized to a specific initial state\n",
      "\t\tself.iData = Id\t#data item\n",
      "\t\tself.dData = dd\t#data item\n",
      "\t\tself.pNext = None\t#next link in list\n",
      "\t\t\n",
      "\tdef displayLink(self):\t#display ourself {22, 2.99}\n",
      "\t\tprint '{', self.iData, ',', self.dData, '}',\n",
      "#end class Link\n",
      "\n",
      "class LinkList:\n",
      "\tdef __init__(self):\t#special method to create objects\n",
      "\t#with instances customized to a specific initial state\n",
      "\n",
      "\t\t#as private instance variables don't exist in Python,\n",
      "\t\t#hence using a convention: name prefixed with an underscore, to treat them as non-public part\n",
      "\t\tself._pFirst = None\t#first link on list\n",
      "\t\t#(no links on list yet)\n",
      "\n",
      "\tdef __del__(self):\t#destructor (deletes list)\n",
      "\t\tself.__init__()\n",
      "\n",
      "\tdef insertFirst(self, Id, dd):\n",
      "\t\t#make new link\n",
      "\t\tpNewLink = Link(Id, dd)\n",
      "\t\tpNewLink.pNext = self._pFirst\t#newLink-->old first\n",
      "\t\tself._pFirst = pNewLink\t#first-->newLink\n",
      "\n",
      "\tdef find(self, key):\n",
      "\t\tpCurrent = self._pFirst\n",
      "\t\twhile pCurrent.iData != key:\n",
      "\t\t\tif not pCurrent.pNext:\n",
      "\t\t\t\treturn None\n",
      "\t\t\telse:\n",
      "\t\t\t\tpCurrent = pCurrent.pNext\n",
      "\t\treturn pCurrent\n",
      "\n",
      "\tdef remove(self, key):\n",
      "\t\tpCurrent = self._pFirst\n",
      "\t\tpPrevious = self._pFirst\n",
      "\t\twhile pCurrent.iData != key:\n",
      "\t\t\tif not pCurrent:\n",
      "\t\t\t\treturn False\n",
      "\t\t\telse:\n",
      "\t\t\t\tpPrevious = pCurrent\n",
      "\t\t\t\tpCurrent = pCurrent.pNext\n",
      "\t\tif pCurrent == self._pFirst:\n",
      "\t\t\tself._pFirst = self._pFirst.pNext\n",
      "\t\telse:\n",
      "\t\t\tpPrevious.pNext = pCurrent.pNext\n",
      "\t\tdel pCurrent\n",
      "\t\treturn True\n",
      "\n",
      "\tdef displayList(self):\n",
      "\t\tprint 'List (first-->last):',\n",
      "\t\tpCurrent = self._pFirst\t#start at beginning of list\n",
      "\t\twhile pCurrent:\t#until end of list,\n",
      "\t\t\tpCurrent.displayLink()\t#print data\n",
      "\t\t\tpCurrent = pCurrent.pNext\t#move to next link\n",
      "#end class LinkList\n",
      "\n",
      "theList = LinkList()\t#make new list\n",
      "\n",
      "theList.insertFirst(22, 2.99)\t#insert four items\n",
      "theList.insertFirst(44, 4.99)\n",
      "theList.insertFirst(66, 6.99)\n",
      "theList.insertFirst(88, 8.99)\n",
      "\n",
      "theList.displayList()\t#display list\n",
      "print\n",
      "\n",
      "findKey = 44\n",
      "pFind = theList.find(findKey)\n",
      "if pFind:\n",
      "\tprint 'Found link with key', pFind.iData\n",
      "else:\n",
      "\tprint \"Can't find link\"\n",
      "\n",
      "remKey = 66\n",
      "remOK = theList.remove(remKey)\n",
      "if remOK:\n",
      "\tprint 'Removed link with key', remKey\n",
      "else:\n",
      "\tprint \"Can't remove link\"\n",
      "\n",
      "theList.displayList()\n",
      "#end"
     ],
     "language": "python",
     "metadata": {},
     "outputs": [
      {
       "output_type": "stream",
       "stream": "stdout",
       "text": [
        "List (first-->last): { 88 , 8.99 } { 66 , 6.99 } { 44 , 4.99 } { 22 , 2.99 }\n",
        "Found link with key 44\n",
        "Removed link with key 66\n",
        "List (first-->last): { 88 , 8.99 } { 44 , 4.99 } { 22 , 2.99 }\n"
       ]
      }
     ],
     "prompt_number": 9
    }
   ],
   "metadata": {}
  }
 ]
}