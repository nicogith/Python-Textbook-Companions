{
 "metadata": {
  "name": ""
 },
 "nbformat": 3,
 "nbformat_minor": 0,
 "worksheets": [
  {
   "cells": [
    {
     "cell_type": "heading",
     "level": 1,
     "metadata": {},
     "source": [
      "13: Quicksort"
     ]
    },
    {
     "cell_type": "heading",
     "level": 2,
     "metadata": {},
     "source": [
      "Example 1: Page 260"
     ]
    },
    {
     "cell_type": "code",
     "collapsed": false,
     "input": [
      "#demonstrates partitioning an array\n",
      "from random import randrange\t#for random numbers\n",
      "\n",
      "class ArrayPar:\n",
      "\tdef __init__(self):\t#special method to create objects\n",
      "\t#with instances customized to a specific initial state\n",
      "\n",
      "\t\t#as private instance variables don't exist in Python,\n",
      "\t\t#hence using a convention: name prefixed with an underscore, to treat them as non-public part\n",
      "\t\tself._theVect = []\t#list\n",
      "\n",
      "\tdef insert(self, value):\t#put element into array\n",
      "\t\tself._theVect.append(value)\t#insert it\n",
      "\n",
      "\tdef getSize(self):\t#return number of items\n",
      "\t\treturn len(self._theVect)\n",
      "\n",
      "\tdef display(self):\t#display array contents\n",
      "\t\tprint 'A=', self._theVect\t#display it\n",
      "\n",
      "\t\t#partition a range\n",
      "\tdef partitionIt(self, left, right, pivot):\n",
      "\t\tleftMark = left - 1#right of first elem\n",
      "\t\trightMark = right + 1#left of pivot\n",
      "\t\twhile True:\n",
      "\t\t\tleftMark += 1\n",
      "\t\t\twhile leftMark < right and self._theVect[leftMark] < pivot:\t#find bigger item\n",
      "\t\t\t\t\tleftMark += 1\n",
      "\n",
      "\t\t\trightMark -= 1\n",
      "\t\t\twhile rightMark > left and self._theVect[rightMark] > pivot:\t#find smaller item\n",
      "\t\t\t\t\trightMark -= 1\n",
      "\t\t\tif leftMark >= rightMark:\t#if markers cross,\n",
      "\t\t\t\tbreak\t#partition done\n",
      "\t\t\telse:\t#not crossed, so\n",
      "\t\t\t\tself.swap(leftMark, rightMark)\t#swap elements\n",
      "\t\t#end while(True)\n",
      "\t\treturn leftMark\t#return partition\n",
      "\t#end paritionIt()\n",
      "\n",
      "\tdef swap(self, dex1, dex2):\t#swap two elements\n",
      "\t\tself._theVect[dex1], self._theVect[dex2] = self._theVect[dex2], self._theVect[dex1]\n",
      "\t#end swap()\n",
      "#end class ArrayPar\n",
      "\n",
      "arr = ArrayPar()\t#create the array\n",
      "\n",
      "for j in xrange(16):\t#fill array with\n",
      "\tn = randrange(0, 200)\t#random numbers\n",
      "\tarr.insert(n)\n",
      "arr.display()\t#display unsorted array\n",
      "\n",
      "pivot = 99\t#pivot value\n",
      "print 'Pivot is', pivot,\n",
      "size = arr.getSize()\n",
      "\t#partition array\n",
      "partDex = arr.partitionIt(0, size - 1, pivot)\n",
      "\n",
      "print 'Partition is at index', partDex\n",
      "arr.display()\t#display partitioned array\n",
      "#end"
     ],
     "language": "python",
     "metadata": {},
     "outputs": [
      {
       "output_type": "stream",
       "stream": "stdout",
       "text": [
        "A= [196, 174, 16, 52, 180, 12, 73, 116, 188, 4, 95, 132, 107, 165, 137, 59]\n",
        "Pivot is 99 Partition is at index 7\n",
        "A= [59, 95, 16, 52, 4, 12, 73, 116, 188, 180, 174, 132, 107, 165, 137, 196]\n"
       ]
      }
     ],
     "prompt_number": 1
    },
    {
     "cell_type": "heading",
     "level": 2,
     "metadata": {},
     "source": [
      "Example 2: Page 265"
     ]
    },
    {
     "cell_type": "code",
     "collapsed": false,
     "input": [
      "def recQuickSort(left, right):\n",
      "\tif right-left <= 0:\t#if size is 1,\n",
      "\t\treturn\t#it's already sorted\n",
      "\telse:\t#size is 2 or larger\n",
      "\t#partition range\n",
      "\t\tpartition = partitionIt(left, right)\n",
      "\t\trecQuickSort(left, partition-1)\t#sort left side\n",
      "\t\trecQuickSort(partition+1, right)\t#sort right side"
     ],
     "language": "python",
     "metadata": {},
     "outputs": [],
     "prompt_number": 2
    },
    {
     "cell_type": "heading",
     "level": 2,
     "metadata": {},
     "source": [
      "Example 3: Page 269"
     ]
    },
    {
     "cell_type": "code",
     "collapsed": false,
     "input": [
      "def recQuickSort(left, right):\n",
      "\tif right-left <= 0:\t#if size <= 1,\n",
      "\t\treturn\t# already sorted\n",
      "\telse:\t#size is 2 or larger\n",
      "\t\tpivot = theArray[right]\t#rightmost item\n",
      "\t#partition range\n",
      "\t\tpartition = partitionIt(left, right, pivot)\n",
      "\t\trecQuickSort(left, partition-1)\t#sort left side\n",
      "\t\trecQuickSort(partition+1, right)\t#sort right side\n",
      "#\tend recQuickSort()"
     ],
     "language": "python",
     "metadata": {},
     "outputs": [],
     "prompt_number": 3
    },
    {
     "cell_type": "heading",
     "level": 2,
     "metadata": {},
     "source": [
      "Example 4: Page 270"
     ]
    },
    {
     "cell_type": "code",
     "collapsed": false,
     "input": [
      "#demonstrates simple version of quick sort\n",
      "from random import randrange\t#for random numbers\n",
      "\n",
      "class ArrayIns:\n",
      "\tdef __init__(self):\t#special method to create objects\n",
      "\t#with instances customized to a specific initial state\n",
      "\n",
      "\t\t#as private instance variables don't exist in Python,\n",
      "\t\t#hence using a convention: name prefixed with an underscore, to treat them as non-public part\n",
      "\t\tself._theVect = []\t#list\n",
      "\n",
      "\tdef insert(self, value):\t#put element into array\n",
      "\t\tself._theVect.append(value)\t#insert it\n",
      "\n",
      "\tdef display(self):\t#displays array contents\n",
      "\t\tprint 'A=', self._theVect\t#display it\n",
      "\n",
      "\tdef quickSort(self):\t#sort array\n",
      "\t\tself.recQuickSort(0, len(self._theVect) - 1)\t#call recursive sort\n",
      "\n",
      "\tdef recQuickSort(self, left, right):\t#recursive sort\n",
      "\t\tif right-left <= 0:\t#if size <= 1,\n",
      "\t\t\treturn\t# already sorted\n",
      "\t\telse:\t#size is 2 or larger\n",
      "\t\t\tpivot = self._theVect[right]\t#rightmost item\n",
      "\t\t#partition range\n",
      "\t\t\tpartition = self.partitionIt(left, right, pivot)\n",
      "\t\t\tself.recQuickSort(left, partition-1)\t#sort left side\n",
      "\t\t\tself.recQuickSort(partition+1, right)\t#sort right side\n",
      "\t#\tend recQuickSort()\n",
      "\n",
      "\tdef partitionIt(self, left, right, pivot):\n",
      "\t\tleftMark = left-1\t#left (after+=)\n",
      "\t\trightMark = right#right-1 (after -=)\n",
      "\t\twhile True:\n",
      "\t\t\t#find bigger item\n",
      "\t\t\tleftMark += 1\n",
      "\t\t\twhile self._theVect[leftMark] < pivot:\n",
      "\t\t\t\t\tleftMark += 1\n",
      "\t\t\t\t\t#find smaller item\n",
      "\t\t\trightMark -= 1\n",
      "\t\t\twhile rightMark > 0 and self._theVect[rightMark] > pivot:\n",
      "\t\t\t\t\trightMark -= 1\n",
      "\n",
      "\t\t\tif leftMark >= rightMark:\t#if pointers cross,\n",
      "\t\t\t\tbreak\t#partition done\n",
      "\t\t\telse:\t#not crossed, so\n",
      "\t\t\t\tself.swap(leftMark, rightMark)\t#swap elements\n",
      "\t\t#end while(True)\n",
      "\t\tself.swap(leftMark, right)\t#restore pivot\n",
      "\t\treturn leftMark\t#return pivot location\n",
      "\t#end paritionIt()\n",
      "\n",
      "\tdef swap(self, dex1, dex2):\t#swap two elements\n",
      "\t\tself._theVect[dex1], self._theVect[dex2] = self._theVect[dex2], self._theVect[dex1]\n",
      "\t#end swap()\n",
      "#end class ArrayIns\n",
      "\n",
      "arr = ArrayIns()\t#create array\n",
      "\n",
      "for j in xrange(16):\t#fill array with\n",
      "\tn = randrange(0, 100)\t#random numbers\n",
      "\tarr.insert(n)\n",
      "arr.display()\t#display items\n",
      "arr.quickSort()\t#quicksort them\n",
      "arr.display()\t#display them again\n",
      "#end"
     ],
     "language": "python",
     "metadata": {},
     "outputs": [
      {
       "output_type": "stream",
       "stream": "stdout",
       "text": [
        "A= [6, 11, 6, 20, 39, 51, 70, 24, 13, 31, 55, 74, 96, 18, 70, 68]\n",
        "A= [6, 6, 11, 13, 18, 20, 24, 31, 39, 51, 55, 68, 70, 70, 74, 96]\n"
       ]
      }
     ],
     "prompt_number": 4
    }
   ],
   "metadata": {}
  }
 ]
}