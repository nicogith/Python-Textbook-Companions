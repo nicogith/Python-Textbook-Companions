{
 "metadata": {
  "name": ""
 },
 "nbformat": 3,
 "nbformat_minor": 0,
 "worksheets": [
  {
   "cells": [
    {
     "cell_type": "heading",
     "level": 1,
     "metadata": {},
     "source": [
      "6: Stacks"
     ]
    },
    {
     "cell_type": "heading",
     "level": 2,
     "metadata": {},
     "source": [
      "Example 1: Page 113"
     ]
    },
    {
     "cell_type": "code",
     "collapsed": false,
     "input": [
      "#demonstrates stacks\n",
      "\n",
      "class StackX:\n",
      "\tdef __init__(self):\t#special method to create objects\n",
      "\t#with instances customized to a specific initial state\n",
      "\n",
      "\t\t#since private instance variables don't exist in Python,\n",
      "\t\t#hence using a convention: name prefixed with an underscore, to treat them as non-public part\n",
      "\t\tself._stackVect = []\t#stack list\n",
      "\n",
      "\tdef push(self, j):\t#put item on top\n",
      "\t\tself._stackVect.append(j)\t#insert item\n",
      "\n",
      "\tdef pop(self):\t#take item from top\n",
      "\t\treturn self._stackVect.pop()\t#access item\n",
      "\n",
      "\tdef peek(self):\t#peek at top of stack\n",
      "\t\treturn self._stackVect[-1]\n",
      "\n",
      "\tdef isEmpty(self):\t#true if stack is empty\n",
      "\t\treturn not self._stackVect\n",
      "#end class StackX\n",
      "\n",
      "theStack = StackX()\t#make new stack\n",
      "theStack.push(20)\t#push items onto stack\n",
      "theStack.push(40)\n",
      "theStack.push(60)\n",
      "theStack.push(80)\n",
      "\n",
      "while not theStack.isEmpty():\t#until it's empty,\n",
      "\tvalue = theStack.pop()\t#delete item from stack\n",
      "\tprint value,\t#display it\n",
      "#end"
     ],
     "language": "python",
     "metadata": {},
     "outputs": [
      {
       "output_type": "stream",
       "stream": "stdout",
       "text": [
        "80 60 40 20\n"
       ]
      }
     ],
     "prompt_number": 1
    },
    {
     "cell_type": "heading",
     "level": 2,
     "metadata": {},
     "source": [
      "Example 2: Page 116"
     ]
    },
    {
     "cell_type": "code",
     "collapsed": false,
     "input": [
      "#stack used to reverse a word\n",
      "\n",
      "class StackX:\n",
      "\tdef __init__(self):\t#special method to create objects\n",
      "\t#with instances customized to a specific initial state\n",
      "\n",
      "\t\t#since private instance variables don't exist in Python,\n",
      "\t\t#hence using a convention: name prefixed with an underscore, to treat them as non-public part\n",
      "\t\tself._stackVect = []\t#list used as stack\n",
      "\n",
      "\tdef push(self, j):\t#put item on top of stack\n",
      "\t\tself._stackVect.append(j)\n",
      "\n",
      "\tdef pop(self):\t#take item from top of stack\n",
      "\t\treturn self._stackVect.pop()\n",
      "\n",
      "\tdef peek(self):\t#peek at top of stack\n",
      "\t\treturn self._stackVect[-1]\n",
      "\n",
      "\tdef isEmpty(self):\t#true if stack is empty\n",
      "\t\treturn not self._stackVect\n",
      "#end class StackX\n",
      "\n",
      "class Reverser:\n",
      "\t#since private instance variables don't exist in Python,\n",
      "\t#hence using a convention: name prefixed with an underscore, to treat them as non-public part\n",
      "\t\n",
      "\t#using In as in is reserved in Python\n",
      "\tdef __init__(self, In):\t#special method to create objects\n",
      "\t#with instances customized to a specific initial state\n",
      "\t\tself._input = In#input string\n",
      "\t\tself._output = ''\t#output string\n",
      "\n",
      "\tdef doRev(self):\t#reverse the word\n",
      "\t\ttheStack = StackX()\t#make stack\n",
      "\n",
      "\t\tfor j in self._input:\t#get a char from _input\n",
      "\t\t\ttheStack.push(j)\t#push it\n",
      "\t\twhile not theStack.isEmpty():\n",
      "\t\t\tch = theStack.pop()\t#pop a char,\n",
      "\t\t\tself._output += ch#append to _output\n",
      "\t\treturn self._output\n",
      "\t#end doRev()\n",
      "#end class Reverser\n",
      "\n",
      "while True:\n",
      "\t#usin Input as input is reserved in Python\n",
      "\tInput = raw_input('Enter a word: ')\t#read a word from kbd\n",
      "\tif len(Input) < 2:\t#quit if one character\n",
      "\t\tbreak\n",
      "\t\t#make a Reverser\n",
      "\ttheReverser = Reverser(Input)\n",
      "\toutput = theReverser.doRev()\t#use it\n",
      "\tprint 'Reversed:', output\n",
      "#end while\n",
      "#end"
     ],
     "language": "python",
     "metadata": {},
     "outputs": [
      {
       "name": "stdout",
       "output_type": "stream",
       "stream": "stdout",
       "text": [
        "Enter a word: part\n"
       ]
      },
      {
       "output_type": "stream",
       "stream": "stdout",
       "text": [
        "Reversed: trap\n"
       ]
      },
      {
       "name": "stdout",
       "output_type": "stream",
       "stream": "stdout",
       "text": [
        "Enter a word: \n"
       ]
      }
     ],
     "prompt_number": 1
    },
    {
     "cell_type": "heading",
     "level": 2,
     "metadata": {},
     "source": [
      "Example 3: Page 120"
     ]
    },
    {
     "cell_type": "code",
     "collapsed": false,
     "input": [
      "#stacks used to check matching brackets\n",
      "\n",
      "class StackX:\n",
      "\tdef __init__(self):\t#special method to create objects\n",
      "\t#with instances customized to a specific initial state\n",
      "\n",
      "\t\t#since private instance variables don't exist in Python,\n",
      "\t\t#hence using a convention: name prefixed with an underscore, to treat them as non-public part\n",
      "\t\tself._stackVect = []\t#list used as stack\n",
      "\n",
      "\tdef push(self, j):\t#put item on top of stack\n",
      "\t\tself._stackVect.append(j)\n",
      "\n",
      "\tdef pop(self):\t#take item from top of stack\n",
      "\t\treturn self._stackVect.pop()\n",
      "\n",
      "\tdef peek(self):\t#peek at top of stack\n",
      "\t\treturn self._stackVect[-1]\n",
      "\n",
      "\tdef isEmpty(self):\t#true if stack is empty\n",
      "\t\treturn not self._stackVect\n",
      "#end class StackX\n",
      "\n",
      "class BracketChecker:\n",
      "\t#using In as in is reserved in Python\n",
      "\tdef __init__(self, In):#special method to create objects\n",
      "\t#with instances customized to a specific initial state\n",
      "\n",
      "\t\t#since private instance variables don't exist in Python,\n",
      "\t\t#hence using a convention: name prefixed with an underscore, to treat them as non-public part\n",
      "\t\tself._input = In#input string\n",
      "\n",
      "\tdef check(self):\n",
      "\t\ttheStack = StackX()\t#make stack\n",
      "\t\tisError = False\t#error flag\n",
      "\n",
      "\t\tfor j, ch in enumerate(self._input):\t#get chars in turn\n",
      "\t\t\t#since Python does not support switch, using if else ladder instead\n",
      "\t\t\tif ch in '{[(':\t#opening symbols\n",
      "\t\t\t\ttheStack.push(ch)\t#push them\n",
      "\n",
      "\t\t\telif ch in '}])':\t#closing symbols\n",
      "\t\t\t\tif not theStack.isEmpty():\t#if stack not empty,\n",
      "\t\t\t\t\tchx = theStack.pop()\t#pop and check\n",
      "\t\t\t\t\tif (ch == '}' and chx != '{') or (ch == ']' and chx != '[') or (ch == ')' and chx != '('):\n",
      "\t\t\t\t\t\tisError = True\n",
      "\t\t\t\t\t\tprint 'Mismatched delimeter:', ch, 'at', j\n",
      "\t\t\t\telse:\t#prematurely empty\n",
      "\t\t\t\t\tisError = True\n",
      "\t\t\t\t\tprint 'Misplaced delimeter:', ch, 'at', j\n",
      "\t\t\t#no action on other characters\n",
      "\t\t\t#end if else ladder\n",
      "\t\t#end for\n",
      "\t\t#at this point, all characters have been processed\n",
      "\t\tif not theStack.isEmpty():\n",
      "\t\t\tprint 'Missing right delimeter'\n",
      "\t\telif not isError:\n",
      "\t\t\tprint 'OK'\n",
      "\t#end check()\n",
      "\n",
      "#end clas BracketChecker\n",
      "\n",
      "while True:\n",
      "\t#using Input as input is reserved in Python\n",
      "\tInput = raw_input('Enter string containing delimiters (no whitespace): ')\t#read a string from kbd\n",
      "\tif len(Input) == 1:\t#quit if 'q', etc.\n",
      "\t\tbreak\n",
      "\t\t#make a BracketChecker\n",
      "\ttheChecker = BracketChecker(Input)\n",
      "\ttheChecker.check()\t#check brackets\n",
      "#end while\n",
      "#end"
     ],
     "language": "python",
     "metadata": {},
     "outputs": [
      {
       "name": "stdout",
       "output_type": "stream",
       "stream": "stdout",
       "text": [
        "Enter string containing delimiters (no whitespace): a{b(c]d}e\n"
       ]
      },
      {
       "output_type": "stream",
       "stream": "stdout",
       "text": [
        "Mismatched delimeter: ] at 5\n"
       ]
      },
      {
       "name": "stdout",
       "output_type": "stream",
       "stream": "stdout",
       "text": [
        "Enter string containing delimiters (no whitespace): q\n"
       ]
      }
     ],
     "prompt_number": 3
    }
   ],
   "metadata": {}
  }
 ]
}