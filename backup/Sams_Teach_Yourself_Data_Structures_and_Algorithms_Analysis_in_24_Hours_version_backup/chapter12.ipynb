{
 "metadata": {
  "name": ""
 },
 "nbformat": 3,
 "nbformat_minor": 0,
 "worksheets": [
  {
   "cells": [
    {
     "cell_type": "heading",
     "level": 1,
     "metadata": {},
     "source": [
      "12: Applied Recursion"
     ]
    },
    {
     "cell_type": "heading",
     "level": 2,
     "metadata": {},
     "source": [
      "Example 1: Page 238"
     ]
    },
    {
     "cell_type": "code",
     "collapsed": false,
     "input": [
      "#solves Towers of Hanoi puzzle\n",
      "\n",
      "def doTowers(topN, src, inter, dest):\n",
      "\tif topN == 1:\t#display\n",
      "\t\tprint 'Disk 1 from', src, 'to', dest\n",
      "\telse:\n",
      "\t\tdoTowers(topN - 1, src, dest, inter)\t#src to inter\n",
      "\n",
      "\t\tprint 'Disk', topN, 'from', src, 'to', dest\t#display\n",
      "\n",
      "\t\tdoTowers(topN - 1, inter, src, dest)\t#inter to dest\n",
      "\n",
      "nDisks = int(raw_input('Enter number of disks: '))\t#get # of disks\n",
      "doTowers(nDisks, 'A', 'B', 'C')\t#solve iter"
     ],
     "language": "python",
     "metadata": {},
     "outputs": [
      {
       "name": "stdout",
       "output_type": "stream",
       "stream": "stdout",
       "text": [
        "Enter number of disks: 3\n"
       ]
      },
      {
       "output_type": "stream",
       "stream": "stdout",
       "text": [
        "Disk 1 from A to C\n",
        "Disk 2 from A to B\n",
        "Disk 1 from C to B\n",
        "Disk 3 from A to C\n",
        "Disk 1 from B to A\n",
        "Disk 2 from B to C\n",
        "Disk 1 from A to C\n"
       ]
      }
     ],
     "prompt_number": 1
    },
    {
     "cell_type": "heading",
     "level": 2,
     "metadata": {},
     "source": [
      "Example 2: Page 242"
     ]
    },
    {
     "cell_type": "code",
     "collapsed": false,
     "input": [
      "#demonstrates merging two arrays into a third\n",
      "from pylab import array\n",
      "\n",
      "def merge(arrayA, sizeA, arrayB, sizeB, arrayC):\t#merge A and B into C\n",
      "\taDex = 0\n",
      "\tbDex = 0\n",
      "\tcDex = 0\n",
      "\n",
      "\twhile aDex < sizeA and bDex < sizeB:\t#neither array empty\n",
      "\t\tif arrayA[aDex] < arrayB[bDex]:\n",
      "\t\t\tarrayC[cDex] = arrayA[aDex]\n",
      "\t\t\tcDex += 1\n",
      "\t\t\taDex += 1\n",
      "\t\telse:\n",
      "\t\t\tarrayC[cDex] = arrayB[bDex]\n",
      "\t\t\tcDex += 1\n",
      "\t\t\tbDex += 1\n",
      "\n",
      "\twhile aDex < sizeA:\t#arrayB is empty,\n",
      "\t\tarrayC[cDex] = arrayA[aDex]\t#but arrayA isn't\n",
      "\t\tcDex += 1\n",
      "\t\taDex += 1\n",
      "\n",
      "\twhile bDex < sizeB:\t#arrayA is empty,\n",
      "\t\tarrayC[cDex] = arrayB[bDex]\t#but arrayB isn't\n",
      "\t\tcDex += 1\n",
      "\t\tbDex += 1\n",
      "\n",
      "def display(theArray, size):\t#display array\n",
      "\tprint theArray\n",
      "\n",
      "arrayA = array([23, 47, 81, 95])\t#source A\n",
      "arrayB = array([7, 14, 39, 55, 62, 74])\t#source B\n",
      "arrayC = array([None] * 10)\t#destination\n",
      "\n",
      "merge(arrayA, 4, arrayB, 6, arrayC)\t#merge A+B-->C\n",
      "display(arrayC, 10)\t#display result\n",
      "#end"
     ],
     "language": "python",
     "metadata": {},
     "outputs": [
      {
       "output_type": "stream",
       "stream": "stdout",
       "text": [
        "[7 14 23 39 47 55 62 74 81 95]\n"
       ]
      }
     ],
     "prompt_number": 2
    },
    {
     "cell_type": "heading",
     "level": 2,
     "metadata": {},
     "source": [
      "Example 3: Page 247"
     ]
    },
    {
     "cell_type": "code",
     "collapsed": false,
     "input": [
      "def recMergeSort(workSpace, lowerBound, upperBound):\n",
      "\tif lowerBound == upperBound:\t#if range is 1,\n",
      "\n",
      "\t\treturn\t#no use sorting\n",
      "\telse:\n",
      "\t\t#find midpoint\n",
      "\t\tmid = (lowerBound + upperBound) / 2\n",
      "\t\t#sort low half\n",
      "\t\trecMergeSort(workSpace, lowerBound, mid)\n",
      "\t\t#sort high half\n",
      "\t\trecMergeSort(workSpace, mid + 1, upperBound)\n",
      "\t\t#merge them\n",
      "\t\tmerge(workSpace, lowerBound, mid + 1, upperBound)\n",
      "\t#end else\n",
      "#end recMergeSort()"
     ],
     "language": "python",
     "metadata": {},
     "outputs": [],
     "prompt_number": 3
    },
    {
     "cell_type": "heading",
     "level": 2,
     "metadata": {},
     "source": [
      "Example 4: Page 248"
     ]
    },
    {
     "cell_type": "code",
     "collapsed": false,
     "input": [
      "#demonstrates recursive merge sort\n",
      "from pylab import array\n",
      "\n",
      "class DArray:\n",
      "\tdef __init__(self, max):\t#special method to create objects\n",
      "\t#with instances customized to a specific initial state\n",
      "\n",
      "\t\t#as private instance variables don't exist in Python,\n",
      "\t\t#hence using a convention: name prefixed with an underscore, to treat them as non-public part\n",
      "\t\tself._theVect = array([None] * max)\t#array of Nones\n",
      "\t\tself._nElems = 0\t#number of data items\n",
      "\n",
      "\tdef _recMergeSort(self, workSpace, lowerBound, upperBound):\n",
      "\t\tif lowerBound == upperBound:\t#if range is 1,\n",
      "\t\t\treturn\t#no use sorting\n",
      "\t\telse:\n",
      "\t\t\t#find midpoint\n",
      "\t\t\tmid = (lowerBound + upperBound) / 2\n",
      "\t\t\t#sort low half\n",
      "\t\t\tself._recMergeSort(workSpace, lowerBound, mid)\n",
      "\t\t\t#sort high half\n",
      "\t\t\tself._recMergeSort(workSpace, mid + 1, upperBound)\n",
      "\t\t\t#merge them\n",
      "\t\t\tself._merge(workSpace, lowerBound, mid + 1, upperBound)\n",
      "\t\t#end else\n",
      "\t#end _recMergeSort()\n",
      "\n",
      "\tdef _merge(self, workSpace, lowPtr, highPtr, upperBound):\n",
      "\t\tj = 0\t#workspace index\n",
      "\t\tlowerBound = lowPtr\n",
      "\t\tmid = highPtr - 1\n",
      "\t\tn = upperBound - lowerBound + 1## of items\n",
      "\n",
      "\t\twhile lowPtr <= mid and highPtr <= upperBound:\n",
      "\t\t\tif self._theVect[lowPtr] < self._theVect[highPtr]:\n",
      "\t\t\t\tworkSpace[j] = self._theVect[lowPtr]\n",
      "\t\t\t\tj += 1\n",
      "\t\t\t\tlowPtr += 1\n",
      "\t\t\telse:\n",
      "\t\t\t\tworkSpace[j] = self._theVect[highPtr]\n",
      "\t\t\t\tj += 1\n",
      "\t\t\t\thighPtr += 1\n",
      "\n",
      "\t\twhile lowPtr <= mid:\n",
      "\t\t\tworkSpace[j] = self._theVect[lowPtr]\n",
      "\t\t\tj += 1\n",
      "\t\t\tlowPtr += 1\n",
      "\n",
      "\t\twhile highPtr <= upperBound:\n",
      "\t\t\tworkSpace[j] = self._theVect[highPtr]\n",
      "\t\t\tj += 1\n",
      "\t\t\thighPtr += 1\n",
      "\n",
      "\t\tfor j in xrange(n):\n",
      "\t\t\tself._theVect[lowerBound + j] = workSpace[j]\n",
      "\t#end _merge()\n",
      "\n",
      "\tdef insert(self, value):\t#put element into array\n",
      "\t\tself._theVect[self._nElems] = value\t#insert it\n",
      "\t\tself._nElems += 1#increment size\n",
      "\n",
      "\tdef display(self):\t#display array contents\n",
      "\t\tfor j in xrange(self._nElems):\t#for each element,\n",
      "\t\t\tprint self._theVect[j],\t#display it\n",
      "\t\tprint\n",
      "\n",
      "\tdef mergeSort(self):\t#called by main()\n",
      "\t\t#provides workspace\n",
      "\t\tworkSpace = array([None] * self._nElems)\n",
      "\t\tself._recMergeSort(workSpace, 0, self._nElems - 1)\n",
      "#end class DArray\n",
      "\n",
      "maxSize = 100\t#array size\n",
      "arr = DArray(maxSize)\t#create 'array'\n",
      "\n",
      "arr.insert(64)\t#insert items\n",
      "arr.insert(21)\n",
      "arr.insert(33)\n",
      "arr.insert(70)\n",
      "arr.insert(12)\n",
      "arr.insert(85)\n",
      "arr.insert(44)\n",
      "arr.insert(3)\n",
      "arr.insert(99)\n",
      "arr.insert(0)\n",
      "arr.insert(108)\n",
      "arr.insert(36)\n",
      "\n",
      "arr.display()\t#display items\n",
      "arr.mergeSort()\t#merge sort the array\n",
      "arr.display()\t#display items again\n",
      "#end"
     ],
     "language": "python",
     "metadata": {},
     "outputs": [
      {
       "output_type": "stream",
       "stream": "stdout",
       "text": [
        "64 21 33 70 12 85 44 3 99 0 108 36\n",
        "0 3 12 21 33 36 44 64 70 85 99 108\n"
       ]
      }
     ],
     "prompt_number": 4
    }
   ],
   "metadata": {}
  }
 ]
}