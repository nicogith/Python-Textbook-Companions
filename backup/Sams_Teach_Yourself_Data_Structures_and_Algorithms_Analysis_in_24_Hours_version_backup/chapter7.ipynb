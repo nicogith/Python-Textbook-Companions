{
 "metadata": {
  "name": ""
 },
 "nbformat": 3,
 "nbformat_minor": 0,
 "worksheets": [
  {
   "cells": [
    {
     "cell_type": "heading",
     "level": 1,
     "metadata": {},
     "source": [
      "7: Queues and Priority Queues"
     ]
    },
    {
     "cell_type": "heading",
     "level": 2,
     "metadata": {},
     "source": [
      "Example 1: Page 132"
     ]
    },
    {
     "cell_type": "code",
     "collapsed": false,
     "input": [
      "#demonstrates queue\n",
      "# it's better to reuse the code available by the Python team to create queue using Queue or collections.dequeue,\n",
      "#but as we have to create a manual Queue data strucutre, thus using list instead\n",
      "\n",
      "class Queue:\n",
      "\tdef __init__(self, s):\t#special method to create objects\n",
      "\t#with instances customized to a specific initial state\n",
      "\n",
      "\t\t#since private instance variables don't exist in Python,\n",
      "\t\t#hence using a convention: name prefixed with an underscore, to treat them as non-public part\n",
      "\t\tself._maxSize = s\n",
      "\t\tself._front = 0\n",
      "\t\tself._rear = -1\n",
      "\t\tself._nItems = 0\n",
      "\t\tself._queVect = [None] * self._maxSize\n",
      "\n",
      "\tdef insert(self, j):\t#put item at rear of queue\n",
      "\t\tif self._rear == self._maxSize - 1:\t#deal with wraparound\n",
      "\t\t\tself._rear = -1\n",
      "\t\tself._rear += 1#increment rear\n",
      "\t\tself._queVect[self._rear] = j\t#insert\n",
      "\t\tself._nItems += 1#one more item\n",
      "\n",
      "\tdef remove(self):\t#take item from front of queue\n",
      "\t\ttemp = self._queVect[self._front]\t#get value\n",
      "\t\tself._front += 1#incr front\n",
      "\t\tif self._front == self._maxSize:\t#deal with wraparound\n",
      "\t\t\tself._front = 0\n",
      "\t\tself._nItems -= 1#one less item\n",
      "\t\treturn temp\n",
      "\n",
      "\tdef peekFront(self):\t#peek at front of queue\n",
      "\t\treturn self._queVect[self._front]\n",
      "\n",
      "\tdef isEmpty(self):\t#true if queue is empty\n",
      "\t\treturn self._nItems == 0\n",
      "\n",
      "\tdef isFull(self):\t#true if queue is full\n",
      "\t\treturn self._nItems == self._maxSize\n",
      "\n",
      "\tdef size():\t#number of items in queue\n",
      "\t\treturn self._nItems\n",
      "#end class Queue\n",
      "\n",
      "theQueue = Queue(5)\t#queue holds 5 items\n",
      "\n",
      "theQueue.insert(10)\t#insert 4 items\n",
      "theQueue.insert(20)\n",
      "theQueue.insert(30)\n",
      "theQueue.insert(40)\n",
      "\n",
      "theQueue.remove()\t#remove 3 items\n",
      "theQueue.remove()\t#\t(10, 20, 30)\n",
      "theQueue.remove()\n",
      "\n",
      "theQueue.insert(50)\t#insert 4 more items\n",
      "theQueue.insert(60)\t#\t(wraps around)\n",
      "theQueue.insert(70)\n",
      "theQueue.insert(80)\n",
      "\n",
      "while not theQueue.isEmpty():\t#remove and display all items\n",
      "\tn = theQueue.remove()\t#(40, 50, 60, 70, 80)\n",
      "\tprint n,\n",
      "#end"
     ],
     "language": "python",
     "metadata": {},
     "outputs": [
      {
       "output_type": "stream",
       "stream": "stdout",
       "text": [
        "40 50 60 70 80\n"
       ]
      }
     ],
     "prompt_number": 1
    },
    {
     "cell_type": "heading",
     "level": 2,
     "metadata": {},
     "source": [
      "Example 2: Page 135"
     ]
    },
    {
     "cell_type": "code",
     "collapsed": false,
     "input": [
      "#it's better to reuse the code available by the Python team to create queue using Queue or collections.dequeue,\n",
      "#but as we have to create a manual Queue data strucutre, thus using list instead\n",
      "\n",
      "class Queue:\n",
      "\tdef __init__(self, s):\t#special method to create objects\n",
      "\t#with instances customized to a specific initial state\n",
      "\n",
      "\t\t#since private instance variables don't exist in Python,\n",
      "\t\t#hence using a convention: name prefixed with an underscore, to treat them as non-public part\n",
      "\t\tself._maxSize = s + 1\n",
      "\t\tself._front = 0\n",
      "\t\tself._rear = -1\n",
      "\t\tself._queVect = [None] * self._maxSize\n",
      "\n",
      "\tdef insert(self, j):\t#put item at rear of queue\n",
      "\t\tif self._rear == self._maxSize - 1:\n",
      "\t\t\tself._rear = -1\n",
      "\t\tself._rear += 1\n",
      "\t\tself._queVect[self._rear] = j\n",
      "\n",
      "\tdef remove(self):\t#take item from front of queue\n",
      "\t\ttemp = self._queVect[self._front]\n",
      "\t\tself._front += 1\n",
      "\t\tif self._front == self._maxSize:\n",
      "\t\t\tself._front = 0\n",
      "\t\treturn temp\n",
      "\n",
      "\tdef peek(self):\t#peek at front of queue\n",
      "\t\treturn self._queVect[self._front]\n",
      "\n",
      "\tdef isEmpty(self):\t#true if queue is empty\n",
      "\t\treturn (self._rear + 1 == self._front) or (self._front + self._maxSize - 1 == self._rear)\n",
      "\n",
      "\tdef isFull(self):\t#true if queue is full\n",
      "\t\treturn (self._rear + 2 == self._front) or (self._front + self._maxSize - 2 == self._rear)\n",
      "\n",
      "\tdef size(self):\t#assumes queue not empty\n",
      "\t\tif self._rear >= self._front:\t#contiguous sequence\n",
      "\t\t\treturn self._rear - self._front + 1\n",
      "\t\telse:\t#broken sequence\n",
      "\t\t\treturn (self._maxSize - self._front) + (self._rear + 1)\n",
      "#end class Queue"
     ],
     "language": "python",
     "metadata": {},
     "outputs": [],
     "prompt_number": 2
    },
    {
     "cell_type": "heading",
     "level": 2,
     "metadata": {},
     "source": [
      "Example 3: Page 141"
     ]
    },
    {
     "cell_type": "code",
     "collapsed": false,
     "input": [
      "#demonstrates priority queue\n",
      "#it's better to reuse the code available by the Python team to create priority queue using Queue,\n",
      "#but as we have to create a manual Queue data strucutre, thus using list instead\n",
      "\n",
      "class PriorityQ:\n",
      "\tdef __init__(self):\t#special method to create objects\n",
      "\t#with instances customized to a specific initial state\n",
      "\n",
      "\t\t#since private instance variables don't exist in Python,\n",
      "\t\t#hence using a convention: name prefixed with an underscore, to treat them as non-public part\n",
      "\t\t\n",
      "\t\t#list in sorted order, from max at 0 to min at size-1\n",
      "\t\tself._queVect = []\n",
      "\n",
      "\tdef insert(self, item):\t#insert item\n",
      "\t\tif not self._queVect:\t#if no items,\n",
      "\t\t\tself._queVect.append(item)\t#insert at 0\n",
      "\t\telse:\t#if items\n",
      "\t\t\tfor j, val in enumerate(self._queVect):\n",
      "\t\t\t\tif item < val:\n",
      "\t\t\t\t\tpass\n",
      "\t\t\t\telse:\n",
      "\t\t\t\t\tbreak\n",
      "\t\t\telse:\n",
      "\t\t\t\tj += 1\n",
      "\t\t\tself._queVect.insert(j, item)\t#insert it\n",
      "\t\t#end else self._queVect = True\n",
      "\t#end insert\n",
      "\n",
      "\tdef remove(self):\t#remove minimum item\n",
      "\t\treturn self._queVect.pop()\n",
      "\n",
      "\tdef peekMin(self):\t#peek at minimum item\n",
      "\t\treturn self._queVect[-1]\n",
      "\n",
      "\tdef isEmpty(self):\t#true if queue is empty\n",
      "\t\treturn not self._queVect\n",
      "#end class PriorityQ\n",
      "\n",
      "thePQ = PriorityQ()\t#priority queue\n",
      "\n",
      "thePQ.insert(30)\t#unsorted insertions\n",
      "thePQ.insert(50)\n",
      "thePQ.insert(10)\n",
      "thePQ.insert(40)\n",
      "thePQ.insert(20)\n",
      "\n",
      "while not thePQ.isEmpty():\n",
      "\t#sorted removals\n",
      "\titem = thePQ.remove()\n",
      "\tprint item,\t#10, 20, 30 ,40, 50\n",
      "#end"
     ],
     "language": "python",
     "metadata": {},
     "outputs": [
      {
       "output_type": "stream",
       "stream": "stdout",
       "text": [
        "10 20 30 40 50\n"
       ]
      }
     ],
     "prompt_number": 3
    }
   ],
   "metadata": {}
  }
 ]
}