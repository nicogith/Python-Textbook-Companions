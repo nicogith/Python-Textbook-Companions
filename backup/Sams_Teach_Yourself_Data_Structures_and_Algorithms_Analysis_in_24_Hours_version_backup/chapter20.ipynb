{
 "metadata": {
  "name": ""
 },
 "nbformat": 3,
 "nbformat_minor": 0,
 "worksheets": [
  {
   "cells": [
    {
     "cell_type": "heading",
     "level": 1,
     "metadata": {},
     "source": [
      "20: Implementing 2-3-4 Trees"
     ]
    },
    {
     "cell_type": "heading",
     "level": 2,
     "metadata": {},
     "source": [
      "Example 1: Page 399"
     ]
    },
    {
     "cell_type": "code",
     "collapsed": false,
     "input": [
      "#demonstrates 234 tree\n",
      "\n",
      "class DataItem:\n",
      "\n",
      "\tdef __init__(self, dd):\t#special method to create objects\n",
      "\t#with instances customized to a specific initial state\n",
      "\t\tself.dData = dd#one piece of data\n",
      "\n",
      "\tdef displayItem(self):\t#format \" /27\"\n",
      "\t\tprint '/', self.dData,\n",
      "#end class DataItem\n",
      "\n",
      "class Node:\n",
      "\t#as private instance variables don't exist in Python,\n",
      "\t#hence using a convention: name prefixed with an underscore, to treat them as non-public part\n",
      "\t_ORDER = 4\n",
      "\tdef __init__(self):\n",
      "\t\tself._numItems = 0\n",
      "\t\tself._pParent = None\n",
      "\t\tself._childArray = []\t#array of nodes\n",
      "\t\tself._itemArray = []\t#array of data\n",
      "\t\tfor j in xrange(self._ORDER):\t#initialize arrays\n",
      "\t\t\tself._childArray.append(None)\n",
      "\t\tfor k in xrange(self._ORDER - 1):\n",
      "\t\t\tself._itemArray.append(None)\n",
      "\n",
      "\t\t\t#connect child to this node\n",
      "\tdef connectChild(self, childNum, pChild):\n",
      "\t\tself._childArray[childNum] = pChild\n",
      "\t\tif pChild:\n",
      "\t\t\tpChild._pParent = self\n",
      "\n",
      "\t\t\t#disconnect child from this node, return it\n",
      "\tdef disconnectChild(self, childNum):\n",
      "\t\tpTempNode = self._childArray[childNum]\n",
      "\t\tself._childArray[childNum] = None\n",
      "\t\treturn pTempNode\n",
      "\n",
      "\tdef getChild(self, childNum):\n",
      "\t\treturn self._childArray[childNum]\n",
      "\n",
      "\tdef getParent(self):\n",
      "\t\treturn self._pParent\n",
      "\n",
      "\tdef isLeaf(self):\n",
      "\t\treturn not self._childArray[0]\n",
      "\n",
      "\tdef getNumItems(self):\n",
      "\t\treturn self._numItems\n",
      "\n",
      "\tdef getItem(self, index):\t#get DataItem at index\n",
      "\t\treturn self._itemArray[index]\n",
      "\n",
      "\tdef isFull(self):\n",
      "\t\treturn self._numItems==self._ORDER - 1\n",
      "\n",
      "\tdef findItem(self, key):\t#return index of\n",
      "\t\tfor j in xrange(self._ORDER-1):\t#item (within node)\n",
      "\t\t\tif not self._itemArray[j]:\t#if found,\n",
      "\t\t\t\tbreak\t#otherwise,\n",
      "\t\t\telif self._itemArray[j].dData == key:\t#return -1\n",
      "\t\t\t\treturn j\n",
      "\t\treturn -1\n",
      "\t#end findItem\n",
      "\n",
      "\tdef insertItem(self, pNewItem):\n",
      "\t\t#assumes node is not full\n",
      "\t\tself._numItems += 1#will add new item\n",
      "\t\tnewKey = pNewItem.dData\t#key of new item\n",
      "\n",
      "\t\tfor j in reversed(xrange(self._ORDER-1)):\t#start on right,\t#examine items\n",
      "\t\t\tif self._itemArray[j] == None:\t#if item null,\n",
      "\t\t\t\tpass\t#go left one cell\n",
      "\t\t\telse:\t#not null,\n",
      "\t\t\t\titsKey = self._itemArray[j].dData\t#get its key\n",
      "\t\t\t\tif newKey < itsKey:\t#if it's bigger\n",
      "\t\t\t\t\tself._itemArray[j+1] = self._itemArray[j]\t#shift it right\n",
      "\t\t\t\telse:\n",
      "\t\t\t\t\tself._itemArray[j+1] = pNewItem\t#insert new item\n",
      "\t\t\t\t\treturn j+1#return index to new item\n",
      "\t\t\t#end else (not null)\n",
      "\t\t#end for \t#shifted all items,\n",
      "\t\tself._itemArray[0] = pNewItem\t#insert new item\n",
      "\t\treturn 0\n",
      "\t#end insertItem()\n",
      "\n",
      "\tdef removeItem(self):\t#remove largest item\n",
      "\t\t#assumes node not empty\n",
      "\t\tpTemp = self._itemArray[self._numItems-1]\t#save item\n",
      "\t\tself._itemArray[self._numItems-1] = None\t#disconnect it\n",
      "\t\tself._numItems -= 1#one less item\n",
      "\t\treturn pTemp#return item\n",
      "\n",
      "\tdef displayNode(self):\t#format \"/24/56/74\"\n",
      "\t\tfor j in xrange(self._numItems):\n",
      "\t\t\tself._itemArray[j].displayItem()\t#format \"/56\"\n",
      "\t\tprint '/'\t#final \"/\"\n",
      "\n",
      "#end class Node\n",
      "\n",
      "class Tree234:\n",
      "\t#as private instance variables don't exist in Python,\n",
      "\t#hence using a convention: name prefixed with an underscore, to treat them as non-public part\n",
      "\tdef __init__(self):\n",
      "\t\tself._pRoot = Node()\t#root node\n",
      "\n",
      "\tdef find(self, key):\n",
      "\t\tpCurNode = self._pRoot\t#start at root\n",
      "\t\twhile True:\n",
      "\t\t\tchildNumber=pCurNode.findItem(key)\n",
      "\t\t\tif childNumber != -1:\n",
      "\t\t\t\treturn childNumber\t#found it\n",
      "\t\t\telif pCurNode.isLeaf():\n",
      "\t\t\t\treturn -1#can't find it\n",
      "\t\t\telse:\t#search deeper\n",
      "\t\t\t\tpCurNode = self.getNextChild(pCurNode, key)\n",
      "\t\t#end while\n",
      "\n",
      "\tdef insert(self, dValue):\t#insert a DataItem\n",
      "\t\tpCurNode = self._pRoot\n",
      "\t\tpTempItem = DataItem(dValue)\n",
      "\n",
      "\t\twhile True:\n",
      "\t\t\tif pCurNode.isFull():\t#if node full,\n",
      "\t\t\t\tself.split(pCurNode)\t#split it\n",
      "\t\t\t\tpCurNode = pCurNode.getParent()\t#back up\n",
      "\t\t\t\t\t#search once\n",
      "\t\t\t\tpCurNode = self.getNextChild(pCurNode, dValue)\n",
      "\t\t\t#end if(node is full)\n",
      "\n",
      "\t\t\telif pCurNode.isLeaf():\t#if node is leaf,\n",
      "\t\t\t\tbreak\t#go insert\n",
      "\t\t\t#node is not full, not a leaf; so go to lower level\n",
      "\t\t\telse:\n",
      "\t\t\t\tpCurNode = self.getNextChild(pCurNode, dValue)\n",
      "\t\t#end while\n",
      "\t\tpCurNode.insertItem(pTempItem)\t#insert new item\n",
      "\t#end insert()\n",
      "\n",
      "\tdef split(self, pThisNode):\t#split the node\n",
      "\t\t#assumes node is full\n",
      "\t\t\n",
      "\t\tpItemC = pThisNode.removeItem()\t#remove items from\n",
      "\t\tpItemB = pThisNode.removeItem()\t#this node\n",
      "\t\tpChild2 = pThisNode.disconnectChild(2)\t#remove children\n",
      "\t\tpChild3 = pThisNode.disconnectChild(3)\t#from this node\n",
      "\n",
      "\t\tpNewRight = Node()\t#make new node\n",
      "\n",
      "\t\tif pThisNode == self._pRoot:\t#if this is the root,\n",
      "\t\t\tself._pRoot = Node()\t#make new root\n",
      "\t\t\tpParent = self._pRoot\t#root is our parent\n",
      "\t\t\tself._pRoot.connectChild(0, pThisNode)\t#connect to parent\n",
      "\t\telse:\t#this node not the root\n",
      "\t\t\tpParent = pThisNode.getParent()\t#get parent\n",
      "\n",
      "\t\t#deal with parent\n",
      "\t\titemIndex = pParent.insertItem(pItemB)\t#item B to parent\n",
      "\t\tn = pParent.getNumItems()\t#total items?\n",
      "\n",
      "\t\tj = n-1#move parent's\n",
      "\t\twhile j > itemIndex:\t#connections\n",
      "\t\t\tpTemp = pParent.disconnectChild(j)\t#one child\n",
      "\t\t\tpParent.connectChild(j+1, pTemp)\t#to the right\n",
      "\t\t\tj -= 1\n",
      "\t\t\t\t#connect newRight to parent\n",
      "\t\tpParent.connectChild(itemIndex+1, pNewRight)\n",
      "\n",
      "\t\t#deal with newRight\n",
      "\t\tpNewRight.insertItem(pItemC)\t#item C to newRight\n",
      "\t\tpNewRight.connectChild(0, pChild2)\t#connect to 0 and 1\n",
      "\t\tpNewRight.connectChild(1, pChild3)\t#on newRight\n",
      "\t#end split()\n",
      "\n",
      "\t#gets appropriate child of node during search of value\n",
      "\tdef getNextChild(self, pNode, theValue):\n",
      "\t\t#assumes node is not empty, not full, not a leaf\n",
      "\t\tnumItems = pNode.getNumItems()\n",
      "\t\t\n",
      "\t\tfor j in xrange(numItems):\t#for each item in node\n",
      "\t\t\tif theValue < pNode.getItem(j).dData:\t#are we less?\n",
      "\t\t\t\treturn pNode.getChild(j)\t#return left child\n",
      "\t\telse:\t#end for \t#we're greater, so\n",
      "\t\t\treturn pNode.getChild(j + 1)\t#return right child\n",
      "\n",
      "\tdef displayTree(self):\n",
      "\t\tself.recDisplayTree(self._pRoot, 0, 0)\n",
      "\n",
      "\tdef recDisplayTree(self, pThisNode, level, childNumber):\n",
      "\t\tprint 'level=', level, 'child=', childNumber,\n",
      "\t\tpThisNode.displayNode()\t#display this node\n",
      "\n",
      "\t\t#call ourselves for each child of this node\n",
      "\t\tnumItems = pThisNode.getNumItems()\n",
      "\t\tfor j in xrange(numItems+1):\n",
      "\t\t\tpNextNode = pThisNode.getChild(j)\n",
      "\t\t\tif pNextNode:\n",
      "\t\t\t\tself.recDisplayTree(pNextNode, level+1, j)\n",
      "\t\t\telse:\n",
      "\t\t\t\treturn\n",
      "\t#end recDisplayTree()\n",
      "#end class Tree234\n",
      "\n",
      "pTree = Tree234()\n",
      "pTree.insert(50)\n",
      "pTree.insert(40)\n",
      "pTree.insert(60)\n",
      "pTree.insert(30)\n",
      "pTree.insert(70)\n",
      "\n",
      "#as Python doesn't support switch, simulating the same with dictionary and functions\n",
      "def show():\n",
      "\tpTree.displayTree()\n",
      "\n",
      "def insert():\n",
      "\tvalue = int(raw_input('Enter value to insert: '))\n",
      "\tpTree.insert(value)\n",
      "\n",
      "def find():\n",
      "\tvalue = int(raw_input('Enter value to find: '))\n",
      "\tfound = pTree.find(value)\n",
      "\tif found != -1:\n",
      "\t\tprint 'Found', value\n",
      "\telse:\n",
      "\t\tprint 'Could not find', value\n",
      "\n",
      "case = { 's' : show,\n",
      "\t'i' : insert,\n",
      "\t'f' : find}\n",
      "#switch simulation completed\n",
      "\n",
      "while True:\n",
      "\tprint\n",
      "\tchoice = raw_input('Enter first letter of show, insert, or find: ')\n",
      "\tif case.get(choice, None):\n",
      "\t\tcase[choice]()\n",
      "\telse:\n",
      "\t\tprint 'Invalid entry'\n",
      "#end while\n",
      "del pTree\n",
      "#end"
     ],
     "language": "python",
     "metadata": {},
     "outputs": [
      {
       "output_type": "stream",
       "stream": "stdout",
       "text": [
        "\n"
       ]
      },
      {
       "name": "stdout",
       "output_type": "stream",
       "stream": "stdout",
       "text": [
        "Enter first letter of show, insert, or find: s\n"
       ]
      },
      {
       "output_type": "stream",
       "stream": "stdout",
       "text": [
        "level= 0 child= 0 / 50 /\n",
        "level= 1 child= 0 / 30 / 40 /\n",
        "level= 1 child= 1 / 60 / 70 /\n",
        "\n"
       ]
      },
      {
       "name": "stdout",
       "output_type": "stream",
       "stream": "stdout",
       "text": [
        "Enter first letter of show, insert, or find: f\n"
       ]
      },
      {
       "name": "stdout",
       "output_type": "stream",
       "stream": "stdout",
       "text": [
        "Enter value to find: 40\n"
       ]
      },
      {
       "output_type": "stream",
       "stream": "stdout",
       "text": [
        "Found 40\n",
        "\n"
       ]
      },
      {
       "name": "stdout",
       "output_type": "stream",
       "stream": "stdout",
       "text": [
        "Enter first letter of show, insert, or find: i\n"
       ]
      },
      {
       "name": "stdout",
       "output_type": "stream",
       "stream": "stdout",
       "text": [
        "Enter value to insert: 20\n"
       ]
      },
      {
       "output_type": "stream",
       "stream": "stdout",
       "text": [
        "\n"
       ]
      },
      {
       "name": "stdout",
       "output_type": "stream",
       "stream": "stdout",
       "text": [
        "Enter first letter of show, insert, or find: s\n"
       ]
      },
      {
       "output_type": "stream",
       "stream": "stdout",
       "text": [
        "level= 0 child= 0 / 50 /\n",
        "level= 1 child= 0 / 20 / 30 / 40 /\n",
        "level= 1 child= 1 / 60 / 70 /\n",
        "\n"
       ]
      },
      {
       "name": "stdout",
       "output_type": "stream",
       "stream": "stdout",
       "text": [
        "Enter first letter of show, insert, or find: i\n"
       ]
      },
      {
       "name": "stdout",
       "output_type": "stream",
       "stream": "stdout",
       "text": [
        "Enter value to insert: 10\n"
       ]
      },
      {
       "output_type": "stream",
       "stream": "stdout",
       "text": [
        "\n"
       ]
      },
      {
       "name": "stdout",
       "output_type": "stream",
       "stream": "stdout",
       "text": [
        "Enter first letter of show, insert, or find: s\n"
       ]
      },
      {
       "output_type": "stream",
       "stream": "stdout",
       "text": [
        "level= 0 child= 0 / 30 / 50 /\n",
        "level= 1 child= 0 / 10 / 20 /\n",
        "level= 1 child= 1 / 40 /\n",
        "level= 1 child= 2 / 60 / 70 /\n",
        "\n"
       ]
      }
     ],
     "prompt_number": "*"
    }
   ],
   "metadata": {}
  }
 ]
}