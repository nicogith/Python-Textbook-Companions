{
 "cells": [
  {
   "cell_type": "markdown",
   "metadata": {},
   "source": [
    "# Chapter9 Single SideBand Modulation"
   ]
  },
  {
   "cell_type": "markdown",
   "metadata": {},
   "source": [
    "## Example 9.2,Pg.no.349"
   ]
  },
  {
   "cell_type": "code",
   "execution_count": 2,
   "metadata": {
    "collapsed": false
   },
   "outputs": [
    {
     "name": "stdout",
     "output_type": "stream",
     "text": [
      "The efficiency is 70.0 %\n"
     ]
    }
   ],
   "source": [
    "import math\n",
    "Nd=7.0\n",
    "N_start=1\n",
    "N_stop=1\n",
    "N_parity=1\n",
    "Nt= Nd + N_start+ N_stop + N_parity\n",
    "eff=Nd/Nt*100\n",
    "print 'The efficiency is',eff,'%'"
   ]
  },
  {
   "cell_type": "markdown",
   "metadata": {},
   "source": [
    "## Example 9.6,Pg.no.358"
   ]
  },
  {
   "cell_type": "code",
   "execution_count": 5,
   "metadata": {
    "collapsed": false
   },
   "outputs": [
    {
     "name": "stdout",
     "output_type": "stream",
     "text": [
      "hammming bits required= 5\n"
     ]
    }
   ],
   "source": [
    "import math\n",
    "m=21.0\n",
    "for n in range (1,10):   #we choose range of 1 to 10\n",
    "        a=m+n+1 \n",
    "        b=2**n\n",
    "        if b>=a:\n",
    "           print 'hammming bits required=',n\n",
    "           break\n",
    "           end\n",
    "           end"
   ]
  }
 ],
 "metadata": {
  "kernelspec": {
   "display_name": "Python 2",
   "language": "python",
   "name": "python2"
  },
  "language_info": {
   "codemirror_mode": {
    "name": "ipython",
    "version": 2
   },
   "file_extension": ".py",
   "mimetype": "text/x-python",
   "name": "python",
   "nbconvert_exporter": "python",
   "pygments_lexer": "ipython2",
   "version": "2.7.10"
  }
 },
 "nbformat": 4,
 "nbformat_minor": 0
}
