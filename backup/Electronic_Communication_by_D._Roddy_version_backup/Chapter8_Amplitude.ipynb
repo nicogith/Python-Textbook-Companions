{
 "cells": [
  {
   "cell_type": "markdown",
   "metadata": {},
   "source": [
    "# Chapter8 Amplitude Modulation"
   ]
  },
  {
   "cell_type": "markdown",
   "metadata": {},
   "source": [
    "## Example 8.3.1,Pg.no.257"
   ]
  },
  {
   "cell_type": "code",
   "execution_count": 5,
   "metadata": {
    "collapsed": false
   },
   "outputs": [
    {
     "name": "stdout",
     "output_type": "stream",
     "text": [
      "The modulation index is 0.55\n",
      "The ratio of side lengths L1/L2 is 3.44\n"
     ]
    }
   ],
   "source": [
    "import math\n",
    "from math import pi,sqrt\n",
    "vpp=11.0    #peak to peak voltage of modulating signal\n",
    "vcp=10.0    #carrier peak voltage\n",
    "#Determination of modulation index\n",
    "E_max=vcp+(vpp/2)\n",
    "E_min=vcp-(vpp/2)\n",
    "m=(E_max -E_min)/(E_max+E_min)\n",
    "print 'The modulation index is',m\n",
    "#determination of k ratio of side lengths\n",
    "L1_L2=E_max/E_min\n",
    "L1_L2=round(L1_L2,2)\n",
    "print 'The ratio of side lengths L1/L2 is',L1_L2"
   ]
  },
  {
   "cell_type": "markdown",
   "metadata": {
    "collapsed": true
   },
   "source": [
    "## Example 8.5.1,Pg.no.260"
   ]
  },
  {
   "cell_type": "code",
   "execution_count": 6,
   "metadata": {
    "collapsed": false
   },
   "outputs": [
    {
     "name": "stdout",
     "output_type": "stream",
     "text": [
      "The modulation index is 0.6\n"
     ]
    }
   ],
   "source": [
    "import math\n",
    "fc=10*10**6      #Carrier freq\n",
    "fm=5*10**3       #Modullating freq\n",
    "vp=10.0\n",
    "vm=6.0          #Determination of modulation index\n",
    "m=vm/vp\n",
    "m=round(m,1)\n",
    "print 'The modulation index is',m"
   ]
  },
  {
   "cell_type": "markdown",
   "metadata": {},
   "source": [
    "## Example 8.7.1,Pg.no.263"
   ]
  },
  {
   "cell_type": "code",
   "execution_count": 7,
   "metadata": {
    "collapsed": false
   },
   "outputs": [
    {
     "name": "stdout",
     "output_type": "stream",
     "text": [
      "The modulation index is 0.9\n"
     ]
    }
   ],
   "source": [
    "import math\n",
    "from math import sqrt\n",
    "I=12.0\n",
    "Ic=10.0     \n",
    "#Determination of modulation index\n",
    "m=sqrt(2*(((I/Ic)**2) -1))\n",
    "m=round(m,1)\n",
    "print 'The modulation index is',m"
   ]
  },
  {
   "cell_type": "markdown",
   "metadata": {},
   "source": [
    "## Example 8.11.1,Pg.no.274"
   ]
  },
  {
   "cell_type": "code",
   "execution_count": 8,
   "metadata": {
    "collapsed": false
   },
   "outputs": [
    {
     "name": "stdout",
     "output_type": "stream",
     "text": [
      "Yp= 6.28e-05 j\n",
      "Zp= 15915.5\n",
      "The max modulation index is 1.59\n"
     ]
    }
   ],
   "source": [
    "import math\n",
    "from math import sqrt,pi\n",
    "fm=10*10**3           #modulation freq\n",
    "c=1000*10**-12\n",
    "R=10*10**3\n",
    "Yp=complex((1/R),(2*(pi)*fm*c))   #admittance of RC load\n",
    "Ypi=Yp.imag*10**5\n",
    "Ypi=round(Ypi,2)*10**-5\n",
    "print 'Yp=',Ypi,'j'\n",
    "Zp=1/sqrt(((Yp.real)**2)+((Yp.imag)**2))\n",
    "Zp=round(Zp,1)\n",
    "print 'Zp=',Zp\n",
    "#Determination of max modulation index\n",
    "m=Zp/R\n",
    "m=round(m,2)\n",
    "print 'The max modulation index is',m"
   ]
  }
 ],
 "metadata": {
  "kernelspec": {
   "display_name": "Python 2",
   "language": "python",
   "name": "python2"
  },
  "language_info": {
   "codemirror_mode": {
    "name": "ipython",
    "version": 2
   },
   "file_extension": ".py",
   "mimetype": "text/x-python",
   "name": "python",
   "nbconvert_exporter": "python",
   "pygments_lexer": "ipython2",
   "version": "2.7.10"
  }
 },
 "nbformat": 4,
 "nbformat_minor": 0
}
