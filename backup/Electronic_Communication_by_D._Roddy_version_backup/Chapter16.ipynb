{
 "cells": [
  {
   "cell_type": "markdown",
   "metadata": {},
   "source": [
    "# Chapter16 Antennas"
   ]
  },
  {
   "cell_type": "markdown",
   "metadata": {},
   "source": [
    "## Example 16.7.2,Pg.no.590"
   ]
  },
  {
   "cell_type": "code",
   "execution_count": 1,
   "metadata": {
    "collapsed": false
   },
   "outputs": [
    {
     "name": "stdout",
     "output_type": "stream",
     "text": [
      "The −3dB beamwidth is 90.0 degree\n"
     ]
    }
   ],
   "source": [
    "import math\n",
    "from math import sqrt\n",
    "g_x=0.5\n",
    "x=math.asin(sqrt(g_x))\n",
    "g_y=0.5\n",
    "y1=math.asin(sqrt(g_y))\n",
    "y=y1+90\n",
    "#Therefore\n",
    "z=y-x\n",
    "print 'The −3dB beamwidth is',z,'degree'"
   ]
  },
  {
   "cell_type": "markdown",
   "metadata": {},
   "source": [
    "## Example 16.9.1,Pg.no.597"
   ]
  },
  {
   "cell_type": "code",
   "execution_count": 2,
   "metadata": {
    "collapsed": false
   },
   "outputs": [
    {
     "name": "stdout",
     "output_type": "stream",
     "text": [
      "l_effective= 0.32\n"
     ]
    }
   ],
   "source": [
    "import math\n",
    "from math import pi\n",
    "Io=1\n",
    "wl=1\n",
    "phy_length=wl/2\n",
    "I_av=2*Io/pi\n",
    "#Thus area is given as\n",
    "Area=I_av*phy_length\n",
    "l_eff=wl/pi\n",
    "l_eff=round(l_eff,2)\n",
    "#From the above eq l_effective is given as\n",
    "print 'l_effective=',l_eff"
   ]
  },
  {
   "cell_type": "markdown",
   "metadata": {},
   "source": [
    "## Example 16.19.1,Pg.no.621"
   ]
  },
  {
   "cell_type": "code",
   "execution_count": 3,
   "metadata": {
    "collapsed": false
   },
   "outputs": [
    {
     "name": "stdout",
     "output_type": "stream",
     "text": [
      "Effective area is 18.38 m**2\n",
      "The directivity is 256633.2\n",
      "The −3dB beamwidth is 0.35 degree\n",
      "The null beamwidth is 0.7 degree\n"
     ]
    }
   ],
   "source": [
    "import math\n",
    "from math import pi\n",
    "D=6.0        #reflector diameter in m\n",
    "n=0.65     #illumination effeciency\n",
    "f=10**10   #frequency of operation in Hz\n",
    "c=3*10**8  #velo of light in m/s\n",
    "wl=0.03  #c/f\n",
    "A=(pi*D**2)/4\n",
    "A_eff=n*A\n",
    "A_eff=round(A_eff,2)\n",
    "print 'Effective area is',A_eff,'m**2'\n",
    "D0=(4*pi*A_eff)/wl**2\n",
    "D0=round(D0,1)\n",
    "print 'The directivity is',D0\n",
    "BW_dB=70*wl/D\n",
    "print 'The −3dB beamwidth is',BW_dB,'degree'\n",
    "BW_null=2*BW_dB\n",
    "print 'The null beamwidth is',BW_null,'degree' "
   ]
  }
 ],
 "metadata": {
  "kernelspec": {
   "display_name": "Python 2",
   "language": "python",
   "name": "python2"
  },
  "language_info": {
   "codemirror_mode": {
    "name": "ipython",
    "version": 2
   },
   "file_extension": ".py",
   "mimetype": "text/x-python",
   "name": "python",
   "nbconvert_exporter": "python",
   "pygments_lexer": "ipython2",
   "version": "2.7.10"
  }
 },
 "nbformat": 4,
 "nbformat_minor": 0
}
