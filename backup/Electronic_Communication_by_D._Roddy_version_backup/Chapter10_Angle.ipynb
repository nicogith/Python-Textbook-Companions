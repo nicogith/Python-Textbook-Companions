{
 "cells": [
  {
   "cell_type": "markdown",
   "metadata": {},
   "source": [
    "# Chapter10 Angle Modulation"
   ]
  },
  {
   "cell_type": "markdown",
   "metadata": {},
   "source": [
    "## Example 10.12.1,Pg.no.343"
   ]
  },
  {
   "cell_type": "code",
   "execution_count": 6,
   "metadata": {
    "collapsed": false
   },
   "outputs": [
    {
     "name": "stdout",
     "output_type": "stream",
     "text": [
      "The equivaent tuning capacitance is 6e-10 F\n"
     ]
    }
   ],
   "source": [
    "import math\n",
    "from math import pi\n",
    "p=10.0\n",
    "t=0.3*10**-6\n",
    "gm=0.002\n",
    "q=1/p\n",
    "f_max=q/(2*pi*t)\n",
    "Z2=p/gm\n",
    "R2=Z2          #Z2 is resistance\n",
    "#Determination of equivalent tuning capacitance\n",
    "C1=t/R2\n",
    "Ceq=gm*t\n",
    "print 'The equivaent tuning capacitance is',Ceq,'F'"
   ]
  },
  {
   "cell_type": "markdown",
   "metadata": {},
   "source": [
    "## Example 10.13.1,Pg.no.349"
   ]
  },
  {
   "cell_type": "code",
   "execution_count": 2,
   "metadata": {
    "collapsed": false
   },
   "outputs": [
    {
     "name": "stdout",
     "output_type": "stream",
     "text": [
      "fo is best obtained by using two tripler 79.1 Mhz\n"
     ]
    }
   ],
   "source": [
    "import math\n",
    "from math import pi\n",
    "del_phi_d=12.0\n",
    "f_min=100.0\n",
    "del_f_max_allow =15000.0\n",
    "del_phi_rad=(12*pi)/180\n",
    "del_f_max=del_phi_rad*f_min\n",
    "#Determination of freq deviation\n",
    "N=del_f_max_allow/del_f_max\n",
    "l=del_f_max*729       #using six tripler\n",
    "f=0.1*729\n",
    "#Determination of signal oscillator signal\n",
    "fo=152-f\n",
    "print 'fo is best obtained by using two tripler',fo,'Mhz'"
   ]
  }
 ],
 "metadata": {
  "kernelspec": {
   "display_name": "Python 2",
   "language": "python",
   "name": "python2"
  },
  "language_info": {
   "codemirror_mode": {
    "name": "ipython",
    "version": 2
   },
   "file_extension": ".py",
   "mimetype": "text/x-python",
   "name": "python",
   "nbconvert_exporter": "python",
   "pygments_lexer": "ipython2",
   "version": "2.7.10"
  }
 },
 "nbformat": 4,
 "nbformat_minor": 0
}
