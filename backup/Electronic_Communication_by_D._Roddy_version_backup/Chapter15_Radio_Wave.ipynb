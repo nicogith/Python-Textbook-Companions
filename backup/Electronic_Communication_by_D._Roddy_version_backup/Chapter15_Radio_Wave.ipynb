{
 "cells": [
  {
   "cell_type": "markdown",
   "metadata": {},
   "source": [
    "# Chapter15 Radio Wave Propogation"
   ]
  },
  {
   "cell_type": "markdown",
   "metadata": {},
   "source": [
    "## Example 15.2.1,Pg.no.538"
   ]
  },
  {
   "cell_type": "code",
   "execution_count": 2,
   "metadata": {
    "collapsed": false
   },
   "outputs": [
    {
     "name": "stdout",
     "output_type": "stream",
     "text": [
      "The free−space transmission loss is 195.67\n",
      "The received power 5.42e-12 watts\n"
     ]
    }
   ],
   "source": [
    "import math\n",
    "ht=36000   #height of satellite in km\n",
    "f=4000     #freq used in MHz\n",
    "Gt=15.0    #transmitting antenna gain\n",
    "Gr=45.0    #receiving antenna gain\n",
    "#A) Determination of free−space transmission loss\n",
    "L=32.5+20*math.log10(ht)+20*math.log10(f)\n",
    "L=round(L,2)\n",
    "print 'The free−space transmission loss is',L\n",
    "#B) Determination of received power Pr\n",
    "Pt=200.0    #transmitted power in watt\n",
    "Pr_Pt=Gt+Gr-L    #power ration in dB\n",
    "Pr_Pt_watt=10**(Pr_Pt/10)    #power ratio in watts\n",
    "#Therefore \n",
    "Pr=Pt*Pr_Pt_watt*10**12\n",
    "Pr=round(Pr,2)*10**-12\n",
    "print 'The received power',Pr,'watts'"
   ]
  },
  {
   "cell_type": "markdown",
   "metadata": {},
   "source": [
    "## Example 15.2.2,Pg.no.539"
   ]
  },
  {
   "cell_type": "code",
   "execution_count": 3,
   "metadata": {
    "collapsed": false
   },
   "outputs": [
    {
     "name": "stdout",
     "output_type": "stream",
     "text": [
      "The open−ckt voltage induced is 282.42 uV\n"
     ]
    }
   ],
   "source": [
    "import math\n",
    "from math import pi,sqrt\n",
    "Pr=10.0   #radiated power in watt\n",
    "f=150.0   #freq used in MHz\n",
    "d2=50.0   #distance of dipole in km\n",
    "#Therefore open−ckt voltage induced is given as\n",
    "Vs=sqrt(30*Pr*1.64)/(d2*10**3)*2/pi\n",
    "Vs=Vs*10**6\n",
    "Vs=round(Vs,2)\n",
    "print 'The open−ckt voltage induced is',Vs,'uV'"
   ]
  },
  {
   "cell_type": "markdown",
   "metadata": {},
   "source": [
    "## Example 15.3.1,Pg.no.545"
   ]
  },
  {
   "cell_type": "code",
   "execution_count": 4,
   "metadata": {
    "collapsed": false
   },
   "outputs": [
    {
     "name": "stdout",
     "output_type": "stream",
     "text": [
      "Field strength at a receiving antenna is 11.02 uV/m\n"
     ]
    }
   ],
   "source": [
    "import math\n",
    "from math import pi\n",
    "Pt=100    #transmitted power\n",
    "f=150     #freq used in MHz\n",
    "d1=20     #height of transmitting antenna in m\n",
    "Gt=1.64   #transmitting antenna gain\n",
    "ht=2      #height of receiving antenna in m\n",
    "d2=40     #distance in km\n",
    "c=3*10**8\n",
    "wl=c/(f*10**6)\n",
    "E0=sqrt(30*Pt*Gt)   #Field strength at a receiving antenna is\n",
    "ER=(E0*4*pi*d1*ht)/(wl*(d2*10**3)**2)\n",
    "ER=ER*10**6\n",
    "ER=round(ER,2)\n",
    "print 'Field strength at a receiving antenna is',ER,'uV/m'"
   ]
  },
  {
   "cell_type": "markdown",
   "metadata": {},
   "source": [
    "## Example 15.3.2,Pg.no.548"
   ]
  },
  {
   "cell_type": "code",
   "execution_count": 5,
   "metadata": {
    "collapsed": false
   },
   "outputs": [
    {
     "name": "stdout",
     "output_type": "stream",
     "text": [
      "The maximum range is 25.1 miles\n"
     ]
    }
   ],
   "source": [
    "import math\n",
    "from math import sqrt\n",
    "ht1=100\n",
    "ht2=60    #antenna heights in ft\n",
    "dmax_miles=sqrt(2*ht1)+sqrt(2*ht2)\n",
    "dmax_miles=round(dmax_miles,2)\n",
    "print 'The maximum range is',dmax_miles,'miles' "
   ]
  },
  {
   "cell_type": "markdown",
   "metadata": {},
   "source": [
    "## Example 15.4.1,Pg.no.560"
   ]
  },
  {
   "cell_type": "code",
   "execution_count": 6,
   "metadata": {
    "collapsed": false
   },
   "outputs": [
    {
     "name": "stdout",
     "output_type": "stream",
     "text": [
      "d= 178.8 km\n",
      "d= 10382.4 km\n"
     ]
    }
   ],
   "source": [
    "import math\n",
    "from math import pi\n",
    "ht=200   #virtual height in km\n",
    "a=6370   #in km\n",
    "B_degree=20\n",
    "B_rad=20*pi/180   #angle of elevation in degree\n",
    "#The flat−earth approximation gives\n",
    "d=2*ht/math.tan(B_degree)\n",
    "d=round(d,1)\n",
    "print 'd=',d,'km'\n",
    "#By using radian measures for all angles\n",
    "d=2*a*(((pi/2)-B_rad)-(math.asin(a*math.cos(B_degree)/(a+ht) )))\n",
    "d=round(d,1)\n",
    "print 'd=',d,'km'"
   ]
  },
  {
   "cell_type": "markdown",
   "metadata": {},
   "source": [
    "## Example 15.7.1,Pg.no.574"
   ]
  },
  {
   "cell_type": "code",
   "execution_count": 7,
   "metadata": {
    "collapsed": false
   },
   "outputs": [
    {
     "name": "stdout",
     "output_type": "stream",
     "text": [
      "The attenuation coeff is 0.04 N/m\n",
      "The attenuation coeff in dB/m is 0.347 dB/m\n",
      "The attenuation coeff is 4.0 N/m\n",
      "The attenuation coeff in dB/m is 34.7 dB/m\n"
     ]
    }
   ],
   "source": [
    "import math\n",
    "from math import pi,sqrt\n",
    "conductivity = 4    #measured in S/m\n",
    "rel_permittivity =80\n",
    "u=4*pi*10**-7\n",
    "f1=100              #measured in Hz\n",
    "f2=10**6            #measured in Hz\n",
    "#A)first it is necessary to evaluate the ratio of conductivity /w*rel permittivity\n",
    "w1=2*pi*f1\n",
    "r=conductivity/w1*rel_permittivity\n",
    "#Therefore we have to use following eq to calculate the attenuation coeff as\n",
    "a=sqrt(w1*conductivity*u/2)\n",
    "a=round(a,3)\n",
    "print 'The attenuation coeff is',a,'N/m'\n",
    "#By using the conversion factor N=8.686 dB\n",
    "a_dB=a*8.686\n",
    "a_dB=round(a_dB,3)\n",
    "print 'The attenuation coeff in dB/m is',a_dB,'dB/m'\n",
    "w2=2*pi*f2\n",
    "r=conductivity/w2*rel_permittivity\n",
    "a=sqrt(w2*conductivity*u/2)\n",
    "a=round(a,1)\n",
    "print 'The attenuation coeff is',a,'N/m'\n",
    "#By using the conversion factor 1N=8.686 dB\n",
    "a_dB=a*8.686\n",
    "a_dB=round(a_dB,1)\n",
    "print 'The attenuation coeff in dB/m is',a_dB,'dB/m'"
   ]
  }
 ],
 "metadata": {
  "kernelspec": {
   "display_name": "Python 2",
   "language": "python",
   "name": "python2"
  },
  "language_info": {
   "codemirror_mode": {
    "name": "ipython",
    "version": 2
   },
   "file_extension": ".py",
   "mimetype": "text/x-python",
   "name": "python",
   "nbconvert_exporter": "python",
   "pygments_lexer": "ipython2",
   "version": "2.7.10"
  }
 },
 "nbformat": 4,
 "nbformat_minor": 0
}
