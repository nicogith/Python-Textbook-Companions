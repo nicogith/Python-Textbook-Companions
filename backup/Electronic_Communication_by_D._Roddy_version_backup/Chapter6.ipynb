{
 "cells": [
  {
   "cell_type": "markdown",
   "metadata": {},
   "source": [
    "# Chapter6 Oscillators"
   ]
  },
  {
   "cell_type": "markdown",
   "metadata": {},
   "source": [
    "## Example 6.3.1,Pg.no.199"
   ]
  },
  {
   "cell_type": "code",
   "execution_count": 1,
   "metadata": {
    "collapsed": false
   },
   "outputs": [
    {
     "name": "stdout",
     "output_type": "stream",
     "text": [
      "1.The minimum value of beta is 44.54\n",
      "2.The value of resistor R= 21.6 Kohm\n",
      "3.The value of capacitor is 4494.19 pF\n"
     ]
    }
   ],
   "source": [
    "import math\n",
    "from math import pi,sqrt\n",
    "f=400.0\n",
    "rc= 10.0\n",
    "Rc= 40.0      \n",
    "#Minimum value of beta is given by Bomin= 23+(4*Ro /R)+(29*R/Ro)            \n",
    "#For minimum beta Ro/R=2.7, we represent Ro/R=b\n",
    "b=2.7\n",
    "Bomin=23+(4*b)+(29*1/b)\n",
    "Bomin=round(Bomin,2)\n",
    "print '1.The minimum value of beta is',Bomin\n",
    "#Determination of R and C components\n",
    "#R0 is given by ( rc*Rc) /( rc+Rc)\n",
    "R0=(rc*Rc)/(rc+Rc)\n",
    "R=2.7* R0\n",
    "print '2.The value of resistor R=',R,'Kohm'\n",
    "c=1/(2*pi*f*R*sqrt(6+(4*b)))*10**9\n",
    "c=round(c,2)\n",
    "print '3.The value of capacitor is',c,'pF'"
   ]
  },
  {
   "cell_type": "markdown",
   "metadata": {},
   "source": [
    "## Example 6.3.2,Pg.no.200"
   ]
  },
  {
   "cell_type": "code",
   "execution_count": 2,
   "metadata": {
    "collapsed": false
   },
   "outputs": [
    {
     "name": "stdout",
     "output_type": "stream",
     "text": [
      "The value of capacitor is 767.44 pF\n"
     ]
    }
   ],
   "source": [
    "import math\n",
    "from math import pi,sqrt\n",
    "#given\n",
    "f=800.0\n",
    "R0=18.0\n",
    "#calculations\n",
    "R=100.0\n",
    "c=1/(2*pi*f*R*sqrt(6+(4*R0/R)))*10**9      #Capacitance in pF\n",
    "c=round(c,2)\n",
    "print 'The value of capacitor is',c,'pF'"
   ]
  },
  {
   "cell_type": "markdown",
   "metadata": {},
   "source": [
    "## Example 6.3.3,Pg.no.201"
   ]
  },
  {
   "cell_type": "code",
   "execution_count": 3,
   "metadata": {
    "collapsed": false
   },
   "outputs": [
    {
     "name": "stdout",
     "output_type": "stream",
     "text": [
      "The value of capacitor is 614.0 pF\n",
      "1.The required open−circuit voltage gain is 30.16\n",
      "2.The value of gm is 6.03 mS\n"
     ]
    }
   ],
   "source": [
    "import math\n",
    "f=1000.0\n",
    "Ro=5.0\n",
    "R=100.0\n",
    "c=1/(2*pi*f*R*sqrt(6+(4*R0/R)))*10**9\n",
    "c=round(c,1)\n",
    "print 'The value of capacitor is',c,'pF'\n",
    "#The required open−circuit voltage gain is\n",
    "Ao= 29+23*(Ro/R)+4*(Ro/R)**2\n",
    "Ao=round(Ao,2)\n",
    "print'1.The required open−circuit voltage gain is',Ao\n",
    "gm=Ao/Ro\n",
    "gm=round(gm,2)\n",
    "print '2.The value of gm is',gm,'mS'"
   ]
  },
  {
   "cell_type": "markdown",
   "metadata": {},
   "source": [
    "## Example 6.4.1,Pg.no.205"
   ]
  },
  {
   "cell_type": "code",
   "execution_count": 4,
   "metadata": {
    "collapsed": false
   },
   "outputs": [
    {
     "name": "stdout",
     "output_type": "stream",
     "text": [
      "1.The value of capacitor is 75.0 pF\n",
      "2.The frequency of oscillation is 918881.49 Hz\n",
      "3.The dynamic impedence of the tuned circuit 461880.22 ohm\n",
      "4.The coil series resistance is 11.55 ohm\n",
      "5.The value of gm is 1.15470052676e-05\n",
      "6.The input resistance is 8660254.12 ohm\n",
      "7.The frequency of oscillation is 918881.49 Hz\n"
     ]
    }
   ],
   "source": [
    "import math\n",
    "from math import pi,sqrt\n",
    "L=400*10**-6       #inductsnce in H\n",
    "c1= 100.0          #capaitance in pF\n",
    "c2= 300.0          #in pF\n",
    "Q=200.0\n",
    "Ro= 5*10**3\n",
    "Bo=100.0           #beta value\n",
    "#The tuning capacitance is\n",
    "Cs=(c1*c2/(c1+c2))\n",
    "Cs=round(Cs,2)\n",
    "print '1.The value of capacitor is',Cs,'pF'\n",
    "#the frequency of oscillation is obtained as\n",
    "f=1/(2*pi*sqrt(L*Cs*10**-12))\n",
    "f=round(f,2)\n",
    "print '2.The frequency of oscillation is',f,'Hz'\n",
    "#The dynamic impedence of the tuned circuit\n",
    "wo= 2*pi*f\n",
    "Rd=Q/(wo*Cs*10**-12)\n",
    "Rd=round(Rd,2)\n",
    "print '3.The dynamic impedence of the tuned circuit',Rd,'ohm'\n",
    "#The coil series resistance is\n",
    "r=wo*L/Q\n",
    "r=round(r,2)\n",
    "print '4.The coil series resistance is',r,'ohm'\n",
    "#The capacitor raio c= c1/c2=1/3, and therefore 1− c2/B0∗c1 = 1\n",
    "#The starting value of gm is therefore given by\n",
    "c= c1/c2\n",
    "gm=(1/Ro)*c +(c+3+2)*(1/Rd)\n",
    "print '5.The value of gm is',gm\n",
    "#Assuming the input resistance is that of the transistor alone\n",
    "R1=Bo/gm\n",
    "R1=round(R1,2)\n",
    "print '6.The input resistance is',R1,'ohm'\n",
    "wo2=1/((L*Cs*10**-12)+(1/R1*Ro*c1*c2*10**-12*10**-12))\n",
    "wo=sqrt(wo2)\n",
    "f=wo/(2*pi)\n",
    "f=round(f,2)\n",
    "print '7.The frequency of oscillation is',f,'Hz'"
   ]
  },
  {
   "cell_type": "markdown",
   "metadata": {},
   "source": [
    "## Example 6.6.1,Pg.no.211"
   ]
  },
  {
   "cell_type": "code",
   "execution_count": 5,
   "metadata": {
    "collapsed": false
   },
   "outputs": [
    {
     "name": "stdout",
     "output_type": "stream",
     "text": [
      "The value of capacitor is 5.16 pF\n"
     ]
    }
   ],
   "source": [
    "import math\n",
    "Co=20.0  #in pF\n",
    "Vd=-7    #reverse bias voltage in volt\n",
    "#constant pottential of junction is 0.5\n",
    "a=0.5    #for abrupt junction\n",
    "Cd=Co/(1-(Vd/0.5))**a\n",
    "Cd=round(Cd,2)\n",
    "print 'The value of capacitor is',Cd,'pF'"
   ]
  },
  {
   "cell_type": "markdown",
   "metadata": {},
   "source": [
    "## Example 6.6.2,Pg.no.212"
   ]
  },
  {
   "cell_type": "code",
   "execution_count": 6,
   "metadata": {
    "collapsed": false
   },
   "outputs": [
    {
     "name": "stdout",
     "output_type": "stream",
     "text": [
      "1.The total tuning capacitor is 9.38 pF\n",
      "2.The frequency of oscillation is 5196593.1 Hz\n",
      "3.The total tuning capacitor is 3.99 pF\n",
      "4.The frequency of oscillation is 7967713.03 Hz\n"
     ]
    }
   ],
   "source": [
    "from math import pi,sqrt\n",
    "#given\n",
    "C1=300.0\n",
    "C2=300.0\n",
    "Cc=20.0\n",
    "L=100.0\n",
    "#calculations\n",
    "# A) With zero applied bias , the total tuning capacitor is \n",
    "Vd1=0\n",
    "a=0.5\n",
    "Co=20.0\n",
    "Cd1=Co/(1-(Vd1/0.5))**a\n",
    "Cs1=1/((1/C1)+(1/C2)+(1/Cc)+(1/Cd1))\n",
    "Cs1=round(Cs1,2)\n",
    "print '1.The total tuning capacitor is',Cs1,'pF'\n",
    "#The frequency of oscillation is\n",
    "f=1/(2*pi*sqrt(L*10**-6*Cs1*10**-12))\n",
    "f=round(f,2)\n",
    "print '2.The frequency of oscillation is',f,'Hz'\n",
    "Vd2=-7\n",
    "Cd2=Co/(1-(Vd2/0.5))**a\n",
    "Cs2=1/((1/C1)+(1/C2)+(1/Cc)+(1/Cd2))\n",
    "Cs2=round(Cs2,2)\n",
    "print '3.The total tuning capacitor is',Cs2,'pF'\n",
    "f=1/(2*pi*sqrt(L*10**-6*Cs2*10**-12))\n",
    "f=round(f,2)\n",
    "print '4.The frequency of oscillation is',f,'Hz'"
   ]
  }
 ],
 "metadata": {
  "kernelspec": {
   "display_name": "Python 2",
   "language": "python",
   "name": "python2"
  },
  "language_info": {
   "codemirror_mode": {
    "name": "ipython",
    "version": 2
   },
   "file_extension": ".py",
   "mimetype": "text/x-python",
   "name": "python",
   "nbconvert_exporter": "python",
   "pygments_lexer": "ipython2",
   "version": "2.7.10"
  }
 },
 "nbformat": 4,
 "nbformat_minor": 0
}
