{
 "cells": [
  {
   "cell_type": "markdown",
   "metadata": {},
   "source": [
    "# Chapter14 WaveGuides"
   ]
  },
  {
   "cell_type": "markdown",
   "metadata": {},
   "source": [
    "## Example 14.2.1,Pg.no.524"
   ]
  },
  {
   "cell_type": "code",
   "execution_count": 9,
   "metadata": {
    "collapsed": false
   },
   "outputs": [
    {
     "name": "stdout",
     "output_type": "stream",
     "text": [
      "i)TE10 wave will propogate because (wl_c >wl)\n",
      "Guide wavelength is 3.98 cm\n",
      "Phase velocity is 39800.0 *10**6 m/s\n",
      "Group velocity is 2261306.53 m/s\n"
     ]
    }
   ],
   "source": [
    "import math\n",
    "from math import sqrt\n",
    "a=2.286           #in cm\n",
    "wl_c=2.0*a*10**-2   #in m\n",
    "c=3.0*10**8\n",
    "wl=c/10**10       #in m\n",
    "print 'i)TE10 wave will propogate because (wl_c >wl)'\n",
    "#determination of gide wl\n",
    "wl_g=10**2*(wl/(sqrt(1-(wl/wl_c)**2.0)))\n",
    "wl_g=round(wl_g,2)\n",
    "print 'Guide wavelength is',wl_g,'cm'\n",
    "#determination of phase velocity\n",
    "vp=c*wl_g/wl*10**-6\n",
    "print 'Phase velocity is',vp,'*10**6 m/s' \n",
    "#determination of group velocity\n",
    "vg=c*wl/wl_g\n",
    "vg=round(vg,2)\n",
    "print 'Group velocity is',vg,'m/s'"
   ]
  }
 ],
 "metadata": {
  "kernelspec": {
   "display_name": "Python 2",
   "language": "python",
   "name": "python2"
  },
  "language_info": {
   "codemirror_mode": {
    "name": "ipython",
    "version": 2
   },
   "file_extension": ".py",
   "mimetype": "text/x-python",
   "name": "python",
   "nbconvert_exporter": "python",
   "pygments_lexer": "ipython2",
   "version": "2.7.10"
  }
 },
 "nbformat": 4,
 "nbformat_minor": 0
}
