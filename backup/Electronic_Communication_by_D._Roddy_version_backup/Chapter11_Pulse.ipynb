{
 "cells": [
  {
   "cell_type": "markdown",
   "metadata": {},
   "source": [
    "# Chapter11 Pulse Modulation"
   ]
  },
  {
   "cell_type": "markdown",
   "metadata": {},
   "source": [
    "## Example 11.3.1,Pg.no.392"
   ]
  },
  {
   "cell_type": "code",
   "execution_count": 1,
   "metadata": {
    "collapsed": false
   },
   "outputs": [
    {
     "name": "stdout",
     "output_type": "stream",
     "text": [
      "The no . of bits per code word is 7.512\n",
      "Rounded off to 8\n"
     ]
    }
   ],
   "source": [
    "import math\n",
    "SNR=40.0\n",
    "#a) Determination of no . of bits /code\n",
    "n=(SNR -(10*math.log10(3))-(-10))/(20*math.log10(2))\n",
    "n=round(n,3)\n",
    "print 'The no . of bits per code word is',n\n",
    "print 'Rounded off to 8'"
   ]
  },
  {
   "cell_type": "markdown",
   "metadata": {},
   "source": [
    "## Example 11.3.2,Pg.no.393"
   ]
  },
  {
   "cell_type": "code",
   "execution_count": 2,
   "metadata": {
    "collapsed": false
   },
   "outputs": [
    {
     "name": "stdout",
     "output_type": "stream",
     "text": [
      "a)The transmission BW is 64000.0 Hz\n",
      "b)The quantization S/N ration is 48.0\n"
     ]
    }
   ],
   "source": [
    "import math\n",
    "q=1.0\n",
    "W=4*10**3\n",
    "n=8.0\n",
    "#a) Determination of Tx Bandwidth\n",
    "B=(1+q)*W*n\n",
    "print 'a)The transmission BW is',B,'Hz'\n",
    "#b) Determination of quantization S/N ratio\n",
    "SN_dB=6*n\n",
    "print 'b)The quantization S/N ration is',SN_dB"
   ]
  }
 ],
 "metadata": {
  "kernelspec": {
   "display_name": "Python 2",
   "language": "python",
   "name": "python2"
  },
  "language_info": {
   "codemirror_mode": {
    "name": "ipython",
    "version": 2
   },
   "file_extension": ".py",
   "mimetype": "text/x-python",
   "name": "python",
   "nbconvert_exporter": "python",
   "pygments_lexer": "ipython2",
   "version": "2.7.10"
  }
 },
 "nbformat": 4,
 "nbformat_minor": 0
}
