{
 "cells": [
  {
   "cell_type": "markdown",
   "metadata": {},
   "source": [
    "# Chapter13 Transmission Lines And Cables"
   ]
  },
  {
   "cell_type": "markdown",
   "metadata": {},
   "source": [
    "## Example 13.5.2,Pg.no.475"
   ]
  },
  {
   "cell_type": "code",
   "execution_count": 1,
   "metadata": {
    "collapsed": false
   },
   "outputs": [
    {
     "name": "stdout",
     "output_type": "stream",
     "text": [
      "The attenuation coeff is 0.005 dB/m\n",
      "The attenuation coeff is 8.04 dB/mile\n"
     ]
    }
   ],
   "source": [
    "import math\n",
    "a=0.0006  #The attenuation coeff in N/m\n",
    "#a) Determinaion of the attenuation coeff in dB/m\n",
    "a_dB=8.686*a\n",
    "a_dB=round(a_dB,3)\n",
    "print 'The attenuation coeff is',a_dB,'dB/m'\n",
    "#b) Determination of attenuation coeff in dB/mile\n",
    "k=1609   #conversion coeff for meter to mile\n",
    "a_dB_mile=k*a_dB\n",
    "a_dB_mile=round(a_dB_mile,2)\n",
    "print 'The attenuation coeff is',a_dB_mile,'dB/mile'"
   ]
  },
  {
   "cell_type": "markdown",
   "metadata": {},
   "source": [
    "## Example 13.10.1,Pg.no.485"
   ]
  },
  {
   "cell_type": "code",
   "execution_count": 33,
   "metadata": {
    "collapsed": false
   },
   "outputs": [
    {
     "name": "stdout",
     "output_type": "stream",
     "text": [
      "a)The equivalent series resistance is 37.15 ohm\n",
      "  The equivalent series reactance is 27.63 ohm\n",
      "b)The equivalent parallel resistance is 57.7 ohm\n",
      "  The equivalent parallel reactance is -77.57 ohm\n"
     ]
    }
   ],
   "source": [
    "import math\n",
    "Z0=50.0   #measured in ohm\n",
    "VSWR=2.0\n",
    "d=0.2     #distance from load to firstt minimum\n",
    "T=(VSWR -1)/(VSWR+1)\n",
    "pi=180.0\n",
    "Ql=pi*(4*0.2-1)       #using Euler’s identity\n",
    "e=complex(math.cos(Ql),math.sin(Ql))   #expansion for e ˆ( jQl )\n",
    "a=T*e  \n",
    "#Load impedance is given as\n",
    "ZL=Z0*(1+a)/(1-a)\n",
    "Zlr=round(ZL.real,2)\n",
    "Zli=round(ZL.imag,2)\n",
    "print 'a)The equivalent series resistance is',Zlr,'ohm'\n",
    "print '  The equivalent series reactance is',Zli,'ohm'\n",
    "Yl=1/ZL\n",
    "Yl1=round(1/Yl.real,2)\n",
    "Yli=round(1/Yl.imag,2)\n",
    "print 'b)The equivalent parallel resistance is',Yl1,'ohm'\n",
    "print '  The equivalent parallel reactance is',Yli,'ohm'"
   ]
  },
  {
   "cell_type": "markdown",
   "metadata": {},
   "source": [
    "## Example 13.11.1,Pg.no.488"
   ]
  },
  {
   "cell_type": "code",
   "execution_count": 34,
   "metadata": {
    "collapsed": false
   },
   "outputs": [
    {
     "name": "stdout",
     "output_type": "stream",
     "text": [
      "The equivalent inductive reactance is 36.33 j ohm\n"
     ]
    }
   ],
   "source": [
    "import math\n",
    "from math import pi\n",
    "d=0.1   #length of 50ohm short−circuited line\n",
    "Z0=50   #in ohm\n",
    "f=500*10**6   #freq in Hz\n",
    "Bl=2*pi*d \n",
    "#a) Determination of equivalent inductive reactance\n",
    "Z=complex(0,Z0*math.tan(Bl))\n",
    "Z=round(Z.imag,2)\n",
    "print 'The equivalent inductive reactance is',Z,'j','ohm'"
   ]
  },
  {
   "cell_type": "markdown",
   "metadata": {},
   "source": [
    "## Example 13.17.1,Pg.no.513"
   ]
  },
  {
   "cell_type": "code",
   "execution_count": 35,
   "metadata": {
    "collapsed": false
   },
   "outputs": [
    {
     "name": "stdout",
     "output_type": "stream",
     "text": [
      "a) The equivalent series resistance is 46.93 ohm\n",
      "   The equivalent series reactance is 17.24 ohm\n",
      "b) The equivalent parallel resistance is 53.27 ohm\n"
     ]
    }
   ],
   "source": [
    "import math\n",
    "from math import pi\n",
    "VSWR=2.0\n",
    "l_min=0.2\n",
    "Z0=50.0\n",
    "Ql=((4*l_min )-1)*pi\n",
    "tl=(VSWR -1)/(VSWR+1)\n",
    "Tl=complex(0,tl*math.e**(Ql))\n",
    "Zl=Z0*(1+Tl)/(1-Tl)\n",
    "Zr=round(Zl.real,2)\n",
    "Zm=round(Zl.imag,2)\n",
    "print 'a) The equivalent series resistance is',Zr,'ohm' \n",
    "print '   The equivalent series reactance is',Zm,'ohm'\n",
    "Yl=1/Zl\n",
    "Yl=1/Yl.real\n",
    "Yl=round(Yl,2)\n",
    "print 'b) The equivalent parallel resistance is',Yl,'ohm'"
   ]
  },
  {
   "cell_type": "markdown",
   "metadata": {},
   "source": [
    "## Example 13.17.2,Pg.no.514"
   ]
  },
  {
   "cell_type": "code",
   "execution_count": 20,
   "metadata": {
    "collapsed": false
   },
   "outputs": [
    {
     "name": "stdout",
     "output_type": "stream",
     "text": [
      "The input impedance is 50.0 + -2.87e-05 j ohm\n"
     ]
    }
   ],
   "source": [
    "import math\n",
    "ZL=complex(30,0)-complex(0,23)\n",
    "l=0.5     #length of line in m\n",
    "Z0=50.0     #characteristic impedance in ohm\n",
    "wl=0.45   #wavelength on the line in m\n",
    "B=2*pi/wl\n",
    "Tl=(ZL-Z0)/(ZL+Z0)\n",
    "VI=1.0     #reference voltage in volt\n",
    "VR=VI*Tl\n",
    "z=complex(B*l)\n",
    "Vi=VI*math.e**(z)\n",
    "Vr=VR*math.e**(-z)\n",
    "V=Vi+Vr\n",
    "I=(Vi-Vr)/Z0\n",
    "Z=V/I\n",
    "Z1=round(Z.real,2)\n",
    "Zi=Z.imag*10**5\n",
    "Zi=round(Zi,2)*10**-5\n",
    "print 'The input impedance is',Z1,'+',Zi,'j','ohm'"
   ]
  },
  {
   "cell_type": "markdown",
   "metadata": {},
   "source": [
    "## Example 13.17.3,Pg.no.515"
   ]
  },
  {
   "cell_type": "code",
   "execution_count": 24,
   "metadata": {
    "collapsed": false
   },
   "outputs": [
    {
     "name": "stdout",
     "output_type": "stream",
     "text": [
      "The input impedance is (73+0j) ohm\n",
      "The VSWR is 0.12 + 0.0 j\n"
     ]
    }
   ],
   "source": [
    "import math\n",
    "from math import pi,sqrt\n",
    "Z0=600.0\n",
    "Zl=73.0  #in ohm\n",
    "F=0.9\n",
    "QF=(2*pi*F)/4 \n",
    "#For matching , the effective load impedance on the main line must equal the characteristic impedance of the mail line\n",
    "Zl1=Zl\n",
    "Z01=sqrt(Zl1*Zl)\n",
    "Tl=(Zl-Z01)/(Zl+Z01)\n",
    "VI=1  #reference voltage\n",
    "Vi=VI*math.e**(complex(0,QF));\n",
    "Vr=Tl*VI*math.e**-(complex(0,QF))\n",
    "V_in=Vi+Vr\n",
    "I_in=(Vi-Vr)/Z01\n",
    "Z_in=V_in/I_in\n",
    "print'The input impedance is',Z_in,'ohm'\n",
    "#the voltage reflection coeff is\n",
    "TL_F=(Z_in -Z0)/(Z_in+Z0)\n",
    "#the VSWr is given as\n",
    "VSWR_F=(1+TL_F)/(1-TL_F)\n",
    "VSWR_Fr=round(VSWR_F.real,2)\n",
    "VSWR_Fi=VSWR_F.imag\n",
    "print 'The VSWR is',VSWR_Fr,'+',VSWR_Fi,'j'"
   ]
  }
 ],
 "metadata": {
  "kernelspec": {
   "display_name": "Python 2",
   "language": "python",
   "name": "python2"
  },
  "language_info": {
   "codemirror_mode": {
    "name": "ipython",
    "version": 2
   },
   "file_extension": ".py",
   "mimetype": "text/x-python",
   "name": "python",
   "nbconvert_exporter": "python",
   "pygments_lexer": "ipython2",
   "version": "2.7.10"
  }
 },
 "nbformat": 4,
 "nbformat_minor": 0
}
