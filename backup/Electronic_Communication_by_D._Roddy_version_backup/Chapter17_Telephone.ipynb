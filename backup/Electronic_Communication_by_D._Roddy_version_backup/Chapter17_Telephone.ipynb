{
 "cells": [
  {
   "cell_type": "markdown",
   "metadata": {},
   "source": [
    "# Chapter17 Telephone Systems"
   ]
  },
  {
   "cell_type": "markdown",
   "metadata": {},
   "source": [
    "## Example 17.1.1,Pg.no.641"
   ]
  },
  {
   "cell_type": "code",
   "execution_count": 1,
   "metadata": {
    "collapsed": false
   },
   "outputs": [
    {
     "name": "stdout",
     "output_type": "stream",
     "text": [
      "a)The max gain is 44.0 dB\n",
      "b)The max gain is 30 dB\n",
      "c)The amplr gain is 27.0 dB\n"
     ]
    }
   ],
   "source": [
    "import math\n",
    "FTL=50\n",
    "M=12\n",
    "NFL=2*FTL\n",
    "NFLG=(NFL-M)\n",
    "G_max1=NFLG/2\n",
    "G_max1=round(G_max1,1)\n",
    "print 'a)The max gain is',G_max1,'dB' \n",
    "#b) Determination of max gain2 \n",
    "IL=3\n",
    "RLW=20\n",
    "RLE=40\n",
    "NL=(4*IL)+RLW+RLE\n",
    "NLG=(NL-M)\n",
    "G_max2=NLG/2\n",
    "print 'b)The max gain is',G_max2,'dB' \n",
    "#c ) Determination of amplr gain\n",
    "LT=15.0\n",
    "OM=6.0\n",
    "OLW=(RLW-LT)/2\n",
    "OLE=(RLE-LT)/2\n",
    "A=OM+OLW+OLE+(2*IL)\n",
    "print 'c)The amplr gain is',A,'dB'"
   ]
  }
 ],
 "metadata": {
  "kernelspec": {
   "display_name": "Python 2",
   "language": "python",
   "name": "python2"
  },
  "language_info": {
   "codemirror_mode": {
    "name": "ipython",
    "version": 2
   },
   "file_extension": ".py",
   "mimetype": "text/x-python",
   "name": "python",
   "nbconvert_exporter": "python",
   "pygments_lexer": "ipython2",
   "version": "2.7.10"
  }
 },
 "nbformat": 4,
 "nbformat_minor": 0
}
