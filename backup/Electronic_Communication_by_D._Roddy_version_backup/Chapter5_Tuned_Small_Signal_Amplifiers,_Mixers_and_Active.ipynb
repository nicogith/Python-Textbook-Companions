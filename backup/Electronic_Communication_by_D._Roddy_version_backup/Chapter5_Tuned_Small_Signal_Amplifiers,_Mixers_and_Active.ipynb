{
 "cells": [
  {
   "cell_type": "markdown",
   "metadata": {},
   "source": [
    "# Chapter5 Tuned Small Signal Amplifiers, Mixers and Active Filters"
   ]
  },
  {
   "cell_type": "markdown",
   "metadata": {},
   "source": [
    "## Example 5.4.1,Pg.no.162"
   ]
  },
  {
   "cell_type": "code",
   "execution_count": 1,
   "metadata": {
    "collapsed": false
   },
   "outputs": [
    {
     "name": "stdout",
     "output_type": "stream",
     "text": [
      "The voltage gain is -918.2\n",
      "The Millar capacitance is 551.52 pF\n"
     ]
    }
   ],
   "source": [
    "import math\n",
    "from math import pi\n",
    "f=5*10**6\n",
    "c=100*10**-12          #tuning capacitance in F\n",
    "Q=150.0                #Q−factor of the ckt\n",
    "Rl=5*10**3             #load resistance in ohm\n",
    "Rc=40*10**3            #o/p reistance of transistor\n",
    "Ic=500*10**-6          #transister collector current in A \n",
    "C=0.6*10**-12          #collector to base capacitance in F\n",
    "Vt=26*10**-3           #thermal voltage in V\n",
    "#transe conductance is given as\n",
    "gm=Ic/Vt\n",
    "RD2=Q/(2*pi*f*c)\n",
    "#At resonance the output admittance is purely conductive and is given as\n",
    "Yo=(1/Rc)+(1/RD2)+(1/Rl)\n",
    "#The voltage gain is given as\n",
    "Av=-(gm/Yo)\n",
    "Av=round(Av,2)\n",
    "print 'The voltage gain is',Av\n",
    "#The Millar capacitance is given as\n",
    "Cm=(1-Av)*C*10**12\n",
    "Cm=round(Cm,2)\n",
    "print 'The Millar capacitance is',Cm,'pF'"
   ]
  },
  {
   "cell_type": "markdown",
   "metadata": {},
   "source": [
    "## Example 5.4.2,Pg.no.163"
   ]
  },
  {
   "cell_type": "code",
   "execution_count": 2,
   "metadata": {
    "collapsed": false
   },
   "outputs": [
    {
     "name": "stdout",
     "output_type": "stream",
     "text": [
      "The effective Q−factor is 12.68\n",
      "The voltage gain is 62.14\n"
     ]
    }
   ],
   "source": [
    "from math import pi\n",
    "f=5*10**6               #in Hz\n",
    "w0=2*pi*f\n",
    "Q=100.0                 #Q−factor of the ckt\n",
    "L=2*10**-6              #inductance expressed in H\n",
    "Rs=1000.0               #source resistance in ohm\n",
    "Ic=500*10**-6           #transister collector current in A \n",
    "Vt=26*10**-3            #thermal voltage in V\n",
    "hfe=200.0\n",
    "C_be=10*10**-12         #in pF\n",
    "#refer to problem 5.4.1\n",
    "Av=78.0\n",
    "Cm=47.0\n",
    "gm=Ic/Vt\n",
    "r_be=hfe/gm\n",
    "#The dynamic resistance of the tuned ckt is\n",
    "RD1=Q*w0*L             #The effective dynamic conductance is\n",
    "RD1eff_1=(1/Rs)+(1/RD1)+(1/r_be)\n",
    "RD1_eff=1/RD1eff_1            \n",
    "#Tha effective Q−factor is\n",
    "Qeff=RD1_eff/(w0*L)\n",
    "Qeff=round(Qeff,2)\n",
    "print 'The effective Q−factor is',Qeff\n",
    "#The voltage gain refered to source is\n",
    "Avs=RD1_eff*Av/Rs\n",
    "Avs=round(Avs,2)\n",
    "print 'The voltage gain is',Avs"
   ]
  }
 ],
 "metadata": {
  "kernelspec": {
   "display_name": "Python 2",
   "language": "python",
   "name": "python2"
  },
  "language_info": {
   "codemirror_mode": {
    "name": "ipython",
    "version": 2
   },
   "file_extension": ".py",
   "mimetype": "text/x-python",
   "name": "python",
   "nbconvert_exporter": "python",
   "pygments_lexer": "ipython2",
   "version": "2.7.10"
  }
 },
 "nbformat": 4,
 "nbformat_minor": 0
}
