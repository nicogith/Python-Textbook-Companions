{
 "metadata": {
  "celltoolbar": "Raw Cell Format",
  "name": "",
  "signature": "sha256:ed1a25d96a9de635d5aa1c88be7d5d2e542d32bc8dd1dcaa2a4c1e4169428cb8"
 },
 "nbformat": 3,
 "nbformat_minor": 0,
 "worksheets": [
  {
   "cells": [
    {
     "cell_type": "heading",
     "level": 1,
     "metadata": {},
     "source": [
      "Chapter 13: Networks"
     ]
    },
    {
     "cell_type": "heading",
     "level": 2,
     "metadata": {},
     "source": [
      "Example 13.1,Page number 568"
     ]
    },
    {
     "cell_type": "code",
     "collapsed": false,
     "input": [
      "import math\n",
      "\n",
      "#given\n",
      "\n",
      "Vcc=5;              #in V\n",
      "Vf=1.5;             #in V\n",
      "If=60;              #in mA\n",
      "B=3.97;\n",
      "N=3;\n",
      "R9=(Vcc-Vf)*(B+1)/If/10**-3;\n",
      "print\"R9 =\",round(R9,4),\"ohm\";\n",
      "R7=R9/2/B-3/N;\n",
      "print\"R7 =\",round(R7,4),\"ohm\";\n",
      "R8=R9/2/B;\n",
      "print\"R8 =\",round(R8,4),\"ohm\";\n",
      "C4=2*10**-9/R8;\n",
      "print\"C4 =\",round(C4*10**12,4),\"pF\";\n",
      "\n"
     ],
     "language": "python",
     "metadata": {},
     "outputs": [
      {
       "output_type": "stream",
       "stream": "stdout",
       "text": [
        "R9 = 289.9167 ohm\n",
        "R7 = 35.5134 ohm\n",
        "R8 = 36.5134 ohm\n",
        "C4 = 54.7744 pF\n"
       ]
      }
     ],
     "prompt_number": 2
    },
    {
     "cell_type": "heading",
     "level": 2,
     "metadata": {},
     "source": [
      "Example 13.2,Page number 569"
     ]
    },
    {
     "cell_type": "code",
     "collapsed": false,
     "input": [
      "import math\n",
      "\n",
      "#given\n",
      "\n",
      "Vu3=1.24;           #in V\n",
      "Vbeq3=0.7;          #in V\n",
      "Vbeq4=0.7;          #in V\n",
      "R5=17.5;            #in Ohm\n",
      "R6=17.5;            #in Ohm\n",
      "Voh=5;              #in V\n",
      "Vol=0;              #in V\n",
      "\n",
      "If=(Vu3-Vbeq3)/R5+(Vu3-Vbeq4)/R6;\n",
      "print\"If=\",round(If*1000,4),\"mA\";\n",
      "\n",
      "R3=(Voh-Vol)/If;\n",
      "print\"R3=\",round(R3,4),\"ohm\";\n",
      "\n",
      "C4=2*10**-9/R3;\n",
      "print\"C4=\",round(C4*10**12,4),\"pF\";\n"
     ],
     "language": "python",
     "metadata": {},
     "outputs": [
      {
       "output_type": "stream",
       "stream": "stdout",
       "text": [
        "If= 61.7143 mA\n",
        "R3= 81.0185 ohm\n",
        "C4= 24.6857 pF\n"
       ]
      }
     ],
     "prompt_number": 5
    },
    {
     "cell_type": "heading",
     "level": 2,
     "metadata": {},
     "source": [
      "Example 13.2,Page number 581"
     ]
    },
    {
     "cell_type": "code",
     "collapsed": false,
     "input": [
      "##\"Page number 581 again  Example 13-2 (numbering mistake)\";\n",
      "import math\n",
      "\n",
      "#given\n",
      "\n",
      "Er=4.9;\n",
      "h=5;                 #in mils\n",
      "w=10;                #in mils\n",
      "t=0.5;               #in mils\n",
      "\n",
      "Z=60.0/math.sqrt(0.475*Er+0.67)*log(4*h/0.67/(0.8*w+t));\n",
      "print\"Z =\",round(Z,4),\"ohm\";\n",
      "\n",
      "tpd=1.017*sqrt(0.475*Er+0.67);\n",
      "print\"tpd =\",round(tpd,4),\"ns/ft\";\n",
      "\n",
      "Tpd=tpd*1000/12;           #converted into ps/in\n",
      "print\"tpd =\",round(Tpd,4),\"ps/in\";\n",
      "\n",
      "Co=Tpd/Z;\n",
      "print\"Co =\",round(Co,4),\"pF/in\";\n"
     ],
     "language": "python",
     "metadata": {},
     "outputs": [
      {
       "output_type": "stream",
       "stream": "stdout",
       "text": [
        "Page number 581 again  Example 13-2 (numbering mistake)\n",
        "Z = 43.5322 ohm\n",
        "tpd = 1.7608 ns/ft\n",
        "tpd = 146.7301 ps/in\n",
        "Co = 3.3706 pF/in\n"
       ]
      }
     ],
     "prompt_number": 7
    },
    {
     "cell_type": "heading",
     "level": 2,
     "metadata": {},
     "source": [
      "Example 13.3,Page number 583"
     ]
    },
    {
     "cell_type": "code",
     "collapsed": false,
     "input": [
      "import math\n",
      "\n",
      "#given\n",
      "\n",
      "Er=4.7;\n",
      "b=10;                #in mils\n",
      "w=4;                 #in mils\n",
      "t=0.5;               #in mils\n",
      "\n",
      "Z=60/math.sqrt(Er)*log(4*b/0.67/math.pi/(0.8*w+t));\n",
      "print\" Z =\",round(Z,4),\"ohm\";\n",
      "\n",
      "tpd=1.017*sqrt(Er);\n",
      "print\" tpd =\",round(tpd,4),\"ns/ft\";\n",
      "\n",
      "Tpd=tpd*1000/12;           #converted into ps/in\n",
      "print\" Also,tpd =\",round(Tpd,4),\"ps/in\";\n"
     ],
     "language": "python",
     "metadata": {},
     "outputs": [
      {
       "output_type": "stream",
       "stream": "stdout",
       "text": [
        " Z = 45.286 ohm\n",
        " tpd = 2.2048 ns/ft\n",
        " Also,tpd = 183.7336 ps/in\n"
       ]
      }
     ],
     "prompt_number": 10
    },
    {
     "cell_type": "code",
     "collapsed": false,
     "input": [],
     "language": "python",
     "metadata": {},
     "outputs": []
    }
   ],
   "metadata": {}
  }
 ]
}