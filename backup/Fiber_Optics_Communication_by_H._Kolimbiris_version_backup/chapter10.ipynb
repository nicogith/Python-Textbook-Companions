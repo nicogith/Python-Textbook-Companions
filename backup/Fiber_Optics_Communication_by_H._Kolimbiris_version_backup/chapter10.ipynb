{
 "metadata": {
  "celltoolbar": "Raw Cell Format",
  "name": "",
  "signature": "sha256:c06efac8408adc2e7578de13cf00375dacdb8941daaf6d4b8b1dec663e9b7c40"
 },
 "nbformat": 3,
 "nbformat_minor": 0,
 "worksheets": [
  {
   "cells": [
    {
     "cell_type": "heading",
     "level": 1,
     "metadata": {},
     "source": [
      "Chapter 10: Optical Modulation"
     ]
    },
    {
     "cell_type": "heading",
     "level": 2,
     "metadata": {},
     "source": [
      "Example 10.1,Page number 354"
     ]
    },
    {
     "cell_type": "code",
     "collapsed": false,
     "input": [
      "import math\n",
      "\n",
      "#given\n",
      "\n",
      "Vpi=1;         #Assumed 1 because we can not use a variable on RHS \n",
      "#Vpi is Violtage swing\n",
      "A=0.25;         #chirping\n",
      "#V1=(AV1p+Vp)/2\n",
      "V1=(A*Vpi+Vpi)/2;\n",
      "print\" V1=\",V1,\"Vpi\"; \n",
      "V2=V1-Vpi;\n",
      "print\" V2=\",V2,\"Vpi\";\n"
     ],
     "language": "python",
     "metadata": {},
     "outputs": [
      {
       "output_type": "stream",
       "stream": "stdout",
       "text": [
        " V1= 0.625 Vpi\n",
        " V2= -0.375 Vpi\n"
       ]
      }
     ],
     "prompt_number": 3
    },
    {
     "cell_type": "heading",
     "level": 2,
     "metadata": {},
     "source": [
      "Example 10.2,Page number 354"
     ]
    },
    {
     "cell_type": "code",
     "collapsed": false,
     "input": [
      "import math\n",
      "\n",
      "#given\n",
      "\n",
      "Vpi=1;         #Assumed 1 because we can not use a variable on RHS\n",
      "#Vpi is Violtage swing\n",
      "\n",
      "print\"for alpha=0.3\";\n",
      "A=0.3;         #chirping\n",
      "\n",
      "#V1=(AV1p+Vp)/2\n",
      "V1=(A*Vpi+Vpi)/2;\n",
      "print\" V1=\",V1,\"Vpi\"; \n",
      "V2=V1-Vpi;\n",
      "print\" V2=\",V2,\"Vpi\";\n",
      "\n",
      "print\"for alpha=0.8\";\n",
      "A=0.8;         #chirping\n",
      "#V1=(AV1p+Vp)/2\n",
      "V1x=(A*Vpi+Vpi)/2;\n",
      "print\" V1=\",V1x,\"Vpi\"; \n",
      "V2x=V1x-Vpi;\n",
      "print\" V2=\",V2x,\"Vpi\";\n",
      "\n",
      "print\" Biasing range is\",V1,\"Vpi <= V1 <=\",V1x,\"Vpi\"; \n",
      "print\" Biasing range is\",V2,\"Vpi <= V2 <=\",V2x,\"Vpi\"; \n"
     ],
     "language": "python",
     "metadata": {},
     "outputs": [
      {
       "output_type": "stream",
       "stream": "stdout",
       "text": [
        "for alpha=0.3\n",
        " V1= 0.65 Vpi\n",
        " V2= -0.35 Vpi\n",
        "for alpha=0.8\n",
        " V1= 0.9 Vpi\n",
        " V2= -0.1 Vpi\n",
        " Biasing range is 0.65 Vpi <= V1 <= 0.9 Vpi\n",
        " Biasing range is -0.35 Vpi <= V2 <= -0.1 Vpi\n"
       ]
      }
     ],
     "prompt_number": 2
    },
    {
     "cell_type": "code",
     "collapsed": false,
     "input": [],
     "language": "python",
     "metadata": {},
     "outputs": []
    }
   ],
   "metadata": {}
  }
 ]
}