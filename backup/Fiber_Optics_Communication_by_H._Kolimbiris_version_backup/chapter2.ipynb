{
 "metadata": {
  "celltoolbar": "Raw Cell Format",
  "name": "",
  "signature": "sha256:d29d3a679a41724a7418468df6fc23d4201d21504336408f925fcb746ba7b8bf"
 },
 "nbformat": 3,
 "nbformat_minor": 0,
 "worksheets": [
  {
   "cells": [
    {
     "cell_type": "heading",
     "level": 1,
     "metadata": {},
     "source": [
      "Chapter 2: Fundamental of Semiconductor Theory"
     ]
    },
    {
     "cell_type": "heading",
     "level": 2,
     "metadata": {},
     "source": [
      "Example 2.1,Page number 43"
     ]
    },
    {
     "cell_type": "code",
     "collapsed": false,
     "input": [
      "import math\n",
      "\n",
      "#given\n",
      "\n",
      "n=1;\n",
      "Ne=2*n**2;\n",
      "print\"Maximum number of electron in 1st shell is \",Ne;  #Result\n",
      "n2=2;  #shell no\n",
      "Ne2=2*n2**2;  #shell no\n",
      "print\"Maximum number of electron in 2nd shell is \",Ne2; #Result\n"
     ],
     "language": "python",
     "metadata": {},
     "outputs": [
      {
       "output_type": "stream",
       "stream": "stdout",
       "text": [
        "Maximum number of electron in 1st shell is  2\n",
        "Maximum number of electron in 2nd shell is  8\n"
       ]
      }
     ],
     "prompt_number": 1
    },
    {
     "cell_type": "heading",
     "level": 2,
     "metadata": {},
     "source": [
      "Example 2.2,Page number 45"
     ]
    },
    {
     "cell_type": "code",
     "collapsed": false,
     "input": [
      "import math\n",
      "\n",
      "#given\n",
      "\n",
      "#Given  for silicon for temp 0-400K\n",
      "Eg0_Si=1.17;         #in eV\n",
      "A=4.73*10**-4;       #in eV/K\n",
      "B=636;\n",
      "for i in range(1,9):\n",
      "    T=50*i;          #degree/Kelvin\n",
      "    Eg_Si=Eg0_Si-(A*T**2)/(B+T);\n",
      "    print\"Band gap energy of silicon at \",T,\" K is \",round(Eg_Si,3),\"eV \";  #result\n",
      "\n",
      "#Given  for Germanium for temp 0-400K\n",
      "print\"\\n\"\n",
      "Eg0_Ge=0.7437;           #in eV\n",
      "A_Ge=4.774*10**-4;       #in eV/K\n",
      "B_Ge=235;\n",
      "for i in range(1,9):\n",
      "    T=50*i;              #degree/Kelvin\n",
      "    Eg_Ge=Eg0_Ge-(A_Ge*T**2)/(B_Ge+T);\n",
      "    print\"Band gap energy of germanium at \",T,\" K is \",round(Eg_Ge,3),\"eV \"; #result\n",
      "\n",
      "\n",
      "#Given  for GaAs for temp 0-400K\n",
      "print\"\\n\"\n",
      "Eg0_Ga=1.519;       #in eV\n",
      "A_Ga=5.405*10**-4;  #in eV/K\n",
      "B_Ga=204;\n",
      "for i in range(1,9):\n",
      "    T=50*i;         #degree/Kelvin\n",
      "    Eg_Ga=Eg0_Ga-(A_Ga*T**2)/(B_Ga+T);\n",
      "    print\"Band gap energy of GaAs at \",T ,\"K is \",round(Eg_Ga,3),\"eV\";  #result\n",
      "\n"
     ],
     "language": "python",
     "metadata": {},
     "outputs": [
      {
       "output_type": "stream",
       "stream": "stdout",
       "text": [
        "Band gap energy of silicon at  50  K is  1.168 eV \n",
        "Band gap energy of silicon at  100  K is  1.164 eV \n",
        "Band gap energy of silicon at  150  K is  1.156 eV \n",
        "Band gap energy of silicon at  200  K is  1.147 eV \n",
        "Band gap energy of silicon at  250  K is  1.137 eV \n",
        "Band gap energy of silicon at  300  K is  1.125 eV \n",
        "Band gap energy of silicon at  350  K is  1.111 eV \n",
        "Band gap energy of silicon at  400  K is  1.097 eV \n",
        "\n",
        "\n",
        "Band gap energy of germanium at  50  K is  0.74 eV \n",
        "Band gap energy of germanium at  100  K is  0.729 eV \n",
        "Band gap energy of germanium at  150  K is  0.716 eV \n",
        "Band gap energy of germanium at  200  K is  0.7 eV \n",
        "Band gap energy of germanium at  250  K is  0.682 eV \n",
        "Band gap energy of germanium at  300  K is  0.663 eV \n",
        "Band gap energy of germanium at  350  K is  0.644 eV \n",
        "Band gap energy of germanium at  400  K is  0.623 eV \n",
        "\n",
        "\n",
        "Band gap energy of GaAs at  50 K is  1.514 eV\n",
        "Band gap energy of GaAs at  100 K is  1.501 eV\n",
        "Band gap energy of GaAs at  150 K is  1.485 eV\n",
        "Band gap energy of GaAs at  200 K is  1.465 eV\n",
        "Band gap energy of GaAs at  250 K is  1.445 eV\n",
        "Band gap energy of GaAs at  300 K is  1.422 eV\n",
        "Band gap energy of GaAs at  350 K is  1.399 eV\n",
        "Band gap energy of GaAs at  400 K is  1.376 eV\n"
       ]
      }
     ],
     "prompt_number": 12
    },
    {
     "cell_type": "heading",
     "level": 2,
     "metadata": {},
     "source": [
      "Example 2.3,Page number 52"
     ]
    },
    {
     "cell_type": "code",
     "collapsed": false,
     "input": [
      "import math\n",
      "\n",
      "#given\n",
      "\n",
      "l=10*10**-3;        #in m\n",
      "w=2*10**-3;         #in m\n",
      "h=2*10**-3;         #in m\n",
      "V=12;               #in V\n",
      "u_n=0.14;          #in  m*m/V*s\n",
      "u_p=0.05;          #in m*m/V*s\n",
      "q_n=1.6*10**-19;     #in Columbs\n",
      "q_p=1.6*10**-19;     #in Columbs\n",
      "p_i=2.4*10**19;      #in columbs\n",
      "n_i=2.4*10**19;      #in columbs\n",
      "E=V/l;\n",
      "v_n=E*u_n;\n",
      "v_p=E*u_p;\n",
      "J_n=n_i*q_n*v_n;\n",
      "J_p=p_i*q_p*v_p;\n",
      "J=J_n+J_p;\n",
      "print\"Electron velocity :vn is \",v_n,\"m/s\";      #result\n",
      "print\"Hole velocity :vp is  \",v_p/1000,\"km/s\";  #result\n",
      "print\"Current density : Jn \",J,\"A/m^2\";           #result\n",
      "A=88*10**-6;\n",
      "I_T=J*A;\n",
      "print\"Total current :I_T is\",round(I_T*1000,4),\"mA\";      #result\n"
     ],
     "language": "python",
     "metadata": {},
     "outputs": [
      {
       "output_type": "stream",
       "stream": "stdout",
       "text": [
        "Electron velocity :vn is  168.0 m/s\n",
        "Hole velocity :vp is   0.06 km/s\n",
        "Current density : Jn  875.52 A/m^2\n",
        "Total current :I_T is 77.0458 mA\n"
       ]
      }
     ],
     "prompt_number": 14
    },
    {
     "cell_type": "heading",
     "level": 2,
     "metadata": {},
     "source": [
      "Example 2.4,Page number 53"
     ]
    },
    {
     "cell_type": "code",
     "collapsed": false,
     "input": [
      "import math\n",
      "\n",
      "#given\n",
      "\n",
      "n_i=2*10**17;          #electron/m*m*m\n",
      "p=5.7*10**20;          #holes/m*m*m\n",
      "u_n=0.14;           #in  m*m/V*s\n",
      "u_p=0.05;           #in m*m/V*s\n",
      "q_n=1.6*10**-19;     #in Columbs\n",
      "q_p=1.6*10**-19;     #in Columbs\n",
      "n=(n_i)**2/p;\n",
      "print\"Electron :n is \",\"{0:.3e}\".format(n),\"electrons \";  #result\n",
      "n=7*10**13\n",
      "P=(n*u_n*q_n)+(p*u_p*q_p);\n",
      "print\"Conductivity :P is \",round(P,4),\"S/m \";                      #result\n",
      "# answer misprinted\n"
     ],
     "language": "python",
     "metadata": {},
     "outputs": [
      {
       "output_type": "stream",
       "stream": "stdout",
       "text": [
        "Electron :n is  7.018e+13 electrons \n",
        "Conductivity :P is  4.56 S/m \n"
       ]
      }
     ],
     "prompt_number": 17
    },
    {
     "cell_type": "heading",
     "level": 2,
     "metadata": {},
     "source": [
      "Example 2.5,Page number 55"
     ]
    },
    {
     "cell_type": "code",
     "collapsed": false,
     "input": [
      "import math\n",
      "\n",
      "#given\n",
      "\n",
      "NA=10**22;           #acceptors/m*m*m\n",
      "ND=1.2*10**21;       #donors/m*m*m\n",
      "T=298;               #in Kelvin\n",
      "k=1.38*10**-23;      #Boltzman Constant in J/K\n",
      "q=1.6*10**-19;       #charge of electron  in C\n",
      "Vt=k*T/q;            #thermal voltage  in V\n",
      "print\" VT is \",Vt*1000,\"mV\";     #result\n",
      "n_i=2.4*10**17;                  #carrier/m**3 for silicon \n",
      "VB=Vt*log(NA*ND/n_i**2);         #barrier voltage in V\n",
      "print\" Barrier Voltage of Silicon VB is \",round(VB*1000,4),\"mV\";     #result\n"
     ],
     "language": "python",
     "metadata": {},
     "outputs": [
      {
       "output_type": "stream",
       "stream": "stdout",
       "text": [
        " VT is  25.7025 mV\n",
        " Barrier Voltage of Silicon VB is  492.3224 mV\n"
       ]
      }
     ],
     "prompt_number": 19
    },
    {
     "cell_type": "heading",
     "level": 2,
     "metadata": {},
     "source": [
      "Example 2.6,Page number 56"
     ]
    },
    {
     "cell_type": "code",
     "collapsed": false,
     "input": [
      "import math\n",
      "\n",
      "#given\n",
      "\n",
      "Is=0.12;          #in pAmp\n",
      "V=0.6;            #in V\n",
      "T=293;            #in Kelvin\n",
      "k=1.38*10**-23;      #Boltzmann's Constant in J/K\n",
      "q=1.6*10**-19;       # charge of electron in C\n",
      "Vt=k*T/q;            #thermal voltage\n",
      "print\"VT(20 deg Cel) is  \",round(Vt,4),\"V\";    #result in book is misprint\n",
      "T1=373;              #in Kelvin\n",
      "n=1.25;\n",
      "Vt1=k*T1/q;          #thermal voltage\n",
      "print\"VT(100 deg Cel) is  \",round(Vt1,4),\"V\";\n",
      "I=Is*(math.e**(V/(n*Vt1))-1);        #forward biasing current in mircoA\n",
      "print\"I(100 deg Cel) is \",round(I/10**6,4),\"microampere\";   #result\n"
     ],
     "language": "python",
     "metadata": {},
     "outputs": [
      {
       "output_type": "stream",
       "stream": "stdout",
       "text": [
        "VT(20 deg Cel) is   0.0253 V\n",
        "VT(100 deg Cel) is   0.0322 V\n",
        "I(100 deg Cel) is  0.3622 microampere\n"
       ]
      }
     ],
     "prompt_number": 22
    },
    {
     "cell_type": "heading",
     "level": 2,
     "metadata": {},
     "source": [
      "Example 2.7,Page number 56"
     ]
    },
    {
     "cell_type": "code",
     "collapsed": false,
     "input": [
      "import math\n",
      "\n",
      "#given\n",
      "\n",
      "Is=100;          #in nAmp        \n",
      "Ts=100;          #in Kelvin\n",
      "I_s=Is*10**-9*2**(Ts/10);       #I_s will be in nm \n",
      "print\" I(100 deg Cel) is \",I_s*10**6,\"microampere\";   #converted to microA from nm\n",
      "# wrong calculation in the book\n"
     ],
     "language": "python",
     "metadata": {},
     "outputs": [
      {
       "output_type": "stream",
       "stream": "stdout",
       "text": [
        " I(100 deg Cel) is  102.4 microampere\n"
       ]
      }
     ],
     "prompt_number": 23
    },
    {
     "cell_type": "heading",
     "level": 2,
     "metadata": {},
     "source": [
      "Example 2.8,Page number 59"
     ]
    },
    {
     "cell_type": "code",
     "collapsed": false,
     "input": [
      "import math\n",
      "\n",
      "#given\n",
      "\n",
      "Br_Si=1.79*10**-15;             #Recombination coefficient for Si\n",
      "Br_Ge=5.25*10**-14;             #Recombination coefficient for Ge\n",
      "Br_GeAs=7.21*10**-10;           #Recombination coefficient for GeAs\n",
      "Br_InAs=8.5*10**-11;            #Recombination coefficient for InAs\n",
      "P_N=2*10**20;                   #per cubic cm\n",
      "\n",
      "T_Ge=1/Br_Ge/P_N;               #radiative minority carrier lifetime\n",
      "print\"T_Ge is \",round(T_Ge/10**-6,4),\"micro-s\";    #result\n",
      "\n",
      "T_Si=1/Br_Si/P_N;               #radiative minority carrier lifetime\n",
      "print\"T_Si is \",round(T_Si/10**-6,4),\"micro-s\";    #result\n",
      "\n",
      "T_InAs=1/Br_InAs/P_N;           #radiative minority carrier lifetime\n",
      "print\"T_InAs is \",round(T_InAs/10**-12,4),\"ps\";    #result\n",
      "\n",
      "T_GeAs=1/Br_GeAs/P_N;           #radiative minority carrier lifetime\n",
      "print\"T_GeAs is \",round(T_GeAs/10**-12,4),\"ps\";    #result\n",
      "\n"
     ],
     "language": "python",
     "metadata": {},
     "outputs": [
      {
       "output_type": "stream",
       "stream": "stdout",
       "text": [
        "T_Ge is  0.0952 micro-s\n",
        "T_Si is  2.7933 micro-s\n",
        "T_InAs is  58.8235 ps\n",
        "T_GeAs is  6.9348 ps\n"
       ]
      }
     ],
     "prompt_number": 25
    },
    {
     "cell_type": "code",
     "collapsed": false,
     "input": [],
     "language": "python",
     "metadata": {},
     "outputs": []
    }
   ],
   "metadata": {}
  }
 ]
}