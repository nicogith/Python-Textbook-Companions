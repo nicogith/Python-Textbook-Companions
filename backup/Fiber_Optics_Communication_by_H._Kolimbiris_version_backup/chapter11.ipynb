{
 "metadata": {
  "celltoolbar": "Raw Cell Format",
  "name": "",
  "signature": "sha256:6cd44032dbf15e431b274fcb89eff0e69cbc30954e1206f394e571ea69d8987f"
 },
 "nbformat": 3,
 "nbformat_minor": 0,
 "worksheets": [
  {
   "cells": [
    {
     "cell_type": "heading",
     "level": 1,
     "metadata": {},
     "source": [
      "Chapter 11: Multiplexing"
     ]
    },
    {
     "cell_type": "heading",
     "level": 2,
     "metadata": {},
     "source": [
      "Example 11.1,Page number 386"
     ]
    },
    {
     "cell_type": "code",
     "collapsed": false,
     "input": [
      "import math\n",
      "\n",
      "#given\n",
      "\n",
      "q=4.9*10**-18;          #in m/W.GHz raman  gain slope\n",
      "f=100;                  #in GHz\n",
      "A=50*10**-6;            #cross sectional area in micro  meter square\n",
      "P0=3.5;                 #in mW\n",
      "Le=10*10**3;\n",
      "G=q*f*10**6/2/A;\n",
      "N=20;\n",
      "print\"G =\",\"{0:.3e}\".format(G);\n",
      "CT=N*(N-1)*(P0*10**-3*G*Le)/2;\n",
      "print\"CT(L) =\",round(CT,3);\n"
     ],
     "language": "python",
     "metadata": {},
     "outputs": [
      {
       "output_type": "stream",
       "stream": "stdout",
       "text": [
        "G = 4.900e-06\n",
        "CT(L) = 0.033\n"
       ]
      }
     ],
     "prompt_number": 2
    },
    {
     "cell_type": "heading",
     "level": 2,
     "metadata": {},
     "source": [
      "Example 11.2,Page number 410"
     ]
    },
    {
     "cell_type": "code",
     "collapsed": false,
     "input": [
      "import math\n",
      "\n",
      "#given\n",
      "\n",
      "K0=2*math.pi*625;    #in MHz/V\n",
      "Ip=0.6;              #in mA\n",
      "N=64;           \n",
      "w=2.44;              #in Mhz\n",
      "Z=5;\n",
      "Vout=5;              #in V\n",
      "C=(4*K0*10**6*Ip*10**-3*Z)/(2*math.pi*N*w*w*10**12);\n",
      "print\"The value of capacitance is\",round(C*10**9,4),\"nF\";\n"
     ],
     "language": "python",
     "metadata": {},
     "outputs": [
      {
       "output_type": "stream",
       "stream": "stdout",
       "text": [
        "The value of capacitance is 19.6835 nF\n"
       ]
      }
     ],
     "prompt_number": 4
    },
    {
     "cell_type": "heading",
     "level": 2,
     "metadata": {},
     "source": [
      "Example 11.3,Page number 410"
     ]
    },
    {
     "cell_type": "code",
     "collapsed": false,
     "input": [
      "import math\n",
      "\n",
      "#given\n",
      "\n",
      "K0=2*math.pi*625;       #in MHz/V\n",
      "Ip=0.35;                #in mA\n",
      "N=64;           \n",
      "w=2.44;                 #in MHz\n",
      "Z=5;\n",
      "Vout=4;                 #in V\n",
      "C=22;                   #in nF\n",
      "Z=math.sqrt((2*math.pi*N*w**2*C)/(4*Ip*K0*0.25));\n",
      "print\"Zeta is\",round(Z,4);\n",
      "\n"
     ],
     "language": "python",
     "metadata": {},
     "outputs": [
      {
       "output_type": "stream",
       "stream": "stdout",
       "text": [
        "Zeta is 6.1904\n"
       ]
      }
     ],
     "prompt_number": 8
    },
    {
     "cell_type": "code",
     "collapsed": false,
     "input": [],
     "language": "python",
     "metadata": {},
     "outputs": []
    }
   ],
   "metadata": {}
  }
 ]
}