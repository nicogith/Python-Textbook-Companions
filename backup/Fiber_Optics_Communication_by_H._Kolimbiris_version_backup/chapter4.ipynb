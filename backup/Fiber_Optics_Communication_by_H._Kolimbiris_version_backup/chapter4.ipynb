{
 "metadata": {
  "celltoolbar": "Raw Cell Format",
  "name": "",
  "signature": "sha256:917822aee3e6229a07a87d63057673511f871c7eaa92b0a4cf62ab72d96f74ad"
 },
 "nbformat": 3,
 "nbformat_minor": 0,
 "worksheets": [
  {
   "cells": [
    {
     "cell_type": "heading",
     "level": 1,
     "metadata": {},
     "source": [
      "Chapter 4: Optical Detectors"
     ]
    },
    {
     "cell_type": "heading",
     "level": 2,
     "metadata": {},
     "source": [
      "Example 4.1,Page number 99"
     ]
    },
    {
     "cell_type": "code",
     "collapsed": false,
     "input": [
      "import math\n",
      "\n",
      "#given\n",
      "\n",
      "Tn=5;              #in micrometer\n",
      "Vs=10**7;          #in m/s\n",
      "tr=Tn*10**-6/Vs;\n",
      "print\"Response time\",tr/10**-12,\"ps\";\n"
     ],
     "language": "python",
     "metadata": {},
     "outputs": [
      {
       "output_type": "stream",
       "stream": "stdout",
       "text": [
        "Response time 0.5 ps\n"
       ]
      }
     ],
     "prompt_number": 2
    },
    {
     "cell_type": "heading",
     "level": 2,
     "metadata": {},
     "source": [
      "Example 4.2,Page number 106"
     ]
    },
    {
     "cell_type": "code",
     "collapsed": false,
     "input": [
      "import math\n",
      "\n",
      "#given\n",
      "\n",
      "\n",
      "Pd=1.15;            #in mW\n",
      "\n",
      "TA=25;              #in deg C\n",
      "theta_JA=200;          #in C/W for hermetric led\n",
      "TJ=TA+theta_JA*Pd/10**3;\n",
      "TF=8.01*10**12 *math.e**-(8111/(TJ+273));\n",
      "print\"Value of TJ is\" ,round(TJ,4), \"deg C\";\n",
      "print\"Value of TF is\" ,round(TF,4), \"deg C\";\n",
      "\n",
      "BF=1.1*10**-3;               #from table\n",
      "QF=0.5;                     #from table\n",
      "EF=1;                       #from table\n",
      "RF=BF*TF*EF*QF*1/10**6;\n",
      "print\"Value of RF\",\"{0:.3e}\".format(RF);\n",
      "print\"Value of MTBF is \",\"{0:.3e}\".format(1/RF),\"hours\";"
     ],
     "language": "python",
     "metadata": {},
     "outputs": [
      {
       "output_type": "stream",
       "stream": "stdout",
       "text": [
        "Value of TJ is 25.23 deg C\n",
        "Value of TF is 12.3614 deg C\n",
        "Value of RF 6.799e-09\n",
        "Value of MTBF is  1.471e+08 hours\n"
       ]
      }
     ],
     "prompt_number": 1
    },
    {
     "cell_type": "heading",
     "level": 2,
     "metadata": {},
     "source": [
      "Example 4.3,Page number 114"
     ]
    },
    {
     "cell_type": "code",
     "collapsed": false,
     "input": [
      "import math\n",
      "\n",
      "#given\n",
      "\n",
      "R1=0.7;\n",
      "R2=0.99;\n",
      "ad=0.1;\n",
      "\n",
      "Ld=1-R1*R2*math.e**-(2*ad);\n",
      "print\"Decay Loss \",round(Ld,4);\n",
      "trt=40;     #fs\n",
      "tph=trt/Ld;\n",
      "print\"Photon lifetime \",round(tph,4),\"fs\";\n",
      "BW=1/tph;\n",
      "print\"Bandwidth\",round(BW*1000,4) ,\"Thz\";  #Answer in Thz  \n"
     ],
     "language": "python",
     "metadata": {},
     "outputs": [
      {
       "output_type": "stream",
       "stream": "stdout",
       "text": [
        "Decay Loss  0.4326\n",
        "Photon lifetime  92.46 fs\n",
        "Bandwidth 10.8155 Thz\n"
       ]
      }
     ],
     "prompt_number": 13
    },
    {
     "cell_type": "code",
     "collapsed": false,
     "input": [],
     "language": "python",
     "metadata": {},
     "outputs": []
    }
   ],
   "metadata": {}
  }
 ]
}