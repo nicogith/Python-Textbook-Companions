{
 "metadata": {
  "celltoolbar": "Raw Cell Format",
  "name": "",
  "signature": "sha256:1b3bccb158ee256beb585d7bc83d58f136101130ff5bd5cf10f287a99cb3d68f"
 },
 "nbformat": 3,
 "nbformat_minor": 0,
 "worksheets": [
  {
   "cells": [
    {
     "cell_type": "heading",
     "level": 1,
     "metadata": {},
     "source": [
      "Chapter 7: Optical Receivers"
     ]
    },
    {
     "cell_type": "heading",
     "level": 2,
     "metadata": {},
     "source": [
      "Example 7.1,Page number 203"
     ]
    },
    {
     "cell_type": "code",
     "collapsed": false,
     "input": [
      "import math\n",
      "\n",
      "#given\n",
      "\n",
      "Trec=54;            #in ns\n",
      "Ttrans=40.0;          #in ns\n",
      "Pwd=(Trec-Ttrans)/Ttrans*100;\n",
      "\n",
      "print\"PWD=\",Pwd,\"percent\";\n"
     ],
     "language": "python",
     "metadata": {},
     "outputs": [
      {
       "output_type": "stream",
       "stream": "stdout",
       "text": [
        "PWD= 35.0 percent\n"
       ]
      }
     ],
     "prompt_number": 20
    },
    {
     "cell_type": "heading",
     "level": 2,
     "metadata": {},
     "source": [
      "Example 7.2,Page number 214"
     ]
    },
    {
     "cell_type": "code",
     "collapsed": false,
     "input": [
      "import math\n",
      "\n",
      "#given\n",
      "\n",
      "#Vc=Vdin-Vdinq\n",
      "Vc=5;                #in mV  Vdin-Vdinq=Vc\n",
      "Irset =1.8*10**-3*(Vc*10**-3);     #in A\n",
      "print\"Irset\",Irset*10**6,\"microA\";\n",
      "Vs=1.5;              #Voltage at signal level below Vcc in V\n",
      "Radj=Vs/Irset;                     #in Ohm\n",
      "print\"Radj\",round(Radj*10**-3,4),\"kohm\";"
     ],
     "language": "python",
     "metadata": {},
     "outputs": [
      {
       "output_type": "stream",
       "stream": "stdout",
       "text": [
        "Irset 9.0 microA\n",
        "Radj 166.6667 kohm\n"
       ]
      }
     ],
     "prompt_number": 23
    },
    {
     "cell_type": "heading",
     "level": 2,
     "metadata": {},
     "source": [
      "Example 7.3,Page number 223"
     ]
    },
    {
     "cell_type": "code",
     "collapsed": false,
     "input": [
      "import math\n",
      "\n",
      "#given\n",
      "\n",
      "Rl=50;      #in Ohm\n",
      "Ro=100;     #in Ohm\n",
      "Vos=450;            #in mV\n",
      "Vref=(Rl+Ro)/Rl*Vos/2;\n",
      "\n",
      "print\"Vref= \",Vref,\"mV\";\n",
      "\n",
      "Vee=3.3;            #in V\n",
      "R1=500;             #in Ohm\n",
      "R2=16000.0;         #in Ohm\n",
      "\n",
      "#Rref=(Vee/Vref/10**3-1)*R1/(1-(R1/R2*(Vee/Vref/10**3-1)))\n",
      "Rref=(((Vee/Vref)/(10**-3)-1)*R1)/((1-(R1/R2)*((Vee/Vref)/(10**-3)-1)));\n",
      "print\"Rref= \",round(Rref,4),\"ohm\";\n",
      "print\"Approx. Rref= \",round(Rref*10**-3,4),\"kohm\";\n",
      "\n"
     ],
     "language": "python",
     "metadata": {},
     "outputs": [
      {
       "output_type": "stream",
       "stream": "stdout",
       "text": [
        "Vref=  675 mV\n",
        "Rref=  2213.4387 ohm\n",
        "Approx. Rref=  2.2134 kohm\n"
       ]
      }
     ],
     "prompt_number": 24
    },
    {
     "cell_type": "code",
     "collapsed": false,
     "input": [],
     "language": "python",
     "metadata": {},
     "outputs": []
    }
   ],
   "metadata": {}
  }
 ]
}