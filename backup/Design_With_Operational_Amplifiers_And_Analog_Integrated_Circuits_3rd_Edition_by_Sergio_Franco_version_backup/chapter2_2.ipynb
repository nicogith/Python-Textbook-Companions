{
 "cells": [
  {
   "cell_type": "markdown",
   "metadata": {},
   "source": [
    "# Chapter 2: Circuits With Resistive Feedback"
   ]
  },
  {
   "cell_type": "markdown",
   "metadata": {},
   "source": [
    "## Example 2.1, Page 62"
   ]
  },
  {
   "cell_type": "code",
   "execution_count": 26,
   "metadata": {
    "collapsed": false
   },
   "outputs": [
    {
     "name": "stdout",
     "output_type": "stream",
     "text": [
      "T = 133330\n",
      "A = -0.9999925 V/micro Ampere\n",
      "Ri = 5.0 ohm\n",
      "Ro = 56.0 mili ohm\n"
     ]
    }
   ],
   "source": [
    "import math\n",
    "\n",
    "#Variable Declaration\n",
    "\n",
    "R = 1.0      # Mega ohm\n",
    "a = 200.0    # V/mV\n",
    "rd = 2.0     # 2 MV\n",
    "ro = 75.0    # ohm\n",
    "\n",
    "#Calculation\n",
    "\n",
    "T = a/(10**(-3))*rd*(10**6)/((rd*(10**6))+(R*(10**6))+ro)           # equation 2.2\n",
    "A = (-1)/(1+1/T)\n",
    "Ri = rd*(10**6)*((R*(10**6))+ro)/((rd*(10**6))+(R*(10**6))+ro)/(1+T) # equation 2.3\n",
    "Ro = ro/(1+T)                                                        # equation 2.3  \n",
    "\n",
    "#answer\n",
    "\n",
    "print \"T =\",int(round(T))\n",
    "print \"A =\",round(A,7),\"V/micro Ampere\"\n",
    "print \"Ri =\",round(Ri),\"ohm\"\n",
    "print \"Ro =\",round(Ro*(10**5)),\"mili ohm\"\n",
    "\n",
    "# answer of A has precision error in the book"
   ]
  },
  {
   "cell_type": "markdown",
   "metadata": {},
   "source": [
    "## Example 2.2, Page 62"
   ]
  },
  {
   "cell_type": "code",
   "execution_count": 27,
   "metadata": {
    "collapsed": false
   },
   "outputs": [
    {
     "name": "stdout",
     "output_type": "stream",
     "text": [
      "One possible combination is:\n",
      "  R1 = 1 kilo ohm\n",
      "  R2 = 98 kilo ohm (100 closest standard)\n"
     ]
    }
   ],
   "source": [
    "import math\n",
    "\n",
    "#Variable Declaration\n",
    "\n",
    "kR = 0.1/(10**(-9))      # ohm\n",
    "R = 1*(10**6)            # High starting value of R\n",
    "R1 = 1*(10**3)           # Assumption\n",
    "\n",
    "#Calculation\n",
    "\n",
    "R2 = (100-1)*R*R1/(R+R1)   # equation 2.4b\n",
    "\n",
    "#answer\n",
    "\n",
    "print \"One possible combination is:\"\n",
    "print \"  R1 =\",R1/(10**3),\"kilo ohm\"\n",
    "print \"  R2 =\",R2/(10**3),\"kilo ohm (100 closest standard)\""
   ]
  },
  {
   "cell_type": "markdown",
   "metadata": {},
   "source": [
    "## Example 2.3, Page 65"
   ]
  },
  {
   "cell_type": "code",
   "execution_count": 28,
   "metadata": {
    "collapsed": false
   },
   "outputs": [
    {
     "name": "stdout",
     "output_type": "stream",
     "text": [
      "a)\n",
      "  Io = 0.5 mA, flowing from left to right in Fig. 2.4a and right to left in Fig. 2.4b\n",
      "b)\n",
      "  For Fig. 2.4a  -18.0 < VL < 8.0 and for Fig. 2.4b  -13.0 < VL < 13.0\n",
      "c)\n",
      "  For Fig. 2.4a RL < 16.0 kilo ohm and for Fig. 2.4b RL < 26.0 kilo ohm\n"
     ]
    }
   ],
   "source": [
    "#Variable Declaration\n",
    "\n",
    "vt = 5.0     # V\n",
    "R = 10.0     # kilo ohm\n",
    "Vsat1 = 13.0  # V\n",
    "Vsat2 = -13.0  # V\n",
    "\n",
    "#Calculation\n",
    "\n",
    "io = vt/R                # equation 2.6\n",
    "Vl1 = Vsat1-vt           # vo = vt + vl\n",
    "Vl2 = Vsat2-vt\n",
    "Rl1 = Vl1/io\n",
    "Rl2 = Vsat1/io\n",
    "\n",
    "#answer\n",
    "\n",
    "print \"a)\\n  Io =\",io,\"mA, flowing from left to right in Fig. 2.4a and right to left in Fig. 2.4b\"\n",
    "print \"b)\\n  For Fig. 2.4a \",Vl2,\"< VL <\",Vl1,\"and for Fig. 2.4b \",Vsat2,\"< VL <\",Vsat1\n",
    "print \"c)\\n  For Fig. 2.4a RL <\",Rl1,\"kilo ohm and for Fig. 2.4b RL <\",Rl2,\"kilo ohm\""
   ]
  },
  {
   "cell_type": "markdown",
   "metadata": {},
   "source": [
    "## Example 2.4, Page 67"
   ]
  },
  {
   "cell_type": "code",
   "execution_count": 29,
   "metadata": {
    "collapsed": false
   },
   "outputs": [
    {
     "name": "stdout",
     "output_type": "stream",
     "text": [
      "R1 = 15.0 Kilo ohm\n",
      "R2 = 4.5 Kilo ohm\n",
      "R3 = 15.0 Kilo ohm\n",
      "R4 = 4.5 Kilo ohm\n"
     ]
    }
   ],
   "source": [
    "#Variable Declaration\n",
    "\n",
    "Vt = 15.0        # V\n",
    "Io = 1.0         # mA\n",
    "\n",
    "#Calculation\n",
    "\n",
    "R1 = Vt/Io             # equation 2.10\n",
    "R3 = R1\n",
    "R2 = (13.0/10*R1)-R1\n",
    "R4 = R2\n",
    "\n",
    "#answer\n",
    "\n",
    "print \"R1 =\",R1,\"Kilo ohm\"\n",
    "print \"R2 =\",R2,\"Kilo ohm\"\n",
    "print \"R3 =\",R3,\"Kilo ohm\"\n",
    "print \"R4 =\",R4,\"Kilo ohm\""
   ]
  },
  {
   "cell_type": "markdown",
   "metadata": {},
   "source": [
    "## Example 2.5, Page 68"
   ]
  },
  {
   "cell_type": "code",
   "execution_count": 30,
   "metadata": {
    "collapsed": false
   },
   "outputs": [
    {
     "name": "stdout",
     "output_type": "stream",
     "text": [
      "a)\n",
      "  Ro can be anywhere in the range Ro >= 375.0 kilo ohm\n",
      "b)\n",
      "  Ro can be anywhere in the range Ro >= 3.75 mega ohm\n",
      "c)\n",
      "  Resistance tolerance Required = 0.0075 %\n"
     ]
    }
   ],
   "source": [
    "import math\n",
    "\n",
    "#Variable Declaration\n",
    "\n",
    "R1=15*10**3      #From the result of Example 2.4 \n",
    "p=0.01           #For 1% tolerance p=t /100=1/100=0.01 \n",
    "\n",
    "#Calculation\n",
    "\n",
    "emax=4*p         #imbalace factor\n",
    "Romina=R1/emax\n",
    "p=0.001\n",
    "emax=4*p         #imbalace factor\n",
    "Rominb=R1/emax\n",
    "Romin=50*10**6\n",
    "emax=float(R1)/Romin\n",
    "p=emax/4\n",
    "pper=p*100\n",
    "\n",
    "#answer\n",
    "\n",
    "print \"a)\\n  Ro can be anywhere in the range Ro >=\",round(Romina*10**(-3),2),\"kilo ohm\"\n",
    "print \"b)\\n  Ro can be anywhere in the range Ro >=\",round(Rominb*10**(-6),2),\"mega ohm\"\n",
    "print \"c)\\n  Resistance tolerance Required =\",round(pper,5),\"%\""
   ]
  },
  {
   "cell_type": "markdown",
   "metadata": {},
   "source": [
    "## Example 2.6, Page 69"
   ]
  },
  {
   "cell_type": "code",
   "execution_count": 31,
   "metadata": {
    "collapsed": false
   },
   "outputs": [
    {
     "name": "stdout",
     "output_type": "stream",
     "text": [
      "Rpot = 2.0 Kilo ohm\n",
      "Rs = 14.0 Kilo ohm\n"
     ]
    }
   ],
   "source": [
    "import math\n",
    "\n",
    "#Variable Declaration\n",
    "\n",
    "p = 0.01\n",
    "R1 = 15     # kilo ohm\n",
    "\n",
    "#Calculation\n",
    "\n",
    "Rs = round(R1-4.0*p*R1)                   #Rs must be smaller than R1 by 4pR1\n",
    "Rpot = 2*(R1-Rs)\n",
    "\n",
    "#answer\n",
    "\n",
    "print \"Rpot =\",Rpot,\"Kilo ohm\"\n",
    "print \"Rs =\",Rs,\"Kilo ohm\""
   ]
  },
  {
   "cell_type": "markdown",
   "metadata": {},
   "source": [
    "## Example 2.7, Page 70"
   ]
  },
  {
   "cell_type": "code",
   "execution_count": 32,
   "metadata": {
    "collapsed": false
   },
   "outputs": [
    {
     "name": "stdout",
     "output_type": "stream",
     "text": [
      "Output Resistance = 419.0 Mega ohm\n"
     ]
    }
   ],
   "source": [
    "import math\n",
    "\n",
    "#Variable Declaration\n",
    "\n",
    "a = 200\n",
    "R1 = 15.0              #kilo ohm\n",
    "R2 = 3.0               #kilo ohm\n",
    "\n",
    "#Calculation\n",
    "\n",
    "Ro = (R1*R2/(R1+R2))*(1+(a/(1+(R2/R1))))\n",
    "\n",
    "#answer\n",
    "\n",
    "print \"Output Resistance =\",round(Ro),\"Mega ohm\"\n",
    "\n",
    "#Answer is 417 in book cause of precision loss"
   ]
  },
  {
   "cell_type": "markdown",
   "metadata": {},
   "source": [
    "## Example 2.8, Page 74"
   ]
  },
  {
   "cell_type": "code",
   "execution_count": 33,
   "metadata": {
    "collapsed": false
   },
   "outputs": [
    {
     "name": "stdout",
     "output_type": "stream",
     "text": [
      "a)\n",
      "  Input voltage pair(-0.1V,+0.1V), Vo = 2.0 V\n",
      "  Input voltage pair(4.9V,5.1V), Vo = 2.0 V\n",
      "  Input voltage pair(9.9V,10.1V), Vo = 2.0 V\n",
      "b\n",
      "  Input voltage pair(-0.1V,+0.1V), Vo = 1.812 V\n",
      "  Input voltage pair(4.9V,5.1V), Vo = 2.428 V\n",
      "  Input voltage pair(9.9V,10.1V), Vo = 3.043 V\n"
     ]
    }
   ],
   "source": [
    "import math\n",
    "\n",
    "#Variable Declaration\n",
    "\n",
    "R1 = R3 = 10.0     #kilo ohm\n",
    "R2= R4 = 100.0    #kilo ohm\n",
    "\n",
    "#Calculation\n",
    "\n",
    "def find_Vo(V1,V2):\n",
    "    global R1,R2;\n",
    "    Vo = R2/R1*(V2-V1)\n",
    "    return Vo\n",
    "\n",
    "def find_Vo_mismatched(V1,V2):\n",
    "    global R1,R2,R3,R4\n",
    "    A1 = R2/R1\n",
    "    A2 = (1+A1)/(1+R3/R4)\n",
    "    Vo = (A2*V2)-(A1*V1)\n",
    "    return Vo\n",
    "\n",
    "#answer\n",
    "\n",
    "print \"a)\"\n",
    "print \"  Input voltage pair(-0.1V,+0.1V), Vo =\",find_Vo(-0.1,0.1),\"V\"\n",
    "print \"  Input voltage pair(4.9V,5.1V), Vo =\",find_Vo(4.9,5.1),\"V\"\n",
    "print \"  Input voltage pair(9.9V,10.1V), Vo =\",find_Vo(9.9,10.1),\"V\"\n",
    "\n",
    "R1 = 10      #kilo ohm\n",
    "R2 = 98      #kilo ohm\n",
    "R3 = 9.9     #kilo ohm\n",
    "R4 = 103     #kilo ohm\n",
    "\n",
    "print \"b\"\n",
    "print \"  Input voltage pair(-0.1V,+0.1V), Vo =\",round(find_Vo_mismatched(-0.1,0.1),3),\"V\"\n",
    "print \"  Input voltage pair(4.9V,5.1V), Vo =\",round(find_Vo_mismatched(4.9,5.1),3),\"V\"\n",
    "print \"  Input voltage pair(9.9V,10.1V), Vo =\",round(find_Vo_mismatched(9.9,10.1),3),\"V\""
   ]
  },
  {
   "cell_type": "markdown",
   "metadata": {},
   "source": [
    "## Example 2.9, Page 76"
   ]
  },
  {
   "cell_type": "code",
   "execution_count": 34,
   "metadata": {
    "collapsed": false,
    "scrolled": true
   },
   "outputs": [
    {
     "name": "stdout",
     "output_type": "stream",
     "text": [
      "a)\n",
      "  Adm = 9.62 V/V\n",
      "  Acm = 0.0364 V/V\n",
      "  CMRRdb = 48.0 dB\n",
      "b)\n",
      "  Vo = 0.364 V\n",
      "c)\n",
      "  p = 0.0275 %\n"
     ]
    }
   ],
   "source": [
    "import numpy as np\n",
    "from sympy import Symbol\n",
    "from sympy.solvers import solve\n",
    "import math\n",
    "\n",
    "#Variable Declaration\n",
    "\n",
    "p = 0.01\n",
    "R1 = R3 = 10.0    #kilo ohm\n",
    "R2= R4 = 100.0    #kilo ohm\n",
    "Vcm = 10          # V\n",
    "new_CMRR = 80.0   # dB\n",
    "\n",
    "#Calculation\n",
    "\n",
    "Emax = 4*p\n",
    "Adm = round(R2/R1*(1-((R1+(2*R2))/(R1+R2)*Emax/2)),2)      #equation 2.24b\n",
    "Acm = round(R2/(R1+R2)*Emax,4)                                      #equation 2.24c\n",
    "CMRRdb =round(20*np.log10((1+(R2/R1)/Emax)),1)                  #equation 2.26\n",
    "Vo = Acm*Vcm\n",
    "x = Symbol('x')\n",
    "st = 10**(new_CMRR/20.0)\n",
    "ans = solve (st*x-1-(R2/R1),x)\n",
    "\n",
    "#answer\n",
    "\n",
    "print \"a)\"\n",
    "print \"  Adm =\",Adm,\"V/V\\n  Acm =\",Acm,\"V/V\\n  CMRRdb =\",CMRRdb,\"dB\"\n",
    "print \"b)\"\n",
    "print \"  Vo =\",Vo,\"V\"\n",
    "print \"c)\"\n",
    "print \"  p =\",round(ans[0]/4*100,4),\"%\"\n",
    "\n",
    "#part a, CMMRdb value is 48.4 in book"
   ]
  },
  {
   "cell_type": "markdown",
   "metadata": {},
   "source": [
    "## Example 2.10, Page 80"
   ]
  },
  {
   "cell_type": "code",
   "execution_count": 35,
   "metadata": {
    "collapsed": false
   },
   "outputs": [
    {
     "name": "stdout",
     "output_type": "stream",
     "text": [
      "a)\n",
      "  Designed Instrumentation Amplifier : \n",
      "  R1 = 100.0 kilo ohm\n",
      "  R2 = 49.9 kilo ohm\n",
      "  R3 = 50.0 kilo ohm\n",
      "  R4 = 50.0 ohm\n",
      "b)\n",
      "  Designed Instrumentation Amplifier with trimmed resistances : \n",
      "  R1 = 100.0 kilo ohm\n",
      "  R2 = 49.9 kilo ohm\n",
      "  R3 = 50.0 kilo ohm\n",
      "  R4 = 50.0 ohm\n",
      "  R5 = 100.0 kilo ohm\n",
      "  R6 = 47.5 kilo ohm\n",
      "  R7 = 5.0 kilo ohm\n",
      "c)\n",
      "  To calibrate the circuit , tie the inputs together and set the 100 kilo ohm pot for the \n",
      "  maximum gain (wiper allthe way up). Then , switching the common inputs back and forth between −5V and +5V,\n",
      "  adjust the 5 kilo ohm pot for the minimum change at the output . \n"
     ]
    }
   ],
   "source": [
    "from sympy import Symbol\n",
    "from sympy.solvers import solve\n",
    "import math\n",
    "\n",
    "#Variable Declaration\n",
    "\n",
    "Amin=1.0           #V/V\n",
    "Amax=10**3         #V/V\n",
    "\n",
    "#Calculation\n",
    "\n",
    "AI=0.5\n",
    "R1=100*10**3          # Tolerance (1%)\n",
    "R2=AI*R1              # Tolerance (1%)\n",
    "AImin=Amin/AI\n",
    "AImax=Amax/AI\n",
    "#AImin<=AI<=AImax \n",
    "#AImin=1+((2∗R3) /(R4+R1) ) −> 1+((2∗R3) /(R4+R1) )− Amin=0 −> (1−AImin)∗R4+2∗R3+(1−AImin)∗R1=0...( i )\n",
    "#and AImax=1+((2∗R3) /(R4+0)) −>(1−AImax)∗R4+2∗R3 =0 ... .( i i )\n",
    "#Solving these two equations will give R3 and R4 \n",
    "x=Symbol('x')\n",
    "y=Symbol('y')\n",
    "ans=solve([(1-AImin)*y+2*x+(1-AImin)*R1,(1-AImax)*y+2*x],[x,y])\n",
    "R3=ans[x]\n",
    "R4=ans[y]\n",
    "p=0.01\n",
    "e=4*p*R2\n",
    "R5=100*10**3\n",
    "R2red=R2-e-500           # to be on the safer side 0.5 kohms more is reduced \n",
    "Rpot=2*(R2-R2red)        #Potentiometer Resistance\n",
    "\n",
    "#answer \n",
    "\n",
    "print \"a)\\n  Designed Instrumentation Amplifier : \"\n",
    "print \"  R1 =\",round(R1*10**(-3),2),\"kilo ohm\"\n",
    "print \"  R2 =\",round(R2*10**(-3)-0.1,2),\"kilo ohm\"       \n",
    "print \"  R3 =\",round(R3*10**(-3)),\"kilo ohm\"\n",
    "print \"  R4 =\",round(R4),\"ohm\"\n",
    "print \"b)\\n  Designed Instrumentation Amplifier with trimmed resistances : \"\n",
    "print \"  R1 =\",round(R1*10**(-3),2),\"kilo ohm\"\n",
    "print \"  R2 =\",round(R2*10**(-3)-0.1,2),\"kilo ohm\"       \n",
    "print \"  R3 =\",round(R3*10**(-3)),\"kilo ohm\"\n",
    "print \"  R4 =\",round(R4),\"ohm\"\n",
    "print \"  R5 =\",round(R5*10**(-3)),\"kilo ohm\"\n",
    "print \"  R6 =\",round(R2red*10**(-3),2),\"kilo ohm\"\n",
    "print \"  R7 =\",round(Rpot*10**(-3),2),\"kilo ohm\"\n",
    "print \"c)\\n  To calibrate the circuit , tie the inputs together and set the 100 kilo ohm pot for the \"   \n",
    "print \"  maximum gain (wiper allthe way up). Then , switching the common inputs back and forth between −5V and +5V,\" \n",
    "print \"  adjust the 5 kilo ohm pot for the minimum change at the output . \""
   ]
  },
  {
   "cell_type": "markdown",
   "metadata": {},
   "source": [
    "## Example 2.11, Page 92"
   ]
  },
  {
   "cell_type": "code",
   "execution_count": 36,
   "metadata": {
    "collapsed": false
   },
   "outputs": [
    {
     "name": "stdout",
     "output_type": "stream",
     "text": [
      "a)\n",
      "  R(T) = 0.392*T + 100\n",
      "b)\n",
      "  R(25 degree celsius) = 109.8 ohm\n",
      "  R(100 degree celsius) = 139.2 ohm\n",
      "  R(-15 degree celsius) = 94.12 ohm\n",
      "c)\n",
      "  Change in R = 3.92 ohm\n",
      "  Delta = 3.92 %\n"
     ]
    }
   ],
   "source": [
    "import math\n",
    "import sympy\n",
    "\n",
    "#Variable Declaration\n",
    "\n",
    "alpha = 0.00392    # per degree celsius\n",
    "R0 = 100           # ohm\n",
    "delT = 10.0          # degree celsius\n",
    "#Calculation\n",
    "\n",
    "T = Symbol('T')\n",
    "expr = R0*(1+alpha*T)\n",
    "\n",
    "def find_R(t):\n",
    "    global T,expr\n",
    "    return expr.subs(T,t)\n",
    "\n",
    "delR = R0*alpha*delT\n",
    "delta = alpha*delT*100\n",
    "\n",
    "#answer\n",
    "\n",
    "print \"a)\"\n",
    "print \"  R(T) =\",expr\n",
    "print \"b)\"\n",
    "print \"  R(25 degree celsius) =\",round(find_R(25),1),\"ohm\"\n",
    "print \"  R(100 degree celsius) =\",round(find_R(100),1),\"ohm\"\n",
    "print \"  R(-15 degree celsius) =\",round(find_R(-15),2),\"ohm\"\n",
    "print \"c)\"\n",
    "print \"  Change in R =\",delR,\"ohm\"\n",
    "print \"  Delta =\",delta,\"%\""
   ]
  },
  {
   "cell_type": "markdown",
   "metadata": {},
   "source": [
    "## Example 2.12, Page 93"
   ]
  },
  {
   "cell_type": "code",
   "execution_count": 37,
   "metadata": {
    "collapsed": false
   },
   "outputs": [
    {
     "name": "stdout",
     "output_type": "stream",
     "text": [
      "a)\n",
      "  R1 = 15.0 kilo ohm\n",
      "  A = 258.5 V/V\n",
      "b)\n",
      "  Error = 0.26 degree celsius\n"
     ]
    }
   ],
   "source": [
    "from sympy import Symbol\n",
    "from sympy.solvers import solve\n",
    "import math\n",
    "\n",
    "#Variable Declaration\n",
    "\n",
    "PRTD = 0.2      # mW\n",
    "R = 100         # ohm\n",
    "Vref = 15       # V\n",
    "delVo = 0.1     # V\n",
    "delT = 1.0      # degree celsius\n",
    "alpha = 0.00392 \n",
    "\n",
    "#Calculation\n",
    "\n",
    "#part a)\n",
    "\n",
    "i = round(math.sqrt(PRTD/1000/R)*1000)\n",
    "R1 = Vref/i\n",
    "delta = alpha*delT\n",
    "x = Symbol('A')\n",
    "A = solve(x*(delta*Vref/(2+(R/R1/1000)+(R1/R*1000)))-delVo,x)              # equation 2.47\n",
    "\n",
    "#part b)\n",
    "\n",
    "delT = 100\n",
    "delta = alpha*delT\n",
    "Vo1 = round(A[0]*Vref*delta/(1+(R1/R*1000)+((1+(R/R1/1000))*(1+delta))),3) # equation 2.46\n",
    "Vo2 = round(A[0]*Vref*delta/(2+(R/R1/1000)+(R1/R*1000)))\n",
    "error = (Vo2-Vo1)/delVo\n",
    "\n",
    "#answer\n",
    "\n",
    "print \"a)\"\n",
    "print \"  R1 =\",R1,\"kilo ohm\\n  A =\",round(A[0],1),\"V/V\"\n",
    "print \"b)\"\n",
    "print \"  Error =\",error,\"degree celsius\""
   ]
  },
  {
   "cell_type": "markdown",
   "metadata": {},
   "source": [
    "## Example 2.14, Page 96"
   ]
  },
  {
   "cell_type": "code",
   "execution_count": 38,
   "metadata": {
    "collapsed": false
   },
   "outputs": [
    {
     "name": "stdout",
     "output_type": "stream",
     "text": [
      "a)\n",
      "  R1 = 3.0 kilo ohm\n",
      "  R2 = 1 kilo ohm\n",
      "  R3 = 44.0 ohm\n",
      "  R4 = 202.0 ohm\n"
     ]
    }
   ],
   "source": [
    "import math\n",
    "\n",
    "#Variable Declaration\n",
    "\n",
    "R = 120              #ohm\n",
    "i = 20*(10**(-3))    # A\n",
    "Vref = 15            # V\n",
    "\n",
    "#Calculation\n",
    "\n",
    "Vb = 2*R*i\n",
    "v1 = 0.01*Vb/2+Vb/2\n",
    "v2 = -0.01*Vb/2+Vb/2\n",
    "ir1 = (v1-v2)/R*2*1000\n",
    "R1 = Vb/2/ir1\n",
    "R2 = 1                    # kilo ohm,  Assumption\n",
    "ir3 = round((2*i+Vb/1000)*1000)\n",
    "R3 = round(2/ir3*1000)\n",
    "R4 = round((Vref-(25*ir3/1000)-Vb)/(ir3/1000))\n",
    "\n",
    "#answer\n",
    "\n",
    "print \"a)\"\n",
    "print \"  R1 =\",R1,\"kilo ohm\\n  R2 =\",R2,\"kilo ohm\\n  R3 =\",R3,\"ohm\\n  R4 =\",R4,\"ohm\"\n",
    "\n",
    "# answer in book is after looking up standard values"
   ]
  }
 ],
 "metadata": {
  "kernelspec": {
   "display_name": "Python 2",
   "language": "python",
   "name": "python2"
  },
  "language_info": {
   "codemirror_mode": {
    "name": "ipython",
    "version": 2
   },
   "file_extension": ".py",
   "mimetype": "text/x-python",
   "name": "python",
   "nbconvert_exporter": "python",
   "pygments_lexer": "ipython2",
   "version": "2.7.10"
  }
 },
 "nbformat": 4,
 "nbformat_minor": 0
}
