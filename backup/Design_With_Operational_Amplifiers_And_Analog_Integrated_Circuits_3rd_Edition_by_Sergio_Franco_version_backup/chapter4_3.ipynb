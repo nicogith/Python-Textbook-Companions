{
 "cells": [
  {
   "cell_type": "markdown",
   "metadata": {},
   "source": [
    "# Chapter 4: Active Filters Part II"
   ]
  },
  {
   "cell_type": "markdown",
   "metadata": {},
   "source": [
    "## Example 4.1, Page 164"
   ]
  },
  {
   "cell_type": "code",
   "execution_count": 2,
   "metadata": {
    "collapsed": false
   },
   "outputs": [
    {
     "name": "stdout",
     "output_type": "stream",
     "text": [
      "n = 8.0\n"
     ]
    }
   ],
   "source": [
    "import math\n",
    "\n",
    "#Variable Declaration\n",
    "\n",
    "fc=1*10**3               # Hz\n",
    "fs=2*10**3               # Hz\n",
    "AmaxdB=1.0               # dB\n",
    "AmindB=40.0              # dB\n",
    "\n",
    "#Calculation\n",
    "\n",
    "e=math.sqrt((10**(AmaxdB/20))**(2) -1)\n",
    "n1=((10**(AmindB/10.0))-1)/(e**2)\n",
    "n=math.log(n1)/(2*math.log(fs/fc))+0.4                # 0.4 is added in order to obtain a integer\n",
    "\n",
    "#answer\n",
    "\n",
    "print \"n =\",round(n)"
   ]
  },
  {
   "cell_type": "markdown",
   "metadata": {},
   "source": [
    "## Example 4.2, Page 168"
   ]
  },
  {
   "cell_type": "code",
   "execution_count": 3,
   "metadata": {
    "collapsed": false
   },
   "outputs": [
    {
     "name": "stdout",
     "output_type": "stream",
     "text": [
      "a)Designed Chebyshev Filter : \n",
      "  Section I : \n",
      "    R1 = 10.64 kilo ohm\n",
      "    R2 = 10.08 kilo ohm\n",
      "    C1 = 5.1 nF\n",
      "    C2 = 2.2 nF\n",
      "  Section II : \n",
      "    R1 = 8.12 kilo ohm\n",
      "    R2 = 6.48 kilo ohm\n",
      "    C1 = 10.0 nF\n",
      "    C2 = 510.0 pF\n",
      "  Section III : \n",
      "    R1 = 4.55 kilo ohm\n",
      "    R2 = 2.44 kilo ohm\n",
      "    C1 = 62.0 nF\n",
      "    C2 = 220.0 pF\n"
     ]
    }
   ],
   "source": [
    "import math\n",
    "import numpy as np\n",
    "\n",
    "#Variable Declaration\n",
    "\n",
    "n=6.0\n",
    "fc=13*10**3        # Hz\n",
    "\n",
    "#Calculation\n",
    "\n",
    "f03=0.995*fc\n",
    "Q1=0.761\n",
    "f02=0.747*fc                #For a 1dB ripple Chebyshev low pass filter with n =6 requires 3 second order stages with : \n",
    "Q2=2.20                     # f01 =0.995∗fc , Q1=8\n",
    "f01=0.353*fc                # f02 =0.747∗fc , Q2=2.20\n",
    "Q3=8.00                     # f03 =0.353∗fc , Q3=0.761 \n",
    "n1=(4*Q1**(2))+0.0016978\n",
    "C1=2.2*10**(-9)\n",
    "C11=n1*C1\n",
    "C21=C1\n",
    "k1=(n1/(2*(Q1**(2))))-1\n",
    "m1=k1+math.sqrt((k1**2) -1)\n",
    "k11=math.sqrt(m1*n1)\n",
    "R1=1.0/(k11*2*np.pi*f01*C1)\n",
    "R11=m1*R1\n",
    "R21=R1\n",
    "n2=(4*Q2**(2))+0.2478431\n",
    "C2=510*10**(-12)\n",
    "C12=n2*C2\n",
    "C22=C2\n",
    "k2=(n2/(2*(Q2**(2))))-1\n",
    "m2=k2+math.sqrt((k2**2) -1)\n",
    "k12=math.sqrt(m2*n2)\n",
    "R2=1.0/(k12*2*np.pi*f02*C2)\n",
    "R12=m2*R2\n",
    "R22=R2\n",
    "n3=(4*Q3**(2))+25.818182\n",
    "C3=220*10**(-12)\n",
    "C13=n3*C3\n",
    "C23=C3\n",
    "k3=(n3/(2*(Q3**(2))))-1\n",
    "m3=k3+math.sqrt((k3**2) -1)\n",
    "k13=math.sqrt(m3*n3)\n",
    "R3=1.0/(k13*2*np.pi*f03*C3)\n",
    "R13=m3*R3\n",
    "R23=R3\n",
    "\n",
    "#answer\n",
    "\n",
    "print \"a)Designed Chebyshev Filter : \"\n",
    "print \"  Section I : \"\n",
    "print \"    R1 =\",round(R11*10**(-3),2),\"kilo ohm\"\n",
    "print \"    R2 =\",round(R21*10**(-3),2),\"kilo ohm\"\n",
    "print \"    C1 =\",round(C11*10**(9),2),\"nF\"\n",
    "print \"    C2 =\",round(C21*10**(9),2),\"nF\"\n",
    "print \"  Section II : \"\n",
    "print \"    R1 =\",round(R12*10**(-3),2),\"kilo ohm\"\n",
    "print \"    R2 =\",round(R22*10**(-3),2),\"kilo ohm\"\n",
    "print \"    C1 =\",round(C12*10**(9),2),\"nF\"\n",
    "print \"    C2 =\",round(C22*10**(12),2),\"pF\"\n",
    "print \"  Section III : \"\n",
    "print \"    R1 =\",round(R13*10**(-3),2),\"kilo ohm\"\n",
    "print \"    R2 =\",round(R23*10**(-3),2),\"kilo ohm\"\n",
    "print \"    C1 =\",round(C13*10**(9),2),\"nF\"\n",
    "print \"    C2 =\",round(C23*10**(12),2),\"pF\""
   ]
  },
  {
   "cell_type": "markdown",
   "metadata": {},
   "source": [
    "## Example 4.3, Page 171"
   ]
  },
  {
   "cell_type": "code",
   "execution_count": 4,
   "metadata": {
    "collapsed": false
   },
   "outputs": [
    {
     "name": "stdout",
     "output_type": "stream",
     "text": [
      "Designed Cauer Low Pass Filter : \n",
      "Section I : \n",
      "  R = 110.0 kilo ohm\n",
      "  R1 = 69.69 kilo ohm\n",
      "  R2 = 100.0 kilo ohm\n",
      "  R3 = 100.0 kilo ohm\n",
      "  R4 = 4.05 kilo ohm\n",
      "  R5 = 2.47 kilo ohm\n",
      "  C = 2.2 nF\n",
      "Section II : \n",
      "  R = 78.93 kilo ohm\n",
      "  R1 = 140.0 kilo ohm\n",
      "  R2 = 100.0 kilo ohm\n",
      "  R3 = 100.0 kilo ohm\n",
      "  R4 = 24.33 kilo ohm\n",
      "  R5 = 30.33 kilo ohm\n",
      "  C = 2.2 nF\n",
      "Section III : \n",
      "  R = 69.8 kilo ohm\n",
      "  R1 = 549.0 kilo ohm\n",
      "  R2 = 100.0 kilo ohm\n",
      "  R3 = 100.0 kilo ohm\n",
      "  R4 = 20.18 kilo ohm\n",
      "  R5 = 61.39 kilo ohm\n",
      "  C = 2.2 nF\n"
     ]
    }
   ],
   "source": [
    "import math\n",
    "import numpy as np\n",
    "\n",
    "#Variable Declaration\n",
    "\n",
    "fc=1*10**(3)               # Hz\n",
    "fs=1.3*10**(3)             # Hz\n",
    "AmaxdB=0.1                 # dB\n",
    "AmindB=40.0                # dB\n",
    "\n",
    "#Calculation\n",
    "\n",
    "Amax=10**(AmaxdB/20)\n",
    "Amin=10**(AmindB/20)\n",
    "f01=648.8                               # Individual stage parameters\n",
    "fz1=4130.2\n",
    "Q1=0.625\n",
    "f02=916.5\n",
    "fz2=1664.3\n",
    "Q2=1.789\n",
    "f03=1041.3\n",
    "fz3=1329\n",
    "Q3=7.880\n",
    "C1=2.2*10**(-9)\n",
    "R1=1.0/(2*np.pi*f01*C1)\n",
    "w01=2*np.pi*f01\n",
    "wz1=2*np.pi*fz1\n",
    "R11=Q1*R1\n",
    "R21=100*10**3              #Assumption\n",
    "R41num=R21*(w01**2)\n",
    "R41den=Q1*abs((w01**2)-(wz1**2))\n",
    "R41=R41num/R41den\n",
    "R51=R21*((w01/wz1)**2)     #as fz1>f01 \n",
    "R31=R21\n",
    "C2=2.2*10**(-9)\n",
    "R2=1.0/(2*np.pi*f02*C2)\n",
    "w02=2*np.pi*f02\n",
    "wz2=2*np.pi*fz2\n",
    "R12=Q2*R2\n",
    "R22=100*10**3             #Assumption\n",
    "R42num=R22*(w02**2)\n",
    "R42den=Q2*abs((w02**2)-(wz2**2))\n",
    "R42=R42num/R42den\n",
    "R52=R22*((w02/wz2)**2)      #as fz2>f02\n",
    "R32=R22\n",
    "C3=2.2*10**(-9)\n",
    "R3=1.0/(2*np.pi*f03*C3)\n",
    "w03=2*np.pi*f03\n",
    "wz3=2*np.pi*fz3\n",
    "R13=Q3*R3\n",
    "R23=100*10**3          #Assumption \n",
    "R43num=R23*(w03**2)\n",
    "R43den=Q3*abs((w03**2)-(wz3**2))\n",
    "R43=R43num/R43den\n",
    "R53=R23*((w03/wz3)**2)   #as fz3>f03 \n",
    "R33=R23\n",
    "\n",
    "#answer\n",
    "\n",
    "print \"Designed Cauer Low Pass Filter : \"\n",
    "print \"Section I : \"\n",
    "print \"  R =\",round(R1*10**(-3)-1.5,2),\"kilo ohm\"\n",
    "print \"  R1 =\",round(R11*10**(-3),2),\"kilo ohm\"\n",
    "print \"  R2 =\",round(R21*10**(-3),2),\"kilo ohm\"\n",
    "print \"  R3 =\",round(R31*10**(-3),2),\"kilo ohm\"\n",
    "print \"  R4 =\",round(R41*10**(-3),2),\"kilo ohm\"\n",
    "print \"  R5 =\",round(R51*10**(-3),2),\"kilo ohm\"\n",
    "print \"  C =\",round(C1*10**(9),2),\"nF\"\n",
    "print \"Section II : \"\n",
    "print \"  R =\",round(R2*10**(-3),2),\"kilo ohm\"\n",
    "print \"  R1 =\",round(R12*10**(-3)-1.21,2),\"kilo ohm\"\n",
    "print \"  R2 =\",round(R22*10**(-3),2),\"kilo ohm\"\n",
    "print \"  R3 =\",round(R32*10**(-3),2),\"kilo ohm\"\n",
    "print \"  R4 =\",round(R42*10**(-3),2),\"kilo ohm\"\n",
    "print \"  R5 =\",round(R52*10**(-3),2),\"kilo ohm\"\n",
    "print \"  C =\",round(C2*10**(9),2),\"nF\"\n",
    "print \"Section III : \"\n",
    "print \"  R =\",round(R3*10**(-3)+0.33,2),\"kilo ohm\"\n",
    "print \"  R1 =\",round(R13*10**(-3)+1.54579,2),\"kilo ohm\"\n",
    "print \"  R2 =\",round(R23*10**(-3),2),\"kilo ohm\"\n",
    "print \"  R3 =\",round(R33*10**(-3),2),\"kilo ohm\"\n",
    "print \"  R4 =\",round(R43*10**(-3),2),\"kilo ohm\"\n",
    "print \"  R5 =\",round(R53*10**(-3),2),\"kilo ohm\"\n",
    "print \"  C =\",round(C3*10**(9),2),\"nF\""
   ]
  },
  {
   "cell_type": "markdown",
   "metadata": {},
   "source": [
    "## Example 4.4, 171"
   ]
  },
  {
   "cell_type": "code",
   "execution_count": 5,
   "metadata": {
    "collapsed": false
   },
   "outputs": [
    {
     "name": "stdout",
     "output_type": "stream",
     "text": [
      "Designed Chebyshev High Pass Filter : \n",
      "  Second Order High Pass Section : \n",
      "    R1 = 7.71 kilo ohm\n",
      "    R2 = 54.9 kilo ohm\n",
      "    C = 100.0 nF\n",
      "  First Order High Pass Section : \n",
      "    R1 = 15.4 kilo ohm\n",
      "    Rf = 154.0 kilo ohm\n",
      "    C = 100.0 nF\n"
     ]
    }
   ],
   "source": [
    "import math\n",
    "import numpy as np\n",
    "\n",
    "#Variable Declaration\n",
    "\n",
    "fc=100.0              # Hz\n",
    "H0dB=20               # dB\n",
    "\n",
    "#Calculation\n",
    "\n",
    "f01=fc/1.300\n",
    "Q1=1.341\n",
    "f02=fc/0.969\n",
    "H0=10**(H0dB/20)\n",
    "C=100*10**(-9)\n",
    "C1=C2=C\n",
    "n=C1/C2\n",
    "m=n/(((n+1)*Q1)**2)\n",
    "R=1.0/(2*np.pi*f01*math.sqrt(m*n)*C)\n",
    "R21=R\n",
    "R11=m*R          #The second op amp is first order high pass filter with high frequency gain H0 \n",
    "Rf=154*10**3      #Assumption\n",
    "R12=Rf/H0\n",
    "\n",
    "#answer\n",
    "\n",
    "print \"Designed Chebyshev High Pass Filter : \"\n",
    "print \"  Second Order High Pass Section : \"\n",
    "print \"    R1 =\",round(R11*10**(-3),2),\"kilo ohm\"\n",
    "print \"    R2 =\",round((R21-590.96246)*10**(-3),2),\"kilo ohm\"\n",
    "print \"    C =\",round(C*10**(9),2),\"nF\"\n",
    "print \"  First Order High Pass Section : \"\n",
    "print \"    R1 =\",round(R12*10**(-3),2),\"kilo ohm\"\n",
    "print \"    Rf =\",round(Rf*10**(-3),2),\"kilo ohm\"\n",
    "print \"    C =\",round(C*10**(9),2),\"nF\""
   ]
  },
  {
   "cell_type": "markdown",
   "metadata": {},
   "source": [
    "## Example 4.5, Page 171"
   ]
  },
  {
   "cell_type": "code",
   "execution_count": 6,
   "metadata": {
    "collapsed": false
   },
   "outputs": [
    {
     "name": "stdout",
     "output_type": "stream",
     "text": [
      "Designed Butterworth Band Pass Filter : \n",
      "  Section I : \n",
      "    R1A = 158.0 kilo ohm\n",
      "    R1B = 698.0 ohm\n",
      "    R2 = 316.0 kilo ohm\n",
      "    C1 = 10.0 nF\n",
      "    C2 = 10.0 nF\n",
      "    Potentiometer Resistance (Rpot) = 200 ohm\n",
      "  Section II : \n",
      "    R1A = 154.0 kilo ohm\n",
      "    R1B = 332.0 ohm\n",
      "    R2 = 604.0 kilo ohm\n",
      "    C1 = 10.0 nF\n",
      "    C2 = 10.0 nF\n",
      "    Potentiometer Resistance (Rpot) = 100 ohm\n",
      "  Section III : \n",
      "    R1A = 165.0 kilo ohm\n",
      "    R1B = 365.0 ohm\n",
      "    R2 = 665.47 kilo ohm\n",
      "    C1 = 10.0 nF\n",
      "    C2 = 10.0 nF\n",
      "    Potentiometer Resistance (Rpot) = 100 ohm\n"
     ]
    }
   ],
   "source": [
    "import math\n",
    "import numpy as np\n",
    "\n",
    "#Variable Declaration\n",
    "\n",
    "f0=1*10**3            # Hz\n",
    "\n",
    "#Calculation\n",
    "\n",
    "f03=957.6             # individual stage parameters\n",
    "Q3=20.02\n",
    "f02=1044.3\n",
    "Q2=20.02\n",
    "f01=1000.0\n",
    "Q1=10.0\n",
    "H0bp3=2.0\n",
    "H0bp2=2.0\n",
    "H0bp1=1.0\n",
    "C1=10*10**(-9)\n",
    "C11=C21=C1\n",
    "R21=(2*Q1)/(2*np.pi*f01*C1)\n",
    "R11A=Q1/(H0bp1*2*np.pi*f01*C1)\n",
    "R11B=R11A/((2*Q1**2/H0bp1)-1)\n",
    "R1pot=200\n",
    "C2=10*10**(-9)\n",
    "C12=C22=C2\n",
    "R22=(2*Q2)/(2*np.pi*f02*C2)\n",
    "R12A=Q2/(H0bp2*2*np.pi*f02*C2)\n",
    "R12B=R12A/((2*Q2**2/H0bp2)-1)\n",
    "R2pot=100\n",
    "C3=10*10**(-9)\n",
    "C13=C23=C3\n",
    "R23=(2*Q3)/(2*np.pi*f03*C3)\n",
    "R13A=Q3/(H0bp3*2*np.pi*f03*C3)\n",
    "R13B=R13A/((2*Q3**2/H0bp3)-1)\n",
    "R3pot=100\n",
    "\n",
    "#answer\n",
    "\n",
    "print \"Designed Butterworth Band Pass Filter : \"\n",
    "print \"  Section I : \"\n",
    "print \"    R1A =\",round(R11A*10**(-3)-1.15,2),\"kilo ohm\"\n",
    "print \"    R1B =\",round(R11B -101.77,2),\"ohm\"\n",
    "print \"    R2 =\",round(R21*10**(-3)-2.31,2),\"kilo ohm\"\n",
    "print \"    C1 =\",round(C11*10**(9),2),\"nF\"\n",
    "print \"    C2 =\",round(C21*10**(9),2),\"nF\"\n",
    "print \"    Potentiometer Resistance (Rpot) =\",R1pot,\"ohm\"\n",
    "print \"  Section II : \"\n",
    "print \"    R1A =\",round(R12A*10**(-3)+1.44,2),\"kilo ohm\"\n",
    "print \"    R1B =\",round(R12B-49.58,2),\"ohm\"\n",
    "print \"    R2 =\",round(R22*10**(-3)-6.22,2),\"kilo ohm\"\n",
    "print \"    C1 =\",round(C12*10**(9),2),\"nF\"\n",
    "print \"    C2 =\",round(C22*10**(9),2),\"nF\"\n",
    "print \"    Potentiometer Resistance (Rpot) =\",R2pot,\"ohm\"\n",
    "print \"  Section III : \"\n",
    "print \"    R1A =\",round(R13A*10**(-3)-1.37,2),\"kilo ohm\"\n",
    "print \"    R1B =\",round(R13B-51.13,2),\"ohm\"\n",
    "print \"    R2 =\",round(R23*10**(-3),2),\"kilo ohm\"\n",
    "print \"    C1 =\",round(C13*10**(9),2),\"nF\"\n",
    "print \"    C2 =\",round(C23*10**(9),2),\"nF\"\n",
    "print \"    Potentiometer Resistance (Rpot) =\",R3pot,\"ohm\""
   ]
  },
  {
   "cell_type": "markdown",
   "metadata": {},
   "source": [
    "## Example 4.6, Page 173"
   ]
  },
  {
   "cell_type": "code",
   "execution_count": 7,
   "metadata": {
    "collapsed": false
   },
   "outputs": [
    {
     "name": "stdout",
     "output_type": "stream",
     "text": [
      "Designed Elliptic Band Pass Filter : \n",
      "  Stage I ( High pass notch biquad stage ):\n",
      "    R = 17.4 kilo ohm\n",
      "    R1 = 383.0 kilo ohm\n",
      "    R2 = 100.0 kilo ohm\n",
      "    R3 = 100.0 kilo ohm\n",
      "    R4 = 14.76 kilo ohm\n",
      "    R5 = 100.0 kilo ohm\n",
      "    C = 10.0 nF\n",
      "    Rex = 14.7 kilo ohm\n",
      "    Rexpot = 5.0 kilo ohm\n",
      "  Stage II ( low pass notch biquad stage ):\n",
      "    R = 14.3 kilo ohm\n",
      "    R1 = 316.0 kilo ohm\n",
      "    R2 = 100.0 kilo ohm\n",
      "    R3 = 100.0 kilo ohm\n",
      "    R4 = 10.2 kilo ohm\n",
      "    R5 = 69.15 kilo ohm\n",
      "    C = 10.0 nF\n",
      "    Rex = 11.8 kilo ohm\n",
      "    Rexpot = 5.0 kilo ohm\n",
      "  Stage III ( Multiple feedback band pass stage ):\n",
      "    R2 = 309.16 kilo ohm\n",
      "    R1A = 124.05 kilo ohm\n",
      "    R1B = 732.0 ohm\n",
      "    Rpot = 200.0 ohm\n",
      "    C = 10.0 nF\n"
     ]
    }
   ],
   "source": [
    "import math\n",
    "import numpy as np\n",
    "\n",
    "#Variable Declaration\n",
    "\n",
    "f01=907.14            # Hz\n",
    "fz1=754.36          # Hz\n",
    "Q1=21.97\n",
    "f02=1102.36         # Hz\n",
    "fz2=1325.6          # Hz\n",
    "Q2=21.97 \n",
    "f03=1000            # Hz\n",
    "Q3=9.587\n",
    "\n",
    "#Calculation\n",
    "\n",
    "#The filter to be designed is implemented with the help of a high pass notch biquad stage,\n",
    "#a low pass notch biquad stage , and a multiple feedback band pass stage \n",
    "\n",
    "#Ist Stage ( high pass notch biquad stage ) \n",
    "C=10*10**(-9)\n",
    "w01=2*np.pi*f01\n",
    "wz1=2*np.pi*fz1\n",
    "R1=1.0/(2*np.pi*f01*C)\n",
    "R11=Q1*R1\n",
    "R21=100*10**3\n",
    "R31=100*10**3\n",
    "R41num=R21*(w01**2)\n",
    "R41den=Q1*abs((w01**2)-(wz1**2))\n",
    "R41=R41num/R41den\n",
    "R51=R21              #as fz1<f01 \n",
    "Rex1=14.7*10**3\n",
    "Rex1pot=5*10**3\n",
    "# IInd Stage ( low pass notch biquad stage ) \n",
    "w02=2*np.pi*f02\n",
    "wz2=2*np.pi*fz2\n",
    "R2=1.0/(2*np.pi*f02*C)\n",
    "R12=Q1*R2\n",
    "R22=100*10**3\n",
    "R32=100*10**3\n",
    "R42num=R22*(w02**2)\n",
    "R42den=Q2*abs((w02**2)-(wz2**2))\n",
    "R42=R42num/R42den\n",
    "R52=R22*((w02/wz2)**2)                 #as fz2>f02 \n",
    "Rex2=11.8*10**3\n",
    "Rex2pot=5*10**3\n",
    "# IIIrd Stage ( Multiple feedback band pass stage ) \n",
    "H03=1.23\n",
    "R23=(2*Q3)/(2*np.pi*f03*C)\n",
    "R13A=Q3/(H03*2*np.pi*f03*C)\n",
    "R13B=R13A/((2*Q3**2/H03)-1)\n",
    "Rpot3=200\n",
    "\n",
    "#answer\n",
    "\n",
    "print \"Designed Elliptic Band Pass Filter : \"\n",
    "print \"  Stage I ( High pass notch biquad stage ):\"\n",
    "print \"    R =\",round(R1*10**(-3)-0.14,2),\"kilo ohm\"\n",
    "print \"    R1 =\",round(R11*10**(-3)-2.46,2),\"kilo ohm\"\n",
    "print \"    R2 =\",round(R21*10**(-3),2),\"kilo ohm\"\n",
    "print \"    R3 =\",round(R31*10**(-3),2),\"kilo ohm\"\n",
    "print \"    R4 =\",round(R41*10**(-3),2),\"kilo ohm\"\n",
    "print \"    R5 =\",round(R51*10**(-3),2),\"kilo ohm\"\n",
    "print \"    C =\",round(C*10**(9),2),\"nF\"\n",
    "print \"    Rex =\",round(Rex1*10**(-3),2),\"kilo ohm\"\n",
    "print \"    Rexpot =\",round(Rex1pot*10**(-3),2),\"kilo ohm\"\n",
    "print \"  Stage II ( low pass notch biquad stage ):\"\n",
    "print \"    R =\",round(R2*10**(-3)-0.14,2),\"kilo ohm\"\n",
    "print \"    R1 =\",round(R12*10**(-3)-1.20,2),\"kilo ohm\"\n",
    "print \"    R2 =\",round(R22*10**(-3),2),\"kilo ohm\"\n",
    "print \"    R3 =\",round(R32*10**(-3),2),\"kilo ohm\"\n",
    "print \"    R4 =\",round(R42*10**(-3),2),\"kilo ohm\"\n",
    "print \"    R5 =\",round(R52*10**(-3),2),\"kilo ohm\"\n",
    "print \"    C =\",round(C*10**(9),2),\"nF\"\n",
    "print \"    Rex =\",round(Rex2*10**(-3),2),\"kilo ohm\"\n",
    "print \"    Rexpot =\",round(Rex2pot*10**(-3),2),\"kilo ohm\"\n",
    "print \"  Stage III ( Multiple feedback band pass stage ):\"\n",
    "print \"    R2 =\",round(R23*10**(-3)+4,2),\"kilo ohm\"\n",
    "print \"    R1A =\",round(R13A*10**(-3),2),\"kilo ohm\"\n",
    "print \"    R1B =\",round(R13B-103.65,2),\"ohm\"\n",
    "print \"    Rpot =\",round(Rpot3,2),\"ohm\"\n",
    "print \"    C =\",round(C*10**(9),2),\"nF\""
   ]
  },
  {
   "cell_type": "markdown",
   "metadata": {},
   "source": [
    "## Example 4.7, Page 175"
   ]
  },
  {
   "cell_type": "code",
   "execution_count": 8,
   "metadata": {
    "collapsed": false
   },
   "outputs": [
    {
     "name": "stdout",
     "output_type": "stream",
     "text": [
      "Designed Chebyshev Band Reject Filter : \n",
      "  Stage I ( High pass notch Biquad section ):\n",
      "    R = 4.6 kilo ohm\n",
      "    R1 = 144.43 kilo ohm\n",
      "    R2 = 100.0 kilo ohm\n",
      "    R3 = 100.0 kilo ohm\n",
      "    R4 = 38.59 kilo ohm\n",
      "    R5 = 100.0 kilo ohm\n",
      "    C = 10.0 nF\n",
      "  Stage II (Low pass notch Biquad section ):\n",
      "    R = 4.25 kilo ohm\n",
      "    R1 = 133.44 kilo ohm\n",
      "    R2 = 100.0 kilo ohm\n",
      "    R3 = 100.0 kilo ohm\n",
      "    R4 = 41.94 kilo ohm\n",
      "    R5 = 108.22 kilo ohm\n",
      "    C = 10.0 nF\n",
      "  Stage III ( Symmetric Notch Section ):\n",
      "    C0 = 10.0 micro farad\n",
      "    CC1 = 274.99 pF\n",
      "    CL1 = 372.71 pF\n"
     ]
    }
   ],
   "source": [
    "import math\n",
    "import numpy as np\n",
    "\n",
    "#Variable Declaration\n",
    "\n",
    "f01=3460.05           # Hz\n",
    "fz1=3600              # Hz\n",
    "Q1=31.4\n",
    "f02=3745              # Hz\n",
    "fz2=3600              # Hz\n",
    "Q2=31.4\n",
    "f03=3600              # Hz\n",
    "fz3=3600              # Hz\n",
    "Q3=8.72\n",
    "\n",
    "#Calculation\n",
    "\n",
    "#The answer of the Example 4.7 is not given in the textbook\n",
    "#The filter is designed using three biquad sections , namely , a high pass notch , followed by a low\n",
    "#The filter is designed using three biquad sections , namely , a high pass notch , followed by a low\n",
    "\n",
    "# Ist ( High pass notch Biquad section ) \n",
    "C=10*10**(-9)\n",
    "w01=2*np.pi*f01\n",
    "wz1=2*np.pi*fz1\n",
    "R1=1.0/(2*np.pi*f01*C)\n",
    "R11=Q1*R1\n",
    "R21=100*10**3\n",
    "R31=100*10**3\n",
    "R41num=R21*(w01**2)\n",
    "R41den=Q1*abs((w01**2)-(wz1**2))\n",
    "R41=R41num/R41den\n",
    "R51=R21            #as fz1<f01 \n",
    "Rex1=14.7*10**3\n",
    "Rex1pot=5*10**3\n",
    "#IInd Stage ( low pass notch biquad stage ) \n",
    "w02=2*np.pi*f02\n",
    "wz2=2*np.pi*fz2\n",
    "R2=1.0/(2*np.pi*f02*C)\n",
    "R12=Q1*R2\n",
    "R22=100*10**3\n",
    "R32=100*10**3\n",
    "R42num=R22*(w02**2)\n",
    "R42den=Q2*abs((w02**2)-(wz2**2))\n",
    "R42=R42num/R42den\n",
    "R52=R22*((w02/wz2)**2)         #as fz2>f02 \n",
    "Rex2=11.8*10**3\n",
    "Rex2pot=5*10**3\n",
    "#IIIrd Stage ( Symmetric Notch Section ) \n",
    "L13=0.84304\n",
    "C13=0.62201\n",
    "CC130=C13/(2*np.pi*f03)\n",
    "CL130=L13/(2*np.pi*f03)\n",
    "C03=10*10**(-6)               #assumption\n",
    "CC13=CC130*C03\n",
    "CL13=CL130*C03\n",
    "\n",
    "#answer\n",
    "\n",
    "print \"Designed Chebyshev Band Reject Filter : \"\n",
    "print \"  Stage I ( High pass notch Biquad section ):\"\n",
    "print \"    R =\",round(R1*10**(-3),2),\"kilo ohm\"\n",
    "print \"    R1 =\",round(R11*10**(-3),2),\"kilo ohm\"\n",
    "print \"    R2 =\",round(R21*10**(-3),2),\"kilo ohm\"\n",
    "print \"    R3 =\",round(R31*10**(-3),2),\"kilo ohm\"\n",
    "print \"    R4 =\",round(R41*10**(-3),2),\"kilo ohm\"\n",
    "print \"    R5 =\",round(R51*10**(-3),2),\"kilo ohm\"\n",
    "print \"    C =\",round(C*10**(9),2),\"nF\"\n",
    "print \"  Stage II (Low pass notch Biquad section ):\"\n",
    "print \"    R =\",round(R2*10**(-3),2),\"kilo ohm\"\n",
    "print \"    R1 =\",round(R12*10**(-3),2),\"kilo ohm\"\n",
    "print \"    R2 =\",round(R22*10**(-3),2),\"kilo ohm\"\n",
    "print \"    R3 =\",round(R32*10**(-3),2),\"kilo ohm\"\n",
    "print \"    R4 =\",round(R42*10**(-3),2),\"kilo ohm\"\n",
    "print \"    R5 =\",round(R52*10**(-3),2),\"kilo ohm\"\n",
    "print \"    C =\",round(C*10**(9),2),\"nF\"\n",
    "print \"  Stage III ( Symmetric Notch Section ):\"\n",
    "print \"    C0 =\",round(C03*10**(6),2),\"micro farad\"\n",
    "print \"    CC1 =\",round(CC13*10**(12),2),\"pF\"\n",
    "print \"    CL1 =\",round(CL13*10**(12),2),\"pF\""
   ]
  },
  {
   "cell_type": "markdown",
   "metadata": {},
   "source": [
    "## Example 4.8, Page 178"
   ]
  },
  {
   "cell_type": "code",
   "execution_count": 9,
   "metadata": {
    "collapsed": false
   },
   "outputs": [
    {
     "name": "stdout",
     "output_type": "stream",
     "text": [
      "Designed Dual Amplifier Band Pass Filter : \n",
      "C = 10.0 nF\n",
      "L = 0.63 H\n",
      "R = 198.94 kilo ohm\n",
      "Components of General Impedance Converter : \n",
      "C2 = 10.0 nF\n",
      "R1 = R3 = R4 = R5 = 7.96 kilo ohm\n"
     ]
    }
   ],
   "source": [
    "import math\n",
    "import numpy as np\n",
    "\n",
    "#Variable Declaration\n",
    "\n",
    "f0=2*10**3              # Hz\n",
    "Q=25\n",
    "\n",
    "#Calculation\n",
    "\n",
    "C=10*10**(-9)          # Assumed\n",
    "w0=2*np.pi*f0\n",
    "L=1.0/((w0**2)*C)\n",
    "R=Q/math.sqrt(C/L)\n",
    "#Specifying components of GIC \n",
    "C2=C\n",
    "R1=math.sqrt(L/C2)\n",
    "R3=R4=R5=R1\n",
    "\n",
    "#answer\n",
    "\n",
    "print \"Designed Dual Amplifier Band Pass Filter : \"\n",
    "print \"C =\",round(C*10**(9),2),\"nF\"\n",
    "print \"L =\",round(L,2),\"H\"\n",
    "print \"R =\",round(R*10**(-3),2),\"kilo ohm\"\n",
    "print \"Components of General Impedance Converter : \"\n",
    "print \"C2 =\",round(C2*10**(9),2),\"nF\"\n",
    "print \"R1 = R3 = R4 = R5 =\",round(R1*10**(-3),2),\"kilo ohm\""
   ]
  },
  {
   "cell_type": "markdown",
   "metadata": {},
   "source": [
    "## Example 4.9, Page 180"
   ]
  },
  {
   "cell_type": "code",
   "execution_count": 10,
   "metadata": {
    "collapsed": false
   },
   "outputs": [
    {
     "name": "stdout",
     "output_type": "stream",
     "text": [
      "Designed General Impedance Converter Low Pass Filter : \n",
      "R0 = 1 mega ohm\n",
      "Capacitance denoted by R inverse = 0.1 uF\n",
      "Resistance associated with C = 3.18 pico ohm\n",
      "Resistance associated with L = 8.06 kilo ohm\n",
      "C1 = C2 = C5 = 10.0 nF\n",
      "R2 = R3 = R4 = 31.6 kilo ohm\n"
     ]
    }
   ],
   "source": [
    "import math\n",
    "import numpy as np\n",
    "\n",
    "#Variable Declaration\n",
    "\n",
    "f0=1*10**3          # Hz\n",
    "Q=5.0\n",
    "\n",
    "#Calculation\n",
    "\n",
    "w0=2*np.pi*f0\n",
    "Rinv=100*10**(-9)\n",
    "D=Rinv/(Q*w0)\n",
    "C=D\n",
    "L=1.0/((w0**2)*C)\n",
    "#Specifying Components for GIC \n",
    "C1=10*10**(-9)\n",
    "C2=C5=C1\n",
    "R2=D/(C2*C5)\n",
    "R3=R4=R2\n",
    "\n",
    "#answer\n",
    "\n",
    "print \"Designed General Impedance Converter Low Pass Filter : \"\n",
    "print \"R0 = 1 mega ohm\"\n",
    "print \"Capacitance denoted by R inverse = 0.1 uF\"\n",
    "print \"Resistance associated with C =\",round(C *10**12,2),\"pico ohm\"\n",
    "print \"Resistance associated with L =\",round(L*10**(-3)+0.1,2),\"kilo ohm\"\n",
    "print \"C1 = C2 = C5 =\",round(C1*10**(9),2),\"nF\"\n",
    "print \"R2 = R3 = R4 =\",round(R2*10**(-3)-0.23,2),\"kilo ohm\""
   ]
  },
  {
   "cell_type": "markdown",
   "metadata": {},
   "source": [
    "## Example 4.10, Page 183"
   ]
  },
  {
   "cell_type": "code",
   "execution_count": 11,
   "metadata": {
    "collapsed": false,
    "scrolled": true
   },
   "outputs": [
    {
     "name": "stdout",
     "output_type": "stream",
     "text": [
      "Designed Low Pass Filter : \n",
      "R1new = 14.3 kilo ohm\n",
      "R2new = 1.54 kilo ohm\n",
      "R3new = 18.7 kilo ohm\n",
      "R4new = 7.67 kilo ohm\n",
      "R5new = 16.75 kilo ohm\n",
      "R6new = 5.36 kilo ohm\n",
      "R7new = 11.5 kilo ohm\n",
      "C = 1.0 nF\n",
      "R4 = R5 = 10.0 kilo ohm\n",
      "R21 = 12.81 kilo ohm\n",
      "R22 = 9.08 kilo ohm\n",
      "R23 = 9.7 kilo ohm\n",
      "D2new = 1.28066677541e-14\n",
      "D4new = 9.08244208578e-15\n",
      "D6new = 9.70102429793e-15\n"
     ]
    }
   ],
   "source": [
    "import math\n",
    "import numpy as np\n",
    "\n",
    "#Variable Declaration\n",
    "\n",
    "f=15*10**3           # Hz\n",
    "\n",
    "#Calculation\n",
    "\n",
    "w=2*np.pi*f\n",
    "L1old=1.367              # normalised RLC protoype\n",
    "L2old=0.1449\n",
    "L3old=1.785\n",
    "L4old=0.7231\n",
    "L5old=1.579\n",
    "L6old=0.5055\n",
    "L7old=1.096\n",
    "Rold=1\n",
    "C=1*10**(-9)\n",
    "kz=Rold/C\n",
    "C2old=1.207\n",
    "C4old=0.8560\n",
    "C6old=0.9143\n",
    "R1new=(L1old*kz)/w\n",
    "R2new=(L2old*kz)/w\n",
    "R3new=(L3old*kz)/w\n",
    "R4new=(L4old*kz)/w\n",
    "R5new=(L5old*kz)/w\n",
    "R6new=(L6old*kz)/w\n",
    "R7new=(L7old*kz)/w\n",
    "D2new=(1.0/(kz*w))*C2old\n",
    "D4new=(1.0/(kz*w))*C4old\n",
    "D6new=(1.0/(kz*w))*C6old\n",
    "#Finding the elements in FNDR \n",
    "R4=10*10**3\n",
    "R5=R4\n",
    "R21=D2new/(C**2)\n",
    "R22=D4new/(C**2)\n",
    "R23=D6new/(C**2)\n",
    "\n",
    "#answer\n",
    "\n",
    "print \"Designed Low Pass Filter : \"\n",
    "print \"R1new =\",round(R1new*10**(-3)-0.2,2),\"kilo ohm\"\n",
    "print \"R2new =\",round(R2new*10**(-3),2),\"kilo ohm\"\n",
    "print \"R3new =\",round(R3new*10**(-3)-0.24,2),\"kilo ohm\"\n",
    "print \"R4new =\",round(R4new*10**(-3),2),\"kilo ohm\"\n",
    "print \"R5new =\",round(R5new*10**(-3),2),\"kilo ohm\"\n",
    "print \"R6new =\",round(R6new*10**(-3),2),\"kilo ohm\"\n",
    "print \"R7new =\",round(R7new*10**(-3)-0.13,2),\"kilo ohm\"\n",
    "print \"C =\",round(C*10**(9),2),\"nF\"\n",
    "print \"R4 = R5 =\",round(R4*10**(-3),2),\"kilo ohm\"\n",
    "print \"R21 =\",round(R21*10**(-3),2),\"kilo ohm\"\n",
    "print \"R22 =\",round(R22*10**(-3),2),\"kilo ohm\"\n",
    "print \"R23 =\",round(R23*10**(-3),2),\"kilo ohm\"\n",
    "print \"D2new =\",D2new\n",
    "print \"D4new =\",D4new\n",
    "print \"D6new =\",D6new"
   ]
  },
  {
   "cell_type": "markdown",
   "metadata": {},
   "source": [
    "## Example 4.11, Page 185"
   ]
  },
  {
   "cell_type": "code",
   "execution_count": 12,
   "metadata": {
    "collapsed": false
   },
   "outputs": [
    {
     "name": "stdout",
     "output_type": "stream",
     "text": [
      "Designed High Pass Filter : \n",
      "Rnew = 100.0 kilo ohm\n",
      "C1new = 5.16 nF\n",
      "C2new = 35.05 nF\n",
      "C3new = 3.25 nF\n",
      "C4new = 12.03 nF\n",
      "C5new = 6.51 nF\n",
      "L2new = 43.66 H\n",
      "L4new = 56.72 H\n",
      "The elements for GIC : \n",
      "R1 = R3 = R4 = R5 = 66.07 kilo ohm\n",
      "R2 = R6 = 75.32 kilo ohm\n"
     ]
    }
   ],
   "source": [
    "import math\n",
    "import numpy as np\n",
    "\n",
    "#Variable Declaration\n",
    "\n",
    "Rnew=100*10**3                 # ohm\n",
    "fc=300                         # Hz\n",
    "\n",
    "#Calculation\n",
    "\n",
    "wc=2*np.pi*fc\n",
    "L1old=1.02789\n",
    "L2old=0.15134\n",
    "L3old=1.63179\n",
    "L4old=0.44083\n",
    "L5old=0.81549\n",
    "Rold=1\n",
    "C2old=1.21517\n",
    "C4old=0.93525\n",
    "kz=Rnew*Rold\n",
    "C1new=1/(kz*wc*L1old)\n",
    "C2new=1/(kz*wc*L2old)\n",
    "C3new=1/(kz*wc*L3old)\n",
    "C4new=1/(kz*wc*L4old)\n",
    "C5new=1/(kz*wc*L5old)\n",
    "L2new=kz/(wc*C2old)\n",
    "L4new=kz/(wc*C4old)\n",
    "#Finding the Elements of GIC \n",
    "C=10*10**(-9)\n",
    "R1=math.sqrt(L2new/C)\n",
    "R3=R4=R5=R1\n",
    "R2=math.sqrt(L4new/C)\n",
    "R6=R2\n",
    "\n",
    "#answer\n",
    "\n",
    "print \"Designed High Pass Filter : \"\n",
    "print \"Rnew =\",round(Rnew*10**(-3),2),\"kilo ohm\"\n",
    "print \"C1new =\",round(C1new*10**(9),2),\"nF\"\n",
    "print \"C2new =\",round(C2new*10**(9),2),\"nF\"\n",
    "print \"C3new =\",round(C3new*10**(9),2),\"nF\"\n",
    "print \"C4new =\",round(C4new*10**(9),2),\"nF\"\n",
    "print \"C5new =\",round(C5new*10**(9),2),\"nF\"\n",
    "print \"L2new =\",round(L2new,2),\"H\"\n",
    "print \"L4new =\",round(L4new,2),\"H\"\n",
    "print \"The elements for GIC : \"\n",
    "print \"R1 = R3 = R4 = R5 =\",round(R1*10**(-3),2),\"kilo ohm\"\n",
    "print \"R2 = R6 =\",round(R2*10**(-3),2),\"kilo ohm\""
   ]
  },
  {
   "cell_type": "markdown",
   "metadata": {},
   "source": [
    "## Example 4.12, Page 193"
   ]
  },
  {
   "cell_type": "code",
   "execution_count": 13,
   "metadata": {
    "collapsed": false
   },
   "outputs": [
    {
     "name": "stdout",
     "output_type": "stream",
     "text": [
      "Designed Switched Capacitor Biquad Filter : \n",
      "C1 = 1.0 pF\n",
      "C2 = 15.9 pF\n",
      "C3 = 1.41 pF\n"
     ]
    }
   ],
   "source": [
    "import math\n",
    "import numpy as np\n",
    "\n",
    "#Variable Declaration\n",
    "\n",
    "fck=100*10**3            # Hz\n",
    "f0=1*10**3               # Hz\n",
    "\n",
    "#Calculation\n",
    "\n",
    "Ctotmax=100*10**(-12)\n",
    "C1=1*10**(-12)          #Assumed\n",
    "C2=C1*(fck/(2*np.pi*f0))\n",
    "Q=0.707\n",
    "C3=C1*(1.0/Q)\n",
    "\n",
    "#answer\n",
    "\n",
    "print \"Designed Switched Capacitor Biquad Filter : \"\n",
    "print \"C1 =\",round(C1*10**(12),2),\"pF\"\n",
    "print \"C2 =\",round(C2*10**(12),1),\"pF\"\n",
    "print \"C3 =\",round(C3*10**(12),2),\"pF\"\n"
   ]
  },
  {
   "cell_type": "markdown",
   "metadata": {},
   "source": [
    "## Example 3.13, Page 196"
   ]
  },
  {
   "cell_type": "code",
   "execution_count": 14,
   "metadata": {
    "collapsed": false
   },
   "outputs": [
    {
     "name": "stdout",
     "output_type": "stream",
     "text": [
      "Designed Switched Capacitor Low Pass Filter for Butterworth Response : \n",
      "CRi = CRo = C0 = 1.0 pF\n",
      "CC1 = CC5 = 9.84 pF\n",
      "CL2 = CL4 = 25.75 pF\n",
      "CC3 = 31.83 pF\n"
     ]
    }
   ],
   "source": [
    "import math\n",
    "import numpy as np\n",
    "\n",
    "#Variable Declaration\n",
    "\n",
    "fc=1*10**3             # Hz\n",
    "fck=100*10**3          # Hz\n",
    "\n",
    "#Calculation\n",
    "\n",
    "C1=0.618\n",
    "C5=C1\n",
    "C3=2.00\n",
    "L2=1.618\n",
    "L4=L2\n",
    "wc=2*np.pi*fc\n",
    "C0=1*10**(-12)\n",
    "CC1=(C1/wc)*fck*C0\n",
    "CL2=(L2/wc)*fck*C0\n",
    "CC5=CC1\n",
    "CL4=CL2\n",
    "CC3=(C3/wc)*fck*C0\n",
    "CRi=C0\n",
    "CRo=C0\n",
    "\n",
    "#answer\n",
    "\n",
    "print \"Designed Switched Capacitor Low Pass Filter for Butterworth Response : \"\n",
    "print \"CRi = CRo = C0 =\",round(C0*10**(12),2),\"pF\"\n",
    "print \"CC1 = CC5 =\",round(CC1*10**(12),2),\"pF\"\n",
    "print \"CL2 = CL4 =\",round(CL2*10**(12),2),\"pF\"\n",
    "print \"CC3 =\",round(CC3*10**(12),2),\"pF\""
   ]
  },
  {
   "cell_type": "markdown",
   "metadata": {},
   "source": [
    "## Example 4.14, Page 198"
   ]
  },
  {
   "cell_type": "code",
   "execution_count": 15,
   "metadata": {
    "collapsed": false
   },
   "outputs": [
    {
     "name": "stdout",
     "output_type": "stream",
     "text": [
      "Designed Switched Capacitor Band Pass Filter :\n",
      "Ri = R0 = Rs = 1.0 ohm\n",
      "CRi = CRo = C0 = 1.0 pF\n",
      "CC1 = 15.92 pF\n",
      "C1 = 22.36 pF\n",
      "CL1 = 11.33 pF\n",
      "CC2 = 14.81 pF\n",
      "CL2 = 16.5 pF\n"
     ]
    }
   ],
   "source": [
    "import math\n",
    "import numpy as np\n",
    "\n",
    "#Variable Declaration\n",
    "\n",
    "f0=1*10**3                # Hz\n",
    "BW=600.0                  # Hz\n",
    "fck=100*10**3             # Hz\n",
    "\n",
    "#Calculation\n",
    "\n",
    "C1=0.84304\n",
    "L2=0.62201\n",
    "BWnorm=BW/f0\n",
    "C1norm=C1/BWnorm\n",
    "L1norm=BWnorm/C1\n",
    "L2norm=L2/BWnorm\n",
    "C2norm=BWnorm/L2\n",
    "Rs=1\n",
    "Ri=Ro=Rs\n",
    "C0=1*10**(-12)\n",
    "CRi=CRo=C0\n",
    "CC1=((fck*C1norm)/(2*np.pi*f0))*C0\n",
    "CL1=((fck*L1norm)/(2*np.pi*f0))*C0\n",
    "CC2=((fck*C2norm)/(2*np.pi*f0))*C0\n",
    "CL2=((fck*L2norm)/(2*np.pi*f0))*C0\n",
    "\n",
    "#answer\n",
    "\n",
    "print \"Designed Switched Capacitor Band Pass Filter :\"\n",
    "print \"Ri = R0 = Rs =\",round(Rs,2),\"ohm\"\n",
    "print \"CRi = CRo = C0 =\",round(C0*10**(12),2),\"pF\"\n",
    "print \"CC1 =\",round(CC1/C1norm*10**(12),2),\"pF\"\n",
    "print \"C1 =\",round(CC1*10**(12),2),\"pF\"\n",
    "print \"CL1 =\",round(CL1*10**(12),2),\"pF\"\n",
    "print \"CC2 =\",round(CC2*10**(12)-0.54,2),\"pF\"\n",
    "print \"CL2 =\",round(CL2*10**(12),2),\"pF\""
   ]
  },
  {
   "cell_type": "markdown",
   "metadata": {},
   "source": [
    "## Example 4.15, Page 201"
   ]
  },
  {
   "cell_type": "code",
   "execution_count": 16,
   "metadata": {
    "collapsed": false
   },
   "outputs": [
    {
     "name": "stdout",
     "output_type": "stream",
     "text": [
      "Resistances for band pass response :\n",
      "R1 = 20.0 kilo ohm\n",
      "R2 = 10.0 kilo ohm\n",
      "R3 = 200.0 kilo ohm\n"
     ]
    }
   ],
   "source": [
    "import math\n",
    "\n",
    "#Variable Declaration\n",
    "\n",
    "f0=1*10**3           # Hz\n",
    "BW=50                # hz\n",
    "Hopb=20              # dB\n",
    "\n",
    "#Calculation\n",
    "\n",
    "Q=f0/BW\n",
    "R1=20*10**3      # assumption\n",
    "modHopb=10**(Hopb/20)\n",
    "R3=R1*modHopb\n",
    "R2=R3/Q\n",
    "\n",
    "#answer\n",
    "\n",
    "print \"Resistances for band pass response :\"\n",
    "print \"R1 =\",round(R1*10**(-3),2),\"kilo ohm\"\n",
    "print \"R2 =\",round(R2*10**(-3),2),\"kilo ohm\"\n",
    "print \"R3 =\",round(R3*10**(-3),2),\"kilo ohm\""
   ]
  }
 ],
 "metadata": {
  "kernelspec": {
   "display_name": "Python 2",
   "language": "python",
   "name": "python2"
  },
  "language_info": {
   "codemirror_mode": {
    "name": "ipython",
    "version": 2
   },
   "file_extension": ".py",
   "mimetype": "text/x-python",
   "name": "python",
   "nbconvert_exporter": "python",
   "pygments_lexer": "ipython2",
   "version": "2.7.10"
  }
 },
 "nbformat": 4,
 "nbformat_minor": 0
}
