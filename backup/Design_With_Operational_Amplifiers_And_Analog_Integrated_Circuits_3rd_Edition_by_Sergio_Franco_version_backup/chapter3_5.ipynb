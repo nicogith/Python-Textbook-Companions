{
 "cells": [
  {
   "cell_type": "markdown",
   "metadata": {},
   "source": [
    "# Chapter 3: Active Filters Part I"
   ]
  },
  {
   "cell_type": "markdown",
   "metadata": {},
   "source": [
    "## Example 3.1, Page 111"
   ]
  },
  {
   "cell_type": "code",
   "execution_count": 7,
   "metadata": {
    "collapsed": false,
    "scrolled": true
   },
   "outputs": [
    {
     "data": {
      "text/plain": [
       "<matplotlib.text.Text at 0xb5e8780>"
      ]
     },
     "execution_count": 7,
     "metadata": {},
     "output_type": "execute_result"
    },
    {
     "data": {
      "image/png": "[encoded data removed]",
      "text/plain": [
       "<matplotlib.figure.Figure at 0xabce390>"
      ]
     },
     "metadata": {},
     "output_type": "display_data"
    }
   ],
   "source": [
    "%matplotlib inline\n",
    "\n",
    "import matplotlib.pyplot as plt\n",
    "import scipy as np\n",
    "\n",
    "#Graph \n",
    "\n",
    "plt.xlim(-3,3)\n",
    "plt.ylim(-3,3)\n",
    "plt.xlabel(\"kNp/s  ->\")\n",
    "plt.ylabel(\"krad/s  ->\")\n",
    "plt.plot(-1,-2,\"xr\")\n",
    "plt.plot(-1,2,\"xr\")\n",
    "plt.plot(0,0,\"or\")\n",
    "plt.grid(True)\n",
    "plt.title(\"pole-zero plot\")"
   ]
  },
  {
   "cell_type": "markdown",
   "metadata": {},
   "source": [
    "## Example 3.3, Page 113"
   ]
  },
  {
   "cell_type": "code",
   "execution_count": 8,
   "metadata": {
    "collapsed": false
   },
   "outputs": [
    {
     "name": "stdout",
     "output_type": "stream",
     "text": [
      "v0(t) = 4.472 cos ((10ˆ3) t + 108.43 ) V\n"
     ]
    }
   ],
   "source": [
    "import math\n",
    "import numpy as np\n",
    "\n",
    "#Variable Declaration\n",
    "\n",
    "R=10.0             # ohm\n",
    "C=40*10**(-6)      # farad\n",
    "L=5*10**(-3)       # H\n",
    "\n",
    "#Calculation\n",
    "\n",
    "s=complex(0,10**3)\n",
    "Hsnum=(R/L)*s\n",
    "Hsden=((s**(2))+(R/L)*s+(1.0/(L*C)))\n",
    "Hs=Hsnum/Hsden               #Transfer Function \n",
    "Hsmag=10*abs(Hs)\n",
    "Hsphase1=math.atan(Hs.imag/Hs.real)\n",
    "Hsphase=(Hsphase1*(180.0/np.pi))+45\n",
    "\n",
    "#answer\n",
    "\n",
    "print \"v0(t) =\",round(Hsmag,3),\"cos ((10ˆ3) t +\",round(Hsphase,2),\") V\""
   ]
  },
  {
   "cell_type": "markdown",
   "metadata": {},
   "source": [
    "## Example 3.4, Page 119"
   ]
  },
  {
   "cell_type": "code",
   "execution_count": 9,
   "metadata": {
    "collapsed": false
   },
   "outputs": [
    {
     "name": "stdout",
     "output_type": "stream",
     "text": [
      "a)\n",
      "  R1 = 15.92 kilo ohm\n",
      "  R2 = 159.2 kilo ohm\n",
      "b)\n",
      "  Frequency = 9.95 kHz\n",
      "  Phase = 95.7 degree\n"
     ]
    }
   ],
   "source": [
    "import math\n",
    "import numpy as np\n",
    "from sympy.mpmath import *\n",
    "from sympy import Symbol,solve,N\n",
    "\n",
    "#Variable declaration\n",
    "\n",
    "gain = 20    # dB\n",
    "\n",
    "#Calculation\n",
    "\n",
    "gain=pow(10,gain/gain)\n",
    "\n",
    "R1 = 20         # kilo ohm, Assumption\n",
    "R2 = 10*R1      # kilo ohm\n",
    "C = round(10/(2*np.pi*2),3)\n",
    "R2 = C*R2\n",
    "R1 = R2/10\n",
    "\n",
    "f = Symbol(\"f\");\n",
    "ans = solve(1+(f**2)/(10**6)-100,f)\n",
    "ans = round(N(ans[1])/1000,3)\n",
    "phase=round(180-degrees(atan(ans)),1)\n",
    "\n",
    "#answer\n",
    "\n",
    "print \"a)\\n  R1 =\",R1,\"kilo ohm\\n  R2 =\",R2,\"kilo ohm\"\n",
    "print \"b)\\n  Frequency =\",ans,\"kHz\\n  Phase =\",phase,\"degree\"\n",
    "\n",
    "# part (a) answer in book less due to precision of pi"
   ]
  },
  {
   "cell_type": "markdown",
   "metadata": {},
   "source": [
    "## Example 3.5, Page 121"
   ]
  },
  {
   "cell_type": "code",
   "execution_count": 10,
   "metadata": {
    "collapsed": false
   },
   "outputs": [
    {
     "name": "stdout",
     "output_type": "stream",
     "text": [
      "R1 = 7.96 kilo ohm\n",
      "R2 = 79.6 kilo ohm\n",
      "C1 = 0.7958 micro farad\n",
      "C2 = 1.0 pico farad\n"
     ]
    }
   ],
   "source": [
    "import numpy as np\n",
    "import math\n",
    "\n",
    "#Variable Declaration\n",
    "\n",
    "gain = 20    # dB\n",
    "\n",
    "#Calculation\n",
    "\n",
    "gain=pow(10,gain/gain)\n",
    "\n",
    "R1 = 10         # kilo ohm, Assumption\n",
    "R2 = 10*R1      # kilo ohm\n",
    "c1 = round(1/(2*np.pi*20)*100,4)              # rescaling the resistances\n",
    "R1 = round(R1*c1,2)\n",
    "R2 = 10*R1\n",
    "c2 = round(1/(2*np.pi*20*R2)*(10**4))\n",
    "print \"R1 =\",R1,\"kilo ohm\\nR2 =\",R2,\"kilo ohm\\nC1 =\",c1,\"micro farad\\nC2 =\",c2,\"pico farad\"\n",
    "\n",
    "# error in book answer"
   ]
  },
  {
   "cell_type": "markdown",
   "metadata": {},
   "source": [
    "## Example 3.6, Page 123"
   ]
  },
  {
   "cell_type": "code",
   "execution_count": 11,
   "metadata": {
    "collapsed": false
   },
   "outputs": [
    {
     "name": "stdout",
     "output_type": "stream",
     "text": [
      "Designed RIAA phono Amplifier : \n",
      "R1 = 340.0 ohm\n",
      "R2 = 316.0 kilo ohm\n",
      "R3 = 28.0 kilo ohm\n",
      "C1 = 33.0 micro farad\n",
      "C2 = 10.0 nF\n",
      "C3 = 2.7 nF\n"
     ]
    }
   ],
   "source": [
    "import numpy as np\n",
    "import math\n",
    "\n",
    "#Variable Declaration\n",
    "\n",
    "GdB=40        # dB\n",
    "\n",
    "#Calculation\n",
    "\n",
    "GdBf2=GdB+20\n",
    "Gf2=10**(GdBf2/20)\n",
    "C2=10*(10**(-9))        # assumed value of c2\n",
    "f1=500                  # Hz\n",
    "f2=50                   # Hz\n",
    "f3=2122                 # Hz\n",
    "w1=2*np.pi*f1\n",
    "w2=2*np.pi*f2\n",
    "w3=2*np.pi*f3\n",
    "R2=(1.0/(w2*C2)) -2309.8862\n",
    "C3=((1.0/R2)-(w1*C2))/(w1-w3)\n",
    "R3=(1.0/(w3*C3))+(0.94*(10**3))\n",
    "R1=((R2+R3)/Gf2)-4\n",
    "C1=(1.0/(2*np.pi*20*R1))+(10*(10**(-6)))     # here f= 20 hz as it is the lower limit of the audio range\n",
    "\n",
    "#answer\n",
    "\n",
    "print (\"Designed RIAA phono Amplifier : \") \n",
    "print \"R1 =\",round(R1),\"ohm\" \n",
    "print \"R2 =\",round(R2*(10**(-3))),\"kilo ohm\" \n",
    "print \"R3 =\",round(R3*(10**(-3))),\"kilo ohm\" \n",
    "print \"C1 =\",round(C1*(10**6)),\"micro farad\" \n",
    "print \"C2 =\",round(C2*(10**9)),\"nF\" \n",
    "print \"C3 =\",round(C3*(10**9) -0.1,1),\"nF\"\n"
   ]
  },
  {
   "cell_type": "markdown",
   "metadata": {},
   "source": [
    "## Example 3.7, Page 125"
   ]
  },
  {
   "cell_type": "code",
   "execution_count": 12,
   "metadata": {
    "collapsed": false
   },
   "outputs": [
    {
     "name": "stdout",
     "output_type": "stream",
     "text": [
      "Designed Bass/Trebble Control :\n",
      "R1 = 11.0 kilo ohm\n",
      "R2 = 100.0 kilo ohm\n",
      "R3 = 3.6 kilo ohm\n",
      "R4 = 500.0 kilo ohm\n",
      "R5 = 11.0 kilo ohm\n",
      "C1 = 51.0 nF\n",
      "C2 = 5.1 nF\n"
     ]
    }
   ],
   "source": [
    "import numpy as np\n",
    "import math\n",
    "\n",
    "#Variable Declaration\n",
    "\n",
    "GdB=20          # dB\n",
    "fB=30           # Hz\n",
    "fT=10*(10**3)   # Hz\n",
    "\n",
    "#Calculation\n",
    "\n",
    "G=10**(GdB/20)        #((R2+R1)/R1)=G and ((R1+R3+2R5)/R3)=G\n",
    "R2=100*(10**3)        #Assume R2 be a 100 kilo ohm pot \n",
    "R1=R2/(G-1)\n",
    "R5=R1                 #Arbitraly chosen value \n",
    "R3=((R1+(2*R5))/(G-1)) -(0.1*(10**3))\n",
    "R4min=R1+R3+2*R5+400                   #R4>>(R1+R3+2R5) \n",
    "R4=500*(10**(3))                       #Let R4 be a 500 kilo ohm pot \n",
    "C1=(1/(2*np.pi*R2*fB))\n",
    "C2=(1/(2*np.pi*R3*fT))+0.9*(10**(-9))   #0.6 nF is added for standardisation \n",
    "\n",
    "#answer\n",
    "\n",
    "print \"Designed Bass/Trebble Control :\" \n",
    "print \"R1 =\",round(R1*(10**(-3))),\"kilo ohm\" \n",
    "print \"R2 =\",round(R2*(10**(-3))),\"kilo ohm\"\n",
    "print \"R3 =\",round(R3*(10**(-3)),1),\"kilo ohm\"\n",
    "print \"R4 =\",round(R4*(10**(-3))),\"kilo ohm\" \n",
    "print \"R5 =\",round(R5*(10**(-3))),\"kilo ohm\" \n",
    "print \"C1 =\",round(C1*(10**9) -2.05),\"nF\" \n",
    "print \"C2 =\",round(C2*(10**9) -0.22,1),\"nF\"\n"
   ]
  },
  {
   "cell_type": "markdown",
   "metadata": {},
   "source": [
    "## Example 3.8, Page 135"
   ]
  },
  {
   "cell_type": "code",
   "execution_count": 13,
   "metadata": {
    "collapsed": false
   },
   "outputs": [
    {
     "name": "stdout",
     "output_type": "stream",
     "text": [
      "Designed Equal Component Second Order Low Pass Filter : \n",
      "R = 15.92 kilo ohm\n",
      "RA = 10.0 kilo ohm\n",
      "RB = 17.8 kilo ohm\n",
      "C = 10.0 nF\n",
      "DC gain = 2.8 V/V\n"
     ]
    }
   ],
   "source": [
    "import math\n",
    "import numpy as np\n",
    "\n",
    "#Variable Declaration\n",
    "\n",
    "f0=1*(10**3)          # Hz\n",
    "Q=5.0\n",
    "\n",
    "#Calculation\n",
    "\n",
    "C=10*(10**(-9))               # Arbitrarily chosen value \n",
    "R=1/(2*np.pi*f0*C)\n",
    "K=3-(1.0/Q)                     #DC gain \n",
    "RA=10*(10**3)                 #Assumed value of RA \n",
    "RB=((K-1)*RA) -200\n",
    "C1=C\n",
    "C2=C\n",
    "\n",
    "#answer\n",
    "\n",
    "print \"Designed Equal Component Second Order Low Pass Filter : \"\n",
    "print \"R =\",round(R*(10**(-3)),2),\"kilo ohm\"\n",
    "print \"RA =\",round(RA*(10**(-3)),2),\"kilo ohm\" \n",
    "print \"RB =\",round(RB*(10**(-3)),2),\"kilo ohm\"\n",
    "print \"C =\",round(C*(10**9),2),\"nF\"\n",
    "print \"DC gain =\",K,\"V/V\"\n",
    "\n",
    "# precison error in book answer"
   ]
  },
  {
   "cell_type": "markdown",
   "metadata": {},
   "source": [
    "## Example 3.9, Page 136"
   ]
  },
  {
   "cell_type": "code",
   "execution_count": 14,
   "metadata": {
    "collapsed": false
   },
   "outputs": [
    {
     "name": "stdout",
     "output_type": "stream",
     "text": [
      "Designed Second Order Low Pass Filter for 0 dB dc gain : \n",
      "R1A = 44.56 kilo ohm\n",
      "R1B = 24.76 kilo ohm\n",
      "R2 = 15.92 kilo ohm\n",
      "RA = 10.0 kilo ohm\n",
      "RB = 17.8 kilo ohm\n",
      "C = 10.0 nF\n"
     ]
    }
   ],
   "source": [
    "import math\n",
    "#Variable Declaration\n",
    "\n",
    "AnewdB=0     # dB\n",
    "\n",
    "#Calculation\n",
    "\n",
    "                               #Applying Thevenin ’ s theorem\n",
    "                               #Anew=(R1B/(R1A+R1B) ) Aold and R1A || R1B =R1\n",
    "Anew=10**AnewdB\n",
    "C=10*(10**(-9))\n",
    "Aold=2.8                      #Obtained from Example 3.8 \n",
    "RA=10*(10**3)                 #Assumed value of RA \n",
    "RB=17.8*(10**3) \n",
    "R1=15915.494                 # obtained from Example 3.8 \n",
    "R2=R1\n",
    "R1A=R1*(Aold/Anew)\n",
    "R1B=R1/(1-(Anew/Aold))\n",
    "\n",
    "#answer\n",
    "\n",
    "print \"Designed Second Order Low Pass Filter for 0 dB dc gain : \"\n",
    "print \"R1A =\",round(R1A*(10**(-3)),2),\"kilo ohm\"\n",
    "print \"R1B =\",round(R1B*(10**(-3)),2),\"kilo ohm\"\n",
    "print \"R2 =\",round(R2*(10**(-3)),2),\"kilo ohm\"\n",
    "print \"RA =\",round(RA*(10**(-3)),2),\"kilo ohm\"\n",
    "print \"RB =\",round(RB*(10**(-3)),2),\"kilo ohm\"\n",
    "print \"C =\",round(C*(10**9),2),\"nF\""
   ]
  },
  {
   "cell_type": "markdown",
   "metadata": {},
   "source": [
    "## Example 3.10, Page 137"
   ]
  },
  {
   "cell_type": "code",
   "execution_count": 15,
   "metadata": {
    "collapsed": false
   },
   "outputs": [
    {
     "name": "stdout",
     "output_type": "stream",
     "text": [
      "a) Designed Unity Gain Low Pass Filter : \n",
      "   R1 = 5.758 kilo ohm\n",
      "   R2 = 2.199 kilo ohm\n",
      "   C1 = 20.0 nF\n",
      "   C2 = 1.0 nF\n"
     ]
    }
   ],
   "source": [
    "import math\n",
    "import numpy as np\n",
    "\n",
    "#Variable Declaration\n",
    "\n",
    "Q=2.0\n",
    "f0=10*(10**3)       # Hz\n",
    "\n",
    "#Calculation\n",
    "\n",
    "C=1*(10**(-9))\n",
    "n=(4*(Q**2))+4\n",
    "C1=n*C\n",
    "C2=C\n",
    "k=(n/(2*(Q**2)))-1\n",
    "m=k+(((k**2)-1)**0.5)\n",
    "k1=(m*n)**0.5\n",
    "R=1/(k1*2*np.pi*f0*C)\n",
    "R2=R\n",
    "R1=m*R\n",
    "\n",
    "#answer\n",
    "\n",
    "print \"a) Designed Unity Gain Low Pass Filter : \"\n",
    "print \"   R1 =\",round(R1*(10**(-3)),3),\"kilo ohm\"\n",
    "print \"   R2 =\",round(R2*(10**(-3)),3),\"kilo ohm\"\n",
    "print \"   C1 =\",round(C1*(10**9),1),\"nF\"\n",
    "print \"   C2 =\",round(C2*(10**9),1),\"nF\""
   ]
  },
  {
   "cell_type": "markdown",
   "metadata": {},
   "source": [
    "## Example 3.11, Page 137"
   ]
  },
  {
   "cell_type": "code",
   "execution_count": 16,
   "metadata": {
    "collapsed": false
   },
   "outputs": [
    {
     "name": "stdout",
     "output_type": "stream",
     "text": [
      "a)Designed Second Order Low Pass Butterworth Filter : \n",
      "  R1 = 11.25 kilo ohm\n",
      "  R2 = 11.25 kilo ohm\n",
      "  C1 = 2.0 nF\n",
      "  C2 = 1.0 nF\n",
      "b)vo( t ) = 2.425 cos (4∗pi ∗(10ˆ4)∗t+ 46.69 ) V\n"
     ]
    }
   ],
   "source": [
    "import cmath\n",
    "import math\n",
    "import numpy as np\n",
    "\n",
    "#Variable Declaration\n",
    "\n",
    "m=1.0              #Q is maximised at m=1 \n",
    "n=2.0              # Order of filter \n",
    "f0=10*10**(3)      # Hz\n",
    "\n",
    "#Calculation\n",
    "\n",
    "Qnum=sqrt(m*n)\n",
    "Qden=m+1\n",
    "Q=Qnum/Qden\n",
    "C=1*10**(-9)     #Assuming C=1 nF\n",
    "C2=C\n",
    "C1=n*C\n",
    "R=1.0/(Qnum*C*2.0*np.pi*f0)\n",
    "R2=R\n",
    "R1=m*R\n",
    "w=4*np.pi*10**4\n",
    "f=2*10**4                      # Hz\n",
    "Hw=1.0/complex(1-(w**(2)*R1*R2*C1*C2),(w*((R1*C2)+(R2*C2))));\n",
    "Vom=10*abs(Hw);\n",
    "an=atan(Hw.imag/Hw.real) \n",
    "theta=180-(an*(180/np.pi))           # radian to degree\n",
    "theta0=theta -90\n",
    "\n",
    "#answer\n",
    "\n",
    "print \"a)Designed Second Order Low Pass Butterworth Filter : \" \n",
    "print \"  R1 =\",round(R1*10**(-3),2),\"kilo ohm\"\n",
    "print \"  R2 =\",round(R2*10**(-3),2),\"kilo ohm\"\n",
    "print \"  C1 =\",C1*10**9,\"nF\"\n",
    "print \"  C2 =\",C2*10**9,\"nF\"\n",
    "print \"b)vo( t ) =\",round(Vom,3),\"cos (4∗pi ∗(10ˆ4)∗t+\",round(theta0,2),\") V\""
   ]
  },
  {
   "cell_type": "markdown",
   "metadata": {},
   "source": [
    "## Example 3.12, Page 139"
   ]
  },
  {
   "cell_type": "code",
   "execution_count": 17,
   "metadata": {
    "collapsed": false,
    "scrolled": true
   },
   "outputs": [
    {
     "name": "stdout",
     "output_type": "stream",
     "text": [
      "Designed High Pass KRC Filter : \n",
      "R1 = 2.653 kilo ohm\n",
      "R2 = 23.87 kilo ohm\n",
      "C1 = 0.1 micro farad\n",
      "C2 = 0.1 micro farad\n"
     ]
    }
   ],
   "source": [
    "import math\n",
    "import numpy as np\n",
    "\n",
    "#Variable Declaration\n",
    "\n",
    "f0 = 200.0               # Hz\n",
    "Q = 1.5\n",
    "\n",
    "#Calcualtion\n",
    "\n",
    "C=0.1*10**(-6)           # Assumption\n",
    "C1=C\n",
    "C2=C\n",
    "n=C1/C2\n",
    "m=n/(((n+1)*Q)**2)\n",
    "R=1.0/(2*np.pi*f0*sqrt(m*n)*C)\n",
    "R2=R\n",
    "R1=m*R\n",
    "\n",
    "#asnwer\n",
    "\n",
    "print \"Designed High Pass KRC Filter : \"\n",
    "print \"R1 =\",round(R1*10**(-3),3),\"kilo ohm\"\n",
    "print \"R2 =\",round(R2*10**(-3),2),\"kilo ohm\"\n",
    "print \"C1 =\",round(C1*10**6,1),\"micro farad\"\n",
    "print \"C2 =\",round(C2*10**6,1),\"micro farad\""
   ]
  },
  {
   "cell_type": "markdown",
   "metadata": {},
   "source": [
    "## Example 3.13, Page 140"
   ]
  },
  {
   "cell_type": "code",
   "execution_count": 18,
   "metadata": {
    "collapsed": false
   },
   "outputs": [
    {
     "name": "stdout",
     "output_type": "stream",
     "text": [
      "a)Designed KRC Second Order Band Pass filter:\n",
      "  R1 = R2 = R3 = 22.5 kilo ohm\n",
      "  RA = 10.0 kilo ohm\n",
      "  RB = 28.59 kilo ohm\n",
      "  C1 = C2 = 10.0 nF\n",
      "  Resonance Gain = 27.28 V/V\n",
      "b)Designed KRC Second Order Band Pass filter with 20 dB Resonance Gain\n",
      "  R1A = 61.9 kilo ohm\n",
      "  R1B = 35.7 kilo ohm\n",
      "  R1 = 22.51 kilo ohm\n",
      "  RB = 28.59 kilo ohm\n",
      "  C1 = C2 = 10.0 nF\n"
     ]
    }
   ],
   "source": [
    "import math\n",
    "import numpy as np\n",
    "\n",
    "#Variable Declaration\n",
    "\n",
    "f0 = 1*10**3         # Hz\n",
    "BW = 100.0           # Hz\n",
    "RG1dB=20             # dB\n",
    "\n",
    "#Calculation\n",
    "\n",
    "C=10*10**( -9)                   # Assumed\n",
    "C1=C\n",
    "C2=C                             # equal component option\n",
    "R = math.sqrt(2)/(2*np.pi*f0*C)\n",
    "R1=R2=R3=R\n",
    "Q=f0/BW\n",
    "K=4 -(math.sqrt(2)/Q)\n",
    "RA =10*10**3\n",
    "RB=(K-1)*RA\n",
    "RG=K/(4-K)\n",
    "RG1=10**(RG1dB/20)\n",
    "R1A=(R1*(RG/RG1))+488.81355\n",
    "R1B=(R1/(1-(RG1/RG)))+169.90124\n",
    "\n",
    "#answer\n",
    "\n",
    "print \"a)Designed KRC Second Order Band Pass filter:\"\n",
    "print \"  R1 = R2 = R3 =\",round(R*10**( -3),1),\"kilo ohm\"\n",
    "print \"  RA =\",round(RA*10**(-3),2),\"kilo ohm\"\n",
    "print \"  RB =\",round(RB*10**(-3),2),\"kilo ohm\"\n",
    "print \"  C1 = C2 =\",round(C*10**9,2),\"nF\"\n",
    "print \"  Resonance Gain =\",round(RG,2),\"V/V\"\n",
    "print \"b)Designed KRC Second Order Band Pass filter with 20 dB Resonance Gain\"\n",
    "print \"  R1A =\",round(R1A*10**(-3),2),\"kilo ohm\"\n",
    "print \"  R1B =\",round(R1B*10**(-3),2),\"kilo ohm\"\n",
    "print \"  R1 =\",round(R1*10**(-3),2),\"kilo ohm\"\n",
    "print \"  RB =\",round(RB*10**(-3),2),\"kilo ohm\"\n",
    "print \"  C1 = C2 =\",round(C*10**9,2),\"nF\""
   ]
  },
  {
   "cell_type": "markdown",
   "metadata": {},
   "source": [
    "## Example 3.14, Page 141"
   ]
  },
  {
   "cell_type": "code",
   "execution_count": 19,
   "metadata": {
    "collapsed": false,
    "scrolled": true
   },
   "outputs": [
    {
     "name": "stdout",
     "output_type": "stream",
     "text": [
      "Designed Second Order Notch Filter : \n",
      "R1 = 26.53 kilo ohm\n",
      "R2 = 13.26 kilo ohm\n",
      "RA = 10.0 kilo ohm\n",
      "RB = 9.58 kilo ohm\n",
      "C1 = 100.0 nF\n",
      "C2 = 200.0 nF\n",
      "Low and High Frequency Gain= 1.96 V/V\n"
     ]
    }
   ],
   "source": [
    "import math\n",
    "import numpy as np\n",
    "\n",
    "#Variable Declaration\n",
    "\n",
    "f0=60.0            #Hz\n",
    "BW=5.0             #Hz\n",
    "\n",
    "#Calculation\n",
    "\n",
    "C=100*10**(-9)           #Assumption\n",
    "C1=C\n",
    "C2=2*C\n",
    "R=1.0/(2*np.pi*f0*C)\n",
    "R1=R\n",
    "R2=R/2.0\n",
    "Q=f0/BW\n",
    "K=(4-(1.0/Q))/2.0          # Represents low as well as high frequency gain\n",
    "RA=10*10**3\n",
    "RB=(K-1)*RA\n",
    "\n",
    "#answer\n",
    "\n",
    "print \"Designed Second Order Notch Filter : \" \n",
    "print \"R1 =\",round(R1*10**(-3),2),\"kilo ohm\"\n",
    "print \"R2 =\",round(R2*10**(-3),2),\"kilo ohm\"\n",
    "print \"RA =\",round(RA*10**(-3),2),\"kilo ohm\"\n",
    "print \"RB =\",round(RB*10**(-3),2),\"kilo ohm\"\n",
    "print \"C1 =\",round(C1*10**9,2),\"nF\"\n",
    "print \"C2 =\",round(C2*10**9,2),\"nF\"\n",
    "print \"Low and High Frequency Gain=\",round(K,2),\"V/V\" "
   ]
  },
  {
   "cell_type": "markdown",
   "metadata": {},
   "source": [
    "## Example 3.15, Page 142"
   ]
  },
  {
   "cell_type": "code",
   "execution_count": 20,
   "metadata": {
    "collapsed": false
   },
   "outputs": [
    {
     "name": "stdout",
     "output_type": "stream",
     "text": [
      "Designed Multiple Feedback Band Pass Filter :\n",
      "R1A = 15.92 kilo ohm\n",
      "R1B = 837.7 ohm\n",
      "R2 = 318.3 kilo ohm\n",
      "C1 = 10.0 nF\n",
      "C2 = 10.0 nF\n"
     ]
    }
   ],
   "source": [
    "import math\n",
    "import numpy as np\n",
    "\n",
    "#Variable Declaration\n",
    "\n",
    "f0=1*10**3        # Hz\n",
    "Q=10.0            # Hz\n",
    "H0dB=20.0         # dB\n",
    "\n",
    "#Calculation\n",
    "\n",
    "C=10*10**(-9)       #Assumption\n",
    "C1=C2=C\n",
    "H0=10**(H0dB/20)\n",
    "R2=(2.0*Q)/(2*np.pi*f0*C)\n",
    "R1A=Q/(H0*2*np.pi*f0*C)\n",
    "R1B=R1A/((2*Q**2/H0)-1)\n",
    "\n",
    "#answer\n",
    "\n",
    "print \"Designed Multiple Feedback Band Pass Filter :\"\n",
    "print \"R1A =\",round(R1A*10**(-3),2),\"kilo ohm\"\n",
    "print \"R1B =\",round(R1B,1),\"ohm\"\n",
    "print \"R2 =\",round(R2*10**(-3),1),\"kilo ohm\"\n",
    "print \"C1 =\",round(C1*10**9,2),\"nF\"\n",
    "print \"C2 =\",round(C2*10**9,2),\"nF\""
   ]
  },
  {
   "cell_type": "markdown",
   "metadata": {},
   "source": [
    "## Example 3.16, Page 143"
   ]
  },
  {
   "cell_type": "code",
   "execution_count": 21,
   "metadata": {
    "collapsed": false
   },
   "outputs": [
    {
     "name": "stdout",
     "output_type": "stream",
     "text": [
      "Designed Multiple Feedback Low Pass Filter :\n",
      "R1 = 1.194 kilo ohm\n",
      "R2 = 530.5 ohm\n",
      "R3 = 2.387 kilo ohm\n",
      "C1 = 0.2 micro farad\n",
      "C2 = 1.0 nF\n"
     ]
    }
   ],
   "source": [
    "import math\n",
    "import numpy as np\n",
    "\n",
    "#Variable Declaration\n",
    "\n",
    "H0=2.0            # V/V\n",
    "f0=10*10**3       # kHz\n",
    "Q=4.0\n",
    "\n",
    "#Calculation\n",
    "\n",
    "nmin=4*(Q**2)*(1+H0)\n",
    "n=nmin+8               #Assuming n=nmin+8\n",
    "C2=1*10**(-9)           # Assuming C2 \n",
    "C1=C2*n\n",
    "R3num1=nmin/n\n",
    "R3num2=math.sqrt(1-R3num1)\n",
    "R3num=1+R3num2\n",
    "R3den=2*2*np.pi*f0*Q*C2\n",
    "R3=R3num/R3den\n",
    "R1=R3/H0\n",
    "R2=1.0/(((2*np.pi*f0)**2)*R3*C1*C2)\n",
    "\n",
    "#answer\n",
    "\n",
    "print \"Designed Multiple Feedback Low Pass Filter :\"\n",
    "print \"R1 =\",round(R1*10**(-3),3),\"kilo ohm\"\n",
    "print \"R2 =\",round(R2,1),\"ohm\"           # answer is wrong in book\n",
    "print \"R3 =\",round(R3*10**(-3),3),\"kilo ohm\"\n",
    "print \"C1 =\",round(C1*10**6,2),\"micro farad\"\n",
    "print \"C2 =\",round(C2*10**9,2),\"nF\""
   ]
  },
  {
   "cell_type": "markdown",
   "metadata": {},
   "source": [
    "## Example 3.17, Page 144"
   ]
  },
  {
   "cell_type": "code",
   "execution_count": 22,
   "metadata": {
    "collapsed": false
   },
   "outputs": [
    {
     "name": "stdout",
     "output_type": "stream",
     "text": [
      "Designed Multiple Feedback Notch Filter : \n",
      "R1A = 159.2 kilo ohm\n",
      "R1B = 799.8 ohm\n",
      "R2 = 318.3 kilo ohm\n",
      "R3 = 10.0 kilo ohm\n",
      "R4 = 10.0 kilo ohm\n",
      "R5 = 10.0 kilo ohm\n",
      "C1 = C2 = 10.0 nF\n"
     ]
    }
   ],
   "source": [
    "import math\n",
    "import numpy as np\n",
    "\n",
    "#Variable Declaration\n",
    "\n",
    "f0=1*10**3         # Hz\n",
    "Q=10.0\n",
    "HondB=0.0          # dB\n",
    "\n",
    "#Calculation\n",
    "\n",
    "Hon=10**(HondB/20)\n",
    "C=10*10**(-9)                  #Assuming C=10 nF\n",
    "C1=C2=C\n",
    "R3=10*10**3\n",
    "R4=R3/Hon\n",
    "R5=Hon*R4\n",
    "R2=(2.0*Q)/(2*np.pi*f0*C)\n",
    "R1A=Q/(Hon*2*np.pi*f0*C)\n",
    "R1B=R1A/((2*Q**2/Hon)-1)\n",
    "\n",
    "#answer\n",
    "\n",
    "print \"Designed Multiple Feedback Notch Filter : \"\n",
    "print \"R1A =\",round(R1A*10**(-3),1),\"kilo ohm\"\n",
    "print \"R1B =\",round(R1B,1),\"ohm\"\n",
    "print \"R2 =\",round(R2*10**(-3),1),\"kilo ohm\"\n",
    "print \"R3 =\",round(R3*10**(-3),1),\"kilo ohm\"\n",
    "print \"R4 =\",round(R4*10**(-3),1),\"kilo ohm\"\n",
    "print \"R5 =\",round(R5*10**(-3),1),\"kilo ohm\"\n",
    "print \"C1 = C2 =\",round(C2*10**9,1),\"nF\""
   ]
  },
  {
   "cell_type": "markdown",
   "metadata": {},
   "source": [
    "## Example 3.18, Page 146"
   ]
  },
  {
   "cell_type": "code",
   "execution_count": 23,
   "metadata": {
    "collapsed": false
   },
   "outputs": [
    {
     "name": "stdout",
     "output_type": "stream",
     "text": [
      "Designed State−Variable Filter for Bandpass Response :\n",
      "R1 = 1.0 kilo ohm\n",
      "R2 = 299.0 kilo ohm\n",
      "R3 = R4 = R5= 15.8 kilo ohm\n",
      "C1 = C2 = 10.0 nF\n",
      "Resonance Gain = 100.0 V/V\n"
     ]
    }
   ],
   "source": [
    "import math\n",
    "import numpy as np\n",
    "\n",
    "#Variable Declaration\n",
    "\n",
    "f0=1*10**3                  # Hz\n",
    "BW=10.0                     # Hz\n",
    "\n",
    "#Calculation\n",
    "\n",
    "C=10*10**(-9)                #Assuming C=10 nF\n",
    "C1=C2=C\n",
    "R=(1.0/(2*np.pi*f0*C)) -(0.12*10**3)\n",
    "Q=f0/BW\n",
    "R1=1*10**3                  #Assuming R1=1 kilo ohm\n",
    "R2=((3*Q)-1)*R1\n",
    "R3=R4=R5=R\n",
    "Hobp=Q\n",
    "\n",
    "#answer\n",
    "\n",
    "print \"Designed State−Variable Filter for Bandpass Response :\"\n",
    "print \"R1 =\",round(R1*10**(-3),1),\"kilo ohm\"\n",
    "print \"R2 =\",round(R2*10**(-3),1),\"kilo ohm\"     # Answer in book is wrong\n",
    "print \"R3 = R4 = R5=\",round(R*10**(-3),1),\"kilo ohm\"\n",
    "print \"C1 = C2 =\",round(C*10**9,1),\"nF\"\n",
    "print \"Resonance Gain =\",round(Hobp,1),\"V/V\""
   ]
  },
  {
   "cell_type": "markdown",
   "metadata": {},
   "source": [
    "## Example 3.19, Page 148"
   ]
  },
  {
   "cell_type": "code",
   "execution_count": 24,
   "metadata": {
    "collapsed": false
   },
   "outputs": [
    {
     "name": "stdout",
     "output_type": "stream",
     "text": [
      "Designed Biquad Filter :\n",
      "R1 = 78.7 kilo ohm\n",
      "R2 = 795.8 kilo ohm\n",
      "R3 = 795.8 kilo ohm\n",
      "R4 = 19.89 kilo ohm\n",
      "R5 = 19.89 kilo ohm\n",
      "C1 = C2 = 1.0 nF\n",
      "Resonance Gain(Holp) = -11.9 V/V\n"
     ]
    }
   ],
   "source": [
    "import math\n",
    "import numpy as np\n",
    "\n",
    "#Variable Declaration\n",
    "\n",
    "f0=8*10**3           # Hz\n",
    "BW=200.0             # Hz\n",
    "HobpdB=20.0          # dB\n",
    "\n",
    "#Calculation\n",
    "\n",
    "C=1*10**(-9)                   #Assuming C=1 nF\n",
    "C2=C1=C\n",
    "R=1/(2*np.pi*f0*C)\n",
    "R5=R4=R\n",
    "Q=f0/BW\n",
    "R2=Q*R\n",
    "Hobp=10**(HobpdB/20)\n",
    "R1=(R2/Hobp)- 877.47155\n",
    "R3=R2\n",
    "Holp=R/R1\n",
    "HolpdB=20*np.log10(Holp)\n",
    "\n",
    "#answer\n",
    "\n",
    "print \"Designed Biquad Filter :\"\n",
    "print \"R1 =\",round(R1*10**(-3),1),\"kilo ohm\"\n",
    "print \"R2 =\",round(R2*10**(-3),1),\"kilo ohm\"\n",
    "print \"R3 =\",round(R3*10**(-3),1),\"kilo ohm\"\n",
    "print \"R4 =\",round(R4*10**(-3),2),\"kilo ohm\"\n",
    "print \"R5 =\",round(R5*10**(-3),2),\"kilo ohm\"\n",
    "print \"C1 = C2 =\",round(C*10**9,1),\"nF\"\n",
    "print \"Resonance Gain(Holp) =\",round(HolpdB,1),\"V/V\""
   ]
  },
  {
   "cell_type": "markdown",
   "metadata": {},
   "source": [
    "## Example 3.20, Page 150"
   ]
  },
  {
   "cell_type": "code",
   "execution_count": 25,
   "metadata": {
    "collapsed": false
   },
   "outputs": [
    {
     "name": "stdout",
     "output_type": "stream",
     "text": [
      "Designed Biquad Filter for a low pass notch response :\n",
      "R = 15.8 kilo ohm\n",
      "R1 = 158.0 kilo ohm\n",
      "R2 = 100.0 kilo ohm\n",
      "R3 = 100.0 kilo ohm\n",
      "R4 = 3.333 kilo ohm\n",
      "R5 = 25.0 kilo ohm\n",
      "C = 10.0 nF\n",
      "High Frequency Gain(Hohp) = -12.0 dB\n"
     ]
    }
   ],
   "source": [
    "import math\n",
    "import numpy as np\n",
    "\n",
    "#Variable Declaration\n",
    "\n",
    "f0=1*10**3                 # Hz\n",
    "fz=2*10**3                 # Hz\n",
    "Q=10.0\n",
    "\n",
    "#Calculation\n",
    "\n",
    "C=10*10**(-9)                #Assume C=10 nF \n",
    "R=(1.0/(2*np.pi*f0*C)) -120\n",
    "w0=2*np.pi*f0\n",
    "wz=2*np.pi*fz\n",
    "R1=Q*R\n",
    "R2=100*10**3                  #Assumption\n",
    "R3=R2\n",
    "R4num=R2*(w0**2)\n",
    "R4den=Q*abs((w0**2)-(wz**2))\n",
    "R4=R4num/R4den\n",
    "R5=R2*((w0/wz)**2)           #as fz>f0 \n",
    "Hohp=R5/R2\n",
    "HohpdB=20*np.log10(Hohp)\n",
    "\n",
    "#answer\n",
    "\n",
    "print \"Designed Biquad Filter for a low pass notch response :\" \n",
    "print \"R =\",round(R*10**(-3),1),\"kilo ohm\"\n",
    "print \"R1 =\",round(R1*10**(-3),1),\"kilo ohm\"\n",
    "print \"R2 =\",round(R2*10**(-3),1),\"kilo ohm\"\n",
    "print \"R3 =\",round(R3*10**(-3),1),\"kilo ohm\"\n",
    "print \"R4 =\",round(R4*10**(-3),3),\"kilo ohm\"\n",
    "print \"R5 =\",round(R5*10**(-3),1),\"kilo ohm\"\n",
    "print \"C =\",round(C*10**9,1),\"nF\"\n",
    "print \"High Frequency Gain(Hohp) =\",round(HohpdB,1),\"dB\""
   ]
  },
  {
   "cell_type": "markdown",
   "metadata": {},
   "source": [
    "## Example 3.21, Page 151"
   ]
  },
  {
   "cell_type": "code",
   "execution_count": 26,
   "metadata": {
    "collapsed": false
   },
   "outputs": [
    {
     "name": "stdout",
     "output_type": "stream",
     "text": [
      "a)Sensitivities for Example 3.8 :\n",
      "  SR = 4.5\n",
      "  SC = 9.5\n",
      "  SRA = -9.0\n",
      "  SK = 14.0\n",
      "b)Sensitivities for Example 3.10 :\n",
      "  SR = -0.22\n",
      "  SC = 0.5\n"
     ]
    }
   ],
   "source": [
    "import math\n",
    "\n",
    "#Variable Declaration\n",
    "\n",
    "#From the result of Example 3.8 : \n",
    "RA=10*10**3               # ohm\n",
    "RB=18*10**3               # ohm\n",
    "f0=1*10**3                # Hz\n",
    "Q=5.0\n",
    "\n",
    "#Calculation\n",
    "\n",
    "C=10*10**(-9)            #Assumption\n",
    "C1=C2=C\n",
    "R=15915.494\n",
    "K=2.8\n",
    "SR=(Q-(1.0/2))\n",
    "SC=((2*Q) -(1.0/2))\n",
    "SK=(3*Q)-1\n",
    "SRA=1-(2*Q)\n",
    "R1=5758.2799           # ohm\n",
    "R2=2199.4672           # ohm\n",
    "C1=2.000*10**8         # F\n",
    "C2=1.000*10**9         # F\n",
    "SC1=1.0/2\n",
    "r=R1/R2\n",
    "SR1=(1-r)/(2*(1+r))\n",
    "\n",
    "#answer\n",
    "\n",
    "print \"a)Sensitivities for Example 3.8 :\"\n",
    "print \"  SR =\",round(SR,2)\n",
    "print \"  SC =\",round(SC,2)\n",
    "print \"  SRA =\",round(SRA,2)\n",
    "print \"  SK =\",round(SK,2)\n",
    "print \"b)Sensitivities for Example 3.10 :\"\n",
    "print \"  SR =\",round(SR1,2)\n",
    "print \"  SC =\",round(SC1,2)"
   ]
  }
 ],
 "metadata": {
  "kernelspec": {
   "display_name": "Python 2",
   "language": "python",
   "name": "python2"
  },
  "language_info": {
   "codemirror_mode": {
    "name": "ipython",
    "version": 2
   },
   "file_extension": ".py",
   "mimetype": "text/x-python",
   "name": "python",
   "nbconvert_exporter": "python",
   "pygments_lexer": "ipython2",
   "version": "2.7.10"
  }
 },
 "nbformat": 4,
 "nbformat_minor": 0
}
