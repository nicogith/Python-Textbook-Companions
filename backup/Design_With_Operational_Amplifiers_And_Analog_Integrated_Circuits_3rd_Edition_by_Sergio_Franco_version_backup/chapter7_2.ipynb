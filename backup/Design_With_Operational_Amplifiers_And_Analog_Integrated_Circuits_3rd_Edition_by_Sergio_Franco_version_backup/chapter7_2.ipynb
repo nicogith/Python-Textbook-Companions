{
 "cells": [
  {
   "cell_type": "markdown",
   "metadata": {},
   "source": [
    "# Chapter 7 : Noise"
   ]
  },
  {
   "cell_type": "markdown",
   "metadata": {},
   "source": [
    "## Example 7.1, Page 317 "
   ]
  },
  {
   "cell_type": "code",
   "execution_count": 1,
   "metadata": {
    "collapsed": false
   },
   "outputs": [
    {
     "name": "stdout",
     "output_type": "stream",
     "text": [
      "a)\n",
      "  Estimated RMS input voltage = 0.77 micro volt\n",
      "b)\n",
      "  Estimated RMS input voltage = 2.92 micro volt\n",
      "c)\n",
      "  Estimated RMS input voltage = 20.0 micro volt\n"
     ]
    }
   ],
   "source": [
    "import math\n",
    "\n",
    "#Calculation\n",
    "\n",
    "def calc(fL,fH,enw,fce):\n",
    "    En=enw*math.sqrt((fce*math.log(fH/fL))+fH-fL)\n",
    "    return En\n",
    "\n",
    "#answer\n",
    "\n",
    "print \"a)\\n  Estimated RMS input voltage =\",round(calc(0.1,100.0,20*10**(-9),200.0)*10**6,2),\"micro volt\"\n",
    "print \"b)\\n  Estimated RMS input voltage =\",round(calc(20.0,20*10**3,20*10**(-9),200.0)*10**6,2),\"micro volt\"\n",
    "print \"c)\\n  Estimated RMS input voltage =\",round(calc(0.1,1*10**6,20*10**(-9),200.0)*10**6,1),\"micro volt\""
   ]
  },
  {
   "cell_type": "markdown",
   "metadata": {},
   "source": [
    "## Example 7.3, Page 320"
   ]
  },
  {
   "cell_type": "code",
   "execution_count": 2,
   "metadata": {
    "collapsed": false
   },
   "outputs": [
    {
     "name": "stdout",
     "output_type": "stream",
     "text": [
      "Estimated rms noise voltage = 77.5 micro volt\n"
     ]
    }
   ],
   "source": [
    "from sympy import Symbol,integrate\n",
    "import math\n",
    "\n",
    "#Variable Declaration\n",
    "\n",
    "fL1=1.0                # Hz\n",
    "fH1=1*10**3            # Hz\n",
    "fL2=fH1\n",
    "fH2=10*10**3           # Hz\n",
    "fL3=fH2\n",
    "\n",
    "#Calculation\n",
    "\n",
    "#fH3=infinity\n",
    "enw=20*10**(-9)\n",
    "fce=100.0             # Hz\n",
    "Eno1=enw*math.sqrt((fce*math.log(fH1/fL1))+fH1-fL1)\n",
    "eno=float(enw)/fL2\n",
    "f=Symbol('f')\n",
    "Eno2=eno*math.sqrt(integrate(f**2,(f,fL2,fH2)))      # Integrating\n",
    "f0=100*10**3            # Hz\n",
    "enw3=200*10**(-9)\n",
    "Eno3=enw3*math.sqrt((1.57*f0)-fL3)\n",
    "Eno=math.sqrt((Eno1**2)+(Eno2**2)+(Eno3**2))\n",
    "\n",
    "#answer\n",
    "\n",
    "print \"Estimated rms noise voltage =\",round(Eno*10**6,1),\"micro volt\""
   ]
  },
  {
   "cell_type": "markdown",
   "metadata": {},
   "source": [
    "## Example 7.4, Page 323"
   ]
  },
  {
   "cell_type": "code",
   "execution_count": 3,
   "metadata": {
    "collapsed": false
   },
   "outputs": [
    {
     "name": "stdout",
     "output_type": "stream",
     "text": [
      "a)\n",
      "  Noise Voltage (eR) = 12.8 nV/(Hz)^0.5\n",
      "b)\n",
      "  Noise Current (iR) = 1.28 pA/(Hz)^0.5\n",
      "c)\n",
      "  Rms noise voltage over audio range = 1.81 micro volt\n"
     ]
    }
   ],
   "source": [
    "import math\n",
    "\n",
    "#Variable Declaration\n",
    "\n",
    "R=10*10**3                  # ohm\n",
    "\n",
    "#Calculation\n",
    "\n",
    "k=1.38*10**(-23)\n",
    "T=25+273            # Room Temperature in Kelvin\n",
    "eR=math.sqrt(4*k*T*R)\n",
    "iR=eR/R\n",
    "fH=20*10**3           # Hz\n",
    "fL=20                 # Hz\n",
    "ER=eR*math.sqrt(fH-fL)\n",
    "\n",
    "#answer\n",
    "\n",
    "print \"a)\\n  Noise Voltage (eR) =\",round(eR*10**9,1),\"nV/(Hz)^0.5\"\n",
    "print \"b)\\n  Noise Current (iR) =\",round(iR*10**12,2),\"pA/(Hz)^0.5\"\n",
    "print \"c)\\n  Rms noise voltage over audio range =\",round(ER*10**6,2),\"micro volt\""
   ]
  },
  {
   "cell_type": "markdown",
   "metadata": {},
   "source": [
    "## Example 7.5, Page 323"
   ]
  },
  {
   "cell_type": "code",
   "execution_count": 4,
   "metadata": {
    "collapsed": false
   },
   "outputs": [
    {
     "name": "stdout",
     "output_type": "stream",
     "text": [
      "a)\n",
      "  Signal to Noise Ratio = 64.9 dB\n",
      "b)\n",
      "  Signal to Noise Ratio = 34.9 dB\n"
     ]
    }
   ],
   "source": [
    "import math\n",
    "\n",
    "#Variable Declaration\n",
    "\n",
    "fH=1*10**6             # Hz\n",
    "q=1.602*10**(-19)\n",
    "\n",
    "#Calculation\n",
    "\n",
    "def calc(ID):\n",
    "    global fH,q\n",
    "    In=math.sqrt(2*q*ID*fH)\n",
    "    SNR=20*math.log10(ID/In)\n",
    "    return SNR\n",
    "\n",
    "#answer\n",
    "\n",
    "print \"a)\\n  Signal to Noise Ratio =\",round(calc(1*10**(-6)),1),\"dB\"\n",
    "print \"b)\\n  Signal to Noise Ratio =\",round(calc(1*10**(-9)),1),\"dB\""
   ]
  },
  {
   "cell_type": "markdown",
   "metadata": {},
   "source": [
    "## Example 7.7, Page 331"
   ]
  },
  {
   "cell_type": "code",
   "execution_count": 5,
   "metadata": {
    "collapsed": false
   },
   "outputs": [
    {
     "name": "stdout",
     "output_type": "stream",
     "text": [
      "a)\n",
      "  RMS Output Noise Voltage = 154.0 micro volt\n",
      "  Peak to Peak Noise Voltage = 1.01 mV\n"
     ]
    }
   ],
   "source": [
    "import math\n",
    "\n",
    "#Variable Declaration\n",
    "\n",
    "R1=100*10**3           # ohm\n",
    "R2=200*10**3           # ohm\n",
    "R3=68*10**3            # ohm\n",
    "enw=20*10**(-9)        # V/(Hz)^0.5\n",
    "fce=200.0              # Hz\n",
    "ft=1*10**6             # Hz\n",
    "inw=0.5*10**(-12)      # A/(Hz)^0.5\n",
    "fci=2*10**3            # Hz\n",
    "\n",
    "#Calculation\n",
    "\n",
    "Rp=(R1*R2)/(R1+R2)\n",
    "Ano=1+(R2/R1)\n",
    "fB=ft/Ano\n",
    "fL=0.1\n",
    "Enoe=Ano*enw*math.sqrt((fce*math.log(fB/fL))+(1.57*fB)-fL)\n",
    "Enoi=Ano*math.sqrt((R3**2)+(Rp**2))*inw*math.sqrt((fci*math.log(fB/ fL))+(1.57*fB))\n",
    "k=1.38*10**(-23)\n",
    "T=25+273                  #Room temperature in Kelvin \n",
    "EnoR=Ano*math.sqrt((4*k*T)*(R3+Rp)*1.57*fB)\n",
    "Eno=math.sqrt((Enoe**2)+(Enoi**2)+(EnoR**2))\n",
    "\n",
    "#answer\n",
    "\n",
    "print \"a)\\n  RMS Output Noise Voltage =\",round(Eno*10**6),\"micro volt\"\n",
    "print \"  Peak to Peak Noise Voltage =\",round(6.6* Eno*10**3,2),\"mV\"        # answer in book differs due to precision error"
   ]
  },
  {
   "cell_type": "markdown",
   "metadata": {},
   "source": [
    "## Example 7.8, Page 333"
   ]
  },
  {
   "cell_type": "code",
   "execution_count": 6,
   "metadata": {
    "collapsed": false
   },
   "outputs": [
    {
     "name": "stdout",
     "output_type": "stream",
     "text": [
      "Resistances after scaling are : \n",
      "R1 = 5.26 kilo ohm\n",
      "R2 = 10.5 kilo ohm\n",
      "R3 = 3.5 kilo ohm\n"
     ]
    }
   ],
   "source": [
    "from sympy.solvers import solve\n",
    "from sympy import Symbol\n",
    "import math\n",
    "\n",
    "#Variable Declaration\n",
    "\n",
    "R1=100*10**3         # ohm\n",
    "R2=200*10**3         # ohm\n",
    "R3=68*10**3          # ohm\n",
    "enw=20*10**(-9)      # V/(Hz)^0.5\n",
    "fce=200.0            # Hz\n",
    "ft=1*10**6           # Hz\n",
    "inw=0.5*10**(-12)    # A/(Hz)^0.5\n",
    "fci=2*10**3          # Hz\n",
    "\n",
    "#Calculation\n",
    "\n",
    "Rp=(R1*R2)/(R1+R2)\n",
    "Ano=1+(R2/R1)\n",
    "fB=ft/Ano\n",
    "fL=0.1\n",
    "Enoeold=Ano*enw*math.sqrt((fce*math.log(fB/fL))+(1.57*fB)-fL )\n",
    "Enoiold=Ano*math.sqrt((R3**2)+(Rp**2))*inw*math.sqrt((fci*math.log(fB/fL))+(1.57*fB))\n",
    "k=1.38*10**(-23)\n",
    "T=25+273             #Room temperature in Kelvin\n",
    "EnoRold=Ano*math.sqrt((4*k*T)*(R3+Rp)*1.57*fB)\n",
    "Enoold=math.sqrt((Enoeold**2)+(Enoiold**2)+(EnoRold**2))\n",
    "Enonew=50*10**(-6)          #New Value of Eno mentioned in problem \n",
    "Enoisum=(Enonew**2)-(Enoeold**2)                #sum of ( Enoi ˆ2) and (EnoRˆ2) \n",
    "Enoinewsq=(Ano**2)*(inw**2)*((fci*math.log(fB/fL))+(1.57*fB ))  #( Enoinew ˆ2) /(Rˆ2)\n",
    "EnoRnewsq=(Ano**2)*((4*k*T)*1.57*fB)\n",
    "x=Symbol('x')\n",
    "r1=solve((Enoinewsq*(x**2))+(EnoRnewsq*x)-Enoisum,x)\n",
    "R=r1[1]\n",
    "R3new=R/2\n",
    "R1new=(3*R3new)/2\n",
    "R2new=2*R1new\n",
    "\n",
    "#answer\n",
    "\n",
    "print \"Resistances after scaling are : \"\n",
    "print \"R1 =\",round(R1new*10**(-3),2),\"kilo ohm\"       # answer in book wrong due to precision error\n",
    "print \"R2 =\",round(R2new*10**(-3),1),\"kilo ohm\"\n",
    "print \"R3 =\",round(R3new*10**(-3),1),\"kilo ohm\""
   ]
  },
  {
   "cell_type": "markdown",
   "metadata": {},
   "source": [
    "## Example 7.9, Page 334"
   ]
  },
  {
   "cell_type": "code",
   "execution_count": 7,
   "metadata": {
    "collapsed": false
   },
   "outputs": [
    {
     "name": "stdout",
     "output_type": "stream",
     "text": [
      "SNR of the c irc uit of Example 7.7 = 73.2 dB\n"
     ]
    }
   ],
   "source": [
    "import math\n",
    "\n",
    "#Variable Declaration\n",
    "\n",
    "R1=100*10**3       #ohm, From Example 7.7( a) \n",
    "R2=200*10**3       #ohm, From Example 7.7( a)\n",
    "Eno=154*10**(-6)   # V, From Example 7.9 \n",
    "\n",
    "#Calculation\n",
    "\n",
    "Aso=-(R2/R1)\n",
    "Eni=Eno/abs(Aso)\n",
    "Vipa=0.5            #Peak amplitude of input ac signal\n",
    "Virms=Vipa/math.sqrt(2)\n",
    "SNR=20*math.log10(Virms/Eni)\n",
    "\n",
    "#answer\n",
    "\n",
    "print \"SNR of the c irc uit of Example 7.7 =\",round(SNR,1),\"dB\""
   ]
  },
  {
   "cell_type": "markdown",
   "metadata": {},
   "source": [
    "## Example 7.10, Page 334"
   ]
  },
  {
   "cell_type": "code",
   "execution_count": 8,
   "metadata": {
    "collapsed": false
   },
   "outputs": [
    {
     "name": "stdout",
     "output_type": "stream",
     "text": [
      "RMS Noise Voltage (Eno) = 611.1 micro volt\n",
      "Peak to Peak Noise Voltage (Eno) = 4.03 mV\n"
     ]
    }
   ],
   "source": [
    "import math\n",
    "\n",
    "#Variable Declaration\n",
    "\n",
    "z0=710*10**3           # ohm\n",
    "fb=350*10**3           # Hz\n",
    "rn=50.0                # ohm\n",
    "enw=2.4*10**(-9)       # V/(Hz)^0.5\n",
    "fce=50*10**3           # Hz\n",
    "inpw=3.8*10**(-12)     # A/(Hz)^0.5\n",
    "fcip=100*10**3         # Hz\n",
    "innw=20*10**(-12)      # A/(Hz)^0.5\n",
    "fcin=100*10**3         # Hz\n",
    "R1=166.7               # ohm\n",
    "R2=1.5*10**3           # ohm\n",
    "\n",
    "#Calculation\n",
    "\n",
    "R3=100        # internal resistance \n",
    "fL=0.1\n",
    "Rp=(R1*R2)/(R1+R2)\n",
    "ft=(z0*fb)/R2\n",
    "fB=ft/(1+(rn/((R1*R2)/(R1+R2))))\n",
    "Ano=1+(R2/R1)\n",
    "Enoe=enw*math.sqrt((fce*math.log(fB/fL))+(1.57*fB)-fL)\n",
    "Enoi=R3*inpw*math.sqrt(((fcip*math.log(fB/fL))+(1.57*fB)-fL))\n",
    "Enop=Rp*innw*math.sqrt((fcin*math.log(fB/fL))+(1.57*fB)-fL)\n",
    "k=1.38*10**(-23)\n",
    "T=25+273                #/Room temperature in Kelvin\n",
    "EnoR=math.sqrt((4*k*T)*(R3+Rp)*((1.57*fB)-fL))\n",
    "Eno=Ano*math.sqrt((Enoe**2)+(Enoi**2)+(EnoR**2)+(Enop**2))\n",
    "c=6.6*10**3                     # F\n",
    "Eno1=Eno*c\n",
    "\n",
    "#answer\n",
    "\n",
    "print \"RMS Noise Voltage (Eno) =\",round(Eno*10**6,2),\"micro volt\"    #answer in textbook is wrong\n",
    "print \"Peak to Peak Noise Voltage (Eno) =\",round(Eno1,2),\"mV\"        #answer in textbook is wrong"
   ]
  },
  {
   "cell_type": "markdown",
   "metadata": {},
   "source": [
    "## Example 7.11, 337"
   ]
  },
  {
   "cell_type": "code",
   "execution_count": 9,
   "metadata": {
    "collapsed": false
   },
   "outputs": [
    {
     "name": "stdout",
     "output_type": "stream",
     "text": [
      "Total Output Noise = 222.0 micro Volt\n"
     ]
    }
   ],
   "source": [
    "import math\n",
    "import numpy as np\n",
    "\n",
    "#Variable Declaration\n",
    "\n",
    "ft=16*10**6         # Hz\n",
    "enw=4.5*10**(-9)    # V/(Hz)^0.5\n",
    "fce=100.0           # Hz\n",
    "IB=1*10**(-12)      # A\n",
    "fL=0.01             # Hz\n",
    "R1=100*10**(9)      # ohm\n",
    "C1=45*10**(-12)     # F\n",
    "R2=10*10**6         # ohm\n",
    "C2=0.5*10**(-12)    # F\n",
    "\n",
    "#Calculation\n",
    "\n",
    "b0rec=1.0\n",
    "binfrec=91.0\n",
    "fz=350.0                  # Hz\n",
    "fp=31.8*10**3             # Hz\n",
    "fx=176*10**3              # Hz\n",
    "k=1.38*10**(-23)\n",
    "T=25+273\n",
    "iR2=math.sqrt((4*k*T)/R2)\n",
    "q=1.602*10**(-19)\n",
    "In=math.sqrt(2*q*IB)\n",
    "Enoe=binfrec*enw*math.sqrt(((np.pi/2)*fx)-fp)\n",
    "EnoR=R2*iR2*math.sqrt((np.pi/2)*fp)\n",
    "Eno=math.sqrt((Enoe**2)+(EnoR**2))\n",
    "\n",
    "#answer\n",
    "\n",
    "print \"Total Output Noise =\",round(Eno*10**6),\"micro Volt\""
   ]
  },
  {
   "cell_type": "markdown",
   "metadata": {},
   "source": [
    "## Example 7.12, Page 338 "
   ]
  },
  {
   "cell_type": "code",
   "execution_count": 10,
   "metadata": {
    "collapsed": false
   },
   "outputs": [
    {
     "name": "stdout",
     "output_type": "stream",
     "text": [
      "Cc = C2 = 0.5 pF\n",
      "R3 = 500.0 ohm\n",
      "C3 = 10.0 nF\n"
     ]
    }
   ],
   "source": [
    "import math\n",
    "\n",
    "#Variable Declaration\n",
    "\n",
    "ft=16*10**6          # Hz\n",
    "enw=4.5*10**(-9)     # V/(Hz)^0.5\n",
    "fce=100.0            # Hz\n",
    "IB=1*10**(-12)       # A\n",
    "fL=0.01              # Hz\n",
    "R1=100*10**(9)       # ohm\n",
    "C1=45*10**(-12)      # F\n",
    "R2=10*10**6          # ohm\n",
    "C2=0.5*10**(-12)     # F\n",
    "\n",
    "#Calculation\n",
    "\n",
    "b0rec=1.0\n",
    "binfrec=91.0\n",
    "fz=350.0              # Hz\n",
    "fp=31.8*10**3         # Hz\n",
    "fx=176*10**3          # Hz\n",
    "k=1.38*10**(-23)\n",
    "T=25+273\n",
    "Cc=0.5*10**(-12)       # Assumed\n",
    "C2=Cc\n",
    "C3=10*10**(-9)\n",
    "R3=(R2*Cc)/C3\n",
    "\n",
    "#answer\n",
    "\n",
    "print \"Cc = C2 =\",round(Cc*10**(12),2),\"pF\"\n",
    "print \"R3 =\",round(R3,2),\"ohm\"\n",
    "print \"C3 =\",round(C3*10**(9),2),\"nF\""
   ]
  },
  {
   "cell_type": "markdown",
   "metadata": {},
   "source": [
    "## Example 7.13, Page 339"
   ]
  },
  {
   "cell_type": "code",
   "execution_count": 11,
   "metadata": {
    "collapsed": false
   },
   "outputs": [
    {
     "name": "stdout",
     "output_type": "stream",
     "text": [
      "a) Designed T Network : \n",
      "  R1 = 100.0 giga ohm\n",
      "  R2 = 36.0 mega ohm\n",
      "  R3 = 1.0 kilo ohm\n",
      "  R4 = 26.5 kilo ohm\n",
      "  C1 = 2.0 nF\n",
      "  C2 = 1.0 pF\n",
      "b)\n",
      "  Total rms Output Noise = 1.5 mV\n",
      "  Bandwidth (fB) = 318.0 Hz\n"
     ]
    }
   ],
   "source": [
    "import math\n",
    "import numpy as np\n",
    "\n",
    "#Variable Declaration\n",
    "\n",
    "C1=2*10**(-9)          # F\n",
    "binfrec=4000.0         # V/V\n",
    "T=1*10**(9)            # V/A\n",
    "\n",
    "#Calculation\n",
    "\n",
    "inw=0.566*10**(-15)     \n",
    "ft=16*10**6          # Hz\n",
    "R1=100*10**(9)      #ohm\n",
    "C2=0.5*10**(-12)    #F\n",
    "fx=(1.0/binfrec)*ft\n",
    "enw=4.5*10**(-9)\n",
    "Enoe=binfrec*enw*math.sqrt((np.pi*fx)/2)\n",
    "EnoRmax=Enoe/3\n",
    "k=1.38*10**(-23)\n",
    "Temp=25+273\n",
    "ex=((EnoRmax**2)*C2)/(k*Temp)\n",
    "R2=T/ex\n",
    "R3=1*10**3       # Assumed\n",
    "R4=(ex-1)*R3\n",
    "fp=1/(2*np.pi*ex*R2*C2)\n",
    "fB=fp\n",
    "Rp=(R1*R2)/(R1+R2)\n",
    "Enoi=math.sqrt(1.57*fB)*inw\n",
    "Eno=math.sqrt((Enoe**2)+(Enoi**2)+(EnoRmax**2))\n",
    "\n",
    "#answer\n",
    "\n",
    "print \"a) Designed T Network : \"\n",
    "print \"  R1 =\",round(R1*10**(-9)),\"giga ohm\"\n",
    "print \"  R2 =\",round(R2*10**(-6)),\"mega ohm\"          # precision error in book\n",
    "print \"  R3 =\",round(R3*10**(-3)),\"kilo ohm\"\n",
    "print \"  R4 =\",round(R4*10**(-3),1),\"kilo ohm\"        # precision error in book\n",
    "print \"  C1 =\",round(C1*10**9),\"nF\"\n",
    "print \"  C2 =\",round(C2*10**12),\"pF\"\n",
    "print \"b)\\n  Total rms Output Noise =\",round(Eno*10**3,2),\"mV\"\n",
    "print \"  Bandwidth (fB) =\",round(fB),\"Hz\""
   ]
  }
 ],
 "metadata": {
  "kernelspec": {
   "display_name": "Python 2",
   "language": "python",
   "name": "python2"
  },
  "language_info": {
   "codemirror_mode": {
    "name": "ipython",
    "version": 2
   },
   "file_extension": ".py",
   "mimetype": "text/x-python",
   "name": "python",
   "nbconvert_exporter": "python",
   "pygments_lexer": "ipython2",
   "version": "2.7.10"
  }
 },
 "nbformat": 4,
 "nbformat_minor": 0
}
