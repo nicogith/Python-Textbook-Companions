{
 "cells": [
  {
   "cell_type": "markdown",
   "metadata": {},
   "source": [
    "# Chapter 12 : D to A and A to D Converters"
   ]
  },
  {
   "cell_type": "markdown",
   "metadata": {},
   "source": [
    "## Example 12.1, Page 563"
   ]
  },
  {
   "cell_type": "code",
   "execution_count": 1,
   "metadata": {
    "collapsed": false
   },
   "outputs": [
    {
     "name": "stdout",
     "output_type": "stream",
     "text": [
      "INL = [0, 0.0, -0.5, 0.5, -1.0, 0.5, -0.5, 0.0]\n",
      "DNL = [0, 0.0, -0.5, 1.0, -1.5, 1.5, -1.0, 0.5]\n",
      "The maxima of INL and DNL are , respectively , INL=1 LSB and DNL=(3/2) LSB.We observe\n",
      "a nonmonotonicity as the code changes from 011 and 100 , where the step size is\n",
      "(−1/2) LSB instead of (+1 LSB) ; hence , DNL (100) =−(1/2)−(+1)=(−3/2) LSB<−1 LSB.\n",
      "The fact that DNL(101) =(3/2) LSB>1 LSB, though undesirable , does not cause nonmonotocity .\n"
     ]
    }
   ],
   "source": [
    "from array import array\n",
    "\n",
    "#Variable Declaration\n",
    "\n",
    "k=[\"000\",\"001\",\"010\",\"011\",\"100\",\"101\",\"110\",\"111\"]\n",
    "vo=[0,1.0/8,2.0/8,3.0/8,4.0/8,5.0/8,6.0/8,7.0/8]\n",
    "voact=[0,1.0/8,3.0/16,7.0/16,3.0/8,11.0/16,11.0/16,7.0/8]\n",
    "INL=[0,0,0,0,0,0,0,0]\n",
    "DNL=[0,0,0,0,0,0,0,0]\n",
    "\n",
    "#Calculation\n",
    "\n",
    "for i in range(0,8):\n",
    "    INL[i]=(voact[i] -vo[i])*8\n",
    "for i in range(1,8):\n",
    "    DNL[i]=INL[i]-INL[i-1]\n",
    "DNL[0]=INL[0]\n",
    "\n",
    "#answer\n",
    "\n",
    "print \"INL =\",INL\n",
    "print \"DNL =\",DNL\n",
    "print \"The maxima of INL and DNL are , respectively , INL=1 LSB and DNL=(3/2) LSB.We observe\"\n",
    "print \"a nonmonotonicity as the code changes from 011 and 100 , where the step size is\"\n",
    "print \"(−1/2) LSB instead of (+1 LSB) ; hence , DNL (100) =−(1/2)−(+1)=(−3/2) LSB<−1 LSB.\"\n",
    "print \"The fact that DNL(101) =(3/2) LSB>1 LSB, though undesirable , does not cause nonmonotocity .\""
   ]
  },
  {
   "cell_type": "markdown",
   "metadata": {},
   "source": [
    "## Example 12.2, Page 567"
   ]
  },
  {
   "cell_type": "code",
   "execution_count": 2,
   "metadata": {
    "collapsed": false
   },
   "outputs": [
    {
     "name": "stdout",
     "output_type": "stream",
     "text": [
      "Eq = 2.89 mV\n",
      "SNR(max) = 61.97 dB\n",
      "ENOB = 9.01\n"
     ]
    }
   ],
   "source": [
    "import math\n",
    "\n",
    "#Variable Declaration\n",
    "\n",
    "n=10.0            \n",
    "Vfsr=10.24         #v\n",
    "StoNDsumdB=56.0    # dB\n",
    "\n",
    "#Calculation\n",
    "\n",
    "Eq=Vfsr/((2**n)*math.sqrt(12))\n",
    "SNRdB=(6.02*n)+1.76\n",
    "ENOB=(StoNDsumdB -1.76)/6.02\n",
    "\n",
    "#answer\n",
    "\n",
    "print \"Eq =\",round(Eq*10**3,2),\"mV\"\n",
    "print \"SNR(max) =\",round(SNRdB+0.01,2),\"dB\"\n",
    "print \"ENOB =\",round(ENOB,2)"
   ]
  },
  {
   "cell_type": "markdown",
   "metadata": {},
   "source": [
    "## Example 12.3, Page 581"
   ]
  },
  {
   "cell_type": "code",
   "execution_count": 3,
   "metadata": {
    "collapsed": false
   },
   "outputs": [
    {
     "name": "stdout",
     "output_type": "stream",
     "text": [
      "TCmax( Vref ) = (+−) 1.36 ppm/degC\n",
      "TCmax(Vos) = (+−) 6.8  micro volt/degC\n"
     ]
    }
   ],
   "source": [
    "import math\n",
    "\n",
    "#Variable declaration\n",
    "\n",
    "n=12.0\n",
    "Vref=10.0       # V\n",
    "Troom=25.0      # degCelsius\n",
    "Tmin=0          # degCelsius\n",
    "Tmax=70.0       # degCelsius\n",
    "\n",
    "#Calculation\n",
    "\n",
    "erfa=1.0/4\n",
    "er=Vref/(2**14)\n",
    "Temax=Tmax -Troom\n",
    "ida=er/Temax\n",
    "TCmaxVref=ida/Vref\n",
    "ng=2                    # Noise Gain\n",
    "TCmaxVos=ida/ng\n",
    "\n",
    "#answer\n",
    "\n",
    "print \"TCmax( Vref ) = (+−)\",round(TCmaxVref *10**6,2),\"ppm/degC\"\n",
    "print \"TCmax(Vos) = (+−)\",round(TCmaxVos *10**6,1),\" micro volt/degC\""
   ]
  },
  {
   "cell_type": "markdown",
   "metadata": {},
   "source": [
    "## Example 12.4, Page 583"
   ]
  },
  {
   "cell_type": "code",
   "execution_count": 4,
   "metadata": {
    "collapsed": false
   },
   "outputs": [
    {
     "name": "stdout",
     "output_type": "stream",
     "text": [
      "Designed Digitally Programmable filter : \n",
      "R1 = 7.07 kilo ohm\n",
      "R2 = 10.0 kilo ohm\n",
      "R3 = 7.07 kilo ohm\n",
      "R4 = 10.0 kilo ohm\n",
      "R5 = 15.54 kilo ohm\n",
      "C = 1.0 nF\n"
     ]
    }
   ],
   "source": [
    "import numpy as np\n",
    "import math\n",
    "\n",
    "#Variable Declaration\n",
    "\n",
    "Q=1.0/math.sqrt(2)         \n",
    "H0bp=-1.0           #V/V\n",
    "f0step=10.0        #Hz\n",
    "n=10.0\n",
    "\n",
    "#Calculation\n",
    "\n",
    "R4=R2=10*10**3                    #Assumed\n",
    "C=1*10**(-9)                      #Assumed \n",
    "f0FSR=(2**n)*f0step\n",
    "R5=1.0/(2*np.pi*f0FSR*C)\n",
    "R3=Q*math.sqrt(R2*R4)\n",
    "R1=-R3/H0bp\n",
    "\n",
    "#answer\n",
    "\n",
    "print \"Designed Digitally Programmable filter : \"\n",
    "print \"R1 =\",round(R1*10**(-3),2),\"kilo ohm\"\n",
    "print \"R2 =\",round(R2*10**(-3),2),\"kilo ohm\"\n",
    "print \"R3 =\",round(R3*10**(-3),2),\"kilo ohm\"\n",
    "print \"R4 =\",round(R4*10**(-3),2),\"kilo ohm\"\n",
    "print \"R5 =\",round(R5*10**(-3),2),\"kilo ohm\"\n",
    "print \"C =\",round(C*10**9),\"nF\""
   ]
  },
  {
   "cell_type": "markdown",
   "metadata": {},
   "source": [
    "## Example 12.5, Page 584"
   ]
  },
  {
   "cell_type": "code",
   "execution_count": 5,
   "metadata": {
    "collapsed": false
   },
   "outputs": [
    {
     "name": "stdout",
     "output_type": "stream",
     "text": [
      "Designed Digitally Programmable triangular or square wave oscillator :\n",
      "R1 = 20.0 kilo ohm\n",
      "R2 = 20.0 kilo ohm\n",
      "R3 = 6.2 kilo ohm\n",
      "C = 1.22 nF\n",
      "Use 1.0 nF, which is more easily available , and raise R1 to 24.3 kohms ,1 percent \n"
     ]
    }
   ],
   "source": [
    "import math\n",
    "\n",
    "#Variable Declaration\n",
    "\n",
    "Vclamp=5.0       #V\n",
    "n=12.0\n",
    "f0step=1.0      #Hz\n",
    "Vz5=3.6         #V\n",
    "R1=20*10**3      #ohm\n",
    "R2=R1\n",
    "R3=6.2*10**3     #ohm\n",
    "\n",
    "#Calculation\n",
    "\n",
    "f0FSR=(2**n)*f0step\n",
    "iO=100*10**(-6)\n",
    "C=(iO*(R2/R1))/(4*Vclamp*f0FSR)\n",
    "\n",
    "#answer\n",
    "\n",
    "print \"Designed Digitally Programmable triangular or square wave oscillator :\"\n",
    "print \"R1 =\",round(R1*10**(-3),2),\"kilo ohm\"\n",
    "print \"R2 =\",round(R2*10**(-3),2),\"kilo ohm\"\n",
    "print \"R3 =\",round(R3*10**(-3),2),\"kilo ohm\"\n",
    "print \"C =\",round(C*10**9,2),\"nF\"\n",
    "print \"Use 1.0 nF, which is more easily available , and raise R1 to 24.3 kohms ,1 percent \""
   ]
  },
  {
   "cell_type": "markdown",
   "metadata": {},
   "source": [
    "## Example 12.6, Page 599"
   ]
  },
  {
   "cell_type": "code",
   "execution_count": 6,
   "metadata": {
    "collapsed": false
   },
   "outputs": [
    {
     "name": "stdout",
     "output_type": "stream",
     "text": [
      "Oversampling Frequency = 11.29 MHz\n",
      "SNRmax = 98.08 dB\n"
     ]
    }
   ],
   "source": [
    "import math\n",
    "\n",
    "#Variable Declaration\n",
    "\n",
    "n=12.0\n",
    "nreqd=16.0\n",
    "\n",
    "#Calculation\n",
    "\n",
    "resbits=nreqd -n\n",
    "m=resbits/(1.0/2)\n",
    "fS=44.1*10**3\n",
    "fovers=(2**m)*fS\n",
    "SNRmax=(6.02*(n+(0.5*m)))+1.76\n",
    "\n",
    "#answer\n",
    "\n",
    "print \"Oversampling Frequency =\",round(fovers *10**(-6),2),\"MHz\"\n",
    "print \"SNRmax =\",round(SNRmax,2),\"dB\" "
   ]
  },
  {
   "cell_type": "markdown",
   "metadata": {},
   "source": [
    "## Example 12.7, Page 602"
   ]
  },
  {
   "cell_type": "code",
   "execution_count": 7,
   "metadata": {
    "collapsed": false
   },
   "outputs": [
    {
     "name": "stdout",
     "output_type": "stream",
     "text": [
      "k for first order Integrate Difference ADC : k = 1261.0\n",
      "k for second order Integrate Difference ADC : k= 105.0\n"
     ]
    }
   ],
   "source": [
    "import math\n",
    "\n",
    "#Variable Declaration\n",
    "\n",
    "SNRmaxmindB=96    #dB\n",
    "SNRmaxminb=16     #dB\n",
    "n=1.0\n",
    "\n",
    "#Calculation\n",
    "\n",
    "m1=((((SNRmaxmindB+3.41)/6.02)-n)/1.5)\n",
    "m1app=m1 -0.042193           #Approximation for m1 \n",
    "k1=2**m1app\n",
    "m2=((((SNRmaxmindB+11.14)/6.02)-n)/2.5) \n",
    "k2=2**m2\n",
    "\n",
    "#answer\n",
    "\n",
    "print \"k for first order Integrate Difference ADC : k =\",round(k1)\n",
    "print \"k for second order Integrate Difference ADC : k=\",round(k2)"
   ]
  }
 ],
 "metadata": {
  "kernelspec": {
   "display_name": "Python 2",
   "language": "python",
   "name": "python2"
  },
  "language_info": {
   "codemirror_mode": {
    "name": "ipython",
    "version": 2
   },
   "file_extension": ".py",
   "mimetype": "text/x-python",
   "name": "python",
   "nbconvert_exporter": "python",
   "pygments_lexer": "ipython2",
   "version": "2.7.10"
  }
 },
 "nbformat": 4,
 "nbformat_minor": 0
}
