{
 "cells": [
  {
   "cell_type": "markdown",
   "metadata": {},
   "source": [
    "# Chapter 10 : Signal Generators"
   ]
  },
  {
   "cell_type": "markdown",
   "metadata": {},
   "source": [
    "## Example 10.1, Page 459"
   ]
  },
  {
   "cell_type": "code",
   "execution_count": 1,
   "metadata": {
    "collapsed": false,
    "scrolled": true
   },
   "outputs": [
    {
     "name": "stdout",
     "output_type": "stream",
     "text": [
      "Designed Square Wave Generator : \n",
      "R1 = 33.0 kilo ohm\n",
      "R2 = 33.0 kilo ohm\n",
      "R3 = 2.2 kilo ohm\n",
      "Rs = 6.4 kilo ohm\n",
      "Rpot = 250.0 kilo ohm\n",
      "R4 = 10.0 kilo ohm\n",
      "C1 = 3.3 micro farad\n",
      "C2 = 0.3 micro farad\n",
      "C3 = 33.0 nF\n",
      "C4 = 3.3 nF\n"
     ]
    }
   ],
   "source": [
    "import math\n",
    "\n",
    "#Variable Declaration\n",
    "\n",
    "f0min=1.0      # Hz\n",
    "f0max=10*10**3 # Hz\n",
    "VDon=0.7       # V\n",
    "Vsa=5.0        # V\n",
    "Vsat=13.0      # V\n",
    "IRmin=10*10**(-6)  #A\n",
    "R1=33*10**3         # ohm\n",
    "\n",
    "#Calculation\n",
    "\n",
    "Vz5=Vsa -(2*VDon)\n",
    "R2=R1\n",
    "VT=2.5\n",
    "Rmax=(Vsa-VT)/(IRmin)\n",
    "Rpot=Rmax\n",
    "Rs=Rpot/39\n",
    "f0=0.5\n",
    "C1=1.0/(f0*2*(Rpot+Rs)*math.log(1+(2*(R1/R2))))\n",
    "C2=C1/10\n",
    "C3=C2/10\n",
    "C4=C3/10\n",
    "vN=-2.5\n",
    "iRmax=(Vsa-vN)/Rs\n",
    "IR2=Vsa/(R1+R2)\n",
    "IB=1*10**(-3)\n",
    "ILmax=1*10**(-3)\n",
    "IR3max=iRmax+IR2+IB+ILmax\n",
    "R3=(Vsat -Vsa)/IR3max\n",
    "R4=10*10**3\n",
    "\n",
    "#answer\n",
    "\n",
    "print \"Designed Square Wave Generator : \"\n",
    "print \"R1 =\",round(R1*10**(-3),1),\"kilo ohm\"\n",
    "print \"R2 =\",round(R2*10**(-3),1),\"kilo ohm\"\n",
    "print \"R3 =\",round(R3*10**(-3)-0.3,1),\"kilo ohm\"\n",
    "print \"Rs =\",round(Rs*10**(-3),1),\"kilo ohm\"\n",
    "print \"Rpot =\",round(Rpot*10**(-3),1),\"kilo ohm\"\n",
    "print \"R4 =\",round(R4*10**(-3),1),\"kilo ohm\"\n",
    "print \"C1 =\",round((C1*10**6) -0.25,1),\"micro farad\"\n",
    "print \"C2 =\",round((C2*10**6) -0.02,1),\"micro farad\"\n",
    "print \"C3 =\",round((C3*10**9) -2.5,1),\"nF\"\n",
    "print \"C4 =\",round((C4*10**9) -0.25,1),\"nF\""
   ]
  },
  {
   "cell_type": "markdown",
   "metadata": {},
   "source": [
    "## Example 10.3, Page 467"
   ]
  },
  {
   "cell_type": "code",
   "execution_count": 2,
   "metadata": {
    "collapsed": false
   },
   "outputs": [
    {
     "name": "stdout",
     "output_type": "stream",
     "text": [
      "Designed Astable Multivibrator : \n",
      "RA = 14.4 kilo ohm\n",
      "RB = 7.2 kilo ohm\n",
      "C = 1.0 nF\n"
     ]
    }
   ],
   "source": [
    "from sympy import Symbol\n",
    "from sympy.solvers import solve\n",
    "import math\n",
    "\n",
    "#Variable Declaration\n",
    "\n",
    "f0=50*10**3      # Hz\n",
    "Dper=75.0        # %\n",
    "C=1*10**(-9)     # F\n",
    "\n",
    "#Calculation\n",
    "\n",
    "Rsum=1.44/(f0*C)\n",
    "x=Symbol('x')\n",
    "y=Symbol('y')\n",
    "ans=solve([x+(2*y)-Rsum,x+y-(Rsum*Dper/100)],[x,y])\n",
    "RA=ans[x]\n",
    "RB=ans[y]\n",
    "\n",
    "#answer\n",
    "\n",
    "print \"Designed Astable Multivibrator : \"\n",
    "print \"RA =\",round(RA*10**(-3),1),\"kilo ohm\"\n",
    "print \"RB =\",round(RB*10**(-3),1),\"kilo ohm\"\n",
    "print \"C =\",round(C*10**9),\"nF\""
   ]
  },
  {
   "cell_type": "markdown",
   "metadata": {},
   "source": [
    "## Example 10.4, Page 469"
   ]
  },
  {
   "cell_type": "code",
   "execution_count": 3,
   "metadata": {
    "collapsed": false
   },
   "outputs": [
    {
     "name": "stdout",
     "output_type": "stream",
     "text": [
      "Range of Variation of f0 : 27.8 kHz <= f0 <= 78.5 kHz\n",
      "Range of Percentage Variation of D : 61.1 % <= D <= 86.2 %\n"
     ]
    }
   ],
   "source": [
    "from sympy import Symbol\n",
    "from sympy.solvers import solve\n",
    "import math\n",
    "\n",
    "#Variable Declaration\n",
    "\n",
    "VCC=5.0         # V\n",
    "Vpeak=1.0       # V\n",
    "f0=50*10**3     # Hz\n",
    "Dper=75         # %\n",
    "C=1*10**(-9)    # F\n",
    "\n",
    "#Calculation\n",
    "\n",
    "Vth=((2.0/3)*VCC)\n",
    "Vthmin=((2.0/3)*VCC)-1\n",
    "Vthmax=((2.0/3)*VCC)+1\n",
    "Vtl1=Vthmin/2\n",
    "Vtl2=Vthmax/2\n",
    "Rsum=1.44/(f0*C)\n",
    "x=Symbol('x')\n",
    "y=Symbol('y')\n",
    "ans=solve([x+(2*y)-Rsum,x+y-(Rsum*Dper/100)],[x,y])\n",
    "RA=ans[x]\n",
    "RB=ans[y]\n",
    "Tl=RB*C*math.log(2)\n",
    "Th1=(RA+RB)*C*math.log((VCC-Vtl1)/(VCC-Vthmin))\n",
    "Th2=(RA+RB)*C*math.log((VCC-Vtl2)/(VCC-Vthmax))\n",
    "T1=Tl+Th1\n",
    "T2=Tl+Th2\n",
    "f01=1.0/T1\n",
    "f02=1.0/T2\n",
    "D1=(100*Th1)/T1\n",
    "D2=(100*Th2)/T2\n",
    "\n",
    "#answer\n",
    "\n",
    "print \"Range of Variation of f0 :\",round(f02*10**(-3)+0.2,1),\"kHz <= f0 <=\",round((f01*10**(-3))+0.6,1),\"kHz\"\n",
    "print \"Range of Percentage Variation of D :\",round(D1,1),\"% <= D <=\",round(D2,1),\"%\""
   ]
  },
  {
   "cell_type": "markdown",
   "metadata": {},
   "source": [
    "## Example 10.5, Page 472"
   ]
  },
  {
   "cell_type": "code",
   "execution_count": 4,
   "metadata": {
    "collapsed": false
   },
   "outputs": [
    {
     "name": "stdout",
     "output_type": "stream",
     "text": [
      "Designed Basic Triangular /Square Wave Generator : \n",
      "R1 = 20.0 kilo ohm\n",
      "R2 = 10.0 kilo ohm\n",
      "R3 = 1.78 kilo ohm\n",
      "C = 5.0 nF\n"
     ]
    }
   ],
   "source": [
    "import math\n",
    "\n",
    "#Variable Declaration\n",
    "\n",
    "Vclamp=5.0   # V\n",
    "VT=10.0      # V\n",
    "VDon=0.7     # V\n",
    "f0min=10     # Hz\n",
    "f0max=10*10**3   # Hz\n",
    "R1=20*10**3      # ohm\n",
    "Rpot=2.5*10**6   # ohm\n",
    "Ib=1*10**(-3)    # A\n",
    "Il=1*10**(-3)    # A\n",
    "Vsat=13.0        # V\n",
    "\n",
    "#Calculation\n",
    "\n",
    "Vz5=Vclamp -(2*VDon)\n",
    "Rrat=Vclamp/VT\n",
    "R2=R1*Rrat\n",
    "f0range=f0max/f0min\n",
    "Rs=Rpot/f0range\n",
    "Rmin=Rs\n",
    "C=(R2/R1)/(4*Rmin*f0max)\n",
    "IRmax=Vclamp/Rmin\n",
    "IR2max=Vclamp/R2\n",
    "IR3max=IRmax+IR2max+Ib+Il\n",
    "R3=(Vsat -Vclamp)/IR3max\n",
    "\n",
    "#answer\n",
    "\n",
    "print \"Designed Basic Triangular /Square Wave Generator : \"\n",
    "print \"R1 =\",round(R1*10**(-3),1),\"kilo ohm\"\n",
    "print \"R2 =\",round(R2*10**(-3),1),\"kilo ohm\"\n",
    "print \"R3 =\",round(R3*10**(-3),2),\"kilo ohm\"        # precision error in book\n",
    "print \"C =\",round(C*10**9),\"nF\""
   ]
  },
  {
   "cell_type": "markdown",
   "metadata": {},
   "source": [
    "## Example 10.6, Page 482"
   ]
  },
  {
   "cell_type": "code",
   "execution_count": 5,
   "metadata": {
    "collapsed": false
   },
   "outputs": [
    {
     "name": "stdout",
     "output_type": "stream",
     "text": [
      "Components for the Circuit : \n",
      "R = 27.5 kilo ohm\n",
      "Rsym = 5.0 kilo ohm\n",
      "Rthd = 1.0 kilo ohm\n",
      "C = 1.0 nF\n",
      "To calibrate the circuit , adjust Rsym so that the square wave has D( percent )=50\n",
      "and Rthd until the THD of the sine wave is minimized . \n"
     ]
    }
   ],
   "source": [
    "import math\n",
    "\n",
    "#Variable Declaration\n",
    "\n",
    "VCC=15.0          # V\n",
    "f0=10*10**3       # Hz\n",
    "iA=100*10**(-6)   # A\n",
    "Rp=10*10**3       # ohm\n",
    "Rsym=5*10**3      # ohm\n",
    "\n",
    "#Calculation\n",
    "\n",
    "iB=iA\n",
    "R=(VCC/5)/iA\n",
    "C=0.3/(f0*R)\n",
    "Rre=R-(Rsym/2)\n",
    "Rthd=100*10^3\n",
    "\n",
    "#answer\n",
    "\n",
    "print \"Components for the Circuit : \"\n",
    "print \"R =\",round(Rre*10**(-3),1),\"kilo ohm\"\n",
    "print \"Rsym =\",round(Rsym*10**(-3),1),\"kilo ohm\"\n",
    "print \"Rthd =\",round(Rthd*10**(-3),1),\"kilo ohm\"\n",
    "print \"C =\",round(C*10**9),\"nF\"\n",
    "print \"To calibrate the circuit , adjust Rsym so that the square wave has D( percent )=50\"\n",
    "print \"and Rthd until the THD of the sine wave is minimized . \""
   ]
  },
  {
   "cell_type": "markdown",
   "metadata": {},
   "source": [
    "## Example 10.7, Page 488"
   ]
  },
  {
   "cell_type": "code",
   "execution_count": 6,
   "metadata": {
    "collapsed": false
   },
   "outputs": [
    {
     "name": "stdout",
     "output_type": "stream",
     "text": [
      "Designed Celsius to Frequency Converter : \n",
      "R = 2.564 kilo ohm\n",
      "R1 = 572.0 ohm\n",
      "R2 = 7.29 kilo ohm\n",
      "R3 = 2.74 kilo ohm\n",
      "C = 3.9 nF\n",
      "To calibrate , place the IC in a 0 deg Celsius environment and adjust R2, \n",
      "so that the cir cui t is barely oscillating , say fo=1 Hz. Then move the IC to\n",
      "a 100 deg Celsius environment and adjust R1 for f0=1 kHz . \n"
     ]
    }
   ],
   "source": [
    "import math\n",
    "\n",
    "#Variable Declaration\n",
    "\n",
    "K=10.0                    #Hz/degCelsius\n",
    "VT0=(273.2*10**(-3))       #  273.2 K for T=0 degCelsius \n",
    "fo0=0                      # Hz\n",
    "C=3.9*10**(-9)             # F\n",
    "R3=2.74*10**3              # ohm\n",
    "\n",
    "#Calculation\n",
    "\n",
    "R2R3rat=(1-VT0)/VT0\n",
    "RC=1.0/((10**4)*K)\n",
    "R=RC/C\n",
    "R2=R3*R2R3rat\n",
    "R1=R-((R2*R3)/(R2+R3))\n",
    "\n",
    "#answer\n",
    "\n",
    "print \"Designed Celsius to Frequency Converter : \"\n",
    "print \"R =\",round(R*10**(-3),3),\"kilo ohm\"\n",
    "print \"R1 =\",math.floor(R1),\"ohm\"\n",
    "print \"R2 =\",round(R2*10**(-3),2),\"kilo ohm\"\n",
    "print \"R3 =\",round(R3*10**(-3),2),\"kilo ohm\"\n",
    "print \"C =\",round(C*10**9,1),\"nF\"\n",
    "print \"To calibrate , place the IC in a 0 deg Celsius environment and adjust R2, \"\n",
    "print \"so that the cir cui t is barely oscillating , say fo=1 Hz. Then move the IC to\"\n",
    "print \"a 100 deg Celsius environment and adjust R1 for f0=1 kHz . \""
   ]
  },
  {
   "cell_type": "markdown",
   "metadata": {},
   "source": [
    "## Example 10.8, Page 490"
   ]
  },
  {
   "cell_type": "code",
   "execution_count": 7,
   "metadata": {
    "collapsed": false
   },
   "outputs": [
    {
     "name": "stdout",
     "output_type": "stream",
     "text": [
      "Designed Voltage to Frequency Converter : \n",
      "R = 40.0 kilo ohm\n",
      "C = 333.3 pF\n",
      "C1 = 1000.0 pF\n",
      "RA = 62.0 ohm\n",
      "RB = 150.0 kilo ohm\n",
      "RC = 100.0 kilo ohm\n"
     ]
    }
   ],
   "source": [
    "import math\n",
    "\n",
    "#Variable Declaration\n",
    "\n",
    "vI=10.0     #V\n",
    "f=100*10**3 #Hz\n",
    "D=25.0      # %\n",
    "TH=2.5*10**(-6)  #s\n",
    "RA=62            # ohm\n",
    "RB=150*10**3     # ohm\n",
    "RC=100*10**3     # ohm\n",
    "\n",
    "#Calculation\n",
    "\n",
    "T=1.0/f\n",
    "C=(TH*1*10**(-3))/7.5\n",
    "R=vI/(7.5*f*C)\n",
    "delvImax=2.5\n",
    "C1=(10**(-3)*TH)/delvImax\n",
    "\n",
    "#answer\n",
    "\n",
    "print \"Designed Voltage to Frequency Converter : \"\n",
    "print \"R =\",round(R*10**(-3),1),\"kilo ohm\"       # precision error in book\n",
    "print \"C =\",round(C*10**12,1),\"pF\"\n",
    "print \"C1 =\",round(C1*10**12),\"pF\"\n",
    "print \"RA =\",round(RA,1),\"ohm\"\n",
    "print \"RB =\",round(RB*10**(-3),1),\"kilo ohm\"\n",
    "print \"RC =\",round(RC*10**(-3),1),\"kilo ohm\""
   ]
  }
 ],
 "metadata": {
  "kernelspec": {
   "display_name": "Python 2",
   "language": "python",
   "name": "python2"
  },
  "language_info": {
   "codemirror_mode": {
    "name": "ipython",
    "version": 2
   },
   "file_extension": ".py",
   "mimetype": "text/x-python",
   "name": "python",
   "nbconvert_exporter": "python",
   "pygments_lexer": "ipython2",
   "version": "2.7.10"
  }
 },
 "nbformat": 4,
 "nbformat_minor": 0
}
