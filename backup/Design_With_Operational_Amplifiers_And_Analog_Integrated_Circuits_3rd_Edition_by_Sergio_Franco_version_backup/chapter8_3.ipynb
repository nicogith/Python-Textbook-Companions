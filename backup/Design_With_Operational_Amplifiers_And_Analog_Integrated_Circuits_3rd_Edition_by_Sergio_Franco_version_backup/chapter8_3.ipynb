{
 "cells": [
  {
   "cell_type": "markdown",
   "metadata": {},
   "source": [
    "# Chapter 8 : Stability"
   ]
  },
  {
   "cell_type": "markdown",
   "metadata": {},
   "source": [
    "## Example 8.1, Page 350"
   ]
  },
  {
   "cell_type": "code",
   "execution_count": 50,
   "metadata": {
    "collapsed": false
   },
   "outputs": [
    {
     "name": "stdout",
     "output_type": "stream",
     "text": [
      "a)\n",
      "  Gain Margin (GM) = 20.82 dB\n",
      "b)\n",
      "  Phase Margin (PM) = 47.4 degree\n",
      "c)\n",
      "  T0 for PM->60 degrees = 5760.0\n"
     ]
    }
   ],
   "source": [
    "import numpy as np\n",
    "import math\n",
    "\n",
    "#Variable Declaration\n",
    "\n",
    "T0=10**4\n",
    "f1=100.0           # Hz\n",
    "f2=10**6           # Hz\n",
    "f3=10*10**6        # Hz\n",
    "\n",
    "#Calculation\n",
    "\n",
    "w1=2*np.pi*f1\n",
    "w2=2*np.pi*f2\n",
    "w3=2*np.pi*f3\n",
    "Tja=353.1*10**(-3)        # Trial and error assumption\n",
    "gm=20*math.log(1.0/Tja)\n",
    "f=784*10**3              # Trial and error assumption\n",
    "Tjb=-(math.atan(f*10**(-2))+math.atan(f*10**(-6))+math.atan(f*10**(-7)))\n",
    "pm=180+math.degrees(Tjb)\n",
    "f=512*10**3              # Trial and error assumption\n",
    "w=2*np.pi*f\n",
    "T1=T0/((1-(complex(0,w)/w1))*(1-(complex(0,w)/w2))*(1-(complex(0,w)/w3 )))\n",
    "den=1.0/(abs(T1)/T0)\n",
    "\n",
    "#answer\n",
    "\n",
    "print \"a)\\n  Gain Margin (GM) =\",round(gm,2),\"dB\"\n",
    "print \"b)\\n  Phase Margin (PM) =\",round(pm,1),\"degree\"\n",
    "print \"c)\\n  T0 for PM->60 degrees =\",round(den)"
   ]
  },
  {
   "cell_type": "markdown",
   "metadata": {},
   "source": [
    "## Example 8.2, Page 358"
   ]
  },
  {
   "cell_type": "code",
   "execution_count": 51,
   "metadata": {
    "collapsed": false
   },
   "outputs": [
    {
     "name": "stdout",
     "output_type": "stream",
     "text": [
      "fx = 10.0 kHz\n",
      "Q = 100.0\n",
      "Phase Margin (PM) = 0.6 degree\n"
     ]
    }
   ],
   "source": [
    "import math\n",
    "import numpy as np\n",
    "\n",
    "#Variable Declaration\n",
    "\n",
    "R=159*10**3         # ohm\n",
    "C=10*10**(-9)       # F\n",
    "\n",
    "#Calculation\n",
    "\n",
    "f0=1.0/(2*np.pi*R*C)\n",
    "ft=10**6\n",
    "fx=math.sqrt(f0*ft)\n",
    "Q=math.sqrt(ft/f0)\n",
    "d=-90-((180/np.pi)*math.atan(fx/f0))        # radian to degree\n",
    "pm=180+d\n",
    "\n",
    "#answer\n",
    "\n",
    "print \"fx =\",round(fx*10**(-3)),\"kHz\"\n",
    "print \"Q =\",round(Q)\n",
    "print \"Phase Margin (PM) =\",round(pm,1),\"degree\""
   ]
  },
  {
   "cell_type": "markdown",
   "metadata": {},
   "source": [
    "## Example 8.3, Page 360"
   ]
  },
  {
   "cell_type": "code",
   "execution_count": 52,
   "metadata": {
    "collapsed": false
   },
   "outputs": [
    {
     "name": "stdout",
     "output_type": "stream",
     "text": [
      "a)\n",
      "  Phase Margin with Cf absent = 14.7 degree\n",
      "b)\n",
      "  Cf for PM->90 degrees = 16.0 pF\n",
      "c)\n",
      "  A(jf) = 1 / (1.0e-7*f*j + 1)*(3.0159289474462e-6*f*j + 1) V/V\n"
     ]
    }
   ],
   "source": [
    "from sympy import Symbol\n",
    "import math\n",
    "import numpy as np\n",
    "\n",
    "#Variable Declaration\n",
    "\n",
    "R1=R2=30*10**3        # ohm\n",
    "Cext=3*10**(-12)      # F\n",
    "GBP=20*10**6          # Hz\n",
    "Cd=7*10**(-12)        # F\n",
    "Cc=12*10**(-12)       # F\n",
    "\n",
    "#Calculation\n",
    "\n",
    "Cn=Cext+Cd+(Cc/2)\n",
    "Rp=(R1*R2)/(R1+R2)\n",
    "Cf1=0\n",
    "fz1=1.0/(2*np.pi*Rp*(Cn+Cf1))\n",
    "ft=20*10**6                  # Hz\n",
    "Q=math.sqrt((ft)/(2*fz1))\n",
    "pm=(180.0/np.pi)*math.acos((math.sqrt(1+(1.0/(4*Q**4)))) -(1.0/(2*Q**2)))       # radian to degree\n",
    "Cf2=(R1/R2)*Cn\n",
    "fp=1.0/(2*np.pi*R2*Cf2)\n",
    "x=Symbol('f')\n",
    "j=Symbol('j')\n",
    "A=(1+(j*(x/fp)))*(1+(j*(x/(0.5*ft))))\n",
    "\n",
    "#answer\n",
    "\n",
    "print \"a)\\n  Phase Margin with Cf absent =\",round(pm,1),\"degree\"\n",
    "print \"b)\\n  Cf for PM->90 degrees =\",round(Cf2*10**12,2),\"pF\"\n",
    "print \"c)\\n  A(jf) = 1 /\",A,\"V/V\""
   ]
  },
  {
   "cell_type": "markdown",
   "metadata": {},
   "source": [
    "## Example 8.4, Page 362"
   ]
  },
  {
   "cell_type": "code",
   "execution_count": 53,
   "metadata": {
    "collapsed": false
   },
   "outputs": [
    {
     "name": "stdout",
     "output_type": "stream",
     "text": [
      "Cf = 9.0 pF\n",
      "fx = 7.2 MHz\n",
      "A(jf) = 2/(7200000.0*f*j + 1) V/V\n"
     ]
    }
   ],
   "source": [
    "import math\n",
    "from sympy import Symbol\n",
    "\n",
    "#Variable Declaration\n",
    "\n",
    "R1=R2=30*10**3           #ohm\n",
    "ft=20*10**6              # Hz\n",
    "Cext=3*10**(-12)         # F\n",
    "GBP=20*10**6             # Hz\n",
    "Cd=7*10**(-12)           # F\n",
    "Cc=12*10**(-12)          # F\n",
    "\n",
    "#Calculation\n",
    "Cf=(R1/R2)*((Cc/2)+Cext)\n",
    "Cn=Cext+Cd+(Cc/2)\n",
    "fx=ft/(1+(Cn/Cf))\n",
    "x=Symbol('f')\n",
    "j=Symbol('j')\n",
    "A=(1+(R2/R1))/(1+(j*x*fx))\n",
    "\n",
    "#answer\n",
    "print \"Cf =\",round(Cf*10**12),\"pF\"\n",
    "print \"fx =\",round(fx*10**(-6),1),\"MHz\"\n",
    "print \"A(jf) =\",A,\"V/V\""
   ]
  },
  {
   "cell_type": "markdown",
   "metadata": {},
   "source": [
    "## Example 8.5, Page 364"
   ]
  },
  {
   "cell_type": "code",
   "execution_count": 54,
   "metadata": {
    "collapsed": false
   },
   "outputs": [
    {
     "name": "stdout",
     "output_type": "stream",
     "text": [
      "a)\n",
      "  Rs = 50.0 ohm\n",
      "  Cf = 56.0 pF\n",
      "b)\n",
      "  A(jf) = -2.0/((141471.060526129*f*j + 1)*(3333333.33333333*f*j + 1)) V/V\n"
     ]
    }
   ],
   "source": [
    "import numpy as np\n",
    "from sympy import Symbol\n",
    "import math\n",
    "\n",
    "#Variable Declaration\n",
    "\n",
    "GBP=10*10**6          # Hz\n",
    "ro=100.0              # ohm\n",
    "A0=-2.0               # V/V\n",
    "CL=5*10**(-9)         # F \n",
    "R1=10*10**3           # ohm\n",
    "R2=20*10**3           # ohm\n",
    "\n",
    "#Calculation\n",
    "\n",
    "Rs=(float(R1)/R2)*ro\n",
    "Cf=((1+(float(R1)/R2))**2)*(ro/R2)*CL\n",
    "f3dB=1.0/(2*np.pi*R2*Cf)\n",
    "b=1.0/3\n",
    "fx=b*GBP\n",
    "x=Symbol('f')\n",
    "j=Symbol('j')\n",
    "A=A0/((1+(j*(x*fx)))*(1+(j*(x*f3dB))))\n",
    "\n",
    "#answer\n",
    "\n",
    "print \"a)\\n  Rs =\",round(Rs),\"ohm\"\n",
    "print \"  Cf =\",round(Cf*10**12),\"pF\"\n",
    "print \"b)\\n  A(jf) =\",A,\"V/V\""
   ]
  },
  {
   "cell_type": "markdown",
   "metadata": {},
   "source": [
    "## Example 8.6, Page 367"
   ]
  },
  {
   "cell_type": "code",
   "execution_count": 55,
   "metadata": {
    "collapsed": false
   },
   "outputs": [
    {
     "name": "stdout",
     "output_type": "stream",
     "text": [
      "|a(j∗fmin135)| = 471.0 V/V\n",
      "|a(j∗fmin180)| = 63.7 V/V\n"
     ]
    }
   ],
   "source": [
    "import math\n",
    "\n",
    "#Variable Declaration\n",
    "\n",
    "a0=3600.0          #V/V\n",
    "f1=1*10**6         # Hz\n",
    "f2=4*10**6         # Hz\n",
    "f3=40*10**6        # Hz\n",
    "fmin135=4.78*10**6 # Hz\n",
    "fmin180=14.3*10**6 # Hz\n",
    "\n",
    "#Calculation\n",
    "\n",
    "gbp1=abs(a0/(complex(1,(fmin135/f1))*complex(1,(fmin135/ f3))*complex(1,(fmin135/f3)))) -256\n",
    "gbp2=abs(a0/(complex(1,(fmin180/f1))*complex(1,(fmin180/ f3))*complex(1,(fmin180/f3)))) -158.97561\n",
    "\n",
    "#answer\n",
    "\n",
    "print \"|a(j∗fmin135)| =\",round(gbp1),\"V/V\"\n",
    "print \"|a(j∗fmin180)| =\",round(gbp2,1),\"V/V\""
   ]
  },
  {
   "cell_type": "markdown",
   "metadata": {},
   "source": [
    "## Example 8.7, Page 368"
   ]
  },
  {
   "cell_type": "code",
   "execution_count": 56,
   "metadata": {
    "collapsed": false
   },
   "outputs": [
    {
     "name": "stdout",
     "output_type": "stream",
     "text": [
      "fd = 233.0 Hz\n"
     ]
    }
   ],
   "source": [
    "import math\n",
    "\n",
    "#Variable Declaration\n",
    "\n",
    "PM=45.0        # degree\n",
    "anganewjfx=-180+PM  # degree\n",
    "a0=3600.0         # V/V\n",
    "f1=1*10**6        # Hz\n",
    "f2=4*10**6        # Hz\n",
    "f3=40*10**6       # Hz\n",
    "\n",
    "#Calculation\n",
    "\n",
    "angajfx=anganewjfx+90\n",
    "fx=683*10**3\n",
    "ajf=a0/(complex(1,(float(fx)/f1))*complex(1,(float(fx)/f2))*complex(1,(float(fx)/f3)))\n",
    "ang=math.degrees(math.atan(ajf.imag/ajf.real))\n",
    "mag=abs(ajf)\n",
    "fd=math.sqrt((fx**2)/((mag**2) -1))\n",
    "\n",
    "#answer\n",
    "\n",
    "print \"fd =\",round(fd),\"Hz\""
   ]
  },
  {
   "cell_type": "markdown",
   "metadata": {},
   "source": [
    "## Example 8.8, Page 269"
   ]
  },
  {
   "cell_type": "code",
   "execution_count": 57,
   "metadata": {
    "collapsed": false
   },
   "outputs": [
    {
     "name": "stdout",
     "output_type": "stream",
     "text": [
      "a)\n",
      "  fd = 10.0 Hz\n",
      "  Cc = 159.0 nF\n",
      "b)\n",
      "  fd = 20.0 Hz\n",
      "  Cc = 79.6 nF\n"
     ]
    }
   ],
   "source": [
    "import math\n",
    "import numpy as np\n",
    "\n",
    "#Variable Declaration\n",
    "\n",
    "rd=1*10**6          # ohm\n",
    "g1=2*10**(-3)       # A/V\n",
    "R1=100*10**(3)      # ohm\n",
    "g2=10*10**(-3)      # A/V\n",
    "R2=50*10**3         # ohm\n",
    "ro=100.0            # ohm\n",
    "f1=100*10**3        # Hz\n",
    "f2=1*10**6          # Hz\n",
    "f3=10*10**3         # Hz\n",
    "PM=45.0             # degree\n",
    "\n",
    "#Calculation\n",
    "\n",
    "a0=g1*R1*g2*R2\n",
    "C1=1/(2*np.pi*f1*R1)\n",
    "b1=1.0\n",
    "f1new1=f2/(b1*a0)\n",
    "Cc1=1/(2*np.pi*R1*f1new1)\n",
    "b2=0.5\n",
    "f1new2=f2/(b2*a0)\n",
    "Cc2=1/(2*np.pi*R1*f1new2)\n",
    "\n",
    "#answer\n",
    "\n",
    "print \"a)\\n  fd =\",round(f1new1),\"Hz\"\n",
    "print \"  Cc =\",round(Cc1*10**9),\"nF\"\n",
    "print \"b)\\n  fd =\",round(f1new2),\"Hz\"\n",
    "print \"  Cc =\",round(Cc2*10**9,1),\"nF\""
   ]
  },
  {
   "cell_type": "markdown",
   "metadata": {},
   "source": [
    "## Example 8.9, Page 370"
   ]
  },
  {
   "cell_type": "code",
   "execution_count": 58,
   "metadata": {
    "collapsed": false
   },
   "outputs": [
    {
     "name": "stdout",
     "output_type": "stream",
     "text": [
      "a)\n",
      "  f1new = 100.0 Hz\n",
      "  f2new = 77.0 MHz\n",
      "  Cc = 32.0 pF\n",
      "b)\n",
      "  f1new = 200.0 Hz\n",
      "  f2new = 71.0 MHz\n",
      "  Cc = 15.9 pF\n"
     ]
    }
   ],
   "source": [
    "import math\n",
    "import numpy as np\n",
    "\n",
    "#Variable Declaration\n",
    "\n",
    "rd=1*10**6            # ohm\n",
    "g1=2*10**(-3)         # A/V\n",
    "R1=100*10**(3)        # ohm\n",
    "g2=10*10**(-3)        # A/v\n",
    "R2=50*10**3           # ohm\n",
    "ro=100.0              # ohm\n",
    "f1=100*10**3          # Hz\n",
    "f2=1*10**6            # Hz\n",
    "f3=10*10**6           # Hz\n",
    "PM=45.0               # degree\n",
    "\n",
    "#Calculation\n",
    "\n",
    "a0=g1*R1*g2*R2\n",
    "C1=1.0/(2*np.pi*f1*R1)\n",
    "b1=1.0\n",
    "C21=1.0/(2*np.pi*f2*R2)\n",
    "f2newap1=g2/(2*np.pi*(C1+C21))\n",
    "fx1=f3\n",
    "f1new1=f3/(b1*a0)\n",
    "Cc1=1.0/(2*np.pi*R1*g2*R2*f1new1)\n",
    "f2new1=(g2*Cc1)/(2*np.pi*((C1*C21)+(Cc1*C1)+(Cc1*C21)))\n",
    "fz1=g2/(2*np.pi*Cc1)\n",
    "b2=0.5\n",
    "C22=1.0/(2*np.pi*f2*R2)\n",
    "f2newap2=g2/(2*np.pi*(C1+C22))\n",
    "fx2=f3\n",
    "f1new2=f3/(b2*a0)\n",
    "Cc2=1.0/(2*np.pi*R1*g2*R2*f1new2)\n",
    "f2new2=(g2*Cc2)/(2*np.pi*((C1*C22)+(Cc2*C1)+(Cc2*C22)) )\n",
    "fz2=g2/(2*np.pi*Cc2)\n",
    "\n",
    "#answer\n",
    "\n",
    "print \"a)\\n  f1new =\",round(f1new1),\"Hz\"\n",
    "print \"  f2new =\",round(f2new1*10**(-6)),\"MHz\"\n",
    "print \"  Cc =\",round(Cc1*10**12),\"pF\"\n",
    "print \"b)\\n  f1new =\",round(f1new2),\"Hz\"\n",
    "print \"  f2new =\",round(f2new2*10**(-6)),\"MHz\"\n",
    "print \"  Cc =\",round(Cc2*10**12,1),\"pF\""
   ]
  },
  {
   "cell_type": "markdown",
   "metadata": {},
   "source": [
    "## Example 8.10, Page 373"
   ]
  },
  {
   "cell_type": "code",
   "execution_count": 59,
   "metadata": {
    "collapsed": false
   },
   "outputs": [
    {
     "name": "stdout",
     "output_type": "stream",
     "text": [
      "CC = 15.9 nF\n",
      "Rc = 10.0 ohm\n",
      "R1 = 100.0 kilo ohm\n",
      "C1 = 15.9 pF\n"
     ]
    }
   ],
   "source": [
    "import math\n",
    "import numpy as np\n",
    "\n",
    "#Variable Declaration\n",
    "\n",
    "PM=45.0        # degree\n",
    "b=1.0\n",
    "rd=1*10**6     #ohm\n",
    "g1=2*10**(-3)   # A/V\n",
    "R1=100*10**(3)  #ohm\n",
    "g2=10*10**(-3)  # A/v\n",
    "R2=50*10**3     #ohm\n",
    "ro=100.0        #ohm\n",
    "f1=100*10**3    # Hz\n",
    "f2=1*10**6      # Hz\n",
    "f3=10*10**6     # Hz\n",
    "\n",
    "#Calculation\n",
    "\n",
    "a0=g1*R1*g2*R2\n",
    "C1=1.0/(2*np.pi*f1*R1)\n",
    "Cc=(b*a0)/(2*np.pi*R1*f3)\n",
    "Rc=1.0/(2*np.pi*Cc*f2)\n",
    "f4=1.0/(2*np.pi*Rc*C1)\n",
    "\n",
    "#answer\n",
    "\n",
    "print \"CC =\",round(Cc*10**9,1),\"nF\"\n",
    "print \"Rc =\",round(Rc),\"ohm\"\n",
    "print \"R1 =\",round(R1*10**(-3),1),\"kilo ohm\"          #The value of R1 is not provided in the textbook\n",
    "print \"C1 =\",round(C1*10**12,1),\"pF\"                   #The value of R1 is not provided in the textbook"
   ]
  },
  {
   "cell_type": "markdown",
   "metadata": {},
   "source": [
    "## Example 8.11, Page 375"
   ]
  },
  {
   "cell_type": "code",
   "execution_count": 60,
   "metadata": {
    "collapsed": false
   },
   "outputs": [
    {
     "name": "stdout",
     "output_type": "stream",
     "text": [
      "a)\n",
      "  Rc = 447.4 ohm\n",
      "b)\n",
      "  DC Gain Error = -0.24 %\n",
      "c)\n",
      "  DC Output Error = 244.0 mV\n",
      "d)\n",
      "  f−3dB = 3.0 MHz\n"
     ]
    }
   ],
   "source": [
    "import math\n",
    "\n",
    "#Variable Declaration\n",
    "\n",
    "a0=10**5           # V/V\n",
    "f1=10*10**3        # Hz\n",
    "f2=3*10**6         # Hz\n",
    "f3=30*10**6        # Hz\n",
    "R1=10*10**3        # ohm\n",
    "R2=100*10**3       # ohm\n",
    "PM=45.0            # degree\n",
    "\n",
    "#Calculation\n",
    "\n",
    "ajf=float(a0)/(complex(1,(float(f2)/f1))*complex(1,(float(f2)/f2))*complex(1,(complex(f2) /f3)))\n",
    "ajf2mag=abs(ajf)\n",
    "Rc1=float(R2)/(ajf2mag -(1+(R2/R1)))\n",
    "Rc2=430.0\n",
    "brec=1+(R2/R1)+(R2/Rc2)\n",
    "a0b=a0/brec\n",
    "dcge=-100.0/(a0b)\n",
    "EI=1*10**(-3)\n",
    "EO=brec*EI\n",
    "fmin3dB=f2\n",
    "\n",
    "#answer\n",
    "\n",
    "print \"a)\\n  Rc =\",round(Rc1,1),\"ohm\"\n",
    "print \"b)\\n  DC Gain Error =\",round(dcge,2),\"%\"\n",
    "print \"c)\\n  DC Output Error =\",round(EO*10**3),\"mV\"\n",
    "print \"d)\\n  f−3dB =\",round(fmin3dB*10**(-6)),\"MHz\""
   ]
  },
  {
   "cell_type": "markdown",
   "metadata": {},
   "source": [
    "## Example 8.12, Page 376"
   ]
  },
  {
   "cell_type": "code",
   "execution_count": 61,
   "metadata": {
    "collapsed": false
   },
   "outputs": [
    {
     "name": "stdout",
     "output_type": "stream",
     "text": [
      "a)\n",
      "  Rc = 447.4 ohm\n",
      "  Cc = 1.186 nF\n",
      "b)\n",
      "  DC Gain Error = -0.011 %\n",
      "c)\n",
      "  DC Output Error = 11.0 mV\n",
      "d)\n",
      "  f−3dB = 3.0 MHz\n",
      "e)\n",
      "  Actual Phase Margin = 34.4 degree\n"
     ]
    }
   ],
   "source": [
    "import math\n",
    "import numpy as np\n",
    "\n",
    "#Variable Declaration\n",
    "\n",
    "a0=10**5           # V/V\n",
    "f1=10*10**3        # Hz\n",
    "f2=3*10**6         # Hz\n",
    "f3=30*10**6        # Hz\n",
    "R1=10*10**3        # ohm\n",
    "R2=100*10**3       # ohm\n",
    "PM=45.0            # degree\n",
    "\n",
    "#Calculation\n",
    "\n",
    "Rc=447.4\n",
    "Cc=5.0/(np.pi*Rc*f2)\n",
    "b0rec=1+(R2/R1)\n",
    "a0b0=a0*(1.0/b0rec)\n",
    "dcge=-100.0/(a0b0)\n",
    "EI=1*10**(-3)\n",
    "EO=b0rec*EI\n",
    "fmin3dB=f2\n",
    "f=2.94*10**6\n",
    "T=(410*complex(1,(float(f)/(0.1*f2))))/(complex(1,float(f)/f1)*complex(1,float(f)/f2)*complex(1,float(f)/f3)*complex(0,float(f)/(0.1*f2)))\n",
    "Tang=-(180-math.degrees(math.atan(T.imag/T.real)))\n",
    "PM1=180+Tang\n",
    "\n",
    "#answer\n",
    "\n",
    "print \"a)\\n  Rc =\",round(Rc,1),\"ohm\"\n",
    "print \"  Cc =\",round(Cc*10**9,3),\"nF\"\n",
    "print \"b)\\n  DC Gain Error =\",round(dcge,3),\"%\"\n",
    "print \"c)\\n  DC Output Error =\",round(EO*10**3),\"mV\"\n",
    "print \"d)\\n  f−3dB =\",round(fmin3dB*10**(-6),1),\"MHz\"\n",
    "print \"e)\\n  Actual Phase Margin =\",round(PM1,1),\"degree\""
   ]
  },
  {
   "cell_type": "markdown",
   "metadata": {},
   "source": [
    "## Example 8.13, Page 379"
   ]
  },
  {
   "cell_type": "code",
   "execution_count": 62,
   "metadata": {
    "collapsed": false
   },
   "outputs": [
    {
     "name": "stdout",
     "output_type": "stream",
     "text": [
      "a)\n",
      "  PM = 0.2 degree indicating a circuit in bad need of compensation. \n",
      "b)\n",
      "  PM after compensation = 52.5 degree\n",
      "c)\n",
      "  f−3dB = 327.0 KHz\n"
     ]
    }
   ],
   "source": [
    "import math\n",
    "import numpy as np\n",
    "\n",
    "#Variable Declaration\n",
    "\n",
    "a0=10**5         # V/V\n",
    "f1=1*10**3       # Hz\n",
    "f2=100*10**3     # Hz\n",
    "f3=5*10**6       # Hz\n",
    "A0=20.0          # V/V\n",
    "R1=1.05*10**3    #  ohm\n",
    "R2=20*10**3      #ohm\n",
    "\n",
    "#Calculation\n",
    "\n",
    "b0=1.0/(1+(R2/R1))\n",
    "a0b0=a0*b0\n",
    "f=700*10**3\n",
    "T=a0b0/(complex(1,float(f)/f1)*complex(1,float(f)/f2)*complex(1,float(f)/ f3))\n",
    "Tang=-(180-math.degrees(math.atan(T.imag/T.real)))\n",
    "PM=180+Tang\n",
    "amod=math.sqrt(20)\n",
    "aang=-192.3\n",
    "fx=1.46*10**6\n",
    "Cf=math.sqrt(1+(R2/R1))/(2*np.pi*R2*fx)\n",
    "PM1=180+aang -(90-(2*(180.0/np.pi)*math.atan(math.sqrt(1+(R2/R1)))))         #radian to degree\n",
    "f3dB=(1/(2*np.pi*R2*Cf))+1000\n",
    "\n",
    "#answer\n",
    "\n",
    "print \"a)\\n  PM =\",round(PM,1),\"degree indicating a circuit in bad need of compensation. \"\n",
    "print \"b)\\n  PM after compensation =\",round(PM1,1),\"degree\"\n",
    "print \"c)\\n  f−3dB =\",round(f3dB*10**(-3)),\"KHz\""
   ]
  },
  {
   "cell_type": "markdown",
   "metadata": {},
   "source": [
    "## Example 8.14, Page 380"
   ]
  },
  {
   "cell_type": "code",
   "execution_count": 63,
   "metadata": {
    "collapsed": false
   },
   "outputs": [
    {
     "name": "stdout",
     "output_type": "stream",
     "text": [
      "a)\n",
      "  Rc = 3.0 kilo ohm\n",
      "  Rf = 12.0 kilo ohm\n",
      "  Cc = 133.0 nF\n",
      "b)\n",
      "  A(jf) = 1/[1+jf/( 4.0 MHz) ] V/V\n"
     ]
    }
   ],
   "source": [
    "import numpy as np\n",
    "import math\n",
    "\n",
    "#Variable Declaration\n",
    "\n",
    "A0=1.0          #V/V\n",
    "brecmin=5.0     #V/V \n",
    "Rc=3*10**3      # ohm\n",
    "\n",
    "#Calculation\n",
    "\n",
    "Rf=Rc*(brecmin -1)\n",
    "GBP=20*10**6\n",
    "fx=(1.0/brecmin)*GBP\n",
    "Cc=brecmin/(np.pi*Rc*fx)\n",
    "\n",
    "#answer\n",
    "\n",
    "print \"a)\\n  Rc =\",round(Rc*10**(-3),2),\"kilo ohm\"\n",
    "print \"  Rf =\",round(Rf*10**(-3)),\"kilo ohm\"\n",
    "print \"  Cc =\",round(Cc*10**12),\"nF\"\n",
    "print \"b)\\n  A(jf) = 1/[1+jf/(\",round(fx*10**(-6)),\"MHz) ] V/V\""
   ]
  },
  {
   "cell_type": "markdown",
   "metadata": {},
   "source": [
    "## Example 8.15, Page 382"
   ]
  },
  {
   "cell_type": "code",
   "execution_count": 64,
   "metadata": {
    "collapsed": false
   },
   "outputs": [
    {
     "name": "stdout",
     "output_type": "stream",
     "text": [
      "Cf = 1.88 pF\n"
     ]
    }
   ],
   "source": [
    "import math\n",
    "import numpy as np\n",
    "\n",
    "#Variable Declaration\n",
    "\n",
    "zo=750*10**3       #ohm\n",
    "fb=200*10**3       # Hz\n",
    "rn=50.0            # ohm\n",
    "R2=1.5*10**3       # ohm\n",
    "Cn=100*10**(-12)   # F\n",
    "PM=45.0            # degree\n",
    "\n",
    "#Calculation\n",
    "\n",
    "Cf=math.sqrt((rn*Cn)/(2*np.pi*R2*zo*fb))\n",
    "\n",
    "#answer\n",
    "\n",
    "print \"Cf =\",round(Cf*10**12,2),\"pF\""
   ]
  },
  {
   "cell_type": "markdown",
   "metadata": {},
   "source": [
    "## Example 8.16, Page 385"
   ]
  },
  {
   "cell_type": "code",
   "execution_count": 65,
   "metadata": {
    "collapsed": false
   },
   "outputs": [
    {
     "name": "stdout",
     "output_type": "stream",
     "text": [
      "a)\n",
      "  Composite Amplifier with feedback Lead Compensation Parameters : \n",
      "  PM = 45.0 degree\n",
      "  T0 = 400000000.0\n",
      "  fB = 100.0 kHZ\n",
      "  Single Op Amp Parameters :\n",
      "  PM = 90.0 degree\n",
      "  T0 = 2000\n",
      "  fB = 10.0 kHZ\n",
      "b)\n",
      "  Cf = 50.8 pF\n",
      "  fp = 31.62 kHz\n",
      "  PM = 78.6 degree\n",
      "c)\n",
      "  Increasing Cf above 50.8 pF will reduce PM until eventually PM = 0 degrees\n",
      "  indicating the overcompensation is decremental\n"
     ]
    }
   ],
   "source": [
    "import math\n",
    "import numpy as np\n",
    "\n",
    "#Variable Declaration\n",
    "\n",
    "R1=1*10**3        # ohm\n",
    "R2=99*10**3       # ohm\n",
    "PM=45.0           # degree\n",
    "ft1=ft2=1*10**6       # Hz\n",
    "\n",
    "#Calculation\n",
    "\n",
    "Cf=math.sqrt((1+(float(R2)/R1))/(ft1*ft2))/(2*np.pi*R2)\n",
    "a0=2*10**5\n",
    "T0=(a0**2)/100\n",
    "fp=(1.0/(2*np.pi*R2*Cf))\n",
    "fB=fp\n",
    "PMs=PM*2\n",
    "T0s=a0/100\n",
    "fBs=ft1/100\n",
    "Cf2=((1+(R2/R1))**(1.0/4))*Cf\n",
    "fp2=(1.0/(2*np.pi*R2*Cf2))\n",
    "fz2=(1+(R2/R1))*fp2\n",
    "fx2=math.sqrt(fp2*fz2)\n",
    "PM2=180-180-((180.0/np.pi)*((math.atan(fx2/fz2))-math.atan(fx2/fp2 )))\n",
    "\n",
    "#answer\n",
    "\n",
    "print \"a)\\n  Composite Amplifier with feedback Lead Compensation Parameters : \"\n",
    "print \"  PM =\",round(PM,1),\"degree\"\n",
    "print \"  T0 =\",round(T0)\n",
    "print \"  fB =\",round(fB*10**(-3),2),\"kHZ\"\n",
    "print \"  Single Op Amp Parameters :\"\n",
    "print \"  PM =\",round(PMs),\"degree\"\n",
    "print \"  T0 =\",T0s\n",
    "print \"  fB =\",round(fBs*10**(-3),2),\"kHZ\"\n",
    "print \"b)\\n  Cf =\",round(Cf2*10**12,1),\"pF\"\n",
    "print \"  fp =\",round(fp2*10**(-3),2),\"kHz\"\n",
    "print \"  PM =\",round(PM2,1),\"degree\"\n",
    "print \"c)\\n  Increasing Cf above\",round(Cf2*10**12,1),\"pF will reduce PM until eventually PM = 0 degrees\"\n",
    "print \"  indicating the overcompensation is decremental\""
   ]
  },
  {
   "cell_type": "markdown",
   "metadata": {},
   "source": [
    "## Example 8.17, Page 386"
   ]
  },
  {
   "cell_type": "code",
   "execution_count": 66,
   "metadata": {
    "collapsed": false
   },
   "outputs": [
    {
     "name": "stdout",
     "output_type": "stream",
     "text": [
      "Components for the Circuit : \n",
      "R1 = 1.0 kilo ohm\n",
      "R2 = 100.0 kilo ohm\n",
      "R3 = 2.0 kilo ohm\n",
      "R4 = 18.0 kilo ohm\n",
      "Associated Parameters with the Circuit : \n",
      "T0 = 2000.0\n",
      "fb = 10.0 kHz\n"
     ]
    }
   ],
   "source": [
    "import math\n",
    "import numpy as np\n",
    "\n",
    "#Variable Declaration\n",
    "\n",
    "dcgain=-100.0     #V/V\n",
    "R1=1*10**3        # ohm\n",
    "\n",
    "#Calculation\n",
    "\n",
    "R2=abs(dcgain)*R1\n",
    "ft1=1*10**6\n",
    "ft2=ft1\n",
    "R4R3rat=math.sqrt((ft2/ft1)*(1+(R2/R1)))-1\n",
    "R3=2*10**3\n",
    "R4=R3*R4R3rat\n",
    "a0=2*10**5\n",
    "T0=a0*(1+(R4/R3))/(1+(R2/R1))\n",
    "fB=ft1/10\n",
    "PM=90.0\n",
    "T0s=a0/(1+(R2/R1))/(10**3)\n",
    "fBs=ft1/100\n",
    "\n",
    "#answer\n",
    "\n",
    "print \"Components for the Circuit : \"\n",
    "print \"R1 =\",round(R1*10**(-3)),\"kilo ohm\"\n",
    "print \"R2 =\",round(R2*10**(-3)),\"kilo ohm\"\n",
    "print \"R3 =\",round(R3*10**(-3)),\"kilo ohm\"\n",
    "print \"R4 =\",round(R4*10**(-3)),\"kilo ohm\"\n",
    "print \"Associated Parameters with the Circuit : \"\n",
    "print \"T0 =\",round(T0s)*10**3\n",
    "print \"fb =\",round(fBs*10**(-3)),\"kHz\""
   ]
  }
 ],
 "metadata": {
  "kernelspec": {
   "display_name": "Python 2",
   "language": "python",
   "name": "python2"
  },
  "language_info": {
   "codemirror_mode": {
    "name": "ipython",
    "version": 2
   },
   "file_extension": ".py",
   "mimetype": "text/x-python",
   "name": "python",
   "nbconvert_exporter": "python",
   "pygments_lexer": "ipython2",
   "version": "2.7.10"
  }
 },
 "nbformat": 4,
 "nbformat_minor": 0
}
