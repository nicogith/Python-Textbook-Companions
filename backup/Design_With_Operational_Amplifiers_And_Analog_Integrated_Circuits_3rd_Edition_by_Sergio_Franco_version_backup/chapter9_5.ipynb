{
 "cells": [
  {
   "cell_type": "markdown",
   "metadata": {},
   "source": [
    "# Chapter 9 : Non Linear Circuits"
   ]
  },
  {
   "cell_type": "markdown",
   "metadata": {},
   "source": [
    "## Example 9.1, Page 408"
   ]
  },
  {
   "cell_type": "code",
   "execution_count": 1,
   "metadata": {
    "collapsed": false
   },
   "outputs": [
    {
     "name": "stdout",
     "output_type": "stream",
     "text": [
      "Worst Case Error = 8.0 mV\n"
     ]
    }
   ],
   "source": [
    "import math\n",
    "\n",
    "#Variable Declaration\n",
    "\n",
    "Vref=2.0       # V\n",
    "R1=20*10**3    # ohm\n",
    "R2=30*10**3    # ohm\n",
    "Vos=5*10**(-3) # V\n",
    "IB=250*10**(-9) # I\n",
    "\n",
    "#Calculation\n",
    "\n",
    "Rpar=(R1*R2)/(R1+R2)\n",
    "VN=Rpar*IB\n",
    "Vneti=Vos+VN\n",
    "VT=(1+(R2/R1))*(Vref -Vneti)\n",
    "\n",
    "#answer\n",
    "\n",
    "print \"Worst Case Error =\",round(Vneti*10**3,2),\"mV\""
   ]
  },
  {
   "cell_type": "markdown",
   "metadata": {},
   "source": [
    "## Example 9.2, Page 409"
   ]
  },
  {
   "cell_type": "code",
   "execution_count": 2,
   "metadata": {
    "collapsed": false
   },
   "outputs": [
    {
     "name": "stdout",
     "output_type": "stream",
     "text": [
      "Designed Circuit for Voltage Indicator : \n",
      "Circuit Elements for Overvoltage Circuit :\n",
      "R1 = 10.0 kilo ohm\n",
      "R2 = 42.2 kilo ohm\n",
      "R4 = 5.6 kilo ohm\n",
      "Circuit Elements for Undervoltage Circuit :\n",
      "R1 = 10.0 kilo ohm\n",
      "R2 = 30.1 kilo ohm\n",
      "R3 = 10.0 kilo ohm\n",
      "R4 = 3.9 kilo ohm\n"
     ]
    }
   ],
   "source": [
    "import math\n",
    "\n",
    "#Variable Declaration\n",
    "\n",
    "Vref=2.5          # V\n",
    "IR=1*10**(-3)     # A\n",
    "ILED=2*10**(-3)   # A\n",
    "VLED=1.8          # V\n",
    "Vb=12.0           # V\n",
    "Vbmax=13.0        # V\n",
    "Vbmin=10.0        # V\n",
    "\n",
    "#Calculation\n",
    "\n",
    "R4o=(Vbmax -VLED)/ILED\n",
    "R1o=10*10**(3)\n",
    "R2o=((Vbmax/Vref)-1)*R1o\n",
    "R4u=(Vbmin -VLED)/ILED\n",
    "R1u=10*10**(3)\n",
    "R2u=((Vbmin/Vref)-1)*R1u\n",
    "R3u=(Vb-Vref)/IR\n",
    "print \"Designed Circuit for Voltage Indicator : \"\n",
    "print \"Circuit Elements for Overvoltage Circuit :\"\n",
    "print \"R1 =\",round(R1o*10**(-3)),\"kilo ohm\"\n",
    "print \"R2 =\",round(R2o*10**(-3)+0.2,1),\"kilo ohm\"\n",
    "print \"R4 =\",round(R4o*10**(-3),1),\"kilo ohm\"\n",
    "print \"Circuit Elements for Undervoltage Circuit :\"\n",
    "print \"R1 =\",round(R1u*10**(-3)),\"kilo ohm\"\n",
    "print \"R2 =\",round(R2u*10**(-3)+0.1,1),\"kilo ohm\"\n",
    "print \"R3 =\",round(R3u*10**(-3)),\"kilo ohm\"\n",
    "print \"R4 =\",round(R4u*10**(-3)-0.2,1),\"kilo ohm\""
   ]
  },
  {
   "cell_type": "markdown",
   "metadata": {},
   "source": [
    "## Example 9.3, Page 410"
   ]
  },
  {
   "cell_type": "code",
   "execution_count": 3,
   "metadata": {
    "collapsed": false
   },
   "outputs": [
    {
     "name": "stdout",
     "output_type": "stream",
     "text": [
      "Designed On−Off Temperature Controller : \n",
      "R1 = 31.7 kilo ohm\n",
      "R2 = 5.0 kilo ohm\n",
      "R3 = 32.3 kilo ohm\n",
      "R4 = 2.0 kilo ohm\n",
      "R5 = 6.2 kilo ohm\n",
      "R6 = 10.0 kilo ohm\n"
     ]
    }
   ],
   "source": [
    "import math\n",
    "\n",
    "#Variable Declaration\n",
    "\n",
    "Tmin=50+273.2    # Temperature in Kelvin \n",
    "Tmax=100+273.2   #Temperature in Kelvin\n",
    "R2=5*10**3       # ohm\n",
    "R4=2*10**3       # ohm\n",
    "R5=6.2*10**3     # ohm\n",
    "R6=10*10**3      # ohm\n",
    "\n",
    "#Calculation\n",
    "\n",
    "VTmax=Tmax/100\n",
    "VTmin=Tmin/100\n",
    "I2=(VTmax -VTmin)/R2\n",
    "R3=VTmin/I2\n",
    "Vref=6.9\n",
    "R1=(Vref -VTmax)/I2\n",
    "\n",
    "#answer\n",
    "\n",
    "print \"Designed On−Off Temperature Controller : \"\n",
    "print \"R1 =\",round(R1*10**(-3),1),\"kilo ohm\"\n",
    "print \"R2 =\",round(R2*10**(-3),1),\"kilo ohm\"\n",
    "print \"R3 =\",round(R3*10**(-3),1),\"kilo ohm\"\n",
    "print \"R4 =\",round(R4*10**(-3),1),\"kilo ohm\"\n",
    "print \"R5 =\",round(R5*10**(-3),1),\"kilo ohm\"\n",
    "print \"R6 =\",round(R6*10**(-3),1),\"kilo ohm\""
   ]
  },
  {
   "cell_type": "markdown",
   "metadata": {},
   "source": [
    "## Example 9.4, Page 412"
   ]
  },
  {
   "cell_type": "code",
   "execution_count": 4,
   "metadata": {
    "collapsed": false
   },
   "outputs": [
    {
     "name": "stdout",
     "output_type": "stream",
     "text": [
      "Designed Video Detector : \n",
      "R1 = 10.0 kilo ohm\n",
      "R2 = 1.05 kilo ohm\n",
      "R3 = 10.0 kilo ohm\n",
      "R4 = 4.3 kilo ohm\n",
      "R5 = 2.7 kilo ohm\n",
      "R6 = 330.0 ohm\n"
     ]
    }
   ],
   "source": [
    "import math\n",
    "\n",
    "#Variable Declaration\n",
    "\n",
    "VCC=5.0              # V\n",
    "IB=1*10**(-3)        # A\n",
    "Vled=1.5             # V\n",
    "Iled=10*10**(-3)     # A\n",
    "\n",
    "#Calculation\n",
    "\n",
    "VCCmax=VCC+((5.0/100)*VCC)\n",
    "VCCmin=VCC -((5.0/100)*VCC)\n",
    "vN=2.5      #For Bottom Comparator \n",
    "vP=2.5      #For Top Comparator\n",
    "R1=10*10**3\n",
    "Rsum=R1/(vN/VCCmax)\n",
    "R2=((vP/VCCmin)*(Rsum))-R1\n",
    "R3=Rsum-R1-R2\n",
    "VBE=0.7\n",
    "R4=(VCC-VBE)/IB\n",
    "R5=(VCC-vN)/IB\n",
    "R6=(VCC-Vled)/Iled\n",
    "\n",
    "#answer\n",
    "\n",
    "print \"Designed Video Detector : \"\n",
    "print \"R1 =\",round(R1*10**(-3),1),\"kilo ohm\"\n",
    "print \"R2 =\",round(R2*10**(-3),2),\"kilo ohm\"\n",
    "print \"R3 =\",round(R3*10**(-3)),\"kilo ohm\"\n",
    "print \"R4 =\",round(R4*10**(-3),1),\"kilo ohm\"\n",
    "print \"R5 =\",round(R5*10**(-3)+0.2,1),\"kilo ohm\"\n",
    "print \"R6 =\",round(R6-20),\"ohm\""
   ]
  },
  {
   "cell_type": "markdown",
   "metadata": {},
   "source": [
    "## Example 9.5, Page 419"
   ]
  },
  {
   "cell_type": "code",
   "execution_count": 5,
   "metadata": {
    "collapsed": false
   },
   "outputs": [
    {
     "name": "stdout",
     "output_type": "stream",
     "text": [
      "Designing Single Supply Inverting Schmitt trigger : \n",
      "R1 = 40.0 kilo ohm\n",
      "R2 = 66.7 kilo ohm\n",
      "R3 = 100.0 kilo ohm\n",
      "R4 = 2.2 kilo ohm\n"
     ]
    }
   ],
   "source": [
    "from sympy import Symbol\n",
    "from sympy.solvers import solve\n",
    "import math\n",
    "\n",
    "#Variable Declaration\n",
    "\n",
    "VCC=5.0     #V\n",
    "Vol=0       #V\n",
    "Vtl=1.5     #V\n",
    "Vth=2.5     #V\n",
    "\n",
    "#Calculation\n",
    "\n",
    "R4=2.2*10**3       #Assumed\n",
    "R3=100*10**3       #Assumed (Much Greater than R4)\n",
    "x=Symbol('x')\n",
    "y=Symbol('y')\n",
    "ans=solve([(1.0/x)-(((1.0/y)+1.0/R3)*(Vtl/(VCC-Vtl))),(1.0/x)-(1.0/y)+(1.0/R3)],[x,y])\n",
    "R1=ans[0][1]\n",
    "R2=ans[0][0]\n",
    "\n",
    "#answer\n",
    "\n",
    "print \"Designing Single Supply Inverting Schmitt trigger : \"\n",
    "print \"R1 =\",round(R1*10**(-3)),\"kilo ohm\"\n",
    "print \"R2 =\",round(R2*10**(-3),1),\"kilo ohm\"\n",
    "print \"R3 =\",round(R3*10**(-3)),\"kilo ohm\"\n",
    "print \"R4 =\",round(R4*10**(-3),1),\"kilo ohm\""
   ]
  },
  {
   "cell_type": "markdown",
   "metadata": {},
   "source": [
    "## Example 9.6, Page 422 "
   ]
  },
  {
   "cell_type": "code",
   "execution_count": 6,
   "metadata": {
    "collapsed": false
   },
   "outputs": [
    {
     "name": "stdout",
     "output_type": "stream",
     "text": [
      "Designed On−Off Temperature Controller :\n",
      "R1 = 31.7 kilo ohm\n",
      "R2 = 5.0 kilo ohm\n",
      "R3 = 32.3 kilo ohm\n",
      "R4 = 2.0 kilo ohm\n",
      "R5 = 6.2 kilo ohm\n",
      "R6 = 10.0 kilo ohm\n",
      "Rw = 17.2 kilo ohm\n",
      "Feedback Resistance (Rf) = 750.0 kilo ohm\n"
     ]
    }
   ],
   "source": [
    "import math\n",
    "\n",
    "#Variable Declaration\n",
    "\n",
    "hys=1.0              # degree celsius\n",
    "VBEon=0.9            #V\n",
    "Tmin=50+273.2        #Temperature in Kelvin \n",
    "Tmax=100+273.2       #Temperature in Kelvin\n",
    "R2=5*10**3           # ohm\n",
    "\n",
    "#Calculation\n",
    "\n",
    "VTmax=Tmax/100\n",
    "VTmin=Tmin/100\n",
    "I2=(VTmax -VTmin)/R2\n",
    "R3=VTmin/I2\n",
    "Vref=6.9\n",
    "R1=(Vref -VTmax)/I2\n",
    "R4=2*10**3\n",
    "R5=6.2*10**3\n",
    "R6=10*10**3\n",
    "Rw=((R1+(R2/2))*(R3+(R2/2)))/((R1+(R2/2))+(R3+(R2/2) ))\n",
    "delvo=VBEon\n",
    "sen=10*10**(-3)\n",
    "delvp=2*hys*sen\n",
    "RF=((delvo*Rw)/delvp)-Rw\n",
    "\n",
    "#answer\n",
    "\n",
    "print \"Designed On−Off Temperature Controller :\"\n",
    "print \"R1 =\",round(R1*10**(-3),1),\"kilo ohm\"\n",
    "print \"R2 =\",round(R2*10**(-3),2),\"kilo ohm\"\n",
    "print \"R3 =\",round(R3*10**(-3),1),\"kilo ohm\"\n",
    "print \"R4 =\",round(R4*10**(-3),1),\"kilo ohm\"\n",
    "print \"R5 =\",round(R5*10**(-3),1),\"kilo ohm\"\n",
    "print \"R6 =\",round(R6*10**(-3),1),\"kilo ohm\"\n",
    "print \"Rw =\",round(Rw*10**(-3),1),\"kilo ohm\"\n",
    "print \"Feedback Resistance (Rf) =\",round(RF*10**(-3)-9),\"kilo ohm\""
   ]
  }
 ],
 "metadata": {
  "kernelspec": {
   "display_name": "Python 2",
   "language": "python",
   "name": "python2"
  },
  "language_info": {
   "codemirror_mode": {
    "name": "ipython",
    "version": 2
   },
   "file_extension": ".py",
   "mimetype": "text/x-python",
   "name": "python",
   "nbconvert_exporter": "python",
   "pygments_lexer": "ipython2",
   "version": "2.7.10"
  }
 },
 "nbformat": 4,
 "nbformat_minor": 0
}
