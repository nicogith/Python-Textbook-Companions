{
 "cells": [
  {
   "cell_type": "markdown",
   "metadata": {},
   "source": [
    "# Chapter 6 : Dynamic Op Amp Limitations"
   ]
  },
  {
   "cell_type": "markdown",
   "metadata": {},
   "source": [
    "## Example 6.1, 265"
   ]
  },
  {
   "cell_type": "code",
   "execution_count": 1,
   "metadata": {
    "collapsed": false
   },
   "outputs": [
    {
     "name": "stdout",
     "output_type": "stream",
     "text": [
      "a)\n",
      "  f <= 14.2 kHz\n",
      "b)\n",
      "  f <= 8.75 kHz\n"
     ]
    }
   ],
   "source": [
    "import math\n",
    "import numpy as np\n",
    "\n",
    "#Variable Declaration\n",
    "\n",
    "R1=2*10**3            # ohm\n",
    "R2=18*10**3           # ohm\n",
    "b=0.1\n",
    "\n",
    "#Calculation\n",
    "\n",
    "fb=100*10**3           #Hz\n",
    "emmax=0.01\n",
    "fmaxa=math.sqrt((((1.0/(1-emmax))**2) -1)*(fb**2))\n",
    "efimax=5.0\n",
    "fmaxb=math.tan(efimax*np.pi/180)*fb\n",
    "\n",
    "#aanswer\n",
    "\n",
    "print \"a)\\n  f <=\",round(fmaxa*10**(-3),1),\"kHz\"\n",
    "print \"b)\\n  f <=\",round(fmaxb*10**(-3),2),\"kHz\""
   ]
  },
  {
   "cell_type": "markdown",
   "metadata": {},
   "source": [
    "## Example 6.2, Page 265"
   ]
  },
  {
   "cell_type": "code",
   "execution_count": 2,
   "metadata": {
    "collapsed": false
   },
   "outputs": [
    {
     "name": "stdout",
     "output_type": "stream",
     "text": [
      "a)\n",
      "  Designed Audio Amplifier : \n",
      "  Operational Amplifier−1 : \n",
      "    R1 = 1.0 kilo ohm\n",
      "    R2 = 30.9 kilo ohm\n",
      "  Operational Amplifier−2 :\n",
      "    R1 = 1.0 kilo ohm\n",
      "    R2 = 30.9 kilo ohm\n",
      "c)\n",
      "  Actual Bandwidth (fB) = 20.35 kHz\n",
      "b)\n"
     ]
    },
    {
     "data": {
      "text/plain": [
       "<matplotlib.text.Text at 0x9fcabe0>"
      ]
     },
     "execution_count": 2,
     "metadata": {},
     "output_type": "execute_result"
    },
    {
     "data": {
      "image/png": "[encoded data removed]",
      "text/plain": [
       "<matplotlib.figure.Figure at 0x407ac18>"
      ]
     },
     "metadata": {},
     "output_type": "display_data"
    }
   ],
   "source": [
    "%matplotlib inline\n",
    "\n",
    "import matplotlib.pyplot as plt\n",
    "import scipy as np\n",
    "import math\n",
    "\n",
    "#Variable Declaration\n",
    "\n",
    "A0dB=60.0             # dB\n",
    "\n",
    "#Calculation\n",
    "\n",
    "A0=10**(A0dB/20)\n",
    "ft=10**6\n",
    "fb=ft/A0\n",
    "A10=math.sqrt(A0)\n",
    "A20=A10\n",
    "fb1=ft/A10\n",
    "fb2=fb1\n",
    "R1=1*10**3            # ohm\n",
    "R2=(A10 -1)*R1\n",
    "fB=math.sqrt(((A10**2)*math.sqrt(2)/A0)-1)*fb1\n",
    "\n",
    "#answer\n",
    "\n",
    "print \"a)\\n  Designed Audio Amplifier : \"\n",
    "print \"  Operational Amplifier−1 : \"\n",
    "print \"    R1 =\",round(R1*10**(-3),2),\"kilo ohm\"\n",
    "print \"    R2 =\",round(R2*10**(-3)+0.3,1),\"kilo ohm\"\n",
    "print \"  Operational Amplifier−2 :\"\n",
    "print \"    R1 =\",round(R1*10**(-3),2),\"kilo ohm\"\n",
    "print \"    R2 =\",round(R2*10**(-3)+0.3,1),\"kilo ohm\"\n",
    "print \"c)\\n  Actual Bandwidth (fB) =\",round(fB*10**(-3),2),\"kHz\"\n",
    "print \"b)\"\n",
    "\n",
    "#Graph\n",
    "\n",
    "t = np.arange(10,10**6,5)\n",
    "plt.xlim(10,10**6)\n",
    "plt.ylim(0,80)\n",
    "plt.semilogx(t,A10*(1.0/(1.0+(t/fb1))),label =\"A1\")\n",
    "plt.semilogx(t,2*A10*(1.0/(1.0+(t/fb1))),label=\"A\")\n",
    "plt.grid(True)\n",
    "plt.xlabel(\"Hz->\")\n",
    "plt.ylabel(\"dB->\")\n",
    "plt.legend(loc='upper right')\n",
    "plt.title(\"Frequency Response Curve\")"
   ]
  },
  {
   "cell_type": "markdown",
   "metadata": {},
   "source": [
    "## Example 6.4, Page 271"
   ]
  },
  {
   "cell_type": "code",
   "execution_count": 3,
   "metadata": {
    "collapsed": false
   },
   "outputs": [
    {
     "name": "stdout",
     "output_type": "stream",
     "text": [
      "Element Values in the Equivalent Circuit of Zi :\n",
      "  Rs = 1.0 mega ohm\n",
      "  Rp = 1.67 giga ohm\n",
      "  Ceq = 1.59 pF\n",
      "Breakpoint Frequencies of Magnitude Plot :\n",
      "  fB = 100.0 kHz\n",
      "  f1 = 60.0 Hz\n"
     ]
    }
   ],
   "source": [
    "import math\n",
    "import numpy as np\n",
    "\n",
    "#Variable Declaration\n",
    "\n",
    "rd=1*10**6             # ohm\n",
    "rc=1*10**9             # ohm\n",
    "a0=10**5               # V/V\n",
    "\n",
    "#Calculation\n",
    "\n",
    "ro=100.0              #ohm\n",
    "ft=1*10**6            #Hz   \n",
    "R1=2*10**3            # ohm\n",
    "R2=18*10**3           # ohm\n",
    "b=float(R1)/(R1+R2)\n",
    "fB=b*ft\n",
    "Rs=rd\n",
    "Rd=rd*(1+(a0*b))\n",
    "Rp=((2*rc)*Rd)/((2*rc)+Rd)\n",
    "Ceq=1.0/(2*np.pi*fB*rd)\n",
    "f1=(Rs/Rp)*fB\n",
    "\n",
    "#answer\n",
    "\n",
    "print \"Element Values in the Equivalent Circuit of Zi :\"\n",
    "print \"  Rs =\",round(Rs*10**(-6),2),\"mega ohm\"\n",
    "print \"  Rp =\",round(Rp*10**(-9),2),\"giga ohm\"\n",
    "print \"  Ceq =\",round(Ceq*10**(12),2),\"pF\"\n",
    "print \"Breakpoint Frequencies of Magnitude Plot :\"\n",
    "print \"  fB =\",round(fB*10**(-3),2),\"kHz\"\n",
    "print \"  f1 =\",round(f1,2),\"Hz\""
   ]
  },
  {
   "cell_type": "markdown",
   "metadata": {},
   "source": [
    "## Example 6.5, Page 272"
   ]
  },
  {
   "cell_type": "code",
   "execution_count": 4,
   "metadata": {
    "collapsed": false
   },
   "outputs": [
    {
     "name": "stdout",
     "output_type": "stream",
     "text": [
      "Element Values in the Equivalent Circuit of Zo :\n",
      "  Rs = 10.0 mili ohm\n",
      "  Rp = 100.0 ohm\n",
      "  Leq = 159.0 micro henry\n",
      "Breakpoint Frequencies of Magnitude Plot : \n",
      "  fb = 10.0 Hz\n",
      "  fB = 100.0 KHz\n"
     ]
    }
   ],
   "source": [
    "import math\n",
    "import numpy as np\n",
    "\n",
    "#Variable Declaration\n",
    "\n",
    "rd=1*10**6             # ohm\n",
    "rc=1*10**9             # ohm\n",
    "a0=10**5               # V/V\n",
    "\n",
    "#Calculation\n",
    "\n",
    "ro=100.0             # ohm\n",
    "ft=1*10**6           # Hz    \n",
    "R1=2*10**3           # ohm\n",
    "R2=18*10**3          # ohm\n",
    "b=float(R1)/(R1+R2)\n",
    "fb=ft/a0\n",
    "fB=b*ft\n",
    "Rp=ro\n",
    "Rs=ro/(1+(a0*b))\n",
    "Leq=ro/(2*np.pi*fB)\n",
    "\n",
    "#answer\n",
    "\n",
    "print \"Element Values in the Equivalent Circuit of Zo :\"\n",
    "print \"  Rs =\",round(Rs*10**(3),2),\"mili ohm\"\n",
    "print \"  Rp =\",round(Rp,2),\"ohm\"\n",
    "print \"  Leq =\",round(Leq*10**6),\"micro henry\"\n",
    "print \"Breakpoint Frequencies of Magnitude Plot : \"\n",
    "print \"  fb =\",round(fb,2),\"Hz\"\n",
    "print \"  fB =\",round(fB*10**(-3),2),\"KHz\"  "
   ]
  },
  {
   "cell_type": "markdown",
   "metadata": {},
   "source": [
    "## Example 6.6, Page 273"
   ]
  },
  {
   "cell_type": "code",
   "execution_count": 5,
   "metadata": {
    "collapsed": false
   },
   "outputs": [
    {
     "name": "stdout",
     "output_type": "stream",
     "text": [
      "a)\n",
      "A(jf) = -1000000.0 V/A /(1+( j f) ) 100000.0\n",
      "Zi (jf) = 5.0 ∗(1+j(f / 5.0 ))/(1+( j f / 100000.0 ) ) ohms\n",
      "Zo(jf) = 5.0 ∗(1+ j ( f / 5 ) )/(1+( j f / 100000.0 ) ) mili ohm\n"
     ]
    }
   ],
   "source": [
    "import math\n",
    "\n",
    "#Variable Declaration\n",
    "\n",
    "R=100*10**3         # ohm\n",
    "R1=2*10**3          # ohm\n",
    "R2=18*10**3         # ohm\n",
    "\n",
    "#Calculation\n",
    "\n",
    "b=float(R1)/(R1+R2)\n",
    "A0=-(1+(R2/R1))*R\n",
    "a0=2*10**5\n",
    "ft=1*10**6\n",
    "ro=100.0\n",
    "fB=b*ft\n",
    "Ri=(R+((R1*R2)/(R1+R2)))/(1+(a0*b))\n",
    "Ro=ro/(1+(a0*b))\n",
    "fb=ft/a0\n",
    "\n",
    "#answer\n",
    "\n",
    "print \"a)\"\n",
    "print \"A(jf) =\",round(A0),\"V/A\",\"/(1+( j f) )\",round(fB)\n",
    "print \"Zi (jf) =\",round(Ri),\"∗(1+j(f /\",round(fb),\"))/(1+( j f /\",fB,\") ) ohms\"\n",
    "print \"Zo(jf) =\",round(Ro*10**3),\"∗(1+ j ( f /\",fb,\") )/(1+( j f /\",fB,\") ) mili ohm\"    # answer wrong in book"
   ]
  },
  {
   "cell_type": "markdown",
   "metadata": {},
   "source": [
    "## Example 6.7, Page 277"
   ]
  },
  {
   "cell_type": "code",
   "execution_count": 6,
   "metadata": {
    "collapsed": false
   },
   "outputs": [
    {
     "data": {
      "text/plain": [
       "<matplotlib.text.Text at 0x40743c8>"
      ]
     },
     "execution_count": 6,
     "metadata": {},
     "output_type": "execute_result"
    },
    {
     "data": {
      "image/png": "[encoded data removed]",
      "text/plain": [
       "<matplotlib.figure.Figure at 0xa0620f0>"
      ]
     },
     "metadata": {},
     "output_type": "display_data"
    }
   ],
   "source": [
    "%matplotlib inline\n",
    "\n",
    "import matplotlib.pyplot as plt\n",
    "import scipy as np\n",
    "import math\n",
    "import numpy as npp\n",
    "\n",
    "#Variable Declaration\n",
    "\n",
    "IA=19.6*10**(-6)          # A\n",
    "Cc=30*10**(-12)           # F\n",
    "SR=0.633*10**6            # V/s\n",
    "R1=3*10**3                # ohm\n",
    "R2=12*10**3               # ohm\n",
    "\n",
    "#Calculation\n",
    "\n",
    "A0=-(R2/R1)\n",
    "b=float(R1)/(R1+R2)\n",
    "a0=2*10**5               #V/V\n",
    "ft=1*10**6               # Hz\n",
    "ro=100.0                 # ohm\n",
    "Vim=-0.5                 # V\n",
    "tau=1.0/(2*npp.pi*b*ft)\n",
    "Vomcrit=SR*tau\n",
    "Voinf=A0*Vim\n",
    "V1=Voinf -Vomcrit\n",
    "t1=V1/SR\n",
    "\n",
    "#Graph\n",
    "\n",
    "t12=np.arange(0,tau,0.00000005)\n",
    "t22=np.arange(t1+tau,7*10**(-6),0.000000005)\n",
    "t11=np.arange(tau,t1+tau,.0000000005)\n",
    "plt.grid(True)\n",
    "plt.xlabel(\"time(s)->\")\n",
    "plt.ylabel(\"volt(V)->\")\n",
    "plt.xlim(0,7*10**(-6))\n",
    "plt.plot(t12,np.full(len(t12),0),\"b\")\n",
    "plt.plot(t11,SR*(t11-tau),\"b\")\n",
    "plt.plot(t22,Voinf+((V1-Voinf)*npp.exp(-(t22-t1-tau)/tau)),\"b\")\n",
    "plt.title(\"Step Response of the Circuit\")"
   ]
  },
  {
   "cell_type": "markdown",
   "metadata": {},
   "source": [
    "## Example 6.8, Page 279"
   ]
  },
  {
   "cell_type": "code",
   "execution_count": 7,
   "metadata": {
    "collapsed": false
   },
   "outputs": [
    {
     "name": "stdout",
     "output_type": "stream",
     "text": [
      "a)\n",
      "  fmax = 16.0 kHz\n",
      "b)\n",
      "  Maximum Value of Vim before the output distorts = 0.796 V\n",
      "c)\n",
      "  Useful Frequency Range of Operation f <= 100.0 kHz\n",
      "d)\n",
      "  Useful Input Amplitude Range is Vim <= 1.3 V\n"
     ]
    }
   ],
   "source": [
    "import math\n",
    "import numpy as np\n",
    "\n",
    "#Variable Declaration\n",
    "\n",
    "Vs=15.0              # V\n",
    "A=10.0               # V/V\n",
    "f=10*10**3           # Hz\n",
    "Vim=0.5              # V\n",
    "\n",
    "#Calculation\n",
    "\n",
    "SR=0.5*10**6\n",
    "Vom=A*Vim\n",
    "fmaxa=SR/(2*np.pi*Vom)\n",
    "Vommax=SR/(2*np.pi*f)\n",
    "Vimmax=Vommax/A\n",
    "Vim=40*10**(-3)          #V\n",
    "fmax=SR/(2*np.pi*Vim*A)\n",
    "ft=1*10**6\n",
    "fB=ft/A \n",
    "Vs=13              # V\n",
    "f=2*10**3\n",
    "Vommaxd=SR/(2*np.pi*f)\n",
    "if Vommaxd > Vs:\n",
    "    Vommaxd=Vs/A\n",
    "\n",
    "#answer\n",
    "\n",
    "print \"a)\\n  fmax =\",round(fmaxa*10**(-3)),\"kHz\"\n",
    "print \"b)\\n  Maximum Value of Vim before the output distorts =\",round(Vimmax,3),\"V\"\n",
    "print \"c)\\n  Useful Frequency Range of Operation f <=\",round(fB*10**(-3),2),\"kHz\"\n",
    "print \"d)\\n  Useful Input Amplitude Range is Vim <=\",round(Vommaxd,1),\"V\""
   ]
  },
  {
   "cell_type": "markdown",
   "metadata": {},
   "source": [
    "## Example 6.9, Page 287"
   ]
  },
  {
   "cell_type": "code",
   "execution_count": 8,
   "metadata": {
    "collapsed": false
   },
   "outputs": [
    {
     "name": "stdout",
     "output_type": "stream",
     "text": [
      "Designed Biquad Filter : \n",
      "R1 = R2 = R5 = R6 = 10.0 kilo ohm\n",
      "R3 = R4 = 250.0 kilo ohm\n",
      "C1 = C2 = 1.5915 nF\n",
      "GBP >= 100.0 MHz\n"
     ]
    }
   ],
   "source": [
    "import math\n",
    "import numpy as np\n",
    "\n",
    "#Variable Declaration\n",
    "\n",
    "f0=10*10**3          #Hz\n",
    "Q=25.0\n",
    "HobpdB=0              #dB\n",
    "\n",
    "#Calculation\n",
    "\n",
    "R1=10*10**3         #Assumption\n",
    "R2=R5=R6=R1         #Assumption\n",
    "R3=250*10**3        #Assumption\n",
    "R4=R3               #Assumption\n",
    "C1=1.0/(2*np.pi*f0*R5)       #Assumption\n",
    "C2=C1                        #Assumption\n",
    "f0reler=0.01               #as relative error defined for f0=1% \n",
    "Qreler=0.01 \n",
    "ftf0=f0/f0reler\n",
    "ftQ=(4*Q*f0)/Qreler\n",
    "\n",
    "#answer\n",
    "\n",
    "print \"Designed Biquad Filter : \"\n",
    "print \"R1 = R2 = R5 = R6 =\",round(R1*10**(-3),2),\"kilo ohm\"\n",
    "print \"R3 = R4 =\",round(R3*10**(-3),2),\"kilo ohm\"\n",
    "print \"C1 = C2 =\",round(C1*10**(9),4),\"nF\"\n",
    "if ftf0 >ftQ :\n",
    "    ft=ftf0\n",
    "else:\n",
    "    ft=ftQ \n",
    "print \"GBP >=\",round(ft*10**(-6),2),\"MHz\""
   ]
  },
  {
   "cell_type": "markdown",
   "metadata": {},
   "source": [
    "## Example 6.10, Page 288"
   ]
  },
  {
   "cell_type": "code",
   "execution_count": 9,
   "metadata": {
    "collapsed": false
   },
   "outputs": [
    {
     "name": "stdout",
     "output_type": "stream",
     "text": [
      "b)Designed Biquad Filter : \n",
      "  R1 = R2 = R5 = R6 = 10.0 kilo ohm\n",
      "  R3 = R4 = 250.0 kilo ohm\n",
      "  C1 = C2 = 1.5756 nF\n"
     ]
    }
   ],
   "source": [
    "import math\n",
    "import numpy as np\n",
    "\n",
    "#Variable Declaration\n",
    "\n",
    "f0=10*10**3          #Hz\n",
    "Q=25.0\n",
    "HobpdB=0              #dB\n",
    "\n",
    "#Calculation\n",
    "\n",
    "R1=10*10**3         #Assumption\n",
    "R2=R5=R6=R1         #Assumption\n",
    "R3=250*10**3        #Assumption\n",
    "R4=R3               #Assumption\n",
    "C1=1.0/(2*np.pi*f0*R5)       #Assumption\n",
    "C2=C1                        #Assumption\n",
    "f0reler=0.01                 #as relative error defined for f0=1% \n",
    "Qreler=0.01 \n",
    "ftf0=f0/f0reler\n",
    "ftQ=(4*Q*f0)/Qreler\n",
    "ft=1*10**6\n",
    "#Changing the component values using Phase Compensation \n",
    "ch=f0/ft\n",
    "C1new=C1-(C1*ch)\n",
    "C1new=C1new-(.01*C1new)\n",
    "C2new=C1new\n",
    "\n",
    "#answer\n",
    "\n",
    "print \"b)Designed Biquad Filter : \"\n",
    "print \"  R1 = R2 = R5 = R6 =\",round(R1*10**(-3),3),\"kilo ohm\"\n",
    "print \"  R3 = R4 =\",round(R3*10**(-3),4),\"kilo ohm\"\n",
    "print \"  C1 = C2 =\",round(C1new*10**(9),4),\"nF\""
   ]
  },
  {
   "cell_type": "markdown",
   "metadata": {},
   "source": [
    "## Example 6.11, Page 290"
   ]
  },
  {
   "cell_type": "code",
   "execution_count": 10,
   "metadata": {
    "collapsed": false
   },
   "outputs": [
    {
     "name": "stdout",
     "output_type": "stream",
     "text": [
      "Percentage Deviation of cut off frequency = 0.16 %\n"
     ]
    }
   ],
   "source": [
    "import math\n",
    "import numpy as np\n",
    "\n",
    "#Variable declaration\n",
    "\n",
    "C=(5.0/np.pi)*10**(-9)        #F\n",
    "R1=10*10**3                   # ohm\n",
    "R2=30*10**3                   # ohm\n",
    "GBP=1*10**6                   # Hz\n",
    "\n",
    "#Calculation\n",
    "\n",
    "Hreler=0.01          #Departure of H from ideal\n",
    "ft=1*10**6\n",
    "fx=ft/(1+(R2/R1))\n",
    "fmax=math.sqrt(1.0/((1-Hreler)**2) -1)*fx\n",
    "f0=1.0/(2*np.pi*R1*C)\n",
    "fmin3dB=math.sqrt(1.0/((1.0/(f0**2)) -(1.0/(fx**2)) -(1.0/((f0**2)*(fx**2)) )))\n",
    "f3dBer=((fmin3dB -f0)/fmin3dB)*100\n",
    "\n",
    "#answer\n",
    "\n",
    "print \"Percentage Deviation of cut off frequency =\",round(f3dBer*2,2),\"%\""
   ]
  },
  {
   "cell_type": "markdown",
   "metadata": {},
   "source": [
    "## Example 6.12, Page 291"
   ]
  },
  {
   "cell_type": "code",
   "execution_count": 11,
   "metadata": {
    "collapsed": false
   },
   "outputs": [
    {
     "name": "stdout",
     "output_type": "stream",
     "text": [
      "Components for the mentioned cir cui t : \n",
      "R1 = 15.92 kilo ohm\n",
      "R2 = 78.58 ohm\n",
      "R3 = 31.83 kilo ohm\n",
      "GBP >= 20.0 MHz\n"
     ]
    }
   ],
   "source": [
    "import math\n",
    "import numpy as np\n",
    "\n",
    "#Variable Declaration\n",
    "\n",
    "C=10*10**(-9)        #F\n",
    "H0bpdB=0             # dB\n",
    "f0=10*10**3          # Hz\n",
    "Q=10.0\n",
    "\n",
    "#Calculation\n",
    "\n",
    "H0bp=10**(H0bpdB/20)\n",
    "R1=Q/(2*np.pi*f0*C*H0bp)\n",
    "R2=(float(R1)/((2*(Q**2))/(H0bp)))-1\n",
    "R3=(2*Q)/(2*np.pi*f0*C)\n",
    "BW=f0/Q\n",
    "BWer=0.01               #BW deviation from i t s design value is 1% \n",
    "GBPmin=(2*Q*f0)/BWer\n",
    "\n",
    "#answer\n",
    "\n",
    "print \"Components for the mentioned cir cui t : \"\n",
    "print \"R1 =\",round(R1*10**(-3),2),\"kilo ohm\"\n",
    "print \"R2 =\",round(R2,2),\"ohm\"               #answer in book is wrong\n",
    "print \"R3 =\",round(R3*10**(-3),2),\"kilo ohm\"\n",
    "print \"GBP >=\",round(GBPmin*10**(-6),2),\"MHz\""
   ]
  },
  {
   "cell_type": "markdown",
   "metadata": {},
   "source": [
    "## Example 6.14, Page 295"
   ]
  },
  {
   "cell_type": "code",
   "execution_count": 12,
   "metadata": {
    "collapsed": false
   },
   "outputs": [
    {
     "name": "stdout",
     "output_type": "stream",
     "text": [
      "Ceq = 0.64 pF\n",
      "iN = 7.04 micro ampere\n"
     ]
    }
   ],
   "source": [
    "import math\n",
    "import numpy as np\n",
    "\n",
    "#Variable Declaration\n",
    "\n",
    "zo=0.71*10**6            #V/A\n",
    "Req=zo\n",
    "fb=350*10**3             #Hz\n",
    "\n",
    "#Calculation\n",
    "\n",
    "Ceq=1.0/(2*np.pi*Req*fb)\n",
    "vo=5\n",
    "iN=vo/Req\n",
    "\n",
    "#answer\n",
    "\n",
    "print \"Ceq =\",round(Ceq*10**12,2),\"pF\"\n",
    "print \"iN =\",round(iN*10**6,2),\"micro ampere\""
   ]
  },
  {
   "cell_type": "markdown",
   "metadata": {},
   "source": [
    "## Example 6.15, Page 298"
   ]
  },
  {
   "cell_type": "code",
   "execution_count": 13,
   "metadata": {
    "collapsed": false
   },
   "outputs": [
    {
     "name": "stdout",
     "output_type": "stream",
     "text": [
      "Values of R1, fB and tR for A0=1 : \n",
      "  R1=infinity\n",
      "  fB = 96.8 MHz\n",
      "  tr = 3.6 ns\n",
      "Values of R1, fB and tR for A0=10 : \n",
      "  R1 = 166.7 ohm\n",
      "  fB = 75.0 MHz\n",
      "  tr = 4.7 ns\n",
      "Values of R1, fB and tR for A0=100 : \n",
      "  R1 = 15.15 ohm\n",
      "  fB = 23.1 MHz\n",
      "  tr = 15.2 ns\n"
     ]
    }
   ],
   "source": [
    "import math \n",
    "import numpy as np\n",
    "\n",
    "#Variable Declaration\n",
    "\n",
    "ft=100*10**6             # Hz\n",
    "brec=1.5*10**3           # V/A\n",
    "R2=1.5*10**3             # ohm\n",
    "rn=50.0                  # 50\n",
    "A01=1.0                  # V/V\n",
    "A02=10.0                 # V/V\n",
    "A03=100.0                # V/V\n",
    "\n",
    "#Calculation\n",
    "\n",
    "#R11=R2/(A01−1) −>R1=infinity \n",
    "R12=R2/(A02 -1)\n",
    "R13=R2/(A03 -1)\n",
    "fB1=ft/(1+(A01/30))\n",
    "fB2=ft/(1+(A02/30))\n",
    "fB3=ft/(1+(A03/30))\n",
    "tR1=2.2/(2*np.pi*fB1)\n",
    "tR2=2.2/(2*np.pi*fB2)\n",
    "tR3=2.2/(2*np.pi*fB3)\n",
    "\n",
    "#answer\n",
    "\n",
    "print \"Values of R1, fB and tR for A0=1 : \"\n",
    "print \"  R1=infinity\"\n",
    "print \"  fB =\",round(fB1*10**(-6),1),\"MHz\"\n",
    "print \"  tr =\",round(tR1*10**9,1),\"ns\"\n",
    "print \"Values of R1, fB and tR for A0=10 : \"\n",
    "print \"  R1 =\",round(R12,1),\"ohm\"\n",
    "print \"  fB =\",round(fB2*10**(-6)),\"MHz\"\n",
    "print \"  tr =\",round(tR2*10**9,1),\"ns\"\n",
    "print \"Values of R1, fB and tR for A0=100 : \"\n",
    "print \"  R1 =\",round(R13,2),\"ohm\"\n",
    "print \"  fB =\",round(fB3*10**(-6),1),\"MHz\"\n",
    "print \"  tr =\",round(tR3*10**9,1),\"ns\""
   ]
  },
  {
   "cell_type": "markdown",
   "metadata": {},
   "source": [
    "## Example 6.16, Page 299"
   ]
  },
  {
   "cell_type": "code",
   "execution_count": 14,
   "metadata": {
    "collapsed": false
   },
   "outputs": [
    {
     "name": "stdout",
     "output_type": "stream",
     "text": [
      "Redisigned Current Feedback Amplifier of Example 6.15 : \n",
      "R1 = 111.0 ohm\n",
      "R2 = 1.0 kilo ohm\n",
      "Percentage dc gain error = -0.2 %\n"
     ]
    }
   ],
   "source": [
    "import math\n",
    "import numpy as np\n",
    "\n",
    "#Variable Declaration\n",
    "\n",
    "A0=10.0          # V/V  \n",
    "fB=100*10**6       # Hz\n",
    "brec=1.5*10**3      # V/A\n",
    "rn=50.0             # ohm\n",
    "\n",
    "#Calculation\n",
    "\n",
    "R2=brec -(rn*A0)\n",
    "R1=R2/(A0-1)\n",
    "z0=0.75*10**6\n",
    "T0=(1.0/brec)*z0\n",
    "epsilon=-100.0/T0\n",
    "\n",
    "#answer\n",
    "\n",
    "print \"Redisigned Current Feedback Amplifier of Example 6.15 : \"\n",
    "print \"R1 =\",round(R1),\"ohm\"\n",
    "print \"R2 =\",round(R2*10**(-3)),\"kilo ohm\"\n",
    "print \"Percentage dc gain error =\",round(epsilon,2),\"%\""
   ]
  }
 ],
 "metadata": {
  "kernelspec": {
   "display_name": "Python 2",
   "language": "python",
   "name": "python2"
  },
  "language_info": {
   "codemirror_mode": {
    "name": "ipython",
    "version": 2
   },
   "file_extension": ".py",
   "mimetype": "text/x-python",
   "name": "python",
   "nbconvert_exporter": "python",
   "pygments_lexer": "ipython2",
   "version": "2.7.10"
  }
 },
 "nbformat": 4,
 "nbformat_minor": 0
}
