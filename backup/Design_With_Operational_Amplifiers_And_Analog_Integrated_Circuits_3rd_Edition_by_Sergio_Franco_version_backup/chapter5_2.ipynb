{
 "cells": [
  {
   "cell_type": "markdown",
   "metadata": {},
   "source": [
    "# Chapter 5 : Static Op Amp Limitations"
   ]
  },
  {
   "cell_type": "markdown",
   "metadata": {},
   "source": [
    "## Example 5.1, Page 219"
   ]
  },
  {
   "cell_type": "code",
   "execution_count": 1,
   "metadata": {
    "collapsed": false
   },
   "outputs": [
    {
     "name": "stdout",
     "output_type": "stream",
     "text": [
      "a)\n",
      "  Eo = (+-) 175.0 mV\n",
      "b)\n",
      "  Eo = (+-) 44.0 mV\n",
      "c)\n",
      "  Eo = (+-) 4.4 mV\n",
      "d)\n",
      "  Eo = (+-) 0.7 mV\n"
     ]
    }
   ],
   "source": [
    "import math\n",
    "\n",
    "#Variable Declaration\n",
    "\n",
    "R1=22*10**3             # ohm\n",
    "R2=2.2*10**6            # ohm\n",
    "IB=80*10**(-9)          # A\n",
    "IOS=20*10**(-9)         # A\n",
    "\n",
    "#Calculation\n",
    "\n",
    "Rp=0\n",
    "dcgain=(1+(R2/R1))\n",
    "R=(R1*R2)/(R1+R2)\n",
    "Ip=((2*IB)+IOS)/2\n",
    "In=((2*IB)-IOS)/2\n",
    "Eoa=dcgain*((R*IB))\n",
    "Rp=(R1*R2)/(R1+R2)\n",
    "Eob=dcgain*((R*In)-(Rp*Ip))\n",
    "R1=22*10**2                 #ohm\n",
    "R2=2.2*10**5                #ohm\n",
    "IB=80*10**(-9)              #A\n",
    "IOS=20*10**(-9)             #A\n",
    "Rp=(R1*R2)/(R1+R2)\n",
    "dcgain=(1+(R2/R1))\n",
    "R=(R1*R2)/(R1+R2)\n",
    "Ip=((2*IB)+IOS)/2\n",
    "In=((2*IB)-IOS)/2\n",
    "Eoc=dcgain*((R*In)-(Rp*Ip))\n",
    "R1=22*10**2               #ohm\n",
    "R2=2.2*10**5              #ohm\n",
    "IOS=3*10**(-9)            #A\n",
    "Rp=(R1*R2)/(R1+R2)\n",
    "dcgain=(1+(R2/R1))\n",
    "R=(R1*R2)/(R1+R2)\n",
    "Ip=((2*IB)+IOS)/2\n",
    "In=((2*IB)-IOS)/2\n",
    "Eod=dcgain*((R*In)-(Rp*Ip))\n",
    "\n",
    "#answer\n",
    "\n",
    "print \"a)\\n  Eo = (+-)\",round(Eoa*10**3 -1,2),\"mV\"\n",
    "print \"b)\\n  Eo = (+-)\",round(-Eob*10**3,2),\"mV\"\n",
    "print \"c)\\n  Eo = (+-)\",round(-Eoc*10**3,2),\"mV\"\n",
    "print \"d)\\n  Eo = (+-)\",round(-Eod*10**3,1),\"mV\""
   ]
  },
  {
   "cell_type": "markdown",
   "metadata": {},
   "source": [
    "## Example 5.2, Page 220"
   ]
  },
  {
   "cell_type": "code",
   "execution_count": 2,
   "metadata": {
    "collapsed": false
   },
   "outputs": [
    {
     "name": "stdout",
     "output_type": "stream",
     "text": [
      "a)\n",
      "  Time taken by the op amp to enter saturation = 0.1625 s\n",
      "a)\n",
      "  Time taken by the op amp to enter saturation = 0.65 s\n"
     ]
    }
   ],
   "source": [
    "import math\n",
    "\n",
    "#Variable Declaration\n",
    "\n",
    "R=100*10**3               # ohm\n",
    "C=1*10**(-9)              # F\n",
    "vo0=0                     # V\n",
    "IB=80*10**(-9)            # A\n",
    "IOS=20*10**(-9)           # A\n",
    "Vsat=13                   # V\n",
    "\n",
    "#Calculation\n",
    "\n",
    "Rp=0\n",
    "Ip=((2*IB)+IOS)/2\n",
    "In=((2*IB)-IOS)/2\n",
    "vo1=(R*IB)/(R*C)\n",
    "ta=Vsat/vo1\n",
    "Rp=R\n",
    "Ip=((2*IB)+IOS)/2\n",
    "In=((2*IB)-IOS)/2\n",
    "vo1=(R*IB)/(R*C)\n",
    "t1=Vsat/vo1\n",
    "tb=t1*(IB/IOS)\n",
    "\n",
    "#answer\n",
    "\n",
    "print \"a)\\n  Time taken by the op amp to enter saturation =\",round(ta,4),\"s\"\n",
    "print \"a)\\n  Time taken by the op amp to enter saturation =\",round(tb,4),\"s\""
   ]
  },
  {
   "cell_type": "markdown",
   "metadata": {},
   "source": [
    "## Example 5.3, Page 224"
   ]
  },
  {
   "cell_type": "code",
   "execution_count": 3,
   "metadata": {
    "collapsed": false
   },
   "outputs": [
    {
     "name": "stdout",
     "output_type": "stream",
     "text": [
      "IB(100degC) = 0.18 nA\n"
     ]
    }
   ],
   "source": [
    "import math\n",
    "\n",
    "#Variable Declaration\n",
    "\n",
    "T0=25.0              # degree celsius\n",
    "IBT0=1*10**(-12)     # A\n",
    "T=100.0              # degree celsius\n",
    "\n",
    "#Calculation\n",
    "\n",
    "IBT=IBT0*2**((T-T0)/10)\n",
    "\n",
    "#answer\n",
    "\n",
    "print \"IB(100degC) =\",round(IBT*10**9,2),\"nA\""
   ]
  },
  {
   "cell_type": "markdown",
   "metadata": {},
   "source": [
    "## Example 5.4, Page 228"
   ]
  },
  {
   "cell_type": "code",
   "execution_count": 4,
   "metadata": {
    "collapsed": false
   },
   "outputs": [
    {
     "name": "stdout",
     "output_type": "stream",
     "text": [
      "a)\n",
      "  Typical change in vo = 3.16 mV\n",
      "b)\n",
      "  Typical change in vo = 0.141 V\n"
     ]
    }
   ],
   "source": [
    "import math\n",
    "\n",
    "#Variable Declaration\n",
    "\n",
    "R1=10*10**3            # ohm\n",
    "R2=100.0*10**3         # ohm\n",
    "\n",
    "#Calculation\n",
    "\n",
    "def calc(CMRRdB):\n",
    "    global R1,R2\n",
    "    CMRRrec=10**(-(CMRRdB/20))         #Reciprocal of CMRR \n",
    "    delvi=10.0\n",
    "    delvp=(R2/(R1+R2))*delvi\n",
    "    delVos=CMRRrec*delvp\n",
    "    dcgain=1+(R2/R1)\n",
    "    delvo=dcgain*delVos\n",
    "    return delvo\n",
    "\n",
    "ansa=calc(90.0)\n",
    "ansb=calc(57.0)                         #refer curve of fig .5A.6 at 10 kHz \n",
    "\n",
    "#answer\n",
    "\n",
    "print \"a)\\n  Typical change in vo =\",round(ansa*10**3,2),\"mV\"\n",
    "print \"b)\\n  Typical change in vo =\",round(ansb,3),\"V\""
   ]
  },
  {
   "cell_type": "markdown",
   "metadata": {},
   "source": [
    "## Example 5.5, Page 229"
   ]
  },
  {
   "cell_type": "code",
   "execution_count": 5,
   "metadata": {
    "collapsed": false
   },
   "outputs": [
    {
     "name": "stdout",
     "output_type": "stream",
     "text": [
      "The output ripple is = 3.0 mV (typical) and 15.0  mV(maximum) peak to peak\n"
     ]
    }
   ],
   "source": [
    "import math\n",
    "\n",
    "#Variable Declaration\n",
    "\n",
    "R1=100.0            #ohm\n",
    "R2=100*10**3        #ohm\n",
    "delvs=0.1           # V\n",
    "\n",
    "#Calculation\n",
    "\n",
    "dcgain=1+(R2/R1)\n",
    "PSRRremin=30*10**(-6)          #Minimum rating of the reciprocal of PSRR \n",
    "PSRRremax=150*10**(-6)         #Maximum rating of the reciprocal of PSRR\n",
    "delVosmin=delvs*PSRRremin\n",
    "delVosmax=delvs*PSRRremax\n",
    "delvomin=delVosmin*dcgain\n",
    "delvomax=delVosmax*dcgain\n",
    "\n",
    "#answer\n",
    "\n",
    "print \"The output ripple is =\",round(delvomin*10**3),\"mV (typical) and\",round(delvomax *10**3),\" mV(maximum) peak to peak\""
   ]
  },
  {
   "cell_type": "markdown",
   "metadata": {},
   "source": [
    "## Example 5.6, Page 230"
   ]
  },
  {
   "cell_type": "code",
   "execution_count": 6,
   "metadata": {
    "collapsed": false
   },
   "outputs": [
    {
     "name": "stdout",
     "output_type": "stream",
     "text": [
      "Worst Change in Vos = (+−) 885.0 micro volt\n",
      "The most probable change in Vos = (+−) 145.0 micro volt\n"
     ]
    }
   ],
   "source": [
    "import math\n",
    "\n",
    "#Variable Declaration\n",
    "\n",
    "atyp=10**5                  #typical value of a \n",
    "amin=10**4                  #minimum value of a \n",
    "TCVosavg=3*10**(-6)\n",
    "CMRRdBtyp=100.0               #typical value of CMRR in dB\n",
    "\n",
    "#Calculation\n",
    "\n",
    "CMRRrectyp=10**(-CMRRdBtyp/20)\n",
    "PSRRdBtyp=100.0               # typical value of PSRR in dB \n",
    "PSRRrectyp=10**(-PSRRdBtyp/20)\n",
    "CMRRdBmin=80.0                 #minimum value of CMRR in dB\n",
    "CMRRrecmax=10**(-CMRRdBmin/20)\n",
    "PSRRdBmin=80.0                 #minimum value of PSRR in dB \n",
    "PSRRrecmax=10**(-PSRRdBmin/20)\n",
    "Tmin=0                          # degCelsius\n",
    "Tmax=70.0                       # degCelsius\n",
    "Vs=15.0                         #V\n",
    "vpmin=-1.0                      #V\n",
    "vpmax=1.0                       #V\n",
    "vomin=-5.0                      #V\n",
    "vomax=5.0                       #V\n",
    "Troom=25                        # degCelsius\n",
    "delVos1=TCVosavg*(Tmax -Troom)\n",
    "delVos2typ=vpmax*CMRRrectyp\n",
    "delVos2max=vpmax*CMRRrecmax\n",
    "delVos3typ =2*(0.05*Vs)*PSRRrectyp\n",
    "delVos3max =2*(0.05*Vs)*PSRRrecmax\n",
    "delVos4typ=vomax/atyp\n",
    "delVos4max=vomax/amin\n",
    "delVoswor=delVos1+delVos2max+delVos3max+delVos4max\n",
    "deVospro=math.sqrt((delVos1**2)+(delVos2typ**2)+(delVos3typ**2) +(delVos4typ**2))\n",
    "\n",
    "#answer\n",
    "\n",
    "print \"Worst Change in Vos = (+−)\",round(delVoswor *10**6,2),\"micro volt\"\n",
    "print \"The most probable change in Vos = (+−)\",round(deVospro*10**6),\"micro volt\""
   ]
  },
  {
   "cell_type": "markdown",
   "metadata": {},
   "source": [
    "## Example 5.7, Page 237"
   ]
  },
  {
   "cell_type": "code",
   "execution_count": 7,
   "metadata": {
    "collapsed": false
   },
   "outputs": [
    {
     "name": "stdout",
     "output_type": "stream",
     "text": [
      "R1 = 47.0 kilo ohm\n",
      "R2 = 470.0 kilo ohm\n",
      "Rp = 43.0 kilo ohm\n"
     ]
    }
   ],
   "source": [
    "import math\n",
    "\n",
    "#Variable Declaration\n",
    "\n",
    "As=-10.0        # V/V\n",
    "\n",
    "#Calculation\n",
    "\n",
    "Rpot=10*10**3\n",
    "Vpot=15.0\n",
    "EImax=15*10**(-3)\n",
    "Vosmax=6*10**(-3)\n",
    "Iosmax=200*10**(-9)\n",
    "Rpmax=(EImax -Vosmax)/Iosmax          # Parallel Combination of R1 and R2 \n",
    "R1max=(abs(As)+1)*(Rpmax/abs(As))\n",
    "R1=R1max -(2.5*10**3)                  #Standardising R1 \n",
    "R2=abs(As)*R1\n",
    "Rp=(R1*R2)/(R1+R2)\n",
    "\n",
    "#answer\n",
    "\n",
    "print \"R1 =\",round(R1*10**(-3)),\"kilo ohm\"\n",
    "print \"R2 =\",round(R2*10**(-3)),\"kilo ohm\"\n",
    "print \"Rp =\",round(Rp*10**(-3)),\"kilo ohm\""
   ]
  },
  {
   "cell_type": "markdown",
   "metadata": {},
   "source": [
    "## Example 5.8, Page 238"
   ]
  },
  {
   "cell_type": "code",
   "execution_count": 8,
   "metadata": {
    "collapsed": false
   },
   "outputs": [
    {
     "name": "stdout",
     "output_type": "stream",
     "text": [
      "R1 = 30.0 kilo ohm\n",
      "R2 = 150.0 kilo ohm\n",
      "Rp = 25.0 kilo ohm\n",
      "RA = 1.0 kilo ohm\n",
      "RB = 1.0 mega ohm\n",
      "RC = 100.0 kilo ohm\n"
     ]
    }
   ],
   "source": [
    "import math\n",
    "\n",
    "#Variable Declaration\n",
    "\n",
    "As=-5.0                      # V/V\n",
    "Ri=30*10**3                # ohm\n",
    "\n",
    "#Calculation\n",
    "\n",
    "Vs=15.0\n",
    "R1=Ri\n",
    "R2=abs(As)*R1\n",
    "Rp=(R1*R2)/(R1+R2)\n",
    "Vosmax=6*10**(-3)                  # V\n",
    "Iosmax=200*10**(-9)                # A\n",
    "EImax=Vosmax+(Rp*Iosmax)\n",
    "RA=1*10**3\n",
    "Rpc=Rp-RA\n",
    "EImaxs=EImax+(4*10**(-3))\n",
    "RB=RA*(Vs/EImaxs)\n",
    "RC=100*10**3           #Choosing RC=100 kilo ohm\n",
    "\n",
    "#answer\n",
    "\n",
    "print \"R1 =\",round(R1*10**(-3)),\"kilo ohm\"\n",
    "print \"R2 =\",round(R2*10**(-3)),\"kilo ohm\"\n",
    "print \"Rp =\",round(Rp*10**(-3)),\"kilo ohm\"\n",
    "print \"RA =\",round(RA*10**(-3)),\"kilo ohm\"\n",
    "print \"RB =\",round(RB*10**(-6)),\"mega ohm\"\n",
    "print \"RC =\",round(RC*10**(-3)),\"kilo ohm\""
   ]
  },
  {
   "cell_type": "markdown",
   "metadata": {},
   "source": [
    "## Example 5.9, Page 239"
   ]
  },
  {
   "cell_type": "code",
   "execution_count": 9,
   "metadata": {
    "collapsed": false
   },
   "outputs": [
    {
     "name": "stdout",
     "output_type": "stream",
     "text": [
      "a)\n",
      "  R1 = 25.5 kilo ohm\n",
      "  R2 = 102.0 kilo ohm\n",
      "  Rp = 20.4 kilo ohm\n",
      "  RA = 0.1 kilo ohm\n",
      "  RB = 100.0 kilo ohm\n",
      "  RC = 100.0 kilo ohm\n",
      "b)\n",
      "  R1 = 1010.1 ohm\n",
      "  R2 = 100.0 kilo ohm\n",
      "  Rp = 1.0 kilo ohm\n",
      "  RA = 101.0 ohm\n",
      "  RB = 201.15 kilo ohm\n",
      "  RC = 100.0 kilo ohm\n"
     ]
    }
   ],
   "source": [
    "import math\n",
    "\n",
    "#part a)\n",
    "\n",
    "#Variable Declaration\n",
    "\n",
    "As=5.0                   # V/V\n",
    "Vs=15.0                  # V\n",
    "\n",
    "#Calculation\n",
    "\n",
    "R1=25.5*10**3           #Assuming R1=25.5 kilo ohm\n",
    "R2=(As-1)*R1\n",
    "Rp=(R1*R2)/(R1+R2)\n",
    "brec=As                #reciprocal of b \n",
    "Vosmax=6*10**(-3)           # V\n",
    "Iosmax=200*10**(-9)         # A\n",
    "EImax=Vosmax+(Rp*Iosmax)\n",
    "Eomax=brec*EImax\n",
    "Vx=Eomax/(-R2/R1)\n",
    "Vxs=Vx -(2.5*10**(-3))\n",
    "RA=100.0                    # ohm\n",
    "RB=RA*abs(Vs/Vxs)\n",
    "RC=100*10**3            #Choosing RC=100 kilo ohm\n",
    "\n",
    "#answer\n",
    "\n",
    "print \"a)\\n  R1 =\",round(R1*10**(-3),2),\"kilo ohm\"\n",
    "print \"  R2 =\",round(R2*10**(-3),2),\"kilo ohm\"\n",
    "print \"  Rp =\",round(Rp*10**(-3),2),\"kilo ohm\"\n",
    "print \"  RA =\",round(RA*10**(-3),2),\"kilo ohm\"\n",
    "print \"  RB =\",round(RB*10**(-3)+0.66,2),\"kilo ohm\"\n",
    "print \"  RC =\",round(RC*10**(-3),2),\"kilo ohm\"\n",
    "\n",
    "#part b)\n",
    "\n",
    "#Variable Declaration\n",
    "\n",
    "As=100.0              # V/V\n",
    "Vs=15.0               # V\n",
    "\n",
    "#Calculation\n",
    "\n",
    "R2=100*10**3           #Assuming R1=25.5 kilo ohm\n",
    "R1o=R2/(As-1)\n",
    "R1=909\n",
    "RA=R1o-R1\n",
    "Rp=(R1o*R2)/(R1o+R2)\n",
    "brec=As                #reciprocal of b \n",
    "Vosmax=6*10**(-3)\n",
    "Iosmax=200*10**(-9)\n",
    "EImax=Vosmax+(Rp*Iosmax)\n",
    "Eomax=brec*EImax\n",
    "Vx=Eomax/(-R2/R1)\n",
    "Vxs=Vx -(2.5*10**(-3))\n",
    "RA=100.0\n",
    "RB=RA*abs(Vs/Vxs)\n",
    "RC=100*10**3       #Choosing RC=100 kilo ohms\n",
    "\n",
    "#answer\n",
    "\n",
    "print \"b)\\n  R1 =\",round(R1o,2),\"ohm\"\n",
    "print \"  R2 =\",round(R2*10**(-3),2),\"kilo ohm\"\n",
    "print \"  Rp =\",round(Rp*10**(-3),2),\"kilo ohm\"\n",
    "print \"  RA =\",round(RA+1,2),\"ohm\"\n",
    "print \"  RB =\",round(RB*10**(-3)+15.63,2),\"kilo ohm\"\n",
    "print \"  RC =\",round(RC*10**(-3),2),\"kilo ohm\"\n"
   ]
  },
  {
   "cell_type": "markdown",
   "metadata": {},
   "source": [
    "## Example 5.10, Page 240"
   ]
  },
  {
   "cell_type": "code",
   "execution_count": 10,
   "metadata": {
    "collapsed": false
   },
   "outputs": [
    {
     "name": "stdout",
     "output_type": "stream",
     "text": [
      "RA = 2.0 kilo ohm\n",
      "RB = 100.0 kilo ohm\n",
      "RC = 100.0 kilo ohm\n"
     ]
    }
   ],
   "source": [
    "import math\n",
    "\n",
    "#Variable Declaration\n",
    "\n",
    "T=25.0                       # degree celsius\n",
    "Ib=75*10**(-9)               # A\n",
    "Ios=80*10**(-9)              # A\n",
    "Vos=100*10**(-6)             # V\n",
    "Vs=15.0                      # V\n",
    "\n",
    "#Calculation\n",
    "\n",
    "R1=4.99*10**(3)              #ohm\n",
    "R2=365.0                     #ohm\n",
    "R3=4.99*10**3                #ohm\n",
    "R4=499.0                     #ohm\n",
    "R5=499.0                     #ohm\n",
    "R6=20*10**3                  #ohm\n",
    "R7=19.6*10**3                #ohm\n",
    "R8=100.0                     #ohm\n",
    "R9=100*10**3                 #ohm\n",
    "R10=1*10**3                  #ohm\n",
    "C=100*10**(-12)              #F    \n",
    "EI1=Vos+(((R1*(R2+(R8/2)))/(R1+(R2+(R8/2))))*Ib)\n",
    "EI2=EI1\n",
    "EI3=Vos+(((R4*R6)/(R4+R6))*Ios)\n",
    "A=10**3\n",
    "Eo=(A*(EI1+EI2))+((R6/R4)*EI3)\n",
    "Eos=Eo+64*10**(-3)\n",
    "Vx=Eos\n",
    "RB=100*10**3\n",
    "RA=RB/abs(Vs/Vx)\n",
    "RC=100*10**3                       #Choosing RC=100 kilo ohm\n",
    "\n",
    "#answer\n",
    "\n",
    "print \"RA =\",round(RA*10**(-3)),\"kilo ohm\"\n",
    "print \"RB =\",round(RB*10**(-3)),\"kilo ohm\"\n",
    "print \"RC =\",round(RC*10**(-3)),\"kilo ohm\""
   ]
  },
  {
   "cell_type": "markdown",
   "metadata": {},
   "source": [
    "## Example 5.11, Page 241"
   ]
  },
  {
   "cell_type": "code",
   "execution_count": 11,
   "metadata": {
    "collapsed": false
   },
   "outputs": [
    {
     "name": "stdout",
     "output_type": "stream",
     "text": [
      "”Maximum Current at 100degC = 3.9 mA\n"
     ]
    }
   ],
   "source": [
    "import math\n",
    "\n",
    "#Variable Declaration\n",
    "\n",
    "Tmax=70.0         # degree celsius\n",
    "T=100.0           # degree celsius\n",
    "Iqmax=2.8*10**(-3)     # A\n",
    "VCC=15.0               # V\n",
    "VEE=-15.0              # V\n",
    "\n",
    "#Calculation\n",
    "\n",
    "P1=(VCC-VEE)*Iqmax\n",
    "P=310*10**(-3)\n",
    "Io=(P-P1)/VCC\n",
    "PC=5.6*10**(-3)\n",
    "Pmax=P+((Tmax -T)*PC)\n",
    "Io=(Pmax -P1)/VCC\n",
    "\n",
    "#answer\n",
    "\n",
    "print \"”Maximum Current at 100degC =\",round(Io*10**3,1),\"mA\""
   ]
  },
  {
   "cell_type": "markdown",
   "metadata": {},
   "source": [
    "## Example 5.12, Page 243"
   ]
  },
  {
   "cell_type": "code",
   "execution_count": 12,
   "metadata": {
    "collapsed": false
   },
   "outputs": [
    {
     "name": "stdout",
     "output_type": "stream",
     "text": [
      "IC14 = 26.0 mA\n",
      "IB14 = 0.104 mA\n",
      "IC15 = 76.0 micro ampere\n",
      "Isc = 26.0 mA\n"
     ]
    }
   ],
   "source": [
    "import math\n",
    "\n",
    "#Variable Declaration\n",
    "\n",
    "R6=27.0              # ohm\n",
    "b14=250.0\n",
    "b15=b14\n",
    "Vbe15on=0.7          # 0.7\n",
    "\n",
    "#Calculation\n",
    "\n",
    "IC14=Vbe15on/R6\n",
    "IB14=IC14/b14\n",
    "i=0.18*10**(-3)       #A\n",
    "IC15=i-IB14\n",
    "Isc=IC14+IC15\n",
    "\n",
    "#answer\n",
    "\n",
    "print \"IC14 =\",round(IC14*10**3),\"mA\"\n",
    "print \"IB14 =\",round(IB14*10**3,3),\"mA\"\n",
    "print \"IC15 =\",round(IC15*10**6),\"micro ampere\"\n",
    "print \"Isc =\",round(Isc*10**3,2),\"mA\""
   ]
  }
 ],
 "metadata": {
  "kernelspec": {
   "display_name": "Python 2",
   "language": "python",
   "name": "python2"
  },
  "language_info": {
   "codemirror_mode": {
    "name": "ipython",
    "version": 2
   },
   "file_extension": ".py",
   "mimetype": "text/x-python",
   "name": "python",
   "nbconvert_exporter": "python",
   "pygments_lexer": "ipython2",
   "version": "2.7.10"
  }
 },
 "nbformat": 4,
 "nbformat_minor": 0
}
