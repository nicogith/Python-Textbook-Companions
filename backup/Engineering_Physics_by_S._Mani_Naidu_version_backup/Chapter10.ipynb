{
 "cells": [
  {
   "cell_type": "markdown",
   "metadata": {},
   "source": [
    "#10: Lasers "
   ]
  },
  {
   "cell_type": "markdown",
   "metadata": {},
   "source": [
    "##Example number 10.1, Page number 10.20"
   ]
  },
  {
   "cell_type": "code",
   "execution_count": 2,
   "metadata": {
    "collapsed": false
   },
   "outputs": [
    {
     "name": "stdout",
     "output_type": "stream",
     "text": [
      "energy gap is 0.8 eV\n"
     ]
    }
   ],
   "source": [
    "#importing modules\n",
    "import math\n",
    "from __future__ import division\n",
    "\n",
    "#Variable declaration\n",
    "h=6.63*10**-34;      #planck's constant\n",
    "c=3*10**8;      #velocity of light(m/s)\n",
    "lamda=1.55*10**-6;     #wavelength(m)\n",
    "e=1.6*10**-19;   \n",
    "\n",
    "#Calculation\n",
    "Eg=h*c/(lamda*e);     #energy gap(eV)\n",
    "\n",
    "#Result\n",
    "print \"energy gap is\",round(Eg,1),\"eV\""
   ]
  },
  {
   "cell_type": "markdown",
   "metadata": {},
   "source": [
    "##Example number 10.2, Page number 10.20"
   ]
  },
  {
   "cell_type": "code",
   "execution_count": 5,
   "metadata": {
    "collapsed": false
   },
   "outputs": [
    {
     "name": "stdout",
     "output_type": "stream",
     "text": [
      "wavelength is 8633.0 angstrom\n"
     ]
    }
   ],
   "source": [
    "#importing modules\n",
    "import math\n",
    "from __future__ import division\n",
    "\n",
    "#Variable declaration\n",
    "h=6.63*10**-34;      #planck's constant\n",
    "c=3*10**8;      #velocity of light(m/s)\n",
    "Eg=1.44;     #energy gap(eV)\n",
    "e=1.6*10**-19; \n",
    "\n",
    "#Calculation\n",
    "lamda=h*c/(Eg*e);    #wavelength(m)\n",
    "\n",
    "#Result\n",
    "print \"wavelength is\",round(lamda*10**10),\"angstrom\""
   ]
  }
 ],
 "metadata": {
  "kernelspec": {
   "display_name": "Python 2",
   "language": "python",
   "name": "python2"
  },
  "language_info": {
   "codemirror_mode": {
    "name": "ipython",
    "version": 2
   },
   "file_extension": ".py",
   "mimetype": "text/x-python",
   "name": "python",
   "nbconvert_exporter": "python",
   "pygments_lexer": "ipython2",
   "version": "2.7.9"
  }
 },
 "nbformat": 4,
 "nbformat_minor": 0
}
