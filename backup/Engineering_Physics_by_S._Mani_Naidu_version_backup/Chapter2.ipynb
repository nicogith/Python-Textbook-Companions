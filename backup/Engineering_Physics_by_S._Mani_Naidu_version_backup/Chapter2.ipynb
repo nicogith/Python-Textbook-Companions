{
 "cells": [
  {
   "cell_type": "markdown",
   "metadata": {},
   "source": [
    "#2: Crystal Structures"
   ]
  },
  {
   "cell_type": "markdown",
   "metadata": {},
   "source": [
    "##Example number 2.1, Page number 2.16"
   ]
  },
  {
   "cell_type": "code",
   "execution_count": 2,
   "metadata": {
    "collapsed": false
   },
   "outputs": [
    {
     "name": "stdout",
     "output_type": "stream",
     "text": [
      "free volume/unit cell is 0.007675 nm**3\n"
     ]
    }
   ],
   "source": [
    "#importing modules\n",
    "import math\n",
    "from __future__ import division\n",
    "\n",
    "#Variable declaration\n",
    "r=0.1249;     #atomic radius(nm)\n",
    "n=2;     #number of atoms\n",
    "\n",
    "#Calculation\n",
    "a=4*r/math.sqrt(3);     #edge length(m)\n",
    "V=a**3;              #volume(nm**3)\n",
    "v=4*math.pi*r**3*n/3;    #volume of atoms(nm**3)\n",
    "Fv=V-v;     #free volume/unit cell(nm**3)\n",
    "\n",
    "#Result\n",
    "print \"free volume/unit cell is\",round(Fv,6),\"nm**3\""
   ]
  },
  {
   "cell_type": "markdown",
   "metadata": {},
   "source": [
    "##Example number 2.2, Page number 2.16"
   ]
  },
  {
   "cell_type": "code",
   "execution_count": 7,
   "metadata": {
    "collapsed": false
   },
   "outputs": [
    {
     "name": "stdout",
     "output_type": "stream",
     "text": [
      "lattice constant is 3.517 angstrom\n"
     ]
    }
   ],
   "source": [
    "#importing modules\n",
    "import math\n",
    "from __future__ import division\n",
    "\n",
    "#Variable declaration\n",
    "n=2;     #number of atoms\n",
    "M=6.94;   #atomic weight(kg)\n",
    "rho=530;   #density(kg/m**3)\n",
    "Na=6.02*10**26;    #avagadro number\n",
    "\n",
    "#Calculation\n",
    "a3=n*M/(rho*Na);\n",
    "a=a3**(1/3);     #lattice constant(m)\n",
    "\n",
    "#Result\n",
    "print \"lattice constant is\",round(a*10**10,3),\"angstrom\""
   ]
  },
  {
   "cell_type": "markdown",
   "metadata": {},
   "source": [
    "##Example number 2.3, Page number 2.17"
   ]
  },
  {
   "cell_type": "code",
   "execution_count": 12,
   "metadata": {
    "collapsed": false
   },
   "outputs": [
    {
     "name": "stdout",
     "output_type": "stream",
     "text": [
      "lattice constant is 2.87 angstrom\n"
     ]
    }
   ],
   "source": [
    "#importing modules\n",
    "import math\n",
    "from __future__ import division\n",
    "\n",
    "#Variable declaration\n",
    "n=2;     #number of atoms\n",
    "M=55.85;   #atomic weight(kg)\n",
    "rho=7860;   #density(kg/m**3)\n",
    "Na=6.02*10**26;    #avagadro number\n",
    "\n",
    "#Calculation\n",
    "a3=n*M/(rho*Na);\n",
    "a=a3**(1/3);     #lattice constant(m)\n",
    "\n",
    "#Result\n",
    "print \"lattice constant is\",round(a*10**10,2),\"angstrom\""
   ]
  },
  {
   "cell_type": "markdown",
   "metadata": {},
   "source": [
    "##Example number 2.4, Page number 2.17"
   ]
  },
  {
   "cell_type": "code",
   "execution_count": 16,
   "metadata": {
    "collapsed": false
   },
   "outputs": [
    {
     "name": "stdout",
     "output_type": "stream",
     "text": [
      "#number of atoms per m**3 is 177.3 *10**27\n"
     ]
    }
   ],
   "source": [
    "#importing modules\n",
    "import math\n",
    "from __future__ import division\n",
    "\n",
    "#Variable declaration\n",
    "a=0.356*10**-9;     #lattice constant(m)\n",
    "n=8;     #number of atoms\n",
    "\n",
    "#Calculation\n",
    "N=n/a**3;     #number of atoms per m**3\n",
    "\n",
    "#Result\n",
    "print \"#number of atoms per m**3 is\",round(N/10**27,1),\"*10**27\""
   ]
  },
  {
   "cell_type": "markdown",
   "metadata": {},
   "source": [
    "##Example number 2.5, Page number 2.17"
   ]
  },
  {
   "cell_type": "code",
   "execution_count": 18,
   "metadata": {
    "collapsed": false
   },
   "outputs": [
    {
     "name": "stdout",
     "output_type": "stream",
     "text": [
      "number of atoms per sq. mm is 8.16 *10**12\n"
     ]
    }
   ],
   "source": [
    "#importing modules\n",
    "import math\n",
    "from __future__ import division\n",
    "\n",
    "#Variable declaration\n",
    "a=3.5;     #lattice constant(angstrom)\n",
    "\n",
    "#Calculation\n",
    "A=a**2;\n",
    "N=10**7*10**7/A;    #number of atoms per sq. mm\n",
    "\n",
    "#Result\n",
    "print \"number of atoms per sq. mm is\",round(N/10**12,2),\"*10**12\""
   ]
  },
  {
   "cell_type": "markdown",
   "metadata": {},
   "source": [
    "##Example number 2.6, Page number 2.18"
   ]
  },
  {
   "cell_type": "code",
   "execution_count": 21,
   "metadata": {
    "collapsed": false
   },
   "outputs": [
    {
     "name": "stdout",
     "output_type": "stream",
     "text": [
      "density is 5434.5 kg/m**3\n"
     ]
    }
   ],
   "source": [
    "#importing modules\n",
    "import math\n",
    "from __future__ import division\n",
    "\n",
    "#Variable declaration\n",
    "n=8;     #number of atoms\n",
    "a=5.62*10**-10;     #lattice constant(m)\n",
    "M=72.59;   #atomic weight(kg)\n",
    "Na=6.02*10**26;    #avagadro number\n",
    "\n",
    "#Calculation\n",
    "rho=n*M/(a**3*Na);   #density(kg/m**3)\n",
    "\n",
    "#Result\n",
    "print \"density is\",round(rho,1),\"kg/m**3\""
   ]
  }
 ],
 "metadata": {
  "kernelspec": {
   "display_name": "Python 2",
   "language": "python",
   "name": "python2"
  },
  "language_info": {
   "codemirror_mode": {
    "name": "ipython",
    "version": 2
   },
   "file_extension": ".py",
   "mimetype": "text/x-python",
   "name": "python",
   "nbconvert_exporter": "python",
   "pygments_lexer": "ipython2",
   "version": "2.7.9"
  }
 },
 "nbformat": 4,
 "nbformat_minor": 0
}
