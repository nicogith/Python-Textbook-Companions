{
 "cells": [
  {
   "cell_type": "markdown",
   "metadata": {},
   "source": [
    "# Chapter14 - Laser-based systems"
   ]
  },
  {
   "cell_type": "markdown",
   "metadata": {},
   "source": [
    "## Example 14.1 : Page 351"
   ]
  },
  {
   "cell_type": "code",
   "execution_count": 3,
   "metadata": {
    "collapsed": false
   },
   "outputs": [
    {
     "name": "stdout",
     "output_type": "stream",
     "text": [
      "part (a)\n",
      "energy = 1.7 J cm**-2\n",
      "part (b)\n",
      "threshold energy = 113.9 J cm**-2\n"
     ]
    }
   ],
   "source": [
    "#energy and threshold electrical energy\n",
    "print \"part (a)\"\n",
    "no=1.9*10**19##cm**-3##\n",
    "hc=6.6*10**-34##\n",
    "v=5.45*10**14##Hz\n",
    "av=2##\n",
    "nv=1##\n",
    "n2=no/2##\n",
    "eng=((n2*hc*v)/(av*nv))## J cm**-2\n",
    "print \"energy = %0.1f J cm**-2\"%eng\n",
    "print \"part (b)\"\n",
    "oe=0.50##\n",
    "mr=0.15##\n",
    "lr=0.20##\n",
    "teng=eng/(oe*mr*lr)##\n",
    "print \"threshold energy = %0.1f J cm**-2\"%teng\n",
    "#electrical energy is calculated wrong in the textbook"
   ]
  },
  {
   "cell_type": "markdown",
   "metadata": {},
   "source": [
    "## Example 14.3 : Page 360"
   ]
  },
  {
   "cell_type": "code",
   "execution_count": 4,
   "metadata": {
    "collapsed": false
   },
   "outputs": [
    {
     "name": "stdout",
     "output_type": "stream",
     "text": [
      "maximum power = 157028.23 MW\n"
     ]
    }
   ],
   "source": [
    "from __future__ import division\n",
    "from math import log, exp\n",
    "#output power\n",
    "h=0.6943*10**-6##\n",
    "lm=10##in cm\n",
    "r1=1.0##\n",
    "r2=0.8##\n",
    "t1=0.98##\n",
    "As=1##cm**2##\n",
    "Ls=2##cm\n",
    "gth=((1/(2*lm))*log((1/(r1*r2*(t1)**8))))+(As*Ls)/lm##\n",
    "sg=1.5*10**-20##\n",
    "ndth=gth/sg##cm**-3##\n",
    "nth=ndth*As*lm##atoms\n",
    "ni=5*nth##atoms\n",
    "ng=1.78##\n",
    "ns=2.7##\n",
    "lair=2##\n",
    "c=3*10**10##\n",
    "trt=((2*ng*lm)/c)+((2*ns*Ls)/c)+((2*lair)/c)##seconds\n",
    "npmax=((ni-nth)/2)-(nth/2)*log(ni/nth)##photons\n",
    "L=14##cm\n",
    "at=((As*Ls)/L)+((1/(2*L))*log(1/(r1*t1**8)))##\n",
    "aext=((1/(2*L))*log(1/r2))##\n",
    "tp=((trt)/(1-(r1*r2*t1**8*exp(-2*As*Ls))))##seconds\n",
    "hc=6.6*10**-34##\n",
    "pmax=((aext/at)*hc*c*npmax)/(h*tp)##in watts\n",
    "print \"maximum power = %0.2f MW\"%(pmax*10**-6)\n",
    "#answer is wrong in the textbook"
   ]
  },
  {
   "cell_type": "markdown",
   "metadata": {},
   "source": [
    "## Example 14.4 : Page 365"
   ]
  },
  {
   "cell_type": "code",
   "execution_count": 3,
   "metadata": {
    "collapsed": false
   },
   "outputs": [
    {
     "name": "stdout",
     "output_type": "stream",
     "text": [
      "part (a)\n",
      "pulse width,del_v = 0.67 ns\n",
      "spatial length, Lp = 20.00 cm \n",
      "part (b)\n",
      "pulse width, del_v = 16.67 ps\n",
      "spatial length, Lp = 5.00 mm\n"
     ]
    }
   ],
   "source": [
    "from __future__ import division\n",
    "#pulse width and spatial length \n",
    "print \"part (a)\"\n",
    "#given data :\n",
    "del_v=1.5*10**9## in Hz\n",
    "tau_p=1/del_v#\n",
    "C=3*10**8## constant\n",
    "print \"pulse width,del_v = %0.2f ns\"%(tau_p*10**9)\n",
    "Lp=C*tau_p#\n",
    "print \"spatial length, Lp = %0.2f cm \"%(Lp*10**2)\n",
    "#spatial length is calculated wrong in the textbook\n",
    "print \"part (b)\"\n",
    "del_v=6*10**10## in Hz\n",
    "tau_p=1/del_v#\n",
    "C=3*10**8## constant\n",
    "print \"pulse width, del_v = %0.2f ps\"%(tau_p*10**12)\n",
    "Lp=C*tau_p*10**3#\n",
    "print \"spatial length, Lp = %0.2f mm\"%(Lp)"
   ]
  },
  {
   "cell_type": "markdown",
   "metadata": {},
   "source": [
    "## Example 14.5 : Page 366"
   ]
  },
  {
   "cell_type": "code",
   "execution_count": 2,
   "metadata": {
    "collapsed": false
   },
   "outputs": [
    {
     "name": "stdout",
     "output_type": "stream",
     "text": [
      "time difference is = 0.44 micro-seconds\n"
     ]
    }
   ],
   "source": [
    "#time difference\n",
    "n=1.33##\n",
    "x=2##\n",
    "l=50##m\n",
    "c=3*10**8##m/s\n",
    "dt=((n*x*l)/c)##s\n",
    "print \"time difference is = %0.2f micro-seconds\"%(dt*10**6)"
   ]
  }
 ],
 "metadata": {
  "kernelspec": {
   "display_name": "Python 2",
   "language": "python",
   "name": "python2"
  },
  "language_info": {
   "codemirror_mode": {
    "name": "ipython",
    "version": 2
   },
   "file_extension": ".py",
   "mimetype": "text/x-python",
   "name": "python",
   "nbconvert_exporter": "python",
   "pygments_lexer": "ipython2",
   "version": "2.7.9"
  }
 },
 "nbformat": 4,
 "nbformat_minor": 0
}
