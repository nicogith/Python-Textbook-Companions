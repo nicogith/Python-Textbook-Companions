{
 "cells": [
  {
   "cell_type": "markdown",
   "metadata": {},
   "source": [
    "# Chapter 1 : Semiconductor Physics"
   ]
  },
  {
   "cell_type": "markdown",
   "metadata": {},
   "source": [
    "## Example 1.1: Page No 9"
   ]
  },
  {
   "cell_type": "code",
   "execution_count": 2,
   "metadata": {
    "collapsed": false
   },
   "outputs": [
    {
     "name": "stdout",
     "output_type": "stream",
     "text": [
      "Electon concentration = 4.375e+21 cm**-3\n"
     ]
    }
   ],
   "source": [
    "#Electron concentration\n",
    "V=0.1 # Voltage in volts\n",
    "I=5e-3 # Current in ampere\n",
    "l_a=7e8 # Length to cross-sectional area ratio in metre inverse\n",
    "mu=0.05 # Electron mobility in metre square per volt second\n",
    "q=1.6e-19 # Charge on an electron in coulombs\n",
    "n=(l_a*I)/(V*q*mu)# #Electron concentration in inverse metres cube\n",
    "n=n*1e-6# #Electron concentration in inverse centimetres cube\n",
    "print \"Electon concentration = %0.3e cm**-3\"%n"
   ]
  },
  {
   "cell_type": "markdown",
   "metadata": {},
   "source": [
    "## Example 1.2: Page No 12"
   ]
  },
  {
   "cell_type": "code",
   "execution_count": 5,
   "metadata": {
    "collapsed": false
   },
   "outputs": [
    {
     "name": "stdout",
     "output_type": "stream",
     "text": [
      "Electic field intensity = 9.20e+06 V/m\n",
      "Voltage across the bar = 27600.00 V\n"
     ]
    }
   ],
   "source": [
    "#Electric field intensity, Voltage\n",
    "l=3e-3 # Length of the bar in metres\n",
    "a=50*10*1e-12 # Cross-sectional area in metres square\n",
    "I=2e-6 # Current in amperes\n",
    "rho=2.3e3 # Resistivity in ohm metres\n",
    "E=I*rho/a # Electric field intensity in volt per metres\n",
    "V=E*l # Voltage across the bar in volt\n",
    "print \"Electic field intensity = %0.2e V/m\"%E\n",
    "print \"Voltage across the bar = %0.2f V\"%V\n",
    "# ans wrong in the book."
   ]
  },
  {
   "cell_type": "markdown",
   "metadata": {},
   "source": [
    "## Example 1.3: Page No 17"
   ]
  },
  {
   "cell_type": "code",
   "execution_count": 7,
   "metadata": {
    "collapsed": false
   },
   "outputs": [
    {
     "name": "stdout",
     "output_type": "stream",
     "text": [
      "Electron concentration = 5e+14 cm**-3\n",
      "Hole concentration = 4.20e+05 cm**-3\n",
      "Conductivity of Si sample = 0.12 ohm**-1 cm**-1\n",
      "Voltage across the bar = 0.10 V\n"
     ]
    }
   ],
   "source": [
    "#Electron concentration, Hole concentration, Conductivity, Voltage\n",
    "\n",
    "l=3e-3 # Length on Si sample in metres\n",
    "a=5e-9 # Cross-sectional area of Si sample in metres square\n",
    "ND=5e20 # Donor concentration in inverse metres cube\n",
    "I=2e-6 # Current flowing through the bar in amperes\n",
    "ni=1.45e16 # Intrinsic carrier concentration in inverse metres cube\n",
    "mu_n=0.15 # Mobility of electrons in metres square per volt second\n",
    "q=1.6e-19 # Charge on an electron in coulombs\n",
    "n=ND # Electron concentration in inverese metres cube\n",
    "p=ni*ni/n # Hole concentration in inverese metres cube\n",
    "sigma=q*n*mu_n#  # Conductivity of Si sample in inverse ohm metres\n",
    "V=(I*l)/(a*sigma) # Voltage across the bar in volts\n",
    "n=n*1e-6 # Electron concentration in inverese centimetres cube\n",
    "p=p*1e-6 # Hole concentration in inverese centimetres cube\n",
    "sigma=sigma*0.01 # Conductivity of Si sample in inverse ohm centimetres\n",
    "print \"Electron concentration = %0.e cm**-3\"%n\n",
    "print \"Hole concentration = %0.2e cm**-3\"%p\n",
    "print \"Conductivity of Si sample = %0.2f ohm**-1 cm**-1\"%sigma\n",
    "print \"Voltage across the bar = %0.2f V\"%V"
   ]
  },
  {
   "cell_type": "markdown",
   "metadata": {},
   "source": [
    "## Example 1.4: Page No 25"
   ]
  },
  {
   "cell_type": "code",
   "execution_count": 8,
   "metadata": {
    "collapsed": false
   },
   "outputs": [
    {
     "name": "stdout",
     "output_type": "stream",
     "text": [
      "Contact difference of potential = 752.67 mV\n"
     ]
    }
   ],
   "source": [
    "from math import log\n",
    "#Contact difference of potential\n",
    "N=5e22 # Number of acceptor or donor atoms per metres cube of step graded p-n junction\n",
    "ni=1.45e16 # Intrinsic carrier concentration in inverse metres cube\n",
    "VT=25e-3 # Voltage equivalent to temperatue at room temperature in volts\n",
    "Vo=VT*log(N**2/ni**2) # Contact difference of potential in volts\n",
    "Vo=Vo*1e3 # Contact difference of potential in milivolts\n",
    "print \"Contact difference of potential = %0.2f mV\"%Vo"
   ]
  },
  {
   "cell_type": "markdown",
   "metadata": {},
   "source": [
    "## Example 1.7: Page No 28"
   ]
  },
  {
   "cell_type": "code",
   "execution_count": 9,
   "metadata": {
    "collapsed": false
   },
   "outputs": [
    {
     "name": "stdout",
     "output_type": "stream",
     "text": [
      "Contact difference of potential = 594.03 mV\n"
     ]
    }
   ],
   "source": [
    "#Potential barrier\n",
    "rho_p=0.05 # Resistivity of p side of step-graded junction in ohm metres\n",
    "rho_n=0.025 # Resistivity of n side of step-graded junction in ohm metres\n",
    "mu_p=475e-4 # Mobility of holes in metres square per volt second\n",
    "mu_n=1500e-4 # Mobility of holes in metres square per volt second\n",
    "ni=1.45e16 # Intrinsic carrier concentration in atoms per metres cube\n",
    "q=1.6e-19 # Charge on an electron in coulombs\n",
    "VT=25e-3 # Voltage equivalent to temperatue at room temperature in volts\n",
    "NA=1/(q*mu_p*rho_p) # Acceptor concentration in atoms per metres cube\n",
    "ND=1/(q*mu_n*rho_n) # Donor concentration in atoms per metres cube\n",
    "Vo=VT*log(NA*ND/ni**2) # Contact difference of potential in volts\n",
    "Vo=Vo*1e3 # Contact difference of potential in milivolts\n",
    "print \"Contact difference of potential = %0.2f mV\"%Vo"
   ]
  }
 ],
 "metadata": {
  "kernelspec": {
   "display_name": "Python 2",
   "language": "python",
   "name": "python2"
  },
  "language_info": {
   "codemirror_mode": {
    "name": "ipython",
    "version": 2
   },
   "file_extension": ".py",
   "mimetype": "text/x-python",
   "name": "python",
   "nbconvert_exporter": "python",
   "pygments_lexer": "ipython2",
   "version": "2.7.9"
  }
 },
 "nbformat": 4,
 "nbformat_minor": 0
}
