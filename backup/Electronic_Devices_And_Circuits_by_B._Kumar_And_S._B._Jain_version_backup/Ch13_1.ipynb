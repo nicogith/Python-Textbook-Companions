{
 "cells": [
  {
   "cell_type": "markdown",
   "metadata": {},
   "source": [
    "# Chapter 13 : Power amplifiers and voltage regulators"
   ]
  },
  {
   "cell_type": "markdown",
   "metadata": {},
   "source": [
    "## Example 13.1: Page No 684"
   ]
  },
  {
   "cell_type": "code",
   "execution_count": 1,
   "metadata": {
    "collapsed": false
   },
   "outputs": [
    {
     "name": "stdout",
     "output_type": "stream",
     "text": [
      "dc input power = 8.30 W \n",
      "ac output power = 0.64 W \n",
      "Efficiency = 7.71 %\n"
     ]
    }
   ],
   "source": [
    "from __future__ import division\n",
    "#dc input power, ac output power, Efficiency\n",
    "\n",
    "Ib=5e-3# # Base current in amperes\n",
    "# From Fig. 13.8\n",
    "RB=1.5e3# # in ohms\n",
    "RC=16# # in ohms\n",
    "bta=40#\n",
    "VCC=18# # in volts\n",
    "VBE=0.7# # in volts\n",
    "IBQ=(VCC-VBE)/RB# # in amperes\n",
    "ICQ=bta*IBQ# # in amperes\n",
    "Pi_dc=VCC*ICQ# # dc input power in watts\n",
    "Ic=bta*Ib# # in amperes\n",
    "Po_ac=Ic**2*RC# # ac output power\n",
    "eta=Po_ac*100/Pi_dc# # Efficiency in percentage\n",
    "print \"dc input power = %0.2f W \"%Pi_dc\n",
    "print \"ac output power = %0.2f W \"%Po_ac\n",
    "print \"Efficiency = %0.2f %%\"%eta"
   ]
  },
  {
   "cell_type": "markdown",
   "metadata": {},
   "source": [
    "## Example 13.2: Page No 685"
   ]
  },
  {
   "cell_type": "code",
   "execution_count": 2,
   "metadata": {
    "collapsed": false
   },
   "outputs": [
    {
     "name": "stdout",
     "output_type": "stream",
     "text": [
      "Transformer turns ratio = 44.72 \n"
     ]
    }
   ],
   "source": [
    "from __future__ import division\n",
    "from math import sqrt, pi\n",
    "#Transformer turns ratio\n",
    "\n",
    "def parallel(a,b):\n",
    "    c=a*b/(a+b)#\n",
    "    return c\n",
    "RL=parallel(parallel(16,16),parallel(16,16))# # in ohms\n",
    "RL_dash=8e3# # in ohms\n",
    "TR=sqrt(RL_dash/RL)# # Transformer turns ratio\n",
    "print \"Transformer turns ratio = %0.2f \"%TR"
   ]
  },
  {
   "cell_type": "markdown",
   "metadata": {},
   "source": [
    "## Example 12.3: Page No 685"
   ]
  },
  {
   "cell_type": "code",
   "execution_count": 1,
   "metadata": {
    "collapsed": false
   },
   "outputs": [
    {
     "name": "stdout",
     "output_type": "stream",
     "text": [
      "Efficiency = 37.04 %\n"
     ]
    }
   ],
   "source": [
    "from __future__ import division\n",
    "#Efficiency\n",
    "\n",
    "P_ac=2# # in watts\n",
    "ICQ=150e-3# # in amperes\n",
    "VCC=36# # in volts\n",
    "P_dc=VCC*ICQ# # in watts\n",
    "eta=P_ac*100/P_dc# # Efficiency in percentage\n",
    "print \"Efficiency = %0.2f %%\"%eta"
   ]
  },
  {
   "cell_type": "markdown",
   "metadata": {},
   "source": [
    "## Example 13.4: Page No 692"
   ]
  },
  {
   "cell_type": "code",
   "execution_count": 3,
   "metadata": {
    "collapsed": false
   },
   "outputs": [
    {
     "name": "stdout",
     "output_type": "stream",
     "text": [
      "Maximum input power = 17.90 W \n",
      "Maximum ac output power = 14.06 W \n",
      "Maximum conversion efficiency = 78.54 % \n",
      "Maximum power dissipated by each transistor = 2.85 W \n"
     ]
    }
   ],
   "source": [
    "from __future__ import division\n",
    "from math import pi,sqrt\n",
    "#Maximum input power, Maximum ac output power, Maximum conversion efficiency, Maximum power dissipated by each transistor\n",
    "\n",
    "VCC=15# # in volts\n",
    "RL=8# # in ohms\n",
    "P_dc=2*VCC**2/(pi*RL)# # Maximum input power in watts\n",
    "P_ac=VCC**2/(2*RL)# # Maximum ac output power in watts\n",
    "eta=P_ac*100/P_dc# # Maximum efficiency in percentage\n",
    "PD=2*VCC**2/(pi**2*RL)# # Maximum power dissipated in watts\n",
    "PD_each=PD/2# # Maximum power dissipated by each transistor in watts\n",
    "print \"Maximum input power = %0.2f W \"%P_dc\n",
    "print \"Maximum ac output power = %0.2f W \"%P_ac\n",
    "print \"Maximum conversion efficiency = %0.2f %% \"%eta\n",
    "print \"Maximum power dissipated by each transistor = %0.2f W \"%PD_each"
   ]
  },
  {
   "cell_type": "markdown",
   "metadata": {},
   "source": [
    "## Example 13.5: Page No 693"
   ]
  },
  {
   "cell_type": "code",
   "execution_count": 4,
   "metadata": {
    "collapsed": false
   },
   "outputs": [
    {
     "name": "stdout",
     "output_type": "stream",
     "text": [
      "Supply voltage = 22.89 V \n",
      "Peak current drawn from each supply = 2.24 A \n",
      "Total supply power = 32.58 W \n",
      "Power conversion efficiency = 61.38 % \n",
      "Maximum power that each transistor can dissipate safely = 6.64 W \n"
     ]
    }
   ],
   "source": [
    "from __future__ import division\n",
    "from math import pi,sqrt\n",
    "#Supply voltage, Peak current drawn from each supply, Total supply power, Power conversion efficiency, Maximum power that each transistor can dissipate safely\n",
    "\n",
    "P_ac=20# # Average power delivered in watts\n",
    "RL=8# # Load in ohms\n",
    "Vm=sqrt(2*P_ac*RL)# # Peak output voltage in volts\n",
    "VCC=Vm+5# # Supply voltage in volts\n",
    "Im=Vm/RL# # Peak current drawn from each supply in amperes\n",
    "P_dc=2*Im*VCC/pi# # Total supply power in watts\n",
    "eta=P_ac*100/P_dc# # Power conversion efficiency in percentage\n",
    "PD=2*VCC**2/(pi**2*RL)# # Maximum power dissipated in watts\n",
    "PD_each=PD/2# # Maximum power dissipated by each transistor in watts\n",
    "print \"Supply voltage = %0.2f V \"%VCC\n",
    "print \"Peak current drawn from each supply = %0.2f A \"%Im\n",
    "print \"Total supply power = %0.2f W \"%P_dc\n",
    "print \"Power conversion efficiency = %0.2f %% \"%eta\n",
    "print \"Maximum power that each transistor can dissipate safely = %0.2f W \"%PD_each"
   ]
  },
  {
   "cell_type": "markdown",
   "metadata": {},
   "source": [
    "## Example 13.6: Page No 697"
   ]
  },
  {
   "cell_type": "code",
   "execution_count": 5,
   "metadata": {
    "collapsed": false
   },
   "outputs": [
    {
     "name": "stdout",
     "output_type": "stream",
     "text": [
      "Thermal resistance = 0.62 °C/mW \n",
      "Power rating at 70 °C = 128.00 mW \n",
      "Junction temperature at 100 mW = 112.50 °C \n"
     ]
    }
   ],
   "source": [
    "from __future__ import division\n",
    "from math import pi,sqrt\n",
    "\n",
    "#Thermal resistance, Power rating at 70°C, Junction temperature at 100 mW\n",
    "\n",
    "TAo=25# # in °C\n",
    "PDo=200# # in mili-watts\n",
    "Tj_max=150# # Maximum junction temperature in °C\n",
    "T=70# # in °C\n",
    "P=100# # in mili-watts\n",
    "TA=50# # Ambient temperature in °C\n",
    "theta=(Tj_max-TAo)/PDo# # Thermal resistance in °C per mili-watts\n",
    "PR=(Tj_max-T)/theta# # Power rating at 70 °C in mili-watts\n",
    "Tj=TA+theta*P# # Junction temperature at 100 mW in °C\n",
    "print \"Thermal resistance = %0.2f °C/mW \"%theta\n",
    "print \"Power rating at 70 °C = %0.2f mW \"%PR\n",
    "print \"Junction temperature at 100 mW = %0.2f °C \"%Tj"
   ]
  }
 ],
 "metadata": {
  "kernelspec": {
   "display_name": "Python 2",
   "language": "python",
   "name": "python2"
  },
  "language_info": {
   "codemirror_mode": {
    "name": "ipython",
    "version": 2
   },
   "file_extension": ".py",
   "mimetype": "text/x-python",
   "name": "python",
   "nbconvert_exporter": "python",
   "pygments_lexer": "ipython2",
   "version": "2.7.9"
  }
 },
 "nbformat": 4,
 "nbformat_minor": 0
}
