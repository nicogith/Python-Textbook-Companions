{
 "cells": [
  {
   "cell_type": "markdown",
   "metadata": {},
   "source": [
    "# Chapter 5 : BJT biasing (Q point) and stability"
   ]
  },
  {
   "cell_type": "markdown",
   "metadata": {},
   "source": [
    "## Example 5.1: Page No 221"
   ]
  },
  {
   "cell_type": "code",
   "execution_count": 1,
   "metadata": {
    "collapsed": false
   },
   "outputs": [
    {
     "name": "stdout",
     "output_type": "stream",
     "text": [
      "RB = 282.50 kΩ \n",
      "RC = 1.875 kΩ \n"
     ]
    }
   ],
   "source": [
    "#RB, RC\n",
    "\n",
    "IB=40e-6# # in amperes\n",
    "VCE=6# # in volts\n",
    "VCC=12# # in volts\n",
    "betaf=80#\n",
    "VBE=0.7# # in volts\n",
    "RB=(VCC-VBE)/IB# # in ohms\n",
    "RC=(VCC-VCE)/(betaf*IB)# # in ohms\n",
    "RB=RB*1e-3# # in kilo-ohms\n",
    "RC=RC*1e-3# # in kilo-ohms\n",
    "print \"RB = %0.2f kΩ \"%RB\n",
    "print \"RC = %0.3f kΩ \"%RC"
   ]
  },
  {
   "cell_type": "markdown",
   "metadata": {},
   "source": [
    "## Example 5.2: Page No 227"
   ]
  },
  {
   "cell_type": "code",
   "execution_count": 2,
   "metadata": {
    "collapsed": false
   },
   "outputs": [
    {
     "name": "stdout",
     "output_type": "stream",
     "text": [
      "VCEQ = 4.50 V \n",
      "ICQ = 1.98 mA \n"
     ]
    }
   ],
   "source": [
    "#VCEQ, ICQ\n",
    "\n",
    "VBE=0.7# # in volts\n",
    "betaf=50#\n",
    "# From Fig. 5.11(a)\n",
    "VCC=18# # in volts\n",
    "R1=82e3# # in ohms\n",
    "R2=22e3# # in ohms\n",
    "RC=5.6e3# # in ohms\n",
    "RE=1.2e3# # in ohms\n",
    "# Using Thevnin's theorem to obtain equivalent circuit given in Fig. 5.11(b)\n",
    "VBB=R2*VCC/(R1+R2)# # in volts\n",
    "RB=R1*R2/(R1+R2)# # in ohms\n",
    "IB=(VBB-VBE)/(RB+(1+betaf)*RE)# # in amperes\n",
    "IC=betaf*IB# # in amperes\n",
    "VCE=VCC-IC*(RC+RE)-IB*RE# # in volts\n",
    "IC=IC*1e3# # in mili-amperes\n",
    "print \"VCEQ = %0.2f V \"%VCE\n",
    "print \"ICQ = %0.2f mA \"%IC"
   ]
  },
  {
   "cell_type": "markdown",
   "metadata": {},
   "source": [
    "## Example 5.3: Page No 228"
   ]
  },
  {
   "cell_type": "code",
   "execution_count": 3,
   "metadata": {
    "collapsed": false
   },
   "outputs": [
    {
     "name": "stdout",
     "output_type": "stream",
     "text": [
      "R1 = 80.00 kΩ \n",
      "R2 = 40.00 kΩ \n",
      "RC = 4.00 kΩ \n",
      "RE = 3.30 kΩ \n"
     ]
    }
   ],
   "source": [
    "#R1, R2, RC, RE\n",
    "\n",
    "IC=1e-3# # in amperes\n",
    "VCC=12# # in volts\n",
    "betaf=100#\n",
    "VBE=0.7# # in volts\n",
    "# As suggested in the design constraints, allocate 1/3VCC to RC, another 1/3VCC to R2 leaving 1/3VCC for VCEQ.\n",
    "VB=4# # in volts\n",
    "VE=VB-VBE# # in volts\n",
    "# Neglecting base current,\n",
    "RE=VE/IC# # in ohms\n",
    "# Select the current through R1R2 equal to 0.1IC\n",
    "R1_plus_R2=VCC/(0.1*IC)# # in ohms\n",
    "R2=VB*R1_plus_R2/VCC# # in ohms\n",
    "R1=R1_plus_R2-R2# # in ohms\n",
    "RC=VCC/(3*IC)# # in ohms\n",
    "R1=R1*1e-3# # in kilo-ohms\n",
    "R2=R2*1e-3# # in kilo-ohms\n",
    "RC=RC*1e-3# # in kilo-ohms\n",
    "RE=RE*1e-3# # in kilo-ohms\n",
    "print \"R1 = %0.2f kΩ \"%R1\n",
    "print \"R2 = %0.2f kΩ \"%R2\n",
    "print \"RC = %0.2f kΩ \"%RC\n",
    "print \"RE = %0.2f kΩ \"%RE"
   ]
  },
  {
   "cell_type": "markdown",
   "metadata": {},
   "source": [
    "## Example 5.4: Page No 231"
   ]
  },
  {
   "cell_type": "code",
   "execution_count": 4,
   "metadata": {
    "collapsed": false
   },
   "outputs": [
    {
     "name": "stdout",
     "output_type": "stream",
     "text": [
      "VCEQ = 4.52 V \n",
      "ICQ = 3.735 mA \n"
     ]
    }
   ],
   "source": [
    "#VCEQ, ICQ\n",
    "\n",
    "VBE=0.7# # in volts\n",
    "betaf=45#\n",
    "# From Fig. 5.14\n",
    "VEE=9# # in volts\n",
    "RB=100e3# # in ohms\n",
    "RC=1.2e3# # in ohms\n",
    "# Applying KVL in the clockwise direction base emitter loop\n",
    "IB=(VEE-VBE)/RB# # in amperes\n",
    "IC=betaf*IB# # in amperes\n",
    "# Writing KVL for the collector loop\n",
    "VCE=VEE-IC*RC# # in volts\n",
    "IC=IC*1e3# # in mili-amperes\n",
    "print \"VCEQ = %0.2f V \"%VCE\n",
    "print \"ICQ = %0.3f mA \"%IC"
   ]
  },
  {
   "cell_type": "markdown",
   "metadata": {},
   "source": [
    "## Example 5.5: Page No 232"
   ]
  },
  {
   "cell_type": "code",
   "execution_count": 5,
   "metadata": {
    "collapsed": false
   },
   "outputs": [
    {
     "name": "stdout",
     "output_type": "stream",
     "text": [
      "VCEQ = 20.84 V \n",
      "ICQ = 4.24 mA \n"
     ]
    }
   ],
   "source": [
    "#VCEQ, ICQ\n",
    "\n",
    "VBE=0.7# # in volts\n",
    "betaf=120#\n",
    "# From Fig. 5.15\n",
    "VCC=20# # in volts\n",
    "VEE=20# # in volts\n",
    "R1=8.2e3# # in ohms\n",
    "R2=2.2e3# # in ohms\n",
    "RC=2.7e3# # in ohms\n",
    "RE=1.8e3# # in ohms\n",
    "# Using Thevnin's theorem to obtain equivalent circuit given in Fig. 5.16(b)\n",
    "RB=R1*R2/(R1+R2)# # in ohms\n",
    "# From Fig. 5.16(a)\n",
    "I=(VCC+VEE)/(R1+R2)# # in amperes\n",
    "VBB=I*R2-VEE# # in volts\n",
    "# Writing KVL for the base emitter loop and putting Ic= βF*Ib gives\n",
    "IB=(VEE+VBB-VBE)/(RB+(1+betaf)*RE)# # in amperes\n",
    "IC=betaf*IB# # in amperes\n",
    "# KVL for the collector loop gives\n",
    "VCE=VCC+VEE-IC*(RC+RE)-IB*RE# # in volts\n",
    "IC=IC*1e3# # in mili-amperes\n",
    "print \"VCEQ = %0.2f V \"%VCE\n",
    "print \"ICQ = %0.2f mA \"%IC"
   ]
  },
  {
   "cell_type": "markdown",
   "metadata": {},
   "source": [
    "## Example 5.6: Page No 233"
   ]
  },
  {
   "cell_type": "code",
   "execution_count": 6,
   "metadata": {
    "collapsed": false
   },
   "outputs": [
    {
     "name": "stdout",
     "output_type": "stream",
     "text": [
      "RF so that IE=+2 mA = 106.53 kΩ \n"
     ]
    }
   ],
   "source": [
    "#RF so that IE=+2 mA\n",
    "\n",
    "IE=2e-3# # in amperes\n",
    "VBE=0.7# # in volts\n",
    "betaf=49#\n",
    "# From Fig. 5.17\n",
    "VCC=12# # in volts\n",
    "RB=25e3# # in ohms\n",
    "RC=2e3# # in ohms\n",
    "I1=VBE/RB# # in amperes\n",
    "IB=IE/(1+betaf)# # in amperes\n",
    "# KVL for the indicated loop gives\n",
    "RF=(VCC-RC*(I1+(1+betaf)*IB)-VBE)/(I1+IB)# # in ohms\n",
    "RF=RF*1e-3# # in kilo-ohms\n",
    "print \"RF so that IE=+2 mA = %0.2f kΩ \"%RF"
   ]
  },
  {
   "cell_type": "markdown",
   "metadata": {},
   "source": [
    "## Example 5.7: Page No 234"
   ]
  },
  {
   "cell_type": "code",
   "execution_count": 7,
   "metadata": {
    "collapsed": false
   },
   "outputs": [
    {
     "name": "stdout",
     "output_type": "stream",
     "text": [
      "RC = 0.587 kΩ \n",
      "RE = 0.292 kΩ \n"
     ]
    }
   ],
   "source": [
    "#RCQ, RE\n",
    "\n",
    "VCEQ=3# # in volts\n",
    "VBE=0.7# # in volts\n",
    "betaf=200#\n",
    "# From Fig. 5.18(a)\n",
    "VCC=6# # in volts\n",
    "VEE=6# # in volts\n",
    "R1=90e3# # in ohms\n",
    "R2=90e3# # in ohms\n",
    "# Using Thevnin's theorem to obtain equivalent circuit given in Fig. 5.18(b)\n",
    "RB=R1*R2/(R1+R2)# # in ohms\n",
    "VBB=R2*(VCC+VEE)/(R1+R2)# # in volts\n",
    "# In the output loop\n",
    "x=VEE-VCEQ# # x = (IC+IB)RE in volts\n",
    "# Applying KVL in the base emitter loop\n",
    "IB=(VEE-VBE-x)/RB# # in amperes\n",
    "IC=betaf*IB# # in amperes\n",
    "# In the output loop\n",
    "RC=VCC/IC# # in ohms\n",
    "RE=x/(IC+IB)# # in ohms\n",
    "RC=RC*1e-3# # in kilo-ohms\n",
    "RE=RE*1e-3# # in kilo-ohms\n",
    "print \"RC = %0.3f kΩ \"%RC\n",
    "print \"RE = %0.3f kΩ \"%RE"
   ]
  },
  {
   "cell_type": "markdown",
   "metadata": {},
   "source": [
    "## Example 5.8: Page No 235"
   ]
  },
  {
   "cell_type": "code",
   "execution_count": 8,
   "metadata": {
    "collapsed": false
   },
   "outputs": [
    {
     "name": "stdout",
     "output_type": "stream",
     "text": [
      "VCEQ = -10.7 V \n"
     ]
    }
   ],
   "source": [
    "#VCEQ\n",
    "\n",
    "VBE=-0.7# # in volts\n",
    "betaf=120#\n",
    "# From Fig. 5.19(a)\n",
    "VCC=18# # in volts\n",
    "R1=47e3# # in ohms\n",
    "R2=10e3# # in ohms\n",
    "RC=2.4e3# # in ohms\n",
    "RE=1.1e3# # in ohms\n",
    "# Using Thevnin's theorem to obtain equivalent circuit given in Fig. 5.19(b)\n",
    "VBB=R2*VCC/(R1+R2)# # in volts\n",
    "RB=R1*R2/(R1+R2)# # in ohms\n",
    "# Applying KVL in the base emitter loop and putting Ic= βF*Ib\n",
    "IB=(VBB+VBE)/(RB+(1+betaf)*RE)# # in amperes\n",
    "IC=betaf*IB# # in amperes\n",
    "# In the collector emitter loop\n",
    "VCE=-VCC+IC*(RC+RE)+IB*RE# # in volts\n",
    "print \"VCEQ = %0.1f V \"%VCE"
   ]
  },
  {
   "cell_type": "markdown",
   "metadata": {},
   "source": [
    "## Example 5.9 : Page No 241"
   ]
  },
  {
   "cell_type": "code",
   "execution_count": 9,
   "metadata": {
    "collapsed": false
   },
   "outputs": [
    {
     "name": "stdout",
     "output_type": "stream",
     "text": [
      "Part (i)\n",
      "RB = 121.19 kΩ \n",
      "Part (ii)\n",
      "Stability factor = 10.23 \n",
      "Part (iii)\n",
      "IC at 100°C = 1.77 mA \n"
     ]
    }
   ],
   "source": [
    "#              (i) RB\n",
    "#             (ii) Stability factor\n",
    "#            (iii) IC at 100°C\n",
    "\n",
    "bta=50#\n",
    "VBE=0.7# # in volts\n",
    "VCE=5# # in volts\n",
    "# From Fig. 5.21\n",
    "VCC=24# # in volts\n",
    "RC=10e3# # in ohms\n",
    "RE=500# # in ohms\n",
    "\n",
    "print \"Part (i)\"\n",
    "# Applying KVL to the collector emitter circuit and putting Ic= βF*Ib\n",
    "IB=(VCC-VCE)/((RC+RE)*(bta+1))# # in amperes\n",
    "IC=bta*IB# #  at 25°C in amperes\n",
    "RB=(VCE-VBE)/IB# # in ohms\n",
    "RB=RB*1e-3# # in kilo-ohms\n",
    "print \"RB = %0.2f kΩ \"%RB\n",
    "\n",
    "print \"Part (ii)\"\n",
    "S=(1+bta)/(1+bta*(RC+RE)/(RC+RE+RB*1e3))# # Stability factor\n",
    "print \"Stability factor = %0.2f \"%S\n",
    "\n",
    "print \"Part (iii)\"\n",
    "# From Table 5.1\n",
    "del_ICO=(20-0.1)*1e-9# # in amperes\n",
    "del_IC=S*del_ICO# # in amperes\n",
    "IC=IC+del_IC# #  at 100°C in amperes\n",
    "IC=IC*1e3# #  at 100°C in mili-amperes\n",
    "print \"IC at 100°C = %0.2f mA \"%IC"
   ]
  },
  {
   "cell_type": "markdown",
   "metadata": {},
   "source": [
    "## Example 5.10: Page No 242"
   ]
  },
  {
   "cell_type": "code",
   "execution_count": 10,
   "metadata": {
    "collapsed": false
   },
   "outputs": [
    {
     "name": "stdout",
     "output_type": "stream",
     "text": [
      "Part (i)\n",
      "S(ICO) for RB/RE=10,  10.0\n",
      "Change in IC = 0.199 μA \n",
      "Part (ii)\n",
      "S(VBE) for (RB = 240 kΩ, RE = 1 kΩ) = -2.933e-04 \n",
      "Change in IC = 50 μA \n"
     ]
    }
   ],
   "source": [
    "#               (i) S(ICO) for RB/RE=10 and change in IC\n",
    "#              (ii) S(VBE) for RB = 240 kΩ, RE = 1 kΩ and change in IC\n",
    "\n",
    "bta=100#\n",
    "\n",
    "print \"Part (i)\"\n",
    "RB_RE=10# # RB/RE\n",
    "S_ICO=(1+bta)*(1+RB_RE)/(1+bta+RB_RE)#\n",
    "# From Table 5.1\n",
    "del_ICO=(20-0.1)*1e-9# # in amperes\n",
    "del_IC=S_ICO*del_ICO# # in amperes\n",
    "del_IC=del_IC*1e6# # in micro-amperes\n",
    "print \"S(ICO) for RB/RE=10, \",round(S_ICO,2)\n",
    "print \"Change in IC = %0.3f μA \"%del_IC\n",
    "\n",
    "print \"Part (ii)\"\n",
    "RB=240e3# # in kilo-ohms\n",
    "RE=1e3# # in kilo-ohms\n",
    "S_VBE=-bta/(RB+(1+bta)*RE)#\n",
    "# From Table 5.1\n",
    "del_VBE=0.48-0.65# # in volts\n",
    "del_IC=S_VBE*del_VBE# # in amperes\n",
    "del_IC=del_IC*1e6# # in micro-amperes\n",
    "print \"S(VBE) for (RB = 240 kΩ, RE = 1 kΩ) = %0.3e \"%S_VBE\n",
    "print \"Change in IC = %0.f μA \"%del_IC"
   ]
  },
  {
   "cell_type": "markdown",
   "metadata": {},
   "source": [
    "## Example 5.11: Page No 243"
   ]
  },
  {
   "cell_type": "code",
   "execution_count": 11,
   "metadata": {
    "collapsed": false
   },
   "outputs": [
    {
     "name": "stdout",
     "output_type": "stream",
     "text": [
      "S(β) = 4.84e-06 \n",
      "IC at 100°C = 2.145 mA \n"
     ]
    }
   ],
   "source": [
    "#S(β), IC at 100°C\n",
    "\n",
    "IC=2e-3# #  at 25°C in amperes\n",
    "# From Table 5.1\n",
    "bta1=50# # at 25°C\n",
    "bta2=80# # at 100°C\n",
    "RB_RE=10# # RB/RE\n",
    "S=IC*(1+RB_RE)/(bta1*(1+bta2+RB_RE))#\n",
    "del_bta=bta2-bta1#\n",
    "del_IC=S*del_bta# # in amperes\n",
    "IC=IC+del_IC# #  at 100°C in amperes\n",
    "IC=IC*1e3# #  at 100°C in mili-amperes\n",
    "print \"S(β) = %0.2e \"%S\n",
    "print \"IC at 100°C = %0.3f mA \"%IC"
   ]
  },
  {
   "cell_type": "markdown",
   "metadata": {},
   "source": [
    "## Example 5.12: Page No 244"
   ]
  },
  {
   "cell_type": "code",
   "execution_count": 12,
   "metadata": {
    "collapsed": false
   },
   "outputs": [
    {
     "name": "stdout",
     "output_type": "stream",
     "text": [
      "IC at -65°C  = 1.803 mA \n",
      "IC at 175°C = 2.15 mA \n"
     ]
    }
   ],
   "source": [
    "#Variation of IC over the temperature range -65°C to 175°C\n",
    "\n",
    "RB_RE=2# # RB/RE\n",
    "RE=4.7e3# # in ohms\n",
    "IC=2e-3# # at 25°C in amperes\n",
    "# From Table 5.1\n",
    "bta=50# # at 25°C\n",
    "S_ICO=(1+bta)*(1+RB_RE)/(1+bta+RB_RE)#\n",
    "S_VBE=-bta/(RE*(1+bta+RB_RE))#\n",
    "# From Table 5.1\n",
    "bta1=20# # at -65°C\n",
    "bta2=120# # at 175°C\n",
    "S_bta1=IC*(1+RB_RE)/(bta*(1+bta1+RB_RE))# # For 25°C to -65°C\n",
    "S_bta2=IC*(1+RB_RE)/(bta*(1+bta2+RB_RE))# # For 25°C to 175°C\n",
    "# From Table 5.1\n",
    "\n",
    "# For 25°C to -65°C\n",
    "del_ICO=(0.2e-3-0.1)*1e-9# # in amperes\n",
    "del_VBE=0.85-0.65# # in volts\n",
    "del_bta=bta1-bta#\n",
    "del_IC=S_ICO*del_ICO+S_VBE*del_VBE+S_bta1*del_bta# # in amperes\n",
    "IC1=IC+del_IC# # at -65°C in amperes\n",
    "IC1=IC1*1e3# #  at -65°C in mili-amperes\n",
    "print \"IC at -65°C  = %0.3f mA \"%IC1\n",
    "\n",
    "# For 25°C to 175°C\n",
    "del_ICO=(3.3e3-0.1)*1e-9# # in amperes\n",
    "del_VBE=0.30-0.65# # in volts\n",
    "del_bta=bta2-bta#\n",
    "del_IC=S_ICO*del_ICO+S_VBE*del_VBE+S_bta2*del_bta# # in amperes\n",
    "IC2=IC+del_IC# # at 175°C in amperes\n",
    "IC2=IC2*1e3# #  at 175°C in mili-amperes\n",
    "print \"IC at 175°C = %0.2f mA \"%IC2"
   ]
  },
  {
   "cell_type": "markdown",
   "metadata": {},
   "source": [
    "## Example 5.13: Page No 247"
   ]
  },
  {
   "cell_type": "code",
   "execution_count": 13,
   "metadata": {
    "collapsed": false
   },
   "outputs": [
    {
     "name": "stdout",
     "output_type": "stream",
     "text": [
      "Part (i)\n",
      "R1 = 9.15 kΩ \n",
      "Part (ii)\n",
      "R1 for (IC = 10 μA) = 915 kΩ \n"
     ]
    }
   ],
   "source": [
    "#               (i) R1\n",
    "#              (ii) R1 for IC = 10 μA\n",
    "\n",
    "IC=1e-3# # in amperes\n",
    "VCC=10# # in volts\n",
    "bta=125#\n",
    "VBE=0.7# # in volts\n",
    "\n",
    "print \"Part (i)\"\n",
    "R1=bta*(VCC-VBE)/((bta+2)*IC)# # in ohms\n",
    "R1=R1*1e-3# # in kilo-ohms\n",
    "print \"R1 = %0.2f kΩ \"%R1\n",
    "\n",
    "print \"Part (ii)\"\n",
    "IC=10e-6# # in amperes\n",
    "R1=bta*(VCC-VBE)/((bta+2)*IC)# # in ohms\n",
    "R1=R1*1e-3# # in kilo-ohms\n",
    "print \"R1 for (IC = 10 μA) = %0.f kΩ \"%R1"
   ]
  },
  {
   "cell_type": "markdown",
   "metadata": {},
   "source": [
    "## Example 5.14: Page No 248"
   ]
  },
  {
   "cell_type": "code",
   "execution_count": 14,
   "metadata": {
    "collapsed": false
   },
   "outputs": [
    {
     "name": "stdout",
     "output_type": "stream",
     "text": [
      "R1 = 9.30 kΩ \n",
      "RE = 11.51 kΩ \n"
     ]
    }
   ],
   "source": [
    "from math import log\n",
    "#R1, RE\n",
    "\n",
    "Io=10e-6# # in amperes\n",
    "VCC=10# # in volts\n",
    "bta=125#\n",
    "VBE=0.7# # in volts\n",
    "VT=25e-3# # in volts\n",
    "# Let\n",
    "I_ref=1e-3# # in amperes\n",
    "R1=(VCC-VBE)/I_ref# # in ohms\n",
    "R1=R1*1e-3# # in kilo-ohms\n",
    "RE=VT*log(I_ref/Io)/((1+1/bta)*Io)# # in ohms\n",
    "RE=RE*1e-3# # in kilo-ohms\n",
    "print \"R1 = %0.2f kΩ \"%R1\n",
    "print \"RE = %0.2f kΩ \"%RE"
   ]
  },
  {
   "cell_type": "markdown",
   "metadata": {},
   "source": [
    "## Example 5.15: Page No 250"
   ]
  },
  {
   "cell_type": "code",
   "execution_count": 15,
   "metadata": {
    "collapsed": false
   },
   "outputs": [
    {
     "name": "stdout",
     "output_type": "stream",
     "text": [
      "IC1 = 0.270 mA \n",
      "IC2 = 0.270 mA \n",
      "IC3  = 0.0280 mA \n"
     ]
    }
   ],
   "source": [
    "from numpy import arange\n",
    "#IC1, IC2, IC3\n",
    "\n",
    "bta=125#\n",
    "VBE=0.7# # in volts\n",
    "VT=25e-3# # Voltage equivalent to temperatue at room temperature in volts\n",
    "# From Fig. 5.27\n",
    "VC=9# # in volts\n",
    "RC=30# # in kilo-ohms\n",
    "RE=1.94# # in kilo-ohms\n",
    "I_ref=(VC-VBE)/RC# # in mili-amperes\n",
    "IC=I_ref*bta/(3+bta)# # in mili-amperes\n",
    "\n",
    "for i in arange(0.01,0.5,0.001):\n",
    "    if abs(VT*log(IC/i)/(i*(1+1/bta))-RE)<=0.1:\n",
    "        break#\n",
    "    \n",
    "\n",
    "print \"IC1 = %0.3f mA \"%IC\n",
    "print \"IC2 = %0.3f mA \"%IC\n",
    "print \"IC3  = %0.4f mA \"%i"
   ]
  },
  {
   "cell_type": "markdown",
   "metadata": {},
   "source": [
    "## Example 5.16: Page No 254"
   ]
  },
  {
   "cell_type": "code",
   "execution_count": 16,
   "metadata": {
    "collapsed": false
   },
   "outputs": [
    {
     "name": "stdout",
     "output_type": "stream",
     "text": [
      "Io = 0.46 mA \n"
     ]
    }
   ],
   "source": [
    "#Io\n",
    "\n",
    "bta=100#\n",
    "VBE=0.7# # in volts\n",
    "# From Fig. 5.30\n",
    "# Writing KVL for the indicated loop\n",
    "I_ref=(10-VBE)/10# # in mili-amperes\n",
    "Io=bta*I_ref/(2*(1+bta))# # in mili-amperes\n",
    "print \"Io = %0.2f mA \"%Io"
   ]
  },
  {
   "cell_type": "markdown",
   "metadata": {},
   "source": [
    "## Example 5.17: Page No 254"
   ]
  },
  {
   "cell_type": "code",
   "execution_count": 17,
   "metadata": {
    "collapsed": false
   },
   "outputs": [
    {
     "name": "stdout",
     "output_type": "stream",
     "text": [
      "Part (i)\n",
      "IC1 = 0.50 mA \n",
      "IC2 = 0.50 mA \n",
      "Part (ii)\n",
      "RC so that (Vo = 6 V)  = 12.04 kΩ \n"
     ]
    }
   ],
   "source": [
    "#               (i) IC1 and IC2\n",
    "#              (ii) RC so that Vo = 6 V\n",
    "\n",
    "bta=200#\n",
    "# From Fig. 5.31\n",
    "\n",
    "print \"Part (i)\"\n",
    "I_ref=(12-0.7)/15# # in amperes\n",
    "I1=0.7/2.8# # in amperes\n",
    "IC=(I_ref-I1)*bta/(bta+2)# # in mili-amperes\n",
    "print \"IC1 = %0.2f mA \"%IC\n",
    "print \"IC2 = %0.2f mA \"%IC\n",
    "\n",
    "print \"Part (ii)\"\n",
    "Vo=6# # in volts\n",
    "RC=(12-Vo)/IC# # in kilo-ohms\n",
    "print \"RC so that (Vo = 6 V)  = %0.2f kΩ \"%RC"
   ]
  },
  {
   "cell_type": "markdown",
   "metadata": {},
   "source": [
    "## Example 5.18: Page No 255"
   ]
  },
  {
   "cell_type": "code",
   "execution_count": 18,
   "metadata": {
    "collapsed": false
   },
   "outputs": [
    {
     "name": "stdout",
     "output_type": "stream",
     "text": [
      "Emitter current in transistor Q3 = 0.98 mA \n"
     ]
    }
   ],
   "source": [
    "#Emitter current in transistor Q3\n",
    "\n",
    "bta=100#\n",
    "VBE=0.75# # in volts\n",
    "# From Fig. 5.32\n",
    "I=(10-VBE)/4.7# # in mili-amperes\n",
    "IE=I/2# # in mili-amperes\n",
    "print \"Emitter current in transistor Q3 = %0.2f mA \"%IE"
   ]
  }
 ],
 "metadata": {
  "kernelspec": {
   "display_name": "Python 2",
   "language": "python",
   "name": "python2"
  },
  "language_info": {
   "codemirror_mode": {
    "name": "ipython",
    "version": 2
   },
   "file_extension": ".py",
   "mimetype": "text/x-python",
   "name": "python",
   "nbconvert_exporter": "python",
   "pygments_lexer": "ipython2",
   "version": "2.7.9"
  }
 },
 "nbformat": 4,
 "nbformat_minor": 0
}
