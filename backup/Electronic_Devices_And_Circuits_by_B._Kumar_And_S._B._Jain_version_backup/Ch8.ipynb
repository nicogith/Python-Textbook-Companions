{
 "cells": [
  {
   "cell_type": "markdown",
   "metadata": {},
   "source": [
    "# Chapter 8 : FET Amplifiers"
   ]
  },
  {
   "cell_type": "markdown",
   "metadata": {},
   "source": [
    "## Example 8.1: Page No 377"
   ]
  },
  {
   "cell_type": "code",
   "execution_count": 3,
   "metadata": {
    "collapsed": false
   },
   "outputs": [
    {
     "name": "stdout",
     "output_type": "stream",
     "text": [
      "gm = 3.36 mS\n"
     ]
    }
   ],
   "source": [
    "from __future__ import division\n",
    "#gm\n",
    "\n",
    "IDSS=12# # in mili-amperes\n",
    "Vp=-5# # in volts\n",
    "VGS=-1.5# # in volts\n",
    "gmo=2*IDSS/abs(Vp)# # in mili-Siemens\n",
    "gm=gmo*(1-VGS/Vp)# # in mili-Siemens\n",
    "print \"gm = %0.2f mS\"%gm"
   ]
  },
  {
   "cell_type": "markdown",
   "metadata": {},
   "source": [
    "## Example 8.2: Page No 380"
   ]
  },
  {
   "cell_type": "code",
   "execution_count": 5,
   "metadata": {
    "collapsed": false
   },
   "outputs": [
    {
     "name": "stdout",
     "output_type": "stream",
     "text": [
      "Voltage gain = -6.7 \n"
     ]
    }
   ],
   "source": [
    "#Voltage gain\n",
    "\n",
    "gm=2# # in mili-ampere per volt\n",
    "rd=10# # in kilo-ohms\n",
    "# From Fig. 8.7\n",
    "RD_eff=10*10/(10+10)# # in kilo-ohms\n",
    "AV=-gm*rd*RD_eff/(rd+RD_eff)# # Voltage gain\n",
    "print \"Voltage gain = %0.1f \"%AV"
   ]
  },
  {
   "cell_type": "markdown",
   "metadata": {},
   "source": [
    "## Example 8.3: Page No 384"
   ]
  },
  {
   "cell_type": "code",
   "execution_count": 7,
   "metadata": {
    "collapsed": false
   },
   "outputs": [
    {
     "name": "stdout",
     "output_type": "stream",
     "text": [
      "gm = 1.51 mA/V\n",
      "µ = 75.56 \n",
      "Ri = 1.00 MΩ\n",
      "Ro = 3.22 kΩ\n",
      "AV = -1.92 \n"
     ]
    }
   ],
   "source": [
    "#gm, µ, Ri, Ro, AV\n",
    "\n",
    "VGSQ=-2.6# # in volts\n",
    "IDSS=8# # in mili-amperes\n",
    "Vp=-6# # in volts\n",
    "rd=50# # in kilo-ohms\n",
    "# From Fig. 8.11\n",
    "RD=3.3# # in kilo-ohms\n",
    "RG=1# # in mega-ohms\n",
    "RS=1# # in kilo-ohms\n",
    "gmo=2*IDSS/abs(Vp)# # in mili-ampere per volt\n",
    "gm=gmo*(1-VGSQ/Vp)# # in mili-ampere per volt\n",
    "mu=rd*gm# # µ\n",
    "Ro=(rd+(1+mu)*RS)*RD/(RD+rd+(1+mu)*RS)# # in kilo-ohms\n",
    "AV=-mu*RD/(RD+rd+(1+mu)*RS)#\n",
    "print \"gm = %0.2f mA/V\"%gm\n",
    "print \"µ = %0.2f \"%mu\n",
    "print \"Ri = %0.2f MΩ\"%RG\n",
    "print \"Ro = %0.2f kΩ\"%Ro\n",
    "print \"AV = %0.2f \"%AV"
   ]
  },
  {
   "cell_type": "markdown",
   "metadata": {},
   "source": [
    "## Example 8.4: Page No 386"
   ]
  },
  {
   "cell_type": "code",
   "execution_count": 9,
   "metadata": {
    "collapsed": false
   },
   "outputs": [
    {
     "name": "stdout",
     "output_type": "stream",
     "text": [
      "AV = 0.83 \n",
      "Ri = 10.00 MΩ\n",
      "Ro = 0.347 kΩ\n"
     ]
    }
   ],
   "source": [
    "#AV, Ri, Ro\n",
    "\n",
    "IDSS=16# # in mili-amperes\n",
    "Vp=-4# # in volts\n",
    "rd=40# # in kilo-ohms\n",
    "# From Fig. 8.14\n",
    "RS=2.2# # in kilo-ohms\n",
    "# Using dc analysis\n",
    "VGSQ=-2.8# # in volts\n",
    "gmo=2*IDSS/abs(Vp)# # in mili-ampere per volt\n",
    "gm=gmo*(1-VGSQ/Vp)# # in mili-ampere per volt\n",
    "mu=rd*gm# # Amplification factor\n",
    "AV=mu*RS/(rd+(1+mu)*RS)#\n",
    "Ri=10# # in mega-ohms\n",
    "Ro=rd*RS/(rd+(1+mu)*RS)# # in kilo-ohms\n",
    "print \"AV = %0.2f \"%AV\n",
    "print \"Ri = %0.2f MΩ\"%Ri\n",
    "print \"Ro = %0.3f kΩ\"%Ro"
   ]
  },
  {
   "cell_type": "markdown",
   "metadata": {},
   "source": [
    "## Example 8.5: Page No 389"
   ]
  },
  {
   "cell_type": "code",
   "execution_count": 10,
   "metadata": {
    "collapsed": false
   },
   "outputs": [
    {
     "name": "stdout",
     "output_type": "stream",
     "text": [
      "AV = 6.30 \n",
      "Ri = 0.39 kΩ\n",
      "Ro = 3.05 kΩ\n"
     ]
    }
   ],
   "source": [
    "#AV, Ri, Ro\n",
    "\n",
    "VGSQ=-1.8# # in volts\n",
    "rd=40# # in kilo-ohms\n",
    "IDSS=8# # in mili-amperes\n",
    "Vp=-2.8# # in volts\n",
    "# From Fig. 8.16\n",
    "RD=3.3# # in kilo-ohms\n",
    "RS=1.5# # in kilo-ohms\n",
    "gmo=2*IDSS/abs(Vp)# # in mili-Siemens\n",
    "gm=gmo*(1-VGSQ/Vp)# # in mili-Siemens\n",
    "mu=rd*gm# # Amplification factor\n",
    "AV=(1+mu)*RD/(rd+RD)#\n",
    "Ri_dash=(RD+rd)/(1+mu)# # in kilo-ohms\n",
    "Ri=Ri_dash*RS/(Ri_dash+RS)# # in kilo-ohms\n",
    "Ro=rd*RD/(rd+RD)#\n",
    "print \"AV = %0.2f \"%AV\n",
    "print \"Ri = %0.2f kΩ\"%Ri\n",
    "print \"Ro = %0.2f kΩ\"%Ro"
   ]
  },
  {
   "cell_type": "markdown",
   "metadata": {},
   "source": [
    "## Example 8.6: Page No 392"
   ]
  },
  {
   "cell_type": "code",
   "execution_count": 11,
   "metadata": {
    "collapsed": false
   },
   "outputs": [
    {
     "name": "stdout",
     "output_type": "stream",
     "text": [
      "gm = 3.00 mS\n",
      "AV = -6.60 \n",
      "Ri = 1.32 MΩ\n",
      "Ro = 2.20 kΩ\n"
     ]
    }
   ],
   "source": [
    "#gm, Ri, Ro, AV\n",
    "\n",
    "VGSQ=8# # in volts\n",
    "VT=3# # in volts\n",
    "k=0.3e-3#\n",
    "# From Fig. 8.18\n",
    "RF=10e6# # in ohms\n",
    "RD=2.2e3# # in ohms\n",
    "gm=2*k*(VGSQ-VT)# # in Siemens\n",
    "Ri=RF/(1+gm*RD)# # in ohms\n",
    "Ro=RF*RD/(RF+RD)# # in ohms\n",
    "AV=-gm*Ro#\n",
    "gm=gm*1e3# # in mili-Siemens\n",
    "Ri=Ri*1e-6# # in mega-ohms\n",
    "Ro=Ro*1e-3# # in kilo-ohms\n",
    "print \"gm = %0.2f mS\"%gm\n",
    "print \"AV = %0.2f \"%AV\n",
    "print \"Ri = %0.2f MΩ\"%Ri\n",
    "print \"Ro = %0.2f kΩ\"%Ro"
   ]
  }
 ],
 "metadata": {
  "kernelspec": {
   "display_name": "Python 2",
   "language": "python",
   "name": "python2"
  },
  "language_info": {
   "codemirror_mode": {
    "name": "ipython",
    "version": 2
   },
   "file_extension": ".py",
   "mimetype": "text/x-python",
   "name": "python",
   "nbconvert_exporter": "python",
   "pygments_lexer": "ipython2",
   "version": "2.7.9"
  }
 },
 "nbformat": 4,
 "nbformat_minor": 0
}
