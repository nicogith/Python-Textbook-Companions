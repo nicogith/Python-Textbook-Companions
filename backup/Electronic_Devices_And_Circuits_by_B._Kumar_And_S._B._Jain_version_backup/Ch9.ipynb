{
 "cells": [
  {
   "cell_type": "markdown",
   "metadata": {},
   "source": [
    "# Chapter 9 : Multistage Amplifiers"
   ]
  },
  {
   "cell_type": "markdown",
   "metadata": {},
   "source": [
    "## Exmaple 9.1: Page No 402"
   ]
  },
  {
   "cell_type": "code",
   "execution_count": 2,
   "metadata": {
    "collapsed": false
   },
   "outputs": [
    {
     "name": "stdout",
     "output_type": "stream",
     "text": [
      "Overall voltage gain = -79.61 \n",
      "Overall current gain = -31.84 \n"
     ]
    }
   ],
   "source": [
    "from __future__ import division\n",
    "#Overall voltage gain, Overall current gain\n",
    "\n",
    "bta=100#\n",
    "r_pi=0.5# # in kilo-ohms\n",
    "# From Fig. 9.4\n",
    "Rs=2# # in kilo-ohms\n",
    "RC=2# # in kilo-ohms\n",
    "RE=5# # in kilo-ohms\n",
    "# As the first stage ia a CE amplifier stage\n",
    "AV1=-bta*RC/(Rs+r_pi)# # Voltage gain of first amplifier\n",
    "# The second stage is a CC amplifier\n",
    "AV2=(1+bta)*RE/(Rs+r_pi+(1+bta)*RE)# # Voltage gain of second amplifier\n",
    "AV=AV1*AV2# # Overall voltage gain\n",
    "AI=Rs*AV/RE# # Overall current gain\n",
    "print \"Overall voltage gain = %0.2f \"%AV\n",
    "print \"Overall current gain = %0.2f \"%AI"
   ]
  },
  {
   "cell_type": "markdown",
   "metadata": {},
   "source": [
    "## Example 9.2: Page No 403"
   ]
  },
  {
   "cell_type": "code",
   "execution_count": 3,
   "metadata": {
    "collapsed": false
   },
   "outputs": [
    {
     "name": "stdout",
     "output_type": "stream",
     "text": [
      "Overall voltage gain = 12119.79 \n",
      "Overall current gain = 939.35 \n",
      "Imput impedance = 0.78 kΩ \n",
      "Output impedance = 1.67 kΩ \n"
     ]
    }
   ],
   "source": [
    "#Overall voltage gain, Current gain, Input impedance, Output impedance\n",
    "\n",
    "bta=100#\n",
    "VBE=0.7# # in volts\n",
    "VT=25e-3# # Voltage equivalent to temperatue at room temperature in volts\n",
    "# From Fig. 9.7\n",
    "R1=22# # in kilo-ohms\n",
    "R2=3.3# # in kilo-ohms\n",
    "RC1=6# # in kilo-ohms\n",
    "RE1=0.5# # in kilo-ohms\n",
    "R3=16# # in kilo-ohms\n",
    "R4=6.2# # in kilo-ohms\n",
    "RC2=2# # in kilo-ohms\n",
    "RE2=1# # in kilo-ohms\n",
    "RL=10# # in kilo-ohms\n",
    "\n",
    "\n",
    "# DC analysis\n",
    "\n",
    "# From simplified dc equivalent circuit for stage 1 in Fig. 9.8(a)\n",
    "RB1=R1*R2/(R1+R2)# # in kilo-ohms\n",
    "VBB1=15*R2/(R1+R2)# # in volts\n",
    "IB1=(VBB1-VBE)/(RB1+(1+bta)*RE1)# # in mili-amperes\n",
    "IC1=bta*IB1# # in mili-amperes\n",
    "gm1=IC1/VT# # in mili-Siemens\n",
    "r_pi1=bta/gm1# # in kilo-ohms\n",
    "\n",
    "# From simplified dc equivalent circuit for stage 2 in Fig. 9.8(b)\n",
    "RB2=R3*R4/(R3+R4)# # in kilo-ohms\n",
    "VBB2=15*R4/(R3+R4)# # in volts\n",
    "IB2=(VBB2-VBE)/(RB2+(1+bta)*RE2)# # in mili-amperes\n",
    "IC2=bta*IB2# # in mili-amperes\n",
    "gm2=IC2/VT# # in mili-Siemens\n",
    "r_pi2=bta/gm2# # in kilo-ohms\n",
    "\n",
    "\n",
    "# AC analysis\n",
    "\n",
    "# Applying Thevnin theorem at 1-1' in ac equivalent circuit in Fig. 9.9 to obtain equivalent circuit of stage 1 in Fig. 9.10(a)\n",
    "RL1=RC1*RB2/(RC1+RB2)# # Effective load for first stage in kilo-ohms\n",
    "AV1=-bta*RL1/r_pi1# # Voltage gain of first stage\n",
    "\n",
    "# Using the Thevnin's equivalent of first stage the equivalent circuit of second stage is shown in Fig. 9.10(b)\n",
    "RL2=RC2*RL/(RC2+RL)# # Effective load for second stage in kilo-ohms\n",
    "AV2=-bta*RL2/(RL1+r_pi2)# # Voltage gain of second stage\n",
    "\n",
    "Io_Ic2=-RC2/(RC2+RL)# # Io/Ic2\n",
    "Ic2_Ib2=-bta# # Ic2/Ib2\n",
    "#From simplified diagram in Fig. 9.11\n",
    "Ib2_Ic1=-RL1/(RL1+r_pi2)# # Ib2/Ic1\n",
    "Ic1_Ib1=-bta# # Ic1/Ib1\n",
    "Ib1_Ii=RB1/(RB1+r_pi1)# # Ib1/Ii\n",
    "\n",
    "AV=AV1*AV2# # Overall voltage gain\n",
    "AI=Io_Ic2*Ic2_Ib2*Ib2_Ic1*Ic1_Ib1*Ib1_Ii# # Overall current gain\n",
    "Ri=RB1*r_pi1/(RB1+r_pi1)# # Input impedance in kilo-ohms\n",
    "Ro=RC2*RL/(RC2+RL)# # Output impedance in kilo-ohms\n",
    "print \"Overall voltage gain = %0.2f \"%AV\n",
    "print \"Overall current gain = %0.2f \"%AI\n",
    "print \"Imput impedance = %0.2f kΩ \"%Ri\n",
    "print \"Output impedance = %0.2f kΩ \"%Ro"
   ]
  },
  {
   "cell_type": "markdown",
   "metadata": {},
   "source": [
    "## Example 9.3: Page No 407"
   ]
  },
  {
   "cell_type": "code",
   "execution_count": 4,
   "metadata": {
    "collapsed": false
   },
   "outputs": [
    {
     "name": "stdout",
     "output_type": "stream",
     "text": [
      "Voltage gain = -825.58 \n"
     ]
    }
   ],
   "source": [
    "#Voltage gain\n",
    "\n",
    "bta=150#\n",
    "VA=130# # in volts\n",
    "IC=100# # in micro-amperes\n",
    "Rs=50# # in kilo-ohms\n",
    "RC=250# # in kilo-ohms\n",
    "VT=25# # Voltage equivalent to temperatue at room temperature in mili-volts\n",
    "gm=IC/VT# # in mili-Siemens\n",
    "ro=VA/IC# # in Megaohms\n",
    "ro=ro*1e3# # in kilo-ohms\n",
    "r_pi=bta/gm# # in kilo-ohms\n",
    "# From ac equivalent circuit of the first CC stage using hybrid-π model in Fig. 9.13(a)\n",
    "# Voltage gain of CC stage\n",
    "AV1=(1+bta)*ro/(Rs+r_pi+(1+bta)*ro)# # Voltage gain of first stage\n",
    "Ro1=(Rs+r_pi)/(1+bta)# # in kilo-ohms\n",
    "Ro1_dash=ro*Ro1/(ro+Ro1)# # in kilo-ohms\n",
    "# From the ac equivalent circuit of second stage in Fig. 9.13(b)\n",
    "RL=ro*RC/(ro+RC)# # Effective load for second stage in kilo-ohms\n",
    "AV2=-bta*RL/(Ro1_dash+r_pi)# # Voltage gain of second stage\n",
    "AV=AV1*AV2# # Overall voltage gain\n",
    "print \"Voltage gain = %0.2f \"%AV"
   ]
  },
  {
   "cell_type": "markdown",
   "metadata": {},
   "source": [
    "## Example 9.4: Page No 409"
   ]
  },
  {
   "cell_type": "code",
   "execution_count": 5,
   "metadata": {
    "collapsed": false
   },
   "outputs": [
    {
     "name": "stdout",
     "output_type": "stream",
     "text": [
      "Part (i)\n",
      "Voltage gain = 30.25 \n",
      "Input impedance = 3.00 MΩ \n",
      "Output impedance = 2.20 kΩ \n",
      "Part (ii)\n",
      "Output voltage = 247.95 mV \n"
     ]
    }
   ],
   "source": [
    "#              (i) Voltage gain, Input impedance, Output impedance\n",
    "#             (ii) Output voltage\n",
    "\n",
    "gm=2.5# # in mili-Siemens\n",
    "# From Fig. 9.14(a)\n",
    "RG=3# # in Mega-ohms\n",
    "RD=2.2# # in kilo-ohms\n",
    "\n",
    "print \"Part (i)\"\n",
    "AV1=-gm*RD# # Voltage gain of both individual stages\n",
    "AV=AV1**2# # Overall voltage gain\n",
    "print \"Voltage gain = %0.2f \"%AV\n",
    "print \"Input impedance = %0.2f MΩ \"%RG\n",
    "print \"Output impedance = %0.2f kΩ \"%RD\n",
    "\n",
    "print \"Part (ii)\"\n",
    "Vi=10# # in mili-volts\n",
    "RD_dash=RD*10/(RD+10)# # Effective load of secong stage in kilo-ohms\n",
    "# Now the gain of second stage\n",
    "AV2=-gm*RD_dash#\n",
    "AV=AV1*AV2# # Overall voltage gain\n",
    "Vo=Vi*AV# # Output voltage in mili-volts\n",
    "print \"Output voltage = %0.2f mV \"%Vo"
   ]
  },
  {
   "cell_type": "markdown",
   "metadata": {},
   "source": [
    "## Example 9.5: Page No 410"
   ]
  },
  {
   "cell_type": "code",
   "execution_count": 7,
   "metadata": {
    "collapsed": false
   },
   "outputs": [
    {
     "name": "stdout",
     "output_type": "stream",
     "text": [
      "Part (i)\n",
      "Voltage gain of first stage  = -9.88 CS amplifier with RS1 \n",
      "Voltage gain of second stage = -8.00 CS amplifier stage \n",
      "Voltage gain of third stage = 0.82 CD amplifier stage \n",
      "Part (ii)\n",
      "Overall voltage gain = 64.50 \n",
      "Part (iii)\n",
      "Output resistance = 0.816 kΩ \n"
     ]
    }
   ],
   "source": [
    "##              (i) Gain of each stage\n",
    "#             (ii) Overall voltage gain\n",
    "#            (iii) Output resistance Ro'\n",
    "\n",
    "gm=1 # in mili-mho\n",
    "rd=40# # in kilo-ohms\n",
    "# From Fig. 9.14(b)\n",
    "RD1=40 # in kilo-ohms\n",
    "RS1=2 # in kilo-ohms\n",
    "RD2=10 # in kilo-ohms\n",
    "RS3=5 # in kilo-ohms\n",
    "mu=rd*gm# # Amplification factor\n",
    "\n",
    "print \"Part (i)\"\n",
    "AV1=-mu*RD1/(rd+RD1+(1+mu)*RS1)# # Voltage gain of first stage (CS amplifier with RS1)\n",
    "AV2=-mu*RD2/(rd+RD2)# # Voltage gain of second stage (CS amplifier stage)\n",
    "AV3=mu*RS3/(rd+(1+mu)*RS3)# # Voltage gain of third stage (CD amplifier stage)\n",
    "print \"Voltage gain of first stage  = %0.2f CS amplifier with RS1 \"%AV1\n",
    "print \"Voltage gain of second stage = %0.2f CS amplifier stage \"%AV2\n",
    "print \"Voltage gain of third stage = %0.2f CD amplifier stage \"%AV3\n",
    "\n",
    "print \"Part (ii)\"\n",
    "AV=AV1*AV2*AV3# # Overall voltage gain\n",
    "print \"Overall voltage gain = %0.2f \"%AV\n",
    "\n",
    "print \"Part (iii)\"\n",
    "# Last stage is a CD amplifier, therefore\n",
    "Ro=rd/(1+mu)# # in kilo-ohms\n",
    "Ro_dash=Ro*RS3/(Ro+RS3)# # in kilo-ohms\n",
    "print \"Output resistance = %0.3f kΩ \"%Ro_dash"
   ]
  },
  {
   "cell_type": "markdown",
   "metadata": {},
   "source": [
    "## Example 9.6: Page No 412"
   ]
  },
  {
   "cell_type": "code",
   "execution_count": 8,
   "metadata": {
    "collapsed": false
   },
   "outputs": [
    {
     "name": "stdout",
     "output_type": "stream",
     "text": [
      "Input impedance = 10.00 MΩ \n",
      "Output impedance = 2.70 kΩ \n",
      "Voltage gain = 647.33 \n"
     ]
    }
   ],
   "source": [
    "#Input impedance, Output impedance, Voltage gain\n",
    "\n",
    "gm=2.5# # in mili-Siemens\n",
    "r_pi=1.3# # in kilo-ohms\n",
    "bta=200#\n",
    "# From Fig. 9.14(c)\n",
    "Ri2=15*4.7*1.3/(15*4.7+15*1.3+4.7*1.3)# # Input impedance of second stage in kilo-ohms\n",
    "RD_dash=1.8*Ri2/(1.8+Ri2)# # Effective load for the first stage in kilo-ohms\n",
    "AV1=-gm*RD_dash# # Voltage gain of the loaded 1st stage\n",
    "AV2=-bta*2.7/r_pi# # Voltage gain of the 2nd stage\n",
    "AV=AV1*AV2# # Overall voltage gain\n",
    "print \"Input impedance = %0.2f MΩ \"%10\n",
    "print \"Output impedance = %0.2f kΩ \"%2.70\n",
    "print \"Voltage gain = %0.2f \"%AV"
   ]
  },
  {
   "cell_type": "markdown",
   "metadata": {},
   "source": [
    "## Example 9.7: Page No 416"
   ]
  },
  {
   "cell_type": "code",
   "execution_count": 9,
   "metadata": {
    "collapsed": false
   },
   "outputs": [
    {
     "name": "stdout",
     "output_type": "stream",
     "text": [
      "AV = 0.93 \n",
      "Ri = 12.02 MΩ \n",
      "Ro = 30.64 kΩ \n"
     ]
    }
   ],
   "source": [
    "#AV, Ri, Ro\n",
    "\n",
    "RE=0.5# # in kilo-ohms\n",
    "Rs=50# # in kilo-ohms\n",
    "Ic1=15e-3# # in mili-amperes\n",
    "Ic2=1# # in mili-amperes\n",
    "VA=100# # in volts\n",
    "bta=150#\n",
    "VT=25e-3# # Voltage equivalent to temperatue at room temperature in volts\n",
    "# For Q1\n",
    "gm1=Ic1/VT# # in mili-mho\n",
    "r_pi1=bta/gm1# # in kilo-ohms\n",
    "ro1=VA/Ic1# # in kilo-ohms\n",
    "# For Q2\n",
    "gm2=Ic2/VT# # in mili-mho\n",
    "r_pi2=bta/gm2# # in kilo-ohms\n",
    "ro2=VA/Ic2# # in kilo-ohms\n",
    "# From ac equivalent circuit in Fig. 9.17\n",
    "RE2=ro2*RE/(ro2+RE)# # Effective load for stage Q2 in kilo-ohms\n",
    "Ri2=r_pi2+(1+bta)*RE2# # Input resistance for second stage in kilo-ohms\n",
    "AV2=(1+bta)*RE2/Ri2# # Voltage gain of the second stage\n",
    "RE1=ro1*Ri2/(ro1+Ri2)# # Effective load for the first stage in kilo-ohms\n",
    "Ri1=r_pi1+(1+bta)*RE1# # Input resistance for first stage in kilo-ohms\n",
    "AV1=(1+bta)*RE1/Ri1# # Voltage gain of first stage\n",
    "AV=AV1*AV2# # Overall voltage gain\n",
    "Ro=ro2*(r_pi2+ro1)/(ro2*(1+bta)+r_pi2+ro1)# # Output resistance in kilo-ohms\n",
    "Ri1=Ri1*1e-3# # in Mega-ohms\n",
    "print \"AV = %0.2f \"%AV\n",
    "print \"Ri = %0.2f MΩ \"%Ri1\n",
    "print \"Ro = %0.2f kΩ \"%Ro"
   ]
  },
  {
   "cell_type": "markdown",
   "metadata": {},
   "source": [
    "## Example 9.8 : Page 420"
   ]
  },
  {
   "cell_type": "code",
   "execution_count": 10,
   "metadata": {
    "collapsed": false
   },
   "outputs": [
    {
     "name": "stdout",
     "output_type": "stream",
     "text": [
      "Gain = -240.00 \n"
     ]
    }
   ],
   "source": [
    "IC=1# # in mili-amperes\n",
    "bta=120#\n",
    "VT=25e-3# # Voltage equivalent to temperatue at room temperature in volts\n",
    "# From Fig. 9.20\n",
    "RC=6# # in kilo-ohms\n",
    "AV1=-1# # Voltage gain of CE stage (from Eqn. 9.35)\n",
    "gm=IC/VT# # in mili-mho\n",
    "AV2=gm*RC# # Voltage gain of CB stage\n",
    "AV=AV1*AV2# # Overall voltage gain\n",
    "print \"Gain = %0.2f \"%AV"
   ]
  }
 ],
 "metadata": {
  "kernelspec": {
   "display_name": "Python 2",
   "language": "python",
   "name": "python2"
  },
  "language_info": {
   "codemirror_mode": {
    "name": "ipython",
    "version": 2
   },
   "file_extension": ".py",
   "mimetype": "text/x-python",
   "name": "python",
   "nbconvert_exporter": "python",
   "pygments_lexer": "ipython2",
   "version": "2.7.9"
  }
 },
 "nbformat": 4,
 "nbformat_minor": 0
}
