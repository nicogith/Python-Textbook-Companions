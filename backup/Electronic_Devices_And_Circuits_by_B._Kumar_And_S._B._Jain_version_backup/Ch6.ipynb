{
 "cells": [
  {
   "cell_type": "markdown",
   "metadata": {},
   "source": [
    "# Chapter 6 : BJT amplifiers"
   ]
  },
  {
   "cell_type": "markdown",
   "metadata": {},
   "source": [
    "## Example 6.2: Page No 275"
   ]
  },
  {
   "cell_type": "code",
   "execution_count": 1,
   "metadata": {
    "collapsed": false
   },
   "outputs": [
    {
     "name": "stdout",
     "output_type": "stream",
     "text": [
      "rπ = 3.29 kΩ \n",
      "gm = 31.62 mA/V \n"
     ]
    }
   ],
   "source": [
    "#rπ, gm\n",
    "\n",
    "IBQ=7.6e-6 # in amperes\n",
    "bta=104#\n",
    "VT=25e-3 # Voltage equivalent to temperatue at room temperature in volts\n",
    "ICQ=IBQ*bta # in amperes\n",
    "gm=ICQ/VT # in ampere per volt\n",
    "gm=gm*1e3 # in mili-ampere per volt\n",
    "r_pi=bta/gm # in kilo-ohms\n",
    "print \"rπ = %0.2f kΩ \"%r_pi\n",
    "print \"gm = %0.2f mA/V \"%gm"
   ]
  },
  {
   "cell_type": "markdown",
   "metadata": {},
   "source": [
    "## Example 6.3: Page No 287"
   ]
  },
  {
   "cell_type": "code",
   "execution_count": 3,
   "metadata": {
    "collapsed": false
   },
   "outputs": [
    {
     "name": "stdout",
     "output_type": "stream",
     "text": [
      "AI = -90.91 \n",
      "Ri = 0.91 kΩ \n",
      "AV = -500.00 \n",
      "AVs = -238.10 \n",
      "Ro = 100.00 kΩ \n",
      "Ro'' = 4.76 kΩ \n"
     ]
    }
   ],
   "source": [
    "#AI, Ri, AV, AVs, Ro, Ro'\n",
    "\n",
    "hie=1e3 # in ohms\n",
    "hfe=100#\n",
    "hre=2e-4#\n",
    "hoe=20e-6 # in amperes per volt\n",
    "RC=5e3 # in ohms\n",
    "Rs=1e3 # in ohms\n",
    "# From Table 6.3\n",
    "AI=-hfe/(1+hoe*RC)#\n",
    "Ri=hie+hre*AI*RC # in ohms\n",
    "AV=AI*RC/Ri#\n",
    "AVs=AV*Ri/(Ri+Rs)#\n",
    "Yo=hoe-hfe*hre/(hie+Rs) # in ohms inverse\n",
    "Ro=1/Yo # in ohms\n",
    "Ro_dash=Ro*RC/(Ro+RC) # in ohms\n",
    "Ri=Ri*1e-3 # in kilo-ohms\n",
    "Ro=Ro*1e-3 # in kilo-ohms\n",
    "Ro_dash=Ro_dash*1e-3 # in kilo-ohms\n",
    "print \"AI = %0.2f \"%AI\n",
    "print \"Ri = %0.2f kΩ \"%Ri\n",
    "print \"AV = %0.2f \"%AV\n",
    "print \"AVs = %0.2f \"%AVs\n",
    "print \"Ro = %0.2f kΩ \"%Ro\n",
    "print \"Ro'' = %0.2f kΩ \"%Ro_dash"
   ]
  },
  {
   "cell_type": "markdown",
   "metadata": {},
   "source": [
    "## Example 6.4: Page No 288"
   ]
  },
  {
   "cell_type": "code",
   "execution_count": 4,
   "metadata": {
    "collapsed": false
   },
   "outputs": [
    {
     "name": "stdout",
     "output_type": "stream",
     "text": [
      "AI'' = -37.34 \n",
      "AVs = -51.78 \n",
      "Ri,eff = 1.61 kΩ \n",
      "Ro = 57.97 kΩ \n",
      "Ro'' = 4.60 kΩ \n"
     ]
    }
   ],
   "source": [
    "#AI', AVs, Ri,eff, Ro, Ro'\n",
    "\n",
    "hie=2e3 # in ohms\n",
    "hfe=50#\n",
    "hre=2e-4#\n",
    "hoe=20e-6 # in amperes per volt\n",
    "# From Fig. 6.22(a)\n",
    "Rs=2e3 # in ohms\n",
    "R1=90e3 # in ohms\n",
    "R2=10e3 # in ohms\n",
    "RC=5e3 # in ohms\n",
    "# From the Table 6.3\n",
    "RB=R1*R2/(R1+R2) # in ohms\n",
    "AI=-hfe/(1+hoe*RC)#\n",
    "Ri=hie+hre*AI*RC # in ohms\n",
    "Ri_eff=RB*Ri/(RB+Ri) # in ohms\n",
    "AI_dash=AI*RB/(RB+Ri)#\n",
    "AVs=AI*RC*Ri_eff/(Ri*(Rs+Ri_eff))#\n",
    "Rs_eff=Rs*RB/(Rs+RB) # in ohms\n",
    "Yo=hoe-hfe*hre/(hie+Rs_eff) # in ohms inverse\n",
    "Ro=1/Yo # in ohms\n",
    "Ro_dash=Ro*RC/(Ro+RC) # in ohms\n",
    "Ri_eff=Ri_eff*1e-3 # in kilo-ohms\n",
    "Ro=Ro*1e-3 # in kilo-ohms\n",
    "Ro_dash=Ro_dash*1e-3 # in kilo-ohms\n",
    "print \"AI'' = %0.2f \"%AI_dash\n",
    "print \"AVs = %0.2f \"%AVs\n",
    "print \"Ri,eff = %0.2f kΩ \"%Ri_eff\n",
    "print \"Ro = %0.2f kΩ \"%Ro\n",
    "print \"Ro'' = %0.2f kΩ \"%Ro_dash"
   ]
  },
  {
   "cell_type": "markdown",
   "metadata": {},
   "source": [
    "## Example 6.5: Page No 295"
   ]
  },
  {
   "cell_type": "code",
   "execution_count": 5,
   "metadata": {
    "collapsed": false
   },
   "outputs": [
    {
     "name": "stdout",
     "output_type": "stream",
     "text": [
      "AI = -8.41 \n",
      "AVs = -3.09 \n",
      "Ri = 205.00 kΩ \n",
      "Ro'' = 5.00 kΩ \n"
     ]
    }
   ],
   "source": [
    "#AI, AVs, Ri, Ro'\n",
    "\n",
    "hie=4e3 # in ohms\n",
    "hfe=200#\n",
    "# From Fig. 6.27(a)\n",
    "Rs=5e3 # in ohms\n",
    "R1=90e3 # in ohms\n",
    "R2=10e3 # in ohms\n",
    "RC=5e3 # in ohms\n",
    "RE=1e3 # in ohms\n",
    "# From Fig 6.27(b)\n",
    "RB=R1*R2/(R1+R2) # in ohms\n",
    "Ri=hie+(1+hfe)*RE # in ohms\n",
    "Ri_eff=RB*Ri/(RB+Ri) # in ohms\n",
    "AI=-hfe*RB/(RB+Ri)#\n",
    "AVs=-hfe*RC*Ri_eff/(Ri*(Rs+Ri_eff))#\n",
    "Ro_dash=RC # in ohms\n",
    "Ri=Ri*1e-3 # in kilo-ohms\n",
    "Ro_dash=Ro_dash*1e-3 # in kilo-ohms\n",
    "print \"AI = %0.2f \"%AI\n",
    "print \"AVs = %0.2f \"%AVs\n",
    "print \"Ri = %0.2f kΩ \"%Ri\n",
    "print \"Ro'' = %0.2f kΩ \"%Ro_dash"
   ]
  },
  {
   "cell_type": "markdown",
   "metadata": {},
   "source": [
    "## Example 6.6: Page No 305"
   ]
  },
  {
   "cell_type": "code",
   "execution_count": 6,
   "metadata": {
    "collapsed": false
   },
   "outputs": [
    {
     "name": "stdout",
     "output_type": "stream",
     "text": [
      "AI = -100.00 \n",
      "Ri = 101.09 kΩ \n",
      "AVs = -2.97 \n"
     ]
    }
   ],
   "source": [
    "#AI, Ri, AVs\n",
    "\n",
    "bta=100#\n",
    "VBE=0.7 # Cut-in voltage in volts\n",
    "VT=25e-3 # Voltage equivalent to temperatue at room temperature in volts\n",
    "# From Fig. 6.33\n",
    "RB=100e3 # in ohms\n",
    "RC=3e3 # in ohms\n",
    "VBB=3 # in volts\n",
    "\n",
    "# DC analysis\n",
    "# From dc equivalent circuit in Fig. 6.34(a)\n",
    "IBQ=(VBB-VBE)/RB # in amperes\n",
    "ICQ=bta*IBQ # in amperes\n",
    "gm=ICQ/VT # in ampere per volt\n",
    "r_pi=bta/gm # in ohms\n",
    "\n",
    "# AC analysis\n",
    "# From ac equivalent circuit using approximate hybrid-π model in Fig. 6.34(b)\n",
    "AI=-bta#\n",
    "Ri=RB+r_pi # in ohms\n",
    "AVs=-bta*RC/(RB+r_pi)#\n",
    "Ri=Ri*1e-3 # in kilo-ohms\n",
    "print \"AI = %0.2f \"%AI\n",
    "print \"Ri = %0.2f kΩ \"% Ri\n",
    "print \"AVs = %0.2f \"%AVs"
   ]
  },
  {
   "cell_type": "markdown",
   "metadata": {},
   "source": [
    "## Example 6.7: Page No 309"
   ]
  },
  {
   "cell_type": "code",
   "execution_count": 7,
   "metadata": {
    "collapsed": false
   },
   "outputs": [
    {
     "name": "stdout",
     "output_type": "stream",
     "text": [
      "Part (a)\n",
      "RE = 3.96 kΩ \n",
      "Part (b)\n",
      "Ro = 52.08 Ω \n",
      "Ro''  = 51.41 Ω \n"
     ]
    }
   ],
   "source": [
    "#              (a) Load resistance RE to make Ri ≥ 500 kΩ\n",
    "#              (b) AV, Ro, Ro'\n",
    "\n",
    "IC=2e-3 # in amperes\n",
    "Rs=5e3 # Source resistance in ohms\n",
    "bta=125#\n",
    "VT=25e-3 # Voltage equivalent to temperatue at room temperature in volts\n",
    "\n",
    "print \"Part (a)\"\n",
    "Ri=500e3 # in ohms\n",
    "gm=IC/VT # in mho\n",
    "r_pi=bta/gm # in ohms\n",
    "RE=(Ri-r_pi)/(1+bta) # in ohms\n",
    "REk=RE*1e-3 # in kilo-ohms\n",
    "print \"RE = %0.2f kΩ \"%REk\n",
    "\n",
    "print \"Part (b)\"\n",
    "AV=(1+bta)*RE/(Rs+Ri)#\n",
    "Ro=(Rs+r_pi)/(1+bta) # in ohms\n",
    "Ro_dash=Ro*RE/(Ro+RE) # in ohms\n",
    "print \"Ro = %0.2f Ω \"%Ro\n",
    "print \"Ro''  = %0.2f Ω \"%Ro_dash"
   ]
  },
  {
   "cell_type": "markdown",
   "metadata": {},
   "source": [
    "## Example 6.8: Page No 313"
   ]
  },
  {
   "cell_type": "code",
   "execution_count": 9,
   "metadata": {
    "collapsed": false
   },
   "outputs": [
    {
     "name": "stdout",
     "output_type": "stream",
     "text": [
      "Ri = 28.2 kΩ \n",
      "AVs = -20.7 \n"
     ]
    }
   ],
   "source": [
    "#Ri, AVs\n",
    "\n",
    "IC=0.2e-3 # in amperes\n",
    "bta=125#\n",
    "Rs=2e3 # in ohms\n",
    "RE=100 # in ohms\n",
    "RC=5e3 # in ohms\n",
    "VT=25e-3 # Voltage equivalent to temperatue at room temperature in volts\n",
    "gm=IC/VT # in mho\n",
    "r_pi=bta/gm # in ohms\n",
    "Ri=r_pi+(1+bta)*RE # in ohms\n",
    "AVs=-bta*RC/(Rs+r_pi+(1+bta)*RE)#\n",
    "Ri=Ri*1e-3 # in kilo-ohms\n",
    "print \"Ri = %0.1f kΩ \"%Ri\n",
    "print \"AVs = %0.1f \"%AVs"
   ]
  },
  {
   "cell_type": "markdown",
   "metadata": {},
   "source": [
    "## Example 6.9: Page No 314"
   ]
  },
  {
   "cell_type": "code",
   "execution_count": 10,
   "metadata": {
    "collapsed": false
   },
   "outputs": [
    {
     "name": "stdout",
     "output_type": "stream",
     "text": [
      "rπ  = 1.81 kΩ \n",
      "AI = -200.00 \n",
      "AVs = -218.41 \n",
      "Ro = inf \n",
      "Ro'' = 1.98 kΩ \n"
     ]
    }
   ],
   "source": [
    "#rπ, AI, Ri, AVs, Ro, Ro'\n",
    "\n",
    "bta=200#\n",
    "VT=25e-3 # Voltage equivalent to temperatue at room temperature in volts\n",
    "# From Fig. 6.39\n",
    "VBE=0.7 # Cut-in voltage in volts\n",
    "VCC=9 # in volts\n",
    "RB=200e3 # in ohms\n",
    "RC=2e3 # in ohms\n",
    "\n",
    "# DC analysis\n",
    "# From dc equivalent circuit in Fig. 6.40(a)\n",
    "# Writing KVL from collector to base loop\n",
    "IB=(VCC-VBE)/(RB+(1+bta)*RC) # in amperes\n",
    "ICQ=bta*IB#  # in amperes\n",
    "gm=ICQ/VT # in mho\n",
    "r_pi=bta/gm # in ohms\n",
    "\n",
    "# AC analysis\n",
    "# From ac equivalent circuit using Miller's theorem in Fig. 6.40(b)\n",
    "# Assuming AV >> 1\n",
    "RL=RB*RC/(RB+RC) # Effective load resistance in ohms\n",
    "# Using hybrid-π model and approximate resulta given in Table 6.5 for CE amplifier stage, we have\n",
    "AI=-bta#\n",
    "AV=-bta*RL/r_pi#\n",
    "from numpy import inf\n",
    "Ro=inf#\n",
    "r_pi=r_pi*1e-3 # in kilo-ohms\n",
    "RL=RL*1e-3 # in kilo-ohms\n",
    "print \"rπ  = %0.2f kΩ \"%r_pi\n",
    "print \"AI = %0.2f \"%AI\n",
    "print \"AVs = %0.2f \"%AV\n",
    "print \"Ro = %0.2f \"%Ro\n",
    "print \"Ro'' = %0.2f kΩ \"%RL"
   ]
  },
  {
   "cell_type": "markdown",
   "metadata": {},
   "source": [
    "## Example 6.10: Page No 323"
   ]
  },
  {
   "cell_type": "code",
   "execution_count": 11,
   "metadata": {
    "collapsed": false
   },
   "outputs": [
    {
     "name": "stdout",
     "output_type": "stream",
     "text": [
      "Ri,eff = 8.46 kΩ \n",
      "Ro = inf \n",
      "AI = -12.08 \n",
      "AVs = -3.24 \n"
     ]
    }
   ],
   "source": [
    "#Ri,eff, Ro, AV, AI\n",
    "\n",
    "bta=200#\n",
    "ro=50e3 # in ohms\n",
    "VBE=0.7 # Cut-in voltage in volts\n",
    "VT=25e-3 # Voltage equivalent to temperatue at room temperature in volts\n",
    "# From Fig. 6.44\n",
    "VCC=16 # in volts\n",
    "R1=90e3 # in ohms\n",
    "R2=10e3 # in ohms\n",
    "RC=2.2e3 # in ohms\n",
    "RE=0.68e3 # in ohms\n",
    "\n",
    "# DC analysis\n",
    "# From the Thevnin's equivalent circuit in Fig. 6.45(a)\n",
    "RB=R1*R2/(R1+R2) # in ohms\n",
    "VBB=VCC*R2/(R1+R2) # in volts\n",
    "# From the base loop\n",
    "IB=(VBB-VBE)/(RB+(1+bta)*RE) # in amperes\n",
    "IE=(1+bta)*IB # in amperes\n",
    "re=VT/IE # in ohms\n",
    "\n",
    "# AC analysis\n",
    "Ri=bta*re+(1+bta)*RE # in ohms\n",
    "Ri_eff=RB*Ri/(RB+Ri) # in ohms\n",
    "AI=-bta*RB/(RB+bta*(re+RE))#\n",
    "AV=-RC/RE#\n",
    "Ri_eff=Ri_eff*1e-3 # in kilo-ohms\n",
    "print \"Ri,eff = %0.2f kΩ \"%Ri_eff\n",
    "print \"Ro = %0.2f \"%inf\n",
    "print \"AI = %0.2f \"%AI\n",
    "print \"AVs = %0.2f \"%AV"
   ]
  }
 ],
 "metadata": {
  "kernelspec": {
   "display_name": "Python 2",
   "language": "python",
   "name": "python2"
  },
  "language_info": {
   "codemirror_mode": {
    "name": "ipython",
    "version": 2
   },
   "file_extension": ".py",
   "mimetype": "text/x-python",
   "name": "python",
   "nbconvert_exporter": "python",
   "pygments_lexer": "ipython2",
   "version": "2.7.9"
  }
 },
 "nbformat": 4,
 "nbformat_minor": 0
}
