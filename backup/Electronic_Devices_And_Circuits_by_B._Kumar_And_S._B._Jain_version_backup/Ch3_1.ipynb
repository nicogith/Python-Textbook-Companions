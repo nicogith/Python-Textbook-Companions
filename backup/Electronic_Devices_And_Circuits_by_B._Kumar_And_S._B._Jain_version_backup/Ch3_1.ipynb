{
 "cells": [
  {
   "cell_type": "markdown",
   "metadata": {},
   "source": [
    "# Chapter 3 : Applications of diodes"
   ]
  },
  {
   "cell_type": "markdown",
   "metadata": {},
   "source": [
    "## Example 3.4: Page No 116"
   ]
  },
  {
   "cell_type": "code",
   "execution_count": 37,
   "metadata": {
    "collapsed": false
   },
   "outputs": [
    {
     "name": "stdout",
     "output_type": "stream",
     "text": [
      "Part (a)\n",
      "DC load current = 1.20 A\n",
      "Part (b)\n",
      "DC power in load = 41.789 W\n",
      "Part (c)\n",
      "Rectification efficiency = 0.7836 \n",
      "Part (d)\n",
      "Percentage regulation = 3.45 %\n",
      "Part (e)\n",
      "PIV for each diode = 113.14 V\n"
     ]
    }
   ],
   "source": [
    "from math import sqrt, pi\n",
    "from __future__ import division\n",
    "#              (a) DC load current\n",
    "#              (b) DC power in load\n",
    "#              (c) Rectification efficiency\n",
    "#              (d) Percentage regulation\n",
    "#              (e) PIV of each diode\n",
    "Vrms=40# # Input in volts\n",
    "Rf=1# # Forward conduction resistance of diodes in ohms\n",
    "RL=29# # Load resistance in ohms\n",
    "Vmax=Vrms*sqrt(2)# # in volts\n",
    "Imax=Vmax/(Rf+RL)# # in amperes\n",
    "\n",
    "print \"Part (a)\"\n",
    "Idc=2*Imax/pi# # DC load current in amperes\n",
    "print \"DC load current = %0.2f A\"%Idc\n",
    "\n",
    "print \"Part (b)\"\n",
    "Pdc=Idc**2*RL# # DC power in load in watts\n",
    "print \"DC power in load = %0.3f W\"%Pdc\n",
    "\n",
    "print \"Part (c)\"\n",
    "Pac=Vrms**2/(Rf+RL)# # AC power in load\n",
    "eta=Pdc/Pac# # Rectification efficiency\n",
    "print \"Rectification efficiency = %0.4f \"%eta\n",
    "\n",
    "print \"Part (d)\"\n",
    "reg=Rf*100/RL# # Percentage regulation\n",
    "print \"Percentage regulation = %0.2f %%\"%reg\n",
    "\n",
    "print \"Part (e)\"\n",
    "PIV=2*Vmax# # in volts\n",
    "print \"PIV for each diode = %0.2f V\"%PIV"
   ]
  },
  {
   "cell_type": "markdown",
   "metadata": {},
   "source": [
    "## Example 3.5: Page No 118"
   ]
  },
  {
   "cell_type": "code",
   "execution_count": 38,
   "metadata": {
    "collapsed": false
   },
   "outputs": [
    {
     "name": "stdout",
     "output_type": "stream",
     "text": [
      "Part (a)\n",
      "DC voltage at load = 107.15 V\n",
      "Part (b)\n",
      "PIV rating of each diode = 169.71 V\n",
      "Part (c)\n",
      "Maximum current through each diode = 168.31 mA\n",
      "Part (d)\n",
      "Required power rating = 117.81 mW\n"
     ]
    }
   ],
   "source": [
    "from math import sqrt, pi\n",
    "from __future__ import division\n",
    "\n",
    "#              (a) DC voltage at load\n",
    "#              (b) PIV rating of each diode\n",
    "#              (c) Maximum current through each diode\n",
    "#              (d) Required power rating\n",
    "Vrms=120# # Input voltage in volts\n",
    "RL=1e3# # Load resistance in ohms\n",
    "Vy=0.7# # Cut-in voltage in volts\n",
    "\n",
    "print \"Part (a)\"\n",
    "Vmax=Vrms*sqrt(2)# # in volts\n",
    "Imax=(Vmax-2*Vy)/RL# # in amperes\n",
    "Idc=2*Imax/pi# # in amperes\n",
    "Vdc=Idc*RL# # in volts\n",
    "print \"DC voltage at load = %0.2f V\"%Vdc\n",
    "\n",
    "print \"Part (b)\"\n",
    "print \"PIV rating of each diode = %0.2f V\"%Vmax\n",
    "\n",
    "print \"Part (c)\"\n",
    "Imax=Imax*1e3# # in miliamperes\n",
    "print \"Maximum current through each diode = %0.2f mA\"%Imax\n",
    "\n",
    "print \"Part (d)\"\n",
    "Pmax=Vy*Imax# # Required power rating in mili-watts\n",
    "print \"Required power rating = %0.2f mW\"%Pmax"
   ]
  },
  {
   "cell_type": "markdown",
   "metadata": {},
   "source": [
    "## Example 3.6: Page No 119"
   ]
  },
  {
   "cell_type": "code",
   "execution_count": 39,
   "metadata": {
    "collapsed": false
   },
   "outputs": [
    {
     "name": "stdout",
     "output_type": "stream",
     "text": [
      "Part (a)\n",
      "Peak value of current = 0.2178 A\n",
      "Part (b)\n",
      "DC value of current = 0.13867 A\n",
      "Part (C)\n",
      "Ripple factor = 0.483 \n",
      "Part (d)\n",
      "Rectification efficiency = 0.803 \n"
     ]
    }
   ],
   "source": [
    "from math import sqrt, pi\n",
    "from __future__ import division\n",
    "\n",
    "#              (a) Peak value of current\n",
    "#              (b) DC value of current\n",
    "#              (c) Ripple factor\n",
    "#              (d) Rectification efficiency\n",
    "# From the Fig. 2.16\n",
    "RL=1e3# # Load resistance in ohms\n",
    "rd=10# # Forward bias dynamic resistance of diodes in ohms\n",
    "Vmax=220# # Amplitude of input voltage in volts\n",
    "\n",
    "print \"Part (a)\"\n",
    "Imax=Vmax/(rd+RL)# # Peak value of current in amperes\n",
    "print \"Peak value of current = %0.4f A\"%Imax\n",
    "\n",
    "print \"Part (b)\"\n",
    "Idc=2*Imax/pi# # DC value of current in amperes\n",
    "print \"DC value of current = %0.5f A\"%Idc\n",
    "\n",
    "print \"Part (C)\"\n",
    "ripl=sqrt((Imax/(Idc*sqrt(2)))**2-1)#\n",
    "print \"Ripple factor = %0.3f \"%ripl\n",
    "\n",
    "print \"Part (d)\"\n",
    "eta=8/(pi**2*(1+(rd/RL)))# # Rectification efficiency\n",
    "print \"Rectification efficiency = %0.3f \"%eta"
   ]
  },
  {
   "cell_type": "markdown",
   "metadata": {},
   "source": [
    "## Example 3.7: Page No 121"
   ]
  },
  {
   "cell_type": "code",
   "execution_count": 40,
   "metadata": {
    "collapsed": false
   },
   "outputs": [
    {
     "name": "stdout",
     "output_type": "stream",
     "text": [
      "Full-scale deflection = 5.5647 V\n"
     ]
    }
   ],
   "source": [
    "from math import pi, sqrt\n",
    "#Full scale reading\n",
    "Idc=1e-3# # in amperes\n",
    "Rf=10# # in ohms\n",
    "RL=5e3# # in ohms\n",
    "Vrms=Idc*(RL+Rf)*pi/(2*sqrt(2))# # Full-scale deflection in volts\n",
    "print \"Full-scale deflection = %0.4f V\"%Vrms"
   ]
  },
  {
   "cell_type": "markdown",
   "metadata": {},
   "source": [
    "## Example 3.8: Page No 122"
   ]
  },
  {
   "cell_type": "code",
   "execution_count": 41,
   "metadata": {
    "collapsed": false
   },
   "outputs": [
    {
     "name": "stdout",
     "output_type": "stream",
     "text": [
      "Full-scale deflection = 111.294 V\n"
     ]
    }
   ],
   "source": [
    "from math import sqrt, pi\n",
    "from __future__ import division\n",
    "\n",
    "#Full-scale reading\n",
    "Idc=5e-3# # in amperes\n",
    "Rf=40# # in ohms\n",
    "RL=20e3# # in ohms\n",
    "Vrms=Idc*(RL+Rf)*pi/(2*sqrt(2))# # Full-scale deflection in volts\n",
    "print \"Full-scale deflection = %0.3f V\"%Vrms"
   ]
  },
  {
   "cell_type": "markdown",
   "metadata": {},
   "source": [
    "## Example 3.10: Page No 133"
   ]
  },
  {
   "cell_type": "code",
   "execution_count": 42,
   "metadata": {
    "collapsed": false
   },
   "outputs": [
    {
     "name": "stdout",
     "output_type": "stream",
     "text": [
      "Minimum value of zener diode current = 4.00 mA\n",
      "Maximum value of zener diode current = 19.00 mA\n"
     ]
    }
   ],
   "source": [
    "#Minimum and maximum value of zener diode current\n",
    "# From the Fig. 3.33\n",
    "Vsmin=120# # in volts\n",
    "Vsmax=170# # in volts\n",
    "Vz=50# # in volts\n",
    "Rs=5e3# # in ohms\n",
    "RLmin=5e3# # in ohms\n",
    "RLmax=10e3# # in ohms\n",
    "ILmin=Vz/RLmax# # in amperes\n",
    "ILmax=Vz/RLmin# # in amperes\n",
    "Izmin=((Vsmin-Vz)/Rs)-ILmax# # Minimum value of zener diode current in amperes\n",
    "Izmin=Izmin*1e3# # Minimum value of zener diode current in miliamperes\n",
    "Izmax=((Vsmax-Vz)/Rs)-ILmin# # Maximum value of zener diode current in amperes\n",
    "Izmax=Izmax*1e3# # Maximum value of zener diode current in miliamperes\n",
    "print \"Minimum value of zener diode current = %0.2f mA\"%Izmin\n",
    "print \"Maximum value of zener diode current = %0.2f mA\"%Izmax"
   ]
  },
  {
   "cell_type": "markdown",
   "metadata": {},
   "source": [
    "## Example 3.11: Page No 134"
   ]
  },
  {
   "cell_type": "code",
   "execution_count": 43,
   "metadata": {
    "collapsed": false
   },
   "outputs": [
    {
     "name": "stdout",
     "output_type": "stream",
     "text": [
      "Part (a)\n",
      "V = 75.00 V\n",
      "Part (b)\n",
      "Vmin = 71.67 V\n",
      "Vmax = 91.67 V\n"
     ]
    }
   ],
   "source": [
    "#               (a) V\n",
    "#               (b) Voltage range of V\n",
    "\n",
    "Vz=50# # Zener voltage in volts\n",
    "Izmin=1e-3# # in amperes\n",
    "Izmax=5e-3# # in amperes\n",
    "\n",
    "print \"Part (a)\"\n",
    "ILmin=0#\n",
    "Rs=5e3# # in ohms\n",
    "V=Vz+Rs*(Izmax+ILmin)# # in volts\n",
    "print \"V = %0.2f V\"%V\n",
    "\n",
    "print \"Part (b)\"\n",
    "IL=(50/15)*1e-3# # in amperes\n",
    "Vmin=Vz+Rs*(Izmin+IL)# # in volts\n",
    "Vmax=Vz+Rs*(Izmax+IL)# # in volts\n",
    "print \"Vmin = %0.2f V\"%Vmin\n",
    "print \"Vmax = %0.2f V\"%Vmax"
   ]
  },
  {
   "cell_type": "markdown",
   "metadata": {},
   "source": [
    "## Example 3.12: Page No 135"
   ]
  },
  {
   "cell_type": "code",
   "execution_count": 44,
   "metadata": {
    "collapsed": false
   },
   "outputs": [
    {
     "name": "stdout",
     "output_type": "stream",
     "text": [
      "Normal situation\n",
      "Zener diode current = 22.00 mA\n",
      "Power dissipation in zener diode = 149.60 mW\n",
      "Power dissipation in resistor = 48.40 mW\n",
      "Aberrant situation\n",
      "Zener diode current = 82.00 mA\n",
      "Power dissipation in zener diode = 557.60 mW\n",
      "Power dissipation in resistor = 672.40 mW\n"
     ]
    }
   ],
   "source": [
    "#Zener diode current, Power dissipation in zener diode and resistor\n",
    "# In the Fig. 3.35\n",
    "Vz=6.8# # in volts\n",
    "R=100# # in ohms\n",
    "\n",
    "print \"Normal situation\"\n",
    "Vs=9# # in volts\n",
    "I=(Vs-Vz)/R# # in amperes\n",
    "Pzener=I*Vz# # in watts\n",
    "Presistor=I**2*R# # in watts\n",
    "I=I*1e3# # in miliamperes\n",
    "Pzener=Pzener*1e3# # in miliwatts\n",
    "Presistor=Presistor*1e3# # in miliwatts\n",
    "print \"Zener diode current = %0.2f mA\"%I\n",
    "print \"Power dissipation in zener diode = %0.2f mW\"%Pzener\n",
    "print \"Power dissipation in resistor = %0.2f mW\"%Presistor\n",
    "\n",
    "print \"Aberrant situation\"\n",
    "Vs=15# # in volts\n",
    "I=(Vs-Vz)/R# # in amperes\n",
    "Pzener=I*Vz# # in watts\n",
    "Presistor=I**2*R# # in watts\n",
    "I=I*1e3# # in miliamperes\n",
    "Pzener=Pzener*1e3# # in miliwatts\n",
    "Presistor=Presistor*1e3# # in miliwatts\n",
    "print \"Zener diode current = %0.2f mA\"%I\n",
    "print \"Power dissipation in zener diode = %0.2f mW\"%Pzener\n",
    "print \"Power dissipation in resistor = %0.2f mW\"%Presistor"
   ]
  },
  {
   "cell_type": "markdown",
   "metadata": {},
   "source": [
    "## Example 3.13: Page No 136"
   ]
  },
  {
   "cell_type": "code",
   "execution_count": 45,
   "metadata": {
    "collapsed": false
   },
   "outputs": [
    {
     "name": "stdout",
     "output_type": "stream",
     "text": [
      "ILmin = 52.63 mA\n",
      "ILmax = 476.32 mA\n"
     ]
    }
   ],
   "source": [
    "#Range of load current\n",
    "Vz=5# # in volts\n",
    "Izmin=50e-3# # in amperes\n",
    "Izmax=1# # in amperes\n",
    "Vmin=7.5# # in volts\n",
    "Vmax=10# # in volts\n",
    "Rs=4.75# # in ohms\n",
    "ILmin=((Vmax-Vz)/Rs)-Izmax# # in amperes\n",
    "ILmin=ILmin*1e3# # in miliamperes\n",
    "ILmax=((Vmin-Vz)/Rs)-Izmin# # in amperes\n",
    "ILmax=ILmax*1e3# # in miliamperes\n",
    "print \"ILmin = %0.2f mA\"%ILmin\n",
    "print \"ILmax = %0.2f mA\"%ILmax"
   ]
  },
  {
   "cell_type": "markdown",
   "metadata": {},
   "source": [
    "## Example 3.14: Page No 136"
   ]
  },
  {
   "cell_type": "code",
   "execution_count": 46,
   "metadata": {
    "collapsed": false
   },
   "outputs": [
    {
     "name": "stdout",
     "output_type": "stream",
     "text": [
      "ILmin = 0.00 A\n",
      "ILmax = 3.10 mA\n",
      "Redesigned Part\n",
      "Series resistance = 410.26 Ω\n"
     ]
    }
   ],
   "source": [
    "from math import sqrt, pi\n",
    "from __future__ import division\n",
    "\n",
    "## Load-current range, Series resistance in redesigned circuit\n",
    "# In Fig. 3.37\n",
    "Vz=6.8# # in volts\n",
    "Izk=0.1e-3# # in amperes\n",
    "Vs=10# # in volts\n",
    "Rs=1e3# # in ohms\n",
    "ILmax=((Vs-Vz)/Rs)-Izk# # in amperes\n",
    "ILmax=ILmax*1e3# # in miliamperes\n",
    "print \"ILmin = %0.2f A\"%0\n",
    "print \"ILmax = %0.2f mA\"%ILmax\n",
    "\n",
    "print \"Redesigned Part\"\n",
    "RL=1e3# # in ohms\n",
    "Izk=Izk*10# # in amperes\n",
    "I=Izk+(Vz/RL)# # in amperes\n",
    "R=(Vs-Vz)/I# # in ohms\n",
    "print \"Series resistance = %0.2f Ω\"%R"
   ]
  },
  {
   "cell_type": "markdown",
   "metadata": {},
   "source": [
    "## Example 3.15: Page No 137"
   ]
  },
  {
   "cell_type": "code",
   "execution_count": 47,
   "metadata": {
    "collapsed": false
   },
   "outputs": [
    {
     "name": "stdout",
     "output_type": "stream",
     "text": [
      "Part (a)\n",
      "Series resistance = 4.00 Ω\n",
      "Part (b)\n",
      "Power dissipation rating of zener diode = 6.00 W\n"
     ]
    }
   ],
   "source": [
    "#               (a) Series resistance\n",
    "#               (b) Power dissipation rating of zener diode\n",
    "# In Fig. 3.38\n",
    "Vz=6# # in volts\n",
    "ILmin=0#\n",
    "ILmax=0.5# # in amperes\n",
    "Vmin=8# # in volts\n",
    "Vmax=10# # in volts\n",
    "Izmin=0#\n",
    "\n",
    "print \"Part (a)\"\n",
    "Rs=(Vmin-Vz)/(ILmax+Izmin)# # Series resistance in ohms\n",
    "print \"Series resistance = %0.2f Ω\"%Rs\n",
    "\n",
    "print \"Part (b)\"\n",
    "Izmax=((Vmax-Vz)/Rs)-ILmin# # in amperes\n",
    "Pzmax=Vz*Izmax# # in watts\n",
    "print \"Power dissipation rating of zener diode = %0.2f W\"%Pzmax"
   ]
  },
  {
   "cell_type": "markdown",
   "metadata": {},
   "source": [
    "## Example 3.16: Page No 138"
   ]
  },
  {
   "cell_type": "code",
   "execution_count": 48,
   "metadata": {
    "collapsed": false
   },
   "outputs": [
    {
     "name": "stdout",
     "output_type": "stream",
     "text": [
      "Series resistance = 116.36 Ω\n",
      "Maximum zener current = 110.00 mA\n"
     ]
    }
   ],
   "source": [
    "#Series resistance R, Maximum zener current\n",
    "# In Fig. 3.39\n",
    "Vz=7.2# # in volts\n",
    "ILmin=12e-3# # in amperes\n",
    "ILmax=100e-3# # in amperes\n",
    "Vs=20# # in volts\n",
    "Izmin=10e-3# # in amperes\n",
    "Rs=(Vs-Vz)/(ILmax+Izmin)# # Series resistance in ohms\n",
    "print \"Series resistance = %0.2f Ω\"%Rs\n",
    "# For ILmin=0\n",
    "Izmax=((Vs-Vz)/Rs)# # in amperes\n",
    "Izmax=Izmax*1e3# # in miliamperes\n",
    "print \"Maximum zener current = %0.2f mA\"%Izmax"
   ]
  },
  {
   "cell_type": "markdown",
   "metadata": {},
   "source": [
    "## Example 3.17: Page No 139"
   ]
  },
  {
   "cell_type": "code",
   "execution_count": 49,
   "metadata": {
    "collapsed": false
   },
   "outputs": [
    {
     "name": "stdout",
     "output_type": "stream",
     "text": [
      "Part (a)\n",
      "R = 3.75 kΩ\n",
      "Maximum possible value of load current = 35.00 mA\n",
      "Part (b)\n",
      "Minimum value of V = 162.50 V\n",
      "Maximum value of V = 293.75 V\n"
     ]
    }
   ],
   "source": [
    "#               (a) R, maximum possible value of load current\n",
    "#               (b) Range of V\n",
    "Vz=50# # Diode voltage in volts\n",
    "Izmin=5e-3# # in amperes\n",
    "Izmax=40e-3# # in amperes\n",
    "\n",
    "print \"Part (a)\"\n",
    "ILmin=0#\n",
    "V=200# # Input voltage in volts\n",
    "R=(V-Vz)/(Izmax-ILmin)# # in ohms\n",
    "ILmax=((V-Vz)/R)-Izmin# # in amperes\n",
    "Rk=R*1e-3# # in kilo-ohms\n",
    "ILmax=ILmax*1e3# # in miliamperes\n",
    "print \"R = %0.2f kΩ\"%Rk\n",
    "print \"Maximum possible value of load current = %0.2f mA\"%ILmax\n",
    "\n",
    "print \"Part (b)\"\n",
    "IL=25e-3#\n",
    "Vmin=Vz+R*(Izmin+IL)# # in volts\n",
    "Vmax=Vz+R*(Izmax+IL)# # in volts\n",
    "print \"Minimum value of V = %0.2f V\"%Vmin\n",
    "print \"Maximum value of V = %0.2f V\"%Vmax"
   ]
  },
  {
   "cell_type": "markdown",
   "metadata": {},
   "source": [
    "## Example 3.18: Page No 140"
   ]
  },
  {
   "cell_type": "code",
   "execution_count": 50,
   "metadata": {
    "collapsed": false
   },
   "outputs": [
    {
     "name": "stdout",
     "output_type": "stream",
     "text": [
      "R = 400.00 Ω\n",
      "ILmax = 30.00 mA\n",
      "Power rating of zener diode = 240.00 mW\n"
     ]
    }
   ],
   "source": [
    "#R, ILmax, Power rating of zener diode\n",
    "# In Fig. 3.41\n",
    "Vz=6# # in volts\n",
    "V=22# # in volts\n",
    "Izmin=10e-3# # in amperes\n",
    "Izmax=40e-3# # in amperes\n",
    "ILmin=0#\n",
    "R=(V-Vz)/(Izmax-ILmin)# # in ohms\n",
    "ILmax=((V-Vz)/R)-Izmin# # in amperes\n",
    "P=Izmax*Vz# # Power rating of zener diode in watts\n",
    "ILmax=ILmax*1e3# # in miliamperes\n",
    "P=P*1e3# # Power rating of zener diode in mili-watts\n",
    "print \"R = %0.2f Ω\"%R\n",
    "print \"ILmax = %0.2f mA\"%ILmax\n",
    "print \"Power rating of zener diode = %0.2f mW\"%P"
   ]
  },
  {
   "cell_type": "markdown",
   "metadata": {},
   "source": [
    "## Example 3.19: Page No 141"
   ]
  },
  {
   "cell_type": "code",
   "execution_count": 51,
   "metadata": {
    "collapsed": false
   },
   "outputs": [
    {
     "name": "stdout",
     "output_type": "stream",
     "text": [
      "Part (a)\n",
      "VL = 10.00 V\n",
      "IL = 55.56 mA\n",
      "Iz = 12.63 mA\n",
      "IR = 68.18 mA\n",
      "Part (b)\n",
      "RL for maximum power dissipation for zener diode = 354.84 Ω\n",
      "Part (c)\n",
      "Maximum value of RL for zener diode to remain ON = 155.81 Ω\n",
      "If Izmin=0\n",
      "Maximum value of RL for zener diode to remain ON = 147 Ω\n"
     ]
    }
   ],
   "source": [
    "from math import sqrt, pi\n",
    "from __future__ import division\n",
    "#               (a) VL,IL,Iz,IR\n",
    "#               (b) RL for maximum power dissipation for zener diode\n",
    "#               (c) Maximum value of RL for zener diode to remain ON\n",
    "# From Fig. 3.42\n",
    "Vs=25# # in volts\n",
    "Rs=220# # in ohms\n",
    "Vz=10# # in volts\n",
    "Pzmax=400# # in mili-watts\n",
    "Izmax=Pzmax/Vz# # in miliamperes\n",
    "Izmin=Izmax*10/100# # in miliamperes\n",
    "\n",
    "print \"Part (a)\"\n",
    "RL=180# # in ohms\n",
    "VL=Vz# # in volts\n",
    "IL=Vz/RL# # in amperes\n",
    "IL=IL*1e3# # in miliamperes\n",
    "IR=(Vs-Vz)/Rs# # in amperes\n",
    "IR=IR*1e3# # in miliamperes\n",
    "Iz=IR-IL# # in miliamperes\n",
    "print \"VL = %0.2f V\"%VL\n",
    "print \"IL = %0.2f mA\"%IL\n",
    "print \"Iz = %0.2f mA\"%Iz\n",
    "print \"IR = %0.2f mA\"%IR\n",
    "\n",
    "print \"Part (b)\"\n",
    "RL=Vz*1e3/(IR-Izmax)# # in ohms\n",
    "print \"RL for maximum power dissipation for zener diode = %.2f Ω\"%RL\n",
    "\n",
    "print \"Part (c)\"\n",
    "RL=Vz*1e3/(IR-Izmin)# # in ohms\n",
    "print \"Maximum value of RL for zener diode to remain ON = %0.2f Ω\"%RL\n",
    "print \"If Izmin=0\"\n",
    "RL=Vz*1e3/IR# # in ohms\n",
    "print \"Maximum value of RL for zener diode to remain ON = %0.f Ω\"%RL"
   ]
  },
  {
   "cell_type": "markdown",
   "metadata": {},
   "source": [
    "## Example 3.20: Page No 141"
   ]
  },
  {
   "cell_type": "code",
   "execution_count": 52,
   "metadata": {
    "collapsed": false
   },
   "outputs": [
    {
     "name": "stdout",
     "output_type": "stream",
     "text": [
      "Rs <= 1.00 \n",
      "Rs >= 3.33\n",
      "To meet the load current variation from 1 A to 10 A a zener of specification Izmin = 0.01 A to Izmax = 5 A cannot meet the requirement for any value of Rs\n",
      "Minimum value of Rs = 4.00 Ω\n",
      "Maximum value of Rs = 500.00 Ω\n",
      "Average wattage of Rs = 100.40 W\n"
     ]
    }
   ],
   "source": [
    "#Range and average watage of Rs\n",
    "# From Fig. 3.43\n",
    "Vsmin=20# # in volts\n",
    "Vsmax=30# # in volts\n",
    "RLmin=1# # in ohms\n",
    "RLmax=10# # in ohms\n",
    "Izmin=10e-3# # in amperes\n",
    "Pzmax=50# # in watts\n",
    "Vz=10# # in volts\n",
    "ILmin=Vz/RLmax# # in amperes\n",
    "ILmax=Vz/RLmin# # in amperes\n",
    "Izmax=Pzmax/Vz# # in amperes\n",
    "Rs1=(Vsmin-Vz)/(ILmax+Izmin)# # in ohms\n",
    "Rs2=(Vsmax-Vz)/(ILmin+Izmax)# # in ohms\n",
    "print \"Rs <= %0.2f \"%Rs1\n",
    "print \"Rs >= %0.2f\"%Rs2\n",
    "print \"To meet the load current variation from 1 A to 10 A a zener of specification Izmin = 0.01 A to Izmax = 5 A cannot meet the requirement for any value of Rs\"\n",
    "# Let\n",
    "RLmin=1e3# # in ohms\n",
    "RLmax=10e3# # in ohms\n",
    "ILmin=Vz/RLmax# # in amperes\n",
    "ILmax=Vz/RLmin# # in amperes\n",
    "Rsmin=(Vsmax-Vz)/(ILmin+Izmax)# # in ohms\n",
    "Rsmax=(Vsmin-Vz)/(ILmax+Izmin)# # in ohms\n",
    "print \"Minimum value of Rs = %0.2f Ω\"%Rsmin\n",
    "print \"Maximum value of Rs = %0.2f Ω\"%Rsmax\n",
    "Rs=4# # in ohms\n",
    "W=Rs*(ILmax+Izmax)**2# # in watts\n",
    "print \"Average wattage of Rs = %0.2f W\"%W"
   ]
  },
  {
   "cell_type": "markdown",
   "metadata": {},
   "source": [
    "## Example 3.21: Page No 146"
   ]
  },
  {
   "cell_type": "code",
   "execution_count": 53,
   "metadata": {
    "collapsed": false
   },
   "outputs": [
    {
     "data": {
      "image/png": "[encoded data removed]",
      "text/plain": [
       "<matplotlib.figure.Figure at 0x7f7231628090>"
      ]
     },
     "metadata": {},
     "output_type": "display_data"
    },
    {
     "data": {
      "image/png": "[encoded data removed]",
      "text/plain": [
       "<matplotlib.figure.Figure at 0x7f7231931e50>"
      ]
     },
     "metadata": {},
     "output_type": "display_data"
    },
    {
     "data": {
      "image/png": "[encoded data removed]",
      "text/plain": [
       "<matplotlib.figure.Figure at 0x7f72317b75d0>"
      ]
     },
     "metadata": {},
     "output_type": "display_data"
    },
    {
     "data": {
      "image/png": "[encoded data removed]",
      "text/plain": [
       "<matplotlib.figure.Figure at 0x7f7226213fd0>"
      ]
     },
     "metadata": {},
     "output_type": "display_data"
    }
   ],
   "source": [
    "% matplotlib inline\n",
    "from matplotlib.pyplot import plot, title, xlabel, ylabel, show\n",
    "from numpy import arange\n",
    "from math import sin, pi\n",
    "#               (a) Transfer characteristics and output\n",
    "#               (b) Transfer characteristics and output\n",
    "Vy=0.6# # in volts\n",
    "Rf=100# # in ohms\n",
    "\n",
    "t=arange(-40,40,0.001)\n",
    "vin=[]\n",
    "for x in t:\n",
    "    vin.append(40*sin(2*pi*x/80)) # Input voltage in volts\n",
    "\n",
    "# Part (a)\n",
    "# From Fig. 3.49(a)\n",
    "# Sketching of transfer characteristics\n",
    "vo=[]\n",
    "for i in range(0,len(vin)):\n",
    "    \n",
    "    if vin[i]<5.6 :\n",
    "        vo.append(vin[i])# # in volts\n",
    "    else:\n",
    "        ID=(vin[i]-5.6)/(4.9e3+Rf)# # in amperes\n",
    "        vo.append(vin[i]-ID*4.9e3)# # in volts\n",
    "    \n",
    "\n",
    "plot(vin,vo)#\n",
    "title(\"Part (a) - Transfer characteristics\")\n",
    "xlabel(\"vin\")\n",
    "ylabel(\"vo\")\n",
    "show()\n",
    "\n",
    "\n",
    "# Sketching of output\n",
    "plot(t,vin,\"--\")\n",
    "plot(t,vo)#\n",
    "title(\"Part (a) - Output voltage and input voltage\")\n",
    "xlabel(\"omega_t\")\n",
    "ylabel(\"vo,vin\")\n",
    "show()\n",
    "\n",
    "\n",
    "\n",
    "\n",
    "# Part (b)\n",
    "# From Fig. 3.49(b)\n",
    "# Sketching of transfer characteristics\n",
    "vo=[]\n",
    "for i in range(0,len(vin)):\n",
    "    \n",
    "    if vin[i]>-0.6:\n",
    "        vo.append(vin[i])# # in volts\n",
    "    else:\n",
    "        ID=(vin[i]+0.6)/(9.9e3+Rf)# # in amperes\n",
    "        vo.append(vin[i]-ID*9.9e3)# # in volts\n",
    "    \n",
    "plot(vin,vo)#\n",
    "title(\"Part (b) - Transfer characteristics\")\n",
    "xlabel(\"vin\")\n",
    "ylabel(\"vo\")\n",
    "show()\n",
    "# Sketching of output\n",
    "plot(t,vin,\"--\")\n",
    "plot(t,vo)\n",
    "title(\"Part (b) - Output voltage and input voltage\")\n",
    "xlabel(\"omega_t\")\n",
    "ylabel(\"vo,vin\")\n",
    "show()"
   ]
  },
  {
   "cell_type": "markdown",
   "metadata": {},
   "source": [
    "## Example 3.22: Page No 148"
   ]
  },
  {
   "cell_type": "code",
   "execution_count": 54,
   "metadata": {
    "collapsed": false
   },
   "outputs": [
    {
     "data": {
      "image/png": "[encoded data removed]",
      "text/plain": [
       "<matplotlib.figure.Figure at 0x7f72315bc8d0>"
      ]
     },
     "metadata": {},
     "output_type": "display_data"
    },
    {
     "data": {
      "image/png": "[encoded data removed]",
      "text/plain": [
       "<matplotlib.figure.Figure at 0x7f7230055890>"
      ]
     },
     "metadata": {},
     "output_type": "display_data"
    }
   ],
   "source": [
    "% matplotlib inline\n",
    "from matplotlib.pyplot import plot, title, xlabel, ylabel, show\n",
    "from numpy import arange\n",
    "\n",
    "#               (a) Transfer characteristics\n",
    "#               (b) Transfer characteristics\n",
    "\n",
    "t=arange(0,20,0.1) # in mili-seconds\n",
    "vin=[]\n",
    "for x in t:\n",
    "    vin.append(30*x/10)# Input voltage in volts\n",
    "# From Fig. 3.52(b)\n",
    "# Part {a}\n",
    "# Sketching of transfer characteristics\n",
    "vo=[]\n",
    "for i in range(0,len(vin)):\n",
    "    if vin[i]>25:\n",
    "        vo.append(5)# in volts\n",
    "    else:\n",
    "        IL=vin[i]/(200+50)# # in amperes\n",
    "        vo.append(IL*50) #in volts\n",
    "    \n",
    "\n",
    "#plot2d(vin,vo,rect=[0,0,60,6])#\n",
    "plot(vin,vo)\n",
    "title(\"Part (a) - Transfer characteristics\")\n",
    "xlabel(\"vin\")\n",
    "ylabel(\"vo\")\n",
    "show()\n",
    "# Part (b)\n",
    "# Sketching of transfer characteristics\n",
    "Vy=0.5# # in volts\n",
    "Rf=40# # in ohms\n",
    "VA=5+0.5# # in volts\n",
    "vo=[]\n",
    "for i in range(0,len(vin)):\n",
    "    if vin[i]<27.5 :\n",
    "        IL=vin[i]/(200+50)# # in amperes\n",
    "        vo.append(IL*50)# # in volts\n",
    "    else:\n",
    "        IL=(vin[i]+27.5)/500# # in amperes\n",
    "        vo.append(IL*50)# # in volts\n",
    "    \n",
    "\n",
    "plot(vin,vo)#\n",
    "title(\"Part (b) - Transfer characteristics\")\n",
    "xlabel(\"vin\")\n",
    "ylabel(\"vo\")\n",
    "show()"
   ]
  },
  {
   "cell_type": "markdown",
   "metadata": {},
   "source": [
    "## Example 3.23: Page No 150"
   ]
  },
  {
   "cell_type": "code",
   "execution_count": 55,
   "metadata": {
    "collapsed": false
   },
   "outputs": [
    {
     "data": {
      "image/png": "[encoded data removed]",
      "text/plain": [
       "<matplotlib.figure.Figure at 0x7f7230095b50>"
      ]
     },
     "metadata": {},
     "output_type": "display_data"
    },
    {
     "data": {
      "image/png": "[encoded data removed]",
      "text/plain": [
       "<matplotlib.figure.Figure at 0x7f72314c40d0>"
      ]
     },
     "metadata": {},
     "output_type": "display_data"
    }
   ],
   "source": [
    "#Output voltage and transfer characteristic curve\n",
    "% matplotlib inline\n",
    "from matplotlib.pyplot import plot, title, xlabel, ylabel, show\n",
    "from numpy import arange\n",
    "t=arange(-6,6,0.001)\n",
    "vin=[]\n",
    "for x in t:\n",
    "    vin.append(6*sin(2*pi*x/12)) #Input voltage in volts\n",
    "# Sketching of output voltage\n",
    "vo=[]\n",
    "for i in range(0,len(vin)):\n",
    "    if vin[i]>=2:\n",
    "        # From Fig. 3.54(b), D1 ON and D2 OFF\n",
    "        I1=(vin[i]-2)/(10e3+10e3)# # in amperes\n",
    "        vo.append(vin[i]-I1*10e3) # in volts\n",
    "    elif vin[i]>=-4:\n",
    "        # both D1 and D2 OFF\n",
    "        vo.append(vin[i])#\n",
    "    else:\n",
    "        # From Fig. 3.54(c), D1 OFF and D2 ON   \n",
    "        vo.append(-4)# # in volts\n",
    "    \n",
    "\n",
    "plot(t,vin,\"--\")\n",
    "plot(t,vo)\n",
    "title(\"Output voltage and input voltage\")\n",
    "xlabel(\"omega_t\")\n",
    "ylabel(\"vo,vin\")\n",
    "show()\n",
    "# Sketching of transfer characteristic curve\n",
    "plot(vin,vo)\n",
    "title(\"Transfer characteristic curve\")\n",
    "xlabel(\"vin\")\n",
    "ylabel(\"vo\")\n",
    "show()"
   ]
  },
  {
   "cell_type": "markdown",
   "metadata": {},
   "source": [
    "## Example 3.24: Page No 152"
   ]
  },
  {
   "cell_type": "code",
   "execution_count": 56,
   "metadata": {
    "collapsed": false
   },
   "outputs": [
    {
     "data": {
      "image/png": "[encoded data removed]",
      "text/plain": [
       "<matplotlib.figure.Figure at 0x7f723175fa50>"
      ]
     },
     "metadata": {},
     "output_type": "display_data"
    }
   ],
   "source": [
    "% matplotlib inline\n",
    "from matplotlib.pyplot import plot, title, xlabel, ylabel, show\n",
    "from numpy import arange\n",
    "\n",
    "#Voltage transfer characteristics\n",
    "vin=arange(-2.5,2.5,0.25)# # Input voltage in volts\n",
    "# Obtaining thevnin's equivalent circuit on LHS of XX'\n",
    "V_th=[]\n",
    "for v in vin:\n",
    "    V_th.append(v*7.5e3/(7.5e3+15e3))# # in volts\n",
    "    \n",
    "R_th=15e3*7.5e3/(15e3+7.5e3)# # in ohms\n",
    "# Sketching of voltage transfer characteristics\n",
    "# From thevnin's equivalent circuit in Fig. 3.55(b)\n",
    "vo=[]\n",
    "for i in range(0,len(vin)):\n",
    "    if vin[i]>1.8:\n",
    "        I1=(V_th[i]-0.6)/(5e3+R_th)# # in amperes\n",
    "        vo.append(I1*5e3)# in volts\n",
    "    elif vin[i]>-1.8:\n",
    "        vo.append(0)#\n",
    "    else:\n",
    "        I2=(V_th[i]+0.6)/(4e3+R_th)# # in amperes   \n",
    "        vo.append(I2*5e3)# # in volts\n",
    "    \n",
    "\n",
    "plot(vin,vo)#\n",
    "title(\"Voltage transfer characteristics\")\n",
    "xlabel(\"vin\")\n",
    "ylabel(\"vo\")\n",
    "show()"
   ]
  },
  {
   "cell_type": "markdown",
   "metadata": {},
   "source": [
    "## Example 3.25: Page No 153"
   ]
  },
  {
   "cell_type": "code",
   "execution_count": 57,
   "metadata": {
    "collapsed": false
   },
   "outputs": [
    {
     "data": {
      "image/png": "[encoded data removed]",
      "text/plain": [
       "<matplotlib.figure.Figure at 0x7f722622dd10>"
      ]
     },
     "metadata": {},
     "output_type": "display_data"
    },
    {
     "data": {
      "image/png": "[encoded data removed]",
      "text/plain": [
       "<matplotlib.figure.Figure at 0x7f7231298b10>"
      ]
     },
     "metadata": {},
     "output_type": "display_data"
    }
   ],
   "source": [
    "% matplotlib inline\n",
    "from matplotlib.pyplot import plot, title, xlabel, ylabel, show\n",
    "from numpy import arange\n",
    "\n",
    "#               (a) Output voltage waveform\n",
    "#               (b) Transfer curve\n",
    "t=arange(0,12,0.001)\n",
    "vin=[]\n",
    "for tt in t:\n",
    "    vin.append(15*sin(2*pi*tt/12)) # Input voltage in volts\n",
    "# From Fig. 3.56(a)\n",
    "\n",
    "# Sketching of output voltage waveform\n",
    "vo=[]\n",
    "for i in range(0,len(vin)):\n",
    "    if vin[i]<16/3:\n",
    "        # D1 OFF and D2 ON\n",
    "        I2=(10-3)/(20e3+10e3)# # in amperes\n",
    "        vo.append(10-I2*20e3)# # in volts\n",
    "    elif vin[i]<=10:\n",
    "        # both D1 and D2 ON\n",
    "        vo.append(vin[i])#\n",
    "    else:\n",
    "        # D1 ON and D2 OFF   \n",
    "        vo.append(10)# # in volts\n",
    "    \n",
    "plot(t,vin,\"--\")\n",
    "plot(t,vo)#\n",
    "title(\"Output voltage and input voltage\")\n",
    "xlabel(\"omega_t\")\n",
    "ylabel(\"vo,vin\")\n",
    "show()\n",
    "# Sketching of transfer curve\n",
    "plot(vin,vo)\n",
    "title(\"Transfer characteristic curve\")\n",
    "xlabel(\"vin\")\n",
    "ylabel(\"vo\")\n",
    "show()"
   ]
  },
  {
   "cell_type": "markdown",
   "metadata": {},
   "source": [
    "## Example 3.26: Page No 155"
   ]
  },
  {
   "cell_type": "code",
   "execution_count": 58,
   "metadata": {
    "collapsed": false
   },
   "outputs": [
    {
     "data": {
      "image/png": "[encoded data removed]",
      "text/plain": [
       "<matplotlib.figure.Figure at 0x7f72317dabd0>"
      ]
     },
     "metadata": {},
     "output_type": "display_data"
    },
    {
     "data": {
      "image/png": "[encoded data removed]",
      "text/plain": [
       "<matplotlib.figure.Figure at 0x7f72312a2690>"
      ]
     },
     "metadata": {},
     "output_type": "display_data"
    }
   ],
   "source": [
    "% matplotlib inline\n",
    "from matplotlib.pyplot import plot, title, xlabel, ylabel, show\n",
    "from numpy import arange\n",
    "#Transfer characteristics and output and input voltage\n",
    "T=60# # Let T = 60 seconds\n",
    "t=range(0,T)#\n",
    "vin=[]\n",
    "for tt in t:\n",
    "    vin.append(120*tt/T) # Input voltage in volts\n",
    "# From Fig. 3.57(a)\n",
    "# Sketching of transfer characteristics\n",
    "vo=[]\n",
    "for i in range(0,len(vin)):\n",
    "    if vin[i]<=15:\n",
    "        # Both D1 and D2 OFF\n",
    "        vo.append(15)# # in volts\n",
    "    elif vin[i]<=105:\n",
    "        # D1 OFF and D2 ON\n",
    "        I2=(vin[i]-15)/(100e3+200e3)# # in amperes\n",
    "        vo.append(vin[i]-I2*100e3)# # in volts\n",
    "    else :\n",
    "        # Both D1 and D2 ON\n",
    "        vo.append(75)# # in volts\n",
    "    \n",
    "plot(vin,vo)#\n",
    "title(\"Transfer characteristics\")\n",
    "xlabel(\"vin\")\n",
    "ylabel(\"vo\")\n",
    "show()\n",
    "# Sketching of output\n",
    "plot(t,vin,\"--\")\n",
    "plot(t,vo)#\n",
    "title(\"Output voltage and input voltage\")\n",
    "xlabel(\"omega_t\")\n",
    "ylabel(\"vo,vin\")\n",
    "show()"
   ]
  },
  {
   "cell_type": "markdown",
   "metadata": {},
   "source": [
    "## Example 3.27: Page No 156"
   ]
  },
  {
   "cell_type": "code",
   "execution_count": 59,
   "metadata": {
    "collapsed": false
   },
   "outputs": [
    {
     "data": {
      "image/png": "[encoded data removed]",
      "text/plain": [
       "<matplotlib.figure.Figure at 0x7f723143c8d0>"
      ]
     },
     "metadata": {},
     "output_type": "display_data"
    }
   ],
   "source": [
    "% matplotlib inline\n",
    "from matplotlib.pyplot import plot, title, xlabel, ylabel, show\n",
    "from numpy import arange\n",
    "#vo vs vin\n",
    "vin=range(0,500) # Input voltage in volts\n",
    "# Sketching of vo vs vin\n",
    "vo=[]\n",
    "for i in range(0,len(vin)):\n",
    "    if vin[i]<3 :\n",
    "        # From Fig. 3.58(b), D1 ON, D2 and D3 OFF\n",
    "        I1=6/(5e3+5e3)# # in amperes\n",
    "        vo.append(I1*5e3) # in volts\n",
    "    elif vin[i]<9 :\n",
    "        # From Fig. 3.58(c), D1 and D3 ON, D2 OFF\n",
    "        # Applying Kirchoff's laws\n",
    "        vo.append(0.5*vin[i]+1.5) # in volts\n",
    "    elif vin[i]<30:\n",
    "        # From Fig. 3.58(d), D3 ON, D1 and D2 OFF\n",
    "        I3=vin[i]/(2.5e3+5e3) # in amperes   \n",
    "        vo.append(I3*5e3) # in volts\n",
    "    else:\n",
    "        # From Fig. 3.58(e), D2 and D3 ON, D1 OFF\n",
    "        # Applying Kirchoff's laws\n",
    "        vo.append(4*vin[i]/7+20/7)# # in volts\n",
    "\n",
    "plot(vin,vo)#\n",
    "title(\"Voltage transfer characteristics\")\n",
    "xlabel(\"vin\")\n",
    "ylabel(\"vo\")\n",
    "show()"
   ]
  },
  {
   "cell_type": "markdown",
   "metadata": {},
   "source": [
    "## Example 3.28: Page No 164"
   ]
  },
  {
   "cell_type": "code",
   "execution_count": 60,
   "metadata": {
    "collapsed": false
   },
   "outputs": [
    {
     "data": {
      "image/png": "[encoded data removed]",
      "text/plain": [
       "<matplotlib.figure.Figure at 0x7f7231474650>"
      ]
     },
     "metadata": {},
     "output_type": "display_data"
    }
   ],
   "source": [
    "% matplotlib inline\n",
    "from matplotlib.pyplot import plot, title, xlabel, ylabel, show\n",
    "from numpy import arange\n",
    "#Output voltage\n",
    "t=range(0,5)# # in seconds\n",
    "vs=[]\n",
    "for tt in t:\n",
    "    vs.append(10*tt/5) # Input voltage in volts\n",
    "# Output voltage\n",
    "vo=[]\n",
    "for i in range(0,len(vs)):\n",
    "    if vs[i]<6 :\n",
    "        # Diode is OFF\n",
    "       vo.append(6)# in volts\n",
    "    else:\n",
    "        # From Fig. 3.65(c), Diode is ON\n",
    "        I=(vs[i]-6)/(200+200)# # in amperes\n",
    "        vo.append(6+I*200)# in volts\n",
    "    \n",
    "plot(t,vo)\n",
    "title(\"Output voltage\")\n",
    "xlabel(\"t in ms\")\n",
    "ylabel(\"vo(t)\")\n",
    "show()"
   ]
  },
  {
   "cell_type": "markdown",
   "metadata": {},
   "source": [
    "## Example 3.29: Page No 165"
   ]
  },
  {
   "cell_type": "code",
   "execution_count": 61,
   "metadata": {
    "collapsed": false
   },
   "outputs": [
    {
     "data": {
      "image/png": "[encoded data removed]",
      "text/plain": [
       "<matplotlib.figure.Figure at 0x7f7231456890>"
      ]
     },
     "metadata": {},
     "output_type": "display_data"
    }
   ],
   "source": [
    "% matplotlib inline\n",
    "from matplotlib.pyplot import plot, title, xlabel, ylabel, show\n",
    "from numpy import arange\n",
    "#Output voltage\n",
    "Vy=0.5# # in volts\n",
    "Rf=50# # in ohms\n",
    "t=range(0,5) # in seconds\n",
    "vs=[]\n",
    "for tt in t:\n",
    "    vs.append(10*tt/5) # Input voltage in volts\n",
    "# Output voltage\n",
    "vo=[]\n",
    "for i in range(0,len(vs)):\n",
    "    if vs[i]<6.5:\n",
    "        # Diode is OFF\n",
    "        vo.append(6)# # in volts\n",
    "    else:\n",
    "        # From Fig. 3.66(a), Diode is ON\n",
    "        I=(vs[i]-6.5)/(200+Rf+200)# # in amperes\n",
    "        vo.append(6+I*2000) # in volts\n",
    "    \n",
    "\n",
    "plot(t,vo)\n",
    "title(\"Output voltage\")\n",
    "xlabel(\"t in ms\")\n",
    "ylabel(\"vo(t)\")\n",
    "show()"
   ]
  },
  {
   "cell_type": "markdown",
   "metadata": {},
   "source": [
    "## Example 3.30: Page No 166"
   ]
  },
  {
   "cell_type": "code",
   "execution_count": 62,
   "metadata": {
    "collapsed": false
   },
   "outputs": [
    {
     "data": {
      "image/png": "[encoded data removed]",
      "text/plain": [
       "<matplotlib.figure.Figure at 0x7f7231377510>"
      ]
     },
     "metadata": {},
     "output_type": "display_data"
    },
    {
     "data": {
      "image/png": "[encoded data removed]",
      "text/plain": [
       "<matplotlib.figure.Figure at 0x7f722614d390>"
      ]
     },
     "metadata": {},
     "output_type": "display_data"
    }
   ],
   "source": [
    "% matplotlib inline\n",
    "from matplotlib.pyplot import plot, title, xlabel, ylabel, show\n",
    "from numpy import arange\n",
    "\n",
    "#               (a) Output waveform\n",
    "#               (b) Output waveform\n",
    "t=arange(0,12,0.001)\n",
    "vin =[]\n",
    "for tt in t:\n",
    "    vin.append(15*sin(2*pi*tt/12))# # Input voltage in volts\n",
    "\n",
    "# Part (a), From Fig. 3.67(a)\n",
    "vo=[]\n",
    "for v in vin:\n",
    "    vo.append(v-15)# # in volts\n",
    "plot(t,vo)#\n",
    "title(\"Part (a) - Output voltage\")\n",
    "xlabel(\"t\")\n",
    "ylabel(\"vo\")\n",
    "show()\n",
    "\n",
    "# Part(b), From Fig. 3.67(b)\n",
    "vo=[]\n",
    "for v in vin:\n",
    "    vo.append(v-10)# # in volts\n",
    "plot(t,vo)#\n",
    "title(\"Part (b) - Output voltage\")\n",
    "xlabel(\"t\")\n",
    "ylabel(\"vo\")\n",
    "show()"
   ]
  },
  {
   "cell_type": "markdown",
   "metadata": {},
   "source": [
    "## Example 3.31: Page No 167"
   ]
  },
  {
   "cell_type": "code",
   "execution_count": 63,
   "metadata": {
    "collapsed": false
   },
   "outputs": [
    {
     "data": {
      "image/png": "[encoded data removed]",
      "text/plain": [
       "<matplotlib.figure.Figure at 0x7f72261a8790>"
      ]
     },
     "metadata": {},
     "output_type": "display_data"
    }
   ],
   "source": [
    "% matplotlib inline\n",
    "from matplotlib.pyplot import plot, title, xlabel, ylabel, show\n",
    "from numpy import arange\n",
    "from scipy.signal import square\n",
    "#Output voltage\n",
    "t=arange(0,9*pi,0.1)\n",
    "vin =[]\n",
    "for tt in t:\n",
    "    vin.append(15*square(tt)-5) # Input wave in volts\n",
    "vo =[]\n",
    "for v in vin:\n",
    "    vo.append(v+25) # in volts\n",
    "plot(t,vo)\n",
    "title(\"Output voltage\")\n",
    "xlabel(\"t\")\n",
    "ylabel(\"vo\")\n",
    "show()"
   ]
  },
  {
   "cell_type": "markdown",
   "metadata": {},
   "source": [
    "## Example 3.32: Page No 168"
   ]
  },
  {
   "cell_type": "code",
   "execution_count": 64,
   "metadata": {
    "collapsed": false
   },
   "outputs": [
    {
     "data": {
      "image/png": "[encoded data removed]",
      "text/plain": [
       "<matplotlib.figure.Figure at 0x7f72261cfb90>"
      ]
     },
     "metadata": {},
     "output_type": "display_data"
    }
   ],
   "source": [
    "%matplotlib inline\n",
    "from matplotlib.pyplot import plot, xlabel, ylabel, show, title\n",
    "#Output voltage\n",
    "\n",
    "t1=range(0,20)\n",
    "vin1=range(0,20)\n",
    "t2=range(20,60)\n",
    "vin2 =[]\n",
    "for t in t2:\n",
    "    vin2.append(40-t)\n",
    "\n",
    "t3=range(60,80)\n",
    "vin3 =[]\n",
    "for t in t3:\n",
    "    vin3.append(-80+t)\n",
    "t=t1+t2+t3#\n",
    "vin=vin1+vin2+vin3# Input wave in volts\n",
    "vo=[]\n",
    "for x in vin:\n",
    "    vo.append(x+25) # in volts\n",
    "\n",
    "plot(t,vo)#\n",
    "title(\"Output voltage\")\n",
    "xlabel(\"t\")\n",
    "ylabel(\"vo\")\n",
    "show()"
   ]
  },
  {
   "cell_type": "markdown",
   "metadata": {},
   "source": [
    "## Example 3.33: Page No 169"
   ]
  },
  {
   "cell_type": "code",
   "execution_count": 65,
   "metadata": {
    "collapsed": false
   },
   "outputs": [
    {
     "data": {
      "image/png": "[encoded data removed]",
      "text/plain": [
       "<matplotlib.figure.Figure at 0x7f72314c4a50>"
      ]
     },
     "metadata": {},
     "output_type": "display_data"
    }
   ],
   "source": [
    "#vo\n",
    "%matplotlib inline\n",
    "from matplotlib.pyplot import plot, xlabel, ylabel, show, title\n",
    "from numpy import arange, sin, pi\n",
    "t=arange(0,12,0.001)\n",
    "vin =[]\n",
    "for tt in t:\n",
    "    vin.append(10*sin(2*pi*tt/4)) # Input voltage in volts\n",
    "# From Fig. 3.73\n",
    "vint=[]\n",
    "for v in vin:\n",
    "    vint.append(v+5)\n",
    "vo =[]\n",
    "for i in range(0,len(vint)):\n",
    "    if vint[i]>0 :\n",
    "        # Diode is OFF\n",
    "        vo.append(vint[i]) # in volts\n",
    "    else:\n",
    "        break#\n",
    "    \n",
    "\n",
    "for i in range(i,len(vint)):\n",
    "    if vint[i]==-5:\n",
    "        break#\n",
    "    else:\n",
    "        # Diode is ON\n",
    "        vo.append(0)#\n",
    "    \n",
    "\n",
    "for i in range(i,len(vint)):\n",
    "    # Capacitor is charged to 5 V\n",
    "    vo.append(vint[i]+5)# # in volts\n",
    "\n",
    "plot(t,vo)\n",
    "title(\"Output voltage\")\n",
    "xlabel(\"t\")\n",
    "ylabel(\"vo\")\n",
    "show()"
   ]
  }
 ],
 "metadata": {
  "kernelspec": {
   "display_name": "Python 2",
   "language": "python",
   "name": "python2"
  },
  "language_info": {
   "codemirror_mode": {
    "name": "ipython",
    "version": 2
   },
   "file_extension": ".py",
   "mimetype": "text/x-python",
   "name": "python",
   "nbconvert_exporter": "python",
   "pygments_lexer": "ipython2",
   "version": "2.7.9"
  }
 },
 "nbformat": 4,
 "nbformat_minor": 0
}
