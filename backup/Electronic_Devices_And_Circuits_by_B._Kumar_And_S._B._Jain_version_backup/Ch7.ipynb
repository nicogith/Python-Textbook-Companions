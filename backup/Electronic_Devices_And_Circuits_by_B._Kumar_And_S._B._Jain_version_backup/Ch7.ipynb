{
 "cells": [
  {
   "cell_type": "markdown",
   "metadata": {},
   "source": [
    "# Chapter 7 : Field effect transistors - characteristics and biasing"
   ]
  },
  {
   "cell_type": "markdown",
   "metadata": {},
   "source": [
    "## Example 7.1: Page No 346"
   ]
  },
  {
   "cell_type": "code",
   "execution_count": 1,
   "metadata": {
    "collapsed": false
   },
   "outputs": [
    {
     "data": {
      "image/png": "[encoded data removed]",
      "text/plain": [
       "<matplotlib.figure.Figure at 0x7effa84458d0>"
      ]
     },
     "metadata": {},
     "output_type": "display_data"
    }
   ],
   "source": [
    "#Transfer curve\n",
    "\n",
    "IDSS=12# # in mili-amperes\n",
    "VP=-5# # in volts\n",
    "# Plotting transfer curve\n",
    "from numpy import arange\n",
    "VGS=arange(0, VP,-0.01) # Gate source voltage in volts\n",
    "# Using Shockley's equation\n",
    "ID=[]\n",
    "for vgs in VGS:\n",
    "    ID.append(IDSS*(1-vgs/VP)**2) # Drain current in mili-amperes\n",
    "\n",
    "%matplotlib inline\n",
    "from matplotlib.pyplot import plot, title, xlabel, ylabel, show\n",
    "plot(VGS,ID)\n",
    "title(\"Transfer Curve\")\n",
    "xlabel(\"VGS (V)\")\n",
    "ylabel(\"ID (mA)\")\n",
    "show()"
   ]
  },
  {
   "cell_type": "markdown",
   "metadata": {},
   "source": [
    "## Example 7.2: Page No 352"
   ]
  },
  {
   "cell_type": "code",
   "execution_count": 2,
   "metadata": {
    "collapsed": false
   },
   "outputs": [
    {
     "name": "stdout",
     "output_type": "stream",
     "text": [
      "VGS - VT  = 1.00 V\n",
      "Part (a)\n",
      "VDS = 0.50 V \n",
      "Since VDS < VGS - VT, therefore transistor is in ohmic region.\n",
      "Part (b)\n",
      "VDS = 1 V \n",
      "Since VDS = VGS - VT, therefore transistor is in saturation region.\n",
      "Part (c)\n",
      "VDS  5 V \n",
      "Since VDS > VGS - VT, therefore transistor is in saturation region.\n"
     ]
    }
   ],
   "source": [
    "#              (a) Region of operation\n",
    "#              (b) Region of operation  \n",
    "#              (c) Region of operation\n",
    "\n",
    "VT=2# # in volts\n",
    "VGS=3# # in volts\n",
    "print \"VGS - VT  = %0.2f V\"%(VGS-VT)\n",
    "\n",
    "print \"Part (a)\"\n",
    "print \"VDS = %0.2f V \"%(0.5)\n",
    "print \"Since VDS < VGS - VT, therefore transistor is in ohmic region.\"\n",
    "\n",
    "print \"Part (b)\"\n",
    "print \"VDS = %0.f V \"%1\n",
    "print \"Since VDS = VGS - VT, therefore transistor is in saturation region.\"\n",
    "\n",
    "print \"Part (c)\"\n",
    "print \"VDS  %0.f V \"%5\n",
    "print \"Since VDS > VGS - VT, therefore transistor is in saturation region.\""
   ]
  },
  {
   "cell_type": "markdown",
   "metadata": {},
   "source": [
    "## Example 7.3: Page No 359"
   ]
  },
  {
   "cell_type": "code",
   "execution_count": 4,
   "metadata": {
    "collapsed": false
   },
   "outputs": [
    {
     "name": "stdout",
     "output_type": "stream",
     "text": [
      "IDQ = 4.7 mA \n",
      "VDSQ = 6.38 V \n"
     ]
    }
   ],
   "source": [
    "#IDQ, VDSQ\n",
    "\n",
    "IDSS=12# # in mili-amperes\n",
    "VP=-4# # in volts\n",
    "# From Fig. 7.28\n",
    "VDD=12# # in volts\n",
    "RD=1.2# # in kilo-ohms\n",
    "# Since IG=0\n",
    "VGS=-1.5# # in volts\n",
    "# Using Shockley's equation\n",
    "ID=IDSS*(1-VGS/VP)**2# # Drain current in mili-amperes\n",
    "VDS=VDD-ID*RD# # in volts\n",
    "print \"IDQ = %0.1f mA \"%ID\n",
    "print \"VDSQ = %0.2f V \"%VDS"
   ]
  },
  {
   "cell_type": "markdown",
   "metadata": {},
   "source": [
    "## Example 7.4: Page No 361"
   ]
  },
  {
   "cell_type": "code",
   "execution_count": 5,
   "metadata": {
    "collapsed": false
   },
   "outputs": [
    {
     "data": {
      "image/png": "[encoded data removed]",
      "text/plain": [
       "<matplotlib.figure.Figure at 0x7eff8ec55d10>"
      ]
     },
     "metadata": {},
     "output_type": "display_data"
    },
    {
     "name": "stdout",
     "output_type": "stream",
     "text": [
      "VDSQ = 5.41 V \n",
      "IDQ = 1.73 mA \n",
      "VD = 8.19 V \n",
      "VS = 2.77 V \n"
     ]
    }
   ],
   "source": [
    "#VDSQ, IDSQ, VD, VS\n",
    "\n",
    "IDSS=6e-3# # in amperes\n",
    "VP=-6# # in volts\n",
    "# From Fig. 7.31\n",
    "VDD=12# # in volts\n",
    "RD=2.2e3# # in ohms\n",
    "RS=1.6e3# # in ohms\n",
    "# Plotting transfer characteristics\n",
    "from numpy import arange\n",
    "VGS=arange(0, VP, -0.01) # Gate source voltage in volts\n",
    "# Using Shockley's equation\n",
    "ID = []\n",
    "for vgs in VGS:\n",
    "    ID.append(IDSS*(1-vgs/VP)**2*1e3) # Drain current in mA\n",
    "\n",
    "plot(VGS,ID)#\n",
    "title(\"Transfer Characteristics\")\n",
    "xlabel(\"VGS (V)\")\n",
    "ylabel(\"ID (mA)\")\n",
    "# Plotting bias line\n",
    "# From gate source circuit\n",
    "ID=[]\n",
    "for vgs in VGS:\n",
    "    ID.append(-vgs/RS*1e3) # Source current in mA\n",
    "plot(VGS,ID,\"RED\")\n",
    "show()\n",
    "\n",
    "# Intersection of transfer characteristics with the bias curve\n",
    "# Putting VGS = -ID*RS in Shockley's equation and solving, we get ID**2*RS**2 + (2*RS*VP - VP**2/IDSS)*ID + VP**2\n",
    "# Solving the equation\n",
    "from sympy import symbols, solve\n",
    "ID = symbols('ID')\n",
    "expr = ID**2*RS**2 + (2*RS*VP - VP**2/IDSS)*ID + VP**2\n",
    "IDQ = solve(expr, ID)[0] # A\n",
    "# Writing the KVL for the output loop\n",
    "VDSQ=VDD-IDQ*(RD+RS)# # in volts\n",
    "VS=IDQ*RS# # in volts\n",
    "VD=VDSQ+VS# # in volts\n",
    "IDQ=IDQ*1e3# # in mili-amperes\n",
    "print \"VDSQ = %0.2f V \"%VDSQ\n",
    "print \"IDQ = %0.2f mA \"%IDQ\n",
    "print \"VD = %0.2f V \"%VD\n",
    "print \"VS = %0.2f V \"%VS"
   ]
  },
  {
   "cell_type": "markdown",
   "metadata": {},
   "source": [
    "## Example 7.5: Page No 363"
   ]
  },
  {
   "cell_type": "code",
   "execution_count": 6,
   "metadata": {
    "collapsed": false
   },
   "outputs": [
    {
     "name": "stdout",
     "output_type": "stream",
     "text": [
      "VDSQ = 6.83 V \n",
      "IDQ = 2.79 mA \n"
     ]
    },
    {
     "data": {
      "image/png": "[encoded data removed]",
      "text/plain": [
       "<matplotlib.figure.Figure at 0x7eff8ec18f50>"
      ]
     },
     "metadata": {},
     "output_type": "display_data"
    }
   ],
   "source": [
    "#Operating point\n",
    "\n",
    "VP=-5# # in volts\n",
    "IDSS=12e-3# # in amperes\n",
    "# From Fig. 7.34(a)\n",
    "VDD=18# # in volts\n",
    "R1=400# # in kilo-ohms\n",
    "R2=90# # in kilo-ohms\n",
    "RD=2e3# # in ohms\n",
    "RS=2e3# # in ohms\n",
    "# Applying Thevnin's theorem to obtain simplified circuit in Fig. 7.34(b)\n",
    "VGG=VDD*R2/(R1+R2)# # in volts\n",
    "# Plotting transfer characteristics\n",
    "from numpy import arange\n",
    "VGS=arange(VGG, VP,-0.01) # Gate source voltage in volts\n",
    "# Using Shockley's equation\n",
    "ID=[]\n",
    "for vgs in VGS:\n",
    "    ID.append(IDSS*(1-vgs/VP)**2*1e3) # Drain current in mA\n",
    "plot(VGS,ID)\n",
    "title(\"Transfer Characteristics\")\n",
    "xlabel(\"VGS (V)\")\n",
    "ylabel(\"ID (mA)\")\n",
    "# Plotting bias line\n",
    "# From the KVL for the gate-loop\n",
    "ID=[]\n",
    "for vgs in VGS:\n",
    "    ID.append((-vgs+VGG)/RS*1e3)# # Source current in mA\n",
    "plot(VGS,ID,\"RED\")\n",
    "# Intersection of transfer curve with the bias curve\n",
    "# Putting VGS = VGG-ID*RS in Shockley's equation and solving, we get\n",
    "# ID**2*RS**2 + (2*RS*VP - 2*VGG*RS - VP**2/IDSS)*ID + (VGG-VP)**2\n",
    "# Solving the equation\n",
    "from sympy import symbols, solve\n",
    "ID = symbols('ID')\n",
    "expr = ID**2*RS**2 + (2*RS*VP - 2*VGG*RS - VP**2/IDSS)*ID + (VGG-VP)**2\n",
    "IDQ=solve(expr)[0] # in amperes\n",
    "# Writing the KVL for the drain source loop\n",
    "VDSQ=VDD-IDQ*(RD+RS)# # in volts\n",
    "IDQ=IDQ*1e3# # in mili-amperes\n",
    "print \"VDSQ = %0.2f V \"%VDSQ\n",
    "print \"IDQ = %0.2f mA \"%IDQ"
   ]
  },
  {
   "cell_type": "markdown",
   "metadata": {},
   "source": [
    "## Example 7.6: Page No 365"
   ]
  },
  {
   "cell_type": "code",
   "execution_count": 7,
   "metadata": {
    "collapsed": false
   },
   "outputs": [
    {
     "name": "stdout",
     "output_type": "stream",
     "text": [
      "VDSQ = 6.41 V \n",
      "IDQ = 2.79 mA \n"
     ]
    },
    {
     "data": {
      "image/png": "[encoded data removed]",
      "text/plain": [
       "<matplotlib.figure.Figure at 0x7effa8430dd0>"
      ]
     },
     "metadata": {},
     "output_type": "display_data"
    }
   ],
   "source": [
    "#VDSQ, IDQ\n",
    "\n",
    "ID=6e-3# # in amperes\n",
    "VGS=8# # in volts\n",
    "VT=3# # in volts\n",
    "# From Fig. 7.37(a)\n",
    "VDD=12# # in volts\n",
    "RD=2e3# # in ohms\n",
    "# Plotting transfer curve\n",
    "k=ID/(VGS-VT)**2# # in amperes per volt square\n",
    "from numpy import arange\n",
    "VGS=arange(3, VDD,0.01) # Gate source voltage in volts\n",
    "ID=[]\n",
    "for x in VGS:\n",
    "    ID.append(k*(x-VT)**2*1e3) # Drain current in mA ............ (i)\n",
    "plot(VGS,ID)#\n",
    "title(\"Transfer Curve\")\n",
    "xlabel(\"VGS (V)\")\n",
    "ylabel(\"ID (mA)\")\n",
    "# Plotting bias line\n",
    "# From the simplified dc equivalent circuit in Fig. 7.37(b)\n",
    "VGS=arange(0, VDD,0.01) # Gate source voltage in volts\n",
    "ID=[]\n",
    "for x in VGS:\n",
    "    ID.append((VDD-x)/RD*1e3)# # Source current in mA\n",
    "plot(VGS,ID,\"RED\")\n",
    "# Intersection of transfer curve with the bias curve\n",
    "# Putting VGS = VDD-ID*RD in equation (i) and solving, we get ID**2*RD**2 + (2*RD*VT - 2*VDD*RD - 1/k)*ID + (VDD-VT)**2\n",
    "# Solving the equation\n",
    "from sympy import symbols, solve\n",
    "ID = symbols('ID')\n",
    "expr = ID**2*RD**2 + (2*RD*VT - 2*VDD*RD - 1/k)*ID + (VDD-VT)**2\n",
    "IDQ=solve(expr, ID)[0]#  in amperes\n",
    "VGSQ=VDD-IDQ*RD# # in volts\n",
    "IDQ=IDQ*1e3# # in mili-amperes\n",
    "print \"VDSQ = %0.2f V \"%VGSQ\n",
    "print \"IDQ = %0.2f mA \"%IDQ"
   ]
  },
  {
   "cell_type": "markdown",
   "metadata": {},
   "source": [
    "## Example 7.7: Page No 367"
   ]
  },
  {
   "cell_type": "code",
   "execution_count": 8,
   "metadata": {
    "collapsed": false
   },
   "outputs": [
    {
     "name": "stdout",
     "output_type": "stream",
     "text": [
      "IDQ = 4.97 mA \n",
      "VDSQ = 9.35 V \n",
      "VGSQ = 5.99 V \n"
     ]
    },
    {
     "data": {
      "image/png": "[encoded data removed]",
      "text/plain": [
       "<matplotlib.figure.Figure at 0x7eff8efefbd0>"
      ]
     },
     "metadata": {},
     "output_type": "display_data"
    }
   ],
   "source": [
    "#IDQ, VDSQ, VGSQ\n",
    "\n",
    "ID=5e-3# # in amperes\n",
    "VGS=6# # in volts\n",
    "VT=3# # in volts\n",
    "# From Fig. 7.39(a)\n",
    "VDD=24# # in volts\n",
    "R1=10# # in mega-ohms\n",
    "R2=6.8# # in mega-ohms\n",
    "RD=2.2e3# # in ohms\n",
    "RS=0.75e3# # in ohms\n",
    "# Applying Thevnin's theorem to obtain simplified circuit in Fig. 7.39(b)\n",
    "VGG=VDD*R2/(R1+R2)# # in volts\n",
    "# Plotting transfer characteristics\n",
    "k=ID/(VGS-VT)**2# # in amperes per volt square\n",
    "from numpy import arange\n",
    "VGS=arange(3, VGG,0.01)  # Gate source voltage in volts\n",
    "ID=[]\n",
    "for vgs in VGS:\n",
    "    ID.append(k*(vgs-VT)**2*1e3) # Drain current in mA ............ (i)\n",
    "\n",
    "    \n",
    "from matplotlib.pyplot import plot, xlabel, ylabel, title, show\n",
    "%matplotlib inline\n",
    "plot(VGS,ID)#\n",
    "title(\"Transfer Characteristics\")\n",
    "xlabel(\"VGS (V)\")\n",
    "ylabel(\"ID (mA)\")\n",
    "# Plotting bias line\n",
    "VGS=arange(0, VGG,0.01)# # Gate source voltage in volts\n",
    "# Writing KVL for the gate-source loop\n",
    "ID=[]\n",
    "for x in VGS:\n",
    "    ID.append((VGG-x)/RS*1e3)# # Source current in mA\n",
    "plot(VGS,ID,\"RED\")\n",
    "# Intersection of transfer curve with the bias curve\n",
    "# Putting VGS = VGG-ID*RD in equation (i) and solving, we get ID**2*RS**2 + (2*RS*VT - 2*VGG*RS - 1/k)*ID + (VGG-VT)**2\n",
    "# Solving the equation\n",
    "from sympy import symbols, solve\n",
    "ID = symbols('ID')\n",
    "expr = ID**2*RS**2 + (2*RS*VT - 2*VGG*RS - 1/k)*ID + (VGG-VT)**2\n",
    "IDQ=solve(expr,ID)[0] # in amperes\n",
    "VGSQ=VGG-IDQ*RS# # in volts\n",
    "# From the output circuit\n",
    "VDSQ=VDD-IDQ*(RD+RS)# # in volts\n",
    "IDQ=IDQ*1e3# # in mili-amperes\n",
    "print \"IDQ = %0.2f mA \"%IDQ\n",
    "print \"VDSQ = %0.2f V \"%VDSQ\n",
    "print \"VGSQ = %0.2f V \"%VGSQ"
   ]
  }
 ],
 "metadata": {
  "kernelspec": {
   "display_name": "Python 2",
   "language": "python",
   "name": "python2"
  },
  "language_info": {
   "codemirror_mode": {
    "name": "ipython",
    "version": 2
   },
   "file_extension": ".py",
   "mimetype": "text/x-python",
   "name": "python",
   "nbconvert_exporter": "python",
   "pygments_lexer": "ipython2",
   "version": "2.7.9"
  }
 },
 "nbformat": 4,
 "nbformat_minor": 0
}
