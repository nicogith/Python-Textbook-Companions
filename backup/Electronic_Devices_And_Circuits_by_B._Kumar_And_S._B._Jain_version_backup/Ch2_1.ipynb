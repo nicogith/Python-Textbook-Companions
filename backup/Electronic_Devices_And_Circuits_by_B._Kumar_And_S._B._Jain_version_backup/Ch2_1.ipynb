{
 "cells": [
  {
   "cell_type": "markdown",
   "metadata": {},
   "source": [
    "# Chapter 2 : The p-n junction diode"
   ]
  },
  {
   "cell_type": "markdown",
   "metadata": {},
   "source": [
    "## Example 2.1: Page No 41"
   ]
  },
  {
   "cell_type": "code",
   "execution_count": 1,
   "metadata": {
    "collapsed": false
   },
   "outputs": [
    {
     "name": "stdout",
     "output_type": "stream",
     "text": [
      "Part (a)\n",
      "Labelled current I = 0.38 mA\n",
      "Labelled voltage Vo = 7.50 V\n",
      "Part (b)\n",
      "Labelled current I = 0.00 A\n",
      "Labelled voltage Vo = -2.50 V\n"
     ]
    }
   ],
   "source": [
    "#(a) I,Vo\n",
    "#(b) I,Vo\n",
    "print \"Part (a)\"\n",
    "# Applying Thevnin's theorem at XX', in Fig. 2.5(a)\n",
    "Vth=15*20e3/(10e3+20e3)# # Thevnin equivalent voltage in volts\n",
    "Zth=10e3*20e3/(10e3+20e3)# # Thevnin equivalent resistance in ohms\n",
    "# From the figure 2.5(c)\n",
    "I=Vth/(Zth+20e3)# # Labelled current in amperes\n",
    "Vo=I*20e3# # Labelled voltage in volts\n",
    "I=I*1e3# # Labelled current in miliamperes\n",
    "print \"Labelled current I = %0.2f mA\"%I\n",
    "print \"Labelled voltage Vo = %0.2f V\"%Vo\n",
    "\n",
    "print \"Part (b)\"\n",
    "# Applying Thevnin's theorem at XX' and YY', in Fig. 2.5(b)\n",
    "Vth1=15*10e3/(10e3+10e3)# # Thevnin equivalent voltage at XX' in volts\n",
    "Zth1=10e3*10e3/(10e3+10e3)# # Thevnin equivalent resistance at YY' in ohms\n",
    "Vth2=5# # Thevnin equivalent voltage at YY' in volts\n",
    "Zth2=5e3# # Thevnin equivalent resistance at YY' in ohms\n",
    "# From the figure 2.5(d)\n",
    "I=0# # Labelled current in amperes\n",
    "Vo=5-7.5# # Labelled voltage in volts\n",
    "print \"Labelled current I = %0.2f A\"%I\n",
    "print \"Labelled voltage Vo = %0.2f V\"%Vo\n"
   ]
  },
  {
   "cell_type": "markdown",
   "metadata": {},
   "source": [
    "## Example 2.2: Page No 44"
   ]
  },
  {
   "cell_type": "code",
   "execution_count": 2,
   "metadata": {
    "collapsed": false
   },
   "outputs": [
    {
     "name": "stdout",
     "output_type": "stream",
     "text": [
      "Change in diode voltage (for Ge)= 67.70 mV\n",
      "Change in diode voltage (for Si) = 135.40 mV\n"
     ]
    }
   ],
   "source": [
    "from math import log\n",
    "#Change in diode voltage\n",
    "ID1=1# # Let the initial diode current be 1 A\n",
    "ID2=15*ID1# # Final diode current\n",
    "VT=25e-3# # Voltage equivalent to temperatue at room temperature in volts\n",
    "eta=1# # for Ge\n",
    "deltaVD=eta*VT*log(ID2/ID1)# # Change in diode voltage in volts\n",
    "deltaVD=deltaVD*1e3# # Change in diode voltage in milivolts\n",
    "print \"Change in diode voltage (for Ge)= %0.2f mV\"%deltaVD\n",
    "eta=2# # for Si\n",
    "deltaVD=eta*VT*log(ID2/ID1)# # Change in diode voltage in volts\n",
    "deltaVD=deltaVD*1e3# # Change in diode voltage in milivolts\n",
    "print \"Change in diode voltage (for Si) = %0.2f mV\"%deltaVD"
   ]
  },
  {
   "cell_type": "markdown",
   "metadata": {},
   "source": [
    "## Example 2.3: Page No 44"
   ]
  },
  {
   "cell_type": "code",
   "execution_count": 3,
   "metadata": {
    "collapsed": false
   },
   "outputs": [
    {
     "name": "stdout",
     "output_type": "stream",
     "text": [
      "Part (a)\n",
      "Voltage = -59.55 mV\n",
      "Part (b)\n",
      "Ratio of current in forward bias to that in reverse bias = -6.91 \n",
      "Part (c)\n",
      "Forward current for 0.1 V = 467.83 μA\n",
      "Forward current for 0.1 V = 22.82 mA\n",
      "Forward current for 0.1 V (A) = 1.09 A\n"
     ]
    }
   ],
   "source": [
    "from __future__ import division\n",
    "from math import exp\n",
    "#(a) Voltage\n",
    "#(b) Ratio of current in forward bias to that in reverse bias\n",
    "#(c) Forward current\n",
    "print \"Part (a)\"\n",
    "eta=1# # for Ge\n",
    "T=300# # Room temperature in kelvins\n",
    "VT=T/11600# # Voltage equivalent to temperatue at room temperature in volts\n",
    "IS=1# # Let reverse saturation current be 1 A\n",
    "I=-0.9*IS# # Reverse current\n",
    "V=eta*VT*log(1+(I/IS))# # Voltagei in volts\n",
    "V=V*1e3# # Voltage in milivolts\n",
    "print \"Voltage = %0.2f mV\"%V\n",
    "\n",
    "print \"Part (b)\"\n",
    "V=0.05# # Voltage in volts\n",
    "If_Ir=(exp(V/(eta*VT))-1)/(exp(-V/(eta*VT))-1)# # Ratio of current in forward bias to that in reverse bias\n",
    "print \"Ratio of current in forward bias to that in reverse bias = %0.2f \"%If_Ir\n",
    "\n",
    "print \"Part (c)\"\n",
    "IS=10e-6# # Reverse saturation current in amperes\n",
    "V=0.1# # Voltage in volts\n",
    "ID=IS*(exp(V/(eta*VT))-1)# # Forward current for 0.1 V in amperes\n",
    "ID=ID*1e6# # Forward current for 0.1 V in micro-amperes\n",
    "print \"Forward current for 0.1 V = %0.2f μA\"%ID\n",
    "V=0.2# # Voltage in volts\n",
    "ID=IS*(exp(V/(eta*VT))-1)# # Forward current for 0.1 V in amperes\n",
    "ID=ID*1e3# # Forward current for 0.1 V in miliamperes\n",
    "print \"Forward current for 0.1 V = %0.2f mA\"%ID\n",
    "V=0.3# # Voltage in volts\n",
    "ID=IS*(exp(V/(eta*VT))-1)# # Forward current for 0.1 V in amperes\n",
    "print \"Forward current for 0.1 V (A) = %0.2f A\"%ID\n",
    "# ans is wrong in the book."
   ]
  },
  {
   "cell_type": "markdown",
   "metadata": {},
   "source": [
    "## Example 2.4 : Page No 45"
   ]
  },
  {
   "cell_type": "code",
   "execution_count": 4,
   "metadata": {
    "collapsed": false
   },
   "outputs": [
    {
     "name": "stdout",
     "output_type": "stream",
     "text": [
      "Part (a)\n",
      "Current = -10.00 μA\n",
      "Part (b)\n",
      "Current = -5.5067 μA\n",
      "Part (c)\n",
      "Current = 1.6275 A\n"
     ]
    }
   ],
   "source": [
    "from math import exp\n",
    "from __future__ import division\n",
    "#             (a) Current\n",
    "#             (b) Current\n",
    "#             (C) Current\n",
    "\n",
    "IS=10e-6# # Reverse saturation current in amperes\n",
    "eta=1# # for Ge\n",
    "VT=25e-3# # Voltage equivalent to temperatue at room temperature in volts\n",
    "\n",
    "print \"Part (a)\"\n",
    "VD=-24# # Reverse bias in volts\n",
    "ID=IS*(exp(VD/(eta*VT))-1)# # Current in amperes\n",
    "ID=ID*1e6# # Current in micro-amperes\n",
    "print \"Current = %0.2f μA\"%ID\n",
    "\n",
    "print \"Part (b)\"\n",
    "VD=-0.02# # Reverse bias in volts\n",
    "ID=IS*(exp(VD/(eta*VT))-1)# # Current in amperes\n",
    "ID=ID*1e6# # Current in micro-amperes\n",
    "print \"Current = %0.4f μA\"%ID\n",
    "\n",
    "print \"Part (c)\"\n",
    "VD=0.3# # Forward bias in volts\n",
    "ID=IS*(exp(VD/(eta*VT))-1)# # Current in amperes\n",
    "print \"Current = %0.4f A\"%ID"
   ]
  },
  {
   "cell_type": "markdown",
   "metadata": {},
   "source": [
    "## Example 2.5 : Page No 46"
   ]
  },
  {
   "cell_type": "code",
   "execution_count": 5,
   "metadata": {
    "collapsed": false
   },
   "outputs": [
    {
     "name": "stdout",
     "output_type": "stream",
     "text": [
      "Change in diode voltage (for Ge) = 60 mV\n",
      "Change in diode voltage (for Si) = 119 mV\n"
     ]
    }
   ],
   "source": [
    "from math import log\n",
    "#Change in diode voltage\n",
    "\n",
    "T=300# # Operating temperature in kelvins\n",
    "VT=T/11600# # Voltage equivalent to temperatue at room temperature in volts\n",
    "ID1=1# # Let the initial diode current be 1 A\n",
    "ID2=10*ID1# # Final diode current\n",
    "eta=1# # for Ge\n",
    "deltaVD=eta*VT*log(ID2/ID1)# # Change in diode voltage in volts\n",
    "deltaVD=deltaVD*1e3# # Change in diode voltage in milivolts\n",
    "print \"Change in diode voltage (for Ge) = %0.f mV\"%deltaVD\n",
    "eta=2# # for Si\n",
    "deltaVD=eta*VT*log(ID2/ID1)# # Change in diode voltage in volts\n",
    "deltaVD=deltaVD*1e3# # Change in diode voltage in milivolts\n",
    "print \"Change in diode voltage (for Si) = %0.f mV\"%deltaVD"
   ]
  },
  {
   "cell_type": "markdown",
   "metadata": {},
   "source": [
    "## Example 2.6: Page No 47"
   ]
  },
  {
   "cell_type": "code",
   "execution_count": 7,
   "metadata": {
    "collapsed": false
   },
   "outputs": [
    {
     "name": "stdout",
     "output_type": "stream",
     "text": [
      "R = 20.81 Ω\n"
     ]
    }
   ],
   "source": [
    "from math import exp\n",
    "## R\n",
    "\n",
    "# In the circuit given in Fig. 2.7\n",
    "V=50e-3# # Output voltage\n",
    "VD1=0.7# # Voltage across diode 1 in volts\n",
    "I1=10e-3# # Current through diode 1 at 0.7 V in amperes\n",
    "VD2=0.8# # Voltage across diode 2 in volts\n",
    "I2=100e-3# # Current through diode 2 at 0.8 V in amperes\n",
    "eta_VT=(VD2-VD1)/log(I2/I1)# # Product of η and VT\n",
    "I=10e-3/(exp(V/eta_VT)+1)# # Current through diode 1 in amperes\n",
    "R=V/I#\n",
    "print \"R = %0.2f Ω\"%R"
   ]
  },
  {
   "cell_type": "markdown",
   "metadata": {},
   "source": [
    "## Example 2.7: Page No 48"
   ]
  },
  {
   "cell_type": "code",
   "execution_count": 9,
   "metadata": {
    "collapsed": false
   },
   "outputs": [
    {
     "name": "stdout",
     "output_type": "stream",
     "text": [
      "Diode current = 4.3000 mA\n",
      "Diode voltage = 0.7633 V\n"
     ]
    }
   ],
   "source": [
    "from math import exp\n",
    "#Current, Diode voltage\n",
    "VDD=5# # Applied voltage in volts\n",
    "VD=0.7# # Diode voltage in volts\n",
    "I1=1e-3# # Current in amperes at diode voltage = 0.7 V\n",
    "R=1000# # R in ohms\n",
    "deltaVD=0.1# # Change in diode voltage in volts for every decade change in current\n",
    "ratioI=10# # Decade change in current\n",
    "eta_VT=deltaVD/log(ratioI)# # Product of η and VT\n",
    "ID=(VDD-VD)/R# # Diode current in amperes\n",
    "VD2=VD+eta_VT*log(ID/I1)# # Diode voltage in volts\n",
    "ID=ID*1e3# # Diode current in miliamperes\n",
    "print \"Diode current = %0.4f mA\"%ID\n",
    "print \"Diode voltage = %0.4f V\"%VD2"
   ]
  },
  {
   "cell_type": "markdown",
   "metadata": {},
   "source": [
    "## Example 2.8: Page No 55"
   ]
  },
  {
   "cell_type": "code",
   "execution_count": 10,
   "metadata": {
    "collapsed": false
   },
   "outputs": [
    {
     "name": "stdout",
     "output_type": "stream",
     "text": [
      "Part (a)\n",
      "Output voltage = 5.00 V Part (b)\n",
      "Output voltage = 0.864 V\n",
      "Part (c)\n",
      "Output voltage = 0.736 V\n"
     ]
    }
   ],
   "source": [
    "#              (a) Output voltage\n",
    "#              (b) Output voltage\n",
    "#              (c) Output voltage\n",
    "\n",
    "\n",
    "print \"Part (a)\"\n",
    "# Since both the diodes are in OFF state\n",
    "Vo=5# # Output voltage in volts\n",
    "print \"Output voltage = %0.2f V\"%Vo,\n",
    "\n",
    "print \"Part (b)\"\n",
    "#Since diode D1 is in OFF state and diode D2 is in ON state\n",
    "# From Fig. 2.16(C)\n",
    "I=(5-0.6)/(4.7e3+300)# # Current flowing through the diode D2 in amperes\n",
    "Vo=5-I*4.7e3# # Output voltage in volts\n",
    "print \"Output voltage = %0.3f V\"%Vo\n",
    "\n",
    "print \"Part (c)\"\n",
    "# Since both diodes are in ON state\n",
    "# Applying KVL in Fig. 2.16(d)\n",
    "I=(5-0.6)/(2*4.7e3+300)# # Current flowing through diode D1 or diode D2 in amperes\n",
    "Vo=5-2*I*4.7e3# # Output voltage in volts\n",
    "print \"Output voltage = %0.3f V\"%Vo"
   ]
  },
  {
   "cell_type": "markdown",
   "metadata": {},
   "source": [
    "## Example 2.9 : Page No 57"
   ]
  },
  {
   "cell_type": "code",
   "execution_count": 11,
   "metadata": {
    "collapsed": false
   },
   "outputs": [
    {
     "name": "stdout",
     "output_type": "stream",
     "text": [
      "Part (a)\n",
      "Output voltage = 2 V\n",
      "Current through diode D1 = 0 A\n",
      "Current through diode D2 = 0.62 mA \n",
      "Part (b)\n",
      "Output voltage = 4.00 V\n",
      "Current through diode D1 = 0.63 mA\n",
      "Current through diode D2 = 0.20 mA\n"
     ]
    }
   ],
   "source": [
    "#             (a) Output voltage, Diode currents\n",
    "#             (b) Output voltage, Diode currents\n",
    "\n",
    "Vy=0.7# # Cut-in voltage in volts\n",
    "# In the Fig. 2.17\n",
    "R1=5e3#\n",
    "R2=10e3#\n",
    "\n",
    "print \"Part (a)\"\n",
    "# Since diode D1 is OFF and diode D2 is ON\n",
    "ID2=(5-Vy-(-5))/(R1+R2)# # Current through diode D2 in amperes\n",
    "Vo=5-ID2*R1# # Output voltage\n",
    "ID2=ID2*1e3# # Current through diode D2 in miliamperes\n",
    "print \"Output voltage = %0.f V\"%Vo\n",
    "print \"Current through diode D1 = %0.f A\"%0\n",
    "print \"Current through diode D2 = %0.2f mA \"%ID2\n",
    "print \"Part (b)\"\n",
    "# Since both the diodes are ON\n",
    "VA=4-Vy# # In the fig.\n",
    "Vo=VA+Vy# # Output voltage\n",
    "ID2=(5-Vo)/R1# # Current through diode D2 in amperes\n",
    "IR2=(VA-(-5))/R2# # Current through diode R2 in amperes\n",
    "ID1=IR2-ID2# # Current through diode D1 in amperes\n",
    "ID1=ID1*1e3# # Current through diode D1 in miliamperes\n",
    "ID2=ID2*1e3# # Current through diode D2 in miliamperes\n",
    "print \"Output voltage = %0.2f V\"%Vo\n",
    "print \"Current through diode D1 = %0.2f mA\"%ID1\n",
    "print \"Current through diode D2 = %0.2f mA\"%ID2"
   ]
  },
  {
   "cell_type": "markdown",
   "metadata": {},
   "source": [
    "## Example 2.11 : Page No 62"
   ]
  },
  {
   "cell_type": "code",
   "execution_count": 12,
   "metadata": {
    "collapsed": false
   },
   "outputs": [
    {
     "name": "stdout",
     "output_type": "stream",
     "text": [
      "Part (a)\n",
      "Amplitude of alternating component of the voltage across load resistance = 0.20 V\n",
      "Therefore, the alternating component of the voltage across load resistance is 0.199 sin ωt V\n",
      "Part (b)\n",
      "DC component of voltage across load resistance = 8.36 V\n",
      "Therefore, total voltage across load resistance is (8.36 + 0.199 sin ωt) V\n",
      "Part (C)\n",
      "DC component of current across load resistance = 4.18 mA \n",
      "Amplitude of alternating component of the current across load resistance = 0.10 mA\n",
      "Therefore, total current across load resistance is (4.18 + 0.099 sin ωt) mA\n"
     ]
    }
   ],
   "source": [
    "#              (a) Alternating component of voltage acroos load resistance\n",
    "#              (b) Total voltage across load resistance\n",
    "#              (c) Total current\n",
    "\n",
    "T=293# # Operating temperature in kelvins\n",
    "VT=T/11600# # Voltage equivalent to temperatue at room temperature in volts\n",
    "# In the Fig. 2.21(a)\n",
    "VAA=9# # in volts\n",
    "Vm=0.2# # in volts\n",
    "RL=2e3# # Load resistance in ohms\n",
    "Vy=0.6# # Cut-in voltage in volts\n",
    "Rf=10# # Forward resistance of diode in ohms\n",
    "eta=2#\n",
    "\n",
    "print \"Part (a)\"\n",
    "# From DC model in Fig. 2.21(b)\n",
    "IDQ=(VAA-Vy)/(RL+Rf)# # DC current through diode or load resistance in amperes\n",
    "rd=eta*VT/IDQ# # Dynamic resistance in ohms\n",
    "# This dynamic resistance is used in AC model in Fig. 2.21(c)\n",
    "Vom=Vm*RL/(RL+rd)# # Amplitude of alternating component of the voltage across load resistance in volts\n",
    "print \"Amplitude of alternating component of the voltage across load resistance = %0.2f V\"%Vom\n",
    "print \"Therefore, the alternating component of the voltage across load resistance is 0.199 sin ωt V\"\n",
    "\n",
    "print \"Part (b)\"\n",
    "VDQ=IDQ*RL# # DC component of voltage across load resistance in volts\n",
    "print \"DC component of voltage across load resistance = %0.2f V\"%VDQ\n",
    "print \"Therefore, total voltage across load resistance is (8.36 + 0.199 sin ωt) V\"\n",
    "\n",
    "print \"Part (C)\"\n",
    "IDQ=IDQ*1e3# # DC current through load resistance in miliamperes\n",
    "idm=Vm/(RL+rd)# # Amplitude of alternating component of the current across load resistance in amperes\n",
    "idm=idm*1e3# # Amplitude of alternating component of the current across load resistance in miliamperes\n",
    "print \"DC component of current across load resistance = %0.2f mA \"%IDQ\n",
    "print \"Amplitude of alternating component of the current across load resistance = %0.2f mA\"%idm\n",
    "print \"Therefore, total current across load resistance is (4.18 + 0.099 sin ωt) mA\""
   ]
  },
  {
   "cell_type": "markdown",
   "metadata": {},
   "source": [
    "## Example 2.12: Page No 64"
   ]
  },
  {
   "cell_type": "code",
   "execution_count": 13,
   "metadata": {
    "collapsed": false
   },
   "outputs": [
    {
     "name": "stdout",
     "output_type": "stream",
     "text": [
      "Part (b)\n",
      "Vo for I= 1 mA = 0.476 mV\n",
      "Vo for I= 0.1 mA = 3.33 mV\n",
      "Vo for I= 1 μA = 9.804 mV\n",
      "Part (c)\n",
      "I = 50.00 μA\n"
     ]
    }
   ],
   "source": [
    "## (b) Vo\n",
    "#(c) I\n",
    "\n",
    "\n",
    "print \"Part (b)\"\n",
    "# In the Fig. 2.22 (a)\n",
    "vs=10e-3# # in volts\n",
    "Rs=1e3# # in ohms\n",
    "eta=2#\n",
    "VT=25e-3# # Voltage equivalent to temperatue at room temperature in volts\n",
    "I=1e-3# # in amperes\n",
    "Vo=vs*eta*VT/(eta*VT+I*Rs)# # in volts\n",
    "Vo=Vo*1e3# # in milivolts\n",
    "print \"Vo for I= 1 mA = %0.3f mV\"%Vo\n",
    "I=0.1e-3# # in amperes\n",
    "Vo=vs*eta*VT/(eta*VT+I*Rs)# # in volts\n",
    "Vo=Vo*1e3# # in milivolts\n",
    "print \"Vo for I= 0.1 mA = %0.2f mV\"%Vo\n",
    "I=1e-6# # in amperes\n",
    "Vo=vs*eta*VT/(eta*VT+I*Rs)# # in volts\n",
    "Vo=Vo*1e3# # in milivolts\n",
    "print \"Vo for I= 1 μA = %0.3f mV\"%Vo\n",
    "\n",
    "print \"Part (c)\"\n",
    "Vo=vs/2# # in volts\n",
    "I=eta*VT*(vs-Vo)/(Vo*Rs)# # in amperes\n",
    "I=I*1e6# # in micro-amperes\n",
    "print \"I = %0.2f μA\"%I"
   ]
  },
  {
   "cell_type": "markdown",
   "metadata": {},
   "source": [
    "## Example 2.13: Page No 69"
   ]
  },
  {
   "cell_type": "code",
   "execution_count": 14,
   "metadata": {
    "collapsed": false
   },
   "outputs": [
    {
     "name": "stdout",
     "output_type": "stream",
     "text": [
      "Barrier capacitance = 70.74 pF\n"
     ]
    }
   ],
   "source": [
    "from math import pi\n",
    "#Barrier capacitance\n",
    "A=1e-3*1e-3# # Area of p-n junction in metres square\n",
    "W=2e-6# # Space charge thickness in metres\n",
    "E=16# # Dielectric constant of Ge\n",
    "Eo=1/(36*pi*1e9)# # Absolute permittivity of air\n",
    "C=E*Eo*A/W# # Barrier capacitance in farads\n",
    "C=C*1e12# # Barrier capacitance in pico-farads\n",
    "print \"Barrier capacitance = %0.2f pF\"%C"
   ]
  },
  {
   "cell_type": "markdown",
   "metadata": {},
   "source": [
    "## Example 2.14: Page No 70"
   ]
  },
  {
   "cell_type": "code",
   "execution_count": 15,
   "metadata": {
    "collapsed": false
   },
   "outputs": [
    {
     "name": "stdout",
     "output_type": "stream",
     "text": [
      "Part (a)\n",
      "Change in capacitance = -0.229 pF\n",
      "Part (b)\n",
      "Change in capacitance = 0.276 pF\n"
     ]
    }
   ],
   "source": [
    "from math import sqrt\n",
    "#               (a) Change in capacitance\n",
    "#               (b) Change in capacitance\n",
    "C=4e-12# # Depletion capacitance in farads\n",
    "V=4# # in volts\n",
    "K=C*sqrt(V)# # a constant\n",
    "\n",
    "print \"Part (a)\"\n",
    "V=4+0.5# # in volts\n",
    "C_new=K/sqrt(V)# # in farads\n",
    "deltaC=C_new-C# # Change in capacitande in farads\n",
    "deltaC=deltaC*1e12# # Change in capacitande in pico-farads\n",
    "print \"Change in capacitance = %0.3f pF\"%deltaC\n",
    "\n",
    "print \"Part (b)\"\n",
    "V=4-0.5# # in volts\n",
    "C_new=K/sqrt(V)# # in farads\n",
    "deltaC=C_new-C# # Change in capacitande in farads\n",
    "deltaC=deltaC*1e12# # Change in capacitande in pico-farads\n",
    "print \"Change in capacitance = %0.3f pF\"%deltaC"
   ]
  },
  {
   "cell_type": "markdown",
   "metadata": {},
   "source": [
    "## Example 2.18: Page No 83"
   ]
  },
  {
   "cell_type": "code",
   "execution_count": 16,
   "metadata": {
    "collapsed": false
   },
   "outputs": [
    {
     "name": "stdout",
     "output_type": "stream",
     "text": [
      "Diffusion length = 2.60 cm\n"
     ]
    }
   ],
   "source": [
    "from math import sqrt\n",
    "#Diffusion length\n",
    "\n",
    "I=1e-3# # Forward bias current in amperes\n",
    "C=1e-6# # Diffusion capacitance in farads\n",
    "Dp=13# # Diffusion constant for Si\n",
    "eta=2# # for Si\n",
    "VT=26e-3# # Voltage equivalent to temperatue at room temperature in volts\n",
    "Lp=sqrt(C*Dp*eta*VT/I)# # Diffusion length in metres\n",
    "Lp=Lp*1e2# # Diffusion length in centimetres\n",
    "print \"Diffusion length = %0.2f cm\"%Lp"
   ]
  },
  {
   "cell_type": "markdown",
   "metadata": {},
   "source": [
    "## Example 2.19 : Page No 90"
   ]
  },
  {
   "cell_type": "code",
   "execution_count": 18,
   "metadata": {
    "collapsed": false
   },
   "outputs": [
    {
     "name": "stdout",
     "output_type": "stream",
     "text": [
      "Part (a)\n",
      "Vd1 = 0.0180 V\n",
      "Vd2 = 4.9820 V\n",
      "Part (b)\n",
      "Current in the circuit = 229 μA\n"
     ]
    }
   ],
   "source": [
    "from math import log,exp\n",
    "#              (a) Vd1 and Vd2\n",
    "#              (b) Current in the circuit\n",
    "\n",
    "eta_VT=0.026# # Product of η and VT\n",
    "\n",
    "print \"Part (a)\"\n",
    "# From the Fig. 2.19(a)\n",
    "Is=5e-6# # Reverse saturation current through diode D2 in amperes\n",
    "Id1=Is# # Forward current through diode D1 in amperes\n",
    "Vd1=eta_VT*log(1+(Id1/Is))# # in volts\n",
    "Vd2=5-Vd1# # in volts\n",
    "print \"Vd1 = %0.4f V\"%Vd1\n",
    "print \"Vd2 = %0.4f V\"%Vd2\n",
    "\n",
    "print \"Part (b)\"\n",
    "# From the Fig. 2.19(b)\n",
    "Vz=4.9# # Zener voltage in volts\n",
    "Vd1=5-Vz# # in volts\n",
    "I=Is*(exp(Vd1/eta_VT)-1)# # Current in the circuit in amperes\n",
    "I=I*1e6# # Current in the circuit in micro-amperes\n",
    "print \"Current in the circuit = %0.f μA\"%I"
   ]
  }
 ],
 "metadata": {
  "kernelspec": {
   "display_name": "Python 2",
   "language": "python",
   "name": "python2"
  },
  "language_info": {
   "codemirror_mode": {
    "name": "ipython",
    "version": 2
   },
   "file_extension": ".py",
   "mimetype": "text/x-python",
   "name": "python",
   "nbconvert_exporter": "python",
   "pygments_lexer": "ipython2",
   "version": "2.7.9"
  }
 },
 "nbformat": 4,
 "nbformat_minor": 0
}
