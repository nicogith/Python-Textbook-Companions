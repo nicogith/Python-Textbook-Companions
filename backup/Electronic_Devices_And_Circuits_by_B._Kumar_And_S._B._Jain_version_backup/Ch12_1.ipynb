{
 "cells": [
  {
   "cell_type": "markdown",
   "metadata": {},
   "source": [
    "# Chapter 12 : Oscillators"
   ]
  },
  {
   "cell_type": "markdown",
   "metadata": {},
   "source": [
    "## Example 12.1: Page No 664"
   ]
  },
  {
   "cell_type": "code",
   "execution_count": 2,
   "metadata": {
    "collapsed": false
   },
   "outputs": [
    {
     "name": "stdout",
     "output_type": "stream",
     "text": [
      "Part (a)\n",
      "RD = 9.67 kΩ​ \n",
      "Part (b)\n",
      "Product RC = 8.12 µs \n",
      "Part (c)\n",
      "Reasonable value of R = 50.00 kΩ​ \n",
      "Reasonable value of C = 162.44 pF \n"
     ]
    }
   ],
   "source": [
    "from __future__ import division\n",
    "from math import pi, sqrt\n",
    "#               (a) RD\n",
    "#               (b) Product RC\n",
    "#               (c) Reasonable value of R and C\n",
    "\n",
    "fo=8e3# # in hertz\n",
    "mu=59#\n",
    "rd=10# # in kilo-ohms\n",
    "\n",
    "print \"Part (a)\"\n",
    "RD=29*rd/(mu-29)# # in kilo-ohms\n",
    "print \"RD = %0.2f kΩ​ \"%RD\n",
    "\n",
    "print \"Part (b)\"\n",
    "RC=1/(2*pi*fo*sqrt(6))# # in seconds\n",
    "RC=RC*1e6# # in micro-seconds\n",
    "print \"Product RC = %0.2f µs \"%RC\n",
    "\n",
    "print \"Part (c)\"\n",
    "R=50# # in kilo-ohms\n",
    "C=RC/R# # in nano-farad\n",
    "C=C*1e3# # in pico-farad\n",
    "print \"Reasonable value of R = %0.2f kΩ​ \"%R\n",
    "print \"Reasonable value of C = %0.2f pF \"%C"
   ]
  },
  {
   "cell_type": "markdown",
   "metadata": {},
   "source": [
    "## Example 12.2: Page No 665"
   ]
  },
  {
   "cell_type": "code",
   "execution_count": 1,
   "metadata": {
    "collapsed": false
   },
   "outputs": [
    {
     "name": "stdout",
     "output_type": "stream",
     "text": [
      "R1 = 10.00 kΩ​ \n",
      "R2 = 10.00 kΩ​ \n",
      "R3 = 20.00 kΩ​ \n",
      "R4 = 10.00 kΩ​ \n",
      "C1 = 7.96 nF \n",
      "C2 = 7.96 nF \n"
     ]
    }
   ],
   "source": [
    "from __future__ import division\n",
    "from math import pi, sqrt\n",
    "#Designing a Wein Bridge Oscillator\n",
    "\n",
    "fo=2e3# # in hertz\n",
    "R=10# # in kilo-ohms\n",
    "C=1/(2*pi*fo*R*1e3)# # in farads\n",
    "C=C*1e9# # in nano-farads\n",
    "print \"R1 = %0.2f kΩ​ \"%R\n",
    "print \"R2 = %0.2f kΩ​ \"%R\n",
    "print \"R3 = %0.2f kΩ​ \"%(2*R)\n",
    "print \"R4 = %0.2f kΩ​ \"%R\n",
    "print \"C1 = %0.2f nF \"%C\n",
    "print \"C2 = %0.2f nF \"%C"
   ]
  },
  {
   "cell_type": "markdown",
   "metadata": {},
   "source": [
    "## Example 12.3: Page No 669"
   ]
  },
  {
   "cell_type": "code",
   "execution_count": 2,
   "metadata": {
    "collapsed": false
   },
   "outputs": [
    {
     "name": "stdout",
     "output_type": "stream",
     "text": [
      "Minimum value of C = 1.81 pF \n",
      "Maximum value of C = 7.24 pF \n"
     ]
    }
   ],
   "source": [
    "from __future__ import division\n",
    "from math import pi, sqrt\n",
    "#Range of capacitance\n",
    "\n",
    "L1=2e-3# # in henry\n",
    "L2=1.5e-3# # in henry\n",
    "fmin=1000e3# # in hertz\n",
    "fmax=2000e3# # in hertz\n",
    "Cmin=1/((2*pi*fmax)**2*(L1+L2))# # in farads\n",
    "Cmax=1/((2*pi*fmin)**2*(L1+L2))# # in farads\n",
    "Cmin=Cmin*1e12# # in pico-farads\n",
    "Cmax=Cmax*1e12# # in pico-farads\n",
    "print \"Minimum value of C = %0.2f pF \"%Cmin\n",
    "print \"Maximum value of C = %0.2f pF \"%Cmax"
   ]
  }
 ],
 "metadata": {
  "kernelspec": {
   "display_name": "Python 2",
   "language": "python",
   "name": "python2"
  },
  "language_info": {
   "codemirror_mode": {
    "name": "ipython",
    "version": 2
   },
   "file_extension": ".py",
   "mimetype": "text/x-python",
   "name": "python",
   "nbconvert_exporter": "python",
   "pygments_lexer": "ipython2",
   "version": "2.7.9"
  }
 },
 "nbformat": 4,
 "nbformat_minor": 0
}
