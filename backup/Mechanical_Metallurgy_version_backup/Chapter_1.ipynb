{
 "cells": [
  {
   "cell_type": "markdown",
   "metadata": {},
   "source": [
    "# Chapter 1: Introduction"
   ]
  },
  {
   "cell_type": "markdown",
   "metadata": {},
   "source": [
    "### Example 1.1, Shear Stress, Page No. 16"
   ]
  },
  {
   "cell_type": "code",
   "execution_count": 1,
   "metadata": {
    "collapsed": false
   },
   "outputs": [
    {
     "name": "stdout",
     "output_type": "stream",
     "text": [
      "Shear Stress Required to nucleate a grain boundary crack in high temperature deformation = 158.887 MPa\n"
     ]
    }
   ],
   "source": [
    "#variable declaration\n",
    "from math import pi\n",
    "from math import sqrt\n",
    "y_b=2;\n",
    "G=75;\n",
    "G=G*10**9;       #conversion to Pa\n",
    "L=0.01;\n",
    "L=L*10**-3;       #conversion to m\n",
    "nu=0.3;\n",
    "\n",
    "#calculation\n",
    "T=sqrt((3*pi*y_b*G)/(8*(1-nu)*L));\n",
    "T=T/10**6;\n",
    "\n",
    "#result\n",
    "print ('Shear Stress Required to nucleate a grain boundary crack in high temperature deformation = %g MPa') %(T)"
   ]
  }
 ],
 "metadata": {
  "kernelspec": {
   "display_name": "Python 2",
   "language": "python",
   "name": "python2"
  },
  "language_info": {
   "codemirror_mode": {
    "name": "ipython",
    "version": 2
   },
   "file_extension": ".py",
   "mimetype": "text/x-python",
   "name": "python",
   "nbconvert_exporter": "python",
   "pygments_lexer": "ipython2",
   "version": "2.7.9"
  }
 },
 "nbformat": 4,
 "nbformat_minor": 0
}
