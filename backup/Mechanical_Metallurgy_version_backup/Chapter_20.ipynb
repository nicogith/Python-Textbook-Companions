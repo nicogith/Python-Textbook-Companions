{
 "cells": [
  {
   "cell_type": "markdown",
   "metadata": {},
   "source": [
    "# Chapter 20: Sheet-Metal Forming"
   ]
  },
  {
   "cell_type": "markdown",
   "metadata": {},
   "source": [
    "### Example 20.1, Deep Drawing, Page No. 672"
   ]
  },
  {
   "cell_type": "code",
   "execution_count": 1,
   "metadata": {
    "collapsed": false
   },
   "outputs": [
    {
     "name": "stdout",
     "output_type": "stream",
     "text": [
      "\n",
      "Limiting ratio = 1.98104\n"
     ]
    }
   ],
   "source": [
    "from math import log\n",
    "\n",
    "#variable declaration\n",
    "le=0.3;\n",
    "wd=-0.16;\n",
    "\n",
    "#calcualtion\n",
    "l_l0=1+le;\n",
    "w_w0=1+wd;\n",
    "R=log(1/w_w0)/log((w_w0)*l_l0);\n",
    "\n",
    "#result\n",
    "print('\\nLimiting ratio = %g')%(R);"
   ]
  },
  {
   "cell_type": "markdown",
   "metadata": {},
   "source": [
    "### Example 20.2, Forming Limit Criteria, Page No. 675"
   ]
  },
  {
   "cell_type": "code",
   "execution_count": 2,
   "metadata": {
    "collapsed": false
   },
   "outputs": [
    {
     "name": "stdout",
     "output_type": "stream",
     "text": [
      "\n",
      "Major Strain = 80 percent \n",
      "Minor Strain = -20 percent\n"
     ]
    }
   ],
   "source": [
    "#variable declaration\n",
    "d=0.1;\n",
    "mj_d=0.18;\n",
    "mn_d=0.08;\n",
    "\n",
    "#calculation\n",
    "e1=(mj_d-d)/d;\n",
    "e2=(mn_d-d)/d;\n",
    "\n",
    "#result\n",
    "print('\\nMajor Strain = %g percent \\nMinor Strain = %g percent')%(e1*100,e2*100);"
   ]
  }
 ],
 "metadata": {
  "kernelspec": {
   "display_name": "Python 2",
   "language": "python",
   "name": "python2"
  },
  "language_info": {
   "codemirror_mode": {
    "name": "ipython",
    "version": 2
   },
   "file_extension": ".py",
   "mimetype": "text/x-python",
   "name": "python",
   "nbconvert_exporter": "python",
   "pygments_lexer": "ipython2",
   "version": "2.7.9"
  }
 },
 "nbformat": 4,
 "nbformat_minor": 0
}
