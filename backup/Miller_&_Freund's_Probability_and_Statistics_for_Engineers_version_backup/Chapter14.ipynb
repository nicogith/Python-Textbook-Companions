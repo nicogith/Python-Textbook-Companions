{
 "metadata": {
  "name": "Chapter14"
 },
 "nbformat": 3,
 "nbformat_minor": 0,
 "worksheets": [
  {
   "cells": [
    {
     "cell_type": "heading",
     "level": 1,
     "metadata": {},
     "source": "Chapter 14: Nonparametric Tests"
    },
    {
     "cell_type": "heading",
     "level": 2,
     "metadata": {},
     "source": "Example, page-448"
    },
    {
     "cell_type": "code",
     "collapsed": false,
     "input": "# Conducting a sign test\n\n# Variable declaration\nalpha = 0.01                           # level of significance\n\n# Calculation\nfrom scipy import *\nfrom pylab import *\n\n# null hypothesis: if U = 98 else alternative hypothesis\n# x: number of Plus signs with respect to 98.0\n# sample size = 14\n\nl = array([99.0,102.3,99.8,100.5,99.7,96.2,99.1,102.5,103.3,97.4,100.4,98.9,98.3,98.0,101.6])\nl = l-98.0\n\ncount =0                              # counts number of +ve signs\n\nfor each in l:\n    if(each>0):\n        count  = count + 1\n\n# probability corresponding to count >=12 and n=14\n\np = 1 - 0.9935\np = round(p,4)\n\n# Result\nif(p>0.01):\n    print \"null hypothesis can not be rejected, i.e. median octane rating does not exceed 98.0\"\nelse:\n    print \"null hypothesis rejected, i.e. median octane rating exceeds 98.0\"",
     "language": "python",
     "metadata": {},
     "outputs": [
      {
       "output_type": "stream",
       "stream": "stdout",
       "text": "null hypothesis rejected, i.e. median octane rating exceeds 98.0\n"
      }
     ],
     "prompt_number": 1
    },
    {
     "cell_type": "heading",
     "level": 2,
     "metadata": {},
     "source": "Example, Page-448"
    },
    {
     "cell_type": "code",
     "collapsed": false,
     "input": "# A sign test of the effectiveness of a safety program\n\n# Variable declaration\nalpha = 0.05                          # level of significance\nn = 10\nl = [[45,73,46,124,33,57,83,34,26,17],[36,60,44,119,35,51,77,29,24,11]]\n\n# Calculation\nfrom scipy import *\nfrom pylab import *\n\n# null hypothesis: if U = 0 else alternative hypothesis\n# sample size = 10\n\ncount =0                              # counts number of +ve signs\n\nfor i in range(0,10):\n    if(l[0][i]>l[1][i]):\n            count  = count + 1\n\n# probability corresponding to x >=count and n=10\np = 1 - 0.9893\np = round(p,4)\n\n# Result\nif(p>0.05):\n    print \"null hypothesis can not be rejected, i.e. safety program is not effective\"\nelse:\n    print \"null hypothesis rejected, i.e. safety program is effective\"",
     "language": "python",
     "metadata": {},
     "outputs": [
      {
       "output_type": "stream",
       "stream": "stdout",
       "text": "null hypothesis rejected, i.e. safety program is effective\n"
      }
     ],
     "prompt_number": 2
    },
    {
     "cell_type": "heading",
     "level": 2,
     "metadata": {},
     "source": "Example, Page-451"
    },
    {
     "cell_type": "code",
     "collapsed": false,
     "input": "# Conducting the Wilcoxon test with large samples\n\n# Variable declaration\nalpha = 0.01                          # level of significance\nn1 = 15\nn2 = 14\nl = array([[45,73,46,124,33,57,83,34,26,17],[36,60,44,119,35,51,77,29,24,11]])\n\n# Calculation\nfrom scipy import *\nfrom pylab import *\n\n# null hypothesis: populations are identical else alternative hypothesis\n# x: number of Plus signs with respect to 0\n# sample size = 10\n\nz_thr = 2.575\n\nW1 = 162\nU1 = W1 - (n1*(n1+1))/2\n\nMU1 = n1*n2/2\n\nsigma_sq_U1 = n1*n2*(n1+n2+1)/12\nsigma_U1 = sqrt(sigma_sq_U1)\n\nz_prt = (U1 - MU1)/sigma_U1\n\n# Result\nprint \"practical z:\",round(z_prt,2)\nif(z_prt<-2.575):\n    print \"null hypothesis rejected, i.e. Difference in population of grain size\"\nelse:\n    print \"null hypothesis can not be rejected, i.e. No Difference in population of grain size\"",
     "language": "python",
     "metadata": {},
     "outputs": [
      {
       "output_type": "stream",
       "stream": "stdout",
       "text": "practical z: -2.75\nnull hypothesis rejected, i.e. Difference in population of grain size\n"
      }
     ],
     "prompt_number": 3
    },
    {
     "cell_type": "heading",
     "level": 2,
     "metadata": {},
     "source": "Example, page-452"
    },
    {
     "cell_type": "code",
     "collapsed": false,
     "input": "# Conducting an H test to compare three methods\n\n# Variable declaration\nalpha = 0.05                           # level of significance\n\n# Calculation\nfrom scipy import *\nfrom pylab import *\n\n# null hypothesis: if populations are identical, else : Alternative hypothesis\n\nchi_sq_thr = 5.991                     # theoritical value of chi square at alpha = 0.05 with v = 2\n\na = [6,13,14,16,17,18]\nb = [1,4.5,8,9,10,11,12]\nc = [2,3,4.5,7,15]\n\n# we know chi square calculated value\n\nchi_sq_prt = (12.0/(18*19)) * (pow(sum(a),2)/6 + pow(sum(b),2)/7 + pow(sum(c),2)/5) - 3*19 \nchi_sq_prt = round(chi_sq_prt,1)\n\n# Result\nprint \"practical chi square:\",round(chi_sq_prt,2)\nif(chi_sq_prt > chi_sq_thr):\n    print \"null hypothesis must be rejected,three methods against corrosion are not equally effective\"\nelse:\n    print \"null hypothesis can not be rejected,three methods against corrosion are equally effective\"",
     "language": "python",
     "metadata": {},
     "outputs": [
      {
       "output_type": "stream",
       "stream": "stdout",
       "text": "practical chi square: 6.7\nnull hypothesis must be rejected,three methods against corrosion are not equally effective\n"
      }
     ],
     "prompt_number": 4
    },
    {
     "cell_type": "heading",
     "level": 2,
     "metadata": {},
     "source": "Example, Page-453"
    },
    {
     "cell_type": "code",
     "collapsed": false,
     "input": "# Rank correlation of before and after plant safety\n\n# Variable declaration\nalpha = 0.05                          # level of significance\nn = 10\nR = [5,8,6,10,3,7,9,4,2,1]\nS = [5,8,6,10,4,7,9,3,2,1]\n\n# Calculation\nfrom scipy import *\nfrom pylab import *\n\nRS = 0\n\nfor i in range(0,10):\n    RS = RS + R[i]*S[i]\n    \nrs = (RS - n*((n+1)**2)/4.0)/(n*(n**2-1)/12.0)\nrs = round(rs,3)\n\n# Result\nprint \"rs value:\",rs,\"i.e. there is strong association along an increasing curve\"",
     "language": "python",
     "metadata": {},
     "outputs": [
      {
       "output_type": "stream",
       "stream": "stdout",
       "text": "rs value: 0.988 i.e. there is strong association along an increasing curve\n"
      }
     ],
     "prompt_number": 5
    },
    {
     "cell_type": "heading",
     "level": 2,
     "metadata": {},
     "source": "Example, Page-456"
    },
    {
     "cell_type": "code",
     "collapsed": false,
     "input": "# Conducting a test for randomness\n\n# Variable declaration\nalpha = 0.01                          # level of significance\nn1 = 10\nn2 = 17\nU = 6\n\n# Calculation\nfrom scipy import *\nfrom pylab import *\n\nz_thr = 2.575\n\nMU = (2*n1*n2)/float(n1+n2) + 1\n\nSigmaU = sqrt(((2*n1*n2)*(2*n1*n2-n1-n2)) / float(((n1+n2)**2)*(n1+n2-1)))\n\nz_prt = (U - MU)/SigmaU\n\n# Result\nprint \"practical Z:\",round(z_prt,2)\nif(z_prt < -2.575):\n    print \"null hypothesis must be rejected, Arrangement is not random\"\nelse:\n    print \"null hypothesis can not be rejected,Arrangement is random\"\n",
     "language": "python",
     "metadata": {},
     "outputs": [
      {
       "output_type": "stream",
       "stream": "stdout",
       "text": "practical Z: -3.2\nnull hypothesis must be rejected, Arrangement is not random\n"
      }
     ],
     "prompt_number": 6
    },
    {
     "cell_type": "heading",
     "level": 2,
     "metadata": {},
     "source": "Example, Page-457"
    },
    {
     "cell_type": "code",
     "collapsed": false,
     "input": "# Testing for too many changes\n\n# Variable declaration\nalpha = 0.01                          # level of significance\nn1 = 0\nn2 = 0\nR = array([0.261,0.258,0.249,0.251,0.247,0.256,0.250,0.247,0.255,0.243,\n           0.252,0.250,0.253,0.247,0.251,0.243,0.258,0.251,0.245,0.250,\n           0.248,0.252,0.254,0.250,0.247,0.253,0.251,0.246,0.249,0.252,\n           0.247,0.250,0.253,0.247,0.249,0.253,0.246,0.251,0.249,0.253])\n\n# Calculation\nfrom scipy import *\nfrom pylab import *\n\nz_thr = 2.33\n\nMedian = median(R)\n\nfor i in range(0,40):\n    if(R[i]>Median):\n        n1 = n1 + 1\n    elif(R[i]<Median):\n        n2 = n2 + 1\n\nU = 27\nMU = (2*n1*n2)/float(n1+n2) + 1\n\nSigmaU = sqrt(((2*n1*n2)*(2*n1*n2-n1-n2)) / float(((n1+n2)**2)*(n1+n2-1)))\n\nz_prt = (U - MU)/SigmaU\n\n# Result\nprint \"practical Z:\",round(z_prt,2)\nif(z_prt > 2.33):\n    print \"null hypothesis must be rejected\"\nelse:\n    print \"null hypothesis can not be rejected\"\n",
     "language": "python",
     "metadata": {},
     "outputs": [
      {
       "output_type": "stream",
       "stream": "stdout",
       "text": "practical Z: 2.98\nnull hypothesis must be rejected\n"
      }
     ],
     "prompt_number": 7
    },
    {
     "cell_type": "heading",
     "level": 2,
     "metadata": {},
     "source": "Example, Page-459"
    },
    {
     "cell_type": "code",
     "collapsed": false,
     "input": "# Evaluating the Anderson-Darling statistic\n\n# Variable declaration\nalpha = 0.05             # level of significance\nx = array([2.4,4.4,4.8,6.2,14.8,19.5,23.1,25.0,28.2,28.7])\nn = 10          \nl = []\n# Calculation\nfrom scipy import *\nfrom pylab import *\n\nA_sq = 0\n\nfor i in range(0,10):\n    l.append(x[i]/30)\n    \nfor i in range(1,11):\n    A_sq = A_sq + (2*i-1)*(math.log(l[i-1]) + math.log(1 - l[n-i]))\n    \nA_sq = (-A_sq)/n - n\nA_sq = round(A_sq,4)\n\n# Result\nprint \"A square value:\",A_sq\nprint \"As A_sq is large, We can not reject Null hypothesis\"",
     "language": "python",
     "metadata": {},
     "outputs": [
      {
       "output_type": "stream",
       "stream": "stdout",
       "text": "A square value: 0.5266\nAs A_sq is large, We can not reject Null hypothesis\n"
      }
     ],
     "prompt_number": 8
    }
   ],
   "metadata": {}
  }
 ]
}