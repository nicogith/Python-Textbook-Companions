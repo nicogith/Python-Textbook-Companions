{
 "metadata": {
  "name": "Chapter6"
 },
 "nbformat": 3,
 "nbformat_minor": 0,
 "worksheets": [
  {
   "cells": [
    {
     "cell_type": "heading",
     "level": 1,
     "metadata": {},
     "source": "Chapter 6: Sampling Distributions"
    },
    {
     "cell_type": "heading",
     "level": 2,
     "metadata": {},
     "source": "Example, page-182"
    },
    {
     "cell_type": "code",
     "collapsed": false,
     "input": "# Calculating a finite population correction factor\n\n# Variable declaration\nn = 10                                            # Sample size\nN = 1000                                          # population size\n\n# Calculation\nfrom scipy import *\nfrom pylab import *\n\n# as we know correction factor = (N-n)/(N-1)\ncorr_fact = (float(N-n))/(N-1)                    # correction factor\ncorr_fact = round(corr_fact,3)\n\n# Result\nprint \"Correction Factor: \",corr_fact",
     "language": "python",
     "metadata": {},
     "outputs": [
      {
       "output_type": "stream",
       "stream": "stdout",
       "text": "Correction Factor:  0.991\n"
      }
     ],
     "prompt_number": 1
    },
    {
     "cell_type": "heading",
     "level": 2,
     "metadata": {},
     "source": "Example, page-185"
    },
    {
     "cell_type": "code",
     "collapsed": false,
     "input": "# Using the central limit theorem to calculate the probability of paint coverage\n\n# Variable declaration\nMean = 513.3           # Mean( in square feet)\nstd_dev = 31.5         # Standard deviation ( in square feet)\nn = 40                 # Number of cans\nx1 = 510.0             # lower limit of area (in square feet)\nx2 = 520.0             # upper limit of area (in square feet)\n\n# Calculation\nfrom scipy import *\nfrom pylab import *\n\n# as we know      Z = (X-Mean) / (std_dev/sqrt(n))\nZ1 = round( ((x1-Mean) / (std_dev/sqrt(n))),3)          # Z value corresponding to lower limit   \nZ2 = round( ((x2-Mean) / (std_dev/sqrt(n))),3)          # Z value corresponding to upper limit   \n\n# Using values of Z1 & Z2 from Table-3\nP = 0.6553        # Requires probability (from Table-3)\n\n# Result\nprint \"required probability: \",P",
     "language": "python",
     "metadata": {},
     "outputs": [
      {
       "output_type": "stream",
       "stream": "stdout",
       "text": "required probability:  0.6553\n"
      }
     ],
     "prompt_number": 2
    },
    {
     "cell_type": "heading",
     "level": 2,
     "metadata": {},
     "source": "Example, page-188"
    },
    {
     "cell_type": "code",
     "collapsed": false,
     "input": "# Using a probability calculation from t-distribution to refute a claim\n\n# Variable declaration\nMean = 12.40           # Mean( in minutes)\nstd_dev = 2.48         # Standard deviation ( in minutes)\nn = 20                 # sample size\nx = 10.63              # observes time( in minutes)\n\n# Calculation\nfrom scipy import *\nfrom pylab import *\n\nt = (x-Mean) / (std_dev/sqrt(n))        # t-value corresponding to observation\nt = round( t,2)\nv = n-1                                 # degree of freedom\n\n# corresponding to v = 19 , porbability that t will be below -2.861, is 0.005 (Table-4)\n# As 0.005 is very small probability, so data tend to refute manufacturer's claim \n\n# Result\nprint \" The Data tend to refute manufacturer's claim\"",
     "language": "python",
     "metadata": {},
     "outputs": [
      {
       "output_type": "stream",
       "stream": "stdout",
       "text": " The Data tend to refute manufacturer's claim\n"
      }
     ],
     "prompt_number": 3
    },
    {
     "cell_type": "heading",
     "level": 2,
     "metadata": {},
     "source": "Example, page-190"
    },
    {
     "cell_type": "code",
     "collapsed": false,
     "input": "# A probability calculation based on the \" chi square\" distribution helps monitor variability \n\n# Variable declaration\nn = 20           # sample size\nvar_pop = 0.000126           # variance of population\nvar_samp = 0.0002            # variance of sample\n\n# Calculation\nfrom scipy import *\nfrom pylab import *\n\nchi_square = ((n-1)*var_samp) / var_pop           # chi square value\nchi_square = round(chi_square , 1)                # i.e. 30.2\n\n# From Table-5 for v = 19 and alpha = 0.05, chi_square(thoeritical) = 30.1, thus probability will be less than 0.05\n\n# Result\nprint \"chi square value: \",chi_square\nprint \"probability of rejection of shipment is less than 0.05\"",
     "language": "python",
     "metadata": {},
     "outputs": [
      {
       "output_type": "stream",
       "stream": "stdout",
       "text": "chi square value:  30.2\nprobability of rejection of shipment is less than 0.05\n"
      }
     ],
     "prompt_number": 4
    },
    {
     "cell_type": "heading",
     "level": 2,
     "metadata": {},
     "source": "Example, page-190"
    },
    {
     "cell_type": "code",
     "collapsed": false,
     "input": "# Using Table-6 to evaluate a probability\n\n# Variable declaration\nn1 = 7                  # Smaple-1 size\nn2 = 13                 # Smaple-2 size\n\n# Calculation\nfrom scipy import *\nfrom pylab import *\n\n# Using Table-6, for v1 = 6 and v2 = 12 ,F(0.05) = 3.00  thus probability is 0.05 \nP = 0.05                # required probability\n\n# Result\nprint \"required probability: \",P",
     "language": "python",
     "metadata": {},
     "outputs": [
      {
       "output_type": "stream",
       "stream": "stdout",
       "text": "required probability:  0.05\n"
      }
     ],
     "prompt_number": 5
    },
    {
     "cell_type": "heading",
     "level": 2,
     "metadata": {},
     "source": "Example, page-191"
    },
    {
     "cell_type": "code",
     "collapsed": false,
     "input": "# Using Table-6 to find a left hand tail probability\n\n# Variable declaration\nv1 = 10        # Degree of freedom a corresponding to (a,b)\nv2 = 20        # Degree of freedom b corresponding to (a,b)\n\n# Calculation\nfrom scipy import *\nfrom pylab import *\n\n# we need to find f(0.95) at (10,20) i.e. 1/ f(0.05) at(20,10)\nf = 1 / 2.77            # Required value  f(0.05) at(20,10) = 2.77 from Table-6\nf = round(f,2)\n\n# Result\nprint \"F value: \",f",
     "language": "python",
     "metadata": {},
     "outputs": [
      {
       "output_type": "stream",
       "stream": "stdout",
       "text": "F value:  0.36\n"
      }
     ],
     "prompt_number": 6
    }
   ],
   "metadata": {}
  }
 ]
}