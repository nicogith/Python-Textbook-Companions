{
 "metadata": {
  "name": "Chapter4"
 },
 "nbformat": 3,
 "nbformat_minor": 0,
 "worksheets": [
  {
   "cells": [
    {
     "cell_type": "heading",
     "level": 1,
     "metadata": {},
     "source": "Chapter 4: Probability Distributions"
    },
    {
     "cell_type": "heading",
     "level": 2,
     "metadata": {},
     "source": "Example, page-83"
    },
    {
     "cell_type": "code",
     "collapsed": false,
     "input": "#Checking for nonegativity and total probability equals one\n\n#Variable Declaration\nfrom scipy import *\nfrom pylab import *\n\nx1 = array([1,2,3,4])            # Domain of f(x)\nx2 = array([0,1,2,3,4])          # Domain of h(x)\nf = (x1-2)/2.0                   # list of values of f(x)\nh = (x2*x2)/25.0                 # list of values of h(x)\n\n#Calculation\n\n#Results\nif(sum(f)!=1):\n        print \"f(x) can not serve as probability distribution\"\n\nif(sum(h)!=1):\n        print \"h(x) can not serve as probability distribution\"\n        \nprint \"f(0) is negative(P>=0) so f(x) can not serve as probability distribution\"",
     "language": "python",
     "metadata": {},
     "outputs": [
      {
       "output_type": "stream",
       "stream": "stdout",
       "text": "h(x) can not serve as probability distribution\nf(0) is negative(P>=0) so f(x) can not serve as probability distribution\n"
      }
     ],
     "prompt_number": 1
    },
    {
     "cell_type": "heading",
     "level": 2,
     "metadata": {},
     "source": "Example, page-87"
    },
    {
     "cell_type": "code",
     "collapsed": false,
     "input": "#Evaluating binomial probabilities\n\n#Variable Declaration\nn = 5            # total number of installations \np = 0.6          # probability of heat installations reduced by one-third\n\n#Calculation\nfrom scipy import *\nfrom pylab import *\n\ndef fact(n):\n    \"\"\"returns factorial of number n\"\"\"\n    if(n==1 or n==0):\n        return 1\n    else:\n        return n*fact(n-1)\n    \ndef comb(n,r):\n    \"\"\"returns number of total combination of selecting \"r\" items out of \"n\" \"\"\"\n    return fact(n)/(fact(r)*fact(n-r))\np1 = comb(5,4) * (p**4) * ((1-p)**1)                                                # probability of exactly four out of five\np1=round(p1,3)\n\np2 = (comb(5,4) * (p**4) * ((1-p)**1)) + (comb(5,5) * (p**5) * ((1-p)**0))          # probability of atleast four out of five\np2=round(p2,3)\n\n#Results\nprint \"probability of reduction of utility bill in exactly 4 out of 5: \",p1\nprint \"probability of reduction of utility bill in atleast 4 out of 5: \",p2",
     "language": "python",
     "metadata": {},
     "outputs": [
      {
       "output_type": "stream",
       "stream": "stdout",
       "text": "probability of reduction of utility bill in exactly 4 out of 5:  0.259\nprobability of reduction of utility bill in atleast 4 out of 5:  0.337\n"
      }
     ],
     "prompt_number": 2
    },
    {
     "cell_type": "heading",
     "level": 2,
     "metadata": {},
     "source": "Example, page-87"
    },
    {
     "cell_type": "code",
     "collapsed": false,
     "input": "#Evaluating cumulative binomial probabilities\n\n#Variable Declaration\np = 0.05          # probability of failure due to load\nn = 16            # total columns\n\n#Calculation\nfrom scipy import *\nfrom pylab import *\ndef fact(n):\n    \"\"\"returns factorial of number n\"\"\"\n    if(n==1 or n==0):\n        return 1\n    else:\n        return n*fact(n-1)\n    \ndef comb(n,r):\n    \"\"\"returns number of total combination of selecting \"r\" items out of \"n\" \"\"\"\n    return fact(n)/(fact(r)*fact(n-r))\np1 = comb(16,0)*(p**0)*((1-p)**16) + comb(16,1)*(p**1)*((1-p)**15) + comb(16,2)*(p**2)*((1-p)**14)   # probability of failure of at most 2\np1 = round(p1,3)\np2 = comb(16,0)*(p**0)*((1-p)**16) + comb(16,1)*(p**1)*((1-p)**15) + comb(16,2)*(p**2)*((1-p)**14) + comb(16,3)*(p**3)*((1-p)**13)     # probability of at most 3\np2 = 1-p2                   # probability of failures of at least 4\np2 = round(p2,3)\n\n#Results\nprint \"probability of failure of at most 2 out of 16 columns: \",p1\nprint \"probability of failure of at least 4 out of 16 columns: \",p2",
     "language": "python",
     "metadata": {},
     "outputs": [
      {
       "output_type": "stream",
       "stream": "stdout",
       "text": "probability of failure of at most 2 out of 16 columns:  0.957\nprobability of failure of at least 4 out of 16 columns:  0.007\n"
      }
     ],
     "prompt_number": 3
    },
    {
     "cell_type": "heading",
     "level": 2,
     "metadata": {},
     "source": "Example, Page-88"
    },
    {
     "cell_type": "code",
     "collapsed": false,
     "input": "# Finding a binomial probability using cumulative binomial probabilities\n\n#Variable Declaration\np = 0.3         # probability of not passing inspection\nn = 18          # total panels\n\n#Calculation\nfrom scipy import *\nfrom pylab import *\n\ndef fact(n):\n    \"\"\"returns factorial of number n\"\"\"\n    if(n==1 or n==0):\n        return 1\n    else:\n        return n*fact(n-1)\n    \ndef comb(n,r):\n    \"\"\"returns number of total combination of selecting \"r\" items out of \"n\" \"\"\"\n    return fact(n)/(fact(r)*fact(n-r))\n\np1 = comb(18,6)*(p**6)*((1-p)**12)\np1 = round(p1,4)\n\n#Results\nprint \"Required probability: \",p1",
     "language": "python",
     "metadata": {},
     "outputs": [
      {
       "output_type": "stream",
       "stream": "stdout",
       "text": "Required probability:  0.1873\n"
      }
     ],
     "prompt_number": 4
    },
    {
     "cell_type": "heading",
     "level": 2,
     "metadata": {},
     "source": "Example, Page-88"
    },
    {
     "cell_type": "code",
     "collapsed": false,
     "input": "# A binomial probability to guide decision making\n\n#Variable Declaration\np = 0.1         # probability for repairing\nn = 20          # total hard drives\np1 = 0\n\n#Calculation\nfrom scipy import *\nfrom pylab import *\n\ndef fact(n):\n    \"\"\"returns factorial of number n\"\"\"\n    if(n==1 or n==0):\n        return 1\n    else:\n        return n*fact(n-1)\n    \ndef comb(n,r):\n    \"\"\"returns number of total combination of selecting \"r\" items out of \"n\" \"\"\"\n    return fact(n)/(fact(r)*fact(n-r))\n\nfor i in range(0,5):\n    p1 = p1 + comb(20,i)*(p**i)*((1-p)**(n-i))\np1 = 1 - round(p1,4)\n\n#Results\nprint \"As the probability(\",p1,\") is very less, so reject the claim.\"",
     "language": "python",
     "metadata": {},
     "outputs": [
      {
       "output_type": "stream",
       "stream": "stdout",
       "text": "As the probability( 0.0432 ) is very less, so reject the claim.\n"
      }
     ],
     "prompt_number": 5
    },
    {
     "cell_type": "heading",
     "level": 2,
     "metadata": {},
     "source": "Example, page-90"
    },
    {
     "cell_type": "code",
     "collapsed": false,
     "input": "#Calculating a probability using the hypergeometric distribution\n\n#Variable Declaration\nn = 20    # total chargers\nn1 = 10   # total selected chargers\nr = 5     # total defective chargers\nr1 = 2    # defective chargers to be selected out of 5\n\n#Calculation\nfrom scipy import *\nfrom pylab import *\n\ndef fact(n):\n    \"\"\"returns factorial of number n\"\"\"\n    if(n==1 or n==0):\n        return 1\n    else:\n        return n*fact(n-1)\n\ndef comb(n,r):\n    \"\"\"returns number of total combination of selecting \"r\" items out of \"n\" \"\"\"\n    return fact(n)/(fact(r)*fact(n-r))\np = (comb(r,r1)*comb(n-r,n1-r1)) / float(comb(n,n1))               # Required probability\np = round(p,3)\n\n#Results\nprint \"probability of exactly 2 defective out of 10: \",p",
     "language": "python",
     "metadata": {},
     "outputs": [
      {
       "output_type": "stream",
       "stream": "stdout",
       "text": "probability of exactly 2 defective out of 10:  0.348\n"
      }
     ],
     "prompt_number": 6
    },
    {
     "cell_type": "heading",
     "level": 2,
     "metadata": {},
     "source": "Example, Page-90"
    },
    {
     "cell_type": "code",
     "collapsed": false,
     "input": "# A numerical comparision of the hypergeometric and binomial distributions.\n\n#Variable Declaration\nn = 100    # total chargers\nn1 = 10   # total selected chargers\nr = 25     # total defective chargers\nr1 = 2    # defective chargers to be selected out of 5\np = 0.25\n\n#Calculation\nfrom scipy import *\nfrom pylab import *\n\ndef fact(n):\n    \"\"\"returns factorial of number n\"\"\"\n    if(n==1 or n==0):\n        return 1\n    else:\n        return n*fact(n-1)\n\ndef comb(n,r):\n    \"\"\"returns number of total combination of selecting \"r\" items out of \"n\" \"\"\"\n    return fact(n)/(fact(r)*fact(n-r))\np1 = (comb(r,r1)*comb(n-r,n1-r1)) / float(comb(n,n1))              \np1 = round(p1,3)\n\np2 = comb(n1,r1)*(p**r1)*((1-p)**(n1-r1))\np2 = round(p2,3)\n\n#Results\nprint \"For Hypergeometric distribution: \",p1\nprint \"For Binomial distribution: \",p2",
     "language": "python",
     "metadata": {},
     "outputs": [
      {
       "output_type": "stream",
       "stream": "stdout",
       "text": "For Hypergeometric distribution:  0.292\nFor Binomial distribution:  0.282\n"
      }
     ],
     "prompt_number": 7
    },
    {
     "cell_type": "heading",
     "level": 2,
     "metadata": {},
     "source": "Example, page-95"
    },
    {
     "cell_type": "code",
     "collapsed": false,
     "input": "#The mean number of heads in threee tosses\n\n#Variable Declaration\nn = 3   # no of tosses\np0 = (0.5)*(0.5)*(0.5)       # probability of Number of heads=0\np1 = 3*(0.5)*(0.5)*(0.5)     # probability of Number of heads=1\np2 = 3*(0.5)*(0.5)*(0.5)     # probability of Number of heads=2\np3 = (0.5)*(0.5)*(0.5)       # probability of Number of heads=3\n\n#Calculation\nfrom scipy import *\nfrom pylab import *\n# As we know, mean = Sum(x*P(x))\nmean_head = (p0)*0 + (p1)*1 + (p2)*2 + (p3)*3    # mean of number of heads\n\n#Results\nprint \"Mean of number of heads in 3 flips: \",mean_head",
     "language": "python",
     "metadata": {},
     "outputs": [
      {
       "output_type": "stream",
       "stream": "stdout",
       "text": "Mean of number of heads in 3 flips:  1.5\n"
      }
     ],
     "prompt_number": 8
    },
    {
     "cell_type": "heading",
     "level": 2,
     "metadata": {},
     "source": "Example, Page-95"
    },
    {
     "cell_type": "code",
     "collapsed": false,
     "input": "# The mean number of preferred used car attributes\n\n#Variable Declaration\na = ([[0,0.18], [1,0.5], [2,0.29], [3,0.03]])\nU = 0\n\n#Calculation\nfrom scipy import *\nfrom pylab import *\n\nfor i in range(0,4):\n    U = U + a[i][0]*a[i][1]\n    \n#Results\nprint \"Mean of the probability distribution: \",U",
     "language": "python",
     "metadata": {},
     "outputs": [
      {
       "output_type": "stream",
       "stream": "stdout",
       "text": "Mean of the probability distribution:  1.17\n"
      }
     ],
     "prompt_number": 9
    },
    {
     "cell_type": "heading",
     "level": 2,
     "metadata": {},
     "source": "Example, Page-96"
    },
    {
     "cell_type": "code",
     "collapsed": false,
     "input": "# Using u=np to find the mean number of heads in three tosses\n\n#Variable Declaration\nn = 3    # No. of flips\np = 0.5  # probability of head in one flip\n\n#Calculation\nfrom scipy import *\nfrom pylab import *\n\n#Results\nprint \"Mean Number of heads: \",n*p",
     "language": "python",
     "metadata": {},
     "outputs": [
      {
       "output_type": "stream",
       "stream": "stdout",
       "text": "Mean Number of heads:  1.5\n"
      }
     ],
     "prompt_number": 10
    },
    {
     "cell_type": "heading",
     "level": 2,
     "metadata": {},
     "source": "Example, page-96"
    },
    {
     "cell_type": "code",
     "collapsed": false,
     "input": "#Using the formula for the mean of a hypergeometric distribution\n\n#Variable Declaration\nN = 20       # Total car chargers\nn = 10       # Number of selected car chargers\na = 5        # Defective car chargers\n\n#Calculation\nfrom scipy import *\nfrom pylab import *\n# As we know, for hypergeometric distribution, mean = (n*a)/N\nMean=float((n*a))/N           # Mean of probability distribution of number of defectives\n\n#Results\nprint \"mean of probability distribution of the number of defectives in a sample of 10 car chargers: \",Mean",
     "language": "python",
     "metadata": {},
     "outputs": [
      {
       "output_type": "stream",
       "stream": "stdout",
       "text": "mean of probability distribution of the number of defectives in a sample of 10 car chargers:  2.5\n"
      }
     ],
     "prompt_number": 11
    },
    {
     "cell_type": "heading",
     "level": 2,
     "metadata": {},
     "source": "Example, page-97"
    },
    {
     "cell_type": "code",
     "collapsed": false,
     "input": "# Calculate the standard deviation of the two probability distribution of figure \"Ex.2.97.1.png\".\n\n#Variable declaration\nn1 = 4        # for subplot-1\np1 = 0.5      # for subplot-1\nn2 = 16       # for subplot-2\np2 = 0.5      # for subplot-2\n\n#Calculation\nfrom scipy import *\nfrom pylab import *\nfrom scipy.integrate import *\n\n%matplotlib inline\ndef fact(n):\n    \"\"\"returns factorial of number n\"\"\"\n    if(n==1 or n==0):\n        return 1\n    else:\n        return n*fact(n-1)\n\ndef comb(n,r):\n    \"\"\"returns number of total combination of selecting \"r\" items out of \"n\" \"\"\"\n    return fact(n)/(fact(r)*fact(n-r))\n# To calculate standard deviation of subplot-1\n\nx1 = [0,1,2,3,4]                 # for subplot-1\nf1=[]\nMean1 = (n1)*(p1)                # mean of subplot-1\ny1=0\n\nfor each in x1:\n    y1 = y1 + ((each-Mean1)**2)*(comb(n1,each)*((p1)**n1))\n\nstd_dev1 = sqrt(y1)              # standard deviation of subplot-1\n\nfor each in x1:\n    f1.append((comb(n1,each)*((p1)**n1)))\n    \n# To calculate standard deviation of subplot-2\n\nx2=[2,3,4,5,6,7,8,9,10,11,12,13,14]      # for subplot-2\nf2=[]\nMean2 = (n2)*(p2)                        # Mean of subplot-2\ny2 = 0\n\nfor each in x2:\n    y2 = y2 + ((each-Mean2)**2)*(comb(n2,each)*((p2)**n2))\n\nstd_dev2 = sqrt(y2)              # Standard deviation of subplot-2\nstd_dev2=round(std_dev2,1)\n\nfor each in x2:\n    f2.append((comb(n2,each)*((p2)**n2)))\n    \n# subplot-1\nsubplot(2,1,1)\nbar(x1,f1,width=1.0,fill=False)\ntitle(\"Probability distribution plot-1\")\nxlabel(\"$x$\")\nylabel(\"$f1(x)$\")\n\n# subplot-2\nsubplot(2,1,2)\ntitle(\"Probability distribution plot-2\")\nbar(x2,f2,width=1.0,fill=False)\nxlabel(\"$x$\")\nylabel(\"$f2(x)$\")\n\n#Results\nprint \"First subplot standard deviation: \",std_dev1,\"\\nSecond subplot standard deviation: \",std_dev2",
     "language": "python",
     "metadata": {},
     "outputs": [
      {
       "output_type": "stream",
       "stream": "stdout",
       "text": "First subplot standard deviation:  1.0 \nSecond subplot standard deviation:  2.0\n"
      },
      {
       "metadata": {},
       "output_type": "display_data",
       "png": "[encoded data removed]",
       "text": "<matplotlib.figure.Figure at 0xa390710>"
      }
     ],
     "prompt_number": 12
    },
    {
     "cell_type": "heading",
     "level": 2,
     "metadata": {},
     "source": "Example, Page-98"
    },
    {
     "cell_type": "code",
     "collapsed": false,
     "input": "#Using the formula for variance of the binomial distribution\n\n#Variable Declaration\nn = 16      \np = 0.5 \n\n#Calculation\nfrom scipy import *\nfrom pylab import *\n\nVariance = float(n*p*(1-p))                # Variance of Sample\nstd_dev=sqrt(Variance)                     # standard deviation of sample\n\n#Results\nprint \"standard deviation of given sample: \",int(std_dev)",
     "language": "python",
     "metadata": {},
     "outputs": [
      {
       "output_type": "stream",
       "stream": "stdout",
       "text": "standard deviation of given sample:  2\n"
      }
     ],
     "prompt_number": 13
    },
    {
     "cell_type": "heading",
     "level": 2,
     "metadata": {},
     "source": "Example, page-98"
    },
    {
     "cell_type": "code",
     "collapsed": false,
     "input": "#Using the formula for variance of the hypergeometric distribution\n\n#Variable Declaration\nN = 20       # Total car chargers\nn = 10       # Number of selected car chargers\na = 5        # Defective car chargers\n\n#Calculation\nfrom scipy import *\nfrom pylab import *\n# As we know, for hypergeometric distribution, Variance = (n.a/n)*(1-a/N)*((N-n)/(N-1))\nVariance = (float((n*a))/N)*(1-(float(a)/N))*((float(N-n)/(N-1)))                # Variance of Sample\nstd_dev=sqrt(Variance)                                                           # standard deviation of sample\nstd_dev = round(std_dev,2)\n\n#Results\nprint \"standard deviation of given sample: \",std_dev",
     "language": "python",
     "metadata": {},
     "outputs": [
      {
       "output_type": "stream",
       "stream": "stdout",
       "text": "standard deviation of given sample:  0.99\n"
      }
     ],
     "prompt_number": 14
    },
    {
     "cell_type": "heading",
     "level": 2,
     "metadata": {},
     "source": "Example, page-99"
    },
    {
     "cell_type": "code",
     "collapsed": false,
     "input": "#Calculating variance using the alternative computing formula\n\n#Variable Declaration\nU = (1.0/6)*(1+2+3+4+5+6)                                  # Mean of probability distribution \nU1 = (1.0/6)*(1*1 + 2*2 + 3*3 + 4*4 + 5*5 + 6*6)           # Second moment about the origin\n\n#Calculation\nfrom scipy import *\nfrom pylab import *\n# As we know, Variance = (U1)-U*U\n\nVariance = (U1) - U*U                                      # Variance of probability distribution\nVariance = round(Variance,2)\n\n#Results\nprint \"Variance of Given probability distribution: \",Variance,\"or 35/12\"",
     "language": "python",
     "metadata": {},
     "outputs": [
      {
       "output_type": "stream",
       "stream": "stdout",
       "text": "Variance of Given probability distribution:  2.92 or 35/12\n"
      }
     ],
     "prompt_number": 15
    },
    {
     "cell_type": "heading",
     "level": 2,
     "metadata": {},
     "source": "Example, page-99"
    },
    {
     "cell_type": "code",
     "collapsed": false,
     "input": "#The mean and variance of the number of incorrect addresses\n\n#Variable declaration\n\n#Calculation\nfrom scipy import *\nfrom pylab import *\nfrom scipy.integrate import *\n\nl = array([[0,0.05],[1,0.20],[2,0.45],[3,0.20],[4,0.10]])\nx = l[:,0]\nf = l[:,1]\n\nU = sum(x*f)                # Mean of distribution\nU2 = sum(x*x*f)             # Second moment about origin\nVariance = U2 - (U)*(U)     # Variance of given probability distribution\n\nVariance = round(Variance,2)\nU = round(U,2)\n\n#Results\nprint \"Mean of given probability distribution: \",U\nprint \"Variance of given probability distribution: \",Variance\n",
     "language": "python",
     "metadata": {},
     "outputs": [
      {
       "output_type": "stream",
       "stream": "stdout",
       "text": "Mean of given probability distribution:  2.1\nVariance of given probability distribution:  0.99\n"
      }
     ],
     "prompt_number": 16
    },
    {
     "cell_type": "heading",
     "level": 2,
     "metadata": {},
     "source": "Example, page-101"
    },
    {
     "cell_type": "code",
     "collapsed": false,
     "input": "#A probability bound using chebyshev's theorem\n\n#Variable Declaration\n# as we know K = (x-Mean)/std_dev,       P(|x-Mean| < K*std_dev) >= 1-(1/(K*K))\n\nK1 = (28-18)/2.5               # Corresponding to 28 customers\nK2 = (18-8)/2.5                # Corresponding to 8 customers\n\n#Calculation\nfrom scipy import *\nfrom pylab import *\n# P( 8 < X < 28) >= 1-(1/(K*K))   \n\nK = 4      # K=K1=K2\nP = 1-(1.0 / (K*K))            # Required probability\n\n#Results\nprint \" Probability of number of customers greater than 8 but less than 28 is greater than or equal to : \",P,\"or 15/16\"",
     "language": "python",
     "metadata": {},
     "outputs": [
      {
       "output_type": "stream",
       "stream": "stdout",
       "text": " Probability of number of customers greater than 8 but less than 28 is greater than or equal to :  0.9375 or 15/16\n"
      }
     ],
     "prompt_number": 17
    },
    {
     "cell_type": "heading",
     "level": 2,
     "metadata": {},
     "source": "Example, Page-102"
    },
    {
     "cell_type": "code",
     "collapsed": false,
     "input": "# Chebyshev's theorem with a large number of bernoulli trials\n\n#Variable Declaration\nn = 40000   \np = 0.5 \n\n#Calculation\nfrom scipy import *\nfrom pylab import *\n\nMean = n*p\nVariance = float(n*p*(1-p))                # Variance of Sample\nstd_dev=sqrt(Variance)                     # standard deviation of sample\n\nk_square = 1/(1-0.99)\nk = sqrt(k_square)\n\nMin_heads = Mean - k*std_dev\nMax_heads = Mean + k*std_dev\n\np1 = Min_heads/n\np2 = Max_heads/n\n\n#Results\nprint \"Probability limit: (\",round(p1,3),\",\",round(p2,3),\")\"",
     "language": "python",
     "metadata": {},
     "outputs": [
      {
       "output_type": "stream",
       "stream": "stdout",
       "text": "Probability limit: ( 0.475 , 0.525 )\n"
      }
     ],
     "prompt_number": 28
    },
    {
     "cell_type": "heading",
     "level": 2,
     "metadata": {},
     "source": "Example, page-105"
    },
    {
     "cell_type": "code",
     "collapsed": false,
     "input": "#Comparing poisson and binomial probabilities\n\n#Variable Declaration\nr = 2           # defective books\nn = 100         # total books\np = 0.05        # probability of a book being defective\n\n#Calculation\nfrom scipy import *\nfrom pylab import *\ndef fact(n):\n    \"\"\"returns factorial of number n\"\"\"\n    if(n==1 or n==0):\n        return 1\n    else:\n        return n*fact(n-1)\n    \ndef comb(n,r):\n    \"\"\"returns number of total combination of selecting \"r\" items out of \"n\" \"\"\"\n    return fact(n)/(fact(r)*fact(n-r))\n# using bionomial distribution\np1 = comb(100,2)*pow(p,2)*pow(1-p,98)                         # required probability using bionomial distribution\np1=round(p1,3)\n# using poisson distribution\nlamda = n*p\n# we know P = (pow(e,-lamda)*pow(lamda,r)) / fact(r)\np2 = (pow(e,-lamda)*pow(lamda,r)) / fact(r)                 # required probability\np2 = round(p2,3)\n\n#Results\nprint \"using bionomial distribution: probability = \",p1\nprint \"using poisson distribution: probability = \",p2",
     "language": "python",
     "metadata": {},
     "outputs": [
      {
       "output_type": "stream",
       "stream": "stdout",
       "text": "using bionomial distribution: probability =  0.081\nusing poisson distribution: probability =  0.084\n"
      }
     ],
     "prompt_number": 19
    },
    {
     "cell_type": "heading",
     "level": 2,
     "metadata": {},
     "source": "Example, Page-106"
    },
    {
     "cell_type": "code",
     "collapsed": false,
     "input": "# A poisson approximation to binomial probabilities\n\n#Variable Declaration\nn = 3840   \np = 1.0/1200 \nl = []\nx = [0,1,2,3,4,5,6,7,8,9,10]\n\n#Calculation\nfrom scipy import *\nfrom pylab import *\n%matplotlib inline\n\ndef fact(n):\n    \"\"\"returns factorial of number n\"\"\"\n    if(n==1 or n==0):\n        return 1\n    else:\n        return n*fact(n-1)\n    \nlamda = n*p\n\nfor i in range(0,11):\n    val = (pow(e,-lamda)*pow(lamda,i))/fact(i)\n    l.append(val)\n\n#Results\nprint \"Lamda: \",lamda\nbar(x,l,width=1,fill=False) \nxlabel(\"$No. of Failed generators$\")\nylabel(\"$Probability$\")",
     "language": "python",
     "metadata": {},
     "outputs": [
      {
       "output_type": "stream",
       "stream": "stdout",
       "text": "Lamda:  3.2\n"
      },
      {
       "metadata": {},
       "output_type": "pyout",
       "prompt_number": 27,
       "text": "<matplotlib.text.Text at 0xa350898>"
      },
      {
       "metadata": {},
       "output_type": "display_data",
       "png": "[encoded data removed]",
       "text": "<matplotlib.figure.Figure at 0xa3475f8>"
      }
     ],
     "prompt_number": 27
    },
    {
     "cell_type": "heading",
     "level": 2,
     "metadata": {},
     "source": "Example, Page-106"
    },
    {
     "cell_type": "code",
     "collapsed": false,
     "input": "# A poisson distribution for counts of particles\n\n#Variable Declaration\n\n#Calculation\nfrom scipy import *\nfrom pylab import *\n\ndef fact(n):\n    \"\"\"returns factorial of number n\"\"\"\n    if(n==1 or n==0):\n        return 1\n    else:\n        return n*fact(n-1)\n    \nlamda = 1.3\n\nval = (pow(e,-lamda)*pow(lamda,0))/fact(0)\np = 1 - val\nvariance = lamda\n\n#Results\nprint \"Lamda: \",lamda\nprint \"Probability(X>=1): \",round(p,3)\nprint \"Variance: \",variance",
     "language": "python",
     "metadata": {},
     "outputs": [
      {
       "output_type": "stream",
       "stream": "stdout",
       "text": "Lamda:  1.3\nProbability(X>=1):  0.727\nVariance:  1.3\n"
      }
     ],
     "prompt_number": 21
    },
    {
     "cell_type": "heading",
     "level": 2,
     "metadata": {},
     "source": "Example, page-107"
    },
    {
     "cell_type": "code",
     "collapsed": false,
     "input": "#Calculating probabilities concerning bad checks\n\n#Variable Declaration\nalpha = 6    # no of bad checks per day\n\n#Calculation\nfrom scipy import *\nfrom pylab import *\ndef fact(n):\n    \"\"\"returns factorial of number n\"\"\"\n    if(n==1 or n==0):\n        return 1\n    else:\n        return n*fact(n-1)\n# 4 bad checks on any day\nlamda = alpha*1                                        # As T=1\n\np1 = (pow(e,-lamda)*pow(lamda,4)) / fact(4)           # required probability\np1 = round(p1,3)\n\n# 10 bad checks over any 2 consecutive days\nlamda = alpha*2\n\np2 = ((pow(e,-lamda)*pow(lamda,10)) / fact(10))       # required probability\np2 = round(p2,3)\n\n#Results\nprint \" probability of 4 bad cheacks on any day: \",p1\nprint \" probability of 10 bad cheacks on any 2 consecutive days: \",p2",
     "language": "python",
     "metadata": {},
     "outputs": [
      {
       "output_type": "stream",
       "stream": "stdout",
       "text": " probability of 4 bad cheacks on any day:  0.134\n probability of 10 bad cheacks on any 2 consecutive days:  0.105\n"
      }
     ],
     "prompt_number": 22
    },
    {
     "cell_type": "heading",
     "level": 2,
     "metadata": {},
     "source": "Example, Page-108"
    },
    {
     "cell_type": "code",
     "collapsed": false,
     "input": "# Calculating the probabilities of imperfections\n\n#Variable Declaration\nl = []\n\n#Calculation\nfrom scipy import *\nfrom pylab import *\n\ndef fact(n):\n    \"\"\"returns factorial of number n\"\"\"\n    if(n==1 or n==0):\n        return 1\n    else:\n        return n*fact(n-1)\n    \nlamda = (0.2)*3\nl.append((pow(e,-lamda)*pow(lamda,1))/fact(1))\n\nlamda = (0.2)*5\nval = (pow(e,-lamda)*pow(lamda,0))/fact(0) + (pow(e,-lamda)*pow(lamda,1))/fact(1)\nl.append(1 - val)\n\nlamda = (0.2)*15\nl.append((pow(e,-lamda)*pow(lamda,0))/fact(0) + (pow(e,-lamda)*pow(lamda,1))/fact(1))\n\n#Results\nprint \"Part(a): \",round(l[0],3)\nprint \"Part(b): \",round(l[1],3)\nprint \"Part(c): \",round(l[2],3)",
     "language": "python",
     "metadata": {},
     "outputs": [
      {
       "output_type": "stream",
       "stream": "stdout",
       "text": "Part(a):  0.329\nPart(b):  0.264\nPart(c):  0.199\n"
      }
     ],
     "prompt_number": 23
    },
    {
     "cell_type": "heading",
     "level": 2,
     "metadata": {},
     "source": "Example, page-109"
    },
    {
     "cell_type": "code",
     "collapsed": false,
     "input": "#Calculating a probability using the geometric distribution\n\n#Variable Declaration\np = 0.05                         # probability of any device to show excessive drift\n\n#Calculation\nfrom scipy import *\nfrom pylab import *\np1 = pow(1-p,5)*pow(p,1)         # required probability\np1 = round(p1,3)\n\n#Results\nprint \"probability of sixth measuring device to be the first to show excessive drift: \",p1",
     "language": "python",
     "metadata": {},
     "outputs": [
      {
       "output_type": "stream",
       "stream": "stdout",
       "text": "probability of sixth measuring device to be the first to show excessive drift:  0.039\n"
      }
     ],
     "prompt_number": 24
    },
    {
     "cell_type": "heading",
     "level": 2,
     "metadata": {},
     "source": "Example, Page-112"
    },
    {
     "cell_type": "code",
     "collapsed": false,
     "input": "# Calculating a probability using the multinomial distribution\n\n#Variable Declaration\nn = 8\nn1 = 2\nn2 = 5\nn3 = 1\np1 = 0.3\np2 = 0.5\np3 = 0.2\n\n#Calculation\nfrom scipy import *\nfrom pylab import *\n\ndef fact(n):\n    \"\"\"returns factorial of number n\"\"\"\n    if(n==1 or n==0):\n        return 1\n    else:\n        return n*fact(n-1)\n    \np = (fact(8)/(fact(2)*fact(5)*fact(1)))*(pow(p1,2)*pow(p2,5)*pow(p3,1))\n\n#Results\nprint \"Required Probability: \",round(p,4)",
     "language": "python",
     "metadata": {},
     "outputs": [
      {
       "output_type": "stream",
       "stream": "stdout",
       "text": "Required Probability:  0.0945\n"
      }
     ],
     "prompt_number": 25
    }
   ],
   "metadata": {}
  }
 ]
}