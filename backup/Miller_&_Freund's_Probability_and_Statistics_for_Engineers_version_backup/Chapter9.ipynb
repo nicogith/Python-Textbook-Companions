{
 "metadata": {
  "name": "Chapter9"
 },
 "nbformat": 3,
 "nbformat_minor": 0,
 "worksheets": [
  {
   "cells": [
    {
     "cell_type": "heading",
     "level": 1,
     "metadata": {},
     "source": "Chapter 9: Inferences Concerning Variances"
    },
    {
     "cell_type": "heading",
     "level": 2,
     "metadata": {},
     "source": "Example, Page-269"
    },
    {
     "cell_type": "code",
     "collapsed": false,
     "input": "# Using the sample range to estimate sigma\n\n# Variable declaration\nfrom scipy import *\nfrom pylab import *\n\nval = 0\nMine1 = array([8260,8130,8350,8070,8340])\n\n# Calculation\n\nMean1 = sum(Mine1)/len(Mine1)\n\nfor each in Mine1:\n    val = val + (Mean1-each)**2\n    \nvar = (val)/(len(Mine1)-1)\nstd_dev = sqrt(var)\n\nd2 = 2.326   # for n=5\n\nest_std_dev = (max(Mine1)-min(Mine1))/d2\n\n# Result\nprint \"Estimated standard deviation: \",round(est_std_dev,1)\nprint \"Actual standard deviation: \",round(std_dev,1)",
     "language": "python",
     "metadata": {},
     "outputs": [
      {
       "output_type": "stream",
       "stream": "stdout",
       "text": "Estimated standard deviation:  120.4\nActual standard deviation:  125.5\n"
      }
     ],
     "prompt_number": 2
    },
    {
     "cell_type": "heading",
     "level": 2,
     "metadata": {},
     "source": "Example, page-270"
    },
    {
     "cell_type": "code",
     "collapsed": false,
     "input": "# Finding a 95% confidence interval for sigma\n\n# Variable declaration\nv = 19                              # degree of freedom\nVariance = 1.2* pow(10,-4)          # variance\n\n# Calculation\nfrom scipy import *\nfrom pylab import *\n\n# alpha = 0.05\nchi_square1 = 8.907                 # chi square value at alpha/2 from table-5\nchi_square2 = 32.852                # chi square value at 1-(alpha/2) from table-5\n\n# we need to find limits of sigma\n\ny1 = (v*Variance) / chi_square2            \ny2 = (v*Variance) / chi_square1            \n\ny1 = round( sqrt(y1), 4)            #lower limit\ny2 = round( sqrt(y2), 4)            #upper limit\n\n# Result\nprint \"95% confidence interval: (\",y1,\" , \",y2,\")\"",
     "language": "python",
     "metadata": {},
     "outputs": [
      {
       "output_type": "stream",
       "stream": "stdout",
       "text": "95% confidence interval: ( 0.0083  ,  0.016 )\n"
      }
     ],
     "prompt_number": 2
    },
    {
     "cell_type": "heading",
     "level": 2,
     "metadata": {},
     "source": "Example, page-271"
    },
    {
     "cell_type": "code",
     "collapsed": false,
     "input": "# Testing hypothesis concerning a standard deviation\n\n# Variable declaration\nalpha = 0.05      # level of significance\nv = 14            # degree of freedom\nstd_dev = 0.64    # standard deviation(in mil)\nsigma = 0.5\n\n# Calculation\nfrom scipy import *\nfrom pylab import *\n\n# null hypothesis: if sigma = 0.5 , Alternative hypothesis if sigma > 0.5\n\nchi_sq_thr = 23.685                                      # theoritical value of chi square at alpha = 0.05 with v = 14\nchi_sq_prt = ( v*pow(std_dev,2) ) /pow(sigma,2)          # calculated value of chi square\nchi_sq_prt = round(chi_sq_prt,2)\n\n# Result\nif(chi_sq_thr > chi_sq_prt):\n    print \"null hypothesis can not be rejected\"\n    print \"we can not conclude that lapping process is unsatisfatory\"\nelse:\n    print \"null hypothesis can be rejected\"\n    print \"we can conclude that lapping process is unsatisfatory\"",
     "language": "python",
     "metadata": {},
     "outputs": [
      {
       "output_type": "stream",
       "stream": "stdout",
       "text": "null hypothesis can not be rejected\nwe can not conclude that lapping process is unsatisfatory\n"
      }
     ],
     "prompt_number": 3
    },
    {
     "cell_type": "heading",
     "level": 2,
     "metadata": {},
     "source": "Example, page-273"
    },
    {
     "cell_type": "code",
     "collapsed": false,
     "input": "# A one-sided F test of the equality of two variances\n\n# Variable declaration\nv = 11            # degree of freedom\ns1 = 0.035        # company-1 work yield\ns2 = 0.062        # company-2 work yield\nalpha = 0.05      # level of significance\n\n# Calculation\nfrom scipy import *\nfrom pylab import *\n\n# null hypothesis: if square(sigma1) = square(sigma2) , Alternative hypothesis if square(sigma1) < square(sigma2)\n\nf_thr = 2.82                                   # theoritical value of F at alpha = 0.05 with v = 11\nf_prt = square(s2) / square(s1)                # calculated value of F\nf_prt = round(f_prt,2)\n\n# Result\nif(f_thr > f_prt):\n    print \"null hypothesis can not be rejected\"\n    print \"data does not support contention\"\nelse:\n    print \"null hypothesis must be rejected\"\n    print \"data supports contention\"",
     "language": "python",
     "metadata": {},
     "outputs": [
      {
       "output_type": "stream",
       "stream": "stdout",
       "text": "null hypothesis must be rejected\ndata supports contention\n"
      }
     ],
     "prompt_number": 4
    },
    {
     "cell_type": "heading",
     "level": 2,
     "metadata": {},
     "source": "Example, Page-273"
    },
    {
     "cell_type": "code",
     "collapsed": false,
     "input": "# A two-sided F test for the equality of two variances\n\n# Variable declaration\nalpha = 0.02      # level of significance\nval1 = 0\nval2 = 0\n\nMine1 = array([8260,8130,8350,8070,8340])\nMine2 = array([7950,7890,7900,8140,7920,7840])\n\n# Calculation\nfrom scipy import *\nfrom pylab import *\n\nMean1 = sum(Mine1)/len(Mine1)\nMean2 = sum(Mine2)/len(Mine2)\n\nfor each in Mine1:\n    val1 = val1 + (Mean1-each)**2\n    \nfor each in Mine2:\n    val2 = val2 + (Mean2-each)**2\n\n# null hypothesis: if square(sigma1) = square(sigma2) , Alternative hypothesis if square(sigma1) < square(sigma2)\ns1_square = val1/(len(Mine1)-1)\ns2_square = val2/(len(Mine2)-1)\n\nf_thr = 11.4                   # theoritical value of F at alpha = 0.02 for 4 & 5 DOF \nf_prt = s1_square / float(s2_square)            # calculated value of F\nf_prt = round(f_prt,2)\n\n# Result\nprint \"Practical F value: \",f_prt\nif(f_thr > f_prt):\n    print \"null hypothesis can not be rejected\"\n    print \"It can be assumed that variances of two populations sampled are equal.\"\nelse:\n    print \"null hypothesis must be rejected\"\n    print \"It can not be assumed that variances of two populations sampled are equal.\"",
     "language": "python",
     "metadata": {},
     "outputs": [
      {
       "output_type": "stream",
       "stream": "stdout",
       "text": "Practical F value:  1.44\nnull hypothesis can not be rejected\nIt can be assumed that variances of two populations sampled are equal.\n"
      }
     ],
     "prompt_number": 5
    },
    {
     "cell_type": "heading",
     "level": 2,
     "metadata": {},
     "source": "Example, page-275"
    },
    {
     "cell_type": "code",
     "collapsed": false,
     "input": "# confidence interval for ratio of variances of yield\n\n# Variable declaration\nv1 = 8                    # degree of freedom of sample-1\nv2 = 8                    # degree of freedom of sample-2\nalpha = 0.02              # level of significance\ns1_square = 0.4548        # for sample-1 \ns2_square = 0.1089        # for sample-2\n\n# Calculation\nfrom scipy import *\nfrom pylab import *\n\n# 98% confidence interval\n\nf1 = 6.03                                    # f value at 0.01\nf2 = 1 / 6.03                                # f value at 0.99\n\ny1 = (f2)*(s2_square / s1_square)            # lower limit\ny2 = (f1)*(s2_square / s1_square)            # upper limit\n\ny1 = round(y1,2)\ny2 = round(y2,2)\n\n# Result\nprint \"98% confidence interval: (\",y1,\" , \",y2,\")\"",
     "language": "python",
     "metadata": {},
     "outputs": [
      {
       "output_type": "stream",
       "stream": "stdout",
       "text": "98% confidence interval: ( 0.04  ,  1.44 )\n"
      }
     ],
     "prompt_number": 6
    }
   ],
   "metadata": {}
  }
 ]
}