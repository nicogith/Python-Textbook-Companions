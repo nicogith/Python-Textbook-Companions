{
 "metadata": {
  "name": "Chapter15"
 },
 "nbformat": 3,
 "nbformat_minor": 0,
 "worksheets": [
  {
   "cells": [
    {
     "cell_type": "heading",
     "level": 1,
     "metadata": {},
     "source": "Chapter 15: The Statistical Content of Quality-Improvement Programs "
    },
    {
     "cell_type": "heading",
     "level": 2,
     "metadata": {},
     "source": "Example, page-468"
    },
    {
     "cell_type": "code",
     "collapsed": false,
     "input": "# Estimating the factor effects on varianc\n\n# Variable declaration\n\nx1=[-1,1,-1,1,-1,1,-1,1]   # Solvent\nx2=[-1,-1,1,1,-1,-1,1,1]   # Time\nx3=[-1,-1,-1,-1,1,1,1,1]   # Temperature\nVar = [2048,2813,800,1352,2113,1568,882,1013]      # Variance\n\n# Calculation\nfrom scipy import *\nfrom pylab import *\n%matplotlib inline\n\nVar = log(Var)\n\nsolvent = 0\nfor i in range(0,8):\n    solvent = solvent + x1[i]*Var[i]\nsolvent = round(solvent/4,3)\n\ntime=0\nfor i in range(0,8):\n    time = time + x2[i]*Var[i]\ntime = round(time/4,3)\n\ntemp=0\nfor i in range(0,8):\n    temp = temp + x3[i]*Var[i]\ntemp = round(temp/4,3)\n\nst = 0\nfor i in range(0,8):\n    st = st + x1[i]*x2[i]*Var[i]\nst =round(st/4,3)\n\nstemp = 0\nfor i in range(0,8):\n    stemp = stemp + x1[i]*x3[i]*Var[i]\nstemp =round(stemp/4,3)\n\ntt = 0\nfor i in range(0,8):\n    tt = tt + x2[i]*x3[i]*Var[i]\ntt =round(tt/4,3)\n\nstt = 0\nfor i in range(0,8):\n    stt = stt + x1[i]*x2[i]*x3[i]*Var[i]\nstt =round(stt/4,3)\n\nx = [0.15,0.30,0.45,0.60,0.90,1.2,1.5]\ny = [stt,st,stemp,solvent,(-1)*temp,(-1)*tt,(-1)*time]\n\n# Result\nprint \"solvent:\",solvent,\" time:\",time\nprint \"temp:\",temp,\" solvent*time:\",tt\nprint \"solvent*temp:\",st,\" time*temp:\",stemp\nprint \"solvent*time*temp:\",stt\nscatter(x,y)\ntitle(\"A Half Normal plot\")",
     "language": "python",
     "metadata": {},
     "outputs": [
      {
       "output_type": "stream",
       "stream": "stdout",
       "text": "solvent: 0.171  time: -0.746\ntemp: -0.186  solvent*time: 0.091\nsolvent*temp: 0.161  time*temp: -0.25\nsolvent*time*temp: 0.057\n"
      },
      {
       "metadata": {},
       "output_type": "pyout",
       "prompt_number": 1,
       "text": "<matplotlib.text.Text at 0xa254048>"
      },
      {
       "metadata": {},
       "output_type": "display_data",
       "png": "[encoded data removed]",
       "text": "<matplotlib.figure.Figure at 0x98fd0b8>"
      }
     ],
     "prompt_number": 1
    },
    {
     "cell_type": "heading",
     "level": 2,
     "metadata": {},
     "source": "Example, page-470"
    },
    {
     "cell_type": "code",
     "collapsed": false,
     "input": "# Calculating the process capability index\n\n# Variable declaration\n\nlsl = 10.98        # Diameter in mm \nusl = 11.01        # Diameter in mm \ns = 0.0035\nx_avg = 10.991\n\n# Calculation\nfrom scipy import *\nfrom pylab import *\n\nCp = (usl - lsl)/(6*s)\nCp\n\nCpk = min(x_avg-lsl , usl-x_avg)/(3*s)\nCpk\n\n# Result\nprint \"Second index is smaller than First\"",
     "language": "python",
     "metadata": {},
     "outputs": [
      {
       "output_type": "stream",
       "stream": "stdout",
       "text": "Second index is smaller than First\n"
      }
     ],
     "prompt_number": 2
    },
    {
     "cell_type": "heading",
     "level": 2,
     "metadata": {},
     "source": "Example, Page-483"
    },
    {
     "cell_type": "code",
     "collapsed": false,
     "input": "# Calculating a lower tolerance bound for the strength of cardboard\n\n# Variable declaration\nalpha = 0.05             # level of significance\nx = [210,234,216,232,262,183,227,197,\n           248,218,256,218,244,259,263,185,\n           218,196,235,223,212,237,275,240,\n           217,263,240,247,253,269,231,254,\n           248,261,268,262,247,292,238,215]\nn = 40          \n\n# Calculation\nfrom scipy import *\nfrom pylab import *\n\nMean = mean(x)\ns = 25.10\nk = 2.126\n\n# Result\nprint \"L =\",int(Mean-k*s),\"psi\"",
     "language": "python",
     "metadata": {},
     "outputs": [
      {
       "output_type": "stream",
       "stream": "stdout",
       "text": "L = 183 psi\n"
      }
     ],
     "prompt_number": 3
    }
   ],
   "metadata": {}
  }
 ]
}