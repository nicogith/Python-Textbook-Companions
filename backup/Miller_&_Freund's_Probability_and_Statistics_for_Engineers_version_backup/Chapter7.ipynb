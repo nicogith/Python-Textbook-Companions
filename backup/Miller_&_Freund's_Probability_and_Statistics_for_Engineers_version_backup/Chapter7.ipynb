{
 "metadata": {
  "name": "Chapter7"
 },
 "nbformat": 3,
 "nbformat_minor": 0,
 "worksheets": [
  {
   "cells": [
    {
     "cell_type": "heading",
     "level": 1,
     "metadata": {},
     "source": "Chapter 7: Inferences Concerning a Mean"
    },
    {
     "cell_type": "heading",
     "level": 2,
     "metadata": {},
     "source": "Example, page-204"
    },
    {
     "cell_type": "code",
     "collapsed": false,
     "input": "# Two components of closeness: variance and bias\n\n# Variable declaration\nl = [2.4,2.9,2.7,2.6,2.9,2.0,2.8,2.2,2.4,2.4,2.0,2.5]            # list of lead concentration\nx = [1,1,1,1,1.1,1,1,1,1.1,1.2,1.1,1]\nn = 12                                                           # sample size\n\n# Calculation\nfrom scipy import *\nfrom pylab import *\n%matplotlib inline\n\nscatter(l,x)\ntitle(\"DOT DIAGRAM\")\nxlabel(\"$ Lead(micro gram/l$\")\n\nMean = sum(l)/len(l)                                             # Mean of sample\nMean = round(Mean,3)\nVariance = (sum(square(l)) - pow(sum(l),2)/ n) / (n-1)           # Variance of sample\nVariance = round(Variance,5)\n\n# Result\nstd_err = round(sqrt(Variance / n),3)                            # Estimated standard error\nprint \"Estimated standard error: \",std_err",
     "language": "python",
     "metadata": {},
     "outputs": [
      {
       "output_type": "stream",
       "stream": "stdout",
       "text": "Estimated standard error:  0.09\n"
      },
      {
       "metadata": {},
       "output_type": "display_data",
       "png": "[encoded data removed]",
       "text": "<matplotlib.figure.Figure at 0x7a0cf98>"
      }
     ],
     "prompt_number": 1
    },
    {
     "cell_type": "heading",
     "level": 2,
     "metadata": {},
     "source": "Example, Page-207"
    },
    {
     "cell_type": "code",
     "collapsed": false,
     "input": "# Specifying a high probability for the maximum error\n\n# Variable declaration\nn = 150\nstd_dev = 6.2                              # Standard deviation\n\n# as alpha = 0.01  , z(alpha/2) = 2.575\nZ = 2.575                                  # Z value\n\n# Calculation\nfrom scipy import *\nfrom pylab import *\n\nE = (Z*std_dev)/sqrt(n)\nE = round(E,2)\n\n# Result\nprint \"Maximum Error: \",E",
     "language": "python",
     "metadata": {},
     "outputs": [
      {
       "output_type": "stream",
       "stream": "stdout",
       "text": "Maximum Error:  1.3\n"
      }
     ],
     "prompt_number": 2
    },
    {
     "cell_type": "heading",
     "level": 2,
     "metadata": {},
     "source": "Example, page-208"
    },
    {
     "cell_type": "code",
     "collapsed": false,
     "input": "# Selecting the sample size\n\n# Variable declaration\nE = 0.50                                   # Atmost error\nstd_dev = 1.6                              # Standard deviation\n\n# as alpha = 0.05  , z(alpha/2) = 1.96\nZ = 1.96                                   # Z value\n\n# Calculation\nfrom scipy import *\nfrom pylab import *\n\nn = pow( (Z*std_dev) / E,2 )               # Sample size\nn = round(n,-1)\n\n# Result\nprint \"Sample size: \",int(n)",
     "language": "python",
     "metadata": {},
     "outputs": [
      {
       "output_type": "stream",
       "stream": "stdout",
       "text": "Sample size:  40\n"
      }
     ],
     "prompt_number": 3
    },
    {
     "cell_type": "heading",
     "level": 2,
     "metadata": {},
     "source": "Example, page-209"
    },
    {
     "cell_type": "code",
     "collapsed": false,
     "input": "# A 98% confidence bound on the maximum error\n\n# Variable declaration\nn = 6                                               # number of observations\nstd_dev = 0.14                                      # standard deviation(in degree)\n# as alpha = 0.02  , t(alpha/2) = 3.365 for v = 5\n\n# Calculation\nfrom scipy import *\nfrom pylab import *\n\nt = 3.365                                           # i.e. t(0.01) for v=5\nstd_err = (t*std_dev) / sqrt(n)                     # estimated standard error\nstd_err = round(std_err,2)\n\n# Result\nprint \"Maximum error: \",std_err,\"degree\"",
     "language": "python",
     "metadata": {},
     "outputs": [
      {
       "output_type": "stream",
       "stream": "stdout",
       "text": "Maximum error:  0.19 degree\n"
      }
     ],
     "prompt_number": 4
    },
    {
     "cell_type": "heading",
     "level": 2,
     "metadata": {},
     "source": "Example, Page-210"
    },
    {
     "cell_type": "code",
     "collapsed": false,
     "input": "# Calculating and interpreting a large sample confidence interval\n\n# Variable declaration\nn = 100                                # sample size\nMean = 21.6                           # sample mean\nstd_dev = 5.1                        # standard deviation\n\n# Calculation\nfrom scipy import *\nfrom pylab import *\n\n# as alpha = 0.05  , z(alpha/2) = 1.96\nZ = 1.96\n\ny1 = Mean - Z*(std_dev / sqrt(n))           # lower limit of range\ny2 = Mean + Z*(std_dev / sqrt(n))           # upper limit of range\ny1 = round(y1,1)\ny2 = round(y2,1)\n\n# Result\nprint \"95% confidence interval: (\",y1,\",\",y2,\")\"",
     "language": "python",
     "metadata": {},
     "outputs": [
      {
       "output_type": "stream",
       "stream": "stdout",
       "text": "95% confidence interval: ( 20.6 , 22.6 )\n"
      }
     ],
     "prompt_number": 5
    },
    {
     "cell_type": "heading",
     "level": 2,
     "metadata": {},
     "source": "Example, page-210"
    },
    {
     "cell_type": "code",
     "collapsed": false,
     "input": "# A 99% confidence interval for the mean nanopillar height\n\n# Variable declaration\nn = 50                                # sample size\nMean = 305.58                         # sample mean(in nm)\nstd_dev = 36.97                       # standard deviation(in nm)\n\n# Calculation\nfrom scipy import *\nfrom pylab import *\n\n# as alpha = 0.01  , z(alpha/2) = 2.575\nZ = 2.575\n\ny1 = Mean - Z*(std_dev / sqrt(n))           # lower limit of range\ny2 = Mean + Z*(std_dev / sqrt(n))           # upper limit of range\ny1 = round(y1,2)\ny2 = round(y2,2)\n\n# Result\nprint \"99% confidence interval(in nm): (\",y1,\",\",y2,\")\"",
     "language": "python",
     "metadata": {},
     "outputs": [
      {
       "output_type": "stream",
       "stream": "stdout",
       "text": "99% confidence interval(in nm): ( 292.12 , 319.04 )\n"
      }
     ],
     "prompt_number": 6
    },
    {
     "cell_type": "heading",
     "level": 2,
     "metadata": {},
     "source": "Example, Page-211"
    },
    {
     "cell_type": "code",
     "collapsed": false,
     "input": "# A 99% confidence interval for the mean of a normal population\n\n# Variable declaration\nn = 16                      # sample size\nMean = 3.42                 # sample mean\nstd_dev = 0.68              # standard deviation\n\n# Calculation\nfrom scipy import *\nfrom pylab import *\n\n# t(0.05) = 2.947\nt = 2.947\n\ny1 = Mean - t*(std_dev / sqrt(n))           # lower limit of range\ny2 = Mean + t*(std_dev / sqrt(n))           # upper limit of range\ny1 = round(y1,2)\ny2 = round(y2,2)\n\n# Result\nprint \"99% confidence interval(in grams): (\",y1,\",\",y2,\")\"",
     "language": "python",
     "metadata": {},
     "outputs": [
      {
       "output_type": "stream",
       "stream": "stdout",
       "text": "99% confidence interval(in grams): ( 2.92 , 3.92 )\n"
      }
     ],
     "prompt_number": 7
    },
    {
     "cell_type": "heading",
     "level": 2,
     "metadata": {},
     "source": "Example, page-219"
    },
    {
     "cell_type": "code",
     "collapsed": false,
     "input": "# Maximum likelihood estimator of function of lembda\n\n# Variable declaration\ncount = [7,3,1,2,4,1,2,3,1,2]                                               # count list for 10 days\n\n# Calculation\nfrom scipy import *\nfrom pylab import *\n\nlembda = float(sum(count)) / len(count)                                     # maximaum likelihood estimate of lembda\nlembda = round(lembda,2)\n\n# we need to find P(x=0 or x=1) using poisson distribution\np = exp(-lembda) + (exp(-lembda) * lembda) / math.factorial(1)              # maximum estimated probability\np = round(p,3)\n\n# Result\nprint \"Maximum estimated probability: \",p",
     "language": "python",
     "metadata": {},
     "outputs": [
      {
       "output_type": "stream",
       "stream": "stdout",
       "text": "Maximum estimated probability:  0.267\n"
      }
     ],
     "prompt_number": 8
    },
    {
     "cell_type": "heading",
     "level": 2,
     "metadata": {},
     "source": "Example, Page-220"
    },
    {
     "cell_type": "code",
     "collapsed": false,
     "input": "# Estimation of yield for a green gas process\n\n#Variable declaration\nl = array([5.57,5.76,4.18,4.64,7.02,6.62,6.33,7.24,5.57,7.89,4.67,7.24,6.43,5.59,5.39])\n          \n# calculation\nMean = mean(l)\nvar = 0\n\nfor each in l:\n    var = var + (each-Mean)**2\n\nvar = var/len(l)\n\ncoff = sqrt(var)/Mean\n\n# Results\nprint \"Maximum likelihood estimates of Mean:\",round(Mean,3),\"  Variance:\",round(var,3)\nprint \"Cofficient of variation:\",round(coff,3)          ",
     "language": "python",
     "metadata": {},
     "outputs": [
      {
       "output_type": "stream",
       "stream": "stdout",
       "text": "Maximum likelihood estimates of Mean: 6.009   Variance: 1.084\nCofficient of variation: 0.173\n"
      }
     ],
     "prompt_number": 10
    },
    {
     "cell_type": "heading",
     "level": 2,
     "metadata": {},
     "source": "Example, page-231"
    },
    {
     "cell_type": "code",
     "collapsed": false,
     "input": "# Calculating the P-value\n\n# Variable declaration\nMean = 4.5                 # mean of normal distribution\nstd_dev = 1.5              # standard deviation of normal distribution\nn = 25                     # number of vinyl specimens\nx = 3.9\n\n# Calculation\nfrom scipy import *\nfrom pylab import *\n\n# corresponding to x = 3.9 ,  Z = (x-Mean) / (std_dev/sqrt(n))\nZ = (x-Mean) / (std_dev/sqrt(n))           # Z value\nZ = round(Z,0)\n\n# from Normal Table P(Z>2.00) = 0.0228 which is same as P(Z<-2.00)\np = 0.0228                                                              #  probability P(z<-2.00)\np_val = 2*p                                                             # Required P-Value\n\n# Result\nprint \"P-Value: \",p_val",
     "language": "python",
     "metadata": {},
     "outputs": [
      {
       "output_type": "stream",
       "stream": "stdout",
       "text": "P-Value:  0.0456\n"
      }
     ],
     "prompt_number": 11
    },
    {
     "cell_type": "heading",
     "level": 2,
     "metadata": {},
     "source": "Example, page-232"
    },
    {
     "cell_type": "code",
     "collapsed": false,
     "input": "# A large sample test of mean tire life\n\n# Variable declaration\nalpha = 0.01         # level of significance\nx = 27463            # in miles\nMean = 28000         # Mean( in miles)\nstd_dev = 1348       # standard deviation(in miles)\nn = 40               # sample size\n\n# Calculation\nfrom scipy import *\nfrom pylab import *\n\n# null hypothesis is accepted if Z< -z(alpha)  and rejected if Z> -z(alpha), z(0.01) = 2.33\nZ = (x-Mean) / (std_dev / sqrt(n))          # Z value corresponding to x\nZ = round(Z,2)\n\n# Result\nif(Z<-2.33):\n    print \"Null hypothesis rejected\"\nelse:\n    print \"Null hypothesis accepted\"",
     "language": "python",
     "metadata": {},
     "outputs": [
      {
       "output_type": "stream",
       "stream": "stdout",
       "text": "Null hypothesis rejected\n"
      }
     ],
     "prompt_number": 12
    },
    {
     "cell_type": "heading",
     "level": 2,
     "metadata": {},
     "source": "Example, page-233"
    },
    {
     "cell_type": "code",
     "collapsed": false,
     "input": "# A t-test of a normal population mean\n\n# Variable declaration\n\nalpha = 0.01         # level of significance\nMean = 180           # Mean( in pound)\nn = 5                # sample size\nstd_dev = 5.7        # standard deviation(in pound)\nx = 169.5            # in pound\n\n# Calculation\nfrom scipy import *\nfrom pylab import *\n\n# consider (1) null hypothesis if value=180 punds (2) alternative hypothesis if value < 180 pounds\n\nt = (x-Mean) / (std_dev / sqrt(n))          # t value corresponding to x\nt = round(t,2)\n\n# Result\nif(t < -3.747):\n    print \"Null hypothesis rejected\"\nelse:\n    print \"Null hypothesis accepted\"\n\nprint \"The breaking strength is below specifications\"",
     "language": "python",
     "metadata": {},
     "outputs": [
      {
       "output_type": "stream",
       "stream": "stdout",
       "text": "Null hypothesis rejected\nThe breaking strength is below specifications\n"
      }
     ],
     "prompt_number": 13
    },
    {
     "cell_type": "heading",
     "level": 2,
     "metadata": {},
     "source": "Example, Page-236"
    },
    {
     "cell_type": "code",
     "collapsed": false,
     "input": "# Illustrating the relation between tests and confidence intervals\n\n# Variable declaration\nn = 16                      # sample size\nMean = 3.42                 # sample mean\nstd_dev = 0.68              # standard deviation\n\n# Calculation\nfrom scipy import *\nfrom pylab import *\n\n# t(0.025) = 2.131\nt = 2.131\n\ny1 = Mean - t*(std_dev / sqrt(n))           # lower limit of range\ny2 = Mean + t*(std_dev / sqrt(n))           # upper limit of range\ny1 = round(y1,2)\ny2 = round(y2,2)\n\n# Result\nprint \"95% confidence interval(in grams): (\",y1,\",\",y2,\")\"",
     "language": "python",
     "metadata": {},
     "outputs": [
      {
       "output_type": "stream",
       "stream": "stdout",
       "text": "95% confidence interval(in grams): ( 3.06 , 3.78 )\n"
      }
     ],
     "prompt_number": 14
    },
    {
     "cell_type": "heading",
     "level": 2,
     "metadata": {},
     "source": "Example, Page-239"
    },
    {
     "cell_type": "code",
     "collapsed": false,
     "input": "# Determining the probability of a type-2 error- One sided test\n\n# Variable declaration\nn = 15                     # sample size\nMean1 = 75.20              # sample mean\nMean2 = 77                 # sample mean\nstd_dev = 3.6              # standard deviation\n\n# Calculation\nfrom scipy import *\nfrom pylab import *\n\n# z(0.05) = 1.645\nZ = 1.645\n\ny1 = Z + sqrt(n)*((Mean1-Mean2) / std_dev)           # lower limit of range\ny1 = round(y1,3)\n\n# probability corresponding to Z>y1 is 0.614\np = 0.614   # P(Z > -0.219) = 0.614\n\nprob = 1 - p\n\n# Result\nprint \"Type-2 error probability: \",prob",
     "language": "python",
     "metadata": {},
     "outputs": [
      {
       "output_type": "stream",
       "stream": "stdout",
       "text": "Type-2 error probability:  0.386\n"
      }
     ],
     "prompt_number": 15
    },
    {
     "cell_type": "heading",
     "level": 2,
     "metadata": {},
     "source": "Example, Page-240"
    },
    {
     "cell_type": "code",
     "collapsed": false,
     "input": "# Determining the probability of a type-2 error- Two sided test\n\n# Variable declaration\nn = 30                     # sample size\nMean1 = 2.000              # sample mean\nMean2 = 2.010                 # sample mean\nstd_dev = 0.050              # standard deviation\n\n# Calculation\nfrom scipy import *\nfrom pylab import *\n\n# z(0.025) = 1.96\nZ = 1.96\n\ny1 = -Z + sqrt(n)*((Mean1-Mean2) / std_dev)           \ny2 = Z + sqrt(n)*((Mean1-Mean2) / std_dev)           \n\n\n# probability corresponding to Z>y1 is 0.614\np1 = 0.0015   # P(Z < Y1) = 0.001\np2 = 0.1945   # P(Z > Y2) = 0.194\np = p1 + p2\n\nprob = 1 - p\n\n# Result\nprint \"Type-2 error probability: \",prob",
     "language": "python",
     "metadata": {},
     "outputs": [
      {
       "output_type": "stream",
       "stream": "stdout",
       "text": "Type-2 error probability:  0.804\n"
      }
     ],
     "prompt_number": 16
    },
    {
     "cell_type": "heading",
     "level": 2,
     "metadata": {},
     "source": "Example, page-241"
    },
    {
     "cell_type": "code",
     "collapsed": false,
     "input": "# Determining a sample size - One sided test\n\n# Variable declaration\n\nalpha = 0.05\nbeta = 0.10\nMean1 = 20          # mean corresponding to alpha\nMean2 = 21          # mean corresponding to beta\nstd_dev = 2.4       # standard deviation\n\n# Calculation\nfrom scipy import *\nfrom pylab import *\n\nZ1 = 1.645          # Z value corresponding to alpha=0.05\nZ2 = 1.280          # Z value corresponding to beta=0.10\n\nSize = pow( (std_dev*(Z1 + Z2))/(Mean1 - Mean2) ,2)               # Minimum sample size\nSize = round(Size,-1)\n\n# Result\nprint \"Required sample size: \",int(Size)",
     "language": "python",
     "metadata": {},
     "outputs": [
      {
       "output_type": "stream",
       "stream": "stdout",
       "text": "Required sample size:  50\n"
      }
     ],
     "prompt_number": 17
    }
   ],
   "metadata": {}
  }
 ]
}