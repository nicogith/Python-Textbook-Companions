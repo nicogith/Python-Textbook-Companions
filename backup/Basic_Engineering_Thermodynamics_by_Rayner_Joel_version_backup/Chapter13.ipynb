{
 "cells": [
  {
   "cell_type": "markdown",
   "metadata": {},
   "source": [
    "# Chapter 13 - Steam turbines"
   ]
  },
  {
   "cell_type": "markdown",
   "metadata": {},
   "source": [
    "## Example 1: pg 380"
   ]
  },
  {
   "cell_type": "code",
   "execution_count": 1,
   "metadata": {
    "collapsed": false
   },
   "outputs": [
    {
     "name": "stdout",
     "output_type": "stream",
     "text": [
      "Example 13.1\n",
      " The power developed for a steam flow of 1 kg/s is (kW) =  52.8\n",
      " The energy of steam finally leaving the wheel is (kW/kg) =  8.778\n"
     ]
    }
   ],
   "source": [
    "#pg 380\n",
    "print('Example 13.1');\n",
    "\n",
    "#  aim : To determine \n",
    "#  the power developed for a steam flow of 1 kg/s at the blades and the kinetic energy of the steam finally leaving the wheel\n",
    "\n",
    "#  Given values\n",
    "alfa = 20;#  blade angle, [degree]\n",
    "Cai = 375;# steam exit velocity in the nozzle,[m/s]\n",
    "U = 165;# blade speed, [m/s]\n",
    "loss = .15;#  loss of velocity due to friction\n",
    "\n",
    "#  solution\n",
    "#  using Fig13.12,\n",
    "Cvw = 320;# change in velocity of whirl, [m/s]\n",
    "cae = 132.5;# absolute velocity at exit, [m/s]\n",
    "Pds = U*Cvw*10**-3;# Power developed for steam flow of 1 kg/s, [kW]\n",
    "Kes = cae**2/2*10**-3;# Kinetic energy change of steam, [kW/kg] \n",
    "\n",
    "#results\n",
    "print ' The power developed for a steam flow of 1 kg/s is (kW) = ',Pds\n",
    "print ' The energy of steam finally leaving the wheel is (kW/kg) = ',round(Kes,3)\n",
    "\n",
    "#  End\n"
   ]
  },
  {
   "cell_type": "markdown",
   "metadata": {},
   "source": [
    "## Example 2: pg 382"
   ]
  },
  {
   "cell_type": "code",
   "execution_count": 2,
   "metadata": {
    "collapsed": false
   },
   "outputs": [
    {
     "name": "stdout",
     "output_type": "stream",
     "text": [
      "Example 13.2\n",
      " (a) The angle of blades is (degree) =  41.5\n",
      " (b) The work done on the blade is (kW/kg) =  150.45\n",
      " (c) The diagram efficiency is (percent) =  83.6\n",
      " (d) The End-thrust is (N/kg) =  -90\n"
     ]
    }
   ],
   "source": [
    "#pg 382\n",
    "print('Example 13.2');\n",
    "\n",
    "# aim : To determine\n",
    "# (a) the entry angle of  the blades\n",
    "# (b) the work done per kilogram of steam per second\n",
    "# (c) the diagram efficiency\n",
    "# (d) the end-thrust per kilogram of steam per second\n",
    "\n",
    "# given values\n",
    "Cai = 600.;# steam velocity, [m/s]\n",
    "sia = 25.;# steam inlet angle with blade, [degree]\n",
    "U = 255.;# mean blade speed, [m/s]\n",
    "sea = 30.;# steam exit angle with blade,[degree] \n",
    "\n",
    "# solution\n",
    "# (a)\n",
    "# using Fig.13.13(diagram for example 13.2)\n",
    "eab = 41.5;# entry angle of blades, [degree]\n",
    "print ' (a) The angle of blades is (degree) = ',eab\n",
    "\n",
    "# (b)\n",
    "Cwi_plus_Cwe = 590;# velocity of whirl, [m/s]\n",
    "W = U*(Cwi_plus_Cwe);# work done on the blade,[W/kg]\n",
    "print ' (b) The work done on the blade is (kW/kg) = ',W*10**-3\n",
    "\n",
    "# (c)\n",
    "De = 2*U*(Cwi_plus_Cwe)/Cai**2;# diagram efficiency \n",
    "print ' (c) The diagram efficiency is (percent) = ',round(De*100,1)\n",
    "\n",
    "# (d)\n",
    "# again from the diagram\n",
    "Cfe_minus_Cfi = -90;# change invelocity of flow, [m/s]\n",
    "Eth = Cfe_minus_Cfi;# end-thrust, [N/kg s]\n",
    "print ' (d) The End-thrust is (N/kg) = ',Eth\n",
    "\n",
    "#  End\n"
   ]
  },
  {
   "cell_type": "markdown",
   "metadata": {},
   "source": [
    "## Example 3: pg 384"
   ]
  },
  {
   "cell_type": "code",
   "execution_count": 3,
   "metadata": {
    "collapsed": false
   },
   "outputs": [
    {
     "name": "stdout",
     "output_type": "stream",
     "text": [
      "Example 13.3\n",
      " (a) The power of turbine is (kW) =  806.625\n",
      " (b) The diagram efficiency is (percent) =  78.7\n"
     ]
    }
   ],
   "source": [
    "#pg 384\n",
    "print('Example 13.3');\n",
    "\n",
    "# aim : To determine\n",
    "# (a) the power output of the turbine\n",
    "# (b) the diagram efficiency\n",
    "\n",
    "# given values\n",
    "U = 150.;# mean blade speed, [m/s]\n",
    "Cai1 = 675.;# nozzle speed, [m/s]\n",
    "na = 20.;# nozzle angle, [degree]\n",
    "m_dot = 4.5;# steam flow rate, [kg/s]\n",
    "\n",
    "# solution\n",
    "# from Fig. 13.15(diagram 13.3)\n",
    "Cw1 = 915.;# [m/s]\n",
    "Cw2 = 280.;# [m/s]\n",
    "\n",
    "# (a)\n",
    "P = m_dot*U*(Cw1+Cw2);# power of turbine,[W]\n",
    "print ' (a) The power of turbine is (kW) = ',P*10**-3\n",
    "\n",
    "# (b)\n",
    "De = 2*U*(Cw1+Cw2)/Cai1**2;# diagram efficiency\n",
    "print ' (b) The diagram efficiency is (percent) = ',round(De*100,1)\n",
    "\n",
    "#  End\n"
   ]
  },
  {
   "cell_type": "markdown",
   "metadata": {},
   "source": [
    "## Example 4: pg 386"
   ]
  },
  {
   "cell_type": "code",
   "execution_count": 4,
   "metadata": {
    "collapsed": false
   },
   "outputs": [
    {
     "name": "stdout",
     "output_type": "stream",
     "text": [
      "Example 13.4\n",
      " (a) The power output of the stage is (MW) =  11.6\n",
      " (b) The specific enthalpy drop in the stage is (kJ/kg) =  82.0\n",
      " (c) The increase in relative velocity is (percent) =  52.2\n"
     ]
    }
   ],
   "source": [
    "#pg 386\n",
    "print('Example 13.4');\n",
    "import math\n",
    "# aim : To determine\n",
    "# (a) the power output of the stage\n",
    "# (b) the specific enthalpy drop in the stage\n",
    "# (c) the percentage increase in relative velocity in the moving blades due to expansion in the bladse\n",
    "\n",
    "# given values\n",
    "N = 50.;# speed, [m/s]\n",
    "d = 1.;# blade ring diameter, [m]\n",
    "nai = 50.;# nozzle inlet angle, [degree]\n",
    "nae = 30.;# nozzle exit angle, [degree]\n",
    "m_dot = 600000.;# steam flow rate, [kg/h]\n",
    "se = .85;# stage efficiency\n",
    "\n",
    "# solution\n",
    "# (a)\n",
    "U = math.pi*d*N;# mean blade speed, [m/s]\n",
    "# from Fig. 13.17(diagram 13.4)\n",
    "Cwi_plus_Cwe = 444;# change in whirl speed, [m/s]\n",
    "P = m_dot*U*Cwi_plus_Cwe/3600;# power output of the stage, [W]\n",
    "print ' (a) The power output of the stage is (MW) = ',round(P*10**-6,1)\n",
    "\n",
    "# (b)\n",
    "h = U*Cwi_plus_Cwe/se;# specific enthalpy,[J/kg]\n",
    "print ' (b) The specific enthalpy drop in the stage is (kJ/kg) = ',round(h*10**-3)\n",
    "\n",
    "# (c)\n",
    "# again from diagram\n",
    "Cri = 224.;# [m/s]\n",
    "Cre = 341;# [m/s]\n",
    "Iir = (Cre-Cri)/Cri;# increase in relative velocity\n",
    "print ' (c) The increase in relative velocity is (percent) = ',round(Iir*100,1)\n",
    "\n",
    "#  End\n"
   ]
  },
  {
   "cell_type": "markdown",
   "metadata": {},
   "source": [
    "## Example 5: pg 389"
   ]
  },
  {
   "cell_type": "code",
   "execution_count": 5,
   "metadata": {
    "collapsed": false
   },
   "outputs": [
    {
     "name": "stdout",
     "output_type": "stream",
     "text": [
      "Example 13.5\n",
      " (a) The blade height at this stage is (mm) =  65.0\n",
      " (b) The power developed is (kW) =  218.7\n",
      " (a) The specific enthalpy drop in the stage is (kJ/kg) =  19.059\n"
     ]
    }
   ],
   "source": [
    "#pg 389\n",
    "print('Example 13.5');\n",
    "\n",
    "# aim : To determine\n",
    "# (a) the blade height of the stage\n",
    "# (b) the power developed in the stage\n",
    "# (c) the specific enthalpy drop at the stage\n",
    "from math import sqrt,pi\n",
    "# given values\n",
    "U = 60.;# mean blade speed, [m/s]\n",
    "P = 350.;# steam pressure, [kN/m**2]\n",
    "T = 175.;# steam temperature, [C]\n",
    "nai = 30.;# stage inlet angle, [degree]\n",
    "nae = 20.;# stage exit angle, [degree] \n",
    "\n",
    "# solution\n",
    "# (a)\n",
    "m_dot = 13.5;# steam flow rate, [kg/s]\n",
    "# at given T and P\n",
    "v = .589;# specific volume, [m**3/kg]\n",
    "# given H=d/10, so\n",
    "H = sqrt(m_dot*v/(pi*10*60));# blade height, [m]\n",
    "print ' (a) The blade height at this stage is (mm) = ',round(H*10**3)\n",
    "\n",
    "# (b)\n",
    "Cwi_plus_Cwe = 270;# change in whirl speed, [m/s]\n",
    "P = m_dot*U*(Cwi_plus_Cwe);# power developed, [W]\n",
    "print ' (b) The power developed is (kW) = ',P*10**-3\n",
    "\n",
    "# (c)\n",
    "s = .85;# stage efficiency\n",
    "h = U*Cwi_plus_Cwe/s;# specific enthalpy,[J/kg]\n",
    "print ' (a) The specific enthalpy drop in the stage is (kJ/kg) = ',round(h*10**-3,3)\n",
    "\n",
    "#  End\n"
   ]
  }
 ],
 "metadata": {
  "kernelspec": {
   "display_name": "Python 2",
   "language": "python",
   "name": "python2"
  },
  "language_info": {
   "codemirror_mode": {
    "name": "ipython",
    "version": 2
   },
   "file_extension": ".py",
   "mimetype": "text/x-python",
   "name": "python",
   "nbconvert_exporter": "python",
   "pygments_lexer": "ipython2",
   "version": "2.7.11"
  }
 },
 "nbformat": 4,
 "nbformat_minor": 0
}
