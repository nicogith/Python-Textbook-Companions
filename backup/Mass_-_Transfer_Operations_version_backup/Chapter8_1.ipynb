{
 "metadata": {
  "name": "",
  "signature": "sha256:43251d921fc8d8fdce5626d1c526ed83cb3073914f200034a16dd6e1031bf994"
 },
 "nbformat": 3,
 "nbformat_minor": 0,
 "worksheets": [
  {
   "cells": [
    {
     "cell_type": "heading",
     "level": 1,
     "metadata": {},
     "source": [
      "Chapter 8: Gas Absorption"
     ]
    },
    {
     "cell_type": "heading",
     "level": 2,
     "metadata": {},
     "source": [
      "Ex8.1: Page 278"
     ]
    },
    {
     "cell_type": "code",
     "collapsed": false,
     "input": [
      "\n",
      "\n",
      "# Illustration 8.1\n",
      "# Page: 278\n",
      "\n",
      "print'Illustration 8.1 -  Page: 278\\n\\n'\n",
      "\n",
      "# solution\n",
      "\n",
      "#****Data****#\n",
      "P_star = 2*10**(5);# [N/square m]\n",
      "X_methane = 0.6;\n",
      "X_ethane = 0.2;\n",
      "X_propane = 0.08;\n",
      "X_nbutane = 0.06;\n",
      "X_npentane = 0.06;\n",
      "#******#\n",
      "\n",
      "MoleFraction = [0.6, 0.2 ,0.08, 0.06 ,0.06]\n",
      "Heading = [\"Component\", \"Equilibrium Partial Pressure\", \"Vapour Pressue    \" ,\"Mole Fraction\"];\n",
      "Component = [\"Methane\", \"Ethane   \" ,\"Propane\" ,\"n-Butane\", \"n-Pentane\"];\n",
      "VapPressure = [0 ,42.05, 8.96, 2.36 ,0.66];# [N/square m]\n",
      "Sum = 0;\n",
      "\n",
      "print Heading[0],\"\\t \\t \\t \\t\",Heading[1],\"\\t \\t \\t \\t\",Heading[2],\"\\t \\t \\t \\t\",Heading[3],\"\\t \\n\"\n",
      "\n",
      "\n",
      "for i in range(0,5):\n",
      "    print \"\\n \",Component[i],\" \\t \\t \\t \\t \\t\",(\"{:.2e}\".format(MoleFraction[i]*P_star)),\"\\t \\t \\t \\t \\t \\t  \\t \\t \",(\"{:.2e}\".format(VapPressure[i]*10**(5))),\n",
      "    if  VapPressure[i]==0:\n",
      "        Sum = Sum+0;\n",
      "    else:\n",
      "        \n",
      "         print \"\\t \\t \\t \\t \\t \\t \\t \\t \\t \\t\",(\"{:.2e}\".format((MoleFraction[i]*P_star)/(VapPressure[i]*10**(5)))),\"\\t\",\n",
      "         Sum = Sum+(MoleFraction[i]*P_star)/(VapPressure[i]*10**(5))\n",
      "\n",
      "\n",
      "\n",
      "print\"\\n Mole Fraction Of solvent Oil is \",round(1-Sum,3)"
     ],
     "language": "python",
     "metadata": {},
     "outputs": [
      {
       "output_type": "stream",
       "stream": "stdout",
       "text": [
        "Illustration 8.1 -  Page: 278\n",
        "\n",
        "\n",
        "Component \t \t \t \tEquilibrium Partial Pressure \t \t \t \tVapour Pressue     \t \t \t \tMole Fraction \t \n",
        "\n",
        "\n",
        "  Methane  \t \t \t \t \t1.20e+05 \t \t \t \t \t \t  \t \t  0.00e+00 \n",
        "  Ethane     \t \t \t \t \t4.00e+04 \t \t \t \t \t \t  \t \t  4.20e+06 \t \t \t \t \t \t \t \t \t \t9.51e-03 \t\n",
        "  Propane  \t \t \t \t \t1.60e+04 \t \t \t \t \t \t  \t \t  8.96e+05 \t \t \t \t \t \t \t \t \t \t1.79e-02 \t\n",
        "  n-Butane  \t \t \t \t \t1.20e+04 \t \t \t \t \t \t  \t \t  2.36e+05 \t \t \t \t \t \t \t \t \t \t5.08e-02 \t\n",
        "  n-Pentane  \t \t \t \t \t1.20e+04 \t \t \t \t \t \t  \t \t  6.60e+04 \t \t \t \t \t \t \t \t \t \t1.82e-01 \t\n",
        " Mole Fraction Of solvent Oil is  0.74\n"
       ]
      }
     ],
     "prompt_number": 165
    },
    {
     "cell_type": "heading",
     "level": 2,
     "metadata": {},
     "source": [
      "Ex8.2: Page 286"
     ]
    },
    {
     "cell_type": "code",
     "collapsed": false,
     "input": [
      "\n",
      "\n",
      "# Illustration 8.2\n",
      "# Page: 286\n",
      "\n",
      "print'Illustration 8.2 - Page: 286\\n\\n'\n",
      "\n",
      "# solution\n",
      "from scipy.optimize import fsolve\n",
      "import numpy\n",
      "import matplotlib.pyplot as plt\n",
      "%matplotlib inline\n",
      "#****Data****#\n",
      "# Absorber:\n",
      "G = 0.250;# [cubic m/s]\n",
      "Temp1 = 273+26.0;# [K]\n",
      "Pt = 1.07*10**(5);# [N/square m]\n",
      "y1 = 0.02;\n",
      "x2 = 0.005;\n",
      "#******#\n",
      "\n",
      "G1 = G*(273.0/Temp1)*(Pt/(1.0133*10**(5)))*(1/22.41);# [kmol/s]\n",
      "Y1 = y1/(1-y1);# [kmol benzene/kmol dry gas]\n",
      "Gs = G1*(1.0-y1);# [kmol dry gas/s]\n",
      "# For 95% removal of benzene:\n",
      "Y2 = Y1*0.05;\n",
      "X2 = x2/(1.0-x2);# [kmol benzene/kmol oil]\n",
      "# Vapour pressure of benzene:\n",
      "\n",
      "P_star = 13330.0;# [N/square m]\n",
      "X_star = numpy.zeros(20);\n",
      "Y_star = numpy.zeros(20);\n",
      "j = -1;\n",
      "for i in range(1,21,1):\n",
      "    j = j+1;\n",
      "    x = i/100.0;\n",
      "    X_star[j] = i/100.0;\n",
      "    def  f27(y):\n",
      "        return (y/(1+y))-(P_star/Pt)*(x/(1+x))\n",
      "    Y_star[j] = fsolve(f27,0.0);\n",
      "\n",
      "# For min flow rate:\n",
      "X1 = 0.176;# [kmolbenzene/kmol oil]\n",
      "DataMinFlow = numpy.array([[X2, Y2],[X1, Y1]]);\n",
      "\n",
      "plt.plot(X_star,Y_star,label=\"Equlibrium Line\")\n",
      "plt.plot(DataMinFlow[:,0],DataMinFlow[:,1],label=\"Min Flow Rate Line\");\n",
      "minLs = (Gs*(Y1-Y2)/(X1-X2));# [kmol/s]\n",
      "# For 1.5 times the minimum:\n",
      "Ls = 1.5*minLs;# [kmol/s]\n",
      "X1_prime = (Gs*1.0*(Y1-Y2)/Ls)+X2;# [kmol benzene/kmol oil]\n",
      "DataOperLine = numpy.array([[X2 ,Y2],[X1_prime ,Y1]]);\n",
      "plt.plot(DataOperLine[:,0],DataOperLine[:,1],label=\"Operating Line\")\n",
      "plt.grid('on');\n",
      "xlabel(\"moles of benzene / mole wash oil\");\n",
      "ylabel(\"moles benzene / mole dry gas\");\n",
      "legend(loc='lower right');\n",
      "plt.title(\"Absorption\")\n",
      "plt.show()\n",
      "print\"The Oil circulation rate is \",(\"{:.2e}\".format(Ls)),\" kmol/s\\n\"\n",
      "\n",
      "# Stripping\n",
      "Temp2 = 122+273;# [K]\n",
      "# Vapour pressure at 122 OC\n",
      "P_star = 319.9;# [kN/square m]\n",
      "Pt = 101.33;# [kN/square m]\n",
      "X_star = numpy.zeros(7);\n",
      "Y_star = numpy.zeros(7);\n",
      "j = -1;\n",
      "for i in range(0,7,1):\n",
      "    j = j+1;\n",
      "    x = i/10.0;\n",
      "    X_star[j] = i/10.0;\n",
      "    def f28(y):\n",
      "            return (y/(1.0+y))-(P_star/Pt)*(x/(1.0+x))\n",
      "    Y_star[j] = fsolve(f28,0.0);\n",
      "\n",
      "X1 = X2;# [kmol benzene/kmol oil]\n",
      "X2 = X1_prime;# [kmol benzene/kmol oil]\n",
      "Y1 = 0.0;# [kmol benzene/kmol steam]\n",
      "# For min. steam rate:\n",
      "Y2 = 0.45;\n",
      "DataMinFlow =numpy.array([[X2 ,Y2],[X1 ,Y1]]);\n",
      "minGs = Ls*(X2-X1)/(Y2-Y1);# [kmol steam/s]\n",
      "slopeOperat = 1.5*(Y2-Y1)/(X2-X1);\n",
      "def f29(x):\n",
      "        return slopeOperat*(x-X1)+Y1\n",
      "x =numpy.arange(0,0.14,0.01)\n",
      "\n",
      "plt.plot(Y_star,X_star,label=\"Equlibrium Line\")\n",
      "plt.plot(DataMinFlow[:,0],DataMinFlow[:,1],label=\"Min Flow Rate Line\")\n",
      "plt.plot(x,f29(x),label=\"Operating Line\");\n",
      "plt.grid('on');\n",
      "xlabel(\"moles of benzene / mole wash oil\");\n",
      "ylabel(\"moles benzene / mole dry gas\");\n",
      "plt.legend(loc='lower left');\n",
      "plt.title(\"Stripping\");\n",
      "plt.show()\n",
      "print\"The Steam circulation rate is \",(\"{:.2e}\".format(1.5*minGs)),\" kmol/s\\n\"\n",
      "#the answers are slightly different in textbook due to approximation while here answers are precise"
     ],
     "language": "python",
     "metadata": {},
     "outputs": [
      {
       "output_type": "stream",
       "stream": "stdout",
       "text": [
        "Illustration 8.2 - Page: 286\n",
        "\n",
        "\n"
       ]
      },
      {
       "metadata": {},
       "output_type": "display_data",
       "png": "[encoded data removed]",
       "text": [
        "<matplotlib.figure.Figure at 0x7731ef0>"
       ]
      },
      {
       "output_type": "stream",
       "stream": "stdout",
       "text": [
        "The Oil circulation rate is  1.79e-03  kmol/s\n",
        "\n"
       ]
      },
      {
       "metadata": {},
       "output_type": "display_data",
       "png": "[encoded data removed]",
       "text": [
        "<matplotlib.figure.Figure at 0xa623ef0>"
       ]
      },
      {
       "output_type": "stream",
       "stream": "stdout",
       "text": [
        "The Steam circulation rate is  6.81e-04  kmol/s\n",
        "\n"
       ]
      }
     ],
     "prompt_number": 2
    },
    {
     "cell_type": "heading",
     "level": 2,
     "metadata": {},
     "source": [
      "Ex8.3: Page 292"
     ]
    },
    {
     "cell_type": "code",
     "collapsed": false,
     "input": [
      "\n",
      "\n",
      "# Illustration 8.3\n",
      "# Page: 292\n",
      "\n",
      "print'Illustration 8.3 - Page: 292\\n\\n'\n",
      "\n",
      "# solution\n",
      "\n",
      "import math\n",
      "# Since tower is a tray device:\n",
      "# Following changes in notation is made:\n",
      "# L1 to LNp\n",
      "# L2 to L0\n",
      "# X1 to XNp\n",
      "# X2 to X0\n",
      "# G1 to GNpPlus1\n",
      "# G2 to G1\n",
      "# Y1 to YNpPlus1\n",
      "# Y2 to Y1\n",
      "# x1 to xNp\n",
      "# x2 to x0\n",
      "# y1 to yNpPlus1\n",
      "# y2 to y1\n",
      "# From Illustration 8.2:\n",
      "yNpPlus1 = 0.02;\n",
      "Y1 = 0.00102;\n",
      "y1 = Y1/(1+Y1);\n",
      "GNpPlus1 = 0.01075;# [kmol/s]\n",
      "x0 = 0.005;\n",
      "m = 0.125;# [m = y_star/x]\n",
      "Ls = 1.787*10**(-3);# [kmol/s]\n",
      "Gs = 0.01051;# [kmol/s]\n",
      "XNp = 0.1190;\n",
      "LNp = Ls*(1+XNp);# [kmol/s]\n",
      "ANp = LNp/(m*GNpPlus1);\n",
      "X0 = x0/(1-x0);\n",
      "L0 = Ls*(1+X0);# [kmol/s]\n",
      "G1 = Gs*(1+Y1);# [kmol/s]\n",
      "A1 = L0/(m*G1);\n",
      "A = (ANp*A1)**0.5;\n",
      "# From Eqn. 5.55:\n",
      "Np = (math.log((yNpPlus1-(m*x0))/(y1-(m*x0))*(1-(1/A))+(1/A)))/math.log(A);\n",
      "print\"Absorber\\n\"\n",
      "print\"From Analytical Method, no. of theoretical trays required is  \\n\",round(Np,4)\n",
      "# From Fig. 8.13 (Pg292):\n",
      "Np = 7.6;\n",
      "print\"From Graphical Method, no. of theoretical trays required is \\n\",Np\n",
      "\n",
      "# Stripper\n",
      "SNp = 1/ANp;\n",
      "S1 = 1/A1;\n",
      "# Due to relative nonconstancy of the stripping factor,graphical method should be used.\n",
      "print\"Stripper\\n\"\n",
      "# From Fig. 8.11 (Pg 289):\n",
      "Np = 6.7;\n",
      "print\"From Graphical Method, no. of theoretical trays required is \\n\",Np\n",
      "# From Fig. 5.16 (Pg 129):\n",
      "Np = 6.0;\n",
      "print\"From Fig. 5.16, no. of theoretical trays required is \\n\",Np"
     ],
     "language": "python",
     "metadata": {},
     "outputs": [
      {
       "output_type": "stream",
       "stream": "stdout",
       "text": [
        "Illustration 8.3 - Page: 292\n",
        "\n",
        "\n",
        "Absorber\n",
        "\n",
        "From Analytical Method, no. of theoretical trays required is  \n",
        "7.7085\n",
        "From Graphical Method, no. of theoretical trays required is \n",
        "7.6\n",
        "Stripper\n",
        "\n",
        "From Graphical Method, no. of theoretical trays required is \n",
        "6.7\n",
        "From Fig. 5.16, no. of theoretical trays required is \n",
        "6.0\n"
       ]
      }
     ],
     "prompt_number": 102
    },
    {
     "cell_type": "heading",
     "level": 2,
     "metadata": {},
     "source": [
      "Ex8.4: Page 295"
     ]
    },
    {
     "cell_type": "code",
     "collapsed": false,
     "input": [
      "\n",
      "\n",
      "# Illustration 8.4\n",
      "# Page: 295\n",
      "\n",
      "print'Illustration 8.4 - Page: 295\\n\\n'\n",
      "\n",
      "# solution\n",
      "import math\n",
      "import numpy\n",
      "from scipy.optimize import fsolve\n",
      "import matplotlib.pyplot as plt\n",
      "%matplotlib inline\n",
      "#****Data****#\n",
      "# a = CH4 b = C5H12\n",
      "Tempg = 27.0;# [OC]\n",
      "Tempo = 0.0;# [base temp,OC]\n",
      "Templ = 35.0;# [OC]\n",
      "xa = 0.75;# [mole fraction of CH4 in gas]\n",
      "xb = 0.25;# [mole fraction of C5H12 in gas]\n",
      "M_Paraffin = 200.0;# [kg/kmol]\n",
      "hb = 1.884;# [kJ/kg K]\n",
      "#********#\n",
      "\n",
      "Ha = 35.59;# [kJ/kmol K]\n",
      "Hbv = 119.75;# [kJ/kmol K]\n",
      "Hbl = 117.53;# [kJ/kmol K]\n",
      "Lb = 27820;# [kJ/kmol]\n",
      "# M = [Temp (OC) m]\n",
      "M = numpy.array([[20 ,0.575],[25 ,0.69],[30 ,0.81],[35, 0.95],[40, 1.10],[43, 1.25]]);\n",
      "# Basis: Unit time\n",
      "GNpPlus1 = 1.0;# [kmol]\n",
      "yNpPlus1 = 0.25;# [kmol]\n",
      "HgNpPlus1 = ((1-yNpPlus1)*Ha*(Tempg-Tempo))+(yNpPlus1*(Hbv*(Tempg-Tempo)+Lb));# [kJ/kmol]\n",
      "L0 = 2.0;# [kmol]\n",
      "x0 = 0.0;# [kmol]\n",
      "HL0 = ((1-x0)*hb*M_Paraffin*(Templ-Tempo))+(x0*hb*(Templ-Tempo));# [kJ/kmol]\n",
      "C5H12_absorbed = 0.98*xb;# [kmol]\n",
      "C5H12_remained = xb-C5H12_absorbed;\n",
      "G1 = xa+C5H12_remained;# [kmol]\n",
      "y1 = C5H12_remained/G1;# [kmol]\n",
      "LNp = L0+C5H12_absorbed;# [kmol]\n",
      "xNp = C5H12_absorbed/LNp;# [kmol]\n",
      "# Assume:\n",
      "Temp1 = 35.6;# [OC]\n",
      "Hg1 = ((1-y1)*Ha*(Temp1-Tempo))+(y1*(Hbv*(Temp1-Tempo)+Lb));# [kJ/kmol]\n",
      "\n",
      "# Eqn. 8.11:\n",
      "Qt = 0;\n",
      "def f30(HlNp):\n",
      "    return ((L0*HL0)+(GNpPlus1*HgNpPlus1))-((LNp*HlNp)+(G1*Hg1)+Qt)\n",
      "HlNp = fsolve(f30,2);\n",
      "\n",
      "def f31(TempNp):\n",
      "    return HlNp-(((1-x0)*hb*M_Paraffin*(TempNp-Tempo))+(x0*hb*(TempNp-Tempo)))\n",
      "TempNp = fsolve(f31,35.6);\n",
      "# At Temp = TempNp:\n",
      "mNp = 1.21;\n",
      "yNp = mNp*xNp;# [kmol]\n",
      "GNp = G1/(1-yNp);# [kmol]\n",
      "HgNp = ((1-yNp)*Ha*(TempNp-Tempo))+(yNp*(Hbv*(TempNp-Tempo)+Lb));# [kJ/kmol]\n",
      "# Eqn. 8.13 with n = Np-1\n",
      "def f32(LNpMinus1):\n",
      "    return LNpMinus1+GNpPlus1-(LNp+GNp)\n",
      "LNpMinus1 = fsolve(f32,2);# [kmol]\n",
      "\n",
      "# Eqn. 8.14 with n = Np-1\n",
      "def f33(xNpMinus1):\n",
      "    return ((LNpMinus1*xNpMinus1)+(GNpPlus1*yNpPlus1))-((LNp*xNp)+(GNp*yNp))\n",
      "xNpMinus1 = fsolve(f33,0);# [kmol]\n",
      "\n",
      "# Eqn. 8.15 with n = Np-1\n",
      "def  f34(HlNpMinus1):\n",
      "    return ((LNpMinus1*HlNpMinus1)+(GNpPlus1*HgNpPlus1))-((LNp*HlNp)+(GNp*HgNp))\n",
      "HlNpMinus1 = fsolve(f34,0);# [kJ/kmol]\n",
      "def f35(TempNpMinus1):\n",
      "    return HlNpMinus1-(((1-xNpMinus1)*hb*M_Paraffin*(TempNpMinus1-Tempo))+(xNpMinus1*hb*(TempNpMinus1-Tempo)))\n",
      "TempNpMinus1 = fsolve(f35,42);# [OC]\n",
      "\n",
      "# The computation are continued upward through the tower in this manner until the gas composition falls atleast to 0.00662.\n",
      "# Results = [Tray No.(n) Tn(OC) xn yn]\n",
      "Results = numpy.array([[4.0 ,42.3 ,0.1091 ,0.1320],[3 ,39.0, 0.0521 ,0.0568],[2 ,36.8 ,0.0184 ,0.01875],[1 ,35.5, 0.00463 ,0.00450]]);\n",
      "\n",
      "plt.plot(Results[:,0],Results[:,3]);\n",
      "plt.grid('on');\n",
      "xlabel('Tray Number');\n",
      "ylabel('mole fraction of C5H12 in gas');\n",
      "plt.show();\n",
      "plt.plot(Results[:,0],Results[:,1]);\n",
      "plt.grid('on');\n",
      "xlabel('Tray Number');\n",
      "ylabel('Temperature(OC)');\n",
      "plt.show();\n",
      "\n",
      "# For the required y1\n",
      "Np = 3.75;\n",
      "print\"The No. of trays will be \",Np"
     ],
     "language": "python",
     "metadata": {},
     "outputs": [
      {
       "output_type": "stream",
       "stream": "stdout",
       "text": [
        "Illustration 8.4 - Page: 295\n",
        "\n",
        "\n"
       ]
      },
      {
       "metadata": {},
       "output_type": "display_data",
       "png": "[encoded data removed]",
       "text": [
        "<matplotlib.figure.Figure at 0xa5b6320>"
       ]
      },
      {
       "metadata": {},
       "output_type": "display_data",
       "png": "[encoded data removed]",
       "text": [
        "<matplotlib.figure.Figure at 0x785c198>"
       ]
      },
      {
       "output_type": "stream",
       "stream": "stdout",
       "text": [
        "The No. of trays will be  3.75\n"
       ]
      }
     ],
     "prompt_number": 3
    },
    {
     "cell_type": "heading",
     "level": 2,
     "metadata": {},
     "source": [
      "Ex8.5: Page 299"
     ]
    },
    {
     "cell_type": "code",
     "collapsed": false,
     "input": [
      "\n",
      "\n",
      "# Illustration 8.5\n",
      "# Page: 299\n",
      "\n",
      "print'Illustration 8.5 - Page: 299\\n\\n'\n",
      "\n",
      "# solution\n",
      "\n",
      "import math\n",
      "import numpy\n",
      "from scipy.optimize import fsolve\n",
      "#****Data****#\n",
      "# a = NH3 b = H2 c = N2 w = water\n",
      "P = 2.0;# [bars]\n",
      "Temp = 30.0;# [OC]\n",
      "L = 6.38;# [kg/s]\n",
      "W = 0.53;# [weir length,m]\n",
      "pitch = 12.5/1000;# [m]\n",
      "D = 0.75;# [Tower diameter,m]\n",
      "hW = 0.060;# [weir height,m]\n",
      "t = 0.5;# [tray spacing,m]\n",
      "#*******#\n",
      "\n",
      "# From Geometry of Tray Arrangement:\n",
      "At = 0.4418;# [Tower Cross section,square m]\n",
      "Ad = 0.0403;# [Downspout Cross section,square m]\n",
      "An = At-Ad;# [square m]\n",
      "Ao = 0.0393;# [perforation area,square m]\n",
      "Z = 0.5307;# [distance between downspouts,square m]\n",
      "z = (D+W)/2.0;# [average flow width,m]\n",
      "h1 = 0.04;# [weir crest,m]\n",
      "# From Eqn. 6.34\n",
      "Weff = W*(math.sqrt(((D/W)**2)-((((D/W)**2-1)**0.5)+((2*h1/D)*(D/W)))**2));# [m]\n",
      "q = Weff*(1.839*h1**(3/2));#[cubic m/s]\n",
      "# This is a recommended rate because it produces the liquid depth on the tray to 10 cm.\n",
      "Density_L = 996;# [kg/s]\n",
      "Mw = 18.02;# [kg/kmol]\n",
      "L1 = 6.38/Mw;# [kmol/s]\n",
      "Ma = 17.03;# [kg/kmol]\n",
      "Mb = 28.02;# [kg/kmol]\n",
      "Mc = 2.02;# [kg/kmol]\n",
      "MavG = (0.03*Ma)+(0.97*(1/4)*Mb)+(0.97*(3/4)*Mc);# [kg/kmol]\n",
      "Density_G = (MavG/22.41)*(P/0.986)*(273/(273+Temp));# [kg/cubic m]\n",
      "G = 0.893;# [kg/s]\n",
      "sigma = 68*10**(-3);# [N/m]\n",
      "abcissa = (L/G)*(Density_G/Density_L)**0.5;\n",
      "# From Table 6.2 (Pg169):\n",
      "alpha = 0.04893;\n",
      "beeta = 0.0302;\n",
      "# From Eqn. 6.30\n",
      "Cf = ((alpha*math.log10(1.0/abcissa))+beeta)*(sigma/0.02)**0.2;\n",
      "# From Eqn. 6.29\n",
      "Vf = Cf*((Density_L-Density_G)/Density_G)**(1.0/2);# [m/s]\n",
      "# 80% of flooding value:\n",
      "V = 0.8*Vf;# [m/s]\n",
      "G = 0.8*G;# [kg/s]\n",
      "G1 = G/MavG;# [kmol/s]\n",
      "Vo = V*An/Ao;# [m/s]\n",
      "l = 0.002;# [m]\n",
      "Do = 0.00475;# [m]\n",
      "# From Eqn. 6.37\n",
      "Co = 1.09*(Do/l)**0.25;\n",
      "viscosity_G = 1.13*10**(-5);# [kg/m.s]\n",
      "Reo = Do*Vo*Density_G/viscosity_G;\n",
      "# At Reynold's No. = Reo\n",
      "fr = 0.0082;\n",
      "g = 9.81;# [m/s^2]\n",
      "# From Eqn. 6.36\n",
      "def f36(hD):\n",
      "    return (2*hD*g*Density_L/(Vo**2*Density_G))-(Co*(0.40*(1.25-(Ao/An))+(4*l*fr/Do)+(1-(Ao/An))**2))\n",
      "hD = fsolve(f36,1);\n",
      "# From Eqn. 6.31;\n",
      "Aa = (Ao/0.907)*(pitch/Do)**2;# [square m]\n",
      "Va = V*An/Aa;# [m/s]\n",
      "# From Eqn. 6.38\n",
      "hL = 6.10*10**(-3)+(0.725*hW)-(0.238*hW*Va*(Density_G)**0.5)+(1.225*q/z);# [m]\n",
      "# From Eqn. 6.42\n",
      "hR = 6*sigma/(Density_L*Do*g);# m\n",
      "# From Eqn. 6.35\n",
      "hG = hD+hL+hR;# [m]\n",
      "Al = 0.025*W;# [square m]\n",
      "Ada = min(Al,Ad);\n",
      "# From Eqn. 6.43\n",
      "h2 = (3/(2*g))*(q/Ada)**2;# [m]\n",
      "# From Eqn.6.44\n",
      "h3 = hG+h2;\n",
      "# since hW+h1+h3 is essentially equal to t/2, flooding will not occur\n",
      "abcissa = (L/G)*(Density_G/Density_L)**0.5;\n",
      "V_by_Vf = V/Vf;\n",
      "# From Fig.6.17, V/Vf = 0.8 & abcissa = 0.239\n",
      "E = 0.009;\n",
      "\n",
      "# At the prevailing conditions:\n",
      "Dg = 2.296*10**(-5);# [square m/s]\n",
      "viscosity_G = 1.122*10**(-5);# [kg/m.s]\n",
      "ScG = viscosity_G/(Density_G*Dg)\n",
      "Dl = 2.421*10**(-9);# [square m/s]\n",
      "\n",
      "# From Henry's Law:\n",
      "m = 0.850;\n",
      "A = L1/(m*G1);\n",
      "\n",
      "# From Eqn. 6.61:\n",
      "NtG = (0.776+(4.57*hW)-(0.238*Va*Density_G**0.5)+(104.6*q/Z))/(ScG**0.5);\n",
      "# From Eqn. 6.64:\n",
      "thetha_L = hL*z*Z/q;# [s]\n",
      "# From Eqn. 6.62:\n",
      "NtL = 40000*(Dl**0.5)*((0.213*Va*Density_G**0.5)+0.15)*thetha_L;\n",
      "# From Eqn. 6.52:\n",
      "NtoG = 1/((1/NtG)+(1/(A*NtL)));\n",
      "# From Eqn. 6.51:\n",
      "EoG = 1-math.exp(-NtoG);\n",
      "# From Eqn. 6.63:\n",
      "DE = ((3.93*10**(-3))+(0.0171*Va)+(3.67*q/Z)+(0.1800*hW))**2;# [square m/s]\n",
      "# From Eqn. 6.59:\n",
      "Pe = Z**2/(DE*thetha_L);\n",
      "# From Eqn. 6.58:\n",
      "eta = (Pe/2.0)*((1+(4*m*G1*EoG/(L1*Pe)))**0.5-1);\n",
      "# From Eqn. 6.57:\n",
      "EMG = EoG*(((1-math.exp(-(eta+Pe)))/((eta+Pe)*(1+(eta+Pe)/eta)))+((exp(eta)-1)/(eta*(1+(eta/(eta+Pe))))));\n",
      "# From Eqn. 6.60:\n",
      "EMGE = EMG/((1+(EMG*(E/(1-E)))));\n",
      "# From Eqn. 8.16:\n",
      "EO = math.log(1+EMGE*((1.0/A)-1))/math.log(1.0/A);\n",
      "Np = 14*EO;\n",
      "yNpPlus1 = 0.03;\n",
      "x0 = 0;\n",
      "# From Eqn. 5.54(a):\n",
      "def f37(y1):\n",
      "    return ((yNpPlus1-y1)/(yNpPlus1-m*x0))-(((A**(Np+1))-A)/((A**(Np+1))-1))\n",
      "y1 = fsolve(f37,0.03);\n",
      "print\"Mole Fraction Of NH3 in effluent is \",round(y1,4)"
     ],
     "language": "python",
     "metadata": {},
     "outputs": [
      {
       "output_type": "stream",
       "stream": "stdout",
       "text": [
        "Illustration 8.5 - Page: 299\n",
        "\n",
        "\n",
        "Mole Fraction Of NH3 in effluent is  0.0211\n"
       ]
      }
     ],
     "prompt_number": 159
    },
    {
     "cell_type": "heading",
     "level": 2,
     "metadata": {},
     "source": [
      "Ex8.6: Page 304"
     ]
    },
    {
     "cell_type": "code",
     "collapsed": false,
     "input": [
      "\n",
      "\n",
      "# Illustration 8.6\n",
      "# Page: 304\n",
      "\n",
      "print'Illustration 8.6 - Page: 304\\n\\n'\n",
      "\n",
      "# solution\n",
      "\n",
      "import matplotlib.pyplot as plt\n",
      "%matplotlib inline\n",
      "import numpy\n",
      "from scipy.optimize import fsolve\n",
      "import math\n",
      "#****Data****# \n",
      "# Gas:\n",
      "# In:\n",
      "y_prime1 = 0.02;\n",
      "Y_prime1 = 0.0204;# [mol/mol dry gas]\n",
      "# Out:\n",
      "y_prime2 = 0.00102;\n",
      "Y_prime2 = 0.00102;# [mol/mol dry gas]\n",
      "# Non absorbed gas:\n",
      "MavG = 11;# [kg/kmol]\n",
      "G = 0.01051;# [kmol/s nonbenzene]\n",
      "Gm = 0.01075;# [kmol/s]\n",
      "T = 26;# [OC]\n",
      "viscosity_G = 10**(-5);# [kg/m.s]\n",
      "DaG = 1.30*10**(-5);# [square m/s]\n",
      "\n",
      "# Liquid:\n",
      "# In:\n",
      "x_prime2 = 0.005;\n",
      "X_prime2 = 0.00503;# [mol benzene/mol oil]\n",
      "# Out:\n",
      "x_prime1 = 0.1063;\n",
      "X_prime1 = 0.1190;# [mol benzene/mol oil]\n",
      "# Benzene free oil:\n",
      "MavL = 260.0;# [kg/kmol]\n",
      "viscosity_L = 2*10**(-3);# [kg/kmol]\n",
      "Density_L = 840;# [kg/cubic cm]\n",
      "L = 1.787*10**(-3);# [kmol/s]\n",
      "DaL = 4.77*10**(-10);# [square m/s]\n",
      "sigma = 0.03;# [N/square m]\n",
      "m = 0.1250;\n",
      "#*******#\n",
      "\n",
      "A = 0.47**2*math.pi/4;# [square m]\n",
      "# At the bottom:\n",
      "L_prime1 = ((L*MavL)+(X_prime1*L*78))/A;# [kg/square m.s]\n",
      "# At the top\n",
      "L_prime2 = ((L*MavL)+(X_prime2*L*78))/A;# [kg/square m.s]\n",
      "L_primeav = (L_prime1+L_prime2)/2;# [kg/square m.s]\n",
      "# At the bottom\n",
      "G_prime1 = ((G*MavG)+(Y_prime1*G*78))/A;# [kg/square m.s]\n",
      "# At the top\n",
      "G_prime2 = ((G*MavG)+(Y_prime2*G*78))/A;# [kg/square m.s]\n",
      "G_primeav = (G_prime1+G_prime2)/2;# [kg/square m.s]\n",
      "\n",
      "# From Illustration 6.6:\n",
      "Fga = 0.0719;# [kmol/cubic cm.s]\n",
      "Fla = 0.01377;# [kmol/cubic cm.s]\n",
      "# Operating Line:\n",
      "X_prime = numpy.array([0.00503 ,0.02 ,0.04 ,0.06 ,0.08 ,0.10 ,0.1190]);\n",
      "x_prime = numpy.zeros(7);\n",
      "Y_prime = numpy.zeros(7);\n",
      "y_prime = numpy.zeros(7);\n",
      "for i in range(0,7):\n",
      "    x_prime[i] = X_prime[i]/(1+X_prime[i]);\n",
      "    def f38(Y_prime):\n",
      "        return (G*(Y_prime1-Y_prime))-(L*(X_prime1-X_prime[i]))\n",
      "    Y_prime[i] = fsolve(f38,Y_prime1);\n",
      "    y_prime[i] = (Y_prime[i])/(1+Y_prime[i]);\n",
      "\n",
      "def f39(x):\n",
      "    return m*x\n",
      "x = numpy.arange(0,0.14,0.01);\n",
      "\n",
      "# Interface compositions are determined graphically and according to Eqn. 8.21:\n",
      "yi = [0.000784, 0.00285, 0.00562 ,0.00830 ,0.01090 ,0.01337 ,0.01580];\n",
      "ylog = zeros(7);\n",
      "y_by_yDiffyi = zeros(7);\n",
      "for i in range(0,7):\n",
      "    ylog[i] = math.log10(yi[i]);\n",
      "    y_by_yDiffyi[i] = y_prime[i]/(y_prime[i]-yi[i]);\n",
      "\n",
      "plt.plot(x_prime,y_prime,label=\"Operating Line\")\n",
      "plt.plot(x,f39(x),label=\"Equilibrium Line\")\n",
      "plt.plot(x_prime,yi,label=\"Interface Composition\");\n",
      "plt.legend(loc='lower right');\n",
      "plt.grid('on');\n",
      "xlabel(\"mole fraction of benzene in liquid\");\n",
      "ylabel(\"mole fraction of benzene in gas\");\n",
      "plt.show()\n",
      "plt.plot(ylog,y_by_yDiffyi);\n",
      "plt.grid();\n",
      "xlabel(\"log y\");\n",
      "ylabel(\"y/(y-yi)\");\n",
      "title(\"Graphical Integration Curve\");\n",
      "plt.show()\n",
      "# Area under the curve:\n",
      "Ac = 6.556;\n",
      "# Eqn. 8.28:\n",
      "NtG = (2.303*Ac)+1.152*(math.log10((1-y_prime2)/(1-y_prime1)));\n",
      "Gav = (Gm+(G/(1-Y_prime2)))/(2*A);# [kmol/square m.s]\n",
      "HtG = Gav/Fga;# [m]\n",
      "Z = HtG*NtG;# [m]\n",
      "print\"The depth of packing required is \",round(Z,3),\" m\""
     ],
     "language": "python",
     "metadata": {},
     "outputs": [
      {
       "output_type": "stream",
       "stream": "stdout",
       "text": [
        "Illustration 8.6 - Page: 304\n",
        "\n",
        "\n"
       ]
      },
      {
       "metadata": {},
       "output_type": "display_data",
       "png": "[encoded data removed]",
       "text": [
        "<matplotlib.figure.Figure at 0xa5b66a0>"
       ]
      },
      {
       "metadata": {},
       "output_type": "display_data",
       "png": "[encoded data removed]",
       "text": [
        "<matplotlib.figure.Figure at 0xa5852b0>"
       ]
      },
      {
       "output_type": "stream",
       "stream": "stdout",
       "text": [
        "The depth of packing required is  12.881  m\n"
       ]
      }
     ],
     "prompt_number": 4
    },
    {
     "cell_type": "heading",
     "level": 2,
     "metadata": {},
     "source": [
      "Ex8.7: Page 312"
     ]
    },
    {
     "cell_type": "code",
     "collapsed": false,
     "input": [
      "\n",
      "\n",
      "# Illustration 8.7\n",
      "# Page: 312\n",
      "\n",
      "print'Illustration 8.7 - Page: 312\\n\\n'\n",
      "\n",
      "# solution\n",
      "\n",
      "import math\n",
      "import matplotlib.pyplot as plt\n",
      "%matplotlib inline\n",
      "import numpy\n",
      "from scipy.optimize import fsolve\n",
      "# Fom Illustration 8.6:\n",
      "y1 = 0.02;\n",
      "y2 = 0.00102;\n",
      "m = 0.125;\n",
      "x2 = 0.005;\n",
      "x1 = 0.1063;\n",
      "\n",
      "# Number of transfer units:\n",
      "# Method a:\n",
      "y1_star = m*x1;\n",
      "y2_star = m*x2;\n",
      "yDiffy_star1 = y1-y1_star;\n",
      "yDiffy_star2 = y2-y2_star;\n",
      "yDiffy_starm = (yDiffy_star1-yDiffy_star2)/math.log(yDiffy_star1/yDiffy_star2);\n",
      "# From Eqn. 8.48:\n",
      "NtoG = (y1-y2)/yDiffy_starm;\n",
      "print\"NtoG according to Eqn. 8.48:\",round(NtoG,2),\"\\n\"\n",
      "\n",
      "# Mehod b:\n",
      "# From Illustration 8.3:\n",
      "A = 1.424;\n",
      "NtoG = (math.log((((y1-(m*x2))/(y2-(m*x2)))*(1-(1/A)))+(1/A)))/(1-(1/A));\n",
      "print\"NtoG according to Eqn. 8.50:\",round(NtoG,2),\"\\n\"\n",
      "\n",
      "# Method c:\n",
      "# Operating Line:\n",
      "# From Illustration 8.3:\n",
      "X_prime = [0.00503, 0.02, 0.04 ,0.06 ,0.08 ,0.10 ,0.1190];\n",
      "x_prime = [0.00502 ,0.01961, 0.0385, 0.0566, 0.0741, 0.0909 ,0.1063]\n",
      "Y_prime = [0.00102 ,0.00357 ,0.00697 ,0.01036 ,0.01376 ,0.01714 ,0.0204];\n",
      "y_prime = [0.00102 ,0.00356, 0.00692 ,0.01025 ,0.01356 ,0.01685, 0.0200];\n",
      "def f2(x):\n",
      "    return  m*x\n",
      "x = numpy.arange(0,0.14,0.01);\n",
      "\n",
      "plt.plot(x_prime,y_prime,label=\"Operating Line\")\n",
      "plt.plot(x,f2(x),label=\"Equilibrium Line\");\n",
      "plt.legend(loc='upper right');\n",
      "plt.grid('on');\n",
      "xlabel(\"mole fraction of benzene in liquid\");\n",
      "ylabel(\"mole fraction of benzene in gas\");\n",
      "plt.show()\n",
      "# From graph:\n",
      "NtoG = 8.7;\n",
      "print\"NtoG from graph:\",round(NtoG,2),\" \\n\",\n",
      "\n",
      "# Method d:\n",
      "# from Fig 8.10:\n",
      "Y_star = [0.000625, 0.00245, 0.00483, 0.00712 ,0.00935 ,0.01149, 0.01347];\n",
      "ordinate = numpy.zeros(7);\n",
      "for i in range(0,7):\n",
      "    ordinate[i] = 1/(Y_prime[i]-Y_star[i]);\n",
      "\n",
      "plt.plot(Y_prime,ordinate);\n",
      "plt.grid('on');\n",
      "xlabel(\"Y\");\n",
      "ylabel(\"1/(Y-Y*)\");\n",
      "plt.title(\"Graphical Integration\");\n",
      "plt.show()\n",
      "# Area under the curve:\n",
      "Ac = 8.63;\n",
      "# From Eqn. 8.36:\n",
      "NtoG = Ac+(1.0/2)*math.log((1+y2)/(1+y1));\n",
      "print\"NtoG from graphical integration:\",round(NtoG,2),\"\\n\"\n",
      "\n",
      "# Height of transfer units:\n",
      "NtoG = 9.16;\n",
      "# From Illustration 6.6:\n",
      "Fga = 0.0719;# [kmol/cubic m.s]\n",
      "Fla = 0.01377;# [kmol/cubic m.s]\n",
      "Gav = 0.0609;# [kmol/square m.s]\n",
      "L = 1.787*10**(-3);# [kmol/s]\n",
      "X1 = x1/(1-x1);\n",
      "X2 = x2/(1-x2);\n",
      "Area = 0.1746;# [square m]\n",
      "Lav = L*((1+X1)+(1+X2))/(2*Area);\n",
      "# From Eqn. 8.24:\n",
      "Htg = Gav/Fga;# [m]\n",
      "# From Eqn. 8.31:\n",
      "Htl = Lav/Fla;# [m]\n",
      "# since Solutions are dilute:\n",
      "HtoG = Htg+Htl/A;# [m]\n",
      "print\"HtoG: \",round(HtoG,2),\" m\\n\",\n",
      "Z = HtoG*NtoG;# [m]\n",
      "print\"The depth of packing recquired is \",round(Z,2),\" m\""
     ],
     "language": "python",
     "metadata": {},
     "outputs": [
      {
       "output_type": "stream",
       "stream": "stdout",
       "text": [
        "Illustration 8.7 - Page: 312\n",
        "\n",
        "\n",
        "NtoG according to Eqn. 8.48: 8.51 \n",
        "\n",
        "NtoG according to Eqn. 8.50: 9.16 \n",
        "\n"
       ]
      },
      {
       "metadata": {},
       "output_type": "display_data",
       "png": "[encoded data removed]",
       "text": [
        "<matplotlib.figure.Figure at 0xa595d68>"
       ]
      },
      {
       "output_type": "stream",
       "stream": "stdout",
       "text": [
        "NtoG from graph: 8.7  \n"
       ]
      },
      {
       "metadata": {},
       "output_type": "display_data",
       "png": "[encoded data removed]",
       "text": [
        "<matplotlib.figure.Figure at 0x785fc18>"
       ]
      },
      {
       "output_type": "stream",
       "stream": "stdout",
       "text": [
        "NtoG from graphical integration: 8.62 \n",
        "\n",
        "HtoG:  1.4  m\n",
        "The depth of packing recquired is  12.84  m\n"
       ]
      }
     ],
     "prompt_number": 5
    },
    {
     "cell_type": "heading",
     "level": 2,
     "metadata": {},
     "source": [
      "Ex8.8: Page 317"
     ]
    },
    {
     "cell_type": "code",
     "collapsed": false,
     "input": [
      "\n",
      "\n",
      "# Illustration 8.8\n",
      "# Page: 317\n",
      "\n",
      "print'Illustration 8.8 - Page: 317\\n\\n'\n",
      "\n",
      "# Solution\n",
      "\n",
      "import math\n",
      "import matplotlib.pyplot as plt\n",
      "%matplotlib inline\n",
      "import numpy\n",
      "from scipy.optimize import fsolve\n",
      "\n",
      "#***Data***\n",
      "# a:NH3 b:air c:H2O\n",
      "ya = 0.416;# [mole fraction]\n",
      "yb = 0.584;# [mole fraction]\n",
      "G1 = 0.0339;# [kmol/square m.s]\n",
      "L1 = 0.271;# [kmol/square m.s]\n",
      "TempG1 = 20;# [OC]\n",
      "#********#\n",
      "\n",
      "# At 20 OC\n",
      "Ca = 36390;# [J/kmol]\n",
      "Cb = 29100;# [J/kmol]\n",
      "Cc = 33960;# [J/kmol]\n",
      "lambda_c = 44.24*10**6;# [J/kmol]\n",
      "# Enthalpy base = NH3 gas, H2O liquid, air at 1 std atm.\n",
      "Tempo = 20;# [OC]\n",
      "lambda_Ao = 0;# [J/kmol]\n",
      "lambda_Co = 44.24*10**6;# [J/kmol]\n",
      "\n",
      "# Gas in:\n",
      "Gb = G1*yb;# [kmol air/square m.s]\n",
      "Ya1 = ya/(1-ya);# [kmol NH3/kmol air]\n",
      "yc1 = 0;# [mole fraction]\n",
      "Yc1 = yc1/(1-yc1);# [kmol air/kmol NH]\n",
      "# By Eqn 8.58:\n",
      "Hg1 = (Cb*(TempG1-Tempo))+(Ya1*(Ca*(TempG1-Tempo))+lambda_Ao)+(Yc1*(Cc*(TempG1-Tempo)+lambda_Co));# [J/kmol air]\n",
      "\n",
      "# Liquid in:\n",
      "xa1 = 0;# [mole fraction]\n",
      "xc1 = 1;# [mole fraction]\n",
      "Hl1 = 0;# [J/kmol air]\n",
      "\n",
      "#Gas out:\n",
      "Ya2 = Ya1*(1-0.99);# [kmol NH3/kmol air]\n",
      "# Assume:\n",
      "TempG2 = 23.9;# [OC]\n",
      "yc2 = 0.0293;\n",
      "def  f(Yc2):\n",
      "    return  yc2-(Yc2/(Yc2+Ya2+1))\n",
      "Yc2 = fsolve(f,0.002);# [kmol H2O/kmol air]\n",
      "Hg2 = (Cb*(TempG2-Tempo))+(Ya2*(Ca*(TempG2-Tempo))+lambda_Ao)+(Yc2*(Cc*(TempG2-Tempo)+lambda_Co));# [J/kmol air]\n",
      "\n",
      "# Liquid out:\n",
      "Lc = L1-(Yc1*Gb);# [kmol/square m.s]\n",
      "La = Gb*(Ya1-Ya2);# [kmol/square m.s]\n",
      "L2 = La+Lc;# [kmol/square m.s]\n",
      "xa = La/L2;\n",
      "xc = Lc/L2;\n",
      "# At xa & tempo = 20 OC\n",
      "delta_Hs = -1709.6*1000;# [J/kmol soln]\n",
      "\n",
      "# Condition at the bottom of the tower:\n",
      "# Assume:\n",
      "TempL = 41.3;# {OC}\n",
      "# At(TempL+TempG1)/2:\n",
      "Cl = 75481.0;# [J/kmol]\n",
      "def f40(Cl):\n",
      "    return  Hl1+Hg1-((Gb*Hg2)+(L2*(Cl*(TempL-Tempo)+delta_Hs)))\n",
      "Cl = fsolve(f40,7);# [J/kmol.K]\n",
      "\n",
      "# For the Gas:\n",
      "MavG = 24.02;# [kg/kmol]\n",
      "Density_G = 0.999;# [kg/cubic m]\n",
      "viscosity_G  =  1.517*10**(-5);# [kg/m.s]\n",
      "kG  =  0.0261;# [W/m.K]\n",
      "CpG  =  1336;# [J/kg.K]\n",
      "Dab  =  2.297*10**(-5);# [square m/s]\n",
      "Dac  =  3.084*10**(-5);# [square m/s]\n",
      "Dcb  =  2.488*10**(-5);# [square m/s]\n",
      "PrG  =  CpG*viscosity_G/kG;\n",
      "\n",
      "# For the liquid:\n",
      "MavL  =  17.97;# [kg/kmol]\n",
      "Density_L  =  953.1;# [kg/cubic m]\n",
      "viscosity_L  =  6.408*10**(-4);# [kg/m.s]\n",
      "Dal  =  3.317*10**(-9);# [square m/s]\n",
      "kl = 0.4777;# [W/m.K]\n",
      "ScL = viscosity_L/(Density_L*Dal);\n",
      "PrL = 5.72;\n",
      "sigma = 3*10**(-4);\n",
      "G_prime = G1*MavG;# [kg/square m.s]\n",
      "L_prime = L2*MavL;# [kg/square m.s]\n",
      "# From data of Chapter 6:\n",
      "Ds = 0.0472;# [m]\n",
      "a = 57.57;# [square m/cubic m]\n",
      "shiLt = 0.054;\n",
      "e = 0.75;\n",
      "# By Eqn. 6.71:\n",
      "eLo = e-shiLt;\n",
      "# By Eqn. 6.72:\n",
      "kL = (25.1*Dal/Ds)*(Ds*L_prime/viscosity_L)**0.45*ScL**0.5;# [m/s]\n",
      "c = Density_L/MavL;# [kmol/cubic m]\n",
      "Fl = kL*c;# [kmol/cubic m]\n",
      "# The heat mass transfer analogy of Eqn. 6.72:\n",
      "hL = (25.1*kl/Ds)*(Ds*L_prime/viscosity_L)**0.45*PrL**0.5;# [m/s]\n",
      "# The heat transfer analogy of Eqn. 6.69:\n",
      "hG = (1.195*G_prime*CpG/PrG**(2/3))*(Ds*G_prime/(viscosity_G*(1-eLo)))**(-0.36);# [W/square m.K]\n",
      "# To obtain the mass transfer coeffecients:\n",
      "Ra = 1.4;\n",
      "Rc = 1-Ra;\n",
      "# From Eqn. 8.83:\n",
      "Dam = (Ra-ya)/(Ra*((yb/Dab)+((ya+yc1)/Dac))-(ya/Dac));# [square m/s]\n",
      "Dcm = (Rc-yc1)/(Rc*((yb/Dcb)+((ya+yc1)/Dac))-(yc1/Dac));# [square m/s]\n",
      "ScGa = viscosity_G/(Density_G*Dam);\n",
      "ScGc = viscosity_G/(Density_G*Dcm);\n",
      "# By Eqn. 6.69:\n",
      "FGa = (1.195*G1/ScGa**(2/3))*(Ds*G_prime/(viscosity_G*(1-eLo)))**(-0.36);# [kmol/square m.K]\n",
      "FGc = (1.195*G1/ScGc**(2/3))*(Ds*G_prime/(viscosity_G*(1-eLo)))**(-0.36);# [kmol/square m.K]\n",
      "Ra = Ra-0.1;\n",
      "# From Eqn. 8.80:\n",
      "\n",
      "for i in range(0,3):\n",
      "    def f41(xai):\n",
      "        return Ra-(Ra-ya)*((Ra-xa)/(Ra-xai))**(Fl/FGa)\n",
      "    xai = numpy.arange(xa,0.10,0.01)\n",
      "    plt.plot(xai,f41(xai))\n",
      "    Ra = Ra+0.1;\n",
      "\n",
      "plt.grid('on');\n",
      "xlabel(\"Mole fraction NH3 in the liquid, xa\");\n",
      "ylabel(\"Mole fraction NH3 in the gas ya\");\n",
      "title(\"Operating Line curves\");\n",
      "plt.show()\n",
      "Rc = Rc-0.1;\n",
      "# From Eqn. 8.81:\n",
      "\n",
      "for i  in range(0,3):\n",
      "    def f42(xci):\n",
      "        return Rc-(Rc-yc1)*((Rc-xc)/(Rc-xci))**(Fl/FGc)\n",
      "    xci = numpy.arange(xc,0.85,-0.01);\n",
      "    plot(xci,f42(xci))\n",
      "    Rc = Rc+0.1;\n",
      "\n",
      "plt.grid('on');\n",
      "xlabel(\"Mole fraction H2O in the liquid, xc\");\n",
      "ylabel(\"Mole fraction H2O in the gas, yc\");\n",
      "title(\"Operating line Curves\");\n",
      "plt.show()\n",
      "# Assume:\n",
      "Tempi = 42.7;# [OC]\n",
      "# The data of Fig. 8.2 (Pg 279) & Fig 8.4 (Pg 319) are used to draw the eqb curve of Fig 8.25 (Pg 320).\n",
      "# By interpolation of operating line curves with eqb line and the condition: xai+xci = 1;\n",
      "Ra = 1.38;\n",
      "Rc = 1-Ra;\n",
      "xai = 0.0786;\n",
      "yai = f41(xai);\n",
      "xci = 1-xai;\n",
      "yci = f42(xci);\n",
      "# From Eqn. 8.77:\n",
      "dYa_By_dZ = -(Ra*FGa*a/Gb)*math.log((Ra-yai)/(Ra-ya));# [kmol H2O/kmol air]\n",
      "# From Eqn. 8.78:\n",
      "dYc_By_dZ = -(Rc*FGc*a/Gb)*math.log((Rc-yci)/(Rc-yc1));# [kmol H2O/kmol air]\n",
      "# From Eqn. 8.82:\n",
      "hGa_prime = -(Gb*((Ca*dYa_By_dZ)+(Cc*dYc_By_dZ)))/(1-exp(Gb*((Ca*dYa_By_dZ)+(Cc*dYc_By_dZ))/(hG*a)));# [W/cubic m.K]\n",
      "# From Eqn. 8.79:\n",
      "dtG_By_dZ = -(hGa_prime*(TempG1-Tempi))/(Gb*(Cb+(Ya1*Ca)+(Yc1*Cc)));# [K/m]\n",
      "# When the curves of Fig. 8.2 (pg 279) & 8.24 (Pg 319) are interpolated for concentration xai and xci, the slopes are:\n",
      "mar = 0.771;\n",
      "mcr = 1.02;\n",
      "lambda_c = 43.33*10**6;# [J/kmol]\n",
      "# From Eqn. 8.3:\n",
      "Hai = Ca*(Tempi-Tempo)+lambda_Ao-(mar*lambda_c);# [J/kmol]\n",
      "Hci = Cc*(Tempi-Tempo)+lambda_Co-(mcr*lambda_c);# [J/kmol]\n",
      "# From Eqn. 8.76\n",
      "Tempi2 = TempL+(Gb/(hL*a))*(((Hai-Ca*(TempG1-Tempo)-lambda_Ao)*dYa_By_dZ)+((Hci-Cc*(TempG1-Tempo)-lambda_Co)*dYc_By_dZ)-((Cb+(Ya1*Ca)+(Yc1*Cc))*dtG_By_dZ));# [OC]\n",
      "# The value of Tempi obtained is sufficiently close to the value assumed earlier.\n",
      "\n",
      "deltaYa=-0.05;\n",
      "# An interval of deltaYa up the tower\n",
      "deltaZ = deltaYa/(dYa_By_dZ);# [m]\n",
      "deltaYc = (dYc_By_dZ*deltaZ);\n",
      "# At this level:\n",
      "Ya_next = Ya1+deltaYa;# [kmol/kmol air]\n",
      "Yc_next = Yc1+deltaYc;# [kmol H2O/kmol air]\n",
      "tG_next = TempG1+(dtG_By_dZ*deltaZ);# [OC]\n",
      "L_next = L1+Gb*(deltaYa+deltaYc);# [kmol/square m.s]\n",
      "xa_next = ((Gb*deltaYa)+(L1*xa))/L_next;# [mole fraction NH3]\n",
      "Hg_next = (Cb*(tG_next-Tempo))+(Ya_next*(Ca*(tG_next-Tempo))+lambda_Ao)+(Yc_next*(Cc*(tG_next-Tempo)+lambda_Co));# [J/kmol air]\n",
      "Hl_next = (L1*Hl1)+(Gb*(Hg_next-Hg2)/L_next);# [J/kmol]\n",
      "# The calculation are continued where the specified gas outlet composition are reached.\n",
      "# The packed depth is sum of all deltaZ\n",
      "Z = 1.58;# [m]\n",
      "print\"The packed depth is: \",Z,\" m\\n\""
     ],
     "language": "python",
     "metadata": {},
     "outputs": [
      {
       "output_type": "stream",
       "stream": "stdout",
       "text": [
        "Illustration 8.8 - Page: 317\n",
        "\n",
        "\n"
       ]
      },
      {
       "metadata": {},
       "output_type": "display_data",
       "png": "[encoded data removed]",
       "text": [
        "<matplotlib.figure.Figure at 0xa595b00>"
       ]
      },
      {
       "metadata": {},
       "output_type": "display_data",
       "png": "[encoded data removed]",
       "text": [
        "<matplotlib.figure.Figure at 0xa5fdcf8>"
       ]
      },
      {
       "output_type": "stream",
       "stream": "stdout",
       "text": [
        "The packed depth is:  1.58  m\n",
        "\n"
       ]
      }
     ],
     "prompt_number": 6
    },
    {
     "cell_type": "heading",
     "level": 2,
     "metadata": {},
     "source": [
      "Ex8.9: Page 327"
     ]
    },
    {
     "cell_type": "code",
     "collapsed": false,
     "input": [
      "\n",
      "\n",
      "# Illustration 8.9\n",
      "# Page: 327\n",
      "\n",
      "print'Illustration 8.9 - Page: 327\\n\\n'\n",
      "\n",
      "# solution\n",
      "from scipy.optimize import fsolve\n",
      "import numpy\n",
      "import math\n",
      "#****Data****#\n",
      "# C1=CH4 C2=C2H6 C3=n-C3H8 C4=C4H10\n",
      "Abs=0.15;# [Total absorption,kmol]\n",
      "\n",
      "T=25;# [OC]\n",
      "y1=0.7;# [mol fraction]\n",
      "y2=0.15;# [mol fraction]\n",
      "y3=0.10;# [mol fraction]\n",
      "y4=0.05;# [mol fraction]\n",
      "x1=0.01;# [mol fraction]\n",
      "x_involatile=0.99;# [mol fraction]\n",
      "L_by_G=3.5;# [mol liquid/mol entering gas]\n",
      "#******#\n",
      "\n",
      "LbyG_top=L_by_G/(1-y2);\n",
      "LbyG_bottom=(L_by_G+y2)/1;\n",
      "LbyG_av=(LbyG_top+LbyG_bottom)/2;\n",
      "# The number of eqb. trays is fixed by C3 absorption:\n",
      "# For C3 at 25 OC;\n",
      "m=4.10;\n",
      "A=LbyG_av/m;\n",
      "Frabs=0.7;# [Fractional absorption]\n",
      "X0=0;\n",
      "# From Eqn. 8.109:\n",
      "def f43(Np):\n",
      "    return Frabs-((A**Np)-A)/((A**Np)-1)\n",
      "Np=fsolve(f43,2);\n",
      "print\"Number of trays required is  \\n\",round(Np,2)\n",
      "#the answers are slightly different in textbook due to approximation while here answers are precise"
     ],
     "language": "python",
     "metadata": {},
     "outputs": [
      {
       "output_type": "stream",
       "stream": "stdout",
       "text": [
        "Illustration 8.9 - Page: 327\n",
        "\n",
        "\n",
        "Number of trays required is  \n",
        "3.57\n"
       ]
      }
     ],
     "prompt_number": 38
    }
   ],
   "metadata": {}
  }
 ]
}