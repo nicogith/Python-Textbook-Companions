{
 "metadata": {
  "name": "",
  "signature": "sha256:154e89b2f76588eed1121bf1db9bf4372804b279864337e5f5dc9c9be7d3f365"
 },
 "nbformat": 3,
 "nbformat_minor": 0,
 "worksheets": [
  {
   "cells": [
    {
     "cell_type": "heading",
     "level": 1,
     "metadata": {},
     "source": [
      "Chapter 6: Equipment For Gas-Liquid Operations"
     ]
    },
    {
     "cell_type": "heading",
     "level": 2,
     "metadata": {},
     "source": [
      "Ex6.1: Page 145"
     ]
    },
    {
     "cell_type": "code",
     "collapsed": false,
     "input": [
      "\n",
      "\n",
      "# Illustration 6.1\n",
      "# Page: 145\n",
      "\n",
      "print'Illustration 6.1 - Page: 145\\n\\n'\n",
      "import math\n",
      "from scipy.optimize import fsolve\n",
      "# solution\n",
      "\n",
      "#****Data****#\n",
      "# w = Gas flow rate per orifice\n",
      "w = 0.055/50;# [kg/s]\n",
      "L = 8*10**(-4);# [liquid flow rate, cubic m/s]\n",
      "d = 0.003;# [diameter of the orifice,m]\n",
      "viscocity_gas = 1.8*10**(-5);# [kg/m.s]\n",
      "#******#\n",
      "\n",
      "Re = 4*w/(math.pi*d*viscocity_gas);\n",
      "Dp = 0.0071*Re**(-0.05);# [m]\n",
      "h = 3.0;# [height of vessel,m]\n",
      "P_atm = 101.3;# [kN/square m]\n",
      "Density_water = 1000.0;# [kg/cubic m]\n",
      "g = 9.81;# [m/s^2]\n",
      "Temp = 273+25;# [K]\n",
      "P_orifice = P_atm+(h*Density_water*g/1000);# [kN/square m]\n",
      "P_avg = P_atm+((h/2.0)*Density_water*g/1000);# [kN/square m]\n",
      "Density_gas = (29/22.41)*(273.0/Temp)*(P_avg/P_atm);# [kg/cubic m]\n",
      "D = 1.0;# [dia of vessel,m]\n",
      "Area = (math.pi*D**2)/4;# [square m]\n",
      "Vg = 0.055/(Area*Density_gas);# [m/s]\n",
      "Vl = L/Area;# [m/s]\n",
      "sigma = 0.072;# [N/m]\n",
      "# From fig. 6.2 (Pg 143)\n",
      "abscissa = 0.0516;# [m/s]\n",
      "Vg_by_Vs = 0.11;\n",
      "Vs = Vg/Vg_by_Vs;# [m/s]\n",
      "def f6(shi_g):\n",
      "       return Vs-(Vg/shi_g)+(Vl/(1-shi_g)) \n",
      "shi_g = fsolve(f6,0.5);\n",
      "dp = ((Dp**3)*(P_orifice/P_avg))**(1.0/3);# [bubble diameter,m]\n",
      "# From eqn. 6.9\n",
      "a = 6.0*shi_g/dp;# [specific interfacial area,square m]\n",
      "print\"The Specific Interfacial Area is \",round(a,2),\" square m/cubic m\\n\"\n",
      "\n",
      "# For diffsion of Cl2 in H20\n",
      "Dl = 1.44*10**(-9);# [square m/s]\n",
      "viscocity_water = 8.937*10**(-4);# [kg/m.s]\n",
      "Reg = dp*Vs*Density_water/viscocity_water;\n",
      "Scl = viscocity_water/(Density_water*Dl);\n",
      "# From Eqn.6.11\n",
      "Shl = 2+(0.0187*(Reg**0.779)*(Scl**0.546)*(dp*(g**(1.0/3))/(Dl**(2.0/3)))**0.116);\n",
      "# For dilute soln. of Cl2 in H20\n",
      "c = 1000/18.02;# [kmol/cubic m]\n",
      "Fl = (c*Dl*Shl)/dp;# [kmol/square m.s]\n",
      "print\"Mass Transfer coeffecient is \",round(Fl,5),\" kmol/square m.s\\n\",\n",
      "#the answers are slightly different in textbook due to approximation while here answers are precise"
     ],
     "language": "python",
     "metadata": {},
     "outputs": [
      {
       "output_type": "stream",
       "stream": "stdout",
       "text": [
        "Illustration 6.1 - Page: 145\n",
        "\n",
        "\n",
        "The Specific Interfacial Area is  148.13  square m/cubic m\n",
        "\n",
        "Mass Transfer coeffecient is  0.01335  kmol/square m.s\n"
       ]
      }
     ],
     "prompt_number": 10
    },
    {
     "cell_type": "heading",
     "level": 2,
     "metadata": {},
     "source": [
      "Ex6.2: Page 157"
     ]
    },
    {
     "cell_type": "code",
     "collapsed": false,
     "input": [
      "\n",
      "\n",
      "# Illustration 6.2\n",
      "# Page: 157\n",
      "\n",
      "print'Illustration 6.2 - Page: 157\\n\\n'\n",
      "import math\n",
      "from scipy.optimize import fsolve\n",
      "# solution\n",
      "\n",
      "#****Data****#\n",
      "# a = N2 b = H2O\n",
      "L = 9.5*10**(-4);# [cubic m/s]\n",
      "G = 0.061;# [kg/s]\n",
      "Temp = 273.0+25;# [K]\n",
      "#*****#\n",
      "\n",
      "print\"Construction Arrangement\\n\"\n",
      "print\"Use 4 vertical wall baffles, 100 mm wide at 90 degree intervals.\\n\"\n",
      "print\"Use a 305 mm dameter, a six bladed disk flat blade turbine impeller, arranged axially, 300 mm from the bottom of vessel\\n\"\n",
      "print\"The sparger underneath the impeller will be in the form of a 240 mm dameter ring made of 12.7 mm tubing drilled in the top with 3.18 mm dia holes\\n\"\n",
      "Di = 0.305;# [m]\n",
      "Do = 0.00316;# [m]\n",
      "viscocity_a = 1.8*10**(-5);# [kg/m.s]\n",
      "Re_g = 35000;\n",
      "Ma = 28.02;# [kg/kmol]\n",
      "Mb = 18.02;# [kg/kmol]\n",
      "# w = Gas flow rate per orifice\n",
      "w = Re_g*math.pi*Do*viscocity_a/4.0;# [kg/s]\n",
      "N_holes = G/w;\n",
      "Interval = math.pi*240/round(N_holes);\n",
      "print\"The number of holes is \",round(N_holes),\" at approx \",round(Interval),\" mm interval around the sparger ring\\n\"\n",
      "\n",
      "viscocity_b = 8.9*10**(-4);# [kg/m.s]\n",
      "Sigma = 0.072;# [N/m]\n",
      "Density_b = 1000.0;# [kg/cubic m]\n",
      "D = 1.0;# [dia of vessel,m]\n",
      "g = 9.81;# [m/s**2]\n",
      "# From Eqn. 6.18\n",
      "def f7(N):\n",
      "    return (N*Di/(Sigma*g/Density_b)**0.25)-1.22-(1.25*D/Di)\n",
      "N_min = fsolve(f7,2);# [r/s]\n",
      "N = 5.0;# [r/s]\n",
      "Re_l = ((Di**2)*N*Density_b/viscocity_b);\n",
      "# From fig 6.5 (Pg 152)\n",
      "Po = 5.0;\n",
      "P = Po*Density_b*(N**3)*(Di**5);\n",
      "h = 0.7;# [m]\n",
      "P_atm = 101.33;# [kN/square m]\n",
      "P_gas = P_atm+(h*Density_b*g/1000.0);# [kN/square m]\n",
      "Qg = (G/Ma)*22.41*(Temp/273.0)*(P_atm/P_gas);# [cubic m/s]\n",
      "# From Fig.6.7 (Pg 155)\n",
      "abcissa = Qg/(N*(Di**3));\n",
      "# abcissa is off scale\n",
      "Pg_by_P = 0.43;\n",
      "Pg = 0.43*P;# [W]\n",
      "Vg = Qg/(math.pi*(D**2)/4);# [superficial gas velocity,m/s]\n",
      "check_value = (Re_l**0.7)*((N*Di/Vg)**0.3);\n",
      "vl = math.pi*(D**2)/4;# [cubic m]\n",
      "# Since value<30000\n",
      "# From Eqn. 6.21, Eqn.6.23 & Eqn. 6.24\n",
      "K = 2.25;\n",
      "m = 0.4;\n",
      "Vt = 0.250;# [m/s]\n",
      "shi = 1.0;\n",
      "err = 1.0;\n",
      "while (err>10**(-3)):\n",
      "    a = 1.44*((Pg/vl)**0.4)*((Density_b/(Sigma**3))**0.2)*((Vg/Vt)**0.5);# [square m/cubic m]\n",
      "    shin = (0.24*K*((viscocity_a/viscocity_b)**0.25)*((Vg/Vt)**0.5))**(1.0/(1-m));\n",
      "    Dp = K*((vl/Pg)**0.4)*((Sigma**3/Density_b)**0.2)*(shin**m)*((viscocity_a/viscocity_b)**0.25);# [m]\n",
      "    err = abs(shi-shin);\n",
      "    Vt = Vt-0.002;# [m/s]\n",
      "    shi = shin;\n",
      "\n",
      "\n",
      "# For N2 in H2\n",
      "Dl = 1.9*10**(-9);# [square m/s]\n",
      "Ra = 1.514*10**(6);\n",
      "# By Eqn. 6.25\n",
      "Shl = 2.0+(0.31*(Ra**(1.0/3)));\n",
      "# For dilute soln.\n",
      "c = 1000.0/Mb;# [kmol/cubic m]\n",
      "Fl = Shl*c*Dl*1.0/Dp;# [kmol/square m.s]\n",
      "print\"The average gas-bubble diameter is \",(\"{:.2e}\".format(Dp)),\" m\\n\",\n",
      "print\"Gas Holdup:\\n\",round(shi,5)\n",
      "print\"Interfacial area:\",round(a,4),\" square m/cubic m \\n\"\n",
      "print\"Mass transfer coffecient:\",(\"{:.2e}\".format(Fl)),\"kmol/square m.s\\n\"\n",
      "#the answers are slightly different in textbook due to approximation while here answers are precise"
     ],
     "language": "python",
     "metadata": {},
     "outputs": [
      {
       "output_type": "stream",
       "stream": "stdout",
       "text": [
        "Illustration 6.2 - Page: 157\n",
        "\n",
        "\n",
        "Construction Arrangement\n",
        "\n",
        "Use 4 vertical wall baffles, 100 mm wide at 90 degree intervals.\n",
        "\n",
        "Use a 305 mm dameter, a six bladed disk flat blade turbine impeller, arranged axially, 300 mm from the bottom of vessel\n",
        "\n",
        "The sparger underneath the impeller will be in the form of a 240 mm dameter ring made of 12.7 mm tubing drilled in the top with 3.18 mm dia holes\n",
        "\n",
        "The number of holes is  39.0  at approx  19.0  mm interval around the sparger ring\n",
        "\n",
        "The average gas-bubble diameter is  6.35e-04  m\n",
        "Gas Holdup:\n",
        "0.02265\n",
        "Interfacial area: 214.0106  square m/cubic m \n",
        "\n",
        "Mass transfer coffecient: 6.24e-03 kmol/square m.s\n",
        "\n"
       ]
      }
     ],
     "prompt_number": 20
    },
    {
     "cell_type": "heading",
     "level": 2,
     "metadata": {},
     "source": [
      "Ex6.3: Page 174"
     ]
    },
    {
     "cell_type": "code",
     "collapsed": false,
     "input": [
      "\n",
      "\n",
      "# Illustration 6.3\n",
      "# Page: 174\n",
      "\n",
      "print'Illustration 6.3 - Page: 174\\n\\n'\n",
      "\n",
      "import math\n",
      "from scipy.optimize import fsolve\n",
      "# solution\n",
      "\n",
      "#****Data****#\n",
      "# a = methanol b = water\n",
      "G = 0.100;# [kmol/s]\n",
      "L = 0.25;# [kmol/s]\n",
      "Temp = 273+95;# [K]\n",
      "XaG = 0.18;# [mol % in gas phase]\n",
      "MaL = 0.15;# [mass % in liquid phase]\n",
      "#*****#\n",
      "\n",
      "Ma = 32;# [kg/kmol]\n",
      "Mb = 18;# [kg/kmol]\n",
      "Mavg_G = XaG*Ma+((1-XaG)*Mb);# [kg/kmol]\n",
      "Density_G = (Mavg_G/22.41)*(273.0/Temp);# [kg/cubic cm]\n",
      "Q = G*22.41*(Temp/273.0);# [cubic cm/s]\n",
      "Density_L = 961.0;# [kg/cubic cm]\n",
      "Mavg_L = 1.0/((MaL/Ma)+(1-MaL)/Mb);# [kg/kmol]\n",
      "q = L*Mavg_L/Density_L;\n",
      "\n",
      "# Perforations\n",
      "print\"Perforations\\n\"\n",
      "print\"Do = 4.5mm on an equilateral triangle pitch 12 mm between the hole centres, punched in sheet metal 2 mm thick\\n\"\n",
      "Do = 0.0045;# [m]\n",
      "pitch = 0.012;# [m]\n",
      "# By Eqn.6.31\n",
      "Ao_by_Aa = 0.907*(Do/pitch)**2;\n",
      "print\"The ratio of Hole Area By Active Area is:\",round(Ao_by_Aa,4),\"\\n\"\n",
      "print\"\\n\"\n",
      "\n",
      "# Tower Diameter\n",
      "print\"Tower Diameter\\n\"\n",
      "t = 0.50;# [tray spacing,m]\n",
      "print\"Tower Spacing:\",t,\" m\\n\"\n",
      "# abcissa = (L/G)*(Density_G/Density_L)^0.5 = (q/Q)*(Density_L/Density_G)**0.5\n",
      "abcissa = (q/Q)*(Density_L/Density_G)**0.5;\n",
      "# From Table 6.2 (Pg 169)\n",
      "alpha = (0.0744*t)+0.01173;\n",
      "beeta = (0.0304*t)+0.015;\n",
      "if (abcissa<0.1):\n",
      "    abcissa = 0.1;\n",
      "\n",
      "sigma = 0.040;# [N/m]\n",
      "# From Eqn.6.30\n",
      "Cf = ((alpha*math.log10(1.0/abcissa))+beeta)*(sigma/0.02)**0.2;\n",
      "# From Eqn. 6.29\n",
      "Vf = Cf*((Density_L-Density_G)/Density_G)**(1/2);# [m/s]\n",
      "# Using 80% of flooding velocity\n",
      "V = 0.8*Vf;# [m/s]\n",
      "An = Q/V;# [square m]\n",
      "# The tray area used by one downspout = 8.8%\n",
      "At = An/(1-0.088);# [square m]\n",
      "D = (4*At/math.pi)**(1.0/2);# [m]\n",
      "# Take D = 1.25 m\n",
      "D = 1.25; #[m]\n",
      "At = math.pi*(D**2)/4;# [corrected At, square m]\n",
      "W = 0.7*D;# [weir length,m]\n",
      "Ad = 0.088*At;# [square m]\n",
      "# For a design similar to Fig 6.14 (Pg 168)\n",
      "# A 40 mm wide supporting ring, beams between downspouts and a 50 mm wide disengaging & distributing zones these areas total 0.222 square m\n",
      "Aa = At-(2.0*Ad)-0.222;\n",
      "print\"Weir Length:\",round(W,4),\"\\n\"\n",
      "print\"Area for perforated sheet: \",round(Aa,4),\" square m\\n\"\n",
      "print\"\\n\"\n",
      "\n",
      "# Weir crest h1 & Weir height hw\n",
      "print\"Weir crest h1 & Weir height hw\\n\"\n",
      "h1 = 0.025;# [m]\n",
      "h1_by_D = h1/D;\n",
      "D_by_W = D/W;\n",
      "# From Eqn. 6.34\n",
      "Weff_by_W = math.sqrt(((D_by_W)**2)-((((D_by_W)**2-1)**0.5)+(2*h1_by_D*D_by_W))**2);\n",
      "# Set hw to 50 mm\n",
      "hw = 0.05;# [m]\n",
      "print\"Weir crest: \",h1,\" m\\n\"\n",
      "print\"Weir height: \",hw,\" m\\n\"\n",
      "print\"\\n\"\n",
      "\n",
      "# Dry Pressure Drop\n",
      "print\"Dry Pressure Drop\\n\"\n",
      "l = 0.002;# [m]\n",
      "# From Eqn. 6.37\n",
      "Co = 1.09*(Do/l)**0.25;\n",
      "Ao = 0.1275*Aa;# [square m]\n",
      "Vo = Q/Ao;# [m/sec]\n",
      "viscocity_G = 1.25*10**(-5);# [kg/m.s]\n",
      "Re = Do*Vo*Density_G/viscocity_G;\n",
      "# From \"The Chemical Engineers Handbook,\" 5th Edition fig 5.26\n",
      "fr = 0.008;\n",
      "g = 9.81;# [m/s**2]\n",
      "# From Eqn. 6.36\n",
      "def f(hd):\n",
      "    return (2*hd*g*Density_L/(Vo**2*Density_G))-(Co*(0.40*(1.25-(Ao/An))+(4*l*fr/Do)+(1-(Ao/An))**2))\n",
      "hd = fsolve(f,1);\n",
      "print\"Dry Pressure Drop:\",round(hd,4),\" m\\n\"\n",
      "print\"\\n\"\n",
      "\n",
      "# Hydraulic head hl\n",
      "print\"Hydraulic head hl\"\n",
      "Va = Q/Aa;# [m/s]\n",
      "z = (D+W)/2.0;# [m]\n",
      "# From Eqn. 6.38\n",
      "hl = 6.10*10**(-3)+(0.725*hw)-(0.238*hw*Va*(Density_G)**0.5)+(1.225*q/z);# [m]\n",
      "print\"Hydraulic head: \",round(hl,4),\" m\\n\"\n",
      "print\"\\n\"\n",
      "\n",
      "#Residual Pressure drop hr\n",
      "print\"Residual Pressure drop hr\\n\"\n",
      "# From Eqn. 6.42\n",
      "hr = 6*sigma/(Density_L*Do*g);# m\n",
      "print\"Residual Pressure Drop:\",round(hr,4),\"m\\n\"\n",
      "print\"\\n\"\n",
      "\n",
      "# Total Gas pressure Drop hg\n",
      "print\"Total Gas pressure Drop hg\\n\"\n",
      "# From Eqn. 6.35\n",
      "hg = hd+hl+hr;# [m]\n",
      "print\"Total gas pressure Drop: \",round(hg,4),\" m\\n\"\n",
      "print\"\\n\"\n",
      "\n",
      "# Pressure loss at liquid entrance h2\n",
      "print\"Pressure loss at liquid entrance h2\\n\"\n",
      "# Al: Area for the liquid flow under the apron\n",
      "Al = 0.025*W;# [square m]\n",
      "Ada = min(Al,Ad);\n",
      "# From Eqn. 6.43\n",
      "h2 = (3.0/(2*g))*(q/Ada)**2;\n",
      "print\"Pressure loss at liquid entrance:\",round(h2,4),\"m\\n\"\n",
      "print\"\\n\"\n",
      "\n",
      "# Backup in Downspout h3\n",
      "print\"Backup in Downspout h3\\n\"\n",
      "# From Eqn.6.44\n",
      "h3 = hg+h2;\n",
      "print\"Backup in Downspout:\",round(h3,4),\" m\\n\"\n",
      "print\"\\n\"\n",
      "\n",
      "# Check on Flooding\n",
      "print\"Check on Flooding\\n\"\n",
      "if((hw+h1+h3)<(t/2.0)):\n",
      "    print\"Choosen Tower spacing is satisfactory\\n\"\n",
      "else:\n",
      "    print\"Choosen Tower spacing is  not satisfactory\\n\"\n",
      "\n",
      "print\"\\n\"\n",
      "\n",
      "# Weeping Velocity\n",
      "print\"Weeping Velocity\\n\"\n",
      "print\"For W/D ratio \",W/D,\" weir is set at \",0.3296*D,\" m from the center from the tower\\n\",\n",
      "Z = 2*(0.3296*D);# [m]\n",
      "# From Eqn.6.46\n",
      "def f8(Vow):\n",
      "     return (Vow*viscocity_G/(sigma))-(0.0229*((viscocity_G**2/(sigma*Density_G*Do))*(Density_L/Density_G))**0.379)*((l/Do)**0.293)*(2*Aa*Do/(math.sqrt(3.0)*(pitch**3)))**(2.8/((Z/Do)**0.724))\n",
      "Vow = fsolve(f8,0.1);# [m/s]\n",
      "print\"The minimum gas velocity through the holes below which excessive weeping is likely:\",round(Vow,3),\" m/s\\n\"\n",
      "print\"\\n\"\n",
      "\n",
      "# Entrainment\n",
      "print\"Entrainment\\n\"\n",
      "V_by_Vf = V/Vf;\n",
      "# From Fig.6.17 (Pg 173), V/Vf = 0.8 & abcissa = 0.0622\n",
      "E = 0.05;\n",
      "print\"Entrainment:\\n\",E\n",
      "#the answers are slightly different in textbook due to approximation while here answers are precise"
     ],
     "language": "python",
     "metadata": {},
     "outputs": [
      {
       "output_type": "stream",
       "stream": "stdout",
       "text": [
        "Illustration 6.3 - Page: 174\n",
        "\n",
        "\n",
        "Perforations\n",
        "\n",
        "Do = 4.5mm on an equilateral triangle pitch 12 mm between the hole centres, punched in sheet metal 2 mm thick\n",
        "\n",
        "The ratio of Hole Area By Active Area is: 0.1275 \n",
        "\n",
        "\n",
        "\n",
        "Tower Diameter\n",
        "\n",
        "Tower Spacing: 0.5  m\n",
        "\n",
        "Weir Length: 0.875 \n",
        "\n",
        "Area for perforated sheet:  0.7892  square m\n",
        "\n",
        "\n",
        "\n",
        "Weir crest h1 & Weir height hw\n",
        "\n",
        "Weir crest:  0.025  m\n",
        "\n",
        "Weir height:  0.05  m\n",
        "\n",
        "\n",
        "\n",
        "Dry Pressure Drop\n",
        "\n",
        "Dry Pressure Drop: 0.0654  m\n",
        "\n",
        "\n",
        "\n",
        "Hydraulic head hl\n",
        "Hydraulic head:  0.0106  m\n",
        "\n",
        "\n",
        "\n",
        "Residual Pressure drop hr\n",
        "\n",
        "Residual Pressure Drop: 0.0057 m\n",
        "\n",
        "\n",
        "\n",
        "Total Gas pressure Drop hg\n",
        "\n",
        "Total gas pressure Drop:  0.0816  m\n",
        "\n",
        "\n",
        "\n",
        "Pressure loss at liquid entrance h2\n",
        "\n",
        "Pressure loss at liquid entrance: 0.008 m\n",
        "\n",
        "\n",
        "\n",
        "Backup in Downspout h3\n",
        "\n",
        "Backup in Downspout: 0.0897  m\n",
        "\n",
        "\n",
        "\n",
        "Check on Flooding\n",
        "\n",
        "Choosen Tower spacing is satisfactory\n",
        "\n",
        "\n",
        "\n",
        "Weeping Velocity\n",
        "\n",
        "For W/D ratio  0.7  weir is set at  0.412  m from the center from the tower\n",
        "The minimum gas velocity through the holes below which excessive weeping is likely: 8.703  m/s\n",
        "\n",
        "\n",
        "\n",
        "Entrainment\n",
        "\n",
        "Entrainment:\n",
        "0.05\n"
       ]
      }
     ],
     "prompt_number": 24
    },
    {
     "cell_type": "heading",
     "level": 2,
     "metadata": {},
     "source": [
      "Ex6.4: Page 183"
     ]
    },
    {
     "cell_type": "code",
     "collapsed": false,
     "input": [
      "\n",
      "\n",
      "# Illustration 6.4\n",
      "# Page: 183\n",
      "\n",
      "print'Illustration 6.4 - Page: 183\\n\\n'\n",
      "\n",
      "# solution\n",
      "import math\n",
      "#****Data****#\n",
      "#From Illustrtion 6.3:\n",
      "G = 0.100;# [kmol/s]\n",
      "Density_G = 0.679;# [kg/cubic m]\n",
      "q = 5*10**(-3);# [cubic m/s]\n",
      "Va = 3.827;# [m/s]\n",
      "z = 1.063;# [m]\n",
      "L = 0.25;# [kmol/s]\n",
      "hL = 0.0106;# [m]\n",
      "hW = 0.05;# [m]\n",
      "Z = 0.824;# [m]\n",
      "E = 0.05;\n",
      "ya = 0.18;# [mole fraction methanol]\n",
      "\n",
      "# a:CH3OH b:H2O\n",
      "Ma = 32;# [kg/kmol]\n",
      "Mb = 18;# [kg/kmol]\n",
      "# From Chapter 2:\n",
      "ScG = 0.865;\n",
      "Dl = 5.94*10**(-9);# [square m/s]\n",
      "# From Eqn. 6.61:\n",
      "NtG = (0.776+(4.57*hW)-(0.238*Va*Density_G**0.5)+(104.6*q/Z))/ScG**0.5;\n",
      "DE = ((3.93*10**(-3))+(0.0171*Va)+(3.67*q/Z)+(0.1800*hW))**2;# [square m/s]\n",
      "thethaL = hL*z*Z/q;# [s]\n",
      "NtL = 40000*Dl**0.5*((0.213*Va*Density_G**0.5)+0.15)*thethaL;\n",
      "# For 15 mass% methanol:\n",
      "xa = (15.0/Ma)/((15.0/Ma)+(85.0/Mb));\n",
      "# From Fig 6.23 (Pg 184)\n",
      "mAC = -(NtL*L)/(NtG*G);# [Slope of AC line]\n",
      "meqb = 2.50;# [slope of equilibrium line]\n",
      "# From Eqn. 6.52:\n",
      "NtoG = 1.0/((1/NtG)+(meqb*G/L)*(1.0/NtL));\n",
      "# From Eqn. 6.51:\n",
      "EOG = 1-math.exp(-NtoG);\n",
      "# From Eqn. 6.59:\n",
      "Pe = Z**2/(DE*thethaL);\n",
      "# From Eqn. 6.58:\n",
      "eta = (Pe/2.0)*((1+(4*meqb*G*EOG/(L*Pe)))**0.5-1);\n",
      "# From Eqn. 6.57:\n",
      "EMG = EOG*(((1-math.exp(-(eta+Pe)))/((eta+Pe)*(1+(eta+Pe)/eta)))+(math.exp(eta)-1)/(eta*(1+eta/(eta+Pe))));\n",
      "# From Eqn. 6.60:\n",
      "EMGE = EMG/(1+(EMG*E/(1-E)));\n",
      "print\"Efficiency of Sieve trays: \",round(EMGE,1)"
     ],
     "language": "python",
     "metadata": {},
     "outputs": [
      {
       "output_type": "stream",
       "stream": "stdout",
       "text": [
        "Illustration 6.4 - Page: 183\n",
        "\n",
        "\n",
        "Effeciency of Sieve trays:  0.7\n"
       ]
      }
     ],
     "prompt_number": 28
    },
    {
     "cell_type": "heading",
     "level": 2,
     "metadata": {},
     "source": [
      "Ex6.5: Page 200"
     ]
    },
    {
     "cell_type": "code",
     "collapsed": false,
     "input": [
      "\n",
      "\n",
      "# Illustration 6.5\n",
      "# Page: 200\n",
      "\n",
      "print'Illustration 6.5 - Page: 200\\n\\n'\n",
      "\n",
      "# solution\n",
      "\n",
      "import math\n",
      "# ****Data****#\n",
      "G = 0.80;# [cubic m/s]\n",
      "P = 10**2;# [kN/square m]\n",
      "XaG = 0.07;\n",
      "Temp = 273+30.0;# [K]\n",
      "L = 3.8;# [kg/s]\n",
      "Density_L = 1235.0;# [kg/cubic m]\n",
      "viscocity_L = 2.5*10**(-3);# [kg/m.s]\n",
      "#******#\n",
      "\n",
      "# a = SO2 b = air\n",
      "\n",
      "# Solution (a) \n",
      "\n",
      "# Since the larger flow quantities are at the bottom for an absorber, the diameter will be choosen to accomodate the bottom condition\n",
      "Mavg_G = XaG*64+((1-XaG)*29);# [kg/kmol]\n",
      "G1 = G*(273/Temp)*(P/101.33)*(1/22.41);# [kmol/s]\n",
      "G2 = G1*Mavg_G;# [kg/s]\n",
      "Density_G = G2/G;# [kg/cubic m]\n",
      "# Assuming Complete absorption of SO2\n",
      "sulphur_removed = G1*XaG*64;# [kg/s]\n",
      "abcissa = (L/G)*((Density_G/Density_L)**0.5);\n",
      "#From Fig. 6.24, using gas pressure drop of 400 (N/square m)/m\n",
      "ordinate = 0.061;\n",
      "# For 25 mm ceramic Intalox Saddle:\n",
      "Cf = 98.0;# [Table 6.3 Pg 196]\n",
      "J = 1;\n",
      "G_prime = (ordinate*Density_G*(Density_L-Density_G)/(Cf*viscocity_L**0.1*J))**0.5;# [kg/square m.s]\n",
      "A = G2/G_prime;# [square m]\n",
      "D = (4*A/math.pi)**0.5;# [m]\n",
      "print\"The Tower Diameter is \",round(D,4),\" m\\n\"\n",
      "\n",
      "# Solution (b)\n",
      "\n",
      "# Let\n",
      "D = 1.0;# [m]\n",
      "A = math.pi*D**2.0/4;# [square m]\n",
      "# The pressure drop for 8 m of irrigated packing\n",
      "delta_p = 400*8.0;# [N/square m]\n",
      "# For dry packing\n",
      "G_prime = (G2-sulphur_removed)/A;# [kg/square m.s]\n",
      "P = P-(delta_p/1000.0);# [kN/square m]\n",
      "Density_G = (29/22.41)*(273.0/Temp)*(P/101.33);# [kg/cubic m]\n",
      "# From Table 6.3 (Pg 196)\n",
      "Cd = 241.5;\n",
      "# From Eqn. 6.68\n",
      "delta_p_by_z = Cd*G_prime**2/Density_G;# [N/square m for 1m of packing]\n",
      "pressure_drop = delta_p+delta_p_by_z;# [N/square m]\n",
      "V = 7.5;# [m/s]\n",
      "head_loss = 1.5*V**2.0/2;# [N.m/kg]\n",
      "head_loss = head_loss*Density_G;# [N/square m]\n",
      "Power = (pressure_drop+head_loss)*(G2-sulphur_removed)/(Density_G*1000.0);# [kW]\n",
      "eta = 0.6;\n",
      "Power = Power/eta;# [kW]\n",
      "print\"The Power for the fan motor is \",round(Power,2),\" kW\\n\""
     ],
     "language": "python",
     "metadata": {},
     "outputs": [
      {
       "output_type": "stream",
       "stream": "stdout",
       "text": [
        "Illustration 6.5 - Page: 200\n",
        "\n",
        "\n",
        "The Tower Diameter is  0.981  m\n",
        "\n",
        "The Power for the fan motor is  4.49  kW\n",
        "\n"
       ]
      }
     ],
     "prompt_number": 33
    },
    {
     "cell_type": "heading",
     "level": 2,
     "metadata": {},
     "source": [
      "Ex6.6: Page 204"
     ]
    },
    {
     "cell_type": "code",
     "collapsed": false,
     "input": [
      "\n",
      "\n",
      "# Illustration 6.6\n",
      "# Page: 204\n",
      "\n",
      "print'Illustration 6.6 - Page: 204\\n\\n'\n",
      "\n",
      "# solution\n",
      "\n",
      "import math\n",
      "from scipy.optimize import fsolve\n",
      "#****Data****#\n",
      "# Gas\n",
      "Mavg_G = 11.0;# [kg/kmol]\n",
      "viscocity_G = 10**(-5);# [kg/m.s]\n",
      "Pt = 107.0;# [kN/square m]\n",
      "Dg = 1.30*10**(-5);# [square m/s]\n",
      "Temp = 273.0+27;# [K]\n",
      "G_prime = 0.716;# [kg/square m.s]\n",
      "\n",
      "# Liquid:\n",
      "Mavg_L = 260.0;\n",
      "viscocity_L = 2*10**(-3);# [kg/m.s]\n",
      "Density_L = 840.0;# [kg/cubic m]\n",
      "sigma = 3*10.0**(-2);# [N/m]\n",
      "Dl = 4.71*10**(-10);# [square m/s]\n",
      "#******#\n",
      "\n",
      "#Gas:\n",
      "Density_G = (Mavg_G/22.41)*(Pt/101.33)*(273/Temp);# [kg/cubic m]\n",
      "ScG = viscocity_G/(Density_G*Dg);\n",
      "G = G_prime/Mavg_G;# [kmol/square m.s]\n",
      "\n",
      "# Liquid:\n",
      "L_prime = 2.71;# [kg/square m.s]\n",
      "ScL = viscocity_L/(Density_L*Dl);\n",
      "\n",
      "# Holdup:\n",
      "# From Table 6.5 (Pg 206), L_prime = 2.71 kg/square m.s\n",
      "Ds = 0.0472;# [m]\n",
      "beeta = 1.508*Ds**0.376;\n",
      "shiLsW = 5.014*10**(-5)/Ds**1.56;# [square m/cubic m]\n",
      "shiLtW = (2.32*10**(-6))*(737.5*L_prime)**beeta/(Ds**2);# [square m/cubic m]\n",
      "shiLoW = shiLtW-shiLsW;# [square m/cubic m]\n",
      "H = (1404*(L_prime**0.57)*(viscocity_L**0.13)/((Density_L**0.84)*((3.24*L_prime**0.413)-1)))*(sigma/0.073)**(0.2817-0.262*math.log10(L_prime));\n",
      "shiLo = shiLoW*H;# [square m/cubic m]\n",
      "shiLs = 4.23*10**(-3)*(viscocity_L**0.04)*(sigma**0.55)/((Ds**1.56)*(Density_L**0.37));# [square m/cubic m]\n",
      "shiLt = shiLo+shiLs;# [square m/cubic m]\n",
      "\n",
      "# Interfacial Area:\n",
      "# From Table 6.4 (Pg 205)\n",
      "m = 62.4;\n",
      "n = (0.0240*L_prime)-0.0996;\n",
      "p = -0.1355;\n",
      "aAW = m*((808*G_prime/(Density_G**0.5))**n)*(L_prime**p);# [square m/cubic m]\n",
      "# From Eqn. 6.73\n",
      "aA = aAW*shiLo/shiLoW;# [square m/cubic m]\n",
      "# From Table 6.3 (Pg 196)\n",
      "e = 0.75;\n",
      "# From Eqn. 6.71\n",
      "eLo = e-shiLt;\n",
      "# From Eqn. 6.70\n",
      "def f9(Fg):\n",
      "    return ((Fg*ScG**(2.0/3))/G)-1.195*((Ds*G_prime)/(viscocity_G*(1-eLo)))**(-0.36) \n",
      "Fg = fsolve(f9,1);# [kmol/square m.s]\n",
      "# From Eqn. 6.72:\n",
      "def f10(Kl):\n",
      "    return (Kl*Ds/Dl)-(25.1*(Ds*L_prime/viscocity_L)**0.45)*ScL**0.5\n",
      "Kl = fsolve(f10,1);# [(kmol/square m.s).(kmol/cubic m)]\n",
      "# Since the value of Kl is taken at low conc., it can be converted into Fl\n",
      "c = (Density_L/Mavg_L);# [kmol/cubic m]\n",
      "Fl = Kl*c;# [kmol/cubic m]\n",
      "print\"The volumetric coeffecients are\\n\"\n",
      "print\"Based on Gas Phase \",round(Fg*aA,3),\" kmol/cubic m.s\\n\"\n",
      "print\"based on Liquid Phase\",round(Fl*aA,3),\" kmol/cubic m.s\\n\""
     ],
     "language": "python",
     "metadata": {},
     "outputs": [
      {
       "output_type": "stream",
       "stream": "stdout",
       "text": [
        "Illustration 6.6 - Page: 204\n",
        "\n",
        "\n",
        "The volumetric coeffecients are\n",
        "\n",
        "Based on Gas Phase  0.071  kmol/cubic m.s\n",
        "\n",
        "based on Liquid Phase 0.014  kmol/cubic m.s\n",
        "\n"
       ]
      }
     ],
     "prompt_number": 36
    },
    {
     "cell_type": "heading",
     "level": 2,
     "metadata": {},
     "source": [
      "Ex6.7: Page 207"
     ]
    },
    {
     "cell_type": "code",
     "collapsed": false,
     "input": [
      "\n",
      "\n",
      "# Illustration 6.7\n",
      "# Page: 207\n",
      "\n",
      "print'Illustration 6.7 - Page: 207\\n\\n'\n",
      "\n",
      "# solution\n",
      "from scipy.optimize import fsolve\n",
      "\n",
      "#****Data****#\n",
      "# Air\n",
      "G_prime = 1.10;# [kg/square m.s]\n",
      "viscocity_G = 1.8*10**(-5);# [kg/m.s]\n",
      "ScG = 0.6;# [for air water mixture]\n",
      "Temp1 = 273+20.0;# [K]\n",
      "\n",
      "# Water\n",
      "L_prime = 5.5;# [kg/square m.s]\n",
      "#*****#\n",
      "\n",
      "# Air:\n",
      "Ma = 29.0;# [kg/kmol]\n",
      "G = G_prime/Ma;# [kmol/square m.s]\n",
      "Density_G = (Ma/22.41)*(273.0/Temp1);\n",
      "Cpa = 1005.0;# [N.m/kg.K]\n",
      "PrG = 0.74;\n",
      "\n",
      "# Liquid:\n",
      "kth = 0.587;# [W/m.K]\n",
      "Cpb = 4187.0;# [N.m/kg.K]\n",
      "viscocity_L = 1.14*10**(-3);# [kg/m.s]\n",
      "\n",
      "# From Table 6.5 (Pg 206)\n",
      "Ds = 0.0725;# [m]\n",
      "beeta = 1.508*(Ds**0.376);\n",
      "shiLtW = (2.09*10**(-6))*(737.5*L_prime)**beeta/(Ds**2);# [square m/cubic m]\n",
      "shiLsW = 2.47*10**(-4)/(Ds**1.21);# [square m/cubic m]\n",
      "shiLoW = shiLtW-shiLsW;# [square m/cubic m]\n",
      "# From Table 6.4 (Pg 205)\n",
      "m = 34.03;\n",
      "n = 0.0;\n",
      "p = 0.362;\n",
      "aAW = m*(808.0*G_prime/Density_G**0.5)**(n)*L_prime**p;# [square m/cubic m]\n",
      "# From Eqn. 6.75\n",
      "aVW = 0.85*aAW*shiLtW/shiLoW;# [square m/cubic m]\n",
      "# From Table 6.3\n",
      "e = 0.74;\n",
      "eLo = e-shiLtW;\n",
      "# From Eqn. 6.70\n",
      "def  f11(Fg):\n",
      "    return ((Fg*ScG**(2.0/3))/G)-1.195*((Ds*G_prime)/(viscocity_G*(1-eLo)))**(-0.36)\n",
      "Fg = fsolve(f11,1);# [kmol/square m.s]\n",
      "# Since the liquid is pure water. It has no mass trnsfer coeffecient.\n",
      "# For such process we need convective heat transfer coeffecient for both liquid & gas.\n",
      "# Asuming Jd = Jh\n",
      "# From Eqn. 6.70\n",
      "Jh = 1.195*((Ds*G_prime)/(viscocity_G*(1-eLo)))**(-0.36);\n",
      "Hg = Jh*Cpa*G_prime/(PrG**(2.0/3));# [W/square m.K]\n",
      "PrL = Cpb*viscocity_L/kth;\n",
      "# Heat transfer analog of Eqn. 6.72\n",
      "Hl = 25.1*(kth/Ds)*(Ds*L_prime/viscocity_L)**0.45*PrL**0.5;# [W/square m.K]\n",
      "print\"The volumetric coeffecients are\\n\"\n",
      "print\"Based on Gas Phase \",round(Hg*aVW), \"W/cubic m.K\\n\"\n",
      "print\"based on Liquid Phase\",round(Hl*aVW,2),\" W/cubic m.K\\n\"\n",
      "#the answers are slightly different in textbook due to approximation while here answers are precise"
     ],
     "language": "python",
     "metadata": {},
     "outputs": [
      {
       "output_type": "stream",
       "stream": "stdout",
       "text": [
        "Illustration 6.7 - Page: 207\n",
        "\n",
        "\n",
        "The volumetric coeffecients are\n",
        "\n",
        "Based on Gas Phase  3183.0 W/cubic m.K\n",
        "\n",
        "based on Liquid Phase 503701.46  W/cubic m.K\n",
        "\n"
       ]
      }
     ],
     "prompt_number": 45
    },
    {
     "cell_type": "code",
     "collapsed": false,
     "input": [
      "\n",
      "\n",
      "# Illustration 10.1\n",
      "# Page: 494\n",
      "\n",
      "print'Illustration 10.1 - Page: 494\\n\\n'\n",
      "\n",
      "# solution\n",
      "import matplotlib.pyplot as plt\n",
      "import pylab\n",
      "#****Data****#\n",
      "# a:water b:isopropyl ether c:acetic acid\n",
      "xF = 0.30;# [mol fraction]\n",
      "yS = 0;# [mol fraction]\n",
      "S1 = 40.0;# [kg]\n",
      "B1 = 40.0;# [kg]\n",
      "#*******#\n",
      "\n",
      "# Equilibrium data at 20 OC:\n",
      "# Wa: Wt. percent of a\n",
      "# Wb: Wt. percent of b\n",
      "# Wc: Wt. percent of c\n",
      "# Data1 = [Wc Wa Wb]\n",
      "# Data1: water layer\n",
      "Data1 = numpy.array([(0.69 ,98.1, 1.2),(1.41, 97.1 ,1.5),(2.89 ,95.5 ,1.6),(6.42 ,91.7 ,1.9),(13.30, 84.4, 2.3),(25.50 ,71.1 ,3.4),(36.70 ,58.9 ,4.4),(44.30 ,45.1 ,10.6),(46.40 ,37.1 ,16.5)])\n",
      "# Data2: isopropyl ether layer\n",
      "Data2 = numpy.array([(0.18 ,0.5 ,99.3),(0.37, 0.7 ,98.9),(0.79, 0.8, 98.4),(1.93 ,1, 97.1),(4.82, 1.9, 93.3),(11.40, 3.9, 84.7),(21.60, 6.9, 71.5),(31.10, 10.8, 58.1),(36.20 ,15.1 ,48.7)])\n",
      "\n",
      "plt.plot((Data1[:,2])/100,(Data1[:,0])/100,label=\"x Vs fraction ether\")\n",
      "plt.plot((Data2[:,2])/100,(Data2[:,0])/100,label=\"y Vs fraction ether\")\n",
      "plt.grid('on');\n",
      "plt.legend(loc='lower center');\n",
      "ax=pylab.gca()\n",
      "ax.set_xlabel(\"Wt fraction of isopropyl ether\");\n",
      "ax.set_ylabel(\"Wt fraction of acetic acid\");\n",
      "plt.ylim((0,0.3))\n",
      "plt.xlim((0,1))\n",
      "plt.show();\n",
      "# x: Wt fraction of acetic acid in water layer.\n",
      "# y: Wt fraction of acetic acid in isopropyl layer.\n",
      "\n",
      "# The rectangular coordinates of Fig 10.9(a) will be used but only upto x = 0.30\n",
      "\n",
      "# Stage 1:\n",
      "F = 100;# [kg]\n",
      "# From Eqn. 10.4:\n",
      "M1 = F+S1;# [kg]\n",
      "# From Eqn. 10.5:\n",
      "xM1 = ((F*xF)+(S1*yS))/M1;\n",
      "# From Fig. 10.15 (Pg 495):\n",
      "# Point M1 is located on the line FB and with the help of tie line passing through M1:\n",
      "x1 = 0.258;# [mol fraction]\n",
      "y1 = 0.117;# [mol fraction]\n",
      "# From Eqn. 10.8:\n",
      "E1 = (M1*(xM1-x1)/(y1-x1));# [kg]\n",
      "# From Eqn. 10.4:\n",
      "R1 = M1-E1;# [kg]\n",
      "\n",
      "# Stage 2:\n",
      "S2 = 40;# [kg]\n",
      "B2 = 40;# [kg]\n",
      "# From Eqn. 10.15:\n",
      "M2 = R1+B2;# [kg]\n",
      "# From Eqn. 10.16:\n",
      "xM2 = ((R1*x1)+(S2*yS))/M2;\n",
      "# Point M2 is located on the line R1B and the tie line passing through R2E2 through M2:\n",
      "x2 = 0.227;\n",
      "y2 = 0.095;\n",
      "# From Eqn. 10.8:\n",
      "E2 = (M2*(xM2-x2)/(y2-x2));# [kg]\n",
      "# From Eqn. 10.4:\n",
      "R2 = M2-E2;# [kg]\n",
      "\n",
      "# Stage 3:\n",
      "S3 = 40;# [kg]\n",
      "B3 = 40;# [kg]\n",
      "# From Eqn. 10.15:\n",
      "M3 = R2+B3;# [kg]\n",
      "# From Eqn. 10.16:\n",
      "xM3 = ((R2*x2)+(S3*yS))/M3;\n",
      "# Point M3 is located on the line R2B and the tie line passing through R3E3 through M3:\n",
      "x3 = 0.20;# [mol fraction]\n",
      "y3 = 0.078;# [mol fraction]\n",
      "# From Eqn. 10.8:\n",
      "E3 = (M3*(xM3-x3)/(y3-x3));# [kg]\n",
      "# From Eqn. 10.4:\n",
      "R3 = M3-E3;# [kg]\n",
      "Ac = x3*R3;\n",
      "print\"The composited extract is\",round((E1+E2+E3),2),\" kg\\n\"\n",
      "print\"The acid content is \",round(((E1*y1)+(E2*y2)+(E3*y3)),2),\" kg\\n\"\n",
      "print\"\\n\"\n",
      "\n",
      "# If an extraction to give the same final raffinate concentration were to be done in single stage, the point M would be at the intersection of tie line R3E3 and the line BF.\n",
      "x = 0.20;# [mol fraction]\n",
      "xM = 0.12;# [mol fraction]\n",
      "# From Eqn. 10.6:\n",
      "S = F*(xF-xM)/(xM-yS);# [kg]\n",
      "print round(S,2),\"kg of solvent would be recquired if the same final raffinate concentration were to be obtained with one stage.\\n\""
     ],
     "language": "python",
     "metadata": {},
     "outputs": [
      {
       "output_type": "stream",
       "stream": "stdout",
       "text": [
        "Illustration 10.1 - Page: 494\n",
        "\n",
        "\n"
       ]
      },
      {
       "metadata": {},
       "output_type": "display_data",
       "png": "[encoded data removed]",
       "text": [
        "<matplotlib.figure.Figure at 0x917b748>"
       ]
      },
      {
       "output_type": "stream",
       "stream": "stdout",
       "text": [
        "The composited extract is 135.05  kg\n",
        "\n",
        "The acid content is  13.01  kg\n",
        "\n",
        "\n",
        "\n",
        "150.0 kg of solvent would be recquired if the same final raffinate concentration were to be obtained with one stage.\n",
        "\n"
       ]
      }
     ],
     "prompt_number": 82
    }
   ],
   "metadata": {}
  }
 ]
}