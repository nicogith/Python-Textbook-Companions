{
 "metadata": {
  "name": "",
  "signature": "sha256:a429839b93fda73811b080ddf18c202362ff24ca9ec207904626c7313297633e"
 },
 "nbformat": 3,
 "nbformat_minor": 0,
 "worksheets": [
  {
   "cells": [
    {
     "cell_type": "heading",
     "level": 1,
     "metadata": {},
     "source": [
      "Chapter1 : The Mass-Transfer Operations"
     ]
    },
    {
     "cell_type": "heading",
     "level": 2,
     "metadata": {},
     "source": [
      "Ex1.1: Page 17"
     ]
    },
    {
     "cell_type": "code",
     "collapsed": false,
     "input": [
      "\n",
      "\n",
      "# Illustration 1.1\n",
      "# Page: 17\n",
      "\n",
      "print'Illustration 1.1 - Page: 17\\n\\n'\n",
      "\n",
      "# solution\n",
      "\n",
      "# Taking conversion factor from table 1.5 (Pg 15)\n",
      "# viscosity: [(lb/ft.h)]*4.134*10^(-4) [kg/m.s] (Pg 15)\n",
      "# time: [h] = 3600.0 [s]\n",
      "# Density: [lb/cubic feet]*16.09 = [kg/cubic m] (Pg 15)\n",
      "# Length: [ft]*0.3048 = [m]\n",
      "N = (2.778*10**(-4))*(30600/(1/(0.3048**(3.0/2))))*((1/(4.134*(10**(-4))*16.019))**0.111)*(((1/16.019)/(1/16.019))**0.26);\n",
      "print'The coeffecient for S.I. Unit is',round(N,2)"
     ],
     "language": "python",
     "metadata": {},
     "outputs": [
      {
       "output_type": "stream",
       "stream": "stdout",
       "text": [
        "Illustration 1.1 - Page: 17\n",
        "\n",
        "\n",
        "The coeffecient for S.I. Unit is 2.5\n"
       ]
      }
     ],
     "prompt_number": 3
    },
    {
     "cell_type": "code",
     "collapsed": false,
     "input": [],
     "language": "python",
     "metadata": {},
     "outputs": []
    }
   ],
   "metadata": {}
  }
 ]
}