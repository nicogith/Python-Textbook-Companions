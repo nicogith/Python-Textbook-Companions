{
 "metadata": {
  "name": "",
  "signature": "sha256:648d6196f9fbdd06162570014332196a676f8de89932a2e6d95cd0329cdf5ac2"
 },
 "nbformat": 3,
 "nbformat_minor": 0,
 "worksheets": [
  {
   "cells": [
    {
     "cell_type": "heading",
     "level": 1,
     "metadata": {},
     "source": [
      "Chapter 12: Drying"
     ]
    },
    {
     "cell_type": "heading",
     "level": 2,
     "metadata": {},
     "source": [
      "Ex12.1: Page 660"
     ]
    },
    {
     "cell_type": "code",
     "collapsed": false,
     "input": [
      "\n",
      "\n",
      "# Illustration 12.1\n",
      "# Page: 660\n",
      "\n",
      "print'Illustration 12.1 - Page: 660\\n\\n'\n",
      "\n",
      "# Solution\n",
      "\n",
      "#****Data****#\n",
      "F=1000;# [kg]\n",
      "Xo=0.8;# [wt. fraction water]\n",
      "X1=0.05;# [wt. fraction water]\n",
      "#************#\n",
      "\n",
      "Yo=Xo/(1-Xo);# [kg water/kg dry solid]\n",
      "Y1=X1/(1-X1);# [kg water/kg dry solid]\n",
      "solid=F*(1-X1);# [kg]\n",
      "print\"Moisture to be evaporated: \",solid*(Yo-Y1),\" kg\\n\","
     ],
     "language": "python",
     "metadata": {},
     "outputs": [
      {
       "output_type": "stream",
       "stream": "stdout",
       "text": [
        "Illustration 12.1 - Page: 660\n",
        "\n",
        "\n",
        "Moisture to be evaporated:  3750.0  kg\n"
       ]
      }
     ],
     "prompt_number": 4
    },
    {
     "cell_type": "heading",
     "level": 2,
     "metadata": {},
     "source": [
      "Ex12.2: Page 665"
     ]
    },
    {
     "cell_type": "code",
     "collapsed": false,
     "input": [
      "\n",
      "\n",
      "# Illustration 12.2\n",
      "# Page: 665\n",
      "\n",
      "print'Illustration 12.2 - Page: 665\\n\\n'\n",
      "\n",
      "# Solution\n",
      "\n",
      "# ***Data***#\n",
      "Y1 = 0.05;# [kg water/kg dry air]\n",
      "Yair = 0.01;# [kg water/kg dry air]\n",
      "TempG1 = 95;# [OC]\n",
      "width = 1;# [m]\n",
      "apart = 100.0/1000;# [m]\n",
      "deep = 38.0/1000;# [m]\n",
      "Rate_evaporation=7.5*10**(-3);# [kg/s]\n",
      "#*****************#\n",
      "\n",
      "# From Table 7.1: (Pg 234)\n",
      "vH = (0.00283+(0.00456*Y1))*(TempG1+273);# [cubic m/kg dry air]\n",
      "freeArea = width*(apart-deep)*11;# [square m]\n",
      "# Rate of air flow at 1:\n",
      "Rate_air1 = 3*freeArea/vH;# [square m]\n",
      "Y2 = Y1+(Rate_evaporation/Rate_air1);# [kg water/kg dry air]\n",
      "# Assuming adiabatic drying:\n",
      "# From adiabatic saturation curve, Fig 7.5: (Pg 232)\n",
      "TempG2 = 86.0;# [OC]\n",
      "# Overall Water Balance:\n",
      "G = Rate_evaporation/(Y1-Yair);# [kg dry air/s]\n",
      "# Rate of air flow at 3:\n",
      "Rate_air3 = Rate_air1+G;# [kg dry air/s]\n",
      "# Rate of air flow at 4:\n",
      "Rate_air4 = Rate_air3;# [kg dry air/s]\n",
      "# Volumetric Rate through fan:\n",
      "Rate_fan = Rate_air3/vH;# [cubic m/s]\n",
      "print\"Percentage of air recycled is:\",round((Rate_air1/Rate_air3)*100,2),\"%\\n\",\n",
      "print\"\\n\"\n",
      "\n",
      "# From Fig. 7.5 (page 232):\n",
      "# Saturated enthalpy at adiabatic saturation temp.\n",
      "Enthalpy1 = 233.0;# [kJ/kg dry air]\n",
      "Enthalpy2 = 233.0;# [kJ/kg dry air]\n",
      "# Enthalpy of fresh air:\n",
      "Enthalpy_air = 50.0;# [kJ/kg dry air]\n",
      "# Assuming complete mixing, by Enthalpy mixing:\n",
      "Enthalpy3 = ((Enthalpy1*Rate_air1)+(Enthalpy_air*G))/Rate_air3;# [kJ/kg dry air]\n",
      "Enthalpy4 = Enthalpy3;# [kJ/kg dry air]\n",
      "# From table 7.1: (Pg 234)\n",
      "Temp_dry = ((Enthalpy3*1000.0)-(2502300.0*Y1))/(1005.0+(1884.0*Y1));\n",
      "Power = (Enthalpy2-Enthalpy3)*Rate_air3;# [kW]\n",
      "# From Fig. 7.5, (Pg 232)\n",
      "DewPoint1 = 40.4;# [OC]\n",
      "DewPoint2 = 41.8;# [OC]\n",
      "DewPoint3 = 40.4;# [OC]\n",
      "DewPoint4 = 40.4;# [OC]\n",
      "print\"At Point 1\\n\"\n",
      "print\"Enthalpy of air:\",Enthalpy1,\" kJ/kg dry air\\n\",\n",
      "print\"Dew Point of air: \",DewPoint1,\" degree C\\n\"\n",
      "print\"\\n\"\n",
      "print\"At Point 2\\n\"\n",
      "print\"Enthalpy of air: \",Enthalpy2,\" kJ/kg dry air\\n\"\n",
      "print\"Dew Point of air: \",DewPoint2,\" degree C\\n\"\n",
      "print\"\\n\"\n",
      "print\"At Point 3\\n\"\n",
      "print\"Enthalpy of air: \",Enthalpy3,\" kJ/kg dry air\\n\",\n",
      "print\"Dew Point of air: \",DewPoint3,\" degree C\\n\"\n",
      "print\"\\n\"\n",
      "print\"At Point 4\\n\"\n",
      "print\"Enthalpy of air: \",Enthalpy4,\" kJ/kg dry air\\n\"\n",
      "print\"Dew Point of air: \",DewPoint4,\" degree C\\n\"\n",
      "print\"\\n\"\n",
      "print\"Dry bulb temparature of air: \",Temp_dry,\" OC\\n\"\n",
      "print\"Power delivered by heater: \",Power,\" kW\\n\""
     ],
     "language": "python",
     "metadata": {},
     "outputs": [
      {
       "output_type": "stream",
       "stream": "stdout",
       "text": [
        "Illustration 12.2 - Page: 665\n",
        "\n",
        "\n",
        "Percentage of air recycled is: 90.65 %\n",
        "\n",
        "\n",
        "At Point 1\n",
        "\n",
        "Enthalpy of air: 233.0  kJ/kg dry air\n",
        "Dew Point of air:  40.4  degree C\n",
        "\n",
        "\n",
        "\n",
        "At Point 2\n",
        "\n",
        "Enthalpy of air:  233.0  kJ/kg dry air\n",
        "\n",
        "Dew Point of air:  41.8  degree C\n",
        "\n",
        "\n",
        "\n",
        "At Point 3\n",
        "\n",
        "Enthalpy of air:  215.89174489  kJ/kg dry air\n",
        "Dew Point of air:  40.4  degree C\n",
        "\n",
        "\n",
        "\n",
        "At Point 4\n",
        "\n",
        "Enthalpy of air:  215.89174489  kJ/kg dry air\n",
        "\n",
        "Dew Point of air:  40.4  degree C\n",
        "\n",
        "\n",
        "\n",
        "Dry bulb temparature of air:  82.5843748998  OC\n",
        "\n",
        "Power delivered by heater:  34.3125  kW\n",
        "\n"
       ]
      }
     ],
     "prompt_number": 3
    },
    {
     "cell_type": "heading",
     "level": 2,
     "metadata": {},
     "source": [
      "Ex12.3: Page 671"
     ]
    },
    {
     "cell_type": "code",
     "collapsed": false,
     "input": [
      "\n",
      "\n",
      "# Illustration 12.3\n",
      "# Page: 671\n",
      "\n",
      "print'Illustration 12.3 - Page: 671\\n\\n'\n",
      "\n",
      "# Solution\n",
      "import numpy\n",
      "import matplotlib.pyplot as plt\n",
      "# ***Data***#\n",
      "SsByA = 40;\n",
      "x1 = 0.25;# [moisture fraction]\n",
      "x2 = 0.06;# [moisture fraction]\n",
      "#***********#\n",
      "\n",
      "X1 = x1/(1-x1);# [kg moisture/kg dry solid]\n",
      "X2 = x2/(1-x2);# [kg moisture/kg dry solid]\n",
      "# Fig. 12.10 (Pg 668) indicates that both constant and falling rate periods are involved.\n",
      "\n",
      "# Constant Rate period:\n",
      "# From Fig. 12.10 (Pg 668):\n",
      "Xc = 0.200;# [kg moisture/kg dry solid]\n",
      "Nc = 0.3*10**(-3);# [kg/square m.s]\n",
      "# From Eqn. 12.4:\n",
      "thetha1 = SsByA*(X1-Xc)/Nc;# [s]\n",
      "\n",
      "# Falling Rate Period:\n",
      "# From Fig. 12.10 (Pg 668):\n",
      "# Data=[x N*10^3]\n",
      "Data = numpy.array([[0.2 ,0.3],[0.18 ,0.266],[0.16 ,0.239],[0.14 ,0.208],[0.12, 0.180],[0.10 ,0.150],[0.09 ,0.097],[0.08, 0.070],[0.07 ,0.043],[0.064 ,0.025]]);\n",
      "Val = zeros(10);\n",
      "# Val=[(1/N)*10^(-3)]\n",
      "for i in range(0,10):\n",
      "    Val[i] = 1/Data[i,1];\n",
      "\n",
      "plt.plot(Data[:,0],Val);\n",
      "plt.grid();\n",
      "plt.xlabel(\"x [kg moisture / kg dry solid]\");\n",
      "plt.ylabel(\"10^(-3) / N\");\n",
      "plt.title(\"Graphical Integration Falling Rate Period\");\n",
      "# Area under the curve:\n",
      "Area = 1060.0;\n",
      "# From Eqn. 12.3:\n",
      "thetha2 = SsByA*Area;# [s]\n",
      "thetha = thetha1+thetha2;# [s]\n",
      "print\"Total Drying Time: \",round(thetha/3600,2),\"h\\n\",\n",
      "#the answers are slightly different in textbook due to approximation while here answers are precise"
     ],
     "language": "python",
     "metadata": {},
     "outputs": [
      {
       "output_type": "stream",
       "stream": "stdout",
       "text": [
        "Illustration 12.3 - Page: 671\n",
        "\n",
        "\n",
        "Total Drying Time:  16.72 h\n"
       ]
      },
      {
       "metadata": {},
       "output_type": "display_data",
       "png": "[encoded data removed]",
       "text": [
        "<matplotlib.figure.Figure at 0x7786b00>"
       ]
      }
     ],
     "prompt_number": 9
    },
    {
     "cell_type": "heading",
     "level": 2,
     "metadata": {},
     "source": [
      "Ex12.4: Page 676"
     ]
    },
    {
     "cell_type": "code",
     "collapsed": false,
     "input": [
      "\n",
      "\n",
      "# Illustration 12.4\n",
      "# Page: 676\n",
      "\n",
      "print'Illustration 12.4 - Page: 676\\n\\n'\n",
      "\n",
      "# Solution (a)\n",
      "\n",
      "#***Data***#\n",
      "# For rectangular pan:\n",
      "l = 0.7;# [m]\n",
      "b = 0.7;# [m]\n",
      "zS = 0.025;# [m]\n",
      "zM = 0.0008;# [m]\n",
      "d = 0.1;# [m]\n",
      "Y1 = 0.01;# [kg water/kg dry air]\n",
      "TempG = 65.0;# [OC]\n",
      "v = 3.0;# [m/s]\n",
      "TempR = 120.0;# [OC]\n",
      "#*************#\n",
      "\n",
      "# From Table 7.1: (Pg 234)\n",
      "vH = (0.00283+(0.00456*Y1))*(TempG+273.0);# [cubic m/kg dry air]\n",
      "Density_G = (1+Y1)/vH;# [kg/cubic m]\n",
      "G = v*Density_G;# [kg/square m.s]\n",
      "de = 4*d*l/(2*(l+d));# [m]\n",
      "# From Eqn. 12.20:\n",
      "hc = 5.90*G**0.71/de**0.29;# [W/square m.K]\n",
      "# Assume:\n",
      "e = 0.94;\n",
      "# Estimate:\n",
      "TempS = 38;# [OC]\n",
      "# From Eqn. 12.14:\n",
      "hR = e*5.729*10**(-8)*((273+TempR)**4-(273+TempS)**4)/((273.0+TempR)-(273+TempS));\n",
      "A = l*b;# [square m]\n",
      "Am = A;# [square m]\n",
      "As = 4*l*zS;# [square m]\n",
      "Au = Am+As;# [square m]\n",
      "# Thermal Coductivities:\n",
      "kM = 45;# [W/m.K]\n",
      "kS = 3.5;# [W/m.K]\n",
      "# By Eqn. 12.16:\n",
      "Uk = 1/(((1/hc)*(A/Au))+((zM/kM)*(A/Au))+((zS/kS)*(A/Am)));# [W/squre m.K]\n",
      "# From Table 7.1: (Pg 234)\n",
      "Cs = 1005+(1884*Y1);# [kJ/kg]\n",
      "# At estimated 38 OC\n",
      "lambdaS = 2411.4;# [kJ/kg]\n",
      "# From Eqn. 12.18:\n",
      "# (Ys-Y1)*lambdaS*10^3/Cs = ((1+(Uk/hc))*(TempG-Temps))+((hR/hC)*(TempR-TempS))\n",
      "# On Simplifying:\n",
      "# Ys = 0.0864-(10.194*10**(-4)*TempS)\n",
      "# The eqn. is solved simultaneously with the saturated humidity curve of the psychometric chart for the air water mixture.\n",
      "# From Fig. 12.12: (Pg 677)\n",
      "Ys = 0.0460;# [kg water/kg dry air]\n",
      "TempS = 39;# [OC]\n",
      "# At 39 OC\n",
      "lambdaS = 2409.7;# [kJ/kg]\n",
      "# From Eqn. 12.17:\n",
      "Nc = (((hc+Uk)*(TempG-TempS))+(hR*(TempR-TempS)))/(lambdaS*10**(3));# [kg water evaporated/square m.s]\n",
      "print\"The Evaporation Rate: \",round(Nc*A,8),\" kg/s\\n\"\n",
      "\n",
      "# Solution (b)\n",
      "# When no radiation or conduction of heat through the solid occurs, the drying surface assumes wet bulb temparature of the air.\n",
      "# From Fig. 12.12 (Pg 677)\n",
      "TempS = 28.5;# [OC]\n",
      "Ys = 0.025;# [kg water/kg dry air]\n",
      "lambdaS = 2435;# [kJ/kg]\n",
      "# From Eqn. 12.17:\n",
      "Nc = hc*(TempG-TempS)/(lambdaS*10**3);# [kg/aquare m.s]\n",
      "print\"The Evaporation Rate: \",round(Nc*A,8), \"kg/s\\n\""
     ],
     "language": "python",
     "metadata": {},
     "outputs": [
      {
       "output_type": "stream",
       "stream": "stdout",
       "text": [
        "Illustration 12.4 - Page: 676\n",
        "\n",
        "\n",
        "The Evaporation Rate:  0.0003851  kg/s\n",
        "\n",
        "The Evaporation Rate:  0.00016105 kg/s\n",
        "\n"
       ]
      }
     ],
     "prompt_number": 14
    },
    {
     "cell_type": "heading",
     "level": 2,
     "metadata": {},
     "source": [
      "Ex12.5: Page 684"
     ]
    },
    {
     "cell_type": "code",
     "collapsed": false,
     "input": [
      "\n",
      "\n",
      "# Illustration 12.5\n",
      "# Page: 684\n",
      "\n",
      "print'Illustration 12.5 - Page: 684\\n\\n'\n",
      "\n",
      "# Solution \n",
      "from scipy import integrate\n",
      "import math\n",
      "#***Data***#\n",
      "x1 = 0.025;# [moisture fraction]\n",
      "x2 = 0.001;# [moisture fraction]\n",
      "zS = 0.018;# [m]\n",
      "dp = 2*10**(-4);# [m]\n",
      "Density_S = 1350;# [kg dry solid/cubic m]\n",
      "#***********#\n",
      "\n",
      "X1 = x1/(1-x1);# [kg water/kg dry air]\n",
      "X2 = x2/(1-x2);# [kg water/kg dry air]\n",
      "# From Fig 7.5 (Pg 232)\n",
      "Y1 = 0.0153;# [kg water/kg dry air]\n",
      "Tempas = 24;# [OC]\n",
      "Yas = 0.0190;# [kg water/kg dry air]\n",
      "Gs = 0.24;# [kg dry air/square m.s]\n",
      "Gav = Gs+(Gs*(Y1+Yas)/2.0);# [kg dry air/square m.s]\n",
      "# From Eqn. 12.26:\n",
      "Nmax = Gs*(Yas-Y1);# [kg evaporated/square m.s]\n",
      "viscosity_air = 1.8*10**(-5);# [kg/m.s]\n",
      "X3=lambda X : 1/(Nmax*(1-math.exp(-(0.273/dp**0.35)*((dp*Gav/viscosity_air)**0.215)*(Density_S*zS*X)**0.64)));\n",
      "Value = integrate.quad(X3,X2,X1);\n",
      "# From Eqn. 12.3:\n",
      "thetha = Density_S*zS*Value[0];# [s]\n",
      "print\"The time for drying: \",round(thetha/60,3),\" min\\n\","
     ],
     "language": "python",
     "metadata": {},
     "outputs": [
      {
       "output_type": "stream",
       "stream": "stdout",
       "text": [
        "Illustration 12.5 - Page: 684\n",
        "\n",
        "\n",
        "The time for drying:  12.593  min\n"
       ]
      }
     ],
     "prompt_number": 18
    },
    {
     "cell_type": "heading",
     "level": 2,
     "metadata": {},
     "source": [
      "Ex12.6: Page 685"
     ]
    },
    {
     "cell_type": "code",
     "collapsed": false,
     "input": [
      "\n",
      "\n",
      "# Illustration 12.6\n",
      "# Page: 685\n",
      "\n",
      "print'Illustration 12.6 - Page: 685\\n\\n'\n",
      "\n",
      "# Solution \n",
      "\n",
      "import math\n",
      "#***Data***#\n",
      "Y1 = 0.01;# [kg water/kg dry air]\n",
      "Gs = 1.1;# [kg dry air/square m.s]\n",
      "dia = 13.5/1000;# [m]\n",
      "l = 13.0/1000;# [m]\n",
      "zS = 50.0/1000;# [m]\n",
      "Density_S = 600.0;# [kg dry solid/square m.s]\n",
      "a = 280.0;# [square m/cubic m]\n",
      "#************#\n",
      "\n",
      "# From Fig 7.5 (Pg 232)\n",
      "Yas = 0.031;# [kg water/kg dry air]\n",
      "Gav = Gs+(Gs*(Y1+Yas)/2.0);# [kg/square m.s]\n",
      "viscosity_air = 1.9*10**(-5);# [kg/m.s]\n",
      "Area = (2.0*math.pi*dia**2.0/4)+(math.pi*dia*l);# [square m]\n",
      "dp = (Area/math.pi)**0.5;# [m]\n",
      "# From Table 3.3 (Pg 74)\n",
      "Re = dp*Gav/viscosity_air;\n",
      "e = 1.0-(dp*a/6);# [fraction voids]\n",
      "jD = (2.06/e)*Re**(-0.575);\n",
      "# For air water mixture:\n",
      "Sc = 0.6;\n",
      "# From Eqn. 12.33:\n",
      "kY = jD*Gs/Sc**(2.0/3);# [kg H2O/square m.s.deltaX]\n",
      "# From Eqn. 12.30:\n",
      "NtG = kY*a*zS/Gs;\n",
      "# From Eqn. 12.25:\n",
      "Nmax = Gs*(Yas-Y1);# [kg/square m.s]\n",
      "# From Eqn. 12.31:\n",
      "N = Nmax*(1-math.exp(-NtG));# [kg water evaporated/square m.s]\n",
      "Y2 = (Yas-Y1)*(N/Nmax)+Y1;# [kg water/kg dry air]\n",
      "# From Fig 7.5 (Pg 232)\n",
      "Tempas = 33.0;# [OC]\n",
      "# From eqn. 12.2:\n",
      "Rate = N/(Density_S*zS);# [kg H2O/(kg dry solid).s]\n",
      "print\"Humidity of the exit air: \",round(Y2,4),\" kg water/kg dry air\\n\"\n",
      "print\"Temparature of exit air: \",Tempas,\" degree C\\n\"\n",
      "print\"Rate of Drying: \",round(Rate,7),\" kg H2O/(kg dry solid).s\\n\""
     ],
     "language": "python",
     "metadata": {},
     "outputs": [
      {
       "output_type": "stream",
       "stream": "stdout",
       "text": [
        "Illustration 12.6 - Page: 685\n",
        "\n",
        "\n",
        "Humidity of the exit air:  0.0302  kg water/kg dry air\n",
        "\n",
        "Temparature of exit air:  33.0  degree C\n",
        "\n",
        "Rate of Drying:  0.0007409  kg H2O/(kg dry solid).s\n",
        "\n"
       ]
      }
     ],
     "prompt_number": 26
    },
    {
     "cell_type": "heading",
     "level": 2,
     "metadata": {},
     "source": [
      "Ex12.7: Page 700"
     ]
    },
    {
     "cell_type": "code",
     "collapsed": false,
     "input": [
      "\n",
      "\n",
      "# Illustration 12.7\n",
      "# Page: 700\n",
      "\n",
      "print'Illustration 12.7 - Page: 700\\n\\n'\n",
      "\n",
      "# Solution \n",
      "\n",
      "import math\n",
      "from numpy.linalg import inv\n",
      "#***Data***#\n",
      "x1 = 3.5;# [percent moisture]\n",
      "x2 = 0.2;# [percent moisture]\n",
      "dia = 1.2;# [m]\n",
      "l = 6.7;# [m]\n",
      "Rate_prod = 900.0;# [kg/h]\n",
      "y2 = 0.5;# [Humidity]\n",
      "TempG2 = 90.0;# [OC]\n",
      "TempG1 = 32.0;# [OC]\n",
      "TempS1 = 25.0;# [OC]\n",
      "TempS2 = 60.0;# [OC]\n",
      "#***********#\n",
      "\n",
      "X1 = x1/(100.0-x1);# [kg H2O/kg dry solid]\n",
      "X2 = x2/(100.0-x2);# [kg H2O/kg dry solid]\n",
      "Ss = Rate_prod*(1-X2);# [kg dry solid/h]\n",
      "Rate_drying = Ss*(X1-X2);# [kg water evaporated/h]\n",
      "Y2 = (y2/(1-y2))/100.0;# [kg water/kg dry air]\n",
      "Tempo = 0.0;# [Base temp,OC]\n",
      "# From Table 7.1: (Pg 234)\n",
      "# Enthalpy of air entering the drier:\n",
      "HG2 = (1005.0+(1884.0*Y2))*(TempG2-Tempo)+(2502300.0*Y2);# [J/kg dry air]\n",
      "# For the outlet air:\n",
      "# HG1 = (1005.0+(1884*Y1))*(TempG1-Tempo)+(2502300*Y1); [J/kg dry air]\n",
      "# HG1 = (1005.0*TempG1)+((1884+TempG1)+2502300)*Y1; [J/kg dry air]\n",
      "CsNH4 = 1507.0;# [J/kg.K]\n",
      "CsH2O = 4187.0;# [J/kg.K]\n",
      "# From Eqn. 11.45:\n",
      "HS2 = CsNH4*(TempS2-Tempo)+(X2*CsH2O*(TempS2-Tempo));# [J/kg dry air]\n",
      "HS1 = CsNH4*(TempS1-Tempo)+(X1*CsH2O*(TempS1-Tempo));# [J/kg dry air]\n",
      "# The estimated combined natural convection and radiation heat transfer coeffecient from the drier to the surrounding:\n",
      "h = 12.0;# [W/square m.K]\n",
      "deltaTemp = ((TempG2-TempS1)+(TempG1-TempS1))/2;# [OC]\n",
      "Ae = math.pi*dia*l;# [square m]\n",
      "Q = h*3600.0*Ae*deltaTemp;# [kJ/h]\n",
      "# Moisture Balance, Eqn. 12.39:\n",
      "# Ss*(X1-X2) = Gs(Y1-Y2)\n",
      "# (Gs*Y1)-(Gs*Y2) = (Ss*(X1-X2)) ........(1)\n",
      "# Enthalapy Balance, Eqn. 12.40:\n",
      "# (Ss*HS1)+(Gs*HG2) = (Ss*HG2)+(Gs*HG1)+Q \n",
      "# Gs*(HG2-HG1) = (Ss*HS2)+Q-(Ss*HS1)\n",
      "# Gs*(HG2-((1005*TempG1)+((1884+TempG1)+2502300)*Y1)) = (Ss*HS2)+Q-(Ss*HS1)\n",
      "# Gs*(HG2-(1005*TempG1))-(Gs*Y1*((1884+TempG1)+2502300)) = (Ss*HS2)+Q-(Ss*HS1)........ (2)\n",
      "# Solving Simultaneously:\n",
      "a = numpy.array([[HG2-(1005.0*TempG1),-((1884.0+TempG1)+2502300.0)],[(-Y2), 1.0]]);\n",
      "b = numpy.array([[((Ss*HS2)+Q-(Ss*HS1))],[(Ss*(X1-X2))]]);\n",
      "c=inv(a)\n",
      "soln =np.dot(c, b)\n",
      "Gs = soln[0];# [kg dry air/h]\n",
      "Y1 = soln[1]/soln[0];# [kg water/kg dry air]\n",
      "# From Fig. 7.5 (Pg 232)\n",
      "Enthalpy_air = 56.0;# [kJ/kg dry air]\n",
      "HeatLoad = Gs*(HG2-Enthalpy_air*1000);# [W]\n",
      "print\"Air Flow Rate: \",round(Gs,2),\" kg/h\\n\"\n",
      "print\"Moisture content of air: \",round(Y1,2),\" kg water/kg dry air \\n\"\n",
      "print\"Heat Load of drier: \",round(HeatLoad/1000),\" kW\"\n",
      "#the answers are slightly different in textbook due to approximation while here answers are precise"
     ],
     "language": "python",
     "metadata": {},
     "outputs": [
      {
       "output_type": "stream",
       "stream": "stdout",
       "text": [
        "Illustration 12.7 - Page: 700\n",
        "\n",
        "\n",
        "Air Flow Rate:  2681.03  kg/h\n",
        "\n",
        "Moisture content of air:  0.02  kg water/kg dry air \n",
        "\n",
        "Heat Load of drier:  163995.0  kW\n"
       ]
      }
     ],
     "prompt_number": 50
    },
    {
     "cell_type": "heading",
     "level": 2,
     "metadata": {},
     "source": [
      "Ex12.8: Page 705"
     ]
    },
    {
     "cell_type": "code",
     "collapsed": false,
     "input": [
      "\n",
      "\n",
      "# Illustration 12.8\n",
      "# Page: 705\n",
      "\n",
      "print'Illustration 12.8 - Page: 705\\n\\n'\n",
      "\n",
      "# Solution \n",
      "from scipy.optimize import fsolve\n",
      "import math\n",
      "from numpy.linalg import inv\n",
      "import numpy as np\n",
      "#***Data***#\n",
      "x1 = 8.0;# [percent moisture]\n",
      "x2 = 0.5;# [percent moisture]\n",
      "Rate_prod = 0.63;# [kg/s]\n",
      "# Drying Gas:\n",
      "xCO2 = 0.025;# [mole fraction]\n",
      "xO2 = 0.147;# [mole fraction]\n",
      "xN2 = 0.760;# [mole fraction]\n",
      "xH2O = 0.068;# [mole fraction]\n",
      "TempG2 = 480.0;# [OC]\n",
      "Cs = 0.837;# [kJ/kg.K]\n",
      "Temp1 = 27.0;# [OC]\n",
      "Temp2 = 150.0;# [OC]\n",
      "dp = 200.0*10**(-6);# [m]\n",
      "Density_S = 1300.0;# [kg/cubic m]\n",
      "#***********#\n",
      "\n",
      "X1 = x1/(100-x1);# [kg water/kg dry solid]\n",
      "X2 = x2/(100-x2);# [kg water/kg dry solid]\n",
      "Ss = Rate_prod*(1-X2);# [kg dry solid/s]\n",
      "Water_evap = Ss*(X1-X2);# [kg/s]\n",
      "# Basis: 1 kmol of dry gas:\n",
      "xDry = 1.0-xH2O;# [kmol]\n",
      "XCO2 = 44.0*xCO2;# [kg]\n",
      "XO2 = 32.0*xO2;# [kg]\n",
      "XN2 = 28.0*xN2;# [kg]\n",
      "Xdry = XCO2+XO2+XN2;# [kg]\n",
      "cCO2 = 45.6;# [kJ/kmol.K]\n",
      "cO2 = 29.9;# [kJ/kmol.K]\n",
      "cN2 = 29.9;# [kJ/kmol.K]\n",
      "cH2O = 4.187;# [kJ/kg.K]\n",
      "Mav = Xdry/xDry;# [kg/kmol]\n",
      "Y2 = xH2O*18.02/(xDry*Mav);# [kg water/kg dry gas]\n",
      "cav = ((xCO2*cCO2)+(xO2*cO2)+(xN2*cN2))/(xDry*Mav);# [kJ/kmol.K]\n",
      "# Assume:\n",
      "TempG1 = 120.0;# [OC]\n",
      "cDry = 1.005;# [kJ/kmol.K]\n",
      "Tempo = 0;# [Base Temp,OC]\n",
      "# By Eqn. 7.13:\n",
      "HG2 = (cav+(1.97*Y2))*(TempG2-Tempo)+(2502.3*Y2);# [kJ/kg dry air]\n",
      "# For the outlet air:\n",
      "# HG1 = (1.005+(1.884*Y1))*(TempG1-Tempo)+(2502.3*Y1); [kJ/kg dry air]\n",
      "# HG1 = (1.005*TempG1)+((1.884+TempG1)+2502.3)*Y1; [kJ/kg dry air]\n",
      "# By Eqn. 11.45:\n",
      "HS1 = (Cs*(Temp1-Tempo))+(cH2O*X1*(Temp1-Tempo));# [kJ/kg dry air]\n",
      "HS2 = (Cs*(Temp2-Tempo))+(cH2O*X2*(Temp2-Tempo));# [kJ/kg dry air]\n",
      "# Q = 0.15*HG2*Gs; [kJ/s]\n",
      "# Moisture Balance, Eqn. 12.39:\n",
      "# Ss*(X1-X2) = Gs(Y1-Y2)\n",
      "# (Gs*Y1)-(Gs*Y2) = (Ss*(X1-X2)) ........(1)\n",
      "# Enthalapy Balance, Eqn. 12.40:\n",
      "# (Ss*HS1)+(Gs*HG2) = (Ss*HG2)+(Gs*HG1)+Q \n",
      "# Gs*(HG2-HG1) = (Ss*HS2)+(0.15*HG2*Gs)-(Ss*HS1)\n",
      "# Gs*(HG2-(0.15*HG2)-((1.005*TempG1)+((1.884+TempG1)+2502.3)*Y1)) = (Ss*HS2)+Q-(Ss*HS1)\n",
      "# Gs*(HG2-(0.15*HG2)-(1.005*TempG1))-(Gs*Y1*((1.884+TempG1)+2502.3)) = (Ss*HS2)+Q-(Ss*HS1)........ (2)\n",
      "a = np.array([[(HG2-(0.15*HG2)-(1.005*TempG1)),-((1.884+TempG1)+2502.3)],[(-Y2), 1.0]]);\n",
      "b = np.array([(Ss*HS2)-(Ss*HS1),(Ss*(X1-X2))]);\n",
      "c=inv(a)\n",
      "soln = np.dot(c, b)\n",
      "Gs = soln[0];# [kg dry air/s]\n",
      "Y1 = soln[1]/soln[0];# [kg water/kg dry gas]\n",
      "HG1 = (1.005+(1.884*Y1))*(TempG1-Tempo)+(2502.3*Y1);# [kJ/kg dry air]\n",
      "Q = 0.15*HG2*Gs;# [kJ/s]\n",
      "# Assuming the sychrometric ratio of the gas as same as that of air:\n",
      "# For Zone II:\n",
      "Tempw = 65.0;# [OC]\n",
      "Temp_A = 68.0;# [OC]\n",
      "# At point A, Fig. 12.28 (Pg 702)\n",
      "Enthalpy_A = Cs*(Temp_A-Tempo)+(X1*cH2O*(Temp_A-Tempo));# [kJ/kg dry air]\n",
      "# At point B, Fig. 12.28 (Pg 702)\n",
      "Temp_B = Temp_A;# [OC]\n",
      "Enthalpy_B = Cs*(Temp_B-Tempo)+(X2*cH2O*(Temp_B-Tempo));# [kJ/kg dry air]\n",
      "\n",
      "# Assuming that the heat losses in the three zones are propotional to the number of transfer units in each zone and to the average temp. difference between the gas and the surrounding air.\n",
      "# Fractional heat loss in each Zone:\n",
      "fr1 = 0.14;\n",
      "fr2 = 0.65;\n",
      "fr3 = 0.20;\n",
      "# Calculations for zone III:\n",
      "Cs3 = cav+(1.97*Y2);# [kJ/(kg dry gas).K]\n",
      "# Heat balance:\n",
      "def f1(TempGD):\n",
      "    return (Gs*Cs3*(TempG2-TempGD))-(Ss*(HS2-Enthalpy_B)+(fr3*Q))\n",
      "TempGD = fsolve(f1,7);# [OC]\n",
      "delta_TempG = Ss*(HS2-Enthalpy_B)/(Gs*Cs3);# [OC]\n",
      "delta_TempM = ((TempG2-Temp2)+(TempGD-Temp_A))/2;# [OC]\n",
      "NtoG3 = delta_TempG/delta_TempM;\n",
      "\n",
      "# Calculations for zone I:\n",
      "Cs1 = 1.005+(1.884*Y1);# [kJ/(kg dry gas).K]\n",
      "# Heat balance:\n",
      "def f2(TempGC):\n",
      "    return (Gs*Cs1*(TempGC-TempG1))-(Ss*(Enthalpy_A-HS1)+(fr1*Q))\n",
      "TempGC = fsolve(f2,7);# [OC]\n",
      "delta_TempG = Ss*(Enthalpy_A-HS1)/(Gs*Cs1);# [OC]\n",
      "delta_TempM = ((TempGC-Temp_A)+(TempG1-Temp1))/2;# [OC]\n",
      "NtoG1 = delta_TempG/delta_TempM;\n",
      "\n",
      "# Calculations for zone II:\n",
      "Cs2 = (cav+Cs1)/2.0;# [kJ/(kg dry gas).K]\n",
      "# Heat balance:\n",
      "True_deltaTemp = TempGD-TempGC;# [OC]\n",
      "delta_Temp = fr2*Q/(Cs1*Gs);# [Change in temp resulting from heat loss,OC]\n",
      "delta_TempG = True_deltaTemp-delta_Temp;# [OC]\n",
      "delta_TempM = ((TempGD-Temp_A)-(TempGC-Temp_A))/log((TempGD-Temp_A)/(TempGC-Temp_A));# [OC]\n",
      "NtoG2 = delta_TempG/delta_TempM;\n",
      "\n",
      "NtoG = NtoG1+NtoG2+NtoG3;\n",
      "\n",
      "# Standard diameters are availaible at 1, 1.2 & 1.4 m.\n",
      "Td = 1.2;# [m]\n",
      "Area = math.pi*Td**2.0/4;# [square m]\n",
      "Gs = Gs/Area;# [kg/square m.s]\n",
      "Ss = Ss/Area;# [kg/square m.s]\n",
      "Gav = Gs*(1+(Y1+Y2)/2.0);# [kg/square m.s]\n",
      "# From Eqn. 12.47:\n",
      "Ua = 237.0*Gav**0.417/Td;# [W/square m.K]\n",
      "HtoG = Gs*Cs2*1000.0/Ua;# [m]\n",
      "Z = NtoG*HtoG;# [m]\n",
      "# Assume:\n",
      "v = 0.35;# [m/s]\n",
      "N = v/(math.pi*Td);# [1/s]\n",
      "# From Eqn. 12.37:\n",
      "K = 0.6085/(Density_S*dp**(1.0/2));\n",
      "# Take:\n",
      "phi_D = 0.05;\n",
      "# From Eqn. 12.35:\n",
      "phi_DO = phi_D-(K*Gav);\n",
      "# From Eqn. 12.35:\n",
      "s = 0.3344*Ss/(phi_DO*Density_S*N**0.9*Td);# [m/s]\n",
      "print\"Height of the drier: \",round(Z,2),\" m\\n\"\n",
      "print\"Drier Slope: \",round(s,5),\" m/m \\n\","
     ],
     "language": "python",
     "metadata": {},
     "outputs": [
      {
       "output_type": "stream",
       "stream": "stdout",
       "text": [
        "Illustration 12.8 - Page: 705\n",
        "\n",
        "\n",
        "Height of the drier:  5.89  m\n",
        "\n",
        "Drier Slope:  0.03304  m/m \n"
       ]
      }
     ],
     "prompt_number": 56
    },
    {
     "cell_type": "heading",
     "level": 2,
     "metadata": {},
     "source": [
      "Ex12.9: Page 709"
     ]
    },
    {
     "cell_type": "code",
     "collapsed": false,
     "input": [
      "\n",
      "\n",
      "# Illustration 12.9\n",
      "# Page: 709\n",
      "\n",
      "print'Illustration 12.9 - Page: 709\\n\\n'\n",
      "import numpy as np\n",
      "from scipy.optimize import fsolve\n",
      "import matplotlib.pyplot as plt\n",
      "# Solution \n",
      "\n",
      "#***Data***#\n",
      "x1 = 0.46;# [fraction moisture]\n",
      "x2 = 0.085;# [fraction moisture]\n",
      "Y1 = 0.08;# [kg water/kg dry solid]\n",
      "Y2 = 0.03;# [kg water/kg dry solid]\n",
      "G = 1.36;# [kg/square m.s]\n",
      "#**********#\n",
      "\n",
      "X1 = x1/(1-x1);# [kg water/kg dry solid]\n",
      "X2 = x2/(1-x2);# [kg water/kg dry solid]\n",
      "# By water balance:\n",
      "SsByGs = (Y1-Y2)/(X1-X2);# [kg dry solid/kg air]\n",
      "# Since the initial moisture content of the rayon is less than the critical, drying takes place entirely within zone III.\n",
      "# Comparing with Eqn. 12.22:\n",
      "# (kY*A/(Ss(Xc-X*)))=0.0137*G**1.47\n",
      "# thetha=integrate('(1/(0.0137*G**1.47))*(1/((X-X_star)*(Yw-Y)))','X',X2,X1) # [s]\n",
      "X = np.array([X1, 0.80, 0.60, 0.40, 0.20 ,X2]);# [kg water/kg dry solid]\n",
      "Y = zeros(6);\n",
      "for i in range(0,6):\n",
      "   # From Eqn. 12.54:\n",
      "   Y[i] = Y2+((X[i]-X2)*SsByGs);# [kg water/kg dry gas]\n",
      "\n",
      "# From Fig. 7.5 (Pg 232):\n",
      "Yw = np.array([0.0950, 0.0920, 0.0790, 0.0680, 0.0550, 0.0490]);# [kg water/kg dry gas]\n",
      "X_star = zeros(6);\n",
      "RH=zeros(6)\n",
      "Val = zeros(6);\n",
      "P = 51780.0;# [vapour pressure, kN/square m]\n",
      "for i in range(0,6):\n",
      "    # From Eqn 7.8:\n",
      "    def f(p):\n",
      "         return Y[i]-((p/(101330.0-p))*(18.0/29))\n",
      "    p = fsolve(f,7);# [kN/square m]\n",
      "    RH[i] = (p/P)*100.0;\n",
      "    X_star[i] = (RH[i]/4)/(100.0-(RH[i]/4));# [kg water/kg dry solid]\n",
      "    Val[i] = 1/((X[i]-X_star[i])*(Yw[i]-Y[i]));\n",
      "\n",
      "plt.plot(X,Val);\n",
      "plt.grid();\n",
      "plt.xlabel(\"X kg water/kg dry solid\");\n",
      "plt.ylabel(\"1/((X-X*)*(Yw-Y))\");\n",
      "plt.title(\"Graphical Integration\");\n",
      "plt.show()\n",
      "# Area Under the curve:\n",
      "Area = 151.6;\n",
      "# From Eqn. 12.59:\n",
      "thetha = Area/(0.0137*G**1.47);\n",
      "print\"Time required for drying: \",round(thetha/3600,2),\" h\\n\""
     ],
     "language": "python",
     "metadata": {},
     "outputs": [
      {
       "output_type": "stream",
       "stream": "stdout",
       "text": [
        "Illustration 12.9 - Page: 709\n",
        "\n",
        "\n"
       ]
      },
      {
       "metadata": {},
       "output_type": "display_data",
       "png": "[encoded data removed]",
       "text": [
        "<matplotlib.figure.Figure at 0x7a843c8>"
       ]
      },
      {
       "output_type": "stream",
       "stream": "stdout",
       "text": [
        "Time required for drying:  1.96  h\n",
        "\n"
       ]
      }
     ],
     "prompt_number": 66
    }
   ],
   "metadata": {}
  }
 ]
}