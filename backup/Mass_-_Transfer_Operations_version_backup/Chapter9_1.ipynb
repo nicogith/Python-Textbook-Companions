{
 "metadata": {
  "name": "",
  "signature": "sha256:1356f02f4e266983d4e000fdec653dca9388627dd3d49506786471d71b9d02b6"
 },
 "nbformat": 3,
 "nbformat_minor": 0,
 "worksheets": [
  {
   "cells": [
    {
     "cell_type": "heading",
     "level": 1,
     "metadata": {},
     "source": [
      "Chapter 9: Distillation"
     ]
    },
    {
     "cell_type": "heading",
     "level": 2,
     "metadata": {},
     "source": [
      "Ex9.1: Page 349"
     ]
    },
    {
     "cell_type": "code",
     "collapsed": false,
     "input": [
      "\n",
      "\n",
      "# Illustration 9.1\n",
      "# Page: 349\n",
      "\n",
      "print'Illustration 9.1 - Page: 349\\n\\n'\n",
      "\n",
      "# solution\n",
      "import numpy\n",
      "#****Data****#\n",
      "# a:n-heptane b:n-octane\n",
      "Pt = 760; # [mm Hg]\n",
      "#*****#\n",
      "\n",
      "Tempa = 98.4;# [boiling point of A,OC]\n",
      "Tempb = 125.6;# [boiling point of B,OC]\n",
      "x = numpy.zeros(6);\n",
      "y_star = numpy.zeros(6);\n",
      "alpha = numpy.zeros(6);\n",
      "# Data =  [Temp Pa (mm Hg) Pb(mm Hg)]\n",
      "Data = [(98.4, 760.0, 333.0),(105.0 ,940.0, 417.0),(110.0, 1050.0, 484.0),(115.0, 1200.0, 561.0),(120.0, 1350.0, 650.0),(125.6 ,1540.0, 760.0)];\n",
      "for i in range(0,6): \n",
      "    x[i] = (Pt-Data[i][2])/(Data[i][1]-Data[i][2]);# [mole fraction of heptane in liquid]\n",
      "    y_star[i] = (Data[i][1]/Pt)*x[i];\n",
      "    alpha[i] = Data[i][1]/Data[i][2];\n",
      "\n",
      "print\"\\t\\t T(OC)\\t\\t\\t\\t Pa(mm Hg)\\t\\t\\t\\t\\t\\t\\t Pb(mm Hg)\\t\\t\\t\\t\\t\\t\\t\\t x\\t\\t\\t\\t\\t\\t\\t\\t\\t\\t\\t y*\\t\\t\\t\\t\\t\\t\\t\\t\\t alpha\\n\"\n",
      "for i  in range(0,6):\n",
      "    print \"\\t \\t \",Data[i][0],\"\\t \\t \\t \\t\",Data[i][1],\"\\t \\t \\t \\t\",Data[i][2],\"\\t \\t \\t \\t \",round(x[i],3),\"\\t \\t \\t \\t \",round(y_star[i],3),\"\\t\\t\\t\\t\\t\\t\\t\\t\",round(alpha[i],2)"
     ],
     "language": "python",
     "metadata": {},
     "outputs": [
      {
       "output_type": "stream",
       "stream": "stdout",
       "text": [
        "Illustration 9.1 - Page: 349\n",
        "\n",
        "\n",
        "\t\t T(OC)\t\t\t\t Pa(mm Hg)\t\t\t\t\t\t\t Pb(mm Hg)\t\t\t\t\t\t\t\t x\t\t\t\t\t\t\t\t\t\t\t y*\t\t\t\t\t\t\t\t\t alpha\n",
        "\n",
        "\t \t  98.4 \t \t \t \t760.0 \t \t \t \t333.0 \t \t \t \t  1.0 \t \t \t \t  1.0 \t\t\t\t\t\t\t\t2.28\n",
        "\t \t  105.0 \t \t \t \t940.0 \t \t \t \t417.0 \t \t \t \t  0.656 \t \t \t \t  0.811 \t\t\t\t\t\t\t\t2.25\n",
        "\t \t  110.0 \t \t \t \t1050.0 \t \t \t \t484.0 \t \t \t \t  0.488 \t \t \t \t  0.674 \t\t\t\t\t\t\t\t2.17\n",
        "\t \t  115.0 \t \t \t \t1200.0 \t \t \t \t561.0 \t \t \t \t  0.311 \t \t \t \t  0.492 \t\t\t\t\t\t\t\t2.14\n",
        "\t \t  120.0 \t \t \t \t1350.0 \t \t \t \t650.0 \t \t \t \t  0.157 \t \t \t \t  0.279 \t\t\t\t\t\t\t\t2.08\n",
        "\t \t  125.6 \t \t \t \t1540.0 \t \t \t \t760.0 \t \t \t \t  0.0 \t \t \t \t  0.0 \t\t\t\t\t\t\t\t2.03\n"
       ]
      }
     ],
     "prompt_number": 70
    },
    {
     "cell_type": "heading",
     "level": 2,
     "metadata": {},
     "source": [
      "Ex9.2: Page 354"
     ]
    },
    {
     "cell_type": "code",
     "collapsed": false,
     "input": [
      "\n",
      "\n",
      "# Illustration 9.2\n",
      "# Page: 354\n",
      "\n",
      "print'Illustration 9.2 - Page: 354\\n\\n'\n",
      "\n",
      "# solution\n",
      "\n",
      "#****Data****#\n",
      "# a:water b:ethylaniline\n",
      "Pt = 760.0; # [mm Hg]\n",
      "ma1 = 50.0;# [g]\n",
      "mb1 = 50.0;# [g]\n",
      "#*******#\n",
      "\n",
      "# Data =  [Temp Pa(mm Hg) Pb(mm Hg)]\n",
      "Data = [(38.5, 51.1 ,1.0),(64.4 ,199.7, 5.0),(80.6 ,363.9 ,10.0),(96.0, 657.6, 20.0),(99.15 ,737.2 ,22.8),(113.2, 1225.0, 40.0)];\n",
      "Ma = 18.02;# [kg/kmol]\n",
      "Mb = 121.1;# [kg/kmol]\n",
      "\n",
      "for i in range(0,6):\n",
      "    p = Data[i][1]+Data[i][2];\n",
      "    if p==Pt:\n",
      "        pa = Data[4][1];# [mm Hg]\n",
      "        pb = Data[i][2];# [mm Hg]\n",
      "        T = Data[i][0];# [OC]\n",
      "    \n",
      "\n",
      "ya_star = pa/Pt;\n",
      "yb_star = pb/Pt;\n",
      "ya1 = ma1/Ma;# [g mol water]\n",
      "yb1 = mb1/Mb;# [g mol ethylalinine]\n",
      "Y = ya1*(yb_star/ya_star);# [g mol ethylalinine]\n",
      "print\"The original mixture contained\",round(ya1,2),\"g mol water and \",round(yb1,2),\" g mol ethylanaline\\n\"\n",
      "print\"The mixture will continue to boil at \",T,\" degree C, where the equilibrium vapour of the indicated composition,until all the water evaporated together with \",round(Y,3),\"g mol ethylaniline\\n\"\n",
      "print\"The temparature will then rise to 204 degree C, and the equilibrium vapour will be of pure ethylanaline\""
     ],
     "language": "python",
     "metadata": {},
     "outputs": [
      {
       "output_type": "stream",
       "stream": "stdout",
       "text": [
        "Illustration 9.2 - Page: 354\n",
        "\n",
        "\n",
        "The original mixture contained 2.77 g mol water and  0.41  g mol ethylanaline\n",
        "\n",
        "The mixture will continue to boil at  99.15  degree C, where the equilibrium vapour of the indicated composition,until all the water evaporated together with  0.086 g mol ethylaniline\n",
        "\n",
        "The temparature will then rise to 204 degree C, and the equilibrium vapour will be of pure ethylanaline\n"
       ]
      }
     ],
     "prompt_number": 71
    },
    {
     "cell_type": "heading",
     "level": 2,
     "metadata": {},
     "source": [
      "Ex9.3: Page 362"
     ]
    },
    {
     "cell_type": "code",
     "collapsed": false,
     "input": [
      "\n",
      "\n",
      "# Illustration 9.3\n",
      "# Page: 362\n",
      "\n",
      "print'Illustration 9.3 - Page: 362\\n\\n'\n",
      "import numpy\n",
      "# solution\n",
      "\n",
      "#****Data****#\n",
      "# a:n-C3H8 b:n-C4H10 c:n-C5H12 d:n-C6H14\n",
      "# Bubble Point Calculation\n",
      "xa = 0.05;\n",
      "xb = 0.30;\n",
      "xc = 0.40;\n",
      "xd = 0.25;\n",
      "P = 350;# [kN/square m]\n",
      "#******#\n",
      "\n",
      "# Assume:\n",
      "Temp = 60;# [OC]\n",
      "x = [0.05, 0.30, 0.40, 0.25];\n",
      "m = [4.70, 1.70 ,0.62 ,0.25];# [At 60 OC]\n",
      "# Reference: C5H12\n",
      "mref = m[3];\n",
      "Sum = 0;\n",
      "alpha = numpy.zeros(4)\n",
      "alpha_x = numpy.zeros(4);\n",
      "for i in  range(0,4):\n",
      "    alpha[i] = m[i]/m[3];\n",
      "    alpha_x[i] = alpha[i]*x[i];\n",
      "    Sum = Sum+alpha_x[i];\n",
      "\n",
      "# From Eqn. 9.23:\n",
      "SumF = Sum;\n",
      "Sum = 0;\n",
      "mref = 1/SumF;\n",
      "# Corresponding Temparature from the nomograph:\n",
      "Temp = 56.8;# [OC]\n",
      "m = [4.60, 1.60, 0.588, 0.235];# [At 56.8 OC]\n",
      "for i in  range(0,4):\n",
      "    alpha[i] = m[i]/m[2];\n",
      "    alpha_x[i] = alpha[i]*x[i];\n",
      "    Sum = Sum+alpha_x[i];\n",
      "\n",
      "SumF = Sum;\n",
      "mref = 1/SumF;\n",
      "#  Corresponding Temparature from the nomograph:\n",
      "Temp = 56.7;# [OC]\n",
      "Bt = 56.8;# [OC]\n",
      "yi = numpy.zeros(4);\n",
      "for i in range(0,4):\n",
      "    yi[i] = alpha_x[i]/Sum;\n",
      "\n",
      "print\"The Bubble Point is \",Bt,\" degree C\\n\"\n",
      "print\"Bubble point vapour composition \\n\"\n",
      "print\"\\t   yi\\n\";\n",
      "print\"\\n n-C3\\t \",round(yi[0],3)\n",
      "print\"\\n n-C4\\t \",round(yi[1],3)\n",
      "print\"\\n n-C5\\t \",round(yi[2],3)\n",
      "print\"\\n n-C6\\t \",round(yi[3],3)\n",
      "\n",
      "print\"\\n \\n \\n\"\n",
      "\n",
      "# Dew Point Calculation\n",
      "# Asume:\n",
      "ya = 0.05;\n",
      "yb = 0.30;\n",
      "yc = 0.40;\n",
      "yd = 0.25;\n",
      "Temp = 80;# [OC]\n",
      "y = [0.05, 0.30 ,0.40, 0.25];\n",
      "m = [6.30 ,2.50 ,0.96 ,0.43];# [At 60 OC]\n",
      "# Reference: C5H12\n",
      "mref = m[3];\n",
      "Sum = 0;\n",
      "alpha = numpy.zeros(4)\n",
      "alpha_y = numpy.zeros(4);\n",
      "for i in range(0,4):\n",
      "    alpha[i] = m[i]/m[3];\n",
      "    alpha_y[i] = y[i]/alpha[i];\n",
      "    Sum = Sum+alpha_y[i];\n",
      "\n",
      "\n",
      "# From Eqn. 9.29:\n",
      "SumF = Sum;\n",
      "Sum = 0;\n",
      "mref = SumF;\n",
      "# Corresponding Temparature from the nomograph:\n",
      "Temp = 83.7;# [OC]\n",
      "m = [6.60, 2.70, 1.08, 0.47];# [At 56.8 OC]\n",
      "for i in range(0,4):\n",
      "    alpha[i] = m[i]/m[2];\n",
      "    alpha_y[i] = y[i]/alpha[i];\n",
      "    Sum = Sum+alpha_y[i];\n",
      "\n",
      "SumF = Sum;\n",
      "mref = 1.0/SumF;\n",
      "#  Corresponding Temparature from the nomograph:\n",
      "Temp = 84.0;# [OC]\n",
      "Dt = 84.0;# [OC]\n",
      "xi = numpy.zeros(4);\n",
      "for i in range(0,4):\n",
      "    xi[i] = alpha_y[i]/Sum;\n",
      "\n",
      "print\"The Dew Point is \",Dt,\" degree C\\n\"\n",
      "print\"Dew point liquid composition \\n\"\n",
      "print\"\\t   xi\\n\"\n",
      "print\"\\n n-C3\\t \",round(xi[0],3)\n",
      "print\"\\n n-C4\\t \",round(xi[1],3)\n",
      "print\"\\n n-C5\\t \",round(xi[2],3)\n",
      "print\"\\n n-C6\\t \",round(xi[3],3)"
     ],
     "language": "python",
     "metadata": {},
     "outputs": [
      {
       "output_type": "stream",
       "stream": "stdout",
       "text": [
        "Illustration 9.3 - Page: 362\n",
        "\n",
        "\n",
        "The Bubble Point is  56.8  degree C\n",
        "\n",
        "Bubble point vapour composition \n",
        "\n",
        "\t   yi\n",
        "\n",
        "\n",
        " n-C3\t  0.229\n",
        "\n",
        " n-C4\t  0.478\n",
        "\n",
        " n-C5\t  0.234\n",
        "\n",
        " n-C6\t  0.059\n",
        "\n",
        " \n",
        " \n",
        "\n",
        "The Dew Point is  84.0  degree C\n",
        "\n",
        "Dew point liquid composition \n",
        "\n",
        "\t   xi\n",
        "\n",
        "\n",
        " n-C3\t  0.007\n",
        "\n",
        " n-C4\t  0.109\n",
        "\n",
        " n-C5\t  0.363\n",
        "\n",
        " n-C6\t  0.521\n"
       ]
      }
     ],
     "prompt_number": 72
    },
    {
     "cell_type": "heading",
     "level": 2,
     "metadata": {},
     "source": [
      "Ex9.4: Page 365"
     ]
    },
    {
     "cell_type": "code",
     "collapsed": false,
     "input": [
      "\n",
      "\n",
      "# Illustration 9.4\n",
      "# Page: 365\n",
      "\n",
      "print'Illustration 9.4 - Page: 365\\n\\n'\n",
      "import matplotlib.pyplot as plt\n",
      "%matplotlib inline\n",
      "import numpy\n",
      "from scipy.optimize import fsolve\n",
      "\n",
      "\n",
      "# solution\n",
      "\n",
      "#****Data****#\n",
      "# Basis:\n",
      "F = 100.0;# [mol feed]\n",
      "zF = 0.5;\n",
      "D = 60.0;# [mol]\n",
      "W = 40.0;# [mol]\n",
      "#*******#\n",
      "\n",
      "# From Illustration 9.1, Equilibrium data:\n",
      "Data = numpy.array([[1.0 ,1.0],[0.655, 0.810],[0.487 ,0.674],[0.312, 0.492],[0.1571 ,0.279],[0, 0]]);\n",
      "Feed = numpy.array([[0 ,0],[1.0 ,1.0]]);\n",
      "# The operating line is drawn with a slope -(W/D) to cut the equilibrium line.\n",
      "def f44(x):\n",
      "    return -((W/D)*(x-zF))+zF\n",
      "x = numpy.arange(0.2,0.7,0.1);\n",
      "plt.plot(Data[:,0],Data[:,1],label=\"Equilibrium Line\")\n",
      "plt.plot(Feed[:,0],Feed[:,1],label=\"Feed Line\")\n",
      "plt.plot(x,f44(x),label=\"Operating Line\");\n",
      "plt.grid('on')\n",
      "ax = pylab.gca()\n",
      "ax.set_xlabel(\"Mole fraction of heptane in liquid\")\n",
      "ax.set_ylabel(\"Mole fraction of heptane in vapour\")\n",
      "plt.legend(loc='lower right');\n",
      "plt.show()\n",
      "# The point at which the operating line cuts the equilibrium line has the following composition* temparature:\n",
      "yd = 0.575;# [mole fraction heptane in vapour phase]\n",
      "xW = 0.387;# [mole fraction heptane in liquid phase]\n",
      "Temp = 113;# [OC]\n",
      "print\"mole fraction of heptane in vapour phase \",yd\n",
      "print\"mole fraction of heptane in liquid phase \",xW\n",
      "print\"Temperature is \",Temp,\" degree C\\n\""
     ],
     "language": "python",
     "metadata": {},
     "outputs": [
      {
       "output_type": "stream",
       "stream": "stdout",
       "text": [
        "Illustration 9.4 - Page: 365\n",
        "\n",
        "\n"
       ]
      },
      {
       "metadata": {},
       "output_type": "display_data",
       "png": "[encoded data removed]",
       "text": [
        "<matplotlib.figure.Figure at 0x7f17518>"
       ]
      },
      {
       "output_type": "stream",
       "stream": "stdout",
       "text": [
        "mole fraction of heptane in vapour phase  0.575\n",
        "mole fraction of heptane in liquid phase  0.387\n",
        "Temperature is  113  degree C\n",
        "\n"
       ]
      }
     ],
     "prompt_number": 6
    },
    {
     "cell_type": "heading",
     "level": 2,
     "metadata": {},
     "source": [
      "Ex9.5: Page 366"
     ]
    },
    {
     "cell_type": "code",
     "collapsed": false,
     "input": [
      "\n",
      "\n",
      "# Illustration 9.5\n",
      "# Page: 366\n",
      "\n",
      "print'Illustration 9.5 - Page: 366\\n\\n'\n",
      "\n",
      "# solution\n",
      "import numpy\n",
      "import pylab\n",
      "import numpy.linalg as lin\n",
      "#****Data****#\n",
      "Pt = 760.0;# [mm Hg]\n",
      "zFa = 0.5;# [mol fraction benzene]\n",
      "zFb = 0.25;# [mol fraction toulene]\n",
      "zFc = 0.25;# [mol fraction o-xylene]\n",
      "#********#\n",
      "\n",
      "# Basis:\n",
      "F = 100.0;# [mol feed]\n",
      "# For Summtion of Yd_star to be unity, W/D = 2.08 \n",
      "# The Eqn.are \n",
      "# (1): W+D = F \n",
      "# (2): W-2.08D = 0\n",
      "a =numpy.array([[1.0 ,1.0],[1.0 ,-2.08]]);\n",
      "b = numpy.array([[F*1.0],[0]]);\n",
      "soln = lin.solve(a,b)\n",
      "W = soln[0];\n",
      "D = soln[1];\n",
      "Sub = ['A','B','C'];\n",
      "p =numpy.array([1370 ,550, 200]);# [mm Hg]\n",
      "m = numpy.zeros(3);\n",
      "zF = [zFa ,zFb, zFc];# [Given]\n",
      "yd_star = numpy.array([0,0,0]);\n",
      "xW = numpy.zeros(3);\n",
      "\n",
      "for i in range(0,3):\n",
      "    m[i] = p[i]/Pt;\n",
      "    yd_star[i]=(zF[i])*((W/D)+1)#/(1+(W/(D*m[i])));\n",
      "    xW[i] = yd_star[i]/m[i];\n",
      "\n",
      "print\"\\t \\t \\t \\t \\t \\t \\t \\t  At W/D = 2.08\\n\\n\\n\"\n",
      "print\"Substance \\t \\t p(mm Hg)\\t \\t m\\t \\t \\t \\t \\t \\t \\t \\t \\t \\t zF\\t \\t \\t \\t \\t \\t \\t yd*\\t\\t\\t\\t\\t\\txW\\n\"\n",
      "for i in range(0,3):\n",
      "    print \"\\n\",Sub[i],\" \\t \\t \\t \\t \",p[i],\"\\t \\t  \\t \\t \",m[i],\"\\t \\t \\t\",m[i],\"\\t \\t \\t\",zF[i],\" \\t \\t \\t\",yd_star[i],\"\\t\",xW[i]\n"
     ],
     "language": "python",
     "metadata": {},
     "outputs": [
      {
       "output_type": "stream",
       "stream": "stdout",
       "text": [
        "Illustration 9.5 - Page: 366\n",
        "\n",
        "\n",
        "\t \t \t \t \t \t \t \t  At W/D = 2.08\n",
        "\n",
        "\n"
       ]
      },
      {
       "output_type": "stream",
       "stream": "stdout",
       "text": [
        "\n",
        "Substance \t \t p(mm Hg)\t \t m\t \t \t \t \t \t \t \t \t \t zF\t \t \t \t \t \t \t yd*\t\t\t\t\t\txW\n",
        "\n",
        "\n",
        "A  \t \t \t \t  1370 \t \t  \t \t  1.80263157895 \t \t \t1.80263157895 \t \t \t0.5  \t \t \t1 \t0.554744525547\n",
        "\n",
        "B  \t \t \t \t  550 \t \t  \t \t  0.723684210526 \t \t \t0.723684210526 \t \t \t0.25  \t \t \t0 \t0.0\n",
        "\n",
        "C  \t \t \t \t  200 \t \t  \t \t  0.263157894737 \t \t \t0.263157894737 \t \t \t0.25  \t \t \t0 \t0.0\n"
       ]
      }
     ],
     "prompt_number": 74
    },
    {
     "cell_type": "heading",
     "level": 2,
     "metadata": {},
     "source": [
      "Ex9.6: Page 370"
     ]
    },
    {
     "cell_type": "code",
     "collapsed": false,
     "input": [
      "\n",
      "\n",
      "# Illustration 9.6\n",
      "# Page: 370\n",
      "\n",
      "print'Illustration 9.6 - Page: 370\\n\\n'\n",
      "\n",
      "# solution\n",
      "from scipy.optimize import fsolve\n",
      "import math\n",
      "#****Data****#\n",
      "# Basis:\n",
      "F = 100.0;# [mol]\n",
      "xF = 0.5;\n",
      "D = 0.6*100;# [mol]\n",
      "#******#\n",
      "\n",
      "W = F-D;# [mol]\n",
      "# From Illustration 9.1:\n",
      "alpha = 2.16;# [average value of alpha]\n",
      "# From Eqn.9.46;\n",
      "def f45(xW):\n",
      "    return math.log(F*xF/(W*xW))-(alpha*math.log(F*(1-xF)/(W*(1-xW))))\n",
      "xW = fsolve(f45,0.5);# [mole fraction heptane]\n",
      "def f46(yD):\n",
      "    return F*xF-((D*yD)+(W*xW))\n",
      "yD = fsolve(f46,100);# [mole fraction heptane]\n",
      "print\"Mole Fraction of heptane in the distillate is \",round(yD,3),\"\\n\"\n",
      "print\"Mole Fraction of heptane in the residue is \",round(xW,3),\" \\n\""
     ],
     "language": "python",
     "metadata": {},
     "outputs": [
      {
       "output_type": "stream",
       "stream": "stdout",
       "text": [
        "Illustration 9.6 - Page: 370\n",
        "\n",
        "\n",
        "Mole Fraction of heptane in the distillate is  0.615 \n",
        "\n",
        "Mole Fraction of heptane in the residue is  0.328  \n",
        "\n"
       ]
      }
     ],
     "prompt_number": 75
    },
    {
     "cell_type": "heading",
     "level": 2,
     "metadata": {},
     "source": [
      "Ex9.7: Page 371"
     ]
    },
    {
     "cell_type": "code",
     "collapsed": false,
     "input": [
      "\n",
      "\n",
      "# Illustration 9.7\n",
      "# Page: 371\n",
      "from scipy.optimize import fsolve\n",
      "print'Illustration 9.7 - Page: 371\\n\\n'\n",
      "\n",
      "# solution\n",
      "\n",
      "#****Data****#\n",
      "# a:benzene b:toulene c:o-xylene\n",
      "# Assume:\n",
      "Bt = 100.0;#[OC]\n",
      "pa = 1370.0;# [mm Hg]\n",
      "pb = 550.0;# [mm Hg]\n",
      "pc = 200.0;# [mm Hg]\n",
      "xFa = 0.5;# [mole fraction]\n",
      "xFb = 0.25;# [mole fraction]\n",
      "xFc = 0.25;# [mole fraction]\n",
      "# Basis:\n",
      "F = 100.0;# [mol]\n",
      "D = 32.5;# [mol]\n",
      "#*******#\n",
      "\n",
      "ref = pb;\n",
      "alpha_a = pa/ref;\n",
      "alpha_b = pb/ref;\n",
      "alpha_c = pc/ref;\n",
      "W = F-D;# [mol]\n",
      "xbW = 0.3;# [mol]\n",
      "xaW = 0.4;# [mol]\n",
      "xcW = 0.3;# [mol]\n",
      "err = 1.0;\n",
      "while(err>(10**(-1))):\n",
      "    # From Eqn. 9.47:\n",
      "    def f47(xaW):\n",
      "        return math.log(F*xFa/(W*xaW))-(alpha_a*math.log(F*xFb/(W*xbW)))\n",
      "    xaW = fsolve(f47,xbW);\n",
      "    def f48(xcW):\n",
      "        return math.log(F*xFc/(W*xcW))-(alpha_c*math.log(F*xFb/(W*xbW)))\n",
      "    xcW = fsolve(f48,xbW);\n",
      "    xbW_n = 1-(xaW+xcW);\n",
      "    err = abs(xbW-xbW_n);\n",
      "    xbw = xbW_n;\n",
      "\n",
      "# Material balance:\n",
      "# for A:\n",
      "def f49(yaD):\n",
      "    return F*xFa-((D*yaD)+(W*xaW))\n",
      "yaD = fsolve(f49,100);# [mole fraction benzene]\n",
      "# For B:\n",
      "def f50(ybD):\n",
      "    return F*xFb-((D*ybD)+(W*xbW))\n",
      "ybD = fsolve(f50,100);# [mole fraction toulene]\n",
      "# For C:\n",
      "def f51(ycD):\n",
      "    return F*xFc-((D*ycD)+(W*xcW))\n",
      "ycD = fsolve(f51,100);# [mole fraction o-xylene]\n",
      "print\"The residual compositions are:\\n\"\n",
      "print\"Benzene:\\n\",round(xaW,3)\n",
      "print\"Toulene:\\n\",round(xbW,3)\n",
      "print\"o-xylene:\\n\",round(xcW,3)\n",
      "print\"\\n The composited distillate compositions are:\\n\"\n",
      "print\"Benzene:\\n\",round(yaD,3)\n",
      "print\"Toulene:\\n\",round(ybD,3)\n",
      "print\"o-xylene:\\n\",round(ycD,3)\n",
      "#the answers are slightly different in textbook due to approximation while here answers are precise"
     ],
     "language": "python",
     "metadata": {},
     "outputs": [
      {
       "output_type": "stream",
       "stream": "stdout",
       "text": [
        "Illustration 9.7 - Page: 371\n",
        "\n",
        "\n",
        "The residual compositions are:\n",
        "\n",
        "Benzene:\n",
        "0.438\n",
        "Toulene:\n",
        "0.3\n",
        "o-xylene:\n",
        "0.343\n",
        "\n",
        " The composited distillate compositions are:\n",
        "\n",
        "Benzene:\n",
        "0.628\n",
        "Toulene:\n",
        "0.146\n",
        "o-xylene:\n",
        "0.057\n"
       ]
      }
     ],
     "prompt_number": 76
    },
    {
     "cell_type": "heading",
     "level": 2,
     "metadata": {},
     "source": [
      "Ex9.8: Page 388"
     ]
    },
    {
     "cell_type": "code",
     "collapsed": false,
     "input": [
      "\n",
      "\n",
      "# Illustration 9.8\n",
      "# Page: 388\n",
      "\n",
      "print'Illustration 9.8 - Page: 388\\n\\n'\n",
      "import numpy.linalg as lin\n",
      "# solution\n",
      "\n",
      "#****Data*****#\n",
      "# a:methanol b:water\n",
      "Xa = 0.5;# [Wt fraction]\n",
      "Temp1 = 26.7;# [OC]\n",
      "Temp2 = 37.8;# [OC]\n",
      "F1 = 5000.0;# [kg/hr]\n",
      "#******#\n",
      "\n",
      "#(a)\n",
      "Ma = 32.04;# [kg/kmol]\n",
      "Mb = 18.02;# [kg/kmol]\n",
      "Xa = 0.5;# [Wt fraction]\n",
      "Xb = 1-Xa;# [Wt fraction]\n",
      "Temp1 = 26.7;# [OC]\n",
      "Temp2 = 37.8;# [OC]\n",
      "F1 = 5000.0;# [kg/hr];\n",
      "# Basis: 1hr\n",
      "F = (F1*Xa/Ma)+(F1*Xb/Mb);# [kmol/hr]\n",
      "# For feed:\n",
      "zF = (F1*Xa/Ma)/F;# [mole fracton methanol]\n",
      "MavF = F1/F;# [kg/kmol]\n",
      "# For distillate:\n",
      "xD = (95/Ma)/((95/Ma)+(5/Mb));# [mole fraction methanol]\n",
      "MavD = 100.0/((95/Ma)+(5/Mb));# [kg/kmol]\n",
      "# For residue:\n",
      "xW = (1/Ma)/((1/Ma)+(99/Mb));# [mole fraction methanol]\n",
      "MavR = 100/((1/Ma)+(99/Mb));# [kg/kmol]\n",
      "# (1): D+W = F [Eqn.9.75]\n",
      "# (2): D*xD+W*xW = F*zF [Eqn. 9.76]\n",
      "# Solvving simultaneously:\n",
      "a = numpy.array([[1.0 ,1.0],[xD ,xW]]);\n",
      "b = numpy.array([F,F*zF]);\n",
      "soln = lin.solve(a,b);\n",
      "D = soln[0];# [kmol/h]\n",
      "W = soln[1];# [kmol/h]\n",
      "print\"Quantity of Distillate is\", round(D*MavD),\" kg/hr\\n\"\n",
      "print\"Quantity of Residue is \",round(W*MavR),\" kg/hr\\n\"\n",
      "print\"\\n\"\n",
      "\n",
      "# (b)\n",
      "# For the vapour-liquid equilibria:\n",
      "Tempo = 19.69;# [Base Temp. according to \"International Critical Tables\"]\n",
      "BtR = 99.0;# [Bubble point of the residue, OC]\n",
      "hR = 4179.0;# [J/kg K]\n",
      "hF = 3852.0;# [J/kg K]\n",
      "def f52(tF):\n",
      "    return (F1*hF*(tF-Temp1))-((W*MavR)*hR*(BtR-Temp2))\n",
      "tF = fsolve(f52,Temp1);# [OC]\n",
      "BtF = 76.0;# [Bubble point of feed, OC]\n",
      "# For the feed:\n",
      "delta_Hs = -902.5;# [kJ/kmol]\n",
      "Hf = ((hF/1000.0)*MavF*(tF-Tempo))+delta_Hs;# [kJ/kmol]\n",
      "# From Fig 9.27:\n",
      "HD = 6000.0;# [kJ/kmol]\n",
      "HLo = 3640.0;# [kJ/kmol]\n",
      "HW = 6000.0;# [kJ/kmol]\n",
      "print\"The enthalpy of feed is \",round(Hf),\" kJ/kmol\\n\"\n",
      "print\"The enthalpy of the residue is \",round(HW),\" kJ/kmol\\n\"\n",
      "print\"\\n\"\n",
      "\n",
      "# (c)\n",
      "# From Fig.9.27:\n",
      "# The miium reflux ratio is established by the tie line (x = 0.37 y = 0.71), which extended pass through F,the feed.\n",
      "# At Dm:\n",
      "Qm = 62570.0;# [kJ/kmol]\n",
      "Hg1 = 38610.0;# [kJ/kmol]\n",
      "# From Eqn. 9.65:\n",
      "Rm = (Qm-Hg1)/(Hg1-HLo);\n",
      "print\"The minimum reflux ratio is \",round(Rm,4),\"\\n\"\n",
      "print\"\\n\"\n",
      "\n",
      "# (d)\n",
      "# From Fig. 9.28:\n",
      "Np = 4.9;\n",
      "# But it include the reboiler.\n",
      "Nm = Np-1;\n",
      "print\"The minimum number of theoretical trays required is \",round(Nm),\" \\n\"\n",
      "print\"\\n\"\n",
      "\n",
      "# (e)\n",
      "R = 1.5*Rm;\n",
      "# Eqn. 9.65:\n",
      "def f53(Q_prime):\n",
      "    return R-((Q_prime-Hg1)/(Hg1-HLo))\n",
      "Q_prime = fsolve(f53,2);# [kJ/kmol]\n",
      "def f54(Qc):\n",
      "    return Q_prime-(HD+(Qc/D))\n",
      "Qc = fsolve(f54,2);# [kJ/hr]\n",
      "Qc = Qc/3600.0;# [kW]\n",
      "print\"The Condensor heat load is \",round(Qc),\" kW\\n\"\n",
      "# From Eqn. 9.77:\n",
      "def f55(Q_dprime):\n",
      "    return (F*Hf)-((D*Q_prime)+(W*Q_dprime))\n",
      "Q_dprime = fsolve(f55,2);\n",
      "def f56(Qb):\n",
      "    return  Q_dprime-(HW-(Qb/W))\n",
      "Qb = fsolve(f56,2);# [kJ/hr]\n",
      "Qb = Qb/3600.0;# [kW]\n",
      "print\"The Reboiler heat load is \",round(Qb),\" kW\\n\"\n",
      "print\"\\n\"\n",
      "\n",
      "# (f)\n",
      "# From Fig: 9.28\n",
      "Np = 9.0;\n",
      "# But it is including the reboiler\n",
      "print\"No. of theoretical trays in tower is\",Np-1,\"\\n\",\n",
      "G1 = D*(R+1);# [kmol/hr]\n",
      "Lo = D*R;# [kmol/hr]\n",
      "# From Fig. 9.28:\n",
      "# At the feed tray:\n",
      "x4 = 0.415;\n",
      "y5 = 0.676;\n",
      "x5 = 0.318;\n",
      "y6 = 0.554;\n",
      "# From Eqn. 9.64:\n",
      "def f57(L4):\n",
      "    return (L4/D)-((xD-y5)/(y5-x4))\n",
      "L4 = fsolve(f57,2);# [kmol/hr]\n",
      "# From Eqn. 9.62:\n",
      "def f58(G5):\n",
      "    return (L4/G5)-((xD-y5)/(xD-x4))\n",
      "G5 = fsolve(f58,2);# [kmol/hr]\n",
      "# From Eqn. 9.74:\n",
      "def f59(L5_bar):\n",
      "    return  (L5_bar/W)-((y6-xW)/(y6-x5))\n",
      "L5_bar = fsolve(f59,2);# [kmol/hr]\n",
      "# From Eqn. 9.72:\n",
      "def f60(G6_bar):\n",
      "    return (L5_bar/G6_bar)-((y6-xW)/(x5-xW))\n",
      "G6_bar = fsolve(f60,2);# [kmol/hr]\n",
      "# At the bottom:\n",
      "# Material Balance:\n",
      "# Eqn. 9.66:\n",
      "# (1): L8_bar-GW_bar = W;\n",
      "# From Fig. 9.28:\n",
      "yW = 0.035;\n",
      "x8 = 0.02;\n",
      "# From Eqn. 9.72:\n",
      "L8ByGW_bar = (yW-xW)/(x8-xW);\n",
      "# (2): L8_bar-(L8ByGW_bar*Gw_bar) = 0\n",
      "a = numpy.array([[1 ,-1],[1 ,-L8ByGW_bar]]);\n",
      "b = numpy.array([W,0]);\n",
      "soln = lin.solve(a,b)\n",
      "L8_bar = soln[0];# [kmol/h]\n",
      "GW_bar = soln[1];# [kmol/h]\n",
      "print\"The Liquid quantity inside the tower is \",round(L8_bar),\" kmol/hr\\n\"\n",
      "print\"The vapour quantity inside the tower is \",round(GW_bar),\" kmol/hr\\n\"\n",
      "# The answers are slightly different in textbook due to approximation while in python the answers are precise\n"
     ],
     "language": "python",
     "metadata": {},
     "outputs": [
      {
       "output_type": "stream",
       "stream": "stdout",
       "text": [
        "Illustration 9.8 - Page: 388\n",
        "\n",
        "\n",
        "Quantity of Distillate is 2606.0  kg/hr\n",
        "\n",
        "Quantity of Residue is  2394.0  kg/hr\n",
        "\n",
        "\n",
        "\n",
        "The enthalpy of feed is  2545.0  kJ/kmol\n",
        "\n",
        "The enthalpy of the residue is  6000.0  kJ/kmol\n",
        "\n",
        "\n",
        "\n",
        "The minimum reflux ratio is  0.6852 \n",
        "\n",
        "\n",
        "\n",
        "The minimum number of theoretical trays required is  4.0  \n",
        "\n",
        "\n",
        "\n",
        "The Condensor heat load is  1609.0  kW\n",
        "\n",
        "The Reboiler heat load is  1817.0  kW\n",
        "\n",
        "\n",
        "\n",
        "No. of theoretical trays in tower is 8.0 \n",
        "The Liquid quantity inside the tower is  259.0  kmol/hr\n",
        "\n",
        "The vapour quantity inside the tower is  127.0  kmol/hr\n",
        "\n"
       ]
      }
     ],
     "prompt_number": 77
    },
    {
     "cell_type": "heading",
     "level": 2,
     "metadata": {},
     "source": [
      "Ex9.9: Page 395"
     ]
    },
    {
     "cell_type": "code",
     "collapsed": false,
     "input": [
      "\n",
      "# Illustration 9.9\n",
      "# Page: 395\n",
      "\n",
      "print'Illustration 9.9 - Page: 395\\n\\n'\n",
      "\n",
      "# solution\n",
      "import scipy\n",
      "import numpy\n",
      "import numpy.linalg as lin\n",
      "\n",
      "#****Data****#\n",
      "P = 695.0;# [kN/square m]\n",
      "#********#\n",
      "\n",
      "# a:methanol b:water\n",
      "# From Illustration 9.8:\n",
      "Ma = 32.04;# [kg/kmol]\n",
      "Mb = 18.02;# [kg/kmol]\n",
      "F = 216.8;# [kmol/h]\n",
      "Tempo = 19.7;# [OC]\n",
      "zF = 0.360;# [mole fraction methanol]\n",
      "HF = 2533;# [kJ/kmol]\n",
      "D = 84.4;# [kkmol/h]\n",
      "zD = 0.915;# [mole fraction methanol]\n",
      "HD = 3640.0;# [kJ/kmol]\n",
      "Qc = 5990000.0;# [kJ/h]\n",
      "# Since the bottom will essentially be pure water:\n",
      "HW = 6094.0;# [kJ/kmol]\n",
      "# From Steam tables:\n",
      "Hs = 2699.0;# [enthalpy of saturated steam, kJ/kg]\n",
      "hW = 4.2*(Tempo-0);# [enthalpy of water, kJ/kg]\n",
      "HgNpPlus1 = (Hs-hW)*Mb;# [kJ/kmol]\n",
      "# (1): GNpPlus1-W = D-F [From Eqn. 9.86]\n",
      "# (2): (GNpPlus1*HgNpPlus1)-(W*HW) = (D*HD)+Qc-(F*HF) [From Eqn. 9.88]\n",
      "a = numpy.array([[1 ,-1],[HgNpPlus1 ,-HW]]);\n",
      "b = numpy.array([[D-F],[(D*HD)+Qc-(F*HF)]]);\n",
      "soln=lin.solve(a,b)\n",
      "GNpPlus1 = soln[0];# [kmol/h]\n",
      "W = soln[1];# [kmol/h]\n",
      "# From Eqn. 9.87:\n",
      "def f61(xW):\n",
      "    return (F*zF)-((D*zD)+(W*xW))\n",
      "xW = fsolve(f61,2);\n",
      "# The enthalpy of the solution at its bubble point is 6048 kJ/kmol, sufficiently closed to 6094 assumed earlier.\n",
      "# For delta_w:\n",
      "xdelta_w = W*xW/(W-GNpPlus1);\n",
      "Q_dprime = ((W*HW)-(GNpPlus1*HgNpPlus1))/(W-GNpPlus1);# [kJ/kmol]\n",
      "# From Fig 9.27 ad Fig. 9.28, and for the stripping section:\n",
      "Np = 9.5;\n",
      "print\"Steam Rate: \",round(GNpPlus1,1),\"kmol/h\\n\"\n",
      "print\"Bottom Composition: xW:\",round(xW,5),\"\\n\"\n",
      "print\"Number of theoretical stages: \",Np,\"\\n\""
     ],
     "language": "python",
     "metadata": {},
     "outputs": [
      {
       "output_type": "stream",
       "stream": "stdout",
       "text": [
        "Illustration 9.9 - Page: 395\n",
        "\n",
        "\n",
        "Steam Rate:  159.7 kmol/h\n",
        "\n",
        "Bottom Composition: xW: 0.00281 \n",
        "\n",
        "Number of theoretical stages:  9.5 \n",
        "\n"
       ]
      }
     ],
     "prompt_number": 78
    },
    {
     "cell_type": "heading",
     "level": 2,
     "metadata": {},
     "source": [
      "Ex9.10: Page 412"
     ]
    },
    {
     "cell_type": "code",
     "collapsed": false,
     "input": [
      "\n",
      "\n",
      "# Illustration 9.10\n",
      "# Page: 412\n",
      "\n",
      "print'Illustration 9.10 - Page: 412\\n\\n'\n",
      "\n",
      "# solution\n",
      "\n",
      "# a:methanol b:water\n",
      "Ma = 32.04;# [kg/kmol]\n",
      "Mb = 18.02;# [kg/kmol]\n",
      "# Feed:\n",
      "F1 = 5000;# [kg/h]\n",
      "F = 216.8;# [kmol/h]\n",
      "Tempo = 19.7;# [OC]\n",
      "zF = 0.360;# [mole fraction methanol]\n",
      "MavF = 23.1;# [kg/kmol]\n",
      "Tempf = 58.3;# [OC]\n",
      "# Distillate:\n",
      "D1 = 2620;# [kg/h]\n",
      "D = 84.4;# [kkmol/h]\n",
      "xD = 0.915;# [mole fraction methanol]\n",
      "# Residue:\n",
      "R1 = 2380;# [kg/h]\n",
      "R = 132.4;# [kmol/h]\n",
      "xW = 0.00565;# [mole fraction methanol]\n",
      "\n",
      "# From Fig. 9.42 (Pg 413):\n",
      "BtF = 76.0;# [Bubble point if the feed, OC]\n",
      "DtF = 89.7;# [Dew point of the feed, OC]\n",
      "# Latent heat of vaporisation at 76 OC\n",
      "lambda_a = 1046.7;# [kJ/kg]\n",
      "lambda_b = 2284;# [kJ/kg]\n",
      "ha = 2.721;# [kJ/kg K]\n",
      "hb = 4.187;# [kJ/kg K]\n",
      "hF = 3.852;# [kJ/kg K]\n",
      "# If heats of solution is ignaored:\n",
      "# Enthalpy of the feed at the bubble point referred to the feed temp.\n",
      "HF = hF*MavF*(BtF-Tempf);# [kJ/kmol]\n",
      "# enthalpy of the saturated vapour at dew point referred to the liquid at feed temp.\n",
      "HL = (zF*((ha*Ma*(DtF-Tempf))+(lambda_a*Ma)))+((1-zF)*((hb*Mb*(DtF-Tempf))+(lambda_b*Mb)));# [kJ/kmol]\n",
      "q = HL/(HL-HF);\n",
      "slope = q/(q-1);\n",
      "# In fig. 9.42: xD,xW & zF are  located on the 45 degree diagonal & the q line is drawn with slope = 'slope' .\n",
      "# The operating line for minimum reflux ratio in this case pass through the intersection of the q line and the equilibrium curve.\n",
      "ordinate = 0.57;\n",
      "def f62(Rm):\n",
      "    return ordinate-(xD/(Rm+1))\n",
      "Rm = fsolve(f62,0);# [mole reflux/mole distillate]\n",
      "# from fig. 9.42 (Pg 413):\n",
      "# The minimum number of theoretical trays is determied using the 45 degree diagonal as operating line.\n",
      "Np = 4.9;# [including the reboiler]\n",
      "R = 1.5*Rm;# [mole reflux/mole distillate]\n",
      "# From Eqn. 9.49:\n",
      "L = R*D;# [kmol/h]\n",
      "# From Eqn. 9.115:\n",
      "G = D*(R+1);# [kmol/h]\n",
      "# From Eqn. 9.126:\n",
      "L_bar = (q*F)+L;# [kmol/h]\n",
      "# From Eqn. 9.127:\n",
      "G_bar = (F*(q-1))+G;# [kmol/h]\n",
      "ordinateN = xD/(R+1);\n",
      "# As in Fig. 9.43:\n",
      "# The y-intercept = ordinateN and enriching and exhausting operating lines are plotted.\n",
      "# Number of theoretical stages are determined.\n",
      "NpN = 8.8;# [including the reboiler]\n",
      "print\"Number of theoretical stages is \",NpN-1,\"\\n\""
     ],
     "language": "python",
     "metadata": {},
     "outputs": [
      {
       "output_type": "stream",
       "stream": "stdout",
       "text": [
        "Illustration 9.10 - Page: 412\n",
        "\n",
        "\n",
        "Number of theoretical stages is  7.8 \n",
        "\n"
       ]
      }
     ],
     "prompt_number": 79
    },
    {
     "cell_type": "heading",
     "level": 2,
     "metadata": {},
     "source": [
      "Ex9.11: Page 423"
     ]
    },
    {
     "cell_type": "code",
     "collapsed": false,
     "input": [
      "\n",
      "\n",
      "# Illustration 9.11\n",
      "# Page: 423\n",
      "\n",
      "print'Illustration 9.11 - Page: 423\\n\\n'\n",
      "\n",
      "# solution\n",
      "\n",
      "import math\n",
      "#****Data****#\n",
      "# a:ethanol b:water\n",
      "zF = 0.3;\n",
      "xa = 0.3;# [mole fraction of ethanol]\n",
      "Temp = 78.2;# [OC]\n",
      "Ao = 0.0462;# [Area of perforations,square m]\n",
      "t = 0.450;# [m]\n",
      "#******#\n",
      "\n",
      "Ma = 46.05;# [kg/kmol]\n",
      "Mb = 18.02;# [kg/kmol]\n",
      "xb = 1-xa;# [mole fraction of water]\n",
      "ma = 0.3*Ma/((0.3*Ma)+(xb*Mb));# [mass fraction of ethanol]\n",
      "mb = 1-ma;# [mass fraction of water]\n",
      "\n",
      "\n",
      "# Feed:\n",
      "F1 = 910.0;# [kg/h]\n",
      "Xa = F1*ma/Ma;# [moles of ethanol]\n",
      "Xb = F1*mb/Mb;# [moles of water]\n",
      "F = Xa+Xb;# [Total moles]\n",
      "# Distillate:\n",
      "xD = 0.80;# [mole fraction of ethanol]\n",
      "# If essentially all the ethanol is removed from the residue:\n",
      "D = Xa/xD;# [kmol/h]\n",
      "MavD = (xD*Ma)+((1-xD)*Mb);# [kg/kmol]\n",
      "D1 = D*MavD;# [kg/h]\n",
      "Density_G = (MavD/22.41)*(273.0/(273+Temp));# [kg/cubic meter]\n",
      "Density_L = 744.9;# [kg/cubic meter]\n",
      "sigma = 0.021;# [N/m]\n",
      "\n",
      "# From Table 6.2,Pg 169:\n",
      "alpha = (0.0744*t)+0.01173;\n",
      "beeta = (0.0304*t)+0.015;\n",
      "At = math.pi*(0.760**2)/4;# [Tower cross sectional Area, square m]\n",
      "WByT = 530.0/760;# [Table 6.1, Pg 162]\n",
      "Ad = 0.0808*At;# [Downspout area,square m]\n",
      "Aa = At-(2*Ad);#  [Active area,square m]\n",
      "# abcissa = (L/G)*(density_G/Density_L)^0.5\n",
      "# Assume:\n",
      "abcissa = 0.1;\n",
      "# From Eqn.6.30:\n",
      "Cf = (alpha*math.log10(1/abcissa)+beeta)*(sigma/0.020)**0.2;\n",
      "# From Eqn. 6.29:\n",
      "Vf = Cf*((Density_L-Density_G)/Density_G)**(1.0/2);# [m/s]\n",
      "An = At-Ad;# [square m]\n",
      "R = 3.0;# [Reflux Ratio]\n",
      "G = D*(R+1);\n",
      "G1 = (G*22.41/3600)*((273.0+Temp)/273);# [cubic meter/s]\n",
      "V = G1/An;# [Vapour velocity,m/s]\n",
      "percent = (V/Vf)*100;\n",
      "# Vapour velocity is 58 percent of flooding velocity (amply safe)\n",
      "L = R*D;# [kmol/h]\n",
      "L1 = L*MavD;# [kg/h]\n",
      "abcissa = (L1/(G1*3600.0*Density_G))*(Density_G/Density_L)**0.5;\n",
      "# Since the value of abcissa is less than0.1, the calculaed value of Cf is correct.\n",
      "# Since the feed is at the buubble point.\n",
      "q = 1;\n",
      "# From Eqn. 9.126:\n",
      "L_bar = L+(q*F);# [kmol/h]\n",
      "# From Eqn. 9.127:\n",
      "G_bar = G+F*(q-1);# [kmol/h]\n",
      "# The enthalpy of saturated steam,referred to 0 OC,69 kN/square m:\n",
      "HGNpPlus1 = 2699.0;# [kN m/kg]\n",
      "# This will be the enthalpy as it enters the tower if expanded adiabatically to the tower pressure\n",
      "# The enthalpy of steam at 1 std. atm:\n",
      "HGsat = 2676.0;# [kN m/kg]\n",
      "Lambda = 2257.0;# [kN m/kg]\n",
      "# From Eqn. 9.140:\n",
      "def f63(GNpPlus1_bar):\n",
      "    return G_bar-(GNpPlus1_bar*(1+((HGNpPlus1-HGsat)*Mb/(Lambda*Mb))))\n",
      "GNpPlus1_bar = fsolve(f63,7);\n",
      "# From Eqn. 9.141:\n",
      "LNp_bar = L_bar-(G_bar-GNpPlus1_bar);\n",
      "\n",
      "# Tray Efficiencies:\n",
      "# Consider the situation:\n",
      "x = 0.5;\n",
      "y_star = 0.962;\n",
      "Temp = 79.8;# [OC]\n",
      "# This is in the enriching section.\n",
      "Density_L = 791;# [kg/cubic meter]\n",
      "Density_G = 1.253;# [kg/cubic meter]\n",
      "# From equilibrium data:\n",
      "m = 0.42;\n",
      "A = L/(m*G);\n",
      "# From chapter 2:\n",
      "ScG = 0.930;\n",
      "Dl = 2.065*10**(-9);# [square m/s]\n",
      "# For L = 38.73 kmol/h\n",
      "q = 4.36*10**(-4);# [cubic meter/s]\n",
      "# For G = 51.64 kmol/h\n",
      "Va = 1.046;# [m/s]\n",
      "# From tray dimensions:\n",
      "z = 0.647;# [m]\n",
      "Z = 0.542;# [m]\n",
      "hW = 0.06;# [m]\n",
      "# From Eqn. 6.61:\n",
      "NtG = (0.776+(4.57*hW)-(0.238*Va*Density_G**0.5)+(104.6*q/Z))/(ScG**0.5);\n",
      "# From Eqn. 6.38\n",
      "hL = 6.10*10**(-3)+(0.725*hW)-(0.238*hW*Va*(Density_G)**0.5)+(1.225*q/z);# [m]\n",
      "# From Eqn. 6.64:\n",
      "thetha_L = hL*z*Z/q;# [s]\n",
      "# From Eqn. 6.62:\n",
      "NtL = 40000*(Dl**0.5)*((0.213*Va*Density_G**0.5)+0.15)*thetha_L;\n",
      "# From Eqn. 6.52:\n",
      "NtoG = 1/((1/NtG)+(1/(A*NtL)));\n",
      "# From Eqn. 6.51:\n",
      "EoG = 1-math.exp(-NtoG);\n",
      "# From Eqn. 6.63:\n",
      "DE = ((3.93*10**(-3))+(0.0171*Va)+(3.67*q/Z)+(0.1800*hW))**2;\n",
      "# From Eqn. 6.59:\n",
      "Pe = Z**2/(DE*thetha_L);\n",
      "# From Eqn. 6.58:\n",
      "eta = (Pe/2)*((1+(4*m*G1*EoG/(L1*Pe)))**0.5-1);\n",
      "# From Eqn. 6.57:\n",
      "EMG = EoG*(((1-math.exp(-(eta+Pe)))/((eta+Pe)*(1+(eta+Pe)/eta)))+((math.exp(eta)-1)/(eta*(1+(eta/(eta+Pe))))));\n",
      "# Entrainment is neglible:\n",
      "# Similarly for other x\n",
      "# Value = [x Entrainment]\n",
      "#Value = [0 0.48;0.1 .543;0.3 0.74;0.5 EMG;0.7 0.72];\n",
      "\n",
      "# Tray Calculation:\n",
      "op_intercept = xD/(R+1);\n",
      "# From Fig. 9.48:\n",
      "# The exhausting section operating line, on this scale plot, for all practical purposes passes through the origin.\n",
      "# The broken curve is located so that, at each concentration, vertical distances corresponding to lines BC and AC are in the ratio of EMG.\n",
      "# This curve is used instead of equilibrium trays to locate the ideal trays.\n",
      "# The feed tray is thirteenth.\n",
      "x14 = 0.0150;\n",
      "alpha = 8.95;\n",
      "EMG = 0.48;\n",
      "A_bar = L_bar/(alpha*G_bar);\n",
      "# From Eqn. 8.16:\n",
      "Eo = math.log(1+(EMG*((1/A_bar)-1)))/math.log(1/A_bar);\n",
      "# The 6 real trays corresponds to: \n",
      "NRp = 6*Eo;\n",
      "xW = 0.015/((math.exp(NRp*math.log(1/A_bar))-A_bar)/(1-A_bar));# [mole fraction ethanol]\n",
      "# This corresponds to ethanol loss of 0.5 kg/day.\n",
      "print\"The mole fraction of ethanol in residue is\",round(xW,8)\n",
      "print\"The Reflux ratio of \",R,\" will cause the ethanol loss of 0.5 kg/day\\n\"\n",
      "print\"Larger reflux ratios would reduce this, but the cost of additional steam will probaby make them not worthwile.\\n\"\n",
      "print\"Smaller values of R, with corresponding reduced steam cost and larger ethanol loss, should be considered, but care must be taken to ensure vapour velocities above the weeping velocities.\""
     ],
     "language": "python",
     "metadata": {},
     "outputs": [
      {
       "output_type": "stream",
       "stream": "stdout",
       "text": [
        "Illustration 9.11 - Page: 423\n",
        "\n",
        "\n",
        "The mole fraction of ethanol in residue is 6.28e-06\n",
        "The Reflux ratio of  3.0  will cause the ethanol loss of 0.5 kg/day\n",
        "\n",
        "Larger reflux ratios would reduce this, but the cost of additional steam will probaby make them not worthwile.\n",
        "\n",
        "Smaller values of R, with corresponding reduced steam cost and larger ethanol loss, should be considered, but care must be taken to ensure vapour velocities above the weeping velocities.\n"
       ]
      }
     ],
     "prompt_number": 83
    },
    {
     "cell_type": "heading",
     "level": 2,
     "metadata": {},
     "source": [
      "Ex-9.12: Pg- 429"
     ]
    },
    {
     "cell_type": "code",
     "collapsed": false,
     "input": [
      "\n",
      "# Illustration 9.12\n",
      "# Page: 429\n",
      "\n",
      "print'Illustration 9.12 - Page: 429\\n\\n'\n",
      "\n",
      "# solution\n",
      "\n",
      "import math\n",
      "import numpy\n",
      "import matplotlib.pyplot as plt\n",
      "%matplotlib inline\n",
      "\n",
      "# a:methanol b:water\n",
      "# Vapour and liquid quantities throughout the tower, as in Illustration 9.8, with the Eqn. 9.62, 9.64, 9.72, 9.74:\n",
      "# Data = [x tL(OC) y tG(OC) Vapor(kmol/h) Vapor(kg/h) Liquid(kmol/h) Liquid(kg/h)]\n",
      "Ma = 34.02;# [kg/kmol]\n",
      "Mb = 18.02;# [kg/kmol]\n",
      "Temp = 78.7;# [OC]\n",
      "x = numpy.array([0.915, 0.600 ,0.370, 0.370, 0.200, 0.100, 0.02]);\n",
      "y = numpy.array([0.915, 0.762, 0.656, 0.656, 0.360 ,0.178, 0.032]);\n",
      "\n",
      "plt.plot(x,y);\n",
      "plt.grid('on');\n",
      "ax = pylab.gca()\n",
      "ax.set_xlabel(\"mole fraction of methanol in liquid\");\n",
      "ax.set_ylabel(\"mole fraction of methanol in vapour\");\n",
      "plt.title(\"Operating Line curve\");\n",
      "plt.legend(loc=\"lower right\")\n",
      "plt.show()\n",
      "#x = 0.370: the dividing point between stripping and enriching section\n",
      "tL =numpy.array([66, 71, 76, 76, 82, 87, 96.3]);# [Bubble point, OC]\n",
      "tG = numpy.array([68.2 ,74.3 ,78.7 ,78.7 ,89.7 ,94.7 ,99.3]);# [Dew Point, OC]\n",
      "Vapor = numpy.array([171.3, 164.0 ,160.9, 168.6, 161.6, 160.6, 127.6]);# [kmol/h]\n",
      "Vapor1 = numpy.array([5303, 4684, 4378, 4585, 3721, 3296 ,2360]);# [kg/h]\n",
      "Liquid = numpy.array([86.7 ,79.6 ,76.5 ,301, 294, 293, 260]);# [kmol/h]\n",
      "Liquid1 = numpy.array([2723, 2104, 1779 ,7000, 6138, 5690 ,4767]);# [kg/h]\n",
      "Data = numpy.zeros(shape=(7,8));\n",
      "for j in range(1,7):\n",
      "        Data[j,0]= x[j];\n",
      "        Data[j,1]= tL[j];\n",
      "        Data[j,2]= y[j];\n",
      "        Data[j,3]= tG[j];\n",
      "        Data[j,4]= Vapor[j]; \n",
      "        Data[j,5]= Vapor1[j];\n",
      "        Data[j,6]= Liquid[j];\n",
      "        Data[j,7]= Liquid1[j];\n",
      "\n",
      "# The tower diameter will be set by the conditions at the top of the stripping section because of the large liquid flow at this point.\n",
      "# From Illustration 9.8:\n",
      "G = Data[3,5];\n",
      "L = Data[3,7];\n",
      "Density_G = (Data[3,5]/(22.41*Data[3,4]))*(273.0/(273+Temp));# [kg/cubic m]\n",
      "Density_L = 905.0;# [kg/cubic m]\n",
      "# abcissa = (L/G)*(Density_L/Density_G)^0.5\n",
      "abcissa = (Data[3,7]/Data[3,5])*(Density_G/Density_L)**0.5;\n",
      "# From Fig. 6.34, choose a gas pressure drop of 450 N/square m/m\n",
      "ordinate = 0.0825;\n",
      "# From Table 6.3 (Pg 196):\n",
      "Cf = 95;\n",
      "viscosity_L = 4.5*10**(-4);# [kg/m.s]\n",
      "sigma = 0.029;# [N/m]\n",
      "J = 1;\n",
      "G_prime = (ordinate*Density_G*(Density_L-Density_G)/(Cf*viscosity_L**0.1))**0.5;# [kg/square m.s]\n",
      "A = G/(3600*G_prime);# [Tower ,cross section area,square m]\n",
      "L_prime = L/(A*3600);# [kg/square m.s]\n",
      "# Mass transfer will be computed for the same location:\n",
      "# From Table 6.4 (Pg 205):\n",
      "m = 36.4;\n",
      "n = (0.0498*L_prime)-0.1013;\n",
      "p = 0.274;\n",
      "aAW = m*((808*G_prime/Density_G**0.5)**n)*L_prime**p;# [square m/cubic m]\n",
      "# From Table 6.5 (Pg 206):\n",
      "dS = 0.0530;# [m]\n",
      "beeta = 1.508*dS**0.376;\n",
      "shi_LsW = 2.47*10**(-4)/dS**1.21;\n",
      "shi_LtW = ((2.09*10**(-6))*(737.5*L_prime)**beeta)/dS**2;\n",
      "shi_LOW = shi_LtW-shi_LsW; \n",
      "shi_Ls = (0.0486*viscosity_L**0.02*sigma**0.99)/(dS**1.21*Density_L**0.37);\n",
      "H = ((975.7*L_prime**0.57*viscosity_L**0.13)/(Density_L**0.84*((2.024*L_prime**0.430)-1)))*(sigma/0.073)**(0.1737-0.262*math.log10(L_prime));# [m]\n",
      "shi_Lo = shi_LOW*H;\n",
      "shi_Lt = shi_Lo+shi_Ls;\n",
      "# From Eqn. 6.73:\n",
      "aA = aAW*(shi_Lo/shi_LOW);# [square m/cubic m]\n",
      "# From Table 6.3 (Pg 196):\n",
      "e = 0.71;\n",
      "# From Eqn. 6.71:\n",
      "eLo = e-shi_Lt;\n",
      "# From Chapter 2:\n",
      "ScG = 1;\n",
      "MavG = 0.656*Ma+(1-0.656)*Mb;# [kg/kmol]\n",
      "G = G_prime/MavG;\n",
      "viscosity_G = 2.96*10**(-5);# [kg/m.s]\n",
      "# From Eqn. 6.70:\n",
      "Fg = (1.195*G/ScG**(2/3))*((dS*G_prime/(viscosity_G*(1-eLo)))**(-0.36));# [kmol/square m s (mole fraction)]\n",
      "kY_prime = Fg;# [kmol/square m s (mole fraction)]\n",
      "DL = 4.80*10**(-9);# [square m/s]\n",
      "ScL = viscosity_L/(Density_L*DL);\n",
      "# From Eqn. 6.72:\n",
      "kL = (25.1*DL/dS)*((dS*L_prime/viscosity_L)**0.45)*ScL**0.5;# [kmol/square m s (kmol/cubic m)]\n",
      "# At 588.33 OC\n",
      "Density_W = 53.82;# [kg/cubic m]\n",
      "kx_prime = Density_W*kL;# [kmol/square m s (mole fraction)]\n",
      "# Value1 = [x G a ky_prime*10^3 kx_prime]\n",
      "Value1 = numpy.array([[0.915 ,0.0474 ,20.18 ,1.525, 0.01055],[0.6, 0.0454 ,21.56 ,1.542, 0.00865],[0.370 ,0.0444 ,21.92 ,1.545 ,0.00776],[0.370, 0.0466 ,38, 1.640, 0.0143],[0.2 ,0.0447, 32.82 ,1.692 ,0.0149],[0.1 ,0.0443 ,31.99 ,1.766 ,0.0146],[0.02, 0.0352 ,22.25 ,1.586 ,0.0150]]);\n",
      "# From Fig: 9.50\n",
      "# At x = 0.2:\n",
      "y = 0.36;\n",
      "slope = -(Value1[4,4]/(Value1[4,3]*10**(-3)));\n",
      "# The operating line drawn from(x,y) with slope. The point where it cuts the eqb. line gives yi.\n",
      "# K = ky_prime*a(yi-y)\n",
      "# For the enriching section:\n",
      "# En = [y yi 1/K Gy]\n",
      "En = numpy.array([[0.915 ,0.960, 634 ,0.0433],[0.85 ,0.906 ,532.8 ,0.0394],[0.8 ,0.862 ,481.1 ,0.0366],[0.70, 0.760 ,499.1, 0.0314],[0.656, 0.702, 786.9, 0.0292]]);\n",
      "# For the Stripping section:\n",
      "# St = [y yi 1/K Gy]\n",
      "St = numpy.array([[0.656, 0.707, 314.7, 0.0306],[0.50, 0.639, 124.6 ,0.0225],[0.40 ,0.580, 99.6 ,0.01787],[0.3 ,0.5 ,89 ,0.0134],[0.2 ,0.390, 92.6 ,0.00888],[0.10, 0.232, 154.5, 0.00416],[0.032 ,0.091, 481 ,0.00124]])\n",
      "# Graphical Integration, according to Eqn.9.52::\n",
      "\n",
      "plt.plot(En[:,3],En[:,2],'g');\n",
      "plt.grid();\n",
      "ax = pylab.gca()\n",
      "ax.set_xlabel(\"Gy\");\n",
      "ax.set_ylabel(\"1 / (ky_prime*a*(yi-y))\");\n",
      "plt.title(\"Graphical Integration for Enriching section\");\n",
      "plt.show()\n",
      "# From Area under the curve:\n",
      "Ze = 7.53;# [m]\n",
      "# Graphical Integration:\n",
      "\n",
      "plt.plot(St[:,3],St[:,2],'r');\n",
      "plt.grid('on');\n",
      "ax = pylab.gca()\n",
      "ax.set_xlabel(\"Gy\");\n",
      "ax.set_ylabel(\"1 / (ky_prime*a*(yi-y))\");\n",
      "plt.title(\"Graphical Integration for Stripping section\");\n",
      "plt.show()\n",
      "\n",
      "# From Area under the curve:\n",
      "Zs = 4.54;# [m]\n",
      "# Since the equlibrium curve slope varies so greatly that the use of overall mass transfer coeffecient is not recommended:\n",
      "print\"Height of Tower for enriching Section is \",Ze,\" m\\n\"\n",
      "print\"Height of Tower for Stripping Section is \",Zs,\" m\\n\""
     ],
     "language": "python",
     "metadata": {},
     "outputs": [
      {
       "output_type": "stream",
       "stream": "stdout",
       "text": [
        "Illustration 9.12 - Page: 429\n",
        "\n",
        "\n"
       ]
      },
      {
       "metadata": {},
       "output_type": "display_data",
       "png": "[encoded data removed]",
       "text": [
        "<matplotlib.figure.Figure at 0xa5ce470>"
       ]
      },
      {
       "metadata": {},
       "output_type": "display_data",
       "png": "[encoded data removed]",
       "text": [
        "<matplotlib.figure.Figure at 0x7bc0518>"
       ]
      },
      {
       "metadata": {},
       "output_type": "display_data",
       "png": "[encoded data removed]",
       "text": [
        "<matplotlib.figure.Figure at 0xa7dcd30>"
       ]
      },
      {
       "output_type": "stream",
       "stream": "stdout",
       "text": [
        "Height of Tower for enriching Section is  7.53  m\n",
        "\n",
        "Height of Tower for Stripping Section is  4.54  m\n",
        "\n"
       ]
      }
     ],
     "prompt_number": 3
    },
    {
     "cell_type": "heading",
     "level": 2,
     "metadata": {},
     "source": [
      "Ex9.13: Page 436"
     ]
    },
    {
     "cell_type": "code",
     "collapsed": false,
     "input": [
      "\n",
      "\n",
      "# Illustration 9.13:\n",
      "\n",
      "print'Illustration 9.13\\n\\n'\n",
      "\n",
      "#**************************Calculation Of Minimum Reflux ratio************************#\n",
      "# Page: 436\n",
      "print'Page: 436\\n\\n'\n",
      "\n",
      "import math\n",
      "import numpy\n",
      "from scipy import interp\n",
      "from scipy.optimize import fsolve\n",
      "import numpy.linalg as lin\n",
      "#***Data***#\n",
      "# C1:CH4 C2:C2H6 C3:n-C3H8 C4:n-C4H10 C5:n-C5H12 C6:n-C6H14\n",
      "# zF = [zF(C1) zF(C2) zF(C3) zF(C4) zF(C5) zF(C6)]\n",
      "zF = numpy.array([0.03 ,0.07 ,0.15 ,0.33 ,0.30 ,0.12]);# [mole fraction]\n",
      "LF_By_F = 0.667;\n",
      "Temp = 82;# [OC]\n",
      "ylk = 0.98;\n",
      "yhk = 0.01;\n",
      "#**********#\n",
      "\n",
      "# Data = [m HG HL(30 OC);m HG HL(60 OC);m HG HL(90 OC);m HG HL(120 OC);]\n",
      "Data1 = numpy.array([[16.1 ,12790 ,9770],[19.3 ,13910, 11160],[21.8 ,15000, 12790],[24.0 ,16240, 14370]]);# [For C1]\n",
      "Data2 = numpy.array([[3.45, 22440, 16280],[4.90 ,24300 ,18140],[6.25 ,26240 ,19890],[8.15 ,28140, 21630]]);# [For C2]\n",
      "Data3 = numpy.array([[1.10, 31170, 16510],[2.00 ,33000 ,20590],[2.90, 35800 ,25600],[4.00 ,39000, 30900]]);# [For C3]\n",
      "Data4 = numpy.array([[0.35, 41200 ,20350],[0.70 ,43850 ,25120],[1.16 ,46500, 30000],[1.78 ,50400 ,35400]]);# [For C4]\n",
      "Data5 = numpy.array([[0.085, 50500, 24200],[0.26, 54000 ,32450],[0.50 ,57800 ,35600],[0.84, 61200 ,41400]]);# [For C5]\n",
      "Data6 = numpy.array([[0.0300, 58800 ,27700],[0.130, 63500, 34200],[0.239 ,68150 ,40900],[0.448, 72700 ,48150]]);# [For C6]\n",
      "\n",
      "# T = [Temparature]\n",
      "T = numpy.array([30,60,0,120]);\n",
      "\n",
      "# Flash vaporisation of the Feed:\n",
      "# Basis: 1 kmol feed throughout\n",
      "# After Several trials, assume:\n",
      "F = 1.0;# [kmol]\n",
      "GF_By_F = 0.333;\n",
      "LF_By_GF = LF_By_F/GF_By_F;\n",
      "m82 = numpy.zeros(6);\n",
      "y = numpy.zeros(6);\n",
      "m82[0] = interp(Temp,T,Data1[:,1]);# [For C1]\n",
      "m82[1] = interp(Temp,T,Data2[:,0]);# [For C2]\n",
      "m82[2] = interp(Temp,T,Data3[:,0]);# [For C3]\n",
      "m82[3] = interp(Temp,T,Data4[:,0]);# [For C4]\n",
      "m82[4] = interp(Temp,T,Data5[:,0]);# [For C5]\n",
      "m82[5] = interp(Temp,T,Data6[:,0]);# [For C6]\n",
      "for i in range (0,6):\n",
      "    y[i] = zF[i]*(LF_By_GF+1)/(1.0+(2/m82[i]));\n",
      "\n",
      "Sum = sum(y);\n",
      "# Since Sum is sufficiently close to 1.0, therefore:\n",
      "q = 0.67;# [LF_By_F]\n",
      "# Assume:\n",
      "# C3: light key\n",
      "# C5: heavy key\n",
      "zlkF = zF[2];# [mole fraction]\n",
      "zhkF = zF[4];# [mole fraction]\n",
      "ylkD = ylk*zF[2];# [kmol]\n",
      "yhkD = yhk*zF[4];# [kmol]\n",
      "\n",
      "# Estimate average Temp to be 80 OC\n",
      "m80 = numpy.zeros(6);\n",
      "alpha80 = numpy.zeros(6);\n",
      "m80[0] = interp(Temp,T,Data1[:,0]);# [For C1]\n",
      "m80[1] = interp(Temp,T,Data2[:,0]);# [For C2]\n",
      "m80[2] = interp(Temp,T,Data3[:,0]);# [For C3]\n",
      "m80[3] = interp(Temp,T,Data4[:,0]);# [For C4]\n",
      "m80[4] = interp(Temp,T,Data5[:,0]);# [For C5]\n",
      "m80[5] = interp(Temp,T,Data6[:,0]);# [For C6]\n",
      "for i in range(0,6):\n",
      "    alpha80[i] = m80[i]/m80[4];\n",
      "\n",
      "# By Eqn. 9.164:\n",
      "yD_By_zF1 = (((alpha80[0]-1)/(alpha80[2]-1))*(ylkD/zF[2]))+(((alpha80[2]-alpha80[0])/(alpha80[2]-1))*(yhkD/zF[4]));# [For C1]\n",
      "yD_By_zF2 = (((alpha80[1]-1)/(alpha80[2]-1))*(ylkD/zF[2]))+(((alpha80[2]-alpha80[1])/(alpha80[2]-1))*(yhkD/zF[4]));# [For C2]\n",
      "yD_By_zF6 = (((alpha80[5]-1)/(alpha80[2]-1))*(ylkD/zF[2]))+(((alpha80[2]-alpha80[5])/(alpha80[2]-1))*(yhkD/zF[4]));# [For C6]\n",
      "# The distillate contains:\n",
      "yC1 = 0.03;# [kmol C1]\n",
      "yC2 = 0.07;# [kmol C2]\n",
      "yC6 = 0;# [kmol C6]\n",
      "# By Eqn 9.165:\n",
      "def g1(phi):\n",
      "    return (((alpha80[0]*zF[0])/(alpha80[0]-phi))+((alpha80[1]*zF[1])/(alpha80[1]-phi))+((alpha80[2]*zF[2])/(alpha80[2]-phi))+((alpha80[3]*zF[3])/(alpha80[3]-phi))+((alpha80[4]*zF[4])/(alpha80[4]-phi))+((alpha80[5]*zF[5])/(alpha80[5]-phi)))-(F*(1-q))\n",
      "# Between alphaC3 & alphaC4:\n",
      "phi1 = fsolve(g1,3);\n",
      "# Between alphaC4 & alphaC5:\n",
      "phi2 = fsolve(g1,1.5);\n",
      "# From Eqn. 9.166:\n",
      "# Val = D*(Rm+1)\n",
      "# (alpha80(1)*yC1/(alpha80(1)-phi1))+(alpha80(2)*yC2/(alpha80(2)-phi1))+(alpha80(3)*ylkD/(alpha80(3)-phi1))+(alpha80(4)*yD/(alpha80(4)-phi1))+(alpha80(i)*yhkD/(alpha80(5)-phi1))+(alpha80(6)*yC6/(alpha80(6)-phi1)) = Val.....................(1)\n",
      "# (alpha80(1)*yC1/(alpha80(1)-phi2))+(alpha80(2)*yC2/(alpha80(2)-phi2))+(alpha80(3)*ylkD/(alpha80(3)-phi2))+(alpha80(4)*yD/(alpha80(4)-phi2))+(alpha80(i)*yhkD/(alpha80(5)-phi2))+(alpha80(6)*yC6/(alpha80(6)-phi2)) = Val ....................(2)\n",
      "# Solving simultaneously:\n",
      "a =numpy.array([[-alpha80[3]/(alpha80[3]-phi1), 1],[-alpha80[3]/(alpha80[3]-phi2), 1]]);\n",
      "b =numpy.array([[alpha80[0]*yC1/[alpha80[0]-phi1]]+[alpha80[1]*yC2/[alpha80[1]-phi1]]+[alpha80[2]*ylkD/[alpha80[2]-phi1]]+[alpha80[i]*yhkD/[alpha80[4]-phi1]]+[alpha80[5]*yC6/[alpha80[5]-phi1]],[alpha80[0]*yC1/[alpha80[0]-phi2]]+[alpha80[1]*yC2/[alpha80[1]-phi2]]+[alpha80[2]*ylkD/[alpha80[2]-phi2]]+[alpha80[i]*yhkD/[alpha80[4]-phi2]]+[alpha80[5]*yC6/[alpha80[5]-phi2]]])\n",
      "soln = lin.solve(a,b);\n",
      "yC4 =0.1313547 #  [kmol C4 in the distillate]\n",
      "Val =0.617469; # [kmol C4 in the distillate]\n",
      "# For the distillate, at a dew point of 46 OC\n",
      "ydD = numpy.array([yC1,yC2 ,ylkD ,yC4 ,yhkD ,yC6]);\n",
      "D = sum(ydD);\n",
      "yD = zeros(6);\n",
      "m46 = zeros(6);\n",
      "alpha46 = zeros(6);\n",
      "Ratio1= zeros(6);\n",
      "m46[0] = interp(Temp,T,Data1[:,0]);# [For C1]\n",
      "m46[1] = interp(Temp,T,Data2[:,0]);# [For C2]\n",
      "m46[2] = interp(Temp,T,Data3[:,0]);# [For C3]\n",
      "m46[3] = interp(Temp,T,Data4[:,0]);# [For C4]\n",
      "m46[4] = interp(Temp,T,Data5[:,0]);# [For C5]\n",
      "m46[5] = interp(Temp,T,Data6[:,0]);# [For C6]\n",
      "yD=numpy.array([0.0786,0.1835,0.3854,0.34,0.007866,0.0])\n",
      "# mhk = mC5 at 46.6 OC, the assumed 46 OC is satisfactory.\n",
      "\n",
      "# For the residue, at a dew point of 46 OC\n",
      "xwW =numpy.array([zF[0]-yC1, zF[1]-yC2 ,zF[2]-ylkD, zF[3]-yC4, zF[4]-yhkD, zF[5]-yC6]);\n",
      "W = sum(xwW);\n",
      "xW = zeros(6);\n",
      "m113 = zeros(6);\n",
      "alpha113 = zeros(6);\n",
      "alphalk_av=zeros(6);\n",
      "alpha_av=zeros(6);\n",
      "Value=zeros(6);\n",
      "m113[0] = interp(Temp,T,Data1[:,1]);# [For C1]\n",
      "m113[1] = interp(Temp,T,Data2[:,1]);# [For C2]\n",
      "m113[2] = interp(Temp,T,Data3[:,1]);# [For C3]\n",
      "m113[3] = interp(Temp,T,Data4[:,1]);# [For C4]\n",
      "m113[4] = interp(Temp,T,Data5[:,1]);# [For C5]\n",
      "m113[5] = interp(Temp,T,Data6[:,1]);# [For C6]\n",
      "for i in range(0,6):\n",
      "    alpha113[i] = m113[i]/m113[4];\n",
      "    xW[i] = xwW[i]/W;\n",
      "    # Ratio = yD/alpha46\n",
      "    Value[i] = alpha113[i]*xW[i];\n",
      "\n",
      "# mhk = mC5 at 114 OC, the assumed 113 OC is satisfactory.\n",
      "Temp_Avg = (114+46.6)/2;# [OC]\n",
      "# Temp_avg is very close to the assumed 80 OC\n",
      "Rm = (Val/D)-1;\n",
      "print\"Minimum Reflux Ratio is \",Rm,\" mol reflux/mol distillate\\n \\n\"\n",
      "print\"*****************Distillate Composition*********************\\n\"\n",
      "print\"C1\\t \\t \\t \\t:\",yD[0]\n",
      "print\"C2\\t \\t \\t \\t:\",yD[1]\n",
      "print\"C3\\t \\t \\t \\t:\",yD[2]\n",
      "print\"C4\\t \\t \\t \\t:\",yD[3]\n",
      "print\"C5\\t \\t \\t \\t:\",yD[4]\n",
      "print\"C6\\t \\t \\t \\t:\",yD[5]\n",
      "print\"\\n\"\n",
      "print\"*****************Residue Composition*********************\\n\"\n",
      "print\"C1\\t \\t \\t \\t: \",xW[0]\n",
      "print\"C2\\t \\t \\t \\t: \",xW[1]\n",
      "print\"C3\\t \\t \\t \\t: \",xW[2]\n",
      "print\"C4\\t \\t \\t \\t: \",xW[3]\n",
      "print\"C5\\t \\t \\t \\t: \",xW[4]\n",
      "print\"C6\\t \\t \\t \\t: \",xW[5]\n",
      "print\"\\n\"\n",
      "\n",
      "#**********************Number of Theoretical stage***********************#\n",
      "# Page:440\n",
      "print'Page: 440\\n\\n'\n",
      "\n",
      "for i in range(0,6):\n",
      "    alpha_av[i] = (alpha46[i]*alpha113[i])**0.5;\n",
      "\n",
      "alphalk_av = alpha_av[1];\n",
      "# By Eqn. 9.167:\n",
      "xhkW = xwW[3];\n",
      "xlkW = xwW[1];\n",
      "Nm = 3.496;\n",
      "# Ratio = yD/xW\n",
      "Ratio2= zeros(6)\n",
      "for i in range(0,6):\n",
      "    Ratio2[i] = (alpha_av[i]**(Nm+1))*yhkD/xhkW;\n",
      "\n",
      "# For C1:\n",
      "# yC1D-Ratio(1)*xC1W = 0\n",
      "# yC1D+xC1W = zF(1)\n",
      "# Similarly for others\n",
      "yD2=zeros(6)\n",
      "xW2=zeros(6)\n",
      "for i in range(0,6):\n",
      "    a = numpy.array([[1 ,-Ratio2[i]],[1, 1]]);\n",
      "    b = [0,zF[i]];\n",
      "    soln =lin.solve(a,b);\n",
      "    yD2[i] = soln[0];# [kmol]\n",
      "    xW2[i] = soln[1];# [kmol]\n",
      "\n",
      "D = sum(yD2);# [kmol]\n",
      "W = sum(xW2);# [kmol]\n",
      "# The distillate dew point computes to 46.6 OC and the residue bubble point computes to 113 OC, which is significantly close to the assumed.\n",
      "\n",
      "#***************Product composition at R = 0.8***********************#\n",
      "# Page:441\n",
      "print'Page: 441\\n\\n'\n",
      "\n",
      "# Since C1 and C2 do not enter in the residue nor C6 in the distillate, appreciably at total reflux or minimum reflux ratio, it will be assumed that they will not enter R = 0.8. C3 and C5 distribution are fixed by specifications. Only that C4 remains to be estimated.\n",
      "# R = [Infinte 0.8 0.58] [Reflux ratios For C4]\n",
      "R = [inf ,0.8, 0.58];\n",
      "# Val = R/(R+1)\n",
      "val=[ 0  ,  2.0 ,   2.0]\n",
      "# ydD = [Inf 0.58] \n",
      "y4D = [0.1255, 0.1306];\n",
      "yC4D = 0.1306  ;# by Linear Interpolation\n",
      "# For Distillate:\n",
      "Sum1 = sum(Ratio1);\n",
      "x0 = numpy.array([0.004,0.0444501,0.2495,0.65640,0.0451,0.0])\n",
      "print\"For the reflux ratio of 0.8\\n\"\n",
      "print\"*****************Distillate Composition*********************\\n\"\n",
      "print\"\\t\\t\\t Liquid reflux in equilibrium with the distillate vapour\\n\"\n",
      "for i in range(0,6):\n",
      "    print\"C\",i,\"\\t \\t \\t \\t\\t:\",x0[i]\n",
      "\n",
      "# For boiler:\n",
      "\n",
      "#**********Number Of Theoretical Trays***************#\n",
      "# Page: 443\n",
      "print'Page: 443\\n\\n'\n",
      "\n",
      "R = 0.8;# [reflux ratio]\n",
      "# From Eqn. 9.175\n",
      "intersection = (zlkF-(ylkD/D)*(1-q)/(R+1))/(zhkF-(yhkD/D)*(1-q)/(R+1));\n",
      "# Enriching Section:\n",
      "y1 = zeros(5);\n",
      "L = R*D;# [kmol]\n",
      "G = L+D;# [kmol]\n",
      "# Assume: Temp1 = 57 OC\n",
      "# alpha57 = [C1 C2 C3 C4 C5]\n",
      "alpha57 = numpy.array([79.1 ,19.6 ,7.50, 2.66, 1]);\n",
      "# From Eqn. 9.177, n = 0:\n",
      "Val57=zeros(6)\n",
      "for i in range(0,5):\n",
      "    y1[i] = (L/G)*x0[i]+((D/G)*yD[i]);\n",
      "    Val57[i] = y1[i]/alpha57[i];\n",
      "\n",
      "x1 = Val57/sum(Val57);\n",
      "mC5 = sum(Val57);\n",
      "Temp1 = 58.4; # [OC]\n",
      "# Liquid x1's is in equilibrium with y1's.\n",
      "xlk_By_xhk1 = x1[2]/x1[4];\n",
      "# Tray 1 is not the feed tray.\n",
      "# Assume: Temp2 = 63 OC\n",
      "# alpha63 = [C1 C2 C3 C4 C5]\n",
      "alpha63 = numpy.array([68.9 ,17.85, 6.95, 2.53, 1.00]);\n",
      "# From Eqn. 9.177, n = 1:\n",
      "y2=zeros(6)\n",
      "Val63=zeros(6)\n",
      "for i in range(0,5):\n",
      "    y2[i] = (L/G)*x1[i]+((D/G)*yD[i]);\n",
      "    Val63[i] = y1[i]/alpha63[i];\n",
      "    \n",
      "mC5 = sum(Val63);\n",
      "x2 = Val63/sum(Val63);\n",
      "xlk_By_xhk2 = x2[2]/x2[4];\n",
      "# The tray calculation are continued downward in this manner.\n",
      "# Results for trays 5 & 6 are:\n",
      "# Temp 75.4 [OC]\n",
      "# x5 = [C1 C2 C3 C4 C5]\n",
      "x5 = numpy.array([0.00240, 0.0195, 0.1125, 0.4800, 0.3859]);\n",
      "xlk_By_xhk5 = x5[2]/x5[4];\n",
      "# Temp6 = 79.2 OC\n",
      "# x6 = [C1 C2 C3 C4 C5]\n",
      "x6 = numpy.array([0.00204 ,0.0187 ,0.1045, 0.4247 ,0.4500]);\n",
      "xlk_By_xhk6 = x6[2]/x6[4];\n",
      "# From Eqn. 9.176:\n",
      "# Tray 6 is the feed tray\n",
      "Np1 = 6;\n",
      "\n",
      "# Exhausting section:\n",
      "# Assume Temp = 110 OC\n",
      "L_bar = L+(q*F);# [kmol]\n",
      "G_bar = L_bar-W;# [kmol]\n",
      "# alpha57 = [C3 C4 C5 C6]\n",
      "alpha110 = numpy.array([5 ,2.2 ,1, 0.501]);\n",
      "# From Eqn. 9.178:\n",
      "xNp = zeros(4);\n",
      "Val110=zeros(6)\n",
      "k = 0;\n",
      "for i in range(2,6):\n",
      "    xNp[k] = ((G_bar/L_bar)*yNpPlus1[i])+((W/L_bar)*xW[i]);\n",
      "    Val110[k] = alpha110[k]*xNp[k];\n",
      "    k = k+1;\n",
      "\n",
      "yNp = Val110/sum(Val110);\n",
      "mC5 = 1/sum(Val110);\n",
      "# yNp is in Eqb. with xNp:\n",
      "xlk_By_xhkNp = xNp[0]/xNp[3];\n",
      "# Results for Np-7 to Np-9 trays:\n",
      "# For Np-7\n",
      "# Temp =  95.7 OC\n",
      "# xNpMinus7 = [C3 C4 C5 C6]\n",
      "xNpMinus7 = numpy.array([0.0790 ,0.3944 ,0.3850, 0.1366]);\n",
      "xlk_By_xhkNpMinus7 = xNpMinus7[0]/xNpMinus7[2];\n",
      "# For Np-8\n",
      "# Temp =  94.1 OC\n",
      "# xNpMinus8 = [C3 C4 C5 C6]\n",
      "xNpMinus8 = numpy.array([0.0915, 0.3897 ,0.3826, 0.1362]);\n",
      "xlk_By_xhkNpMinus8 = xNpMinus8[0]/xNpMinus8[2];\n",
      "# For Np-9\n",
      "# Temp =  93.6 OC\n",
      "# xNpMinus9 = [C3 C4 C5 C6]\n",
      "xNpMinus9 = numpy.array([0.1032, 0.3812, 0.3801 ,0.1355]);\n",
      "xlk_By_xhkNpMinus9 = xNpMinus9[0]/xNpMinus9[2];\n",
      "# From Eqn. 9.176:\n",
      "# Np-8 is the feed tray.\n",
      "def g2(Np):\n",
      "    return  Np-8-Np1\n",
      "Np = fsolve(g2,7);\n",
      "print\"Number of theoretical Trays required for R = 0.8: \",Np[0]\n",
      "print\"\\n\"\n",
      "\n",
      "#**************Composition Correction*****************#\n",
      "# Page: 446\n",
      "print'Page: 446\\n\\n'\n",
      "\n",
      "# New Bubble Point:\n",
      "# Temp = 86.4 OC\n",
      "x6_new = x6*(1-xNpMinus8[3]);\n",
      "x6_new[4] = xNpMinus8[3];\n",
      "# alpha86 = [C1 C2 C3 C4 C5 C6]\n",
      "alpha86 =numpy.array([46.5, 13.5, 5.87, 2.39, 1.00, 0.467]);\n",
      "# From Eqn. 9.181:\n",
      "xhkn = x5[3];\n",
      "xhknPlus1 = x6_new[3];\n",
      "xC65 = alpha86[5]*x6_new[4]*xhkn/xhknPlus1;\n",
      "x5_new = x5*(1-xC65);\n",
      "x5_new[4] = 1-sum(x5_new);\n",
      "# Tray 5 has a bubble point of 80 OC\n",
      "# Similarly , the calculations are continued upward:\n",
      "# x2_new = [C1 C2 C3 C4 C5 C6]\n",
      "x2_new = numpy.array([0.0021, 0.0214 ,0.1418, 0.6786, 0.1553, 0.00262]);\n",
      "# y2_new = [C1 C2 C3 C4 C5 C6]\n",
      "y2_new = numpy.array([0.0444, 0.111 ,0.2885, 0.5099, 0.0458 ,0.00034]);\n",
      "# x1_new = [C1 C2 C3 C4 C5 C6]\n",
      "x1_new = numpy.array([0.00226, 0.0241, 0.1697 ,0.7100, 0.0932, 0.00079]);\n",
      "# y1_new = [C1 C2 C3 C4 C5 C6]\n",
      "y1_new = numpy.array([0.0451 ,0.1209 ,0.3259 ,0.4840 ,0.0239 ,0.000090]);\n",
      "# x0_new = [C1 C2 C3 C4 C5 C6]\n",
      "x0_new = numpy.array([0.00425 ,0.0425 ,0.2495, 0.6611 ,0.0425 ,0.00015]);\n",
      "# yD_new = [C1 C2 C3 C4 C5 C6]\n",
      "yD_new = numpy.array([0.0789 ,0.1842 ,0.3870 ,0.3420 ,0.0079, 0.00001]);\n",
      "# From Eqn. 9.184:\n",
      "# For C1 & C2\n",
      "alphalkm = alpha86[2];\n",
      "xlkmPlus1 = xNpMinus7[0];\n",
      "xlkm = x6_new[2];\n",
      "xC17 = x6_new[0]*alpha86[2]*xlkmPlus1/(alpha86[0]*xlkm);\n",
      "xC27 = x6_new[1]*alpha86[2]*xlkmPlus1/(alpha86[1]*xlkm);\n",
      "# Since xC17 = 1-xC27\n",
      "# The adjusted value above constitute x7's.\n",
      "# The new bubbl point is 94 OC\n",
      "# The calculations are continued down in the same fashion.\n",
      "# The new tray 6 has:\n",
      "# xC1 = 0.000023 & xC2 = 0.00236\n",
      "# It is clear that the conc. of these components are reducing so rapidly that there is no need to go an further.\n",
      "print\"******Corrected Composition***********\\n\"\n",
      "print\"Component\\t \\tx2\\t \\t \\t y2\\t \\t \\t x1\\t \\t \\t y1\\t \\t \\tx0\\t \\t \\tyD\\n\"\n",
      "for i in range(0,6):\n",
      "    print\"C\",i,\"\\t \\t \\t\",x2_new[i],\"\\t \\t \\t \\t \",y2_new[i],\"\\t \\t \\t \\t \",x1_new[i],\"\\t \\t \\t \\t\",y1_new[i],\"\\t \\t \\t \\t \\t\",x0_new[i],\"\\t \\t \\t \\t\",yD_new[i]\n",
      "\n",
      "print\"\\n\"\n",
      "\n",
      "#*************Heat Load of Condensor & Boiler & L/G ratio**********#\n",
      "# Page 448\n",
      "print'Page: 448\\n\\n'\n",
      "\n",
      "# Values of x0, yD & y1 are taken from the corrected concentration.\n",
      "# HD46 = [C1 C2 C3 C4 C5 C6]\n",
      "HD46 = numpy.array([13490, 23380, 32100, 42330, 52570, 61480]);# [kJ/kmol]\n",
      "yDHD= zeros(6)\n",
      "for i in range(0,6):\n",
      "    yDHD[i] = yD_new[i]*HD46[i];\n",
      "\n",
      "HD = sum(yDHD);# [kJ]\n",
      "# HL46 = [C1 C2 C3 C4 C5 C6]\n",
      "HL46 = numpy.array([10470, 17210, 18610, 22790, 27100, 31050]);# [kJ/kmol]\n",
      "xHL=zeros(6)\n",
      "for i in range(0,6):\n",
      "    xHL[i] = x0_new[i]*HL46[i];\n",
      "\n",
      "HL0 = sum(xHL);# [kJ]\n",
      "# HG58 = [C1 C2 C3 C4 C5 C6]\n",
      "HG58 = numpy.array([13960, 24190, 37260, 43500, 53900, 63500]);# [kJ/kmol]\n",
      "yHG1=zeros(6)\n",
      "for i in range(0,6):\n",
      "    yHG1[i] = y1_new[i]*HG58[i];\n",
      "\n",
      "HG1 = sum(yHG1);# [kJ]\n",
      "# From Eqn. 9.54:\n",
      "Qc = D*((R+1)*HG1-(R*HL0)-HD);# [kJ/kmol feed]\n",
      "# Similarly:\n",
      "HW = 39220;# [kJ]\n",
      "HF = 34260;# [kJ]\n",
      "# From Eqn. 9.55:\n",
      "Qb = (D*HD)+(W*HW)+Qc-(F*HF);# [kJ/kmol feed]\n",
      "# For tray n = 1\n",
      "G1 = D*(R+1);# [kmol]\n",
      "# With x1 & y2 from corrected composition;\n",
      "# HG66 = [C1 C2 C3 C4 C5 C6]\n",
      "HG66 = numpy.array([14070, 24610, 33800, 44100, 54780, 64430]);# [kJ/kmol feed]\n",
      "yHG2=zeros(6)\n",
      "for i in range(0,6):\n",
      "    yHG2[i] = y2_new[i]*HG66[i];\n",
      "\n",
      "HG2 = sum(yHG2);# [kJ]\n",
      "# HL58 = [C1 C2 C3 C4 C5 C6]\n",
      "HL58 =numpy.array([11610 ,17910 ,20470, 24900, 29500, 33840]);# [kJ/kmol feed]\n",
      "xHL1=zeros(6)\n",
      "for i in range(0,6):\n",
      "    xHL1[i] = x1_new[i]*HL58[i];\n",
      "\n",
      "HL1 = sum(xHL1);# [kJ]\n",
      "# From Eqn. 9.185:\n",
      "G2 = (Qc+D*(HD-HL1))/(HG2-HL1);# [kmol]\n",
      "L2 = G2-D;# [kmol]\n",
      "L2_By_G2 = L2/G2;\n",
      "# Similarly, the calculations are made for other trays in enriching section.\n",
      "# For tray, Np = 14:\n",
      "# C1 & C2 are absent.\n",
      "# HG113 = [C3 C4 C5 C6]\n",
      "HG113 = numpy.array([38260, 49310 ,60240, 71640]);# [kJ/kmol feed]\n",
      "k = 2;\n",
      "yHG15=zeros(6)\n",
      "for i in range(0,4):\n",
      "    yHG15[i] = yNpPlus1[k]*HG113[i];\n",
      "    k = k+1;\n",
      "\n",
      "HG15 = sum(yHG15);\n",
      "# HL107 = [C3 C4 C5 C6]\n",
      "HL107 = numpy.array([29310 ,31870, 37680 ,43500]);# [kJ/kmol feed]\n",
      "xHL14=zeros(6)\n",
      "for i in range(0,4):\n",
      "    xHL14[i] = xNp[i]*HL107[i];\n",
      "\n",
      "HL14 = sum(xHL14);# [kJ]\n",
      "# Similarly:\n",
      "HL13 = 36790;# [kJ]\n",
      "HG14 = 52610;# [kJ]\n",
      "# From Eqn. 9.186:\n",
      "G15_bar = (Qb+(W*(HL14-HW)))/(HG15-HL14);# [kmol]\n",
      "L14_bar = W+G15_bar;# [kmol]\n",
      "G14_bar = (Qb+(W*(HL13-HW)))/(HG14-HL13);# [kmol]\n",
      "L14_By_G14 = L14_bar/G14_bar;\n",
      "print\"Condensor Heat Load  kJ:\\n\",HL0\n",
      "print\"Reboiler Heat Load  kJ:\\n\",HG15\n",
      "# For other Exhausting Section Trays:\n",
      "# Result = [Tray No. L_By_G Temp(OC)]\n",
      "# Tray 0: Condensor\n",
      "# Tray 15: Reboiler\n",
      "Result = numpy.array([[0,0.80 ,46.6],[1 ,0.432 ,58.4],[2, 0.437, 66],[3, 0.369, 70.4],[4 ,0.305, 74],[5 ,0.310, 80.3],[6, 1.53, 86.4],[7, 4.05 ,94.1],[8 ,3.25 ,96.3],[9, 2.88 ,97.7],[10 ,2.58 ,99],[11, 2.48 ,100],[12 ,2.47 ,102.9],[13 ,2.42 ,104.6],[14 ,2.18 ,107.9],[15, 1.73 ,113.5]]);\n",
      "print\"**************L/G*************\\n\"\n",
      "print\"Tray No. \\t\\t L/G\\t\\t\\t\\t Temp(OC)\\n\"\n",
      "for i in range(0,16):\n",
      "    print Result[i,0],\"\\t\\t \\t \\t\",Result[i,1],\"\\t \\t \\t\",Result[i,2];\n",
      "\n",
      "# These values are not final.\n",
      "# They scatter eratically because they are based on the temp. and conc. computed with the assumption of constant L/G\n",
      "print\"\\n\"\n",
      "\n",
      "#**************Thiele Geddes Method******************#\n",
      "# Page:452\n",
      "print'Page: 452\\n\\n'\n",
      "\n",
      "# Use the tray Temperature to obtain m.\n",
      "# For C4:\n",
      "# m = [0(Condensor) 1 2 3 4 5 6 7 8 9 10 11 12 13 14 15(Reboiler)]\n",
      "m = numpy.array([0.50 ,0.66, 0.75 ,0.81 ,0.86 ,0.95 ,1.07 ,1.22 ,1.27 ,1.29 ,1.30, 1.32, 1.40, 1.45, 1.51, 1.65]);\n",
      "A = numpy.array([1.6,0.65,0.582,0.4555,0.354,0.326,1.42990])\n",
      "S = numpy.array([0.3012,0.39076,0.4479,0.503875,0.53225,0.56680,0.59917,0.69,0.95375])\n",
      "\n",
      "# f = Tray No. 6\n",
      "\n",
      "# From Eqn. 9.196:\n",
      "# Value1 = Gf*yf/(D*zD)\n",
      "Sum = 0;\n",
      "for i in range(0,6):\n",
      "    Val = 1;\n",
      "    for j in range(0,6):\n",
      "        Val = Val*A[j];\n",
      "    \n",
      "    Sum = Sum+Val;\n",
      "\n",
      "Value1 = 1+Sum;\n",
      "# From Eqn. 9.206:\n",
      "# Value2 = Lf_bar*xf/(W*xW);\n",
      "Sum = 0.5316\n",
      "Value2 = 1+Sum;\n",
      "# From Eqn. 9.208:\n",
      "# Value3 = W*xW/(D*zD)\n",
      "Value3 = A[6]*Value1/Value2;\n",
      "# From Eqn. 9.210:\n",
      "DyD = F*zF[3]/(Value3+1);# [kmol,C4]\n",
      "# From Eqn. 9.209:\n",
      "WxW = ((F*zF[3]))-(DyD);# [kmol, C4]\n",
      "# Similarly:\n",
      "# For [C1; C2; C3; C4; C5; C6]\n",
      "# Result2 = [Value1 Value2 Value3 DyD WxW]\n",
      "Result2 = numpy.array([[1.0150, 254*10**6 ,288*10**(-10), 0.03, 0],[1.0567, 8750, 298*10**(-5) ,0.07 ,0],[1.440, 17.241 ,0.0376 ,0.1447, 0.0053],[1.5778 ,1.5306 ,1.475, 0.1335 ,0.1965],[15580, 1.1595, 45.7 ,0.00643 ,0.29357],[1080 ,1.0687 ,7230 ,0.0000166 ,0.1198]]);\n",
      "D = sum(Result2[:,2]);# [kmol]\n",
      "W = sum(Result2[:,3]);# [kmol]\n",
      "# In the Distillate:\n",
      "DyD_C3 = Result[1,2];# [kmol]\n",
      "zFC3 = zF[2];# [kmol]\n",
      "percentC3 = (DyD_C3/zFC3)*100;\n",
      "DyD_C5 = Result2[3,2];# [kmol]\n",
      "zFC5 = zF[4];# [kmol]\n",
      "percentC5 = (DyD_C5/zFC5)*100;\n",
      "# These do not quite meet the original specification.\n",
      "# For Tray 2 & C4\n",
      "# From Eqn. 9.195:\n",
      "# Value4 = G2*y2/(D*zD)\n",
      "n = 2;\n",
      "Sum = 0;\n",
      "for i in range(0,n):\n",
      "    Val = 1;\n",
      "    for j in range(i,n):\n",
      "        Val = Val*A[j];\n",
      "    \n",
      "    Sum = Sum+Val;\n",
      "\n",
      "Value4 = 1+Sum;\n",
      "# From The enthalpy Balnce:\n",
      "G2 = 0.675;\n",
      "# From Eqn. 9.211:\n",
      "y2 = Value4*DyD/G2;\n",
      "# Similarly:\n",
      "# Value4 = [C1 C2 C3 C4 C5 C6]\n",
      "Value4 = numpy.array([1.0235, 1.1062, 1.351, 2.705, 10.18 ,46.9]);\n",
      "y2= numpy.array([0.04548,0.114,0.2896,0.53498,0.09697,0.001153]);\n",
      "Y2 = sum(y2);\n",
      "# Since Y2 is not equal to 1. THerefore the original temperature is incorrect. By adjusting y2 to unity.\n",
      "# The dew point is 77 OC instead of 66 OC\n",
      "# y2_adjusted = [C1 C2 C3 C4 C5 C6]\n",
      "y2_adjusted = numpy.array([0.0419 ,0.1059 ,0.2675 ,0.4939, 0.0896, 0.00106]);\n",
      "print\"*****************Composition By Thiele Geddes Method*****************\\n\"\n",
      "print\"Component\\t \\t \\t y2\\n\"\n",
      "for i in range(0,6):\n",
      "    print\"C\",i,\"\\t \\t \\t \\t\",y2_adjusted[i]\n",
      "# some values of solution in the textbook are incorrect"
     ],
     "language": "python",
     "metadata": {},
     "outputs": [
      {
       "output_type": "stream",
       "stream": "stdout",
       "text": [
        "Illustration 9.13\n",
        "\n",
        "\n",
        "Page: 436\n",
        "\n",
        "\n",
        "Minimum Reflux Ratio is  0.619146164974  mol reflux/mol distillate\n",
        " \n",
        "\n",
        "*****************Distillate Composition*********************\n",
        "\n",
        "C1\t \t \t \t: 0.0786\n",
        "C2\t \t \t \t: 0.1835\n",
        "C3\t \t \t \t: 0.3854\n",
        "C4\t \t \t \t: 0.34\n",
        "C5\t \t \t \t: 0.007866\n",
        "C6\t \t \t \t: 0.0\n",
        "\n",
        "\n",
        "*****************Residue Composition*********************\n",
        "\n",
        "C1\t \t \t \t:  0.0\n",
        "C2\t \t \t \t:  0.0\n",
        "C3\t \t \t \t:  0.00484930540974\n",
        "C4\t \t \t \t:  0.321097242636\n",
        "C5\t \t \t \t:  0.480081235564\n",
        "C6\t \t \t \t:  0.19397221639\n",
        "\n",
        "\n",
        "Page: 440\n",
        "\n",
        "\n",
        "Page: 441\n",
        "\n",
        "\n",
        "For the reflux ratio of 0.8\n",
        "\n",
        "*****************Distillate Composition*********************\n",
        "\n",
        "\t\t\t Liquid reflux in equilibrium with the distillate vapour\n",
        "\n",
        "C 0 \t \t \t \t\t: 0.004\n",
        "C 1 \t \t \t \t\t: 0.0444501\n",
        "C 2 \t \t \t \t\t: 0.2495\n",
        "C 3 \t \t \t \t\t: 0.6564\n",
        "C 4 \t \t \t \t\t: 0.0451\n",
        "C 5 \t \t \t \t\t: 0.0\n",
        "Page: 443\n",
        "\n",
        "\n",
        "Number of theoretical Trays required for R = 0.8:  14.0\n",
        "\n",
        "\n",
        "Page: 446\n",
        "\n",
        "\n",
        "******Corrected Composition***********\n",
        "\n",
        "Component\t \tx2\t \t \t y2\t \t \t x1\t \t \t y1\t \t \tx0\t \t \tyD\n",
        "\n",
        "C 0 \t \t \t0.0021 \t \t \t \t  0.0444 \t \t \t \t  0.00226 \t \t \t \t0.0451 \t \t \t \t \t0.00425 \t \t \t \t0.0789\n",
        "C 1 \t \t \t0.0214 \t \t \t \t  0.111 \t \t \t \t  0.0241 \t \t \t \t0.1209 \t \t \t \t \t0.0425 \t \t \t \t0.1842\n",
        "C 2 \t \t \t0.1418 \t \t \t \t  0.2885 \t \t \t \t  0.1697 \t \t \t \t0.3259 \t \t \t \t \t0.2495 \t \t \t \t0.387\n",
        "C 3 \t \t \t0.6786 \t \t \t \t  0.5099 \t \t \t \t  0.71 \t \t \t \t0.484 \t \t \t \t \t0.6611 \t \t \t \t0.342\n",
        "C 4 \t \t \t0.1553 \t \t \t \t  0.0458 \t \t \t \t  0.0932 \t \t \t \t0.0239 \t \t \t \t \t0.0425 \t \t \t \t0.0079\n",
        "C 5 \t \t \t0.00262 \t \t \t \t  0.00034 \t \t \t \t  0.00079 \t \t \t \t9e-05 \t \t \t \t \t0.00015 \t \t \t \t1e-05\n",
        "\n",
        "\n",
        "Page: 448\n",
        "\n",
        "\n",
        "Condensor Heat Load  kJ:\n",
        "21641.994\n",
        "Reboiler Heat Load  kJ:\n",
        "59915.6783775\n",
        "**************L/G*************\n",
        "\n",
        "Tray No. \t\t L/G\t\t\t\t Temp(OC)\n",
        "\n",
        "0.0 \t\t \t \t0.8 \t \t \t46.6\n",
        "1.0 \t\t \t \t0.432 \t \t \t58.4\n",
        "2.0 \t\t \t \t0.437 \t \t \t66.0\n",
        "3.0 \t\t \t \t0.369 \t \t \t70.4\n",
        "4.0 \t\t \t \t0.305 \t \t \t74.0\n",
        "5.0 \t\t \t \t0.31 \t \t \t80.3\n",
        "6.0 \t\t \t \t1.53 \t \t \t86.4\n",
        "7.0 \t\t \t \t4.05 \t \t \t94.1\n",
        "8.0 \t\t \t \t3.25 \t \t \t96.3\n",
        "9.0 \t\t \t \t2.88 \t \t \t97.7\n",
        "10.0 \t\t \t \t2.58 \t \t \t99.0\n",
        "11.0 \t\t \t \t2.48 \t \t \t100.0\n",
        "12.0 \t\t \t \t2.47 \t \t \t102.9\n",
        "13.0 \t\t \t \t2.42 \t \t \t104.6\n",
        "14.0 \t\t \t \t2.18 \t \t \t107.9\n",
        "15.0 \t\t \t \t1.73 \t \t \t113.5\n",
        "\n",
        "\n",
        "Page: 452\n",
        "\n",
        "\n",
        "*****************Composition By Thiele Geddes Method*****************\n",
        "\n",
        "Component\t \t \t y2\n",
        "\n",
        "C 0 \t \t \t \t0.0419\n",
        "C 1 \t \t \t \t0.1059\n",
        "C 2 \t \t \t \t0.2675\n",
        "C 3 \t \t \t \t0.4939\n",
        "C 4 \t \t \t \t0.0896\n",
        "C 5 \t \t \t \t0.00106\n"
       ]
      }
     ],
     "prompt_number": 85
    }
   ],
   "metadata": {}
  }
 ]
}