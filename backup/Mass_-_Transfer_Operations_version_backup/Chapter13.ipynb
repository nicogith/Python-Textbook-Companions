{
 "metadata": {
  "name": "",
  "signature": "sha256:b841fc17f95d9198998020044b36e625586e7f0a22a266fb56d5482aed19bd4a"
 },
 "nbformat": 3,
 "nbformat_minor": 0,
 "worksheets": [
  {
   "cells": [
    {
     "cell_type": "heading",
     "level": 1,
     "metadata": {},
     "source": [
      "Chapter 13: Leaching"
     ]
    },
    {
     "cell_type": "heading",
     "level": 2,
     "metadata": {},
     "source": [
      "Ex13.1: Page 722"
     ]
    },
    {
     "cell_type": "code",
     "collapsed": false,
     "input": [
      "\n",
      "\n",
      "# Illustration 13.1\n",
      "# Page: 722\n",
      "\n",
      "print'Illustration 13.1 - Page: 722\\n\\n'\n",
      "\n",
      "# Solution \n",
      "import numpy as np\n",
      "import math\n",
      "#***Data***#\n",
      "Density_L = 1137.0;# [kg/cubic m]\n",
      "Density_S = 960.0;# [kg/cubic m]\n",
      "Density_p = 1762.0;# [kg/cubic m]\n",
      "A_prime = 16.4;# [square m/kg]\n",
      "g = 9.81;# [square m/s]\n",
      "sigma = 0.066;# [N/m]\n",
      "Z = 3.0;# [m]\n",
      "dia = 1.0;# [m]\n",
      "#**********#\n",
      "\n",
      "e = 1-(Density_S/Density_p);# [fraction void]\n",
      "ap = A_prime*Density_S;# [square m/cubic m]\n",
      "# By Eqn. 6.67:\n",
      "dp = 6*(1-e)/ap;# [m]\n",
      "# By Eqn. 13.6:\n",
      "K = dp**2*e**3.0*g/(150.0*(1-e)**2);# [cubic m/s]\n",
      "check = K*Density_L*g/(g*sigma);\n",
      "if (check<0.02):\n",
      "    # By Eqn. 13.3: \n",
      "    So = 0.075;\n",
      "else:\n",
      "    # By Eqn. 13.4:\n",
      "    So = 0.0018/(check)\n",
      "\n",
      "# By Eqn. 13.2:\n",
      "ZD = (0.275/g)/((K/g)**0.5*(Density_L/sigma));# [m]\n",
      "# By Eqn. 13.1:\n",
      "Sav = ((Z-ZD)*So/Z)+(ZD/Z);\n",
      "# VolRatio=Vol liquid retained/Vol bed.\n",
      "VolRatio = Sav*e;\n",
      "print\"Vol liquid retained/Vol bed : \",round(VolRatio,4),\" cubic m/cubic m\\n\"\n",
      "Mass = VolRatio*math.pi*dia**2*Z*Density_L/4;# [kg]\n",
      "# Mass ratio=Mass Liquid/Mass dry solid\n",
      "MassRatio = VolRatio*Density_L/(Density_S);\n",
      "print\"Mass liquid/Mass dry solid: \",round(MassRatio,4),\" kg/kg\\n\""
     ],
     "language": "python",
     "metadata": {},
     "outputs": [
      {
       "output_type": "stream",
       "stream": "stdout",
       "text": [
        "Illustration 13.1 - Page: 722\n",
        "\n",
        "\n",
        "Vol liquid retained/Vol bed :  0.058  cubic m/cubic m\n",
        "\n",
        "Mass liquid/Mass dry solid:  0.0687  kg/kg\n",
        "\n"
       ]
      }
     ],
     "prompt_number": 12
    },
    {
     "cell_type": "heading",
     "level": 2,
     "metadata": {},
     "source": [
      "Ex13.2: Page 749"
     ]
    },
    {
     "cell_type": "code",
     "collapsed": false,
     "input": [
      "\n",
      "\n",
      "# Illustration 13.2\n",
      "# Page: 749\n",
      "\n",
      "print'Illustration 13.2 - Page: 749\\n\\n'\n",
      "\n",
      "# Solution  \n",
      "import matplotlib.pyplot as plt\n",
      "\n",
      "#***Data***#\n",
      "# Eqb=[x(Wt fraction NaOH in clear solution) N(kg CaCO3/kg soln in settled sludge) y*(wt fraction NaOH in soln of settled sludge)]\n",
      "# a=H2O b=CaCO3 c=NaOH\n",
      "Eqb = np.array([[0.090 ,0.495, 0.0917],[0.0700, 0.525, 0.0762],[0.0473, 0.568, 0.0608],[0.0330, 0.600, 0.0452],[0.0208, 0.620, 0.0295],[0.01187 ,0.650, 0.0204],[0.00710, 0.659, 0.01435],[0.00450, 0.666, 0.01015]]);\n",
      "def f80(x):\n",
      "    return x\n",
      "x = np.arange(0,0.12,0.01);\n",
      "Mass_c = 0.1;# [kg]\n",
      "Mass_b = 0.125;# [kg]\n",
      "Mass_a = 0.9;# [kg]\n",
      "#**************#\n",
      "\n",
      "\n",
      "plt.plot(x,f80(x),label=\"N Vs x\")\n",
      "plt.plot(Eqb[:,2],Eqb[:,1],label=\"N Vs Y\");\n",
      "plt.grid('on');\n",
      "plt.xlabel(\"x,y Wt. fraction of NaOH in loquid\");\n",
      "plt.ylabel(\"N kg CaCO3 / kg solution\");\n",
      "plt.legend('upper left');\n",
      "plt.title(\"Equilibrium Plot\")\n",
      "plt.show()\n",
      "# Basis: 1 kg soln in original mixture.\n",
      "# As in Fig. 13.27 (Pg 750)\n",
      "# The original mixture corresponds to M1:\n",
      "NM1 = 0.125;# [kg CaCO3/kg soln]\n",
      "yM1 = 0.1;# [kg NaOH/kg solution]\n",
      "# The tie line through M1 is drawn. At point E1 representing the settled sludge:\n",
      "N1 = 0.47;# [kg CaCO3/kg soln]\n",
      "y1 = 0.100;# [kg NaOH/kg solution]\n",
      "E1 = Mass_b/N1;# [kg soln. in sludge]\n",
      "Ro = 1-E1;# [kg clear soln drawn]\n",
      "\n",
      "# Stage 2:\n",
      "xo = 0;# [kg NaOH/kg soln]\n",
      "# By Eqn. 13.11:\n",
      "M2 = E1+Ro;# [kg liquid]\n",
      "# By Eqn. 13.12:\n",
      "NM2 = Mass_b/(E1+Ro);# [kg CaCO3/kg soln]\n",
      "# M2 is located on line RoE1. At this value of N, and the tie line through M2 is drawn. At E2:\n",
      "N2 = 0.62;# [kg CaCO3/kg soln]\n",
      "y2 = 0.035;# [kg NaOH/kg solution]\n",
      "E2 = Mass_b/N2;# [kg soln. in sludge]\n",
      "Ro = 1-E2;# [kg clear soln drawn]\n",
      "\n",
      "# Stage 3:\n",
      "xo = 0;# [kg NaOH/kg soln]\n",
      "# By Eqn. 13.11:\n",
      "M3 = E2+Ro;# [kg liquid]\n",
      "# By Eqn. 13.12:\n",
      "NM3 = Mass_b/M3;# [kg CaCO3/kg soln]\n",
      "# Tie line E3R3 is located through M3.At E3:\n",
      "N3 = 0.662;# [kg CaCO3/kg soln]\n",
      "y3 = 0.012;# [kg NaOH/kg solution]\n",
      "# By Eqn. 13.8:\n",
      "E3 = Mass_b/N3;# [kg soln. in sludge]\n",
      "print\"The fraction of original NaOH in the slurry: \",round(E3*y3/Mass_c,4),\" \\n\""
     ],
     "language": "python",
     "metadata": {},
     "outputs": [
      {
       "output_type": "stream",
       "stream": "stdout",
       "text": [
        "Illustration 13.2 - Page: 749\n",
        "\n",
        "\n"
       ]
      },
      {
       "metadata": {},
       "output_type": "display_data",
       "png": "[encoded data removed]",
       "text": [
        "<matplotlib.figure.Figure at 0x7c610f0>"
       ]
      },
      {
       "output_type": "stream",
       "stream": "stdout",
       "text": [
        "The fraction of original NaOH in the slurry:  0.0227  \n",
        "\n"
       ]
      }
     ],
     "prompt_number": 13
    },
    {
     "cell_type": "heading",
     "level": 2,
     "metadata": {},
     "source": [
      "Ex13.3: Page 754"
     ]
    },
    {
     "cell_type": "code",
     "collapsed": false,
     "input": [
      "\n",
      "\n",
      "# Illustration 13.3\n",
      "# Page: 754\n",
      "\n",
      "print'Illustration 13.3 - Page: 754\\n\\n'\n",
      "\n",
      "# Solution (a)\n",
      "import numpy as np\n",
      "from scipy import interp\n",
      "import matplotlib.pyplot as plt\n",
      "#***Data***#\n",
      "# a=H2O b=CaCO3 c=NaOH \n",
      "mass_c = 400;# [kg/h]\n",
      "x1 = 0.1;# [wt fraction NaOH in overflow]\n",
      "#**********#\n",
      "\n",
      "Mb = 100.0;# [kg/kmol]\n",
      "Mc = 40.0;# [kg/kmol]\n",
      "rate_c = mass_c/Mc;# [kmol/h]\n",
      "rate_b = rate_c/2;# [kmol/h]\n",
      "mass_b = rate_b*Mb;# [kg/h]\n",
      "# After trial calculations:\n",
      "y3 = 0.01;# [kg NaOH/kg solution]\n",
      "N3 = 0.666;# [kg CaCO3/kg solution]\n",
      "E3 = mass_b/N3;# [kg/h]\n",
      "lost_c = E3*y3;# [kg/h]\n",
      "sludge_a = E3-lost_c;# [kg/h]\n",
      "overflow_c = mass_c-lost_c;# [kg NaOH/kg solution]\n",
      "R1 = overflow_c/x1;# [kg overflow/h]\n",
      "R1_a = R1-overflow_c;# [kg/h]\n",
      "RNpPlus1 = R1_a+sludge_a;# [kg/h]\n",
      "# For purpose of calculation, it may be imagined that agitators are not present in the flowsheet and the first thickner is fed with the dry mixture of the reaction products, CaCO3 and NaOH, together with overflow from the second thickner.\n",
      "F = 400.0;# [kg NaOH/h]\n",
      "NF = mass_b/F;# [kg CaCO3/kg NaOH]\n",
      "yF = 1.0;# [wt fraction NaOH in dry solid, CaCO3 free basis]\n",
      "# Points R1, E3, RNpPlus1 and F are plotted as in Fig 13.30 (Pg 755) and locate the point deltaR at the intersection of lines FR1 and E3RNpPlus1 extended. The coordinates of point deltaR are NdeltaR=-0.1419, ydeltaR=-0.00213. Further computation must be done on enlarged section of the equilibrium diagram (Fig 13.31 (Pg 755)). Point deltaR is plotted and the stages stepped off in a usual manner. The construction are projected on the xy diagram. Three stages produce a value:     y3=0.001\n",
      "print\"The NaOH lost in sludge: \",round((lost_c/mass_c)*100,2),\"%\\n\"\n",
      "print\"\\n\"\n",
      "\n",
      "# Solution (b)\n",
      "#*** Data***#\n",
      "lost_c = 0.001*mass_c;# [kg/h]\n",
      "#***********#\n",
      "\n",
      "NNp_by_yNp = mass_b/lost_c;# [kg CaCO3/kg NaOH in final sludge]\n",
      "# In order to determine the liquid content of the final sludge:\n",
      "# Eqb=[N y_star]\n",
      "Eqb = np.array([[0.659 , 0.01435],[0.666, 0.01015],[0.677, 0.002],[0.679, 0.001],[0.680 ,0.0005]]);\n",
      "N_by_ystar = zeros(5);\n",
      "for i in range(0,5):\n",
      "    N_by_ystar[i] = Eqb[i,0]/(Eqb[i,1]);\n",
      "\n",
      "plt.plot(Eqb[:,0],Eqb[:,1]);\n",
      "plt.grid('on');\n",
      "plt.xlabel(\"x Wt fraction of NaOH\");\n",
      "plt.ylabel(\"N kg CaCO3 / kg solution\");\n",
      "plt.title(\"Equilibrium plot\")\n",
      "# By Interpolation, for N_by_ystar=NNp_by_yNp:\n",
      "NNp = interp(NNp_by_yNp,N_by_ystar,Eqb[:,0]);# [kg CaCO3/kg soln]\n",
      "yNp = NNp/NNp_by_yNp;# [wt fraction NaOH in the liquid of the final sludge]\n",
      "ENp = mass_b/NNp;# [kg/h]\n",
      "ENp_a = ENp-lost_c;# [kg/h]\n",
      "overflow_c = mass_c-lost_c;# [kg/h]\n",
      "R1 = overflow_c/0.1;# [kg/h]\n",
      "R1_a = R1-overflow_c;# [kg/h]\n",
      "RNpPlus1 = R1_a+sludge_a;# [kg/h]\n",
      "# On the operating diagram (Fig 13.32 (Pg 757)) point deltaR is located and stages were constructed. \n",
      "# Beyond the fourth stage, the ratio of the overflow to the liquid in the sludge become substantially constant.\n",
      "R_by_E = RNpPlus1/ENp;\n",
      "# This is the initial slope of the operating line on the lower part of the figure.\n",
      "# From Illustration 13.2:\n",
      "m = 0.01015/0.00450;\n",
      "Value1 = R_by_E/m;\n",
      "xNpPlus1 = 0;# [kg NaOH/kg solution]\n",
      "y4 = 0.007;# [wt fraction NaOH in the liquid]\n",
      "Value2 = (yNp-(m*xNpPlus1))/(y4-(m*xNpPlus1));\n",
      "# From Fig 5.16: (Pg 129):\n",
      "# An Additional 2.3 stages beyond 4 are computed graphically are required.\n",
      "# An additional two stage will make yNp/y4=0.099:\n",
      "yNp = 0.099*y4;# [wt fraction NaOH in the liquid]\n",
      "print round(yNp*ENp,2),\"kg NaOH was lost if 6 thickners were used\\n\"\n",
      "# An additional three stage will make yNp/y4=0.0365:\n",
      "yNp = 0.0365*y4;# [wt fraction NaOH in the liquid]\n",
      "print round(yNp*ENp,3),\"kg NaOH was lost if 7 thickners were used\\n\""
     ],
     "language": "python",
     "metadata": {},
     "outputs": [
      {
       "output_type": "stream",
       "stream": "stdout",
       "text": [
        "Illustration 13.3 - Page: 754\n",
        "\n",
        "\n",
        "The NaOH lost in sludge: "
       ]
      },
      {
       "output_type": "stream",
       "stream": "stdout",
       "text": [
        " 1.88 %\n",
        "\n",
        "\n",
        "\n",
        "0.51"
       ]
      },
      {
       "output_type": "stream",
       "stream": "stdout",
       "text": [
        " kg NaOH was lost if 6 thickners were used\n",
        "\n",
        "0.188 kg NaOH was lost if 7 thickners were used\n",
        "\n"
       ]
      },
      {
       "metadata": {},
       "output_type": "display_data",
       "png": "[encoded data removed]",
       "text": [
        "<matplotlib.figure.Figure at 0x7a1c780>"
       ]
      }
     ],
     "prompt_number": 1
    },
    {
     "cell_type": "heading",
     "level": 2,
     "metadata": {},
     "source": [
      "Ex13.4: Page 758"
     ]
    },
    {
     "cell_type": "code",
     "collapsed": false,
     "input": [
      "\n",
      "\n",
      "# Illustration 13.4\n",
      "# Page: 758\n",
      "\n",
      "print'Illustration 13.4 - Page: 758\\n\\n'\n",
      "\n",
      "# Solution\n",
      "import numpy\n",
      "from scipy import interp\n",
      "#***Data***#\n",
      "# a:oil b:soyabean c:hexane\n",
      "# Data=[100y*(Wt % oil in soln) 1/N(kg soln retained/kg insoluble solid)]\n",
      "Data = numpy.array([[0 ,0.58],[20 ,0.66],[30 ,0.70]]);\n",
      "# Soyabean feed:\n",
      "percent_b = 20.0;# [soluble]\n",
      "yF = 1.0;# [mass fraction oil,solid free basis]\n",
      "# Solvent:\n",
      "RNpPlus1 = 1.0;# [hexane,kg]\n",
      "xNpPlus1 = 0;# [mass fraction oil]\n",
      "# Leached Solids:\n",
      "leached = 0.005;# [fraction of oil to be leached]\n",
      "# Miscella:\n",
      "percent_miscella = 10.0;# [percent of insoluble solid]\n",
      "#**********#\n",
      "\n",
      "N = zeros(3);\n",
      "ystar_By_N = zeros(3);\n",
      "for i in range(0,3):\n",
      "    N[i] = 1/Data[i,1];# [kg insoluble solid/kg soln retained]\n",
      "    ystar_By_N[i] = Data[i,0]/(100*N[i]);# [kg oil/kg insoluble solid]\n",
      "\n",
      "# Basis: 1 kg flakes introduced\n",
      "# Soyabean feed:\n",
      "mass_b = 1-(percent_b/100.0);# [insoluble,kg]\n",
      "F = 1.0-mass_b;# [kg]\n",
      "NF = mass_b/F;# [kg insoluble solid/kg oil]\n",
      "\n",
      "# Leached Solids:\n",
      "Ratio = leached/(1-leached);# [kg oil/kg insoluble solid]\n",
      "# By interpolation:\n",
      "Np = interp(Ratio,ystar_By_N,N);\n",
      "miscella_b = (percent_miscella/100.0)*mass_b;# [Insoluble solid lost to miscella,kg]\n",
      "leached_b = (1-(percent_miscella/100.0))*mass_b;# [Insoluble solid in miscella,kg]\n",
      "ENp = leached_b/Np;# [kg soln retained]\n",
      "retained_a = Ratio*leached_b;# [oil retained,kg]\n",
      "retained_c = ENp-retained_a;# [Hexane retained,kg]\n",
      "yNp = retained_a/ENp;# [mass fraction of oil in retained liquid]\n",
      "\n",
      "# Miscella:\n",
      "mass_c = 1.0-retained_c;# [kg]\n",
      "mass_a = F-retained_a;# [kg]\n",
      "R1 = mass_c+mass_a;# [clear miscella,kg]\n",
      "x1 = mass_a/R1;# [mass fraction of oil in the liquid]\n",
      "NR1 = miscella_b/R1;# [kg insoluble solid/kg soln]\n",
      "\n",
      "# The operating diagram is shown in Fig 13.33 (Pg 759).\n",
      "# Point R1 represents the cloudy miscella and is therefore is displaced from the axis of he graph at NR1. Point deltaR is located as usual and the stages determined with the N=0 axis for all the stages but the first.\n",
      "print\"Between 4 and 5 stages are required\\n\""
     ],
     "language": "python",
     "metadata": {},
     "outputs": [
      {
       "output_type": "stream",
       "stream": "stdout",
       "text": [
        "Illustration 13.4 - Page: 758\n",
        "\n",
        "\n",
        "Between 4 and 5 stages are required\n",
        "\n"
       ]
      }
     ],
     "prompt_number": 3
    }
   ],
   "metadata": {}
  }
 ]
}