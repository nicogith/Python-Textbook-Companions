{
 "metadata": {
  "name": "",
  "signature": "sha256:c59a45d9559284ebbfa4c56e2ad9c90a674f6e02433515bc489ee0db922e92e9"
 },
 "nbformat": 3,
 "nbformat_minor": 0,
 "worksheets": [
  {
   "cells": [
    {
     "cell_type": "heading",
     "level": 1,
     "metadata": {},
     "source": [
      "Chapter 2:Molecular Diffusion In Fluids"
     ]
    },
    {
     "cell_type": "heading",
     "level": 2,
     "metadata": {},
     "source": [
      "Ex2.1: Pg-30"
     ]
    },
    {
     "cell_type": "code",
     "collapsed": false,
     "input": [
      "# Illustration 2.1\n",
      "\n",
      "# solution\n",
      "import math\n",
      "\n",
      "#***Data***#\n",
      "# a = O2 & b = CO\n",
      "Dab = 1.87*10**(-5);#[square m/s]\n",
      "Pt = 10**5;#[N/square m]\n",
      "z = 0.002;#[m]\n",
      "R = 8314;#[Nm/kmol]\n",
      "T = 273;#[K]\n",
      "Pa1 = 13*10.0**(3);#[N/square m]\n",
      "Pb1 = 10**(5)-13*10**(3);#[N/square m]\n",
      "Pa2 = 6500;#[N/square m]\n",
      "Pb2 = 10**(5)-6500.0;#[N/square m]\n",
      "#********#\n",
      "\n",
      "# Calculation from Eqn. 2.30\n",
      "Pbm = (Pb1-Pb2)/math.log(Pb1/Pb2);#[N/square m]\n",
      "Na = Dab*Pt*(Pa1-Pa2)/(R*T*z*Pbm);#[kmol/square m.s]\n",
      "print\" Rate of diffusion of oxygen is\",round(Na,7),\"kmol/square m.sec \""
     ],
     "language": "python",
     "metadata": {},
     "outputs": [
      {
       "output_type": "stream",
       "stream": "stdout",
       "text": [
        " Rate of diffusion of oxygen is 2.97e-05 kmol/square m.sec \n"
       ]
      }
     ],
     "prompt_number": 8
    },
    {
     "cell_type": "heading",
     "level": 2,
     "metadata": {},
     "source": [
      "Ex2.2:Pg-30"
     ]
    },
    {
     "cell_type": "code",
     "collapsed": false,
     "input": [
      "\n",
      "# Illustration2.2\n",
      "\n",
      "# solution\n",
      "import math\n",
      "\n",
      "#***Data***#\n",
      "Pt = 10**5.0;#[N/square m]\n",
      "z = 0.002;#[m]\n",
      "R = 8314.0;#[Nm/kmol]\n",
      "T = 273;#[K]\n",
      "#a = O2 b = CH4 c = H2\n",
      "Pa1 = 13*10**(3);#[N/square m]\n",
      "Pb1 = 10**(5)-13*10**(3);#[N/square m]\n",
      "Pa2 = 6500.0;#[N/square m]\n",
      "Pb2 = 10.0**(5)-6500;#[N/square m]\n",
      "Dac = 6.99*10**(-5);#[N/square m]\n",
      "Dab = 1.86*10.0**(-5);#[N/square m]\n",
      "#*******#\n",
      "\n",
      "# Calculation from Eqn. 2.30\n",
      "Pbm = (Pb1-Pb2)/math.log(Pb1/Pb2);#[N/square m]\n",
      "Yb_prime = 2.0/(2+1);\n",
      "Yc_prime = 1-Yb_prime;\n",
      "Dam = 1.0/((Yb_prime/Dab)+(Yc_prime/Dac));#[square m.s]\n",
      "Na = Dam*(Pa1-Pa2)*Pt/(R*T*z*Pbm);#[kmol/square m.s]\n",
      "print \"Rate of diffusion is\",round(Na,7),\"kmol/square m.sec\""
     ],
     "language": "python",
     "metadata": {},
     "outputs": [
      {
       "output_type": "stream",
       "stream": "stdout",
       "text": [
        "Rate of diffusion is 3.91e-05 kmol/square m.sec\n"
       ]
      }
     ],
     "prompt_number": 12
    },
    {
     "cell_type": "heading",
     "level": 2,
     "metadata": {},
     "source": [
      "Ex2.3:Pg-32"
     ]
    },
    {
     "cell_type": "code",
     "collapsed": false,
     "input": [
      "\n",
      "# Illustration2.3\n",
      "\n",
      "import math\n",
      "\n",
      "# solution\n",
      "\n",
      "#***Data***#\n",
      "# a = C2H5OH b = air\n",
      "Pt = 101.3*10**(3);#[N/square m]\n",
      "T = 273.0 ;#[K]\n",
      "#********#\n",
      "\n",
      "Ma = 46.07;# [kg/kmol]\n",
      "Mb = 29.0;# [kg/kmol]\n",
      "#For air from Table 2.2 (Pg 33)\n",
      "Eb_by_k = 78.6;# [K]\n",
      "rb = 0.3711; # [nm]\n",
      "# For C2H5OH using Eqn. 2.38 & 2.39\n",
      "# From Table 2.3\n",
      "Va = (2*0.0148)+(6*0.0037)+(0.0074);# [cubic m/kmol]\n",
      "Tba = 351.4;# [K]\n",
      "ra = 1.18*(Va**(1/3.0));#[nm]\n",
      "Ea_by_k = 1.21*Tba;# [K]\n",
      "rab = (ra+rb)/2.0;# [nm]\n",
      "Eab_by_k = math.sqrt(Ea_by_k*Eb_by_k);# [K]\n",
      "Collision_value = T/Eab_by_k;\n",
      "#From Fig. 2.5 (Page: 32) f(collision value)\n",
      "Collision_func = 0.595;\n",
      "Dab = (10**(-4)*(1.084-(0.249*math.sqrt((1/Ma)+(1/Mb))))*T**(3.0/2)*math.sqrt((1/Ma)+(1/Mb)))/(Pt*(rab**2)*Collision_func);#[square m/s]\n",
      "print\" The diffusivity of ethanol through air at 1 atm. & 0 degree C is\",round(Dab,7),\"m^2/s\"\n",
      "print\" The observed value from (Table 2.1) is 1.02*10^(-5) square m/s'\""
     ],
     "language": "python",
     "metadata": {},
     "outputs": [
      {
       "output_type": "stream",
       "stream": "stdout",
       "text": [
        " The diffusivity of ethanol through air at 1 atm. & 0 degree C is 1.05e-05 m^2/s\n",
        " The observed value from (Table 2.1) is 1.02*10^(-5) square m/s'\n"
       ]
      }
     ],
     "prompt_number": 28
    },
    {
     "cell_type": "heading",
     "level": 2,
     "metadata": {},
     "source": [
      "Ex2.4:Pg-34"
     ]
    },
    {
     "cell_type": "code",
     "collapsed": false,
     "input": [
      "\n",
      "# Illustration 2.4\n",
      "import math\n",
      "\n",
      "# solution\n",
      "\n",
      "#***Data****#\n",
      "# a = acetic acid b = H2O\n",
      "z = 0.001;# [m]\n",
      "Dab = 0.95*10**(-9);#[square m/s]\n",
      "#************#\n",
      "\n",
      "Ma = 60.03;# [kg/kmol]\n",
      "Mb = 18.02;# [kg/kmol]\n",
      "#At 17 C & 9% solution\n",
      "density1 = 1012; #[kg/cubic m]\n",
      "Xa1 = (0.09/Ma)/((0.09/Ma)+(0.91/Mb));\n",
      "Xb1 = 1-Xa1;\n",
      "M1 = 1/((0.09/Ma)+(0.91/Mb));# [kg/kmol]\n",
      "#At 17 C & 3% solution\n",
      "density2 = 1003.2; #[kg/cubic m]\n",
      "Xa2 = (0.03/Ma)/((0.03/Ma)+(0.97/Mb));\n",
      "Xb2 = 1-Xa2;\n",
      "M2 = 1/((0.03/Ma)+(0.97/Mb));# [kg/kmol]\n",
      "avg_density_by_M = ((density1/M1)+(density2/M2))/2;#[kmol/cubic m]\n",
      "# From Eqn. 2.42\n",
      "Xbm = (Xb2-Xb1)/math.log(Xb2/Xb1);\n",
      "# From Eqn. 2.41\n",
      "Na = Dab*(avg_density_by_M)*(Xa1-Xa2)/(Xbm*z); #[square m/s]\n",
      "print\" The rate of diffusion is\",round(Na,9),\"square m/s\""
     ],
     "language": "python",
     "metadata": {},
     "outputs": [
      {
       "output_type": "stream",
       "stream": "stdout",
       "text": [
        " The rate of diffusion is 1.018e-06 square m/s\n"
       ]
      }
     ],
     "prompt_number": 31
    },
    {
     "cell_type": "heading",
     "level": 2,
     "metadata": {},
     "source": [
      "Ex2.5:Pg-37"
     ]
    },
    {
     "cell_type": "code",
     "collapsed": false,
     "input": [
      "\n",
      "# Illustration 2.5\n",
      "\n",
      "\n",
      "# solution\n",
      "\n",
      "#***Data****#\n",
      "# a = mannitol b = H2O\n",
      "T = 293; # [K]\n",
      "#*****#\n",
      "\n",
      "Mb = 18.02;# [kg/kmol]\n",
      "# From Table 2.3 (Pg 33)\n",
      "Va = (0.0148*6)+(0.0037*14)+(0.0074*6); # [cubic m/kmol]\n",
      "viscosity = 0.001005; # [kg/m.s]\n",
      "association_factor = 2.26; # [water as a solvent]\n",
      "Dab = (117.3*10**(-18))*((association_factor*Mb)**0.5)*T/(viscosity*Va**0.6); # [square m/s]\n",
      "print\" Diffusivity of mannitol is\",round(Dab,12),\"square m/s\"\n",
      "print\" Observed value is 0.56*10^(-9) square m/s\""
     ],
     "language": "python",
     "metadata": {},
     "outputs": [
      {
       "output_type": "stream",
       "stream": "stdout",
       "text": [
        " Diffusivity of mannitol is 6.01e-10 square m/s\n",
        " Observed value is 0.56*10^(-9) square m/s\n"
       ]
      }
     ],
     "prompt_number": 48
    },
    {
     "cell_type": "heading",
     "level": 2,
     "metadata": {},
     "source": [
      "Ex2.6:Pg-37"
     ]
    },
    {
     "cell_type": "code",
     "collapsed": false,
     "input": [
      "\n",
      "# Illustration 2.6\n",
      "\n",
      "\n",
      "# solution\n",
      "\n",
      "#****Data****#\n",
      "T2 = 70+273;# [K]\n",
      "#**********#\n",
      "\n",
      "# a = mannitol b = H2O\n",
      "# From Illustration 2.5 at 20 C\n",
      "viscosity1 = 1.005*10**(-3); # [kg/m.s]\n",
      "Dab1 = 0.56*10**(-9); #[m^2/s]\n",
      "T1 = 273+20;# [K]\n",
      "# At 70 C\n",
      "viscosity2 = 0.4061*10**(-3); # kg/m.s\n",
      "# Eqn. 2.44 indicates Dab*viscocity/T  =  constnt\n",
      "Dab2 = Dab1*(T2)*(viscosity1)/(T1*viscosity2);# [square m/s]\n",
      "print\" Diffusivity of mannitol at 70 degree C is\",round(Dab2,11),\"square/s \"\n",
      "print\" Observed value at 70 degree C is 1.56*10^(-9) square m/s\""
     ],
     "language": "python",
     "metadata": {},
     "outputs": [
      {
       "output_type": "stream",
       "stream": "stdout",
       "text": [
        " Diffusivity of mannitol at 70 degree C is 1.62e-09 square/s \n",
        " Observed value at 70 degree C is 1.56*10^(-9) square m/s\n"
       ]
      }
     ],
     "prompt_number": 53
    }
   ],
   "metadata": {}
  }
 ]
}