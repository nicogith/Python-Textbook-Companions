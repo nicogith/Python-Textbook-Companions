{
 "metadata": {
  "name": "",
  "signature": "sha256:8fb22aace15e10e38e42ea742c8ed08180c4384c86b8595f798fa8d94958571f"
 },
 "nbformat": 3,
 "nbformat_minor": 0,
 "worksheets": [
  {
   "cells": [
    {
     "cell_type": "heading",
     "level": 1,
     "metadata": {},
     "source": [
      "Chapter 11: Absorption And Ion Exchange"
     ]
    },
    {
     "cell_type": "heading",
     "level": 2,
     "metadata": {},
     "source": [
      "Ex11.1: Page 575"
     ]
    },
    {
     "cell_type": "code",
     "collapsed": false,
     "input": [
      "\n",
      "\n",
      "# Illustration 11.1\n",
      "# Page: 575\n",
      "\n",
      "print'Illustration 11.1 - Page: 575\\n\\n'\n",
      "\n",
      "# Solution\n",
      "import numpy\n",
      "import matplotlib.pyplot as plt\n",
      "#*****Data*****#\n",
      "Temp = 30.0;# [OC]\n",
      "#*************#\n",
      "\n",
      "# From Fig. 11.5 (Pg 572)\n",
      "# The isosteres for various concentrations are straight and their slopes are measured with the help of milimeter rule.\n",
      "# Data = [X(kg acetone/kg carbon) lambda(slope of isostere)]\n",
      "Data = numpy.array([[0.05 ,1.170],[0.10, 1.245],[0.15 ,1.3],[0.20 ,1.310],[0.25 ,1.340],[0.30 ,1.327]]);# [kg acetone/kg carbon]\n",
      "lambdar = 551.0;# [reference at 30 OC,kJ/kg]\n",
      "Val = numpy.zeros(shape=(6,5));\n",
      "for i in range(0,6):\n",
      "    Val[i,0] = Data[i,0];# [kg acetone/kg carbon]\n",
      "    Val[i,1] = Data[i,1];# [slope of isostere]\n",
      "    Val[i,2] = -Data[i,1]*lambdar;# [kJ/kg acetone]\n",
      "\n",
      "\n",
      "plt.plot(Val[:,0],Val[:,2])\n",
      "plt.grid();\n",
      "xlabel(\"X (kg carbon / kg acetone)\");\n",
      "ylabel(\"Differential heat of adsorption (kJ / kg acetone)\");\n",
      "title(\"Graphical Integration\");\n",
      "plt.show()\n",
      "# Area: The area under the curve between X = 0 to X = X\n",
      "# Corresponding to Data(:,1):\n",
      "Area = numpy.array([-29.8 ,-63.0, -97.9 ,-134.0, -170.5, -207.5]);\n",
      "for i in range(0,6):\n",
      "    Val[i,3] = Area[i];\n",
      "    Val[i,4] = Area[i]+(lambdar*Val[i,0]);\n",
      "print \" (1) = X(kg acetone/kg carbon) \\n (2)= Slope of isostere \\n (3)= Differential heat of adsorption(kJ/kg acetone) \\n (4)=deltaH_prime(vapour(kJ/kg carbon)) \\n (5)=deltaH(liquid(kJ/kg carbon)\"\n",
      "print\"(1) \\t \\t \\t \\t (2)  \\t \\t \\t  \\t (3) \\t \\t \\t \\t \\t \\t \\t \\t (4) \\t \\t \\t \\t \\t \\t (5) \" \n",
      "for i in range(0,6):\n",
      "    print Val[i,0],\" \\t \\t \\t \",Val[i,1],\" \\t \\t \",Val[i,2],\" \\t \\t \\t \\t \\t \",Val[i,3],\" \\t \\t \\t \\t\",Val[i,4]\n",
      "#the answers are slightly different in textbook due to approximation while here answers are precise"
     ],
     "language": "python",
     "metadata": {},
     "outputs": [
      {
       "output_type": "stream",
       "stream": "stdout",
       "text": [
        "Illustration 11.1 - Page: 575\n",
        "\n",
        "\n"
       ]
      },
      {
       "metadata": {},
       "output_type": "display_data",
       "png": "[encoded data removed]",
       "text": [
        "<matplotlib.figure.Figure at 0x7df0da0>"
       ]
      },
      {
       "output_type": "stream",
       "stream": "stdout",
       "text": [
        " (1) = X(kg acetone/kg carbon) \n",
        " (2)= Slope of isostere \n",
        " (3)= Differential heat of adsorption(kJ/kg acetone) \n",
        " (4)=deltaH_prime(vapour(kJ/kg carbon)) \n",
        " (5)=deltaH(liquid(kJ/kg carbon)\n",
        "(1) \t \t \t \t (2)  \t \t \t  \t (3) \t \t \t \t \t \t \t \t (4) \t \t \t \t \t \t (5) \n",
        "0.05  \t \t \t  1.17  \t \t  -644.67  \t \t \t \t \t  -29.8  \t \t \t \t-2.25\n",
        "0.1  \t \t \t  1.245  \t \t  -685.995  \t \t \t \t \t  -63.0  \t \t \t \t-7.9\n",
        "0.15  \t \t \t  1.3  \t \t  -716.3  \t \t \t \t \t  -97.9  \t \t \t \t-15.25\n",
        "0.2  \t \t \t  1.31  \t \t  -721.81  \t \t \t \t \t  -134.0  \t \t \t \t-23.8\n",
        "0.25  \t \t \t  1.34  \t \t  -738.34  \t \t \t \t \t  -170.5  \t \t \t \t-32.75\n",
        "0.3  \t \t \t  1.327  \t \t  -731.177  \t \t \t \t \t  -207.5  \t \t \t \t-42.2\n"
       ]
      }
     ],
     "prompt_number": 66
    },
    {
     "cell_type": "heading",
     "level": 2,
     "metadata": {},
     "source": [
      "Ex11.2: Page 596"
     ]
    },
    {
     "cell_type": "code",
     "collapsed": false,
     "input": [
      "\n",
      "\n",
      "# Illustration 11.2\n",
      "# Page: 596\n",
      "\n",
      "print'Illustration 11.2 - Page: 596\\n\\n'\n",
      "\n",
      "# solution\n",
      "import numpy\n",
      "#*****Data*****#\n",
      "# x:kg carbon/kg soln\n",
      "# y_star: Equilibrium colour, units/kg soln.\n",
      "# X:adsorbate concentration, units/kg carbon\n",
      "# Data = [x Y_star]\n",
      "Data =numpy.array([[0, 9.6],[0.001, 8.6],[0.004 ,6.3],[0.008, 4.3],[0.02 ,1.7],[0.04, 0.7]]);\n",
      "Yo = 9.6;# [units of colour/kg soln]\n",
      "Y1 = 0.1*Yo;# [units of colour/kg soln]\n",
      "Ls = 1000.0;# [kg soln]\n",
      "#****************#\n",
      "\n",
      "\n",
      "n = 1.66;# [slope of line]\n",
      "# At X = 663, Y_star = 4.3\n",
      "# From eqn. 11.5\n",
      "X = 663;\n",
      "Y_star = 4.3;\n",
      "m = Y_star/X**n;\n",
      "# Freundlich Equation:\n",
      "def f76(X):\n",
      "    return m*X**n\n",
      "X = numpy.arange(0,1000,1);\n",
      "\n",
      "plt.plot(X,f76(X));\n",
      "plt.grid('on');\n",
      "plt.xlabel(\"units of colour/kg carbon\");\n",
      "plt.ylabel(\"units of colour/kg solution\");\n",
      "title(\"Equilibium Data(on arithmetic scale)\");\n",
      "plt.show()\n",
      "# Single Stage Operation:\n",
      "# Since fresh carbn is used:\n",
      "Xo = 0;# [units/kg carbon]\n",
      "# From scf(30):\n",
      "X1 = 270;# [units/kg carbon]\n",
      "Data2 =numpy.array([[Xo, Yo],[X1, Y1]]);\n",
      "\n",
      "plt.plot(X,f76(X),label=\"Equilbrium curve\")\n",
      "plt.plot(Data2[:,0],Data2[:,1],label=\"Operating line curve\")\n",
      "plt.grid('on');\n",
      "plt.xlabel(\"units of colour/kg carbon\");\n",
      "plt.ylabel(\"units of colour/kg solution\");\n",
      "plt.legend(loc='upper left');\n",
      "plt.title(\"Single stage operation\");\n",
      "plt.show()\n",
      "# From Eqn. 11.4:\n",
      "Ss = Ls*((Yo-Y1)/(X1-Xo));# [kg carbon/kg soln]\n",
      "print\"Quantity of fresh carbon recquired for single stage operation: \",Ss,\" kg carbon/1000 kg solution\\n\"\n",
      "\n",
      "# Two stage cross current operation:\n",
      "# For the minimumamount of carbon:\n",
      "X1 = 565;# [units/kg carbon]\n",
      "Y1 = 3.30;# [units of colour/kg soln]\n",
      "X2 = 270;# [units/kg carbon]\n",
      "Y2 = 0.96;# [units of colour/kg soln]\n",
      "Data3 = numpy.array([[Xo ,Yo],[X1 ,Y1]]);\n",
      "Data4 = numpy.array([[0 ,Y1],[X2 ,Y2]]);\n",
      "\n",
      "plt.plot(X,f76(X),label=\"Equilbrium curve\")\n",
      "plt.plot(Data3[:,0],Data3[:,1],label=\"First of two Cocurrent\")\n",
      "plt.plot(Data4[:,0],Data4[:,1],label=\"Second of two Cocurrent\")\n",
      "plt.grid('on');\n",
      "plt.xlabel(\"units of colour/kg carbon\");\n",
      "plt.ylabel(\"units of colour/kg solution\");\n",
      "plt.legend(loc='upper left');\n",
      "plt.title(\"Two stage Cross current operation\");\n",
      "plt.show()\n",
      "# From Eqn. 11.8:\n",
      "Ss1 = Ls*(Yo-Y1)/(X1-Xo);# [kg]\n",
      "Ss2 = Ls*(Y1-Y2)/(X2-Xo);# [kg]\n",
      "Ss = Ss1+Ss2;# [kg]\n",
      "print\"Quantity of fresh carbon recquired for two stage crosscurrent operation: \",Ss,\" kg carbon/1000 kg solution\\n\"\n",
      "\n",
      "# Two Stage counter current operation:\n",
      "Yo = 9.6;\n",
      "Y2 = 0.96;\n",
      "# By trial and error:\n",
      "XNpPlus1 = 0;\n",
      "X1 = 675;\n",
      "Data5 = numpy.array([[X1 ,Yo],[XNpPlus1 ,Y2]]);\n",
      "\n",
      "plt.plot(X,f76(X),label=\"Equilbrium curve\")\n",
      "plt.plot(Data5[:,0],Data5[:,1],label=\"Two stage Counter Current\");\n",
      "plt.grid('on');\n",
      "plt.xlabel(\"units of colour/kg carbon\");\n",
      "plt.ylabel(\"units of colour/kg solution\");\n",
      "plt.legend(loc='upper left');\n",
      "plt.title(\"Two stage Counter Current operation\");\n",
      "# By eqn 11.14:\n",
      "Ss = Ls*(Yo-Y2)/(X1-XNpPlus1);\n",
      "print\"Quantity of fresh carbon recquired for two stage Counter Current operation: \",Ss,\" kg carbon/1000 kg solution\\n\""
     ],
     "language": "python",
     "metadata": {},
     "outputs": [
      {
       "output_type": "stream",
       "stream": "stdout",
       "text": [
        "Illustration 11.2 - Page: 596\n",
        "\n",
        "\n"
       ]
      },
      {
       "metadata": {},
       "output_type": "display_data",
       "png": "[encoded data removed]",
       "text": [
        "<matplotlib.figure.Figure at 0xa1a8c88>"
       ]
      },
      {
       "metadata": {},
       "output_type": "display_data",
       "png": "[encoded data removed]",
       "text": [
        "<matplotlib.figure.Figure at 0x7d412e8>"
       ]
      },
      {
       "output_type": "stream",
       "stream": "stdout",
       "text": [
        "Quantity of fresh carbon recquired for single stage operation:  32.0  kg carbon/1000 kg solution\n",
        "\n"
       ]
      },
      {
       "metadata": {},
       "output_type": "display_data",
       "png": "[encoded data removed]",
       "text": [
        "<matplotlib.figure.Figure at 0x997fbe0>"
       ]
      },
      {
       "output_type": "stream",
       "stream": "stdout",
       "text": [
        "Quantity of fresh carbon recquired for two stage crosscurrent operation:  19.8171091445  kg carbon/1000 kg solution\n",
        "\n",
        "Quantity of fresh carbon recquired for two stage Counter Current operation:  12.8  kg carbon/1000 kg solution\n",
        "\n"
       ]
      },
      {
       "metadata": {},
       "output_type": "display_data",
       "png": "[encoded data removed]",
       "text": [
        "<matplotlib.figure.Figure at 0x7928278>"
       ]
      }
     ],
     "prompt_number": 63
    },
    {
     "cell_type": "heading",
     "level": 2,
     "metadata": {},
     "source": [
      "Ex11.3: Page 602"
     ]
    },
    {
     "cell_type": "code",
     "collapsed": false,
     "input": [
      "\n",
      "\n",
      "# Illustration 11.3\n",
      "# Page: 602\n",
      "\n",
      "print'Illustration 11.3 - Page: 602\\n\\n'\n",
      "\n",
      "# Solution\n",
      "import numpy\n",
      "from scipy.optimize import fsolve\n",
      "import math\n",
      "#***Data***#\n",
      "T = 1.0; #[m]\n",
      "di = 0.203;# [m]\n",
      "n = 1;# [for one impeller]\n",
      "Density_S = 2300.0;# [kg/cubic m]\n",
      "Density_p = 2300.0;# [kg/cubic m]\n",
      "C = 0.150;# [m]\n",
      "S = 50.0;# [kg]\n",
      "g = 9.807;# [m/s]\n",
      "dp = 8*10**(-4);# [m]\n",
      "N = 8.33; #[r/s]\n",
      "Temp=25;# [OC]\n",
      "#*************#\n",
      "\n",
      "# Assume:\n",
      "Po = 5;\n",
      "viscosity_L = 8.94*10**(-4);# [kg/m.s]\n",
      "Density_L = 998.0;# [kg/cubic m]\n",
      "delta_Density = Density_S-Density_L;# [kg/cubic m]\n",
      "# By Eqn. 11.23:\n",
      "Vts = g*dp**2*delta_Density/(18*viscosity_L);# [m/s]\n",
      "# By defn. of power number:\n",
      "# P = Po*Density_m*di**5*Ni**3\n",
      "# vm = math.pi*T**2*(Z+C)/4\n",
      "# Solid Volume = S/Density_p;\n",
      "# If these are substituted in Eqn. 11.22\n",
      "def f(Z):\n",
      "    return (((Z+C)**(1.3/3))*math.exp(4.35*Z/(T-0.1)))-((1.0839*Po*di**(11.0/2)*N**3*Density_p**(2.0/3))/(g*Vts*T**(7.0/6)*S**(2.0/3)))\n",
      "Z = fsolve(f,7);# [m]\n",
      "phi_Sm = 4*S/(math.pi*T**2*(Z+C)*Density_p);\n",
      "Density_m = (phi_Sm*Density_p)+((1-phi_Sm)*Density_L);# [kg/cubic m]\n",
      "phi_Ss = 0.6;\n",
      "viscosity_m = viscosity_L/(1-(phi_Sm/phi_Ss))**1.8;# [kg/m.s]\n",
      "Re = di**2*N*Density_m/viscosity_m;\n",
      "P = Po*Density_m*N**3*di**5;# [W]\n",
      "print \"Agitator Power required: \",round(P),\" W\\n\"\n",
      "#the answers are slightly different in textbook due to approximation while here answers are precise"
     ],
     "language": "python",
     "metadata": {},
     "outputs": [
      {
       "output_type": "stream",
       "stream": "stdout",
       "text": [
        "Illustration 11.3 - Page: 602\n",
        "\n",
        "\n",
        "Agitator Power required:  1113.0  W\n",
        "\n"
       ]
      }
     ],
     "prompt_number": 65
    },
    {
     "cell_type": "heading",
     "level": 2,
     "metadata": {},
     "source": [
      "Ex11.4: Page 604"
     ]
    },
    {
     "cell_type": "code",
     "collapsed": false,
     "input": [
      "\n",
      "\n",
      "# Illustration 11.4\n",
      "# Page: 604\n",
      "\n",
      "print'Illustration 11.4 - Page: 604\\n\\n'\n",
      "\n",
      "import math\n",
      "#****Data*****#\n",
      "# b: kerosene c:water\n",
      "# c:kg water/cubic m liquid\n",
      "Density_l = 783;# [kg/cubic m]\n",
      "viscosity_l = 1.7*10**(-3);# [kg/m.s]\n",
      "Mb = 200;# [kg/kmol]\n",
      "Density_p = 881;# [kg/cubic m]\n",
      "m = 0.522;# [(kg water/cubic m kerosene)/(kg water/kg gel)]\n",
      "Xo = 0;# [kg H2O/kg gel]\n",
      "#**************#\n",
      "\n",
      "# Solution (a)\n",
      "co = Density_l*4*10**(-5);# [kg water/cubic m]\n",
      "c1 = Density_l*5*10**(-6);# [kg water/cubic m]\n",
      "# For Ss minimum:\n",
      "X1 = c1/m;# [kg H2O/kg gel]\n",
      "# By Water Balance:\n",
      "SsminByVl = (co-c1)/(X1-Xo);# [kg gel/cubic m kerosene]\n",
      "print\"Minimum Solid/Liquid ratio used:\",SsminByVl,\" kg gel/cubic m kerosene\"\n",
      "print\"\\n\"\n",
      "\n",
      "# Solution (b)\n",
      "# Basis: 1 batch,1.7 cubic m kerosene\n",
      "Vl = 1.7;# [cubic m]\n",
      "Ss = 16*1.7;# [kg gel]\n",
      "V = Ss/Density_p;# [Xol. solid, cubic m]\n",
      "Vt = 1.7+V;# [Total batch volume, cubic m]\n",
      "# Take Z = T\n",
      "T = (Vt*4/math.pi)**(1.0/3);# [m]\n",
      "# To allow for the  adequate free board:\n",
      "h = 1.75;# [Vessel height,m]\n",
      "# Use a six-blade disk impeller.\n",
      "# From Fig. 11.26:\n",
      "# dp corresponding to 14 mesh:\n",
      "dp = 1.4/1000;# [m]\n",
      "TBydi1 = 2.0;\n",
      "Value1 = (Density_p-Density_l)/Density_l;\n",
      "# From Fig. 11.26:\n",
      "TBydi2 = 4.4;\n",
      "TBydiAv = (TBydi1+TBydi2)/2.0;\n",
      "di = T/TBydiAv;# [m]\n",
      "fr = 0.6;# [settled volume fraction of solids]\n",
      "Vs = V/fr;# [cubic m]\n",
      "depth = Vs/((math.pi*(T**2))/4);# [m]\n",
      "# The depth of settled solid is negligible.\n",
      "# Locate the turbine 150mm from the bottom of the tank.\n",
      "C = 0.150;# [m]\n",
      "\n",
      "# Power:\n",
      "# Use the sufficient agitator power to lift the solids to 0.6 m above the bottom of the vessel.\n",
      "Z_prime = 0.6-C;# [m]\n",
      "# The properties of the slurry in 0.6 m above the bottom of the vessel.\n",
      "Vm = 0.6*math.pi*T**2.0/4;# [square m]\n",
      "phi_Sm = V/Vm;# [vol fraction solid]\n",
      "# From Eqn. 11.24:\n",
      "Density_m = (phi_Sm*Density_p)+((1-phi_Sm)*Density_l);# [kg/cubic m]\n",
      "# From Eqn. 11.25:\n",
      "phi_Ss = 0.8;\n",
      "viscosity_m = viscosity_l/(1-(phi_Sm/phi_Ss))**1.8;# [kg/m.s]\n",
      "g = 9.81;# [m/s^2]\n",
      "# From Eqn. 11.23:\n",
      "delta_Density = Density_p-Density_l;# [kg/cubic m]\n",
      "Vts = g*dp**2*delta_Density/(18*viscosity_l);# [m/s]\n",
      "# From Eqn. 11.22:\n",
      "n = 1.0;\n",
      "P = (g*n*Density_m*Vm*Vts)*(phi_Sm**(2.0/3))*(TBydiAv**(1.0/2))*math.exp((4.35*Z_prime/T)-0.1);# [W]\n",
      "# Assume:\n",
      "Po = 5.0;\n",
      "N = (P/(Po*Density_m*di**5))**(1.0/3);# [r/s]\n",
      "# Use:\n",
      "N1 = 2.0;# [r/s]\n",
      "Re = di**2.0*N1*Density_m/viscosity_m;\n",
      "# From fig. 6.5: Po = 5\n",
      "# Hence our assumption was right.\n",
      "print\"Power delivered to the slurry: \",round((P*(N1/N)**3),2),\" W\\n\",\n",
      "print\"Power to the motor will be larger, depending on the efficiency of the motor and speed reducer.\\n\"\n",
      "\n",
      "# Mass transfer: \n",
      "# From Eqn. 11.28:\n",
      "Rep = (dp**(4.0/3))*(P/Vl)**(1.0/3)*(Density_l**(2.0/3)/viscosity_l);\n",
      "# From Eqn. 2.44:\n",
      "Temp = 298;# [K]\n",
      "phi = 1.0;\n",
      "Va = 0.0756;# [Chapter 2 notation]\n",
      "Dl = ((117.3*10**(-18))*((phi*Mb)**0.5)*Temp)/(viscosity_l*(Va**(0.6)));\n",
      "ScL = viscosity_l/(Density_l*Dl);\n",
      "if  dp<(2.0/1000):\n",
      "    # From Eqn. 11.29:\n",
      "    ShL = 2+(0.47*Rep**0.62*(1/TBydiAv**0.17)*ScL**0.36);\n",
      "else:\n",
      "    # From Eqn. 11.30:\n",
      "    ShL = 0.222*Rep**(3.0/4)*ScL**(1.0/3);\n",
      "\n",
      "kL = ShL*Dl/dp;# [m/s]\n",
      "apS = (math.pi*dp**2)/(math.pi*dp**3*Density_p/6.0);\n",
      "apL = apS*16;# [square m/cubic m liquid]\n",
      "Ratio = Ss/(Vl*m);\n",
      "# From Eqn. 11.40:\n",
      "thetha = math.log((co/c1)/(1+(1/Ratio)-(1/Ratio)*(co/c1)))/((1+(1/Ratio))*kL*apL);\n",
      "print\"Contacting Time required: \",round(thetha/60,2),\" min\\n\"\n",
      "#the answers are slightly different in textbook due to approximation while here answers are precise"
     ],
     "language": "python",
     "metadata": {},
     "outputs": [
      {
       "output_type": "stream",
       "stream": "stdout",
       "text": [
        "Illustration 11.4 - Page: 604\n",
        "\n",
        "\n",
        "Minimum Solid/Liquid ratio used: 3.654  kg gel/cubic m kerosene\n",
        "\n",
        "\n",
        "Power delivered to the slurry:  350.05  W\n",
        "Power to the motor will be larger, depending on the efficiency of the motor and speed reducer.\n",
        "\n",
        "Contacting Time required:  8.3  min\n",
        "\n"
       ]
      }
     ],
     "prompt_number": 69
    },
    {
     "cell_type": "heading",
     "level": 2,
     "metadata": {},
     "source": [
      "Ex11.5: Page 606"
     ]
    },
    {
     "cell_type": "code",
     "collapsed": false,
     "input": [
      "\n",
      "\n",
      "# Illustration 11.5\n",
      "# Page: 606\n",
      "\n",
      "print'Illustration 11.5 - Page: 606\\n\\n'\n",
      "\n",
      "# Solution\n",
      "\n",
      "import math\n",
      "import numpy.linalg as lin\n",
      "#*****Data******#\n",
      "Vl = 1.1*10**(-4);# [cubic m/s]\n",
      "Ss = 0.0012;# [kg/s]\n",
      "Density_p = 1120;# [kg/cubic m]\n",
      "dp = 8*10**(-4);# [m]\n",
      "Ds = 2*10**(-11);# [square m/s]\n",
      "Dl = 7.3*10**(-10);# [square m/s]\n",
      "m = 0.2;# [(kg Cu2+/cubic m soln)/(kg Cu2+/kg resin)]\n",
      "T = 1;# [m]\n",
      "#********************#\n",
      "\n",
      "Z = T;# [m]\n",
      "# The particles will be lifted to the top of the vessel.\n",
      "Z_prime = 0.5;# [m]\n",
      "viscosity_l = 8.94*10**(-4);# [kg/m.s]\n",
      "Density_l = 998;# [kg/cubic m]\n",
      "delta_Density = Density_p-Density_l;# [kg/cubic m]\n",
      "g = 9.80;# [m/square s]\n",
      "# From Eqn. 11.23:\n",
      "Vts = g*dp**2*delta_Density/(18*viscosity_l);\n",
      "Vm = math.pi*T**2*Z/4.0;# [cubic m]\n",
      "Vs = Ss/Density_p;# [cubic m/s]\n",
      "phi_Sm = Vs/(Vs+Vl);# [vol fraction]\n",
      "# From eqn. 11.24:\n",
      "Density_m = (phi_Sm*Density_p)+((1-phi_Sm)*Density_l);# [kg/cubic m]\n",
      "# From Eqn. 11.22:\n",
      "n = 1.0;\n",
      "di = 0.3;# [m]\n",
      "P = (g*n*Density_m*Vm*Vts)*(phi_Sm**(2.0/3))*((T/di)**(1.0/2))*math.exp((4.35*Z_prime/T)-0.1);# [W]\n",
      "# To estimate the impeller speed:\n",
      "# Assume:\n",
      "Po = 5;\n",
      "N = (P/(Po*Density_m*di**5))**(1.0/3);# [r/s]\n",
      "Re = di**2*N*Density_m/viscosity_l;\n",
      "# From fig. 6.5: Assumption of Po was correct.\n",
      "print\"Speed of the impeller:\",round(N,2),\" r/s\\n\"\n",
      "vT = (math.pi/4.0)*T**2*Z;# [cubic m]\n",
      "vL = vT*(1-phi_Sm);\n",
      "# From Eqn. 11.28:\n",
      "Rep = (dp**(4.0/3))*(P/vL)**(1.0/3)*(Density_l**(2.0/3)/viscosity_l);\n",
      "ScL = viscosity_l/(Density_l*Dl);\n",
      "if  dp<(2.0/1000):\n",
      "    # From Eqn. 11.29:\n",
      "    ShL = 2+(0.47*Rep**0.62*((di/T)**0.17)*ScL**0.36);\n",
      "else:\n",
      "    # From Eqn. 11.30:\n",
      "    ShL = 0.222*Rep**(3.0/4)*ScL**(1.0/3);\n",
      "\n",
      "ShL = 130.3;# Value wrong in book\n",
      "kL = ShL*Dl/dp;# [m/s]\n",
      "# Since the dispersion is uniform throughout the vessel, the residence time for both liquid and solid is same.\n",
      "thetha = vL*(1-phi_Sm)/Vl;# [s]\n",
      "# From Fig. 11.27:\n",
      "abcissa = m*kL*dp/(2*Ds*Density_p);\n",
      "Parameter = 2*m*kL*thetha/(dp*Density_p);\n",
      "co = 100*Density_l/10.0**6;# [kg/cubic m]\n",
      "EMS = 0.63;\n",
      "Xo = 0;\n",
      "# From Eqn. 11.44:\n",
      "# (1): X1-(EMS/m)*c1 = 0\n",
      "# Solute balance:\n",
      "# (2): (Ss*X1)+(vL*c1) = (vL*co)+(Xo*Ss)\n",
      "a = [[1 ,-(EMS/m)],[Ss ,Vl]];\n",
      "b = [0,(Vl*co)+(Xo*Ss)];\n",
      "soln =lin.solve(a,b);\n",
      "X1 = soln[0];\n",
      "c1 = soln[1];\n",
      "print\"Effluent Cu2+ conc. \",round(c1*10**(6)/Density_l,2),\" ppm\\n\","
     ],
     "language": "python",
     "metadata": {},
     "outputs": [
      {
       "output_type": "stream",
       "stream": "stdout",
       "text": [
        "Illustration 11.5 - Page: 606\n",
        "\n",
        "\n",
        "Speed of the impeller: 2.71  r/s\n",
        "\n",
        "Effluent Cu2+ conc.  2.83  ppm\n"
       ]
      }
     ],
     "prompt_number": 78
    },
    {
     "cell_type": "heading",
     "level": 2,
     "metadata": {},
     "source": [
      "Ex11.6: Page 616"
     ]
    },
    {
     "cell_type": "code",
     "collapsed": false,
     "input": [
      "\n",
      "\n",
      "# Illustration 11.6\n",
      "# Page: 616\n",
      "\n",
      "print'Illustration 11.6 - Page: 616\\n\\n'\n",
      "from scipy.optimize import fsolve\n",
      "# Solution\n",
      "\n",
      "#*****Data*****#\n",
      "# a: air b:silica\n",
      "Density_a = 1.181;# [kg/cubic m]\n",
      "Density_b = 671.2;# [kg/cubic m]\n",
      "kSap = 0.965;# [kg H2O/square m s]\n",
      "Y1 = 0.005;# [kg H2O/kg dry air]\n",
      "Y2 = 0.0001;# [kg H2O/kg dry air]\n",
      "Ss = 0.680;# [square m/s]\n",
      "Gs = 1.36;# [kg/square m.s]\n",
      "X2 = 0;# [kg H2O/kg dry air]\n",
      "# Equilibrium function:\n",
      "m = 0.0185;\n",
      "#************#\n",
      "X1 = (Gs*(Y1-Y2)/Ss)+X2;# [kg H2O/kg dry air]\n",
      "def  f77(X):\n",
      "    return  m*X \n",
      "Y2_star = f77(X2);# [kg H2O/kg dry gel]\n",
      "Y1_star = f77(X1);# [kg H2O/kg dry gel]\n",
      "deltaY = ((Y1-Y1_star)-(Y2-Y2_star))/math.log((Y1-Y1_star)/(Y2-Y2_star));\n",
      "NtoG = (Y1-Y2)/deltaY;\n",
      "# If the fixed bed data are to be used for estimating the mass transfer coeffecient for a moving bed of solids\n",
      "va = Ss/Density_b;# [m/s]\n",
      "vb = Gs/Density_a;# [m/s]\n",
      "rel_v = va+vb;# [relative velocity,m/s]\n",
      "G_prime = rel_v*Density_a;# [relative mass velocity of air,kg/square m s]\n",
      "HtG = Gs/(31.6*G_prime**0.55);# [m]\n",
      "HtS = Ss/kSap;# [m]\n",
      "# By Eqn. 11.52:\n",
      "HtoG = HtG+(m*Gs/Ss)*HtS;# [m]\n",
      "Z = NtoG*HtoG;# [m]\n",
      "print\"Height of continuous countercurrent isothermal absorber for drying: \",round(Z,4),\" m\\n\""
     ],
     "language": "python",
     "metadata": {},
     "outputs": [
      {
       "output_type": "stream",
       "stream": "stdout",
       "text": [
        "Illustration 11.6 - Page: 616\n",
        "\n",
        "\n",
        "Height of continuous countercurrent isothermal absorber for drying:  0.2511  m\n",
        "\n"
       ]
      }
     ],
     "prompt_number": 81
    },
    {
     "cell_type": "heading",
     "level": 2,
     "metadata": {},
     "source": [
      "Ex11.7: Page 619"
     ]
    },
    {
     "cell_type": "code",
     "collapsed": false,
     "input": [
      "\n",
      "\n",
      "# Illustration 11.7\n",
      "# Page: 619\n",
      "\n",
      "print'Illustration 11.7 - Page: 619\\n\\n'\n",
      "\n",
      "# Solution\n",
      "\n",
      "import numpy.linalg as lin\n",
      "import matplotlib.pyplot as plt\n",
      "\n",
      "#*****Data*****#\n",
      "# a: C2H4 b:C3H8\n",
      "# The equlibrium curve is plotted in Fig.11.33 (Pg 620)\n",
      "# C3H8 is more strongly adsorbed component and composition in the gas and adsorbate are expressed as weight fraction C3H8.\n",
      "Ma = 28;# [kg/kmol]\n",
      "Mb = 44.1;# [kg/kmol]\n",
      "xaF = 0.6;# [mole fraction]\n",
      "xbF = 0.4;# [mole fraction]\n",
      "xa1 = 0.05;# [mole fraction]\n",
      "xa2 = 0.95;# [mole fraction]\n",
      "#***************#\n",
      "\n",
      "xF = xbF*Mb/((xbF*Mb)+(xaF*Ma));# [wt. fraction C3H8]\n",
      "xb1 = 1-xa1;# [mole fraction]\n",
      "x1 = xb1*Mb/((xb1*Mb)+xa1*Ma);# [wt. fraction C3H8]\n",
      "xb2 = 1-xa2;# [mole fraction]\n",
      "x2 = xb2*Mb/((xb2*Mb)+(xa2*Ma));# [wt. fraction C3H8]\n",
      "# Basis: 100 kg feed gas\n",
      "F = 100.0;# [kg]\n",
      "# (1): R2+PE = F [From Eqn. 11.63]\n",
      "# (2): (R2*x2)+(PE*x1) = (F*xF) [From Eqn. 11.64]\n",
      "# Solving simultaneously:\n",
      "a = [[1, 1],[x2 ,x1]];\n",
      "b = [F,(F*xF)];\n",
      "soln = lin.solve(a,b);\n",
      "R2 = soln[0];# [kg]\n",
      "PE = soln[1];# [kg]\n",
      "# Point F at xF and point E1 at x1 are located on the diagram.\n",
      "# From the diagram:\n",
      "N1 = 4.57;# [kg carbon/kg adsorbate]\n",
      "# The minimum reflux ratio is found as it is for the extraction.\n",
      "delta_Em = 5.80;\n",
      "Ratio = (delta_Em/N1)-1;# [kg reflux gas/kg product]\n",
      "R1_m = Ratio*PE;# [kg]\n",
      "E1_m = R1_m+PE;# [kg]\n",
      "B_m = N1*E1_m;# [kg carbon/100 kg feed]\n",
      "Ratio1 = 2*Ratio;\n",
      "# From Eqn. 11.58:\n",
      "N_deltaE = (Ratio1+1.0)*N1;# [kg carbon/kg adsorbate]\n",
      "# Point deltaE is located on the diagram:\n",
      "R1 = Ratio1*PE;# [kg]\n",
      "E1 = R1+PE;# [kg]\n",
      "B = N1*E1;# [kg]\n",
      "N_deltaR = -(B/R2);# [kg carbon/kg adsorbate]\n",
      "# Random lines such as the delta_RK are drawn from detaR, and the intersection of equilibrium curves are projected downward in the manner shown to provide the adsorption section operating curve.\n",
      "# Similarly random lines such as delta_EJ are drawn from deltaE, and the intersections are projected downwards to provide the enriching section operating curve.\n",
      "# Data = [x x_star]\n",
      "Data = numpy.array([[0.967 ,0.825],[0.90, 0.710],[0.80 ,0.60],[0.70, 0.50],[0.60 ,0.43],[0.512 ,0.39],[0.40 ,0.193],[0.30, 0.090],[0.20, 0.041],[0.0763, 0.003]]);\n",
      "Val = zeros(10);\n",
      "for i in range(0,10):\n",
      "    Val[i] = 1/((Data[i,0])-Data[i,1]);\n",
      "plt.plot(Data[:,0],Val);\n",
      "plt.grid('on');\n",
      "plt.xlabel(\"x\");\n",
      "plt.ylabel(\"1 / (x-x*)\");\n",
      "plt.title(\"Graphical Integraion\");\n",
      "# The area under the curve between x1 & xF, for the enriching section:\n",
      "Area1 = 2.65;\n",
      "# The area under the curve between xF & x2, for the adsorption section:\n",
      "Area2 = 2.67;\n",
      "r = Ma/Mb;\n",
      "# From Eqn.11.66:\n",
      "# For the enriching section:\n",
      "NtoG1 = Area1-math.log((1+(r-1)*x1)/(1+(r-1)*xF));\n",
      "# For the adsortion section:\n",
      "NtoG2 = Area2-math.log((1+(r-1)*x1)/(1+(r-1)*xF));\n",
      "NtoG = NtoG1+NtoG2;\n",
      "print\"Number of transfer units: \",NtoG"
     ],
     "language": "python",
     "metadata": {},
     "outputs": [
      {
       "output_type": "stream",
       "stream": "stdout",
       "text": [
        "Illustration 11.7 - Page: 619\n",
        "\n",
        "\n",
        "Number of transfer units:  5.77763695068\n"
       ]
      },
      {
       "metadata": {},
       "output_type": "display_data",
       "png": "[encoded data removed]",
       "text": [
        "<matplotlib.figure.Figure at 0x9e2fda0>"
       ]
      }
     ],
     "prompt_number": 85
    },
    {
     "cell_type": "heading",
     "level": 2,
     "metadata": {},
     "source": [
      "Ex11.8: Page 627"
     ]
    },
    {
     "cell_type": "code",
     "collapsed": false,
     "input": [
      "\n",
      "\n",
      "# Illustration 11.8\n",
      "# Page: 627\n",
      "\n",
      "print'Illustration 11.8 - Page: 627\\n\\n'\n",
      "\n",
      "# Solution\n",
      "\n",
      "from scipy.optimize import fsolve\n",
      "\n",
      "#******Data******#\n",
      "rate = 0.1;# [kg/s]\n",
      "conc = 3.0;# [kg vapour/100cubic m]\n",
      "Density_p = 720.0;# [kg/cubic m]\n",
      "Density_bed = 480.0;# [kg/cubic m]\n",
      "capablity = 0.45;# [kg vapour/kg carbon]\n",
      "dp = 0.0028;# [m]\n",
      "time = 3.0;# [h]\n",
      "#********************#\n",
      "\n",
      "Vap_adsorbed = time*3600.0*rate;# [kg]\n",
      "C_required = Vap_adsorbed*1.0/capablity;\n",
      "# Two beds will be needed: one adsorbing and another regenerated.\n",
      "totC_required = 2*C_required;# [kg]\n",
      "print\"Amount of carbon required: \",totC_required,\" kg\\n\",\n",
      "Vol = (C_required/Density_bed);\n",
      "# Assume:\n",
      "Z = 0.5;# [m]\n",
      "Area = Vol/Z;# [square m]\n",
      "# From Eqn. 6.66:\n",
      "T = 35.0;# [OC]\n",
      "viscosity_air = 1.82*10**(-5);# [kg/m.s]\n",
      "Density_air = (29/22.41)*(273.0/(T+273));\n",
      "e = 1-(Density_bed/Density_p);\n",
      "G = rate*(100.0/conc)*(Density_air/(Area));# [kg/square m.s]\n",
      "Re = dp*G/viscosity_air;\n",
      "Z = 0.5;# [m]\n",
      "def f78(delta_p):\n",
      "    return ((delta_p/Z)*(e**3*dp*Density_air)/((1-e)*G**2))-(150*(1-e)/Re)-1.75\n",
      "delta_p = fsolve(f78,7);\n",
      "print\"The pressure drop is:\",round(delta_p,2),\" N/square m\\n\"\n",
      "#the answers are slightly different in textbook due to approximation while here answers are precise"
     ],
     "language": "python",
     "metadata": {},
     "outputs": [
      {
       "output_type": "stream",
       "stream": "stdout",
       "text": [
        "Illustration 11.8 - Page: 627\n",
        "\n",
        "\n",
        "Amount of caron required:  4800.0  kg\n",
        "The pressure drop is: 1413.31  N/square m\n",
        "\n"
       ]
      }
     ],
     "prompt_number": 88
    },
    {
     "cell_type": "heading",
     "level": 2,
     "metadata": {},
     "source": [
      "Ex11.9: Page 636"
     ]
    },
    {
     "cell_type": "code",
     "collapsed": false,
     "input": [
      "\n",
      "\n",
      "# Illustration 11.9\n",
      "# Page: 636\n",
      "\n",
      "print'Illustration 11.9 - Page: 636\\n\\n'\n",
      "import matplotlib.pyplot as plt\n",
      "# Solution\n",
      "\n",
      "#*****Data******#\n",
      "Yo = 0.00267;# [kg H2O/kg dry air]\n",
      "Yb = 0.0001;# [kg H2O/kg dry air]\n",
      "Ye = 0.024;# [kg H2O/kg dry air]\n",
      "Z = 0.61;# [m]\n",
      "G_prime = 0.1295;# [kg/square m.s]\n",
      "#******************#\n",
      "\n",
      "# The equilicrium data is plotted in Fig. 11.45 (Pg 637)\n",
      "# The gel is initially \"dry\" and the effluent air initially of so low a humidity asto be substantially dry, so that the operating line passes through the origin of the figure\n",
      "# The operating line is then drawn to intersect the equilibrium curve.\n",
      "# Data = [Y[kg H2O/kg dry air] Y_star[kg H2O/kg dry air]]\n",
      "Data =numpy.array([[0.0001, 0.00003],[0.0002, 0.00007],[0.0004 ,0.00016],[0.0006, 0.00027],[0.0008, 0.00041],[0.0010, 0.00057],[0.0012 ,0.000765],[0.0014, 0.000995],[0.0016, 0.00123],[0.0018 ,0.00148],[0.0020 ,0.00175],[0.0022 ,0.00203],[0.0024 ,0.00230]])\n",
      "Val1 = zeros(13);\n",
      "# Val1 = [1/(Y-Y_star)]\n",
      "for i in range(0,13):\n",
      "    Val1[i] = 1/(Data[i,0]-Data[i,1]);\n",
      "\n",
      "# Graphical Integration:\n",
      "plt.plot(Data[:,0],Val1);\n",
      "plt.grid('on');\n",
      "plt.xlabel(\"Y(kg H20 / kg dry air)\");\n",
      "plt.ylabel(\"1 / (Y-Y_star)\");\n",
      "plt.title(\"Graphical Integration\");\n",
      "plt.show()\n",
      "# Area under The curve between Y = Yb and Y = Y:\n",
      "Area = [0 ,0.100 ,2.219 ,2.930 ,3.487 ,3.976 ,4.438 ,4.915, 5.432, 6.015, 6.728 ,7.716 ,9.304];\n",
      "# The total number of transfer unit corresponding to adsorption zone:\n",
      "NtoG = 9.304;\n",
      "Val2 = zeros(13);\n",
      "Val3 = zeros(13);\n",
      "# Val2 = [(w-wb)/wo]\n",
      "# Val3 = [Y/Yo]\n",
      "for i in range(0,13):\n",
      "    Val2[i] = Area[i]/NtoG;\n",
      "    Val3[i] = Data[i,0]/Yo;\n",
      "\n",
      "# Eqn. 11.74 can be arranged as follows:\n",
      "# f = integrate((1-(Y/Yo)),(w-wb)/wa,0,1)\n",
      "\n",
      "plt.plot(Val2,Val3);\n",
      "plt.grid('on');\n",
      "plt.xlabel(\"(w-wb) / wo\");\n",
      "plt.ylabel(\"Y / Yo\");\n",
      "plt.title(\"Break through curve\");\n",
      "plt.show()\n",
      "# From area above the curve of scf(2):\n",
      "f = 0.530;\n",
      "\n",
      "Gs = G_prime;# [kg/square m.s]\n",
      "# From Illustration: 11.6\n",
      "kYap = 31.6*G_prime**0.55;# [kg H2O/cubic m s delta_Y]\n",
      "kSap = 0.965;# [kg H2O/cubic m s delta_X]\n",
      "# From Fig. 11.48:\n",
      "Xt = 0.0858;# [kg H2O/kg gel]\n",
      "# From Eqn. 11.76:\n",
      "Ss = Yo*Gs/Xt;# [kg/square m.s]\n",
      "m = 0.0185;# [average slope of equilibrium curve]\n",
      "# From Eqn. 11.51 & Eqn. 11.52:\n",
      "HtG = Gs/kYap;# [m]\n",
      "HtS = Ss/kSap;# [m]\n",
      "HtoG = HtG+(m*Gs/Ss)*HtS;# [m]\n",
      "# From Eqn. 11.79:\n",
      "Za = NtoG*HtoG;# [m]\n",
      "# From Eqn. 11.74:\n",
      "Degree = (Z-(f*Za))/Z;\n",
      "Density_bed = 671.2;# [Illustration 11.6, kg/cubic m]\n",
      "mass_gel = Z*Density_bed;# [kg/square m]\n",
      "# At saturation point the gel contins:\n",
      "Y1 = mass_gel*Degree*Xt;# [kg H2O/square m cross section]\n",
      "# The air introduces:\n",
      "Y2 = Gs*Yo;# [kg/square m s]\n",
      "print\"Time to reach breakpoint is: \",round((Y1/(Y2*3600)),4),\" h\\n\""
     ],
     "language": "python",
     "metadata": {},
     "outputs": [
      {
       "output_type": "stream",
       "stream": "stdout",
       "text": [
        "Illustration 11.9 - Page: 636\n",
        "\n",
        "\n"
       ]
      },
      {
       "metadata": {},
       "output_type": "display_data",
       "png": "[encoded data removed]",
       "text": [
        "<matplotlib.figure.Figure at 0x9e39c88>"
       ]
      },
      {
       "metadata": {},
       "output_type": "display_data",
       "png": "[encoded data removed]",
       "text": [
        "<matplotlib.figure.Figure at 0x99973c8>"
       ]
      },
      {
       "output_type": "stream",
       "stream": "stdout",
       "text": [
        "Time to reach breakpoint is:  24.7778  h\n",
        "\n"
       ]
      }
     ],
     "prompt_number": 91
    },
    {
     "cell_type": "heading",
     "level": 2,
     "metadata": {},
     "source": [
      "Ex11.10: Page 640"
     ]
    },
    {
     "cell_type": "code",
     "collapsed": false,
     "input": [
      "\n",
      "\n",
      "# Illustration 11.10\n",
      "# Page: 640\n",
      "\n",
      "print'Illustration 11.10 - Page: 640\\n\\n'\n",
      "\n",
      "\n",
      "# Solution\n",
      "\n",
      "#*****Data******#\n",
      "# a:N2 b:H2O\n",
      "Mb = 18;# [kg/kmol]\n",
      "Ma = 29;# [kg/kmol]\n",
      "Z = 0.268;# [m]\n",
      "Xo_solid = 0.01;# [kg H20/kg solid]\n",
      "Density_bed = 712.8;# [kg/cubic m]\n",
      "T = 28.3;# [OC]\n",
      "P = 593;# [kN/square m]\n",
      "Gs = 4052;# [kg/square m.h]\n",
      "Xo_gas = 1440*10**(-6);# [mole fraction]\n",
      "#********************#\n",
      "\n",
      "# Yo_star is in equilibrium with Xo:\n",
      "Xo = 0;# [kg H20/kg solid]\n",
      "Yo_star = 0;# [kg H20/kg N2]\n",
      "thetha_t = 12.8;# [h]\n",
      "thetha_b = 9;# [h]\n",
      "# The breakthrough data are plotted in the manner of Fig. 11.47 (Pg 639) and thetha_s is dtermined:\n",
      "thetha_s = 10.9;# [h]\n",
      "Xt = 0.21;# [kg H20/kg solid]\n",
      "# From Eqn. 11.81:\n",
      "LUB = (Z/thetha_s)*(thetha_s-thetha_b);\n",
      "# For thetha_b = 15 h\n",
      "thetha_b = 15;# [h]\n",
      "Yo = (Xo_gas/(1-Xo_gas))*(Mb/Ma);# [kg H20/kg N2]\n",
      "# From Eq. 11.82:\n",
      "Zs = Gs*(Yo-Yo_star)*thetha_b/(Density_bed*(Xt-Xo_solid));# [m]\n",
      "# From Eqn. 11.85:\n",
      "Z = LUB+Zs;\n",
      "print\"Height of adsorbent column:\",round(Z,4),\" m\\n\""
     ],
     "language": "python",
     "metadata": {},
     "outputs": [
      {
       "output_type": "stream",
       "stream": "stdout",
       "text": [
        "Illustration 11.10 - Page: 640\n",
        "\n",
        "\n",
        "Height of adsorbent column: 0.0467  m\n",
        "\n"
       ]
      }
     ],
     "prompt_number": 93
    },
    {
     "cell_type": "heading",
     "level": 2,
     "metadata": {},
     "source": [
      "Ex11.11: Page 654"
     ]
    },
    {
     "cell_type": "code",
     "collapsed": false,
     "input": [
      "\n",
      "\n",
      "# Illustration 11.11\n",
      "# Page: 645\n",
      "\n",
      "print'Illustration 11.11 - Page: 645\\n\\n'\n",
      "\n",
      "# Solution\n",
      "\n",
      "import math\n",
      "from scipy.optimize import fsolve\n",
      "import matplotlib.pyplot as plt\n",
      "\n",
      "#****Data****#\n",
      "# For collection of Cu2+:\n",
      "V = 37850.0;# [l/h]\n",
      "c1 = 20.0;# [meq Cu2+/l]\n",
      "c2 = 0.01*c1;# [meq Cu2+/l]\n",
      "Mass_rate = 2.0;# [meq Cu2+/g resin h (meq Cu2+/l)]\n",
      "exchanged = V*(c1-c2);# [meq/h]\n",
      "X2 = 0.30;# [meq Cu2+/g]\n",
      "#************#/\n",
      "\n",
      "# The point(c2,X2) is plotted in Fig. 11.48(a), Pg 645:\n",
      "# For the minimum resin/solution ratio and an infinitely tall tower, the operating line pass though point P.\n",
      "X = 4.9;# [meq Cu2+/g]\n",
      "MinRate = exchanged/(X-X2);# [g/h]\n",
      "Rate = 1.2*MinRate;# [g/h]\n",
      "# Copper balance:\n",
      "X1 = (exchanged/Rate)+X2;# [meq Cu2+/g resin]\n",
      "# The point (c1,x1) is ploted in Fig. 11.48(a) and operating line drawn can be straight line at this low conc.\n",
      "# Adapting Eqn. 11.48 and rearranging:\n",
      "# S*Z*Density_s = (V/Mass_rate)*integrate(1/(c-c_star),c,c1,c2)\n",
      "# Mass_rate = KL_prime*ap/Density_s\n",
      "# From the equilibrium curve:\n",
      "# Data = [c c_star]\n",
      "Data = numpy.array([[20 ,2.4],[16 ,1.9],[12, 0.5],[8 ,0.25],[4 ,0.10],[2 ,0.05],[1 ,0.02],[0.2, 0]]);\n",
      "Val = zeros(8);\n",
      "for i in range(0,8):\n",
      "    Val[i] = 1/(Data[i,0]-Data[i,1]);\n",
      "\n",
      "plt.plot(Data[:,0],Val);\n",
      "plt.grid('on');\n",
      "plt.xlabel(\"c\");\n",
      "plt.ylabel(\"1 / (c-c*)\");\n",
      "plt.title(\"Graphical Integration\");\n",
      "# From Graphical Integration:\n",
      "Area = 5.72;\n",
      "# holdup = S*Z*Density_s\n",
      "holdup = V*Area/(Mass_rate);\n",
      "print\"Resin Holdup: \",holdup,\"g\\n\"\n",
      "\n",
      "# Regeneration of resin:\n",
      "# For 70% utilisation of 2N acid, feed must contain:\n",
      "V = exchanged;\n",
      "F = V/(0.70*2000);# [l/h]\n",
      "c1 = 0;# [meq Cu2+/l]\n",
      "c2 = V*1.0/F;# [meq Cu2+/l]\n",
      "X1 = 0.30;# [meq Cu2+/g resin]\n",
      "X2 = 4.12;# [meq cu2+/g resin]\n",
      "# The points (c1,X1) and (c2,X2) are plotted on Fig 11.48(b), Pg 645\n",
      "c1_star = 120.0;# [meq Cu2+/l]\n",
      "c2_star = 1700.0;# [meq Cu2+/l]\n",
      "logmean = ((c1_star-c1)-(c2_star-c2))/math.log((c1_star-c1)/(c2_star-c2));\n",
      "Mass_rate = 0.018;# [meq Cu2+/g resin h (meq Cu2+/l)]\n",
      "# Substituting in equation:\n",
      "def  f79(holdup):\n",
      "    return (V*(c2-c1))-(Mass_rate*holdup*logmean)\n",
      "holdup = fsolve(f79,7);\n",
      "print\"Resin Holdup in the regeneration Tower is \",round(holdup,3),\" g\\n\"\n",
      "#the answers are in textbook is wrong"
     ],
     "language": "python",
     "metadata": {},
     "outputs": [
      {
       "output_type": "stream",
       "stream": "stdout",
       "text": [
        "Illustration 11.11 - Page: 645\n",
        "\n",
        "\n",
        "Resin Holdup:  108251.0 g\n",
        "\n",
        "Resin Holdup in the regeneration Tower is  296720391.501  g\n",
        "\n"
       ]
      },
      {
       "metadata": {},
       "output_type": "display_data",
       "png": "[encoded data removed]",
       "text": [
        "<matplotlib.figure.Figure at 0x9e3b4a8>"
       ]
      }
     ],
     "prompt_number": 126
    }
   ],
   "metadata": {}
  }
 ]
}