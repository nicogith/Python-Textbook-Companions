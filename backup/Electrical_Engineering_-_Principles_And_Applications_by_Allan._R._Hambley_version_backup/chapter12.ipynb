{
 "cells": [
  {
   "cell_type": "markdown",
   "metadata": {},
   "source": [
    "# Chapter 12 : Field effect transistors"
   ]
  },
  {
   "cell_type": "markdown",
   "metadata": {},
   "source": [
    "## Pg: 541 Ex12.1"
   ]
  },
  {
   "cell_type": "code",
   "execution_count": 1,
   "metadata": {
    "collapsed": false
   },
   "outputs": [
    {
     "name": "stdout",
     "output_type": "stream",
     "text": [
      "iD = 18 V \n",
      "\n",
      " iD = 8 V \n",
      "\n",
      " iD = 2 V \n",
      "\n",
      " iD = 0 V \n"
     ]
    }
   ],
   "source": [
    "from __future__ import division\n",
    "#initialisation of variables\n",
    "K= 2 \n",
    "VGS1= 5 #V\n",
    "VGS2= 4 #V\n",
    "VGS3= 3 #V\n",
    "VGS4= 2 #V\n",
    "#CALCULATIONS\n",
    "id1= K*(VGS1-2)**2\n",
    "id2= K*(VGS2-2)**2\n",
    "id3= K*(VGS3-2)**2\n",
    "id4= K*(VGS4-2)**2\n",
    "#RESULTS\n",
    "print 'iD = %.f V '%(id1)\n",
    "print '\\n iD = %.f V '%(id2)\n",
    "print '\\n iD = %.f V '%(id3)\n",
    "print '\\n iD = %.f V '%(id4)"
   ]
  },
  {
   "cell_type": "markdown",
   "metadata": {},
   "source": [
    "## Pg: 544 Ex12.2"
   ]
  },
  {
   "cell_type": "code",
   "execution_count": 2,
   "metadata": {
    "collapsed": false
   },
   "outputs": [
    {
     "name": "stdout",
     "output_type": "stream",
     "text": [
      "VDSQ = 14.3 V \n"
     ]
    }
   ],
   "source": [
    "from sympy import symbols,solve\n",
    "from __future__ import division\n",
    "#initialisation of variables\n",
    "KP= 50 #uA/V62\n",
    "Vto= 2 #V\n",
    "L= 10 #um\n",
    "W= 400 #um\n",
    "Vdd= 20 #mV\n",
    "R2= 1 #kohms\n",
    "R1= 3 #ohms\n",
    "Rd= 11.5 #Mohms\n",
    "Rs= 1 #kohms\n",
    "V= 4 #mV\n",
    "#CALCULATIONS\n",
    "K= W*KP/(2*L*10**3)\n",
    "Vg= Vdd*R2/(R1+R2)\n",
    "\n",
    "x=symbols(\"x\")\n",
    "vec=solve(x**2-3.630*x+2.148,x)\n",
    "VGSQ= vec[0]\n",
    "IDQ= K*(VGSQ-Vto)**2\n",
    "VDSQ= Vdd+V+L-(Rd+Rs)*IDQ\n",
    "#RESULTS\n",
    "print 'VDSQ = %.1f V '%(VDSQ)"
   ]
  },
  {
   "cell_type": "markdown",
   "metadata": {},
   "source": [
    "## Pg: 548 Ex12.3"
   ]
  },
  {
   "cell_type": "code",
   "execution_count": 3,
   "metadata": {
    "collapsed": false
   },
   "outputs": [
    {
     "name": "stdout",
     "output_type": "stream",
     "text": [
      "rd = 7.7e+03 ohms\n"
     ]
    }
   ],
   "source": [
    "from __future__ import division\n",
    "#initialisation of variables\n",
    "VGSQ= 3.5 #V\n",
    "VDSQ= 10 #V\n",
    "id1= 10.7 #mA\n",
    "id2= 4.7 #mA\n",
    "dvgs= 1 #V\n",
    "id3= 8 #mA\n",
    "id4= 6.7 #mA\n",
    "vds1= 14 #V\n",
    "vds2= 4 #V\n",
    "#CALCULATIONS\n",
    "gm= (id1-id2)/dvgs\n",
    "rd= (vds1-vds2)*10**3/(id3-id4)\n",
    "#RESULTS\n",
    "print 'rd = %.1e ohms'%(rd)"
   ]
  },
  {
   "cell_type": "markdown",
   "metadata": {},
   "source": [
    "## Pg: 549 Ex12.5"
   ]
  },
  {
   "cell_type": "code",
   "execution_count": 4,
   "metadata": {
    "collapsed": false
   },
   "outputs": [
    {
     "name": "stdout",
     "output_type": "stream",
     "text": [
      "G = 529.7 \n"
     ]
    }
   ],
   "source": [
    "from __future__ import division\n",
    "from math import sqrt\n",
    "#initialisation of variables\n",
    "RL= 1 #kohms\n",
    "R1= 2 #Mohms\n",
    "R2= 2 #Mohms\n",
    "KP= 50 #uA/V**2\n",
    "L= 2 #um\n",
    "W= 160 #um\n",
    "Vto= 1 #V\n",
    "IDQ= 10 #mA\n",
    "VG= 7.5 #V\n",
    "#CALCULATIONS\n",
    "K= W*KP/(2*L*10**3)\n",
    "VGSQ= sqrt(IDQ/K)+Vto\n",
    "VS= VG-VGSQ\n",
    "RS= VS*10**3/IDQ\n",
    "gm= sqrt(2*KP/10**3)*sqrt(W/L)*sqrt(IDQ)\n",
    "RL1= 1/(1/(RS)+(1/(RL*10**3)))\n",
    "Av= gm*RL1*10**-3/(1+gm*RL1*10**-3)\n",
    "Rin= 1/((1/R1)+(1/R2))\n",
    "Ro= 1/(gm*10**-3+(1/RS))\n",
    "Ai= Av*Rin/RL\n",
    "G= Av*Ai*10**3\n",
    "#RESULTS\n",
    "print 'G = %.1f '%G"
   ]
  }
 ],
 "metadata": {
  "kernelspec": {
   "display_name": "Python 2",
   "language": "python",
   "name": "python2"
  },
  "language_info": {
   "codemirror_mode": {
    "name": "ipython",
    "version": 2
   },
   "file_extension": ".py",
   "mimetype": "text/x-python",
   "name": "python",
   "nbconvert_exporter": "python",
   "pygments_lexer": "ipython2",
   "version": "2.7.9"
  }
 },
 "nbformat": 4,
 "nbformat_minor": 0
}
