{
 "cells": [
  {
   "cell_type": "markdown",
   "metadata": {},
   "source": [
    "# Chapter 11 : Amplifiers Specifications and eternal characterstics"
   ]
  },
  {
   "cell_type": "markdown",
   "metadata": {},
   "source": [
    "## Pg: 516 Ex: 11.1"
   ]
  },
  {
   "cell_type": "code",
   "execution_count": 5,
   "metadata": {
    "collapsed": false
   },
   "outputs": [
    {
     "name": "stdout",
     "output_type": "stream",
     "text": [
      " All the values in the textbook are approximated, hence the values in this code differ from those of Textbook\n",
      "Voltage gain Av = 8000.00 \n",
      "Voltage gain Avs = 5333.33 \n",
      "Current gain = 2.00e+09 \n",
      "Power gain = 1.60e+13 \n"
     ]
    }
   ],
   "source": [
    "from __future__ import division\n",
    "V_s=1*10**-3#\n",
    "R_s=1*10**6#\n",
    "A_voc=10**4#      #open-circuit voltage gain\n",
    "R_i=2*10**6#      #input resistance\n",
    "R_o=2#      #output resistance\n",
    "R_L=8#      #load resistance\n",
    "V_i=V_s*(R_i/(R_i+R_s))#      #input voltage(voltage-divider principle)\n",
    "V_vcs=A_voc*V_i#      #voltage controlled source voltage\n",
    "V_o=V_vcs*(R_L/(R_L+R_o))#      #output voltage(voltage-divider principle)\n",
    "A_v=V_o/V_i#\n",
    "A_vs=V_o/V_s#\n",
    "A_i=A_v*R_i/R_L#      #current gain\n",
    "G=A_v*A_i#      #power gain\n",
    "print \" All the values in the textbook are approximated, hence the values in this code differ from those of Textbook\"\n",
    "print 'Voltage gain Av = %0.2f '%A_v\n",
    "print 'Voltage gain Avs = %0.2f '%A_vs\n",
    "print 'Current gain = %0.2e '%A_i\n",
    "print 'Power gain = %0.2e '%G"
   ]
  },
  {
   "cell_type": "markdown",
   "metadata": {},
   "source": [
    "## Pg: 517 Ex: 11.2"
   ]
  },
  {
   "cell_type": "code",
   "execution_count": 8,
   "metadata": {
    "collapsed": false
   },
   "outputs": [
    {
     "name": "stdout",
     "output_type": "stream",
     "text": [
      "Current gain of first stage = 100000.00\n",
      "Current gain of second stage = 750.00 \n",
      "Voltage gain of first stage = 150.00 \n",
      "Voltage gain of second stage = 50.00 \n",
      "Power gain of first stage = 1.50e+07 \n",
      "Power gain of second stage = 37500.00 \n",
      "Overall power gain = 5.62e+11 \n"
     ]
    }
   ],
   "source": [
    "from __future__ import division\n",
    "R_i_1=10**6#\n",
    "R_o_1=500#\n",
    "R_i_2=1500#\n",
    "R_o_2=100#\n",
    "R_L=100#\n",
    "A_voc_1=200#\n",
    "A_voc_2=100#\n",
    "#voltage gain of the first stage...A_v_1=(V_o_1/V_i_1)=(V_i_2/V_i_2)=A_voc_1(R_i_2/(R_i_2+R_o_1))\n",
    "A_v_1=A_voc_1*(R_i_2/(R_i_2+R_o_1))#\n",
    "A_v_2=A_voc_2*(R_L/(R_L+R_o_2))#\n",
    "A_i_1=A_v_1*R_i_1/R_i_2#\n",
    "A_i_2=A_v_2*R_i_2/R_L#\n",
    "A_i=A_i_1*A_i_2#\n",
    "G_1=A_v_1*A_i_1#\n",
    "G_2=A_v_2*A_i_2#\n",
    "G=G_1*G_2#\n",
    "print 'Current gain of first stage = %0.2f'%A_i_1\n",
    "print 'Current gain of second stage = %0.2f '%A_i_2\n",
    "print 'Voltage gain of first stage = %0.2f '%A_v_1\n",
    "print 'Voltage gain of second stage = %0.2f '%A_v_2\n",
    "print 'Power gain of first stage = %0.2e '%G_1\n",
    "print 'Power gain of second stage = %0.2f '%G_2\n",
    "print 'Overall power gain = %0.2e '%G"
   ]
  },
  {
   "cell_type": "markdown",
   "metadata": {},
   "source": [
    "## Pg: 518 Ex: 11.3"
   ]
  },
  {
   "cell_type": "code",
   "execution_count": 10,
   "metadata": {
    "collapsed": false
   },
   "outputs": [
    {
     "name": "stdout",
     "output_type": "stream",
     "text": [
      "Hence the simplified model for the cascade is with an:\n",
      "Input resistance = 1.00e+06 ohms\n",
      "Input resistance = 100.00 ohms\n",
      "Overall open-circuit voltage gain = 15000.00\n"
     ]
    }
   ],
   "source": [
    "R_i_1=10**6#\n",
    "R_o_1=500#\n",
    "R_i_2=1500#\n",
    "R_o_2=100#\n",
    "R_L=100#\n",
    "A_voc_1=200#\n",
    "A_voc_2=100#\n",
    "A_v_1=A_voc_1*(R_i_2/(R_i_2+R_o_1))#      #Voltage gain of first stage\n",
    "A_v_2=A_voc_2#      #Voltage gain of second stage with open-circuit load\n",
    "A_voc=A_v_1*A_v_2#      #overall open-circuit voltage gain\n",
    "R_i=R_i_1#      #input resistance of cascading amplifier\n",
    "R_o=R_o_2#      #output resistance\n",
    "print 'Hence the simplified model for the cascade is with an:'\n",
    "print 'Input resistance = %0.2e ohms'%R_i\n",
    "print 'Input resistance = %0.2f ohms'%R_o\n",
    "print 'Overall open-circuit voltage gain = %0.2f'%A_voc"
   ]
  },
  {
   "cell_type": "markdown",
   "metadata": {},
   "source": [
    "## Pg: 519 Ex: 11.4"
   ]
  },
  {
   "cell_type": "code",
   "execution_count": null,
   "metadata": {
    "collapsed": true
   },
   "outputs": [],
   "source": [
    "from __future__ import division\n",
    "V_AA=15#\n",
    "V_BB=15#\n",
    "V_i=1*10**-3#\n",
    "I_A=1#\n",
    "I_B=0.5#\n",
    "R_L=8#\n",
    "R_o=2#\n",
    "R_i=100*10**3#\n",
    "A_voc=10**4#\n",
    "P_i=V_i**2/R_i#\n",
    "V_o=A_voc*V_i*(R_L/(R_L+R_o))#\n",
    "P_o=V_o**2/R_L#\n",
    "P_s=V_AA*I_A+V_BB*I_B#\n",
    "P_d=P_s+P_i-P_o#\n",
    "n=P_o*100/P_s#\n",
    "printf(\" All the values in the textbook are approximated, hence the values in this code differ from those of Textbook\")\n",
    "print P_i*10**12,'Input power in picowatts'\n",
    "print P_o,'Output power in watts'\n",
    "print P_s,'Supply power in watts'\n",
    "print P_d,'Dissipated power in watts'\n",
    "print n,'Efficiency of the amplifier'"
   ]
  },
  {
   "cell_type": "markdown",
   "metadata": {},
   "source": [
    "## Pg: 520 Ex: 11.5"
   ]
  },
  {
   "cell_type": "code",
   "execution_count": 11,
   "metadata": {
    "collapsed": false
   },
   "outputs": [
    {
     "name": "stdout",
     "output_type": "stream",
     "text": [
      "The resulting current-amplifier is with an:\n",
      "input resitance = 1000.00 ohms\n",
      "output resistance = 100.00 ohms\n",
      "and a short-cut current gain of: 1000.00\n"
     ]
    }
   ],
   "source": [
    "from __future__ import division\n",
    "R_i=1*10**3#\n",
    "R_o=100#\n",
    "A_voc=100#\n",
    "#I_i=V_i/R_i, I_osc=A_voc*V_i/R_o    from these two we get A_isc=(i_osc/I_i)=(A_voc(R_i/R_o))\n",
    "A_isc=A_voc*(R_i/R_o)#\n",
    "print 'The resulting current-amplifier is with an:'\n",
    "\n",
    "print 'input resitance = %0.2f ohms'%R_i\n",
    "print 'output resistance = %0.2f ohms'%R_o\n",
    "print 'and a short-cut current gain of: %0.2f'%A_isc"
   ]
  },
  {
   "cell_type": "markdown",
   "metadata": {},
   "source": [
    "## Pg: 521 Ex: 11.6"
   ]
  },
  {
   "cell_type": "code",
   "execution_count": 12,
   "metadata": {
    "collapsed": false
   },
   "outputs": [
    {
     "name": "stdout",
     "output_type": "stream",
     "text": [
      "The resulting transconductance model is with an:\n",
      "input resitance = 1000.00 ohms\n",
      "output resistance = 100.00 ohms\n",
      "and transconductance = 1.00 siemens\n"
     ]
    }
   ],
   "source": [
    "from __future__ import division        \n",
    "R_i=1*10**3#\n",
    "R_o=100#\n",
    "A_voc=100#\n",
    "#i_osc=A_voc*V_i/R_o and G_msc=i_osc/V_i gives G_msc=A_voc/R_o\n",
    "G_msc=A_voc/R_o#\n",
    "print 'The resulting transconductance model is with an:'\n",
    "print 'input resitance = %0.2f ohms'%R_i\n",
    "print 'output resistance = %0.2f ohms'%R_o\n",
    "print 'and transconductance = %0.2f siemens'%G_msc"
   ]
  },
  {
   "cell_type": "markdown",
   "metadata": {},
   "source": [
    "## Pg: 522 Ex: 11.7"
   ]
  },
  {
   "cell_type": "code",
   "execution_count": 13,
   "metadata": {
    "collapsed": false
   },
   "outputs": [
    {
     "name": "stdout",
     "output_type": "stream",
     "text": [
      "The resulting transconductance model is with an:\n",
      "input resitance = 1000.00 ohms\n",
      "output resistance = 100.00 ohms\n",
      "and transresistance = 100000.00 ohms\n"
     ]
    }
   ],
   "source": [
    "from __future__ import division\n",
    "R_i=1*10**3#\n",
    "R_o=100#\n",
    "A_voc=100#\n",
    "#V_ooc=A_voc*V_i and I_i=V_i/R_i gives R_moc=V_ooc/I_i\n",
    "R_moc=A_voc*R_i#\n",
    "print 'The resulting transconductance model is with an:'\n",
    "print 'input resitance = %0.2f ohms'%R_i\n",
    "print 'output resistance = %0.2f ohms'%R_o\n",
    "print 'and transresistance = %0.2f ohms'%R_moc"
   ]
  },
  {
   "cell_type": "markdown",
   "metadata": {},
   "source": [
    "## Pg: 523 Ex: 11.8"
   ]
  },
  {
   "cell_type": "code",
   "execution_count": 15,
   "metadata": {
    "collapsed": false
   },
   "outputs": [
    {
     "name": "stdout",
     "output_type": "stream",
     "text": [
      " All the values in the textbook are approximated, hence the values in this code differ from those of Textbook\n",
      "The complex voltage gain is with\n",
      "a peak value of : 100.00\n",
      "a phase angle = 0.79 degrees\n",
      "and the decibel gain is 40.00\n"
     ]
    }
   ],
   "source": [
    "from __future__ import division\n",
    "from math import cos,sin,sqrt,atan,log,pi\n",
    "V_i=complex(0.1*cos(-pi/6),0.1*sin(-pi/6))#\n",
    "V_o=complex(10*cos(pi/12),10*sin(pi/12))#\n",
    "A_v=V_o/V_i#\n",
    "A_v_max=sqrt(((A_v.real)**2)+((A_v.imag)**2))\n",
    "phi=atan((A_v.imag)/(A_v.real))#\n",
    "print \" All the values in the textbook are approximated, hence the values in this code differ from those of Textbook\"\n",
    "print 'The complex voltage gain is with'\n",
    "print 'a peak value of : %0.2f'%A_v_max\n",
    "print 'a phase angle = %0.2f degrees'%phi\n",
    "print 'and the decibel gain is %0.2f'%(20*log(A_v_max)/2.30258)      #2.30258 is for base 10"
   ]
  },
  {
   "cell_type": "markdown",
   "metadata": {},
   "source": [
    "## Pg: 524 Ex: 11.9"
   ]
  },
  {
   "cell_type": "code",
   "execution_count": 16,
   "metadata": {
    "collapsed": false
   },
   "outputs": [
    {
     "data": {
      "image/png": "[encoded data removed]",
      "text/plain": [
       "<matplotlib.figure.Figure at 0x7f924312ba90>"
      ]
     },
     "metadata": {},
     "output_type": "display_data"
    }
   ],
   "source": [
    "from numpy import arange,pi,cos\n",
    "%matplotlib inline\n",
    "from matplotlib.pyplot import plot,title,show,subplot,xlabel,ylabel\n",
    "from __future__ import division\n",
    "t=arange(0,0.002+0.000001,0.000001)\n",
    "V_i=[]\n",
    "for x in t:\n",
    "    V_i.append(3*cos(2000*pi*x)-2*cos(6000*pi*x))\n",
    "#let A_1000 and A_3000 be the gains\n",
    "A_1000_peak=10#\n",
    "A_1000_phi=0#\n",
    "A_3000_peak=2.5#\n",
    "A_3000_phi=0#\n",
    "#multiplying by respective gains\n",
    "V_o=[]\n",
    "for x in t:\n",
    "    V_o.append(A_1000_peak*3*cos(2000*pi*x+A_1000_phi)-A_3000_peak*2*cos(6000*pi*x+A_3000_phi))\n",
    "subplot(121)\n",
    "title('Input-voltage vs time')\n",
    "xlabel('time in ms')\n",
    "ylabel('Internal-voltage in volts')\n",
    "plot(t*10**3,V_i)\n",
    "subplot(122)\n",
    "title('Output-voltage vs time')\n",
    "xlabel('time in ms')\n",
    "ylabel('Output voltage in volts')\n",
    "plot(t*10**3,V_o)\n",
    "show()"
   ]
  },
  {
   "cell_type": "markdown",
   "metadata": {},
   "source": [
    "## Pg: 525 Ex: 11.10"
   ]
  },
  {
   "cell_type": "code",
   "execution_count": 18,
   "metadata": {
    "collapsed": false
   },
   "outputs": [
    {
     "name": "stdout",
     "output_type": "stream",
     "text": [
      "VoA(t)=30cos(2000pit)-10cos(6000pit)\n",
      "VoB(t)=30cos(2000pit-pi/4)-10cos(6000pit-3pi/4)\n",
      "VoC(t)=30cos(2000pit-pi/4)-10cos(6000pit-pi/4)\n"
     ]
    },
    {
     "data": {
      "image/png": "[encoded data removed]",
      "text/plain": [
       "<matplotlib.figure.Figure at 0x7f923be6b750>"
      ]
     },
     "metadata": {},
     "output_type": "display_data"
    }
   ],
   "source": [
    "from numpy import arange,pi,cos\n",
    "%matplotlib inline\n",
    "from matplotlib.pyplot import plot,title,show,subplot,xlabel,ylabel\n",
    "from __future__ import division\n",
    "\n",
    "t=arange(0,0.002+0.000001,0.000001)\n",
    "V_i=[]\n",
    "for x in t:\n",
    "    V_i.append(3*cos(2000*pi*x)-2*cos(6000*pi*x))\n",
    "#for A\n",
    "A_1000_A_peak=10#\n",
    "A_1000_A_phi=0#\n",
    "A_3000_A_peak=10#\n",
    "A_3000_A_phi=0#\n",
    "V_o_A=[]\n",
    "for x in t:\n",
    "    V_o_A.append(A_1000_A_peak*3*cos(2000*pi*x+A_1000_A_phi)-A_3000_A_peak*2*cos(6000*pi*x+A_3000_A_phi))\n",
    "#for B\n",
    "A_1000_B_peak=10#\n",
    "A_1000_B_phi=-pi/4#\n",
    "A_3000_B_peak=10#\n",
    "A_3000_B_phi=-3*pi/4#\n",
    "V_o_B=[]\n",
    "for x in t:\n",
    "    V_o_B.append(A_1000_B_peak*3*cos(2000*pi*x+A_1000_B_phi)-A_3000_B_peak*2*cos(6000*pi*x+A_3000_B_phi))\n",
    "#for C\n",
    "A_1000_C_peak=10#\n",
    "A_1000_C_phi=-pi/4#\n",
    "A_3000_C_peak=10#\n",
    "A_3000_C_phi=-pi/4#\n",
    "V_o_C=[]\n",
    "for x in t:\n",
    "    V_o_C.append(A_1000_C_peak*3*cos(2000*pi*x+A_1000_C_phi)-A_3000_C_peak*2*cos(6000*pi*x+A_3000_C_phi))\n",
    "print 'VoA(t)=30cos(2000pit)-10cos(6000pit)'\n",
    "print 'VoB(t)=30cos(2000pit-pi/4)-10cos(6000pit-3pi/4)'\n",
    "print 'VoC(t)=30cos(2000pit-pi/4)-10cos(6000pit-pi/4)'\n",
    "subplot(311)\n",
    "title('Output-voltage vs time for A')\n",
    "xlabel('time in ms')\n",
    "ylabel('Output-voltage for A in volts')\n",
    "plot(t*10**3,V_o_A)\n",
    "subplot(312)\n",
    "title('Output-voltage vs time for B')\n",
    "xlabel('time in ms')\n",
    "ylabel('Output voltage for B in volts')\n",
    "plot(t*10**3,V_o_B)\n",
    "subplot(313)\n",
    "title('Output-voltage vs time for C')\n",
    "xlabel('time in ms')\n",
    "ylabel('Output voltage for C in volts')\n",
    "plot(t*10**3,V_o_C)\n",
    "show()"
   ]
  },
  {
   "cell_type": "markdown",
   "metadata": {},
   "source": [
    "## Pg: 526 Ex: 11.11"
   ]
  },
  {
   "cell_type": "code",
   "execution_count": 20,
   "metadata": {
    "collapsed": false
   },
   "outputs": [
    {
     "name": "stdout",
     "output_type": "stream",
     "text": [
      " All the values in the textbook are approximated, hence the values in this code differ from those of Textbook\n",
      "The minimum CMRR = 140.00\n"
     ]
    }
   ],
   "source": [
    "from __future__ import division\n",
    "from math import log\n",
    "A_d=1000#      #differential gain\n",
    "V_d_peak=1*10**-3#      #peak value of differential input signal\n",
    "V_o_peak=A_d*V_d_peak#      #peak output signal\n",
    "V_cm=100#\n",
    "V_o_cm=0.01*V_o_peak#      #common mode contribution is 1% or less\n",
    "A_cm=V_o_cm/V_cm#      #common mode gain\n",
    "CMRR=20*log(A_d/A_cm)/2.30258#\n",
    "print \" All the values in the textbook are approximated, hence the values in this code differ from those of Textbook\"\n",
    "print 'The minimum CMRR = %0.2f'%CMRR"
   ]
  },
  {
   "cell_type": "markdown",
   "metadata": {},
   "source": [
    "## Pg: 527 Ex: 11.12"
   ]
  },
  {
   "cell_type": "code",
   "execution_count": 21,
   "metadata": {
    "collapsed": false
   },
   "outputs": [
    {
     "name": "stdout",
     "output_type": "stream",
     "text": [
      "Vioff = 7 mV \n",
      "\n",
      " Vvoff = 4.17 mV \n"
     ]
    }
   ],
   "source": [
    "from __future__ import division\n",
    "#initialisation of variables\n",
    "Rin= 1 #Mohms\n",
    "Rs1= 100 #kohms\n",
    "Rs2= 100 #kohms\n",
    "Ioff= 84 #Amperes\n",
    "Voff= 5 #mV\n",
    "#CALCULARIONS\n",
    "Vioff= Rin*Ioff*10**-3*(Rs1+Rs2)/(2*(Rin+10**-3*(Rs1+Rs2)))\n",
    "Vvoff= Voff*Rin/(Rin+10**-3*(Rs1+Rs2))\n",
    "#RESULTS\n",
    "print 'Vioff = %.f mV '%Vioff\n",
    "print '\\n Vvoff = %.2f mV '%Vvoff"
   ]
  }
 ],
 "metadata": {
  "kernelspec": {
   "display_name": "Python 2",
   "language": "python",
   "name": "python2"
  },
  "language_info": {
   "codemirror_mode": {
    "name": "ipython",
    "version": 2
   },
   "file_extension": ".py",
   "mimetype": "text/x-python",
   "name": "python",
   "nbconvert_exporter": "python",
   "pygments_lexer": "ipython2",
   "version": "2.7.9"
  }
 },
 "nbformat": 4,
 "nbformat_minor": 0
}
