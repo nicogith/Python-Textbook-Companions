{
 "cells": [
  {
   "cell_type": "markdown",
   "metadata": {},
   "source": [
    "# Chapter 9 : Computer based instrumentation diodes"
   ]
  },
  {
   "cell_type": "markdown",
   "metadata": {},
   "source": [
    "## Pg: 389 Ex: 9.1"
   ]
  },
  {
   "cell_type": "code",
   "execution_count": 1,
   "metadata": {
    "collapsed": false
   },
   "outputs": [
    {
     "name": "stdout",
     "output_type": "stream",
     "text": [
      "The minimum value of Rin required = 9985.00 kilo-ohms\n"
     ]
    }
   ],
   "source": [
    "P=0.1#      #system sensitivity change percent\n",
    "R_th_U=15*10**3#      #thevenin resistance upper limit\n",
    "R_th_L=5*10**3#      #thevenin resistance lower limit\n",
    "#The required inequality is V_sensor*R_in/(R_th_U+R_in)>=(1-P/100)*V_sensor*R_in/(R_th_L+R_in), cancelling same terms on both sides of inequality and calculating R_in by taking equality we'll get minimum value of R_in ===>R_th_L+R_in=(1-P/100)*(R_th_U+R_in) which gives\n",
    "R_in=(((1-P/100)*R_th_U)-R_th_L)*100/P#\n",
    "print 'The minimum value of Rin required = %0.2f kilo-ohms'%(R_in/1000)"
   ]
  }
 ],
 "metadata": {
  "kernelspec": {
   "display_name": "Python 2",
   "language": "python",
   "name": "python2"
  },
  "language_info": {
   "codemirror_mode": {
    "name": "ipython",
    "version": 2
   },
   "file_extension": ".py",
   "mimetype": "text/x-python",
   "name": "python",
   "nbconvert_exporter": "python",
   "pygments_lexer": "ipython2",
   "version": "2.7.9"
  }
 },
 "nbformat": 4,
 "nbformat_minor": 0
}
