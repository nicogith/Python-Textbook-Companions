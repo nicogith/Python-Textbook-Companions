{
 "cells": [
  {
   "cell_type": "markdown",
   "metadata": {},
   "source": [
    "# Chapter 14 : Operational Amlifiers"
   ]
  },
  {
   "cell_type": "markdown",
   "metadata": {},
   "source": [
    "## Pg: 632 Ex14.5"
   ]
  },
  {
   "cell_type": "code",
   "execution_count": 2,
   "metadata": {
    "collapsed": false
   },
   "outputs": [
    {
     "name": "stdout",
     "output_type": "stream",
     "text": [
      "A0CL = 20 dB \n",
      "\n",
      " frequency = 400 kHz \n"
     ]
    }
   ],
   "source": [
    "from __future__ import division\n",
    "from math import log,log10\n",
    "#initialisation of variables\n",
    "ADOL= 10**5\n",
    "ADOL1= 10\n",
    "dc= 20\n",
    "dc1= 10\n",
    "f= 40 #kHz\n",
    "#CALCULATIONS\n",
    "ADOL2= dc*log(ADOL)\n",
    "ADOL3= dc*log10(ADOL1)\n",
    "f1= ADOL1*f\n",
    "#RESULTS\n",
    "print 'A0CL = %.f dB '%(ADOL3)\n",
    "print '\\n frequency = %.f kHz '%(f1)"
   ]
  },
  {
   "cell_type": "markdown",
   "metadata": {},
   "source": [
    "## Pg: 633 Ex14.5"
   ]
  },
  {
   "cell_type": "code",
   "execution_count": 3,
   "metadata": {
    "collapsed": false
   },
   "outputs": [
    {
     "name": "stdout",
     "output_type": "stream",
     "text": [
      "full power = 6.63 kHz \n"
     ]
    }
   ],
   "source": [
    "from __future__ import division\n",
    "from math import pi\n",
    "#initialisation of variables\n",
    "SR= 0.5 #V/us\n",
    "Vcon= 12 #V\n",
    "#CALCULATIONS\n",
    "f= SR*1000/(2*pi*Vcon)\n",
    "#RESULTS\n",
    "print 'full power = %.2f kHz '%f"
   ]
  },
  {
   "cell_type": "markdown",
   "metadata": {},
   "source": [
    "## Pg: 634 Ex: 14.7"
   ]
  },
  {
   "cell_type": "code",
   "execution_count": 4,
   "metadata": {
    "collapsed": false
   },
   "outputs": [
    {
     "name": "stdout",
     "output_type": "stream",
     "text": [
      "Maximum output voltage = 34.00 milli-volts\n",
      "Minimum output voltage = -24.00 milli-volts\n"
     ]
    }
   ],
   "source": [
    "from __future__ import division\n",
    "V_in=0#\n",
    "I_B_max=100*10**-9#      #maximum bias current\n",
    "I_os_max=40*10**-9#      #maximum offset current magnitude\n",
    "V_os_max=2*10**-3#      #maximum offset voltage\n",
    "R_1=10*10**3#\n",
    "R_2=100*10**3#\n",
    "#we approach in such a way to calculate output voltage due to each of dc sources and using superposition\n",
    "#1)OFFSET-VOLTAGE\n",
    "#As we place offset voltage at noninverting input\n",
    "V_o_osV_max=-(1+(R_2/R_1))*(-V_os_max)#\n",
    "V_o_osV_min=-(1+(R_2/R_1))*V_os_max#\n",
    "#2)BIAS-CURRENT SOURCES\n",
    "#assuming ideal opamp conditions\n",
    "V_i=0#\n",
    "I_1=0#\n",
    "I_2=-I_B_max#\n",
    "V_o_bias_max=-R_2*I_2-R_1*I_1#\n",
    "V_o_bias_min=0#      #no minimum value of I_B is specified\n",
    "#3)OFFSET-CURRENT SOURCE\n",
    "#by analysis as in bias-current sources\n",
    "V_o_osI_max=R_2*I_os_max/2#\n",
    "V_o_osI_min=-R_2*I_os_max/2#\n",
    "\n",
    "V_o_max=V_o_osV_max+V_o_bias_max+V_o_osI_max#      #maximum output volage\n",
    "V_o_min=V_o_osV_min+V_o_bias_min+V_o_osI_min#      #minimum output voltage\n",
    "print 'Maximum output voltage = %0.2f milli-volts'%(V_o_max*10**3)\n",
    "print 'Minimum output voltage = %0.2f milli-volts'%(V_o_min*10**3)"
   ]
  }
 ],
 "metadata": {
  "kernelspec": {
   "display_name": "Python 2",
   "language": "python",
   "name": "python2"
  },
  "language_info": {
   "codemirror_mode": {
    "name": "ipython",
    "version": 2
   },
   "file_extension": ".py",
   "mimetype": "text/x-python",
   "name": "python",
   "nbconvert_exporter": "python",
   "pygments_lexer": "ipython2",
   "version": "2.7.9"
  }
 },
 "nbformat": 4,
 "nbformat_minor": 0
}
