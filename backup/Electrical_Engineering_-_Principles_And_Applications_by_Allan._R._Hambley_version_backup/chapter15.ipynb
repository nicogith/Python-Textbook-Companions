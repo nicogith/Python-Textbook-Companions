{
 "cells": [
  {
   "cell_type": "markdown",
   "metadata": {},
   "source": [
    "# Chapter 15 : Magnetic circuits and transformers "
   ]
  },
  {
   "cell_type": "markdown",
   "metadata": {},
   "source": [
    "## Pg: 668 Ex: 15.3"
   ]
  },
  {
   "cell_type": "code",
   "execution_count": 24,
   "metadata": {
    "collapsed": false
   },
   "outputs": [
    {
     "name": "stdout",
     "output_type": "stream",
     "text": [
      " All the values in the textbook are approximated hence the values in this code differ from those of Textbook\n",
      "In the below two values,i represents sin(200*pi*t)\n",
      "flux = j*2.513e-03 webers\n",
      "flux linkages = j*0.25 weber turns\n",
      "In the below answer, i represents cos(200*pi*t)\n",
      "Voltage induced in the coil = 0.00+j*157.91 volts\n"
     ]
    }
   ],
   "source": [
    "from __future__ import division\n",
    "from math import pi\n",
    "M_r=5000#      #relative permeability\n",
    "R=10*10**-2#\n",
    "r=2*10**-2#\n",
    "N=100#      #number of turns\n",
    "#complex number 'i' is used as a symbol here\n",
    "I=2*1J#      #here 'i' represents sin(200*pi*t), not as a complex number\n",
    "M_o=4*pi*10**-7#      #permeability of free space\n",
    "M=M_r*M_o#      #permeability of the core material\n",
    "phi=M*N*I*r**2/(2*R)#      #flux\n",
    "FL=N*phi#      #flux linkages\n",
    "print \" All the values in the textbook are approximated hence the values in this code differ from those of Textbook\"\n",
    "print 'In the below two values,i represents sin(200*pi*t)'      #t-time\n",
    "print 'flux = j*{:0.3e} webers'.format(phi.imag)\n",
    "print 'flux linkages = j*{:.2f} weber turns'.format(FL.imag)\n",
    "#differentiating 'λ' with respect to t\n",
    "print 'In the below answer, i represents cos(200*pi*t)'\n",
    "print 'Voltage induced in the coil = {0:.2f}+j*{1:0.2f} volts'.format((FL*200*pi).real,(FL*200*pi).imag)"
   ]
  },
  {
   "cell_type": "markdown",
   "metadata": {},
   "source": [
    "## Pg: 670 Ex: 15.5"
   ]
  },
  {
   "cell_type": "code",
   "execution_count": 15,
   "metadata": {
    "collapsed": false
   },
   "outputs": [
    {
     "name": "stdout",
     "output_type": "stream",
     "text": [
      " All the values in the textbook are approximated hence the values in this code differ from those of Textbook\n",
      "Current value = 2.01 amperes\n"
     ]
    }
   ],
   "source": [
    "from __future__ import division\n",
    "from math import pi\n",
    "M_r=6000#      #relative permeability\n",
    "M_o=4*pi*10**-7#      #permeability of free space\n",
    "w_r=3*10**-2#      #width of rectangular cross-section\n",
    "d_r=2*10**-2#      #depth of rectangular cross-section\n",
    "N=500#      #number of turns of coil\n",
    "B_gap=0.25#      #flux density\n",
    "gap=0.5*10**-2#      #air gap\n",
    "#centerline of the flux path is a square of side 6cm\n",
    "l_s=6*10**-2#      #side of square\n",
    "l_core=4*l_s-gap#      #mean length of the iron core\n",
    "A_core=w_r*d_r#      #cross-sectional area of the core\n",
    "M_core=M_r*M_o#      #permeability of core\n",
    "R_core=l_core/(M_core*A_core)#      #reluctance of the core\n",
    "A_gap=(d_r+gap)*(w_r+gap)#      #effective area of gap\n",
    "M_gap=M_o#      #permeability of air(gap)\n",
    "R_gap=gap/(M_gap*A_gap)#      #reluctance of gap\n",
    "R=R_gap+R_core#      #total reluctance\n",
    "phi=B_gap*A_gap#      #flux\n",
    "F=phi*R#      #magnetomotive force\n",
    "i=F/N#      #current\n",
    "print \" All the values in the textbook are approximated hence the values in this code differ from those of Textbook\"\n",
    "print 'Current value = %0.2f amperes'%i"
   ]
  },
  {
   "cell_type": "markdown",
   "metadata": {},
   "source": [
    "## Pg: 672 Ex: 15.6"
   ]
  },
  {
   "cell_type": "code",
   "execution_count": 26,
   "metadata": {
    "collapsed": false
   },
   "outputs": [
    {
     "name": "stdout",
     "output_type": "stream",
     "text": [
      " All the values in the textbook are approximated hence the values in this code differ from those of Textbook\n",
      "flux density in gap a = 0.11 tesla\n",
      "flux density in gap b = 0.22 tesla\n"
     ]
    }
   ],
   "source": [
    "from __future__ import division\n",
    "from math import pi\n",
    "w_core=2*10**-2#      #width\n",
    "d_core=2*10**-2#      #depth\n",
    "A_core=w_core*d_core#      #area of core\n",
    "M_r=1000#      #relative permeability\n",
    "M_o=4*pi*10**-7#      #permeability of free space\n",
    "gap_a=1*10**-2#\n",
    "gap_b=0.5*10**-2#\n",
    "N=500#      #number of turns of coil\n",
    "i=2#      #current in the coil\n",
    "l_c=10*10**-2#      #length for center path\n",
    "R_c=l_c/(M_r*M_o*A_core)#      #reluctance of center path\n",
    "#For left side\n",
    "#taking fringing ino account\n",
    "A_gap_a=(w_core+gap_a)*(d_core+gap_a)#      #area of gap a\n",
    "R_gap_a=gap_a/(M_o*A_gap_a)#      #reluctance of gap a\n",
    "l_s=10*10**-2#      #side of square\n",
    "l_core_l=3*l_s-gap_a#      #mean length on left side\n",
    "R_core_l=l_core_l/(M_r*M_o*A_core)#      #reluctance of core\n",
    "R_L=R_core_l+R_gap_a#      #total reluctance on left side\n",
    "#For right side\n",
    "#taking fringing ino account\n",
    "A_gap_b=(w_core+gap_b)*(d_core+gap_b)#      #area of gap b\n",
    "R_gap_b=gap_b/(M_o*A_gap_b)#      #reluctance of gap b\n",
    "l_s=10*10**-2#      #side of square\n",
    "l_core_r=3*l_s-gap_b#      #mean length on right side\n",
    "R_core_r=l_core_r/(M_r*M_o*A_core)#      #reluctance of core\n",
    "R_R=R_core_r+R_gap_b#      #total reluctance on right side\n",
    "R_T=R_c+1/((1/R_L)+(1/(R_R)))#      #total reluctance\n",
    "phi_c=N*i/(R_T)#      #flux in the center leg of coil\n",
    "#by current-division principle\n",
    "phi_L=phi_c*R_R/(R_L+R_R)#      #left side\n",
    "phi_R=phi_c*R_L/(R_L+R_R)#      #right side\n",
    "B_L=phi_L/A_gap_a#      #flux density in gap a\n",
    "B_R=phi_R/A_gap_b#      #flux density in gap b\n",
    "print \" All the values in the textbook are approximated hence the values in this code differ from those of Textbook\"\n",
    "print 'flux density in gap a = %0.2f tesla'%B_L\n",
    "print 'flux density in gap b = %0.2f tesla'%B_R"
   ]
  },
  {
   "cell_type": "markdown",
   "metadata": {},
   "source": [
    "## Pg: 673 Ex: 15.7"
   ]
  },
  {
   "cell_type": "code",
   "execution_count": 29,
   "metadata": {
    "collapsed": false
   },
   "outputs": [
    {
     "name": "stdout",
     "output_type": "stream",
     "text": [
      " All the values in the textbook are approximated hence the values in this code differ from those of Textbook\n",
      "Inductance of the given coil = 54.35 milli-henry\n"
     ]
    }
   ],
   "source": [
    "from __future__ import division\n",
    "N=500#      #number of turns of coil\n",
    "R=4.6*10**6#      #reluctance of the magnetic path from ex15.5\n",
    "L=N**2/R#      #inductance\n",
    "print \" All the values in the textbook are approximated hence the values in this code differ from those of Textbook\"\n",
    "print 'Inductance of the given coil = %0.2f milli-henry'%(L*10**3)      #milli-10**-3"
   ]
  },
  {
   "cell_type": "markdown",
   "metadata": {},
   "source": [
    "## Pg: 674 Ex: 15.8"
   ]
  },
  {
   "cell_type": "code",
   "execution_count": 31,
   "metadata": {
    "collapsed": false
   },
   "outputs": [
    {
     "name": "stdout",
     "output_type": "stream",
     "text": [
      "self-inductance of coil 1 = 1.0 milli henry\n",
      "self-inductance of coil 2 = 4.0 in milli henry\n",
      "mutual inductance of the coils = (2+0j) milli henry\n"
     ]
    }
   ],
   "source": [
    "from __future__ import division\n",
    "R=10**7#      #reluctance of core\n",
    "N_1=100#      #turns for coil 1\n",
    "N_2=200#      #turns for coil 2\n",
    "L_1=N_1**2/R#      #self-inductance of coil 1\n",
    "L_2=N_2**2/R#      #self-inductance of coil 2\n",
    "#here, complex number i represents i_1 in textbook\n",
    "phi_1=N_1*1J/R#      #flux produced by i(i_1)\n",
    "L_21=N_2*phi_1#      #flux linkages of coil 2 from current in coil 1\n",
    "M=L_21/1J#      #mutual inductance\n",
    "#milli-(10**-3)\n",
    "print 'self-inductance of coil 1 =',L_1*10**3,'milli henry'\n",
    "print 'self-inductance of coil 2 =',L_2*10**3,'in milli henry'\n",
    "print 'mutual inductance of the coils =',M*10**3, 'milli henry'"
   ]
  },
  {
   "cell_type": "markdown",
   "metadata": {},
   "source": [
    "## Pg: 675 Ex: 15.9"
   ]
  },
  {
   "cell_type": "code",
   "execution_count": 34,
   "metadata": {
    "collapsed": false
   },
   "outputs": [
    {
     "name": "stdout",
     "output_type": "stream",
     "text": [
      " All the values in the textbook are approximated hence the values in this code differ from those of Textbook\n",
      "The required turns ratio N1/N2 = 21.364\n"
     ]
    }
   ],
   "source": [
    "from __future__ import division\n",
    "V_s_rms=4700#      #for source\n",
    "V_L_rms=220#      #load voltage\n",
    "tr=V_s_rms/V_L_rms#      #turns ratio\n",
    "print \" All the values in the textbook are approximated hence the values in this code differ from those of Textbook\"\n",
    "print 'The required turns ratio N1/N2 = %0.3f'%tr"
   ]
  },
  {
   "cell_type": "markdown",
   "metadata": {},
   "source": [
    "## Pg: 676 Ex: 15.10"
   ]
  },
  {
   "cell_type": "code",
   "execution_count": 35,
   "metadata": {
    "collapsed": false
   },
   "outputs": [
    {
     "name": "stdout",
     "output_type": "stream",
     "text": [
      "OPEN switch\n",
      "Primary voltage = 110.00 volts\n",
      "Secondary voltage = 22.00 volts\n",
      "Current in primary and secondary windings = 0 in amperes\n",
      "CLOSED switch\n",
      "Primary voltage = 110.00 volts\n",
      "Secondary voltage = 22.00 volts\n",
      "Current in primary winding = 0.44 amperes\n",
      "Current in secondary winding = 2.20 amperes\n"
     ]
    }
   ],
   "source": [
    "from __future__ import division\n",
    "V_1_rms=110#\n",
    "R_L=10#\n",
    "tr=5#      #turns ratio(N1/N2)\n",
    "V_2_rms=V_1_rms/tr#      #primary and secondary voltage relation\n",
    "#a)open switch\n",
    "print 'OPEN switch'\n",
    "print 'Primary voltage = %0.2f volts'%V_1_rms\n",
    "print 'Secondary voltage = %0.2f volts'%V_2_rms\n",
    "#As switch is open, current in second winding is 0 which implies the current in primary coil to be 0 (ideal transformer condition)\n",
    "print 'Current in primary and secondary windings =',0,'in amperes'\n",
    "#b)closed switch\n",
    "print 'CLOSED switch'\n",
    "I_2_rms=V_2_rms/R_L#      #ohm's law\n",
    "I_1_rms=I_2_rms/tr#      #ideal transformer condition\n",
    "print 'Primary voltage = %0.2f volts'%V_1_rms\n",
    "print 'Secondary voltage = %0.2f volts'%V_2_rms\n",
    "print 'Current in primary winding = %0.2f amperes'%I_1_rms\n",
    "print 'Current in secondary winding = %0.2f amperes'%I_2_rms"
   ]
  },
  {
   "cell_type": "markdown",
   "metadata": {},
   "source": [
    "## Pg: 677 Ex: 15.11"
   ]
  },
  {
   "cell_type": "code",
   "execution_count": 44,
   "metadata": {
    "collapsed": false
   },
   "outputs": [
    {
     "name": "stdout",
     "output_type": "stream",
     "text": [
      " All the values in the textbook are approximated hence the values in this code differ from those of Textbook\n",
      "PRIMARY CURRENT:\n",
      "peak value = 0.35 amperes\n",
      "phase angle = -45.00 degrees\n",
      "PRIMARY VOLTAGE:\n",
      "peak value = 790.57 amperes\n",
      "phase angle = 18.43 degrees\n",
      "SECONDARY CURRENT\n",
      "peak value = 3.54 amperes\n",
      "phase angle = -45.00 degrees\n",
      "SECONDARY VOLTAGE\n",
      "peak value = 79.06 amperes\n",
      "phase angle = 18.43 degrees\n",
      "power delivered to load = 62.50 watts\n"
     ]
    }
   ],
   "source": [
    "from __future__ import division\n",
    "from cmath import sin,cos,polar,phase,sqrt\n",
    "V_s=1000*complex(cos(0),sin(0))#      #source voltage phasor\n",
    "R_1=10**3#\n",
    "R_L=10#\n",
    "Z_L_1=R_L+1J*20#      #impedance\n",
    "tr=10#      #turns ratio(N1/N2)\n",
    "Z_L_2=(tr**2)*Z_L_1#      #reflecting Z_L_1 onto primary side\n",
    "Z_s=R_1+Z_L_2#      #total impedance seen by the source \n",
    "\n",
    "Z_s_max = abs(Z_s)\n",
    "Z_s_phi=phase(Z_s)\n",
    "#primary quantities\n",
    "I_1=V_s/Z_s#\n",
    "I_1_max = abs(I_1)\n",
    "I_1_phi = phase(I_1)\n",
    "V_1=I_1*Z_L_2#\n",
    "V_1_max=abs(V_1)\n",
    "V_1_phi=phase(V_1)\n",
    "#using turns ratio to find secondary quantities\n",
    "I_2=tr*I_1#\n",
    "I_2_max=abs(I_2)\n",
    "I_2_phi=phase(I_2)\n",
    "V_2=V_1/tr#\n",
    "V_2_max=abs(V_2)\n",
    "V_2_phi=phase(V_2)\n",
    "I_2_rms=I_2_max/sqrt(2)#\n",
    "P_L=(I_2_rms**2)*R_L#      #power to load\n",
    "print \" All the values in the textbook are approximated hence the values in this code differ from those of Textbook\"\n",
    "#we take real parts of angles to take out neglegible and unnecessary imaginary parts(if any are there)\n",
    "print 'PRIMARY CURRENT:'\n",
    "print 'peak value = %0.2f amperes'%I_1_max\n",
    "print 'phase angle = %0.2f degrees'%((I_1_phi*180/pi).real)\n",
    "print 'PRIMARY VOLTAGE:'\n",
    "print 'peak value = %0.2f amperes'%(V_1_max)\n",
    "print 'phase angle = %0.2f degrees'%((V_1_phi*180/pi).real)\n",
    "print 'SECONDARY CURRENT'\n",
    "print 'peak value = %0.2f amperes'%I_2_max\n",
    "print 'phase angle = %0.2f degrees'%((I_2_phi*180/pi).real)\n",
    "print 'SECONDARY VOLTAGE'\n",
    "print 'peak value = %0.2f amperes'%(V_2_max)\n",
    "print 'phase angle = %0.2f degrees'%((V_2_phi*180/pi).real)\n",
    "print 'power delivered to load = %0.2f watts'%abs(P_L)"
   ]
  },
  {
   "cell_type": "markdown",
   "metadata": {},
   "source": [
    "## Pg: 678 Ex: 15.12"
   ]
  },
  {
   "cell_type": "code",
   "execution_count": 2,
   "metadata": {
    "collapsed": false
   },
   "outputs": [
    {
     "name": "stdout",
     "output_type": "stream",
     "text": [
      "Reflected voltage:\n",
      "Peak value = 100.00 volts\n",
      "phase angle = 0.00 degrees\n",
      "Reflected resistance = 10.00 ohms\n"
     ]
    }
   ],
   "source": [
    "from __future__ import division\n",
    "from cmath import polar,pi,sin,cos\n",
    "V_s=1000*complex(cos(0),sin(0))#      #source voltage phasor\n",
    "R_1=10**3#\n",
    "tr=10#      #turns ratio(N1/N2)\n",
    "V_S=V_s/tr#      #reflected voltage\n",
    "V_S_max=polar(V_S)[0]\n",
    "V_S_phi=polar(V_S)[1]\n",
    "R1=R_1/(tr**2)#      #reflected resistance\n",
    "#we take real parts of angles to take out neglegible and unnecessary imaginary parts(if any are there)\n",
    "print 'Reflected voltage:'\n",
    "print 'Peak value = %0.2f volts'%V_S_max\n",
    "print 'phase angle = %0.2f degrees'%(V_S_phi*180/pi)\n",
    "print 'Reflected resistance = %0.2f ohms'%R1"
   ]
  },
  {
   "cell_type": "markdown",
   "metadata": {},
   "source": [
    "## Pg: 679 Ex: 15.13"
   ]
  },
  {
   "cell_type": "code",
   "execution_count": 2,
   "metadata": {
    "collapsed": false
   },
   "outputs": [
    {
     "name": "stdout",
     "output_type": "stream",
     "text": [
      "Percent regulation = 4.51\n"
     ]
    }
   ],
   "source": [
    "from __future__ import division\n",
    "from cmath import polar,pi,sin,cos,acos\n",
    "\n",
    "V_L_max=240#\n",
    "V_L=V_L_max*complex(cos(0),sin(0))#      #load voltage\n",
    "R_1=3#\n",
    "R_2=0.03#\n",
    "R_c=100*10**3#      #core-loss resistance\n",
    "tr=10#      #turns ratio(N1/N2)\n",
    "#leakage reactances\n",
    "Z_1=1J*6.5#\n",
    "Z_2=1J*0.07#\n",
    "Z_m=1J*15*10**3#\n",
    "P_R=20*10**3#      #rated power\n",
    "I_2_max=P_R/(V_L.real)#\n",
    "PF=0.8#      #power factor\n",
    "phi=-acos(PF)#      #-ve for lagging power\n",
    "I_2=complex(I_2_max*cos(phi),I_2_max*sin(phi))#      #phasor\n",
    "I_1=I_2/tr#      #primary current\n",
    "I_1_max=polar(I_1)[0]\n",
    "I_1_phi =polar(I_1)[1]\n",
    "V_2=V_L+(R_2+Z_2)*I_2#      #KVL equation\n",
    "V_1=tr*V_2#\n",
    "V_s=V_1+(R_1+Z_1)*I_1#      #KVL equation\n",
    "V_s_max = polar(V_s)[0]\n",
    "V_s_phi =polar(V_s)[1]#\n",
    "P_loss=((V_s_max**2)/R_c)+((I_1_max**2)*R_1)+((I_2_max**2)*R_2)#      #power loss in transformer\n",
    "P_L=V_L*I_2*PF#      #power to load\n",
    "P_in=P_L+P_loss#      #input power\n",
    "P_eff=(1-(P_loss/P_in))*100#\n",
    "#under no-load condtions\n",
    "I_1=0#\n",
    "I_2=0#\n",
    "V_1=V_s_max#\n",
    "V_no_load=V_1/tr#\n",
    "PR=((V_no_load-V_L_max)/V_L_max)*100#\n",
    "print 'Percent regulation = %0.2f'%PR"
   ]
  }
 ],
 "metadata": {
  "kernelspec": {
   "display_name": "Python 2",
   "language": "python",
   "name": "python2"
  },
  "language_info": {
   "codemirror_mode": {
    "name": "ipython",
    "version": 2
   },
   "file_extension": ".py",
   "mimetype": "text/x-python",
   "name": "python",
   "nbconvert_exporter": "python",
   "pygments_lexer": "ipython2",
   "version": "2.7.9"
  }
 },
 "nbformat": 4,
 "nbformat_minor": 0
}
