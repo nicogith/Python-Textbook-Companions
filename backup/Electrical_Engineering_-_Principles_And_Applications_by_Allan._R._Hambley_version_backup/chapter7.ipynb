{
 "cells": [
  {
   "cell_type": "markdown",
   "metadata": {},
   "source": [
    "# Chapter 7 : Logic circuits"
   ]
  },
  {
   "cell_type": "markdown",
   "metadata": {},
   "source": [
    "## Pg: 312 Ex: 7.1 "
   ]
  },
  {
   "cell_type": "code",
   "execution_count": 26,
   "metadata": {
    "collapsed": false
   },
   "outputs": [
    {
     "name": "stdout",
     "output_type": "stream",
     "text": [
      "Binary equivalent of 343 is 101010111\n"
     ]
    }
   ],
   "source": [
    "N=343#      #decimal integer\n",
    "N2=bin(N)[2:]#      #binary equivalent of N\n",
    "print 'Binary equivalent of 343 is',N2"
   ]
  },
  {
   "cell_type": "markdown",
   "metadata": {},
   "source": [
    "## Pg: 313 Ex: 7.2"
   ]
  },
  {
   "cell_type": "code",
   "execution_count": 18,
   "metadata": {
    "collapsed": false
   },
   "outputs": [
    {
     "name": "stdout",
     "output_type": "stream",
     "text": [
      "Binary form of 0.392 is 0.0110010\n"
     ]
    }
   ],
   "source": [
    "from math import floor\n",
    "N=0.392#      #decimal\n",
    "def float_to_binary(num):\n",
    "        exponent=0\n",
    "        shifted_num=num\n",
    "        while shifted_num != int(shifted_num):        \n",
    "            shifted_num*=2\n",
    "            exponent+=1\n",
    "        if exponent==0:\n",
    "            return '{0:0b}'.format(int(shifted_num))\n",
    "        binary='{0:0{1}b}'.format(int(shifted_num),exponent+1)\n",
    "        integer_part=binary[:-exponent]\n",
    "        fractional_part=binary[-exponent:].rstrip('0')\n",
    "        return '{0}.{1}'.format(integer_part,fractional_part)    \n",
    "DP =float_to_binary(N)[0:9]    \n",
    "print 'Binary form of 0.392 is',DP"
   ]
  },
  {
   "cell_type": "markdown",
   "metadata": {},
   "source": [
    "## Pg: 316 Ex: 7.3"
   ]
  },
  {
   "cell_type": "code",
   "execution_count": 24,
   "metadata": {
    "collapsed": false
   },
   "outputs": [
    {
     "name": "stdout",
     "output_type": "stream",
     "text": [
      "binary form of 343.392 :  101010111.101010111\n"
     ]
    }
   ],
   "source": [
    "n=343.392#\n",
    "n1=n%1 # decimal float part\n",
    "n2=int(n-n1) # decimal integer part\n",
    "b1=bin(n2)[2:] # binary integer part\n",
    "def float_to_binary(num):\n",
    "        exponent=0\n",
    "        shifted_num=num\n",
    "        while shifted_num != int(shifted_num):        \n",
    "            shifted_num*=2\n",
    "            exponent+=1\n",
    "        if exponent==0:\n",
    "            return '{0:0b}'.format(int(shifted_num))\n",
    "        binary='{0:0{1}b}'.format(int(shifted_num),exponent+1)\n",
    "        integer_part=binary[:-exponent]\n",
    "        fractional_part=binary[-exponent:].rstrip('0')\n",
    "        return '{0}.{1}'.format(integer_part,fractional_part)    \n",
    "b2 =float_to_binary(n2)[0:9]    # binary float part\n",
    "#combining these two\n",
    "b=str(b1)+'.'+str(b2)\n",
    "print 'binary form of 343.392 : ',b"
   ]
  }
 ],
 "metadata": {
  "kernelspec": {
   "display_name": "Python 2",
   "language": "python",
   "name": "python2"
  },
  "language_info": {
   "codemirror_mode": {
    "name": "ipython",
    "version": 2
   },
   "file_extension": ".py",
   "mimetype": "text/x-python",
   "name": "python",
   "nbconvert_exporter": "python",
   "pygments_lexer": "ipython2",
   "version": "2.7.9"
  }
 },
 "nbformat": 4,
 "nbformat_minor": 0
}
