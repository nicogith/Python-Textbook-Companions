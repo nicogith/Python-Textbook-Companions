{
 "cells": [
  {
   "cell_type": "markdown",
   "metadata": {},
   "source": [
    "# Chapter 1 : Introduction"
   ]
  },
  {
   "cell_type": "markdown",
   "metadata": {},
   "source": [
    "## Pg: 45 Ex: 1.1 "
   ]
  },
  {
   "cell_type": "code",
   "execution_count": 3,
   "metadata": {
    "collapsed": false
   },
   "outputs": [
    {
     "data": {
      "image/png": "[encoded data removed]",
      "text/plain": [
       "<matplotlib.figure.Figure at 0x7f3ff2a1f110>"
      ]
     },
     "metadata": {},
     "output_type": "display_data"
    }
   ],
   "source": [
    "%matplotlib inline\n",
    "from matplotlib.pyplot import plot,show,subplot,title,xlabel,ylabel\n",
    "from numpy import arange,exp\n",
    "#As both q and i are 0 when t<0, graph coincides with x-axis till t=0 and we here,show the part where t>0\n",
    "t=arange(0,0.04+0.000001,0.000001)\n",
    "q=[];i=[]\n",
    "for time in t:\n",
    "    q.append(2*(1-exp(-100*time)))\n",
    "    #current i=dq/dt=200*e**(-100*t)\n",
    "    i.append(200*exp(-100*time))\n",
    "subplot(121)\n",
    "title('charge vs time')\n",
    "xlabel('time in ms')\n",
    "ylabel('charge in coulombs')\n",
    "#ms-milli second(10**-3)\n",
    "plot(t*10**3,q)\n",
    "subplot(122)\n",
    "title('current vs time')\n",
    "xlabel('time in ms')\n",
    "ylabel('current in amperes')      #ms-milli second(10**-3)\n",
    "plot(t*10**3,i)\n",
    "show()"
   ]
  },
  {
   "cell_type": "markdown",
   "metadata": {},
   "source": [
    "## Pg: 46 Ex: 1.2"
   ]
  },
  {
   "cell_type": "code",
   "execution_count": 5,
   "metadata": {
    "collapsed": false
   },
   "outputs": [
    {
     "name": "stdout",
     "output_type": "stream",
     "text": [
      "ELEMENT A :\n",
      "Power for element A in watts is 24\n",
      "As a battery, element A is being charged\n",
      "ELEMENT B\n",
      "Power for element B in watts is -12\n",
      "As a battery, element B is being discharged\n",
      "ELEMENT C\n",
      "Power for element C in watts is -36\n",
      "As a battery, element C is being discharged\n"
     ]
    }
   ],
   "source": [
    "#element A\n",
    "print 'ELEMENT A :'\n",
    "V_a=12#\n",
    "i_a=2#\n",
    "P_a=V_a*i_a#      #passive reference configuration (current enters through +ve polarity)\n",
    "if(P_a>0):      #absorption of power\n",
    "    print 'Power for element A in watts is',P_a\n",
    "    print 'As a battery, element A is being charged'\n",
    "elif(P_a<0) :       #supplying of power\n",
    "    print 'Power for element A in watts is',P_a\n",
    "    print 'As a battery, element A is being discharged'\n",
    "\n",
    "\n",
    "#element B\n",
    "print 'ELEMENT B'\n",
    "V_b=12#\n",
    "i_b=1#\n",
    "P_b=-V_b*i_b#      #opposite to passive reference configuration (current enters through -ve polarity)\n",
    "if(P_b>0):       #absorption of power\n",
    "    print 'Power for element B in watts is',P_b\n",
    "    print 'As a battery, element B is being charged'\n",
    "elif(P_b<0) :       #supplying of power\n",
    "    print 'Power for element B in watts is',P_b\n",
    "    print 'As a battery, element B is being discharged'\n",
    "\n",
    "\n",
    "#element C\n",
    "print 'ELEMENT C'\n",
    "V_c=12#\n",
    "i_c=-3#\n",
    "P_c=V_c*i_c#      #passive reference configuration (current enters through +ve polarity)\n",
    "if(P_c>0):       #absorption of power\n",
    "    print 'Power for element C in watts is',P_c\n",
    "    print 'As a battery, element C is being charged'\n",
    "elif(P_c<0):      #supplying of power\n",
    "    print 'Power for element C in watts is',P_c\n",
    "    print 'As a battery, element C is being discharged'"
   ]
  },
  {
   "cell_type": "markdown",
   "metadata": {},
   "source": [
    "## Pg: 47 Ex: 1.3"
   ]
  },
  {
   "cell_type": "code",
   "execution_count": 6,
   "metadata": {
    "collapsed": false
   },
   "outputs": [
    {
     "name": "stdout",
     "output_type": "stream",
     "text": [
      "Density of Fluid = 937.8 N sec**2/m**4\n",
      "\n",
      " New Specific Weight = 9195 N/m**3\n"
     ]
    }
   ],
   "source": [
    "# initialisation of variables\n",
    "G= 9200 # N/m**2\n",
    "g1= 9.81 # m/sec**2\n",
    "g2= 9.805 #m/sec**2\n",
    "# Calculations\n",
    "rho= G/g1\n",
    "G2= rho*g2\n",
    "# Results\n",
    "print 'Density of Fluid = %.1f N sec**2/m**4'%(rho)\n",
    "print '\\n New Specific Weight = %.f N/m**3'%(G2)"
   ]
  },
  {
   "cell_type": "markdown",
   "metadata": {},
   "source": [
    "## Pg: 47 Ex: 1.4"
   ]
  },
  {
   "cell_type": "code",
   "execution_count": 9,
   "metadata": {
    "collapsed": false
   },
   "outputs": [
    {
     "name": "stdout",
     "output_type": "stream",
     "text": [
      " All the values in the textbook are approximated, hence the values in this code differ from those of textbook\n",
      "Resistance of copper wire = 0.05 ohms\n"
     ]
    }
   ],
   "source": [
    "from numpy import pi\n",
    "d=2.05*10**-3#      #diameter of wire\n",
    "l=10#      #length of wire\n",
    "P=1.72*10**-8#      #resistivity of copper\n",
    "A=pi*d**2/4#      #area of wire\n",
    "R=P*l/A#      #resistance of the copper wire\n",
    "print \" All the values in the textbook are approximated, hence the values in this code differ from those of textbook\"\n",
    "print 'Resistance of copper wire = %0.2f ohms'%R"
   ]
  },
  {
   "cell_type": "markdown",
   "metadata": {},
   "source": [
    "## Pg: 47 Ex: 1.5 "
   ]
  },
  {
   "cell_type": "code",
   "execution_count": 10,
   "metadata": {
    "collapsed": false
   },
   "outputs": [
    {
     "name": "stdout",
     "output_type": "stream",
     "text": [
      "resistance of heater element = 9.00 ohms\n",
      "operating current = 13.00 amperes\n"
     ]
    }
   ],
   "source": [
    "P=1500#      #power of heater\n",
    "V=120#      #operating voltage\n",
    "R=V**2/P#      #resistance of heater element\n",
    "i=V/R#      #operating current\n",
    "print 'resistance of heater element = %0.2f ohms'%R\n",
    "print 'operating current = %0.2f amperes'%i"
   ]
  },
  {
   "cell_type": "markdown",
   "metadata": {},
   "source": [
    "## Pg: 48 Ex: 1.6"
   ]
  },
  {
   "cell_type": "code",
   "execution_count": 11,
   "metadata": {
    "collapsed": false
   },
   "outputs": [
    {
     "name": "stdout",
     "output_type": "stream",
     "text": [
      "voltage across resistance = -10.00 volts\n",
      "current through resistance = 2.00 amperes\n",
      "current through source = -2.00 amperes\n",
      "power for voltage source = -20.00 watts\n",
      "power for resistance = 20.00 watts\n",
      "Results are in agreement with those previously found in the textbook\n"
     ]
    }
   ],
   "source": [
    "V_s=10#      #source voltage\n",
    "R=5#\n",
    "V_x=-V_s#      #Voltage across R(applying KVL)\n",
    "#the actual polarity is opposite to the reference, so we take polarity to be +ve at the top end of resistance\n",
    "i_x=-V_x/R#      #ohm's law(-ve sign as V_x and i_x have references opposite to passive configuration)\n",
    "i_y=-i_x#      #current through source\n",
    "P_s=V_s*i_y#      #power for voltage source\n",
    "P_R=-V_x*i_x#      #power for resistance(-ve sign as V_x and i_x have references opposite to passive configuration)\n",
    "print 'voltage across resistance = %0.2f volts'%V_x\n",
    "print 'current through resistance = %0.2f amperes'%i_x\n",
    "print 'current through source = %0.2f amperes'%i_y\n",
    "print 'power for voltage source = %0.2f watts'%P_s\n",
    "print 'power for resistance = %0.2f watts'%P_R\n",
    "if(V_x==-10 and i_x==2 and i_y==-2 and P_s==-20 and P_R==20):\n",
    "    print 'Results are in agreement with those previously found in the textbook'\n"
   ]
  },
  {
   "cell_type": "markdown",
   "metadata": {},
   "source": [
    "## Pg: 48 Ex: 1.7"
   ]
  },
  {
   "cell_type": "code",
   "execution_count": 12,
   "metadata": {
    "collapsed": false
   },
   "outputs": [
    {
     "name": "stdout",
     "output_type": "stream",
     "text": [
      "Source voltage for given circuit = 35.00 volts\n"
     ]
    }
   ],
   "source": [
    "R_1=10#\n",
    "R_2=5#\n",
    "V_R_2=15#      #voltage across R_2\n",
    "a=0.5#\n",
    "i_y=V_R_2/R_2#      #current across R_2\n",
    "i_x=i_y*2/3#      #current across R_1, by applying KCL at the top end of the controlled source \n",
    "V_x=i_x*R_1#      #ohm's law\n",
    "V_s=V_x+V_R_2#      #KVL around the periphery of the circuit\n",
    "print 'Source voltage for given circuit = %0.2f volts'%V_s"
   ]
  }
 ],
 "metadata": {
  "kernelspec": {
   "display_name": "Python 2",
   "language": "python",
   "name": "python2"
  },
  "language_info": {
   "codemirror_mode": {
    "name": "ipython",
    "version": 2
   },
   "file_extension": ".py",
   "mimetype": "text/x-python",
   "name": "python",
   "nbconvert_exporter": "python",
   "pygments_lexer": "ipython2",
   "version": "2.7.9"
  }
 },
 "nbformat": 4,
 "nbformat_minor": 0
}
