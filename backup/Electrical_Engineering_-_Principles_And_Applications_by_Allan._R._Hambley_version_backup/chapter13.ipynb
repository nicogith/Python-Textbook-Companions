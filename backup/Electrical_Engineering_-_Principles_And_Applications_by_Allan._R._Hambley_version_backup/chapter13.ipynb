{
 "cells": [
  {
   "cell_type": "markdown",
   "metadata": {},
   "source": [
    "# Chapter 13 : Bipolar junction transistors"
   ]
  },
  {
   "cell_type": "markdown",
   "metadata": {},
   "source": [
    "## Pg: 589 Ex: 13.1"
   ]
  },
  {
   "cell_type": "code",
   "execution_count": 1,
   "metadata": {
    "collapsed": false
   },
   "outputs": [
    {
     "name": "stdout",
     "output_type": "stream",
     "text": [
      "The value of beta B = 100.00\n"
     ]
    }
   ],
   "source": [
    "from __future__ import division\n",
    "V_CE=4#      #It should be high enough so that collector base junction is reverse-biased\n",
    "i_B=30*10**-6#      #base current, a value is selected from the graph\n",
    "i_C=3*10**-3#      #collector current corresponding to values of i_B and V_CE\n",
    "B=i_C/i_B#      #beta value\n",
    "print 'The value of beta B = %0.2f'%B"
   ]
  },
  {
   "cell_type": "markdown",
   "metadata": {},
   "source": [
    "## Pg: 589 Ex: 13.2"
   ]
  },
  {
   "cell_type": "code",
   "execution_count": 3,
   "metadata": {
    "collapsed": false
   },
   "outputs": [
    {
     "name": "stdout",
     "output_type": "stream",
     "text": [
      "graphs cannot be shown but the required values are\n",
      "maximum value of V_CE = 7.00\n",
      "minimum value of V_CE = 3.00 \n",
      "Q-point value of V_CE = 5.00 \n"
     ]
    }
   ],
   "source": [
    "from __future__ import division\n",
    "V_CC=10#\n",
    "V_BB=1.6#\n",
    "R_B=40*10**3#\n",
    "R_C=2*10**3#\n",
    "V_in_Q=0#      #Q point\n",
    "V_in_max=0.4#\n",
    "V_in_min=-0.4#\n",
    "#the following values are found from the intersection of input loadlines with the input characteristic\n",
    "i_B_Q=25*10**-3#      #for V_in_Q\n",
    "i_B_max=35*10**-3#      #for V_in_max\n",
    "i_B_min=15*10**-3#      #for V_in_min\n",
    "#the following values are found from the intersection of output loadlines with the output characteristic\n",
    "V_CE_Q=5#      #corresponding to i_B_Q\n",
    "V_CE_max=7#      #corresponding to i_B_min\n",
    "V_CE_min=3#      #corresponding to i_B_max\n",
    "print 'graphs cannot be shown but the required values are'\n",
    "print 'maximum value of V_CE = %0.2f'%V_CE_max\n",
    "print 'minimum value of V_CE = %0.2f '%V_CE_min\n",
    "print 'Q-point value of V_CE = %0.2f '%V_CE_Q"
   ]
  },
  {
   "cell_type": "markdown",
   "metadata": {},
   "source": [
    "## Pg: 590 Ex: 13.4"
   ]
  },
  {
   "cell_type": "code",
   "execution_count": 4,
   "metadata": {
    "collapsed": false
   },
   "outputs": [
    {
     "name": "stdout",
     "output_type": "stream",
     "text": [
      "collector current = 0.01 amperes\n",
      "collector to emitter voltage = 7.85 volts\n"
     ]
    }
   ],
   "source": [
    "from __future__ import division\n",
    "V_CC=15#\n",
    "B=100#      #beta value\n",
    "R_B=200*10**3#\n",
    "R_C=1*10**3#\n",
    "#we proceed in such a way that the required values will be displayed according to the satisfied condition of the below three cases\n",
    "\n",
    "#a)cut-off region\n",
    "V_BE=15#      #no voltage drop across R_B in cut-off state\n",
    "V_CE=15#      #no voltage drop across R_C in cut-off state\n",
    "i_C=0#      #no collector current flows as there is no voltage drop\n",
    "i_B=0#      #no base current flows as there is no voltage drop\n",
    "if(V_BE<0.5):      #cut-off condition\n",
    "    print 'collector current = %0.2f amperes'%i_C\n",
    "    print 'collector to emitter voltage = %0.2f volts'%V_CE\n",
    "    \n",
    "\n",
    "#b)saturation region\n",
    "V_BE=0.7#      #base to emitter voltage in saturation state\n",
    "V_CE=0.2#      #collector to emitter voltage in saturation state\n",
    "i_C=(V_CC-V_CE)/R_C#      #collector current\n",
    "i_B=(V_CC-V_BE)/R_B#      #base current\n",
    "if((B*i_B>i_C) and (i_B>0)):       #saturation state conditions\n",
    "        print 'collector current = %0.2f amperes'%i_C\n",
    "        print 'collector to emitter voltage = %0.2f volts'%V_CE\n",
    "\n",
    "#c)active region\n",
    "V_BE=0.7#      #base to emitter voltage in active state\n",
    "i_B=(V_CC-V_BE)/R_B#      #base current\n",
    "i_C=B*i_B#      #collector current in active state\n",
    "V_CE=V_CC-i_C*R_C#      #collector to emitter voltage\n",
    "if((V_CE>0.2) and (i_B>0)) :       #active state conditions\n",
    "        print 'collector current = %0.2f amperes'%i_C\n",
    "        print 'collector to emitter voltage = %0.2f volts'%V_CE"
   ]
  },
  {
   "cell_type": "markdown",
   "metadata": {},
   "source": [
    "## Pg: 591 Ex: 13.5"
   ]
  },
  {
   "cell_type": "code",
   "execution_count": 5,
   "metadata": {
    "collapsed": false
   },
   "outputs": [
    {
     "name": "stdout",
     "output_type": "stream",
     "text": [
      "collector current = 0.01 amperes\n",
      "collector to emitter voltage = 0.20 volts\n"
     ]
    }
   ],
   "source": [
    "R_B=200*10**3#\n",
    "R_C=1*10**3#\n",
    "V_CC=15#\n",
    "B=300#      #beta value\n",
    "#we proceed in such a way that the required values will be displayed according to the satisfied condition of the below three cases\n",
    "\n",
    "#a)active region\n",
    "V_BE=0.7#      #base to emitter voltage in active state\n",
    "i_B=(V_CC-V_BE)/R_B#      #base current\n",
    "i_C=B*i_B#      #collector current in active state\n",
    "V_CE=V_CC-i_C*R_C#      #collector to emitter voltage\n",
    "if((V_CE>0.2) and (i_B>0)):       #active state conditions\n",
    "        print 'collector current = %0.2f amperes'%i_C\n",
    "        print 'collector to emitter voltage = %0.2f volts'%V_CE\n",
    "\n",
    "#b)saturation region\n",
    "V_BE=0.7#      #base to emitter voltage in saturation state\n",
    "V_CE=0.2#      #collector to emitter voltage in saturation state\n",
    "i_C=(V_CC-V_CE)/R_C#      #collector current\n",
    "i_B=(V_CC-V_BE)/R_B#      #base current\n",
    "if((B*i_B>i_C) and (i_B>0)):       #saturation state conditions\n",
    "        print 'collector current = %0.2f amperes'%i_C\n",
    "        print 'collector to emitter voltage = %0.2f volts'%V_CE\n",
    "\n",
    "#c)cut-off region\n",
    "V_BE=15#      #no voltage drop across R_B in cut-off state\n",
    "V_CE=15#      #no voltage drop across R_C in cut-off state\n",
    "i_C=0#      #no collector current flows as there is no voltage drop\n",
    "i_B=0#      #no base current flows as there is no voltage drop\n",
    "if(V_BE<0.5):      #cut-off condition\n",
    "    print 'collector current = %0.2f amperes'%i_C\n",
    "    print 'collector to emitter voltage = %0.2f volts'%V_CE"
   ]
  },
  {
   "cell_type": "markdown",
   "metadata": {},
   "source": [
    "## Pg: 592 Ex: 13.6"
   ]
  },
  {
   "cell_type": "code",
   "execution_count": 7,
   "metadata": {
    "collapsed": false
   },
   "outputs": [
    {
     "name": "stdout",
     "output_type": "stream",
     "text": [
      " All the values in the textbook are Approximated hence the values in this code differ from those of Textbook\n",
      "For beta B=100:\n",
      "collector current = 2.13e-03 amperes\n",
      "collector to emitter voltage = 6.44 volts\n",
      "For beta B=300:\n",
      "collector current = 2.14e-03 amperes\n",
      "collector to emitter voltage = 6.41 volts\n"
     ]
    }
   ],
   "source": [
    "from __future__ import division\n",
    "V_CC=15#\n",
    "V_BB=5#\n",
    "V_BE=0.7#      #assuming the device is in the active state\n",
    "R_C=2*10**3#\n",
    "R_E=2*10**3#\n",
    "i_E=(V_BB-V_BE)/R_E#      #emitter current\n",
    "print \" All the values in the textbook are Approximated hence the values in this code differ from those of Textbook\"\n",
    "\n",
    "#a)B=100\n",
    "print 'For beta B=100:'\n",
    "B=100#      #beta value\n",
    "i_B=i_E/(B+1)#      #base current\n",
    "i_C=B*i_B#      #collector current\n",
    "V_CE=V_CC-i_C*R_C-i_E*R_E#      #collector to emitter voltage\n",
    "print 'collector current = %0.2e amperes'%i_C\n",
    "print 'collector to emitter voltage = %0.2f volts'%V_CE\n",
    "\n",
    "#b)B=300\n",
    "print 'For beta B=300:'\n",
    "B=300#      #beta value\n",
    "i_B=i_E/(B+1)#      #base current\n",
    "i_C=B*i_B#      #collector current\n",
    "V_CE=V_CC-i_C*R_C-i_E*R_E#      #collector to emitter voltage\n",
    "print 'collector current = %0.2e amperes'%i_C\n",
    "print 'collector to emitter voltage = %0.2f volts'%V_CE"
   ]
  },
  {
   "cell_type": "markdown",
   "metadata": {},
   "source": [
    "## Pg: 593 Ex: 13.7"
   ]
  },
  {
   "cell_type": "code",
   "execution_count": 8,
   "metadata": {
    "collapsed": false
   },
   "outputs": [
    {
     "name": "stdout",
     "output_type": "stream",
     "text": [
      " All the values in the textbook are Approximated hence the values in this code differ from those of Textbook\n",
      "For beta B=100:\n",
      "collector current = 4.12e-03 amperes\n",
      "collector to emitter voltage = 6.72 volts\n",
      "For beta B=300:\n",
      "collector current = 4.24e-03 amperes\n",
      "collector to emitter voltage = 6.51 volts\n"
     ]
    }
   ],
   "source": [
    "from __future__ import division\n",
    "V_CC=15#\n",
    "R_1=10*10**3#\n",
    "R_2=5*10**3#\n",
    "R_C=1*10**3#\n",
    "R_E=1*10**3#\n",
    "V_BE=0.7#\n",
    "R_B=1/((1/R_1)+(1/R_2))#      #thevenin resistance\n",
    "V_B=V_CC*R_2/(R_1+R_2)#      #thevenin voltage\n",
    "print \" All the values in the textbook are Approximated hence the values in this code differ from those of Textbook\"\n",
    "\n",
    "#a)B=100\n",
    "print 'For beta B=100:'\n",
    "B=100#      #beta value\n",
    "i_B=(V_B-V_BE)/(R_B+(B+1)*R_E)#      #base current\n",
    "i_C=B*i_B#      #collector current\n",
    "i_E=i_B+i_C#      #emitter current\n",
    "V_CE=V_CC-i_C*R_C-i_E*R_E#      #collector to emitter voltage\n",
    "print 'collector current = %0.2e amperes'%i_C\n",
    "print 'collector to emitter voltage = %0.2f volts'%V_CE\n",
    "#b)B=300\n",
    "print 'For beta B=300:'\n",
    "B=300#      #beta value\n",
    "i_B=(V_B-V_BE)/(R_B+(B+1)*R_E)#      #base current\n",
    "i_C=B*i_B#      #collector current\n",
    "i_E=i_B+i_C#      #emitter current\n",
    "V_CE=V_CC-i_C*R_C-i_E*R_E#      #collector to emitter voltage\n",
    "print 'collector current = %0.2e amperes'%i_C\n",
    "print 'collector to emitter voltage = %0.2f volts'%V_CE"
   ]
  },
  {
   "cell_type": "markdown",
   "metadata": {},
   "source": [
    "## Pg: 594 Ex: 13.8"
   ]
  },
  {
   "cell_type": "code",
   "execution_count": 14,
   "metadata": {
    "collapsed": false
   },
   "outputs": [
    {
     "name": "stdout",
     "output_type": "stream",
     "text": [
      " All the values in the textbook are Approximated hence the values in this code differ from those of Textbook\n",
      "voltage gain = -105.64 open circuit voltage gain = -158.46\n",
      "input impedance = 530.61 ohms\n",
      "current gain = -28.03\n",
      "power gain = 2960.82\n",
      "output impedance = 1000.00 ohms\n"
     ]
    },
    {
     "data": {
      "image/png": "[encoded data removed]",
      "text/plain": [
       "<matplotlib.figure.Figure at 0x7f24dc60c290>"
      ]
     },
     "metadata": {},
     "output_type": "display_data"
    }
   ],
   "source": [
    "%matplotlib inline\n",
    "from matplotlib.pyplot import plot,subplot,title,xlabel,ylabel,show\n",
    "from numpy import arange,sin,pi\n",
    "from __future__ import division\n",
    "V_CC=15#\n",
    "V_BE=0.7#\n",
    "B=100#      #beta value\n",
    "R_1=10*10**3#\n",
    "R_2=5*10**3#\n",
    "R_L_1=2*10**3#      #R_L is taken as R_L_1\n",
    "R_C=1*10**3#\n",
    "R_E=1*10**3#\n",
    "V_T=26*10**-3#      #thermal voltage\n",
    "#from the analysis of the previous example we have the the values of i_C_Q and V_CE\n",
    "i_C_Q=4.12*10**-3#\n",
    "V_CE=6.72#\n",
    "r_pi=(B*V_T)/i_C_Q#\n",
    "R_B=1/((1/R_1)+(1/R_2))#      #thevenin resistance\n",
    "R_L_2=1/((1/R_L_1)+(1/R_C))#      #R_L' is taken as R_L_2\n",
    "A_v=-(R_L_2*B)/r_pi#      #voltage gain\n",
    "A_voc=-(R_C*B)/r_pi#      #open circuit voltage gain\n",
    "Z_in=1/((1/R_B)+(1/r_pi))#      #input impedance\n",
    "A_i=(A_v*Z_in)/R_L_1#      #current gain\n",
    "G=A_i*A_v#      #power gain\n",
    "Z_o=R_C      #output impedance\n",
    "#assume f=1hz\n",
    "f=1#\n",
    "tt=arange(0,3+0.0005,0.0005)\n",
    "V_in=[];V_o=[]\n",
    "for t in tt:\n",
    "    V_in.append(0.001*sin(2*pi*f*t))\n",
    "    V_o.append(-((0.001*sin(2*pi*f*t))*R_L_2*B)/r_pi)\n",
    "subplot(121)\n",
    "title('Input voltage vs time')\n",
    "xlabel('time')\n",
    "ylabel('input voltage')\n",
    "plot(tt,V_in)\n",
    "subplot(122)\n",
    "title('output voltage vs time')\n",
    "xlabel('time')\n",
    "ylabel('output voltage')\n",
    "plot(tt,V_o)\n",
    "#In the graph, notice the phase inversion between input and output voltages\n",
    "print \" All the values in the textbook are Approximated hence the values in this code differ from those of Textbook\"\n",
    "print 'voltage gain = %0.2f'%A_v,\n",
    "print 'open circuit voltage gain = %0.2f'%A_voc\n",
    "print 'input impedance = %0.2f ohms'%Z_in\n",
    "print 'current gain = %0.2f'%A_i\n",
    "print 'power gain = %0.2f'%G\n",
    "print 'output impedance = %0.2f ohms'%Z_o"
   ]
  },
  {
   "cell_type": "markdown",
   "metadata": {},
   "source": [
    "## Pg: 595 Ex: 13.9"
   ]
  },
  {
   "cell_type": "code",
   "execution_count": 15,
   "metadata": {
    "collapsed": false
   },
   "outputs": [
    {
     "name": "stdout",
     "output_type": "stream",
     "text": [
      " All the values in the textbook are Approximated hence the values in this code differ from those of Textbook\n",
      "voltage gain = 0.99\n",
      "input impedance = 36505.72 ohms\n",
      "current gain = 36.16\n",
      "power gain = 35.83\n",
      "output impedance = 46.63 ohms\n"
     ]
    }
   ],
   "source": [
    "from __future__ import division\n",
    "V_CC=20#\n",
    "V_BE_Q=0.7#\n",
    "V_T=26*10**-3#      #thermal voltage\n",
    "B=200#      #beta value\n",
    "R_S_1=10*10**3#      #R_S is taken as R_S_1\n",
    "R_1=100*10**3#\n",
    "R_2=100*10**3#\n",
    "R_L_1=1*10**3#      #R_L is taken as R_L_1\n",
    "R_E=2*10**3#\n",
    "V_B=V_CC*R_2/(R_1+R_2)#      #thevenin voltage\n",
    "R_B=1/((1/R_1)+(1/R_2))#      #thevenin resistance\n",
    "R_L_2=1/((1/R_L_1)+(1/R_E))#      #R_L' is taken as R_L_2\n",
    "i_B_Q=(V_B-V_BE_Q)/(R_B+R_E*(1+B))\n",
    "i_C_Q=B*i_B_Q#\n",
    "i_E_Q=i_B_Q+i_C_Q#\n",
    "V_CE_Q=V_CC-i_E_Q*R_E#\n",
    "#we can verify that the device is in active region as we get V_CE>0.2 and i_BQ>0\n",
    "r_pi=B*V_T/i_C_Q#\n",
    "A_v=(1+B)*R_L_2/(r_pi+(1+B)*R_L_2)#      #voltage gain\n",
    "Z_it=r_pi+(1+B)*R_L_2#      #input impedance of base of transistor\n",
    "Z_i=1/((1/R_B)+(1/Z_it))#      #input impedance of emitter-follower\n",
    "R_S_2=1/((1/R_S_1)+(1/R_1)+(1/R_2))#      #R_S' is taken as R_S_2\n",
    "Z_o=1/(((1+B)/(R_S_2+r_pi))+(1/R_E))#      #output impedance\n",
    "A_i=A_v*Z_i/R_L_1#      #current gain\n",
    "G=A_v*A_i#      #power gain\n",
    "print \" All the values in the textbook are Approximated hence the values in this code differ from those of Textbook\"\n",
    "print 'voltage gain = %0.2f'%A_v\n",
    "print 'input impedance = %0.2f ohms'%Z_i\n",
    "print 'current gain = %0.2f'%A_i\n",
    "print 'power gain = %0.2f'%G\n",
    "print 'output impedance = %0.2f ohms'%Z_o"
   ]
  }
 ],
 "metadata": {
  "kernelspec": {
   "display_name": "Python 2",
   "language": "python",
   "name": "python2"
  },
  "language_info": {
   "codemirror_mode": {
    "name": "ipython",
    "version": 2
   },
   "file_extension": ".py",
   "mimetype": "text/x-python",
   "name": "python",
   "nbconvert_exporter": "python",
   "pygments_lexer": "ipython2",
   "version": "2.7.9"
  }
 },
 "nbformat": 4,
 "nbformat_minor": 0
}
