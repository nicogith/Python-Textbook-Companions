{
 "cells": [
  {
   "cell_type": "markdown",
   "metadata": {},
   "source": [
    "# Chapter 10 : Diodes"
   ]
  },
  {
   "cell_type": "markdown",
   "metadata": {},
   "source": [
    "## Pg: 445 Ex: 10.1"
   ]
  },
  {
   "cell_type": "code",
   "execution_count": 5,
   "metadata": {
    "collapsed": false
   },
   "outputs": [
    {
     "data": {
      "image/png": "[encoded data removed]",
      "text/plain": [
       "<matplotlib.figure.Figure at 0x7ffafefa2150>"
      ]
     },
     "metadata": {},
     "output_type": "display_data"
    },
    {
     "name": "stdout",
     "output_type": "stream",
     "text": [
      "diode voltage at operating point = 0.70 volts\n",
      "1.3 current at opeating point = 1.30 milli-amperes\n"
     ]
    }
   ],
   "source": [
    "from numpy import arange\n",
    "%matplotlib inline\n",
    "from matplotlib.pyplot import plot,title,xlabel,ylabel,show\n",
    "V_ss=2#\n",
    "R=1*10**3#\n",
    "V_D=arange(0,2+0.001,0.001)\n",
    "I_D=[]\n",
    "for x in V_D:\n",
    "    I_D.append(10**3*(V_ss-x)/R)\n",
    "plot(V_D,I_D)    \n",
    "title('load line plot')\n",
    "xlabel('voltage in volts')\n",
    "ylabel('current in milli-amperes')      #milli-10**-3\n",
    "show()\n",
    "#we use the equation V_ss=R*i_D+V_D\n",
    "#at point B\n",
    "i_D=V_ss/R#      #as V_D=0\n",
    "#at point A\n",
    "V_D=V_ss#      #as i_D=0\n",
    "#now we see intersection of load line with characteristic and we get following at operating point\n",
    "V_DQ=0.7#      #voltage\n",
    "I_DQ=1.3*10**-3#      #current\n",
    "#diode characteristic cannot be plotted\n",
    "print 'diode voltage at operating point = %0.2f volts'%V_DQ\n",
    "print I_DQ*10**3,'current at opeating point = %0.2f milli-amperes'%(I_DQ*10**3)      #milli-10**-3"
   ]
  },
  {
   "cell_type": "markdown",
   "metadata": {},
   "source": [
    "## Pg: 446 Ex: 10.2"
   ]
  },
  {
   "cell_type": "code",
   "execution_count": 7,
   "metadata": {
    "collapsed": false
   },
   "outputs": [
    {
     "data": {
      "image/png": "[encoded data removed]",
      "text/plain": [
       "<matplotlib.figure.Figure at 0x7ffaef6c6f90>"
      ]
     },
     "metadata": {},
     "output_type": "display_data"
    },
    {
     "name": "stdout",
     "output_type": "stream",
     "text": [
      "diode voltage at operating point = 0.68 volts\n",
      "current at opeating point = 0.93 milli-amperes\n"
     ]
    }
   ],
   "source": [
    "from numpy import arange\n",
    "%matplotlib inline\n",
    "from matplotlib.pyplot import plot,title,xlabel,ylabel,show\n",
    "V_ss=10#\n",
    "R=10*10**3#\n",
    "V_D=arange(0,2+0.001,0.001)\n",
    "I_D=[]\n",
    "for x in V_D:\n",
    "    I_D.append(10**3*(V_ss-x)/R)\n",
    "plot(V_D,I_D)    \n",
    "title('load line plot')\n",
    "xlabel('voltage in volts')\n",
    "ylabel('current in milli-amperes')      #milli-10**-3\n",
    "show()\n",
    "\n",
    "#we use the equation V_ss=R*i_D+V_D\n",
    "#at point C\n",
    "i_D=V_ss/R#      #as V_D=0\n",
    "#now if we take i_D=0, we get V_D=10 which plots at a point far off the page\n",
    "#so we take the value on the right-hand edge of V-axis i.e.,V_D=2\n",
    "#at point D\n",
    "V_D=2#\n",
    "i_D=(V_ss-V_D)/R#\n",
    "#from the intersection of load line with characteristic\n",
    "V_DQ=0.68#\n",
    "I_DQ=0.93*10**-3#\n",
    "#diode characteristic cannot be plotted\n",
    "print 'diode voltage at operating point = %0.2f volts'%V_DQ\n",
    "print 'current at opeating point = %0.2f milli-amperes'%(I_DQ*10**3)      #milli-10**-3"
   ]
  },
  {
   "cell_type": "markdown",
   "metadata": {},
   "source": [
    "## Pg: 448 Ex: 10.3"
   ]
  },
  {
   "cell_type": "code",
   "execution_count": 8,
   "metadata": {
    "collapsed": false
   },
   "outputs": [
    {
     "name": "stdout",
     "output_type": "stream",
     "text": [
      "output voltage for Vss=15 = 10.00 volts\n",
      "output voltage for Vss=20 = 10.50 volts\n"
     ]
    }
   ],
   "source": [
    "from numpy import arange\n",
    "R=1*10**3#\n",
    "#diode characteristic cannot be plotted\n",
    "#case a)V_ss=15\n",
    "V_ss=15#\n",
    "V_D=arange(-15,0+0.001,0.001)\n",
    "#from the intersection of load line and diode characteristic\n",
    "V_o=10#\n",
    "print 'output voltage for Vss=15 = %0.2f volts'%V_o\n",
    "#case b)V_ss=20\n",
    "V_ss=20#\n",
    "V_D=arange(-20,0+0.001,0.001)\n",
    "#from the intersection of load line and diode characteristic\n",
    "V_o=10.5#\n",
    "print 'output voltage for Vss=20 = %0.2f volts'%V_o"
   ]
  },
  {
   "cell_type": "markdown",
   "metadata": {},
   "source": [
    "## Pg: 449 Ex: 10.4"
   ]
  },
  {
   "cell_type": "code",
   "execution_count": 10,
   "metadata": {
    "collapsed": false
   },
   "outputs": [
    {
     "name": "stdout",
     "output_type": "stream",
     "text": [
      " All the values in the textbook are approximated hence the values in this code differ from those of Textbook\n",
      "load voltage = 10.00 volts\n",
      "source current = 0.01 amperes\n"
     ]
    }
   ],
   "source": [
    "V_ss=24#\n",
    "R=1.2*10**3#\n",
    "R_L=6*10**3#\n",
    "#by grouping linear elements together on left side of diode\n",
    "V_T=V_ss*R_L/(R+R_L)#      #thevenin voltage\n",
    "#zeroing sources \n",
    "R_T=1/((1/R)+(1/R_L))#      #thevenin resistance\n",
    "#load-line equation is V_T+R_T*i_D+V_D=0\n",
    "#locating the operating point\n",
    "V_D=-10#\n",
    "V_L=-V_D#      #load voltage\n",
    "I_s=(V_ss-V_L)/R#      #source current\n",
    "#diode characteristic cannot be plotted\n",
    "print \" All the values in the textbook are approximated hence the values in this code differ from those of Textbook\"\n",
    "print 'load voltage = %0.2f volts'%V_L\n",
    "print 'source current = %0.2f amperes'%I_s      #milli-10**-3"
   ]
  },
  {
   "cell_type": "markdown",
   "metadata": {},
   "source": [
    "## Pg: 451 Ex: 10.5"
   ]
  },
  {
   "cell_type": "code",
   "execution_count": 11,
   "metadata": {
    "collapsed": false
   },
   "outputs": [
    {
     "name": "stdout",
     "output_type": "stream",
     "text": [
      "correct assumption is D2 off and D1 on\n"
     ]
    }
   ],
   "source": [
    "V_1=10#\n",
    "V_2=3#\n",
    "R_1=4*10**3#\n",
    "R_2=6*10**3#\n",
    "#1)analysis by assuming D1 off and D2 on\n",
    "I_D_2=V_2/R_2#      #ohm's law\n",
    "#applying KVL\n",
    "V_D_1=7#      #contradiction to 'D1 is off'\n",
    "#this assumption is not correct\n",
    "\n",
    "#2)analysis by assuming D1 on and D2 off\n",
    "I_D_1=V_1/R_1#      #ohm's law\n",
    "#applying KVL\n",
    "V_D_2=-V_1+V_2+I_D_1*R_1#\n",
    "#we get V_D_2 which is consistent\n",
    "print 'correct assumption is D2 off and D1 on'"
   ]
  },
  {
   "cell_type": "markdown",
   "metadata": {},
   "source": [
    "## Pg: 453 Ex: 10.7"
   ]
  },
  {
   "cell_type": "code",
   "execution_count": 13,
   "metadata": {
    "collapsed": false
   },
   "outputs": [
    {
     "name": "stdout",
     "output_type": "stream",
     "text": [
      "current in the circuit = 80.00 milli-amperes\n"
     ]
    }
   ],
   "source": [
    "V_1=3#\n",
    "R_1=20#\n",
    "#As given voltage source results in forward bias, we assume operating point is on line segment A\n",
    "#replacing diode with the equivalent circuit\n",
    "V_2=0.6#\n",
    "R_2=10#\n",
    "i_D=(V_1-V_2)/(R_1+R_2)#      #KVL around the circuit\n",
    "print 'current in the circuit = %0.2f milli-amperes'%(i_D*10**3)      #milli-10**-3"
   ]
  }
 ],
 "metadata": {
  "kernelspec": {
   "display_name": "Python 2",
   "language": "python",
   "name": "python2"
  },
  "language_info": {
   "codemirror_mode": {
    "name": "ipython",
    "version": 2
   },
   "file_extension": ".py",
   "mimetype": "text/x-python",
   "name": "python",
   "nbconvert_exporter": "python",
   "pygments_lexer": "ipython2",
   "version": "2.7.9"
  }
 },
 "nbformat": 4,
 "nbformat_minor": 0
}
