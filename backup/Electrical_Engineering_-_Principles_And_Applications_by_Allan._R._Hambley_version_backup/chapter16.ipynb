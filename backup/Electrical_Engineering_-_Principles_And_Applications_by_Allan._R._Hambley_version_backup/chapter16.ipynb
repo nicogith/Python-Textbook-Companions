{
 "cells": [
  {
   "cell_type": "markdown",
   "metadata": {},
   "source": [
    "# Chapter 16 : DC Machines"
   ]
  },
  {
   "cell_type": "markdown",
   "metadata": {},
   "source": [
    "## Pg: 719 Ex: 16.1"
   ]
  },
  {
   "cell_type": "code",
   "execution_count": 4,
   "metadata": {
    "collapsed": false
   },
   "outputs": [
    {
     "name": "stdout",
     "output_type": "stream",
     "text": [
      " All the values in the textbook are approximated hence the values in this code differ from those of Textbook\n",
      "Power loss with full-load = 312.19 watts\n",
      "Efficiency with full-load = 92.28\n",
      "Input power with no-load = 274.36 watts\n",
      "speed regulation percentage for the motor : 3.91\n"
     ]
    }
   ],
   "source": [
    "from __future__ import division\n",
    "from math import sqrt\n",
    "V_rms=440#\n",
    "P_o_fl=5*746#      #full-load rated output power\n",
    "I_rms_fl=6.8#      #full-load line current\n",
    "PF_fl=0.78#      #full-load power factor\n",
    "n_fl=1150#      #full-load speed in rpm\n",
    "I_rms_nl=1.2#      #no-load line current\n",
    "PF_nl=0.3#      #no-load power factor\n",
    "n_nl=1195#      #no-load speed in rpm\n",
    "P_in_fl=sqrt(3)*V_rms*I_rms_fl*PF_fl#      #full-load input power\n",
    "P_loss_fl=P_in_fl-P_o_fl#      #full-load power loss\n",
    "eff_fl=(P_o_fl/P_in_fl)*100#      #full-load efficiency\n",
    "P_in_nl=sqrt(3)*V_rms*I_rms_nl*PF_nl#      #no-load input power\n",
    "P_o_nl=0#      #no-load output power\n",
    "eff_nl=0#      #no-load efficiency('0' as P_o_nl=0)\n",
    "SR=(n_nl-n_fl)*100/n_fl#      #speed regulation\n",
    "print \" All the values in the textbook are approximated hence the values in this code differ from those of Textbook\"\n",
    "print 'Power loss with full-load = %0.2f watts'%P_loss_fl\n",
    "print 'Efficiency with full-load = %0.2f'%eff_fl\n",
    "print 'Input power with no-load = %0.2f watts'%P_in_nl\n",
    "print 'speed regulation percentage for the motor : %0.2f'%SR"
   ]
  },
  {
   "cell_type": "markdown",
   "metadata": {},
   "source": [
    "## Pg: 720 Ex: 16.2"
   ]
  },
  {
   "cell_type": "code",
   "execution_count": 5,
   "metadata": {
    "collapsed": false
   },
   "outputs": [
    {
     "name": "stdout",
     "output_type": "stream",
     "text": [
      " All the values in the textbook are approximated hence the values in this code differ from those of Textbook\n",
      "CASE a:\n",
      "initial current = 40.00 amperes\n",
      "initial force on the bar = 12.00 newtons\n",
      "steady-state final speed = 6.67 m/s\n",
      "CASE b:\n",
      "steady-state speed = 4.44 m/s\n",
      "power delivered by V_t = 26.67 watts\n",
      "power delivered to mechanical load = 17.78 watts\n",
      "power lost to heat in the resistance = 8.89 watts\n",
      "effciency of converting electrical power to mechanical power : 66.67\n",
      "CASE c:\n",
      "steady-state speed = 7.78 m/s\n",
      "power taken from mechanical source = 15.56 watts\n",
      "power delivered to the battery = 13.33 watts\n",
      "power lost to heat in the resistance = 2.22 watts\n",
      "efficiency of converting mechanical power to electrical power : 85.71\n"
     ]
    }
   ],
   "source": [
    "from __future__ import division\n",
    "from math import pi\n",
    "\n",
    "B=1#      #magnetic flux density\n",
    "l=0.3#\n",
    "V_T=2#\n",
    "R_A=0.05#\n",
    "#CASE a\n",
    "#bar is stationary at t=0\n",
    "u_ini=0#      #initial velocity of bar is 0\n",
    "e_A=B*l*u_ini#      #induced voltage\n",
    "i_A_ini=(V_T-e_A)/R_A#      #initial current\n",
    "F_ini=B*l*i_A_ini#      #initial force on the bar\n",
    "#steady state condition with no-load e_A=B*l*u=V_T\n",
    "u=V_T/(B*l)#      #from steady state condition with no-load\n",
    "print \" All the values in the textbook are approximated hence the values in this code differ from those of Textbook\"\n",
    "print 'CASE a:'\n",
    "print 'initial current = %0.2f amperes'%i_A_ini\n",
    "print 'initial force on the bar = %0.2f newtons'%F_ini\n",
    "print 'steady-state final speed = %0.2f m/s'%u\n",
    "#CASE b\n",
    "F_load=4#      #mechanical load\n",
    "#steady state condition F=B*l*i_A=F_load\n",
    "i_A=F_load/(B*l)#      #from steady state condition\n",
    "e_A=V_T-R_A*i_A#      #induced voltage\n",
    "u=e_A/(B*l)#      #steady-state speed\n",
    "P_m=F_load*u#      #mechanical power\n",
    "P_t=V_T*i_A#      #power taken from battery\n",
    "P_R=i_A**2*R_A#      #power dissipated in the resistance\n",
    "eff=P_m*100/P_t#      #efficiency\n",
    "print 'CASE b:'\n",
    "print 'steady-state speed = %0.2f m/s'%u\n",
    "print 'power delivered by V_t = %0.2f watts'%P_t\n",
    "print 'power delivered to mechanical load = %0.2f watts'%P_m\n",
    "print 'power lost to heat in the resistance = %0.2f watts'%P_R\n",
    "print 'effciency of converting electrical power to mechanical power : %0.2f'%eff\n",
    "#CASE c\n",
    "#with the pulling force acting to the right, machine operates as a generator\n",
    "F_pull=2#      #pulling force\n",
    "#steady-state condition F=B*l*i_A=F_pull\n",
    "i_A=F_pull/(B*l)#      #from steady-state condition\n",
    "e_A=V_T+R_A*i_A#      #induced voltage\n",
    "u=e_A/(B*l)#      #steady-state speed\n",
    "P_m=F_pull*u#      #mechanical power\n",
    "P_t=V_T*i_A#      #power taken by battery\n",
    "P_R=i_A**2*R_A#      #power dissipated in the resistance\n",
    "eff=P_t*100/P_m#      #efficiency\n",
    "print 'CASE c:'\n",
    "print 'steady-state speed = %0.2f m/s'%u\n",
    "print 'power taken from mechanical source = %0.2f watts'%P_m\n",
    "print 'power delivered to the battery = %0.2f watts'%P_t\n",
    "print 'power lost to heat in the resistance = %0.2f watts'%P_R\n",
    "print 'efficiency of converting mechanical power to electrical power : %0.2f'%eff"
   ]
  },
  {
   "cell_type": "markdown",
   "metadata": {},
   "source": [
    "## Pg: 721 Ex: 16.3"
   ]
  },
  {
   "cell_type": "code",
   "execution_count": 6,
   "metadata": {
    "collapsed": false
   },
   "outputs": [
    {
     "name": "stdout",
     "output_type": "stream",
     "text": [
      " All the values in the textbook are approximated hence the values in this code differ from those of Textbook\n",
      "Voltage applied to field circuit = 125.00 volts\n",
      "Voltage applied to armature  105.67 volts\n",
      "Developed torque = 34.62 Nm\n",
      "Developed power = 2900.00 watts\n"
     ]
    }
   ],
   "source": [
    "from __future__ import division\n",
    "from math import pi\n",
    "n_2=800#      #speed in rpm\n",
    "I_A=30#      #armature current\n",
    "I_F=2.5#      #field current\n",
    "R_A=0.3#      #armature resistance\n",
    "R_F=50#      #field resistance\n",
    "V_F=I_F*R_F#      #field coil voltage\n",
    "#E_A1 and n_1 from magnetization curve\n",
    "E_A1=145#      #induced voltage\n",
    "n_1=1200#      #speed in rpm\n",
    "E_A2=n_2*E_A1/n_1#\n",
    "W_m=n_2*2*pi/60#      #speed in radians per second\n",
    "K=E_A2/W_m#      #K*phi is taken as K, machine constant\n",
    "T_dev=K*I_A#      #developed torque\n",
    "P_dev=W_m*T_dev#      #developed power\n",
    "V_T=R_A*I_A+E_A2#      #voltage applied to armature\n",
    "print \" All the values in the textbook are approximated hence the values in this code differ from those of Textbook\"\n",
    "print 'Voltage applied to field circuit = %0.2f volts'%V_F\n",
    "print 'Voltage applied to armature  %0.2f volts'%V_T\n",
    "print 'Developed torque = %0.2f Nm'%T_dev      #Nm-newton meter\n",
    "print 'Developed power = %0.2f watts'%P_dev"
   ]
  },
  {
   "cell_type": "markdown",
   "metadata": {},
   "source": [
    "## Pg: 722 Ex: 16.4"
   ]
  },
  {
   "cell_type": "code",
   "execution_count": 7,
   "metadata": {
    "collapsed": false
   },
   "outputs": [
    {
     "name": "stdout",
     "output_type": "stream",
     "text": [
      " All the values in the textbook are approximated hence the values in this code differ from those of Textbook\n",
      "Motor speed = 995.87 rpm\n",
      "Efficiency of the motor : 85.28\n"
     ]
    }
   ],
   "source": [
    "from __future__ import division\n",
    "from math import pi\n",
    "V_T=240#      #dc supply voltage\n",
    "R_A=0.065#      #armature resistance\n",
    "R_F=10#      #field resistance\n",
    "R_adj=14#      #adjustable resistance\n",
    "n=1200#      #speed in rpm\n",
    "P_rot=1450#      #rotational power loss\n",
    "T_out=250#      #hoist torque\n",
    "I_F=V_T/(R_F+R_adj)#      #field current\n",
    "#E_A at I_F and n from magnetization curve  \n",
    "E_A_1=280#      #armature voltage\n",
    "W_m_1=n*2*pi/60#      #speed in radians per second\n",
    "K=E_A_1/W_m_1#      #machine constant\n",
    "T_rot=P_rot/W_m_1#      #rotational loss-torque\n",
    "T_dev=T_rot+T_out#      #developed torque\n",
    "I_A=T_dev/K#      #armature current\n",
    "E_A_2=V_T-R_A*I_A#      #applying KVL\n",
    "W_m_2=E_A_2/K#      #speed in radians per second\n",
    "n_m=W_m_2*60/(2*pi)#      #speed in rpm\n",
    "P_out=T_out*W_m_2#      #output power\n",
    "I_L=I_F+I_A#      #line current\n",
    "P_in=V_T*I_L#      #input power\n",
    "eff=P_out*100/P_in#      #efficiency\n",
    "print \" All the values in the textbook are approximated hence the values in this code differ from those of Textbook\"\n",
    "print 'Motor speed = %0.2f rpm'%n_m\n",
    "print 'Efficiency of the motor : %0.2f'%eff"
   ]
  },
  {
   "cell_type": "markdown",
   "metadata": {},
   "source": [
    "## Pg: 723 Ex: 16.5"
   ]
  },
  {
   "cell_type": "code",
   "execution_count": 8,
   "metadata": {
    "collapsed": false
   },
   "outputs": [
    {
     "name": "stdout",
     "output_type": "stream",
     "text": [
      " All the values in the textbook are approximated hence the values in this code differ from those of Textbook\n",
      "Output power for load torque=12 = 1507.96 watts\n",
      "speed for torque=24 = 848.53 rpm\n",
      "Output power for load torque=24 = 2132.58 watts\n"
     ]
    }
   ],
   "source": [
    "from __future__ import division\n",
    "from math import pi,sqrt\n",
    "n_m_1=1200#      #speed in rpm\n",
    "T_out_1=12#      #motor torque\n",
    "W_m_1=n_m_1*2*pi/60#      #angular speed\n",
    "#As we are neglecting losses, the output torque and power are equal to the developed torque and power respectively\n",
    "P_out_1=W_m_1*T_out_1#      #output power\n",
    "#For Torque=24\n",
    "T_out_2=24#\n",
    "T_dev_2=T_out_2#\n",
    "#T_dev=K*K_F*V_T**2/(R_A+R_F+K*K_F*W_m**2)\n",
    "#neglecting resistances and with the above equation for T_dev, we get inverse relation between torque and square of speed\n",
    "W_m_2=W_m_1*sqrt(T_out_1)/sqrt(T_dev_2)#\n",
    "n_m_2=W_m_2*60/(2*pi)#\n",
    "P_out_2=T_dev_2*W_m_2#\n",
    "print \" All the values in the textbook are approximated hence the values in this code differ from those of Textbook\"\n",
    "print 'Output power for load torque=12 = %0.2f watts'%P_out_1\n",
    "print 'speed for torque=24 = %0.2f rpm'%n_m_2\n",
    "print 'Output power for load torque=24 = %0.2f watts'%P_out_2"
   ]
  },
  {
   "cell_type": "markdown",
   "metadata": {},
   "source": [
    "## Pg: 724 Ex: 16.6"
   ]
  },
  {
   "cell_type": "code",
   "execution_count": 9,
   "metadata": {
    "collapsed": false
   },
   "outputs": [
    {
     "name": "stdout",
     "output_type": "stream",
     "text": [
      " All the values in the textbook are approximated hence the values in this code differ from those of Textbook\n",
      "Field current = 10.00 amperes\n",
      "no-load voltage = 233.33 volts\n",
      "full-load voltage = 220.33 volts\n",
      "percentage voltage regulation : 5.90\n",
      "input torque = 495.07 Nm\n",
      "developed torque = 445.63 Nm\n",
      "all types of power losses combined = 5176.47 watts\n"
     ]
    }
   ],
   "source": [
    "from __future__ import division\n",
    "from math import pi,sqrt\n",
    "V_F=140#      #field voltage\n",
    "R_F=10#      #field resistance\n",
    "R_adj=4#      #adjusting resistance\n",
    "R_A=0.065#      #armature resistance\n",
    "n_A=1000#      #armature speed in rpm\n",
    "I_fl=200#      #full-load current\n",
    "eff=0.85#      #efficiency not including power supplied to field circuit\n",
    "I_F=V_F/(R_adj+R_F)#      #field current\n",
    "#E, voltage from magnetization curve for speed of n=1200\n",
    "n=1200#\n",
    "E=280#      #voltage of armature\n",
    "#E_A is no-load voltage\n",
    "E_A=E*n_A/n#      #E_A is proportional to speed\n",
    "V_FL=E_A-R_A*I_fl#      #full-load voltage\n",
    "VR=(E_A-V_FL)*100/V_FL#      #voltage regulation\n",
    "P_out=I_fl*V_FL#      #output power\n",
    "P_dev=P_out+(I_fl**2)*R_A#      #developed power\n",
    "W_m=n_A*2*pi/60#      #angular speed\n",
    "P_in=P_out/eff#      #input power\n",
    "P_loss=P_in-P_dev#      #all power losses combined\n",
    "T_in=P_in/W_m#      #input torque\n",
    "T_dev=P_dev/W_m#      #developed torque\n",
    "print \" All the values in the textbook are approximated hence the values in this code differ from those of Textbook\"\n",
    "print 'Field current = %0.2f amperes'%I_F\n",
    "print 'no-load voltage = %0.2f volts'%E_A\n",
    "print 'full-load voltage = %0.2f volts'%V_FL\n",
    "print 'percentage voltage regulation : %0.2f'%VR\n",
    "print 'input torque = %0.2f Nm'%T_in\n",
    "print 'developed torque = %0.2f Nm'%T_dev\n",
    "print 'all types of power losses combined = %0.2f watts'%P_loss"
   ]
  }
 ],
 "metadata": {
  "kernelspec": {
   "display_name": "Python 2",
   "language": "python",
   "name": "python2"
  },
  "language_info": {
   "codemirror_mode": {
    "name": "ipython",
    "version": 2
   },
   "file_extension": ".py",
   "mimetype": "text/x-python",
   "name": "python",
   "nbconvert_exporter": "python",
   "pygments_lexer": "ipython2",
   "version": "2.7.9"
  }
 },
 "nbformat": 4,
 "nbformat_minor": 0
}
