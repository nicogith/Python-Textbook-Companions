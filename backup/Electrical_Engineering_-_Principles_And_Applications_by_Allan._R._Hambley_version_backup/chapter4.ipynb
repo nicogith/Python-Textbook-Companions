{
 "cells": [
  {
   "cell_type": "markdown",
   "metadata": {},
   "source": [
    "# Chapter 4 : Transients"
   ]
  },
  {
   "cell_type": "markdown",
   "metadata": {},
   "source": [
    "## Pg: 136 Ex: 4.1"
   ]
  },
  {
   "cell_type": "code",
   "execution_count": 2,
   "metadata": {
    "collapsed": false
   },
   "outputs": [
    {
     "name": "stdout",
     "output_type": "stream",
     "text": [
      "current ix = 1.00 amperes\n",
      "voltage Vx = 5.00 volts\n"
     ]
    }
   ],
   "source": [
    "from __future__ import division\n",
    "V_s=10#      #source voltage\n",
    "R_1=5#\n",
    "R_2=5#\n",
    "L=1#\n",
    "C=1*10**-6#\n",
    "#for t>>0, we apply steady state conditions i.e., inductor and capacitor are replaced by short and open circuits respectively\n",
    "R_eq=R_1+R_2#      #R_1 and R_2 in series\n",
    "i_x=V_s/R_eq#      #ohm's law\n",
    "V_x=R_2*i_x#      #voltage across R_2\n",
    "print 'current ix = %0.2f amperes'%i_x\n",
    "print 'voltage Vx = %0.2f volts'%V_x"
   ]
  }
 ],
 "metadata": {
  "kernelspec": {
   "display_name": "Python 2",
   "language": "python",
   "name": "python2"
  },
  "language_info": {
   "codemirror_mode": {
    "name": "ipython",
    "version": 2
   },
   "file_extension": ".py",
   "mimetype": "text/x-python",
   "name": "python",
   "nbconvert_exporter": "python",
   "pygments_lexer": "ipython2",
   "version": "2.7.9"
  }
 },
 "nbformat": 4,
 "nbformat_minor": 0
}
