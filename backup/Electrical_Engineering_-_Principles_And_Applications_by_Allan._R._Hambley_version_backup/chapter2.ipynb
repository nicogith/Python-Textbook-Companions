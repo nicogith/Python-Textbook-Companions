{
 "cells": [
  {
   "cell_type": "markdown",
   "metadata": {},
   "source": [
    "# Chapter 2 : Resistive Circuits"
   ]
  },
  {
   "cell_type": "markdown",
   "metadata": {},
   "source": [
    "## Pg: 74 Ex: 2.1"
   ]
  },
  {
   "cell_type": "code",
   "execution_count": 3,
   "metadata": {
    "collapsed": false
   },
   "outputs": [
    {
     "name": "stdout",
     "output_type": "stream",
     "text": [
      "Equivalent resistance = 20.00 ohms\n"
     ]
    }
   ],
   "source": [
    "from __future__ import division\n",
    "R_1=10#\n",
    "R_2=20#\n",
    "R_3=5#\n",
    "R_4=15#\n",
    "#We proceed through various combinations of resistances in series or parallel while we replace them with equivalent resistances  We start with R_3 and R_4.\n",
    "R_eq_1=R_3+R_4#      #R_3 and R_4 in series\n",
    "R_eq_2=1/((1/R_eq_1)+(1/R_2))#      #R_eq_1 and R_2 in parallel\n",
    "R_eq=R_1+R_eq_2#      #R_1 and R_eq_2 in series\n",
    "print 'Equivalent resistance = %0.2f ohms'%R_eq"
   ]
  },
  {
   "cell_type": "markdown",
   "metadata": {},
   "source": [
    "## Pg: 74 Ex: 2.2"
   ]
  },
  {
   "cell_type": "code",
   "execution_count": 5,
   "metadata": {
    "collapsed": false
   },
   "outputs": [
    {
     "name": "stdout",
     "output_type": "stream",
     "text": [
      "FOR SOURCE\n",
      "current = 3 amperes\n",
      "power = -270.00 watts\n",
      "FOR R1\n",
      "current = 3.00 amperes\n",
      "voltage = 30.00 volts\n",
      "power = 90.00 watts\n",
      "FOR R2\n",
      "2.0 current in amperes\n",
      "current = 2.00 amperes\n",
      "voltage = 60.00 volts\n",
      "power = 120.00 watts\n",
      "FOR R3\n",
      "current = 1.00 amperes\n",
      "voltage = 60.00 volts\n",
      "power = 60.00 watts\n"
     ]
    }
   ],
   "source": [
    "from __future__ import division\n",
    "V_s=90#      #source voltage\n",
    "R_1=10#\n",
    "R_2=30#\n",
    "R_3=60#\n",
    "R_eq_1=1/((1/R_2)+(1/R_3))#      #R_2 and R_3 in parallel\n",
    "R_eq=R_1+R_eq_1#      #R_1 and R_eq_1 in series\n",
    "i_1=V_s/R_eq#      #ohm's law\n",
    "#i_1 flows clockwise through V_s,R_1 and R_eq_1\n",
    "V_2=R_eq_1*i_1#      #voltage across R_eq_1\n",
    "#As R_eq_1 is equivalent of parallel combination of R_2 and R_3, V_2 appears across both of them\n",
    "i_2=V_2/R_2#      #ohm's law\n",
    "i_3=V_2/R_3#      #ohm's law\n",
    "#we can verify KCL, i_1=i_2+i_3\n",
    "V_1=i_1*R_1#      #ohm's law\n",
    "#we can verify KVL, V_s=V_1+V_2\n",
    "P_s=-V_s*i_1#      #source power(-ve sign as V_s and i_1 have references opposite to passive configuration)\n",
    "P_1=i_1**2*R_1#      #power for R_1\n",
    "P_2=V_2**2/R_2#      #power for R_2\n",
    "P_3=V_2**2/R_3#      #power for R_3\n",
    "print 'FOR SOURCE'\n",
    "print 'current = %0.2g amperes'%i_1\n",
    "print 'power = %0.2f watts'%P_s\n",
    "print 'FOR R1'\n",
    "print 'current = %0.2f amperes'%i_1\n",
    "print 'voltage = %0.2f volts'%V_1\n",
    "print 'power = %0.2f watts'%P_1\n",
    "print 'FOR R2'\n",
    "print i_2,'current in amperes'\n",
    "print 'current = %0.2f amperes'%i_2\n",
    "print 'voltage = %0.2f volts'%V_2\n",
    "print 'power = %0.2f watts'%P_2\n",
    "print 'FOR R3'\n",
    "print 'current = %0.2f amperes'%i_3\n",
    "print 'voltage = %0.2f volts'%V_2\n",
    "print 'power = %0.2f watts'%P_3\n",
    "#we may verify that P_s+P_1+P_2+P_3=0"
   ]
  },
  {
   "cell_type": "markdown",
   "metadata": {},
   "source": [
    "## Pg: 75 Ex: 2.3"
   ]
  },
  {
   "cell_type": "code",
   "execution_count": 6,
   "metadata": {
    "collapsed": false
   },
   "outputs": [
    {
     "name": "stdout",
     "output_type": "stream",
     "text": [
      "voltage across R_1 : 1.50 V\n",
      "voltage across R_4 : 9.00 V\n"
     ]
    }
   ],
   "source": [
    "from __future__ import division\n",
    "V_total=15#\n",
    "R_1=1*10**3#\n",
    "R_2=1*10**3#\n",
    "R_3=2*10**3#\n",
    "R_4=6*10**3#\n",
    "#By voltage-division priciple\n",
    "V_1=R_1*V_total/(R_1+R_2+R_3+R_4)#      #voltage across R_1\n",
    "V_4=R_4*V_total/(R_1+R_2+R_3+R_4)#      #voltage across R_4\n",
    "print 'voltage across R_1 : %0.2f V'%V_1\n",
    "print 'voltage across R_4 : %0.2f V'%V_4"
   ]
  },
  {
   "cell_type": "markdown",
   "metadata": {},
   "source": [
    "## Pg: 75 Ex: 2.4"
   ]
  },
  {
   "cell_type": "code",
   "execution_count": 7,
   "metadata": {
    "collapsed": false
   },
   "outputs": [
    {
     "name": "stdout",
     "output_type": "stream",
     "text": [
      " All the values in the textbook are approximated, hence the values in this code differ from those of Textbook\n",
      "voltage across R2 or R3 = 25.00 volts\n",
      "source current = 1.25 amperes\n",
      "current through R3 = 0.42 amperes\n"
     ]
    }
   ],
   "source": [
    "from __future__ import division\n",
    "V_s=100#      #source current\n",
    "R_1=60#\n",
    "R_2=30#\n",
    "R_3=60#\n",
    "R_x=1/((1/R_2)+(1/R_3))#      #R_2 and R_3 parallel\n",
    "V_x=R_x*V_s/(R_1+R_x)#      #voltage across R_x(voltage-division principle)\n",
    "i_s=V_s/(R_1+R_x)#      #ohm's law\n",
    "i_3=R_2*i_s/(R_2+R_3)#      #current through R_3(current-division principle)\n",
    "print \" All the values in the textbook are approximated, hence the values in this code differ from those of Textbook\"\n",
    "print 'voltage across R2 or R3 = %0.2f volts'%V_x\n",
    "print 'source current = %0.2f amperes'%i_s\n",
    "print 'current through R3 = %0.2f amperes'%i_3"
   ]
  },
  {
   "cell_type": "markdown",
   "metadata": {},
   "source": [
    "## Pg: 76 Ex: 2.5"
   ]
  },
  {
   "cell_type": "code",
   "execution_count": 9,
   "metadata": {
    "collapsed": false
   },
   "outputs": [
    {
     "name": "stdout",
     "output_type": "stream",
     "text": [
      "current through R1 = 10.00 amperes from resistance method\n",
      "current through R1 = 10.00 amperes from conductance method\n",
      "We get the same alue in both methods\n"
     ]
    }
   ],
   "source": [
    "from __future__ import division\n",
    "i_s=15#      #source current\n",
    "R_1=10#\n",
    "R_2=30#\n",
    "R_3=60#\n",
    "R_eq=1/((1/R_2)+(1/R_3))#      #R_2 and R_3 in parallel\n",
    "i_1=R_eq*i_s/(R_1+R_eq)#      #current through R_1(current-division principle)\n",
    "print 'current through R1 = %0.2f amperes from resistance method'%i_1\n",
    "#we can also do the above calculations using conductances as shown below.\n",
    "#Conductances of respective resistances\n",
    "G_1=1/R_1#\n",
    "G_2=1/R_2#\n",
    "G_3=1/R_3#\n",
    "i_1=G_1*i_s/(G_1+G_2+G_3)#\n",
    "print 'current through R1 = %0.2f amperes from conductance method'%i_1\n",
    "print 'We get the same alue in both methods'"
   ]
  },
  {
   "cell_type": "markdown",
   "metadata": {},
   "source": [
    "## Pg: 76 Ex: 2.7"
   ]
  },
  {
   "cell_type": "code",
   "execution_count": 11,
   "metadata": {
    "collapsed": false
   },
   "outputs": [
    {
     "name": "stdout",
     "output_type": "stream",
     "text": [
      "The matrix form is\n",
      "G*V=I\n",
      "where\n",
      "G=\n",
      "[[ 0.45 -0.25  0.  ]\n",
      " [-0.25  0.85 -0.2 ]\n",
      " [ 0.   -0.2   0.3 ]]\n",
      "V=\n",
      "transpose of [V_1,V_2,V_3]\n",
      "and\n",
      "I=\n",
      "[[-3.5]\n",
      " [ 3.5]\n",
      " [ 2. ]]\n"
     ]
    }
   ],
   "source": [
    "from numpy import mat\n",
    "print 'The matrix form is'\n",
    "print 'G*V=I'\n",
    "print 'where'\n",
    "G=mat([[0.45,-0.25,0],[-0.25,0.85,-0.20],[0,-0.20,0.30]])\n",
    "print 'G=\\n',G\n",
    "print 'V='\n",
    "print 'transpose of [V_1,V_2,V_3]'\n",
    "print 'and'\n",
    "I=mat([[-3.5],[3.5],[2]])\n",
    "print 'I=\\n',I"
   ]
  },
  {
   "cell_type": "markdown",
   "metadata": {},
   "source": [
    "## Pg: 77 Ex: 2.8"
   ]
  },
  {
   "cell_type": "code",
   "execution_count": 28,
   "metadata": {
    "collapsed": false
   },
   "outputs": [
    {
     "name": "stdout",
     "output_type": "stream",
     "text": [
      "All the values in the textbook are approximated,hence the values in this code differ from those of textbook\n",
      "voltage at node1 = 45.45 volts\n",
      "voltage at node2 = 72.73 volts\n",
      "voltage at node3 = 27.27 volts\n",
      "value of current ix = 0.91 amperes\n"
     ]
    }
   ],
   "source": [
    "from __future__ import division\n",
    "from numpy import mat\n",
    "from numpy.linalg import solve\n",
    "R=20#\n",
    "G=mat([[0.35,-0.2,-0.05],[-0.2,0.3,-0.1],[-0.05,-0.1,0.35]])      #coefficient matrix\n",
    "I=mat([[0],[10],[0]])      #current matrix\n",
    "V=solve(G,I)#      #voltage matrix(from G=V*I)\n",
    "i_x=(V[0]-V[2])/R#\n",
    "print \"All the values in the textbook are approximated,hence the values in this code differ from those of textbook\"\n",
    "print 'voltage at node1 = %0.2f volts'%V[0,0]\n",
    "print 'voltage at node2 = %0.2f volts'%V[1,0]\n",
    "print 'voltage at node3 = %0.2f volts'%V[2,0]\n",
    "print 'value of current ix = %0.2f amperes'%i_x[0,0]\n",
    "\n",
    "\n"
   ]
  },
  {
   "cell_type": "markdown",
   "metadata": {},
   "source": [
    "## Pg: 80  Ex: 2.13"
   ]
  },
  {
   "cell_type": "code",
   "execution_count": 31,
   "metadata": {
    "collapsed": false
   },
   "outputs": [
    {
     "name": "stdout",
     "output_type": "stream",
     "text": [
      "current in mesh1, i1= 4.0 A\n",
      "current in mesh2, i2= 1.0 A\n",
      "current in mesh3, i3= 2.0 A\n"
     ]
    }
   ],
   "source": [
    "from __future__ import division\n",
    "from numpy import mat\n",
    "from numpy.linalg import solve\n",
    "R=mat([[30, -10, -20],[-10, 22, -12],[-20 ,-12, 46]])   #coefficient matrix\n",
    "V=mat([[70],[-42],[0]])      #voltage matrix\n",
    "I=solve(R,V)#      #current matrix(from R*I=V)\n",
    "print 'current in mesh1, i1=',I[0,0],\"A\"\n",
    "print 'current in mesh2, i2=',I[1,0],\"A\"\n",
    "print 'current in mesh3, i3=',I[2,0],\"A\""
   ]
  },
  {
   "cell_type": "markdown",
   "metadata": {},
   "source": [
    "## Pg: 81 Ex: 2.15"
   ]
  },
  {
   "cell_type": "code",
   "execution_count": 32,
   "metadata": {
    "collapsed": false
   },
   "outputs": [
    {
     "name": "stdout",
     "output_type": "stream",
     "text": [
      "Value of i1 = 1.0 amperes\n",
      "Value of i2 = 2.0 amperes\n"
     ]
    }
   ],
   "source": [
    "from __future__ import division\n",
    "from numpy import mat\n",
    "from numpy.linalg import solve\n",
    "\n",
    "#KVL over the supermesh, we get eqn-1   -20+4(i1)+8(i2)=0\n",
    "#Vx=2(i2)   ohm's law\n",
    "#writing an expression for the source current in terms of mesh currents and substituting Vx from above, we get eqn-2   (1/2)i2=i2-i1\n",
    "#Putting eqn-1 and eqn-2 in standard form   4(i1)+8(i2)=20 and i1-(1/2)i2=0\n",
    "#solving for currents in matrix method(Ax=b)\n",
    "A=mat([[4,8],[1,-1/2]])      #coeffcient matrix\n",
    "b=mat([[20],[0]])#      #constant matrix\n",
    "x=solve(A,b)#      #solution\n",
    "print 'Value of i1 =',x[0,0],'amperes'\n",
    "print 'Value of i2 =',x[1,0],'amperes'"
   ]
  },
  {
   "cell_type": "markdown",
   "metadata": {},
   "source": [
    "## Pg: 81 Ex: 2.16"
   ]
  },
  {
   "cell_type": "code",
   "execution_count": 34,
   "metadata": {
    "collapsed": false
   },
   "outputs": [
    {
     "name": "stdout",
     "output_type": "stream",
     "text": [
      " All the values in the textbook are approximated, hence the values in this code differ from those of textbook\n",
      "Thevenin voltage for given circuit = 5.00 volts\n",
      "Thevenin voltage for given circuit = 33.33 ohms\n"
     ]
    }
   ],
   "source": [
    "from __future__ import division\n",
    "V_s=15#      #source voltage\n",
    "R_1=100#\n",
    "R_2=50#\n",
    "#Analysis with an open circuit to find V_t\n",
    "i_1=V_s/(R_1+R_2)#      #closed circuit with R_1 and R_2 in series\n",
    "V_oc=R_2*i_1#      #open-circuit voltage across R_2\n",
    "V_t=V_oc#      #thevenin voltage\n",
    "#Analysis with a short-circuit to find i_sc\n",
    "i_sc=V_s/R_1#      #R_2 is short-circuited\n",
    "R_t=V_oc/i_sc#      #thevenin resistance\n",
    "print \" All the values in the textbook are approximated, hence the values in this code differ from those of textbook\"\n",
    "print 'Thevenin voltage for given circuit = %0.2f volts'%V_t\n",
    "print 'Thevenin voltage for given circuit = %0.2f ohms'%R_t"
   ]
  },
  {
   "cell_type": "markdown",
   "metadata": {},
   "source": [
    "## Pg: 82 Ex: 2.17"
   ]
  },
  {
   "cell_type": "code",
   "execution_count": 36,
   "metadata": {
    "collapsed": false
   },
   "outputs": [
    {
     "name": "stdout",
     "output_type": "stream",
     "text": [
      "short-circuit current = 6.00 amperes\n",
      "thevenin resistance = 4.00 ohms\n",
      "thevenin voltage = 24.00 volts\n"
     ]
    }
   ],
   "source": [
    "from __future__ import division\n",
    "V_s=20#      #source voltage\n",
    "i_s=2#      #source current\n",
    "R_1=5#\n",
    "R_2=20#\n",
    "#after zeroing the sources which includes replacing voltage source with short circuit and current source with open circuit, we get R_t\n",
    "R_eq=1/((1/R_1)+(1/R_2))#      #R_1 and R_2 are in parallel combination\n",
    "R_t=R_eq#      #Thevenin resistance\n",
    "#short-circuit analysis to find i_sc\n",
    "i_2=0#      #voltage across R_2 is 0\n",
    "i_1=V_s/R_1#\n",
    "i_sc=i_1+2-i_2#      #short-circuit current(KCL at junction of R_2 and I_s)\n",
    "V_t=R_t*i_sc#      #thevenin voltage\n",
    "print 'short-circuit current = %0.2f amperes'%i_sc\n",
    "print 'thevenin resistance = %0.2f ohms'%R_t\n",
    "print 'thevenin voltage = %0.2f volts'%V_t\n",
    "#thevenin equivalent can be made of V_t and R_t."
   ]
  },
  {
   "cell_type": "markdown",
   "metadata": {},
   "source": [
    "## Pg: 82 Ex: 2.18"
   ]
  },
  {
   "cell_type": "code",
   "execution_count": 38,
   "metadata": {
    "collapsed": false
   },
   "outputs": [
    {
     "name": "stdout",
     "output_type": "stream",
     "text": [
      " All the values in the textbook are approximated, hence the values in this code differ from those of textbook\n",
      "Thevenin voltage = 8.57 volts\n",
      "Thevenin resistance = 1.43 ohms\n"
     ]
    }
   ],
   "source": [
    "from __future__ import division\n",
    "V=10#\n",
    "R_1=5#\n",
    "R_2=10#\n",
    "#Open-circuit anlaysis\n",
    "#let V_oc be the open circuit voltage\n",
    "#Current equation at node1   3(i_x)=(1/10)V_oc\n",
    "#i_x=(10-V_oc)/5   ix in terms of V_oc\n",
    "V_oc=2/((1/5)+(1/30))#      #open-circuit voltage(from above two equations)\n",
    "V_t=V_oc#      #thevenin voltage\n",
    "#short-circuit analysis\n",
    "i_x=V/R_1#\n",
    "i_sc=3*i_x#      #short-circuit current\n",
    "R_t=V_oc/i_sc#\n",
    "print \" All the values in the textbook are approximated, hence the values in this code differ from those of textbook\"\n",
    "print 'Thevenin voltage = %0.2f volts'%V_t\n",
    "print 'Thevenin resistance = %0.2f ohms'%R_t"
   ]
  },
  {
   "cell_type": "markdown",
   "metadata": {},
   "source": [
    "## Pg: 83 Ex: 2.19"
   ]
  },
  {
   "cell_type": "code",
   "execution_count": 39,
   "metadata": {
    "collapsed": false
   },
   "outputs": [
    {
     "name": "stdout",
     "output_type": "stream",
     "text": [
      "Rf = 6.15 ohms\n"
     ]
    }
   ],
   "source": [
    "from __future__ import division\n",
    "R1= 20 #Ohms\n",
    "R2= 15 #ohms\n",
    "vs= 15 #V\n",
    "R3= 5 #Ohms\n",
    "k= 0.25\n",
    "#/CALCULATIONS\n",
    "voc= (R2/R1)/((1/R1)+(1/(R2+R3))+(k/4))\n",
    "isc= vs/R1\n",
    "Rf= voc/isc\n",
    "#RESULTS\n",
    "print 'Rf = %.2f ohms'%Rf"
   ]
  },
  {
   "cell_type": "markdown",
   "metadata": {},
   "source": [
    "## Pg: 83 Ex: 2.20"
   ]
  },
  {
   "cell_type": "code",
   "execution_count": 40,
   "metadata": {
    "collapsed": false
   },
   "outputs": [
    {
     "name": "stdout",
     "output_type": "stream",
     "text": [
      " All the values in the textbook are approximated hence the values in this code differ from those of Textbook\n",
      "By current source to voltage source transformation:\n",
      "current i1 = 0.67 amperes\n",
      "current i2 = 1.67 amperes\n",
      "By voltage source to current source transformation:\n",
      "current i1 = 0.67 amperes\n",
      "current i2 = 1.67 amperes\n",
      "In any method we get the same answers.\n"
     ]
    }
   ],
   "source": [
    "from __future__ import division\n",
    "V_s_1=20#      #voltage source\n",
    "R_1=5#\n",
    "R_2=10#\n",
    "i_s_1=1#      #current source\n",
    "#Method 1: To transform current source and R_2 into a voltage source in series with R_2\n",
    "V_s_2=i_s_1*R_2#      #source transformation\n",
    "i_1=(V_s_1-V_s_2)/(R_1+R_2)#      #clockwise KVL\n",
    "i_2=i_1+i_s_1#      #KCL at top node of original circuit\n",
    "print \" All the values in the textbook are approximated hence the values in this code differ from those of Textbook\"\n",
    "print 'By current source to voltage source transformation:'\n",
    "print 'current i1 = %0.2f amperes'%i_1\n",
    "print 'current i2 = %0.2f amperes'%i_2\n",
    "#Method 2: To transform voltage source and R_1 into a current source in parallel with R_1\n",
    "i_s_2=V_s_1/R_1#      #source transformation\n",
    "i_t=i_s_2+i_s_1#      #total current\n",
    "i_2=R_1*i_t/(R_1+R_2)      #current-division principle\n",
    "i_1=i_2-i_s_1#      #KCL at top node of original circuit\n",
    "print 'By voltage source to current source transformation:'\n",
    "print 'current i1 = %0.2f amperes'%i_1\n",
    "print 'current i2 = %0.2f amperes'%i_2\n",
    "print 'In any method we get the same answers.'"
   ]
  },
  {
   "cell_type": "markdown",
   "metadata": {},
   "source": [
    "## Pg: 84 Ex: 2.21"
   ]
  },
  {
   "cell_type": "code",
   "execution_count": 41,
   "metadata": {
    "collapsed": false
   },
   "outputs": [
    {
     "name": "stdout",
     "output_type": "stream",
     "text": [
      "load resistance for maximum power transfer = 4.00 ohms\n",
      "maximum power = 6.25 watts\n"
     ]
    }
   ],
   "source": [
    "from __future__ import division\n",
    "V_s=50#\n",
    "R_1=20#\n",
    "R_2=5#\n",
    "#Zeroing the voltage source\n",
    "R_eq=1/((1/R_1)+(1/R_2))#      #R_1 and R_2 in parallel\n",
    "R_t=R_eq#      #thevenin resistance\n",
    "#open-circuit analysis\n",
    "V_oc=V_s*R_2/(R_1+R_2)#      #open-circuit voltage\n",
    "V_t=V_oc#      #thevenin voltage\n",
    "R_L=R_t#\n",
    "P_L_max=V_t**2/(4*R_t)\n",
    "print 'load resistance for maximum power transfer = %0.2f ohms'%R_L\n",
    "print 'maximum power = %0.2f watts'%P_L_max"
   ]
  },
  {
   "cell_type": "markdown",
   "metadata": {},
   "source": [
    "## Pg: 85 Ex: 2.22"
   ]
  },
  {
   "cell_type": "code",
   "execution_count": 42,
   "metadata": {
    "collapsed": false
   },
   "outputs": [
    {
     "name": "stdout",
     "output_type": "stream",
     "text": [
      " All the values in the textbook are approximated hence the values in this code differ from those of Textbook\n",
      "VT i.e., voltage across R2 = 11.67 volts\n"
     ]
    }
   ],
   "source": [
    "from __future__ import division\n",
    "V_s=15#      #voltage source\n",
    "R_1=10#\n",
    "R_2=5#\n",
    "i_s=2#      #current source\n",
    "#Analysis with only voltage source active\n",
    "V_1=R_2*V_s/(R_1+R_2)#      #voltage-division principle\n",
    "#Analysis with only current source active\n",
    "R_eq=1/((1/R_1)+(1/R_2))#      #R_1 and R_2 in parallel\n",
    "V_2=i_s*R_eq#      #ohm's law\n",
    "V_T=V_1+V_2#      #total response\n",
    "print \" All the values in the textbook are approximated hence the values in this code differ from those of Textbook\"\n",
    "print 'VT i.e., voltage across R2 = %0.2f volts'%V_T"
   ]
  },
  {
   "cell_type": "markdown",
   "metadata": {},
   "source": [
    "## Pg: 85 Ex: 2.23"
   ]
  },
  {
   "cell_type": "code",
   "execution_count": 43,
   "metadata": {
    "collapsed": false
   },
   "outputs": [
    {
     "name": "stdout",
     "output_type": "stream",
     "text": [
      "case a:\n",
      "Value of Rx = 7320.00 ohms\n",
      "case b:\n",
      "Maximum value of Rx = 1100000.00 ohms\n",
      "case c:\n",
      "Increment between values of Rx = 1000.00 ohms for the bridge to be balanced\n"
     ]
    }
   ],
   "source": [
    "from __future__ import division\n",
    "R_1=1*10**3#\n",
    "#case (a)\n",
    "print 'case a:'\n",
    "R_2=10*10**3#\n",
    "R_3=732#\n",
    "R_x=R_2*R_3/R_1#      #wheatstone bridge condition\n",
    "print 'Value of Rx = %0.2f ohms'%R_x\n",
    "#case (b)\n",
    "print 'case b:'\n",
    "#R_x is maximum when both R_2 and R_3 are maximum\n",
    "R_2_max=1*10**6#\n",
    "R_3_max=1100#\n",
    "R_x_max=R_2_max*R_3_max/R_1#      #wheatstone bridge condition\n",
    "print 'Maximum value of Rx = %0.2f ohms'%R_x_max\n",
    "#case(c)\n",
    "print 'case c:'\n",
    "#increment in R_x is scale factor times increment in R_3\n",
    "R_2=1*10**6#\n",
    "R_3_inc=1#      #increment in R_3\n",
    "R_x_inc=R_2*R_3_inc/R_1#      #increment in R_x from bride balance condition\n",
    "print 'Increment between values of Rx = %0.2f ohms for the bridge to be balanced'%R_x_inc"
   ]
  }
 ],
 "metadata": {
  "kernelspec": {
   "display_name": "Python 2",
   "language": "python",
   "name": "python2"
  },
  "language_info": {
   "codemirror_mode": {
    "name": "ipython",
    "version": 2
   },
   "file_extension": ".py",
   "mimetype": "text/x-python",
   "name": "python",
   "nbconvert_exporter": "python",
   "pygments_lexer": "ipython2",
   "version": "2.7.9"
  }
 },
 "nbformat": 4,
 "nbformat_minor": 0
}
