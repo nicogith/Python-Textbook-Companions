{
 "cells": [
  {
   "cell_type": "markdown",
   "metadata": {},
   "source": [
    "# Chapter 17 : AC Machines"
   ]
  },
  {
   "cell_type": "markdown",
   "metadata": {},
   "source": [
    "## Pg: 774 Ex: 17.1"
   ]
  },
  {
   "cell_type": "code",
   "execution_count": 3,
   "metadata": {
    "collapsed": false
   },
   "outputs": [
    {
     "name": "stdout",
     "output_type": "stream",
     "text": [
      " All the values in the textbook are approximated hence the values in this code differ from those of Textbook\n",
      "Power factor : 0.89\n",
      "line current = 37.58 amperes\n",
      "output power = 26494.77 watts\n",
      "output torque = 144.91 Nm\n",
      "efficiency percentage : 88.50\n"
     ]
    }
   ],
   "source": [
    "from __future__ import division\n",
    "from cmath import polar\n",
    "from math import sin,cos,pi,sqrt\n",
    "P_rot=900#      #rotational losses\n",
    "V_L=440*complex(cos(0),sin(0))#\n",
    "R_s=1.2#\n",
    "X_s=1J*2#\n",
    "X_m=1J*50#\n",
    "R_r_1=0.6#\n",
    "R_r_2=19.4#\n",
    "X_r=1J*0.8#\n",
    "n_m=1746#      #machine operating speed in rpm\n",
    "W_m=n_m*2*pi/60#      #speed in radians per second\n",
    "n_s=1800#      #synchronous speed for a four-pole monitor\n",
    "s=(n_s-n_m)/n_s#      #slip\n",
    "Z_s=R_s+X_s+(X_m*(R_r_1+R_r_2+X_r))/(X_m+R_r_1+R_r_2+X_r)#      #impedance seen by the source\n",
    "Z_s_max=polar(Z_s)[0]\n",
    "phi=polar(Z_s)[1]\n",
    "Z_s_phi=(phi.real)#      #removing negligible imaginary part(if any is there)\n",
    "PF=cos(Z_s_phi)#      #power factor\n",
    "V_s=V_L#      #phase voltage\n",
    "I_s=V_s/Z_s#      #phase current\n",
    "I_s_max=polar(I_s)[0]\n",
    "I_s_phi=polar(I_s)[1]\n",
    "I_L=I_s_max*sqrt(3)#      #line current\n",
    "P_in=3*I_s*V_s*PF#      #input power\n",
    "V_x=I_s*(X_m*(R_r_1+R_r_2+X_r))/(X_m+R_r_1+R_r_2+X_r)#\n",
    "I_r=V_x/(X_r+R_r_1+R_r_2)#\n",
    "I_r_max=polar(I_s)[0]\n",
    "I_r_phi=polar(I_r)[1]#\n",
    "P_s=3*R_s*I_s_max**2#      #copper loss in stator\n",
    "P_r=3*R_r_1*I_r_max**2#      #copper loss in rotor\n",
    "P_dev=3*(1-s)*R_r_1*I_r_max**2/s#      #developed power\n",
    "#we may verify that P_in=P_dev+P_s+P_r to within rounding error\n",
    "P_in=P_dev+P_s+P_r#      #input power\n",
    "P_o=P_dev-P_rot#      #output power\n",
    "T_o=P_o/W_m#      #output torque\n",
    "eff=P_o*100/P_in#      #efficiency\n",
    "print \" All the values in the textbook are approximated hence the values in this code differ from those of Textbook\"\n",
    "print 'Power factor : %0.2f'%PF\n",
    "print 'line current = %0.2f amperes'%I_L\n",
    "print 'output power = %0.2f watts'%P_o\n",
    "print 'output torque = %0.2f Nm'%T_o\n",
    "print 'efficiency percentage : %0.2f'%eff"
   ]
  },
  {
   "cell_type": "markdown",
   "metadata": {},
   "source": [
    "## Pg: 775 Ex: 17.2"
   ]
  },
  {
   "cell_type": "code",
   "execution_count": 4,
   "metadata": {
    "collapsed": false
   },
   "outputs": [
    {
     "name": "stdout",
     "output_type": "stream",
     "text": [
      " All the values in the textbook are approximated hence the values in this code differ from those of Textbook\n",
      "Starting line current = 229.99 A\n",
      "Torque = 163.08 Nm\n"
     ]
    }
   ],
   "source": [
    "from __future__ import division\n",
    "from cmath import polar\n",
    "from math import sin,cos,pi,sqrt\n",
    "s=1#      #slip for starting\n",
    "V_L=440*complex(cos(0),sin(0))#\n",
    "f=60#\n",
    "R_s=1.2#\n",
    "X_s=1J*2#\n",
    "X_m=1J*50#\n",
    "R_r_1=0.6#\n",
    "R_r_2=19.4#\n",
    "X_r=1J*0.8#\n",
    "Z_eq=X_m*(R_r_1+X_r)/(X_m+R_r_1+X_r)#      #equivalent impedance to the right in the figure in textbook\n",
    "Z_s=R_s+X_s+Z_eq#\n",
    "I_s=V_s/Z_s#      #starting phase current\n",
    "I_s_max=polar(I_s)[0]\n",
    "phi=polar(I_s)[1]\n",
    "I_L=sqrt(3)*I_s_max#      #starting line current\n",
    "#I_L here is almost six times larger than in previous example. It is a typical characteristic of induction motors.\n",
    "P_ag=3*(Z_eq.real)*I_s_max**2#      #power crossing air gap\n",
    "W_s=2*pi*(60)#\n",
    "T_dev=P_ag/(W_s/2)#\n",
    "print \" All the values in the textbook are approximated hence the values in this code differ from those of Textbook\"\n",
    "print 'Starting line current = %0.2f A'%I_L\n",
    "print 'Torque = %0.2f Nm'%T_dev"
   ]
  },
  {
   "cell_type": "markdown",
   "metadata": {},
   "source": [
    "## Pg: 776 Ex: 17.3"
   ]
  },
  {
   "cell_type": "code",
   "execution_count": 1,
   "metadata": {
    "collapsed": false
   },
   "outputs": [
    {
     "name": "stdout",
     "output_type": "stream",
     "text": [
      " All the values in the textbook are approximated hence the values in this code differ from those of Textbook\n",
      "Power crossing the air gap = 8708.08 watts\n",
      "developed power = 8558.08 watts\n",
      "output power = 8058.08 watts\n",
      "effciency percentage : 88.47\n"
     ]
    }
   ],
   "source": [
    "from __future__ import division\n",
    "from math import pi,sqrt\n",
    "V_L=220#\n",
    "V_s=V_L/sqrt(3)#      #phase voltage\n",
    "I_s=31.87#\n",
    "P_s=400#      #total stator copper losses\n",
    "P_r=150#      #total rotoe copper losses\n",
    "P_rot=500#      #rotational losses\n",
    "PF=0.75#      #power factor\n",
    "P_in=3*V_s*I_s*PF#      #input power\n",
    "P_ag=P_in-P_s#      #air-gap power\n",
    "P_dev=P_in-P_s-P_r#      #developed power\n",
    "P_o=P_dev-P_rot#      #output power\n",
    "eff=P_o*100/P_in#      #efficiency\n",
    "print \" All the values in the textbook are approximated hence the values in this code differ from those of Textbook\"\n",
    "print 'Power crossing the air gap = %0.2f watts'%P_ag\n",
    "print 'developed power = %0.2f watts'%P_dev\n",
    "print 'output power = %0.2f watts'%P_o\n",
    "print 'effciency percentage : %0.2f'%eff      #this value is given wrong in the textbook"
   ]
  },
  {
   "cell_type": "markdown",
   "metadata": {},
   "source": [
    "## Pg: 777 Ex: 17.4"
   ]
  },
  {
   "cell_type": "code",
   "execution_count": 7,
   "metadata": {
    "collapsed": false
   },
   "outputs": [
    {
     "name": "stdout",
     "output_type": "stream",
     "text": [
      " All the values in the textbook are approximated hence the values in this code differ from those of Textbook\n",
      "CASE a:\n",
      "speed = 900.00 rpm\n",
      "developed torque = 395.77 Nm\n",
      "CASE b:\n",
      "Phase current:\n",
      "peak value = 28.78 amperes\n",
      "phase angle = 25.84 degrees\n",
      "Voltage induced by rotor:\n",
      "peak value = 498.88 volts\n",
      "phase angle = -4.17 degrees\n",
      "torque angle = 4.17 degrees\n",
      "CASE c:\n",
      "Phase current:\n",
      "peak value = 52.71 amperes\n",
      "phase angle = 10.61 degrees\n",
      "Voltage induced by rotor:\n",
      "peak value = 498.88 volts\n",
      "phase angle = -8.36 degrees\n",
      "torque angle = 8.36 degrees\n",
      "power factor : 0.98\n"
     ]
    }
   ],
   "source": [
    "from __future__ import division\n",
    "from math import pi,sqrt,acos,sin,cos,atan,asin\n",
    "\n",
    "P_dev_1=50*746#      #developed power\n",
    "V_L=480#      #line voltage\n",
    "PF=0.9#      #power factor\n",
    "f=60#      #frequency\n",
    "P=8#      #number of poles\n",
    "X_s=1.4#      #synchronous reactance\n",
    "#CASE a\n",
    "n_s=120*f/P#      #speed of machine in rpm\n",
    "W_s=n_s*2*pi/60#      #speed in radians per second\n",
    "T_dev=P_dev_1/W_s#      #developed torque\n",
    "print \" All the values in the textbook are approximated hence the values in this code differ from those of Textbook\"\n",
    "print 'CASE a:'\n",
    "print 'speed = %0.2f rpm'%n_s\n",
    "print 'developed torque = %0.2f Nm'%T_dev\n",
    "#CASE b\n",
    "V_a=V_L#      #phase voltage\n",
    "I_a_max=P_dev_1/(3*V_a*PF)#      #phase current\n",
    "phi=acos(PF)#\n",
    "I_a=I_a_max*complex(cos(phi),sin(phi))#\n",
    "E_r=V_a-1J*X_s*I_a#      #voltage induced by rotor\n",
    "E_r_max=sqrt(((E_r.real)**2)+((E_r.imag)**2))#\n",
    "E_r_phi=atan((E_r.imag)/(E_r.real))#\n",
    "TA=-E_r_phi#      #torque angle\n",
    "print 'CASE b:'\n",
    "print 'Phase current:'\n",
    "print 'peak value = %0.2f amperes'%I_a_max\n",
    "print 'phase angle = %0.2f degrees'%(phi*180/pi)\n",
    "print 'Voltage induced by rotor:'\n",
    "print 'peak value = %0.2f volts'%E_r_max\n",
    "print 'phase angle = %0.2f degrees'%(E_r_phi*180/pi)\n",
    "print 'torque angle = %0.2f degrees'%(TA*180/pi)\n",
    "#CASE c\n",
    "#excitation constant means the values of I_f, B_r and E_r are constant\n",
    "P_dev_2=100*746#\n",
    "sin_t=P_dev_2*sin(TA)/P_dev_1#      #developed power is proportional to sin_t\n",
    "t=asin(sin_t)#\n",
    "E_r=E_r_max*complex(cos(-t),sin(-t))#      #E_r is constant in magnitude\n",
    "I_a=(V_a-E_r)/(1J*X_s)#      #new phase current\n",
    "I_a_max=sqrt(((I_a.real)**2)+((I_a.imag)**2))#\n",
    "I_a_phi=atan((I_a.imag)/(I_a.real))#\n",
    "PF=cos(I_a_phi)#\n",
    "print 'CASE c:'\n",
    "print 'Phase current:'\n",
    "print 'peak value = %0.2f amperes'%I_a_max\n",
    "print 'phase angle = %0.2f degrees'%(I_a_phi*180/pi)\n",
    "print 'Voltage induced by rotor:'\n",
    "print 'peak value = %0.2f volts'%E_r_max\n",
    "print 'phase angle = %0.2f degrees'%(-t*180/pi)\n",
    "print 'torque angle = %0.2f degrees'%(t*180/pi)\n",
    "print 'power factor : %0.2f'%(PF)"
   ]
  },
  {
   "cell_type": "markdown",
   "metadata": {},
   "source": [
    "## Pg: 778 Ex: 17.5"
   ]
  },
  {
   "cell_type": "code",
   "execution_count": 9,
   "metadata": {
    "collapsed": false
   },
   "outputs": [
    {
     "name": "stdout",
     "output_type": "stream",
     "text": [
      " All the values in the textbook are approximated hence the values in this code differ from those of Textbook\n",
      "The new field current to achieve 100% power factor = 12.05 amperes\n"
     ]
    }
   ],
   "source": [
    "from __future__ import division\n",
    "from math import pi,sqrt,acos,sin,cos,atan,asin\n",
    "from cmath import polar\n",
    "V_a=480#      #phase voltage\n",
    "f=60#      #frequency\n",
    "P_dev=200*746#      #developed power\n",
    "PF=0.85#      #power factor\n",
    "I_f_1=10#      #field current\n",
    "X_s=1.4#      #synchronous resistance\n",
    "phi=acos(PF)#\n",
    "I_a_1_max=P_dev/(3*V_a*PF)#      #phase current\n",
    "I_a_1_phi=-phi#\n",
    "I_a_1=I_a_1_max*complex(cos(-phi),sin(-phi))#\n",
    "E_r_1=V_a-1J*X_s*I_a_1#      #rotor induced voltage\n",
    "E_r_1_max=polar(E_r_1)[0]\n",
    "E_r_1_phi=polar(E_r_1)[1]\n",
    "#to achieve 100 percent power factor, increase I_a until it is in phase with V_a\n",
    "I_a_2=P_dev/(3*V_a*cos(0))#\n",
    "E_r_2=V_a-1J*X_s*I_a_2#\n",
    "E_r_2_max=polar(E_r_2)[0]\n",
    "E_r_2_phi=polar(E_r_2)[1]\n",
    "I_f_2=I_f_1*E_r_2_max/E_r_1_max#      #magnitude of E_r proportional to field current\n",
    "print \" All the values in the textbook are approximated hence the values in this code differ from those of Textbook\"\n",
    "print 'The new field current to achieve 100%% power factor = %0.2f amperes'%I_f_2"
   ]
  }
 ],
 "metadata": {
  "kernelspec": {
   "display_name": "Python 2",
   "language": "python",
   "name": "python2"
  },
  "language_info": {
   "codemirror_mode": {
    "name": "ipython",
    "version": 2
   },
   "file_extension": ".py",
   "mimetype": "text/x-python",
   "name": "python",
   "nbconvert_exporter": "python",
   "pygments_lexer": "ipython2",
   "version": "2.7.9"
  }
 },
 "nbformat": 4,
 "nbformat_minor": 0
}
