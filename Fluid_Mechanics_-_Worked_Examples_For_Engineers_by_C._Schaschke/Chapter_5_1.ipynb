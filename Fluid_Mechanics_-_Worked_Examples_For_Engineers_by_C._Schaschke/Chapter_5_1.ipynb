{
 "metadata": {
  "name": "",
  "signature": "sha256:3560754f85c552adcb8e17db6d394e5a7c27026cea8efa4cac19d77a4813e8fe"
 },
 "nbformat": 3,
 "nbformat_minor": 0,
 "worksheets": [
  {
   "cells": [
    {
     "cell_type": "heading",
     "level": 1,
     "metadata": {},
     "source": [
      "Chapter 5,Flow Measurement by Differential Head"
     ]
    },
    {
     "cell_type": "heading",
     "level": 2,
     "metadata": {},
     "source": [
      "Example 5.1,Page 115"
     ]
    },
    {
     "cell_type": "code",
     "collapsed": false,
     "input": [
      "\n",
      "#Variable Iniialisation\n",
      "import math\n",
      "rho_m =840; # kg /m^3\n",
      "g =9.8; #m/ s ^2\n",
      "H =0.03; #m\n",
      "rho =1.2; #kg //m^3\n",
      "\n",
      "#calculation\n",
      "dp= rho_m *g*H;\n",
      "v1= math.sqrt (2* dp/rho);\n",
      "\n",
      "#result\n",
      "print\" Velocity(m/s) =\",round(v1,2)\n"
     ],
     "language": "python",
     "metadata": {},
     "outputs": [
      {
       "output_type": "stream",
       "stream": "stdout",
       "text": [
        " Velocity(m/s) = 20.2879274447\n"
       ]
      }
     ],
     "prompt_number": 5
    },
    {
     "cell_type": "heading",
     "level": 2,
     "metadata": {},
     "source": [
      "Example 5.2,Page 117"
     ]
    },
    {
     "cell_type": "code",
     "collapsed": false,
     "input": [
      "\n",
      "%matplotlib inline\n",
      "#variable initialisation\n",
      "from math import pi\n",
      "import numpy as np\n",
      "from pylab import *\n",
      "r =[0, 0.05, 0.10, 0.15, 0.20, 0.225, 0.25];\n",
      "v =[19, 18.6, 17.7, 16.3, 14.2, 12.9, 0];\n",
      "\n",
      "# We define a new variable dQ=v \u00032\u0003*pi\u0003*r . Accordingto the given values of r , v , we get dQ as follows\n",
      "dQ =[0, 5.8, 11.1, 15.4, 17.8, 18.2, 0];\n",
      "\n",
      "#calculation\n",
      "figure()\n",
      "plot (r,dQ,'r')\n",
      "xlabel('radius (m)')\n",
      "ylabel('2piVxr (m^2/s)')\n",
      "show()\n",
      "# From the graph area under the cur ve comes out to be 2 . 7 4\n",
      "Q =2.74; #m^3/ s\n",
      "d =0.5; # m\n",
      "v =4* Q/pi /d**2;\n",
      "\n",
      "#result\n",
      "print \" Rate of flow (m^3/s) =\",round(Q,2);\n",
      "print \"Average velocity(m/s) =\",round(v,2);\n"
     ],
     "language": "python",
     "metadata": {},
     "outputs": [
      {
       "output_type": "stream",
       "stream": "stdout",
       "text": [
        "\n",
        "Welcome to pylab, a matplotlib-based Python environment [backend: module://IPython.zmq.pylab.backend_inline].\n",
        "For more information, type 'help(pylab)'.\n"
       ]
      },
      {
       "metadata": {},
       "output_type": "display_data",
       "png": "[encoded data removed]"
      },
      {
       "output_type": "stream",
       "stream": "stdout",
       "text": [
        " Rate of flow (m^3/s) = 2.74\n",
        "Average velocity(m/s) = 13.95\n"
       ]
      }
     ],
     "prompt_number": 1
    },
    {
     "cell_type": "heading",
     "level": 2,
     "metadata": {},
     "source": [
      "Example 5.3,Page 117"
     ]
    },
    {
     "cell_type": "code",
     "collapsed": false,
     "input": [
      "\n",
      "#variable declaration\n",
      "from math import pi\n",
      "d1 =0.1; #m\n",
      "rho_Hg =13600; #kg /m^3\n",
      "rho =1000; #kg /m^3\n",
      "g =9.81; #m/ s ^2\n",
      "H =0.8; #m\n",
      "Cd =0.96;\n",
      "Q =0.025; #m^3/ s\n",
      "\n",
      "\n",
      "#calculation\n",
      "a= pi *d1**2/4;\n",
      "dp =( rho_Hg - rho )*g*H;\n",
      "B =((2* dp /( rho *((Q/Cd/a)**2))) +1) **(0.25) ;\n",
      "d2=d1/B;\n",
      "# The shortest possible overall length of venturi is therefore an entrance cone of 7.1 cm length( 20 degrees) , a throat of 2.5 cm(0.25pipe diameter s ) and an e x i t cone o f 1 9 . 7 cm ( 7 . 5\n",
      "#degrees) giving an overall length of 29.3 cm.\n",
      "L =29.3; #cm\n",
      "\n",
      "#result\n",
      "print\"Throat diameter (m)=\",round(d2,3);\n",
      "print\" Overall Length(m) =\",round(L,2)\n"
     ],
     "language": "python",
     "metadata": {},
     "outputs": [
      {
       "output_type": "stream",
       "stream": "stdout",
       "text": [
        "Throat diameter (m)= 0.048\n",
        " Overall Length(m) = 29.3\n"
       ]
      }
     ],
     "prompt_number": 2
    },
    {
     "cell_type": "heading",
     "level": 2,
     "metadata": {},
     "source": [
      "Example 5.4,Page 119"
     ]
    },
    {
     "cell_type": "code",
     "collapsed": false,
     "input": [
      "\n",
      "#Variable Decleration\n",
      "Cd_o =0.65;\n",
      "d =0.05;\n",
      "d_o =0.025;\n",
      "Cd_v =0.95;\n",
      "d_v =0.038;\n",
      "\n",
      "#calculation\n",
      "# (Q o /Cd o ) ^ 2 \u0003 ( ( d/ d o ) ^4 -1)=(Q v/Cd v ) ^ 2 \u0003 ( ( d/ d v)^4 - 1)\n",
      "#Q v=4\u0003Q o\n",
      "# Q = Q v + Q o\n",
      "# Q = 5\u0003Qv\n",
      "Q1 =20;\n",
      "Q2 =100 - Q1;\n",
      "print\"Flow through orifice(%)=\",round(Q1)\n",
      "print\"Flow through venturi(%)=\",round(Q2)\n",
      "\n",
      "print\"Thus 20 % of the flow passes through the orifice meter while 80% of the flow passes through the venturi.\""
     ],
     "language": "python",
     "metadata": {},
     "outputs": [
      {
       "output_type": "stream",
       "stream": "stdout",
       "text": [
        "Flow through orifice(%)= 20.0\n",
        "Flow through venturi(%)= 80.0\n",
        "Thus 20 % of the flow passes through the orifice meter while 80% of the flow passes through the venturi.\n"
       ]
      }
     ],
     "prompt_number": 3
    },
    {
     "cell_type": "heading",
     "level": 2,
     "metadata": {},
     "source": [
      "Example 5.5,Page 121"
     ]
    },
    {
     "cell_type": "code",
     "collapsed": false,
     "input": [
      "\n",
      "#Variable declaration\n",
      "from math import pi\n",
      "import math\n",
      "Qa =0.003/60; # m^3/ s\n",
      "Ca =20; # g / l\n",
      "Co =0.126; # g / l\n",
      "dp =3700; #N/m^2\n",
      "p =1000; # N/m^2\n",
      "d =0.1; # m\n",
      "B =10/6;\n",
      "\n",
      "#calculation\n",
      "a= pi *d **2/4;\n",
      "Qi=Qa *(( Ca -Co)/Co);\n",
      "Q=Qi+Qa;\n",
      "c= math.sqrt(2*dp/p/(1.65**4 -1**4))\n",
      "Cd=Q/a/ c;\n",
      "\n",
      "#results\n",
      "print\" Coefficient of discharge =\",round(Cd,3)"
     ],
     "language": "python",
     "metadata": {},
     "outputs": [
      {
       "output_type": "stream",
       "stream": "stdout",
       "text": [
        " Coefficient of discharge = 0.967\n"
       ]
      }
     ],
     "prompt_number": 4
    },
    {
     "cell_type": "heading",
     "level": 2,
     "metadata": {},
     "source": [
      "Example 5.6,Page 126"
     ]
    },
    {
     "cell_type": "code",
     "collapsed": false,
     "input": [
      "\n",
      "#variable declaration\n",
      "from math import pi\n",
      "rho =850; # kg /m^3\n",
      "Q =0.056; # m^3/ s\n",
      "Cd =0.98;\n",
      "d1 =0.2; # m\n",
      "d2 =0.1; # m\n",
      "g =9.81; # m/ s ^2\n",
      "dz =0.3; # m\n",
      "\n",
      "\n",
      "#calculation\n",
      "a= pi *( d1) **2/4;\n",
      "dp=rho /2*(( Q/Cd/a) **2*(( d1/d2)**4 - 1) + 2*g*( dz));\n",
      "\n",
      "#result\n",
      "print\"The differential pressure (N/m^2)=\",round(dp,3)\n"
     ],
     "language": "python",
     "metadata": {},
     "outputs": [
      {
       "output_type": "stream",
       "stream": "stdout",
       "text": [
        "The differential pressure (N/m^2)= 23592.898\n"
       ]
      }
     ],
     "prompt_number": 5
    },
    {
     "cell_type": "heading",
     "level": 2,
     "metadata": {},
     "source": [
      "Example 5.7,Page 128"
     ]
    },
    {
     "cell_type": "code",
     "collapsed": false,
     "input": [
      "\n",
      "\n",
      "#variable declaration\n",
      "from math import pi\n",
      "import math\n",
      "g =9.81; # m/ s ^2\n",
      "H =0.5; #m\n",
      "rho_m =1075; #kg /m^3\n",
      "rho =860; #kg /m^3\n",
      "B =0.225/0.075;\n",
      "Cd =0.659;\n",
      "\n",
      "#calculation\n",
      "a1=pi /4*(0.225) **2;\n",
      "v_t =math.sqrt(2*g*H*( rho_m - rho )/(rho )/(3**4 -1));\n",
      "Q=Cd*a1* v_t ;\n",
      "\n",
      "#result\n",
      "print\"Rate of flow(m^3/s) =\",round(Q,5)\n"
     ],
     "language": "python",
     "metadata": {},
     "outputs": [
      {
       "output_type": "stream",
       "stream": "stdout",
       "text": [
        "Rate of flow(m^3/s) = 0.00459\n"
       ]
      }
     ],
     "prompt_number": 6
    },
    {
     "cell_type": "heading",
     "level": 2,
     "metadata": {},
     "source": [
      "Example 5.8,Page 130"
     ]
    },
    {
     "cell_type": "code",
     "collapsed": false,
     "input": [
      "\n",
      "\n",
      "#variable decleration\n",
      "from math import pi\n",
      "import math\n",
      "m_f =0.03; # kg\n",
      "rho_f =5100; # kg /m^3\n",
      "d_l =0.3; # m\n",
      "d_b =0.22; # m\n",
      "H_tube =0.2; # m\n",
      "Cd =0.6;\n",
      "H =0.1; # m\n",
      "g =9.81; # m/ s ^2\n",
      "rho =1000; # kg /m^3\n",
      "\n",
      "\n",
      "#calculation\n",
      "V_f = m_f / rho_f ;\n",
      "theta =2* math.atan (( d_l - d_b )/2/ H_tube );\n",
      "m=Cd*H* math.tan ( theta /2)* math.sqrt (8* V_f*g* rho *( rho_f - rho )* pi);\n",
      "\n",
      "#result\n",
      "print\"Mass flow rate(kg/s) =\",round(m/10,4)\n"
     ],
     "language": "python",
     "metadata": {},
     "outputs": [
      {
       "output_type": "stream",
       "stream": "stdout",
       "text": [
        "Mass flow rate(kg/s) = 0.0925\n"
       ]
      }
     ],
     "prompt_number": 7
    },
    {
     "cell_type": "heading",
     "level": 2,
     "metadata": {},
     "source": [
      "Example 5.9,Page 130"
     ]
    },
    {
     "cell_type": "code",
     "collapsed": false,
     "input": [
      "\n",
      "\n",
      "#variable decleration\n",
      "from math import pi\n",
      "import math\n",
      "d1 =0.05; # m\n",
      "d2 =0.025; # m\n",
      "Cd =0.97;\n",
      "dp =1200; # N/m^2\n",
      "rho =1000; #kg /m^3\n",
      "H =0.15; # m\n",
      "theta =2; # d e g r e e s\n",
      "V_f =10**( -4) ;# m^3\n",
      "g =9.81; # m/ s ^2\n",
      "rho_f =8000; # kg /m^3\n",
      "\n",
      "#calculation\n",
      "B=d1/d2;\n",
      "a= pi /4* d1 **2;\n",
      "Q=Cd*a*  (2* dp/ (rho *(B**4 -1)))**(0.5);\n",
      "Cd=Q/(H/ rho * math.tan( theta*pi/180 /2)* math.sqrt (8* V_f*g* rho *( rho_f -rho )*pi))\n",
      "\n",
      "#result\n",
      "print\"Flow rate of water(m^3/s) =\",round(Q,5)\n",
      "print\" Coeff. of discharge of the rotameter =\",round(Cd,3)\n"
     ],
     "language": "python",
     "metadata": {},
     "outputs": [
      {
       "output_type": "stream",
       "stream": "stdout",
       "text": [
        "Flow rate of water(m^3/s) = 0.00076\n",
        " Coeff. of discharge of the rotameter = 0.7\n"
       ]
      }
     ],
     "prompt_number": 8
    }
   ],
   "metadata": {}
  }
 ]
}