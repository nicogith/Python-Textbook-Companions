{
 "metadata": {
  "name": "",
  "signature": "sha256:935baa5cece6ad60c6e41bbc750e73048ac600a6bffe3888ab4bb403a9f445e6"
 },
 "nbformat": 3,
 "nbformat_minor": 0,
 "worksheets": [
  {
   "cells": [
    {
     "cell_type": "heading",
     "level": 1,
     "metadata": {},
     "source": [
      "Chapter 6:Tank drainage and variable head flow"
     ]
    },
    {
     "cell_type": "heading",
     "level": 2,
     "metadata": {},
     "source": [
      "Example 6.1,Page 143"
     ]
    },
    {
     "cell_type": "code",
     "collapsed": false,
     "input": [
      "\n",
      "\n",
      "#variable decleration\n",
      "from math import pi\n",
      "import math\n",
      "Q =5000.0/3600/24; #m^3 per second\n",
      "C_d =0.6;\n",
      "r =0.01/2; # m\n",
      "g =9.8; #m/ s ^2\n",
      "H =0.2; # m\n",
      "\n",
      "\n",
      "#calculation\n",
      "a_o = pi *r**2;\n",
      "n=Q/C_d/ a_o / math.sqrt (2*g*H);\n",
      "\n",
      "#result\n",
      "print\"The number of orifices required are \",round (n)\n"
     ],
     "language": "python",
     "metadata": {},
     "outputs": [
      {
       "output_type": "stream",
       "stream": "stdout",
       "text": [
        "The number of orifices required are  621.0\n"
       ]
      }
     ],
     "prompt_number": 10
    },
    {
     "cell_type": "heading",
     "level": 2,
     "metadata": {},
     "source": [
      "Example 6.2,Page 145"
     ]
    },
    {
     "cell_type": "code",
     "collapsed": false,
     "input": [
      "\n",
      "\n",
      "#variable decleration\n",
      "from math import pi\n",
      "import math\n",
      "x =0.86; # m\n",
      "g =9.8; # m/ s\n",
      "y =0.96; # m\n",
      "H =0.2; # m\n",
      "\n",
      "#calculation\n",
      "v_act =x* math.sqrt (g /2/ y);\n",
      "v= math.sqrt (2* g*H);\n",
      "Cv= v_act /v;\n",
      "\n",
      "#result\n",
      "print \"The coeff. of velocity for the orifices found to be \",round(Cv,3)\n"
     ],
     "language": "python",
     "metadata": {},
     "outputs": [
      {
       "output_type": "stream",
       "stream": "stdout",
       "text": [
        "The coeff. of velocity for the orifices found to be  0.981\n"
       ]
      }
     ],
     "prompt_number": 1
    },
    {
     "cell_type": "heading",
     "level": 2,
     "metadata": {},
     "source": [
      "Example 6.3,Page 147"
     ]
    },
    {
     "cell_type": "code",
     "collapsed": false,
     "input": [
      "\n",
      "\n",
      "#variable declaration\n",
      "from math import pi\n",
      "import math\n",
      "Vt =1; # m^3\n",
      "d_t =1; # m\n",
      "C_d =0.6;\n",
      "d_o =0.02; # m\n",
      "g =9.8; # m/ s ^2\n",
      "\n",
      "\n",
      "#calculation\n",
      "a_o = pi *( d_o ) **2/4;\n",
      "A= pi *( d_t ) **2/4;\n",
      "H1 =4* Vt/ pi /( d_t) **2;\n",
      "t=A/C_d/ a_o * math.sqrt (2* H1/g);\n",
      "\n",
      "#results\n",
      "print\" Total drainage is found to take (s) \",round(t,2)\n"
     ],
     "language": "python",
     "metadata": {},
     "outputs": [
      {
       "output_type": "stream",
       "stream": "stdout",
       "text": [
        " Total drainage is found to take (s)  2124.49586383\n"
       ]
      }
     ],
     "prompt_number": 14
    },
    {
     "cell_type": "heading",
     "level": 2,
     "metadata": {},
     "source": [
      "Example 6.4,Page 149"
     ]
    },
    {
     "cell_type": "code",
     "collapsed": false,
     "input": [
      "\n",
      "\n",
      "#variable declaration\n",
      "from math import pi\n",
      "import math\n",
      "C_d =0.6;\n",
      "d_o =0.05; #m\n",
      "g =9.81; # m/ s ^ 2 ;\n",
      "R =2; \n",
      "H1 =1.5; \n",
      "\n",
      "#calculation\n",
      "a_o = pi *d_o **2/4;\n",
      "t= pi /C_d/ a_o*(1.333* R*H1 **(1.5) -0.4* H1 **(2.5))/math.sqrt(2*g);\n",
      "\n",
      "#results\n",
      "print\"The time to drain the tank is found to be (s)\",round(t,3);"
     ],
     "language": "python",
     "metadata": {},
     "outputs": [
      {
       "output_type": "stream",
       "stream": "stdout",
       "text": [
        "The time to drain the tank is found to be (s) 2285.001\n"
       ]
      }
     ],
     "prompt_number": 16
    },
    {
     "cell_type": "heading",
     "level": 2,
     "metadata": {},
     "source": [
      "Example 6.6,Page 153"
     ]
    },
    {
     "cell_type": "code",
     "collapsed": false,
     "input": [
      "\n",
      "\n",
      "#variable declaration\n",
      "import math\n",
      "Cd =0.62;\n",
      "a =0.01;# m^2\n",
      "g =9.81; # m/ s ^2\n",
      "H =0.3; #m\n",
      "A1 =4*2; # m^2\n",
      "H1 =0.300; # m\n",
      "H2 =0.100; # m\n",
      "A2 =2*2; # m^2\n",
      "\n",
      "#calculation\n",
      "Q=Cd*a* math.sqrt (2* g*H);\n",
      "t =2* A1 *( math.sqrt(H1) -math.sqrt(H2) )/( Cd*a* math.sqrt (2*g) *(1+ A1/A2));\n",
      "\n",
      "#results\n",
      "print \"The rate of flow(m^3/s) =\",round(Q,3)\n",
      "print \"The time taken to reduce the difference in levels to 10 cm is (s) \", round(t,3)\n",
      "\n"
     ],
     "language": "python",
     "metadata": {},
     "outputs": [
      {
       "output_type": "stream",
       "stream": "stdout",
       "text": [
        "The rate of flow(m^3/s) = 0.01504\n",
        "The time taken to reduce the difference in levels to 10 cm is (s)  44.957\n"
       ]
      }
     ],
     "prompt_number": 4
    },
    {
     "cell_type": "heading",
     "level": 2,
     "metadata": {},
     "source": [
      "Example 6.8,Page 157"
     ]
    },
    {
     "cell_type": "code",
     "collapsed": false,
     "input": [
      "\n",
      "#variable declaration\n",
      "import math\n",
      "Qs =0.4; #m^3/ s\n",
      "H1 =1.5; # m\n",
      "Q =0.2; #m^3/ s\n",
      "H2 =0.5; # m\n",
      "l =15; # m\n",
      "b =10; #m\n",
      "e=2.69;\n",
      "\n",
      "#calculation\n",
      "A=l*b;\n",
      "k=Qs*H1 **( -0.5) ;\n",
      "t=-2*A/k**2*(Q*math.log((Q-k*math.sqrt( H2))/(Q-k*math.sqrt(H1)),e)+k*(math.sqrt(H2)-math.sqrt(H1)));\n",
      "#result\n",
      "print \"The time reqd. for the level in the tank to fall to 1 m is(s) \",round(t,3)\n",
      "\n"
     ],
     "language": "python",
     "metadata": {},
     "outputs": [
      {
       "output_type": "stream",
       "stream": "stdout",
       "text": [
        "The time reqd. for the level in the tank to fall to 1 m is(s)  1536.35\n"
       ]
      }
     ],
     "prompt_number": 5
    },
    {
     "cell_type": "heading",
     "level": 2,
     "metadata": {},
     "source": [
      "Example 6.9,Page 159"
     ]
    },
    {
     "cell_type": "code",
     "collapsed": false,
     "input": [
      "\n",
      "#variable declaration\n",
      "from math import pi\n",
      "import numpy as np\n",
      "import numpy \n",
      "import math\n",
      "Cd =0.62;\n",
      "d =0.05;\n",
      "a_o = pi *d **2/4;\n",
      "g =9.81; #m/ s ^2\n",
      "\n",
      "#calculation\n",
      "k=Cd*a_o* math.sqrt (2*g);\n",
      "# We have g o t two s imultaneous equations\n",
      "#Q_k \u0003 0 . 6 5 ^ ( 1 / 2 ) =0.1/90\u0003A\n",
      "# Q_k \u0003 1 . 2 2 5 ^ ( 1 / 2 ) =0.05/120\u0003A\n",
      "\n",
      "M=np.array([[1,-0.1/90],[1,-0.05/120]]);\n",
      "N=np.array([[k *math.sqrt(0.65)] ,[k *math.sqrt(1.225)]]);\n",
      "X=np.linalg.solve(M,N)\n",
      "Q=X[0][0];\n",
      "A=X[1][0];\n",
      "print \"The Area of the tank(m^2) =\",round(A,3)\n",
      "print \" Flow rate(m^3/s) =\",round(Q,3)\n"
     ],
     "language": "python",
     "metadata": {},
     "outputs": [
      {
       "output_type": "stream",
       "stream": "stdout",
       "text": [
        "The Area of the tank(m^2) = 2.334\n",
        " Flow rate(m^3/s) = 0.007\n"
       ]
      }
     ],
     "prompt_number": 6
    },
    {
     "cell_type": "heading",
     "level": 2,
     "metadata": {},
     "source": [
      "Example 6.10,Page 161"
     ]
    },
    {
     "cell_type": "code",
     "collapsed": false,
     "input": [
      "\n",
      "from math import pi\n",
      "from numpy import matrix\n",
      "from numpy import linalg\n",
      "import math\n",
      "H1 =1.5; # m\n",
      "V =0.75; # m^3\n",
      "d1 =1.2; # m\n",
      "u =0.08; # Ns/m^2\n",
      "L =3; # m\n",
      "rho =1100; # kg /m^3\n",
      "g =9.81; # m/ s ^2\n",
      "d =0.025; # m\n",
      "e=2.71;\n",
      "\n",
      "#calculation\n",
      "a= pi*d **2/4;\n",
      "A= pi*d1 **2/4;\n",
      "H2=H1 -(V/A);\n",
      "round(H2,2);\n",
      "t= -32*u*L*A/(a*rho*g*d **2) *math.log(H2/H1,e);\n",
      "\n",
      "#result\n",
      "print\"Time taken(s) =\",round(t,3);"
     ],
     "language": "python",
     "metadata": {},
     "outputs": [
      {
       "output_type": "stream",
       "stream": "stdout",
       "text": [
        "Time taken(s) = 1535.7565254\n"
       ]
      }
     ],
     "prompt_number": 17
    },
    {
     "cell_type": "code",
     "collapsed": false,
     "input": [],
     "language": "python",
     "metadata": {},
     "outputs": []
    }
   ],
   "metadata": {}
  }
 ]
}