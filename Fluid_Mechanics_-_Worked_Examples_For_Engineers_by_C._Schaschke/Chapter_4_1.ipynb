{
 "metadata": {
  "name": "",
  "signature": "sha256:3e9255609d7264d7167f865de1dbf27ba92b4a62cb35c2df65b3f59b0ee5b06e"
 },
 "nbformat": 3,
 "nbformat_minor": 0,
 "worksheets": [
  {
   "cells": [
    {
     "cell_type": "heading",
     "level": 1,
     "metadata": {},
     "source": [
      "Chapter 4, Dimensional Analysis"
     ]
    },
    {
     "cell_type": "heading",
     "level": 2,
     "metadata": {},
     "source": [
      "Example 4.5,Page 108"
     ]
    },
    {
     "cell_type": "code",
     "collapsed": false,
     "input": [
      "\n",
      "\n",
      "#Variable Declaration\n",
      "Rho_full =800.0; # kg /m^3\n",
      "v_full =1.8; # m/ s\n",
      "u_full =9.0/10000 ; # Nm/ s ^2\n",
      "Rho_model =1000.0; # kg /m^3\n",
      "u_model =1.0/1000 ; # Ns/m^2\n",
      "d_full = 2.0;\n",
      "d_model =1.0;\n",
      "del_p_fmodel =4000.0; # N/m^2\n",
      "\n",
      "#Calculation\n",
      "v_model = (( Rho_full * v_full / u_full )/( Rho_model /u_model ))*( d_full / d_model );\n",
      "#del_p_f = del_p_fmodel * Rho_full *( v_full )**2/ Rho_model /(v_model )**2;\n",
      "\n",
      "#result\n",
      "print \"The velocity in the full scale pipe is expected to be(m/s)\",round(v_model,2);\n"
     ],
     "language": "python",
     "metadata": {},
     "outputs": [
      {
       "output_type": "stream",
       "stream": "stdout",
       "text": [
        "The velocity in the full scale pipe is expected to be(m/s) 3.2\n"
       ]
      }
     ],
     "prompt_number": 1
    },
    {
     "cell_type": "code",
     "collapsed": false,
     "input": [],
     "language": "python",
     "metadata": {},
     "outputs": []
    }
   ],
   "metadata": {}
  }
 ]
}