{
 "metadata": {
  "name": "",
  "signature": "sha256:785f37cfaf9aeabbac4169c1fd95bd67ae8666fc83631f2d394e32747e65fd3b"
 },
 "nbformat": 3,
 "nbformat_minor": 0,
 "worksheets": [
  {
   "cells": [
    {
     "cell_type": "heading",
     "level": 1,
     "metadata": {},
     "source": [
      "Chapter 2,Continuity Momentum and Energy"
     ]
    },
    {
     "cell_type": "heading",
     "level": 2,
     "metadata": {},
     "source": [
      "Example 2.1,Page 36"
     ]
    },
    {
     "cell_type": "code",
     "collapsed": false,
     "input": [
      "\n",
      "from math import pi\n",
      "\n",
      "\n",
      "#variable decleration\n",
      "Q1 =0.02; #m^3/ s\n",
      "d1 =0.15; #m\n",
      "d2 =0.05; #m\n",
      "d3 =0.1; #m\n",
      "v2 =3; #m/ s\n",
      "\n",
      "\n",
      "#calculation\n",
      "Q2=pi*d2 **2/4* v2;\n",
      "v3 =(4* Q1/pi -d2 **2* v2)/d3 **2;\n",
      "Q3=pi*d3 **2/4* v3;\n",
      "v1 =4*( Q2+Q3)/pi/d1 **2;\n",
      "\n",
      "\n",
      "#result\n",
      "print\" Flow rate at pipe 3(m^3/s) =\",round(Q3,4)\n",
      "print\" Flow rate at pipe 2(m^3/s)= \",round(Q2,4)\n",
      "print\" Flow rate at pipe 1(m^3/s)= \",round(Q1,4)\n",
      "print\" Velocity at pipe 1(m/s) =\",round(v1,3)\n",
      "print\" Velocity at pipe 2(m/s) =\",round(v2,3)\n",
      "print\" Velocity at pipe 3(m/s) =\",round(v3,3)\n"
     ],
     "language": "python",
     "metadata": {},
     "outputs": [
      {
       "output_type": "stream",
       "stream": "stdout",
       "text": [
        " Flow rate at pipe 3(m^3/s) = 0.0141\n",
        " Flow rate at pipe 2(m^3/s)=  0.0059\n",
        " Flow rate at pipe 1(m^3/s)=  0.02\n",
        " Velocity at pipe 1(m/s) = 1.132\n",
        " Velocity at pipe 2(m/s) = 3.0\n",
        " Velocity at pipe 3(m/s) = 1.796\n"
       ]
      }
     ],
     "prompt_number": 1
    },
    {
     "cell_type": "heading",
     "level": 2,
     "metadata": {},
     "source": [
      "Example 2.2,Page 38"
     ]
    },
    {
     "cell_type": "code",
     "collapsed": false,
     "input": [
      "\n",
      "#variable decleration\n",
      "import math\n",
      "from math import pi\n",
      "d1 =0.2; #m\n",
      "d2=d1;\n",
      "p1 =1*10**5; #N/m^2\n",
      "p2 =80*10**3; #N/m^2\n",
      "Q =150.0; #m^3/h\n",
      "rho =900; #kg /m^3\n",
      "theta1 =0; # r a d i a n s\n",
      "theta2 =pi; # r a d i a n s\n",
      "\n",
      "#calculation\n",
      "a1=pi*d1 **2/4;\n",
      "a2=pi*d2 **2/4;\n",
      "F1=p1*a1; # Upstream f o r c e\n",
      "F2=p2*a2; # Downstream f o r c e\n",
      "v1 =4*Q /3600/ pi/d1 **2;\n",
      "v2=v1;\n",
      "flux =rho*Q /3600* v2; #Momentum f l u x\n",
      "Fx=F1* math.cos ( theta1 )-F2* math.cos ( theta2 )+ flux *( math.cos ( theta2 ) -\n",
      "math.cos ( theta1 ));\n",
      "Fy=F1* math.sin ( theta1 )-F2* math.sin ( theta2 )-flux *( math.sin ( theta2 )-\n",
      "math.sin ( theta1 ));\n",
      "F= math.sqrt (Fx **2+ Fy **2);\n",
      "\n",
      "#result\n",
      "print\" Force exerted by liquid (kN) =\",round(F,2)\n"
     ],
     "language": "python",
     "metadata": {},
     "outputs": [
      {
       "output_type": "stream",
       "stream": "stdout",
       "text": [
        " Force exerted by liquid (kN) = 5552.47608322\n"
       ]
      }
     ],
     "prompt_number": 12
    },
    {
     "cell_type": "heading",
     "level": 2,
     "metadata": {},
     "source": [
      "Example 2.3,Page 40"
     ]
    },
    {
     "cell_type": "code",
     "collapsed": false,
     "input": [
      "\n",
      "from math import pi\n",
      "\n",
      "#variable decleration\n",
      "rho =1000; # kg /m^3\n",
      "d =0.05; #m\n",
      "L =500; #m\n",
      "v =1.7; #m/ s\n",
      "\n",
      "#calculation\n",
      "a= pi *d **2/4;\n",
      "F= rho *a*L*v;\n",
      "P=F/a /10**3;\n",
      " \n",
      "#result    \n",
      "print\"Average pressure(kN/m^2) =\",round(P)\n"
     ],
     "language": "python",
     "metadata": {},
     "outputs": [
      {
       "output_type": "stream",
       "stream": "stdout",
       "text": [
        "Average pressure(kN/m^2) = 850.0\n"
       ]
      }
     ],
     "prompt_number": 6
    },
    {
     "cell_type": "heading",
     "level": 2,
     "metadata": {},
     "source": [
      "Example 2.4,Page 42"
     ]
    },
    {
     "cell_type": "code",
     "collapsed": false,
     "input": [
      "\n",
      "\n",
      "#variable decleration\n",
      "import math\n",
      "g =9.8; #m/ s ^2\n",
      "dz =0.2; #m ; dz1=z1-z2=z1-z2\n",
      "rho =1000; # kg /m^3\n",
      "dz1 =2; #m ; dz1=z1-z A\n",
      "dz2 =0; #m ; dz2=z1-z B\n",
      "dz3 = -1.5; #m ; dz3=z1-z C\n",
      "\n",
      "#calculation\n",
      "v2= math.sqrt (2* g*dz);\n",
      "v_A =v2;\n",
      "v_B =v2;\n",
      "v_C =v2;\n",
      "p_A = rho *g*( dz1 - v_A **2/2/ g);\n",
      "p_B = rho *g*( dz2 - v_B **2/2/ g);\n",
      "p_C = rho *g*( dz3 - v_C **2/2/ g);\n",
      "\n",
      "#result\n",
      "print\" Velocity at pt . A(m/s) =\",round(v_A,2);\n",
      "print\" Velocity at pt . B(m/s) =\",round(v_B,2);\n",
      "print\" Velocity at pt . C(m/s) =\",round(v_C,2);\n",
      "print\" Pressure at pt . A(kN/m^2) =\",round(p_A)\n",
      "print\" Pressure at pt . B (kN/m^2)=\",round(p_B)\n",
      "print\" Pressure at pt . C (kN/m^2)=\",round(p_C)\n"
     ],
     "language": "python",
     "metadata": {},
     "outputs": [
      {
       "output_type": "stream",
       "stream": "stdout",
       "text": [
        " Velocity at pt . A(m/s) = 1.98\n",
        " Velocity at pt . B(m/s) = 1.98\n",
        " Velocity at pt . C(m/s) = 1.98\n",
        " Pressure at pt . A(kN/m^2) = 17640.0\n",
        " Pressure at pt . B (kN/m^2)= -1960.0\n",
        " Pressure at pt . C (kN/m^2)= -16660.0\n"
       ]
      }
     ],
     "prompt_number": 2
    },
    {
     "cell_type": "heading",
     "level": 2,
     "metadata": {},
     "source": [
      "Example 2.5,Page 44"
     ]
    },
    {
     "cell_type": "code",
     "collapsed": false,
     "input": [
      "\n",
      "from math import pi\n",
      "\n",
      "#variable decleration\n",
      "Q =10.0; # m^3/ hr\n",
      "d1 =0.05; #m\n",
      "d2 =0.1; #m\n",
      "rho =1000.0; #kg /m^3\n",
      "g=9.81;\n",
      "\n",
      "\n",
      "#calculation\n",
      "a1=pi*d1 **2/4;\n",
      "a2=pi*d2 **2/4;\n",
      "v1=Q /3600/ a1;\n",
      "v2 =( d1/d2) **2* v1;\n",
      "PD=rho*0.057*g;\n",
      "\n",
      "#results\n",
      "print\" Presure drop (N/m^2)=\",round(PD,3)\n"
     ],
     "language": "python",
     "metadata": {},
     "outputs": [
      {
       "output_type": "stream",
       "stream": "stdout",
       "text": [
        " Presure drop (N/m^2)= 375.26364312\n"
       ]
      }
     ],
     "prompt_number": 7
    },
    {
     "cell_type": "heading",
     "level": 2,
     "metadata": {},
     "source": [
      "Example 2.7,Page 48"
     ]
    },
    {
     "cell_type": "code",
     "collapsed": false,
     "input": [
      "\n",
      "\n",
      "#variable decleration\n",
      "Q =100; #m^3/ hr\n",
      "d1 =0.2; #m\n",
      "d2 =0.15; #m\n",
      "p1 =80*10**3; #N/m^2\n",
      "rho =1000; # kg /m^3\n",
      "g =9.8; #m/ s ^2\n",
      "pi=3.14;\n",
      "\n",
      "#calculation\n",
      "a1=pi*d1 **2/4;\n",
      "a2=pi*d2 **2/4;\n",
      "v1=Q /3600/ a1;\n",
      "v2=Q /3600/ a2;\n",
      "H_L =0.2* v2 **2/2/ g;\n",
      "p2=p1+ rho /2*( v1 **2- v2 **2) -rho*g* H_L ;\n",
      "F_u =p1*a1; # Upstream f o r c e\n",
      "F_d =p2*a2; # Downstream f o r c e\n",
      "F_x = rho *Q /3600*( v2 -v1)-F_u +F_d;\n",
      "\n",
      "#results\n",
      "print\" Force required (N) =\",round(F_x)\n"
     ],
     "language": "python",
     "metadata": {},
     "outputs": [
      {
       "output_type": "stream",
       "stream": "stdout",
       "text": [
        " Force required (N) = -1099.0\n"
       ]
      }
     ],
     "prompt_number": 17
    },
    {
     "cell_type": "heading",
     "level": 2,
     "metadata": {},
     "source": [
      "Example 2.9,Page 53"
     ]
    },
    {
     "cell_type": "code",
     "collapsed": false,
     "input": [
      "\n",
      "#variable decleration\n",
      "N =60; #rpm\n",
      "r2 =0.25; #m\n",
      "g =9.8; #m/ s ^2\n",
      "pi=3.14;\n",
      "\n",
      "w =2* pi*N /60;\n",
      "dz_12 =(w*r2) **2/2/ g; # dz 1 2=z2-z1\n",
      "c=w*r2 **2;\n",
      "dz_23 =c **2/2/ g/r2 **2; # dz 2 3=z3-z2\n",
      "dz_13 = dz_23 + dz_12 ;\n",
      "\n",
      "#results\n",
      "print\" Total depression(m) =\",round(dz_13,3)\n"
     ],
     "language": "python",
     "metadata": {},
     "outputs": [
      {
       "output_type": "stream",
       "stream": "stdout",
       "text": [
        " Total depression(m) = 0.252\n"
       ]
      }
     ],
     "prompt_number": 3
    },
    {
     "cell_type": "code",
     "collapsed": false,
     "input": [],
     "language": "python",
     "metadata": {},
     "outputs": []
    }
   ],
   "metadata": {}
  }
 ]
}