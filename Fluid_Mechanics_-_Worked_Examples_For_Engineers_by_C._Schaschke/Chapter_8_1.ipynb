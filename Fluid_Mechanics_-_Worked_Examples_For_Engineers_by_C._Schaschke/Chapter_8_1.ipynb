{
 "metadata": {
  "name": "",
  "signature": "sha256:b23dbd5a6884d4ea13e28c9cb79f4fe4cdf3c73f39b3e9719031299037425f06"
 },
 "nbformat": 3,
 "nbformat_minor": 0,
 "worksheets": [
  {
   "cells": [
    {
     "cell_type": "heading",
     "level": 1,
     "metadata": {},
     "source": [
      "Chapter 8,Pipe Friction and Turbulent Flow"
     ]
    },
    {
     "cell_type": "heading",
     "level": 2,
     "metadata": {},
     "source": [
      "Example 8.4,Page 199"
     ]
    },
    {
     "cell_type": "code",
     "collapsed": false,
     "input": [
      "\n",
      "\n",
      "#variable declaration\n",
      "from math import pi\n",
      "import math\n",
      "rho =867.0; #kg /m^3\n",
      "Q =12.0/3600; #m^3/ s\n",
      "u =7.5*10**( -4) ; # Ns/m^2\n",
      "L =200.0; # m\n",
      "H =10.0; # m\n",
      "g =9.81; # m/ s ^2\n",
      "e=2.718;\n",
      "\n",
      "#calculation\n",
      "d=(H*2*g /(4*0.079*(4* rho *Q/pi/u)**( -0.25) *L *(4* Q/pi)**2) )**( -0.2105);\n",
      "d=round(d,4);\n",
      "Re =4* rho *Q/ pi /d/u;\n",
      "\n",
      "#result\n",
      "print\" Internal diameter of the pipe line (m)=\",round(d,5)\n",
      "print\"Re =\",round(Re,2)\n",
      "print(\"The value o f Reynolds number l i e s between 4000 and 10^5 , confirming the validity of using the Blasius equationfor smooth walled pipes\")"
     ],
     "language": "python",
     "metadata": {},
     "outputs": [
      {
       "output_type": "stream",
       "stream": "stdout",
       "text": [
        " Internal diameter of the pipe line (m)= 0.0505\n",
        "Re = 97152.8\n",
        "The value o f Reynolds number l i e s between 4000 and 10^5 , confirming the validity of using the Blasius equationfor smooth walled pipes\n"
       ]
      }
     ],
     "prompt_number": 1
    },
    {
     "cell_type": "heading",
     "level": 2,
     "metadata": {},
     "source": [
      "Example 8.5,Page 202"
     ]
    },
    {
     "cell_type": "code",
     "collapsed": false,
     "input": [
      "\n",
      "\n",
      "#variable declaration\n",
      "from math import pi\n",
      "import math\n",
      "m =40.0/60; # kg / s\n",
      "rho =873; #kg /m^3\n",
      "d =0.025; #m\n",
      "u =8.8*10** -4; # Ns/m^2\n",
      "dp =55.0*10**3; #N/m^2\n",
      "L =18; #m\n",
      "g =9.81; # m/ s ^2\n",
      "\n",
      "#calculation\n",
      "v2 =4*m/ rho / pi /d **2;\n",
      "Re=rho*v2*d/u;\n",
      "#using MOODY's Chart\n",
      "f =0.0055;\n",
      "H=dp/rho/g + v2 **2/2/ g + v2 **2/2/ g *(4* f*L/d +1.5) ;\n",
      "\n",
      "#result\n",
      "print \"The minimum allowable height (m) =\",round(H,3)\n"
     ],
     "language": "python",
     "metadata": {},
     "outputs": [
      {
       "output_type": "stream",
       "stream": "stdout",
       "text": [
        "The minimum allowable height (m) = 8.684\n"
       ]
      }
     ],
     "prompt_number": 2
    },
    {
     "cell_type": "heading",
     "level": 2,
     "metadata": {},
     "source": [
      "Example 8.6,Page 204"
     ]
    },
    {
     "cell_type": "code",
     "collapsed": false,
     "input": [
      "\n",
      "\n",
      "#variable declaration\n",
      "from math import pi\n",
      "import math\n",
      "Q =15.0/3600; # m^3/ s\n",
      "d =0.05; #m\n",
      "Rho =780.0;\n",
      "u =1.7*10**( -3) ; #Ns/m^2\n",
      "f =0.0065;\n",
      "L =100; #m\n",
      "g =9.8; #m^2/ s\n",
      "\n",
      "#calculation\n",
      "v =4* Q/ pi /d **2;\n",
      "del_pf =2*f* Rho *v**2*L/d;\n",
      "H_f =4* f*L*v **2/( d*2*g);\n",
      "H_exit =v **2/2/ g;\n",
      "H_entrance =v **2/4/ g;\n",
      "H= H_f+ H_exit + H_entrance ;\n",
      "\n",
      "#result\n",
      "print \"The pressure drop due to friction is (kN/m^2)\",round(del_pf,2)\n",
      "print \" and the difference in levels is (m)\",round(H,3)\n"
     ],
     "language": "python",
     "metadata": {},
     "outputs": [
      {
       "output_type": "stream",
       "stream": "stdout",
       "text": [
        "The pressure drop due to friction is (kN/m^2) 91324.16\n",
        " and the difference in levels is (m) 12.292\n"
       ]
      }
     ],
     "prompt_number": 3
    },
    {
     "cell_type": "heading",
     "level": 2,
     "metadata": {},
     "source": [
      "Example 8.7,Page 206"
     ]
    },
    {
     "cell_type": "code",
     "collapsed": false,
     "input": [
      "\n",
      "\n",
      "#variable declaration\n",
      "import math\n",
      "f =0.005;\n",
      "L =10; # m\n",
      "d =0.025; # m\n",
      "g =9.81; # m/ s ^2\n",
      "\n",
      "#Calculations\n",
      "# H L=4\u0003 f \u0003L/d\u0003v ^2/2/ g+0.5\u0003 v ^2/2/ g\n",
      "# H L=8.5\u0003 v ^2/2/ g\n",
      "# By Be r n o u l l i e q u a t i o n we g e t\n",
      "#H=2.62+9.5\u0003 v2 ^2/2/ g\n",
      "# Applying the Be r n o u l l i e q u a t i o n between the liquid surface and discharge point\n",
      "# H L=33.5\u0003 v2 ^2/2/ g\n",
      "#Solving above two we g e t\n",
      "H =2.62+9.5* v2 **2/2/ g;\n",
      "v2 =1.9; # m/ s\n",
      "Q= pi*d **2/4* v2;\n",
      "\n",
      "#result\n",
      "print\"Rate of flow (m^3/s)=\",round(Q,5)\n",
      "print\"The minimum allowable height(m) =\",round(H,3)\n"
     ],
     "language": "python",
     "metadata": {},
     "outputs": [
      {
       "output_type": "stream",
       "stream": "stdout",
       "text": [
        "Rate of flow (m^3/s)= 0.0009321875\n",
        "The minimum allowable height(m) = 4.36796126402\n"
       ]
      }
     ],
     "prompt_number": 16
    },
    {
     "cell_type": "heading",
     "level": 2,
     "metadata": {},
     "source": [
      "Example 8.8,Page 208"
     ]
    },
    {
     "cell_type": "code",
     "collapsed": false,
     "input": [
      "\n",
      "\n",
      "#variable declaration\n",
      "import math\n",
      "d_A =0.025; # m\n",
      "v_A =1.21; # m/ s\n",
      "d_B =0.05; # m\n",
      "v_B =1.71; # m/ s\n",
      "\n",
      "#calculation\n",
      "Q_A = pi *d_A **2* v_A /4;\n",
      "Q_B = pi *d_B **2* v_B /4;\n",
      "\n",
      "#result\n",
      "print \"The rate of flow through parallel pipes A is \",round(Q_A,5)\n",
      "print\"The rate of flow through parallel pipes B is (m^3/s)=\",round(Q_B,5);\n",
      "\n"
     ],
     "language": "python",
     "metadata": {},
     "outputs": [
      {
       "output_type": "stream",
       "stream": "stdout",
       "text": [
        "The rate of flow through parallel pipes A is  0.00059\n",
        "The rate of flow through parallel pipes B is (m^3/s)= 0.00336\n"
       ]
      }
     ],
     "prompt_number": 4
    },
    {
     "cell_type": "heading",
     "level": 2,
     "metadata": {},
     "source": [
      "Example 8.9,Page 210"
     ]
    },
    {
     "cell_type": "code",
     "collapsed": false,
     "input": [
      "\n",
      "\n",
      "#variable declaration\n",
      "from math import pi\n",
      "import math\n",
      "d2 =0.06; # m\n",
      "d1 =0.12; # m\n",
      "k =0.44;\n",
      "f =0.05;\n",
      "L1 =500; # m\n",
      "g =9.81; # m/ s ^2\n",
      "\n",
      "#Calcualtion\n",
      "# v1=d2 ^2/ d1 ^2\u0003 v2\n",
      "# H f=4\u0003 f \u0003L1 /16/ d\u0003 v2 ^2/2/ g\n",
      "# H c=k\u0003 v2 ^2/2/ g\n",
      "# H f=4\u0003 f \u0003L2/d\u0003 v2 ^2/2/ g\n",
      "# H_exit=v2 ^2/2/ g\n",
      "v2= math.sqrt (30*2* g /173.4);\n",
      "Q= pi*d2 **2/4* v2;\n",
      "\n",
      "#result\n",
      "print\"The rate of flow (m^3/s) =\",round(Q,5)\n"
     ],
     "language": "python",
     "metadata": {},
     "outputs": [
      {
       "output_type": "stream",
       "stream": "stdout",
       "text": [
        "The rate of flow (m^3/s) = 0.00521\n"
       ]
      }
     ],
     "prompt_number": 5
    },
    {
     "cell_type": "heading",
     "level": 2,
     "metadata": {},
     "source": [
      "Example 8.10,Page 212"
     ]
    },
    {
     "cell_type": "code",
     "collapsed": false,
     "input": [
      "\n",
      "\n",
      "#variable declaration\n",
      "import math\n",
      "m =12.0*10**3/3600; #kg / s\n",
      "Rho =815; #kg /m^3\n",
      "d =0.05; #m\n",
      "e =0.02;\n",
      "d1 =50; # m\n",
      "d2 =0.038; # m\n",
      "g =9.8; #m\n",
      "\n",
      "#calculation\n",
      "v =4* m/ Rho / pi /d**2;\n",
      "f1 =1/(2* math.log (d1/e,10) +2.28) **2;\n",
      "L_eq =d1 +2* d1*d;\n",
      "H_50mm =4* f1* L_eq *v **2/( d *2* g);\n",
      "v =4* m/( Rho * pi *d2 **2) ;\n",
      "f2 =1/(2* math.log (38/ e,10) +2.28) **2;\n",
      "L_eq =d1 +2* d1*d2;\n",
      "H_38mm =4* f2* L_eq *v **2/( d2 *2* g);\n",
      "Hr =0.2* v **2/(2* g);\n",
      "H_L = H_50mm + H_38mm +Hr;\n",
      "del_p_f =Rho*g* H_L ;\n",
      "\n",
      "#result\n",
      "print \"The total pressure drop due to friction through the pipe system is (N/m^2) =\",round(del_p_f,3)\n"
     ],
     "language": "python",
     "metadata": {},
     "outputs": [
      {
       "output_type": "stream",
       "stream": "stdout",
       "text": [
        "The total pressure drop due to friction through the pipe system is (N/m^2) = 479792.576\n"
       ]
      }
     ],
     "prompt_number": 6
    },
    {
     "cell_type": "heading",
     "level": 2,
     "metadata": {},
     "source": [
      "Example 8.11,Page 214"
     ]
    },
    {
     "cell_type": "code",
     "collapsed": false,
     "input": [
      "\n",
      "#variable declaration\n",
      "import math\n",
      "#H L=1.2\u0003 v ^2/2/ g\n",
      "# H L=4\u0003 f \u0003 L eq /d\u0003V^2/2/ g\n",
      "# L eq=60\u0003d\n",
      "# H L=240\u0003 f \u0003v ^2/2/ g\n",
      "# Combining the two e q u a t i o n s f o r head l o s s\n",
      "# 1.2\u0003v^2/2/ g=240\u0003 f_\u0003v^2/2/ g\n",
      "\n",
      "f =1.2/240;\n",
      "print \" Friction factor =\",round(f,3)\n"
     ],
     "language": "python",
     "metadata": {},
     "outputs": [
      {
       "output_type": "stream",
       "stream": "stdout",
       "text": [
        " Friction factor = 0.005\n"
       ]
      }
     ],
     "prompt_number": 7
    },
    {
     "cell_type": "heading",
     "level": 2,
     "metadata": {},
     "source": [
      "Example 8.12,Page 216"
     ]
    },
    {
     "cell_type": "code",
     "collapsed": false,
     "input": [
      "\n",
      "#variable declaration\n",
      "import math\n",
      "# dp AB+dp BC=dp AD+dp DC\n",
      "# dp AD=2\u0003 f \u0003 rho \u0003v ^2\u0003L/d\n",
      "# dp AD=16600\u0003(3_Q) ^2\n",
      "# Li k ewi s e\n",
      "# dp AB=16600\u0003Q^2\n",
      "# dp BC=16600\u0003(Q+0.5) ^2\n",
      "# dp DC=16600\u0003(2.1_Q) ^2\n",
      "#By s o l v i n g above 5 e qu a t i o ns , we g e t\n",
      "Q =1.175; # litres per second\n",
      "\n",
      "#Calculation\n",
      "dp_AD =16600*(3 - Q) **2;\n",
      "dp_AB =16600* Q**2;\n",
      "dp_BC =16600*( Q +0.5) **2;\n",
      "dp_DC =16600*(2.1 - Q) **2;\n",
      "\n",
      "print\"The rate of flow from B to C (l/s)=\",round(Q+0.5,3)\n",
      "print \"dp_AD(kN/m^2 =\",round(dp_AD/1000,3);\n",
      "print\"dp AB (kN/m^2)=\",round(dp_AB/1000,3);\n",
      "print\"dp BC(kN/m^2) =\",round(dp_BC/1000,3);\n",
      "print\"dp DC (kN/m^2)=\",round(dp_DC/1000,3);\n",
      "print\"The lowest pressure is in the pipe coneecting C and D\""
     ],
     "language": "python",
     "metadata": {},
     "outputs": [
      {
       "output_type": "stream",
       "stream": "stdout",
       "text": [
        "The rate of flow from B to C (l/s)= 1.675\n",
        "dp_AD(kN/m^2 = 55.288\n",
        "dp AB (kN/m^2)= 22.918\n",
        "dp BC(kN/m^2) = 46.573\n",
        "dp DC (kN/m^2)= 14.203\n",
        "The lowest pressure is in the pipe coneecting C and D\n"
       ]
      }
     ],
     "prompt_number": 8
    },
    {
     "cell_type": "heading",
     "level": 2,
     "metadata": {},
     "source": [
      "Example 8.13,Page 221"
     ]
    },
    {
     "cell_type": "code",
     "collapsed": false,
     "input": [
      "\n",
      "\n",
      "#variable declaration\n",
      "from math import pi\n",
      "import math\n",
      "from scipy import integrate\n",
      "H2 =0.5; #m\n",
      "H1 =2.0; #m\n",
      "A =4.0; #m^2\n",
      "f =0.005;\n",
      "L =20.0; #m\n",
      "d =0.025; #m\n",
      "g =9.81; # m/ s ^2\n",
      "\n",
      "#calculation\n",
      "a= pi *d **2/4;\n",
      "c=A*math.sqrt( 4*f*L/d  +2.5)/a/math.sqrt(2*g); # constant term of integration\n",
      "def integrand(H,c):\n",
      "    return -c*(H)**(-0.5)\n",
      "#integrate function '-A\u0003*sqrt ( ( 4*f \u0003L/d ) +2.5) / a /( sqrt(2\u0003*g ) )* \u0003(H) ^(-1/2)\n",
      "#f=lambda H:-4*1978.18*H**(-0.5);\n",
      "\n",
      "\n",
      "t=integrate.quad(integrand,H1,H2,args=(c))\n",
      "                 \n",
      "#result\n",
      "print \"Time taken (s)=\",round(t[0],2)"
     ],
     "language": "python",
     "metadata": {},
     "outputs": [
      {
       "output_type": "stream",
       "stream": "stdout",
       "text": [
        "Time taken (s)= 11190.29\n"
       ]
      }
     ],
     "prompt_number": 39
    },
    {
     "cell_type": "heading",
     "level": 2,
     "metadata": {},
     "source": [
      "Example 8.14,Page 223"
     ]
    },
    {
     "cell_type": "code",
     "collapsed": false,
     "input": [
      "\n",
      "#variable decleration\n",
      "from math import pi\n",
      "d0 =0.15; # m\n",
      "d1 =0.1; #m\n",
      "Q =50.0/3600; # m^3/ s\n",
      "f =0.0052;\n",
      "Rho =972;\n",
      "\n",
      "\n",
      "#calculation\n",
      "a= pi /4*(( d0)**2 -( d1) **2) ;\n",
      "P= pi *(( d0)+( d1));\n",
      "d_eq =4*a/P;\n",
      "v=Q/a;\n",
      "del_p_f =2*f* Rho *v**2/ d_eq ;\n",
      "\n",
      "#result\n",
      "print\" the pressure drop due to friction per metre lenfth of tube is found to be(Nm^2/m)\",round(del_p_f,3)\n"
     ],
     "language": "python",
     "metadata": {},
     "outputs": [
      {
       "output_type": "stream",
       "stream": "stdout",
       "text": [
        " the pressure drop due to friction per metre lenfth of tube is found to be(Nm^2/m) 404.636\n"
       ]
      }
     ],
     "prompt_number": 12
    },
    {
     "cell_type": "heading",
     "level": 2,
     "metadata": {},
     "source": [
      "Example 8.15,Page 225"
     ]
    },
    {
     "cell_type": "code",
     "collapsed": false,
     "input": [
      "\n",
      "\n",
      "#variable decleration\n",
      "from math import pi\n",
      "from scipy import integrate\n",
      "f =0.005;\n",
      "Q =0.07; #m^3/ s\n",
      "g =9.81; #m/ s ^2\n",
      "L=3;\n",
      "\n",
      "#calculation\n",
      "u=0.3-0.0666*L;\n",
      "def integrand(l,f,Q,g,u):\n",
      "    return 32*f*Q**2/pi**2/g*(0.3-0.0666*l)**-5    \n",
      "\n",
      "H_f=integrate.quad(integrand,0,3,args=(f,Q,g,u));\n",
      "H_f=round(H_f[0],1)\n",
      "\n",
      "#result\n",
      "print\" Fractional head loss(m) =\",H_f\n"
     ],
     "language": "python",
     "metadata": {},
     "outputs": [
      {
       "output_type": "stream",
       "stream": "stdout",
       "text": [
        " Fractional head loss(m) = 0.3\n"
       ]
      }
     ],
     "prompt_number": 3
    },
    {
     "cell_type": "heading",
     "level": 2,
     "metadata": {},
     "source": [
      "Example 8.16,Page 228"
     ]
    },
    {
     "cell_type": "code",
     "collapsed": false,
     "input": [
      "\n",
      "from math import pi\n",
      "import math\n",
      "g =9.81; # m/ s ^2\n",
      "H =4; # m\n",
      "f =0.006;\n",
      "L =50; # m\n",
      "d =0.1; # m\n",
      "e=2.718;\n",
      "\n",
      "\n",
      "#calculation\n",
      "v1= math.sqrt (2* g*H /(4* f*L/d + 13) );\n",
      "v2=0.99*v1;\n",
      "t=2/v1*math.log((v1+v2)/(v1-v2),e)\n",
      "\n",
      "#result\n",
      "print\"Time taken (s)=\",round(t,2)\n"
     ],
     "language": "python",
     "metadata": {},
     "outputs": [
      {
       "output_type": "stream",
       "stream": "stdout",
       "text": [
        "Time taken (s)= 5.98\n"
       ]
      }
     ],
     "prompt_number": 14
    },
    {
     "cell_type": "code",
     "collapsed": false,
     "input": [],
     "language": "python",
     "metadata": {},
     "outputs": []
    }
   ],
   "metadata": {}
  }
 ]
}