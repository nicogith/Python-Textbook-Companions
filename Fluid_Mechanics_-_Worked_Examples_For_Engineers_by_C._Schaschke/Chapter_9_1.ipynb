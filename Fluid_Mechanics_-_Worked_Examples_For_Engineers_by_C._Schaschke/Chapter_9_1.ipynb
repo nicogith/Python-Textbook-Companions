{
 "metadata": {
  "name": "",
  "signature": "sha256:8db0dc01c526205f6578e94b8a174e884a60249a5154cf023d12bae195b0ba58"
 },
 "nbformat": 3,
 "nbformat_minor": 0,
 "worksheets": [
  {
   "cells": [
    {
     "cell_type": "heading",
     "level": 1,
     "metadata": {},
     "source": [
      "Chapter 9,Pumps"
     ]
    },
    {
     "cell_type": "heading",
     "level": 2,
     "metadata": {},
     "source": [
      "Example 9.2 (part1 and part2), Page 239"
     ]
    },
    {
     "cell_type": "code",
     "collapsed": false,
     "input": [
      "\n",
      "import math\n",
      "\n",
      "#Variable Declaration\n",
      "d =0.1; # m\n",
      "v_r =2; # m/ s\n",
      "f =0.005;\n",
      "g =9.81; #m/ s ^2\n",
      "pi=3.14;\n",
      "L_s =2; #m\n",
      "L_r =10; # m\n",
      "Q1 =1.1*10**( -2) ; #m^3/ s\n",
      "z_t =12; #m\n",
      "z_s=5 #m\n",
      "L1 =20; #m\n",
      "\n",
      "#Calculation\n",
      "Q= math.pi*d**2/4*v_r ;\n",
      "H =12-70*Q-4300*Q*Q ;\n",
      "k =2*g*H/ v_r/v_r-(4*f*( L_s +L_r)/d)-1;\n",
      "\n",
      "#result\n",
      "print\"The head loss across the restriction orifice (in terms of velocity head)\",round(k,3) \n",
      "\n",
      "#Part2\n",
      "#Finding System Head and Delivered Head\n",
      "# For the case of the valve being fully open\n",
      "\n",
      "#calculation\n",
      "v_t =4*Q1/math.pi/d**2;\n",
      "v_r =((2*g*( z_t-z_s )+(4*f*L1/d+1)*v_t**2) /(4*f*L_r/d+k+1))**(0.5) ;\n",
      "H1 =4*f* L_r /d*v_r**2/2/ g + 4*f* L_s /d*( v_r**2+ v_t**2) /2/g+k* v_r**2/2/ g + v_r**2/2/ g;\n",
      "Q= math.pi*d**2/4*( v_t+ v_r );\n",
      "H2 =12 -70*Q -4300* Q**2;\n",
      "\n",
      "#result\n",
      "print\" System head(m)=\",round(H1,3)\n",
      "print\" Delivered head(m)=\",round(H2,3)\n",
      "print\"The delivered head therefore closely matches the system head at the flow rate of 1.1*\u000310^( -2) m^3/ s\"\n"
     ],
     "language": "python",
     "metadata": {},
     "outputs": [
      {
       "output_type": "stream",
       "stream": "stdout",
       "text": [
        "The head loss across the restriction orifice (in terms of velocity head) 44.863\n",
        " System head(m)= 7.603\n",
        " Delivered head(m)= 7.628\n",
        "The delivered head therefore closely matches the system head at the flow rate of 1.1*\u000310^( -2) m^3/ s\n"
       ]
      }
     ],
     "prompt_number": 3
    },
    {
     "cell_type": "heading",
     "level": 2,
     "metadata": {},
     "source": [
      "Example 9.6, Page 247"
     ]
    },
    {
     "cell_type": "code",
     "collapsed": false,
     "input": [
      "\n",
      "\n",
      "from math import pi\n",
      "#Variable Declaration\n",
      "NPSH =5; # m\n",
      "p_v =18*10**3; # N/m^2\n",
      "p_l =0.94*101.3*10**3; # N/m^2\n",
      "rho =970;#kg /m^3\n",
      "g =9.81; # m/ s ^2\n",
      "z_s =3; # m\n",
      "H_L =0.5; # m\n",
      "d =3; # m\n",
      "h =2.5; # m\n",
      "Q =5; #m^3/h\n",
      "\n",
      "#calculation\n",
      "z1= NPSH +( p_v -p_l)/ rho /g + z_s + H_L ;\n",
      "V= pi /4*d**2*(h-z1);\n",
      "t=V/Q;\n",
      "\n",
      "#result\n",
      "print\"Quantity of liquid delivered (m^3)=\",round(V,2)\n",
      "print\"Time taken (h)=\",round(t,2) \n"
     ],
     "language": "python",
     "metadata": {},
     "outputs": [
      {
       "output_type": "stream",
       "stream": "stdout",
       "text": [
        "Quantity of liquid delivered (m^3)= 14.95\n",
        "Time taken (h)= 2.99\n"
       ]
      }
     ],
     "prompt_number": 4
    },
    {
     "cell_type": "heading",
     "level": 2,
     "metadata": {},
     "source": [
      "Example 9.8,Page 251"
     ]
    },
    {
     "cell_type": "code",
     "collapsed": false,
     "input": [
      "\n",
      "\n",
      "#variable Declaration\n",
      "N_s =0.14; #m^ ( 3 / 4 ) s ^(-3/2)\n",
      "H =30; #m\n",
      "p_v =7.38*10**3; #N/m^2\n",
      "p_l =50*10**3; #N/m^2\n",
      "rho =992; #kg /m^3\n",
      "g =9.81; #m/ s ^2\n",
      "H_L =0.2; #m\n",
      "\n",
      "#calculation\n",
      "NPSH =2.8* N_s **(1.33) *H;\n",
      "z1= NPSH +( p_v -p_l)/ rho /g+H_L;\n",
      "\n",
      "#result\n",
      "print\"The minimum level of the alarm (m)=\",round(z1,3)\n"
     ],
     "language": "python",
     "metadata": {},
     "outputs": [
      {
       "output_type": "stream",
       "stream": "stdout",
       "text": [
        "The minimum level of the alarm (m)= 1.967\n"
       ]
      }
     ],
     "prompt_number": 5
    },
    {
     "cell_type": "heading",
     "level": 2,
     "metadata": {},
     "source": [
      "Example 9.10,Page 255"
     ]
    },
    {
     "cell_type": "code",
     "collapsed": false,
     "input": [
      "\n",
      "%matplotlib inline\n",
      "#Vabiable Declaration\n",
      "import numpy as np\n",
      "from pylab import *\n",
      "dz =10; #z2-z1\n",
      "g =9.81; #m/ s ^2\n",
      "d =0.05; #m\n",
      "f =0.005;\n",
      "L =100; #m\n",
      "N1 =1200; #rpm\n",
      "\n",
      "# H=z2-z1+16\u0003Q^2/2/ g /%pi ^2/d ^4\u0003(4\u0003 f \u0003L/d+1)\n",
      "# H=10+5.42\u000310^5\u0003Q^2\n",
      "\n",
      "#Calculation\n",
      "Q =[0.000, 0.002, 0.004, 0.006, 0.008, 0.010];\n",
      "H_p =[40.0, 39.5, 38.0, 35.0, 30.0, 20.0];\n",
      "H_s =[10.0, 12.2, 18.7, 29.5, 44.7, 64.2];\n",
      "figure()\n",
      "plot (Q,H_p , 'b')\n",
      "plot (Q,H_s , 'r')\n",
      "xlabel('FLOW (m^3/s)')\n",
      "ylabel('HEAD (m)')\n",
      "title('system and pump')\n",
      "#xtitle (\" \" , \"Flow\" , \"Head\")\n",
      "#legend (\"pump\" , \" system\")\n",
      "a =[0.0066, 0.0066];\n",
      "b =[0, 33.8];\n",
      "\n",
      "plot (a,b)\n",
      "e =[0, 0.0066];\n",
      "f =[33.8, 33.8];\n",
      "plot (e,f)\n",
      "i =[0.0049, 0.0049];\n",
      "h =[0, 23];\n",
      "\n",
      "plot (i,h)\n",
      "l =[0, 0.00495];\n",
      "m =[23, 23];\n",
      "plot (l,m)\n",
      "show()\n",
      "\n",
      "#From graph\n",
      "H1 =34.0; #m\n",
      "H2 =23.0; # m\n",
      "Q1 =0.0066; #m^3/ s\n",
      "Q2 =0.00495; #m^3/ s\n",
      "N2=N1 *( H2/H1)**(0.5) ;\n",
      "\n",
      "#result\n",
      "print \"Duty point(m^3/s) =\",round(Q1,4)\n",
      "print \"The speed of the pump to reduce the flow by 25% =\",round(N2,3)\n",
      "\n",
      "\n",
      "\n",
      "\n"
     ],
     "language": "python",
     "metadata": {},
     "outputs": [
      {
       "output_type": "stream",
       "stream": "stdout",
       "text": [
        "\n",
        "Welcome to pylab, a matplotlib-based Python environment [backend: module://IPython.zmq.pylab.backend_inline].\n",
        "For more information, type 'help(pylab)'.\n"
       ]
      },
      {
       "metadata": {},
       "output_type": "display_data",
       "png": "[encoded data removed]"
      },
      {
       "output_type": "stream",
       "stream": "stdout",
       "text": [
        "Duty point(m^3/s) = 0.0066\n",
        "The speed of the pump to reduce the flow by 25% = 986.974\n"
       ]
      }
     ],
     "prompt_number": 6
    },
    {
     "cell_type": "heading",
     "level": 2,
     "metadata": {},
     "source": [
      "Example 9.11,Page 257"
     ]
    },
    {
     "cell_type": "code",
     "collapsed": false,
     "input": [
      "\n",
      "\n",
      "#Varable Declaration\n",
      "Q =0.05; # m^3/ s\n",
      "v =2; # m/ s\n",
      "f =0.005;\n",
      "L_s =5; # m\n",
      "d =0.178; #m\n",
      "g =9.81; # m/ s ^2\n",
      "L_d =20; # m\n",
      "p2 =1.5*10**5; # N/m^2\n",
      "p1 =0.5*10**5; # N/m^2\n",
      "rho =1000; # kg /m^3\n",
      "z2 =15; # m\n",
      "z1 =5; # m\n",
      "N1 =1500.0/60; # rps\n",
      "pi=3.14;\n",
      "Q =[0, 5, 10, 15, 20, 25];\n",
      "H =[9.25, 8.81, 7.85, 6.48, 4.81, 2.96];\n",
      "P=[- 0.96, 1.03, 1.19, 1.26, 1.45];\n",
      "n1 =[0, 45, 75, 800, 75, 50];\n",
      "H =27.96; #m\n",
      "H1 =6.48; #m\n",
      "Q1 =0.015; #m^3/ s\n",
      "Q =0.05; #m^3/ s\n",
      "D1 =0.15; #m\n",
      "n =0.80;\n",
      "\n",
      "#calculation\n",
      "d =(4* Q/ pi /v)**(0.5) ;\n",
      "H_f_s =4* f* L_s /d*v **2/2/ g;\n",
      "H_f_d =4* f* L_d /d*v **2/2/ g;\n",
      "H =1/(1 -0.25) *(( p2 -p1)/ rho /g + v **2/2/ g + z2 - z1 +H_f_s + H_f_d );\n",
      "# n=rho \u0003g\u0003Q\u0003H/P\n",
      "N=N1 *(H/H1) **(0.75) *( Q1/Q) **(0.5) ;\n",
      "D=D1 *(Q*N1/Q1/N)**(0.2) ;\n",
      "P= rho *g*Q*H/n;\n",
      "\n",
      "#result\n",
      "print \" Differential Head (m) =\",round(H,3);\n",
      "print \"impeller diameter (m)=\",round(D,3)\n",
      "print \"The rotational speed at maximum efficiency (rps)=\",round(N,3)\n",
      "print \"Power input to the pump (W)=\",round(P,3)\n"
     ],
     "language": "python",
     "metadata": {},
     "outputs": [
      {
       "output_type": "stream",
       "stream": "stdout",
       "text": [
        " Differential Head (m) = 27.958\n",
        "impeller diameter (m)= 0.173\n",
        "The rotational speed at maximum efficiency (rps)= 40.992\n",
        "Power input to the pump (W)= 17141.964\n"
       ]
      }
     ],
     "prompt_number": 10
    },
    {
     "cell_type": "heading",
     "level": 2,
     "metadata": {},
     "source": [
      "Example 9.12,Page 259"
     ]
    },
    {
     "cell_type": "code",
     "collapsed": false,
     "input": [
      "\n",
      "\n",
      "#Variable Declaration\n",
      "N =2000.0/60; #rps\n",
      "Q =50.0/3600; #m^3/ s\n",
      "g =9.81; #m/ s ^2\n",
      "H =5.0; #m\n",
      "\n",
      "#Calculation\n",
      "S_n =N*Q **(0.5) /(g)**(0.75)/(H) **(0.75) ;\n",
      "\n",
      "#result\n",
      "print \" Suction specific speed =\",round(S_n,3)\n"
     ],
     "language": "python",
     "metadata": {},
     "outputs": [
      {
       "output_type": "stream",
       "stream": "stdout",
       "text": [
        " Suction specific speed = 0.212\n"
       ]
      }
     ],
     "prompt_number": 8
    },
    {
     "cell_type": "heading",
     "level": 2,
     "metadata": {},
     "source": [
      "Example 9.14,Page 264"
     ]
    },
    {
     "cell_type": "code",
     "collapsed": false,
     "input": [
      "\n",
      "# Variable Declaration\n",
      "A =0.01; #m^2\n",
      "L =0.3; # m\n",
      "N =60/60; # rps\n",
      "V_act =10.6/3600; # m^3/ s\n",
      "rho =1000; # kg /m^3\n",
      "g =9.81; # m/ s ^2\n",
      "Q =10.6/3600; # m^3/ s\n",
      "H =15; # m\n",
      "\n",
      "#calculation\n",
      "V=A*L*N;\n",
      "Cd= V_act /V;\n",
      "P= rho *g*Q*H;\n",
      "\n",
      "#result\n",
      "print \" Coeff. of Discharge =\",round(Cd,2)\n",
      "print \"The power required (W)=\",round(P,3)\n"
     ],
     "language": "python",
     "metadata": {},
     "outputs": [
      {
       "output_type": "stream",
       "stream": "stdout",
       "text": [
        " Coeff. of Discharge = 0.98\n",
        "The power required (W)= 433.275\n"
       ]
      }
     ],
     "prompt_number": 9
    },
    {
     "cell_type": "code",
     "collapsed": false,
     "input": [],
     "language": "python",
     "metadata": {},
     "outputs": []
    }
   ],
   "metadata": {}
  }
 ]
}