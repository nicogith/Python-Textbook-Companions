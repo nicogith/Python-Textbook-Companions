{
 "metadata": {
  "name": "",
  "signature": "sha256:9d2bc1b337823a33d27dffeb338a599749ddc3b72fed4860934dfca72c26b017"
 },
 "nbformat": 3,
 "nbformat_minor": 0,
 "worksheets": [
  {
   "cells": [
    {
     "cell_type": "heading",
     "level": 1,
     "metadata": {},
     "source": [
      "Chapter 7,Open channels notches and Weirs"
     ]
    },
    {
     "cell_type": "heading",
     "level": 2,
     "metadata": {},
     "source": [
      "Example 7.2,Page 171"
     ]
    },
    {
     "cell_type": "code",
     "collapsed": false,
     "input": [
      "\n",
      "#variable decleration\n",
      "import math\n",
      "l =1; # m\n",
      "b =0.3; # m\n",
      "n =0.014; # s /m^ ( 1 / 3 )\n",
      "i =1.0/1000;\n",
      "\n",
      "#calculations\n",
      "A=l*b;\n",
      "P =2* b+l;\n",
      "m=A/P;\n",
      "Q=A/n*m **(0.67) * math.sqrt (i);\n",
      "\n",
      "#results\n",
      "print\"The delivery of water through the channel is found to be (m^3/s)= \",round(Q,3)\n"
     ],
     "language": "python",
     "metadata": {},
     "outputs": [
      {
       "output_type": "stream",
       "stream": "stdout",
       "text": [
        "The delivery of water through the channel is found to be (m^3/s)=  0.221\n"
       ]
      }
     ],
     "prompt_number": 13
    },
    {
     "cell_type": "heading",
     "level": 2,
     "metadata": {},
     "source": [
      "Example 7.3 Page 173"
     ]
    },
    {
     "cell_type": "code",
     "collapsed": false,
     "input": [
      "\n",
      "%matplotlib inline\n",
      "#variable decleration\n",
      "import math\n",
      "import numpy as np\n",
      "from pylab import *\n",
      "n =0.015; #m^(-1/3) s\n",
      "i =1;\n",
      "H =[4.0, 4.1, 4.2, 4.13];\n",
      "\n",
      "#calculation\n",
      "A =12* H[0];\n",
      "P =12+2* H[0];\n",
      "m=A/P;\n",
      "C=m **(0.167) /n;\n",
      "Q=C*A* math.sqrt (m*i);\n",
      "#An analytical soln for depth H is not possible.It is so necessary to use a graphical soution\n",
      "#The corresponding values of A, P, MHD (m) , Q are given below as taken from values of H\n",
      "\n",
      "A =[48, 49.2, 50.4, 49.56];\n",
      "P =[20, 20.2, 20.4, 20.26];\n",
      "m =[2.4, 2.44, 2.47, 2.45];\n",
      "Q =[57.36, 59.38, 61.39, 59.98];\n",
      "figure()\n",
      "plot (H,Q,'g')\n",
      "r =[4.13, 4.13];\n",
      "s =[57, 60];\n",
      "plot (r,s, ' r ' )\n",
      "t =[4, 4.13];\n",
      "u =[60, 60];\n",
      "plot (t,u, ' y ' )\n",
      "xlabel('Depth (H)')\n",
      "ylabel('Flow Rate')\n",
      "title('Depth vs Flow Rate')\n",
      "show()\n",
      "# So, the depth is found to be approx. 4.13\n",
      "depth =4.13; #m\n",
      "C1 =(2.45) **(0.167) /n;\n",
      "\n",
      "#results\n",
      "print\"Depth(m) = \",round(depth,3)\n",
      "print\"Chezy Coeff. =\",round(C1,3)\n"
     ],
     "language": "python",
     "metadata": {},
     "outputs": [
      {
       "output_type": "stream",
       "stream": "stdout",
       "text": [
        "\n",
        "Welcome to pylab, a matplotlib-based Python environment [backend: module://IPython.zmq.pylab.backend_inline].\n",
        "For more information, type 'help(pylab)'.\n"
       ]
      },
      {
       "metadata": {},
       "output_type": "display_data",
       "png": "[encoded data removed]"
      },
      {
       "output_type": "stream",
       "stream": "stdout",
       "text": [
        "Depth(m) =  4.13\n",
        "Chezy Coeff. = 77.428\n"
       ]
      }
     ],
     "prompt_number": 15
    },
    {
     "cell_type": "heading",
     "level": 2,
     "metadata": {},
     "source": [
      "Example 7.4,Page 175"
     ]
    },
    {
     "cell_type": "code",
     "collapsed": false,
     "input": [
      "\n",
      "#variable decleration\n",
      "import math\n",
      "Q =300.0/60; # m^3/ s\n",
      "i =1.0/1600;\n",
      "\n",
      "#calculation\n",
      "H=(Q /140* math.sqrt (2/ i)) **(0.67) ;\n",
      "A =2* H**2;\n",
      "\n",
      "#result\n",
      "print \"The minimum flow area is found to be(m^2)= \",round(A,3)\n"
     ],
     "language": "python",
     "metadata": {},
     "outputs": [
      {
       "output_type": "stream",
       "stream": "stdout",
       "text": [
        "The minimum flow area is found to be(m^2)=  5.132\n"
       ]
      }
     ],
     "prompt_number": 16
    },
    {
     "cell_type": "heading",
     "level": 2,
     "metadata": {},
     "source": [
      "Example 7.5,Page 177"
     ]
    },
    {
     "cell_type": "code",
     "collapsed": false,
     "input": [
      "\n",
      "\n",
      "%matplotlib inline\n",
      "#variable decleration\n",
      "from math import pi\n",
      "import math\n",
      "import numpy as np\n",
      "from pylab import *\n",
      "d =0.9144; # m\n",
      "C =100; # m^ ( 1 / 2 ) s ^(-1)\n",
      "R=d/2;\n",
      "H =[0.1, 0.15, 0.2, 0.25, 0.201];\n",
      "\n",
      "\n",
      "#calculations\n",
      "theta = math.acos ((R-H[0])/R);\n",
      "A=R **2*( theta -math.sin (2* theta )/2);\n",
      "P =2* R* theta ;\n",
      "m=A/P;\n",
      "#An analytical soln for depth H is not possible.It is so necessary to use a graphical soution\n",
      "#The corresponding values of A, P, MHD (m) , Q are given below as taken from values of H\n",
      "\n",
      "\n",
      "theta =[0.674, 0.834, 0.973, 1.101, 0.975];\n",
      "A =[0.039, 0.070, 0.106, 0.146, 0.107];\n",
      "P =[0.616, 0.763, 0.890, 1.006, 0.891];\n",
      "m =[0.063, 0.092, 0.119,0.145,0.120];\n",
      "Q =[248.7, 543.2, 932.2 ,1412.9, 940.0];\n",
      "figure()\n",
      "plot (H,Q,)\n",
      "xlabel('Depth H')\n",
      "ylabel('Flow Rate')\n",
      "title('Depth Vs Flow Rate');\n",
      "i =[0.201, 0.201];\n",
      "j =[0 ,940];\n",
      "plot (i,j)\n",
      "k =[0, 0.201];\n",
      "l  =[940, 940];\n",
      "plot (k,l)\n",
      "show()\n",
      "# So, the depth is found to be approx. 0.201\n",
      "Depth =0.201; # m\n",
      "\n",
      "#result\n",
      "print\"The depth in the channel(m) =\",round(Depth,3)\n"
     ],
     "language": "python",
     "metadata": {},
     "outputs": [
      {
       "output_type": "stream",
       "stream": "stdout",
       "text": [
        "\n",
        "Welcome to pylab, a matplotlib-based Python environment [backend: module://IPython.zmq.pylab.backend_inline].\n",
        "For more information, type 'help(pylab)'.\n"
       ]
      },
      {
       "metadata": {},
       "output_type": "display_data",
       "png": "[encoded data removed]"
      },
      {
       "output_type": "stream",
       "stream": "stdout",
       "text": [
        "The depth in the channel(m) = 0.201\n"
       ]
      }
     ],
     "prompt_number": 9
    },
    {
     "cell_type": "heading",
     "level": 2,
     "metadata": {},
     "source": [
      "Example 7.7,Page 180"
     ]
    },
    {
     "cell_type": "code",
     "collapsed": false,
     "input": [
      "\n",
      "#variable decleration\n",
      "import math\n",
      "Cd =0.56;\n",
      "B =1.2; # m\n",
      "g =9.8; # m/ s ^2\n",
      "H =0.018; # m\n",
      "\n",
      "\n",
      "#calcualtion\n",
      "Q =2.0/3* Cd*B* math.sqrt (2*g)*H **(1.5) ;\n",
      "\n",
      "#results\n",
      "print \"The rate of flow of liquid over the weir is (m^3/s)=\",round(Q,4)\n"
     ],
     "language": "python",
     "metadata": {},
     "outputs": [
      {
       "output_type": "stream",
       "stream": "stdout",
       "text": [
        "The rate of flow of liquid over the weir is (m^3/s)= 0.0048\n"
       ]
      }
     ],
     "prompt_number": 10
    },
    {
     "cell_type": "heading",
     "level": 2,
     "metadata": {},
     "source": [
      "Example 7.8,Page 182"
     ]
    },
    {
     "cell_type": "code",
     "collapsed": false,
     "input": [
      "\n",
      "\n",
      "#variable decleration\n",
      "from math import pi\n",
      "import math\n",
      "H2 =5.5;\n",
      "Q1 =217.0;\n",
      "Q2 =34.0;\n",
      "H1 =8.5;\n",
      "\n",
      "#calculation\n",
      "H0 =( H2 *( Q1/Q2) **(0.67) -H1)/(( Q1/Q2) **(0.67) -1);\n",
      "\n",
      "#result\n",
      "print\"The height of the weir crest above the surface of the river is found to be(m)\",round(H0,2)\n"
     ],
     "language": "python",
     "metadata": {},
     "outputs": [
      {
       "output_type": "stream",
       "stream": "stdout",
       "text": [
        "The height of the weir crest above the surface of the river is found to be(m) 4.28\n"
       ]
      }
     ],
     "prompt_number": 5
    },
    {
     "cell_type": "heading",
     "level": 2,
     "metadata": {},
     "source": [
      "Example 7.9,Page 184"
     ]
    },
    {
     "cell_type": "code",
     "collapsed": false,
     "input": [
      "\n",
      "\n",
      "#variable decleration\n",
      "from math import pi\n",
      "from scipy import integrate\n",
      "import math\n",
      "H =0.07; # a v e r a g e head\n",
      "rate = -0.02/600; # (dH/ dt )\n",
      "H1 =0.08; # m\n",
      "H2 =0.01; # m\n",
      "\n",
      "\n",
      "#calculation\n",
      "k=- rate /H **(1.5) ;\n",
      "def integrand(H,k):\n",
      "    return -1/k*H**(-1.5);\n",
      "\n",
      "t=integrate.quad(integrand,H1,H2,args=(k))\n",
      "\n",
      "#result\n",
      "print \"Time taken (s) =\",round(t[0],2);\n"
     ],
     "language": "python",
     "metadata": {},
     "outputs": [
      {
       "output_type": "stream",
       "stream": "stdout",
       "text": [
        "Time taken (s) = 7183415.25\n"
       ]
      }
     ],
     "prompt_number": 18
    },
    {
     "cell_type": "heading",
     "level": 2,
     "metadata": {},
     "source": [
      "Example 7.10,Page 186"
     ]
    },
    {
     "cell_type": "code",
     "collapsed": false,
     "input": [
      "\n",
      "\n",
      "#variable decleration\n",
      "import math\n",
      "Cd =0.62;\n",
      "g =9.81; # m/ s ^2\n",
      "H =0.03; # m\n",
      "\n",
      "#calculations\n",
      "Q =8.0/15* Cd* math.sqrt (2*g)*H **(2.5) ;\n",
      "\n",
      "#results\n",
      "print\"Rate of flow (m^3/s) =\",round(Q,6)\n"
     ],
     "language": "python",
     "metadata": {},
     "outputs": [
      {
       "output_type": "stream",
       "stream": "stdout",
       "text": [
        "Rate of flow (m^3/s) = 0.000228\n"
       ]
      }
     ],
     "prompt_number": 3
    },
    {
     "cell_type": "heading",
     "level": 2,
     "metadata": {},
     "source": [
      "Example 7.11,Page 188"
     ]
    },
    {
     "cell_type": "code",
     "collapsed": false,
     "input": [
      "\n",
      "from scipy import integrate\n",
      "#variable decleration\n",
      "import math\n",
      "l =4; # m\n",
      "b =2; # m\n",
      "H1 =0.15; # m\n",
      "H2 =0.05; # m\n",
      "A=8;\n",
      "\n",
      "#calculation\n",
      "k=3*1.5/A;\n",
      "def integrand (H,A):\n",
      "    return -A/1.5*H**(-2.5)\n",
      " \n",
      "t=integrate.quad(integrand,H1,H2,args=(A))\n",
      "\n",
      "#results\n",
      "print \"Time taken to reduce the head in the the tank (s)=\",round(t[0])\n"
     ],
     "language": "python",
     "metadata": {},
     "outputs": [
      {
       "output_type": "stream",
       "stream": "stdout",
       "text": [
        "Time taken to reduce the head in the the tank (s)= 257.0\n"
       ]
      }
     ],
     "prompt_number": 17
    },
    {
     "cell_type": "code",
     "collapsed": false,
     "input": [],
     "language": "python",
     "metadata": {},
     "outputs": []
    }
   ],
   "metadata": {}
  }
 ]
}