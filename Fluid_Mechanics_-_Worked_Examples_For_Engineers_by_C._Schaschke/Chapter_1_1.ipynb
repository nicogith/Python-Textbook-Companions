{
 "metadata": {
  "name": "",
  "signature": "sha256:f74ebb3df14e61a18adced8ec1d013b274b4ed30f643d40b946b0969c2ba80e2"
 },
 "nbformat": 3,
 "nbformat_minor": 0,
 "worksheets": [
  {
   "cells": [
    {
     "cell_type": "heading",
     "level": 1,
     "metadata": {},
     "source": [
      "Chapter1: Fluid Statics"
     ]
    },
    {
     "cell_type": "heading",
     "level": 2,
     "metadata": {},
     "source": [
      "Example 1.1,Page 3"
     ]
    },
    {
     "cell_type": "code",
     "collapsed": false,
     "input": [
      "\n",
      "# Variable Decleration\n",
      "rho=924; #density\n",
      "g=9.81; #grivity\n",
      "H=2; #height\n",
      "d=2; # depth \n",
      "\n",
      "#Calculation\n",
      "p=rho*g*H;\n",
      "a=d*H;\n",
      "F=p*a/2;\n",
      "\n",
      "#result\n",
      "print\" Total force exerted over the wall in(N) =\",round(F,3)"
     ],
     "language": "python",
     "metadata": {},
     "outputs": [
      {
       "output_type": "stream",
       "stream": "stdout",
       "text": [
        " Total force exerted over the wall in(N) = 36257.76\n"
       ]
      }
     ],
     "prompt_number": 2
    },
    {
     "cell_type": "heading",
     "level": 2,
     "metadata": {},
     "source": [
      "Example 1.2,Page 5"
     ]
    },
    {
     "cell_type": "code",
     "collapsed": false,
     "input": [
      "\n",
      "import math\n",
      "\n",
      "#Variable declaration\n",
      "p_v =50*1000; #pressure\n",
      "r =1; #m\n",
      "p_atm =101.3*1000; #atmospheric pressure\n",
      "rho =1000; #density\n",
      "H =2.5; #m\n",
      "g =9.81; #m/s^2\n",
      "\n",
      "\n",
      "#Calculation\n",
      "F= p_v*math.pi*r*r;\n",
      "p= p_atm + p_v + rho *g*H;\n",
      "Fd =( p_v+ rho *g*H)*math.pi*r*r+rho*g*2*math.pi*r*r/3;\n",
      "\n",
      "#result\n",
      "print \" Total vertical force tending to lift the dome (N)\", round(F,3)\n",
      "print \" Absolute pressure at the bottom o f the vessel (Pa)\",round(p,3)\n",
      "print \"Downward force imposed by the gas and liquid (N)\", round(Fd,3)"
     ],
     "language": "python",
     "metadata": {},
     "outputs": [
      {
       "output_type": "stream",
       "stream": "stdout",
       "text": [
        " Total vertical force tending to lift the dome (N) 157079.633\n",
        " Absolute pressure at the bottom o f the vessel (Pa) 175825.0\n",
        "Downward force imposed by the gas and liquid (N) 254673.208\n"
       ]
      }
     ],
     "prompt_number": 5
    },
    {
     "cell_type": "heading",
     "level": 2,
     "metadata": {},
     "source": [
      "Example 1.3,Page 7"
     ]
    },
    {
     "cell_type": "code",
     "collapsed": false,
     "input": [
      "\n",
      "#Variable Decleration\n",
      "a1 =0.3; #m^2\n",
      "m =1000; # kg\n",
      "a2 =0.003; #m^2\n",
      "rho_oil =750; #kg /m^3\n",
      "H =2; #m\n",
      "g =9.81; #m/ s ^2\n",
      "\n",
      "# Calcualtion\n",
      "F1=m*g;\n",
      "F2=a2 *( F1/a1 - rho_oil *g*H);\n",
      "\n",
      "#result\n",
      "print \"The force on the plunger(N)\",round(F2,3)"
     ],
     "language": "python",
     "metadata": {},
     "outputs": [
      {
       "output_type": "stream",
       "stream": "stdout",
       "text": [
        "The force on the plunger(N) 53.955\n"
       ]
      }
     ],
     "prompt_number": 3
    },
    {
     "cell_type": "heading",
     "level": 2,
     "metadata": {},
     "source": [
      "Example 1.4,Page 8"
     ]
    },
    {
     "cell_type": "code",
     "collapsed": false,
     "input": [
      "\n",
      "#variable Decleration\n",
      "rho_0 =800; # kg /m^3\n",
      "rho_aq =1100; # density of aqueous solution\n",
      "\n",
      "#calculation\n",
      "H =0.5* rho_aq /( rho_aq - rho_0 );\n",
      "# For a fixed length of chamber o f 3 m, the\n",
      "#interface between the two phases is determined\n",
      "#from the p r e s s u r e i n the chamber and d i s c h a r g e\n",
      "#p o i n t .\n",
      "#r h o 0 \u0003g\u0003H1+rho a q \u0003g\u0003H2=rho a q \u0003g \u0003(H\udbc0\udc000.5) ;\n",
      "#H=H1+H2\n",
      "rho_0 =600; #kg /m^3\n",
      "H1 =0.5* rho_aq /( rho_aq - rho_0 );\n",
      "\n",
      "#result\n",
      "print \"H(m)\",round(H,3)\n",
      "print \"The lowest possible position of the interface in the chamber below the overflow (m)\",round(H1,2)"
     ],
     "language": "python",
     "metadata": {},
     "outputs": [
      {
       "output_type": "stream",
       "stream": "stdout",
       "text": [
        "H(m) 1.833\n",
        "The lowest possible position of the interface in the chamber below the overflow (m) 1.1\n"
       ]
      }
     ],
     "prompt_number": 2
    },
    {
     "cell_type": "heading",
     "level": 2,
     "metadata": {},
     "source": [
      "Example 1.5, Page11"
     ]
    },
    {
     "cell_type": "code",
     "collapsed": false,
     "input": [
      "\n",
      "\n",
      "#variable decleration\n",
      "rho_o =900; #kg /m^3\n",
      "rho_n =1070; #kg /m^3\n",
      "H =1; #m\n",
      "g =9.81; #m/ s ^2\n",
      "dp =10*10**3; #change in pressure\n",
      "\n",
      "#H=H1+H2\n",
      "#calculation\n",
      "H1 =(dp - rho_n *g*H)/( rho_o - rho_n )/g;\n",
      "\n",
      "#result\n",
      "print \"The position of the interface between the legs (m)\", round(H1,2)"
     ],
     "language": "python",
     "metadata": {},
     "outputs": [
      {
       "output_type": "stream",
       "stream": "stdout",
       "text": [
        "The position of the interface between the legs (m) 0.3\n"
       ]
      }
     ],
     "prompt_number": 2
    },
    {
     "cell_type": "heading",
     "level": 2,
     "metadata": {},
     "source": [
      "Example 1.6,Page 13"
     ]
    },
    {
     "cell_type": "code",
     "collapsed": false,
     "input": [
      "# Variable defining\n",
      "dp =22*10**3; #N/m^2\n",
      "g =9.81;#m/ s ^2\n",
      "H =1.5;#m\n",
      "rho =1495.00;#kg /m^3\n",
      "rho_s =1270;#kg /m^3\n",
      "rho_c =2698;#kg /m^3\n",
      "\n",
      "# Calculation\n",
      "p=dp/g/H;\n",
      "#rho=f 1 \u0003 r h o s+f 2 \u0003 r h o c\n",
      "#f 1+f 2=1\n",
      "f2 =( rho - rho_s )/( rho_c - rho_s );\n",
      "\n",
      "#result\n",
      "print \" the density of the solution with crystals (kg/m^3)\",round(p,3)\n",
      "print \"The fraction of crystals \", round(f2,3)"
     ],
     "language": "python",
     "metadata": {},
     "outputs": [
      {
       "output_type": "stream",
       "stream": "stdout",
       "text": [
        " the density of the solution with crystals (kg/m^3) 1495.073\n",
        "The fraction of crystals  0.158\n"
       ]
      }
     ],
     "prompt_number": 12
    },
    {
     "cell_type": "heading",
     "level": 2,
     "metadata": {},
     "source": [
      "Example 1.7, Page 15"
     ]
    },
    {
     "cell_type": "code",
     "collapsed": false,
     "input": [
      "\n",
      "\n",
      "#Variable defining\n",
      "p_atm =101.3*10**3; #N/m^2\n",
      "rho =1000; #kg /m^3\n",
      "g =9.81; #m/ s ^2\n",
      "H1 =3; #m\n",
      "a =0.073; #N/m\n",
      "r1 =5*10**( -4) ; #m\n",
      "p1= p_atm + rho *g*H1 +2* a/r1;\n",
      "\n",
      "#calculation\n",
      "# p2=p atm+rho \u0003g\u0003H2+2\u0003a / r2 ;\n",
      "# p1 \u00034/3\u0003%pi\u0003 r1 ^3=p2 \u00034/3\u0003%pi\u0003 r2 ^3\n",
      "# Solving above two equations we get\n",
      "r2 =0.053; #//mm\n",
      "\n",
      "#result\n",
      "print\"Radius of the bubble(mm)\",round(r2,3)"
     ],
     "language": "python",
     "metadata": {},
     "outputs": [
      {
       "output_type": "stream",
       "stream": "stdout",
       "text": [
        "Radius of the bubble(mm) 0.053\n"
       ]
      }
     ],
     "prompt_number": 3
    },
    {
     "cell_type": "heading",
     "level": 2,
     "metadata": {},
     "source": [
      "Example 1.8,Page 17"
     ]
    },
    {
     "cell_type": "code",
     "collapsed": false,
     "input": [
      "\n",
      "#Variable defining\n",
      "H =0.2; #m\n",
      "rho =1000; #kg /m^3\n",
      "rho_Hg =13600; #kg /m^3\n",
      "g =9.81; #m/ s ^2\n",
      "\n",
      "#calculation\n",
      "dp =( rho_Hg -rho)*g*H;\n",
      "\n",
      "#result\n",
      "print \" Differential pressure(Pa)\",round(dp,2)"
     ],
     "language": "python",
     "metadata": {},
     "outputs": [
      {
       "output_type": "stream",
       "stream": "stdout",
       "text": [
        " Differential pressure(Pa) 24721.2\n"
       ]
      }
     ],
     "prompt_number": 9
    },
    {
     "cell_type": "heading",
     "level": 2,
     "metadata": {},
     "source": [
      "Example 1.9,Page 19"
     ]
    },
    {
     "cell_type": "code",
     "collapsed": false,
     "input": [
      "\n",
      "\n",
      "#variable defining\n",
      "rho =1000;\n",
      "g =9.81; # m/ s ^2\n",
      "H =0.4; #m\n",
      "\n",
      "#calculation\n",
      "dp=rho*g*H;\n",
      "\n",
      "#result\n",
      "print\" Pressure drop in the pipe(Pa)\",round(dp)"
     ],
     "language": "python",
     "metadata": {},
     "outputs": [
      {
       "output_type": "stream",
       "stream": "stdout",
       "text": [
        " Pressure drop in the pipe(Pa) 3924.0\n"
       ]
      }
     ],
     "prompt_number": 1
    },
    {
     "cell_type": "heading",
     "level": 2,
     "metadata": {},
     "source": [
      "Example 1.10,Page 21"
     ]
    },
    {
     "cell_type": "code",
     "collapsed": false,
     "input": [
      "\n",
      "import math\n",
      "\n",
      "#variable defining\n",
      "dp =20*10**3; #N/m^2\n",
      "rho_Hg =13600; # kg /m^3\n",
      "rho =700; #kg /m^3\n",
      "g =9.81; #m/ s ^2\n",
      "d =0.02; #m\n",
      "\n",
      "\n",
      "#calculation\n",
      "H=dp*(rho_Hg - rho)**-1/g;\n",
      "V= math.pi /4*d*d*H;\n",
      "\n",
      "#result\n",
      "print\"Quantity of mercury to be removed (m^3)\",round(V,9)"
     ],
     "language": "python",
     "metadata": {},
     "outputs": [
      {
       "output_type": "stream",
       "stream": "stdout",
       "text": [
        "Quantity of mercury to be removed (m^3) 4.965e-05\n"
       ]
      }
     ],
     "prompt_number": 11
    },
    {
     "cell_type": "heading",
     "level": 2,
     "metadata": {},
     "source": [
      "Example 1.11,Page 23"
     ]
    },
    {
     "cell_type": "code",
     "collapsed": false,
     "input": [
      "\n",
      "#Variable defining\n",
      "import math\n",
      "from math import sin\n",
      "rho =800; #kg /m^3\n",
      "g =9.81; #m/ s ^2\n",
      "L =0.12;\n",
      "\n",
      "\n",
      "#calculations\n",
      "theta = math.pi /180*20; #radians\n",
      "dp=rho*g*L*(sin(theta));\n",
      "\n",
      "#result\n",
      "print \"The gauge pressure across the filter(Pa)\",round(dp,2)"
     ],
     "language": "python",
     "metadata": {},
     "outputs": [
      {
       "output_type": "stream",
       "stream": "stdout",
       "text": [
        "The gauge pressure across the filter(Pa) 322.100890178\n"
       ]
      }
     ],
     "prompt_number": 1
    },
    {
     "cell_type": "heading",
     "level": 2,
     "metadata": {},
     "source": [
      "Example 1.12,Page 25"
     ]
    },
    {
     "cell_type": "code",
     "collapsed": false,
     "input": [
      "\n",
      "#Variable defining\n",
      "mc =100; #kg\n",
      "g =9.81; #m/ s ^2\n",
      "rho =1000; #kg /m^3\n",
      "rho_c =7930; #kg /m^3\n",
      "\n",
      "#calculation\n",
      "m=mc*rho/ rho_c ;\n",
      "F=mc*g-m*g; #tension\n",
      "\n",
      "#result\n",
      "print(\"The tension in the cable(N)\",round(F,2))\n"
     ],
     "language": "python",
     "metadata": {},
     "outputs": [
      {
       "output_type": "stream",
       "stream": "stdout",
       "text": [
        "('The tension in the cable(N)', 863.28)\n"
       ]
      }
     ],
     "prompt_number": 13
    },
    {
     "cell_type": "heading",
     "level": 2,
     "metadata": {},
     "source": [
      "Example 1.13,Page 27"
     ]
    },
    {
     "cell_type": "code",
     "collapsed": false,
     "input": [
      "\n",
      "\n",
      "#Variale defining\n",
      "rho =1000.0;\n",
      "x =0.06;\n",
      "rho_0 =800.0;\n",
      "x_0 =0.04;\n",
      "rho_L =900.0;\n",
      "\n",
      "#calculation\n",
      "L=( rho*x- rho_0 *x_0)/( rho - rho_0 );\n",
      "x_L =L-rho/ rho_L *(L-x);\n",
      "\n",
      "#result\n",
      "print \" Length of the stem above the liquid of SG 0.9 is (m)\",round(x_L,3)"
     ],
     "language": "python",
     "metadata": {},
     "outputs": [
      {
       "output_type": "stream",
       "stream": "stdout",
       "text": [
        " Length of the stem above the liquid of SG 0.9 is (m) 0.05\n"
       ]
      }
     ],
     "prompt_number": 5
    },
    {
     "cell_type": "heading",
     "level": 2,
     "metadata": {},
     "source": [
      "Example 1.14,Page 29\n"
     ]
    },
    {
     "cell_type": "code",
     "collapsed": false,
     "input": [
      "\n",
      "\n",
      "#variable defining\n",
      "m_s =5*10**6; #kg\n",
      "T2 =4.5; #m\n",
      "T1 =3; #m\n",
      "rho_hc =950; #kg /m^3\n",
      "Q =125; #m^3/h\n",
      "\n",
      "#calculation\n",
      "m_hc =m_s *( T2/T1 -1);\n",
      "t= m_hc / rho_hc /Q;\n",
      "\n",
      "#result\n",
      "print\"Quantity delivered(kg)\",round(m_hc,2)\n",
      "print \"Time taken(hours)\",round(t,3)"
     ],
     "language": "python",
     "metadata": {},
     "outputs": [
      {
       "output_type": "stream",
       "stream": "stdout",
       "text": [
        "Quantity delivered(kg) 2500000.0\n",
        "Time taken(hours) 21.053\n"
       ]
      }
     ],
     "prompt_number": 1
    },
    {
     "cell_type": "code",
     "collapsed": false,
     "input": [],
     "language": "python",
     "metadata": {},
     "outputs": []
    }
   ],
   "metadata": {}
  }
 ]
}