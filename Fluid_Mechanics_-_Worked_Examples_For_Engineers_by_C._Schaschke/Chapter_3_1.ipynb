{
 "metadata": {
  "name": "",
  "signature": "sha256:f2eaea1b025b2ddec764d2fab1514700e255b4e2c5860b0d8b1ba9dafae0ccc9"
 },
 "nbformat": 3,
 "nbformat_minor": 0,
 "worksheets": [
  {
   "cells": [
    {
     "cell_type": "heading",
     "level": 1,
     "metadata": {},
     "source": [
      "Chapter 3,Laminar Flow and Lubrication"
     ]
    },
    {
     "cell_type": "heading",
     "level": 2,
     "metadata": {},
     "source": [
      "Example 3.2,Page 63"
     ]
    },
    {
     "cell_type": "code",
     "collapsed": false,
     "input": [
      "\n",
      "#variable decleration\n",
      "Re =2000.0;\n",
      "d =0.008; #m\n",
      "\n",
      "#calculation\n",
      "L1 =0.058* Re*d;\n",
      "\n",
      "#result\n",
      "print\"The furtherest distance the fluid can flow into the 8 mm inside diameter pipe (m)=\",round(L1,3);\n"
     ],
     "language": "python",
     "metadata": {},
     "outputs": [
      {
       "output_type": "stream",
       "stream": "stdout",
       "text": [
        "The furtherest distance the fluid can flow into the 8 mm inside diameter pipe (m)= 0.928\n"
       ]
      }
     ],
     "prompt_number": 1
    },
    {
     "cell_type": "heading",
     "level": 2,
     "metadata": {},
     "source": [
      "Example 3.4,Page 67"
     ]
    },
    {
     "cell_type": "code",
     "collapsed": false,
     "input": [
      "\n",
      "from math import pi\n",
      "\n",
      "#variable decleration\n",
      "del_p =90*10**3; # N/m^2\n",
      "d =0.126; # m\n",
      "R =0.126/2; # m\n",
      "u =1.2;\n",
      "L =60; # m\n",
      "Rho =1260;\n",
      "\n",
      "\n",
      "#calculation\n",
      "Q= pi * del_p * R**4 / (8*u*L);\n",
      "Re =4* Rho *Q/(u*pi*d);\n",
      "\n",
      "#result\n",
      "print \"The glycerol delivery rate is (m^3/s) \",round(Q,4);\n",
      "print\"The Reynolds number is \",round(Re,3);\n",
      "print\"As Re is below 2000 , so, laminar flow\""
     ],
     "language": "python",
     "metadata": {},
     "outputs": [
      {
       "output_type": "stream",
       "stream": "stdout",
       "text": [
        "The glycerol delivery rate is (m^3/s)  0.0077\n",
        "The Reynolds number is  82.047\n",
        "As Re is below 2000 , so, laminar flow\n"
       ]
      }
     ],
     "prompt_number": 2
    },
    {
     "cell_type": "heading",
     "level": 2,
     "metadata": {},
     "source": [
      "Example 3.5,Page 69"
     ]
    },
    {
     "cell_type": "code",
     "collapsed": false,
     "input": [
      "\n",
      "from math import pi\n",
      "\n",
      "#variable decleration\n",
      "u =0.015; #Ns/m^2\n",
      "Q =0.004/60; #m^3/ s\n",
      "dp =100;\n",
      "rho =1100.0; #kg /m^3\n",
      "\n",
      "\n",
      "#calculation\n",
      "R =(8* u*Q/( pi *dp)) **(0.25) ;\n",
      "Re =(4* rho *Q/( pi*u *(2* R)));\n",
      "\n",
      "#result\n",
      "print\"Diameter of the pipe(m) =\",round(R,3);\n",
      "print\"Reynolds number =\",round(Re,2)\n"
     ],
     "language": "python",
     "metadata": {},
     "outputs": [
      {
       "output_type": "stream",
       "stream": "stdout",
       "text": [
        "Diameter of the pipe(m) = 0.013\n",
        "Reynolds number = 246.38\n"
       ]
      }
     ],
     "prompt_number": 6
    },
    {
     "cell_type": "heading",
     "level": 2,
     "metadata": {},
     "source": [
      "Example 3.6,Page 71"
     ]
    },
    {
     "cell_type": "code",
     "collapsed": false,
     "input": [
      "\n",
      "from math import pi\n",
      "\n",
      "#variable decleration\n",
      "mu =0.03; #Ns/m^2\n",
      "Q =10.0**( -7) ; #m^3/ s\n",
      "u=(7.0);\n",
      "\n",
      "#calculation\n",
      "dp= 8*mu*Q*u/3/pi/0.005**4;\n",
      "\n",
      "#result\n",
      "print\" pressure difference (N/m^2)=\",round(dp,2)\n"
     ],
     "language": "python",
     "metadata": {},
     "outputs": [
      {
       "output_type": "stream",
       "stream": "stdout",
       "text": [
        " pressure difference (N/m^2)= 28.52\n"
       ]
      }
     ],
     "prompt_number": 5
    },
    {
     "cell_type": "heading",
     "level": 2,
     "metadata": {},
     "source": [
      "Example 3.8,Page 75"
     ]
    },
    {
     "cell_type": "code",
     "collapsed": false,
     "input": [
      "\n",
      "from math import pi\n",
      "\n",
      "#variable decleration\n",
      "u =0.1; #Ns/m^2\n",
      "d =0.1; #m\n",
      "R =0.05; # m\n",
      "Rho =900; #kg /m^3\n",
      "v_max =2; # m/ s\n",
      "v= v_max /2; # m/ s\n",
      "\n",
      "#calculation\n",
      "Tw = 2*u* v_max /R;\n",
      "del_p =4* u* v_max /R **2;\n",
      "\n",
      "#result\n",
      "print \"At the pipe wa l l ( r =R) , shear stress (N/m^2)= \",Tw;\n",
      "print\" pressure drop per metre lengthh of pipe is (N/m^2)\",del_p;\n"
     ],
     "language": "python",
     "metadata": {},
     "outputs": [
      {
       "output_type": "stream",
       "stream": "stdout",
       "text": [
        "At the pipe wa l l ( r =R) , shear stress (N/m^2)=  8.0\n",
        " pressure drop per metre lengthh of pipe is (N/m^2) 320.0\n"
       ]
      }
     ],
     "prompt_number": 9
    },
    {
     "cell_type": "heading",
     "level": 2,
     "metadata": {},
     "source": [
      "Example 3.9,Page 77"
     ]
    },
    {
     "cell_type": "code",
     "collapsed": false,
     "input": [
      "\n",
      "#variable decleration\n",
      "import math\n",
      "u =0.032; #Ns/m^2\n",
      "Re =2000.0; #maximum v a l u e\n",
      "Rho =854.0;\n",
      "del_p =150.0; #N/m^2\n",
      "\n",
      "#calculation\n",
      "d =(32* u **2* Re /( Rho* del_p ))**(0.33)  ;\n",
      "\n",
      "print \"The maximum inside diameter is found to be (m) \",round(d,3);\n"
     ],
     "language": "python",
     "metadata": {},
     "outputs": [
      {
       "output_type": "stream",
       "stream": "stdout",
       "text": [
        "The maximum inside diameter is found to be (m)  0.082\n"
       ]
      }
     ],
     "prompt_number": 7
    },
    {
     "cell_type": "heading",
     "level": 2,
     "metadata": {},
     "source": [
      "Example 3.10,Page 79"
     ]
    },
    {
     "cell_type": "code",
     "collapsed": false,
     "input": [
      "\n",
      "from math import pi\n",
      "#variable decleration\n",
      "rho =1000; #kg /m^3\n",
      "u =0.1; #Ns/m^2\n",
      "g =9.81; #m/ s ^2\n",
      "L =10; #m\n",
      "H =2; #m\n",
      "Q =14.0/3600; #m^3/ s\n",
      "d =0.05; #m\n",
      "\n",
      "#calculation\n",
      "dp=rho*g*(L+H) - (128* Q*u*L/pi /d**4) ;\n",
      "\n",
      "#result\n",
      "print\" Pressure drop across the valve (N/m^2)=\",round(dp,2)\n"
     ],
     "language": "python",
     "metadata": {},
     "outputs": [
      {
       "output_type": "stream",
       "stream": "stdout",
       "text": [
        " Pressure drop across the valve (N/m^2)= 92368.39\n"
       ]
      }
     ],
     "prompt_number": 4
    },
    {
     "cell_type": "heading",
     "level": 2,
     "metadata": {},
     "source": [
      "Example 3.12,Page 83"
     ]
    },
    {
     "cell_type": "code",
     "collapsed": false,
     "input": [
      "\n",
      "\n",
      "#variable decleration\n",
      "from math import pi\n",
      "import math\n",
      "Q =3*10**( -6) ; #m^3/ s\n",
      "u =0.001; #Ns/m^2\n",
      "W =1;\n",
      "rho =1000; #kg /m^3\n",
      "g =9.81; #m/ s ^2\n",
      "d =1.016*10**( -4) ; #m\n",
      "d1 =1.25*10**( -4) ; # m\n",
      "\n",
      "\n",
      "#calculation\n",
      "theta = math.asin (3*Q*u/W/rho/g/d **3) ;\n",
      "u1=W*rho *g* math.sin ( theta )*( d1 **3) /(3* Q);\n",
      "\n",
      "#result\n",
      "print\"Exact angle of inclination (radians) =\",round(theta,3)\n",
      "print\" Viscosity of the second liquid (Ns/m^2)=\",round(u1,4)\n"
     ],
     "language": "python",
     "metadata": {},
     "outputs": [
      {
       "output_type": "stream",
       "stream": "stdout",
       "text": [
        "Exact angle of inclination (radians) = 1.065\n",
        " Viscosity of the second liquid (Ns/m^2)= 0.0019\n"
       ]
      }
     ],
     "prompt_number": 3
    },
    {
     "cell_type": "heading",
     "level": 2,
     "metadata": {},
     "source": [
      "Example 3.17,Page 93"
     ]
    },
    {
     "cell_type": "code",
     "collapsed": false,
     "input": [
      "\n",
      "\n",
      "#variable decleration\n",
      "u =1.5; #Ns/m^2\n",
      "v =0.5; # m/ s\n",
      "H =0.02/2; # m\n",
      "\n",
      "#calculation\n",
      "t=-u*3*v/H;\n",
      "\n",
      "#result\n",
      "print \"The shear stress (N/m^2)=\",t\n",
      "print\"acting on opp. direction of flow\" \n"
     ],
     "language": "python",
     "metadata": {},
     "outputs": [
      {
       "output_type": "stream",
       "stream": "stdout",
       "text": [
        "The shear stress (N/m^2)= -225.0\n",
        "acting on opp. direction of flow\n"
       ]
      }
     ],
     "prompt_number": 34
    },
    {
     "cell_type": "heading",
     "level": 2,
     "metadata": {},
     "source": [
      "Example 3.18,Page 95"
     ]
    },
    {
     "cell_type": "code",
     "collapsed": false,
     "input": [
      "\n",
      "from math import pi\n",
      "from scipy import integrate\n",
      "\n",
      "#variable decleration\n",
      "N =600.0/60; #r e v o l u t i o n s pe r s e c\n",
      "r =0.025; #m\n",
      "t =400; # N/m^2\n",
      "l =0.002; # m\n",
      "time=2.0/1000; #s\n",
      "\n",
      "#calculation\n",
      "w =2* pi*N;\n",
      "u=t*l/w/r;\n",
      "def integrand (R,w,u,time):\n",
      "    return 2*pi*u*w/time*R**3\n",
      "\n",
      "#a=lambda r:2*pi*0.509*62.8/2*r**3*1000;\n",
      "T=integrate.quad(integrand, 0,0.025,args=(w,u,time));\n",
      "\n",
      "#result\n",
      "print\" Viscosity,(Ns/m^2)=\",round(u,3)\n",
      "print\"Torque(Nm) =\",round(T[0],4)\n"
     ],
     "language": "python",
     "metadata": {},
     "outputs": [
      {
       "output_type": "stream",
       "stream": "stdout",
       "text": [
        " Viscosity,(Ns/m^2)= 0.509\n",
        "Torque(Nm) = 0.0098\n"
       ]
      }
     ],
     "prompt_number": 18
    },
    {
     "cell_type": "heading",
     "level": 2,
     "metadata": {},
     "source": [
      "Example 3.19,Page 97"
     ]
    },
    {
     "cell_type": "code",
     "collapsed": false,
     "input": [
      "\n",
      "from math import pi\n",
      "\n",
      "#variable decleration\n",
      "u =0.153; #Ns/m^2\n",
      "r =0.05; # m\n",
      "N =30; # rps\n",
      "t =2.0/10**5; # s\n",
      "L =0.2; #m\n",
      "\n",
      "\n",
      "#calculation\n",
      "tau =u *(2* pi *N*r/t);\n",
      "F= tau *2* pi *r*L;\n",
      "T=F*r;\n",
      "w =2* pi*N;\n",
      "P=T*w;\n",
      "\n",
      "#result\n",
      "print \"The torque on the bearing is found to be (Nm)= \",round(T,3);\n",
      "print \" and the power required to overcome the resistance is (W)=\",round(P,3);\n",
      "\n"
     ],
     "language": "python",
     "metadata": {},
     "outputs": [
      {
       "output_type": "stream",
       "stream": "stdout",
       "text": [
        "The torque on the bearing is found to be (Nm)=  226.507\n",
        " and the power required to overcome the resistance is (W)= 42695.643\n"
       ]
      }
     ],
     "prompt_number": 19
    },
    {
     "cell_type": "heading",
     "level": 2,
     "metadata": {},
     "source": [
      "Example 3.20,Page 99"
     ]
    },
    {
     "cell_type": "code",
     "collapsed": false,
     "input": [
      "\n",
      "#variable decleration\n",
      "t =0.0005;#s\n",
      "P =22; \n",
      "r =300.0/60; \n",
      "R_1 =0.1; \n",
      "R_2 =0.0625; \n",
      "pi=3.14;\n",
      "\n",
      "#calculation\n",
      "w =2* pi*r;\n",
      "u =2* t*P/( pi *w **2*(( R_1 )**4 -( R_2) **4) );\n",
      "\n",
      "#result\n",
      "print\"The viscosity of the oil is (Ns/m^2)= \",round(u,4);\n"
     ],
     "language": "python",
     "metadata": {},
     "outputs": [
      {
       "output_type": "stream",
       "stream": "stdout",
       "text": [
        "The viscosity of the oil is (Ns/m^2)=  0.0839\n"
       ]
      }
     ],
     "prompt_number": 20
    },
    {
     "cell_type": "code",
     "collapsed": false,
     "input": [],
     "language": "python",
     "metadata": {},
     "outputs": []
    }
   ],
   "metadata": {}
  }
 ]
}