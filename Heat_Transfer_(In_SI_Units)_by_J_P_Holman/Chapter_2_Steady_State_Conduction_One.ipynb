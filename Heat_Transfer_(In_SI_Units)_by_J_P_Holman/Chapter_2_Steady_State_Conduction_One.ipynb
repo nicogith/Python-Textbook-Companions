{
 "cells": [
  {
   "cell_type": "markdown",
   "metadata": {},
   "source": [
    "# Chapter 2 Steady State Conduction One Dimension"
   ]
  },
  {
   "cell_type": "markdown",
   "metadata": {},
   "source": [
    "## Exa 2.1"
   ]
  },
  {
   "cell_type": "code",
   "execution_count": 1,
   "metadata": {
    "collapsed": false
   },
   "outputs": [
    {
     "name": "stdout",
     "output_type": "stream",
     "text": [
      "Length of thickness is: 5.75  cm\n"
     ]
    }
   ],
   "source": [
    "#Example Number 2.1\n",
    "#Calculate thickness of insulation to reduce heat loss/gain by 80 %\n",
    "\n",
    "\n",
    "#Variable declaration\n",
    "\n",
    "dx1 = 0.1\t      # [m] thickness of layer of common brick\n",
    "k1 = 0.7\t      # [W/m degree celsius] heat transfer coefficient of common brick\n",
    "dx2 = 0.0375          # [m] thickness of layer of gypsum plaster\n",
    "k2 = 0.48 \t      # [W/m degree celsius] heat transfer coefficient gypsum plaster\n",
    "\n",
    "#Calculation\n",
    "\n",
    "Rb = dx1/k1\t      # [sq m degree C /W] thermal resistance of brick\n",
    "Rp = dx2/k2           # [sq m degree C /W] thermal resistance of gypsum plaster\n",
    "R = Rb+Rp \t      # [sq m degree C /W] thermal resistance without insulation\n",
    "R1 = R/0.2 \t      # [sq m degree C /W] with insulation \n",
    "\n",
    "# heat loss with the rock-wool insulation is 20 percent \n",
    "\n",
    "Rrw = R1-R \t      # [square meter degree celsius /W]\n",
    "k3 = 0.065 \t      # [W/m degree celsius] heat transfer coefficient\n",
    "dx3 = Rrw*k3          # [m]\n",
    "\n",
    "#Result\n",
    "\n",
    "print \"Length of thickness is:\",round(dx3*100,2),\" cm\"\n",
    "\n"
   ]
  },
  {
   "cell_type": "markdown",
   "metadata": {},
   "source": [
    "## Exa 2.2"
   ]
  },
  {
   "cell_type": "code",
   "execution_count": 2,
   "metadata": {
    "collapsed": false
   },
   "outputs": [
    {
     "name": "stdout",
     "output_type": "stream",
     "text": [
      "Heat flow is given by: 680.0  W/m\n",
      "Interface temperature is 596.0 degree celsius \n"
     ]
    }
   ],
   "source": [
    "#Example Number 2.2\n",
    "#Calculate heat loss/metre length and tube-insulation interface temperature\n",
    "\n",
    "#Variable declaration\n",
    "\n",
    "ID = 0.02 \t\t# [m] inner diameter of steel\n",
    "OD = 0.04 \t\t#[m] outer diameter of steel\n",
    "t = 0.03 \t\t#[m] thickness of asbestos insulation\n",
    "\t\t\t# system is like three concentric cylinders \n",
    "T1 = 600 \t\t# [degree celsius] inside wall temperature\n",
    "T2 = 100 \t\t# [degree celsius] outside insulation temperature\n",
    "Ks = 19 \t\t#[W/m degree celsius] heat transfer coefficient of steel\n",
    "Ka = 0.2 \t\t# [W/m degree celsius] heat transfer coefficient of asbestos\n",
    "\n",
    "\t\t\t# heat flow is given by per unit length\n",
    "\n",
    "#Calculation\n",
    "\n",
    "import math\n",
    "Q_l = ((2*math.pi*(T1-T2))/((math.log(OD/ID)/Ks)+(math.log(0.1/OD)/Ka)))    # [W/m]\n",
    "\n",
    "\t# above calculated heat flow is used to calculate the interface temperature\n",
    "\t# between the outside wall and the insulation\n",
    "\n",
    "Ta = Q_l*(math.log(0.1/OD)/(2*math.pi*Ka))+T2 \n",
    "\t# [degree C] Ta is interface temperature\n",
    "\n",
    "#Result\n",
    "\n",
    "print \"Heat flow is given by:\",round(Q_l),\" W/m\" \n",
    "print \"Interface temperature is\",round(Ta),\"degree celsius \"\n"
   ]
  },
  {
   "cell_type": "markdown",
   "metadata": {},
   "source": [
    "## Exa 2.3"
   ]
  },
  {
   "cell_type": "code",
   "execution_count": 3,
   "metadata": {
    "collapsed": false
   },
   "outputs": [
    {
     "name": "stdout",
     "output_type": "stream",
     "text": [
      "TOTAL THERMAL RESISTANCE THROUGH,\n",
      "wood stud is: 31.39 degree C\n",
      "Insulation section is: 7.34 degree C/W\n",
      "Overall heat transfer coefficient is: 0.414 W/sq m per deg C\n",
      "R value is: 2.415 sq m/W\n"
     ]
    }
   ],
   "source": [
    "#Example Number 2.3  \n",
    "# Calculate overall heat transfer coefficient and R Value of wall\n",
    "\n",
    "# 1. heat transfer through studs for unit depth\n",
    "\n",
    "#Variable declaration\n",
    "\n",
    "l = 0.0413 \t  # [m] length of wood studs\n",
    "b = 1.0 \t  # [m] unit depth\n",
    "A = l*b\t\t  # [square meter] area of studs for unit depth\n",
    "hi = 7.5\t  # [W/sq meter/degr C] convectional heat transfer coefficient\n",
    "ho = 15 \t  # [W/sq m per deg C] convectional heat transfer coefficient\n",
    "Kb = 0.69 \t  # [W/m per deg celsius] heat transfer coefficient of brick\n",
    "Kgi = 0.96 \t  # [W/m per deg C] heat transfer coefficient of gypsum inner sheath\n",
    "Ki = 0.04 \t  # [W/m per deg C] heat transfer coefficient of insulation\n",
    "Kws = 0.1\t  # [W/m per deg C] heat transfer coefficient of wood stud\n",
    "Kgo = 0.48 \t  # [W/m per deg C] heat transfer coefficient of gypsum outer sheath\n",
    "Rair = 1/(ho*A)   # [degree C /W] convection resistance outside of brick\n",
    "dx_b = 0.08 \t  # [m] thickness of brick\n",
    "dx_os = 0.019 \t  #[m] thickness of outer sheet\n",
    "dx_ws = 0.0921    # [m] thickness of wood stud\n",
    "dx_is = 0.019     # [m] thickness of inner sheet\n",
    "Rb = dx_b/(Kb*A)  \t# [degr C /W] conduction resistance in brick\n",
    "Ros = dx_os/(Kgi*A) \t# [deg C /W] conduction resistance through outer sheet\n",
    "Rws = dx_ws/(Kws*A) \t# [deg C/W] conduction resistance through wood stud\n",
    "Ris = dx_is/(Kgo*A) \t# [deg C/W] conduction resistance through inner sheet\n",
    "\n",
    "#Calculation\n",
    "\n",
    "Ri = 1/(hi*A) \t\t# [degree celsius /W] convection resistance on inside\n",
    "\n",
    "Rt = Rair+Rb+Ros+Rws+Ris+Ri \n",
    "\t\t\t# [deg C/W] total thermal Res through the wood stud section\n",
    "\n",
    "\n",
    "print \"TOTAL THERMAL RESISTANCE THROUGH,\"\n",
    "print\"wood stud is:\",round(Rt,2),\"degree C\"\n",
    "\n",
    "\n",
    "# 2. Heat transfer through insulation section \n",
    "\n",
    "#Calculation\n",
    "\n",
    "A1 = 0.406-A\t\t # [sq meter] area of insulation section for unit depth\n",
    "dx_ins = 0.0921          # [m] thickness of insulation\n",
    "Rins = dx_ins/(Ki*A1)    # [deg C /W] conduction resistance through insulation section\n",
    "\n",
    "\t\t# five of the materials are same but resistance involve different area \n",
    "\t\t# i.e. (40.6-4.13) cm instead of 4.13 cm \n",
    "\t\t# so that each of the previous must be multiplied by a factor of \t\t\t#(4.13/(40.6-4.13)) = 0.113 \n",
    "\n",
    "#Calculation\n",
    "\n",
    "Rt_ins = (Rair+Rb+Ros+Ris+Ri)*0.113+Rins\n",
    "     \t\t# [deg C/W] total resistance through insulation section \n",
    "\t\n",
    "print\"Insulation section is:\",round(Rt_ins,3),\"degree C/W\"\n",
    "\n",
    "R_overall = 1/((1/Rt)+(1/Rt_ins)) \n",
    "\t\t# [degree celsius /W] overall resistance for the section\n",
    "\n",
    "\t\t# the value is related to overall heat transfer coefficient by \n",
    "\t\t# Q = U*A*dt = dt/R_overall \n",
    "\t\t# where A is area of total section\n",
    "\n",
    "\n",
    "A_ = 0.406 \t\t# [sq meter] area of total section\n",
    "U = 1/(R_overall*A_)    # [W/sq meter deg C] overall heat transfer coefficient\n",
    "\t\t\t# R value is somewhat different from thermal resistance and is \t\t\t#given by\n",
    "R_value = 1/U \t\t# [degree celsius square meter/W] R value of system\n",
    "\n",
    "\n",
    "#Results\n",
    "\n",
    "print\"Overall heat transfer coefficient is:\",round(U,3),\"W/sq m per deg C\"\n",
    "\n",
    "print\"R value is:\",round(R_value,3),\"sq m/W\" \n"
   ]
  },
  {
   "cell_type": "markdown",
   "metadata": {},
   "source": [
    "## Exa 2.4"
   ]
  },
  {
   "cell_type": "code",
   "execution_count": 4,
   "metadata": {
    "collapsed": false
   },
   "outputs": [
    {
     "name": "stdout",
     "output_type": "stream",
     "text": [
      "Overall heat transfer coefficient is: 7.58  W/sq m degree C\n",
      "Heat loss per unit length is: 19.0  W(for 1m length)\n"
     ]
    }
   ],
   "source": [
    "#Example Number 2.4\n",
    "# Calculate overall heat transfer coeff and heat loss/unit length at 20 deg C\n",
    "\n",
    "#Variable declaration\n",
    "\n",
    "ID = 0.025 \t\t# [m] inner diameter of steel\n",
    "OD = ID+2*0.0008 \t#[m] outer diameter of steel\n",
    "hi = 3500 \t\t# [W/sq m per deg C] convectional heat transfer coefficient of \t\t\t#inside\n",
    "ho = 7.6 \t\t# [W/sq m per deg C] convectional heat transfer coefficient of \t\t\t#outside \n",
    "L = 1.0 \t\t# [m] tube length\n",
    "import math\n",
    "Ai = math.pi*ID*L \t# [sq meter] inside crossectional area \n",
    "Ao = math.pi*OD*L \t# [sq meter] outside crossectional area \n",
    "k = 16 \t\t\t# [W/sq meter per deg C] thermal conductivity of tube\n",
    "\n",
    "#Calculation\n",
    "\n",
    "Ri = 1/(hi*Ai)\t\t\t     # [degree C /W] convection resistance inside tube\n",
    "Rt = math.log(OD/ID)/(2*math.pi*k*L) # [degree C /W] thermal resistance \n",
    "Ro = 1/(ho*Ao) \t\t\t     # [deg C /W] convection resistance outside tube\n",
    "R_total = Ri+Rt+Ro\t\t     # [deg C/W] total thermal and convection  \t\t\t\t     \t\t     #resistance \n",
    "Uo = 1/(Ao*R_total) \t\t     # [W/sq m deg C] overall heat transfer \t\t\t\t     \t\t     #coefficient\n",
    "\n",
    "Tw = 50\t\t\t\t     # [degree C] water temperature\n",
    "Ta = 20 \t\t\t     # [degree C] surrounding air temperature\n",
    "dt = Tw-Ta \t\t\t     # [degree C] temperature difference\n",
    "q = Uo*Ao*dt\t\t\t     # [W] heat transfer \n",
    "\n",
    "#Results\n",
    "\n",
    "print\"Overall heat transfer coefficient is:\",round(Uo,2),\" W/sq m degree C\"\n",
    "\n",
    "\n",
    "print\"Heat loss per unit length is:\",round(q),\" W(for 1m length)\""
   ]
  },
  {
   "cell_type": "markdown",
   "metadata": {},
   "source": [
    "## Exa 2.5"
   ]
  },
  {
   "cell_type": "code",
   "execution_count": 5,
   "metadata": {
    "collapsed": false
   },
   "outputs": [
    {
     "name": "stdout",
     "output_type": "stream",
     "text": [
      "Critical radius of insulation for asbestos is: 5.67 cm \n",
      "Heat loss when covered with critical radius of insulation is: 105.7  W/m\n",
      "Heat loss without  insulation is: 84.8  W/m\n",
      "Addition of 3.17 of insulation actually increases the heat transfer by: 25.0 %\n"
     ]
    }
   ],
   "source": [
    "#Example Number 2.5\n",
    "#Calculate the heat loss \n",
    "\n",
    "#Variable declaration\n",
    "\n",
    "k = 0.17 \t\t# [W/m per deg C] heat transfer coefficient of asbestos\n",
    "Tr = 20 \t\t# [degree celsius] temperature of room air\n",
    "h = 3 \t\t\t# [W/sq m per deg C] convectional heat transfer coefficient\n",
    "Tp = 200 \t\t# [degree celsius] temperature of pipe\n",
    "d = 0.05 \t\t# [m] diameter of pipe\n",
    "\n",
    "\t\t\t# from equation (2-18) we calculate r_o as \n",
    "\n",
    "#Calculation\n",
    "\n",
    "r_o = k/h \t\t# [m] critical radius of insulation\n",
    "print\"Critical radius of insulation for asbestos is:\",round(r_o*100,2),\"cm \"\n",
    "\n",
    "Ri = d/2\t        # [m] inside radius of insulation\n",
    "\t\t\t# heat transfer is calculated from equation (2-17)\n",
    "import math\n",
    "q_by_L = (2*math.pi*(Tp-Tr))/(((math.log(r_o/Ri))/0.17)+(1/(h*r_o)))\n",
    "\t \t\t# [W/m] heat transfer per unit length\n",
    "\n",
    "\n",
    "#Results\n",
    "\n",
    "print\"Heat loss when covered with critical radius of insulation is:\",round(q_by_L,1),\" W/m\"\n",
    "\n",
    "\t\t# without insulation the convection from the outer surface of pipe is \n",
    "\n",
    "q_by_L1 = h*2*math.pi*Ri*(Tp-Tr) \n",
    "\t\t#[W/m] convection from outer surface without insulation\n",
    "print\"Heat loss without  insulation is:\",round(q_by_L1,1),\" W/m\"\n",
    "per_inc = ((q_by_L-q_by_L1)/q_by_L1)*100 \t# percentage increase in heat transfer\n",
    "\n",
    "print\"Addition of 3.17 of insulation actually increases the heat transfer by:\",round(per_inc),\"%\" \n"
   ]
  },
  {
   "cell_type": "markdown",
   "metadata": {},
   "source": [
    "## Exa 2.6"
   ]
  },
  {
   "cell_type": "code",
   "execution_count": 6,
   "metadata": {
    "collapsed": false
   },
   "outputs": [
    {
     "name": "stdout",
     "output_type": "stream",
     "text": [
      "Center temperature of the wire is: 231.7 degree celsius\n"
     ]
    }
   ],
   "source": [
    "#Example Number 2.6\n",
    "#Calculate the centre temperature of wire\n",
    "\n",
    "#Variable declaration\n",
    "\n",
    "\t\t# all the power generated in the wire must be dissipated by convection \t\tto the liquid \n",
    "\t\t# P = i**(2)*R = q = h*A*dt\n",
    "L = 100 \t# [cm] length of the wire  \n",
    "k = 19 \t\t# [W/m per deg C] heat transfer coefficient of steel wire\n",
    "\n",
    "#Calculations\n",
    "\n",
    "import math\n",
    "A = math.pi*(0.15)**(2) \t# [sq m] crossectional area of wire\n",
    "rho = 70*10**(-6) \t\t# [micro ohm cm] resistivity of steel \n",
    "R = rho*L/A \t\t\t# [ohm] resistance of wire\n",
    "i = 200 \t\t\t# [ampere] current in the wire\n",
    "P = i**(2)*R \t\t\t# [W] power generated in the wire\n",
    "Tl = 110 \t\t\t# [degree celsius] liquid temperature\n",
    "d = 0.003 \t\t\t# [m] diameter of wire\n",
    "l = 1 \t\t\t\t# [m] length of wire\n",
    "Tw = (P/(4000*3.14*d*l))+110 \t# [degree celsius] wire temperature\n",
    "\n",
    "\t\t\t\t# heat generated per unit V q_dot is calculated as\n",
    "\t\t\t\t# P = q_dot*V = q_dot*3.14*r**(2)*l\n",
    "r = d/2 \t\t\t# [m] radius of wire\n",
    "q_dot = P/(math.pi*r**(2)*l) \t# [W/m**(3)]\n",
    "\t\t\t\t# finally the center temperature of the wire is \t\t\t\t\tcalculated from equation (2-26)\n",
    "\t\n",
    "To = ((q_dot*(r**(2)))/(4*k))+Tw\t # [degree celsius]\n",
    "\n",
    "\n",
    "#Result\n",
    "\n",
    "print \"Center temperature of the wire is:\",round(To,1) ,\"degree celsius\""
   ]
  },
  {
   "cell_type": "markdown",
   "metadata": {},
   "source": [
    "## Exa 2.8"
   ]
  },
  {
   "cell_type": "code",
   "execution_count": 7,
   "metadata": {
    "collapsed": false
   },
   "outputs": [
    {
     "name": "stdout",
     "output_type": "stream",
     "text": [
      "Heat loss from the fin per unit length is 360.0 W/m\n"
     ]
    }
   ],
   "source": [
    "#Example Number 2.8\n",
    "# Calculate heat loss per unit depth of the material\n",
    "\n",
    "#Variable declaration\n",
    "\n",
    "t = 0.003 \t\t# [m] thickness of fin\n",
    "L = 0.075 \t\t# [m] length of fin\n",
    "Tb = 300 \t\t# [degree celsius] base temperature\n",
    "Tair = 50 \t\t# [degree celsius] ambient temperature\n",
    "k = 200 \t\t# [W/m per deg C] heat transfer coefficient of aluminium fin\n",
    "h = 10 \t\t\t# [W/sq m per deg C] convectional heat transfer coefficient\n",
    "\t\t\t# We Will use the approximate method of solution by extending \t\t\tthe fin \n",
    "\t\t\t# With a fictitious length t/2\n",
    "\t\t\t# using equation(2-36)\n",
    "\n",
    "#Calculation\n",
    "Lc = L+t/2 \t\t# [m] corrected length\n",
    "z = 1 \t\t\t# [m] unit depth\n",
    "p = (2*z+2*t) \t\t# [m] perimeter of fin\n",
    "A = z*t \t\t# [square meter] crossectional area of fin\n",
    "m = ((h*p)/(k*A))**(0.5)\n",
    "\t \n",
    "\t\t\t\t\t\t# from equation(2-36)\n",
    "dt = Tb-Tair \t\t\t\t\t# [degree C] temperature difference\n",
    "import math\n",
    "q = math.tanh(m*Lc)*((h*p*k*A)**(0.5))*dt\t# [W/m] heat transfer per unit length \n",
    "\n",
    "#Results\n",
    "print \"Heat loss from the fin per unit length is\",round(q),\"W/m\" \n"
   ]
  },
  {
   "cell_type": "markdown",
   "metadata": {},
   "source": [
    "## Exa 2.9"
   ]
  },
  {
   "cell_type": "code",
   "execution_count": 8,
   "metadata": {
    "collapsed": false
   },
   "outputs": [
    {
     "name": "stdout",
     "output_type": "stream",
     "text": [
      "The actual heat transferred is: 60.97  W\n"
     ]
    }
   ],
   "source": [
    "#Example Number 2.9\n",
    "# Calculate the heat loss per fin\n",
    "\n",
    "#Variable declaration\n",
    "\n",
    "t = 0.001 \t\t\t# [m] thickness of fin\n",
    "L = 0.015 \t\t\t# [m] length of fin\n",
    "Ts = 170\t\t\t# [degree celsius] surface temperature\n",
    "Tfluid = 25 \t\t\t# [degree celsius] fluid temperature\n",
    "k = 200 \t\t\t# [W/m per deg C] heat transfer coefficient of \t\t\t\t\t\t  aluminium fin\n",
    "h = 130 \t\t\t# [W/sq m per deg C] \t\t\t\t  convectional heat transfercoefficient\n",
    "d = 0.025 \t\t\t# [m] tube diameter\n",
    "Lc = L+t/2\t\t\t# [m] corrected length\n",
    "r1 = d/2 \t\t\t# [m] radius of tube\n",
    "r2_c = r1+Lc \t\t\t# [m] corrected radius\n",
    "\n",
    "#Calculation\n",
    "\n",
    "Am = t*(r2_c-r1) \t\t# [sq m] profile area \n",
    "c = r2_c/r1 \t\t\t# constant to determine\tefficiency of fin from curve \n",
    "\n",
    "c1 = ((Lc)**(1.5))*((h/(k*Am))**(0.5)) \t# constant to determine efficiency of fin from \t\t\t\t\tcurve\n",
    "\n",
    "\t\t     \t\t# using c and c1 to determine the efficiency \t\t\t\t\t\tof the fin from figure (2-12)\n",
    "\t\t\t\t# we get nf = 82 percent\n",
    "\t\t\t\t# heat would be transferred if the entire fin were at \t\t\t\t\tthe base temperature \n",
    "\t\t\t\t# both sides of fin exchanging heat \n",
    "import math\n",
    "q_max = 2*math.pi*(r2_c**(2)-r1**(2))*h*(Ts-Tfluid) \t# [W] maximum heat transfer\n",
    "q_act = 0.82*q_max \t\t\t\t\t#[W] actual heat transfer\n",
    "\n",
    "#Result\n",
    "print\"The actual heat transferred is:\",round(q_act,2),\" W\"\n",
    "\n"
   ]
  },
  {
   "cell_type": "markdown",
   "metadata": {},
   "source": [
    "## Exa 2.10"
   ]
  },
  {
   "cell_type": "code",
   "execution_count": 10,
   "metadata": {
    "collapsed": false
   },
   "outputs": [
    {
     "name": "stdout",
     "output_type": "stream",
     "text": [
      "The expression for the temperature distribution in the rod is \n",
      "theta`=(((theta1`*exp^(2*m*L)-theta2`*exp^(m*L))*exp^(-m*x))+((theta2`exp^(m*L)-theta1`)exp^(m*x))/(exp^(2*m*L)-1))\n",
      "for an infinitely long heat generating fin with the left end maintained at T1, the temperature distribution becomes \n",
      "theta`/theta1 = exp^(-m*x)\n"
     ]
    }
   ],
   "source": [
    "#Example Number 2.10\n",
    "#Obtain an expression for the temperature distribution in rod\n",
    "\n",
    "#Variable declaration & Calculations\n",
    "\n",
    "\t# q_dot is uniform heat source per unit volume \n",
    "\t# h is convection coefficient\n",
    "\t# k is heat transfer coefficient\n",
    "\t# A is area of crossection\n",
    "\t# P is perimeter \n",
    "\t# Tinf is environment temperature \n",
    "\t# we first make an energy balance on the element of the rod shown in \tfigure(2-10)\n",
    "\t# energy in left place + heat generated in element  =  energy out right face + \tenergy lost by convection\n",
    "\t# or \n",
    "\t# -(k*A*dT_by_dx)+(q_dot*A*dx) = \t-(k*A(dT_by_dx+(d2T_by_dx2)*dx))+h*P*dx*(T-Tinf)\n",
    "\t# simlifying we have \n",
    "\t# d2T_by_dx2-((h*P)/(k*A))*(T-Tinf)+q_dot/k = 0\n",
    "\t# replacing theta = (T-Tinf) and (square meter) = ((h*P)/(k*A))\n",
    "\t# d2theta_by_dx2-(square meter)*theta+q_dot/k = 0\n",
    "\t# we can make a further substitution as theta` = theta-(q_dot/(k*(square \tmeter)))\n",
    "\t# so that our differential equation becomes \n",
    "\t# d2theta`_by_dx2-(square meter)*theta`\n",
    "\t# which has the general solution theta` = C1*exp^(-m*x)+C2*exp^(m*x)\n",
    "\t# the two end temperatures are used to establish the boundary conditions:\n",
    "\t# theta` = theta1` = T1-Tinf-q_dot/(k*(square meter)) = C1+C2\n",
    "\t# theta` = theta2` = T2-Tinf-q_dot/(k*(square meter)) = \tC1*exp^(-m*L)+C2*exp^(m*L)\n",
    "\t# solving for the constants C1 and C2 gives \n",
    "\t\t#((theta1`*exp^(2*m*L)-theta2`*exp^(m*L))*exp^(-m*x))+((theta2`exp^(m*L)-theta1`)exp^(m*x))/(exp^(2*m*L)-1))\n",
    "\n",
    "\n",
    "#RESULTS\n",
    "\n",
    "print\"The expression for the temperature distribution in the rod is \" \n",
    "\n",
    "print\"theta`=(((theta1`*exp^(2*m*L)-theta2`*exp^(m*L))*exp^(-m*x))+((theta2`exp^(m*L)-theta1`)exp^(m*x))/(exp^(2*m*L)-1))\" \n",
    "\n",
    "print\"for an infinitely long heat generating fin with the left end maintained at T1, the temperature distribution becomes \" \n",
    "\n",
    "print\"theta`/theta1 = exp^(-m*x)\" "
   ]
  },
  {
   "cell_type": "markdown",
   "metadata": {},
   "source": [
    "## Exa 2.11"
   ]
  },
  {
   "cell_type": "code",
   "execution_count": 11,
   "metadata": {
    "collapsed": false
   },
   "outputs": [
    {
     "name": "stdout",
     "output_type": "stream",
     "text": [
      "Overall heat flow is: 5.52 W\n",
      "The temperature drop across the contact is: 4.3 degree celsius\n"
     ]
    }
   ],
   "source": [
    "#Example Number 2.11\n",
    "# Calculate the axial heat flow and temperature drop across the contact surface\n",
    "\n",
    "#Variable declaration\n",
    "\n",
    "d = 0.03\t\t #[m] diameter of steel bar\n",
    "l = 0.1                  #[m] length of steel bar\n",
    "import math\n",
    "A = (math.pi*d**(2))/4\t # [square meter] crossectional area of bar \n",
    "k = 16.3 \t\t # [W/sq m per degree celsius] thermal conductivity of tube \n",
    "hc = 1893.93\t\t # [W/sq m per degree celsius] contact coefficient\n",
    "\t\t     # the overall heat flow is subjected to three thermal resistances \n",
    "\t\t     # one conduction resistance for each bar\n",
    "\t\t     # contact resistance \n",
    "#Calculation\n",
    "\n",
    "Rth = l/(k*A)            # [degree celsius /W]\n",
    "\n",
    "\t\t     # from table(2-2) the contact resistance is \n",
    "Rc = 1/(hc*A) \t         # [degree celsius /W]\n",
    "Rt = 2*Rth+Rc\t\t # [degree celsius /W] total resistance\n",
    "dt = 100\t\t # [degree celsius] temperature difference\n",
    "q = dt/Rt \t\t # [W] overall heat flow\n",
    "\n",
    "#Results\n",
    "\n",
    "print \"Overall heat flow is:\",round(q,2),\"W\" \n",
    "\n",
    "\t\t# temperature drop across the contact is found by taking the ratio \n",
    "\t\t# of the contact resistance to the total thermal resistance \n",
    "\n",
    "dt_c = (Rc/(2*Rth))*dt\t\t\t # [degree celsius]\n",
    "\n",
    "\n",
    "print \"The temperature drop across the contact is:\",round(dt_c,2),\"degree celsius\"\n"
   ]
  }
 ],
 "metadata": {
  "kernelspec": {
   "display_name": "Python 2",
   "language": "python",
   "name": "python2"
  },
  "language_info": {
   "codemirror_mode": {
    "name": "ipython",
    "version": 2
   },
   "file_extension": ".py",
   "mimetype": "text/x-python",
   "name": "python",
   "nbconvert_exporter": "python",
   "pygments_lexer": "ipython2",
   "version": "2.7.6"
  }
 },
 "nbformat": 4,
 "nbformat_minor": 0
}
