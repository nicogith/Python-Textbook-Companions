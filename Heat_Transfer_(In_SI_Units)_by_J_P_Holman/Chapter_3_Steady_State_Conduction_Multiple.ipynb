{
 "cells": [
  {
   "cell_type": "markdown",
   "metadata": {},
   "source": [
    "# Chapter 3 Steady State Conduction Multiple Dimension"
   ]
  },
  {
   "cell_type": "markdown",
   "metadata": {},
   "source": [
    "## Exa 3.1"
   ]
  },
  {
   "cell_type": "code",
   "execution_count": 1,
   "metadata": {
    "collapsed": false
   },
   "outputs": [
    {
     "name": "stdout",
     "output_type": "stream",
     "text": [
      "Heat lost by the pipe is 859.9 W\n"
     ]
    }
   ],
   "source": [
    "#Example Number 3.1\n",
    "# Calculate the heat loss by the pipe\n",
    "\n",
    "# Variable declaration\n",
    "\n",
    "d = 0.15 \t\t\t# [m] diameter of pipe\n",
    "r = d/2 \t\t\t# [m] radius of pipe\n",
    "L = 4 \t\t\t\t# [m] length of pipe\n",
    "Tp = 75\t\t\t\t# [degree celsius] pipe wall temperature\n",
    "Tes = 5 \t\t\t# [degree celsius] earth surface temperature\n",
    "k = 0.8\t\t\t\t# [W/m per deg C] thermal conductivity of earth \n",
    "D = 0.20 \t\t\t# [m] depth of pipe inside earth\n",
    "\n",
    "\t# We may calculate the shape factor for this situation using equation given in \ttable 3-1 \n",
    "\t\n",
    "\t# since D<3*r\n",
    "#Calculation\n",
    "import math\n",
    "S = (2*math.pi*L)/math.acosh(D/r) \t# [m] shape factor\n",
    "\t# the heat flow is calculated from \n",
    "q = k*S*(Tp-Tes) \t\t\t# [W]\n",
    "\n",
    "#Result\n",
    "print\"Heat lost by the pipe is\",round(q,1),\"W\""
   ]
  },
  {
   "cell_type": "markdown",
   "metadata": {},
   "source": [
    "## Exa 3.2"
   ]
  },
  {
   "cell_type": "code",
   "execution_count": 2,
   "metadata": {
    "collapsed": false
   },
   "outputs": [
    {
     "name": "stdout",
     "output_type": "stream",
     "text": [
      "Heat lost through the walls is: 8.592 kW\n"
     ]
    }
   ],
   "source": [
    "#Example Number 3.2 \n",
    "# Calculate heat loss through the walls\n",
    "\n",
    "# VARIABLE DECLARATION\n",
    "\n",
    "a = 0.5 \t     # [m] length of side of cubical furnace\n",
    "Ti = 500 \t     # [degree celsius] inside furnace temperature\n",
    "To = 50 \t     # [degree celsius] outside temperature\n",
    "k = 1.04 \t     # [W/m per degree celsius] thermal conductivity of fireclay brick \n",
    "t = 0.10 \t     # [m] wall thickness\n",
    "A = a*a \t     # [square meter] area of one face \n",
    "\t\t     # we compute the total shape factor by adding the shape factors \t\t       \t       for the walls, edges and corners\n",
    "\n",
    "#Calculation\n",
    "Sw = A/t\t     # [m] shape factor for wall\n",
    "Se = 0.54*a \t     # [m] shape factor for edges\n",
    "Sc = 0.15*t\t     # [m] shape factor for corners\n",
    "\n",
    "\t\t     # there are six wall sections, twelve edges and eight corners, so \t\t\tthe total shape factor S is\n",
    "\n",
    "S = 6*Sw+12*Se+8*Sc  \t# [m]\n",
    "\t\t   \n",
    "\t\t# the heat flow is calculated as \n",
    "\n",
    "q = k*S*(Ti-To) \t# [W]\n",
    "\n",
    "#Result\n",
    "print\"Heat lost through the walls is:\",round(q/1000,3),\"kW\" \n"
   ]
  },
  {
   "cell_type": "markdown",
   "metadata": {},
   "source": [
    "## Exa 3.3"
   ]
  },
  {
   "cell_type": "code",
   "execution_count": 4,
   "metadata": {
    "collapsed": false
   },
   "outputs": [
    {
     "name": "stdout",
     "output_type": "stream",
     "text": [
      "Heat lost by disk is: 198.46 W\n"
     ]
    }
   ],
   "source": [
    "#Example Number 3.3\n",
    "# Calculate the heat loss by the disk\n",
    "\n",
    "# Variable declaration\n",
    "\n",
    "import math\n",
    "d = 0.30 \t# [m] diameter of disk\n",
    "r = d/2 \t# [m] radius of disk\n",
    "Td = 95 \t# [degree celsius] disk temperature\n",
    "Ts = 20 \t# [degree celsius] isothermal surface temperature\n",
    "k = 2.1 \t# [W/m per degree celsius] thermal conductivity of medium \n",
    "D = 1.0 \t# [m] depth of disk in a semi-infinite medium\n",
    "\t# We have to calculate shape factor using relation given in table (3-1) \n",
    "\t# We select the relation for the shape factor is for the case D/(2*r)>1\n",
    "\n",
    "#Calculation\n",
    "S = (4*math.pi*r)/((math.pi/2)-math.atan(r/(2*D)))\t # [m] shape factor\n",
    "\t# heat lost by the disk is \n",
    "q = k*S*(Td-Ts) \t\t\t\t\t # [W]\n",
    "\n",
    "#Result\n",
    "print\"Heat lost by disk is:\",round(q,2),\"W\""
   ]
  },
  {
   "cell_type": "markdown",
   "metadata": {},
   "source": [
    "## Exa 3.4"
   ]
  },
  {
   "cell_type": "code",
   "execution_count": 5,
   "metadata": {
    "collapsed": false
   },
   "outputs": [
    {
     "name": "stdout",
     "output_type": "stream",
     "text": [
      "Heat transfer between the disks is: 308.4 W\n"
     ]
    }
   ],
   "source": [
    "#Example Number 3.4 \n",
    "#Calculate the heat transfer betwwen the disks\n",
    "\n",
    "# Variable declaration\n",
    "\n",
    "d = 0.50\t # [m] diameter of both disk\n",
    "r = d/2 \t # [m] radius of disk\n",
    "Td1 = 80\t # [degree celsius] first disk temperature\n",
    "Td2 = 20 \t # [degree celsius] second disk temperature\n",
    "k = 2.3 \t # [W/m per degree celsius] thermal conductivity of medium \n",
    "D = 1.5\t\t # [m] seperation of disk in a infinite medium\n",
    "\t# We have to calculate shape factor using relation given in table (3-1) \n",
    "\t# We select the relation for the shape factor is for the case D>5*r\n",
    "#Calculation\n",
    "import math\n",
    "\n",
    "S = (4*math.pi*r)/((math.pi/2)-math.atan(r/D)) # [m] shape factor\n",
    "q = k*S*(Td1-Td2) # [W]\n",
    "\n",
    "#Result\n",
    "print\"Heat transfer between the disks is:\",round(q,1),\"W\" \n",
    "\n"
   ]
  }
 ],
 "metadata": {
  "kernelspec": {
   "display_name": "Python 2",
   "language": "python",
   "name": "python2"
  },
  "language_info": {
   "codemirror_mode": {
    "name": "ipython",
    "version": 2
   },
   "file_extension": ".py",
   "mimetype": "text/x-python",
   "name": "python",
   "nbconvert_exporter": "python",
   "pygments_lexer": "ipython2",
   "version": "2.7.6"
  }
 },
 "nbformat": 4,
 "nbformat_minor": 0
}
