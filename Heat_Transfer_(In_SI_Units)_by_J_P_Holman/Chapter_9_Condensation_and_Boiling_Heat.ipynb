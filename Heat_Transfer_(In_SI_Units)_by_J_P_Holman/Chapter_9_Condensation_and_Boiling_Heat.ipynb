{
 "cells": [
  {
   "cell_type": "markdown",
   "metadata": {},
   "source": [
    "# Chapter 9 Condensation and Boiling Heat Transfer"
   ]
  },
  {
   "cell_type": "markdown",
   "metadata": {},
   "source": [
    "## Exa 9.1"
   ]
  },
  {
   "cell_type": "code",
   "execution_count": 1,
   "metadata": {
    "collapsed": false
   },
   "outputs": [
    {
     "name": "stdout",
     "output_type": "stream",
     "text": [
      "Value of reynolds no. is 49.7 so the laminar assumption was correct\n",
      "The heat transfer is 2368.0 w\n",
      "Total mass flow condensate is 3.78 kg/h\n"
     ]
    }
   ],
   "source": [
    "#Example Number 9.1\n",
    "# condensation on vertical plate\n",
    "\n",
    "#Variable declaration\n",
    "\n",
    "\t# we have to check the reynolds no. to that film is laminar or turbulent\n",
    "Tf = (100+98)/2 \t\t\t# [degree celsius]\n",
    "Tw = 98 \t\t\t\t# [degree celsius]\n",
    "RHOf=960 \t\t\t\t# [kg/cubic meter] \n",
    "MUf=2.82*10**(-4) \t\t\t# [kg/m s]\n",
    "Kf=0.68 \t\t\t\t# [W/m degree celsius]\n",
    "g=9.81 \t\t\t\t\t# [m/s**(2)]\n",
    "L=0.3 \t\t\t\t\t# [m]\n",
    "\t# RHOf(RHOf-RHOv)~RHOf**(2)\n",
    "\t# let us assume laminar film condensate \n",
    "Tsat=100 \t\t\t\t# [degree celsius]\n",
    "Tg=100 \t\t\t\t\t# [degree celsius]\n",
    "Hfg=2255*10**(3) \t\t\t# [J/kg]\n",
    "\n",
    "#Calculation\n",
    "\n",
    "hbar=0.943*((RHOf**(2)*g*Hfg*Kf**(3)/(L*MUf*(Tg-Tw)))**(0.25)) \t# [W/sq m deg celsius]\n",
    "h=hbar \t\t\t\t\t# [W/square meter degree celsius]\n",
    "\t# checking reynolds no. with equation(9-17)\n",
    "Ref=4*h*L*(Tsat-Tw)/(Hfg*MUf) \n",
    "\n",
    "print \"Value of reynolds no. is\",round(Ref,1),\"so the laminar assumption was correct\" \n",
    "\t# the heat transfer is now calculated from \n",
    "A=0.3*0.3 \t\t\t\t# [square meter]\n",
    "q=hbar*A*(Tsat-Tw) \t\t\t# [W]\n",
    "mdot=q/Hfg \t\t\t\t# [kg/h]\n",
    "\n",
    "#Result\n",
    "\n",
    "print \"The heat transfer is\",round(q),\"w\" \n",
    "mdot=mdot*3600 \t\t\t\t# [kg/h]\n",
    "print \"Total mass flow condensate is\",round(mdot,2),\"kg/h\" "
   ]
  },
  {
   "cell_type": "markdown",
   "metadata": {},
   "source": [
    "## Exa 9.2"
   ]
  },
  {
   "cell_type": "code",
   "execution_count": 2,
   "metadata": {
    "collapsed": false
   },
   "outputs": [
    {
     "name": "stdout",
     "output_type": "stream",
     "text": [
      "Total surface area is 3.99 square meter/m\n",
      "Heat transfer is 100.1 kW/m\n",
      "Total mass flow of condensate is 159.8 kg/h\n"
     ]
    }
   ],
   "source": [
    "#Example Number 9.2\n",
    "# condensation on tube tank\n",
    "\n",
    "# Variable declaration\n",
    "\n",
    "\t# the condensate properties are obtained from previous example\n",
    "\t# replacing L by n*d\n",
    "Tw=98 \t\t\t\t# [degree celsius]\n",
    "RHOf=960 \t\t\t# [kg/cubic meter] \n",
    "MUf=2.82*10**(-4) \t\t# [kg/m s]\n",
    "Kf=0.68 \t\t\t# [W/m degree celsius]\n",
    "g=9.81 \t\t\t\t# [m/s^(2)]\n",
    "Tsat=100 \t\t\t# [degree celsius]\n",
    "Tg=100 \t\t\t\t# [degree celsius]\n",
    "Hfg=2255*10**(3) \t\t# [J/kg]\n",
    "d=0.0127 \t\t\t# [m]\n",
    "n=10 \n",
    "\n",
    "#Calculation\n",
    "\n",
    "hbar=0.725*((RHOf**(2)*g*Hfg*Kf**(3)/(n*d*MUf*(Tg-Tw)))**(0.25)) # [W/sq m deg C]\n",
    "\t# total surface area is \n",
    "n=100 \n",
    "Al=n*22*d/7 \t\t\t# [square meter]\n",
    "print \"Total surface area is\",round(Al,2),\"square meter/m\" \n",
    "\t# so the heat transfer is \n",
    "Ql=hbar*Al*(Tg-Tw)\t\t # [W]\n",
    "\n",
    "#Result  \n",
    "\n",
    "print \"Heat transfer is\",round(Ql/1000,2),\"kW/m\" \n",
    "\t# total mass flow of condensate is then \n",
    "mdotl=Ql/Hfg \t\t\t# [kg/h]\n",
    "mdotl=mdotl*3600\t\t# [kg/h]\n",
    "print \"Total mass flow of condensate is\",round(mdotl,1),\"kg/h\" "
   ]
  },
  {
   "cell_type": "markdown",
   "metadata": {},
   "source": [
    "## Exa 9.4"
   ]
  },
  {
   "cell_type": "code",
   "execution_count": 3,
   "metadata": {
    "collapsed": false
   },
   "outputs": [
    {
     "name": "stdout",
     "output_type": "stream",
     "text": [
      "Heat transfer in a 1.0 m length of tube is 2810.0 W/m\n"
     ]
    }
   ],
   "source": [
    "#Example Number 9.4\n",
    "# Flow boiling\n",
    "# Variable declaration\n",
    "\n",
    "p =0.5066\t\t\t# [MPa] pressure of water \n",
    "d = 0.0254 \t\t\t# [m] diameter of tube \n",
    "Tw = 10.0 \t\t\t# [degree celsius]\n",
    "\t\t\t\t# for calculation we use equation (9-45), noting that \n",
    "dT = 10.0 \t\t\t# [degree celsius]\n",
    "\t\t\t\t# the heat transfer coefficient is calculated as \n",
    "\n",
    "import math\n",
    "h = 2.54*Tw**(3)*math.exp(p/1.551) \t# [W/square meter degree celsius]\n",
    "\n",
    "\t\t# the surface area for a 1-m length of tube is \n",
    "L = 1 \t\t\t\t# [m]\n",
    "import math\n",
    "A = math.pi*d*L \t\t# [square meter]\n",
    "\n",
    "\t\t# so the heat transfer is \n",
    "q = h*A*dT \t\t\t# [W/m]\n",
    "print \"Heat transfer in a 1.0 m length of tube is\",round(q),\"W/m\" "
   ]
  },
  {
   "cell_type": "markdown",
   "metadata": {},
   "source": [
    "## Exa 9.5"
   ]
  },
  {
   "cell_type": "code",
   "execution_count": 4,
   "metadata": {
    "collapsed": false
   },
   "outputs": [
    {
     "name": "stdout",
     "output_type": "stream",
     "text": [
      "Heat flux obtained is 22.8 kW/square meter\n",
      "If the pan operates as a pressure cooker at 0.17 MPa the increase in heat flux is 23.0 percent\n"
     ]
    }
   ],
   "source": [
    "#Example Number 9.5\n",
    "# water boiling in a pan \n",
    "\n",
    "# Variable declaration\n",
    "\n",
    "p = 0.101\t\t\t\t# [MPa] pressure of water \n",
    "dT_x = 8 \t\t\t\t# [degree celsius]\n",
    "p1 = 0.17 \t\t\t\t# [MPa] given operating pressure\n",
    "\t# we will use the simplified relation of table 9-13(page no.-506) for the \t\testimates.we do not know the value of q_by_A and so must choose one of the two \trelation for a horizontal surface from the table\n",
    "\t# we anticipate nucleate boiling, so choose\n",
    "h = 5.56*dT_x**(3) \t\t\t# [W/square meter degree celsius]\n",
    "\t\t\t\t\t# and the heat flux is \n",
    "q_by_A = h*dT_x \t\t\t# [W/square meter]\n",
    "\t# for operation as a pressure cooker we obtain the value of h from \t\tequation(9-44)\n",
    "\n",
    "#Calculation\n",
    "\n",
    "hp = h*(p1/p)**(0.4) \t\t\t# [W/square meter degree celsius]\n",
    "\t# the corresponding heat flux is \n",
    "q_by_A1 = hp*dT_x \t\t\t# [W/square meter]\n",
    "\n",
    "#Result\n",
    "\n",
    "print \"Heat flux obtained is\",round(q_by_A/1000,1),\"kW/square meter\" \n",
    "per_inc = 100*(q_by_A1-q_by_A)/q_by_A \n",
    "\n",
    "print \"If the pan operates as a pressure cooker at 0.17 MPa the increase in heat flux is\",round(per_inc),\"percent\" \n"
   ]
  },
  {
   "cell_type": "markdown",
   "metadata": {},
   "source": [
    "## Exa 9.6"
   ]
  },
  {
   "cell_type": "code",
   "execution_count": 5,
   "metadata": {
    "collapsed": false
   },
   "outputs": [
    {
     "name": "stdout",
     "output_type": "stream",
     "text": [
      "Thus the heat transfers  14.0 times the heat of a pure copper rod with a substantial temperature gradient\n"
     ]
    }
   ],
   "source": [
    "#Example Number 9.6\n",
    "# heat-flux comparisons \n",
    "\n",
    "# Variable declaration\n",
    "\n",
    "Tw = 200.0 \t\t\t\t# [degree celsius] water temperature \n",
    "L = 0.08 \t\t\t\t# [m] length of solid copper bar\n",
    "dT = 100.0 \t\t\t\t# [degree C] temp differential in copper bar\n",
    "\t#using the data of table 9-4(page no.-508)\n",
    "\t# the heat flux per unit area is expressed as q_by_A = -k*del_T/dx\n",
    "\t# from table A-2(page no.-) the thermal conductivity of copper is \n",
    "k = 374.0 \t\t\t\t# [W/m degree celsius]\n",
    "\n",
    "#Calculation\n",
    "\n",
    "q_by_A = -k*(-dT)/L \t\t\t# [W/square meter]\n",
    "\n",
    "\t# from table 9-4(page no.-508) the typical axial heat flux for a water heat \t\tflux for a water heat pipe is \n",
    "q_by_A_axial = 0.67 \t\t\t# [kW/csquare meter]\n",
    "q_by_A = q_by_A/(1000*10**(4.0)) \t# [kW/csquare meter]\n",
    "time=q_by_A_axial/q_by_A\n",
    "\n",
    "#Result\n",
    "\n",
    "print \"Thus the heat transfers \",round(time),\"times the heat of a pure copper rod with a substantial temperature gradient\" "
   ]
  }
 ],
 "metadata": {
  "kernelspec": {
   "display_name": "Python 2",
   "language": "python",
   "name": "python2"
  },
  "language_info": {
   "codemirror_mode": {
    "name": "ipython",
    "version": 2
   },
   "file_extension": ".py",
   "mimetype": "text/x-python",
   "name": "python",
   "nbconvert_exporter": "python",
   "pygments_lexer": "ipython2",
   "version": "2.7.6"
  }
 },
 "nbformat": 4,
 "nbformat_minor": 0
}
