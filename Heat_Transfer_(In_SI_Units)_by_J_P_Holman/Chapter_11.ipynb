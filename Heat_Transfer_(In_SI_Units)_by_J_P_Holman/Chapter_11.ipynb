{
 "cells": [
  {
   "cell_type": "markdown",
   "metadata": {},
   "source": [
    "# Chapter 11 Mass Transfer"
   ]
  },
  {
   "cell_type": "markdown",
   "metadata": {},
   "source": [
    "## Exa 11.1"
   ]
  },
  {
   "cell_type": "code",
   "execution_count": 1,
   "metadata": {
    "collapsed": false
   },
   "outputs": [
    {
     "name": "stdout",
     "output_type": "stream",
     "text": [
      "value of diffusion coefficient for co2 in air is 0.132 square centimeter/s\n",
      "From Table A-8,D=0.164 sq cm/s\n",
      " So,they are in fair agreement\n"
     ]
    }
   ],
   "source": [
    "#Example Number 11.1\n",
    "# diffusion coefficient for co2\n",
    "\n",
    "# Variable declaration\n",
    "\n",
    "T =298.0\t\t\t# [K] temperature of air\n",
    "Vco2 = 34.0 \t\t\t# molecular volume of co2\n",
    "Vair = 29.9 \t\t\t# molecular volume of air\n",
    "Mco2 = 44.0 \t\t\t# molecular weight of co2\n",
    "Mair = 28.9 \t\t\t# molecular weight of air\n",
    "P = 1.0132*10**(5) \t\t# [Pa] atmospheric pressure\n",
    "\t# using equation (11-2)\n",
    "#Calculation\n",
    "D = 435.7*T**(3.0/2.0)*(((1/Mco2)+(1/Mair))**(1.0/2.0))/(P*(Vco2**(1.0/3.0)+Vair**(1.0/3.0))**(2)) \n",
    "\n",
    "#Result\n",
    "print \"value of diffusion coefficient for co2 in air is\",round(D,3),\"square centimeter/s\" \n",
    "print \"From Table A-8,D=0.164 sq cm/s\\n So,they are in fair agreement\"\n"
   ]
  },
  {
   "cell_type": "markdown",
   "metadata": {},
   "source": [
    "## Exa 11.3"
   ]
  },
  {
   "cell_type": "code",
   "execution_count": 4,
   "metadata": {
    "collapsed": false
   },
   "outputs": [
    {
     "name": "stdout",
     "output_type": "stream",
     "text": [
      "Temperature of dry air is 53.66 degree celsius\n",
      "  recalculate the density at the arithmetic-average temperature between wall and free-stream conditions\n",
      "With this adjustments these results are RHO = 1.143 kg/m**(3) and Tinf = 55.8 degree celcius\n"
     ]
    }
   ],
   "source": [
    "#Example Number 11.3\n",
    "# Wet-bulb temperature\n",
    "\n",
    "#Variable declaration\n",
    "\n",
    "Pg = 2107.0\t\t\t# [Pa] from steam table at 18.3 degree celcius\n",
    "Pw = Pg*18.0 \t\t\t# [Pa]\n",
    "Rw = 8315.0 \t\t\t# [J/mol K] gas constant\n",
    "Tw = 273+18.3\t \t\t# [K]\n",
    "\n",
    "RHOw = Pw/(Rw*Tw) \t\t# [kg/cubic meter]\n",
    "\n",
    "\n",
    "Cw = RHOw \t\t\t# [kg/cubic meter]\n",
    "RHOinf = 0.0 \t\t\t# since the free stream is dry air\n",
    "Cinf = 0.0 \n",
    "P = 1.01325*10**(5) \t\t# [Pa]\n",
    "R = 287 \t\t\t# [J /kg  K]\n",
    "T = Tw \t\t\t\t# [K]\n",
    "RHO = P/(R*T) \t\t\t# [kg/cubic meter]\n",
    "\n",
    "Cp = 1004.0 \t\t\t# [J/kg degree celsius]\n",
    "Le = 0.845 \n",
    "Hfg = 2.456*10**(6) \t\t# [J/kg]\n",
    "#Calculations\n",
    "# now using equation(11-31)\n",
    "\n",
    "Tinf = (((Cw-Cinf)*Hfg)/(RHO*Cp*(Le**(2.0/3.0))))+Tw \t# [K]\n",
    "Tin = Tinf-273 \t\t\t\t\t# [degree celsius]\n",
    "\n",
    "print \"Temperature of dry air is\",round(Tin,2),\"degree celsius\" \n",
    "print \"  recalculate the density at the arithmetic-average temperature between wall and free-stream conditions\" \n",
    "print \"With this adjustments these results are RHO = 1.143 kg/m**(3) and Tinf = 55.8 degree celcius\"\n",
    "\n"
   ]
  },
  {
   "cell_type": "markdown",
   "metadata": {},
   "source": [
    "## Exa 11.4"
   ]
  },
  {
   "cell_type": "code",
   "execution_count": 5,
   "metadata": {
    "collapsed": false
   },
   "outputs": [
    {
     "name": "stdout",
     "output_type": "stream",
     "text": [
      "Relative humidity is therefore 27.8 percentage\n"
     ]
    }
   ],
   "source": [
    "#Example Number 11.4\n",
    "# relative humidity of air stream\n",
    "\n",
    "#Variable declaration\n",
    "\n",
    "\t\t# these data were taken from previous example\n",
    "Rho = 1.212 \t\t\t\t\t# [kg/cubic meter]\n",
    "Cp = 1004 \t\t\t\t\t# [J/kg]\n",
    "Le = 0.845 \n",
    "Tw = 18.3 \t\t\t\t\t# [degree celsius]\n",
    "Tinf = 32.2 \t\t\t\t\t# [degree celsius]\n",
    "Rhow = 0.015666 \t\t\t\t# [kg/cubic meter]\n",
    "Cw = Rhow \t\t\t\t\t# [kg/cubic meter]\n",
    "\n",
    "#calculation\n",
    "\n",
    "Hfg = 2.456*10**(6) \t\t\t\t# [J/kg]\n",
    "\t\t# we use eqn 11-31\n",
    "Cinf = Cw-(Rho*Cp*Le**(2.0/3.0)*(Tinf-Tw)/Hfg) \t# [kg/cubic meter]\n",
    "Rhoinf = Cinf \t\t\t\t\t# [kg/cubic meter]\n",
    "Rhog = 0.0342 \t\t\t\t\t# [kg/cubic meter]\n",
    "RH = (Rhoinf/Rhog)*100 \n",
    "\n",
    "#Result\n",
    "\n",
    "print \"Relative humidity is therefore\",round(RH,1),\"percentage\" \n"
   ]
  },
  {
   "cell_type": "markdown",
   "metadata": {},
   "source": [
    "## Exa 11.5"
   ]
  },
  {
   "cell_type": "code",
   "execution_count": 6,
   "metadata": {
    "collapsed": false
   },
   "outputs": [
    {
     "name": "stdout",
     "output_type": "stream",
     "text": [
      "Evaporation rate on the land under these conditions is 0.0028 kg/h square meter\n"
     ]
    }
   ],
   "source": [
    "#Example Number 11.5\n",
    "# water evaporation rate\n",
    "\n",
    "# Variable declaration\n",
    "\n",
    "Ta = 38+273 \t\t\t# [K] temperature of atmospheric air\n",
    "RH = 0.30 \t\t\t# relative humidity\n",
    "u = 10.0\t\t\t# [mi/h] mean wind speed\n",
    "R = 0.287 \t\t\t# universal gas constant\n",
    "Dw = 0.256*10**(-4) \t\t# [square meter/s] from table A-8(page no.-610)\n",
    "rho_w = 1000 \t\t\t# [kg/cubic meter]\n",
    "\t# for this calculation we can make use of equation(11-36). from thermodynamic \tsteam tables\n",
    "p_g = 6.545 \t\t\t# [kPa] at 38 degree celsius\n",
    "p_s = p_g \t\t\t# [kPa]\n",
    "p_w = RH*p_s \t\t\t# [kPa]\n",
    "p_s = 1.933 \t\t\t# [in Hg]\n",
    "p_w = 0.580 \t\t\t# [in Hg]\n",
    "\t# also \n",
    "u_bar = u*24 \t\t\t# [mi/day]\n",
    "\t# equation(11-36) yields, with the application of the 0.7 factor\n",
    "\n",
    "E_lp = 0.7*(0.37+0.0041*u_bar)*(p_s-p_w)**(0.88) \t\t# [in/day]\n",
    "E_lp = E_lp*2.54/100 \t\t\t\t\t\t# [m/day]\n",
    "\n",
    "\t# noting that standard pan has the diameter of 1.2m, we can use the figure to \t\tcalculate the mass evaporation rate per unit area as\n",
    "m_dot_w_by_A = E_lp*rho_w/24 \t\t\t\t# [kg/h square meter]\n",
    "\n",
    "\n",
    "\t# as a matter of interest, we might calculate the molecular-diffusion rate of \t\twater vapour from equation(11-35), taking z1 as the 1.5m dimension above the \t\tstandard pan.\n",
    "z1 = 1.5 \t\t\t\t\t\t\t# [m]\n",
    "\n",
    "\t# since     rho = p/(R*T)\n",
    "\t# equation(11-35) can be written as \n",
    "m_dot_w_by_A1 = 0.622*Dw*p_g*3600/(R*Ta*z1) \t\t\t# [kg/h square meter]\n",
    "\n",
    "#Result\n",
    "\n",
    "print \"Evaporation rate on the land under these conditions is\",round(m_dot_w_by_A1,4),\"kg/h square meter\"\n",
    "\n",
    "\n"
   ]
  }
 ],
 "metadata": {
  "kernelspec": {
   "display_name": "Python 2",
   "language": "python",
   "name": "python2"
  },
  "language_info": {
   "codemirror_mode": {
    "name": "ipython",
    "version": 2
   },
   "file_extension": ".py",
   "mimetype": "text/x-python",
   "name": "python",
   "nbconvert_exporter": "python",
   "pygments_lexer": "ipython2",
   "version": "2.7.6"
  }
 },
 "nbformat": 4,
 "nbformat_minor": 0
}
