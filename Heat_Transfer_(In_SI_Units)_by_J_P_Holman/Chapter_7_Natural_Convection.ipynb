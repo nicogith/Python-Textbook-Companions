{
 "cells": [
  {
   "cell_type": "markdown",
   "metadata": {},
   "source": [
    "# Chapter 7 Natural Convection Systems"
   ]
  },
  {
   "cell_type": "markdown",
   "metadata": {},
   "source": [
    "## Exa 7.1"
   ]
  },
  {
   "cell_type": "code",
   "execution_count": 1,
   "metadata": {
    "collapsed": false
   },
   "outputs": [
    {
     "name": "stdout",
     "output_type": "stream",
     "text": [
      "The average wall temperature is 185.0 degree celsius\n"
     ]
    }
   ],
   "source": [
    "#Example Number 7.1\n",
    "# constant heat flux from vertical plate  \n",
    "\n",
    "# Variable declaration\n",
    "\n",
    "q_w = 800.0 \t\t\t# [W/square meter] radiant energy flux\n",
    "H = 3.5 \t\t\t# [m] height of metal plate surface\n",
    "W = 2 \t\t\t\t# [m] width of metal plate\n",
    "Ta = 30 \t\t\t# [degree celsius] surrounding air temperature \n",
    "\t# we treat this problem as one with constant heat flux on the surface since we \tdo not know the surface temperature, we must make an estimate for determining \t\tTf and the air properties.\n",
    "\t# an approximate value of h for free convection problems is \n",
    "h = 10 \t\t\t\t# [W/square meter degree celsius]\n",
    "dT = q_w/h \t\t\t# [degree celsius]\n",
    "\t# then\n",
    "Tf = (dT/2)+Ta \t\t\t# [degree celsius] approximately \n",
    "\n",
    "#Calculation\n",
    "\n",
    "\t# at Tf the properties of air are \n",
    "v = 2.043*10**(-5) \t\t# [square meter/s]\n",
    "k = 0.0295 \t\t\t# [W/m degree celsius]\n",
    "Pr = 0.7 \t\t\t# prandtl number\n",
    "Beta = 1.0/(Tf+273) \t\t# [K**(-1)]\n",
    "\t# from equation (7-30), with\n",
    "x = 3.5 \t\t\t# [m]\n",
    "g = 9.8 \t\t\t# [square meter/s] acceleration due to gravity \n",
    "Gr_x = (g*Beta*q_w*x**(4))/(k*v**(2)) \n",
    "\n",
    "\n",
    "\t# we may therefore use equation (7-32) to evaluate h_x\n",
    "\n",
    "h_x = (k*0.17*(Gr_x*Pr)**(1.0/4.0))/x \t# [W/square meter degree celsius]\n",
    "\n",
    "\t# in the turbulent heat transfer governed by equation (7-32), we note that\n",
    "\t# Nu_x = h*x/k ~ (Gr_x)**(1/4) ~ x\n",
    "\t# or h_x doest noy vary with x, and we may take this as the average value. the \tvalue of h\n",
    "\n",
    "\n",
    "h = 5.41 \t\t\t# [W/square meter degree celsius]\n",
    "\t# is less than the approximate value we used to estimate Tf, recalculating dT, \t we obtain\n",
    "dT1 = q_w/h_x \t\t\t# [degree celsius]\n",
    "\n",
    "\n",
    "\t# our new film temperature would be\n",
    "Tf1 = Ta+dT1/2 \t\t\t# [degree celsius]\n",
    "\t# at Tf the properties of air are\n",
    "v1 = 2.354*10**(-5) \t\t# [square meter/s]\n",
    "k1 = 0.0320 \t\t\t# [W/m degree celsius]\n",
    "Pr1 = 0.695 \t\t\t# prandtl number\n",
    "Beta1 = 1/(Tf1+273) \t\t# [K**(-1)]\n",
    "\n",
    "\t# then \n",
    "Gr_x1 = (g*Beta1*q_w*x**(4))/(k1*v1**(2)) \n",
    "\t# and h_x is caalculated from\n",
    "h_x1 = (k1*0.17*(Gr_x1*Pr1)**(1.0/4.0))/x \t# [W/square meter degree celsius]\n",
    "\n",
    "\n",
    "\t# our new temperature difference is calculated as \n",
    "dT2 = q_w/h_x1 \t\t\t# [degree celsius]\n",
    "\n",
    "\n",
    "\t# the average wall temperature is therefore\n",
    "T_w_avg = dT2+Ta \t\t# [degree celsius]\n",
    "\n",
    "#Result\n",
    "print \"The average wall temperature is\",round(T_w_avg),\"degree celsius\" "
   ]
  },
  {
   "cell_type": "markdown",
   "metadata": {},
   "source": [
    "## Exa 7.2"
   ]
  },
  {
   "cell_type": "code",
   "execution_count": 2,
   "metadata": {
    "collapsed": false
   },
   "outputs": [
    {
     "name": "stdout",
     "output_type": "stream",
     "text": [
      "Heat transfer if the plate is 10 m wide is 9603.0 W\n"
     ]
    }
   ],
   "source": [
    "#Example Number 7.2\n",
    "# heat transfer from isothermal vertical plate\n",
    "\n",
    "# Variable declaration\n",
    "\n",
    "H = 4.0 \t\t\t\t# [m] height of vertical plate\n",
    "Tp = 60.0 \t\t\t# [degree celsius] plate temperature\n",
    "Ta = 10.0 \t\t\t# [degree celsius] atmospheric temperature\n",
    "\t# we first determine the film temperature as\n",
    "Tf = (Tp+Ta)/2 \t\t\t# [degree celsius]\n",
    "\t# the properties of interest are thus\n",
    "v = 16.5*10**(-6) \t\t# [square meter/s]\n",
    "k = 0.02685 \t\t\t# [W/m degree celsius]\n",
    "Pr = 0.7 \t\t\t# prandtl number\n",
    "Beta = 1/(Tf+273) \t\t# [K**(-1)]\n",
    "\n",
    "#Calculation\n",
    "\n",
    "g = 9.8 \t\t\t# [square meter/s] acceleration due to gravity \n",
    "\t# and\n",
    "Gr_into_Pr = (g*Beta*(Tp-Ta)*H**(3)*Pr)/(v**(2)) \n",
    "\n",
    "\t# we then may use equation (7-29) to obtain\n",
    "Nu_bar_root = (0.825+(0.387*(Gr_into_Pr)**(1.0/6.0))/(1+(0.492/Pr)**(9.0/16.0))**(8.0/27.0) )\n",
    "\n",
    "\n",
    "Nu_bar = (Nu_bar_root)**(2) \n",
    "\t# the heat transfer coefficient is \n",
    "h_bar = Nu_bar*k/H \t\t# [W/square meter degree celsius]\n",
    "\n",
    "\n",
    "\t# the heat transfer is \n",
    "A = H*10 \t\t\t# [square meter] for 10 m wide plate\n",
    "q = h_bar*A*(Tp-Ta) \t\t# [W]\n",
    "\n",
    "\t# as an alternative, we could employ the simpler relation \n",
    "Nu = 0.1*(Gr_into_Pr)**(1/3) \n",
    "\n",
    "#Result\n",
    "print \"Heat transfer if the plate is 10 m wide is\",round(q),\"W\" "
   ]
  },
  {
   "cell_type": "markdown",
   "metadata": {},
   "source": [
    "## Exa 7.3"
   ]
  },
  {
   "cell_type": "code",
   "execution_count": 3,
   "metadata": {
    "collapsed": false
   },
   "outputs": [
    {
     "name": "stdout",
     "output_type": "stream",
     "text": [
      "free-convection heat loss per unit length of heater is 443.0 W/m\n"
     ]
    }
   ],
   "source": [
    "#Example Number 7.3\n",
    "# heat transfer from horizontal tube in water\n",
    "\n",
    "# Variable declaration\n",
    "\n",
    "d = 0.02 \t\t\t# [m] diameter of heater\n",
    "Ts = 38 \t\t\t# [degree celsius] surface temperature of heater\n",
    "Tw = 27 \t\t\t# [degree celsius] water temperature\n",
    "\t# the film temperature is \n",
    "Tf = (Ts+Tw)/2 \t\t\t# [degree celsius]\n",
    "\t# from appendix A the properties of water are \n",
    "k = 0.630 \t\t\t# [W/m degree celsius] thermal conductivity\n",
    "\t# and the following term is particularly useful in obtaining the product GrPr \t\tproduct when it is multiplied by d**(3)*DT\n",
    "\t# g*Beta*rho**(2)*Cp/(mu*k) = 2.48*10**(10) [1/m**(3) degree celsius]\n",
    "\n",
    "K = 2.48*10**(10) \t\t# [1/m**(3) degree celsius]\n",
    "Gr_into_Pr = K*(Ts-Tw)*d**(3) \n",
    "\t\n",
    "\t# using table 7-1 (page number -328), we get \n",
    "\n",
    "C = 0.53 \n",
    "m = 1/4 \n",
    "\t# so that\n",
    "\n",
    "Nu = C*(Gr_into_Pr)**(1.0/4.0) \n",
    "h = Nu*k/d \t\t\t# [W/sq m deg C] convection heat transfer coefficient\n",
    "\t# the heat transfer is thus\n",
    "import math\n",
    "\n",
    "q_by_L = h*math.pi*d*(Ts-Tw) \t# [W/m]\n",
    "print\"free-convection heat loss per unit length of heater is\",round(q_by_L),\"W/m\""
   ]
  },
  {
   "cell_type": "markdown",
   "metadata": {},
   "source": [
    "## Exa 7.4"
   ]
  },
  {
   "cell_type": "code",
   "execution_count": null,
   "metadata": {
    "collapsed": true
   },
   "outputs": [],
   "source": [
    "#Example Number 7.4\n",
    "# heat transfer from fine wire in air\n",
    "\n",
    "# Variable declaration\n",
    "\n",
    "d = 0.00002 \t\t\t# [m] diameter of wire\n",
    "L = 0.5 \t\t\t# [m] length of wire whose temperature is maintained\n",
    "Ts = 54.0 \t\t\t# [degree celsius] surface temperature of wire \n",
    "Pa = 101325.0 \t\t\t# [Pa] pressure of air\n",
    "Ta = 0 \t\t\t\t# [degree celsius] temperature of air \n",
    "\t# we first determine the film temperature as\n",
    "Tf = (Ts+Ta)/2 \t\t\t# [degree celsius]\n",
    "\t# the properties of interest are thus\n",
    "v = 15.69*10**(-6) \t\t# [square meter/s]\n",
    "k = 0.02624 \t\t\t# [W/m degree celsius]\n",
    "Pr = 0.708 \t\t\t# prandtl number\n",
    "Beta = 1/(Tf+273) \t\t# [K^(-1)]\n",
    "g = 9.8 \t\t\t# [square meter/s] acceleration due to gravity \n",
    "\t# and\n",
    "Gr_into_Pr = (g*Beta*(Ts-Ta)*d**(3)*Pr)/(v**(2)) \n",
    "\t# from table 7-1 we find\n",
    "C = 0.675 \n",
    "m = 0.058 \n",
    "\t# so that\n",
    "Nu_bar = C*(Gr_into_Pr)**(m) \n",
    "h_bar = Nu_bar*k/d \t\t# [W/square meter degree celsius]\n",
    "\t# the heat required is \n",
    "import math\n",
    "A = math.pi*d*L \t\t# [square meter] surface area of wire \n",
    "q = h_bar*A*(Ts-Ta) \t\t# [W]\n",
    "print \"Electric power  to maintain the the wire temperature if the length is 0.5 m is\",round(q,3),\"W\" "
   ]
  },
  {
   "cell_type": "markdown",
   "metadata": {},
   "source": [
    "## Exa 7.5"
   ]
  },
  {
   "cell_type": "code",
   "execution_count": 5,
   "metadata": {
    "collapsed": false
   },
   "outputs": [
    {
     "name": "stdout",
     "output_type": "stream",
     "text": [
      "free-convection heat loss per unit length is 1.5 kW/m\n"
     ]
    }
   ],
   "source": [
    "#Example Number 7.5\n",
    "# heated horizontal pipe in air \n",
    "\n",
    "# Variable declaration\n",
    "\n",
    "d = 0.3048 \t\t\t# [m] diameter of pipe\n",
    "Ts = 250.0 \t\t\t# [degree celsius] surface temperature of pipe \n",
    "Ta = 15.0 \t\t\t# [degree celsius] temperature of air \n",
    "\t# we first determine the Grashof-prandtl number product and then select the \tappropriate constants from table 7-1(page no.-328) for use with              \tequation (7-25) \n",
    "\t# the properties of air are evaluated at the film temperature:\n",
    "Tf = (Ts+Ta)/2 \t\t\t# [degree celsius]\n",
    "\t# the properties of interest are thus\n",
    "v = 26.54*10**(-6) \t\t# [square meter/s]\n",
    "k = 0.03406 \t\t\t# [W/m degree celsius]\n",
    "Pr = 0.687 \t\t\t# prandtl number\n",
    "Beta = 1/(Tf+273) \t\t# [K**(-1)]\n",
    "g = 9.8 \t\t\t# [square meter/s] acceleration due to gravity\n",
    "Gr_d_into_Pr = g*Beta*(Ts-Ta)*d**(3)*Pr/(v**(2)) \n",
    "\t# from table 7-1 \n",
    "C = 0.53 \n",
    "m = 1.0/4.0 \n",
    "Nu_d = C*(Gr_d_into_Pr)**(m) \n",
    "h = Nu_d*k/d \t\t\t# [W/square meter degree celsius]\n",
    "\t# the heat transfer per unit length is then calculated from \n",
    "import math\n",
    "\n",
    "q_by_L = h*math.pi*d*(Ts-Ta) \t# [W/m]\n",
    "print \"free-convection heat loss per unit length is\",round(q_by_L/1000,1),\"kW/m\""
   ]
  },
  {
   "cell_type": "markdown",
   "metadata": {},
   "source": [
    "## Exa 7.6"
   ]
  },
  {
   "cell_type": "code",
   "execution_count": 6,
   "metadata": {
    "collapsed": false
   },
   "outputs": [
    {
     "name": "stdout",
     "output_type": "stream",
     "text": [
      "Heat transfer is 51.8 W\n"
     ]
    }
   ],
   "source": [
    "#Example Number 7.6 \n",
    "# cube cooling in air\n",
    "\n",
    "# Variable declaration\n",
    "\n",
    "L = 0.2 \t\t\t\t# [m] side length of cube\n",
    "Ts = 60 \t\t\t\t# [degree celsius] surface temperature of cube\n",
    "Ta = 10 \t\t\t\t# [degree celsius] air temperature\n",
    "\t# this is an irregular solid so we use the information in the last entry of \ttable 7-1(page no.-328) in the absence of a specific correlation for this    \tgeometry. \n",
    "\t# the properties were evaluated as\n",
    "v = 17.47*10**(-6)\t\t\t # [square meter/s]\n",
    "k = 0.02685 \t\t\t\t# [W/m degree celsius]\n",
    "Pr = 0.70 \t\t\t\t# prandtl number\n",
    "Beta = 3.25*10**(-3) \t\t\t# [K**(-1)]\n",
    "g = 9.8 \t\t\t\t# [square meter/s] acceleration due to gravity \n",
    "\t# the characteristic length is the distance a particle travels in the boundary \tlayer, which is L/2 along the bottom plus L along the side plus L/2 on  the \ttop or\n",
    "\n",
    "\n",
    "#Calculation\n",
    "Gr_into_Pr = (g*Beta*(Ts-Ta)*(2*L)**(3)*Pr)/(v**(2)) \n",
    "\t# from the last entry in table 7-1 we find\n",
    "C = 0.52 \n",
    "n = 1.0/4.0 \n",
    "\t# so that\n",
    "Nu = C*(Gr_into_Pr)**(n) \n",
    "h_bar = Nu*k/(2*L) \t\t\t# [W/square meter degree celsius]\n",
    "\t# the cube has six sides so the area is \n",
    "A = 6*L**(2) \t\t\t\t# [square meter]\n",
    "\t# the heat required is \n",
    "q = h_bar*A*(Ts-Ta) \t\t\t# [W]\n",
    "\n",
    "#Result\n",
    "print \"Heat transfer is\",round(q,1),\"W\""
   ]
  },
  {
   "cell_type": "markdown",
   "metadata": {},
   "source": [
    "## Exa 7.7"
   ]
  },
  {
   "cell_type": "code",
   "execution_count": 7,
   "metadata": {
    "collapsed": false
   },
   "outputs": [
    {
     "name": "stdout",
     "output_type": "stream",
     "text": [
      "heat transfer is 1.57 kW/m\n"
     ]
    }
   ],
   "source": [
    "#Example Number 7.7\n",
    "# calculation with simplified relations \n",
    "\n",
    "#Variable declaration\n",
    "\n",
    "\t# this example is calculation of heat transfer with simplified relations for \texample (7.5) so we use the data of example 7.5\n",
    "\n",
    "d = 0.3048 \t\t\t# [m] diameter of pipe\n",
    "Ts = 250 \t\t\t# [degree celsius] surface temperature of pipe \n",
    "Ta = 15 \t\t\t# [degree celsius] temperature of air \n",
    "\t# we first determine the Grashof-prandtl number product and then select the \tappropriate constants from table 7-1 for use with equation (7-25) \n",
    "\t# the properties of air are evaluated at the film temperature:\n",
    "\n",
    "#Calculation\n",
    "\n",
    "Tf = (Ts+Ta)/2 \t\t\t\t# [degree celsius]\n",
    "\t\t\t\t\t# the properties of interest are thus\n",
    "v = 26.54*10**(-6)\t\t\t# [square meter/s]\n",
    "k = 0.03406 \t\t\t\t# [W/m degree celsius]\n",
    "Pr = 0.687 \t\t\t\t# prandtl number\n",
    "Beta = 1/(Tf+273) \t\t\t# [K**(-1)]\n",
    "g = 9.8 \t\t\t\t# [square meter/s] acceleration due to gravity\n",
    "\t# in example (7.5) we found that a rather large pipe with a substantial \t\ttemperature difference between the surface and air still had a GrPr product of  \t1.57*10**(8)<10**(9), so laminar equation is selected from table 7-2(page \t\tno.-339). the heat transfer coefficient is given by \n",
    "h = 1.32*((Ts-Ta)/d)**(1.0/4.0) \t\t# [W/square meter degree celsius]\n",
    "\t# the heat transfer is then\n",
    "import math\n",
    " \n",
    "q_by_L = h*math.pi*d*(Ts-Ta) \t\t# [W/m]\n",
    "\n",
    "#Result\n",
    "\n",
    "print \"heat transfer is\",round(q_by_L/1000,2),\"kW/m\" "
   ]
  },
  {
   "cell_type": "markdown",
   "metadata": {},
   "source": [
    "## Exa 7.8"
   ]
  },
  {
   "cell_type": "code",
   "execution_count": 9,
   "metadata": {
    "collapsed": false
   },
   "outputs": [
    {
     "name": "stdout",
     "output_type": "stream",
     "text": [
      "Free-convection heat transfer across the air space is 39.64 W\n",
      "Radiation heat transfer across the air space is 15.37 W\n"
     ]
    }
   ],
   "source": [
    "#Example Number 7.8\n",
    "# heat transfer across vertical air gap\n",
    "\n",
    "#Variable declaration\n",
    "\n",
    "L = 0.5 \t\t\t# [m] side length vertical square plate\n",
    "d = 0.015 \t\t\t# [m] distance between plates\n",
    "p = 101325.0 \t\t\t# [Pa] pressure of air\n",
    "R = 287 \t\t\t# [] universal gas constant\n",
    "T1 = 100.0 \t\t\t# [degree celsius] temperature of first plate\n",
    "T2 = 40.0 \t\t\t# [degree celsius] temperature of second plate\n",
    "E = 0.2 \t\t\t# emissivity of both surfaces\n",
    "\t\t# the properties of air is evaluated at the mean temperature\n",
    "Tf = (T1+T2)/2 \t\t\t# [degree celsius]\n",
    "rho = p/(R*(Tf+273)) \t\t# [Kg/m**(3)] density\n",
    "k = 0.0295 \t\t\t# [W/m degree celsius]\n",
    "Pr = 0.70 \t\t\t# prandtl number\n",
    "Beta = 1/(Tf+273) \t\t# [K**(-1)]\n",
    "mu = 2.043*10**(-5) \t\t# [Kg/m s] viscosity\n",
    "g = 9.8 \t\t\t# [square meter/s] acceleration due to gravity\n",
    "\t\t# the Grashof-prandtl number product is now calculated as \n",
    "\n",
    "Gr_into_Pr = (g*rho**(2)*Beta*(T1-T2)*(d)**(3)*Pr)/(mu**(2)) \n",
    "\n",
    "\t\t# we may now use eq(7-64) to calculate the effective thermal \t\tconductivity, with\n",
    "L = 0.5 \t\t\t# [m]\n",
    "deli=0.015\t\t\t# [m]\n",
    "\t\t\t\t# and the constants taken from table 7-3:\n",
    "\n",
    "#Calculation\n",
    "\n",
    "Ke_by_K = 0.197*(Gr_into_Pr)**(1.0/4.0)*(L/deli)**(-1.0/9.0) \n",
    "\t\t# the heat transfer may now be calculated with eq(7-54). the area is \n",
    "A = L**(2) \t\t\t# [square meter]\n",
    "q = Ke_by_K*k*A*(T1-T2)/deli \t# [W]\n",
    " \t\t# the radiation flux is calculated with equation(7-67), taking \n",
    "T1 = 373 \t\t\t# [K]\n",
    "T2 = 313 \t\t\t# [K]\n",
    "E1 = E \n",
    "E2 = E \n",
    "sigma = 5.669*10**(-8) \t\t\t# [W/square meter K**(4)]\n",
    "q_A = sigma*(T1**(4)-T2**(4))/((1/E1)+(1/E2)-1) \t# [W/square meter]\n",
    "q_rad = A*q_A \t\t\t\t\t\t# [W]\n",
    "\n",
    "#Result\n",
    "print \"Free-convection heat transfer across the air space is\",round(q,2),\"W\" \n",
    "print \"Radiation heat transfer across the air space is\",round(q_rad,2),\"W\" \n"
   ]
  },
  {
   "cell_type": "markdown",
   "metadata": {},
   "source": [
    "## Exa 7.9"
   ]
  },
  {
   "cell_type": "code",
   "execution_count": 10,
   "metadata": {
    "collapsed": false
   },
   "outputs": [
    {
     "name": "stdout",
     "output_type": "stream",
     "text": [
      "Heat transfer across the air space is 10.34 W\n"
     ]
    }
   ],
   "source": [
    "#Example Number 7.9 \n",
    "# heat transfer across horizontal air gap\n",
    "\n",
    "# Variable declaration\n",
    "\n",
    "a = 0.2 \t\t\t# [m] side length of plate\n",
    "d = 0.01 \t\t\t# [m] seperation between two plates \n",
    "p = 101325.0 \t\t\t# [Pa] pressure of air\n",
    "R = 287 \t\t\t# [] universal gas constant\n",
    "T1 = 100.0 \t\t\t# [degree celsius] temperature of first plate\n",
    "T2 = 40.0 \t\t\t# [degree celsius] temperature of second plate\n",
    "\t# the properties are the same as given in example(7.8)\n",
    "Tf = (T1+T2)/2 \t\t\t# [degree celsius]\n",
    "rho = p/(R*(Tf+273)) \t\t# [Kg/m**(3)] density\n",
    "k = 0.0295 \t\t\t# [W/m degree celsius]\n",
    "Pr = 0.70 \t\t\t# prandtl number\n",
    "Beta = 1/(Tf+273) \t\t# [K**(-1)]\n",
    "mu = 2.043*10**(-5) \t\t# [Kg/m s] viscosity\n",
    "g = 9.8 \t\t\t# [sq m/s] acceleration due to gravity\n",
    "\t# the GrPr product is evaluated on the basis of the separating distance, so we \t  have \n",
    "\n",
    "#Calculation\n",
    "\n",
    "Gr_into_Pr = (g*rho**(2)*Beta*(T1-T2)*(d)**(3)*Pr)/(mu**(2)) \n",
    "\t# consulting table 7-3(page no.-344) we find\n",
    "C = 0.059 \n",
    "n = 0.4 \n",
    "m = 0 \n",
    "Ke_by_K = C*(Gr_into_Pr)**(n)*(a/d)**(m) \n",
    "A = a**(2) \t\t\t# [square meter] area of plate \n",
    "q = Ke_by_K*k*A*(T1-T2)/d \t# [W]\n",
    "\n",
    "#Result\n",
    "\n",
    "print \"Heat transfer across the air space is\",round(q,2),\"W\" "
   ]
  },
  {
   "cell_type": "markdown",
   "metadata": {},
   "source": [
    "## Exa 7.10"
   ]
  },
  {
   "cell_type": "code",
   "execution_count": 11,
   "metadata": {
    "collapsed": false
   },
   "outputs": [
    {
     "name": "stdout",
     "output_type": "stream",
     "text": [
      "3.47131600256\n",
      "heat lost by the lower plate is  964.0 W\n"
     ]
    }
   ],
   "source": [
    "#Example Number 7.10\n",
    "# heat transfer across water layer\n",
    "\n",
    "# Variable declaration\n",
    "\n",
    "L = 0.5 \t\t\t# [m] length of square plate\n",
    "d = 0.01 \t\t\t# [m] seperation between square plates\n",
    "T1 = 100\t\t\t# [degree F] temperature of lower plate\n",
    "T2 = 80 \t\t\t# [degree F] temperature of upper plate\n",
    "\n",
    "dT=5.0*(T1-T2)/9.0\t\t\t#in Degree C\n",
    "\t\t# we evaluate properties at mean temperature of 90 deg F and \t\t\t\tobtain, for water\n",
    "k = 0.623 \t\t\t# [W/m degree celsus]\n",
    "\t# and the following term is particularly useful in obtaining the product GrPr \n",
    "\t# g*Beta*rho**(2)*Cp/(mu*k) = 2.48*10**(10) [1/m**(3) degree celsius]\n",
    "\t# the Grashof-prandtl number product is now evaluated using the plate spacing \t\tof 0.01 m as the characterstic dimension\n",
    "\n",
    "#Calculation\n",
    "\n",
    "K = 2.48*10**(10.0) \t\t# [1/m**(3) degree celsius]\n",
    "\n",
    "Gr_into_Pr = K*(T1-T2)*(5.0/9.0)*d**(3.0) \n",
    "\n",
    "\t# now, using equation 7-64 and consulting table 7-3(page no.-344) we obtain\n",
    "C = 0.13 \n",
    "n = 0.3 \n",
    "m = 0.0 \n",
    "\t# therefore, equation (7-64) becomes\n",
    "Ke_by_K = C*Gr_into_Pr**(n) \n",
    "\n",
    "\t# the effectve thermal conductivity is thus\n",
    "ke = k*Ke_by_K \t\t\t# [W/m degree celsius]\n",
    "\n",
    "print ke\n",
    "\t\t\t\t# and the heat transfer is\n",
    "A = L**(2.0) \t\t\t# [square meter] area of plate\n",
    "q = ke*A*(dT)/d \t# [W]\n",
    "\n",
    "#Result\n",
    "print \"heat lost by the lower plate is \",round(q),\"W\""
   ]
  },
  {
   "cell_type": "markdown",
   "metadata": {},
   "source": [
    "## Exa 7.11"
   ]
  },
  {
   "cell_type": "code",
   "execution_count": 12,
   "metadata": {
    "collapsed": false
   },
   "outputs": [
    {
     "name": "stdout",
     "output_type": "stream",
     "text": [
      "Vacuum necessary for glass spacings of 1 cm is 13160.0 Pa\n",
      "Vacuum necessary for glass spacings of 2 cm is 70154.0 Pa\n"
     ]
    }
   ],
   "source": [
    "#Example Number 7.11 \n",
    "# reduction of convection in ar gap\n",
    "\n",
    "# Variable declaration\n",
    "\n",
    "Tm = 300.0 \t\t\t# [K] mean temperature of air\n",
    "dT = 20.0 \t\t\t# [degree celsius] temperature difference\n",
    "R = 287 \t\t\t# [] universal gas constant\n",
    "g = 9.8 \t\t\t# [m/s**(2)] acceleration due to gravity\n",
    "p_atm = 101325.0 \t\t\t# [Pa] atmospheric pressure\n",
    "\t# consulting table 7-13,we find that for gases, a value Grdeli_into_Pr<2000 is \tnecessary to reduce the system to one of pure \tconduction.\n",
    "\t# at 300 K the properties of air are\n",
    "k = 0.02624 \t\t\t# [W/m degree celsius]\n",
    "Pr = 0.7 \t\t\t# prandtl no.\n",
    "mu = 1.846*10**(-5) \t\t# [Kg/m s]\n",
    "Beta = 1.0/300.0 \n",
    "\n",
    "\t# we have\n",
    "Grdel_into_Pr = 2000.0 \n",
    "\n",
    "\t# Part A for spacing of 1cm\n",
    "import math\n",
    "deli = 0.01 \t\t\t# [m] spacing between plate\n",
    "p = math.sqrt((Grdel_into_Pr*((R*Tm)**(2))*mu**(2))/(g*Beta*dT*deli**(3)*Pr)) \t# [Pa]\n",
    "p=math.sqrt(7773/deli**3)\n",
    "\n",
    "\t# or vacuum\n",
    "vacuum = p_atm-p \t\t# [Pa]\n",
    "\n",
    "\n",
    "\t# Part B for spacing of 2cm\n",
    "\n",
    "deli1 = 0.02 \t\t\t# [m] spacing between plate\n",
    "p1 = math.sqrt(Grdel_into_Pr*(R*Tm)**(2)*mu**(2)/(g*Beta*dT*deli1**(3)*Pr)) # [Pa]\n",
    "p1=math.sqrt(7773/deli1**3)\n",
    "\t# or vacuum\n",
    "vacuum1 = p_atm-p1 \t\t# [Pa]\n",
    "\n",
    "\n",
    "#Result\n",
    "print \"Vacuum necessary for glass spacings of 1 cm is\",round(vacuum),\"Pa\" \n",
    "print \"Vacuum necessary for glass spacings of 2 cm is\",round(vacuum1),\"Pa\" "
   ]
  },
  {
   "cell_type": "markdown",
   "metadata": {},
   "source": [
    "## Exa 7.13"
   ]
  },
  {
   "cell_type": "code",
   "execution_count": 13,
   "metadata": {
    "collapsed": false
   },
   "outputs": [
    {
     "name": "stdout",
     "output_type": "stream",
     "text": [
      "heat transfer coefficient is 9.4 W/square meter degree celsius\n"
     ]
    }
   ],
   "source": [
    "#Example Number 7.13\n",
    "# combined free and forced convection with air\n",
    "\n",
    "# Variable declaration\n",
    "\n",
    "p = 101325.0 \t\t\t# [Pa] pressure of air\n",
    "Ta = 27.0 \t\t\t# [degree celsius] temperature of air\n",
    "d = 0.025 \t\t\t# [m] diameter of tube\n",
    "u = 0.3 \t\t\t# [m/s] velocity of air\n",
    "Tw = 140.0 \t\t\t# [degree celcius] temperature of tube wall\n",
    "L = 0.4 \t\t\t# [m] length of tube\n",
    "R = 287 \t\t\t# [] universal gas constant\n",
    "\t# the properties of air are evaluated at the film temperature:\n",
    "Tf = (Tw+Ta)/2 \t\t\t# [degree celcius]\n",
    "\t# the properties of interest are thus\n",
    "kf = 0.0305 \t\t\t# [W/m degree celcius]\n",
    "Pr = 0.695 \t\t\t# prandtl number\n",
    "Beta = 1/(Tf+273) \t\t# [K**(-1)]\n",
    "g = 9.8 \t\t\t# [square meter/s] acceleration due to gravity\n",
    "mu_f = 2.102*10**(-5) \t\t# [Kg/m s]\n",
    "mu_w = 2.337*10**(-5) \t\t# [Kg/m s]\n",
    "\n",
    "#Calculations\n",
    "\n",
    "rho_f = p/(R*(Tf+273)) \t\t# [Kg/cubic meter]\n",
    "\t# let us take the bulk temperature as 27 degree celsius for evaluating mu_b \tthen\n",
    "mu_b = 1.8462*10**(-5) \t\t# [Kg/m s]\n",
    "\t# the significant parameters are calculated as \n",
    "Re_f = rho_f*u*d/mu_f \n",
    "Gr = rho_f**(2)*g*Beta*(Tw-Ta)*d**(3)/mu_f**(2) \n",
    "Z = Gr*Pr*d/L \t\t\t# constant\n",
    "\t# according to figure(7-14)(page no.-354), the mixed convection flow regime is \tencountered. thus we must use equation(7-77).\n",
    "\t# The graetz number is calculated as \n",
    "Gz = Re_f*Pr*d/L \n",
    "\t# and the numerical calculation for equation(7-77) becomes\n",
    "Nu = 1.75*(mu_b/mu_w)**(0.14)*(Gz+0.012*(Gz*Gr**(1.0/3.0))**(4.0/3.0))**(1.0/3.0) \n",
    "\t# the average heat transfer coefficient is calculated as \n",
    "h_bar = Nu*kf/d \t\t# [W/square meter degree celsius]\n",
    "\n",
    "#Result\n",
    "\n",
    "print \"heat transfer coefficient is\",round(h_bar,2),\"W/square meter degree celsius\""
   ]
  }
 ],
 "metadata": {
  "kernelspec": {
   "display_name": "Python 2",
   "language": "python",
   "name": "python2"
  },
  "language_info": {
   "codemirror_mode": {
    "name": "ipython",
    "version": 2
   },
   "file_extension": ".py",
   "mimetype": "text/x-python",
   "name": "python",
   "nbconvert_exporter": "python",
   "pygments_lexer": "ipython2",
   "version": "2.7.6"
  }
 },
 "nbformat": 4,
 "nbformat_minor": 0
}
