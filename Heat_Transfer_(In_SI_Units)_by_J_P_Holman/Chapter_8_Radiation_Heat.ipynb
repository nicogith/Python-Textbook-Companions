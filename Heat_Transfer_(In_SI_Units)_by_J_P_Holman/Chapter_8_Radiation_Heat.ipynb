{
 "cells": [
  {
   "cell_type": "markdown",
   "metadata": {},
   "source": [
    "# Chapter 8 Radiation Heat Transfer"
   ]
  },
  {
   "cell_type": "markdown",
   "metadata": {},
   "source": [
    "## Exa 8.1"
   ]
  },
  {
   "cell_type": "code",
   "execution_count": 1,
   "metadata": {
    "collapsed": false
   },
   "outputs": [
    {
     "name": "stdout",
     "output_type": "stream",
     "text": [
      "Total energy absorbed = 52.75 kW\n",
      "total energy transmitted= 58.2 kW\n"
     ]
    }
   ],
   "source": [
    "#Example Number 8.1\n",
    "# transmission and absorption in a gas plate\n",
    "\n",
    "# Variable declaration\n",
    "\n",
    "T = 2000+273 \t\t\t\t# [K] furnace temperature \n",
    "L = 0.3 \t\t\t\t# [m] side length of glass plate\n",
    "t1 = 0.5 \t\t\t\t# transmissivity of glass betweenb/n lambda1 \t\t\t\t\tto lambda2\n",
    "lambda1 = 0.2 \t\t\t\t# [micro m]  \n",
    "lambda2 = 3.5 \t\t\t\t# [micro m]  \n",
    "E1 = 0.3 \t\t\t\t# emissivity of glass upto lambda2 \n",
    "E2 = 0.9 \t\t\t\t# emissivity of glass above lambda2\n",
    "t2 = 0 \t\t\t\t\t# transmissivity of glass except in the range \t\t\t\t\tof lambda1 to lambda2\n",
    "\n",
    "#Calculation\n",
    "\n",
    "sigma = 5.669*10**(-8) \t\t\t# [W/square meter K**(4)]\n",
    "A = L**(2) \t\t\t\t# [square meter] area of glass plate\n",
    "\t# calculating constants to use table 8-1(page no.-379-380)\n",
    "K1 = lambda1*T \t\t\t\t# [micro m K]\n",
    "K2 = lambda2*T \t\t\t\t# [micro m K]\n",
    "\t# from table 8-1\n",
    "Eb_0_lam1_by_sigmaT4 = 0 \n",
    "Eb_0_lam2_by_sigmaT4 = 0.85443 \n",
    "Eb = sigma*T**(4) \t\t\t# [W/square meter]\n",
    "\t# total incident radiation is \n",
    "\t# for 0.2 micro m to 3.5 micro m\n",
    "TIR = Eb*(Eb_0_lam2_by_sigmaT4-Eb_0_lam1_by_sigmaT4)*A \t# [W]\n",
    "TRT = t1*TIR \t\t\t\t# [W]\n",
    "RA1 = E1*TIR \t\t\t\t# [W] for 0<lambda<3.5 micro m\n",
    "RA2 = E2*(1-Eb_0_lam2_by_sigmaT4)*Eb*A # [W] for 3.5 micro m <lambda< infinity \n",
    "TRA = RA1+RA2 \t\t\t\t# [W]\n",
    "\n",
    "#Result\n",
    "\n",
    "print \"Total energy absorbed =\",round(TRA/1000,2),\"kW\" \n",
    "print \"total energy transmitted=\",round(TRT/1000,1),\"kW\" \n"
   ]
  },
  {
   "cell_type": "markdown",
   "metadata": {},
   "source": [
    "## Exa 8.2"
   ]
  },
  {
   "cell_type": "code",
   "execution_count": 2,
   "metadata": {
    "collapsed": false
   },
   "outputs": [
    {
     "name": "stdout",
     "output_type": "stream",
     "text": [
      "net radiant heat exchange between the two plates is 18.33 kW\n"
     ]
    }
   ],
   "source": [
    "#Example Number 8.2\n",
    "# heat transfer between black surfaces\n",
    "\n",
    "# Variable declaration\n",
    "\n",
    "L = 1  \t\t\t\t\t# [m] length of black plate\n",
    "W = 0.5  \t\t\t\t# [m] width of black plate\n",
    "T1 = 1000+273  \t\t\t\t# [K] first plate temperature\n",
    "T2 = 500+273  \t\t\t\t# [K] second plate temperature\n",
    "sigma = 5.669*10**(-8)  \t\t# [W/square meter K**(4)]\n",
    "\t\t# the ratios for use with figure 8-12(page no.-386) are\n",
    "Y_by_D = W/W  \n",
    "X_by_D = L/W  \n",
    "\t\t# so that \n",
    "F12 = 0.285  \t\t\t\t# radiation shape factor \n",
    "\t\t# the heat transfer is calculated from\n",
    "q = sigma*L*W*F12*(T1**(4)-T2**(4))  \n",
    "print \"net radiant heat exchange between the two plates is\",round(q/1000,2),\"kW\" "
   ]
  },
  {
   "cell_type": "markdown",
   "metadata": {},
   "source": [
    "## Exa 8.3"
   ]
  },
  {
   "cell_type": "code",
   "execution_count": 3,
   "metadata": {
    "collapsed": false
   },
   "outputs": [
    {
     "name": "stdout",
     "output_type": "stream",
     "text": [
      "Shape factor between the open ends of the cylinder is 0.0768\n"
     ]
    }
   ],
   "source": [
    "#Example Number 8.3\n",
    "# shape-factor algebra for open ends of cylinder\n",
    "\n",
    "# Variable declaration\n",
    "\n",
    "d1 = 0.1 \t\t\t\t# [m] diameter of first cylinder\n",
    "d2 = 0.2 \t\t\t\t# [m] diameter of second cylinder\n",
    "L = 0.2 \t\t\t\t# [m] length of cylinder\n",
    "\t\t# we use the nomenclature of figure 8-15(page no.-388) for this \t\tproblem and designate the open ends as surfaces 3 and 4.\n",
    "\t\t# we have \n",
    "L_by_r2 = L/(d2/2) \n",
    "r1_by_r2 = 0.5 \n",
    "\t\t# so from figure 8-15 or table 8-2(page no.-389) we obtain\n",
    "F21 = 0.4126 \n",
    "F22 = 0.3286 \n",
    "\t\t# using the reciprocity relation (equation 8-18) we have\n",
    "\n",
    "#Calculation\n",
    "F12 = (d2/d1)*F21 \n",
    "\t\t# for surface 2 we have F12+F22+F23+F24 = 1.0\n",
    "\t\t# and from symmetry F23 = F24 so that\n",
    "F23 = (1-F21-F22)/2 \n",
    "F24 = F23 \n",
    "\t\t# using reciprocity again,\n",
    "import math\n",
    "\n",
    "A2 = math.pi*d2*L \t\t\t# [m**2]\n",
    "A3 = math.pi*(d2**2-d1**2)/4 \t\t# [m**2]\n",
    "F32 = A2*F23/A3 \n",
    "\t\t# we observe that F11 = F33 = F44 = 0 & for surface 3 F31+F32+F34 =1.0\n",
    "\t\t# so, if F31 can be determined, we can calculate the desired quantity \t\tF34. for surface 1 F12+F13+F14 = 1.0\n",
    "\t\t# and from symmetry F13 = F14 so that\n",
    "F13 = (1-F12)/2 \n",
    "F14 = F13 \n",
    "\t\t# using reciprocity gives\n",
    "A1 = math.pi*d1*L \t\t\t# [square meter]\n",
    "F31 = (A1/A3)*F13 \n",
    "\t\t# then \n",
    "F34 = 1-F31-F32 \n",
    "\n",
    "#Result\n",
    "print \"Shape factor between the open ends of the cylinder is\",F34 "
   ]
  },
  {
   "cell_type": "markdown",
   "metadata": {},
   "source": [
    "## Exa 8.4"
   ]
  },
  {
   "cell_type": "code",
   "execution_count": 4,
   "metadata": {
    "collapsed": false
   },
   "outputs": [
    {
     "name": "stdout",
     "output_type": "stream",
     "text": [
      "Shape factor between the top surface and the side is 0.52\n",
      "Shape factor between the side and itself is 0.398\n"
     ]
    }
   ],
   "source": [
    "#Example Number 8.4\n",
    "# shape-factor algebra for truncated cone\n",
    "\n",
    "#Variable declaration\n",
    "\n",
    "d1 = 0.1 \t\t\t# [m] diameter of top of cone\n",
    "d2 = 0.2 \t\t\t# [m] diameter of bottom of cone\n",
    "L = 0.1 \t\t\t# [m] height of cone\n",
    "\t\t#we employ figure 8-16(page no.-390) for solution of this problem and \t\ttake the nomenclature as shown, designating the top as surface 2,\n",
    "\t\t# the bottom as surface 1, and the side as surface 3. thus the desired \t\tquantities are F23 and F33. we have \n",
    "Z = L/(d2/2) \n",
    "Y = (d1/2)/L \n",
    "\t\t# thus from figure 8-16(page no.-390)  \n",
    "F12 = 0.12 \n",
    "\t\t# from reciprcity(equatin 8-18)\n",
    "\n",
    "import math\n",
    "A1 = math.pi*d2**(2)/4 \t\t# [square meter]\n",
    "A2 = math.pi*d1**(2)/4 \t\t# [square meter]\n",
    "F21 = A1*F12/A2 \n",
    "\t\t#and\n",
    "F22 = 0 \n",
    "\t\t# so that \n",
    "F23 = 1-F21 \n",
    "\t\t# for surface 3 F31+F32+F33 = 1,  so we must find F31 and F32 in order \t\tto evaluate F33. since F11 = 0 we have\n",
    "F13 = 1-F12 \n",
    "\t\t# and from reciprocity \n",
    "A3 = math.pi*((d1+d2)/2)*((d1/2-d2/2)**(2)+L**(2))**(1.0/2.0) \t# [square meter]\n",
    "\t\t# so from above equation\n",
    "F31 = A1*F13/A3 \n",
    "\t\t# a similar procedure is applies with surface 2 so that \n",
    "F32 = A2*F23/A3 \n",
    "\t\t# finally from above equation \n",
    "F33 = 1-F32-F31 \n",
    "print \"Shape factor between the top surface and the side is\",F23 \n",
    "print \"Shape factor between the side and itself is\",round(F33,3) "
   ]
  },
  {
   "cell_type": "markdown",
   "metadata": {},
   "source": [
    "## Exa 8.5"
   ]
  },
  {
   "cell_type": "code",
   "execution_count": 5,
   "metadata": {
    "collapsed": false
   },
   "outputs": [
    {
     "name": "stdout",
     "output_type": "stream",
     "text": [
      "Value of F12 is  0.424\n",
      "Value of F13 is  0.262\n",
      "Value of F11 is  0.313\n"
     ]
    }
   ],
   "source": [
    "#Example Number 8.5\n",
    "# shape-factor algebra for cylindrical reflactor\n",
    "\n",
    "# Variable declaration\n",
    "\n",
    "d = 0.6 \t\t\t\t# [m] diameter of long half-circular cylinder\n",
    "L = 0.2 \t\t\t\t# [m] length of square rod\n",
    "\t\t# we have given figure example 8-5(page no.-397) for solution of this \t\t\tproblem and take the nomenclature as shown, \n",
    "\t\t# from symmetry we have \n",
    "F21 = 0.5 \n",
    "F23 = F21 \n",
    "\t\t# in general, F11+F12+F13 = 1. to aid in the analysis we create the \t\t\tfictious surface 4 shown in figure example 8-5 as dashed line.\n",
    "\t\t# for this surface \n",
    "F41 = 1.0 \n",
    "\t\t# now, all radiation leaving surface 1 will arrive either at 2 or at \t\t\t3. likewise,this radiation will arrive at the imaginary surface 4, so \t\t\tthat F41 = F12+F13 say eqn a\n",
    "\t\t# from reciprocity\n",
    "#Calculation\n",
    "\n",
    "import math\n",
    "\n",
    "A1 =math.pi*d/2 \t\t\t# [square meter]\n",
    "A4 = L+2*math.sqrt(0.1**(2)+L**(2)) \t# [square meter]\n",
    "A2 = 4*L \t\t\t\t# [square meter]\n",
    "\t\t# so that \n",
    "F14 = A4*F41/A1 \t\t\t# say eqn b\n",
    "\t\t# we also have from reciprocity\n",
    "F12 = A2*F21/A1 \t\t\t# say eqn c\n",
    "\t\t# combining a,b,c, gives\n",
    "F13 = F14-F12 \n",
    "\t\t# finally\n",
    "F11 = 1-F12-F13 \n",
    "\n",
    "#Result\n",
    "\n",
    "print \"Value of F12 is \",round(F12,3) \n",
    "print \"Value of F13 is \",round(F13,3) \n",
    "print \"Value of F11 is \",round(F11,3) "
   ]
  },
  {
   "cell_type": "markdown",
   "metadata": {},
   "source": [
    "## Exa 8.7"
   ]
  },
  {
   "cell_type": "code",
   "execution_count": 7,
   "metadata": {
    "collapsed": false
   },
   "outputs": [
    {
     "name": "stdout",
     "output_type": "stream",
     "text": [
      "Temperature of the insulated surface is 599.4 K\n",
      "Heat lost by the surface at 1000K is 8.229 kW\n"
     ]
    }
   ],
   "source": [
    "#xample Number 8.7\n",
    "# surface in radiant balance\n",
    "\n",
    "# Variable declaration\n",
    "\n",
    "w = 0.5 \t\t\t# [m] width of plate \n",
    "L = 0.5 \t\t\t# [m] length of plate\n",
    "sigma = 5.669*10**(-8) \t\t# [W/square meter K**(4)]\n",
    "\t# from the data of the problem \n",
    "T1 = 1000 \t\t\t# [K] temperature of first surface\n",
    "T2 = 27+273 \t\t\t# [K] temperature of room\n",
    "A1 = w*L \t\t\t# [square meter] area of rectangle\n",
    "A2 = A1 \t\t\t# [square meter] area of rectangle\n",
    "E1 = 0.6 \t\t\t# emissivity of surface 1\n",
    "\t#eq(8-41) may not be used for the calculation because \tone of the heat-exchanging surfaces is not convex. The radiation \t\t\tnetwork is shown in figure example 8-7(page no.-404) where surface 3 is the \t\troom and surface 2 is the insulated surface. n\tJ2 \"floats\" in the network and is determined from the overall radiant balance.\n",
    " \n",
    "\t# from figure 8-14(page no.-387) the shape factors are \n",
    "F12 = 0.2 \n",
    "F21 = F12 \n",
    "\t# because\n",
    "F11 = 0 \n",
    "F22 = 0 \n",
    "F13 = 1-F12 \n",
    "F23 = F13 \n",
    "\t# the resistances are \n",
    "R1 = (1-E1)/(E1*A1) \n",
    "R2 = 1/(A1*F13) \n",
    "R3 = 1/(A2*F23) \n",
    "R4 = 1/(A1*F12) \n",
    "\t# we also have\n",
    "Eb1 = sigma*T1**(4) \t\t# [W/square meter]\n",
    "Eb3 = sigma*T2**(4) \t\t# [W/square meter]\n",
    "J3 = Eb3 \t\t\t# [W/square meter]\n",
    "\t# the overall ckt is a series parallel arrangement and the heat transfer is \n",
    "R_equiv = R1+(1/((1/R2)+1/(R3+R4))) \n",
    "q = (Eb1-Eb3)/R_equiv \t\t # [W]\n",
    "\t# this heat transfer can also be written as q = (Eb1-J1)/((1-E1)/(E1*A1))\n",
    "\t# inserting the values \n",
    "J1 = Eb1-q*((1-E1)/(E1*A1)) \t # [W/square meter]\n",
    "\t# the value of J2 is determined from proportioning the resistances between J1 \t\tand J3, so that \n",
    "\t# (J1-J2)/R4 = (J1-J3)/(R4+R2)\n",
    "J2 = J1-((J1-J3)/(R4+R2))*R4 \t # [W/square meter]\n",
    "Eb2 = J2\t\t\t # [W/square meter]\n",
    "\t# finally, we obtain the temperature of the insulated surface as\n",
    "T2 = (Eb2/sigma)**(1.0/4.0) \t # [K]\n",
    "\n",
    "print \"Temperature of the insulated surface is\",round(T2,1),\"K\" \n",
    "print \"Heat lost by the surface at 1000K is\",round(q/1000,3),\"kW\" "
   ]
  },
  {
   "cell_type": "markdown",
   "metadata": {},
   "source": [
    "## Exa 8.8"
   ]
  },
  {
   "cell_type": "code",
   "execution_count": 9,
   "metadata": {
    "collapsed": false
   },
   "outputs": [
    {
     "name": "stdout",
     "output_type": "stream",
     "text": [
      "Net radiant exchange is 798.0 W\n"
     ]
    }
   ],
   "source": [
    "#Example Number 8.8 \n",
    "# open hemisphere in large room\n",
    "\n",
    "# Variable declaration\n",
    "\n",
    "d = 0.3 \t\t\t# [m] diameter of hemisphere\n",
    "T1 = 500+273 \t\t\t# [degree celsius] temperature of hemisphere\n",
    "T2 = 30+273 \t\t\t# [degree celsius] temperature of enclosure \n",
    "E = 0.4 \t\t\t# surface emissivity of hemisphere\n",
    "sigma = 5.669*10**(-8) \t\t# [W/square meter K**(4)] constant\n",
    "\t\n",
    "\t# in the given figure example 8-8(page no.-407) we take the inside of the \t\tsphere as surface 1 and the enclosure as surface 2.\n",
    "\t# we also create an imaginary surface 3 covering the opening.\n",
    "\t# then the heat transfer is given by\n",
    "#Calculation\n",
    "Eb1 = sigma*T1**(4) \t\t# [W/square meter]\n",
    "Eb2 = sigma*T2**(4) \t\t# [W/square meter]\n",
    "\n",
    "import math\n",
    "A1 = 2*math.pi*(d/2)**(2) \t# [square meter] area of surface 1\n",
    "\t# calculating the surface resistance \n",
    "R1 = (1-E)/(E*A1)  \n",
    "\t# since A2 tends to 0 so R2 also tends to 0\n",
    "R2 = 0  \n",
    "\t# recognize that all of the radiation leaving surface 1 which \twill \teventually arrive at enclosure 2 will also hit the imaginary   surface \t\t\t3(F12=F13). we also recognize that A1*F13 = A3*F31. but \n",
    "F31 = 1.0 \n",
    "A3 = math.pi*(d/2)**(2) \t# [square meter]\n",
    "F13 = (A3/A1)*F31 \n",
    "F12 = F13  \n",
    "\t# then calculating space resistance \n",
    "R3 = 1/(A1*F12) \n",
    "\t# we can claculate heat transfer by inserting the quantities in eq (8-40):\n",
    "q = (Eb1-Eb2)/(R1+R2+R3) \t# [W]\n",
    "\n",
    "#Result\n",
    "\n",
    "print \"Net radiant exchange is\",round(q),\"W\" "
   ]
  },
  {
   "cell_type": "markdown",
   "metadata": {},
   "source": [
    "## Exa 8.9"
   ]
  },
  {
   "cell_type": "code",
   "execution_count": 10,
   "metadata": {
    "collapsed": false
   },
   "outputs": [
    {
     "name": "stdout",
     "output_type": "stream",
     "text": [
      "For emissivity of 0.2 the value of effective emissivity is 0.467\n",
      " For emissivity of 0.5 the value of effective emissivity is  0.738\n",
      "For emissivity of 0.8 the value of effective emissivity is  0.907\n"
     ]
    }
   ],
   "source": [
    "#Example Number 8.9\n",
    "# effective emissivity of finned surface\n",
    "\n",
    "# Variable declaration\n",
    "\n",
    "\t# for unit depth in the z-dimension we have \n",
    "A1 = 10 \t\t\t# [square meter]\n",
    "A2 = 5 \t\t\t\t# [square meter]\n",
    "A3 = 60 \t\t\t# [square meter]\n",
    "\t# the apparent emissivity of the open cavity area A1 is given by \tequation(8-47) as \n",
    "\t# Ea1 = E*A3/[A1+E*(A3-A1)]\n",
    "\t# for const surface emissivity the emitted energy from the total area A1+A2 is\n",
    "\t# e1 = Ea1*A1+E*A2*Eb\n",
    "\t# and the energy emitted per unit area for that total area is \n",
    "\t# e_t = [(Ea1*A1+E*A2)/(A1+A2)]*Eb\n",
    "\t# the coeff of Eb is the effective emissivity, E_eff of the combination of the \tsurface and open cavity. inserting \n",
    "\t# above equations gives the following values\n",
    "\n",
    "\n",
    "\n",
    "#Calculation & Results\n",
    "\n",
    "\t# for E = 0.2\n",
    "\n",
    "E = 0.2 \n",
    "Ea1 = E*A3/(A1+E*(A3-A1)) \n",
    "E_eff = ((Ea1*A1+E*A2)/(A1+A2)) \n",
    "\n",
    "print \"For emissivity of 0.2 the value of effective emissivity is\",round(E_eff,3) \n",
    "\n",
    "\t# for E = 0.5\n",
    "\n",
    "E = 0.5 \n",
    "Ea1 = E*A3/(A1+E*(A3-A1)) \n",
    "E_eff = ((Ea1*A1+E*A2)/(A1+A2))\n",
    " \n",
    "print \" For emissivity of 0.5 the value of effective emissivity is \",round(E_eff,3) \n",
    "\n",
    "\t# for E = 0.8\n",
    "\n",
    "E = 0.8 \n",
    "Ea1 = E*A3/(A1+E*(A3-A1)) \n",
    "E_eff = ((Ea1*A1+E*A2)/(A1+A2)) \n",
    "\n",
    "print \"For emissivity of 0.8 the value of effective emissivity is \",round(E_eff,3) "
   ]
  },
  {
   "cell_type": "markdown",
   "metadata": {},
   "source": [
    "## Exa 8.10"
   ]
  },
  {
   "cell_type": "code",
   "execution_count": 11,
   "metadata": {
    "collapsed": false
   },
   "outputs": [
    {
     "name": "stdout",
     "output_type": "stream",
     "text": [
      "Heat tranfer is reduced by 93.2 percent\n"
     ]
    }
   ],
   "source": [
    "#Example Number 8.10\n",
    "# heat transfer reduction with parallel plate shield\n",
    "\n",
    "# Variable declaration\n",
    "\n",
    "E1 = 0.3 \t\t\t# emissivity of first plane\n",
    "E2 = 0.8 \t\t\t# emissivity of second plane\n",
    "E3 = 0.04 \t\t\t# emissivity of shield\n",
    "\n",
    "#Calculation\n",
    "sigma = 5.669*10**(-8) \t\t# [W/square meter K**(4)]\n",
    "\t\t# the heat transfer without the shield is given by \n",
    "\t\t# q_by_A = sigma*(T1**4-T2**4)/((1/E1)+(1/E2)-1) = \t\t0.279*sigma*(T1**4-T2**4)\n",
    "\t\t# T1 is temp of 1st plane & T2 is temperature of second plane\n",
    "\t\t# the radiation network for the problem with the shield in place is \t\t\tshown in figure (8-32) (page no.-410). \n",
    "\t\t# the resistances are \n",
    "R1 = (1-E1)/E1 \n",
    "R2 = (1-E2)/E2 \n",
    "R3 = (1-E3)/E3 \n",
    "\t\t# the total resistance with the shield is \n",
    "R = R1+R2+R3 \n",
    "\t\t# and the heat transfer is \n",
    "\t\t# q_by_A = sigma*(T1**4-T2**4)/R = 0.01902*sigma*(T1**4-T2**4)\n",
    "\n",
    "#Result\n",
    "\n",
    "print \"Heat tranfer is reduced by\",round((((0.279-0.01902)/0.279)*100),1),\"percent\" "
   ]
  },
  {
   "cell_type": "markdown",
   "metadata": {},
   "source": [
    "## Exa 8.11"
   ]
  },
  {
   "cell_type": "code",
   "execution_count": 13,
   "metadata": {
    "collapsed": false
   },
   "outputs": [
    {
     "name": "stdout",
     "output_type": "stream",
     "text": [
      "Temperature of the outer cylinder is 716.0 K\n",
      "Total heat lost by inner cylinder is 2826.0 W\n"
     ]
    }
   ],
   "source": [
    "#Example Number 8.11\n",
    "# open cylindrical shield in large room\n",
    "\n",
    "# Variable declaration\n",
    "\n",
    "\t# two concentric cylinders of example(8.3) have \n",
    "T1 = 1000 \t\t\t# [K] \n",
    "E1 = 0.8 \n",
    "E2 = 0.2 \n",
    "T3 = 300 \t\t\t# [K] room temperature \n",
    "sigma = 5.669*10**(-8) \t\t# [W/square meter K**(4)]\n",
    "\t# refer to figure example 8-11(page no.-413) for radiation network\n",
    "\t# the room is designed as surface 3 and J3 = Eb3, because the room is very \t\tlarge,(i.e.its surface is very small) \n",
    "\t# in this problem we must consider the inside and outside of surface 2 and \t\tthus have subscripts i and o to designate the respective quantities. \n",
    "\t# the shape factor can be obtained from example 8-3 as\n",
    "F12 = 0.8253 \n",
    "F13 = 0.1747 \n",
    "F23i = 0.2588 \n",
    "F23o = 1.0 \n",
    "\t# also\n",
    "\n",
    "#Calculations\n",
    "import math\n",
    "A1 = math.pi*0.1*0.2 \t\t# [square meter] area of first cylinder\n",
    "A2 = math.pi*0.2*0.2 \t\t# [square meter] area of second cylinder\n",
    "Eb1 = sigma*T1**4 \t\t# [W/square meter]\n",
    "Eb3 = sigma*T3**4 \t\t# [W/square meter]\n",
    "\t# the resistances may be calculated as \n",
    "R1 = (1-E1)/(E1*A1) \n",
    "R2 = (1-E2)/(E2*A2) \n",
    "R3 = 1/(A1*F12) \n",
    "R4 = 1/(A2*F23i) \n",
    "R5 = 1/(A2*F23o) \n",
    "R6 = 1/(A1*F13) \n",
    "\t# the network could be solved as a series-parallel circuit to obtain the heat \t\ttransfer, butwe will need the radiosities anyway, so we setup three nodal\t\tequations to solve for J1,J2i, and J2o.\n",
    "\t# we sum the currents into each node and set them equal to zero:\n",
    "\t# node J1: (Eb1-J1)/R1+(Eb3-J3)/R6+(J2i-J1)/R3 = 0\n",
    "\t# node J2i: (J1-J2i)/R3+(Eb3-J2i)/R4+(J2o-J2i)/(2*R2) = 0\n",
    "\t# node J2o: (Eb3-J2o)/R5+(J2i-J2o)/(2*R2) = 0\n",
    "\t# these equations can be solved by matrix method and the solution is \n",
    "J1 = 49732 \t\t\t# [W/square meter]\n",
    "J2i = 26444 \t\t\t# [W/square meter]\n",
    "J2o = 3346 \t\t\t# [W/square meter]\n",
    "\t# the heat transfer is then calculated from\n",
    "q = (Eb1-J1)/((1-E1)/(E1*A1)) \t# [W]\n",
    "\t# from the network we see that\n",
    "Eb2 = (J2i+J2o)/2\t\t # [W/square meter]\n",
    "\t# and \n",
    "T2 = (Eb2/sigma)**(1.0/4.0) \t# [K]\n",
    "\t# if the outer cylinder had not been in place acting as a \"shield\" the heat \t\tloss from cylinder 1 could have been calculated from equation(8-43a) as \n",
    "q1 = E1*A1*(Eb1-Eb3)\t\t # [W]\n",
    "\n",
    "#Result\n",
    "\n",
    "print \"Temperature of the outer cylinder is\",round(T2),\"K\" \n",
    "print \"Total heat lost by inner cylinder is\",round(q1),\"W\" "
   ]
  },
  {
   "cell_type": "markdown",
   "metadata": {},
   "source": [
    "## Exa 8.12"
   ]
  },
  {
   "cell_type": "code",
   "execution_count": 14,
   "metadata": {
    "collapsed": false
   },
   "outputs": [
    {
     "name": "stdout",
     "output_type": "stream",
     "text": [
      "Heat-transfer rate between the two planes is 5621.0 W/square meter\n",
      "Temperature of the gas is 592.4 K\n",
      "Ratio of heat-transfer with presence of gas to without presence of gas is 0.97\n"
     ]
    }
   ],
   "source": [
    "#Example Number 8.12\n",
    "# network for gas radiation between parallel plates\n",
    "\n",
    "# Variable declaration\n",
    "\n",
    "T1 = 800 \t\t\t\t# [K] temperature of first plate \n",
    "E1 = 0.3 \t\t\t\t# emissivity\n",
    "T2 = 400 \t\t\t\t# [K] temperature of second plate\n",
    "E2 = 0.7 \t\t\t\t# emissivity\n",
    "Eg = 0.2 \t\t\t\t# emissivity of gray gas\n",
    "tg = 0.8 \t\t\t\t# transmissivity of gray gas \n",
    "sigma = 5.669*10**(-8) \t\t\t# [W/square meter K**(4)]\n",
    "\t# the network shown in figure 8-39(page no.-419) applies to this problem. all \t\tthe shape factors are unity for large planes and the various resistors can be \t\tcomputed on a unit area basis as \n",
    "\n",
    "#Calculation\n",
    "F12 = 1 \n",
    "F1g = 1 \n",
    "F2g = F1g \n",
    "R1 = (1-E1)/E1 \n",
    "R2 = (1-E2)/E2 \n",
    "R3 = 1/(F12*(1-Eg)) \n",
    "R4 = 1/(F1g*Eg) \n",
    "R5 = 1/(F2g*Eg) \n",
    "Eb1 = sigma*T1**(4) \t\t\t# [W/square meter]\n",
    "Eb2 = sigma*T2**(4) \t\t\t# [W/square meter]\n",
    "\n",
    "\t# the equivalent resistance of the center \"triangle\" is \n",
    "\n",
    "R = 1/((1/R3)+(1/(R4+R5))) \n",
    "\n",
    "\t# the total heat transfer is then \n",
    "\n",
    "q_by_A = (Eb1-Eb2)/(R1+R2+R) \t\t# [W/square meter]\n",
    "\n",
    "\t# heat transfer would be given by equation (8-42):\n",
    "\n",
    "q_by_A1 = (Eb1-Eb2)/((1/E1)+(1/E2)-1) \t# [W/square meter]\n",
    "\n",
    "\t# the radiosities may be computed from q_by_A = (Eb1-J1)*(E1/(1-E1)) = \t(J2-Eb2)*(E2/(1-E2))\n",
    "\n",
    "J1 = Eb1-q_by_A*((1-E1)/E1) \t\t# [W/square meter]\n",
    "J2 = Eb2+q_by_A*((1-E2)/E2) \t\t# [W/square meter]\n",
    "\n",
    "\t# for the network Ebg is just the mean of these values\n",
    "\n",
    "Ebg = (J1+J2)/2 \t\t\t# [W/square meter]\n",
    "\n",
    "\t# so that the temperature of the gas is\n",
    "Tg = (Ebg/sigma)**(1.0/4.0) \t\t# [K]\n",
    "\n",
    "#Result\n",
    "\n",
    "print \"Heat-transfer rate between the two planes is\",round(q_by_A),\"W/square meter\" \n",
    "print \"Temperature of the gas is\",round(Tg,1),\"K\" \n",
    "print \"Ratio of heat-transfer with presence of gas to without presence of gas is\",round(q_by_A/q_by_A1,2) "
   ]
  },
  {
   "cell_type": "markdown",
   "metadata": {},
   "source": [
    "## Exa 8.13"
   ]
  },
  {
   "cell_type": "code",
   "execution_count": 15,
   "metadata": {
    "collapsed": false
   },
   "outputs": [
    {
     "name": "stdout",
     "output_type": "stream",
     "text": [
      "Apparent emissivity of covered opening is  0.6269\n",
      "If there were no cover present, the value of Ea(apparent emissivity) would be  0.8571\n"
     ]
    }
   ],
   "source": [
    "#Example Number 8.13\n",
    "# cavity with transparent cover \n",
    "\n",
    "#Variable declaration\n",
    "\n",
    "E1 = 0.5 \t\t\t# emissivity of rectangular cavity\n",
    "t2 = 0.5 \t\t\t# transmissivity\n",
    "rho2 = 0.1 \t\t\t# reflectivity\n",
    "E2 = 0.4 \t\t\t# emissivity\n",
    "\t# from example 8-9 we have\n",
    "\t# per unit depth in the z direction we have \n",
    "\n",
    "#Calculation\n",
    "A1 = 60\n",
    "A2 = 10.0 \n",
    "\t# we may evaluate K from equation(8-96a)\n",
    "K = E1/(t2+(E2/2))\n",
    "\n",
    "\n",
    "\t# the value of Ea is then computed from equation (8-96) as \n",
    "Ea = (t2+(E2/2))*K/((A2/A1)*(1-E1)+K) \n",
    "print \"Apparent emissivity of covered opening is \",round(Ea,4) \n",
    "\t# when no cover present, the value of Ea would be given by eq (8-47) as\n",
    "Ea1 = E1*A1/(A2+E1*(A1-A2)) \n",
    "\n",
    "#Result\n",
    "print \"If there were no cover present, the value of Ea(apparent emissivity) would be \",round(Ea1,4) "
   ]
  },
  {
   "cell_type": "markdown",
   "metadata": {},
   "source": [
    "## Exa 8.14"
   ]
  },
  {
   "cell_type": "code",
   "execution_count": 16,
   "metadata": {
    "collapsed": false
   },
   "outputs": [
    {
     "name": "stdout",
     "output_type": "stream",
     "text": [
      "Radiation lost through the quartz window to a room temperature of 30 degree celsius is 112171.0 W/square meter\n",
      "With no windows at all, the heat transfer would be 148397.0 W/square meter\n"
     ]
    }
   ],
   "source": [
    "#Example Number 8.14\n",
    "# Transmitting and reflecting system for furnace opening\n",
    "\n",
    "# Variable declaration\n",
    "\t\n",
    "T1 = 1000+273 \t\t\t# [K] temperature of furnace\n",
    "lamda = 4.0 \t\t\t# [micro meter]\n",
    "\t\t#for  0 < lamda < 4 micro meter\n",
    "t1 = 0.9 \n",
    "E1 = 0.1 \n",
    "rho1 = 0 \n",
    "\t\t#for  4 micro meter < lamda < infinity  \n",
    "t2 = 0 \n",
    "E2 = 0.8 \n",
    "rho2 = 0.2 \n",
    "sigma = 5.669*10**(-8) \t\t# [W/square meter K**(4)]\n",
    "T3 = 30+273\t\t \t# [K] room temperature\n",
    "\t\t# because the room is large it may be treated as a blackbody.\n",
    "\t\t# analyze the problem by calculating the heat transfer for each \t\t\twavelength band and then adding them together to obtain the total. the \t\tnetwork for each band is a modification of figure 8-57 \n",
    "A1 = 1.0 \t\t\t# [square meter]\n",
    "A2 = 1.0 \t\t\t# [square meter]\n",
    "A3 = 1.0 \t\t\t# [square meter]\n",
    "F12 = 1.0 \n",
    "F13 = 1.0 \n",
    "F32 = 1.0 \n",
    "\t\t# the total emissive powers are \n",
    "\n",
    "#Calculation\n",
    "\n",
    "Eb1 = sigma*T1**(4) \t\t# [W/square meter]\n",
    "Eb3 = sigma*T3**(4) \t\t# [W/square meter]\n",
    "\t\t# to determine the fraction of radiation in each wavelength band\n",
    "lamba_into_T1 = lamda*T1 \t# [micro meter K]\n",
    "lamba_into_T3 = lamda*T3 \t# [micro meter K]\n",
    "\t\t# consulting table 8-1, we find \n",
    "Eb1_0_to_4 = 0.6450*Eb1 \t# [W/square meter]\n",
    "Eb3_0_to_4 = 0.00235*Eb3 \t# [W/square meter]\n",
    "Eb1_4_to_inf = (1-0.6450)*Eb1 \t# [W/square meter]\n",
    "Eb3_4_to_inf = (1-0.00235)*Eb3 \t# [W/square meter]\n",
    "\t\t#  apply these numbers to the network for the two wavelengths bands, \t\t\twith unit areas.\n",
    "\n",
    "\t\t# 0 < lamda < 4 micro meter band:\n",
    "R1 = 1/(F13*t1) \n",
    "R2 = 1/(F32*(1-t1)) \n",
    "R3 = 1/(F12*(1-t1)) \n",
    "R4 = rho1/(E1*(1-t1)) \n",
    "\t\t# the net heat transfer from the network is then \n",
    "R_equiv_1 = 1/(1/R1+1/(R2+R3+R4)) \n",
    "q1 = (Eb1_0_to_4-Eb3_0_to_4)/R_equiv_1 # [W/square meter]\n",
    "\n",
    "\t\t# 4 micro meter < lamda < infinity band:\n",
    "R2 = 1/(F32*(1-t2)) \n",
    "R3 = 1/(F12*(1-t2)) \n",
    "R4 = rho2/(E2*(1-t2)) \n",
    "\t\t# the net heat transfer from the network is then \n",
    "\t\t# R1 is infinity\n",
    "R_equiv_2 = R2+R3+R4*2 \n",
    "q2 = (Eb1_4_to_inf-Eb3_4_to_inf)/R_equiv_2 # [W/square meter]\n",
    "\n",
    "\t\t# the total heat loss is then \n",
    "q_total = q1+q2 \t\t\t# [W/square meter]\n",
    "\t\t# with no windows at all, the heat transfer would have been the \t\t\tdifference in blackbody emissive powers,\n",
    "Q = Eb1-Eb3 \t\t\t\t# [W/square meter]\n",
    "\n",
    "#Result\n",
    "\n",
    "print \"Radiation lost through the quartz window to a room temperature of 30 degree celsius is\",round(q_total),\"W/square meter\" \n",
    "\n",
    "print \"With no windows at all, the heat transfer would be\",round(Q),\"W/square meter\" "
   ]
  },
  {
   "cell_type": "markdown",
   "metadata": {},
   "source": [
    "## Exa 8.20"
   ]
  },
  {
   "cell_type": "code",
   "execution_count": 17,
   "metadata": {
    "collapsed": false
   },
   "outputs": [
    {
     "name": "stdout",
     "output_type": "stream",
     "text": [
      "Radiation equilibrium temperature for the plate exposed to solar flux if the surface is coated with :\n",
      "White paint is 39.5 degree celsius\n",
      "Flat black lacquer is 104.8 degree celsius\n"
     ]
    }
   ],
   "source": [
    "#Example Number 8.20\n",
    "# solar-environment equilibrium  temperatures \n",
    "\n",
    "# Variable declaration\n",
    "\n",
    "q_by_A_sun = 700 \t\t\t# [W/m**(2)] solar flux\n",
    "T_surr = 25+273 \t\t\t# [K] surrounding temperature\n",
    "sigma = 5.669*10**(-8) \t\t\t# [W/square meter K**(4)]\n",
    "\t# at radiation equilibrium the netenergy absorbed from sun must equal the \tlong-wavelength radiation exchange with the surroundings,or\n",
    "\t# (q_by_A_sun)*alpha_sun = alpha_low_temp*sigma*(T**4-T_surr**4)         (a)\n",
    "\n",
    "\t# case (a) for white paint\n",
    "\n",
    "\t# for white paint we obtain from table 8-4\n",
    "\n",
    "#Calculation\n",
    "\n",
    "alpha_sun = 0.12 \n",
    "alpha_low_temp = 0.9 \n",
    "\t# so that equation (a) becomes\n",
    "T = ((q_by_A_sun)*alpha_sun/(alpha_low_temp*sigma)+T_surr**(4))**(1.0/4.0)\t # [K]\n",
    "\n",
    "\n",
    "#Result\n",
    "\n",
    "print\"Radiation equilibrium temperature for the plate exposed to solar flux if the surface is coated with :\"\n",
    "print \"White paint is\",round(T-273,1),\"degree celsius\" \n",
    "\n",
    "\t# case (b) for flat black lacquer we obtain\n",
    "\n",
    "alpha_sun = 0.96 \n",
    "alpha_low_temp = 0.95 \n",
    "\t# so that equation (a) becomes\n",
    "T = ((q_by_A_sun)*alpha_sun/(alpha_low_temp*sigma)+T_surr**(4))**(1.0/4.0) \t# [K]\n",
    "\n",
    "print \"Flat black lacquer is\",round(T-273,1),\"degree celsius\" "
   ]
  },
  {
   "cell_type": "markdown",
   "metadata": {},
   "source": [
    "## Exa 8.23"
   ]
  },
  {
   "cell_type": "code",
   "execution_count": 18,
   "metadata": {
    "collapsed": false
   },
   "outputs": [
    {
     "name": "stdout",
     "output_type": "stream",
     "text": [
      "the true air temperature is 28.6 degree celsius\n"
     ]
    }
   ],
   "source": [
    "#Example Number 8.23\n",
    "# temperature measurement error caused by radiation \n",
    "\n",
    "# Variable declaration\n",
    "\n",
    "E = 0.9 \t\t\t\t# emissivity of mercury-in-glass thermometer \n",
    "Tt = 20+273 \t\t\t\t# [K] temperature indicated by thermometer \n",
    "Ts = 5+273 \t\t\t\t# [K] temperature of walls\n",
    "sigma = 5.669*10**(-8) \t\t\t# [W/square meter K^(4)]\n",
    "h = 8.3 \t\t\t\t# [W/sq m] heat transfer coefficient for \t\t\t\t\tthermometer\n",
    "\t# we employ equation(8-113) for the solution: h*(Tinf-Tt) =sigma*E*(Tt^4-Ts^4)\n",
    "\t# inserting the values in above equation \n",
    "\n",
    "Tinf = sigma*E*(Tt**4-Ts**4)/h+Tt \t# [K]\n",
    "print\"the true air temperature is\",round(Tinf-273,1),\"degree celsius\" "
   ]
  }
 ],
 "metadata": {
  "kernelspec": {
   "display_name": "Python 2",
   "language": "python",
   "name": "python2"
  },
  "language_info": {
   "codemirror_mode": {
    "name": "ipython",
    "version": 2
   },
   "file_extension": ".py",
   "mimetype": "text/x-python",
   "name": "python",
   "nbconvert_exporter": "python",
   "pygments_lexer": "ipython2",
   "version": "2.7.6"
  }
 },
 "nbformat": 4,
 "nbformat_minor": 0
}
