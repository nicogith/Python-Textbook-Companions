{
 "cells": [
  {
   "cell_type": "markdown",
   "metadata": {},
   "source": [
    "# Chapter 1 Introduction"
   ]
  },
  {
   "cell_type": "markdown",
   "metadata": {},
   "source": [
    "## Exa 1.1"
   ]
  },
  {
   "cell_type": "code",
   "execution_count": 7,
   "metadata": {
    "collapsed": false
   },
   "outputs": [
    {
     "name": "stdout",
     "output_type": "stream",
     "text": [
      "Rate of heat transfer per unit area is 3.7 MW/sq meter\n"
     ]
    }
   ],
   "source": [
    "#Example Number 1.1\n",
    "# HOW MUCH HEAT IS TRANSFERRED THROUGH THE PLATE\n",
    "\n",
    "#VARIABLE DECLARATION\n",
    "\n",
    "k = 370 \t\t\t # [W/m] at 250 degree celsius\n",
    "dt = 100-400 \t\t\t#[degree celsius] temperature difference\n",
    "dx = 3*10**(-2) \t\t#[m] thickness of plate\n",
    "\n",
    "#CALCULATION\n",
    "\n",
    "q = -k*dt/dx \t\t\t#[MW/square meter]\n",
    "\n",
    "#RESULTS\n",
    "\n",
    "print \"Rate of heat transfer per unit area is\", q/1000000 ,\"MW/sq meter\"\n"
   ]
  },
  {
   "cell_type": "markdown",
   "metadata": {},
   "source": [
    "## Exa 1.2"
   ]
  },
  {
   "cell_type": "code",
   "execution_count": 2,
   "metadata": {
    "collapsed": false
   },
   "outputs": [
    {
     "name": "stdout",
     "output_type": "stream",
     "text": [
      "Rate of heat transfer is 2.156 kW\n"
     ]
    }
   ],
   "source": [
    "#Example Number 1.2\n",
    "# CALCULATE THE HEAT TRANSFER\n",
    "\n",
    "#Variable declaration\n",
    "\n",
    "Twall = 250 \t\t\t#[degree celsius] wall temperature\n",
    "Tair = 20 \t\t\t#[degree celsius] air temperature\n",
    "h = 25 \t\t\t\t#[W/square meter] heat transfer coefficient\n",
    "l = 75*10**(-2) \t\t#[m] length of plate\n",
    "b = 50*10**(-2) \t\t#[m] width of plate\n",
    "area = l*b \t\t\t#[square meter] area of plate\n",
    "dt = 250-20 \t\t\t#[degree celsius]\n",
    "\n",
    "\n",
    "#Calculation\n",
    "\n",
    "q = h*area*dt \t\t\t# [W] from newton's law of cooling\n",
    "\n",
    "\n",
    "#Result\n",
    "\n",
    "print\"Rate of heat transfer is\",round(q/1000,3),\"kW\" \n",
    "\n"
   ]
  },
  {
   "cell_type": "markdown",
   "metadata": {},
   "source": [
    "## Exa 1.3"
   ]
  },
  {
   "cell_type": "code",
   "execution_count": 3,
   "metadata": {
    "collapsed": false
   },
   "outputs": [
    {
     "name": "stdout",
     "output_type": "stream",
     "text": [
      "Inside plate temperature is 253.05 degree C\n"
     ]
    }
   ],
   "source": [
    "#Example Number 1.3\n",
    "# Calculate the inside plate temperature.\n",
    "\n",
    "#variable declaration\n",
    "\n",
    "Qconv = 2156    \t  # [W] from previous problem\n",
    "Qrad = 300\t\t  # [W] given\n",
    "dx = 0.02\t\t  # [m] plate thicknesss\n",
    "l = 0.75 \t\t  # [m] length of plate \n",
    "w = 0.5  \t\t  # [m] width of plate\n",
    "k = 43\t\t\t  #[W/m] from table 1.1\n",
    "area = l*w\t\t  #[square meter] area of plate\n",
    "\n",
    "#Calculation\n",
    "\n",
    "Qcond = Qconv+Qrad \t  # [W]\n",
    "dt = Qcond*dx/(k*area) \t  # [degree celsius] temperature difference\n",
    "Ti = 250+dt \t\t  # inside temperature\n",
    "\n",
    "#Results\n",
    "\n",
    "print\"Inside plate temperature is\",round(Ti,2),\"degree C\""
   ]
  },
  {
   "cell_type": "markdown",
   "metadata": {},
   "source": [
    "## Exa 1.4"
   ]
  },
  {
   "cell_type": "code",
   "execution_count": 4,
   "metadata": {
    "collapsed": false
   },
   "outputs": [
    {
     "name": "stdout",
     "output_type": "stream",
     "text": [
      "Heat transfer is: 22.0 W\n",
      " This is equal to the electric power which must be applied\n"
     ]
    }
   ],
   "source": [
    "#Example Number 1.4\n",
    "# Calculate electric power to be supplied to the wire \n",
    "\n",
    "#Variable declaration\n",
    "\n",
    "d = 1*10**(-3) \t\t#[m] diameter of wire\n",
    "l = 10*10**(-2) \t#[m] length of wire\n",
    "Sarea = 22*d*l/7 \t#[square meter] surface area of wire\n",
    "h = 5000 \t\t#[W/square meter] heat transfer coefficient\n",
    "Twall = 114 \t\t# [degree celsius]\n",
    "Twater = 100\t        # [degree celsius]\n",
    "\n",
    "#total convection loss is given by equation(1-8)\n",
    "\n",
    "#Calculation\n",
    "\n",
    "Q = h*Sarea*(Twall-Twater) # [W]\n",
    "\n",
    "#Results\n",
    "\n",
    "print\"Heat transfer is:\",Q,\"W\" \n",
    "print\" This is equal to the electric power which must be applied\"\n"
   ]
  },
  {
   "cell_type": "markdown",
   "metadata": {},
   "source": [
    "## Exa 1.5"
   ]
  },
  {
   "cell_type": "code",
   "execution_count": 5,
   "metadata": {
    "collapsed": false
   },
   "outputs": [
    {
     "name": "stdout",
     "output_type": "stream",
     "text": [
      "Heat transfer per unit area is: 69.03  kW/sq meter\n"
     ]
    }
   ],
   "source": [
    "#Example Number 1.5\n",
    "# radiation heat transfer\n",
    "# Calculate the heat transfer per unit area\n",
    "\n",
    "#Variable declaration\n",
    "\n",
    "sigma = 5.669*10**(-8) \t\t#[W/square meter*k^(4)] universal constant\n",
    "T1 = 273+800 \t\t\t# [k] first plate temperature\n",
    "T2 = 273+300 \t\t\t# [k] second plate temperature\n",
    "\n",
    "#equation(1-10) may be employed for this problem\n",
    "\n",
    "#Calculation\n",
    "Q = sigma*(T1**4-T2**4) \t# [W/square meter]\n",
    "\n",
    "#Results\n",
    "\n",
    "print\"Heat transfer per unit area is:\",round(Q/1000,2),\" kW/sq meter\"\n"
   ]
  },
  {
   "cell_type": "markdown",
   "metadata": {},
   "source": [
    "## Exa 1.6"
   ]
  },
  {
   "cell_type": "code",
   "execution_count": 6,
   "metadata": {
    "collapsed": false
   },
   "outputs": [
    {
     "name": "stdout",
     "output_type": "stream",
     "text": [
      "Total heat loss is: 55.67 W/m\n"
     ]
    }
   ],
   "source": [
    "#Example Number 1.6\n",
    "# total heat loss by convection and radiation\n",
    "\n",
    "#Variable declaration\n",
    "d = 0.05 #[m] diameter of pipe\n",
    "Twall = 50 #[degree celsius] \n",
    "Tair = 20 #[degree celsius]\n",
    "emi = 0.8 #emissivity\n",
    "h = 6.5 #[W/square meter] heat transfer coefficient for free convection\n",
    "import math\n",
    "Q1 = h*math.pi*d*(Twall-Tair) #[W/m] convection loss per unit length\n",
    "sigma = 5.669*10**(-8) # [W/square meter*k^(4)] universal constant\n",
    "T1 = 273+Twall # [k]\n",
    "T2 = 273+Tair # [k]\n",
    "Q2 = emi*math.pi*d*sigma*((T1**(4))-(T2**(4))) # [W/m] heat loss due to radiation per unit length\n",
    "Qtotal = Q1+Q2 # [W/m] total heat loss per unit length\n",
    "\n",
    "print\"Total heat loss is:\",round(Qtotal,2),\"W/m\"\n"
   ]
  }
 ],
 "metadata": {
  "kernelspec": {
   "display_name": "Python 2",
   "language": "python",
   "name": "python2"
  },
  "language_info": {
   "codemirror_mode": {
    "name": "ipython",
    "version": 2
   },
   "file_extension": ".py",
   "mimetype": "text/x-python",
   "name": "python",
   "nbconvert_exporter": "python",
   "pygments_lexer": "ipython2",
   "version": "2.7.6"
  }
 },
 "nbformat": 4,
 "nbformat_minor": 0
}
