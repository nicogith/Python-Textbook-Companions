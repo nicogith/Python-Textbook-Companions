{
 "metadata": {
  "name": ""
 },
 "nbformat": 3,
 "nbformat_minor": 0,
 "worksheets": [
  {
   "cells": [
    {
     "cell_type": "heading",
     "level": 1,
     "metadata": {},
     "source": [
      "Chapter 6 : Change of state"
     ]
    },
    {
     "cell_type": "heading",
     "level": 2,
     "metadata": {},
     "source": [
      "Example 6.1 page no : 194"
     ]
    },
    {
     "cell_type": "code",
     "collapsed": false,
     "input": [
      "\n",
      "# Variables\n",
      "vl = 1;     \t\t\t#volume of water in cc\n",
      "vs = 1.0908;\t\t\t#volume of ice in cc\n",
      "t = 273;\t    \t\t#temperature in k\n",
      "p = 76*13.6*981;\t\t#pressure in dynes/sq.cm\n",
      "l = 80;\t\t\t        #latent heat of fusion in cal\n",
      "j = 4.2*10**7;\t\t\t#joules consmath.tant in erg/cal\n",
      "\n",
      "# Calculations\n",
      "v = vl-vs;\t\t\t        #change in volume\n",
      "T = (v*t*p)/(j*l);\t\t\t#change in melting point of water\n",
      "\n",
      "# Result\n",
      "print 'the change in melting point of water is %.5f'%(T)\n",
      "print \"there is wrong answer printed in book. Please calculate manually.\""
     ],
     "language": "python",
     "metadata": {},
     "outputs": [
      {
       "output_type": "stream",
       "stream": "stdout",
       "text": [
        "the change in melting point of water is -0.00748\n",
        "there is wrong answer printed in book. Please calculate manually.\n"
       ]
      }
     ],
     "prompt_number": 2
    },
    {
     "cell_type": "heading",
     "level": 2,
     "metadata": {},
     "source": [
      "Example 6.2 page no : 195"
     ]
    },
    {
     "cell_type": "code",
     "collapsed": false,
     "input": [
      "\n",
      "# Variables\n",
      "vv = 1674.;\t\t\t#volume of vapour in cc\n",
      "vl = 1.;\t\t\t    #volume of liquid in cc\n",
      "p = 760.;\t\t\t#pressure of steam and water in mm\n",
      "t = 373.;\t\t\t#temperature in K\n",
      "p1 = 27.12;\t\t\t#superincumbent pressure in mm\n",
      "\n",
      "# Calculations\n",
      "v = vv-vl;              \t\t\t#change in volume\n",
      "l = (v*p1*t*0.024203/(p));\t\t\t#latent heat of vapourisation in cal\n",
      "\n",
      "# Result\n",
      "print 'the latent heat of vapourisation is %3.1f cal'%(l)\n",
      "print \"Note: Answer is slightly different because of rounding error.\"\n"
     ],
     "language": "python",
     "metadata": {},
     "outputs": [
      {
       "output_type": "stream",
       "stream": "stdout",
       "text": [
        "the latent heat of vapourisation is 539.0 cal\n",
        "Note: Answer is slightly different because of rounding error.\n"
       ]
      }
     ],
     "prompt_number": 6
    },
    {
     "cell_type": "heading",
     "level": 2,
     "metadata": {},
     "source": [
      "Example 6.3 page no : 195"
     ]
    },
    {
     "cell_type": "code",
     "collapsed": false,
     "input": [
      "\n",
      "\n",
      "# Variables\n",
      "m = 1./(342*100);\t\t\t#molar concentration of water\n",
      "t = 289.;\t\t\t        #temperature in K\n",
      "p = 53.5*13.6*981;\t\t\t#pressure in dynes/sq.cm\n",
      "\n",
      "# Calculations\n",
      "k = p/(t*m);\t\t\t    #the value of k in ergs/mol.deg\n",
      "\n",
      "# Result\n",
      "print 'the value of k is %.1e ergs/mol.deg'%(k)\n"
     ],
     "language": "python",
     "metadata": {},
     "outputs": [
      {
       "output_type": "stream",
       "stream": "stdout",
       "text": [
        "the value of k is 8.4e+07 ergs/mol.deg\n"
       ]
      }
     ],
     "prompt_number": 7
    },
    {
     "cell_type": "heading",
     "level": 2,
     "metadata": {},
     "source": [
      "Example 6.4 pageno : 196"
     ]
    },
    {
     "cell_type": "code",
     "collapsed": false,
     "input": [
      "\n",
      "# Variables\n",
      "p1 = 4.60;\t     \t\t    #presure at 0deg.C in mm per deg.C\n",
      "p2 = 4.94;\t\t        \t#pressure at 1deg.C in mm per deg.C\n",
      "t = 0.0072;\t\t\t        #lowering the melting point in deg.C\n",
      "t1 = 7.1563979*10**(-3);\t\t\t#rise in melting point in deg.C\n",
      "p = 760;\t\t\t        #atmospheric pressure in mm hg\n",
      "\n",
      "# Calculations\n",
      "dp = p2-p1;\t\t\t        #rate of increase of pressure in mm per deg.C\n",
      "p3 = (t1*p)/t;\t\t\t    #pressure in mm\n",
      "dt = (755.4-p3)/dp;\t\t\t#tmperature for the triple point in deg.C\n",
      "\n",
      "# Result\n",
      "print 'temperature for the triple point is %3.6f deg.C'%(dt)\n"
     ],
     "language": "python",
     "metadata": {},
     "outputs": [
      {
       "output_type": "stream",
       "stream": "stdout",
       "text": [
        "temperature for the triple point is 0.007188 deg.C\n"
       ]
      }
     ],
     "prompt_number": 8
    },
    {
     "cell_type": "heading",
     "level": 2,
     "metadata": {},
     "source": [
      "Example 6.5 pageno : 196"
     ]
    },
    {
     "cell_type": "code",
     "collapsed": false,
     "input": [
      "\n",
      "# Variables\n",
      "v = 21*10**4;\t\t\t#change in volume from vapour to liquid in cc\n",
      "Ls = 687;\t\t\t#latent heat of sublimation in cal\n",
      "lv = 607;\t\t\t#latent heat of vapourisation in cal\n",
      "t = 273;\t\t\t#temperature of water in deg.C\n",
      "j = 4.2*10**7;\t\t\t#joules constant in ergs/cal\n",
      "\n",
      "# Calculations\n",
      "sv = lv*j/(t*(v));\t\t\t#slope of vapourisation curve at 0 deg.C in dyne/sq.cm/deg.C\n",
      "ss = Ls*j/(t*(v));\t\t\t#slope of sublimation curve at 0 deg.C in dyne/sq.cm/deg.C\n",
      "\n",
      "# Result\n",
      "print 'the slope of vapourisation curve is %.2e dyne/sq.cm/deg.C  \\\n",
      "\\nthe slope of sublimation curve is %.2e dyne/sq.cm/deg.C'%(sv,ss)\n"
     ],
     "language": "python",
     "metadata": {},
     "outputs": [
      {
       "output_type": "stream",
       "stream": "stdout",
       "text": [
        "the slope of vapourisation curve is 4.45e+02 dyne/sq.cm/deg.C  \n",
        "the slope of sublimation curve is 5.03e+02 dyne/sq.cm/deg.C\n"
       ]
      }
     ],
     "prompt_number": 10
    }
   ],
   "metadata": {}
  }
 ]
}