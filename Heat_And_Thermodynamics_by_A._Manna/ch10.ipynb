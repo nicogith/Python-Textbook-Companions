{
 "metadata": {
  "name": ""
 },
 "nbformat": 3,
 "nbformat_minor": 0,
 "worksheets": [
  {
   "cells": [
    {
     "cell_type": "heading",
     "level": 1,
     "metadata": {},
     "source": [
      "Chapter 10 : Thermodynamic relations"
     ]
    },
    {
     "cell_type": "heading",
     "level": 2,
     "metadata": {},
     "source": [
      "Example 10.1 pageno: 329"
     ]
    },
    {
     "cell_type": "code",
     "collapsed": false,
     "input": [
      "\n",
      "# Variables\n",
      "t = 289.6;\t\t\t#temperature in K\n",
      "dt = 0.0244;\t\t\t#raise in temperature in deg.C\n",
      "v1 = 0.00095;\t\t\t#volume occupied in liquid state in litres\n",
      "v2 = 0.00079;\t\t\t#volume occupied in solid state in litres\n",
      "\n",
      "# Calculations\n",
      "l = t*(v1-v2)/dt;\t\t\t#latent heat of fusion in lit.atm\n",
      "\n",
      "# Result\n",
      "print 'the latent heat of fusion is %3.2f lit.atm'%(l)\n"
     ],
     "language": "python",
     "metadata": {},
     "outputs": [
      {
       "output_type": "stream",
       "stream": "stdout",
       "text": [
        "the latent heat of fusion is 1.90 lit.atm\n"
       ]
      }
     ],
     "prompt_number": 1
    },
    {
     "cell_type": "heading",
     "level": 2,
     "metadata": {},
     "source": [
      "Example 10.2 pageno : 329"
     ]
    },
    {
     "cell_type": "code",
     "collapsed": false,
     "input": [
      "\n",
      "# Variables\n",
      "t = 295.    \t\t\t#temperature of water in K\n",
      "dp = 10**6.\t    \t\t#cahnge in pressure in dyne/sq.cm\n",
      "j = 4.2*10**7;\t\t\t#joules constant in ergs/cal\n",
      "\n",
      "# Calculations\n",
      "dc = -t*10**-5*dp/j;\t\t\t#change in specific heat\n",
      "\n",
      "# Result\n",
      "print 'the change in specific heat is %.e cal/degree'%(dc)\n"
     ],
     "language": "python",
     "metadata": {},
     "outputs": [
      {
       "output_type": "stream",
       "stream": "stdout",
       "text": [
        "the change in specific heat is -7e-05 cal/degree\n"
       ]
      }
     ],
     "prompt_number": 3
    },
    {
     "cell_type": "heading",
     "level": 2,
     "metadata": {},
     "source": [
      "Example 10.3 pageno: 329"
     ]
    },
    {
     "cell_type": "code",
     "collapsed": false,
     "input": [
      "\n",
      "# Variables\n",
      "cp = 0.0909\t    \t\t#specific heat at consmath.tant pressure in cal/degree\n",
      "t = 273;\t\t    \t#temperature in K\n",
      "v = 0.112;\t\t\t    #specific volume in lit/deg.C\n",
      "a = 5.01*10**(-6);\t\t#coefficient of linear expansion\n",
      "k = 8*10**-7;\t\t\t#compressibility of copper in per atoms\n",
      "\n",
      "# Calculations\n",
      "cv = cp+(9*a**2*v*t*0.024142*10**3/k);\t\t\t#specific heat at constant volume in cal/deg.C\n",
      "\n",
      "# Result\n",
      "print 'specific heat at constant volume is %3.2f cal/deg.C'%(cv)\n"
     ],
     "language": "python",
     "metadata": {},
     "outputs": [
      {
       "output_type": "stream",
       "stream": "stdout",
       "text": [
        "specific heat at constant volume is 0.30 cal/deg.C\n"
       ]
      }
     ],
     "prompt_number": 4
    },
    {
     "cell_type": "heading",
     "level": 2,
     "metadata": {},
     "source": [
      "Example 10.5 pageno : 331"
     ]
    },
    {
     "cell_type": "code",
     "collapsed": false,
     "input": [
      "\n",
      "# Variables\n",
      "t = 289.6;\t\t\t#temperature in K\n",
      "dt = 0.0244;\t\t\t#raise in temperature in deg.C\n",
      "v1 = 0.00095;\t\t\t#volume occupied in liquid state in litres\n",
      "v2 = 0.00079;\t\t\t#volume occupied in solid state in litres\n",
      "\n",
      "# Calculations\n",
      "l = t*(v1-v2)/dt;\t\t\t#latent heat of fusion in lit.atm\n",
      "\n",
      "# Result\n",
      "print 'the latent heat of fusion is %3.3f lit.atm'%(l)\n"
     ],
     "language": "python",
     "metadata": {},
     "outputs": [
      {
       "output_type": "stream",
       "stream": "stdout",
       "text": [
        "the latent heat of fusion is 1.899 lit.atm\n"
       ]
      }
     ],
     "prompt_number": 5
    },
    {
     "cell_type": "heading",
     "level": 2,
     "metadata": {},
     "source": [
      "Example 10.6 pageno : 331"
     ]
    },
    {
     "cell_type": "code",
     "collapsed": false,
     "input": [
      "\n",
      "# Variables\n",
      "l = 539;\t\t\t#latent heat of water at 100deg.C in cal\n",
      "j = 4.2*10**7;\t\t\t#joules constant in ergs/cal\n",
      "t = 373;\t\t\t#temperature of water in K\n",
      "v2 = 1670;\t\t\t#volume of steam formed in cc\n",
      "v1 = 1;\t\t\t#intial volume in cc\n",
      "g = 981;\t\t\t#acceleration due to gravity in cm/sec**2\n",
      "d = 13.6;\t\t\t#specific gravity of hg\n",
      "\n",
      "# Calculations\n",
      "dp = l*j/(t*(v2-v1)*g*d);\t\t\t#rate of change of saturation pressure in cm of mercury\n",
      "\n",
      "# Result\n",
      "print 'the rate of change of saturation pressure is %3.1f cm of hg'%(dp)\n"
     ],
     "language": "python",
     "metadata": {},
     "outputs": [
      {
       "output_type": "stream",
       "stream": "stdout",
       "text": [
        "the rate of change of saturation pressure is 2.7 cm of hg\n"
       ]
      }
     ],
     "prompt_number": 6
    },
    {
     "cell_type": "heading",
     "level": 2,
     "metadata": {},
     "source": [
      "Example 10.7 pageno : 331"
     ]
    },
    {
     "cell_type": "code",
     "collapsed": false,
     "input": [
      "\n",
      "# Variables\n",
      "p1 = 77.371;\t\t\t#pressure at 100.5deg.C in cm of hg\n",
      "p2 = 74.650;\t\t\t#pressure at 99.5deg.C in cm of hg\n",
      "g = 981;\t\t\t#universal gas constant in cm/sec**2\n",
      "d = 13.6;\t\t\t#specific gravity\n",
      "l = 537;\t\t\t#latent heat of vapourisation in cal/gm\n",
      "t = 373;\t\t\t#temperature of water in K\n",
      "j = 4.2*10**7;\t\t\t#joules constant in ergs/cal\n",
      "v1 = 1;\t\t\t#intial volume in cc\n",
      "\n",
      "# Calculations\n",
      "v2 = v1+(l*j/(t*(p1-p2)*g*d));\t\t\t#volume of gram of steam at 100deg.C in cc\n",
      "\n",
      "# Result\n",
      "print 'volume of gram of steam at 100deg.C is %.f cc'%(v2)\n"
     ],
     "language": "python",
     "metadata": {},
     "outputs": [
      {
       "output_type": "stream",
       "stream": "stdout",
       "text": [
        "volume of gram of steam at 100deg.C is 1667 cc\n"
       ]
      }
     ],
     "prompt_number": 8
    },
    {
     "cell_type": "heading",
     "level": 2,
     "metadata": {},
     "source": [
      "Example 10.8 pageno : 332"
     ]
    },
    {
     "cell_type": "code",
     "collapsed": false,
     "input": [
      "\n",
      "# Variables\n",
      "t = 350;\t\t\t#boiling point temperature in K\n",
      "l = 46;\t\t\t#latent heat of vapourisation in cal/gm\n",
      "v1 = 1/1.6;\t\t\t#intial volume in cc\n",
      "dp = 2.3;\t\t\t#change in pressure with temperature in cm of hg/deg.C\n",
      "d = 13.6;\t\t\t#specific gravity of mercury\n",
      "g = 981;\t\t\t#acceleration due to gravity in cm/sec**2\n",
      "j = 4.2*10**7;\t\t\t#joukes constant in ergs/cal\n",
      "\n",
      "#CALCULTIONS\n",
      "v2 = v1+(l*j)/(t*dp*d*g);\t\t\t#specific volume in cc\n",
      "\n",
      "# Result\n",
      "print 'specific volume of vapour of carbon is %3.3f cc'%(v2)\n",
      "print \"Note : Answer is slightly different because of rounding error\""
     ],
     "language": "python",
     "metadata": {},
     "outputs": [
      {
       "output_type": "stream",
       "stream": "stdout",
       "text": [
        "specific volume of vapour of carbon is 180.513 cc\n",
        "Note : Answer is slightly different because of rounding error\n"
       ]
      }
     ],
     "prompt_number": 9
    },
    {
     "cell_type": "heading",
     "level": 2,
     "metadata": {},
     "source": [
      "Example 10.9 pageno : 332"
     ]
    },
    {
     "cell_type": "code",
     "collapsed": false,
     "input": [
      "\n",
      "# Variables\n",
      "l = 536.;\t\t\t#latent heat of vapourisation in cal/gm\n",
      "v1 = 1.;\t\t\t#volume of 1 gm of water in cc\n",
      "v2 = 1600.;\t\t\t#volume of steam in cc\n",
      "t = 373.;\t\t\t#boiling point of water in K\n",
      "p = 1.;\t\t\t#pressure in cm of hg\n",
      "d = 13.6;\t\t\t#specific gravity of mercury\n",
      "g = 981.;\t\t\t#gravitational constant in cm/sec**2s/cal\n",
      "j = 4.2*10**7;\t\t\t#joules constant in erg/cal\n",
      "\n",
      "# Calculations\n",
      "dt = (t*(v2-v1)*d*g)/(l*j);\t\t\t#change in temperature in deg.C\n",
      "\n",
      "# Result\n",
      "print 'change in temperature is %3.2f deg.C'%(dt)\n"
     ],
     "language": "python",
     "metadata": {},
     "outputs": [
      {
       "output_type": "stream",
       "stream": "stdout",
       "text": [
        "change in temperature is 0.35 deg.C\n"
       ]
      }
     ],
     "prompt_number": 10
    },
    {
     "cell_type": "heading",
     "level": 2,
     "metadata": {},
     "source": [
      "Example 10.10 page no : 332"
     ]
    },
    {
     "cell_type": "code",
     "collapsed": false,
     "input": [
      "\n",
      "# Variables\n",
      "t = 353;\t\t\t#temperature in K\n",
      "p = 76*13.6*981;\t\t\t#pressure in dynes/sq.cm\n",
      "v = 0.146;\t\t\t#specific volume in cc/kg\n",
      "l = 35.6;\t\t\t#latent heat of fusion in cal/gm\n",
      "j = 4.18*10**7;\t\t\t#joules constant in ergs/cal\n",
      "\n",
      "# Calculations\n",
      "dt = t*p*v/(l*j);\t\t\t#change in melting point per atmosphere\n",
      "\n",
      "# Result\n",
      "print 'the rate of change in melting point is %.3f per atmosphere'%(dt)\n"
     ],
     "language": "python",
     "metadata": {},
     "outputs": [
      {
       "output_type": "stream",
       "stream": "stdout",
       "text": [
        "the rate of change in melting point is 0.035 per atmosphere\n"
       ]
      }
     ],
     "prompt_number": 12
    },
    {
     "cell_type": "heading",
     "level": 2,
     "metadata": {},
     "source": [
      "Example 10.11 pageno : 333"
     ]
    },
    {
     "cell_type": "code",
     "collapsed": false,
     "input": [
      "\n",
      "# Variables\n",
      "l = 79.6*4.18*10**7;\t\t\t#latent heat of water in ergs/gm\n",
      "t = 273.16;\t\t\t#temperature of water in K\n",
      "v1 = 1.0001;\t\t\t#specific volume of water at 0deg.C in cc\n",
      "v2 = 1.0908;\t\t\t#specific volume of ice at 0deg.C in cc\n",
      "p = 1.013*10**6;\t\t\t#pressure of atmosphere in dyne/sq.cm\n",
      "\n",
      "# Calculations\n",
      "dt = t*(v1-v2)*p/l;\t\t\t#change in freezing point of water in deg.C\n",
      "\n",
      "# Result\n",
      "print 'change in freezing point of water is %3.4f deg.C'%(dt)\n"
     ],
     "language": "python",
     "metadata": {},
     "outputs": [
      {
       "output_type": "stream",
       "stream": "stdout",
       "text": [
        "change in freezing point of water is -0.0075 deg.C\n"
       ]
      }
     ],
     "prompt_number": 1
    }
   ],
   "metadata": {}
  }
 ]
}