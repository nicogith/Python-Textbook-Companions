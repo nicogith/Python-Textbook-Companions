{
 "metadata": {
  "name": ""
 },
 "nbformat": 3,
 "nbformat_minor": 0,
 "worksheets": [
  {
   "cells": [
    {
     "cell_type": "heading",
     "level": 1,
     "metadata": {},
     "source": [
      "Chapter 12 : Radiation"
     ]
    },
    {
     "cell_type": "heading",
     "level": 2,
     "metadata": {},
     "source": [
      "Example 12.1 pageno : 445"
     ]
    },
    {
     "cell_type": "code",
     "collapsed": false,
     "input": [
      "\n",
      "# Variables\n",
      "t1 = 300;\t\t\t#temperature of the surroundings in K\n",
      "t2 = 900;\t\t\t#temperature of the hot body p in K\n",
      "t3 = 500;\t\t\t#temperature of the hot body q in K\n",
      "a = 5.67*10**-8;\t\t\t#stefan boltzmann consmath.tant in W/m**2.K**4\n",
      "\n",
      "# Calculations\n",
      "q1 = a*(t2**4-t1**4);\t\t\t#heat lost from hot body p in w/m**2\n",
      "q2 = a*(t3**4-t1**4);\t\t\t#heat lost from hot body q in w/m**2\n",
      "q = q1/q2;\t\t\t#ratio of heat lost from two subsmath.tances\n",
      "\n",
      "# Result\n",
      "print 'ratio of heat lost from two substances is %3.1f/1'%(q)\n"
     ],
     "language": "python",
     "metadata": {},
     "outputs": [
      {
       "output_type": "stream",
       "stream": "stdout",
       "text": [
        "ratio of heat lost from two substances is 11.9/1\n"
       ]
      }
     ],
     "prompt_number": 2
    },
    {
     "cell_type": "heading",
     "level": 2,
     "metadata": {},
     "source": [
      "Example 12.2 pageno : 445"
     ]
    },
    {
     "cell_type": "code",
     "collapsed": false,
     "input": [
      "\n",
      "# Variables\n",
      "t1 = 573;\t\t\t#temperature of the hot side in K\n",
      "t2 = 273;\t\t\t#temperature of the coll side in K\n",
      "m = 82;\t\t\t#mass of the black body in gm\n",
      "cp = 0.1;\t\t\t#specific heat of the black body kj/kg.K\n",
      "dt = 0.35;\t\t\t#ice melting at a rate of temperature in deg.C/sec\n",
      "a = 8;\t\t\t#area of black body in sq.cm\n",
      "\n",
      "# Calculations\n",
      "s = m*cp*dt/(a*(t1**4-t2**4));\t\t\t#boltzmann constant in cal/sq.cm/sec/deg**4\n",
      "\n",
      "# Result\n",
      "print 'boltzmann consmath.tant is %.2e cal/sq.cm/sec/deg**4'%(s)\n"
     ],
     "language": "python",
     "metadata": {},
     "outputs": [
      {
       "output_type": "stream",
       "stream": "stdout",
       "text": [
        "boltzmann consmath.tant is 3.51e-12 cal/sq.cm/sec/deg**4\n"
       ]
      }
     ],
     "prompt_number": 4
    },
    {
     "cell_type": "heading",
     "level": 2,
     "metadata": {},
     "source": [
      "Example 12.3 pageno : 445"
     ]
    },
    {
     "cell_type": "code",
     "collapsed": false,
     "input": [
      "\n",
      "# Variables\n",
      "r1 = 60.;\t\t\t#distance of first black body in cm\n",
      "r2 = 30.;\t\t\t#distance of second black body in cm\n",
      "t1 = 873.;\t\t\t#temperature of first black body in K\n",
      "t2 = 573.;\t\t\t#temperature of the second black body in K\n",
      "\n",
      "# Calculations\n",
      "i = (t2**4/t1**4)*(r1**2/r2**2);\t\t\t#ratio of intensity of radition\n",
      "\n",
      "# Result\n",
      "print 'ratio of intensity of radition is %3.2f'%(i)\n"
     ],
     "language": "python",
     "metadata": {},
     "outputs": [
      {
       "output_type": "stream",
       "stream": "stdout",
       "text": [
        "ratio of intensity of radition is 0.74\n"
       ]
      }
     ],
     "prompt_number": 5
    },
    {
     "cell_type": "heading",
     "level": 2,
     "metadata": {},
     "source": [
      "Example 12.4 pageno : 445"
     ]
    },
    {
     "cell_type": "code",
     "collapsed": false,
     "input": [
      "\n",
      "# Variables\n",
      "t1 = 1373;\t\t\t#temperature of the sphere in K\n",
      "t2 = 283;\t\t\t#temperature of the black body in K\n",
      "r = 4.17*10**5;\t\t\t#rate of heat radiate in ergs/sq.cm/sec\n",
      "a = 4*3.14*(6**2);\t\t\t#surface area of the sphere in sq.cm\n",
      "\n",
      "\n",
      "tr = r*a*(t1**4/t2**4)*(2.39005736*10**(-8));\t\t\t#total heat radiated in cal/sec\n",
      "\n",
      "# Result\n",
      "print 'total heat radiated is %3.1f cal/sec'%(tr)\n"
     ],
     "language": "python",
     "metadata": {},
     "outputs": [
      {
       "output_type": "stream",
       "stream": "stdout",
       "text": [
        "total heat radiated is 2496.6 cal/sec\n"
       ]
      }
     ],
     "prompt_number": 7
    },
    {
     "cell_type": "heading",
     "level": 2,
     "metadata": {},
     "source": [
      "Example 12.5 pageno : 446"
     ]
    },
    {
     "cell_type": "code",
     "collapsed": false,
     "input": [
      "\n",
      "# Variables\n",
      "h = 2*3.14*100;\t\t\t#heat received by the lens per min in  cal\n",
      "m = 25.;\t\t\t#mass of the ice in gm\n",
      "l = 80;\t\t\t#latent heat of ice in cal/gm\n",
      "\n",
      "# Calculations\n",
      "t = m*l/h;\t\t\t#time for which the sun rays falls in min\n",
      "\n",
      "# Result\n",
      "print 'time for which the sun rays falls is %3.3f min'%(t)\n"
     ],
     "language": "python",
     "metadata": {},
     "outputs": [
      {
       "output_type": "stream",
       "stream": "stdout",
       "text": [
        "time for which the sun rays falls is 3.185 min\n"
       ]
      }
     ],
     "prompt_number": 8
    },
    {
     "cell_type": "heading",
     "level": 2,
     "metadata": {},
     "source": [
      "Example 12.6 page no : 446"
     ]
    },
    {
     "cell_type": "code",
     "collapsed": false,
     "input": [
      "\n",
      "# Variables\n",
      "d = 0.35;\t\t\t#diameter of the mirror in m\n",
      "t = 5;\t\t\t#time in min\n",
      "T = 16;\t\t\t#temperature of water found to be in deg.C\n",
      "m = 60;\t\t\t#mass of water in gm\n",
      "mc = 30;\t\t\t#mass of calorimeter in gm\n",
      "cp = 0.1;\t\t\t#specific heat of copper in cal/gm/deg.C\n",
      "\n",
      "# Calculations\n",
      "q = (m+cp*mc)*T*4/(5*3.14*d**2);\t\t\t#amount of heat received by earth in cal\n",
      "\n",
      "# Result\n",
      "print 'amount of heat received by earth is %3.f cal'%(q)\n"
     ],
     "language": "python",
     "metadata": {},
     "outputs": [
      {
       "output_type": "stream",
       "stream": "stdout",
       "text": [
        "amount of heat received by earth is 2096 cal\n"
       ]
      }
     ],
     "prompt_number": 10
    },
    {
     "cell_type": "heading",
     "level": 2,
     "metadata": {},
     "source": [
      "Example 12.7 pageno : 446"
     ]
    },
    {
     "cell_type": "code",
     "collapsed": false,
     "input": [
      "\n",
      "# Variables\n",
      "r1 = 5.;\t\t\t#radius of first sphere in cm\n",
      "r2 = 10.;\t\t\t#radius of second sphere in cm\n",
      "t1 = 700.;\t\t\t#temperature of the first sphere in K\n",
      "t2 = 500.;\t\t\t#temperature of the second sphere in K\n",
      "t = 300.;\t\t\t#temperature of the enclousure in K\n",
      "\n",
      "# Calculations1\n",
      "dc = (r2/r1)*(t1**4-t**4)/(t2**4-t**4);\t\t\t#ratio of c1/c2\n",
      "r = r1**3*dc/r2**3;\t\t\t#rate of heat loss\n",
      "\n",
      "# Result\n",
      "print 'rate of loss of heat is %3.3f'%(r)\n"
     ],
     "language": "python",
     "metadata": {},
     "outputs": [
      {
       "output_type": "stream",
       "stream": "stdout",
       "text": [
        "rate of loss of heat is 1.066\n"
       ]
      }
     ],
     "prompt_number": 16
    },
    {
     "cell_type": "heading",
     "level": 2,
     "metadata": {},
     "source": [
      "Example 12.8 pageno : 447"
     ]
    },
    {
     "cell_type": "code",
     "collapsed": false,
     "input": [
      "# Variables\n",
      "t1 = 600.;\t\t\t#temperature of the black body in K\n",
      "t0 = 300.;\t\t\t#temperature of the surroundings in K\n",
      "d = 6.;\t\t\t#deflections in galvanometer\n",
      "d1 = 400.;\t\t\t#deflection in divisions\n",
      "\n",
      "# Calculations\n",
      "dt = (d1/d)*(t1**4-t0**4);\t\t\t#change of temperature\n",
      "t2 = (dt+t0**4)**(1./4);\t\t\t#end temperature in K\n",
      "\n",
      "# Result\n",
      "print 'end temperature of the temperature is %3.2f K'%(t2)\n",
      "print \"Note : answer in book in incorrect. Please calculate manually.\""
     ],
     "language": "python",
     "metadata": {},
     "outputs": [
      {
       "output_type": "stream",
       "stream": "stdout",
       "text": [
        "end temperature of the temperature is 1687.45 K\n",
        "Note : answer in book in incorrect. Please calculate manually.\n"
       ]
      }
     ],
     "prompt_number": 19
    },
    {
     "cell_type": "heading",
     "level": 2,
     "metadata": {},
     "source": [
      "Example 12.9 pageno : 447"
     ]
    },
    {
     "cell_type": "code",
     "collapsed": false,
     "input": [
      "\n",
      "# Variables\n",
      "n = 17000;\t\t\t#luminosity of star compared to sun\n",
      "t = 6000;\t\t\t#temperature of the sun in K\n",
      "\n",
      "# Calculations\n",
      "t1 = (n*t**4)**(1./4);\t\t\t#temperature of the star in K\n",
      "\n",
      "# Result\n",
      "print 'the temperature of the star is %3.f K'%(round(t1,-1))\n"
     ],
     "language": "python",
     "metadata": {},
     "outputs": [
      {
       "output_type": "stream",
       "stream": "stdout",
       "text": [
        "the temperature of the star is 68510 K\n"
       ]
      }
     ],
     "prompt_number": 21
    }
   ],
   "metadata": {}
  }
 ]
}