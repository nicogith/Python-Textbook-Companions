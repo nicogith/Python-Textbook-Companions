{
 "metadata": {
  "name": ""
 },
 "nbformat": 3,
 "nbformat_minor": 0,
 "worksheets": [
  {
   "cells": [
    {
     "cell_type": "heading",
     "level": 1,
     "metadata": {},
     "source": [
      "Chapter 11 : Conduction of heat"
     ]
    },
    {
     "cell_type": "heading",
     "level": 2,
     "metadata": {},
     "source": [
      "Example 11.1 pageno : 375"
     ]
    },
    {
     "cell_type": "code",
     "collapsed": false,
     "input": [
      "\n",
      "# Variables\n",
      "k = 0.12;\t\t\t#thermal conductivity in cgs unit\n",
      "t1 = 200;\t\t\t#temperature at one side in deg.C\n",
      "t2 = 50;\t\t\t#temperature at other side in deg.C\n",
      "t = 3600;\t\t\t#time in sec\n",
      "a = 1;\t\t\t#area in sq.cm\n",
      "t3 = 3;\t\t\t#thickness of the plate in cm\n",
      "\n",
      "# Calculations\n",
      "q = k*a*(t1-t2)*t/t3;\t\t\t#amount of heat conducted in cal\n",
      "\n",
      "# Result\n",
      "print 'the amount of heat conducted is %3.2f cal'%(q)\n"
     ],
     "language": "python",
     "metadata": {},
     "outputs": [
      {
       "output_type": "stream",
       "stream": "stdout",
       "text": [
        "the amount of heat conducted is 21600.00 cal\n"
       ]
      }
     ],
     "prompt_number": 1
    },
    {
     "cell_type": "heading",
     "level": 2,
     "metadata": {},
     "source": [
      "Example 11.2 pageno : 375"
     ]
    },
    {
     "cell_type": "code",
     "collapsed": false,
     "input": [
      "\n",
      "# Variables\n",
      "k = 0.9;\t\t\t#thermal conductivity in cgs unit\n",
      "a = 10;\t\t\t#area of the copper bar in sq.cm\n",
      "t1 = 100;\t\t\t#hot side temperature in deg.C\n",
      "t2 = 20;\t\t\t#cool side temperature in deg.C\n",
      "d = 25;\t\t\t#thickness of the bar in cm\n",
      "t3 = 14;\t\t\t#temperature of water when entering in deg.C\n",
      "\n",
      "# Calculations\n",
      "m = k*a*(t1-t2)/(d*(t2-t3));\t\t\t#rate flow of water in gm/sec\n",
      "\n",
      "# Result\n",
      "print 'rate flow of water is %3.2f gm/sec'%(m)\n"
     ],
     "language": "python",
     "metadata": {},
     "outputs": [
      {
       "output_type": "stream",
       "stream": "stdout",
       "text": [
        "rate flow of water is 4.80 gm/sec\n"
       ]
      }
     ],
     "prompt_number": 2
    },
    {
     "cell_type": "heading",
     "level": 2,
     "metadata": {},
     "source": [
      "Example 11.3 pageno : 375"
     ]
    },
    {
     "cell_type": "code",
     "collapsed": false,
     "input": [
      "\n",
      "# Variables\n",
      "i = 1.18;\t\t\t#current in amperes\n",
      "e = 20;\t\t\t#potential difference across its ends in volts\n",
      "j = 4.2;\t\t\t#joules constant in joule/cal\n",
      "a = 2*10**4;\t\t\t#area of the slab in sq.cm\n",
      "t = 5;\t\t\t#thickness of the plate in cm\n",
      "t1 = 12.5;\t\t\t#temperature at hot side in K\n",
      "t2 = 0;\t\t\t#temperature at cold side in k\n",
      "\n",
      "# Calculations\n",
      "k = e*i*t/(j*a*(t1-t2));\t\t\t#thermal conductivity in cgs unit\n",
      "\n",
      "# Result\n",
      "print 'thermal conductivity of slab is %3.5f cgs unit'%(k)\n"
     ],
     "language": "python",
     "metadata": {},
     "outputs": [
      {
       "output_type": "stream",
       "stream": "stdout",
       "text": [
        "thermal conductivity of slab is 0.00011 cgs unit\n"
       ]
      }
     ],
     "prompt_number": 3
    },
    {
     "cell_type": "heading",
     "level": 2,
     "metadata": {},
     "source": [
      "Example 11.4 pageno : 375"
     ]
    },
    {
     "cell_type": "code",
     "collapsed": false,
     "input": [
      "\n",
      "import math\n",
      "\n",
      "# Variables\n",
      "l = 30.;\t\t\t#length of the tube in cm\n",
      "t = 100.;\t\t\t#temperature at outside in deg.C\n",
      "t1 = 40.;\t\t\t#tempertaure of water when leaving tube in deg.C\n",
      "t2 = 20.;\t\t\t#temperature of water when entering tube in deg.C\n",
      "m = 165./60\t\t\t#mass flow rete of water in cc/sec\n",
      "r1 = 6.;\t\t\t#internal radii in mm\n",
      "r2 = 8.;\t\t\t#external radii in mm\n",
      "\n",
      "# Calculations\n",
      "k = m*(t1-t2)*math.log(r2/r1)/(2*3.14*l*(t-((t1+t2)/2)));\t\t\t#thermal conductivity in cgs unit\n",
      "\n",
      "# Result\n",
      "print 'thermal conductivity of the tube is %3.4f cgs unit'%(k)\n"
     ],
     "language": "python",
     "metadata": {},
     "outputs": [
      {
       "output_type": "stream",
       "stream": "stdout",
       "text": [
        "thermal conductivity of the tube is 0.0012 cgs unit\n"
       ]
      }
     ],
     "prompt_number": 4
    },
    {
     "cell_type": "heading",
     "level": 2,
     "metadata": {},
     "source": [
      "Example 11.5 pageno : 376"
     ]
    },
    {
     "cell_type": "code",
     "collapsed": false,
     "input": [
      "\n",
      "# Variables\n",
      "l1 = 1.9;\t\t\t#length of the first bar in cm\n",
      "l2 = 5; \t\t\t#length of the second bar in cm\n",
      "k2 = 0.92;\t\t\t#thermal conductivity in cgs unit\n",
      "\n",
      "# Calculations\n",
      "k1 = k2*(l1/l2)**2;\t\t\t#thermal conductivity if first bar in cgs unit\n",
      "\n",
      "# Result\n",
      "print 'thermal conductivity of first bar is %3.3f cgs unit'%(k1)\n"
     ],
     "language": "python",
     "metadata": {},
     "outputs": [
      {
       "output_type": "stream",
       "stream": "stdout",
       "text": [
        "thermal conductivity of first bar is 0.133 cgs unit\n"
       ]
      }
     ],
     "prompt_number": 5
    },
    {
     "cell_type": "heading",
     "level": 2,
     "metadata": {},
     "source": [
      "Example 11.6 pageno : 376"
     ]
    },
    {
     "cell_type": "code",
     "collapsed": false,
     "input": [
      "\n",
      "# Variables\n",
      "k1 = 0.92;\t\t\t#thermal conductivity of copper in cgs unit\n",
      "k2 = 0.5;\t\t\t#thermal conductivity of alluminium in cgs unit\n",
      "t1 = 100;\t\t\t#temperature of copper in deg.C\n",
      "t2 = 0;\t\t\t#temperature of alluminium in deg.C\n",
      "\n",
      "# Calculations\n",
      "t = k1*t1/(k1+k2);\t\t\t#welded teperature in deg.C\n",
      "\n",
      "# Result\n",
      "print 'welded temperature is %3.1f deg.C'%(t)\n"
     ],
     "language": "python",
     "metadata": {},
     "outputs": [
      {
       "output_type": "stream",
       "stream": "stdout",
       "text": [
        "welded temperature is 64.8 deg.C\n"
       ]
      }
     ],
     "prompt_number": 6
    },
    {
     "cell_type": "heading",
     "level": 2,
     "metadata": {},
     "source": [
      "Example 11.7 pageno : 376"
     ]
    },
    {
     "cell_type": "code",
     "collapsed": false,
     "input": [
      "\n",
      "# Variables\n",
      "w = 23;\t\t\t#thermal capacity of calorimeter in cal\n",
      "m = 440;\t\t\t#mass of water in gm\n",
      "l = 14.6;\t\t\t#lenght of the rubber tube in cm\n",
      "dt = 0.019;\t\t\t#rate of change in temperature in deg.C/sec\n",
      "t = 100;\t\t\t#temperature of steam in deg.C\n",
      "t1 = 22;\t\t\t#temperature of the water in deg.C\n",
      "t2 = t1;\t\t\t#temperature of calorimeter in deg.C\n",
      "r1 = 1;\t\t\t#external radii in cm\n",
      "r2 = 0.75;\t\t\t#internal radii in cm\n",
      "\n",
      "# Calculations\n",
      "k = (w+m)*dt*math.log(r1/r2)/(2*3.14*l*(t-((t1+t2)/2)));\t\t\t#thermal conductivity in cgs unit\n",
      "\n",
      "# Result\n",
      "print 'thermal cnductivity of rubber tube is %3.6f cgs unit'%(k)\n"
     ],
     "language": "python",
     "metadata": {},
     "outputs": [
      {
       "output_type": "stream",
       "stream": "stdout",
       "text": [
        "thermal cnductivity of rubber tube is 0.000354 cgs unit\n"
       ]
      }
     ],
     "prompt_number": 9
    },
    {
     "cell_type": "heading",
     "level": 2,
     "metadata": {},
     "source": [
      "Example 11.8 pageno : 377"
     ]
    },
    {
     "cell_type": "code",
     "collapsed": false,
     "input": [
      "\n",
      "# Variables\n",
      "ti = 18;\t\t\t#inside temperature in deg.C\n",
      "to = 4;\t\t\t#outside temperature in deg.C\n",
      "k1 = 0.008;\t\t\t#thermal conductivity of stone in cgs unit\n",
      "k2 = 0.12;\t\t\t#thermal conductivity of steel in cgs unit\n",
      "t = 3600;\t\t\t#time in sec\n",
      "t1 = 25;\t\t\t#thickness of the stone in cm\n",
      "t2 = 2;\t\t\t#thickness of the steel in cm\n",
      "a = 10**4;\t\t\t#area of the cottage in sq.cm\n",
      "\n",
      "# Calculations\n",
      "q1 = k1*a*(ti-to)*t/(t1);\t\t\t#heat lost by stone per hour in cal\n",
      "q2 = k2*a*(ti-to)*t/t2;\t\t\t#heat lost by steel per hour in cal\n",
      "\n",
      "# Result\n",
      "print 'heat lost by stone is %3.4e cal  \\\n",
      "\\nheat lost by steel is %.3e cal'%(q1,q2)\n"
     ],
     "language": "python",
     "metadata": {},
     "outputs": [
      {
       "output_type": "stream",
       "stream": "stdout",
       "text": [
        "heat lost by stone is 1.6128e+05 cal  \n",
        "heat lost by steel is 3.024e+07 cal\n"
       ]
      }
     ],
     "prompt_number": 10
    },
    {
     "cell_type": "heading",
     "level": 2,
     "metadata": {},
     "source": [
      "Example 11.9 pageno: 377"
     ]
    },
    {
     "cell_type": "code",
     "collapsed": false,
     "input": [
      "\n",
      "# Variables\n",
      "l1 = 4;\t\t\t#length of the slab1 in cm\n",
      "l2 = 2;\t\t\t#length of the slab2 in cm\n",
      "k1 = 0.5;\t\t\t#thermal conductivity in cgs unit\n",
      "k2 = 0.36;\t\t\t#thermal conductivity in cgs unit\n",
      "t1 = 100;\t\t\t#temperature of the slab1 in deg.C\n",
      "t2 = 0;\t\t\t#temperature of the slab2 in deg.C\n",
      "\n",
      "# Calculations\n",
      "t = k1*l2*t1/((k2*l1)+(k1*l2));\t\t\t#temperature of the commaon surface in deg.C\n",
      "\n",
      "# Result\n",
      "print 'the temperature of the common surface is %3.0f deg.C'%(t)\n"
     ],
     "language": "python",
     "metadata": {},
     "outputs": [
      {
       "output_type": "stream",
       "stream": "stdout",
       "text": [
        "the temperature of the common surface is  41 deg.C\n"
       ]
      }
     ],
     "prompt_number": 11
    },
    {
     "cell_type": "heading",
     "level": 2,
     "metadata": {},
     "source": [
      "Example 11.10 pageno : 378"
     ]
    },
    {
     "cell_type": "code",
     "collapsed": false,
     "input": [
      "# The distance\n",
      "\n",
      "# Variables\n",
      "t1 = 15.;\t\t\t#temperature of the one end of the slab in deg.C\n",
      "t2 = 45.;\t\t\t#temperature of the other end of the slab in deg.C\n",
      "k = 0.3;\t\t\t#thermal conductivity in cgs unit\n",
      "d = 7.;\t\t\t#density of the material in gm/cc\n",
      "cp = 1.;\t\t\t#specific heat of the material in kj/kg.K\n",
      "t = 5.*3600;\t\t\t#time in sec\n",
      "dt = 1./10;\t\t\t#thermometer reading in deg.C\n",
      "\n",
      "# Calculations\n",
      "b = (3.14*d*cp/(t*k))**(0.5);\n",
      "x = (math.log((t2-t1)/dt))/b;\t\t\t#distance from which temparature variation can be detected in cm\n",
      "\n",
      "# Result\n",
      "print 'the distance from which temparature variation can be detected is %3.1f cm'%(x)\n"
     ],
     "language": "python",
     "metadata": {},
     "outputs": [
      {
       "output_type": "stream",
       "stream": "stdout",
       "text": [
        "the distance from which temparature variation can be detected is 89.4 cm\n"
       ]
      }
     ],
     "prompt_number": 14
    }
   ],
   "metadata": {}
  }
 ]
}