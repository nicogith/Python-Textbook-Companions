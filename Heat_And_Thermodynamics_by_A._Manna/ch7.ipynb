{
 "metadata": {
  "name": ""
 },
 "nbformat": 3,
 "nbformat_minor": 0,
 "worksheets": [
  {
   "cells": [
    {
     "cell_type": "heading",
     "level": 1,
     "metadata": {},
     "source": [
      "Chapter 7 : The joule thomson cooling efect"
     ]
    },
    {
     "cell_type": "heading",
     "level": 2,
     "metadata": {},
     "source": [
      "Example 7.1 page no : 239"
     ]
    },
    {
     "cell_type": "code",
     "collapsed": false,
     "input": [
      "\n",
      "# Variables\n",
      "t = 33.18;\t\t\t#critical temperature in K\n",
      "pc = 12.80*76*981*13.6;\t\t\t#critical pressure in dynes/sq.cm\n",
      "r = 83.15;\t\t\t#universal gas constant in kj/kg.K\n",
      "d = 0.08987;\t\t\t#density of hydrogen in gm/lit\n",
      "v = 2000/0.08987;\t\t\t#gram molecular volune of hydrogen in cc\n",
      "\n",
      "# Calculations\n",
      "b = r*10**6*t/(8*pc);\t\t\t#vanderwaal constant in cm**3/mol\n",
      "to = 2*27*t*(1-(b/v))/8;\t\t\t#inversion temperature of the hydrogen in K\n",
      "\n",
      "# Result\n",
      "print 'the inversion temperature of hydrogen is %3.2f K'%(to)\n"
     ],
     "language": "python",
     "metadata": {},
     "outputs": [
      {
       "output_type": "stream",
       "stream": "stdout",
       "text": [
        "the inversion temperature of hydrogen is 223.70 K\n"
       ]
      }
     ],
     "prompt_number": 1
    },
    {
     "cell_type": "heading",
     "level": 2,
     "metadata": {},
     "source": [
      "Example 7.2 pageno : 240"
     ]
    },
    {
     "cell_type": "code",
     "collapsed": false,
     "input": [
      "\n",
      "# Variables\n",
      "b = 0.00136;\t\t\t#vanderwaal constant in suv/gm\n",
      "a = 0.011;\t\t\t#vanderwaal constant in atm(suv)**2/gm**2\n",
      "r = 0.003696;\t\t\t#universal gas constant in atm(suv)/gm.deg\n",
      "t = 423;\t\t\t#temperature of steam in K\n",
      "cp = -0.674/0.024205;\t\t\t#specific heat at 423K in atm(cc)gm(deg)\n",
      "\n",
      "# Calculations\n",
      "dt = (-b+(2*a/(r*t)))/cp;\t\t\t#change of temperature per atm drop of pressure in deg/atm\n",
      "\n",
      "# Result\n",
      "print 'the change of temperature per atmosphere drop of pressure is %3.7f deg/atm'%(dt)\n"
     ],
     "language": "python",
     "metadata": {},
     "outputs": [
      {
       "output_type": "stream",
       "stream": "stdout",
       "text": [
        "the change of temperature per atmosphere drop of pressure is -0.0004565 deg/atm\n"
       ]
      }
     ],
     "prompt_number": 2
    },
    {
     "cell_type": "heading",
     "level": 2,
     "metadata": {},
     "source": [
      "Example 7.3 pageno : 241"
     ]
    },
    {
     "cell_type": "code",
     "collapsed": false,
     "input": [
      "\n",
      "# Variables\n",
      "r = 8.3*10**7;\t\t\t#universal gas constant in ergs/deg.C\n",
      "a = 1.36*10**6*76*13.6*981;\t\t\t#vanderwaal constant in atm.(suv**2)/(gm**2)\n",
      "b = 32;\t\t\t#vanderwaal constant in cc\n",
      "cp = 7.03;\t\t\t#specific heat at constant pressure in cal\n",
      "j = 4.18*10**7;\t\t\t#joules constant in ergs/cal\n",
      "t = 273;\t\t\t#temperature of the gas in K\n",
      "\n",
      "# Calculations\n",
      "dt = ((2*a/(r*t))-b)*10**6/(cp*j);\t\t\t#change of temperature in atmosphere drop of pressure in deg/atm/cm**3\n",
      "\n",
      "# Result\n",
      "print 'the change of temperature in atmosphere drop of pressure is %3.2f deg C/atm/cm**2'%(dt)\n"
     ],
     "language": "python",
     "metadata": {},
     "outputs": [
      {
       "output_type": "stream",
       "stream": "stdout",
       "text": [
        "the change of temperature in atmosphere drop of pressure is 0.31 deg C/atm/cm**2\n"
       ]
      }
     ],
     "prompt_number": 2
    },
    {
     "cell_type": "heading",
     "level": 2,
     "metadata": {},
     "source": [
      "Example 7.4 pageno : 241"
     ]
    },
    {
     "cell_type": "code",
     "collapsed": false,
     "input": [
      "\n",
      "# Variables\n",
      "u = 1.08;\n",
      "cp = 8.6;\t    \t        \t#specific heat in kj/kg.K\n",
      "j = 4.2;\t\t    \t        #joules constant in j/cal\n",
      "p1 = 1*1.013*10**6;\t\t\t    #pressure at intial in N/sq.m\n",
      "p2 = 20*1.013*10**6;\t\t\t#pressure at final in N/sq.m\n",
      "\n",
      "# Calculations\n",
      "dh = -u*cp*j*(p1-p2);\t\t\t#change in enthalpy in joules\n",
      "\n",
      "# Result\n",
      "print 'the change in enthalpy is %3.3e joules'%(dh)\n"
     ],
     "language": "python",
     "metadata": {},
     "outputs": [
      {
       "output_type": "stream",
       "stream": "stdout",
       "text": [
        "the change in enthalpy is 7.508e+08 joules\n"
       ]
      }
     ],
     "prompt_number": 6
    },
    {
     "cell_type": "heading",
     "level": 2,
     "metadata": {},
     "source": [
      "Example 7.5 pageno : 241"
     ]
    },
    {
     "cell_type": "code",
     "collapsed": false,
     "input": [
      "\n",
      "# Variables\n",
      "tc = 5.26;\t\t\t#critical temperature of the helium in K\n",
      "\n",
      "# Calculations\n",
      "ti = 27*tc/4;\t\t\t#inversion temperature of the helium in K\n",
      "\n",
      "# Result\n",
      "print 'the inversion temperature of the helium is %3.2f K'%(ti)\n"
     ],
     "language": "python",
     "metadata": {},
     "outputs": [
      {
       "output_type": "stream",
       "stream": "stdout",
       "text": [
        "the inversion temperature of the helium is 35.50 K\n"
       ]
      }
     ],
     "prompt_number": 7
    },
    {
     "cell_type": "heading",
     "level": 2,
     "metadata": {},
     "source": [
      "Example 7.6 pageno : 241"
     ]
    },
    {
     "cell_type": "code",
     "collapsed": false,
     "input": [
      "\n",
      "# Variables\n",
      "a = 0.245*10**6*10**6;\t\t\t#vanderwaal constant in cm**4.dyne/mole**2\n",
      "b = 2.67*10;\t\t\t#vanderwaal constant in cc/mole\n",
      "r = 2*4.2*10**7;\t\t\t#universal gas constant in ergs/mole.K\n",
      "\n",
      "# Calculations\n",
      "ti = 2*a/(b*r);\t\t\t#inversion temperature in K\n",
      "\n",
      "# Result\n",
      "print 'inversion temperature of hydrogen is %.f K'%(round(ti,-1))\n"
     ],
     "language": "python",
     "metadata": {},
     "outputs": [
      {
       "output_type": "stream",
       "stream": "stdout",
       "text": [
        "inversion temperature of hydrogen is 220 K\n"
       ]
      }
     ],
     "prompt_number": 9
    },
    {
     "cell_type": "heading",
     "level": 2,
     "metadata": {},
     "source": [
      "Example 7.7 pageno : 242"
     ]
    },
    {
     "cell_type": "code",
     "collapsed": false,
     "input": [
      "\n",
      "# Variables\n",
      "dp = 50*10**6;\t\t\t#change in pressure in dynes/sq.cm\n",
      "cp = 7*4.2*10**7;\t\t\t#specific heat constant pressure in ergs/mole.K\n",
      "a = 1.32*10**12;\t\t\t#vanderwaal constant in cm**4.dyne/mole**2\n",
      "b = 31.2;\t\t\t#vanderwaal constant in cm**2/mole\n",
      "t = 300;\t\t\t#inital temperature in K\n",
      "r = 2*4.2*10**7;\t\t\t#ergs/mole.K\n",
      "\n",
      "# Calculations\n",
      "dt = ((2*a/(r*t))-b)*dp/cp;\t\t\t#change in temperature in K\n",
      "\n",
      "# Result\n",
      "print 'the change in temperature is %3.1f K'%(dt)\n"
     ],
     "language": "python",
     "metadata": {},
     "outputs": [
      {
       "output_type": "stream",
       "stream": "stdout",
       "text": [
        "the change in temperature is 12.5 K\n"
       ]
      }
     ],
     "prompt_number": 11
    },
    {
     "cell_type": "heading",
     "level": 2,
     "metadata": {},
     "source": [
      "Example 7.8 pageno : 242"
     ]
    },
    {
     "cell_type": "code",
     "collapsed": false,
     "input": [
      "\n",
      "\n",
      "# Variables\n",
      "p1 = 1.;\t\t\t    #inital pressure in atm\n",
      "p2 = 51.;   \t\t\t#final pressure in atm\n",
      "t1 = 300.;\t    \t\t#inital temperature in K\n",
      "y = 1.4;\t\t    \t#coefficient of expansion\n",
      "\n",
      "# Calculations\n",
      "t2 = t1*(p2/p1)**((1-y)/y);\t\t\t#final temperature in K\n",
      "dt = t1-t2;\t                \t\t#drop in temperature in K\n",
      "\n",
      "# Results\n",
      "print 'the drop in temperature is %3.2f K'%(dt)\n",
      "print \"Note : answer is slightly different because of rounding error\""
     ],
     "language": "python",
     "metadata": {},
     "outputs": [
      {
       "output_type": "stream",
       "stream": "stdout",
       "text": [
        "the drop in temperature is 202.45 K\n",
        "Note : answer is slightly different because of rounding error\n"
       ]
      }
     ],
     "prompt_number": 16
    }
   ],
   "metadata": {}
  }
 ]
}