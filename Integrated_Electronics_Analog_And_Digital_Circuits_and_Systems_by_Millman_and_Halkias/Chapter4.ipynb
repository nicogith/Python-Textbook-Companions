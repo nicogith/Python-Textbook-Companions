{
 "metadata": {
  "name": ""
 },
 "nbformat": 3,
 "nbformat_minor": 0,
 "worksheets": [
  {
   "cells": [
    {
     "cell_type": "heading",
     "level": 1,
     "metadata": {},
     "source": [
      "Chapter 04 : Diode Circuits"
     ]
    },
    {
     "cell_type": "heading",
     "level": 2,
     "metadata": {},
     "source": [
      "Example 4.3, Page No 91"
     ]
    },
    {
     "cell_type": "code",
     "collapsed": false,
     "input": [
      "import math\n",
      "#initialisation of variables\n",
      "Vr=0.6    #v\n",
      "\n",
      "#Calculations\n",
      "i=(1-Vr)/2.01\n",
      "\n",
      "\n",
      "#Results\n",
      "print(\"The current i is= %.2f mA \" %(i))"
     ],
     "language": "python",
     "metadata": {},
     "outputs": [
      {
       "output_type": "stream",
       "stream": "stdout",
       "text": [
        "The current i is= 0.20 mA \n"
       ]
      }
     ],
     "prompt_number": 1
    },
    {
     "cell_type": "heading",
     "level": 2,
     "metadata": {},
     "source": [
      "Example 4.4, Page No 92"
     ]
    },
    {
     "cell_type": "code",
     "collapsed": false,
     "input": [
      "import math\n",
      "#initialisation of variables\n",
      "Vr=0.7    #v\n",
      "\n",
      "#Calculations\n",
      "i2=((1-Vr)/300.0*10**3)\n",
      "i1=3-i2\n",
      "\n",
      "#Results\n",
      "print(\"The current i is= %.2f mA \" %(i1))"
     ],
     "language": "python",
     "metadata": {},
     "outputs": [
      {
       "output_type": "stream",
       "stream": "stdout",
       "text": [
        "The current i is= 2.00 mA \n"
       ]
      }
     ],
     "prompt_number": 2
    },
    {
     "cell_type": "heading",
     "level": 2,
     "metadata": {},
     "source": [
      "Example 4.5, Page No 95"
     ]
    },
    {
     "cell_type": "code",
     "collapsed": false,
     "input": [
      "import math\n",
      "#initialisation of variables\n",
      "Rl=9.0     # kohm\n",
      "R=1.0      # kohm\n",
      "Vr=1.0     #v\n",
      "\n",
      "#Calculations\n",
      "v0=(Rl/(R+Rl))*Vr\n",
      "\n",
      "#Results\n",
      "print(\"The output voltage is= %.2f V \" %(v0))"
     ],
     "language": "python",
     "metadata": {},
     "outputs": [
      {
       "output_type": "stream",
       "stream": "stdout",
       "text": [
        "The output voltage is= 0.90 V \n"
       ]
      }
     ],
     "prompt_number": 3
    },
    {
     "cell_type": "heading",
     "level": 2,
     "metadata": {},
     "source": [
      "Example 4.7, Page No 101"
     ]
    },
    {
     "cell_type": "code",
     "collapsed": false,
     "input": [
      "import math\n",
      "#initialisation of variables\n",
      "Vs=1.0    #v\n",
      "Rc=100.0   #ohm\n",
      "RL=1000  #ohm\n",
      "\n",
      "#Calculations\n",
      "Vcmin=Vs*(2+(Rc/RL))\n",
      "\n",
      "#Results\n",
      "print(\"The concentration of germanium atom is= %.2f X 10^22 atom/cm^3 \" %(Vcmin))"
     ],
     "language": "python",
     "metadata": {},
     "outputs": [
      {
       "output_type": "stream",
       "stream": "stdout",
       "text": [
        "The concentration of germanium atom is= 2.10 X 10^22 atom/cm^3 \n"
       ]
      }
     ],
     "prompt_number": 4
    },
    {
     "cell_type": "heading",
     "level": 2,
     "metadata": {},
     "source": [
      "Example 4.8, Page No 105"
     ]
    },
    {
     "cell_type": "code",
     "collapsed": false,
     "input": [
      "import math\n",
      "\n",
      "#initialisation of variables\n",
      "Vrms=220.0   #v\n",
      "Rf=10.0\n",
      "Rl=500.0\n",
      "\n",
      "\n",
      "#Calculations\n",
      "Im=(math.sqrt(2.0)*Vrms)/(Rf+Rl)\n",
      "Idc=Im/math.pi\n",
      "Irms=Im/2\n",
      "Vdc=(-Im*Rl)/math.pi\n",
      "pd=Vrms*Irms\n",
      "reg=Rf/Rl*100\n",
      "\n",
      "\n",
      "#Required Formula\n",
      "print(\"Peak load current is =  %.2f A \" %Im)\n",
      "print(\"DC load current is =  %.2f A \" %Idc)\n",
      "print(\"RMS load current is =  %.2f A \" %Irms)\n",
      "print(\"The dc diode voltage is =  %.2f V \" %Vdc)\n",
      "print(\"The total input power to the curcuit is =  %.2f A \" %pd)\n",
      "print(\"percentage regulation will go from 0 percent to %.f percent \" %reg)\n"
     ],
     "language": "python",
     "metadata": {},
     "outputs": [
      {
       "output_type": "stream",
       "stream": "stdout",
       "text": [
        "Peak load current is =  0.61 A \n",
        "DC load current is =  0.19 A \n",
        "RMS load current is =  0.31 A \n",
        "The dc diode voltage is =  -97.09 V \n",
        "The total input power to the curcuit is =  67.11 A \n",
        "percentage regulation will go from 0 percent to 2 percent \n"
       ]
      }
     ],
     "prompt_number": 5
    },
    {
     "cell_type": "heading",
     "level": 2,
     "metadata": {},
     "source": [
      "Example 4.9 Page No 107"
     ]
    },
    {
     "cell_type": "code",
     "collapsed": false,
     "input": [
      "import math\n",
      "\n",
      "#initialisation of variables\n",
      "RL=100.0   #ohm\n",
      "Rf=10.0    #ohm\n",
      "Vm=5.0     #v\n",
      "Vr=0.6     #v\n",
      "\n",
      "#Calculations\n",
      "Vdc=2*(((Vm/math.pi)*(RL/(RL+Rf)))-Vr)\n",
      "\n",
      "#Results\n",
      "print(\"The dc output voltage is = %.2f v \" %Vdc)"
     ],
     "language": "python",
     "metadata": {},
     "outputs": [
      {
       "output_type": "stream",
       "stream": "stdout",
       "text": [
        "The dc output voltage is = 1.69 v \n"
       ]
      }
     ],
     "prompt_number": 6
    }
   ],
   "metadata": {}
  }
 ]
}