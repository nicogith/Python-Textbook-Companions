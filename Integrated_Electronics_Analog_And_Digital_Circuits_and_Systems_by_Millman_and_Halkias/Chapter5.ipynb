{
 "metadata": {
  "name": ""
 },
 "nbformat": 3,
 "nbformat_minor": 0,
 "worksheets": [
  {
   "cells": [
    {
     "cell_type": "heading",
     "level": 1,
     "metadata": {},
     "source": [
      "Chapter 05 : Transistor Characteristic"
     ]
    },
    {
     "cell_type": "heading",
     "level": 2,
     "metadata": {},
     "source": [
      "Example 5.1a, Page No 133"
     ]
    },
    {
     "cell_type": "code",
     "collapsed": false,
     "input": [
      "import math\n",
      "#initialisation of variables\n",
      "B=100.0  #Beta\n",
      "Ico=20.0  #in nA \n",
      "Rc=3.0\n",
      "Rb=200.0\n",
      "Vbb=5.0   #in V\n",
      "Vcc=10      #in V\n",
      "Vbe=0.7      #in Active region\n",
      "\n",
      "#Applying KVL to base circuit\n",
      "\n",
      "#Vbb+Rb*Ib+Vbe=0\n",
      "\n",
      "#Calculations\n",
      "Ib=(Vbb-Vbe)/Rb      #in mA\n",
      "#Ico<<Ib\n",
      "Ic=B*Ib  #in mA\n",
      "#To verify the Active region Assumption\n",
      "#Vcc+Rc*Ic+Vcb+Vbe=0\n",
      "\n",
      "Vcb=(-Rc*Ic)+Vcc-Vbe       #in V\n",
      "\n",
      "#Results\n",
      "print(\"Vcb =  %.2f V \" %Vcb)\n",
      "if Vcb>0 :\n",
      "  print('Positive value of Vcb represents reversed biased collector junction and Transistor in active region')\n",
      "\n",
      "\n",
      "print(\"Current in transistor(Ic) is %.2f mA \" %Ic)\n",
      "print(\"Current in transistor(Ib) is %.2f mA \" %Ib)\n"
     ],
     "language": "python",
     "metadata": {},
     "outputs": [
      {
       "output_type": "stream",
       "stream": "stdout",
       "text": [
        "Vcb =  2.85 V \n",
        "Positive value of Vcb represents reversed biased collector junction and Transistor in active region\n",
        "Current in transistor(Ic) is 2.15 mA \n",
        "Current in transistor(Ib) is 0.02 mA \n"
       ]
      }
     ],
     "prompt_number": 1
    },
    {
     "cell_type": "heading",
     "level": 2,
     "metadata": {},
     "source": [
      "Example 5.1b, Page No 133"
     ]
    },
    {
     "cell_type": "code",
     "collapsed": false,
     "input": [
      "import math\n",
      "\n",
      "#initialisation of variables\n",
      "B=100.0 #Beta\n",
      "Ico=20.0    #in nA \n",
      "Rc=3.0\n",
      "Ico=20    #in nA\n",
      "Rb=200.0\n",
      "Re=2.0\n",
      "Vbb=5.0      #in V\n",
      "Vcc=10.0    #in V\n",
      "Vbe=0.7   #in Active region\n",
      "\n",
      "#Ico<<Ib  Assuming\n",
      "#Itot=Ib+Ic=Ib+B*Ib=(B+1)*Ib\n",
      "#Applying KVL to base circuit\n",
      "#Vbb+Rb*Ib+Vbe+Re*Itot=0\n",
      "\n",
      "#Calculations\n",
      "Ib=(Vbb-Vbe)/(Rb+(Re*(B+1)))     #in mA\n",
      "\n",
      "Ic=B*Ib     #in mA\n",
      "\n",
      "#Hence Ico<<Ib\n",
      "#To verify the Active region Assumption\n",
      "#Vcc+Rc*Ic+Vcb+Vbe=0\n",
      "\n",
      "Vcb=(-Rc*Ic)+Vcc-Vbe-(Re*(B+1)*Ib)   #in V\n",
      "\n",
      "print(\"Vcb =  %.2f V \" %Vcb)\n",
      "\n",
      "if Vcb>0 :\n",
      "  print('Positive value of Vcb represents reversed biased collector junction and Transistor in active region')\n",
      "\n",
      "#Results\n",
      "print(\"Current in transistor(Ic) is %.2f mA \" %Ic)\n",
      "print(\"Current in transistor(Ib) is %.2f mA \" %Ib)\n"
     ],
     "language": "python",
     "metadata": {},
     "outputs": [
      {
       "output_type": "stream",
       "stream": "stdout",
       "text": [
        "Vcb =  3.93 V \n",
        "Positive value of Vcb represents reversed biased collector junction and Transistor in active region\n",
        "Current in transistor(Ic) is 1.07 mA \n",
        "Current in transistor(Ib) is 0.01 mA \n"
       ]
      }
     ],
     "prompt_number": 2
    },
    {
     "cell_type": "heading",
     "level": 2,
     "metadata": {},
     "source": [
      "Example 5.2 Page No 134"
     ]
    },
    {
     "cell_type": "code",
     "collapsed": false,
     "input": [
      "import math\n",
      "\n",
      "#initialisation of variables\n",
      "Rc=3.0\n",
      "Rb=50.0 \n",
      "Vbb=5.0       #in V\n",
      "Vcc=10.0 #in V\n",
      "Vce=0.2    #in V\n",
      "Vbe=0.8      #in Active region\n",
      "hFE=100.0 \n",
      "\n",
      "#Assuming transistor in saturated region\n",
      "#Applying KVL to base circuit\n",
      "#Vbb+Rb*Ib+Vbe=0\n",
      "\n",
      "#Calculations\n",
      "Ib=(Vbb-Vbe)/Rb    #in mA\n",
      "\n",
      "#Applying KVL to Collector circuit\n",
      "#Vcc+Rc*Ic+Vce=0\n",
      "\n",
      "Ic=(Vcc-Vce)/Rc     #in mA\n",
      "\n",
      "Ib_min=Ic/hFE\n",
      "\n",
      "print(\"Minimum Ib = %.2f mA \" %Ib_min)\n",
      "\n",
      "if Ib>Ib_min :\n",
      "  print('Transistor in saturated Region')\n",
      "\n",
      "#Results\n",
      "print(\"Current in transistor(Ic) is %.2f mA \" %Ic)\n",
      "print(\"Current in transistor(Ib) is %.2f mA \" %Ib)\n"
     ],
     "language": "python",
     "metadata": {},
     "outputs": [
      {
       "output_type": "stream",
       "stream": "stdout",
       "text": [
        "Minimum Ib = 0.03 mA \n",
        "Transistor in saturated Region\n",
        "Current in transistor(Ic) is 3.27 mA \n",
        "Current in transistor(Ib) is 0.08 mA \n"
       ]
      }
     ],
     "prompt_number": 3
    },
    {
     "cell_type": "heading",
     "level": 2,
     "metadata": {},
     "source": [
      "Example 5.3, Page No 134"
     ]
    },
    {
     "cell_type": "code",
     "collapsed": false,
     "input": [
      "import math\n",
      "#initialisation of variables\n",
      "Ib=0.01     #mA\n",
      "Ic=100.0*Ib\n",
      "\n",
      "\n",
      "#Calculations\n",
      "Vcb=5-Ic-0.7-(101*Ib)\n",
      "\n",
      "\n",
      "#Results\n",
      "print(\"The value of Vcb is= %.2f V \" %(Vcb))\n",
      "print(\"Since Vcb is positive, the transistor is in the active region \")"
     ],
     "language": "python",
     "metadata": {},
     "outputs": [
      {
       "output_type": "stream",
       "stream": "stdout",
       "text": [
        "The value of Vcb is= 2.29 V \n",
        "Since Vcb is positive, the transistor is in the active region \n"
       ]
      }
     ],
     "prompt_number": 4
    },
    {
     "cell_type": "heading",
     "level": 2,
     "metadata": {},
     "source": [
      "Example 5.4, Page No 135"
     ]
    },
    {
     "cell_type": "code",
     "collapsed": false,
     "input": [
      "import math\n",
      "#initialisation of variables\n",
      "Ve= 4.0     #V\n",
      "Ie=2        #mA\n",
      "Vc=12-(2*2)\n",
      "beta=19.0\n",
      "\n",
      "#Calculations\n",
      "Rb=2*(1.0+beta)\n",
      "\n",
      "#Results\n",
      "print(\"The value of Vcb is= %.2f V \" %(Rb))"
     ],
     "language": "python",
     "metadata": {},
     "outputs": [
      {
       "output_type": "stream",
       "stream": "stdout",
       "text": [
        "The value of Vcb is= 40.00 V \n"
       ]
      }
     ],
     "prompt_number": 5
    },
    {
     "cell_type": "heading",
     "level": 2,
     "metadata": {},
     "source": [
      "Example 5.5, Page No 135"
     ]
    },
    {
     "cell_type": "code",
     "collapsed": false,
     "input": [
      "import math\n",
      "#initialisation of variables\n",
      "Ve= 4.0     #V\n",
      "Ie=2        #mA\n",
      "Vc=12-(2*2)\n",
      "beta=100.0\n",
      "\n",
      "#Calculations\n",
      "Ib=(2.7-0.7)/beta\n",
      "Ic=beta*Ib\n",
      "Vc=(10.0-Ic)/2\n",
      "\n",
      "#Results\n",
      "print(\"The value of Vcb is= %.2f V \" %(Vc))"
     ],
     "language": "python",
     "metadata": {},
     "outputs": [
      {
       "output_type": "stream",
       "stream": "stdout",
       "text": [
        "The value of Vcb is= 4.00 V \n"
       ]
      }
     ],
     "prompt_number": 6
    },
    {
     "cell_type": "heading",
     "level": 2,
     "metadata": {},
     "source": [
      "Example 5.6, Page No 135"
     ]
    },
    {
     "cell_type": "code",
     "collapsed": false,
     "input": [
      "import math\n",
      "#initialisation of variables\n",
      "Ie1=1.0     #mA\n",
      "Vc1=10.7*Ie1-10\n",
      "Vbe2=0.7\n",
      "\n",
      "#Calculations\n",
      "Ie2=(10+Vc1-Vbe2)/10.0\n",
      "Vc2=10-Ie1\n",
      "Vcb2=Vc2-Vbe2\n",
      "\n",
      "#Results\n",
      "print(\"The value of Vcb is= %.2f V \" %(Vcb2))"
     ],
     "language": "python",
     "metadata": {},
     "outputs": [
      {
       "output_type": "stream",
       "stream": "stdout",
       "text": [
        "The value of Vcb is= 8.30 V \n"
       ]
      }
     ],
     "prompt_number": 7
    },
    {
     "cell_type": "heading",
     "level": 2,
     "metadata": {},
     "source": [
      "Example 5.7a, Page No 142"
     ]
    },
    {
     "cell_type": "code",
     "collapsed": false,
     "input": [
      "import math\n",
      "#initialisation of variables\n",
      "hfe=100\n",
      "Ib=4.2/50     #mA\n",
      "Ic=9.8/3\n",
      "Ib=Ic/hfe\n",
      "\n",
      "#Results\n",
      "print(\"The value of Ib is= %.3f V \" %(Ib))"
     ],
     "language": "python",
     "metadata": {},
     "outputs": [
      {
       "output_type": "stream",
       "stream": "stdout",
       "text": [
        "The value of Ib is= 0.033 V \n"
       ]
      }
     ],
     "prompt_number": 8
    },
    {
     "cell_type": "heading",
     "level": 2,
     "metadata": {},
     "source": [
      "Example 5.9a, Page No 144"
     ]
    },
    {
     "cell_type": "code",
     "collapsed": false,
     "input": [
      "import math\n",
      "#initialisation of variables\n",
      "Ie1=1.0     #mA\n",
      "Ic1=0.99    #mA\n",
      "Vcb1=12-(5*Ic1)-5\n",
      "Ve=5-0.7\n",
      "Vbe2=2.5-Ve\n",
      "\n",
      "#Results\n",
      "print(\"The value of Vbe2 is= %.2f V \" %(Vbe2))"
     ],
     "language": "python",
     "metadata": {},
     "outputs": [
      {
       "output_type": "stream",
       "stream": "stdout",
       "text": [
        "The value of Vbe2 is= -1.80 V \n"
       ]
      }
     ],
     "prompt_number": 9
    },
    {
     "cell_type": "heading",
     "level": 2,
     "metadata": {},
     "source": [
      "Example 5.9b, Page No 144"
     ]
    },
    {
     "cell_type": "code",
     "collapsed": false,
     "input": [
      "import math\n",
      "#initialisation of variables\n",
      "Ie2=1.0        #mA\n",
      "Ic2=0.99     #mA\n",
      "Vcb2=12-(5*Ic2)-2.5\n",
      "\n",
      "#Calculations\n",
      "Ve2=2.5-0.7\n",
      "Vbe1=0-Ve\n",
      "V0=12-(5*Ic2)\n",
      "\n",
      "#Results\n",
      "print(\"The value of V0 is= %.2f V \" %(V0))"
     ],
     "language": "python",
     "metadata": {},
     "outputs": [
      {
       "output_type": "stream",
       "stream": "stdout",
       "text": [
        "The value of V0 is= 7.05 V \n"
       ]
      }
     ],
     "prompt_number": 10
    }
   ],
   "metadata": {}
  }
 ]
}