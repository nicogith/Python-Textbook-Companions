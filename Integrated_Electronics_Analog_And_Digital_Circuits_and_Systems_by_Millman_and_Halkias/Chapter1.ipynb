{
 "metadata": {
  "name": ""
 },
 "nbformat": 3,
 "nbformat_minor": 0,
 "worksheets": [
  {
   "cells": [
    {
     "cell_type": "heading",
     "level": 1,
     "metadata": {},
     "source": [
      "Chapter 01 : Energy Band in Solid"
     ]
    },
    {
     "cell_type": "heading",
     "level": 2,
     "metadata": {},
     "source": [
      "Example 1.2, Page No 55"
     ]
    },
    {
     "cell_type": "code",
     "collapsed": false,
     "input": [
      "import math\n",
      "#initialisation of variables\n",
      "\n",
      "d=0.001     #distance between parallel plate in m\n",
      "V=1000.0   #applied voltage\n",
      "q=1.6*(10**-19)     #charge on an electron\n",
      "m = 9.1*(10**-31)     #mass of electron in kg\n",
      "#Time taken by electron to reach other side of parallel plate capacitor\n",
      "E=V/d       #Electric Field in V/m\n",
      "#Formulae : s = u*t + (a*t^2)/2\n",
      "\n",
      "#Calculations\n",
      "a = (q*E)/m     #acceleration on electron in m/s^2\n",
      "t = (2*d/a)**0.5         #time taken to reach the other side of plate\n",
      "print(\"Time taken to reach other side =  %.2f sec \" %t)\n",
      "\n",
      "#Magnitude of force exerted on electron\n",
      "print('Since the potential is constant the force will be constant between the paltes of capacitor')\n",
      "F=q*E        #force\n",
      "print(\"Force on electron =   %.2f N \" %F)\n",
      "#Velocity of electron at the other plate\n",
      "#Formulae: v = u + a*t\n",
      "v = a*t           #velocity at the end of other plate\n",
      "\n",
      "#Results\n",
      "print(\"V =   %.2f m/sec \" %V)\n"
     ],
     "language": "python",
     "metadata": {},
     "outputs": [
      {
       "output_type": "stream",
       "stream": "stdout",
       "text": [
        "Time taken to reach other side =  0.00 sec \n",
        "Since the potential is constant the force will be constant between the paltes of capacitor\n",
        "Force on electron =   0.00 N \n",
        "V =   1000.00 m/sec \n"
       ]
      }
     ],
     "prompt_number": 1
    }
   ],
   "metadata": {}
  }
 ]
}