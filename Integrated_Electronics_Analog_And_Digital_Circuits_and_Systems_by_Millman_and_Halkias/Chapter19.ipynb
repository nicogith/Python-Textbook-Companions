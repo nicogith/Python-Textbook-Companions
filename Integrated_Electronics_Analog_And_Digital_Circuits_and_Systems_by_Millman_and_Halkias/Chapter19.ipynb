{
 "metadata": {
  "name": ""
 },
 "nbformat": 3,
 "nbformat_minor": 0,
 "worksheets": [
  {
   "cells": [
    {
     "cell_type": "heading",
     "level": 1,
     "metadata": {},
     "source": [
      "Chapter 19 : Semiconductor-Device Physics"
     ]
    },
    {
     "cell_type": "heading",
     "level": 2,
     "metadata": {},
     "source": [
      "Example 19.1, Page No 808"
     ]
    },
    {
     "cell_type": "code",
     "collapsed": false,
     "input": [
      "import math\n",
      "#initialisation of variables\n",
      "sg=0.971*10**3     #g/cm^3 specific gravity\n",
      "w=22.99*1.66*10**-27   # Weight of a sodium atom\n",
      "\n",
      "#Calculations\n",
      "n=sg/w\n",
      "Ef=3.64*10**-19*(n**(2.0/3))\n",
      "\n",
      "#Results\n",
      "print(\"The value of n is %.2f  /m^3 x 10^28 \" %(n/10**28))\n",
      "print(\"The value of Ef is %.2f  eV\" %(Ef))"
     ],
     "language": "python",
     "metadata": {},
     "outputs": [
      {
       "output_type": "stream",
       "stream": "stdout",
       "text": [
        "The value of n is 2.54  /m^3 x 10^28 \n",
        "The value of Ef is 3.15  eV\n"
       ]
      }
     ],
     "prompt_number": 1
    },
    {
     "cell_type": "heading",
     "level": 2,
     "metadata": {},
     "source": [
      "Example 19.2, Page No 810"
     ]
    },
    {
     "cell_type": "code",
     "collapsed": false,
     "input": [
      "import math\n",
      "#initialisation of variables\n",
      "E=0.05     #eV\n",
      "\n",
      "#Calculations\n",
      "NE=6.82*10**27*(E**(1.0/2))\n",
      "\n",
      "#Results\n",
      "print(\"The value of NE is %.2f  X 10^27 /m^3 \" %(NE/10**27))"
     ],
     "language": "python",
     "metadata": {},
     "outputs": [
      {
       "output_type": "stream",
       "stream": "stdout",
       "text": [
        "The value of NE is 1.52  X 10^27 /m^3 \n"
       ]
      }
     ],
     "prompt_number": 2
    },
    {
     "cell_type": "heading",
     "level": 2,
     "metadata": {},
     "source": [
      "Example 19.3, Page No 812"
     ]
    },
    {
     "cell_type": "code",
     "collapsed": false,
     "input": [
      "import math\n",
      "#initialisation of variables\n",
      "KE=0.26*1.6*10**-19    #j kinetic energy\n",
      "m=9.18*10**-31\n",
      "\n",
      "#Calculations\n",
      "Vav=math.sqrt((2.0*KE)/m)\n",
      "\n",
      "#Results\n",
      "print(\"The value of Vav is %.2f  x 10^5\" %(Vav/10**5))"
     ],
     "language": "python",
     "metadata": {},
     "outputs": [
      {
       "output_type": "stream",
       "stream": "stdout",
       "text": [
        "The value of Vav is 3.01  x 10^5\n"
       ]
      }
     ],
     "prompt_number": 3
    },
    {
     "cell_type": "heading",
     "level": 2,
     "metadata": {},
     "source": [
      "Example 19.4, Page No 815"
     ]
    },
    {
     "cell_type": "code",
     "collapsed": false,
     "input": [
      "import math\n",
      "#initialisation of variables\n",
      "ni1=1.5*10**10   #cm^3\n",
      "T2=873.0     #k\n",
      "T1=300.0     #k\n",
      "Eg0=1.0\n",
      "\n",
      "\n",
      "\n",
      "#Calculations\n",
      "ni2=math.sqrt((ni1**2)*(T2/T1)*math.exp((1.21/8.625*10**-5)*(-(1/T2)+(1/T1))))\n",
      "\n",
      "#Results\n",
      "print(\"The value of ni2 is %.2f x 10^17 cm^3\" %(ni2/10**10))"
     ],
     "language": "python",
     "metadata": {},
     "outputs": [
      {
       "output_type": "stream",
       "stream": "stdout",
       "text": [
        "The value of ni2 is 2.56 x 10^17 cm^3\n"
       ]
      }
     ],
     "prompt_number": 4
    },
    {
     "cell_type": "heading",
     "level": 2,
     "metadata": {},
     "source": [
      "Example 19.5, Page No 817"
     ]
    },
    {
     "cell_type": "code",
     "collapsed": false,
     "input": [
      "import math\n",
      "#initialisation of variables\n",
      "kT=0.026\n",
      "Nc=2.89*10**19\n",
      "Nd=10**16\n",
      "\n",
      "#Calculations\n",
      "Ef=kT*(math.log((Nc/Nd),2))\n",
      "\n",
      "#Results\n",
      "print(\"The value of Ef is %.2f eV\" %(Ef))"
     ],
     "language": "python",
     "metadata": {},
     "outputs": [
      {
       "output_type": "stream",
       "stream": "stdout",
       "text": [
        "The value of Ef is 0.30 eV\n"
       ]
      }
     ],
     "prompt_number": 5
    },
    {
     "cell_type": "heading",
     "level": 2,
     "metadata": {},
     "source": [
      "Example 19.6, Page No 830"
     ]
    },
    {
     "cell_type": "code",
     "collapsed": false,
     "input": [
      "import math\n",
      "\n",
      "#initialisation of variables\n",
      "I1=1.0    #mA\n",
      "Vt=26.0     #mV\n",
      "tP=10**-6\n",
      "\n",
      "#Calculations\n",
      "g=(I1/Vt)\n",
      "Cd=(g*tP)/2\n",
      "\n",
      "#Results\n",
      "\n",
      "print(\"The value of Cd is %.2f nF\" %(Cd*10**9))\n"
     ],
     "language": "python",
     "metadata": {},
     "outputs": [
      {
       "output_type": "stream",
       "stream": "stdout",
       "text": [
        "The value of Cd is 19.23 nF\n"
       ]
      }
     ],
     "prompt_number": 6
    }
   ],
   "metadata": {}
  }
 ]
}