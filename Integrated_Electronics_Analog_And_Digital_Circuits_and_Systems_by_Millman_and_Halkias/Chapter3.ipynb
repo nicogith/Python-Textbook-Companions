{
 "metadata": {
  "name": ""
 },
 "nbformat": 3,
 "nbformat_minor": 0,
 "worksheets": [
  {
   "cells": [
    {
     "cell_type": "heading",
     "level": 1,
     "metadata": {},
     "source": [
      "Chapter 03 : Junction diode characteristics"
     ]
    },
    {
     "cell_type": "heading",
     "level": 2,
     "metadata": {},
     "source": [
      "Example 3.1, Page No 62"
     ]
    },
    {
     "cell_type": "code",
     "collapsed": false,
     "input": [
      "import math\n",
      "#initialisation of variables\n",
      "Na=10.0**19     #Cm^3\n",
      "q=1.6*10**-19\n",
      "Vj=0.94     #V\n",
      "Nd=10.0**17\n",
      "e=11.9*8.85*10**-14\n",
      "A=9.6*10**-8\n",
      "\n",
      "#Calculations\n",
      "W=math.sqrt(((2*e)/(q*Nd))*Vj)\n",
      "Ct=e*A/(W*10**-4)\n",
      "\n",
      "#Results\n",
      "print(\"The transition capacitance is= %.2f fF \" %(Ct*10**11))"
     ],
     "language": "python",
     "metadata": {},
     "outputs": [
      {
       "output_type": "stream",
       "stream": "stdout",
       "text": [
        "The transition capacitance is= 9.09 fF \n"
       ]
      }
     ],
     "prompt_number": 1
    },
    {
     "cell_type": "heading",
     "level": 2,
     "metadata": {},
     "source": [
      "Example 3.3, Page No 67"
     ]
    },
    {
     "cell_type": "code",
     "collapsed": false,
     "input": [
      "import math\n",
      "#initialisation of variables\n",
      "t=10         #ns lifetime of holes\n",
      "I=0.1        #mA forward current\n",
      "n=1\n",
      "vt=0.026     #V\n",
      "\n",
      "#Calculations\n",
      "Cd=(t*I)/(n*vt)\n",
      "\n",
      "#Results\n",
      "print(\"The defusion capicitance is= %.2f pF \" %Cd)"
     ],
     "language": "python",
     "metadata": {},
     "outputs": [
      {
       "output_type": "stream",
       "stream": "stdout",
       "text": [
        "The defusion capicitance is= 38.46 pF \n"
       ]
      }
     ],
     "prompt_number": 2
    },
    {
     "cell_type": "heading",
     "level": 2,
     "metadata": {},
     "source": [
      "Example 3.4, Page No 70"
     ]
    },
    {
     "cell_type": "code",
     "collapsed": false,
     "input": [
      "import math\n",
      "#initialisation of variables\n",
      "V=10.0\n",
      "Vb=6.0      # breakdown voltage\n",
      "\n",
      "vz1=0.1/(0.1+1)*10    #v\n",
      "vz2=9.0/(9+1)*10    #v\n",
      "\n",
      "#Calculations\n",
      "Ir=(V-Vb)/vz1\n",
      "Il=Vb/vz2\n",
      "Iz=Ir-Il\n",
      "\n",
      "\n",
      "#Results\n",
      "print(\"The value of Iz is= %.2f mA \" %(Iz))"
     ],
     "language": "python",
     "metadata": {},
     "outputs": [
      {
       "output_type": "stream",
       "stream": "stdout",
       "text": [
        "The value of Iz is= 3.73 mA \n"
       ]
      }
     ],
     "prompt_number": 3
    }
   ],
   "metadata": {}
  }
 ]
}