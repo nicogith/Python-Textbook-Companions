{
 "metadata": {
  "name": ""
 },
 "nbformat": 3,
 "nbformat_minor": 0,
 "worksheets": [
  {
   "cells": [
    {
     "cell_type": "heading",
     "level": 1,
     "metadata": {},
     "source": [
      "Chapter 12 : MultiStage Amplifiers"
     ]
    },
    {
     "cell_type": "heading",
     "level": 2,
     "metadata": {},
     "source": [
      "Example 12.1a, Page No 433"
     ]
    },
    {
     "cell_type": "code",
     "collapsed": false,
     "input": [
      "import math\n",
      "#initialisation of variables\n",
      "Ry=1       #in K\n",
      "Rg=1       #in M\n",
      "Ri=1       #in K\n",
      "hOE=1.0/40        #in K^-1\n",
      "\n",
      "#fL=1/(2*%pi*(ro+ri)*Cb)<=10\n",
      "#Since ri=1M , ro<Ry=1K , then ro+ri=1M\n",
      "\n",
      "#Calculations\n",
      "Cb=1/(2*math.pi*1*10)\n",
      "\n",
      "#Results\n",
      "print(\"Minimum Value of coupling Capacitance for given FET = %.3f  \" %Cb)\n"
     ],
     "language": "python",
     "metadata": {},
     "outputs": [
      {
       "output_type": "stream",
       "stream": "stdout",
       "text": [
        "Minimum Value of coupling Capacitance for given FET = 0.016  \n"
       ]
      }
     ],
     "prompt_number": 1
    },
    {
     "cell_type": "heading",
     "level": 2,
     "metadata": {},
     "source": [
      "Example 12.1b, Page No 433"
     ]
    },
    {
     "cell_type": "code",
     "collapsed": false,
     "input": [
      "import math\n",
      "\n",
      "#initialisation of variables\n",
      "Ry=1#in K\n",
      "Rg=1#in M\n",
      "Ri=1#in K\n",
      "hOE=1.0/40         #in K^-1\n",
      "\n",
      "#fL=1/(2*math.pi*(ro+ri)*Cb)<=10\n",
      "\n",
      "#Ro>1/hOE=40K  ro=Rc=1K.  Rb>Ri=1K   then  ri=1K\n",
      "\n",
      "#Calculations\n",
      "ro=1000.0    #in ohm\n",
      "ri=1000.0    #in ohm\n",
      "Cb=1.0/(2*math.pi*10*(ro+ri))\n",
      "\n",
      "#Results\n",
      "print(\"Coupling Capacitance for given transistor = %.2f v \" %(Cb*(10**6)))"
     ],
     "language": "python",
     "metadata": {},
     "outputs": [
      {
       "output_type": "stream",
       "stream": "stdout",
       "text": [
        "Coupling Capacitance for given transistor = 7.96 v \n"
       ]
      }
     ],
     "prompt_number": 2
    }
   ],
   "metadata": {}
  }
 ]
}