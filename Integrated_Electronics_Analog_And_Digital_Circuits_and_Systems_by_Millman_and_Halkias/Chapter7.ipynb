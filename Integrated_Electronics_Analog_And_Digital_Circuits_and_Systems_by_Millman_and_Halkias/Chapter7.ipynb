{
 "metadata": {
  "name": ""
 },
 "nbformat": 3,
 "nbformat_minor": 0,
 "worksheets": [
  {
   "cells": [
    {
     "cell_type": "heading",
     "level": 1,
     "metadata": {},
     "source": [
      "Chapter 07 : Integrated Circuit Fabrication and Characteristic"
     ]
    },
    {
     "cell_type": "heading",
     "level": 2,
     "metadata": {},
     "source": [
      "Example 7.1, Page No 215"
     ]
    },
    {
     "cell_type": "code",
     "collapsed": false,
     "input": [
      "import math\n",
      "#initialisation of variables\n",
      "\n",
      "print('At distance equal to x=xi at which N = concentration n of doped silicon wafers , the net impurity density is zero. Thus xi is the distance at which junction  is formed')\n",
      "q = 1.6*(10**-19)         #Charge of electron\n",
      "yn=1300.0        #mobility of silicon\n",
      "p = 0.5          #resistivity in ohm=cm\n",
      "y=2.2\n",
      "\n",
      "#Calculations\n",
      "t=2.0*3600          #in sec.\n",
      "xi = 2.7*(10**-4)    #Junction Depth in cm.\n",
      "n = 1/(p*yn*q)             #Concentration of doped silicon wafer\n",
      "print(\"The concentration n = %.2f cm^-3 x 10^16\" %(n/10**16))\n",
      "print('The junction is formed when N = n')\n",
      "\n",
      "#y = xi/(2*(D*t)^0.5)\n",
      "D=((xi)**2/((2*y)**2*t))    #Diffusion Constant\n",
      "\n",
      "#Results\n",
      "print(\"The value of Diffusion Constant for Boron =  %.2f cm^2/sec X 10^-13\" %(D*10**13))"
     ],
     "language": "python",
     "metadata": {},
     "outputs": [
      {
       "output_type": "stream",
       "stream": "stdout",
       "text": [
        "At distance equal to x=xi at which N = concentration n of doped silicon wafers , the net impurity density is zero. Thus xi is the distance at which junction  is formed\n",
        "The concentration n = 0.96 cm^-3 x 10^16\n",
        "The junction is formed when N = n\n",
        "The value of Diffusion Constant for Boron =  5.23 cm^2/sec X 10^-13\n"
       ]
      }
     ],
     "prompt_number": 8
    },
    {
     "cell_type": "heading",
     "level": 2,
     "metadata": {},
     "source": [
      "Example 7.2, Page No 215"
     ]
    },
    {
     "cell_type": "code",
     "collapsed": false,
     "input": [
      "import math\n",
      "\n",
      "#initialisation of variables\n",
      "d=5.2*10**-13     #from previous example\n",
      "depth=1.7*10**-4\n",
      "t=2*3600.0\n",
      "c=2.5*10**17     # boron concentration cm^3\n",
      "\n",
      "#Calculations\n",
      "y = depth/(2*(math.sqrt(d*t)))\n",
      "q=(c*(math.sqrt(math.pi*4*10**-13*3420)))/(math.exp(-((depth**2)/(4*4*10**-13*3420))))\n",
      "\n",
      "\n",
      "#Results\n",
      "print(\"The value of Y is = %.2f  \" %(y))\n",
      "print(\"The value of Q is = %.2f  cm2 X 10^15 \" %(q/10**15))"
     ],
     "language": "python",
     "metadata": {},
     "outputs": [
      {
       "output_type": "stream",
       "stream": "stdout",
       "text": [
        "The value of Y is = 1.39  \n",
        "The value of Q is = 3.22  cm2 X 10^15 \n"
       ]
      }
     ],
     "prompt_number": 9
    },
    {
     "cell_type": "heading",
     "level": 2,
     "metadata": {},
     "source": [
      "Example 7.3, Page No 222"
     ]
    },
    {
     "cell_type": "code",
     "collapsed": false,
     "input": [
      "import math\n",
      "\n",
      "#initialisation of variables\n",
      "y=100.0*10**-4     #mm\n",
      "h=500.0    #cm^2/V-s\n",
      "p=10.0**16         #boron of concentration\n",
      "\n",
      "\n",
      "#Calculations\n",
      "Rs=1.0/(1.6*10**-19*h*p*y)\n",
      "\n",
      "#Results\n",
      "print(\"The value of Rs sheet resistance is = %.2f  ohm/sqare\" %(Rs))\n"
     ],
     "language": "python",
     "metadata": {},
     "outputs": [
      {
       "output_type": "stream",
       "stream": "stdout",
       "text": [
        "The value of Rs sheet resistance is = 125.00  ohm/sqare\n"
       ]
      }
     ],
     "prompt_number": 10
    },
    {
     "cell_type": "heading",
     "level": 2,
     "metadata": {},
     "source": [
      "Example 7.4, Page No 223"
     ]
    },
    {
     "cell_type": "code",
     "collapsed": false,
     "input": [
      "import math\n",
      "\n",
      "#initialisation of variables\n",
      "Rs=100.0    #ohm/square\n",
      "l=50.0      #mm\n",
      "w=10        #mm\n",
      "\n",
      "\n",
      "#Calculations\n",
      "R=Rs*(l/w)\n",
      "\n",
      "#Results\n",
      "print(\"The resistance of defused resistor is = %.2f  ohm\" %(R))\n"
     ],
     "language": "python",
     "metadata": {},
     "outputs": [
      {
       "output_type": "stream",
       "stream": "stdout",
       "text": [
        "The resistance of defused resistor is = 500.00  ohm\n"
       ]
      }
     ],
     "prompt_number": 11
    },
    {
     "cell_type": "heading",
     "level": 2,
     "metadata": {},
     "source": [
      "Example 7.5, Page No 225"
     ]
    },
    {
     "cell_type": "code",
     "collapsed": false,
     "input": [
      "import math\n",
      "\n",
      "#initialisation of variables\n",
      "A=100*10**-8       #mm^2\n",
      "q=1.6*10**-19\n",
      "Nd=10**16          #donor concentration /cm^3\n",
      "e=11.9*8.85*10**-14\n",
      "Vj=0.82      #v\n",
      "\n",
      "\n",
      "#Calculations\n",
      "C=A*math.sqrt((q*Nd*e)/(2*Vj))\n",
      "\n",
      "#Results\n",
      "print(\"The capacitance is = %.f  fF\" %(C*10**15))\n"
     ],
     "language": "python",
     "metadata": {},
     "outputs": [
      {
       "output_type": "stream",
       "stream": "stdout",
       "text": [
        "The capacitance is = 32  fF\n"
       ]
      }
     ],
     "prompt_number": 12
    },
    {
     "cell_type": "heading",
     "level": 2,
     "metadata": {},
     "source": [
      "Example 7.6, Page No 225"
     ]
    },
    {
     "cell_type": "code",
     "collapsed": false,
     "input": [
      "import math\n",
      "\n",
      "#initialisation of variables\n",
      "A=100*10*10**-8       #mm^2\n",
      "q=1.6*10**-19\n",
      "e=11.9*8.85*10**-14\n",
      "Vj=0.98      #v\n",
      "Mn=1300.0\n",
      "pn=0.01\n",
      "\n",
      "\n",
      "\n",
      "#Calculations\n",
      "Nd=1/(q*Mn*pn)       #donor concentration /cm^3\n",
      "C=A*math.sqrt((q*Nd*e)/(2*Vj))\n",
      "\n",
      "#Results\n",
      "print(\"The capacitance is = %.f  pF\" %(C*10**12))\n"
     ],
     "language": "python",
     "metadata": {},
     "outputs": [
      {
       "output_type": "stream",
       "stream": "stdout",
       "text": [
        "The capacitance is = 2  pF\n"
       ]
      }
     ],
     "prompt_number": 13
    },
    {
     "cell_type": "heading",
     "level": 2,
     "metadata": {},
     "source": [
      "Example 7.7, Page No 226"
     ]
    },
    {
     "cell_type": "code",
     "collapsed": false,
     "input": [
      "import math\n",
      "\n",
      "#initialisation of variables\n",
      "e=3.9*8.85*10**-14\n",
      "d=20*10**-8\n",
      "\n",
      "\n",
      "#Calculations\n",
      "C=(e/d)*(10**9/10**8)\n",
      "\n",
      "#Results\n",
      "print(\"The capacitance per unit area is = %.2f   fF/mM^2\" %(C*10**6))\n"
     ],
     "language": "python",
     "metadata": {},
     "outputs": [
      {
       "output_type": "stream",
       "stream": "stdout",
       "text": [
        "The capacitance per unit area is = 17.26   fF/mM^2\n"
       ]
      }
     ],
     "prompt_number": 14
    }
   ],
   "metadata": {}
  }
 ]
}