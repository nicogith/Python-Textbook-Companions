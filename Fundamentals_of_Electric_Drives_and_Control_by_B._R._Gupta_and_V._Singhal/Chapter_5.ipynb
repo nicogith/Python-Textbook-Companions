{
 "metadata": {
  "name": ""
 },
 "nbformat": 3,
 "nbformat_minor": 0,
 "worksheets": [
  {
   "cells": [
    {
     "cell_type": "heading",
     "level": 1,
     "metadata": {},
     "source": [
      "Chapter 5:DC Motor Drives"
     ]
    },
    {
     "cell_type": "heading",
     "level": 2,
     "metadata": {},
     "source": [
      "Example:5.1 ,Page no:75"
     ]
    },
    {
     "cell_type": "code",
     "collapsed": false,
     "input": [
      "import math \n",
      "\n",
      "\n",
      "#Variable declaration\n",
      "T=10.0 #[turns]\n",
      "Coil=144.0 #[no. of coils]\n",
      "R=0.011 #[Resitance]  ohm\n",
      "fi=0.05 #Wb(flux per pole)\n",
      "N=200.0 #[Speed]  rpm\n",
      "par_paths=2.0 #[Parallel paths]  for wave winding\n",
      "\n",
      "#Calculation\n",
      "T_path=Coil*T/par_paths #no. of turns in each parallel path\n",
      "R_path=R*T_path #ohm\n",
      "Ra=R_path/par_paths #ohm(armature resistance)\n",
      "p=12.0 #poles\n",
      "emf=par_paths*Coil*T*p*fi*N/60.0/2.0 #V\n",
      "R1=1000.0 #ohm\n",
      "IL=emf/R1 #A\n",
      "Ia=IL #A\n",
      "T=par_paths*Coil*T*p*fi*Ia/2.0/math.pi/par_paths #N-m\n",
      "\n",
      "#Result\n",
      "print\"(a)  Armature resistance : \",Ra,\"ohm\"\n",
      "print\"(b)  Torque: \",round(T,2),\"N-m\"\n"
     ],
     "language": "python",
     "metadata": {},
     "outputs": [
      {
       "output_type": "stream",
       "stream": "stdout",
       "text": [
        "(a)  Armature resistance :  3.96 ohm\n",
        "(b)  Torque:  396.03 N-m\n"
       ]
      }
     ],
     "prompt_number": 1
    },
    {
     "cell_type": "heading",
     "level": 2,
     "metadata": {},
     "source": [
      "Example:5.2 ,Page no:75"
     ]
    },
    {
     "cell_type": "code",
     "collapsed": false,
     "input": [
      "import math \n",
      "#Variable declaration\n",
      "Ia=110.0 #[Armature current]  A\n",
      "V=480.0 #[Volatge]   volt\n",
      "Ra=0.2 #[Resistance]  ohm\n",
      "p=6.0 #[poles]\n",
      "C=864.0 #No of conductors\n",
      "fi=0.05 #Wb[(flux per pole)]\n",
      "\n",
      "#Calculation\n",
      "back_emf=V-(Ia*Ra) #Volt\n",
      "N=back_emf*60.0*p/C/p/fi #rpm\n",
      "T=C*p*fi*Ia/2.0/math.pi/p #N-m\n",
      "\n",
      "#Result\n",
      "print\"Speed : \",round(N,1),\"rpm\"\n",
      "print\"Torque: \",round(T,1),\"N-m\"\n"
     ],
     "language": "python",
     "metadata": {},
     "outputs": [
      {
       "output_type": "stream",
       "stream": "stdout",
       "text": [
        "Speed :  636.1 rpm\n",
        "Torque:  756.3 N-m\n"
       ]
      }
     ],
     "prompt_number": 2
    },
    {
     "cell_type": "heading",
     "level": 2,
     "metadata": {},
     "source": [
      "Example:5.3 ,Page no:79"
     ]
    },
    {
     "cell_type": "code",
     "collapsed": false,
     "input": [
      "import math \n",
      "#Variable declaration\n",
      "Ia=100.0 #[Current]   A\n",
      "V=200.0 #[Voltage]  volt\n",
      "N=600.0 #[Speed]  rpm\n",
      "Ra=0.05 #[Resistance]  ohm\n",
      "Eff=85.0/100.0 # [Efficiency]\n",
      "\n",
      "#Calculation\n",
      "Ia1=Ia*Eff #armature current in separately excited dc motor\n",
      "emf=V-Ia*Ra #V(motoring mode induced emf)\n",
      "N1=500.0 #rpm(generating mode speed)\n",
      "Gen_emf=emf*N1/N #V\n",
      "Vo=round(Gen_emf)-Ia1*Ra #V\n",
      "\n",
      "#Result\n",
      "print\"Voltage of source : \",Vo,\"V\"\n"
     ],
     "language": "python",
     "metadata": {},
     "outputs": [
      {
       "output_type": "stream",
       "stream": "stdout",
       "text": [
        "Voltage of source :  158.75 V\n"
       ]
      }
     ],
     "prompt_number": 3
    },
    {
     "cell_type": "heading",
     "level": 2,
     "metadata": {},
     "source": [
      "Example:5.4 ,Page no:79"
     ]
    },
    {
     "cell_type": "code",
     "collapsed": false,
     "input": [
      "import math \n",
      "#Variable declaration\n",
      "Ia1=10.0 #[Current]   A\n",
      "V1=200.0 #[Voltage]  volt\n",
      "N1=1800.0 #[Speed]  rpm\n",
      "Ra=0.6 #[Resistance]   ohm\n",
      "Rfield=360.0 #[Field resistance]  ohm\n",
      "V2=180.0 #[Voltage]  volt\n",
      "I_line=20.0 #[Limit line surrent]  A\n",
      "\n",
      "#Calculation\n",
      "#fi2=V2/V1*fi1\n",
      "fi2BYfi1=V2/V1 \n",
      "#Ia1*fi1=Ia2*fi2\n",
      "Ia2=Ia1/fi2BYfi1 #A\n",
      "Eb1=V1-Ia1*Ra #V\n",
      "Eb2=V2-Ia2*Ra #V\n",
      "#Eb1/Eb2=fi1*N1/fi2/N2\n",
      "N2=N1/(Eb1/Eb2*fi2BYfi1) #rpm\n",
      "Ifield=V2/Rfield #A\n",
      "Ia=I_line-Ifield\n",
      "#V2=Ia*(R+Ra)\n",
      "R=V2/Ia-Ra #ohm\n",
      "\n",
      "#Result\n",
      "print\"(a)  Motor speed after supply voltage decreases : \",round(N2,2),\"rpm\"\n",
      "print\"(b)  Additional resistance is: \",round(R,2),\"ohm\"\n"
     ],
     "language": "python",
     "metadata": {},
     "outputs": [
      {
       "output_type": "stream",
       "stream": "stdout",
       "text": [
        "(a)  Motor speed after supply voltage decreases :  1786.94 rpm\n",
        "(b)  Additional resistance is:  8.63 ohm\n"
       ]
      }
     ],
     "prompt_number": 4
    },
    {
     "cell_type": "heading",
     "level": 2,
     "metadata": {},
     "source": [
      "Example:5.5 ,Page no:80"
     ]
    },
    {
     "cell_type": "code",
     "collapsed": false,
     "input": [
      "import math \n",
      "#Variable declaration\n",
      "Ia1=10.0 #A\n",
      "V1=200.0 #[Supply voltage]  volt\n",
      "N1=1800.0 #[Motor speed]  rpm\n",
      "Ra=0.6 #[Resistance]  ohm\n",
      "Rfield=360.0 #[Field resistace]   ohm\n",
      "V2=180.0 #[Voltage]   volt\n",
      "I_line=20.0 #[Limit line current]   A\n",
      "\n",
      "#Calculation\n",
      "Ia=Ia1-V1/Rfield #A(At changeover time)\n",
      "emf=V1-Ia*Ra #volt\n",
      "Ifield=emf/Rfield #A(At changeover time)\n",
      "Iout=Ia1-Ifield #A\n",
      "Rbraking=emf/Iout #ohm(Braking Resistance)\n",
      "\n",
      "#Result\n",
      "print\"Braking resistance : \",round(Rbraking,3),\"ohm\"\n"
     ],
     "language": "python",
     "metadata": {},
     "outputs": [
      {
       "output_type": "stream",
       "stream": "stdout",
       "text": [
        "Braking resistance :  20.542 ohm\n"
       ]
      }
     ],
     "prompt_number": 5
    },
    {
     "cell_type": "heading",
     "level": 2,
     "metadata": {},
     "source": [
      "Example:5.6 ,Page no:80"
     ]
    },
    {
     "cell_type": "code",
     "collapsed": false,
     "input": [
      "from scipy import integrate\n",
      "import math \n",
      "#Variable declaration\n",
      "Ia1=10.0 #[Current] A\n",
      "V1=200.0 #[Voltage]   volt \n",
      "N1=1800.0 #[Motor speed]  rpm\n",
      "Ra=0.6 #[Resistance]  ohm\n",
      "Rfield=360.0 #[Field resistnce]  ohm\n",
      "V2=180.0 #[VOltage]   volt\n",
      "I_line=20.0 #[Limit line current]   A\n",
      "\n",
      "#Calculation\n",
      "#Part (a)\n",
      "Ia=Ia1-V1/Rfield #A(At changeover time)\n",
      "emf=V1-Ia*Ra #volt\n",
      "Ifield=emf/Rfield #A(At changeover time)\n",
      "Iout=Ia1-Ifield #A\n",
      "Rbraking=emf/Iout #ohm(Braking Resistance)\n",
      "I_initial=Iout #A(Inotial current)\n",
      "t=30.0 #sec(time taken to stop)\n",
      "I_change_rate=I_initial/t #A/s\n",
      "#i=I_initial-I_change_rate*t , for 0<t<30(during braking time)\n",
      "def f(t):\n",
      "    return((I_initial**2+(I_initial/30.0)**2.0/3.0*t**2.0-2.0*I_initial*I_initial/30.0*t)*Rbraking)\n",
      "    \n",
      "E_dissipated=integrate.quad(f,0.0,t) #W-s\n",
      "#Part (b) \n",
      "#Rbraking=Rbraking-Rbraking/30*t #ohm\n",
      "def g(t):\n",
      "    return(I_initial**2*(Rbraking-Rbraking/30*t))\n",
      "E=integrate.quad(g,0.0,30.0) #Watt-sec\n",
      "\n",
      "#Result\n",
      "print\"Part(a) Energy dissipated : \",round(E_dissipated[0],1),\"watts-seconds\"\n",
      "print\"Part(b) Energy dissipated in watts-sec : \",round(E[0]),\"watt-seconds\"\n",
      "print\"NOTE:calculation of first part is not accurate in the book.\"\n"
     ],
     "language": "python",
     "metadata": {},
     "outputs": [
      {
       "output_type": "stream",
       "stream": "stdout",
       "text": [
        "Part(a) Energy dissipated :  6128.1 watts-seconds\n",
        "Part(b) Energy dissipated in watts-sec :  27576.0 watt-seconds\n",
        "NOTE:calculation of first part is not accurate in the book.\n"
       ]
      }
     ],
     "prompt_number": 6
    },
    {
     "cell_type": "heading",
     "level": 2,
     "metadata": {},
     "source": [
      "Example:5.7 ,Page no:82"
     ]
    },
    {
     "cell_type": "code",
     "collapsed": false,
     "input": [
      "import math \n",
      "#Variable declaration\n",
      "I=50.0 #[DC Current] A\n",
      "V=200.0 #[DC Volatge]   volt\n",
      "N=1000.0 #[Motor speed]  rpm\n",
      "Ra=0.2 #[Resiatnce[ ohm\n",
      "\n",
      "#Calculation\n",
      "Eb=V-I*Ra #V\n",
      "Rt=(V+Eb)/2.0/I #ohm(Total resistance required)\n",
      "omega_m=N/60.0*2.0*math.pi #rad/s\n",
      "T1=Eb*2.0*I/omega_m #N-m\n",
      "Eb=0.0 #for speed=0\n",
      "I=V/Rt #A\n",
      "#T proportional to I(for separately excited motor)\n",
      "T2=T1*(I/100.0) #N-m\n",
      "\n",
      "#Result\n",
      "print\"Additional resistance required to limit the current : \",Rt-0.5,\"ohm\"\n",
      "print\"Braking torque : \",round(T1,2),\"N-m\"\n",
      "print\"Torque when speed decreased to zero  : \",round(T2,2),\"N-m\"\n"
     ],
     "language": "python",
     "metadata": {},
     "outputs": [
      {
       "output_type": "stream",
       "stream": "stdout",
       "text": [
        "Additional resistance required to limit the current :  3.4 ohm\n",
        "Braking torque :  181.44 N-m\n",
        "Torque when speed decreased to zero  :  93.04 N-m\n"
       ]
      }
     ],
     "prompt_number": 7
    },
    {
     "cell_type": "heading",
     "level": 2,
     "metadata": {},
     "source": [
      "Example:5.8 ,Page no:82"
     ]
    },
    {
     "cell_type": "code",
     "collapsed": false,
     "input": [
      "import math \n",
      "\n",
      "\n",
      "#Variable declaration\n",
      "Ra=0.2 #[Armature resistance]  ohm\n",
      "Rf=100.0 #[Field resistance]  ohm\n",
      "N=500.0 #[Rate dspeed]  rpm\n",
      "Rb=2.0 #Braking resistance  ohm\n",
      "E1=100.0 #back emf in V\n",
      "If1=2.0 #Field curremn [A]\n",
      "If2=2.5 #[Current]  A\n",
      "If3=3.0 #A\n",
      "E2=125.0 #[EMF] V\n",
      "E3=150.0 #[EMF]  V\n",
      "#Ib=Rf*If1/2\n",
      "#Ia=If+Ib #A\n",
      "\n",
      "#Calculation\n",
      "omega_m=N/60.0*2.0*math.pi #rad/s\n",
      "Kefi1=E1/omega_m \n",
      "Kefi2=E2/omega_m \n",
      "Kefi3=E3/omega_m \n",
      "T1=E1/omega_m*51.0*If1 #N-m\n",
      "T2=E2/omega_m*51.0*If2 #N-m\n",
      "T3=E3/omega_m*51.0*If3 #N-m\n",
      "Tload=300.0 #N-m\n",
      "Kefi=2.36 \n",
      "If=2.482 #A\n",
      "Ia=51.0*If #A\n",
      "E=If*Rf/2.0+Ia*Ra #V\n",
      "N=E/Kefi #rad/s\n",
      "N=N*60.0/2.0/math.pi #rpm\n",
      "\n",
      "#Result\n",
      "print\"Speed of motor  : \",round(N,1),\"rpm\"\n"
     ],
     "language": "python",
     "metadata": {},
     "outputs": [
      {
       "output_type": "stream",
       "stream": "stdout",
       "text": [
        "Speed of motor  :  604.6 rpm\n"
       ]
      }
     ],
     "prompt_number": 8
    },
    {
     "cell_type": "heading",
     "level": 2,
     "metadata": {},
     "source": [
      "Example:5.9 ,Page no:83"
     ]
    },
    {
     "cell_type": "code",
     "collapsed": false,
     "input": [
      "  \n",
      "import math \n",
      "%matplotlib inline\n",
      "\n",
      "#Variable declaration\n",
      "E1=200.0 #[EMF]V\n",
      "E2=300.0 #V\n",
      "E3=400.0 #V\n",
      "E4=500.0 #V\n",
      "E5=600.0 #V\n",
      "E6=700.0 #V\n",
      "Ia1=20.0 #[Current] A\n",
      "Ia2=30.0 #A\n",
      "Ia3=40.0 #A\n",
      "Ia4=50.0 #A\n",
      "Ia5=60.0 #A\n",
      "Ia6=70.0 #A\n",
      "Rt=0.6 #ohm\n",
      "Tload=600.0 #N-m\n",
      "\n",
      "#Calculation\n",
      "\n",
      "from pylab import *\n",
      "from numpy import *\n",
      "\n",
      "omega_m=Tload*2*math.pi/60.0 #rad/s\n",
      "Kefi1=E1/omega_m \n",
      "Kefi2=E2/omega_m \n",
      "Kefi3=E3/omega_m \n",
      "Kefi4=E4/omega_m \n",
      "Kefi5=E5/omega_m \n",
      "Kefi6=E6/omega_m \n",
      "T1=E1/omega_m*Ia1 #N-m\n",
      "T2=E2/omega_m*Ia2 #N-m\n",
      "T3=E3/omega_m*Ia3 #N-m\n",
      "T4=E4/omega_m*Ia4 #N-m\n",
      "T5=E5/omega_m*Ia5 #N-m\n",
      "T6=E6/omega_m*Ia6 #N-m\n",
      "\n",
      "fig,P1 = plt.subplots()\n",
      "\n",
      "P1.plot([Ia1,Ia2,Ia3,Ia4,Ia5,Ia6],[Kefi1,Kefi2,Kefi3,Kefi4,Kefi5,Kefi6],marker='o')\n",
      "xlabel(\"Ia(A)\") \n",
      "ylabel(\"Kefi\") \n",
      "pylab.ylim(0, 12.0)\n",
      "\n",
      "P2 =P1.twinx()\n",
      "P2.plot([Ia1,Ia2,Ia3,Ia4,Ia5,Ia6],[T1,T2,T3,T4,T5,T6],marker='o',color='r')\n",
      "xlabel(\"Ia(A)\") \n",
      "ylabel(\"T(N-m)\") \n",
      "pylab.ylim(0,1000.0)\n",
      "plt.xlim((0,80))\n",
      "show()\n",
      "#From the graph : \n",
      "T=600.0 #N-m\n",
      "Ia=63.0 #A\n",
      "Kefi=9.8 \n",
      "E=Kefi*omega_m #V\n",
      "R=E/Ia #ohm\n",
      "Rdb=R-Rt\n",
      "\n",
      "#Result\n",
      "print\"Resistance for dynamic braking : \",round(Rdb,2),\"ohm\"\n"
     ],
     "language": "python",
     "metadata": {},
     "outputs": [
      {
       "output_type": "stream",
       "stream": "stdout",
       "text": [
        "Populating the interactive namespace from numpy and matplotlib\n"
       ]
      },
      {
       "output_type": "stream",
       "stream": "stderr",
       "text": [
        "WARNING: pylab import has clobbered these variables: ['f']\n",
        "`%pylab --no-import-all` prevents importing * from pylab and numpy\n"
       ]
      },
      {
       "metadata": {},
       "output_type": "display_data",
       "png": "[encoded data removed]",
       "text": [
        "<matplotlib.figure.Figure at 0x59d6e10>"
       ]
      },
      {
       "output_type": "stream",
       "stream": "stdout",
       "text": [
        "Resistance for dynamic braking :  9.17 ohm\n"
       ]
      }
     ],
     "prompt_number": 9
    },
    {
     "cell_type": "heading",
     "level": 2,
     "metadata": {},
     "source": [
      "Example:5.10 ,Page no:86"
     ]
    },
    {
     "cell_type": "code",
     "collapsed": false,
     "input": [
      "  \n",
      "import math \n",
      "#Variable declaration\n",
      "V=240.0 #[DC voltage]  V\n",
      "Ra=0.4 #[Resistnce]   ohm\n",
      "N1=600.0 #[Motor speed]  rpm\n",
      "Ifl=25.0 #[Full load current]  A\n",
      "Radd=1.0 #[Added resistance]   ohm\n",
      "#If1=If2\n",
      "#T1=T2 leads to If1*Ia1=If2*Ia2: Ia1=Ia2\n",
      "Ia1=25.0 #A\n",
      "Ia2=25.0 #A\n",
      "\n",
      "#Calculation\n",
      "Eb1=V-Ia1*Ra #V\n",
      "Eb2=V-Ia2*(Ra+Radd) #V\n",
      "N2=N1*Eb2/Eb1 #rpm\n",
      "#T3=2*T1\n",
      "#If3=If1\n",
      "Ia3=2*Ia1 #A\n",
      "Eb3=V-Ia3*(Ra+Radd) #V\n",
      "N3=N1*Eb3/Eb1 #rpm\n",
      "Eb4=0.0 #V(at speed zero Eb=0)\n",
      "Ia4=V/(Ra+Radd) #V\n",
      "T4ByT1=Ia4/Ia1 #(field constant)\n",
      "\n",
      "#Result\n",
      "print\"(a).  Speed at full load torque in rpm : \",round(N2,2),\"rpm\"\n",
      "print\"(b)  Speed at twice the full load torque  : \",round(N3,2),\"rpm\"\n",
      "print\"(c)  Stalling torque is \",round(T4ByT1,3),\" times of full load torque.\"\n"
     ],
     "language": "python",
     "metadata": {},
     "outputs": [
      {
       "output_type": "stream",
       "stream": "stdout",
       "text": [
        "(a).  Speed at full load torque in rpm :  534.78 rpm\n",
        "(b)  Speed at twice the full load torque  :  443.48 rpm\n",
        "(c)  Stalling torque is  6.857  times of full load torque.\n"
       ]
      }
     ],
     "prompt_number": 10
    },
    {
     "cell_type": "heading",
     "level": 2,
     "metadata": {},
     "source": [
      "Example:5.11 ,Page no:87"
     ]
    },
    {
     "cell_type": "code",
     "collapsed": false,
     "input": [
      "import math \n",
      "#Variable declaration\n",
      "V=250.0 #[Voltage]   V\n",
      "Ra=1.0 #[Resistance]  ohm\n",
      "Ia1=25.0 #[Armature current]  A\n",
      "N1=900.0 #Speed rpm\n",
      "If=2.0 #[Filed current ] A\n",
      "N2=1100.0 #[Increased speed [rpm]\n",
      "\n",
      "#Calculation\n",
      "Eb1=V-Ia1*Ra #V\n",
      "#If1*Ia1=If2*Ia2\n",
      "#Eb2=V-Ia2*Ra #V\n",
      "#-Ia2**2*Ra+Ia2*V-Eb1*Ia1*N2/N1=0 \n",
      "polynomial=[-Ra,V,-Eb1*Ia1*N2/N1] \n",
      "Ia2=roots(polynomial) #A\n",
      "Ia2=Ia2[1] #A(wide range not allowed)\n",
      "If2=Ia1/Ia2*If #A\n",
      "\n",
      "#Result\n",
      "print\"New value of field current: \",round(If2,2),\"A\"\n"
     ],
     "language": "python",
     "metadata": {},
     "outputs": [
      {
       "output_type": "stream",
       "stream": "stdout",
       "text": [
        "New value of field current:  1.59 A\n"
       ]
      }
     ],
     "prompt_number": 11
    },
    {
     "cell_type": "heading",
     "level": 2,
     "metadata": {},
     "source": [
      "Example:5.12 ,Page no:110"
     ]
    },
    {
     "cell_type": "code",
     "collapsed": false,
     "input": [
      "import math \n",
      "#Variable declaration\n",
      "V=230.0 #[Votage]  V\n",
      "f=50.0 #[Frequency]  Hz\n",
      "Rf=200.0 #[Resistance]  ohm\n",
      "Ra=0.3 #[Resiatnce]  ohm\n",
      "T=50.0 #[Load torque]  N-m\n",
      "N=900.0 #[Speed at load torque]  rpm\n",
      "Kv=0.8 #[Voltage constant]  V/A-rad/s\n",
      "Kt=0.8 #[Voltage constant]  N-m/A**2\n",
      "\n",
      "from scipy import integrate \n",
      "#Calculation\n",
      "Vm=V*math.sqrt(2) #V\n",
      "Vf=2*Vm/math.pi #V\n",
      "If=Vf/Rf #A\n",
      "#T=Kt*If*Ia\n",
      "Ia=T/Kt/If #A\n",
      "omega=N*2*math.pi/60.0 #rad/s\n",
      "Eb=Kv*omega*If #V\n",
      "Va=Eb+Ia*Ra #V\n",
      "#Va=Vm/math.pi*(1+cosd(alfa_a))\n",
      "alfa_a=math.acos(Va/Vm*math.pi-1.0) #degree\n",
      "Pout=Ia*Va #W\n",
      "\n",
      "def f(t):\n",
      "    return(1)\n",
      "I=integrate.quad(f,math.degrees(alfa_a),math.degrees(math.pi))\n",
      "\n",
      "Iin=math.sqrt(2/(2.0*180.0)*(Ia**2)*I[0]) \n",
      "VAin=V*Iin #VA\n",
      "pf_in=Pout/VAin #lagging\n",
      "\n",
      "#Result\n",
      "print\"(a)  Field current:\",If,\"A\"\n",
      "print\"(b)  Fringe angle of converter in degree : \",round(math.degrees(alfa_a),3),\"degree\"\n",
      "print\"(c)  Power factor of convertyer(lagging) : \",round(pf_in,3)\n"
     ],
     "language": "python",
     "metadata": {},
     "outputs": [
      {
       "output_type": "stream",
       "stream": "stdout",
       "text": [
        "(a)  Field current: 1.03536376358 A\n",
        "(b)  Fringe angle of converter in degree :  94.078 degree\n",
        "(c)  Power factor of convertyer(lagging) :  0.605\n"
       ]
      }
     ],
     "prompt_number": 12
    },
    {
     "cell_type": "heading",
     "level": 2,
     "metadata": {},
     "source": [
      "Example:5.13 ,Page no:111"
     ]
    },
    {
     "cell_type": "code",
     "collapsed": false,
     "input": [
      "import math \n",
      "#Variable declaration\n",
      "V=230.0 #[Voltage]  V\n",
      "f=50.0 #[Frequency]  Hz\n",
      "Rf=200.0 #[Resistance]  ohm\n",
      "Ra=0.25#[Armature resistance]  ohm\n",
      "Kv=1.1 #[Torque constant]  V/A-rad/s\n",
      "Kt=1.1 #[Voltage constant]  N-m/A**2\n",
      "alfa_a=45.0 #[Firing angle]  degree\n",
      "Ia=50.0 #[Armature current]  A\n",
      "alfa_f=0.0 \n",
      "\n",
      "#Calculation\n",
      "Vf=2*V*math.sqrt(2.0)/math.pi*math.cos(alfa_f) #V\n",
      "#Va=(2*230.0*math.sqrt(2.0)/math.pi)*math.cos(alfa_a)     #V\n",
      "Va=(2.0*V/math.pi)\n",
      "If=Vf/Rf #A\n",
      "T=Kt*Ia*If #N-m\n",
      "Eb=Va-Ia*Ra-2.0 #V\n",
      "omega=Eb/Kv/If #rad/s\n",
      "N=omega*60.0/(2.0*math.pi) #rpm\n",
      "\n",
      "#Result\n",
      "print\"Torque developed  : \",round(T,3),\"N-m\"\n",
      "print\"Motor speed in rpm : \",round(N,1),\"rpm \"\n"
     ],
     "language": "python",
     "metadata": {},
     "outputs": [
      {
       "output_type": "stream",
       "stream": "stdout",
       "text": [
        "Torque developed  :  56.945 N-m\n",
        "Motor speed in rpm :  1106.1 rpm \n"
       ]
      }
     ],
     "prompt_number": 13
    },
    {
     "cell_type": "heading",
     "level": 2,
     "metadata": {},
     "source": [
      "Example:5.14 ,Page no:111"
     ]
    },
    {
     "cell_type": "code",
     "collapsed": false,
     "input": [
      "import math \n",
      "#Variable declaration\n",
      "\n",
      "V=400 #[Voltage]  V\n",
      "Ra=0.3#Resiatnce armature inohm\n",
      "Rf=250 #Filed resisatnce in ohm\n",
      "Ia=50 #Armature current in A\n",
      "Kv=1.3 #Voltage constantV/A-rad/s\n",
      "N=1200 #Speed in rpm\n",
      "alfa_f=0 \n",
      "\n",
      "#Calculation\n",
      "Vf=3*math.sqrt(3)*V*math.sqrt(2)/math.sqrt(3)/math.pi*math.cos(alfa_f) #V\n",
      "If=Vf/Rf #A\n",
      "Eb=Kv*If*2*math.pi*N/60 #V\n",
      "Va=Eb+Ia*Ra #V\n",
      "alfa_a=math.acos(Va/3/math.sqrt(3)/V/math.sqrt(2)*math.sqrt(3)*math.pi) #degree\n",
      "\n",
      "#Result\n",
      "print\"Fringe angle of converter in degree : \",round(math.degrees(alfa_a),2),\"degree\"\n"
     ],
     "language": "python",
     "metadata": {},
     "outputs": [
      {
       "output_type": "stream",
       "stream": "stdout",
       "text": [
        "Fringe angle of converter in degree :  47.06 degree\n"
       ]
      }
     ],
     "prompt_number": 14
    },
    {
     "cell_type": "heading",
     "level": 2,
     "metadata": {},
     "source": [
      "Example:5.15 ,Page no:112"
     ]
    },
    {
     "cell_type": "code",
     "collapsed": false,
     "input": [
      "import math \n",
      "\n",
      "\n",
      "#Variable declaration\n",
      "V=500.0 #V  [Voltage]\n",
      "Ia=200.0 # [Armature Current] A\n",
      "Ra=0.1#ohm[Armature resistance]\n",
      "Kv=1.4 #[Voltage constant]   V/A-rad/s\n",
      "Kt=1.4 #[torque constant]  N-m/A**2\n",
      "If=2.0 #[Field current]  A\n",
      "cycle=0.5 #[Duty cycle of chopper]   sec\n",
      "\n",
      "#Calculation\n",
      "Pin=cycle*V*Ia/1000.0 #KW\n",
      "Va=cycle*V #V\n",
      "Eb=Va-Ia*Ra #V\n",
      "omega=Eb/Kv/2.0 #rad/s\n",
      "N=omega*60.0/2.0/math.pi #rpm\n",
      "T=Kt*2.0*Ia #N-m\n",
      "\n",
      "#Result\n",
      "print\"(a) Input power in KW : \",Pin,\"kW\"\n",
      "print\"(b)  Speed in rpm : \",round(N,1),\"rpm\"\n",
      "print\"(c)  Torque in N-m : \",T,\"N-m\"\n"
     ],
     "language": "python",
     "metadata": {},
     "outputs": [
      {
       "output_type": "stream",
       "stream": "stdout",
       "text": [
        "(a) Input power in KW :  50.0 kW\n",
        "(b)  Speed in rpm :  784.4 rpm\n",
        "(c)  Torque in N-m :  560.0 N-m\n"
       ]
      }
     ],
     "prompt_number": 15
    },
    {
     "cell_type": "heading",
     "level": 2,
     "metadata": {},
     "source": [
      "Example:5.16 ,Page no:112"
     ]
    },
    {
     "cell_type": "code",
     "collapsed": false,
     "input": [
      "import math \n",
      "#Variable declaration\n",
      "Ra=0.1#[Resistance]  ohm\n",
      "Rb=7.5#[Braking resistance]  ohm\n",
      "Kv=1.4 #[Volate constant]  V/A-rad/s\n",
      "Ia=120.0 #[Armature current]  A\n",
      "If=1.6 #[Filed current]  A\n",
      "cycle=0.35 #[Duty cycle of chopper]  sec\n",
      "\n",
      "#Calculation\n",
      "Vavg=Rb*Ia*(1.0-cycle) #V\n",
      "Pb=Ia**2*Rb*(1.0-cycle)**2 #W\n",
      "emf=Vavg+Ra*Ia #V\n",
      "omega=emf/Kv/If #rad/s\n",
      "N=omega*60.0/2.0/math.pi #rpm\n",
      "\n",
      "#Result\n",
      "print\"Average voltage across chopper : \",Vavg,\"V\"\n",
      "print\"Power dissipated: \",Pb,\"W\"\n",
      "print\"Speed : \",round(N),\"rpm\" \n",
      "print \"NOTE:Answer of Pb & speed is wrong in the book.\"\n"
     ],
     "language": "python",
     "metadata": {},
     "outputs": [
      {
       "output_type": "stream",
       "stream": "stdout",
       "text": [
        "Average voltage across chopper :  585.0 V\n",
        "Power dissipated:  45630.0 W\n",
        "Speed :  2545.0 rpm\n",
        "NOTE:Answer of Pb & speed is wrong in the book.\n"
       ]
      }
     ],
     "prompt_number": 16
    },
    {
     "cell_type": "heading",
     "level": 2,
     "metadata": {},
     "source": [
      "Example:5.17 ,Page no:113"
     ]
    },
    {
     "cell_type": "code",
     "collapsed": false,
     "input": [
      "import math \n",
      "%matplotlib inline\n",
      "#Variable declaration\n",
      "V=220.0 #[Voltage]  V\n",
      "f=50.0 #[Frequency]  Hz\n",
      "L=0.012 #[Inductance]  H\n",
      "Ra=0.72 #[Resistance]   ohm\n",
      "K=2.0 #[Armature constant]  V/rad/s\n",
      "T=60.0 #[Torque characterisitc]   N-m\n",
      "alfa=90.0 #degree\n",
      "\n",
      "#Calculation\n",
      "Va=(3.0*math.sqrt(3.0)*V*math.sqrt(2.0)/(2.0*math.pi))*(1.0) #V\n",
      "Ia=5.0 #A\n",
      "print\"Armature Current : \",Ia,\"A\"\n",
      "T1=Ia*K #N-m\n",
      "print\"Torque  : \",T1,\"N-m\"\n",
      "Eb=Va-Ia*Ra #V\n",
      "omega=Eb/K #rad/s\n",
      "N1=omega*60.0/2.0/math.pi #rpm\n",
      "print\"Speed :\",N1,\"rpm\"\n",
      "\n",
      "Ia=10.0 #A\n",
      "print\"Armature Current : \",Ia,\"A\"\n",
      "T2=Ia*K #N-m\n",
      "print\"Torque : \",T2,\"N-m\"\n",
      "Eb=Va-Ia*Ra #V\n",
      "omega=Eb/K #rad/s\n",
      "N2=omega*60.0/(2.0*math.pi) #rpm\n",
      "print\"Speed : \",N2,\"rpm\" \n",
      "Ia=20.0 #A\n",
      "print\"Armature Current: \",Ia,\"A\"\n",
      "T3=Ia*K #N-m\n",
      "print\"Torque in N-m : \",T3,\"N-m\"\n",
      "Eb=Va-Ia*Ra #V\n",
      "omega=Eb/K #rad/s\n",
      "N3=omega*60.0/2.0/math.pi #rpm\n",
      "print\"Speed in rpm : \",N3,\"rpm\"\n",
      "Ia=30.0 #A\n",
      "print\"Armature Current : \",Ia,\"A\"\n",
      "T4=Ia*K #N-m\n",
      "print\"Torque: \",T4,\"N-m\"\n",
      "Eb=Va-Ia*Ra #V\n",
      "omega=Eb/K #rad/s\n",
      "N4=omega*60.0/2.0/math.pi #rpm\n",
      "print\"Speed  : \",T4,\"rpm\"\n",
      "plot([T1,T2,T3,T4],[N1,N2,N3,N4]) \n",
      "title('Speed Torque Characteristics') \n",
      "xlabel('Torque(N-m)') \n",
      "ylabel('speed(RPM)') \n",
      "plt.ylim(0.0,1500.0)\n",
      "plt.xlim(0.0,60.0)\n",
      "plt.show()"
     ],
     "language": "python",
     "metadata": {},
     "outputs": [
      {
       "output_type": "stream",
       "stream": "stdout",
       "text": [
        "Populating the interactive namespace from numpy and matplotlib\n",
        "Armature Current :  5.0 A\n",
        "Torque  :  10.0 N-m\n",
        "Speed : 1211.32800644 rpm\n",
        "Armature Current :  10.0 A\n",
        "Torque :  20.0 N-m\n",
        "Speed :  1194.13927258 rpm\n",
        "Armature Current:  20.0 A\n",
        "Torque in N-m :  40.0 N-m\n",
        "Speed in rpm :  1159.76180487 rpm\n",
        "Armature Current :  30.0 A\n",
        "Torque:  60.0 N-m\n",
        "Speed  :  60.0 rpm\n"
       ]
      },
      {
       "output_type": "stream",
       "stream": "stderr",
       "text": [
        "WARNING: pylab import has clobbered these variables: ['f']\n",
        "`%pylab --no-import-all` prevents importing * from pylab and numpy\n"
       ]
      },
      {
       "metadata": {},
       "output_type": "display_data",
       "png": "[encoded data removed]",
       "text": [
        "<matplotlib.figure.Figure at 0x82b99e8>"
       ]
      }
     ],
     "prompt_number": 17
    },
    {
     "cell_type": "heading",
     "level": 2,
     "metadata": {},
     "source": [
      "Example:5.18 ,Page no:114"
     ]
    },
    {
     "cell_type": "code",
     "collapsed": false,
     "input": [
      "import math \n",
      "#Variable declaration\n",
      "V=400.0 #[Thyrisotr bridge voltage]  V\n",
      "f=50.0 #[Frequency]  Hz\n",
      "I=50.0 #[Rated current]  A\n",
      "Ra=0.1 #[Resustnce]  ohm\n",
      "K=0.3 #[Voltage constant]  V/rpm\n",
      "Ia=5.0 #[Currentarmature]  A\n",
      "alfa=30.0 #[Firing angle]   degree\n",
      "\n",
      "#Calculation\n",
      "Vavg=(3.0*math.sqrt(3)*V*math.sqrt(2)/(math.sqrt(3)*2.0*math.pi))*(1+math.cos(math.radians(alfa))) #V\n",
      "Eb=Vavg-Ia*Ra #V\n",
      "N=Eb/K #rpm\n",
      "Speed=1600.0 #rpm\n",
      "Eb=Speed*K #V\n",
      "Vin=Eb+I*Ra #V\n",
      "alfa=math.acos(Vin/3/math.sqrt(3)/V/math.sqrt(2)*math.sqrt(3)*2*math.pi-1.0) #degree\n",
      "\n",
      "#Result\n",
      "print\"No load speed : \",round(N),\"rpm\"\n",
      "print\"Fringe angle  : \",round(math.degrees(alfa),2),\"degree\"\n"
     ],
     "language": "python",
     "metadata": {},
     "outputs": [
      {
       "output_type": "stream",
       "stream": "stdout",
       "text": [
        "No load speed :  1678.0 rpm\n",
        "Fringe angle  :  37.28 degree\n"
       ]
      }
     ],
     "prompt_number": 18
    },
    {
     "cell_type": "heading",
     "level": 2,
     "metadata": {},
     "source": [
      "Example:5.19 ,Page no:114"
     ]
    },
    {
     "cell_type": "code",
     "collapsed": false,
     "input": [
      "import math \n",
      "#Variable declaration\n",
      "V=230.0 #[Voltage]  V\n",
      "f=50.0 #[Frequency]  Hz\n",
      "Rf=200.0 #[Feild resistance]  ohm\n",
      "Ra=0.25#[Armature resistance] ohm\n",
      "Kv=1.1 #[Volatge constant]  V/A-rad/s\n",
      "Kt=1.1 #[Torque constant]   N-m/A**2\n",
      "alfa_a=45.0 #[Firng angle]  degree\n",
      "Ia=50.0 #[armature current]  A\n",
      "alfa_f=0.0   #Final angle\n",
      "\n",
      "#Calculation\n",
      "Vf=2.0*V*math.sqrt(2.0)/math.pi*math.cos(math.radians(alfa_f)) #V\n",
      "Va=2.0*V*math.sqrt(2.0)/math.pi*math.cos(math.radians(alfa_a)) #V\n",
      "If=Vf/Rf #A\n",
      "T=Kt*Ia*If #N-m\n",
      "Eb=Va-Ia*Ra-2.0 #V\n",
      "omega=Eb/Kv/If #rad/s\n",
      "Eg=-Eb #V\n",
      "Va=Eg+Ia*Ra+2 #V\n",
      "alfa=math.acos(Va/2.0/V/math.sqrt(2.0)*math.pi) #degree\n",
      "\n",
      "P=abs(Va)*Ia #W(power fed back to source)\n",
      "\n",
      "#Result\n",
      "print\"Fringe angle to converter  : \",round(math.degrees(alfa),2),\"degree\"\n",
      "print\"Power fed back to source  : \",round(P),\"W (approx)\"\n"
     ],
     "language": "python",
     "metadata": {},
     "outputs": [
      {
       "output_type": "stream",
       "stream": "stdout",
       "text": [
        "Fringe angle to converter  :  124.55 degree\n",
        "Power fed back to source  :  5871.0 W (approx)\n"
       ]
      }
     ],
     "prompt_number": 19
    },
    {
     "cell_type": "heading",
     "level": 2,
     "metadata": {},
     "source": [
      "Example:5.20 ,Page no:115"
     ]
    },
    {
     "cell_type": "code",
     "collapsed": false,
     "input": [
      "import math \n",
      "#Variable declaration\n",
      "V=240.0 #[Voltage]  V\n",
      "alfa=100.0 #degree   [Firing angle]  \n",
      "Ra=6.0# [Armature resistanec]  ohm\n",
      "Ia=1.8 #[Armature current]  A\n",
      "\n",
      "#Calculation\n",
      "Vm=V*math.sqrt(2.0) #V\n",
      "Vdc=Vm/math.pi*(1.0+math.cos(math.radians(alfa))) #Volt\n",
      "Eb=Vdc-Ia*Ra #V\n",
      "\n",
      "#Result\n",
      "print\"Back emf : \",round(Eb,2),\"V\"\n"
     ],
     "language": "python",
     "metadata": {},
     "outputs": [
      {
       "output_type": "stream",
       "stream": "stdout",
       "text": [
        "Back emf :  78.48 V\n"
       ]
      }
     ],
     "prompt_number": 20
    },
    {
     "cell_type": "heading",
     "level": 2,
     "metadata": {},
     "source": [
      "Example:5.21 ,Page no:115"
     ]
    },
    {
     "cell_type": "code",
     "collapsed": false,
     "input": [
      "import math \n",
      "#Variable declaration\n",
      "V1=230.0 #[Voltage]  V\n",
      "N1=1500.0 #[Speed]  rpm\n",
      "Ra=1.0 #[Armature resistance]  ohm\n",
      "Ia=10.0 #[Armature current]  A\n",
      "T=5.0 #[Troque]  N-m\n",
      "#V=K*omega+Ia*Ra\n",
      "\n",
      "#Calculation\n",
      "K=V1/(N1*2*math.pi/60.0+Ia*Ra) #V-s/rad or N-m/A\n",
      "K=round(K,1)\n",
      "Ia=T/K #A\n",
      "Ia=round(Ia,2)\n",
      "alfa1=30.0 #degree\n",
      "V=(2*V1*math.sqrt(2)/math.pi)*math.cos(math.radians(alfa1)) #Volt\n",
      "V=round(V,1)\n",
      "omega=(V-Ia*Ra)/K #rad/s\n",
      "\n",
      "N=(omega*60.0)/(2.0*math.pi) #rpm\n",
      "print\"Parrt(a) Speed:\",N,\"rpm\"\n",
      "alfa=45.0 #degree\n",
      "N=950.0 #rpm\n",
      "V=(2*V1*math.sqrt(2)/math.pi)*math.cos(math.radians(alfa)) #Volt\n",
      "V=round(V,2)\n",
      "Ia=(V-K*2*math.pi/60.0*N)/Ra #A\n",
      "Ia=round(Ia,2)\n",
      "T=K*Ia #N-m\n",
      "print\"Part(b) Torque : \",T,\"N-m\"\n",
      "print\"\\nNOTE:Answer for (b) is wrong in the book.\"\n"
     ],
     "language": "python",
     "metadata": {},
     "outputs": [
      {
       "output_type": "stream",
       "stream": "stdout",
       "text": [
        "Parrt(a) Speed: 1198.64134927 rpm\n",
        "Part(b) Torque :  9.996 N-m\n",
        "\n",
        "NOTE:Answer for (b) is wrong in the book.\n"
       ]
      }
     ],
     "prompt_number": 21
    },
    {
     "cell_type": "heading",
     "level": 2,
     "metadata": {},
     "source": [
      "Example:5.22 ,Page no:116"
     ]
    },
    {
     "cell_type": "code",
     "collapsed": false,
     "input": [
      "import math \n",
      "#Variable declaration\n",
      "\n",
      "V1=500.0 #[Voltage]  V\n",
      "N1=1500.0 #[Speed]  rpm\n",
      "Ia=100.0 #[Armature current]  A\n",
      "V2=350.0 #[Voltage]  V\n",
      "Ra=1.1 #[Resistance]  ohm\n",
      "alfa=45.0 #[Firing angle]  degree\n",
      "N2=1200.0 #[Motor speed]  rpm\n",
      "#V=K*omega+Ia*Ra\n",
      "\n",
      "#Calculation\n",
      "K=(V1-Ia*Ra)/(N1*2*math.pi/60.0) #V-s/rad or N-m/A\n",
      "V=3*math.sqrt(3)*V2*math.sqrt(2.0)/2.0/math.pi/math.sqrt(3.0)*(1+math.cos(math.radians(alfa))) #Volt\n",
      "Ia=(V-K*N2*2*math.pi/60.0)/Ra #A\n",
      "Vin_rms=Ia*math.sqrt(120.0/180.0) #V\n",
      "Iavg=Ia/3.0 #A\n",
      "Irms=Ia/math.sqrt(3) #A\n",
      "pf_in=V*Ia/math.sqrt(3)/V2/Vin_rms #lagging\n",
      "\n",
      "#Result\n",
      "print\"RMS source current : \",round(Ia,2),\"A\"\n",
      "print\"RMS input voltage:\",round(Vin_rms,1),\"A\"\n",
      "print\"Average thyristor current  : \",round(Iavg,2),\"A\"\n",
      "print\"RMS thyristor current : \",round(Irms,2),\"A\" \n",
      "print\"Input power factor = \",round(pf_in,3),\"lagging\"\n"
     ],
     "language": "python",
     "metadata": {},
     "outputs": [
      {
       "output_type": "stream",
       "stream": "stdout",
       "text": [
        "RMS source current :  83.13 A\n",
        "RMS input voltage: 67.9 A\n",
        "Average thyristor current  :  27.71 A\n",
        "RMS thyristor current :  48.0 A\n",
        "Input power factor =  0.815 lagging\n"
       ]
      }
     ],
     "prompt_number": 22
    },
    {
     "cell_type": "heading",
     "level": 2,
     "metadata": {},
     "source": [
      "Example:5.23 ,Page no:117"
     ]
    },
    {
     "cell_type": "code",
     "collapsed": false,
     "input": [
      "import math \n",
      "#Variable declaration\n",
      "T1=40.0 #[Torque]  N-m\n",
      "N1=500.0 #[Speed]  rpm\n",
      "J=0.01 #[Inertia of drive]  N-m_sec**2/rad\n",
      "T2=100.0 #[Troque]  N-m\n",
      "N2=1000.0 #[Speed]rpm\n",
      "\n",
      "#Calculation\n",
      "#Te=J*d(omega)/dt+D*omega+TL\n",
      "d_omegaBYdt=(T2-T1)/J #\n",
      "#t=omega/d_omegaBYdt+A \n",
      "omega1=N1*2*math.pi/60 #rad/s\n",
      "t=0 #s(initial time)\n",
      "A=t-omega1/d_omegaBYdt #\n",
      "omega2=N2*2*math.pi/60 #rad/s\n",
      "t=omega2/d_omegaBYdt+A #s\n",
      "\n",
      "#Result\n",
      "print\"Time taken by the motor in sec :  \",round(t,6),\"seconds\" \n"
     ],
     "language": "python",
     "metadata": {},
     "outputs": [
      {
       "output_type": "stream",
       "stream": "stdout",
       "text": [
        "Time taken by the motor in sec :   0.008727 seconds\n"
       ]
      }
     ],
     "prompt_number": 23
    },
    {
     "cell_type": "heading",
     "level": 2,
     "metadata": {},
     "source": [
      "Example:5.24 ,Page no:118"
     ]
    },
    {
     "cell_type": "code",
     "collapsed": false,
     "input": [
      "import math \n",
      "from sympy import Symbol\n",
      "#Variable declaration\n",
      "f=400.0 #[Feed frequency]  Hz\n",
      "V=200.0 #[Voltage]   V\n",
      "T=30.0 #[Torque]  N-m\n",
      "N=1000.0 #[Speed]  rpm\n",
      "R=0.2 #[Resistance]  ohm\n",
      "L=2.0 #[Motor resistance]  mH\n",
      "Kv=1.5 #[Voltage constant]  V-sec/rad\n",
      "Kt=1.5 #[Troque constant]  N-m/A\n",
      "\n",
      "#Calculation\n",
      "Ia=T/Kt #A\n",
      "omega=N*2*math.pi/60.0 #rad/s\n",
      "Eb=Kv*omega #V\n",
      "alfa=(Eb+Ia*R)/V \n",
      "T=1.0/f*1000.0 #ms\n",
      "Ton=alfa*T #ms\n",
      "Toff=T-Ton #ms\n",
      "Imax=V/R*((1-math.exp(-alfa*T*10**-3*R/(L*10**-3)))/(1-math.exp(-T*10**-3*R/(L*10**-3))))-Eb/R #A\n",
      "\n",
      "#Result\n",
      "print\"(a) Maximum motor armature current  : \",round(Imax,3),\"A\"\n",
      "Imin=V/R*((math.exp(alfa*T*R/L)-1)/(math.exp(T*R/L)-1))-Eb/R #A\n",
      "print\"(a) Minimum motor armature current  : \",abs(round(Imin)),\"A\"\n",
      "Iexc=Imax #A\n",
      "print\"(b) Excursion of  armature current : \",round(Iexc,3),\"A\"\n",
      "import sympy\n",
      "t_= Symbol('t`')   \n",
      "e=Symbol('e')\n",
      "#yy=2*math.exp(-100*t_dash/2).expand()\n",
      "L=L/1000\n",
      "i=(round(Imax,1)*e**(-R*t_/L))\n",
      "i2=round((Eb/R),1)*(1.0-e**(-R*t_/L))\n",
      "print\"(c) Expression for armature current:\\n  i=\", i,i2"
     ],
     "language": "python",
     "metadata": {},
     "outputs": [
      {
       "output_type": "stream",
       "stream": "stdout",
       "text": [
        "(a) Maximum motor armature current  :  39.078 A\n",
        "(a) Minimum motor armature current  :  0.0 A\n",
        "(b) Excursion of  armature current :  39.078 A\n",
        "(c) Expression for armature current:\n",
        "  i= 39.1*e**(-100.0*t`) -785.4*e**(-100.0*t`) + 785.4\n"
       ]
      }
     ],
     "prompt_number": 26
    },
    {
     "cell_type": "heading",
     "level": 2,
     "metadata": {},
     "source": [
      "Example:5.25 ,Page no:128"
     ]
    },
    {
     "cell_type": "code",
     "collapsed": false,
     "input": [
      "import math \n",
      "#Variable declaration\n",
      "V=230.0 #[Voltage]  V\n",
      "f=50.0 #[Frequency]  Hz\n",
      "Rf=1.5 #[Frequency] ohm\n",
      "Kt=0.25 #[Torque constant]  N-m/A\n",
      "T=25.0 #[Torque]  N-m\n",
      "Kv=0.25 #[Voltage constant]  V-sec/rad\n",
      "\n",
      "from scipy.optimize import fsolve\n",
      "#Calculation\n",
      "Vdc=2*math.sqrt(2)*V/math.pi #V\n",
      "Em=Vdc #V\n",
      "Ia=math.sqrt(T/Kt) #A\n",
      "def f(omega_m):\n",
      "    return(1.5*Ia+Kt*omega_m*Ia-Em)\n",
      "omega_m=fsolve(f,1)\n",
      "N=omega_m*60.0/2.0/math.pi #RPM\n",
      "\n",
      "#Result\n",
      "print\"Average motor current: \",Ia,\"A\"\n",
      "print\"Motor speed : \",round(N[0],2),\"RPM\"\n"
     ],
     "language": "python",
     "metadata": {},
     "outputs": [
      {
       "output_type": "stream",
       "stream": "stdout",
       "text": [
        "Average motor current:  10.0 A\n",
        "Motor speed :  733.66 RPM\n"
       ]
      }
     ],
     "prompt_number": 27
    },
    {
     "cell_type": "heading",
     "level": 2,
     "metadata": {},
     "source": [
      "Example:5.26 ,Page no:128"
     ]
    },
    {
     "cell_type": "code",
     "collapsed": false,
     "input": [
      "import math \n",
      "#Variable declaration\n",
      "V1=675.0 #[Secondary voltage]  V\n",
      "alfa1=90.5 #[Firing angle]  degree\n",
      "N1=350.0 #[Motor speed]  rpm\n",
      "Ia1=30.0 #[Armature current]  A\n",
      "N2=500.0 #[Second motor speed] rpm\n",
      "Rf=0.22 #[Field resistance]  ohm\n",
      "Ra=0.22 #[Armature resistance]  ohm\n",
      "\n",
      "#Calculation\n",
      "Ia2=Ia1*N2/N1 #A\n",
      "Va1=V1*math.sqrt(2.0)/math.pi*(1.0+math.cos(math.radians(alfa1))) #V\n",
      "Eb1=Va1-Ia1*(Ra+Rf) #V\n",
      "#Eb1/Eb2=Ia1*N1/(Ia2*N2)\n",
      "#Eb2=Va2-Ia2*(Ra+Rf)\n",
      "Va2=Eb1*Ia2*N2/(Ia1*N1)+Ia2*(Ra+Rf) #V\n",
      "alfa2=math.acos(Va2/V1/math.sqrt(2.0)*math.pi-1.0) #degree\n",
      "\n",
      "#Result\n",
      "print\"Armature current of converter in A : \",round(Ia2,2),\"A\"\n",
      "print\"Fringe angle of converter in degree : \",round(math.degrees(alfa2),2),\"degree\"\n"
     ],
     "language": "python",
     "metadata": {},
     "outputs": [
      {
       "output_type": "stream",
       "stream": "stdout",
       "text": [
        "Armature current of converter in A :  42.86 A\n",
        "Fringe angle of converter in degree :  4.86 degree\n"
       ]
      }
     ],
     "prompt_number": 28
    },
    {
     "cell_type": "heading",
     "level": 2,
     "metadata": {},
     "source": [
      "Example:5.27 ,Page no:129"
     ]
    },
    {
     "cell_type": "code",
     "collapsed": false,
     "input": [
      "import math \n",
      "#Variable declaration\n",
      "V1=230.0 #[Voltage]  V\n",
      "P=15.0 #[Power]  hp\n",
      "N=1500.0 #[Speed]  rpm\n",
      "V2=220.0 #[Voltage]]  V\n",
      "Ke=0.03 #[emf constant]  V/A-s\n",
      "Kt=0.03 #[torque constant]  N-m/A**2\n",
      "alfa=45.0 #[firing angle]  degree\n",
      "\n",
      "#Calculation\n",
      "Vm=V1*math.sqrt(2) #V\n",
      "omega=N*2*math.pi/60 #rad/s\n",
      "T=4*Kt*Vm**2*math.cos(math.radians(alfa))**2/(math.pi**2*(Ke*omega)**2) #N-m\n",
      "Ia=math.sqrt(T/Kt) #A\n",
      "\n",
      "#Result\n",
      "print\"part (a) : \"\n",
      "print\"Torque in N-m : \",round(T,2),\"N-m\"\n",
      "print\"Armature current : \",round(Ia,2),\"A\"\n",
      "print\"part (b) : \"\n",
      "Ia=Vm*(1+math.cos(math.radians(alfa)))/(math.pi*(Ke*omega)) #A\n",
      "T=Kt*Ia**2 #N-m\n",
      "print\"Armature current : \",round(Ia,1),\"A\"\n",
      "print\"Torque : \",round(T,4),\"N-m\"\n"
     ],
     "language": "python",
     "metadata": {},
     "outputs": [
      {
       "output_type": "stream",
       "stream": "stdout",
       "text": [
        "part (a) : \n",
        "Torque in N-m :  28.96 N-m\n",
        "Armature current :  31.07 A\n",
        "part (b) : \n",
        "Armature current :  37.5 A\n",
        "Torque :  42.2033 N-m\n"
       ]
      }
     ],
     "prompt_number": 29
    },
    {
     "cell_type": "heading",
     "level": 2,
     "metadata": {},
     "source": [
      "Example:5.28 ,Page no:130"
     ]
    },
    {
     "cell_type": "code",
     "collapsed": false,
     "input": [
      "import math \n",
      "#Variable declaration\n",
      "V1=230.0 #[Voltage]  V\n",
      "N=1000.0 #[Speed]  rpm\n",
      "P=15.0 #[Power rating]  hp\n",
      "Rt=0.2 #[Resistance]  ohm\n",
      "Ke=0.03 #[emf rating] V/A-s\n",
      "Kt=0.03 #[torque rating]  N-m/A**2\n",
      "alfa=30.0 #[Firng angle]  degree\n",
      "\n",
      "#Calculation\n",
      "Vm=V1*math.sqrt(2) #V\n",
      "omega=N*2*math.pi/60.0 #rad/s\n",
      "V=Vm/math.pi*(1+math.cos(math.radians(alfa))) #V\n",
      "#V=Ke*Ia*omega+Ia*Rt\n",
      "Ia=V/(Ke*omega+Rt) #A\n",
      "T=Kt*Ia**2 #N-m\n",
      "\n",
      "#Result\n",
      "print\"Motor current : \",round(Ia,3),\"A\"\n",
      "print\"Torque : \",round(T,2),\"N-m\"\n"
     ],
     "language": "python",
     "metadata": {},
     "outputs": [
      {
       "output_type": "stream",
       "stream": "stdout",
       "text": [
        "Motor current :  57.817 A\n",
        "Torque :  100.28 N-m\n"
       ]
      }
     ],
     "prompt_number": 30
    },
    {
     "cell_type": "heading",
     "level": 2,
     "metadata": {},
     "source": [
      "Example:5.29 ,Page no:131"
     ]
    },
    {
     "cell_type": "code",
     "collapsed": false,
     "input": [
      "import math \n",
      "#Variable declaration\n",
      "V=220.0 #[Voltage]  V\n",
      "Vin=230.0 #[input volatge]  V\n",
      "N1=1500.0 #[Speed of motor]  rpm\n",
      "Ia1=10.0 #[Armature current] A\n",
      "Ra=3.0 #[Armature resistance]  ohm\n",
      "N2=600.0 #[Speed]  rpm\n",
      "\n",
      "#Calculation\n",
      "E1=V-Ia1*Ra #V\n",
      "E2=E1*N2/N1 #V\n",
      "Ia2=Ia1/2.0 #A(because of Tnew=T/2)\n",
      "Vapp=E2+Ia2*Ra #V\n",
      "alfa=math.acos(Vapp*math.pi/2/math.sqrt(2)/Vin) #degree\n",
      "\n",
      "#Result\n",
      "print\"Firing angle of converter : \",round(math.degrees(alfa),1),\"degree\"\n"
     ],
     "language": "python",
     "metadata": {},
     "outputs": [
      {
       "output_type": "stream",
       "stream": "stdout",
       "text": [
        "Firing angle of converter :  63.9 degree\n"
       ]
      }
     ],
     "prompt_number": 31
    },
    {
     "cell_type": "heading",
     "level": 2,
     "metadata": {},
     "source": [
      "Example:5.30 ,Page no:131"
     ]
    },
    {
     "cell_type": "code",
     "collapsed": false,
     "input": [
      "  \n",
      "import math \n",
      "#Variable declaration\n",
      "V=230.0 #[Volatge]  V\n",
      "N=870.0 #[Motor speed] rpm\n",
      "Ia=100.0 #[Armaturecurrent] A\n",
      "Ra=0.05 #[Armature resisatce]ohm\n",
      "T=400.0 #[Torque] N-m\n",
      "\n",
      "#Calculation\n",
      "E=V-Ia*Ra #V\n",
      "Vgen=V+Ia*Ra #V\n",
      "N2=N*Vgen/E #rpm\n",
      "\n",
      "#Result\n",
      "print\"Motor speed in rpm : \",round(N2,2),\"rpm\"\n"
     ],
     "language": "python",
     "metadata": {},
     "outputs": [
      {
       "output_type": "stream",
       "stream": "stdout",
       "text": [
        "Motor speed in rpm :  908.67 rpm\n"
       ]
      }
     ],
     "prompt_number": 32
    },
    {
     "cell_type": "heading",
     "level": 2,
     "metadata": {},
     "source": [
      "Example:5.31 ,Page no:132"
     ]
    },
    {
     "cell_type": "code",
     "collapsed": false,
     "input": [
      "import math \n",
      "#Variable declaration\n",
      "V=220.0 #[Voltage]  V\n",
      "P=2.2 #[Power of motor] KW\n",
      "N1=1000.0 #[Motor speed]  rpm\n",
      "Ra=2.0 #[Resistance]  ohm\n",
      "f=250.0 #[Frequency]  Hz\n",
      "alfa=0.9 #[duty cycle]  cycle\n",
      "N2=1200.0 #[Load torque]rpm\n",
      "N3=800.0 #[Final speed] rpm\n",
      "\n",
      "#Calculation\n",
      "Ia1=P*1000.0/V #A\n",
      "Ia2=Ia1*N2/N1 #A\n",
      "Eb2=alfa*V-Ia2*Ra #V\n",
      "Eb3=Eb2*N3/N2 #V\n",
      "Ia3=Ia1*N3/N1 #A\n",
      "alfa3=(Eb3+Ia3*Ra)/V #cycle\n",
      "ton=alfa3/f #sec\n",
      "\n",
      "#Result\n",
      "print\"On time of chopper %.1e\"%ton,\"sec\"\n"
     ],
     "language": "python",
     "metadata": {},
     "outputs": [
      {
       "output_type": "stream",
       "stream": "stdout",
       "text": [
        "On time of chopper 2.4e-03 sec\n"
       ]
      }
     ],
     "prompt_number": 33
    },
    {
     "cell_type": "heading",
     "level": 2,
     "metadata": {},
     "source": [
      "Example:5.32 ,Page no:139"
     ]
    },
    {
     "cell_type": "code",
     "collapsed": false,
     "input": [
      " \n",
      "import math \n",
      "#Variable declaration\n",
      "V=230.0 #[Voltage]V\n",
      "N1=1000.0 #[Motor speed]rpm\n",
      "Ia1=100.0 #[Armature current]A\n",
      "Ra=0.1 #[Armature resistance]ohm\n",
      "Rf=0.1 #[Field ressiatnce]ohm\n",
      "N2=800.0 #[Final speed of motor]rpm\n",
      "\n",
      "#Calculation\n",
      "Ia2=math.sqrt(2)*Ia1 #A(As T2=2*T1 & T proportional to Ia**2)\n",
      "Eb1=V-Ia1*(Ra+Rf) #V\n",
      "Eb2=N2*Ia2/(N1*Ia1)*Eb1 #V\n",
      "#Eb2=Ia2*(Ra+Rf+Rbraking)\n",
      "Rbraking=Eb2/Ia2-Ra-Rf #ohm\n",
      "Ibraking=Eb2/Rbraking #A\n",
      "\n",
      "\n",
      "#Result\n",
      "print'Braking resistance : ' ,Rbraking,\"ohm\"\n",
      "print'Braking current : ',round(Ibraking,1),\"A\"\n",
      "print\"NOTE:Braking current is not calculated in the textbook but asked in the example.\"\n"
     ],
     "language": "python",
     "metadata": {},
     "outputs": [
      {
       "output_type": "stream",
       "stream": "stdout",
       "text": [
        "Braking resistance :  1.48 ohm\n",
        "Braking current :  160.5 A\n",
        "NOTE:Braking current is not calculated in the textbook but asked in the example.\n"
       ]
      }
     ],
     "prompt_number": 34
    },
    {
     "cell_type": "heading",
     "level": 2,
     "metadata": {},
     "source": [
      "Example:5.33 ,Page no:139"
     ]
    },
    {
     "cell_type": "code",
     "collapsed": false,
     "input": [
      "import math \n",
      "#Variable declaration\n",
      "P=6.0 #poles\n",
      "V=220.0 #[Voltage] V\n",
      "f=50.0 #[Frequency]  Hz\n",
      "Ra=0.2 #[Armature resistance]  ohm\n",
      "Rf=150.0 #[Field resistance]  ohm\n",
      "Z=150.0 #[no. of conductors]\n",
      "fi=0.02027 #[Field flux per mole]Wb(flux)\n",
      "alfa=0.0 #[Delay angle for field converter] degree\n",
      "alfa_a=45.0 #[Delay angle for armature converters] degree\n",
      "Ia=25.0 #[Armature current] A\n",
      "A=2.0 #  [Area]\n",
      "\n",
      "#Calculation\n",
      "T=Z*P*fi*Ia/(2*math.pi*A) #N-m\n",
      "Vm=V*math.sqrt(2) #V\n",
      "Vdc=2*Vm/math.pi*math.cos(math.radians(alfa_a)) #V\n",
      "Eb=Vdc-Ia*Ra #V\n",
      "N=Eb*60*A/(Z*P*fi) #rpm\n",
      "Pout=Vdc*Ia #W\n",
      "pf=Pout/V/Ia #lagging\n",
      "\n",
      "#Result\n",
      "print\"Totque  : \",round(T,3),\"N-m\"\n",
      "print\"Speed : \",round(N,2),\"rpm\"\n",
      "print'Power factor : ',round(pf,4),\"Lagging\"\n",
      "\n"
     ],
     "language": "python",
     "metadata": {},
     "outputs": [
      {
       "output_type": "stream",
       "stream": "stdout",
       "text": [
        "Totque  :  36.293 N-m\n",
        "Speed :  888.38 rpm\n",
        "Power factor :  0.6366 Lagging\n"
       ]
      }
     ],
     "prompt_number": 35
    },
    {
     "cell_type": "heading",
     "level": 2,
     "metadata": {},
     "source": [
      "Example:5.34 ,Page no:140"
     ]
    },
    {
     "cell_type": "code",
     "collapsed": false,
     "input": [
      "#Variable declaration\n",
      "R=0.1           #Armature resistance in [ohm]\n",
      "V1=220.0           #Voltage in [V]\n",
      "N1=1000.0          #speed in [rpm]\n",
      "I=100.0           #Current in [A]\n",
      "V2=200.0          #Dropped voltage in [V]\n",
      "\n",
      "#Calculation\n",
      "Eb2=V2-I*R\n",
      "Eb1=V1-I*R        \n",
      "N2=Eb2*N1/Eb1      #Motor speed after drop\n",
      "\n",
      "#Result\n",
      "print\"Motor speed after voltage drop is\",round(N2,2),\"rpm\""
     ],
     "language": "python",
     "metadata": {},
     "outputs": [
      {
       "output_type": "stream",
       "stream": "stdout",
       "text": [
        "Motor speed after voltage drop is 904.76 rpm\n"
       ]
      }
     ],
     "prompt_number": 36
    },
    {
     "cell_type": "heading",
     "level": 2,
     "metadata": {},
     "source": [
      "Example:5.35 ,Page no:140"
     ]
    },
    {
     "cell_type": "code",
     "collapsed": false,
     "input": [
      "import math \n",
      "\n",
      "V1=200.0 #[Voltage]  V\n",
      "N1=940.0 #[Speed]  rpm\n",
      "Ra=0.02 #[Armature resistance]  ohm\n",
      "Ia=100.0 #[Armature current]  A\n",
      "N2=500.0 #[Speed]  rpm\n",
      "\n",
      "#Calculation\n",
      "Eb1=V1-Ia*Ra #V\n",
      "#Eb1/Eb2=N1/N2\n",
      "#Eb2=V2-Ia*Ra #V\n",
      "V2=Eb1*N2/N1+Ia*Ra #V\n",
      "cycle=V2/V1 \n",
      "\n",
      "#Result\n",
      "print\"Duty cycle : \",round(cycle,4)\n"
     ],
     "language": "python",
     "metadata": {},
     "outputs": [
      {
       "output_type": "stream",
       "stream": "stdout",
       "text": [
        "Duty cycle :  0.5366\n"
       ]
      }
     ],
     "prompt_number": 37
    },
    {
     "cell_type": "heading",
     "level": 2,
     "metadata": {},
     "source": [
      "Example:5.36 ,Page no:141"
     ]
    },
    {
     "cell_type": "code",
     "collapsed": false,
     "input": [
      "import math \n",
      "#Variable declaration\n",
      "V1=220.0 #[Voltage]  V\n",
      "Ra=0.05 #[Armature resistance]ohm\n",
      "N1=1000.0 #[Speed]rpm\n",
      "Ia=100.0 #[Armature current]A\n",
      "N2=500.0 #[Speed]rpm\n",
      "\n",
      "#Calculation\n",
      "Eb=V1-Ia*Ra #V\n",
      "Ib=2*Ia #A\n",
      "Rb=(V1+Eb)/Ib-Ra #ohm\n",
      "Tb=Eb/(N1*2*math.pi/60.0)*Ib #N-m\n",
      "Eb2=Eb*N2/N1 #V\n",
      "Ib2=(V1+Eb2)/(Ra+Rb) #A\n",
      "Tb2=Eb2/(N2*2*math.pi/60.0)*Ib2 #N-m\n",
      "\n",
      "#Result\n",
      "print\"Resistance to be added:\",Rb,\"ohm\"\n",
      "print\"Initial braking torque : \",round(Tb,2),\"N-m\"\n",
      "print\"Initial braking torque: \",round(Tb2,1),\"N-m\"\n"
     ],
     "language": "python",
     "metadata": {},
     "outputs": [
      {
       "output_type": "stream",
       "stream": "stdout",
       "text": [
        "Resistance to be added: 2.125 ohm\n",
        "Initial braking torque :  410.62 N-m\n",
        "Initial braking torque:  309.1 N-m\n"
       ]
      }
     ],
     "prompt_number": 38
    },
    {
     "cell_type": "heading",
     "level": 2,
     "metadata": {},
     "source": [
      "Example:5.37 ,Page no:142"
     ]
    },
    {
     "cell_type": "code",
     "collapsed": false,
     "input": [
      "import math \n",
      "#Variable declaration\n",
      "V1=230.0 #[Voltage]   V\n",
      "N1=870.0 #[Speed]   rpm\n",
      "Ia=100.0 #[Armature current]  A\n",
      "Ra=0.05 #[Armature resistance]  ohm\n",
      "T=400.0 #[Torqu]   N-m\n",
      "\n",
      "#Calculation\n",
      "Eb=V1-Ia*Ra #V\n",
      "Vgen=V1+Ia*Ra #V\n",
      "N2=N1*Vgen/Eb #rpm\n",
      "\n",
      "#Result\n",
      "print\"Speed : \",round(N2,2),\"rpm\"\n"
     ],
     "language": "python",
     "metadata": {},
     "outputs": [
      {
       "output_type": "stream",
       "stream": "stdout",
       "text": [
        "Speed :  908.67 rpm\n"
       ]
      }
     ],
     "prompt_number": 39
    },
    {
     "cell_type": "heading",
     "level": 2,
     "metadata": {},
     "source": [
      "Example:5.38 ,Page no:142"
     ]
    },
    {
     "cell_type": "code",
     "collapsed": false,
     "input": [
      "import math \n",
      "#Variable declaration\n",
      "P=10.0 #[Power]  KW\n",
      "V1=230.0 #[Voltage]  V\n",
      "N1=1200.0 #[Speed] rpm\n",
      "Ra=0.5 #[Armature resistance] ohm\n",
      "Ke=0.182 #[emf constant]  V/rpm\n",
      "V2=260.0 #[Voltage]V\n",
      "alfa=30.0 #[Firing angle]  degree\n",
      "Ia=30.0 #[Armature current] A\n",
      "\n",
      "#Calculation\n",
      "Vm=V2*math.sqrt(2) #V\n",
      "Vdc=2*Vm/math.pi*math.cos(math.radians(alfa)) #V\n",
      "Eb=Vdc-Ia*Ra #V\n",
      "Kt=Ke*60/2/math.pi #N-m/A\n",
      "T=Kt*Ia #N-m\n",
      "N2=Eb/Ke #rpm\n",
      "Pout=Vdc*Ia #W\n",
      "pf=Pout/V2/Ia #lagging power factor\n",
      "\n",
      "#Result\n",
      "print\"Torque in N-m : \",round(T,2),\"N-m\"\n",
      "print\"Speed in rpm : \",round(N2,2),\"rpm\"\n",
      "print\"Power factor : \",round(pf,3),\"lagging\"\n"
     ],
     "language": "python",
     "metadata": {},
     "outputs": [
      {
       "output_type": "stream",
       "stream": "stdout",
       "text": [
        "Torque in N-m :  52.14 N-m\n",
        "Speed in rpm :  1031.43 rpm\n",
        "Power factor :  0.78 lagging\n"
       ]
      }
     ],
     "prompt_number": 40
    },
    {
     "cell_type": "heading",
     "level": 2,
     "metadata": {},
     "source": [
      "Example:5.39 ,Page no:143"
     ]
    },
    {
     "cell_type": "code",
     "collapsed": false,
     "input": [
      "import math \n",
      "#Variable declaration \n",
      "P=2.2 #[Power] KW\n",
      "V=220 #[Voltage]  V\n",
      "N1=1000 #[Speed]  rpm\n",
      "Ra=2 #[Resistance armature] ohm\n",
      "f=250 #[frequency]  Hz\n",
      "alfa=0.9 #duty cycle\n",
      "N2=1200 #[Speed]rpm\n",
      "N3=800 #[Motor sped] rpm\n",
      "\n",
      "#Calculation\n",
      "Ia1=P*1000/V #A\n",
      "Ia2=Ia1*N2/N1 #A\n",
      "Eb1=alfa*V-Ia2*Ra #V\n",
      "Eb2=Eb1*N3/N2 #V\n",
      "Ia3=Ia1*N3/N1 #A\n",
      "alfa3=(Eb2+Ia3*Ra)/V #cycle\n",
      "ton=alfa3/f #sec\n",
      "\n",
      "#Result\n",
      "print'On time of chopper : ',ton*1000,\"milli seconds\"\n"
     ],
     "language": "python",
     "metadata": {},
     "outputs": [
      {
       "output_type": "stream",
       "stream": "stdout",
       "text": [
        "On time of chopper :  2.4 milli seconds\n"
       ]
      }
     ],
     "prompt_number": 41
    },
    {
     "cell_type": "heading",
     "level": 2,
     "metadata": {},
     "source": [
      "Example:5.40,Page no:143"
     ]
    },
    {
     "cell_type": "code",
     "collapsed": false,
     "input": [
      "import math \n",
      "#Variable declaration\n",
      "V=220.0 #[Voltage]  V\n",
      "Eff1=85/100.0 #Efficiency\n",
      "Eff2=80/100.0 #Efficiency\n",
      "Load=400.0 #[Load in Kg\n",
      "t=2.5 #[time] ms\n",
      "Ra=0.1 #[Armature resistance]  ohm\n",
      "g=9.81 #constant for gravity acceleration\n",
      "\n",
      "#Calculation\n",
      "Pout=Load*g*t #W\n",
      "IL=Pout/V/Eff1/Eff2 #A\n",
      "Eb=V-IL*Ra #V\n",
      "R=(V+Eb)/IL-Ra #ohm\n",
      "\n",
      "#Result\n",
      "print\"Current drawn : \",round(IL,3),\"A\"\n",
      "print\"Resistance to be added  : \",round(R,2),\"ohm\"\n"
     ],
     "language": "python",
     "metadata": {},
     "outputs": [
      {
       "output_type": "stream",
       "stream": "stdout",
       "text": [
        "Current drawn :  65.575 A\n",
        "Resistance to be added  :  6.51 ohm\n"
       ]
      }
     ],
     "prompt_number": 42
    },
    {
     "cell_type": "heading",
     "level": 2,
     "metadata": {},
     "source": [
      "Example:5.41 ,Page no:144"
     ]
    },
    {
     "cell_type": "code",
     "collapsed": false,
     "input": [
      "import math \n",
      "#Variable declaration\n",
      "V1=220.0 #[Voltage]  V\n",
      "N1=1500.0 #[Speed] rpm\n",
      "I=10.0 #[Current]  A\n",
      "Ra=3.0 #[Armature resistance]  ohm\n",
      "V2=230.0 #[Voltage]V\n",
      "N2=600.0 #[Speed] rpm\n",
      "\n",
      "#Calculation\n",
      "Eb1=V1-I*Ra #V\n",
      "Eb2=Eb1*N2/N1 #V\n",
      "Ia=I/2 #A(at half rated torque)\n",
      "Vm=V1*math.sqrt(2) #V\n",
      "alfa=math.acos((Eb2+Ia*Ra)*math.pi/2/Vm) #degree\n",
      "\n",
      "#Result\n",
      "print\"Firing angle : \",round(math.degrees(alfa),2),\"degree\"\n"
     ],
     "language": "python",
     "metadata": {},
     "outputs": [
      {
       "output_type": "stream",
       "stream": "stdout",
       "text": [
        "Firing angle :  62.65 degree\n"
       ]
      }
     ],
     "prompt_number": 43
    }
   ],
   "metadata": {}
  }
 ]
}