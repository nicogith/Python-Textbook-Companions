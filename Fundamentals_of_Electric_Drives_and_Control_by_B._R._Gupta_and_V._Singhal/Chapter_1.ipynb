{
 "metadata": {
  "name": ""
 },
 "nbformat": 3,
 "nbformat_minor": 0,
 "worksheets": [
  {
   "cells": [
    {
     "cell_type": "heading",
     "level": 1,
     "metadata": {},
     "source": [
      "Chapter 1:Fundamentals of Electric Drives"
     ]
    },
    {
     "cell_type": "heading",
     "level": 2,
     "metadata": {},
     "source": [
      "Example no:1.1,Page no:10"
     ]
    },
    {
     "cell_type": "code",
     "collapsed": false,
     "input": [
      " \n",
      "import math \n",
      "\n",
      "\n",
      "#Variable declaration\n",
      "J=12 #journey per hour\n",
      "Load=5500 #[Load]  Kg\n",
      "t_up=1.5 #[time]  min\n",
      "W_cage=500 #[Weight of cage]  Kg\n",
      "t_down=1.25 #[time]  min\n",
      "h=50 #[height]  m\n",
      "Wb=3000 #Kg(Balance weight)\n",
      "Eff_hoist=0.8     #Effeciency of hoist \n",
      "Eff_motor=0.85    #Efficiency of motor\n",
      "g=9.81 #gravity constant\n",
      "\n",
      "#Calculation\n",
      "E_upward=(Load+W_cage-Wb)*g*h #J\n",
      "E_downward=(Wb-W_cage)*g*h #J\n",
      "Edj=E_upward+E_downward #J(Energy used in double journey)\n",
      "Ein=Edj/Eff_hoist/Eff_motor #J or W-s\n",
      "Ein=Ein/1000/3600 #KWh\n",
      "Ein_hour=Ein*J #KWh\n",
      "\n",
      "Rating=E_upward/Eff_hoist/t_up/60 #W\n",
      "\n",
      "#Result\n",
      "print\"\\n\\n(a).Electrical energy used in upward journey :\",E_upward,\"J\"\n",
      "print\"    Electrical energy used in downward journey :\",E_downward,\"J\"\n",
      "print\"    Electrical energy used in each double journey :\",Edj,\"J\"\n",
      "print\"    Energy input in each double journey=\",round(Ein,3),\"kWh\\n\"\n",
      "print\"(b).Electrical energy consumption in one hour : \",round(Ein_hour,3),\"kWh\\n\"\n",
      "print\"(c) kW Rating of motor: \",Rating/1000,\"kW\"\n"
     ],
     "language": "python",
     "metadata": {},
     "outputs": [
      {
       "output_type": "stream",
       "stream": "stdout",
       "text": [
        "\n",
        "\n",
        "(a).Electrical energy used in upward journey : 1471500.0 J\n",
        "    Electrical energy used in downward journey : 1226250.0 J\n",
        "    Electrical energy used in each double journey : 2697750.0 J\n",
        "    Energy input in each double journey= 1.102 kWh\n",
        "\n",
        "(b).Electrical energy consumption in one hour :  13.224 kWh\n",
        "\n",
        "(c) kW Rating of motor:  20.4375 kW\n"
       ]
      }
     ],
     "prompt_number": 1
    }
   ],
   "metadata": {}
  }
 ]
}