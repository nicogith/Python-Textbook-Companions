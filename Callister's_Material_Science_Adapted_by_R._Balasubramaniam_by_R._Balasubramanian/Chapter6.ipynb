{
 "metadata": {
  "name": "",
  "signature": "sha256:6f41d9a04613a061f355ba5794a8305d75a93992280462922fb2a17540ab6288"
 },
 "nbformat": 3,
 "nbformat_minor": 0,
 "worksheets": [
  {
   "cells": [
    {
     "cell_type": "heading",
     "level": 1,
     "metadata": {},
     "source": [
      "Chapter 6:Diffusion"
     ]
    },
    {
     "cell_type": "heading",
     "level": 2,
     "metadata": {},
     "source": [
      "Example 6.1 Page 151"
     ]
    },
    {
     "cell_type": "code",
     "collapsed": false,
     "input": [
      "#initiation of variable\n",
      "Ca=1.2 #Concentration at A in  kg/m^3\n",
      "Cb=0.8 #Concentration at B in  kg/m^3\n",
      "xa=5.0*10**-3#Position 1 in m\n",
      "xb=10.0*10**-3#Position 2 in m\n",
      "D=3.0*10**-11 #Diffusion coefficient in m^2/s\n",
      "\n",
      "#calcualtion\n",
      "J=-D*(Ca-Cb)/(xa-xb)\n",
      "\n",
      "#result\n",
      "print\" Diffusion flux is %.1e kg/m^2-s\" %J"
     ],
     "language": "python",
     "metadata": {},
     "outputs": [
      {
       "output_type": "stream",
       "stream": "stdout",
       "text": [
        " Diffusion flux is 2.4e-09 kg/m^2-s\n"
       ]
      }
     ],
     "prompt_number": 1
    },
    {
     "cell_type": "heading",
     "level": 2,
     "metadata": {},
     "source": [
      "Example 6.2 Page 153"
     ]
    },
    {
     "cell_type": "code",
     "collapsed": false,
     "input": [
      "#initiation of variable\n",
      "from math import sqrt\n",
      "x=5*10**-4     #Position in m\n",
      "D=1.6*10**-11  #Diffusion coefficient  in m^2/s\n",
      "Co=0.25#Initial Concentration in wt%\n",
      "Cs=1.2 #Surface concentration in wt%\n",
      "Cx=0.8 #Concentration at any x  in wt%\n",
      "z1 = 0.35 # tabular data\n",
      "z2 = 0.4 # tabular data\n",
      "erf_z1 = 0.3794 # tabular data\n",
      "erf_z2 = 0.4284 # tabular data\n",
      "\n",
      "#calcualtion\n",
      "C=1-((Cx-Co)/(Cs-Co))\n",
      "z = (C-erf_z1)/(erf_z2-erf_z1) * (z2-z1) + z1 #  Calculation by interpolation\n",
      "t= ((x/(2*sqrt(D)))/z)**2 # calculation of time\n",
      "\n",
      "#result\n",
      "print\" Time required is %d\" %t,\"s or %.2f h\" %(t/3600);\n",
      "print \"Answer in book is 25400 sec or 7.1 h. It is because of considering different number of significant figure\""
     ],
     "language": "python",
     "metadata": {},
     "outputs": [
      {
       "output_type": "stream",
       "stream": "stdout",
       "text": [
        " Time required is 25355 s or 7.04 h\n",
        "Answer in book is 25400 sec or 7.1 h. It is because of considering different number of significant figure\n"
       ]
      }
     ],
     "prompt_number": 3
    },
    {
     "cell_type": "heading",
     "level": 2,
     "metadata": {},
     "source": [
      "Example 6.3 Page 154"
     ]
    },
    {
     "cell_type": "code",
     "collapsed": false,
     "input": [
      "#initiation of variable\n",
      "D_500=4.8*10**-14 #Diffusion coefficient at 500 C\n",
      "D_600=5.3*10**-13 #Diffusion coefficient at 600 C\n",
      "t_600=10.0 #Time in hours to diffuse\n",
      "\n",
      "#calculation\n",
      "t_500=D_600*t_600/D_500\n",
      "\n",
      "#result\n",
      "print\" Time to diffuse at 500 degree Celsius is %.1f h\" %(t_500)"
     ],
     "language": "python",
     "metadata": {},
     "outputs": [
      {
       "output_type": "stream",
       "stream": "stdout",
       "text": [
        " Time to diffuse at 500 degree Celsius is 110.4 h\n"
       ]
      }
     ],
     "prompt_number": 4
    },
    {
     "cell_type": "heading",
     "level": 2,
     "metadata": {},
     "source": [
      "Example 6.4 Page 157"
     ]
    },
    {
     "cell_type": "code",
     "collapsed": false,
     "input": [
      "#initiation of variable\n",
      "from math import exp\n",
      "T=550+273.0 # temperature of aluminium in K\n",
      "D_0=1.2*10**-4 #Temperature independent preexponential in m^2/s\n",
      "Q_d=131000.0 #Activation energy in J/mol-K\n",
      "R=8.31  #Universal Gas constant\n",
      "\n",
      "#calculation\n",
      "D=D_0*exp(-Q_d/(R*T));\n",
      "\n",
      "#result\n",
      "print\" Diffusion coefficient is %.1e m^2/s\" %D;"
     ],
     "language": "python",
     "metadata": {},
     "outputs": [
      {
       "output_type": "stream",
       "stream": "stdout",
       "text": [
        " Diffusion coefficient is 5.8e-13 m^2/s\n"
       ]
      }
     ],
     "prompt_number": 6
    },
    {
     "cell_type": "heading",
     "level": 2,
     "metadata": {},
     "source": [
      "Example 6.5 Page 157"
     ]
    },
    {
     "cell_type": "code",
     "collapsed": false,
     "input": [
      "#initiation of variable\n",
      "#From graph log D ad 1/T are deducted\n",
      "inv_T1=0.8*10**-3 #Reciprocal of temp.  in K^-1\n",
      "inv_T2=1.1*10**-3 #Reciprocal of temp.  in K^-1\n",
      "logD1=-12.4\n",
      "logD2=-15.45\n",
      "R=8.31 #Gas law Constant in J/mol-K\n",
      "\n",
      "#calculation\n",
      "Q_d=-2.3*R*(logD1-logD2)/(inv_T1-inv_T2)\n",
      "D_0=10**(logD2+(Q_d*inv_T2/(2.3*R)))#For calculating Preexponential factor\n",
      "\n",
      "#result\n",
      "print\" Activation energy is %d kJ/mol\" %(Q_d/1000)\n",
      "print\" Preexponential factor D_0 is %.1e m^2/s\" %D_0\n",
      "print \"Answer in book is 5.2e-5 m^2/s. It is because of consideration of different number of significant figures\""
     ],
     "language": "python",
     "metadata": {},
     "outputs": [
      {
       "output_type": "stream",
       "stream": "stdout",
       "text": [
        " Activation energy is 194 kJ/mol\n",
        " Preexponential factor D_0 is 5.4e-05 m^2/s\n",
        "Answer in book is 5.2e-5 m^2/s. It is because of consideration of different number of significant figures\n"
       ]
      }
     ],
     "prompt_number": 9
    },
    {
     "cell_type": "heading",
     "level": 2,
     "metadata": {},
     "source": [
      "Example 6.6 (Design Problem 6.1), Page 158"
     ]
    },
    {
     "cell_type": "code",
     "collapsed": false,
     "input": [
      "#initiation of variable\n",
      "P_m = 2.3e-14 # permissibility coefficient of CO2 through PET\n",
      "P_1 = 400.0 # Pressure inside bottle in KPa\n",
      "P_2 = 0.4 # Pressure outside bottle in KPa\n",
      "A = 500.0 # Surface area of bottle in cm^2\n",
      "x = 0.05 # wall thickness of bottle in cm\n",
      "V = 750.0 # volume in cm^3\n",
      "\n",
      "#part A\n",
      "#calculation\n",
      "J = -P_m*(P_2-P_1)*1e3/x # calculation of diffusion flux\n",
      "\n",
      "print\" Diffusion flux is %0.1e cm^3 STP/(cm^2-s)\" %J\n",
      "\n",
      "#partB\n",
      "V_co2 = J*A \n",
      "t = V/V_co2 # calculation of self life\n",
      "print\" Self life for bottle of pop is %d\" %(t/(60.0*60*24)),  \"days (or about %d months).\" %(t/(60*60*24*30))\n",
      "print \"Answer in book is 97 days. It is because of considering different number of significant figure\""
     ],
     "language": "python",
     "metadata": {},
     "outputs": [
      {
       "output_type": "stream",
       "stream": "stdout",
       "text": [
        " Diffusion flux is 1.8e-07 cm^3 STP/(cm^2-s)\n",
        " Self life for bottle of pop is 94 days (or about 3 months).\n",
        "Answer in book is 97 days. It is because of considering different number of significant figure\n"
       ]
      }
     ],
     "prompt_number": 13
    }
   ],
   "metadata": {}
  }
 ]
}