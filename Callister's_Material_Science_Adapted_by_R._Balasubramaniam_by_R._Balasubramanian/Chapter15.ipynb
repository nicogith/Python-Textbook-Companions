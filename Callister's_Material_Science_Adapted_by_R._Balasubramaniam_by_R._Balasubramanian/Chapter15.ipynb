{
 "metadata": {
  "name": "",
  "signature": "sha256:2b9f105fd692b47d5d3095e1c67ce4130548921b299eabec87d1ef03b10f5602"
 },
 "nbformat": 3,
 "nbformat_minor": 0,
 "worksheets": [
  {
   "cells": [
    {
     "cell_type": "heading",
     "level": 1,
     "metadata": {},
     "source": [
      "Chapter 15:Composite Materials"
     ]
    },
    {
     "cell_type": "heading",
     "level": 2,
     "metadata": {},
     "source": [
      "Example 15.1 Page 552"
     ]
    },
    {
     "cell_type": "code",
     "collapsed": false,
     "input": [
      "#initiation of variable\n",
      "v_f = 40.0 # volume percent of fibre in composite\n",
      "E_f= 69.0 # Modulus of elasticity of fibre in GPa\n",
      "v_m = 60.0  # volume percent of matrix in composite\n",
      "E_m = 3.4# Modulus of elasticity of matrix in GPa\n",
      "a = 250.0 # cross sectional area in mm^2\n",
      "sigma = 50.0 # Tensile stress in MPa\n",
      "Fm = 1.0 # let\n",
      "Ff = 13.5*Fm \n",
      "\n",
      "#calculation\n",
      "#Part A\n",
      "E_cl = (v_f*E_f+v_m*E_m)/100.0\n",
      "\n",
      "#result\n",
      "print\"\\n Modulus of elasticity of composite is %0.0f GPa\" %E_cl\n",
      "\n",
      "# Part B\"\n",
      "Fc = a*sigma\n",
      "Fm = Fc/(Fm+Ff) \n",
      "Ff = Fc - Fm\n",
      "\n",
      "#result\n",
      "print\" Force supported by m is %d\" %Fm, \"N  Force supported by fibre is %d N\" %Ff\n",
      "print \"Answer in book is as Fm = 860 N and Ff = 11640. It is due to approximation\"\n",
      "\n",
      "# Part C\n",
      "a_m = v_m*a/100\n",
      "a_f = v_f*a/100\n",
      "sigma_m = Fm/a_m\n",
      "sigma_f = Ff/a_f\n",
      "epsilon_m = sigma_m/(E_m*1000)\n",
      "epsilon_f = sigma_f/(E_f*1000)\n",
      "\n",
      "#result\n",
      "print \"Strain for matrix phase is %0.2e\" %epsilon_m\n",
      "print \" Strain for fibre phase is %.2e. Both are identical\" %epsilon_f"
     ],
     "language": "python",
     "metadata": {},
     "outputs": [
      {
       "output_type": "stream",
       "stream": "stdout",
       "text": [
        "\n",
        " Modulus of elasticity of composite is 30 GPa\n",
        " Force supported by m is 862 N  Force supported by fibre is 11637 N\n",
        "Answer in book is as Fm = 860 N and Ff = 11640. It is due to approximation\n",
        "Strain for matrix phase is 1.69e-03\n",
        " Strain for fibre phase is 1.69e-03. Both are identical\n"
       ]
      }
     ],
     "prompt_number": 3
    },
    {
     "cell_type": "heading",
     "level": 2,
     "metadata": {},
     "source": [
      "Example 15.2 Page 553"
     ]
    },
    {
     "cell_type": "code",
     "collapsed": false,
     "input": [
      "#initiation of variable\n",
      "import math\n",
      "E_gf=69  # Elasticity of glass fibre in GPa \n",
      "mf_gf=0.4  #Volume percentage of glass fibre\n",
      "E_pr=3.4  #  Elasticity of polyester resin in GPa\n",
      "mf_pr=0.6 #Vol percentage of polyester resin\n",
      "\n",
      "#calculation\n",
      "E_ct=E_pr*E_gf/((E_pr*mf_gf)+(E_gf*mf_pr))  # Calculation of modulus of elasticity in GPa\n",
      "\n",
      "#result\n",
      "print\"In transverse direction, modulus of elasticity is %.1f GPa.\" %E_ct"
     ],
     "language": "python",
     "metadata": {},
     "outputs": [
      {
       "output_type": "stream",
       "stream": "stdout",
       "text": [
        "In transverse direction, modulus of elasticity is 5.5 GPa.\n"
       ]
      }
     ],
     "prompt_number": 10
    },
    {
     "cell_type": "heading",
     "level": 2,
     "metadata": {},
     "source": [
      "Design Problem 15.1 Page 563"
     ]
    },
    {
     "cell_type": "code",
     "collapsed": false,
     "input": [
      "#initiation of variable\n",
      "from math import pi\n",
      "F = 1000.0 # Force in N\n",
      "L = 1.0 # length in m\n",
      "del_y = 0.35 # extension in mm\n",
      "d_o = 70 # Outer diameter in mm\n",
      "d_i = 50 # Innrer diameter in mm\n",
      "V_f_max = 0.6 # Maximum allowable fiber Volume in cm  fraction \n",
      "Vf_glass = 0.945  # V_f for glass\n",
      "Vf_C_standard = 0.293# V_f for carbon standard modulus\n",
      "Vf_c_intermediate = 0.237# V_f for carbon intermediate modulus\n",
      "Vf_c_high = 0.168 #  V_f for carbon high modulus\n",
      "d_epoxy = 1.14 # density of epoxy resin in g/cm^3\n",
      "d_C_sm = 1.8 # density of carbon fiber (Standard modulus) in g/cm^3\n",
      "d_C_im = 1.8 # density of carbon fiber (intermediate modulus) in g/cm^3\n",
      "d_C_hm = 1.8 # density of carbon fiber (high modulus) in g/cm^3\n",
      "C_im_cost = 70.00 # cost of carbon fiber (intermediate modulus) in USD/kg \n",
      "C_sm_cost = 35.00 # cost of carbon fiber (Standard modulus) in USD/kg \n",
      "C_hm_cost = 175.00 # cost of carbon fiber (high modulus) in USD/kg \n",
      "d_epoxy = 1.14 # density of epoxy resin in g/cm^3\n",
      "epoxy_cost = 9.00  # cost of epoxy resin in USD/kg \n",
      "\n",
      "#calculation\n",
      "I = pi/64* (1e-12*(d_o*1e-3)**4-(d_i*1e-3)**4)\n",
      "E = 4*F*L**3/(3*pi*del_y*1e-3*((d_o*1e-3)**4-(d_i*1e-3)**4)) # Required modulus of elasticity\n",
      "#parta\n",
      "\n",
      "if Vf_glass < V_f_max :\n",
      "    print \"Glass, when embedded in epoxy matrix, meet the stipulated criteria. \"\n",
      "    \n",
      "  \n",
      "if Vf_C_standard < V_f_max :\n",
      "    print \" Carbon (standard modulus), when embedded in epoxy matrix, meet the stipulated criteria. \"\n",
      "  \n",
      "\n",
      "if Vf_c_intermediate < V_f_max :\n",
      "    print\" Carbon (intermediate modulus), when embedded in epoxy matrix, meet the stipulated criteria. \"\n",
      "  \n",
      "\n",
      "if Vf_c_high < V_f_max :\n",
      "    print\" Carbon (high modulus), when embedded in epoxy matrix, meet the stipulated criteria.\"\n",
      "  \n",
      "#partb\n",
      "Vc = pi*L*1e-6*(d_o**2 - d_i**2)/4\n",
      "F_v_C_sm = Vc*Vf_C_standard*1e6  # Fiber Volume in cm^3 for carbon (Standard modulus)\n",
      "F_m_C_sm = F_v_C_sm * d_C_sm/1000 # Fiber mass for carbon (Standard modulus) in kg\n",
      "F_c_C_sm = F_m_C_sm * C_sm_cost # Fiber cost for carbon (Standard modulus) in USD\n",
      "m_v_C_sm = Vc*(1-Vf_C_standard)*1e6 # Matrix Volume in cm^3 for carbon (Standard modulus)\n",
      "m_m_C_sm = m_v_C_sm * d_epoxy/1000 # Matrix mass for carbon (Standard modulus) in kg\n",
      "m_c_C_sm = m_m_C_sm * epoxy_cost # Matrix cost for carbon (Standard modulus) in USD\n",
      "Total_c_C_sm = m_c_C_sm + F_c_C_sm # Total cost for carbon (Standard modulus) in USD\n",
      "F_v_C_im = Vc*Vf_c_intermediate*1e6 # Fiber Volume in cm^3 for carbon (intermediate modulus)\n",
      "F_m_C_im = F_v_C_im * d_C_im/1000 # Fiber mass for carbon (intermediate modulus) in kg\n",
      "F_c_C_im = F_m_C_im * C_im_cost# Fiber cost for carbon (intermediate modulus) in USD\n",
      "m_v_C_im = Vc*(1-Vf_c_intermediate)*1e6 # Matrix Volume in cm^3 for carbon (intermediate modulus)\n",
      "m_m_C_im = m_v_C_im * d_epoxy/1000 # Matrix mass for carbon (intermediate modulus) in kg\n",
      "m_c_C_im = m_m_C_im * epoxy_cost # Matrix cost for carbon (intermediate modulus) in USD\n",
      "Total_c_C_im = m_c_C_im + F_c_C_im # Total cost for carbon (intermediate modulus) in USD\n",
      "F_v_C_hm = Vc*Vf_c_high*1e6  # Fiber Volume in cm^3 for carbon (high modulus)\n",
      "F_m_C_hm = F_v_C_hm * d_C_hm/1000 # Fiber mass for carbon (high modulus) in kg\n",
      "F_c_C_hm = F_m_C_hm * C_hm_cost # Fiber cost for carbon (high modulus) in USD\n",
      "m_v_C_hm = Vc*(1-Vf_c_high)*1e6 # Matrix Volume in cm^3 for carbon (high modulus)\n",
      "m_m_C_hm = m_v_C_hm * d_epoxy/1000 # Matrix mass for carbon (high modulus) in kg\n",
      "m_c_C_hm = m_m_C_hm * epoxy_cost # Matrix cost for carbon (high modulus) in USD\n",
      "Total_c_C_hm = m_c_C_hm + F_c_C_hm # Total cost for carbon (high modulus) in USD\n",
      "\n",
      "#result\n",
      "print\" Cost of Carbon (standard modulus) composite is:%.2f \" %Total_c_C_sm # whereas Value in table is 48.50 USD\n",
      "print\" Cost of Carbon (intermediate modulus) composite is:%.2f \" %Total_c_C_im# whereas Value in table is 71.10 USD\n",
      "print\"  Cost of Carbon (high modulus) composite is:%.2f \" %Total_c_C_hm # whereas Value in table is 115.00 USD\n",
      "print\" The material of choice (i.e. least expensive)  is standard modulus carbon fiber composite; the relatively low cost per unit mass of this fiber offsets its relatively low modulus of elasticity and  required high Volume fraction.\"\n"
     ],
     "language": "python",
     "metadata": {},
     "outputs": [
      {
       "output_type": "stream",
       "stream": "stdout",
       "text": [
        " Carbon (standard modulus), when embedded in epoxy matrix, meet the stipulated criteria. \n",
        " Carbon (intermediate modulus), when embedded in epoxy matrix, meet the stipulated criteria. \n",
        " Carbon (high modulus), when embedded in epoxy matrix, meet the stipulated criteria.\n",
        " Cost of Carbon (standard modulus) composite is:48.47 \n",
        " Cost of Carbon (intermediate modulus) composite is:71.04 \n",
        "  Cost of Carbon (high modulus) composite is:115.84 \n",
        " The material of choice (i.e. least expensive)  is standard modulus carbon fiber composite; the relatively low cost per unit mass of this fiber offsets its relatively low modulus of elasticity and  required high Volume fraction.\n"
       ]
      }
     ],
     "prompt_number": 14
    }
   ],
   "metadata": {}
  }
 ]
}