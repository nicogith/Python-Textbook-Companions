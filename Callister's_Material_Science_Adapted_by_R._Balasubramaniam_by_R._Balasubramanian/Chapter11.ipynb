{
 "metadata": {
  "name": "",
  "signature": "sha256:94d96ade5090af35a7be10a4e4f413cd23d066b461f5c60d5c410a06fb9b94fe"
 },
 "nbformat": 3,
 "nbformat_minor": 0,
 "worksheets": [
  {
   "cells": [
    {
     "cell_type": "heading",
     "level": 1,
     "metadata": {},
     "source": [
      "Chapter 11: Failure of Meatls"
     ]
    },
    {
     "cell_type": "heading",
     "level": 2,
     "metadata": {},
     "source": [
      "Example 11.1 Page 396"
     ]
    },
    {
     "cell_type": "code",
     "collapsed": false,
     "input": [
      "#initiation of variable\n",
      "from math import pi\n",
      "sigma=40.0*10**6 # in Pa  Tensile stress\n",
      "E=69.0*10**9  #Modulus of elasticity  in pa\n",
      "Ys=0.3  #Specific surface energy  in N/m^2\n",
      "\n",
      "\n",
      "#calculation\n",
      "a=2*E*Ys/(pi*sigma**2) #Maximum length of surface flaw\n",
      "\n",
      "print\" Maximum length of surface flaw without fracture is %.1f micro meter \" %(a*1e6);"
     ],
     "language": "python",
     "metadata": {},
     "outputs": [
      {
       "output_type": "stream",
       "stream": "stdout",
       "text": [
        " Maximum length of surface flaw without fracture is 8.2 micro meter \n"
       ]
      }
     ],
     "prompt_number": 3
    },
    {
     "cell_type": "heading",
     "level": 2,
     "metadata": {},
     "source": [
      "Example 11.3 (Design Problem 11.2) Page 421"
     ]
    },
    {
     "cell_type": "code",
     "collapsed": false,
     "input": [
      "#initiation of variable\n",
      "T=800+273.0;  # Ambient temperature  in K\n",
      "#stress is 140 MPa\n",
      "L_M=24.0*10**3 # Larson - miller parameter \n",
      "#From Graph of Fig. 8.32 Larson-Miller Parameter is deduced\n",
      "\n",
      "#calculation\n",
      "t=10**((L_M/T)-20)\n",
      "print\" Time to rupture for a component is %d hours\" %t,\"(%.1f days)\" %(t/(24.0))\n",
      "print \"Answer in book is 233 hours. it is because of approximation at intermediate stage\"\n"
     ],
     "language": "python",
     "metadata": {},
     "outputs": [
      {
       "output_type": "stream",
       "stream": "stdout",
       "text": [
        " Time to rupture for a component is 232 hours (9.7 days)\n",
        "Answer in book is 233 hours. it is because of approximation at intermediate stage\n"
       ]
      }
     ],
     "prompt_number": 4
    }
   ],
   "metadata": {}
  }
 ]
}