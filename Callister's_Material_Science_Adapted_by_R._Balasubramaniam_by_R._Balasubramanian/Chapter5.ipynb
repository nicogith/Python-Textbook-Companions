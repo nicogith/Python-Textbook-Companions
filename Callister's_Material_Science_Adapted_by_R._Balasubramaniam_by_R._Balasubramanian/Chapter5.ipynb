{
 "metadata": {
  "name": "",
  "signature": "sha256:20acc45e5b683c7de1952e9c7efd7aebcd1c855dc451b9afce999f4ba45c7ed6"
 },
 "nbformat": 3,
 "nbformat_minor": 0,
 "worksheets": [
  {
   "cells": [
    {
     "cell_type": "heading",
     "level": 1,
     "metadata": {},
     "source": [
      "Chapter 5:Imperfection in Solids"
     ]
    },
    {
     "cell_type": "heading",
     "level": 2,
     "metadata": {},
     "source": [
      "Example 5.1 Page 112"
     ]
    },
    {
     "cell_type": "code",
     "collapsed": false,
     "input": [
      "#initiation of variable\n",
      "from math import exp\n",
      "Na=6.023*10**23 #Avogadro No.\n",
      "rho=8.4e6 #Density of Copper in g/m^3\n",
      "A=63.5 #Atomic weight of Copper\n",
      "Qv=0.9 #Activation energy in eV\n",
      "k=8.62*10**-5 #Boltzmann Constant in eV/K\n",
      "T=1000.0+273#Temperature in K\n",
      "\n",
      "#calculation\n",
      "N=Na*rho/A #No. of atomic site per cubic meter\n",
      "Nv=N*exp(-Qv/(k*T))\n",
      "\n",
      "#result\n",
      "print\" Equilibrium number of vacancies/m^3 is %.1e for 1273K\" %Nv"
     ],
     "language": "python",
     "metadata": {},
     "outputs": [
      {
       "output_type": "stream",
       "stream": "stdout",
       "text": [
        " Equilibrium number of vacancies/m^3 is 2.2e+25 for 1273K\n"
       ]
      }
     ],
     "prompt_number": 1
    },
    {
     "cell_type": "heading",
     "level": 2,
     "metadata": {},
     "source": [
      "Example 5.2 Page 117"
     ]
    },
    {
     "cell_type": "code",
     "collapsed": false,
     "input": [
      "#initiation of variable\n",
      "#proving equation to be correct for sample values\n",
      "C1=5.0;\n",
      "C2=3.0;\n",
      "A1=9.0;\n",
      "A2=15.0;\n",
      "C1_dash=50.0;\n",
      "\n",
      "#calculation\n",
      "C11=C1*A1/(C1*A1+C2*A2)*100;\n",
      "if C11==C1_dash :\n",
      "    print \"The equation derived i.e C1_dash=C1*A1/(C1*A1+C2*A2)*100 is correct\"\n",
      "    \n",
      "    "
     ],
     "language": "python",
     "metadata": {},
     "outputs": [
      {
       "output_type": "stream",
       "stream": "stdout",
       "text": [
        "The equation derived i.e C1_dash=C1*A1/(C1*A1+C2*A2)*100 is correct\n"
       ]
      }
     ],
     "prompt_number": 2
    },
    {
     "cell_type": "heading",
     "level": 2,
     "metadata": {},
     "source": [
      "Example 5.3 Page 118"
     ]
    },
    {
     "cell_type": "code",
     "collapsed": false,
     "input": [
      "#initiation of variable\n",
      "C_Al=97.0 #Aluminium wt%\n",
      "C_Cu=3.0 #Copper wt%\n",
      "A_Al=26.98 #Atomic wt of Aluminium\n",
      "A_Cu=63.55 #Atomic wt of Copper\n",
      "\n",
      "#calculation\n",
      "CAl=C_Al*A_Cu*100/((C_Al*A_Cu)+(C_Cu*A_Al))\n",
      "CCu=C_Cu*A_Al*100/((C_Cu*A_Al)+(C_Al*A_Cu))\n",
      "\n",
      "#result\n",
      "print \" Atomic percent of Al is %.1f  percent\" %CAl \n",
      "print \" Atomic percent of Cu is %.1f  percent\" %CCu "
     ],
     "language": "python",
     "metadata": {},
     "outputs": [
      {
       "output_type": "stream",
       "stream": "stdout",
       "text": [
        " Atomic percent of Al is 98.7 in percent\n",
        " Atomic percent of Cu is 1.3 in percent\n"
       ]
      }
     ],
     "prompt_number": 7
    },
    {
     "cell_type": "heading",
     "level": 2,
     "metadata": {},
     "source": [
      "Example 5.4 Page 121"
     ]
    },
    {
     "cell_type": "code",
     "collapsed": false,
     "input": [
      "#initiation of variable\n",
      "from math import exp\n",
      "Na=6.023*10**23 #Avogadro No.\n",
      "rho=1.955 #Density of KCl in g/cm^3\n",
      "A_k= 39.10 #Atomic weight of potassium in g/mol\n",
      "A_cl= 35.45 #Atomic weight of Chlorine in g/mol\n",
      "Qs=2.6 #Activation energy in eV\n",
      "k=8.62*10**-5 #Boltzmann Constant in eV/K\n",
      "T=500+273.0 #Temperature in K\n",
      "\n",
      "#result\n",
      "A = A_k+A_cl # Molar mass of KCl in gram\n",
      "N=Na*rho*1.0e6/A #No. of atomic site per cubic meter\n",
      "Ns=N*exp(-Qs/(2*k*T))\n",
      "\n",
      "#result\n",
      "print\" Number of Schottky defects are %.2e defects/m^3.\" %Ns"
     ],
     "language": "python",
     "metadata": {},
     "outputs": [
      {
       "output_type": "stream",
       "stream": "stdout",
       "text": [
        " Number of Schottky defects are 5.31e+19 defects/m^3.\n"
       ]
      }
     ],
     "prompt_number": 8
    },
    {
     "cell_type": "heading",
     "level": 2,
     "metadata": {},
     "source": [
      "Example 5.5 Page 122"
     ]
    },
    {
     "cell_type": "code",
     "collapsed": false,
     "input": [
      "#initiation of variable\n",
      "print \"the are two possible scenarios\"\n",
      "print \"scenario 1, removal of Na+ ion will intoduce vacancy in the NaCl crystal\"\n",
      "print \"scenario 2, addition of Cl- ion wil fill up any additional void left\"\n",
      "print \"since there is no way to predict which will happen at large thus can be assumed 50% each so, there is very less chances of creating a void\""
     ],
     "language": "python",
     "metadata": {},
     "outputs": [
      {
       "output_type": "stream",
       "stream": "stdout",
       "text": [
        "the are two possible scenarios\n",
        "scenario 1, removal of Na+ ion will intoduce vacancy in the NaCl crystal\n",
        "scenario 2, addition of Cl- ion wil fill up any additional void left\n",
        "since there is no way to predict which will happen at large thus can be assumed 50% each so, there is very less chances of creating a void\n"
       ]
      }
     ],
     "prompt_number": 9
    },
    {
     "cell_type": "heading",
     "level": 2,
     "metadata": {},
     "source": [
      "Example 5.6 Page 138"
     ]
    },
    {
     "cell_type": "code",
     "collapsed": false,
     "input": [
      "#initiation of variable\n",
      "from math import log\n",
      "N=45.0 #Number of grains per square inch\n",
      "M=85.0 # magnification\n",
      "\n",
      "#part A\n",
      "#calculation\n",
      "n=(log(N)/log(2.0))+1 #calculation for grain size no.  N=2^(n-1)\n",
      "\n",
      "#result\n",
      "print\" Grain size number is %.1f\" %n\n",
      "\n",
      "#part B\n",
      "Nm=(100/M)**2*2**(n-1)\n",
      "\n",
      "#result\n",
      "print\" At magnification of 85x\"\n",
      "print\" Number of grains per inch square are %.2f\" %Nm\n",
      "print \"answer in book is 62.6. It is because of rounding off at intermediate stages\"\n"
     ],
     "language": "python",
     "metadata": {},
     "outputs": [
      {
       "output_type": "stream",
       "stream": "stdout",
       "text": [
        " Grain size number is 6.5\n",
        " At magnification of 85x\n",
        " Number of grains per inch square are 62.28\n",
        "answer in book is 62.6. It is because of rounding off at intermediate stages\n"
       ]
      }
     ],
     "prompt_number": 11
    }
   ],
   "metadata": {}
  }
 ]
}