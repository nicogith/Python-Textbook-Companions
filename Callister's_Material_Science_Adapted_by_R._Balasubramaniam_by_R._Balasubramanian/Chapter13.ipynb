{
 "metadata": {
  "name": "",
  "signature": "sha256:0e1949e603f323a5873af8d2bd36a47d531c317962e82fce4bbb093095b5b471"
 },
 "nbformat": 3,
 "nbformat_minor": 0,
 "worksheets": [
  {
   "cells": [
    {
     "cell_type": "heading",
     "level": 1,
     "metadata": {},
     "source": [
      "Chapter 13: Structure of Polymer"
     ]
    },
    {
     "cell_type": "heading",
     "level": 2,
     "metadata": {},
     "source": [
      "Exmple 13.1 Page 476"
     ]
    },
    {
     "cell_type": "code",
     "collapsed": false,
     "input": [
      "#initiation of variable\n",
      "m1 = 7500.0 # Mean molecular weight in g/mol\n",
      "m2 = 12500.0 # Mean molecular weight in g/mol\n",
      "m3 = 17500.0 # Mean molecular weight in g/mol\n",
      "m4 = 22500.0 # Mean molecular weight in g/mol\n",
      "m5 = 27500.0 # Mean molecular weight in g/mol\n",
      "m6 = 32500.0 # Mean molecular weight in g/mol\n",
      "m7 = 37500.0 # Mean molecular weight in g/mol\n",
      "x1 = 0.05 # Mole fraction\n",
      "x2 = 0.16 # Mole fraction\n",
      "x3 = 0.22 # Mole fraction\n",
      "x4 = 0.27 # Mole fraction\n",
      "x5 = 0.20 # Mole fraction\n",
      "x6 = 0.08 # Mole fraction\n",
      "x7 = 0.02 # Mole fraction\n",
      "w1 = 0.02 # weight fraction\n",
      "w2 = 0.10# weight fraction\n",
      "w3 = 0.18# weight fraction\n",
      "w4 = 0.29# weight fraction\n",
      "w5 = 0.26# weight fraction\n",
      "w6 = 0.13# weight fraction\n",
      "w7 = 0.02# weight fraction\n",
      "m_c = 12.01 # molar mass of carbon in gram/mole\n",
      "m_h = 1.01 # molar mass of hydrogen in gram/mole\n",
      "m_cl = 35.45 # molar mass of chlorine in gram/mole\n",
      "\n",
      "# Part A:\n",
      "#calculation\n",
      "M_n = m1*x1+m2*x2+m3*x3+m4*x4+m5*x5+m6*x6+m7*x7\n",
      "\n",
      "#result\n",
      "print\" The number average molecular weight is %d gram/mol\" %M_n\n",
      "\n",
      "#Part B:\n",
      "m = 2*m_c+3*m_h+1*m_cl # Mass of repeating unit\n",
      "DP = M_n/m\n",
      "\n",
      "#result\n",
      "print\" The degree of polimarization is %d \" %DP\n",
      "\n",
      "#Part C:\n",
      "M_w = m1*w1+m2*w2+m3*w3+m4*w4+m5*w5+m6*w6+m7*w7\n",
      "\n",
      "#result\n",
      "print\" The weight average molecular weight is %d gram/mol\" %M_w"
     ],
     "language": "python",
     "metadata": {},
     "outputs": [
      {
       "output_type": "stream",
       "stream": "stdout",
       "text": [
        " The number average molecular weight is 21150 gram/mol\n",
        " The degree of polimarization is 338 \n",
        " The weight average molecular weight is 23200 gram/mol\n"
       ]
      }
     ],
     "prompt_number": 1
    }
   ],
   "metadata": {}
  }
 ]
}