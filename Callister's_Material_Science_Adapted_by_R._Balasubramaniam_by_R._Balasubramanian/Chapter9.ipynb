{
 "metadata": {
  "name": "",
  "signature": "sha256:bd57519428b9229220ba02c8db8befca7a7dcf4a4e7eb98b4822a1a5e1796522"
 },
 "nbformat": 3,
 "nbformat_minor": 0,
 "worksheets": [
  {
   "cells": [
    {
     "cell_type": "heading",
     "level": 1,
     "metadata": {},
     "source": [
      "Chapter 9:Mechanical Properties of Metals"
     ]
    },
    {
     "cell_type": "heading",
     "level": 2,
     "metadata": {},
     "source": [
      "Example 9.1 Page 310"
     ]
    },
    {
     "cell_type": "code",
     "collapsed": false,
     "input": [
      "#initiation of variable\n",
      "from math import acos, asin, sqrt, cos, sin\n",
      "E=110.0*10**3  #Young's modulus of Copper in MPa\n",
      "sigma=276.0   #Applied stress in MPa\n",
      "l_o=305.0     #Original length in mm\n",
      "\n",
      "#calculation\n",
      "del_l=sigma*l_o/E #Deformation\n",
      "\n",
      "#result\n",
      "print\" Elongation obtained is %.2f mm \\n\" %del_l\n"
     ],
     "language": "python",
     "metadata": {},
     "outputs": [
      {
       "output_type": "stream",
       "stream": "stdout",
       "text": [
        " Elongation obtained is 0.77 mm \n",
        "\n"
       ]
      }
     ],
     "prompt_number": 1
    },
    {
     "cell_type": "heading",
     "level": 2,
     "metadata": {},
     "source": [
      "Example 9.2 Page 312"
     ]
    },
    {
     "cell_type": "code",
     "collapsed": false,
     "input": [
      "#initiation of variable\n",
      "from math import acos, asin, sqrt, cos, sin, pi\n",
      "del_d=-2.5*10**-3 #Deformation in diameter in mm\n",
      "d_0=10.0   #Initial diameter in mm\n",
      "v=0.34 #Poisson ratio for brass\n",
      "E=97*10**3 #Modulus of elasticity in MPa\n",
      "\n",
      "#calculation\n",
      "e_x=del_d/d_0 # Strain in x-direction\n",
      "e_z=-e_x/v\n",
      "sigma=e_z*E      # Stress produced\n",
      "F=sigma*pi*(d_0**2)/4\n",
      "\n",
      "#result\n",
      "print\" Strain in x-direction is %.1e\" %e_x \n",
      "print\" Strain in z-direction is %.2e\" %e_z\n",
      "print\" Applied force is %d N\" %F\n",
      "print \" Answer in book is 5600N. It is due to rounding off at intermediate steps\""
     ],
     "language": "python",
     "metadata": {},
     "outputs": [
      {
       "output_type": "stream",
       "stream": "stdout",
       "text": [
        " Strain in x-direction is -2.5e-04\n",
        " Strain in z-direction is 7.35e-04\n",
        " Applied force is 5601 N\n",
        " Answer in book is 5600N. It is due to rounding off at intermediate steps\n"
       ]
      }
     ],
     "prompt_number": 3
    },
    {
     "cell_type": "heading",
     "level": 2,
     "metadata": {},
     "source": [
      "Example 9.3 Page 316"
     ]
    },
    {
     "cell_type": "code",
     "collapsed": false,
     "input": [
      "#initiation of variable\n",
      "from math import acos, asin, sqrt, cos, sin, pi, floor\n",
      "sigma_2=150.0 # Stress at a point in MPa\n",
      "sigma_1=0.0 # Stress at a point in MPa\n",
      "epsilon_2=0.0016 # Strain at a point in MPa\n",
      "epsilon_1=0.0 # Strain at a point in MPa\n",
      "d_0=12.8*10**-3 #Initial Diameter in m\n",
      "sigma=450.0*10**6     #tensile strength in MPa\n",
      "l0=250.0;     #Initial length in mm\n",
      "e=0.06;     #strain\n",
      "\n",
      "\n",
      "# Part A\n",
      "#calculation\n",
      "E=(sigma_2-sigma_1)/(epsilon_2-epsilon_1) #Young's Modulus = stress/strain\n",
      "\n",
      "#result\n",
      "print \" Modulus of elasticity is %.1f GPa  which is very close to its true value 97 GPa\" %(E/10**3)\n",
      "\n",
      "# Part C\n",
      "A_0=pi*d_0**2/4.0\n",
      "F=sigma*A_0\n",
      "dl=e*l0\n",
      "\n",
      "#result\n",
      "print\" Maximum load sustained is %d N\" %(floor(F/10)*10)\n",
      "\n",
      "#part D\n",
      "print\" Change in length is %d mm\" %dl;"
     ],
     "language": "python",
     "metadata": {},
     "outputs": [
      {
       "output_type": "stream",
       "stream": "stdout",
       "text": [
        " Modulus of elasticity is 93.8 GPa  which is very close to its true value 97 GPa\n",
        " Maximum load sustained is 57900 N\n",
        " Change in length is 15 mm\n"
       ]
      }
     ],
     "prompt_number": 6
    },
    {
     "cell_type": "heading",
     "level": 2,
     "metadata": {},
     "source": [
      "Example 9.4 Page 323"
     ]
    },
    {
     "cell_type": "code",
     "collapsed": false,
     "input": [
      "#initiation of variable\n",
      "from math import acos, asin, sqrt, cos, sin, pi, floor\n",
      "di=12.8 #Initial diameter in mm\n",
      "df=10.7 #Final diameter  in mm\n",
      "sigma=460.0*10**6     #Tensile strength\n",
      "\n",
      "\n",
      "# Part A\n",
      "#calculation\n",
      "RA = ((di**2-df**2)/di**2)*100 #Ductility in terms of Reduction Area \n",
      "\n",
      "#result\n",
      "print\" Percent reduction in area is %d\" %RA\n",
      "\n",
      "# Part B\n",
      "A_o=pi*di**2*10**-6/4.0\n",
      "F=sigma*A_o \n",
      "Af=pi*df**2/4 \n",
      "sigma_t=F/Af \n",
      "\n",
      "#result\n",
      "print\" True stress at failure is %d MPa\" %sigma_t \n",
      "print \"Answer in book is 660. It is due to founding off at intermediate stage\""
     ],
     "language": "python",
     "metadata": {},
     "outputs": [
      {
       "output_type": "stream",
       "stream": "stdout",
       "text": [
        " Percent reduction in area is 30\n",
        " True stress at failure is 658 MPa\n",
        "Answer in book is 660. It is due to founding off at intermediate stage\n"
       ]
      }
     ],
     "prompt_number": 8
    },
    {
     "cell_type": "heading",
     "level": 2,
     "metadata": {},
     "source": [
      "Example 9.5 Page 323"
     ]
    },
    {
     "cell_type": "code",
     "collapsed": false,
     "input": [
      "#initiation of variable\n",
      "from math import acos, asin, sqrt, cos, sin, pi, floor, log\n",
      "sigma_t=415.0 #True stress in MPa\n",
      "et=0.1 #True strain\n",
      "K=1035.0 # Bulk modulus in MPa\n",
      "\n",
      "#calculation\n",
      "n=log(sigma_t/K)/log(et)\n",
      "\n",
      "#result\n",
      "print\" Strain hardening coefficient is %.2f\" %n;\n"
     ],
     "language": "python",
     "metadata": {},
     "outputs": [
      {
       "output_type": "stream",
       "stream": "stdout",
       "text": [
        " Strain hardening coefficient is 0.40\n"
       ]
      }
     ],
     "prompt_number": 9
    },
    {
     "cell_type": "heading",
     "level": 2,
     "metadata": {},
     "source": [
      "Example 9.6 Page 332"
     ]
    },
    {
     "cell_type": "code",
     "collapsed": false,
     "input": [
      "#initiation of variable\n",
      "%pylab inline\n",
      "import numpy as np\n",
      "import matplotlib.pyplot as plt\n",
      "from math import acos, asin, sqrt, cos, sin, pi, floor, log\n",
      "n=[0.0, 1.0, 2.0, 3.0, 4.0, 5.0]\n",
      "T_S=[510.0, 520.0, 512.0, 515.0, 522.0, 530]\n",
      "\n",
      "#First and Last points are arbitrary to plot the required points\n",
      "\n",
      "#partA\n",
      "plt.plot(n,T_S,'ro')\n",
      "plt.xlabel('sample number')\n",
      "plt.ylabel('Tensile Strength (Mpa)')\n",
      "plt.title('Tensile Strength vs Sample Number')\n",
      "plt.show()\n",
      "\n",
      "#Mean Tensile strength\n",
      "i=2;\n",
      "TS_mean=0;\n",
      "\n",
      "for i in range (1,5):\n",
      "    TS_mean=TS_mean+(T_S[i]/4);\n",
      "\n",
      "print \" Average tensile strength is %d MPa.\" %TS_mean;\n",
      "#Standard Deviation\n",
      "\n",
      "#partB\n",
      "j=0\n",
      "std=0\n",
      "\n",
      "for i in range (1,5):\n",
      "    std=std+((T_S[i]-TS_mean)**2/(4.0-1))\n",
      "\n",
      "\n",
      "print\" Standard deviation is %.1f MPa\" %(sqrt(std))"
     ],
     "language": "python",
     "metadata": {},
     "outputs": [
      {
       "output_type": "stream",
       "stream": "stdout",
       "text": [
        "Populating the interactive namespace from numpy and matplotlib\n"
       ]
      },
      {
       "output_type": "stream",
       "stream": "stderr",
       "text": [
        "WARNING: pylab import has clobbered these variables: ['sin', 'std', 'cos', 'sqrt', 'log', 'pi', 'floor']\n",
        "`%matplotlib` prevents importing * from pylab and numpy\n"
       ]
      },
      {
       "metadata": {},
       "output_type": "display_data",
       "png": "[encoded data removed]",
       "text": [
        "<matplotlib.figure.Figure at 0xa470a20>"
       ]
      },
      {
       "output_type": "stream",
       "stream": "stdout",
       "text": [
        " Average tensile strength is 517 MPa.\n",
        " Standard deviation is 4.6 MPa\n"
       ]
      }
     ],
     "prompt_number": 21
    },
    {
     "cell_type": "heading",
     "level": 2,
     "metadata": {},
     "source": [
      "Example 9.7 (Design Problem 9.1) Page 334"
     ]
    },
    {
     "cell_type": "code",
     "collapsed": false,
     "input": [
      "#initiation of variable\n",
      "import numpy as np\n",
      "import matplotlib.pyplot as plt\n",
      "from math import acos, asin, sqrt, cos, sin, pi, floor, log\n",
      "f = 220000.0 # Maximum load in N\n",
      "sigma_y = 310.0 # Minimum field strength in MPa\n",
      "sigma_t = 565.0 # Tensile strength strength in MPa\n",
      "N= 5.0 # Factor of safety\n",
      "\n",
      "#calculation\n",
      "sigma_w = sigma_y*1.0e6/N\n",
      "d = 2*sqrt (f/(2*pi*sigma_w))# Calculation of diameter\n",
      "\n",
      "#result\n",
      "print\" Diameter of each of two rods should be %.1f mm\" %(d*1e3)"
     ],
     "language": "python",
     "metadata": {},
     "outputs": [
      {
       "output_type": "stream",
       "stream": "stdout",
       "text": [
        " Diameter of each of two rods should be 47.5 mm\n"
       ]
      }
     ],
     "prompt_number": 24
    }
   ],
   "metadata": {}
  }
 ]
}