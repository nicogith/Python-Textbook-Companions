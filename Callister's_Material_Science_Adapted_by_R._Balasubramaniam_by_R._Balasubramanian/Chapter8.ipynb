{
 "metadata": {
  "name": "",
  "signature": "sha256:783b082113265ae60cfb4489cd79045e3d5c6536cde6977fa8c47529de9b595d"
 },
 "nbformat": 3,
 "nbformat_minor": 0,
 "worksheets": [
  {
   "cells": [
    {
     "cell_type": "heading",
     "level": 1,
     "metadata": {},
     "source": [
      "Chapter 8: Phase transformation"
     ]
    },
    {
     "cell_type": "heading",
     "level": 2,
     "metadata": {},
     "source": [
      "Example 8.1 Page 236"
     ]
    },
    {
     "cell_type": "code",
     "collapsed": false,
     "input": [
      "#initiation of variable\n",
      "from math import pi\n",
      "Hf=-1.16*10**9  #  Latent heat of fusion in J/m^3 \n",
      "Y=0.132  #   Surface energy in J/m^2\n",
      "Tm=1064+273.0  # Melting point of gold in K  \n",
      "T=1064+273-230.0  #  230 is supercoiling value in K \n",
      "a=0.413*10**-9  #  Unit Cell edge length in m \n",
      "n = 4.0 # Number of atoms in a FCC unit cell\n",
      "\n",
      "#part A\n",
      "#calculation\n",
      "r=-2*Y*Tm/(Hf*(Tm-T));\n",
      "G=16*pi*Y**3*Tm**2/(3*Hf**2*(Tm-T)**2);\n",
      "\n",
      "#result\n",
      "print\" Critical Radius is : %.2f nm\" %(r/10**-9);\n",
      "print\" Activation free energy is : %.2e J\" %G \n",
      "print \"Answer in book is 9.64e-19 J. It is due to approximation at intermediate stage\"\n",
      "\n",
      "#part B\n",
      "u_c=4*pi*r**3/(3*a**3)\n",
      "tot_uc = n*int(u_c) # Total no. of atoms per critical nucleus\n",
      "\n",
      "#result\n",
      "print\" Unit cells per paricle are : %d\" %u_c;\n",
      "print\" Total no. of atoms per critical nucleus are : %d\" %tot_uc;"
     ],
     "language": "python",
     "metadata": {},
     "outputs": [
      {
       "output_type": "stream",
       "stream": "stdout",
       "text": [
        " Critical Radius is : 1.32 nm\n",
        " Activation free energy is : 9.68e-19 J\n",
        "Answer in book is 9.64e-19 J. It is due to approximation at intermediate stage\n",
        " Unit cells per paricle are : 137\n",
        " Total no. of atoms per critical nucleus are : 548\n"
       ]
      }
     ],
     "prompt_number": 2
    },
    {
     "cell_type": "heading",
     "level": 2,
     "metadata": {},
     "source": [
      "Example 8.2 Page 252"
     ]
    },
    {
     "cell_type": "code",
     "collapsed": false,
     "input": [
      "#initiation of variable\n",
      "#part A\n",
      "t1=10\n",
      "print \" At 350C the isothermic reaction begins time\",t1, \"s and reaches completion of about 500s completion time\"\n",
      "\n",
      "#partB\n",
      "t2=150\n",
      "print \" In this case it takes about time\",t2,\"s for the reaction to begin and so, at 100s the specimen is 100% austenite\"\n",
      "\n",
      "#partC\n",
      "t3=7\n",
      "print \"In this case reaction begins after time\",t3,\"s and at about 20s 50% of reaction is complete\""
     ],
     "language": "python",
     "metadata": {},
     "outputs": [
      {
       "output_type": "stream",
       "stream": "stdout",
       "text": [
        " At 350C the isothermic reaction begins time 10 s and reaches completion of about 500s completion time\n",
        " In this case it takes about time 150 s for the reaction to begin and so, at 100s the specimen is 100% austenite\n",
        "In this case reaction begins after time 7 s and at about 20s 50% of reaction is complete\n"
       ]
      }
     ],
     "prompt_number": 5
    }
   ],
   "metadata": {}
  }
 ]
}