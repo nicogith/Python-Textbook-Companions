{
 "metadata": {
  "name": "",
  "signature": "sha256:0284fff4f47eb2639cc82048f0e13c7db511b027408d915d394758b69f4b0675"
 },
 "nbformat": 3,
 "nbformat_minor": 0,
 "worksheets": [
  {
   "cells": [
    {
     "cell_type": "heading",
     "level": 1,
     "metadata": {},
     "source": [
      "Chapter 18:Magnetic Properties"
     ]
    },
    {
     "cell_type": "heading",
     "level": 2,
     "metadata": {},
     "source": [
      "Example 18.1 Page 688"
     ]
    },
    {
     "cell_type": "code",
     "collapsed": false,
     "input": [
      "#initiation of variable\n",
      "from math import pi\n",
      "b_m=9.27*10**-24 # Bohr Magneton in ampere*m^2 \n",
      "Na=6.023*10**23  #Avogadro's Number\n",
      "d=8.9*10**6  # density in g/m^3  \n",
      "uo=4*pi*10**-7  #Permittivity of free space\n",
      "A=58.71  # Atomic weight of Nickel g/mol \n",
      "\n",
      "#calculation\n",
      "N=d*Na/A  #No. of atoms per cubic meter\n",
      "M=0.6*b_m*N  #0.6= Bohr Magneton/atom\n",
      "#partA\n",
      "#results\n",
      "print\" Saturation Magnetization is %.1e Ampere\" %M\n",
      "\n",
      "# Part B\n",
      "M=0.6*b_m*N  #0.6= Bohr Magneton/atom\n",
      "B=uo*M\n",
      "\n",
      "#results\n",
      "print\" Saturation Flux Density is %.2f Tesla\" %B;"
     ],
     "language": "python",
     "metadata": {},
     "outputs": [
      {
       "output_type": "stream",
       "stream": "stdout",
       "text": [
        " Saturation Magnetization is 5.1e+05 Ampere\n",
        " Saturation Flux Density is 0.64 Tesla\n"
       ]
      }
     ],
     "prompt_number": 1
    },
    {
     "cell_type": "heading",
     "level": 2,
     "metadata": {},
     "source": [
      "Example 18.2 Page 692"
     ]
    },
    {
     "cell_type": "code",
     "collapsed": false,
     "input": [
      "#initiation of variable\n",
      "a=0.839*10**-9 #a is edge length in m\n",
      "b_m=9.27*10**-24 # Bohr Magneton in ampere*m^2\n",
      "n_b=8*4    #8 is no. of Fe++ ions per unit cell and 4 is Bohr magnetons per Fe++ ion\n",
      "\n",
      "#calculation\n",
      "M=n_b*b_m/a**3  #M is Saturation magnetisation\n",
      "\n",
      "#result\n",
      "print\" Saturation Magnetization is %.1e Ampere\" %M"
     ],
     "language": "python",
     "metadata": {},
     "outputs": [
      {
       "output_type": "stream",
       "stream": "stdout",
       "text": [
        " Saturation Magnetization is 5.0e+05 Ampere\n"
       ]
      }
     ],
     "prompt_number": 2
    },
    {
     "cell_type": "heading",
     "level": 2,
     "metadata": {},
     "source": [
      "Example 18.3 (Design Problem 18.1) Page 692"
     ]
    },
    {
     "cell_type": "code",
     "collapsed": false,
     "input": [
      "#initiation of variable\n",
      "from sympy import *\n",
      "x = symbols('x')\n",
      "from sympy import roots, solve_poly_system\n",
      "Ms_Fe=5.25*10**5;  #Required saturation Magnetisation in A/m\n",
      "b_m=9.27*10**-24; #Bohr Magneton in ampere*m^2 \n",
      "a=0.839*10**-9; #a is edge length in m\n",
      "M=5.0*10**5;  #From previous question result\n",
      "\n",
      "#result\n",
      "nb=Ms_Fe*a**3/b_m;\n",
      "# 'x' represent fraction of Mn++ that have substituted Fe++\n",
      "n=solve(8*(5*x+4*(1-x))-nb,x);  #5 is Bohr magnetons per Fe++ ion\n",
      "                              #4 is Bohr magnetons per Mn++ ion\n",
      "print\" Replacing \", round((n[0]),3),\"of Fe++ with Mn++ would produce the required saturation magnetisation of %.2e A\" %Ms_Fe;"
     ],
     "language": "python",
     "metadata": {},
     "outputs": [
      {
       "output_type": "stream",
       "stream": "stdout",
       "text": [
        " Replacing  0.181 of Fe++ with Mn++ would produce the required saturation magnetisation of 5.25e+05 A\n"
       ]
      }
     ],
     "prompt_number": 18
    }
   ],
   "metadata": {}
  }
 ]
}