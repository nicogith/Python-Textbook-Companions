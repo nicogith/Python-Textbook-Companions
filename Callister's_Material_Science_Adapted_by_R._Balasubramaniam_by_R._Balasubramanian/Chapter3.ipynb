{
 "metadata": {
  "name": "",
  "signature": "sha256:62f9e677d23fbb9801e0874d4ce7853165e00cdc22217903350463c83beff983"
 },
 "nbformat": 3,
 "nbformat_minor": 0,
 "worksheets": [
  {
   "cells": [
    {
     "cell_type": "heading",
     "level": 1,
     "metadata": {},
     "source": [
      "Chapter 3:Fundamentals of Structures of Crystalline Solids"
     ]
    },
    {
     "cell_type": "heading",
     "level": 2,
     "metadata": {},
     "source": [
      "Example 3.1 Page 43"
     ]
    },
    {
     "cell_type": "code",
     "collapsed": false,
     "input": [
      "#initiation of variables\n",
      "a= 0.48#let side of a unit cell\n",
      "b = 0.46#  let side of a unit cell\n",
      "c = 0.40 # let side of a unit cell\n",
      "p_x = 1.0/4\n",
      "p_y = 1\n",
      "p_z = 1.0/2\n",
      "\n",
      "#calculation\n",
      "qa = a*p_x # distance of point along x axis from origin in nm\n",
      "rb = b*p_y # distance of point along y axis from origin in nm\n",
      "sc = c*p_z # distance of point along z axis from origin\n",
      "\n",
      "#result\n",
      "print\" Point P (%.2f\" %p_x,\"%.2f\" %p_y,\"%.2f\" %p_z,\") corresponds to\",\n",
      "print \" %.2fnm\" %qa,\"%.2fnm\" %rb,\"%.2fnm \" %sc"
     ],
     "language": "python",
     "metadata": {},
     "outputs": [
      {
       "output_type": "stream",
       "stream": "stdout",
       "text": [
        " Point P (0.25 1.00 0.50 ) corresponds to  0.12nm 0.46nm 0.20nm \n"
       ]
      }
     ],
     "prompt_number": 2
    },
    {
     "cell_type": "heading",
     "level": 2,
     "metadata": {},
     "source": [
      "Example 3.2 Page 44"
     ]
    },
    {
     "cell_type": "code",
     "collapsed": false,
     "input": [
      "#initiation of variable\n",
      "print\"\\n\\nPoint \\t Fractional Length\\t       Point \\n\"\n",
      "print\"Number \\t x axix\\t y axix\\ z axix \\t Coordinate\"\n",
      "n = 1 # serial number\n",
      "\n",
      "for x in range (0,2) :\n",
      "    for y in range (0,2) :\n",
      "        for z in range (0,2) :\n",
      "            print \"%d\\t\" %n,\"  %.1f\" %x,\"     %0.1f\" %y,\"    %.1f\" %y,\"   %.1f\" %x,\" %.1f\"%y,\" %.1f \"%z\n",
      "            n = n+1\n",
      "        \n",
      "    \n",
      "\n",
      "x = 0.5# x coordinate for center point\n",
      "y = 0.5# y coordinate for center point\n",
      "z = 0.5# y coordinate for center point\n",
      "print \"%d\\t\" %n,\"  %.1f\" %x,\"     %0.1f\" %y,\"    %.1f\" %y,\"   %.1f\" %x,\" %.1f\"%y,\" %.1f \"%z\n",
      "print \"sequence of point number is changed to make problem programable \""
     ],
     "language": "python",
     "metadata": {},
     "outputs": [
      {
       "output_type": "stream",
       "stream": "stdout",
       "text": [
        "\n",
        "\n",
        "Point \t Fractional Length\t       Point \n",
        "\n",
        "Number \t x axix\t y axix\\ z axix \t Coordinate\n",
        "1\t  0.0      0.0     0.0    0.0  0.0  0.0 \n",
        "2\t  0.0      0.0     0.0    0.0  0.0  1.0 \n",
        "3\t  0.0      1.0     1.0    0.0  1.0  0.0 \n",
        "4\t  0.0      1.0     1.0    0.0  1.0  1.0 \n",
        "5\t  1.0      0.0     0.0    1.0  0.0  0.0 \n",
        "6\t  1.0      0.0     0.0    1.0  0.0  1.0 \n",
        "7\t  1.0      1.0     1.0    1.0  1.0  0.0 \n",
        "8\t  1.0      1.0     1.0    1.0  1.0  1.0 \n",
        "9\t  0.5      0.5     0.5    0.5  0.5  0.5 \n",
        "sequence of point number is changed to make problem programable \n"
       ]
      }
     ],
     "prompt_number": 5
    },
    {
     "cell_type": "heading",
     "level": 2,
     "metadata": {},
     "source": [
      "Example 3.3 Page 46"
     ]
    },
    {
     "cell_type": "code",
     "collapsed": false,
     "input": [
      "#initiation of variable\n",
      "a = 1.0 # let side of a unit cell\n",
      "b = 1.0 # let side of a unit cell\n",
      "c = 1.0 # let side of a unit cell\n",
      "x_proj = 0.5*a # x coordinate of point\n",
      "y_proj = 1.0*b # y coordinate of point\n",
      "z_proj = 0.0*c # z coordinate of point\n",
      "\n",
      "#calculation\n",
      "k = 1.0/x_proj\n",
      "x_reduction = x_proj*k # reduction in x direction\n",
      "y_reduction = y_proj*k # reduction in x direction\n",
      "z_reduction = z_proj*k # reduction in x direction\n",
      "\n",
      "print \" Indices of direction are as [%d\" %x_reduction,\" %d\" %y_reduction,\" %d\" %z_reduction,\"]\""
     ],
     "language": "python",
     "metadata": {},
     "outputs": [
      {
       "output_type": "stream",
       "stream": "stdout",
       "text": [
        " Indices of direction are as [1  2  0 ]\n"
       ]
      }
     ],
     "prompt_number": 7
    },
    {
     "cell_type": "heading",
     "level": 2,
     "metadata": {},
     "source": [
      "Example 3.4 Page 47"
     ]
    },
    {
     "cell_type": "code",
     "collapsed": false,
     "input": [
      "#initiation of variable\n",
      "import numpy as np\n",
      "#solving for a point on the vector\n",
      "a=5.0;\n",
      "O=[0,0,0] #origin\n",
      "a=[1,-1,0] # co-ordinate of the assumed point\n",
      "A= [x * 5 for x in a] \n",
      "\n",
      "#calcualtion\n",
      "OA=np.subtract(A,O); #vector\n",
      "OA=[x * 1.0/5 for x in OA]\n",
      "\n",
      "#result\n",
      "print \"the resultant vector in [x,y,z] respectively\",OA\n",
      "print  \"while in notation negative value is indicated by a bar over it\""
     ],
     "language": "python",
     "metadata": {},
     "outputs": [
      {
       "output_type": "stream",
       "stream": "stdout",
       "text": [
        "the resultant vector in [x,y,z] respectively [1.0, -1.0, 0.0]\n",
        "while in notation negative value is indicated by a bar over it\n"
       ]
      }
     ],
     "prompt_number": 17
    },
    {
     "cell_type": "heading",
     "level": 2,
     "metadata": {},
     "source": [
      "Example 3.5 Page 49"
     ]
    },
    {
     "cell_type": "code",
     "collapsed": false,
     "input": [
      "#initiation of variable\n",
      "u1 = 1.0 # Unit cell parameter\n",
      "v1 = 1.0 # Unit cell parameter\n",
      "w1 = 1.0 # Unit cell parameter\n",
      "\n",
      "#calcualtion\n",
      "u_1 = 1.0/3*(2*u1-v1)\n",
      "v_1 = 1.0/3*(2*v1-u1)\n",
      "t_1 = -(u_1+v_1)\n",
      "w_1 = w1\n",
      "k = 1.0/u_1\n",
      "u = u_1*k\n",
      "v = v_1*k\n",
      "w = w_1*k\n",
      "t = t_1*k\n",
      "\n",
      "#result\n",
      "print\" Indices of direction are as [%d\" %u,\" %d\" %v,\" %d\" %t,\" %d\" %w,\"]\"\n",
      "print  \"while in notation negative value is indicated by a bar over it\""
     ],
     "language": "python",
     "metadata": {},
     "outputs": [
      {
       "output_type": "stream",
       "stream": "stdout",
       "text": [
        " Indices of direction are as [1  1  -2  3 ]\n",
        "while in notation negative value is indicated by a bar over it\n"
       ]
      }
     ],
     "prompt_number": 18
    },
    {
     "cell_type": "heading",
     "level": 2,
     "metadata": {},
     "source": [
      "Example 3.6 Page 50"
     ]
    },
    {
     "cell_type": "code",
     "collapsed": false,
     "input": [
      "#initiation of variable\n",
      "a = 1.0# let side of a unit cell\n",
      "b = 1.0 #  let side of a unit cell\n",
      "c = 1.0 # let side of a unit cell\n",
      "\n",
      "#calcualtion\n",
      "x_proj = 0.0 # x coordinate of point\n",
      "y_proj = -1.0*b # y coordinate of point\n",
      "z_proj = 0.5*c # z coordinate of point\n",
      "x_reduction = x_proj*a # reduction in x direction\n",
      "y_reduction = 1.0/y_proj# reduction in x direction\n",
      "z_reduction = 1.0/z_proj # reduction in x direction\n",
      "\n",
      "#result\n",
      "print \" Indices of direction are as [%d\" %x_reduction,\" %d\" %y_reduction,\" %d\" %z_reduction,\"]\"\n",
      "print  \"while in notation negative value is indicated by a bar over it\""
     ],
     "language": "python",
     "metadata": {},
     "outputs": [
      {
       "output_type": "stream",
       "stream": "stdout",
       "text": [
        " Indices of direction are as [0  -1  2 ]\n",
        "while in notation negative value is indicated by a bar over it\n"
       ]
      }
     ],
     "prompt_number": 19
    },
    {
     "cell_type": "heading",
     "level": 2,
     "metadata": {},
     "source": [
      "Example 3.7 Page 52"
     ]
    },
    {
     "cell_type": "code",
     "collapsed": false,
     "input": [
      "#initiation of variable\n",
      "print \"its a theoritical problem so only steps are shown how to solve the question\"\n",
      "print \"In order to construct the figure we assume some lines that are normal to planes and from the intersection of lines we construct new planes\"\n",
      "A=[0,-1,1] # normal to one place\n",
      "B=[1,0,1] #assumed normal of top plane\n",
      "C=[-1,0,-1] #normal of the bottom plane\n",
      "\n",
      "#result\n",
      "print \"from the question line ef is the intersection of plane\",A, \"and top plane and line gh intersection of plane\",A,\"bottom plane similar intersection has to be taken with front and back cell to find out the line eg and fh\""
     ],
     "language": "python",
     "metadata": {},
     "outputs": [
      {
       "output_type": "stream",
       "stream": "stdout",
       "text": [
        "its a theoritical problem so only steps are shown how to solve the question\n",
        "In order to construct the figure we assume some lines that are normal to planes and from the intersection of lines we construct new planes\n",
        "from the question line ef is the intersection of plane [0, -1, 1] and top plane and line gh intersection of plane [0, -1, 1] bottom plane similar intersection has to be taken with front and back cell to find out the line eg and fh\n"
       ]
      }
     ],
     "prompt_number": 1
    },
    {
     "cell_type": "heading",
     "level": 2,
     "metadata": {},
     "source": [
      "Example 3.8 Page 52"
     ]
    },
    {
     "cell_type": "code",
     "collapsed": false,
     "input": [
      "#initiation of variable\n",
      "u1 = 1.0 # Unit cell parameter\n",
      "v1 = -1.0 # Unit cell parameter\n",
      "w1 = 1.0 # Unit cell parameter\n",
      "\n",
      "#calcualtion\n",
      "u_1 = 1.0/3*(2*u1-v1)\n",
      "v_1 = 1.0/3*(2*v1-u1)\n",
      "t_1 = -(u_1+v_1)\n",
      "w_1 = w1\n",
      "k = 1.0/u_1\n",
      "u = u_1*k\n",
      "v = v_1*k\n",
      "w = w_1*k\n",
      "t = t_1*k\n",
      "\n",
      "#result\n",
      "print\" Indices of direction are as [%d\" %u,\" %d\" %v,\" %d\" %t,\" %d\" %w,\"]\"\n",
      "print  \"while in notation negative value is indicated by a bar over it\"\n",
      "print \" in book the notation used [h k i l] but in the solution [u v t w]  is used to maintain uniformity]\""
     ],
     "language": "python",
     "metadata": {},
     "outputs": [
      {
       "output_type": "stream",
       "stream": "stdout",
       "text": [
        " Indices of direction are as [1  -1  0  1 ]\n",
        "while in notation negative value is indicated by a bar over it\n",
        " in book the notation used [h k i l] but in the solution [u v t w]  is used to maintain uniformity]\n"
       ]
      }
     ],
     "prompt_number": 21
    }
   ],
   "metadata": {}
  }
 ]
}