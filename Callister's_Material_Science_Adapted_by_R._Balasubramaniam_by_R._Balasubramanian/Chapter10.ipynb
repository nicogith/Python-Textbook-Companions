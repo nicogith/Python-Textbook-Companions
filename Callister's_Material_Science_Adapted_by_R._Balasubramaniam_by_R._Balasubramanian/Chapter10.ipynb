{
 "metadata": {
  "name": "",
  "signature": "sha256:aa1a6347e016297d3077965d19e73328999eda27dc744ce705c6b4600bbf6157"
 },
 "nbformat": 3,
 "nbformat_minor": 0,
 "worksheets": [
  {
   "cells": [
    {
     "cell_type": "heading",
     "level": 1,
     "metadata": {},
     "source": [
      "Chapter 10:Dislocation and Strengthing Mechanism of Metals"
     ]
    },
    {
     "cell_type": "heading",
     "level": 2,
     "metadata": {},
     "source": [
      "Example 10.1 Page 356"
     ]
    },
    {
     "cell_type": "code",
     "collapsed": false,
     "input": [
      "#initiation of variable\n",
      "from math import acos, asin, sqrt, cos, sin\n",
      "u1 = 0.0 # Bravais index\n",
      "v1 = 1.0 # Bravais index\n",
      "w1 = 0.0 # Bravais index\n",
      "u2 = 1.0 # Bravais index\n",
      "v2 = 1.0 # Bravais index\n",
      "w2 = 0.0 # Bravais index\n",
      "u3 = -1.0 # Bravais index\n",
      "v3 = 1.0 # Bravais index\n",
      "w3 = 1.0 # Bravais index\n",
      "tau_r1 = 30.0 # Critical resolved shear stress\n",
      "sigma = 52.0 # Tensile strength in MPa\n",
      "\n",
      "#Part A:\n",
      "#calculation\n",
      "phi = acos((u1*u2+v1*v2+w1*w2)/sqrt((u1**2+v1**2+w1**2)*(u2**2+v2**2+w2**2)))\n",
      "Lambda = acos((u3*u1+v3*v1+w3*w1)/sqrt((u1**2+v1**2+w1**2)*(u3**2+v3**2+w3**2)))\n",
      "tau_r = sigma*cos(phi)*cos(Lambda)\n",
      "\n",
      "#results\n",
      "print\" Resolved shear stress is %.1f MPa\" %tau_r\n",
      "print \"Answer in book is 21.3 MPa which is due to approximation\"\n",
      "\n",
      "\n",
      "#Part B\n",
      "sigma1 = tau_r1/(cos(phi)*cos(Lambda))\n",
      "\n",
      "#result\n",
      "print\" Applied tensile force to initiate yielding is %.1f MPa\" %sigma1\n",
      "print \"Answer in book is 73.4 MPa which is due to approximation\""
     ],
     "language": "python",
     "metadata": {},
     "outputs": [
      {
       "output_type": "stream",
       "stream": "stdout",
       "text": [
        " Resolved shear stress is 21.2 MPa\n",
        "Answer in book is 21.3 MPa which is due to approximation\n",
        " Applied tensile force to initiate yielding is 73.5 MPa\n",
        "Answer in book is 73.4 MPa which is due to approximation\n"
       ]
      }
     ],
     "prompt_number": 1
    },
    {
     "cell_type": "heading",
     "level": 2,
     "metadata": {},
     "source": [
      "Example 10.2 Page 366 "
     ]
    },
    {
     "cell_type": "code",
     "collapsed": false,
     "input": [
      "#initiation of variable\n",
      "d1 = 15.2 # Initial diameter in mm\n",
      "d2 = 12.2 # Final diameter in mm\n",
      "\n",
      "#calculation\n",
      "per_CW = (d1**2 - d2**2)*100/d1**2 \n",
      "# Some values are deduced from figures\n",
      "\n",
      "#result\n",
      "print\" The tensile strength is read directly from the curve for copper(figure 10.9b) as 340 MPa From figure 10.19c, the Ductility at %0.1f CW is about 7%% EL.\" %per_CW\n",
      "\n"
     ],
     "language": "python",
     "metadata": {},
     "outputs": [
      {
       "output_type": "stream",
       "stream": "stdout",
       "text": [
        " The tensile strength is read directly from the curve for copper(figure 10.9b) as 340 MPa From figure 10.19c, the Ductility at 35.6 CW is about 7% EL.\n"
       ]
      }
     ],
     "prompt_number": 2
    },
    {
     "cell_type": "heading",
     "level": 2,
     "metadata": {},
     "source": [
      "Example 10.3 (Design Problem 10.1) Page 371"
     ]
    },
    {
     "cell_type": "code",
     "collapsed": false,
     "input": [
      "#initiation of variable\n",
      "from math import acos, asin, sqrt, cos, sin\n",
      "d1 = 6.4 # Initial diameter in mm for first drawing\n",
      "sigma = 345.0 # tensile strength in MPa\n",
      "el = 20.0 # ductility in percent\n",
      "d2 = 5.1 # Final diameter in mm\n",
      "per_cw = 21.5 # deformation\n",
      "\n",
      "#calculation\n",
      "per_CW = (d1**2 - d2**2)*100/d1**2 \n",
      "d0 = sqrt((d2**2*100)/(100.0-el))\n",
      "\n",
      "#result\n",
      "print\" Theoretical %% Cold Work is %.1f\" %per_CW\n",
      "print\" Original Diameter for second drawing is %.1f mm\" %d0\n",
      "print \"Answer in book is 5.8 mm which is due to approximation at intermediate steps\""
     ],
     "language": "python",
     "metadata": {},
     "outputs": [
      {
       "output_type": "stream",
       "stream": "stdout",
       "text": [
        " Theoretical % Cold Work is 36.5\n",
        " Original Diameter for second drawing is 5.7 mm\n",
        "Answer in book is 5.8 mm which is due to approximation at intermediate steps\n"
       ]
      }
     ],
     "prompt_number": 3
    }
   ],
   "metadata": {}
  }
 ]
}