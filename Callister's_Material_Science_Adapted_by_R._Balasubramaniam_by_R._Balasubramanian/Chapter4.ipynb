{
 "metadata": {
  "name": "",
  "signature": "sha256:a50e48329f4feedd564a46dbfb4f58edb20387a1355177032a107fb9e2c7a5ed"
 },
 "nbformat": 3,
 "nbformat_minor": 0,
 "worksheets": [
  {
   "cells": [
    {
     "cell_type": "heading",
     "level": 1,
     "metadata": {},
     "source": [
      "Chapter 4:Structure of Crystalline Solids"
     ]
    },
    {
     "cell_type": "heading",
     "level": 2,
     "metadata": {},
     "source": [
      "Example 4.1 Page 67"
     ]
    },
    {
     "cell_type": "code",
     "collapsed": false,
     "input": [
      "#initiation of variable\n",
      "from math import sqrt\n",
      "R = 1.0 # let radius of an atom is unity\n",
      "\n",
      "#calculation\n",
      "#For FCC a=2*R*sqrt(2)\n",
      "a=2.0*R*sqrt(2.0) #Edge Length\n",
      "V=a**3 #Volume determination\n",
      "\n",
      "#result\n",
      "print\" Volume of an FCC unit cell is %fR^3 \" %V"
     ],
     "language": "python",
     "metadata": {},
     "outputs": [
      {
       "output_type": "stream",
       "stream": "stdout",
       "text": [
        " Volume of an FCC unit cell is 22.627417R^3 \n"
       ]
      }
     ],
     "prompt_number": 1
    },
    {
     "cell_type": "heading",
     "level": 2,
     "metadata": {},
     "source": [
      "Example 4.2 Page 68"
     ]
    },
    {
     "cell_type": "code",
     "collapsed": false,
     "input": [
      "#initiation of variable\n",
      "from math import sqrt, pi\n",
      "R = 1.0 # let radius of an atom to be unity \n",
      "n=4.0 # no. of atoms for FCC are 4\n",
      "\n",
      "#calculation\n",
      "a=2.0*R*sqrt(2.0) # edge length for FCC\n",
      "Vc=a**3 #Volume of cube\n",
      "Vs=n*4*pi*R**3/3 #Volume of sphere\n",
      "APF=Vs/Vc #Atomic packing Fraction\n",
      "\n",
      "#result\n",
      "print\" Atomic packing factor is %.2f\" %APF"
     ],
     "language": "python",
     "metadata": {},
     "outputs": [
      {
       "output_type": "stream",
       "stream": "stdout",
       "text": [
        " Atomic packing factor is 0.74\n"
       ]
      }
     ],
     "prompt_number": 2
    },
    {
     "cell_type": "heading",
     "level": 2,
     "metadata": {},
     "source": [
      "Example 4.3 Page 68"
     ]
    },
    {
     "cell_type": "code",
     "collapsed": false,
     "input": [
      "#initiation of variable\n",
      "from math import sqrt, pi\n",
      "R=1.28e-08#Atomic radius in cm\n",
      "A_Cu=63.5 #Atomic wt of copper\n",
      "n=4.0   #For FCC\n",
      "Na=6.023e23 #Avogadro no.\n",
      "\n",
      "#calculation\n",
      "a=2*R*sqrt(2.0)\n",
      "Vc=a**3\n",
      "rho=n*A_Cu/(Vc*Na)\n",
      "\n",
      "#result\n",
      "print\" Density of copper is %.2f g/cm^3.\" %rho"
     ],
     "language": "python",
     "metadata": {},
     "outputs": [
      {
       "output_type": "stream",
       "stream": "stdout",
       "text": [
        " Density of copper is 8.89 g/cm^3.\n"
       ]
      }
     ],
     "prompt_number": 3
    },
    {
     "cell_type": "heading",
     "level": 2,
     "metadata": {},
     "source": [
      "Example 4.4 Page 77"
     ]
    },
    {
     "cell_type": "code",
     "collapsed": false,
     "input": [
      "#initiation of variable\n",
      "from math import sqrt, pi, cos\n",
      "theta = 30.0 # angle between a line joining centres of anion with their median in degree\n",
      "\n",
      "#calculation\n",
      "r_ratio = (1- cos(theta*pi/180))/ cos(theta*pi/180)\n",
      "\n",
      "#result\n",
      "print\" Minimum cation to anion radius ratio is %.3f\" %r_ratio"
     ],
     "language": "python",
     "metadata": {},
     "outputs": [
      {
       "output_type": "stream",
       "stream": "stdout",
       "text": [
        " Minimum cation to anion radius ratio is 0.155\n"
       ]
      }
     ],
     "prompt_number": 5
    },
    {
     "cell_type": "heading",
     "level": 2,
     "metadata": {},
     "source": [
      "Example 4.5 Page 82"
     ]
    },
    {
     "cell_type": "code",
     "collapsed": false,
     "input": [
      "#initiation of variable\n",
      "from math import sqrt, pi, cos\n",
      "r_fe2 = 0.077 # radius of Iron ion in nm\n",
      "r_o2 = 0.14 # radius of oxygen ion in nm\n",
      "r_ratio = r_fe2 /r_o2 # cation - anion radius ratio for FeO\n",
      "\n",
      "#calculation\n",
      "if r_ratio > 0.414 and r_ratio < 0.732 :\n",
      "    print\"  As ratio lies between 0.414 and 0.732 and coordination number 6, so it is of AX crystal structure.\"\n",
      "\n",
      "\n",
      "print \"coordination number 6 is taken from table\""
     ],
     "language": "python",
     "metadata": {},
     "outputs": [
      {
       "output_type": "stream",
       "stream": "stdout",
       "text": [
        "  As ratio lies between 0.414 and 0.732 and coordination number 6, so it is of AX crystal structure.\n",
        "coordination number 6 is taken from table\n"
       ]
      }
     ],
     "prompt_number": 8
    },
    {
     "cell_type": "heading",
     "level": 2,
     "metadata": {},
     "source": [
      "Example 4.6 Page 83"
     ]
    },
    {
     "cell_type": "code",
     "collapsed": false,
     "input": [
      "#initiation of variable\n",
      "from math import sqrt, pi, cos\n",
      "n = 4.0 # number of crystals per unit cell\n",
      "A_c = 22.99 # molar mass of cation i.e. sodium\n",
      "A_a = 35.45 # molar mass of cation i.e. chlorine\n",
      "r_c = 1.02e-8 # radius of sodium atom in cm\n",
      "r_a = 1.81e-8 # radius of sodium atom in cm\n",
      "N_a = 6.023e23 # Avogadro constant\n",
      "\n",
      "#result\n",
      "a = 2*(r_c+r_a)# edge length of Nacl molecule\n",
      "V_c = a**3 # Volume of unit cell\n",
      "rho = (n*(A_c+A_a))/(V_c*N_a)\n",
      "\n",
      "#result\n",
      "print\" Theoretical density of crystal is %0.2f g/cm^3 .\" %rho\n",
      "print\" This result compares very favourable with  experimental value of 2.16 g/cm^3 .\""
     ],
     "language": "python",
     "metadata": {},
     "outputs": [
      {
       "output_type": "stream",
       "stream": "stdout",
       "text": [
        " Theoretical density of crystal is 2.14 g/cm^3 .\n",
        " This result compares very favourable with  experimental value of 2.16 g/cm^3 .\n"
       ]
      }
     ],
     "prompt_number": 9
    },
    {
     "cell_type": "heading",
     "level": 2,
     "metadata": {},
     "source": [
      "Example 4.7 Page 94"
     ]
    },
    {
     "cell_type": "code",
     "collapsed": false,
     "input": [
      "#initiation of variable\n",
      "from math import sqrt, pi, cos\n",
      "n = 2 # number of repeated units within unit cell\n",
      "A_c = 12.01  # molar mass of carbon\n",
      "A_h = 1.008 # molar mass of hydrogen\n",
      "a = 0.741 # edge length in x axis in nm\n",
      "b = 0.494 # edge length in y axis in nm\n",
      "c = 0.255 # edge length in z axis in nm\n",
      "N_a = 6.023e23 # Avogadro constant\n",
      "rho_s = 0.925 # density of branched polyethylene in g/cm^3\n",
      "rho_a = 0.870 # density of totally amorphous polyethylene in g/cm^3\n",
      "\n",
      "# Part A\n",
      "#calculation\n",
      "A = 2*A_c+4*A_h # Molar mass of polyethylene\n",
      "V_c = a*b*c*(1.0e-7)**3 # Volume of unit cell\n",
      "rho_c = (n*A)/(V_c*N_a)\n",
      "\n",
      "print\" Density of totally crystalline polyethylene is %0.3f g/cm^3 .\" %rho_c\n",
      "\n",
      "#part B\n",
      "per_cry = (rho_c*(rho_s-rho_a))*100/(rho_s*(rho_c-rho_a))\n",
      "\n",
      "#result\n",
      "print\" Percentage crystallinity is %0.1f  percent\" %per_cry"
     ],
     "language": "python",
     "metadata": {},
     "outputs": [
      {
       "output_type": "stream",
       "stream": "stdout",
       "text": [
        " Density of totally crystalline polyethylene is 0.998 g/cm^3 .\n",
        " Percentage crystallinity is 46.4  percent\n"
       ]
      }
     ],
     "prompt_number": 3
    },
    {
     "cell_type": "heading",
     "level": 2,
     "metadata": {},
     "source": [
      "Example 4.8 Page 102"
     ]
    },
    {
     "cell_type": "code",
     "collapsed": false,
     "input": [
      "#initiation of variable\n",
      "from math import sqrt, pi, cos, asin\n",
      "a = 0.2866 # lattice parameter in nm\n",
      "h = 2.0 # component of set of plane\n",
      "k = 2.0# component of set of plane\n",
      "l = 0.0# component of set of plane\n",
      "n = 1.0 # order of detraction\n",
      "Lambda = 0.1790 # wavelength of light in nm\n",
      "\n",
      "#part A\n",
      "#calculation\n",
      "d_hkl=a/(sqrt(h**2+k**2+l**2))\n",
      "theta=asin(n*Lambda/(2*d_hkl))\n",
      "\n",
      "#result\n",
      "print\" Interplanar spacing is %.4f nm.\" %d_hkl\n",
      "\n",
      "\n",
      "# Part B\n",
      "print \" Diffraction angle is %0.2f degree.\" %(2*theta*180/pi)\n",
      "print \"Answer in book is 124.26 degree. It is so because of consideration of different number of significant figures in calculation.\""
     ],
     "language": "python",
     "metadata": {},
     "outputs": [
      {
       "output_type": "stream",
       "stream": "stdout",
       "text": [
        " Interplanar spacing is 0.1013 nm.\n",
        " Diffraction angle is 124.08 degree.\n",
        "Answer in book is 124.26 degree. It is so because of consideration of different number of significant figures in calculation.\n"
       ]
      }
     ],
     "prompt_number": 6
    }
   ],
   "metadata": {}
  }
 ]
}