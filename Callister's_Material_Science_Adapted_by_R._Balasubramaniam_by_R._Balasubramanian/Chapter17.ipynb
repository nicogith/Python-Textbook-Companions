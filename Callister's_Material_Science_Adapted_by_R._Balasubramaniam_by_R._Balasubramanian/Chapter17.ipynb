{
 "metadata": {
  "name": "",
  "signature": "sha256:4aecaca9039a74b586b1fe19a1dd2695468c1e0e81ca977190e432086f5c3347"
 },
 "nbformat": 3,
 "nbformat_minor": 0,
 "worksheets": [
  {
   "cells": [
    {
     "cell_type": "heading",
     "level": 1,
     "metadata": {},
     "source": [
      "Chapter 17: Electrical Properties of Materials"
     ]
    },
    {
     "cell_type": "heading",
     "level": 2,
     "metadata": {},
     "source": [
      "Example 17.1 Page 640"
     ]
    },
    {
     "cell_type": "code",
     "collapsed": false,
     "input": [
      "#initiation of variable\n",
      "sigma=10**-6  # ( Electrical Conductivity in Ohm-m)^-1 \n",
      "e=1.6*10**-19  # Charge on electron in Coulomb \n",
      "m_e=0.85 #Mobility of electron in m^2/V-s  \n",
      "m_h=0.04 # Mobility of holes in m^2/V-s \n",
      " \n",
      "#calculation\n",
      "n_i=sigma/(e*(m_e+m_h))#n_i is Intrinsic carrier concentration\n",
      "\n",
      "#result\n",
      "print\" Intrinsic Carrier Concentration is %.1e m^-3\" %n_i;\n"
     ],
     "language": "python",
     "metadata": {},
     "outputs": [
      {
       "output_type": "stream",
       "stream": "stdout",
       "text": [
        " Intrinsic Carrier Concentration is 7.0e+12 m^-3\n"
       ]
      }
     ],
     "prompt_number": 1
    },
    {
     "cell_type": "heading",
     "level": 2,
     "metadata": {},
     "source": [
      "Example 17.2 Page 647"
     ]
    },
    {
     "cell_type": "code",
     "collapsed": false,
     "input": [
      "#initiation of variable\n",
      "e=1.6*10**-19  #Charge on electron in Coulomb \n",
      "ni=4*10**19 #  number of electron per unit volume for Si at 423 K   (m^-3)\n",
      "#Values of m_e and m_h are deduced from graphs at page No.689\n",
      "m_e=0.06  #Mobility of electron in m^2/V-s  \n",
      "m_h=0.022  #  Mobility of holes in m^2/V-s\n",
      "\n",
      "#calculation\n",
      "sigma=ni*e*(m_e+m_h) # electrical conductivity\n",
      "\n",
      "#result\n",
      "print\" Electrical Conductivity is %.2f (Ohm-m)^-1\\n\" %sigma"
     ],
     "language": "python",
     "metadata": {},
     "outputs": [
      {
       "output_type": "stream",
       "stream": "stdout",
       "text": [
        " Electrical Conductivity is 0.52 (Ohm-m)^-1\n",
        "\n"
       ]
      }
     ],
     "prompt_number": 2
    },
    {
     "cell_type": "heading",
     "level": 2,
     "metadata": {},
     "source": [
      "Example 17.3 Page 648"
     ]
    },
    {
     "cell_type": "code",
     "collapsed": false,
     "input": [
      "#initiation of variable\n",
      "n=10.0**23 #  Carrier Concentration in m^-3\n",
      "e=1.6*10**-19  #Charge on electron in Coulomb  \n",
      "#From graph 18.18 m_e is calculated corresponding to n=10^23\n",
      "m_e=0.07  # Mobility of electron in m^2/V-s \n",
      "m_e2=0.04  #  Mobility of electron m^2/V-s\n",
      "\n",
      "#part A\n",
      "#result\n",
      "print\" Material is n-type  \"\n",
      "\n",
      "# Part B\n",
      "#calculation\n",
      "sigma=n*e*m_e # electrical conductivity calculation for extrinsic n-type\n",
      "\n",
      "#result\n",
      "print \"Conductivity is just %d (Ohm-m)^-1\" %sigma\n",
      "\n",
      "#partC\n",
      "#From graph 18.19a m_e2 is calculated corresponding to 373 K\n",
      "sigma2=n*e*m_e2\n",
      "\n",
      "#result\n",
      "print\"Conductivity at T=373 K becomes %d (Ohm-m)^-1\\n\" %sigma2;"
     ],
     "language": "python",
     "metadata": {},
     "outputs": [
      {
       "output_type": "stream",
       "stream": "stdout",
       "text": [
        " Material is n-type  \n",
        "Conductivity is just 1120 (Ohm-m)^-1\n",
        "Conductivity at T=373 K becomes 640 (Ohm-m)^-1\n",
        "\n"
       ]
      }
     ],
     "prompt_number": 4
    },
    {
     "cell_type": "heading",
     "level": 2,
     "metadata": {},
     "source": [
      "Example 17.4 Page 651"
     ]
    },
    {
     "cell_type": "code",
     "collapsed": false,
     "input": [
      "#intiiation of variable\n",
      "sigma=3.8*10**7  # Electrical Conductivity in (Ohm-m)^-1 \n",
      "m_e=0.0012  # Mobility of electron in m^2/V-s \n",
      "I_x=25.0  # Current in Ampere(A)\n",
      "d=15.0*10**-3 #Thickness in m \n",
      "B_z=0.6  # Magnetic field in Tesla \n",
      "\n",
      "#calculation\n",
      "Rh=-m_e/sigma  #Hall coefficient\n",
      "Vh=Rh*I_x*B_z/d\n",
      "\n",
      "#result\n",
      "print\" Hall coefficient is %.2e V-m/A-Tesla\" %Rh\n",
      "print\"Hall Voltage is %.2e V\" %Vh"
     ],
     "language": "python",
     "metadata": {},
     "outputs": [
      {
       "output_type": "stream",
       "stream": "stdout",
       "text": [
        " Hall coefficient is -3.16e-11 V-m/A-Tesla\n",
        "Hall Voltage is -3.16e-08 V\n"
       ]
      }
     ],
     "prompt_number": 9
    },
    {
     "cell_type": "heading",
     "level": 2,
     "metadata": {},
     "source": [
      "Example 17.5 Page 665"
     ]
    },
    {
     "cell_type": "code",
     "collapsed": false,
     "input": [
      "#initiation of variable\n",
      "from math import ceil\n",
      "A = 6.45e-4 # Area of plat in m^2\n",
      "l = 2.0e-3 # separation between plates in m\n",
      "epsilon_r = 6.0 #dielectric constant of material\n",
      "epsilon_0 = 8.85e-12 # universal constant\n",
      "V = 10.0 # Applied voltage in Volt\n",
      "\n",
      "# Part A\n",
      "#calculation\n",
      "C = epsilon_0*epsilon_r*A/l #Capacitance of a parallel plat capacitor\n",
      "\n",
      "#result\n",
      "print\" Capacitance of capacitor is %.2e F\" %C\n",
      "\n",
      "#partB\n",
      "Q = C*V # Stored charge calculation\n",
      "\n",
      "#result\n",
      "print\" Stored charge in capacitor is %.2e C\" %Q\n",
      "\n",
      "#partC\n",
      "D = epsilon_0*epsilon_r*V/l # Dielectric displacement\n",
      "\n",
      "#result\n",
      "print\" Dielectric displacement in capacitor is %.2e C/m^2\" %(ceil(D*1e9)/1e9)\n",
      "\n",
      "#partD\n",
      "P = D - epsilon_0*V/l # Polarisation \n",
      "\n",
      "#result\n",
      "print\" Polarization is %.2e C/m^2\" %(ceil(P*1e9)/1e9)\n"
     ],
     "language": "python",
     "metadata": {},
     "outputs": [
      {
       "output_type": "stream",
       "stream": "stdout",
       "text": [
        " Capacitance of capacitor is 1.71e-11 F\n",
        " Stored charge in capacitor is 1.71e-10 C\n",
        " Dielectric displacement in capacitor is 2.66e-07 C/m^2\n",
        " Polarization is 2.22e-07 C/m^2\n"
       ]
      }
     ],
     "prompt_number": 11
    },
    {
     "cell_type": "heading",
     "level": 2,
     "metadata": {},
     "source": [
      "Example 17.6 (Design Problem 17.1) Page 649"
     ]
    },
    {
     "cell_type": "code",
     "collapsed": false,
     "input": [
      "#initiation of variable\n",
      "p1 = 1.0e22 # Number of electrons per unit volume\n",
      "e = 1.6e-19 # Charge on electron in coulomb\n",
      "mu_h1 = 0.04 # concentration of holes mobility in m^/Vs\n",
      "sigma_d = 50.0 # Desired conductivity in (ohm-m)^-1\n",
      "p2 = 1.0e21# Number of electrons per unit volume\n",
      "mu_h2 = 0.045#concentration of holes mobility in m^/Vs\n",
      "p3 = 8.0e21# Number of electrons per unit volume\n",
      "mu_h3 = mu_h1# concentration of holes mobility in m^/Vs\n",
      "N_a = 6.023e23 # Avogadro\u2019s constant\n",
      "rho_si = 2.33e6 # density of silicon in g/m^3\n",
      "A_si = 28.09 # molecular weight in g/mol\n",
      "\n",
      "#calculation\n",
      "sigma1 = p1*e*mu_h1\n",
      "sigma2 = p2*e*mu_h2\n",
      "sigma3 = p3*e*mu_h3\n",
      "N_Si = N_a*rho_si/A_si\n",
      "Ca  = p3*100/(p3+N_Si)\n",
      "\n",
      "#result\n",
      "print \" Silicon material of p-type of conductivity %d (ohm-m)^-1\" %sigma_d, \" must have %.2e doping material\" %Ca"
     ],
     "language": "python",
     "metadata": {},
     "outputs": [
      {
       "output_type": "stream",
       "stream": "stdout",
       "text": [
        " Silicon material of p-type of conductivity 50 (ohm-m)^-1  must have 1.60e-05 doping material\n"
       ]
      }
     ],
     "prompt_number": 15
    }
   ],
   "metadata": {}
  }
 ]
}