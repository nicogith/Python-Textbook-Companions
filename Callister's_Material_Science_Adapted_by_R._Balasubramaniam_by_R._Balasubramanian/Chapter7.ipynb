{
 "metadata": {
  "name": "",
  "signature": "sha256:941d1227ac7aa9effa28e8dff085c9a57de20e9b3739b331847ec9db08b77a32"
 },
 "nbformat": 3,
 "nbformat_minor": 0,
 "worksheets": [
  {
   "cells": [
    {
     "cell_type": "heading",
     "level": 1,
     "metadata": {},
     "source": [
      "Chapter 7: Phase Diagram"
     ]
    },
    {
     "cell_type": "heading",
     "level": 2,
     "metadata": {},
     "source": [
      "Example 7.2 Page 190"
     ]
    },
    {
     "cell_type": "code",
     "collapsed": false,
     "input": [
      "#initiation of variable\n",
      "#alpha phase\n",
      "#from diagram\n",
      "Sn=10;\n",
      "Pb=100-Sn;\n",
      "\n",
      "#result\n",
      "print \"In alpha phase % of tin is\",Sn,\"and % of lead is\",Pb,\"in the alloy\"\n",
      "\n",
      "#beta phase\n",
      "#from diagram\n",
      "Sn=78\n",
      "Pb=80-Sn;\n",
      "\n",
      "#result\n",
      "print \"In alpha phase % of tin is\",Sn,\"and % of lead is\",Pb,\"in the alloy\"\n"
     ],
     "language": "python",
     "metadata": {},
     "outputs": [
      {
       "output_type": "stream",
       "stream": "stdout",
       "text": [
        "In alpha phase % of tin is 10 and % of lead is 90 in the alloy\n",
        "In alpha phase % of tin is 78 and % of lead is 2 in the alloy\n"
       ]
      }
     ],
     "prompt_number": 3
    },
    {
     "cell_type": "heading",
     "level": 2,
     "metadata": {},
     "source": [
      "Example 7.3 Page 191"
     ]
    },
    {
     "cell_type": "code",
     "collapsed": false,
     "input": [
      "#initiation of variable\n",
      "C1=40.0  # Overall alloy composition\n",
      "Cb=98.0\n",
      "Ca=10.0\n",
      "rho_Sn=7.24 #  density in g/cm^3  density of tin\n",
      "rho_Pb=11.23  # density in g/cm^3  density of lead\n",
      "Ca_Sn=10.0\n",
      "Ca_Pb=90.0\n",
      "Cb_Sn=98.0\n",
      "Cb_Pb=2.0\n",
      "\n",
      "#part A\n",
      "#calculation\n",
      "Wa=(Cb-C1)/(Cb-Ca)\n",
      "Wb=(C1-Ca)/(Cb-Ca)\n",
      "\n",
      "print\" Mass fraction for alpha and beta phases is %.2f\" %Wa,\"and %.2f respectively\" %Wb;\n",
      "\n",
      "#partB\n",
      "rho_a=100.0/((Ca_Sn/rho_Sn)+(Ca_Pb/rho_Pb));\n",
      "rho_b=100.0/((Cb_Sn/rho_Sn)+(Cb_Pb/rho_Pb));\n",
      "Va=Wa/(rho_a*((Wa/rho_a)+(Wb/rho_b)));\n",
      "Vb=Wb/(rho_b*((Wa/rho_a)+(Wb/rho_b)));\n",
      "\n",
      "#result\n",
      "print\" Density of alpha phase is : %.2f g/cm^3\" %rho_a;\n",
      "print\" Density of beta phase is : %.2f g/cm^3\" %rho_b;\n",
      "print\" Volume fraction of alpha phase : %.2f\" %Va;\n",
      "print\"Volume fraction of beta phase : %.2f\" %Vb;"
     ],
     "language": "python",
     "metadata": {},
     "outputs": [
      {
       "output_type": "stream",
       "stream": "stdout",
       "text": [
        " Mass fraction for alpha and beta phases is 0.66 and 0.34 respectively\n",
        " Density of alpha phase is : 10.64 g/cm^3\n",
        " Density of beta phase is : 7.29 g/cm^3\n",
        " Volume fraction of alpha phase : 0.57\n",
        "Volume fraction of beta phase : 0.43\n"
       ]
      }
     ],
     "prompt_number": 4
    },
    {
     "cell_type": "heading",
     "level": 2,
     "metadata": {},
     "source": [
      "Example 7.4 Page 217"
     ]
    },
    {
     "cell_type": "code",
     "collapsed": false,
     "input": [
      "#initiation of variable\n",
      "C0=0.35 # given composition\n",
      "C_a=0.022 # given composition\n",
      "C_Fe3C=6.7 # given composition\n",
      "C_p=0.76 \n",
      "\n",
      "#partA\n",
      "W_a=(C_Fe3C-C0)/(C_Fe3C-C_a)\n",
      "W_Fe3C=(C0-C_a)/(C_Fe3C-C_a)\n",
      "\n",
      "#result\n",
      "print\" Mass fraction of total ferrite phase  is %.2f\" %W_a\n",
      "print\" Mass fraction of cementide phase is %.2f\" %W_Fe3C\n",
      "\n",
      "#part B\n",
      "Wp=(C0-C_a)/(C_p-C_a)\n",
      "W_a1=(C_p-C0)/(C_p-C_a)\n",
      "\n",
      "#result\n",
      "print\" Mass fraction of Pearlite is %.2f\" %Wp\n",
      "print\" Mass fraction of proeutectoid ferrite is %.2f\" %W_a1\n",
      "\n",
      "#partC\n",
      "Wae=W_a-W_a1\n",
      "\n",
      "#result\n",
      "print\" Mass fraction of eutectoid ferrite : %.3f\" %Wae\n",
      "print \"Answer in book is 0.39. It is due to considering different number of significant figure at intermediate steps\""
     ],
     "language": "python",
     "metadata": {},
     "outputs": [
      {
       "output_type": "stream",
       "stream": "stdout",
       "text": [
        " Mass fraction of total ferrite phase  is 0.95\n",
        " Mass fraction of cementide phase is 0.05\n",
        " Mass fraction of Pearlite is 0.44\n",
        " Mass fraction of proeutectoid ferrite is 0.56\n",
        " Mass fraction of eutectoid ferrite : 0.395\n",
        "Answer in book is 0.39. It is due to considering different number of significant figure at intermediate steps\n"
       ]
      }
     ],
     "prompt_number": 5
    }
   ],
   "metadata": {}
  }
 ]
}