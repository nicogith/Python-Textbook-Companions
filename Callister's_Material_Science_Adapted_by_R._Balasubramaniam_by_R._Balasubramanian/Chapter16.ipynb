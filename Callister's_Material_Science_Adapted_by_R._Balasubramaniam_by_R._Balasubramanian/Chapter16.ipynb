{
 "metadata": {
  "name": "",
  "signature": "sha256:a72258313ad12ca8937189e7371e0a2ad935ce36c47c346af1a8810ae6385a42"
 },
 "nbformat": 3,
 "nbformat_minor": 0,
 "worksheets": [
  {
   "cells": [
    {
     "cell_type": "heading",
     "level": 1,
     "metadata": {},
     "source": [
      "Chapter 16: Corrosion and Degradation"
     ]
    },
    {
     "cell_type": "heading",
     "level": 2,
     "metadata": {},
     "source": [
      "Example 16.1 Page 587"
     ]
    },
    {
     "cell_type": "code",
     "collapsed": false,
     "input": [
      "#initiation of variable\n",
      "from math import log ,log10\n",
      "V_Cd=-0.403  #Half Cell Potential of Cd++|Cd in volt\n",
      "V_Ni=-0.250  #Half Cell Potential of Ni++|Ni volt\n",
      "C_Ni=10.0**-3\n",
      "C_Cd=0.5\n",
      "n=2  #Net electron exchange in Redox reaction\n",
      "\n",
      "#part A\n",
      "#calcualation \n",
      "\n",
      "dV=V_Ni-V_Cd # Potential difference in volts\n",
      "\n",
      "#results\n",
      "print \" Standard Cell potential is : %.3f V\" %dV\n",
      "\n",
      "#partB\n",
      "\n",
      "V=-dV-(0.0592*log10(C_Ni/C_Cd)/n)\n",
      "\n",
      "#results\n",
      "print\" Net EMF is : %.3f V\" %V\n",
      "print\" That is,\",\n",
      "\n",
      "if V<0 :\n",
      "    print\"\\t Cd is oxidised & Ni is reduced\"\n",
      "else :\n",
      "    print\"\\t Cd is reduced & Ni is oxidised\"\n",
      "    \n"
     ],
     "language": "python",
     "metadata": {},
     "outputs": [
      {
       "output_type": "stream",
       "stream": "stdout",
       "text": [
        " Standard Cell potential is : 0.153 V\n",
        " Net EMF is : -0.073 V\n",
        " That is, \t Cd is oxidised & Ni is reduced\n"
       ]
      }
     ],
     "prompt_number": 2
    },
    {
     "cell_type": "heading",
     "level": 2,
     "metadata": {},
     "source": [
      "Example 16.2 Page 595"
     ]
    },
    {
     "cell_type": "code",
     "collapsed": false,
     "input": [
      "#initiation of variable\n",
      "from math import log ,log10,floor\n",
      "VH_H2=0.0 # half cell voltage \n",
      "VZn_Zn2=-0.763 # half cell voltage \n",
      "iZn=10.0**-7 # current density in A/cm^2\n",
      "iH2=10.0**-10 # current density in A/cm^2\n",
      "beta_Zn=0.09\n",
      "beta_H2=-0.08\n",
      "n=2.0 #Exchange of 2 electrons\n",
      "F=96500.0#Faradays constant\n",
      "\n",
      "#partA\n",
      "#calculation\n",
      "i_c=10**((VH_H2-VZn_Zn2-(beta_H2*log10(iH2))+(beta_Zn*log10(iZn)))/(beta_Zn-beta_H2))\n",
      "r=i_c/(n*F)\n",
      "\n",
      "#results\n",
      "print\"Rate of oxidation with zinc is %.2e A/cm^2\" %i_c\n",
      "print\"  Rate of oxidation is %.2e mol/cm^2-s\" %(floor(r*1e12)/1e12)\n",
      "\n",
      "#Part B\n",
      "Vc=VH_H2+(beta_H2*log10(i_c/iH2))\n",
      "\n",
      "#results\n",
      "print\" Corrosion potential is %.3f V\" %Vc"
     ],
     "language": "python",
     "metadata": {},
     "outputs": [
      {
       "output_type": "stream",
       "stream": "stdout",
       "text": [
        "Rate of oxidation with zinc is 1.19e-04 A/cm^2\n",
        "  Rate of oxidation is 6.17e-10 mol/cm^2-s\n",
        " Corrosion potential is -0.486 V\n"
       ]
      }
     ],
     "prompt_number": 5
    }
   ],
   "metadata": {}
  }
 ]
}