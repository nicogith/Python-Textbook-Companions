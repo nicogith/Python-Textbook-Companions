{
 "metadata": {
  "name": "",
  "signature": "sha256:38d704564aa6536fc6da296a78f2a33e8cb9eb20a3ce0fa8f700546de7fd07b5"
 },
 "nbformat": 3,
 "nbformat_minor": 0,
 "worksheets": [
  {
   "cells": [
    {
     "cell_type": "heading",
     "level": 1,
     "metadata": {},
     "source": [
      "Chapter 9: Similarity"
     ]
    },
    {
     "cell_type": "heading",
     "level": 2,
     "metadata": {},
     "source": [
      "Example 9.1, Page 291"
     ]
    },
    {
     "cell_type": "code",
     "collapsed": false,
     "input": [
      "from __future__ import division\n",
      "import math\n",
      "\n",
      "\n",
      " #Initializing  the  variables\n",
      "Vp  =  10;\n",
      "LpByLm  =  20;\n",
      "rhoPbyRhoM  =  1;\n",
      "muPbymuM  =  1;\n",
      " #Calculations\n",
      "Vm  =  Vp*LpByLm*rhoPbyRhoM*muPbymuM;\n",
      "   \n",
      "print \"Mean water tunnel flow velocity (m/s) :\",Vm"
     ],
     "language": "python",
     "metadata": {},
     "outputs": [
      {
       "output_type": "stream",
       "stream": "stdout",
       "text": [
        "Mean water tunnel flow velocity (m/s) : 200\n"
       ]
      }
     ],
     "prompt_number": 2
    },
    {
     "cell_type": "heading",
     "level": 2,
     "metadata": {},
     "source": [
      "Example 9.2, Page 292"
     ]
    },
    {
     "cell_type": "code",
     "collapsed": false,
     "input": [
      "from __future__ import division\n",
      "import math\n",
      "    \n",
      "\n",
      " #Initializing  the  variables\n",
      "Vp  =  3;\n",
      "LpByLm  =  30;\n",
      "rhoPbyRhoM  =  1;\n",
      "muPbymuM  =  1;\n",
      "\n",
      " #Calculations\n",
      "Vm  =  Vp*LpByLm*rhoPbyRhoM*muPbymuM;\n",
      "   \n",
      "print \"Mean water tunnel flow velocity (m/s):\",Vm"
     ],
     "language": "python",
     "metadata": {},
     "outputs": [
      {
       "output_type": "stream",
       "stream": "stdout",
       "text": [
        "Mean water tunnel flow velocity (m/s): 90\n"
       ]
      }
     ],
     "prompt_number": 3
    },
    {
     "cell_type": "heading",
     "level": 2,
     "metadata": {},
     "source": [
      "Example 9.3, Page 293"
     ]
    },
    {
     "cell_type": "code",
     "collapsed": false,
     "input": [
      "from __future__ import division\n",
      "import math\n",
      "   \n",
      "\n",
      " #Initializing  the  variables\n",
      "Vp  =  100;\n",
      "cP  =  340;\n",
      "cM  =  295;\n",
      "rhoM  =  7.7;\n",
      "rhoP  =  1.2;\n",
      "muM  =  1.8*10**-5;\n",
      "muP  =  1.2*10**-5;\n",
      "\n",
      " #Calculations\n",
      "Vm  =  Vp*(cM/cP);\n",
      "LmByLp  =  1/((Vm/Vp)*(muM/muP)*(rhoM/rhoP));\n",
      "FmByFp  =  (rhoM/rhoP)*(Vm/Vp)**2*(LmByLp)**2;\n",
      "\n",
      "print 'Mean wind tunnel flow velocity(m/s) :',round(Vm,2)\n",
      "print \"Percentage ratio of forces (%)      :\",round(FmByFp*100,2)"
     ],
     "language": "python",
     "metadata": {},
     "outputs": [
      {
       "output_type": "stream",
       "stream": "stdout",
       "text": [
        "Mean wind tunnel flow velocity(m/s) : 86.76\n",
        "Percentage ratio of forces (%)      : 6.93\n"
       ]
      }
     ],
     "prompt_number": 4
    },
    {
     "cell_type": "heading",
     "level": 2,
     "metadata": {},
     "source": [
      "Example 9.4, Page 295"
     ]
    },
    {
     "cell_type": "code",
     "collapsed": false,
     "input": [
      "from __future__ import division\n",
      "import math\n",
      "      \n",
      "\n",
      " #Initializing  the  variables\n",
      "def pLossRatio(RatRho,RatMu,RatL):\n",
      "    Z  =  RatRho*RatMu**2*RatL**2;\n",
      "    return Z\n",
      "\n",
      " #Calculations\n",
      " #Case  (a)  :  water  is  used\n",
      "RatRho  =  1;\n",
      "RatMu  =  1;\n",
      "RatL  =  10;\n",
      "print \"(a)Ratio of pressure losses between the model and the prototype if water is used :\",pLossRatio(RatRho,RatMu,RatL)\n",
      "\n",
      "# Case (b) : air is used\n",
      "RatRho  =  1000/1.23;\n",
      "RatMu  =  1.8*10**-5/10**-3;\n",
      "\n",
      "print \"(b)Ratio of pressure losses between the model and the prototype if air is used   :\",round(pLossRatio(RatRho,RatMu,RatL),2)"
     ],
     "language": "python",
     "metadata": {},
     "outputs": [
      {
       "output_type": "stream",
       "stream": "stdout",
       "text": [
        "(a)Ratio of pressure losses between the model and the prototype if water is used : 100\n",
        "(b)Ratio of pressure losses between the model and the prototype if air is used   : 26.34\n"
       ]
      }
     ],
     "prompt_number": 5
    },
    {
     "cell_type": "heading",
     "level": 2,
     "metadata": {},
     "source": [
      "Example 9.5, Page 296"
     ]
    },
    {
     "cell_type": "code",
     "collapsed": false,
     "input": [
      "from __future__ import division\n",
      "import math\n",
      " \n",
      " #Initializing  the  variables\n",
      "scale  =  1/50;\n",
      "ratArea  =  scale**2;\n",
      "Qp  =  1200;\n",
      "\n",
      " #Calculations\n",
      "LmByLp  =  (ratArea)**0.5;\n",
      "VmByVp  =  (LmByLp)**0.5;\n",
      "Qm  =  Qp*ratArea*VmByVp;\n",
      "\n",
      "print \"Water flow rate (m3/s ):\",round(Qm,3)"
     ],
     "language": "python",
     "metadata": {},
     "outputs": [
      {
       "output_type": "stream",
       "stream": "stdout",
       "text": [
        "Water flow rate (m3/s ): 0.068\n"
       ]
      }
     ],
     "prompt_number": 6
    },
    {
     "cell_type": "heading",
     "level": 2,
     "metadata": {},
     "source": [
      "Example 9.6, Page 298"
     ]
    },
    {
     "cell_type": "code",
     "collapsed": false,
     "input": [
      "from __future__ import division\n",
      "import math\n",
      " \n",
      " #Initializing  the  variables\n",
      "Qa  =  2;\n",
      "Na  =  1400;\n",
      "rhoA  =  0.92;\n",
      "rhoS  =  1.3;\n",
      "DaByDs  =  1;\n",
      "dPa  =  200;\n",
      "\n",
      " #Calculations\n",
      "Ns  =  Na*(rhoA/rhoS)*(DaByDs);\n",
      "Qs  =  Qa*(Ns/Na);\n",
      "dPs  =  dPa  *(rhoS/rhoA)*(Ns/Na)**2*(1/DaByDs)**2;\n",
      "\n",
      "print \"Fan test speed (rev/s):\",round(Ns,1)\n",
      "print \"Flow rate (m3/s)      :\",round(Qs,3)\n",
      "print \"Pressure rise (N/m2 ) :\",round(dPs,1) "
     ],
     "language": "python",
     "metadata": {},
     "outputs": [
      {
       "output_type": "stream",
       "stream": "stdout",
       "text": [
        "Fan test speed (rev/s): 990.8\n",
        "Flow rate (m3/s)      : 1.415\n",
        "Pressure rise (N/m2 ) : 141.5\n"
       ]
      }
     ],
     "prompt_number": 7
    },
    {
     "cell_type": "heading",
     "level": 2,
     "metadata": {},
     "source": [
      "Example 9.8, Page 304"
     ]
    },
    {
     "cell_type": "code",
     "collapsed": false,
     "input": [
      "from __future__ import division\n",
      "import math\n",
      "      \n",
      "\n",
      " #Initializing  the  variables\n",
      "V  =  300                                                                  #  Volume  rate\n",
      "w  =  3;\n",
      "d  =  65;\n",
      "l  =  30;\n",
      "scaleH  =  30/1000/18;\n",
      "scaleV  =  1/60;\n",
      "ZmByZr  =  1/60;\n",
      "LmByLr  =  1/600;\n",
      "rho  =  1000;\n",
      "mu  =  1.14*10**-3;\n",
      "\n",
      " #Calculations\n",
      "Vr  =  V/(w*d);  \n",
      "Vm  =Vr*(ZmByZr)**0.5;\n",
      "m  =  (w*d*scaleH*scaleV)/(d*scaleH  +  2*w*scaleV);\n",
      "Rem  =  rho*Vm*m/mu;\n",
      "TmByTr  =  LmByLr*(1/ZmByZr)**0.5;\n",
      "Tm  =  12.4*60*TmByTr;\n",
      "\n",
      "\n",
      "\n",
      "print \"Tidal Period (minutes):\",round(Tm,1)"
     ],
     "language": "python",
     "metadata": {},
     "outputs": [
      {
       "output_type": "stream",
       "stream": "stdout",
       "text": [
        "Tidal Period (minutes): 9.6\n"
       ]
      }
     ],
     "prompt_number": 8
    }
   ],
   "metadata": {}
  }
 ]
}