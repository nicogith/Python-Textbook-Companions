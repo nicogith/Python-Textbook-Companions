{
 "metadata": {
  "name": "",
  "signature": "sha256:4a6f98ae985b8e1b6e034e8590a04939cfd519f9354fb6a0851df17e977d9e9f"
 },
 "nbformat": 3,
 "nbformat_minor": 0,
 "worksheets": [
  {
   "cells": [
    {
     "cell_type": "heading",
     "level": 1,
     "metadata": {},
     "source": [
      "Chapter 1: Fluid and their Properties"
     ]
    },
    {
     "cell_type": "heading",
     "level": 2,
     "metadata": {},
     "source": [
      "Example 1.1, Page 14"
     ]
    },
    {
     "cell_type": "code",
     "collapsed": false,
     "input": [
      "from __future__ import division\n",
      "import math\n",
      " \n",
      " #Initialization  of  Variable\n",
      "sigma  =  72.7*10**-3;                                 #Surface  Tension\n",
      "r  =  1  *10**-3;                                      #Radius  of  Bubble\n",
      "\n",
      " #Calculations\n",
      "P  =  2*sigma/r;\n",
      "print \"Excess Pressure(N/m2) :\",P\n",
      "\n",
      "    "
     ],
     "language": "python",
     "metadata": {},
     "outputs": [
      {
       "output_type": "stream",
       "stream": "stdout",
       "text": [
        "Excess Pressure(N/m2) : 145.4\n"
       ]
      }
     ],
     "prompt_number": 1
    }
   ],
   "metadata": {}
  }
 ]
}