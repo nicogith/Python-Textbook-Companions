{
 "metadata": {
  "name": "",
  "signature": "sha256:783af12fd7d104e85c7e13e105c7550ca4a0a63a41968e5a9b0312d6fedb23a2"
 },
 "nbformat": 3,
 "nbformat_minor": 0,
 "worksheets": [
  {
   "cells": [
    {
     "cell_type": "heading",
     "level": 1,
     "metadata": {},
     "source": [
      "Chapter 22: Theory of Rotodynamic Machine"
     ]
    },
    {
     "cell_type": "heading",
     "level": 2,
     "metadata": {},
     "source": [
      "Example 22.1, Page 779"
     ]
    },
    {
     "cell_type": "code",
     "collapsed": false,
     "input": [
      "from __future__ import division\n",
      "import math\n",
      "\n",
      " #Initializing  the  variables\n",
      "Q  =  5;\n",
      "R1  =  1.5/2;\n",
      "R2  =  2/2;  \n",
      "w  =  18;\n",
      "rho  =  1000;\n",
      "rhoA  =  1.2;\n",
      "Hth  =  0.017;\n",
      "g=9.81;\n",
      "\n",
      " #Calculations\n",
      "A  =  math.pi*(R2**2-R1**2);\n",
      "Vf  =  Q/A;\n",
      "Ut  =  w*R2;\n",
      "Uh  =  w*R1;\n",
      "B1t  =  math.atan(Vf/Ut);\n",
      "B1h  =  math.atan(Vf/Uh);\n",
      "E  =  Hth*rho/rhoA;\n",
      "def  Beta(u):\n",
      "    y  =  math.atan(Vf/(u-E*g/u));\n",
      "    return y\n",
      "B2t  =  Beta(Ut);\n",
      "B2h  =  Beta(Uh);\n",
      "\n",
      "print \"!----Blade Inlet Angles----!\"\n",
      "print \"At tip (in degrees) :\",round(B1t*180/math.pi,1),\"\\nAt Hub (in degrees) :\",round(B1h*180/math.pi,1)\n",
      "print \"\\n!----Blade Outlet Angles (Degrees)----!\"\n",
      "print \"At tip (in degrees):\",round(B2t*180/math.pi,1),\"\\nAt Hub(in degrees) :\",round(B2h*180/math.pi,1)"
     ],
     "language": "python",
     "metadata": {},
     "outputs": [
      {
       "output_type": "stream",
       "stream": "stdout",
       "text": [
        "!----Blade Inlet Angles----!\n",
        "At tip (in degrees) : 11.4 \n",
        "At Hub (in degrees) : 15.1\n",
        "\n",
        "!----Blade Outlet Angles (Degrees)----!\n",
        "At tip (in degrees): 19.5 \n",
        "At Hub(in degrees) : 48.6\n"
       ]
      }
     ],
     "prompt_number": 1
    },
    {
     "cell_type": "heading",
     "level": 2,
     "metadata": {},
     "source": [
      "Example 22.2, Page 793"
     ]
    },
    {
     "cell_type": "code",
     "collapsed": false,
     "input": [
      "from __future__ import division\n",
      "import math\n",
      "\n",
      "\n",
      " #Initializing  the  variables\n",
      "D  =  0.1;\n",
      "t  =  15*10**-3;\n",
      "Q  =  8.5/3600;\n",
      "N  =  750/60;\n",
      "B2  =  25*math.pi/180;                                                                #  Beta  2  ind  degrees\n",
      "g  =  9.81;\n",
      "z  =  16;\n",
      "\n",
      " #Calculations\n",
      "A  =  round(math.pi*D*t,5);\n",
      "V_f2  =  round(Q/A,3);\n",
      "U2  =  round(math.pi*N*D,3);\n",
      "V_w2  =  round(U2  -  V_f2/math.tan(B2),1);\n",
      "Hth  =  round(U2*V_w2/g,2);\n",
      "Sf  =  round(1 - math.pi*math.sin(B2)/(z*(1-(V_f2/U2)/math.tan(B2))),3);\n",
      "H  =  round(Sf*Hth,2);\n",
      "\n",
      "print \"Part (a) - Head developed (m): \",Hth\n",
      "print \"Part (b) - Head developed (m): \",H"
     ],
     "language": "python",
     "metadata": {},
     "outputs": [
      {
       "output_type": "stream",
       "stream": "stdout",
       "text": [
        "Part (a) - Head developed (m):  1.16\n",
        "Part (b) - Head developed (m):  1.03\n"
       ]
      }
     ],
     "prompt_number": 2
    },
    {
     "cell_type": "heading",
     "level": 2,
     "metadata": {},
     "source": [
      "Example 22.3, Page 797"
     ]
    },
    {
     "cell_type": "code",
     "collapsed": false,
     "input": [
      "from __future__ import division\n",
      "import math\n",
      "\n",
      "\n",
      " #Initializing  the  variables\n",
      "Ma  =  0.6;\n",
      "Cl  =  0.6;\n",
      "tByC  =  0.035;                                                      #  Thickness  to  chord  ratio\n",
      "cByC  =  0.015;                                                      #  Camber  to  chord  ratio\n",
      "x  =  3;                                                                    #  Angle  of  incidence\n",
      "\n",
      " #Calculations\n",
      "lamda  =  1/(1-Ma**2)**0.5;\n",
      "Cl#  =  lamda*Cl;\n",
      "tByC1  =  tByC*lamda;\n",
      "cByC1  =  cByC*lamda;\n",
      "Cl1  =  Cl*lamda**2;\n",
      "Ae  =  x*lamda;\n",
      "print \"____Geometric Characterstics____\\n\"\n",
      "print \"Thickness to chord ratio      :\",tByC1\n",
      "print \"Camber to chord ratio         :\",cByC1\n",
      "print \"Lift Coefficient              :\",Cl1\n",
      "print \"angle of incidence (Degrees)  :\",Ae"
     ],
     "language": "python",
     "metadata": {},
     "outputs": [
      {
       "output_type": "stream",
       "stream": "stdout",
       "text": [
        "____Geometric Characterstics____\n",
        "\n",
        "Thickness to chord ratio      : 0.04375\n",
        "Camber to chord ratio         : 0.01875\n",
        "Lift Coefficient              : 0.9375\n",
        "angle of incidence (Degrees)  : 3.75\n"
       ]
      }
     ],
     "prompt_number": 3
    }
   ],
   "metadata": {}
  }
 ]
}