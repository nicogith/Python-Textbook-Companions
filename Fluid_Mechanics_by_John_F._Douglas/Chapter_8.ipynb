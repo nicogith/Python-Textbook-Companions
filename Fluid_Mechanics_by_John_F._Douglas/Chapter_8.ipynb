{
 "metadata": {
  "name": "",
  "signature": "sha256:b0713ad3f7c2f18448b69f687926b2d86e094144766f7b44f7fc20525a516074"
 },
 "nbformat": 3,
 "nbformat_minor": 0,
 "worksheets": [
  {
   "cells": [
    {
     "cell_type": "heading",
     "level": 1,
     "metadata": {},
     "source": [
      "Chapter 8: Dimensional Analysis"
     ]
    },
    {
     "cell_type": "heading",
     "level": 2,
     "metadata": {},
     "source": [
      "Example 8.1, Page 268"
     ]
    },
    {
     "cell_type": "code",
     "collapsed": false,
     "input": [
      "from __future__ import division\n",
      "import math\n",
      "\n",
      "\n",
      " #Initializing  the  variables\n",
      "P1  =  57;                                         #Power  in  SI\n",
      "M  =  1/14.6;                                      #Ratio  of  mass  in  SI/British\n",
      "L  =  1/0.3048;                                    #Ratio  of  length  in  SI/British\n",
      "T  =  1;                                           #Ratio  of  time  in  SI/British\n",
      "\n",
      "#Calculations\n",
      "'''\n",
      "n1 is the horsepower and N1 is the corresponding number of British units (ft*lbf/second),\n",
      "then     N1 = 550*n1.\n",
      "Similarly, for the SI system, n2 in kW,\n",
      "         N2 = 1000*n2\n",
      "''' \n",
      "N = (T**3)/(M*L**2)                         # N2/N1\n",
      "n = N*550/1000                              #n2/n1 \n",
      "P2  =  n*P1  ;                              #Power  in  kW\n",
      "\n",
      "print \"Power in kW       :\",round(P2,1)\n",
      "print \"Conversion Factor :\",round(n,3)"
     ],
     "language": "python",
     "metadata": {},
     "outputs": [
      {
       "output_type": "stream",
       "stream": "stdout",
       "text": [
        "Power in kW       : 42.5\n",
        "Conversion Factor : 0.746\n"
       ]
      }
     ],
     "prompt_number": 1
    }
   ],
   "metadata": {}
  }
 ]
}