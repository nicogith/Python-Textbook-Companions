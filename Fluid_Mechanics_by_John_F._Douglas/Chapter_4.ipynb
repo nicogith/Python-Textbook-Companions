{
 "metadata": {
  "name": "",
  "signature": "sha256:029b6e47f117cbc4316b9317b5e197658ff26f93dc8874c76dd6b6c464f4fec0"
 },
 "nbformat": 3,
 "nbformat_minor": 0,
 "worksheets": [
  {
   "cells": [
    {
     "cell_type": "heading",
     "level": 1,
     "metadata": {},
     "source": [
      "Chapter 4: Motion Fluid Particles and Streams"
     ]
    },
    {
     "cell_type": "heading",
     "level": 2,
     "metadata": {},
     "source": [
      "Example 4.1, Page 103"
     ]
    },
    {
     "cell_type": "code",
     "collapsed": false,
     "input": [
      "import math\n",
      "from pylab import *\n",
      "import numpy as np\n",
      "%matplotlib inline\n",
      "\n",
      " #Initializing  the  variables\n",
      "x = [0, 23, 28, 31, 32, 29, 22, 14, 0]\n",
      "y = np.linspace(0,80,9)\n",
      "xlabel('Velocity  (m/s)')\n",
      "ylabel('Distance  from  one  side(mm)')\n",
      "title('Velocity Distribution Curve')\n",
      "grid(1)\n",
      "\n",
      " #Calculations\n",
      "plot(x,y,'-*')\n",
      "show()\n",
      "mu=[17.5 , 26.0,  29.6,  31.9,  30.7,  25.4,  18.1,  7.7]\n",
      " #  mean  velocity\n",
      "print \"Mean velocity (m/s):\",round(mean(mu),2)\n",
      "\n"
     ],
     "language": "python",
     "metadata": {},
     "outputs": [
      {
       "metadata": {},
       "output_type": "display_data",
       "png": "[encoded data removed]",
       "text": [
        "<matplotlib.figure.Figure at 0x31fdd50>"
       ]
      },
      {
       "output_type": "stream",
       "stream": "stdout",
       "text": [
        "Mean velocity (m/s): 23.36\n"
       ]
      }
     ],
     "prompt_number": 1
    },
    {
     "cell_type": "heading",
     "level": 2,
     "metadata": {},
     "source": [
      "Example 4.2, Page 106"
     ]
    },
    {
     "cell_type": "code",
     "collapsed": false,
     "input": [
      "import math\n",
      "from pylab import *\n",
      "import numpy as np\n",
      "\n",
      " #Initializing  the  variables  all  unknowns  are  assigned  0\n",
      "\n",
      "d  =  [0.0, 0.05, 0.075, 0, 0.030];\n",
      "Q  =  [0, 0, 0, 0, 0];\n",
      "V  =  [0, 0, 2, 1.5, 0];\n",
      "A  =  [0, 0, 0, 0, 0]\n",
      " #Calculations\n",
      "A2  =  math.pi*d[2]**2/4;\n",
      "Q[2]  =A2*V[2];\n",
      "Q  =  [0,Q[2], Q[2],  Q[2]/1.5 , 0.5*Q[2]/1.5];\n",
      "d[3]  =  (Q[3]*4/(V[3]*math.pi))**0.5;\n",
      "for i in range(0,5):\n",
      "    A[i]  =  math.pi*d[i]**2/4;\n",
      "V[1]  =  V[2]*(A[2]/A[1]);\n",
      "V[4]=Q[4]/A[4];\n",
      "\n",
      "\n",
      "header  =  \"Diameter(mm)  Area(m2)\\t Flow Rate(m3/s)  Velocity(m/s)\"\n",
      "print header\n",
      "for c in range(1,5):\n",
      "    mm=str(round(d[c]*1000,1))+'\\t  '+str(round(A[c],6))+' \\t    '+str(round(Q[c],6))+'     \\t'+str(round(V[c],2))\n",
      "    print mm"
     ],
     "language": "python",
     "metadata": {},
     "outputs": [
      {
       "output_type": "stream",
       "stream": "stdout",
       "text": [
        "Diameter(mm)  Area(m2)\t Flow Rate(m3/s)  Velocity(m/s)\n",
        "50.0\t  0.001963 \t    0.008836     \t4.5\n",
        "75.0\t  0.004418 \t    0.008836     \t2.0\n",
        "70.7\t  0.003927 \t    0.00589     \t1.5\n",
        "30.0\t  0.000707 \t    0.002945     \t4.17\n"
       ]
      }
     ],
     "prompt_number": 3
    },
    {
     "cell_type": "heading",
     "level": 2,
     "metadata": {},
     "source": [
      "Example 4.3, Page 108"
     ]
    },
    {
     "cell_type": "code",
     "collapsed": false,
     "input": [
      "from __future__ import division\n",
      "import math\n",
      "import sympy\n",
      "from sympy import diff, Symbol\n",
      "\n",
      "\n",
      "#Initializing  the  variables \n",
      "'''\n",
      "def df(x, h=0.1e-5):\n",
      "    return ( f(x+h/2) - f(x-h/2) )/h\n",
      "    return df\n",
      "\n",
      "print df(2*x,h)\n",
      "'''\n",
      "x = Symbol('x') \n",
      "vx  =  3-x\n",
      "vy  =  4+2*x\n",
      "vz  =  2-x  \n",
      "\n",
      " #Calculations\n",
      "delVx  =  vx.diff(x);  \n",
      "delVy  =  vx.diff(x);\n",
      "delVz  =  vx.diff(x);  \n",
      "\n",
      "result  =  delVx+delVy+delVz;#requirement  of  continuity  equation  (result  =  0)\n",
      "print \"Satisfy requirement of continuity \"\n"
     ],
     "language": "python",
     "metadata": {},
     "outputs": [
      {
       "output_type": "stream",
       "stream": "stdout",
       "text": [
        "Satisfy requirement of continuity \n"
       ]
      }
     ],
     "prompt_number": 10
    }
   ],
   "metadata": {}
  }
 ]
}