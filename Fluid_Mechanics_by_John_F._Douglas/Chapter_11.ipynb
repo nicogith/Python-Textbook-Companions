{
 "metadata": {
  "name": "",
  "signature": "sha256:8adfc21cf4552e14b563ca7c0f2e56ece56cd7f1691cf9486f2cfbd789df7be1"
 },
 "nbformat": 3,
 "nbformat_minor": 0,
 "worksheets": [
  {
   "cells": [
    {
     "cell_type": "heading",
     "level": 1,
     "metadata": {},
     "source": [
      "Chapter 11: Boundary Layer"
     ]
    },
    {
     "cell_type": "heading",
     "level": 2,
     "metadata": {},
     "source": [
      "Example 11.1, Page 383"
     ]
    },
    {
     "cell_type": "code",
     "collapsed": false,
     "input": [
      "from __future__ import division\n",
      "import math\n",
      "\n",
      "\n",
      " #Initializing  the  variables\n",
      "rho  =  860;\n",
      "v  =  10**-5;\n",
      "Us  =  3;\n",
      "b  =  1.25;\n",
      "l  =  2;\n",
      "\n",
      " #Calculations\n",
      "x  =  1;                                                                    #  At  x  =1  \n",
      "Rex  =  Us*x/v;\n",
      "ReL  =  Us*l/v  ;\n",
      "mu  =    rho*v;\n",
      "T0  =  0.332*mu*Us/x*Rex**0.5;\n",
      "Cf  =  1.33*ReL**-0.5;\n",
      "F  =  rho*Us**2*l*b*Cf  ;\n",
      "print \"shear stress                                (N/m^2) :\" ,round(T0,1)\n",
      "print \"Total, double-sided resistance of the plate (N)     :\",round(F,3)"
     ],
     "language": "python",
     "metadata": {},
     "outputs": [
      {
       "output_type": "stream",
       "stream": "stdout",
       "text": [
        "shear stress                                (N/m^2) : 4.7\n",
        "Total, double-sided resistance of the plate (N)     : 33.224\n"
       ]
      }
     ],
     "prompt_number": 1
    },
    {
     "cell_type": "heading",
     "level": 2,
     "metadata": {},
     "source": [
      "Example 11.2, Page 387"
     ]
    },
    {
     "cell_type": "code",
     "collapsed": false,
     "input": [
      "from __future__ import division\n",
      "import math\n",
      "\n",
      "\n",
      " #Initializing  the  variables\n",
      "Us  =  6;\n",
      "b  =  3;\n",
      "l  =  30;\n",
      "rho  =  1000;\n",
      "mu  =  10**-3;\n",
      "T  =  20+273;                                                          #  Temperature  in  Kelvin\n",
      "\n",
      " #Calculations\n",
      " \n",
      "ReL  =  rho*Us*l/mu;  \n",
      "Cf  =  0.455*math.log10(ReL)**-2.58    ;\n",
      "\n",
      "F  =  rho*Us**2*l*b*Cf  ;\n",
      "Lt  =  10**5*mu/(rho*Us);                                    #  Assuming  transition  at  Rel  =  10**5\n",
      "\n",
      "print \"Drag Force (kN)       :\", round(F/1000,2)\n",
      "print \"Transition length (m) :\",round(Lt,4)"
     ],
     "language": "python",
     "metadata": {},
     "outputs": [
      {
       "output_type": "stream",
       "stream": "stdout",
       "text": [
        "Drag Force (kN)       : 6.36\n",
        "Transition length (m) : 0.0167\n"
       ]
      }
     ],
     "prompt_number": 2
    }
   ],
   "metadata": {}
  }
 ]
}