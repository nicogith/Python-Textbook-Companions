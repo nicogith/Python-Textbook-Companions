{
 "metadata": {
  "name": "",
  "signature": "sha256:8c235771f8d92166381a73459d7317269e7af4580e65930e8ce9765659a9e720"
 },
 "nbformat": 3,
 "nbformat_minor": 0,
 "worksheets": [
  {
   "cells": [
    {
     "cell_type": "heading",
     "level": 1,
     "metadata": {},
     "source": [
      "Chapter 6 : The Impulse Momentum Principle"
     ]
    },
    {
     "cell_type": "heading",
     "level": 2,
     "metadata": {},
     "source": [
      "Example 6.1 Page No : 176"
     ]
    },
    {
     "cell_type": "code",
     "collapsed": false,
     "input": [
      "\n",
      "import math \n",
      "\t\t\n",
      "# variables\n",
      "G = 10.;\t\t#cfs\n",
      "d1 = 12.;\t\t#in\n",
      "d2 = 8.;\t\t#in\n",
      "p1 = 10.;\t\t#psi\n",
      "V = 3.;\t\t    #cuft\n",
      "theta = 60.;\t#degrees\n",
      "p2 = 3.43;\t\t# psi\n",
      "w = 187.;\t\t#lb\n",
      "\n",
      "# calculations \n",
      "V1 = G/(0.25*math.pi*(d1/12)**2);\n",
      "V2 = G/(0.25*math.pi*(d2/12)**2);\n",
      "F1 = 0.25*math.pi*(d1**2)*p1;\n",
      "F2 = 0.25*math.pi*d2**2 *p2;\n",
      "Fx = F1+F2*math.cos(theta*math.pi/180) - G*1.935*(-V2*math.cos(theta*math.pi/180) - V1);\n",
      "Fz = F2*math.sin(theta*math.pi/180) + w + G*1.935*(V2*math.sin(theta*math.pi/180));\n",
      "F = round(math.sqrt(Fx**2 + Fz**2),-1);\n",
      "alpha = (180/math.pi)*math.atan(Fz/Fx);\n",
      "\n",
      "# results \n",
      "print 'The force on the bend = %d lb at %d degrees with the horizontal'%(F,alpha);\n",
      "\n"
     ],
     "language": "python",
     "metadata": {},
     "outputs": [
      {
       "output_type": "stream",
       "stream": "stdout",
       "text": [
        "The force on the bend = 1920 lb at 25 degrees with the horizontal\n"
       ]
      }
     ],
     "prompt_number": 3
    },
    {
     "cell_type": "heading",
     "level": 2,
     "metadata": {},
     "source": [
      "Example 6.2 Page No : 178"
     ]
    },
    {
     "cell_type": "code",
     "collapsed": false,
     "input": [
      "\n",
      "import math \n",
      "\t\t\n",
      "# variables\n",
      "l1 = 5.;\t\t#ft\n",
      "l2 = 2.;\t\t#ft\n",
      "\n",
      "# calculations \n",
      "V1 = round(math.sqrt(2*32.2*(l2-l1)/(1-(l1/l2)**2)),2);\n",
      "V2 = round((l1/l2)*V1,1);\n",
      "q = round(l1*V1,1);\n",
      "F1 = 62.4*(l1**2)/2;\n",
      "F2 = 62.4*(l2**2)/2;\n",
      "Fx = F1-F2-q*1.935*(V2-V1);\n",
      "\n",
      "# results \n",
      "print 'Force = %d lb and direction is in downstream direction'%(Fx);\n",
      "\n",
      "#answer differs due to incorrect value of F2 in textbook"
     ],
     "language": "python",
     "metadata": {},
     "outputs": [
      {
       "output_type": "stream",
       "stream": "stdout",
       "text": [
        "Force = 118 lb and direction is in downstream direction\n"
       ]
      }
     ],
     "prompt_number": 3
    },
    {
     "cell_type": "heading",
     "level": 2,
     "metadata": {},
     "source": [
      "Example 6.3 Page No : 182"
     ]
    },
    {
     "cell_type": "code",
     "collapsed": false,
     "input": [
      "\n",
      "import math \n",
      "\n",
      "# variables\n",
      "d = 2.;\t\t#ft\n",
      "Q = 40.;\t\t#cfs/ft\n",
      "\n",
      "# calculations \n",
      "V1 = Q/d;\n",
      "y1 = d;\n",
      "K1 = V1**2 /(32.2*y1);\n",
      "y2 = (-1 +math.sqrt(1+8*K1));\n",
      "V2 = Q/y2 ;\n",
      "delta = d + (V1**2 /(2*32.2)) - y2 - (V2**2 /(2*32.2));\n",
      "hp = Q*62.4*delta/550.;\n",
      "\n",
      "# results \n",
      "print 'y2 = %.2f ft, delta = %.2f ft, Horsepower dissipated = %.1f hp'%(y2,delta,hp);\n",
      "\n",
      "#incorrect answer given in textbook"
     ],
     "language": "python",
     "metadata": {},
     "outputs": [
      {
       "output_type": "stream",
       "stream": "stdout",
       "text": [
        "y2 = 6.12 ft, delta = 1.43 ft, Horsepower dissipated = 6.5 hp\n"
       ]
      }
     ],
     "prompt_number": 5
    },
    {
     "cell_type": "heading",
     "level": 2,
     "metadata": {},
     "source": [
      "Example 6.4 Page No : 184"
     ]
    },
    {
     "cell_type": "code",
     "collapsed": false,
     "input": [
      "\n",
      "import math \n",
      "\n",
      "# variables\n",
      "y1 = 2.;\t\t#ft\n",
      "V1 = 20.;\t\t#fps\n",
      "beta = 40.;\t\t#degrees\n",
      "\n",
      "# calculations \n",
      "K1 = (V1**2)/(32.2*y1);\n",
      "y2 = (-1 + math.sqrt(1+8*K1*(math.sin(beta*math.pi/180))**2));\n",
      "k = (y1/y2)*V1*math.sin(beta*math.pi/180);\n",
      "del_angle = (180/math.pi)*math.tan(math.sqrt((math.tan(beta*math.pi/180)) *(1+2*k**2 /(32.2*y2))/(1+2*K1*(math.sin(beta*math.pi/180))**2)));\n",
      "theta = beta-del_angle;\n",
      "\n",
      "# results \n",
      "print 'The required wedge angle = %.d degrees'%(2*theta);\n",
      "    \n",
      "#rounding-off errors in the answer given in textbook"
     ],
     "language": "python",
     "metadata": {},
     "outputs": [
      {
       "output_type": "stream",
       "stream": "stdout",
       "text": [
        "The required wedge angle = 16 degrees\n"
       ]
      }
     ],
     "prompt_number": 8
    },
    {
     "cell_type": "heading",
     "level": 2,
     "metadata": {},
     "source": [
      "Example 6.5 Page No : 186"
     ]
    },
    {
     "cell_type": "code",
     "collapsed": false,
     "input": [
      "\n",
      "import math \n",
      "\t\t\n",
      "# variables\n",
      "p1 = 14.7;\t\t#psia\n",
      "V1 = 1732.;\t\t#pfs\n",
      "a1 = 862.;\t\t#fps\n",
      "\n",
      "# calculations \n",
      "M1 = round(V1/a1,2);\n",
      "M2 = (math.sqrt((1+(0.4*M1**2)/2)/(1.4*M1**2 - (0.4/2))));\n",
      "p2 = p1*(1+2*(1.4/2.4)*(M1**2 -1));\n",
      "V2 = V1*((2+0.4*M1**2)/(2.4*M1**2));\n",
      "a2 = V2/M2;\n",
      "T2 = a2**2/(1.4*32.2*53.3);\n",
      "T1 = a1**2/(1.4*32.2*53.3);\n",
      "del_T = T2-T1;\n",
      "\n",
      "# results \n",
      "print 'p2 = %.1f psia, V2 = %d fps, a2 = %d fps, T2 = %d degreeR'%(p2,V2,a2,T2);\n",
      "print 'Rise of temperature = %d degreeF'%(del_T);\n",
      "\n",
      "#Answer differs due to rounding-off errors in M2"
     ],
     "language": "python",
     "metadata": {},
     "outputs": [
      {
       "output_type": "stream",
       "stream": "stdout",
       "text": [
        "p2 = 66.8 psia, V2 = 645 fps, a2 = 1122 fps, T2 = 523 degreeR\n",
        "Rise of temperature = 214 degreeF\n"
       ]
      }
     ],
     "prompt_number": 28
    },
    {
     "cell_type": "heading",
     "level": 2,
     "metadata": {},
     "source": [
      "Example 6.6 Page No : 188"
     ]
    },
    {
     "cell_type": "code",
     "collapsed": false,
     "input": [
      "\n",
      "import math \n",
      "\n",
      "# variables\n",
      "p1 = 14.7;\t\t# psia\n",
      "v1 = 1732.;\t\t# fps\n",
      "a1 = 862.;\t\t# fps\n",
      "beta = 40.;\t\t# degrees\n",
      "\n",
      "# calculations \n",
      "M1 = round(v1/a1,2);\n",
      "T1 = round(a1**2 /(1.4*32.2*53.3),-1);\n",
      "p2 = round(p1*(1 + 2*(1.4/2.4)*(M1**2 *(math.sin(beta*math.pi/180))**2 -1)));\n",
      "beta_theta = math.degrees(math.atan(math.tan(math.radians(beta)) * (0.4*(M1*math.sin(math.radians(beta)))**2 +2)/(2.4*(M1*math.sin(math.radians(beta)))**2)))\n",
      "theta = round(beta - beta_theta,1)\n",
      "M2 = round(math.sqrt((1/math.sin((beta-theta)*math.pi/180)**2) *(1 + (0.4/2)*((M1*math.sin(beta*math.pi/180))**2) )/((1.4*(M1*math.sin(beta*math.pi/180))**2) -(0.4/2))),2)\n",
      "v2 = v1*math.cos(beta*math.pi/180)/math.cos((29.3)*math.pi/180);\n",
      "a2 = v2/M2;\n",
      "T2 = a2**2 /(1.4*32.2*53.3);\n",
      "\n",
      "# results \n",
      "print 'Angle required = %.1f degrees, p2 = %.1f psia, v2 = %d fps, a2 = %.f fps, T2 = %.1f degreeR'%(theta,p2,v2,round(a2,-1),T2);\n",
      "\n",
      "# note : answers differ due to rounding off error\t\t"
     ],
     "language": "python",
     "metadata": {},
     "outputs": [
      {
       "output_type": "stream",
       "stream": "stdout",
       "text": [
        "Angle required = 10.8 degrees, p2 = 26.0 psia, v2 = 1521 fps, a2 = 940 fps, T2 = 367.1 degreeR\n"
       ]
      }
     ],
     "prompt_number": 28
    },
    {
     "cell_type": "heading",
     "level": 2,
     "metadata": {},
     "source": [
      "Example 6.7 Page No : 190"
     ]
    },
    {
     "cell_type": "code",
     "collapsed": false,
     "input": [
      "\n",
      "import math \n",
      "\n",
      "# variables\n",
      "F = 1000;\t\t#lb\n",
      "H = 30000;\t\t#ft\n",
      "v1 = 500.;\t\t#fps\n",
      "v2 = 4000.;\t\t#fps\n",
      "p2 = 5;\t\t    #psia\n",
      "A2 = 1;\t\t    #sqft\n",
      "p1 = 4.37;\t\t#psia\n",
      "\n",
      "# calculations \n",
      "G_a = (F - (p2-p1)*A2*144)*32.2/(v2-v1);\n",
      "\n",
      "# results \n",
      "print 'Ga = %.1f lb/sec'%(G_a);"
     ],
     "language": "python",
     "metadata": {},
     "outputs": [
      {
       "output_type": "stream",
       "stream": "stdout",
       "text": [
        "Ga = 8.4 lb/sec\n"
       ]
      }
     ],
     "prompt_number": 11
    },
    {
     "cell_type": "heading",
     "level": 2,
     "metadata": {},
     "source": [
      "Example 6.8 Page No : 194"
     ]
    },
    {
     "cell_type": "code",
     "collapsed": false,
     "input": [
      "\n",
      "import math \n",
      "\t\t\n",
      "# variables\n",
      "gam = 0.0765;\t# lb/cuft\n",
      "V1 = 293.;\t\t#fps\n",
      "hp = 1500.;\n",
      "h = 10.;\t\t#ft\n",
      "V4 = 338.;\t\t#fps\n",
      "\n",
      "# calculations \n",
      "V = 0.5*(V1+V4);\n",
      "Q = hp*550/((V4-V1)*V*gam/32.2);\n",
      "d1 = math.sqrt(Q/(V1*0.25*math.pi));\n",
      "d4 = math.sqrt(Q/(V4*0.25*math.pi));\n",
      "F = Q*(gam/32.2)*(V4-V1);\n",
      "eta = V1/V;\n",
      "\n",
      "# results \n",
      "print 'V4 = %d fps, V = %.1f fps, d1 = %.1f ft, d4 = %.2f ft, F = %d lb, efficiency = %.1f percentage'%(V4,V,d1,d4,F,eta*100);\n",
      "\n",
      "#answer differs due to rounding-off errors"
     ],
     "language": "python",
     "metadata": {},
     "outputs": [
      {
       "output_type": "stream",
       "stream": "stdout",
       "text": [
        "V4 = 338 fps, V = 315.5 fps, d1 = 10.3 ft, d4 = 9.60 ft, F = 2614 lb, efficiency = 92.9 percentage\n"
       ]
      }
     ],
     "prompt_number": 12
    },
    {
     "cell_type": "heading",
     "level": 2,
     "metadata": {},
     "source": [
      "Example 6.9 Page No : 198"
     ]
    },
    {
     "cell_type": "code",
     "collapsed": false,
     "input": [
      "\n",
      "import math \n",
      "\t\t\n",
      "# variables\n",
      "D = 6.;\t\t#ft\n",
      "d = 2.;\t\t#in\n",
      "V1 = 200.;\t\t#fps\n",
      "rpm = 250.;\n",
      "theta = 150.;\t\t#degrees\n",
      "\n",
      "# calculations \n",
      "u = (rpm/60)*2*math.pi*0.5*D;\n",
      "v1 = V1-u;\n",
      "v2 = v1;\n",
      "V_2x = v1*math.cos(theta*math.pi/180) + u;\n",
      "V_2y = v2*math.sin(theta*math.pi/180);\n",
      "V2 = math.sqrt(V_2x**2 + V_2y**2);\n",
      "Q = 0.25*math.pi*(d/12)**2 *V1;\n",
      "F_x = Q*1.935*(V_2x-V1);\n",
      "P = F_x*u/550;\n",
      "\n",
      "# results \n",
      "print 'The working component of force on fluid = %d lb, P = %.f hp'%(F_x,-P);\n",
      "\n",
      "#answer differs due to rounding-off errors"
     ],
     "language": "python",
     "metadata": {},
     "outputs": [
      {
       "output_type": "stream",
       "stream": "stdout",
       "text": [
        "The working component of force on fluid = -1913 lb, P = 273 hp\n"
       ]
      }
     ],
     "prompt_number": 10
    },
    {
     "cell_type": "heading",
     "level": 2,
     "metadata": {},
     "source": [
      "Example 6.10 Page No : 199"
     ]
    },
    {
     "cell_type": "code",
     "collapsed": false,
     "input": [
      "\n",
      "import math \n",
      "\t\t\n",
      "# variables\n",
      "P = 100.;\t\t#hp\n",
      "V = 75.;\t\t#fps\n",
      "V1 = 150.;\t\t#fps\n",
      "d = 2.;\t\t#in\n",
      "alpha1 = 60.;\t\t#degrees\n",
      "\n",
      "# calculations \n",
      "Q = round(0.25*math.pi*(d/12)**2 *V1,2);\n",
      "F_y = round(550*P/V);\n",
      "V2 = math.sqrt(V1**2 - P*550/(Q*1.935/2));\n",
      "alpha2 = (180/math.pi)*math.asin((V1*math.sin(alpha1*math.pi/180) - (F_y/(Q*1.935)))/V2);\n",
      "beta1 = 90 - (180/math.pi)*math.atan((V1*math.sin(alpha1*math.pi/180) - V)/(V1*math.cos(alpha1*math.pi/180)));\n",
      "beta2 = 90 + (180/math.pi)*math.atan((V-V2*math.sin(alpha2*math.pi/180))/(V1*math.cos(alpha1*math.pi/180)));\n",
      "\n",
      "\n",
      "# results \n",
      "print 'Beta1 = %.f degrees, Beta2 = %.f degrees'%(beta1,round(beta2,-1));\n",
      "\n",
      "\n",
      "# note : answer differs due to rounding off error\t\t"
     ],
     "language": "python",
     "metadata": {},
     "outputs": [
      {
       "output_type": "stream",
       "stream": "stdout",
       "text": [
        "Beta1 = 54 degrees, Beta2 = 130 degrees\n"
       ]
      }
     ],
     "prompt_number": 32
    },
    {
     "cell_type": "heading",
     "level": 2,
     "metadata": {},
     "source": [
      "Example 6.11 Page No : 203"
     ]
    },
    {
     "cell_type": "code",
     "collapsed": false,
     "input": [
      "\n",
      "import math \n",
      "\t\t\n",
      "# variables\n",
      "r1 = 5.;\t\t#ft\n",
      "r2 = 3.5;\t\t#ft\n",
      "beta1 = 60.;\t\t#degrees\n",
      "beta2 = 150.;\t\t#degrees\n",
      "t = 1.;\t\t#ft\n",
      "alpha1 = 15.;\t\t#degree\n",
      "Q = 333.;\t\t#cfs\n",
      "gam = 0.434;\n",
      "\n",
      "# calculations \n",
      "V_r1 = round(Q/(2*math.pi*r1),1);\n",
      "V_r2 = round(Q/(2*math.pi*r2),2);\n",
      "V_t1 = round(V_r1*(1/math.tan(alpha1*math.pi/180)),1);\n",
      "u1 = round(V_t1 - V_r1*math.tan((90-beta1)*math.pi/180),1);\n",
      "omega = round(u1/r1,1);\n",
      "u2 = round(omega*r2,1);\n",
      "V_t2 = round(u2 - V_r2*(1/math.tan((90-beta1)*math.pi/180)),1);\n",
      "T = Q*1.935*(V_t1*r1 - (V_t2*r2));\n",
      "hp = T*omega/550;\n",
      "E_T = hp*550/(Q*62.4);\n",
      "V1 = math.sqrt(V_r1**2 + V_t1**2);\n",
      "V2 = math.sqrt(V_r2**2 + V_t2**2);\n",
      "del_p = E_T*gam + (gam/(2*32.2))*(V2**2 - V1**2);\n",
      "\n",
      "# results \n",
      "print 'V1 = %.1f fps, V2 = %.1f fps, T = %d ft-lb, hp = %d lb, E_T = %.1f ft-lb/lb, p1-p2 = %.1f psi'%(V1,V2,T,hp,E_T,del_p);\n",
      "\n",
      "#incorrect answer given in textbook"
     ],
     "language": "python",
     "metadata": {},
     "outputs": [
      {
       "output_type": "stream",
       "stream": "stdout",
       "text": [
        "V1 = 41.0 fps, V2 = 15.4 fps, T = 133896 ft-lb, hp = 1631 lb, E_T = 43.2 ft-lb/lb, p1-p2 = 9.0 psi\n"
       ]
      }
     ],
     "prompt_number": 49
    },
    {
     "cell_type": "heading",
     "level": 2,
     "metadata": {},
     "source": [
      "Example 6.12 Page No : 204"
     ]
    },
    {
     "cell_type": "code",
     "collapsed": false,
     "input": [
      "\n",
      "import math \n",
      "\t\t\n",
      "# variables\n",
      "r1 = 3.;\t\t#in\n",
      "r2 = 10.;\t\t#in\n",
      "beta1 = 120.;\t\t#degrees\n",
      "beta2 = 135.;\t\t#degrees\n",
      "t = 1.;\t\t#in\n",
      "Q = 4.;\t\t#cfs\n",
      "gam = 0.434;\n",
      "\n",
      "# calculations \n",
      "V1 = Q*144/(2*math.pi*r1);\n",
      "V_r1 = V1;\n",
      "V_r2 = Q*144/(2*math.pi*r2);\n",
      "u1 = V1*math.tan((beta1-90)*math.pi/180);\n",
      "omega = u1/(r1/12);\n",
      "u2 = omega*(r2/12);\n",
      "V_t2 = u2 - V_r2/math.tan((180-beta2)*math.pi/180);\n",
      "T = Q*1.935*(V_t2*(r2/12));\n",
      "P = T*omega/547.561;\t\t#hp\n",
      "E_P = P*550/(Q*62.4);\n",
      "V2 = math.sqrt(V_r2**2 + V_t2**2);\n",
      "del_p = E_P*gam + (gam/(2*32.2))*(V1**2 - V2**2);\n",
      "\n",
      "# results \n",
      "print 'Rotational speed = %.1f rad/sec '%(omega)\n",
      "print ' T = %d ft-lb, P = %.1f hp'%(T,P);\n",
      "print ' The energy given to each pound of water = %d ft'%(E_P);\n",
      "print ' The pressure rise = %.1f psi'%(del_p);\n",
      "\n"
     ],
     "language": "python",
     "metadata": {},
     "outputs": [
      {
       "output_type": "stream",
       "stream": "stdout",
       "text": [
        "Rotational speed = 70.6 rad/sec \n",
        " T = 320 ft-lb, P = 41.3 hp\n",
        " The energy given to each pound of water = 90 ft\n",
        " The pressure rise = 28.6 psi\n"
       ]
      }
     ],
     "prompt_number": 15
    }
   ],
   "metadata": {}
  }
 ]
}