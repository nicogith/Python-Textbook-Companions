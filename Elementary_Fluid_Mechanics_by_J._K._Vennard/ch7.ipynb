{
 "metadata": {
  "name": "",
  "signature": "sha256:46e45d2f6c46e25d719ba327e4ef8cabd3b2b67788136ad3286b5847149f6378"
 },
 "nbformat": 3,
 "nbformat_minor": 0,
 "worksheets": [
  {
   "cells": [
    {
     "cell_type": "heading",
     "level": 1,
     "metadata": {},
     "source": [
      "Chapter 7 : Flow of a Real Fluid"
     ]
    },
    {
     "cell_type": "heading",
     "level": 2,
     "metadata": {},
     "source": [
      "Example 7.1 Page No : 225"
     ]
    },
    {
     "cell_type": "code",
     "collapsed": false,
     "input": [
      "\n",
      "import math \n",
      "\t\t\n",
      "# variables\n",
      "nu = 0.00001;\t\t# sqft/sec\n",
      "d = 1.;\t\t#in\n",
      "R_c = 2100.;\n",
      "\n",
      "# calculations \n",
      "V = R_c*nu/(d/12);\n",
      "Q = V*0.25*math.pi*(d/12)**2;\n",
      "\n",
      "# results \n",
      "print 'Q = %.6f cfs'%(Q);"
     ],
     "language": "python",
     "metadata": {},
     "outputs": [
      {
       "output_type": "stream",
       "stream": "stdout",
       "text": [
        "Q = 0.001374 cfs\n"
       ]
      }
     ],
     "prompt_number": 1
    },
    {
     "cell_type": "heading",
     "level": 2,
     "metadata": {},
     "source": [
      "Example 7.2 pageno : 230"
     ]
    },
    {
     "cell_type": "code",
     "collapsed": false,
     "input": [
      "import math\n",
      "\n",
      "# calculations\n",
      "e = 0.2/(1./0.33)\n",
      "l2 = 0.2/(1.94 * (1/0.33)**2)\n",
      "l = math.sqrt(l2)\n",
      "k2 = 0.2/(1.94 * (1/0.33)**2 / (-1/(0.33**2)**0.5)**2)\n",
      "k = math.sqrt(k2)\n",
      "\n",
      "# results\n",
      "print \"E = %.3f lb-sec/sqft\"%e\n",
      "print \"l = %.3f ft\"%l\n",
      "print \"k = %.2f\"%k\n"
     ],
     "language": "python",
     "metadata": {},
     "outputs": [
      {
       "output_type": "stream",
       "stream": "stdout",
       "text": [
        "E = 0.066 lb-sec/sqft\n",
        "l = 0.106 ft\n",
        "k = 0.32\n"
       ]
      }
     ],
     "prompt_number": 1
    },
    {
     "cell_type": "heading",
     "level": 2,
     "metadata": {},
     "source": [
      "Example 7.4 Page No : 240"
     ]
    },
    {
     "cell_type": "code",
     "collapsed": false,
     "input": [
      "\n",
      "import math \n",
      "\t\t\n",
      "# variables\n",
      "G = 240.;\t\t#lb/sec\n",
      "A1 = 4.;\t\t#sqft\n",
      "A2 = 2.;\t\t#sqft\n",
      "z1 = 30.;\t\t#ft\n",
      "z2 = 80.;\t\t#ft\n",
      "V1 = 600.;\t\t# fps\n",
      "V2 = 800.;\t\t#fps\n",
      "p1 = 20.;\t\t#psia\n",
      "p2 = 35.;\t\t# psia\n",
      "\n",
      "# calculations \n",
      "gam1 = G/(A1*V1);\n",
      "gam2 = G/(A2*V2);\n",
      "T1 = p1*144/(53.3*gam1);\n",
      "T2 = p2*144/(53.3*gam2);\n",
      "del_H = 186.5*(T2-T1);\n",
      "E_H1 = (V2**2)/(2*32.2) - (V1**2)/(2*32.2) +del_H+z2-z1;\n",
      "E_H2 = (V2**2)/(2*32.2) - (V1**2)/(2*32.2) +del_H;\n",
      "Q = G*E_H2/550.;\n",
      "\n",
      "# results \n",
      "print 'T1 = %d degreeR, T2 = %d degreeR'%(T1,T2);\n",
      "print ' The net heat energy added = %d hp'%(round(Q,-1));\n",
      "\n",
      "#answer differs due to rounding-off errors"
     ],
     "language": "python",
     "metadata": {},
     "outputs": [
      {
       "output_type": "stream",
       "stream": "stdout",
       "text": [
        "T1 = 540 degreeR, T2 = 630 degreeR\n",
        " The net heat energy added = 9230 hp\n"
       ]
      }
     ],
     "prompt_number": 3
    },
    {
     "cell_type": "heading",
     "level": 2,
     "metadata": {},
     "source": [
      "Example 7.5 Page No : 240"
     ]
    },
    {
     "cell_type": "code",
     "collapsed": false,
     "input": [
      "\n",
      "import math \n",
      "\t\t\n",
      "# variables\n",
      "G = 50.;\t\t#cfs\n",
      "Q = 400.;\t\t#hp\n",
      "A1 = 4.;\t\t#sqft\n",
      "A2 = 2.;\t\t#sqft\n",
      "z1 = 30.;\t\t#ft\n",
      "z2 = 80.;\t\t#ft\n",
      "p1 = 20.;\t\t#psi\n",
      "p2 = 10.;\t\t#psi\n",
      "\n",
      "# calculations \n",
      "V1 = G/A1;\n",
      "V2 = G/A2;\n",
      "E_p = Q*(550/62.4)/G;\n",
      "h_L = (p1-p2)*144/62.4 + (V1**2 - V2**2)/(2*32.2) +(z1-z2)+E_p;\n",
      "\n",
      "# results \n",
      "print 'Head lost = %.1f ft'%(h_L);"
     ],
     "language": "python",
     "metadata": {},
     "outputs": [
      {
       "output_type": "stream",
       "stream": "stdout",
       "text": [
        "Head lost = 36.3 ft\n"
       ]
      }
     ],
     "prompt_number": 4
    },
    {
     "cell_type": "heading",
     "level": 2,
     "metadata": {},
     "source": [
      "Example 7.6 Page No : 243"
     ]
    },
    {
     "cell_type": "code",
     "collapsed": false,
     "input": [
      "\n",
      "import math \n",
      "\t\t\n",
      "# variables\n",
      "b = 3.;\t\t#ft\n",
      "d = 2.;\t\t#ft\n",
      "l = 200.;\t\t#ft\n",
      "h_L = 30.;\t\t#ft\n",
      "\n",
      "# calculations \n",
      "tau_0 = h_L*62.4*b*d/(10*l);\t\t#0.00694\n",
      "\n",
      "# results \n",
      "print 'The resistance stress exerted between fluid and conduit walls = %.2f psf = %.3f psi'%(tau_0,tau_0*0.00694);"
     ],
     "language": "python",
     "metadata": {},
     "outputs": [
      {
       "output_type": "stream",
       "stream": "stdout",
       "text": [
        "The resistance stress exerted between fluid and conduit walls = 5.62 psf = 0.039 psi\n"
       ]
      }
     ],
     "prompt_number": 9
    },
    {
     "cell_type": "heading",
     "level": 2,
     "metadata": {},
     "source": [
      "Example 7.7 Page No : 244"
     ]
    },
    {
     "cell_type": "code",
     "collapsed": false,
     "input": [
      "\n",
      "import math \n",
      "\t\t\n",
      "# variables        \n",
      "h_L = 30.;\t\t#ft\n",
      "l = 200.;\t\t#ft\n",
      "d = 2.;\t\t#ft\n",
      "r = 8.;\t\t#in\n",
      "\n",
      "# calculations \n",
      "#part (a)\n",
      "tau_0 = h_L*62.4/(d*l);\n",
      "#part(b)\n",
      "tau = (0.5*r/12)*(tau_0*0.00694);\n",
      "\n",
      "# results \n",
      "print 'Parta): Shear stress = %.2f psf = %.4f psi '%(tau_0,tau_0*0.00694);\n",
      "print 'Partb): Shear stress = %.4f psi '%(tau);"
     ],
     "language": "python",
     "metadata": {},
     "outputs": [
      {
       "output_type": "stream",
       "stream": "stdout",
       "text": [
        "Parta): Shear stress = 4.68 psf = 0.0325 psi \n",
        "Partb): Shear stress = 0.0108 psi \n"
       ]
      }
     ],
     "prompt_number": 10
    }
   ],
   "metadata": {}
  }
 ]
}