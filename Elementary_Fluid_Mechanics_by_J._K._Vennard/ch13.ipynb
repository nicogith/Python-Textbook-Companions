{
 "metadata": {
  "name": "",
  "signature": "sha256:bd33818d3448353cd987bb363aa4b45c6fc5ac2971d0999934915bf83d11a9cd"
 },
 "nbformat": 3,
 "nbformat_minor": 0,
 "worksheets": [
  {
   "cells": [
    {
     "cell_type": "heading",
     "level": 1,
     "metadata": {},
     "source": [
      "Chapter 13 : Fluid Flow about Immersed Objects"
     ]
    },
    {
     "cell_type": "heading",
     "level": 2,
     "metadata": {},
     "source": [
      "Example 13.1 Page No : 502"
     ]
    },
    {
     "cell_type": "code",
     "collapsed": false,
     "input": [
      "\n",
      "import math \n",
      "\t\t\n",
      "# variables\n",
      "b = 50.;\t\t#ft\n",
      "c = 7.;\t\t    #ft\n",
      "CL = 0.6;\t\t#lift coefficient\n",
      "CD = 0.05;\t\t#drag coefficient\n",
      "alpha = 7.;\t\t#degrees\n",
      "V = round(150/0.681818);\t\t#coverting mph to fps\n",
      "H = 10000.;\t\t#ft\n",
      "rho = 0.001756;\t\t#slug/cuft\n",
      "\n",
      "# calculations \n",
      "D = CD*b*c*rho*0.5*V**2;\n",
      "hp = D*V/550;\n",
      "L = CL*b*c*rho*0.5*V**2;\n",
      "mu = 3.534*10**-7;\t\t#lb-sec/sqft\n",
      "R = V*c*rho/mu;\n",
      "a = math.sqrt(1.4*32.2*53.3*(23.4+459.6));\n",
      "M = V/a;\n",
      "\n",
      "# results \n",
      "print 'hp = %.f hp, L = %.2f lb, R = %d, M = %.3f'%(hp,L,round(R,-4),M);\n",
      "\n",
      "# note : answer is different because of rounding off error"
     ],
     "language": "python",
     "metadata": {},
     "outputs": [
      {
       "output_type": "stream",
       "stream": "stdout",
       "text": [
        "hp = 297 hp, L = 8923.99 lb, R = 7650000, M = 0.204\n"
       ]
      }
     ],
     "prompt_number": 3
    },
    {
     "cell_type": "heading",
     "level": 2,
     "metadata": {},
     "source": [
      "Example 13.2 Page No : 511"
     ]
    },
    {
     "cell_type": "code",
     "collapsed": false,
     "input": [
      "\n",
      "import math \n",
      "\t\t\n",
      "# variables\n",
      "l = 5.;\t\t#ft\n",
      "d = 0.5;\t\t#ft\n",
      "v = 1.;\t\t#fps\n",
      "T = 60.;\t\t#degreeF\n",
      "D = 0.04;\t\t#lb\n",
      "k = 1./64;\t\t#model scale\n",
      "\n",
      "# calculations \n",
      "nu = 0.00001217;\n",
      "R = round(v*l/nu,-4);\n",
      "Cf1 = 0.0020;\n",
      "Cf2 = 0.0052;\n",
      "Dx1 = round(2*Cf1*l*d*1.938*0.5*v**2,4);\n",
      "Dx2 = round(2*Cf2*l*d*1.938*0.5*v**2,3) \n",
      "delta1 = round(l*5.20/math.sqrt(R),2);\n",
      "delta2 = l*0.38/(R**0.2);\n",
      "V_0 = math.sqrt((v**2 /l)*(l*(1/k)));\n",
      "R_p = V_0*l*(1/k)/nu;\n",
      "Cf = 0.00185;\n",
      "Dx = 2*Cf*l*d*(1/k)**2 *1.938*0.5*V_0**2;\n",
      "Dw = D-Dx2;\n",
      "Dw_p = (1/k)**2 *d*l*V_0**2 *Dw/(l*d);\n",
      "D = round(Dw_p + Dx,-1);\n",
      "\n",
      "# results \n",
      "print 'Total drag of the prototype = %d lb'%(D);\n",
      "\n"
     ],
     "language": "python",
     "metadata": {},
     "outputs": [
      {
       "output_type": "stream",
       "stream": "stdout",
       "text": [
        "Total drag of the prototype = 6280 lb\n"
       ]
      }
     ],
     "prompt_number": 13
    },
    {
     "cell_type": "heading",
     "level": 2,
     "metadata": {},
     "source": [
      "Example 13.3 Page No : 524"
     ]
    },
    {
     "cell_type": "code",
     "collapsed": false,
     "input": [
      "\n",
      "import math \n",
      "\n",
      "# variables\n",
      "c = 6.;\t\t#ft\n",
      "b = 36.;\t\t#ft\n",
      "AR1 = 6.;\t\t#aspect ratio\n",
      "Cd = 0.0543;\t\t#drag coefficient\n",
      "Cl = 0.960;\t\t#lift coefficient\n",
      "alpha1 = 7.2;\t\t#degrees\n",
      "AR2 = 8.;\n",
      "\n",
      "# calculations \n",
      "#for aspect ratio = 8\n",
      "CL = 0.960;\t\t#negligible change of lift coefficient\n",
      "#for aspect ratio = 6\n",
      "C_Di = Cl**2 /(math.pi*AR1);\n",
      "#for aspect ratio = infinity\n",
      "C_D0 = Cd - C_Di;\n",
      "#for AR = 8\n",
      "C_D = C_D0 + Cl**2 /(math.pi*AR2);\n",
      "#for AR = 6\n",
      "alpha_i = (180/math.pi)*Cl/(math.pi*AR1);\n",
      "#for AR = infinty\n",
      "alpha_0 = alpha1 - alpha_i;\n",
      "#for AR = 8\n",
      "alpha = alpha_0 + Cl/(AR2*math.pi) *(360/(2*math.pi));\n",
      "\n",
      "# results \n",
      "print 'Lift coefficient = %.3f (negligible change of lift coefficient)'%(CL);  #incorrect answer in the textbook\n",
      "print 'Drag coefficient = %.4f'%(C_D);\n",
      "print 'Angle of attack = %.1f degress'%(alpha);"
     ],
     "language": "python",
     "metadata": {},
     "outputs": [
      {
       "output_type": "stream",
       "stream": "stdout",
       "text": [
        "Lift coefficient = 0.960 (negligible change of lift coefficient)\n",
        "Drag coefficient = 0.0421\n",
        "Angle of attack = 6.5 degress\n"
       ]
      }
     ],
     "prompt_number": 3
    }
   ],
   "metadata": {}
  }
 ]
}