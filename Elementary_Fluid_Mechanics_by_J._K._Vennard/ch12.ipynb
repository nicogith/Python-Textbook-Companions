{
 "metadata": {
  "name": "",
  "signature": "sha256:3092cd2ae5a90e09126e9d647e026620efd1b57b1d7964dfe20aa5cd324764f3"
 },
 "nbformat": 3,
 "nbformat_minor": 0,
 "worksheets": [
  {
   "cells": [
    {
     "cell_type": "heading",
     "level": 1,
     "metadata": {},
     "source": [
      "Chapter 12 : Elementary Hydrodynamics"
     ]
    },
    {
     "cell_type": "heading",
     "level": 2,
     "metadata": {},
     "source": [
      "Example 12.1 Page No : 490"
     ]
    },
    {
     "cell_type": "code",
     "collapsed": false,
     "input": [
      "\n",
      "import math \n",
      "\t\t\n",
      "# variables\n",
      "Q = 0.00010;\t\t#cfs\n",
      "t = 0.1;\t\t#ft\n",
      "h = 3.;\t\t#ft\n",
      "d = 6.;\t\t#in\n",
      "\n",
      "# calculations \n",
      "K = Q*h/(t*0.25*math.pi*(d/12)**2);\n",
      "\n",
      "# results \n",
      "print 'K = %.4f fps'%(K);\n",
      "\n",
      "\t\t"
     ],
     "language": "python",
     "metadata": {},
     "outputs": [
      {
       "output_type": "stream",
       "stream": "stdout",
       "text": [
        "K = 0.0153 fps\n"
       ]
      }
     ],
     "prompt_number": 3
    }
   ],
   "metadata": {}
  }
 ]
}