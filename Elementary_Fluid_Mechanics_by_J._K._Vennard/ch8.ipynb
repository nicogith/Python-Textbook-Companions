{
 "metadata": {
  "name": "",
  "signature": "sha256:736a6a7d4118b4fdd4663c0d1027cf5bfb979230c26b70e1555cf0d37da46444"
 },
 "nbformat": 3,
 "nbformat_minor": 0,
 "worksheets": [
  {
   "cells": [
    {
     "cell_type": "heading",
     "level": 1,
     "metadata": {},
     "source": [
      "Chapter 8 : Similitude and Dimensional Analysis"
     ]
    },
    {
     "cell_type": "heading",
     "level": 2,
     "metadata": {},
     "source": [
      "Example 8.1 Page No : 266"
     ]
    },
    {
     "cell_type": "code",
     "collapsed": false,
     "input": [
      "\t\t\n",
      "\n",
      "# variables\n",
      "Tw = 32.;\t\t# degreeF\n",
      "d1 = 3.;\t\t# in\n",
      "v = 10.;\t\t#fps\n",
      "delp = 2.;\t\t#psi\n",
      "h1 = 30.;\t\t# ft\n",
      "Tb = 68.;\t\t#degreeF\n",
      "d2 = 1.;\t\t#in\n",
      "h2 = 10.;\t\t#ft\n",
      "\n",
      "# calculations \n",
      "V = v*(d1/12)*0.0000137/((d2/12)*0.88*0.0000375);\n",
      "del_p = delp/h2**2 *0.88*V**2;\n",
      "\n",
      "# results \n",
      "print 'V = %.2f fps del_p = %.2f psi'%(V,del_p);\n",
      "\n"
     ],
     "language": "python",
     "metadata": {},
     "outputs": [
      {
       "output_type": "stream",
       "stream": "stdout",
       "text": [
        "V = 12.45 fps del_p = 2.73 psi\n"
       ]
      }
     ],
     "prompt_number": 1
    },
    {
     "cell_type": "heading",
     "level": 2,
     "metadata": {},
     "source": [
      "Example 8.2 Page No : 266"
     ]
    },
    {
     "cell_type": "code",
     "collapsed": false,
     "input": [
      "\n",
      "import math \n",
      "\t\t\n",
      "# variables\n",
      "l = 400.;\t\t# ft\n",
      "h = 10.;\t\t#ft\n",
      "v = 30.;\t\t# fps\n",
      "D = 2.;\t\t#lb\n",
      "\n",
      "# calculations \n",
      "V = math.sqrt((v**2 /l)*h);\n",
      "D_p = (D/V**2) *(v**2)*(l**2)/h**2;\n",
      "\n",
      "# results \n",
      "print 'V = %.2f fps Prototype drag = %d lb'%(V,D_p);"
     ],
     "language": "python",
     "metadata": {},
     "outputs": [
      {
       "output_type": "stream",
       "stream": "stdout",
       "text": [
        "V = 4.74 fps Prototype drag = 128000 lb\n"
       ]
      }
     ],
     "prompt_number": 3
    },
    {
     "cell_type": "heading",
     "level": 2,
     "metadata": {},
     "source": [
      "Example 8.3 Page No : 266"
     ]
    },
    {
     "cell_type": "code",
     "collapsed": false,
     "input": [
      "\n",
      "\t\t\n",
      "# variables\n",
      "G = 20000.;\t\t#cfs\n",
      "k = 1./15;\n",
      "\n",
      "# calculations \n",
      "Q_m = G*(k)**(2+ 1./2);\n",
      "\n",
      "# results \n",
      "print 'Qm = %.f cfs'%(Q_m);\n",
      "\n"
     ],
     "language": "python",
     "metadata": {},
     "outputs": [
      {
       "output_type": "stream",
       "stream": "stdout",
       "text": [
        "Qm = 23 cfs\n"
       ]
      }
     ],
     "prompt_number": 1
    },
    {
     "cell_type": "heading",
     "level": 2,
     "metadata": {},
     "source": [
      "Example 8.4 Page No : 266"
     ]
    },
    {
     "cell_type": "code",
     "collapsed": false,
     "input": [
      "\n",
      "import math \n",
      "\t\t\n",
      "# variables\n",
      "k = 1./10;\n",
      "v = 3000.;\t\t#fps\n",
      "h = 15000.;\t\t#altitude\n",
      "T = 68.;\t\t# degreeF\n",
      "am = 870.;\t\t#fps\n",
      "ap = 1057.;\t\t#fps\n",
      "\n",
      "# calculations \n",
      "Vm = v*(am/ap);\n",
      "rho_m = v*(1/k)*0.001495*0.031/(0.033*Vm);\n",
      "p_m = 32.2*rho_m*34.9*(T+460)/(144);\n",
      "\n",
      "# results \n",
      "print 'Vm = %d fps p_m = %d psia'%(Vm,p_m);\n",
      "\n",
      "#rounding-off errors"
     ],
     "language": "python",
     "metadata": {},
     "outputs": [
      {
       "output_type": "stream",
       "stream": "stdout",
       "text": [
        "Vm = 2469 fps p_m = 70 psia\n"
       ]
      }
     ],
     "prompt_number": 6
    }
   ],
   "metadata": {}
  }
 ]
}