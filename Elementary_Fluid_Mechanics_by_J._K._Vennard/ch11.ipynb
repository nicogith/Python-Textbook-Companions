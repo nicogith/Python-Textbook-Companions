{
 "metadata": {
  "name": "",
  "signature": "sha256:0e31426ac89cda24a76ca914e9a6ea49437d729b6061fc8d885e61953cdd31e2"
 },
 "nbformat": 3,
 "nbformat_minor": 0,
 "worksheets": [
  {
   "cells": [
    {
     "cell_type": "heading",
     "level": 1,
     "metadata": {},
     "source": [
      "Chapter 11 : Fluid Measurements"
     ]
    },
    {
     "cell_type": "heading",
     "level": 2,
     "metadata": {},
     "source": [
      "Example 11.1 Page No : 409"
     ]
    },
    {
     "cell_type": "code",
     "collapsed": false,
     "input": [
      "\n",
      "import math \n",
      "\t\t\n",
      "# variables\n",
      "C_I = 0.98;\t\t#coefficient of pitot tube\n",
      "d = 3.;\t\t#in\n",
      "\n",
      "# calculations \n",
      "del_p = (d/12)*(13.55-0.88)/0.88;\n",
      "v_c = C_I*math.sqrt(2*32.2*del_p);\n",
      "\n",
      "# results \n",
      "print 'The velocity at the centerline of the pipe = %.1f fps'%(v_c);"
     ],
     "language": "python",
     "metadata": {},
     "outputs": [
      {
       "output_type": "stream",
       "stream": "stdout",
       "text": [
        "The velocity at the centerline of the pipe = 14.9 fps\n"
       ]
      }
     ],
     "prompt_number": 1
    },
    {
     "cell_type": "heading",
     "level": 2,
     "metadata": {},
     "source": [
      "Example 11.2 Page No : 411"
     ]
    },
    {
     "cell_type": "code",
     "collapsed": false,
     "input": [
      "\n",
      "import math \n",
      "\t\t\n",
      "# variables\n",
      "P = 25.;\t\t#in. of mercury\n",
      "p = 18.;\t\t#in. of mercury\n",
      "T = 150.;\t\t#degreeF\n",
      "\n",
      "# calculations \n",
      "k = P/p;\n",
      "if k < (1.893) :\n",
      "    V = math.sqrt(2*32.2*186.5*(T+460)*(1-(1/k)**0.286));\n",
      "\n",
      "print 'The local velocity just upstream from the pitot static tube = %d fps'%(V);"
     ],
     "language": "python",
     "metadata": {},
     "outputs": [
      {
       "output_type": "stream",
       "stream": "stdout",
       "text": [
        "The local velocity just upstream from the pitot static tube = 810 fps\n"
       ]
      }
     ],
     "prompt_number": 2
    },
    {
     "cell_type": "heading",
     "level": 2,
     "metadata": {},
     "source": [
      "Example 11.3 Page No : 411"
     ]
    },
    {
     "cell_type": "code",
     "collapsed": false,
     "input": [
      "\n",
      "import math \n",
      "\t\t\n",
      "# variables\n",
      "P = 20.;\t\t#in. of mercury\n",
      "p = 5.;\t\t#in. of mercury\n",
      "T = 150.;\t\t#degreeF\n",
      "\n",
      "# calculations \n",
      "k = P/p;\n",
      "\n",
      "if k >1.893:\n",
      "    M_0 = 1.645;\n",
      "\n",
      "V_0 = math.sqrt(2*32.2*186.5*(T+460)/(1+ (2*186.5)/(53.3*1.4*M_0**2)));\n",
      "\n",
      "print 'The speed of this airplane = %d fps'%(round(V_0,-1));\n",
      "\n",
      "\t\t"
     ],
     "language": "python",
     "metadata": {},
     "outputs": [
      {
       "output_type": "stream",
       "stream": "stdout",
       "text": [
        "The speed of this airplane = 1600 fps\n"
       ]
      }
     ],
     "prompt_number": 1
    },
    {
     "cell_type": "heading",
     "level": 2,
     "metadata": {},
     "source": [
      "Example 11.4 Page No : 420"
     ]
    },
    {
     "cell_type": "code",
     "collapsed": false,
     "input": [
      "\n",
      "import math \n",
      "\t\t\n",
      "# variables\n",
      "b = 6.;\t\t#in\n",
      "d = 3.;\t\t#in\n",
      "p = 20.;\t\t#psi\n",
      "del_p = 6.;\t\t#in. of mercury\n",
      "p_bar = 14.70;\t\t#psia\n",
      "T = 60.;\t\t#degreeF\n",
      "\n",
      "# calculations \n",
      "k = (p + p_bar - b*(p_bar/29.92))/(p+p_bar);\n",
      "gam1 = (p+p_bar)*144/53.3 /(T+460);\n",
      "A2 = 0.0491;\t\t#sqft\n",
      "Y = 0.949;\n",
      "Cv = 0.98;\n",
      "G = Y*Cv*A2*gam1*math.sqrt(2*32.2*b*10*A2*144/gam1) /(math.sqrt(1-0.25**2));\n",
      "Cv_true = 0.981;\n",
      "G_true = G*Cv_true/Cv;\n",
      "\n",
      "# results \n",
      "print 'G = %.2f lb/sec'%(G);"
     ],
     "language": "python",
     "metadata": {},
     "outputs": [
      {
       "output_type": "stream",
       "stream": "stdout",
       "text": [
        "G = 3.31 lb/sec\n"
       ]
      }
     ],
     "prompt_number": 4
    },
    {
     "cell_type": "heading",
     "level": 2,
     "metadata": {},
     "source": [
      "Example 11.5 Page No : 422"
     ]
    },
    {
     "cell_type": "code",
     "collapsed": false,
     "input": [
      "\n",
      "import math \n",
      "\t\t\n",
      "# variables\n",
      "d = 3.;\t\t#in\n",
      "l = 6.;\t\t#in\n",
      "h = 6.;\t\t#in\n",
      "T = 60.;\t\t#degreeF\n",
      "\n",
      "# calculations \n",
      "Cv= 0.99;\n",
      "A1 = 0.25*math.pi*(d/12)**2;\n",
      "Q = Cv*A1*math.sqrt(2*32.2*(h/12)*(13.55-1)) /(math.sqrt(1-0.25**2));\n",
      "Cv_true = 0.988;\n",
      "Q_true = Q*Cv_true/Cv;\n",
      "h_L = 3.8;\n",
      "\n",
      "# results \n",
      "print 'Q = %.3f cfs'%(Q);\n",
      "print 'True Q = %.3f cfs'%(Q_true);\n",
      "print 'Total head loss is about %.1f ft of water'%(h_L);\n",
      "\n",
      "#there are small errors in the answer given in textbook"
     ],
     "language": "python",
     "metadata": {},
     "outputs": [
      {
       "output_type": "stream",
       "stream": "stdout",
       "text": [
        "Q = 1.009 cfs\n",
        "True Q = 1.007 cfs\n",
        "Total head loss is about 3.8 ft of water\n"
       ]
      }
     ],
     "prompt_number": 1
    }
   ],
   "metadata": {}
  }
 ]
}