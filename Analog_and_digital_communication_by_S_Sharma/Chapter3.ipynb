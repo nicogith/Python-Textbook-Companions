{
 "metadata": {
  "name": "",
  "signature": "sha256:2eb66c2913a0d4bb02308475470810282a4ee35c1698f96bcf0467035d4d37b5"
 },
 "nbformat": 3,
 "nbformat_minor": 0,
 "worksheets": [
  {
   "cells": [
    {
     "cell_type": "heading",
     "level": 1,
     "metadata": {},
     "source": [
      "Chapter 3 - Radio Transmitters"
     ]
    },
    {
     "cell_type": "heading",
     "level": 2,
     "metadata": {},
     "source": [
      "Example 1 - pg 132"
     ]
    },
    {
     "cell_type": "code",
     "collapsed": false,
     "input": [
      "#calculate the total radiated power\n",
      "#given\n",
      "Pm = 85.#percentage modulation\n",
      "m = .85#modulation index\n",
      "P_c = 50*10**3#carrier power in watts\n",
      "\n",
      "#calculation\n",
      "P_t = P_c*(1+(m**2/2));#total radiated power \n",
      " \n",
      "#result\n",
      "print \"Total radiated power =\",round(P_t/1000.,2),\"kW\"\n"
     ],
     "language": "python",
     "metadata": {},
     "outputs": [
      {
       "output_type": "stream",
       "stream": "stdout",
       "text": [
        "Total radiated power = 68.06 kW\n"
       ]
      }
     ],
     "prompt_number": 2
    },
    {
     "cell_type": "heading",
     "level": 2,
     "metadata": {},
     "source": [
      "Example 2 - pg 138"
     ]
    },
    {
     "cell_type": "code",
     "collapsed": false,
     "input": [
      "#calculate the carrier frequencies\n",
      "#given from the figure\n",
      "f = 20#frequency in hertz\n",
      "#At point 1 from fig\n",
      "f_c1 = 2*13.5#carrier frequency\n",
      "deltaf1 = 2*8.5*10**-3#change in frequency\n",
      "\n",
      "#calculations\n",
      "f_max1 = f_c1 + deltaf1#maximum frequency at point 1 in fig\n",
      "f_min1 = f_c1 - deltaf1#maximum frequency at point 1 in fig\n",
      "f_d1 = f_max1 - f_c1;#frequency deviation at point 1 in fig\n",
      "f_d2 = f_c1 - f_min1;#frequency deviation at point 1 in fig\n",
      "#At point 2 from fig\n",
      "f_c2 = 3*f_c1#carrier frequency\n",
      "deltaf2 = 3*deltaf1#change in frequency\n",
      "f_max2 = f_c2 + deltaf2#maximum frequency at point 2 in fig\n",
      "f_min2 = f_c2 - deltaf2#minimum frequency at point 2 in fig\n",
      "f_d3 = f_max2 - f_c2;#frequency deviation at point 2 in fig\n",
      "f_d4 = f_c2 - f_min2;#frequency deviation at point 2 in fig\n",
      "#At point 3 in fig\n",
      "f_c3 = f_c2 + f;#carrier frequency at point 3 in fig\n",
      "f_max3 = f_max2 + f#maximum frequency at point 3 in fig\n",
      "f_min3 = f_min2+ f#minimum frequency at point 3 in fig\n",
      "f_d5 = f_max3 - f_c3;#frequency deviation at the last point\n",
      "f_d6 = f_c3 - f_min3 ;#frequency deviation at the last point\n",
      "\n",
      "#results\n",
      "print \"i.a Carrier frequency at point 1 in fig = \",f_c1,\"MHz\"\n",
      "print \"  b Frequency deviation (kHz) =  \",f_d1*1000.\n",
      "print \"  c Frequency deviation  (kHz) = \",f_d2*1000.\n",
      "print \"ii.a Carrier frequency at point 2 in fig (MHz) = \",f_c2\n",
      "print \"    b Frequency deviation (kHz) = \",f_d3*1000.\n",
      "print \"    c Frequency deviation (kHz) =  \",f_d4*1000.\n",
      "print \"ii.a Carrier frequency at point 3 in fig (MHz) = \",f_c3\n",
      "print \"    b Frequency deviation (kHz) = \",f_d5*1000.\n",
      "print \"    c Frequency deviation  (kHz) = \",f_d6*1000.\n",
      "print \"Thus, in mixer, frequency deviation is not altered but only carrier frequency is increased\"\n"
     ],
     "language": "python",
     "metadata": {},
     "outputs": [
      {
       "output_type": "stream",
       "stream": "stdout",
       "text": [
        "i.a Carrier frequency at point 1 in fig =  27.0 MHz\n",
        "  b Frequency deviation (kHz) =   17.0\n",
        "  c Frequency deviation  (kHz) =  17.0\n",
        "ii.a Carrier frequency at point 2 in fig (MHz) =  81.0\n",
        "    b Frequency deviation (kHz) =  51.0\n",
        "    c Frequency deviation (kHz) =   51.0\n",
        "ii.a Carrier frequency at point 3 in fig (MHz) =  101.0\n",
        "    b Frequency deviation (kHz) =  51.0\n",
        "    c Frequency deviation  (kHz) =  51.0\n",
        "Thus, in mixer, frequency deviation is not altered but only carrier frequency is increased\n"
       ]
      }
     ],
     "prompt_number": 4
    },
    {
     "cell_type": "heading",
     "level": 2,
     "metadata": {},
     "source": [
      "Example 3 - pg 138"
     ]
    },
    {
     "cell_type": "code",
     "collapsed": false,
     "input": [
      "#calculate the appropriate multiplier values\n",
      "print \"\\tInput frequency deviation is 10Khz, while the output frequency deviation \\nrequired is 60KHz. Thus, a frequency multiplication of 6*3*2 is required.\"\n",
      "print \"\\tThe frequency multiplication of 6 will give the carrier frequency of\\n9*6 = 54MHz only. Hence we have to use heterodyning. The two inputs to the \\nmixer are the carrier frequency pf 54MHz and oscillator frequency. Assuming \\nthat at the output of the mixer addition of imput frequencies is selected the \\nrequired oscillator frequency, to have the final carrier output frequency of \\n106MHz, comes out to be 52MHz.[52+54 =106]. \"\n"
     ],
     "language": "python",
     "metadata": {},
     "outputs": [
      {
       "output_type": "stream",
       "stream": "stdout",
       "text": [
        "\tInput frequency deviation is 10Khz, while the output frequency deviation \n",
        "required is 60KHz. Thus, a frequency multiplication of 6*3*2 is required.\n",
        "\tThe frequency multiplication of 6 will give the carrier frequency of\n",
        "9*6 = 54MHz only. Hence we have to use heterodyning. The two inputs to the \n",
        "mixer are the carrier frequency pf 54MHz and oscillator frequency. Assuming \n",
        "that at the output of the mixer addition of imput frequencies is selected the \n",
        "required oscillator frequency, to have the final carrier output frequency of \n",
        "106MHz, comes out to be 52MHz.[52+54 =106]. \n"
       ]
      }
     ],
     "prompt_number": 6
    }
   ],
   "metadata": {}
  }
 ]
}