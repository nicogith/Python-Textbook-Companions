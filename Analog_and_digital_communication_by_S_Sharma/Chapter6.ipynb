{
 "metadata": {
  "name": "",
  "signature": "sha256:aabc27335f32d474a45f64beecf83a23fa9bf81cfd70dd0ed540cf40b23a5726"
 },
 "nbformat": 3,
 "nbformat_minor": 0,
 "worksheets": [
  {
   "cells": [
    {
     "cell_type": "heading",
     "level": 1,
     "metadata": {},
     "source": [
      "Chapter 6 - Noise"
     ]
    },
    {
     "cell_type": "heading",
     "level": 2,
     "metadata": {},
     "source": [
      "Example 1 - pg 281"
     ]
    },
    {
     "cell_type": "code",
     "collapsed": false,
     "input": [
      "#calculate the RMS noise voltage\n",
      "import math\n",
      "#given\n",
      "R = 10.*10**3#resistance of amplifier in ohms\n",
      "T = 273.+27#temperature in kelvin\n",
      "B = (20.-18)*10**6#bandwidth\n",
      "k = 1.38*10**-23#boltzman's constant\n",
      "\n",
      "#calculations\n",
      "V_n = math.sqrt(4*R*k*T*B)*10**6;#rms noise voltage\n",
      "\n",
      "#result\n",
      "print \"Rms noise voltage (muV) = \",round(V_n,2)\n"
     ],
     "language": "python",
     "metadata": {},
     "outputs": [
      {
       "output_type": "stream",
       "stream": "stdout",
       "text": [
        "Rms noise voltage (muV) =  18.2\n"
       ]
      }
     ],
     "prompt_number": 1
    },
    {
     "cell_type": "heading",
     "level": 2,
     "metadata": {},
     "source": [
      "Example 2 - pg 281"
     ]
    },
    {
     "cell_type": "code",
     "collapsed": false,
     "input": [
      "#calculate the RMS noise voltage\n",
      "import math\n",
      "#given\n",
      "R_1  = 300.#equivalent noise resistance\n",
      "R_2 = 400.#input resistance\n",
      "T = 273+27.#temperature in kelvin\n",
      "B = 7.*10**6#bandwidth\n",
      "k = 1.38*10**-23#boltzman's constant\n",
      "\n",
      "#calculations\n",
      "R_s = R_1 +R_2#effective resistance in series\n",
      "V_nr = math.sqrt(4*k*T*B*R_s)*10**6#rms noise voltage\n",
      "\n",
      "#result \n",
      "print \"Rms noise voltage (muV) = \",round(V_nr,0)\n"
     ],
     "language": "python",
     "metadata": {},
     "outputs": [
      {
       "output_type": "stream",
       "stream": "stdout",
       "text": [
        "Rms noise voltage (muV) =  9.0\n"
       ]
      }
     ],
     "prompt_number": 2
    },
    {
     "cell_type": "heading",
     "level": 2,
     "metadata": {},
     "source": [
      "Example 3 - pg 282"
     ]
    },
    {
     "cell_type": "code",
     "collapsed": false,
     "input": [
      "#calculate the Noise voltage in all cases\n",
      "import math\n",
      "from math import sqrt\n",
      "#given\n",
      "R_1 = 20*10**3#resistance one\n",
      "R_2 = 50*10**3#resistance two\n",
      "T = 273+15#temperature in kelvin\n",
      "B = 100*10**3#bandwidth\n",
      "k = 1.38*10**-23#boltzman's constant\n",
      "\n",
      "#calculations\n",
      "R_s = R_1 +R_2#series effective resistance\n",
      "R_p = (R_1*R_2)/(R_1 + R_2)#parallel effective resistance\n",
      "V_1 = sqrt(4*k*T*R_1*B)*10**6#noise voltage in R_1\n",
      "V_2 = sqrt(4*k*T*R_1*B)*10**6#noise voltage in R_2\n",
      "V_s = sqrt(4*k*T*R_s*B)*10**6#noise voltage when resistance connected in series\n",
      "V_p = sqrt(4*k*T*R_p*B)*10**6#noise voltage when resistance connected in parallel\n",
      "\n",
      "#results\n",
      "print \"i.Noise voltage due to R_1 (muV) = \",round(V_1,2)\n",
      "print \"ii.Noise voltage due to R_2 (muV) = \",round(V_2,2)\n",
      "print \"iii.Noise voltage due to two resistance in series (muV) = \",round(V_s,2)\n",
      "print \"iv.Noise voltage due to two resistance in parallel (muV) = \",round(V_p,2)\n"
     ],
     "language": "python",
     "metadata": {},
     "outputs": [
      {
       "output_type": "stream",
       "stream": "stdout",
       "text": [
        "i.Noise voltage due to R_1 (muV) =  5.64\n",
        "ii.Noise voltage due to R_2 (muV) =  5.64\n",
        "iii.Noise voltage due to two resistance in series (muV) =  10.55\n",
        "iv.Noise voltage due to two resistance in parallel (muV) =  4.77\n"
       ]
      }
     ],
     "prompt_number": 3
    },
    {
     "cell_type": "heading",
     "level": 2,
     "metadata": {},
     "source": [
      "Example 4 - pg 283"
     ]
    },
    {
     "cell_type": "code",
     "collapsed": false,
     "input": [
      "#calculate the Equivalent input noise resistance\n",
      "\n",
      "#given\n",
      "A_1 = 10.#voltage gain for first stage\n",
      "A_2 = 25.#volatage gain for second stage\n",
      "R_i1 = 600.#input resistance for first stage in ohms\n",
      "R_eq1 = 1600.#equivalent noise resistance for first stage \n",
      "R_01 = 27.*10**3#Output resistance for first stage \n",
      "R_i2 = 81.*10**3#input resistance for second stage\n",
      "R_eq2 = 10.*10**3#Equivalent noise resistance for second stage \n",
      "R_02 = 1.*10**6#putput resistance for second case\n",
      "\n",
      "#calculations\n",
      "R_1 = R_i1 + R_eq1\n",
      "R_2 = ((R_01*R_i2)/(R_01+R_i2)) + R_eq2\n",
      "R_3 = R_02\n",
      "R_eq = R_1 + (R_2/A_1**2) + R_3/(A_1**2 *A_2**2);\n",
      "\n",
      "#results\n",
      "print \"Equivalent input noise resistance (Ohms) = \",round(R_eq,0)\n"
     ],
     "language": "python",
     "metadata": {},
     "outputs": [
      {
       "output_type": "stream",
       "stream": "stdout",
       "text": [
        "Equivalent input noise resistance (Ohms) =  2519.0\n"
       ]
      }
     ],
     "prompt_number": 4
    },
    {
     "cell_type": "heading",
     "level": 2,
     "metadata": {},
     "source": [
      "Example 7 - pg 295"
     ]
    },
    {
     "cell_type": "code",
     "collapsed": false,
     "input": [
      "#calculate the output voltage\n",
      "import math\n",
      "#given\n",
      "T = 273. + 17#temperature in kelvin\n",
      "Q = 10.#quality factor\n",
      "c  = 10.*10**-12#capacitance\n",
      "f_r = 100.*10**6#resonate frequency\n",
      "k = 1.38*10**-23#boltzman's constant\n",
      "\n",
      "#calculations\n",
      "delta_f = f_r/Q#bandwidth of the tuned circuit\n",
      "w = 2*math.pi*f_r;#angular frequency\n",
      "R = 1/(Q*w*c);#resistance\n",
      "V_no = math.sqrt(4*k*Q**2*T*delta_f*R)*10**6 #output voltage\n",
      "\n",
      "#results\n",
      "print \"Output voltge (V) = \",round(V_no,0)\n"
     ],
     "language": "python",
     "metadata": {},
     "outputs": [
      {
       "output_type": "stream",
       "stream": "stdout",
       "text": [
        "Output voltge (V) =  16.0\n"
       ]
      }
     ],
     "prompt_number": 5
    },
    {
     "cell_type": "heading",
     "level": 2,
     "metadata": {},
     "source": [
      "Example 8 - pg 297"
     ]
    },
    {
     "cell_type": "code",
     "collapsed": false,
     "input": [
      "#calculate the Noise figure and Equivalent temperature\n",
      "import math\n",
      "#given\n",
      "R_a = 50.#antenna resistance\n",
      "R_eq = 30.#equivalent noise resistance of receiver\n",
      "T_0 = 290.#initial temperature in degree kelvin\n",
      "#calculations\n",
      "F = 1+(R_eq/R_a);#noise figure\n",
      "F_dB = 10*math.log10(F)#noise figure in decibels\n",
      "T_eq = T_0*(F-1)#equivalent temperature\n",
      "\n",
      "#results\n",
      "print \"i.Noise figure in decibels (dB) = \",round(F_dB,2)\n",
      "print \"ii.Equivalent temperature (degree kelvin) = \",T_eq\n"
     ],
     "language": "python",
     "metadata": {},
     "outputs": [
      {
       "output_type": "stream",
       "stream": "stdout",
       "text": [
        "i.Noise figure in decibels (dB) =  2.04\n",
        "ii.Equivalent temperature (degree kelvin) =  174.0\n"
       ]
      }
     ],
     "prompt_number": 6
    },
    {
     "cell_type": "heading",
     "level": 2,
     "metadata": {},
     "source": [
      "Example 9 - pg 302"
     ]
    },
    {
     "cell_type": "code",
     "collapsed": false,
     "input": [
      "#calculate the Noise figure\n",
      "import math\n",
      "#given\n",
      "R_eq = 2518.#equivalent resistance in ohms\n",
      "R_t = 600.#input impedence in ohms\n",
      "R_a= 50.#output impedencre in ohms\n",
      "\n",
      "#calculations\n",
      "R_eq1 = R_eq - R_t;\n",
      "F = 1 + (R_eq1/R_a) #noise figure\n",
      "F_dB = 10*math.log10(F)#noise figure in dB\n",
      "\n",
      "#results\n",
      "print \"Noise figure in dB = \",round(F_dB,2)\n",
      "print \"Note:Calculation mistake is their in text book in finding noise figure in dB\"\n"
     ],
     "language": "python",
     "metadata": {},
     "outputs": [
      {
       "output_type": "stream",
       "stream": "stdout",
       "text": [
        "Noise figure in dB =  15.95\n",
        "Note:Calculation mistake is their in text book in finding noise figure in dB\n"
       ]
      }
     ],
     "prompt_number": 7
    },
    {
     "cell_type": "heading",
     "level": 2,
     "metadata": {},
     "source": [
      "Example 10 - pg 305"
     ]
    },
    {
     "cell_type": "code",
     "collapsed": false,
     "input": [
      "#calculate the Overall noise figure\n",
      "import math\n",
      "from math import exp, log10,log\n",
      "#given\n",
      "F_1 = 2.#noise figure of first stage in dB\n",
      "A_1 = 12.#gain in first stage in dB\n",
      "F_2 = 6.#noise figure of second stage in dB\n",
      "A_2 = 10.#gain in first second in dB \n",
      "\n",
      "\n",
      "#calculations\n",
      "F_1ratio = exp((F_1/10)*log(10));#noise figure of first stage in ratio \n",
      "F_2ratio = exp((F_2/10)*log(10));#noise figure of second stage in ratio \n",
      "A_1ratio = exp((A_1/10)*log(10));#gain of first stage in ratio\n",
      "A_2ratio = exp((A_2/10)*log(10));#gain of second stage in ratio\n",
      "F = F_1ratio + ((F_2ratio - 1)/(A_1ratio));#Overall noise figure \n",
      "F_dB = 10*log10(F);#Overall noise figure  in dB\n",
      "\n",
      "#results\n",
      "print \"Overall noise figure (dB) = \",round(F_dB ,1)\n"
     ],
     "language": "python",
     "metadata": {},
     "outputs": [
      {
       "output_type": "stream",
       "stream": "stdout",
       "text": [
        "Overall noise figure (dB) =  2.5\n"
       ]
      }
     ],
     "prompt_number": 9
    },
    {
     "cell_type": "heading",
     "level": 2,
     "metadata": {},
     "source": [
      "Example 11 - pg 306"
     ]
    },
    {
     "cell_type": "code",
     "collapsed": false,
     "input": [
      "#calculate the Overall noise figure\n",
      "import math\n",
      "from math import exp, log10,log\n",
      "#given\n",
      "F_1 = 9.#noise figure for first stage in dB\n",
      "F_2 = 20.#noise figure for second stage in dB\n",
      "A_1 = 15.#gain in first stage in dB\n",
      "\n",
      "#calculations\n",
      "F_1ratio = exp((F_1/10)*log(10));#noise figure of first stage in ratio \n",
      "F_2ratio = exp((F_2/10)*log(10));#noise figure of second stage in ratio  \n",
      "A_1ratio = exp((A_1/10)*log(10));#gain of first stage in ratio\n",
      "F = F_1ratio + ((F_2ratio - 1)/(A_1ratio));\n",
      "F_dB = 10*log10(F);\n",
      " \n",
      "#results\n",
      "print \"Overall noise figure (dB) = \", round(F_dB,2)\n"
     ],
     "language": "python",
     "metadata": {},
     "outputs": [
      {
       "output_type": "stream",
       "stream": "stdout",
       "text": [
        "Overall noise figure (dB) =  10.44\n"
       ]
      }
     ],
     "prompt_number": 10
    },
    {
     "cell_type": "heading",
     "level": 2,
     "metadata": {},
     "source": [
      "Example 12 - pg 307"
     ]
    },
    {
     "cell_type": "code",
     "collapsed": false,
     "input": [
      "#calculate the rms noise voltage\n",
      "import math\n",
      "#given\n",
      "f_1 = 18.*10**6#lower operating frequency in Hz\n",
      "f_2 = 20.*10**6#lower operating frequency in Hz\n",
      "T = 273. + 17#temperature in kelvin\n",
      "R = 10.*10**3#input resistance\n",
      "k = 1.38*10**-23#boltzman's constant\n",
      "\n",
      "#calculations\n",
      "B = f_2 - f_1#bandwidth in Hz\n",
      "V_n = math.sqrt(4*k*B*R*T)*10**6;#rms noise voltage\n",
      "\n",
      "#results\n",
      "print \"rms noise voltage (muV) = \",round(V_n,1)\n"
     ],
     "language": "python",
     "metadata": {},
     "outputs": [
      {
       "output_type": "stream",
       "stream": "stdout",
       "text": [
        "rms noise voltage (muV) =  17.9\n"
       ]
      }
     ],
     "prompt_number": 11
    },
    {
     "cell_type": "heading",
     "level": 2,
     "metadata": {},
     "source": [
      "Example 14 - pg 308"
     ]
    },
    {
     "cell_type": "code",
     "collapsed": false,
     "input": [
      "#calculate the Meter reading, resistance\n",
      "\n",
      "#given\n",
      "A = 60.#gain of noiseless amplifier\n",
      "V_n1 = 1.*10**-3#output of the amplifier\n",
      "B = 20.*10**3#initial bandwidth\n",
      "B1 = 5.*10**3#change in bandwidth\n",
      "k = 1.38*10**-23#boltzman's constant\n",
      "T = 273. + 80#temperature in degree kelvin\n",
      "\n",
      "#calculaitons\n",
      "#since the bandwidth is reesuced to 1/4th of its value,therefore the noise voltage \n",
      "#will be V_n proportional to sqrt(B)\n",
      "#Hence, the noise voltage at 5KHz will become half its value at 20KHz bandwidth i.e,\n",
      "V_n = .5*10**-3#noise voltage in volts\n",
      "V_no = V_n1/A;#noise ouput voltage \n",
      "R = (V_no**2/(4*k * T * B ));#resistance at 80degree celcius\n",
      "\n",
      "#results\n",
      "print \"i.Meter reading in volts (V) = \",V_n\n",
      "print \"ii.Resistance at 80 degree celcius (kohms) = \",round(R/1000.,0)\n",
      "print \"Note: There is calculation mistake in textbook in the measurement of resistance they took constant in formula as 1 instead of 4\"\n"
     ],
     "language": "python",
     "metadata": {},
     "outputs": [
      {
       "output_type": "stream",
       "stream": "stdout",
       "text": [
        "i.Meter reading in volts (V) =  0.0005\n",
        "ii.Resistance at 80 degree celcius (kohms) =  713.0\n",
        "Note: There is calculation mistake in textbook in the measurement of resistance they took constant in formula as 1 instead of 4\n"
       ]
      }
     ],
     "prompt_number": 12
    },
    {
     "cell_type": "heading",
     "level": 2,
     "metadata": {},
     "source": [
      "Example 16 - pg 309"
     ]
    },
    {
     "cell_type": "code",
     "collapsed": false,
     "input": [
      "#calculate the Overall noise figure\n",
      "import math\n",
      "from math import exp, log10,log\n",
      "#given\n",
      "A_1 = 10.#gain in first stage in dB\n",
      "A_2 = 10.#gain in second stage in dB\n",
      "A_3 = 10.#gain in third stage in dB\n",
      "F_1 = 6.#noise figure for first stage in dB\n",
      "F_2 = 6.#noise figure for second stage in dB\n",
      "F_3 = 6.#noise figure for third stage in dB\n",
      "\n",
      "#calculations\n",
      "F_1ratio = exp((F_1/10)*log(10));#noise figure of first stage in ratio \n",
      "F_2ratio = exp((F_2/10)*log(10));#noise figure of second stage in ratio \n",
      "F_3ratio = exp((F_3/10)*log(10));#noise figure in third stage in ratio \n",
      "A_1ratio = exp((A_1/10)*log(10));#gain of first stage in ratio\n",
      "A_2ratio = exp((A_2/10)*log(10));#gain of second stage in ratio\n",
      "A_3ratio = exp((A_3/10)*log(10));#gain of third stage in ratio\n",
      "F = F_1ratio + ((F_2ratio - 1)/(A_1ratio)) + ((F_3ratio - 1)/(A_2ratio*A_1ratio));#Overall noise figure\n",
      "\n",
      "#results\n",
      "print \"Overall noise figure of three stage cascaded amplifier = \",round(F,2)\n"
     ],
     "language": "python",
     "metadata": {},
     "outputs": [
      {
       "output_type": "stream",
       "stream": "stdout",
       "text": [
        "Overall noise figure of three stage cascaded amplifier =  4.31\n"
       ]
      }
     ],
     "prompt_number": 13
    },
    {
     "cell_type": "heading",
     "level": 2,
     "metadata": {},
     "source": [
      "Example 17 - pg 310"
     ]
    },
    {
     "cell_type": "code",
     "collapsed": false,
     "input": [
      "#calculate the Overall noise figure\n",
      "import math\n",
      "from math import exp, log10,log\n",
      "#given\n",
      "G_1 = 10.#gain in first stage in dB\n",
      "#noise figure for both the stages are same\n",
      "F_1 = 10.#noise figure for first stage in dB\n",
      "F_2 = 10.#noise figure for second stage in dB\n",
      "\n",
      "#calculations\n",
      "F_1ratio = exp((F_1/10)*log(10));#noise figure of first stage in ratio \n",
      "F_2ratio = exp((F_2/10)*log(10));#noise figure of second stage in ratio \n",
      "G_1ratio = exp((G_1/10)*log(10));#gain of first stage in ratio\n",
      "F = F_1ratio + ((F_2ratio - 1)/(G_1ratio));#Overall noise figure\n",
      "F_dB= 10*log10(F)##Overall noise figure in dB\n",
      "\n",
      "#results\n",
      "\n",
      "print \"Overall noise figure (dB) = \", round(F_dB,2)\n"
     ],
     "language": "python",
     "metadata": {},
     "outputs": [
      {
       "output_type": "stream",
       "stream": "stdout",
       "text": [
        "Overall noise figure (dB) =  10.37\n"
       ]
      }
     ],
     "prompt_number": 14
    },
    {
     "cell_type": "heading",
     "level": 2,
     "metadata": {},
     "source": [
      "Example 18 - pg 310"
     ]
    },
    {
     "cell_type": "code",
     "collapsed": false,
     "input": [
      "#calculate the overall noise figure and overall gain\n",
      "import math\n",
      "from math import exp, log10,log\n",
      "#given\n",
      "G_1 = 4.#gain in first stage in dB\n",
      "G_2 = 10.#gain in second stage in dB\n",
      "F_1 = 10.#noise figure for first stage in dB\n",
      "F_2 = 10.#noise figure for second stage in dB\n",
      "\n",
      "#calculations\n",
      "F_1ratio = exp((F_1/10)*log(10));#noise figure of first stage in ratio \n",
      "F_2ratio= exp((F_2/10)*log(10));#noise figure of second stage in ratio \n",
      "G_1ratio = exp((G_1/10)*log(10));#gain of first stage in ratio\n",
      "G_2ratio = exp((G_2/10)*log(10));#gain of second stage in ratio\n",
      "F = F_1ratio + ((F_2ratio - 1)/(G_1ratio));#Overall noise figure \n",
      "G = log10(G_1ratio *G_2ratio );\n",
      "F_dB= 10*log10(F)##Overall noise figure in dB\n",
      "\n",
      "#results\n",
      "print \"i.Overall noise figure (dB) = \",round(F_dB,2)\n",
      "print \"ii.Overall gain (dB) = \",G \n",
      "print \"Note:There is mistake in calculation of overall gain in textbook\"\n"
     ],
     "language": "python",
     "metadata": {},
     "outputs": [
      {
       "output_type": "stream",
       "stream": "stdout",
       "text": [
        "i.Overall noise figure (dB) =  11.33\n",
        "ii.Overall gain (dB) =  1.4\n",
        "Note:There is mistake in calculation of overall gain in textbook\n"
       ]
      }
     ],
     "prompt_number": 15
    },
    {
     "cell_type": "heading",
     "level": 2,
     "metadata": {},
     "source": [
      "Example 19 - pg 310"
     ]
    },
    {
     "cell_type": "code",
     "collapsed": false,
     "input": [
      "#calculate the Overall noise figure\n",
      "import math\n",
      "from math import exp, log10,log\n",
      "#given\n",
      "G_1 = 15.#gain in first stage in dB\n",
      "F_1 = 9.#noise figure for first stage in dB\n",
      "F_2 = 20.#noise figure for second stage in dB\n",
      "\n",
      "#calculations\n",
      "F_1ratio = exp((F_1/10)*log(10));#noise figure of first stage in ratio \n",
      "F_2ratio = exp((F_2/10)*log(10));#noise figure of second stage in ratio \n",
      "G_1ratio = exp((G_1/10)*log(10));#gain of first stage in ratio\n",
      "F = F_1ratio + ((F_2ratio - 1)/(G_1ratio));#Overall noise figure \n",
      "F_dB= 10*log10(F)##Overall noise figure in dB\n",
      "\n",
      "#results\n",
      "print \"Overall noise figure (dB) = \", round(F_dB,2)\n"
     ],
     "language": "python",
     "metadata": {},
     "outputs": [
      {
       "output_type": "stream",
       "stream": "stdout",
       "text": [
        "Overall noise figure (dB) =  10.44\n"
       ]
      }
     ],
     "prompt_number": 16
    },
    {
     "cell_type": "heading",
     "level": 2,
     "metadata": {},
     "source": [
      "Example 20 - pg 311"
     ]
    },
    {
     "cell_type": "code",
     "collapsed": false,
     "input": [
      "#calculate the Noise temperature and overall noise temperature\n",
      "import math\n",
      "from math import exp, log10,log\n",
      "#given\n",
      "F_2 = 20.#noise figure of receiver in dB\n",
      "G_1 = 40.#gain of low noise amplifier in dB\n",
      "T_e1 = 80.#noise temperature of low noise amplifier in degree kelvin\n",
      "T_0 = 300.#room temperature\n",
      "\n",
      "#calculations\n",
      "F_2ratio = exp((F_2/10)*log(10));#noise figure of receiver in ratio \n",
      "G_1ratio = exp((G_1/10)*log(10));#gain of  low noise amplifier\n",
      "T_e2 = (F_2ratio-1)*T_0#noise temperature of the receiver in degree kelvin\n",
      "T_e = T_e1 +(T_e2/G_1ratio)#overall noise temperature in degree kelvin\n",
      "\n",
      "#results\n",
      "print \"i.Noise Temperature of the receiver (degkelvin) =  \",T_e2\n",
      "print \"ii.Overall noise temperature (degkelvin) = \",T_e\n"
     ],
     "language": "python",
     "metadata": {},
     "outputs": [
      {
       "output_type": "stream",
       "stream": "stdout",
       "text": [
        "i.Noise Temperature of the receiver (degkelvin) =   29700.0\n",
        "ii.Overall noise temperature (degkelvin) =  82.97\n"
       ]
      }
     ],
     "prompt_number": 17
    },
    {
     "cell_type": "heading",
     "level": 2,
     "metadata": {},
     "source": [
      "Example 21 - pg 311"
     ]
    },
    {
     "cell_type": "code",
     "collapsed": false,
     "input": [
      "#calculate the overall noise temperature and noise figure\n",
      "import math\n",
      "#given from the figure\n",
      "G_1ratio = 1000.#gain of master amplifier \n",
      "G_2ratio = 100.#gain of TWT\n",
      "G_3ratio = 10000.#gain of mixer and IF amplifier\n",
      "F_2ratio = 4.#noise figure of TWT \n",
      "F_3ratio = 16.#noise figure of mixer and IF amplifier\n",
      "T_0 =273 + 17.#ambident temperature in degree kelvin\n",
      "T_e1 = 5.#temperature of master amplifier in degree kelvin\n",
      "\n",
      "#calculaitons\n",
      "F_1 = 1 + (T_e1/T_0);#noise figure of master amplifier\n",
      "F = F_1 + ((F_2ratio - 1)/(G_1ratio)) + ((F_3ratio - 1)/(G_2ratio*G_1ratio));#Overall noise figure\n",
      "F_dB = 10*math.log10(F);#overall noise figure in dB\n",
      "T_e = (F - 1)*T_0;#overall noise temperature of the receiver \n",
      "\n",
      "#results\n",
      "print \"i.Overall noise temperature of the receiver (degreekelvin) = \",round(T_e,0)\n",
      "print \"ii.Overall noise figure (dB) = \", round(F_dB,5)\n"
     ],
     "language": "python",
     "metadata": {},
     "outputs": [
      {
       "output_type": "stream",
       "stream": "stdout",
       "text": [
        "i.Overall noise temperature of the receiver (degreekelvin) =  6.0\n",
        "ii.Overall noise figure (dB) =  0.08767\n"
       ]
      }
     ],
     "prompt_number": 18
    }
   ],
   "metadata": {}
  }
 ]
}