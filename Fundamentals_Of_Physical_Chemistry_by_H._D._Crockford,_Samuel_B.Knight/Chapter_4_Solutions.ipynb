{
 "metadata": {
  "name": "",
  "signature": "sha256:c9e8da29a8440e975754a29059a824b6033c61928946b613eef6ef10fe3505be"
 },
 "nbformat": 3,
 "nbformat_minor": 0,
 "worksheets": [
  {
   "cells": [
    {
     "cell_type": "heading",
     "level": 1,
     "metadata": {},
     "source": [
      "Chapter 4:Solutions Nonelectrolytes"
     ]
    },
    {
     "cell_type": "heading",
     "level": 2,
     "metadata": {},
     "source": [
      "Example 4.1 , Page no:69"
     ]
    },
    {
     "cell_type": "code",
     "collapsed": false,
     "input": [
      "import math\n",
      "from __future__ import division\n",
      "\n",
      "#initialisation of variables\n",
      "m= 164.2 #gms\n",
      "M= 60 #gms\n",
      "V= 0.8 #lit\n",
      "d= 1.026 #g/cc\n",
      "mw= 18.02 #gms\n",
      "\n",
      "#CALCULATIONS\n",
      "M1= m/M\n",
      "n= M1/V\n",
      "G= V*1000*d\n",
      "G1= G-m\n",
      "m1= M1*1000/G1\n",
      "n1= G1/mw\n",
      "x= M1/(M1+n1)\n",
      "y= 1-x\n",
      "p= x*100\n",
      "p1= y*100\n",
      "P2= m*100/G\n",
      "\n",
      "#RESULTS\n",
      "print\"molarity=\",round(n,3),\"M\";\n",
      "print\"molality=\",round(m1,3),\"m\";\n",
      "print\"mole fraction of solute=\",round(x,4);\n",
      "print\"mol per cent of solute=\",round(p,2),\"per cent\";\n",
      "print\"mol per cent of solvent=\",round(p1,2),\"per cent\";\n",
      "print\"mol per cent acetic acid by weight=\",round(P2,2),\"per cent\";"
     ],
     "language": "python",
     "metadata": {},
     "outputs": [
      {
       "output_type": "stream",
       "stream": "stdout",
       "text": [
        "molarity= 3.421 M\n",
        "molality= 4.168 m\n",
        "mole fraction of solute= 0.0699\n",
        "mol per cent of solute= 6.99 per cent\n",
        "mol per cent of solvent= 93.01 per cent\n",
        "mol per cent acetic acid by weight= 20.0 per cent\n"
       ]
      }
     ],
     "prompt_number": 1
    },
    {
     "cell_type": "heading",
     "level": 2,
     "metadata": {},
     "source": [
      "Example 4.2 , Page no:72"
     ]
    },
    {
     "cell_type": "code",
     "collapsed": false,
     "input": [
      "import math\n",
      "from __future__ import division\n",
      "\n",
      "#initialisation of variables\n",
      "m= 0.0346 #gms\n",
      "V= 800 #ml\n",
      "P= 742 #mm\n",
      "M= 32 #gms\n",
      "p= 400 #mm\n",
      "\n",
      "#CALCULATIONS\n",
      "c= m*1000/V\n",
      "g= c*760/(P*M)\n",
      "K= g*22.4\n",
      "k= c/P\n",
      "c1= k*p\n",
      "\n",
      "#RESULTS\n",
      "print\"concentration of oxygen=\",round(c,4),\"gram per litre\";\n",
      "print\"moles dissolved =\",round(g,4),\"moles\";\n",
      "print\"Bunsen absorption =\",round(K,4),\"litre\";\n",
      "print\"grams of oxygen dissolved =\",round(c1,4),\"gram per litre\";"
     ],
     "language": "python",
     "metadata": {},
     "outputs": [
      {
       "output_type": "stream",
       "stream": "stdout",
       "text": [
        "concentration of oxygen= 0.0433 gram per litre\n",
        "moles dissolved = 0.0014 moles\n",
        "Bunsen absorption = 0.031 litre\n",
        "grams of oxygen dissolved = 0.0233 gram per litre\n"
       ]
      }
     ],
     "prompt_number": 2
    },
    {
     "cell_type": "heading",
     "level": 2,
     "metadata": {},
     "source": [
      "Example 4.3 , Page no:74"
     ]
    },
    {
     "cell_type": "code",
     "collapsed": false,
     "input": [
      "import math\n",
      "from __future__ import division\n",
      "\n",
      "#initialisation of variables\n",
      "mn= 0.0134 #gms\n",
      "mo= 0.0261 #gms\n",
      "mh= 0.0081 #gms\n",
      "T= 30 #C\n",
      "P= 3 #atm\n",
      "r= 4/5\n",
      "\n",
      "#CALCULATIONS\n",
      "V= mn*(273+T)*1000/273\n",
      "V1= V*r\n",
      "V2= V1*P\n",
      "V3= mo*(273+T)*(1-r)*P*1000/273\n",
      "V4= mh*(273+T)*r*1000/273\n",
      "V5= V4*P\n",
      "V6= V2-V1\n",
      "V7= V5-V4\n",
      "\n",
      "#RESULTS\n",
      "print\"volume of oxygen=\",round(V,1),\"ml\";\n",
      "print\"volume of nitrogen=\",round(V3,1),\"ml\";\n",
      "print\"volume of helium =\",round(V5,1),\"ml\";\n",
      "print\"volume of nitrogen and helium would be expelled =\",round(V7,1),\"ml\";"
     ],
     "language": "python",
     "metadata": {},
     "outputs": [
      {
       "output_type": "stream",
       "stream": "stdout",
       "text": [
        "volume of oxygen= 14.9 ml\n",
        "volume of nitrogen= 17.4 ml\n",
        "volume of helium = 21.6 ml\n",
        "volume of nitrogen and helium would be expelled = 14.4 ml\n"
       ]
      }
     ],
     "prompt_number": 3
    },
    {
     "cell_type": "heading",
     "level": 2,
     "metadata": {},
     "source": [
      "Example 4.4 , Page no:78"
     ]
    },
    {
     "cell_type": "code",
     "collapsed": false,
     "input": [
      "import math\n",
      "from __future__ import division\n",
      "\n",
      "#initialisation of variables\n",
      "p= 214 #mm\n",
      "M= 112.5 #gms\n",
      "m= 18 #gms\n",
      "m1= 10 #gms\n",
      "\n",
      "#CALCULATIONS\n",
      "P= 760-p\n",
      "M1= m1*P*m/(p*M)\n",
      "\n",
      "#RESULTS\n",
      "print\"quantity of water=\",round(M1,2),\"gms\";"
     ],
     "language": "python",
     "metadata": {},
     "outputs": [
      {
       "output_type": "stream",
       "stream": "stdout",
       "text": [
        "quantity of water= 4.08 gms\n"
       ]
      }
     ],
     "prompt_number": 4
    },
    {
     "cell_type": "heading",
     "level": 2,
     "metadata": {},
     "source": [
      "Example 4.5 , Page no:81"
     ]
    },
    {
     "cell_type": "code",
     "collapsed": false,
     "input": [
      "import math\n",
      "from __future__ import division\n",
      "\n",
      "#initialisation of variables\n",
      "p = 17.4 #mm\n",
      "m= 1000 #gms\n",
      "M= 18 #gms\n",
      "n= 2 #moles\n",
      "\n",
      "#CALCULATIONS\n",
      "P= p*((m/M)/((m/M)+n))\n",
      "P1= p*(n/((m/M)+n))\n",
      "dp= p-P1\n",
      "\n",
      "#RESULTS\n",
      "print\"vapour pressure of solution=\",round(P1,2),\"mm\";"
     ],
     "language": "python",
     "metadata": {},
     "outputs": [
      {
       "output_type": "stream",
       "stream": "stdout",
       "text": [
        "vapour pressure of solution= 0.6 mm\n"
       ]
      }
     ],
     "prompt_number": 5
    },
    {
     "cell_type": "heading",
     "level": 2,
     "metadata": {},
     "source": [
      "Example 4.6 , Page no:81"
     ]
    },
    {
     "cell_type": "code",
     "collapsed": false,
     "input": [
      "import math\n",
      "from __future__ import division\n",
      "\n",
      "#initialisation of variables\n",
      "m= 92.13 #gms\n",
      "M= 78.11 #gms\n",
      "n= 1 #moles\n",
      "p= 119.6 #mm\n",
      "p1= 36.7 #mm\n",
      "\n",
      "#CALCULATIONS\n",
      "n1= m/M\n",
      "x= n/(n+n1)\n",
      "y= 1-x\n",
      "P= y*p\n",
      "P1= x*p1\n",
      "P2= P+P1\n",
      "m1= P/P2\n",
      "m2= 1-m1\n",
      "\n",
      "#RESULTS\n",
      "print\"mole fraction of benzene=\",round(m1,3);\n",
      "print\"mole fraction of toulene=\",round(m2,3);"
     ],
     "language": "python",
     "metadata": {},
     "outputs": [
      {
       "output_type": "stream",
       "stream": "stdout",
       "text": [
        "mole fraction of benzene= 0.794\n",
        "mole fraction of toulene= 0.206\n"
       ]
      }
     ],
     "prompt_number": 6
    }
   ],
   "metadata": {}
  }
 ]
}