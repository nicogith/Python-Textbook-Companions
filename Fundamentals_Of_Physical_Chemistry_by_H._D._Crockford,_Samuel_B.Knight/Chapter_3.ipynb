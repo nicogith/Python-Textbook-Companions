{
 "metadata": {
  "name": "",
  "signature": "sha256:84f47f7ae93f6c982452d4c53be5733b0b8b9bf3c7cc9f667f87ed399062760f"
 },
 "nbformat": 3,
 "nbformat_minor": 0,
 "worksheets": [
  {
   "cells": [
    {
     "cell_type": "heading",
     "level": 1,
     "metadata": {},
     "source": [
      "Chapter 3 Liquids"
     ]
    },
    {
     "cell_type": "heading",
     "level": 2,
     "metadata": {},
     "source": [
      "Example 3.1 , Page no:41"
     ]
    },
    {
     "cell_type": "code",
     "collapsed": false,
     "input": [
      "import math\n",
      "from __future__ import division\n",
      "\n",
      "#initialisation of variables\n",
      "p= 388.6 #mm\n",
      "p1=26.5 #mm\n",
      "T= 60 #C\n",
      "R= 1.99 #cal mole^-1 A^-1\n",
      "\n",
      "#CALCULATIONS\n",
      "Lv= math.log10(p/p1)*2.303*R*273*(273+T)/(T)\n",
      "\n",
      "#RESULTS\n",
      "print\"heat of vapourisation of benzene=\",round(Lv+2),\"cal per mole\";"
     ],
     "language": "python",
     "metadata": {},
     "outputs": [
      {
       "output_type": "stream",
       "stream": "stdout",
       "text": [
        "heat of vapourisation of benzene= 8100.0 cal per mole\n"
       ]
      }
     ],
     "prompt_number": 1
    },
    {
     "cell_type": "heading",
     "level": 2,
     "metadata": {},
     "source": [
      "Example 3.2 , Page no:52"
     ]
    },
    {
     "cell_type": "code",
     "collapsed": false,
     "input": [
      "import math\n",
      "from __future__ import division\n",
      "\n",
      "#initialisation of variables\n",
      "d= 0.789 #gram per cc\n",
      "r= 0.010 #cm\n",
      "h= 5.76 #cm\n",
      "g= 980.7 # cm /sec^2\n",
      "\n",
      "#CALCULATIONS\n",
      "R= d*h*r*g/2\n",
      "\n",
      "#RESULTS\n",
      "print\"Surface tension=\",round(R,1),\" dynes per cm\";"
     ],
     "language": "python",
     "metadata": {},
     "outputs": [
      {
       "output_type": "stream",
       "stream": "stdout",
       "text": [
        "Surface tension= 22.3  dynes per cm\n"
       ]
      }
     ],
     "prompt_number": 2
    },
    {
     "cell_type": "heading",
     "level": 2,
     "metadata": {},
     "source": [
      "Example 3.3 , Page no:56"
     ]
    },
    {
     "cell_type": "code",
     "collapsed": false,
     "input": [
      "import math\n",
      "from __future__ import division\n",
      "\n",
      "#initialisation of variables\n",
      "W= 0.220 #gms\n",
      "g= 980.7 #cm per sec62\n",
      "f= 0.98\n",
      "l= 4 #cm\n",
      "\n",
      "#CALCULATIONS\n",
      "T= W*g/(2*l)\n",
      "Tc= T*f\n",
      "\n",
      "#RESULTS\n",
      "print\"apparent surface tension=\",round(T,1),\"dynes per cm\";\n",
      "print\"exact surface tension=\",round(Tc,1),\"dynes per cm\";"
     ],
     "language": "python",
     "metadata": {},
     "outputs": [
      {
       "output_type": "stream",
       "stream": "stdout",
       "text": [
        "apparent surface tension= 27.0 dynes per cm\n",
        "exact surface tension= 26.4 dynes per cm\n"
       ]
      }
     ],
     "prompt_number": 3
    },
    {
     "cell_type": "heading",
     "level": 2,
     "metadata": {},
     "source": [
      "Example 3.4 , Page no:60"
     ]
    },
    {
     "cell_type": "code",
     "collapsed": false,
     "input": [
      "import math\n",
      "from __future__ import division\n",
      "\n",
      "#initialisation of variables\n",
      "n2= 10.05*10**-3 #poise\n",
      "d1= 0.879 #gms cm^-3\n",
      "t= 88 #sec\n",
      "d2= 1 #gms cm^-3\n",
      "t1= 120 #sec\n",
      "\n",
      "#CALCULATIONS\n",
      "n1= d1*t/(d2*t1)\n",
      "\n",
      "#RESULTS\n",
      "print\"relative viscosity=\",round(n1,3);"
     ],
     "language": "python",
     "metadata": {},
     "outputs": [
      {
       "output_type": "stream",
       "stream": "stdout",
       "text": [
        "relative viscosity= 0.645\n"
       ]
      }
     ],
     "prompt_number": 4
    }
   ],
   "metadata": {}
  }
 ]
}