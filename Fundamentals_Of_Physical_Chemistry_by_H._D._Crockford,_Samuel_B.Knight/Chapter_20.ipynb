{
 "metadata": {
  "name": "",
  "signature": "sha256:724b2ea3e9e4841b29786c6eabe63aa2ea791a8f38dd66100e42fdc041c62649"
 },
 "nbformat": 3,
 "nbformat_minor": 0,
 "worksheets": [
  {
   "cells": [
    {
     "cell_type": "heading",
     "level": 1,
     "metadata": {},
     "source": [
      "Chapter 20 Radiochemistry"
     ]
    },
    {
     "cell_type": "heading",
     "level": 2,
     "metadata": {},
     "source": [
      "Example 20.1 , Page no:430"
     ]
    },
    {
     "cell_type": "code",
     "collapsed": false,
     "input": [
      "import math\n",
      "from __future__ import division\n",
      "\n",
      "#initialisation of variables\n",
      "t= 4.5*10**9 #years\n",
      "t1= 1590 #years\n",
      "\n",
      "#CALCULATIONS\n",
      "l= math.log10(2)/(t*0.4343)\n",
      "l1= math.log10(2)/(t1*0.4343)\n",
      "r= l1/l\n",
      "r1= t/t1\n",
      "\n",
      "#RESULTS\n",
      "print\"disintegration constant=\",'%.2E'%l,\"yr^-1\";\n",
      "print\"disintegration constant=\",'%.2E'%l1,\"yr^-1\";\n",
      "print\"relative proportion=\",'%.2E'%r;\n",
      "print\"relative proportion=\",'%.2E'%r1;"
     ],
     "language": "python",
     "metadata": {},
     "outputs": [
      {
       "output_type": "stream",
       "stream": "stdout",
       "text": [
        "disintegration constant= 1.54E-10 yr^-1\n",
        "disintegration constant= 4.36E-04 yr^-1\n",
        "relative proportion= 2.83E+06\n",
        "relative proportion= 2.83E+06\n"
       ]
      }
     ],
     "prompt_number": 1
    }
   ],
   "metadata": {}
  }
 ]
}