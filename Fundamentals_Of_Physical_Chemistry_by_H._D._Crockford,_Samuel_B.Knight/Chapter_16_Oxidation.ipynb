{
 "metadata": {
  "name": "",
  "signature": "sha256:fd2cd757c6340b6243988cf264d2b72be2a8dab0e9698d9334b723b0fb28d2f8"
 },
 "nbformat": 3,
 "nbformat_minor": 0,
 "worksheets": [
  {
   "cells": [
    {
     "cell_type": "heading",
     "level": 1,
     "metadata": {},
     "source": [
      "Chapter 16 Oxidation Reduction potentials"
     ]
    },
    {
     "cell_type": "heading",
     "level": 2,
     "metadata": {},
     "source": [
      "Example 16.1 , Page no:351"
     ]
    },
    {
     "cell_type": "code",
     "collapsed": false,
     "input": [
      "import math\n",
      "from __future__ import division\n",
      "\n",
      "#initialisation of variables\n",
      "x= 0.02 #m\n",
      "y= 0.4 #m\n",
      "R= 0.0592\n",
      "e= -0.771 #V\n",
      "e1= -1.520 #v\n",
      "n= 5 #electrons\n",
      "z= 0.80 #m\n",
      "z1= 0.5 #m\n",
      "\n",
      "#CALCULATIONS\n",
      "E= e-R*math.log10(x/y)\n",
      "E1= e1-(R/n)*math.log10(z1*z**8/x)\n",
      "E2= E-E1\n",
      "\n",
      "#RESULTS\n",
      "print\"Redox potential of sample=\",round(E,3),\"v\";\n",
      "print\"Redox potential of sample=\",round(E1,3),\"v\";\n",
      "print\"Redox potential of sample=\",round(E2,3),\"v\";"
     ],
     "language": "python",
     "metadata": {},
     "outputs": [
      {
       "output_type": "stream",
       "stream": "stdout",
       "text": [
        "Redox potential of sample= -0.694 v\n",
        "Redox potential of sample= -1.527 v\n",
        "Redox potential of sample= 0.833 v\n"
       ]
      }
     ],
     "prompt_number": 1
    },
    {
     "cell_type": "heading",
     "level": 2,
     "metadata": {},
     "source": [
      "Example 16.2 , Page no:354"
     ]
    },
    {
     "cell_type": "code",
     "collapsed": false,
     "input": [
      "import math\n",
      "from __future__ import division\n",
      "\n",
      "#initialisation of variables\n",
      "E= 0.3500 #v\n",
      "E1= -0.2788 #v\n",
      "\n",
      "#CALCULATIONS\n",
      "e= E+E1\n",
      "\n",
      "#RESULTS\n",
      "print\"Redox potential of sample=\",round(e,4),\"v\";"
     ],
     "language": "python",
     "metadata": {},
     "outputs": [
      {
       "output_type": "stream",
       "stream": "stdout",
       "text": [
        "Redox potential of sample= 0.0712 v\n"
       ]
      }
     ],
     "prompt_number": 2
    },
    {
     "cell_type": "heading",
     "level": 2,
     "metadata": {},
     "source": [
      "Example 16.3 , Page no:356"
     ]
    },
    {
     "cell_type": "code",
     "collapsed": false,
     "input": [
      "import math\n",
      "from __future__ import division\n",
      "\n",
      "#initialisation of variables\n",
      "p= 60 #percent\n",
      "x= 0.030 #v\n",
      "E= -0.039 #v\n",
      "\n",
      "#CALCULATIONS\n",
      "V= E-x*math.log10((1-(p/100))/(p/100))\n",
      "\n",
      "#RESULTS\n",
      "print\"Redox potential of sample=\",round(V,3),\"v\";"
     ],
     "language": "python",
     "metadata": {},
     "outputs": [
      {
       "output_type": "stream",
       "stream": "stdout",
       "text": [
        "Redox potential of sample= -0.034 v\n"
       ]
      }
     ],
     "prompt_number": 3
    }
   ],
   "metadata": {}
  }
 ]
}