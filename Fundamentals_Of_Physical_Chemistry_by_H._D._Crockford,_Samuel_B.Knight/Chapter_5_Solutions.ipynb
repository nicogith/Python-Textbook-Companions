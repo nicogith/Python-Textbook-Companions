{
 "metadata": {
  "name": "",
  "signature": "sha256:c691dcfcd6a933ac6eb12c1a2c163c1c058e6d87ac693062ccdbd8eadc2a939c"
 },
 "nbformat": 3,
 "nbformat_minor": 0,
 "worksheets": [
  {
   "cells": [
    {
     "cell_type": "heading",
     "level": 1,
     "metadata": {},
     "source": [
      "Chapter 5 Solutions Osmotic Pressure"
     ]
    },
    {
     "cell_type": "heading",
     "level": 2,
     "metadata": {},
     "source": [
      "Example 5.1 , Page no:108"
     ]
    },
    {
     "cell_type": "code",
     "collapsed": false,
     "input": [
      "import math\n",
      "from __future__ import division\n",
      "\n",
      "#initialisation of variables\n",
      "T= 20 #C\n",
      "R= 0.082 #li-atm per mole per degree\n",
      "V= 2 #lit\n",
      "m= 6 #gms\n",
      "M= 60 #gms\n",
      "\n",
      "#CALCULATIONS\n",
      "P= m*R*(273+T)/(M*V)\n",
      "\n",
      "#RESULTS\n",
      "print\"osmotic pressure=\",round(P,1),\"atm\";"
     ],
     "language": "python",
     "metadata": {},
     "outputs": [
      {
       "output_type": "stream",
       "stream": "stdout",
       "text": [
        "osmotic pressure= 1.2 atm\n"
       ]
      }
     ],
     "prompt_number": 1
    },
    {
     "cell_type": "heading",
     "level": 2,
     "metadata": {},
     "source": [
      "Example 5.2 , Page no:110"
     ]
    },
    {
     "cell_type": "code",
     "collapsed": false,
     "input": [
      "import math\n",
      "from __future__ import division\n",
      "\n",
      "#initialisation of variables\n",
      "T= -0.2 #C\n",
      "T1= 25 #C\n",
      "T2= 1.86 #C\n",
      "R= 0.082 #li-atm per mole per degree\n",
      "\n",
      "#CALCULATIONS\n",
      "P= -T*R*(T1+273)/T2\n",
      "\n",
      "#RESULTS\n",
      "print\"osmotic pressure=\",round(P,2),\"atm\";"
     ],
     "language": "python",
     "metadata": {},
     "outputs": [
      {
       "output_type": "stream",
       "stream": "stdout",
       "text": [
        "osmotic pressure= 2.63 atm\n"
       ]
      }
     ],
     "prompt_number": 2
    }
   ],
   "metadata": {}
  }
 ]
}