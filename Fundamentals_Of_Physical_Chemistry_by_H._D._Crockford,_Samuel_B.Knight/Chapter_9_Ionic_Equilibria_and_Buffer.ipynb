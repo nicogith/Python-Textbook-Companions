{
 "metadata": {
  "name": "",
  "signature": "sha256:1207755484910daee1073e3d65ecb3534a4362bdebc5f8d9a33ebf34b5c61963"
 },
 "nbformat": 3,
 "nbformat_minor": 0,
 "worksheets": [
  {
   "cells": [
    {
     "cell_type": "heading",
     "level": 1,
     "metadata": {},
     "source": [
      "Chapter 9 Ionic Equilibria and Buffer Action"
     ]
    },
    {
     "cell_type": "heading",
     "level": 2,
     "metadata": {},
     "source": [
      "Example 9.1 , Page no:182"
     ]
    },
    {
     "cell_type": "code",
     "collapsed": false,
     "input": [
      "import math\n",
      "from __future__ import division\n",
      "\n",
      "#initialisation of variables\n",
      "c= 0.1 #M\n",
      "p= 1.34 #per cent\n",
      "T= 25 #C\n",
      "\n",
      "#CALCULATIONS\n",
      "C1= c*p/100\n",
      "C2= c*p/100\n",
      "C3= c-C1\n",
      "Ka= C1*C2/C3\n",
      "\n",
      "#RESULTS\n",
      "print\"ionization constant =\",'%.2E'%Ka;"
     ],
     "language": "python",
     "metadata": {},
     "outputs": [
      {
       "output_type": "stream",
       "stream": "stdout",
       "text": [
        "ionization constant = 1.82E-05\n"
       ]
      }
     ],
     "prompt_number": 1
    },
    {
     "cell_type": "heading",
     "level": 2,
     "metadata": {},
     "source": [
      "Example 9.2 , Page no:184"
     ]
    },
    {
     "cell_type": "code",
     "collapsed": false,
     "input": [
      "import math\n",
      "from __future__ import division\n",
      "\n",
      "#initialisation of variables\n",
      "k= 1.8*10**-5\n",
      "C= 0.2 #M\n",
      "T= 25 #C\n",
      "\n",
      "#CALCULATIONS\n",
      "x= math.sqrt(C*k)\n",
      "a= x/C\n",
      "C1= a*C\n",
      "\n",
      "#RESULTS\n",
      "print\"hydronium-ion concentration =\",'%.2E'%C1,\"mole per litre\";"
     ],
     "language": "python",
     "metadata": {},
     "outputs": [
      {
       "output_type": "stream",
       "stream": "stdout",
       "text": [
        "hydronium-ion concentration = 1.90E-03 mole per litre\n"
       ]
      }
     ],
     "prompt_number": 2
    },
    {
     "cell_type": "heading",
     "level": 2,
     "metadata": {},
     "source": [
      "Example 9.3 , Page no:185"
     ]
    },
    {
     "cell_type": "code",
     "collapsed": false,
     "input": [
      "import math\n",
      "from __future__ import division\n",
      "\n",
      "#initialisation of variables\n",
      "K= 1.8*10**-5\n",
      "V= 500 #ml\n",
      "c1= 0.3 #M\n",
      "c2= 0.2 #M\n",
      "\n",
      "#CALCULATIONS\n",
      "x= V*c1/1000\n",
      "y= V*c2/1000\n",
      "C= K*y/x\n",
      "\n",
      "#RESULTS\n",
      "print\"hydronium-ion concentration =\",'%.2E'%C,\"mole per litre\";"
     ],
     "language": "python",
     "metadata": {},
     "outputs": [
      {
       "output_type": "stream",
       "stream": "stdout",
       "text": [
        "hydronium-ion concentration = 1.20E-05 mole per litre\n"
       ]
      }
     ],
     "prompt_number": 3
    },
    {
     "cell_type": "heading",
     "level": 2,
     "metadata": {},
     "source": [
      "Example 9.4 , Page no:186"
     ]
    },
    {
     "cell_type": "code",
     "collapsed": false,
     "input": [
      "import math\n",
      "from __future__ import division\n",
      "\n",
      "#initialisation of variables\n",
      "K= 1.4*10**-5\n",
      "T= 25 #C\n",
      "V= 200 #ml\n",
      "m= 3.7 #gms\n",
      "m1= 4.8 #gms\n",
      "M= 74 #gms\n",
      "M1= 96 #gms\n",
      "\n",
      "#CALCULATIONS\n",
      "x= m*1000/(V*M)\n",
      "y= m1*1000/(V*M1)\n",
      "X= K*x/y\n",
      "\n",
      "#RESULTS\n",
      "print\"hydronium-ion concentration =\",'%.2E'%X,\"mole per litre\";"
     ],
     "language": "python",
     "metadata": {},
     "outputs": [
      {
       "output_type": "stream",
       "stream": "stdout",
       "text": [
        "hydronium-ion concentration = 1.40E-05 mole per litre\n"
       ]
      }
     ],
     "prompt_number": 4
    },
    {
     "cell_type": "heading",
     "level": 2,
     "metadata": {},
     "source": [
      "Example 9.5 , Page no:188"
     ]
    },
    {
     "cell_type": "code",
     "collapsed": false,
     "input": [
      "import math\n",
      "from __future__ import division\n",
      "\n",
      "#initialisation of variables\n",
      "c= 0.050 #M\n",
      "Ksp= 4.3*10**-7\n",
      "\n",
      "#CALCULATIONS\n",
      "C= math.sqrt(Ksp*c)\n",
      "\n",
      "#RESULTS\n",
      "print\"concentration of hydronium-ion =\",'%.1E'%C,\"mole per litre\";"
     ],
     "language": "python",
     "metadata": {},
     "outputs": [
      {
       "output_type": "stream",
       "stream": "stdout",
       "text": [
        "concentration of hydronium-ion = 1.5E-04 mole per litre\n"
       ]
      }
     ],
     "prompt_number": 5
    },
    {
     "cell_type": "heading",
     "level": 2,
     "metadata": {},
     "source": [
      "Example 9.6 , Page no:189"
     ]
    },
    {
     "cell_type": "code",
     "collapsed": false,
     "input": [
      "import math\n",
      "from __future__ import division\n",
      "\n",
      "#initialisation of variables\n",
      "C= 0.050 #M\n",
      "K= 2.4*10**-17\n",
      "c= 0.1 #M\n",
      "\n",
      "#CALCULATIONS\n",
      "c1= K*C/c**2\n",
      "\n",
      "#RESULTS\n",
      "print\"concentration of carbonate-ion =\",'%.1E'%c1,\"mole per litre\";"
     ],
     "language": "python",
     "metadata": {},
     "outputs": [
      {
       "output_type": "stream",
       "stream": "stdout",
       "text": [
        "concentration of carbonate-ion = 1.2E-16 mole per litre\n"
       ]
      }
     ],
     "prompt_number": 6
    },
    {
     "cell_type": "heading",
     "level": 2,
     "metadata": {},
     "source": [
      "Example 9.7 , Page no:192"
     ]
    },
    {
     "cell_type": "code",
     "collapsed": false,
     "input": [
      "import math\n",
      "from __future__ import division\n",
      "\n",
      "#initialisation of variables\n",
      "n= 1.31*10**-4 #mole\n",
      "T= 25 #C\n",
      "\n",
      "#CALCULATIONS\n",
      "N= 2*n\n",
      "Ksp= N**2*n\n",
      "\n",
      "#RESULTS\n",
      "print\"Ksp =\",'%.1E'%Ksp;"
     ],
     "language": "python",
     "metadata": {},
     "outputs": [
      {
       "output_type": "stream",
       "stream": "stdout",
       "text": [
        "Ksp = 9.0E-12\n"
       ]
      }
     ],
     "prompt_number": 7
    },
    {
     "cell_type": "heading",
     "level": 2,
     "metadata": {},
     "source": [
      "Example 9.8 , Page no:193"
     ]
    },
    {
     "cell_type": "code",
     "collapsed": false,
     "input": [
      "import math\n",
      "from __future__ import division\n",
      "\n",
      "#initialisation of variables\n",
      "Ksp= 1.4*10**-11\n",
      "V= 200 #ml\n",
      "M= 24.3 #/gms\n",
      "\n",
      "#CALCULATIONS\n",
      "x= (Ksp/4)**(1/3)\n",
      "m= x*M*V/1000\n",
      "\n",
      "#RESULTS\n",
      "print\"grams of Mg+2 present =\",'%.1E'%m,\"gms per mol\";"
     ],
     "language": "python",
     "metadata": {},
     "outputs": [
      {
       "output_type": "stream",
       "stream": "stdout",
       "text": [
        "grams of Mg+2 present = 7.4E-04 gms per mol\n"
       ]
      }
     ],
     "prompt_number": 8
    },
    {
     "cell_type": "heading",
     "level": 2,
     "metadata": {},
     "source": [
      "Example 9.9 , Page no:193"
     ]
    },
    {
     "cell_type": "code",
     "collapsed": false,
     "input": [
      "import math\n",
      "from __future__ import division\n",
      "\n",
      "#initialisation of variables\n",
      "c= 0.010 #M\n",
      "Ksp= 1.56*10**-10\n",
      "M= 108 #gms\n",
      "C= 10**-3 #M\n",
      "\n",
      "#CALCULATIONS\n",
      "K= Ksp/C\n",
      "m= M*K\n",
      "m1= M*c\n",
      "\n",
      "#RESULTS\n",
      "print\"quantity =\",'%.2E'%m,\"gms\";\n",
      "print\"quantity =\",round(m1,2),\"gms\";"
     ],
     "language": "python",
     "metadata": {},
     "outputs": [
      {
       "output_type": "stream",
       "stream": "stdout",
       "text": [
        "quantity = 1.68E-05 gms\n",
        "quantity = 1.08 gms\n"
       ]
      }
     ],
     "prompt_number": 9
    },
    {
     "cell_type": "heading",
     "level": 2,
     "metadata": {},
     "source": [
      "Example 9.10 , Page no:199"
     ]
    },
    {
     "cell_type": "code",
     "collapsed": false,
     "input": [
      "import math\n",
      "from __future__ import division\n",
      "\n",
      "#initialisation of variables\n",
      "c= 0.1 #M\n",
      "Kb= 1.8*10**-5\n",
      "Kw= 10**-14\n",
      "\n",
      "#CALCULATIONS\n",
      "C= math.sqrt(c*Kw/Kb)\n",
      "\n",
      "#RESULTS\n",
      "print\"concentration of hydronium ion =\",'%.2E'%C,\"mol per litre\";"
     ],
     "language": "python",
     "metadata": {},
     "outputs": [
      {
       "output_type": "stream",
       "stream": "stdout",
       "text": [
        "concentration of hydronium ion = 7.45E-06 mol per litre\n"
       ]
      }
     ],
     "prompt_number": 10
    },
    {
     "cell_type": "heading",
     "level": 2,
     "metadata": {},
     "source": [
      "Example 9.11 , Page no:201"
     ]
    },
    {
     "cell_type": "code",
     "collapsed": false,
     "input": [
      "import math\n",
      "from __future__ import division\n",
      "\n",
      "#initialisation of variables\n",
      "c= 0.050 #M\n",
      "Kb= 1.8*10**-5\n",
      "T= 25 #C\n",
      "Kw= 10**-14\n",
      "\n",
      "#CALCULATIONS\n",
      "C= math.sqrt(Kw*c/Kb)\n",
      "\n",
      "#RESULTS\n",
      "print\"concentration of hydronium ion =\",'%.2E'%C,\"mol per litre\";"
     ],
     "language": "python",
     "metadata": {},
     "outputs": [
      {
       "output_type": "stream",
       "stream": "stdout",
       "text": [
        "concentration of hydronium ion = 5.27E-06 mol per litre\n"
       ]
      }
     ],
     "prompt_number": 11
    },
    {
     "cell_type": "heading",
     "level": 2,
     "metadata": {},
     "source": [
      "Example 9.12 , Page no:203"
     ]
    },
    {
     "cell_type": "code",
     "collapsed": false,
     "input": [
      "import math\n",
      "from __future__ import division\n",
      "\n",
      "#initialisation of variables\n",
      "kw= 10**-14\n",
      "Ka= 1.8*10**-5\n",
      "\n",
      "#CALCULATIONS\n",
      "Kb= Ka\n",
      "B= math.sqrt(kw/(Ka*Kb))\n",
      "\n",
      "#RESULTS\n",
      "print\"degree of hydrolysis =\",'%.2E'%B;"
     ],
     "language": "python",
     "metadata": {},
     "outputs": [
      {
       "output_type": "stream",
       "stream": "stdout",
       "text": [
        "degree of hydrolysis = 5.56E-03\n"
       ]
      }
     ],
     "prompt_number": 12
    },
    {
     "cell_type": "heading",
     "level": 2,
     "metadata": {},
     "source": [
      "Example 9.13 , Page no:205"
     ]
    },
    {
     "cell_type": "code",
     "collapsed": false,
     "input": [
      "import math\n",
      "from __future__ import division\n",
      "\n",
      "#initialisation of variables\n",
      "k1= 3.5*10**-7\n",
      "k2= 4.4*10**-11\n",
      "\n",
      "#CALCULATIONS\n",
      "c= math.sqrt(k1*k2)\n",
      "\n",
      "#RESULTS\n",
      "print\"concentration of solution =\",'%.2E'%c,\"mol per litre\";"
     ],
     "language": "python",
     "metadata": {},
     "outputs": [
      {
       "output_type": "stream",
       "stream": "stdout",
       "text": [
        "concentration of solution = 3.92E-09 mol per litre\n"
       ]
      }
     ],
     "prompt_number": 13
    },
    {
     "cell_type": "heading",
     "level": 2,
     "metadata": {},
     "source": [
      "Example 9.14 , Page no:207"
     ]
    },
    {
     "cell_type": "code",
     "collapsed": false,
     "input": [
      "import math\n",
      "from __future__ import division\n",
      "\n",
      "#initialisation of variables\n",
      "c= 1.92*10**-5 #mole per litre\n",
      "\n",
      "#CALCULATIONS\n",
      "pH= -math.log10(c)\n",
      "\n",
      "#RESULTS\n",
      "print\"pH of solution =\",round(pH,2);"
     ],
     "language": "python",
     "metadata": {},
     "outputs": [
      {
       "output_type": "stream",
       "stream": "stdout",
       "text": [
        "pH of solution = 4.72\n"
       ]
      }
     ],
     "prompt_number": 14
    },
    {
     "cell_type": "heading",
     "level": 2,
     "metadata": {},
     "source": [
      "Example 9.15 , Page no:208"
     ]
    },
    {
     "cell_type": "code",
     "collapsed": false,
     "input": [
      "import math\n",
      "from __future__ import division\n",
      "\n",
      "#initialisation of variables\n",
      "pH= 7.36\n",
      "\n",
      "#CALCULATIONS\n",
      "C= 10**-pH\n",
      "\n",
      "#RESULTS\n",
      "print\"concentration of solution =\",'%.2E'%C,\"mol per litre\";"
     ],
     "language": "python",
     "metadata": {},
     "outputs": [
      {
       "output_type": "stream",
       "stream": "stdout",
       "text": [
        "concentration of solution = 4.37E-08 mol per litre\n"
       ]
      }
     ],
     "prompt_number": 15
    },
    {
     "cell_type": "heading",
     "level": 2,
     "metadata": {},
     "source": [
      "Example 9.16 , Page no:210"
     ]
    },
    {
     "cell_type": "code",
     "collapsed": false,
     "input": [
      "import math\n",
      "from __future__ import division\n",
      "\n",
      "#initialisation of variables\n",
      "c= 1 #M\n",
      "Kb= 5.3*10**-5\n",
      "pKw= 14\n",
      "\n",
      "#CALCULATIONS\n",
      "pH= pKw+0.5*math.log10(Kb)+0.5*math.log10(c)\n",
      "\n",
      "#RESULTS\n",
      "print\"pH of solution =\",round(pH,2);"
     ],
     "language": "python",
     "metadata": {},
     "outputs": [
      {
       "output_type": "stream",
       "stream": "stdout",
       "text": [
        "pH of solution = 11.86\n"
       ]
      }
     ],
     "prompt_number": 16
    },
    {
     "cell_type": "heading",
     "level": 2,
     "metadata": {},
     "source": [
      "Example 9.17 , Page no:211"
     ]
    },
    {
     "cell_type": "code",
     "collapsed": false,
     "input": [
      "import math\n",
      "from __future__ import division\n",
      "\n",
      "#initialisation of variables\n",
      "c= 0.1 #M\n",
      "Ka= 6.3*10**-5\n",
      "pKw= 14\n",
      "#CALCULATIONS\n",
      "pH= -0.5*math.log10(Ka)+0.5*pKw+0.5*math.log10(c)\n",
      "\n",
      "#RESULTS\n",
      "print\"pH of a buffer solution =\",round(pH,2);"
     ],
     "language": "python",
     "metadata": {},
     "outputs": [
      {
       "output_type": "stream",
       "stream": "stdout",
       "text": [
        "pH of a buffer solution = 8.6\n"
       ]
      }
     ],
     "prompt_number": 17
    },
    {
     "cell_type": "heading",
     "level": 2,
     "metadata": {},
     "source": [
      "Example 9.18 , Page no:214"
     ]
    },
    {
     "cell_type": "code",
     "collapsed": false,
     "input": [
      "import math\n",
      "from __future__ import division\n",
      "\n",
      "#initialisation of variables\n",
      "Ka= 1.8*10**-5\n",
      "a= 0.1 #molar\n",
      "\n",
      "#CALCULATIONS\n",
      "pH= -math.log10(Ka)\n",
      "\n",
      "#RESULTS\n",
      "print\"pH of a buffer solution =\",round(pH,2);"
     ],
     "language": "python",
     "metadata": {},
     "outputs": [
      {
       "output_type": "stream",
       "stream": "stdout",
       "text": [
        "pH of a buffer solution = 4.74\n"
       ]
      }
     ],
     "prompt_number": 18
    },
    {
     "cell_type": "heading",
     "level": 2,
     "metadata": {},
     "source": [
      "Example 9.19 , Page no:214"
     ]
    },
    {
     "cell_type": "code",
     "collapsed": false,
     "input": [
      "import math\n",
      "from __future__ import division\n",
      "\n",
      "#initialisation of variables\n",
      "pH= 7.10\n",
      "pH1= 7.21\n",
      "\n",
      "#CALCULATIONS\n",
      "r= 10**(pH-pH1)\n",
      "\n",
      "#RESULTS\n",
      "print\"ratio of salt to acid =\",round(r,2);"
     ],
     "language": "python",
     "metadata": {},
     "outputs": [
      {
       "output_type": "stream",
       "stream": "stdout",
       "text": [
        "ratio of salt to acid = 0.78\n"
       ]
      }
     ],
     "prompt_number": 19
    }
   ],
   "metadata": {}
  }
 ]
}