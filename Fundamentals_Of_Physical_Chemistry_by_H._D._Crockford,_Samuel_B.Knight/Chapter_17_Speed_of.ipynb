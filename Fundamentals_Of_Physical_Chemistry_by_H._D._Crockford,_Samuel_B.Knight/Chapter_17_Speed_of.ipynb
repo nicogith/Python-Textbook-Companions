{
 "metadata": {
  "name": "",
  "signature": "sha256:df0cbacdc0c156a62e55ecc54838d8d2464543f5baf1b187c2a41373b06964b5"
 },
 "nbformat": 3,
 "nbformat_minor": 0,
 "worksheets": [
  {
   "cells": [
    {
     "cell_type": "heading",
     "level": 1,
     "metadata": {},
     "source": [
      "Chapter 17 Speed of Reaction Catalysis"
     ]
    },
    {
     "cell_type": "heading",
     "level": 2,
     "metadata": {},
     "source": [
      "Example 17.1 , Page no:366"
     ]
    },
    {
     "cell_type": "code",
     "collapsed": false,
     "input": [
      "import math\n",
      "from __future__ import division\n",
      "\n",
      "#initialisation of variables\n",
      "t= 40 #min\n",
      "r= 0.274\n",
      "t1= 50 #min\n",
      "\n",
      "#CALCULATIONS\n",
      "k= 2.3*math.log10(1/(1-r))/t\n",
      "R=10**( -k*t1/2.3)\n",
      "R1= 1-R\n",
      "\n",
      "#RESULTS\n",
      "print\"velocity constant=\",round(k,3),\"min^-1\";\n",
      "print\"fraction decomposed=\",round(R1,3);"
     ],
     "language": "python",
     "metadata": {},
     "outputs": [
      {
       "output_type": "stream",
       "stream": "stdout",
       "text": [
        "velocity constant= 0.008 min^-1\n",
        "fraction decomposed= 0.33\n"
       ]
      }
     ],
     "prompt_number": 1
    },
    {
     "cell_type": "heading",
     "level": 2,
     "metadata": {},
     "source": [
      "Example 17.3 , Page no:369"
     ]
    },
    {
     "cell_type": "code",
     "collapsed": false,
     "input": [
      "import math\n",
      "from __future__ import division\n",
      "\n",
      "#initialisation of variables\n",
      "t= 10 #min\n",
      "c= 0.01 #molar\n",
      "c1= 0.00464 #molar\n",
      "\n",
      "#CALCULATIONS\n",
      "k= (c-c1)/(c*c1*t)\n",
      "T= 1/(k*0.01)\n",
      "\n",
      "#RESULTS\n",
      "print\"velocity constant=\",round(k,1),\"min^-1\";\n",
      "print\"half-time period=\",round(T,1),\"min\";"
     ],
     "language": "python",
     "metadata": {},
     "outputs": [
      {
       "output_type": "stream",
       "stream": "stdout",
       "text": [
        "velocity constant= 11.6 min^-1\n",
        "half-time period= 8.7 min\n"
       ]
      }
     ],
     "prompt_number": 2
    }
   ],
   "metadata": {}
  }
 ]
}