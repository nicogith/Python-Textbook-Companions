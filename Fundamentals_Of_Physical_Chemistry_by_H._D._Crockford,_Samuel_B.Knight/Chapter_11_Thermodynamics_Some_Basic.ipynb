{
 "metadata": {
  "name": "",
  "signature": "sha256:b572ed7147230289439bed5f55a6f76f00431eb5c5c7668bbbf12e36d43f3dd4"
 },
 "nbformat": 3,
 "nbformat_minor": 0,
 "worksheets": [
  {
   "cells": [
    {
     "cell_type": "heading",
     "level": 1,
     "metadata": {},
     "source": [
      "Chapter 11 Thermodynamics Some Basic Concepts"
     ]
    },
    {
     "cell_type": "heading",
     "level": 2,
     "metadata": {},
     "source": [
      "Example 11.1 , Page no:259"
     ]
    },
    {
     "cell_type": "code",
     "collapsed": false,
     "input": [
      "import math\n",
      "from __future__ import division\n",
      "\n",
      "#initialisation of variables\n",
      "T= 25 #C\n",
      "T1= 75 #C\n",
      "k= 6.45 #cal per mole per degree\n",
      "k1= 1.41*10**-3 #cal per mole per degree k^-1\n",
      "k2= -8.1*10**-8 #cal per mole per degree k^-2\n",
      "m= 14 #gms\n",
      "M= 28 #gms\n",
      "\n",
      "#CALCULATIONS\n",
      "Cp= k+k1*(273+T)+k2*(273+T)**2\n",
      "Cp1= k+k1*(273+T1)+k2*(273+T1)**2\n",
      "cp= (Cp+Cp1)/2\n",
      "H= (m/M)*cp*(T1-T)\n",
      "H1= (m/M)*(k*(T1-T)+(k1/2)*((273+T1)**2-(273+T)**2)+(k2/3)*((273+T1)**3-(273+T)**3))\n",
      "#RESULTS\n",
      "print\"Heat required=\",round(H,1),\"cal\";\n",
      "print\"value of dH=\",round(H1,1),\"cal\";"
     ],
     "language": "python",
     "metadata": {},
     "outputs": [
      {
       "output_type": "stream",
       "stream": "stdout",
       "text": [
        "Heat required= 172.4 cal\n",
        "value of dH= 172.4 cal\n"
       ]
      }
     ],
     "prompt_number": 1
    },
    {
     "cell_type": "heading",
     "level": 2,
     "metadata": {},
     "source": [
      "Example 11.2 , Page no:260"
     ]
    },
    {
     "cell_type": "code",
     "collapsed": false,
     "input": [
      "import math\n",
      "from __future__ import division\n",
      "\n",
      "#initialisation of variables\n",
      "m= 64 #gms\n",
      "M= 32 #gms\n",
      "T= 100 #C\n",
      "T1= 0 #C\n",
      "cp= 7.05 #cal per mole per degree\n",
      "cp1= 5.06 #cal per mole per degree\n",
      "\n",
      "#CALCULATIONS\n",
      "H= cp*(m/M)*(T-T1)\n",
      "E= cp1*(m/M)*(T-T1)\n",
      "\n",
      "#RESULTS\n",
      "print\"value of dH=\",round(H),\"cal\";\n",
      "print\"value of dE=\",round(E),\"cal\";"
     ],
     "language": "python",
     "metadata": {},
     "outputs": [
      {
       "output_type": "stream",
       "stream": "stdout",
       "text": [
        "value of dH= 1410.0 cal\n",
        "value of dE= 1012.0 cal\n"
       ]
      }
     ],
     "prompt_number": 2
    },
    {
     "cell_type": "heading",
     "level": 2,
     "metadata": {},
     "source": [
      "Example 11.3 , Page no:261"
     ]
    },
    {
     "cell_type": "code",
     "collapsed": false,
     "input": [
      "import math\n",
      "from __future__ import division\n",
      "\n",
      "#initialisation of variables\n",
      "n= 2 #moles\n",
      "R= 1.99 #cal er mole per degree\n",
      "T= 80 #C\n",
      "H1= 94.3 #cal per gram\n",
      "M= 78 #gms per mole\n",
      "\n",
      "#CALCULATIONS\n",
      "w= n*R*(273+T)\n",
      "H= n*M*H1\n",
      "E= H-w\n",
      "\n",
      "#RESULTS\n",
      "print\"value of dH=\",round(H),\"cal\";\n",
      "print\"value of dE=\",round(E),\"cal\";"
     ],
     "language": "python",
     "metadata": {},
     "outputs": [
      {
       "output_type": "stream",
       "stream": "stdout",
       "text": [
        "value of dH= 14711.0 cal\n",
        "value of dE= 13306.0 cal\n"
       ]
      }
     ],
     "prompt_number": 3
    },
    {
     "cell_type": "heading",
     "level": 2,
     "metadata": {},
     "source": [
      "Example 11.4 , Page no:262"
     ]
    },
    {
     "cell_type": "code",
     "collapsed": false,
     "input": [
      "import math\n",
      "from __future__ import division\n",
      "\n",
      "#initialisation of variables\n",
      "m= 9 #gms\n",
      "T= -10 #C\n",
      "T1= 0 #C\n",
      "R= 0.5 #cal per gram per degree\n",
      "H= 79.7 #cal per gram\n",
      "R1= 1 #cal per gram per degree\n",
      "T2= 100 #C\n",
      "H1= 539.7 #cal per gm\n",
      "R2= 8.11 #cal per gram per degree\n",
      "M= 18 #gms\n",
      "T3= 40 #C\n",
      "\n",
      "#CALCULATIONS\n",
      "dH= m*R*(T1-T)\n",
      "dH1= m*H\n",
      "dH2= m*R1*(T2-T1)\n",
      "dH3= m*H1\n",
      "dH4= (m/M)*R2*(T3-T1)\n",
      "dH5= dH+dH1+dH2+dH3+dH4\n",
      "\n",
      "#RESULTS\n",
      "print\"value of dH=\",round(dH5,1),\"cal\";"
     ],
     "language": "python",
     "metadata": {},
     "outputs": [
      {
       "output_type": "stream",
       "stream": "stdout",
       "text": [
        "value of dH= 6681.8 cal\n"
       ]
      }
     ],
     "prompt_number": 4
    }
   ],
   "metadata": {}
  }
 ]
}