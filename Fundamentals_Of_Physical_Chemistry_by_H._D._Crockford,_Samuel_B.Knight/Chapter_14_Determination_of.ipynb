{
 "metadata": {
  "name": "",
  "signature": "sha256:05a283266977be1491539c3ffa14a6d4d783b37eefcde7092d834c5f8ff74a10"
 },
 "nbformat": 3,
 "nbformat_minor": 0,
 "worksheets": [
  {
   "cells": [
    {
     "cell_type": "heading",
     "level": 1,
     "metadata": {},
     "source": [
      "Chapter 14 Determination of hydroniumion Concentrations"
     ]
    },
    {
     "cell_type": "heading",
     "level": 2,
     "metadata": {},
     "source": [
      "Example 14.1 , Page no:308"
     ]
    },
    {
     "cell_type": "code",
     "collapsed": false,
     "input": [
      "import math\n",
      "from __future__ import division\n",
      "\n",
      "#initialisation of variables\n",
      "E= 0.232 #v\n",
      "R= 0.0592\n",
      "p= 1 #atm\n",
      "R1= 0.0296\n",
      "P= 740 #atm\n",
      "\n",
      "#CALCULATIONS\n",
      "pH= E/R\n",
      "pH1= (E-R1*math.log10(P/760))/R\n",
      "e= pH1-pH\n",
      "\n",
      "#RESULTS\n",
      "print\"error in pH of solution=\",round(e-0.002,3);"
     ],
     "language": "python",
     "metadata": {},
     "outputs": [
      {
       "output_type": "stream",
       "stream": "stdout",
       "text": [
        "error in pH of solution= 0.004\n"
       ]
      }
     ],
     "prompt_number": 1
    },
    {
     "cell_type": "heading",
     "level": 2,
     "metadata": {},
     "source": [
      "Example 14.2 , Page no:312"
     ]
    },
    {
     "cell_type": "code",
     "collapsed": false,
     "input": [
      "import math\n",
      "from __future__ import division\n",
      "\n",
      "#initialisation of variables\n",
      "e= 0.266 #v\n",
      "R= 0.0592\n",
      "\n",
      "#CALCULATIONS\n",
      "pH= e/R\n",
      "\n",
      "#RESULTS\n",
      "print\"pH of the unkown solution=\",round(pH,2);"
     ],
     "language": "python",
     "metadata": {},
     "outputs": [
      {
       "output_type": "stream",
       "stream": "stdout",
       "text": [
        "pH of the unkown solution= 4.49\n"
       ]
      }
     ],
     "prompt_number": 2
    },
    {
     "cell_type": "heading",
     "level": 2,
     "metadata": {},
     "source": [
      "Example 14.3 , Page no:312"
     ]
    },
    {
     "cell_type": "code",
     "collapsed": false,
     "input": [
      "import math\n",
      "from __future__ import division\n",
      "\n",
      "#initialisation of variables\n",
      "e= 0.323 #v\n",
      "R= 0.0592\n",
      "c= 0.001 #molar\n",
      "\n",
      "#CALCULATIONS\n",
      "pH= (e-R*math.log10(c))/R\n",
      "\n",
      "#RESULTS\n",
      "print\"pH of the unkown solution=\",round(pH,2);"
     ],
     "language": "python",
     "metadata": {},
     "outputs": [
      {
       "output_type": "stream",
       "stream": "stdout",
       "text": [
        "pH of the unkown solution= 8.46\n"
       ]
      }
     ],
     "prompt_number": 3
    },
    {
     "cell_type": "heading",
     "level": 2,
     "metadata": {},
     "source": [
      "Example 14.4 , Page no:312"
     ]
    },
    {
     "cell_type": "code",
     "collapsed": false,
     "input": [
      "import math\n",
      "from __future__ import division\n",
      "\n",
      "#initialisation of variables\n",
      "E= 0.527 #v\n",
      "T= 25 #C\n",
      "R= 0.0592\n",
      "e= -0.246 #v\n",
      "\n",
      "#CALCULATIONS\n",
      "pH= -(-E-e)/R\n",
      "\n",
      "#RESULTS\n",
      "print\"pH of the unkown solution=\",round(pH,2);"
     ],
     "language": "python",
     "metadata": {},
     "outputs": [
      {
       "output_type": "stream",
       "stream": "stdout",
       "text": [
        "pH of the unkown solution= 4.75\n"
       ]
      }
     ],
     "prompt_number": 4
    },
    {
     "cell_type": "heading",
     "level": 2,
     "metadata": {},
     "source": [
      "Example 14.5 , Page no:314"
     ]
    },
    {
     "cell_type": "code",
     "collapsed": false,
     "input": [
      "import math\n",
      "from __future__ import division\n",
      "\n",
      "#initialisation of variables\n",
      "E= 0.034 #v\n",
      "E1= -0.280 #v\n",
      "E2= -0.699 #v\n",
      "E3= 0.0592\n",
      "\n",
      "#CALCULATIONS\n",
      "pH= (E1-E-E2)/E3\n",
      "pH1= (E-E2+E1)/E3\n",
      "\n",
      "#RESULTS\n",
      "print\"pH of the unkown solution=\",round(pH,2);\n",
      "print\"pH of the unkown solution=\",round(pH1,2);"
     ],
     "language": "python",
     "metadata": {},
     "outputs": [
      {
       "output_type": "stream",
       "stream": "stdout",
       "text": [
        "pH of the unkown solution= 6.5\n",
        "pH of the unkown solution= 7.65\n"
       ]
      }
     ],
     "prompt_number": 5
    }
   ],
   "metadata": {}
  }
 ]
}