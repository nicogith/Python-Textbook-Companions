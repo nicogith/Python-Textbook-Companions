{
 "metadata": {
  "name": "",
  "signature": "sha256:7a266dd1ce57af30f3c9e5c516d10e76609cdebee3c369d85f3c238b11e1c662"
 },
 "nbformat": 3,
 "nbformat_minor": 0,
 "worksheets": [
  {
   "cells": [
    {
     "cell_type": "heading",
     "level": 1,
     "metadata": {},
     "source": [
      "Chapter 10 Electmotive Force"
     ]
    },
    {
     "cell_type": "heading",
     "level": 2,
     "metadata": {},
     "source": [
      "Example 10.1 , Page no:235"
     ]
    },
    {
     "cell_type": "code",
     "collapsed": false,
     "input": [
      "import math\n",
      "from __future__ import division\n",
      "\n",
      "#initialisation of variables\n",
      "T= 25 #C\n",
      "M= 0.08 #m\n",
      "P= 1 #atm\n",
      "F= 96500 #coloumbs\n",
      "R= 8.31 #J/mol K\n",
      "\n",
      "#CALCULATIONS\n",
      "E= -R*(273+T)*2.3*math.log10(M)/F\n",
      "\n",
      "#RESULTS\n",
      "print\"oxidation potential of hydrogen elctrode =\",round(E,3),\"v\";"
     ],
     "language": "python",
     "metadata": {},
     "outputs": [
      {
       "output_type": "stream",
       "stream": "stdout",
       "text": [
        "oxidation potential of hydrogen elctrode = 0.065 v\n"
       ]
      }
     ],
     "prompt_number": 1
    },
    {
     "cell_type": "heading",
     "level": 2,
     "metadata": {},
     "source": [
      "Example 10.2 , Page no:236"
     ]
    },
    {
     "cell_type": "code",
     "collapsed": false,
     "input": [
      "import math\n",
      "from __future__ import division\n",
      "\n",
      "#initialisation of variables\n",
      "E= -0.337 #v\n",
      "R= 8.31 #J/mol K\n",
      "T= 25 #C\n",
      "F= 96500 #coloums\n",
      "M= 0.12 #m\n",
      "\n",
      "#CALCULATIONS\n",
      "E1= E-(R*(273+T)*2.3*math.log10(M)/(2*F))\n",
      "\n",
      "#RESULTS\n",
      "print\"oxidation potential of copper elctrode =\",round(E1,3),\"v\";"
     ],
     "language": "python",
     "metadata": {},
     "outputs": [
      {
       "output_type": "stream",
       "stream": "stdout",
       "text": [
        "oxidation potential of copper elctrode = -0.31 v\n"
       ]
      }
     ],
     "prompt_number": 2
    },
    {
     "cell_type": "heading",
     "level": 2,
     "metadata": {},
     "source": [
      "Example 10.3 , Page no:236"
     ]
    },
    {
     "cell_type": "code",
     "collapsed": false,
     "input": [
      "import math\n",
      "from __future__ import division\n",
      "\n",
      "#initialisation of variables\n",
      "E= -0.771 #v\n",
      "R= 8.31 #J/mol K\n",
      "T= 25 #C\n",
      "F= 96500 #coloums\n",
      "M= 0.02 #m\n",
      "M1= 0.1 #m\n",
      "\n",
      "#CALCULATIONS\n",
      "E1= E-(R*(273+T)*2.3*math.log10(M/M1)/F)\n",
      "\n",
      "#RESULTS\n",
      "print\"oxidation potential of copper elctrode =\",round(E1,2),\"v\";"
     ],
     "language": "python",
     "metadata": {},
     "outputs": [
      {
       "output_type": "stream",
       "stream": "stdout",
       "text": [
        "oxidation potential of copper elctrode = -0.73 v\n"
       ]
      }
     ],
     "prompt_number": 3
    },
    {
     "cell_type": "heading",
     "level": 2,
     "metadata": {},
     "source": [
      "Example 10.4 , Page no:238"
     ]
    },
    {
     "cell_type": "code",
     "collapsed": false,
     "input": [
      "import math\n",
      "from __future__ import division\n",
      "\n",
      "#initialisation of variables\n",
      "E= 0.763 #v\n",
      "R= 8.31 #J/mol K\n",
      "T= 25 #C\n",
      "F= 96500 #coloums\n",
      "M= 0.1 #m\n",
      "M1= 0.01 #m\n",
      "\n",
      "#CALCULATIONS\n",
      "E1= E-(R*(273+T)*2.3*math.log10(M)/(2*F))+R*(273+T)*2.3*math.log10(M1)/F\n",
      "\n",
      "#RESULTS\n",
      "print\"oxidation potential of copper elctrode =\",round(E1,2),\"v\";"
     ],
     "language": "python",
     "metadata": {},
     "outputs": [
      {
       "output_type": "stream",
       "stream": "stdout",
       "text": [
        "oxidation potential of copper elctrode = 0.67 v\n"
       ]
      }
     ],
     "prompt_number": 4
    },
    {
     "cell_type": "heading",
     "level": 2,
     "metadata": {},
     "source": [
      "Example 10.5 , Page no:238"
     ]
    },
    {
     "cell_type": "code",
     "collapsed": false,
     "input": [
      "import math\n",
      "from __future__ import division\n",
      "\n",
      "#initialisation of variables\n",
      "E1= 0.126 #v\n",
      "E2= -1.360 #v\n",
      "M= 0.02 #m\n",
      "M1= 1/0.1 #m\n",
      "R= 8.31 #J/mol K\n",
      "T= 25 #C\n",
      "F= 96500 #coloums\n",
      "\n",
      "#CALCULATIONS\n",
      "E= (E1-R*(273+T)*2.3*math.log10(M)/(2*F))-(E2-R*(273+T)*2.3*math.log10(M1)/(F))\n",
      "\n",
      "#RESULTS\n",
      "print\"oxidation potential of copper elctrode =\",round(E,3),\"v\";"
     ],
     "language": "python",
     "metadata": {},
     "outputs": [
      {
       "output_type": "stream",
       "stream": "stdout",
       "text": [
        "oxidation potential of copper elctrode = 1.595 v\n"
       ]
      }
     ],
     "prompt_number": 5
    },
    {
     "cell_type": "heading",
     "level": 2,
     "metadata": {},
     "source": [
      "Example 10.6 , Page no:239"
     ]
    },
    {
     "cell_type": "code",
     "collapsed": false,
     "input": [
      "import math\n",
      "from __future__ import division\n",
      "\n",
      "#initialisation of variables\n",
      "E1= 0.763 #v\n",
      "c= 0.1 #mol/lit\n",
      "c1= 0.01 #mol/lit\n",
      "R= 8.31 #J/mol K\n",
      "T= 25 #C\n",
      "F= 96500 #coloums\n",
      "c2= 1 #molar\n",
      "c3= 1 #molar\n",
      "\n",
      "#CALCULATIONS\n",
      "E= E1-(math.log10(c*c2/(c1**2*c3))*R*(273+T)*2.3/(2*F))\n",
      "\n",
      "#RESULTS\n",
      "print\"potential of the cell =\",round(E,3),\"v\";"
     ],
     "language": "python",
     "metadata": {},
     "outputs": [
      {
       "output_type": "stream",
       "stream": "stdout",
       "text": [
        "potential of the cell = 0.674 v\n"
       ]
      }
     ],
     "prompt_number": 6
    },
    {
     "cell_type": "heading",
     "level": 2,
     "metadata": {},
     "source": [
      "Example 10.7 , Page no:239"
     ]
    },
    {
     "cell_type": "code",
     "collapsed": false,
     "input": [
      "import math\n",
      "from __future__ import division\n",
      "\n",
      "#initialisation of variables\n",
      "R= 8.31 #J/mol K\n",
      "T= 25 #C\n",
      "F= 96500 #coloums\n",
      "c= 0.02 #molar\n",
      "c1= 0.1 #molar\n",
      "c2= 1 #molar\n",
      "c3= 1 #molar\n",
      "E1= 1.486 #v\n",
      "\n",
      "#CALCULATIONS\n",
      "E= E1-R*(273+T)*2.3*math.log10(c*c1**2/(c2*c3))/(2*F)\n",
      "\n",
      "#RESULTS\n",
      "print\"potential of the cell =\",round(E,3),\"v\";"
     ],
     "language": "python",
     "metadata": {},
     "outputs": [
      {
       "output_type": "stream",
       "stream": "stdout",
       "text": [
        "potential of the cell = 1.595 v\n"
       ]
      }
     ],
     "prompt_number": 7
    },
    {
     "cell_type": "heading",
     "level": 2,
     "metadata": {},
     "source": [
      "Example 10.8 , Page no:241"
     ]
    },
    {
     "cell_type": "code",
     "collapsed": false,
     "input": [
      "import math\n",
      "from __future__ import division\n",
      "\n",
      "#initialisation of variables\n",
      "R= 8.31 #J/mol K\n",
      "T= 25 #C\n",
      "F= 96500 #coloums\n",
      "c= 0.08 #molar\n",
      "c1= 0.04 #molar\n",
      "\n",
      "#CALCULATIONS\n",
      "E= R*(T+273)*math.log(c/c1)/(2*F)\n",
      "E1= 2*E\n",
      "#RESULTS\n",
      "print\"potential of the cell =\",round(E,3),\"v\";\n",
      "print\"potential of the cell =\",round(E1,3),\"v\";"
     ],
     "language": "python",
     "metadata": {},
     "outputs": [
      {
       "output_type": "stream",
       "stream": "stdout",
       "text": [
        "potential of the cell = 0.009 v\n",
        "potential of the cell = 0.018 v\n"
       ]
      }
     ],
     "prompt_number": 8
    }
   ],
   "metadata": {}
  }
 ]
}