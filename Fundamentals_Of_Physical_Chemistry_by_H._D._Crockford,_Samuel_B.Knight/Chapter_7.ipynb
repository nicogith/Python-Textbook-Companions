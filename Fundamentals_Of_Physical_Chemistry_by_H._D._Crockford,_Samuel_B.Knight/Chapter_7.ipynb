{
 "metadata": {
  "name": "",
  "signature": "sha256:3731c6f71e2a937d4957bf750203283410e0f63629387e2d184d88571f207fff"
 },
 "nbformat": 3,
 "nbformat_minor": 0,
 "worksheets": [
  {
   "cells": [
    {
     "cell_type": "heading",
     "level": 1,
     "metadata": {},
     "source": [
      "Chapter 7 Conductivity"
     ]
    },
    {
     "cell_type": "heading",
     "level": 2,
     "metadata": {},
     "source": [
      "Example 7.1 , Page no:139"
     ]
    },
    {
     "cell_type": "code",
     "collapsed": false,
     "input": [
      "import math\n",
      "from __future__ import division\n",
      "\n",
      "#initialisation of variables\n",
      "R= 10 #ohms\n",
      "V= 5 #v\n",
      "t= 20 #min\n",
      "\n",
      "#CALCULATIONS\n",
      "I= V/R\n",
      "Q= I*t*60\n",
      "E= Q*V\n",
      "\n",
      "#RESULTS\n",
      "print\"current=\",round(I),\"amp\";\n",
      "print\"coloumbs of electricity will pass=\",round(Q),\"coloumbs\";\n",
      "print\"energy expended=\",round(E),\"joules\";"
     ],
     "language": "python",
     "metadata": {},
     "outputs": [
      {
       "output_type": "stream",
       "stream": "stdout",
       "text": [
        "current= 1.0 amp\n",
        "coloumbs of electricity will pass= 600.0 coloumbs\n",
        "energy expended= 3000.0 joules\n"
       ]
      }
     ],
     "prompt_number": 1
    },
    {
     "cell_type": "heading",
     "level": 2,
     "metadata": {},
     "source": [
      "Example 7.2 , Page no:143"
     ]
    },
    {
     "cell_type": "code",
     "collapsed": false,
     "input": [
      "import math\n",
      "from __future__ import division\n",
      "\n",
      "#initialisation of variables\n",
      "I= 50 #amp\n",
      "t= 1 #hr\n",
      "F= 96500 #amp-sec\n",
      "mh= 1.01 #gms\n",
      "mc= 35.46 #gms\n",
      "ms= 107.88 #gms\n",
      "mb= 79.9 #gms\n",
      "mf= 55.85 #gms\n",
      "V= 11.2 #lit\n",
      "e= 8 #v\n",
      "\n",
      "#CALCULATIONS\n",
      "N= I*t*60*60/F\n",
      "Mh= mh*N\n",
      "Mc= mc*N\n",
      "Ms= ms*N\n",
      "Mb= mb*N\n",
      "Mf= mf*N\n",
      "v= N*V\n",
      "E= e*I*60*60\n",
      "\n",
      "#RESULTS\n",
      "print\"quantity of hydrogen produced=\",round(Mh,2),\"gms\";\n",
      "print\"quantity of chlorine produced=\",round(Mc,2),\"gms\";\n",
      "print\"quantity of silver produced=\",round(Ms,2),\"gms\";\n",
      "print\"quantity of bromine produced=\",round(Mb,2),\"gms\";\n",
      "print\"quantity of ferrous ion  produced=\",round(Mf,2),\"gms\";\n",
      "print\"Volume occupied by gases=\",round(v,2),\"lit\";\n",
      "print\"energy expenditure=\",round(E),\"joules\";"
     ],
     "language": "python",
     "metadata": {},
     "outputs": [
      {
       "output_type": "stream",
       "stream": "stdout",
       "text": [
        "quantity of hydrogen produced= 1.88 gms\n",
        "quantity of chlorine produced= 66.14 gms\n",
        "quantity of silver produced= 201.23 gms\n",
        "quantity of bromine produced= 149.04 gms\n",
        "quantity of ferrous ion  produced= 104.18 gms\n",
        "Volume occupied by gases= 20.89 lit\n",
        "energy expenditure= 1440000.0 joules\n"
       ]
      }
     ],
     "prompt_number": 2
    },
    {
     "cell_type": "heading",
     "level": 2,
     "metadata": {},
     "source": [
      "Example 7.3 , Page no:144"
     ]
    },
    {
     "cell_type": "code",
     "collapsed": false,
     "input": [
      "import math\n",
      "from __future__ import division\n",
      "\n",
      "#initialisation of variables\n",
      "i= 20 #amp\n",
      "t= 50 #/min\n",
      "F= 96500 #coloumb\n",
      "we= 8 #gms\n",
      "Mo= 32 #/gms\n",
      "M= 27 #gms\n",
      "n= 3\n",
      "\n",
      "#CALCULATIONS\n",
      "nf= i*t*60/F\n",
      "V= we*22.4/Mo*nf\n",
      "G= M/n\n",
      "q= G*nf\n",
      "\n",
      "#RESULTS\n",
      "print\"volume of oxygen produced=\",round(V,2),\"lit\";\n",
      "print\"quantity of aluminium produced=\",round(q,2),\"grams\";"
     ],
     "language": "python",
     "metadata": {},
     "outputs": [
      {
       "output_type": "stream",
       "stream": "stdout",
       "text": [
        "volume of oxygen produced= 3.48 lit\n",
        "quantity of aluminium produced= 5.6 grams\n"
       ]
      }
     ],
     "prompt_number": 3
    },
    {
     "cell_type": "heading",
     "level": 2,
     "metadata": {},
     "source": [
      "Example 7.4 , Page no:148"
     ]
    },
    {
     "cell_type": "code",
     "collapsed": false,
     "input": [
      "import math\n",
      "from __future__ import division\n",
      "\n",
      "#initialisation of variables\n",
      "L= 0.025 #ohms\n",
      "k= 0.0112 #ohms\n",
      "\n",
      "#CALCULATIONS\n",
      "C= k/L\n",
      "\n",
      "#RESULTS\n",
      "print\"cell constant=\",round(C,3);"
     ],
     "language": "python",
     "metadata": {},
     "outputs": [
      {
       "output_type": "stream",
       "stream": "stdout",
       "text": [
        "cell constant= 0.448\n"
       ]
      }
     ],
     "prompt_number": 4
    },
    {
     "cell_type": "heading",
     "level": 2,
     "metadata": {},
     "source": [
      "Example 7.5 , Page no:150"
     ]
    },
    {
     "cell_type": "code",
     "collapsed": false,
     "input": [
      "import math\n",
      "from __future__ import division\n",
      "\n",
      "#initialisation of variables\n",
      "m= 0.01 #M\n",
      "CB= 235 #mm\n",
      "R= 426.3 #ohms\n",
      "M= 265 \n",
      "C= 0.448\n",
      "\n",
      "#CALCULATIONS\n",
      "k= M*C/(R*CB)\n",
      "A= k*1000/m\n",
      "\n",
      "#RESULTS\n",
      "print\"equivalent conductance=\",round(A,1),\"ohms\";"
     ],
     "language": "python",
     "metadata": {},
     "outputs": [
      {
       "output_type": "stream",
       "stream": "stdout",
       "text": [
        "equivalent conductance= 118.5 ohms\n"
       ]
      }
     ],
     "prompt_number": 5
    }
   ],
   "metadata": {}
  }
 ]
}