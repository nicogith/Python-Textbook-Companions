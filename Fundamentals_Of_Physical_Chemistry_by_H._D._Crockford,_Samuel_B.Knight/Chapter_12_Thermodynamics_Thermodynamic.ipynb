{
 "metadata": {
  "name": "",
  "signature": "sha256:5c0ff330814b3907298c0fa510daf030fbea038d2dab7d11a4ad4dd2b92b7a59"
 },
 "nbformat": 3,
 "nbformat_minor": 0,
 "worksheets": [
  {
   "cells": [
    {
     "cell_type": "heading",
     "level": 1,
     "metadata": {},
     "source": [
      "Chapter 12 Thermodynamics Thermodynamic chemistry"
     ]
    },
    {
     "cell_type": "heading",
     "level": 2,
     "metadata": {},
     "source": [
      "Example 12.1 , Page no:279"
     ]
    },
    {
     "cell_type": "code",
     "collapsed": false,
     "input": [
      "import math\n",
      "from __future__ import division\n",
      "\n",
      "#initialisation of variables\n",
      "H= -771400 #cal\n",
      "n= 7 #moles\n",
      "n1= 7.5 #moles\n",
      "T= 25 #C\n",
      "R= 2 #cal mole per degree\n",
      "\n",
      "#CALCULATIONS\n",
      "E= H-(n-n1)*R*(273+T)\n",
      "\n",
      "#RESULTS\n",
      "print\"difference between the heat of combustion =\",round(E),\"cal\";"
     ],
     "language": "python",
     "metadata": {},
     "outputs": [
      {
       "output_type": "stream",
       "stream": "stdout",
       "text": [
        "difference between the heat of combustion = -771102.0 cal\n"
       ]
      }
     ],
     "prompt_number": 1
    },
    {
     "cell_type": "heading",
     "level": 2,
     "metadata": {},
     "source": [
      "Example 12.2 , Page no:280"
     ]
    },
    {
     "cell_type": "code",
     "collapsed": false,
     "input": [
      "import math\n",
      "from __future__ import division\n",
      "\n",
      "#initialisation of variables\n",
      "H= -94.052 #kcal\n",
      "H1= -68.317 #kcal\n",
      "H2= -780.98 #kcal\n",
      "\n",
      "#CALCULATIONS\n",
      "H3= 6*H+3*H1-H2\n",
      "\n",
      "#RESULTS\n",
      "print\"Heat of formation =\",round(H3,3),\"kcal\";"
     ],
     "language": "python",
     "metadata": {},
     "outputs": [
      {
       "output_type": "stream",
       "stream": "stdout",
       "text": [
        "Heat of formation = 11.717 kcal\n"
       ]
      }
     ],
     "prompt_number": 2
    },
    {
     "cell_type": "heading",
     "level": 2,
     "metadata": {},
     "source": [
      "Example 12.3 , Page no:282"
     ]
    },
    {
     "cell_type": "code",
     "collapsed": false,
     "input": [
      "import math\n",
      "from __future__ import division\n",
      "\n",
      "#initialisation of variables\n",
      "H= -94.052 #kcal\n",
      "H1= -68.32 #kcal\n",
      "H2= 11.718 #kcal\n",
      "\n",
      "#CALCULATIONS\n",
      "H3= 6*H+3*H1-H2\n",
      "\n",
      "#RESULTS\n",
      "print\"heat of combustion of benzene =\",round(H3),\"cal\";"
     ],
     "language": "python",
     "metadata": {},
     "outputs": [
      {
       "output_type": "stream",
       "stream": "stdout",
       "text": [
        "heat of combustion of benzene = -781.0 cal\n"
       ]
      }
     ],
     "prompt_number": 3
    },
    {
     "cell_type": "heading",
     "level": 2,
     "metadata": {},
     "source": [
      "Example 12.4 , Page no:282"
     ]
    },
    {
     "cell_type": "code",
     "collapsed": false,
     "input": [
      "import math\n",
      "from __future__ import division\n",
      "\n",
      "#initialisation of variables\n",
      "H= -66.36 #kcal\n",
      "H1= 12.5 #k cal\n",
      "H2= -68.317 #kcal\n",
      "\n",
      "#CALCULATIONS\n",
      "H3= H-H1-H2\n",
      "\n",
      "#RESULTS\n",
      "print\"heat of reaction=\",round(H3,2),\"cal\";"
     ],
     "language": "python",
     "metadata": {},
     "outputs": [
      {
       "output_type": "stream",
       "stream": "stdout",
       "text": [
        "heat of reaction= -10.54 cal\n"
       ]
      }
     ],
     "prompt_number": 4
    },
    {
     "cell_type": "heading",
     "level": 2,
     "metadata": {},
     "source": [
      "Example 12.5 , Page no:283"
     ]
    },
    {
     "cell_type": "code",
     "collapsed": false,
     "input": [
      "import math\n",
      "from __future__ import division\n",
      "\n",
      "#initialisation of variables\n",
      "T= 90 #C\n",
      "T1= 25 #C\n",
      "Cp= 6.9 #cal per mole per degree\n",
      "CP1= 7.05 #cal per mole per degree\n",
      "Cp2= 18 #cal per mole per degree\n",
      "H= -68.37 #kcal\n",
      "\n",
      "#CALCULATIONS\n",
      "H1= H+(Cp2-Cp-0.5*CP1)*((T-T1)/1000)\n",
      "\n",
      "#RESULTS\n",
      "print\"heat of formation=\",round(H1,2),\"cal\";"
     ],
     "language": "python",
     "metadata": {},
     "outputs": [
      {
       "output_type": "stream",
       "stream": "stdout",
       "text": [
        "heat of formation= -67.88 cal\n"
       ]
      }
     ],
     "prompt_number": 5
    },
    {
     "cell_type": "heading",
     "level": 2,
     "metadata": {},
     "source": [
      "Example 12.6 , Page no:284"
     ]
    },
    {
     "cell_type": "code",
     "collapsed": false,
     "input": [
      "import math\n",
      "from __future__ import division\n",
      "\n",
      "#initialisation of variables\n",
      "Cp= 2.7 #cal per mole per degree\n",
      "CP1= 6.9 #cal per mole per degree\n",
      "Cp2= 15.4 #cal per mole per degree\n",
      "H= -20.24 #kcal\n",
      "T= 200 #C\n",
      "T1= 25 #C\n",
      "\n",
      "#CALCULATIONS\n",
      "H1= H+(Cp2-2*Cp-3*CP1)*((T-T1)/1000)\n",
      "\n",
      "#RESULTS\n",
      "print\"heat of formation=\",round(H1,2),\"cal\";"
     ],
     "language": "python",
     "metadata": {},
     "outputs": [
      {
       "output_type": "stream",
       "stream": "stdout",
       "text": [
        "heat of formation= -22.11 cal\n"
       ]
      }
     ],
     "prompt_number": 6
    }
   ],
   "metadata": {}
  }
 ]
}