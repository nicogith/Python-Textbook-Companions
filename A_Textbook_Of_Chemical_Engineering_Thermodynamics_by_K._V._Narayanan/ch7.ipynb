{
 "metadata": {
  "name": "",
  "signature": "sha256:a4d472eaa4dbf60f111758e6e0fce7c88354811184ce66088736c4ac7a13ff8b"
 },
 "nbformat": 3,
 "nbformat_minor": 0,
 "worksheets": [
  {
   "cells": [
    {
     "cell_type": "heading",
     "level": 1,
     "metadata": {},
     "source": [
      "Chapter 7 : Properties of Solutions"
     ]
    },
    {
     "cell_type": "heading",
     "level": 3,
     "metadata": {},
     "source": [
      "Example 7.2"
     ]
    },
    {
     "cell_type": "code",
     "collapsed": false,
     "input": [
      "\n",
      "# Variables\n",
      "V = 0.1; \t\t\t#volume of mixture required (m**3)\n",
      "Ve = 0.03; \t\t\t#volume of alcohol\n",
      "Vw = 0.07; \t\t\t#volume of water\n",
      "de = 789.; \t\t\t#density of ethanol (kg/m**3)\n",
      "dw = 997.; \t\t\t#density of water (kg/m**3)\n",
      "pe = 53.6*10**-6; \t\t\t#partial molar volume of ethanol (m**3/mol)\n",
      "pw = 18.*10**-6; \t\t\t#partial molar volume of water (m**3/mol)\n",
      "Me = 46.; \t\t\t#molecular wt of ethanol\n",
      "Mw = 18.; \t\t\t#molecular wt of water\n",
      "\n",
      "# Calculations\n",
      "#To find the volume of mixture\n",
      "ne = (Ve*de*10**3)/Me; \t\t\t#number of moles of ethanol\n",
      "nw = (Vw*dw*10**3)/Mw; \t\t\t#number of moles of water\n",
      "xe = ne/(ne+nw) \t\t\t#mole fraction of ethanol\n",
      "xw = 1-ne; \t\t\t#mole fraction of water\n",
      "act_V = (ne*pe)+(nw*pw)\n",
      "\n",
      "# Results\n",
      "if (V==act_V) :\n",
      "    print 'It is possible to prepare the required solution'\n",
      "else:\n",
      "    Ve_act = (Ve/act_V)*V;\n",
      "    Vw_act = (Vw/act_V)*V;\n",
      "    print ' For the given volumes of ethanol and water, it is not possible to prepare 0.1 cubic m of mixture'\n",
      "    print ' Required volume of ethanol is %f cubic m'%Ve_act\n",
      "    print ' Required volume of water is %f cubic m'%Vw_act\n",
      "\n",
      "\n"
     ],
     "language": "python",
     "metadata": {},
     "outputs": [
      {
       "output_type": "stream",
       "stream": "stdout",
       "text": [
        " For the given volumes of ethanol and water, it is not possible to prepare 0.1 cubic m of mixture\n",
        " Required volume of ethanol is 0.030810 cubic m\n",
        " Required volume of water is 0.071890 cubic m\n"
       ]
      }
     ],
     "prompt_number": 16
    },
    {
     "cell_type": "heading",
     "level": 3,
     "metadata": {},
     "source": [
      "Example 7.3"
     ]
    },
    {
     "cell_type": "code",
     "collapsed": false,
     "input": [
      "\n",
      "# Variables\n",
      "V = 2.; \t\t\t#volume of desired solution (m**3)\n",
      "x1 = 0.3; \t\t\t#moles fraction of methanol\n",
      "x2 = 0.7; \t\t\t#moles fraction of water\n",
      "V1 = 38.632*10**-6; \t\t\t#partial molar volume of methanol (m**3/mol)\n",
      "V2 = 17.765*10**-6; \t\t\t#partial molar volume of water (m**3/mol)\n",
      "mol_V1 = 40.727*10**-6; \t\t#molar volume of ethanol (m**3/mol)\n",
      "mol_V2 = 18.068*10**-6; \t\t#molar volume of water (m**3/mol)\n",
      "\n",
      "# Calculations\n",
      "#To find the required volume of methanol and water\n",
      "V_mol = (x1*V1)+(x2*V2); \t\t\t#molar volume of desired solution\n",
      "n = V/V_mol; \t\t\t            #no. of moles in the desired solution\n",
      "n1 = x1*n; \t\t\t#moles of methanol\n",
      "n2 = x2*n; \t\t\t#moles of water\n",
      "V_m = n1*mol_V1;\n",
      "V_w = n2*mol_V2;\n",
      "\n",
      "# Results\n",
      "print 'Volume of methanol to be taken is %f cubic m'%V_m\n",
      "print ' Volume of water to be taken is %f cubic m'%V_w\n",
      "\n",
      "\n"
     ],
     "language": "python",
     "metadata": {},
     "outputs": [
      {
       "output_type": "stream",
       "stream": "stdout",
       "text": [
        "Volume of methanol to be taken is 1.017111 cubic m\n",
        " Volume of water to be taken is 1.052866 cubic m\n"
       ]
      }
     ],
     "prompt_number": 17
    },
    {
     "cell_type": "heading",
     "level": 3,
     "metadata": {},
     "source": [
      "Example 7.4"
     ]
    },
    {
     "cell_type": "code",
     "collapsed": false,
     "input": [
      "\n",
      "# Variables\n",
      "V1_w = 0.816*10**-3; \t\t\t#partial molar volume of water in 96% alcohol solution\n",
      "V1_e = 1.273*10**-3; \t\t\t#partial molar volume of ethanol in 96% alcohol solution\n",
      "V2_w = 0.953*10**-3; \t\t\t#partial molar volume of water in 56% alcohol solution\n",
      "V2_e = 1.243*10**-3; \t\t\t#partial molar volume of ethanol in 56% alcohol solution\n",
      "d = 0.997*10**3; \t\t\t    #density of water (kg/m**3)\n",
      "\n",
      "\n",
      "# Calculations\n",
      "#To calculate the volume of water to be added and volume of dilute alcohol solution\n",
      "#Basis: \n",
      "V = 2*10**-3; \t\t\t                    #volume of alcohol solution (m**3)\n",
      "V_sp = (0.96*V1_e)+(0.04*V1_w); \t\t\t#volume of 1 kg of laboratory alcohol\n",
      "m_e = V/V_sp; \t\t\t                    #mass of 2*10**-3 m**3 alcohol \n",
      "\n",
      "#(a).\n",
      "#Let mass of water added be m kg\n",
      "#Taking an alcohol balance\n",
      "m = (m_e*0.96)/0.56 - m_e;\n",
      "v = m/d;\n",
      "\n",
      "# Results\n",
      "print ' (a).'\n",
      "print ' Mass of water added is %f kg'%m\n",
      "print ' Volume of water added is %4.3e cubic m'%v\n",
      "\n",
      "#(b)\n",
      "m_sol = m_e + m; \t\t\t                #mass of alcohol solution obtained\n",
      "sp_vol = (0.56*V2_e)+(0.44*V2_w); \t\t\t#specific volume of 56% alcohol\n",
      "V_dil = sp_vol*m_sol; \t\t\t            #volume of dilute alcohol solution\n",
      "print ' (b)'\n",
      "print ' Volume of dilute alcohol solution is %5.4e cubic m'%V_dil\n",
      "\n",
      "\n"
     ],
     "language": "python",
     "metadata": {},
     "outputs": [
      {
       "output_type": "stream",
       "stream": "stdout",
       "text": [
        " (a).\n",
        " Mass of water added is 1.138558 kg\n",
        " Volume of water added is 1.142e-03 cubic m\n",
        " (b)\n",
        " Volume of dilute alcohol solution is 3.0479e-03 cubic m\n"
       ]
      }
     ],
     "prompt_number": 18
    },
    {
     "cell_type": "heading",
     "level": 3,
     "metadata": {},
     "source": [
      "Example 7.6"
     ]
    },
    {
     "cell_type": "code",
     "collapsed": false,
     "input": [
      "\n",
      "# Variables\n",
      "x1= .3\n",
      "x2 = .7\n",
      "\n",
      "# Calculations and Results\n",
      "H = 400.*x1 + 600*x2 + x1*x2*(40*x1+20*x2)\n",
      "H1 = 420.-60+40;\n",
      "#Using eq. 7.28 (Page no. 264)\n",
      "#H = H2_bar as x2 = 1\n",
      "H2 = 600.;\n",
      "print ' (b).'\n",
      "print ' Pure state enthalpies are:'\n",
      "print ' H1 = %i J/mol'%H1\n",
      "print ' H2 = %i J/mol'%H2\n",
      "\n",
      "\t\t\t#(c).\n",
      "\t\t\t#H1_inf = H1_bar as x1 = 0, so from eq. 7.27\n",
      "H1_inf = 420.;\n",
      "\t\t\t#H2_inf = H2_bar as x2 = 0. so from eq 7.28\n",
      "H2_inf = 640.;\n",
      "print ' (c).'\n",
      "print ' At infinite dilution:'\n",
      "print ' H1 = %i J/mol'%H1_inf\n",
      "print ' H2 = %i J/mol'%H2_inf\n",
      "\n",
      "\n"
     ],
     "language": "python",
     "metadata": {},
     "outputs": [
      {
       "output_type": "stream",
       "stream": "stdout",
       "text": [
        " (b).\n",
        " Pure state enthalpies are:\n",
        " H1 = 400 J/mol\n",
        " H2 = 600 J/mol\n",
        " (c).\n",
        " At infinite dilution:\n",
        " H1 = 420 J/mol\n",
        " H2 = 640 J/mol\n"
       ]
      }
     ],
     "prompt_number": 19
    },
    {
     "cell_type": "heading",
     "level": 3,
     "metadata": {},
     "source": [
      "Example 7.7"
     ]
    },
    {
     "cell_type": "code",
     "collapsed": false,
     "input": [
      "\n",
      "def V(m):\n",
      "    y = 1.003*10**-3 + 0.1662*10**-4*m + 0.177*10**-5*m**1.5 + 0.12*10**-6*m**2\n",
      "    return y\n",
      "\n",
      "# Variables\n",
      "m = 0.1; \t\t\t#molality of solution (mol/kg)\n",
      "\n",
      "# Calculations\n",
      "#To calculate the partial molar volume of the components\n",
      "#Differentiating Eq. 7.29 with reference to m, we get\n",
      "V1_bar = 0.1662*10**-4 + 0.177*1.5*10**-5*m**0.5 + 0.12*2*10**-6*m;\n",
      "V_sol = V(m) \t\t\t#volume of aqueous soluttion\n",
      "n1 = m;\n",
      "n2 = 1000./18;\n",
      "V2_bar = (V_sol - n1*V1_bar)/n2;\n",
      "\n",
      "# Results\n",
      "print 'Partial molar volume of water = %4.3e cubic m/mol'%V2_bar\n",
      "print ' Partial molar volume of NaCl = %4.3e cubic m/mol'%V1_bar\n",
      "\n",
      "\n"
     ],
     "language": "python",
     "metadata": {},
     "outputs": [
      {
       "output_type": "stream",
       "stream": "stdout",
       "text": [
        "Partial molar volume of water = 1.805e-05 cubic m/mol\n",
        " Partial molar volume of NaCl = 1.748e-05 cubic m/mol\n"
       ]
      }
     ],
     "prompt_number": 20
    },
    {
     "cell_type": "heading",
     "level": 3,
     "metadata": {},
     "source": [
      "Example 7.10"
     ]
    },
    {
     "cell_type": "code",
     "collapsed": false,
     "input": [
      "\n",
      "# Variables\n",
      "K = 4.4*10**4; \t\t\t#Henry's law constant (bar)\n",
      "pp = 0.25; \t\t\t    #partial pressure of oxygen in bar\n",
      "M_O2 = 32.; \t\t\t#molecular wt of oxygen\n",
      "M_water = 18.; \t\t\t#molecular wt of water\n",
      "\n",
      "# Calculations and Results\n",
      "#To estimate the solubility of oxygen in water at 298 K\n",
      "#Using eq. 7.72 (Page no. 275)\n",
      "x_O2 = pp/K; \t\t\t#mole fraction of O2\n",
      "print 'Solubility of oxygen is %5.4e moles per mole of water'%x_O2\n",
      "\n",
      "#In mass units\n",
      "sol_O2 = (x_O2*M_O2)/M_water;\n",
      "print ' Solubility of oxygen in mass units is %4.3e kg oxygen per kg water'%sol_O2\n",
      "\n",
      "\n"
     ],
     "language": "python",
     "metadata": {},
     "outputs": [
      {
       "output_type": "stream",
       "stream": "stdout",
       "text": [
        "Solubility of oxygen is 5.6818e-06 moles per mole of water\n",
        " Solubility of oxygen in mass units is 1.010e-05 kg oxygen per kg water\n"
       ]
      }
     ],
     "prompt_number": 21
    },
    {
     "cell_type": "heading",
     "level": 3,
     "metadata": {},
     "source": [
      "Example 7.11"
     ]
    },
    {
     "cell_type": "code",
     "collapsed": false,
     "input": [
      "\n",
      "%matplotlib inline\t\t\t\n",
      "    \n",
      "from numpy import *\n",
      "from matplotlib.pyplot import *\n",
      "import numpy\n",
      "\n",
      "# Variables\n",
      "xb = array([0, 0.2, 0.4, 0.6, 0.8, 1.0])\n",
      "pa_bar = [0.457 ,0.355, 0.243, 0.134, 0.049, 0];\n",
      "pb_bar = [0,0.046, 0.108, 0.187, 0.288, 0.386];\n",
      "\n",
      "\n",
      "#To confirm mixture conforms to Raoult's Law and to determine Henry's law constant\n",
      "xa = 1 - xb\n",
      "plot(xa,pa_bar)\n",
      "plot(xa,pb_bar)\n",
      "\n",
      "# Calculations and Results\n",
      "#For Henry's law plotting\n",
      "x = [0,0.2, 0.4 ,0.6 ,0.8 ,1.0];\n",
      "#Form the partial presures plot of component A and B\n",
      "yh1 = [0,0,0,0,0,0]\n",
      "yh1[0] = 0; \n",
      "yh1[1] = 0.049; \t\t\t#For component A\n",
      "for i in range(2,6):\n",
      "    yh1[i] = yh1[i-1]+(x[i]-x[i-1])*((yh1[1]-yh1[0])/(x[1]-x[0]))\n",
      "\n",
      "yh_2 = [0,0,0,0,0,0]\n",
      "yh_2[5] = 0; \n",
      "yh_2[4] = 0.046; \t\t\t#For component B\n",
      "i = 3;\n",
      "while (i>=0):\n",
      "    yh_2[i] = yh_2[i+1] + (x[i]-x[i+1])*((yh_2[5]-yh_2[4])/(x[5]-x[4]))\n",
      "    i = i-1;\n",
      "\n",
      "plot(x,yh1)\n",
      "plot(x,yh_2)\n",
      "\t\t\t#legend(\"Partial pressure \",\" \",\"Raoults law\",\" \",\"Henrys Law\"\n",
      "show()\n",
      "#(a)\n",
      "print 'From the graph it can be inferred that, in the region where Raoults law is obeyed by A, the Henrys law is obeyed by B, and vice versa'\n",
      "\n",
      "#(b)\n",
      "#Slope of Henry's law\n",
      "print ' For component A, Ka = %f bar'%yh1[5]\n",
      "print ' For component B, Kb = %f bar'%yh_2[0]\n"
     ],
     "language": "python",
     "metadata": {},
     "outputs": [
      {
       "output_type": "stream",
       "stream": "stdout",
       "text": [
        "Populating the interactive namespace from numpy and matplotlib\n"
       ]
      },
      {
       "metadata": {},
       "output_type": "display_data",
       "png": "[encoded data removed]",
       "text": [
        "<matplotlib.figure.Figure at 0x2769cd0>"
       ]
      },
      {
       "output_type": "stream",
       "stream": "stdout",
       "text": [
        "From the graph it can be inferred that, in the region where Raoults law is obeyed by A, the Henrys law is obeyed by B, and vice versa\n",
        " For component A, Ka = 0.245000 bar\n",
        " For component B, Kb = 0.230000 bar\n"
       ]
      }
     ],
     "prompt_number": 1
    },
    {
     "cell_type": "heading",
     "level": 3,
     "metadata": {},
     "source": [
      "Example 7.12"
     ]
    },
    {
     "cell_type": "code",
     "collapsed": false,
     "input": [
      "\n",
      "from numpy import array\n",
      "\n",
      "\n",
      "# Variables\n",
      "xa = array([0, 0.2, 0.4, 0.6, 0.8, 1.0]);\n",
      "Pa_bar = [0 ,0.049, 0.134, 0.243, 0.355, 0.457];\n",
      "Pb_bar = [0.386 ,0.288, 0.187, 0.108, 0.046, 0];\n",
      "\n",
      "# Calculations and Results\n",
      "#To calculate activity and activity coeffecient of chloroform\n",
      "xb = 1-xa;\n",
      "Pbo = 0.386; \t\t\t#vapour pressure of pure chloroform\n",
      "#(a). Based on standard state as per Lewis-Randall rule\n",
      "\n",
      "print 'Based on Lewis Randall Rule'\n",
      "print '   Activity          Activity coeffecient'\n",
      "a = [0,0,0,0,0,0]\n",
      "ac = [0,0,0,0,0,0]\n",
      "for i in range(6):\n",
      "    a[i] = Pb_bar[i]/Pbo;\n",
      "    print '    %f'%a[i],\n",
      "    if(xb[i]==0):\n",
      "        print '         Not defined',\n",
      "    else:\n",
      "        ac[i] = a[i]/xb[i];\n",
      "        print '          %f'%ac[i]\n",
      "\n",
      "#(b). Based on Henry's Law \n",
      "Kb = 0.217; \t\t\t#bar (From Example 7.11 Page no. 276)\n",
      "\n",
      "print '\\n\\n Based on Henrys Law'\n",
      "print '   Activity         Activity coeffecient'\n",
      "for i in range(6):\n",
      "    a[i] = Pb_bar[i]/Kb;\n",
      "    print '    %f'%a[i],\n",
      "    if(xb[i]==0):\n",
      "        print '         Not defined',\n",
      "    else:\n",
      "        ac[i] = a[i]/xb[i];\n",
      "        print '           %f'%ac[i]\n",
      "\n",
      "\n"
     ],
     "language": "python",
     "metadata": {},
     "outputs": [
      {
       "output_type": "stream",
       "stream": "stdout",
       "text": [
        "Based on Lewis Randall Rule\n",
        "   Activity          Activity coeffecient\n",
        "    1.000000           1.000000\n",
        "    0.746114           0.932642\n",
        "    0.484456           0.807427\n",
        "    0.279793           0.699482\n",
        "    0.119171           0.595855\n",
        "    0.000000          Not defined \n",
        "\n",
        " Based on Henrys Law\n",
        "   Activity         Activity coeffecient\n",
        "    1.778802            1.778802\n",
        "    1.327189            1.658986\n",
        "    0.861751            1.436252\n",
        "    0.497696            1.244240\n",
        "    0.211982            1.059908\n",
        "    0.000000          Not defined\n"
       ]
      }
     ],
     "prompt_number": 23
    },
    {
     "cell_type": "heading",
     "level": 3,
     "metadata": {},
     "source": [
      "Example 7.13"
     ]
    },
    {
     "cell_type": "code",
     "collapsed": false,
     "input": [
      "\n",
      "# Variables\n",
      "P = 20.; \t\t\t#pressure in bar\n",
      "\n",
      "# Calculations and Results\n",
      "def f1(x1):\n",
      "    y = (50*x1)-(80*x1**2)+(40*x1**3)\n",
      "    return y\n",
      "\n",
      "#To determine fugacity fugacity coeffecient Henry's Law constant and activity coeffecient\n",
      "\n",
      "#(a)\n",
      "#Fugacity of component in solution becomes fugacity of pure component when mole fraction approaches 1 i.e. \n",
      "x1 = 1.;\n",
      "f1_pure = f1(x1);\n",
      "print '(a). Fugacity f1 of pure component 1 is %i bar'%f1_pure\n",
      "\n",
      "#(b)\n",
      "phi = f1_pure/P;\n",
      "print ' (b). Fugacity coeffecient is %f'%phi\n",
      "\n",
      "#(c)\n",
      "#Henry's Law constant is lim (f1/x1)and x1 tends to 0 \n",
      "x1 = 0;\n",
      "K1 = 50 - (80*x1) + (40*x1**2);\n",
      "print ' (c). Henrys Law constant is %i bar'%K1\n",
      "\n",
      "#(d)\n",
      "print ' (d). This subpart is theoretical and does not involve any numerical computation'\n",
      "\n",
      "\n"
     ],
     "language": "python",
     "metadata": {},
     "outputs": [
      {
       "output_type": "stream",
       "stream": "stdout",
       "text": [
        "(a). Fugacity f1 of pure component 1 is 10 bar\n",
        " (b). Fugacity coeffecient is 0.500000\n",
        " (c). Henrys Law constant is 50 bar\n",
        " (d). This subpart is theoretical and does not involve any numerical computation\n"
       ]
      }
     ],
     "prompt_number": 24
    },
    {
     "cell_type": "heading",
     "level": 3,
     "metadata": {},
     "source": [
      "Example 7.17"
     ]
    },
    {
     "cell_type": "code",
     "collapsed": false,
     "input": [
      "\n",
      "# Variables\n",
      "H1_pure = 400.; \t\t\t#enthalpy of pure liquid 1 at 298 K and 1 bar (J/mol)\n",
      "H2_pure = 600.; \t\t\t#enthalpy of pure liquid 2 (J/mol)\n",
      "x1 = 0.;\n",
      "\n",
      "# Calculations\n",
      "delH1_inf = 20*((1-x1)**2)*(2*x1+1);\n",
      "H1_inf = H1_pure + delH1_inf; \t\t\t#(J/mol)\n",
      "\n",
      "#For infinite dilution of 2, x1 = 1 and delH2_inf = H2_bar\n",
      "x1 = 1.;\n",
      "delH2_inf = 40.*x1**3;\n",
      "H2_inf = delH2_inf + H2_pure; \t\t\t#(J/mol)\n",
      "\n",
      "# Results\n",
      "print 'Enthalpy at infinite dilution for component 1 is %i J/mol'%H1_inf\n",
      "print ' Enthalpy at infinite dilution for component 2 is %i J/mol'%H2_inf\n",
      "\n",
      " \n"
     ],
     "language": "python",
     "metadata": {},
     "outputs": [
      {
       "output_type": "stream",
       "stream": "stdout",
       "text": [
        "Enthalpy at infinite dilution for component 1 is 420 J/mol\n",
        " Enthalpy at infinite dilution for component 2 is 640 J/mol\n"
       ]
      }
     ],
     "prompt_number": 25
    },
    {
     "cell_type": "heading",
     "level": 3,
     "metadata": {},
     "source": [
      "Example 7.19 "
     ]
    },
    {
     "cell_type": "code",
     "collapsed": false,
     "input": [
      "\n",
      "\n",
      "# Variables\n",
      "R = 8.314; \t\t\t#ideal gas constant\n",
      "n1 = 100.; \t\t\t#moles of nitrogen\n",
      "n2 = 100.; \t\t\t#moles of oxygen\n",
      "\n",
      "# Calculations\n",
      "#To determine the change in entropy of the contents of the vessel\n",
      "x1 = n1/(n1+n2);\n",
      "x2 = n2/(n1+n2);\n",
      "import math\n",
      "\n",
      "#Using eq. 7.122 (Page no. 292)\n",
      "S = -R*(x1*math.log (x1) + x2*math.log (x2));\n",
      "S_tot = S*(n1+n2);\n",
      "\n",
      "# Results\n",
      "print 'Change in entropy of components are %f J/K'%S_tot\n",
      "\n",
      "\n"
     ],
     "language": "python",
     "metadata": {},
     "outputs": [
      {
       "output_type": "stream",
       "stream": "stdout",
       "text": [
        "Change in entropy of components are 1152.565132 J/K\n"
       ]
      }
     ],
     "prompt_number": 26
    },
    {
     "cell_type": "heading",
     "level": 3,
     "metadata": {},
     "source": [
      "Example 7.20"
     ]
    },
    {
     "cell_type": "code",
     "collapsed": false,
     "input": [
      "\n",
      "# Variables\n",
      "Hf = -408.610; \t\t\t#heat of formation (kJ)\n",
      "#For reaction 2\n",
      "#LiCl + 12H2O --> LiCl(12H2O)\n",
      "H_sol = -33.614; \t\t\t#heat of solution (kJ)\n",
      "\n",
      "#To determine heat of formation of LiCl in 12 moles of water\n",
      "#Adding reaction 1 and 2% we get\n",
      "\n",
      "# Calculations\n",
      "#Li + 1/2Cl2 + 12H2O --> LiCl(12H2O)\n",
      "H_form = Hf+H_sol;\n",
      "\n",
      "# Results\n",
      "print 'Heat of formation of LiCl in 12 moles of water is %f kJ'%H_form\n",
      "\n",
      "\n",
      "\n"
     ],
     "language": "python",
     "metadata": {},
     "outputs": [
      {
       "output_type": "stream",
       "stream": "stdout",
       "text": [
        "Heat of formation of LiCl in 12 moles of water is -442.224000 kJ\n"
       ]
      }
     ],
     "prompt_number": 27
    },
    {
     "cell_type": "heading",
     "level": 3,
     "metadata": {},
     "source": [
      "Example 7.21"
     ]
    },
    {
     "cell_type": "code",
     "collapsed": false,
     "input": [
      "\n",
      "# Variables\n",
      "R = 8.314; \t\t\t#ideal gas constant\n",
      "n1 = 3.; \t\t\t#moles of hydrogen\n",
      "n2 = 1.; \t\t\t#moles of nitrogen\n",
      "T = 298.; \t\t\t#temperature in K\n",
      "P1 = 1.; \t\t\t#pressure of hydrogen in bar\n",
      "P2 = 3.; \t\t\t#pressure of nitrogen in bar\n",
      "import math\n",
      "\n",
      "# Calculations\n",
      "#To calculate the free energy of mixing\n",
      "V1 = (n1*R*T)/(P1*10**5); \t\t\t#volume occupied by hydrogen\n",
      "V2 = (n2*R*T)/(P2*10**5); \t\t\t#volume occupied by nitrogen\n",
      "V = V1+V2; \t\t\t#total volume occupied\n",
      "P = ((n1+n2)*R*T)/(V*10**5); \t\t\t#final pressure attained by mixture (bar)\n",
      "G1 = R*T*(n1*math.log(P/P1) + n2*math.log(P/P2));\n",
      "\n",
      "#For step 2, using eq. 7.121 (Page no. 292)\n",
      "x1 = n1/(n1+n2);\n",
      "x2 = n2/(n1+n2);\n",
      "G2 = (n1+n2)*R*T*(x1*math.log (x1) + x2*math.log (x2));\n",
      "G = G1+G2; \t\t\t#free energy in J\n",
      "\n",
      "# Results\n",
      "print 'The free energy of mixing when partition is removed is %f kJ'%(G/1000)\n",
      "\n",
      "\n"
     ],
     "language": "python",
     "metadata": {},
     "outputs": [
      {
       "output_type": "stream",
       "stream": "stdout",
       "text": [
        "The free energy of mixing when partition is removed is -6.487935 kJ\n"
       ]
      }
     ],
     "prompt_number": 28
    },
    {
     "cell_type": "heading",
     "level": 3,
     "metadata": {},
     "source": [
      "Example 7.22"
     ]
    },
    {
     "cell_type": "code",
     "collapsed": false,
     "input": [
      "\n",
      "# Variables\n",
      "C_water = 4.18*10**3; \t\t\t#heat capacity of water (J/kg K)\n",
      "C_ethanol = 2.58*10**3; \t\t#heat capacity of ethanol (J/kg K)\n",
      "G1 = -758.; \t\t\t#heat of mixing 20 mol percent ethanol water at 298 K(J/mol)\n",
      "G2 = -415.; \t\t\t#heat of mixing 20 mol percent ethanol water at 323 K (J/mol)\n",
      "n_wat = 0.8; \t\t\t#moles of water\n",
      "n_eth = 0.2; \t\t\t#moles of ethanol\n",
      "T1 = 323.; \t\t\t#initial temperature in K\n",
      "T2 = 298.; \t\t\t#final temperature in K\n",
      "\n",
      "# Calculations\n",
      "#Step 1: Water is cooled from 323 K t0 298 K\n",
      "H1 = n_wat*18*C_water*(T2-T1)/1000; \t\t\t#(J)\n",
      "\n",
      "#Step 2: Ethanol is cooled from 323 to 298 K\n",
      "H2 = n_eth*46*C_ethanol*(T2-T1)/1000; \t\t\t#(J)\n",
      "\n",
      "#Step 3: 0.8 mol water and 0.2 mol ethanol are mixed at 298 K\n",
      "H3 = G1; \t\t\t#(J)\n",
      "\n",
      "#Step 4: \n",
      "H = G2;\n",
      "Cpm = (H-H1-H2-H3)/(T1-T2);\n",
      "\n",
      "# Results\n",
      "print 'Mean heat capacity of solution is %f J/mol K'%Cpm\n",
      "\n",
      "\n"
     ],
     "language": "python",
     "metadata": {},
     "outputs": [
      {
       "output_type": "stream",
       "stream": "stdout",
       "text": [
        "Mean heat capacity of solution is 97.648000 J/mol K\n"
       ]
      }
     ],
     "prompt_number": 29
    },
    {
     "cell_type": "heading",
     "level": 3,
     "metadata": {},
     "source": [
      "Example 7.23"
     ]
    },
    {
     "cell_type": "code",
     "collapsed": false,
     "input": [
      "\n",
      "# Variables\n",
      "To = 298.; \t\t\t#initial temperature (K)\n",
      "Cpm = 97.65; \t\t\t#Mean heat capacity of solution (J/mol K)\n",
      "Hs = -758.; \t\t\t#heat of mixing (J/mol)\n",
      "H = 0.;\n",
      "\n",
      "# Calculations\n",
      "T = (H-Hs)/Cpm + To;\n",
      "\n",
      "# Results\n",
      "print 'The final temperature attained by the mixing is %f K'%T\n",
      "\n",
      "\n"
     ],
     "language": "python",
     "metadata": {},
     "outputs": [
      {
       "output_type": "stream",
       "stream": "stdout",
       "text": [
        "The final temperature attained by the mixing is 305.762417 K\n"
       ]
      }
     ],
     "prompt_number": 30
    }
   ],
   "metadata": {}
  }
 ]
}