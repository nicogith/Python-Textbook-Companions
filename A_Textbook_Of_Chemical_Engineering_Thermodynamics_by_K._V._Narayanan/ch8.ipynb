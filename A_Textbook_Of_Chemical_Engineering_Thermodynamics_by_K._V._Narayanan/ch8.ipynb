{
 "metadata": {
  "name": "",
  "signature": "sha256:2a584685665e22931eee90916ad677c233c22b41ab4fa1c2aff95245e3dea9a5"
 },
 "nbformat": 3,
 "nbformat_minor": 0,
 "worksheets": [
  {
   "cells": [
    {
     "cell_type": "heading",
     "level": 1,
     "metadata": {},
     "source": [
      "Chapter 8 : Phase equilibria"
     ]
    },
    {
     "cell_type": "heading",
     "level": 3,
     "metadata": {},
     "source": [
      "Example 8.6"
     ]
    },
    {
     "cell_type": "code",
     "collapsed": false,
     "input": [
      "\n",
      "# Variables\n",
      "P1 = 106.; \t\t\t#vapour pressure of n-heptane (kPa)\n",
      "P2 = 74.; \t\t\t#vapour pressure of toluene (kPa)\n",
      "P = 101.3; \t\t\t#total pressure (kPa)\n",
      "\n",
      "# Calculations\n",
      "x = (P-P2)/(P1-P2)\n",
      "y = x*(P1/P)\n",
      "\n",
      "# Results\n",
      "print 'Composition of liquid heptane is %f mol percent'%(x*100)\n",
      "print ' Composition of heptane in vapour form is %f mol percent'%(y*100)\n",
      "\n",
      "\n"
     ],
     "language": "python",
     "metadata": {},
     "outputs": [
      {
       "output_type": "stream",
       "stream": "stdout",
       "text": [
        "Composition of liquid heptane is 85.312500 mol percent\n",
        " Composition of heptane in vapour form is 89.270731 mol percent\n"
       ]
      }
     ],
     "prompt_number": 30
    },
    {
     "cell_type": "heading",
     "level": 3,
     "metadata": {},
     "source": [
      "Example 8.7"
     ]
    },
    {
     "cell_type": "code",
     "collapsed": false,
     "input": [
      "\n",
      "# Variables\n",
      "P1 = 135.4; \t\t\t#vapour pressure of benzene (kPa)\n",
      "P2 = 54.; \t\t\t#vapour pressure of toluene (kPa)\n",
      "x =  0.5; \t\t\t#liquid phase composition\n",
      "\n",
      "# Calculations\n",
      "#Using eq. 8.51 (Page no. 332)\n",
      "P_beg = P2 + (P1-P2)*x;\n",
      "\n",
      "#At the end\n",
      "y = 0.5; \t\t\t#vapour phase composition\n",
      "#Using eq. 8.54 (Page no. 333) and rearranging\n",
      "P_end = (P1*P2)/(P1-y*(P1-P2))\n",
      "\n",
      "# Results\n",
      "print 'Pressure at the beginning of the process is %f kPa'%(P_beg)\n",
      "print ' Pressure at the end of the process is %f kPa'%(P_end)\n"
     ],
     "language": "python",
     "metadata": {},
     "outputs": [
      {
       "output_type": "stream",
       "stream": "stdout",
       "text": [
        "Pressure at the beginning of the process is 94.700000 kPa\n",
        " Pressure at the end of the process is 77.208025 kPa\n"
       ]
      }
     ],
     "prompt_number": 31
    },
    {
     "cell_type": "heading",
     "level": 3,
     "metadata": {},
     "source": [
      "Example 8.8"
     ]
    },
    {
     "cell_type": "code",
     "collapsed": false,
     "input": [
      "\n",
      "import math\n",
      "def P1(T):\n",
      "    y1 = math.e**(14.5463 - 2940.46/(T-35.93))  \t\t\t#vapour pressure of acetone\n",
      "    return y1\n",
      "\n",
      "def P2(T):\n",
      "    y2 = math.e**(14.2724 - 2945.47/(T-49.15))  \t\t\t#vapour pressure of acetonitrile\n",
      "    return y2\n",
      "\n",
      "# Variables\n",
      "T = 327.; \t\t\t#temperature in K\n",
      "P = 65.; \t\t\t#pressure in kPa\n",
      "\n",
      "# Calculations and Results\n",
      "P1_s = P1(T)\n",
      "P2_s = P2(T)\n",
      "\t\t\t#Using eq. 8.51 (Page no. 332)\n",
      "x1 = (P-P2_s)/(P1_s-P2_s)\n",
      "\t\t\t#Using eq. 8.54 (Page no. 333)\n",
      "y1 = x1*(P1_s/P)\n",
      "print '(a)'\n",
      "print ' x1 = %f'%x1\n",
      "print ' y1 = %f'%y1\n",
      "\n",
      "\t\t\t#(b). To calculate T and y1\n",
      "P = 65.; \t\t\t#pressure in kPa\n",
      "x1 = 0.4;\n",
      "\n",
      "flag = 1.;\n",
      "T2 = 340.; \t\t\t#temperatue (assumed)\n",
      "while(flag==1):\n",
      "    P1_s = P1(T2)\n",
      "    P2_s = P2(T2)\n",
      "    P_calc = P2_s + x1*(P1_s-P2_s)\n",
      "    if((P_calc-P)<=1):\n",
      "        flag = 0;\n",
      "    else:\n",
      "        T2 = T2-0.8;\n",
      "\n",
      "y1 = x1*(P1_s/P)\n",
      "print ' (b)'\n",
      "print ' Temperature is %f K'%T2\n",
      "print ' y1 = %f'%y1\n",
      "\n",
      "\t\t\t#(c). To calculate P and y1\n",
      "T3 = 327.; \t\t\t#temperature in K\n",
      "x1 = 0.4;\n",
      "\n",
      "P1_s = P1(T3)\n",
      "P2_s = P2(T3)\n",
      "P = P2_s + x1*(P1_s-P2_s)\n",
      "y1 = x1*(P1_s/P)\n",
      "print ' (c)'\n",
      "print ' Pressure is %f kPa'%P\n",
      "print ' y1 = %f'%y1\n",
      "\n",
      "\t\t\t#(d). To calculate T and x1\n",
      "P = 65.; \t\t\t#pressure in kPa\n",
      "y1 = 0.4;\n",
      "\n",
      "flag = 1.;\n",
      "T = 340.; \t\t\t#assumed temperature (K)\n",
      "while(flag==1):\n",
      "    P1_s = P1(T)\n",
      "    P2_s = P2(T)\n",
      "    y1_calc = (P1_s*(P-P2_s))/(P*(P1_s-P2_s))\n",
      "    if((y1_calc-y1)>=0.001):\n",
      "        flag = 0;\n",
      "    else:\n",
      "        T = T-2;\n",
      "\n",
      "x1 = y1*(P/P1_s)\n",
      "print ' (d)'\n",
      "print ' Temperature = %f K'%T\n",
      "print ' x1 = %f'%x1\n",
      "\n",
      "#(e). To calculate P and x1\n",
      "T = 327.; \t\t\t#temperature (K)\n",
      "y1 = 0.4;\n",
      "\n",
      "P1_s = P1(T)\n",
      "P2_s = P2(T)\n",
      "#Using eq. 8.54 and 8.51\n",
      "x1 = (y1*P2_s)/(P1_s-y1*(P1_s-P2_s))\n",
      "P = x1*(P1_s/y1)\n",
      "print ' (e)'\n",
      "print ' Pressure = %f kPa'%P\n",
      "print ' x1 = %f'%x1\n",
      "\n",
      "#(f). To calculate fraction of the system is liquid and vapour in equilibrium\n",
      "T = 327.; \t\t\t#temperature (K)\n",
      "P = 65.; \t\t\t#pressure (kPa)\n",
      "y1 = 0.7344;\n",
      "\n",
      "P1_s = P1(T)\n",
      "P2_s = P2(T)\n",
      "x1 = (P-P2_s)/(P1_s-P2_s)\n",
      "#Let f be the fraction of the mixture that is liquid\n",
      "#Applying acetone balance\n",
      "f = (0.7-y1)/(x1-y1)\n",
      "print ' (f)'\n",
      "print ' Fraction of mixture that is liquid is %f percent'%(f*100)\n"
     ],
     "language": "python",
     "metadata": {},
     "outputs": [
      {
       "output_type": "stream",
       "stream": "stdout",
       "text": [
        "(a)\n",
        " x1 = 0.560806\n",
        " y1 = 0.734393\n",
        " (b)\n",
        " Temperature is 330.400000 K\n",
        " y1 = 0.588617\n",
        " (c)\n",
        " Pressure is 57.633467 kPa\n",
        " y1 = 0.590765\n",
        " (d)\n",
        " Temperature = 334.000000 K\n",
        " x1 = 0.240940\n",
        " (e)\n",
        " Pressure = 50.093199 kPa\n",
        " x1 = 0.235402\n",
        " (f)\n",
        " Fraction of mixture that is liquid is 19.816333 percent\n"
       ]
      }
     ],
     "prompt_number": 32
    },
    {
     "cell_type": "heading",
     "level": 3,
     "metadata": {},
     "source": [
      "Example 8.9"
     ]
    },
    {
     "cell_type": "code",
     "collapsed": false,
     "input": [
      "\n",
      "%matplotlib inline\n",
      "\n",
      "# Variables\n",
      "P = 101.3; \t\t\t#total pressure over the system (kPa)\n",
      "T = [371.4, 378, 383, 388, 393, 398.6];\n",
      "Pa = [101.3 ,125.3, 140.0, 160.0 ,179.9, 205.3];\n",
      "Pb = [44.4 ,55.6 ,64.5, 74.8, 86.6 ,101.3];\n",
      "xa = [0,0,0,0,0,0]\n",
      "ya = [0,0,0,0,0,0]\n",
      "\n",
      "# Calculations\n",
      "#To construct boiling point and equilibrium point diagram\n",
      "for i in range(6):\n",
      "    xa[i] = (P-Pb[i])/(Pa[i]-Pb[i]) \t\t\t#Using eq. 8.51\n",
      "    ya[i] = xa[i]*(Pa[i]/P )\t\t\t#Using eq. 8.54\n",
      "\n",
      "from matplotlib.pyplot import *\n",
      "\t\t\t#(a).\n",
      "\t\t\t#To construct boiling point diagram\n",
      "plot(xa,T)\n",
      "plot(ya,T)\n",
      "\t\t\t#title(\"Boiling Point diagram xa and ya Temperature\"\n",
      "\t\t\t#(b).\n",
      "\t\t\t#To construct the equilibrium diagram\n",
      "plot(ya,xa)\n",
      "\t\t\t#title(\"Equilibrium Diagram\",\"xa\",\"ya\"\n",
      "show()\n",
      "#(c).\n",
      "\n",
      "# Results\n",
      "print '(c). The given subpart is theoretical and does not involve any numerical computation'\n",
      "\n",
      "\n"
     ],
     "language": "python",
     "metadata": {},
     "outputs": [
      {
       "output_type": "stream",
       "stream": "stdout",
       "text": [
        "Populating the interactive namespace from numpy and matplotlib\n"
       ]
      },
      {
       "output_type": "stream",
       "stream": "stderr",
       "text": [
        "WARNING: pylab import has clobbered these variables: ['draw_if_interactive']\n",
        "`%pylab --no-import-all` prevents importing * from pylab and numpy\n"
       ]
      },
      {
       "metadata": {},
       "output_type": "display_data",
       "png": "[encoded data removed]",
       "text": [
        "<matplotlib.figure.Figure at 0x226ec50>"
       ]
      },
      {
       "output_type": "stream",
       "stream": "stdout",
       "text": [
        "(c). The given subpart is theoretical and does not involve any numerical computation\n"
       ]
      }
     ],
     "prompt_number": 6
    },
    {
     "cell_type": "heading",
     "level": 3,
     "metadata": {},
     "source": [
      "Example 8.11"
     ]
    },
    {
     "cell_type": "code",
     "collapsed": false,
     "input": [
      "\n",
      "# Variables\n",
      "x1 = 46.1/100; \t\t\t#mole percent of A\n",
      "P = 101.3; \t\t\t#total pressure of system (kPa)\n",
      "P1_s = 84.8; \t\t\t#vapour pressure of component A (kPa)\n",
      "P2_s = 78.2; \t\t\t#vapour pressure of component B (kPa) \n",
      "\n",
      "# Calculations\n",
      "#To calculate van Laar constants\n",
      "gama1 = P/P1_s;\n",
      "gama2 = P/P2_s;\n",
      "x2 = 1-x1;\n",
      "import math\n",
      "#van Laar constants:\n",
      "#Using eq. 8.69 (Page no. 348)\n",
      "A = math.log (gama1)*(1 + (x2*math.log(gama2))/(x1*math.log(gama1)))**2;\n",
      "B = math.log (gama2)*(1 + (x1*math.log(gama1))/(x2*math.log(gama2)))**2;\n",
      "\n",
      "# Results\n",
      "print 'van Laar constants are:'\n",
      "print ' A = %f'%A\n",
      "print ' B = %f'%B\n",
      "\n",
      "\n"
     ],
     "language": "python",
     "metadata": {},
     "outputs": [
      {
       "output_type": "stream",
       "stream": "stdout",
       "text": [
        "van Laar constants are:\n",
        " A = 1.298059\n",
        " B = 0.652282\n"
       ]
      }
     ],
     "prompt_number": 34
    },
    {
     "cell_type": "heading",
     "level": 3,
     "metadata": {},
     "source": [
      "Example 8.12"
     ]
    },
    {
     "cell_type": "code",
     "collapsed": false,
     "input": [
      "\n",
      "# Variables\n",
      "x2 = 0.448; \t\t\t#mole fraction of ethanol\n",
      "P = 101.3; \t\t\t#total pressure (kPa)\n",
      "P1_s = 68.9; \t\t\t#Vapour pressure of benzene (kPa)\n",
      "P2_s = 67.4; \t\t\t#vapour pressure of ethanol (kPa)\n",
      "\n",
      "# Calculations\n",
      "#To calculate activity coeffecients in a solution containing 10% alcohol\n",
      "x1 = 1-x2;\n",
      "gama1 = P/P1_s;\n",
      "gama2 = P/P2_s;\n",
      "import math\n",
      "#Using eq. 8.69 (Page no. 348)\n",
      "#van Laar constants:\n",
      "A = math.log(gama1)*(1 + (x2*math.log(gama2))/(x1*math.log(gama1)))**2;\n",
      "B = math.log(gama2)*(1 + (x1*math.log(gama1))/(x2*math.log(gama2)))**2;\n",
      "\n",
      "#For solution containing 10% alcohol\n",
      "x2 = 0.1;\n",
      "x1 = 1-x2;\n",
      "ln_g1 = (A*x2**2)/(((A/B)*x1+x2)**2)\n",
      "ln_g2 = (B*x1**2)/((x1+(B/A)*x2)**2)\n",
      "gama1 = math.e**ln_g1;\n",
      "gama2 = math.e**ln_g2;\n",
      "\n",
      "# Results\n",
      "print 'Activity coeffecients:'\n",
      "print ' For component 1: %f'%gama1\n",
      "print ' For component 2: %f'%gama2\n",
      "\n",
      "\n"
     ],
     "language": "python",
     "metadata": {},
     "outputs": [
      {
       "output_type": "stream",
       "stream": "stdout",
       "text": [
        "Activity coeffecients:\n",
        " For component 1: 1.025516\n",
        " For component 2: 4.141567\n"
       ]
      }
     ],
     "prompt_number": 35
    },
    {
     "cell_type": "heading",
     "level": 3,
     "metadata": {},
     "source": [
      "Example 8.13"
     ]
    },
    {
     "cell_type": "code",
     "collapsed": false,
     "input": [
      "\n",
      "# Variables\n",
      "x2 = 0.585; \t\t\t#mol fraction of hydrazine\n",
      "P = 101.3; \t\t\t#total pressure of system (kPa)\n",
      "P2_s = 124.76; \t\t\t#vapour pressure of hydrazine (kPa)\n",
      "\n",
      "# Calculations\n",
      "#To calculate equilibrium vapour composition for solution containing 20% (mol) hydrazine\n",
      "x1 = 1-x2;\n",
      "P1_s = 1.6*P2_s; \t\t\t#vapour pressure of water (kPa)\n",
      "gama1 = P/P1_s;\n",
      "gama2 = P/P2_s;\n",
      "\n",
      "import math\n",
      "#Using eq. 8.69 (Page no. 348)\n",
      "#van Laar constants:\n",
      "A = math.log(gama1)*(1 + (x2*math.log(gama2))/(x1*math.log(gama1)))**2;\n",
      "B = math.log(gama2)*(1 + (x1*math.log(gama1))/(x2*math.log(gama2)))**2;\n",
      "\n",
      "#For solution containing 20% hydrazine\n",
      "x2 = 0.2;\n",
      "x1 = 1-x2;\n",
      "ln_g1 = (A*x2**2)/(((A/B)*x1+x2)**2)\n",
      "ln_g2 = (B*x1**2)/((x1+(B/A)*x2)**2)\n",
      "gama1 = math.e**ln_g1;\n",
      "gama2 = math.e**ln_g2;\n",
      "\n",
      "#Using eq. 8.47 (Page no. 325) for components 1 and 2 and rearranging\n",
      "alpha = 1.6; \t\t\t#alpha = P1_s/P2_s\n",
      "y1 = 1./(1 + (gama2*x2)/(gama1*x1*alpha))\n",
      "y2 = 1-y1;\n",
      "\n",
      "# Results\n",
      "print 'Equilibrium vapour composition for solution containing 20 mol percent hydrazine'\n",
      "print ' Hydrazine is %f percent'%(y2*100)\n",
      "print ' Water is %f percent'%(y1*100)\n",
      "\n",
      "\n"
     ],
     "language": "python",
     "metadata": {},
     "outputs": [
      {
       "output_type": "stream",
       "stream": "stdout",
       "text": [
        "Equilibrium vapour composition for solution containing 20 mol percent hydrazine\n",
        " Hydrazine is 5.279270 percent\n",
        " Water is 94.720730 percent\n"
       ]
      }
     ],
     "prompt_number": 36
    },
    {
     "cell_type": "heading",
     "level": 3,
     "metadata": {},
     "source": [
      "Example 8.15"
     ]
    },
    {
     "cell_type": "code",
     "collapsed": false,
     "input": [
      "\n",
      "#Given:\n",
      "x1 = 0.047; \t\t\t#mol fraction of isopropanol\n",
      "P1 = 91.11; \t\t\t#vapour pessure of pure propanol (kPa)\n",
      "P = 91.2; \t\t\t#toatl pressure of system (kPa)\n",
      "P2 = 47.36; \t\t\t#vapour pressure of water (kPa)\n",
      "\n",
      "#van Laar consatnts:\n",
      "A = 2.470;\n",
      "B = 1.094;\n",
      "\n",
      "#To determine the total pressure:\n",
      "x2 = 1-x1;\n",
      "#Using eq. 8.68 (Page no. 348)\n",
      "ln_g1 = (A*x2**2)/(((A/B)*x1 + x2)**2);\n",
      "ln_g2 = (B*x1**2)/((x1 + (B/A)*x2)**2);\n",
      "gama1 = math.e**ln_g1;\n",
      "gama2 = math.e**ln_g2;\n",
      "#Total pressure:\n",
      "P_tot = (gama1*x1*P1) + (gama2*x2*P2);\n",
      "\n",
      "# Results\n",
      "if(P==P_tot):\n",
      "    print 'This is equal to total pressure'\n",
      "else:\n",
      "    print 'This is less than the total pressure. This error must have been caused by air leak'\n",
      "\n",
      "\n",
      " \n"
     ],
     "language": "python",
     "metadata": {},
     "outputs": [
      {
       "output_type": "stream",
       "stream": "stdout",
       "text": [
        "This is less than the total pressure. This error must have been caused by air leak\n"
       ]
      }
     ],
     "prompt_number": 37
    },
    {
     "cell_type": "heading",
     "level": 3,
     "metadata": {},
     "source": [
      "Example 8.16"
     ]
    },
    {
     "cell_type": "code",
     "collapsed": false,
     "input": [
      "\n",
      "# Variables\n",
      "P1 = 24.62; \t\t\t#vapour pressure of cyclohexane (kPa)\n",
      "P2 = 24.41; \t\t\t#vapour pressure of benzene (kPa)\n",
      "from numpy import array\n",
      "import math\n",
      "x1 = array([0, 0.2, 0.4, 0.6, 0.8, 1.0])\n",
      "x2 = 1-x1;\n",
      "g1 = [0,0,0,0,0,0]\n",
      "g2 = [0,0,0,0,0,0]\n",
      "P = [0,0,0,0,0,0]\n",
      "y1 = [0,0,0,0,0,0]\n",
      "\n",
      "# Calculations\n",
      "for i in range(6):\n",
      "    g1[i] = math.e**(0.458*x2[i]**2) \t\t\t#activity coeffecient for component 1\n",
      "    g2[i] = math.e**(0.458*x1[i]**2 )\t\t\t#activity coeffecient for component 2\n",
      "    P[i] = (g1[i]*x1[i]*P1) + (g2[i]*x2[i]*P2) \t\t\t#total pressure (kPa)\n",
      "    y1[i] = (g1[i]*x1[i]*P1)/P[i];\n",
      "\n",
      "\n",
      "from matplotlib.pyplot import *\n",
      "\n",
      "# Results\n",
      "#To construct P-x-y diagram\n",
      "plot(x1,P)\n",
      "plot(y1,P)\n",
      "\t\t\t#title(\"P-x-y Diagram\",\"x1 and y1\",\"Pressure\"\n",
      "show()\n",
      "\n",
      "\n"
     ],
     "language": "python",
     "metadata": {},
     "outputs": [
      {
       "metadata": {},
       "output_type": "display_data",
       "png": "[encoded data removed]",
       "text": [
        "<matplotlib.figure.Figure at 0x2f10390>"
       ]
      }
     ],
     "prompt_number": 7
    },
    {
     "cell_type": "heading",
     "level": 3,
     "metadata": {},
     "source": [
      "Example 8.17"
     ]
    },
    {
     "cell_type": "code",
     "collapsed": false,
     "input": [
      "\n",
      "# Variables\n",
      "P = 40.25; \t\t\t#total pressure (kPa)\n",
      "y1 = 0.566; \t\t\t#mol fraction of benzene in vapour phase\n",
      "x1 = 0.384; \t\t\t#mol fraction of benzene in liquid state\n",
      "P1 = 29.6; \t\t\t#vapour pressure of benzene (kPa)\n",
      "P2 = 22.9; \t\t\t#vapour pressure of ethanol (kPa)\n",
      "\n",
      "#To determine the composition and total pressure of azeotrope\n",
      "x2 = 1-x1;\n",
      "y2 = 1-y1;\n",
      "\n",
      "# Calculations\n",
      "#Using eq. 8.47 (Page no. 325)\n",
      "#Activity coeffecients:\n",
      "g1 = (y1*P)/(x1*P1)\n",
      "g2 = (y2*P)/(x2*P2)\n",
      "\n",
      "import math\n",
      "\t\t\t#Using eq. 8.69 (Page no. 348)\n",
      "\t\t\t#van Laar constants:\n",
      "A = math.log(g1)*((1 + (x2*math.log(g2))/(x1*math.log(g1)))**2)\n",
      "B = math.log(g2)*((1 + (x1*math.log(g1))/(x2*math.log(g2)))**2)\n",
      "\n",
      "\t\t\t#Assuming azeotropic comp. (for hit and trial method)\n",
      "x1 = 0.4;\n",
      "flag = 1.;\n",
      "while(flag==1):\n",
      "    x2 =1-x1;\n",
      "    ln_g1 = (A*x2**2)/(((A/B)*x1 + x2)**2)\n",
      "    ln_g2 = (B*x1**2)/((x1 + (B/A)*x2)**2)\n",
      "    g1 = math.e**ln_g1;\n",
      "    g2 = math.e**ln_g2;\n",
      "    P_1 = g1*P1;\n",
      "    P_2 = g2*P2;\n",
      "    if((P_1-P_2)<=1) and ((P_1-P_2)>=-1):\n",
      "        flag = 0;\n",
      "    else:\n",
      "        x1 = x1+0.1;\n",
      "\n",
      "# Results\n",
      "print 'Azeotropic compositon of benzene is %i percent'%(x1*100)\n",
      "print ' Total pressure of azeotrope is %f kPa'%((P_1+P_2)/2)\n"
     ],
     "language": "python",
     "metadata": {},
     "outputs": [
      {
       "output_type": "stream",
       "stream": "stdout",
       "text": [
        "Azeotropic compositon of benzene is 60 percent\n",
        " Total pressure of azeotrope is 40.858067 kPa\n"
       ]
      }
     ],
     "prompt_number": 39
    },
    {
     "cell_type": "heading",
     "level": 3,
     "metadata": {},
     "source": [
      "Example 8.19"
     ]
    },
    {
     "cell_type": "code",
     "collapsed": false,
     "input": [
      "\n",
      "# Variables\n",
      "a12 = 1225.31; \t\t\t#(J/mol)\n",
      "a21 = 6051.01; \t\t\t#(J/mol)\n",
      "V1 = 74.05*10**-6; \t\t\t#(m**3/mol)\n",
      "V2 = 18.07*10**-6; \t\t\t#(m**3/mol)\n",
      "\n",
      "R = 8.314; \t\t\t#ideal gas constant\n",
      "T = 349; \t\t\t#temperature in K\n",
      "\n",
      "\n",
      "# Calculations\n",
      "#Antoine Equation:\n",
      "#Vapour pressure of 1st element\n",
      "def P1(T):\n",
      "    y1 = math.e**(14.39155-(2795.817/(T-43.198)))\n",
      "    return y1\n",
      "\n",
      "\t\t\t#Vapour pressure of 2nd element\n",
      "def P2(T):\n",
      "    y2 = math.e**(16.26205-(3799.887/(T-46.854)))\n",
      "    return y2\n",
      "\n",
      "\t\t\t#To calculate equilibrium pressure and composition\n",
      "\t\t\t#Using eq. 8.73 (Page no. 350)\n",
      "\t\t\t#Wilson Parameters:\n",
      "W12 = (V2/V1)*math.e**(-a12/(R*T));\n",
      "W21 = (V1/V2)*math.e**(-a21/(R*T));\n",
      "import math\n",
      "\t\t\t#Using Antoine equation\n",
      "P1_s = P1(T);\n",
      "P2_s = P2(T);\n",
      "\n",
      "\t\t\t#(a). Composition of vapour in equilibrium\n",
      "x1 = 0.43;\n",
      "x2 = 1-x1;\n",
      "\n",
      "\t\t\t#Using eq. 8.72 (Page no. 350)\n",
      "\t\t\t#Wilson equations:\n",
      "\t\t\t#Activity coeffecient of 1st component\n",
      "def g_1(n1,n2): \t\t\t#n1 is mol fraction of 1 and n2 is for 2\n",
      "    y3 = math.e**(-math.log(n1 + W12*n2) + n2*((W12/(n1+W12*n2))-(W21/(W21*n1+n2))));\n",
      "    return y3\n",
      "\n",
      "\t\t\t#Activity coeffecint of 2nd component\n",
      "def g_2(n1,n2):\n",
      "    y4 = math.e**(-math.log(n2 + W21*n1) - n1*((W12/(n1+W12*n2))-(W21/(W21*n1+n2))));\n",
      "    return y4\n",
      "    \n",
      "\t\t\t#Activity coeffecients:\n",
      "g1 = g_1(x1,x2);\n",
      "g2 = g_2(x1,x2);\n",
      "\n",
      "P = (g1*x1*P1_s) + (g2*x2*P2_s);\n",
      "y1 = (g1*x1*P1_s)/P;\n",
      "\n",
      "# Results\n",
      "print '(a).'\n",
      "print ' Equilibrium pressure is %f kPa'%P\n",
      "print ' Composition of acetone vapour in equilibrium is %f'%y1\n",
      "\n",
      "\n",
      "#(b). Composition of liquid in equilibrium\n",
      "y1 = 0.8;\n",
      "y2 = 1-y1;\n",
      "g1 = 1; g2 = 1; \t\t\t#assumed activity coeffecients\n",
      "P_as = 1/((y1/(g1*P1_s)) + (y2/(g2*P2_s)));\n",
      "\n",
      "\t\t\t#Hit and trial method:\n",
      "flag = 1;\n",
      "while(flag==1):\n",
      "    x1 = (y1*P_as)/(g1*P1_s);\n",
      "    x2 = 1-x1;\n",
      "    g1 = g_1(x1,x2);\n",
      "    g2 = g_2(x1,x2);\n",
      "    P_calc = 1/((y1/(g1*P1_s)) + (y2/(g2*P2_s)));\n",
      "    if((P_calc-P_as)<=1) and ((P_calc-P_as)>=-1):\n",
      "        flag = 0;\n",
      "    else:\n",
      "        P_as = P_calc;\n",
      "\n",
      "print ' (b).'\n",
      "print ' Equilibrium Pressure is %f kPa'%P_calc\n",
      "print ' Composition of acetone in liquid in equilibrium is %f'%x1\n",
      "\n",
      "\n"
     ],
     "language": "python",
     "metadata": {},
     "outputs": [
      {
       "output_type": "stream",
       "stream": "stdout",
       "text": [
        "(a).\n",
        " Equilibrium pressure is 162.828251 kPa\n",
        " Composition of acetone vapour in equilibrium is 0.795360\n",
        " (b).\n",
        " Equilibrium Pressure is 164.488565 kPa\n",
        " Composition of acetone in liquid in equilibrium is 0.456817\n"
       ]
      }
     ],
     "prompt_number": 40
    },
    {
     "cell_type": "heading",
     "level": 3,
     "metadata": {},
     "source": [
      "Example 8.20"
     ]
    },
    {
     "cell_type": "code",
     "collapsed": false,
     "input": [
      "\n",
      "# Variables\n",
      "P = 101.3; \t\t\t#total pressure of system (kPa)\n",
      "T = 337.5; \t\t\t#temperature in K\n",
      "x1 = 0.842;\n",
      "\n",
      "#Antoine constants\n",
      "#For methanol(1)\n",
      "A1 = 16.12609;\n",
      "B1 = 3394.286;\n",
      "C1 = 43.2;\n",
      "\n",
      "#For methyl ethyl ketone (2)\n",
      "A2 = 14.04357;\n",
      "B2 = 2785.225;\n",
      "C2 = 57.2;\n",
      "import math\n",
      "\n",
      "# Calculations\n",
      "#To determine parameters in Wilson's equation\n",
      "P1_s = math.e**(A1-(B1/(T-C1)))\n",
      "P2_s = math.e**(A2-(B2/(T-C2)))\n",
      "x2 = 1-x1;\n",
      "g1 = P/P1_s;\n",
      "g2 = P/P2_s;\n",
      "\n",
      "#Using eq. 8.72 and rearranging:\n",
      "def Wils(n): \t\t\t#n is the Wilson's parameter W12\n",
      "    y1 = (((g1*x2)/(1-(n*x1/(x1+n*x2))+(x1/x2)*math.log(g1*(x1+n*x2))))**(x2/x1))*(g1*(x1+n*x2))\n",
      "    return y1\n",
      "\n",
      "flag = 1;\n",
      "W12 = 0.5; \t\t\t#assumed value\n",
      "while(flag==1):\n",
      "    res = Wils(W12)\n",
      "    if ((res-1)>=-0.09):\n",
      "        flag = 0;\n",
      "    else:\n",
      "        W12 = W12+0.087;\n",
      "\n",
      "\t\t\t#For 2nd Wilson parameter:\n",
      "\t\t\t#Using eq. 8.72 and rearranging:\n",
      "k = math.log(g1*(x1+W12*x2))/x2 - (W12/(x1+W12*x2))\n",
      "W21 = (-k*x2)/(1+k*x1)\n",
      "\n",
      "# Results\n",
      "print \"wilson parameters are: %f, %f\"%(W12,W21)\n",
      "\n",
      "\n"
     ],
     "language": "python",
     "metadata": {},
     "outputs": [
      {
       "output_type": "stream",
       "stream": "stdout",
       "text": [
        "wilson parameters are: 0.935000, 0.470758\n"
       ]
      }
     ],
     "prompt_number": 41
    },
    {
     "cell_type": "heading",
     "level": 3,
     "metadata": {},
     "source": [
      "Example 8.21"
     ]
    },
    {
     "cell_type": "code",
     "collapsed": false,
     "input": [
      "\t\t\n",
      "from numpy import *\n",
      "\n",
      "# Variables\n",
      "P = 101.3; \t\t\t#total pressure in kPa\n",
      "T = [333, 343, 353, 363]; \t\t\t#temperatures(K)\n",
      "Pa = [81.97 ,133.29 ,186.61, 266.58]; \t\t\t#Partial pressure of component A (kPa)\n",
      "Pb = [49.32 ,73.31, 106.63, 166.61]; \t\t\t#Partial pressure of component B (kPa)\n",
      "Pc = [39.32 ,62.65, 93.30, 133.29]; \t\t\t#Partial pressure of component C (kPa)\n",
      "xa = 0.45; \t\t\t#mole fraction of methanol\n",
      "xb = 0.3; \t\t\t#mole fraction of ethanol\n",
      "\n",
      "# Calculations and Results\n",
      "xc = 1-xa-xb; \t\t\t#mole fraction of propanol\n",
      "\n",
      "#To calculate bubble and dew point and the composition \n",
      "#(a). To calculate bubble point and vapour composition\n",
      "from matplotlib.pyplot import *\n",
      "plot(T,Pa);\n",
      "plot(T,Pb);\n",
      "plot(T,Pc);\n",
      "\t\t\t#title(\" \",\"Temperature\",\"Vapour pressures\");\n",
      "\t\t\t#legend(\"Pa\",\"Pb\",\"Pc\");\n",
      "\n",
      "\t\t\t#Using eq. 8.84 (Page no. 362)\n",
      "\t\t\t#At bubble temperature, sum(yi) = sum((xi*Pi)/P) = 1\n",
      "sum_y = [0,0,0,0]\n",
      "for i in range(4):\n",
      "    sum_y[i] = (xa*Pa[i])/P + (xb*Pb[i])/P + (xc*Pc[i])/P;\n",
      "\n",
      "Tb = interp(1,sum_y,T); \t\t\t#obtaining temperature at which sum (yi) = 1\n",
      "\n",
      "\t\t\t#Obtaining vapour pressures at bubble temperature\n",
      "Pb1 = interp(Tb,T,Pa);\n",
      "Pb2 = interp(Tb,T,Pb);\n",
      "Pb3 = interp(Tb,T,Pc);\n",
      "\n",
      "\t\t\t#Calculating equilibrium vapour composition\n",
      "ya = (xa*Pb1*100)/P;\n",
      "yb = (xb*Pb2*100)/P;\n",
      "yc = (xc*Pb3*100)/P;\n",
      "\n",
      "print '(a).'\n",
      "print ' The bubble temperature is %f K'%Tb\n",
      "print ' The equilibrium vapour contains %f methanol, %f ethanol and %f propanol'%(ya,yb,yc)\n",
      "\n",
      "#(b). The dew point and liquid composition\n",
      "#Vapour phase compositions at dew point\n",
      "ya = 0.45; \t\t\t#methanol\n",
      "yb = 0.30; \t\t\t#ethanol\n",
      "yc = 0.25; \t\t\t#propanol\n",
      "\n",
      "sum_x = zeros(4)\n",
      "#At dew point, sum(xi) = sum ((yi*P)/Pi) = 1\n",
      "for i in range(4):\n",
      "    sum_x[i] = (ya*P)/Pa[i] + (yb*P)/Pb[i] + (yc*P)/Pc[i];\n",
      "\n",
      "Td = interp(1,sum_x,T); \t\t\t#obtaining temperature at which sum (xi) = 1\n",
      "\n",
      "#Obtaining vapour pressures at dew temperature\n",
      "Pd1 = interp(Td,T,Pa);\n",
      "Pd2 = interp(Td,T,Pb);\n",
      "Pd3 = interp(Td,T,Pc);\n",
      "\n",
      "#Calculating liquid composition\n",
      "xa = (ya*P*100)/Pd1;\n",
      "xb = (yb*P*100)/Pd2;\n",
      "xc = (yc*P*100)/Pd3;\n",
      "\n",
      "print ' (c).'\n",
      "print ' The dew point is %f K'%Td\n",
      "print ' At dew point liquid contains %f methanol, %f ethanol and %f propanol'%(xa,xb,xc)\n",
      "\n",
      "\n"
     ],
     "language": "python",
     "metadata": {},
     "outputs": [
      {
       "output_type": "stream",
       "stream": "stdout",
       "text": [
        "(a).\n",
        " The bubble temperature is 343.879659 K\n",
        " The equilibrium vapour contains 61.294328 methanol, 22.578783 ethanol and 16.126889 propanol\n",
        " (c).\n",
        " The dew point is 363.000000 K\n",
        " At dew point liquid contains 17.099932 methanol, 18.240202 ethanol and 18.999925 propanol\n"
       ]
      },
      {
       "metadata": {},
       "output_type": "display_data",
       "png": "[encoded data removed]",
       "text": [
        "<matplotlib.figure.Figure at 0x2f23e50>"
       ]
      }
     ],
     "prompt_number": 8
    },
    {
     "cell_type": "heading",
     "level": 3,
     "metadata": {},
     "source": [
      "Example 8.22"
     ]
    },
    {
     "cell_type": "code",
     "collapsed": false,
     "input": [
      "#Given:\n",
      "\n",
      "P = 1447.14; \t\t\t#pressure of the system (kPa)\n",
      "x = [0.25 ,0.4, 0.35]; \t\t\t#composition of the components\n",
      "T = [355.4 ,366.5]; \t\t\t#assumed temperatures (K)\n",
      "K1 = [2.00, 0.78 ,0.33]; \t\t\t#value of Ki at 355.4 K \n",
      "K2 = [2.30, 0.90 ,0.40]; \t\t\t#value of Ki at 366.5 K\n",
      "\n",
      "\n",
      "# Calculation and Result\n",
      "\n",
      "Kx = [0, 0];\n",
      "for i in range(3):\n",
      "    Kx[0] = Kx[0]+K1[i]*x[i];\n",
      "    Kx[1] = Kx[1]+K2[i]*x[i];\n",
      "\n",
      "Tb = interp(1,Kx,T);\n",
      "\n",
      "#At Tb K, from Fig. 13.6 of Chemical Engineer's Handbook\n",
      "Kb = [2.12 ,0.85 ,0.37]\n",
      "\n",
      "#Calculation of vapour composition\n",
      "y1 = Kb[0]*x[0]*100;\n",
      "y2 = Kb[1]*x[1]*100;\n",
      "y3 = Kb[2]*x[2]*100;\n",
      "\n",
      "print '(a).'\n",
      "print ' The bubble point temperature is %f K'%Tb\n",
      "print ' At bubble point vapour contains %f percent propane, %f percent butane and %f percent pentane'%(y1,y2,y3)\n",
      "\n",
      "#(b). The dew point temperature and composition of the liquid\n",
      "T = [377.6 ,388.8]; \t\t\t#assumed temperatures (K)\n",
      "y = [0.25, 0.40, 0.35]; \t\t\t#vapour composition at dew point\n",
      "K1 = [2.6, 1.1, 0.5]; \t\t\t#at 377.6 K\n",
      "K2 = [2.9, 1.3, 0.61]; \t\t\t#at 388.8 K\n",
      "\n",
      "#At dew point, sum(yi/Ki) = 1\n",
      "Ky = [0, 0];\n",
      "for i in range(3):\n",
      "    Ky[0] = Ky[0] + y[i]/K1[i];\n",
      "    Ky[1] = Ky[1] + y[i]/K2[i];\n",
      "\n",
      "Td = interp(1,Ky,T);\n",
      "\n",
      "#At Td K,\n",
      "Kd = [2.85, 1.25, 0.59];\n",
      "\n",
      "#Calculation of liquid composition\n",
      "x1 = y[0]*100/Kd[0];\n",
      "x2 = y[1]*100/Kd[1];\n",
      "x3 = y[2]*100/Kd[2];\n",
      "\n",
      "print ' (b).'\n",
      "print ' The dew point temperature is %f K'%Td\n",
      "print ' Liquid at dew point contains %f percent propane, %f percent butane and %f percent pentane'%(x1,x2,x3)\n",
      "\n",
      "#(c). Temperature and composition when 45% of initial mixture is vaporised\n",
      "#Basis: \n",
      "F = 100; \n",
      "V = 45; \n",
      "L = 55;\n",
      "\n",
      "#For the given condition eq. 8.91 (Page no. 364) is to be satisfied\n",
      "#sum(zi/(1+ L/(VKi))) = 0.45\n",
      "\n",
      "z = [0.25, 0.4, 0.35];\n",
      "T = [366.5 ,377.6]; \t\t\t#assumed temperatures\n",
      "K1 = [2.3 ,0.9 ,0.4]; \t\t\t#at 366.5 K\n",
      "K2 = [2.6 ,1.1 ,0.5]; \t\t\t#at 377.6 K\n",
      "\n",
      "Kz = [0 ,0];\n",
      "for i in range(3):\n",
      "    Kz[0] = Kz[0] + z[i]/(1 + L/(V*K1[i]));\n",
      "    Kz[1] = Kz[1] + z[i]/(1 + L/(V*K2[i]));\n",
      "\n",
      "#The required temperature is T3\n",
      "T3 = interp(.45,Kz,T);\n",
      "\n",
      "#At T3 K\n",
      "K3 = [2.5, 1.08, 0.48];\n",
      "\n",
      "#Calculating liquid and vapour compositions\n",
      "for i in range(3):\n",
      "    y[i] = (z[i]/(1 + L/(V*K3[i])))/0.45;\n",
      "    x[i] = ((F*z[i]) - (V*y[i]))/L;\n",
      "    print (x[i]);\n",
      "\n",
      "\n",
      "print ' (c).'\n",
      "print ' The equilibrium temperature is %f K'%T3\n",
      "print ' Liquid composition in equilibrium is %f percent propane, %f percent butane \\\n",
      "and %f percent pentane'%(x[0]*100,x[1]*100,x[2]*100)\n",
      "print ' Vapour composition in equilibrium is %f percent propane, %f percent butane \\\n",
      "and %f percent pentane'%(y[0]*100,y[1]*100,y[2]*100);\n",
      "\n",
      "\n"
     ],
     "language": "python",
     "metadata": {},
     "outputs": [
      {
       "output_type": "stream",
       "stream": "stdout",
       "text": [
        "(a).\n",
        " The bubble point temperature is 360.855932 K\n",
        " At bubble point vapour contains 53.000000 percent propane, 34.000000 percent butane and 12.950000 percent pentane\n",
        " (b).\n",
        " The dew point temperature is 388.800000 K\n",
        " Liquid at dew point contains 8.771930 percent propane, 32.000000 percent butane and 59.322034 percent pentane\n",
        "0.149253731343\n",
        "0.3861003861\n",
        "0.456919060052\n",
        " (c).\n",
        " The equilibrium temperature is 374.651845 K\n",
        " Liquid composition in equilibrium is 14.925373 percent propane, 38.610039 percent butane and 45.691906 percent pentane\n",
        " Vapour composition in equilibrium is 37.313433 percent propane, 41.698842 percent butane and 21.932115 percent pentane\n"
       ]
      }
     ],
     "prompt_number": 42
    },
    {
     "cell_type": "heading",
     "level": 3,
     "metadata": {},
     "source": [
      "Example 8.23"
     ]
    },
    {
     "cell_type": "code",
     "collapsed": false,
     "input": [
      "\n",
      "from numpy import array\n",
      "\n",
      "# Variables\n",
      "P = 101.3; \t\t\t#total pressure (kPa)\n",
      "x1 = array([0.003, 0.449, 0.700, 0.900])\n",
      "y1 = array([0.432, 0.449, 0.520, 0.719])\n",
      "P1 = [65.31 ,63.98, 66.64, 81.31]; \t\t\t#(kPa)\n",
      "P2 = [68.64 ,68.64, 69.31, 72.24]; \t\t\t#(kPa)\n",
      "\n",
      "import math\n",
      "\n",
      "# Calculations\n",
      "#To test whether the given data are thermodynamically consistent or not\n",
      "x2 = 1-x1;\n",
      "y2 = 1-y1;\n",
      "g1= [0,0,0,0]\n",
      "g2 = [0,0,0,0]\n",
      "c=[0,0,0,0]\n",
      "import math\n",
      "for i in range(4):\n",
      "    g1[i] = (y1[i]*P)/(x1[i]*P1[i])\n",
      "    g2[i] = (y2[i]*P)/(x2[i]*P2[i])\n",
      "    c[i] = math.log(g1[i]/g2[i]) \t\t\t#k = ln (g1/g2)\n",
      "from matplotlib.pyplot import *\n",
      "plot(x1,c)\n",
      "\t\t\t#a = get(\"current_axes\"\n",
      "\t\t\t#set(a,\"x_location\",\"origin\"\n",
      "\n",
      "# Results\n",
      "show()\n",
      "\t\t\t#As seen from the graph net area is not zero\n",
      "print 'The given math.experimental data do not satisfy the Redlich-Kistern criterion'\n",
      "\n",
      "\n"
     ],
     "language": "python",
     "metadata": {},
     "outputs": [
      {
       "metadata": {},
       "output_type": "display_data",
       "png": "[encoded data removed]",
       "text": [
        "<matplotlib.figure.Figure at 0x227f050>"
       ]
      },
      {
       "output_type": "stream",
       "stream": "stdout",
       "text": [
        "The given math.experimental data do not satisfy the Redlich-Kistern criterion\n"
       ]
      }
     ],
     "prompt_number": 4
    },
    {
     "cell_type": "heading",
     "level": 3,
     "metadata": {},
     "source": [
      "Example 8.25"
     ]
    },
    {
     "cell_type": "code",
     "collapsed": false,
     "input": [
      "\n",
      "# Variables\n",
      "x1 = [0.0331, 0.9652]; \t\t\t#composition of chloroform\n",
      "P = [40.84 ,84.88]; \t\t\t#total pressure for system (kPa)\n",
      "P1 = 82.35; \t\t\t#vapour pressure of chloroform at 328 K (kPa)\n",
      "P2 = 37.30; \t\t\t#vapour pressure of acetone at 328 K (kPa) \n",
      "\n",
      "\n",
      "# Calculations\n",
      "#To estimate the constants in Margules equation\n",
      "#Using eq. 8.103 and 8.104 (Page no. 375)\n",
      "g1_inf = (P[0]-(1-x1[0])*P2)/(x1[0]*P1)\n",
      "g2_inf = (P[1]-(x1[1]*P1))/((1-x1[1])*P2)\n",
      "\n",
      "import math\n",
      "A = math.log(g1_inf)\n",
      "B = math.log(g2_inf)\n",
      "\n",
      "# Results\n",
      "print 'Margules constants are:'\n",
      "print ' A = %f'%A\n",
      "print ' B = %f'%B\n",
      "\n",
      "\n"
     ],
     "language": "python",
     "metadata": {},
     "outputs": [
      {
       "output_type": "stream",
       "stream": "stdout",
       "text": [
        "Margules constants are:\n",
        " A = 0.560560\n",
        " B = 1.424762\n"
       ]
      }
     ],
     "prompt_number": 44
    },
    {
     "cell_type": "heading",
     "level": 3,
     "metadata": {},
     "source": [
      "Example 8.26"
     ]
    },
    {
     "cell_type": "code",
     "collapsed": false,
     "input": [
      "\n",
      "# Variables\n",
      "x1 = [0., 0.033, 0.117, 0.318, 0.554, 0.736, 1.000]; \t\t\t#liquid composition of acetone\n",
      "pp1 = [0.,25.33, 59.05, 78.37, 89.58,94.77, 114.63]; \t\t\t#partial pressure of acetone (kPa)\n",
      "Pw = 19.91; \t\t\t#vapour pressure of water at 333 K (kPa)\n",
      "k = [0,0,0,0,0,0,0]\n",
      "\n",
      "# Calculations\n",
      "for i in range(1,6):\n",
      "    k[i] = x1[i]/((1.-x1[i])*pp1[i])\n",
      "\n",
      "k[6] = 0.1; \t\t\t#k(7) should tend to infinity\n",
      "from matplotlib.pyplot import *\n",
      "plot(pp1,k)\n",
      "show()\n",
      "\t\t\t#From graph% area gives the integration and hence partiaal pressure of water is calculated\n",
      "pp2 = [19.91, 19.31, 18.27, 16.99, 15.42, 13.90, 0];\n",
      "\n",
      "# Results\n",
      "print \"The results are:\"\n",
      "print '  Acetone composition      Partial pressure of water'\n",
      "for i in range(7):\n",
      "    print '       %f                       %f'%(x1[i],pp2[i])\n",
      "\n",
      "\n"
     ],
     "language": "python",
     "metadata": {},
     "outputs": [
      {
       "metadata": {},
       "output_type": "display_data",
       "png": "[encoded data removed]",
       "text": [
        "<matplotlib.figure.Figure at 0x30fad10>"
       ]
      },
      {
       "output_type": "stream",
       "stream": "stdout",
       "text": [
        "The results are:\n",
        "  Acetone composition      Partial pressure of water\n",
        "       0.000000                       19.910000\n",
        "       0.033000                       19.310000\n",
        "       0.117000                       18.270000\n",
        "       0.318000                       16.990000\n",
        "       0.554000                       15.420000\n",
        "       0.736000                       13.900000\n",
        "       1.000000                       0.000000\n"
       ]
      }
     ],
     "prompt_number": 5
    },
    {
     "cell_type": "heading",
     "level": 3,
     "metadata": {},
     "source": [
      "Example 8.27 "
     ]
    },
    {
     "cell_type": "code",
     "collapsed": false,
     "input": [
      "\n",
      "# Variables\n",
      "P = 93.30; \t\t\t#total pressure in kPa\n",
      "T1 = 353.; \t\t\t#(K)\n",
      "T2 = 373.; \t\t\t#(K)\n",
      "Pa1 = 47.98; \t\t\t#Vapour pressure of water at 353 K (kPa)\n",
      "Pb1 = 2.67; \t\t\t#Vapour pressure of liquid at 353 K (kPa)\n",
      "Pa2 = 101.3; \t\t\t#Vapour pressure of water at 373 K (kPa)\n",
      "Pb2 = 5.33; \t\t\t#Vapour pressure of liquid at 373 K (kPa)\n",
      "\n",
      "# Calculations and Results\n",
      "#To calculate under three phase equilibrium:\n",
      "#(a). The equilibrium temperature\n",
      "P1 = Pa1+Pb1; \t\t\t#sum of vapour pressures at 353 K\n",
      "P2 = Pa2+Pb2; \t\t\t#at 373 K\n",
      "\n",
      "#Since vapour pressure vary linearly with temperature% so T at which P = 93.30 kPa\n",
      "T = T1 + ((T2-T1)/(P2-P1))*(P-P1)\n",
      "print '(a). The equilibrium temperature is %f K'%T\n",
      "\n",
      "#(b). The composition of resulting vapour\n",
      "#At equilibrium temp:\n",
      "Pa = 88.5; \t\t\t#vapour pressure of water (kPa)\n",
      "Pb = 4.80; \t\t\t#vapour pressure of liquid (kPa)\n",
      "\n",
      "#At 3-phase equilibrium% ratio of mol fractions of components is same as the ratio of vapour pressures\n",
      "P = Pa+Pb; \t\t\t#sum of vapour pressures\n",
      "y = Pa/P; \t\t\t#mole fraction of water\n",
      "print ' The vapour contains %f mol percent water vapour'%(y*100)\n",
      "\n",
      "\n"
     ],
     "language": "python",
     "metadata": {},
     "outputs": [
      {
       "output_type": "stream",
       "stream": "stdout",
       "text": [
        "(a). The equilibrium temperature is 368.237585 K\n",
        " The vapour contains 94.855305 mol percent water vapour\n"
       ]
      }
     ],
     "prompt_number": 46
    },
    {
     "cell_type": "heading",
     "level": 3,
     "metadata": {},
     "source": [
      "Example 8.28"
     ]
    },
    {
     "cell_type": "code",
     "collapsed": false,
     "input": [
      "\n",
      "# Variables\n",
      "T = [323 ,333, 343, 348, 353, 363, 373]; \t\t\t#temperatures (K)\n",
      "P2 = [12.40 ,19.86, 31.06, 37.99, 47.32, 70.11, 101.3]; \t\t\t#vapour pressure for benzene (kPa)\n",
      "P1 = [35.85 ,51.85, 72.91, 85.31, 100.50, 135.42, 179.14]; \t\t\t#vapour pressure for water (kPa)\n",
      "Tb = 353.1; \t\t\t#boiling temperature (K)\n",
      "Pb = 101.3; \t\t\t#boiling pressure (kPa)\n",
      "\n",
      "\n",
      "# Calculations and Results\n",
      "#To prepare temperature composition diagram\n",
      "#To find three phase temperature\n",
      "P = [0,0,0,0,0,0,0]\n",
      "for i in range(7):\n",
      "    P[i] = P1[i] + P2[i];\n",
      "from matplotlib.pyplot import *\n",
      "plot(P,T)\n",
      "\t\t\t#From graph, at P = 101.3 kPa..\n",
      "T_ = 340.; \t\t\t#three phase temperature\n",
      "\n",
      "\t\t\t#At three phase temperature\n",
      "P1_ = 71.18; \t\t\t#(kPa)\n",
      "P2_ = 30.12; \t\t\t#(kPa)\n",
      "xb_ = P1_/Pb; \t\t\t#mol fraction of benzene at triple point\n",
      "\n",
      "\t\t\t#For the dew point curve\n",
      "\t\t\t#For curve BE in temp range from 342 to 373 K\n",
      "y1 = [0,0,0,0,0,0,0]\n",
      "for i in range(2,7):\n",
      "    y1[i] = 1-(P2[i]/Pb )\n",
      "\n",
      "\t\t\t#xset('window',1\n",
      "T1 = [0,0,0,0,0,0,0]\n",
      "y1_ = [0,0,0,0,0,0,0]\n",
      "T1[0] = 342\n",
      "y1_[0] = 0.7;\n",
      "for i in range(1,6):\n",
      "    T1[i] = T[i+1];\n",
      "    y1_[i] = y1[i+1];\n",
      "\n",
      "plot(y1_,T1)\n",
      "y2 = [0,0,0,0,0,0,0]\n",
      "\t\t\t#For the curve Ae in the temp range of 342 K to 353.1 K\n",
      "for i in range(2,5):\n",
      "    y2[i] = P1[i]/Pb;\n",
      "\n",
      "T2 = [0,0,0,0,0,0,0]\n",
      "y2_ = [0,0,0,0,0,0,0]\n",
      "T2[0] = 342.;\n",
      "y2_[0] = 0.7;\n",
      "for i in range(1,4):\n",
      "    T2[i] = T[i+1]\n",
      "    y2_[i] = y2[i+1]\n",
      "\n",
      "plot(y2_,T2)\n",
      "\t\t\t#axhspan(0.25,0.75,facecolor='0.5'\n",
      "\t\t\t#title(\"Temperature Composition diagram\",\"xa,ya\",\"Temperature\"\n",
      "show()\n",
      "\n"
     ],
     "language": "python",
     "metadata": {},
     "outputs": [
      {
       "metadata": {},
       "output_type": "display_data",
       "png": "[encoded data removed]",
       "text": [
        "<matplotlib.figure.Figure at 0x2cc5c50>"
       ]
      }
     ],
     "prompt_number": 47
    }
   ],
   "metadata": {}
  }
 ]
}