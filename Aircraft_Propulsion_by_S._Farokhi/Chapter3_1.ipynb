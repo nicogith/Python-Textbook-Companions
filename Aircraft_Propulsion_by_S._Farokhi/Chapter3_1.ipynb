{
 "metadata": {
  "name": "",
  "signature": "sha256:e5ce604b49bc138fd65826c495598b13c742523cc595beeb292a2a1aa22f7c49"
 },
 "nbformat": 3,
 "nbformat_minor": 0,
 "worksheets": [
  {
   "cells": [
    {
     "cell_type": "heading",
     "level": 1,
     "metadata": {},
     "source": [
      "Chapter3-Engine Thrust and Performance Parameters"
     ]
    },
    {
     "cell_type": "heading",
     "level": 2,
     "metadata": {},
     "source": [
      "Ex1-pg101"
     ]
    },
    {
     "cell_type": "code",
     "collapsed": false,
     "input": [
      "import math\n",
      "#calculate The ram drag for given engine in kN\n",
      "M0=0.85 ##Mach no.\n",
      "a0=300. ##speed of sound in m/s\n",
      "m=50. ##Air mass flow rate in kg/s\n",
      "##Calculations\n",
      "V0=M0*a0 ##Flight speed\n",
      "Dr=m*V0 ##Ram drag\n",
      "Dk=Dr/1000. ##in kN\n",
      "print'%s %.2f %s'%(\"The ram drag for given engine in kN:\",Dk,\"\")"
     ],
     "language": "python",
     "metadata": {},
     "outputs": [
      {
       "output_type": "stream",
       "stream": "stdout",
       "text": [
        "The ram drag for given engine in kN: 12.75 \n"
       ]
      }
     ],
     "prompt_number": 1
    },
    {
     "cell_type": "heading",
     "level": 2,
     "metadata": {},
     "source": [
      "Ex2-pg102"
     ]
    },
    {
     "cell_type": "code",
     "collapsed": false,
     "input": [
      "#calculate gross thurst of the core and fan nozzles\n",
      "\n",
      "Cv=450. ##exhaust velocity at core in m/s\n",
      "Nv=350. ##exhaust velocity at nozzle in m/s\n",
      "Cm=50. ##Mass flow rate through core in kg/s\n",
      "Nm=350. ##Mass flow rate through nozzle in kg/s\n",
      "##Calculations:\n",
      "##Newton's second law\n",
      "Fgc=Cm*Cv ##gross thrust of the core\n",
      "Fgf=Nm*Nv ##gross thrust of the nozzle fan\n",
      "print'%s %.f %s'%(\"Gross thrust of the core in\",Fgc,\"N\")\n",
      "print'%s %.f %s'%(\"Gross thrust of the fan nozzles in\",Fgf,\"N\")\n"
     ],
     "language": "python",
     "metadata": {},
     "outputs": [
      {
       "output_type": "stream",
       "stream": "stdout",
       "text": [
        "Gross thrust of the core in 22500 N\n",
        "Gross thrust of the fan nozzles in 122500 N\n"
       ]
      }
     ],
     "prompt_number": 3
    },
    {
     "cell_type": "heading",
     "level": 2,
     "metadata": {},
     "source": [
      "Ex3-pg111"
     ]
    },
    {
     "cell_type": "code",
     "collapsed": false,
     "input": [
      "import math\n",
      "#calculate The rocket gross thrust and pressure thurst\n",
      "V9=4000 ##in m/s\n",
      "p9=200*10**3 ##in Pa\n",
      "p0=100*10**3 ## in Pa\n",
      "D=2. ##in meter\n",
      "m=200.+50. ## in kg/s\n",
      "A=math.pi*(D**2)/4. ##nozzle exit area\n",
      "##let p=(p9-p0)*A i.e. pressure thrust\n",
      "p=(p9-p0)*A\n",
      "mt=m*V9 ##momentum thrust.\n",
      "t=p+mt ##rocket gross thrust\n",
      "print'%s %.2f %s'%(\"The pressure thrust in\",p,\"N\")\n",
      "print'%s %.1f %s'%(\"The rocket gross thrust in\",t,\"N\")"
     ],
     "language": "python",
     "metadata": {},
     "outputs": [
      {
       "output_type": "stream",
       "stream": "stdout",
       "text": [
        "The pressure thrust in 314159.27 N\n",
        "The rocket gross thrust in 1314159.3 N\n"
       ]
      }
     ],
     "prompt_number": 5
    },
    {
     "cell_type": "heading",
     "level": 2,
     "metadata": {},
     "source": [
      "Ex4-pg114"
     ]
    },
    {
     "cell_type": "code",
     "collapsed": false,
     "input": [
      "import math\n",
      "#calcualte engine thurst takeoff\n",
      "m0=100. ##air flow rate in kg/s\n",
      "V0=0. ##takeoff assumptions in m/s\n",
      "mf=2. ##2% of fuel-to-air ratio\n",
      "Qr=43000. ##Heating value of typical hydrocarbon fuel in kJ/kg\n",
      "V9=900. ##high speed exhaust jet (in m/s)\n",
      "e=((m0+mf)*(V9)**2.)/(2.*(mf)*(Qr)*1000.)\n",
      "m9=m0+mf\n",
      "t=m9*V9 ## the engine thrust at takeoff.\n",
      "print'%s %.f %s'%(\"The engine thrust at takeoff in SI units\",t,\"N\")"
     ],
     "language": "python",
     "metadata": {},
     "outputs": [
      {
       "output_type": "stream",
       "stream": "stdout",
       "text": [
        "The engine thrust at takeoff in SI units 91800 N\n"
       ]
      }
     ],
     "prompt_number": 7
    },
    {
     "cell_type": "heading",
     "level": 2,
     "metadata": {},
     "source": [
      "Ex5-pg117"
     ]
    },
    {
     "cell_type": "code",
     "collapsed": false,
     "input": [
      "#calculate the  Engine propulsive efficiency\n",
      "V9=900. ## in m/s\n",
      "V0=200. ## in m/s\n",
      "e=2./(1.+(V9/V0))\n",
      "print'%s %.7f %s'%(\"Engine propulsive efficiency\",e,\"\")"
     ],
     "language": "python",
     "metadata": {},
     "outputs": [
      {
       "output_type": "stream",
       "stream": "stdout",
       "text": [
        "Engine propulsive efficiency 0.3636364 \n"
       ]
      }
     ],
     "prompt_number": 9
    },
    {
     "cell_type": "heading",
     "level": 2,
     "metadata": {},
     "source": [
      "Ex6-pg118"
     ]
    },
    {
     "cell_type": "code",
     "collapsed": false,
     "input": [
      "#estimate Propulsive efficiency\n",
      "import math\n",
      "V9=250. ##in m/s\n",
      "V0=200. ##in m/s\n",
      "##Calculations:\n",
      "e=2./(1.+(V9/V0))\n",
      "print'%s %.3f %s'%(\"Propulsive efficiency:\",e,\"\")"
     ],
     "language": "python",
     "metadata": {},
     "outputs": [
      {
       "output_type": "stream",
       "stream": "stdout",
       "text": [
        "Propulsive efficiency: 0.889 \n"
       ]
      }
     ],
     "prompt_number": 8
    }
   ],
   "metadata": {}
  }
 ]
}