{
 "metadata": {
  "name": "",
  "signature": "sha256:c280b16f38bc8dbf3b2a0607bdd0cfd4670bde51a104a8d547b07a434c49c7f5"
 },
 "nbformat": 3,
 "nbformat_minor": 0,
 "worksheets": [
  {
   "cells": [
    {
     "cell_type": "heading",
     "level": 1,
     "metadata": {},
     "source": [
      "Chapter 22 Diffraction and polarisation"
     ]
    },
    {
     "cell_type": "heading",
     "level": 1,
     "metadata": {},
     "source": [
      "Example 22.1 Page no 1124"
     ]
    },
    {
     "cell_type": "code",
     "collapsed": false,
     "input": [
      "#Given\n",
      "D=1                           #m\n",
      "l=5*10**-7                      #m\n",
      "d=0.1*10**-3                    #m\n",
      "\n",
      "#Calculation\n",
      "W=(2*D*l)/d\n",
      "\n",
      "#Result\n",
      "print\"Width of the central maximum is\", W*10**2,\"cm\""
     ],
     "language": "python",
     "metadata": {},
     "outputs": [
      {
       "output_type": "stream",
       "stream": "stdout",
       "text": [
        "Width of the central maximum is 1.0 cm\n"
       ]
      }
     ],
     "prompt_number": 4
    },
    {
     "cell_type": "heading",
     "level": 2,
     "metadata": {},
     "source": [
      "Example 22.2 Page no 1124"
     ]
    },
    {
     "cell_type": "code",
     "collapsed": false,
     "input": [
      "#Given\n",
      "D=1.60                          #m\n",
      "l=6328*10**-10                        #m\n",
      "w=4.0*10**-3\n",
      "\n",
      "#Calculation\n",
      "d=(2*D*l)/w\n",
      "\n",
      "#Result\n",
      "print\"Width of the slit is\", round(d*10**3,2),\"mm\"\n"
     ],
     "language": "python",
     "metadata": {},
     "outputs": [
      {
       "output_type": "stream",
       "stream": "stdout",
       "text": [
        "Width of the slit is 0.51 mm\n"
       ]
      }
     ],
     "prompt_number": 13
    },
    {
     "cell_type": "heading",
     "level": 2,
     "metadata": {},
     "source": [
      "Example 22.3 Page no 1124"
     ]
    },
    {
     "cell_type": "code",
     "collapsed": false,
     "input": [
      "#Given\n",
      "l=7500*10**-10\n",
      "d=1.0*10**-6\n",
      "c=20\n",
      "\n",
      "#Calculation\n",
      "import math\n",
      "a=l/d\n",
      "b=math.asin(a)*180/3.14\n",
      "A=2*b\n",
      "x=c*math.tan(a*3.14/180.0)\n",
      "w=2*x\n",
      "\n",
      "#Result\n",
      "print\"(i) Width of central maximum is\", round(A,0),\"Degree\"\n",
      "print\"(ii) Width of central maximum is\",round(w*10**2,0),\"cm\""
     ],
     "language": "python",
     "metadata": {},
     "outputs": [
      {
       "output_type": "stream",
       "stream": "stdout",
       "text": [
        "(i) Width of central maximum is 97.0 Degree\n",
        "(ii) Width of central maximum is 52.0 cm\n"
       ]
      }
     ],
     "prompt_number": 27
    },
    {
     "cell_type": "heading",
     "level": 2,
     "metadata": {},
     "source": [
      "Example 22.4 Page no 1125"
     ]
    },
    {
     "cell_type": "code",
     "collapsed": false,
     "input": [
      "#Given\n",
      "l=6.3*10**-7                      #m\n",
      "a=3.6                             #Degree\n",
      "n=10\n",
      "\n",
      "#Calculation\n",
      "import math\n",
      "d=(n*l)/math.sin(a*3.14/180.0)\n",
      "\n",
      "#Result\n",
      "print\"Slit width is\", round(d*10**3,1),\"mm\""
     ],
     "language": "python",
     "metadata": {},
     "outputs": [
      {
       "output_type": "stream",
       "stream": "stdout",
       "text": [
        "Slit width is 0.1 mm\n"
       ]
      }
     ],
     "prompt_number": 33
    },
    {
     "cell_type": "heading",
     "level": 2,
     "metadata": {},
     "source": [
      "Example 22.5 Page no 1125"
     ]
    },
    {
     "cell_type": "code",
     "collapsed": false,
     "input": [
      "#Given\n",
      "l=5500*10**-10\n",
      "d=0.01\n",
      "\n",
      "#Calculation\n",
      "import math\n",
      "a=l/d\n",
      "b=math.asin(a)*180/3.14\n",
      "\n",
      "#Result\n",
      "print\"Angular deflection is\", round(b,4),\"Degree\""
     ],
     "language": "python",
     "metadata": {},
     "outputs": [
      {
       "output_type": "stream",
       "stream": "stdout",
       "text": [
        "Angular deflection is 0.0032 Degree\n"
       ]
      }
     ],
     "prompt_number": 38
    },
    {
     "cell_type": "heading",
     "level": 2,
     "metadata": {},
     "source": [
      "Example 22.6 Page no 1125"
     ]
    },
    {
     "cell_type": "code",
     "collapsed": false,
     "input": [
      "#Given\n",
      "lr=660\n",
      "d=3.0\n",
      "\n",
      "#Calculation\n",
      "l1=(2*lr)/d\n",
      "\n",
      "#Result\n",
      "print\"The value of lambda is\",l1"
     ],
     "language": "python",
     "metadata": {},
     "outputs": [
      {
       "output_type": "stream",
       "stream": "stdout",
       "text": [
        "The value of lambda is 440.0\n"
       ]
      }
     ],
     "prompt_number": 40
    },
    {
     "cell_type": "heading",
     "level": 2,
     "metadata": {},
     "source": [
      "Example 22.7 Page no 1126"
     ]
    },
    {
     "cell_type": "code",
     "collapsed": false,
     "input": [
      "#Given\n",
      "l1=5890*10**-10                    #m\n",
      "l2=5896*10**-10\n",
      "d=2.0*10**-6                          #m\n",
      "D=2                                 #m\n",
      "\n",
      "#Calculation\n",
      "x=(3*D*(l2-l1))/(2*d)\n",
      "\n",
      "#Result\n",
      "print\"Spacing between the first maxima of two sodium lines is\",x*10**4,\"*10**-4 m\""
     ],
     "language": "python",
     "metadata": {},
     "outputs": [
      {
       "output_type": "stream",
       "stream": "stdout",
       "text": [
        "Spacing between the first maxima of two sodium lines is 9.0 *10**-4 m\n"
       ]
      }
     ],
     "prompt_number": 46
    },
    {
     "cell_type": "heading",
     "level": 2,
     "metadata": {},
     "source": [
      "Example 22.8 Page no 1126"
     ]
    },
    {
     "cell_type": "code",
     "collapsed": false,
     "input": [
      "#Given\n",
      "d=3*10**-3                     #m\n",
      "l=500*10**-9                   #m\n",
      "\n",
      "#Calculation\n",
      "Z=d**2/l\n",
      "\n",
      "#Result\n",
      "print\"Distance is\",Z,\"m\""
     ],
     "language": "python",
     "metadata": {},
     "outputs": [
      {
       "output_type": "stream",
       "stream": "stdout",
       "text": [
        "Distance is 18.0 m\n"
       ]
      }
     ],
     "prompt_number": 48
    },
    {
     "cell_type": "heading",
     "level": 2,
     "metadata": {},
     "source": [
      "Example 22.9 Page no 1126"
     ]
    },
    {
     "cell_type": "code",
     "collapsed": false,
     "input": [
      "#Given\n",
      "d=2*10**-3                               #m\n",
      "l=600*10**-9                             #m\n",
      "\n",
      "#Calculation\n",
      "Z=d**2/l\n",
      "\n",
      "#Result\n",
      "print\"Distance is\",round(Z,2),\"m\""
     ],
     "language": "python",
     "metadata": {},
     "outputs": [
      {
       "output_type": "stream",
       "stream": "stdout",
       "text": [
        "Distance is 6.67 m\n"
       ]
      }
     ],
     "prompt_number": 51
    },
    {
     "cell_type": "heading",
     "level": 2,
     "metadata": {},
     "source": [
      "Example 22.10 Page no 1126"
     ]
    },
    {
     "cell_type": "code",
     "collapsed": false,
     "input": [
      "#Given\n",
      "d=2*10**-3                      #m\n",
      "l=5000*10**-10\n",
      "\n",
      "#Calculation\n",
      "Z=d**2/l\n",
      "\n",
      "#Result\n",
      "print\"Fresnel Distance is\",Z,\"m\""
     ],
     "language": "python",
     "metadata": {},
     "outputs": [
      {
       "output_type": "stream",
       "stream": "stdout",
       "text": [
        "Fresnel Distance is 8.0 m\n"
       ]
      }
     ],
     "prompt_number": 53
    },
    {
     "cell_type": "heading",
     "level": 2,
     "metadata": {},
     "source": [
      "Example 22.11 Page no 1129"
     ]
    },
    {
     "cell_type": "code",
     "collapsed": false,
     "input": [
      "#Given\n",
      "l=5.50*10**-7                      #m\n",
      "D=5.1\n",
      "\n",
      "#Calculation\n",
      "a=(1.22*l)/D\n",
      "\n",
      "#Result\n",
      "print\"Minimum angular separation is\", round(a*10**7,1)*10**-7,\"rad\""
     ],
     "language": "python",
     "metadata": {},
     "outputs": [
      {
       "output_type": "stream",
       "stream": "stdout",
       "text": [
        "Minimum angular separation is 1.3e-07 rad\n"
       ]
      }
     ],
     "prompt_number": 60
    },
    {
     "cell_type": "heading",
     "level": 2,
     "metadata": {},
     "source": [
      "Example 22.12 Page no 1130"
     ]
    },
    {
     "cell_type": "code",
     "collapsed": false,
     "input": [
      "#Given\n",
      "l=6*10**-7                      #m\n",
      "D=0.6\n",
      "l1=10**10                         #m\n",
      "r=10.0**4*9.46*10**15                  #m\n",
      "\n",
      "#Calculation\n",
      "a=(1.22*l)/D\n",
      "a1=l1/r\n",
      "\n",
      "#Result\n",
      "print round(a1*10**10,2)*10**-10,\"rad\""
     ],
     "language": "python",
     "metadata": {},
     "outputs": [
      {
       "output_type": "stream",
       "stream": "stdout",
       "text": [
        "1.06e-10 rad\n"
       ]
      }
     ],
     "prompt_number": 66
    },
    {
     "cell_type": "heading",
     "level": 2,
     "metadata": {},
     "source": [
      "Example 22.13 Page no 1130"
     ]
    },
    {
     "cell_type": "code",
     "collapsed": false,
     "input": [
      "#Given\n",
      "l=6000*10**-8\n",
      "D=254.0\n",
      "\n",
      "#Calculation\n",
      "a=(1.22*l)/D\n",
      "\n",
      "#Result\n",
      "print\"Limt of resolution of a telescope is\",round(a*10**7,1)*10**-7,\"Radian\""
     ],
     "language": "python",
     "metadata": {},
     "outputs": [
      {
       "output_type": "stream",
       "stream": "stdout",
       "text": [
        "Limt of resolution of a telescope is 2.9e-07 Radian\n"
       ]
      }
     ],
     "prompt_number": 70
    },
    {
     "cell_type": "heading",
     "level": 2,
     "metadata": {},
     "source": [
      "Example 22.14 Page no 1130"
     ]
    },
    {
     "cell_type": "code",
     "collapsed": false,
     "input": [
      "#Given\n",
      "D=600.0                            #cm\n",
      "l=5.5*10**-5                      #cm\n",
      "d=3.8*10**10                      #cm\n",
      "\n",
      "#Calculation\n",
      "a=(1.22*l)/D\n",
      "x=d*a\n",
      "\n",
      "#Result\n",
      "print\"Separation of two points is\", round(x,0),\"cm\""
     ],
     "language": "python",
     "metadata": {},
     "outputs": [
      {
       "output_type": "stream",
       "stream": "stdout",
       "text": [
        "Separation of two points is 4250.0 cm\n"
       ]
      }
     ],
     "prompt_number": 78
    },
    {
     "cell_type": "heading",
     "level": 2,
     "metadata": {},
     "source": [
      "Example 22.15 Page no 1130"
     ]
    },
    {
     "cell_type": "code",
     "collapsed": false,
     "input": [
      "#Given\n",
      "d=10**-4                                 #cm\n",
      "l=5.8*10**-5                             #cm\n",
      "\n",
      "#Calculation\n",
      "Na=l/(2.0*d)\n",
      "\n",
      "#Result\n",
      "print\"Numerical aperature of a microscope is\", Na"
     ],
     "language": "python",
     "metadata": {},
     "outputs": [
      {
       "output_type": "stream",
       "stream": "stdout",
       "text": [
        "Numerical aperature of a microscope is 0.29\n"
       ]
      }
     ],
     "prompt_number": 80
    },
    {
     "cell_type": "heading",
     "level": 2,
     "metadata": {},
     "source": [
      "Example 22.16 Page no 1131"
     ]
    },
    {
     "cell_type": "code",
     "collapsed": false,
     "input": [
      "#Given\n",
      "u=1\n",
      "l=600*10**-9                     #,\n",
      "\n",
      "#Calculation\n",
      "import math\n",
      "rp=(2*u*math.sin(30*3.14/180.0))/l\n",
      "\n",
      "#Result\n",
      "print\"Resolving power of a microscope is\", round(rp*10**-6,2),\"*10**6\""
     ],
     "language": "python",
     "metadata": {},
     "outputs": [
      {
       "output_type": "stream",
       "stream": "stdout",
       "text": [
        "Resolving power of a microscope is 1.67 *10**6\n"
       ]
      }
     ],
     "prompt_number": 86
    },
    {
     "cell_type": "heading",
     "level": 2,
     "metadata": {},
     "source": [
      "Example 22.17 Page no 1133"
     ]
    },
    {
     "cell_type": "code",
     "collapsed": false,
     "input": [
      "#Given\n",
      "l1=15*10**-10                            #m\n",
      "l=6563*10**-10\n",
      "c=3*10**8                               #m/s\n",
      "\n",
      "#Calculation\n",
      "v=(c*l1)/l\n",
      "\n",
      "#Result\n",
      "print\"Speed of star is\", round(v*10**-5,2),\"*10**5 m/s\""
     ],
     "language": "python",
     "metadata": {},
     "outputs": [
      {
       "output_type": "stream",
       "stream": "stdout",
       "text": [
        "Speed of star is 6.86 *10**5 m/s\n"
       ]
      }
     ],
     "prompt_number": 91
    },
    {
     "cell_type": "heading",
     "level": 2,
     "metadata": {},
     "source": [
      "Example 22.18 Page no 1133"
     ]
    },
    {
     "cell_type": "code",
     "collapsed": false,
     "input": [
      "#Given\n",
      "l1=0.032\n",
      "l=100.0\n",
      "c=3*10**8\n",
      "\n",
      "#Calculation\n",
      "v=-(l1*c)/l\n",
      "\n",
      "#Result\n",
      "print\"Velocity of star is\",v*10**-4,\"*10**4 m/s\""
     ],
     "language": "python",
     "metadata": {},
     "outputs": [
      {
       "output_type": "stream",
       "stream": "stdout",
       "text": [
        "Velocity of star is -9.6 *10**4 m/s\n"
       ]
      }
     ],
     "prompt_number": 95
    },
    {
     "cell_type": "heading",
     "level": 2,
     "metadata": {},
     "source": [
      "Example 22.21 Page no 1142"
     ]
    },
    {
     "cell_type": "code",
     "collapsed": false,
     "input": [
      "#Given\n",
      "a=60                        #Degree\n",
      "a1=90\n",
      "\n",
      "import math\n",
      "A=math.tan(a*3.14/180.0)\n",
      "ap=a1-a\n",
      "\n",
      "#Result\n",
      "print\"(i) Refractive index of the medium is\", round(A,3)\n",
      "print\"(ii) The refracting angle is\",ap,\"degree\""
     ],
     "language": "python",
     "metadata": {},
     "outputs": [
      {
       "output_type": "stream",
       "stream": "stdout",
       "text": [
        "(i) Refractive index of the medium is 1.73\n",
        "(ii) The refracting angle is 30 degree\n"
       ]
      }
     ],
     "prompt_number": 118
    },
    {
     "cell_type": "heading",
     "level": 2,
     "metadata": {},
     "source": [
      "Example 22.22 Page no 1142"
     ]
    },
    {
     "cell_type": "code",
     "collapsed": false,
     "input": [
      "#Given\n",
      "a=1.33\n",
      "\n",
      "#Calculation\n",
      "import math\n",
      "ap=math.atan(a)*180/3.14\n",
      "\n",
      "#Result\n",
      "print\"Angle of incidence is\", round(ap,0),\"Degree\""
     ],
     "language": "python",
     "metadata": {},
     "outputs": [
      {
       "output_type": "stream",
       "stream": "stdout",
       "text": [
        "Angle of incidence is 53.0 Degree\n"
       ]
      }
     ],
     "prompt_number": 122
    },
    {
     "cell_type": "heading",
     "level": 2,
     "metadata": {},
     "source": [
      "Example 22.23 Page no 1142"
     ]
    },
    {
     "cell_type": "code",
     "collapsed": false,
     "input": [
      "#Given\n",
      "u=1.33\n",
      "a=90\n",
      "\n",
      "#Calculation\n",
      "import math\n",
      "ap=math.atan(u)*180/3.14\n",
      "A=a-ap\n",
      "\n",
      "#Result\n",
      "print\"Angle between the sun and the horizon is\", round(A,0),\"Degree\""
     ],
     "language": "python",
     "metadata": {},
     "outputs": [
      {
       "output_type": "stream",
       "stream": "stdout",
       "text": [
        "Angle between the sun and the horizon is 37.0 Degree\n"
       ]
      }
     ],
     "prompt_number": 127
    },
    {
     "cell_type": "heading",
     "level": 2,
     "metadata": {},
     "source": [
      "Example 22.24 Page no 1142"
     ]
    },
    {
     "cell_type": "code",
     "collapsed": false,
     "input": [
      "#Given\n",
      "u=1.5\n",
      "\n",
      "#Calculation\n",
      "import math\n",
      "ap=math.atan(u)*180/3.14\n",
      "r=90-ap\n",
      "\n",
      "#Result\n",
      "print\"Angle of refraction is\", round(r,1),\"Degree\""
     ],
     "language": "python",
     "metadata": {},
     "outputs": [
      {
       "output_type": "stream",
       "stream": "stdout",
       "text": [
        "Angle of refraction is 33.7 Degree\n"
       ]
      }
     ],
     "prompt_number": 132
    },
    {
     "cell_type": "heading",
     "level": 2,
     "metadata": {},
     "source": [
      "Example 22.25 Page no 1143"
     ]
    },
    {
     "cell_type": "code",
     "collapsed": false,
     "input": [
      "#Given\n",
      "a=30                          #Degree\n",
      "I=3                            #A\n",
      "I0=4.0\n",
      "I1=1\n",
      "\n",
      "#Calculation\n",
      "a=I/I0\n",
      "a1=I1/I0\n",
      "\n",
      "#Result\n",
      "print\"(i) Fraction of maximum light transferred for 30 degree is\", a\n",
      "print\"(ii) Fraction of maximum light transferred for 60 degree is\", a1"
     ],
     "language": "python",
     "metadata": {},
     "outputs": [
      {
       "output_type": "stream",
       "stream": "stdout",
       "text": [
        "(i) Fraction of maximum light transferred for 30 degree is 0.75\n",
        "(ii) Fraction of maximum light transferred for 60 degree is 0.25\n"
       ]
      }
     ],
     "prompt_number": 135
    },
    {
     "cell_type": "heading",
     "level": 2,
     "metadata": {},
     "source": [
      "Example 22.26 Page no 1143"
     ]
    },
    {
     "cell_type": "code",
     "collapsed": false,
     "input": [
      "#Given\n",
      "ap=60                     #Degree\n",
      "u=3\n",
      "\n",
      "#Calculation\n",
      "import math\n",
      "a=1/math.sqrt(u)\n",
      "C=math.asin(a)*180/3.14\n",
      "\n",
      "#Result\n",
      "print\"Critical angle for this medium is\", round(C,2),\"Degree\""
     ],
     "language": "python",
     "metadata": {},
     "outputs": [
      {
       "output_type": "stream",
       "stream": "stdout",
       "text": [
        "Critical angle for this medium is 35.28 Degree\n"
       ]
      }
     ],
     "prompt_number": 140
    }
   ],
   "metadata": {}
  }
 ]
}