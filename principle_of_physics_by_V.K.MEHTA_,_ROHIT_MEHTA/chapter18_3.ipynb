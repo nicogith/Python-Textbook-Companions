{
 "metadata": {
  "name": "",
  "signature": "sha256:b23935cae4f05cd3030e505584dd90917a65a9efe1b245c771989ab0310cdeb5"
 },
 "nbformat": 3,
 "nbformat_minor": 0,
 "worksheets": [
  {
   "cells": [
    {
     "cell_type": "heading",
     "level": 1,
     "metadata": {},
     "source": [
      "Chapter 18 Dispersion of light"
     ]
    },
    {
     "cell_type": "heading",
     "level": 2,
     "metadata": {},
     "source": [
      "Example 18.1 Page no 986"
     ]
    },
    {
     "cell_type": "code",
     "collapsed": false,
     "input": [
      "#Given\n",
      "A=60                            #Degree\n",
      "\n",
      "#Calculation\n",
      "import math\n",
      "a=math.sqrt(2)*math.sin(30*3.14/180.0)\n",
      "b=math.asin(a)*180/3.14\n",
      "c=(b*2)-A\n",
      "i=(A+c)/2.0\n",
      "r=A/2.0\n",
      "\n",
      "#Result\n",
      "print\"(i) Angle of minimum deviation is\", round(c,0),\"Degree\"\n",
      "print\"(ii) Angle of incidence is\", round(i,0),\"Degree\"\n",
      "print\"(iii) The angle of refraction is\", r,\"Degree\""
     ],
     "language": "python",
     "metadata": {},
     "outputs": [
      {
       "output_type": "stream",
       "stream": "stdout",
       "text": [
        "(i) Angle of minimum deviation is 30.0 Degree\n",
        "(ii) Angle of incidence is 45.0 Degree\n",
        "(iii) The angle of refraction is 30.0 Degree\n"
       ]
      }
     ],
     "prompt_number": 17
    },
    {
     "cell_type": "heading",
     "level": 2,
     "metadata": {},
     "source": [
      "Example 18.2 Page no 986"
     ]
    },
    {
     "cell_type": "code",
     "collapsed": false,
     "input": [
      "#Given\n",
      "a=51                                   #Degree\n",
      "A=60                                   #Degree\n",
      "\n",
      "#Calculation\n",
      "import math\n",
      "b=(A+a)/2.0\n",
      "c=A/2.0\n",
      "u=(math.sin(b*3.14/180.0))/(math.sin(c*3.14/180.0))\n",
      "\n",
      "#Result\n",
      "print\"(i) The refracting angle of the prism is\", A,\"Degree\"\n",
      "print\"(ii) The refractive index of the material is\",round(u,4)"
     ],
     "language": "python",
     "metadata": {},
     "outputs": [
      {
       "output_type": "stream",
       "stream": "stdout",
       "text": [
        "(i) The refracting angle of the prism is 60 Degree\n",
        "(ii) The refractive index of the material is 1.6485\n"
       ]
      }
     ],
     "prompt_number": 30
    },
    {
     "cell_type": "heading",
     "level": 2,
     "metadata": {},
     "source": [
      "Example 18.3 Page no 987"
     ]
    },
    {
     "cell_type": "code",
     "collapsed": false,
     "input": [
      "#Given\n",
      "i1=48                         #Degree\n",
      "A=60                          #Degree\n",
      "\n",
      "#Calculation\n",
      "import math\n",
      "r=A/2.0\n",
      "u=math.sin(i1*3.14/180.0)/math.sin(r*3.14/180.0)\n",
      "\n",
      "#Result\n",
      "print\"Refractive index of the material is\", round(u,2)"
     ],
     "language": "python",
     "metadata": {},
     "outputs": [
      {
       "output_type": "stream",
       "stream": "stdout",
       "text": [
        "Refractive index of the material is 1.49\n"
       ]
      }
     ],
     "prompt_number": 35
    },
    {
     "cell_type": "heading",
     "level": 2,
     "metadata": {},
     "source": [
      "Example 18.4 Page no 987"
     ]
    },
    {
     "cell_type": "code",
     "collapsed": false,
     "input": [
      "#Given\n",
      "a=2.0\n",
      "\n",
      "#Calculation\n",
      "import math\n",
      "a=math.sqrt(a)/a\n",
      "i=math.asin(a)*180/3.14\n",
      "\n",
      "#Result\n",
      "print\"Angle of incidence is\", round(i,0),\"Degree\""
     ],
     "language": "python",
     "metadata": {},
     "outputs": [
      {
       "output_type": "stream",
       "stream": "stdout",
       "text": [
        "Angle of incidence is 45.0 Degree\n"
       ]
      }
     ],
     "prompt_number": 42
    },
    {
     "cell_type": "heading",
     "level": 2,
     "metadata": {},
     "source": [
      "Example 18.5 Page no 987"
     ]
    },
    {
     "cell_type": "code",
     "collapsed": false,
     "input": [
      "#Given\n",
      "u=1.5\n",
      "a=6                          #Degree\n",
      "\n",
      "#Calculation\n",
      "A=a/(u-1)\n",
      "\n",
      "#Result\n",
      "print\"Angle of the prism is\", A,\"Degree\""
     ],
     "language": "python",
     "metadata": {},
     "outputs": [
      {
       "output_type": "stream",
       "stream": "stdout",
       "text": [
        "Angle of the prism is 12.0 Degree\n"
       ]
      }
     ],
     "prompt_number": 45
    },
    {
     "cell_type": "heading",
     "level": 2,
     "metadata": {},
     "source": [
      "Example 18.6 Page no 987"
     ]
    },
    {
     "cell_type": "code",
     "collapsed": false,
     "input": [
      "#Given\n",
      "ug=1.5\n",
      "r1=30                      #Degree\n",
      "ua=1.0\n",
      "A=60                       #Degree\n",
      "A1=90                     #Degree\n",
      "\n",
      "#Calculation\n",
      "sin=(ug*math.sin(r1*3.14/180.0))/ua\n",
      "i1=math.asin(sin)*180/3.14\n",
      "a=(2*i1)-A\n",
      "sin1=1/ug\n",
      "r1=math.asin(sin1)*180/3.14\n",
      "r2=A-r1\n",
      "sin2=(ug*math.sin(r2*3.14/180.0))\n",
      "i2=math.asin(sin2)*180/3.14\n",
      "A3=A1+i2-A\n",
      "\n",
      "#Result\n",
      "print\"(i) The angle of incidence for minimum deviation is\", round(i1,0),\"Degree\"\n",
      "print\"(ii) The angle of minimum deviation is\", round(a,0)\n",
      "print\"(iii) The angle of emergence of light at maximum deviation is\", round(i2,0),\"Degree\"\n",
      "print\"(iv) Angle of maximum deviation is\", round(A3,0)"
     ],
     "language": "python",
     "metadata": {},
     "outputs": [
      {
       "output_type": "stream",
       "stream": "stdout",
       "text": [
        "(i) The angle of incidence for minimum deviation is 49.0 Degree\n",
        "(ii) The angle of minimum deviation is 37.0\n",
        "(iii) The angle of emergence of light at maximum deviation is 28.0 Degree\n",
        "(iv) Angle of maximum deviation is 58.0\n"
       ]
      }
     ],
     "prompt_number": 68
    },
    {
     "cell_type": "heading",
     "level": 2,
     "metadata": {},
     "source": [
      "Example 18.7 Page no 991"
     ]
    },
    {
     "cell_type": "code",
     "collapsed": false,
     "input": [
      "#Given\n",
      "uv=1.68\n",
      "ur=1.56\n",
      "A=18                         #degree\n",
      "\n",
      "#Calculation\n",
      "A1=A*(uv-ur)\n",
      "\n",
      "#Result\n",
      "print\"Angular dispersion is\", A1,\"Degree\""
     ],
     "language": "python",
     "metadata": {},
     "outputs": [
      {
       "output_type": "stream",
       "stream": "stdout",
       "text": [
        "Angular dispersion is 2.16 Degree\n"
       ]
      }
     ],
     "prompt_number": 71
    },
    {
     "cell_type": "heading",
     "level": 2,
     "metadata": {},
     "source": [
      "Example 18.8 Page no 991"
     ]
    },
    {
     "cell_type": "code",
     "collapsed": false,
     "input": [
      "#Given\n",
      "av=3.32                              #Degree\n",
      "ar=3.22                              #Degree\n",
      "a=3.27                               #Degree\n",
      "\n",
      "#Calculation\n",
      "w=(av-ar)/a\n",
      "\n",
      "#Result\n",
      "print\"Dispersive power of the flint glass is\", round(w,4)"
     ],
     "language": "python",
     "metadata": {},
     "outputs": [
      {
       "output_type": "stream",
       "stream": "stdout",
       "text": [
        "Dispersive power of the flint glass is 0.0306\n"
       ]
      }
     ],
     "prompt_number": 74
    },
    {
     "cell_type": "heading",
     "level": 2,
     "metadata": {},
     "source": [
      "Example 18.9 Page no 991"
     ]
    },
    {
     "cell_type": "code",
     "collapsed": false,
     "input": [
      "#Given\n",
      "ur=1.5155\n",
      "uv=1.5245\n",
      "\n",
      "#Calculation\n",
      "u=(ur+uv)/2.0\n",
      "w=(uv-ur)/(u-1)\n",
      "\n",
      "#Result\n",
      "print\"Dispersive power of the crown glass is\", round(w,4)"
     ],
     "language": "python",
     "metadata": {},
     "outputs": [
      {
       "output_type": "stream",
       "stream": "stdout",
       "text": [
        "Dispersive power of the crown glass is 0.0173\n"
       ]
      }
     ],
     "prompt_number": 79
    },
    {
     "cell_type": "heading",
     "level": 2,
     "metadata": {},
     "source": [
      "Example 18.10 Page no 991"
     ]
    },
    {
     "cell_type": "code",
     "collapsed": false,
     "input": [
      "#given\n",
      "w=0.031\n",
      "ur=1.645\n",
      "ub=1.665\n",
      "\n",
      "#Calculation\n",
      "u=1+((ub-ur))/w\n",
      "\n",
      "#Result\n",
      "print\"Refrective index for yellow colour is\", round(u,3)"
     ],
     "language": "python",
     "metadata": {},
     "outputs": [
      {
       "output_type": "stream",
       "stream": "stdout",
       "text": [
        "Refrective index for yellow colour is 1.645\n"
       ]
      }
     ],
     "prompt_number": 83
    },
    {
     "cell_type": "heading",
     "level": 2,
     "metadata": {},
     "source": [
      "Example 18.11 Page no 992"
     ]
    },
    {
     "cell_type": "code",
     "collapsed": false,
     "input": [
      "#Given\n",
      "A=5                          #Degree\n",
      "uv=1.523\n",
      "ur=1.515\n",
      "uv1=1.688\n",
      "ur1=1.650\n",
      "\n",
      "#Calculation\n",
      "u=(uv+ur)/2.0\n",
      "u1=(uv1+ur1)/2.0\n",
      "A1=-((u-1)*A)/(u1-1)\n",
      "\n",
      "#Result\n",
      "print\"Angle of flint line is\",round(A1,2),\"degree\""
     ],
     "language": "python",
     "metadata": {},
     "outputs": [
      {
       "output_type": "stream",
       "stream": "stdout",
       "text": [
        "Angle of flint line is -3.88 degree\n"
       ]
      }
     ],
     "prompt_number": 91
    },
    {
     "cell_type": "heading",
     "level": 2,
     "metadata": {},
     "source": [
      "Example 18.12 Page no 992"
     ]
    },
    {
     "cell_type": "code",
     "collapsed": false,
     "input": [
      "#Given\n",
      "w=0.021\n",
      "u=1.53\n",
      "w1=0.045\n",
      "u1=1.65\n",
      "A1=4.20                        #Degree\n",
      "\n",
      "#Calculation\n",
      "A=-(w1*A1*(u1-1))/(w*(u-1))\n",
      "\n",
      "#Result\n",
      "print\"Angle of the prism is\", round(A,2),\"Degree\""
     ],
     "language": "python",
     "metadata": {},
     "outputs": [
      {
       "output_type": "stream",
       "stream": "stdout",
       "text": [
        "Angle of the prism is -11.04 Degree\n"
       ]
      }
     ],
     "prompt_number": 95
    },
    {
     "cell_type": "heading",
     "level": 2,
     "metadata": {},
     "source": [
      "Example 18.13 Page no 992"
     ]
    },
    {
     "cell_type": "code",
     "collapsed": false,
     "input": [
      "#Given\n",
      "A=72                          #Degree\n",
      "ab=56.4                       #Degree\n",
      "ar=53                          #Degree\n",
      "ay=54.6                        #Degree\n",
      "az=54\n",
      "A11=60                         #Degree\n",
      "ab1=52.8                       \n",
      "A12=50.6\n",
      "A13=51.9\n",
      "\n",
      "#Calculation\n",
      "import math\n",
      "A1=(A+ay)/2.0\n",
      "A2=A/2.0\n",
      "ub=(math.sin(A1*3.14/180.0))/(math.sin(A2*3.14/180.0))\n",
      "A3=(A+ar)/2.0\n",
      "ur=(math.sin(A3*3.14/180.0))/(math.sin(A2*3.14/180.0))\n",
      "A4=(A+az)/2.0\n",
      "uy=(math.sin(A4*3.14/180.0))/(math.sin(A2*3.14/180.0))\n",
      "w=(ub-ur)/(uy-1)\n",
      "\n",
      "#For flint glass prism\n",
      "A5=(A11+ab1)/2.0\n",
      "A51=A11/2.0\n",
      "ub1=(math.sin(A5*3.14/180.0))/(math.sin(A51*3.14/180.0))\n",
      "A6=(A11+A12)/2.0\n",
      "ur1=(math.sin(A6*3.14/180.0))/(math.sin(A51*3.14/180.0))\n",
      "A7=(A11+A13)/2.0\n",
      "uy1=(math.sin(A7*3.14/180.0))/(math.sin(A51*3.14/180.0))\n",
      "w1=(ub1-ur1)/(uy1-1)\n",
      "w2=w/w1\n",
      "\n",
      "#Result\n",
      "print\"The ratio of dispersive power of crown glass and flint glass prism is\", round(w2,3)"
     ],
     "language": "python",
     "metadata": {},
     "outputs": [
      {
       "output_type": "stream",
       "stream": "stdout",
       "text": [
        "The ratio of dispersive power of crown glass and flint glass prism is 0.64\n"
       ]
      }
     ],
     "prompt_number": 122
    }
   ],
   "metadata": {}
  }
 ]
}