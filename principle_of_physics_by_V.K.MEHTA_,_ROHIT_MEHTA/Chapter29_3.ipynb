{
 "metadata": {
  "name": "",
  "signature": "sha256:8b87017ad47964520c2ead85c01092623a6e1bffcb1688b462701d086beba4f8"
 },
 "nbformat": 3,
 "nbformat_minor": 0,
 "worksheets": [
  {
   "cells": [
    {
     "cell_type": "heading",
     "level": 1,
     "metadata": {},
     "source": [
      "Chapter29 Communication System"
     ]
    },
    {
     "cell_type": "heading",
     "level": 2,
     "metadata": {},
     "source": [
      "Example 29.1 page no 1550"
     ]
    },
    {
     "cell_type": "code",
     "collapsed": false,
     "input": [
      "c=3*10**8\n",
      "f=30.0*10**6\n",
      "f1=300*10**6\n",
      "f2=3000*10**6\n",
      "\n",
      "#Calculation\n",
      "l=c/f\n",
      "l1=l/2.0\n",
      "l2=c/f1\n",
      "l3=l2/2.0\n",
      "l4=c/f2\n",
      "l5=l4/2.0\n",
      "\n",
      "#Result\n",
      "print\"(i) length of half wave dipole antenna at 30 MHz is\",l1,\"m\"\n",
      "print\"(ii) length of half wave dipole antenna at 300 MHz is\",l3,\"m\"\n",
      "print\"(iii) length of half wave dipole antenna at 3000 MHz is\",15,\"m\""
     ],
     "language": "python",
     "metadata": {},
     "outputs": [
      {
       "output_type": "stream",
       "stream": "stdout",
       "text": [
        "(i) length of half wave dipole antenna at 30 MHz is 5.0 m\n",
        "(ii) length of half wave dipole antenna at 300 MHz is 0.5 m\n",
        "(iii) length of half wave dipole antenna at 3000 MHz is 15 m\n"
       ]
      }
     ],
     "prompt_number": 4
    },
    {
     "cell_type": "heading",
     "level": 2,
     "metadata": {},
     "source": [
      "Example 29.2 page no 1550"
     ]
    },
    {
     "cell_type": "code",
     "collapsed": false,
     "input": [
      "#Given\n",
      "c=3*10**8                       #m/s\n",
      "f=3*10**4\n",
      "f1=6*10**6\n",
      "f2=5*10**7\n",
      "\n",
      "#Calculation\n",
      "l=c/(4.0*f)\n",
      "l1=c/(4.0*f1)\n",
      "l2=c/(4.0*f2)\n",
      "\n",
      "#Result \n",
      "print\"(i) length of quarter wave dipole antenna at 3*10**4 is\",l,\"m\"\n",
      "print\"(ii) length of quarter wave dipole antenna at 6*10**6 is\",l1,\"m\"\n",
      "print\"(iii) length of quarter wave dipole antena at 5*10**7 is\",l2,\"m\""
     ],
     "language": "python",
     "metadata": {},
     "outputs": [
      {
       "output_type": "stream",
       "stream": "stdout",
       "text": [
        "(i) length of quarter wave dipole antenna at 3*10**4 is 2500.0 m\n",
        "(ii) length of quarter wave dipole antenna at 6*10**6 is 12.5 m\n",
        "(iii) length of quarter wave dipole antena at 5*10**7 is 1.5 m\n"
       ]
      }
     ],
     "prompt_number": 8
    },
    {
     "cell_type": "heading",
     "level": 2,
     "metadata": {},
     "source": [
      "Example 29.3 page no 1551"
     ]
    },
    {
     "cell_type": "code",
     "collapsed": false,
     "input": [
      "#Given\n",
      "AM=16                        #mV\n",
      "AM1=4                        #mV\n",
      "\n",
      "#Calculation\n",
      "Vmax=AM/2.0\n",
      "Vmin=AM1/2.0\n",
      "Ma=(Vmax-Vmin)/(Vmax+Vmin)\n",
      "\n",
      "#Result\n",
      "print\" The modulation factor is\",Ma"
     ],
     "language": "python",
     "metadata": {},
     "outputs": [
      {
       "output_type": "stream",
       "stream": "stdout",
       "text": [
        " The modulation factor is 0.6\n"
       ]
      }
     ],
     "prompt_number": 25
    },
    {
     "cell_type": "heading",
     "level": 2,
     "metadata": {},
     "source": [
      "Example 29.4 page no 1551"
     ]
    },
    {
     "cell_type": "code",
     "collapsed": false,
     "input": [
      "#Given\n",
      "Es=50               #V\n",
      "Ec=100.0            #V\n",
      "\n",
      "#Calculation\n",
      "Ma=Es/Ec\n",
      "\n",
      "#Result\n",
      "print\"The modulation factor\",Ma"
     ],
     "language": "python",
     "metadata": {},
     "outputs": [
      {
       "output_type": "stream",
       "stream": "stdout",
       "text": [
        "The modulation factor 0.5\n"
       ]
      }
     ],
     "prompt_number": 28
    },
    {
     "cell_type": "heading",
     "level": 2,
     "metadata": {},
     "source": [
      "Example 29.6 page no 1552"
     ]
    },
    {
     "cell_type": "code",
     "collapsed": false,
     "input": [
      "#Given\n",
      "Pc=500               #watts\n",
      "\n",
      "#Calculation\n",
      "Ps=(1/2.0)*(Pc)\n",
      "Pt=Pc+Ps\n",
      "\n",
      "#Result\n",
      "print\"(i) sideband power is\",Ps,\"W\"\n",
      "print\"(ii) power of AM wave is\",Pt,\"W\""
     ],
     "language": "python",
     "metadata": {},
     "outputs": [
      {
       "output_type": "stream",
       "stream": "stdout",
       "text": [
        "(i) sideband power is 250.0 W\n",
        "(ii) power of AM wave is 750.0 W\n"
       ]
      }
     ],
     "prompt_number": 36
    },
    {
     "cell_type": "heading",
     "level": 2,
     "metadata": {},
     "source": [
      "Example 29.7 page no 1552"
     ]
    },
    {
     "cell_type": "code",
     "collapsed": false,
     "input": [
      "#Given\n",
      "Pc=50\n",
      "Ma=0.8\n",
      "Ma1=0.1\n",
      "\n",
      "#Calculation\n",
      "Ps=(1/2.0)*Ma**2*Pc\n",
      "Ps1=(1/2.0)*Ma1**2*Pc\n",
      "\n",
      "#Result\n",
      "print\"total sideband at 80% is\",Ps,\"KW\"\n",
      "print\"total sideband at 10% is\",Ps1,\"KW\""
     ],
     "language": "python",
     "metadata": {},
     "outputs": [
      {
       "output_type": "stream",
       "stream": "stdout",
       "text": [
        "total sideband at 80% is 16.0 KW\n",
        "total sideband at 10% is 0.25 KW\n"
       ]
      }
     ],
     "prompt_number": 42
    },
    {
     "cell_type": "heading",
     "level": 2,
     "metadata": {},
     "source": [
      "Example 29.8 page no 1552"
     ]
    },
    {
     "cell_type": "code",
     "collapsed": false,
     "input": [
      "#Given\n",
      "Fc=500                   #KHz\n",
      "Fs=1                     #KHz\n",
      "\n",
      "#Calculation\n",
      "A1=Fc+Fs\n",
      "A2=Fc-Fs\n",
      "B=A1-A2\n",
      "\n",
      "#Result\n",
      "print\"sideband frequancies are\",A1,\"KHz and\",A2,\"KHz\"\n",
      "print\"bandwidth required is\",B,\"KHz\""
     ],
     "language": "python",
     "metadata": {},
     "outputs": [
      {
       "output_type": "stream",
       "stream": "stdout",
       "text": [
        "sideband frequancies are 501 KHz and 499 KHz\n",
        "bandwidth required is 2 KHz\n"
       ]
      }
     ],
     "prompt_number": 47
    },
    {
     "cell_type": "heading",
     "level": 2,
     "metadata": {},
     "source": [
      "Example 29.9 page no 1552"
     ]
    },
    {
     "cell_type": "code",
     "collapsed": false,
     "input": [
      "#Given\n",
      "F=10**10                #Hz\n",
      "D=8*10**3               #Hz\n",
      "\n",
      "#Calculation\n",
      "B=2/100.0*10**10\n",
      "C=B/D\n",
      "\n",
      "#Result\n",
      "print\"No. of telephones channels are\",C*10**-4,\"10**4\""
     ],
     "language": "python",
     "metadata": {},
     "outputs": [
      {
       "output_type": "stream",
       "stream": "stdout",
       "text": [
        "No. of telephones channels are 2.5 10**4\n"
       ]
      }
     ],
     "prompt_number": 56
    },
    {
     "cell_type": "heading",
     "level": 2,
     "metadata": {},
     "source": [
      "Example 20.10 page no 1553"
     ]
    },
    {
     "cell_type": "code",
     "collapsed": false,
     "input": [
      "#Given\n",
      "L=800.0*10**-7\n",
      "C=3.0*10**8\n",
      "f1=4.5*10**6                       #Hz\n",
      "\n",
      "#Calculation\n",
      "f=C/L\n",
      "d=(1/100.0)*f\n",
      "E=d/L\n",
      "G=d/f1\n",
      "\n",
      "#Result\n",
      "print\"(i) number of channels for audio signal is\",round(E*10**-14,1),\"*10**8\"\n",
      "print\"(ii) number of channels for video tv signal is\",round(G*10**-3,1),\"*10**5\""
     ],
     "language": "python",
     "metadata": {},
     "outputs": [
      {
       "output_type": "stream",
       "stream": "stdout",
       "text": [
        "(i) number of channels for audio signal is 4.7 *10**8\n",
        "(ii) number of channels for video tv signal is 8.3 *10**5\n"
       ]
      }
     ],
     "prompt_number": 80
    },
    {
     "cell_type": "heading",
     "level": 2,
     "metadata": {},
     "source": [
      "Example 20.11 Page no 1565"
     ]
    },
    {
     "cell_type": "code",
     "collapsed": false,
     "input": [
      "#Given\n",
      "R=6400*10**3                     #m\n",
      "h=160\n",
      "\n",
      "#Calculation\n",
      "import math\n",
      "d=math.sqrt(2*R*h)\n",
      "h2=4*h\n",
      "\n",
      "#Result\n",
      "print\"Height is\", h2,\"m\""
     ],
     "language": "python",
     "metadata": {},
     "outputs": [
      {
       "output_type": "stream",
       "stream": "stdout",
       "text": [
        "Height is 640 m\n"
       ]
      }
     ],
     "prompt_number": 85
    },
    {
     "cell_type": "heading",
     "level": 2,
     "metadata": {},
     "source": [
      "Example 20.12 Page no 1565"
     ]
    },
    {
     "cell_type": "code",
     "collapsed": false,
     "input": [
      "#Given\n",
      "R=6.4*10**6                         #m\n",
      "h=110\n",
      "\n",
      "#Calculation \n",
      "import math\n",
      "d=(math.sqrt(2*R*h))*10**-3\n",
      "P=math.pi*d**2\n",
      "\n",
      "#Result\n",
      "print\"Population covered is\", round(P*10**-3,1),\"*10**6\""
     ],
     "language": "python",
     "metadata": {},
     "outputs": [
      {
       "output_type": "stream",
       "stream": "stdout",
       "text": [
        "Population covered is 4.4 *10**6\n"
       ]
      }
     ],
     "prompt_number": 93
    },
    {
     "cell_type": "heading",
     "level": 2,
     "metadata": {},
     "source": [
      "Example 20.13 Page no 1565"
     ]
    },
    {
     "cell_type": "code",
     "collapsed": false,
     "input": [
      "#Given\n",
      "R=6.4*10**6                  #m\n",
      "hr=50                        #m\n",
      "ht=32                       #m\n",
      "\n",
      "#Calculation\n",
      "import math\n",
      "d=math.sqrt(2*R*ht)+math.sqrt(2*R*hr)\n",
      "\n",
      "#Result\n",
      "print\"Maximum distance is\", round(d*10**-3,1),\"Km\""
     ],
     "language": "python",
     "metadata": {},
     "outputs": [
      {
       "output_type": "stream",
       "stream": "stdout",
       "text": [
        "Maximum distance is 45.5 Km\n"
       ]
      }
     ],
     "prompt_number": 99
    },
    {
     "cell_type": "heading",
     "level": 2,
     "metadata": {},
     "source": [
      "Example 29.14 Page no 1566"
     ]
    },
    {
     "cell_type": "code",
     "collapsed": false,
     "input": [
      "#Given\n",
      "h=300\n",
      "R=6.4*10**6                       #m\n",
      "N=10**12\n",
      "\n",
      "#Calculation\n",
      "import math\n",
      "d=math.sqrt(2*R*h)\n",
      "fc=9*N**0.5\n",
      "\n",
      "#Result\n",
      "print\"fc=\", fc*10**-6,\"MHz\"\n",
      "print\"5 MHz comes via ionospheric propogation.and 100 MHz signal comes via satellite transmission.\""
     ],
     "language": "python",
     "metadata": {},
     "outputs": [
      {
       "output_type": "stream",
       "stream": "stdout",
       "text": [
        "fc= 9.0 MHz\n",
        "5 MHz comes via ionospheric propogation.and 100 MHz signal comes via satellite transmission.\n"
       ]
      }
     ],
     "prompt_number": 107
    }
   ],
   "metadata": {}
  }
 ]
}