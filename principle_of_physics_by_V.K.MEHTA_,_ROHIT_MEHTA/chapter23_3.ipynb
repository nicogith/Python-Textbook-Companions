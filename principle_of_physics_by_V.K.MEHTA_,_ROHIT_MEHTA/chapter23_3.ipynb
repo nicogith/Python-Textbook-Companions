{
 "metadata": {
  "name": "",
  "signature": "sha256:38e55bd383948f67d919af3879ad291116d41c75f201f86aa7c1c2e80cc59941"
 },
 "nbformat": 3,
 "nbformat_minor": 0,
 "worksheets": [
  {
   "cells": [
    {
     "cell_type": "heading",
     "level": 1,
     "metadata": {},
     "source": [
      "Cahpter 23 Dual nature of radiation and matter"
     ]
    },
    {
     "cell_type": "heading",
     "level": 2,
     "metadata": {},
     "source": [
      "Example 23.1 Page no 1200"
     ]
    },
    {
     "cell_type": "code",
     "collapsed": false,
     "input": [
      "#Given\n",
      "h=6.62*10**-34                                     #J\n",
      "c=3*10**8                                           #m/s\n",
      "l=4.0*10**-7                                           #m\n",
      "\n",
      "#Calculation\n",
      "E=((h*c)/l)/1.6*10**-19\n",
      "p=h/l\n",
      "\n",
      "#Result\n",
      "print\"Value of energy is\", round(E*10**38,1),\"ev\"\n",
      "print\"Momentum of photon is\",p,\"kg m/s\""
     ],
     "language": "python",
     "metadata": {},
     "outputs": [
      {
       "output_type": "stream",
       "stream": "stdout",
       "text": [
        "Value of energy is 3.1 ev\n",
        "Momentum of photon is 1.655e-27 kg m/s\n"
       ]
      }
     ],
     "prompt_number": 10
    },
    {
     "cell_type": "heading",
     "level": 2,
     "metadata": {},
     "source": [
      "Example 23.2 Page no 1200"
     ]
    },
    {
     "cell_type": "code",
     "collapsed": false,
     "input": [
      "#Given\n",
      "E=75*1.6*10**-19                           #J\n",
      "h=6.62*10**-34                             #J s\n",
      "\n",
      "#Calculation\n",
      "f=E/h\n",
      "l=(12400/E)*1.6*10**-19\n",
      "f=c/(l*10**10)\n",
      "\n",
      "#Result\n",
      "print\"Frequency of the photon is\", round(f*10**5,0)*10**15,\"Hz\""
     ],
     "language": "python",
     "metadata": {},
     "outputs": [
      {
       "output_type": "stream",
       "stream": "stdout",
       "text": [
        "Frequency of the photon is 1.8e+16 Hz\n"
       ]
      }
     ],
     "prompt_number": 31
    },
    {
     "cell_type": "heading",
     "level": 2,
     "metadata": {},
     "source": [
      "Example 23.3 Page no 1200"
     ]
    },
    {
     "cell_type": "code",
     "collapsed": false,
     "input": [
      "#Given\n",
      "h=6.62*10**-34                           #Js\n",
      "f=880*10**3                              #Hz\n",
      "E1=10*10**3\n",
      "\n",
      "#Calculation\n",
      "E=h*f\n",
      "n=E1/E\n",
      "\n",
      "#Result\n",
      "print\"Number of photons emitted per second is\", round(n*10**-31,3)*10**31"
     ],
     "language": "python",
     "metadata": {},
     "outputs": [
      {
       "output_type": "stream",
       "stream": "stdout",
       "text": [
        "Number of photons emitted per second is 1.717e+31\n"
       ]
      }
     ],
     "prompt_number": 38
    },
    {
     "cell_type": "heading",
     "level": 2,
     "metadata": {},
     "source": [
      "Example 23.4 Page no 1200"
     ]
    },
    {
     "cell_type": "code",
     "collapsed": false,
     "input": [
      "#Given\n",
      "w=1.8\n",
      "h=6.63*10**-34\n",
      "l=5000*10**-10\n",
      "m=9.0*10**-31\n",
      "\n",
      "#Calculation\n",
      "import math\n",
      "W=12400/w\n",
      "h1=(((h*c)/l)-(w*1.6*10**-19))\n",
      "h2=h1/1.6*10**-19\n",
      "vmax=math.sqrt((2*h1)/m)\n",
      "\n",
      "#Result\n",
      "print\"(i) Threshold wavelength is\",round(W,0),\"A\"\n",
      "print\"(ii) Maximum K.E of emitted photoelectrons is\", round(h2*10**38,3),\"ev\"\n",
      "print\"(iii) Maximum velocity is\",round(vmax*10**-5,0),\"*10**5 m/s\"\n",
      "print\"(iv) If the intensity of light is doubled, K.E of emitted electrons will remain unchanged\""
     ],
     "language": "python",
     "metadata": {},
     "outputs": [
      {
       "output_type": "stream",
       "stream": "stdout",
       "text": [
        "(i) Threshold wavelength is 6889.0 A\n",
        "(ii) Maximum K.E of emitted photoelectrons is 0.686 ev\n",
        "(iii) Maximum velocity is 5.0 *10**5 m/s\n",
        "(iv) If the intensity of light is doubled, K.E of emitted electrons will remain unchanged\n"
       ]
      }
     ],
     "prompt_number": 65
    },
    {
     "cell_type": "heading",
     "level": 2,
     "metadata": {},
     "source": [
      "Example 23.5 Page no 1201"
     ]
    },
    {
     "cell_type": "code",
     "collapsed": false,
     "input": [
      "#Given\n",
      "A=2*10**-4\n",
      "I=30*10**-2\n",
      "t=1\n",
      "E=6.62*10**-19\n",
      "\n",
      "#Calculation\n",
      "n=(I*A)/E\n",
      "\n",
      "#Result\n",
      "print\"Rate at which photons strike the surface is\",round(n*10**-13,2)*10**13,\"photons/s\""
     ],
     "language": "python",
     "metadata": {},
     "outputs": [
      {
       "output_type": "stream",
       "stream": "stdout",
       "text": [
        "Rate at which photons strike the surface is 9.06e+13 photons/s\n"
       ]
      }
     ],
     "prompt_number": 71
    },
    {
     "cell_type": "heading",
     "level": 2,
     "metadata": {},
     "source": [
      "Example 23.6 Page no 1201"
     ]
    },
    {
     "cell_type": "code",
     "collapsed": false,
     "input": [
      "#Given\n",
      "h=6.62*10**-34                    #Js\n",
      "c=3*10**8\n",
      "l=4500*10**-10                     #m\n",
      "w=2.3\n",
      "\n",
      "#Calculation\n",
      "E=(h*c)/l\n",
      "E1=(E/1.6*10**-19)*10**38\n",
      "K=E1-w\n",
      "f0=(w*1.6*10**-19)/h\n",
      "p=h/l\n",
      "\n",
      "#Result\n",
      "print\"(i) The energy of photon is\", round(E1,1),\"ev\"\n",
      "print\"(ii) The maximum kinetic energy of emitted electrons is\",round(K,1),\"ev\"\n",
      "print\"(iii) Threshold frequency for sodium is\",round(f0*10**-14,1)*10**14,\"Hz\"\n",
      "print\"(iv) Momentum of a photon is\",round(p*10**27,1)*10**-27,\"Kg m/s\""
     ],
     "language": "python",
     "metadata": {},
     "outputs": [
      {
       "output_type": "stream",
       "stream": "stdout",
       "text": [
        "(i) The energy of photon is 2.8 ev\n",
        "(ii) The maximum kinetic energy of emitted electrons is 0.5 ev\n",
        "(iii) Threshold frequency for sodium is 5.6e+14 Hz\n",
        "(iv) Momentum of a photon is 1.5e-27 Kg m/s\n"
       ]
      }
     ],
     "prompt_number": 100
    },
    {
     "cell_type": "heading",
     "level": 2,
     "metadata": {},
     "source": [
      "Example 23.7 Page no 1202"
     ]
    },
    {
     "cell_type": "code",
     "collapsed": false,
     "input": [
      "#Given\n",
      "l=36.0*10**-8              #m\n",
      "w0=2*1.6*10**-19             #J\n",
      "h=6.62*10**-34               #Js\n",
      "c=3*10**8\n",
      "e=1.6*10**-19\n",
      "m=9.0*10**-31\n",
      "\n",
      "#Calculation\n",
      "import math\n",
      "l0=(h*c)/w0\n",
      "E=(h*c)/l\n",
      "E1=(E/1.6*10**-19)*10**38\n",
      "K=E1-2\n",
      "v0=K\n",
      "vmax=math.sqrt(e*v0*2/m)\n",
      "\n",
      "#Result\n",
      "print\"(i) Threshold wavelength is\",round(l0*10**10,0),\"A\"\n",
      "print\"(ii) Maximum kinetic energy of emitted photoelectrons is\", round(K,3),\"ev\"\n",
      "print\"(iii) Stopping potential is\",round(v0,3),\"Volts\"\n",
      "print\"(iv) Velocity is \",round(vmax*10**-5,2),\"*10**5 m/s\""
     ],
     "language": "python",
     "metadata": {},
     "outputs": [
      {
       "output_type": "stream",
       "stream": "stdout",
       "text": [
        "(i) Threshold wavelength is 6206.0 A\n",
        "(ii) Maximum kinetic energy of emitted photoelectrons is 1.448 ev\n",
        "(iii) Stopping potential is 1.448 Volts\n",
        "(iv) Velocity is  7.18 *10**5 m/s\n"
       ]
      }
     ],
     "prompt_number": 16
    },
    {
     "cell_type": "heading",
     "level": 2,
     "metadata": {},
     "source": [
      "Example 23.8 Page no 1202"
     ]
    },
    {
     "cell_type": "code",
     "collapsed": false,
     "input": [
      "#Given\n",
      "h=6.62*10**-34\n",
      "c=3*10**8\n",
      "l0=24.8*10**-8\n",
      "a=1.2\n",
      "e=1.6*10**-19\n",
      "\n",
      "#Calculation\n",
      "w0=(h*c)/l0\n",
      "w01=(w0/1.6*10**-19)*10**38\n",
      "h1=w01+a\n",
      "C=h1*e\n",
      "l=(h*c)/C\n",
      "\n",
      "#Result\n",
      "print\"Wavelength of incident light is\", round(l*10**10,0),\"A\""
     ],
     "language": "python",
     "metadata": {},
     "outputs": [
      {
       "output_type": "stream",
       "stream": "stdout",
       "text": [
        "Wavelength of incident light is 2000.0 A\n"
       ]
      }
     ],
     "prompt_number": 13
    },
    {
     "cell_type": "heading",
     "level": 2,
     "metadata": {},
     "source": [
      "Example 23.9 Page no 1203"
     ]
    },
    {
     "cell_type": "code",
     "collapsed": false,
     "input": [
      "#Given\n",
      "v1=16.5\n",
      "V0=6.6                   #V\n",
      "f0=4.6*10**15                #Hz\n",
      "f=2.2*10**15                  #Hz\n",
      "\n",
      "#Calculation\n",
      "h=(e*(v1-V0))/((f0-f))\n",
      "\n",
      "#Result\n",
      "print\"Planck's constant is\", h"
     ],
     "language": "python",
     "metadata": {},
     "outputs": [
      {
       "output_type": "stream",
       "stream": "stdout",
       "text": [
        "Planck's constant is 6.6e-34\n"
       ]
      }
     ],
     "prompt_number": 15
    },
    {
     "cell_type": "heading",
     "level": 2,
     "metadata": {},
     "source": [
      "Example 23.10 Page no 1203"
     ]
    },
    {
     "cell_type": "code",
     "collapsed": false,
     "input": [
      "#Given\n",
      "h=6.62*10**-34\n",
      "f0=44*10**13                     #Hz\n",
      "a=11.5*10**14\n",
      "b=4.4*10**14\n",
      "e=1.6*10**-19\n",
      "\n",
      "#Calculation\n",
      "w0=((h*f0)/1.6*10**-19)*10**38\n",
      "h=3/(a-b)\n",
      "h1=h*e\n",
      "\n",
      "#Result\n",
      "print\"(i) Work function of the material is\", round(w0,2),\"ev\"\n",
      "print\"(ii) Plank's constant is\", round(h1*10**34,2)*10**-34"
     ],
     "language": "python",
     "metadata": {},
     "outputs": [
      {
       "output_type": "stream",
       "stream": "stdout",
       "text": [
        "(i) Work function of the material is 1.82 ev\n",
        "(ii) Plank's constant is 6.76e-34\n"
       ]
      }
     ],
     "prompt_number": 9
    },
    {
     "cell_type": "heading",
     "level": 2,
     "metadata": {},
     "source": [
      "Example 23.11 Page no 1204"
     ]
    },
    {
     "cell_type": "code",
     "collapsed": false,
     "input": [
      "#Given\n",
      "h=6.6*10**-34\n",
      "c=3*10**8\n",
      "l=2000*10**-10\n",
      "w0=4.2*1.6*10**-19\n",
      "e=1.6*10**-19\n",
      "\n",
      "#Calculation\n",
      "K=((h*c)/l)-w0\n",
      "v0=K/e\n",
      "l1=(h*c)/w0\n",
      "\n",
      "#Result\n",
      "print\"(i) Potential difference is\", v0,\"V\"\n",
      "print\"(ii) Wavelength of incident light is\", round(l1*10**10,0),\"A\""
     ],
     "language": "python",
     "metadata": {},
     "outputs": [
      {
       "output_type": "stream",
       "stream": "stdout",
       "text": [
        "(i) Potential difference is 1.9875 V\n",
        "(ii) Wavelength of incident light is 2946.0 A\n"
       ]
      }
     ],
     "prompt_number": 18
    },
    {
     "cell_type": "heading",
     "level": 2,
     "metadata": {},
     "source": [
      "Example 23.12 Page no 1204"
     ]
    },
    {
     "cell_type": "code",
     "collapsed": false,
     "input": [
      "#Given\n",
      "h=6.6*10**-34\n",
      "c=3*10**8\n",
      "w0=2.39*1.6*10**-19\n",
      "f1=4000.0                      #A\n",
      "f2=6000                      #A\n",
      "m=9.1*10**-31\n",
      "e=1.9*10**-19\n",
      "d=0.1\n",
      "\n",
      "#Calculation\n",
      "import math\n",
      "l=(h*c)/w0\n",
      "K=(12400/f1)-2.39\n",
      "vmax=math.sqrt((2*K*1.6*10**-19)/m)\n",
      "B=(m*vmax)/(e*d)\n",
      "\n",
      "#Result\n",
      "print\"Maximum value of B is\", round(B*10**5,2)*10**-5,\"T\""
     ],
     "language": "python",
     "metadata": {},
     "outputs": [
      {
       "output_type": "stream",
       "stream": "stdout",
       "text": [
        "Maximum value of B is 2.39e-05 T\n"
       ]
      }
     ],
     "prompt_number": 33
    },
    {
     "cell_type": "heading",
     "level": 2,
     "metadata": {},
     "source": [
      "Example 23.13 Page no 1204"
     ]
    },
    {
     "cell_type": "code",
     "collapsed": false,
     "input": [
      "#Given\n",
      "w0=4.4\n",
      "\n",
      "#Calculation\n",
      "l=12400/w0\n",
      "\n",
      "#Result\n",
      "print\"Wavelength of visible light is\", round(l,0),\"A\""
     ],
     "language": "python",
     "metadata": {},
     "outputs": [
      {
       "output_type": "stream",
       "stream": "stdout",
       "text": [
        "Wavelength of visible light is 2818.0 A\n"
       ]
      }
     ],
     "prompt_number": 39
    },
    {
     "cell_type": "heading",
     "level": 2,
     "metadata": {},
     "source": [
      "Example 23.14 Page no 1205"
     ]
    },
    {
     "cell_type": "code",
     "collapsed": false,
     "input": [
      "#Given\n",
      "h=6.625*10**-34\n",
      "c=3*10**8\n",
      "l=5600*10**-10\n",
      "a=5\n",
      "\n",
      "#Calculation\n",
      "E=(h*c)/l\n",
      "n=a/E\n",
      "\n",
      "#Result\n",
      "print\"Number of visible photons emitted per second is\", round(n*10**-19,2)*10**19"
     ],
     "language": "python",
     "metadata": {},
     "outputs": [
      {
       "output_type": "stream",
       "stream": "stdout",
       "text": [
        "Number of visible photons emitted per second is 1.41e+19\n"
       ]
      }
     ],
     "prompt_number": 45
    },
    {
     "cell_type": "heading",
     "level": 2,
     "metadata": {},
     "source": [
      "Example 23.15 Page no 1211"
     ]
    },
    {
     "cell_type": "code",
     "collapsed": false,
     "input": [
      "#Given\n",
      "v=100\n",
      "\n",
      "#Calculation\n",
      "import math\n",
      "l=12.27/math.sqrt(v)\n",
      "\n",
      "#Result\n",
      "print\"Wavelength of an electron is\", l,\"A\""
     ],
     "language": "python",
     "metadata": {},
     "outputs": [
      {
       "output_type": "stream",
       "stream": "stdout",
       "text": [
        "Wavelength of an electron is 1.227 A\n"
       ]
      }
     ],
     "prompt_number": 49
    },
    {
     "cell_type": "heading",
     "level": 2,
     "metadata": {},
     "source": [
      "Example 23.16 Page no 1212"
     ]
    },
    {
     "cell_type": "code",
     "collapsed": false,
     "input": [
      "#Given\n",
      "h=6.62*10**-34\n",
      "m=9*10**-31\n",
      "v=10**5\n",
      "mp=1.67*10**-27\n",
      "\n",
      "#Calculation\n",
      "l=h/(m*v)\n",
      "lp=h/(mp*v)\n",
      "\n",
      "#Result\n",
      "print\"De-Broglie wavelength of electrons is\", round(l*10**10,1)*10**-10,\"m\"\n",
      "print\"De-Broglie wavelength of protons is\",round(lp*10**10,4)*10**-10 ,\"m\""
     ],
     "language": "python",
     "metadata": {},
     "outputs": [
      {
       "output_type": "stream",
       "stream": "stdout",
       "text": [
        "De-Broglie wavelength of electrons is 7.36e-09 m\n",
        "De-Broglie wavelength of protons is 3.96e-12 m\n"
       ]
      }
     ],
     "prompt_number": 62
    },
    {
     "cell_type": "heading",
     "level": 2,
     "metadata": {},
     "source": [
      "Example 23.17 Page no 1212"
     ]
    },
    {
     "cell_type": "code",
     "collapsed": false,
     "input": [
      "#Given\n",
      "E=500*1.6*10**-19\n",
      "mp=1.67*10**-27\n",
      "\n",
      "#Calculation\n",
      "import math\n",
      "l=h/(math.sqrt(2*mp*E))\n",
      "\n",
      "#Result\n",
      "print\"De-Broglie wavelength is\", round(l*10**12,2)*10**-12,\"m\""
     ],
     "language": "python",
     "metadata": {},
     "outputs": [
      {
       "output_type": "stream",
       "stream": "stdout",
       "text": [
        "De-Broglie wavelength is 1.28e-12 m\n"
       ]
      }
     ],
     "prompt_number": 68
    },
    {
     "cell_type": "heading",
     "level": 2,
     "metadata": {},
     "source": [
      "Example 23.18 Page no 1212"
     ]
    },
    {
     "cell_type": "code",
     "collapsed": false,
     "input": [
      "#Given\n",
      "v=150.0\n",
      "mn=1.675*10**-27                     #Kg\n",
      "En=150*1.6*10**-19\n",
      "\n",
      "#Calculation\n",
      "import math\n",
      "le=12.27/math.sqrt(v)\n",
      "ln=h/math.sqrt(2*mn*En)\n",
      "\n",
      "#Result\n",
      "print\"(i) De-Broglie wavelength of electron is\",round(le,0),\"A\"\n",
      "print\"(ii) De-Broglie wavelength of neutron is\", round(ln*10**10,4),\"A\""
     ],
     "language": "python",
     "metadata": {},
     "outputs": [
      {
       "output_type": "stream",
       "stream": "stdout",
       "text": [
        "(i) De-Broglie wavelength of electron is 1.0 A\n",
        "(ii) De-Broglie wavelength of neutron is 0.0233 A\n"
       ]
      }
     ],
     "prompt_number": 78
    },
    {
     "cell_type": "heading",
     "level": 2,
     "metadata": {},
     "source": [
      "Example 23.19 Page no 1213"
     ]
    },
    {
     "cell_type": "code",
     "collapsed": false,
     "input": [
      "#Given\n",
      "l=2.0*10**-10                   #m\n",
      "h=6.62*10**-34\n",
      "\n",
      "#Calculation\n",
      "p=h/l\n",
      "\n",
      "#Result\n",
      "print\"Momentum of electrons is\", p,\"Kg m/s\""
     ],
     "language": "python",
     "metadata": {},
     "outputs": [
      {
       "output_type": "stream",
       "stream": "stdout",
       "text": [
        "Momentum of electrons is 3.31e-24 Kg m/s\n"
       ]
      }
     ],
     "prompt_number": 81
    },
    {
     "cell_type": "heading",
     "level": 2,
     "metadata": {},
     "source": [
      "Example 23.20 Page no 1213"
     ]
    },
    {
     "cell_type": "code",
     "collapsed": false,
     "input": [
      "#Given\n",
      "l=1.4*10**-10                #m\n",
      "h=6.63*10**-34\n",
      "l1=2.0*10**-10\n",
      "\n",
      "#Calculation\n",
      "E=h*c*(1/l-1/l1)\n",
      "\n",
      "#Result\n",
      "print\"Energy of the scattered electron is\", round(E*10**16,2)*10**-16,\"J\""
     ],
     "language": "python",
     "metadata": {},
     "outputs": [
      {
       "output_type": "stream",
       "stream": "stdout",
       "text": [
        "Energy of the scattered electron is 4.26e-16 J\n"
       ]
      }
     ],
     "prompt_number": 87
    },
    {
     "cell_type": "heading",
     "level": 2,
     "metadata": {},
     "source": [
      "Example 23.22 Page no 1213"
     ]
    },
    {
     "cell_type": "code",
     "collapsed": false,
     "input": [
      "#Given\n",
      "me=9.11*10**-31                     #Kg\n",
      "lp=1.813*10**-4\n",
      "vp=3\n",
      "\n",
      "#Calculation\n",
      "mp=me/(lp*vp)\n",
      "\n",
      "#Result\n",
      "print\"The particle's mass is\", round(mp*10**27,3)*10**-27,\"Kg. The particle is proton\""
     ],
     "language": "python",
     "metadata": {},
     "outputs": [
      {
       "output_type": "stream",
       "stream": "stdout",
       "text": [
        "The particle's mass is 1.675e-27 Kg. The particle is proton\n"
       ]
      }
     ],
     "prompt_number": 95
    },
    {
     "cell_type": "heading",
     "level": 2,
     "metadata": {},
     "source": [
      "Example 23.23 Page no 1214"
     ]
    },
    {
     "cell_type": "code",
     "collapsed": false,
     "input": [
      "#Given\n",
      "l=0.82*10**-10                    #m\n",
      "h=6.6*10**-34\n",
      "m=9.1*10**-31\n",
      "\n",
      "#Calculation\n",
      "import math\n",
      "le=math.sqrt((h*l)/(2*c*m))\n",
      "\n",
      "#Result\n",
      "print\"Wavelength associated with the photoelectrons is\", round(le*10**10,4),\"A\""
     ],
     "language": "python",
     "metadata": {},
     "outputs": [
      {
       "output_type": "stream",
       "stream": "stdout",
       "text": [
        "Wavelength associated with the photoelectrons is 0.0996 A\n"
       ]
      }
     ],
     "prompt_number": 103
    }
   ],
   "metadata": {}
  }
 ]
}