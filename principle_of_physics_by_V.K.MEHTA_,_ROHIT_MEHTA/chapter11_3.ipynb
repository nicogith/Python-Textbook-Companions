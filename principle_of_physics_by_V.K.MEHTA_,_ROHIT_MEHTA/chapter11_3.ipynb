{
 "metadata": {
  "name": "",
  "signature": "sha256:f9cf5cb53006209575af5d70cc318cffdaba99568e9075844fb3e2f1810bf06f"
 },
 "nbformat": 3,
 "nbformat_minor": 0,
 "worksheets": [
  {
   "cells": [
    {
     "cell_type": "heading",
     "level": 1,
     "metadata": {},
     "source": [
      "Chapter 11 Classification of magnetic materials"
     ]
    },
    {
     "cell_type": "heading",
     "level": 2,
     "metadata": {},
     "source": [
      "Example 11.1 Page no 614"
     ]
    },
    {
     "cell_type": "code",
     "collapsed": false,
     "input": [
      "#Given\n",
      "e=1.6*10**-19\n",
      "f=6.8*10**15\n",
      "n=1\n",
      "r=0.53*10**-10\n",
      "\n",
      "#Calculation\n",
      "import math\n",
      "I=e*f\n",
      "M=n*I*math.pi*r**2\n",
      "\n",
      "#Result\n",
      "print\"Equivalent magnetic moment is\", round(M*10**24,1)*10**-24,\"Am**2\""
     ],
     "language": "python",
     "metadata": {},
     "outputs": [
      {
       "output_type": "stream",
       "stream": "stdout",
       "text": [
        "Equivalent magnetic moment is 9.6e-24 Am**2\n"
       ]
      }
     ],
     "prompt_number": 7
    },
    {
     "cell_type": "heading",
     "level": 2,
     "metadata": {},
     "source": [
      "Example 11.2 Page no 615"
     ]
    },
    {
     "cell_type": "code",
     "collapsed": false,
     "input": [
      "#Given\n",
      "E=240\n",
      "R=474.0\n",
      "r=12.5*10**-2\n",
      "N=500\n",
      "ur=5000\n",
      "\n",
      "#Calculation\n",
      "import math\n",
      "I=E/R\n",
      "I1=2*math.pi*r\n",
      "H=(N*I)/I1\n",
      "u=4*math.pi*10**-7\n",
      "B=u*ur*H\n",
      "\n",
      "#Result\n",
      "print\"(i) The magnetising force is\", round(H,0),\"AT/m\"\n",
      "print\"(ii) The magnetic flux density is\",round(B,2),\"Wb/m**2\""
     ],
     "language": "python",
     "metadata": {},
     "outputs": [
      {
       "output_type": "stream",
       "stream": "stdout",
       "text": [
        "(i) The magnetising force is 322.0 AT/m\n",
        "(ii) The magnetic flux density is 2.03 Wb/m**2\n"
       ]
      }
     ],
     "prompt_number": 18
    },
    {
     "cell_type": "heading",
     "level": 2,
     "metadata": {},
     "source": [
      "Example 11.3 Page no 615"
     ]
    },
    {
     "cell_type": "code",
     "collapsed": false,
     "input": [
      "#Given\n",
      "r1=11\n",
      "r2=12\n",
      "B=2.5                     #T\n",
      "a=3000\n",
      "I=0.70                     #A\n",
      "\n",
      "#Calculation\n",
      "import math\n",
      "r=((r1+r2)/2.0)*10**-2\n",
      "n=a/(2*math.pi*r)\n",
      "ur=B*2*math.pi*r/(4*math.pi*10**-7*a*I)\n",
      "\n",
      "#Result\n",
      "print\"Relative permeability is\", round(ur,1)"
     ],
     "language": "python",
     "metadata": {},
     "outputs": [
      {
       "output_type": "stream",
       "stream": "stdout",
       "text": [
        "Relative permeability is 684.5\n"
       ]
      }
     ],
     "prompt_number": 24
    },
    {
     "cell_type": "heading",
     "level": 2,
     "metadata": {},
     "source": [
      "Example 11.4 Page no 616"
     ]
    },
    {
     "cell_type": "code",
     "collapsed": false,
     "input": [
      "#Given\n",
      "I=0.5                              #m\n",
      "N=500\n",
      "I1=0.15                              #A\n",
      "a=5000\n",
      "\n",
      "#Calculation\n",
      "import math\n",
      "H=(N*I1)/I\n",
      "B=4*math.pi*10**-7*H\n",
      "B1=B*a\n",
      "I3=(B1-(H*4*math.pi*10**-7))/(4.0*math.pi*10**-7)\n",
      "\n",
      "#Result\n",
      "print round(I3*10**-5,1),\"*10**5 A/m\""
     ],
     "language": "python",
     "metadata": {},
     "outputs": [
      {
       "output_type": "stream",
       "stream": "stdout",
       "text": [
        "7.5 *10**5 A/m\n"
       ]
      }
     ],
     "prompt_number": 35
    },
    {
     "cell_type": "heading",
     "level": 2,
     "metadata": {},
     "source": [
      "Example 11.5 Page no 616"
     ]
    },
    {
     "cell_type": "code",
     "collapsed": false,
     "input": [
      "#Given\n",
      "B=0.6\n",
      "H=360.0\n",
      "\n",
      "#Calculation\n",
      "u=B/H\n",
      "x=(u-1*4*math.pi*10**-7)/(4.0*math.pi*10**-7)\n",
      "\n",
      "#Result\n",
      "print\"(i) Permeability is\",round(u*10**3,2),\"*10**-3 T/A m\"\n",
      "print\"(ii) Susceptibility of the material is\",round(x,0)"
     ],
     "language": "python",
     "metadata": {},
     "outputs": [
      {
       "output_type": "stream",
       "stream": "stdout",
       "text": [
        "(i) Permeability is 1.67 *10**-3 T/A m\n",
        "(ii) Susceptibility of the material is 1325.0\n"
       ]
      }
     ],
     "prompt_number": 46
    },
    {
     "cell_type": "heading",
     "level": 2,
     "metadata": {},
     "source": [
      "Example 11.6 Page no 616"
     ]
    },
    {
     "cell_type": "code",
     "collapsed": false,
     "input": [
      "#Given\n",
      "M=8.0*10**22                  #Am**2\n",
      "R=64*10**5                    #m\n",
      "\n",
      "#Calculation\n",
      "import math\n",
      "I=(3*M)/(4.0*math.pi*R**3)\n",
      "\n",
      "#Result\n",
      "print\"Earth's magnetisation is\", round(I,1),\"A/m\""
     ],
     "language": "python",
     "metadata": {},
     "outputs": [
      {
       "output_type": "stream",
       "stream": "stdout",
       "text": [
        "Earth's magnetisation is 72.9 A/m\n"
       ]
      }
     ],
     "prompt_number": 52
    },
    {
     "cell_type": "heading",
     "level": 2,
     "metadata": {},
     "source": [
      "Example 11.7 Page no 616"
     ]
    },
    {
     "cell_type": "code",
     "collapsed": false,
     "input": [
      "#given\n",
      "N=1800\n",
      "l=0.6\n",
      "I=0.9                           #A\n",
      "ur=500\n",
      "n1=6.02*10**26\n",
      "a=55.85\n",
      "y=7850\n",
      "\n",
      "#Calculation\n",
      "n=N/l\n",
      "H=n*I\n",
      "I1=(ur-1)*H\n",
      "B=4*math.pi*10**-7*ur*H\n",
      "x=(y*n1)/a\n",
      "X=I1/x\n",
      "\n",
      "#Result\n",
      "print\"Average magnetic moment per iron atom is\", round(X*10**23,2)*10**-23,\" A m**2\""
     ],
     "language": "python",
     "metadata": {},
     "outputs": [
      {
       "output_type": "stream",
       "stream": "stdout",
       "text": [
        "Average magnetic moment per iron atom is 1.59e-23  A m**2\n"
       ]
      }
     ],
     "prompt_number": 63
    },
    {
     "cell_type": "heading",
     "level": 2,
     "metadata": {},
     "source": [
      "Example 11.8 Page no 617"
     ]
    },
    {
     "cell_type": "code",
     "collapsed": false,
     "input": [
      "#Given\n",
      "M=8.4                         #g\n",
      "d=7200.0\n",
      "f=50                              #Hz\n",
      "E=3.2*10**4\n",
      "t=30*60.0\n",
      "\n",
      "#Calculation\n",
      "V=M/d\n",
      "P=E/t\n",
      "E1=P/(V*f)\n",
      "\n",
      "#Result\n",
      "print\"Energy dissipated per unit volume is\", round(E1,0),\"J/m**3/cycle\""
     ],
     "language": "python",
     "metadata": {},
     "outputs": [
      {
       "output_type": "stream",
       "stream": "stdout",
       "text": [
        "Energy dissipated per unit volume is 305.0 J/m**3/cycle\n"
       ]
      }
     ],
     "prompt_number": 70
    },
    {
     "cell_type": "heading",
     "level": 2,
     "metadata": {},
     "source": [
      "Example 11.9 Page no 617"
     ]
    },
    {
     "cell_type": "code",
     "collapsed": false,
     "input": [
      "#Given\n",
      "H=4*10**3                         #A/m\n",
      "a=60\n",
      "b=0.12\n",
      "\n",
      "#Calculation\n",
      "n=a/b\n",
      "I=H/n\n",
      "\n",
      "#Result\n",
      "print\"Current should be sent through the solenoid is\", I,\"A\""
     ],
     "language": "python",
     "metadata": {},
     "outputs": [
      {
       "output_type": "stream",
       "stream": "stdout",
       "text": [
        "Current should be sent through the solenoid is 8.0 A\n"
       ]
      }
     ],
     "prompt_number": 73
    },
    {
     "cell_type": "heading",
     "level": 2,
     "metadata": {},
     "source": [
      "Example 11.10 Page no 617"
     ]
    },
    {
     "cell_type": "code",
     "collapsed": false,
     "input": [
      "#Given\n",
      "x=1.68*10**-4\n",
      "T1=293\n",
      "T2=77.4\n",
      "\n",
      "#Calculation\n",
      "x1=(x*T1)/T2\n",
      "\n",
      "#Result\n",
      "print\"Susceptibility is\", round(x1*10**4,2),\"*10**-4\""
     ],
     "language": "python",
     "metadata": {},
     "outputs": [
      {
       "output_type": "stream",
       "stream": "stdout",
       "text": [
        "Susceptibility is 6.36 *10**-4\n"
       ]
      }
     ],
     "prompt_number": 79
    },
    {
     "cell_type": "heading",
     "level": 2,
     "metadata": {},
     "source": [
      "Example 11.11 Page no 617"
     ]
    },
    {
     "cell_type": "code",
     "collapsed": false,
     "input": [
      "#Given\n",
      "l=10**-6                     #m\n",
      "d=7.9                       #g\n",
      "a=6.023*10**23\n",
      "n=55.0\n",
      "M1=9.27*10**-24\n",
      "\n",
      "#Calculation\n",
      "V=l**2\n",
      "M=V*d\n",
      "N=(a*M)/n\n",
      "Mmax=N*M1\n",
      "Imax=Mmax/V*10**-4\n",
      "\n",
      "#Result\n",
      "print\"Number of iron atom is\",round(N*10**-10,2),\"*10**10 atoms\"\n",
      "print\"Magnetisation of the dipole is\",round(Imax*10**5,0),\"*10**5 A/m\"\n",
      "print\"Maximum possible dipole moment is\",round(Mmax*10**13,0)*10**-13,\"A m**2\""
     ],
     "language": "python",
     "metadata": {},
     "outputs": [
      {
       "output_type": "stream",
       "stream": "stdout",
       "text": [
        "Number of iron atom is 8.65 *10**10 atoms\n",
        "Magnetisation of the dipole is 8.0 *10**5 A/m\n",
        "Maximum possible dipole moment is 8e-13 A m**2\n"
       ]
      }
     ],
     "prompt_number": 113
    }
   ],
   "metadata": {}
  }
 ]
}