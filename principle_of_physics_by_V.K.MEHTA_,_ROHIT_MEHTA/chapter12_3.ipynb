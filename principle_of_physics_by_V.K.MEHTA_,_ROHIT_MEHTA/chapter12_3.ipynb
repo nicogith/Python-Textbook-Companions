{
 "metadata": {
  "name": "",
  "signature": "sha256:58b6e0817b83a6d5c266f15dbe5c66e891c1c2ed8d1ef60dafaf43f98ff2d620"
 },
 "nbformat": 3,
 "nbformat_minor": 0,
 "worksheets": [
  {
   "cells": [
    {
     "cell_type": "heading",
     "level": 1,
     "metadata": {},
     "source": [
      "Chapter 12 Electromagnetic induction"
     ]
    },
    {
     "cell_type": "heading",
     "level": 2,
     "metadata": {},
     "source": [
      "Example 12.1 Page no 665"
     ]
    },
    {
     "cell_type": "code",
     "collapsed": false,
     "input": [
      "#Given\n",
      "a=20                   #mWb\n",
      "a1=-20                  #mWb\n",
      "t=2*10**-3              #s\n",
      "N=100\n",
      "\n",
      "#Calculation\n",
      "a2=(a1-a)*10**-3\n",
      "e=(-N*a2)/t\n",
      "\n",
      "#Result\n",
      "print\"Average e.m.f induced in the coil is\", e,\"V\""
     ],
     "language": "python",
     "metadata": {},
     "outputs": [
      {
       "output_type": "stream",
       "stream": "stdout",
       "text": [
        "Average e.m.f induced in the coil is 2000.0 V\n"
       ]
      }
     ],
     "prompt_number": 6
    },
    {
     "cell_type": "heading",
     "level": 2,
     "metadata": {},
     "source": [
      "Example 12.2 Page no 665"
     ]
    },
    {
     "cell_type": "code",
     "collapsed": false,
     "input": [
      "#Given\n",
      "r=5*10**-2                         #m\n",
      "N=1\n",
      "B=0.35\n",
      "t=0.12                               #S\n",
      "\n",
      "#Calculation\n",
      "import math\n",
      "A=math.pi*r**2\n",
      "a1=B*A\n",
      "a2=-B*a1\n",
      "e=(N*a1)/t\n",
      "\n",
      "#Result\n",
      "print round(e,2),\"V\""
     ],
     "language": "python",
     "metadata": {},
     "outputs": [
      {
       "output_type": "stream",
       "stream": "stdout",
       "text": [
        "0.02 V\n"
       ]
      }
     ],
     "prompt_number": 12
    },
    {
     "cell_type": "heading",
     "level": 2,
     "metadata": {},
     "source": [
      "Example 12.3 Page no 665"
     ]
    },
    {
     "cell_type": "code",
     "collapsed": false,
     "input": [
      "#Given\n",
      "A=10**-2                           #m**2\n",
      "a=45                               #degree\n",
      "B1=0.1                             #T\n",
      "R=0.5                              #ohm\n",
      "t=0.7                              #S\n",
      "\n",
      "#Calculation\n",
      "import math\n",
      "a1=B1*A*math.cos(a*3.14/180.0)\n",
      "a2=0\n",
      "a3=a1-a2\n",
      "e=a3/t\n",
      "I=e/R\n",
      "\n",
      "#Result\n",
      "print\"Current during this time interval is\", round(I*10**3,1),\"*10**-3 A\"\n",
      "print\"Magnitude of induced emf is\",round(e*10**3,0),\"*10**-3 V\""
     ],
     "language": "python",
     "metadata": {},
     "outputs": [
      {
       "output_type": "stream",
       "stream": "stdout",
       "text": [
        "Current during this time interval is 2.0 *10**-3 A\n",
        "Magnitude of induced emf is 1.0 *10**-3 V\n"
       ]
      }
     ],
     "prompt_number": 24
    },
    {
     "cell_type": "heading",
     "level": 2,
     "metadata": {},
     "source": [
      "Example 12.4 Page no 666"
     ]
    },
    {
     "cell_type": "code",
     "collapsed": false,
     "input": [
      "#Given\n",
      "I=1.2*10**-3                              #A\n",
      "N=1.0\n",
      "R=10                              #ohm\n",
      "\n",
      "#Calculation\n",
      "e=I*R\n",
      "a=e/N\n",
      "\n",
      "#Result\n",
      "print\"Necessary rate is\", a*10**2,\"*10**-2 Wb/second\""
     ],
     "language": "python",
     "metadata": {},
     "outputs": [
      {
       "output_type": "stream",
       "stream": "stdout",
       "text": [
        "Necessary rate is 1.2 *10**-2 Wb/second\n"
       ]
      }
     ],
     "prompt_number": 28
    },
    {
     "cell_type": "heading",
     "level": 2,
     "metadata": {},
     "source": [
      "Example 12.5 Page no 666"
     ]
    },
    {
     "cell_type": "code",
     "collapsed": false,
     "input": [
      "#Given\n",
      "r=10**-1                   #m\n",
      "B=3.0*10**-5                  #T\n",
      "t=0.25                           #S\n",
      "N=500\n",
      "R=2                                #ohm\n",
      "\n",
      "#Calculation\n",
      "import math\n",
      "a1=B*math.pi*r**2*math.cos(0*3.14/180.0)\n",
      "a2=B*math.pi*r**2*math.cos(180*3.14/180.0)\n",
      "a3=a1-a2\n",
      "e=(N*a3)/t\n",
      "I=e/R\n",
      "\n",
      "#Result\n",
      "print\"Magnitude of the emf is\", round(e*10**3,1),\"*10**-3 V\"\n",
      "print\"Current induced in the coil is\",round(I*10**3,1),\"*1)**-3 A\""
     ],
     "language": "python",
     "metadata": {},
     "outputs": [
      {
       "output_type": "stream",
       "stream": "stdout",
       "text": [
        "Magnitude of the emf is 3.8 *10**-3 V\n",
        "Current induced in the coil is 1.9 *1)**-3 A\n"
       ]
      }
     ],
     "prompt_number": 47
    },
    {
     "cell_type": "heading",
     "level": 2,
     "metadata": {},
     "source": [
      "Example 12.6 Page no 666"
     ]
    },
    {
     "cell_type": "code",
     "collapsed": false,
     "input": [
      "#Given\n",
      "e=10**-2                        #V\n",
      "B=5*10**-5                      #T\n",
      "r=0.5                          #m\n",
      "N=1\n",
      "\n",
      "#Calculation\n",
      "import math\n",
      "A=math.pi*r**2\n",
      "n=(e*N)/(math.pi*r**2*B)\n",
      "\n",
      "#Result\n",
      "print\"Rate of rotation of the blade is\", round(n,1),\"revolutions/second\""
     ],
     "language": "python",
     "metadata": {},
     "outputs": [
      {
       "output_type": "stream",
       "stream": "stdout",
       "text": [
        "Rate of rotation of the blade is 254.6 revolutions/second\n"
       ]
      }
     ],
     "prompt_number": 53
    },
    {
     "cell_type": "heading",
     "level": 2,
     "metadata": {},
     "source": [
      "Example 12.7 Page no 667"
     ]
    },
    {
     "cell_type": "code",
     "collapsed": false,
     "input": [
      "#Given\n",
      "a=12\n",
      "b=7\n",
      "t=2\n",
      "\n",
      "#Calculation\n",
      "e=((a*t)+b)*10**-3\n",
      "\n",
      "#Result\n",
      "print\"(i) Magnitude of induced emf is\", e*10**3,\"mV\"\n",
      "print\"(ii) The current induced in the coil will be anticlockwise\""
     ],
     "language": "python",
     "metadata": {},
     "outputs": [
      {
       "output_type": "stream",
       "stream": "stdout",
       "text": [
        "(i) Magnitude of induced emf is 31.0 mV\n",
        "(ii) The current induced in the coil will be anticlockwise\n"
       ]
      }
     ],
     "prompt_number": 59
    },
    {
     "cell_type": "heading",
     "level": 2,
     "metadata": {},
     "source": [
      "Example 12.8 Page no 673"
     ]
    },
    {
     "cell_type": "code",
     "collapsed": false,
     "input": [
      "#Given\n",
      "B=1                          #T\n",
      "l=0.5                        #m\n",
      "v=40                         #m/s\n",
      "\n",
      "#Calculation\n",
      "import math\n",
      "e=B*l*v*math.sin(60*3.14/180.0)\n",
      "\n",
      "#Result\n",
      "print\"emf induced in the conductor is\", round(e,2)"
     ],
     "language": "python",
     "metadata": {},
     "outputs": [
      {
       "output_type": "stream",
       "stream": "stdout",
       "text": [
        "emf induced in the conductor is 17.32\n"
       ]
      }
     ],
     "prompt_number": 63
    },
    {
     "cell_type": "heading",
     "level": 2,
     "metadata": {},
     "source": [
      "Example 12.9 Page no 673"
     ]
    },
    {
     "cell_type": "code",
     "collapsed": false,
     "input": [
      "#Given\n",
      "g=9.8\n",
      "h=10\n",
      "B=1.7*10**-5\n",
      "l=1               #m\n",
      "\n",
      "#Calculation\n",
      "import math\n",
      "v=math.sqrt(2*g*h)\n",
      "e=B*l*v\n",
      "\n",
      "#Result\n",
      "print\"Potential difference between its end is\", e*10**4,\"*10**4 V\""
     ],
     "language": "python",
     "metadata": {},
     "outputs": [
      {
       "output_type": "stream",
       "stream": "stdout",
       "text": [
        "Potential difference between its end is 2.38 *10**4 V\n"
       ]
      }
     ],
     "prompt_number": 68
    },
    {
     "cell_type": "heading",
     "level": 2,
     "metadata": {},
     "source": [
      "Example 12.10 Page no 673"
     ]
    },
    {
     "cell_type": "code",
     "collapsed": false,
     "input": [
      "#Given\n",
      "v=72 *(5/18.0)                         #Km/h\n",
      "B=40*10**-6                    #T\n",
      "A=40\n",
      "l=2                           #m\n",
      "t=1.0\n",
      "N=1\n",
      "\n",
      "#Calculation\n",
      "A=l*v\n",
      "a=B*A\n",
      "e=N*a/t\n",
      "\n",
      "#Result\n",
      "print\"e.m.f generated in the axle of the car\", e*10**3,\"mV\""
     ],
     "language": "python",
     "metadata": {},
     "outputs": [
      {
       "output_type": "stream",
       "stream": "stdout",
       "text": [
        "e.m.f generated in the axle of the car 1.6 mV\n"
       ]
      }
     ],
     "prompt_number": 77
    },
    {
     "cell_type": "heading",
     "level": 2,
     "metadata": {},
     "source": [
      "Example 12.11 Page no 673"
     ]
    },
    {
     "cell_type": "code",
     "collapsed": false,
     "input": [
      "#Given\n",
      "w=1000/60.0\n",
      "r=0.3\n",
      "B=0.5                      #T\n",
      "\n",
      "#Calculation\n",
      "v=w*r\n",
      "vav=v/2.0\n",
      "e=B*r*vav\n",
      "\n",
      "#Result\n",
      "print\"e.m.f induced is\",e,\"V\""
     ],
     "language": "python",
     "metadata": {},
     "outputs": [
      {
       "output_type": "stream",
       "stream": "stdout",
       "text": [
        "e.m.f induced is 0.375 V\n"
       ]
      }
     ],
     "prompt_number": 84
    },
    {
     "cell_type": "heading",
     "level": 2,
     "metadata": {},
     "source": [
      "Example 12.12 Page no "
     ]
    },
    {
     "cell_type": "code",
     "collapsed": false,
     "input": [
      "#Given\n",
      "r=0.5                             #m\n",
      "n=2                                 #r.p.s\n",
      "B=0.4*10**-4                        #T\n",
      "\n",
      "#Calculation\n",
      "import math\n",
      "w=2*math.pi*n\n",
      "e=0.5*B*r**2*w\n",
      "\n",
      "#Result\n",
      "print\"Magnitude of induced e.m.f between the axle and rim is\", round(e*10**5,2)*10**-5,\"V\""
     ],
     "language": "python",
     "metadata": {},
     "outputs": [
      {
       "output_type": "stream",
       "stream": "stdout",
       "text": [
        "Magnitude of induced e.m.f between the axle and rim is 6.28e-05 V\n"
       ]
      }
     ],
     "prompt_number": 91
    },
    {
     "cell_type": "heading",
     "level": 2,
     "metadata": {},
     "source": [
      "Example 12.13 Page no 674"
     ]
    },
    {
     "cell_type": "code",
     "collapsed": false,
     "input": [
      "#Given\n",
      "R=1                    #m\n",
      "B=1\n",
      "f=50\n",
      "\n",
      "#Calculation\n",
      "import math\n",
      "e=math.pi*R**2*B*f\n",
      "\n",
      "#Result\n",
      "print\"e.m.f between the centre and the matallic ring is\", round(e,1),\"V\""
     ],
     "language": "python",
     "metadata": {},
     "outputs": [
      {
       "output_type": "stream",
       "stream": "stdout",
       "text": [
        "e.m.f between the centre and the matallic ring is 157.1 V\n"
       ]
      }
     ],
     "prompt_number": 96
    },
    {
     "cell_type": "heading",
     "level": 2,
     "metadata": {},
     "source": [
      "Example 12.14 Page no 679"
     ]
    },
    {
     "cell_type": "code",
     "collapsed": false,
     "input": [
      "#Given\n",
      "N=500\n",
      "a=1.4*10**-4                   #Wb\n",
      "l=2.5                         #A\n",
      "\n",
      "#Calculation\n",
      "L=(N*a)/l\n",
      "\n",
      "#Result\n",
      "print\"Inductance of the coil is\", L*10**3,\"mH\""
     ],
     "language": "python",
     "metadata": {},
     "outputs": [
      {
       "output_type": "stream",
       "stream": "stdout",
       "text": [
        "Inductance of the coil is 28.0 mH\n"
       ]
      }
     ],
     "prompt_number": 100
    },
    {
     "cell_type": "heading",
     "level": 2,
     "metadata": {},
     "source": [
      "Example 12.15 Page no 679"
     ]
    },
    {
     "cell_type": "code",
     "collapsed": false,
     "input": [
      "#Given\n",
      "L=130*10**-3                   #H\n",
      "I1=20                           #mA\n",
      "I2=28                           #mA\n",
      "t=140.0*10**-3                    #S\n",
      "\n",
      "#Calculation\n",
      "l=I2-I1\n",
      "e=(-L*l)/t\n",
      "\n",
      "#Result\n",
      "print\"Magnitude of induced e.m.f is\", round(e,2),\"*10**-3 V\"\n",
      "print\"Direction oppose the increase in current\""
     ],
     "language": "python",
     "metadata": {},
     "outputs": [
      {
       "output_type": "stream",
       "stream": "stdout",
       "text": [
        "Magnitude of induced e.m.f is -7.43 *10**-3 V\n",
        "Direction oppose the increase in current\n"
       ]
      }
     ],
     "prompt_number": 106
    },
    {
     "cell_type": "heading",
     "level": 2,
     "metadata": {},
     "source": [
      "Example 12.16 Page no 679"
     ]
    },
    {
     "cell_type": "code",
     "collapsed": false,
     "input": [
      "#Given\n",
      "N=4000\n",
      "l=0.6                              #m\n",
      "r=16*10**-4                        #m\n",
      "\n",
      "#Calculation\n",
      "u=4*math.pi*10**-7\n",
      "L=(u*N**2*((math.pi*r)/4.0))/l\n",
      "Liron=N*L\n",
      "\n",
      "#Result\n",
      "print\"Inductance of the solenoid is\", round(Liron,0),\"H\""
     ],
     "language": "python",
     "metadata": {},
     "outputs": [
      {
       "output_type": "stream",
       "stream": "stdout",
       "text": [
        "Inductance of the solenoid is 168.0 H\n"
       ]
      }
     ],
     "prompt_number": 115
    },
    {
     "cell_type": "heading",
     "level": 2,
     "metadata": {},
     "source": [
      "Example 12.17 Page no 679"
     ]
    },
    {
     "cell_type": "code",
     "collapsed": false,
     "input": [
      "#Given\n",
      "L=10.0                       #H\n",
      "e=300                        #V\n",
      "t=10**-2                       #S\n",
      "\n",
      "#Calculation\n",
      "dl=(e*t)/L\n",
      "a=e*t\n",
      "\n",
      "#Result\n",
      "print\"Charge in magnetic flux is\", a,\"Wb\""
     ],
     "language": "python",
     "metadata": {},
     "outputs": [
      {
       "output_type": "stream",
       "stream": "stdout",
       "text": [
        "Charge in magnetic flux is 3.0 Wb\n"
       ]
      }
     ],
     "prompt_number": 119
    },
    {
     "cell_type": "heading",
     "level": 2,
     "metadata": {},
     "source": [
      "Example 12.18 Page no 680"
     ]
    },
    {
     "cell_type": "code",
     "collapsed": false,
     "input": [
      "#Given\n",
      "L=10*10**-3\n",
      "I=4*10**-3\n",
      "N=200.0\n",
      "\n",
      "#Calculation\n",
      "N1=L*I\n",
      "a=N1/N\n",
      "\n",
      "#Result\n",
      "print\"Total flux linked with the coil is\", N1,\"Wb\"\n",
      "print\"Magnetic flux through the cross section of the coil is\",a,\"Wb\""
     ],
     "language": "python",
     "metadata": {},
     "outputs": [
      {
       "output_type": "stream",
       "stream": "stdout",
       "text": [
        "Total flux linked with the coil is 4e-05 Wb\n",
        "Magnetic flux through the cross section of the coil is 2e-07 Wb\n"
       ]
      }
     ],
     "prompt_number": 125
    },
    {
     "cell_type": "heading",
     "level": 2,
     "metadata": {},
     "source": [
      "Example 12.19 Page no 680"
     ]
    },
    {
     "cell_type": "code",
     "collapsed": false,
     "input": [
      "#Given\n",
      "L=500*10**-3\n",
      "I1=20*10**-3                  #A\n",
      "I2=10*10**-3                  #A\n",
      "\n",
      "#Calculation\n",
      "U1=0.5*L*I1**2\n",
      "U2=0.5*L*I2**2\n",
      "\n",
      "#Result\n",
      "print \"Magnetic energy stored in the coil is\",U1*10**6,\"*10**-4 J\"\n",
      "print\"New value of energy is\",U2,\"J\""
     ],
     "language": "python",
     "metadata": {},
     "outputs": [
      {
       "output_type": "stream",
       "stream": "stdout",
       "text": [
        "Magnetic energy stored in the coil is 100.0 *10**-4 J\n",
        "New value of energy is 2.5e-05 J\n"
       ]
      }
     ],
     "prompt_number": 134
    },
    {
     "cell_type": "heading",
     "level": 2,
     "metadata": {},
     "source": [
      "Example 12.20 Page no 680"
     ]
    },
    {
     "cell_type": "code",
     "collapsed": false,
     "input": [
      "#Given\n",
      "E=12\n",
      "R=30.0                    #ohm\n",
      "L=0.22 \n",
      "\n",
      "#Calculation\n",
      "I0=E/R\n",
      "I=I0/2.0\n",
      "P=E*I\n",
      "dl=(E-(I*R))/L\n",
      "du=L*I*dl\n",
      "\n",
      "#Result\n",
      "print\"(i) Energy being delivered by the battery is\", P,\"W\"\n",
      "print\"(ii) ENergy being stored in the magnetic field of inductor is\",du,\"W\""
     ],
     "language": "python",
     "metadata": {},
     "outputs": [
      {
       "output_type": "stream",
       "stream": "stdout",
       "text": [
        "(i) Energy being delivered by the battery is 2.4 W\n",
        "(ii) ENergy being stored in the magnetic field of inductor is 1.2 W\n"
       ]
      }
     ],
     "prompt_number": 144
    },
    {
     "cell_type": "heading",
     "level": 2,
     "metadata": {},
     "source": [
      "Example 12.21 Page no 680"
     ]
    },
    {
     "cell_type": "code",
     "collapsed": false,
     "input": [
      "#Given\n",
      "L=2.0                         #H\n",
      "i=2                              #A\n",
      "\n",
      "#Calculation\n",
      "U=0.5*L*i**2\n",
      "\n",
      "#Result\n",
      "print\"Amount of energy spent during the period is\", U,\"J\""
     ],
     "language": "python",
     "metadata": {},
     "outputs": [
      {
       "output_type": "stream",
       "stream": "stdout",
       "text": [
        "Amount of energy spent during the period is 4.0 J\n"
       ]
      }
     ],
     "prompt_number": 147
    },
    {
     "cell_type": "heading",
     "level": 2,
     "metadata": {},
     "source": [
      "Example 12.22 Page no 686"
     ]
    },
    {
     "cell_type": "code",
     "collapsed": false,
     "input": [
      "#Given\n",
      "e=1500                         #V\n",
      "dl=3                               #A\n",
      "dt=0.001                             #s\n",
      "\n",
      "#Calculation\n",
      "M=(e*dt)/dl\n",
      "\n",
      "#Result\n",
      "print\"Mumtual induction between the two coils is\", M,\"H\""
     ],
     "language": "python",
     "metadata": {},
     "outputs": [
      {
       "output_type": "stream",
       "stream": "stdout",
       "text": [
        "Mumtual induction between the two coils is 0.5 H\n"
       ]
      }
     ],
     "prompt_number": 150
    },
    {
     "cell_type": "heading",
     "level": 2,
     "metadata": {},
     "source": [
      "Example 12.23 Page no 686"
     ]
    },
    {
     "cell_type": "code",
     "collapsed": false,
     "input": [
      "#Given\n",
      "N2=1000\n",
      "I1=5.0                          #A\n",
      "a2=0.4*10**-4                  #Wb\n",
      "dl=-24                             #A\n",
      "dt=0.02                              #S\n",
      "\n",
      "#Calculation\n",
      "M=(N2*a2)/I1\n",
      "eb=(-M*dl)/dt\n",
      "\n",
      "#Result\n",
      "print\"(i) Mutual induction between A and B is\", M,\"H\"\n",
      "print\"(ii) e.m.f induced by the coil is\", eb"
     ],
     "language": "python",
     "metadata": {},
     "outputs": [
      {
       "output_type": "stream",
       "stream": "stdout",
       "text": [
        "(i) Mutual induction between A and B is 0.008 H\n",
        "(ii) e.m.f induced by the coil is 9.6\n"
       ]
      }
     ],
     "prompt_number": 155
    },
    {
     "cell_type": "heading",
     "level": 2,
     "metadata": {},
     "source": [
      "Example 12.24 Page no 687"
     ]
    },
    {
     "cell_type": "code",
     "collapsed": false,
     "input": [
      "#Given\n",
      "N=1200\n",
      "A=12*10**-4                         #m**2\n",
      "r=0.15                                     #m\n",
      "N2=300\n",
      "a=0.05\n",
      "\n",
      "#Calculation\n",
      "import math\n",
      "u=4*math.pi*10**-7\n",
      "L=(u*N**2*A)/(2*math.pi*r)\n",
      "M=(u*N*N2*A)/(2*math.pi*r)\n",
      "dl=2/a\n",
      "e=M*dl\n",
      "\n",
      "#Result\n",
      "print\"(i) Self inductance of the toroid is\", round(L*10**3,1),\"*10**-3 H\"\n",
      "print\"(ii) Induced e.m.f. in the second coil is\",round(e,3),\"V\""
     ],
     "language": "python",
     "metadata": {},
     "outputs": [
      {
       "output_type": "stream",
       "stream": "stdout",
       "text": [
        "(i) Self inductance of the toroid is 2.3 *10**-3 H\n",
        "(ii) Induced e.m.f. in the second coil is 0.023 V\n"
       ]
      }
     ],
     "prompt_number": 168
    },
    {
     "cell_type": "heading",
     "level": 2,
     "metadata": {},
     "source": [
      "Example 12.25 Page no 688"
     ]
    },
    {
     "cell_type": "code",
     "collapsed": false,
     "input": [
      "#Given\n",
      "I=2.0\n",
      "a1=20*10**-2\n",
      "x=0.15\n",
      "A2=0.3*10**-2\n",
      "\n",
      "#Calculation\n",
      "import math\n",
      "u=4*math.pi*10**-7\n",
      "B1=(u*I*a1**2)/(2.0*(a1**2+x**2)**1.5)\n",
      "a=B1*math.pi*A2**2\n",
      "M=a/I\n",
      "\n",
      "#Result\n",
      "print\"(i) Flux linking the bigger loop is\", round(a*10**11,1)\n",
      "print\"(ii) Mutual induction between the two loops is\",round(M*10**11,2),\"!0**-11 H\""
     ],
     "language": "python",
     "metadata": {},
     "outputs": [
      {
       "output_type": "stream",
       "stream": "stdout",
       "text": [
        "(i) Flux linking the bigger loop is 9.1\n",
        "(ii) Mutual induction between the two loops is 4.55 !0**-11 H\n"
       ]
      }
     ],
     "prompt_number": 181
    },
    {
     "cell_type": "heading",
     "level": 2,
     "metadata": {},
     "source": [
      "Example 12.26 Page no 688"
     ]
    },
    {
     "cell_type": "code",
     "collapsed": false,
     "input": [
      "#Given\n",
      "l=0.5                        #m\n",
      "n=20                         #turns\n",
      "r=50                         #cm\n",
      "A1=40*10**-4                  #m**2\n",
      "n1=25\n",
      "A2=25*10**-4                   #m**2\n",
      "\n",
      "#Calculation\n",
      "u=4*math.pi*10**-7\n",
      "N=n*r\n",
      "N2=n1*r\n",
      "M=(u*N*N2*A2)/l\n",
      "\n",
      "#Result\n",
      "print\"Mutual induction of the system is\",round(M*10**3,2),\"*10**-3 H\""
     ],
     "language": "python",
     "metadata": {},
     "outputs": [
      {
       "output_type": "stream",
       "stream": "stdout",
       "text": [
        "Mutual induction of the system is 7.85 *10**-3 H\n"
       ]
      }
     ],
     "prompt_number": 188
    }
   ],
   "metadata": {}
  }
 ]
}