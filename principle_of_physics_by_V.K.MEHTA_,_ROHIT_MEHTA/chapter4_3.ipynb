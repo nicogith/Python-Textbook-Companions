{
 "metadata": {
  "name": "",
  "signature": "sha256:2ebe494197bc592ac147978ecceacaa802bf7a7b9283aeec109e01967ce4cfa8"
 },
 "nbformat": 3,
 "nbformat_minor": 0,
 "worksheets": [
  {
   "cells": [
    {
     "cell_type": "heading",
     "level": 1,
     "metadata": {},
     "source": [
      "Chapter 4 Capacitance "
     ]
    },
    {
     "cell_type": "heading",
     "level": 2,
     "metadata": {},
     "source": [
      "Example 4.1 Page no 159"
     ]
    },
    {
     "cell_type": "code",
     "collapsed": false,
     "input": [
      "#Given\n",
      "m=9*10**9\n",
      "r=6.4*10**6              #m\n",
      "\n",
      "#Calculation\n",
      "C=r/m\n",
      "\n",
      "#Result\n",
      "print\"The capacitance of the earth is \", round(C*10**6,0),\"micro F\""
     ],
     "language": "python",
     "metadata": {},
     "outputs": [
      {
       "output_type": "stream",
       "stream": "stdout",
       "text": [
        "The capacitance of the earth is  711.0 micro F\n"
       ]
      }
     ],
     "prompt_number": 5
    },
    {
     "cell_type": "heading",
     "level": 2,
     "metadata": {},
     "source": [
      "Example 4.2 Page no 160"
     ]
    },
    {
     "cell_type": "code",
     "collapsed": false,
     "input": [
      "#Given\n",
      "m=9*10**9\n",
      "c=50*10**-12\n",
      "V=10**4\n",
      "\n",
      "#Calculation\n",
      "r=(m*c)*10**2\n",
      "q=(c*V)\n",
      "\n",
      "#Result\n",
      "print\"(i) Radius of a isolated sphere is \",r,\"cm\"\n",
      "print\"(ii) Charge of a isolated sphere is \", q*10**6,\"micro C\""
     ],
     "language": "python",
     "metadata": {},
     "outputs": [
      {
       "output_type": "stream",
       "stream": "stdout",
       "text": [
        "(i) Radius of a isolated sphere is  45.0 cm\n",
        "(ii) Charge of a isolated sphere is  0.5 micro C\n"
       ]
      }
     ],
     "prompt_number": 21
    },
    {
     "cell_type": "heading",
     "level": 2,
     "metadata": {},
     "source": [
      "Example 4.3 Page no 160"
     ]
    },
    {
     "cell_type": "code",
     "collapsed": false,
     "input": [
      "#Given\n",
      "r=3*10**-3                 #m\n",
      "m=9*10**9\n",
      "q1=27*10**-12              #C\n",
      "\n",
      "#Calculation\n",
      "R=3*r\n",
      "C=R/m\n",
      "V=q1/C\n",
      "\n",
      "#Result\n",
      "print\"Capacitance of the bigger drop is \", C*10**12,\"pico F \\npotential of the bigger drop is \",V,\"Volts\""
     ],
     "language": "python",
     "metadata": {},
     "outputs": [
      {
       "output_type": "stream",
       "stream": "stdout",
       "text": [
        "Capacitance of the bigger drop is  1.0 pico F \n",
        "potential of the bigger drop is  27.0 Volts\n"
       ]
      }
     ],
     "prompt_number": 33
    },
    {
     "cell_type": "heading",
     "level": 2,
     "metadata": {},
     "source": [
      "Example 4.4 Page no 162"
     ]
    },
    {
     "cell_type": "code",
     "collapsed": false,
     "input": [
      "#Given\n",
      "m=9*10**9\n",
      "ra=0.09\n",
      "rb=0.1\n",
      "\n",
      "#Calculation\n",
      "C=ra*rb/(m*(rb-ra))\n",
      "\n",
      "#Result\n",
      "print\"Capacitance of the capacitor is \", C*10**12,\"pico F\""
     ],
     "language": "python",
     "metadata": {},
     "outputs": [
      {
       "output_type": "stream",
       "stream": "stdout",
       "text": [
        "Capacitance of the capacitor is  100.0 pico F\n"
       ]
      }
     ],
     "prompt_number": 37
    },
    {
     "cell_type": "heading",
     "level": 2,
     "metadata": {},
     "source": [
      "Example 4.5 Page no 162"
     ]
    },
    {
     "cell_type": "code",
     "collapsed": false,
     "input": [
      "#Given\n",
      "r=2                  #cm\n",
      "d=1.2\n",
      "\n",
      "#Calculation\n",
      "import math\n",
      "R=(d/r)*10**2\n",
      "rab=(R*2)\n",
      "x=r**2+4*rab\n",
      "y=math.sqrt(x)\n",
      "\n",
      "#Result\n",
      "print\"ra+rb=\", y,\"cm \\nra-rb=\",r ,\"cm\""
     ],
     "language": "python",
     "metadata": {},
     "outputs": [
      {
       "output_type": "stream",
       "stream": "stdout",
       "text": [
        "ra+rb= 22.0 cm \n",
        "ra-rb= 2 cm\n"
       ]
      }
     ],
     "prompt_number": 64
    },
    {
     "cell_type": "heading",
     "level": 2,
     "metadata": {},
     "source": [
      "Example 4.6 Page no 164"
     ]
    },
    {
     "cell_type": "code",
     "collapsed": false,
     "input": [
      "#Given\n",
      "d=10**-3                   #m\n",
      "c=1                        #F\n",
      "e=8.854*10**-12\n",
      "\n",
      "#Calculation\n",
      "A=c*d/e\n",
      "\n",
      "#Result\n",
      "print\"Area is \", round(A*10**-8,1),\"*10**8 m**2\""
     ],
     "language": "python",
     "metadata": {},
     "outputs": [
      {
       "output_type": "stream",
       "stream": "stdout",
       "text": [
        "Area is  1.1 *10**8 m**2\n"
       ]
      }
     ],
     "prompt_number": 69
    },
    {
     "cell_type": "heading",
     "level": 2,
     "metadata": {},
     "source": [
      "Example 4.7 Page no 164"
     ]
    },
    {
     "cell_type": "code",
     "collapsed": false,
     "input": [
      "#Given\n",
      "A=0.02                   #m**2\n",
      "r=0.5                      #m\n",
      "\n",
      "#Calculation\n",
      "import math\n",
      "d=A/(4.0*math.pi*r)\n",
      "\n",
      "#Result\n",
      "print\"Distance is \", round(d*10**3,2),\"mm\""
     ],
     "language": "python",
     "metadata": {},
     "outputs": [
      {
       "output_type": "stream",
       "stream": "stdout",
       "text": [
        "Distance is  3.18 mm\n"
       ]
      }
     ],
     "prompt_number": 74
    },
    {
     "cell_type": "heading",
     "level": 2,
     "metadata": {},
     "source": [
      "Example 4.8 Page no 164"
     ]
    },
    {
     "cell_type": "code",
     "collapsed": false,
     "input": [
      "#Given\n",
      "e=8.854*10**-12\n",
      "K=6\n",
      "A=30\n",
      "d=2.0*10**-3\n",
      "E=500\n",
      "\n",
      "#Calculation\n",
      "C=e*K*A/d\n",
      "V=E*d*10**3\n",
      "q=C*V\n",
      "\n",
      "#Result\n",
      "print\"Capacitance of a parallel plate \", round(q*10**3,3),\"micro C\""
     ],
     "language": "python",
     "metadata": {},
     "outputs": [
      {
       "output_type": "stream",
       "stream": "stdout",
       "text": [
        "Capacitance of a parallel plate  0.797 micro C\n"
       ]
      }
     ],
     "prompt_number": 87
    },
    {
     "cell_type": "heading",
     "level": 2,
     "metadata": {},
     "source": [
      "Example 4.9 Page no 165"
     ]
    },
    {
     "cell_type": "code",
     "collapsed": false,
     "input": [
      "#Given\n",
      "C=300*10**-12\n",
      "V=10*10**3\n",
      "A=0.01\n",
      "d=1*10**-3\n",
      "\n",
      "#Calculation\n",
      "q=C*V\n",
      "a=q/A\n",
      "E=V/d\n",
      "\n",
      "#Result\n",
      "print\"(i) Charge on each plate is \", q,\"C\"\n",
      "print\"(ii) Electric flux density is \", a*10**4,\"10**-4 C/m**2\"\n",
      "print\"(iii) Potential gradient is \", E,\"V/m\""
     ],
     "language": "python",
     "metadata": {},
     "outputs": [
      {
       "output_type": "stream",
       "stream": "stdout",
       "text": [
        "(i) Charge on each plate is  3e-06 C\n",
        "(ii) Electric flux density is  3.0 10**-4 C/m**2\n",
        "(iii) Potential gradient is  10000000.0 V/m\n"
       ]
      }
     ],
     "prompt_number": 101
    },
    {
     "cell_type": "heading",
     "level": 2,
     "metadata": {},
     "source": [
      "Example 4.10 Page no 165"
     ]
    },
    {
     "cell_type": "code",
     "collapsed": false,
     "input": [
      "#Given\n",
      "A2=500                   #cm**2\n",
      "A1=100                    #cm**2\n",
      "d1=0.05                    #cm\n",
      "\n",
      "#Calculation\n",
      "d2=A2*d1/A1\n",
      "\n",
      "#Result\n",
      "print\"Distance between the plates of second capacitor is \", d2,\"cm\""
     ],
     "language": "python",
     "metadata": {},
     "outputs": [
      {
       "output_type": "stream",
       "stream": "stdout",
       "text": [
        "Distance between the plates of second capacitor is  0.25 cm\n"
       ]
      }
     ],
     "prompt_number": 104
    },
    {
     "cell_type": "heading",
     "level": 2,
     "metadata": {},
     "source": [
      "Example 4.11 page no 167"
     ]
    },
    {
     "cell_type": "code",
     "collapsed": false,
     "input": [
      "#Given\n",
      "c1=0.5                  #micro F\n",
      "c2=0.3                  #micro F\n",
      "c3=0.2                  #micro F\n",
      "\n",
      "#Calculation\n",
      "Cp=c1+c2+c3   \n",
      "Cs=(1/c1)+(1/c2)+(1/c3)\n",
      "\n",
      "#Result\n",
      "print\" The ratio ofmaximum capacitance to minimum capacitance is \",round (Cs,1)\n"
     ],
     "language": "python",
     "metadata": {},
     "outputs": [
      {
       "output_type": "stream",
       "stream": "stdout",
       "text": [
        " The ratio ofmaximum capacitance to minimum capacitance is  10.3\n"
       ]
      }
     ],
     "prompt_number": 4
    },
    {
     "cell_type": "heading",
     "level": 2,
     "metadata": {},
     "source": [
      "Example 4.12 Page no 168"
     ]
    },
    {
     "cell_type": "code",
     "collapsed": false,
     "input": [
      "#Given\n",
      "c1=15.0                    #micro F\n",
      "c2=20.0                    #micro F\n",
      "V=10**-6\n",
      "v1=600                     #V    \n",
      "\n",
      "#Calculation\n",
      "Cs=c1*c2/(c1+c2)\n",
      "Q=Cs*V*v1\n",
      "Pd=(Q/c1)*10**6\n",
      "Pd1=(Q/c2)*10**6\n",
      "\n",
      "#Result\n",
      "print\"(i)charge on each capacitor is\",round(Q *10**3,2),\"10**-3 C\"\n",
      "print\"(ii)P.D across15 micro Fcapacitor is\",round (Pd,1),\"V\"\n",
      "print\"    P.D across 20 micro F is\",round (Pd1,0),\"V\"\n"
     ],
     "language": "python",
     "metadata": {},
     "outputs": [
      {
       "output_type": "stream",
       "stream": "stdout",
       "text": [
        "(i)charge on each capacitor is 5.14 10**-3 C\n",
        "(ii)p.D across15 micro Fcapacitor is 342.9 V\n",
        "    P.D across 20 micro F is 257.0 V\n"
       ]
      }
     ],
     "prompt_number": 30
    },
    {
     "cell_type": "heading",
     "level": 2,
     "metadata": {},
     "source": [
      "Example 4.13 page no.168"
     ]
    },
    {
     "cell_type": "code",
     "collapsed": false,
     "input": [
      "#Given\n",
      "Ca=18                          #micro F\n",
      "Cb=4                          #micro F\n",
      "\n",
      "#Calculation\n",
      "import math\n",
      "C=Ca*Cb\n",
      "C12=math.sqrt(Ca**2-4*C)\n",
      "C2=2*C12\n",
      "\n",
      "#Result\n",
      "print\"The capacitance of capacitor C1 is\", C12,\"micro F\"\n",
      "print\"The capacitance of capacitor C2 is\",C2,\"micro F\""
     ],
     "language": "python",
     "metadata": {},
     "outputs": [
      {
       "output_type": "stream",
       "stream": "stdout",
       "text": [
        "The capacitance of capacitor C1 is 6.0 micro F\n",
        "The capacitance of capacitor C2 is 12.0 micro F\n"
       ]
      }
     ],
     "prompt_number": 39
    },
    {
     "cell_type": "heading",
     "level": 2,
     "metadata": {},
     "source": [
      "Example 4.14 Page no 168"
     ]
    },
    {
     "cell_type": "code",
     "collapsed": false,
     "input": [
      "#Given\n",
      "q=750*10**-6\n",
      "C1=15*10**-6\n",
      "V2=20.0                            #V\n",
      "C3=8*10**-6\n",
      "\n",
      "#Calculation\n",
      "V1=q/C1\n",
      "V=V1+V2\n",
      "q3=C3*V2\n",
      "q2=q-q3\n",
      "C2=q2/V2\n",
      "\n",
      "#Result\n",
      "print\"The value of V1 is \", V1,\"V\"\n",
      "print\"The value of V is \",V,\"V\"\n",
      "print\"The value of capacitance is\",C2*10**6,\"micro F\""
     ],
     "language": "python",
     "metadata": {},
     "outputs": [
      {
       "output_type": "stream",
       "stream": "stdout",
       "text": [
        "The value of V1 is  50.0 V\n",
        "The value of V is  70.0 V\n",
        "The value of capacitance is 29.5 micro F\n"
       ]
      }
     ],
     "prompt_number": 52
    },
    {
     "cell_type": "heading",
     "level": 2,
     "metadata": {},
     "source": [
      "Example 4.15 Page no 169"
     ]
    },
    {
     "cell_type": "code",
     "collapsed": false,
     "input": [
      "#Given\n",
      "C2=9.0              #micro F\n",
      "C3=9.0\n",
      "C4=9.0\n",
      "C1=3\n",
      "V=10                   #V\n",
      "\n",
      "#Calculation\n",
      "C=1/((1/C2)+(1/C3)+(1/C4))\n",
      "Cab=C1+C\n",
      "q=Cab*V\n",
      "\n",
      "#Result\n",
      "print\"Equivalent capacitance between point A and B is \", Cab,\"micro F\""
     ],
     "language": "python",
     "metadata": {},
     "outputs": [
      {
       "output_type": "stream",
       "stream": "stdout",
       "text": [
        "Equivalent capacitance between point A and B is  6.0 micro F\n"
       ]
      }
     ],
     "prompt_number": 60
    },
    {
     "cell_type": "heading",
     "level": 2,
     "metadata": {},
     "source": [
      "Example 4.17 Page no 169"
     ]
    },
    {
     "cell_type": "code",
     "collapsed": false,
     "input": [
      "#Given\n",
      "Cab=10                         #micro F\n",
      "C1=8.0                           #micro F\n",
      "C2=8.0\n",
      "C3=8\n",
      "C4=8\n",
      "C5=12\n",
      "V=400\n",
      "\n",
      "#Calculation\n",
      "Cbc=((C1*C2)/(C1+C2))+C3+C4\n",
      "Cac=Cab*Cbc/(Cab+Cbc)\n",
      "Ccd=C1+C5\n",
      "Cad=Cac*Ccd/(Cac+Ccd)\n",
      "q=Cad*V\n",
      "Vcd=q/Ccd\n",
      "q1=C5*Vcd\n",
      "\n",
      "#Result\n",
      "print\"(i) The equivalent capacitance between A and D is \", Cad,\"micro f\"\n",
      "print\"(ii) The charge on 12 micro F capacitor is \",q1*10**-3,\"mC\""
     ],
     "language": "python",
     "metadata": {},
     "outputs": [
      {
       "output_type": "stream",
       "stream": "stdout",
       "text": [
        "(i) The equivalent capacitance between A and D is  5.0 micro f\n",
        "(ii) The charge on 12 micro F capacitor is  1.2 mC\n"
       ]
      }
     ],
     "prompt_number": 84
    },
    {
     "cell_type": "heading",
     "level": 2,
     "metadata": {},
     "source": [
      "Example 4.20 Page no 171"
     ]
    },
    {
     "cell_type": "code",
     "collapsed": false,
     "input": [
      "#Given\n",
      "C1=5                  #micro F\n",
      "C2=6                  #micro F\n",
      "V=10                  #V\n",
      "\n",
      "#Calculation\n",
      "Cp=C1+C2\n",
      "q=Cp*V\n",
      "\n",
      "#Result\n",
      "print\"Charge supplied by battery is \", q,\"micro F\""
     ],
     "language": "python",
     "metadata": {},
     "outputs": [
      {
       "output_type": "stream",
       "stream": "stdout",
       "text": [
        "Charge supplied by battery is  110 micro F\n"
       ]
      }
     ],
     "prompt_number": 88
    },
    {
     "cell_type": "heading",
     "level": 2,
     "metadata": {},
     "source": [
      "Example 4.21 Page no 171"
     ]
    },
    {
     "cell_type": "code",
     "collapsed": false,
     "input": [
      "#Given\n",
      "C1=2             #micro F\n",
      "C2=2             #micro F\n",
      "C3=2\n",
      "C4=2\n",
      "\n",
      "#Calculation\n",
      "Cs=C1*C2/(C1+C2)\n",
      "Cab=C3*C4/(C3+C4)\n",
      "\n",
      "#Result\n",
      "print\"The capacitance of the Capacitors\", Cab,\"micro F\""
     ],
     "language": "python",
     "metadata": {},
     "outputs": [
      {
       "output_type": "stream",
       "stream": "stdout",
       "text": [
        "The capacitance of the Capacitors 1 micro F\n"
       ]
      }
     ],
     "prompt_number": 93
    },
    {
     "cell_type": "heading",
     "level": 2,
     "metadata": {},
     "source": [
      "Example 4.22 Page no 171"
     ]
    },
    {
     "cell_type": "code",
     "collapsed": false,
     "input": [
      "#Given\n",
      "C1=10.0              #micro F\n",
      "C2=10.0\n",
      "C3=10.0\n",
      "C4=10*10**-3\n",
      "V=500              #V\n",
      "\n",
      "#Calculation\n",
      "Cs=1/((1/C1)+(1/C2)+(1/C3))\n",
      "Cab=Cs+(C4*10**3)\n",
      "Q=(C1*(500/3.0))*10**-3\n",
      "Q1=C4*V\n",
      "\n",
      "#Result\n",
      "print\"(a) The equivalent capacitance of the network is\",round(Cab,1),\"micro F\"\n",
      "print \"(b) The charge on 12 micro F Capacitor is\",Q1,\"*10**-3 C\""
     ],
     "language": "python",
     "metadata": {},
     "outputs": [
      {
       "output_type": "stream",
       "stream": "stdout",
       "text": [
        "(a) The equivalent capacitance of the network is 13.3 micro F\n",
        "(b) The charge on 12 micro F Capacitor is 5.0 *10**-3 C\n"
       ]
      }
     ],
     "prompt_number": 115
    },
    {
     "cell_type": "heading",
     "level": 2,
     "metadata": {},
     "source": [
      "Example 4.23 Page no 172"
     ]
    },
    {
     "cell_type": "code",
     "collapsed": false,
     "input": [
      "#Given\n",
      "C4=6                    #micro F\n",
      "C5=12        \n",
      "C1=8.0\n",
      "C7=1\n",
      "\n",
      "#Calculation\n",
      "Cs=C4*C5/(C4+C5)\n",
      "C11=(C1*Cs)/(C1+Cs)\n",
      "Cs1=C1*C7/(C1+C7)\n",
      "Cp=C11+Cs1\n",
      "C=1/(1-(1/Cp))\n",
      "\n",
      "#Result\n",
      "print\"The value of capacitance C is \", round(C,2),\"micro F\""
     ],
     "language": "python",
     "metadata": {},
     "outputs": [
      {
       "output_type": "stream",
       "stream": "stdout",
       "text": [
        "The value of capacitance C is  1.39 micro F\n"
       ]
      }
     ],
     "prompt_number": 129
    },
    {
     "cell_type": "heading",
     "level": 2,
     "metadata": {},
     "source": [
      "Example 4.24 Page no 175"
     ]
    },
    {
     "cell_type": "code",
     "collapsed": false,
     "input": [
      "#Given\n",
      "K=5\n",
      "l=0.2\n",
      "c=10**-9               #F\n",
      "b=15.4\n",
      "a=15\n",
      "pd=5000                  #V\n",
      "\n",
      "#Calculation\n",
      "import math\n",
      "C=(K*l*c)/(41.1*math.log10(b/a))\n",
      "\n",
      "#Result\n",
      "print\"(i) The capacitance of cylindrical capacitor is \", round(C*10**9,1)*10**-9,\"F\"\n",
      "print\"(ii) The potential of the inner cylinder is equal to p.d. between two cylinders i.e potentila of inner cylinder is\",pd,\"V\""
     ],
     "language": "python",
     "metadata": {},
     "outputs": [
      {
       "output_type": "stream",
       "stream": "stdout",
       "text": [
        "(i) The capacitance of cylindrical capacitor is  2.1e-09 F\n",
        "(ii) The potential of the inner cylinder is equal to p.d. between two cylinders i.e potentila of inner cylinder is 5000 V\n"
       ]
      }
     ],
     "prompt_number": 138
    },
    {
     "cell_type": "heading",
     "level": 2,
     "metadata": {},
     "source": [
      "Example 4.25 Page no 179"
     ]
    },
    {
     "cell_type": "code",
     "collapsed": false,
     "input": [
      "#Given\n",
      "C=5*10**-6\n",
      "V=100\n",
      "C1=3*10**-6\n",
      "\n",
      "#Calculation\n",
      "q=C*V\n",
      "Cp=C+C1\n",
      "pd=q/Cp\n",
      "\n",
      "#Result\n",
      "print\"P.D across the capacitor is \", pd,\"V\""
     ],
     "language": "python",
     "metadata": {},
     "outputs": [
      {
       "output_type": "stream",
       "stream": "stdout",
       "text": [
        "P.D across the capacitor is  62.5 V\n"
       ]
      }
     ],
     "prompt_number": 143
    },
    {
     "cell_type": "heading",
     "level": 2,
     "metadata": {},
     "source": [
      "Example 4.26 Page no 179 "
     ]
    },
    {
     "cell_type": "code",
     "collapsed": false,
     "input": [
      "#Given\n",
      "V=250              #V\n",
      "C1=6                #micro F\n",
      "C2=4\n",
      "Cp=10*10**-6\n",
      "\n",
      "#Calculation\n",
      "pd=V*C1/(C1+C2)\n",
      "q=pd*C2*10**-6\n",
      "q1=2*q\n",
      "pd1=q1/Cp\n",
      "q2=C2*pd1\n",
      "q3=C1*pd1\n",
      "\n",
      "#Result\n",
      "print\"New potentila difference is \", pd1,\"V\"\n",
      "print\"Charge on 4 micro F capacitor is \",q2,\"micro C\"\n",
      "print\"Charge on 6 micro F capacitor is \",q3,\"micro C\""
     ],
     "language": "python",
     "metadata": {},
     "outputs": [
      {
       "output_type": "stream",
       "stream": "stdout",
       "text": [
        "New potentila difference is  120.0 V\n",
        "Charge on 4 micro F capacitor is  480.0 micro C\n",
        "Charge on 6 micro F capacitor is  720.0 micro C\n"
       ]
      }
     ],
     "prompt_number": 156
    },
    {
     "cell_type": "heading",
     "level": 2,
     "metadata": {},
     "source": [
      "Example 4.28 Page no 180"
     ]
    },
    {
     "cell_type": "code",
     "collapsed": false,
     "input": [
      "#Given\n",
      "C1=16*10**-6                    # F\n",
      "C2=4                      #micro F\n",
      "V1=100                   #V\n",
      "Cp=20*10**-6               #f\n",
      "\n",
      "#Calculation\n",
      "q=C1*V1\n",
      "U1=0.5*C1*V1**2\n",
      "V=q/Cp\n",
      "U2=0.5*Cp*V**2\n",
      "\n",
      "#Result\n",
      "print\"(i) Potential difference across the capacitor is \",  V,\"Volts\"\n",
      "print\"(ii) The electrostatic energies before and after the capacitors are connected \",U2,\"J\"\n"
     ],
     "language": "python",
     "metadata": {},
     "outputs": [
      {
       "output_type": "stream",
       "stream": "stdout",
       "text": [
        "(i) Potential difference across the capacitor is  80.0 Volts\n",
        "(ii) The electrostatic energies before and after the capacitors are connected  0.064 J\n"
       ]
      }
     ],
     "prompt_number": 10
    },
    {
     "cell_type": "heading",
     "level": 2,
     "metadata": {},
     "source": [
      "Example 4.29 Page no 180"
     ]
    },
    {
     "cell_type": "code",
     "collapsed": false,
     "input": [
      "#Given\n",
      "m=9*10**9\n",
      "V=3.0*10**6\n",
      "r=2\n",
      "\n",
      "#Calculation\n",
      "q=(V*r)/m\n",
      "E=0.5*q*V\n",
      "\n",
      "#Result\n",
      "print\"The heat generated is \", E,\"J\""
     ],
     "language": "python",
     "metadata": {},
     "outputs": [
      {
       "output_type": "stream",
       "stream": "stdout",
       "text": [
        "The heat generated is  1000.0 J\n"
       ]
      }
     ],
     "prompt_number": 19
    },
    {
     "cell_type": "heading",
     "level": 2,
     "metadata": {},
     "source": [
      "Example 4.30 Page no 180"
     ]
    },
    {
     "cell_type": "code",
     "collapsed": false,
     "input": [
      "#Given\n",
      "V=12                  #V\n",
      "C=1.35*10**-10          #C\n",
      "\n",
      "#Calculation\n",
      "q=C\n",
      "\n",
      "#Result\n",
      "print\"Extra Charge supplied by battery is \", q,\"C\""
     ],
     "language": "python",
     "metadata": {},
     "outputs": [
      {
       "output_type": "stream",
       "stream": "stdout",
       "text": [
        "Extra Charge supplied by battery is  1.35e-10 C\n"
       ]
      }
     ],
     "prompt_number": 26
    },
    {
     "cell_type": "heading",
     "level": 2,
     "metadata": {},
     "source": [
      "Example 4.31 Page no 181"
     ]
    },
    {
     "cell_type": "code",
     "collapsed": false,
     "input": [
      "#Given\n",
      "C=100*10**-6             #F\n",
      "V=500                    #V\n",
      "\n",
      "#Calculation\n",
      "q=V/2.0\n",
      "E=0.5*(0.5*C*V**2)\n",
      "\n",
      "#Result\n",
      "print\"Charge in the new stored energy is \", E,\"J\""
     ],
     "language": "python",
     "metadata": {},
     "outputs": [
      {
       "output_type": "stream",
       "stream": "stdout",
       "text": [
        "Charge in the new stored energy is  6.25 J\n"
       ]
      }
     ],
     "prompt_number": 31
    },
    {
     "cell_type": "heading",
     "level": 2,
     "metadata": {},
     "source": [
      "Example 4.32 Page no 187"
     ]
    },
    {
     "cell_type": "code",
     "collapsed": false,
     "input": [
      "#Given\n",
      "A=2*10**-3                    #m**2\n",
      "d=0.01                        #m\n",
      "t=6*10**-3                    #m\n",
      "K=3\n",
      "a=8.854*10**-12\n",
      "\n",
      "#Calculation\n",
      "C=a*A/(d-t*(1-(1/3.0)))\n",
      "\n",
      "#Result\n",
      "print\"The capacitance of the capacitor is \", round(C*10**12,2)*10**-12,\"F\""
     ],
     "language": "python",
     "metadata": {},
     "outputs": [
      {
       "output_type": "stream",
       "stream": "stdout",
       "text": [
        "The capacitance of the capacitor is  2.95e-12 F\n"
       ]
      }
     ],
     "prompt_number": 37
    },
    {
     "cell_type": "heading",
     "level": 2,
     "metadata": {},
     "source": [
      "Example 4.33 Page no 188"
     ]
    },
    {
     "cell_type": "code",
     "collapsed": false,
     "input": [
      "#Given\n",
      "e=8.854*10**-12\n",
      "A=2\n",
      "t1=0.5*10**-3\n",
      "t2=1.5*10**-3\n",
      "t3=0.3*10**-3\n",
      "K1=2.0\n",
      "K2=4.0\n",
      "K3=6.0\n",
      "\n",
      "#Calculation\n",
      "C=(e*A)/((t1/K1)+(t2/K2)+(t3/K3))\n",
      "\n",
      "#Result\n",
      "print\"The capacitance of the capacitor is \", round(C*10**6,3)*10**-6,\"F\""
     ],
     "language": "python",
     "metadata": {},
     "outputs": [
      {
       "output_type": "stream",
       "stream": "stdout",
       "text": [
        "The capacitance of the capacitor is  2.6e-08 F\n"
       ]
      }
     ],
     "prompt_number": 52
    },
    {
     "cell_type": "heading",
     "level": 2,
     "metadata": {},
     "source": [
      "Example 4.34 Page no 188"
     ]
    },
    {
     "cell_type": "code",
     "collapsed": false,
     "input": [
      "#Given\n",
      "a=3                  #mm\n",
      "b=4.0                  #mm\n",
      "K1=5\n",
      "\n",
      "#Calaculation\n",
      "K2=1/((a**2/b)-a/b)*K1\n",
      "\n",
      "#Result\n",
      "print\"The relative permittivity of the additional dielectric is \", round(K2,2)"
     ],
     "language": "python",
     "metadata": {},
     "outputs": [
      {
       "output_type": "stream",
       "stream": "stdout",
       "text": [
        "The relative permittivity of the additional dielectric is  3.33\n"
       ]
      }
     ],
     "prompt_number": 56
    },
    {
     "cell_type": "heading",
     "level": 2,
     "metadata": {},
     "source": [
      "Example 4.35 Page no 188"
     ]
    },
    {
     "cell_type": "code",
     "collapsed": false,
     "input": [
      "#Given\n",
      "d=5\n",
      "t=2\n",
      "K=3.0\n",
      "\n",
      "#Calculation\n",
      "D=d+(t-t/K)\n",
      "\n",
      "#Result\n",
      "print\"New seperaion between the plates are \", round(D,2),\"mm\""
     ],
     "language": "python",
     "metadata": {},
     "outputs": [
      {
       "output_type": "stream",
       "stream": "stdout",
       "text": [
        "New seperaion between the plates are  6.33 mm\n"
       ]
      }
     ],
     "prompt_number": 62
    },
    {
     "cell_type": "heading",
     "level": 2,
     "metadata": {},
     "source": [
      "Example 4.36 Page no 189"
     ]
    },
    {
     "cell_type": "code",
     "collapsed": false,
     "input": [
      "#Given\n",
      "d=4\n",
      "t=2\n",
      "K=4.0\n",
      "C1=50*10**-12                    #f\n",
      "V0=200                           #V\n",
      "\n",
      "#Calculation\n",
      "C=(d-t+(t/K))/d\n",
      "q=C1*V0\n",
      "V=V0*C\n",
      "U=0.5*q*V\n",
      "E=0.5*q*(V0-V)\n",
      "\n",
      "#Result\n",
      "print\"(i) Final charge on ach plate is \", q,\"C\"\n",
      "print\"(ii) P.D batween the plates is \", V,\"volts\"\n",
      "print\"(iii)Final energy in the capacitor is \", U,\"J\"\n",
      "print\"(iv) Energy loss is \", E,\"J\""
     ],
     "language": "python",
     "metadata": {},
     "outputs": [
      {
       "output_type": "stream",
       "stream": "stdout",
       "text": [
        "(i) Final charge on ach plate is  1e-08 C\n",
        "(ii) P.D batween the plates is  125.0 volts\n",
        "(iii)Final energy in the capacitor is  6.25e-07 J\n",
        "(iv) Energy loss is  3.75e-07 J\n"
       ]
      }
     ],
     "prompt_number": 78
    },
    {
     "cell_type": "heading",
     "level": 2,
     "metadata": {},
     "source": [
      "Example 4.39 Page no 193"
     ]
    },
    {
     "cell_type": "code",
     "collapsed": false,
     "input": [
      "#Given\n",
      "V=25*10**5\n",
      "E=5.0*10**7\n",
      "\n",
      "#Calculation\n",
      "r=V/E\n",
      "\n",
      "#Result\n",
      "print\"Minimum radius of the spherical shell is \", r*100,\"cm\"\n"
     ],
     "language": "python",
     "metadata": {},
     "outputs": [
      {
       "output_type": "stream",
       "stream": "stdout",
       "text": [
        "Minimum radius of the spherical shell is  5.0 cm\n"
       ]
      }
     ],
     "prompt_number": 82
    }
   ],
   "metadata": {}
  }
 ]
}