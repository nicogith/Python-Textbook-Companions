{
 "metadata": {
  "name": "",
  "signature": "sha256:91c393a3f1616e8ab4ec5b337712a2b4f8e8dca0635755aebf9e9a0db573e23b"
 },
 "nbformat": 3,
 "nbformat_minor": 0,
 "worksheets": [
  {
   "cells": [
    {
     "cell_type": "heading",
     "level": 1,
     "metadata": {},
     "source": [
      "Chapter 19 Optical instruments"
     ]
    },
    {
     "cell_type": "heading",
     "level": 2,
     "metadata": {},
     "source": [
      "Example 19.1 Page no 1013"
     ]
    },
    {
     "cell_type": "code",
     "collapsed": false,
     "input": [
      "#Given\n",
      "v=-75.0\n",
      "u=0\n",
      "\n",
      "#Calculation\n",
      "f=v\n",
      "P=100/f\n",
      "\n",
      "#Result\n",
      "print\"Focal length is\", f,\"cm\"\n",
      "print\"Power of the lens is\",round(P,2),\"D\""
     ],
     "language": "python",
     "metadata": {},
     "outputs": [
      {
       "output_type": "stream",
       "stream": "stdout",
       "text": [
        "Focal length is -75.0 cm\n",
        "Power of the lens is -1.33 D\n"
       ]
      }
     ],
     "prompt_number": 7
    },
    {
     "cell_type": "heading",
     "level": 2,
     "metadata": {},
     "source": [
      "Example 19.2 Page no 1014"
     ]
    },
    {
     "cell_type": "code",
     "collapsed": false,
     "input": [
      "#Given\n",
      "u=-25.0                         #cm\n",
      "v=-150.0                       #cm\n",
      "\n",
      "#Calculation\n",
      "f=1/((1/v)-1/u)\n",
      "P=100/f\n",
      "\n",
      "#Result\n",
      "print\"Focal length of the lens is\", f,\"cm\"\n",
      "print\"Power of the lens is\",round(P,2),\"D\""
     ],
     "language": "python",
     "metadata": {},
     "outputs": [
      {
       "output_type": "stream",
       "stream": "stdout",
       "text": [
        "Focal length of the lens is 30.0 cm\n",
        "Power of the lens is 3.33 D\n"
       ]
      }
     ],
     "prompt_number": 14
    },
    {
     "cell_type": "heading",
     "level": 2,
     "metadata": {},
     "source": [
      "Example 19.3 Page no 1014"
     ]
    },
    {
     "cell_type": "code",
     "collapsed": false,
     "input": [
      "#Given\n",
      "u=-25.0                           #cm\n",
      "v=-50.0                           #cm\n",
      "\n",
      "#Calculation\n",
      "f=1/((1/v)-1/u)\n",
      "\n",
      "#Result\n",
      "print\"Focal length is\", f,\"cm\""
     ],
     "language": "python",
     "metadata": {},
     "outputs": [
      {
       "output_type": "stream",
       "stream": "stdout",
       "text": [
        "Focal length is 50.0 cm\n"
       ]
      }
     ],
     "prompt_number": 17
    },
    {
     "cell_type": "heading",
     "level": 2,
     "metadata": {},
     "source": [
      "Example 19.4 Page no 1014"
     ]
    },
    {
     "cell_type": "code",
     "collapsed": false,
     "input": [
      "#Given\n",
      "v=-80.0                      #cm\n",
      "\n",
      "#Calculation\n",
      "f=v\n",
      "P=100/f\n",
      "\n",
      "#Result\n",
      "print\"(a) Power of the lens is\", P,\"D\"\n",
      "print\"(b) No the corrective lens is concave and it reduces the size of the image. Because it bring the object at the far point of the eye\"\n",
      "print\"(c) The myopic person may have a normal near point. He must keep the book at a distance greater than 25 cm.\""
     ],
     "language": "python",
     "metadata": {},
     "outputs": [
      {
       "output_type": "stream",
       "stream": "stdout",
       "text": [
        "(a) Power of the lens is -1.25 D\n",
        "(b) No the corrective lens is concave and it reduces the size of the image. Because it bring the object at the far point of the eye\n",
        "(c) The myopic person may have a normal near point. He must keep the book at a distance greater than 25 cm.\n"
       ]
      }
     ],
     "prompt_number": 22
    },
    {
     "cell_type": "heading",
     "level": 2,
     "metadata": {},
     "source": [
      "Example 19.5 Page no 1015"
     ]
    },
    {
     "cell_type": "code",
     "collapsed": false,
     "input": [
      "#Given\n",
      "v=-75.0                       #cm\n",
      "u=-25.0                       #cm\n",
      "\n",
      "#Calculation\n",
      "f=1/((1/v)-1/u)\n",
      "P=100/f\n",
      "\n",
      "#Result\n",
      "print\"(a) Power of the lens is\", round(P,2),\"D\"\n",
      "print\"(b) The corrective lens produce a virtual imageof an object at 25 cm. The angular size of this image is the same as the object\"\n",
      "print\"(c) A hypermetropic eye may have normal far point.Hence the person prefers not to use the spectacles for distant object\""
     ],
     "language": "python",
     "metadata": {},
     "outputs": [
      {
       "output_type": "stream",
       "stream": "stdout",
       "text": [
        "(a) Power of the lens is 2.67 D\n",
        "(b) The corrective lens produce a virtual imageof an object at 25 cm. The angular size of this image is the same as the object\n",
        "(c) A hypermetropic eye may have normal far point.Hence the person prefers not to use the spectacles for distant object\n"
       ]
      }
     ],
     "prompt_number": 29
    },
    {
     "cell_type": "heading",
     "level": 2,
     "metadata": {},
     "source": [
      "Example 19.6 Pageno 1015"
     ]
    },
    {
     "cell_type": "code",
     "collapsed": false,
     "input": [
      "#Given\n",
      "P=-0.8                 #d\n",
      "v1=-15.0              #cm \n",
      "v2=-100.0              #cm\n",
      "\n",
      "#Calculation\n",
      "f=100/P\n",
      "u1=1/((1/v1)-1/f)\n",
      "u2=1/((1/v2)-(1/f))\n",
      "\n",
      "#Result\n",
      "print\"The person can see objects lying between\",round(-u1,0),\"cm and\",-u2,\"cm\""
     ],
     "language": "python",
     "metadata": {},
     "outputs": [
      {
       "output_type": "stream",
       "stream": "stdout",
       "text": [
        "The person can see objects lying between 17.0 cm and 500.0 cm\n"
       ]
      }
     ],
     "prompt_number": 43
    },
    {
     "cell_type": "heading",
     "level": 2,
     "metadata": {},
     "source": [
      "Example 19.7 Page no 1016"
     ]
    },
    {
     "cell_type": "code",
     "collapsed": false,
     "input": [
      "#Given\n",
      "u=-25              #cm\n",
      "p=3.0\n",
      "\n",
      "#Calculation\n",
      "f=100/p\n",
      "v=1/((1/f)+1/u)\n",
      "\n",
      "#Result\n",
      "print\"Distance is\",round(v,0),\"m\""
     ],
     "language": "python",
     "metadata": {},
     "outputs": [
      {
       "output_type": "stream",
       "stream": "stdout",
       "text": [
        "Distance is -1.0 m\n"
       ]
      }
     ],
     "prompt_number": 48
    },
    {
     "cell_type": "heading",
     "level": 2,
     "metadata": {},
     "source": [
      "Example 19.8 Page no 1016"
     ]
    },
    {
     "cell_type": "code",
     "collapsed": false,
     "input": [
      "#Given\n",
      "u=-25.0              #cm\n",
      "v=-90.0              #cm\n",
      "\n",
      "#calculation\n",
      "f=1/((1/v)-1/u)\n",
      "f1=(1/2.0)*10**2\n",
      "u=1/((1/v)-1/f1)\n",
      "\n",
      "#Result\n",
      "print\"(i) focal length is\",round(f,1),\"cm\"\n",
      "print\"(ii) Distance is\",round(u,1),\"cm\""
     ],
     "language": "python",
     "metadata": {},
     "outputs": [
      {
       "output_type": "stream",
       "stream": "stdout",
       "text": [
        "(i) focal length is 34.6 cm\n",
        "(ii) Distance is -32.1 cm\n"
       ]
      }
     ],
     "prompt_number": 56
    },
    {
     "cell_type": "heading",
     "level": 2,
     "metadata": {},
     "source": [
      "Example 19.9 Page no 1022"
     ]
    },
    {
     "cell_type": "code",
     "collapsed": false,
     "input": [
      "#Given\n",
      "D=25\n",
      "f=5.0             #cm\n",
      "\n",
      "#calculation\n",
      "M=1+(D/f)\n",
      "M1=D/f\n",
      "\n",
      "#Result\n",
      "print\"The magnifying power if the final image is formed at the least distance is\",M\n",
      "print\"The magnifying power if image is formed at infinity is\",M1"
     ],
     "language": "python",
     "metadata": {},
     "outputs": [
      {
       "output_type": "stream",
       "stream": "stdout",
       "text": [
        "The magnifying power if the final image is formed at the least distance is 6.0\n",
        "The magnifying power if image is formed at infinity is 5.0\n"
       ]
      }
     ],
     "prompt_number": 61
    },
    {
     "cell_type": "heading",
     "level": 2,
     "metadata": {},
     "source": [
      "Example 19.10 Page no 1023"
     ]
    },
    {
     "cell_type": "code",
     "collapsed": false,
     "input": [
      "#Given\n",
      "f=4.80            #cm\n",
      "a=1.20\n",
      "v=-24.0            #cm\n",
      "\n",
      "#Calculation\n",
      "D=f/(a-1)\n",
      "u=1/((1/v)-1/f)\n",
      "\n",
      "#Result\n",
      "print\"(i) The least distance of distinct vision is\",D,\"cm\"\n",
      "print\"(ii) Distance from the lens is\",-u,\"cm\""
     ],
     "language": "python",
     "metadata": {},
     "outputs": [
      {
       "output_type": "stream",
       "stream": "stdout",
       "text": [
        "(i) The least distance of distinct vision is 24.0 cm\n",
        "(ii) Distance from the lens is 4.0 cm\n"
       ]
      }
     ],
     "prompt_number": 69
    },
    {
     "cell_type": "heading",
     "level": 2,
     "metadata": {},
     "source": [
      "Example 19.11 Page no 1023"
     ]
    },
    {
     "cell_type": "code",
     "collapsed": false,
     "input": [
      "#Given\n",
      "v0=15.0                      #cm\n",
      "f0=3.0                        #cm\n",
      "D=25\n",
      "fe=9\n",
      "\n",
      "#Calculation\n",
      "u0=1/((1/v0)-1/f0)\n",
      "M=-(v0*D)/(u0*fe)\n",
      "\n",
      "#Result\n",
      "print\"Magnifying power is\", round(M,1)"
     ],
     "language": "python",
     "metadata": {},
     "outputs": [
      {
       "output_type": "stream",
       "stream": "stdout",
       "text": [
        "Magnifying power is 11.1\n"
       ]
      }
     ],
     "prompt_number": 74
    },
    {
     "cell_type": "heading",
     "level": 2,
     "metadata": {},
     "source": [
      "Example 19.12 Page no 1024"
     ]
    },
    {
     "cell_type": "code",
     "collapsed": false,
     "input": [
      "#Given\n",
      "P1=1.5                         #D\n",
      "P2=20.0                          #D\n",
      "u=-25.0                             #cm\n",
      "\n",
      "#Calculation\n",
      "f2=100/P2\n",
      "M=1+(D/f2)\n",
      "f1=100/P1\n",
      "v=1/((1/f1)+1/u)\n",
      "M1=1-(v/f2)\n",
      "\n",
      "#Result\n",
      "print\"(i) The maximum magnifying power together with his glasses\", M\n",
      "print\"(ii) The maximum magnifying power without glasses\",M1"
     ],
     "language": "python",
     "metadata": {},
     "outputs": [
      {
       "output_type": "stream",
       "stream": "stdout",
       "text": [
        "(i) The maximum magnifying power together with his glasses 6.0\n",
        "(ii) The maximum magnifying power without glasses 9.0\n"
       ]
      }
     ],
     "prompt_number": 83
    },
    {
     "cell_type": "heading",
     "level": 2,
     "metadata": {},
     "source": [
      "Example 19.13 Page no 1024"
     ]
    },
    {
     "cell_type": "code",
     "collapsed": false,
     "input": [
      "#Given\n",
      "l=16\n",
      "d=-2.5                           #cm\n",
      "f0=0.4                           #cm\n",
      "D=25\n",
      "\n",
      "#Calculation\n",
      "v0=l+d\n",
      "u0=1/((1/v0)-1/f0)\n",
      "M=-v0*D/(u0*d)\n",
      "\n",
      "#Result\n",
      "print\"Magnifying power of the microscope is\", M"
     ],
     "language": "python",
     "metadata": {},
     "outputs": [
      {
       "output_type": "stream",
       "stream": "stdout",
       "text": [
        "Magnifying power of the microscope is -327.5\n"
       ]
      }
     ],
     "prompt_number": 88
    },
    {
     "cell_type": "heading",
     "level": 2,
     "metadata": {},
     "source": [
      "Example 19.14 Page no 1025"
     ]
    },
    {
     "cell_type": "code",
     "collapsed": false,
     "input": [
      "#Given\n",
      "f0=1.0\n",
      "u0=-1.1                            #cm\n",
      "D=25\n",
      "fe=5.0\n",
      "ve=25.0\n",
      "\n",
      "#Calculation\n",
      "v0=1/((1/f0)+1/u0)\n",
      "d=v0+fe\n",
      "M=-(v0*D)/(u0*fe)\n",
      "ue=-1/((1/ve)+1/fe)\n",
      "D1=v0-ue\n",
      "M1=-(v0/u0)*(1+(D/fe))\n",
      "\n",
      "#Result\n",
      "print\"(i) Distance between the lenses when image is at infinity\", d,\"cm\"\n",
      "print\"Magnifying power is\",M\n",
      "print\"(ii) Distance between the lenses when image is at distinct vision\",round(D1,2),\"cm\"\n",
      "print\"Magnifying Power is\",M1"
     ],
     "language": "python",
     "metadata": {},
     "outputs": [
      {
       "output_type": "stream",
       "stream": "stdout",
       "text": [
        "(i) Distance between the lenses when image is at infinity 16.0 cm\n",
        "Magnifying power is 50.0\n",
        "(ii) Distance between the lenses when image is at distinct vision 15.17 cm\n",
        "Magnifying Power is 60.0\n"
       ]
      }
     ],
     "prompt_number": 106
    },
    {
     "cell_type": "heading",
     "level": 2,
     "metadata": {},
     "source": [
      "Example 19.15 Page no 1032"
     ]
    },
    {
     "cell_type": "code",
     "collapsed": false,
     "input": [
      "#Given\n",
      "f0=200                         #cm\n",
      "fe=5.0                           #cm\n",
      "D=25.0                            #cm\n",
      "\n",
      "#Calculation\n",
      "M=(f0/fe)*(1+(fe/D))\n",
      "M1=f0/fe\n",
      "\n",
      "#Result\n",
      "print\"(i) Magnifying power when image is formed at near point is\", M\n",
      "print\"(ii) Magnifying power when image is formed at infinity\",M1"
     ],
     "language": "python",
     "metadata": {},
     "outputs": [
      {
       "output_type": "stream",
       "stream": "stdout",
       "text": [
        "(i) Magnifying power when image is formed at near point is 48.0\n",
        "(ii) Magnifying power when image is formed at infinity 40.0\n"
       ]
      }
     ],
     "prompt_number": 110
    },
    {
     "cell_type": "heading",
     "level": 2,
     "metadata": {},
     "source": [
      "Example 19.16 Page no 1033"
     ]
    },
    {
     "cell_type": "code",
     "collapsed": false,
     "input": [
      "#Given\n",
      "fe=3\n",
      "M=4\n",
      "\n",
      "#Calculation\n",
      "f0=fe*M\n",
      "\n",
      "#Result\n",
      "print\"Focal length of the lenses is\" ,f0,\"cm and\",fe,\"cm\""
     ],
     "language": "python",
     "metadata": {},
     "outputs": [
      {
       "output_type": "stream",
       "stream": "stdout",
       "text": [
        "Focal length of the lenses is 12 cm and 3 cm\n"
       ]
      }
     ],
     "prompt_number": 112
    },
    {
     "cell_type": "heading",
     "level": 2,
     "metadata": {},
     "source": [
      "Example 19.17 Page no 1033"
     ]
    },
    {
     "cell_type": "code",
     "collapsed": false,
     "input": [
      "#Given\n",
      "u0=-200.0                          #cm\n",
      "f0=30.0                            #cm\n",
      "fe=3\n",
      "\n",
      "#Calculation\n",
      "v0=1/((1/f0)+1/u0)\n",
      "a=v0+fe\n",
      "\n",
      "#Result\n",
      "print\"Separation between the objective and eyepiece is\", round(a,1),\"cm\""
     ],
     "language": "python",
     "metadata": {},
     "outputs": [
      {
       "output_type": "stream",
       "stream": "stdout",
       "text": [
        "Separation between the objective and eyepiece is 38.3 cm\n"
       ]
      }
     ],
     "prompt_number": 118
    },
    {
     "cell_type": "heading",
     "level": 2,
     "metadata": {},
     "source": [
      "Example 19.18 Page no 1033"
     ]
    },
    {
     "cell_type": "code",
     "collapsed": false,
     "input": [
      "#Given\n",
      "ve=24.0\n",
      "fe=8.0\n",
      "f0=250.0\n",
      "a=10\n",
      "\n",
      "#Calculation\n",
      "ue=1/((1/ve)-(1/fe))\n",
      "D=f0-ue\n",
      "d=a/2.0\n",
      "A=d/f0\n",
      "\n",
      "#Result\n",
      "print\"(i) Distance between objective and eyepiece is\", D,\"cm\"\n",
      "print\"(ii) Angle subtended by the sun at the objective is\",A,\"rad\""
     ],
     "language": "python",
     "metadata": {},
     "outputs": [
      {
       "output_type": "stream",
       "stream": "stdout",
       "text": [
        "(i) Distance between objective and eyepiece is 262.0 cm\n",
        "(ii) Angle subtended by the sun at the objective is 0.02 rad\n"
       ]
      }
     ],
     "prompt_number": 126
    },
    {
     "cell_type": "heading",
     "level": 2,
     "metadata": {},
     "source": [
      "Example 19.19 Page no 1034"
     ]
    },
    {
     "cell_type": "code",
     "collapsed": false,
     "input": [
      "#Given\n",
      "M=-20\n",
      "R=-120\n",
      "\n",
      "#Calculation\n",
      "f0=R/2.0\n",
      "fe=f0/M\n",
      "\n",
      "#Result\n",
      "print\"Focal length of eyepiece is\", fe,\"cm\""
     ],
     "language": "python",
     "metadata": {},
     "outputs": [
      {
       "output_type": "stream",
       "stream": "stdout",
       "text": [
        "Focal length of eyepiece is 3.0 cm\n"
       ]
      }
     ],
     "prompt_number": 131
    },
    {
     "cell_type": "heading",
     "level": 2,
     "metadata": {},
     "source": [
      "Example 19.20 Page no 1034"
     ]
    },
    {
     "cell_type": "code",
     "collapsed": false,
     "input": [
      "#Given\n",
      "fa=180\n",
      "f=3.5\n",
      "fe=5.0\n",
      "\n",
      "#Calculation\n",
      "d=fa+(2*f)+(2*f)+fe\n",
      "M=-fa/fe\n",
      "\n",
      "#Result\n",
      "print\"Magnifying power of thetelescope is\", M"
     ],
     "language": "python",
     "metadata": {},
     "outputs": [
      {
       "output_type": "stream",
       "stream": "stdout",
       "text": [
        "Magnifying power of thetelescope is -36.0\n"
       ]
      }
     ],
     "prompt_number": 135
    },
    {
     "cell_type": "heading",
     "level": 2,
     "metadata": {},
     "source": [
      "Example 19.21 Page no 1034"
     ]
    },
    {
     "cell_type": "code",
     "collapsed": false,
     "input": [
      "#Given\n",
      "u0=-200.0                        #cm\n",
      "fa=50.0                          #cm\n",
      "ve=-25.0                           #cm\n",
      "fe=5.0                            #cm\n",
      "\n",
      "#Calculation\n",
      "v0=1/((1/fa)+1/u0)\n",
      "M0=v0/u0\n",
      "ue=1/((1/ve)-1/fe)\n",
      "Me=ve/ue\n",
      "D=v0-ue\n",
      "M=M0*Me\n",
      "\n",
      "#Result\n",
      "print\"(i) Saparation between the objective and eyepiece is\", round(D,2),\"cm\"\n",
      "print\"(ii) Magnification is\",M"
     ],
     "language": "python",
     "metadata": {},
     "outputs": [
      {
       "output_type": "stream",
       "stream": "stdout",
       "text": [
        "Saparation between the objective and eyepiece is 70.83 cm\n",
        "(ii) Magnification is -2.0\n"
       ]
      }
     ],
     "prompt_number": 147
    }
   ],
   "metadata": {}
  }
 ]
}