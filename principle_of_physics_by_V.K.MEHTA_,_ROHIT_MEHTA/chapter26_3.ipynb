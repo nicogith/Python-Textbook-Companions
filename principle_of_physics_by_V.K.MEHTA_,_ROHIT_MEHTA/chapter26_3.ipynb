{
 "metadata": {
  "name": "",
  "signature": "sha256:e41de143240c9df8b907c856d0ba61f830495897881ab9f990dfa099753c5c2e"
 },
 "nbformat": 3,
 "nbformat_minor": 0,
 "worksheets": [
  {
   "cells": [
    {
     "cell_type": "heading",
     "level": 1,
     "metadata": {},
     "source": [
      "Chapter 26 Semiconductors"
     ]
    },
    {
     "cell_type": "heading",
     "level": 2,
     "metadata": {},
     "source": [
      "Example 26.1 Page no 1414"
     ]
    },
    {
     "cell_type": "code",
     "collapsed": false,
     "input": [
      "#Given\n",
      "a=0.47\n",
      "ue=0.39                         #m**2/volt sec\n",
      "uh=0.19                         #m**2/volt sec\n",
      "e=1.6*10**-19\n",
      "\n",
      "#Calculation\n",
      "a1=1/a\n",
      "ni=a1/(e*(ue+uh))\n",
      "\n",
      "#Result\n",
      "print\"Intrinsic carrier conceentration is\", round(ni*10**-19,1)*10**19,\"/m**3\""
     ],
     "language": "python",
     "metadata": {},
     "outputs": [
      {
       "output_type": "stream",
       "stream": "stdout",
       "text": [
        "Intrinsic carrier conceentration is 2.3e+19 /m**3\n"
       ]
      }
     ],
     "prompt_number": 6
    },
    {
     "cell_type": "heading",
     "level": 2,
     "metadata": {},
     "source": [
      "Example 26.2 Page no 1414"
     ]
    },
    {
     "cell_type": "code",
     "collapsed": false,
     "input": [
      "#Given\n",
      "a=0.01\n",
      "e=1.6*10**-19\n",
      "ue=0.39\n",
      "\n",
      "#Calculation\n",
      "a1=1/a\n",
      "Nd=a1/(e*ue)\n",
      "\n",
      "#Result\n",
      "print\"Donor concentration is\", round(Nd*10**-21,1)*10**21,\"/m**3\""
     ],
     "language": "python",
     "metadata": {},
     "outputs": [
      {
       "output_type": "stream",
       "stream": "stdout",
       "text": [
        "Donor concentration is 1.6e+21 /m**3\n"
       ]
      }
     ],
     "prompt_number": 13
    },
    {
     "cell_type": "heading",
     "level": 2,
     "metadata": {},
     "source": [
      "Example 26.3 Page no 1414"
     ]
    },
    {
     "cell_type": "code",
     "collapsed": false,
     "input": [
      "#Given\n",
      "ni=2.5*10**19                           #/m**3\n",
      "e=1.6*10**19\n",
      "ue=0.36                                #m**2/volt sec\n",
      "uh=0.17              \n",
      "\n",
      "#Calculation\n",
      "a=ni*e*(ue+uh)\n",
      "\n",
      "#Result\n",
      "print\"Conductivity is\", a*10**-38,\"S/m\""
     ],
     "language": "python",
     "metadata": {},
     "outputs": [
      {
       "output_type": "stream",
       "stream": "stdout",
       "text": [
        "Conductivity is 2.12 S/m\n"
       ]
      }
     ],
     "prompt_number": 17
    },
    {
     "cell_type": "heading",
     "level": 2,
     "metadata": {},
     "source": [
      "Example 26.4 Page no 1414"
     ]
    },
    {
     "cell_type": "code",
     "collapsed": false,
     "input": [
      "#Given\n",
      "ne=8*10**13                         #/cm**3\n",
      "nh=5*10**12                         #/cm**3\n",
      "ue=23000                            #cm**2/vs\n",
      "e=1.6*10**-19\n",
      "uh=100                               #cm**2/vs\n",
      "\n",
      "#Calculation\n",
      "a=e*((ne*ue)+(nh*uh))\n",
      "A1=1/a\n",
      "\n",
      "#Result\n",
      "print\"(i) Since electron density is greater than the hole density, the semiconductor is n-type\"\n",
      "print\"(ii) Resistivity of the sample is\", round(A1,3),\"ohm cm\""
     ],
     "language": "python",
     "metadata": {},
     "outputs": [
      {
       "output_type": "stream",
       "stream": "stdout",
       "text": [
        "(i) Since electron density is greater than the hole density, the semiconductor is n-type\n",
        "(ii) Resistivity of the sample is 3.396 ohm cm\n"
       ]
      }
     ],
     "prompt_number": 26
    },
    {
     "cell_type": "heading",
     "level": 2,
     "metadata": {},
     "source": [
      "Example 26.5 Page no 1415"
     ]
    },
    {
     "cell_type": "code",
     "collapsed": false,
     "input": [
      "#Given\n",
      "ni=1.5*10**16                      #/m**3\n",
      "nh=4.5*10**22                      #/m**3\n",
      "\n",
      "#Calculation\n",
      "ne=ni**2/nh\n",
      "\n",
      "#Result\n",
      "print\"ne in the doped semiconductor is\",ne*10**-9,\"*10**9 /m**3\""
     ],
     "language": "python",
     "metadata": {},
     "outputs": [
      {
       "output_type": "stream",
       "stream": "stdout",
       "text": [
        "ne in the doped semiconductor is 5.0 *10**9 /m**3\n"
       ]
      }
     ],
     "prompt_number": 29
    },
    {
     "cell_type": "heading",
     "level": 2,
     "metadata": {},
     "source": [
      "Example 26.6 Page no 1415 "
     ]
    },
    {
     "cell_type": "code",
     "collapsed": false,
     "input": [
      "#Given\n",
      "l=5890.0                          #A\n",
      "\n",
      "#Calculation\n",
      "E=12400/l\n",
      "\n",
      "#Result\n",
      "print\"Minimum energy is\",round(E,1),\"ev\""
     ],
     "language": "python",
     "metadata": {},
     "outputs": [
      {
       "output_type": "stream",
       "stream": "stdout",
       "text": [
        "Minimum energy is 2.1 ev\n"
       ]
      }
     ],
     "prompt_number": 32
    },
    {
     "cell_type": "heading",
     "level": 2,
     "metadata": {},
     "source": [
      "Example 26.7 Page no 1415"
     ]
    },
    {
     "cell_type": "code",
     "collapsed": false,
     "input": [
      "#Given\n",
      "a=6*10**19\n",
      "b=10**-7\n",
      "\n",
      "#Calculation\n",
      "A=a*b\n",
      "\n",
      "#Result\n",
      "print\"Number of holes is\",A"
     ],
     "language": "python",
     "metadata": {},
     "outputs": [
      {
       "output_type": "stream",
       "stream": "stdout",
       "text": [
        "Number of holes is 6e+12\n"
       ]
      }
     ],
     "prompt_number": 34
    },
    {
     "cell_type": "heading",
     "level": 2,
     "metadata": {},
     "source": [
      "Example 26.8 Page no 1415"
     ]
    },
    {
     "cell_type": "code",
     "collapsed": false,
     "input": [
      "#Given\n",
      "E=0.65\n",
      "a=10**-10\n",
      "\n",
      "#Calculation\n",
      "l=(12400*a)/E\n",
      "\n",
      "#Result\n",
      "print\"Maximum wavelength of electromagnetic radiation is\",round(l*10**6,1)*10**-6,\"m\""
     ],
     "language": "python",
     "metadata": {},
     "outputs": [
      {
       "output_type": "stream",
       "stream": "stdout",
       "text": [
        "Maximum wavelength of electromagnetic radiation is 1.9e-06 m\n"
       ]
      }
     ],
     "prompt_number": 39
    },
    {
     "cell_type": "heading",
     "level": 2,
     "metadata": {},
     "source": [
      "Example 26.9 Page no 1416"
     ]
    },
    {
     "cell_type": "code",
     "collapsed": false,
     "input": [
      "#Given\n",
      "a=5                 #/ohm/cm\n",
      "ue=3900              #cm**2/vs\n",
      "e=1.6*10**-19\n",
      "\n",
      "#Calculation\n",
      "Nd=a/(ue*e)\n",
      "\n",
      "#Result\n",
      "print\"Number density of donor atom is\",round(Nd*10**-15,2)*10**15,\"/cm**3\""
     ],
     "language": "python",
     "metadata": {},
     "outputs": [
      {
       "output_type": "stream",
       "stream": "stdout",
       "text": [
        "Number density of donor atom is 8.01e+15 /cm**3\n"
       ]
      }
     ],
     "prompt_number": 45
    },
    {
     "cell_type": "heading",
     "level": 2,
     "metadata": {},
     "source": [
      "Example 26.10 Page no 1416"
     ]
    },
    {
     "cell_type": "code",
     "collapsed": false,
     "input": [
      "#Given\n",
      "ni=1.5*10**16                   #/m**3\n",
      "a=5*10**28\n",
      "b=10.0**6\n",
      "\n",
      "#Calculation\n",
      "Ne=a/b\n",
      "nh=ni**2/Ne\n",
      "\n",
      "#Result\n",
      "print\"Number of Electrons is\",Ne,\"/m**3\"\n",
      "print\"Number of holes is\",nh*10**-9,\"*10**9 /m**3\""
     ],
     "language": "python",
     "metadata": {},
     "outputs": [
      {
       "output_type": "stream",
       "stream": "stdout",
       "text": [
        "Number of Electrons is 5e+22 /m**3\n",
        "Number of holes is 4.5 *10**9 /m**3\n"
       ]
      }
     ],
     "prompt_number": 50
    },
    {
     "cell_type": "heading",
     "level": 2,
     "metadata": {},
     "source": [
      "Example 26.11 Page no 1416"
     ]
    },
    {
     "cell_type": "code",
     "collapsed": false,
     "input": [
      "#Given\n",
      "d=4.0*10*-8                #m\n",
      "\n",
      "#Calculation\n",
      "a=2/1.6*10**-19\n",
      "E=-a/d\n",
      "\n",
      "#Result\n",
      "print\"Electric field is\", round(E*10**22,0),\"*10**7 V/m\""
     ],
     "language": "python",
     "metadata": {},
     "outputs": [
      {
       "output_type": "stream",
       "stream": "stdout",
       "text": [
        "Electric field is 4.0 *10**7 V/m\n"
       ]
      }
     ],
     "prompt_number": 61
    }
   ],
   "metadata": {}
  }
 ]
}