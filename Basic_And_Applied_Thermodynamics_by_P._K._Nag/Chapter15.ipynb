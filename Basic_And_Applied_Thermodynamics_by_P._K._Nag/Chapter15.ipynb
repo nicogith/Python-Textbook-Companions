{
 "cells": [
  {
   "cell_type": "markdown",
   "metadata": {},
   "source": [
    "# Chapter 15:Psychrometrics"
   ]
  },
  {
   "cell_type": "markdown",
   "metadata": {},
   "source": [
    "## Ex15.1:pg-631"
   ]
  },
  {
   "cell_type": "code",
   "execution_count": 1,
   "metadata": {
    "collapsed": false
   },
   "outputs": [
    {
     "name": "stdout",
     "output_type": "stream",
     "text": [
      "\n",
      " Example 15.1\n",
      "\n",
      "\n",
      " Specific humidity is  0.0186241999923  kg vap./kg dry air\n",
      "\n",
      " Partial pressure of water vapour is  0.0294557080928  bar\n",
      "\n",
      " Dew point temperature is  24.1  degree celcius\n",
      "\n",
      " Relative humidity is  61.3660585267  percent \n",
      "\n",
      " Degree of saturation is  0.602092639086\n",
      "\n",
      " Density of dry air is  1.12382965889  kg/m**3\n",
      "\n",
      " Density of water vapor is  0.0209304283244  kg/m**3\n",
      "\n",
      " Enthalpy of the mixture is  80.1126961785  kJ/kg\n"
     ]
    }
   ],
   "source": [
    "import math\n",
    "Ps = 0.033363 #Saturation pressure in bar\n",
    "P = 1.0132 # Atmospheric pressure in bar\n",
    "W2 = (0.622*Ps)/(P-Ps) # mass fraction of moisture\n",
    "hfg2 = 2439.9 # Latent heat of vaporization in kJ/kg\n",
    "hf2 = 109.1 # Enthalpy of liquid moisture in kJ/kg\n",
    "cpa = 1.005 # Constant pressure heat capacity in kJ/kg\n",
    "hg = 2559.9 # Enthalpy of gas moisture in kJ/kg\n",
    "hw1 = hg # constant enthalpy\n",
    "T2 = 26 # wbt in degree Celsius \n",
    "T1 = 32 # dbt in degree Celsius \n",
    "W1 = (cpa*(T2-T1)+(W2*hfg2))/(hw1-hf2)\n",
    "Pw = ((W1/0.622)*P)/(1+(W1/0.622))\n",
    "\n",
    "Psat = 0.048 # Saturation pressure in bar at 32 degree\n",
    "fi = Pw/Psat # Relative humidity\n",
    "\n",
    "mu = (Pw/Psat)*((P-Psat)/(P-Pw)) # Degree of Saturation\n",
    "Pa = P-Pw # Air pressure\n",
    "Ra = 0.287 # Gase constant\n",
    "Tdb = T1+273 #  dbt in K\n",
    "rho_a = (Pa*100)/(Ra*Tdb) # Density of air \n",
    "rho_w = W1*rho_a # Water vapor density\n",
    "ta = 32 # air temperature in degree Celsius  \n",
    "tdb = 32 # dbt in degree Celsius \n",
    "tdp = 24.1# Dew point temperature in degree Celsius \n",
    "h = cpa*ta + W1*(hg+1.88*(tdb-tdp))\n",
    "print \"\\n Example 15.1\\n\"\n",
    "print \"\\n Specific humidity is \",W1 ,\" kg vap./kg dry air\"\n",
    "print \"\\n Partial pressure of water vapour is \",Pw ,\" bar\"\n",
    "print \"\\n Dew point temperature is \",tdp ,\" degree celcius\"\n",
    "print \"\\n Relative humidity is \",fi*100 ,\" percent \"\n",
    "print \"\\n Degree of saturation is \",mu\n",
    "print \"\\n Density of dry air is \",rho_a ,\" kg/m**3\"\n",
    "print \"\\n Density of water vapor is \",rho_w ,\" kg/m**3\"\n",
    "print \"\\n Enthalpy of the mixture is \",h ,\" kJ/kg\"\n",
    "#The answers vary due to round off error\n",
    "\n"
   ]
  },
  {
   "cell_type": "markdown",
   "metadata": {},
   "source": [
    "## Ex15.2:pg-632"
   ]
  },
  {
   "cell_type": "code",
   "execution_count": 2,
   "metadata": {
    "collapsed": false
   },
   "outputs": [
    {
     "name": "stdout",
     "output_type": "stream",
     "text": [
      "\n",
      " Example 15.2\n",
      "\n",
      "\n",
      " Humidity ratio of inlet mixture is  0.0107221417941  kg vap./kg dry air\n",
      "\n",
      " Relative humidity is  39.9106245278  percent\n"
     ]
    }
   ],
   "source": [
    "import math\n",
    "Ps = 2.339 # Satutation pressure in kPa\n",
    "P = 100.0 # Atmospheric pressure in kPa\n",
    "W2 = (0.622*Ps)/(P-Ps) # Specific humidity\n",
    "hfg2 = 2454.1 # Latent heat of vaporization in kJ/kg\n",
    "hf2 = 83.96 # Enthalpy of fluid in kJ/kg\n",
    "cpa = 1.005 # COnstant pressure heat capacity of air\n",
    "hw1 = 2556.3# ENthalpy of water\n",
    "T2 = 20.0  # Exit tempeature of mixture in degree Celsius\n",
    "T1 = 30.0 # Inlet tempeature of mixture in degree Celsius\n",
    "W1 = (cpa*(T2-T1)+(W2*hfg2))/(hw1-hf2) # Specific humidity at inlet\n",
    "Pw1 = ((W1/0.622)*P)/(1+(W1/0.622)) # pressure due to moisture\n",
    "Ps1 = 4.246 # Saturation pressure in kPa\n",
    "fi = (Pw1/Ps1) # Humidity ratio \n",
    "\n",
    "print \"\\n Example 15.2\\n\"\n",
    "print \"\\n Humidity ratio of inlet mixture is \",W1 ,\" kg vap./kg dry air\"\n",
    "print \"\\n Relative humidity is \",fi*100 ,\" percent\"\n",
    "#The answers vary due to round off error\n"
   ]
  },
  {
   "cell_type": "markdown",
   "metadata": {},
   "source": [
    "## Ex15.3:pg-633"
   ]
  },
  {
   "cell_type": "code",
   "execution_count": 3,
   "metadata": {
    "collapsed": false
   },
   "outputs": [
    {
     "name": "stdout",
     "output_type": "stream",
     "text": [
      "\n",
      " Example 15.3\n",
      "\n",
      "\n",
      " Mass of spray water required is  0.00338125323083  kg moisture/m**3\n",
      "\n",
      " Temperature to which air must be heated is  27.0827212424  degree celcius\n"
     ]
    }
   ],
   "source": [
    "import math\n",
    "Psat = 2.339 # Saturation pressure in kPa\n",
    "fi3 = 0.50 # Humidity ratio\n",
    "P = 101.3 # Atmospheric pressure in kPa\n",
    "cp = 1.005 # Constant pressure heat addition in kJ/kg\n",
    "Pw3 = fi3*Psat # Vapor pressure\n",
    "Pa3 = P-Pw3 # Air pressure\n",
    "W3 = 0.622*(Pw3/Pa3) # Specific humidity\n",
    "Psa1_1 = 0.7156 # Saturation pressure in kPa\n",
    "Pw1 = 0.7156 # moister pressure in kPa \n",
    "Pa1 = P-Pw1 # Air pressure\n",
    "W1 = 0.622*(Pw1/Pa1)  # Specific humidity\n",
    "W2 = W1 # Constant humidity process\n",
    "T3 = 293.0 # Temperature at state 3 in K\n",
    "Ra = 0.287 # Gas constant\n",
    "Pa3 = 100.13 # Air pressure at state 3\n",
    "va3 = (Ra*T3)/Pa3 # volume of air at state 3\n",
    "SW = (W3-W1)/va3 # spray water \n",
    "tsat = 9.65 # Saturation temperature in K\n",
    "hg = 2518.0 # Enthalpy of gas in kJ/kg\n",
    "h4 = 10.0 # Enthalpy at state 4 in kJ/kg\n",
    "t3 = T3-273\n",
    "t2 = ( W3*(hg+1.884*(t3-tsat))-W2*(hg-1.884*tsat) + cp*t3 - (W3-W2)*h4 )/ (cp+W2*1.884)\n",
    "print \"\\n Example 15.3\\n\"\n",
    "print \"\\n Mass of spray water required is \",SW ,\" kg moisture/m**3\"\n",
    "print \"\\n Temperature to which air must be heated is \",t2 ,\" degree celcius\"\n",
    "#The answers vary due to round off error"
   ]
  },
  {
   "cell_type": "markdown",
   "metadata": {},
   "source": [
    "## Ex15.4:pg-635"
   ]
  },
  {
   "cell_type": "code",
   "execution_count": 4,
   "metadata": {
    "collapsed": false
   },
   "outputs": [
    {
     "name": "stdout",
     "output_type": "stream",
     "text": [
      "\n",
      " Example 15.4\n",
      "\n",
      "\n",
      " Capacity of the cooling coil is  33.7880496054  tonnes\n",
      "\n",
      " Capacity of the heating coil is  18.7711386697  kW\n",
      "\n",
      " Rate of water vapor removal is  0.0319109357384  kg/s\n"
     ]
    }
   ],
   "source": [
    "import math\n",
    "h1 = 82.0 # Enthalpy at state 1 in kJ/kg\n",
    "h2 = 52.0 # Enthalpy at state 2 in kJ/kg\n",
    "h3 = 47.0 # Enthalpy at state 3 in kJ/kg\n",
    "h4 = 40.0# Enthalpy at state 4 in kJ/kg\n",
    "W1 = 0.020 # Specific humidity at state 1\n",
    "W2 = 0.0115# Specific humidity at state 2 \n",
    "W3 = W2 # Constant humidity process\n",
    "v1 = 0.887 # Specific volume at state 1\n",
    "v = 3.33 # amount of free sir circulated\n",
    "G = v/v1 # air flow rate\n",
    "CC = (G*(h1-h3)*3600)/14000 # Capacity of the heating Cooling coil\n",
    "R = G*(W1-W3) # Rate of water vapor removal\n",
    "HC = G*(h2-h3) #Capacity of the heating coil\n",
    "print \"\\n Example 15.4\\n\"\n",
    "print \"\\n Capacity of the cooling coil is \",CC ,\" tonnes\"\n",
    "print \"\\n Capacity of the heating coil is \",HC ,\" kW\"\n",
    "print \"\\n Rate of water vapor removal is \",R ,\" kg/s\"\n",
    "#The answers vary due to round off error"
   ]
  },
  {
   "cell_type": "markdown",
   "metadata": {},
   "source": [
    "## Ex15.5:pg-636"
   ]
  },
  {
   "cell_type": "code",
   "execution_count": 5,
   "metadata": {
    "collapsed": false
   },
   "outputs": [
    {
     "name": "stdout",
     "output_type": "stream",
     "text": [
      "\n",
      " Example 15.5 \n",
      "\n",
      "\n",
      " Final condition of air is given by\n",
      "\n",
      " W3 =  0.0144  kg vap./kg dry air\n",
      "\n",
      " h3 =   71.6666666667  kJ/kg dry air\n"
     ]
    }
   ],
   "source": [
    "import math\n",
    "W1 = 0.0058 # Humidity ratio for first stream\n",
    "W2 = 0.0187  # Humidity ratio for second stream\n",
    "h1 = 35.0 # Enthalpy of first stream in kJ/kg\n",
    "h2 = 90.0# Enthalpy of second stream in kJ/kg\n",
    "G12 = 1.0/2.0 #ratio\n",
    "W3 = (W2+G12*W1)/(1+G12) # Final humidity ratio of mixture\n",
    "h3 = (2.0/3.0)*h2 + (1.0/3.0)*h1# Final enthalpy of mixture\n",
    "\n",
    "print \"\\n Example 15.5 \\n\"\n",
    "print \"\\n Final condition of air is given by\"\n",
    "print \"\\n W3 = \",W3 ,\" kg vap./kg dry air\"\n",
    "print \"\\n h3 =  \",h3 ,\" kJ/kg dry air\"\n",
    "#The answers vary due to round off error\n",
    "\n"
   ]
  },
  {
   "cell_type": "markdown",
   "metadata": {},
   "source": [
    "## Ex15.6:pg-637"
   ]
  },
  {
   "cell_type": "code",
   "execution_count": 6,
   "metadata": {
    "collapsed": false
   },
   "outputs": [
    {
     "name": "stdout",
     "output_type": "stream",
     "text": [
      "\n",
      " Example 15.6 \n",
      "\n",
      "\n",
      " The temperature of air at the end of the drying process is  38.5  degree celsius,\n",
      " Heat rejected during the cooling process is  18.5  kJ/kg,\n",
      " The relative humidity is  53.0  percent,\n",
      " The dew point temperature at the end of drying process is  11.2  degree celsius,\n",
      " The moisture removed during the drying process is  0.007  kg vap/kg dry air\n"
     ]
    }
   ],
   "source": [
    "import math\n",
    "# Given that\n",
    "t = 21.0 # Temperature in degreee celsius\n",
    "w = 20.0 # Relative humidity in percentage\n",
    "t_ = 21.0 # Final temperature of air in degree celsius\n",
    "print \"\\n Example 15.6 \\n\"\n",
    "# From the psychrometric chart \n",
    "T2 = 38.5 # In degree celsius\n",
    "h1_3 = 60.5-42 # In kJ/kg\n",
    "fi3 = 53.0 # In percentage \n",
    "t4 = 11.2 # In degree celsius\n",
    "W1_2 = 0.0153-0.0083 # In kg vap /kg dry air\n",
    "print \"\\n The temperature of air at the end of the drying process is \",T2 ,\" degree celsius,\\n Heat rejected during the cooling process is \",h1_3 ,\" kJ/kg,\\n The relative humidity is \",fi3 ,\" percent,\\n The dew point temperature at the end of drying process is \",t4 ,\" degree celsius,\\n The moisture removed during the drying process is \",W1_2 ,\" kg vap/kg dry air\""
   ]
  },
  {
   "cell_type": "markdown",
   "metadata": {},
   "source": [
    "## Ex15.7:pg-638"
   ]
  },
  {
   "cell_type": "code",
   "execution_count": 7,
   "metadata": {
    "collapsed": false
   },
   "outputs": [
    {
     "name": "stdout",
     "output_type": "stream",
     "text": [
      "\n",
      " Example 15.7 \n",
      "\n",
      "\n",
      " Capacity of the cooling coil is  32.2863520408  tonnes\n",
      "\n",
      " Capacity of humidifier is  69.3080357143  kg/h\n"
     ]
    }
   ],
   "source": [
    "import math\n",
    "h1 = 57.0 # Enthalpy at state 1 in kJ/kg \n",
    "h2 = h1 # Isenthalpic process\n",
    "h3 = 42.0 # Enthalpy at state 3 in kJ/kg\n",
    "W1 = 0.0065 # Humidity ratio at sate 1\n",
    "W2 = 0.0088 # Humidity ratio at sate 2\n",
    "W3 = W2 # Constant humidity ratio process\n",
    "t2 = 34.5 # Temperature at state 2\n",
    "v1 = 0.896# Specific volume at state 1 in m**3/kg\n",
    "n = 1500.0 # seating capacity of hall\n",
    "a = 0.3 # amount of outdoor air supplied m**3 per person\n",
    "G = (n*a)/0.896  # Amount of dry air supplied\n",
    "CC = (G*(h2-h3)*60)/14000 # Cooling capacity \n",
    "R = G*(W2-W1)*60 # Capacity of humidifier\n",
    "\n",
    "print \"\\n Example 15.7 \\n\"\n",
    "print \"\\n Capacity of the cooling coil is \",CC ,\" tonnes\"\n",
    "print \"\\n Capacity of humidifier is \",R ,\" kg/h\"\n",
    "#The answers vary due to round off error\n",
    "\n"
   ]
  },
  {
   "cell_type": "markdown",
   "metadata": {},
   "source": [
    "## Ex15.8:pg-639"
   ]
  },
  {
   "cell_type": "code",
   "execution_count": 8,
   "metadata": {
    "collapsed": false
   },
   "outputs": [
    {
     "name": "stdout",
     "output_type": "stream",
     "text": [
      "\n",
      " Example 15.8\n",
      "\n",
      "\n",
      " Temperature of water leaving the tower is  21.8128048148  degree celcius\n",
      "\n",
      " Range of cooling water is  8.18719518522  degree Celsius\n",
      "\n",
      " Approach of cooling water is  6.61280481478  degree celcius\n",
      "\n",
      " Fraction of water evaporated is  0.0125  kg/kg dry air\n"
     ]
    }
   ],
   "source": [
    "import math\n",
    "twb1 = 15.2# Wbt in degree Celsius \n",
    "twb2 = 26.7# Wbt in degree Celsius  \n",
    "tw3 = 30  # Temperature at state 3 in degree Celsius \n",
    "h1 = 43 # Enthalpy at state 1 in kJ/kg\n",
    "h2 = 83.5 # Enthalpy at state 2 in kJ/kg\n",
    "hw = 84 # Enthalpy of water in kJ/kg\n",
    "mw = 1.15 # mass flow rate of water in kg/s\n",
    "W1 = 0.0088 # Humidity ratio of inlet stream \n",
    "W2 = 0.0213 # Humidity ratio of exit stream \n",
    "hw3 = 125.8 # Enthalpy of water entering tower in kJ/kg \n",
    "hm = 84 # Enthalpy of make up water in kJ/kg \n",
    "G = 1 # mass flow rate of dry air in kg/s\n",
    "hw34 = (G/mw)*((h2-h1)-(W2-W1)*hw)  # Enthalpy change\n",
    "tw4 = tw3-(hw34/4.19) # Temperature of water leaving the tower\n",
    "A = tw4-twb1 #Approach of cooling water\n",
    "R = tw3-tw4 #Range of cooling water\n",
    "x = G*(W2-W1) #Fraction of water evaporated \n",
    "\n",
    "print \"\\n Example 15.8\\n\"\n",
    "print \"\\n Temperature of water leaving the tower is \",tw4 ,\" degree celcius\"\n",
    "print \"\\n Range of cooling water is \",R ,\" degree Celsius\"\n",
    "print \"\\n Approach of cooling water is \",A ,\" degree celcius\"\n",
    "print \"\\n Fraction of water evaporated is \",x ,\" kg/kg dry air\"\n",
    "#The answers vary due to round off error"
   ]
  },
  {
   "cell_type": "markdown",
   "metadata": {},
   "source": [
    "## Ex15.9:pg-639"
   ]
  },
  {
   "cell_type": "code",
   "execution_count": 9,
   "metadata": {
    "collapsed": false
   },
   "outputs": [
    {
     "name": "stdout",
     "output_type": "stream",
     "text": [
      "\n",
      " Example 15.9 \n",
      "\n",
      "\n",
      " Bypass factor of coolin coil is  0.415730337079\n"
     ]
    }
   ],
   "source": [
    "import math\n",
    "# Given that\n",
    "DBT = 40.0 # Dry bulb temperature in degree celsius\n",
    "DBT_ = 25.0 # Dry bulb temperature after cooling and dehumidification in degree celsius\n",
    "RH = 70.0 # Relative humidity in percentage\n",
    "f = 30.0 # Air flow rate in cmm\n",
    "print \"\\n Example 15.9 \\n\"\n",
    "# From the psychrometric chart \n",
    "v1 = 0.9125 # In m**3/kg\n",
    "G = f/v1\n",
    "h5 = 41.5 # In kJ/kg\n",
    "W1 = 0.0182 # In kg vapor/kg dry air \n",
    "h1 = 86.0 # In kJ/kg d.a.\n",
    "W2 = 0.0136 # In kg vapor/kg dry air \n",
    "h2 = 60.0 # In kJ/kg\n",
    "L = G*(h1-h2)/3.5\n",
    "Mo = G*(W1-W2)\n",
    "x = (h2-h5)/(h1-h5)\n",
    "print \"\\n Bypass factor of coolin coil is \",x\n",
    "# Answer veries due to round off error"
   ]
  },
  {
   "cell_type": "markdown",
   "metadata": {},
   "source": [
    "## Ex15.10:pg-641"
   ]
  },
  {
   "cell_type": "code",
   "execution_count": 10,
   "metadata": {
    "collapsed": false
   },
   "outputs": [
    {
     "name": "stdout",
     "output_type": "stream",
     "text": [
      "\n",
      " Example 15.10 \n",
      "\n",
      "\n",
      " Capacity of heating coil is  6.94444444444  kW,\n",
      " Surface temperature of heating coil is  40.0  degree celsius,\n",
      " Capacity of humidifier is  2.66666666667  kg/h \n"
     ]
    }
   ],
   "source": [
    "import math\n",
    "# Given that\n",
    "c = 75.0 # Capacity of classroom in no of perasons\n",
    "DBT1 = 10.0 # Outdoor Dry bulb temperature in degree celsius\n",
    "WBT1 = 8.0 # Outdoor Wet bulb temperature in degree celsius\n",
    "DBT2 = 20.0 # Indoor Dry bulb temperature in degree celsius\n",
    "RH2 = 50.0 # Relative humidity in percentage\n",
    "x =0.5 # Bypass factor\n",
    "f = 0.3 # Air flow rate per person in cmm\n",
    "print \"\\n Example 15.10 \\n\"\n",
    "# From the psychrometric chart \n",
    "W1 = 0.0058 # In kg moisture/kg d.a.\n",
    "h1 = 24.5 # In kJ/kg\n",
    "h2 = 39.5 # In kJ/kg\n",
    "h3 = h2\n",
    "W3 = 0.0074 # In kg moisture/kg d.a.\n",
    "t2 = 25.0 # In degree celsius\n",
    "v1 = .81 # In m**3/kg d.a.\n",
    "G = f*c/v1\n",
    "C = G*(h2-h1)/60\n",
    "t4 = (t2-x*DBT1)/(1-x)\n",
    "ts = t4\n",
    "C_H = G*(W3-W1)*60\n",
    "print \"\\n Capacity of heating coil is \",C ,\" kW,\\n Surface temperature of heating coil is \",ts ,\" degree celsius,\\n Capacity of humidifier is \",C_H ,\" kg/h \""
   ]
  },
  {
   "cell_type": "markdown",
   "metadata": {},
   "source": [
    "## Ex15.11:pg-641"
   ]
  },
  {
   "cell_type": "code",
   "execution_count": 11,
   "metadata": {
    "collapsed": false
   },
   "outputs": [
    {
     "name": "stdout",
     "output_type": "stream",
     "text": [
      "\n",
      " Example 15.11 \n",
      "\n",
      "\n",
      " DBT of air leaving the coil is  18.6  degree celsius,\n",
      " WBT of air leaving the coil is  12.5  degree celsius,\n",
      " Coil bypass factor is  0.525426680599\n"
     ]
    }
   ],
   "source": [
    "import math\n",
    "# Given that\n",
    "DBT = 31.0 # Dry bulb temperature in degree celsius\n",
    "WBT = 18.5 # Wet bulb temperature in degree celsius\n",
    "t = 4.4 # Effective surface temperature of coil in degree celsius\n",
    "RE = 12.5 # Refrigeration effect by the coil in kW\n",
    "f= 39.6 # Air flow rate in cmm\n",
    "print \"\\n Example 15.11 \\n\"\n",
    "# From the fig. given in the example\n",
    "ws = 5.25 #In g/kg d.a.\n",
    "hs = 17.7 #In kJ/kg d.a.\n",
    "v1 = 0.872 # In m**3/kg d.a.\n",
    "h1 = 52.5 # In kJ/kg d.a.\n",
    "w1 = 8.2 # In g/kg d.a.\n",
    "G = f/v1\n",
    "h2 = h1-(RE*60)/G\n",
    "w2 = w1-((h1-h2)/(h1-hs))*(w1-ws)\n",
    "# From the psychrometric chart\n",
    "t2 = 18.6 # In degree celsius\n",
    "t_ = 12.5 # In degree celsius\n",
    "x = (h2-hs)/(h1-hs)\n",
    "print \"\\n DBT of air leaving the coil is \",t2 ,\" degree celsius,\\n WBT of air leaving the coil is \",t_ ,\" degree celsius,\\n Coil bypass factor is \",x  \n",
    "# Answer veries due to round off error\n"
   ]
  },
  {
   "cell_type": "markdown",
   "metadata": {},
   "source": [
    "## Ex15.12:pg-641"
   ]
  },
  {
   "cell_type": "code",
   "execution_count": 12,
   "metadata": {
    "collapsed": false
   },
   "outputs": [
    {
     "name": "stdout",
     "output_type": "stream",
     "text": [
      "\n",
      " Example 15.12 \n",
      "\n",
      "\n",
      " Capacity of cooling coil is  100.803276106  tonnes,\n",
      " Bypass factor of cooling coil is  0.0588235294118 ,\n",
      " Capacity of heating coil is  22.6666666667  kW,\n",
      " Surface temperature of heating coil is  44.1014332966  degree celsius,\n",
      " Mass of water vapor removed is  5.22601984564  kg/min \n"
     ]
    }
   ],
   "source": [
    "import math\n",
    "# Given that\n",
    "c = 75.0 # Capacity of classroom in no of perasons\n",
    "DBT1 = 35.0 # Outdoor Dry bulb temperature in degree celsius\n",
    "RH1 = 70.0 # Outdoor relative humidity in percentage\n",
    "DBT2 = 20.0 # Indoor Dry bulb temperature in degree celsius \n",
    "RH1 = 60.0 # Indoor relative humidity in percentage\n",
    "DPT = 10.0 # Cooling coil dew point temperature in degree celsius\n",
    "x =0.25 # Bypass factor\n",
    "f = 300.0 # Air flow rate in cmm\n",
    "print \"\\n Example 15.12 \\n\"\n",
    "# From the psychrometric chart \n",
    "W1 = 0.0246 # In kg vap./kg d.a.\n",
    "h1 = 98.0 # In kJ/kg\n",
    "v1 = 0.907 # In m**3/kg d.a.\n",
    "h3 = 42.0 # In kJ/kg\n",
    "W3 = 0.0088 # In kg moisture/kg d.a.\n",
    "h2 = 34.0 # In kJ/kg\n",
    "hs = 30.0 # In kJ/kg\n",
    "t2 = 12.0 # In degree celsius\n",
    "G = f/v1\n",
    "C = G*(h1-h2)/(60*3.5)\n",
    "X = (h2-hs)/(h1-hs)\n",
    "C_ = G*(h3-h2)/60\n",
    "t4 = (DBT2-x*t2)/(1-x)\n",
    "C_H = G*(W1-W3)\n",
    "print \"\\n Capacity of cooling coil is \",C ,\" tonnes,\\n Bypass factor of cooling coil is \",X ,\",\\n Capacity of heating coil is \",t4 ,\" kW,\\n Surface temperature of heating coil is \",C_ ,\" degree celsius,\\n Mass of water vapor removed is \",C_H ,\" kg/min \"\n",
    "#Answers veries due to round off error"
   ]
  },
  {
   "cell_type": "markdown",
   "metadata": {},
   "source": [
    "## Ex15.13:pg-641"
   ]
  },
  {
   "cell_type": "code",
   "execution_count": 13,
   "metadata": {
    "collapsed": false
   },
   "outputs": [
    {
     "name": "stdout",
     "output_type": "stream",
     "text": [
      "\n",
      " Example 15.13\n",
      "\n",
      "\n",
      " Make up water flow rate is  0.127715382722  kg/s\n",
      "\n",
      " Volume flow rate of air is  3.39095173631  m**3/s\n"
     ]
    }
   ],
   "source": [
    "import math\n",
    "# at 15 degree Celsius\n",
    "Psat1 = 0.01705  # Saturation pressure in bar\n",
    "hg1 = 2528.9 # Enthalpy in kJ/kg\n",
    "# At 35 degree Celsius\n",
    "Psat2 = 0.05628 # Saturation pressure in bar\n",
    "hg2 = 2565.3 # Enthalpy in kJ/kg\n",
    "fi1 = 0.55# Humidity ratio at state 1\n",
    "Pw1 = fi1*Psat1 # water vapor pressure at state 1\n",
    "fi2 = 1.0 # Humidity ratio at state 2\n",
    "Pw2 = fi2*Psat2 # water vapor pressure at state 2 \n",
    "P = 0.1 # Atmospheric pressure in MPa\n",
    "W1 = (0.622*Pw1)/(P*10-Pw1)\n",
    "W2 = (0.622*Pw2)/(P*10-Pw2)\n",
    "MW = W2-W1 # unit mass flow rate of water\n",
    "t2 = 35.0 # Air exit temperature in degree Celsius\n",
    "t1 = 14.0 # make up water inlet temperature in degree Celsius \n",
    "m_dot = 2.78 # water flow rate in kg/s\n",
    "cpa = 1.005 # Constant pressure heat capacity ratio in kJ/kg\n",
    "h43 = 35*4.187 # Enthalpy change\n",
    "h5 = 14*4.187 # Enthalpy at state 5in kJ/kg\n",
    "m_dot_w = (-(W2-W1)*h5 - W1*hg1 + W2*hg2 + cpa*(t2-t1))/(h43) \n",
    "R = m_dot/m_dot_w \n",
    "MW = (W2-W1)*R #Make up water flow rate\n",
    "RWA = R*(1+W1)\n",
    "R = 0.287 # Gas constant \n",
    "V_dot = (RWA*R*(t1+273))/(P*1e03)  # Volume flow rate of air\n",
    "print \"\\n Example 15.13\\n\"\n",
    "print \"\\n Make up water flow rate is \",MW ,\" kg/s\"\n",
    "print \"\\n Volume flow rate of air is \",V_dot ,\" m**3/s\"\n",
    "#The answers vary due to round off error\n",
    "\n"
   ]
  }
 ],
 "metadata": {
  "kernelspec": {
   "display_name": "Python 2",
   "language": "python",
   "name": "python2"
  },
  "language_info": {
   "codemirror_mode": {
    "name": "ipython",
    "version": 2
   },
   "file_extension": ".py",
   "mimetype": "text/x-python",
   "name": "python",
   "nbconvert_exporter": "python",
   "pygments_lexer": "ipython2",
   "version": "2.7.11"
  }
 },
 "nbformat": 4,
 "nbformat_minor": 0
}
