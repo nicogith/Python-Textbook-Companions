{
 "cells": [
  {
   "cell_type": "markdown",
   "metadata": {},
   "source": [
    "# Chapter 12: Vapour power cycle"
   ]
  },
  {
   "cell_type": "markdown",
   "metadata": {},
   "source": [
    "## Ex12.1:pg-492"
   ]
  },
  {
   "cell_type": "code",
   "execution_count": 1,
   "metadata": {
    "collapsed": false
   },
   "outputs": [
    {
     "name": "stdout",
     "output_type": "stream",
     "text": [
      "\n",
      " Example 12.1\n",
      "\n",
      " The work required in saturated liquid form is  -0.9387  kJ/kg\n",
      "\n",
      " The work required in saturated vapor form is  -520.0  kJ/kg\n"
     ]
    }
   ],
   "source": [
    "import math\n",
    "# Part (a)\n",
    "P1 = 1 # Initial pressure in bar\n",
    "P2 = 10 # Final pressure in bar\n",
    "vf = 0.001043 # specific volume of liquid in m**3/kg\n",
    "Wrev = vf*(P1-P2)*1e5 # Work done\n",
    "\n",
    "print \"\\n Example 12.1\"\n",
    "print \"\\n The work required in saturated liquid form is \",Wrev/1000 ,\" kJ/kg\"\n",
    "#The answers vary due to round off error\n",
    "\n",
    "# Part (b)\n",
    "h1 = 2675.5 # Enthalpy at state 1 in kJ/kg\n",
    "s1 = 7.3594 # Entropy at state 1 kJ/kgK\n",
    "s2 = s1 # Isentropic process\n",
    "h2 = 3195.5 # Enthalpy at state 2 kJ/kg\n",
    "Wrev1 = h1-h2 # Work done\n",
    "print \"\\n The work required in saturated vapor form is \",Wrev1 ,\" kJ/kg\"\n"
   ]
  },
  {
   "cell_type": "markdown",
   "metadata": {},
   "source": [
    "## Ex12.2:pg-493"
   ]
  },
  {
   "cell_type": "code",
   "execution_count": 2,
   "metadata": {
    "collapsed": false
   },
   "outputs": [
    {
     "name": "stdout",
     "output_type": "stream",
     "text": [
      "\n",
      " Example 12.2\n",
      "\n",
      " Net work per kg of steam is  969.599095338  kJ/kg\n",
      "\n",
      " Cycle efficiency is  32.4996706636  percent\n",
      "\n",
      "\n",
      " Percentage reduction in net work per kg of steam is  20.093190186  percent\n",
      "\n",
      " Percentage reduction in cycle efficiency is  20.093190186  percent\n"
     ]
    }
   ],
   "source": [
    "import math\n",
    "h1 = 3159.3 # Enthalpy at state 1 in kJ/kg\n",
    "s1 = 6.9917 # Entropy at state 1 in kJ/kgK\n",
    "h3 = 173.88  # Enthalpy at state 3 in kJ/kg\n",
    "s3 = 0.5926 # Entropy at state 3 in kJ/kgK\n",
    "sfp2 = s3 # Isentropic process\n",
    "hfp2 = h3 # Isenthalpic process\n",
    "hfgp2 = 2403.1 # Latent heat of vaporization in kJ/kg\n",
    "sgp2 = 8.2287 # Entropy of gas in kJ/kgK\n",
    "vfp2 = 0.001008 # Specific volume in m**3/kg\n",
    "sfgp2 = 7.6361# Entropy of liquid in kJ/kgK\n",
    "x2s = (s1-sfp2)/(sfgp2)# Steam quality\n",
    "h2s = hfp2+(x2s*hfgp2) # Enthalpy at state 2s\n",
    "# Part (a)\n",
    "P1 = 20 # Turbine inlet pressure in bar\n",
    "P2 = 0.08 # Turbine exit pressure in bar\n",
    "h4s = vfp2*(P1-P2)*1e2+h3  # Enthalpy at state 4s\n",
    "Wp = h4s-h3 # Pump work\n",
    "Wt = h1-h2s # Turbine work\n",
    "Wnet = Wt-Wp # Net work \n",
    "Q1 = h1-h4s # Heat addition\n",
    "n_cycle = Wnet/Q1# Cycle efficiency\n",
    "print \"\\n Example 12.2\"\n",
    "print \"\\n Net work per kg of steam is \",Wnet ,\" kJ/kg\"\n",
    "#The answer provided in the textbook is wrong\n",
    "\n",
    "print \"\\n Cycle efficiency is \",n_cycle*100 ,\" percent\"\n",
    "\n",
    "# Part (b)\n",
    "n_p = 0.8 # pump efficiency\n",
    "n_t = 0.8# Turbine efficiency\n",
    "Wp_ = Wp/n_p # Pump work\n",
    "Wt_ = Wt*n_t # Turbine work\n",
    "Wnet_ = Wt_-Wp_# Net work\n",
    "P = 100*((Wnet-Wnet_)/Wnet) # Percentage reduction in net work\n",
    "n_cycle_ = Wnet_/Q1 # cycle efficiency\n",
    "P_ = 100*((n_cycle-n_cycle_)/n_cycle) #reduction in cycle\n",
    "print \"\\n\\n Percentage reduction in net work per kg of steam is \",P ,\" percent\"\n",
    "print \"\\n Percentage reduction in cycle efficiency is \",P_ ,\" percent\"\n",
    "\n",
    "#The answers vary due to round off error\n",
    "\n"
   ]
  },
  {
   "cell_type": "markdown",
   "metadata": {},
   "source": [
    "## Ex12.3:pg-495"
   ]
  },
  {
   "cell_type": "code",
   "execution_count": 3,
   "metadata": {
    "collapsed": false
   },
   "outputs": [
    {
     "name": "stdout",
     "output_type": "stream",
     "text": [
      "\n",
      " Example 12.3\n",
      "\n",
      " The greatest allowable steam pressure at the turbine inlet is  16.832  bar\n",
      "\n",
      " Rankine cycle efficiency is  31.684100869  percent\n",
      "\n",
      " Mean temperature of heat addition is  187.657819629  degree celcius\n"
     ]
    }
   ],
   "source": [
    "import math\n",
    "P1 = 0.08 # Exhaust pressure in bar\n",
    "sf = 0.5926 # Entropy of fluid in kJ/kgK\n",
    "x2s = 0.85 # Steam quality\n",
    "sg = 8.2287 # Entropy of gas in kJ/kgK\n",
    "s2s = sf+(x2s*(sg-sf)) # Entropy of mixture at state 2s in kJ/kgK\n",
    "s1 = s2s # Isentropic process\n",
    "P2 = 16.832 # by steam table opposite to s1 in bar\n",
    "h1 = 3165.54 # Enthalpy at state 1 in kJ/kg\n",
    "h2s = 173.88 + (0.85*2403.1) # Enthalpy at state 2s in kJ/kg\n",
    "h3 = 173.88# Enthalpy at state 3 in kJ/kg\n",
    "vfp2 = 0.001 # specific volume of liquid in m**3/kg\n",
    "h4s = h3 + (vfp2*(P2-P1)*100)# Enthalpy at state 4s in kJ/kg\n",
    "Q1 = h1-h4s # Heat addition\n",
    "Wt = h1-h2s # Turbine work\n",
    "Wp = h4s-h3 # Pump work\n",
    "n_cycle = 100*((Wt-Wp)/Q1) # Cycle efficiency\n",
    "Tm = (h1-h4s)/(s2s-sf) # Mean temperature of heat addition\n",
    "\n",
    "print \"\\n Example 12.3\"\n",
    "print \"\\n The greatest allowable steam pressure at the turbine inlet is \",P2 ,\" bar\"\n",
    "\n",
    "print \"\\n Rankine cycle efficiency is \",n_cycle ,\" percent\"\n",
    "\n",
    "print \"\\n Mean temperature of heat addition is \",Tm-273 ,\" degree celcius\"\n",
    "#The answers vary due to round off error\n",
    "\n"
   ]
  },
  {
   "cell_type": "markdown",
   "metadata": {},
   "source": [
    "## Ex12.4:pg-496"
   ]
  },
  {
   "cell_type": "code",
   "execution_count": 4,
   "metadata": {
    "collapsed": false
   },
   "outputs": [
    {
     "name": "stdout",
     "output_type": "stream",
     "text": [
      "\n",
      " Example 12.4 \n",
      "\n",
      "\n",
      " Quality at turbine exhaust is  0.88\n",
      "\n",
      " Cycle efficiency is  43.9043470625  percent\n",
      "\n",
      " Steam rate is  2.18181818182  kg/kW h\n"
     ]
    }
   ],
   "source": [
    "import math\n",
    "h1 = 3465 # Enthalpy at state 1 in kJ/kgK\n",
    "h2s = 3065 #Enthalpy at state 2s in kJ/kgK \n",
    "h3 = 3565 #Enthalpy at state 3 in kJ/kgK\n",
    "h4s = 2300 # Enthalpy at state 4s in kJ/kgK\n",
    "x4s = 0.88 # Steam quality at state 4s\n",
    "h5 = 191.83# Enthalpy at state 5 in kJ/kgK\n",
    "v = 0.001 # specific volume in m**3/kg\n",
    "P = 150 # Boiler outlet pressure in bar\n",
    "Wp = v*P*100 # Pump work\n",
    "h6s = 206.83 # Enthalpy at state 6s in kJ/kgK\n",
    "Q1 = (h1-h6s)+(h3-h2s) # Heat addition\n",
    "Wt = (h1-h2s)+(h3-h4s) # Turbine work\n",
    "Wnet = Wt-Wp # Net work\n",
    "n_cycle = 100*Wnet/Q1 # cycle efficiency\n",
    "sr = 3600/Wnet #Steam rate\n",
    "\n",
    "print \"\\n Example 12.4 \\n\"\n",
    "print \"\\n Quality at turbine exhaust is \",0.88\n",
    "print \"\\n Cycle efficiency is \",n_cycle ,\" percent\"\n",
    "print \"\\n Steam rate is \",sr ,\" kg/kW h\"\n",
    "#The answers vary due to round off error\n"
   ]
  },
  {
   "cell_type": "markdown",
   "metadata": {},
   "source": [
    "## Ex12.5:pg-497"
   ]
  },
  {
   "cell_type": "code",
   "execution_count": 5,
   "metadata": {
    "collapsed": false
   },
   "outputs": [
    {
     "name": "stdout",
     "output_type": "stream",
     "text": [
      "\n",
      " Example 12.5\n",
      "\n",
      "\n",
      " Efficiency of the cycle is  36.0687573387  percent\n",
      "\n",
      " Steam rate of the cycle is  3.85264705574  kg/kW h\n",
      "\n",
      " Increase in temperature due to regeneration is  27.3862065182  degree centigrade\n",
      "\n",
      " Increase in steam rate due to regeneration is  0.385518227773  kg/kW h\n",
      "\n",
      " Increase in Efficiency of the cycle due to regeneration is  1.90293971596  percent\n"
     ]
    }
   ],
   "source": [
    "import math\n",
    "h1 = 3230.9 # Enthalpy at state 1 in kJ/kg\n",
    "s1 = 6.9212 # Entropy at state 1 in kJ/kgK\n",
    "s2 = s1 # Isentropic process\n",
    "s3 = s1 # Isentropic process\n",
    "h2 = 2796  # Enthalpy at state 2 in kJ/kg\n",
    "sf = 0.6493 # ENtropy of fluid onkJ/kgK\n",
    "sfg = 7.5009 # Entropy change due to vaporization\n",
    "x3 = (s3-sf)/sfg # steam quality\n",
    "h3 = 191.83 + x3*2392.8 # Enthalpy at state 3\n",
    "h4 = 191.83 # Enthalpy at state 4 in kJ/kg\n",
    "h5 = h4 # Isenthalpic process\n",
    "h6 = 640.23 # Enthalpy at state 6 in kJ/kg\n",
    "h7 = h6 # Isenthalpic process\n",
    "m = (h6-h5)/(h2-h5) # regenerative mass\n",
    "Wt = (h1-h2)+(1-m)*(h2-h3) # turbine work\n",
    "Q1 = h1-h6 # Heat addition\n",
    "n_cycle = 100*Wt/Q1 # Cycle efficiency\n",
    "sr = 3600/Wt # Steam rate\n",
    "s7 = 1.8607  # Entropy at state 7 in kJ/kgK\n",
    "s4 = 0.6493 # Entropy at state 4 in kJ/kgK \n",
    "Tm = (h1-h7)/(s1-s7) # Mean temperature of heat addition with regeneration\n",
    "Tm1 = (h1-h4)/(s1-s4) # Mean temperature of heat addition without regeneration\n",
    "dT = Tm-Tm1 # Change in temperature\n",
    "Wt_ = h1-h3 # Turbine work\n",
    "sr_ = 3600/Wt_ # Steam rate\n",
    "dsr = sr-sr_# Change in steam rate\n",
    "n_cycle_ = 100*(h1-h3)/(h1-h4) # Cycle effciency\n",
    "dn = n_cycle-n_cycle_# Change in efficiency\n",
    "print \"\\n Example 12.5\\n\"\n",
    "print \"\\n Efficiency of the cycle is \",n_cycle ,\" percent\"\n",
    "\n",
    "print \"\\n Steam rate of the cycle is \",sr ,\" kg/kW h\"\n",
    "#The answer provided in the textbook is wrong\n",
    "\n",
    "print \"\\n Increase in temperature due to regeneration is \",dT ,\" degree centigrade\"\n",
    "print \"\\n Increase in steam rate due to regeneration is \",dsr ,\" kg/kW h\"\n",
    "#The answer provided in the textbook is wrong\n",
    "\n",
    "print \"\\n Increase in Efficiency of the cycle due to regeneration is \",dn ,\" percent\"\n",
    "\n",
    "#The answers vary due to round off error\n"
   ]
  },
  {
   "cell_type": "markdown",
   "metadata": {},
   "source": [
    "## Ex12.6:pg-499"
   ]
  },
  {
   "cell_type": "code",
   "execution_count": 6,
   "metadata": {
    "collapsed": false
   },
   "outputs": [
    {
     "name": "stdout",
     "output_type": "stream",
     "text": [
      "\n",
      " Example 12.6\n",
      "\n",
      "\n",
      " Steam quality at turbine exhaust is  0.90269510582\n",
      "\n",
      " Net work per kg of stem is  798.641701509  kJ/kg\n",
      "\n",
      " Cycle efficiency is  33.3978046046  percent\n",
      "\n",
      " Stream rate is  4.50765342356  kg/kW h\n"
     ]
    }
   ],
   "source": [
    "import math\n",
    "h1 = 3023.5  # Enthalpy of steam at state 1 in kJ/kg\n",
    "s1 = 6.7664 # Enthalpy of steam at state 1 in kJ/kgK\n",
    "s2 = s1 # Isentropic process\n",
    "s3 = s1 #Isentropic process\n",
    "s4 = s1 #Isentropic process\n",
    "t_sat_20 = 212 # Saturation temperature at 20 bar in degree Celsius\n",
    "t_sat_1 = 46 # Saturation temperature at 1 bar in degree Celsius\n",
    "dt = t_sat_20-t_sat_1 # Change in temperature\n",
    "n =3 # number of heaters\n",
    "t = dt/n # temperature rise per heater\n",
    "t1 = t_sat_20-t # Operational temperature of first heater\n",
    "t2 = t1-t# Operational temperature of second heater\n",
    "# 0.1 bar\n",
    "hf = 191.83 # Enthalpy of fluid in kJ/kg\n",
    "hfg = 2392.8 # Latent heat of vaporization in kJ/kg\n",
    "sf = 0.6493# Entropy of fluid in kJ/kgK\n",
    "sg = 8.1502# Entropy of gas in kJ/kgK\n",
    "# At 100 degree\n",
    "hf100 = 419.04 # Enthalpy of fluid in kJ/kg  \n",
    "hfg100 = 2257.0# Latent heat of vaporization in kJ/kg \n",
    "sf100 = 1.3069 # Entropy of fluid in kJ/kgK \n",
    "sg100 = 7.3549 # Entropy of gas in kJ/kgK\n",
    "# At 150 degree\n",
    "hf150 = 632.20 # Enthalpy of fluid in kJ/kg  \n",
    "hfg150 = 2114.3# Latent heat of vaporization in kJ/kg  \n",
    "sf150 = 1.8418 # Entropy of fluid in kJ/kgK \n",
    "sg150 = 6.8379# Entropy of gas in kJ/kgK\n",
    "x2 = (s1-sf150)/4.9961 # Steam quality\n",
    "h2 = hf150+(x2*hfg150) # Enthalpy at state 2 in kJ/kg\n",
    "x3 = (s1-sf100)/6.0480 # Steam quality\n",
    "h3 = hf100+(x3*hfg100) # Enthalpy at state 3 in kJ/kg \n",
    "x4 = (s1-sf)/7.5010 # Steam quality\n",
    "h4 = hf+(x4*hfg)#Enthalpy at state 4 in kJ/kg\n",
    "h5 = hf # Enthalpy at state 5 in kJ/kg\n",
    "h6 = h5 #Enthalpy at state 6 in kJ/kg\n",
    "h7 = hf100 # Enthalpy at state 7 in kJ/kg\n",
    "h8 = h7 # Enthalpy at state 8 in kJ/kg\n",
    "h9 = 632.2  # Enthalpy at state 9 in kJ/kg\n",
    "h10 = h9 # Enthalpy at state 10 in kJ/kg\n",
    "m1 = (h9-h7)/(h2-h7) # regenerative mass \n",
    "m2 = ((1-m1)*(h7-h6))/(h3-h6) # regenerative mass\n",
    "Wt = 1*(h1-h2)+(1-m1)*(h2-h3)+(1-m1-m2)*(h3-h4) # Turbine work\n",
    "Q1 = h1-h9 # Heat addition\n",
    "Wp = 0  # Pump work is neglected\n",
    "n_cycle = 100*(Wt-Wp)/Q1 # Cycle efficiency\n",
    "sr = 3600/(Wt-Wp)  # Steam rate\n",
    "\n",
    "print \"\\n Example 12.6\\n\"\n",
    "print \"\\n Steam quality at turbine exhaust is \",x3\n",
    "print \"\\n Net work per kg of stem is \",Wt ,\" kJ/kg\"\n",
    "print \"\\n Cycle efficiency is \",n_cycle ,\" percent\"\n",
    "print \"\\n Stream rate is \",sr ,\" kg/kW h\"\n",
    "#The answers vary due to round off error\n"
   ]
  },
  {
   "cell_type": "markdown",
   "metadata": {},
   "source": [
    "## Ex12.7:pg-501"
   ]
  },
  {
   "cell_type": "code",
   "execution_count": 8,
   "metadata": {
    "collapsed": false
   },
   "outputs": [
    {
     "name": "stdout",
     "output_type": "stream",
     "text": [
      "\n",
      " Example 12.7\n",
      "\n",
      "\n",
      " The second law efficiency is  47.3045857486  percent\n"
     ]
    }
   ],
   "source": [
    "import math\n",
    "Ti = 2000.0 # Hot gas inlet temperature in K\n",
    "Te = 450.0 # Hot gas exhaust temperature in K\n",
    "T0 = 300.0 # Ambient temperature in K\n",
    "Q1_dot = 100.0 # Heating rate provided by steam in kW\n",
    "cpg = 1.1 # Heat capacity of gas in kJ/kg\n",
    "wg = Q1_dot/(cpg*(Ti-Te)) # mass flow rate of hot gas\n",
    "af1 = wg*cpg*T0*((Ti/T0)-1-math.log(Ti/T0)) # Availability at inlet\n",
    "af2 = wg*cpg*T0*((Te/T0)-1-math.log(Te/T0)) # Availability at exit\n",
    "afi = af1-af2 # Change in availability\n",
    "h1 = 2801.0 # Enthalpy at state 1 in kJ/kg\n",
    "h3 = 169.0 #Enthalpy at state 3 in kJ/kg\n",
    "h4 = 172.8 #Enthalpy at state 4 in kJ/kg\n",
    "h2 = 1890.2 # Enthalpy at state 2 in kJ/kg\n",
    "s1 = 6.068 # Entropy at state 1 in kJ/kgK\n",
    "s2 = s1 # Isentropic process\n",
    "s3 = 0.576 # Entropy at state 3 in kJ/kgK\n",
    "s4 = s3 # Isentropic process\n",
    "Wt = h1-h2 # Turbine work\n",
    "Wp = h4-h3 # Pump work\n",
    "Q1 = h1-h4 # Heat addition\n",
    "Q2 = h2-h3# Heat rejection\n",
    "Wnet = Wt-Wp # Net work\n",
    "ws = Q1_dot/2628 # steam mass flow rate\n",
    "afu = 38*(h1-h4-T0*(s1-s3)) # availability loss\n",
    "I_dot = afi-afu # Rate of exergy destruction\n",
    "Wnet_dot = ws*Wnet# Mechanical power rate\n",
    "afc = ws*(h2-h3-T0*(s2-s3)) # Exergy flow rate of of wet steam\n",
    "n2 = 100*Wnet_dot/af1 # second law efficiency\n",
    "\n",
    "print \"\\n Example 12.7\\n\"\n",
    "print \"\\n The second law efficiency is \",n2 ,\" percent\"\n",
    "#The answers vary due to round off error\n",
    "\n"
   ]
  },
  {
   "cell_type": "markdown",
   "metadata": {},
   "source": [
    "## Ex12.8:pg-503"
   ]
  },
  {
   "cell_type": "code",
   "execution_count": 10,
   "metadata": {
    "collapsed": false
   },
   "outputs": [
    {
     "name": "stdout",
     "output_type": "stream",
     "text": [
      "\n",
      " Example 12.8\n",
      "\n",
      "\n",
      " Part (a)\n",
      "\n",
      " The first law efficiency n1 is  36.4738076622\n",
      "\n",
      " The second law efficiency n2 is  42.9755948516\n",
      "\n",
      " The work ratio is  0.991498405951\n",
      "\n",
      " Part (b)\n",
      "\n",
      " The first law efficiency n1 is  39.3996247655\n",
      "\n",
      " The second law efficiency n2 is  66.4411884747\n",
      "\n",
      " The work ration is  0.993690851735\n",
      "\n",
      " Part (c)\n",
      "\n",
      " The first law efficiency n1 is  40.5460576678\n",
      "\n",
      " The second law efficiency n2 is  68.3744648698\n",
      "\n",
      " The work ration is  0.994990607389\n",
      "\n",
      " Part (d)\n",
      "\n",
      " The first law efficiency n1 is  43.8732394366\n",
      "\n",
      " The second law efficiency n2 is  32.4128919233\n",
      "\n",
      " The work ration is  0.991498405951\n"
     ]
    }
   ],
   "source": [
    "import math\n",
    "# Part (a)\n",
    "h1 = 2758.0 # Enthalpy at state 1 in kJ/kg\n",
    "h2 = 1817.0 # Enthalpy at state 2 in kJ/kg\n",
    "h3 = 192.0 # Enthalpy at state 3 in kJ/kg\n",
    "h4 = 200.0# Enthalpy at state 4 in kJ/kg\n",
    "Wt = h1-h2 # turbine work\n",
    "Wp = h4-h3 # Pump work\n",
    "Q1 = h1-h4 # Heat addition\n",
    "Wnet = Wt-Wp # Net work doen\n",
    "n1 = Wnet/Q1 # First law efficiency\n",
    "WR = Wnet/Wt # Work ratio\n",
    "Q1_ = 100.0 # Heat addition rate in MW\n",
    "PO = n1*Q1_ # power output\n",
    "cpg = 1000 # Specific heat capacity in J/kg\n",
    "wg = (Q1_/(833-450)) # mass flow rate of gas\n",
    "EIR = wg*cpg*((833-300)-300*(math.log(833/300)))/1000 # Exergy input\n",
    "n2 = PO/EIR # Second law efficiency\n",
    "\n",
    "print \"\\n Example 12.8\\n\"\n",
    "print \"\\n Part (a)\"\n",
    "print \"\\n The first law efficiency n1 is \",n1*100\n",
    "print \"\\n The second law efficiency n2 is \",n2*100\n",
    "print \"\\n The work ratio is \",WR\n",
    "# Part (b)\n",
    "h1b = 3398.0 # Enthalpy at state 1 in kJ/kg\n",
    "h2b = 2130.0 # Enthalpy at state 2 in kJ/kg\n",
    "h3b = 192.0 # Enthalpy at state 3 in kJ/kg\n",
    "h4b = 200.0# Enthalpy at state 4 in kJ/kg\n",
    "Wtb = 1268.0 # turbine work in kJ/kg\n",
    "Wpb = 8.0  # Pump work in kJ/kg\n",
    "Q1b = 3198.0# Heat addition rate in kW\n",
    "n1b = (Wtb-Wpb)/Q1b #first law efficiency\n",
    "WRb = (Wtb-Wpb)/Wtb # WOrk ratio\n",
    "EIRb = 59.3 # Exergy input rate in MW\n",
    "Wnetb = Q1_*n1b # net work done\n",
    "\n",
    "n2b = Wnetb/EIRb # Second law efficiency\n",
    "print \"\\n Part (b)\" \n",
    "print \"\\n The first law efficiency n1 is \",n1b*100\n",
    "print \"\\n The second law efficiency n2 is \",n2b*100\n",
    "print \"\\n The work ration is \",WRb\n",
    "\n",
    "# Part (c)\n",
    "h1c = 3398.0 # Enthalpy at state 1 in kJ/kg\n",
    "h2c = 2761.0 # Enthalpy at state 2 in kJ/kg\n",
    "h3c = 3482.0# Enthalpy at state 3 in kJ/kg\n",
    "h4c = 2522.0 # Enthalpy at state 4 in kJ/kg\n",
    "h5c = 192.0 # Enthalpy at state 5 in kJ/kg\n",
    "h6c = 200.0# Enthalpy at state 6 in kJ/kg\n",
    "Wt1 = 637.0 # Turbine work in kJ/kg\n",
    "Wt2 = 960.0 # Turbine work in kJ/kg\n",
    "Wtc = Wt1+Wt2  # Net turbine work in kJ/kg\n",
    "Wp = 8.0 # Pump work in kJ/kg \n",
    "Wnetc = Wtc-Wp # net work done \n",
    "Q1c = 3198+721 # Heat addition\n",
    "n1c = Wnetc/Q1c# First law efficiency\n",
    "WRc = Wnetc/Wtc# Work ratio\n",
    "POc = Q1_*n1c# Power output\n",
    "EIRc = 59.3# Exergy input in MW\n",
    "n2c = POc/EIRc # Second law efficiency\n",
    "print \"\\n Part (c)\"\n",
    "print \"\\n The first law efficiency n1 is \",n1c*100\n",
    "print \"\\n The second law efficiency n2 is \",n2c*100\n",
    "print \"\\n The work ration is \",WRc\n",
    "\n",
    "# Part (d)\n",
    "T3 = 45.8 # saturation temperature at 0.1 bar in degree celsius \n",
    "T1 = 295.0 # saturation temperature at 80 bar in degree celsius \n",
    "n1d = 1.0-((T3+273)/(T1+273)) # First law efficiency\n",
    "Q1d = 2758-1316 # Heat addition\n",
    "Wnet = Q1d*n1d # Net work output\n",
    "Wpd = 8.0 # Pump work in kJ/kg\n",
    "Wtd = 641.0# Turbine work in kJ/kg\n",
    "WRd = (Wt-Wp)/Wt # Work ratio\n",
    "POd = Q1_*0.439# Power output\n",
    "EIRd = (Q1_/(833-593))*cpg*((833-300)-300*(math.log(833/300)))/1000 #Exergy Input rate in MW\n",
    "n2d = POd/EIRd # Second law efficiency\n",
    "print \"\\n Part (d)\"\n",
    "print \"\\n The first law efficiency n1 is \",n1d*100\n",
    "print \"\\n The second law efficiency n2 is \",n2d*100\n",
    "print \"\\n The work ration is \",WRd\n",
    "#The answers vary due to round off error\n"
   ]
  },
  {
   "cell_type": "markdown",
   "metadata": {},
   "source": [
    "## Ex12.9:pg-505"
   ]
  },
  {
   "cell_type": "code",
   "execution_count": 11,
   "metadata": {
    "collapsed": false
   },
   "outputs": [
    {
     "name": "stdout",
     "output_type": "stream",
     "text": [
      "\n",
      " Example 12.9\n",
      "\n",
      "\n",
      " Temperature of the steam is  360.0  degree celcius\n",
      "\n",
      " Pressure of the steam is  22.5  bar\n"
     ]
    }
   ],
   "source": [
    "import math\n",
    "hfg = 2202.6 # Latent heat of fusion in kJ/kg\n",
    "Qh = 5.83 # Heat addition in MJ/s\n",
    "ws = Qh/hfg # steam flow rate\n",
    "eg = 0.9 # efficiency of generator\n",
    "P = 1000.0 # Power generation rate in kW\n",
    "Wnet = 1000.0/eg # Net output\n",
    "nbrake = 0.8 # brake thermal efficiency\n",
    "h1_2s = Wnet/(ws*nbrake) # Ideal heat addition\n",
    "n_internal = 0.85 # internal efficiency\n",
    "h12 = n_internal*h1_2s # Actual heat addition\n",
    "hg = 2706.3 # Enthalpy of gas in kJ/kg\n",
    "h2 = hg #Isenthalpic process \n",
    "h1 = h12+h2 # Total enthalpy \n",
    "h2s = h1-h1_2s # Enthalpy change\n",
    "hf = 503.71 # Enthalpy of fluid in kJ/kg \n",
    "x2s = (h2s-hf)/hfg # Quality of steam\n",
    "sf = 1.5276  # entropy of fluid in kJ/kgK\n",
    "sfg = 5.6020 # Entropy change due to vaporization in kJ/kgK\n",
    "s2s = sf+(x2s*sfg) # Entropy at state 2s\n",
    "s1 = s2s # Isentropic process\n",
    "P1 = 22.5 # Turbine inlet pressure in bar from Mollier chart\n",
    "t1 = 360.0 # Temperature of the steam in degree Celsius from Mollier chart\n",
    "\n",
    "print \"\\n Example 12.9\\n\"\n",
    "print \"\\n Temperature of the steam is \",t1 ,\" degree celcius\"\n",
    "print \"\\n Pressure of the steam is \",P1 ,\" bar\"\n",
    "#The answers vary due to round off error\n"
   ]
  },
  {
   "cell_type": "markdown",
   "metadata": {},
   "source": [
    "## Ex12.10:pg-506"
   ]
  },
  {
   "cell_type": "code",
   "execution_count": 12,
   "metadata": {
    "collapsed": false
   },
   "outputs": [
    {
     "name": "stdout",
     "output_type": "stream",
     "text": [
      "\n",
      " Example 12.10\n",
      "\n",
      "\n",
      " Fuel burning rate is  18.1592477786  tonnes/day\n"
     ]
    }
   ],
   "source": [
    "import math\n",
    "h1 = 3037.3 # Enthalpy at state 1 in kJ/kg\n",
    "x = 0.96 # Steam quality\n",
    "h2 = 561+(x*2163.8) # Enthalpy at state 2 \n",
    "s2 = 1.6718+(x*5.3201)# Entropy at state 2 \n",
    "s3s = s2 # Isentropic process\n",
    "x3s = (s3s-0.6493)/7.5009 # Quality at state 3s \n",
    "h3s = 191.83+(x3s*2392.8) # Enthalpy at state 3s \n",
    "h23 = 0.8*(h2-h3s) # Enthalpy change in process 23\n",
    "h3 = h2-h23 # Enthalpy at state 3\n",
    "h5 = 561.47  # Enthalpy at state 5\n",
    "h4 = 191.83# Enthalpy at state 4\n",
    "Qh = 3500 # Heat addition in kJ/s\n",
    "w = Qh/(h2-h5) # mass flow rate\n",
    "Wt = 1500 # Turbine work\n",
    "ws = (Wt+w*(h2-h3))/(h1-h3) # Steam flow rate \n",
    "ws_ = 3600*ws  # Steam flow rate  in kg/h\n",
    "h6 = ((ws-w)*h4+w*h5)/ws  #Enthalpy at state 6\n",
    "h7 = h6# Enthalpy at state 7\n",
    "n_boiler = 0.85 # Boiler efficiency\n",
    "CV = 44000 # Calorific value of fuel in kJ/kg\n",
    "wf = (1.1*ws_*(h1-h7))/(n_boiler*CV) # Fuel consumption rate\n",
    "\n",
    "print \"\\n Example 12.10\\n\"\n",
    "print \"\\n Fuel burning rate is \",wf*24/1000 ,\" tonnes/day\"\n",
    "#The answers vary due to round off error\n",
    "\n"
   ]
  },
  {
   "cell_type": "markdown",
   "metadata": {},
   "source": [
    "## Ex12.11:pg-508"
   ]
  },
  {
   "cell_type": "code",
   "execution_count": 13,
   "metadata": {
    "collapsed": false
   },
   "outputs": [
    {
     "name": "stdout",
     "output_type": "stream",
     "text": [
      "\n",
      " Example 12.11\n",
      "\n",
      "\n",
      " The minimum pressure at which bleeding is neccessary is  10  bar\n",
      "\n",
      " Steam flow at turbine inlet is  0.206237542099  kg/s\n",
      "\n",
      " Cycle efficiency is  35.9203808526  percent\n"
     ]
    }
   ],
   "source": [
    "import math\n",
    "h1 = 3285.0  # Enthalpy at state 1 in kJ/kg\n",
    "h2s = 3010.0 # Enthalpy at state 2s in kJ/kg\n",
    "h3 = 3280.0 # # Enthalpy at state 3 in kJ/kg\n",
    "h4s = 3030.0 # # Enthalpy at state 4s in kJ/kg\n",
    "# Saturation pressure at temperature 180 degree centigrade\n",
    "psat = 10 # In bar\n",
    "h4 = h3-0.83*(h3-h4s) # # Enthalpy at state 4 \n",
    "h5s = 2225.0 # # Enthalpy at state 5s in kJ/kg\n",
    "h5 = h4-0.83*(h4-h5s) # # Enthalpy at state 5\n",
    "h6 = 162.7 # Enthalpy at state 6 in kJ/kg\n",
    "h7 = h6 # # Enthalpy at state 7 \n",
    "h8 = 762.81# Enthalpy at state 8 in kJ/kg\n",
    "h2 = h1-0.785*(h1-h2s) #Enthalpy at state 2 \n",
    "m = (h8-h7)/(h4-h7) # regenerative mass flow\n",
    "n_cycle = ((h1-h2)+(h3-h4)+(1-m)*(h4-h5))/((h1-h8)+(h3-h2)) # Cycle efficiency\n",
    "\n",
    "print \"\\n Example 12.11\\n\"\n",
    "print \"\\n The minimum pressure at which bleeding is neccessary is \",psat ,\" bar\"\n",
    "print \"\\n Steam flow at turbine inlet is \",m ,\" kg/s\"\n",
    "print \"\\n Cycle efficiency is \",n_cycle*100 ,\" percent\"\n",
    "#The answers vary due to round off error\n",
    "# Part A and Part B are theoretical problems\n",
    "\n"
   ]
  },
  {
   "cell_type": "markdown",
   "metadata": {},
   "source": [
    "## Ex12.12:pg-510"
   ]
  },
  {
   "cell_type": "code",
   "execution_count": 14,
   "metadata": {
    "collapsed": false
   },
   "outputs": [
    {
     "name": "stdout",
     "output_type": "stream",
     "text": [
      "\n",
      " Example 12.12 \n",
      "\n",
      "\n",
      " Overall efficiency of the cycle is  52.7981817715  percent\n",
      "\n",
      " Flow through the mercury turbine is math.exp kg/h 593428.190307\n",
      "\n",
      " Useful work done in binary vapor cycle is  28.3728027889  MW\n",
      "\n",
      " Overall efficiency is  46.1693685319  percent\n"
     ]
    }
   ],
   "source": [
    "import math\n",
    "# From table \n",
    "h1 = 2792.2 # Enthalpy at state 1 in kJ/kg \n",
    "h4 = 122.96# Enthalpy at state 4 in kJ/kg \n",
    "hb = 254.88 # Enthalpy at state b in kJ/kg \n",
    "hc = 29.98# Enthalpy at state c in kJ/kg \n",
    "ha = 355.98 # Enthalpy at state a in kJ/kg \n",
    "hd = hc # Isenthalpic process\n",
    "h2 = 1949.27 # # Enthalpy at state 2 in kJ/kg \n",
    "#\n",
    "m = (h1-h4)/(hb-hc) # Amount of mercury circulating\n",
    "Q1t = m*(ha-hd) # Heat addition\n",
    "W1t = m*(ha-hb) + (h1-h2) # Turbine work\n",
    "n = W1t/Q1t # first law efficiency\n",
    "\n",
    "print \"\\n Example 12.12 \\n\"\n",
    "print \"\\n Overall efficiency of the cycle is \",n*100 ,\" percent\"\n",
    "#The answers vary due to round off error\n",
    "\n",
    "S = 50000 # Stem flow rate through turbine in kg/h\n",
    "wm = S*m # mercury flow rate\n",
    "print \"\\n Flow through the mercury turbine is math.exp kg/h\",wm\n",
    "\n",
    "Wt = W1t*S/3600 # Turbine work\n",
    "print \"\\n Useful work done in binary vapor cycle is \",Wt/1e3 ,\" MW\"\n",
    "nm = 0.85 # Internal efficiency of mercury turbine\n",
    "ns = 0.87 # Internal efficiency of steam turbine\n",
    "WTm = nm*(ha-hb) # turbine work of mercury based cycle\n",
    "hb_ = ha-WTm # Enthalpy at state b in kJ/kg\n",
    "m_ = (h1-h4)/(hb_-hc) # mass flow rate of mercury\n",
    "h1_ = 3037.3 # Enthalpy at state 1 in kJ/kg\n",
    "Q1t = m_*(ha-hd)+(h1_-h1) # Heat addition\n",
    "x2_ = (6.9160-0.4226)/(8.47-0.4226) # steam quality\n",
    "h2_ = 121+(0.806*2432.9) # Enthalpy at state 2 in kJ/kg \n",
    "WTst = ns*(h1_-h2_) # Turbine work\n",
    "WTt = m_*(ha-hb_)+WTst  # Total turbine work\n",
    "N = WTt/Q1t #Overall efficiency \n",
    "print \"\\n Overall efficiency is \",N*100 ,\" percent\"\n",
    "# The answers vary due to round off error\n"
   ]
  }
 ],
 "metadata": {
  "kernelspec": {
   "display_name": "Python 2",
   "language": "python",
   "name": "python2"
  },
  "language_info": {
   "codemirror_mode": {
    "name": "ipython",
    "version": 2
   },
   "file_extension": ".py",
   "mimetype": "text/x-python",
   "name": "python",
   "nbconvert_exporter": "python",
   "pygments_lexer": "ipython2",
   "version": "2.7.11"
  }
 },
 "nbformat": 4,
 "nbformat_minor": 0
}
