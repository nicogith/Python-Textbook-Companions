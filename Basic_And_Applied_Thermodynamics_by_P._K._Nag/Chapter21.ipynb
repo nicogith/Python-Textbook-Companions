{
 "cells": [
  {
   "cell_type": "markdown",
   "metadata": {},
   "source": [
    "# Chapter 21: Gas Turbines And Propulsion Systems"
   ]
  },
  {
   "cell_type": "markdown",
   "metadata": {},
   "source": [
    "## Ex21.1:pg-885"
   ]
  },
  {
   "cell_type": "code",
   "execution_count": 1,
   "metadata": {
    "collapsed": false
   },
   "outputs": [
    {
     "name": "stdout",
     "output_type": "stream",
     "text": [
      "\n",
      " Example 21.1\n",
      "\n",
      "\n",
      " Power output =  581.68934348  kJ/kg,\n",
      " The overall efficiency =  25.8717426718  percent\n"
     ]
    }
   ],
   "source": [
    "import math\n",
    "# Given that\n",
    "r_c = 3.5 # Compression ratio\n",
    "n_c = 0.85 # Efficiency of compressor\n",
    "p1 = 1 # Pressure in bar\n",
    "t1 = 300 # Temperature in K\n",
    "t3 = 310 # Temperature at the exit of the intercooler in K\n",
    "r_c_ = 3.5 # Compression ratio for high pressure compressor\n",
    "n_c_ = 0.85 # Efficiency of H.P. compressor\n",
    "e = 0.8 # Effectiveness of regenerator\n",
    "n_t = 0.88 # Efficiency of H.P. tubine\n",
    "t6 = 1100 # Temperature in H.P. tubine in K\n",
    "t8 = 1050 # Temperature at the entrance of L.P. turbine in K\n",
    "n_t_ = 0.88 # Efficiency of L.P. turbine\n",
    "Cp = 1.005 # Heat capacity of air in kJ/kgK\n",
    "Cp_ = 1.15 # Heat capacity of gases in kJ/kgK\n",
    "gama = 1.4 # Heat capacity ratio for air\n",
    "gama_ = 1.33 # Heat capacity ratio for gases\n",
    "print \"\\n Example 21.1\\n\"\n",
    "p2 = r_c*p1\n",
    "p4 = p2*r_c_\n",
    "t2_s = t1*((r_c)**((gama-1)/gama))\n",
    "t2 = t1+((t2_s-t1)/n_c)\n",
    "t4_s = t3*((r_c_)**((gama-1)/gama))\n",
    "t4 = t3+((t4_s-t3)/n_c_)\n",
    "Wc = Cp*((t2-t1)+(t4-t3))\n",
    "t7 = t6 - (Wc/Cp_)\n",
    "t7_s = t6 - (t6-t7)/n_t\n",
    "r_p = (t6/t7_s)**(gama_/(gama_-1))\n",
    "p7 = p4/r_p\n",
    "t9_s = t8/((p7/p1)**((gama_-1)/gama_))\n",
    "t9 = t8-(t8-t9_s)*n_t_\n",
    "Wt_LP = Cp_*(t8-t9)\n",
    "W_T = Wt_LP+Wc\n",
    "Rw = Wt_LP/W_T\n",
    "Q1 = (Cp_*t6-Cp*t4)+Cp_*(t8-t7)\n",
    "n_plant = Wt_LP/Q1\n",
    "print \"\\n Power output = \",W_T ,\" kJ/kg,\\n The overall efficiency = \",n_plant*100 ,\" percent\"\n",
    "#The answers given in the book have round off error"
   ]
  },
  {
   "cell_type": "markdown",
   "metadata": {},
   "source": [
    "## Ex21.2:pg-886"
   ]
  },
  {
   "cell_type": "code",
   "execution_count": 2,
   "metadata": {
    "collapsed": false
   },
   "outputs": [
    {
     "name": "stdout",
     "output_type": "stream",
     "text": [
      "\n",
      " Example 21.2\n",
      "\n",
      "\n",
      " Flow velocity =  -43.4235444397  m/s,\n",
      " The blade angle at the root =  -1.43579153344  degree,and at the tip =  1.21859133292  degree,\n",
      " The degree of reaction at the root =  63.9551441794  percent, and at the tip =  26.0409057706  percent\n"
     ]
    }
   ],
   "source": [
    "import math\n",
    "# Given that\n",
    "v_bm = 360 # Blade velocity at the mean diameter of a gas turbine stage in m/s\n",
    "beta1 = 20 # Blade angle at inlet in degree\n",
    "beta2 = 52 # Blade angle at exit in degree\n",
    "r = 0.5 # Degree of reaction\n",
    "Dm = 0.45 # Mean diameter of blade in m\n",
    "h = 0.08 # Mean height of blade in m\n",
    "print \"\\n Example 21.2\\n\"\n",
    "v_f = v_bm/((math.tan(beta2))-math.tan(beta1))\n",
    "r_r = (Dm/2)-h/2\n",
    "r_t = Dm/2 +h/2\n",
    "delta_v_wm = v_f*((math.tan(beta1))+(math.tan(beta2)))\n",
    "v_br = v_bm*(r_r/(Dm/2))\n",
    "delta_v_wr = delta_v_wm*v_bm/v_br\n",
    "\n",
    "v_bt = (r_t/(Dm/2))*v_bm\n",
    "v_w_1m = v_f*(math.tan(beta2))\n",
    "v_w_1t = v_w_1m*(Dm/2)/r_t\n",
    "delta_v_wt = v_f*((math.tan(beta1))+(math.tan(beta2)))*v_bm/v_bt\n",
    "v_w_1r = v_w_1m*((Dm/2)/r_r)\n",
    "alpha_1r = math.atan(v_w_1r/v_f)\n",
    "alpha_2r = math.atan((delta_v_wr-v_w_1r)/v_f)\n",
    "beta_1r = math.atan((v_w_1r-v_br)/v_f)\n",
    "beta_2r = math.atan((v_br+v_f*(math.tan(alpha_2r)))/v_f)\n",
    "alpha_1t = math.atan(v_w_1t/v_f)\n",
    "alpha_2t = math.atan((delta_v_wt-v_w_1t)/v_f)\n",
    "beta_1t = math.atan((v_w_1t-v_bt)/v_f)\n",
    "beta_2t = math.atan((v_bt+(v_f*math.tan(alpha_2t)))/v_f)\n",
    "Rt = v_f*((math.tan(beta_2t))-(math.tan(beta_1t)))/(2*v_bt)\n",
    "Rr = v_f*((math.tan(beta_2r))-(math.tan(beta_1r)))/(2*v_br)\n",
    "print \"\\n Flow velocity = \",v_f ,\" m/s,\\n The blade angle at the root = \",alpha_1r ,\" degree,and at the tip = \",alpha_2r ,\" degree,\\n The degree of reaction at the root = \",Rt*100 ,\" percent, and at the tip = \",Rr*100 ,\" percent\""
   ]
  },
  {
   "cell_type": "markdown",
   "metadata": {},
   "source": [
    "## Ex21.3:pg-887"
   ]
  },
  {
   "cell_type": "code",
   "execution_count": 3,
   "metadata": {
    "collapsed": false
   },
   "outputs": [
    {
     "name": "stdout",
     "output_type": "stream",
     "text": [
      "\n",
      " Example 21.3\n",
      "\n",
      "\n",
      " The blade angle at the inlet =  0.513725711568  degree,and at the exit =  1.1075454267  degree,\n",
      " The overall efficiency of the turbine =  87.5152054946  percent\n",
      " The stage efficiency =  85.2048267464  percent\n"
     ]
    }
   ],
   "source": [
    "import math\n",
    "# Given that\n",
    "p1 = 8 # Pressure of entrance in bar\n",
    "t1 = 1125 # Temperature of entrance in K\n",
    "p2 = 1.5 # Pressure of exit in bar\n",
    "n = 11 # No of stages\n",
    "Vf = 110 # Axial velocity of flow in m/s\n",
    "n_p = 0.85 # Polytropic efficiency \n",
    "Vb = 140 # Mean velocity in m/s\n",
    "gama = 1.33 # Heat capacity ratio for gases\n",
    "Cp = 1.15 # Heat capacity of gases in kJ/kgK\n",
    "r = 0.5 # Fraction of reaction\n",
    "print \"\\n Example 21.3\\n\"\n",
    "t2 = t1*((p2/p1)**((gama-1)*n_p/gama))\n",
    "t2_s = t1*((p2/p1)**((gama-1)/gama))\n",
    "n_s = (t1-t2)/(t1-t2_s)\n",
    "Wt = Cp*(t1-t2)\n",
    "Wt_s = Wt/n\n",
    "V_w1 = (((Wt_s*1000)/Vb) + Vb)/2\n",
    "alpha1 = math.atan(Vf/V_w1)\n",
    "alpha2 = alpha1\n",
    "beta1 = math.atan(Vf/(V_w1-Vb))\n",
    "h_s = Wt_s\n",
    "t_s = h_s/Cp\n",
    "t1_ = t1-t_s\n",
    "t1_s = t1*((t1_/t1)**(gama/((gama-1)*n_p)))**((gama-1)/gama)\n",
    "n_st = (t1-t1_)/(t1-t1_s)\n",
    "print \"\\n The blade angle at the inlet = \",alpha1 ,\" degree,and at the exit = \",beta1 ,\" degree,\\n The overall efficiency of the turbine = \",n_s*100 ,\" percent\\n The stage efficiency = \",n_st*100 ,\" percent\"\n",
    "# The answers given in the book contain round off error."
   ]
  },
  {
   "cell_type": "markdown",
   "metadata": {},
   "source": [
    "## Ex21.4:pg-889"
   ]
  },
  {
   "cell_type": "code",
   "execution_count": 4,
   "metadata": {
    "collapsed": false
   },
   "outputs": [
    {
     "name": "stdout",
     "output_type": "stream",
     "text": [
      "\n",
      " Example 21.4\n",
      "\n",
      "\n",
      " Total thrust developed =  6675.46374954  N,\n",
      " The specific fuel consumption =  0.0236198761133  kg/kNs\n"
     ]
    }
   ],
   "source": [
    "import math\n",
    "# Given that\n",
    "v = 800.0 # Speed of aircraft in km/h\n",
    "h = 10700.0 # Height of aircraft in m\n",
    "p0 = 0.24 # Pressure in bar\n",
    "t0 = -50.0 # Temperature in degree centigrade\n",
    "r_p = 10.0 # Compressor pressure ratio\n",
    "t03 = 1093.0 # Max cycle temperature in K\n",
    "n_ed = 0.9 # Entry duct efficiency\n",
    "n_c = 0.9 # Isentropic efficiency of compressure\n",
    "p_ = 0.14 # Stagnation pressure loss in combustion chamber in bar\n",
    "cv = 43.3 # Calorific value of fuel in MJ/kg\n",
    "n_C = 0.98 # Combustion efficiency\n",
    "n_t = 0.92 # Isentropic efficiency of turbine\n",
    "n_m = 0.98 # Mechanical efficiency of drive\n",
    "n_j = 0.92 # Jet pipe efficiency\n",
    "a = 0.08 # Nozzle outlet area in m**2\n",
    "Cp = 1.005 # Heat capacity of air in kJ/kgK\n",
    "gama = 1.4 # Ratio of heat capacities for air\n",
    "Cp_ = 1.15 # Heat capacity for gases in kJ/kgK\n",
    "gama_ = 1.333 # Ratio of heat capacities for gases\n",
    "print \"\\n Example 21.4\\n\"\n",
    "KE = (1/2)*(v*5/18)**2\n",
    "tr = KE/(1000*Cp)\n",
    "t01 = tr + (273+t0)\n",
    "t01_s = (t0+273)+(n_ed*(t01-(t0+273)))\n",
    "p01 = p0*((t01_s/(t0+273))**(gama/(gama-1)))\n",
    "t02_s = t01*((r_p)**((gama-1)/gama))\n",
    "t02 = (t01) + (t02_s-t01)/n_c\n",
    "p02 = p01*r_p\n",
    "p03 = p02-p_\n",
    "t04 = t03 - (Cp*(t02-t01)/(Cp_*n_m))\n",
    "t04_s = t03-(t03-t04)/n_t\n",
    "p04 = p03/((t03/t04_s)**(gama_/(gama_-1)))\n",
    "p_cr = p04*((2/(gama_+1))**(gama_/(gama_-1)))\n",
    "t05 = t04*(2/(gama_+1))\n",
    "t05_s = t04-((t04-t05)/n_j)\n",
    "p05 = p04/((t04/t05_s)**(gama_/(gama_-1)))\n",
    "R = Cp_*(gama_-1)/gama_\n",
    "v5 = R*t05/(p05*100)\n",
    "Vj = math.sqrt(gama_*R*1000*t05)\n",
    "m = a*Vj/v5\n",
    "Mt = m*(Vj-v*(5/18))\n",
    "Pt = (p05-p0)*a*10**5\n",
    "Tt = Mt+Pt\n",
    "Q1 = m*(t03-t02)*Cp_\n",
    "m_f = Q1/(cv*1000*n_C)\n",
    "m_sf = m_f*1000/Tt\n",
    "print \"\\n Total thrust developed = \",Tt ,\" N,\\n The specific fuel consumption = \",m_sf ,\" kg/kNs\"\n",
    "# The answers given in the book contain round off error."
   ]
  },
  {
   "cell_type": "markdown",
   "metadata": {},
   "source": [
    "## Ex21.5:pg-889"
   ]
  },
  {
   "cell_type": "code",
   "execution_count": 5,
   "metadata": {
    "collapsed": false
   },
   "outputs": [
    {
     "name": "stdout",
     "output_type": "stream",
     "text": [
      "\n",
      " Example 21.5\n",
      "\n",
      "\n",
      " Propulsive power =  9.1580625  MW,\n",
      " Thrust power =  4402.35949174  kW,\n",
      " Propulsive efficiency =  48.070860968  percent\n",
      " Thermal efficiency =  36.63225  percent,\n",
      " Overall efficiency =  17.609437967  percent \n"
     ]
    }
   ],
   "source": [
    "import math\n",
    "# Given that\n",
    "v = 850.0 # Speed of turbojet in km/h\n",
    "m = 50.0 # Air mass flow rate in kg/s\n",
    "s = 200.0 # Entropy drop across the nozzle in kJ/kg\n",
    "n_n = 0.9 # Nozzle efficiency\n",
    "r = 80.0 # Air fuel ratio\n",
    "cv = 40.0 # Heating value of fuel in MJ/kg\n",
    "Cp = 1005.0 # Heat capacity of air in J/kgK\n",
    "print \"\\n Example 21.5\\n\"\n",
    "Vo = v*(5.0/18)\n",
    "m_f = m/r\n",
    "Ve = math.sqrt(2*Cp*s*n_n)\n",
    "T = (m+m_f)*Ve-m*Vo\n",
    "TP = T*Vo\n",
    "PP = (1.0/2.0)*(m+m_f)*(Ve**2)-(1/2)*(m*Vo**2)\n",
    "n_p = TP/PP\n",
    "n_t = PP/(m_f*cv*1000000)\n",
    "n = n_t*n_p\n",
    "print \"\\n Propulsive power = \",PP*(10**-6) ,\" MW,\\n Thrust power = \",TP*(10**-3) ,\" kW,\\n Propulsive efficiency = \",n_p*100 ,\" percent\\n Thermal efficiency = \",n_t*100 ,\" percent,\\n Overall efficiency = \",n*100 ,\" percent \""
   ]
  },
  {
   "cell_type": "markdown",
   "metadata": {},
   "source": [
    "## Ex21.6:pg-890"
   ]
  },
  {
   "cell_type": "code",
   "execution_count": 1,
   "metadata": {
    "collapsed": false
   },
   "outputs": [
    {
     "name": "stdout",
     "output_type": "stream",
     "text": [
      "\n",
      " Example 21.6\n",
      "\n",
      "\n",
      " Air-fuel ratio =  60.9221650764 ,\n",
      " Thrust power of the propeller =  4144.33833875  kJ/s ,\n",
      " Thrust by the propeller =  26.523765368  kN,\n",
      " Mass flow rate of air flowing through the compressor =  27.4358227  kg/s,\n"
     ]
    }
   ],
   "source": [
    "import math\n",
    "# Given that\n",
    "p1 = 0.56 # Ambient pressure in bar\n",
    "t1 = 260.0 # Ambient temperature in K\n",
    "r_p = 6.0 # Pressure ratio of compressor\n",
    "n_c = 0.85 # Efficiency of compressor\n",
    "v = 360.0 # Speed of aircraft in km/h\n",
    "d = 3.0 # Propeller diameter in m\n",
    "n_p = 0.8 # Propeller efficiency\n",
    "n_g = 0.95 # Gear reduction efficiency\n",
    "r_e = 5.0 # Expansion ratio\n",
    "n_t = 0.88 # Turbine efficiency\n",
    "t3 = 1100.0 # Temperature at the entrance of turbine in K\n",
    "n_n = 0.9 # Nozzle efficiency\n",
    "cv = 40.0 # Calorific value in MJ/kg\n",
    "print \"\\n Example 21.6\\n\"\n",
    "gama = 1.4 # Heat capacities ratio for air\n",
    "Vo = v*(5.0/18)\n",
    "p2 = p1*r_p\n",
    "t2_s = t1*((r_p)**(0.286))\n",
    "t2 = t1+((t2_s-t1)/n_c)\n",
    "Cp = 1.005 # The value of heat capacity of air as given in the book in kJ/kgK\n",
    "Wc = Cp*(t2-t1)\n",
    "m_f = (t3-t2)/((cv*1000/Cp)-t3)\n",
    "m_a = 1.0/m_f\n",
    "p3=p2\n",
    "p4 = p3/r_e\n",
    "t4_s = t3/((r_e)**(0.286))\n",
    "t4 = t3-((t3-t4_s)*n_t)\n",
    "Wt = (1+m_f)*(t3-t4)*Cp\n",
    "Pp = Wt-Wc\n",
    "p5 = p1\n",
    "t5_s = t4/((p4/p5)**((gama-1)/gama))\n",
    "Vj = math.sqrt(2*Cp*1000*(t4-t5_s)*n_n)\n",
    "Ft = (1+m_f)*Vj-1*Vo\n",
    "V = Vo/n_p\n",
    "V4 = 2*V-Vo\n",
    "Q = (math.pi/4)*(d**2)*V\n",
    "Pt = (1/2.0)*(p1*(10**5)/(287*t1))*Q*((V4**2)-(Vo**2))/1000\n",
    "PT = Pt/n_g\n",
    "ma_c = PT/Pp\n",
    "Fp = Pt*n_p/V\n",
    "print \"\\n Air-fuel ratio = \",m_a ,\",\\n Thrust power of the propeller = \",Pt ,\" kJ/s ,\\n Thrust by the propeller = \",Fp ,\" kN,\\n Mass flow rate of air flowing through the compressor = \",ma_c ,\" kg/s,\"\n",
    "# The answers are given in the book contain calculation error."
   ]
  },
  {
   "cell_type": "markdown",
   "metadata": {},
   "source": [
    "## Ex21.7:pg-890"
   ]
  },
  {
   "cell_type": "code",
   "execution_count": 7,
   "metadata": {
    "collapsed": false
   },
   "outputs": [
    {
     "name": "stdout",
     "output_type": "stream",
     "text": [
      "\n",
      " Example 21.7\n",
      "\n",
      "\n",
      " Velocity attain by the rocket in 70 seconds =  1064.23747471  m/s ,\n",
      " The maximum height that the rocket will attain =  86.1455071297  km\n"
     ]
    }
   ],
   "source": [
    "import math\n",
    "from scipy import integrate \n",
    "# Given that\n",
    "m = 15000.0 # Initial mass of rocket in kg\n",
    "m_b = 125.0 # Burning rate of propellent in kg/s\n",
    "v = 2000.0 # Relative velocity of gases with respect to the rocket in m/s\n",
    "T = 70.0 # Time in second\n",
    "print \"\\n Example 21.7\\n\"\n",
    "V = (-v*math.log(1-(m_b*T/m)))-(9.81*T)\n",
    "h1,err = integrate.quad(lambda t:-v*math.log(1-(m_b*t/m))-9.81*t,0,T)\n",
    "h2 = (V**2)/(2*9.81)\n",
    "hmax = h2 + h1\n",
    "print \"\\n Velocity attain by the rocket in 70 seconds = \",V ,\" m/s ,\\n The maximum height that the rocket will attain = \",hmax*0.001 ,\" km\""
   ]
  },
  {
   "cell_type": "markdown",
   "metadata": {},
   "source": [
    "## Ex21.8:pg-890"
   ]
  },
  {
   "cell_type": "code",
   "execution_count": 12,
   "metadata": {
    "collapsed": false
   },
   "outputs": [
    {
     "name": "stdout",
     "output_type": "stream",
     "text": [
      "\n",
      " Example 21.8\n",
      "\n",
      "\n",
      " Thrust produced =  218.178625017  kN,\n",
      " Specific impulse =  3482.18007048  Ns/kg\n"
     ]
    }
   ],
   "source": [
    "import math\n",
    "# Given that\n",
    "Pc = 2.4 # Pressure in combustion chamber in MPa\n",
    "Tc = 3170 # Temperature in combustion chamber in K\n",
    "Pj = 55 # Atomospheric pressure in kPa\n",
    "Pe = 85 # Pressure at the exit of nozzle in kPa\n",
    "At = 0.06 # Area at the nozzle throat in m**2\n",
    "n_n = 0.91 # Nozzle efficiency\n",
    "Cd = 0.98 # Cofficient of discharge\n",
    "gama = 1.25 # Heat capacities ratio for gases\n",
    "R = 0.693 # Value of gas constant in kJ/kgK\n",
    "theta = 12 # Half angle of divergence in degree\n",
    "print \"\\n Example 21.8\\n\"\n",
    "Vj = math.sqrt((2*gama*R*1000*Tc/(gama-1))*(1-(Pj/(Pc*1000))**((gama-1)/gama)))\n",
    "Vj_act = ((1+math.cos(12))/2)*Vj*math.sqrt(n_n)\n",
    "m = At*Pc*(10**6)*((gama/(R*1000*Tc))*(2/(gama+1))**((gama+1)/(gama-1)))**(1.0/2)\n",
    "m_act = Cd*m\n",
    "Ae = m/(Pe*Vj)\n",
    "Ft = m*Vj+Ae*(Pe-Pj)*1000\n",
    "SIm = Ft/m_act\n",
    "print \"\\n Thrust produced = \",Ft*0.001 ,\" kN,\\n Specific impulse = \",SIm ,\" Ns/kg\"\n",
    "# The answers are given in the book contain claculation error.\n"
   ]
  }
 ],
 "metadata": {
  "kernelspec": {
   "display_name": "Python 2",
   "language": "python",
   "name": "python2"
  },
  "language_info": {
   "codemirror_mode": {
    "name": "ipython",
    "version": 2
   },
   "file_extension": ".py",
   "mimetype": "text/x-python",
   "name": "python",
   "nbconvert_exporter": "python",
   "pygments_lexer": "ipython2",
   "version": "2.7.11"
  }
 },
 "nbformat": 4,
 "nbformat_minor": 0
}
