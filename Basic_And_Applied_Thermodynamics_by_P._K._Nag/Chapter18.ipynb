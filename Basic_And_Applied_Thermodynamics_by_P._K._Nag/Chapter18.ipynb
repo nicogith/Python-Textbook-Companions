{
 "cells": [
  {
   "cell_type": "markdown",
   "metadata": {},
   "source": [
    "# Chapter 18:Elements of Heat Transfer"
   ]
  },
  {
   "cell_type": "markdown",
   "metadata": {},
   "source": [
    "## Ex18.1:pg-757"
   ]
  },
  {
   "cell_type": "code",
   "execution_count": 1,
   "metadata": {
    "collapsed": false
   },
   "outputs": [
    {
     "name": "stdout",
     "output_type": "stream",
     "text": [
      "\n",
      " Example 18.1\n",
      "\n",
      "\n",
      " The rate of heat removal is  486.40484238  W\n",
      "\n",
      " Temperature at inside surface of brick is  20.2812224957  degree celcius\n"
     ]
    }
   ],
   "source": [
    "import math\n",
    "ho = 12.0 # Outside convective heat transfer coefficient in W/m**2K \n",
    "x1 = 0.23# Thickness of brick in m\n",
    "k1 = 0.98 # Thermal conductivity of brick in W/mK\n",
    "x2 = 0.08 # Thickness of foam in m\n",
    "k2 = 0.02# Thermal conductivity of foam in W/mK\n",
    "x3 = 1.5# Thickness of wood in cm\n",
    "k3 = 0.17# Thermal conductivity of wood in W/cmK\n",
    "hi = 29.0# Inside convective heat transfer coefficient in W/m**2K \n",
    "A = 90.0 # Total wall area in m**2\n",
    "to = 22.0# outside air temperature in degree Celsius\n",
    "ti = -2.0 # Inside air temperature in degree Celsius\n",
    "print \"\\n Example 18.1\\n\"\n",
    "U = (1/((1/ho)+(x1/k1)+(x2/k2)+(x3*1e-2/k3)+(1/hi)))# Overall heat transfer coefficient\n",
    "Q = U*A*(to-ti) # Rate of heat transfer\n",
    "R = (1/ho)+(x1/k1)\n",
    "t2 = to-Q*R/A # Temperature at inside surface of brick\n",
    "\n",
    "print \"\\n The rate of heat removal is \",Q ,\" W\"\n",
    "\n",
    "print \"\\n Temperature at inside surface of brick is \",t2 ,\" degree celcius\"\n",
    "\n",
    "#The answers vary due to round off error\n",
    "\n"
   ]
  },
  {
   "cell_type": "markdown",
   "metadata": {},
   "source": [
    "## Ex18.2:pg-758"
   ]
  },
  {
   "cell_type": "code",
   "execution_count": 2,
   "metadata": {
    "collapsed": false
   },
   "outputs": [
    {
     "name": "stdout",
     "output_type": "stream",
     "text": [
      "\n",
      " Example 18.2\n",
      "\n",
      "\n",
      " Heat transfer rate is  2.33519645654  kW\n"
     ]
    }
   ],
   "source": [
    "import math\n",
    "r1 = 5.0 # Inner radius of steel pipe in cm\n",
    "r2 = 10.0 # Extreme radius of inner insulation in cm\n",
    "r3 = 13.0# Extreme radius of outer insulation in cm\n",
    "K1 = 0.23 # Thermal conductivity of inner insulation in W/mK\n",
    "K2 = 0.37 # Thermal conductivity of outer insulation in W/mK\n",
    "hi = 58.0 # Inner heat transfer coefficient in W/m**2K\n",
    "h0 = 12.0 # Inner heat transfer coefficient in W/m**2K\n",
    "ti = 60.0 # Inner temperature in degree Celsius\n",
    "to = 25.0 # Outer temperature in degree Celsius\n",
    "L = 50.0 # Length of pipe in m\n",
    "\n",
    "print \"\\n Example 18.2\\n\"\n",
    "Q =((2*math.pi*L*(ti-to))/((1/(hi*r1*1e-2))+(math.log(r2/r1)/(K1))+(math.log(r3/r2)/(K2))+(1/(h0*r3*1e-2))))\n",
    "# Rate of heat transfer\n",
    "print \"\\n Heat transfer rate is \",Q/1e3 ,\" kW\"\n",
    "#The answers vary due to round off error\n",
    "\n"
   ]
  },
  {
   "cell_type": "markdown",
   "metadata": {},
   "source": [
    "## Ex18.3:pg-759"
   ]
  },
  {
   "cell_type": "code",
   "execution_count": 3,
   "metadata": {
    "collapsed": false
   },
   "outputs": [
    {
     "name": "stdout",
     "output_type": "stream",
     "text": [
      "\n",
      " Example 18.3\n",
      "\n",
      "\n",
      " Thermal conductivity of rod A is  57.4969670417  W/mK\n",
      "\n",
      " Thermal conductivity of rod B is  86.076212035  W/mK\n",
      "\n",
      " Thermal conductivity of rod C is  116.0  W/mK\n"
     ]
    }
   ],
   "source": [
    "import math\n",
    "to = 20 # Environment temperature in degree Celsius\n",
    "t = 100# Temperature of steam path in degree Celsius\n",
    "ta1 =  26.76 # Temperature at other end in degree Celsius for rod A \n",
    "d = 10 # diameter of rod in mm\n",
    "L = 0.25 # length of rod in m\n",
    "h = 23 # heat transfer coefficient in W/m**2 K\n",
    "tb1 =  32.00 # Temperature at other end in degree Celsius for rod B \n",
    "tc1 =  36.93 # Temperature at other end in degree Celsius for rod C \n",
    "\n",
    "print \"\\n Example 18.3\\n\"\n",
    "A = math.pi/4 * (d*1e-3)**2 #Area of rod\n",
    "p = math.pi*d*1e-3 # perimeter of rod\n",
    "# For rod A\n",
    "a = (ta1-to)/(t-to) \n",
    "ma = (math.acosh(1/a))/L\n",
    "\n",
    "Ka = (h*p)/(ma**2*A) # Thermal conductivity of rod A\n",
    "print \"\\n Thermal conductivity of rod A is \",Ka ,\" W/mK\"\n",
    "# For rod B\n",
    "b = (tb1-to)/(t-to) \n",
    "mb = (math.acosh(1/b))/L\n",
    "\n",
    "Kb = (h*p)/(mb**2*A) # Thermal conductivity of rod B\n",
    "print \"\\n Thermal conductivity of rod B is \",Kb ,\" W/mK\"\n",
    "c = (tc1-to)/(t-to) \n",
    "mc = (math.acosh(1/c))/L\n",
    "\n",
    "Kc = (h*p)/(mc**2*A) # Thermal conductivity of rod A\n",
    "print \"\\n Thermal conductivity of rod C is \",math. ceil(Kc) ,\" W/mK\"\n",
    "#The answers vary due to round off error\n",
    "\n"
   ]
  },
  {
   "cell_type": "markdown",
   "metadata": {},
   "source": [
    "## Ex18.4:pg-760"
   ]
  },
  {
   "cell_type": "code",
   "execution_count": 4,
   "metadata": {
    "collapsed": false
   },
   "outputs": [
    {
     "name": "stdout",
     "output_type": "stream",
     "text": [
      "\n",
      " Example 18.4\n",
      "\n",
      "\n",
      " Midway temperature of rod is  88.7138777413  degree Celcius\n",
      "\n",
      " Heat loss rate is  88.0331604603 W\n"
     ]
    }
   ],
   "source": [
    "import math\n",
    "h = 17.4 # Convective heat transfer coefficient in W/m**2K\n",
    "K = 52.2 # Thermal conductivity in W/mK\n",
    "t = 120 # Heat reservoir wall temperature in degree celcius\n",
    "t0 = 35 # Ambient temperature in degree celcius\n",
    "L = 0.4 # Lenght of rod in m\n",
    "b  = .050 # width of rod in mm\n",
    "H = .050 # Heigth of rod in mm\n",
    "\n",
    "print \"\\n Example 18.4\\n\"\n",
    "l= L/2\n",
    "A = b*H\n",
    "m = math.sqrt(4*h*b/(K*b*H))\n",
    "t1 = (t-t0)/math.cosh(m*l) + t0 # Midway temperature of rod\n",
    "Q1 = 2*5.12*K*A*(t-t0)*math.tanh(m*l) # Heat loss rate \n",
    "print \"\\n Midway temperature of rod is \",t1 ,\" degree Celcius\"\n",
    "print \"\\n Heat loss rate is \",Q1 ,\"W\"\n",
    "#The answers vary due to round off error\n",
    "\n"
   ]
  },
  {
   "cell_type": "markdown",
   "metadata": {},
   "source": [
    "## Ex18.5:pg-760"
   ]
  },
  {
   "cell_type": "code",
   "execution_count": 5,
   "metadata": {
    "collapsed": false
   },
   "outputs": [
    {
     "name": "stdout",
     "output_type": "stream",
     "text": [
      "\n",
      " Example 18.5\n",
      "\n",
      "\n",
      " Time to cool down to 2 degree celcius is  30.5933342864  min\n",
      "\n",
      " Temperature of peas after 10 minutes is  13.1714792663  degree celcius\n",
      "\n",
      " Temperature of peas after 30 minutes is  1.0393274697  degree celcius\n"
     ]
    }
   ],
   "source": [
    "import math\n",
    "d = 8.0 # Average diameter in mm\n",
    "r = 750.0 # Density in Kg/m**3\n",
    "t = 2.0 # Intermediate temperature in degree celcius\n",
    "t_inf = 1.0 # Ambient temperature in degree celcius\n",
    "t0 = 25.0 # Initial temperature in degree celcius\n",
    "c = 3.35 # Specific heat in kJ/KgK\n",
    "h = 5.8 # Heat transfer coeeficient in W/m**2K\n",
    "T1 = 10.0 # time period in minutes\n",
    "T2 = 30.0 # time period in minutes \n",
    "t1 = 5.0 # Intermediate temperature in degree celcius\n",
    "print \"\\n Example 18.5\\n\"\n",
    "tau1 = c*1e3*math.log((t0-t_inf)/(t-t_inf))/(h*60) # Time to cool down to 2 degree celcius\n",
    "tau2 = (t0-t_inf)*(math.exp(-(c*T1*60)/(c*1e3))) # Temperature of peas after 10 minutes\n",
    "Y = math.exp(-1*(c*T2*60)/(c*1e3))\n",
    "tau3 = (t0*Y-t1)/(Y-1)\n",
    "\n",
    "print \"\\n Time to cool down to 2 degree celcius is \",tau1 ,\" min\"\n",
    "print \"\\n Temperature of peas after 10 minutes is \",tau2 ,\" degree celcius\"\n",
    "print \"\\n Temperature of peas after 30 minutes is \",tau3 ,\" degree celcius\"\n",
    "#The answers given in book are incorrect\n",
    "\n"
   ]
  },
  {
   "cell_type": "markdown",
   "metadata": {},
   "source": [
    "## Ex18.6:pg-761"
   ]
  },
  {
   "cell_type": "code",
   "execution_count": 6,
   "metadata": {
    "collapsed": false
   },
   "outputs": [
    {
     "name": "stdout",
     "output_type": "stream",
     "text": [
      "\n",
      " Example 18.6\n",
      "\n",
      "\n",
      " Surface area of heat exchanger is  53.1155468795  m**2\n"
     ]
    }
   ],
   "source": [
    "import math\n",
    "mh =  1000 # mass flow rate of hot fluid in Kg/h\n",
    "mc = 1000 # mass flow rate of cold fluid in Kg/h\n",
    "ch = 2.09 # Specific heat capacity of hot fluid in kJ/kgK\n",
    "cc = 4.187 #Specific heat capacity of cold fluid in kJ/kgK \n",
    "th1 = 80# Inlet temperature of hot fluid in degree celcius\n",
    "th2 = 40 # Exit temperature of hot fluid in degree Celsius\n",
    "tc1 = 30 # Inlet temperature of cold fluid in degree Celsius\n",
    "U = 24 # heat transfer coefficient in W/m**2K\n",
    "\n",
    "print \"\\n Example 18.6\\n\"\n",
    "Q = mh*ch*(th1-th2)\n",
    "tc2 = Q/(mc*cc) + tc1# outlet temperature of cold fluid\n",
    "te = th2-tc1 # Exit end temperature difference in degree Celsius\n",
    "ti = th1 - tc2 # Inlet end temperature  difference in degree Celsius\n",
    "t_lm = (ti-te)/(math.log(ti/te))\n",
    "A = Q / (U*t_lm*3.6) # Surface are of heat exchanger\n",
    "\n",
    "print \"\\n Surface area of heat exchanger is \",A ,\" m**2\"\n",
    "\n",
    "#The answers vary due to round off error\n",
    "\n"
   ]
  },
  {
   "cell_type": "markdown",
   "metadata": {},
   "source": [
    "## Ex18.7:pg-762"
   ]
  },
  {
   "cell_type": "code",
   "execution_count": 7,
   "metadata": {
    "collapsed": false
   },
   "outputs": [
    {
     "name": "stdout",
     "output_type": "stream",
     "text": [
      "\n",
      " Example 18.7\n",
      "\n",
      "\n",
      " Surface area of heat exchanger is  3.52948841744  m**2\n"
     ]
    }
   ],
   "source": [
    "import math\n",
    "Hfg = 2257.0 # Latent heat at 100 degree Celsius\n",
    "\n",
    "ma =  500.0 # mass flow rate of air in Kg/h\n",
    "ch = 1.005 # Specific heat capacity of hot air in kJ/kgK\n",
    "ta1 = 260.0 # Inlet temperature of hot air in degree Celsius\n",
    "ta2 = 150.0 # Inlet temperature of cold air in degree Celsius\n",
    "tc1 = 100.0 # Inlet temperature of steam\n",
    "tc2 = tc1 # Exit temperature of steam\n",
    "U = 46.0 # heat transfer coefficient in W/m**2K\n",
    "\n",
    "print \"\\n Example 18.7\\n\"\n",
    "Q = ma*ch*(ta1-ta2)\n",
    "m = Q/Hfg # mass flow rate of steam\n",
    "te = ta2-tc1 # Exit end temperature difference in degree Celsius\n",
    "ti = ta1 - tc2 # Inlet end temperature  difference in degree Celsius\n",
    "t_lm = (ti-te)/(math.log(ti/te))\n",
    "A = Q / (U*t_lm*3.6) # Surface are of heat exchanger\n",
    "\n",
    "print \"\\n Surface area of heat exchanger is \",A ,\" m**2\"\n",
    "\n",
    "#The answers vary due to round off error\n",
    "\n"
   ]
  },
  {
   "cell_type": "markdown",
   "metadata": {},
   "source": [
    "## Ex18.8:pg-763"
   ]
  },
  {
   "cell_type": "code",
   "execution_count": 8,
   "metadata": {
    "collapsed": false
   },
   "outputs": [
    {
     "name": "stdout",
     "output_type": "stream",
     "text": [
      "\n",
      " Example 18.8\n",
      "\n",
      "\n",
      " Exit temperature of oil is  90.1251029717  degree celcius\n",
      "\n",
      " Rate of heat transfer is  1302.7384927  kW\n"
     ]
    }
   ],
   "source": [
    "import math\n",
    "mh =  20.15 # mass flow rate of hot fluid in Kg/s\n",
    "mc = 5.04 # mass flow rate of cold fluid in Kg/h\n",
    "ch = 2.094 # Specific heat capacity of hot fluid in kJ/kgK\n",
    "cc = 4.2 #Specific heat capacity of cold fluid in kJ/kgK \n",
    "th1 = 121# Inlet temperature of hot fluid in degree Celsius\n",
    "th2 = 40 # Exit temperature of hot fluid in degree Celsius\n",
    "tc1 = 10 # Inlet temperature of cold fluid in degree Celsius\n",
    "U = 0.34 # heat transfer coefficient in kW/m**2K\n",
    "n = 200 # total number of tubes\n",
    "l = 4.87 # length of tube in m\n",
    "d = 1.97 # Outer diameter in cm\n",
    "print \"\\n Example 18.8\\n\"\n",
    "A = math.pi*n*d*1e-2*l # Total surface area\n",
    "mc_oil = mh*ch\n",
    "mc_water = mc*cc\n",
    "c_min = mc_water\n",
    "c_max =mc_oil\n",
    "    \n",
    "if (mc_oil<mc_water):\n",
    "    c_min = mc_oil\n",
    "    c_max =mc_water\n",
    "\n",
    "R = c_min/c_max\n",
    "NTU = U*A/c_min\n",
    "e = (1-math.exp(-1*NTU*(1-R)))/(1-R*math.exp(-1*NTU*(1-R)))\n",
    "t_larger = e*(th1-tc1)\n",
    "t_water = t_larger \n",
    "t_oil = t_water*mc_water/mc_oil\n",
    "th2 = th1 - t_oil # Exit temperature of oil\n",
    "Q = mh*ch*(th1-th2) # Rate of heat transfer\n",
    "\n",
    "print \"\\n Exit temperature of oil is \",th2 ,\" degree celcius\"\n",
    "print \"\\n Rate of heat transfer is \",Q ,\" kW\"\n",
    "#The answers vary due to round off error\n",
    "\n"
   ]
  },
  {
   "cell_type": "markdown",
   "metadata": {},
   "source": [
    "## Ex18.9:pg-763"
   ]
  },
  {
   "cell_type": "code",
   "execution_count": 9,
   "metadata": {
    "collapsed": false
   },
   "outputs": [
    {
     "name": "stdout",
     "output_type": "stream",
     "text": [
      "\n",
      " Example 18.9\n",
      "\n",
      "\n",
      " Heat transfer coefficient is  4074.68413756  W/m**2K\n",
      "\n",
      " Rate of heat transfer is  38.4029932568  kW\n"
     ]
    }
   ],
   "source": [
    "import math\n",
    "u_m = 0.8 # mean velocity in m/s\n",
    "D = 5 # Diameter in cm\n",
    "v = 4.78e-7 # dynamic coefficient of viscosity\n",
    "Pr = 2.98 # Prantl number\n",
    "K = 0.66 # Thermal conductivity in W/mK\n",
    "l = 3 # length of pipe in m\n",
    "tw = 70 # Wall temperature\n",
    "tf = 50 # mean water temperature\n",
    "print \"\\n Example 18.9\\n\"\n",
    "Re = u_m*D*1e-2/v # Reynold number\n",
    "Nu = 0.023*(Re**0.8)*(Pr**0.4)\n",
    "h = K*Nu/(D*1e-2) # Heat transfer coefficient\n",
    "A = math.pi*D*1e-2*l # Surface area\n",
    "Q = h*A*(tw-tf) # Rate of heat transfer\n",
    "print \"\\n Heat transfer coefficient is \",h ,\" W/m**2K\"\n",
    "print \"\\n Rate of heat transfer is \",Q/1e3 ,\" kW\"\n",
    "#The answers vary due to round off error\n",
    "\n"
   ]
  },
  {
   "cell_type": "markdown",
   "metadata": {},
   "source": [
    "## Ex18.10:pg-764"
   ]
  },
  {
   "cell_type": "code",
   "execution_count": 10,
   "metadata": {
    "collapsed": false
   },
   "outputs": [
    {
     "name": "stdout",
     "output_type": "stream",
     "text": [
      "\n",
      " Example 18.10\n",
      "\n",
      "\n",
      " Rate of heat dissipation is  31.392  W\n"
     ]
    }
   ],
   "source": [
    "import math\n",
    "b = 10 # width of plate in cm\n",
    "h = 15 # Height of plate in cm\n",
    "hr = 8.72 # Radiative heat transfer coefficient in W/m**2K\n",
    "tw = 140 # temperature of wall in degree Celsius\n",
    "tf = 20 # Atmospheric temperature in degree Celsius\n",
    "v = 2.109e-5 # Coefficient of dynamic viscosity in m**2/s\n",
    "Pr = 0.692 # Prantl number\n",
    "K = 0.0305 # Thermal conductivity in W/mK\n",
    "L = 0.15 # characteristic length in m\n",
    "g = 9.81 # Gravitational acceleration in m/s**2\n",
    "\n",
    "print \"\\n Example 18.10\\n\"\n",
    "A = 2*b*1e-2*h*1e-2 # total area of plate\n",
    "t_mean = (tw+tf)/2 +273\n",
    "B = 1/t_mean\n",
    "del_t = tw-tf\n",
    "Gr = g*B*del_t*L**3/v**2 # Grashoff number\n",
    "x = Gr*Pr\n",
    "Nu = 0.59*(Gr*Pr)**0.25\n",
    "hc = Nu*K/L\n",
    "Q = (hc+hr)*A*del_t # Rate of heat dissipation\n",
    "print \"\\n Rate of heat dissipation is \",Q ,\" W\"\n",
    "#The answers vary due to round off error\n",
    "\n"
   ]
  },
  {
   "cell_type": "markdown",
   "metadata": {},
   "source": [
    "## Ex18.11:pg-765"
   ]
  },
  {
   "cell_type": "code",
   "execution_count": 11,
   "metadata": {
    "collapsed": false
   },
   "outputs": [
    {
     "name": "stdout",
     "output_type": "stream",
     "text": [
      "\n",
      " Example 18.11\n",
      "\n",
      "\n",
      " Time required for heating operation is  27.6219838873  s\n"
     ]
    }
   ],
   "source": [
    "import math\n",
    "d1 = 2.0 # Diameter of steel rod in cm\n",
    "d2 = 16.0 # Diameter of cylindrical furnace in cm\n",
    "e1 = 0.6 # emissivity of inner surface\n",
    "e2 = 0.85 # emissivity of rod surface\n",
    "T = 1093.0 # Inner surface temperature of furncae in degree celcius\n",
    "Tr1 = 427.0 # Initial temperature of rod in degree celcius\n",
    "Tr2 = 538.0 # Initial temperature of rod in degree celcius\n",
    "sigma = 5.67e-8 # Constant\n",
    "rho = 7845.0 # density in kg/ m**3\n",
    "c = 0.67 # Specific heat capacity in kJ/kgK\n",
    "print \"\\n Example 18.11\\n\"\n",
    "A_ratio = d1/d2 # Surface area ratio of cylindrical bodies\n",
    "F12 = (1/((1/e1)+(A_ratio*(1/e2 -1))))\n",
    "A1 = math.pi*d1*1e-2*1 # Surface area of rod\n",
    "T1 = Tr1+273\n",
    "T2 = T +273\n",
    "T3 = Tr2 +273\n",
    "Qi = sigma*A1*F12*(T1**4-T2**4)\n",
    "Qe = sigma*A1*F12*(T3**4-T2**4)\n",
    "\n",
    "Q_avg = abs((Qi+Qe)/2)\n",
    "tau = rho*c*(1e-4)*math.pi*(Tr2-Tr1)/(Q_avg*(1e-3))\n",
    "\n",
    "# Time required for heating operation \n",
    "print \"\\n Time required for heating operation is \",tau ,\" s\"\n",
    "\n",
    "#The answers vary due to round off error\n"
   ]
  },
  {
   "cell_type": "markdown",
   "metadata": {},
   "source": [
    "## Ex18.12:pg-765"
   ]
  },
  {
   "cell_type": "code",
   "execution_count": 13,
   "metadata": {
    "collapsed": false
   },
   "outputs": [
    {
     "name": "stdout",
     "output_type": "stream",
     "text": [
      "\n",
      " Example 18.12\n",
      "\n",
      "\n",
      " Net heat transfer between two cylinders is  7297.2729358  W/m length\n",
      "\n",
      " Example 18.12\n",
      "\n",
      "\n",
      " Net heat transfer between two cylinders is  7297.2729358  W/m length\n"
     ]
    }
   ],
   "source": [
    "import math\n",
    "d1 = 10.0 # Diameter of inner cylinder in cm\n",
    "d2 = 20.0 # Diameter of outer cylinder in cm\n",
    "e1 = 0.65 # emissivity of inner surface\n",
    "e2 = 0.4 # emissivity of outer surface\n",
    "T1 = 1000.0 # Inner surface temperature in K\n",
    "T2 = 500.0 # outer suface temperature in K\n",
    "sigma = 5.67e-8 # Constant\n",
    "print \"\\n Example 18.12\\n\"\n",
    "A1 = math.pi*d1*1e-2\n",
    "A2 = math.pi*d2*1e-2\n",
    "R =(((1-e1)/(e1*A1))+((1-e2)/(e2*A2))+(1/(A1*1)))\n",
    "Eb1 = sigma*T1**4\n",
    "Eb2 = sigma*T2**4\n",
    "Q = (Eb1-Eb2)/R # Net heat transfer between two cylinders\n",
    "print \"\\n Net heat transfer between two cylinders is \",Q ,\" W/m length\"\n",
    "\n",
    "#The answers vary due to round off error\n",
    "\n",
    "d1 = 10.0 # Diameter of inner cylinder in cm\n",
    "d2 = 20.0 # Diameter of outer cylinder in cm\n",
    "e1 = 0.65 # emissivity of inner surface\n",
    "e2 = 0.4 # emissivity of outer surface\n",
    "T1 = 1000.0 # Inner surface temperature in K\n",
    "T2 = 500.0 # outer surface temperature in K\n",
    "sigma = 5.67e-8 # Constant\n",
    "print \"\\n Example 18.12\\n\"\n",
    "A1 = math.pi*d1*1e-2\n",
    "A2 = math.pi*d2*1e-2\n",
    "R =(((1-e1)/(e1*A1))+((1-e2)/(e2*A2))+(1/(A1*1)))\n",
    "Eb1 = sigma*T1**4\n",
    "Eb2 = sigma*T2**4\n",
    "Q = (Eb1-Eb2)/R # Net heat transfer between two cylinders\n",
    "print \"\\n Net heat transfer between two cylinders is \",Q ,\" W/m length\"\n",
    "\n",
    "#The answers vary due to round off error\n",
    "\n"
   ]
  }
 ],
 "metadata": {
  "kernelspec": {
   "display_name": "Python 2",
   "language": "python",
   "name": "python2"
  },
  "language_info": {
   "codemirror_mode": {
    "name": "ipython",
    "version": 2
   },
   "file_extension": ".py",
   "mimetype": "text/x-python",
   "name": "python",
   "nbconvert_exporter": "python",
   "pygments_lexer": "ipython2",
   "version": "2.7.11"
  }
 },
 "nbformat": 4,
 "nbformat_minor": 0
}
