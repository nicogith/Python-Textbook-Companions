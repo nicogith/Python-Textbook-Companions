{
 "metadata": {
  "name": ""
 },
 "nbformat": 3,
 "nbformat_minor": 0,
 "worksheets": [
  {
   "cells": [
    {
     "cell_type": "heading",
     "level": 1,
     "metadata": {},
     "source": [
      "Chapter 1:Origin of Quantum Concepts"
     ]
    },
    {
     "cell_type": "heading",
     "level": 2,
     "metadata": {},
     "source": [
      "Example no:1,Page no:58"
     ]
    },
    {
     "cell_type": "code",
     "collapsed": false,
     "input": [
      "import math\n",
      "#Variable declaration\n",
      "c1=0.01\n",
      "c2=0.1\n",
      "c3=1\n",
      "c4=10\n",
      "b=2.898*10**-3                                        #Wien's constant (meter-kelvin)\n",
      "h=(6.625*10**-34)/(2*math.pi)                         #Planck's constant (joule-second)\n",
      "c=3*10**8                                             #speed of light (meter/second)\n",
      "k=1.38*10**-23                                        #Boltzmann constant (joule/kelvin)\n",
      "T=3000                                                #Temperature of black body (kelvin)\n",
      "Delta_lembda=1*10**-9                                 #wavelength interval (meter)\n",
      "\n",
      "#Calculation\n",
      "from sympy import *\n",
      "kT=Symbol('kT')\n",
      "#(a)Average energy of Planck's oscillator:\n",
      "E1=round(c1/(math.exp(c1)-1))*kT                           #Average energy of Planck's oscillator\n",
      "E2=round(c2/(math.exp(c2)-1),2)*kT                           #Average energy of Planck's oscillator\n",
      "E3=round(c3/(math.exp(c3)-1),2)*kT                           #Average energy of Planck's oscillator\n",
      "E4=round(c4/(math.exp(c4)-1),5)*kT                           #Average energy of Planck's oscillator\n",
      "#(b)Power radiated by a unit area of a black body\n",
      "P=(4*(math.pi**2)*h*(c**2)*(T**5)*Delta_lembda)/((b**5)*((math.exp((2*math.pi*h*c)/(b*k)))-1.0))           #The power radiated per unit area (watt/meter**2)\n",
      "\n",
      "#Result\n",
      "print\"(a)The average energy of Planck`s oscillator:\"\n",
      "print\"(i) Energy =\",E1\n",
      "print\"Energy =\",E2\n",
      "print\"Energy = \",E3\n",
      "print\"Energy =\",E4\n",
      "print\"(b) The power radiated per unit area =%.f\"%P,\"W/m**2\"\n",
      "print\"NOTE:Approximate values are used in book,that's why different answer\""
     ],
     "language": "python",
     "metadata": {},
     "outputs": [
      {
       "output_type": "stream",
       "stream": "stdout",
       "text": [
        "(a)The average energy of Planck`s oscillator:\n",
        "(i) Energy = 1.0*kT\n",
        "Energy = 0.95*kT\n",
        "Energy =  0.58*kT\n",
        "Energy = 0.00045*kT\n",
        "(b) The power radiated per unit area =3115 W/m**2\n",
        "NOTE:Approximate values are used in book,that's why different answer\n"
       ]
      }
     ],
     "prompt_number": 87
    },
    {
     "cell_type": "heading",
     "level": 2,
     "metadata": {},
     "source": [
      "Example no:2,Page no:59"
     ]
    },
    {
     "cell_type": "code",
     "collapsed": false,
     "input": [
      "#Variable declaration\n",
      "v=2*10**-2                                                                       #side of the cube (meter)\n",
      "lembda=5000*10**-10                                                              #wavelength (meter)\n",
      "delta_lembda=10*10**-10                                                          #range of wavelength (meter)\n",
      "k=1.38*10**-23                                                                   #Boltzmann constant (joule/kelvin)\n",
      "T=1500                                                                          #Temperature of the cavity (kelvin)\n",
      "\n",
      "#Calculation\n",
      "import math\n",
      "#(i)Number of modes:\n",
      "N=(8*math.pi*v**3*delta_lembda)/lembda**4                                             #number of modes\n",
      "#(ii)Total radiant energy in the cavity:\n",
      "U=N*k*T                                                                         #energy density (joule)\n",
      "\n",
      "#Result\n",
      "print\"\\n(a) Number of modes =%.3e\"%N,\"joule\\n(b) Energy density =%.2e\"%U ,\"J\"\n",
      "print\"Note: In book the answers of both the parts are WRONG by one order of magnitude in powers\"\n"
     ],
     "language": "python",
     "metadata": {},
     "outputs": [
      {
       "output_type": "stream",
       "stream": "stdout",
       "text": [
        "\n",
        "(a) Number of modes =3.217e+12 joule\n",
        "(b) Energy density =6.66e-08 J\n",
        "Note: In book the answers of both the parts are WRONG by one order of magnitude in powers\n"
       ]
      }
     ],
     "prompt_number": 8
    },
    {
     "cell_type": "heading",
     "level": 2,
     "metadata": {},
     "source": [
      "Example no:3,Page no:59"
     ]
    },
    {
     "cell_type": "code",
     "collapsed": false,
     "input": [
      "import math\n",
      "\n",
      "#Variable declaration\n",
      "m=0.1                                                    #mass of a spring-mass system (kg)\n",
      "k=10                                                     #spring constant of a spring-mass system (newton/meter)\n",
      "A=0.1                                                    #Amplitude of system oscillation (meter)\n",
      "h=(6.625*10**-34)/(2*math.pi)                            #Planck's constant (joule-second)\n",
      "delta_n=1                                                #change in quantum number\n",
      "\n",
      "#Calculation\n",
      "#(a) Quantum number n associated with the energy of the oscillator\n",
      "f=(k/m)**(1.0/2.0)                                          #frequency of oscillator (radian/second)\n",
      "E=0.5*f*A**2                                            #Energy of oscillator (joule)\n",
      "n=E/(h*f)                                               #Quantum number of the oscillator\n",
      "#(b) Fractional change in energy\n",
      "change_E=delta_n/n                                      #fractional change in energy\n",
      "\n",
      "\n",
      "#Result\n",
      "print\"\\n(a) Quantum number of the oscillator =%.e\"%n\n",
      "print\"(b) Fractional change in energy =%.g\"%change_E\n",
      "print\"(c) This example illustrates that the energy levels of macroscopic oscillators are so close together that even most delicate instruments cannot reveal the quantized nature of energy levels. All this is due to smallness of Planck\u2019s constant h. In the limit h->0, the energy levels become continuous.\"\n",
      "print\"WRONG ANSWER NOTE:The answer given in the book for quantum number is just the order of it as it is a very large number. But the answer generated by the code is the exact value of it.\"\n"
     ],
     "language": "python",
     "metadata": {},
     "outputs": [
      {
       "output_type": "stream",
       "stream": "stdout",
       "text": [
        "\n",
        "(a) Quantum number of the oscillator =5e+31\n",
        "(b) Fractional change in energy =2e-32\n",
        "(c) This example illustrates that the energy levels of macroscopic oscillators are so close together that even most delicate instruments cannot reveal the quantized nature of energy levels. All this is due to smallness of Planck\u2019s constant h. In the limit h->0, the energy levels become continuous.\n",
        "WRONG ANSWER NOTE:The answer given in the book for quantum number is just the order of it as it is a very large number. But the answer generated by the code is the exact value of it.\n"
       ]
      }
     ],
     "prompt_number": 2
    },
    {
     "cell_type": "heading",
     "level": 2,
     "metadata": {},
     "source": [
      "Example no:4,Page no:63"
     ]
    },
    {
     "cell_type": "code",
     "collapsed": false,
     "input": [
      "import math\n",
      "#Variable declaration\n",
      "e=1.6*10**-19                                 #Charge of electron (coulombs)\n",
      "h=(6.625*10**-34)/(2*math.pi)                 #Planck's constant (joule-second)\n",
      "c=3*10**8                                     #Speed of light (meter/second)\n",
      "\n",
      "#Calculation\n",
      "ch=(2*math.pi*h*c*10**9)/e                    #Value of ch (eV nm)\n",
      "\n",
      "#Result\n",
      "print\"\\nch =\",round(ch),\"eV nm\"\n",
      "print\"WRONG ANSWER:Approximate answer is given in book\""
     ],
     "language": "python",
     "metadata": {},
     "outputs": [
      {
       "output_type": "stream",
       "stream": "stdout",
       "text": [
        "\n",
        "ch = 1242.0 eV nm\n",
        "WRONG ANSWER:Approximate answer is given in book\n"
       ]
      }
     ],
     "prompt_number": 4
    },
    {
     "cell_type": "heading",
     "level": 2,
     "metadata": {},
     "source": [
      "Example no:5,Page no:63"
     ]
    },
    {
     "cell_type": "code",
     "collapsed": false,
     "input": [
      "import math\n",
      "#Variable declaration\n",
      "h=(6.625*10**-34)/(2*math.pi)                          #Planck's constant (joule-second)\n",
      "c=3*10**8                                              #speed of light (meter/second)\n",
      "lembda=2000                                            #Wavelength of the light (\u00c5)\n",
      "phi=4.2                                                #work function of aluminium surface (eV)\n",
      "ch=12400                                               #constant (eV \u00c5)\n",
      "\n",
      "#Calculation\n",
      "#(a) maximum kinetic energy of photoelectrons\n",
      "Tmax=(ch/lembda)-phi                                   #maximum kinetic energy of photoelectrons (eV)\n",
      "\n",
      "#(b) minimum kinetic energy of photoelectrons\n",
      "Tmin=0\n",
      "\n",
      "#(c) cut-off wavelength\n",
      "lembda_cut=ch/phi                                      # cut-off wavelength (\u00c5)\n",
      "\n",
      "#(d) stopping potential\n",
      "v=2                                                    #stopping potential (volt)\n",
      "\n",
      "\n",
      "#Result\n",
      "print\"\\n(a) Maximum kinetic energy of photoelectrons =\",round(Tmax),\"eV\"\n",
      "print\"(b) Minimum kinetic energy of photoelectrons =\",Tmin\n",
      "print\"(c) Cut-off(Threshold) wavelength =\",round(lembda_cut),\"\u00c5\\n\"\n",
      "print\"(d) Stopping potential =\",v,\"volt\" \n",
      "print\"Note: In book answer of cut_off wavelength is wrong\""
     ],
     "language": "python",
     "metadata": {},
     "outputs": [
      {
       "output_type": "stream",
       "stream": "stdout",
       "text": [
        "\n",
        "(a) Maximum kinetic energy of photoelectrons = 2.0 eV\n",
        "(b) Minimum kinetic energy of photoelectrons = 0\n",
        "(c) Cut-off(Threshold) wavelength = 2952.0 \u00c5\n",
        "\n",
        "(d) Stopping potential = 2 volt\n",
        "Note: In book answer of cut_off wavelength is wrong\n"
       ]
      }
     ],
     "prompt_number": 6
    },
    {
     "cell_type": "heading",
     "level": 2,
     "metadata": {},
     "source": [
      "Example no:6,Page no:64"
     ]
    },
    {
     "cell_type": "code",
     "collapsed": false,
     "input": [
      "#Variable declaration\n",
      "lembda1=4000.0                                  #wavelength of light (\u00c5)\n",
      "V1=2.0                                          #stopping potential (volt)\n",
      "lembda2=6000.0                                  #wavelength of light (\u00c5)\n",
      "V2=1.0                                          #stopping potential (volt)\n",
      "e=1.6*10**-19                                 #Charge of electron (coulombs)\n",
      "c=3.0*10**8                                     #speed of light (meter/second)\n",
      "ch=12400.0                                      #constant (eV \u00c5)\n",
      "\n",
      "#Calculation\n",
      "#(i) Planck's constant\n",
      "h=(e*(V1-V2)*lembda1*10**-10*lembda2*10**-10)/(c*((lembda2*10**-10)-(lembda1*10**-10)))   #Planck's constant (joule-second)\n",
      "#(ii) Work function\n",
      "phi=(ch/lembda1)-V1                           #work function of the material (eV)\n",
      "\n",
      "#Result\n",
      "print\" Planck`s constant = h =\",h,\"J-s\\n\"\n",
      "print\" Work function of the material =\",phi,\"eV\"\n"
     ],
     "language": "python",
     "metadata": {},
     "outputs": [
      {
       "output_type": "stream",
       "stream": "stdout",
       "text": [
        " Planck`s constant = h = 6.4e-34 J-s\n",
        "\n",
        " Work function of the material = 1.1 eV\n"
       ]
      }
     ],
     "prompt_number": 11
    },
    {
     "cell_type": "heading",
     "level": 2,
     "metadata": {},
     "source": [
      "Example no:7,Page no:64"
     ]
    },
    {
     "cell_type": "code",
     "collapsed": false,
     "input": [
      "#Variable declaration\n",
      "ch=12400                               #constant (eV \u00c5)\n",
      "phi_Tantalum=4.2                       #work function of Tantalum (eV)\n",
      "phi_Tungsten=4.5                       #work function of Tungsten (eV)\n",
      "phi_Aluminium=4.2                      #work function of Aluminium (eV)\n",
      "phi_Barium=2.5                         #work function of Barium (eV)\n",
      "phi_Lithium=2.3                        #work function of Lithium (eV)\n",
      "\n",
      "#Calculation\n",
      "lembda_Tantalum=ch/phi_Tantalum         #Threshold wavelength of Tantalum (\u00c5)\n",
      "lembda_Tungsten=ch/phi_Tungsten         #Threshold wavelength of Tungsten (\u00c5)\n",
      "lembda_Aluminium=ch/phi_Aluminium       #Threshold wavelength of Aluminium (\u00c5)\n",
      "lembda_Barium=ch/phi_Barium             #Threshold wavelength of Barium (\u00c5)\n",
      "lembda_Lithium=ch/phi_Lithium           #Threshold wavelength of Lithium (\u00c5)\n",
      "\n",
      "\n",
      "#Result\n",
      "print\"Tantalum %d\"%lembda_Tantalum,\"\u00c5\"\n",
      "print\"Tungsten %d\"%lembda_Tungsten,\"\u00c5\"\n",
      "print\"Aluminium %d\"%lembda_Aluminium,\"\u00c5\"\n",
      "print\"Barium %d\"%lembda_Barium,\"\u00c5\"\n",
      "print\"Lithium %d\"%lembda_Lithium,\"\u00c5\"\n",
      "if(lembda_Tantalum<8000 and lembda_Tantalum>4000):          \n",
      "    print\"Tantalum can be used for designing photocell\"\n",
      "\n",
      "\n",
      "if(lembda_Tungsten<8000 and lembda_Tungsten>4000):             #Checking whether Threshold wavelength of Tungsten lies in visible range or not\n",
      "    print\"Tungsten can be used for designing photocell\"\n",
      "\n",
      "\n",
      "if(lembda_Aluminium<8000 and lembda_Aluminium>4000):           #Checking whether Threshold wavelength of Aluminium lies in visible range or not\n",
      "    print\"Aluminium can be used for designing photocell\"\n",
      "\n",
      "\n",
      "if(lembda_Barium<8000 and lembda_Barium>4000):                #Checking whether Threshold wavelength of Barium lies in visible range or not\n",
      "    print\"Barium can be used for designing photocell\"\n",
      "\n",
      "\n",
      "if(lembda_Lithium<8000 and lembda_Lithium>4000):              #Checking whether Threshold wavelength of Lithium lies in visible range or not\n",
      "    print\"Lithium can be used for designing photocell\"\n",
      "\n"
     ],
     "language": "python",
     "metadata": {},
     "outputs": [
      {
       "output_type": "stream",
       "stream": "stdout",
       "text": [
        "Tantalum 2952 \u00c5\n",
        "Tungsten 2755 \u00c5\n",
        "Aluminium 2952 \u00c5\n",
        "Barium 4960 \u00c5\n",
        "Lithium 5391 \u00c5\n",
        "Barium can be used for designing photocell\n",
        "Lithium can be used for designing photocell\n"
       ]
      }
     ],
     "prompt_number": 15
    },
    {
     "cell_type": "heading",
     "level": 2,
     "metadata": {},
     "source": [
      "Example no:8,Page no:68"
     ]
    },
    {
     "cell_type": "code",
     "collapsed": false,
     "input": [
      "import math\n",
      "#Variable declaration\n",
      "lembda_c=0.024                                                                  #Compton wavelength of electron (\u00c5)\n",
      "lembda=1                                                                        #Wavelength of X-rays (\u00c5)\n",
      "Theta1=(60*math.pi)/180                                                             #angle (radian)\n",
      "Theta2=(90*math.pi)/180                                                             #angle (radian)\n",
      "Theta3=(180*math.pi)/180                                                            #angle (radian)\n",
      "ch=12400                                                                        #constant (eV \u00c5)\n",
      "\n",
      "#Calculation\n",
      "#(a) Compton shift\n",
      "shift1=lembda_c*(1-math.cos(Theta1))                                                 #Compton shift (\u00c5)\n",
      "shift2=lembda_c*(1-math.cos(Theta2))                                                 #Compton shift (\u00c5)\n",
      "shift3=lembda_c*(1-math.cos(Theta3))                                                 #Compton shift (\u00c5)\n",
      "#(b) Kinetic energy imparted to the recoil electron\n",
      "T1=(ch*shift1)/(lembda*(lembda+shift1))                                         #Kinetic energy imparted to the electron (eV)\n",
      "T2=(ch*shift2)/(lembda*(lembda+shift2))                                         #Kinetic energy imparted to the electron (eV)\n",
      "T3=(ch*shift3)/(lembda*(lembda+shift3))                                         #Kinetic energy imparted to the electron (eV)\n",
      "\n",
      "#Result\n",
      "print\"\\n(a) Compton shift:\\n\\t (i)\",shift1,\" \u00c5\\n\\t (ii)\",shift2,\" \u00c5\\n\\t (iii)\",shift3,\" \u00c5\\n\"\n",
      "print\"(b) Kinetic energy imparted to the recoil electron:\\n\\t (i)\",round(T1),\" eV\\n\\t (ii) %d\"%T2,\" eV\\n\\t (iii)\",round(T3),\" eV\"\n"
     ],
     "language": "python",
     "metadata": {},
     "outputs": [
      {
       "output_type": "stream",
       "stream": "stdout",
       "text": [
        "\n",
        "(a) Compton shift:\n",
        "\t (i) 0.012  \u00c5\n",
        "\t (ii) 0.024  \u00c5\n",
        "\t (iii) 0.048  \u00c5\n",
        "\n",
        "(b) Kinetic energy imparted to the recoil electron:\n",
        "\t (i) 147.0  eV\n",
        "\t (ii) 290  eV\n",
        "\t (iii) 568.0  eV\n"
       ]
      }
     ],
     "prompt_number": 16
    },
    {
     "cell_type": "heading",
     "level": 2,
     "metadata": {},
     "source": [
      "Example no:9,Page no:69"
     ]
    },
    {
     "cell_type": "code",
     "collapsed": false,
     "input": [
      "import math\n",
      "#Variable declaration\n",
      "lembda_c=0.024                                                                  #Compton wavelength of electron (\u00c5)\n",
      "Theta=(45*math.pi)/180                                                              #Scattering angle (radian)\n",
      "\n",
      "#Calculation \n",
      "lembda=lembda_c*(1-math.cos(Theta))                                                  #Wavelength of incident photon (\u00c5)\n",
      "\n",
      "#Result\n",
      "print\"\\n(a) Wavelength of incident photon = \",round(lembda,4),\" \u00c5 (gamma ray)\"\n",
      "print\"(b) Photon lies in the gamma ray spectrum\"\n"
     ],
     "language": "python",
     "metadata": {},
     "outputs": [
      {
       "output_type": "stream",
       "stream": "stdout",
       "text": [
        "\n",
        "(a) Wavelength of incident photon =  0.007  \u00c5 (gamma ray)\n",
        "(b) Photon lies in the gamma ray spectrum\n"
       ]
      }
     ],
     "prompt_number": 17
    },
    {
     "cell_type": "heading",
     "level": 2,
     "metadata": {},
     "source": [
      "Example no:10,Page no:69"
     ]
    },
    {
     "cell_type": "code",
     "collapsed": false,
     "input": [
      "#Variable declaration\n",
      "E=1                                      #Energy of photon (MeV)\n",
      "eta=0.25                                 #Relative change in photon's wavelength\n",
      "\n",
      "#Calculation\n",
      "T=(E*eta)/(1+eta)                       #Kinetic energy of recoil electron (MeV)\n",
      "\n",
      "#Result\n",
      "print\"\\nThe kinetic energy of recoil electron =\",T,\"MeV\"\n"
     ],
     "language": "python",
     "metadata": {},
     "outputs": [
      {
       "output_type": "stream",
       "stream": "stdout",
       "text": [
        "\n",
        "The kinetic energy of recoil electron = 0.2 MeV\n"
       ]
      }
     ],
     "prompt_number": 1
    },
    {
     "cell_type": "heading",
     "level": 2,
     "metadata": {},
     "source": [
      "Example no:11,Page no:69"
     ]
    },
    {
     "cell_type": "code",
     "collapsed": false,
     "input": [
      "import math\n",
      "#Variable declaration\n",
      "E=0.25                                         #Energy of photon (MeV)\n",
      "Theta=(120*math.pi)/180                        #Scattering angle of photon (radian)\n",
      "a=0.51                                         #Value of m0*c**2 (Mev)\n",
      "\n",
      "#Calculation \n",
      "E_das=E/(1+(E/a)*(1-math.cos(Theta)))          #Energy of the scattered photon (MeV)\n",
      "\n",
      "#Result\n",
      "print\"\\nEnergy of the scattered photon =\",round(E_das,3),\"Mev\"\n"
     ],
     "language": "python",
     "metadata": {},
     "outputs": [
      {
       "output_type": "stream",
       "stream": "stdout",
       "text": [
        "\n",
        "Energy of the scattered photon = 0.144 Mev\n"
       ]
      }
     ],
     "prompt_number": 18
    },
    {
     "cell_type": "heading",
     "level": 2,
     "metadata": {},
     "source": [
      "Example no:12,Page no:69"
     ]
    },
    {
     "cell_type": "code",
     "collapsed": false,
     "input": [
      "#Variable declaration\n",
      "p=1.02                                                 #momentum of the photon (MeV/c)\n",
      "p_dash=0.255                                           #momentum of the photon after scattering (MeV/c)\n",
      "a=0.51                                                 #Value of m0*c**2 (Mev)\n",
      "\n",
      "#Calculation\n",
      "Theta=2*math.degrees(math.asin(((0.5*a*(p-p_dash))/(p*p_dash))**(1.0/2.0)));   \n",
      "\n",
      "#Result\n",
      "print\"\\nAngle of the photon after scattering =\",Theta,\"degree\"\n"
     ],
     "language": "python",
     "metadata": {},
     "outputs": [
      {
       "output_type": "stream",
       "stream": "stdout",
       "text": [
        "\n",
        "Angle of the photon after scattering = 120.0 degree\n"
       ]
      }
     ],
     "prompt_number": 46
    },
    {
     "cell_type": "heading",
     "level": 2,
     "metadata": {},
     "source": [
      "Example no:13,Page no:70"
     ]
    },
    {
     "cell_type": "code",
     "collapsed": false,
     "input": [
      "#Variable declaration\n",
      "Theta=120                  #Scattering angle of photon (degree)\n",
      "T=0.45                    #Kinetic energy of electron (MeV)\n",
      "a=0.51                    #Value of m0*c**2 (Mev)\n",
      "import math\n",
      "\n",
      "#Calculation \n",
      "\n",
      "E=(T/2.0)*(1.0+math.sqrt(1.0+(2.0*a)/(T*((math.sin(math.radians(Theta/2.0)))**2))))  #Energy of the incident photon (MeV)                             \n",
      "\n",
      "\n",
      "#Result\n",
      "print\"\\nEnergy of the incident photon =%.3g\"%E,\"Mev\"\n"
     ],
     "language": "python",
     "metadata": {},
     "outputs": [
      {
       "output_type": "stream",
       "stream": "stdout",
       "text": [
        "\n",
        "Energy of the incident photon =0.676 Mev\n"
       ]
      }
     ],
     "prompt_number": 75
    },
    {
     "cell_type": "heading",
     "level": 2,
     "metadata": {},
     "source": [
      "Example no:14,Page no:74"
     ]
    },
    {
     "cell_type": "code",
     "collapsed": false,
     "input": [
      "#Variable declaration\n",
      "lembda0=2536*10**-10                    #wavelength of exciting line (meter)\n",
      "lembda=2612*10**-10                     #wavelength of Raman line (meter)\n",
      "\n",
      "#Calculation \n",
      "v0=1.0/lembda0                              #wave number of exciting line (1/meter)\n",
      "v=1.0/lembda                                #wave number of Raman line (1/meter)\n",
      "shift=v0-v                                #the Raman shift (1/meter)\n",
      "\n",
      "#Result\n",
      "print\"\\nThe Raman shift =\",shift,\"m-1\"\n",
      "print\"Note: v0 and v values in the book are VERY LESS PRECISE,Therefore an approximate answer\"\n"
     ],
     "language": "python",
     "metadata": {},
     "outputs": [
      {
       "output_type": "stream",
       "stream": "stdout",
       "text": [
        "\n",
        "The Raman shift = 114733.745248 m-1\n",
        "Note: v0 and v values in the book are VERY LESS PRECISE,Therefore an approximate answer\n"
       ]
      }
     ],
     "prompt_number": 80
    },
    {
     "cell_type": "heading",
     "level": 2,
     "metadata": {},
     "source": [
      "Example no:15,Page no:75"
     ]
    },
    {
     "cell_type": "code",
     "collapsed": false,
     "input": [
      "#Variable declaration\n",
      "lembda0=5000*10**-10                     #Wavelength of radiation (meter)\n",
      "lembda=5050.5*10**-10                    #Wavelength of Raman line (meter)\n",
      "\n",
      "#Calculation\n",
      "#(a) Raman frequency\n",
      "v0=1.0/lembda0                             #Wave number of radiation (1/meter)\n",
      "v=1.0/lembda                               #Wave number of Raman line (1/meter)\n",
      "shift=v0-v                               #Raman shift (1/meter)\n",
      "va=v0+shift                              #Frequency of antistoke's line (1/meter)\n",
      "#(b) Position of the antistokes' line\n",
      "lembdaa=(10.0**10.0)/va                        #Wavelength of antistoke's line (\u00c5)\n",
      "\n",
      "#Result\n",
      "print\"(a) Raman frequency =%.2e\"%va,\"m**-1\"\n",
      "print\"(b) Wavelength of antistoke`s line =%.1f\"%lembdaa,\"\u00c5 (APPROX)\"\n"
     ],
     "language": "python",
     "metadata": {},
     "outputs": [
      {
       "output_type": "stream",
       "stream": "stdout",
       "text": [
        "(a) Raman frequency =2.02e+06 m**-1\n",
        "(b) Wavelength of antistoke`s line =4950.5 \u00c5 (APPROX)\n"
       ]
      }
     ],
     "prompt_number": 86
    }
   ],
   "metadata": {}
  }
 ]
}