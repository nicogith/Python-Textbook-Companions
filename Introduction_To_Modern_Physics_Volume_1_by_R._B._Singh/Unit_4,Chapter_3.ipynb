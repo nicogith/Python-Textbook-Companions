{
 "metadata": {
  "name": ""
 },
 "nbformat": 3,
 "nbformat_minor": 0,
 "worksheets": [
  {
   "cells": [
    {
     "cell_type": "heading",
     "level": 1,
     "metadata": {},
     "source": [
      "Chapter 3:Atomic Spectra-III"
     ]
    },
    {
     "cell_type": "heading",
     "level": 2,
     "metadata": {},
     "source": [
      "Example no:4,Page no:485"
     ]
    },
    {
     "cell_type": "code",
     "collapsed": false,
     "input": [
      "#Variable declaration\n",
      "R=109729.0                                                                        #(cm-1)\n",
      "T1=43487.0                                                                        #(cm-1)\n",
      "T2=28583.0                                                                        #(cm-1)\n",
      "n=2.0\n",
      "\n",
      "#calculation\n",
      "import math\n",
      "delta=n-math.sqrt(R/T2)                                                              #quantum defect\n",
      "\n",
      "#Result\n",
      "print\"\\nquantum defect =\",round(delta,4)\n"
     ],
     "language": "python",
     "metadata": {},
     "outputs": [
      {
       "output_type": "stream",
       "stream": "stdout",
       "text": [
        "\n",
        "quantum defect = 0.0407\n"
       ]
      }
     ],
     "prompt_number": 15
    },
    {
     "cell_type": "heading",
     "level": 2,
     "metadata": {},
     "source": [
      "Example no:5,Page no:485"
     ]
    },
    {
     "cell_type": "code",
     "collapsed": false,
     "input": [
      "#Variable declaration\n",
      "R=109737                                                                        #(cm-1)\n",
      "n=1.805                                                                         #effective quantum number for the ground state of rubidium\n",
      "\n",
      "#calculation\n",
      "T=R/(8065*n**2)                                                                  #ionization potential of rubidium (eV)\n",
      "\n",
      "#Result\n",
      "print\"The ionization potential of rubidium =\",round(T,3),\"eV\"\n"
     ],
     "language": "python",
     "metadata": {},
     "outputs": [
      {
       "output_type": "stream",
       "stream": "stdout",
       "text": [
        "The ionization potential of rubidium = 4.176 eV\n"
       ]
      }
     ],
     "prompt_number": 43
    },
    {
     "cell_type": "heading",
     "level": 2,
     "metadata": {},
     "source": [
      "Example no:6,Page no:485"
     ]
    },
    {
     "cell_type": "code",
     "collapsed": false,
     "input": [
      "#Variable declaration\n",
      "ratio=2.5                                                                       #ratio of ionization potential of hydrogen and sodium\n",
      "n=3.0\n",
      "\n",
      "#calculation\n",
      "import math\n",
      "z=math.sqrt(n**2/ratio)                                                               #effective atomic number of sodium\n",
      "\n",
      "#Result\n",
      "print\"\\nEffective atomic number of sodium =\",round(z,2)\n"
     ],
     "language": "python",
     "metadata": {},
     "outputs": [
      {
       "output_type": "stream",
       "stream": "stdout",
       "text": [
        "\n",
        "Effective atomic number of sodium = 1.9\n"
       ]
      }
     ],
     "prompt_number": 44
    },
    {
     "cell_type": "heading",
     "level": 2,
     "metadata": {},
     "source": [
      "Example no:7,Page no:485"
     ]
    },
    {
     "cell_type": "code",
     "collapsed": false,
     "input": [
      "#Variable declaration\n",
      "hc=12400.0                                                                        #value of product of plank's constant and speed of light (eV \u00c5)\n",
      "E1=3.18                                                                         #separation of 4s and 3s level (eV)\n",
      "lembda=5890.0                                                                     #wavelength of the first member of principal series of sodium (\u00c5)\n",
      "\n",
      "#calculation\n",
      "E2=round(hc/lembda,1)                                                                    #separation of 3s and 3p levels (eV)\n",
      "deltaE=E1-E2                                                                    #separation of 4s and 3p level (eV)\n",
      "lembda1=hc/deltaE                                                               #wavelength of the first member of sharp series (\u00c5)\n",
      "\n",
      "#Result\n",
      "print\"\u03bb =%d\"%lembda1,\"\u00c5\" \n"
     ],
     "language": "python",
     "metadata": {},
     "outputs": [
      {
       "output_type": "stream",
       "stream": "stdout",
       "text": [
        "\u03bb =11481 \u00c5\n"
       ]
      }
     ],
     "prompt_number": 45
    },
    {
     "cell_type": "heading",
     "level": 2,
     "metadata": {},
     "source": [
      "Example no:8,Page no:486"
     ]
    },
    {
     "cell_type": "code",
     "collapsed": false,
     "input": [
      "#Variable declaration\n",
      "lembda1=5890*10**-10                                                             #wavelength of doublet (\u00c5)\n",
      "lembda2=5896*10**-10                                                             #wavelength of doublet (\u00c5)\n",
      "h=6.63*10**-34                                                                   #Plank's constant (Js)\n",
      "c=3*10**8                                                                        #speed of light (m/s)\n",
      "e=1.6*10**-19                                                                    #Charge of electron (coulombs)\n",
      "\n",
      "#calculation\n",
      "deltaV=(lembda2-lembda1)/(lembda1*lembda2)                                      #wave no. (m-1)\n",
      "deltaE=(h*c*deltaV)/e                                                           #separation of energy levels (eV)\n",
      "\n",
      "#Result\n",
      "print\"\u0394E =%.2e\"%deltaE,\"eV\"\n"
     ],
     "language": "python",
     "metadata": {},
     "outputs": [
      {
       "output_type": "stream",
       "stream": "stdout",
       "text": [
        "\u0394E =2.15e-03 eV\n"
       ]
      }
     ],
     "prompt_number": 46
    },
    {
     "cell_type": "heading",
     "level": 2,
     "metadata": {},
     "source": [
      "Example no:9,Page no:486"
     ]
    },
    {
     "cell_type": "code",
     "collapsed": false,
     "input": [
      "#Variable declaration\n",
      "deltaT=2.1*10**-3                                                                #(eV)\n",
      "lembda=5893*10**-8                                                               #(\u00c5)\n",
      "\n",
      "#calculation\n",
      "deltaV=deltaT*8065                                                              #(cm-1)\n",
      "deltalembda=deltaV*lembda**2                                                     #(cm)\n",
      "\n",
      "#Result\n",
      "print\"\u0394\u03bb =%.2e\"%deltalembda,\"cm\"\n"
     ],
     "language": "python",
     "metadata": {},
     "outputs": [
      {
       "output_type": "stream",
       "stream": "stdout",
       "text": [
        "\u0394\u03bb =5.88e-08 cm\n"
       ]
      }
     ],
     "prompt_number": 47
    },
    {
     "cell_type": "heading",
     "level": 2,
     "metadata": {},
     "source": [
      "Example no:10,Page no:486"
     ]
    },
    {
     "cell_type": "code",
     "collapsed": false,
     "input": [
      "#Variable declaration\n",
      "E1=16960.0                                                                        #mean position of the level (cm-1)\n",
      "E2=24490                                                                        #convergence limit of sharp series (cm-1)\n",
      "\n",
      "#calculation\n",
      "I=(E1+E2)/8065.0                                                                  #ionization energy of sodium atom (eV)\n",
      "\n",
      "#Result\n",
      "print\"I =\",round(I,4),\"eV\"\n"
     ],
     "language": "python",
     "metadata": {},
     "outputs": [
      {
       "output_type": "stream",
       "stream": "stdout",
       "text": [
        "I = 5.1395 eV\n"
       ]
      }
     ],
     "prompt_number": 48
    },
    {
     "cell_type": "heading",
     "level": 2,
     "metadata": {},
     "source": [
      "Example no:11,Page no:486"
     ]
    },
    {
     "cell_type": "code",
     "collapsed": false,
     "input": [
      "#Variable declaration\n",
      "E1=41450.0                                                                        #principal series for sodium atom (cm-1)\n",
      "E2=24477.0                                                                        #sharp series for sodium atom (cm-1)\n",
      "\n",
      "#calculation\n",
      "I=(E1)/8065.0                                                                  #ionization energy of sodium atom (eV)\n",
      "\n",
      "print\"\\nI =\",round(I,3),\"eV\" \n"
     ],
     "language": "python",
     "metadata": {},
     "outputs": [
      {
       "output_type": "stream",
       "stream": "stdout",
       "text": [
        "\n",
        "I = 5.139 eV\n"
       ]
      }
     ],
     "prompt_number": 49
    },
    {
     "cell_type": "heading",
     "level": 2,
     "metadata": {},
     "source": [
      "Example no:12,Page no:487"
     ]
    },
    {
     "cell_type": "code",
     "collapsed": false,
     "input": [
      "#Variable declaration\n",
      "E1=14904                                                                        #mean position of the level (cm-1)\n",
      "E2=28583                                                                        #convergence limit of sharp series (cm-1)\n",
      "\n",
      "#calculation\n",
      "I=(E1+E2)/8065.0                                                                  #ionization energy of Li atom (eV)\n",
      "\n",
      "#Result\n",
      "print\"I =\",round(I,2),\"eV\"\n"
     ],
     "language": "python",
     "metadata": {},
     "outputs": [
      {
       "output_type": "stream",
       "stream": "stdout",
       "text": [
        "I = 5.39 eV\n"
       ]
      }
     ],
     "prompt_number": 50
    },
    {
     "cell_type": "heading",
     "level": 2,
     "metadata": {},
     "source": [
      "Example no:13,Page no:487"
     ]
    },
    {
     "cell_type": "code",
     "collapsed": false,
     "input": [
      "#Variable declaration\n",
      "R=109734                                                                        #(cm-1)\n",
      "T=24477.0                                                                         #(cm-1)\n",
      "Zeff=1\n",
      "n=3\n",
      "\n",
      "#calculation\n",
      "import math\n",
      "delta=n-(Zeff*math.sqrt(R/T))                                                        #quantum defect for 3p configuration of sodium\n",
      "\n",
      "#Result\n",
      "print\"\\n\u0394 =\",round(delta ,3)\n"
     ],
     "language": "python",
     "metadata": {},
     "outputs": [
      {
       "output_type": "stream",
       "stream": "stdout",
       "text": [
        "\n",
        "\u0394 = 0.883\n"
       ]
      }
     ],
     "prompt_number": 51
    },
    {
     "cell_type": "heading",
     "level": 2,
     "metadata": {},
     "source": [
      "Example no:14,Page no:487"
     ]
    },
    {
     "cell_type": "code",
     "collapsed": false,
     "input": [
      "#Variable declaration\n",
      "z1=1.0                                                                            #atomic no.\n",
      "z2=2.0                                                                            #atomic no.\n",
      "deltaT2=5.84                                                                    #doublet splitting of the first excited state for z=2 (cm-1)\n",
      "\n",
      "#calculation\n",
      "deltaT1=deltaT2*(z1/z2)**4                                                       #separation in hydrogen atom (cm-1)\n",
      "\n",
      "#Result\n",
      "print\"Separation in hydrogen atom =\",deltaT1,\"cm**-1\"\n"
     ],
     "language": "python",
     "metadata": {},
     "outputs": [
      {
       "output_type": "stream",
       "stream": "stdout",
       "text": [
        "Separation in hydrogen atom = 0.365 cm**-1\n"
       ]
      }
     ],
     "prompt_number": 42
    }
   ],
   "metadata": {}
  }
 ]
}