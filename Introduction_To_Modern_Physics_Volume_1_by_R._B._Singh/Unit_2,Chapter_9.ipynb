{
 "metadata": {
  "name": ""
 },
 "nbformat": 3,
 "nbformat_minor": 0,
 "worksheets": [
  {
   "cells": [
    {
     "cell_type": "heading",
     "level": 1,
     "metadata": {},
     "source": [
      "Chapter 9:Particle in a Central Force Field"
     ]
    },
    {
     "cell_type": "heading",
     "level": 2,
     "metadata": {},
     "source": [
      "Exampleno:3,Page no:244"
     ]
    },
    {
     "cell_type": "code",
     "collapsed": false,
     "input": [
      "#Variable declaration\n",
      "a0=1\n",
      "r0=0 \n",
      "\n",
      "#Calculation\n",
      "from scipy.integrate import quad\n",
      "import math\n",
      "#calculation\n",
      "def f(r):\n",
      "    w_100=math.sqrt(1.0/(math.pi*a0**3))*math.exp(-r/a0)\n",
      "    return((w_100**2)*4*math.pi*(r**2))\n",
      "P=4*quad(f,r0,a0) \n",
      "\n",
      "#Result\n",
      "print\"\\n Probability =\",round(P[0] ,2)\n"
     ],
     "language": "python",
     "metadata": {},
     "outputs": [
      {
       "output_type": "stream",
       "stream": "stdout",
       "text": [
        "\n",
        " Probability = 0.32\n"
       ]
      }
     ],
     "prompt_number": 13
    }
   ],
   "metadata": {}
  }
 ]
}