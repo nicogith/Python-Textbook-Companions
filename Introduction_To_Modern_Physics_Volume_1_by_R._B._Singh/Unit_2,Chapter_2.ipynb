{
 "metadata": {
  "name": ""
 },
 "nbformat": 3,
 "nbformat_minor": 0,
 "worksheets": [
  {
   "cells": [
    {
     "cell_type": "heading",
     "level": 1,
     "metadata": {},
     "source": [
      "Chapter 2:Wave Nature of Material Particles"
     ]
    },
    {
     "cell_type": "heading",
     "level": 2,
     "metadata": {},
     "source": [
      "Example no:1,Page no:89"
     ]
    },
    {
     "cell_type": "code",
     "collapsed": false,
     "input": [
      "#Variable declaration\n",
      "m=9.1*10**-31                                                                    #mass of electron (kg)\n",
      "h=6.6*10**-34                                                                    #planck's constant (joule-second)\n",
      "e=1.6*10**-19                                                                    #charge of electron (coulomb)\n",
      "\n",
      "#Calculation\n",
      "from sympy import *\n",
      "V=Symbol('V')\n",
      "a=(h*10**10)/(2.0*m*e*V)**(1/2.0)                                                               #wavelength of electron = h/(2*m*e*v)**(1/2) (\u00c5)\n",
      "\n",
      "#Result\n",
      "print\"\\n Wavelength of electron accelerated through a potential difference V =\",a,\"\u00c5\"\n"
     ],
     "language": "python",
     "metadata": {},
     "outputs": [
      {
       "output_type": "stream",
       "stream": "stdout",
       "text": [
        "\n",
        " Wavelength of electron accelerated through a potential difference V = 12.2306137249082*V**(-0.5) \u00c5\n"
       ]
      }
     ],
     "prompt_number": 39
    },
    {
     "cell_type": "heading",
     "level": 2,
     "metadata": {},
     "source": [
      "Example no:3,Page no:90"
     ]
    },
    {
     "cell_type": "code",
     "collapsed": false,
     "input": [
      "#Variable declaration\n",
      "m_e=9.1*10**-31                                   #mass of electron (kg)\n",
      "m=100*10**-3                                      #mass of object (kg)\n",
      "v=1000                                            #velocity of electron and object (meter/second)\n",
      "h=6.63*10**-34                                    #planck's constant (joule-second)\n",
      "\n",
      "#Calculation\n",
      "#(i) de Broglie wavelength of electron\n",
      "lembda_e=h/(m_e*v)                                #de Broglie wavelength of electron\n",
      "#(ii) de Broglie wavelength of object\n",
      "lembda=h/(m*v)                                  #de Broglie wavelength of object\n",
      "\n",
      "#Result\n",
      "print\"\\n(i) de Broglie wavelength of electron =\",round(lembda_e*10**10),\"A\"\n",
      "print\"(ii) de Broglie wavelength of object =%.2e\"%lembda,\"m\"\n",
      "print\"Note: In the book the answer of part(ii) is wrong\"\n"
     ],
     "language": "python",
     "metadata": {},
     "outputs": [
      {
       "output_type": "stream",
       "stream": "stdout",
       "text": [
        "\n",
        "(i) de Broglie wavelength of electron = 7286.0 A\n",
        "(ii) de Broglie wavelength of object =6.63e-36 m\n",
        "Note: In the book the answer of part(ii) is wrong\n"
       ]
      }
     ],
     "prompt_number": 105
    },
    {
     "cell_type": "heading",
     "level": 2,
     "metadata": {},
     "source": [
      "Example no:4,Page no:90"
     ]
    },
    {
     "cell_type": "code",
     "collapsed": false,
     "input": [
      "#Variable declaration\n",
      "e=1.6*10**-19                               #charge of electron (coulomb)\n",
      "T=100*e                                     #kinetic energy (joule)\n",
      "m_e=9.1*10**-31                             #mass of electron (kg)\n",
      "m_p=1.67*10**-27                           #mass of proton (kg)\n",
      "m_alpha=4*m_p                              #mass of alpha particle (kg)\n",
      "h=6.63*10**-34                              #planck's constant (joule-second)\n",
      "\n",
      "#Calculation\n",
      "lembda_e=(h*10**10)/(2*m_e*T)**(1.0/2.0)                        #de Broglie wavelength of electron (\u00c5)\n",
      "lembda_p=(h*10**10)/(2*m_p*T)**(1.0/2.0)                        #de Broglie wavelength of proton (\u00c5)\n",
      "lembda_alpha=(h*10**10)/(2*m_alpha*T)**(1.0/2.0)                #de Broglie wavelength of alpha particle (\u00c5)\n",
      "\n",
      "#Result\n",
      "print\"De Broglie wavelength of electron =\",round(lembda_e,2),\"\u00c5\"\n",
      "print\"De Broglie wavelength of proton =\",round(lembda_p,3),\"\u00c5\"\n",
      "print\"De Broglie wavelength of alpha particle =\",round(lembda_alpha,3),\"\u00c5\"\n"
     ],
     "language": "python",
     "metadata": {},
     "outputs": [
      {
       "output_type": "stream",
       "stream": "stdout",
       "text": [
        "De Broglie wavelength of electron = 1.23 \u00c5\n",
        "De Broglie wavelength of proton = 0.029 \u00c5\n",
        "De Broglie wavelength of alpha particle = 0.014 \u00c5\n"
       ]
      }
     ],
     "prompt_number": 106
    },
    {
     "cell_type": "heading",
     "level": 2,
     "metadata": {},
     "source": [
      "Example no:5,Page no:90"
     ]
    },
    {
     "cell_type": "code",
     "collapsed": false,
     "input": [
      "#Variable declaration\n",
      "h=6.63*10**-34                                                                   #planck's constant (joule-second)\n",
      "m=9.1*10**-31                                                                    #mass of electron (kg)\n",
      "lembda=5896*10**-10                                                              #wavelength of yellow spectral line of sodium (meter)\n",
      "e=1.6*10**-19                                                                    #charge of electron (coulomb)\n",
      "\n",
      "#Calculation\n",
      "T_j=h**2/(2*m*lembda**2)                                                          #kinetic energy of the electron (joule)\n",
      "T_eV=T_j/e                                                                      #kinetic energy of the electron (eV)\n",
      "\n",
      "#Result\n",
      "print\"Kinetic energy of electron =%.2e\"%T_j,\"J =%.1e\"%T_eV,\"eV\"\n"
     ],
     "language": "python",
     "metadata": {},
     "outputs": [
      {
       "output_type": "stream",
       "stream": "stdout",
       "text": [
        "Kinetic energy of electron =6.95e-25 J =4.3e-06 eV\n"
       ]
      }
     ],
     "prompt_number": 107
    },
    {
     "cell_type": "heading",
     "level": 2,
     "metadata": {},
     "source": [
      "Example no:6,Page no:91"
     ]
    },
    {
     "cell_type": "code",
     "collapsed": false,
     "input": [
      "#Variable declaration\n",
      "h=6.63*10**-34                                                                   #planck's constant (joule-second)\n",
      "m_n=1.67*10**-27                                                                 #mass of neutron (kg)\n",
      "T=300                                                                           #Temperature (kelvin)\n",
      "k=1.38*10**-23                                                                   #Boltzmann constant (joule/kelvin)\n",
      "\n",
      "#Calculation\n",
      "E=(3*k*T)/2.0                                                                     #Kinetic energy of thermal neutron (joule)\n",
      "lembda=(h*10**10)/(2*m_n*E)**(1/2.0)                                                #Wavelength of thermal neutron (\u00c5)\n",
      "\n",
      "#Result\n",
      "print\"The wavelength of thermal neutron =%.3g\"%lembda,\"\u00c5\"\n"
     ],
     "language": "python",
     "metadata": {},
     "outputs": [
      {
       "output_type": "stream",
       "stream": "stdout",
       "text": [
        "The wavelength of thermal neutron =1.46 \u00c5\n"
       ]
      }
     ],
     "prompt_number": 108
    },
    {
     "cell_type": "heading",
     "level": 2,
     "metadata": {},
     "source": [
      "Example no:7,Page no:91"
     ]
    },
    {
     "cell_type": "code",
     "collapsed": false,
     "input": [
      "#Variable declaration\n",
      "h=6.63*10**-34                                                                   #planck's constant (joule-second)\n",
      "m_H2=2*1.67*10**-27                                                              #mass of hydrogen molecule (kg)\n",
      "T=27+273                                                                        #room temperature (kelvin)\n",
      "k=1.38*10**-23                                                                   #Boltzmann constant (joule/kelvin)\n",
      "\n",
      "#Calculation\n",
      "lembda=(h*10**10)/(2*m_H2*k*T)**(1/2.0)                                             #de Broglie wavelength of hydrogen molecule (\u00c5)\n",
      "\n",
      "#Result\n",
      "print\"The de Broglie wavelength of hydrogen molecules at their most probable speed =%.2f\"%lembda,\"\u00c5\"\n"
     ],
     "language": "python",
     "metadata": {},
     "outputs": [
      {
       "output_type": "stream",
       "stream": "stdout",
       "text": [
        "The de Broglie wavelength of hydrogen molecules at their most probable speed =1.26 \u00c5\n"
       ]
      }
     ],
     "prompt_number": 109
    },
    {
     "cell_type": "heading",
     "level": 2,
     "metadata": {},
     "source": [
      "Example no:8,Page no:91"
     ]
    },
    {
     "cell_type": "code",
     "collapsed": false,
     "input": [
      "#Variable declaration\n",
      "a=0.51                                           #Value of m0*c**2 (Mev)\n",
      "\n",
      "#Calculation\n",
      "import math\n",
      "T=a*(math.sqrt(2.0)-1)                             #Kinetic energy (MeV)\n",
      "\n",
      "print\"Kinetic energy of electron =\",round(T,2),\"MeV\"\n"
     ],
     "language": "python",
     "metadata": {},
     "outputs": [
      {
       "output_type": "stream",
       "stream": "stdout",
       "text": [
        "Kinetic energy of electron = 0.21 MeV\n"
       ]
      }
     ],
     "prompt_number": 110
    },
    {
     "cell_type": "heading",
     "level": 2,
     "metadata": {},
     "source": [
      "Example no:9,Page no:92"
     ]
    },
    {
     "cell_type": "code",
     "collapsed": false,
     "input": [
      "#Variable declaration\n",
      "a=0.51                                  #Value of m0*c**2 (MeV)\n",
      "b=0.0124                                #Value of h*c (MeV \u00c5)\n",
      "lembda_X=0.1                            #Short wavelength limit of continuous X-ray spectrum (\u00c5)\n",
      "\n",
      "#Calculation\n",
      "lembda=lembda_X/(1+(2*a*lembda_X)/b)**(1/2.0)        #de Broglie wavelength of relativistic electrons\n",
      "\n",
      "print\"De Broglie wavelength of relativistic electrons =\",round(lembda,3),\"\u00c5\"\n"
     ],
     "language": "python",
     "metadata": {},
     "outputs": [
      {
       "output_type": "stream",
       "stream": "stdout",
       "text": [
        "De Broglie wavelength of relativistic electrons = 0.033 \u00c5\n"
       ]
      }
     ],
     "prompt_number": 111
    },
    {
     "cell_type": "heading",
     "level": 2,
     "metadata": {},
     "source": [
      "Example no:10,Page no:92"
     ]
    },
    {
     "cell_type": "code",
     "collapsed": false,
     "input": [
      "#Variable declaration\n",
      "r=0.53                                                                          #Radius of the first Bohr orbit in hydrogen atom (\u00c5)\n",
      "\n",
      "#Calculation\n",
      "import math\n",
      "lembda=2*math.pi*r                                                                  #de Broglie wavelength of electron in first Bohr orbit in hydrogen atom\n",
      "\n",
      "#Result\n",
      "print\"\\nde Broglie wavelength of electron in first Bohr orbit in hydrogen atom =%.1f\"%lembda,\"\u00c5\"\n"
     ],
     "language": "python",
     "metadata": {},
     "outputs": [
      {
       "output_type": "stream",
       "stream": "stdout",
       "text": [
        "\n",
        "de Broglie wavelength of electron in first Bohr orbit in hydrogen atom =3.3 \u00c5\n"
       ]
      }
     ],
     "prompt_number": 112
    },
    {
     "cell_type": "heading",
     "level": 2,
     "metadata": {},
     "source": [
      "Example no:12,Page no:93"
     ]
    },
    {
     "cell_type": "code",
     "collapsed": false,
     "input": [
      "#Variable declaration\n",
      "v=10000                                                                         #speed of object (meter/second)\n",
      "accu_v=0.0001                                                                   #accuracy of speed of object\n",
      "m_b=0.05                                                                        #mass of the bullet (kg)\n",
      "h=1.054*10**-34                                                                  #planck's constant (joule-second)\n",
      "m_e=9.1*10**-31                                                                  #mass of electron (kg)\n",
      "\n",
      "#Calculation\n",
      "#(a) fundamental accuracy of position for bullet\n",
      "p_b=m_b*v                                                                       #momentum of bullet (kg m/s)\n",
      "p_uncer_b=p_b*accu_v                                                            #uncertainty in momentum of bullet (kg m/s)\n",
      "x_uncer_b=h/p_uncer_b                                                           #minimum uncertainty in position of bullet (meter)\n",
      "#(b) fundamental accuracy of position for electron\n",
      "p_e=m_e*v                                                                       #momentum of electron (kg m/s)\n",
      "p_uncer_e=p_e*accu_v                                                            #uncertainty in momentum of electron (kg m/s)\n",
      "x_uncer_e=h/p_uncer_e                                                           #uncertainty in position of electron (meter)\n",
      "\n",
      "print\"\\n(a) Minimum uncertainty in position of bullet =%.1e\"%x_uncer_b,\"meter\"\n",
      "print\"(b) uncertainty in position of electron =%.3g\"%x_uncer_e,\"meter\"\n",
      "\n",
      "print\"Note:The answers given in the book are wrong. \\nAlso in the solution they have used speed=1000 while in the question it is given to be equal to 10000.\"\n"
     ],
     "language": "python",
     "metadata": {},
     "outputs": [
      {
       "output_type": "stream",
       "stream": "stdout",
       "text": [
        "\n",
        "(a) Minimum uncertainty in position of bullet =2.1e-33 meter\n",
        "(b) uncertainty in position of electron =0.000116 meter\n",
        "Note:The answers given in the book are wrong. \n",
        "Also in the solution they have used speed=1000 while in the question it is given to be equal to 10000.\n"
       ]
      }
     ],
     "prompt_number": 113
    },
    {
     "cell_type": "heading",
     "level": 2,
     "metadata": {},
     "source": [
      "Example no:13,Page no:94"
     ]
    },
    {
     "cell_type": "code",
     "collapsed": false,
     "input": [
      "#Variable declaration\n",
      "h=1.054*10**-34                                                                  #planck's constant (joule-second)\n",
      "m=9.1*10**-31                                                                    #mass of electron (kg)\n",
      "x_uncer=1*10**-10                                                                #uncertainty in the position of elctrons (meter)\n",
      "e=1.6*10**-19                                                                    #charge of electron (coulomb)\n",
      "\n",
      "#Calculation\n",
      "#(i) uncertainty in the momentum of electron\n",
      "p_uncer=h/x_uncer                                                               #The uncertainty in the momentum of electron (kg m/s)\n",
      "#(ii) kinetic energy of electron\n",
      "T=p_uncer**2/(2*m*e)                                                             #kinetic energy of electron (eV)\n",
      "\n",
      "#Result\n",
      "print\"\\n(i) The uncertainty in the momentum of electron =\",p_uncer,\"kg m/s\"\n",
      "print\"(ii) Kinetic energy of electron =%.1f\"%T,\"eV\" \n",
      " \n"
     ],
     "language": "python",
     "metadata": {},
     "outputs": [
      {
       "output_type": "stream",
       "stream": "stdout",
       "text": [
        "\n",
        "(i) The uncertainty in the momentum of electron = 1.054e-24 kg m/s\n",
        "(ii) Kinetic energy of electron =3.8 eV\n"
       ]
      }
     ],
     "prompt_number": 114
    },
    {
     "cell_type": "heading",
     "level": 2,
     "metadata": {},
     "source": [
      "Example no:14,Page no:94"
     ]
    },
    {
     "cell_type": "code",
     "collapsed": false,
     "input": [
      "#Variable declaration\n",
      "h=1.054*10**-34                                                                  #planck's constant (joule-second)\n",
      "x=10**-14                                                                        #dimension of the nucleus (meter)\n",
      "c=3*10**8                                                                        #speed of light (meter/second)\n",
      "e=1.6*10**-19                                                                    #charge of electron (coulomb)\n",
      "\n",
      "#Calculation\n",
      "#(i) Uncertainty in the momentum of electron\n",
      "p_uncer=h/x                                                                     #The uncertainty in the momentum of electron (kg m/s)\n",
      "#(ii) kinetic energy of electron\n",
      "T=(p_uncer*c)/(e*10**6)                                                          #kinetic energy of electron (MeV)\n",
      "\n",
      "#Result\n",
      "print\"\\n(i) The uncertainty in the momentum of electron =\",p_uncer,\"kg m/s\"\n",
      "print\"(ii) Kinetic energy of electron =\",round(T),\" MeV\"\n"
     ],
     "language": "python",
     "metadata": {},
     "outputs": [
      {
       "output_type": "stream",
       "stream": "stdout",
       "text": [
        "\n",
        "(i) The uncertainty in the momentum of electron = 1.054e-20 kg m/s\n",
        "(ii) Kinetic energy of electron = 20.0  MeV\n"
       ]
      }
     ],
     "prompt_number": 115
    },
    {
     "cell_type": "heading",
     "level": 2,
     "metadata": {},
     "source": [
      "Example no:15,Page no:94"
     ]
    },
    {
     "cell_type": "code",
     "collapsed": false,
     "input": [
      "#Variable declaration\n",
      "h=1.054*10**-34                                                                  #planck's constant (joule-second)\n",
      "x=10**-14                                                                        #dimension of the nucleus (meter)\n",
      "e=1.6*10**-19                                                                    #charge of electron (coulomb)\n",
      "m=1.67*10**-27                                                                   #mass of proton (kg)\n",
      "\n",
      "#Calculation\n",
      "#(i) Uncertainty in the momentum of electron\n",
      "p_uncer=h/x                                                                     #The uncertainty in the momentum of electron (kg m/s)\n",
      "#(ii) kinetic energy of proton\n",
      "T=(p_uncer**2)/(2*m*e*10**6)                                                      #kinetic energy of proton (MeV)\n",
      "\n",
      "#Result\n",
      "print\"\\n(i) The uncertainty in the momentum of electron =\",p_uncer,\"kg m/s\"\n",
      "print\"(ii) Kinetic energy of proton =\",round(T,2),\"MeV  (approx)\"\n",
      "\n"
     ],
     "language": "python",
     "metadata": {},
     "outputs": [
      {
       "output_type": "stream",
       "stream": "stdout",
       "text": [
        "\n",
        "(i) The uncertainty in the momentum of electron = 1.054e-20 kg m/s\n",
        "(ii) Kinetic energy of proton = 0.21 MeV  (approx)\n"
       ]
      }
     ],
     "prompt_number": 116
    },
    {
     "cell_type": "heading",
     "level": 2,
     "metadata": {},
     "source": [
      "Example no:17,Page no:95"
     ]
    },
    {
     "cell_type": "code",
     "collapsed": false,
     "input": [
      "#Variable declaration\n",
      "h=1.054*10**-34                                                                  #planck's constant (joule-second)\n",
      "delta_t=10**-12                                                                  #time for which nucleus remains in excited state (second)\n",
      "\n",
      "#Calculation\n",
      "delta_E=h/delta_t                                                               #uncertainty in the energy of the gamma ray photon (joule)\n",
      "\n",
      "#Result\n",
      "print\"\\nThe uncertainty in the energy of the gamma ray photon =\",delta_E,\"J\" \n"
     ],
     "language": "python",
     "metadata": {},
     "outputs": [
      {
       "output_type": "stream",
       "stream": "stdout",
       "text": [
        "\n",
        "The uncertainty in the energy of the gamma ray photon = 1.054e-22 J\n"
       ]
      }
     ],
     "prompt_number": 117
    },
    {
     "cell_type": "heading",
     "level": 2,
     "metadata": {},
     "source": [
      "Example no:18,Page no:95"
     ]
    },
    {
     "cell_type": "code",
     "collapsed": false,
     "input": [
      "#Variable declaration\n",
      "delta_t=10**-8                                                                   #life-time of the average excited atom (second)\n",
      "\n",
      "#Calculation\n",
      "delta_f=1/delta_t                                                               #minimum uncertainty in the frequency of photon (radian/second)\n",
      "\n",
      "#Result\n",
      "print\"\\nminimum uncertainty in the frequency of photon =%.g\"%delta_f,\"rad/s\" \n"
     ],
     "language": "python",
     "metadata": {},
     "outputs": [
      {
       "output_type": "stream",
       "stream": "stdout",
       "text": [
        "\n",
        "minimum uncertainty in the frequency of photon =1e+08 rad/s\n"
       ]
      }
     ],
     "prompt_number": 118
    },
    {
     "cell_type": "heading",
     "level": 2,
     "metadata": {},
     "source": [
      "Example no:19,Page no:95"
     ]
    },
    {
     "cell_type": "code",
     "collapsed": false,
     "input": [
      "#Variable declaration\n",
      "h=1.054*10**-34                                                                  #planck's constant (joule-second)\n",
      "e=1.6*10**-19                                                                    #charge of electron (coulomb)\n",
      "m=9.1*10**-31                                                                    #mass of electron (kg)\n",
      "E0=8.8542*10**-12                                                                #permittivity of free space (C**2/N*m**2)\n",
      "\n",
      "#Calculation\n",
      "#(i) radius of ground state of hydrogen atom\n",
      "r=(4*math.pi*E0*h**2)/(m*e**2)                                                        #radius of ground state of hydrogen atom (meter)\n",
      "#(ii) Binding energy of electron in hydrogen atom in the ground state\n",
      "E=(-0.5*m*e**4)/(4*math.pi*E0*h)**2                                                   #binding energy of electron in hydrogen atom in the ground state (joule)\n",
      "\n",
      "#Result\n",
      "print\"\\n(i) Radius of ground state of hydrogen atom =%.1e\"%r,\"m (in scientific notation) OR 0.53*10**-10\"\n",
      "print\"(ii) Binding energy of electron in ground state of hydrogen atom =%.2e\"%E,\"J\"\n"
     ],
     "language": "python",
     "metadata": {},
     "outputs": [
      {
       "output_type": "stream",
       "stream": "stdout",
       "text": [
        "\n",
        "(i) Radius of ground state of hydrogen atom =5.3e-11 m (in scientific notation) OR 0.53*10**-10\n",
        "(ii) Binding energy of electron in ground state of hydrogen atom =-2.17e-18 J\n"
       ]
      }
     ],
     "prompt_number": 119
    }
   ],
   "metadata": {}
  }
 ]
}