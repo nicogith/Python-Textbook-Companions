{
 "metadata": {
  "name": ""
 },
 "nbformat": 3,
 "nbformat_minor": 0,
 "worksheets": [
  {
   "cells": [
    {
     "cell_type": "heading",
     "level": 1,
     "metadata": {},
     "source": [
      "Chapter 1:Atomic Spectra-I"
     ]
    },
    {
     "cell_type": "heading",
     "level": 2,
     "metadata": {},
     "source": [
      "Example no:1,Page no:405"
     ]
    },
    {
     "cell_type": "code",
     "collapsed": false,
     "input": [
      "#Variable declaration\n",
      "z=2                                                                             #atomic no. of He\n",
      "a0=0.529                                                                        #radius of first Bohr orbit of H atom (\u00c5)\n",
      "n=1                                                                             #no. of Bohr orbit\n",
      "A=2.19*10**6                                                                     #velocity of e in first Bohr orbit of H atom (m/s)\n",
      "B=4.14*10**15                                                                    #orbital frequency in the first Bohr orbit of H atom (rad/s)\n",
      "E0=13.6                                                                         #energy of electron in ground state of H atom (eV)\n",
      "n1=1 \n",
      "n2=2 \n",
      "R=1.097*10**7                                                                    #Rydberg constant (m-1)\n",
      "\n",
      "#Calculation\n",
      "#(i) radius of first Bohr orbit\n",
      "r=a0/2.0                                                                          #radius of first Bohr  orbit (\u00c5)\n",
      "#(ii) velocity of electron in the first orbit\n",
      "v=A*(z/n)                                                                       #velocity of electron in the first orbit (m/s)\n",
      "#(iii) orbital frequency in the first orbit\n",
      "omega=B*(z**2/n**3)                                                               #orbital frequency in the first orbit (rad/s)\n",
      "#(iv) kinetic and binding energy\n",
      "KE=E0*(z**2/n**2)                                                                 #kinetic energy of electron in the ground state (eV)\n",
      "BE=KE                                                                           #binding energy of electron in the ground state (eV)\n",
      "#(v) ionization potential and first excitation potential\n",
      "IP=KE                                                                           #ionization potential (eV)\n",
      "EE=E0*z**2*((1.0/n1**2)-(1.0/n2**2))                                                   #first excitation potential (eV)\n",
      "#(vi) wavelength of the resonance line emitted in the transition n=2 to n=1\n",
      "lembda=(1.0/(R*z**2*((1.0/n1**2)-(1.0/n2**2))))*10**10                                    #wavelength of the resonance line emitted in the transition n=2 to n=1 (\u00c5)\n",
      "\n",
      "#Result\n",
      "print\"\\n(i) radius =\",round(r,3),\"\u00c5\"\n",
      "print\"(ii) velocity =%.2e\"%v,\"m/s\"\n",
      "print\"(iii) orbital frequency =\",omega,\"rad/s\"\n",
      "print\"(iv) Kinetic energy =\",KE,\"eV    Binding energy =\",BE,\"eV\"\n",
      "print\"(v) Ionization potential =\",IP,\"eV    EE =\",EE,\"eV\"\n",
      "print\"(vi) wavelength =\",lembda,\"\u00c5\"\n"
     ],
     "language": "python",
     "metadata": {},
     "outputs": [
      {
       "output_type": "stream",
       "stream": "stdout",
       "text": [
        "\n",
        "(i) radius = 0.265 \u00c5\n",
        "(ii) velocity =4.38e+06 m/s\n",
        "(iii) orbital frequency = 1.656e+16 rad/s\n",
        "(iv) Kinetic energy = 54.4 eV    Binding energy = 54.4 eV\n",
        "(v) Ionization potential = 54.4 eV    EE = 40.8 eV\n",
        "(vi) wavelength = 303.85900942 \u00c5\n"
       ]
      }
     ],
     "prompt_number": 12
    },
    {
     "cell_type": "heading",
     "level": 2,
     "metadata": {},
     "source": [
      "Example no:2,Page no:406"
     ]
    },
    {
     "cell_type": "code",
     "collapsed": false,
     "input": [
      "#Variable declaration\n",
      "z=1                                                                             #atomic no. of H atom\n",
      "m=1.68*10**-27                                                                   #mass of H atom (kg)\n",
      "h=1.054*10**-34                                                                  #Planck's constant (joule second)\n",
      "R=10967800                                                                      #Rydberg constant (m-1)\n",
      "e=1.6*10**-19                                                                    #Charge of electron (coulombs)\n",
      "c=3*10**8                                                                        #speed of light (m/s)\n",
      "\n",
      "#Calculation\n",
      "import math\n",
      "#(i) recoil velocity\n",
      "v=(3*math.pi*h*R*z**2)/(2*m)                                                         #recoil velocity of H atom (m/s)\n",
      "#(ii) recoil kinetic energy\n",
      "Er=(9/8.0)*((math.pi*h*R*z**2)**2/(m*e))                                                #recoil kinetic energy of H atom (eV)\n",
      "#(iii) energy of emitted photon\n",
      "E=(1.5*math.pi*h*c*R*z**2)/e                                                         #energy of emitted photon (eV)\n",
      "\n",
      "#Result\n",
      "print\"(i) recoil velocity =\",round(v,2),\"m/s\"\n",
      "print\"(ii) recoil kinetic energy =%.1e\"%Er,\"eV\"\n",
      "print\"(iii) energy of emitted photon =\",round(E,2),\"eV\"\n"
     ],
     "language": "python",
     "metadata": {},
     "outputs": [
      {
       "output_type": "stream",
       "stream": "stdout",
       "text": [
        "(i) recoil velocity = 3.24 m/s\n",
        "(ii) recoil kinetic energy =5.5e-08 eV\n",
        "(iii) energy of emitted photon = 10.21 eV\n"
       ]
      }
     ],
     "prompt_number": 15
    },
    {
     "cell_type": "heading",
     "level": 2,
     "metadata": {},
     "source": [
      "Example no:3,Page no:407"
     ]
    },
    {
     "cell_type": "code",
     "collapsed": false,
     "input": [
      "#Variable declaration\n",
      "z=2                                                                             #atomic no. of He atom\n",
      "h=1.054*10**-34                                                                  #Planck's constant (joule second)\n",
      "R=10967800                                                                      #Rydberg constant (m-1)\n",
      "e=1.6*10**-19                                                                    #Charge of electron (coulombs)\n",
      "c=3*10**8                                                                        #speed of light (m/s)\n",
      "\n",
      "#calculation\n",
      "E=1.5*math.pi*h*c*R*z**2                                                             #The energy of the emitted photon (J)\n",
      "IE=2*math.pi*h*c*R                                                                  #Ionization energy of H atom (J)\n",
      "KE=(E-IE)/e                                                                     #Kinetic energy of the photoelectron (eV)\n",
      "\n",
      "#Result\n",
      "print\"\\nKinetic energy of photoelectron =\",round(KE,1),\"eV\"\n"
     ],
     "language": "python",
     "metadata": {},
     "outputs": [
      {
       "output_type": "stream",
       "stream": "stdout",
       "text": [
        "\n",
        "Kinetic energy of photoelectron = 27.2 eV\n"
       ]
      }
     ],
     "prompt_number": 16
    },
    {
     "cell_type": "heading",
     "level": 2,
     "metadata": {},
     "source": [
      "Example no:4,Page no:407"
     ]
    },
    {
     "cell_type": "code",
     "collapsed": false,
     "input": [
      "#Variable declaration\n",
      "ratio=4                                                                         #ratio of wavelengths\n",
      "z1=1                                                                            #atomic no. of hydrogen atom\n",
      "\n",
      "#calculation\n",
      "z2=math.sqrt(ratio*z1**2)                                                             #atomic no. of unknown element\n",
      "\n",
      "#Result\n",
      "print\"Atomic no. =\",z2,\"(helium)\"\n"
     ],
     "language": "python",
     "metadata": {},
     "outputs": [
      {
       "output_type": "stream",
       "stream": "stdout",
       "text": [
        "Atomic no. = 2.0 (helium)\n"
       ]
      }
     ],
     "prompt_number": 17
    },
    {
     "cell_type": "heading",
     "level": 2,
     "metadata": {},
     "source": [
      "Example no:5,Page no:407"
     ]
    },
    {
     "cell_type": "code",
     "collapsed": false,
     "input": [
      "#Variable declaration\n",
      "lembda1=108.5*10**-9                                                             #wavelength (m)\n",
      "lembda2=30.4*10**-9                                                              #wavelength (m)\n",
      "R=1.097*10**7                                                                    #Rydberg constant (m-1)\n",
      "z=2                                                                             #atomic no. of He\n",
      "n0=1                                                                            #ground state\n",
      "\n",
      "#calculation\n",
      "import math\n",
      "n=math.sqrt(1.0/((1.0/n0**2)-(((1.0/lembda1)+(1.0/lembda2))/(R*z**2))))                        #quantum no. corresponding to the excited state of He+\n",
      "\n",
      "#Result\n",
      "print\"n =\",round(n )\n"
     ],
     "language": "python",
     "metadata": {},
     "outputs": [
      {
       "output_type": "stream",
       "stream": "stdout",
       "text": [
        "n = 5.0\n"
       ]
      }
     ],
     "prompt_number": 18
    },
    {
     "cell_type": "heading",
     "level": 2,
     "metadata": {},
     "source": [
      "Example no:6,Page no:408"
     ]
    },
    {
     "cell_type": "code",
     "collapsed": false,
     "input": [
      "#Variable declaration\n",
      "z=2                                                                             #atomic no. of He+ ion\n",
      "lembda=133.7*10**-9                                                              #difference b/w the first lines of the Balmer and Lyman series (m)\n",
      "n1=1\n",
      "n2=2\n",
      "n3=3\n",
      "\n",
      "#calculation\n",
      "R=(1.0/(lembda*z**2))*((1.0/((1.0/n2**2)-(1.0/n3**2)))-(1.0/((1.0/n1**2)-(1.0/n2**2))))            #Rudberg constant (m-1)\n",
      "\n",
      "#Result\n",
      "print\"R =%.3e\"%R,\"m**-1\"\n"
     ],
     "language": "python",
     "metadata": {},
     "outputs": [
      {
       "output_type": "stream",
       "stream": "stdout",
       "text": [
        "R =1.097e+07 m**-1\n"
       ]
      }
     ],
     "prompt_number": 20
    },
    {
     "cell_type": "heading",
     "level": 2,
     "metadata": {},
     "source": [
      "Example no:7,Page no:409"
     ]
    },
    {
     "cell_type": "code",
     "collapsed": false,
     "input": [
      "#Variable declaration\n",
      "R=1.097*10**7                                                                    #Rydberg constant (m-1)\n",
      "lembda=59.3*10**-9                                                               #wavelength difference b/w first lines of Balmer and Lyman series (m)\n",
      "\n",
      "#calculation\n",
      "import math\n",
      "z=math.sqrt(88.0/(15.0*R*lembda))                                                        #atomic no.\n",
      "\n",
      "#Result\n",
      "print\"Z =\",round(z)\n"
     ],
     "language": "python",
     "metadata": {},
     "outputs": [
      {
       "output_type": "stream",
       "stream": "stdout",
       "text": [
        "Z = 3.0\n"
       ]
      }
     ],
     "prompt_number": 21
    },
    {
     "cell_type": "heading",
     "level": 2,
     "metadata": {},
     "source": [
      "Example no:8,Page no:409"
     ]
    },
    {
     "cell_type": "code",
     "collapsed": false,
     "input": [
      "#Variable declaration\n",
      "R=1.097*10**7                                                                    #Rydberg constant (m-1)\n",
      "ratio=1836                                                                      #ratio of maas of tritium and hydrogen\n",
      "\n",
      "#calculation\n",
      "lembda=(36*2*10**10)/(5*R*3*ratio)                                               #separation of the first line of the Balmer series (\u00c5)\n",
      "\n",
      "#Result\n",
      "print\"\u0394\u03bb =\",round(lembda,1),\"\u00c5\" \n"
     ],
     "language": "python",
     "metadata": {},
     "outputs": [
      {
       "output_type": "stream",
       "stream": "stdout",
       "text": [
        "\u0394\u03bb = 2.4 \u00c5\n"
       ]
      }
     ],
     "prompt_number": 22
    }
   ],
   "metadata": {}
  }
 ]
}