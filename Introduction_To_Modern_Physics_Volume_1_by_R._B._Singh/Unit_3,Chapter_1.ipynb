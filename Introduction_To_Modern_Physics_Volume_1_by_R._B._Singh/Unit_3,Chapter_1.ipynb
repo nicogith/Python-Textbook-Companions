{
 "metadata": {
  "name": ""
 },
 "nbformat": 3,
 "nbformat_minor": 0,
 "worksheets": [
  {
   "cells": [
    {
     "cell_type": "heading",
     "level": 1,
     "metadata": {},
     "source": [
      "Chapter 1:Preliminary Concepts "
     ]
    },
    {
     "cell_type": "heading",
     "level": 2,
     "metadata": {},
     "source": [
      "Example no:1,Page no:258"
     ]
    },
    {
     "cell_type": "code",
     "collapsed": false,
     "input": [
      "#Variable declaration\n",
      "N=2                                                          #no. of particles\n",
      "n1=2                                                         #occupation no. of particles\n",
      "g1=3                                                                           #degeneracy of particles\n",
      "\n",
      "#Calculation\n",
      "import math\n",
      "#(i) particles are distinguishable\n",
      "state1=(math.factorial(N)*g1**n1)/math.factorial(n1)                         #possible microstates of distinguishable particles\n",
      "#(ii) particles are indistinguishable bosons \n",
      "state2=math.factorial(n1+g1-1)/(math.factorial(n1)*math.factorial(g1-1))     #possible microstates of indistinguishable bosons\n",
      "#(iii) particles are indistinguishable fermions\n",
      "state3=math.factorial(g1)/(math.factorial(n1)*math.factorial(g1-n1))         #possible microstates of indistinguishable fermions\n",
      "\n",
      "#Result\n",
      "print\"\\n(i) \u03a9(distinguishable) =\",state1,\"\\n(ii) \u03a9(indistinguishable bosons) = \",state2,\"\\n(iii) \u03a9(indistinguishable fermions) =\",state3 \n"
     ],
     "language": "python",
     "metadata": {},
     "outputs": [
      {
       "output_type": "stream",
       "stream": "stdout",
       "text": [
        "\n",
        "(i) \u03a9(distinguishable) = 9 \n",
        "(ii) \u03a9(indistinguishable bosons) =  6 \n",
        "(iii) \u03a9(indistinguishable fermions) = 3\n"
       ]
      }
     ],
     "prompt_number": 3
    },
    {
     "cell_type": "heading",
     "level": 2,
     "metadata": {},
     "source": [
      "Example no:2,Page no:259"
     ]
    },
    {
     "cell_type": "code",
     "collapsed": false,
     "input": [
      "#Variable declaration\n",
      "N=4                                                                             #no. of particles\n",
      "A1=[2,0,0,2]                                                                    #possible macrostate\n",
      "A2=[1,1,1,1]                                                                    #possible macrostate\n",
      "A3=[0,3,0,1]                                                                    #possible macrostate\n",
      "A4=[1,0,3,0]                                                                    #possible macrostate\n",
      "A5=[0,2,2,0]                                                                    #possible macrostate\n",
      "g1=1                                                                            #degeneracy of particles\n",
      "g2=2                                                                            #degeneracy of particles\n",
      "g3=2                                                                            #degeneracy of particles\n",
      "g4=1                                                                            #degeneracy of particles\n",
      "\n",
      "import math\n",
      "#(i) particles are distinguishable\n",
      "print\"\\n(i)Possible macrostates are\\n \"\n",
      "print A1,A2,A3,A4,A5\n",
      "micro1=((math.factorial(N)*g1**A1[0]*g2**A1[1]*g3**A1[2]*g4**A1[3])/(math.factorial(A1[0])*math.factorial(A1[1])*math.factorial(A1[2])*math.factorial(A1[3])))      #The number of microstates\n",
      "micro2=((math.factorial(N)*g1**A2[0]*g2**A2[1]*g3**A2[2]*g4**A2[3])/(math.factorial(A2[0])*math.factorial(A2[1])*math.factorial(A2[2])*math.factorial(A2[3])))      #The number of microstates\n",
      "micro3=((math.factorial(N)*g1**A3[0]*g2**A3[1]*g3**A3[2]*g4**A3[3])/(math.factorial(A3[0])*math.factorial(A3[1])*math.factorial(A3[2])*math.factorial(A3[3])))      #The number of microstates\n",
      "micro4=((math.factorial(N)*g1**A4[0]*g2**A4[1]*g3**A4[2]*g4**A4[3])/(math.factorial(A4[0])*math.factorial(A4[1])*math.factorial(A4[2])*math.factorial(A4[3])))      #The number of microstates\n",
      "micro5=((math.factorial(N)*g1**A5[0]*g2**A5[1]*g3**A5[2]*g4**A5[3])/(math.factorial(A5[0])*math.factorial(A5[1])*math.factorial(A5[2])*math.factorial(A5[3])))      #The number of microstates\n",
      "\n",
      "print\"No. of macrostates is given by:\"\n",
      "print A1,\"=\",micro1,\"\\n\",A2,\"=\",micro2,\"\\n\",A3,\"=\",micro3,\"\\n\",A4,\"=\",micro4,\"\\n\",A5,\"=\",micro5,\"\\n\",\n",
      "\n",
      "print\"\\nMost probable macrostates are\\n \" \n",
      "if(micro1>=micro2 and micro1>=micro3 and micro1>=micro4 and micro1>=micro5) :\n",
      "    print A1 \n",
      " \n",
      "if(micro2>=micro1 and micro2>=micro3 and micro2>=micro4 and micro2>=micro5) :\n",
      "    print A2 \n",
      " \n",
      "if(micro3>=micro1 and micro3>=micro2 and micro3>=micro4 and micro3>=micro5) :\n",
      "    print A3 \n",
      " \n",
      "if(micro4>=micro1 and micro4>=micro2 and micro4>=micro3 and micro4>=micro5) :\n",
      "    print A4 \n",
      " \n",
      "if(micro5>=micro1 and micro5>=micro2 and micro5>=micro3 and micro5>=micro4) :\n",
      "    print A5 \n",
      " \n",
      "\n",
      "#(ii) particles are indistinguishable bosons\n",
      "print\"\\n(ii)Possible macrostates are\\n \" \n",
      "print A1,A3,A3,A4,A5\n",
      "micro1=(math.factorial(A1[0]+g1-1)*math.factorial(A1[1]+g2-1)*math.factorial(A1[2]+g3-1)*math.factorial(A1[3]+g4-1))/(math.factorial(A1[0])*math.factorial(A1[1])*math.factorial(A1[2])*math.factorial(A1[3])*math.factorial(g1-1)*math.factorial(g2-1)*math.factorial(g3-1)*math.factorial(g4-1)) \n",
      "micro2=(math.factorial(A2[0]+g1-1)*math.factorial(A2[1]+g2-1)*math.factorial(A2[2]+g3-1)*math.factorial(A2[3]+g4-1))/(math.factorial(A2[0])*math.factorial(A2[1])*math.factorial(A2[2])*math.factorial(A2[3])*math.factorial(g1-1)*math.factorial(g2-1)*math.factorial(g3-1)*math.factorial(g4-1)) \n",
      "micro3=(math.factorial(A3[0]+g1-1)*math.factorial(A3[1]+g2-1)*math.factorial(A3[2]+g3-1)*math.factorial(A3[3]+g4-1))/(math.factorial(A3[0])*math.factorial(A3[1])*math.factorial(A3[2])*math.factorial(A3[3])*math.factorial(g1-1)*math.factorial(g2-1)*math.factorial(g3-1)*math.factorial(g4-1)) \n",
      "micro4=(math.factorial(A4[0]+g1-1)*math.factorial(A4[1]+g2-1)*math.factorial(A4[2]+g3-1)*math.factorial(A4[3]+g4-1))/(math.factorial(A4[0])*math.factorial(A4[1])*math.factorial(A4[2])*math.factorial(A4[3])*math.factorial(g1-1)*math.factorial(g2-1)*math.factorial(g3-1)*math.factorial(g4-1)) \n",
      "micro5=(math.factorial(A5[0]+g1-1)*math.factorial(A5[1]+g2-1)*math.factorial(A5[2]+g3-1)*math.factorial(A5[3]+g4-1))/(math.factorial(A5[0])*math.factorial(A5[1])*math.factorial(A5[2])*math.factorial(A5[3])*math.factorial(g1-1)*math.factorial(g2-1)*math.factorial(g3-1)*math.factorial(g4-1)) \n",
      "\n",
      "print\"No. of macrostates is given by:\"\n",
      "print A1,\"=\",micro1,\"\\n\",A2,\"=\",micro2,\"\\n\",A3,\"=\",micro3,\"\\n\",A4,\"=\",micro4,\"\\n\",A5,\"=\",micro5,\"\\n\"\n",
      "\n",
      "print\"\\nMost probable macrostate is\\n \"\n",
      "if(micro1>=micro2 and micro1>=micro3 and micro1>=micro4 and micro1>=micro5) :\n",
      "    print A1\n",
      " \n",
      "if(micro2>=micro1 and micro2>=micro3 and micro2>=micro4 and micro2>=micro5) :\n",
      "    print A2 \n",
      " \n",
      "if(micro3>=micro1 and micro3>=micro2 and micro3>=micro4 and micro3>=micro5) :\n",
      "    print A3 \n",
      " \n",
      "if(micro4>=micro1 and micro4>=micro2 and micro4>=micro3 and micro4>=micro5) :\n",
      "    print A4 \n",
      " \n",
      "if(micro5>=micro1 and micro5>=micro2 and micro5>=micro3 and micro5>=micro4) :\n",
      "    print A5 \n",
      " \n",
      "\n",
      "#(iii) Particles are indistinguishable fermions\n",
      "print\"\\n(iii)Possible macrostates are\\n \"\n",
      "print A2,A5\n",
      "micro2=4/(math.factorial(A2[0])*math.factorial(A2[1])*math.factorial(A2[2])*math.factorial(A2[3])*math.factorial(g1-A2[0])*math.factorial(g2-A2[1])*math.factorial(g3-A2[2])*math.factorial(g4-A2[3])) \n",
      "micro5=4/(math.factorial(A5[0])*math.factorial(A5[1])*math.factorial(A5[2])*math.factorial(A5[3])*math.factorial(g1-A5[0])*math.factorial(g2-A5[1])*math.factorial(g3-A5[2])*math.factorial(g4-A5[3])) \n",
      "\n",
      "print\"No. of macrostates is given by:\"\n",
      "print A2,\"=\",micro2,\"\\n\",A5,\"=\",micro5,\"\\n\"\n",
      "\n",
      "print\"\\nMost probable macrostate is\\n \"\n",
      "if(micro2>=micro5) :\n",
      "    print A2\n",
      " \n",
      "if(micro5>=micro2) :\n",
      "    print A5 \n",
      " \n"
     ],
     "language": "python",
     "metadata": {},
     "outputs": [
      {
       "output_type": "stream",
       "stream": "stdout",
       "text": [
        "\n",
        "(i)Possible macrostates are\n",
        " \n",
        "[2, 0, 0, 2] [1, 1, 1, 1] [0, 3, 0, 1] [1, 0, 3, 0] [0, 2, 2, 0]\n",
        "No. of macrostates is given by:\n",
        "[2, 0, 0, 2] = 6 \n",
        "[1, 1, 1, 1] = 96 \n",
        "[0, 3, 0, 1] = 32 \n",
        "[1, 0, 3, 0] = 32 \n",
        "[0, 2, 2, 0] = 96 \n",
        "\n",
        "Most probable macrostates are\n",
        " \n",
        "[1, 1, 1, 1]\n",
        "[0, 2, 2, 0]\n",
        "\n",
        "(ii)Possible macrostates are\n",
        " \n",
        "[2, 0, 0, 2] [0, 3, 0, 1] [0, 3, 0, 1] [1, 0, 3, 0] [0, 2, 2, 0]\n",
        "No. of macrostates is given by:\n",
        "[2, 0, 0, 2] = 1 \n",
        "[1, 1, 1, 1] = 4 \n",
        "[0, 3, 0, 1] = 4 \n",
        "[1, 0, 3, 0] = 4 \n",
        "[0, 2, 2, 0] = 9 \n",
        "\n",
        "\n",
        "Most probable macrostate is\n",
        " \n",
        "[0, 2, 2, 0]\n",
        "\n",
        "(iii)Possible macrostates are\n",
        " \n",
        "[1, 1, 1, 1] [0, 2, 2, 0]\n",
        "No. of macrostates is given by:\n",
        "[1, 1, 1, 1] = 4 \n",
        "[0, 2, 2, 0] = 1 \n",
        "\n",
        "\n",
        "Most probable macrostate is\n",
        " \n",
        "[1, 1, 1, 1]\n"
       ]
      }
     ],
     "prompt_number": 10
    },
    {
     "cell_type": "heading",
     "level": 2,
     "metadata": {},
     "source": [
      "Example no:3,Page no:262"
     ]
    },
    {
     "cell_type": "code",
     "collapsed": false,
     "input": [
      "#vairable initialization\n",
      "N=4                                                                             #no. of particles\n",
      "A1=(4,0)                                                                        #possible macrostate\n",
      "A2=(3,1)                                                                        #possible macrostate\n",
      "A3=(2,2)                                                                        #possible macrostate\n",
      "A4=(1,3)                                                                        #possible macrostate\n",
      "A5=(0,4)                                                                        #possible macrostate\n",
      "import math\n",
      "#calculation\n",
      "print\"\\nPossible macrostates are\\n \"\n",
      "print A1,A2,A3,A4,A5\n",
      "micro1=math.factorial(N)/(math.factorial(A1[0])*math.factorial(A1[1]))                         #no. of microstate corresponding to macrostate1\n",
      "micro2=math.factorial(N)/(math.factorial(A2[0])*math.factorial(A2[1]))                         #no. of microstate corresponding to macrostate2\n",
      "micro3=math.factorial(N)/(math.factorial(A3[0])*math.factorial(A3[1]))                         #no. of microstate corresponding to macrostate3\n",
      "micro4=math.factorial(N)/(math.factorial(A4[0])*math.factorial(A4[1]))                        #no. of microstate corresponding to macrostate4\n",
      "micro5=math.factorial(N)/(math.factorial(A5[0])*math.factorial(A5[1]))                         #no. of microstate corresponding to macrostate5\n",
      "print\"No.of macrostates is:\"\n",
      "print A1,\"=\",micro1,\"\\n\",A2,\"=\",micro2,\"\\n\",A3,\"=\",micro3,\"\\n\",A4,\"=\",micro4,\"\\n\",A5,\"=\",micro5,\"\\n\"\n",
      "\n",
      "\n",
      "print\"\\nTotal no. of microstates are \",micro1+micro2+micro3+micro4+micro5\n",
      "print\"\\nMost probable macrostate is\\n \" \n",
      "if(micro1>=micro2 and micro1>=micro3 and micro1>=micro4 and micro1>=micro5) :\n",
      "    print A1\n",
      "if(micro2>=micro1 and micro2>=micro3 and micro2>=micro4 and micro2>=micro5) :\n",
      "    print A2\n",
      "if(micro3>=micro1 and micro3>=micro2 and micro3>=micro4 and micro3>=micro5):\n",
      "    print A3\n",
      "if(micro4>=micro1 and micro4>=micro2 and micro4>=micro3 and micro4>=micro5):\n",
      "    print A4\n",
      "if(micro5>=micro1 and micro5>=micro2 and micro5>=micro3 and micro5>=micro4):\n",
      "    print A5\n",
      "\n"
     ],
     "language": "python",
     "metadata": {},
     "outputs": [
      {
       "output_type": "stream",
       "stream": "stdout",
       "text": [
        "\n",
        "Possible macrostates are\n",
        " \n",
        "(4, 0) (3, 1) (2, 2) (1, 3) (0, 4)\n",
        "No.of macrostates is:\n",
        "(4, 0) = 1 \n",
        "(3, 1) = 4 \n",
        "(2, 2) = 6 \n",
        "(1, 3) = 4 \n",
        "(0, 4) = 1 \n",
        "\n",
        "\n",
        "Total no. of microstates are  16\n",
        "\n",
        "Most probable macrostate is\n",
        " \n",
        "(2, 2)\n"
       ]
      }
     ],
     "prompt_number": 13
    },
    {
     "cell_type": "heading",
     "level": 2,
     "metadata": {},
     "source": [
      "Example no:4,Page no:263"
     ]
    },
    {
     "cell_type": "code",
     "collapsed": false,
     "input": [
      "#Variable declaration\n",
      "N=4                                                                             #no. of particles\n",
      "A1=(1,0,1,2)                                                                    #possible macrostate\n",
      "A2=(0,2,0,2)                                                                    #possible macrostate\n",
      "A3=(0,1,2,1)                                                                    #possible macrostate\n",
      "A4=(0,0,4,0)                                                                    #possible macrostate\n",
      "\n",
      "#calculation\n",
      "print\"\\nPossible macrostates are\\n \"\n",
      "print A1,A2,A3,A4\n",
      "micro1=math.factorial(N)/(math.factorial(A1[0])*math.factorial(A1[1])*math.factorial(A1[2])*math.factorial(A1[3]))                         #no. of microstate corresponding to macrostate1\n",
      "micro2=math.factorial(N)/(math.factorial(A2[0])*math.factorial(A2[1])*math.factorial(A2[2])*math.factorial(A2[3]))                         #no. of microstate corresponding to macrostate2\n",
      "micro3=math.factorial(N)/(math.factorial(A3[0])*math.factorial(A3[1])*math.factorial(A3[2])*math.factorial(A3[3]))                         #no. of microstate corresponding to macrostate3\n",
      "micro4=math.factorial(N)/(math.factorial(A4[0])*math.factorial(A4[1])*math.factorial(A4[2])*math.factorial(A4[3]))                         #no. of microstate corresponding to macrostate4\n",
      "print\"\\nThe number of microstates belonging to the above macrostates is:\"\n",
      "print A1,\"=\",micro1,\"\\n\",A2,\"=\",micro2,\"\\n\",A3,\"=\",micro3,\"\\n\",A4,\"=\",micro4,\"\\n\""
     ],
     "language": "python",
     "metadata": {},
     "outputs": [
      {
       "output_type": "stream",
       "stream": "stdout",
       "text": [
        "\n",
        "Possible macrostates are\n",
        " \n",
        "(1, 0, 1, 2) (0, 2, 0, 2) (0, 1, 2, 1) (0, 0, 4, 0)\n",
        "\n",
        "The number of microstates belonging to the above macrostates is:\n",
        "(1, 0, 1, 2) = 12 \n",
        "(0, 2, 0, 2) = 6 \n",
        "(0, 1, 2, 1) = 12 \n",
        "(0, 0, 4, 0) = 1 \n",
        "\n"
       ]
      }
     ],
     "prompt_number": 17
    },
    {
     "cell_type": "heading",
     "level": 2,
     "metadata": {},
     "source": [
      "Example no:5,Page no:264"
     ]
    },
    {
     "cell_type": "code",
     "collapsed": false,
     "input": [
      "def p(A):                                                      #function to calculate probability\n",
      "    probability=1 \n",
      "    i=0\n",
      "    for i in range(0,7):\n",
      "        probability=probability*(math.factorial(A[i]+2))/(2*math.factorial(A[i])) \n",
      "    return(probability)\n",
      "#Variable declaration\n",
      "A1=(5,0,0,0,0,0,1)                         #possible macrostate\n",
      "A2=(4,1,0,0,0,1,0)                         #possible macrostate\n",
      "A3=(4,0,1,0,1,0,0)                         #possible macrostate\n",
      "A4=(3,2,0,0,1,0,0)                         #possible macrostate\n",
      "A5=(4,0,0,2,0,0,0)                         #possible macrostate\n",
      "A6=(3,1,1,1,0,0,0)                         #possible macrostate\n",
      "A7=(2,3,0,1,0,0,0)                         #possible macrostate\n",
      "A8=(3,0,3,0,0,0,0)                         #possible macrostate\n",
      "A9=(2,2,2,0,0,0,0)                         #possible macrostate\n",
      "A10=(1,4,1,0,0,0,0)                        #possible macrostate\n",
      "A11=(0,6,0,0,0,0,0)                        #possible macrostate\n",
      "\n",
      "#calculation\n",
      "p1=p(A1)                                   #Thermodynamic probability of macrostate 1\n",
      "p2=p(A2)                                   #Thermodynamic probability of macrostate 2\n",
      "p3=p(A3)                                   #Thermodynamic probability of macrostate 3\n",
      "p4=p(A4)                                   #Thermodynamic probability of macrostate 4\n",
      "p5=p(A5)                                   #Thermodynamic probability of macrostate 5\n",
      "p6=p(A6)                                   #Thermodynamic probability of macrostate 6\n",
      "p7=p(A7)                                   #Thermodynamic probability of macrostate 7\n",
      "p8=p(A8)                                   #Thermodynamic probability of macrostate 8\n",
      "p9=p(A9)                                   #Thermodynamic probability of macrostate 9\n",
      "p10=p(A10)                                 #Thermodynamic probability of macrostate 10\n",
      "p11=p(A11)                                 #Thermodynamic probability of macrostate 11\n",
      "\n",
      "print\"\\nP1 =\",p1,\"P2 =\",p2,\"P3 =\",p3,\"P4 =\",p4,\"P5 =\",p5,\"P6 =\",p6,\"P7 =\",p7,\"P8 =\",p8,\"P9 =\",p9,\"P10 =\",p10,\"P11 =\",p11\n",
      "print\"\\nThermodyanmic probability of the system = \",p1+p2+p3+p4+p5+p6+p7+p8+p9+p10+p11\n"
     ],
     "language": "python",
     "metadata": {},
     "outputs": [
      {
       "output_type": "stream",
       "stream": "stdout",
       "text": [
        "\n",
        "P1 = 63 P2 = 135 P3 = 135 P4 = 180 P5 = 90 P6 = 270 P7 = 180 P8 = 100 P9 = 216 P10 = 135 P11 = 28\n",
        "\n",
        "Thermodyanmic probability of the system =  1532\n"
       ]
      }
     ],
     "prompt_number": 22
    },
    {
     "cell_type": "heading",
     "level": 2,
     "metadata": {},
     "source": [
      "Example no:6,Page no:265"
     ]
    },
    {
     "cell_type": "code",
     "collapsed": false,
     "input": [
      "import math\n",
      "def p(A):                                                            #function to calculate no. of microstates\n",
      "    micro=1 \n",
      "    i=1\n",
      "    for i in range(0,5):\n",
      "        micro=micro*(6/(math.factorial(A[i])*math.factorial(3-A[i]))) \n",
      "    return(micro)\n",
      "#Variable declaration\n",
      "A1=(3,2,0,0,1)                                     #possible macrostate\n",
      "A2=(3,1,1,1,0)                                     #possible macrostate\n",
      "A3=(2,3,0,1,0)                                     #possible macrostate\n",
      "A4=(3,0,3,0,0)                                     #possible macrostate\n",
      "A5=(2,2,2,0,0)                                     #possible macrostate\n",
      "\n",
      "#calculation\n",
      "p1=p(A1)                                           #no. of microstates\n",
      "p2=p(A2)                                           #no. of microstates\n",
      "p3=p(A3)                                           #no. of microstates\n",
      "p4=p(A4)                                           #no. of microstates\n",
      "p5=p(A5)                                           #no. of microstates\n",
      "\n",
      "print\"No.of microstates associated with macrostates are :\"\n",
      "print A1,\"=\",p1,\"\\n\",A2,\"=\",p2,\"\\n\",A3,\"=\",p3,\"\\n\",A4,\"=\",p4,\"\\n\",A5,\"=\",p5,\"\\n\"\n",
      "print\"\\nThe thermodynamic probability of the system = \",(p1+p2+p3+p4+p5)\n"
     ],
     "language": "python",
     "metadata": {},
     "outputs": [
      {
       "output_type": "stream",
       "stream": "stdout",
       "text": [
        "No.of microstates associated with macrostates are :\n",
        "(3, 2, 0, 0, 1) = 9 \n",
        "(3, 1, 1, 1, 0) = 27 \n",
        "(2, 3, 0, 1, 0) = 9 \n",
        "(3, 0, 3, 0, 0) = 1 \n",
        "(2, 2, 2, 0, 0) = 27 \n",
        "\n",
        "\n",
        "The thermodynamic probability of the system =  73\n"
       ]
      }
     ],
     "prompt_number": 27
    }
   ],
   "metadata": {}
  }
 ]
}