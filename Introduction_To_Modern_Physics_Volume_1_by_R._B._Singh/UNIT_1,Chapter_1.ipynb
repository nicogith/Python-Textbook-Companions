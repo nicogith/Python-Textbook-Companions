{
 "metadata": {
  "name": ""
 },
 "nbformat": 3,
 "nbformat_minor": 0,
 "worksheets": [
  {
   "cells": [
    {
     "cell_type": "heading",
     "level": 1,
     "metadata": {},
     "source": [
      "Chapter 1:The special theory of relativity"
     ]
    },
    {
     "cell_type": "heading",
     "level": 2,
     "metadata": {},
     "source": [
      "Example no:3,Page no:32"
     ]
    },
    {
     "cell_type": "code",
     "collapsed": false,
     "input": [
      "#variable declaration\n",
      "x=50.0\n",
      "y=20.0\n",
      "z=10.0                            #x,y,z cordinates in meters(frame s)\n",
      "t=5.0*10**(-8)                              #time in seconds(frame s)\n",
      "velocity=0.6*3*10**8                      #velocity of observer in s' frame relative to s in meter/second\n",
      "c=3.0*10.0**8                                 #speed of light in meter/second\n",
      "Beta=0.6 \n",
      "Gamma=1.0/((1.0-Beta**2)**(1.0/2.0)) \n",
      "\n",
      "#Calculation \n",
      "xdash=Gamma*(x-(velocity*t))              #value of x cordinate in frame s' in meters\n",
      "ydash=y                                   #value of y cordinate in frame s' in meters\n",
      "zdash=z                                   #value of z cordinate in frame s' in meters\n",
      "tdash=Gamma*(t-((velocity*x)/(c**2)))      #value of t in frame s' in seconds\n",
      "\n",
      "#Result\n",
      "print\"\\nValue of space time cordinates in frame s`:\\n\\t x`=\",xdash,\" m\\n\\t y`=\",ydash,\"m\\n\\t z`=\",zdash,\"m\\n\\t t`=\",tdash,\"s\"\n"
     ],
     "language": "python",
     "metadata": {},
     "outputs": [
      {
       "output_type": "stream",
       "stream": "stdout",
       "text": [
        "\n",
        "Value of space time cordinates in frame s`:\n",
        "\t x`= 51.25  m\n",
        "\t y`= 20.0 m\n",
        "\t z`= 10.0 m\n",
        "\t t`= -6.25e-08 s\n"
       ]
      }
     ],
     "prompt_number": 9
    },
    {
     "cell_type": "heading",
     "level": 2,
     "metadata": {},
     "source": [
      "Example no:4,Page no:32"
     ]
    },
    {
     "cell_type": "code",
     "collapsed": false,
     "input": [
      "#variable declaration\n",
      "x1=20.0                                         #position of event 1 in meters(frame s)\n",
      "t1=2.0*10**(-8)                                 #time of event 1 in seconds(frame s)\n",
      "x2=60.0                                        #position of event 2 in meters(frame s)\n",
      "t2=3.0*10**(-8)                                 #time of event 2 in seconds(frame s)\n",
      "c=3.0*10**8                                    #speed of light in meter/second\n",
      "v=0.6*c                                     #speed of frame s' relative to frame s (meter/second)\n",
      "Beta=0.6\n",
      "Gamma=1.0/((1.0-Beta**2.0)**(1.0/2.0)) \n",
      "\n",
      "#Calculation\n",
      "#part(i)\n",
      "separation=Gamma*((x2-x1)-v*(t2-t1))        #spatial separation of the events in frame s' (meter)\n",
      "#part(ii)\n",
      "interval=Gamma*((t2-t1)-(v*(x2-x1))/(c**2))  #time interval between the two events in frame s' (second)\n",
      "\n",
      "#Result\n",
      "print\"\\nIn frame s`:\\n\\t (i)spatial separation=\",separation,\"m\\n\\t (ii)time interval=\",interval,\"s\"\n"
     ],
     "language": "python",
     "metadata": {},
     "outputs": [
      {
       "output_type": "stream",
       "stream": "stdout",
       "text": [
        "\n",
        "In frame s`:\n",
        "\t (i)spatial separation= 47.75 m\n",
        "\t (ii)time interval= -8.75e-08 s\n"
       ]
      }
     ],
     "prompt_number": 10
    },
    {
     "cell_type": "heading",
     "level": 2,
     "metadata": {},
     "source": [
      "Example no:5,Page no:33"
     ]
    },
    {
     "cell_type": "code",
     "collapsed": false,
     "input": [
      "#variable declaration\n",
      "x1=24.0                                         #position of event 1 in meters(frame s)\n",
      "t1=8.0*10**(-8)                                  #time of event 1 in seconds(frame s)\n",
      "x2=48.0                                         #position of event 2 in meters(frame s)\n",
      "t2=4.0*10**(-8)                                  #time of event 2 in seconds(frame s)\n",
      "c=3.0*10**8                                      #speed of light in meter/second\n",
      "\n",
      "#calculation \n",
      "v=((c**2)*(t2-t1))/(x2-x1)                     #velocity of the frame s' (meter/second)\n",
      "\n",
      "#Result\n",
      "print\"\\nvelocity of the frame s` =\",v/(3*10**8),\"c\"\n"
     ],
     "language": "python",
     "metadata": {},
     "outputs": [
      {
       "output_type": "stream",
       "stream": "stdout",
       "text": [
        "\n",
        "velocity of the frame s` = -0.5 c\n"
       ]
      }
     ],
     "prompt_number": 11
    },
    {
     "cell_type": "heading",
     "level": 2,
     "metadata": {},
     "source": [
      "Example no:6,Page no:33"
     ]
    },
    {
     "cell_type": "code",
     "collapsed": false,
     "input": [
      "import numpy\n",
      "#variable declaration\n",
      "interval_s=1.0                                              #time difference between two events in frame s (second)\n",
      "interval_sdash=4.0                                          #time difference between two events in frame s' (second)\n",
      "separation_s=0.0                                           #spatial separation of two events in frame s (meter)\n",
      "c=3.0*10**8                                                 #speed of light (meter/second)\n",
      "v=numpy.random.rand()                                                   #assign a random value to unknown velocity(meter/second)\n",
      "import math\n",
      "#calculation \n",
      "Gamma=interval_sdash/(interval_s-(v*(separation_s))/(c**2))  #calculating gamma\n",
      "separation=-2.0*(((Gamma**2.0)-1)**(1.0/2.0))*c                      #spatial separation in s' (meter)\n",
      "\n",
      "#Result\n",
      "print\"\\nspatial separation of the events in frame s` =\",separation/(3*10**8*math.sqrt(15)),\"c sqrt(15)\"\n"
     ],
     "language": "python",
     "metadata": {},
     "outputs": [
      {
       "output_type": "stream",
       "stream": "stdout",
       "text": [
        "\n",
        "spatial separation of the events in frame s` = -2.0 c sqrt(15)\n"
       ]
      }
     ],
     "prompt_number": 26
    },
    {
     "cell_type": "heading",
     "level": 2,
     "metadata": {},
     "source": [
      "Example no:7,Page no:33"
     ]
    },
    {
     "cell_type": "code",
     "collapsed": false,
     "input": [
      "import numpy\n",
      "#variable declaration\n",
      "interval_s=0.0                                                   #time difference between two events in frame s (second)\n",
      "separation_s=1.0                                                 #spatial separation of two events in frame s (meter)\n",
      "separation_sdash=2.0                                             #spatial separation of two events in frame s' (meter)\n",
      "c=3*10**8                                                       #speed of light (meter/second)\n",
      "v=numpy.random.rand()                                                       #assign a random value to unknown velocity of frame s' with respect to frame s (meter/second)\n",
      "\n",
      "#calculation \n",
      "Gamma=separation_sdash/(separation_s-(v*interval_s))           #calculating value of Gamma\n",
      "Beta=(1-1/(Gamma**2))**(1/2)                                     #calculating value of Beta\n",
      "v=Beta*c                                                       #velocity of s' with respect to s (meter/second)\n",
      "interval_sdash=Gamma*(interval_s-((v*separation_s)/(c**2)))     #time interval between the events in frame s' (second)\n",
      "\n",
      "#Result\n",
      "print\"\\nThe time interval between the events in frame s` =\",interval_sdash/(3*10**8),\"X0\" \n"
     ],
     "language": "python",
     "metadata": {},
     "outputs": [
      {
       "output_type": "stream",
       "stream": "stdout",
       "text": [
        "\n",
        "The time interval between the events in frame s` = -2.22222222222e-17 X0\n"
       ]
      }
     ],
     "prompt_number": 25
    },
    {
     "cell_type": "heading",
     "level": 2,
     "metadata": {},
     "source": [
      "Example no:8,Page no:34"
     ]
    },
    {
     "cell_type": "code",
     "collapsed": false,
     "input": [
      "#variable declaration\n",
      "IbyI_not=.99                       #ratio of moving length and rest length\n",
      "c=3*10**8                           #speed of light (meter/second)\n",
      "\n",
      "#calculation\n",
      "Beta=(1-IbyI_not**2)**(1/2.0)          #calculating value of Beta\n",
      "v=Beta*c                           #velocity of rocket ship (meter/second)\n",
      "\n",
      "#Result\n",
      "print\"\\nThe velocity of the rocket ship = %.2e\"%(v/(3*10**8)),\"c\"\n"
     ],
     "language": "python",
     "metadata": {},
     "outputs": [
      {
       "output_type": "stream",
       "stream": "stdout",
       "text": [
        "\n",
        "The velocity of the rocket ship = 1.41e-01 c\n"
       ]
      }
     ],
     "prompt_number": 20
    },
    {
     "cell_type": "heading",
     "level": 2,
     "metadata": {},
     "source": [
      "Example no:9,Page no:34"
     ]
    },
    {
     "cell_type": "code",
     "collapsed": false,
     "input": [
      "#variable declaration\n",
      "l_dash=1.0                                    #length of the rod in frame s' (meter)\n",
      "Theta_dash_degree=45.0                        #angle of the rod with x-axis in frame s' (degree)\n",
      "Beta=1/2.0                                    #value of Beta\n",
      "import math\n",
      "\n",
      "#calculation \n",
      "Theta_dash_radian=Theta_dash_degree*(math.pi/180.0)                                           #conversion of angle Theta in radian from degree (radian)\n",
      "l=((l_dash**2)*((math.sin(Theta_dash_radian))**2+((1-(Beta**2))*((math.cos(Theta_dash_radian))**2))))**(1.0/2.0)           #length of the rod in frame s (meter)\n",
      "tan_theta=math.tan(Theta_dash_radian)/((1.0-Beta**2)**(1.0/2.0))                              #tan of angle of rod with x-axis in frame s\n",
      "theta=math.atan(tan_theta)                                                      #angle of rod with x-axis in frame s (degree)\n",
      "\n",
      "#Result\n",
      "print\"\\nThe length of the rod =\",round(l,2),\"m\\nInclination of rod with x-axis =\",round(math.degrees(theta)),\" degree\" \n"
     ],
     "language": "python",
     "metadata": {},
     "outputs": [
      {
       "output_type": "stream",
       "stream": "stdout",
       "text": [
        "\n",
        "The length of the rod = 0.94 m\n",
        "Inclination of rod with x-axis = 49.0  degree\n"
       ]
      }
     ],
     "prompt_number": 89
    },
    {
     "cell_type": "heading",
     "level": 2,
     "metadata": {},
     "source": [
      "Example no:10,Page no:34"
     ]
    },
    {
     "cell_type": "code",
     "collapsed": false,
     "input": [
      "#variable declaration\n",
      "c=3*10**8                                   #speed of light (meter/second)\n",
      "\n",
      "#calculation \n",
      "Beta=(1-((1/1.25)**2))**(1.0/2.0)                  #calculating Beta (1.25 comes from the fact that in frame s' density of bloc is 25% greater than frame s)\n",
      "v=Beta*c                                     #velocity of the reference frame s'\n",
      "\n",
      "#Result\n",
      "print\"\\nBeta =\",Beta\n",
      "print\"NOTE solved in book:\\nThe velocity of the frame s` = %.1e\"%v,\" m/s\" \n"
     ],
     "language": "python",
     "metadata": {},
     "outputs": [
      {
       "output_type": "stream",
       "stream": "stdout",
       "text": [
        "\n",
        "Beta = 0.6\n",
        "NOTE solved in book:\n",
        "The velocity of the frame s` = 1.8e+08  m/s\n"
       ]
      }
     ],
     "prompt_number": 93
    },
    {
     "cell_type": "heading",
     "level": 2,
     "metadata": {},
     "source": [
      "Example no:11,Page no:35"
     ]
    },
    {
     "cell_type": "code",
     "collapsed": false,
     "input": [
      "#Variable declaration\n",
      "del_tao=1436.0     #min\n",
      "del_t=1440.0       #min\n",
      "\n",
      "#Calculation\n",
      "def f(b):\n",
      "    return(del_t-del_tao/(math.sqrt(1-b**2)))\n",
      "\n",
      "from scipy.optimize import fsolve\n",
      "be=fsolve(f,0.5)\n",
      "\n",
      "#Result\n",
      "print\"Beta=\",be[0],\"=1/(sqrt(180))\""
     ],
     "language": "python",
     "metadata": {},
     "outputs": [
      {
       "output_type": "stream",
       "stream": "stdout",
       "text": [
        "Beta= 0.0744838204322 =1/(sqrt(180))\n"
       ]
      }
     ],
     "prompt_number": 107
    },
    {
     "cell_type": "heading",
     "level": 2,
     "metadata": {},
     "source": [
      "Example no:12,Page no:35"
     ]
    },
    {
     "cell_type": "code",
     "collapsed": false,
     "input": [
      "#variable declaration\n",
      "deltaTow=1*10**(-6)                           #mean proper lifetime of particle (second)\n",
      "Beta=0.9                                     #value of Beta\n",
      "v=2.7*10**8                                   #velocity of particle (meter/second)\n",
      "\n",
      "#Calculation\n",
      "#part(i)\n",
      "deltaT=deltaTow/((1-Beta**2)**(1.0/2.0))           #lifetime of the particle in the laboratory frame (second)\n",
      "#part(ii)\n",
      "d=v*deltaT                                   #distance traversed by the particle in the laboratory before disintegration (meter)\n",
      "\n",
      "#Result\n",
      "print\"\\nIn laboratory frame:\\n\\t(i)Lifetime of the particle = %.2e\"%deltaT,\"s\\n\"\n",
      "print\"\\t(ii)Distance traversed by the particle = %.2g\"%d,\" m\"\n"
     ],
     "language": "python",
     "metadata": {},
     "outputs": [
      {
       "output_type": "stream",
       "stream": "stdout",
       "text": [
        "\n",
        "In laboratory frame:\n",
        "\t(i)Lifetime of the particle = 2.29e-06 s\n",
        "\n",
        "\t(ii)Distance traversed by the particle = 6.2e+02  m\n"
       ]
      }
     ],
     "prompt_number": 1
    },
    {
     "cell_type": "heading",
     "level": 2,
     "metadata": {},
     "source": [
      "Example no:13,Page no:35"
     ]
    },
    {
     "cell_type": "code",
     "collapsed": false,
     "input": [
      "#variable declaration\n",
      "d=3.0    #km\n",
      "d=d*1000.0  #[m]\n",
      "c=3.0*10**8  #m/s speed of light\n",
      "\n",
      "#Calculation\n",
      "v=0.99*c     #muon velocity\n",
      "b=(v**2)/(c**2)\n",
      "\n",
      "del_t=d/v\n",
      "del_tao=del_t*math.sqrt(1-0.99**2)\n",
      "#In moun's frame,\n",
      "d_dash=d*math.sqrt(1-0.99**2)\n",
      "\n",
      "#Result\n",
      "print\"(i)Proper lifetime of the muon= %.1e\"%del_tao,\"s\"\n",
      "print\"(ii)In muon's frame,distance travelled by it is %.3e\"%d_dash,\"m\"\n"
     ],
     "language": "python",
     "metadata": {},
     "outputs": [
      {
       "output_type": "stream",
       "stream": "stdout",
       "text": [
        "(i)Proper lifetime of the muon= 1.4e-06 s\n",
        "(ii)In muon's frame,distance travelled by it is 4.232e+02 m\n"
       ]
      }
     ],
     "prompt_number": 130
    },
    {
     "cell_type": "heading",
     "level": 2,
     "metadata": {},
     "source": [
      "Example no:14,Page no:36"
     ]
    },
    {
     "cell_type": "code",
     "collapsed": false,
     "input": [
      "#variable declaration\n",
      "import sympy\n",
      "c=sympy.Symbol(\"c\")\n",
      "u1=0.6*c                                  #speed of Beta particle 1 in lab frame (meter/second)\n",
      "u2=-0.8*c                                 #speed of Beta particle 2 in lab frame (meter/second)\n",
      "v=u1                                      #velocity of frame s' where frame s' is attached to the first Beta particle (meter/second)\n",
      "\n",
      "#Calculation\n",
      "\n",
      "u2_dash=(u2-v)/(1-((u2*v)/c**2))           #velocity of 2nd Beta particle relative to the 1st Beta particle (meter/second)\n",
      "\n",
      "#Result\n",
      "print\"The velocity of 2nd Beta particle relative to the 1st Beta particle =\",round(u2_dash/c,3)*c\n"
     ],
     "language": "python",
     "metadata": {},
     "outputs": [
      {
       "output_type": "stream",
       "stream": "stdout",
       "text": [
        "The velocity of 2nd Beta particle relative to the 1st Beta particle = -0.946*c\n"
       ]
      }
     ],
     "prompt_number": 140
    },
    {
     "cell_type": "heading",
     "level": 2,
     "metadata": {},
     "source": [
      "Example no:15,Page no:36"
     ]
    },
    {
     "cell_type": "code",
     "collapsed": false,
     "input": [
      "#variable declaration\n",
      "m0=1.0                                    #let rest mass of particle to be 1 (kg)\n",
      "m=3.0*m0                                  #moving mass of particle (kg)\n",
      "import sympy                               #speed of light (meter/second)\n",
      "c=sympy.Symbol(\"c\")\n",
      "\n",
      "#calculation \n",
      "Beta=(1-(m0/m)**2)**(1.0/2.0)                 #Calculation fo Beta\n",
      "v=Beta*c                                #speed of particle (meter/second)\n",
      "\n",
      "#Result\n",
      "print\"The speed of The particle =\",round(v/c,3)*c,\"=((2*sqrt 2)/3)c\"\n"
     ],
     "language": "python",
     "metadata": {},
     "outputs": [
      {
       "output_type": "stream",
       "stream": "stdout",
       "text": [
        "The speed of The particle = 0.943*c =((2*sqrt 2)/3)c\n"
       ]
      }
     ],
     "prompt_number": 142
    },
    {
     "cell_type": "heading",
     "level": 2,
     "metadata": {},
     "source": [
      "Example no:23,Page no:38"
     ]
    },
    {
     "cell_type": "code",
     "collapsed": false,
     "input": [
      "#Variable declaration\n",
      "RestEnergy=0.51                            #energy of electron if the electron is at rest (Mev)\n",
      "T=2                            #kinetic energy of electron (Bev)\n",
      "\n",
      "\n",
      "#Calculation\n",
      "#E=T=pc\n",
      "\n",
      "from sympy import Symbol\n",
      "c=Symbol(\"c\")                               #speed of light (meter/second)\n",
      "p=(T/c)                          #momentum of electron neglecting rest energy relative to kinetic energy (Bev*second/meter)\n",
      "\n",
      "#Result\n",
      "print\"The momentum of the electron =\",p,\"BeV/c\""
     ],
     "language": "python",
     "metadata": {},
     "outputs": [
      {
       "output_type": "stream",
       "stream": "stdout",
       "text": [
        "The momentum of the electron = 2/c BeV/c\n"
       ]
      }
     ],
     "prompt_number": 57
    },
    {
     "cell_type": "heading",
     "level": 2,
     "metadata": {},
     "source": [
      "Example no:24,Page no:38"
     ]
    },
    {
     "cell_type": "code",
     "collapsed": false,
     "input": [
      "#Variable declaration\n",
      "n=0.01                            #fractional increase in momentum\n",
      "c=3*10**8                          #speed of light (meter/second)\n",
      "\n",
      "#Calculation\n",
      "Beta=(n*(2-n))**(1.0/2.0)              #calculation of Beta\n",
      "v=Beta*c                          #velocity of particle (meter/second)\n",
      "\n",
      "#Result\n",
      "print\"\\nBeta =\",round(Beta,2)\n"
     ],
     "language": "python",
     "metadata": {},
     "outputs": [
      {
       "output_type": "stream",
       "stream": "stdout",
       "text": [
        "\n",
        "Beta = 0.14\n"
       ]
      }
     ],
     "prompt_number": 58
    },
    {
     "cell_type": "heading",
     "level": 2,
     "metadata": {},
     "source": [
      "Example no:26,Page no:39"
     ]
    },
    {
     "cell_type": "code",
     "collapsed": false,
     "input": [
      "#Variable declaration\n",
      "RestEnergy=0.51                                   #rest energy of electron (Mev)\n",
      "T=1.0                                               #potential difference i.e. kinetic energy (Mev)\n",
      "c=3*10**8                                          #speed of light (meter/second)\n",
      "\n",
      "#Calculation\n",
      "Beta=(1-(RestEnergy/(T+RestEnergy))**2)**(1.0/2.0)      #calculation of Beta\n",
      "v=Beta*c                                          #speed of electron (meter/second)\n",
      "\n",
      "#Result\n",
      "print\"The speed of the electron,Beta =\",round(Beta,4)\n",
      "print\"Note: In the book answer of Beta is wrong\"\n"
     ],
     "language": "python",
     "metadata": {},
     "outputs": [
      {
       "output_type": "stream",
       "stream": "stdout",
       "text": [
        "The speed of the electron,Beta = 0.9412\n",
        "Note: In the book answer of Beta is wrong\n"
       ]
      }
     ],
     "prompt_number": 59
    },
    {
     "cell_type": "heading",
     "level": 2,
     "metadata": {},
     "source": [
      "Example no:27,Page no:39"
     ]
    },
    {
     "cell_type": "code",
     "collapsed": false,
     "input": [
      "#Variable declaration\n",
      "RestEnergy=0.51                                   #rest energy of electron (Mev)\n",
      "T=2000.0                                            #potential difference i.e. kinetic energy (Mev)\n",
      "\n",
      "#Calculation\n",
      "import math\n",
      "#part(i)effective mass of electron in terms of its rest mass\n",
      "EffectiveMass=1+(T/RestEnergy)                    #ratio of effective mass of electron and rest mass\n",
      "#part(ii)speed of electron in terms of the speed of light\n",
      "Beta=(1-(1/EffectiveMass)**2)**(1.0/2.0)                #Calculatio of Beta\n",
      "import sympy\n",
      "eff_mass=sympy.Symbol(\"3923\")\n",
      "beta=((1-(1/eff_mass)**2))**(1.0/2.0)               #Calculatio of Beta\n",
      "\n",
      "#Result\n",
      "print\"The effective mass of electron in terms of its rest mass is\",round(EffectiveMass)\n",
      "print\"The speed of electron =\",beta,\"c is speed of light\" \n",
      "print\"OR after solving:\"\n",
      "print\"Speed of electron=%.2f\"%Beta,\"c\"\n",
      "print\"\\nNote: Wrong answer in book\"\n"
     ],
     "language": "python",
     "metadata": {},
     "outputs": [
      {
       "output_type": "stream",
       "stream": "stdout",
       "text": [
        "The effective mass of electron in terms of its rest mass is 3923.0\n",
        "The speed of electron = (1 - 1/3923**2)**0.5 c is speed of light\n",
        "OR after solving:\n",
        "Speed of electron=1.00 c\n",
        "\n",
        "Note: Wrong answer in book\n"
       ]
      }
     ],
     "prompt_number": 60
    },
    {
     "cell_type": "heading",
     "level": 2,
     "metadata": {},
     "source": [
      "Example no:28,Page no:39"
     ]
    },
    {
     "cell_type": "code",
     "collapsed": false,
     "input": [
      "#Variable declaration\n",
      "c=3*10**8                                                           #speed of light(meter/second)\n",
      "v1=0.6*c                                                          #initial velocity of particle (meter/second)\n",
      "v2=0.8*c                                                          #final velocity of particle (meter/second)\n",
      "\n",
      "#Calculation\n",
      "#Classically\n",
      "W_Classic=0.5*((v2/c)**2-(v1/c)**2)                                 #ratio of work and m0*c**2 (mo is the rest mass of particle and c is the speed of light)\n",
      "#Relativistically\n",
      "W_Relative=(1/(1-(v2/c)**2)**(1.0/2.0))-(1/(1-(v1/c)**2)**(1.0/2.0))          #ratio of work and m0*c**2 (mo is the rest mass of particle and c is the speed of light)\n",
      "\n",
      "#Result\n",
      "print\"\\nWork required:\\n\\t Classically: Work =\",W_Classic,\"*m0*c**2\\n\\t Relativistically: Work =\",round(W_Relative,3),\"*m0*c**2\\nWhere m0:rest mass of particle & c:speed of light\"\n"
     ],
     "language": "python",
     "metadata": {},
     "outputs": [
      {
       "output_type": "stream",
       "stream": "stdout",
       "text": [
        "\n",
        "Work required:\n",
        "\t Classically: Work = 0.14 *m0*c**2\n",
        "\t Relativistically: Work = 0.417 *m0*c**2\n",
        "Where m0:rest mass of particle & c:speed of light\n"
       ]
      }
     ],
     "prompt_number": 61
    },
    {
     "cell_type": "heading",
     "level": 2,
     "metadata": {},
     "source": [
      "Example no:29,Page no:40"
     ]
    },
    {
     "cell_type": "code",
     "collapsed": false,
     "input": [
      "#Variable declaration\n",
      "h=6.63*10**-34                                     #planck's constant (joule*second)\n",
      "c=3*10**8                                          #speed of light (meter/second)\n",
      "lambda1=5000*10**-10                               #wavelength (meter)\n",
      "lambda2=0.1*10**-10                                #wavelength (meter)\n",
      "\n",
      "#Calculation\n",
      "#part(i): wavelength=5000 \u00c5\n",
      "m1=h/(lambda1*c)                                  #effective mass of photon of wavelength 5000 \u00c5\n",
      "#part(ii): wavelength=0.1 \u00c5\n",
      "m2=h/(lambda2*c)                                  #effective mass of photon of wavelength 0.1 \u00c5\n",
      "\n",
      "#Result\n",
      "print\"Effective mass of photon:\\n\\t(i) mass =\",m1,\"kg\\n\\t(ii) mass =\",m2,\"kg\"\n"
     ],
     "language": "python",
     "metadata": {},
     "outputs": [
      {
       "output_type": "stream",
       "stream": "stdout",
       "text": [
        "Effective mass of photon:\n",
        "\t(i) mass = 4.42e-36 kg\n",
        "\t(ii) mass = 2.21e-31 kg\n"
       ]
      }
     ],
     "prompt_number": 62
    },
    {
     "cell_type": "heading",
     "level": 2,
     "metadata": {},
     "source": [
      "Example no:30,Page no:40"
     ]
    },
    {
     "cell_type": "code",
     "collapsed": false,
     "input": [
      "#Variable declaration\n",
      "RestEnergy=0.51                                   #rest energy of electron (Mev)\n",
      "\n",
      "#Calculation\n",
      "E=2*RestEnergy                                    #minimum energy of gamma ray photon (Mev)\n",
      "\n",
      "#Result\n",
      "print\"\\nMinimum energy required =\",E,\"Mev\"\n"
     ],
     "language": "python",
     "metadata": {},
     "outputs": [
      {
       "output_type": "stream",
       "stream": "stdout",
       "text": [
        "\n",
        "Minimum energy required = 1.02 Mev\n"
       ]
      }
     ],
     "prompt_number": 63
    },
    {
     "cell_type": "heading",
     "level": 2,
     "metadata": {},
     "source": [
      "Example no:33,Page no:41"
     ]
    },
    {
     "cell_type": "code",
     "collapsed": false,
     "input": [
      "#Variable declaration\n",
      "c=3*10**8                                       #Speed of sound (meter/second)\n",
      "M=1.97*10**30                                   #Mass of sun (kg)\n",
      "R=1.5*10**11                                    #Mean radius of the earth orbit (meter)\n",
      "sigma=1.4*10**3                                 #Solar energy received by the earth (joule/meter**2*second)\n",
      "\n",
      "#Calculation\n",
      "import math\n",
      "loss=(4*math.pi*R**2*sigma)/(M*c**2)                 #Fractional loss of mass of the sun per second\n",
      "\n",
      "#Result\n",
      "print\"\\nThe fractional loss of mass of the sun= %.e\"%loss,\"s**-1\"\n"
     ],
     "language": "python",
     "metadata": {},
     "outputs": [
      {
       "output_type": "stream",
       "stream": "stdout",
       "text": [
        "\n",
        "The fractional loss of mass of the sun= 2e-21 s**-1\n"
       ]
      }
     ],
     "prompt_number": 64
    }
   ],
   "metadata": {}
  }
 ]
}