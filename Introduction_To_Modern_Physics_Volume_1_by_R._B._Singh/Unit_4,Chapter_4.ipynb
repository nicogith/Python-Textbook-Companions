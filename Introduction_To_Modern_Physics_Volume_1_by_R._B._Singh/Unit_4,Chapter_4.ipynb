{
 "metadata": {
  "name": ""
 },
 "nbformat": 3,
 "nbformat_minor": 0,
 "worksheets": [
  {
   "cells": [
    {
     "cell_type": "heading",
     "level": 1,
     "metadata": {},
     "source": [
      "Chapter 4:Magneto-optic and Electro-optic Phenomena"
     ]
    },
    {
     "cell_type": "heading",
     "level": 2,
     "metadata": {},
     "source": [
      "Example no:1,Page no:514"
     ]
    },
    {
     "cell_type": "code",
     "collapsed": false,
     "input": [
      "#Variable declaration\n",
      "e=1.6*10**-19                                                                    #charge of electron (Coulomb)\n",
      "B=0.5                                                                           #magnetic field (Tesla)\n",
      "lembda=6438*10**-10                                                              #wavelength of the line (m)\n",
      "m=9.1*10**-31                                                                    #mass of electron (kg)\n",
      "c=3*10**8                                                                        #speed of light (m/s)\n",
      "\n",
      "#calculation\n",
      "import math\n",
      "dlembda=(e*B*lembda**2*10**10)/(4*math.pi*m*c)                                        #normal Zeeman splitting (\u00c5)\n",
      "\n",
      "#Result\n",
      "print\"Zeeman shift =\",round(dlembda,3),\"\u00c5\"\n"
     ],
     "language": "python",
     "metadata": {},
     "outputs": [
      {
       "output_type": "stream",
       "stream": "stdout",
       "text": [
        "Zeeman shift = 0.097 \u00c5\n"
       ]
      }
     ],
     "prompt_number": 16
    },
    {
     "cell_type": "heading",
     "level": 2,
     "metadata": {},
     "source": [
      "Example no:2,Page no:515"
     ]
    },
    {
     "cell_type": "code",
     "collapsed": false,
     "input": [
      "#Variable declaration\n",
      "e=1.6*10**-19                                                                    #charge of electron (Coulomb)\n",
      "B=1                                                                             #magnetic field (Tesla)\n",
      "lembda=612*10**-9                                                                #wavelength of the line (m)\n",
      "m=9.1*10**-31                                                                    #mass of electron (kg)\n",
      "c=3*10**8                                                                        #speed of light (m/s)\n",
      "\n",
      "#calculation\n",
      "import math\n",
      "dlembda1=(e*B*lembda**2*10**10)/(4*math.pi*m*c)                                       #normal Zeeman splitting (\u00c5)\n",
      "dlembda2=2*dlembda1                                                             #Separation of outer lines (\u00c5)\n",
      "\n",
      "#Result\n",
      "print\"Separation of outer lines =\",round(dlembda2,2),\"\u00c5\"\n"
     ],
     "language": "python",
     "metadata": {},
     "outputs": [
      {
       "output_type": "stream",
       "stream": "stdout",
       "text": [
        "Separation of outer lines = 0.35 \u00c5\n"
       ]
      }
     ],
     "prompt_number": 17
    },
    {
     "cell_type": "heading",
     "level": 2,
     "metadata": {},
     "source": [
      "Example no:3,Page no:515"
     ]
    },
    {
     "cell_type": "code",
     "collapsed": false,
     "input": [
      "#Variable declaration\n",
      "mu=9.27*10**-24                                                                  #(J/T)\n",
      "B=1*10**-1                                                                       #external magnetic field (T)\n",
      "h=1.054*10**-34                                                                  #Plank's constant (Js)\n",
      "J=3/2.0 \n",
      "L=1.0 \n",
      "S=1/2.0 \n",
      "\n",
      "#calculation\n",
      "g=1+(((J*(J+1))+(S*(S+1))-(L*(L+1)))/(2*J*(J+1)))                               #Lande g-factor\n",
      "omega=(g*mu*B)/h                                                                #angular velocity of precession (rad/s)\n",
      "\n",
      "#Result\n",
      "print\"\u03c9 =%.1e\"%omega,\"rad/s\"\n"
     ],
     "language": "python",
     "metadata": {},
     "outputs": [
      {
       "output_type": "stream",
       "stream": "stdout",
       "text": [
        "\u03c9 =1.2e+10 rad/s\n"
       ]
      }
     ],
     "prompt_number": 19
    },
    {
     "cell_type": "heading",
     "level": 2,
     "metadata": {},
     "source": [
      "Example no:4,Page no:515"
     ]
    },
    {
     "cell_type": "code",
     "collapsed": false,
     "input": [
      "#Variable declaration\n",
      "J=5/2.0 \n",
      "#Calculation\n",
      "sub=2*J+1 \n",
      "#Result\n",
      "print\"\\n(i) Energy level does not split\"\n",
      "print\"\\n(ii) number of sub-shells =\",sub\n",
      "print\"\\n(iii) Energy level does not split\"\n"
     ],
     "language": "python",
     "metadata": {},
     "outputs": [
      {
       "output_type": "stream",
       "stream": "stdout",
       "text": [
        "\n",
        "(i) Energy level does not split\n",
        "\n",
        "(ii) number of sub-shells = 6.0\n",
        "\n",
        "(iii) Energy level does not split\n"
       ]
      }
     ],
     "prompt_number": 4
    },
    {
     "cell_type": "heading",
     "level": 2,
     "metadata": {},
     "source": [
      "Example no:5,Page no:515"
     ]
    },
    {
     "cell_type": "code",
     "collapsed": false,
     "input": [
      "#Variable declaration\n",
      "S1=0.0\n",
      "L1=2.0\n",
      "J1=2.0\n",
      "g1=1.0\n",
      "S2=1.0\n",
      "L2=3.0\n",
      "J2=4.0\n",
      "g2=5/4.0\n",
      "B=0.25                                                                          #magnetic field (T)\n",
      "mu=5.79*10**-5                                                                   #mass (eV/T)\n",
      "\n",
      "#Calculation\n",
      "#(i)\n",
      "E1=4*g1*mu*B                                                                    #total splitting (eV)\n",
      "#(ii)\n",
      "E2=8*g2*mu*B                                                                    #total splitting (eV)\n",
      "\n",
      "#Result\n",
      "print\"\\n(i) total splitting =\",E1,\"eV\\n(ii) total splitting =%.4e\"%E2,\"eV\"\n"
     ],
     "language": "python",
     "metadata": {},
     "outputs": [
      {
       "output_type": "stream",
       "stream": "stdout",
       "text": [
        "\n",
        "(i) total splitting = 5.79e-05 eV\n",
        "(ii) total splitting =1.4475e-04 eV\n"
       ]
      }
     ],
     "prompt_number": 22
    },
    {
     "cell_type": "heading",
     "level": 2,
     "metadata": {},
     "source": [
      "Example no:7,Page no:516"
     ]
    },
    {
     "cell_type": "code",
     "collapsed": false,
     "input": [
      "#Variable declaration\n",
      "mu=9.27*10**-24                                                                  #(J/T)\n",
      "B=0.45                                                                          #magnetic field (\u03bcb/m**2)\n",
      "h=1.054*10**-34                                                                  #Plank's constant (Js)\n",
      "k=[5/3.0,1.0,1/3.0,-1/3.0,-1.0,-5/3.0]                                                      #value of g'Mj'-gMj\n",
      "\n",
      "#calculation\n",
      "c=(mu*B)/h                                                                      #constant (rad/s)\n",
      "deltaomega1=c*k[0]                                                              #displacement of Zeeman component (rad/s)\n",
      "deltaomega2=c*k[1]                                                              #displacement of Zeeman component (rad/s)\n",
      "deltaomega3=c*k[2]                                                              #displacement of Zeeman component (rad/s)\n",
      "\n",
      "#Result\n",
      "print\"Displcement of Zeeman component =\",\"+-%.3e\"%deltaomega1,\",+-%.2e\"%deltaomega2,\",+-%.2e\"%deltaomega3,\"rad/s\""
     ],
     "language": "python",
     "metadata": {},
     "outputs": [
      {
       "output_type": "stream",
       "stream": "stdout",
       "text": [
        "Displcement of Zeeman component = +-6.596e+10 ,+-3.96e+10 ,+-1.32e+10 rad/s\n"
       ]
      }
     ],
     "prompt_number": 28
    },
    {
     "cell_type": "heading",
     "level": 2,
     "metadata": {},
     "source": [
      "Example no:8,Page no:517"
     ]
    },
    {
     "cell_type": "code",
     "collapsed": false,
     "input": [
      "#Variable declaration\n",
      "m=9.1*10**-31                                                                    #mass of electron (Kg)\n",
      "h=1.054*10**-34                                                                  #Plank's constant (Js)\n",
      "B=1.2                                                                           #magnetic field (mu*b/m**2)\n",
      "gs=2                                                                            #for a pure spin system\n",
      "J=0.5                                                                           #for a pure spin system\n",
      "\n",
      "#calculation\n",
      "mub=h/(2*m)                                                                     #(eV/T)\n",
      "deltaE=2*gs*mub*B*J                                                             #energy difference b/w electrons(eV)\n",
      "\n",
      "#Result\n",
      "print\"\\n \u0394E =%.2e\"%deltaE,\"eV\"\n"
     ],
     "language": "python",
     "metadata": {},
     "outputs": [
      {
       "output_type": "stream",
       "stream": "stdout",
       "text": [
        "\n",
        " \u0394E =1.39e-04 eV\n"
       ]
      }
     ],
     "prompt_number": 29
    },
    {
     "cell_type": "heading",
     "level": 2,
     "metadata": {},
     "source": [
      "Example no:9,Page no:517"
     ]
    },
    {
     "cell_type": "code",
     "collapsed": false,
     "input": [
      "#Variable declaration\n",
      "m=9.1*10**-31                                                                    #mass of electron (Kg)\n",
      "h=1.054*10**-34                                                                  #Plank's constant (Js)\n",
      "B=5                                                                             #magnetic field (T)\n",
      "lembda=1210                                                                     #wavelength of spectral line (\u00c5)\n",
      "M=[1,0,-1,1,0,-1]                                                               #value of Ml+2*Ms\n",
      "ch=12400                                                                        #product of speed of light and Plank's constant (eV*\u00c5)\n",
      "\n",
      "#calculation\n",
      "import numpy as np\n",
      "M=np.array(M)\n",
      "dE=(h/(2*m))*B*M                                                                #value of dE(upper)-dE(lower) (eV)\n",
      "dlembda=(lembda**2/ch)*dE                                                        #wavelengths of the spectral lines in the pattern (\u00c5)\n",
      "#Result\n",
      "print\"Wavelengths of the line =\",round(lembda+dlembda[1],3),\",\",round(lembda+dlembda[0],3),\",\",round(lembda+dlembda[2],3),\"\u00c5\" \n"
     ],
     "language": "python",
     "metadata": {},
     "outputs": [
      {
       "output_type": "stream",
       "stream": "stdout",
       "text": [
        "Wavelengths of the line = 1210.0 , 1210.034 , 1209.966 \u00c5\n"
       ]
      }
     ],
     "prompt_number": 36
    }
   ],
   "metadata": {}
  }
 ]
}