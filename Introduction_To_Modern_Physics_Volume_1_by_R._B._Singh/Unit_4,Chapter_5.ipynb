{
 "metadata": {
  "name": ""
 },
 "nbformat": 3,
 "nbformat_minor": 0,
 "worksheets": [
  {
   "cells": [
    {
     "cell_type": "heading",
     "level": 1,
     "metadata": {},
     "source": [
      "Chapter 5:X-Rays and X-Ray Spectra "
     ]
    },
    {
     "cell_type": "heading",
     "level": 2,
     "metadata": {},
     "source": [
      "Example no:1,Page no:535"
     ]
    },
    {
     "cell_type": "code",
     "collapsed": false,
     "input": [
      "#Variable declaration\n",
      "ch=12400.0                                                                        #product of speed of light and Plank's constant (eV*\u00c5)\n",
      "lembda1=0.024                                                                   #Compton wavelength of X-ray (\u00c5)\n",
      "lembda2=1.0                                                                       #wavelength of X-ray (\u00c5)\n",
      "\n",
      "#Calculation\n",
      "#(i)\n",
      "x1=ch/lembda1                                                                   #minimum voltage across X-ray tube (V)\n",
      "#(ii)\n",
      "x2=ch/(lembda2*10**3)                                                            #minimum voltage across X-ray tube (kV)\n",
      "#(iii)\n",
      "x3=1.02                                                                         #minimum energy of X-ray photon (M*eV)\n",
      "\n",
      "#Result\n",
      "print\"\\n(i) voltage =%.2e\"%x1,\"V\\n(ii) voltage =\",x2,\"KV\\n(iii) energy =\",x3,\"MeV\"\n",
      "print\"NOTE:Wrong answer of (i) in book\""
     ],
     "language": "python",
     "metadata": {},
     "outputs": [
      {
       "output_type": "stream",
       "stream": "stdout",
       "text": [
        "\n",
        "(i) voltage =5.17e+05 V\n",
        "(ii) voltage = 12.4 KV\n",
        "(iii) energy = 1.02 MeV\n",
        "NOTE:Wrong answer of (i) in book\n"
       ]
      }
     ],
     "prompt_number": 58
    },
    {
     "cell_type": "heading",
     "level": 2,
     "metadata": {},
     "source": [
      "Example no:2,Page no:535"
     ]
    },
    {
     "cell_type": "code",
     "collapsed": false,
     "input": [
      "#Variable declaration\n",
      "n=3/2.0 \n",
      "dlembda=26*10**-2                                                                #shifting in short wave limit of X-ray spectrum (\u00c5)\n",
      "ch=12400                                                                        #product of speed of light and Plank's constant (eV*\u00c5)\n",
      "e=1.6*10**-19                                                                    #charge of electron (Coulomb)\n",
      "\n",
      "#Calculation\n",
      "V=((n-1)/n)*(ch/(dlembda*10**3))                                               #initial voltage applied to the tube (KV)\n",
      "\n",
      "#Result\n",
      "print\"\\nInitial voltage =\",round(V,1),\"KV\"\n"
     ],
     "language": "python",
     "metadata": {},
     "outputs": [
      {
       "output_type": "stream",
       "stream": "stdout",
       "text": [
        "\n",
        "Initial voltage = 15.9 KV\n"
       ]
      }
     ],
     "prompt_number": 59
    },
    {
     "cell_type": "heading",
     "level": 2,
     "metadata": {},
     "source": [
      "Example no:3,Page no:535"
     ]
    },
    {
     "cell_type": "code",
     "collapsed": false,
     "input": [
      "#Variable declaration\n",
      "R=10972900.0                                                                      #(m-1)\n",
      "lembda=1.54*10**-10                                                              #wavelength of K line (m)\n",
      "\n",
      "#calculation\n",
      "import math\n",
      "z=1+math.sqrt(4.0/(3.0*lembda*R))                                                        #atomic number of the target element\n",
      "\n",
      "#Result\n",
      "print\"\\nZ =\",round(z)\n"
     ],
     "language": "python",
     "metadata": {},
     "outputs": [
      {
       "output_type": "stream",
       "stream": "stdout",
       "text": [
        "\n",
        "Z = 29.0\n"
       ]
      }
     ],
     "prompt_number": 60
    },
    {
     "cell_type": "heading",
     "level": 2,
     "metadata": {},
     "source": [
      "Example no:4,Page no:536"
     ]
    },
    {
     "cell_type": "code",
     "collapsed": false,
     "input": [
      "#Variable declaration\n",
      "z1=29.0                                                                           #atomic no. of Copper\n",
      "z2=26.0                                                                           #atomic no. of Iron\n",
      "lembda1=193.0                                                                     #wavelength of K line in Iron (pm)\n",
      "\n",
      "#calculation\n",
      "lembda=((z2-1)/(z1-1))**2*lembda1                                                #wavelength of K line in Copper (pm)\n",
      "\n",
      "#Result\n",
      "print\"\\n\u03bb =\",round(lembda),\"pm\" \n"
     ],
     "language": "python",
     "metadata": {},
     "outputs": [
      {
       "output_type": "stream",
       "stream": "stdout",
       "text": [
        "\n",
        "\u03bb = 154.0 pm\n"
       ]
      }
     ],
     "prompt_number": 61
    },
    {
     "cell_type": "heading",
     "level": 2,
     "metadata": {},
     "source": [
      "Example no:5,Page no:536"
     ]
    },
    {
     "cell_type": "code",
     "collapsed": false,
     "input": [
      "#Variable declaration\n",
      "z1=13                                                                           #atomic no. of Al\n",
      "z2=27                                                                           #atomic no. of Co\n",
      "R=1.097*10**7                                                                    #(m-1)\n",
      "\n",
      "#calculation\n",
      "lembda1=(4*10**12)/(3*R*(z1-1)**2)                                                #wavelength of K line in Al (pm)\n",
      "lembda2=(4*10**12)/(3*R*(z2-1)**2)                                                #wavelength of k line in Co (pm)\n",
      "\n",
      "#Result\n",
      "print\"\\n wavelength of Al =\",round(lembda1),\"pm\\n wavelength of Co =\",round(lembda2),\"pm\"\n"
     ],
     "language": "python",
     "metadata": {},
     "outputs": [
      {
       "output_type": "stream",
       "stream": "stdout",
       "text": [
        "\n",
        " wavelength of Al = 844.0 pm\n",
        " wavelength of Co = 180.0 pm\n"
       ]
      }
     ],
     "prompt_number": 62
    },
    {
     "cell_type": "heading",
     "level": 2,
     "metadata": {},
     "source": [
      "Example no:6,Page no:536"
     ]
    },
    {
     "cell_type": "code",
     "collapsed": false,
     "input": [
      "#Variable declaration\n",
      "lembda1=250.0*10**-12                                                              #wavelength of K-alpha line (m)\n",
      "lembda2=179.0*10**-12                                                              #wavelength of K-alpha line (m)\n",
      "R=10972900.0                                                                      #(m-1)\n",
      "\n",
      "#calculation\n",
      "import math\n",
      "z1=int(1+math.sqrt(4/(3*lembda1*R)))                                                      #atomic number\n",
      "z2=int(1+math.sqrt(4/(3*lembda2*R)))  \n",
      "\n",
      "#Result\n",
      "print\"\\nThe required elements are: Z =\"\n",
      "for i in range(z1+1,z2):\n",
      "    print i    \n"
     ],
     "language": "python",
     "metadata": {},
     "outputs": [
      {
       "output_type": "stream",
       "stream": "stdout",
       "text": [
        "\n",
        "The required elements are: Z =\n",
        "24\n",
        "25\n",
        "26\n"
       ]
      }
     ],
     "prompt_number": 63
    },
    {
     "cell_type": "heading",
     "level": 2,
     "metadata": {},
     "source": [
      "Example no:7,Page no:536"
     ]
    },
    {
     "cell_type": "code",
     "collapsed": false,
     "input": [
      "#Variable declaration\n",
      "ch=12400.0                                                                        #product of speed of light and Plank's constant (eV*\u00c5)\n",
      "Rch=13.6                                                                        #product of speed of light, Plank's constant and R (eV)\n",
      "z=23.0                                                                            #atomic no. of vanadium\n",
      "lembda=24.0                                                                       #wavelength of L absorption edge (\u00c5)\n",
      "\n",
      "#calculation\n",
      "El=ch/(lembda*1000)                                                             #binding energy of L electron (KeV)\n",
      "Ek=((3/(4.0*10**3))*Rch*(z-1)**2)+El                                                #binding energy of K electron (KeV)\n",
      "#Result\n",
      "print\"\\nBinding energy of K-electron =\",round(Ek,2),\"KeV\"\n",
      "\n",
      "print\"NOTE:Approxmiate answer given in book\""
     ],
     "language": "python",
     "metadata": {},
     "outputs": [
      {
       "output_type": "stream",
       "stream": "stdout",
       "text": [
        "\n",
        "Binding energy of K-electron = 5.45 KeV\n",
        "NOTE:Approxmiate answer given in book\n"
       ]
      }
     ],
     "prompt_number": 64
    },
    {
     "cell_type": "heading",
     "level": 2,
     "metadata": {},
     "source": [
      "Example no:8,Page no:537"
     ]
    },
    {
     "cell_type": "code",
     "collapsed": false,
     "input": [
      "#Variable declaration\n",
      "ch=12.4                                                                         #product of speed of light and Plank's constant (KeV*\u00c5)\n",
      "lembda1=0.178                                                                   #wavelength of K-alpha line (\u00c5)\n",
      "lembda2=0.210                                                                   #wavelength of K line (\u00c5)\n",
      "\n",
      "#calculation\n",
      "Ek=ch/lembda1                                                                   #binding energy of K electron (KeV)\n",
      "El=Ek-(ch/lembda2)                                                              #binding energy of K-alpha electron (KeV)\n",
      "lembda=ch/El                                                                   #wavelength of L absorption edge (\u00c5)\n",
      "\n",
      "#Result\n",
      "print\"\\nWavelength of L absorption edge =\",round(lembda,2),\"\u00c5\"\n"
     ],
     "language": "python",
     "metadata": {},
     "outputs": [
      {
       "output_type": "stream",
       "stream": "stdout",
       "text": [
        "\n",
        "Wavelength of L absorption edge = 1.17 \u00c5\n"
       ]
      }
     ],
     "prompt_number": 65
    },
    {
     "cell_type": "heading",
     "level": 2,
     "metadata": {},
     "source": [
      "Example no:9,Page no:537"
     ]
    },
    {
     "cell_type": "code",
     "collapsed": false,
     "input": [
      "#Variable declaration\n",
      "ch=12.4                                                                         #product of speed of light and Plank's constant (KeV*\u00c5)\n",
      "lembdak=0.18                                                                    #wavelength of K absorption edge (\u00c5)\n",
      "lembda=0.1                                                                      #wavelength of incident photon (\u00c5)\n",
      "\n",
      "#calculation\n",
      "Ek=ch/lembdak                                                                   #binding energy of K electron (KeV)\n",
      "E=ch/lembda                                                                     #energy of incident photon (KeV)\n",
      "K=E-Ek                                                                          #maximum kinetic energy of ejected electron (KeV)\n",
      "\n",
      "#Result\n",
      "print\"KE =\",round(K,2),\"KeV\"\n"
     ],
     "language": "python",
     "metadata": {},
     "outputs": [
      {
       "output_type": "stream",
       "stream": "stdout",
       "text": [
        "KE = 55.11 KeV\n"
       ]
      }
     ],
     "prompt_number": 66
    },
    {
     "cell_type": "heading",
     "level": 2,
     "metadata": {},
     "source": [
      "Example no:10,Page no:538"
     ]
    },
    {
     "cell_type": "code",
     "collapsed": false,
     "input": [
      "#Variable declaration\n",
      "ch=12.4                                                                         #product of speed of light and Plank's constant (KeV*\u00c5)\n",
      "Rch=13.6/10**3                                                                   #product of speed of light, Plank's constant and R (KeV)\n",
      "lembdak=1.74                                                                    #K band absorption edge wavelength of iron (\u00c5)\n",
      "z=30                                                                            #atomic no. of zinc\n",
      "\n",
      "#calculation\n",
      "Ek=ch/lembdak                                                                   #binding energy of K electron in iron (KeV)\n",
      "E=(3.0/4.0)*Rch*(z-1)**2                                                             #energy of photon of K-alpha radiation (KeV)\n",
      "K=E-Ek                                                                          #kinetic energy of the photoelectrons liberated from iron (KeV)\n",
      "\n",
      "#Result\n",
      "print\"KE =\",round(K,3),\"KeV\"\n"
     ],
     "language": "python",
     "metadata": {},
     "outputs": [
      {
       "output_type": "stream",
       "stream": "stdout",
       "text": [
        "KE = 1.452 KeV\n"
       ]
      }
     ],
     "prompt_number": 57
    }
   ],
   "metadata": {}
  }
 ]
}