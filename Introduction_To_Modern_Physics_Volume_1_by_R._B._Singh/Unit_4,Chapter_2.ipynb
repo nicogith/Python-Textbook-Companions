{
 "metadata": {
  "name": ""
 },
 "nbformat": 3,
 "nbformat_minor": 0,
 "worksheets": [
  {
   "cells": [
    {
     "cell_type": "heading",
     "level": 1,
     "metadata": {},
     "source": [
      "Chapter 2:Atomic Spectra-II"
     ]
    },
    {
     "cell_type": "heading",
     "level": 2,
     "metadata": {},
     "source": [
      "Example no:4,Page no:460"
     ]
    },
    {
     "cell_type": "code",
     "collapsed": false,
     "input": [
      "#Variable declaration\n",
      "rP = 4 \n",
      "rD = 5 \n",
      "LP = 1 \n",
      "LP = 2 \n",
      "jP = (5/2.0, 3/2.0, 1/2.0) \n",
      "jD = (4, 3, 2, 1)\n",
      "\n",
      "#Calculation\n",
      "import math\n",
      "SP = (rP-1)/2.0 \n",
      "SD = (rD-1)/2.0 \n",
      "i=0 \n",
      "JP=[0,0,0]\n",
      "JD=[0,0,0,0,0]\n",
      "for i in range(0,3):\n",
      "    JP[i] =round(math.sqrt(jP[i]*(jP[i])+1) ,2)\n",
      "i=0 \n",
      "for i in range(0,4):\n",
      "    JD[i] = round(math.sqrt(jD[i]*(jD[i]+1)) ,2)\n",
      "    \n",
      "#Result\n",
      "print\"\\nAngular moments allowed for 4P :\",JP\n",
      "print\"\\nAngular moments allowed for 5D : \",JD\n"
     ],
     "language": "python",
     "metadata": {},
     "outputs": [
      {
       "output_type": "stream",
       "stream": "stdout",
       "text": [
        "\n",
        "Angular moments allowed for 4P : [2.69, 1.8, 1.12]\n",
        "\n",
        "Angular moments allowed for 5D :  [4.47, 3.46, 2.45, 1.41, 0]\n"
       ]
      }
     ],
     "prompt_number": 80
    },
    {
     "cell_type": "heading",
     "level": 2,
     "metadata": {},
     "source": [
      "Example no:9,Page no:462"
     ]
    },
    {
     "cell_type": "code",
     "collapsed": false,
     "input": [
      "#Variable declaration\n",
      "l=1\n",
      "s=1/2.0\n",
      "j=3/2.0\n",
      "\n",
      "#calculation\n",
      "import math\n",
      "angle=((j*(j+1))-(l*(l+1))-(s*(s+1)))/(2*math.sqrt(l*s*(l+1)*(s+1)))                 #value of cos \u03b8\n",
      "\n",
      "#Result\n",
      "print\"\\n cos \u03b8 = \",round(angle,3)\n"
     ],
     "language": "python",
     "metadata": {},
     "outputs": [
      {
       "output_type": "stream",
       "stream": "stdout",
       "text": [
        "\n",
        " cos \u03b8 =  0.408\n"
       ]
      }
     ],
     "prompt_number": 81
    },
    {
     "cell_type": "heading",
     "level": 2,
     "metadata": {},
     "source": [
      "Example no:10,Page no:462"
     ]
    },
    {
     "cell_type": "code",
     "collapsed": false,
     "input": [
      "#Variable declaration\n",
      "e=1.6*10**-19                                                                    #charge of electron (C)\n",
      "m=9.1*10**-31                                                                    #mass of electron (kg)\n",
      "B=0.1                                                                           #external magnetic field (Wb/m**2)\n",
      "g=4/3.0\n",
      "mu=9.27*10**-24                                                                  #(J/T)\n",
      "\n",
      "#calculation\n",
      "from sympy import *\n",
      "mu_b=Symbol(\"\u00b5b\")\n",
      "import math\n",
      "E=round(g*B,3)*mu_b                                                                        #The spacing of adjacent sub-levels (J)\n",
      "v=(e*B)/(4*math.pi*m)                                                               #Larmor frequency (Hz)\n",
      "\n",
      "#Result\n",
      "print\"\\n The spacing of adjacent sub-levels =\",E,\"J\\n Larmor frequency =%.1e\"%v,\"Hz\"\n"
     ],
     "language": "python",
     "metadata": {},
     "outputs": [
      {
       "output_type": "stream",
       "stream": "stdout",
       "text": [
        "\n",
        " The spacing of adjacent sub-levels = 0.133*\u00b5b J\n",
        " Larmor frequency =1.4e+09 Hz\n"
       ]
      }
     ],
     "prompt_number": 82
    },
    {
     "cell_type": "heading",
     "level": 2,
     "metadata": {},
     "source": [
      "Example no:11,Page no:462"
     ]
    },
    {
     "cell_type": "code",
     "collapsed": false,
     "input": [
      "#Variable declaration\n",
      "mu=9.27*10**-24                                                                  #(J/T)\n",
      "g=2 \n",
      "ms=1/2.0 \n",
      "dB=2*10**2                                                                       #gradient of magnetic field (T/m)\n",
      "m=1.67*10**-27                                                                   #maas of hydrogen atom (kg)\n",
      "l=0.2                                                                           #distance travelled by hydrogen atom (m)\n",
      "v=2*10**5                                                                        #speed of hydrogen atom (m/s)\n",
      "\n",
      "#calculation\n",
      "muz=g*mu*ms                                                                     #Resolved part of magnetic moment in the direction of magnetic field (J/T)\n",
      "Fz=muz*dB                                                                       #Force on the atom (N)\n",
      "z=0.5*(Fz/m)*(l/v)**2                                                            #Displacement of beam (m)\n",
      "sep=2*z                                                                         #Total separation (m)\n",
      "\n",
      "#Result\n",
      "print\"\\n Total separation =%.2e\"%sep,\"m\" \n"
     ],
     "language": "python",
     "metadata": {},
     "outputs": [
      {
       "output_type": "stream",
       "stream": "stdout",
       "text": [
        "\n",
        " Total separation =1.11e-06 m\n"
       ]
      }
     ],
     "prompt_number": 83
    },
    {
     "cell_type": "heading",
     "level": 2,
     "metadata": {},
     "source": [
      "Example no:12,Page no:463"
     ]
    },
    {
     "cell_type": "code",
     "collapsed": false,
     "input": [
      "#Variable declaration\n",
      "l=1.0\n",
      "s=1.0/2.0\n",
      "j1=1.0/2.0\n",
      "j2=3.0/2.0\n",
      "\n",
      "#calculation\n",
      "import math\n",
      "L=math.sqrt(l*(l+1.0))                                                                 #orbital angular momenta\n",
      "S=math.sqrt(s*(s+1.0))                                                                 #spin angular momenta\n",
      "J1=math.sqrt(j1*(j1+1.0))                                                              #total angular momenta\n",
      "J2=math.sqrt(j2*(j2+1.0))                                                              #total angular momenta\n",
      "theta1=(180.0/math.pi)*math.acos(((j2*(j2+1))-(l*(l+1))-(s*(s+1)))/(2.0*math.sqrt(l*(l+1.0))*math.sqrt(s*(s+1))))     #angle b/w l and s (degree)\n",
      "theta2=(180.0/math.pi)*math.acos(((j1*(j1+1))-(l*(l+1))-(s*(s+1)))/(2.0*math.sqrt(l*(l+1.0))*math.sqrt(s*(s+1))))     #angle b/w l and s (degree)\n",
      "#Result\n",
      "print\"\\n |l| =\",round(L,2),\"*h=\u221a2h\\n |s| =\",round(S,2),\"*h=\u221a3/4 h\\n |j| =\",round(J1,2),\"*h=\u221a3/4 h,\",round(J2,2),\"*h=\u221a15/4 h\\n \u03b81 =%d\"%theta1,\"\u02da\\n \u03b82 =%d\"%round(theta2),\"\u02da\"\n"
     ],
     "language": "python",
     "metadata": {},
     "outputs": [
      {
       "output_type": "stream",
       "stream": "stdout",
       "text": [
        "\n",
        " |l| = 1.41 *h=\u221a2h\n",
        " |s| = 0.87 *h=\u221a3/4 h\n",
        " |j| = 0.87 *h=\u221a3/4 h, 1.94 *h=\u221a15/4 h\n",
        " \u03b81 =65 \u02da\n",
        " \u03b82 =145 \u02da\n"
       ]
      }
     ],
     "prompt_number": 84
    },
    {
     "cell_type": "heading",
     "level": 2,
     "metadata": {},
     "source": [
      "Example no:13,Page no:463"
     ]
    },
    {
     "cell_type": "code",
     "collapsed": false,
     "input": [
      "#Variable declaration\n",
      "B=0.5                                                                           #magnetic field (T)\n",
      "s=1/2.0 \n",
      "g=2 \n",
      "\n",
      "#calculation\n",
      "import math\n",
      "from sympy import *\n",
      "mu_B=Symbol(\"\u03bc\u03b2\")\n",
      "S=math.sqrt(s*(s+1))                                                                 #Magnitude of spin vector\n",
      "theta1=(180.0/math.pi)*math.acos(0.5/S)                                                    #Orientation of spin vector (degree)\n",
      "theta2=(180.0/math.pi)*math.acos(-0.5/S)                                                   #Orientation of spin vector (degree)\n",
      "E=2*g*mu_B*B                                                                         #Separation of the energy levels (in terms of \u03bc\u03b2)\n",
      "\n",
      "#Result\n",
      "print\"\u03b8 =\",round(theta1,1),\"\u02da and \u03b8=\",round(theta2,1),\"\u02da\\n \u0394E =\",E\n"
     ],
     "language": "python",
     "metadata": {},
     "outputs": [
      {
       "output_type": "stream",
       "stream": "stdout",
       "text": [
        " \u03b8 = 54.7 \u02da and \u03b8= 125.3 \u02da\n",
        " \u0394E = 2.0*\u03bc\u03b2\n"
       ]
      }
     ],
     "prompt_number": 77
    },
    {
     "cell_type": "heading",
     "level": 2,
     "metadata": {},
     "source": [
      "Example no:15,Page no:464"
     ]
    },
    {
     "cell_type": "code",
     "collapsed": false,
     "input": [
      "#Variable declaration\n",
      "zH=1.0                                                                            #atomic no. of H\n",
      "zHe=2.0                                                                           #atomic no. of He\n",
      "deltaHe=5.84                                                                    #doublet splitting of the first excited state of He (cm-1)\n",
      "\n",
      "#calculation\n",
      "deltaH=deltaHe*(zH/zHe)**4                                                       #doublet splitting for hydrogen atom (cm-1)\n",
      "\n",
      "#Result\n",
      "print\"Doublet splitting for H atom =\",deltaH,\"cm**-1\"\n"
     ],
     "language": "python",
     "metadata": {},
     "outputs": [
      {
       "output_type": "stream",
       "stream": "stdout",
       "text": [
        "Doublet splitting for H atom = 0.365 cm**-1\n"
       ]
      }
     ],
     "prompt_number": 78
    },
    {
     "cell_type": "heading",
     "level": 2,
     "metadata": {},
     "source": [
      "Example no:16,Page no:464"
     ]
    },
    {
     "cell_type": "code",
     "collapsed": false,
     "input": [
      "#Variable declaration\n",
      "z=1                                                                             #atomic no. of hydrogen atom\n",
      "n=2\n",
      "l=1\n",
      "\n",
      "#calculation\n",
      "delta=(5.84*z**4)/(n**3*l*(l+1))                                                  #spin-orbit interaction splitting (cm-1)\n",
      "\n",
      "#Result\n",
      "print\"Spin-orbit interaction splitting =\",delta,\"cm**-1\"\n"
     ],
     "language": "python",
     "metadata": {},
     "outputs": [
      {
       "output_type": "stream",
       "stream": "stdout",
       "text": [
        "Spin-orbit interaction splitting = 0.365 cm**-1\n"
       ]
      }
     ],
     "prompt_number": 20
    }
   ],
   "metadata": {}
  }
 ]
}