{
 "metadata": {
  "name": ""
 },
 "nbformat": 3,
 "nbformat_minor": 0,
 "worksheets": [
  {
   "cells": [
    {
     "cell_type": "heading",
     "level": 1,
     "metadata": {},
     "source": [
      "Chapter 5:Raman Spectra"
     ]
    },
    {
     "cell_type": "heading",
     "level": 2,
     "metadata": {},
     "source": [
      "Example no:1,Page no:592"
     ]
    },
    {
     "cell_type": "code",
     "collapsed": false,
     "input": [
      "  \n",
      "#Variable declaration\n",
      "r=1.21*10**-10                                                                   #internuclear distance (meter)\n",
      "m=2.7*10**-26                                                                    #mass of oxygen atom (kg)\n",
      "h=6.626*10**-34                                                                  #Plank's constant (joule second)\n",
      "c=3.0*10**8                                                                        #speed of light (meter/second)\n",
      "\n",
      "#Calculation\n",
      "def F(j):\n",
      "    wave=B*j*(j+1) \n",
      "    return(wave)\n",
      "import math\n",
      "#(a) moment of inertia\n",
      "mu=m/2.0                                                                          #reduced mass (kg)\n",
      "I=mu*r**2                                                                        #moment of inertia (kg m**2)\n",
      "#(b) rotational constant\n",
      "B=h/(8*math.pi**2*I*c)                                                               #rotational constant (m-1)\n",
      "\n",
      "#(c) wave number\n",
      "waveno=F(1)-F(0)                                                                #wave no. of the line corresponding to the transition J=0 to J=1 (m-1)\n",
      "\n",
      "\n",
      "#Result\n",
      "print\"\\n(a) I = %.3e\"%I,\"kg m**2\\n(b) B =\",round(B,1),\"m-1\\n(c) wave number =\",round(waveno),\"m**-1\"\n"
     ],
     "language": "python",
     "metadata": {},
     "outputs": [
      {
       "output_type": "stream",
       "stream": "stdout",
       "text": [
        "\n",
        "(a) I = 1.977e-46 kg m**2\n",
        "(b) B = 141.5 m-1\n",
        "(c) wave number = 283.0 m**-1\n"
       ]
      }
     ],
     "prompt_number": 107
    },
    {
     "cell_type": "heading",
     "level": 2,
     "metadata": {},
     "source": [
      "Example no:2,Page no:592"
     ]
    },
    {
     "cell_type": "code",
     "collapsed": false,
     "input": [
      "#Variable declaration\n",
      "m=1.6738*10**-27                                                                 #mass of hydrogen atom (kg)\n",
      "r=0.74*10**-10                                                                   #intermolecular distance of hydrogen molecule (meter)\n",
      "h=1.054*10**-34                                                                  #Planck's constant (joule second)\n",
      "e=1.6*10**-19                                                                    #Charge of electron (coulombs)\n",
      "\n",
      "#Calculation\n",
      "def F(j):\n",
      "    energy=a*j*(j+1) \n",
      "    return(energy)\n",
      "mu=m/2.0                                                                          #reduced mass of hydrogen atom (kg)\n",
      "I=mu*r**2                                                                        #moment of inertia of molecule (kg meter**2)\n",
      "a=(h**2)/(2.0*I*e)                                                                   #constant (eV)\n",
      "E0=F(0)                                                                         #energy of level 0 (eV)\n",
      "E1=F(1)                                                                         #energy of level 1 (eV)\n",
      "E2=F(2)                                                                         #energy of level 2 (eV)\n",
      "E3=F(3)                                                                         #energy of level 3 (eV)\n",
      "\n",
      "#Result\n",
      "print\"\\nE0 =\",E0,\"\\nE1 =%.2e\"%E1,\"eV\\nE2 =%.2e\"%E2,\"eV\\nE3 =%.2e\"%E3,\"eV\"\n",
      "print\"NOTE:Wrong answer for E3 in book\"\n"
     ],
     "language": "python",
     "metadata": {},
     "outputs": [
      {
       "output_type": "stream",
       "stream": "stdout",
       "text": [
        "\n",
        "E0 = 0.0 \n",
        "E1 =1.52e-02 eV\n",
        "E2 =4.55e-02 eV\n",
        "E3 =9.09e-02 eV\n",
        "NOTE:Wrong answer for E3 in book\n"
       ]
      }
     ],
     "prompt_number": 108
    },
    {
     "cell_type": "heading",
     "level": 2,
     "metadata": {},
     "source": [
      "Example no:3,Page no:593"
     ]
    },
    {
     "cell_type": "code",
     "collapsed": false,
     "input": [
      "#Variable declaration\n",
      "u=1.68*10**-27                                                                   #mass of hydrogen atom (kg)\n",
      "m1=16.0                                                                           #mass of oxygen atom in terms u\n",
      "m2=1.0                                                                            #mass of hydrogen atom in terms of u\n",
      "I=1.48*10**-47                                                                   #moment of inertia of OH-radical (kg m**2)\n",
      "h_bar=1.054*10**-34                                                              #Planck's constant (joule second)\n",
      "j=5.0                                                                             #energy level of OH-radical\n",
      "c=3.0*10**8                                                                        #speed of light (meter/second)\n",
      "h=6.626*10**-34                                                                  #Plank's constant (joule second)\n",
      "\n",
      "#Calculation\n",
      "import math\n",
      "#(a) internuclear distance\n",
      "mu=((m1*m2)/(m1+m2))*u                                                          #reduced mass of the molecule (kg)\n",
      "r=(math.sqrt(I/mu))*10.0**10                                                            #internuclear distance of molecule (\u00c5)\n",
      "#(b) angular momentum\n",
      "P=h_bar*math.sqrt(j*(j+1))                                                           #angular momentum of molecule (joule second)\n",
      "#(c) angular velocity\n",
      "omega=P/I                                                                       #angular velocity of molecule (radian/second)\n",
      "#(d) wave number\n",
      "B=h/(8*math.pi**2*I*c)                                                               #rotational constant (m-1)\n",
      "no=2*B*(j+1)                                                                    #wave no. of line corresponding to transition j=5 to j=6 (m-1)\n",
      "#(e) energy absorbed\n",
      "E=c*h*no                                                                        #energy absorbed in the transition j=6 to j=5 (joule)\n",
      "\n",
      "#Result\n",
      "print\"\\n(a) r =\",round(r,2),\"\u00c5\\n(b) J =%.2e\"%P,\" joule second\\n\"\n",
      "print\"(c) \u03c9 =%.2e\"%omega,\"rad/s\\n(d) wave number =%.2e\"%no,\"m**-1\\n(e) E =%.1e\"%E,\"J\"\n"
     ],
     "language": "python",
     "metadata": {},
     "outputs": [
      {
       "output_type": "stream",
       "stream": "stdout",
       "text": [
        "\n",
        "(a) r = 0.97 \u00c5\n",
        "(b) J =5.77e-34  joule second\n",
        "\n",
        "(c) \u03c9 =3.90e+13 rad/s\n",
        "(d) wave number =2.27e+04 m**-1\n",
        "(e) E =4.5e-21 J\n"
       ]
      }
     ],
     "prompt_number": 109
    },
    {
     "cell_type": "heading",
     "level": 2,
     "metadata": {},
     "source": [
      "Example no:4,Page no:593"
     ]
    },
    {
     "cell_type": "code",
     "collapsed": false,
     "input": [
      "#Variable declaration\n",
      "h=6.63*10**-34                                                                   #Plank's constant (joule second)\n",
      "v=1.153*10**11                                                                   #Frequency of absorption line (Hz)\n",
      "mu=11.38*10**-27                                                                 #Recuced mass of the molecule (kg)\n",
      "\n",
      "#Calculation\n",
      "import math\n",
      "I=h/(4.0*math.pi**2*v)                                                                 #moment of inertia of CO molecule (kg m**2)\n",
      "r=math.sqrt(I/mu)*10**10                                                              #Internuclear distance (\u00c5)\n",
      "\n",
      "#Result\n",
      "print\"\\n Internuclear distance =\",round(r,2),\" \u00c5\"\n"
     ],
     "language": "python",
     "metadata": {},
     "outputs": [
      {
       "output_type": "stream",
       "stream": "stdout",
       "text": [
        "\n",
        " Internuclear distance = 1.13  \u00c5\n"
       ]
      }
     ],
     "prompt_number": 110
    },
    {
     "cell_type": "heading",
     "level": 2,
     "metadata": {},
     "source": [
      "Example no:5,Page no:594"
     ]
    },
    {
     "cell_type": "code",
     "collapsed": false,
     "input": [
      "#Variable declaration\n",
      "mu=1.62*10**-27                                                                  #Reduced mass of HCL (kg)\n",
      "c=3*10**8                                                                        #Velocity of light (m/s)\n",
      "h=6.62*10**-34                                                                   #Plank's constant (joule second)\n",
      "v1_P=2906.3                                                                     #Wave no. of P branch (cm-1)\n",
      "v2_P=2927.5                                                                     #Wave no. of P branch (cm-1)\n",
      "v3_P=2948.7                                                                     #Wave no. of P branch (cm-1)\n",
      "v4_P=2969.9                                                                     #Wave no. of P branch (cm-1)\n",
      "v1_R=3012.2                                                                     #Wave no. of R branch (cm-1)\n",
      "v2_R=3033.4                                                                     #Wave no. of R branch (cm-1)\n",
      "v3_R=3054.6                                                                     #Wave no. of R branch (cm-1)\n",
      "v4_R=3078.8                                                                     #Wave no. of R branch (cm-1)\n",
      "\n",
      "#Calculation\n",
      "import math\n",
      "#(i) Equilibrium internuclear distance\n",
      "delta_v=v2_P-v1_P                                                               #Separation of successive line of P and R branch (cm-1)\n",
      "B=delta_v/2.0                                                                     #rotational constant (cm-1)\n",
      "I=h/(8.0*math.pi**2*B*10**2*c)                                                          #Moment of inertia (kg m**2)\n",
      "r=math.sqrt(I/mu)*10**10                                                              #Equilibrium internuclear distance (\u00c5)\n",
      "#(ii) Force constant\n",
      "v0=(v4_P+v1_R)/2.0                                                                #Equlibrium frequency (cm-1)\n",
      "k=4*math.pi**2*mu*c**2*v0**2*10**4                                                      #Force constant of HCl (N/m)\n",
      "\n",
      "#Result\n",
      "print\"\\n(i) Equilibrium internuclear distance =\",round(r,2),\"\u00c5\\n(ii) Force constant =\",round(k),\"N/m\"\n",
      "\n",
      "print\"Note: the answer of (ii) part is wrong in the book\"\n"
     ],
     "language": "python",
     "metadata": {},
     "outputs": [
      {
       "output_type": "stream",
       "stream": "stdout",
       "text": [
        "\n",
        "(i) Equilibrium internuclear distance = 1.28 \u00c5\n",
        "(ii) Force constant = 515.0 N/m\n",
        "Note: the answer of (ii) part is wrong in the book\n"
       ]
      }
     ],
     "prompt_number": 111
    },
    {
     "cell_type": "heading",
     "level": 2,
     "metadata": {},
     "source": [
      "Example no:6,Page no:594"
     ]
    },
    {
     "cell_type": "code",
     "collapsed": false,
     "input": [
      "#Variable declaration\n",
      "mu=8.37*10**-28                                                                  #Reducec mass of hydrogen molecule (kg)\n",
      "h=6.58*10**-16                                                                   #Plank's constant (eV s)\n",
      "E0=0.273                                                                        #Ground state vibrational energy of hydrogen molecule (eV)\n",
      "\n",
      "#Calculation\n",
      "k=mu*((2*E0)/h)**2                                                               #force constant of hydrogen molecule (N/m)\n",
      "\n",
      "#Result\n",
      "print\"\\n Force constant =\",round(k),\"N/m\"\n"
     ],
     "language": "python",
     "metadata": {},
     "outputs": [
      {
       "output_type": "stream",
       "stream": "stdout",
       "text": [
        "\n",
        " Force constant = 576.0 N/m\n"
       ]
      }
     ],
     "prompt_number": 112
    },
    {
     "cell_type": "heading",
     "level": 2,
     "metadata": {},
     "source": [
      "Example no:7,Page no:595"
     ]
    },
    {
     "cell_type": "code",
     "collapsed": false,
     "input": [
      "#Variable declaration\n",
      "m1=1.0                                                                            #molar mass of H atom (amu)\n",
      "m2=35.0                                                                           #molar mass of Cl atom (amu)\n",
      "u=1.68*10**-27                                                                   #atomic mass unit (kg)\n",
      "v=2885.9*100                                                                    #wave no. of line (m-1)\n",
      "c=3.0*10**8                                                                        #Velocity of light (m/s)\n",
      "\n",
      "#Calculation\n",
      "mu=((m1*m2)/(m1+m2))*u                                                          #reduced mass of HCl molecule (kg)\n",
      "mu=round(mu,29)\n",
      "k=4*(math.pi*c*v)**2*mu                                                              #force constant of HCl molecule (N/m)\n",
      "\n",
      "#Result\n",
      "print\"Force constant =\",round(k),\"N/m\"\n",
      "print\"NOTE:Approximate value of pi is used in book,that's why different answer\"\n"
     ],
     "language": "python",
     "metadata": {},
     "outputs": [
      {
       "output_type": "stream",
       "stream": "stdout",
       "text": [
        "Force constant = 482.0 N/m\n",
        "NOTE:Approximate value of pi is used in book,that's why different answer\n"
       ]
      }
     ],
     "prompt_number": 113
    },
    {
     "cell_type": "heading",
     "level": 2,
     "metadata": {},
     "source": [
      "Example no:8,Page no:595"
     ]
    },
    {
     "cell_type": "code",
     "collapsed": false,
     "input": [
      "#Variable declaration\n",
      "m1=12.0                                                                           #molar mass of C atom (amu)\n",
      "m2=16.0                                                                           #molar mass of O atom (amu)\n",
      "u=1.68*10**-27                                                                   #atomic mass unit (kg)\n",
      "k=1870.0                                                                          #force constant of CO molecule (N/m)\n",
      "h=6.6*10**-34                                                                    #Plank's constant (joule second)\n",
      "e=1.602*10**-19                                                                  #charge of electron (Coulomb)\n",
      "\n",
      "#Calculation\n",
      "def F(V):\n",
      "    energy=((V+.5)*h*v)/e \n",
      "    return(energy)\n",
      "\n",
      "#def G(V):\n",
      "#    energy=((V+.5)*h*v*8065)/e \n",
      "#    return(energy)\n",
      "import math\n",
      "mu=((m1*m2)/(m1+m2))*u                                                          #reduced mass of CO molecule (kg)\n",
      "v=(1.0/(2.0*math.pi))*math.sqrt(k/mu)                                                        #frequency of vibration of CO molecule (Hz)\n",
      "e1=F(0)                                                                         #energy of 1st level of CO molecule (eV)\n",
      "#E1=G(0)                                                                         #energy of 1st level of CO molecule (cm-1)\n",
      "E1=round(e1,3)*8065\n",
      "e2=F(1)                                                                         #energy of 2nd level of CO molecule (eV)\n",
      "E2=round(e2,3)*8065                                                                         #energy of 2nd level of CO molecule (cm-1)\n",
      "e3=F(2)                                                                         #energy of 3rd level of CO molecule (eV)\n",
      "E3=round(e3,3)*8065                                                                       #energy of 3rd level of CO molecule (cm-1)\n",
      "\n",
      "#Result\n",
      "print\"\\nE = \",round(e1,3),\"eV,\",round(e2,3),\"eV,\",round(e3,3),\"eV.........\\n  =\",E1,\"cm**-1,\",E2,\"cm**-1,\",E3,\"cm**-1.........\" \n"
     ],
     "language": "python",
     "metadata": {},
     "outputs": [
      {
       "output_type": "stream",
       "stream": "stdout",
       "text": [
        "\n",
        "E =  0.132 eV, 0.396 eV, 0.66 eV.........\n",
        "  = 1064.58 cm**-1, 3193.74 cm**-1, 5322.9 cm**-1.........\n"
       ]
      }
     ],
     "prompt_number": 114
    },
    {
     "cell_type": "heading",
     "level": 2,
     "metadata": {},
     "source": [
      "Example no:9,Page no:595"
     ]
    },
    {
     "cell_type": "code",
     "collapsed": false,
     "input": [
      "#Variable declaration\n",
      "mu=1.61*10**-27                                                                  #reduced mass of HCl molecule (kg)\n",
      "c=3*10**8                                                                        #speed of light (m/s)\n",
      "lembda=3.465*10**-6                                                              #wavelength of infrared radiation (m)\n",
      "\n",
      "#Calculation\n",
      "import math\n",
      "v=c/lembda                                                                      #frequency of radiation (s-1)\n",
      "k=4*(math.pi*v)**2*mu                                                                #force constant of HCl molecule (N/m)\n",
      "\n",
      "#Result\n",
      "print\"Force constant =\",round(k),\"N/m\"\n",
      "\n"
     ],
     "language": "python",
     "metadata": {},
     "outputs": [
      {
       "output_type": "stream",
       "stream": "stdout",
       "text": [
        "Force constant = 476.0 N/m\n"
       ]
      }
     ],
     "prompt_number": 115
    },
    {
     "cell_type": "heading",
     "level": 2,
     "metadata": {},
     "source": [
      "Example no:10,Page no:596"
     ]
    },
    {
     "cell_type": "code",
     "collapsed": false,
     "input": [
      "#Variable declaration\n",
      "h=6.6*10**-34                                                                    #Plank's constant (joule second)\n",
      "mu=1.62*10**-27                                                                  #reduced mass of HCl molecule (kg)\n",
      "c=3*10**8                                                                        #speed of light (m/s)\n",
      "v=2.886*10**5                                                                    #wave no. of absorption line in infrared spectrum (m-1)\n",
      "\n",
      "#Calculation\n",
      "import math\n",
      "k=4*(math.pi*c*v)**2*mu                                                              #force constant of HCl molecule (N/m)\n",
      "amp=math.sqrt((h*c*v)/k)*10**10                                                       #amplitude of vibration in the ground state (\u00c5)\n",
      "\n",
      "#Result\n",
      "print\"Amplitude of vibration =\",round(amp,2),\"\u00c5\" \n"
     ],
     "language": "python",
     "metadata": {},
     "outputs": [
      {
       "output_type": "stream",
       "stream": "stdout",
       "text": [
        "Amplitude of vibration = 0.11 \u00c5\n"
       ]
      }
     ],
     "prompt_number": 116
    },
    {
     "cell_type": "heading",
     "level": 2,
     "metadata": {},
     "source": [
      "Example no:11,Page no:596"
     ]
    },
    {
     "cell_type": "code",
     "collapsed": false,
     "input": [
      "\n",
      "#Variable declaration\n",
      "v1=214330.0                                                                       #fundamental band for CO molecule (m-1)\n",
      "v2=425970.0                                                                       #first overtone for CO molecule (m-1)\n",
      "\n",
      "#calculation\n",
      "import numpy as np\n",
      "a=np.array([[1,-2],[2,-6]])\n",
      "b=np.array([v1,v2])\n",
      "x=np.linalg.solve(a,b)\n",
      "we=x[0]\n",
      "wexe=x[1]\n",
      "\n",
      "#Result\n",
      "\n",
      "print\"We find we=\",we,\"m**-\",\"xe.we=\",wexe,\"m**-1\"\n",
      "print\"NOTE:Wrong answer for xe.we in book\""
     ],
     "language": "python",
     "metadata": {},
     "outputs": [
      {
       "output_type": "stream",
       "stream": "stdout",
       "text": [
        "We find we= 217020.0 m**- xe.we= 1345.0 m**-1\n",
        "NOTE:Wrong answer for xe.we in book\n"
       ]
      }
     ],
     "prompt_number": 117
    },
    {
     "cell_type": "heading",
     "level": 2,
     "metadata": {},
     "source": [
      "Example no:12,Page no:596"
     ]
    },
    {
     "cell_type": "code",
     "collapsed": false,
     "input": [
      "#Variable declaration\n",
      "v1=2886.0                                                                       #intense absorption (m-1)\n",
      "v2=5668.0                                                                       #intense absorption (m-1)\n",
      "v3=8347.0                                                                       #intense absorption (m-1)\n",
      "\n",
      "#Calculation\n",
      "import math\n",
      "from numpy.linalg import inv\n",
      "A=np.array([[1,-2],[2,-6]])                                                                   #coefficient matrix\n",
      "b=np.array([[v1],[v2]])                                                                       #right hand side matrix\n",
      "mu=1.61*10**-27                                                                  #reduced mass (kg)\n",
      "c=3*10**8                                                                        #speed of light (m/s)\n",
      "x=np.dot(inv(A),b)                                                                      #values of omega and x*omega (m-1)\n",
      "k=4*(math.pi*c*x[0]*100)**2*mu                                                           #force constant (N/m)\n",
      "\n",
      "#Result\n",
      "print\"we =\",round(x[0]),\"cm**-1\\nxe*we =\",round(x[1]),\"cm**-1\\nforce constant =\",round(k),\"N/m\"\n"
     ],
     "language": "python",
     "metadata": {},
     "outputs": [
      {
       "output_type": "stream",
       "stream": "stdout",
       "text": [
        "we = 2990.0 cm**-1\n",
        "xe*we = 52.0 cm**-1\n",
        "force constant = 511.0 N/m\n"
       ]
      }
     ],
     "prompt_number": 147
    },
    {
     "cell_type": "heading",
     "level": 2,
     "metadata": {},
     "source": [
      "Example no:13,Page no:597"
     ]
    },
    {
     "cell_type": "code",
     "collapsed": false,
     "input": [
      "#Variable declaration\n",
      "v1=8.657*10**13                                                                  #frequency of rotation absorption spectrum (Hz)\n",
      "v2=8.483*10**13                                                                  #frequency of rotation absorption spectrum (Hz)\n",
      "h=6.6*10**-34                                                                    #Plank's constant (joule second)\n",
      "mu=1.544*10**-27                                                                 #Recuced mass of CH molecule (kg)\n",
      "\n",
      "#Calculation\n",
      "#(i) equilibrium separation\n",
      "import math\n",
      "I=h/(2*math.pi**2*(v1-v2))                                                           #Moment of inertia (kg m**2)\n",
      "r=math.sqrt(I/mu)                                                                    #equilibrium internuclear distance (m)\n",
      "#(ii) force constant of molecule\n",
      "v0=(v1+v2)/2.0                                                                    #Central frequency (Hz)\n",
      "k=4*mu*(math.pi*v0)**2                                                               #Force constant of CH molecule (N/m)\n",
      "\n",
      "#Result\n",
      "print\"\\n (i) equilibrium separation =%.2e\"%r,\"m\\n (ii) force constant =\",round(k),\"N/m\"\n"
     ],
     "language": "python",
     "metadata": {},
     "outputs": [
      {
       "output_type": "stream",
       "stream": "stdout",
       "text": [
        "\n",
        " (i) equilibrium separation =1.12e-10 m\n",
        " (ii) force constant = 448.0 N/m\n"
       ]
      }
     ],
     "prompt_number": 118
    },
    {
     "cell_type": "heading",
     "level": 2,
     "metadata": {},
     "source": [
      "Example no:14,Page no:597"
     ]
    },
    {
     "cell_type": "code",
     "collapsed": false,
     "input": [
      "#Variable declaration\n",
      "k=448.0                                                                           #force constant of CH molecule (N/m)\n",
      "mu=4.002*10**-27                                                                 #reduced mass of CH molecule (kg)\n",
      "r=0.112*10**-9                                                                   #internuclear distance (m)\n",
      "h=6.6*10**-34                                                                    #Plank's constant (joule second)\n",
      "\n",
      "#Calculation\n",
      "import math\n",
      "v0=(1/(2*math.pi))*math.sqrt(k/mu)                                                       #central frequency (s-1)\n",
      "I=mu*r**2                                                                        #moment of inertia of molecule (kg m**2)\n",
      "x=h/(4.0*math.pi**2*I)                                                                 #additional frequency (s-1)\n",
      "v1=v0+x                                                                         #peak frequency (Hz)\n",
      "v2=v0-x                                                                         #peak frequency (Hz)\n",
      "\n",
      "#Result\n",
      "print\"\\n Peak frequencies =%.3e\"%v1,\"Hz,%.3e\"%v2,\"Hz\"\n"
     ],
     "language": "python",
     "metadata": {},
     "outputs": [
      {
       "output_type": "stream",
       "stream": "stdout",
       "text": [
        "\n",
        " Peak frequencies =5.358e+13 Hz,5.292e+13 Hz\n"
       ]
      }
     ],
     "prompt_number": 119
    },
    {
     "cell_type": "heading",
     "level": 2,
     "metadata": {},
     "source": [
      "Example no:15,Page no:598"
     ]
    },
    {
     "cell_type": "code",
     "collapsed": false,
     "input": [
      "#Variable declaration\n",
      "v1=2174.07                                                                      #peak wave number (cm-1)\n",
      "v2=2166.35                                                                      #peak wave number (cm-1)\n",
      "h=6.6*10**-34                                                                    #Plank's constant (joule second)\n",
      "c=3*10**8                                                                        #Speed of light (m/s)\n",
      "mu=1.145*10**-26                                                                 #Reduced mass of CO molecule (kg)\n",
      "\n",
      "\n",
      "#Calculation\n",
      "import math\n",
      "#(a) central frequency\n",
      "B=(v1-v2)/4                                                                     #Rotational constant (cm-1)\n",
      "v0=(v1+v2)/2                                                                    #Central frequency (cm-1)\n",
      "#(b) internuclear distance\n",
      "I=h/(8*math.pi**2*B*100*c)                                                           #moment of inertia of molecule (kg m**2)\n",
      "r=math.sqrt(I/mu)*10**10                                                              #equilibrium internuclear distance (\u00c5)\n",
      "#(c) force constant\n",
      "k=4*mu*(math.pi*c*v0*100)**2                                                             #force constant (N/m)\n",
      "\n",
      "#Result\n",
      "\n",
      "print\"\\n(a) central frequency =\",v0,\"cm**-1\\n(b) internuclear distance =\",round(r,2),\"\u00c5\\n(c) force constant =%d\"%k,\"N/m\"\n",
      "print\"NOTE:Wrong answer for 'k' in book\""
     ],
     "language": "python",
     "metadata": {},
     "outputs": [
      {
       "output_type": "stream",
       "stream": "stdout",
       "text": [
        "\n",
        "(a) central frequency = 2170.21 cm**-1\n",
        "(b) internuclear distance = 1.12 \u00c5\n",
        "(c) force constant =1916 N/m\n",
        "NOTE:Wrong answer for 'k' in book\n"
       ]
      }
     ],
     "prompt_number": 120
    },
    {
     "cell_type": "heading",
     "level": 2,
     "metadata": {},
     "source": [
      "Example no:16,Page no:598"
     ]
    },
    {
     "cell_type": "code",
     "collapsed": false,
     "input": [
      "#Variable declaration\n",
      "mu=3.142*10**-27                                                                 #reduced mass of the molecule (kg)\n",
      "r=1.288*10**-10                                                                  #internuclear distance (m)\n",
      "h=6.6*10**-34                                                                    #Plank's constant (joule second)\n",
      "c=3*10**8                                                                        #Speed of light (m/s)\n",
      "v0=201100.0                                                                       #central frequency (m-1)\n",
      "\n",
      "#Calculation\n",
      "import math\n",
      "I=mu*r**2                                                                        #moment of inertia of molecule (kg m**2)\n",
      "B=h/(8.0*math.pi**2*I*c)                                                               #Rotational constant (m-1)\n",
      "vR0=v0+(2*B)                                                                    #wave no. of 1st line of R-branch (m-1)\n",
      "vR1=v0+(4*B)                                                                    #wave no. of 2nd line of R-branch (m-1)\n",
      "vP1=v0-(2*B)                                                                    #wave no. of 1st line of P-branch (m-1)\n",
      "vP2=v0-(4*B)                                                                    #wave no. of 2nd line of P-branch (m-1)\n",
      "\n",
      "#Result\n",
      "print\"\\n V_R(0) =\",round(vR0),\"m**-1\\n V_R(1) =\",round(vR1),\"m**-1\\n V_P(1) =\",round(vP1),\"m**-1\\n V_P(2) =\",round(vP2),\"m**-1\"\n",
      "\n",
      "print\"NOTE:Very approximate value of 'B' is calculated in book,that's why difference in answers\""
     ],
     "language": "python",
     "metadata": {},
     "outputs": [
      {
       "output_type": "stream",
       "stream": "stdout",
       "text": [
        "\n",
        " V_R(0) = 202169.0 m**-1\n",
        " V_R(1) = 203238.0 m**-1\n",
        " V_P(1) = 200031.0 m**-1\n",
        " V_P(2) = 198962.0 m**-1\n",
        "NOTE:Very approximate value of 'B' is calculated in book,that's why difference in answers\n"
       ]
      }
     ],
     "prompt_number": 121
    },
    {
     "cell_type": "heading",
     "level": 2,
     "metadata": {},
     "source": [
      "Example no:17,Page no:599"
     ]
    },
    {
     "cell_type": "code",
     "collapsed": false,
     "input": [
      "#Variable declaration\n",
      "mu=1.62*10**-27                                                                  #reduced mass of HCl molecule (kg)\n",
      "r=1.293*10**-10                                                                  #internuclear distance (m)\n",
      "h=6.6*10**-34                                                                    #Plank's constant (joule second)\n",
      "c=3*10**8                                                                        #Speed of light (m/s)\n",
      "\n",
      "#Calculation\n",
      "I=mu*r**2                                                                        #moment of inertia of molecule (kg m**2)\n",
      "I=round(I,48)\n",
      "\n",
      "B=h/(8*math.pi**2*I*c)                                                               #Rotational constant (m-1)\n",
      "B=round(B)\n",
      "sep=4*B                                                                         #separation b/w lines R(0) and P(1) (m-1)\n",
      "\n",
      "#Result\n",
      "print\"\\n\u0394\u03bd =\",sep,\"m**-1\"\n",
      "print\"NOTE:Note:Again I is wrongly approximated due to which 'B' and thus fina answer does not match\"\n"
     ],
     "language": "python",
     "metadata": {},
     "outputs": [
      {
       "output_type": "stream",
       "stream": "stdout",
       "text": [
        "\n",
        "\u0394\u03bd = 4128.0 m**-1\n",
        "NOTE:Note:Again I is wrongly approximated due to which 'B' and thus fina answer does not match\n"
       ]
      }
     ],
     "prompt_number": 122
    },
    {
     "cell_type": "heading",
     "level": 2,
     "metadata": {},
     "source": [
      "Example no:18,Page no:599"
     ]
    },
    {
     "cell_type": "code",
     "collapsed": false,
     "input": [
      "#Variable declaration\n",
      "import math\n",
      "a=214.6*100                                                                     #(m-1)\n",
      "b=0.6*100                                                                       #(m-1)\n",
      "h=6.62*10**-34                                                                    #Plank's constant (joule second)\n",
      "c=3.0*10**8                                                                        #Speed of light (m/s)\n",
      "no=1.0/(math.e)                                                                       #number of molecules in state with respect to ground state\n",
      "k=1.38*10**-23                                                                   #Boltzmann constant (J K-1)\n",
      "\n",
      "#Calculation\n",
      "deltaE=h*c*(a-2*b)                                                              #difference in the energies of state 0 and state 1 (J)\n",
      "deltaE=round(deltaE,24)\n",
      "T1=deltaE/k                                                                     #temperature at which number of molecules in state 1 is 1/e times of state 0 (K)\n",
      "T2=deltaE/(k*math.log(10.0))                                                           #temperature at which number of molecules in state 1 is 10% of state 0 (K)\n",
      "\n",
      "#Result\n",
      "print\"n(i) T =\",round(T1),\"K\\n(ii) T =\",round(T2),\"K\" \n",
      "print\"NOTE:Calculation mistake in book\""
     ],
     "language": "python",
     "metadata": {},
     "outputs": [
      {
       "output_type": "stream",
       "stream": "stdout",
       "text": [
        "n(i) T = 307.0 K\n",
        "(ii) T = 133.0 K\n",
        "NOTE:Calculation mistake in book\n"
       ]
      }
     ],
     "prompt_number": 123
    },
    {
     "cell_type": "heading",
     "level": 2,
     "metadata": {},
     "source": [
      "Example no:19,Page no:599"
     ]
    },
    {
     "cell_type": "code",
     "collapsed": false,
     "input": [
      "#Variable declaration\n",
      "vexc=4358.0*10**-10                                                                #wavelength of exciting line (m)\n",
      "vsto=4458.0*10**-10                                                                #wavelength of Stokes line (m)\n",
      "\n",
      "#Calculation\n",
      "vbar_exc=1/vexc                                                                 #wave number of exciting line (m-1)\n",
      "vbar_sto=1/vsto                                                                 #wave number of Stokes line (m-1)\n",
      "delta_vbar=vbar_exc-vbar_sto                                                    #Raman shift (m-1)\n",
      "vbar_antistoke=vbar_exc+delta_vbar                                              #Wave number of Anti-Stokes line (m-1)\n",
      "lembda_antistoke=(1/vbar_antistoke)*10**10                                       #Wavelength of Anti-Stokes line (\u00c5)\n",
      "\n",
      "#Result\n",
      "print\"\\nwavelength of Anti-stokes line =\",round(lembda_antistoke,1),\"\u00c5\" \n"
     ],
     "language": "python",
     "metadata": {},
     "outputs": [
      {
       "output_type": "stream",
       "stream": "stdout",
       "text": [
        "\n",
        "wavelength of Anti-stokes line = 4262.4 \u00c5\n"
       ]
      }
     ],
     "prompt_number": 124
    },
    {
     "cell_type": "heading",
     "level": 2,
     "metadata": {},
     "source": [
      "Example no:20,Page no:600"
     ]
    },
    {
     "cell_type": "code",
     "collapsed": false,
     "input": [
      "#Variable declaration\n",
      "h=6.62*10**-34                                                                   #Plank's constant (joule second)\n",
      "c=3.0*10**8                                                                        #Speed of light (m/s)\n",
      "x=62.4*100                                                                      #(m-1)\n",
      "y=41.6*100                                                                      #(m-1)\n",
      "\n",
      "#Calculation\n",
      "import math\n",
      "B=y/4.0                                                                           #Rotational constant of HCl (m-1)\n",
      "I=h/(8*math.pi**2*B*c)                                                               #Moment of inertia (kg m**2)\n",
      "\n",
      "#Result\n",
      "print\"\\n I =%.1e\"%I,\"kg m**2\"\n"
     ],
     "language": "python",
     "metadata": {},
     "outputs": [
      {
       "output_type": "stream",
       "stream": "stdout",
       "text": [
        "\n",
        " I =2.7e-47 kg m**2\n"
       ]
      }
     ],
     "prompt_number": 125
    },
    {
     "cell_type": "heading",
     "level": 2,
     "metadata": {},
     "source": [
      "Example no:21,Page no:"
     ]
    },
    {
     "cell_type": "code",
     "collapsed": false,
     "input": [
      "def F(v):\n",
      "    energy=(((v+.5)*a)-(((v+.5)**2)*b))*h*c \n",
      "    return(energy)\n",
      "#Variable declaration\n",
      "h=6.62*10**-34                                                                   #Plank's constant (joule second)\n",
      "c=3.0*10**8                                                                        #Speed of light (m/s)\n",
      "a=1580.36*100                                                                   #value of \u03c9e (m-1)\n",
      "b=12.07*100                                                                     #value of \u03c9exe (m-1)\n",
      "\n",
      "#Calculation\n",
      "E0=F(0)                                                                         #Zero point energy of the molecule (J)\n",
      "shift=(F(1)-F(0))/(h*c)                                                         #Expected vibrational Raman shift (m-1)\n",
      "\n",
      "#Result\n",
      "print\"\\nZero point energy =%.3e\"%E0,\"J\\nExpected vibrational Raman shift =\",shift/100,\"cm**-1\"\n"
     ],
     "language": "python",
     "metadata": {},
     "outputs": [
      {
       "output_type": "stream",
       "stream": "stdout",
       "text": [
        "\n",
        "Zero point energy =1.563e-20 J\n",
        "Expected vibrational Raman shift = 1556.22 cm**-1\n"
       ]
      }
     ],
     "prompt_number": 126
    }
   ],
   "metadata": {}
  }
 ]
}