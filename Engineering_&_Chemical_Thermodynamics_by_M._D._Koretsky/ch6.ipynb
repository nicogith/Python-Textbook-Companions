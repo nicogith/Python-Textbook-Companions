{
 "metadata": {
  "name": ""
 },
 "nbformat": 3,
 "nbformat_minor": 0,
 "worksheets": [
  {
   "cells": [
    {
     "cell_type": "heading",
     "level": 1,
     "metadata": {},
     "source": [
      "Chapter 6 : Multi component Phase Equillibrium"
     ]
    },
    {
     "cell_type": "heading",
     "level": 2,
     "metadata": {},
     "source": [
      "Example 6.3  Page No : 330"
     ]
    },
    {
     "cell_type": "code",
     "collapsed": false,
     "input": [
      "import math \n",
      "from numpy import *\n",
      "from matplotlib.pyplot import *\n",
      "\n",
      "\n",
      "# Variables\n",
      "slop = -4222.1 ;\n",
      "R = 8.314 ;\n",
      "\n",
      "# Calculations\n",
      "del_h_vap = -R * slop * 10**-3 ;\n",
      "%matplotlib inline\n",
      "\n",
      "def f(x):\n",
      "    return -4222.1 * x + 17.556\n",
      "\n",
      "xdata = linspace(0.0032,0.004,8) ;\n",
      "ydata = f(xdata) ;\n",
      "plot(xdata,ydata) ;\n",
      "xlabel(\"1/T[k**-1]\")\n",
      "ylabel(\"Ln(Psat[kPa])\")\n",
      "suptitle(\"least-squares linear fit\")\n",
      "show()\n",
      "\n",
      "# Results\n",
      "print \"Enthalpy of vapourisation of GaCH3)3 = %.1f kJ/mol\"%(del_h_vap) ;\n"
     ],
     "language": "python",
     "metadata": {},
     "outputs": [
      {
       "output_type": "stream",
       "stream": "stdout",
       "text": [
        "Populating the interactive namespace from numpy and matplotlib\n"
       ]
      },
      {
       "output_type": "stream",
       "stream": "stderr",
       "text": [
        "WARNING: pylab import has clobbered these variables: ['draw_if_interactive', 'new_figure_manager']\n",
        "`%pylab --no-import-all` prevents importing * from pylab and numpy\n"
       ]
      },
      {
       "metadata": {},
       "output_type": "display_data",
       "png": "[encoded data removed]",
       "text": [
        "<matplotlib.figure.Figure at 0x3453bd0>"
       ]
      },
      {
       "output_type": "stream",
       "stream": "stdout",
       "text": [
        "Enthalpy of vapourisation of GaCH3)3 = 35.1 kJ/mol\n"
       ]
      }
     ],
     "prompt_number": 1
    },
    {
     "cell_type": "heading",
     "level": 2,
     "metadata": {},
     "source": [
      "Example 6.5 pageno : 332\n"
     ]
    },
    {
     "cell_type": "code",
     "collapsed": false,
     "input": [
      "# variables\n",
      "MWni = 58.69           #g/mol\n",
      "Psni = 8900            # kg/m**3 \n",
      "Sni = 1.75             # J/m**2  surface tension of solid Ni\n",
      "deltaHfus = -17.48      # kJ/mol\n",
      "Tm = 1728               #K\n",
      "R = 2*10**-9\n",
      "\n",
      "\n",
      "# calculations\n",
      "Uni = MWni/(Psni*1000)\n",
      "T = Tm*(1+((2*Uni*Sni)/(deltaHfus*R)))\n",
      "\n",
      "# results\n",
      "print \"molar density of the solid  %.1e m**3/mol\" %Uni\n",
      "print \"T = %.f K\"%T\n",
      "# incorrect answer in textbook"
     ],
     "language": "python",
     "metadata": {},
     "outputs": [
      {
       "output_type": "stream",
       "stream": "stdout",
       "text": [
        "molar density of the solid  6.6e-06 m**3/mol\n",
        "T = -1139085 K\n"
       ]
      }
     ],
     "prompt_number": 8
    },
    {
     "cell_type": "heading",
     "level": 2,
     "metadata": {},
     "source": [
      "Example 6.8  Page No : 347"
     ]
    },
    {
     "cell_type": "code",
     "collapsed": false,
     "input": [
      "%matplotlib inline\n",
      "\n",
      "from numpy import zeros\n",
      "from matplotlib.pylab import *\n",
      "\n",
      "# Variables\n",
      "MW1 = 119.5 ;\n",
      "MW2 = 58 ;\n",
      "A = [0,4.77,9.83,14.31,19.38,23.27,25.53,25.07,21.55,13.56,0] ;\n",
      "B = [0,.1 , .2 , .3 ,.4 ,.5 ,.6 ,.7 ,.8 ,.9,1] ;\n",
      "\n",
      "C = zeros(11)\n",
      "D = zeros(11)\n",
      "# Calculations\n",
      "print \"    For weight percent  %.3f    del_h_mix = %.1f J/mol\"%(C[0],D[0])\n",
      "for i in range(1,11):\n",
      "    x1 = (B[i] / MW1) / (B[i]/MW1 + (1 - B[i]) / MW2) ;\n",
      "    x2 = 1 - x1 ;\n",
      "    MW = x1 * MW1 + x2 * MW2 ;\n",
      "    del_h_mix = - 1*(A[i]) * MW ;\n",
      "    C[i] = del_h_mix ;\n",
      "    D[i] = x1 ;\n",
      "    print \"    For weight percent  %.3f    del_h_mix = %.1f J/mol\"%(x1,del_h_mix)\n",
      "\n",
      "xdata = D ;\n",
      "ydata = C ;\n",
      "plot(xdata ,ydata) ;\n",
      "xlabel(\"xCHCI3\")\n",
      "ylabel(\"delta Hmix[J/mol]\")\n"
     ],
     "language": "python",
     "metadata": {},
     "outputs": [
      {
       "output_type": "stream",
       "stream": "stdout",
       "text": [
        "Populating the interactive namespace from numpy and matplotlib\n",
        "    For weight percent  0.000    del_h_mix = 0.0 J/mol\n",
        "    For weight percent  0.051    del_h_mix = -291.7 J/mol\n",
        "    For weight percent  0.108    del_h_mix = -635.6 J/mol\n",
        "    For weight percent  0.172    del_h_mix = -981.5 J/mol\n",
        "    For weight percent  0.244    del_h_mix = -1415.4 J/mol\n",
        "    For weight percent  0.327    del_h_mix = -1817.3 J/mol\n",
        "    For weight percent  0.421    del_h_mix = -2142.2 J/mol\n",
        "    For weight percent  0.531    del_h_mix = -2272.9 J/mol\n",
        "    For weight percent  0.660    del_h_mix = -2124.7 J/mol\n",
        "    For weight percent  0.814    del_h_mix = -1465.1 J/mol\n",
        "    For weight percent  1.000    del_h_mix = 0.0 J/mol\n"
       ]
      },
      {
       "output_type": "stream",
       "stream": "stderr",
       "text": [
        "WARNING: pylab import has clobbered these variables: ['f']\n",
        "`%pylab --no-import-all` prevents importing * from pylab and numpy\n"
       ]
      },
      {
       "metadata": {},
       "output_type": "pyout",
       "prompt_number": 2,
       "text": [
        "<matplotlib.text.Text at 0x361ce50>"
       ]
      },
      {
       "metadata": {},
       "output_type": "display_data",
       "png": "[encoded data removed]",
       "text": [
        "<matplotlib.figure.Figure at 0x3453b90>"
       ]
      }
     ],
     "prompt_number": 2
    },
    {
     "cell_type": "heading",
     "level": 2,
     "metadata": {},
     "source": [
      "Example 6.9, Page 349"
     ]
    },
    {
     "cell_type": "code",
     "collapsed": false,
     "input": [
      "from sympy.solvers import solve\n",
      "from sympy import Symbol\n",
      "\n",
      "#Variables\n",
      "cp1 = 27.5    #J/mol-K\n",
      "cp2 = 25      #J/mol-K\n",
      "cp3 = 20      #J/mol-K\n",
      "T1 = 4+273    #K\n",
      "\n",
      "#Calculations\n",
      "#Since only species 2 and 3 are involved,\n",
      "deltaH1_unmix = -160  #J\n",
      "deltaH11_mix = 1100    #J\n",
      "\n",
      "deltaH_mix = deltaH1_unmix+deltaH11_mix    #J\n",
      "T2 = Symbol('T2')\n",
      "Tf = solve(deltaH_mix+235*(T2-T1))\n",
      "\n",
      "#Result\n",
      "print \"The final temperature is\",Tf,\"K\""
     ],
     "language": "python",
     "metadata": {},
     "outputs": [
      {
       "output_type": "stream",
       "stream": "stdout",
       "text": [
        "The final temperature is [273] K\n"
       ]
      }
     ],
     "prompt_number": 2
    },
    {
     "cell_type": "heading",
     "level": 2,
     "metadata": {},
     "source": [
      "Example 6.10  Page No : 353"
     ]
    },
    {
     "cell_type": "code",
     "collapsed": false,
     "input": [
      "# Variables\n",
      "A = [-32669,-31840,-28727,-26978,-24301,-20083,-13113] ;\n",
      "B = [20 ,10 ,5 ,4 ,3 ,2 ,1] ;\n",
      "\n",
      "# Calculations and Results\n",
      "C = zeros(7)\n",
      "D = zeros(7)\n",
      "\n",
      "for i in range(7):\n",
      "    del_h_mix = A[i] / (1. + B[i]) ;\n",
      "    C[i] = del_h_mix ;\n",
      "    D[i] = 1. / (1 + B[i]) ;\n",
      "    print \"For mole fraction %.3f   the entropy of mixing is %.0f J/mol\"%(D[i],C[i])\n"
     ],
     "language": "python",
     "metadata": {},
     "outputs": [
      {
       "output_type": "stream",
       "stream": "stdout",
       "text": [
        "For mole fraction 0.048   the entropy of mixing is -1556 J/mol\n",
        "For mole fraction 0.091   the entropy of mixing is -2895 J/mol\n",
        "For mole fraction 0.167   the entropy of mixing is -4788 J/mol\n",
        "For mole fraction 0.200   the entropy of mixing is -5396 J/mol\n",
        "For mole fraction 0.250   the entropy of mixing is -6075 J/mol\n",
        "For mole fraction 0.333   the entropy of mixing is -6694 J/mol\n",
        "For mole fraction 0.500   the entropy of mixing is -6556 J/mol\n"
       ]
      }
     ],
     "prompt_number": 4
    },
    {
     "cell_type": "heading",
     "level": 2,
     "metadata": {},
     "source": [
      "Example 6.12  Page No : 359"
     ]
    },
    {
     "cell_type": "code",
     "collapsed": false,
     "input": [
      "# Variables\n",
      "x1 = 0.3 ;\n",
      "x2 = 1- x1 ;\n",
      "B11 = -910. ;\n",
      "B22 = -1330. ;\n",
      "B12 = -2005. ;\n",
      "T = 333. ; \t\t\t#[K]\n",
      "P = 10. * 10**5 ;\n",
      "R = 8.314 ;\n",
      "\n",
      "# Calculations and Results\n",
      "v1 = round(R * T /P * 10**6 + B11,-1) ;\t\t\t#....E6.9A\n",
      "print \"     v1 = %g cm**3/mol\"%(v1)\n",
      "\n",
      "V_bar_1 = (R * T / P) * 10**6+ (x1**2 + 2 * x1 * x2) *3.12 * B11 +  x2**2 * B12  - x2**2 * B22 ;\t\t\t#.....E6.9B\n",
      "print \"     V_bar_1 = %.f cm**3/mol\"%(V_bar_1) ;\n",
      "\n",
      "del_v_mix = x1 * x2 * (2 * B12 - B11 - B22) ;\t\t\t#.....E6.9C\n",
      "print \"     del_v = %.f cm**3/mol\"%(del_v_mix);\n",
      "\n",
      "# Note : answer are slightly different because of rounding error."
     ],
     "language": "python",
     "metadata": {},
     "outputs": [
      {
       "output_type": "stream",
       "stream": "stdout",
       "text": [
        "     v1 = 1860 cm**3/mol\n",
        "     V_bar_1 = 990 cm**3/mol\n",
        "     del_v = -372 cm**3/mol\n"
       ]
      }
     ],
     "prompt_number": 28
    },
    {
     "cell_type": "heading",
     "level": 2,
     "metadata": {},
     "source": [
      "Example 6.13  Page No : 360"
     ]
    },
    {
     "cell_type": "code",
     "collapsed": false,
     "input": [
      "from numpy import zeros\n",
      "from matplotlib.pyplot import *\n",
      "\n",
      "# Variables\n",
      "h_H2SO4 = 1.596 ; \t\t\t#[kJ/mol]\n",
      "h_H2O = 1.591 ; \t\t\t#[kJ/mol]\n",
      "C1 = -74.40 ;\n",
      "C2 = 0.561 ;\n",
      "A = [0 ,0.1 , 0.2 ,0.3 ,0.4 ,0.5 ,0.6 ,0.7 ,0.8 ,0.9 ,1] ;\n",
      "B = [1 ,0.9 ,0.8 ,0.7 ,0.6 ,0.5 ,0.4 ,0.3 ,0.2 ,0.1 ,0] ;\n",
      "\n",
      "# Calculations\n",
      "y_data_1 = zeros(11)\n",
      "y_data_2 = zeros(11)\n",
      "x_data = zeros(11)\n",
      "for i in range(11):\n",
      "    H_bar_H2SO4 = h_H2SO4 + C1 * B[i]**2 - 2 * C2 * C1 * A[i] * B[i]**2 ;\n",
      "    H_bar_H2O = h_H2O + C1 * A[i]**2 -C2 * C1 * A[i]**2 * (1 - 2 * B[i]) ;\n",
      "    y_data_1[i] =  H_bar_H2SO4 ;\n",
      "    y_data_2[i] =  H_bar_H2O ;\n",
      "    x_data[i] = A[i] ;\n",
      "\n",
      "plot(x_data,y_data_1) ;\n",
      "plot(x_data,y_data_2) ;\n",
      "xlabel(\"xH2SO4\")\n",
      "ylabel(\"Partial molar enthalpy (J/mol)\")\n",
      "#suptitle(\"Partial molar enthalpies of water and sulfuric acid at 21\u00b0C.\")\n",
      "m = y_data_1[5]  ;\n",
      "s = y_data_2[5]  ;\n",
      "print \"For equimolar mixture del_H_H2SO4 = %.1f kJ/mol   del_H_H2O = %.1f kJ/mol\"%(m,s);\n",
      "show()\n"
     ],
     "language": "python",
     "metadata": {},
     "outputs": [
      {
       "output_type": "stream",
       "stream": "stdout",
       "text": [
        "For equimolar mixture del_H_H2SO4 = -6.6 kJ/mol   del_H_H2O = -17.0 kJ/mol\n"
       ]
      },
      {
       "metadata": {},
       "output_type": "display_data",
       "png": "[encoded data removed]",
       "text": [
        "<matplotlib.figure.Figure at 0x3613750>"
       ]
      }
     ],
     "prompt_number": 3
    },
    {
     "cell_type": "heading",
     "level": 2,
     "metadata": {},
     "source": [
      "Example 6.16  Page No : 365"
     ]
    },
    {
     "cell_type": "code",
     "collapsed": false,
     "input": [
      "%matplotlib inline\n",
      "\n",
      "from matplotlib.pyplot import *\n",
      "\n",
      "# Variables\n",
      "C1 = 1.596 ;\n",
      "C2 = 1.591 ;\n",
      "C3 = -74.40 ;\n",
      "C4 = -0.561 ;\n",
      "A = [ 0 ,0.1 ,0.2 ,0.3 ,0.4 ,0.5 ,0.6 ,0.7 ,0.8 ,0.9 ,1] ;\n",
      "m = (-C1 + C2 + C3 * ( C4 * 0.25)) * 1000 ;\n",
      "\n",
      "# Calculations\n",
      "C = zeros(11)\n",
      "for i in range(11):\n",
      "    x_H2O = A[i] ;\n",
      "    x_H2SO4 = 1- x_H2O ;\n",
      "    h = C1 * x_H2SO4 + C2 * x_H2O + C3 * x_H2SO4 * x_H2O *(1 + C4 * x_H2SO4) ;\n",
      "    C[i] = h * 10**3;\n",
      "\n",
      "y1 = C[5]\n",
      "\n",
      "def f613(x):\n",
      "    return -m * (x - 0.5 ) + y1 ;\n",
      "\n",
      "F = zeros(11)\n",
      "for i in range(11):\n",
      "    F[i] = f613(A[i]) ;\n",
      "\n",
      "# Results\n",
      "plot(A,C);\n",
      "plot(A,F)\n",
      "plot(0.5,-12000,\"go\")\n",
      "xlabel(\"XH2O\")\n",
      "ylabel(\"h(J/mol)\")\n",
      "suptitle(\"Graphical determination of values for the partial molar enthalpies of sulfuric acid and water\")\n",
      "\n",
      "print \"The partial molar property can be obtained by drawing tangent at mole fraction 0.5 .\"\n",
      "\n",
      "show()\n"
     ],
     "language": "python",
     "metadata": {},
     "outputs": [
      {
       "output_type": "stream",
       "stream": "stdout",
       "text": [
        "Populating the interactive namespace from numpy and matplotlib\n",
        "The partial molar property can be obtained by drawing tangent at mole fraction 0.5 .\n"
       ]
      },
      {
       "output_type": "stream",
       "stream": "stderr",
       "text": [
        "WARNING: pylab import has clobbered these variables: ['draw_if_interactive']\n",
        "`%pylab --no-import-all` prevents importing * from pylab and numpy\n"
       ]
      },
      {
       "metadata": {},
       "output_type": "display_data",
       "png": "[encoded data removed]",
       "text": [
        "<matplotlib.figure.Figure at 0x7f36783f0250>"
       ]
      }
     ],
     "prompt_number": 5
    }
   ],
   "metadata": {}
  }
 ]
}