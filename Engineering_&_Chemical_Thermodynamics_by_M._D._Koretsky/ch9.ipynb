{
 "metadata": {
  "name": ""
 },
 "nbformat": 3,
 "nbformat_minor": 0,
 "worksheets": [
  {
   "cells": [
    {
     "cell_type": "heading",
     "level": 1,
     "metadata": {},
     "source": [
      "Chapter 9 : Chemical reaction Equilibria"
     ]
    },
    {
     "cell_type": "heading",
     "level": 2,
     "metadata": {},
     "source": [
      "Example 9.1  Page No : 570"
     ]
    },
    {
     "cell_type": "code",
     "collapsed": false,
     "input": [
      "# Variables\n",
      "n_o_CH3OH = 1. ; \t\t\t#[mol]\n",
      "n_o_H2O = 3.     \t\t\t#[mol]\n",
      "S = 0.87 ;\n",
      "\n",
      "# Calculations\n",
      "n_CH3OH = 1 - S ;\n",
      "n_H2O = 2 - S ;\n",
      "n_CO2 = S ;\n",
      "n_H2 = 3 * S ;\n",
      "n_v = n_CH3OH + n_CO2 + n_H2O + n_H2 ; \n",
      "y_H2 = n_H2 / n_v ;\n",
      "\n",
      "# Results\n",
      "print \"No of moles of H2 produced for 1mol of CH3OH = %.3f mol\" %( n_H2)\n",
      "print \"Mole fraction of H2 = %.2f\" %( y_H2) ;\n"
     ],
     "language": "python",
     "metadata": {},
     "outputs": [
      {
       "output_type": "stream",
       "stream": "stdout",
       "text": [
        "No of moles of H2 produced for 1mol of CH3OH = 2.610 mol\n",
        "Mole fraction of H2 = 0.55\n"
       ]
      }
     ],
     "prompt_number": 1
    },
    {
     "cell_type": "heading",
     "level": 2,
     "metadata": {},
     "source": [
      "Example 9.2  Page No : 574"
     ]
    },
    {
     "cell_type": "code",
     "collapsed": false,
     "input": [
      "import math\n",
      "\n",
      "# Variables\n",
      "del_gf_0_CO2 = -394.36 ; \t\t\t#[kJ/mol],From Appendix A.3\n",
      "del_gf_0_H2 = 0 ; \t\t\t#[kJ/mol],From Appendix A.3\n",
      "del_gf_0_H2O = -228.57 ; \t\t\t#[kJ/mol],From Appendix A.3\n",
      "del_gf_0_CH3OH = -161.96 ; \t\t\t#[kJ/mol],From Appendix A.3\n",
      "n_CO2 = 1 ;\n",
      "n_H2 = 3 ;\n",
      "n_CH3OH = 1 ;\n",
      "n_H2O = 1 ;\n",
      "T = 298.15 ;\t\t\t#[K]\n",
      "R = 8.314 ; \t\t\t#[J/molK]\n",
      "\n",
      "# Calculations\n",
      "del_g0_rxn = (n_CO2 * del_gf_0_CO2 + n_H2 * del_gf_0_H2 - n_H2O * del_gf_0_H2O - n_CH3OH * del_gf_0_CH3OH) * 10**3 ; \t\t\t# [J/mol]\n",
      "K_298 = math.exp( - del_g0_rxn / (R * T)) ;\n",
      "\n",
      "# Results\n",
      "print \"The equillibrium constant K298 = %.2f \"%(K_298) ;\n"
     ],
     "language": "python",
     "metadata": {},
     "outputs": [
      {
       "output_type": "stream",
       "stream": "stdout",
       "text": [
        "The equillibrium constant K298 = 4.69 \n"
       ]
      }
     ],
     "prompt_number": 6
    },
    {
     "cell_type": "heading",
     "level": 2,
     "metadata": {},
     "source": [
      "Example 9.3 page no : 575"
     ]
    },
    {
     "cell_type": "code",
     "collapsed": false,
     "input": [
      "import math\n",
      "\n",
      "# Variables\n",
      "K_298 = 4.69\n",
      "\n",
      "# calculations\n",
      "deltaH =  (-393.51) +  3 * 0 - (-241.82) - (-200.66) \n",
      "lnK333_469 = round((-deltaH*1000/8.314 )*(1./333 - 1./298),2)\n",
      "lnK333 = lnK333_469 + math.log(K_298)\n",
      "K333 = math.e**lnK333\n",
      "\n",
      "# Results\n",
      "print \"Equilibrium constant = %.2f \"%K333\n",
      "\n",
      "# Note: answer is slightly different because of rounding off error."
     ],
     "language": "python",
     "metadata": {},
     "outputs": [
      {
       "output_type": "stream",
       "stream": "stdout",
       "text": [
        "Equilibrium constant = 37.54 \n"
       ]
      }
     ],
     "prompt_number": 1
    },
    {
     "cell_type": "heading",
     "level": 2,
     "metadata": {},
     "source": [
      "Example 9.4  Page No : 577"
     ]
    },
    {
     "cell_type": "code",
     "collapsed": false,
     "input": [
      "import math\n",
      "# Variables\n",
      "del_gf_0_CH2O = -110.0 ; \t\t\t#[kJ/mol],From Appendix A.2 & A.3\n",
      "del_gf_0_H2 = 0 ; \t\t\t#[kJ/mol],From Appendix A.2 & A.3\n",
      "del_gf_0_CH4O = -162.0 ; \t\t\t#[kJ/mol],From Appendix A.2 & A.3\n",
      "del_hf_0_CH2O = -116.0 ; \t\t\t#[kJ/mol],From Appendix A.2 & A.3\n",
      "del_hf_0_H2 = 0 ; \t\t\t#[kJ/mol],From Appendix A.2 & A.3\n",
      "del_hf_0_CH4O = -200.7 ; \t\t\t#[kJ/mol],From Appendix A.2 & A.3n_CH20 = 1 ;\n",
      "n_H2 = 1. ;\n",
      "n_CH4O = 1. ;\n",
      "n_CH2O = 1. ;\n",
      "T1 = 298.   \t\t\t#[K]\n",
      "T2 = 873. ; \t\t\t# [K]\n",
      "R = 8.314 ; \t\t\t#[J/molK]\n",
      "Del_A = 3.302 ;\n",
      "Del_B = -4.776 * 10**-3 ;\n",
      "Del_C = 1.57 * 10**-6 ;\n",
      "Del_D = 0.083 * 10**5 ;  \n",
      "\n",
      "# Calculations and Results\n",
      "del_g_rxn_298 = n_CH2O * del_gf_0_CH2O + n_H2 * del_gf_0_H2 - n_CH4O * del_gf_0_CH4O ;\n",
      "K_298 = math.exp( - del_g_rxn_298 * 10**3 / (R * T1)) ;\n",
      "print \"a) K_298 = %.2e    As the equilibrium constant is very small very little amount of\\\n",
      " formaldehyde will be formed .\"%(K_298) ;\n",
      "\n",
      "#Solution(b)\n",
      "del_h_rxn_298 = (n_CH2O * del_hf_0_CH2O + n_H2 * del_hf_0_H2 - n_CH4O * del_hf_0_CH4O) * 10**3 ;\t\t\t#[J/mol]\n",
      "K_873 = K_298 * math.exp((-del_h_rxn_298  * (1/T2 - 1/T1)) / R) ;\n",
      "print \"b)            i)  K_873 = %.2f \"%(K_873) ;\n",
      "\n",
      "#Solution(c)\n",
      "x =  ( -del_h_rxn_298 / R + Del_A * T1 + Del_B / 2 * T1**2 + Del_C /3 * T1**3 - Del_D / T1 ) *(1/T2 - 1/T1) + Del_A * math.log(T2 / T1) + Del_B / 2 * (T2 -T1) + Del_C / 6 * (T2**2 -T1**2) + Del_D / 2 * (1/(T2**2) -1/(T1**2)) ;\n",
      "K_873 = K_298 * math.exp(x) ;\n",
      "print \"             ii)  K_873 = %.2f \"%(K_873) ;\n",
      "\n",
      "# Note : answer are slightly different because of rounding off error."
     ],
     "language": "python",
     "metadata": {},
     "outputs": [
      {
       "output_type": "stream",
       "stream": "stdout",
       "text": [
        "a) K_298 = 7.67e-10    As the equilibrium constant is very small very little amount of formaldehyde will be formed .\n",
        "b)            i)  K_873 = 4.61 \n",
        "             ii)  K_873 = 8.71 \n"
       ]
      }
     ],
     "prompt_number": 5
    },
    {
     "cell_type": "heading",
     "level": 2,
     "metadata": {},
     "source": [
      "Example 9.6  Page No : 581"
     ]
    },
    {
     "cell_type": "code",
     "collapsed": false,
     "input": [
      "# Variables\n",
      "import math\n",
      "del_g0_f_C6H6 = -32.84 ; \t\t\t#[kJ/mol] , From Table E9.6\n",
      "del_g0_f_C2H4 = 68.15 ; \t\t\t#[kJ/mol] , From Table E9.6\n",
      "del_g0_f_H2 = 0 ;  \t\t\t        #[kJ/mol] , From Table E9.6\n",
      "del_h0_f_C6H6 = -84.68 ; \t\t\t#[kJ/mol] , From Table E9.6\n",
      "del_h0_f_C2H4 = 52.26 ; \t\t\t#[kJ/mol] , From Table E9.6\n",
      "del_h0_f_H2 = 0 ;  \t\t\t        #[kJ/mol] , From Table E9.6\n",
      "T1 = 298.2 ;\t\t\t            #[K]\n",
      "P = 1.                  \t\t\t#[bar]\n",
      "R = 8.31 ;\n",
      "T2 = 1273.               \t\t\t# [K]\n",
      "\n",
      "# Calculations\n",
      "del_g0_f_rxn = del_g0_f_C2H4 + del_g0_f_H2 - del_g0_f_C6H6 ;\n",
      "K_298 = math.exp ( - (del_g0_f_rxn * 10**3) / (R * T1)) ;\n",
      "del_h0_f_rxn = (del_h0_f_C2H4 + del_h0_f_H2 - del_h0_f_C6H6) * 10**3 ;\n",
      "K_1273 = K_298 * math.exp( - del_h0_f_rxn / R * (1/T2 - 1/T1)) ;\n",
      "x = math.sqrt( K_1273 / ( K_1273 + P)) ;\n",
      "\n",
      "# Results\n",
      "print \"n_C2H6 = %.2f mol     n_C2H4 = %.2f mol     n_H2 = %.2f mol\"%(1-x,x,x) ;\n"
     ],
     "language": "python",
     "metadata": {},
     "outputs": [
      {
       "output_type": "stream",
       "stream": "stdout",
       "text": [
        "n_C2H6 = 0.09 mol     n_C2H4 = 0.91 mol     n_H2 = 0.91 mol\n"
       ]
      }
     ],
     "prompt_number": 1
    },
    {
     "cell_type": "heading",
     "level": 2,
     "metadata": {},
     "source": [
      "Example 9.7  Page No : 583"
     ]
    },
    {
     "cell_type": "code",
     "collapsed": false,
     "input": [
      "from matplotlib.pyplot import *\n",
      "from numpy import *\n",
      "from scipy.integrate import *\n",
      "import math \n",
      "\n",
      "\n",
      "# Variables\n",
      "del_h0_f_NH3 = -46.11 ; \t\t\t# [kJ/mol],From table E9.7\n",
      "del_h0_f_N2 = 0          \t\t\t# [kJ/mol],From table E9.7\n",
      "del_h0_f_H2 = 0 ; \t\t        \t# [kJ/mol],From table E9.7\n",
      "del_g0_f_NH3 = -16.45 ; \t\t\t# [kJ/mol],From table E9.7\n",
      "del_g0_f_N2 = 0 ; \t\t        \t# [kJ/mol],From table E9.7\n",
      "del_g0_f_H2 = 0 ; \t\t\t        # [kJ/mol],From table E9.7\n",
      "n_NH3 = 2. ;\n",
      "n_N2 = -1. ;\n",
      "n_H2 = -3. ;\n",
      "A_NH3 = 3.578 \n",
      "B_NH3 = 3.02 * 10**-3\n",
      "D_NH3 = -0.186 * 10**5 ; \n",
      "A_N2 = 3.280\n",
      "B_N2 = 0.593 * 10**-3\n",
      "D_N2 = 0.040 * 10**5 ;\n",
      "A_H2 = 3.249\n",
      "B_H2 = 0.422 * 10**-3\n",
      "D_H2 = 0.083 * 10**5 ;\n",
      "R = 8.314 ;\n",
      "T = 298. ;\n",
      "T2 = 773. ;\n",
      "P = 1. ; \t\t\t#[bat]\n",
      "\n",
      "# Calculations\n",
      "Del_h0_rxn = (n_NH3 * del_h0_f_NH3 + n_N2 * del_h0_f_N2 + n_H2 * del_h0_f_H2) * 10**3 ;\n",
      "Del_g0_rxn = (n_NH3 * del_g0_f_NH3 + n_N2 * del_g0_f_N2 + n_H2 * del_g0_f_H2) * 10**3 ;\n",
      "del_A = n_NH3 * A_NH3 + n_N2 * A_N2 + n_H2 * A_H2 ;\n",
      "del_B = n_NH3 * B_NH3 + n_N2 * B_N2 + n_H2 * B_H2 ;\n",
      "del_D = n_NH3 * D_NH3 + n_N2 * D_N2 + n_H2 * D_H2 ;\n",
      "\n",
      "K_298 = math.exp( - Del_g0_rxn / ( R * T)) ;\n",
      "K_T = K_298 * math.exp( - Del_h0_rxn / R * (1 / T2 - 1 / T)) ;\n",
      "A = K_T * P**2 *27 -16 ;\n",
      "B = 64 - K_T * P**2 * 108 ;\n",
      "C = -64 + K_T * P**2 * 162 ;\n",
      "D = -108 * K_T * P**2 ;\n",
      "E = 27 * K_T * P**2 ;\n",
      "\n",
      "\n",
      "mycoeff =[E , D ,C , B ,A];\n",
      "M = roots([A,B,C,D,E]);\n",
      "\n",
      "for i in range(3):\n",
      "    ans = isreal(M[i]) ;\n",
      "    if ans == True:\n",
      "        y = M[i] / M[i+1] - 1 ;\n",
      "        ans = sign(y) ;\n",
      "        \n",
      "        if ans == 1 :\n",
      "            x = M[i]\n",
      "        else:\n",
      "            x = M[i+1]\n",
      "            \n",
      "# Results\n",
      "print \"a)Extent of reaction = %.3f \"%(x);\n",
      "\n",
      "#(b)\n",
      "X = (-Del_h0_rxn  / R + del_A * T + del_B / 2 * T**2 - del_D / T) * (1/T2 - 1/T) + del_A * math.log(T2 / T) + del_B / 2 * (T2 - T) + del_D / 2 * (1/(T2**2) - 1/(T**2) );\n",
      "K_T = K_298 * math.exp(X) ;\n",
      "\n",
      "A = K_T * P**2 *27 -16 ;\n",
      "B = 64 - K_T * P**2 * 108 ;\n",
      "C = -64 + K_T * P**2 * 162 ;\n",
      "D = -108 * K_T * P**2 ;\n",
      "E = 27 * K_T * P**2 ;\n",
      "\n",
      "mycoeff =[E , D ,C , B ,A];\n",
      "M1 = roots([A,B,C,D,E]);\n",
      "\n",
      "for i in range(3):\n",
      "    ans = isreal(M1[i])\n",
      "    if ans == True :\n",
      "        y = M1[i] / M1[i+1] - 1 ;\n",
      "        ans = sign(y) ;\n",
      "        if ans == True:\n",
      "            x1 = M1[i]\n",
      "        else:\n",
      "            x1 = M1[i+1]\n",
      "\n",
      "print \"b)  Extent of reaction = %.3f\"%(x1);\n",
      "print \"Under these conditions we do not expect to produce an appreciable amount of ammonia .\"\n"
     ],
     "language": "python",
     "metadata": {},
     "outputs": [
      {
       "output_type": "stream",
       "stream": "stdout",
       "text": [
        "a)Extent of reaction = 0.005 \n",
        "b)  Extent of reaction = 0.003\n",
        "Under these conditions we do not expect to produce an appreciable amount of ammonia .\n"
       ]
      }
     ],
     "prompt_number": 10
    },
    {
     "cell_type": "heading",
     "level": 2,
     "metadata": {},
     "source": [
      "Example 9.9  Page No : 585"
     ]
    },
    {
     "cell_type": "code",
     "collapsed": false,
     "input": [
      "from scipy.optimize import fsolve \n",
      "import math\n",
      "\n",
      "# Variables\n",
      "K_T = 1.51 * 10**-5 ;\n",
      "P = 300.  ; \t\t\t#[bar]\n",
      "T = 500 + 273.2 ; \t\t\t#[K]\n",
      "R = 8.314 ;\n",
      "\n",
      "# Calculations and Results\n",
      "def f991(k):\n",
      "    return ((2 * k)**2 * (4 - 2 * k)**2 / ((1 - k) * (3 - 3*k)**3)) * P**-2 - K_T \n",
      "\n",
      "z1 = fsolve(f991,0.3)[0]\n",
      "\n",
      "print \"a) Extent of reaction = %.2f \"%(z1);\n",
      "\n",
      "P_c = [111.3 * 101325 , 33.5 * 101325 , 12.8 * 101325] ;\n",
      "T_c = [405.5 , 126.2 , 33.3] ;\n",
      "\n",
      "a = zeros(3)\n",
      "b = zeros(3)\n",
      "V = zeros(3)\n",
      "sai = zeros(3)\n",
      "for i in range(3):\n",
      "    a[i] = 27./ 64 * (R * T_c[i])**2 / P_c[i] ;\n",
      "    b[i] = (R * T_c[i]) / (8 * P_c[i]) ;\n",
      "   \n",
      "    def f992(v):\n",
      "        return  (R * T) / (v - b[i]) - a[i] / (v**2) - P * 100000 ;\n",
      "    V[i] = fsolve(f992,.0002)\n",
      "    sai[i] = math.exp( - math.log((V[i] - b[i]) * P * 10**5/ ( R * T)) + b[i] / (V[i] - b[i]) - 2 * a[i] / (R * T * V[i])) ;\n",
      "\n",
      "def f993(k):\n",
      "    return ((2 * k)**2 * sai[0]**2 * (4 - 2 * k)**2 * 3 / ((1 - k) * sai[1]* (3 - 3*k)**3 * sai[2]**3 ))* P**-2  - K_T \n",
      "\n",
      "z2 = fsolve(f993,0.3)\n",
      "\n",
      "x = (z1 - z2) / z1 * 100 ;\n",
      "\n",
      "print \"b)        Extent of reaction = %.2f \"%(z2);\n",
      "print \" A correction of about   %d%% is observed from accounting for nonideal behaviour . \"%(x)\n"
     ],
     "language": "python",
     "metadata": {},
     "outputs": [
      {
       "output_type": "stream",
       "stream": "stdout",
       "text": [
        "a) Extent of reaction = 0.37 \n",
        "b)        Extent of reaction = 0.33 \n",
        " A correction of about   11% is observed from accounting for nonideal behaviour . \n"
       ]
      }
     ],
     "prompt_number": 8
    },
    {
     "cell_type": "heading",
     "level": 2,
     "metadata": {},
     "source": [
      "Example 9.10  Page No : 586"
     ]
    },
    {
     "cell_type": "code",
     "collapsed": false,
     "input": [
      "# Variables\n",
      "import math\n",
      "del_g0_f_1 = 31.72 ; \t\t\t#[kJ/mol]\n",
      "del_g0_f_2 = 26.89 ; \t\t\t#[kJ/mol]\n",
      "R = 8.314 ;\n",
      "T = 298 ;\t\t\t#[K]\n",
      "\n",
      "# Calculations\n",
      "del_g0_rxn = del_g0_f_2 - del_g0_f_1 ;\n",
      "K = math.exp( - del_g0_rxn * 10**3 / (R * T) ) ;\n",
      "x = K / (1 + K) ;\n",
      "\n",
      "# Results\n",
      "print \"x = %.3f  \\nAt equilibrium %.1f %% of the liquid exists as cyclohexane.\"%(x ,x * 100) ;\n"
     ],
     "language": "python",
     "metadata": {},
     "outputs": [
      {
       "output_type": "stream",
       "stream": "stdout",
       "text": [
        "x = 0.875  \n",
        "At equilibrium 87.5 % of the liquid exists as cyclohexane.\n"
       ]
      }
     ],
     "prompt_number": 3
    },
    {
     "cell_type": "heading",
     "level": 2,
     "metadata": {},
     "source": [
      "Example 9.11  Page No : 587"
     ]
    },
    {
     "cell_type": "code",
     "collapsed": false,
     "input": [
      "# Variables\n",
      "import math\n",
      "del_g0_f_CaCO3 = -951.25 ;\n",
      "del_g0_f_CaO = -531.09 ;\n",
      "del_g0_f_CO2 = -395.81 ;\n",
      "R = 8.314 ;\n",
      "T = 1000. ;\t\t\t# [K]\n",
      "\n",
      "# Calculations\n",
      "del_g0_rxn = del_g0_f_CaO + del_g0_f_CO2 - del_g0_f_CaCO3 ;\n",
      "K = math.exp(-del_g0_rxn * 10**3 / (R * T)) ;\n",
      "p_CO2 = K ;\n",
      "\n",
      "# Results\n",
      "print \"Equilibrium pressure = %.3f bar \"%(p_CO2) ;\n"
     ],
     "language": "python",
     "metadata": {},
     "outputs": [
      {
       "output_type": "stream",
       "stream": "stdout",
       "text": [
        "Equilibrium pressure = 0.053 bar \n"
       ]
      }
     ],
     "prompt_number": 10
    },
    {
     "cell_type": "heading",
     "level": 2,
     "metadata": {},
     "source": [
      "Example 9.12  Page No : 588"
     ]
    },
    {
     "cell_type": "code",
     "collapsed": false,
     "input": [
      "# Variables\n",
      "import math\n",
      "del_g0_f_B = 124.3 ; \t\t\t#[kJ/mol] , From Appendix A.3\n",
      "del_g0_f_Ac = 209.2 ; \t\t\t#[kJ/mol] , From Appendix A.3\n",
      "R = 8.314 ;\n",
      "T = 298. ; \t\t\t# [K]\n",
      "A = 9.2806 ;\n",
      "B = 2788.51 ;\n",
      "C = -52.36 ;\n",
      "\n",
      "# Calculations\n",
      "del_g0_rxn = del_g0_f_B - 3 * del_g0_f_Ac ;\n",
      "K = math.exp( - del_g0_rxn * 10**3 / (R * T)) ;\n",
      "P = 1 / K**(1./3) ;\n",
      "X = A - B / (T + C) ;\n",
      "P_b = math.exp(X) ;\n",
      "\n",
      "# Results\n",
      "print (\"At equilibrium , the cylinder is almost completely filled with Benzene .\")\n",
      "print \"System pressure = %.3f bar \"%(P_b)\n"
     ],
     "language": "python",
     "metadata": {},
     "outputs": [
      {
       "output_type": "stream",
       "stream": "stdout",
       "text": [
        "At equilibrium , the cylinder is almost completely filled with Benzene .\n",
        "System pressure = 0.126 bar \n"
       ]
      }
     ],
     "prompt_number": 11
    },
    {
     "cell_type": "heading",
     "level": 2,
     "metadata": {},
     "source": [
      "Example 9.13  Page No : 596"
     ]
    },
    {
     "cell_type": "code",
     "collapsed": false,
     "input": [
      "# Variables\n",
      "import math\n",
      "E_0_c = 0.153 ; \t\t\t#[V]\n",
      "E_0_a = -0.521 ; \t\t\t# [v]\n",
      "T = 298. ; \t\t\t#[K]\n",
      "z = 1. ;\n",
      "F =96485 ; \t\t\t#[C/mol e-]\n",
      "R =8.314 ; \t\t\t#[J/mol K ]\n",
      "\n",
      "# Calculations\n",
      "E_0_rxn = E_0_c + E_0_a ;\n",
      "del_g_0_rxn = - z * F * E_0_rxn ;\n",
      "\n",
      "K = math.exp( - del_g_0_rxn / ( R * T )) ;\n",
      "\n",
      "# Results\n",
      "print \"The equilibrium constant = %.3g \"%(K)\n",
      "print \"The equilibrium constant is small . So the etching will not proceed\\\n",
      " spontaneously . However if we apply work through application of an electrical potential\\\n",
      "  , we can etch the copper .\"\n",
      "\n",
      "# Note: answer is slightly different because of rounding off error."
     ],
     "language": "python",
     "metadata": {},
     "outputs": [
      {
       "output_type": "stream",
       "stream": "stdout",
       "text": [
        "The equilibrium constant = 5.97e-07 \n",
        "The equilibrium constant is small . So the etching will not proceed spontaneously . However if we apply work through application of an electrical potential  , we can etch the copper .\n"
       ]
      }
     ],
     "prompt_number": 5
    },
    {
     "cell_type": "heading",
     "level": 2,
     "metadata": {},
     "source": [
      "Example 9.14  Page No : 596"
     ]
    },
    {
     "cell_type": "code",
     "collapsed": false,
     "input": [
      "# Variables\n",
      "import math\n",
      "E_0_c = 0.34 ; \t\t\t#[V]\n",
      "E_0_a = -1.23 \t\t\t#[V]\n",
      "T = 298. ;   \t\t\t# [K]\n",
      "pH = 1. ;\n",
      "z = 2. ;\n",
      "Cu2 = 0.07\n",
      "F = 96485. \t    \t\t#[C/mol e-]\n",
      "R = 8.314 ;\n",
      "\n",
      "# Calculations\n",
      "E_0_rxn = E_0_c + E_0_a ;\n",
      "E = E_0_rxn + 2.303 * R * T * 2 * pH / (z * F) + R * T * math.log(Cu2) / (z * F) ;\n",
      "\n",
      "# Results\n",
      "print \"Del_E_0_rxn = %.2f \"%(E_0_rxn ) ;\n",
      "print \"We have to apply potential greater than %.1f V\"%(-E) ;\n"
     ],
     "language": "python",
     "metadata": {},
     "outputs": [
      {
       "output_type": "stream",
       "stream": "stdout",
       "text": [
        "Del_E_0_rxn = -0.89 \n",
        "We have to apply potential greater than 0.9 V\n"
       ]
      }
     ],
     "prompt_number": 12
    },
    {
     "cell_type": "heading",
     "level": 2,
     "metadata": {},
     "source": [
      "Example 9.17  Page No : 602"
     ]
    },
    {
     "cell_type": "code",
     "collapsed": false,
     "input": [
      "# Variables\n",
      "m = 4. ;\n",
      "T = 2. ;\n",
      "Pai = 1. ;\n",
      "S = 1. ;\n",
      "\n",
      "# Calculations\n",
      "R = m - T + 2 - Pai - S ;\n",
      "\n",
      "# Results\n",
      "print \"We must specify %g independent equations .\"%(R)\n"
     ],
     "language": "python",
     "metadata": {},
     "outputs": [
      {
       "output_type": "stream",
       "stream": "stdout",
       "text": [
        "We must specify 2 independent equations .\n"
       ]
      }
     ],
     "prompt_number": 14
    },
    {
     "cell_type": "heading",
     "level": 2,
     "metadata": {},
     "source": [
      "Example 9.19  Page No : 603"
     ]
    },
    {
     "cell_type": "code",
     "collapsed": false,
     "input": [
      "%matplotlib inline\n",
      "\n",
      "from numpy import *\n",
      "from scipy.optimize import fsolve \n",
      "from matplotlib.pyplot import *\n",
      "import math \n",
      "\n",
      "# Variables\n",
      "del_g_f_CH4 = -50.72 ;\n",
      "del_g_f_H2 = 0 ;\n",
      "del_g_f_H2O = -228.57 ;\n",
      "del_g_f_CO = -137.17 ;\n",
      "del_g_f_CO2 = -394.36 ;\n",
      "del_h_f_CH4 = -74.81 ;\n",
      "del_h_f_H2 = 0 ;\n",
      "del_h_f_H2O = -241.82 ;\n",
      "del_h_f_CO = -110.53 ;\n",
      "del_h_f_CO2 = -393.51 ;\n",
      "\n",
      "v1_CH4 = -1. ;\n",
      "v1_H2 = 3. ;\n",
      "v1_H2O = -1. ;\n",
      "v1_CO = 1. ;\n",
      "v1_CO2 = 0. ;\n",
      "v2_CH4 = -1. ;\n",
      "v2_H2 = 4. ;\n",
      "v2_H2O = -2. ;\n",
      "v2_CO = 0. ;\n",
      "v2_CO2 = 1. ;\n",
      "\n",
      "A_CH4 = 1.702 ;\n",
      "B_CH4 = 9.08 * 10**-3 ;\n",
      "C_CH4 = -2.16 * 10**-6 ;\n",
      "D_CH4 = 0 ;\n",
      "A_H2 = 3.249 ;\n",
      "B_H2 = 4.22 * 10**-4 ;\n",
      "C_H2 = 0 ;\n",
      "D_H2 = 8.30 * 10**3 ;\n",
      "A_H2O = 3.47 ;\n",
      "B_H2O = 1.45 * 10**-3 ;\n",
      "C_H2O = 0 ;\n",
      "D_H2O = 1.21 * 10**4 ;\n",
      "A_CO = 3.376 ;\n",
      "B_CO = 5.57 * 10**-4 ;\n",
      "C_CO = 0 ;\n",
      "D_CO = -3.10 * 10**3 ;\n",
      "A_CO2 = 5.457 ;\n",
      "B_CO2 = 1.05 * 10**-3 ;\n",
      "C_CO2 = 0 ;\n",
      "D_CO2 = -1.16 * 10**5 ;\n",
      "M = zeros((12,10))\n",
      "M[:,0] = linspace(600,1150,12)\n",
      "\n",
      "R = 8.314 ;\n",
      "P = 1  ; \t\t\t#[bar]\n",
      "T_ref = 298.15 ; \t\t\t#[K]\n",
      "\n",
      "# Calculations\n",
      "del_g_f_1 = (v1_CO * del_g_f_CO + v1_H2 *del_g_f_H2 + v1_CH4 * del_g_f_CH4 + v1_H2O * del_g_f_H2O) * 1000  ;\n",
      "del_h_f_1 = (v1_CO * del_h_f_CO + v1_H2 *del_h_f_H2 + v1_CH4 * del_h_f_CH4 + v1_H2O * del_h_f_H2O) * 1000 ;\n",
      "del_g_f_2 = (v2_CO2 * del_g_f_CO2 + v2_H2 *del_g_f_H2 + v2_CH4 * del_g_f_CH4 + v2_H2O * del_g_f_H2O) * 1000 ;\n",
      "del_h_f_2 = (v2_CO2 * del_h_f_CO2 + v2_H2 *del_h_f_H2 + v2_CH4 * del_h_f_CH4 + v2_H2O * del_h_f_H2O) * 1000;\n",
      "Del_A_1 =  v1_CO * A_CO + v1_H2 * A_H2 + v1_CH4 * A_CH4 + v1_H2O * A_H2O  ;\n",
      "Del_B_1 =  v1_CO * B_CO + v1_H2 * B_H2 + v1_CH4 * B_CH4 + v1_H2O * B_H2O  ;\n",
      "Del_C_1 =  v1_CO * C_CO + v1_H2 * C_H2 + v1_CH4 * C_CH4 + v1_H2O * C_H2O  ;\n",
      "Del_D_1 =  v1_CO * D_CO + v1_H2 * D_H2 + v1_CH4 * D_CH4 + v1_H2O * D_H2O  ;\n",
      "Del_A_2 = v2_CO2 * A_CO2 + v2_H2 * A_H2 + v2_CH4 * A_CH4 + v2_H2O * A_H2O  ;\n",
      "Del_B_2 = v2_CO2 * B_CO2 + v2_H2 * B_H2 + v2_CH4 * B_CH4 + v2_H2O * B_H2O  ;\n",
      "Del_C_2 = v2_CO2 * C_CO2 + v2_H2 * C_H2 + v2_CH4 * C_CH4 + v2_H2O * C_H2O  ;\n",
      "Del_D_2 = v2_CO2 * D_CO2 + v2_H2 * D_H2 + v2_CH4 * D_CH4 + v2_H2O * D_H2O  ;\n",
      "\n",
      "\n",
      "K_298_1 = math.exp( - del_g_f_1 / (R * T_ref)) ;\n",
      "K_298_2 = math.exp( - del_g_f_2 / (R * T_ref)) ;\n",
      "\n",
      "for i in range(12):\n",
      "    X = (-del_h_f_1 / R + Del_A_1 * T_ref + Del_B_1 / 2 * T_ref**2 + \\\n",
      "    Del_C_1 /3* T_ref**3- Del_D_1 / T_ref) * (1./M[i,0] - 1./T_ref) + \\\n",
      "    Del_A_1*math.log(M[i,0] / T_ref)+ Del_B_1 / 2 * (M[i,0] - T_ref) + \\\n",
      "    Del_C_1 / 6 *(M[i,0]**2 - T_ref**2) + Del_D_1 / 2 * (1./(M[i,0]**2) - 1./(T_ref**2))\n",
      "    \n",
      "    M[i,1] = K_298_1 * math.exp(X) ;\n",
      "    \n",
      "    Y = (-del_h_f_2 / R + Del_A_2 * T_ref + Del_B_2 / 2 * T_ref**2 + Del_C_2/3* T_ref**3- Del_D_2 / T_ref) * \\\n",
      "    (1/M[i,0] - 1/T_ref) + Del_A_2 * math.log(M[i,0] / T_ref)+ Del_B_2 / 2 * (M[i,0] - T_ref) + \\\n",
      "    Del_C_2 / 6 *(M[i,0]**2 - T_ref**2) + Del_D_2 / 2* (1/(M[i,0]**2) - 1/(T_ref**2));\n",
      "    \n",
      "    M[i,2] = K_298_2 * math.exp(Y) ;\n",
      "    def f918(R):\n",
      "        s1 = R[0] ;\n",
      "        s2 = R[1] ;\n",
      "        y = [0,0]\n",
      "        y[0] = (s1 * (3 * s1 + 4 * s2)**3) / ((5 + 2 * s1 + 2 * s2)**2 * (1 - s1 -s2) * (4 - s1 - 2 * s2)) * P**2 - M[i,1] ;\n",
      "        y[1] = (s2 * (3 * s1 + 4 * s2)**4) / ((5 + 2 * s1 + 2 * s2)**2 * (1 - s1 -s2) * (4 - s1 - 2 * s2)**2) * P**2 - M[i,2] ;\n",
      "        return y\n",
      "    z = fsolve(f918,[0.0001,0.0001])\n",
      "    M[i,3] = z[0] ;\n",
      "    M[i,4] = z[1] ; \n",
      "    M[i,5] = (1 - M[i,3] - M[i,4]) / (5 + 2 * M[i,3] + 2 * M[i,4]) ;\n",
      "    M[i,6] = (4 - M[i,3] - 2 * M[i,4]) / (5 + 2 * M[i,3] + 2 * M[i,4]) ;\n",
      "    M[i,7] = (3 * M[i,3] + 4 * M[i,4]) / (5 + 2 * M[i,3] + 2 * M[i,4]) ;\n",
      "    M[i,8] = M[i,3] / (5 + 2 * M[i,3] + 2 * M[i,4]) ; \n",
      "    M[i,9] = M[i,4] / (5 + 2 * M[i,3] + 2 * M[i,4]) ; \n",
      "\n",
      "n1 = zeros([12,7])\n",
      "for i in range(12):\n",
      "    for j in range(7):\n",
      "        n1[i,j] = M[i,j] ;\n",
      "n2 = zeros([12,3])\n",
      "for i in range(12):\n",
      "    for j in range(3):\n",
      "        n2[i,j] = M[i,j+7]\n",
      "print \"     T              K1               K2          S1          S2       y_CH4     y_H2\"\n",
      "for row in n1:\n",
      "    print \"   %5d       %7.2e       %7.2e      %7.3f     %7.3f    %7.3f    %7.3f \"%(row[0],row[1],row[2],row[3],row[4],row[5],row[6])\n",
      "#print (n1) ;\n",
      "print (\" y_H20          y_CO          y_CO2  \") ;\n",
      "for row in n2:\n",
      "    print \" %7.3f    %7.3f    %7.3f \"%(row[0],row[1],row[2])\n",
      "\n",
      "\n",
      "#print (n2) ;\n",
      "N = zeros([10,10])\n",
      "for i in range(10):\n",
      "    for j in range(10):\n",
      "        N[i,j] = M[i,j]\n",
      "'''\n",
      "plot(N[3],N[0],\"+\") ;\n",
      "plot(N[4], N[0],\".\") ;\n",
      "plot(N[5] , N[0], \"o-\") ; \n",
      "plot(N[6] , N[0], \"s-\");\n",
      "plot(N[7] , N[0], \"*-\") ;\n",
      "plot(N[8] , N[0], \"x-\") ;\n",
      "plot(N[9] , N[0], \".-\") ;\n",
      "show()\n",
      "'''\n",
      "\n",
      "suptitle(\"Figure E9.18    Extent of reaxn vs temp\")\n",
      "xlabel(\"Temperature(K)\")\n",
      "ylabel(\"S\") ;\n",
      "#legend(\"S1\",\"S2\") ;\n",
      "plot(N[:,0] , N[:,5], \"o-\") ; \n",
      "plot(N[:,0] , N[:,6], \"s-\");\n",
      "plot(N[:,0] , N[:,7], \"^-\") ;\n",
      "plot(N[:,0] , N[:,8], \"x-\") ;\n",
      "plot(N[:,0] , N[:,9], \".-\") ;\n",
      "\n",
      "# Note : some answers are different because of rounding off error."
     ],
     "language": "python",
     "metadata": {},
     "outputs": [
      {
       "output_type": "stream",
       "stream": "stdout",
       "text": [
        "Populating the interactive namespace from numpy and matplotlib\n",
        "     T              K1               K2          S1          S2       y_CH4     y_H2"
       ]
      },
      {
       "output_type": "stream",
       "stream": "stdout",
       "text": [
        "\n",
        "     600       4.91e-07       1.40e-05        0.000       0.113      0.170      0.722 \n",
        "     650       1.42e-05       2.24e-04        0.003       0.191      0.150      0.671 \n",
        "     700       2.59e-04       2.47e-03        0.011       0.294      0.124      0.606 \n",
        "     750       3.24e-03       2.01e-02        0.037       0.410      0.094      0.534 \n",
        "     800       3.00e-02       1.29e-01        0.099       0.515      0.062      0.461 \n",
        "     850       2.15e-01       6.69e-01        0.207       0.578      0.033      0.401 \n",
        "     900       1.25e+00       2.93e+00        0.332       0.584      0.012      0.366 \n",
        "     950       6.06e+00       1.11e+01        0.424       0.551      0.004      0.356 \n",
        "    1000       2.52e+01       3.70e+01        0.485       0.509      0.001      0.358 \n",
        "    1050       9.20e+01       1.11e+02        0.531       0.468      0.000      0.362 \n",
        "    1100       2.99e+02       3.02e+02        0.319       0.322      0.057      0.484 \n",
        "    1150       8.78e+02       7.56e+02        0.343       0.295      0.058      0.488 \n",
        " y_H20          y_CO          y_CO2  \n",
        "   0.087      0.000      0.022 \n",
        "   0.144      0.000      0.036 \n",
        "   0.215      0.002      0.052 \n",
        "   0.297      0.006      0.070 \n",
        "   0.378      0.016      0.083 \n",
        "   0.447      0.032      0.088 \n",
        "   0.488      0.049      0.085 \n",
        "   0.500      0.061      0.079 \n",
        "   0.499      0.069      0.073 \n",
        "   0.495      0.076      0.067 \n",
        "   0.357      0.051      0.051 \n",
        "   0.352      0.055      0.047 \n"
       ]
      },
      {
       "output_type": "stream",
       "stream": "stderr",
       "text": [
        "/home/jovina/virtualenvs/scipy/local/lib/python2.7/site-packages/scipy/optimize/minpack.py:236: RuntimeWarning: The iteration is not making good progress, as measured by the \n",
        "  improvement from the last ten iterations.\n",
        "  warnings.warn(msg, RuntimeWarning)\n"
       ]
      },
      {
       "metadata": {},
       "output_type": "pyout",
       "prompt_number": 2,
       "text": [
        "[<matplotlib.lines.Line2D at 0x34b06d0>]"
       ]
      },
      {
       "metadata": {},
       "output_type": "display_data",
       "png": "[encoded data removed]",
       "text": [
        "<matplotlib.figure.Figure at 0x2619950>"
       ]
      }
     ],
     "prompt_number": 2
    },
    {
     "cell_type": "heading",
     "level": 2,
     "metadata": {},
     "source": [
      "Example 9.21  Page No : 607"
     ]
    },
    {
     "cell_type": "code",
     "collapsed": false,
     "input": [
      "# Variables\n",
      "import math\n",
      "del_g_0_f_SiCl2 = - 216012. ; \n",
      "del_g_0_f_SiCl4 = - 492536. ;\n",
      "del_g_0_f_SiCl3H = -356537. ;\n",
      "del_g_0_f_SiCl2H2 = -199368. ;\n",
      "del_g_0_f_SiClH3 = -28482. ;\n",
      "del_g_0_f_SiH4 = -176152. ;\n",
      "del_g_0_f_HCl = -102644. ;\n",
      "del_g_0_f_H2 = 0. ;\n",
      "del_g_0_f_Si = 0. ;\n",
      "R = 8.314 ;\n",
      "T = 1300. ; \t\t\t#[K]\n",
      "\n",
      "# Calculations\n",
      "Del_g_rxn_1 = del_g_0_f_SiCl2 + 2 * del_g_0_f_HCl - del_g_0_f_SiCl4 - del_g_0_f_H2 ;\n",
      "Del_g_rxn_2 = del_g_0_f_SiCl3H + del_g_0_f_HCl -  del_g_0_f_SiCl4 - del_g_0_f_H2 ;\n",
      "Del_g_rxn_3 = del_g_0_f_SiCl2H2 + del_g_0_f_HCl -  del_g_0_f_SiCl3H - del_g_0_f_H2 ;\n",
      "Del_g_rxn_4 = del_g_0_f_SiClH3 + del_g_0_f_HCl -  del_g_0_f_SiCl2H2 - del_g_0_f_H2 ;\n",
      "Del_g_rxn_5 = del_g_0_f_SiH4 + del_g_0_f_HCl -  del_g_0_f_SiCl3H - del_g_0_f_H2 ;\n",
      "Del_g_rxn_6 = del_g_0_f_Si + 4 * del_g_0_f_HCl -  del_g_0_f_SiCl4 - 2 * del_g_0_f_H2 ;\n",
      "\n",
      "M = zeros([6,4])\n",
      "\n",
      "M[0,0] = math.exp( - Del_g_rxn_1 / (R * T)) ;\n",
      "M[1,0] = math.exp( - Del_g_rxn_2 / (R * T)) ;\n",
      "M[2,0] = math.exp( - Del_g_rxn_3 / (R * T)) ;\n",
      "M[3,0] = math.exp( - Del_g_rxn_4 / (R * T)) ;\n",
      "M[4,0] = math.exp( - Del_g_rxn_5 / (R * T)) ;\n",
      "M[5,0] = math.exp( - Del_g_rxn_6 / (R * T)) ;\n",
      "\n",
      "S = [0.0763,0.1979,0.0067,0.0001,0.0000,-0.0512] ;\n",
      "K_cal = [.00137,0.0457,0.00644,0.00181,0.000752,0.000509] ;\n",
      "\n",
      "for i in range(6):\n",
      "    M[i,1] = S[i] ;\n",
      "    M[i,2] = K_cal[i] ;\n",
      "    M[i,3] = M[i,0] - M[i,2] ;\n",
      "# Results\n",
      "print (\"       K_i           S      K_i_cal    K_i - K_i_cal\") ;\n",
      "for row in M:\n",
      "    print \"    %5.2e     %7.4f    %7.2e    %7.2e\"%(row[0],row[1],row[2],row[3])\n",
      "\n",
      "# Readers can refer figure E9.19 .\n",
      "# Note : answers are different because of rounding off error."
     ],
     "language": "python",
     "metadata": {},
     "outputs": [
      {
       "output_type": "stream",
       "stream": "stdout",
       "text": [
        "       K_i           S      K_i_cal    K_i - K_i_cal\n",
        "    1.37e-03      0.0763    1.37e-03    2.77e-06\n",
        "    4.57e-02      0.1979    4.57e-02    -1.95e-05\n",
        "    6.44e-03      0.0067    6.44e-03    2.87e-06\n",
        "    1.81e-03      0.0001    1.81e-03    9.39e-07\n",
        "    7.52e-04      0.0000    7.52e-04    -4.00e-09\n",
        "    5.09e-04     -0.0512    5.09e-04    -3.50e-08\n"
       ]
      }
     ],
     "prompt_number": 69
    }
   ],
   "metadata": {}
  }
 ]
}