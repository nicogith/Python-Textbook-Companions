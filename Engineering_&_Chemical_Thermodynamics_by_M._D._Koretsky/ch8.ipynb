{
 "metadata": {
  "name": ""
 },
 "nbformat": 3,
 "nbformat_minor": 0,
 "worksheets": [
  {
   "cells": [
    {
     "cell_type": "heading",
     "level": 1,
     "metadata": {},
     "source": [
      "Chapter 8 : Phase Equilibria III Phase Diagrams"
     ]
    },
    {
     "cell_type": "heading",
     "level": 2,
     "metadata": {},
     "source": [
      "Example 8.1  Page No : 470"
     ]
    },
    {
     "cell_type": "code",
     "collapsed": false,
     "input": [
      "\n",
      "from scipy.optimize import fsolve \n",
      "import math \n",
      "\n",
      "# Variables\n",
      "A_C5H12 = 9.2131 ; \t\t\t#From table E8.2A\n",
      "B_C5H12 = 2477.07 ; \t\t\t#From table E8.2A\n",
      "C_C5H12 = -39.94 ; \t\t\t#From table E8.2A\n",
      "A_C6H12 = 9.1325 ; \t\t\t#From table E8.2A\n",
      "B_C6H12 = 2766.63 ; \t\t\t#From table E8.2A\n",
      "C_C6H12 = -50.50 ; \t\t\t#From table E8.2A\n",
      "A_C6H14 = 9.2164 ; \t\t\t#From table E8.2A\n",
      "B_C6H14 = 2697.55 ; \t\t\t#From table E8.2A\n",
      "C_C6H14 = -48.78 ; \t\t\t#From table E8.2A\n",
      "A_C7H16 = 9.2535 ; \t\t\t#From table E8.2A\n",
      "B_C7H16 = 2911.32 ; \t\t\t#From table E8.2A\n",
      "C_C7H16 = -56.51 ; \t\t\t#From table E8.2A\n",
      "x_C5H12 = 0.3 ;\n",
      "x_C6H12 = 0.3 ;\n",
      "x_C6H14 = 0.2 ;\n",
      "x_C7H16 = 0.2 ;\n",
      "\n",
      "# Calculations\n",
      "def f82(T):\n",
      "    return -1 + (x_C5H12 * math.exp(A_C5H12 - B_C5H12 / (T + C_C5H12)) + x_C6H12 *\\\n",
      "     math.exp(A_C6H12 - B_C6H12 / (T + C_C6H12)) + x_C6H14 * \\\n",
      "     math.exp(A_C6H14 - B_C6H14 / (T + C_C6H14)) + x_C5H12 * math.exp(A_C5H12 - B_C5H12 / (T \\\n",
      "      + C_C5H12)) + x_C7H16 * math.exp(A_C7H16 - B_C7H16 / (T + C_C7H16)));\n",
      "\n",
      "y =fsolve(f82,300)\n",
      "\n",
      "# Results\n",
      "print \"    The temperature at which the liquid develops the first bubble of vapour = %d K\"%(y); \n",
      "\n",
      "# Note : answer may vary because of fsolve function of python."
     ],
     "language": "python",
     "metadata": {},
     "outputs": [
      {
       "output_type": "stream",
       "stream": "stdout",
       "text": [
        "    The temperature at which the liquid develops the first bubble of vapour = 317 K\n"
       ]
      }
     ],
     "prompt_number": 5
    },
    {
     "cell_type": "heading",
     "level": 2,
     "metadata": {},
     "source": [
      "Example 8.2  Page No : 471"
     ]
    },
    {
     "cell_type": "code",
     "collapsed": false,
     "input": [
      "from scipy.optimize import fsolve \n",
      "import math \n",
      "\n",
      "# Variables\n",
      "A_C5H12 = 9.2131 ; \t\t\t#From table E8.2A\n",
      "B_C5H12 = 2477.07 ; \t\t\t#From table E8.2A\n",
      "C_C5H12 = -39.94 ; \t\t\t#From table E8.2A\n",
      "A_C6H12 = 9.1325 ; \t\t\t#From table E8.2A\n",
      "B_C6H12 = 2766.63 ; \t\t\t#From table E8.2A\n",
      "C_C6H12 = -50.50 ; \t\t\t#From table E8.2A\n",
      "A_C6H14 = 9.2164 ; \t\t\t#From table E8.2A\n",
      "B_C6H14 = 2697.55 ; \t\t\t#From table E8.2A\n",
      "C_C6H14 = -48.78 ; \t\t\t#From table E8.2A\n",
      "A_C7H16 = 9.2535 ; \t\t\t#From table E8.2A\n",
      "B_C7H16 = 2911.32 ; \t\t\t#From table E8.2A\n",
      "C_C7H16 = -56.51 ; \t\t\t#From table E8.2A\n",
      "\n",
      "y_C5H12 = 0.3 ;\n",
      "y_C6H12 = 0.3 ;\n",
      "y_C6H14 = 0.2 ;\n",
      "y_C7H16 = 0.2 ;\n",
      "P = 1 ; \t\t\t#[bar]\n",
      "\n",
      "# Calculations and Results\n",
      "def f83(T):\n",
      "    return  -1 + P * ( y_C5H12 / math.exp(A_C5H12 - B_C5H12 / (T +  \n",
      "    C_C5H12)) + y_C6H12 / math.exp(A_C6H12 - B_C6H12 / (T + C_C6H12)) + \\\n",
      "     y_C6H14 / math.exp(A_C6H14 - B_C6H14 / (T + C_C6H14)) + y_C7H16 / math.exp(A_C7H16 - B_C7H16 / (T + C_C7H16)));\n",
      "\n",
      "y =fsolve(f83,300)\n",
      "\n",
      "print \"The temperature at which vapour develops the first drop of liquid = %.f K\"%(y) ;\n",
      "\n",
      "T = y ;\n",
      "P_sat_C5H12 = math.exp(A_C5H12 - B_C5H12 / (T + C_C5H12)) ;\n",
      "p_sat_C6H12 = math.exp(A_C6H12 - B_C6H12 / (T + C_C6H12)) ;\n",
      "P_sat_C6H14 = math.exp(A_C6H14 - B_C6H14 / (T + C_C6H14)) ;\n",
      "P_sat_C7H16 = math.exp(A_C7H16 - B_C7H16 / (T + C_C7H16)) ;\n",
      "\n",
      "x_C5H12 = y_C5H12 * P / P_sat_C5H12 ;\n",
      "x_C6H12 = y_C6H12 * P / p_sat_C6H12 ;\n",
      "x_C6H14 = y_C6H14 * P / P_sat_C6H14 ;\n",
      "x_C7H16 = y_C7H16 * P / P_sat_C7H16 ;\n",
      "\n",
      "print \"x_C5H12 = %.3f     x_C6H12 = %.3f         x_C6H14 = %.3f     x_C7H16 = %.3f\"%(x_C5H12,x_C6H12,x_C6H14,x_C7H16) ;\n"
     ],
     "language": "python",
     "metadata": {},
     "outputs": [
      {
       "output_type": "stream",
       "stream": "stdout",
       "text": [
        "The temperature at which vapour develops the first drop of liquid = 349 K\n",
        "x_C5H12 = 0.091     x_C6H12 = 0.345         x_C6H14 = 0.159     x_C7H16 = 0.405\n"
       ]
      }
     ],
     "prompt_number": 6
    },
    {
     "cell_type": "heading",
     "level": 2,
     "metadata": {},
     "source": [
      "Example 8.3  Page No : 471"
     ]
    },
    {
     "cell_type": "code",
     "collapsed": false,
     "input": [
      "from scipy.integrate import *\n",
      "from numpy import *\n",
      "import math \n",
      "\n",
      "# Variables\n",
      "P_a_sat = 0.53 ;  \t\t\t#[bar]\n",
      "P_b_sat = 0.16 ; \t\t\t#[bar]\n",
      "X = 1./3 ;\n",
      "Y = 1- X ;\n",
      "x_a_feed = 0.5 ;\n",
      "x_b_feed = 0.5 ;\n",
      "\n",
      "# Calculations\n",
      "a = Y * -(x_a_feed + x_b_feed) + Y**2 ;\n",
      "b = X * Y *(P_a_sat + P_b_sat) - (x_a_feed * P_b_sat + x_b_feed * P_a_sat)*X ;\n",
      "c =  P_a_sat * P_b_sat * X**2;\n",
      "\n",
      "k=poly1d([a,b,c])#'k',0);\n",
      "#P = c + b*k**1 + a*k**2 ;\n",
      "M = roots(k);\n",
      "\n",
      "# Results\n",
      "for i in range(2):\n",
      "    ans = sign(M[0]) ;\n",
      "    if ans == 1:\n",
      "        print \"     Pressure  = %.2f bar\"%(M[i]) ;  \n",
      "        Xa = x_a_feed / (P_a_sat / M[0] * X + Y) ;\t\t\t#....E8.4D\n",
      "        Ya = Xa * P_a_sat / M[0]                \t\t\t#.....E8.4B\n",
      "        print \"       Xa = %.2f        Ya = %.1f\"%(Xa,Ya);\n",
      "        break\n"
     ],
     "language": "python",
     "metadata": {},
     "outputs": [
      {
       "output_type": "stream",
       "stream": "stdout",
       "text": [
        "     Pressure  = 0.31 bar\n",
        "       Xa = 0.40        Ya = 0.7\n"
       ]
      }
     ],
     "prompt_number": 8
    },
    {
     "cell_type": "heading",
     "level": 2,
     "metadata": {},
     "source": [
      "Example 8.5  Page No : 476"
     ]
    },
    {
     "cell_type": "code",
     "collapsed": false,
     "input": [
      "\n",
      "from scipy.optimize import fsolve \n",
      "import math \n",
      "\n",
      "# Variables\n",
      "P1_sat = 0.72 ; \t\t\t#[bar]\n",
      "P2_sat = 0.31 ; \t\t\t#[bar]\n",
      "A = 3590. ;\n",
      "B = -1180. ;\n",
      "R = 8.314 ;\n",
      "T = 70. + 273 ;\t\t\t#[K]\n",
      "\n",
      "# Calculations\n",
      "def f85(x1):\n",
      "    return -.48 + ( x1 * math.exp((A + 3*B) * (1 - x1)**2 / (R * T) - \n",
      "    4 * B * (1 - x1)**3  / (R * T)) * P1_sat) / ( x1 * math.exp((A + 3*B) * \n",
      "    (1 - x1)**2 / (R * T) -4 * B * (1 - x1)**3  / (R * T)) * P1_sat +(1 - x1) * \n",
      "    math.exp((A - 3*B) * x1**2 / (R * T) -4 * B * x1**3  / (R * T)) * P2_sat ) ; \n",
      "\n",
      "y = fsolve(f85,0.1)[0]\n",
      "x1 = y ;\n",
      "P = ( x1 * math.exp((A + 3*B) * (1 - x1)**2 / (R * T) - 4 * B * \n",
      "(1 - x1)**3  / (R * T)) * P1_sat) + (1 - x1) * math.exp((A - 3*B) * x1**2 / \n",
      "(R * T) -4 * B * x1**3  / (R * T)) * P2_sat ;\n",
      "\n",
      "# Results\n",
      "print \"The value of x1 = %.3f\"%(y) ;\n",
      "print \"Pressure = %.2f bar\"%(P) ;\n"
     ],
     "language": "python",
     "metadata": {},
     "outputs": [
      {
       "output_type": "stream",
       "stream": "stdout",
       "text": [
        "The value of x1 = 0.114\n",
        "Pressure = 0.55 bar\n"
       ]
      }
     ],
     "prompt_number": 5
    },
    {
     "cell_type": "heading",
     "level": 2,
     "metadata": {},
     "source": [
      "Example 8.7  Page No : 488"
     ]
    },
    {
     "cell_type": "code",
     "collapsed": false,
     "input": [
      "# Variables\n",
      "import math\n",
      "P = 0.223 ; \t\t\t#[bar]\n",
      "P_a_sat = 0.156 ; \t\t\t# [bar]\n",
      "P_b_sat = 0.124 ; \t\t\t#[bar]\n",
      "R = 8.314 ;\n",
      "T = 50 + 273 ;\n",
      "Xa = 0.554 ;\n",
      "Xb = 1 - Xa ;\n",
      "\n",
      "# Calculations\n",
      "gama_a = P / P_a_sat ;\n",
      "A1 = R * T * math.log(gama_a) / (Xb**2) * 10**-3 ;\n",
      "gama_b = P / P_b_sat ;\n",
      "A2 = R * T * math.log(gama_b) / (Xa**2) * 10**-3 ;   \n",
      "\n",
      "A = math.ceil((A1 + A2) / 2) ;\n",
      "\n",
      "# Results\n",
      "print \"Value of two suffix Marguels parameter = %.1f kJ/mol\"%(A);\n"
     ],
     "language": "python",
     "metadata": {},
     "outputs": [
      {
       "output_type": "stream",
       "stream": "stdout",
       "text": [
        "Value of two suffix Marguels parameter = 5.0 kJ/mol\n"
       ]
      }
     ],
     "prompt_number": 6
    },
    {
     "cell_type": "heading",
     "level": 2,
     "metadata": {},
     "source": [
      "Example 8.9  Page No : 491"
     ]
    },
    {
     "cell_type": "code",
     "collapsed": false,
     "input": [
      "# Variables\n",
      "import math\n",
      "R = 8.314 ;\n",
      "T = 10 + 273 ; \t\t\t#[K]\n",
      "A_B = 9.2806 ; \t\t\t# From Appendix A , Table A1.1\n",
      "B_B = 2788.5 ; \t\t\t# From Appendix A , Table A1.1\n",
      "C_B = -52.36 ; \t\t\t# From Appendix A , Table A1.1\n",
      "A_C = 9.1325 ; \t\t\t# From Appendix A , Table A1.1\n",
      "B_C = 2766.63 ; \t\t\t# From Appendix A , Table A1.1\n",
      "C_C = -50.50 ; \t\t\t# From Appendix A , Table A1.1\n",
      "\n",
      "x1 = [0 ,0.0610 ,0.2149 ,0.3187 ,0.4320 ,0.5246 ,0.6117 ,0.7265 ,0.8040 ,0.8830 ,0.8999 ,1] ; \t\t\t#From table E8.9A\n",
      "P_exp = [6344 ,6590 ,6980 ,7140 ,7171 ,7216 ,7140 ,6974 ,6845 ,6617 ,6557 ,6073] ; \t\t\t#From table E8.9A\n",
      "\n",
      "P_1_sat = 6072.15 ; \t\t\t#[Pa]\n",
      "P_2_sat = 6344 ; \t\t\t#[Pa]  \n",
      "\n",
      "A = [1390 ,1391 ,1392 ,1393 ,1394 ,1395 ,1396 ,1397 ,1398 ,1399 ,1400 ,1401 ,1402 ,1403 ,1404 ,1405 ,1406 ,1407 ,1408 ,1409 ,1410 ] ;\n",
      "\n",
      "C = zeros([21,12])\n",
      "for k in range(21):\n",
      "   y = A[k] ;\n",
      "   P = zeros(12)\n",
      "   for i in range(12):\n",
      "        P[i] = x1[i] * math.exp( y / (R * T ) * (1 - x1[i])**2) * P_1_sat+(1 - x1[i]) * math.exp(y / (R * T ) * x1[i]**2) * P_2_sat ;\n",
      "        C[k,i] = (P[i] - P_exp[i])**2 ;\n",
      "\n",
      "R = zeros(21)\n",
      "for k in range(21):\n",
      "    y = 0 ;\n",
      "    for i in range(12):\n",
      "        y = y + C[k,i] ;       \n",
      "    R[k] = y ;\n",
      "\n",
      "\n",
      "k = 100000. ;\n",
      "for i in range(21):\n",
      "    K = R[i] ; \n",
      "    if K < k:\n",
      "        k = K ;\n",
      "\n",
      "for i in range(21):\n",
      "    if R[i] == k :\n",
      "        print \"The two suffix Margules co-efficient is = %g J/mol\" %(A[i]) ; \n",
      "\n",
      "#Note : answer may vary because of rounding off error."
     ],
     "language": "python",
     "metadata": {},
     "outputs": [
      {
       "output_type": "stream",
       "stream": "stdout",
       "text": [
        "The two suffix Margules co-efficient is = 1401 J/mol\n"
       ]
      }
     ],
     "prompt_number": 10
    },
    {
     "cell_type": "heading",
     "level": 2,
     "metadata": {},
     "source": [
      "Example 8.10  Page No : 494"
     ]
    },
    {
     "cell_type": "code",
     "collapsed": false,
     "input": [
      "# Variables\n",
      "import math\n",
      "R = 8.314 ;\n",
      "T = 10 + 273.15\t\t\t#[K]\n",
      "A_B = 9.2806 ; \t\t\t# From Appendix A , Table A1.1\n",
      "B_B = 2788.5 ; \t\t\t# From Appendix A , Table A1.1\n",
      "C_B = -52.36 ; \t\t\t# From Appendix A , Table A1.1\n",
      "A_C = 9.1325 ; \t\t\t# From Appendix A , Table A1.1\n",
      "B_C = 2766.63 ; \t\t\t# From Appendix A , Table A1.1\n",
      "C_C = -50.50 ; \t\t\t# From Appendix A , Table A1.1\n",
      "\n",
      "x1 = [0,0.0610 ,0.2149 ,0.3187 ,0.4320 ,0.5246 ,0.6117 ,0.7265 ,0.8040 ,0.8830 ,0.8999 ,1] ; \t\t\t#From table E8.9A\n",
      "P_exp = [6344 ,6590 ,6980 ,7140 ,7171 ,7216 ,7140 ,6974 ,6845 ,6617 ,6557 ,6073] ; \t\t\t#From table E8.9A\n",
      "\n",
      "P_1_sat = 6073. ; \t\t\t#[Pa]\n",
      "P_2_sat = 6344. ; \t\t\t#[Pa] \n",
      "A = linspace(1390,1410,21) ;\n",
      "B = linspace(60,80,21)\n",
      "w = 1 / (R * T) ;\n",
      "S = zeros([21,21])\n",
      "for k in range(21):\n",
      "    y = A[k] ;\n",
      "    for i in range(21):\n",
      "        z = B[i] ;\n",
      "        P = zeros(12)\n",
      "        R = zeros(12)\n",
      "        for j in range(12):\n",
      "            P[j] = x1[j] * math.exp((y + 3 * z) * (1 - (x1[j]))**2 *w-4*z*(1-x1[j])**3* w )* P_1_sat + (1-x1[j])*exp((y -3*z)*(x1[j])**2 * w + 4 * z * (x1[j]**3) * w )*P_2_sat ;\n",
      "            R[j] =(P[j] - P_exp[j])**2 ;\n",
      "        m = 0 ;\n",
      "        for l in range(12):\n",
      "            m = m + R[l]\n",
      "        S[k,i] = m ;\n",
      "\n",
      "D = zeros(21)\n",
      "for i in range(21):\n",
      "    k = S[i,0]\n",
      "    for l in range(1,21):\n",
      "        if S[i,l] < k:\n",
      "           k = S[i,l]\n",
      "    D[i] = k ;\n",
      "\n",
      "a = D[0] ;\n",
      "for i in range(2,21):\n",
      "    if D[i] < a:\n",
      "        a = D[i] ;\n",
      "\n",
      "# Results\n",
      "for i in range(21):\n",
      "    if D[i] == a :\n",
      "        for l in range(21):\n",
      "            if S[i,l] == a:\n",
      "                print \"     A = %g J/mol\"%(A[i]);\n",
      "                print \"     B = %g J/mol\"%(B[l]) ;\n"
     ],
     "language": "python",
     "metadata": {},
     "outputs": [
      {
       "output_type": "stream",
       "stream": "stdout",
       "text": [
        "     A = 1397 J/mol\n",
        "     B = 69 J/mol\n"
       ]
      }
     ],
     "prompt_number": 3
    },
    {
     "cell_type": "heading",
     "level": 2,
     "metadata": {},
     "source": [
      "Example 8.11  Page No : 494"
     ]
    },
    {
     "cell_type": "code",
     "collapsed": false,
     "input": [
      "%matplotlib inline\n",
      "\n",
      "from matplotlib.pyplot import *\n",
      "\n",
      "# Given\n",
      "R = 8.314 ;\n",
      "T = 10 + 273.15 ; \t\t\t#[K]\n",
      "x1 = [0 ,0.0610 ,0.2149 ,0.3187 ,0.4320 ,0.5246 ,0.6117 ,0.7265 ,0.8040 ,0.8830 ,0.8999 ,1] ; \t\t\t#From table E8.9A\n",
      "P_exp = [6344 ,6590 ,6980 ,7140 ,7171 ,7216 ,7140 ,6974 ,6845 ,6617 ,6557 ,6073 ,6073] ; \t\t\t#From table E8.9A\n",
      "y1 = [ 1 ,0.0953 ,0.2710 ,0.3600 ,0.4453,0.5106 ,0.5735 ,0.6626 ,0.7312 ,0.8200 ,0.8382, 0 ] ;\t\t\t#From table E8.9A\n",
      "P_1_sat = 6073. ; \t\t\t#[Pa]\n",
      "P_2_sat = 6344. ; \t\t\t#[Pa]\n",
      "\n",
      "n = 0 ;\n",
      "x2 = zeros(11)\n",
      "y2 = zeros(11)\n",
      "g_E = zeros(11)\n",
      "ydata = zeros(11)\n",
      "xdata = zeros(11)\n",
      "for i in range(1,11):\n",
      "    x2[i] = 1 - x1[i] ;\n",
      "    y2[i] = 1 - y1[i] ;\n",
      "    g_E[i] = R * T *( x1[i] * math.log (( y1[i] * P_exp[i]) / (x1[i]* P_1_sat)) + x2[i] * math.log((y2[i] * P_exp[i]) / (x2[i] * P_2_sat)) ) ;\n",
      "    n = n + g_E[i] / ((x1[i] * x2[i]) * 10) ;\n",
      "    ydata[i-1] = (g_E[i]/(x1[i]*x2[i]));\n",
      "    xdata[i-1] = x1[i] - x2[i] ;\n",
      "\n",
      "m= 0\n",
      "n=0\n",
      "o = 0\n",
      "p= 0\n",
      "N = 10\n",
      "for i in range(1,11):\n",
      "    m = m + g_E[i] * (2 * x1[i] - 1) / ( x1[i] *  x2[i]) ;\n",
      "    n = n + g_E[i] / ( x1[i] *  x2[i]) ;\n",
      "    o = o + (2 * x1[i] - 1)  ;\n",
      "    p = p + (2 * x1[i] - 1)**2 ;\n",
      "\n",
      "x_bar = o / N ;\n",
      "y_bar = n / N ;\n",
      "a1 = (N * m - n * o)/(N * p - o**2) ;\n",
      "a0 = y_bar - a1 * x_bar ;\n",
      "\n",
      "ydata2 = zeros(11)\n",
      "for i in range(11):\n",
      "      ydata2[i] = a0 + a1*xdata[i] ;\n",
      "\n",
      "# Results\n",
      "plot(xdata,ydata,\"+\") ;\n",
      "plot(xdata,ydata2) ;\n",
      "xlabel(\"x1-x2\")\n",
      "ylabel(\"g**E/x1x2 [J/mol]\")\n",
      "#suptitle(\"Fit of g E /x 1 x 2 vs. x 1 2 x 2 for benzene (1)\u2013cyclohexane (2) at 10\u00b0C to straight line\")\n",
      "ylim(1320,1500)\n",
      "\n",
      "print \"      From average,  the value of A = %d J/mol\"%(n/10) ;\n",
      "print \"      From linear regression best fit line the values of A and B are \\\n",
      "    %.1f J/mol    &     %.1f J/mol   respectively .\"%(a0, a1) ;\n",
      "\t\t\t#Readers can refer figure E8.11 .\n",
      "show()\n"
     ],
     "language": "python",
     "metadata": {},
     "outputs": [
      {
       "output_type": "stream",
       "stream": "stdout",
       "text": [
        "Populating the interactive namespace from numpy and matplotlib\n",
        "      From average,  the value of A = 1408 J/mol"
       ]
      },
      {
       "output_type": "stream",
       "stream": "stdout",
       "text": [
        "\n",
        "      From linear regression best fit line the values of A and B are     1401.3 J/mol    &     76.1 J/mol   respectively .\n"
       ]
      },
      {
       "metadata": {},
       "output_type": "display_data",
       "png": "[encoded data removed]",
       "text": [
        "<matplotlib.figure.Figure at 0x3713c10>"
       ]
      }
     ],
     "prompt_number": 1
    },
    {
     "cell_type": "heading",
     "level": 2,
     "metadata": {},
     "source": [
      "Example 8.12  Page No : 500"
     ]
    },
    {
     "cell_type": "code",
     "collapsed": false,
     "input": [
      "# Variables\n",
      "H_O2 = 44253.9\t\t\t#[bar] , From table 8.1\n",
      "p_O2 = 0.21  \t\t\t#[bar]\n",
      "\n",
      "# Calculations\n",
      "x_O2 = p_O2 / H_O2 ;\n",
      "v_H2O = 1/(1/0.001 * 1/0.018 * 0.001 );\n",
      "_O2_ = x_O2 / v_H2O ; \t\t\t#[M]\n",
      "\n",
      "# Results\n",
      "print \"Mole fraction of O2 = %.2e\"%(x_O2 ) ;\n",
      "print \"Concentration of O2 = %.2e M \"%(_O2_) ;\n"
     ],
     "language": "python",
     "metadata": {},
     "outputs": [
      {
       "output_type": "stream",
       "stream": "stdout",
       "text": [
        "Mole fraction of O2 = 4.75e-06\n",
        "Concentration of O2 = 2.64e-04 M \n"
       ]
      }
     ],
     "prompt_number": 15
    },
    {
     "cell_type": "heading",
     "level": 2,
     "metadata": {},
     "source": [
      "Example 8.13  Page No : 500"
     ]
    },
    {
     "cell_type": "code",
     "collapsed": false,
     "input": [
      "# Variables\n",
      "import math\n",
      "P = 300. ; \t\t\t#[bar]\n",
      "V_bar_inf_N2 = 3.3 * 10**-5 ;\n",
      "R = 8.314 ;\n",
      "T = 298. ; \t\t\t#[K]\n",
      "y_N2 = 1. ; \t\t\t# At 25*C vapour pressure of water is small\n",
      "H_N2_1 = 87365. ; \t\t\t#[bar]\n",
      "P_c = 33.8 ; \t\t\t#[bar]\n",
      "T_c = 126.2 ;\t\t\t# [K]\n",
      "w = 0.039 ; \t\t\t# From Appendix A.1 \n",
      "log_w_0 = 0.013 ;\n",
      "log_w_1 = 0.210 ;\n",
      "\n",
      "# Calculations\n",
      "H_N2_300 = H_N2_1 * math.exp((V_bar_inf_N2 * (P -1) * 10**5 )/ (R * T)) ;\n",
      "k = log_w_0 + w * log_w_1 ;\n",
      "sai_N2 = 10**k ;\n",
      "x_N2 = y_N2 * sai_N2 * P / H_N2_300 ;\n",
      "\n",
      "# Results\n",
      "print \"Solubility of N2 in water = %.5f\"%(x_N2) ;\n"
     ],
     "language": "python",
     "metadata": {},
     "outputs": [
      {
       "output_type": "stream",
       "stream": "stdout",
       "text": [
        "Solubility of N2 in water = 0.00242\n"
       ]
      }
     ],
     "prompt_number": 13
    },
    {
     "cell_type": "heading",
     "level": 2,
     "metadata": {},
     "source": [
      "Example 8.20  Page No : 518"
     ]
    },
    {
     "cell_type": "code",
     "collapsed": false,
     "input": [
      "%matplotlib inline\n",
      "\n",
      "import math \n",
      "from matplotlib.pyplot import *\n",
      "from numpy import *\n",
      "\n",
      "\n",
      "# Variables\n",
      "R = 8.314 ;\n",
      "T = 20. + 273 ;\t\t\t#[K]\n",
      "A = 6000. ; \t\t\t#[J/mol]\n",
      "B = -384. ; \t\t\t#[J/mol]\n",
      "x_a = [0.001 ,0.03 ,0.05 ,0.06 ,0.075 ,0.1 ,0.12 , 0.13 ,0.15 ,0.2 ,0.25 ,0.3 ,0.35 ,0.4 ,0.45,0.475 ,0.5 ,0.55 ,0.6 ,0.65  ,0.7 ,0.75 ,0.8 ,0.8475 ,0.85  ,0.9 ,0.925 ,0.95 ,0.975 ,0.999] ;\n",
      "\n",
      "y_data = zeros(30)\n",
      "y_data2 = zeros(30)\n",
      "\n",
      "# Calculations\n",
      "for i in range(30):\n",
      "    y_data[i] = R * T * ( x_a[i] * math.log(x_a[i]) + (1 - x_a[i]) * math.log(1- x_a[i])) + x_a[i] * (1 - x_a[i]) * (A + B * (2*x_a[i] - 1 )) ;\n",
      "    y_data2[i] = - 82 * x_a[i]- 185.6 ;\n",
      "\n",
      "m = min(y_data) ;\n",
      "for i in range(30):\n",
      "    if y_data[i] == m:\n",
      "       a = x_a[i] ;\n",
      "\n",
      "for i in range(30):\n",
      "     y_data2[i] = -(R * T *( math.log(a)  - math.log(1 - a)) + A * (1 - 2*a) + B * (6 * a - 1 - 6 * a**2)) * (x_a[i] - a) + m ;\n",
      "\n",
      "y_data3 = zeros(20)\n",
      "for i in range(20):\n",
      "    y_data3[i] = y_data[i] - y_data2[i] ;\n",
      "n = min(y_data3) ;\n",
      "\n",
      "for i in range(20):\n",
      "    if y_data3[i] == n:\n",
      "       b = x_a[i] ;\n",
      "\n",
      "\n",
      "# Results\n",
      "plot(x_a ,y_data) ;\n",
      "plot(x_a ,y_data2) ;\n",
      "xlabel(\"Xa\")\n",
      "ylabel(\"g-XaGa-XbGb\")\n",
      "suptitle(\"the binary system described \")\n",
      "print \"The equilibrium composition can be found by drawing a line tangent to\\\n",
      " the minima .  In this case the answer is %.2f and %.1f   .\" %(a ,b)\n",
      "show()\n"
     ],
     "language": "python",
     "metadata": {},
     "outputs": [
      {
       "output_type": "stream",
       "stream": "stdout",
       "text": [
        "Populating the interactive namespace from numpy and matplotlib\n",
        "The equilibrium composition can be found by drawing a line tangent to the minima .  In this case the answer is 0.85 and 0.1   ."
       ]
      },
      {
       "output_type": "stream",
       "stream": "stdout",
       "text": [
        "\n"
       ]
      },
      {
       "output_type": "stream",
       "stream": "stderr",
       "text": [
        "WARNING: pylab import has clobbered these variables: ['draw_if_interactive']\n",
        "`%pylab --no-import-all` prevents importing * from pylab and numpy\n"
       ]
      },
      {
       "metadata": {},
       "output_type": "display_data",
       "png": "[encoded data removed]",
       "text": [
        "<matplotlib.figure.Figure at 0x35de510>"
       ]
      }
     ],
     "prompt_number": 2
    },
    {
     "cell_type": "heading",
     "level": 2,
     "metadata": {},
     "source": [
      "Example 8.21  Page No : 519"
     ]
    },
    {
     "cell_type": "code",
     "collapsed": false,
     "input": [
      "\n",
      "from scipy.optimize import fsolve \n",
      "import math \n",
      "\n",
      "\n",
      "# Variables\n",
      "A = 6349 ; \t\t\t#[J/mol]\n",
      "B = -384. ; \t\t\t#[J/mol]\n",
      "R = 8.314 ;\n",
      "T = 20 + 273 ; \t\t\t#[K]\n",
      "k = 0.000001 ;\n",
      "\n",
      "# Calculations\n",
      "def f816(x_a):\n",
      "    return R * T * (1/x_a + 1/(1 - x_a)) - 2 * A +6 * B * (1 - 2 * x_a) + k\n",
      "\n",
      "ans1 = fsolve(f816,0.1)[0]\n",
      "ans2 = fsolve(f816,0.5)[0]\n",
      "\n",
      "print \"%.3f < x_a < %.3f \"%(ans1,ans2)\n"
     ],
     "language": "python",
     "metadata": {},
     "outputs": [
      {
       "output_type": "stream",
       "stream": "stdout",
       "text": [
        "0.225 < x_a < 0.706 \n"
       ]
      }
     ],
     "prompt_number": 15
    },
    {
     "cell_type": "heading",
     "level": 2,
     "metadata": {},
     "source": [
      "Example 8.22  Page No : 522"
     ]
    },
    {
     "cell_type": "code",
     "collapsed": false,
     "input": [
      "from scipy.optimize import fsolve\n",
      "\n",
      "# Variables\n",
      "import math\n",
      "T = 300.    \t\t\t#[K]\n",
      "A = 6235.  \t    \t\t#[J/mol] \n",
      "P_a_sat = 100. * 10**3 ; \t\t\t#[Pa]\n",
      "P_b_sat = 50. * 10**3 ; \t\t\t#{Pa}\n",
      "R = 8.314 ;\n",
      "w = 1./(R * T) \n",
      "\n",
      "def f817(R):\n",
      "    x_a_a = R[0]\n",
      "    x_a_b = R[1]\n",
      "    Z817 = [0,0]\n",
      "    Z817[0] = x_a_b * math.exp(A * (1 - x_a_b) ** 2 * w) - x_a_a * math.exp(A*(1-x_a_a)**2*w)\n",
      "    Z817[1] = (1 - x_a_b) * math.exp(A * ( x_a_b) ** 2 * w) - (1 - x_a_a) * math.exp(A * (x_a_a) ** 2 * w )\n",
      "    return Z817\n",
      "x0 = [0.75 , 0.1] ;\n",
      "z = fsolve(f817,x0)\n",
      "\n",
      "# Results\n",
      "print \"The compositions are : x_a_a = %.3f and x_a_b = %.3f\"%(z[0],z[1]) ;\n",
      "P = z[0] * math.exp(A * z[1] ** 2 * w) * P_a_sat + z[1] * math.exp(A * z[0] ** 2 * w) * P_b_sat ;\n",
      "print \"Total pressure = %d kPa\"%(P * 10**-3) ;\n",
      "y_a = z[0] * math.exp(A * z[1] ** 2 * w) * P_a_sat / P ;\n",
      "print \"y_a = %.3f\" %( y_a ) ;\n",
      "\n",
      "# Note : incorrect answer in textbook"
     ],
     "language": "python",
     "metadata": {},
     "outputs": [
      {
       "output_type": "stream",
       "stream": "stdout",
       "text": [
        "The compositions are : x_a_a = 0.272 and x_a_b = 0.272\n",
        "Total pressure = 49 kPa\n",
        "y_a = 0.667\n"
       ]
      }
     ],
     "prompt_number": 1
    },
    {
     "cell_type": "heading",
     "level": 2,
     "metadata": {},
     "source": [
      "Example 8.23  Page No : 535"
     ]
    },
    {
     "cell_type": "code",
     "collapsed": false,
     "input": [
      "# Variables\n",
      "T_b = 373.15 ; \t    \t\t#[K]\n",
      "del_h_vap = 2257. ; \t\t#[J/g]\n",
      "MW_salt = 58.5 ; \t\t\t#[g/mol]\n",
      "MW_water = 18. ; \t\t\t#[g/mol]\n",
      "w_salt = 3.5 ;\n",
      "w_water = 100 - w_salt ;\n",
      "R = 8.314 ;\n",
      "\n",
      "# Calculations\n",
      "x_salt = (w_salt / MW_salt) / (w_salt / MW_salt + w_water / MW_water) ;\n",
      "x_b = 2 * x_salt\n",
      "del_T = R * T_b**2 / (del_h_vap * MW_water)* x_b ;\n",
      "\n",
      "# Results\n",
      "print \"The temperature that sea water boils is = %.2f degreeC\"%(100 + del_T);\n"
     ],
     "language": "python",
     "metadata": {},
     "outputs": [
      {
       "output_type": "stream",
       "stream": "stdout",
       "text": [
        "The temperature that sea water boils is = 100.63 degreeC\n"
       ]
      }
     ],
     "prompt_number": 17
    },
    {
     "cell_type": "heading",
     "level": 2,
     "metadata": {},
     "source": [
      "Example 8.24  Page No : 538"
     ]
    },
    {
     "cell_type": "code",
     "collapsed": false,
     "input": [
      "# Variables\n",
      "rho_w = 1000. \t        \t\t# [kg/m**3]\n",
      "g = 9.8 ; \t        \t    \t# [m/s**2]\n",
      "h = 0.0071 ;\t\t\t    #[m]\n",
      "m_b = 1.93 * 10**-3 ; \t\t\t# [kg]\n",
      "V = 520. * 10**-6 ; \t\t\t#[m**3]\n",
      "R = 8.314\n",
      "T = 298.\n",
      "\n",
      "# Calculations\n",
      "PI = rho_w * g * h ;\n",
      "C_b = m_b / V ;\n",
      "MW_b = R * T * C_b / PI ;\n",
      "\n",
      "# Results\n",
      "print \"The molecular weight of the protein = %d kg/mol\"%( MW_b );\n"
     ],
     "language": "python",
     "metadata": {},
     "outputs": [
      {
       "output_type": "stream",
       "stream": "stdout",
       "text": [
        "The molecular weight of the protein = 132 kg/mol\n"
       ]
      }
     ],
     "prompt_number": 18
    }
   ],
   "metadata": {}
  }
 ]
}