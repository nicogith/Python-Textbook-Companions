{
 "metadata": {
  "name": "",
  "signature": "sha256:bc8c72805b6850366f45568794dc2a4ab6f5d21f61489519f4f7ca8e4b8b6702"
 },
 "nbformat": 3,
 "nbformat_minor": 0,
 "worksheets": [
  {
   "cells": [
    {
     "cell_type": "heading",
     "level": 1,
     "metadata": {},
     "source": [
      "CHAPTER01 : THE FUNDAMENTAL LAWS OF ELECTRICAL ENGINEERING"
     ]
    },
    {
     "cell_type": "heading",
     "level": 2,
     "metadata": {},
     "source": [
      "Example E01 : Pg 07"
     ]
    },
    {
     "cell_type": "code",
     "collapsed": false,
     "input": [
      "import math \n",
      "E0 = 1./(36.*math.pi*10.**9.); # permitivity in free space \n",
      "k = 4.*math.pi*E0 ; \n",
      "q1 = 1.; #  charge on the first particle in coulombs \n",
      "q2 = 1.; #  charge on the second particle in coulombs \n",
      "d = 1.; #  distance between the particles in meter\n",
      "F = (q1*q2)/(k*d**2.); # force between the two particles in newtons \n",
      "\n",
      "print '%s %.e' %(\"force in free space between the two particles is in Newtons is:\",F)"
     ],
     "language": "python",
     "metadata": {},
     "outputs": [
      {
       "output_type": "stream",
       "stream": "stdout",
       "text": [
        "force in free space between the two particles is in Newtons is: 9e+09\n"
       ]
      }
     ],
     "prompt_number": 1
    }
   ],
   "metadata": {}
  }
 ]
}