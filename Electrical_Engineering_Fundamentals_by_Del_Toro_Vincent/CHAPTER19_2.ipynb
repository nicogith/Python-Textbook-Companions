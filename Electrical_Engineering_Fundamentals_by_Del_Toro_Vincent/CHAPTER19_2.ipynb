{
 "metadata": {
  "name": "",
  "signature": "sha256:8bdf07b58bb06ab7ac18d12761878f14e41d90294b93de5db531ecfbdc2d32ce"
 },
 "nbformat": 3,
 "nbformat_minor": 0,
 "worksheets": [
  {
   "cells": [
    {
     "cell_type": "heading",
     "level": 1,
     "metadata": {},
     "source": [
      "CHAPTER19 : COMPUTATIONS OF SYNCHRONOUS MOTOR PERFORMANCE"
     ]
    },
    {
     "cell_type": "heading",
     "level": 2,
     "metadata": {},
     "source": [
      "Example E01 : Pg 755"
     ]
    },
    {
     "cell_type": "code",
     "collapsed": false,
     "input": [
      "# a\n",
      "import math\n",
      "efficiency = 0.9; \n",
      "Pi = 200.*746./efficiency; # input power \n",
      "x = 11.; # reactance of the motor\n",
      "V1 = 2300./math.sqrt(3.); # voltage rating \n",
      "delta = 15.*math.pi/180.; # power angle\n",
      "Ef = Pi*x/(3.*V1*math.sin(delta)); # the induced excitation voltage per phase \n",
      "print '%s' %(\"a\")\n",
      "print '%s %.2f' %(\"the induced excitation voltage per phase = \",Ef)\n",
      "\n",
      "# b\n",
      "z = complex(0,x); # impedance of the motor \n",
      "ef = complex(Ef*math.cos(-delta),Ef*math.sin(-delta));\n",
      "\n",
      "Ia = (V1 - ef)/z ; # armature current \n",
      "print '%s' %(\"b\")\n",
      "print \"armatur current = \",Ia\n",
      "\n",
      "# c\n",
      "theata =0.693;# math.atan(imag(Ia)/real(Ia)); # phase difference between Ia and V1\n",
      "pf = math.cos(theata); # power factor \n",
      "\n",
      "print '%s' %(\"c\")\n",
      "print '%s %.2f' %(\"power factor = \",pf)\n",
      "\n",
      "if math.sin(theata)> 0 :\n",
      "    print '%s' %(\"leading\")\n",
      "else :\n",
      "    print '%s' %(\"lagging\")\n"
     ],
     "language": "python",
     "metadata": {},
     "outputs": [
      {
       "output_type": "stream",
       "stream": "stdout",
       "text": [
        "a\n",
        "the induced excitation voltage per phase =  1768.62\n",
        "b\n",
        "armatur current =  (41.6138454894+34.5862930161j)\n",
        "c\n",
        "power factor =  0.77\n",
        "leading\n"
       ]
      }
     ],
     "prompt_number": 1
    }
   ],
   "metadata": {}
  }
 ]
}