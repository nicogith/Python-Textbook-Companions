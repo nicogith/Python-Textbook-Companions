{
 "metadata": {
  "name": "",
  "signature": "sha256:e1e884fd0e7587823057599fb680d9acbb4ef66b18021e299bfc4daf77059bb5"
 },
 "nbformat": 3,
 "nbformat_minor": 0,
 "worksheets": [
  {
   "cells": [
    {
     "cell_type": "heading",
     "level": 1,
     "metadata": {},
     "source": [
      "CHAPTER04 : CIRCUIT DIFFERENTIAL EQUATIONS FORMS AND SOLUTIONS"
     ]
    },
    {
     "cell_type": "heading",
     "level": 2,
     "metadata": {},
     "source": [
      "Example E01 : Pg 125"
     ]
    },
    {
     "cell_type": "code",
     "collapsed": false,
     "input": [
      "# ad\n",
      "Zab = complex(1,-0.5); # impedance appearing across terminals ab\n",
      "Zbg = complex(1); # impedance appearing across terminals bg\n",
      "Zbcd = complex(2+1,2); # impedance appearing across terminals bcd\n",
      "Zad = Zab + (Zbg*Zbcd/(Zbg + Zbcd)); # impedance appearing across terminals ad\n",
      "print \"impedance appearing across terminals ad = \",Zad\n",
      "\n",
      "# dg \n",
      "Zdg = Zbg + (Zab*Zbcd/(Zab+Zbcd)); # impedance appearing across termainals dg\n",
      "print \"impedance appearing across terminals dg = \",Zdg"
     ],
     "language": "python",
     "metadata": {},
     "outputs": [
      {
       "output_type": "stream",
       "stream": "stdout",
       "text": [
        "impedance appearing across terminals ad =  (1.8-0.4j)\n",
        "impedance appearing across terminals dg =  (1.91780821918-0.219178082192j)\n"
       ]
      }
     ],
     "prompt_number": 1
    }
   ],
   "metadata": {}
  }
 ]
}