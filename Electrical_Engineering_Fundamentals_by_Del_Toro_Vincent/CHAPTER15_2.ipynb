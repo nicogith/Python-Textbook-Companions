{
 "metadata": {
  "name": "",
  "signature": "sha256:7879febd57e90b9a18589786b4cd69033cefdde9f9003a10376af967492a8b6b"
 },
 "nbformat": 3,
 "nbformat_minor": 0,
 "worksheets": [
  {
   "cells": [
    {
     "cell_type": "heading",
     "level": 1,
     "metadata": {},
     "source": [
      "CHAPTER15 : MAGNETIC CIRCUIT COMPUTATIONS"
     ]
    },
    {
     "cell_type": "heading",
     "level": 2,
     "metadata": {},
     "source": [
      "Example E01 : Pg 634"
     ]
    },
    {
     "cell_type": "code",
     "collapsed": false,
     "input": [
      "# a\n",
      "import math \n",
      "phi = 6.*10.**-4.; # given magnetic flux (in Wb)\n",
      "A = 0.001; #  cross sectional area (in meter square)\n",
      "B = phi/A ; # \n",
      "Ha = 10.; # magnetic field intensity of material a needed to establish   the given magnetic flux \n",
      "Hb = 77.; #  magnetic field intensity of material b\n",
      "Hc = 270.; #  magnetic field intensity of material c\n",
      "La = 0.3; # arc length of material a (in meters)\n",
      "Lb = 0.2; # arc length of material b (in meters) \n",
      "Lc = 0.1; # arc length of material c (in meters)\n",
      "\n",
      "F = Ha*La + Hb*Lb + Hc*Lc; # magnetomotive force\n",
      "print '%s' %(\"a\")\n",
      "print '%s %.2f' %(\"magnetomotive force needed to establish a flux of 6*10**-4(in At) = \",F)\n",
      "\n",
      "# b\n",
      "N = 100.; # no. of turns \n",
      "I = F/N; # current in amps\n",
      "print '%s' %(\"b\")\n",
      "print '%s %.2f' %(\"current that must be made to flow through the coil(in amps) = \",I)\n",
      "\n",
      "# c\n",
      "MU0 = 4.*math.pi*10.**-7.; \n",
      "MUa = B/Ha; # permeability of material a\n",
      "MUb = B/Hb; # permeability of material b\n",
      "MUc = B/Hc; # permeability of material c\n",
      "\n",
      "MUra = MUa/MU0; # relative permeability of material a\n",
      "MUrb = MUb/MU0; # relative permeability of material b\n",
      "MUrc = MUc/MU0; # relative permeability of material c\n",
      "\n",
      "Ra = Ha*La/phi; # reluctance of material a \n",
      "Rb = Hb*Lb/phi; # reluctance of material b\n",
      "Rc = Hc*Lc/phi; # reluctance of material c\n",
      "\n",
      "print '%s' %(\"c\")\n",
      "print '%s %.2f' %(\"relative permeability of material a = \",MUra)\n",
      "print '%s %.2f' %(\"relative permeability of material b = \",MUrb)\n",
      "print '%s %.2f' %(\"relative permeability of material c = \",MUrc)\n",
      "print '%s %.2f' %(\"reluctance of material a = \",Ra)\n",
      "print '%s %.2f' %(\"reluctance of material b = \",Rb)\n",
      "print '%s %.2f' %(\"reluctance of material c = \",Rc)"
     ],
     "language": "python",
     "metadata": {},
     "outputs": [
      {
       "output_type": "stream",
       "stream": "stdout",
       "text": [
        "a\n",
        "magnetomotive force needed to establish a flux of 6*10**-4(in At) =  45.40\n",
        "b\n",
        "current that must be made to flow through the coil(in amps) =  0.45\n",
        "c\n",
        "relative permeability of material a =  47746.48\n",
        "relative permeability of material b =  6200.84\n",
        "relative permeability of material c =  1768.39\n",
        "reluctance of material a =  5000.00\n",
        "reluctance of material b =  25666.67\n",
        "reluctance of material c =  45000.00\n"
       ]
      }
     ],
     "prompt_number": 1
    },
    {
     "cell_type": "heading",
     "level": 2,
     "metadata": {},
     "source": [
      "Example E03 : Pg 637"
     ]
    },
    {
     "cell_type": "code",
     "collapsed": false,
     "input": [
      "import math \n",
      "mu0 = 4.*math.pi*10.**-7.;\n",
      "A = 0.0025; # cross sectional area of the coil\n",
      "# dimensions of the coil (in meters)\n",
      "Lg = 0.002; # air gap length (in meters)\n",
      "Lbd = 0.025; \n",
      "Lde = 0.1;\n",
      "Lef = 0.025;\n",
      "Lfk = 0.2;\n",
      "Lbc = 0.175;\n",
      "Lcab = 0.5;\n",
      "\n",
      "Lbghc = 2.*(Lbd + Lde + Lef + (Lfk/2.)) - Lg;# length of the ferromagnetic material involved here\n",
      "\n",
      "phig = 4.*10.**-4.; # air gap flux (in Wb)\n",
      "Bg = phig/A ; # air gap flux density (in tesla)\n",
      "Hg = Bg/mu0 ; # feild intensity of the air gap \n",
      "mmfg = Hg*Lg ; # mmf produced in the air gap (in At)\n",
      "\n",
      "Bbc = 1.38 ; # flux density corresponding to cast steel\n",
      "\n",
      "Hbghc = 125.; # field intensity corresponding to flux density of 0.16T in the steel\n",
      "mmfbghc = Hbghc*Lbghc ; #  mmf corresponding to bghc\n",
      "\n",
      "mmfbc = mmfg + mmfbghc ; # mmf across path bc\n",
      "Hbc = mmfbc/Lbc;\n",
      "phibc = Bbc*A ; # flux produced in bc  \n",
      "\n",
      "phicab = phig + phibc; # total fiux existing in leg cab \n",
      "Bcab = phicab/0.00375; # flux density\n",
      "Hcab = 690.; \n",
      "mmfcab = Hcab*Lcab; # mmf in leg cab\n",
      "\n",
      "mmf = mmfbc + mmfcab ; # mmf produced by the coil\n",
      "\n",
      "print '%s %.2f' %(\"mmf produced by the coil(in At) = \",mmf)"
     ],
     "language": "python",
     "metadata": {},
     "outputs": [
      {
       "output_type": "stream",
       "stream": "stdout",
       "text": [
        "mmf produced by the coil(in At) =  661.90\n"
       ]
      }
     ],
     "prompt_number": 2
    },
    {
     "cell_type": "heading",
     "level": 2,
     "metadata": {},
     "source": [
      "Example E05 : Pg 646"
     ]
    },
    {
     "cell_type": "code",
     "collapsed": false,
     "input": [
      "# b\n",
      "import math \n",
      "mu0 = 4.*math.pi*10.**-7. ;\n",
      "# plunger magnet dimensions (in meters)\n",
      "x = 0.025; \n",
      "h = 0.05;\n",
      "a = 0.025;\n",
      "g = 0.00125; \n",
      "\n",
      "mmf = 1414.; # (in At)\n",
      "\n",
      "F = math.pi*a*mu0*(mmf**2.)*(h**2.)*(1./(x + h)**2.)/g; # magnitude of the force\n",
      "print '%s %.2f' %(\"magnitude of the force (in Newtons) = \",F)"
     ],
     "language": "python",
     "metadata": {},
     "outputs": [
      {
       "output_type": "stream",
       "stream": "stdout",
       "text": [
        "magnitude of the force (in Newtons) =  70.16\n"
       ]
      }
     ],
     "prompt_number": 3
    }
   ],
   "metadata": {}
  }
 ]
}