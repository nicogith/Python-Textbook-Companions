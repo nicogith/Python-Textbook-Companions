{
 "metadata": {
  "name": "",
  "signature": "sha256:2ade870854ad423c23bc0e9789e058b8c394048ea8748effcf2be142f7bdd1db"
 },
 "nbformat": 3,
 "nbformat_minor": 0,
 "worksheets": [
  {
   "cells": [
    {
     "cell_type": "heading",
     "level": 1,
     "metadata": {},
     "source": [
      "CHAPTER09 : SEMICONDUCTOR ELECTRONIC DEVICES"
     ]
    },
    {
     "cell_type": "heading",
     "level": 2,
     "metadata": {},
     "source": [
      "Example E02 : Pg 404"
     ]
    },
    {
     "cell_type": "code",
     "collapsed": false,
     "input": [
      "#  Quiescent point\n",
      "Idq = 0.0034; #  drain current\n",
      "Vdq = 15.; #  drain voltage\n",
      "Vgq = 1.; #  gate voltage\n",
      "\n",
      "Vdd = 24.; # drain supply voltage \n",
      "\n",
      "Rs = Vgq/Idq;\n",
      "print '%s %.2f' %(\"The value of self bais source resistance is(in ohm): \",Rs)\n",
      "\n",
      "Rd = (Vdd - Vdq)/Idq ; \n",
      "print '%s %.2f' %(\"The value of drain load resistance is(in ohm): \",Rd)"
     ],
     "language": "python",
     "metadata": {},
     "outputs": [
      {
       "output_type": "stream",
       "stream": "stdout",
       "text": [
        "The value of self bais source resistance is(in ohm):  294.12\n",
        "The value of drain load resistance is(in ohm):  2647.06\n"
       ]
      }
     ],
     "prompt_number": 1
    },
    {
     "cell_type": "heading",
     "level": 2,
     "metadata": {},
     "source": [
      "Example E03 : Pg 426"
     ]
    },
    {
     "cell_type": "code",
     "collapsed": false,
     "input": [
      "# a\n",
      "# transistor parameters \n",
      "import math \n",
      "R2 = 0.625;\n",
      "hie = 1.67;\n",
      "Rb = 4.16;\n",
      "Rl = 2.4;\n",
      "Roe = 150.;\n",
      " \n",
      "Cc = 25. * 10.**-6.;\n",
      "rBB = 0.29;\n",
      "rBE = 1.375;\n",
      "Cd = 6900. * 10.**-12.;\n",
      "Ct = 40. * 10.**-12.;\n",
      "gm = 0.032;\n",
      " \n",
      "Req = (Rl*Roe)/(Rl + Roe);\n",
      "hfe = 44.;\n",
      "a = 1. + (R2/Req);\n",
      "b = 1. + (hie/Rb);\n",
      "Aim = -hfe/(a*b); #  mid band frequency gain \n",
      "print '%s' %(\"a\")\n",
      "print '%s %.2f' %(\"The mid band frequency gain of the first stage of the circuit is: \",Aim)\n",
      "  \n",
      "# b\n",
      "Tl = 2.*math.pi*(Req + R2)*Cc*(10.**3.);\n",
      "Fl = 1./Tl; \n",
      "  \n",
      "Rp = (Req*R2)/(Req + R2);\n",
      "C = Cd + Ct*(1. + gm*Rp*10.**3.);\n",
      "d = Rb + hie ;\n",
      "e = rBE * (Rb + rBB)* 10.**3. * C ; \n",
      "Fh = d/(2.*math.pi*e);\n",
      "  \n",
      "BW = Fh - Fl;\n",
      "print '%s' %(\"b\")\n",
      "print '%s %.2f' %(\"The bandwidth of the first stage amplifier in Hz is :\",BW)\n",
      "  \n",
      "  "
     ],
     "language": "python",
     "metadata": {},
     "outputs": [
      {
       "output_type": "stream",
       "stream": "stdout",
       "text": [
        "a\n",
        "The mid band frequency gain of the first stage of the circuit is:  -24.83\n",
        "b\n",
        "The bandwidth of the first stage amplifier in Hz is : 20023.21\n"
       ]
      }
     ],
     "prompt_number": 2
    }
   ],
   "metadata": {}
  }
 ]
}