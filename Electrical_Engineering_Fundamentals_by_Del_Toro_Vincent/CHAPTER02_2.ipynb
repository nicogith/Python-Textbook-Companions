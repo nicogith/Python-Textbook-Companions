{
 "metadata": {
  "name": "",
  "signature": "sha256:7e1563b9ba55a374999a76facd1396d51cd44d5e5678108b5dac64f78b8c5047"
 },
 "nbformat": 3,
 "nbformat_minor": 0,
 "worksheets": [
  {
   "cells": [
    {
     "cell_type": "heading",
     "level": 1,
     "metadata": {},
     "source": [
      "CHAPTER02 : THE CIRCUIT ELEMENTS"
     ]
    },
    {
     "cell_type": "heading",
     "level": 2,
     "metadata": {},
     "source": [
      "Example E1 - Pg 27"
     ]
    },
    {
     "cell_type": "code",
     "collapsed": false,
     "input": [
      "#1a\n",
      "V = 1.; #  voltage supply \n",
      "R = 10.; #  resistance in ohms \n",
      "I = V/R # current flowing through R\n",
      "print '%s' %(\"a)\")\n",
      "print '%s %.f' %(\"voltage across the resistor (in volts)=\",V)\n",
      "print '%s %.2f' %(\"current flowing through the resistor (in amps) =\",I)\n",
      "\n",
      "#1b\n",
      "V = 1.; #  voltage supply \n",
      "R1 = 10.; #  first resistance in ohms \n",
      "R2 = 5.; # resistance of the second resistor \n",
      "Vr1 = V * (R1/(R1 + R2)); # voltage across R1\n",
      "Vr2 = V - Vr1; # voltage across R2\n",
      "Ir = Vr1/R1; # current flowing through R\n",
      "print '%s' %(\"b)\")\n",
      "print '%s %.2f' %(\"voltage across the first resistor (in volts)=\",Vr1)\n",
      "print '%s %.2f' %(\"voltage across the second resistor (in volts)=\",Vr2)\n",
      "print '%s %.2f' %(\"current flowing through the resistor (in amps) =\",Ir)\n",
      "\n",
      "#1c\n",
      "# c - a\n",
      "R1 = 10.; #  first resistance in ohms\n",
      "R2 = 10.;\n",
      "I = 1.; #  current source \n",
      "V = I*R1; #  voltage across R\n",
      "print '%s' %(\"c - a)\")\n",
      "print '%s %.f' %(\"voltage across the resistor (in volts)=\",V)\n",
      "print '%s %.f' %(\"current flowing through the resistor (in amps) =\",I)\n",
      "# c - b\n",
      "Vr1 = I*R1; #  voltage across R1\n",
      "Vr2 = I*R2; # voltage across R2\n",
      "Vr=Vr1+Vr2;\n",
      "print '%s' %(\"c - b)\")\n",
      "print '%s %.f' %(\"voltage across the resistor (in volts)=\",Vr)\n",
      "print '%s %.f' %(\"current flowing through the resistor (in amps) =\",I)\n"
     ],
     "language": "python",
     "metadata": {},
     "outputs": [
      {
       "output_type": "stream",
       "stream": "stdout",
       "text": [
        "a)\n",
        "voltage across the resistor (in volts)= 1\n",
        "current flowing through the resistor (in amps) = 0.10\n",
        "b)\n",
        "voltage across the first resistor (in volts)= 0.67\n",
        "voltage across the second resistor (in volts)= 0.33\n",
        "current flowing through the resistor (in amps) = 0.07\n",
        "c - a)\n",
        "voltage across the resistor (in volts)= 10\n",
        "current flowing through the resistor (in amps) = 1\n",
        "c - b)\n",
        "voltage across the resistor (in volts)= 20\n",
        "current flowing through the resistor (in amps) = 1\n"
       ]
      }
     ],
     "prompt_number": 7
    },
    {
     "cell_type": "heading",
     "level": 2,
     "metadata": {},
     "source": [
      "Example E2 - Pg 35"
     ]
    },
    {
     "cell_type": "code",
     "collapsed": false,
     "input": [
      "R = 100.; #  resistance in ohms\n",
      "I = 0.3; #  current in amps \n",
      "P = I**2 * R; #  power \n",
      "# power specification of the resistors available in the stock \n",
      "Pa = 5.;\n",
      "Pb = 7.5;\n",
      "Pc = 10.;\n",
      "\n",
      "if Pa > P :\n",
      "    print '%s' %(\"we should select resistor a\")\n",
      "if Pb > P :\n",
      "    print '%s' %(\"we should select resistor b\")\n",
      "if Pc > P :\n",
      "    print '%s' %(\"we should select resistor c\")"
     ],
     "language": "python",
     "metadata": {},
     "outputs": [
      {
       "output_type": "stream",
       "stream": "stdout",
       "text": [
        "we should select resistor c\n"
       ]
      }
     ],
     "prompt_number": 8
    },
    {
     "cell_type": "heading",
     "level": 2,
     "metadata": {},
     "source": [
      "Example E3 - Pg 35"
     ]
    },
    {
     "cell_type": "code",
     "collapsed": false,
     "input": [
      "L = 1.; # length of the copper wire in meters\n",
      "A = 1. * 10.**-4.; #  cross sectional area of the wire in meter square \n",
      "rho = 1.724 * 10.**-8.; #  resistivity of copper in ohm meter\n",
      "R = rho*L / A; #  resistance of the wire in ohm \n",
      "\n",
      "print '%s %.2e' %(\"resistance of the wire (in ohms)=\",R) "
     ],
     "language": "python",
     "metadata": {},
     "outputs": [
      {
       "output_type": "stream",
       "stream": "stdout",
       "text": [
        "resistance of the wire (in ohms)= 1.72e-04\n"
       ]
      }
     ],
     "prompt_number": 9
    },
    {
     "cell_type": "heading",
     "level": 2,
     "metadata": {},
     "source": [
      "Example E4 - Pg 36"
     ]
    },
    {
     "cell_type": "code",
     "collapsed": false,
     "input": [
      "# 1 inches = 0.0254meters\n",
      "# 1 foot = 0.3048 meters\n",
      "import math \n",
      "d = 0.1*0.0254; #  diameter of the wire in meters\n",
      "L = 10.*0.3048; # length of the wire in meters \n",
      "rho = 1.724*10.**-8.; #  resistivity of the wire in ohm-meter\n",
      "A = math.pi*(d/2.)**2.; #  cross sectional area of the wire \n",
      "R = rho*L/A; # resistance of the wire in ohm \n",
      "print '%s %.2f' %(\"resistance of the wire (in ohm)=\",R)"
     ],
     "language": "python",
     "metadata": {},
     "outputs": [
      {
       "output_type": "stream",
       "stream": "stdout",
       "text": [
        "resistance of the wire (in ohm)= 0.01\n"
       ]
      }
     ],
     "prompt_number": 10
    },
    {
     "cell_type": "heading",
     "level": 2,
     "metadata": {},
     "source": [
      "Example E5 - Pg 41"
     ]
    },
    {
     "cell_type": "code",
     "collapsed": false,
     "input": [
      "%matplotlib inline\n",
      "import math\n",
      "import numpy as np\n",
      "from matplotlib import pyplot\n",
      "L = 0.1; #  inductance of the coil in henry \n",
      "t1= np.linspace(0,0.1, num=101)\n",
      "t2= np.linspace(0.101,0.3, num=201)\n",
      "t3= np.linspace(0.301,0.6,num=301)\n",
      "t4= np.linspace(0.601,0.7,num=101)\n",
      "t5= np.linspace(0.701,0.9,num=201)\n",
      "# current variation as a function of time \n",
      "i1 = 100.*t1;\n",
      "i2 = (-50.*t2) + 15.;\n",
      "i3 = np.zeros(301)\n",
      "for i in range(0,301):\n",
      "\ti3[i] = -100.*math.sin(math.pi*(t3[i]-0.3)/0.3);\n",
      "\n",
      "i4 = (100.*t4) - 60.;\n",
      "i5 = (-50.*t5) + 45.;\n",
      "\n",
      "t = ([t1,t2,t3,t4,t5]);\n",
      "i = ([i1,i2,i3,i4,i5]);\n",
      "pyplot.plot(t1, i1);\n",
      "pyplot.plot(t2, i2);\n",
      "pyplot.plot(t3, i3);\n",
      "pyplot.plot(t4, i4);\n",
      "pyplot.plot(t5, i5);\n",
      "\n",
      "dt = 0.001;\n",
      "di1 = np.diff(i1);\n",
      "di2 = np.diff(i2);\n",
      "di3 = np.diff(i3);\n",
      "di4 = np.diff(i4);\n",
      "di5 = np.diff(i5);\n",
      "V1 =np.array((L/dt)*di1); # voltage drop appearing across the inductor terminals\n",
      "V2 =np.array((L/dt)*di2); # voltage drop appearing across the inductor terminals\n",
      "V3 =np.array((L/dt)*di3); # voltage drop appearing across the inductor terminals\n",
      "V4 = np.array((L/dt)*di4); # voltage drop appearing across the inductor terminals\n",
      "V5 = np.array((L/dt)*di5); # voltage drop appearing across the inductor terminals\n",
      "print(V2)\n",
      "Tv = np.linspace(0,0.899,num=900);\n",
      "V = []\n",
      "V.extend(V1)\n",
      "V.extend(V2)\n",
      "V.extend(V3)\n",
      "V.extend(V4)\n",
      "V.extend(V5)\n",
      "print(len(V))\n",
      "pyplot.plot(Tv, V)\n",
      "pyplot.show();"
     ],
     "language": "python",
     "metadata": {},
     "outputs": [
      {
       "output_type": "stream",
       "stream": "stdout",
       "text": [
        "[-4.975 -4.975 -4.975 -4.975 -4.975 -4.975 -4.975 -4.975 -4.975 -4.975\n",
        " -4.975 -4.975 -4.975 -4.975 -4.975 -4.975 -4.975 -4.975 -4.975 -4.975\n",
        " -4.975 -4.975 -4.975 -4.975 -4.975 -4.975 -4.975 -4.975 -4.975 -4.975\n",
        " -4.975 -4.975 -4.975 -4.975 -4.975 -4.975 -4.975 -4.975 -4.975 -4.975\n",
        " -4.975 -4.975 -4.975 -4.975 -4.975 -4.975 -4.975 -4.975 -4.975 -4.975\n",
        " -4.975 -4.975 -4.975 -4.975 -4.975 -4.975 -4.975 -4.975 -4.975 -4.975\n",
        " -4.975 -4.975 -4.975 -4.975 -4.975 -4.975 -4.975 -4.975 -4.975 -4.975\n",
        " -4.975 -4.975 -4.975 -4.975 -4.975 -4.975 -4.975 -4.975 -4.975 -4.975\n",
        " -4.975 -4.975 -4.975 -4.975 -4.975 -4.975 -4.975 -4.975 -4.975 -4.975\n",
        " -4.975 -4.975 -4.975 -4.975 -4.975 -4.975 -4.975 -4.975 -4.975 -4.975\n",
        " -4.975 -4.975 -4.975 -4.975 -4.975 -4.975 -4.975 -4.975 -4.975 -4.975\n",
        " -4.975 -4.975 -4.975 -4.975 -4.975 -4.975 -4.975 -4.975 -4.975 -4.975\n",
        " -4.975 -4.975 -4.975 -4.975 -4.975 -4.975 -4.975 -4.975 -4.975 -4.975\n",
        " -4.975 -4.975 -4.975 -4.975 -4.975 -4.975 -4.975 -4.975 -4.975 -4.975\n",
        " -4.975 -4.975 -4.975 -4.975 -4.975 -4.975 -4.975 -4.975 -4.975 -4.975\n",
        " -4.975 -4.975 -4.975 -4.975 -4.975 -4.975 -4.975 -4.975 -4.975 -4.975\n",
        " -4.975 -4.975 -4.975 -4.975 -4.975 -4.975 -4.975 -4.975 -4.975 -4.975\n",
        " -4.975 -4.975 -4.975 -4.975 -4.975 -4.975 -4.975 -4.975 -4.975 -4.975\n",
        " -4.975 -4.975 -4.975 -4.975 -4.975 -4.975 -4.975 -4.975 -4.975 -4.975\n",
        " -4.975 -4.975 -4.975 -4.975 -4.975 -4.975 -4.975 -4.975 -4.975 -4.975]\n",
        "900\n"
       ]
      },
      {
       "metadata": {},
       "output_type": "display_data",
       "png": "[encoded data removed]",
       "text": [
        "<matplotlib.figure.Figure at 0x5cdc0b0>"
       ]
      }
     ],
     "prompt_number": 11
    },
    {
     "cell_type": "heading",
     "level": 2,
     "metadata": {},
     "source": [
      "Example E7 - Pg 60"
     ]
    },
    {
     "cell_type": "code",
     "collapsed": false,
     "input": [
      "# a\n",
      "Ri = 1.; \n",
      "Rf = 39.;\n",
      "A = 10.**5.; # open loop gain of the op-amp\n",
      "G = A/(1. + (A*Ri/(Ri+Rf))); # actual voltage gain of the circuit \n",
      "print '%s' %(\"a\")\n",
      "print '%s %.2f' %(\"actual voltage of the circuit =\",G)\n",
      "\n",
      "# b\n",
      "G1 = 1 + (Rf/Ri); #  voltage gain of the circuit with infinite open loop gain\n",
      "print '%s' %(\"b\")\n",
      "print '%s %.f' %(\"for ideal case the voltage gain =\",G1)\n",
      "\n",
      "# c\n",
      "er = ((G1 - G)/G)*100.; # percent error \n",
      "print '%s' %(\"c\")\n",
      "print '%s %.2f' %(\"percent error of the ideal value compared to the actual value=\",er)"
     ],
     "language": "python",
     "metadata": {},
     "outputs": [
      {
       "output_type": "stream",
       "stream": "stdout",
       "text": [
        "a\n",
        "actual voltage of the circuit = 39.98\n",
        "b\n",
        "for ideal case the voltage gain = 40\n",
        "c\n",
        "percent error of the ideal value compared to the actual value= 0.04\n"
       ]
      }
     ],
     "prompt_number": 12
    },
    {
     "cell_type": "heading",
     "level": 2,
     "metadata": {},
     "source": [
      "Example E8 - Pg 61"
     ]
    },
    {
     "cell_type": "code",
     "collapsed": false,
     "input": [
      "G = 4.; #  voltage gain of the circuit \n",
      "r = G -1.; #  ratio of the resistances in the non-inverting op-amp circuit\n",
      "print '%s %.2f' %(\"Rf/Ri =\",r)\n",
      "# Result:\n",
      "# A suitable choice for R1 is 10K, Hence Rf = 30K\n"
     ],
     "language": "python",
     "metadata": {},
     "outputs": [
      {
       "output_type": "stream",
       "stream": "stdout",
       "text": [
        "Rf/Ri = 3.00\n"
       ]
      }
     ],
     "prompt_number": 15
    },
    {
     "cell_type": "heading",
     "level": 2,
     "metadata": {},
     "source": [
      "Example E9 - Pg 61"
     ]
    },
    {
     "cell_type": "code",
     "collapsed": false,
     "input": [
      "G = 4.;\n",
      "r = G; #  ratio of the resistances in the inverting op-amp circuit\n",
      "print '%s %.f' %(\"Rf/Ri\",r)\n",
      "# Result;\n",
      "# A suitable choice for Rf=30K and R1=7.5K\n",
      "# therefore input resistance R1 = 7.5K\n"
     ],
     "language": "python",
     "metadata": {},
     "outputs": [
      {
       "output_type": "stream",
       "stream": "stdout",
       "text": [
        "Rf/Ri 4\n"
       ]
      }
     ],
     "prompt_number": 14
    }
   ],
   "metadata": {}
  }
 ]
}