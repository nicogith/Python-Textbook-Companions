{
 "cells": [
  {
   "cell_type": "markdown",
   "metadata": {
    "collapsed": true
   },
   "source": [
    "# Chapter6 One Component Systems"
   ]
  },
  {
   "cell_type": "markdown",
   "metadata": {},
   "source": [
    "## Example 6.1, Page no.26"
   ]
  },
  {
   "cell_type": "code",
   "execution_count": 1,
   "metadata": {
    "collapsed": false
   },
   "outputs": [
    {
     "name": "stdout",
     "output_type": "stream",
     "text": [
      "vapour pressure using ideal gas = 175.647 mm\n",
      "vapour pressure using equation = 142.673 mm\n"
     ]
    }
   ],
   "source": [
    "import math\n",
    "#initialisation of variables    \n",
    "G=28.6      #in gms\n",
    "R=0.08205   #l−atm moleˆ−1 degˆ−1\n",
    "T=30        #in Celsius\n",
    "M=153.8     #in gms\n",
    "v=20.01     #in litres\n",
    "#CALCULATIONS\n",
    "p=G*R*(273.1+T)*760/(M*v)\n",
    "p1=p/(1+(p/760))\n",
    "#RESULTS\n",
    "p=round(p,3)\n",
    "p1=round(p1,3)\n",
    "print 'vapour pressure using ideal gas =',p,'mm'\n",
    "print 'vapour pressure using equation =',p1,'mm'"
   ]
  },
  {
   "cell_type": "markdown",
   "metadata": {},
   "source": [
    "## Example 6.2, Page no.27"
   ]
  },
  {
   "cell_type": "code",
   "execution_count": 2,
   "metadata": {
    "collapsed": false
   },
   "outputs": [
    {
     "name": "stdout",
     "output_type": "stream",
     "text": [
      "change in boling point of water per mm = 0.04 deg mmˆ−1\n"
     ]
    }
   ],
   "source": [
    "import math\n",
    "#initialisation of variables  \n",
    "T=100       #in Celsius\n",
    "Vv=30.199   #in l moleˆ−1\n",
    "Vl=0.01878  #in l moleˆ−1\n",
    "H=539.7     #in cal gˆ−1\n",
    "m=18.01     #in g moleˆ−1\n",
    "R=0.04129   #in l−atm cal ˆ−1\n",
    "#CALCULATIONS\n",
    "r=H*m*R*760/((273.1+T)*(Vv-Vl))\n",
    "r1=1/r\n",
    "#RESULTS\n",
    "r1=round(r1,2)\n",
    "print 'change in boling point of water per mm =',r1, 'deg mmˆ−1'"
   ]
  },
  {
   "cell_type": "markdown",
   "metadata": {},
   "source": [
    "## Example 6.3, Page no.27"
   ]
  },
  {
   "cell_type": "code",
   "execution_count": 3,
   "metadata": {
    "collapsed": false
   },
   "outputs": [
    {
     "name": "stdout",
     "output_type": "stream",
     "text": [
      "change in pressure per degree= -132.98 atm deg ˆ−1\n"
     ]
    }
   ],
   "source": [
    "import math\n",
    "#initialisation of variables\n",
    "T=0      #in Celsius\n",
    "H=79.7   #in cal gˆ−1\n",
    "vd=-9.06*10**-5        #in l gˆ−1\n",
    "R=0.04129              #in l−atm cal ˆ−1\n",
    "#CALCULATIONS\n",
    "r=H*R/((273.15+T)*vd)\n",
    "#RESULTS\n",
    "r=round(r,2)\n",
    "print 'change in pressure per degree=',r,'atm deg ˆ−1'"
   ]
  },
  {
   "cell_type": "markdown",
   "metadata": {},
   "source": [
    "## Example 6.4, Page no.27"
   ]
  },
  {
   "cell_type": "code",
   "execution_count": 4,
   "metadata": {
    "collapsed": false
   },
   "outputs": [
    {
     "name": "stdout",
     "output_type": "stream",
     "text": [
      "Heat of vapourization= 10582.14 cal moleˆ−1\n"
     ]
    }
   ],
   "source": [
    "import math\n",
    "#initialisation of variables\n",
    "y1=32.47*10**-4\n",
    "y2=34.71*10**-4\n",
    "x1=1.625\n",
    "x2=1.107\n",
    "R=1.987         #in cal moleˆ−1 Kˆ−1\n",
    "#CALCULATIONS\n",
    "slope=(x2-x1)/(y2-y1)\n",
    "Hvap=-slope *2.303*R\n",
    "#RESULTS\n",
    "Hvap=round(Hvap,2)\n",
    "print 'Heat of vapourization=',Hvap,'cal moleˆ−1'"
   ]
  },
  {
   "cell_type": "markdown",
   "metadata": {},
   "source": [
    "## Example 6.5, Page no.28"
   ]
  },
  {
   "cell_type": "code",
   "execution_count": 5,
   "metadata": {
    "collapsed": false
   },
   "outputs": [
    {
     "name": "stdout",
     "output_type": "stream",
     "text": [
      "molar heat of vapourization = 7182 cal mole ˆ−1\n"
     ]
    }
   ],
   "source": [
    "import math\n",
    "#initialisation of variables\n",
    "H=342      #in cal moleˆ−1 gˆ−1\n",
    "G=21       #in gms\n",
    "T=60       #in C\n",
    "R=1.987    #in cal / mol K\n",
    "#CALCULATIONS\n",
    "Hvap=G*H\n",
    "P1=1/(math.exp(Hvap *9/(2.303*R*(273.1+T)*H)))\n",
    "#RESULTS\n",
    "print 'molar heat of vapourization =',Hvap,'cal mole ˆ−1'"
   ]
  }
 ],
 "metadata": {
  "anaconda-cloud": {},
  "kernelspec": {
   "display_name": "Python [Root]",
   "language": "python",
   "name": "Python [Root]"
  },
  "language_info": {
   "codemirror_mode": {
    "name": "ipython",
    "version": 2
   },
   "file_extension": ".py",
   "mimetype": "text/x-python",
   "name": "python",
   "nbconvert_exporter": "python",
   "pygments_lexer": "ipython2",
   "version": "2.7.11"
  }
 },
 "nbformat": 4,
 "nbformat_minor": 0
}
