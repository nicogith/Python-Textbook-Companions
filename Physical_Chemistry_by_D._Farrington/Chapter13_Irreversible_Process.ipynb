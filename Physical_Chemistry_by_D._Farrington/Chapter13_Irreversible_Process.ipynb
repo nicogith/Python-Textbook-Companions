{
 "cells": [
  {
   "cell_type": "markdown",
   "metadata": {},
   "source": [
    "# Chapter13 Irreversible Process In Liquids"
   ]
  },
  {
   "cell_type": "markdown",
   "metadata": {},
   "source": [
    "## Example 13.1,Page no.51"
   ]
  },
  {
   "cell_type": "code",
   "execution_count": 1,
   "metadata": {
    "collapsed": false
   },
   "outputs": [
    {
     "name": "stdout",
     "output_type": "stream",
     "text": [
      "number of grams of copper deposited at cathode= 0.0198 gram\n",
      "volume of oxygen liberated at anode= 0.0039 lit\n"
     ]
    }
   ],
   "source": [
    "import math\n",
    "#initialisation of variables\n",
    "t=10.0 #min\n",
    "i=0.1 #amp\n",
    "M=63.54 #gm moleˆ−1\n",
    "n=2.0\n",
    "F=96500 #amp−sec equivˆ−1\n",
    "Mo=32.0 #g moleˆ−1\n",
    "T=25.0      #C\n",
    "R=0.08205   #l−atm degˆ−1 moleˆ−1 \n",
    "p=740.0\n",
    "n1=4.0\n",
    "#CALCULATIONS\n",
    "m=t*60*i*M/(F*n)\n",
    "V=t*60*i*Mo*R*(273+T)*760/(F*n1*Mo*p)\n",
    "#RESULTS\n",
    "m=round(m,4)\n",
    "V=round(V,4)\n",
    "print  'number of grams of copper deposited at cathode=',m,'gram'\n",
    "print  'volume of oxygen liberated at anode=',V,'lit' "
   ]
  },
  {
   "cell_type": "markdown",
   "metadata": {},
   "source": [
    "## Example 13.2,Page no.52"
   ]
  },
  {
   "cell_type": "code",
   "execution_count": 2,
   "metadata": {
    "collapsed": false
   },
   "outputs": [
    {
     "name": "stdout",
     "output_type": "stream",
     "text": [
      "cell constant= 0.2281 cmˆ−1\n",
      "specific conductance= 0.0007 ohmˆ−1 cmˆ−1\n"
     ]
    }
   ],
   "source": [
    "import math\n",
    "#initialisation of variables\n",
    "r=82.4 #ohms\n",
    "k= 0.002768 #ohmˆ−1\n",
    "R1= 326 #ohm\n",
    "#CALCULATIONS\n",
    "K= r*k\n",
    "K1= (K/R1)\n",
    "#RESULTS \n",
    "K=round(K,4)\n",
    "K1=round(K1,4)\n",
    "print 'cell constant=',K,'cmˆ−1'\n",
    "print 'specific conductance=',K1,'ohmˆ−1 cmˆ−1'"
   ]
  },
  {
   "cell_type": "markdown",
   "metadata": {},
   "source": [
    "## Example 13.3,Page no.52"
   ]
  },
  {
   "cell_type": "code",
   "execution_count": 3,
   "metadata": {
    "collapsed": false
   },
   "outputs": [
    {
     "name": "stdout",
     "output_type": "stream",
     "text": [
      "equivalent conductance= 139.94 cmˆ2 equivˆ−1 ohmˆ−1\n"
     ]
    }
   ],
   "source": [
    "import math\n",
    "#initialisation of variables\n",
    "C= 0.005 #N \n",
    "k= 6.997*10** -4 #ohmˆ−1 cmˆ−1 \n",
    "#CALCULATIONS \n",
    "A= 1000*k/C \n",
    "#RESULTS\n",
    "print 'equivalent conductance=',A,'cmˆ2 equivˆ−1 ohmˆ−1'"
   ]
  },
  {
   "cell_type": "markdown",
   "metadata": {},
   "source": [
    "## Example 13.4,Page no.52"
   ]
  },
  {
   "cell_type": "code",
   "execution_count": 4,
   "metadata": {
    "collapsed": false
   },
   "outputs": [
    {
     "name": "stdout",
     "output_type": "stream",
     "text": [
      "equivalent conductance of acetic acid= 390.6 cmˆ2 equivˆ−1 ohmˆ−1\n"
     ]
    }
   ],
   "source": [
    "import math\n",
    "#initialisation of variables\n",
    "AHcl= 426.1 #cmˆ2 equivˆ−1 ohmˆ−1 \n",
    "ANaC2H3O2= 91 #cmˆ2 equivˆ−1 ohmˆ−1 \n",
    "ANaCl= 126.5 #cmˆ2 equivˆ−1 ohmˆ−1 \n",
    "#CALCULATIONS \n",
    "AHC2H3O2= AHcl+ANaC2H3O2 -ANaCl \n",
    "#RESULTS\n",
    "print 'equivalent conductance of acetic acid=',AHC2H3O2,'cmˆ2 equivˆ−1 ohmˆ−1'"
   ]
  },
  {
   "cell_type": "markdown",
   "metadata": {},
   "source": [
    "## Example 13.5,Page no.53"
   ]
  },
  {
   "cell_type": "code",
   "execution_count": 16,
   "metadata": {
    "collapsed": false
   },
   "outputs": [
    {
     "name": "stdout",
     "output_type": "stream",
     "text": [
      "ionisation constant= 0.0000178\n"
     ]
    }
   ],
   "source": [
    "import math\n",
    "#initialisation of variables\n",
    "Ke=48.15 \n",
    "Ki=390.6 \n",
    "c=0.001028 #N \n",
    "#CALCULATIONS \n",
    "a=Ke/Ki\n",
    "K=a**2*c/(1-a) \n",
    "#RESULTS\n",
    "K=format(K, '.7f')\n",
    "print 'ionisation constant=',K"
   ]
  },
  {
   "cell_type": "markdown",
   "metadata": {},
   "source": [
    "## Example 13.6,Page no.53"
   ]
  },
  {
   "cell_type": "code",
   "execution_count": 6,
   "metadata": {
    "collapsed": false
   },
   "outputs": [
    {
     "name": "stdout",
     "output_type": "stream",
     "text": [
      "electrical field strength= 0.082 volts cmˆ−1\n",
      "mobility of potassium ion= 0.0007 cmˆ2 volt ˆ−1 cmˆ−1\n"
     ]
    }
   ],
   "source": [
    "import math\n",
    "#initialisation of variables\n",
    "i=0.00521 #amp\n",
    "A=0.23 #cmˆ2\n",
    "k=0.0129 #ohmˆ−1 cmˆ−1\n",
    "t=67 #min\n",
    "l=4.64 #cm\n",
    "#CALCULATIONS\n",
    "r=i/(A*k) \n",
    "uK=l/(t*60*r) \n",
    "#RESULTS\n",
    "r=round(R,4)\n",
    "uK=round(uK,4)\n",
    "print 'electrical field strength=',r,'volts cmˆ−1'\n",
    "print 'mobility of potassium ion=',uK,'cmˆ2 volt ˆ−1 cmˆ−1'"
   ]
  },
  {
   "cell_type": "markdown",
   "metadata": {},
   "source": [
    "## Example 13.7,Page no.54"
   ]
  },
  {
   "cell_type": "code",
   "execution_count": 7,
   "metadata": {
    "collapsed": false
   },
   "outputs": [
    {
     "name": "stdout",
     "output_type": "stream",
     "text": [
      "specific conductance of sodium chloride= 0.0107  ohmˆ−1 cmˆ−1\n"
     ]
    }
   ],
   "source": [
    "import math\n",
    "#initialisation of variables\n",
    "C=0.1 #N \n",
    "F=96500 # coloumbs \n",
    "mna=42.6*10** -5 #cmˆ2 volt secˆ−1 \n",
    "mcl=68*10**-5 # cmˆ2 c o l t secˆ−1 \n",
    "#CALCULATIONS \n",
    "k=F*(mna+mcl)*C/1000 \n",
    "#RESULTS\n",
    "k=round(k,4)\n",
    "print 'specific conductance of sodium chloride=',k,' ohmˆ−1 cmˆ−1'"
   ]
  },
  {
   "cell_type": "markdown",
   "metadata": {},
   "source": [
    "## Example 13.8,Page no.54"
   ]
  },
  {
   "cell_type": "code",
   "execution_count": 8,
   "metadata": {
    "collapsed": false
   },
   "outputs": [
    {
     "name": "stdout",
     "output_type": "stream",
     "text": [
      "transference number of chlorine= 0.51\n"
     ]
    }
   ],
   "source": [
    "import math\n",
    "#initialisation of variables\n",
    "V=4.9   #faradayˆ−1 \n",
    "c=0.1  #N \n",
    "#CALCULATIONS \n",
    "TK=V*c \n",
    "Tcl=1-TK \n",
    "#RESULTS\n",
    "print 'transference number of chlorine=',Tcl"
   ]
  },
  {
   "cell_type": "markdown",
   "metadata": {},
   "source": [
    "## Example 13.9,Page no.55"
   ]
  },
  {
   "cell_type": "code",
   "execution_count": 9,
   "metadata": {
    "collapsed": false
   },
   "outputs": [
    {
     "name": "stdout",
     "output_type": "stream",
     "text": [
      "copper transference number= 0.72\n"
     ]
    }
   ],
   "source": [
    "import math\n",
    "#initialisation of variables\n",
    "Mc=63.54 #gms\n",
    "n=2.0\n",
    "mc=0.3 #gms\n",
    "mc1=1.43\n",
    "mc2=1.2140\n",
    "#CALCULATIONS\n",
    "Me=Mc/n \n",
    "Tc=((mc/Me)-((mc1 -mc2)/Me))/(mc/Me)\n",
    "Ta=1-Tc\n",
    "#RESULTS\n",
    "print 'copper transference number=',Ta"
   ]
  },
  {
   "cell_type": "markdown",
   "metadata": {},
   "source": [
    "## Example 13.10,Page no.55"
   ]
  },
  {
   "cell_type": "code",
   "execution_count": 10,
   "metadata": {
    "collapsed": false
   },
   "outputs": [
    {
     "name": "stdout",
     "output_type": "stream",
     "text": [
      "A0 for acetic acid= 390.352\n"
     ]
    }
   ],
   "source": [
    "import math\n",
    "#initialisation of variables\n",
    "Tn=0.820\n",
    "Tn1=0.450\n",
    "A=426.1\n",
    "A1=91\n",
    "#CALCULATIONS\n",
    "l=Tn*A\n",
    "l1=Tn1*A1 \n",
    "L=l+l1 \n",
    "#RESULTS \n",
    "print 'A0 for acetic acid=',L"
   ]
  },
  {
   "cell_type": "markdown",
   "metadata": {},
   "source": [
    "## Example 13.11,Page no.56"
   ]
  },
  {
   "cell_type": "code",
   "execution_count": 17,
   "metadata": {
    "collapsed": false
   },
   "outputs": [
    {
     "name": "stdout",
     "output_type": "stream",
     "text": [
      "limiting diffusion cooeficient= 0.00001979 cmˆ2 secˆ−1\n"
     ]
    }
   ],
   "source": [
    "import math\n",
    "#initialisation of variables\n",
    "T=25.0 #C\n",
    "n=2.0\n",
    "F=96500.0 # coloumbs\n",
    "R=8.316 #J moleˆ−1 Kˆ−1\n",
    "a=76.2*10 -5\n",
    "a1=79*10**-5\n",
    "A=155.2*10** -5 \n",
    "#CALCULATIONS \n",
    "D0=n*a*a1*R*(273+T)*10**-6/(F*A)\n",
    "#RESULTS\n",
    "print 'limiting diffusion cooeficient=',format(D0, '.8f'),'cmˆ2 secˆ−1'"
   ]
  }
 ],
 "metadata": {
  "anaconda-cloud": {},
  "kernelspec": {
   "display_name": "Python [Root]",
   "language": "python",
   "name": "Python [Root]"
  },
  "language_info": {
   "codemirror_mode": {
    "name": "ipython",
    "version": 2
   },
   "file_extension": ".py",
   "mimetype": "text/x-python",
   "name": "python",
   "nbconvert_exporter": "python",
   "pygments_lexer": "ipython2",
   "version": "2.7.11"
  }
 },
 "nbformat": 4,
 "nbformat_minor": 0
}
