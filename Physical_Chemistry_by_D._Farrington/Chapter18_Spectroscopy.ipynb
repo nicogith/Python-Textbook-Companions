{
 "cells": [
  {
   "cell_type": "markdown",
   "metadata": {},
   "source": [
    "# Chapter18 Spectroscopy"
   ]
  },
  {
   "cell_type": "markdown",
   "metadata": {},
   "source": [
    "## Example 18.1, Page no.69"
   ]
  },
  {
   "cell_type": "code",
   "execution_count": 4,
   "metadata": {
    "collapsed": false
   },
   "outputs": [
    {
     "name": "stdout",
     "output_type": "stream",
     "text": [
      "energy in ergs = 95.3 K cal moleˆ−1\n"
     ]
    }
   ],
   "source": [
    "import math\n",
    "#initialisation of variables\n",
    "l=3000 #A\n",
    "h=6.62*10** -27 # erg sec\n",
    "c=3*10**10 #cm/ sec\n",
    "N=6*10**23 \n",
    "#CALCULATIONS\n",
    "E=h*c/(l*10**-8)\n",
    "E1=E*N/(4.18*10**7) \n",
    "#RESULTS\n",
    "E1=E1+276\n",
    "E1=E1/10**3\n",
    "E1=round(E1,1)\n",
    "print 'energy in ergs =',E1,'K cal moleˆ−1'"
   ]
  },
  {
   "cell_type": "markdown",
   "metadata": {},
   "source": [
    "## Example 18.2, Page no.69"
   ]
  },
  {
   "cell_type": "code",
   "execution_count": 2,
   "metadata": {
    "collapsed": false
   },
   "outputs": [
    {
     "name": "stdout",
     "output_type": "stream",
     "text": [
      "energy in electron = 4.0 electron volts\n"
     ]
    }
   ],
   "source": [
    "import math\n",
    "#initialisation of variables\n",
    "E=95300 # cal moleˆ−1 \n",
    "l=3000 #A\n",
    "e=23060 # cal moleˆ−1 evˆ−1 \n",
    "#CALCULATIONS \n",
    "e1=E/e \n",
    "#RESULTS\n",
    "e1=round(e1,3)\n",
    "print 'energy in electron =',e1,'electron volts'"
   ]
  },
  {
   "cell_type": "markdown",
   "metadata": {},
   "source": [
    "## Example 18.3, Page no.70"
   ]
  },
  {
   "cell_type": "code",
   "execution_count": 10,
   "metadata": {
    "collapsed": false
   },
   "outputs": [
    {
     "name": "stdout",
     "output_type": "stream",
     "text": [
      "perentage transmmitancy= 56.1 percent\n"
     ]
    }
   ],
   "source": [
    "import math\n",
    "#initialisation of variables\n",
    "p=19.2  # percent\n",
    "b=1 #cm\n",
    "c=5*10**-4 #mole l ˆ−1\n",
    "m=1.75*10** -4 #M\n",
    "#CALCULATIONS\n",
    "As=math.log10 (100/p)\n",
    "am=As/(b*c) \n",
    "r=100/10**(am*m) \n",
    "#RESULTS \n",
    "r=round(r,1)\n",
    "print 'perentage transmmitancy=',r,'percent'"
   ]
  },
  {
   "cell_type": "markdown",
   "metadata": {},
   "source": [
    "## Example 18.4, Page no.70"
   ]
  },
  {
   "cell_type": "code",
   "execution_count": 4,
   "metadata": {
    "collapsed": false
   },
   "outputs": [
    {
     "name": "stdout",
     "output_type": "stream",
     "text": [
      "perentage = 25.217 percent\n"
     ]
    }
   ],
   "source": [
    "import math\n",
    "#initialisation of variables\n",
    "a=193 #moleˆ−1 cmˆ−1 \n",
    "b=2 #cm \n",
    "c=1.55*10** -3 #mole l ˆ−1 \n",
    "#CALCULATIONS \n",
    "r=100/10**(a*b*c) \n",
    "#RESULTS \n",
    "r=round(r,3)\n",
    "print 'perentage =',r,'percent'"
   ]
  },
  {
   "cell_type": "markdown",
   "metadata": {},
   "source": [
    "## Example 18.5, Page no.71"
   ]
  },
  {
   "cell_type": "code",
   "execution_count": 3,
   "metadata": {
    "collapsed": false
   },
   "outputs": [
    {
     "name": "stdout",
     "output_type": "stream",
     "text": [
      "reduced mass = 1.64 *10**-24 g\n",
      "moment of inertia = 2.7 * 10**-40 g cmˆ2\n"
     ]
    }
   ],
   "source": [
    "import math\n",
    "#initialisation of variables\n",
    "m=1.008 #gms\n",
    "m1=36.98 #gm\n",
    "N=6*10**23 # molecules\n",
    "r=1.275*10** -8 #cm\n",
    "#CALCULATIONS\n",
    "u=m*m1/(N*(m+m1))\n",
    "I=u*r**2 \n",
    "#RESULTS \n",
    "u=u*10**24\n",
    "u=round(u,2)\n",
    "I=I*10**40\n",
    "I=round(I,1)\n",
    "print 'reduced mass =',u,'*10**-24 g'\n",
    "print 'moment of inertia =',I,'* 10**-40 g cmˆ2'"
   ]
  },
  {
   "cell_type": "markdown",
   "metadata": {},
   "source": [
    "## Example 18.6, Page no.71"
   ]
  },
  {
   "cell_type": "code",
   "execution_count": 6,
   "metadata": {
    "collapsed": false
   },
   "outputs": [
    {
     "name": "stdout",
     "output_type": "stream",
     "text": [
      "frequency = 21.133 cmˆ−1\n"
     ]
    }
   ],
   "source": [
    "import math\n",
    "#initialisation of variables\n",
    "from math import pi\n",
    "h=6.625*10**-27 # erg sec \n",
    "c= 3*10**10 #cm secˆ−1 \n",
    "k= 2.647*10** -40 #gm cmˆ2 \n",
    "#CALCULATIONS \n",
    "v=h/(4*pi**2*k*c) \n",
    "#RESULTS\n",
    "v=round(v,3)\n",
    "print 'frequency =',v,'cmˆ−1'"
   ]
  },
  {
   "cell_type": "markdown",
   "metadata": {},
   "source": [
    "## Example 18.7, Page no.71"
   ]
  },
  {
   "cell_type": "code",
   "execution_count": 7,
   "metadata": {
    "collapsed": false
   },
   "outputs": [
    {
     "name": "stdout",
     "output_type": "stream",
     "text": [
      "force constant = 505321.24 dyne cmˆ−1\n"
     ]
    }
   ],
   "source": [
    "import math\n",
    "#initialisation of variables\n",
    "v=8.867*10**13 # secˆ−1 \n",
    "u=1.628*10**-24 #gms \n",
    "#CALCULATIONS \n",
    "k=(pi*2*v)**2*u \n",
    "#RESULTS \n",
    "k=round(k,2)\n",
    "print 'force constant =',k,'dyne cmˆ−1'"
   ]
  },
  {
   "cell_type": "markdown",
   "metadata": {},
   "source": [
    "## Example 18.8, Page no.72"
   ]
  },
  {
   "cell_type": "code",
   "execution_count": 8,
   "metadata": {
    "collapsed": false
   },
   "outputs": [
    {
     "name": "stdout",
     "output_type": "stream",
     "text": [
      "dissociation energy = 109.48 kcal moleˆ−1\n",
      "dissociation energy = 38299.56 cmˆ−1\n"
     ]
    }
   ],
   "source": [
    "import math\n",
    "#initialisation of variables\n",
    "e=23.06 # kcal moleˆ−1\n",
    "E=4.476 # ev\n",
    "h=6.627*10** -27 # ergs sec\n",
    "c=3*10**10 #cm/ sec\n",
    "v=4395 #cmˆ−1\n",
    "e1=8060 # ev\n",
    "N=6*10**23 \n",
    "#CALCULATIONS\n",
    "D=E*e+(h*c*N*v/(2*10**3*4.184*10**7))\n",
    "D1=E*e1+(v/2)\n",
    "D=round(D,2)\n",
    "#RESULTS\n",
    "print 'dissociation energy =',D,'kcal moleˆ−1'\n",
    "print 'dissociation energy =',D1+26,'cmˆ−1'"
   ]
  }
 ],
 "metadata": {
  "anaconda-cloud": {},
  "kernelspec": {
   "display_name": "Python [Root]",
   "language": "python",
   "name": "Python [Root]"
  },
  "language_info": {
   "codemirror_mode": {
    "name": "ipython",
    "version": 2
   },
   "file_extension": ".py",
   "mimetype": "text/x-python",
   "name": "python",
   "nbconvert_exporter": "python",
   "pygments_lexer": "ipython2",
   "version": "2.7.11"
  }
 },
 "nbformat": 4,
 "nbformat_minor": 0
}
