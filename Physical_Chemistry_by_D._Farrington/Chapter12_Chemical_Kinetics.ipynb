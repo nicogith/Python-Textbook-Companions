{
 "cells": [
  {
   "cell_type": "markdown",
   "metadata": {},
   "source": [
    "# Chapter12 Chemical Kinetics"
   ]
  },
  {
   "cell_type": "markdown",
   "metadata": {},
   "source": [
    "## Example 12.1, Page no.48"
   ]
  },
  {
   "cell_type": "code",
   "execution_count": 3,
   "metadata": {
    "collapsed": false
   },
   "outputs": [
    {
     "name": "stdout",
     "output_type": "stream",
     "text": [
      "fraction of nitrogen pentoxide remain unreacted after 1 hour= 0.311\n"
     ]
    }
   ],
   "source": [
    "import math\n",
    "#initialisation of variables\n",
    "Vs=23.95 #ml \n",
    "Ve=34.75 #ml \n",
    "#CALCULATIONS \n",
    "fr=(Ve-Vs)/Ve \n",
    "#RESULTS \n",
    "fr=round(fr,3)\n",
    "print 'fraction of nitrogen pentoxide remain unreacted after 1 hour=',fr"
   ]
  },
  {
   "cell_type": "markdown",
   "metadata": {},
   "source": [
    "## Example 12.2, Page no.48"
   ]
  },
  {
   "cell_type": "code",
   "execution_count": 4,
   "metadata": {
    "collapsed": false
   },
   "outputs": [
    {
     "name": "stdout",
     "output_type": "stream",
     "text": [
      "fraction remained undecomposed 0.5\n"
     ]
    }
   ],
   "source": [
    "import math\n",
    "#initialisation of variables\n",
    "Ps=200.0 #mm \n",
    "Pe=390.0 #mm \n",
    "Pt=300.0 #mm \n",
    "t=500.0    #sec\n",
    "Pe1=400.0 #mm \n",
    "#CALCULATIONS \n",
    "r= (Pe1-Pt)/(Pe1 -Ps)\n",
    "#RESULTS\n",
    "print 'fraction remained undecomposed',r"
   ]
  },
  {
   "cell_type": "markdown",
   "metadata": {},
   "source": [
    "## Example 12.3, Page no.49"
   ]
  },
  {
   "cell_type": "code",
   "execution_count": 5,
   "metadata": {
    "collapsed": false
   },
   "outputs": [
    {
     "name": "stdout",
     "output_type": "stream",
     "text": [
      "time of residence of gas= 25.0 sec\n"
     ]
    }
   ],
   "source": [
    "import math\n",
    "#initialisation of variables\n",
    "V=1200.0 #ml\n",
    "V1=100.0 #ml\n",
    "t=300.0 # sec\n",
    "#CALCULATIONS\n",
    "r=V/t\n",
    "t1=V1/r\n",
    "#RESULTS \n",
    "print 'time of residence of gas=',t1,'sec'"
   ]
  },
  {
   "cell_type": "markdown",
   "metadata": {},
   "source": [
    "## Example 12.4, Page no.49"
   ]
  },
  {
   "cell_type": "code",
   "execution_count": 6,
   "metadata": {
    "collapsed": false
   },
   "outputs": [
    {
     "name": "stdout",
     "output_type": "stream",
     "text": [
      "k= 0.107 lit molˆ−1 secˆ−1\n"
     ]
    }
   ],
   "source": [
    "import math\n",
    "#initialisation of variables\n",
    "y=0.550\n",
    "x=2400.0\n",
    "d=0.00494\n",
    "#CALCULATIONS\n",
    "s=y/x\n",
    "k=s*2.303/d\n",
    "#RESULTS \n",
    "k=round(k,3)\n",
    "print 'k=',k,'lit molˆ−1 secˆ−1'"
   ]
  },
  {
   "cell_type": "markdown",
   "metadata": {},
   "source": [
    "## Example 12.7, Page no.50"
   ]
  },
  {
   "cell_type": "code",
   "execution_count": 7,
   "metadata": {
    "collapsed": false
   },
   "outputs": [
    {
     "name": "stdout",
     "output_type": "stream",
     "text": [
      "second order rate for this constant= 0.0061 lit molˆ−1 secˆ−1\n"
     ]
    }
   ],
   "source": [
    "import math\n",
    "from math import sqrt,pi\n",
    "#initialisation of variables\n",
    "T=393.7 #C \n",
    "k=2.6*10** -4 # l i t molˆ−1 secˆ−1 \n",
    "R=1.987 # cal moleˆ−1 Kˆ−1 \n",
    "E=45.6 # kcal moleˆ−1 \n",
    "wl=3.5 #A \n",
    "N=6*10**23 # molecules \n",
    "R1=8.31*10 # ergs moleˆ−1 Kˆ−1 \n",
    "M=127.9 #g moleˆ−1 \n",
    "#CALCULATIONS \n",
    "k=2*10**2*N*sqrt(pi*R1*(273.1+T)/M)*(wl*10**-8)**2*math.exp(-E*10**3/(R*(273.1+T)))\n",
    "#RESULTS\n",
    "k=round(k,4)\n",
    "print 'second order rate for this constant=',k,'lit molˆ−1 secˆ−1'"
   ]
  }
 ],
 "metadata": {
  "anaconda-cloud": {},
  "kernelspec": {
   "display_name": "Python [Root]",
   "language": "python",
   "name": "Python [Root]"
  },
  "language_info": {
   "codemirror_mode": {
    "name": "ipython",
    "version": 2
   },
   "file_extension": ".py",
   "mimetype": "text/x-python",
   "name": "python",
   "nbconvert_exporter": "python",
   "pygments_lexer": "ipython2",
   "version": "2.7.11"
  }
 },
 "nbformat": 4,
 "nbformat_minor": 0
}
