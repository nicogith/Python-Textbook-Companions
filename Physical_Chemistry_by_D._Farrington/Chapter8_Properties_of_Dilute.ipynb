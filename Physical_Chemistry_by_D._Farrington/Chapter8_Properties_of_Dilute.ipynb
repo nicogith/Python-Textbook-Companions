{
 "cells": [
  {
   "cell_type": "markdown",
   "metadata": {},
   "source": [
    "# Chapter8 Properties of Dilute Solutions"
   ]
  },
  {
   "cell_type": "markdown",
   "metadata": {},
   "source": [
    "## Example 8.2, Pageno.32"
   ]
  },
  {
   "cell_type": "code",
   "execution_count": 3,
   "metadata": {
    "collapsed": false
   },
   "outputs": [
    {
     "name": "stdout",
     "output_type": "stream",
     "text": [
      "molal boiling point constant= 0.513 f deg molalˆ−1\n"
     ]
    }
   ],
   "source": [
    "import math\n",
    "#initialisation of variables\n",
    "R=1.987       #in cal /mole K\n",
    "T=100.0         #in Celsius\n",
    "M1=18.02      #in gms\n",
    "Hvap=539.7    #cal gˆ−1\n",
    "#CALCULATIONS\n",
    "Kb=R*(273.1+T)**2*M1/(1000*M1*Hvap)\n",
    "#RESULTS\n",
    "Kb=round(Kb,3)\n",
    "print 'molal boiling point constant=',Kb,'f deg molalˆ−1'"
   ]
  },
  {
   "cell_type": "markdown",
   "metadata": {},
   "source": [
    "## Example 8.3, Pageno.32"
   ]
  },
  {
   "cell_type": "code",
   "execution_count": 4,
   "metadata": {
    "collapsed": false
   },
   "outputs": [
    {
     "name": "stdout",
     "output_type": "stream",
     "text": [
      "molecular weight of dinitrozene = 168.67 g moleˆ−1\n"
     ]
    }
   ],
   "source": [
    "import math\n",
    "#initialisation of variables\n",
    "Kb=2.53        #in deg molalˆ−1\n",
    "w2=1           #in gms\n",
    "Tb=0.3         #in Celsius\n",
    "w1=50          #in gms\n",
    "#CALCULATIONS\n",
    "M2=Kb*w2*1000/(Tb*w1)\n",
    "#RESULTS\n",
    "M2=round(M2,2)\n",
    "print 'molecular weight of dinitrozene =',M2,'g moleˆ−1'"
   ]
  },
  {
   "cell_type": "markdown",
   "metadata": {},
   "source": [
    "## Example 8.4, Pageno.33"
   ]
  },
  {
   "cell_type": "code",
   "execution_count": 5,
   "metadata": {
    "collapsed": false
   },
   "outputs": [
    {
     "name": "stdout",
     "output_type": "stream",
     "text": [
      "boiling water of a solution= 0.569 deg\n"
     ]
    }
   ],
   "source": [
    "import math\n",
    "#initialisation of variables\n",
    "mu=5.0           #in gms\n",
    "Mu=60.06       #in gms\n",
    "mw=75.0          #in gms\n",
    "#CALCULATIONS\n",
    "Tb=0.513*mu*1000/(Mu*mw)\n",
    "#RESULTS\n",
    "Tb=round(Tb,3)\n",
    "print 'boiling water of a solution=',Tb,'deg'"
   ]
  },
  {
   "cell_type": "markdown",
   "metadata": {},
   "source": [
    "## Example 8.5, Pageno.33"
   ]
  },
  {
   "cell_type": "code",
   "execution_count": 6,
   "metadata": {
    "collapsed": false
   },
   "outputs": [
    {
     "name": "stdout",
     "output_type": "stream",
     "text": [
      "Kf of water= 1.859 deg molalˆ−1\n"
     ]
    }
   ],
   "source": [
    "import math\n",
    "#initialisation of variables\n",
    "R=1.987       #in cal moleˆ−1 Kˆ−1\n",
    "T=0           #in Celsius units\n",
    "M=18.02       #in gms\n",
    "Hf=79.7       #in cal gˆ−1\n",
    "#CALCULATIONS\n",
    "Kf=R*(273.1+T)**2*M/(1000*M*Hf)\n",
    "#RESULTS\n",
    "Kf=round(Kf,3)\n",
    "print 'Kf of water=',Kf,'deg molalˆ−1'"
   ]
  },
  {
   "cell_type": "markdown",
   "metadata": {},
   "source": [
    "## Example 8.6, Pageno.34"
   ]
  },
  {
   "cell_type": "code",
   "execution_count": 7,
   "metadata": {
    "collapsed": false
   },
   "outputs": [
    {
     "name": "stdout",
     "output_type": "stream",
     "text": [
      "osmotic pressure of sucrose solution= 26.911 atm\n"
     ]
    }
   ],
   "source": [
    "import math\n",
    "#initialisation of variables\n",
    "M=18.02      #in g moleˆ−1\n",
    "d=0.99564    #in g/ cc\n",
    "R=0.08205    #in l−atm degˆ−1 moleˆ−1\n",
    "T=30         #in Celsius\n",
    "P1=31.824    #in mm\n",
    "P10=31.207   # in mm\n",
    "#CALCULATIONS\n",
    "p=R*(273.15+T)*2.303*1000*d*math.log10(P1/P10)/M\n",
    "#RESULTS\n",
    "p=round(p,3)\n",
    "print 'osmotic pressure of sucrose solution=',p,'atm'"
   ]
  },
  {
   "cell_type": "markdown",
   "metadata": {},
   "source": [
    "## Example 8.7, Pageno.34"
   ]
  },
  {
   "cell_type": "code",
   "execution_count": 8,
   "metadata": {
    "collapsed": false
   },
   "outputs": [
    {
     "name": "stdout",
     "output_type": "stream",
     "text": [
      "osmotic pressure of sucrose solution= 24.86 atm\n"
     ]
    }
   ],
   "source": [
    "import math\n",
    "#initialisation of variables\n",
    "R=0.082       #in l−atm / mol ˆ−1 Kˆ−1\n",
    "T=30          #in C\n",
    "V=1           #in litres\n",
    "#CALCULATIONS\n",
    "p=R*(273.15+T)/V \n",
    "#RESULTS\n",
    "p=round(p,2)\n",
    "print 'osmotic pressure of sucrose solution=',p,'atm'"
   ]
  }
 ],
 "metadata": {
  "anaconda-cloud": {},
  "kernelspec": {
   "display_name": "Python [Root]",
   "language": "python",
   "name": "Python [Root]"
  },
  "language_info": {
   "codemirror_mode": {
    "name": "ipython",
    "version": 2
   },
   "file_extension": ".py",
   "mimetype": "text/x-python",
   "name": "python",
   "nbconvert_exporter": "python",
   "pygments_lexer": "ipython2",
   "version": "2.7.11"
  }
 },
 "nbformat": 4,
 "nbformat_minor": 0
}
