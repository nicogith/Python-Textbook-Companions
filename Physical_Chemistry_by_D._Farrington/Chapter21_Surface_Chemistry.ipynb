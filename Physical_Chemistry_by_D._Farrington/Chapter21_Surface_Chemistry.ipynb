{
 "cells": [
  {
   "cell_type": "markdown",
   "metadata": {},
   "source": [
    "# Chapter21 Surface Chemistry"
   ]
  },
  {
   "cell_type": "markdown",
   "metadata": {},
   "source": [
    "## Example 21.1, Page no.79"
   ]
  },
  {
   "cell_type": "code",
   "execution_count": 25,
   "metadata": {
    "collapsed": false
   },
   "outputs": [
    {
     "name": "stdout",
     "output_type": "stream",
     "text": [
      "cross −sectional area = 970741.0 cmˆ2\n",
      "thcikness t of the film = 0.25 * 10^-5 cm\n"
     ]
    }
   ],
   "source": [
    "import math\n",
    "#initialisation of variables\n",
    "A=500.0 #cmˆ2\n",
    "m=0.106 #mg\n",
    "N=6*10*23 # molecules\n",
    "M=284.0 #g moleˆ−1\n",
    "d=0.85 #g/cmˆ3\n",
    "#CALCULATIONS\n",
    "A1=A*M/(N*m*10**-3) \n",
    "t= m*(10**-3)/((A*d)*(10**-6)) \n",
    "#RESULTS\n",
    "A1=round(A1,1)\n",
    "t=round(t,2)\n",
    "print 'cross −sectional area =',A1,'cmˆ2'\n",
    "print 'thcikness t of the film =',t,'* 10^-5 cm'"
   ]
  },
  {
   "cell_type": "markdown",
   "metadata": {},
   "source": [
    "## Example 21.2, Page no.79"
   ]
  },
  {
   "cell_type": "code",
   "execution_count": 14,
   "metadata": {
    "collapsed": false
   },
   "outputs": [
    {
     "name": "stdout",
     "output_type": "stream",
     "text": [
      "Surface area per gram of gel = 559.8 * 10^10 mˆ2 gˆ−1\n"
     ]
    }
   ],
   "source": [
    "import math\n",
    "#initialisation of variables\n",
    "V=129 #ml gˆ−1 \n",
    "N=6*10**23 # molecules \n",
    "A=16.2 #Aˆ2 \n",
    "#CALCULATIONS \n",
    "SA=V*N*A/((22.4)*10**23 )\n",
    "#RESULTS\n",
    "SA=round(SA,1)\n",
    "print 'Surface area per gram of gel =',SA,'* 10^10 mˆ2 gˆ−1'"
   ]
  }
 ],
 "metadata": {
  "anaconda-cloud": {},
  "kernelspec": {
   "display_name": "Python [Root]",
   "language": "python",
   "name": "Python [Root]"
  },
  "language_info": {
   "codemirror_mode": {
    "name": "ipython",
    "version": 2
   },
   "file_extension": ".py",
   "mimetype": "text/x-python",
   "name": "python",
   "nbconvert_exporter": "python",
   "pygments_lexer": "ipython2",
   "version": "2.7.11"
  }
 },
 "nbformat": 4,
 "nbformat_minor": 0
}
