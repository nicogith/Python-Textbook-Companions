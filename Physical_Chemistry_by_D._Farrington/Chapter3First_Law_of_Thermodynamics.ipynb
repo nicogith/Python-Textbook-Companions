{
 "cells": [
  {
   "cell_type": "markdown",
   "metadata": {},
   "source": [
    "# Chapter 3 First Law of Thermodynamics"
   ]
  },
  {
   "cell_type": "markdown",
   "metadata": {},
   "source": [
    "## Example 3.1, Page no.12"
   ]
  },
  {
   "cell_type": "code",
   "execution_count": 1,
   "metadata": {
    "collapsed": false
   },
   "outputs": [
    {
     "name": "stdout",
     "output_type": "stream",
     "text": [
      "maximum work done=  2877.59 cal\n"
     ]
    }
   ],
   "source": [
    "import math\n",
    "#initialisation of variables\n",
    "R= 1.987  #in cal molˆ−1 Kˆ−1\n",
    "T= 0      #in Celsius\n",
    "V1= 22.4  #lit\n",
    "V2= 2.24 \n",
    "#CALCULATIONS\n",
    "wrev= 2.303*R*(273.1+T)*math.log(V1/V2)\n",
    "#RESULTS \n",
    "wrev=round(wrev,2)\n",
    "print 'maximum work done= ',wrev, 'cal'"
   ]
  },
  {
   "cell_type": "markdown",
   "metadata": {},
   "source": [
    "## Example 3.4, Page no.12"
   ]
  },
  {
   "cell_type": "code",
   "execution_count": 2,
   "metadata": {
    "collapsed": false
   },
   "outputs": [
    {
     "name": "stdout",
     "output_type": "stream",
     "text": [
      "Cp of zinc at constant pressure a room temperature= 0.096 cal deg gˆ−1\n"
     ]
    }
   ],
   "source": [
    "import math\n",
    "#initialisation of variables\n",
    "Cp= 0.096  # in cal deg gˆ−1\n",
    "#RESULTS \n",
    "print 'Cp of zinc at constant pressure a room temperature=',Cp, 'cal deg gˆ−1'"
   ]
  }
 ],
 "metadata": {
  "kernelspec": {
   "display_name": "Python [Root]",
   "language": "python",
   "name": "Python [Root]"
  },
  "language_info": {
   "codemirror_mode": {
    "name": "ipython",
    "version": 2
   },
   "file_extension": ".py",
   "mimetype": "text/x-python",
   "name": "python",
   "nbconvert_exporter": "python",
   "pygments_lexer": "ipython2",
   "version": "2.7.11"
  }
 },
 "nbformat": 4,
 "nbformat_minor": 0
}
