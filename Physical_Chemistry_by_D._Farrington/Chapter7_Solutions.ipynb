{
 "cells": [
  {
   "cell_type": "markdown",
   "metadata": {},
   "source": [
    "# Chapter7 Solutions"
   ]
  },
  {
   "cell_type": "markdown",
   "metadata": {},
   "source": [
    "## Example 7.1,Page no.29"
   ]
  },
  {
   "cell_type": "code",
   "execution_count": 2,
   "metadata": {
    "collapsed": false
   },
   "outputs": [
    {
     "name": "stdout",
     "output_type": "stream",
     "text": [
      "mole fraction of benzene vapour= 0.351 f\n"
     ]
    }
   ],
   "source": [
    "import math\n",
    "#initialisation of variables\n",
    "nb=0.4\n",
    "pb=385        #in mm\n",
    "nt=0.6\n",
    "pt=139        #in mm\n",
    "#CALCULATIONS\n",
    "Pb=pb*nb\n",
    "Pt=pt*nt\n",
    "PT=Pb+Pt\n",
    "Xt=Pt/PT\n",
    "#RESULTS\n",
    "Xt=round(Xt,3)\n",
    "print 'mole fraction of benzene vapour=',Xt,'f'"
   ]
  },
  {
   "cell_type": "markdown",
   "metadata": {},
   "source": [
    "## Example 7.2,Page no.29"
   ]
  },
  {
   "cell_type": "code",
   "execution_count": 3,
   "metadata": {
    "collapsed": false
   },
   "outputs": [
    {
     "name": "stdout",
     "output_type": "stream",
     "text": [
      "moles of carbon dioxide= 0.03 mole litre ˆ−1\n"
     ]
    }
   ],
   "source": [
    "import math\n",
    "#initialisation of variables\n",
    "K=1.25*10**6\n",
    "m=1000        #in gms\n",
    "M=18.02       #in gms\n",
    "#CALCULATIONS\n",
    "nco2=760*m/(M*K)\n",
    "#RESULTS\n",
    "nco2=round(nco2,2)\n",
    "print 'moles of carbon dioxide=',nco2,'mole litre ˆ−1'"
   ]
  },
  {
   "cell_type": "markdown",
   "metadata": {},
   "source": [
    "## Example 7.3,Page no.30"
   ]
  },
  {
   "cell_type": "code",
   "execution_count": 4,
   "metadata": {
    "collapsed": false
   },
   "outputs": [
    {
     "name": "stdout",
     "output_type": "stream",
     "text": [
      "mole fraction of benzene= 0.575 f\n",
      "mole fraction of benzene vapour= 0.773 f\n"
     ]
    }
   ],
   "source": [
    "import math\n",
    "#initialisation of variables\n",
    "Vp=1022.0         #in mm\n",
    "Vp1=406.0         #in mm 5\n",
    "#CALCULATIONS\n",
    "Xb=(760-Vp1)/(Vp-Vp1)\n",
    "Xb1=Vp*Xb/760\n",
    "#RESULTS\n",
    "Xb=round(Xb,3)\n",
    "Xb1=round(Xb1,3)\n",
    "print 'mole fraction of benzene=',Xb,'f'\n",
    "print 'mole fraction of benzene vapour=',Xb1,'f'"
   ]
  },
  {
   "cell_type": "markdown",
   "metadata": {},
   "source": [
    "## Example 7.4,Page no.30"
   ]
  },
  {
   "cell_type": "code",
   "execution_count": 5,
   "metadata": {
    "collapsed": false
   },
   "outputs": [
    {
     "name": "stdout",
     "output_type": "stream",
     "text": [
      "molecular weight of nitro −benzene= 123.63 g moleˆ−1\n"
     ]
    }
   ],
   "source": [
    "import math\n",
    "#initialisation of variables\n",
    "P1=731.9            #in mm\n",
    "P2=712.4            #in mm\n",
    "Mb=18               #in gms\n",
    "r=0.188\n",
    "#CALCULATIONS\n",
    "Ma=r*Mb*P2/(P1-P2)\n",
    "#RESULTS\n",
    "Ma=round(Ma,2)\n",
    "print 'molecular weight of nitro −benzene=',Ma,'g moleˆ−1'"
   ]
  }
 ],
 "metadata": {
  "kernelspec": {
   "display_name": "Python [Root]",
   "language": "python",
   "name": "Python [Root]"
  },
  "language_info": {
   "codemirror_mode": {
    "name": "ipython",
    "version": 2
   },
   "file_extension": ".py",
   "mimetype": "text/x-python",
   "name": "python",
   "nbconvert_exporter": "python",
   "pygments_lexer": "ipython2",
   "version": "2.7.11"
  }
 },
 "nbformat": 4,
 "nbformat_minor": 0
}
