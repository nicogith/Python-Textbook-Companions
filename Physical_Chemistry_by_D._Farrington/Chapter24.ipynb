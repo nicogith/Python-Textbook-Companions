{
 "cells": [
  {
   "cell_type": "markdown",
   "metadata": {},
   "source": [
    "# Chapter24 Nuclear Chemistry"
   ]
  },
  {
   "cell_type": "markdown",
   "metadata": {},
   "source": [
    "## Example 24.1,Page no.85"
   ]
  },
  {
   "cell_type": "code",
   "execution_count": 21,
   "metadata": {
    "collapsed": false
   },
   "outputs": [
    {
     "name": "stdout",
     "output_type": "stream",
     "text": [
      "Binding Energy = 92.09 Mev\n"
     ]
    }
   ],
   "source": [
    "import math\n",
    "#intialisation of varaibles\n",
    "E=931 #Mev/amu\n",
    "nc=6\n",
    "m=1.00814 #amu\n",
    "m1=1.00898\n",
    "mc=12.0038\n",
    "#CALCULAIONS\n",
    "md=nc*m+nc*m1-mc \n",
    "BE=E*md \n",
    "#RESULTS \n",
    "BE=round(BE,2)\n",
    "print 'Binding Energy =',BE,'Mev'"
   ]
  },
  {
   "cell_type": "markdown",
   "metadata": {},
   "source": [
    "## Example 24.2,Page no.85"
   ]
  },
  {
   "cell_type": "code",
   "execution_count": 5,
   "metadata": {
    "collapsed": false
   },
   "outputs": [
    {
     "name": "stdout",
     "output_type": "stream",
     "text": [
      "avagadro number = 6.15 * 10**23\n"
     ]
    }
   ],
   "source": [
    "import math\n",
    "#intialisation of varaibles\n",
    "r=1.07*10** -4 #ml gˆ−1 dayˆ−1\n",
    "N1=3.4*10**10 # alpha particles gˆ−1 secˆ−1 \n",
    "#CALCULATIONS \n",
    "N=22400*N1*24*60*60/r \n",
    "#RESULTS \n",
    "N=N*10**-23\n",
    "N=round(N,3)\n",
    "print 'avagadro number =',N,'* 10**23'"
   ]
  },
  {
   "cell_type": "markdown",
   "metadata": {},
   "source": [
    "## Example 24.3,Page no.86"
   ]
  },
  {
   "cell_type": "code",
   "execution_count": 23,
   "metadata": {
    "collapsed": false
   },
   "outputs": [
    {
     "name": "stdout",
     "output_type": "stream",
     "text": [
      "millilitres of radon = 0.0007 ml\n"
     ]
    }
   ],
   "source": [
    "import math\n",
    "#intialisation of varaibles\n",
    "R=0.08205 # l−atm moleˆ−1 Kˆ−1\n",
    "T=25 #C\n",
    "p=1 #atm\n",
    "Mr=226 #gms\n",
    "th=3.82 # days\n",
    "t=1620 # years\n",
    "#CALCULATIONS \n",
    "NRn=th/(Mr*t*365.26) \n",
    "V=NRn*R*(273+T)*1000/p \n",
    "#RESULTS\n",
    "V=round(V,4)\n",
    "print 'millilitres of radon =',V,'ml'"
   ]
  },
  {
   "cell_type": "markdown",
   "metadata": {},
   "source": [
    "## Example 24.4,Page no.86"
   ]
  },
  {
   "cell_type": "code",
   "execution_count": 35,
   "metadata": {
    "collapsed": false
   },
   "outputs": [
    {
     "name": "stdout",
     "output_type": "stream",
     "text": [
      "total energy of this reaction = 0.019 Mev\n"
     ]
    }
   ],
   "source": [
    "import math\n",
    "#intialisation of varaibles\n",
    "mli=7.01822 #amu\n",
    "mH=1.00814 #amu\n",
    "mHe=4.00387 #amu\n",
    "n=2\n",
    "E=931 #Mev/amu\n",
    "#CALCULATIONS\n",
    "dE=(-n*mHe+mH+mli)\n",
    "#RESULTS \n",
    "dE=round(dE,3)\n",
    "print 'total energy of this reaction =',dE,'Mev'"
   ]
  },
  {
   "cell_type": "markdown",
   "metadata": {},
   "source": [
    "## Example 24.5,Page no.87"
   ]
  },
  {
   "cell_type": "code",
   "execution_count": 33,
   "metadata": {
    "collapsed": false
   },
   "outputs": [
    {
     "name": "stdout",
     "output_type": "stream",
     "text": [
      "mass of neutron = 1.009 amu\n"
     ]
    }
   ],
   "source": [
    "import math\n",
    "#intialisation of varaibles\n",
    "mr=2.01474 #amu \n",
    "mH=0.00237 #amu \n",
    "mD=1.00814 #amu \n",
    "#CALCULATIONS \n",
    "mn=mr+mH-mD \n",
    "#RESULTS\n",
    "mn=round(mn,3)\n",
    "print 'mass of neutron =',mn,'amu'"
   ]
  },
  {
   "cell_type": "markdown",
   "metadata": {},
   "source": [
    "## Example 24.6,Page no.87"
   ]
  },
  {
   "cell_type": "code",
   "execution_count": 3,
   "metadata": {
    "collapsed": false
   },
   "outputs": [
    {
     "name": "stdout",
     "output_type": "stream",
     "text": [
      "wavelength =  36584.3 M disintegrations per second\n"
     ]
    }
   ],
   "source": [
    "import math\n",
    "#intialisation of varaibles\n",
    "t=1600 # years \n",
    "M=226.0 #gms \n",
    "k=3.7*10**10 # disintegrations per second \n",
    "#CALCULATIONS \n",
    "wl=0.693/(t*365*24*60*60) \n",
    "r=wl*6.02*10.0**23.0/M \n",
    "#RESULTS\n",
    "r=r/10**6\n",
    "r=round(r,1)\n",
    "print 'wavelength = ',r,'M disintegrations per second'"
   ]
  },
  {
   "cell_type": "markdown",
   "metadata": {},
   "source": [
    "## Example 24.8,Page no.88"
   ]
  },
  {
   "cell_type": "code",
   "execution_count": 27,
   "metadata": {
    "collapsed": false
   },
   "outputs": [
    {
     "name": "stdout",
     "output_type": "stream",
     "text": [
      "age of pitchblende = 335.686 million years\n"
     ]
    }
   ],
   "source": [
    "import math\n",
    "#intialisation of varaibles\n",
    "ku=1.52*10** -10 # yearˆ−1\n",
    "ru=0.0453\n",
    "ru1=1.0523\n",
    "Mu=238 #gms\n",
    "mu=206 #gms\n",
    "#CALCULATIONS\n",
    "dt=ru*Mu/(ku*ru1*mu) \n",
    "t=2.303*math.log10(ru1/(ru1 -(ru*Mu/mu)))/(ku*10**6) \n",
    "#RESULTS\n",
    "t=round(t,3)\n",
    "print 'age of pitchblende =',t,'million years'"
   ]
  }
 ],
 "metadata": {
  "anaconda-cloud": {},
  "kernelspec": {
   "display_name": "Python [Root]",
   "language": "python",
   "name": "Python [Root]"
  },
  "language_info": {
   "codemirror_mode": {
    "name": "ipython",
    "version": 2
   },
   "file_extension": ".py",
   "mimetype": "text/x-python",
   "name": "python",
   "nbconvert_exporter": "python",
   "pygments_lexer": "ipython2",
   "version": "2.7.11"
  }
 },
 "nbformat": 4,
 "nbformat_minor": 0
}
