{
 "cells": [
  {
   "cell_type": "markdown",
   "metadata": {},
   "source": [
    "# Chapter4 Thermochemistry"
   ]
  },
  {
   "cell_type": "markdown",
   "metadata": {},
   "source": [
    "## Example 4.1, Page no.14"
   ]
  },
  {
   "cell_type": "code",
   "execution_count": 2,
   "metadata": {
    "collapsed": false
   },
   "outputs": [
    {
     "name": "stdout",
     "output_type": "stream",
     "text": [
      "heat absorbed= -1151.3 kcal moleˆ−1\n"
     ]
    }
   ],
   "source": [
    "import math\n",
    "#initialisation of variables\n",
    "E= -1148.93  #in kcal moleˆ−1\n",
    "R= 1.987     #cal moleˆ−1 Kˆ−1\n",
    "T= 25        #in Celsius\n",
    "n=4 \n",
    "#CALCULATIONS\n",
    "E1= (E*1000-R*n*(273.1+T))/1000 \n",
    "#RESULTS\n",
    "E1=round(E1,2)\n",
    "print 'heat absorbed=',E1,'kcal moleˆ−1'"
   ]
  },
  {
   "cell_type": "markdown",
   "metadata": {},
   "source": [
    "## Example 4.2, Page no.14"
   ]
  },
  {
   "cell_type": "code",
   "execution_count": 3,
   "metadata": {
    "collapsed": false
   },
   "outputs": [
    {
     "name": "stdout",
     "output_type": "stream",
     "text": [
      "Enthalpy of transition= -0.07 kcal\n"
     ]
    }
   ],
   "source": [
    "import math\n",
    "#given\n",
    "Hr1= -71.03  #in kcal\n",
    "Hr2= 70.96   #in kcal\n",
    "#CALCULATIONS\n",
    "H= Hr1+Hr2 \n",
    "#RESULTS\n",
    "print 'Enthalpy of transition=',H,'kcal'"
   ]
  },
  {
   "cell_type": "markdown",
   "metadata": {},
   "source": [
    "## Example 4.3,Page no.15"
   ]
  },
  {
   "cell_type": "code",
   "execution_count": 4,
   "metadata": {
    "collapsed": false
   },
   "outputs": [
    {
     "name": "stdout",
     "output_type": "stream",
     "text": [
      "Enthalpy of formation= -193.91 kcal\n"
     ]
    }
   ],
   "source": [
    "import math\n",
    "#initialisation of variables\n",
    "Hr1= -70.96   #in kcal\n",
    "Hr2= -23.49   #in kcal\n",
    "Hr3= -31.14   #in kcal\n",
    "Hr4= -68.32   #in kcal \n",
    "#CALCULATIONS\n",
    "H= Hr1+Hr2+Hr3+Hr4 \n",
    "#RESULTS\n",
    "print 'Enthalpy of formation=',H,'kcal'"
   ]
  },
  {
   "cell_type": "markdown",
   "metadata": {},
   "source": [
    "## Example 4.4,Page no.15"
   ]
  },
  {
   "cell_type": "code",
   "execution_count": 5,
   "metadata": {
    "collapsed": false
   },
   "outputs": [
    {
     "name": "stdout",
     "output_type": "stream",
     "text": [
      "Enthalpy of formation of acetylene= 53.26 kcal moleˆ−1\n"
     ]
    }
   ],
   "source": [
    "import math\n",
    "#intialisation of variables\n",
    "dH= -310.615  #in kcal\n",
    "HfCO2= -94.52  #in kcal\n",
    "HfH2O= -68.3174  #kcal \n",
    "#CALCULATIONS\n",
    "HfCH2= -dH+2*HfCO2+HfH2O \n",
    "#RESULTS\n",
    "HfCH2=round(HfCH2,2)\n",
    "print 'Enthalpy of formation of acetylene=',HfCH2,'kcal moleˆ−1'"
   ]
  },
  {
   "cell_type": "markdown",
   "metadata": {},
   "source": [
    "## Example 4.5,Page no.16"
   ]
  },
  {
   "cell_type": "code",
   "execution_count": 6,
   "metadata": {
    "collapsed": false
   },
   "outputs": [
    {
     "name": "stdout",
     "output_type": "stream",
     "text": [
      "Enthalpy of formation of n butane= -158.484 kcal moleˆ−1\n"
     ]
    }
   ],
   "source": [
    "import math\n",
    "#initialisation of variables\n",
    "dH= -687.982  #in kcal\n",
    "HCO2= -94.0518  #in kcal\n",
    "#CALCULATIONS\n",
    "H= -dH+4*HCO2+5*HCO2\n",
    "#RESULTS\n",
    "H=round(H,3)\n",
    "print 'Enthalpy of formation of n butane=',H,'kcal moleˆ−1'"
   ]
  },
  {
   "cell_type": "markdown",
   "metadata": {},
   "source": [
    "## Example 4.6,Page no.16"
   ]
  },
  {
   "cell_type": "code",
   "execution_count": 7,
   "metadata": {
    "collapsed": false
   },
   "outputs": [
    {
     "name": "stdout",
     "output_type": "stream",
     "text": [
      "Enthalpy change= -202.6 kcal moleˆ−1\n"
     ]
    }
   ],
   "source": [
    "import math\n",
    "#initialisation of variables\n",
    "HfAlO2= -399.1  #in kcal\n",
    "HfFe2O2= -196.5  #in kcal\n",
    "#CALCULATIONS\n",
    "dH= HfAlO2 -HfFe2O2\n",
    "#RESULTS\n",
    "print 'Enthalpy change=',dH,'kcal moleˆ−1'"
   ]
  },
  {
   "cell_type": "markdown",
   "metadata": {},
   "source": [
    "## Example 4.7,Page no.16"
   ]
  },
  {
   "cell_type": "code",
   "execution_count": 8,
   "metadata": {
    "collapsed": false
   },
   "outputs": [
    {
     "name": "stdout",
     "output_type": "stream",
     "text": [
      "integral heat of dilution= -2.43 kcal\n"
     ]
    }
   ],
   "source": [
    "import math\n",
    "#initialisation of variables\n",
    "Hr= -17.74  #in kcal\n",
    "Hr1= 15.31  #in kcal\n",
    "#CALCULATIONS\n",
    "dH= Hr+Hr1\n",
    "#RESULTS\n",
    "print 'integral heat of dilution=',dH,'kcal'"
   ]
  },
  {
   "cell_type": "markdown",
   "metadata": {},
   "source": [
    "## Example 4.8,Page no.17"
   ]
  },
  {
   "cell_type": "code",
   "execution_count": 9,
   "metadata": {
    "collapsed": false
   },
   "outputs": [
    {
     "name": "stdout",
     "output_type": "stream",
     "text": [
      "integral heat of hydration= -19.41 kcal\n"
     ]
    }
   ],
   "source": [
    "import math\n",
    "#initialisation of variables\n",
    "dHr= -0.56   #in kcal\n",
    "dHr1= -18.85 #in kcal\n",
    "#CALCULATIONS\n",
    "dH= dHr+dHr1\n",
    "#RESULTS\n",
    "print 'integral heat of hydration=',dH,'kcal'"
   ]
  },
  {
   "cell_type": "markdown",
   "metadata": {},
   "source": [
    "## Example 4.9,Page no.17"
   ]
  },
  {
   "cell_type": "code",
   "execution_count": 10,
   "metadata": {
    "collapsed": false
   },
   "outputs": [
    {
     "name": "stdout",
     "output_type": "stream",
     "text": [
      "enthalpy of formation= -39.803 kcal moleˆ−1\n"
     ]
    }
   ],
   "source": [
    "import math\n",
    "#initialisation of variables\n",
    "HfHcl= -22.063 #in kcal\n",
    "H298= -17.74  #in kcal\n",
    "#CALCULATIONS\n",
    "HfHcl200H2O= HfHcl+H298 \n",
    "#RESULTS\n",
    "print 'enthalpy of formation=',HfHcl200H2O,'kcal moleˆ−1'"
   ]
  },
  {
   "cell_type": "markdown",
   "metadata": {},
   "source": [
    "## Example 4.10,Page no.17"
   ]
  },
  {
   "cell_type": "code",
   "execution_count": 11,
   "metadata": {
    "collapsed": false
   },
   "outputs": [
    {
     "name": "stdout",
     "output_type": "stream",
     "text": [
      "dH298= -13.72 kcal\n"
     ]
    }
   ],
   "source": [
    "import math\n",
    "#initialisation of variables\n",
    "HNaCl= -97.219   #in kcal\n",
    "HH2O= -68.3174   #in kcal\n",
    "HHcl= -39.713    #in kcal\n",
    "HNaOH= -112.108  #in kcal\n",
    "#CALCULATIONS\n",
    "H298= HNaCl+HH2O -HHcl -HNaOH\n",
    "#RESULTS\n",
    "H298=round(H298,2)\n",
    "print 'dH298=',H298,'kcal'"
   ]
  },
  {
   "cell_type": "markdown",
   "metadata": {},
   "source": [
    "## Example 4.11,Page no.18"
   ]
  },
  {
   "cell_type": "code",
   "execution_count": 2,
   "metadata": {
    "collapsed": false
   },
   "outputs": [
    {
     "name": "stdout",
     "output_type": "stream",
     "text": [
      "dH= 5399.67 cal moleˆ−1\n"
     ]
    }
   ],
   "source": [
    "import math\n",
    "#initialisation of variables\n",
    "T1=1000    #in K\n",
    "T2=300     #in K\n",
    "k1=6.0954         #in cal degˆ−1 moleˆ−1 \n",
    "k2=3.2533*10**-3  #in cal degˆ−2 moleˆ−1\n",
    "k3=-1.071*10**-6   #in cal degˆ−3 moleˆ−1\n",
    "#CALCULATIONS\n",
    "dH=k1*(T1-T2)+(k2*(T1**2-T2**2)/2)+(k3*(T1**3-T2**3)/3)\n",
    "#RESULTS\n",
    "dH=round(dH,2)\n",
    "print 'dH=',dH,'cal moleˆ−1'"
   ]
  },
  {
   "cell_type": "markdown",
   "metadata": {},
   "source": [
    "## Example 4.12,Page no.18"
   ]
  },
  {
   "cell_type": "code",
   "execution_count": 13,
   "metadata": {
    "collapsed": false
   },
   "outputs": [
    {
     "name": "stdout",
     "output_type": "stream",
     "text": [
      "H263= -74.6 cal gˆ−1\n"
     ]
    }
   ],
   "source": [
    "import math\n",
    "#initialisation of variables\n",
    "dH273=-79.7    #in cal gˆ−1\n",
    "T1=263         #in K\n",
    "T2=273         #in K\n",
    "dCp=-0.51      #in cal moleˆ−1 degˆ−1\n",
    "#CALCULATIONS\n",
    "H263=dH273+dCp*(T1-T2) \n",
    "#RESULTS\n",
    "print 'H263=',H263,'cal gˆ−1'"
   ]
  },
  {
   "cell_type": "markdown",
   "metadata": {},
   "source": [
    "## Example 4.13,Page no.19"
   ]
  },
  {
   "cell_type": "code",
   "execution_count": 14,
   "metadata": {
    "collapsed": false
   },
   "outputs": [
    {
     "name": "stdout",
     "output_type": "stream",
     "text": [
      "dH= -119771.7 cal\n"
     ]
    }
   ],
   "source": [
    "import math\n",
    "#initialisation of variables\n",
    "dH293=-115595.8   #in cal\n",
    "T1=1500           #in K\n",
    "T2=298            #in K\n",
    "k1=-5.6146        #cal degˆ−1 moleˆ−1\n",
    "k2=1.8931*10**-3  #cal degˆ−2 moleˆ−1\n",
    "k3=4.723*10**-7   #cal degˆ−3 moleˆ−1 \n",
    "#CALCULATIONS\n",
    "dH=dH293+ k1*(T1-T2)+(k2*(T1**2-T2**2)/2)+(k3*(T1**3-T2**3)/3)\n",
    "#RESULTS\n",
    "dH=round(dH,2)\n",
    "print 'dH=',dH,'cal'"
   ]
  }
 ],
 "metadata": {
  "anaconda-cloud": {},
  "kernelspec": {
   "display_name": "Python [Root]",
   "language": "python",
   "name": "Python [Root]"
  },
  "language_info": {
   "codemirror_mode": {
    "name": "ipython",
    "version": 2
   },
   "file_extension": ".py",
   "mimetype": "text/x-python",
   "name": "python",
   "nbconvert_exporter": "python",
   "pygments_lexer": "ipython2",
   "version": "2.7.11"
  }
 },
 "nbformat": 4,
 "nbformat_minor": 0
}
