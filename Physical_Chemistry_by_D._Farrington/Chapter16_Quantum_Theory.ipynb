{
 "cells": [
  {
   "cell_type": "markdown",
   "metadata": {},
   "source": [
    "# Chapter16 Quantum Theory"
   ]
  },
  {
   "cell_type": "markdown",
   "metadata": {},
   "source": [
    "## Example 16.1, Pageno.67"
   ]
  },
  {
   "cell_type": "code",
   "execution_count": 12,
   "metadata": {
    "collapsed": false
   },
   "outputs": [
    {
     "name": "stdout",
     "output_type": "stream",
     "text": [
      "avagadros number = 6.031 *10**23 coloumbs equivˆ−1\n"
     ]
    }
   ],
   "source": [
    "import math\n",
    "#initialisation of variables\n",
    "e=1.6*10**-19 #coloumb electron ˆ−1\n",
    "F=96496 # coloumbs equivˆ−1\n",
    "#CALCULATIONS\n",
    "N=F/e\n",
    "#RESULTS\n",
    "N=N*10**-23\n",
    "N=round(N,4)\n",
    "print 'avagadros number =',N,'*10**23 coloumbs equivˆ−1'"
   ]
  },
  {
   "cell_type": "markdown",
   "metadata": {},
   "source": [
    "## Example 16.2, Pageno.67"
   ]
  },
  {
   "cell_type": "code",
   "execution_count": 14,
   "metadata": {
    "collapsed": false
   },
   "outputs": [
    {
     "name": "stdout",
     "output_type": "stream",
     "text": [
      "wavelength in centimetres = 4.5 * 10**-5 cm\n",
      "wavelength in micrometres = 450.0 cm\n",
      "frequency of bluelight = 6.667 * 10**14 secˆ−1\n",
      "wave number = 22222.2 cmˆ−1\n"
     ]
    }
   ],
   "source": [
    "import math\n",
    "#initialisation of variables\n",
    "wl=4500 #A\n",
    "c=3*10**10 #cm/ sec\n",
    "#CALCULATIONS\n",
    "l=wl*10**-8\n",
    "l1=wl*10**-1\n",
    "f=1/l\n",
    "f1=c/l\n",
    "#RESULTS\n",
    "l=l*10**5\n",
    "f=round(f,1)\n",
    "f1=f1*10**-14\n",
    "f1=round(f1,3)\n",
    "print 'wavelength in centimetres =',l,'* 10**-5 cm'\n",
    "print 'wavelength in micrometres =',l1,'cm'\n",
    "print 'frequency of bluelight =',f1,'* 10**14 secˆ−1'\n",
    "print 'wave number =',f,'cmˆ−1'"
   ]
  }
 ],
 "metadata": {
  "anaconda-cloud": {},
  "kernelspec": {
   "display_name": "Python [Root]",
   "language": "python",
   "name": "Python [Root]"
  },
  "language_info": {
   "codemirror_mode": {
    "name": "ipython",
    "version": 2
   },
   "file_extension": ".py",
   "mimetype": "text/x-python",
   "name": "python",
   "nbconvert_exporter": "python",
   "pygments_lexer": "ipython2",
   "version": "2.7.11"
  }
 },
 "nbformat": 4,
 "nbformat_minor": 0
}
