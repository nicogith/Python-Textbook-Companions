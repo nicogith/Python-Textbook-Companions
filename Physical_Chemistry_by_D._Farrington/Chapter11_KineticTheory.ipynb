{
 "cells": [
  {
   "cell_type": "markdown",
   "metadata": {},
   "source": [
    "# Chapter11 KineticTheory"
   ]
  },
  {
   "cell_type": "markdown",
   "metadata": {},
   "source": [
    "## Example 11.1, Page no.45"
   ]
  },
  {
   "cell_type": "code",
   "execution_count": 7,
   "metadata": {
    "collapsed": false
   },
   "outputs": [
    {
     "name": "stdout",
     "output_type": "stream",
     "text": [
      "most probabale velocity= 150.02 cm secˆ−1\n",
      "arthmetic mean velocity= 67.26 cm secˆ−1\n",
      "root mean square velocity= 183.74 cm sec ˆ−1\n"
     ]
    }
   ],
   "source": [
    "import math\n",
    "from math import sqrt\n",
    "from math import pi\n",
    "#initialisation of variables\n",
    "R=8.31*10 # ergs moleˆ−1 Kˆ−1 \n",
    "M=2.016 #gms \n",
    "T=0 #C \n",
    "#CALCULATIONS \n",
    "vp=sqrt(2*R*(273+T)/M)\n",
    "v=sqrt(8*R*(273+T))/(pi*M)\n",
    "vr=sqrt(3*R*(273+T)/M) \n",
    "#RESULTS\n",
    "vp=round(vp,2)\n",
    "v=round(v,2)\n",
    "vr=round(vr,2)\n",
    "print 'most probabale velocity=',vp,'cm secˆ−1'\n",
    "print 'arthmetic mean velocity=',v,'cm secˆ−1'\n",
    "print 'root mean square velocity=',vr,'cm sec ˆ−1'"
   ]
  },
  {
   "cell_type": "markdown",
   "metadata": {},
   "source": [
    "## Example 11.2, Page no.45"
   ]
  },
  {
   "cell_type": "code",
   "execution_count": 8,
   "metadata": {
    "collapsed": false
   },
   "outputs": [
    {
     "name": "stdout",
     "output_type": "stream",
     "text": [
      "vapour pressure= 0.00000955 atm\n"
     ]
    }
   ],
   "source": [
    "import math\n",
    "from math import sqrt\n",
    "from math import pi\n",
    "#initialisation of variables\n",
    "R=8.31*10**7 # ergs moleˆ−1 Kˆ−1\n",
    "M=9.013 #mg\n",
    "T=1457 #K\n",
    "d=0.318 #cm\n",
    "t=60.1 #min\n",
    "m=9.54 #mg\n",
    "g=980 # cmsecˆ−2 \n",
    "D=13.6 #g/ cc \n",
    "p=76 #cm atmˆ−1\n",
    "#CALCULATIONS\n",
    "P=sqrt(2*pi*R*T/M)*(m*10**-3/(pi*(d/2)**2*t*60*p*D* g))\n",
    "#RESULTS\n",
    "print 'vapour pressure=',format(P, '.8f'),'atm'"
   ]
  },
  {
   "cell_type": "markdown",
   "metadata": {},
   "source": [
    "## Example 11.3, Page no.46"
   ]
  },
  {
   "cell_type": "code",
   "execution_count": 9,
   "metadata": {
    "collapsed": false
   },
   "outputs": [
    {
     "name": "stdout",
     "output_type": "stream",
     "text": [
      "ratio of rates= 1.004\n"
     ]
    }
   ],
   "source": [
    "import math\n",
    "from math import sqrt\n",
    "#initialisation of variables\n",
    "M1=238.0 #gms\n",
    "M2=235.0 #gms \n",
    "A=6.0 \n",
    "N=19.0 \n",
    "#CALCULATIONS \n",
    "r=sqrt((M1+A*N)/(M2+A*N)) \n",
    "#RESULTS\n",
    "r=round(r,3)\n",
    "print 'ratio of rates=',r"
   ]
  },
  {
   "cell_type": "markdown",
   "metadata": {},
   "source": [
    "## Example 11.4, Page no.46"
   ]
  },
  {
   "cell_type": "code",
   "execution_count": 9,
   "metadata": {
    "collapsed": false
   },
   "outputs": [
    {
     "name": "stdout",
     "output_type": "stream",
     "text": [
      "Z= 129.6 M moles of collisions litreˆ−1 secˆ−1\n",
      "Z2= 0.00022667 moles of collisions litre ˆ−1 sec ˆ−1\n"
     ]
    }
   ],
   "source": [
    "import math\n",
    "from math import sqrt,pi\n",
    "#initialisation of variables\n",
    "s=3.61*10** -8 #cm \n",
    "v=4.44*10**4 #cm/sec \n",
    "n=2.46*10**19 # molecules \n",
    "N=6.02*10**23 # molecules \n",
    "Z1=13.6*10**16 # collisions cmˆ−3 secˆ−1 \n",
    "N=6*10**23 # molecules\n",
    "#CALCULATIONS\n",
    "Z=sqrt(2)*pi*s**2*v*n**2*10**3/(2*N)\n",
    "Z2= Z1*10**3/N\n",
    "#RESULTS\n",
    "Z=Z/(10**6)\n",
    "Z=round(Z,1)\n",
    "print 'Z=',Z,'M moles of collisions litreˆ−1 secˆ−1'\n",
    "print 'Z2=',format(Z2, '.8f'),'moles of collisions litre ˆ−1 sec ˆ−1'"
   ]
  },
  {
   "cell_type": "markdown",
   "metadata": {},
   "source": [
    "## Example 11.5, Page no.47"
   ]
  },
  {
   "cell_type": "code",
   "execution_count": 16,
   "metadata": {
    "collapsed": false
   },
   "outputs": [
    {
     "name": "stdout",
     "output_type": "stream",
     "text": [
      "mean free path= 0.00000702 cm\n",
      "mean free path= 5.33 cm\n",
      "ANSWER GIVEN IN THE TEXTBOOK IS WRONG\n"
     ]
    }
   ],
   "source": [
    "import math\n",
    "#initialisation of variables\n",
    "from math import sqrt\n",
    "from math import pi\n",
    "n=2.46*10**19 # molecules cmˆ−3 \n",
    "n1=3.24*10**13 # molecules cmˆ−3 \n",
    "l=3.61*10**-8 \n",
    "#CALCULATIONS \n",
    "L=(sqrt(2)*pi*l**2*n)**-1 \n",
    "L1=(sqrt(2)*pi*l**2*n1)**-1 \n",
    "#RESULTS\n",
    "L1=round(L1,2)\n",
    "print 'mean free path=',format(L, '.8f'),'cm'\n",
    "print 'mean free path=',L1,'cm'\n",
    "print 'ANSWER GIVEN IN THE TEXTBOOK IS WRONG'"
   ]
  }
 ],
 "metadata": {
  "anaconda-cloud": {},
  "kernelspec": {
   "display_name": "Python [Root]",
   "language": "python",
   "name": "Python [Root]"
  },
  "language_info": {
   "codemirror_mode": {
    "name": "ipython",
    "version": 2
   },
   "file_extension": ".py",
   "mimetype": "text/x-python",
   "name": "python",
   "nbconvert_exporter": "python",
   "pygments_lexer": "ipython2",
   "version": "2.7.11"
  }
 },
 "nbformat": 4,
 "nbformat_minor": 0
}
