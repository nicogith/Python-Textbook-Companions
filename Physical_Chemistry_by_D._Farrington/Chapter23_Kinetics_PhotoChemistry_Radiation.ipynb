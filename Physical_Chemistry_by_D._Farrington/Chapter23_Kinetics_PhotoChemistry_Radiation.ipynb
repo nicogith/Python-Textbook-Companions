{
 "cells": [
  {
   "cell_type": "markdown",
   "metadata": {},
   "source": [
    "# Chapter23 Kinetics PhotoChemistry Radiation"
   ]
  },
  {
   "cell_type": "markdown",
   "metadata": {},
   "source": [
    "## Example 23.1, Page no.82"
   ]
  },
  {
   "cell_type": "code",
   "execution_count": 7,
   "metadata": {
    "collapsed": false
   },
   "outputs": [
    {
     "name": "stdout",
     "output_type": "stream",
     "text": [
      "Entropy of activation = -10.6 cal degˆ−1 moleˆ−1\n"
     ]
    }
   ],
   "source": [
    "import math\n",
    "#initialisation of variables\n",
    "k=9.12*10** -4 # secˆ−1 \n",
    "H=25100 # cal moleˆ−1 \n",
    "S=-10.6 # cal degˆ−1 moleˆ−1 \n",
    "#RESULTS \n",
    "print 'Entropy of activation =',S,'cal degˆ−1 moleˆ−1'"
   ]
  },
  {
   "cell_type": "markdown",
   "metadata": {},
   "source": [
    "## Example 23.2, Page no.82"
   ]
  },
  {
   "cell_type": "code",
   "execution_count": 8,
   "metadata": {
    "collapsed": false
   },
   "outputs": [
    {
     "name": "stdout",
     "output_type": "stream",
     "text": [
      "quantum yield = 16.55\n"
     ]
    }
   ],
   "source": [
    "import math\n",
    "#initialisation of variables\n",
    "h= 6.62*10** -27 # ergs / sec\n",
    "c= 3*10**10 #cm/ sec\n",
    "wl= 4358 #A\n",
    "I= 14000 # ergs secˆ−1\n",
    "p= 80.1 # percent\n",
    "t= 1105 # sec\n",
    "n= 0.075 # millimole \n",
    "#CALCULATIONS \n",
    "E= h*c/(wl*10**-8) \n",
    "q= I*p*t/(100*E) \n",
    "M= 6*10**23*n*10**-3 \n",
    "P= M/q \n",
    "#RESULTS \n",
    "P=round(P,2)\n",
    "print  'quantum yield =',P"
   ]
  },
  {
   "cell_type": "markdown",
   "metadata": {},
   "source": [
    "## Example 23.4, Page no.83"
   ]
  },
  {
   "cell_type": "code",
   "execution_count": 9,
   "metadata": {
    "collapsed": false
   },
   "outputs": [
    {
     "name": "stdout",
     "output_type": "stream",
     "text": [
      "fraction of solar energy stored = 0.000912\n"
     ]
    }
   ],
   "source": [
    "import math\n",
    "#initialisation of variables\n",
    "a=43560 # f t ˆ−2 \n",
    "t= 500 #min dayˆ−1\n",
    "E= 1000 # cal minˆ−1 f t ˆ−2\n",
    "m= 2 # tons acreˆ−1\n",
    "E1= 4000 # cal gramˆ−1\n",
    "M= 9.07*10**5 #gram tonˆ−1\n",
    "#CALCULATIONS \n",
    "Sh= a*t*E*365.26\n",
    "Hs= m*M*E1\n",
    "r= Hs/Sh\n",
    "#RESULTS\n",
    "r=round(r,6)\n",
    "print 'fraction of solar energy stored =',r"
   ]
  },
  {
   "cell_type": "markdown",
   "metadata": {},
   "source": [
    "  ## Example 23.5, Page no.83"
   ]
  },
  {
   "cell_type": "code",
   "execution_count": 6,
   "metadata": {
    "collapsed": false
   },
   "outputs": [
    {
     "name": "stdout",
     "output_type": "stream",
     "text": [
      "number of quanta = 1e+14\n",
      "number of quanta = 7.14 * 10**12 molecules\n",
      "grams per day= 4.55 *10**-9 gms\n"
     ]
    }
   ],
   "source": [
    "import math\n",
    "#initialisation of variables\n",
    "h=6.625*10**-27 # ergs /mole\n",
    "f=2.65*10**-5 # secˆ−1\n",
    "c=3*10**10 #cm/ sec\n",
    "t=2\n",
    "N=6*10**23 # molecules\n",
    "M=382 #gms\n",
    "E1=750 # ergs \n",
    "#CALCULATIONS \n",
    "E=h*c/f \n",
    "n1=E1/E \n",
    "m=n1/(t*7) \n",
    "G=m*M/N \n",
    "#RESULTS\n",
    "m=m*10**-12\n",
    "m=round(m,2)\n",
    "G=G*10**9\n",
    "G=round(G,2)\n",
    "print 'number of quanta =',n1\n",
    "print 'number of quanta =',m,'* 10**12 molecules'\n",
    "print 'grams per day=',G,'*10**-9 gms'"
   ]
  }
 ],
 "metadata": {
  "anaconda-cloud": {},
  "kernelspec": {
   "display_name": "Python [Root]",
   "language": "python",
   "name": "Python [Root]"
  },
  "language_info": {
   "codemirror_mode": {
    "name": "ipython",
    "version": 2
   },
   "file_extension": ".py",
   "mimetype": "text/x-python",
   "name": "python",
   "nbconvert_exporter": "python",
   "pygments_lexer": "ipython2",
   "version": "2.7.11"
  }
 },
 "nbformat": 4,
 "nbformat_minor": 0
}
