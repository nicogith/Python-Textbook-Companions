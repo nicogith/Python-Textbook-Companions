{
 "cells": [
  {
   "cell_type": "markdown",
   "metadata": {},
   "source": [
    "# Chapter14  Electromotive Force"
   ]
  },
  {
   "cell_type": "markdown",
   "metadata": {},
   "source": [
    "## Example 14.1,Page no.57"
   ]
  },
  {
   "cell_type": "code",
   "execution_count": 10,
   "metadata": {
    "collapsed": false,
    "scrolled": true
   },
   "outputs": [
    {
     "name": "stdout",
     "output_type": "stream",
     "text": [
      "dG = -31146.22 cal\n",
      "dS = -29.98 cal degˆ−1\n",
      "dH = -40079.66 cal\n"
     ]
    }
   ],
   "source": [
    "import math\n",
    "#initialisation of variables\n",
    "n=2.0\n",
    "V=0.67533 # volt\n",
    "E=23060 # cal volt ˆ−1\n",
    "Tc=-6.5*10**-4 # volt degˆ−1\n",
    "T=25.0 #C\n",
    "#CALCULATIONS\n",
    "G=-n*V*E \n",
    "S=n*E*Tc \n",
    "H=-n*E*V+n*Tc*E*(273+T)\n",
    "#RESULTS\n",
    "G=round(G,2)\n",
    "S=round(S,2)\n",
    "H=round(H,2)\n",
    "print  'dG =',G,'cal'\n",
    "print  'dS =',S,'cal degˆ−1'\n",
    "print  'dH =',H,'cal'"
   ]
  },
  {
   "cell_type": "markdown",
   "metadata": {},
   "source": [
    "## Example 14.3,Page no.57"
   ]
  },
  {
   "cell_type": "code",
   "execution_count": 2,
   "metadata": {
    "collapsed": false
   },
   "outputs": [
    {
     "name": "stdout",
     "output_type": "stream",
     "text": [
      "ionic strength of NaCl = 0.01\n",
      "ionic strength of Li2SO4 = 0.03\n",
      "ionic strength of CuSO4 = 0.04\n"
     ]
    }
   ],
   "source": [
    "import math\n",
    "#initialisation of variables\n",
    "C=0.01 #M\n",
    "C1=0.02 #M\n",
    "n=1\n",
    "n1=2\n",
    "#CALCULATION\n",
    "I=0.5*(C*n**2+C**n**2)\n",
    "I1=0.5*(C1*n**2+C*n1**2) \n",
    "I2=0.5*(C*n1**2+C*n1**2)\n",
    "#RESULTS\n",
    "print   'ionic strength of NaCl =',I\n",
    "print   'ionic strength of Li2SO4 =',I1\n",
    "print   'ionic strength of CuSO4 =',I2 "
   ]
  },
  {
   "cell_type": "markdown",
   "metadata": {},
   "source": [
    "## Example 14.4,Page no.58"
   ]
  },
  {
   "cell_type": "code",
   "execution_count": 3,
   "metadata": {
    "collapsed": false
   },
   "outputs": [
    {
     "name": "stdout",
     "output_type": "stream",
     "text": [
      "mean ionic activity= 0.796\n"
     ]
    }
   ],
   "source": [
    "import math\n",
    "#initialisation of variables\n",
    "C=0.1 #M\n",
    "V=0.3524 # volt\n",
    "V1=0.2224 # volt\n",
    "V2=0.1183 # volt\n",
    "#CLACULATIONS\n",
    "r=10**((-V+V1+V2)/V2)\n",
    "#RESULTS\n",
    "r=round(r,3)\n",
    "print 'mean ionic activity=',r"
   ]
  },
  {
   "cell_type": "markdown",
   "metadata": {},
   "source": [
    "## Example 14.5,Page no.58"
   ]
  },
  {
   "cell_type": "code",
   "execution_count": 4,
   "metadata": {
    "collapsed": false
   },
   "outputs": [
    {
     "name": "stdout",
     "output_type": "stream",
     "text": [
      "voltage of cell = 0.74 volt\n",
      "gibbs free energy= -34134.8 cal\n"
     ]
    }
   ],
   "source": [
    "import math\n",
    "#initialisation of variables\n",
    "n=2\n",
    "F=96500 # coloumbs \n",
    "E=0.337 # volt \n",
    "E1=-0.403 # volt \n",
    "#CALCULATIONS \n",
    "E0=E-E1\n",
    "G=-n*F*E0/4.184\n",
    "G=round(G,2)\n",
    "#RESULTS\n",
    "print 'voltage of cell =',E0,'volt'\n",
    "print 'gibbs free energy=',G,'cal'"
   ]
  },
  {
   "cell_type": "markdown",
   "metadata": {},
   "source": [
    "## Example 14.6,Page no.59"
   ]
  },
  {
   "cell_type": "code",
   "execution_count": 5,
   "metadata": {
    "collapsed": false
   },
   "outputs": [
    {
     "name": "stdout",
     "output_type": "stream",
     "text": [
      "voltage of cell = 0.36 volt\n"
     ]
    }
   ],
   "source": [
    "import math\n",
    "#initialisation of variables\n",
    "E=-0.403 # volt \n",
    "E1=-0.763 # volt \n",
    "#CALCULATIONS \n",
    "E0=E-E1 \n",
    "#RESULTS\n",
    "print 'voltage of cell =',E0,'volt'"
   ]
  },
  {
   "cell_type": "markdown",
   "metadata": {},
   "source": [
    "## Example 14.7,Page no.59"
   ]
  },
  {
   "cell_type": "code",
   "execution_count": 11,
   "metadata": {
    "collapsed": false
   },
   "outputs": [
    {
     "name": "stdout",
     "output_type": "stream",
     "text": [
      "Gibbs free energy = -235945.3 cal\n"
     ]
    }
   ],
   "source": [
    "import math\n",
    "#initialisation of variables\n",
    "E=1.360 # volt \n",
    "E1=0.337 # volt \n",
    "F=965000 # coloumbs \n",
    "#CALCULATIONS \n",
    "G=-F*(E-E1)/4.1840 \n",
    "#RESULTS\n",
    "G=round(G,1)\n",
    "print 'Gibbs free energy =',G,'cal'"
   ]
  },
  {
   "cell_type": "markdown",
   "metadata": {},
   "source": [
    "## Example 14.8,Page no.60"
   ]
  },
  {
   "cell_type": "code",
   "execution_count": 7,
   "metadata": {
    "collapsed": false
   },
   "outputs": [
    {
     "name": "stdout",
     "output_type": "stream",
     "text": [
      "equilibrium constant = 2.977\n"
     ]
    }
   ],
   "source": [
    "import math\n",
    "#initialisation of variables\n",
    "E=-0.126 # volt \n",
    "E1=-0.140 # volt \n",
    "n=2.0 \n",
    "R=0.0591 # volt \n",
    "#CALCULATIONS \n",
    "E0=E-E1 \n",
    "K=10**((E-E1)*n/R) \n",
    "#RESULTS\n",
    "K=round(K,3)\n",
    "print 'equilibrium constant =',K "
   ]
  },
  {
   "cell_type": "markdown",
   "metadata": {},
   "source": [
    "## Example 14.9,Page no.60"
   ]
  },
  {
   "cell_type": "code",
   "execution_count": 8,
   "metadata": {
    "collapsed": false
   },
   "outputs": [
    {
     "name": "stdout",
     "output_type": "stream",
     "text": [
      "gibbs free energy = 154.037 cal\n"
     ]
    }
   ],
   "source": [
    "import math\n",
    "#initialisation of variables\n",
    "E0=0.0140 # volt \n",
    "n=2.0 \n",
    "r=2.0 \n",
    "V=96500.0 # coloumbs \n",
    "#CALCULATIONS \n",
    "E=E0-0.0576*math.log10(n) \n",
    "G=-n*V*E/4.1840\n",
    "#RESULTS \n",
    "G=round(G,3)\n",
    "print 'gibbs free energy =',G,'cal'"
   ]
  },
  {
   "cell_type": "markdown",
   "metadata": {},
   "source": [
    "## Example 14.10,Page no.60"
   ]
  },
  {
   "cell_type": "code",
   "execution_count": 9,
   "metadata": {
    "collapsed": false
   },
   "outputs": [
    {
     "name": "stdout",
     "output_type": "stream",
     "text": [
      "electromotive force of the cell = 0.0295  volt\n"
     ]
    }
   ],
   "source": [
    "import math\n",
    "#initialisation of variables\n",
    "n=2.0 \n",
    "R=0.0591 \n",
    "C=0.01 #M \n",
    "C1=0.1 #M \n",
    "#CALCULATIONS \n",
    "E=-R*math.log10(C/C1)/n \n",
    "#RESULTS \n",
    "E=round(E,4)\n",
    "print 'electromotive force of the cell =',E,' volt'"
   ]
  }
 ],
 "metadata": {
  "anaconda-cloud": {},
  "kernelspec": {
   "display_name": "Python [Root]",
   "language": "python",
   "name": "Python [Root]"
  },
  "language_info": {
   "codemirror_mode": {
    "name": "ipython",
    "version": 2
   },
   "file_extension": ".py",
   "mimetype": "text/x-python",
   "name": "python",
   "nbconvert_exporter": "python",
   "pygments_lexer": "ipython2",
   "version": "2.7.11"
  }
 },
 "nbformat": 4,
 "nbformat_minor": 0
}
