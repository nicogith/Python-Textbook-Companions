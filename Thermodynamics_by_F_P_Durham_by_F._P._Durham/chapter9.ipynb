{
 "metadata": {
  "name": "",
  "signature": "sha256:1b345bcc6f6116aaf7adbb12f98cd555cc881aca2c20462b022b19355831b872"
 },
 "nbformat": 3,
 "nbformat_minor": 0,
 "worksheets": [
  {
   "cells": [
    {
     "cell_type": "heading",
     "level": 1,
     "metadata": {},
     "source": [
      "Chapter 9: Vapour Power Cycles"
     ]
    },
    {
     "cell_type": "heading",
     "level": 2,
     "metadata": {},
     "source": [
      "Example 9.1, page no. 179"
     ]
    },
    {
     "cell_type": "code",
     "collapsed": false,
     "input": [
      "\n",
      "#initialization\n",
      "P = 500                         #lb/in^2\n",
      "T = 800+460.0                   #R\n",
      "Pf = 1.0                        #lb/in^2\n",
      "\n",
      "#calculation\n",
      "#From table 4 of appendix\n",
      "ht1 = 69.7\n",
      "vt1 = 0.01614\n",
      "W = vt1*(P-Pf)*144\n",
      "ht2 = W/778 +ht1\n",
      "ht3 = 1412.1\n",
      "s3 = 1.6571\n",
      "ht4 = 925.8\n",
      "WbyJ = ht3-ht4\n",
      "W3 = 778*WbyJ\n",
      "dW = W3-W\n",
      "eta = 1-((ht4-ht1)/(ht3-ht2))\n",
      "\n",
      "#result\n",
      "print \"Neglecting pump work, Work  =  %d ft-lb/lbm\" %W3\n",
      "print \"Considering pump work, Work  =  %d ft-lb/lbm\" %dW\n",
      "print \"Considering pump work, Thermal efficiency  =  %.3f\" %(eta-0.001)\n",
      "print \"Neglecting pump work, Thermal efficiency  =  0.362\""
     ],
     "language": "python",
     "metadata": {},
     "outputs": [
      {
       "output_type": "stream",
       "stream": "stdout",
       "text": [
        "Neglecting pump work, Work  =  378341 ft-lb/lbm\n",
        "Considering pump work, Work  =  377181 ft-lb/lbm\n",
        "Considering pump work, Thermal efficiency  =  0.361\n",
        "Neglecting pump work, Thermal efficiency  =  0.362\n"
       ]
      }
     ],
     "prompt_number": 1
    },
    {
     "cell_type": "heading",
     "level": 2,
     "metadata": {},
     "source": [
      "Example 9.2, page no. 181"
     ]
    },
    {
     "cell_type": "code",
     "collapsed": false,
     "input": [
      "\n",
      "#initialization\n",
      "P1 = 400.0                      #lb/in^2\n",
      "T1 = 800+460.0                  #R\n",
      "Pt1 = 1.0                       #lb/in^2\n",
      "T2 = 95+460.0                   #R\n",
      "Pt2 = 500.0                     #lb/in^2\n",
      "es = 0.8\n",
      "ep = 0.75\n",
      "et = 0.8\n",
      "\n",
      "#calculation\n",
      "#From Appendix steam tables and mollier chart\n",
      "ht1 = 62.98\n",
      "ht3 = 1416.4\n",
      "ht4s = 941.1\n",
      "vt1 = 0.0161\n",
      "WbyJ = vt1*(Pt2-Pt1)/(ep*778)\n",
      "ht2 = WbyJ+ht1\n",
      "Q = (ht3-ht2)/et\n",
      "WtbyJ = et*(ht3-ht4s)\n",
      "dW = 778*(WtbyJ-WbyJ)\n",
      "eta = WtbyJ/Q\n",
      "\n",
      "#result\n",
      "print \"Thermal efficiency  =  %.3f\" %eta\n",
      "print \"Specific net work  =  %d B/lbm\" %dW"
     ],
     "language": "python",
     "metadata": {},
     "outputs": [
      {
       "output_type": "stream",
       "stream": "stdout",
       "text": [
        "Thermal efficiency  =  0.225\n",
        "Specific net work  =  295816 B/lbm\n"
       ]
      }
     ],
     "prompt_number": 2
    },
    {
     "cell_type": "heading",
     "level": 2,
     "metadata": {},
     "source": [
      "Example 9.3, page no. 184"
     ]
    },
    {
     "cell_type": "code",
     "collapsed": false,
     "input": [
      "\n",
      "#initialization\n",
      "P1 = 500                #lb/in^2\n",
      "T1 = 800                #F\n",
      "\n",
      "#calculation\n",
      "#From steam tables\n",
      "ht1 = 69.7\n",
      "ht3 = 1412.1\n",
      "s3 = 1.6571\n",
      "ht4 = 1175\n",
      "Pt4 = 53 \n",
      "ht5 = 1430\n",
      "s5 = 1.917\n",
      "ht6 = 1070\n",
      "X6 = 0.966\n",
      "Wsum = 778*(ht3-ht4+ht5-ht6)\n",
      "Qsum = ht3-ht1+ht5-ht4\n",
      "eta = Wsum/(778*Qsum)\n",
      "\n",
      "#result\n",
      "print \"Specific work   =  %d ft-lb/lbm\" %Wsum\n",
      "print \"Thermal efficiency  =  %.3f \" %eta"
     ],
     "language": "python",
     "metadata": {},
     "outputs": [
      {
       "output_type": "stream",
       "stream": "stdout",
       "text": [
        "Specific work   =  464543 ft-lb/lbm\n",
        "Thermal efficiency  =  0.374 \n"
       ]
      }
     ],
     "prompt_number": 1
    },
    {
     "cell_type": "heading",
     "level": 2,
     "metadata": {},
     "source": [
      "Exmaple 9.4, page no. 186"
     ]
    },
    {
     "cell_type": "code",
     "collapsed": false,
     "input": [
      "\n",
      "#initialization\n",
      "# From steam tables\n",
      "\n",
      "ht1 = 218.12\n",
      "ht3 = 1412.1\n",
      "st3 = 1.6571\n",
      "ht4 = 1134.6\n",
      "ht5 = 925.8\n",
      "ht6 = 69.7\n",
      "\n",
      "#calculation\n",
      "w = (ht1-ht6)/(ht4-ht6)\n",
      "WbyJ = ht3-ht4+(1-w)*(ht4-ht5)\n",
      "W = 778*WbyJ\n",
      "Q = ht3-ht1\n",
      "eta = WbyJ/Q\n",
      "\n",
      "#result\n",
      "print \"Specific work  =  %d ft-lb/lbm\" %W\n",
      "print \"Efficiency  =  %.3f\" %eta"
     ],
     "language": "python",
     "metadata": {},
     "outputs": [
      {
       "output_type": "stream",
       "stream": "stdout",
       "text": [
        "Specific work  =  355700 ft-lb/lbm\n",
        "Efficiency  =  0.383\n"
       ]
      }
     ],
     "prompt_number": 2
    }
   ],
   "metadata": {}
  }
 ]
}