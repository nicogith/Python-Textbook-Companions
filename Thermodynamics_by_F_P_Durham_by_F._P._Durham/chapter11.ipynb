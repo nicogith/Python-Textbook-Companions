{
 "metadata": {
  "name": "",
  "signature": "sha256:1bc460ef0aed5b06b0770ef04462064cc24e898eb90d5d0126bc2216d06cd7e0"
 },
 "nbformat": 3,
 "nbformat_minor": 0,
 "worksheets": [
  {
   "cells": [
    {
     "cell_type": "heading",
     "level": 1,
     "metadata": {},
     "source": [
      "Chapter 11: Nozzels & Jet Propulsion"
     ]
    },
    {
     "cell_type": "heading",
     "level": 2,
     "metadata": {},
     "source": [
      "Example 11.1, page no. 207"
     ]
    },
    {
     "cell_type": "code",
     "collapsed": false,
     "input": [
      "\n",
      "import math\n",
      "\n",
      "\n",
      "#initialization\n",
      "P1 = 100.0                  #lb/in^2\n",
      "P2 = 14.7                   #lb/in^2\n",
      "T1 = 600+460.0              #R\n",
      "T2 = 300+460.0              #R\n",
      "area = 1.0                  #in^2\n",
      "\n",
      "#calculation\n",
      "#From steam tables\n",
      "ht1 = 1329.1 \n",
      "h2 = 1192.8\n",
      "v2 = 30.53\n",
      "Vel = math.sqrt(2*32.2*778.0*(ht1-h2))\n",
      "\n",
      "wdot = area*Vel/(144*v2)\n",
      "\n",
      "\n",
      "#result\n",
      "print \"Exit velocity  =  %d ft/sec\" %Vel\n",
      "print \"Mass flow rate  =  %.3f lbm/sec\" %wdot\n",
      "#difference in exit velocity due to rounding off in Python"
     ],
     "language": "python",
     "metadata": {},
     "outputs": [
      {
       "output_type": "stream",
       "stream": "stdout",
       "text": [
        "Exit velocity  =  2613 ft/sec\n",
        "Mass flow rate  =  0.594 lbm/sec\n"
       ]
      }
     ],
     "prompt_number": 7
    },
    {
     "cell_type": "heading",
     "level": 2,
     "metadata": {},
     "source": [
      "Example 11.2, page no. 210"
     ]
    },
    {
     "cell_type": "code",
     "collapsed": false,
     "input": [
      "\n",
      "import math\n",
      "\n",
      "#initialization\n",
      "Pt1 = 100.0                 #lb/in^2\n",
      "P2 = 15.0                   #lb/in^2\n",
      "A = 1.0                     #in^2\n",
      "T = 500+460.0               #F\n",
      "gamma = 1.4\n",
      "\n",
      "#calculation\n",
      "Pratio = P2/Pt1\n",
      "r1 = (P2/Pt1)**((gamma-1)/gamma)\n",
      "r2 = (P2/Pt1)**(2/gamma)\n",
      "r3 = (P2/Pt1)**((gamma+1)/gamma)\n",
      "V2 = math.sqrt(2*gamma*32.2*53.3*T*(1-r1)/(gamma-1))\n",
      "wdot = A*Pt1*math.sqrt(2*gamma*(r2-r3)/(gamma-1)) /(math.sqrt(53.3*T/32.2))\n",
      "\n",
      "#result\n",
      "print \"Exit velocity  =  %d ft/sec\" %V2\n",
      "print \"Mass flow rate  = \", round(wdot, 3), \"lbm/sec\"\n"
     ],
     "language": "python",
     "metadata": {},
     "outputs": [
      {
       "output_type": "stream",
       "stream": "stdout",
       "text": [
        "Exit velocity  =  2196 ft/sec\n",
        "Mass flow rate  =  1.107 lbm/sec\n"
       ]
      }
     ],
     "prompt_number": 2
    },
    {
     "cell_type": "heading",
     "level": 2,
     "metadata": {},
     "source": [
      "Example 11.3, page no. 212"
     ]
    },
    {
     "cell_type": "code",
     "collapsed": false,
     "input": [
      "\n",
      "import math\n",
      "\n",
      "#initialization\n",
      "Pt1 = 100.0                     #lb/in^2\n",
      "Tt1 = 960.0                     #RP2 = 15 #lb/in^2\n",
      "wdot = 1.13                     #lbm/sec\n",
      "gamma = 1.4\n",
      "\n",
      "#calculation\n",
      "Pstar = Pt1*(2/(1+gamma))**(gamma/(gamma-1))\n",
      "Tstar = Tt1*(2/(1+gamma))\n",
      "Vstar = math.sqrt(gamma*32.2*53.3*Tstar)\n",
      "vstar = 53.3*Tstar/(144*Pstar)\n",
      "Astar = wdot*vstar*144/Vstar\n",
      "\n",
      "#result\n",
      "print \"Ideal throat area  =  \", round(Astar,3), \"in^2\"\n",
      "print \"Ideal pressure  =  \", round(Pstar, 1), \"lb/in^2\"\n",
      "print \"Ideal temperature  =  %d R\" %Tstar\n",
      "print \"Ideal throat specific volume  =  \", round(vstar, 1), \"ft^3/lbm\"\n"
     ],
     "language": "python",
     "metadata": {},
     "outputs": [
      {
       "output_type": "stream",
       "stream": "stdout",
       "text": [
        "Ideal throat area  =   0.658 in^2\n",
        "Ideal pressure  =   52.8 lb/in^2\n",
        "Ideal temperature  =  800 R\n",
        "Ideal throat specific volume  =   5.6 ft^3/lbm\n"
       ]
      }
     ],
     "prompt_number": 7
    },
    {
     "cell_type": "heading",
     "level": 2,
     "metadata": {},
     "source": [
      "Example 11.4, page no. 215"
     ]
    },
    {
     "cell_type": "code",
     "collapsed": false,
     "input": [
      "\n",
      "import math\n",
      "\n",
      "\n",
      "#initialization\n",
      "ht1 = 1329.1\n",
      "st1 = 1.7581\n",
      "h2s = 1151.4\n",
      "s2s = 1.7581\n",
      "\n",
      "#calculation\n",
      "eta = math.sqrt((ht1-1192.8)/(ht1-h2s))\n",
      "\n",
      "#result\n",
      "print \"efficiency  = \", round(eta, 2)\n"
     ],
     "language": "python",
     "metadata": {},
     "outputs": [
      {
       "output_type": "stream",
       "stream": "stdout",
       "text": [
        "efficiency  =  0.88\n"
       ]
      }
     ],
     "prompt_number": 10
    },
    {
     "cell_type": "heading",
     "level": 2,
     "metadata": {},
     "source": [
      "Example 11.5, page no. 216"
     ]
    },
    {
     "cell_type": "code",
     "collapsed": false,
     "input": [
      "\n",
      "#initializaiton\n",
      "v = 2200.0                      #exit velocity from ex. 11.2\n",
      "p = 15.0                        #exit pressure\n",
      "n_eta = 0.95                    #nozzle efficiency 95%\n",
      "t2 = 598.0\n",
      "\n",
      "#calculations\n",
      "V2 = n_eta*v\n",
      "v = (53.3*t2)/(144.0*p)\n",
      "w = (1.0*V2)/(144.0*v)\n",
      "\n",
      "print \"Volume at exit \", round(v, 1), \"ft^3/lbm\"\n",
      "print \"The mass flow is \", round(w, 3), \"lbm/sec\"\n",
      "#difference in answers due to rounding off in Python, check manually"
     ],
     "language": "python",
     "metadata": {},
     "outputs": [
      {
       "output_type": "stream",
       "stream": "stdout",
       "text": [
        "Volume at exit  14.8 ft^3/lbm\n",
        "The mass flow is  0.984 lbm/sec\n"
       ]
      }
     ],
     "prompt_number": 10
    },
    {
     "cell_type": "heading",
     "level": 2,
     "metadata": {},
     "source": [
      "Example 11.6, page no. 219"
     ]
    },
    {
     "cell_type": "code",
     "collapsed": false,
     "input": [
      "\n",
      "#initialization\n",
      "v = 500.0                       #ft/sec\n",
      "P = 14.7                        #lb/in^2\n",
      "T = 60+460.0                    #R\n",
      "eta = 0.85\n",
      "cp = 0.24\n",
      "gamma = 1.4\n",
      "\n",
      "#calculation\n",
      "Pt2 = eta*P*(1+ (gamma-1)*v**2 /(2*gamma*32.2*53.3*T))**(gamma/(gamma-1))\n",
      "Tratio = 1+(gamma-1)*v*v/(2*gamma*32.2*53.3*T)\n",
      "Tt2 = T*Tratio\n",
      "\n",
      "#result\n",
      "print \"Exit stagnation temperature   =  %d R\" %(Tt2+1)\n"
     ],
     "language": "python",
     "metadata": {},
     "outputs": [
      {
       "output_type": "stream",
       "stream": "stdout",
       "text": [
        "Exit stagnation temperature   =  541 R\n"
       ]
      }
     ],
     "prompt_number": 19
    },
    {
     "cell_type": "heading",
     "level": 2,
     "metadata": {},
     "source": [
      "Example 11.7, page no. 222"
     ]
    },
    {
     "cell_type": "code",
     "collapsed": false,
     "input": [
      "\n",
      "import math\n",
      "\n",
      "#initialization\n",
      "P = 30.0                        #lb/in^2\n",
      "T = 1000+460.0                  #R\n",
      "Pd = 14.7                       #lb/in^2\n",
      "w = 60.0                        #lbm/sec\n",
      "eta = 0.95                      #percent\n",
      "R = 53.3\n",
      "gamma = 1.35\n",
      "cp = 0.264\n",
      "\n",
      "#calculation\n",
      "V2s = math.sqrt(2*gamma*32.2*53.3*T*(1-(Pd/P)**(0.259))/(gamma-1))\n",
      "V2 = eta*V2s\n",
      "Fn = w*(V2)/32.2\n",
      "\n",
      "#result\n",
      "print \"Thrust of the engine  =  %d ft/sec\" %Fn\n",
      "\n",
      "#difference due to +5 in V2s calculation while sqrt"
     ],
     "language": "python",
     "metadata": {},
     "outputs": [
      {
       "output_type": "stream",
       "stream": "stdout",
       "text": [
        "Thrust of the engine  =  3196 ft/sec\n"
       ]
      }
     ],
     "prompt_number": 1
    },
    {
     "cell_type": "heading",
     "level": 2,
     "metadata": {},
     "source": [
      "Example 11.8, page no. 226"
     ]
    },
    {
     "cell_type": "code",
     "collapsed": false,
     "input": [
      "\n",
      "import math\n",
      "\n",
      "#initialization\n",
      "v = 600.0                       #ft/sec\n",
      "T = 60+460.0                    #R\n",
      "P = 14.7                        #lb/in^2\n",
      "Pratio = 6.0\n",
      "Tin = 1540+460.0                #R\n",
      "cp = 0.264\n",
      "cpratio = 1.35\n",
      "\n",
      "#calculation\n",
      "Pt2byP1 = (1+(cpratio-1)*v**2/(cpratio*2*32.2*53.3*T))**(3.86)\n",
      "Pt3byP1 = Pt2byP1*Pratio\n",
      "eta = 1-1/(Pt3byP1)**0.259\n",
      "Tt3 = T*(Pt3byP1)**((cpratio-1)/cpratio)\n",
      "Q = cp*(Tin-Tt3)\n",
      "V6 = math.sqrt(eta*2*32.2*778*Q + v**2)\n",
      "Fn = (V6-v)/32.2\n",
      "\n",
      "#resullts\n",
      "print \"Thermal efficiency  = \", round(eta, 3)\n",
      "print \"thrust per pound of air per sec  =  \", round(Fn, 1), \"lb-sec/lbm\""
     ],
     "language": "python",
     "metadata": {},
     "outputs": [
      {
       "output_type": "stream",
       "stream": "stdout",
       "text": [
        "Thermal efficiency  =  0.403\n",
        "thrust per pound of air per sec  =   59.8 lb-sec/lbm\n"
       ]
      }
     ],
     "prompt_number": 27
    },
    {
     "cell_type": "heading",
     "level": 2,
     "metadata": {},
     "source": [
      "Example 11.9, page no. 229"
     ]
    },
    {
     "cell_type": "code",
     "collapsed": false,
     "input": [
      "\n",
      "#initialization\n",
      "V = 1000.0                      #mph\n",
      "P = 14.7                        #lb/in^2\n",
      "T = 60.0                        #F\n",
      "g = 1.4\n",
      "\n",
      "#calculation\n",
      "\n",
      "V1 = V*(88/T)\n",
      "Pratio = (1+ (g-1)*V1**2 /(2*g*32.2*53.3*(T+460)))**(g/(g-1))\n",
      "eta = 1-1/(Pratio)**0.286\n",
      "\n",
      "#result\n",
      "print \"Theoretical cycle efficiency  =  \", round(eta, 3)"
     ],
     "language": "python",
     "metadata": {},
     "outputs": [
      {
       "output_type": "stream",
       "stream": "stdout",
       "text": [
        "Theoretical cycle efficiency  =   0.256\n"
       ]
      }
     ],
     "prompt_number": 29
    },
    {
     "cell_type": "heading",
     "level": 2,
     "metadata": {},
     "source": [
      "Example 11.10, page no. 230"
     ]
    },
    {
     "cell_type": "code",
     "collapsed": false,
     "input": [
      "\n",
      "import math\n",
      "\n",
      "#initialization\n",
      "P = 300.0                           #lb/in^2\n",
      "P2 = 14.7                           #lb/in^2\n",
      "T = 4540+460.0                      #R\n",
      "w = 100.0                           #lbm/sec\n",
      "g = 1.25\n",
      "MW = 30.0\n",
      "R = 1544.0\n",
      "\n",
      "#calculation\n",
      "R = R/MW\n",
      "Pratio = P2/P\n",
      "V4 = math.sqrt(2*g*32.2*51.5*T*(1-(Pratio)**((g-1)/g))/(g-1)) \n",
      "Fn = w*V4/32.2\n",
      "\n",
      "#result\n",
      "print \"Thrust  =  %d lb\" %Fn"
     ],
     "language": "python",
     "metadata": {},
     "outputs": [
      {
       "output_type": "stream",
       "stream": "stdout",
       "text": [
        "Thrust  =  19031 lb\n"
       ]
      }
     ],
     "prompt_number": 30
    }
   ],
   "metadata": {}
  }
 ]
}