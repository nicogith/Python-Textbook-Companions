{
 "metadata": {
  "name": "",
  "signature": "sha256:2f3fb462cc0db08450310246022ae2504547e2c6d9d1ee2fc4b7cff1e946c1f6"
 },
 "nbformat": 3,
 "nbformat_minor": 0,
 "worksheets": [
  {
   "cells": [
    {
     "cell_type": "heading",
     "level": 1,
     "metadata": {},
     "source": [
      "Chapter 3: Properties of Thermodynamic Media"
     ]
    },
    {
     "cell_type": "heading",
     "level": 2,
     "metadata": {},
     "source": [
      "Example 3.1, page no. 43"
     ]
    },
    {
     "cell_type": "code",
     "collapsed": false,
     "input": [
      "\n",
      "#initilisation\n",
      "P = 80                        #lb/in^2\n",
      "x = 0.9                       #quality\n",
      "hg = 1183.1                   #B/lbm\n",
      "hfg = 901.1                   #B/lbm\n",
      "\n",
      "#calculation\n",
      "h=hg-(1-x)*hfg\n",
      "\n",
      "#result\n",
      "print \"Enthalpy of steam = \", round(h), \"B/lbm\""
     ],
     "language": "python",
     "metadata": {},
     "outputs": [
      {
       "output_type": "stream",
       "stream": "stdout",
       "text": [
        "Enthalpy of steam =  1093.0 B/lbm\n"
       ]
      }
     ],
     "prompt_number": 1
    },
    {
     "cell_type": "heading",
     "level": 2,
     "metadata": {},
     "source": [
      "Example 3.2, page no. 44"
     ]
    },
    {
     "cell_type": "code",
     "collapsed": false,
     "input": [
      "\n",
      "#initilisation\n",
      "P = 100                         #lb/in^2\n",
      "T = 470                         #F\n",
      "T2 = 500                        #F\n",
      "T1 = 450                        #F\n",
      "\n",
      "#calculation\n",
      "#From table 4 of appendix\n",
      "v1 = 5.268\n",
      "v2 = 5.589\n",
      "v = v1+2*(v2-v1)/5.0\n",
      "\n",
      "#result\n",
      "print \"Specific volume at \", T, \"F\", \"= \", round(v,3), \"ft**3/lbm\""
     ],
     "language": "python",
     "metadata": {},
     "outputs": [
      {
       "output_type": "stream",
       "stream": "stdout",
       "text": [
        "Specific volume at  470 F =  5.396 ft**3/lbm\n"
       ]
      }
     ],
     "prompt_number": 3
    },
    {
     "cell_type": "heading",
     "level": 2,
     "metadata": {},
     "source": [
      "Example 3.3, page no. 47"
     ]
    },
    {
     "cell_type": "code",
     "collapsed": false,
     "input": [
      "\n",
      "#initilisation\n",
      "\n",
      "R = 1544.0                    #ft-lb/R\n",
      "M = 44.0                      #lbm\n",
      "\n",
      "#calculation\n",
      "Rdash=R/M\n",
      "\n",
      "#result\n",
      "print \"Gas constant for CO2 = \", round(Rdash, 1), \"ft-lb/lbm R\""
     ],
     "language": "python",
     "metadata": {},
     "outputs": [
      {
       "output_type": "stream",
       "stream": "stdout",
       "text": [
        "Gas constant for CO2 =  35.1 ft-lb/lbm R\n"
       ]
      }
     ],
     "prompt_number": 5
    },
    {
     "cell_type": "heading",
     "level": 2,
     "metadata": {},
     "source": [
      "Example 3.4, page no. 48"
     ]
    },
    {
     "cell_type": "code",
     "collapsed": false,
     "input": [
      "\n",
      "#initialisation\n",
      "h = 138.7                  #enthalpy - from table 6\n",
      "t = 580.0                  #R absolute temprature\n",
      "p = 11520.0                #pressure\n",
      "g = 53.3                   #gas constant\n",
      "\n",
      "#calculation\n",
      "#v = RT/P\n",
      "\n",
      "v = (g*t)/p\n",
      "\n",
      "#result\n",
      "print \"The volume for air at given conditions is \", round(v, 2), \"ft**3/lbm\""
     ],
     "language": "python",
     "metadata": {},
     "outputs": [
      {
       "output_type": "stream",
       "stream": "stdout",
       "text": [
        "The volume for air at given conditions is  2.68 ft**3/lbm\n"
       ]
      }
     ],
     "prompt_number": 1
    }
   ],
   "metadata": {}
  }
 ]
}