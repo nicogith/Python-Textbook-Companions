{
 "metadata": {
  "name": "",
  "signature": "sha256:e1f2ab4731e8126f69d8554acbb321ab940bce50cce33579f99b691416bd49a5"
 },
 "nbformat": 3,
 "nbformat_minor": 0,
 "worksheets": [
  {
   "cells": [
    {
     "cell_type": "heading",
     "level": 1,
     "metadata": {},
     "source": [
      "Chapter 14: Heat Transfer"
     ]
    },
    {
     "cell_type": "heading",
     "level": 2,
     "metadata": {},
     "source": [
      "Example 14.1, page no. 279"
     ]
    },
    {
     "cell_type": "code",
     "collapsed": false,
     "input": [
      "\n",
      "#initialization\n",
      "T = 50.0                        #F\n",
      "Q = 3.9                         #B/hr-ft^2\n",
      "\n",
      "#calculation\n",
      "#From table 14.1\n",
      "k = 0.026                       #B/hr-ft-F\n",
      "dx = k*T/Q\n",
      "\n",
      "#result\n",
      "print \"Required thickness  =  ft\", round(dx, 3), \"lb/in^2\""
     ],
     "language": "python",
     "metadata": {},
     "outputs": [
      {
       "output_type": "stream",
       "stream": "stdout",
       "text": [
        "Required thickness  =  ft 0.333 lb/in^2\n"
       ]
      }
     ],
     "prompt_number": 2
    },
    {
     "cell_type": "heading",
     "level": 2,
     "metadata": {},
     "source": [
      "Example 14.2, page no. 281"
     ]
    },
    {
     "cell_type": "code",
     "collapsed": false,
     "input": [
      "\n",
      "#initialization\n",
      "x1 = 1.0                        #in\n",
      "x2 = 4.0                        #in\n",
      "T1 = 85.0                       #F\n",
      "T2 = 30.0                       #F\n",
      "\n",
      "#calculation\n",
      "QbyA = 12*(T1-T2)/(x1/0.3 + x2/0.026)\n",
      "\n",
      "#result\n",
      "print \"Rate of heat flow  = \", round(QbyA, 1), \"B/r-ft^2-F\""
     ],
     "language": "python",
     "metadata": {},
     "outputs": [
      {
       "output_type": "stream",
       "stream": "stdout",
       "text": [
        "Rate of heat flow  =  4.2 B/r-ft^2-F\n"
       ]
      }
     ],
     "prompt_number": 3
    },
    {
     "cell_type": "heading",
     "level": 2,
     "metadata": {},
     "source": [
      "Example 14.3, page no. 283"
     ]
    },
    {
     "cell_type": "code",
     "collapsed": false,
     "input": [
      "\n",
      "import math\n",
      "\n",
      "#initialization\n",
      "L = 6.5                         #in\n",
      "thick = 1.0                     #in\n",
      "k = 0.06                        #B/hr-ft-F\n",
      "T1 = 350.0                      #F\n",
      "T2 = 110.0                      #F\n",
      "\n",
      "#calculation\n",
      "QbyL = 2*math.pi*k*(T1-T2)/math.log(1+2/L)\n",
      "\n",
      "#result\n",
      "print \"heat flow  =  %d B/hr-ft\" %QbyL"
     ],
     "language": "python",
     "metadata": {},
     "outputs": [
      {
       "output_type": "stream",
       "stream": "stdout",
       "text": [
        "heat flow  =  337 B/hr-ft\n"
       ]
      }
     ],
     "prompt_number": 4
    },
    {
     "cell_type": "heading",
     "level": 2,
     "metadata": {},
     "source": [
      "Example 14.4, page no. 283"
     ]
    },
    {
     "cell_type": "code",
     "collapsed": false,
     "input": [
      "\n",
      "import math\n",
      "\n",
      "#initialization\n",
      "t = 0.25                        #in\n",
      "dia = 5.5                       #in\n",
      "t2 = 0.6                        #in\n",
      "To = 100.0                      #F\n",
      "kp = 34.5                       #B/hr-ft-F\n",
      "ki = 0.05                       #B/hr-ft-F\n",
      "l = 10.0                        #ft\n",
      "Q = 2000.0                      #B/hr\n",
      "\n",
      "#calculation\n",
      "dT = Q*(1/kp *math.log(1+ 2*t/dia) + 1/ki *math.log(1 + 4*t/(dia+2*t)))/(2*math.pi*l)\n",
      "T1 = dT+To\n",
      "\n",
      "#result\n",
      "print \"Inner surface temperature of the pipe  = \", round(T1, 1), \"F\""
     ],
     "language": "python",
     "metadata": {},
     "outputs": [
      {
       "output_type": "stream",
       "stream": "stdout",
       "text": [
        "Inner surface temperature of the pipe  =  198.2 F\n"
       ]
      }
     ],
     "prompt_number": 6
    },
    {
     "cell_type": "heading",
     "level": 2,
     "metadata": {},
     "source": [
      "Example 14.5, page no. 286"
     ]
    },
    {
     "cell_type": "code",
     "collapsed": false,
     "input": [
      "\n",
      "#initialization\n",
      "Tsurr = 90.0                    #F\n",
      "T = 85.0                        #F\n",
      "\n",
      "#calculation\n",
      "H = 4.2/(Tsurr-T)\n",
      "\n",
      "#result\n",
      "print \"Film coefficient  =  %.2f B/hr-ft^2-F\" %H"
     ],
     "language": "python",
     "metadata": {},
     "outputs": [
      {
       "output_type": "stream",
       "stream": "stdout",
       "text": [
        "Film coefficient  =  0.84 B/hr-ft^2-F\n"
       ]
      }
     ],
     "prompt_number": 7
    },
    {
     "cell_type": "heading",
     "level": 2,
     "metadata": {},
     "source": [
      "Example 14.6, page no. 288"
     ]
    },
    {
     "cell_type": "code",
     "collapsed": false,
     "input": [
      "\n",
      "#initialization\n",
      "k = 0.04                        #B/hr-ft-F\n",
      "thick = 1.0                     #in\n",
      "T1 = 90.0                       #F\n",
      "T2 = 30.0                       #F\n",
      "Air = 2.5                       #B/hr-ft^2-F\n",
      "film = 2.0                      #B/hr-ft^2-F\n",
      "\n",
      "#calculation\n",
      "U = 1.0/(1.0/Air + thick/12.0/k + 1/film)\n",
      "Q = U*(T1-T2)\n",
      "\n",
      "#result\n",
      "print \"Rate of heat transfer per unit square area  =  %.1f B/hr-ft^2\" %Q"
     ],
     "language": "python",
     "metadata": {},
     "outputs": [
      {
       "output_type": "stream",
       "stream": "stdout",
       "text": [
        "Rate of heat transfer per unit square area  =  20.1 B/hr-ft^2\n"
       ]
      }
     ],
     "prompt_number": 8
    },
    {
     "cell_type": "heading",
     "level": 2,
     "metadata": {},
     "source": [
      "Example 14.7, page no. 291"
     ]
    },
    {
     "cell_type": "code",
     "collapsed": false,
     "input": [
      "\n",
      "import math\n",
      "\n",
      "#initialization\n",
      "U = 115.0                   #B/hr-ft^2-F\n",
      "T1 = 190.0                  #F\n",
      "T2 = 160.0                  #F\n",
      "Tc1 = 65.0                  #F\n",
      "Tc2 = 100.0                 #F\n",
      "w = 140.0                   #lbm/min\n",
      "c = 0.8                     #B/lbm F\n",
      "\n",
      "#calculation\n",
      "Q = w*60.0*c*(T1-T2) #answer in textbook for Q is wrong. Hence, the difference in final answer\n",
      "dT = ((T1-Tc2) - (T2-Tc1))/math.log((T1-Tc2)/(T2-Tc1))\n",
      "A = Q/(U*dT)\n",
      "\n",
      "#result\n",
      "print \"Required Area  =  %.1f ft^2\" %A"
     ],
     "language": "python",
     "metadata": {},
     "outputs": [
      {
       "output_type": "stream",
       "stream": "stdout",
       "text": [
        "Required Area  =  19.0 ft^2\n"
       ]
      }
     ],
     "prompt_number": 14
    },
    {
     "cell_type": "heading",
     "level": 2,
     "metadata": {},
     "source": [
      "Example 14.8, page no. 294"
     ]
    },
    {
     "cell_type": "code",
     "collapsed": false,
     "input": [
      "\n",
      "#initialization\n",
      "e = 0.8\n",
      "T1 = 100+460.0                  #R\n",
      "T2 = 300+460.0                  #R\n",
      "\n",
      "#calculation\n",
      "Qdot = 0.173*10**-8 *(T2**4 - T1**4)/(1/e +1/e -1)\n",
      "\n",
      "#result\n",
      "print \"Radiant heat transfer per sq. foot  =  %d B/hr-ft^2\" %(Qdot+1)"
     ],
     "language": "python",
     "metadata": {},
     "outputs": [
      {
       "output_type": "stream",
       "stream": "stdout",
       "text": [
        "Radiant heat transfer per sq. foot  =  272 B/hr-ft^2\n"
       ]
      }
     ],
     "prompt_number": 15
    },
    {
     "cell_type": "heading",
     "level": 2,
     "metadata": {},
     "source": [
      "Example 14.9, page no. 294"
     ]
    },
    {
     "cell_type": "code",
     "collapsed": false,
     "input": [
      "\n",
      "#initialization\n",
      "T1 = 400+460.0                  #R\n",
      "A = 40.0                        #in^2\n",
      "e = 0.1\n",
      "T2 = 70+460.0                   #R\n",
      "\n",
      "#calculation\n",
      "Q = A*e*0.173*10**-8 *(T1**4 - T2**4)/144.0\n",
      "\n",
      "#result\n",
      "print \"Rate of heat transfer  =  %.2f B/hr\" %Q\n",
      "#answer in the book is wrong"
     ],
     "language": "python",
     "metadata": {},
     "outputs": [
      {
       "output_type": "stream",
       "stream": "stdout",
       "text": [
        "Rate of heat transfer  =  22.49 B/hr\n"
       ]
      }
     ],
     "prompt_number": 19
    }
   ],
   "metadata": {}
  }
 ]
}