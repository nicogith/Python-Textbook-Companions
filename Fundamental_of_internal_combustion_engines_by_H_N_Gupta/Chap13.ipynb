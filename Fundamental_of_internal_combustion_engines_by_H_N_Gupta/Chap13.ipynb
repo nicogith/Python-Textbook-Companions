{
 "metadata": {
  "name": ""
 },
 "nbformat": 3,
 "nbformat_minor": 0,
 "worksheets": [
  {
   "cells": [
    {
     "cell_type": "heading",
     "level": 1,
     "metadata": {},
     "source": [
      "Chapter 13: Engine friction and lubrication"
     ]
    },
    {
     "cell_type": "heading",
     "level": 2,
     "metadata": {},
     "source": [
      "Example 13.1 Page No 423"
     ]
    },
    {
     "cell_type": "code",
     "collapsed": false,
     "input": [
      "#Input data\n",
      "d=0.08\t\t            #The diameter of bore in m\n",
      "L=0.075\t\t            #The length of the stroke in m\n",
      "l=0.152\t\t            #The connecting rod length in m\n",
      "h=0.062\t\t           #Skirt length of the piston in m\n",
      "Fr=8000\t\t            #Compressive force in the connecting rod in N\n",
      "p=3000\t\t           #The pressure in the cylinder kPa\n",
      "y=0.004*10**-3\t       #The clearence between piston and cylinder wall in m\n",
      "U=0.006\t\t           #The dynamic viscosity of the lubricating oil in pa.s\n",
      "u=8.2\t\t           #The piston speed in m/s\n",
      "\n",
      "#Calculations\n",
      "import math\n",
      "ts=(U*u)/y\t                       #The shear stress in N/m**2\n",
      "A=pi*d*h\t                       #Contact area between the piston and the cylinder in m**2\n",
      "Ff=ts*A\t\t                       #Friction force on the piston inN\n",
      "r=L/2.0\t\t                       #Crank length in m\n",
      "A=math.atan(r/l)\t               #The angle made by the crank in radians\n",
      "Ft=Fr*sin(A)\t#The side thrust in N\n",
      "\n",
      "#Output \n",
      "print\"The friction force on the piston \",round(Ff,0),\"N\"\n",
      "print\"The thrust force on the cylinder wall is\",round(Ft,0),\"N\"\n"
     ],
     "language": "python",
     "metadata": {},
     "outputs": [
      {
       "output_type": "stream",
       "stream": "stdout",
       "text": [
        "The friction force on the piston  192.0 N\n",
        "The thrust force on the cylinder wall is 1916.0 N\n"
       ]
      }
     ],
     "prompt_number": 1
    },
    {
     "cell_type": "heading",
     "level": 2,
     "metadata": {},
     "source": [
      "Example 13.2 Page No 424"
     ]
    },
    {
     "cell_type": "code",
     "collapsed": false,
     "input": [
      "#Input data\n",
      "d=0.065\t\t#The cylinder bore diameter in m\n",
      "L=6.0\t\t#The length of the stroke in cm\n",
      "l=12.0\t\t#The length of the connecting rod in cm\n",
      "p=50.0\t\t#The pressure in the cylinder in bar\n",
      "q=90.0\t\t#The crank position in power stroke of the cycle for one cylinder in degrees\n",
      "Ff=900.0\t\t#Friction force in N\n",
      "o=0.2\t\t#Wrist pin off set in cm\n",
      "\n",
      "#Calculations\n",
      "r=L/2.0\t\t#The crank length in cm\n",
      "sineA=r/l\t \n",
      "cosA=(1-(sineA)**2)**(1/2.0)\t\n",
      "Fr=(((p*10**5*(pi/4.0)*d**2)-Ff)/cosA)/1000.0  \n",
      "Ft=Fr*sineA\t    #The side thrust on the piston in kN\n",
      "sineA1=(r-o)/l\t#The value of sine\n",
      "cosA1=(1-(sineA1)**2)**(1/2.0)\t\t\t\n",
      "Fr1=(((p*10**5*(pi/4.0)*d**2)-Ff)/cosA1)/1000.0\t\n",
      "Ft1=Fr1*sineA1  #The side thrust in kN\n",
      "\n",
      "#Output \n",
      "print\"(a) The force in the connecting rod \",round(Fr,3),\" kN\"\n",
      "print\"The side thrust on the piston =\",round(Ft,2),\"kN\"\n",
      "print\"(b) The side thrust on the piston =\",round(Ft1,3),\" kN\"\n"
     ],
     "language": "python",
     "metadata": {},
     "outputs": [
      {
       "output_type": "stream",
       "stream": "stdout",
       "text": [
        "(a) The force in the connecting rod  16.206  kN\n",
        "The side thrust on the piston = 4.05 kN\n",
        "(b) The side thrust on the piston = 3.765  kN\n"
       ]
      }
     ],
     "prompt_number": 3
    }
   ],
   "metadata": {}
  }
 ]
}