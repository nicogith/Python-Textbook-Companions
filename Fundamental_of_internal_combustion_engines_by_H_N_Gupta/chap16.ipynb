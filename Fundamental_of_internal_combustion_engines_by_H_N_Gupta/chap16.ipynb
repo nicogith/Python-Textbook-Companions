{
 "metadata": {
  "name": ""
 },
 "nbformat": 3,
 "nbformat_minor": 0,
 "worksheets": [
  {
   "cells": [
    {
     "cell_type": "heading",
     "level": 1,
     "metadata": {},
     "source": [
      "Chapter16:Engine Testing and Performance"
     ]
    },
    {
     "cell_type": "heading",
     "level": 2,
     "metadata": {},
     "source": [
      "Example 16.1 page no: 519"
     ]
    },
    {
     "cell_type": "code",
     "collapsed": false,
     "input": [
      "#given\n",
      "N=3000                           #The speed of the engine in rpm \n",
      "r=9                              #Compression ratio \n",
      "l=17.2                           #The length of the connecting rod in cm\n",
      "t=20                             #The combustion ends at a TDC in degrees\n",
      "k=3                              #Three litre spark engine\n",
      "n=6.0                              #V-6 Engine\n",
      "\n",
      "#Calculations\n",
      "import math\n",
      "Vs=(k/n)*10**-3\n",
      "d=(((Vs*4)/math.pi)**(1/3.0))\n",
      "L=d*100\n",
      "up=2*d*N/60.0\n",
      "Vc=(Vs/(r-1))*10**6\n",
      "cr=L/2.0\n",
      "R=l/cr\n",
      "up1=up*((math.pi/2.0)*math.sin(math.pi/9.0)*(1+(math.cos(math.pi/9.0)/(R**2-(math.sin(math.pi/9.0)**2))**(1/2.0))))\n",
      "s=(cr*math.cos(math.pi/9.0))+(l**2-(cr**2)*(math.sin(math.pi/9.0))**2)**(1/2.0)\n",
      "x=l+cr-s\n",
      "V=Vc+(math.pi/4.0)*(d*100)**2*x\n",
      "\n",
      "#Output \n",
      "print\"(a)The cylinder bore and The stroke length (d = L) = \",round(L,2),\"cm\"\n",
      "print\"(b) The average piston speed = \",round(up,2),\"m/s\"\n",
      "print\"(c) The clearence volume of one cylinder = \",round(Vc,2),\"cm**3\"\n",
      "print\"(d) The piston speed at the end of combustion = \",round(up1,2),\"m/s\"\n",
      "print\"(e) The distance the piston travels from TDC at the end of combustion = \",round(x,2),\"cm\" \n",
      "print\"(f) Instantaneous volume = \",round(V,2),\"cm**3\" \n"
     ],
     "language": "python",
     "metadata": {},
     "outputs": [
      {
       "output_type": "stream",
       "stream": "stdout",
       "text": [
        "(a)The cylinder bore and The stroke length (d = L) =  8.6 cm\n",
        "(b) The average piston speed =  8.6 m/s\n",
        "(c) The clearence volume of one cylinder =  62.5 cm**3\n",
        "(d) The piston speed at the end of combustion =  5.71 m/s\n",
        "(e) The distance the piston travels from TDC at the end of combustion =  0.32 cm\n",
        "(f) Instantaneous volume =  81.24 cm**3\n"
       ]
      }
     ],
     "prompt_number": 12
    },
    {
     "cell_type": "heading",
     "level": 2,
     "metadata": {},
     "source": [
      "Example 16.2 page no: 521"
     ]
    },
    {
     "cell_type": "code",
     "collapsed": false,
     "input": [
      "#Input data\n",
      "d=0.175       #The diameter of the bore in m\n",
      "L=0.32        #The length of the stroke in m\n",
      "p=6.5         #Mean effective pressure in bar\n",
      "pp=0.4        #Pumping loop mean effective pressure in bar\n",
      "N=510.0         #The speed of the engine in rpm\n",
      "pm=0.65       #Diagrams from the dead cycle give a mep in bar\n",
      "n=55.0          #Firing strokes per minute \n",
      "\n",
      "#Calculations\n",
      "import math\n",
      "pmi=p-pp      \n",
      "c=((N/2.0)-n)   \n",
      "ipw=pmi*10**5*L*(math.pi/4.0)*d**2*(n/60.0)*(1/1000.0) \n",
      "Pp=pm*10**5*L*(math.pi/4.0)*d**2*(c/60.0)*(1/1000.0)   \n",
      "fp=ipw-Pp      #Power in kW\n",
      "fip=pmi*10**5*L*(math.pi/4.0)*d**2*(N/(2*60))*(1/1000.0)\n",
      "fbp=fip-fp\n",
      "nm=(fbp/fip)*100\n",
      "\n",
      "#Output \n",
      "print\" The full load break power = \",round(fbp,2),\"kW\" \n",
      "print\"The mechanical efficiency of the engine = \",round(nm,2),\"percent\"\n"
     ],
     "language": "python",
     "metadata": {},
     "outputs": [
      {
       "output_type": "stream",
       "stream": "stdout",
       "text": [
        " The full load break power =  17.32 kW\n",
        "The mechanical efficiency of the engine =  86.79 percent\n"
       ]
      }
     ],
     "prompt_number": 7
    },
    {
     "cell_type": "heading",
     "level": 2,
     "metadata": {},
     "source": [
      "Example 16.3 page no: 522"
     ]
    },
    {
     "cell_type": "code",
     "collapsed": false,
     "input": [
      "#given\n",
      "d=0.09                          #The diameter of the bore in m\n",
      "L=0.1                           #The length of the stroke in m\n",
      "T=120                           #The torque measured in Nm\n",
      "n=4                             #Number of cylinders \n",
      "\n",
      "#Calculations\n",
      "import math\n",
      "pmb=((4*math.pi*T)/(L*(math.pi/4)*d**2*n))/10.0**5\n",
      "\n",
      "#Output \n",
      "print\"The brake mean effective pressure = \",round(pmb,2),\"bar\"\n"
     ],
     "language": "python",
     "metadata": {},
     "outputs": [
      {
       "output_type": "stream",
       "stream": "stdout",
       "text": [
        "The brake mean effective pressure =  5.93 bar\n"
       ]
      }
     ],
     "prompt_number": 8
    },
    {
     "cell_type": "heading",
     "level": 2,
     "metadata": {},
     "source": [
      "Example 16.4 page no: 522"
     ]
    },
    {
     "cell_type": "code",
     "collapsed": false,
     "input": [
      "#Input data\n",
      "d=0.06                       #The diameter of the bore in m \n",
      "L=0.085                      #The length of the stroke in m\n",
      "N=3000                       #The speed of the engine in rpm\n",
      "r=0.35                       #Torque arm radius in m\n",
      "W=160                        #Weight in N\n",
      "f=6.6                        #Fuel consumption in l/h\n",
      "g=0.78                       #specific gravity of the fuel \n",
      "CV=44000                     #The calorific value of the fuel in kJ/kg\n",
      "w1=114                       #Brake load for cylinder 1 in N\n",
      "w2=110                       #Brake load for cylinder 2 in N\n",
      "w3=112                       #Brake load for cylinder 3 in N\n",
      "w4=116                       #Brake load for cylinder 4 in N\n",
      "n=4                          #Number of cylinders\n",
      "\n",
      "#Calculations\n",
      "import math\n",
      "Vf=(f*10**-3)/3600.0\n",
      "df=g*1000\n",
      "mf=df*Vf\n",
      "T=W*r\n",
      "bp=(2*math.pi*N*T)/(60.0*1000.0)\n",
      "pmb=((120*bp*1000)/(L*(math.pi/4.0)*d**2*N*n))/10.0**5\n",
      "nb=((bp)/(mf*CV))*100\n",
      "bsfc=(mf*3600)/bp\n",
      "bp1=((2*math.pi*N*w1*r)/(60.0*1000.0))\n",
      "ip1=bp-bp1     \n",
      "ip2=bp-((2*math.pi*N*w2*r)/(60*1000))\n",
      "ip3=bp-((2*math.pi*N*w3*r)/(60*1000))\n",
      "ip4=bp-((2*math.pi*N*w4*r)/(60*1000))\n",
      "ip=ip1+ip2+ip3+ip4\n",
      "nm=(bp/ip)*100\n",
      "pmi=pmb/(nm/100.0)\n",
      "\n",
      "#Output\n",
      "print\"The brake power =\",round(bp,3),\"kW \" \n",
      "print\"The brake mean effective pressure = \",round(pmb,3),\"bar\"\n",
      "print\"The brake thermal efficiency =\" ,round(nb,0),\"percent\"\n",
      "print\"The brake specific fuel consumption = \",round(bsfc,3),\"kg/kWh\"\n",
      "print\"The indicated power = \",round(ip,2),\"kW \"\n",
      "print\"The mechanical efficiency =\", round(nm,1),\"percent \" \n",
      "print\"The indicated mean effective pressure = \",round(pmi,1),\"bar\" \n"
     ],
     "language": "python",
     "metadata": {},
     "outputs": [
      {
       "output_type": "stream",
       "stream": "stdout",
       "text": [
        "The brake power = 17.593 kW \n",
        "The brake mean effective pressure =  7.32 bar\n",
        "The brake thermal efficiency = 28.0 percent\n",
        "The brake specific fuel consumption =  0.293 kg/kWh\n",
        "The indicated power =  20.67 kW \n",
        "The mechanical efficiency = 85.1 percent \n",
        "The indicated mean effective pressure =  8.6 bar\n"
       ]
      }
     ],
     "prompt_number": 1
    },
    {
     "cell_type": "heading",
     "level": 2,
     "metadata": {},
     "source": [
      "Example 16.5 page no: 523"
     ]
    },
    {
     "cell_type": "code",
     "collapsed": false,
     "input": [
      "#given\n",
      "d=0.15                               #The diameter of the bore in m\n",
      "L=0.16                               #The length of the stroke in m\n",
      "N=500                                #The speed of the engine in rpm\n",
      "mf=0.0475                            #Fuel consumption in kg/min\n",
      "CV=42000                             #The calorific value in kJ/kg\n",
      "w=400                                #The tension on either side of the pulley in N\n",
      "c=2.2                                #Brake circumference in m\n",
      "l=50                                 #Length of the indicator diagram in mm\n",
      "ap=475                               #Area of the positive loop of indicator diagram in mm**2\n",
      "an=25                                #Area of the negative loop of indicator diagram in mm**2\n",
      "s=0.8333                             #Spring constant in bar/mm\n",
      "\n",
      "#Calculations\n",
      "import math\n",
      "r=c/(2.0*math.pi)\n",
      "T=w*r\n",
      "bp=(2*math.pi*N*T)/(60.0*1000.0)\n",
      "M=(ap-an)/l\n",
      "imep=M*s\n",
      "ip=(imep*10**5*L*(math.pi/4.0)*d**2*(N/(2.0*60.0))*(1/1000.0))\n",
      "nm=(bp/ip)*100\n",
      "nb=((bp*60)/(mf*CV))*100\n",
      "ni=((nb/100.0)/(nm/100.0))*100\n",
      "bsfc=(mf*60)/bp\n",
      "\n",
      "#Output\n",
      "print\"(a) The brake power = \",round(bp,3),\"kW\"\n",
      "print \"(b) The indicated power = \",round(ip,3),\"kW\"\n",
      "print\"(c) The mechanical efficiency = \",round(nm,0),\"percent\"\n",
      "print\"(d) The brake thermal efficiency = \",round(nb,3)\n",
      "print\"(e) The indicated thermal efficiency = \",round(ni,3)\n",
      "print\"(f) The brake specific fuel consumption = \",round(bsfc,3),\" kg/kWh\"\n"
     ],
     "language": "python",
     "metadata": {},
     "outputs": [
      {
       "output_type": "stream",
       "stream": "stdout",
       "text": [
        "(a) The brake power =  7.333 kW\n",
        "(b) The indicated power =  8.835 kW\n",
        "(c) The mechanical efficiency =  83.0 percent\n",
        "(d) The brake thermal efficiency =  22.055\n",
        "(e) The indicated thermal efficiency =  26.573\n",
        "(f) The brake specific fuel consumption =  0.389  kg/kWh\n"
       ]
      }
     ],
     "prompt_number": 2
    },
    {
     "cell_type": "heading",
     "level": 2,
     "metadata": {},
     "source": [
      "Example 16.6 page no: 524"
     ]
    },
    {
     "cell_type": "code",
     "collapsed": false,
     "input": [
      "#given\n",
      "n=8                               #Number of cylinders\n",
      "d=0.08                            #The diameter of the bore in m\n",
      "L=0.1                             #The length of the stroke in m\n",
      "N=4500                            #The speed of the engine in rpm \n",
      "dy=0.55                           #The dynamometer readings in m\n",
      "w=40                              #The weight of the dynamometer scale reading in kg\n",
      "c=100                             #Fuel consumption in cc\n",
      "t=9.5                             #Time taken for fuel consumption in s\n",
      "CV=44000                          #The calorific value of the fuel in kJ/kg\n",
      "p=1                               #The atmospheric air pressure in bar\n",
      "T=300                             #The atmospheric air temperature in K\n",
      "ma=6                              #Mass flow rate of air in kg/min\n",
      "g=0.7                             #Specific gravity of the fuel \n",
      "Vc=65                             #The clearance volume of each cylinder in cc\n",
      "R=287                             #Real gas constant in J/kgK\n",
      "g=1.4                             #Isentropic index\n",
      "\n",
      "#Calculations\n",
      "import math\n",
      "bp=(2*math.pi*N*dy*w*9.81)/(60.0*1000.0)\n",
      "bmep=((bp*1000*60)/(L*(math.pi/4.0)*d**2*(N/2.0)*n))/10.0**5\n",
      "mf=(c*g*3600)/(t*2.0*1000.0)\n",
      "bsfc=(mf/bp)\n",
      "bsac=(ma*60)/bp\n",
      "a=bsac/bsfc\n",
      "nb=((bp*3600)/(mf*CV))*100\n",
      "Va=(ma*R*T)/(p*10.0**5)\n",
      "Vs=(math.pi/4.0)*d**2*L*(N/2.0)*n\n",
      "nv=(Va/Vs)*100\n",
      "Vs1=((math.pi/4.0)*d**2*L)*10**6\n",
      "cr=(Vs1+Vc)/Vc\n",
      "na=(1-(1/cr)**(g-1))*100\n",
      "re=((nb)/(na))*100\n",
      "\n",
      "#Output\n",
      "print\"The brake power = \",round(bp,1),\"kW\" \n",
      "print\"The brake mean effective pressure = \",round(bmep,3),\"bar\"\n",
      "print\"The brake specific fuel consumption = \",round(bsfc,3),\"kg/kWh\"\n",
      "print\"The brake specific air consumption = \",round(bsac,3),\"kg/kWh\"\n",
      "print\"The air fuel ratio = \",round(a,2)\n",
      "print\"The brake thermal efficiency = \",round(nb,3),\"percent\" \n",
      "print\"The volumetric efficiency = \",round(nv,1),\"percent\"\n",
      "print\"The relative efficiency = \",round(re,1),\"percent\"\n",
      "\n"
     ],
     "language": "python",
     "metadata": {},
     "outputs": [
      {
       "output_type": "stream",
       "stream": "stdout",
       "text": [
        "The brake power =  101.7 kW\n",
        "The brake mean effective pressure =  6.744 bar\n",
        "The brake specific fuel consumption =  0.261 kg/kWh\n",
        "The brake specific air consumption =  3.54 kg/kWh\n",
        "The air fuel ratio =  13.57\n",
        "The brake thermal efficiency =  31.369 percent\n",
        "The volumetric efficiency =  57.1 percent\n",
        "The relative efficiency =  54.1 percent\n"
       ]
      }
     ],
     "prompt_number": 7
    },
    {
     "cell_type": "heading",
     "level": 2,
     "metadata": {},
     "source": [
      "Example 16.7 page no: 526"
     ]
    },
    {
     "cell_type": "code",
     "collapsed": false,
     "input": [
      "#given\n",
      "n=6                              #Number of cylinders\n",
      "Do=0.03                          #Orifice diameter in m\n",
      "Cd=0.6                           #Coefficient of discharge \n",
      "H=0.14                           #Pressure drop across the orifice\n",
      "d=0.1                            #The diameter of the bore in m\n",
      "L=0.11                           #The length of the stroke in m\n",
      "W=540                            #Brake load in N\n",
      "N=2500                           #Engine speed in rpm\n",
      "ch=83/17                         #C/H ratio by mass\n",
      "p=1                              #Ambient pressure in bar\n",
      "t=18                             #Time taken for fuel consumption in s\n",
      "f=100                            #The amount of fuel consumption in cc\n",
      "T=300.0                          #Ambient air temperature in K\n",
      "df=780                           #The density of the fuel in kg/m**3\n",
      "R=287.0                          #Real gas constant in J/kgK\n",
      "g=9.81                           #Gravitational force constant in m/s**2\n",
      "dhg=13600                        #Density of Hg in kg/m**3\n",
      "\n",
      "#Calculations\n",
      "import math\n",
      "da=(p*10**5)/(R*T)\n",
      "Va=(Cd*(math.pi/4.0)*Do**2*(2*g*H*(dhg/da))**(1/2.0))\n",
      "Vs=(math.pi/4.0)*d**2*L*(N/(2.0*60.0))*n\n",
      "nv=(Va/Vs)*100\n",
      "bp=(W*N)/(20000.0)\n",
      "bmep=((bp*1000)/(L*(math.pi/4.0)*d**2*(N/(2.0*60.0))*n))/10.0**5\n",
      "T=(60*bp*1000)/(2.0*math.pi*N)\n",
      "mf=(f/18.0)*(780/1000.0)*(1/1000.0)*3600\n",
      "bsfc=mf/bp\n",
      "so=(0.83*(32/12.0))+(0.17*(8/1.0))\n",
      "sa=so/bsfc\n",
      "maa=Va*da\n",
      "af=(maa*3600)/mf\n",
      "pea=((af-sa)/sa)*100\n",
      "\n",
      "#Output\n",
      "print\"The volumetric efficiency = \",round(nv,3),\"percent\" \n",
      "print\"The brake mean effective pressure = \",round(bmep,3),\"bar\" \n",
      "print\"The brake power = \",bp,\"kW\" \n",
      "print\"The Torque = \",round(T,3),\"Nm\"\n",
      "print\"The brake specific fuel consumption = \",round(bsfc,3),\"kg/kWh\" \n",
      "print\"The percentage of excess air = \",round(pea,1),\"percent\""
     ],
     "language": "python",
     "metadata": {},
     "outputs": [
      {
       "output_type": "stream",
       "stream": "stdout",
       "text": [
        "The volumetric efficiency =  70.433 percent\n",
        "The brake mean effective pressure =  6.25 bar\n",
        "The brake power =  67.5 kW\n",
        "The Torque =  257.831 Nm\n",
        "The brake specific fuel consumption =  0.231 kg/kWh\n",
        "The percentage of excess air =  31.9 percent\n"
       ]
      }
     ],
     "prompt_number": 12
    },
    {
     "cell_type": "heading",
     "level": 2,
     "metadata": {},
     "source": [
      "Example 16.8 page no: 528"
     ]
    },
    {
     "cell_type": "code",
     "collapsed": false,
     "input": [
      "#given\n",
      "d=0.2                               #The diameter of bore in m\n",
      "L=0.3                               #The length of the stroke in m\n",
      "r=5.5                               #The compression ratio of the engine\n",
      "N=400                               #The speed of the engine in rpm\n",
      "imep=4.5                            #The indicative mean effective pressure in bar\n",
      "a=6                                 #Air to gas by volume \n",
      "CV=12000                            #The calorific value of the gas in kJ/m**3\n",
      "T=340                               #The temperature at the beginning of the compression stroke in K\n",
      "p=0.97                              #The pressure at the beginning of the compression stroke in bar\n",
      "g=1.4                               #Adiabatic index\n",
      "\n",
      "#Calculations\n",
      "import math\n",
      "Vs=(math.pi/4.0)*d**2*L\n",
      "Vc=Vs/(r-1)\n",
      "V=Vs+Vc\n",
      "Vg=V/7.0\n",
      "Vntp=((p*Vg)/T)*(273/1.013)\n",
      "Q=Vntp*CV*(N/(2.0*60.0))\n",
      "ip=(imep*10**5*L*(math.pi/4.0)*d**2*(N/(2.0*60.0))*(1/1000.0))\n",
      "ni=(ip/Q)*100\n",
      "na=(1-(1/r)**(g-1))*100\n",
      "nr=(ni/na)*100\n",
      "\n",
      "#Output\n",
      "print\"The indicated power = \",round(ip,2),\"kW\" \n",
      "print\"The thermal efficiency = \",round(ni,1),\"percent\" \n",
      "print\"The relative efficiency = \",round(nr,1),\"percent\" \n"
     ],
     "language": "python",
     "metadata": {},
     "outputs": [
      {
       "output_type": "stream",
       "stream": "stdout",
       "text": [
        "The indicated power =  14.14 kW\n",
        "The thermal efficiency =  27.9 percent\n",
        "The relative efficiency =  56.5 percent\n"
       ]
      }
     ],
     "prompt_number": 11
    },
    {
     "cell_type": "heading",
     "level": 2,
     "metadata": {},
     "source": [
      "Example 16.9 page no: 529"
     ]
    },
    {
     "cell_type": "code",
     "collapsed": false,
     "input": [
      "#given\n",
      "n=6.0                                     #Number of cylinder\n",
      "bp=130.0                                  #Brake power in kW\n",
      "N=1800.0                                  #The speed of the engine in rpm \n",
      "CV=42000.0                                #The calorific value of the fuel in kJ/kg\n",
      "C=86.0                                    #The composition of carbon in the fuel in percent\n",
      "H=13.0                                    #The composition of Hydrogen in the fuel in percent\n",
      "NC=1.0                                    #The non combustibles present in the fuel in percent\n",
      "na=85.0                                   #The absolute volumetric efficiency in percent\n",
      "ni=38.0                                   #The indicated thermal efficiency in percent\n",
      "nm=80.0                                   #The mechanical efficiency in percent\n",
      "ac=110.0                                  #The excess consumption of air in percent\n",
      "sb=1.2                                  #The stroke to the bore ratio \n",
      "da=1.3                                  #The density of air in kg/m**3\n",
      "\n",
      "#Calculations \n",
      "import math\n",
      "saf=(((C/100.0)*(32/12.0))+((H/100.0)*(8/1.0)))*(1/0.23)\n",
      "aaf=saf*(1+1.1)\n",
      "Ma=(0.23*32)+(0.77*28)\n",
      "a=(C/100)/12.0\n",
      "b=(H/100.0)/2.0\n",
      "x=aaf/Ma\n",
      "c=(0.21*x)-a-(b/2.0)\n",
      "d1=0.79*x\n",
      "ip=bp/(nm/100.0)\n",
      "mf=ip/((ni/100.0)*CV)\n",
      "ma=mf*aaf\n",
      "Va=ma/da\n",
      "Vs=Va/(na/100.0)#The swept volume per second in m**3/s\n",
      "d=((Vs*(4/math.pi)*(1/1.2)*((2*60)/N)*(1/n))**(1/3.0))*1000\n",
      "L=1.2*d\n",
      "T=a+c+d1\n",
      "CO2=(a/T)*100\n",
      "O2=(c/T)*100\n",
      "N2=(d1/T)*100\n",
      "\n",
      "#Output\n",
      "print\"The volumetric composition of dry exhaust gas :\" \n",
      "print\"1) CO2 = \",round(a,2),\"kmol\",\"and\"   \n",
      "print\"volume = \",round(CO2,2),\"percent\"  \n",
      "print\"2) O2 = \",round(c,3),\"kmol\",\"and\"   \n",
      "print\"volume = \",round(O2,3),\"percent\"\n",
      "print\"3) N2 = \",round(d1,3),\"kmol\",\"and\"   \n",
      "print\"volume = \",round(N2,3),\"percent\"\n",
      "print\"The bore of the engine = \",round(d,0),\"mm\" \n",
      "print\"The stroke of the engine = \",round(L,1),\"mm\""
     ],
     "language": "python",
     "metadata": {},
     "outputs": [
      {
       "output_type": "stream",
       "stream": "stdout",
       "text": [
        "The volumetric composition of dry exhaust gas :\n",
        "1) CO2 =  0.07 kmol and\n",
        "volume =  7.03 percent\n",
        "2) O2 =  0.117 kmol and\n",
        "volume =  11.456 percent\n",
        "3) N2 =  0.831 kmol and\n",
        "volume =  81.517 percent\n",
        "The bore of the engine =  149.0 mm\n",
        "The stroke of the engine =  178.8 mm\n"
       ]
      }
     ],
     "prompt_number": 13
    },
    {
     "cell_type": "heading",
     "level": 2,
     "metadata": {},
     "source": [
      "Example 16.10 page no: 531"
     ]
    },
    {
     "cell_type": "code",
     "collapsed": false,
     "input": [
      "#given\n",
      "d=0.18                                  #The diameter of the cylinder in m\n",
      "L=0.24                                  #The length of the stroke in m\n",
      "t=30.0                                    #Duration trail in min \n",
      "N=9000.0                                  #Number of revolutions \n",
      "Ne=4450.0                                 #Total number of explosions\n",
      "pmi=5.35                                #Gross imep in bar\n",
      "pp=0.35                                 #Pumping imep in bar\n",
      "W=40.0                                    #Net load on brake wheel in kg\n",
      "dd=0.96                                 #Diameter of the brake wheel drum in m\n",
      "dr=0.04                                 #Diameter of the rope in m\n",
      "V=2.6                                   #Volume of gas used in m**3\n",
      "pg=136.0                                  #pressure of gas in mmof Hg\n",
      "dg=0.655                                #The density of gas in kg/m**3\n",
      "T=290.0                                   #The ambient temperature of air in K\n",
      "CV=19000.0                                #The calorific value of the fuel in kJ/m**3\n",
      "ta=40.0                                   #Total air used in m**3\n",
      "p=720.0                                   #Pressure of air in mm of Hg\n",
      "Te=340.0                                 #Temperature of exhaust gas in degree centigrade \n",
      "Cpg=1.1                                  #Specific heat of gas in kJ/kgK\n",
      "C=80.0                                    #Cooling water circulated in kg\n",
      "Tr=30.0                                   #Rise in temperature of cooling water in degree centigrade \n",
      "R=287.0                                   #Real gas constant in J/kgK\n",
      "\n",
      "#Calculations\n",
      "#import math\n",
      "ip=(pmi-pp)*10**5*L*(math.pi/4.0)*d**2*(Ne/(30.0*60.0))*(1/1000.0)\n",
      "bp=(math.pi*(N/(30.0*60.0))*W*9.81*(dd+dr)*(1/1000.0))\n",
      "pgs=760+(pg/13.6)\n",
      "Vg=((pgs*V)/290.0)*(273/760.0)\n",
      "Q=(Vg*CV)/30.0\n",
      "Qbp=bp*60\n",
      "Qc=(C/t)*4.18*Tr\n",
      "Va=(((p*ta)/T)*(273/760.0))/30.0\n",
      "da=(1.013*10**5)/(R*273)\n",
      "ma=Va*da\n",
      "mg=(Vg/30)*dg\n",
      "me=ma+mg\n",
      "Qe=me*Cpg*(Te-(T-273))\n",
      "Qu=Q-(Qe+Qc+Qbp)\n",
      "nm=(bp/ip)*100\n",
      "ni=((ip*60)/Q)*100 \n",
      "x=((Qbp/1571.0)*100)\n",
      "y=((Qc/1571.0)*100)\n",
      "z=((Qe/1571.0)*100)\n",
      "k=((Qu/1571.0)*100)\n",
      "Qf=Qbp+Qc+Qe+Qu\n",
      "\n",
      "#Output\n",
      "print Qe\n",
      "print\"                                        HEAT BALANCE SEAT\"\n",
      "\n",
      "print \"  \\nHeat input             kj/min    %      heat expenditure               Kj/min            %\"\n",
      "print\"--------------------------------------------------------------------------------------------------\"\n",
      "print\"heat supplied by fuel \",round(Q,0),\"   100       (a)Heat in bp                 \",   round(Qbp,1),\"           \",round(x,1)\n",
      "print\"                                           (b)Heat loss to cooling tower  \",round(Qc,0),\"         \",round(y,1)\n",
      "print\"                                           (c) Heat to exhaust gases      \",round(Qe,0),\"         \",round(z,0)\n",
      "print\"                                           (d)unaccounted losses          \",round(Qu,0),\"         \",round(k,1)\n",
      "print\"Total                \",round(Q,0),\"   100            total                      \",round(Qf,0),    \"        100.0\"\n",
      " \n",
      "print\"\\nMechanical efficiency is\",round(nm,2),\"percent\"\n",
      "print\"Thermal efficiency is\",round(ni,1),\"percent\"\n",
      "\n"
     ],
     "language": "python",
     "metadata": {},
     "outputs": [
      {
       "output_type": "stream",
       "stream": "stdout",
       "text": [
        "565.475307496\n",
        "                                        HEAT BALANCE SEAT\n",
        "  \n",
        "Heat input             kj/min    %      heat expenditure               Kj/min            %\n",
        "--------------------------------------------------------------------------------------------------\n",
        "heat supplied by fuel  1571.0    100       (a)Heat in bp                  369.8             23.5\n",
        "                                           (b)Heat loss to cooling tower   334.0           21.3\n",
        "                                           (c) Heat to exhaust gases       565.0           36.0\n",
        "                                           (d)unaccounted losses           301.0           19.1\n",
        "Total                 1571.0    100            total                       1571.0         100.0\n",
        "\n",
        "Mechanical efficiency is 81.65 percent\n",
        "Thermal efficiency is 28.8 percent\n"
       ]
      }
     ],
     "prompt_number": 20
    },
    {
     "cell_type": "heading",
     "level": 2,
     "metadata": {},
     "source": [
      "Example 16.11 page no: 533"
     ]
    },
    {
     "cell_type": "code",
     "collapsed": false,
     "input": [
      "#given \n",
      "bp=30                          #The brake power in kw\n",
      "mf=10                          #Mass flow rate of fuel in kg/h\n",
      "CV=42000                       #Calorific value of the fuel in kJ/kg\n",
      "mw=9                           #Mass flow rate of water in kg/min\n",
      "Tr=60                          #Rise in temperature of the cooling water in degree centigrade\n",
      "mwe=9.5                        #Mass flow rate of water through exhaust gas calorimeter in kg/min\n",
      "Tc=40                          #Rise in temperature when passing through calorimeter in degree centigrade\n",
      "Te=80                          #Temperature of exhaust gas leaving the calorimeter in degree centigrade\n",
      "a=20                           #Air fuel ratio\n",
      "T=17                           #Ambient temperature in degree centigrade\n",
      "Cpw=4.18                       #Specific heat of water in kJ/kgK\n",
      "Cpg=1                          #Mean specific heat of gas in kJ/kgK\n",
      "\n",
      "#Calculations\n",
      "Qf=(mf/60.0)*CV               \n",
      "Qbp=bp*60\n",
      "Qc=mw*Cpw*Tr\n",
      "mg=(mf/60.0)+(mf/60.0)*a\n",
      "Qe=(mwe*Cpw*Tc)+(mg*Cpg*(Te-T))\n",
      "Qu=Qf-(Qbp+Qc+Qe)\n",
      "x=((Qbp/Qf))*100\n",
      "y=(Qc/Qf)*100\n",
      "z=(Qe/Qf)*100\n",
      "k=(Qu/Qf)*100\n",
      "\n",
      "#Output\n",
      "print\"                                        HEAT BALANCE SEAT\"\n",
      "print \"\\n  Heat input             kj/min    %      heat expenditure               Kj/min            %\"\n",
      "print\"--------------------------------------------------------------------------------------------------\"\n",
      "print\"heat supplied by fuel \",Qf,\"   100       (a)Heat in bp                 \",   Qbp,\"           \",round(x,0)\n",
      "print\"                                           (b)Heat loss to cooling tower  \",round(Qc,0),\"         \",round(y,0)\n",
      "print\"                                           (c) Heat to exhaust gases      \",round(Qe,0),\"         \",round(z,0)\n",
      "print\"                                           (d)unaccounted losses          \",round(Qu,0),\"         \",round(k,0)\n",
      "print\"Total                    \",Qf,\"    100            total                  \",Qf,    \"           100\"\n"
     ],
     "language": "python",
     "metadata": {},
     "outputs": [
      {
       "output_type": "stream",
       "stream": "stdout",
       "text": [
        "                                        HEAT BALANCE SEAT\n",
        "\n",
        "  Heat input             kj/min    %      heat expenditure               Kj/min            %\n",
        "--------------------------------------------------------------------------------------------------\n",
        "heat supplied by fuel  7000.0    100       (a)Heat in bp                  1800             26.0\n",
        "                                           (b)Heat loss to cooling tower   2257.0           32.0\n",
        "                                           (c) Heat to exhaust gases       1809.0           26.0\n",
        "                                           (d)unaccounted losses           1134.0           16.0\n",
        "Total                     7000.0     100            total                   7000.0            100\n"
       ]
      }
     ],
     "prompt_number": 85
    },
    {
     "cell_type": "heading",
     "level": 2,
     "metadata": {},
     "source": [
      "Example 16.12 page no: 534"
     ]
    },
    {
     "cell_type": "code",
     "collapsed": false,
     "input": [
      "#given\n",
      "n=4.0                                          #Number of cylinders\n",
      "d=0.085                                      #The diameter of the bore m\n",
      "L=0.095                                      #The length of the stroke in m\n",
      "tr=0.35                                      #Torque radius in m\n",
      "N=3000.0                                       #The speed of the engine in rpm\n",
      "w=430.0                                        #Net brake load in N\n",
      "w1=300.0                                       #Net brake load produced at the same speed by three cylinders in N\n",
      "mf=0.24                                      #The mass flow rate of fuel in kg/min\n",
      "CV=44000.0                                     #The calorific value of the fuel in kJ/kg\n",
      "mw=65.0                                        #Mass flow rate of water in kg/min\n",
      "Tw=12.0                                        #The rise in temperature in degree centigrade\n",
      "a=15.0                                         #The air fuel ratio \n",
      "Te=450.0                                       #The temperature of the exhaust gas in degree centigrade \n",
      "Ta=17.0                                        #Ambient temperature in degree centigrade\n",
      "p=76.0                                         #Barometric pressure in cm of Hg\n",
      "H=15.5                                       #The proportion of hydrogen by mass in the fuel in percent\n",
      "Cpe=1.0                                        #The mean specific heat of dry exhaust gas in kJ/kgK\n",
      "Cps=2.0                                        #The specific heat of super heated steam in kJ/kgK\n",
      "Cpw=4.18                                     #The specific heat of water in kJ/kgK\n",
      "Ts=100.0                                       #At 76 cm of Hg The temperature in degree centigrade \n",
      "hfg=2257                                     #The Enthalpy in kJ/kg\n",
      "R=287.0                                        #Real gas cons tant in J/kgK\n",
      "\n",
      "#Calculations\n",
      "import math\n",
      "bp=(2*math.pi*N*w*tr)/(60.0*1000.0)\n",
      "bp1=(2*math.pi*N*w1*0.35)/(60.0*1000.0)\n",
      "ip=bp-bp1\n",
      "ip1=n*ip\n",
      "imep=((ip1*60*1000)/(L*(math.pi/4.0)*d**2*(N/2.0)*n))/10.0**5\n",
      "ni=((ip1*60)/(mf*CV))*100\n",
      "bsfc=(mf*60)/bp\n",
      "Vs=(math.pi/4.0)*d**2*L*(N/2.0)*n\n",
      "ma=a*mf\n",
      "da=(1*10**5)/(R*(Ta+273))\n",
      "Va=ma/da\n",
      "nv=(Va/Vs)*100\n",
      "Qf=mf*CV\n",
      "Qbp=bp*60\n",
      "Qc=mw*Cpw*Tw\n",
      "mv=9*(H/100.0)*mf\n",
      "me=ma+mf-mv\n",
      "Qe=me*Cpe*(Te-Ta)\n",
      "Qs=(mv*((Cpw*(Ts-Ta))+hfg+(Cps*(Te-Ts))))\n",
      "Qu=Qf-(Qbp+Qc+Qe+Qs)\n",
      "x=(Qbp/Qf)*100\n",
      "y=(Qc/Qf)*100\n",
      "z=(Qe/Qf)*100\n",
      "k=(Qs/Qf)*100\n",
      "l=(Qu/Qf)*100 \n",
      "\n",
      "#Output\n",
      "print\"                                        HEAT BALANCE SEAT\"\n",
      "print \"  Heat input             kj/min    %      heat expenditure                  Kj/min           %\"\n",
      "print\"----------------------------------------------------------------------------------------------------\"\n",
      "print\"heat supplied by fuel \",Qf,\"   100       (a)Heat in bp                 \",   Qbp,\"  \",round(x,2)\n",
      "print\"                                           (b)Heat loss to cooling tower  \",round(Qc,0),\"         \",round(y,2)\n",
      "print\"                                           (c) Heat to dry exhaust gases  \",round(Qe,0),\"         \",round(z,1)\n",
      "print\"                                           (d)Heat loss in steam          \",round(Qs,0),\"         \",round(k,1)\n",
      "print\"                                           (e)unaccounted losses          \",round(Qu,0),\"         \",round(l,2)\n",
      "print\"Total               \",Qf,\"    100            total                     \",Qf,    \"        100\"\n",
      "\n",
      "print\"\\nimpep   \",round(imep,2),\"bar\"\n",
      "print\"Thermal efficiency  \",round(ni,1),\"percent\"\n",
      "print\"bsfc=\",round(bsfc,4),\"kg/kwh\"\n",
      "print\"Volumetric efficiency=\",round(nv,1),\"percent\"\n"
     ],
     "language": "python",
     "metadata": {},
     "outputs": [
      {
       "output_type": "stream",
       "stream": "stdout",
       "text": [
        "                                        HEAT BALANCE SEAT\n",
        "  Heat input             kj/min    %      heat expenditure                  Kj/min           %\n",
        "----------------------------------------------------------------------------------------------------\n",
        "heat supplied by fuel  10560.0    100       (a)Heat in bp                  2836.85816619    26.86\n",
        "                                           (b)Heat loss to cooling tower   3260.0           30.87\n",
        "                                           (c) Heat to dry exhaust gases   1518.0           14.4\n",
        "                                           (d)Heat loss in steam           1106.0           10.5\n",
        "                                           (e)unaccounted losses           1839.0           17.41\n",
        "Total                10560.0     100            total                      10560.0         100\n",
        "\n",
        "impep    10.61 bar\n",
        "Thermal efficiency   32.5 percent\n",
        "bsfc= 0.3046 kg/kwh\n",
        "Volumetric efficiency= 92.6 percent\n"
       ]
      }
     ],
     "prompt_number": 21
    }
   ],
   "metadata": {}
  }
 ]
}