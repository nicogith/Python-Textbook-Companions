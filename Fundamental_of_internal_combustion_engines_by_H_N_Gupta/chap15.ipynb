{
 "metadata": {
  "name": ""
 },
 "nbformat": 3,
 "nbformat_minor": 0,
 "worksheets": [
  {
   "cells": [
    {
     "cell_type": "heading",
     "level": 1,
     "metadata": {},
     "source": [
      "Chapter15:Air Capacity and SuperCharging"
     ]
    },
    {
     "cell_type": "heading",
     "level": 2,
     "metadata": {},
     "source": [
      "Example 15.1 page no: 474"
     ]
    },
    {
     "cell_type": "code",
     "collapsed": false,
     "input": [
      "#Input data\n",
      "Vs=0.0028       #Swept volume in m**3\n",
      "N=3000          #Speed of the engine in rpm\n",
      "ip=12.5         #The average indicated power developed in kW/m**3\n",
      "nv=85           #Volumetric efficiency in percent\n",
      "p1=1.013        #The atmospheric pressure in bar\n",
      "T1=288          #The atmospheric temperature in K\n",
      "ni=74           #Isentropic efficiency in percent\n",
      "pr=1.6          #The pressure ratio\n",
      "nm=78           #All mechanical efficiencies in percent\n",
      "g=1.4           #Adiabatic index\n",
      "R=287           #Real gas constant in J/kgK\n",
      "Cp=1.005        #The specific heat of gas in kJ/kgK\n",
      "\n",
      "#Calculations\n",
      "Vs1=(Vs*(N/2.0))         #Volume swept by the piston per minute in m**3/min\n",
      "Vi=(nv/100.0)*Vs1        #Unsupercharged induced volume in m**3/min\n",
      "p2=pr*p1               #Blower delivery pressure in bar\n",
      "T21=T1*(p2/p1)**((g-1)/g)         #Temperature after isentropic compression in K\n",
      "T2=T1+((T21-T1)/((ni/100.0)))       #Blower delivery temperature in K\n",
      "Ve=(Vs1*p2*T1)/(T2*p1)            #Equivalent volume at 1.013 bar and 15 degree centigrade in m**3/min\n",
      "nv1=(Ve/Vs1)*100                  #Volumetric efficiency of supercharged engine in percent\n",
      "Vii=Ve-Vi                         #Increase in induced volume in m**3/min\n",
      "ipa=ip*Vii                        #Increase in ip from air induced in kW\n",
      "ipi=((p2-p1)*10**5*Vs1)/(60*1000)       #Increase in ip due to increased induction pressure in kW\n",
      "ipt=ipa+ipi                             #Total increase in ip in kW\n",
      "bp=ipt*(nm/100.0)                              #Increase in engine bp in kW\n",
      "ma=(p2*(Vs1/60.0)*10**5)/(R*T2)                #Mass of air delivered per second by blower in kg/s\n",
      "P=ma*Cp*(T2-T1)                              #Power input to blower in kW\n",
      "Pd=P/(nm/100.0)                                #Power required to drive the blower in kW\n",
      "bpn=bp-Pd                                    #Net increase in bp in kW\n",
      "bpu=ip*Vi*(80/100.0)                           #The bp of unsupercharged engine in kW\n",
      "bpp=(bpn/(bpu))*100                          #Percentage increase in bp in percent\n",
      "\n",
      "#Output\n",
      "print\"The volumetric efficiency of supercharged engine = \",round(nv1,0),\"percent\"\n",
      "print\"The increase in brake power by supercharging = \",round(bpn,1),\" kW \"\n",
      "print\"The percentage increase in brake power = \",round(bpp,1),\" percent \"\n"
     ],
     "language": "python",
     "metadata": {},
     "outputs": [
      {
       "output_type": "stream",
       "stream": "stdout",
       "text": [
        "The volumetric efficiency of supercharged engine =  134.0 percent\n",
        "The increase in brake power by supercharging =  15.1  kW \n",
        "The percentage increase in brake power =  42.3  percent \n"
       ]
      }
     ],
     "prompt_number": 2
    },
    {
     "cell_type": "heading",
     "level": 2,
     "metadata": {},
     "source": [
      "Example 15.2 page no: 477"
     ]
    },
    {
     "cell_type": "code",
     "collapsed": false,
     "input": [
      "#Input data\n",
      "p=1.013       #The pressure at the sea level in bar\n",
      "T=283         #The temperature at the sea level in K\n",
      "bp=275.0        #Brake power in kW\n",
      "N=1800.0        #The speed of the engine in rpm\n",
      "a=20          #Air fuel ratio \n",
      "R=287         #The real gas constant in J/kgK\n",
      "bsfc=0.24     #Brake specific fuel consumption in kg/kWh\n",
      "nv=80         #Volumetric efficiency in percent\n",
      "p2=0.75       #The atmospheric pressure at altitude in bar\n",
      "P=9           #The power consumed by supercharger of the total power produced by the engine in percent\n",
      "T2=303        #The temperature of air leaving the supercharger in K\n",
      "\n",
      "#Calculations\n",
      "mf=(bsfc*bp)/60.0       \n",
      "ma1=mf*a           \n",
      "ma=(2/N)*ma1          \n",
      "dai=(p*10**5)/(R*T)   \n",
      "Vd=(ma/(dai*(nv/100.0)))            \n",
      "pmb=(bp*2*60*1000)/(Vd*N*10**5)    \n",
      "GP=bp/(1-0.09)                    \n",
      "ma2=(ma1/bp)*GP                    \n",
      "ma1=(ma2*2)/N                      \n",
      "p21=((R*T2*ma1)/((nv/100.0)*Vd))/10.0**5         \n",
      "pi=p21-p2                               \n",
      "\n",
      "#Output\n",
      "print\"(a) The engine capacity Vd = \",round(Vd,3),\"m**3\" \n",
      "print\"The bmep of the unsupercharged engine = \",round(pmb,3),\"bar\" \n",
      "print\"(b) Increase in air pressure required in the supercharged = \",round(pi,3),\"bar\"\n"
     ],
     "language": "python",
     "metadata": {},
     "outputs": [
      {
       "output_type": "stream",
       "stream": "stdout",
       "text": [
        "(a) The engine capacity Vd =  0.024 m**3\n",
        "The bmep of the unsupercharged engine =  7.483 bar\n",
        "(b) Increase in air pressure required in the supercharged =  0.442 bar\n"
       ]
      }
     ],
     "prompt_number": 1
    },
    {
     "cell_type": "heading",
     "level": 2,
     "metadata": {},
     "source": [
      "Example 15.3 page no: 479"
     ]
    },
    {
     "cell_type": "code",
     "collapsed": false,
     "input": [
      "#Input data\n",
      "Vs=0.003          #Swept volume in m**3\n",
      "bmep=9            #Brake mean effective pressure in bar\n",
      "N=4000            #The speed of the engine in rpm\n",
      "ni=30.0           #Indicated thermal efficiency in percent\n",
      "nm=90             #Mechanical efficiency in percent\n",
      "bmep1=12          #The brake mean effective pressure of other engine in bar\n",
      "N1=4000           #The speed of other engine in rpm\n",
      "ni1=25            #The indicated thermal efficiency of other engine in percent\n",
      "nm1=91            #The mechanical efficiency of other engine in percent\n",
      "m=200             #The mass of naturally aspired engine in kg\n",
      "m1=220            #The mass of supercharged engine in kg\n",
      "CV=44000          #The calorific value of the fuel in kJ/kg\n",
      "\n",
      "#Calculations\n",
      "bp=(bmep*10**5*Vs*N)/(2.0*60.0*1000)         \n",
      "ip=bp/(nm/100.0)                           \n",
      "mf=(ip)/((ni/100.0)*CV)                   \n",
      "bp1=(bmep1*10**5*Vs*N1)/(2.0*60.0*1000)    \n",
      "ip1=bp1/(nm1/100.0)                        \n",
      "mf1=ip1/((ni1/100.0)*CV)                  \n",
      "mf2=mf*3600                                \n",
      "mf3=mf1*3600                                       \n",
      "x=((200/90.0)-(220/120.0))/((43.2/120.0)-(27.27/90.0))     \n",
      "\n",
      "#Output\n",
      "print\"The maximum hours required for supply of sufficient fuel = \",round(x,3),\"hr\"\n"
     ],
     "language": "python",
     "metadata": {},
     "outputs": [
      {
       "output_type": "stream",
       "stream": "stdout",
       "text": [
        "The maximum hours required for supply of sufficient fuel =  6.823 hr\n"
       ]
      }
     ],
     "prompt_number": 2
    },
    {
     "cell_type": "heading",
     "level": 2,
     "metadata": {},
     "source": [
      "Example 15.4 Page no 480"
     ]
    },
    {
     "cell_type": "code",
     "collapsed": false,
     "input": [
      "#Input data\n",
      "d=0.1             #The diameter of the bore in m\n",
      "L=0.12            #The length of the stroke in m\n",
      "N=3000            #The speed of the engine in rpm\n",
      "n=4               #Number of cylinders\n",
      "R=287             #Real gas constant in J/kgK\n",
      "t=120             #Output Torque in Nm\n",
      "nm=85             #The mechanical efficiency of the engine in percent\n",
      "T1=288            #The inlet temperature of air into compressor in K\n",
      "p1=1              #The inlet pressure of air into compressor in bar\n",
      "Q=1200            #Heat rejected rate in kJ/min\n",
      "T=328             #The outlet temperature of air in K\n",
      "p=1.7             #The outlet pressure of air in bar\n",
      "nv=90             #Volumetric efficiency in percent\n",
      "Cp=1.005          #Specific heat of gas in kJ/kg\n",
      "\n",
      "#Calculations\n",
      "import math\n",
      "bp=(2*math.pi*N*t)/(60.0*1000.0)         #The brake power in kW\n",
      "ip=bp/(nm/100.0)                       #The indicated power in kW\n",
      "pmi=((ip*2*60*1000*4)/(L*(math.pi*d**2)*N*n))/10.0**5         #The mean effective pressure in bar\n",
      "Vs=(math.pi/4.0)*d**2*L               #Swept volume in m**3\n",
      "Vs1=Vs*(N/2.0)*n                      #Volume swept by the piston per min \n",
      "V1=(nv/100.0)*Vs1                     #Rate of volume flow of air into the engine in m**3/min\n",
      "me=((p*10**5*V1)/(R*T))*60          #Rate of mass flow of air into the engine in kg/h\n",
      "E=Q/60.0                              #Energy balance in the after cooling in kJ/s\n",
      "T2=((bp/E)*T-T1)/((bp/E)-1)         #The outlet temperature of air in K\n",
      "mc=((bp)/(Cp*(T2-T1)))*3600         #Mass flow rate in kg/h\n",
      "maf=mc-me                           #Rate of air flow available to the consumer in kg/h\n",
      "\n",
      "#Output\n",
      "print\"(a) The imep of the supercharged engine = \",round(pmi,3),\"bar\"\n",
      "print\"(b) The rate of air consumed by the engine = \",round(me,1),\"kg/h\" \n",
      "print\"(c) The rate of air flow available to the consumer = \",round(maf,1),\"kg/h\"\n",
      "\n"
     ],
     "language": "python",
     "metadata": {},
     "outputs": [
      {
       "output_type": "stream",
       "stream": "stdout",
       "text": [
        "(a) The imep of the supercharged engine =  4.706 bar\n",
        "(b) The rate of air consumed by the engine =  551.5 kg/h\n",
        "(c) The rate of air flow available to the consumer =  1033.5 kg/h\n"
       ]
      }
     ],
     "prompt_number": 4
    },
    {
     "cell_type": "heading",
     "level": 2,
     "metadata": {},
     "source": [
      "Example 15.5 page no: 482"
     ]
    },
    {
     "cell_type": "code",
     "collapsed": false,
     "input": [
      "#Input data\n",
      "Vs=0.0045       #Swept volume in m**3\n",
      "N=4000.0          #The speed of the engine in rpm \n",
      "nv=150.0          #Overall volumetric efficiency in percent\n",
      "ni=90.0           #Isentropic efficiency of the compressor in percent\n",
      "nm=85.0           #Mechanical efficiency in percent\n",
      "T=330.0           #The temperature of compressed air after cooler in K\n",
      "p2=1.8          #The pressure of the compressed air in bar\n",
      "T1=290.0          #The ambient temperature of air in K\n",
      "p1=1.0            #The pressure of the ambient condition in bar\n",
      "R=287.0           #The real gas constant in J/kgK\n",
      "g=1.4           #Adiabatic index\n",
      "Cp=1.005        #The specific heat of gas in kJ/kgK\n",
      "\n",
      "#Calculations\n",
      "T21=T1*(p2/p1)**((g-1)/g)          \n",
      "T2=T1+((T21-T1)/(ni/100.0))          \n",
      "Vs1=Vs*(N/(2*60))                  # m**3/s\n",
      "Va=(nv/100)*Vs1                    \n",
      "d=(p1*10**5)/(R*T1)                # kg/m**3\n",
      "ma=d*Va                            # kg/s\n",
      "Q=ma*Cp*(T2-T)                     # kJ/s\n",
      "P=ma*Cp*(T2-T1)                    # kW\n",
      "Pa=P/(nm/100.0)                      \n",
      "\n",
      "#Output\n",
      "print \"(a) The rate of heat rejected from the engine after cooler = \",round(Q,2),\"kJ/s\" \n",
      "print\"(b) The power absorbed by the supercharger from the engine = \",round(Pa,1),\"kW\" \n"
     ],
     "language": "python",
     "metadata": {},
     "outputs": [
      {
       "output_type": "stream",
       "stream": "stdout",
       "text": [
        "(a) The rate of heat rejected from the engine after cooler =  5.14 kJ/s\n",
        "(b) The power absorbed by the supercharger from the engine =  18.8 kW\n"
       ]
      }
     ],
     "prompt_number": 6
    },
    {
     "cell_type": "heading",
     "level": 2,
     "metadata": {},
     "source": [
      "Example 15.6 page no: 483"
     ]
    },
    {
     "cell_type": "code",
     "collapsed": false,
     "input": [
      "#Input data\n",
      "p1=0.98         #The inlet pressure of air in bar\n",
      "T1=290.0          #The inlet temperature of air in K\n",
      "p2=1.8          #The pressure of air delivered to the engine in bar\n",
      "a=20.0            #The air fuel ratio \n",
      "T3=850.0          #The temperature of the exhaust gases leaving the engine in K\n",
      "p3=1.6          #The pressure of the exhaust gases leaving the engine in bar\n",
      "p4=1.03         #The turbine exhaust pressure in bar\n",
      "nc=80.0           #The isentropic efficiency of compressor in percent\n",
      "nt=85.0           #The isentropic efficiency of turbine in percent\n",
      "Cpa=1.005       #The specific heat of air in kJ/kgK\n",
      "Cpg=1.15        #The specific heat of gas in kJ/kgK\n",
      "g=1.33          #isentropic index\n",
      "h=1.0            #Adiabatic index\n",
      "\n",
      "#Calculations\n",
      "T21=T1*(p2/p1)**(0.286)    #value taken in book (g-1/g)=0.286      \n",
      "T2=T1+((T21-T1)/(nc/100.0))        \n",
      "T22=T2-273                        \n",
      "T41=T3*(p4/p3)**((g-1)/g)         \n",
      "T4=T3-((nt/100.0)*(T3-T41))         \n",
      "T44=T4-273                       \n",
      "mf=1.0                              # kg/s\n",
      "ma=mf*a                           # kg/s\n",
      "Wc=ma*Cpa*(T2-T1)                 # kW\n",
      "mg=ma+mf                          #Mass flow rate of gas in kg/s\n",
      "Wt=mg*Cpg*(T3-T4)                \n",
      "Pt=(Wc/Wt)*100                   \n",
      "\n",
      "#Output\n",
      "print\"(a) The temperature of the air leaving the compressor = \",round(T22,0),\"degree centigrade\" \n",
      "print\"(b) The temperature of gases leaving the turbine = \",round(T44,0),\"degree centigrade\" \n",
      "print\"(c) The mechanical power used to run the turbocharger = \",round(Pt,1),\"percent\" \n"
     ],
     "language": "python",
     "metadata": {},
     "outputs": [
      {
       "output_type": "stream",
       "stream": "stdout",
       "text": [
        "(a) The temperature of the air leaving the compressor =  86.0 degree centigrade\n",
        "(b) The temperature of gases leaving the turbine =  502.0 degree centigrade\n",
        "(c) The mechanical power used to run the turbocharger =  76.6 percent\n"
       ]
      }
     ],
     "prompt_number": 22
    },
    {
     "cell_type": "heading",
     "level": 2,
     "metadata": {},
     "source": [
      "Example 15.7 page no: 485"
     ]
    },
    {
     "cell_type": "code",
     "collapsed": false,
     "input": [
      "#Input data\n",
      "a=14.0          #Air fuel ratio \n",
      "T1=288          #The ambient temperature of air in K\n",
      "T2=(288-23)     #The evaporation of fuel cause 23 degree C drop in mixture temperature in K\n",
      "p=1.3           #Pressure ratio \n",
      "nc=75           #The isentropic efficiency of the compressor in percent\n",
      "Cpm=1.05        #The specific heat of the mixture in kJ/kgK\n",
      "Cpa=1.005           #The specific heat of air in kJ/kgK\n",
      "g=1.33          #Adiabatic index\n",
      "h=1.4           #Isentropic index\n",
      "ma=1            #Mass flow rate of air in kg/s\n",
      "\n",
      "#Calculations\n",
      "T31=T2*p**((g-1)/g)           \n",
      "T3=T2+((T31-T2)/(nc/100.0))\n",
      "mm=1+(1/a)\n",
      "Wc1=mm*Cpm*(T3-T2)\n",
      "T21=T1*p**((h-1)/h)\n",
      "T4=T1+((T21-T1)/(nc/100.0))\n",
      "T4_=317        #approx value taken in book of T4=317\n",
      "Wc2=ma*Cpa*(T4_-T1)   \n",
      "T5=T4-23\n",
      "Ps=((Wc2-round(Wc1,0))*100)/Wc2\n",
      "\n",
      "#Output\n",
      "print\"(a) The power required by the compressor  before the supercharger = \",round(Wc1,0),\"kW/kg of air per second\"\n",
      "print\"(b) The power required by the compressor after the supercharger = \",round(Wc2,1),\"kW/kg of air per second\"  \n",
      "print\"Percentage of turbine power used to run the compressor = \",round(Ps,3),\"percent\"\n"
     ],
     "language": "python",
     "metadata": {},
     "outputs": [
      {
       "output_type": "stream",
       "stream": "stdout",
       "text": [
        "(a) The power required by the compressor  before the supercharger =  27.0 kW/kg of air per second\n",
        "(b) The power required by the compressor after the supercharger =  29.1 kW/kg of air per second\n",
        "Percentage of turbine power used to run the compressor =  7.36 percent\n"
       ]
      }
     ],
     "prompt_number": 34
    }
   ],
   "metadata": {}
  }
 ]
}