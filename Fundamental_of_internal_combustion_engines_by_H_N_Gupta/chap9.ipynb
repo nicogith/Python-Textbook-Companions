{
 "metadata": {
  "name": ""
 },
 "nbformat": 3,
 "nbformat_minor": 0,
 "worksheets": [
  {
   "cells": [
    {
     "cell_type": "heading",
     "level": 1,
     "metadata": {},
     "source": [
      "Chapter9:Carburettors and Fuel Injection in SI Engines "
     ]
    },
    {
     "cell_type": "heading",
     "level": 2,
     "metadata": {},
     "source": [
      "Example 9.1 page no: 279"
     ]
    },
    {
     "cell_type": "code",
     "collapsed": false,
     "input": [
      "#given\n",
      "ma=5                            #Mass flow rate of air per min for a simple jet carburettor in kg/min\n",
      "mf=0.4                          #Mass flow rate of fuel in kg/min\n",
      "df=780                          #Density of the fuel in kg/m**3\n",
      "p1=1.013                        #The initial pressure of air in bar\n",
      "t1=27                           #The initial temperature of air in degree centigrade\n",
      "C2=90                           #The air flow velocity in m/s\n",
      "Cva=0.8                         #The velocity coefficient for the venturi\n",
      "Cdf=0.6                         #The coefficient of discharge of the main fuel jet \n",
      "Cpd=0.75                        #The pressure drop across the fuel metering oriface\n",
      "Cp=1005                         #The specific heat of gas in J/kgK\n",
      "g=1.4                           #Adiabatic index\n",
      "R=287                           #Real gas constant in J/kgK\n",
      "\n",
      "#Calculations\n",
      "import math\n",
      "p2=p1*(1-(C2**2/(Cva**2*2*Cp*(t1+273))))**(g/(g-1))\n",
      "da1=((p1*10**5)/(R*(t1+273)))\n",
      "da2=((da1)*(p2/p1)**(1/g))\n",
      "A2=((ma/60.0)/(da2*C2))*10**4\n",
      "d2=(4*A2/math.pi)**(1/2.0)\n",
      "pv=p1-p2\n",
      "pj=Cpd*pv\n",
      "Aj=((mf/60.0)/(Cdf*(2*df*pj*10**5)**(1/2.0)))*10**6\n",
      "dj=(4*Aj/math.pi)**(1/2.0)\n",
      "\n",
      "#Output\n",
      "print\"The throat diameter of the choke = \",round(d2,3),\"cm\" \n",
      "print\"The oriface diameter = \",round(dj,1),\"mm\" \n"
     ],
     "language": "python",
     "metadata": {},
     "outputs": [
      {
       "output_type": "stream",
       "stream": "stdout",
       "text": [
        "The throat diameter of the choke =  3.251 cm\n",
        "The oriface diameter =  2.2 mm\n"
       ]
      }
     ],
     "prompt_number": 1
    },
    {
     "cell_type": "heading",
     "level": 2,
     "metadata": {},
     "source": [
      "Example 9.2 page no: 281"
     ]
    },
    {
     "cell_type": "code",
     "collapsed": false,
     "input": [
      "#given\n",
      "Vs=0.002                                 #The swept volume in m**3\n",
      "nv=75.0                                  #Volumetric efficiency in percent\n",
      "N=4500.0                                 #The engine rpm\n",
      "p1=1.013                                 #The initial pressure of air in bar\n",
      "R=287.0                                  #Real gas constant in J/kgK\n",
      "t1=15.0                                  #The atmospheric temperature in degree centigrade\n",
      "Cp=1005.0                                #The specific heat of gas in J/kgK\n",
      "g=1.4                                    #Adiabatic index\n",
      "C2=100.0                                 #The air flow velocity at choke in m/s\n",
      "Cda=0.85                                 #The velocity coefficient for the venturi\n",
      "Cdf=0.66                                 #The coefficient of discharge of the main fuel jet \n",
      "sf=0.75                                  #The specific gravity of fuel\n",
      "d=0.4                                    #The ratio of the diameter to choke diameter\n",
      "af=14.0                                  #The air fuel ratio\n",
      "gf=9.81                                  #The gravitational force constant in m/s**2\n",
      "Z=0.006                                  #The petrol surface below the choke in m\n",
      "df=750.0                                 #The density of the fuel in kg/m**3\n",
      "\n",
      "#Calculations\n",
      "import math\n",
      "Va=((nv/100.0)*Vs*N)/(2.0*60.0)\n",
      "V1=Va/2.0\n",
      "ma=(p1*10**5*V1)/(R*(t1+273))\n",
      "p2=p1*(1-(C2**2/(2*Cp*(t1+273))))**(g/(g-1))\n",
      "da1=((p1*10**5)/(R*(t1+273)))\n",
      "da2=da1*(p2/p1)**(1/g)\n",
      "A2=(ma/(da2*C2*Cda))*10**6\n",
      "D=((A2*4)/(math.pi*0.84))**(1/2.0)\n",
      "mf=ma/af\n",
      "pm=(p1-p2-(gf*Z*df/10.0**5))*10**5\n",
      "Aj=(mf/(Cdf*(2*df*pm)**(1/2.0)))*10**6\n",
      "dj=(4*Aj/math.pi)**(1/2.0)\n",
      "\n",
      "#Output\n",
      "print\"The diameter of the choke = \",round(D,2),\"mm\" \n",
      "print\"The diameter of the jet in = \",round(dj,2),\"mm\" \n"
     ],
     "language": "python",
     "metadata": {},
     "outputs": [
      {
       "output_type": "stream",
       "stream": "stdout",
       "text": [
        "The diameter of the choke =  22.89 mm\n",
        "The diameter of the jet in =  1.26 mm\n"
       ]
      }
     ],
     "prompt_number": 1
    },
    {
     "cell_type": "heading",
     "level": 2,
     "metadata": {},
     "source": [
      "Example 9.3 page no: 283"
     ]
    },
    {
     "cell_type": "code",
     "collapsed": false,
     "input": [
      "#given\n",
      "d=0.08                              #The diameter of the bore in m\n",
      "L=0.09                              #The length of the stroke in m\n",
      "N=4000.0                            #The engine rpm\n",
      "C=84.0                              #The carbon content in the fuel by mass in percent\n",
      "H=16.0                              #The hydrogen content in the fuel by mass in percent\n",
      "nv=80.0                             #The volumetric efficiency of the engine in percent\n",
      "p1=1.0                              #The pressure at ambient condition in bar\n",
      "t1=25.0                             #The temperature at ambient condition in degree centigrade\n",
      "p=0.06                              #The depression at venturi throat in bar\n",
      "ma=0.95                             #The actuat quantity of air supplied\n",
      "Ra=287.0                            #Real gas constant in J/kgK\n",
      "Rf=98.0                             #Real gas constant in J/kgK\n",
      "n=4.0                               #Number of cylinders\n",
      "Cp=1005.0                           #The specific heat of gas in J/kgK\n",
      "g=1.4                               #Adiabatic index\n",
      "\n",
      "#Calculations\n",
      "import math\n",
      "V=(math.pi/4.0)*d**2*L*(nv/100.0)*(N/(2.0*60.0))*n\n",
      "Af=(100/23.0)*((C*(32/12.0))+(H*8))/100.0\n",
      "mfa=Af*ma\n",
      "Aaf=mfa\n",
      "da=(p1*10**5)/(Ra*(t1+273))\n",
      "dv=(p1*10**5)/(Rf*(t1+273))\n",
      "ma1=V/((1/da)+(1/(mfa*dv)))\n",
      "mf1=ma1/mfa\n",
      "p2=p1-p\n",
      "C2=(2*Cp*(t1+273)*(1-(p2/p1)**((g-1)/g)))**(1/2.0)\n",
      "T2=(t1+273)*(p2/p1)**((g-1)/g)\n",
      "d2=(p2*10**5)/(Ra*T2)\n",
      "A2=(ma1/(d2*C2))*10**4\n",
      "d2=(A2*4/math.pi)**(1/2.0)\n",
      "\n",
      "#Output\n",
      "print\"The fuel flow rate = \",round(mf1,5),\"kg/s\" \n",
      "print\"The velocity of air at throat = \",round(C2,1),\"m/s\" \n",
      "print\"The throat diameter = \",round(d2*10,2),\"mm\" \n"
     ],
     "language": "python",
     "metadata": {},
     "outputs": [
      {
       "output_type": "stream",
       "stream": "stdout",
       "text": [
        "The fuel flow rate =  0.00379 kg/s\n",
        "The velocity of air at throat =  102.5 m/s\n",
        "The throat diameter =  24.75 mm\n"
       ]
      }
     ],
     "prompt_number": 2
    },
    {
     "cell_type": "heading",
     "level": 2,
     "metadata": {},
     "source": [
      "Example 9.4 page no: 285"
     ]
    },
    {
     "cell_type": "code",
     "collapsed": false,
     "input": [
      "#given\n",
      "d=0.1                                     #The diameter of the bore in m\n",
      "L=0.12                                    #The length of the stroke in m\n",
      "N=3000                                    #The engine rpm\n",
      "d2=0.035                                  #The throat diameter of carburettor venturi in m\n",
      "nv=80                                     #The volumetric efficiency of the engine in percent\n",
      "Cda=0.82                                  #The coefficient of discharge of air flow \n",
      "p=1.013                                   #The ambient pressure in bar\n",
      "T=298                                     #The ambient temperature in K\n",
      "ar=15                                     #The air fuel ratio \n",
      "Z=0.005                                   #The top of the jet above the petrol level in the float chamber in m\n",
      "Cdf=0.7                                   #The coefficient of discharge for fuel flow \n",
      "df=750                                    #The specific gravity of the fuel in kg/m**3\n",
      "R=287                                     #Real gas constant in J/kgK\n",
      "g=9.81                                    #The gravitational constant in m/s**2\n",
      "n=4                                       #Number of cylinders \n",
      "\n",
      "#Calculations\n",
      "import math\n",
      "V=(math.pi/4.0)*d**2*L*(nv/100.0)*(N/(2.0*60.0))*n\n",
      "da=(p*10**5)/(R*T)\n",
      "ma=V*da\n",
      "A2=(math.pi/4.0)*d2**2\n",
      "P=(ma**2/(Cda**2*A2**2*2*da))/10.0**5\n",
      "mf=ma/ar\n",
      "Aj=(mf/(Cdf*(2*df*((P*10**5)-(g*Z*df)))**(1/2.0)))*10**6\n",
      "dj=(Aj*4/math.pi)**(1/2.0)\n",
      "\n",
      "#Output \n",
      "print\"The depression of the throat = \",round(P,3),\"bar\" \n",
      "print\"The diameter of the fuel jet of a simple carburettor = \",round(dj,3),\"mm\" \n"
     ],
     "language": "python",
     "metadata": {},
     "outputs": [
      {
       "output_type": "stream",
       "stream": "stdout",
       "text": [
        "The depression of the throat =  0.054 bar\n",
        "The diameter of the fuel jet of a simple carburettor =  1.953 mm\n"
       ]
      }
     ],
     "prompt_number": 3
    },
    {
     "cell_type": "heading",
     "level": 2,
     "metadata": {},
     "source": [
      "Example 9.5 page no:286"
     ]
    },
    {
     "cell_type": "code",
     "collapsed": false,
     "input": [
      "#given\n",
      "mf=(6/3600.0)                               #The mass flow rate of fuel in kg/s\n",
      "df=750                                      #The density of fuel in kg/m**3\n",
      "Z=0.003                                     #The level in the float chamber below the top of the jet in m\n",
      "p=1.013                                     #The ambient pressure in bar\n",
      "T=294                                       #The ambient temperature in K\n",
      "dj=0.0012                                   #The jet diameter in m\n",
      "Cdf=0.65                                    #The discharge coefficient of the jet \n",
      "Cda=0.8                                     #The discharge coefficient of air \n",
      "A=15.3                                      #The air fuel ratio \n",
      "g=9.81                                      #The gravitational constant in m/s**2\n",
      "R=287                                       #Real gas constant in J/kgK\n",
      "dh=1000                                     #The density of water in kg/m**2\n",
      "\n",
      "#Calculations\n",
      "import math\n",
      "da=(p*10**5)/(R*T)\n",
      "Ca2=Cda*((2*g*Z*df)/da)**(1/2.0)\n",
      "Aj=(math.pi/4.0)*dj**2\n",
      "P=((mf**2/(Cdf**2*Aj**2*2*df))+(g*Z*df))/10.0**5\n",
      "h=(P*10**5)/(dh*g)\n",
      "h1=(P*10**5)/g\n",
      "ma=mf*A\n",
      "A2=(ma/((Cda*(2*da*(P*10**5))**(1/2.0))))*10**4\n",
      "d2=((A2*4/math.pi)**(1/2.0))*10\n",
      "\n",
      "#Output \n",
      "print\"The critical air velocity = \",round(Ca2,1),\"m/s\" \n",
      "print\"The depression at the throat = \",round(h1,1),\"mm of H2O\" \n",
      "print\"The effective throat diameter  \",round(d2,2),\"mm\"\n"
     ],
     "language": "python",
     "metadata": {},
     "outputs": [
      {
       "output_type": "stream",
       "stream": "stdout",
       "text": [
        "The critical air velocity =  4.9 m/s\n",
        "The depression at the throat =  351.6 mm of H2O\n",
        "The effective throat diameter   21.12 mm\n"
       ]
      }
     ],
     "prompt_number": 4
    },
    {
     "cell_type": "heading",
     "level": 2,
     "metadata": {},
     "source": [
      "Example 9.6 page no: 287"
     ]
    },
    {
     "cell_type": "code",
     "collapsed": false,
     "input": [
      "#given\n",
      "d2=22                            #The venturi throat diameter of a simple carburettor in mm\n",
      "Cda=0.82                         #The coefficient of air flow \n",
      "dj=1.2                           #The fuel orifice diameter in mm\n",
      "Cdf=0.7                          #The coefficient of fuel flow\n",
      "Z=0.004                          #The petrol surface below the throat in m\n",
      "g=9.81                           #The gravitational constant in m/s**2\n",
      "da=1.2                           #The density of air in kg/m**3\n",
      "df=750                           #The density of fuel in kg/m**3\n",
      "P=0.075                          #The pressure drop in bar\n",
      "\n",
      "#Calculations\n",
      "A=(Cda/Cdf)*(d2**2/dj**2)*(da/df)**(1/2.0)\n",
      "A1=(Cda/Cdf)*(d2**2/dj**2)*((da*P)/(df*(P-(g*Z*df)/10.0**5)))**(1/2.0) \n",
      "Ca2=(2*g*Z*df/da)**(1/2.0)\n",
      "\n",
      "#Output\n",
      "print\" (a) The air fuel ratio when the nozzle lip is neglected = \",round(A,2)\n",
      "print\"(b)The air fuel ratio when the nozzle lip is considered = \",round(A1,3)\n",
      "print\"(c) The critical air velocity or minimum velocity required to start the fuel flow = \",round(Ca2,1),\"m/s\" \n"
     ],
     "language": "python",
     "metadata": {},
     "outputs": [
      {
       "output_type": "stream",
       "stream": "stdout",
       "text": [
        " (a) The air fuel ratio when the nozzle lip is neglected =  15.75\n",
        "(b)The air fuel ratio when the nozzle lip is considered =  15.78\n",
        "(c) The critical air velocity or minimum velocity required to start the fuel flow =  7.0 m/s\n"
       ]
      }
     ],
     "prompt_number": 22
    },
    {
     "cell_type": "heading",
     "level": 2,
     "metadata": {},
     "source": [
      "Example 9.7 page no: 289"
     ]
    },
    {
     "cell_type": "code",
     "collapsed": false,
     "input": [
      "#given\n",
      "h=4000                                   #The altitude of the airplane engine carburettor in m\n",
      "A=14.7                                   #The air fuel ratio at sea level\n",
      "ts=22                                    #The temperature at sea level in degree centigrade\n",
      "R=287                                    #Real gas constant in J/kgK\n",
      "\n",
      "#Calculations\n",
      "ta=ts-(0.0065*h)\n",
      "p=1.013/10.0**0.2083\n",
      "da=(p*10**5)/(R*(ta+273))\n",
      "ds=(1.013*10**5)/(R*(ts+273))\n",
      "Aa=A*(da/ds)**(1/2.0)\n",
      "\n",
      "#Output\n",
      "print\"The air fuel ratio at altitude = \",round(Aa,2)\n"
     ],
     "language": "python",
     "metadata": {},
     "outputs": [
      {
       "output_type": "stream",
       "stream": "stdout",
       "text": [
        "The air fuel ratio at altitude =  12.11\n"
       ]
      }
     ],
     "prompt_number": 23
    },
    {
     "cell_type": "heading",
     "level": 2,
     "metadata": {},
     "source": [
      "Example 9.8 page no: 289"
     ]
    },
    {
     "cell_type": "code",
     "collapsed": false,
     "input": [
      "#given\n",
      "A=14.5                                       #The air fuel ratio\n",
      "p2=0.825                                     #The pressure at the venturi throat in bar \n",
      "p1=1.013                                     #The atmospheric pressure in bar\n",
      "pd=37.5                                      #The pressure drop to the air cleaner in mm of Hg\n",
      "ma=260                                       #The mass flow rate of air in kg/h\n",
      "\n",
      "#Calculations\n",
      "pa=p1-p2\n",
      "p21=p1-(pd/750)-pa\n",
      "pf=pa\n",
      "pf1=p1-p21\n",
      "Af=A*(pf/pf1)**(1/2.0)\n",
      "\n",
      "#Output\n",
      "print\"(a) The throat pressure when the air cleaner is fitted = \",p21,\"bar\" \n",
      "print\"(b) The air fuel ratio with the air cleaner fitted = \",round(Af,3)\n"
     ],
     "language": "python",
     "metadata": {},
     "outputs": [
      {
       "output_type": "stream",
       "stream": "stdout",
       "text": [
        "(a) The throat pressure when the air cleaner is fitted =  0.775 bar\n",
        "(b) The air fuel ratio with the air cleaner fitted =  12.887\n"
       ]
      }
     ],
     "prompt_number": 17
    },
    {
     "cell_type": "heading",
     "level": 2,
     "metadata": {},
     "source": [
      "Example 9.9 page no: 291"
     ]
    },
    {
     "cell_type": "code",
     "collapsed": false,
     "input": [
      "#given\n",
      "bp=8                                    #The brake power of the petrol engine in kW\n",
      "nb=30                                   #The brake thermal efficiency in percent\n",
      "CV=44000                                #The calorific value of the fuel in kJ/kg\n",
      "p1=1.013                                #The suction condition of engine pressure in bar\n",
      "T1=300                                  #The temperature at suction condition in K\n",
      "Aj=2.5*10**-6                           #The area of jet in m**2\n",
      "Z=0.008                                 #The nozzle lip in m\n",
      "g=9.81                                  #The gravitational force constant in m/s**2\n",
      "A=15                                    #The air fuel ratio\n",
      "Cda=0.9                                 #The coefficient of air flow\n",
      "Cdf=0.7                                 #The coefficient of fuel flow\n",
      "df=750                                  #The density of fuel in kg/m**3\n",
      "va=0.8                                  #The specific volume of air in m**3/kg\n",
      "\n",
      "#Calculations\n",
      "import math\n",
      "va1=va*T1/273.0\n",
      "da=1/va\n",
      "mf=bp/((nb/100.0)*CV)\n",
      "Cf=mf/(Cdf*df*Aj)\n",
      "P=((Cf**2*df)/2.0)+(df*g*Z)\n",
      "Ca=(2*P/da)**(1/2.0)\n",
      "ma=mf*A\n",
      "A2=(ma/(Cda*da*Ca))*10**4\n",
      "d2=(A2*4/math.pi)**(1/2.0)\n",
      "\n",
      "#Output\n",
      "print\"The venturi throat diameter of the carburator = \",round(d2,2),\"cm\" \n"
     ],
     "language": "python",
     "metadata": {},
     "outputs": [
      {
       "output_type": "stream",
       "stream": "stdout",
       "text": [
        "The venturi throat diameter of the carburator =  2.63 cm\n"
       ]
      }
     ],
     "prompt_number": 1
    }
   ],
   "metadata": {}
  }
 ]
}