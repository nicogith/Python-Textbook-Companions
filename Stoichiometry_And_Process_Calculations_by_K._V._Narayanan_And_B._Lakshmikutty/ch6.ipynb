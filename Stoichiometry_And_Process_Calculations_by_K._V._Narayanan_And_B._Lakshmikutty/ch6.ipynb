{
 "metadata": {
  "name": ""
 },
 "nbformat": 3,
 "nbformat_minor": 0,
 "worksheets": [
  {
   "cells": [
    {
     "cell_type": "heading",
     "level": 1,
     "metadata": {},
     "source": [
      "Chapter 6 : Vapour Pressure"
     ]
    },
    {
     "cell_type": "heading",
     "level": 2,
     "metadata": {},
     "source": [
      "Example 6.1 pageno : 133"
     ]
    },
    {
     "cell_type": "code",
     "collapsed": false,
     "input": [
      "\n",
      "# variables \n",
      "P = 500.                                #kPa liquid\n",
      "SV = 0.2813                             #m**3/kg wet steam\n",
      "\n",
      "# Calculation \n",
      "Vsaturatedl = 1.093 * 10**-3            #m**3/kg\n",
      "Vsaturatedv = 0.3747                    #m**3/kg\n",
      "\n",
      "# let the fraction of vapour be y\n",
      "#(1-y)*Vsaturatedl + y*Vsaturatedv = SV\n",
      "#then we get, (1-y)*(1.093*10**-3) + y*(0.3747) = 0.2813\n",
      "y = (SV - Vsaturatedl)/(Vsaturatedv - Vsaturatedl) \n",
      "P1 = y * 100 \n",
      "P2 = 100 - P1 \n",
      "\n",
      "# Result\n",
      "print \"Percentage of Vapour = %.f %%\"%P1\n",
      "print \"Percentage of Liquid = %.f %%\"%P2\n"
     ],
     "language": "python",
     "metadata": {},
     "outputs": [
      {
       "output_type": "stream",
       "stream": "stdout",
       "text": [
        "Percentage of Vapour = 75 %\n",
        "Percentage of Liquid = 25 %\n"
       ]
      }
     ],
     "prompt_number": 1
    },
    {
     "cell_type": "heading",
     "level": 2,
     "metadata": {},
     "source": [
      "Example 6.2 pageno : 134"
     ]
    },
    {
     "cell_type": "code",
     "collapsed": false,
     "input": [
      "import math \n",
      "\n",
      "# Variables \n",
      "T1 = 363.                           #K water\n",
      "T2 = 373.                           #K water\n",
      "P2s = 101.3                         #kPa pressure\n",
      "\n",
      "# Calculation \n",
      "J = 2275. * 18                      #kJ/kmol\n",
      "R = 8.314                           #kJ/kmolK\n",
      "#ln (P2s/P1s) = J * (1/T1 - 1/T2) / R\n",
      "P1s = P2s/math.exp(J * (1/T1 - 1/T2) / R) \n",
      "\n",
      "# Result\n",
      "print \"Vapour pressure of water at 363 K = %.2f kPa\"%P1s\n"
     ],
     "language": "python",
     "metadata": {},
     "outputs": [
      {
       "output_type": "stream",
       "stream": "stdout",
       "text": [
        "Vapour pressure of water at 363 K = 70.41 kPa\n"
       ]
      }
     ],
     "prompt_number": 3
    },
    {
     "cell_type": "heading",
     "level": 2,
     "metadata": {},
     "source": [
      "Example 6.3 pageno : 135"
     ]
    },
    {
     "cell_type": "code",
     "collapsed": false,
     "input": [
      "import math \n",
      "\n",
      "# Variables \n",
      "P1s = 194.9                             #kPa acetone\n",
      "P2s = 8.52                              #kPa pressure\n",
      "T1 = 353.                               #K acetone\n",
      "T2 = 273.                               #K acetone\n",
      "T3 = 300.                               #K dry air\n",
      "Pair = 101.3                            #kPa dry air\n",
      "#math.log (P2s/P1s) = J * (1/T1 - 1/T2) / R\n",
      "#let J / R = L\n",
      "\n",
      "# Calculation \n",
      "L = math.log (P2s/P1s)/(1./T1 - 1/T2) \n",
      "P3s = P1s * math.exp(L * (1./T1 - 1/T3))  \n",
      "Ptotal = P3s + Pair                     #at saturation vapour pressure = partial pressure\n",
      "\n",
      "# Result \n",
      "print \"(a)Final pressure of the mixture = %.2f kPa\"%Ptotal\n",
      "MP = P3s * 100 / Ptotal \n",
      "# mole percent = moles of acetone * 100 / total moles\n",
      "#= Partial pressure of acetone * 100 / total Pressure\n",
      "print \"(b)Mole percent of acetone in the final mixture = %.1f %%\"%MP\n"
     ],
     "language": "python",
     "metadata": {},
     "outputs": [
      {
       "output_type": "stream",
       "stream": "stdout",
       "text": [
        "(a)Final pressure of the mixture = 130.83 kPa\n",
        "(b)Mole percent of acetone in the final mixture = 22.6 %\n"
       ]
      }
     ],
     "prompt_number": 5
    },
    {
     "cell_type": "heading",
     "level": 2,
     "metadata": {},
     "source": [
      "Example 6.4 pageno : 137"
     ]
    },
    {
     "cell_type": "code",
     "collapsed": false,
     "input": [
      "import math \n",
      "\n",
      "\n",
      "# Variables \n",
      "A = 13.8587              # antone constants for n-heptane\n",
      "B = 2911.32 \n",
      "C = 56.56 \n",
      "T1 = 325.                   #K\n",
      "#Pressure at normal condition = 101.3kPa\n",
      "P2 = 101.3                  #kPa\n",
      "\n",
      "# Calculation \n",
      "#Antoine equation - lnP = A - B / (T - C)\n",
      "lnP = A - (B / (T1 - C)) \n",
      "P1 = math.exp(lnP) \n",
      "\n",
      "# Result \n",
      "print \"(a)Vapour pressure of n-heptane at 325K =  %.2f kPa\"%P1\n",
      "T2 = B/(A - math.log(P2)) + C \n",
      "print \"(b)Normal boiling point of n-heptane = %.2f K\"%T2\n"
     ],
     "language": "python",
     "metadata": {},
     "outputs": [
      {
       "output_type": "stream",
       "stream": "stdout",
       "text": [
        "(a)Vapour pressure of n-heptane at 325K =  20.36 kPa\n",
        "(b)Normal boiling point of n-heptane = 371.62 K\n"
       ]
      }
     ],
     "prompt_number": 7
    },
    {
     "cell_type": "heading",
     "level": 2,
     "metadata": {},
     "source": [
      "Example 6.5 pageno : 140"
     ]
    },
    {
     "cell_type": "code",
     "collapsed": false,
     "input": [
      "%matplotlib inline\n",
      "\n",
      "from matplotlib.pyplot import *\n",
      "\n",
      "# variables \n",
      "T = [273, 293, 313, 323, 333, 353, 373];\n",
      "Ps = [0.61, 2.33, 7.37, 12.34, 19.90, 47.35, 101.3];\n",
      "\n",
      "# Calculation and Result\n",
      "plot(T,Ps);\n",
      "T1 = [273, 353]\n",
      "Ps1 = [8.52, 194.9]\n",
      "plot(T,Ps);\n",
      "suptitle(\"Construction of the cox chart\")\n",
      "xlabel(\"Temperature, K\")\n",
      "ylabel(\"Pressure, kPa\")\n",
      "show()\n"
     ],
     "language": "python",
     "metadata": {},
     "outputs": [
      {
       "output_type": "stream",
       "stream": "stdout",
       "text": [
        "Populating the interactive namespace from numpy and matplotlib\n"
       ]
      },
      {
       "output_type": "stream",
       "stream": "stderr",
       "text": [
        "WARNING: pylab import has clobbered these variables: ['draw_if_interactive']\n",
        "`%pylab --no-import-all` prevents importing * from pylab and numpy\n"
       ]
      },
      {
       "metadata": {},
       "output_type": "display_data",
       "png": "[encoded data removed]",
       "text": [
        "<matplotlib.figure.Figure at 0x27db050>"
       ]
      }
     ],
     "prompt_number": 2
    },
    {
     "cell_type": "heading",
     "level": 2,
     "metadata": {},
     "source": [
      "Example 6.6 page no : 143"
     ]
    },
    {
     "cell_type": "code",
     "collapsed": false,
     "input": [
      "%matplotlib inline\n",
      "\n",
      "import math \n",
      "from matplotlib.pyplot import *\n",
      "\n",
      "# Variables \n",
      "Pswater1 = 6.08;            #kPa \n",
      "T1 = 313.;                  #K\n",
      "\n",
      "\n",
      "# Calculation \n",
      "#lnPs = 16.26205 - 3799.887/(T - 46.854)\n",
      "Tb1 =3799.887/(16.26205 - math.log(Pswater1)) + 46.854;\n",
      "print \"boiling point of water at 6.08kPa vapour pressure = %.2f K\"%Tb1\n",
      "Pswater2 = 39.33;           #kPa\n",
      "T2 = 353.;                  #K\n",
      "Tb2 =3799.887/(16.26205 - math.log(Pswater2)) + 46.854;\n",
      "\n",
      "# Result \n",
      "print \"boiling point of water at 39.33 kPa vapour pressure = %.2f K\"%Tb2\n",
      "Tb = [Tb1 ,Tb2];\n",
      "T = [T1 ,T2];\n",
      "plot(T,Tb);\n",
      "suptitle(\"Equal pressure reference plot for sulphuric acid\")\n",
      "xlabel(\"Boiling point of solution, K\")\n",
      "ylabel(\"Boiling point of water, K\")\n",
      "show()\n",
      "T3 = 333.;                  #K\n",
      "\n",
      "#corresponding to T3 on x axis, on y we get\n",
      "Tb3 = 329.;                 #K\n",
      "Pswater3 = math.exp(16.26205 - 3799.887/(Tb3 - 46.854));\n",
      "print \"Vapour pressure of solution at 333K %.2f kPa\"%Pswater3\n",
      "\n",
      "# deviation\n",
      "deviation = .04/16.53 * 100\n",
      "print \"%% deviation = %.2f %%\"%deviation"
     ],
     "language": "python",
     "metadata": {},
     "outputs": [
      {
       "output_type": "stream",
       "stream": "stdout",
       "text": [
        "Populating the interactive namespace from numpy and matplotlib\n",
        "boiling point of water at 6.08kPa vapour pressure = 309.69 K\n",
        "boiling point of water at 39.33 kPa vapour pressure = 348.67 K\n"
       ]
      },
      {
       "output_type": "stream",
       "stream": "stderr",
       "text": [
        "WARNING: pylab import has clobbered these variables: ['draw_if_interactive']\n",
        "`%pylab --no-import-all` prevents importing * from pylab and numpy\n"
       ]
      },
      {
       "metadata": {},
       "output_type": "display_data",
       "png": "[encoded data removed]",
       "text": [
        "<matplotlib.figure.Figure at 0x46afd50>"
       ]
      },
      {
       "output_type": "stream",
       "stream": "stdout",
       "text": [
        "Vapour pressure of solution at 333K 16.35 kPa\n",
        "% deviation = 0.24 %\n"
       ]
      }
     ],
     "prompt_number": 3
    }
   ],
   "metadata": {}
  }
 ]
}