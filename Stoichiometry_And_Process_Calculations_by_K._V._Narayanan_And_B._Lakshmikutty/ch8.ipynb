{
 "metadata": {
  "name": ""
 },
 "nbformat": 3,
 "nbformat_minor": 0,
 "worksheets": [
  {
   "cells": [
    {
     "cell_type": "heading",
     "level": 1,
     "metadata": {},
     "source": [
      "Chapter 8 : Humidity and Humidity chart"
     ]
    },
    {
     "cell_type": "heading",
     "level": 2,
     "metadata": {},
     "source": [
      "Example 8.1 pageno : 206"
     ]
    },
    {
     "cell_type": "code",
     "collapsed": false,
     "input": [
      "\n",
      "# variables \n",
      "T = 280.                #K\n",
      "P = 105.                #kPa\n",
      "Pas = 13.25             #kPa ( Vpaour pressure of acetone )\n",
      "Pa = Pas                # ( As gas is saturated, partial pressure = vapour pressure )\n",
      "\n",
      "# Calculation \n",
      "Mfr = Pa / P            #(Mole fraction) \n",
      "Mpr = Mfr * 100 \n",
      "print \"(a)The mole percent of acetone in the mixture = %.2f %%\"%Mpr\n",
      "Ma = 58.048             #(molecular weight of acetone)\n",
      "Mn = 28.                #(molecular weight of nitrogen)\n",
      "N = 1.                  #mole\n",
      "Na = Mfr * N \n",
      "Nn = N - Na \n",
      "ma = Na * Ma  \n",
      "mn = Nn * Mn \n",
      "mtotal = ma + mn \n",
      "maper = ma *100 / mtotal \n",
      "mnper = mn *100/ mtotal \n",
      "\n",
      "# Result\n",
      "print \"(b)Weight percent of acetone = %.2f %%\"%maper\n",
      "print \"Weight percent of nitrogen = %.2f %%\"%mnper\n",
      "Vstp = 22.4             #m**3/kmol\n",
      "Pstp = 101.3            #kPa\n",
      "Tstp = 273.15           #K\n",
      "V = Vstp * Pstp * T / ( Tstp * P ) \n",
      "C = ma/V \n",
      "print \"(c)Concentration of vapour = %.4f kg/m**3\"%C\n"
     ],
     "language": "python",
     "metadata": {},
     "outputs": [
      {
       "output_type": "stream",
       "stream": "stdout",
       "text": [
        "(a)The mole percent of acetone in the mixture = 12.62 %\n",
        "(b)Weight percent of acetone = 23.04 %\n",
        "Weight percent of nitrogen = 76.96 %\n",
        "(c)Concentration of vapour = 0.3307 kg/m**3\n"
       ]
      }
     ],
     "prompt_number": 1
    },
    {
     "cell_type": "heading",
     "level": 2,
     "metadata": {},
     "source": [
      "Example 8.2 pageno : 207"
     ]
    },
    {
     "cell_type": "code",
     "collapsed": false,
     "input": [
      "import math \n",
      "\n",
      "# Variables \n",
      "P = 101.3               #kPa\n",
      "Per1 = 10.              #%\n",
      "\n",
      "# Calculation \n",
      "Pa = P * Per1 / 100     # ( a - benzene )\n",
      "Ps = Pa                 #( saturation )\n",
      "#lnPs = 13.8858 - 2788.51/(T - 52.36)\n",
      "T = 2788.51 / ( 13.8858 - math.log(Ps)) + 52.36 \n",
      "\n",
      "# Result\n",
      "print \"Temperature at which saturation occurs = %.1f K\"%T\n"
     ],
     "language": "python",
     "metadata": {},
     "outputs": [
      {
       "output_type": "stream",
       "stream": "stdout",
       "text": [
        "Temperature at which saturation occurs = 293.4 K\n"
       ]
      }
     ],
     "prompt_number": 2
    },
    {
     "cell_type": "heading",
     "level": 2,
     "metadata": {},
     "source": [
      "Example 8.3 pageno : 207"
     ]
    },
    {
     "cell_type": "code",
     "collapsed": false,
     "input": [
      "\n",
      "# variables \n",
      "Pdryair = 101.3                             #kPa\n",
      "Pacetone = 16.82                            #kPa\n",
      "\n",
      "# Calculation \n",
      "Nratio = Pacetone / (Pdryair - Pacetone) \n",
      "mratio = Nratio * 58.048 / 29               # ( Macetone = 58.048, Mair = 29 )\n",
      "macetone = 5.                               #kg ( given )\n",
      "mdryair = macetone / mratio \n",
      "\n",
      "# Result\n",
      "print \"Minimum air required = %.2f kg\"%mdryair\n"
     ],
     "language": "python",
     "metadata": {},
     "outputs": [
      {
       "output_type": "stream",
       "stream": "stdout",
       "text": [
        "Minimum air required = 12.55 kg\n"
       ]
      }
     ],
     "prompt_number": 3
    },
    {
     "cell_type": "heading",
     "level": 2,
     "metadata": {},
     "source": [
      "Example 8.4 pageno : 209"
     ]
    },
    {
     "cell_type": "code",
     "collapsed": false,
     "input": [
      "import math \n",
      "\n",
      "# Variables \n",
      "Pa = 15.                    #kPa ( partial pressure of acetone)\n",
      "Ptotal = 101.3              #kPa\n",
      "\n",
      "# Calculation and Result \n",
      "Mfr = Pa / Ptotal \n",
      "print \"(a)Mole fraction of acetone = %.4f \"%Mfr\n",
      "Macetone = 58.048 \n",
      "Mnitrogen = 28. \n",
      "mafr = Mfr * Macetone / ( Mfr * Macetone + (1-Mfr)* Mnitrogen ) \n",
      "print \"(b)Weight fraction of acetone = %.4f\"%mafr\n",
      "Y = Mfr / ( 1 - Mfr ) \n",
      "print \"(c)Molal humidity = %.4f\"%Y,\"moles of acetone/moles of nitrogen\"\n",
      "Y1 = Y * Macetone / Mnitrogen   \n",
      "print \"(d)Absolute humidity = %.4f\"%Y1,\"kg acetone/kg nitrogen\"\n",
      "Pas = 26.36                 #kPa ( vapour pressure)\n",
      "Ys = Pas / ( Ptotal - Pas)  #saturation humidity\n",
      "print \"(e)Saturation humidity = %.4f\"%Ys,\"moles of acetone/moles of nitrogen\"\n",
      "Y1s = Ys * Macetone / Mnitrogen \n",
      "print \"(f)Absolute saturation humidity = %.4f\"%Y1s,\"kg acetone/kg nitrogen\"\n",
      "V = 100.                    #m**3\n",
      "Vstp =22.4143               #m**3/kmol\n",
      "Pstp = 101.3                #kPa\n",
      "Tstp = 273.15               #K\n",
      "T = 295.                    #K\n",
      "N = V * Ptotal * Tstp / (Vstp * Pstp * T ) \n",
      "Nacetone = N * Mfr \n",
      "macetone = Nacetone * Macetone \n",
      "print \"(g)Mass of acetone in 100m**3 of the total gas = %.1f\"%macetone,\"kg\""
     ],
     "language": "python",
     "metadata": {},
     "outputs": [
      {
       "output_type": "stream",
       "stream": "stdout",
       "text": [
        "(a)Mole fraction of acetone = 0.1481 \n",
        "(b)Weight fraction of acetone = 0.2649\n",
        "(c)Molal humidity = 0.1738 moles of acetone/moles of nitrogen\n",
        "(d)Absolute humidity = 0.3603 kg acetone/kg nitrogen\n",
        "(e)Saturation humidity = 0.3517 moles of acetone/moles of nitrogen\n",
        "(f)Absolute saturation humidity = 0.7292 kg acetone/kg nitrogen\n",
        "(g)Mass of acetone in 100m**3 of the total gas = 35.5 kg\n"
       ]
      }
     ],
     "prompt_number": 5
    },
    {
     "cell_type": "heading",
     "level": 2,
     "metadata": {},
     "source": [
      "Example 8.5 pageno : 211"
     ]
    },
    {
     "cell_type": "code",
     "collapsed": false,
     "input": [
      "\n",
      "# variables \n",
      "Pa = 15.                    #kPa ( Partial pressure )\n",
      "Pas = 26.36                 #kPa ( Vapour pressure )\n",
      "\n",
      "# Calculation \n",
      "RS = Pa * 100 / Pas  \n",
      "Y = 0.1738 \n",
      "Ys = 0.3517 \n",
      "PS = Y * 100 / Ys \n",
      "\n",
      "# Result\n",
      "print \"Relative humidity = %.1f\"%RS,\"%\"\n",
      "print \"Percent humidity = %.2f\"%PS,\"%\"\n"
     ],
     "language": "python",
     "metadata": {},
     "outputs": [
      {
       "output_type": "stream",
       "stream": "stdout",
       "text": [
        "Relative humidity = 56.9 %\n",
        "Percent humidity = 49.42 %\n"
       ]
      }
     ],
     "prompt_number": 7
    },
    {
     "cell_type": "heading",
     "level": 2,
     "metadata": {},
     "source": [
      "Example 8.6 page no : 211"
     ]
    },
    {
     "cell_type": "code",
     "collapsed": false,
     "input": [
      "import math \n",
      "\n",
      "# Variables \n",
      "mwater = 0.0109                     #kg\n",
      "V = 1.                              #m**3\n",
      "T = 300.                            #K\n",
      "P = 101.3                           #kPa\n",
      "Vstp =22.4143                       #m**3/kmol\n",
      "Pstp = 101.3                        #kPa\n",
      "Tstp = 273.15                       #K\n",
      "\n",
      "# Calculation \n",
      "N = V * P * Tstp / (Vstp * Pstp * T ) \n",
      "Nwater = mwater / 18.016 \n",
      "Nfr = Nwater / N \n",
      "Pwater = Nfr * P \n",
      "\n",
      "# Result\n",
      "print \"(a)Partial pressure of water vapour = %.2f\"%Pwater,\"kPa\"\n",
      "Ps = math.exp(16.26205 - 3799.887/(T - 46.854)) \n",
      "RS = Pwater * 100 / Ps \n",
      "print \"(b)Relative saturation = %.2f\"%RS,\"%\"\n",
      "Y1 = Pwater *18 / ((P - Pwater)*29) \n",
      "print \"(c)Absolute humidity = %.2e\"%Y1,\"kg water / kg dry air\"\n",
      "Y1s = Ps *18 / ((P - Ps)*29) \n",
      "PS1 = Y1 * 100 / Y1s \n",
      "print \"(d)Percent saturation = %.2f\"%PS1,\"%\"\n",
      "PS = 10.                            #%\n",
      "Y1S = Y1 * 100/PS   \n",
      "#Y1S = Pas/(P - Pas ) * 18 /29\n",
      "Pas1 = 29 * P * Y1S / (18 + 29*Y1s) \n",
      "T1 = 3799.887 / (16.26205-math.log(Pas1)) + 46.854 \n",
      "print \"(e)Temperature at which 10%% saturation occurs = %.1f\"%T1,\"K\"\n"
     ],
     "language": "python",
     "metadata": {},
     "outputs": [
      {
       "output_type": "stream",
       "stream": "stdout",
       "text": [
        "(a)Partial pressure of water vapour = 1.51 kPa\n",
        "(b)Relative saturation = 43.17 %\n",
        "(c)Absolute humidity = 9.38e-03 kg water / kg dry air\n",
        "(d)Percent saturation = 42.31 %\n",
        "(e)Temperature at which 10% saturation occurs = 326.9 K\n"
       ]
      }
     ],
     "prompt_number": 11
    },
    {
     "cell_type": "heading",
     "level": 2,
     "metadata": {},
     "source": [
      "Example 8.7 page no : 213"
     ]
    },
    {
     "cell_type": "code",
     "collapsed": false,
     "input": [
      "\n",
      "# variables \n",
      "T = 300.                        #K\n",
      "P = 100.                        #kPa\n",
      "S = 25000.                      #kJ/m**3\n",
      "T1= 295.                        #K\n",
      "P1 = 105.                       #kPa\n",
      "RS = 50.                        #%\n",
      "Ps = 3.5                        #kPa\n",
      "Ps1 = 2.6                       #kPa\n",
      "Vstp = 22.4143                  #m**3/kmol\n",
      "Pstp = 101.3                    #kPa\n",
      "Tstp = 273.15                   #K\n",
      "V = 1.                          #m**3\n",
      "\n",
      "# Calculation \n",
      "N = V * P * Tstp/(Vstp * Pstp * T) \n",
      "Nfuel = N * (P - Ps)/P \n",
      "Smol = S / Nfuel                #kJ/kmol\n",
      "N1 = V * P1 * Tstp/(Vstp * Pstp * T1) \n",
      "Pwater = Ps1 * RS /100 \n",
      "Nfuel1 = N1 * (P1 - Pwater )/P1 \n",
      "S1 = Smol * Nfuel1 \n",
      "\n",
      "# Result\n",
      "print \"Heating value of gas at 295K and 105kPa = %.f\"%S1,\"kJ/m**3\"\n",
      "\n",
      "# note : answer may vary because of rounding error.\n"
     ],
     "language": "python",
     "metadata": {},
     "outputs": [
      {
       "output_type": "stream",
       "stream": "stdout",
       "text": [
        "Heating value of gas at 295K and 105kPa = 27321 kJ/m**3\n"
       ]
      }
     ],
     "prompt_number": 13
    },
    {
     "cell_type": "heading",
     "level": 2,
     "metadata": {},
     "source": [
      "Example 8.8 pageno : 215"
     ]
    },
    {
     "cell_type": "code",
     "collapsed": false,
     "input": [
      "import math \n",
      "# Variables \n",
      "T = 300.                            #K\n",
      "T1 = 335.                           #K\n",
      "P = 150.                            #kPa\n",
      "\n",
      "# Calculation \n",
      "#lnPs = 13.8858 - 2788.51 / ( T - 52.36)\n",
      "Ps = math.exp(13.8858 - 2788.51 / ( T - 52.36)) \n",
      "Ps1 = math.exp(13.8858 - 2788.51 / ( T1 - 52.36)) \n",
      "Pa = Ps                             #(Vapour pressure at dew point is equal to the partial pressure of the vapour)\n",
      "Y = Pa / (P - Pa) \n",
      "Ys = Ps1 / (P - Ps1) \n",
      "PS = Y * 100 / Ys \n",
      "\n",
      "# Result \n",
      "print \"(a)Percent saturation = %.2f\"%PS,\"%\"\n",
      "Ma = 78.048 \n",
      "Mb = 28 \n",
      "Q = Y * Ma / Mb  \n",
      "print \"(b)Quantity of benzene per kilgram of nitrogen = %.4f\"%Q,\"kg benzene/kg nitrogen\"\n",
      "V = 1.                              #m**3 ( basis )\n",
      "Vstp = 22.4143                      #m**3/kmol\n",
      "Pstp = 101.3                        #kPa\n",
      "Tstp = 273.15                       #K\n",
      "N = V * P * Tstp/(Vstp * Pstp * T1) \n",
      "y = Y / ( 1 + Y ) \n",
      "Nbenzene = N * y \n",
      "C = Nbenzene * Ma \n",
      "print \"(c)Kilogram of benzene per m**3 of nitrogen = %.4f\"%C,\"kg/m**3\"\n",
      "P1 = 100.                           #kPa\n",
      "Pbenzene = y * P1 \n",
      "T1 = 2788.51 / ( 13.8858 - math.log (Pbenzene)) + 52.36 \n",
      "print \"(d)Dew point = %.2f\"%T1,\"K\"\n",
      "Per1 = 60                           #%\n",
      "Y2 = Y * (1- Per1/100.) \n",
      "#Y2 = Pa / (P - Pa)\n",
      "P = Pa / Y2 + Pa \n",
      "print \"(e)Pressure required = %.1f\"%P,\"kPa\"\n"
     ],
     "language": "python",
     "metadata": {},
     "outputs": [
      {
       "output_type": "stream",
       "stream": "stdout",
       "text": [
        "(a)Percent saturation = 17.17 %\n",
        "(b)Quantity of benzene per kilgram of nitrogen = 0.2827 kg benzene/kg nitrogen\n",
        "(c)Kilogram of benzene per m**3 of nitrogen = 0.3871 kg/m**3\n",
        "(d)Dew point = 291.39 K\n",
        "(e)Pressure required = 354.3 kPa\n"
       ]
      }
     ],
     "prompt_number": 16
    },
    {
     "cell_type": "heading",
     "level": 2,
     "metadata": {},
     "source": [
      "Example 8.9 pageno : 216"
     ]
    },
    {
     "cell_type": "code",
     "collapsed": false,
     "input": [
      "\n",
      "# variables \n",
      "T = 300.                    #K\n",
      "T1 = 285.                   #K\n",
      "Pwater = 3.56               #kPa\n",
      "Pwater1 = 1.4               #kPa\n",
      "V = 1.                      #m**3 ( Basis )\n",
      "Vstp = 22.4143              #m**3/kmol\n",
      "\n",
      "# Calculation \n",
      "N = V / Vstp \n",
      "Pstp = 101.3                #kPa\n",
      "Y = Pwater / (Pstp - Pwater) \n",
      "Y1 = Pwater1 / (Pstp - Pwater1) \n",
      "Nremoved = Y - Y1 \n",
      "Ndryair = N * 1 / (1 + Y) \n",
      "mremoved = Ndryair * Nremoved * 18.016 \n",
      "\n",
      "# Result\n",
      "print \"(a)amount of water removed = %.4f\"%mremoved,\"kg\"\n",
      "Nremaining = Ndryair * Y1  \n",
      "V1 = (Ndryair + Nremaining) * Vstp  \n",
      "print \"(b)Volume of gas at stp after drying = %.4f\"%V1,\"m**3\"\n"
     ],
     "language": "python",
     "metadata": {},
     "outputs": [
      {
       "output_type": "stream",
       "stream": "stdout",
       "text": [
        "(a)amount of water removed = 0.0174 kg\n",
        "(b)Volume of gas at stp after drying = 0.9784 m**3\n"
       ]
      }
     ],
     "prompt_number": 18
    },
    {
     "cell_type": "heading",
     "level": 2,
     "metadata": {},
     "source": [
      "Example 8.11 page no : 220"
     ]
    },
    {
     "cell_type": "code",
     "collapsed": false,
     "input": [
      "\n",
      "# variables \n",
      "Td = 328.                       #K ( dry bulb )\n",
      "P = 101.3                       #kPa\n",
      "PS = 10.                        #%\n",
      "#refering to the psychometric chart, corresponding to 328 K and 10% saturation\n",
      "Y1 = 0.012                      #kg water / kg dry air\n",
      "print \"(a)Absolute humidity = \",Y1,\"kg water / kg dry air\"\n",
      "#Y1 = Pa * 18 / ( P - Pa ) * 29\n",
      "\n",
      "# Calculation \n",
      "Pa = Y1 * P * 29 /( 18 + Y1 * 29 ) \n",
      "\n",
      "# Result\n",
      "print \"(b)Partial Pressure of water vapour = %.3f\"%Pa,\"kPa\"\n",
      "#using psychometric chart, saturation humidity at 328 K is given as\n",
      "Y1s = 0.115                     #kg water / kg dry air\n",
      "print \"(c)The absolute humidity at 328K = \",Y1s,\"kg water / kg dry air\"\n",
      "#at saturation partial pressure = vapour pressure\n",
      "Pas = Y1s * P * 29 /( 18 + Y1s * 29 )  \n",
      "print \"(d)Vapour Pressure of water vapour = %.1f\"%Pas,\"kPa\"\n",
      "RS = Pa * 100 / Pas \n",
      "print \"(e)Percent relative saturation = %.2f\"%RS,\"%\"\n",
      "#using psychometric chart, moving horizontally keeping humidity constant to 100% saturation, we get dew point as,\n",
      "T = 290.                        #K\n",
      "print \"(f)Dew point = \",T,\"K\"\n"
     ],
     "language": "python",
     "metadata": {},
     "outputs": [
      {
       "output_type": "stream",
       "stream": "stdout",
       "text": [
        "(a)Absolute humidity =  0.012 kg water / kg dry air\n",
        "(b)Partial Pressure of water vapour = 1.921 kPa\n",
        "(c)The absolute humidity at 328K =  0.115 kg water / kg dry air\n",
        "(d)Vapour Pressure of water vapour = 15.8 kPa\n",
        "(e)Percent relative saturation = 12.13 %\n",
        "(f)Dew point =  290.0 K\n"
       ]
      }
     ],
     "prompt_number": 20
    },
    {
     "cell_type": "heading",
     "level": 2,
     "metadata": {},
     "source": [
      "Example 8.12 pageno : 222"
     ]
    },
    {
     "cell_type": "code",
     "collapsed": false,
     "input": [
      "\n",
      "# variables \n",
      "Ca = 1.884                      #kJ/kgK\n",
      "Cb = 1.005                      #kJ/kgK\n",
      "Y1 = 0.012 \n",
      "\n",
      "# Calculation \n",
      "#Cs = Cb + Y1 * Ca\n",
      "Cs = Cb + Y1 * Ca \n",
      "\n",
      "# Result\n",
      "print \"Humid heat of the sample = %.4f\"%Cs,\"kJ/kgK\"\n",
      "P = 101.3                       #kPa\n",
      "V = 100.                        #m**3\n",
      "R = 8.314 \n",
      "T = 328.                        #K\n",
      "T1 = 373.                       #K\n",
      "N = P * V / ( R * T ) \n",
      "Pa = 1.921                      #kPa\n",
      "Ndryair = N * (P - Pa)/P \n",
      "mdryair = Ndryair * 29 \n",
      "Ht = mdryair * Cs * (T1 - T) \n",
      "print \"Heat to be supplied = %.f\"%Ht,\"kJ\"\n"
     ],
     "language": "python",
     "metadata": {},
     "outputs": [
      {
       "output_type": "stream",
       "stream": "stdout",
       "text": [
        "Humid heat of the sample = 1.0276 kJ/kgK\n",
        "Heat to be supplied = 4887 kJ\n"
       ]
      }
     ],
     "prompt_number": 22
    },
    {
     "cell_type": "heading",
     "level": 2,
     "metadata": {},
     "source": [
      "Example 8.14 pageno : 224"
     ]
    },
    {
     "cell_type": "code",
     "collapsed": false,
     "input": [
      "\n",
      "# variables \n",
      "P = 101.3                           #kPa\n",
      "MW = 58. \n",
      "T1 = 280.8                          #K\n",
      "Ps = 5.                             #kPa\n",
      "pr = 2.                             #kJ/kgK ( Psychometric ratio )\n",
      "Hvap = 360.                         #kJ/kg\n",
      "Tw = T1 \n",
      "\n",
      "# Calculation \n",
      "Yw1 = Ps * MW / (( P - Ps) * 29) \n",
      "# Tw = Tg - Hvap * ( Yw1 - Y1) / (hG / kY), where hG/kY is the psychmetric ratio pr\n",
      "Y1 = 0 \n",
      "Tg = Tw + Hvap * ( Yw1 - Y1) / pr \n",
      "\n",
      "# Result\n",
      "print \"The air temperature = %.2f\"%Tg,\"K\"\n"
     ],
     "language": "python",
     "metadata": {},
     "outputs": [
      {
       "output_type": "stream",
       "stream": "stdout",
       "text": [
        "The air temperature = 299.49 K\n"
       ]
      }
     ],
     "prompt_number": 23
    },
    {
     "cell_type": "heading",
     "level": 2,
     "metadata": {},
     "source": [
      "Example 8.15 pageno : 225"
     ]
    },
    {
     "cell_type": "code",
     "collapsed": false,
     "input": [
      "\n",
      "# variables \n",
      "Td = 353.2                      #K\n",
      "Tw = 308.                       #K\n",
      "Hvap = 2418.5                   #kJ/kg\n",
      "pr = 0.950                      #kJ/kg\n",
      "Ps = 5.62                       #kPa\n",
      "P = 101.3                       #kPa\n",
      "\n",
      "# Calculation \n",
      "Yw1 = (Ps * 18)/ (( P - Ps) * 29) \n",
      "Y1 = Yw1 - pr * ( Td - Tw ) / Hvap \n",
      "\n",
      "# Result\n",
      "print \"Humidity = %.4f\"%Y1,\"kg water/kg dry air\"\n",
      "#humidity can also be directly obtained from psychometric chart, which we get to be 0.018 kg water/kg dry air\n"
     ],
     "language": "python",
     "metadata": {},
     "outputs": [
      {
       "output_type": "stream",
       "stream": "stdout",
       "text": [
        "Humidity = 0.0187 kg water/kg dry air\n"
       ]
      }
     ],
     "prompt_number": 24
    },
    {
     "cell_type": "heading",
     "level": 2,
     "metadata": {},
     "source": [
      "Example 8.16 page no : 227"
     ]
    },
    {
     "cell_type": "code",
     "collapsed": false,
     "input": [
      "%matplotlib inline\n",
      "\n",
      "import math\n",
      "from matplotlib.pyplot import *\n",
      "\n",
      "# Variables\n",
      "TK = [283,293,303,313]\n",
      "PaS = []\n",
      "Ys = []\n",
      "\n",
      "# Calculations - part A\n",
      "for i in range(len(TK)):\n",
      "    Ps = 13.8858 - (2788.51 / (TK[i] - 52.36))\n",
      "    PaS.append(round(math.e**Ps,2))\n",
      "    Ys.append(PaS[i]/(101.3 - PaS[i]) * 78.048/29)\n",
      "    \n",
      "# Results\n",
      "plot(TK,Ys)\n",
      "plot(TK,Ys,\"go\")\n",
      "xlabel(\"Temperature, K\")\n",
      "ylabel(\"Y', kg benzene/ kg dry air\")\n"
     ],
     "language": "python",
     "metadata": {},
     "outputs": [
      {
       "output_type": "stream",
       "stream": "stdout",
       "text": [
        "Populating the interactive namespace from numpy and matplotlib\n"
       ]
      },
      {
       "metadata": {},
       "output_type": "pyout",
       "prompt_number": 1,
       "text": [
        "<matplotlib.text.Text at 0x3797790>"
       ]
      },
      {
       "metadata": {},
       "output_type": "display_data",
       "png": "[encoded data removed]",
       "text": [
        "<matplotlib.figure.Figure at 0x2c0e610>"
       ]
      }
     ],
     "prompt_number": 1
    },
    {
     "cell_type": "heading",
     "level": 2,
     "metadata": {},
     "source": [
      "Example 8.17 pageno : 228"
     ]
    },
    {
     "cell_type": "code",
     "collapsed": false,
     "input": [
      "\n",
      "# variables \n",
      "Tin = 380.7                             #K\n",
      "Pin = 101.3                             #kPa\n",
      "Tdew = 298.                             #K\n",
      "mremoved = 2.25                         #kg\n",
      "V = 100.                                #m**3\n",
      "#using humidity chart, humidity of air at dry bulb temperature of 380.7K and dew point = 298K is,\n",
      "Y = 0.02                                # kg water /kg dry air\n",
      "print \"(a)Humidity of air entering the drier = \",Y,\"kg water /kg dry air\"\n",
      "Tstp = 273.15                           #K\n",
      "Vstp = 22.4143                          #m**3/kmol\n",
      "\n",
      "# Calculation \n",
      "N = V * Tstp / ( Vstp * Tin ) \n",
      "MY = Y * 29 / 18.                       #molal humidity\n",
      "Ndryair = N / ( 1 + MY ) \n",
      "mdryair = Ndryair *29 \n",
      "mwaterin = mdryair * Y \n",
      "mwaterout = mwaterin + mremoved \n",
      "Yout = mwaterout / mdryair \n",
      "# percent humidity is calculated using the chart, and is\n",
      "PY = 55.                                #%\n",
      "\n",
      "# Result\n",
      "print \"(b)exit air humidity = %.3f\"%Yout,\"kg water /kg dry air\"\n",
      "print \"Percent humidity = \",PY,\"%\"\n",
      "#from the humidity chart \n",
      "Twet = 313.2                            #K\n",
      "Td = 322.2                              #K\n",
      "print \"(c)exit air wet bulb temperature = \",Twet,\"K\"\n",
      "print \"(c)exit air dry bulb temperature = \",Td,\"K\"\n",
      "MYout = Yout * 29 / 18 \n",
      "Nout = Ndryair * ( 1 + MYout ) / 1 \n",
      "V1 = Nout * Vstp * Td / Tstp \n",
      "print \"(d)Volume of exit air = %.2f\"%V1,\"m**3\"\n"
     ],
     "language": "python",
     "metadata": {},
     "outputs": [
      {
       "output_type": "stream",
       "stream": "stdout",
       "text": [
        "(a)Humidity of air entering the drier =  0.02 kg water /kg dry air\n",
        "(b)exit air humidity = 0.045 kg water /kg dry air\n",
        "Percent humidity =  55.0 %\n",
        "(c)exit air wet bulb temperature =  313.2 K\n",
        "(c)exit air dry bulb temperature =  322.2 K\n",
        "(d)Volume of exit air = 87.94 m**3\n"
       ]
      }
     ],
     "prompt_number": 25
    },
    {
     "cell_type": "heading",
     "level": 2,
     "metadata": {},
     "source": [
      "Example 8.18 pageno : 231"
     ]
    },
    {
     "cell_type": "code",
     "collapsed": false,
     "input": [
      "\n",
      "# variables \n",
      "P = 101.3                       #kPa\n",
      "Td = 303.                       #K\n",
      "Tw = 288.                       #K\n",
      "#using psychometric chart,\n",
      "Y1 = 0.0045                     #kg water/ kg dry air\n",
      "PY = 18.                        #%\n",
      "Theated = 356.7                 #K\n",
      "Cb = 1.005 \n",
      "Ca = 1.884 \n",
      "\n",
      "# Calculation \n",
      "Cs = Cb + Y1 * Ca \n",
      "Q = 1 * Cs * (Theated - Td) \n",
      "\n",
      "# Result\n",
      "print \"(a)Humidity of the initial air = %.4f\"%Y1,\"kg water/ kg dry air\"\n",
      "print \"(b)Percent humidity = \",PY,\"%\"\n",
      "print \"(c)Temperature to which the air is heated = \",Theated,\"K\"\n",
      "print \"(d)Heat to be suppplied = %.2f\"%Q,\"kJ\"\n"
     ],
     "language": "python",
     "metadata": {},
     "outputs": [
      {
       "output_type": "stream",
       "stream": "stdout",
       "text": [
        "(a)Humidity of the initial air = 0.0045 kg water/ kg dry air\n",
        "(b)Percent humidity =  18.0 %\n",
        "(c)Temperature to which the air is heated =  356.7 K\n",
        "(d)Heat to be suppplied = 54.42 kJ\n"
       ]
      }
     ],
     "prompt_number": 27
    },
    {
     "cell_type": "heading",
     "level": 2,
     "metadata": {},
     "source": [
      "Example 8.19 pageno : 232"
     ]
    },
    {
     "cell_type": "code",
     "collapsed": false,
     "input": [
      "\n",
      "# variables \n",
      "Tw = 313.                           #K\n",
      "Td = 333.                           #K\n",
      "#Using th psychometric chart,\n",
      "Y = 0.04                            #kg water/ kg dry air\n",
      "PS = 26.5                           #%\n",
      "VS = 1.18                           #m**3/kg dry air ( volume of saturated air )\n",
      "VD = 0.94                           #m**3/kg dry air ( volume of dry air )\n",
      "\n",
      "# Calculation \n",
      "VH = VD + PS * (VS - VD )/100 \n",
      "HS = 470.                           #J / kg dry air ( enthalpy of saturated air )\n",
      "HD = 60.                            #J / kg dry air ( enthalpy of dry air )\n",
      "H = HD + PS * ( HS - HD )/100 \n",
      "Cs = 1.005 + (Y * 1.884)\n",
      "H = Cs*(333 - 273.15) + Y*2502.3\n",
      "# Result\n",
      "print \"(a)Absolute Humidity of the air = \",Y,\"kg water/ kg dry air\"\n",
      "print \"(b)Percent humidity = \",PS,\"%\"\n",
      "print \"(c)Humid volume = \",VH,\"m**3/kg dry air\"\n",
      "print \"(d)Enthalpy of wet air = \",H,\"kJ/kg dry air\"\n",
      "print \"Enthalpy of humid air : %.2f kJ/kg dry air\"%H"
     ],
     "language": "python",
     "metadata": {},
     "outputs": [
      {
       "output_type": "stream",
       "stream": "stdout",
       "text": [
        "(a)Absolute Humidity of the air =  0.04 kg water/ kg dry air\n",
        "(b)Percent humidity =  26.5 %\n",
        "(c)Humid volume =  1.0036 m**3/kg dry air\n",
        "(d)Enthalpy of wet air =  164.751546 kJ/kg dry air\n",
        "Enthalpy of humid air : 164.75 kJ/kg dry air\n"
       ]
      }
     ],
     "prompt_number": 3
    }
   ],
   "metadata": {}
  }
 ]
}