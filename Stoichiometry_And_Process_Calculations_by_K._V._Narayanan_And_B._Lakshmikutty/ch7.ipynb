{
 "metadata": {
  "name": ""
 },
 "nbformat": 3,
 "nbformat_minor": 0,
 "worksheets": [
  {
   "cells": [
    {
     "cell_type": "heading",
     "level": 1,
     "metadata": {},
     "source": [
      "Chapter 7 :  Solutions and Phase Behaviour"
     ]
    },
    {
     "cell_type": "heading",
     "level": 2,
     "metadata": {},
     "source": [
      "Example 7.1 pageno : 155"
     ]
    },
    {
     "cell_type": "code",
     "collapsed": false,
     "input": [
      "\n",
      "# variables \n",
      "Pas = 71.2                      #kPa n-heptane\n",
      "Pbs = 48.9                      #kPa toluene\n",
      "P = 65.                         #kPa equilibrium\n",
      "\n",
      "# Calculation \n",
      "#P=(Pas-Pbs)*xa+Pbs,xa=mole fraction of n-heptane,liq. condition,therefore\n",
      "xa = (P - Pbs)/(Pas - Pbs) \n",
      "#ya = Pa / P , Vapour condition\n",
      "ya = Pas * xa / P \n",
      "P1 = xa * 100 \n",
      "P2 = ya * 100 \n",
      "\n",
      "# Result\n",
      "print \"Percentage of hepatne in liquid = %.1f %%\"%P1\n",
      "print \"Percentage of hepatne in vapour = %.1f %%\"%P2\n"
     ],
     "language": "python",
     "metadata": {},
     "outputs": [
      {
       "output_type": "stream",
       "stream": "stdout",
       "text": [
        "Percentage of hepatne in liquid = 72.2 %\n",
        "Percentage of hepatne in vapour = 79.1 %\n"
       ]
      }
     ],
     "prompt_number": 1
    },
    {
     "cell_type": "heading",
     "level": 2,
     "metadata": {},
     "source": [
      "Example 7.2 pageno : 155"
     ]
    },
    {
     "cell_type": "code",
     "collapsed": false,
     "input": [
      "\n",
      "# variables \n",
      "P1 = 100.               #kPa ( Vapour pressure of liq A )\n",
      "P2 = 60.                #kPa ( Vapour pressure of liq B )\n",
      "T = 320.                #K\n",
      "\n",
      "# Calculation \n",
      "#Pa = xa * P1 = 100 * xa\n",
      "#Pa = xb * P2 = 60 * xb\n",
      "#P = xa * P1 + ( 1 - xa )* P2\n",
      "# = 100xa + ( 1 - xa )* 60\n",
      "# = 60 + 40*xa\n",
      "#ya = Pa / P\n",
      "#0.5 = 100*xa / ( 60 + 40 * xa)\n",
      "xa = 60 * 0.5 / (100 - 20) \n",
      "Per1 = xa * 100 \n",
      "\n",
      "# Result\n",
      "print \"(a)Percentage of A in liquid = \",Per1,\"%\"\n",
      "Ptotal = 60 + 40 * xa \n",
      "print \"(b)Total pressure of the vapour = \",Ptotal,\"kPa\"\n"
     ],
     "language": "python",
     "metadata": {},
     "outputs": [
      {
       "output_type": "stream",
       "stream": "stdout",
       "text": [
        "(a)Percentage of A in liquid =  37.5 %\n",
        "(b)Total pressure of the vapour =  75.0 kPa\n"
       ]
      }
     ],
     "prompt_number": 2
    },
    {
     "cell_type": "heading",
     "level": 2,
     "metadata": {},
     "source": [
      "Example 7.3 pageno : 156"
     ]
    },
    {
     "cell_type": "code",
     "collapsed": false,
     "input": [
      "\n",
      "# variables \n",
      "xa = 0.25          # liquid mixture\n",
      "xb = 0.30 \n",
      "\n",
      "# Calculation \n",
      "xc = 1 - xa - xb \n",
      "Ptotal = 200.                   #kPa\n",
      "Pcs = 50.                       #kPa(Vapour pressure of c)\n",
      "Pc = xc * Pcs                   #(partial pressure of c)\n",
      "yc = Pc / Ptotal \n",
      "yb = 0.5 \n",
      "ya = 1 - yb - yc \n",
      "per1 = ya * 100 \n",
      "\n",
      "# Result\n",
      "print \"Percentage of A in vapour = \",per1,\"%\"\n"
     ],
     "language": "python",
     "metadata": {},
     "outputs": [
      {
       "output_type": "stream",
       "stream": "stdout",
       "text": [
        "Percentage of A in vapour =  38.75 %\n"
       ]
      }
     ],
     "prompt_number": 4
    },
    {
     "cell_type": "heading",
     "level": 2,
     "metadata": {},
     "source": [
      "Example 7.4 pageno : 156"
     ]
    },
    {
     "cell_type": "code",
     "collapsed": false,
     "input": [
      "\n",
      "# variables \n",
      "P = 101.3                       #kPa flash vaporization\n",
      "Pbs = 54.21                     #kPa pressure\n",
      "Pas = 136.09                    #kPa temperature\n",
      "xf = 0.65                       # liquid mixture\n",
      "\n",
      "# Calculation \n",
      "xw = (P - Pbs)/(Pas - Pbs) \n",
      "yd = xw * Pas / P  \n",
      "# f = ( xf - xw ) / ( yd - xw )\n",
      "f = ( xf - xw ) / ( yd - xw ) \n",
      "per1 = f * 100\n",
      "\n",
      "# Result \n",
      "print \"mole percent of the feed that is vapourised = %.1f %%\"%per1\n"
     ],
     "language": "python",
     "metadata": {},
     "outputs": [
      {
       "output_type": "stream",
       "stream": "stdout",
       "text": [
        "mole percent of the feed that is vapourised = 37.9 %\n"
       ]
      }
     ],
     "prompt_number": 5
    },
    {
     "cell_type": "heading",
     "level": 2,
     "metadata": {},
     "source": [
      "Example 7.5 pageno : 157"
     ]
    },
    {
     "cell_type": "code",
     "collapsed": false,
     "input": [
      "%matplotlib inline\n",
      "\n",
      "from matplotlib.pyplot import *\n",
      "from numpy import zeros\n",
      "\n",
      "# variables \n",
      "T = [371.4, 378 ,383 ,388, 393, 398.6]\n",
      "Pas = [101.3, 125.3, 140 ,160, 179.9, 205.3]\n",
      "Pbs = [44.4, 55.6, 64.5, 74.8, 86.6, 101.3]\n",
      "Ptotal = 101.3                      #kPa\n",
      "\n",
      "# Calculation \n",
      "x = zeros(6)\n",
      "y = zeros(6)\n",
      "for i in range(6):\n",
      "    x[i] = (Ptotal - Pbs[i])/(Pas[i] - Pbs[i]) \n",
      "    y[i] = x[i] * Pas[i] / Ptotal \n",
      "\n",
      "# Result\n",
      "#subplot(2,1,1)\n",
      "plot(x,T,'-o') \n",
      "plot(y,T,'-x') \n",
      "suptitle(\"Boiling point diagram\")\n",
      "xlabel(\"Mole fraction, x or y\")\n",
      "ylabel(\"Temperature, K\")\n",
      "show()\n",
      "\n",
      "\n",
      "# part 2\n",
      "\n",
      "# variables \n",
      "T = [371.4, 378, 383, 388, 393, 398.6]\n",
      "Pas = [101.3, 125.3, 140, 160, 179.9, 205.3]\n",
      "Pbs = [44.4, 55.6, 64.5, 74.8, 86.6, 101.3]\n",
      "Ptotal = 101.3                                      #kPa\n",
      "x = zeros(6)\n",
      "y = zeros(6)\n",
      "\n",
      "# Calculation \n",
      "for i in range(6):\n",
      "    x[i] = (Ptotal - Pbs[i])/(Pas[i] - Pbs[i]) \n",
      "    y[i] = x[i] * Pas[i] / Ptotal \n",
      "\n",
      "w = x \n",
      "# Result\n",
      "#subplot(2,1,2)\n",
      "plot(x,w) \n",
      "plot(x,y,'-o')\n",
      "suptitle(\"Equilibrium curve\")\n",
      "xlabel(\"x, mole fraction in liquid\")\n",
      "ylabel(\"y, mole fraction in vapour\")\n",
      "show()\n"
     ],
     "language": "python",
     "metadata": {},
     "outputs": [
      {
       "output_type": "stream",
       "stream": "stdout",
       "text": [
        "Populating the interactive namespace from numpy and matplotlib\n"
       ]
      },
      {
       "metadata": {},
       "output_type": "display_data",
       "png": "[encoded data removed]",
       "text": [
        "<matplotlib.figure.Figure at 0x31cbbd0>"
       ]
      },
      {
       "metadata": {},
       "output_type": "display_data",
       "png": "[encoded data removed]",
       "text": [
        "<matplotlib.figure.Figure at 0x3e71b10>"
       ]
      }
     ],
     "prompt_number": 1
    },
    {
     "cell_type": "heading",
     "level": 2,
     "metadata": {},
     "source": [
      "Example 7.6 page no : 158"
     ]
    },
    {
     "cell_type": "code",
     "collapsed": false,
     "input": [
      "import math\n",
      "\n",
      "# variables\n",
      "p = 100                   # pressure Kpa\n",
      "# from table\n",
      "n_heptaneA = 13.8587\n",
      "n_hexaneA = 13.8216\n",
      "n_heptaneB = 2911.32\n",
      "n_hexaneB = 2697.55\n",
      "n_heptaneC = 56.51\n",
      "n_hexaneC = 48.78\n",
      "xA = .25\n",
      "\n",
      "# Calculations and Results\n",
      "\n",
      "# for T = 360   Initial guess\n",
      "T1 = 360\n",
      "lnPaS = n_hexaneA - (n_hexaneB/(T1- n_hexaneC))\n",
      "PaS = round(math.e**lnPaS,2)\n",
      "lnPbS = n_heptaneA - (n_heptaneB/(T1- n_heptaneC))\n",
      "PbS = round(math.e**lnPbS,2)\n",
      "P = xA*PaS + (1 - xA)*PbS\n",
      "\n",
      "print \"P = %.1f kPa\" %P\n",
      "\n",
      "# Since total pressure < 100 Kpa, equilibrium temperature is not equal to 360K.\n",
      "# for T = 365 - Assume\n",
      "T1 = 365\n",
      "lnPaS = n_hexaneA - (n_hexaneB/(T1- n_hexaneC))\n",
      "PaS = round(math.e**lnPaS,2)\n",
      "lnPbS = n_heptaneA - (n_heptaneB/(T1- n_heptaneC))\n",
      "PbS = round(math.e**lnPbS,2)\n",
      "P = xA*PaS + (1 - xA)*PbS\n",
      "\n",
      "print \"P = %.2f kPa\"%P\n",
      "\n",
      "# As the pressure > 100 kPa, the temperature lies between 360 and 365 K.\n",
      "# for T = 361.125 -- assumption\n",
      "T1 = 361.125\n",
      "lnPaS = n_hexaneA - (n_hexaneB/(T1- n_hexaneC))\n",
      "PaS = round(math.e**lnPaS,2)\n",
      "lnPbS = n_heptaneA - (n_heptaneB/(T1- n_heptaneC))\n",
      "PbS = round(math.e**lnPbS,2)\n",
      "P = xA*PaS + (1 - xA)*PbS\n",
      "\n",
      "print \"P = %.f kPa\"%P\n",
      "print \"Therefore, the bubble point temperature = %.3f K\"%T1   # last assumed for T1\n",
      "\n",
      "\n",
      "# Part b\n",
      "Pa = xA*PaS\n",
      "Ya = Pa/P\n",
      "\n",
      "print \"Partial pressure of n-Hexane in vapour at the bubble point is = %.2f kPa\"%Pa\n",
      "print \"Mole fraction of hexane in the vapour is Ya = %.4f\"%Ya\n",
      "print \"The vapour contains %.2f %% hexane and %.2f %% heptane.\"%(Ya*100,(1-Ya)*100)"
     ],
     "language": "python",
     "metadata": {},
     "outputs": [
      {
       "output_type": "stream",
       "stream": "stdout",
       "text": [
        "P = 96.7 kPa\n",
        "P = 112.04 kPa\n",
        "P = 100 kPa\n",
        "Therefore, the bubble point temperature = 361.125 K\n",
        "Partial pressure of n-Hexane in vapour at the bubble point is = 44.65 kPa\n",
        "Mole fraction of hexane in the vapour is Ya = 0.4465\n",
        "The vapour contains 44.65 % hexane and 55.35 % heptane.\n"
       ]
      }
     ],
     "prompt_number": 25
    },
    {
     "cell_type": "heading",
     "level": 2,
     "metadata": {},
     "source": [
      "Example 7.7 page no : 159"
     ]
    },
    {
     "cell_type": "code",
     "collapsed": false,
     "input": [
      "import math \n",
      "\n",
      "# Variables \n",
      "#lnPas = 14.5463 - 2940.46/(T - 35.93)\n",
      "#lnPbs = 14.2724 - 2945.47 / (T - 49.15)\n",
      "#xa = (P - Pbs)/(Pas - Pbs)\n",
      "#Ya = Pas * (P - Pbs)/(P * (Pas - Pbs))\n",
      "Ya = 0.4                            # vapour phase\n",
      "P = 65.                             #kPa\n",
      "#various temperature value are assumed and tried till LHS = RHS, we get\n",
      "T = 334.15                          #K\n",
      "\n",
      "# Calculation \n",
      "Pas = math.exp(14.5463 - 2940.46/(T - 35.93)) \n",
      "Pbs = math.exp(14.2724 - 2945.47 / (T - 49.15)) \n",
      "xa = (P - Pbs)/(Pas - Pbs) \n",
      "\n",
      "# Result \n",
      "print \"(a)The Dew point temperature at 65 kPa = \",T,\"K\"\n",
      "print \"    Concentration of the first drop of liquid = %.2f\"%xa\n",
      "T1 = 327.                           #K\n",
      "Pas1 = math.exp(14.5463 - 2940.46/(T1 - 35.93)) \n",
      "Pbs1 = math.exp(14.2724 - 2945.47 / (T1 - 49.15)) \n",
      "xa1 = Ya * Pbs1 / (Pas1 - Ya*(Pas1 - Pbs1)) \n",
      "P1 = xa1 * Pas1 / Ya \n",
      "print \"(b)The dew point pressure at 327 K = %.2f kPa\"%P1\n",
      "print \"    Concentration at 327K = %.4f\"%xa1\n"
     ],
     "language": "python",
     "metadata": {},
     "outputs": [
      {
       "output_type": "stream",
       "stream": "stdout",
       "text": [
        "(a)The Dew point temperature at 65 kPa =  334.15 K\n",
        "    Concentration of the first drop of liquid = 0.24\n",
        "(b)The dew point pressure at 327 K = 50.09 kPa\n",
        "    Concentration at 327K = 0.2354\n"
       ]
      }
     ],
     "prompt_number": 14
    },
    {
     "cell_type": "heading",
     "level": 2,
     "metadata": {},
     "source": [
      "Example 7.8 pageno : 163"
     ]
    },
    {
     "cell_type": "code",
     "collapsed": false,
     "input": [
      "\n",
      "# variables \n",
      "MW = 44.032                # mole fraction of acetaldehyde\n",
      "Mwater = 18.016            \n",
      "x = 2.                      #%    acetaldehyde weight\n",
      "Pa = 41.4                   #kPa   solution\n",
      "\n",
      "# Calculation \n",
      "Mfr = (x/MW)/(x/MW + (100-x)/Mwater) \n",
      "#henry's law gives Pa = Ha * xa\n",
      "Ha = Pa / Mfr \n",
      "Molality = 0.1 \n",
      "Mfr1 = Molality / (1000/Mwater + Molality) \n",
      "Pa1 = Ha * Mfr1 \n",
      "\n",
      "# Result\n",
      "print \"Partial Pressure = %.f kPa\"%Pa1\n"
     ],
     "language": "python",
     "metadata": {},
     "outputs": [
      {
       "output_type": "stream",
       "stream": "stdout",
       "text": [
        "Partial Pressure = 9 kPa\n"
       ]
      }
     ],
     "prompt_number": 16
    },
    {
     "cell_type": "heading",
     "level": 2,
     "metadata": {},
     "source": [
      "Example 7.9 pageno : 177"
     ]
    },
    {
     "cell_type": "code",
     "collapsed": false,
     "input": [
      "import math \n",
      "\n",
      "# Variables \n",
      "#1 - pentane, 2 - hexane, 3 - heptane\n",
      "\n",
      "x1 = 0.6 \n",
      "x2 = 0.25 \n",
      "x3 = 0.15 \n",
      "A1 = 13.8183 \n",
      "A2 = 13.8216 \n",
      "A3 = 13.8587 \n",
      "B1 = 2477.07 \n",
      "B2 = 2697.55 \n",
      "B3 = 2911.32 \n",
      "C1 = 39.94 \n",
      "C2 = 48.78 \n",
      "C3 = 56.51 \n",
      "#As raoults law is applicable, Ki = yi/xi = Pis/P\n",
      "#yi = xi*Pis/P\n",
      "#ln P = A- B/(T-C)\n",
      "#Assuming,\n",
      "P = 400.                #kPa\n",
      "T = 369.75              #K\n",
      "\n",
      "# Calculation \n",
      "Pas1 = math.exp(A1 - B1 / (T - C1)) \n",
      "Pas2 = math.exp(A2 - B2 / (T - C2)) \n",
      "Pas3 = math.exp(A3 - B3 / (T - C3)) \n",
      "Yi = (x1*Pas1 + x2*Pas2 + x3*Pas3)/P \n",
      "print \"(a)bubble point temperature of the mixture = \",T,\"K\"\n",
      "y1 = x1*Pas1/P \n",
      "y2 = x2*Pas2/P \n",
      "y3 = x3*Pas3/P \n",
      "\n",
      "# Result \n",
      "print \"(b)composition of n-pentane in vapour = %.2f %%\"%(y1*100)\n",
      "print \"composition of n-hexane in vapour = %.2f %%\"%(y2*100)\n",
      "print \"composition of n-heptane in vapour = %.2f %%\"%(y3*100)\n",
      "T1 = 300.               #K\n",
      "Ps1 = math.exp(A1 - B1 / (T1 - C1)) \n",
      "Ps2 = math.exp(A2 - B2 / (T1 - C2)) \n",
      "Ps3 = math.exp(A3 - B3 / (T1 - C3)) \n",
      "P1 = x1*Ps1 + x2*Ps2 + x3*Ps3 \n",
      "print \"(c)Bubble point pressure = %.1f kPa\"%P1\n"
     ],
     "language": "python",
     "metadata": {},
     "outputs": [
      {
       "output_type": "stream",
       "stream": "stdout",
       "text": [
        "(a)bubble point temperature of the mixture =  369.75 K\n",
        "(b)composition of n-pentane in vapour = 82.32 %\n",
        "composition of n-hexane in vapour = 14.08 %\n",
        "composition of n-heptane in vapour = 3.60 %\n",
        "(c)Bubble point pressure = 50.4 kPa\n"
       ]
      }
     ],
     "prompt_number": 18
    },
    {
     "cell_type": "heading",
     "level": 2,
     "metadata": {},
     "source": [
      "Example 7.10 pageno : 178"
     ]
    },
    {
     "cell_type": "code",
     "collapsed": false,
     "input": [
      "import math \n",
      "\n",
      "# Variables \n",
      "#1 - pentane, 2 - hexane, 3 - heptane\n",
      " \n",
      "y1 = 0.6 \n",
      "y2 = 0.25 \n",
      "y3 = 0.15 \n",
      "A1 = 13.8183 \n",
      "A2 = 13.8216 \n",
      "A3 = 13.8587 \n",
      "B1 = 2477.07 \n",
      "B2 = 2697.55 \n",
      "B3 = 2911.32 \n",
      "C1 = 39.94 \n",
      "C2 = 48.78 \n",
      "C3 = 56.51 \n",
      "P = 400.                    #kPa\n",
      "T = 300.                    #K\n",
      "#As raoults law is applicable, Ki = yi/xi = Pis/P\n",
      "#xi = yi*P/Pis\n",
      "#ln P = A- B/(T-C)\n",
      "#Assuming,\n",
      "T1 = 385.94                 #K\n",
      "\n",
      "# Calculation \n",
      "Pas1 = math.exp(A1 - B1 / (T1 - C1)) \n",
      "Pas2 = math.exp(A2 - B2 / (T1 - C2)) \n",
      "Pas3 = math.exp(A3 - B3 / (T1 - C3)) \n",
      "\n",
      "# Result\n",
      "print \"(a)Dew point temperature of the mixture = \",T1,\"K\"\n",
      "Ps1 = math.exp(A1 - B1 / (T - C1)) \n",
      "Ps2 = math.exp(A2 - B2 / (T - C2)) \n",
      "Ps3 = math.exp(A3 - B3 / (T - C3)) \n",
      "P1 = 1/(y1/Ps1 + y2/Ps2 + y3/Ps3) \n",
      "print \"(b)Dew point pressure = %.2f kPa\"%P1\n"
     ],
     "language": "python",
     "metadata": {},
     "outputs": [
      {
       "output_type": "stream",
       "stream": "stdout",
       "text": [
        "(a)Dew point temperature of the mixture =  385.94 K\n",
        "(b)Dew point pressure = 23.79 kPa\n"
       ]
      }
     ],
     "prompt_number": 21
    },
    {
     "cell_type": "heading",
     "level": 2,
     "metadata": {},
     "source": [
      "Example 7.11 page no :180"
     ]
    },
    {
     "cell_type": "code",
     "collapsed": false,
     "input": [
      "\n",
      "# variables \n",
      "#1 - methanol, 2 - ethanol, 3 - propanol\n",
      "x1 = 0.45 \n",
      "x2 = 0.3 \n",
      "x3 = 1 - (x1 + x2) \n",
      "P = 101.3                   #kPa\n",
      "# by drawing the temperature vs vapour pressure graph and interpolation,assuming,\n",
      "T = 344.6                   #K\n",
      "Ps1 = 137.3 \n",
      "Ps2 = 76.2 \n",
      "Ps3 = 65.4 \n",
      "\n",
      "# Calculation \n",
      "y1 = x1 * Ps1 / P \n",
      "y2 = x2 * Ps2 / P \n",
      "y3 = x3 * Ps3 / P \n",
      "\n",
      "# Result\n",
      "print \"(a)Bubble point temperature = \",T,\"K\"\n",
      "print \"Composition of methanol in vapour = %.f %%\"%(y1*100)\n",
      "print \"Composition of ethanol in vapour = %.1f%%\"%(y2*100)\n",
      "print \"Composition of propanol in vapour = %.1f%%\"%(y3*100)\n",
      "#again, for xi = 1\n",
      "T1 = 347.5                  #K\n",
      "P1 = 153.28 \n",
      "P2 = 85.25 \n",
      "P3 = 73.31 \n",
      "xa = x1 * P / P1 \n",
      "xb = x2 * P / P2 \n",
      "xc = x3 * P / P3 \n",
      "print \"(b)Dew point temperature = \",T1,\"K\"\n",
      "print \"Composition of methanol in liquid = %.1f %%\"%(xa*100)\n",
      "print \"Composition of ethanol in liquid = %.1f %%\"%(xb*100)\n",
      "print \"Composition of propanol in liquid = %.1f %%\"%(xc*100)\n"
     ],
     "language": "python",
     "metadata": {},
     "outputs": [
      {
       "output_type": "stream",
       "stream": "stdout",
       "text": [
        "(a)Bubble point temperature =  344.6 K\n",
        "Composition of methanol in vapour = 61 %\n",
        "Composition of ethanol in vapour = 22.6%\n",
        "Composition of propanol in vapour = 16.1%\n",
        "(b)Dew point temperature =  347.5 K\n",
        "Composition of methanol in liquid = 29.7 %\n",
        "Composition of ethanol in liquid = 35.6 %\n",
        "Composition of propanol in liquid = 34.5 %\n"
       ]
      }
     ],
     "prompt_number": 4
    },
    {
     "cell_type": "heading",
     "level": 2,
     "metadata": {},
     "source": [
      "Example 7.12 pageno : 181"
     ]
    },
    {
     "cell_type": "code",
     "collapsed": false,
     "input": [
      "\n",
      "# variables \n",
      "xp = 0.25                           # propane\n",
      "xnb = 0.4                           # n-butane\n",
      "xnp = 0.35                          # n-pentane\n",
      "P = 1447.14                         #kPa  \n",
      "#assuming temperatures 355.4 K and 366.5 K , corresponding Ki \n",
      "# values are found from nomograph and total Ki value are 0.928 and 1.075 resp, thus bubble point temperature lies between, using interpolation bubble point temperature is found to be,\n",
      "Tb = 361.                           #K\n",
      "print \"(a) The buuble point temperature = \",Tb,\"K\"\n",
      "\n",
      "\n",
      "# Calculation \n",
      "#At 361,\n",
      "Kip = 2.12 \n",
      "Kinb = 0.85 \n",
      "Kinp = 0.37 \n",
      "xp1 = Kip * xp \n",
      "xnb1 = Kinb * xnb \n",
      "xnp1 = Kinp * xnp \n",
      "\n",
      "# Result\n",
      "print \"concentration of propane at bubble point = \",xp1\n",
      "print \"concentration of n-butane at bubble point = \",xnb1\n",
      "print \"concentration of n-pentane at bubble point = %.3f\"%xnp1\n",
      "#At dew point Yi/Ki = 1, at 377.6K this is 1.1598 and at 388.8K \n",
      "# it is 0.9677, by interpolation dew point is found to be\n",
      "Td = 387.                           #K\n",
      "Kip1 = 2.85 \n",
      "Kinb1 = 1.25 \n",
      "Kinp1 = 0.59 \n",
      "yp1 = xp/Kip1 \n",
      "ynb1 = xnb/Kinb1 \n",
      "ynp1 = xnp/Kinp1 \n",
      "print \"(b) The dew point temperature = \",Td,\"K\"\n",
      "print \"concentration of propane at dew point = %.4f\"%yp1\n",
      "print \"concentration of n-butane at dew point = %.4f\"%ynb1\n",
      "print \"concentration of n-pentane at dew point = %.4f\"%ynp1\n",
      "\n",
      "#summation zi / (1 + L/VKi)= 0.45, using trial and error, we find\n",
      "T = 374.6                           #K\n",
      "L = 0.55 \n",
      "V = 0.45 \n",
      "Kip2 = 2.5 \n",
      "Kinb2 = 1.08 \n",
      "Kinp2 = 0.48 \n",
      "t = (xp/(1+L/(V*Kip2)))+(xnb/(1+L/(V*Kinb2))) + (xnp/(1+L/(V*Kinp2))) \n",
      "yp2 = (xp/(1+L/(V*Kip2)))/t \n",
      "ynb2 = (xnb/(1+L/(V*Kinb2)))/t \n",
      "ynp2 = (xnp/(1+L/(V*Kinp2)))/t \n",
      "xp2 = (xp - V * yp2)/L \n",
      "xnb2 = (xnb - V * ynb2)/L \n",
      "xnp2 = (xnp - V * ynp2)/L  \n",
      "print \"(c)Temperature of the mixture = \",T,\"K\"\n",
      "print \"vapour phase concentration of propane = %.4f\"%yp2\n",
      "print \"vapour phase concentration of n-butane = %.4f\"%ynb2\n",
      "print \"vapour phase concentration of n-pentane = %.4f\"%ynp2\n",
      "print \"liquid phase concentration of propane = %.4f\"%xp2\n",
      "print \"liquid phase concentration of n-butane = %.4f\"%xnb2\n",
      "print \"liquid phase concentration of n-pentane = %.4f\"%xnp2\n"
     ],
     "language": "python",
     "metadata": {},
     "outputs": [
      {
       "output_type": "stream",
       "stream": "stdout",
       "text": [
        "(a) The buuble point temperature =  361.0 K\n",
        "concentration of propane at bubble point =  0.53\n",
        "concentration of n-butane at bubble point =  0.34\n",
        "concentration of n-pentane at bubble point = 0.130\n",
        "(b) The dew point temperature =  387.0 K\n",
        "concentration of propane at dew point = 0.0877\n",
        "concentration of n-butane at dew point = 0.3200\n",
        "concentration of n-pentane at dew point = 0.5932\n",
        "(c)Temperature of the mixture =  374.6 K\n",
        "vapour phase concentration of propane = 0.3696\n",
        "vapour phase concentration of n-butane = 0.4131\n",
        "vapour phase concentration of n-pentane = 0.2173\n",
        "liquid phase concentration of propane = 0.1521\n",
        "liquid phase concentration of n-butane = 0.3893\n",
        "liquid phase concentration of n-pentane = 0.4586\n"
       ]
      }
     ],
     "prompt_number": 27
    },
    {
     "cell_type": "heading",
     "level": 2,
     "metadata": {},
     "source": [
      "Example 7.13 pageno : 185"
     ]
    },
    {
     "cell_type": "code",
     "collapsed": false,
     "input": [
      "\n",
      "# variables \n",
      "P = 93.30               #kPa   pressure\n",
      "T1 = 353.               #K     temperature\n",
      "T2 = 373.               #K     temperature\n",
      "Pwater1 = 47.98         #kPa   pressure of water\n",
      "Pwater2 = 101.3         #kPa\n",
      "Pliq1 = 2.67            #kPa   pressure of liquid\n",
      "Pliq2 = 5.33            #kPa\n",
      "\n",
      "# Calculation \n",
      "T = T1 + (T2 - T1)*(P - (Pwater1 + Pliq1))/(Pwater2 + Pliq2 - (Pwater1 + Pliq1)) \n",
      "\n",
      "# Result\n",
      "print \"(a)The equilibrium temperature = %.1f K\"%T\n",
      "Pwater = 88.50 \n",
      "y = Pwater * 100 /P \n",
      "print \"(b)Water vapour in vapour mixture = %.2f %%\"%y\n"
     ],
     "language": "python",
     "metadata": {},
     "outputs": [
      {
       "output_type": "stream",
       "stream": "stdout",
       "text": [
        "(a)The equilibrium temperature = 368.2 K\n",
        "(b)Water vapour in vapour mixture = 94.86 %\n"
       ]
      }
     ],
     "prompt_number": 29
    },
    {
     "cell_type": "heading",
     "level": 2,
     "metadata": {},
     "source": [
      "Example 7.14 pageno : 185"
     ]
    },
    {
     "cell_type": "code",
     "collapsed": false,
     "input": [
      "%matplotlib inline\n",
      "\n",
      "from matplotlib.pyplot import *\n",
      "from numpy import *\n",
      "\n",
      "# variables \n",
      "#the three phase temperature is first find out, which comes to be 342K, the\n",
      "#  corresponding Ps1 = 71.18, Ps2 = 30.12\n",
      "T = [342, 343, 348, 353, 363, 373] \n",
      "Ps2 = [30.12, 31.06, 37.99, 47.32, 70.11, 101.3] \n",
      "Ps1 = [71.18, 72.91, 85.31, 100.5, 135.42, 179.14] \n",
      "P = 101.3                   #kPa\n",
      "\n",
      "y1 = zeros(6)\n",
      "y2 = zeros(6)\n",
      "\n",
      "# Calculation \n",
      "for i in range(6):\n",
      "    y1[i] = 1 - (Ps1[i])/P \n",
      "\n",
      "for i in range(6):\n",
      "    y2[i] = 1 - (Ps2[i])/P \n",
      "\n",
      "# Result\n",
      "plot(y2,T) \n",
      "plot(1-y1,T) \n",
      "suptitle(\"temperature composition diagram\")\n",
      "xlabel(\"x,y mole fraction of benzene\")\n",
      "ylabel(\"Temperature\")\n",
      "show()\n"
     ],
     "language": "python",
     "metadata": {},
     "outputs": [
      {
       "output_type": "stream",
       "stream": "stdout",
       "text": [
        "Populating the interactive namespace from numpy and matplotlib\n"
       ]
      },
      {
       "output_type": "stream",
       "stream": "stderr",
       "text": [
        "WARNING: pylab import has clobbered these variables: ['draw_if_interactive']\n",
        "`%pylab --no-import-all` prevents importing * from pylab and numpy\n"
       ]
      },
      {
       "metadata": {},
       "output_type": "display_data",
       "png": "[encoded data removed]",
       "text": [
        "<matplotlib.figure.Figure at 0x27c4950>"
       ]
      }
     ],
     "prompt_number": 5
    },
    {
     "cell_type": "heading",
     "level": 2,
     "metadata": {},
     "source": [
      "Example 7.15 pageno : 188"
     ]
    },
    {
     "cell_type": "code",
     "collapsed": false,
     "input": [
      "import math \n",
      "\n",
      "# Variables \n",
      "T = 379.2               #K   solution\n",
      "P = 101.3               #kPa \n",
      "Ps = 70.                #kPa solution\n",
      "Molality = 5\n",
      "\n",
      "# Calculation \n",
      "Pws = math.exp(16.26205 - 3799.887/(T - 46.854)) \n",
      "k = P / Pws \n",
      "Pws1 = Ps / k \n",
      "T1 = 3799.887 / (16.26205 - math.log( Pws1)) + 46.854 \n",
      "\n",
      "# Result \n",
      "print \"Boiling point of the solution = %.1f K\"%T1\n"
     ],
     "language": "python",
     "metadata": {},
     "outputs": [
      {
       "output_type": "stream",
       "stream": "stdout",
       "text": [
        "Boiling point of the solution = 368.8 K\n"
       ]
      }
     ],
     "prompt_number": 33
    }
   ],
   "metadata": {}
  }
 ]
}