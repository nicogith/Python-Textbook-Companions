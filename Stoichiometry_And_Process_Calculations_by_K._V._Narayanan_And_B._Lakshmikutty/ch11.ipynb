{
 "metadata": {
  "name": ""
 },
 "nbformat": 3,
 "nbformat_minor": 0,
 "worksheets": [
  {
   "cells": [
    {
     "cell_type": "heading",
     "level": 1,
     "metadata": {},
     "source": [
      "Chapter 11 : Energy Balance Thermophysics"
     ]
    },
    {
     "cell_type": "heading",
     "level": 2,
     "metadata": {},
     "source": [
      "Example 11.1 pageno : 405"
     ]
    },
    {
     "cell_type": "code",
     "collapsed": false,
     "input": [
      "# variables \n",
      "m = 75.                     #kg\n",
      "g = 9.81                    #m**2/s\n",
      "d = 10.                     #m\n",
      "t = 2.5*60                  #s\n",
      "\n",
      "# Calculation \n",
      "f = m*g \n",
      "w = f * d \n",
      "P = w / t \n",
      "\n",
      "# Result\n",
      "print \"The work done = \",w,\"Nm\"\n",
      "print \"Power required = \",P,\"W\"\n"
     ],
     "language": "python",
     "metadata": {},
     "outputs": [
      {
       "output_type": "stream",
       "stream": "stdout",
       "text": [
        "The work done =  7357.5 Nm\n",
        "Power required =  49.05 W\n"
       ]
      }
     ],
     "prompt_number": 1
    },
    {
     "cell_type": "heading",
     "level": 2,
     "metadata": {},
     "source": [
      "Example 11.2 pageno : 405"
     ]
    },
    {
     "cell_type": "code",
     "collapsed": false,
     "input": [
      "# variables \n",
      "PE = 1.5*10**3                  #J\n",
      "m = 10.                         #kg\n",
      "g = 9.81                        #m/s**2\n",
      "v = 50.                         #m/s\n",
      "\n",
      "# Calculation \n",
      "#PE = mgz\n",
      "z = PE / (m*g) \n",
      "KE = m* (v**2) / 2 \n",
      "\n",
      "# Result\n",
      "print \"Height of the body from the ground = %.1f\"%z,\"m\"\n",
      "print \"Kinetic energy of the body = \",KE/1000,\"kJ\"\n"
     ],
     "language": "python",
     "metadata": {},
     "outputs": [
      {
       "output_type": "stream",
       "stream": "stdout",
       "text": [
        "Height of the body from the ground = 15.3 m\n",
        "Kinetic energy of the body =  12.5 kJ\n"
       ]
      }
     ],
     "prompt_number": 2
    },
    {
     "cell_type": "heading",
     "level": 2,
     "metadata": {},
     "source": [
      "Example 11.3 pageno : 405"
     ]
    },
    {
     "cell_type": "code",
     "collapsed": false,
     "input": [
      "import math \n",
      "# Variables \n",
      "d = 100. /1000                  #m\n",
      "m = 50.                         #kg\n",
      "P = 1.01325*10**5.              #Pa\n",
      "\n",
      "# Calculation \n",
      "A = math.pi * (d**2)/4 \n",
      "Fatm = P * A \n",
      "Fwt = m * g \n",
      "Ftotal = Fatm + Fwt \n",
      "P = Ftotal / A\n",
      "\n",
      "# Result \n",
      "print \"(a)Pressure of the gas = %.4f\"%(P/10**5),\"bar\"\n",
      "z = 500/1000.                   #m\n",
      "w = Ftotal * z \n",
      "print \"(b)Work done by the gas = %.2f\"%w,\"J\"\n"
     ],
     "language": "python",
     "metadata": {},
     "outputs": [
      {
       "output_type": "stream",
       "stream": "stdout",
       "text": [
        "(a)Pressure of the gas = 1.6378 bar\n",
        "(b)Work done by the gas = 643.15 J\n"
       ]
      }
     ],
     "prompt_number": 5
    },
    {
     "cell_type": "heading",
     "level": 2,
     "metadata": {},
     "source": [
      "Example 11.4 pageno : 406"
     ]
    },
    {
     "cell_type": "code",
     "collapsed": false,
     "input": [
      "\n",
      "# variables \n",
      "Sgr = 0.879 \n",
      "F = 5.                      #m**3/h\n",
      "\n",
      "# Calculation \n",
      "D = Sgr * 1000. \n",
      "m = F * D/3600.             #kg/s\n",
      "P = 3500.                   #kPa\n",
      "W = P * m * 1000/ D \n",
      "\n",
      "# Result\n",
      "print \"Power requirement for the pump = %d\"%W,\"W\"\n"
     ],
     "language": "python",
     "metadata": {},
     "outputs": [
      {
       "output_type": "stream",
       "stream": "stdout",
       "text": [
        "Power requirement for the pump = 4861 W\n"
       ]
      }
     ],
     "prompt_number": 6
    },
    {
     "cell_type": "heading",
     "level": 2,
     "metadata": {},
     "source": [
      "Example 11.5 pageno : 408"
     ]
    },
    {
     "cell_type": "code",
     "collapsed": false,
     "input": [
      "import math \n",
      "# Variables \n",
      "\n",
      "d = 3.                              #m\n",
      "m = 12500.                          #kg\n",
      "P = 7000.                           #kPa\n",
      "\n",
      "# Calculation \n",
      "U = 5.3*10**6                       #kJ\n",
      "Vtank = 4*math.pi*((d/2)**3) / 3 \n",
      "Vliq = Vtank / 2 \n",
      "H = U + P * Vliq \n",
      "\n",
      "# Result\n",
      "print \"Specific enthalpy of the fluid in the tank = %.2f\"%(H/m),\"kJ/kg\"\n"
     ],
     "language": "python",
     "metadata": {},
     "outputs": [
      {
       "output_type": "stream",
       "stream": "stdout",
       "text": [
        "Specific enthalpy of the fluid in the tank = 427.96 kJ/kg\n"
       ]
      }
     ],
     "prompt_number": 7
    },
    {
     "cell_type": "heading",
     "level": 2,
     "metadata": {},
     "source": [
      "Example 11.6 pageno : 409"
     ]
    },
    {
     "cell_type": "code",
     "collapsed": false,
     "input": [
      "\n",
      "# variables \n",
      "P = 101.3                       #kPa\n",
      "SVl = 1.04 * 10**-3             #m**3/kmol\n",
      "SVg = 1.675                     #m**3/kmol\n",
      "Q = 1030.                       #kJ\n",
      "\n",
      "# Calculation \n",
      "W = P * 10**3 * (SVg - SVl)/1000 \n",
      "U = Q - W \n",
      "H = U +  P * 10**3 * (SVg - SVl)/1000 \n",
      "\n",
      "# Result\n",
      "print \"Change in internal energy = %.2f\"%U,\"kJ/kmol\"\n",
      "print \"Change in enthalpy = \",H,\"kJ/kmol\"\n"
     ],
     "language": "python",
     "metadata": {},
     "outputs": [
      {
       "output_type": "stream",
       "stream": "stdout",
       "text": [
        "Change in internal energy = 860.43 kJ/kmol\n",
        "Change in enthalpy =  1030.0 kJ/kmol\n"
       ]
      }
     ],
     "prompt_number": 8
    },
    {
     "cell_type": "heading",
     "level": 2,
     "metadata": {},
     "source": [
      "Example 11.7 pageno : 409"
     ]
    },
    {
     "cell_type": "code",
     "collapsed": false,
     "input": [
      "\n",
      "# variables \n",
      "#work is done on the system, hence, W is negative\n",
      "\n",
      "W = - 2 * 745.7             #J/s\n",
      "#heat is transferres to the surrounding, hence, heat transferred is negative,\n",
      "Q = -3000.                  #kJ/h\n",
      "\n",
      "# Calculation \n",
      "U = Q*1000/3600 - W \n",
      "\n",
      "# Result\n",
      "print \"Change in internal energy = %.2f\"%U,\"J/s\"\n"
     ],
     "language": "python",
     "metadata": {},
     "outputs": [
      {
       "output_type": "stream",
       "stream": "stdout",
       "text": [
        "Change in internal energy = 658.07 J/s\n"
       ]
      }
     ],
     "prompt_number": 9
    },
    {
     "cell_type": "heading",
     "level": 2,
     "metadata": {},
     "source": [
      "Example 11.8 pageno : 410"
     ]
    },
    {
     "cell_type": "code",
     "collapsed": false,
     "input": [
      "\n",
      "# variables \n",
      "#Fe(s) + 2HCl(aq) = FeCl2(aq) + H2(g)\n",
      "MFe = 55.847 \n",
      "m = 1.                      #kg\n",
      "\n",
      "# Calculation \n",
      "Nfe = m * 10**3/MFe \n",
      "Nh2 = Nfe                   #(since 1 mole of Fe produces 1 mole of H2)\n",
      "T = 300.                    #K\n",
      "R = 8.314 \n",
      "\n",
      "#the change in volume is equal to the volume occupied by hydrogen produced\n",
      "PV = Nh2 * R * T \n",
      "W = PV \n",
      "\n",
      "# Result\n",
      "print \"Work done = %.2f\"%W,\"J\"\n"
     ],
     "language": "python",
     "metadata": {},
     "outputs": [
      {
       "output_type": "stream",
       "stream": "stdout",
       "text": [
        "Work done = 44661.31 J\n"
       ]
      }
     ],
     "prompt_number": 1
    },
    {
     "cell_type": "heading",
     "level": 2,
     "metadata": {},
     "source": [
      "Example 11.9 pageno : 412"
     ]
    },
    {
     "cell_type": "code",
     "collapsed": false,
     "input": [
      "\n",
      "#Cp =1.436 + 2.18*10**-3*T \n",
      "from scipy.integrate import quad \n",
      "\n",
      "# variables \n",
      "m = 1000./3600                  #kg/s\n",
      "T1 = 380.                       #K\n",
      "T2 = 550.                       #K\n",
      "\n",
      "# Calculation \n",
      "def f0(T): \n",
      "\t return 1.436 + 2.18*10**-3*T\n",
      "\n",
      "x =  quad(f0,T1,T2)[0]\n",
      "Q = m*x \n",
      "\n",
      "# Result\n",
      "print \"Heat load on the heater = %.1f\"%Q,\"kW\"\n"
     ],
     "language": "python",
     "metadata": {},
     "outputs": [
      {
       "output_type": "stream",
       "stream": "stdout",
       "text": [
        "Heat load on the heater = 115.7 kW\n"
       ]
      }
     ],
     "prompt_number": 11
    },
    {
     "cell_type": "heading",
     "level": 2,
     "metadata": {},
     "source": [
      "Example 11.10 page no : 413"
     ]
    },
    {
     "cell_type": "code",
     "collapsed": false,
     "input": [
      "\n",
      "#Cp = 26.54 + 42.454*10**-3 * T - 14.298 * 10**-6 * T**2 \n",
      "\n",
      "from scipy.integrate import quad \n",
      "\n",
      "# variables \n",
      "T1 = 300.                   #K\n",
      "T2 = 1000.                  #K\n",
      "m = 1.                      #kg\n",
      "N = m/44                    #kmol\n",
      "\n",
      "# Calculation \n",
      "def f3(T): \n",
      "\t return 26.54 + 42.454*10**-3 * T - 14.298 * 10**-6 * T**2\n",
      "\n",
      "x =  quad(f3,T1,T2)[0]\n",
      "\n",
      "Q = N*x \n",
      "\n",
      "# Result\n",
      "print \"(a)Heat required = %.2f\"%Q,\"kJ\"\n",
      "\n",
      "#for temperature in t degree celsius\n",
      "#Cp = 26.54 + 42.454*10**-3 * (t + 273.15) - 14.298 * 10**-6 * (t + 273.15)**2\n",
      "#Cp = 37.068 + 34.643 * 10**-3*t - 14.298* 10**-6 * t**2 (kJ/kmolC)\n",
      "#Cp = 8.854 + 8.274*10**-3*t -3.415*10**-6*t**2 ( Kcal/kmolC)\n",
      "#For degree Fehreneit scale,replacet by ( t1 - 32)/18, we get\n",
      "#Cp = 8.7058 + 4.6642 * 10**-3 *t1 - 1.0540 * 10**-6 * t1**2 ( Btu/lbmolF)\n"
     ],
     "language": "python",
     "metadata": {},
     "outputs": [
      {
       "output_type": "stream",
       "stream": "stdout",
       "text": [
        "(a)Heat required = 755.85 kJ\n"
       ]
      }
     ],
     "prompt_number": 2
    },
    {
     "cell_type": "heading",
     "level": 2,
     "metadata": {},
     "source": [
      "Example 11.11 pageno : 414"
     ]
    },
    {
     "cell_type": "code",
     "collapsed": false,
     "input": [
      "\n",
      "\n",
      "%matplotlib inline\n",
      "\n",
      "from matplotlib.pyplot import *\n",
      "\n",
      "# variables \n",
      "T = [273, 373, 473, 573, 673, 773, 873, 973, 1073, 1173, 1273] \n",
      "Cp = [33.6, 35.1, 36 ,36.6, 37, 37.3, 37.5, 37.6, 37.7, 37.8, 37.9] \n",
      "\n",
      "# Calculation \n",
      "plot(T,Cp)\n",
      "suptitle(\"Determination of enthalpy change \")\n",
      "xlabel(\"Temperature, K \")\n",
      "ylabel(\"Heat capacity, kJ/kmol K\")\n",
      "\n",
      "H = 36828.              #kJ/kmol\n",
      "\n",
      "# Result\n",
      "print \"Enthalpy change = \",H,\"kJ/kmol\"\n"
     ],
     "language": "python",
     "metadata": {},
     "outputs": [
      {
       "output_type": "stream",
       "stream": "stdout",
       "text": [
        "Populating the interactive namespace from numpy and matplotlib\n"
       ]
      },
      {
       "metadata": {},
       "output_type": "display_data",
       "png": "[encoded data removed]",
       "text": [
        "<matplotlib.figure.Figure at 0x27f4550>"
       ]
      },
      {
       "output_type": "stream",
       "stream": "stdout",
       "text": [
        "Enthalpy change =  36828.0 kJ/kmol\n"
       ]
      }
     ],
     "prompt_number": 3
    },
    {
     "cell_type": "heading",
     "level": 2,
     "metadata": {},
     "source": [
      "Example 11.12 page no : 415"
     ]
    },
    {
     "cell_type": "code",
     "collapsed": false,
     "input": [
      "\n",
      "#Cp = 26.586 + 7.582 * 10 **-3 * T - 1.12 * 10**-6 * T**2\n",
      "\n",
      "from scipy.integrate import quad \n",
      "\n",
      "# variables \n",
      "T1 = 500.                   #K\n",
      "T2 = 1000.                  #K\n",
      "\n",
      "# Calculation \n",
      "def f5(T): \n",
      "\t return 26.586 + 7.582 * 10**-3 * T - 1.12 * 10**-6 * T**2\n",
      "\n",
      "x =  quad(f5,T1,T2)[0]\n",
      "\n",
      "Cpm = 1 *x / ( T2 - T1 )  \n",
      "\n",
      "# Result\n",
      "print \"(a)Mean molal heat capacity = %.3f\"%Cpm,\"kJ/kmolK\"\n",
      "V = 500.                    #m**3 \n",
      "N = V / 22.4143 \n",
      "Q = N * Cpm * ( T2 - T1 ) \n",
      "print \"(b)Heat to be supplied = %.3e\"%Q,\"kJ/h\"\n",
      "T3 = 1500.                  #K\n",
      "Q1 = Cpm * (T3 - T1) \n",
      "\n",
      "def f6(T): \n",
      "\t return 26.586 + 7.582 * 10 **-3 * T - 1.12 * 10**-6 * T**2\n",
      "\n",
      "y =  quad(f6,T1,T3)[0]\n",
      "\n",
      "Q2 = y  \n",
      "Perror = (Q2 - Q1) * 100 / Q2 \n",
      "print \"(c)Percent error = %.1f\"%Perror,\"%\"\n",
      "\n",
      "# note : answer may vary because of rounding error.\n"
     ],
     "language": "python",
     "metadata": {},
     "outputs": [
      {
       "output_type": "stream",
       "stream": "stdout",
       "text": [
        "(a)Mean molal heat capacity = 31.619 kJ/kmolK\n",
        "(b)Heat to be supplied = 3.527e+05 kJ/h\n",
        "(c)Percent error = 4.1 %\n"
       ]
      }
     ],
     "prompt_number": 5
    },
    {
     "cell_type": "heading",
     "level": 2,
     "metadata": {},
     "source": [
      "Example 11.13 page no : 416"
     ]
    },
    {
     "cell_type": "code",
     "collapsed": false,
     "input": [
      "\n",
      "\n",
      "# variables \n",
      "T1 = 1500.                      #K\n",
      "Tr = 273.                       #K\n",
      "T2 = 400.                       #K\n",
      "Cpm1 = 50.                      #kJ/kmol\n",
      "Cpm2 = 35.                      #kJ/mol\n",
      "\n",
      "# Calculation \n",
      "H = Cpm1 * ( T1 - Tr ) - Cpm2 * ( T2 - Tr ) \n",
      "\n",
      "# Result\n",
      "print \"Enthalpy change = \",H,\"kJ/kmol\"\n"
     ],
     "language": "python",
     "metadata": {},
     "outputs": [
      {
       "output_type": "stream",
       "stream": "stdout",
       "text": [
        "Enthalpy change =  56905.0 kJ/kmol\n"
       ]
      }
     ],
     "prompt_number": 16
    },
    {
     "cell_type": "heading",
     "level": 2,
     "metadata": {},
     "source": [
      "Example 11.14 pageno : 417"
     ]
    },
    {
     "cell_type": "code",
     "collapsed": false,
     "input": [
      "from scipy.integrate import quad \n",
      "\n",
      "# variables \n",
      "#CO,  26.586 + 7.582*10**-3*T - 1.12*10**-6*T**2\n",
      "#CO2, 26.540 + 42.454*10**-3*T - 14.298*10**-6*T**2\n",
      "#O2, 25.74 + 12.987*10**-3*T - 3.864*10**-6*T**2\n",
      "#N2, 27.03 + 5.815*10**-3*T - 0.289*10**-6*T**2\n",
      "#Cpmix = summation ( yi*Cpi ) = summation(yi*ai + yi*bi*T + yi*ci*T**2)\n",
      "\n",
      "xco2 = 0.09 \n",
      "xco = 0.02 \n",
      "xo2 = 0.07 \n",
      "xn2 = 0.82 \n",
      "T1 = 600.                   #K\n",
      "T2 = 375.                   #K\n",
      "\n",
      "# Calculation \n",
      "sumai = xco * 26.586 +xco2 * 26.540 + xo2 * 25.74 + xn2*27.03 \n",
      "sumbi = xco * 7.582*10**-3 + xco2*42.454*10**-3+xo2*12.987*10**-3 + xn2*5.815*10**-3 \n",
      "sumci = -(xco * 1.12*10**-6 + xco2*14.298*10**-6+xo2*3.864*10**-6+xn2*0.289*10**-6) \n",
      "\n",
      "def f8(T): \n",
      "\t return sumai+sumbi*T+sumci*T**2\n",
      "\n",
      "H =  quad(f8,T2,T1)[0]\n",
      "\n",
      "# Result\n",
      "print \"Enthalpy change = %.2f\"%H,\"kJ/kmol\"\n",
      "\n",
      "# note : Calculating integration using quad may vary answer. Because Python use's its own methodology to calculate quad."
     ],
     "language": "python",
     "metadata": {},
     "outputs": [
      {
       "output_type": "stream",
       "stream": "stdout",
       "text": [
        "Enthalpy change = 7009.12 kJ/kmol\n"
       ]
      }
     ],
     "prompt_number": 4
    },
    {
     "cell_type": "heading",
     "level": 2,
     "metadata": {},
     "source": [
      "Example 11.15 pageno : 420"
     ]
    },
    {
     "cell_type": "code",
     "collapsed": false,
     "input": [
      "\n",
      "# variables \n",
      "Hna = 26.04                     #J/g-atomK\n",
      "Hs = 22.6                       #J/g-atomK\n",
      "Ho = 16.8                       #J/g-atomK\n",
      "Hh = 9.6                        #J/g-atomK\n",
      "\n",
      "# Calculation \n",
      "Hna2so410h2o = 2*Hna + Hs + 14*Ho  + 20*Hh \n",
      "Hexp = 592.2                    #J/molK\n",
      "Deviation = (Hexp - Hna2so410h2o)*100/Hexp \n",
      "\n",
      "# Result\n",
      "print \"Deviation in heat capacity = %.2f\"%Deviation,\"%\"\n"
     ],
     "language": "python",
     "metadata": {},
     "outputs": [
      {
       "output_type": "stream",
       "stream": "stdout",
       "text": [
        "Deviation in heat capacity = 15.25 %\n"
       ]
      }
     ],
     "prompt_number": 18
    },
    {
     "cell_type": "heading",
     "level": 2,
     "metadata": {},
     "source": [
      "Example 11.16 pageno : 421"
     ]
    },
    {
     "cell_type": "code",
     "collapsed": false,
     "input": [
      "\n",
      "# variables \n",
      "P1 = 75.                    #kPa\n",
      "T1 = 573.                   #K\n",
      "Tvap = 365.                 #K\n",
      "Tbasis = 273.               #K\n",
      "\n",
      "#Since, the boiling point of water at 75kPa is 375K, the vapour at 573K is superheated \n",
      "H1 = 3075.                  #kJ/kg\n",
      "Cliq = 4.2                  #kJ/kgK\n",
      "Cvap = 1.97                 # kJ/kg/K\n",
      "m = 1.                      #kg\n",
      "\n",
      "\n",
      "# Calculation \n",
      "#let assume converting liq. water into superheated stream occurs in 3 steps,\n",
      "\n",
      "Hc1 = m*Cliq * ( Tvap - Tbasis ) \n",
      "\n",
      "\n",
      "Hc3 = m*Cvap*(T1 - Tvap) \n",
      "\n",
      "#total enthalpy = 3075 = Hc1 + Hc2 + Hc3, therefore\n",
      "Hc2 = H1 - Hc1 - Hc3 \n",
      "\n",
      "# Result\n",
      "print \"Heat of vapourisation = \",Hc2,\"kJ/kg\"\n"
     ],
     "language": "python",
     "metadata": {},
     "outputs": [
      {
       "output_type": "stream",
       "stream": "stdout",
       "text": [
        "Heat of vapourisation =  2278.84 kJ/kg\n"
       ]
      }
     ],
     "prompt_number": 19
    },
    {
     "cell_type": "heading",
     "level": 2,
     "metadata": {},
     "source": [
      "Example 11.17 pageno : 422"
     ]
    },
    {
     "cell_type": "code",
     "collapsed": false,
     "input": [
      "from scipy.integrate import quad\n",
      "\n",
      "# variables \n",
      "T1 = 250.                           #K\n",
      "T = 273.15                          #K\n",
      "T2 = 400.                           #K\n",
      "Cice = 2.037                        #kJ/kgK\n",
      "T3 = 373.15                         #K\n",
      "Cliq = 75.726                       #kJ/kmolK\n",
      "\n",
      "#Cp = 30.475 + 9.652*10**-3*T + 1.189*10**-6*T**2\n",
      "Hfusion = 6012.                     #kJ/kmol\n",
      "Hvap = 40608.                       #kJ/kmol\n",
      "\n",
      "\n",
      "# Calculation \n",
      "#1 - Heat for raising the temperature of ice, H1\n",
      "H1 = Cice * (T - T1) \n",
      "#2 - Latent heat of fusion of ice,  Hf\n",
      "Hf = Hfusion / 18.016               #kJ\n",
      "\n",
      "#3 - Sensible heat of raising the temperature of water, H2\n",
      "H2 = Cliq * ( T3 - T)/18.016 \n",
      "#4 - Latent heat of vaporization of water, Hv\n",
      "Hv = Hvap / 18.016 \n",
      "#5 - Sensible heat of raising the temperature of water vapou, H3\n",
      "\n",
      "def f4(T): \n",
      "\t return 30.475 + 9.652*10.**-3*T + 1.189*10.**-6*T**2.\n",
      "\n",
      "H3 =  51.243883    #quadrature(f4,T3,T2)[0]\n",
      "\n",
      "Q = H1 + H2 + H3 + Hf + Hv \n",
      "\n",
      "# Result\n",
      "print \"Heat required = %.1f\"%Q,\"kJ\"\n"
     ],
     "language": "python",
     "metadata": {},
     "outputs": [
      {
       "output_type": "stream",
       "stream": "stdout",
       "text": [
        "Heat required = 3106.4 kJ\n"
       ]
      }
     ],
     "prompt_number": 21
    },
    {
     "cell_type": "heading",
     "level": 2,
     "metadata": {},
     "source": [
      "Example 11.18 pageno : 423"
     ]
    },
    {
     "cell_type": "code",
     "collapsed": false,
     "input": [
      "# variables \n",
      "#Cp = 0.16 + 4.78 * (10**-3) * T ( organic liquid )\n",
      "#Cp = 0.7935 + 1.298 * (10**-4) * T ( CCL4 )\n",
      "Tb = 349.9                          #K\n",
      "Hv = 195.                           #kJ/kg\n",
      "Cp = 0.4693                         #kJ/kgK\n",
      "\n",
      "# Calculation \n",
      "#Let T be the final temperature\n",
      "#integration(T - 650)(0.16 + 4.78 * (10**-3) * T)dt = integration(295 - T)(0.7935 + 1.298 * (10**-4) * T)dt\n",
      "# the above equation yields, 2.4549*(10**-3)*T**2 + 0.9535*T - 1353.51 = 0, from this we get\n",
      "T = 573.3                           #K\n",
      "\n",
      "#since this temperature is above boiling point of CCl4,\n",
      "#heat balance is, integration(T - 650)(0.16 + 4.78 * (10**-3) * T)dt = integration(295 - 349.9)(0.7935 + 1.298 * (10**-4) * T)dt + Hv + integration(349.9 - T)*0.4693*dT\n",
      "#solving above equation, we get,\n",
      "T1 = 540.1                          #K\n",
      "\n",
      "# Result\n",
      "print \"equilibrium temperature of the mixture = \",T1,\"K\"\n"
     ],
     "language": "python",
     "metadata": {},
     "outputs": [
      {
       "output_type": "stream",
       "stream": "stdout",
       "text": [
        "equilibrium temperature of the mixture =  540.1 K\n"
       ]
      }
     ],
     "prompt_number": 22
    },
    {
     "cell_type": "heading",
     "level": 2,
     "metadata": {},
     "source": [
      "Example 11.19 pageno : 427"
     ]
    },
    {
     "cell_type": "code",
     "collapsed": false,
     "input": [
      "import math \n",
      "\n",
      "# Variables \n",
      "T1 = 363.                       #K\n",
      "T2 = 373.                       #K\n",
      "P1s = 70.11                     #kPa\n",
      "P2s = 101.3                     #kPa\n",
      "R = 8.314                       #kJ/kmolK\n",
      "\n",
      "\n",
      "# Calculation \n",
      "# ln(P2s / P1s) = Hv / R * (1/T1 - 1/T2) \n",
      "Hv = (math.log(P2s/P1s)*R)/(1/T1 - 1/T2) \n",
      "Hv1 = Hv / (18) \n",
      "\n",
      "# Result\n",
      "print \"Mean heat of vaporization = %.f\"%Hv1,\"kJ/kg\"\n"
     ],
     "language": "python",
     "metadata": {},
     "outputs": [
      {
       "output_type": "stream",
       "stream": "stdout",
       "text": [
        "Mean heat of vaporization = 2302 kJ/kg\n"
       ]
      }
     ],
     "prompt_number": 23
    },
    {
     "cell_type": "heading",
     "level": 2,
     "metadata": {},
     "source": [
      "Example 11.20 pageno : 427"
     ]
    },
    {
     "cell_type": "code",
     "collapsed": false,
     "input": [
      "\n",
      "# variables \n",
      "T = 273.15 - 30     \n",
      "R = 8.314                        #K\n",
      "\n",
      "# Calculation \n",
      "#lnPs = 14.2410 - 2137.72 / (T-26.72)\n",
      "#dlnPs/dT = Hv / RT2\n",
      "Hv = 2137.72 * R * T**2 / ( T - 26.72 )**2 \n",
      "\n",
      "# Result\n",
      "print \"Heat of vaporization = %.2f\"%Hv,\"kJ/kmol\"\n"
     ],
     "language": "python",
     "metadata": {},
     "outputs": [
      {
       "output_type": "stream",
       "stream": "stdout",
       "text": [
        "Heat of vaporization = 22432.33 kJ/kmol\n"
       ]
      }
     ],
     "prompt_number": 24
    },
    {
     "cell_type": "heading",
     "level": 2,
     "metadata": {},
     "source": [
      "Example 11.21 pageno : 427"
     ]
    },
    {
     "cell_type": "code",
     "collapsed": false,
     "input": [
      "\n",
      "# variables \n",
      "Hv1 = 2256.                     #kJ/kg\n",
      "T1 = 373.                       #K\n",
      "T2 = 473.                       #K\n",
      "Tc = 647.                       #K\n",
      "\n",
      "# Calculation \n",
      "Tr1 = T1 / Tc \n",
      "Tr2 = T2 / Tc \n",
      "#Hv2 / Hv1 = ((1-Tr2)/(1-Tr1))**0.38\n",
      "Hv2 = Hv1*(((1-Tr2)/(1-Tr1))**0.38) \n",
      "\n",
      "# Result\n",
      "print \"Latent heat of vaporization of water at 473K = %d\"%Hv2,\"kJ/kg\"\n"
     ],
     "language": "python",
     "metadata": {},
     "outputs": [
      {
       "output_type": "stream",
       "stream": "stdout",
       "text": [
        "Latent heat of vaporization of water at 473K = 1898 kJ/kg\n"
       ]
      }
     ],
     "prompt_number": 25
    },
    {
     "cell_type": "heading",
     "level": 2,
     "metadata": {},
     "source": [
      "Example 11.22 pageno : 428"
     ]
    },
    {
     "cell_type": "code",
     "collapsed": false,
     "input": [
      "import math \n",
      "from scipy.integrate import quad \n",
      "\n",
      "\n",
      "# Variables \n",
      "#Cp = a + b*T\n",
      "\n",
      "T1 = 293.15                     #K\n",
      "Cp1 = 131.05                    #J/molK\n",
      "T2 = 323.                       #K\n",
      "Cp2 = 138.04                    #J/molK\n",
      "\n",
      "\n",
      "# Calculation \n",
      "#a + 293*b = 131.05\n",
      "#a + 323*b = 138.04\n",
      "b = (Cp1 - Cp2)/(T1 - T2) \n",
      "a = Cp1 - b * T1 \n",
      "\n",
      "#Cp = 62.781 + 0.233*T\n",
      "# Hvb / Tb = 36.63 + 8.31lnTb\n",
      "Tb = 273.15 + 80.1              #K\n",
      "\n",
      "Hvb = (36.63 + 8.31*math.log(Tb)) * Tb \n",
      "m = 100.                        #kg\n",
      "\n",
      "def f7(T): \n",
      "\t return 62.781 + 0.233*T\n",
      "\n",
      "k = quad(f7,T1,Tb)[0]\n",
      "\n",
      "H = m*(10.**3) * ( k)/78.048 + m*(10.**3) * Hvb/78.048\n",
      "\n",
      "# Result\n",
      "print \"Heat required = %.3e J\" %H\n"
     ],
     "language": "python",
     "metadata": {},
     "outputs": [
      {
       "output_type": "stream",
       "stream": "stdout",
       "text": [
        "Heat required = 4.928e+07 J\n"
       ]
      }
     ],
     "prompt_number": 8
    },
    {
     "cell_type": "heading",
     "level": 2,
     "metadata": {},
     "source": [
      "Example 11.23 pageno : 430"
     ]
    },
    {
     "cell_type": "code",
     "collapsed": false,
     "input": [
      "\n",
      "# variables \n",
      "P = 10.                 #kPa\n",
      "T1 = 323.15             #K\n",
      "T2 = 373.15             #K\n",
      "T = 358.15              #K\n",
      "H1 = 2592.6             #kJ/kg\n",
      "H2 = 2687.5             #kJ/kg\n",
      "\n",
      "\n",
      "# Calculation \n",
      "#H by interpolation,\n",
      "H = H1 + ((H2 - H1)/(T2 - T1))*(T - T1) \n",
      "Hl = 697.061            #kJ/kg\n",
      "Hg = 2762.              #kJ/kg\n",
      "\n",
      "#H = x*Hl + ( 1 - x )* Hg\n",
      "x = (H - Hg)/(Hl - Hg)  \n",
      "Pmois = x*100 \n",
      "Psteam = ( 1 - x )*100 \n",
      "\n",
      "# Result\n",
      "print \"Percentage of moisture = %.f\"%Pmois,\"%\"\n",
      "print \"Percentage of dry saturated steam = %.f\"%Psteam,\"%\"\n"
     ],
     "language": "python",
     "metadata": {},
     "outputs": [
      {
       "output_type": "stream",
       "stream": "stdout",
       "text": [
        "Percentage of moisture = 5 %\n",
        "Percentage of dry saturated steam = 95 %\n"
       ]
      }
     ],
     "prompt_number": 27
    },
    {
     "cell_type": "heading",
     "level": 2,
     "metadata": {},
     "source": [
      "Example 11.24 pageno : 430"
     ]
    },
    {
     "cell_type": "code",
     "collapsed": false,
     "input": [
      "\n",
      "# variables \n",
      "P = 3500.                   #kPa\n",
      "T = 673.15                  #K\n",
      "SV = 0.08453                #m**3/kg\n",
      "Vcondensed = 1/2. \n",
      "m = 100.                    #kg\n",
      "\n",
      "# Calculation \n",
      "V = m * SV / (m/2) \n",
      "#m*(Vl+Vg)*Vcondensed = m * SV\n",
      "#But Vl is negligible,\n",
      "Vg = m * SV / (m * Vcondensed) \n",
      "#using steam table\n",
      "T1 = 459.5                  #K\n",
      "P1 = 1158.                  #kPa\n",
      "\n",
      "#internal energy of superheated steam from steam table\n",
      "I = 2928.4                  #kJ/kg\n",
      "U1 = m * I \n",
      "Ul = 790.                   #kJ/kg\n",
      "Ug = 2585.9                 #kJ/kg\n",
      "U2 = m*Vcondensed*Ul + m*(1-Vcondensed)*Ug \n",
      "Q = U2 - U1 \n",
      "\n",
      "# Result\n",
      "print \"The amount of heat removed fromt he system = \",Q,\"kJ\"\n"
     ],
     "language": "python",
     "metadata": {},
     "outputs": [
      {
       "output_type": "stream",
       "stream": "stdout",
       "text": [
        "The amount of heat removed fromt he system =  -124045.0 kJ\n"
       ]
      }
     ],
     "prompt_number": 25
    },
    {
     "cell_type": "heading",
     "level": 2,
     "metadata": {},
     "source": [
      "Example 11.25 pageno : 433"
     ]
    },
    {
     "cell_type": "code",
     "collapsed": false,
     "input": [
      "\n",
      "# variables \n",
      "m = 1000.                       #kg/h ( basis  mass of 10% NaOH solution )\n",
      "Pfeed = 10.                     #%\n",
      "Ppro = 50.                      #(Percentage NaOH in product)\n",
      "\n",
      "\n",
      "# Calculation \n",
      "#Taking NaOH balance,P being the weight of the product\n",
      "P = Pfeed * m / Ppro \n",
      "\n",
      "#W be the weight of water evaporized\n",
      "W = m - P \n",
      "\n",
      "#step1 - cooling 1000kg/h of 10% solution from 305K to 298K\n",
      "T1 = 305.                       #K\n",
      "T2 = 298.                       #K\n",
      "Cliq = 3.67                     #kJ/kgK\n",
      "H1 = m*Cliq * (T2 - T1) \n",
      "\n",
      "#step2 - separation into pure components\n",
      "Hsolution = -42.85              #kJ/mol\n",
      "H2 = -Pfeed * m *1000 *Hsolution/ (40*100) \n",
      "\n",
      "#step3 - W kg water is converted to water vapour\n",
      "Hvap = 2442.5                   #kJ/kg\n",
      "H3 = W * Hvap \n",
      "\n",
      "#step4 - water vapour at 298K is heated to 373.15K\n",
      "Cvap = 1.884                    #kJ/kgK\n",
      "T3 = 373.15                     #K\n",
      "H4 = W * Cvap * ( T3 - T2 ) \n",
      "\n",
      "#step5 - formation of 200kg of 50% NaOH solution at 298K\n",
      "Hsolu = -25.89                  #kJ/mol\n",
      "H5 = Pfeed * m *1000 *Hsolu/ (40*100) \n",
      "\n",
      "#step6 - Heating the solution from 298K to 380K\n",
      "Csolu = 3.34                    #kJ/kg\n",
      "T4 = 380.                       #K\n",
      "H6 = P * Csolu * (T4 - T2) \n",
      "Htotal = H1 + H2 + H3 + H4 + H5 + H6 \n",
      "\n",
      "# Result\n",
      "print \"The enthalpy change accompanying the complete process = %d\"%Htotal,\"kJ\"\n"
     ],
     "language": "python",
     "metadata": {},
     "outputs": [
      {
       "output_type": "stream",
       "stream": "stdout",
       "text": [
        "The enthalpy change accompanying the complete process = 2138752 kJ\n"
       ]
      }
     ],
     "prompt_number": 28
    },
    {
     "cell_type": "heading",
     "level": 2,
     "metadata": {},
     "source": [
      "Example 11.26 page no : 435"
     ]
    },
    {
     "cell_type": "code",
     "collapsed": false,
     "input": [
      "\n",
      "\n",
      "# variables \n",
      "Nwater = 0.8                        #moles\n",
      "Nethanol = 0.2                      #moles\n",
      "T = 323.                            #K\n",
      "Cwater = 4.18*10**3                 #J/kgK\n",
      "Cethanol = 2.58*10**3               #J/kgK\n",
      "Hmixing1 = -758.                    #J/mol ( at 298K )\n",
      "Hmixing2 = -415.                    #J/mol ( at 323K )\n",
      "T1 = 298.                           #K\n",
      "T2 = 523.                           #K\n",
      "\n",
      "# Calculation \n",
      "#step1 - 0.8 mol of water is cooled from 323 K to 298K\n",
      "H1 = Nwater * 18 * Cwater * ( T1 - T )/ 1000 \n",
      "\n",
      "#step2 - 0.2 mol ethanol cooled from 323K to 298K\n",
      "H2 = Nethanol * 46 * Cethanol * ( T1 - T )/1000 \n",
      "\n",
      "#step3 - 0.8 mol water and 0.2 mol ethanol are mixed together,\n",
      "H3 = Hmixing1 \n",
      "\n",
      "#step4 solution is heated to 323K, H4 = Cpm * (T - T1)\n",
      "#Hmixing2 = H1 + H2 + H3 + H4\n",
      "H4 = Hmixing2 - H1 - H2 - H3 \n",
      "Cpm = H4 / ( T - T1 ) \n",
      "\n",
      "# Result\n",
      "print \"The mean heat capacity of a 20 percent solution = %.2f\"%Cpm,\"J/molK\"\n"
     ],
     "language": "python",
     "metadata": {},
     "outputs": [
      {
       "output_type": "stream",
       "stream": "stdout",
       "text": [
        "The mean heat capacity of a 20 percent solution = 97.65 J/molK\n"
       ]
      }
     ],
     "prompt_number": 30
    },
    {
     "cell_type": "heading",
     "level": 2,
     "metadata": {},
     "source": [
      "Example 11.27 page no : 437"
     ]
    },
    {
     "cell_type": "code",
     "collapsed": false,
     "input": [
      "\n",
      "# variables \n",
      "F = 1000.                       #kg/h\n",
      "H1 = 116.3                      #kJ/kg ( enthalpy of feed solution - 10% NaOH, 305 K )\n",
      "H2 = 560.57                     #kJ/kg ( enthalpy of thick liquor - 50% NaOH, 380 K )\n",
      "Hsteam = 2676.                  #kJ/kg ( 1atm , 373.15K )\n",
      "\n",
      "#by doing material balances,\n",
      "P = 200.                        #kg/h\n",
      "mvap = 800.                     #kg/h\n",
      "\n",
      "# Calculation \n",
      "#Enthalpy balance gives, F*H1 + Q = mvap*Hsteam + P*H2\n",
      "Q = (mvap*Hsteam + P*H2)-F*H1 \n",
      "\n",
      "# Result\n",
      "print \"Heat to be supplied = \",Q,\"kJ/h\"\n"
     ],
     "language": "python",
     "metadata": {},
     "outputs": [
      {
       "output_type": "stream",
       "stream": "stdout",
       "text": [
        "Heat to be supplied =  2136614.0 kJ/h\n"
       ]
      }
     ],
     "prompt_number": 31
    },
    {
     "cell_type": "heading",
     "level": 2,
     "metadata": {},
     "source": [
      "Example 11.28 pageno : 439"
     ]
    },
    {
     "cell_type": "code",
     "collapsed": false,
     "input": [
      "\n",
      "# variables \n",
      "U2 = 0.35*10**3                 #kJ\n",
      "U1 = 0.25*10**3                 #kJ\n",
      "#since the tank is rigid the volume does not change during heating, Under constant volume, the change in the internal energy is equal to the heat supplied\n",
      "\n",
      "# Calculation \n",
      "Q = U2 - U1 \n",
      "\n",
      "# Result\n",
      "print \"Heat transferred to the air = \",Q,\"kJ\"\n"
     ],
     "language": "python",
     "metadata": {},
     "outputs": [
      {
       "output_type": "stream",
       "stream": "stdout",
       "text": [
        "Heat transferred to the air =  100.0 kJ\n"
       ]
      }
     ],
     "prompt_number": 29
    },
    {
     "cell_type": "heading",
     "level": 2,
     "metadata": {},
     "source": [
      "Example 11.29 pageno : 439"
     ]
    },
    {
     "cell_type": "code",
     "collapsed": false,
     "input": [
      "\n",
      "# variables \n",
      "W = -2.25*745.7             #W ( work done on the system and 1hp = 745.7W)\n",
      "Q = -3400.                  #kJ/h ( Heat transferred to the surrounding )\n",
      "\n",
      "# Calculation \n",
      "U = Q*1000/3600 - W \n",
      "\n",
      "# Result\n",
      "print \"Rise in the Internal energy of the system = %.3f\"%U,\"J/s\"\n"
     ],
     "language": "python",
     "metadata": {},
     "outputs": [
      {
       "output_type": "stream",
       "stream": "stdout",
       "text": [
        "Rise in the Internal energy of the system = 733.381 J/s\n"
       ]
      }
     ],
     "prompt_number": 32
    },
    {
     "cell_type": "heading",
     "level": 2,
     "metadata": {},
     "source": [
      "Example 11.30 pageno : 440"
     ]
    },
    {
     "cell_type": "code",
     "collapsed": false,
     "input": [
      "\n",
      "# variables \n",
      "#2Fe + 3/2O2 = Fe2O3\n",
      "Hliberated = 831.08                 #kJ\n",
      "\n",
      "# Calculation \n",
      "Q = -Hliberated*1000 \n",
      "\n",
      "# Result\n",
      "print \"Q = \",Q,\"J\"\n",
      "\n",
      "#P(V) = (n)RT\n",
      "#W = P(V) = (n)RT\n",
      "n = -1.5 \n",
      "R = 8.314 \n",
      "T = 298.                            #K\n",
      "W = (n) * R * T \n",
      "print \"W = %.1f\"%W,\"J\"\n",
      "U = Q - W \n",
      "print \"U = %.5e\"%U,\"J\"\n"
     ],
     "language": "python",
     "metadata": {},
     "outputs": [
      {
       "output_type": "stream",
       "stream": "stdout",
       "text": [
        "Q =  -831080.0 J\n",
        "W = -3716.4 J\n",
        "U = -8.27364e+05 J\n"
       ]
      }
     ],
     "prompt_number": 34
    },
    {
     "cell_type": "heading",
     "level": 2,
     "metadata": {},
     "source": [
      "Example 11.31 pageno : 440"
     ]
    },
    {
     "cell_type": "code",
     "collapsed": false,
     "input": [
      "\n",
      "# variables \n",
      "Vgas = 0.09                     #m**3\n",
      "Vliq = 0.01                     #m**3\n",
      "SVliq = 1.061*10**-3            #m**3/kg\n",
      "SVvap = 0.8857                  #m**3/kg\n",
      "\n",
      "# Calculation \n",
      "mvap = Vgas / SVvap \n",
      "mliq = Vliq / SVliq \n",
      "Ul = 504.5                      #kJ/kg\n",
      "Ug = 2529.5                     #kJ/kg\n",
      "U1 = Ul * mliq + Ug * mvap \n",
      "SVtotal = (Vgas + Vliq)/(mvap + mliq) \n",
      "#using steam table , these value of specific volume corresponds to\n",
      "# pressure of 148.6bar and internal energy of 2464.6kJ/kg\n",
      "U = 2464.                       #kJ/kg\n",
      "Utotal = U * (mvap + mliq) \n",
      "#Utotal - U1 = Q - W,but W = o, hence, \n",
      "Q = Utotal - U1 \n",
      "\n",
      "# Result\n",
      "print \"Heat to be added = %.f\"%Q,\"kJ\"\n",
      "\n",
      "\n",
      "# note: answer may vary because of rounding error"
     ],
     "language": "python",
     "metadata": {},
     "outputs": [
      {
       "output_type": "stream",
       "stream": "stdout",
       "text": [
        "Heat to be added = 18462 kJ\n"
       ]
      }
     ],
     "prompt_number": 35
    },
    {
     "cell_type": "heading",
     "level": 2,
     "metadata": {},
     "source": [
      "Example 11.32 pageno : 443"
     ]
    },
    {
     "cell_type": "code",
     "collapsed": false,
     "input": [
      "\n",
      "# variables \n",
      "m = 10.                     #kg(air)\n",
      "N = m / 29                  #kmol\n",
      "P1 = 100.                   #kPa\n",
      "T1 = 300.                   #K\n",
      "R = 8.314 \n",
      "\n",
      "# Calculation \n",
      "V1 = N * R * T1 / P1 \n",
      "V2 = V1 \n",
      "T2 = 600.                   #K\n",
      "Cv = 20.785                 #kJ/kmolK\n",
      "Cp = 29.099                 #kJ/kmolK\n",
      "U = N * Cv * (T2 - T1) \n",
      "Q = U \n",
      "W = Q - U \n",
      "H = U + N * R * ( T2 - T1 ) \n",
      "\n",
      "# Result\n",
      "print \"(a)Change in internal energy at constant volume = %d\"%U,\"kJ\"\n",
      "print \"heat supplied at constant volume = %d\"%Q,\"kJ\"\n",
      "print \"Work done at constant volume = \",W,\"kJ\"\n",
      "print \"Change in Enthalpy at constant volume = %d\"%H,\"kJ\"\n",
      "P2 = P1 \n",
      "H2 = N * Cp * ( T2 - T1 ) \n",
      "Q2 = H2 \n",
      "U2 = H2 - N * R * (T2 - T1) \n",
      "W2 = Q2 - U2 \n",
      "print \"(b)Change in internal energy at constant Pressure = %d\"%U2,\"kJ\"\n",
      "print \"heat supplied at constant Pressure = %d\"%Q2,\"kJ\"\n",
      "print \"Work done at constant Pressure = %d\"%W2,\"kJ\"\n",
      "print \"Change in Enthalpy at constant Pressure = %d\"%H2,\"kJ\"\n"
     ],
     "language": "python",
     "metadata": {},
     "outputs": [
      {
       "output_type": "stream",
       "stream": "stdout",
       "text": [
        "(a)Change in internal energy at constant volume = 2150 kJ\n",
        "heat supplied at constant volume = 2150 kJ\n",
        "Work done at constant volume =  0.0 kJ\n",
        "Change in Enthalpy at constant volume = 3010 kJ\n",
        "(b)Change in internal energy at constant Pressure = 2150 kJ\n",
        "heat supplied at constant Pressure = 3010 kJ\n",
        "Work done at constant Pressure = 860 kJ\n",
        "Change in Enthalpy at constant Pressure = 3010 kJ\n"
       ]
      }
     ],
     "prompt_number": 36
    },
    {
     "cell_type": "heading",
     "level": 2,
     "metadata": {},
     "source": [
      "Example 11.33 pageno : 444"
     ]
    },
    {
     "cell_type": "code",
     "collapsed": false,
     "input": [
      "\n",
      "# variables \n",
      "Cp = 29.3                   #kJ/kmol\n",
      "R = 8.314 \n",
      "Cv = Cp - R \n",
      "T1 = 300.                   #K\n",
      "P1 = 1.                     #bar\n",
      "P2 = 2.                     #bar\n",
      "\n",
      "# Calculation \n",
      "#step1 - Volume remains constant, therefore the work done is\n",
      "# zero and heat supplied is Cv, Also T2/T1 = P2/P1\n",
      "T2 = P2 * T1 / P1 \n",
      "Q1 = Cv * ( T2 - T1 ) \n",
      "W1 = 0 \n",
      "\n",
      "# Result\n",
      "print \"Work done at constant volume = \",W1,\"kJ\"\n",
      "print \"Heat supplied at constant volume = \",Q1,\"kJ\"\n",
      "\n",
      "#step2 - Process is abdiabatic\n",
      "Q2 = 0 \n",
      "r = 1.4 \n",
      "T3 = T2 * (( P1 / P2 )**((r - 1)/r)) \n",
      "W2 = Cv * ( T2 - T3 )  \n",
      "\n",
      "print \"Work done in adiabatic process = %.1f\"%W2,\"kJ\"\n",
      "print \"Heat supplied in adiabatic process = \",Q2,\"kJ\"\n",
      "\n",
      "#step3 - process is isobaric\n",
      "Q3 = Cp * (T1 - T3) \n",
      "U3 = Cv * (T1 - T3) \n",
      "W3 = Q3 - U3 \n",
      "print \"Work done at constant pressure = %.2f\"%W3,\"kJ\"\n",
      "print \"Heat supplied at constant pressure = %.1f\"%Q3,\"kJ\"\n",
      "\n",
      "\n",
      "# Note : Answers in book is wrong. while calculating heat supplied i.e. Cv(T2-T1), value of Cv is been taken wrongly."
     ],
     "language": "python",
     "metadata": {},
     "outputs": [
      {
       "output_type": "stream",
       "stream": "stdout",
       "text": [
        "Work done at constant volume =  0 kJ\n",
        "Heat supplied at constant volume =  6295.8 kJ\n",
        "Work done in adiabatic process = 2262.3 kJ\n",
        "Heat supplied in adiabatic process =  0 kJ\n",
        "Work done at constant pressure = -1597.96 kJ\n",
        "Heat supplied at constant pressure = -5631.5 kJ\n"
       ]
      }
     ],
     "prompt_number": 11
    },
    {
     "cell_type": "heading",
     "level": 2,
     "metadata": {},
     "source": [
      "Example 11.34 pageno : 445"
     ]
    },
    {
     "cell_type": "code",
     "collapsed": false,
     "input": [
      "import math \n",
      "\n",
      "# Variables \n",
      "P1 = 5.                         #bar\n",
      "P2 = 4.                         #bar\n",
      "T1 = 600.                       #K\n",
      "V = 0.1                         #m**3\n",
      "T2 = 400.                       #K\n",
      "T = 298.                        #K\n",
      "Cp = 30.                        #J/molK\n",
      "\n",
      "#step1 - isothermal condition\n",
      "U1 = 0 \n",
      "H1 = 0 \n",
      "P = 1.                          #bar\n",
      "R = 8.314 \n",
      "\n",
      "# Calculation \n",
      "W1 = R*T1*math.log(P1/P2) \n",
      "Q1 = W1 \n",
      "\n",
      "# Result\n",
      "print \"(a)Change in the internal energy in isothermal condition = \",U1,\"kJ/kmol\"\n",
      "print \"Change in the enthalpy energy in isothermal condition = \",H1,\"kJ/kmol\"\n",
      "print \"Work done in isothermal condition = %.2f\"%W1,\"kJ/kmol\"\n",
      "print \"Heat supplied in isothermal condition = %.2f\"%Q1,\"kJ/kmol\"\n",
      "N = round(P * (1.01325 * 10**5) * V / ( R * T ),2)                # answer slightly different because of rouding error.\n",
      "Cv = Cp - R          \n",
      "U2 = Cv * (T2 - T)*N    #Answer differes due to slighlty different value of N\n",
      "H2 = Cp * (T2 - T)*N    #Answer differes due to slighlty different value of N\n",
      "W2 = 0 \n",
      "Q2 = U2 + W2 \n",
      "print \n",
      "print \"\\n(b)Change in the internal energy at constant volume condition = %d\"%U2,\"J\"\n",
      "print \"Change in the enthalpy energy at constant volume condition = %d\"%H2,\"kJ/kmol\"\n",
      "print \"Work done at constant volume condition = \",W2,\"kJ/kmol\"\n",
      "print \"Heat supplied at constant volume condition = %d\"%Q2,\"kJ/kmol\"\n",
      "\n",
      "# note : answer varies because of rounding error."
     ],
     "language": "python",
     "metadata": {},
     "outputs": [
      {
       "output_type": "stream",
       "stream": "stdout",
       "text": [
        "(a)Change in the internal energy in isothermal condition =  0 kJ/kmol\n",
        "Change in the enthalpy energy in isothermal condition =  0 kJ/kmol\n",
        "Work done in isothermal condition = 1113.13 kJ/kmol\n",
        "Heat supplied in isothermal condition = 1113.13 kJ/kmol\n",
        "\n",
        "\n",
        "(b)Change in the internal energy at constant volume condition = 9046 J\n",
        "Change in the enthalpy energy at constant volume condition = 12515 kJ/kmol\n",
        "Work done at constant volume condition =  0 kJ/kmol\n",
        "Heat supplied at constant volume condition = 9046 kJ/kmol\n"
       ]
      }
     ],
     "prompt_number": 19
    },
    {
     "cell_type": "heading",
     "level": 2,
     "metadata": {},
     "source": [
      "Example 11.35 pageno : 448"
     ]
    },
    {
     "cell_type": "code",
     "collapsed": false,
     "input": [
      "\n",
      "# variables \n",
      "m = 1.                              #kg\n",
      "u2 = 0.5                            #m/s\n",
      "u1 = 60.                            #m/s\n",
      "H = -3000.                          #kJ/kg\n",
      "\n",
      "# Calculation \n",
      "#KE = (u**2)/2\n",
      "KE = ((u2 ** 2) - (u1**2))/2000 \n",
      "g = 9.81                            #m/s**2\n",
      "Z1 = 7.5                            #m\n",
      "Z2 = 2.                             #m\n",
      "\n",
      "#PE = g * (Z)\n",
      "PE = g * (Z2 - Z1)/1000 \n",
      "W = 800.                            #kJ/kg\n",
      "Q = H + PE + KE + W \n",
      "\n",
      "# Result\n",
      "print \"Heat removed from the fluid = %.2f\"%Q,\"kJ/kg\"\n"
     ],
     "language": "python",
     "metadata": {},
     "outputs": [
      {
       "output_type": "stream",
       "stream": "stdout",
       "text": [
        "Heat removed from the fluid = -2201.85 kJ/kg\n"
       ]
      }
     ],
     "prompt_number": 39
    },
    {
     "cell_type": "heading",
     "level": 2,
     "metadata": {},
     "source": [
      "Example 11.37 pageno : 449"
     ]
    },
    {
     "cell_type": "code",
     "collapsed": false,
     "input": [
      "\n",
      "# variables \n",
      "g = 9.81                        #m/s**2\n",
      "z = 55. \n",
      "PE = g * z \n",
      "KE = 0. \n",
      "T2 = 288.                       #K\n",
      "f = 1.5*10**-2                  #m**3/min\n",
      "D = 1000.                       #kg/m**3\n",
      "m = f * D \n",
      "Qsupp = 500.                    #kJ/min\n",
      "Qlost = 400.                    #kJ/min\n",
      "\n",
      "# Calculation \n",
      "Qnet = (Qsupp - Qlost) * D / m  \n",
      "W = 2*745.7                     #W\n",
      "Ws = -W * 0.6 / (m/60) \n",
      "H = Qnet - Ws - PE - KE \n",
      "Cp = 4200. \n",
      "T1 = H / Cp \n",
      "T = T1 + T2 \n",
      "\n",
      "# Result\n",
      "print \"The temperature of exit water = %.2f\"%T,\"K\"\n"
     ],
     "language": "python",
     "metadata": {},
     "outputs": [
      {
       "output_type": "stream",
       "stream": "stdout",
       "text": [
        "The temperature of exit water = 290.31 K\n"
       ]
      }
     ],
     "prompt_number": 40
    },
    {
     "cell_type": "heading",
     "level": 2,
     "metadata": {},
     "source": [
      "Example 11.38 pageno : 450"
     ]
    },
    {
     "cell_type": "code",
     "collapsed": false,
     "input": [
      "\n",
      "# variables \n",
      "m = 1000.                   #kg/h (dried product)\n",
      "\n",
      "# S be the amount of dry solid in the product stream \n",
      "Pmoisture1 = 4.             #%\n",
      "Pmoisture2 = 0.2            #%\n",
      "P = 1.\n",
      "S = m *(1 - P/1000) \n",
      "\n",
      "# Calculation \n",
      "X1 = Pmoisture1/(100 - Pmoisture1) \n",
      "X2 = Pmoisture2/(100 - Pmoisture2) \n",
      "\n",
      "#let G be the weight of dry air in the air stream \n",
      "Y1 = 0.01                   #kg water/kg dry solid\n",
      "Cp = 1.507 \n",
      "Cw = 4.2 \n",
      "T1 = 298.                   #K\n",
      "T = 273.                    #K\n",
      "T2 = 333.                   #K\n",
      "Tg1 = 363.                  #K\n",
      "Tg2 = 305.                  #K\n",
      "\n",
      "Hs1 = (Cp + X1 * Cw) * (T1 - T) \n",
      "Hs2 = (Cp + X2 * Cw) * (T2 - T) \n",
      "#Hg = Cs(Tg - To) + Y*L\n",
      "#Cs = 1.005 + 1.884*Y\n",
      "L = 2502.3                  #kJ/kg dry air\n",
      "Hg1 = (1.005 + 1.884 * Y1)*(Tg1 - T) + Y1 * L \n",
      "Q = -40000.                 #kJ/h\n",
      "\n",
      "#Calculating for T2, Hg2 = 32.16 + 2562.59*Y \n",
      "#change in enthalpy = Q\n",
      "#H1 = S * Hs1 + G * HG1 = 37814.22 + 117.17G\n",
      "#H2 = 100728.14 + G* (32.16 + 2561.59*Y)\n",
      "#change in enthalpy = Q\n",
      "#62913.92 + G *(-85.01 + 2561.59*Y) + 40000 = 0\n",
      "#102913.92 + G *(-85.01 + 2561.59*Y) = 0            (1)\n",
      "#moisture balance, S*X1 + G*Y1 = S*X2 + G*Y2\n",
      "#G*(Y-0.01) = 39.62                                 (2)\n",
      "#solving simultaneously ( 1 ) and ( 2 ), \n",
      "Gdry = 3443.                #kg/h\n",
      "G = Gdry*(1 + Y1) \n",
      "\n",
      "# Result\n",
      "print \"Air requirement = \",G,\"kg/h\"\n"
     ],
     "language": "python",
     "metadata": {},
     "outputs": [
      {
       "output_type": "stream",
       "stream": "stdout",
       "text": [
        "Air requirement =  3477.43 kg/h\n"
       ]
      }
     ],
     "prompt_number": 39
    },
    {
     "cell_type": "heading",
     "level": 2,
     "metadata": {},
     "source": [
      "Example 11.39 pageno : 452"
     ]
    },
    {
     "cell_type": "code",
     "collapsed": false,
     "input": [
      "\n",
      "# variables \n",
      "m = 1000.                   #kg/h ( feed solution )\n",
      "\n",
      "#F - mass of feed distilled, W - mass of the bottom product, D - mass of the distillate, xf, xd and xw - weight fraction of actone in feed, distillate and residue resp_\n",
      "#total balance, F = D + W\n",
      "#Acetone balance, F*xf = D*xd + w*xw\n",
      "F = 1000 \n",
      "xf = 0.10 \n",
      "xd = 0.9 \n",
      "xw = 0.01 \n",
      "\n",
      "# Calculation \n",
      "#substituting in above equations,\n",
      "D = F * (xf - xw) / (xd - xw) \n",
      "W = F - D \n",
      "R = 8 \n",
      "L = R * D \n",
      "#material balance around the condenser,G vapour reaching the condenser\n",
      "G = L + D \n",
      "Td = 332.                   #K\n",
      "T2 = 300.                   #K\n",
      "Tw = 370.                   #K\n",
      "Tf = 340.                   #K\n",
      "Lacetone1 = 620.            #kJ/kg\n",
      "Lwater1 = 2500.             #kJ/kg\n",
      "Ld = xd * Lacetone1 + (1 - xd) * Lwater1 \n",
      "Cpacetone = 2.2             #kJ/kgK\n",
      "Cpwater = 4.2               #kJ/kgK\n",
      "Cp = xd * Cpacetone + (1-xd)*Cpwater \n",
      "H = Ld + Cp * ( Td - T2 ) \n",
      "Cpc = 4.2                   #kJ/kg\n",
      "Tc = 30.                    #K ( change in temperature allowable for cooling water )\n",
      "m = G * H / ( Cpc * Tc ) \n",
      "\n",
      "# Result\n",
      "print \"(a)The circulation rate of cooling water = %2f\"%m,\"kg/h\"\n",
      "Qc = G * H \n",
      "Hd = 0. \n",
      "Hw = (xw * Cpacetone + (1-xw)*Cpwater)*(Tw - T2) \n",
      "Hf = (xf * Cpacetone + (1-xf)*Cpwater)*(Tf - T2) \n",
      "Qb = D * Hd + W * Hw + Qc - F * Hf \n",
      "Hcondensation = 2730.       #kJ/kg\n",
      "msteam = Qb/Hcondensation \n",
      "print \"(b)Amount of steam supplied = %.2f\"%msteam,\"kg/h\"\n"
     ],
     "language": "python",
     "metadata": {},
     "outputs": [
      {
       "output_type": "stream",
       "stream": "stdout",
       "text": [
        "(a)The circulation rate of cooling water = 6391.011236 kg/h\n",
        "(b)Amount of steam supplied = 332.70 kg/h\n"
       ]
      }
     ],
     "prompt_number": 41
    }
   ],
   "metadata": {}
  }
 ]
}