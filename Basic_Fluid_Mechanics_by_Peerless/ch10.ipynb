{
 "metadata": {
  "name": "",
  "signature": "sha256:deacbf9acb1071d19b96737be4ae4bdcb6a5696a34ffaedecc8c1b87e6d2a62b"
 },
 "nbformat": 3,
 "nbformat_minor": 0,
 "worksheets": [
  {
   "cells": [
    {
     "cell_type": "heading",
     "level": 1,
     "metadata": {},
     "source": [
      "Chapter 10 : External Flows"
     ]
    },
    {
     "cell_type": "heading",
     "level": 2,
     "metadata": {},
     "source": [
      "Example 10.1 Page No : 367"
     ]
    },
    {
     "cell_type": "code",
     "collapsed": false,
     "input": [
      "import math \n",
      "from numpy import *\n",
      "\t\n",
      "#initialisation of variables\n",
      "g= 32.2 \t#ft/sec**2\n",
      "u= 3.6*10**-5 \t#lbf sec/ft**2 viscosity\n",
      "d= 64. \t#lbm/ft**2 density\n",
      "l= 20. \t#ft long\n",
      "a= 0.5\n",
      "\t\n",
      "#CALCULATIONS\n",
      "sw= u*g/(a*d)\n",
      "sw1= u**2*g*l/(2*a*d)\n",
      "Re=array([1, 2, 3, 4, 5, 6, 7, 8, 9, 10])*10**5\n",
      "Vinf=Re*u*g/(d*a)\n",
      "Cd= array([1.2, 1.15, 0.94, 0.68, 0.305, 0.31, 0.32, 0.33, 0.34, 0.35])\n",
      "cdre=Cd*Re**2\n",
      "D=sw1*cdre\n",
      "\t\n",
      "#RESULTS\n",
      "print  'velocity = %.3e ft/sec'%(sw)\n",
      "print  ' Force = %.3e lbf'%(sw1)\n",
      "print \"V (ft/sec)        D(lbf)\"\n",
      "for i in range(len(D)):\n",
      "    print \"%6.1f         %6d\"%(Vinf[i],D[i])\n",
      "\n",
      "\n",
      "# note : answers are accurate. please check manually."
     ],
     "language": "python",
     "metadata": {},
     "outputs": [
      {
       "output_type": "stream",
       "stream": "stdout",
       "text": [
        "velocity = 3.623e-05 ft/sec\n",
        " Force = 1.304e-08 lbf\n",
        "V (ft/sec)        D(lbf)\n",
        "   3.6            156\n",
        "   7.2            599\n",
        "  10.9           1103\n",
        "  14.5           1418\n",
        "  18.1            994\n",
        "  21.7           1455\n",
        "  25.4           2044\n",
        "  29.0           2754\n",
        "  32.6           3591\n",
        "  36.2           4564\n"
       ]
      }
     ],
     "prompt_number": 3
    },
    {
     "cell_type": "heading",
     "level": 2,
     "metadata": {},
     "source": [
      "Example 10.2 Page No : 368"
     ]
    },
    {
     "cell_type": "code",
     "collapsed": false,
     "input": [
      "%matplotlib inline\n",
      "from numpy import *\n",
      "from matplotlib.pyplot import *\n",
      "\t\n",
      "#initialisation of variables\n",
      "g= 32.2 \t#ft/sec**2\n",
      "u= 3.6*10**-5 \t#lbf sec/ft**2\n",
      "d= 64. \t#lbm/ft**2 density\n",
      "l= 20. \t#ft long\n",
      "a= 0.5\n",
      "\t\n",
      "#CALCULATIONS\n",
      "sw= u*g/(a*d)\n",
      "sw1= u**2*g*l/(2*a*d)\n",
      "Re = array([1 ,2, 3, 4, 5, 6, 7, 8, 9, 10])*10**5\n",
      "Vinf=Re*u*g/(d*a)\n",
      "Cd = array([1.2, 1.15, 0.94, 0.68, 0.305, 0.31, 0.32, 0.33, 0.34, 0.35])\n",
      "cdre=Cd*Re**2\n",
      "D=sw1*cdre\n",
      "\t\n",
      "#RESULTS\n",
      "plot(Vinf,D)\n",
      "xlabel(\"Vinf, ft/sec\")\n",
      "ylabel(\"D, lbf\") \n",
      "suptitle(\"Streamlinedbody curve\")\n",
      "\n",
      "\t#data for curves b,c,d is not given\n"
     ],
     "language": "python",
     "metadata": {},
     "outputs": [
      {
       "output_type": "stream",
       "stream": "stdout",
       "text": [
        "Populating the interactive namespace from numpy and matplotlib\n"
       ]
      },
      {
       "metadata": {},
       "output_type": "pyout",
       "prompt_number": 1,
       "text": [
        "<matplotlib.text.Text at 0x2683050>"
       ]
      },
      {
       "metadata": {},
       "output_type": "display_data",
       "png": "[encoded data removed]",
       "text": [
        "<matplotlib.figure.Figure at 0x2682fd0>"
       ]
      }
     ],
     "prompt_number": 1
    },
    {
     "cell_type": "heading",
     "level": 2,
     "metadata": {},
     "source": [
      "Example 10.3 Page No : 373"
     ]
    },
    {
     "cell_type": "code",
     "collapsed": false,
     "input": [
      "\t\n",
      "#initialisation of variables\n",
      "v1= 10. \t#ft/sec\n",
      "v2m= 9 \t    #ft/sec wide\n",
      "a= 1.02\n",
      "hbyd= 5.95\n",
      "\t\n",
      "#CALCULATIONS\n",
      "ca= (v1/v2m)**2\n",
      "Cd= hbyd*(ca-1+2-2*ca)+2*a*ca\n",
      "\t\n",
      "#RESULTS\n",
      "print  'Drag coeffcieicnt = %.2f'%(Cd)\n"
     ],
     "language": "python",
     "metadata": {},
     "outputs": [
      {
       "output_type": "stream",
       "stream": "stdout",
       "text": [
        "Drag coeffcieicnt = 1.12\n"
       ]
      }
     ],
     "prompt_number": 2
    },
    {
     "cell_type": "heading",
     "level": 2,
     "metadata": {},
     "source": [
      "Example 10.4 Page No : 387"
     ]
    },
    {
     "cell_type": "code",
     "collapsed": false,
     "input": [
      "\t\n",
      "#initialisation of variables\n",
      "A= 320.  \t#ft/**2 area\n",
      "w= 18000. \t#lbf weighs\n",
      "v= 230.  \t#ft/sec normal speed\n",
      "ad= 0.0765 \t#lbm/ft**3 density\n",
      "p= 5.    \t#per cent of the total lift force\n",
      "c= 0.055\n",
      "n= 1.75     # total drag\n",
      "g= 32.2 \t#ft/sec**2\n",
      "\t\n",
      "#CALCULATIONS\n",
      "CL= 2*w*(1-(p/100))*g/(ad*v**2*A)\n",
      "D= w*(1-(p/100))*c*n/CL\n",
      "\t\n",
      "#RESULTS\n",
      "print  ' lift coefficient = %.2f'%(CL)\n",
      "print  ' Drag force = %.f'%(D)\n",
      "\n",
      "# note : answer is accurate"
     ],
     "language": "python",
     "metadata": {},
     "outputs": [
      {
       "output_type": "stream",
       "stream": "stdout",
       "text": [
        " lift coefficient = 0.85\n",
        " Drag force = 1935\n"
       ]
      }
     ],
     "prompt_number": 6
    },
    {
     "cell_type": "heading",
     "level": 2,
     "metadata": {},
     "source": [
      "Example 10.5 Page No : 396"
     ]
    },
    {
     "cell_type": "code",
     "collapsed": false,
     "input": [
      "import math \n",
      "\t\n",
      "#initialisation of variables\n",
      "bi= 70. \t#degrees outlet angels\n",
      "i= 8.    \t#degrees incidence angle\n",
      "bo= 130. \t#degrees outlet angels\n",
      "s= 5.    \t#degrees\n",
      "vi= 1200. \t#ft/sec\n",
      "g= 32.2 \t#ft/sec**2\n",
      "a= 0.48\n",
      "s1= 1.4 \t#in\n",
      "b= 5.    \t#in\n",
      "Cx= 0.06    # co-efficient \n",
      "\t\n",
      "#CALCULATIONS\n",
      "O= bo-s-bi+i\n",
      "Vo= vi*math.sin(math.radians(bi-i))/math.sin(math.radians(bo-s))\n",
      "Fy= -a*vi*math.sin(math.radians(bi-i))*(s1/12)*(b/12)*(Vo*math.cos(math.radians(bo-s))-vi*math.cos(math.radians(bi-i)))/g\n",
      "dp= a*(Vo**2*(1+Cx)-vi**2)/(2*g)\n",
      "\t\n",
      "#RESULTS\n",
      "print  'Fluid deflection angle = %.f degrees'%(O)\n",
      "print  ' Vo = %.f ft/sec'%(Vo)\n",
      "print  ' Force on each blade = %.f lbf'%(Fy)\n",
      "print  ' Pressure difference = %.f lbf/ft**2'%(dp)\n",
      "\n",
      "# note : answer is accurate. please check."
     ],
     "language": "python",
     "metadata": {},
     "outputs": [
      {
       "output_type": "stream",
       "stream": "stdout",
       "text": [
        "Fluid deflection angle = 63 degrees\n",
        " Vo = 1293 ft/sec\n",
        " Force on each blade = 1002 lbf\n",
        " Pressure difference = 2485 lbf/ft**2\n"
       ]
      }
     ],
     "prompt_number": 7
    },
    {
     "cell_type": "heading",
     "level": 2,
     "metadata": {},
     "source": [
      "Example 10.6 Page No : 397"
     ]
    },
    {
     "cell_type": "code",
     "collapsed": false,
     "input": [
      "import math \n",
      "\t\n",
      "#initialisation of variables\n",
      "ari= 62. \t#degrees\n",
      "aro= 125. \t#degrees\n",
      "vri= 1200. \t#ft/sec\n",
      "vro= 1294. \t#ft/sec\n",
      "vrr= 550. \t#ft/sec velocity\n",
      "\t\n",
      "#CALCULATIONS\n",
      "v1= vri*math.sin(math.radians(ari))\n",
      "v2= vrr+vri*math.cos(math.radians(ari))\n",
      "vi= math.sqrt(v1**2+v2**2)\n",
      "ai= round(math.degrees(math.atan(v1/v2)),1)\n",
      "vo= round(vro*math.sin(math.radians(aro)))\n",
      "vo1= round(vro*math.cos(math.radians(aro))+vrr)\n",
      "vo2= round(math.sqrt(vo**2+vo1**2))\n",
      "ao= math.degrees(math.atan(vo/vo1))+180\n",
      "\n",
      "#RESULTS\n",
      "print  ' absolute velocity = %.f ft/sec'%(vi)\n",
      "print  ' direction = %.1f degrees'%(ai)\n",
      "print  ' absolute velocity = %.f ft/sec'%(vo2)\n",
      "print  ' direction = %.1f degrees'%(ao)\n"
     ],
     "language": "python",
     "metadata": {},
     "outputs": [
      {
       "output_type": "stream",
       "stream": "stdout",
       "text": [
        " absolute velocity = 1537 ft/sec\n",
        " direction = 43.6 degrees\n",
        " absolute velocity = 1077 ft/sec\n",
        " direction = 100.3 degrees\n"
       ]
      }
     ],
     "prompt_number": 8
    }
   ],
   "metadata": {}
  }
 ]
}