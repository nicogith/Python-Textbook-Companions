{
 "metadata": {
  "name": "",
  "signature": "sha256:d460554b2abe6f6d6700d68291fcbf83cdf7b3bd9d716f5a9395eef88b744934"
 },
 "nbformat": 3,
 "nbformat_minor": 0,
 "worksheets": [
  {
   "cells": [
    {
     "cell_type": "heading",
     "level": 1,
     "metadata": {},
     "source": [
      "Chapter 11 : Turbomachines:Elementary Analysis"
     ]
    },
    {
     "cell_type": "heading",
     "level": 2,
     "metadata": {},
     "source": [
      "Example 11.1 Page No : 426"
     ]
    },
    {
     "cell_type": "code",
     "collapsed": false,
     "input": [
      "import math \n",
      "from sympy.functions.elementary.trigonometric import acot\n",
      "\n",
      "#initialisation of variables\n",
      "rt= 1.3 \t#ft\n",
      "rr= 0.6 \t#ft\n",
      "Q= 75.   \t#ft**3 flow rate\n",
      "rm= 0.95\n",
      "w1= 40.  \t#rev/sec \n",
      "bim= 153. \t#degrees blade inlet angle\n",
      "bom= 147. \t#degrees blade outlet angle\n",
      "w= 62.4 \t#lb/ft**3\n",
      "g= 32.2 \t#ft/sec**2\n",
      "\t\n",
      "#CALCULATIONS\n",
      "A= round(math.pi*(rt**2-rr**2),2)\n",
      "Va= round(Q/A,2)\n",
      "Vbm= rm*w1\n",
      "#a= -1/math.degrees(math.atan(-Vbm/Va))\n",
      "a = math.degrees(acot(-Vbm/Va))\n",
      "im= a-bim\n",
      "vwm= Vbm+Va*1/math.tan(math.radians(bom))\n",
      "dvwm= rm*vwm\n",
      "C= w*Q*dvwm/g\n",
      "Cw= C*w1\n",
      "dp= Cw/Q\n",
      "\n",
      "#RESULTS\n",
      "print  ' Incidence = %.1f degrees'%(im) \n",
      "print  ' Oulet velocity = %.2f ft/sec'%(vwm)\n",
      "print  ' Change of whirl at the mean radius = %.2f ft**2/sec'%(dvwm)\n",
      "\n",
      "print  ' Torque = %.f lbf/ft'%(C)\n",
      "print  ' Rate of working = %.f ft lbf/sec'%(Cw)\n",
      "print  ' Workdone by the rotor = %.f lbf/ft**2'%(dp)\n",
      "\n",
      "# note : answer in book is wrong. please check manually."
     ],
     "language": "python",
     "metadata": {},
     "outputs": [
      {
       "output_type": "stream",
       "stream": "stdout",
       "text": [
        " Incidence = -178.3 degrees\n",
        " Oulet velocity = 10.37 ft/sec\n",
        " Change of whirl at the mean radius = 9.86 ft**2/sec\n",
        " Torque = 1432 lbf/ft\n",
        " Rate of working = 57300 ft lbf/sec\n",
        " Workdone by the rotor = 764 lbf/ft**2\n"
       ]
      }
     ],
     "prompt_number": 26
    },
    {
     "cell_type": "heading",
     "level": 2,
     "metadata": {},
     "source": [
      "Example 11.2 Page No : 428"
     ]
    },
    {
     "cell_type": "code",
     "collapsed": false,
     "input": [
      "import math\n",
      "\n",
      "#initialisation of variables\n",
      "vbm= 38. \t#ft/sec\n",
      "va= 17.94 \t#ft/sec\n",
      "a= 147.5 \t#degrees\n",
      "vwm= 10.37 \t#ft/sec\n",
      "C= 1430. \t#lbf/ft\n",
      "P= 763. \t#lbf/ft**2\n",
      "\t\n",
      "#CALCULATIONS\n",
      "vwm1= vbm+va*1/math.tan(math.radians(a))\n",
      "p= (vwm-vwm1)/vwm\n",
      "C1= C*(1-p)\n",
      "P1= P*(1-p)\n",
      "\t\n",
      "#RESULTS\n",
      "print  ' Oulet Velocity = %.2f ft/sec'%(vwm1) \n",
      "print  ' Torque = %.f lbf/ft'%(round(C1,-1))\n",
      "print  ' Workdone by the rotor = %.f lbf/ft**2'%(P1)\n"
     ],
     "language": "python",
     "metadata": {},
     "outputs": [
      {
       "output_type": "stream",
       "stream": "stdout",
       "text": [
        " Oulet Velocity = 9.84 ft/sec\n",
        " Torque = 1360 lbf/ft\n",
        " Workdone by the rotor = 724 lbf/ft**2\n"
       ]
      }
     ],
     "prompt_number": 3
    },
    {
     "cell_type": "heading",
     "level": 2,
     "metadata": {},
     "source": [
      "Example 11.3 Page No : 430"
     ]
    },
    {
     "cell_type": "code",
     "collapsed": false,
     "input": [
      "import math\n",
      "from sympy.functions.elementary.trigonometric import acot\n",
      "\t\n",
      "#initialisation of variables\n",
      "a= 154 \t    #degrees\n",
      "vbm= 38 \t#ft/sec\n",
      "bom= 147 \t#degrees outlet angle\n",
      "vwm= -7.78 \t#ft/sec outlet whirl velocity\n",
      "w= 62.4 \t#lbf/ft**3\n",
      "g= 32.2 \t#ft/sec**2\n",
      "vb= 38    \t#ft/sec velocity\n",
      "A= 4.18 \t#ft**2 flow area\n",
      "e= 0.95\n",
      "\t\n",
      "#CALCULATIONS\n",
      "vat= (vwm-vb)*math.tan(math.radians(bom))\n",
      "Q= vat*A\n",
      "#a1= 1/math.tan(math.radians(-vbm/vat))\n",
      "a1 = math.degrees(acot(-vbm/vat))\n",
      "imt= a1-a\n",
      "C= w*Q*vwm*e/g\n",
      "\n",
      "#RESULTS\n",
      "print  ' Flow rate = %.1f ft**3'%(Q)\n",
      "print  ' Incidence angle= %.f degrees'%(imt)\n",
      "print  ' Torque= %.f lbf ft'%(C)\n",
      "#Incorrect value for a1 in textbook. Hence the difference in answers"
     ],
     "language": "python",
     "metadata": {},
     "outputs": [
      {
       "output_type": "stream",
       "stream": "stdout",
       "text": [
        " Flow rate = 124.3 ft**3\n",
        " Incidence angle= -192 degrees\n",
        " Torque= -1780 lbf ft\n"
       ]
      }
     ],
     "prompt_number": 27
    },
    {
     "cell_type": "heading",
     "level": 2,
     "metadata": {},
     "source": [
      "Example 11.4 Page No : 435"
     ]
    },
    {
     "cell_type": "code",
     "collapsed": false,
     "input": [
      "import math \n",
      "from numpy import *\n",
      "\t\n",
      "#initialisation of variables\n",
      "rt= 0.5 \t#ft radius\n",
      "rr= 0.16 \t#ft root radius\n",
      "dv1= 88.3 \t#ft/sec\n",
      "b= 150.  \t#degrees\n",
      "r= array([0.16, 0.3, 0.5])\n",
      "vw= array([2.5, 5, 7.5])\n",
      "vb= array([46.6, 88.3, 132.5])\n",
      "vrb= array([44.16, 88.3, 132.5])\n",
      "v1= array([-1.154, -0.385])\n",
      "\t\n",
      "#CALCULATIONS\n",
      "A= math.pi*(rt**2-rr**2)\n",
      "Va= -dv1*math.tan(math.radians(b))\n",
      "Q= Va*A\n",
      "ari = degrees((arctan(Va/(vw - vb)))) + 180\n",
      "ari = array([ari[0],ari[2]])\n",
      "#a= tan(radians(v1))+180\n",
      "b = degrees(math.tan(0.577))\n",
      "i = ari - 150\n",
      "\n",
      "#RESULTS\n",
      "print  ' Velocity = %.2f ft/sec'%(Va)\n",
      "print  ' Flow rate = %.1f ft**3'%(Q)\n",
      "\n",
      "print (v1)\n",
      "print (ari)\n",
      "print (i)\n",
      "\n",
      "# rounding off error. and for 'i' answer is wrong. please check. "
     ],
     "language": "python",
     "metadata": {},
     "outputs": [
      {
       "output_type": "stream",
       "stream": "stdout",
       "text": [
        " Velocity = 50.98 ft/sec\n",
        " Flow rate = 35.9 ft**3\n",
        "[-1.154 -0.385]\n",
        "[ 130.86126801  157.81238868]\n",
        "[-19.13873199   7.81238868]\n"
       ]
      }
     ],
     "prompt_number": 28
    },
    {
     "cell_type": "heading",
     "level": 2,
     "metadata": {},
     "source": [
      "Example 11.5 Page No : 436"
     ]
    },
    {
     "cell_type": "code",
     "collapsed": false,
     "input": [
      "import math \n",
      "from numpy import *\n",
      "\t\n",
      "#initialisation of variables\n",
      "rt= 0.5 \t#ft\n",
      "rr= 0.16 \t#ft\n",
      "dv1= 88.3 \t#ft/sec\n",
      "b= 150.  \t#degrees\n",
      "a= 5.    \t#degrees mean radius\n",
      "v1= array([-0.933 ,-0.311])\n",
      "i= array([1.0, 5.0 ,6.7])\n",
      "\t\n",
      "#CALCULATIONS\n",
      "b1= b+a\n",
      "A= math.pi*(rt**2-rr**2)\n",
      "Va= -dv1*math.radians(math.tan(b1))\n",
      "Q= Va*A\n",
      "a1= degrees(tan(v1))+180\n",
      "\n",
      "\t\n",
      "#RESULTS\n",
      "print  ' Velocity = %.2f ft/sec'%(Va)\n",
      "print  ' Flow rate = %.1f ft**3/sec'%(Q)\n",
      "\n",
      "print (v1)\n",
      "print (a1)\n",
      "print (i)\n",
      "#Incorrect calculations in textbook"
     ],
     "language": "python",
     "metadata": {},
     "outputs": [
      {
       "output_type": "stream",
       "stream": "stdout",
       "text": [
        "Velocity = -2.76 ft/sec\n",
        " Flow rate = -1.9 ft**3/sec\n",
        "[-0.933 -0.311]\n",
        "[ 102.69071396  161.58339075]\n",
        "[ 1.   5.   6.7]\n"
       ]
      }
     ],
     "prompt_number": 6
    },
    {
     "cell_type": "heading",
     "level": 2,
     "metadata": {},
     "source": [
      "Example 11.6 Page No : 439"
     ]
    },
    {
     "cell_type": "code",
     "collapsed": false,
     "input": [
      "import math \n",
      "\t\n",
      "#initialisation of variables\n",
      "r= 1.    \t#in\n",
      "b= 0.75 \t#in rotor inlet width\n",
      "w= 180.  \t#rev/sec\n",
      "B= 120. \t#degrees blade inlet angle\n",
      "Bo= 150. \t#degrees blade outlet angle\n",
      "ro= 3.   \t#ft\n",
      "bo= 0.5 \t#ft\n",
      "Vbo= 180. \t#ft/sec\n",
      "w1= 62.4 \t#lbf/ft**3 density\n",
      "g= 32.2 \t#ft/sec**2\n",
      "\t\n",
      "#CALCULATIONS\n",
      "Q= -2*math.pi*(r/12)**2*(b/12)*w*math.tan(math.radians(B))\n",
      "Vfo= Q/(2*math.pi*(ro/12)*(bo/12))\n",
      "Vwo= Vbo*(ro/12)+Vfo*1/math.tan(math.radians(Bo))\n",
      "C= w1*Q*Vwo*(ro/12)/g\n",
      "dp= w1*Vwo*w*(ro/12)/g\n",
      "ari= degrees(math.atan((-Q*0.8/(2*math.pi*(r/12)**2*(b/12)*w))))+180\n",
      "i1= ari-B\n",
      "\n",
      "#RESULTS\n",
      "print  ' Flow rate = %.2f ft**3/sec'%(Q)\n",
      "print  ' radial velocity= %.2f ft/sec'%(Vfo)\n",
      "print  ' outlet whirl velocity= %.2f ft/sec'%(Vwo)\n",
      "print  ' Torque= %.2f lbf ft'%(C)\n",
      "print  ' Stagnant pressure = %.f lbf/ft**2'%(dp)\n",
      "print  ' Incidence angle = %.1f degrees'%(i1)\n"
     ],
     "language": "python",
     "metadata": {},
     "outputs": [
      {
       "output_type": "stream",
       "stream": "stdout",
       "text": [
        " Flow rate = 0.85 ft**3/sec\n",
        " radial velocity= 12.99 ft/sec\n",
        " outlet whirl velocity= 22.50 ft/sec\n",
        " Torque= 9.27 lbf ft\n",
        " Stagnant pressure = 1962 lbf/ft**2\n",
        " Incidence angle = 5.8 degrees\n"
       ]
      }
     ],
     "prompt_number": 29
    },
    {
     "cell_type": "heading",
     "level": 2,
     "metadata": {},
     "source": [
      "Example 11.7 Page No : 447"
     ]
    },
    {
     "cell_type": "code",
     "collapsed": false,
     "input": [
      "import math \n",
      "\t\n",
      "#initialisation of variables\n",
      "r= 1.4\n",
      "Mai= 0.5    \t#ft/sec mach number\n",
      "T= 582.     \t#R temperature\n",
      "psi= 3040.  \t#lbf/in**2 pressure\n",
      "R= 53.3 \t    #ft lbf/lbm gas\n",
      "g= 32.2      \t#ft/sec**2\n",
      "Vwi= 300.    \t#ft/sec velocity\n",
      "m= 35.       \t#lb/sec\n",
      "rm= 0.7 \t    #ft radius\n",
      "rp= 4.25\n",
      "w= 1200.     \t#rev/sec\n",
      "cp= 0.24\n",
      "J= 778.      \t#lb\n",
      "\t\n",
      "#CALCULATIONS\n",
      "tr= 1+0.5*(r-1)*Mai**2\n",
      "Ti= round(T/tr)\n",
      "pr= tr**(r/(r-1))\n",
      "pi= psi/pr\n",
      "ai= pi/(R*Ti)\n",
      "Vi= Mai*(r*R*g*Ti)**0.5\n",
      "Vai= math.sqrt(Vi**2-Vwi**2)\n",
      "h= m/(2*math.pi*ai*rm*Vai)\n",
      "pr1= rp**(1./12)\n",
      "Vwo= Vwi+(pr1**((r-1)/r)-1)*(cp*J*g*T/(rm*w))\n",
      "BO= 1/math.tan(math.radians((Vwo-w*rm)/Vai))\n",
      "\n",
      "\n",
      "#RESULTS\n",
      "print  ' Absolute air velocity = %.f ft/sec'%(Vi)\n",
      "print  ' air velocity = %.f ft/sec'%(Vai)\n",
      "print  ' Blade height = %.3f ft'%(h)\n",
      "print  ' velocity = %.f ft/sec'%(Vwo)\n",
      "print  ' outlet balde angle = %.1f degrees'%(BO) #incorrect answer in the textbook\n"
     ],
     "language": "python",
     "metadata": {},
     "outputs": [
      {
       "output_type": "stream",
       "stream": "stdout",
       "text": [
        " Absolute air velocity = 577 ft/sec\n",
        " air velocity = 493 ft/sec\n",
        " Blade height = 0.186 ft\n",
        " velocity = 446 ft/sec\n",
        " outlet balde angle = -71.7 degrees\n"
       ]
      }
     ],
     "prompt_number": 30
    }
   ],
   "metadata": {}
  }
 ]
}