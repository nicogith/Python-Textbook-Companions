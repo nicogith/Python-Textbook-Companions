{
 "metadata": {
  "name": "",
  "signature": "sha256:747d23d1d49d9ec45297f78a51cc698e8f77e86dac46ee6fa2ac037964e152b9"
 },
 "nbformat": 3,
 "nbformat_minor": 0,
 "worksheets": [
  {
   "cells": [
    {
     "cell_type": "heading",
     "level": 1,
     "metadata": {},
     "source": [
      "Chapter 12 : Turbomachines: Further Analysis"
     ]
    },
    {
     "cell_type": "heading",
     "level": 2,
     "metadata": {},
     "source": [
      "Example 12.1 Page No : 461"
     ]
    },
    {
     "cell_type": "code",
     "collapsed": false,
     "input": [
      "%matplotlib inline\n",
      "from matplotlib.pyplot import *\n",
      "import math \n",
      "\t\n",
      "#initialisation of variables\n",
      "d= 0.0764 \t        #lbm/ft**3\n",
      "u= 3.74*10**-7 \t    #lbf sec/ft**2\n",
      "D= 15.           \t#in\n",
      "g= 32.2 \t        #ft/sec**2\n",
      "p= 14.7 \t        #lb/in**2\n",
      "r1= [0.02, 0.04, 0.06, 0.08, 0.1, 1.15]\n",
      "r2= [0.0338, 0.0267, 0.0199, 0.0159, 0.0132, 0.0100]\n",
      "r3= [0.46, 0.92, 1.38, 1.84, 2.3, 2.64]\n",
      "r4= [2.97, 2.35, 1.75, 1.4, 1.16, 0.88]\n",
      "r5= [0.0206, 0.0163, 0.0121, 0.0097, 0.0081, 0.0061]\n",
      "\t\n",
      "#CALCULATIONS\n",
      "re= (d/u)*(p*100*2*math.pi/60)*(D/12)**2/g\n",
      "\t\n",
      "#RESULTS\n",
      "print  'Reynolds Number = %.2e '%(re)\n",
      "print \"m/qwD**3     g0deltaPe/QW**2D**2     m(lbm/sec)      deltap(lbf/ft**2)      deltap(lbf/in**2)\"\n",
      "for i in range(len(r1)):\n",
      "    print \"%7.2f     %8.4f              %7.2f         %7.2f              %8.4f\"%(r1[i],r2[i],r3[i],r4[i],r5[i])\n",
      "\n",
      "plot(r3,r5)\n",
      "xlabel(\"m lbm/sec\")\n",
      "ylabel( \"dPs lbf/ft**2\") \n",
      "suptitle(\"Actual perfomance curve\")\n"
     ],
     "language": "python",
     "metadata": {},
     "outputs": [
      {
       "output_type": "stream",
       "stream": "stdout",
       "text": [
        "Populating the interactive namespace from numpy and matplotlib\n",
        "Reynolds Number = 1.53e+06 \n",
        "m/qwD**3     g0deltaPe/QW**2D**2     m(lbm/sec)      deltap(lbf/ft**2)      deltap(lbf/in**2)\n",
        "   0.02       0.0338                 0.46            2.97                0.0206\n",
        "   0.04       0.0267                 0.92            2.35                0.0163\n",
        "   0.06       0.0199                 1.38            1.75                0.0121\n",
        "   0.08       0.0159                 1.84            1.40                0.0097\n",
        "   0.10       0.0132                 2.30            1.16                0.0081\n",
        "   1.15       0.0100                 2.64            0.88                0.0061\n"
       ]
      },
      {
       "metadata": {},
       "output_type": "pyout",
       "prompt_number": 1,
       "text": [
        "<matplotlib.text.Text at 0x1c015d0>"
       ]
      },
      {
       "metadata": {},
       "output_type": "display_data",
       "png": "[encoded data removed]",
       "text": [
        "<matplotlib.figure.Figure at 0x1c01590>"
       ]
      }
     ],
     "prompt_number": 1
    },
    {
     "cell_type": "heading",
     "level": 2,
     "metadata": {},
     "source": [
      "Example 12.2 Page No : 464"
     ]
    },
    {
     "cell_type": "code",
     "collapsed": false,
     "input": [
      "import math \n",
      "\t\n",
      "#initialisation of variables\n",
      "psif= 10.2       \t#lbf/in**2 pressure\n",
      "usit= 3.8*10**-7 \t#lbf sec/ft**2 viscosity\n",
      "usif= 3.52*10**-7 \t#lbf sec/ft**2 viscosity\n",
      "Tsit= 530.       \t#R temperature\n",
      "Tsif= 480.          #R temperature\n",
      "wf= 15000.       \t#rev/min speed\n",
      "\t\n",
      "#CALCULATIONS\n",
      "Psit= psif*usit*math.sqrt(Tsit/Tsif)/usif\n",
      "wt= wf*math.sqrt(Tsit/Tsif)\n",
      "\t\n",
      "#RESULTS\n",
      "print  'Pressure in the test cell = %.1f lbf/in**2'%(Psit) \n",
      "print  ' Compressor speed = %.f rev.min'%(wt) \n",
      "\n",
      "# book answer is wrong."
     ],
     "language": "python",
     "metadata": {},
     "outputs": [
      {
       "output_type": "stream",
       "stream": "stdout",
       "text": [
        "Pressure in the test cell = 11.6 lbf/in**2\n",
        " Compressor speed = 15762 rev.min\n"
       ]
      }
     ],
     "prompt_number": 2
    },
    {
     "cell_type": "heading",
     "level": 2,
     "metadata": {},
     "source": [
      "Example 12.3 Page No : 474"
     ]
    },
    {
     "cell_type": "code",
     "collapsed": false,
     "input": [
      "import math \n",
      "\t\n",
      "#initialisation of variables\n",
      "w= 62.3 \t#lbf/ft**3 weight\n",
      "d= 0.375 \t#in diameter\n",
      "ro= 0.75 \t#ft radius\n",
      "l= 1.25 \t#ft length\n",
      "b= 120. \t#degrees angle\n",
      "do= 0.25 \t#in diameter\n",
      "p= 750. \t#lbf/in**2\n",
      "g= 32.1 \t#ft/sec**2\n",
      "f= 0.03     # friction factor\n",
      "f1= 0.9\n",
      "f2= 0.3\n",
      "w1= 60. \t#rad/sec\n",
      "\t\n",
      "#CALCULATIONS\n",
      "Q= math.sqrt(((p/w)+((60*ro)**2/(2*g))+do)*math.pi**2*g*(d/12)**4/((d/do)**4-1+(l*f/(d/12))+f1+f2))*0.353\n",
      "Vwo= w1*ro+(4*Q/(math.pi*(do/12)**2))*math.cos(math.radians(b))\n",
      "C= w*Q*Vwo*ro/g\n",
      "\t\n",
      "#RESULTS\n",
      "print  ' Flow Rate = %.4f ft**3/sec'%(Q) \n",
      "print  ' Vwo = %.2f ft/sec'%(Vwo) \n",
      "print  ' Driving Torque = %.3f lbf ft'%(C) \n"
     ],
     "language": "python",
     "metadata": {},
     "outputs": [
      {
       "output_type": "stream",
       "stream": "stdout",
       "text": [
        " Flow Rate = 0.0160 ft**3/sec\n",
        " Vwo = 21.56 ft/sec\n",
        " Driving Torque = 0.502 lbf ft\n"
       ]
      }
     ],
     "prompt_number": 3
    },
    {
     "cell_type": "heading",
     "level": 2,
     "metadata": {},
     "source": [
      "Example 12.4 Page No : 491"
     ]
    },
    {
     "cell_type": "code",
     "collapsed": false,
     "input": [
      "\t\n",
      "#initialisation of variables\n",
      "W= 38.   \t#rev/sec speed\n",
      "w= 62.4 \t#lbf/ft**3 density\n",
      "m= 2000. \t#lbm/sec flow rate\n",
      "g= 32.2 \t#ft/sec**2\n",
      "ps= 5000. \t#lbf/ft**2 pressure rise\n",
      "S3= 4.6\n",
      "e= 0.91\n",
      "\t\n",
      "#CALCULATIONS\n",
      "S1= W*(w*m**2/(g*ps)**3)**0.25\n",
      "D= S3*(m**2/(w*g*ps))**0.25\n",
      "\t\n",
      "#RESULTS\n",
      "print  ' S1 = %.3f'%(S1)  \n",
      "print  ' Diameter = %.2f ft'%(D)  \n",
      "print  ' efficiency = %.2f '%(e)\n",
      "\n"
     ],
     "language": "python",
     "metadata": {},
     "outputs": [
      {
       "output_type": "stream",
       "stream": "stdout",
       "text": [
        " S1 = 0.594\n",
        " Diameter = 3.65 ft\n",
        " efficiency = 0.91 \n"
       ]
      }
     ],
     "prompt_number": 4
    },
    {
     "cell_type": "heading",
     "level": 2,
     "metadata": {},
     "source": [
      "Example 12.5 Page No : 495"
     ]
    },
    {
     "cell_type": "code",
     "collapsed": false,
     "input": [
      "import math \n",
      "\t\n",
      "#initialisation of variables\n",
      "d= 6.    \t#in diameter\n",
      "f= 0.25\n",
      "l= 1200. \t#ft long\n",
      "p= 55.   \t#lbm/ft**3\n",
      "w= 740.  \t#rev/min\n",
      "g= 32.2 \t#ft/sec**2\n",
      "n= 0.87     # efficiency\n",
      "d1= 1.78 \t#ft\n",
      "\t\n",
      "#CALCULATIONS\n",
      "D= (0.13*math.pi**2*(d/12)**5/(8*f*l*0.012**2))**0.25*d1\n",
      "m= 0.012*p*(w*2*math.pi/60)*D**3\n",
      "dps= 0.13*p*(w*2*math.pi*D/60)**2/g\n",
      "P= m*10*dps/(p*n)\n",
      "\t\n",
      "#RESULTS\n",
      "print  ' Diameter = %.2f ft'%(D) \n",
      "print  ' Mass flow rate = %.1f lbm/sec'%(m) \n",
      "print  ' pressure rise = %.1f lbf/ft**2'%(round(dps,-1))\n",
      "print  ' shaft power = %.2e ft lbf/sec'%(P)\n",
      "\n",
      "# rounding off error"
     ],
     "language": "python",
     "metadata": {},
     "outputs": [
      {
       "output_type": "stream",
       "stream": "stdout",
       "text": [
        " Diameter = 1.04 ft\n",
        " Mass flow rate = 57.3 lbm/sec\n",
        " pressure rise = 1440.0 lbf/ft**2\n",
        " shaft power = 1.72e+04 ft lbf/sec\n"
       ]
      }
     ],
     "prompt_number": 5
    }
   ],
   "metadata": {}
  }
 ]
}