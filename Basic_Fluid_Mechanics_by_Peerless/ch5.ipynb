{
 "metadata": {
  "name": "",
  "signature": "sha256:925f1eedf50c877ed321461a7c6fe2319e03573a843bd9a8a44c0d22ceada0ec"
 },
 "nbformat": 3,
 "nbformat_minor": 0,
 "worksheets": [
  {
   "cells": [
    {
     "cell_type": "heading",
     "level": 1,
     "metadata": {},
     "source": [
      "Chapter 5 : Control-Volume Analysis"
     ]
    },
    {
     "cell_type": "heading",
     "level": 2,
     "metadata": {},
     "source": [
      "Example 5.1 Page No : 114"
     ]
    },
    {
     "cell_type": "code",
     "collapsed": false,
     "input": [
      "\t\n",
      "#initialisation of variables\n",
      "w= 20.   \t#lbm/sec plant rate\n",
      "sh= 0.004\n",
      "mw2= 0.12 \t#lbm/sec stream rate\n",
      "ma3= 12.2 \t#lbm/sec rates of air\n",
      "mw3= 0.130 \t#lbm/sec water rate\n",
      "\t\n",
      "#CALCULATIONS\n",
      "mw1= w/((1/sh)+1)\n",
      "ma1= w-mw1\n",
      "ma4= ma1-ma3\n",
      "mw4= mw1+mw2-mw3\n",
      "mr= ma4+mw4\n",
      "sh1= mw4/ma4\n",
      "\t\n",
      "#RESULTS\n",
      "print  ' mw1 = %.4f lbm/sec'%(mw1)\n",
      "print  ' ma1 = %.2f lbm/sec'%(ma1)\n",
      "print  ' ma4 = %.2f lbm/sec'%(ma4)\n",
      "print  ' mw4 = %.4f lbm/sec'%(mw4)\n",
      "print  ' mr = %.2f lbm/sec'%(mr)\n",
      "print  ' specific humidity = %.5f lbm/sec'%(sh1)\n"
     ],
     "language": "python",
     "metadata": {},
     "outputs": [
      {
       "output_type": "stream",
       "stream": "stdout",
       "text": [
        " mw1 = 0.0797 lbm/sec\n",
        " ma1 = 19.92 lbm/sec\n",
        " ma4 = 7.72 lbm/sec\n",
        " mw4 = 0.0697 lbm/sec\n",
        " mr = 7.79 lbm/sec\n",
        " specific humidity = 0.00903 lbm/sec\n"
       ]
      }
     ],
     "prompt_number": 1
    },
    {
     "cell_type": "heading",
     "level": 2,
     "metadata": {},
     "source": [
      "Example 5.2 Page No : 131"
     ]
    },
    {
     "cell_type": "code",
     "collapsed": false,
     "input": [
      "import math \n",
      "\t\n",
      "#initialisation of variables\n",
      "w= 62.4 \t#lbf/ft**3 fluid density\n",
      "g= 32.2 \t#ft/sec**2 \n",
      "v= 86.5 \t#ft/sec velocity\n",
      "d2= 3.  \t#in\n",
      "d1= 6.  \t#in\n",
      "dp= 50. \t#lbf/in**2 gauge pressure\n",
      "\t\n",
      "#CALCULATIONS\n",
      "Fb= ((math.pi*(w/g)*v**2*(1/d1)**2*(1-(d2/d1)**2)*0.25)-dp*144*(math.pi/4)*(1/d2)**2)\n",
      "\t\n",
      "#RESULTS\n",
      "print  'Load on the bolts = %.f lbf'%(Fb)\n"
     ],
     "language": "python",
     "metadata": {},
     "outputs": [
      {
       "output_type": "stream",
       "stream": "stdout",
       "text": [
        "Load on the bolts = -391 lbf\n"
       ]
      }
     ],
     "prompt_number": 2
    },
    {
     "cell_type": "heading",
     "level": 2,
     "metadata": {},
     "source": [
      "Example 5.3 Page No : 133"
     ]
    },
    {
     "cell_type": "code",
     "collapsed": false,
     "input": [
      "import math \n",
      "\t\n",
      "#initialisation of variables\n",
      "F1= 237. \t#lb\n",
      "dp= 50. \t#lbf/in**2\n",
      "D= 6.    \t#in diameter\n",
      "\t\n",
      "#CALCULATIONS\n",
      "F2= dp*144*(math.pi/4)*(D/12)**2\n",
      "Fb= F1-F2\n",
      "\t\n",
      "#RESULTS\n",
      "\n",
      "print  'Load on the bolts = %.f lbf'%(Fb)\n",
      "#rounding-off error"
     ],
     "language": "python",
     "metadata": {},
     "outputs": [
      {
       "output_type": "stream",
       "stream": "stdout",
       "text": [
        "Load on the bolts = -1177 lbf\n"
       ]
      }
     ],
     "prompt_number": 3
    },
    {
     "cell_type": "heading",
     "level": 2,
     "metadata": {},
     "source": [
      "Example 5.5 Page No : 137"
     ]
    },
    {
     "cell_type": "code",
     "collapsed": false,
     "input": [
      "import math \n",
      "\t\n",
      "#initialisation of variables\n",
      "w1= 0.0286 \t#lbm/ft**3 density\n",
      "v= 2500. \t#ft/sec velocity\n",
      "A= 2.5   \t#ft**3 area\n",
      "k= 0.015\n",
      "p2= 700. \t#lbf/ft**2\n",
      "p1= 628. \t#lbf/ft**2 pressure\n",
      "v2= 3500. \t#ft/sec outlet\n",
      "g= 32.17 \t#ft/sec**2\n",
      "\t\n",
      "#CALCULATIONS\n",
      "ma= w1*v*A\n",
      "mf= round(k*ma,2)\n",
      "mt= round(ma+mf,1)\n",
      "F= (p2-p1)*A+(mt*v2/g)-(ma*v/g)\n",
      "\n",
      "\n",
      "#RESULTS\n",
      "print  ' air mass flow rate = %.2f lbm/sec'%(ma)\n",
      "print  ' Fuel flow rate = %.2f lbm/sec'%(mf)\n",
      "print  ' Fuel flow rate at station 2 = %.2f lbm/sec'%(mt)\n",
      "print  ' Thrust force = %d lbf'%(round(F,-1))\n"
     ],
     "language": "python",
     "metadata": {},
     "outputs": [
      {
       "output_type": "stream",
       "stream": "stdout",
       "text": [
        " air mass flow rate = 178.75 lbm/sec\n",
        " Fuel flow rate = 2.68 lbm/sec\n",
        " Fuel flow rate at station 2 = 181.40 lbm/sec\n",
        " Thrust force = 6020 lbf\n"
       ]
      }
     ],
     "prompt_number": 4
    }
   ],
   "metadata": {}
  }
 ]
}