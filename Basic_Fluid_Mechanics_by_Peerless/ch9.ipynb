{
 "metadata": {
  "name": "",
  "signature": "sha256:cf784c378e9383adb15dcad9ef6ad8b764187d7f185393fb16ff16d5b2a1ed70"
 },
 "nbformat": 3,
 "nbformat_minor": 0,
 "worksheets": [
  {
   "cells": [
    {
     "cell_type": "heading",
     "level": 1,
     "metadata": {},
     "source": [
      "Chapter 9 : Analysis of Two-Dimensional, Constant-Density, Turbulent Flow"
     ]
    },
    {
     "cell_type": "heading",
     "level": 2,
     "metadata": {},
     "source": [
      "Example 9.1 Page No : 324"
     ]
    },
    {
     "cell_type": "code",
     "collapsed": false,
     "input": [
      "import math \n",
      "\t\n",
      "#initialisation of variables\n",
      "n=7.\n",
      "w= 62.4 \t#lbf/ft**3 density\n",
      "v= 6.   \t#ft/sec velocity\n",
      "d= 2. \t    #in pipe diameter\n",
      "u= 2.34*10**-5 \t#lbf/ft**3 viscosity\n",
      "f= 0.0178\n",
      "g= 32.2 \t#ft/sec**2\n",
      "R= 1.224\n",
      "R1= 8.  \t#ft/sec\n",
      "\t\n",
      "#CALCULATIONS\n",
      "r= (n+1)*(2*n+1)/(2*n**2)\n",
      "Red= w*v*(d/12)/(u*g)\n",
      "C= (d/Red)**(1./7)*R*(R1/f)**(4./7)\n",
      "V = v*math.sqrt(f/8)\n",
      "\t\n",
      "#RESULTS\n",
      "print  ' Vmax/V = %.3f'%(r)\n",
      "print  ' Red = %.2e'%(Red)\n",
      "print  ' C = %.2f'%(C)\n",
      "print  ' Velocity = %.3f ft/sec'%(V)\n"
     ],
     "language": "python",
     "metadata": {},
     "outputs": [
      {
       "output_type": "stream",
       "stream": "stdout",
       "text": [
        " Vmax/V = 1.224\n",
        " Red = 8.28e+04\n",
        " C = 8.79\n",
        " Velocity = 0.283 ft/sec\n"
       ]
      }
     ],
     "prompt_number": 1
    },
    {
     "cell_type": "heading",
     "level": 2,
     "metadata": {},
     "source": [
      "Example 9.3 Page No : 332"
     ]
    },
    {
     "cell_type": "code",
     "collapsed": false,
     "input": [
      "\t\n",
      "#initialisation of variables\n",
      "Re= 5.\n",
      "g= 32.2 \t#ft/sec**2\n",
      "u= 2.34*10**-5 \t#lbf/ft sec\n",
      "w= 62.4 \t#lbf/ft**3\n",
      "v= 0.283 \t#ft/sec\n",
      "Re1= 70.\n",
      "v1= 0.0374 \t#ft/sec\n",
      "\t\n",
      "#CALCULATIONS\n",
      "y= Re*u*g/(w*v)\n",
      "y1= Re1*u*g/(w*v)\n",
      "y2= Re*u*g/(w*v1)\n",
      "y3= Re1*u*g/(w*v1)\n",
      "\t\n",
      "#RESULTS\n",
      "print  ' y = %.6f ft'%(y)\n",
      "print  ' y = %.5f ft'%(y1)\n",
      "print  ' y = %.5f ft'%(y2)\n",
      "print  ' y = %.4f ft'%(y3)\n"
     ],
     "language": "python",
     "metadata": {},
     "outputs": [
      {
       "output_type": "stream",
       "stream": "stdout",
       "text": [
        " y = 0.000213 ft\n",
        " y = 0.00299 ft\n",
        " y = 0.00161 ft\n",
        " y = 0.0226 ft\n"
       ]
      }
     ],
     "prompt_number": 2
    }
   ],
   "metadata": {}
  }
 ]
}