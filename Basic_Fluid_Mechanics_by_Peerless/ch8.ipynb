{
 "metadata": {
  "name": "",
  "signature": "sha256:64db2287da8cb97edd52d96a1a1d6b51c3497c61118b03ae2e2cf16f97e85bf8"
 },
 "nbformat": 3,
 "nbformat_minor": 0,
 "worksheets": [
  {
   "cells": [
    {
     "cell_type": "heading",
     "level": 1,
     "metadata": {},
     "source": [
      "Chapter 8 : Analysis of Two-Dimensional, Constant-Density, Laminar Flow "
     ]
    },
    {
     "cell_type": "heading",
     "level": 2,
     "metadata": {},
     "source": [
      "Example 8.2 Page No : 279"
     ]
    },
    {
     "cell_type": "code",
     "collapsed": false,
     "input": [
      "import math \n",
      "\t\n",
      "#initialisation of variables\n",
      "w= 78.9 \t#lbf.ft**3 weight\n",
      "d= 0.01 \t#in bore\n",
      "u= 8.67*10**-9 \t#lbf/ hr ft**2 viscosity\n",
      "h= 18.   \t#ft\n",
      "l= 10. \t    #ft length\n",
      "\t\n",
      "#CALCULATIONS\n",
      "Q= math.pi*w*(d/12)**4*(h+l)/(l*128*u)\n",
      "\t\n",
      "#RESULTS\n",
      "print  'Flow rate = %.2e ft**3/hr'%(Q)\n"
     ],
     "language": "python",
     "metadata": {},
     "outputs": [
      {
       "output_type": "stream",
       "stream": "stdout",
       "text": [
        "Flow rate = 3.02e-04 ft**3/hr\n"
       ]
      }
     ],
     "prompt_number": 1
    },
    {
     "cell_type": "heading",
     "level": 2,
     "metadata": {},
     "source": [
      "Example 8.3 Page No : 290"
     ]
    },
    {
     "cell_type": "code",
     "collapsed": false,
     "input": [
      "\t\n",
      "#initialisation of variables\n",
      "x= 0.1       \t#ft\n",
      "w= 62.4     \t#lbf/ft**3 fluid density\n",
      "v1= 10.      \t#ft/sec velocity\n",
      "u= 2.4*10**-5 \t#lbf/ft viscosity\n",
      "g= 32.2     \t#ft/sec**2\n",
      "k= 4.91\n",
      "\t\n",
      "#CALCULATIONS\n",
      "s= k*x*(w*v1*x/(u*g))**-0.5\n",
      "Tw= 0.332*w*v1**2*(u*g/(w*x*v1))**0.5/g\n",
      "R= 0.332*6*Tw\n",
      "\t\n",
      "#RESULTS\n",
      "print  'Thickness = %.2e*ft'%(s)\n",
      "print  ' Shear stress = %.3f lbf/ft**2'%(Tw)\n",
      "print  ' Shear stress = %.3f lbf/ft'%(R)\n"
     ],
     "language": "python",
     "metadata": {},
     "outputs": [
      {
       "output_type": "stream",
       "stream": "stdout",
       "text": [
        "Thickness = 1.73e-03*ft\n",
        " Shear stress = 0.226 lbf/ft**2\n",
        " Shear stress = 0.451 lbf/ft\n"
       ]
      }
     ],
     "prompt_number": 2
    },
    {
     "cell_type": "heading",
     "level": 2,
     "metadata": {},
     "source": [
      "Example 8.4 Page No : 298"
     ]
    },
    {
     "cell_type": "code",
     "collapsed": false,
     "input": [
      "\t\n",
      "#initialisation of variables\n",
      "r = 1\n",
      "r1 = 1\n",
      "\t\n",
      "#CALCULATIONS\n",
      "e1= r+r1\n",
      "e2= r-r1\n",
      "\t\n",
      "#RESULTS\n",
      "print  ' vorticity in a forced vortex = %.f*k'%(e1)\n",
      "print  ' vorticity in a free vortex = %.f'%(e2)\n"
     ],
     "language": "python",
     "metadata": {},
     "outputs": [
      {
       "output_type": "stream",
       "stream": "stdout",
       "text": [
        " vorticity in a forced vortex = 2*k\n",
        " vorticity in a free vortex = 0\n"
       ]
      }
     ],
     "prompt_number": 1
    }
   ],
   "metadata": {}
  }
 ]
}