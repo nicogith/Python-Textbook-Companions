{
 "metadata": {
  "name": "",
  "signature": "sha256:943d4576ca0c6a409710e5e5dfd3597778d333997c650e03aa4c9f933860e70a"
 },
 "nbformat": 3,
 "nbformat_minor": 0,
 "worksheets": [
  {
   "cells": [
    {
     "cell_type": "heading",
     "level": 1,
     "metadata": {},
     "source": [
      "Chapter 13 : Hydraulic Power Transmission|"
     ]
    },
    {
     "cell_type": "heading",
     "level": 2,
     "metadata": {},
     "source": [
      "Example 13.1 Page No : 512"
     ]
    },
    {
     "cell_type": "code",
     "collapsed": false,
     "input": [
      "import math \n",
      "\t\n",
      "#initialisation of variables\n",
      "nop= 0.88\n",
      "nom= 0.88   # constant\n",
      "Pm= 75.  \t#hp\n",
      "p= 3000. \t#lb/in**2 pressure\n",
      "d= 54.5 \t#lbm/ft**3 density\n",
      "u= 1.05*10**-4  # viscosity\n",
      "d1= 0.5 \t#in\n",
      "g= 32.2 \t#ft/sec**2\n",
      "\t\n",
      "#CALCULATIONS\n",
      "nt= (7./11)*nop*nom\n",
      "pp= Pm/nt\n",
      "Q= nop*pp*550/(p*144)\n",
      "Re= 4*d*Q/(math.pi*u*(d1/12)*g)\n",
      "\t\n",
      "#RESULTS\n",
      "print  ' ntrans = %.3f '%(nt)\n",
      "print  ' Input power = %.f hp'%(pp)\n",
      "print  ' Flow rate = %.3f ft**3/sec'%(Q)\n",
      "print  ' Reynolds Number = %.1e '%(Re)\n"
     ],
     "language": "python",
     "metadata": {},
     "outputs": [
      {
       "output_type": "stream",
       "stream": "stdout",
       "text": [
        " ntrans = 0.493 \n",
        " Input power = 152 hp\n",
        " Flow rate = 0.171 ft**3/sec\n",
        " Reynolds Number = 8.4e+04 \n"
       ]
      }
     ],
     "prompt_number": 4
    },
    {
     "cell_type": "heading",
     "level": 2,
     "metadata": {},
     "source": [
      "Example 13.2 Page No : 513"
     ]
    },
    {
     "cell_type": "code",
     "collapsed": false,
     "input": [
      "import math \n",
      "\t\n",
      "#initialisation of variables\n",
      "lc= 0.25\n",
      "a= 90.   \t#degrees\n",
      "p= 3000.     \t#lb/in**2 pressure\n",
      "g= 32.2 \t#ft/sec**2\n",
      "d1= 0.5 \t#in\n",
      "Q= 0.171 \t#ft**3/sec\n",
      "d= 54.5 \t#lbm/ft**3 density\n",
      "n1= 2. \n",
      "n2= 6.\n",
      "lc1= 0.9\n",
      "nop= 0.88\n",
      "nom= 0.88\n",
      "\t\n",
      "#CALCULATIONS\n",
      "P1= 4*p*144/11\n",
      "P2= 8*d*Q**2*(n1*lc+n2*lc1)/(math.pi**2*(d1/12)**4*g)\n",
      "pt= P1+P2\n",
      "dpm= (p*144-pt)\n",
      "ntrans= nop*nom*dpm/(p*144)\n",
      "\t\n",
      "#RESULTS\n",
      "print  ' Frictional pressure drop = %.2e lbf/ft**2'%(P1) \n",
      "print  ' Extra Frictional pressure drop = %.2e lbf/ft**2'%(P2) \n",
      "print  ' Total pressure drop = %.2e lbf/ft**2'%(pt)\n",
      "print  ' Motor pressure drop = %.2e lbf/ft**2'%(dpm)\n",
      "print  ' Overall transmission coefficiency = %.3f'%(ntrans)\n"
     ],
     "language": "python",
     "metadata": {},
     "outputs": [
      {
       "output_type": "stream",
       "stream": "stdout",
       "text": [
        " Frictional pressure drop = 1.57e+05 lbf/ft**2\n",
        " Extra Frictional pressure drop = 7.85e+04 lbf/ft**2\n",
        " Total pressure drop = 2.36e+05 lbf/ft**2\n",
        " Motor pressure drop = 1.96e+05 lbf/ft**2\n",
        " Overall transmission coefficiency = 0.352\n"
       ]
      }
     ],
     "prompt_number": 5
    },
    {
     "cell_type": "heading",
     "level": 2,
     "metadata": {},
     "source": [
      "Example 13.3 Page No : 521"
     ]
    },
    {
     "cell_type": "code",
     "collapsed": false,
     "input": [
      "import math \n",
      "\t\n",
      "#initialisation of variables\n",
      "bip= 135. \t#degrees inlet angle\n",
      "bop= 150. \t#degrees outlet angle\n",
      "bot= 140. \t#degrees turbine outlet angle\n",
      "bos= 137. \t#degrees stator blade outlet angle\n",
      "r= 1.8   \n",
      "r1= 1.8    # ratio b1/b2\n",
      "r2= 0.7    # ratio b1/b3\n",
      "r3= 0.95   # ratio r3/r1\n",
      "\t\n",
      "#CALCULATIONS\n",
      "Vw2r2byVw1r1 = (1+(1/math.tan(math.radians(bip))/1/math.tan(math.radians(bos))))*r**2-r1*(1/math.tan(math.radians(bop))/1/math.tan(math.radians(bos)))\n",
      "Vw3r3byVw1r1 = r2*r3**2*(1+(1/math.tan(math.radians(bip))/1/math.tan(math.radians(bos))))-(1/math.tan(math.radians(bot))/1/math.tan(math.radians(bos)))\n",
      "CtbyCp = (Vw2r2byVw1r1-Vw3r3byVw1r1)/(Vw3r3byVw1r1-1)\n",
      "\t\n",
      "#RESULTS\n",
      "print  ' R1 = %.2f'%(Vw2r2byVw1r1) \n",
      "print  ' R2 = %.2f'%(Vw3r3byVw1r1) \n",
      "print  ' Torque ratio = %.2f'%(CtbyCp)\n",
      "\n",
      "# rounding off error. please check. instead of cot, have used 1/tan. please check."
     ],
     "language": "python",
     "metadata": {},
     "outputs": [
      {
       "output_type": "stream",
       "stream": "stdout",
       "text": [
        " R1 = 3.37\n",
        " R2 = 0.03\n",
        " Torque ratio = -3.45\n"
       ]
      }
     ],
     "prompt_number": 6
    }
   ],
   "metadata": {}
  }
 ]
}