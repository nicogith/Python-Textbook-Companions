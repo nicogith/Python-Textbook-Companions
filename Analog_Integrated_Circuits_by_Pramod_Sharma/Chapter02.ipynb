{
 "metadata": {
  "name": "",
  "signature": "sha256:dbdab30ceee2e893077ec98e42cc102488d52b9f8506602ce6aaa24ef3e22c61"
 },
 "nbformat": 3,
 "nbformat_minor": 0,
 "worksheets": [
  {
   "cells": [
    {
     "cell_type": "heading",
     "level": 1,
     "metadata": {},
     "source": [
      "Chapter02 : Op-amp Fundamentals"
     ]
    },
    {
     "cell_type": "heading",
     "level": 2,
     "metadata": {},
     "source": [
      "Exa 2.2 : page 79"
     ]
    },
    {
     "cell_type": "code",
     "collapsed": false,
     "input": [
      "from __future__ import division \n",
      "#given data\n",
      "Iio=20 #in nA\n",
      "IB=100 #in nA\n",
      "# Eqn(1) : Iio=IB1-IB2=20\n",
      "#Eqn(2) : 2*IB=IB1+IB2=200\n",
      "IB1=(200+20)/2 #in nA\n",
      "print \"IB1 = %0.f nA\"%IB1\n",
      "IB2=IB1-Iio #in nA\n",
      "print \"IB2 = %0.f nA\"%IB2"
     ],
     "language": "python",
     "metadata": {},
     "outputs": [
      {
       "output_type": "stream",
       "stream": "stdout",
       "text": [
        "IB1 = 110 nA\n",
        "IB2 = 90 nA\n"
       ]
      }
     ],
     "prompt_number": 4
    },
    {
     "cell_type": "heading",
     "level": 2,
     "metadata": {},
     "source": [
      "Exa 2.3 : page 82"
     ]
    },
    {
     "cell_type": "code",
     "collapsed": false,
     "input": [
      "#given data\n",
      "G=120 #unitless\n",
      "To=20 #in degree centigrade\n",
      "T=50 #in degree centigrade\n",
      "Dvoff=0.13 #in mV/degree centigrade\n",
      "#input change\n",
      "dVin=Dvoff*(T-To) #in mVolt\n",
      "#output change\n",
      "Vo=G*dVin #in mVolt\n",
      "print \"Output voltage = %0.f mV\" %Vo"
     ],
     "language": "python",
     "metadata": {},
     "outputs": [
      {
       "output_type": "stream",
       "stream": "stdout",
       "text": [
        "Output voltage = 468 mV\n"
       ]
      }
     ],
     "prompt_number": 6
    },
    {
     "cell_type": "heading",
     "level": 2,
     "metadata": {},
     "source": [
      "Exa 2.4 : page 83"
     ]
    },
    {
     "cell_type": "code",
     "collapsed": false,
     "input": [
      "#given data\n",
      "dt=5 #in uSec\n",
      "Vp=5 #in Volt\n",
      "dV=(0.9-0.1)*Vp\n",
      "SR=dV/dt #in V/uSec\n",
      "print \"Calculated SR = %0.2f V/uSec\"%SR"
     ],
     "language": "python",
     "metadata": {},
     "outputs": [
      {
       "output_type": "stream",
       "stream": "stdout",
       "text": [
        "Calculated SR = 0.80 V/uSec\n"
       ]
      }
     ],
     "prompt_number": 8
    },
    {
     "cell_type": "heading",
     "level": 2,
     "metadata": {},
     "source": [
      "Exa 2.5 : page 83"
     ]
    },
    {
     "cell_type": "code",
     "collapsed": false,
     "input": [
      "#given data\n",
      "Vo=10 #in Volt\n",
      "SR=1 #in V/uSec\n",
      "dV=(0.9-0.1)*Vo\n",
      "dt=dV/SR #in uSec\n",
      "print \"Rise time = %0.f uSec\"%dt"
     ],
     "language": "python",
     "metadata": {},
     "outputs": [
      {
       "output_type": "stream",
       "stream": "stdout",
       "text": [
        "Rise time = 8 uSec\n"
       ]
      }
     ],
     "prompt_number": 10
    },
    {
     "cell_type": "heading",
     "level": 2,
     "metadata": {},
     "source": [
      "Exa 2.6 : page 84"
     ]
    },
    {
     "cell_type": "code",
     "collapsed": false,
     "input": [
      "#given data\n",
      "V1=-5 #in Volt\n",
      "V2=5 #in Volt\n",
      "SR=0.5 #in V/uSec\n",
      "dV=V2-V1 # in Volt\n",
      "dt=dV/SR #in uSec\n",
      "print \"Rise time = %0.f uSec\"%dt"
     ],
     "language": "python",
     "metadata": {},
     "outputs": [
      {
       "output_type": "stream",
       "stream": "stdout",
       "text": [
        "Rise time = 20 uSec\n"
       ]
      }
     ],
     "prompt_number": 12
    },
    {
     "cell_type": "heading",
     "level": 2,
     "metadata": {},
     "source": [
      "Exa 2.7 : page 84"
     ]
    },
    {
     "cell_type": "code",
     "collapsed": false,
     "input": [
      "import numpy as np\n",
      "#given data\n",
      "fm=50 #in kHz\n",
      "SR=0.5 #in V/uSec\n",
      "#formula : SR=2*pie*fm*Vm\n",
      "Vm=(SR*10**6)/(2*np.pi*fm*10**3) #in Volts\n",
      "print \"Maximum voltage = %0.2f Volt \"%Vm"
     ],
     "language": "python",
     "metadata": {},
     "outputs": [
      {
       "output_type": "stream",
       "stream": "stdout",
       "text": [
        "Maximum voltage = 1.59 Volt \n"
       ]
      }
     ],
     "prompt_number": 14
    },
    {
     "cell_type": "heading",
     "level": 2,
     "metadata": {},
     "source": [
      "Exa 2.8 : page 84"
     ]
    },
    {
     "cell_type": "code",
     "collapsed": false,
     "input": [
      "import numpy as np\n",
      "#given data\n",
      "SR=6 #in V/uSec\n",
      "#formula : SR=2*pie*fm*Vm\n",
      "# part (i) Vm=1 volt\n",
      "Vm=1 #in Volts\n",
      "fm=((SR*10**6)/(2*np.pi*Vm))/1000 #in kHz\n",
      "print \"when Vm=1 volt the limiting frequency = %0.f kHz\"%fm\n",
      "# part (ii) Vm=10 volt\n",
      "Vm=10 #in Volts\n",
      "fm=((SR*10**6)/(2*np.pi*Vm))/1000 #in kHz\n",
      "print \"when Vm=10 Volt the limiting frequency = %0.1f kHz\"%fm"
     ],
     "language": "python",
     "metadata": {},
     "outputs": [
      {
       "output_type": "stream",
       "stream": "stdout",
       "text": [
        "when Vm=1 volt the limiting frequency = 955 kHz\n",
        "when Vm=10 Volt the limiting frequency = 95.5 kHz\n"
       ]
      }
     ],
     "prompt_number": 18
    }
   ],
   "metadata": {}
  }
 ]
}