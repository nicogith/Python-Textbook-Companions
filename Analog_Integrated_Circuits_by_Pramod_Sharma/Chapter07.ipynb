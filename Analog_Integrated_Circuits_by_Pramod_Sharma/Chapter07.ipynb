{
 "metadata": {
  "name": "",
  "signature": "sha256:633401d9dc343504b92f5c6c8c0ce8a9244d452bbc7c55d1a9f47615b5cd01fb"
 },
 "nbformat": 3,
 "nbformat_minor": 0,
 "worksheets": [
  {
   "cells": [
    {
     "cell_type": "heading",
     "level": 1,
     "metadata": {},
     "source": [
      "Chapter07 : Non-Linear Circuits"
     ]
    },
    {
     "cell_type": "heading",
     "level": 2,
     "metadata": {},
     "source": [
      "Exa 7.3 : page 326"
     ]
    },
    {
     "cell_type": "code",
     "collapsed": false,
     "input": [
      "from __future__ import division\n",
      "# given data \n",
      "VH=4 #in Volt\n",
      "VSat=13 #in Volt\n",
      "# Assume R2=10 Kohm\n",
      "R2=10 #in Kohm\n",
      "R1=R2/((2*VSat/VH)-1) #in Kohm\n",
      "print \"Component values are :\" \n",
      "print \"Value of R1 = %0.2f kohm\" %R1\n",
      "print \"Value of R2 = %0.2f kohm\" %R2"
     ],
     "language": "python",
     "metadata": {},
     "outputs": [
      {
       "output_type": "stream",
       "stream": "stdout",
       "text": [
        "Component values are :\n",
        "Value of R1 = 1.82 kohm\n",
        "Value of R2 = 10.00 kohm\n"
       ]
      }
     ],
     "prompt_number": 4
    },
    {
     "cell_type": "heading",
     "level": 2,
     "metadata": {},
     "source": [
      "Exa 7.4 : page 327"
     ]
    },
    {
     "cell_type": "code",
     "collapsed": false,
     "input": [
      "from __future__ import division\n",
      "# given data \n",
      "VSat=13 #in Volt\n",
      "R1=270 #in ohm\n",
      "R2=39 #in Kohm\n",
      "Vut=R1*VSat/(R1+R2*1000) #in Volt\n",
      "Vlt=R1*(-VSat)/(R1+R2*1000) #in Volt\n",
      "VH=Vut-Vlt #in Volt\n",
      "print \"The upper threshold voltage = %0.1f mV\" %(Vut*1000)\n",
      "print \"The lower threshold voltage = %0.1f mV\" %(Vlt*1000)\n",
      "print \"Hysteresis voltage = %0.1f mV\" %(VH*1000)"
     ],
     "language": "python",
     "metadata": {},
     "outputs": [
      {
       "output_type": "stream",
       "stream": "stdout",
       "text": [
        "The upper threshold voltage = 89.4 mV\n",
        "The lower threshold voltage = -89.4 mV\n",
        "Hysteresis voltage = 178.8 mV\n"
       ]
      }
     ],
     "prompt_number": 7
    },
    {
     "cell_type": "heading",
     "level": 2,
     "metadata": {},
     "source": [
      "Exa 7.5 : page 327"
     ]
    },
    {
     "cell_type": "code",
     "collapsed": false,
     "input": [
      "# given data \n",
      "VSat=13 #in Volt\n",
      "Vut=2 #in Volt\n",
      "Vlt=-1 #in Volt\n",
      "# Assume R1=10 Kohm\n",
      "R1=10 #in Kohm\n",
      "R2=((VSat/Vut)-1)*R1 #in Kohm\n",
      "R3=((-VSat/Vlt)-1)*R1 #in Kohm\n",
      "print \"Value of R1 = %0.2f kohm\" %R1\n",
      "print \"Value of R2 = %0.2f kohm\" %R2\n",
      "print \"Value of R3 = %0.2f kohm\" %R3"
     ],
     "language": "python",
     "metadata": {},
     "outputs": [
      {
       "output_type": "stream",
       "stream": "stdout",
       "text": [
        "Value of R1 = 10.00 kohm\n",
        "Value of R2 = 55.00 kohm\n",
        "Value of R3 = 120.00 kohm\n"
       ]
      }
     ],
     "prompt_number": 8
    }
   ],
   "metadata": {}
  }
 ]
}