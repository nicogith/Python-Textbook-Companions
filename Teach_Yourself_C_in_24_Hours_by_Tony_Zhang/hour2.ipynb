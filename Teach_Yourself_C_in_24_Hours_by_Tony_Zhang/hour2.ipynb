{
 "metadata": {
  "name": "",
  "signature": "sha256:aa0169689b73d81c82a8f62ed4cf3b03d328c0e235d7ff4fff52cc0bebc646cc"
 },
 "nbformat": 3,
 "nbformat_minor": 0,
 "worksheets": [
  {
   "cells": [
    {
     "cell_type": "heading",
     "level": 1,
     "metadata": {},
     "source": [
      "Hour 2: Writing Your first C program"
     ]
    },
    {
     "cell_type": "heading",
     "level": 2,
     "metadata": {},
     "source": [
      "Example 2.1, Page No.28"
     ]
    },
    {
     "cell_type": "code",
     "collapsed": false,
     "input": [
      "print \"Howdy, neighbout! This is my first C Program.\""
     ],
     "language": "python",
     "metadata": {},
     "outputs": [
      {
       "output_type": "stream",
       "stream": "stdout",
       "text": [
        "Howdy, neighbout! This is my first C Program.\n"
       ]
      }
     ],
     "prompt_number": 1
    }
   ],
   "metadata": {}
  }
 ]
}