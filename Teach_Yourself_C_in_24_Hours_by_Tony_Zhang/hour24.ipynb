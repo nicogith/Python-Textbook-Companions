{
 "metadata": {
  "name": "",
  "signature": "sha256:2892cdbf82debfaaf5bd321dc73cce7cbc035bf0ab81bdbe14335d47dded8155"
 },
 "nbformat": 3,
 "nbformat_minor": 0,
 "worksheets": [
  {
   "cells": [
    {
     "cell_type": "heading",
     "level": 1,
     "metadata": {},
     "source": [
      "Hour 24: Where Do you Go from Here?"
     ]
    },
    {
     "cell_type": "heading",
     "level": 2,
     "metadata": {},
     "source": [
      "Example 24.1, Page No.410"
     ]
    },
    {
     "cell_type": "code",
     "collapsed": false,
     "input": [
      "#Dynamic Memory Allocation is not available in python, so the code for the given programme is skipped."
     ],
     "language": "python",
     "metadata": {},
     "outputs": [],
     "prompt_number": 1
    },
    {
     "cell_type": "heading",
     "level": 2,
     "metadata": {},
     "source": [
      "Example 24.2, Page No.415"
     ]
    },
    {
     "cell_type": "code",
     "collapsed": false,
     "input": [
      "#Dynamic Memory Allocation is not available in python, so the code for the given programme is skipped."
     ],
     "language": "python",
     "metadata": {},
     "outputs": [],
     "prompt_number": 2
    },
    {
     "cell_type": "heading",
     "level": 2,
     "metadata": {},
     "source": [
      "Example 24.3, Page No.416"
     ]
    },
    {
     "cell_type": "code",
     "collapsed": false,
     "input": [
      "#free function is not available in python, so function for freeing memory is not created."
     ],
     "language": "python",
     "metadata": {},
     "outputs": [],
     "prompt_number": 3
    }
   ],
   "metadata": {}
  }
 ]
}