{
 "metadata": {
  "name": "",
  "signature": "sha256:69047173d3eeef59534ef80d7bcf63a4b6e2f6165dd08ce224ffe931dca31d9d"
 },
 "nbformat": 3,
 "nbformat_minor": 0,
 "worksheets": [
  {
   "cells": [
    {
     "cell_type": "heading",
     "level": 1,
     "metadata": {},
     "source": [
      "Hour 1: Taking the First Step"
     ]
    },
    {
     "cell_type": "heading",
     "level": 2,
     "metadata": {},
     "source": [
      "Example 1.1, Page No.3"
     ]
    },
    {
     "cell_type": "code",
     "collapsed": false,
     "input": [
      "ch=raw_input(\"Please type in one character\")\n",
      "print \"The Character you just entered is: \",ch"
     ],
     "language": "python",
     "metadata": {},
     "outputs": [
      {
       "name": "stdout",
       "output_type": "stream",
       "stream": "stdout",
       "text": [
        "Please type in one characterH\n"
       ]
      },
      {
       "output_type": "stream",
       "stream": "stdout",
       "text": [
        "The Character you just entered is:  H\n"
       ]
      }
     ],
     "prompt_number": 1
    }
   ],
   "metadata": {}
  }
 ]
}