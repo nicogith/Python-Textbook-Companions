{
 "metadata": {
  "name": "",
  "signature": "sha256:41db786e06a01c332ebd11f188e721e6640c124416532b39896420ba483ab6cd"
 },
 "nbformat": 3,
 "nbformat_minor": 0,
 "worksheets": [
  {
   "cells": [
    {
     "cell_type": "heading",
     "level": 1,
     "metadata": {},
     "source": [
      "Chapter 5: Pulse Modulation Techniques "
     ]
    },
    {
     "cell_type": "heading",
     "level": 2,
     "metadata": {},
     "source": [
      "Example 5.1, page no. 107"
     ]
    },
    {
     "cell_type": "code",
     "collapsed": false,
     "input": [
      "\n",
      "# Variable Declaration\n",
      "F_m = 4.00*pow(10,3)   # Maximum Frequency Component in Message Signal (Hz)\n",
      "\n",
      "# Calculation\n",
      "import math            # Math Library\n",
      "F_s = 2*F_m\t       # Minimum Sampling Frequency using Sampling Theorem (Hz)\n",
      "\n",
      "# Result\n",
      "print \"F_s >=(greater than or equal to)\",F_s/pow(10,3),\"kHz\""
     ],
     "language": "python",
     "metadata": {},
     "outputs": [
      {
       "output_type": "stream",
       "stream": "stdout",
       "text": [
        "F_s >=(greater than or equal to) 8.0 kHz\n"
       ]
      }
     ],
     "prompt_number": 1
    },
    {
     "cell_type": "heading",
     "level": 2,
     "metadata": {},
     "source": [
      "Example 5.2, page no. 107"
     ]
    },
    {
     "cell_type": "code",
     "collapsed": false,
     "input": [
      "\n",
      "# Variable Declaration\n",
      "F1  = 500           # Single Tone Sine Wave Frequency in Message Signal (Hz)\n",
      "F2  = 750           # Lowest Value Sound Frequency in Message Signal (Hz)\n",
      "F3  = 1800          # Highest Value Sound Frequency in Message Signal (Hz)\n",
      "\n",
      "# Calculation\n",
      "import math\t    # Math Library\n",
      "F_m = max(F1,F2,F3) # Maximum Frequency Component (Hz)\n",
      "F_s = 2*F_m\t    # Minimum Sampling Frequency using Sampling Theorem (Hz)\n",
      "\n",
      "# Result\n",
      "print \"F_s >=(greater than or equal to)\",F_s,\"Hz\""
     ],
     "language": "python",
     "metadata": {},
     "outputs": [
      {
       "output_type": "stream",
       "stream": "stdout",
       "text": [
        "F_s >=(greater than or equal to) 3600 Hz\n"
       ]
      }
     ],
     "prompt_number": 2
    }
   ],
   "metadata": {}
  }
 ]
}