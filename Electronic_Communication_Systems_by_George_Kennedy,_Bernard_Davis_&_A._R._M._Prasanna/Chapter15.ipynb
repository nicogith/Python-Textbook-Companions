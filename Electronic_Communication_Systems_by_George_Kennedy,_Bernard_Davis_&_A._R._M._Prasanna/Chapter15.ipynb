{
 "metadata": {
  "name": "",
  "signature": "sha256:f82338b15d5e32b80b8782ce45f00e7b56a16efde942696b5a56c79c32e5fe3b"
 },
 "nbformat": 3,
 "nbformat_minor": 0,
 "worksheets": [
  {
   "cells": [
    {
     "cell_type": "heading",
     "level": 1,
     "metadata": {},
     "source": [
      "Chapter 15: Radar Systems"
     ]
    },
    {
     "cell_type": "heading",
     "level": 2,
     "metadata": {},
     "source": [
      "Example 15.1, page no. 485"
     ]
    },
    {
     "cell_type": "code",
     "collapsed": false,
     "input": [
      "\n",
      "# Variable Declaration\n",
      "PW  = 3.00*pow(10,-6)      # Pulse Width (s)\n",
      "PRT = 6.00*pow(10,-3)      # Pulse Repetition Time (s)\n",
      "\n",
      "# Calculation\n",
      "import math   # Math Library\n",
      "DS  = PW/PRT # Duty Cycle\n",
      "\n",
      "# Result\n",
      "print \"Duty Cycle =\",round(DS,4)"
     ],
     "language": "python",
     "metadata": {},
     "outputs": [
      {
       "output_type": "stream",
       "stream": "stdout",
       "text": [
        "Duty Cycle = 0.0005\n"
       ]
      }
     ],
     "prompt_number": 7
    },
    {
     "cell_type": "heading",
     "level": 2,
     "metadata": {},
     "source": [
      "Example 15.2, page no. 485"
     ]
    },
    {
     "cell_type": "code",
     "collapsed": false,
     "input": [
      "\n",
      "# Variable Declaration\n",
      "PW = 3.00*pow(10,-6)     # Pulse Width (s)\n",
      "PP = 100.00*pow(10,3)     # Peak Power (W)\n",
      "RT = 1997.00              # Rest Time (s)\n",
      "\n",
      "# Calculation\n",
      "import math   # Math Library\n",
      "DS = 1/RT   # Duty Cycle\n",
      "AP = PP*DS                 # Average Power (W)\n",
      "\n",
      "# Result\n",
      "print \"Average Power =\",round(AP),\"W\""
     ],
     "language": "python",
     "metadata": {},
     "outputs": [
      {
       "output_type": "stream",
       "stream": "stdout",
       "text": [
        "Average Power = 50.0 W\n"
       ]
      }
     ],
     "prompt_number": 8
    },
    {
     "cell_type": "heading",
     "level": 2,
     "metadata": {},
     "source": [
      "Example 15.3, page no. 490"
     ]
    },
    {
     "cell_type": "code",
     "collapsed": false,
     "input": [
      "\n",
      "# Variable Declaration\n",
      "NF    = 9.00               # Noise Figure (dB)\n",
      "k     = 1.38*pow(10,-23)   # Boltzmann's Constant (J/K)\n",
      "del_f = 1.50*pow(10,6)   # Receiver Band Width (Hz)\n",
      "To    = 290                # Standard Ambient temperature (K)\n",
      "\n",
      "# Calculation\n",
      "import math   # Math Library\n",
      "F     = pow(10,NF/10)   # Noise Figure\n",
      "P_min = k*To*del_f*(F-1)   # Minimum receivable signal in a Radar Receiver (W)\n",
      "\n",
      "# Result\n",
      "print \"Minimum receivable signal in the Radar Receiver, P_min =\",round(P_min/pow(10,-14),2),\"* 10^(-14) W\""
     ],
     "language": "python",
     "metadata": {},
     "outputs": [
      {
       "output_type": "stream",
       "stream": "stdout",
       "text": [
        "Minimum receivable signal in the Radar Receiver, P_min = 4.17 * 10^(-14) W\n"
       ]
      }
     ],
     "prompt_number": 6
    },
    {
     "cell_type": "heading",
     "level": 2,
     "metadata": {},
     "source": [
      "Example 15.4, page no. 490"
     ]
    },
    {
     "cell_type": "code",
     "collapsed": false,
     "input": [
      "\n",
      "# Variable Declaration\n",
      "Pt     = 5.00*pow(10,5)           # Peak Pulse Power (W)\n",
      "Lambda = 3.00*pow(10,-2)          # Wavelength (m)\n",
      "P_min  = 1.00*pow(10,-13)         # Minimum receivable Power (W)\n",
      "Ao     = 5# Capture Area of Antenna (m^2)\n",
      "S      = 20                      # Radar Cross-sectional Area (m^2)\n",
      "\n",
      "# Calculation\n",
      "import math     # Math Library\n",
      "r_max  = pow(Pt*pow(Ao,2)*S/(4*math.pi*pow(Lambda,2)*P_min),0.25)\n",
      "       # Maximum range of the Radar System (m)\n",
      "# Result\n",
      "print \"Maximum range of the Radar System, r_max =\",round(r_max/1000),\"km\""
     ],
     "language": "python",
     "metadata": {},
     "outputs": [
      {
       "output_type": "stream",
       "stream": "stdout",
       "text": [
        "Maximum range of the Radar System, r_max = 686.0 km\n"
       ]
      }
     ],
     "prompt_number": 10
    },
    {
     "cell_type": "heading",
     "level": 2,
     "metadata": {},
     "source": [
      "Example 15.5, page no. 490"
     ]
    },
    {
     "cell_type": "code",
     "collapsed": false,
     "input": [
      "\n",
      "# Variable Declaration\n",
      "F_dB  = 4.77                       # Noise Figure (dB)\n",
      "f     = 8.00*pow(10,9)             # Operating Frequency (Hz)\n",
      "c     = 3.00*pow(10,8)             # Speed of light in vacuum (m/s)\n",
      "del_f = 5.00*pow(10,5)             # IF Bandwidth (Hz)\n",
      "rmax  = 12.00                     # Maximum distance (km)\n",
      "D     = 1.00                      # Antenna Diameter (m)\n",
      "S     = 5.00                      # Cross sectional area (m^2)\n",
      "\n",
      "# Calculation\n",
      "import math       # Math Library\n",
      "Lambda = c/f      # Wavelength (m)\n",
      "F      = pow(10,F_dB/10)      # Noise Figure\n",
      "Pt     = del_f*pow(Lambda,2)*(F-1)/(pow(48/rmax,4)*pow(D,4)*S) # Peak transmitted pulse power (W)\n",
      "\n",
      "# Result\n",
      "print \"The peak transmitted pulse power, Pt =\",round(Pt,1),\"W\""
     ],
     "language": "python",
     "metadata": {},
     "outputs": [
      {
       "output_type": "stream",
       "stream": "stdout",
       "text": [
        "The peak transmitted pulse power, Pt = 1.1 W\n"
       ]
      }
     ],
     "prompt_number": 14
    },
    {
     "cell_type": "heading",
     "level": 2,
     "metadata": {},
     "source": [
      "Example 15.6, page no. 500"
     ]
    },
    {
     "cell_type": "code",
     "collapsed": false,
     "input": [
      "\n",
      "# Variable Declaration\n",
      "f     = 2.50*pow(10,9)     # Radar Operating Frequency (Hz)\n",
      "c     = 3.00*pow(10,8)          # Velocity of light in vacuum (m/s)\n",
      "Pt    = 25.00*pow(10,6)         # Peak Pulse Power (W)\n",
      "D     = 64.00                   # Antenna Diameter (m)\n",
      "F     = 1.1                     # Receiver Noise Figure\n",
      "S     = 1.00                    # Radar Cross-sectional Area (m^2)\n",
      "del_f = 5.00*pow(10,3)          # Receiver Bandwidth (Hz)\n",
      "\n",
      "# Calculation\n",
      "import math# Math Library\n",
      "Lambda = c/f# Wavelength (m)\n",
      "r_max  = 48*pow(Pt*pow(D,4)*S/(del_f*pow(Lambda,2)*(F-1)),0.25)\n",
      "# Maximum range of the Radar System (km)\n",
      "# Result\n",
      "print \"Maximum range of the Radar System, r_max =\",round(r_max),\"km\""
     ],
     "language": "python",
     "metadata": {},
     "outputs": [
      {
       "output_type": "stream",
       "stream": "stdout",
       "text": [
        "Maximum range of the Radar System, r_max = 132609.0 km\n"
       ]
      }
     ],
     "prompt_number": 17
    },
    {
     "cell_type": "heading",
     "level": 2,
     "metadata": {},
     "source": [
      "Example 15.7, page no. 504"
     ]
    },
    {
     "cell_type": "code",
     "collapsed": false,
     "input": [
      "\n",
      "# Variable Declaration\n",
      "v_c    = 3.00*pow(10,8)       # Velocity of light in vacuum (m/s)\n",
      "f      = 5.00*pow(10,9)      # MTI radar Transmit Frequency (Hz)\n",
      "PRF    = 800                    # Pulse Repetition Frequency (pps)\n",
      "\n",
      "# Calculation\n",
      "import math                    # Math Library\n",
      "Lambda = v_c/f                              # Wavelength(m)\n",
      "vb1    = PRF*Lambda*60*60*pow(10,-3)        # Blind Speed in for n=1 (km/h)\n",
      "vb2    = 2*PRF*Lambda*60*60*pow(10,-3)      # Blind Speed in for n=2 (km/h)\n",
      "vb3    = 3*PRF*Lambda*60*60*pow(10,-3)      # Blind Speed in for n=3 (km/h)\n",
      "\n",
      "# Result\n",
      "print \"Lowest three blind speeds will be\",round(vb1,1),\",\",round(vb2,1),\"and\",round(vb3,1),\"km/h\""
     ],
     "language": "python",
     "metadata": {},
     "outputs": [
      {
       "output_type": "stream",
       "stream": "stdout",
       "text": [
        "Lowest three blind speeds will be 172.8 , 345.6 and 518.4 km/h\n"
       ]
      }
     ],
     "prompt_number": 18
    },
    {
     "cell_type": "heading",
     "level": 2,
     "metadata": {},
     "source": [
      "Example 15.8, page no. 506"
     ]
    },
    {
     "cell_type": "code",
     "collapsed": false,
     "input": [
      " \n",
      "# Variable Declaration\n",
      "F_dB   = 13                   # Noise Figure of beacon (dB)\n",
      "Ft     = 1.1                   # Noise Figure of system\n",
      "f      = 2.50*pow(10,9)        # Operating Frequency (Hz)\n",
      "D      = 64                            # Antenna Diameter (m)\n",
      "Db     = 1                     # Antenna Diameter of beacon (m)\n",
      "del_f  = 5.00*pow(10,3)        # Bandwidth (Hz)\n",
      "Ptt    = 0.50*pow(10,6)        # Peak Pulse power (W)\n",
      "Ptb    = 50                    # Peak Pulse power of beacon (W)\n",
      "k      = 1.38*pow(10,-23)      # Boltzman's Constant (J/K)\n",
      "c      = 3.00*pow(10,8)     # Speed of light in vaccum (m/s)\n",
      "To     = 290                   # Temperature (K)\n",
      "\n",
      "# Calculation\n",
      "import math# Math Library\n",
      "Aot    = 0.65*math.pi*pow(D,2)/4# Capture Area (m^2)\n",
      "Aob    = 0.65*math.pi*pow(Db,2)/4# Capture Area (m^2)\n",
      "Lambda = c/f# Wavelength (m)\n",
      "Fb     = pow(10,F_dB/10)# Noise Figure\n",
      "rmax_I = pow(Aot*Ptt*Aob/(pow(Lambda,2)*k*To*del_f*(Fb-1)),0.5)\n",
      "# Maximum range for the interrogation link (m)\n",
      "rmax_R = pow(Aob*Ptb*Aot/(pow(Lambda,2)*k*To*del_f*(Ft-1)),0.5)\n",
      "# Maximum range for the reply link (m)\n",
      "\n",
      "# Result\n",
      "print \"The Maximum Tracking Range, Rmax =\",round(min(rmax_I/pow(10,10),rmax_R/pow(10,10))),\"million km\""
     ],
     "language": "python",
     "metadata": {},
     "outputs": [
      {
       "output_type": "stream",
       "stream": "stdout",
       "text": [
        "The Maximum Tracking Range, Rmax = 136.0 million km\n"
       ]
      }
     ],
     "prompt_number": 20
    },
    {
     "cell_type": "heading",
     "level": 2,
     "metadata": {},
     "source": [
      "Example 15.9, page no. 507"
     ]
    },
    {
     "cell_type": "code",
     "collapsed": false,
     "input": [
      "\n",
      "# Variable Declaration\n",
      "c      = 3.00*pow(10,8)          # Velocity of light in vacuum (m/s)\n",
      "f      = 5.00*pow(10,9)          # CW Transmit Frequency (Hz)\n",
      "v      = 100.00                  # Target Speed (km/h)\n",
      "\n",
      "# Calculation\n",
      "import math                    # Math Library\n",
      "Lambda = c/f                   # Wavelength (m)\n",
      "vr     = v*1000/(60*60)      # Target Speed (m/s)\n",
      "f_d    = 2*vr/Lambda    # Doppler frequency (Hz)\n",
      "\n",
      "# Result\n",
      "print \"Doppler frequency, f_d =\",round(f_d),\"Hz\""
     ],
     "language": "python",
     "metadata": {},
     "outputs": [
      {
       "output_type": "stream",
       "stream": "stdout",
       "text": [
        "Doppler frequency, f_d = 926.0 Hz\n"
       ]
      }
     ],
     "prompt_number": 26
    }
   ],
   "metadata": {}
  }
 ]
}