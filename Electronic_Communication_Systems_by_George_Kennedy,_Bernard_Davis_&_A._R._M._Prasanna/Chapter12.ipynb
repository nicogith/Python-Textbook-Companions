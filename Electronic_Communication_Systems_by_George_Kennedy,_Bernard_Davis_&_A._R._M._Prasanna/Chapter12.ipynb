{
 "metadata": {
  "name": "",
  "signature": "sha256:af7d5720b43a3ab91c063ac5e917869558a9550a08df4d11a5c5ce289f6c278a"
 },
 "nbformat": 3,
 "nbformat_minor": 0,
 "worksheets": [
  {
   "cells": [
    {
     "cell_type": "heading",
     "level": 1,
     "metadata": {},
     "source": [
      "Chapter 12: Waveguides, Resonators And Components"
     ]
    },
    {
     "cell_type": "heading",
     "level": 2,
     "metadata": {},
     "source": [
      "Example 12.1, page no. 344"
     ]
    },
    {
     "cell_type": "code",
     "collapsed": false,
     "input": [
      "\n",
      "# Variable Declaration\n",
      "Theeta = 60                        # Angle of incidence (degrees)\n",
      "\n",
      "# Calculation\n",
      "import math                        # Math Library\n",
      "vg     = math.sin(Theeta*math.pi/180)   # (X vc) Velocity of EM wave in parallel direction (m/S)\n",
      "vn     = math.cos(Theeta*math.pi/180)   # (X vc) Velocity of EM wave in normal direction (m/s)\n",
      "\n",
      "# Result\n",
      "print \"Velocity of EM wave in parallel direction, vg =\",round(vg,2),\"* vc\"\n",
      "print \"Velocity of EM wave in normal direction, vn =\",round(vn,2),\"* vc\""
     ],
     "language": "python",
     "metadata": {},
     "outputs": [
      {
       "output_type": "stream",
       "stream": "stdout",
       "text": [
        "Velocity of EM wave in parallel direction, vg = 0.87 * vc\n",
        "Velocity of EM wave in normal direction, vn = 0.5 * vc\n"
       ]
      }
     ],
     "prompt_number": 2
    },
    {
     "cell_type": "heading",
     "level": 2,
     "metadata": {},
     "source": [
      "Example 12.2, page no. 345"
     ]
    },
    {
     "cell_type": "code",
     "collapsed": false,
     "input": [
      "\n",
      "# Variable Declaration\n",
      "Theeta   = 60                             # Angle of incidence (degrees)\n",
      "\n",
      "# Calculation\n",
      "import math                               # Math Library\n",
      "Lambda_g = 1/math.sin(Theeta*math.pi/180) # (* Lambda) Wavelength of EM wave in parallel direction (m)\n",
      "Lambda_n = 1/math.cos(Theeta*math.pi/180) # (* Lambda) Wavelength of EM wave in normal direction (m)\n",
      "\n",
      "# Result\n",
      "print \"Wavelength of EM wave in parallel direction, Lambda_g =\",round(Lambda_g,2),\"* Lambda\"\n",
      "print \"Wavelength of EM wave in normal direction, Lambda_n =\",round(Lambda_n,2),\"* Lambda\""
     ],
     "language": "python",
     "metadata": {},
     "outputs": [
      {
       "output_type": "stream",
       "stream": "stdout",
       "text": [
        "Wavelength of EM wave in parallel direction, Lambda_g = 1.15 * Lambda\n",
        "Wavelength of EM wave in normal direction, Lambda_n = 2.0 * Lambda\n"
       ]
      }
     ],
     "prompt_number": 9
    },
    {
     "cell_type": "heading",
     "level": 2,
     "metadata": {},
     "source": [
      "Example 12.3, page no. 346"
     ]
    },
    {
     "cell_type": "code",
     "collapsed": false,
     "input": [
      "# Variable Declaration \n",
      "Theeta = 60                             # Angle of incidence (degrees)\n",
      "\n",
      "# Calculation\n",
      "import math                             # Math Library\n",
      "vp     = 1/math.sin(Theeta*math.pi/180) # (* vc) Phase velocity of EM wave (m/s)\n",
      "\n",
      "# Result\n",
      "print \"The phase velocity of EM wave, vp =\",round(vp,2),\"* vc\""
     ],
     "language": "python",
     "metadata": {},
     "outputs": [
      {
       "output_type": "stream",
       "stream": "stdout",
       "text": [
        "The phase velocity of EM wave, vp = 1.15 * vc\n"
       ]
      }
     ],
     "prompt_number": 11
    },
    {
     "cell_type": "heading",
     "level": 2,
     "metadata": {},
     "source": [
      "Example 12.4, page no. 349"
     ]
    },
    {
     "cell_type": "code",
     "collapsed": false,
     "input": [
      "\n",
      "# Variable Declaration\n",
      "a      = 5.1          # Dimension 1 of rectangular waveguide (cm)\n",
      "b      = 2.4          # Dimension 2 of rectangular waveguide (cm)\n",
      "m      = 2            # Number of half wavelengths\n",
      "\n",
      "# Calculation\n",
      "import math           # Math Library\n",
      "Lambda = 2*a/m        # Cutoff wavelength of rectangular waveguide (cm)\n",
      "\n",
      "# Result\n",
      "print \"The cutoff wavelength of rectangular waveguide, Lambda =\",round(Lambda,1),\"cm\""
     ],
     "language": "python",
     "metadata": {},
     "outputs": [
      {
       "output_type": "stream",
       "stream": "stdout",
       "text": [
        "The cutoff wavelength of rectangular waveguide, Lambda = 5.1 cm\n"
       ]
      }
     ],
     "prompt_number": 14
    },
    {
     "cell_type": "heading",
     "level": 2,
     "metadata": {},
     "source": [
      "Example 12.5, page no. 349"
     ]
    },
    {
     "cell_type": "code",
     "collapsed": false,
     "input": [
      "\n",
      "# Variable Declaration\n",
      "a  = 5.1                     # Dimension 1 of rectangular waveguide (cm)\n",
      "b  = 2.4                     # Dimension 2 of rectangular waveguide (cm)\n",
      "m  = 1                       # Constant m for TE10 mode\n",
      "n  = 0                       # Constant n for TE10 mode\n",
      "\n",
      "# Calculation\n",
      "import math                                         # Math Library\n",
      "fc = 1.5*pow(10,8)*math.sqrt(pow(m/a,2)+pow(n/b,2)) # Cutoff frequency of dominant mode (TE10) of rectangular waveguide (Hz)\n",
      "                                                  \n",
      "# Result\n",
      "print \"The cutoff frequency of dominant mode (TE10) of rectangular waveguide, fc =\",round(fc/pow(10,7),2),\"GHz\""
     ],
     "language": "python",
     "metadata": {},
     "outputs": [
      {
       "output_type": "stream",
       "stream": "stdout",
       "text": [
        "The cutoff frequency of dominant mode (TE10) of rectangular waveguide, fc = 2.94 GHz\n"
       ]
      }
     ],
     "prompt_number": 16
    },
    {
     "cell_type": "heading",
     "level": 2,
     "metadata": {},
     "source": [
      "Example 12.6, page no. 350"
     ]
    },
    {
     "cell_type": "code",
     "collapsed": false,
     "input": [
      "\n",
      "# Variable Declaration\n",
      "a  = 5.1               # Dimension 1 of rectangular waveguide (cm)\n",
      "b  = 2.4               # Dimension 2 of rectangular waveguide (cm)\n",
      "m1 = 0                 # Constant m for TE01 mode\n",
      "n1 = 1                 # Constant n for TE01 mode\n",
      "m2 = 2                 # Constant m for TE20 mode\n",
      "n2 = 0                 # Constant n for TE20 mode\n",
      "m3 = 0                 # Constant m for TE02 mode\n",
      "n3 = 2                 # Constant n for TE02 mode\n",
      "\n",
      "# Calculation\n",
      "import math                       # Math Library\n",
      "f1 = 1.5*pow(10,8)*math.sqrt(pow(m1/a,2)+pow(n1/b,2)) # Cutoff frequency of TE01 of rectangular waveguide (Hz)\n",
      "f2 = 1.5*pow(10,8)*math.sqrt(pow(m2/a,2)+pow(n2/b,2)) # Cutoff frequency of TE20 of rectangular waveguide (Hz)\n",
      "f3 = 1.5*pow(10,8)*math.sqrt(pow(m3/a,2)+pow(n3/b,2)) # Cutoff frequency of TE02 of rectangular waveguide (Hz)\n",
      "\n",
      "# Result\n",
      "print \"The frequency of TE01 mode of rectangular waveguide, f1 =\",round(f1/pow(10,7),2),\"GHz\"\n",
      "print \"The frequency of TE20 mode of rectangular waveguide, f2 =\",round(f2/pow(10,7),2),\"GHz\"\n",
      "print \"The frequency of TE02 mode of rectangular waveguide, f3 =\",round(f3/pow(10,7),2),\"GHz\"\n",
      "print \"Hence the lowest frequency except dominant mode is, f =\",round(min(f1,f2,f3)/pow(10,7),2),\"GHz\""
     ],
     "language": "python",
     "metadata": {},
     "outputs": [
      {
       "output_type": "stream",
       "stream": "stdout",
       "text": [
        "The frequency of TE01 mode of rectangular waveguide, f1 = 6.25 GHz\n",
        "The frequency of TE20 mode of rectangular waveguide, f2 = 5.88 GHz\n",
        "The frequency of TE02 mode of rectangular waveguide, f3 = 12.5 GHz\n",
        "Hence the lowest frequency except dominant mode is, f = 5.88 GHz\n"
       ]
      }
     ],
     "prompt_number": 17
    },
    {
     "cell_type": "heading",
     "level": 2,
     "metadata": {},
     "source": [
      "Example 12.7, page no. 351"
     ]
    },
    {
     "cell_type": "code",
     "collapsed": false,
     "input": [
      "\n",
      "# Variable Declaration\n",
      "a        = 3.00                  # Plane Separation of rectangular waveguide (cm)\n",
      "c        = 3.00*pow(10,8)        # Speed of light in vacuum (m/s)\n",
      "f        = 6.00*pow(10,9)        # Operating frequency (Hz)\n",
      "m        = 1.00                  # Constant m for dominant mode\n",
      "\n",
      "# Calculation\n",
      "import math                      # Math Library\n",
      "Lambda   = c/f * 100                                  # Operating Wavelength (cm)\n",
      "Lambda_o = 2*a/m                                      # Cutoff Wavelength (cm)\n",
      "Lambda_p = Lambda/math.sqrt(1-pow(Lambda/Lambda_o,2)) # Guide Wavelength (cm)\n",
      "vg       = c*math.sqrt(1-pow(Lambda/Lambda_o,2))      # Group velocity (m/s)\n",
      "vp       = c/math.sqrt(1-pow(Lambda/Lambda_o,2))      # Phase velocity (m/s)\n",
      "\n",
      "# Result\n",
      "print \"(a) Cutoff Wavelength, Lambda_o =\",round(Lambda_o),\"cm\"\n",
      "print \"(b) Guide Wavelength, Lambda_p =\",round(Lambda_p,2),\"cm\"\n",
      "print \"(c) Group Velocity, vg =\",round(vg/pow(10,8),2),\"*10^(8) m/s\"\n",
      "print \"    Phase Velocity, vp =\",round(vp/pow(10,8),2),\"*10^(8) m/s\""
     ],
     "language": "python",
     "metadata": {},
     "outputs": [
      {
       "output_type": "stream",
       "stream": "stdout",
       "text": [
        "(a) Cutoff Wavelength, Lambda_o = 6.0 cm\n",
        "(b) Guide Wavelength, Lambda_p = 9.05 cm\n",
        "(c) Group Velocity, vg = 1.66 *10^(8) m/s\n",
        "    Phase Velocity, vp = 5.43 *10^(8) m/s\n"
       ]
      }
     ],
     "prompt_number": 18
    },
    {
     "cell_type": "heading",
     "level": 2,
     "metadata": {},
     "source": [
      "Example 12.8, page no. 352"
     ]
    },
    {
     "cell_type": "code",
     "collapsed": false,
     "input": [
      "\n",
      "# Variable Declaration\n",
      "a         = 6.00               # Plane Separation of rectangular waveguide (cm)\n",
      "c         = 3.00*pow(10,8)     # Speed of light in vacuum (m/s)\n",
      "f         = 10.00*pow(10,9)    # Operating frequency (Hz)\n",
      "m1        = 1# Dimensional Constant\n",
      "m2        = 2# Dimensional Constant\n",
      "m3        = 3# Dimensional Constant\n",
      "m4        = 4# Dimensional Constant\n",
      "\n",
      "\n",
      "# Calculation\n",
      "import math                    # Math Library\n",
      "Lambda    = c/f * 100          # Operating Wavelength (cm)\n",
      "Lambda_o1 = 2*a/m1             # Wavelength (cm)\n",
      "Lambda_o2 = 2*a/m2             # Wavelength (cm)\n",
      "Lambda_o3 = 2*a/m3             # Wavelength (cm)\n",
      "Lambda_o4 = 2*a/m4                                      # Wavelength (cm)\n",
      "Lambda_p  = Lambda/math.sqrt(1-pow(Lambda/Lambda_o3,2)) # Guide Wavelength (cm)\n",
      "\n",
      "# Result\n",
      "print \"(a) For m = 1, Lambda_o =\",round(Lambda_o1),\"cm\"\n",
      "print \"    For m = 2, Lambda_o =\",round(Lambda_o2),\"cm\"\n",
      "print \"    For m = 3, Lambda_o =\",round(Lambda_o3),\"cm\"\n",
      "print \"    For m = 4, Lambda_o =\",round(Lambda_o4),\"cm\"\n",
      "print \"    Hence The largest value of m = 3\"\n",
      "print \"(b) Guide Wavelength, Lambda_p =\",round(Lambda_p,2),\"cm\""
     ],
     "language": "python",
     "metadata": {},
     "outputs": [
      {
       "output_type": "stream",
       "stream": "stdout",
       "text": [
        "(a) For m = 1, Lambda_o = 12.0 cm\n",
        "    For m = 2, Lambda_o = 6.0 cm\n",
        "    For m = 3, Lambda_o = 4.0 cm\n",
        "    For m = 4, Lambda_o = 3.0 cm\n",
        "    Hence The largest value of m = 3\n",
        "(b) Guide Wavelength, Lambda_p = 4.54 cm\n"
       ]
      }
     ],
     "prompt_number": 20
    },
    {
     "cell_type": "heading",
     "level": 2,
     "metadata": {},
     "source": [
      "Example 12.9, page no. 354"
     ]
    },
    {
     "cell_type": "code",
     "collapsed": false,
     "input": [
      "\n",
      "# Variable Declaration\n",
      "Lambda   = 2.00                                    # Wavelength of travelling wave (cm)\n",
      "Lambda_o = 4.00            # Cutoff wavelength (cm)\n",
      "\n",
      "# Calculation\n",
      "import math                    # Math Library\n",
      "Zo       = 377/math.sqrt(1-pow(Lambda/Lambda_o,2)) # Characteristic impedance of the given waveguide (Ohms)\n",
      "\n",
      "# Result\n",
      "print \"The characteristic impedance of the given waveguide, Zo =\",round(Zo),\"Ohms\""
     ],
     "language": "python",
     "metadata": {},
     "outputs": [
      {
       "output_type": "stream",
       "stream": "stdout",
       "text": [
        "The characteristic impedance of the given waveguide, Zo = 435.0 Ohms\n"
       ]
      }
     ],
     "prompt_number": 22
    },
    {
     "cell_type": "heading",
     "level": 2,
     "metadata": {},
     "source": [
      "Example 12.10, page no. 355"
     ]
    },
    {
     "cell_type": "code",
     "collapsed": false,
     "input": [
      "\n",
      "\n",
      "# Variable Declaration\n",
      "m  = 1             # Constant m for TM11 mode\n",
      "n  = 1              # Constant n for TM11 mode\n",
      "\n",
      "# Calculation\n",
      "import math                                 # Math Library\n",
      "Lambda_o = 2/math.sqrt(pow(m,2)+pow(2*n,2)) # (* a) Cutoff wavelength with b=a/2 (m)\n",
      "\n",
      "# Result\n",
      "print \"Cutoff wavelength of standard rectangular waveguides, Lambda_o =\",round(Lambda_o,3),\"* a \""
     ],
     "language": "python",
     "metadata": {},
     "outputs": [
      {
       "output_type": "stream",
       "stream": "stdout",
       "text": [
        "Cutoff wavelength of standard rectangular waveguides, Lambda_o = 0.894 * a \n"
       ]
      }
     ],
     "prompt_number": 24
    },
    {
     "cell_type": "heading",
     "level": 2,
     "metadata": {},
     "source": [
      "Example 12.11, page no. 356"
     ]
    },
    {
     "cell_type": "code",
     "collapsed": false,
     "input": [
      "\n",
      "# Variable Declaration\n",
      "rho1 = 0.553                # Constant from Example 12.7\n",
      "rho2 = 0.661                # Constant from Example 12.8\n",
      "\n",
      "# Calculation\n",
      "import math                 # Math Library\n",
      "Zo1  = 120*math.pi/rho1     # Characteristic Wave Impedance (Ohms)\n",
      "Zo2  = 120*math.pi/rho2     # Characteristic Wave Impedance (Ohms)\n",
      "\n",
      "# Result\n",
      "print \"Ex.12.7 : Characteristic Wave Impedance, Zo1 =\",round(Zo1),\"Ohms\"\n",
      "print \"Ex.12.8 : Characteristic Wave Impedance, Zo2 =\",round(Zo2),\"Ohms\""
     ],
     "language": "python",
     "metadata": {},
     "outputs": [
      {
       "output_type": "stream",
       "stream": "stdout",
       "text": [
        "Ex.12.7 : Characteristic Wave Impedance, Zo1 = 682.0 Ohms\n",
        "Ex.12.8 : Characteristic Wave Impedance, Zo2 = 570.0 Ohms\n"
       ]
      }
     ],
     "prompt_number": 26
    },
    {
     "cell_type": "heading",
     "level": 2,
     "metadata": {},
     "source": [
      "Example 12.12, page no. 357"
     ]
    },
    {
     "cell_type": "code",
     "collapsed": false,
     "input": [
      "\n",
      "# Variable Declaration\n",
      "a   = 4.5                 # Dimension 1 of rectangular waveguide (cm)\n",
      "b   = 3.0                 # Dimension 2 of rectangular waveguide (cm)\n",
      "c   = 3.00*pow(10,8)      # Speed of light in vacuum (m/s)\n",
      "f   = 9.00*pow(10,9)      # Operating frequency (Hz)\n",
      "m1   = 1                   # Constant m for TE10 mode\n",
      "n1   = 0                   # Constant n for TE10 mode\n",
      "m2   = 1                   # Constant m for TM11 mode\n",
      "n2   = 1               # Constant n for TM11 mode\n",
      "\n",
      "# Calculation\n",
      "import math                    # Math Library\n",
      "Lambda    = c/f * 100          # Operating Wavelength (cm)\n",
      "Lambda_o1 = 2*a/m1             # Cutoff Wavelength (cm)\n",
      "Lambda_p1 = Lambda/math.sqrt(1-pow(Lambda/Lambda_o1,2))      # Guide Wavelength (cm)\n",
      "vg1  = c*math.sqrt(1-pow(Lambda/Lambda_o1,2))           # Group velocity (m/s)\n",
      "vp1  = c/math.sqrt(1-pow(Lambda/Lambda_o1,2))           # Phase velocity (m/s)\n",
      "Zo1  = 120*math.pi/math.sqrt(1-pow(Lambda/Lambda_o1,2)) # Characteristic Wave Impedance (Ohms)\n",
      "Lambda_o2 = 2/math.sqrt(pow(m2/a,2)+pow(n2/b,2))\t     # Cutoff Wavelength (cm)\n",
      "Lambda_p2 = Lambda/math.sqrt(1-pow(Lambda/Lambda_o2,2))\t     # Guide Wavelength (cm)\n",
      "vg2       = c*math.sqrt(1-pow(Lambda/Lambda_o2,2))\t     # Group velocity (m/s)\n",
      "vp2       = c/math.sqrt(1-pow(Lambda/Lambda_o2,2))\t     # Phase velocity (m/s)\n",
      "Zo2       = 120*math.pi*math.sqrt(1-pow(Lambda/Lambda_o2,2)) # Characteristic Wave Impedance (Ohms)\n",
      "\n",
      "# Result\n",
      "print \"(a) For TE10 mode :\"\n",
      "print \"Cutoff Wavelength, Lambda_o =\",round(Lambda_o1),\"cm\"\n",
      "print \"Guide Wavelength, Lambda_p =\",round(Lambda_p1,2),\"cm\"\n",
      "print \"Group Velocity, vg =\",round(vg1/pow(10,8),2),\"*10^(8) m/s\"\n",
      "print \"Phase Velocity, vp =\",round(vp1/pow(10,8),2),\"*10^(8) m/s\"\n",
      "print \"Characteristic Wave Impedance, Zo =\",round(Zo1,1),\"Ohms\"\n",
      "print \"(b) For TM11 mode :\"\n",
      "print \"Cutoff Wavelength, Lambda_o =\",round(Lambda_o2),\"cm\"\n",
      "print \"Guide Wavelength, Lambda_p =\",round(Lambda_p2,1),\"cm\"\n",
      "print \"Group Velocity, vg =\",round(vg2/pow(10,8),2),\"*10^(8) m/s\"\n",
      "print \"Phase Velocity, vp =\",round(vp2/pow(10,8),2),\"*10^(8) m/s\"\n",
      "print \"Characteristic Wave Impedance, Zo =\",round(Zo2),\"Ohms\""
     ],
     "language": "python",
     "metadata": {},
     "outputs": [
      {
       "output_type": "stream",
       "stream": "stdout",
       "text": [
        "(a) For TE10 mode :\n",
        "Cutoff Wavelength, Lambda_o = 9.0 cm\n",
        "Guide Wavelength, Lambda_p = 3.59 cm\n",
        "Group Velocity, vg = 2.79 *10^(8) m/s\n",
        "Phase Velocity, vp = 3.23 *10^(8) m/s\n",
        "Characteristic Wave Impedance, Zo = 405.9 Ohms\n",
        "(b) For TM11 mode :\n",
        "Cutoff Wavelength, Lambda_o = 5.0 cm\n",
        "Guide Wavelength, Lambda_p = 4.5 cm\n",
        "Group Velocity, vg = 2.23 *10^(8) m/s\n",
        "Phase Velocity, vp = 4.03 *10^(8) m/s\n",
        "Characteristic Wave Impedance, Zo = 281.0 Ohms\n"
       ]
      }
     ],
     "prompt_number": 28
    },
    {
     "cell_type": "heading",
     "level": 2,
     "metadata": {},
     "source": [
      "Example 12.13, page no. 357"
     ]
    },
    {
     "cell_type": "code",
     "collapsed": false,
     "input": [
      "\n",
      "# Variable Declaration\n",
      "a = 3                 # Width of rectangular waveguide (cm)\n",
      "c = 3.00*pow(10,8)    # Speed of light in vacuum (m/s)\n",
      "m = 1                 # Constant m for dominant mode\n",
      "Zo       = 500        # Characteristic wave impedance (Ohms)\n",
      "\n",
      "# Calculation\n",
      "import math                      # Math Library\n",
      "Lambda_o = 2*a/m                                      # Cutoff Wavelength (cm)\n",
      "Lambda   = pow(1-pow(120*math.pi/Zo,2),0.5)*Lambda_o  # Operating wavelength (cm)\n",
      "f  = c/Lambda                                   # Operating Frequency (Hz)\n",
      " \n",
      "# Result\n",
      "print \"Operating Frequency, f =\",round(f/pow(10,7),2),\"GHz\""
     ],
     "language": "python",
     "metadata": {},
     "outputs": [
      {
       "output_type": "stream",
       "stream": "stdout",
       "text": [
        "Operating Frequency, f = 7.61 GHz\n"
       ]
      }
     ],
     "prompt_number": 30
    },
    {
     "cell_type": "heading",
     "level": 2,
     "metadata": {},
     "source": [
      "Example 12.14, page no. 360"
     ]
    },
    {
     "cell_type": "code",
     "collapsed": false,
     "input": [
      "# Example 12.14\n",
      "# Calculate the cutoff wavelength,\n",
      "\n",
      "# Variable Declaration\n",
      "r  = 2.00              # Diameter of circular waveguide (cm)\n",
      "c  = 3.00*pow(10,8)    # Speed of light in vacuum (m/s)\n",
      "f  = 10.00*pow(10,9)   # Operating frequency (Hz)\n",
      "kr = 1.84              # Constant from Table 12.2\n",
      "\n",
      "# Calculation\n",
      "import math                 # Math Library\n",
      "Lambda   = c/f * 100                                       # Operating Wavelength (cm)\n",
      "Lambda_o = 2*math.pi*r/kr                                  # Cutoff Wavelength (cm)\n",
      "Lambda_p = Lambda/math.sqrt(1-pow(Lambda/Lambda_o,2))      # Guide Wavelength (cm)\n",
      "Zo       = 120*math.pi/math.sqrt(1-pow(Lambda/Lambda_o,2)) # Characteristic Wave Impedance (Ohms)\n",
      "\n",
      "# Result\n",
      "print \"Cutoff Wavelength, Lambda_o =\",round(Lambda_o,2),\"cm\"\n",
      "print \"Guide Wavelength, Lambda_p =\",round(Lambda_p,2),\"cm\"\n",
      "print \"Characteristic Wave Impedance, Zo =\",round(Zo),\"Ohms\""
     ],
     "language": "python",
     "metadata": {},
     "outputs": [
      {
       "output_type": "stream",
       "stream": "stdout",
       "text": [
        "Cutoff Wavelength, Lambda_o = 6.83 cm\n",
        "Guide Wavelength, Lambda_p = 3.34 cm\n",
        "Characteristic Wave Impedance, Zo = 420.0 Ohms\n"
       ]
      }
     ],
     "prompt_number": 32
    },
    {
     "cell_type": "heading",
     "level": 2,
     "metadata": {},
     "source": [
      "Example 12.15, page no. 361"
     ]
    },
    {
     "cell_type": "code",
     "collapsed": false,
     "input": [
      "# Variable Declaration\n",
      "r   = 1                      # Diameter(assumption) of circular waveguide (cm)\n",
      "m   = 1                      # Constant m for dominant mode\n",
      "kr  = 1.84                   # Constant from Table 12.2\n",
      "\n",
      "# Calculation\n",
      "import math                  # Math Library\n",
      "Lambda_o1 = 2*math.pi*r/kr   # Cutoff Wavelength for circular waveguide (cm)\n",
      "Lambda_o2 = Lambda_o1        # Cutoff Wavelength for rectangular waveguide (cm)\n",
      "a         = Lambda_o2*m/2          # Dimensional Variable\n",
      "Ac        = math.pi*pow(r,2)       # Cross Sectional Area of Circular Waveguide (m^2)\n",
      "Ar        = pow(a,2)/2             # Cross Sectional Area of Rectangular Waveguide (m^2)\n",
      "R \t  = Ac/Ar                  # Ratio\n",
      " \n",
      "# Result\n",
      "print \"Ratio, Ac/Ar =\",round(R,2)"
     ],
     "language": "python",
     "metadata": {},
     "outputs": [
      {
       "output_type": "stream",
       "stream": "stdout",
       "text": [
        "Ratio, Ac/Ar = 2.16\n"
       ]
      }
     ],
     "prompt_number": 33
    },
    {
     "cell_type": "heading",
     "level": 2,
     "metadata": {},
     "source": [
      "Example 12.16, page no. 378"
     ]
    },
    {
     "cell_type": "code",
     "collapsed": false,
     "input": [
      "# Variable Declaration\n",
      "a  = 1.00          # Dimension 1 of rectangular waveguide (cm)\n",
      "b  = 0.50                # Dimension 2 of rectangular waveguide (cm)\n",
      "m  = 1          # Constant m for dominant mode\n",
      "del1     = 25.00              # Length of waveguide (cm)\n",
      "c  = 3.00*pow(10,8)# Speed of light in vacuum (m/s) \n",
      "f        = 1.00*pow(10,9)# Operating frequency (Hz)\n",
      "\n",
      "# Calculation\n",
      "import math                     # Math Library\n",
      "Lambda_o = 2 * a/m        # Cutoff Wavelength (cm)\n",
      "Lambda   = c/f * 100            # Operating Wavelength (cm)\n",
      "A_dB     = 54.5 * del1/Lambda_o # Voltage attenuation of waveguide in dominant mode (dB)\n",
      "\n",
      "# Result\n",
      "if Lambda_o<Lambda : print \"The waveguide is operating below cutoff\"\n",
      "print \"Voltage attenuation of waveguide in dominant mode, A_dB =\",round(A_dB),\"dB\""
     ],
     "language": "python",
     "metadata": {},
     "outputs": [
      {
       "output_type": "stream",
       "stream": "stdout",
       "text": [
        "The waveguide is operating below cutoff\n",
        "Voltage attenuation of waveguide in dominant mode, A_dB = 681.0 dB\n"
       ]
      }
     ],
     "prompt_number": 36
    }
   ],
   "metadata": {}
  }
 ]
}