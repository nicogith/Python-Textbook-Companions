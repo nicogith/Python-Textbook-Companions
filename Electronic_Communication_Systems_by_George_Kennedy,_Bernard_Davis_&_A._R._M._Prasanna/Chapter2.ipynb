{
 "metadata": {
  "name": "",
  "signature": "sha256:7e1c74a28912b449959296d5be17e181689de7baeff58aa5e2dcd8837dc4f405"
 },
 "nbformat": 3,
 "nbformat_minor": 0,
 "worksheets": [
  {
   "cells": [
    {
     "cell_type": "heading",
     "level": 1,
     "metadata": {},
     "source": [
      "Chapter 2: Noise"
     ]
    },
    {
     "cell_type": "heading",
     "level": 2,
     "metadata": {},
     "source": [
      "Example 2.1, page no. 18"
     ]
    },
    {
     "cell_type": "code",
     "collapsed": false,
     "input": [
      "\n",
      "# Variable Declaration\n",
      "del_f = 2.00*pow(10,6)     # Bandwidth of interest (Hz)\n",
      "T     = 300                # Operating Temperature (K)\n",
      "k     = 1.38*pow(10,-23)   # Boltzmann's Constant (J/K)\n",
      "\n",
      "# Calculation\n",
      "import math                # Math Library\n",
      "Pn    = k*T*del_f          # Power Output (W)\n",
      "\n",
      "# Result\n",
      "print \"Maximum noise power output of the resistor, Pn =\",round(Pn/pow(10,-13),4),\"* 10^(-13) Watts\""
     ],
     "language": "python",
     "metadata": {},
     "outputs": [
      {
       "output_type": "stream",
       "stream": "stdout",
       "text": [
        "Maximum noise power output of the resistor, Pn = 0.0828 * 10^(-13) Watts\n"
       ]
      }
     ],
     "prompt_number": 1
    },
    {
     "cell_type": "heading",
     "level": 2,
     "metadata": {},
     "source": [
      "Example 2.2, page no. 19"
     ]
    },
    {
     "cell_type": "code",
     "collapsed": false,
     "input": [
      "\n",
      "# Variable Declaration\n",
      "del_f = 2.00*pow(10,6)          # Bandwidth of interest (Hz)\n",
      "T     = 300                     # Operating Temperature (K)\n",
      "k     = 1.38*pow(10,-23)        # Boltzmann's Constant (J/K)\n",
      "R     = 10.00*pow(10,3)         # Input Resistance (Ohms)\n",
      "\n",
      "# Calculation\n",
      "import math                     # Math Library\n",
      "Vn    = pow(4*k*T*del_f*R,0.5)  # RMS Noise Voltage (V)\n",
      "\n",
      "# Result\n",
      "print \"The rms noise voltage at the input of the amplifier, Vn =\",round(Vn/pow(10,-6),1),\"microvolts\""
     ],
     "language": "python",
     "metadata": {},
     "outputs": [
      {
       "output_type": "stream",
       "stream": "stdout",
       "text": [
        "The rms noise voltage at the input of the amplifier, Vn = 18.2 microvolts\n"
       ]
      }
     ],
     "prompt_number": 3
    },
    {
     "cell_type": "heading",
     "level": 2,
     "metadata": {},
     "source": [
      "Example 2.3, page no. 21"
     ]
    },
    {
     "cell_type": "code",
     "collapsed": false,
     "input": [
      "\n",
      "# Variable Declaration\n",
      "del_f = 6.00*pow(10,6)               # Bandwidth of interest (Hz)\n",
      "T     = 290                          # Operating Temperature (K)\n",
      "k     = 1.38*pow(10,-23)             # Boltzmann's Constant (J/K)\n",
      "R1    = 300                          # Input Resistance (Ohms)\n",
      "R2    = 200                          # Device Resistance (Ohms)\n",
      "\n",
      "# Calculation\n",
      "import math                          # Math Library\n",
      "Vn    = pow(4*k*T*del_f*(R1+R2),0.5) # Noise voltage (V)\n",
      "\n",
      "# Result\n",
      "print \"The noise voltage at the input of the Television RF amplifier, Vn =\",round(Vn/pow(10,-6),2),\"uV\""
     ],
     "language": "python",
     "metadata": {},
     "outputs": [
      {
       "output_type": "stream",
       "stream": "stdout",
       "text": [
        "The noise voltage at the input of the Television RF amplifier, Vn = 6.93 uV\n"
       ]
      }
     ],
     "prompt_number": 4
    },
    {
     "cell_type": "heading",
     "level": 2,
     "metadata": {},
     "source": [
      "Example 2.4, page no. 23"
     ]
    },
    {
     "cell_type": "code",
     "collapsed": false,
     "input": [
      "\n",
      "# Variable Declaration\n",
      "A1  = 10                   # First Stage Voltage Gain\n",
      "A2  = 25                   # Second Stage Voltage Gain\n",
      "R11 = 600                  # First Stage Resistance (Ohms)\n",
      "R12 = 1600                 # First Stage Resistance (Ohms)\n",
      "R21 = 27000                # Second Stage Resistance (Ohms)\n",
      "R22 = 81000                # Second Stage Resistance (Ohms)\n",
      "R23 = 10000                 # Second Stage Resistance (Ohms)\n",
      "R3  = 1.00*pow(10,6)        # Third Stage Resistance (Ohms)\n",
      "\n",
      "# Calculation\n",
      "import math                                  # Math Library\n",
      "R1  = R11+R12                                # Resistance 1 (Ohms)\n",
      "R2  = R21*R22/(R21+R22)+R23                  # Resistance 2 (Ohms)\n",
      "Req = R1+(R2/pow(A1,2))+R3/((A1*A1)*(A2*A2)) # Input Noise Resistance (Ohms)\n",
      "\n",
      "# Result\n",
      "print \"Input Noise Resistance, Req =\",round(Req),\"Ohms\""
     ],
     "language": "python",
     "metadata": {},
     "outputs": [
      {
       "output_type": "stream",
       "stream": "stdout",
       "text": [
        "Input Noise Resistance, Req = 2518.0 Ohms\n"
       ]
      }
     ],
     "prompt_number": 6
    },
    {
     "cell_type": "heading",
     "level": 2,
     "metadata": {},
     "source": [
      "Example 2.5, page no. 28"
     ]
    },
    {
     "cell_type": "code",
     "collapsed": false,
     "input": [
      "\n",
      "# Variable Declaration\n",
      "Req = 2518.00             # Resistance From Example 2.4 (Ohms)\n",
      "Rt  = 600.00              # Resistance From Example 2.4 (Ohms)\n",
      "Ra  = 50.00               # Output Impedance (Ohms)\n",
      "\n",
      "# Calculation\n",
      "import math               # Math Library\n",
      "Req1 = Req-Rt             # Equivalent Resistance (Ohms)\n",
      "NF   = 1+Req1/Ra          # Noise Figure\n",
      "\n",
      "# Result\n",
      "print \"Noise Figure, F =\",round(NF,1),\"or\",round(10*math.log10(NF),2),\"dB\""
     ],
     "language": "python",
     "metadata": {},
     "outputs": [
      {
       "output_type": "stream",
       "stream": "stdout",
       "text": [
        "Noise Figure, F = 39.4 or 15.95 dB\n"
       ]
      }
     ],
     "prompt_number": 7
    },
    {
     "cell_type": "heading",
     "level": 2,
     "metadata": {},
     "source": [
      "Example 2.6, page no. 29"
     ]
    },
    {
     "cell_type": "code",
     "collapsed": false,
     "input": [
      "\n",
      "# Variable Declaration\n",
      "To  = 290                  # Operating Temperature (K)\n",
      "Ra  = 50.00                # Antenna Resistance (Ohms)\n",
      "Req = 30.00                # Equivalent Noise Resistance (Ohms)\n",
      "\n",
      "# Calculation\n",
      "import math                # Math Library\n",
      "NF  = 1+Req/Ra             # Noise Figure\n",
      "F   = 10*math.log10(NF)    # Noise Figure (dB)\n",
      "Teq = To*(NF-1)            # Noise Temperature (K)\n",
      " \n",
      "# Result\n",
      "print \"Noise Figure, F =\",round(F,2),\"dB\"\n",
      "print \"Noise Temperature, Teq =\",round(Teq),\"K\""
     ],
     "language": "python",
     "metadata": {},
     "outputs": [
      {
       "output_type": "stream",
       "stream": "stdout",
       "text": [
        "Noise Figure, F = 2.04 dB\n",
        "Noise Temperature, Teq = 174.0 K\n"
       ]
      }
     ],
     "prompt_number": 8
    }
   ],
   "metadata": {}
  }
 ]
}