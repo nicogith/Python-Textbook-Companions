{
 "metadata": {
  "name": "",
  "signature": "sha256:a213742fda8c74130f9501f7775b062f79302454ea874815627cdc7db481bf9e"
 },
 "nbformat": 3,
 "nbformat_minor": 0,
 "worksheets": [
  {
   "cells": [
    {
     "cell_type": "heading",
     "level": 1,
     "metadata": {},
     "source": [
      "Chapter 17: Introduction To Fiber Optic Technology"
     ]
    },
    {
     "cell_type": "heading",
     "level": 2,
     "metadata": {},
     "source": [
      "Example 17.1, page no. 557"
     ]
    },
    {
     "cell_type": "code",
     "collapsed": false,
     "input": [
      "\n",
      "# Variable Declaration\n",
      "n1       = 1.50              # Refractive Index of Substance 1\n",
      "n2       = 1.46              # Refractive Index of Substance 2\n",
      "\n",
      "# Calculation\n",
      "import math     # Math Library\n",
      "THEETA_c = math.asin(n2/n1)  # Critical angle of incidence (degrees)\n",
      "\n",
      "# Result\n",
      "print \"The critical angle of incidence between two given substances is THEETA_c =\",round(THEETA_c*180/math.pi,1),\"degrees.\""
     ],
     "language": "python",
     "metadata": {},
     "outputs": [
      {
       "output_type": "stream",
       "stream": "stdout",
       "text": [
        "The critical angle of incidence between two given substances is THEETA_c = 76.7 degrees.\n"
       ]
      }
     ],
     "prompt_number": 4
    },
    {
     "cell_type": "heading",
     "level": 2,
     "metadata": {},
     "source": [
      "Example 17.2, page no. 566"
     ]
    },
    {
     "cell_type": "code",
     "collapsed": false,
     "input": [
      "\n",
      "# Variable Declaration\n",
      "tr  = 2.00*pow(10,-9)      # Rise Time (s)\n",
      "Cd  = 3.00*pow(10,-12)     # Capacitance (F)\n",
      "Cdh = 2.00*pow(10,-12)     # Assumed Capacitance (F)\n",
      "\n",
      "# Calculation\n",
      "import math   # Math Library\n",
      "BW  = 0.35/tr              # Bandwidth (Hz)\n",
      "Rl  = 1/(2*math.pi*BW*Cdh) # Resistance (Ohms)\n",
      "\n",
      "# Result\n",
      "print \"BW =\",round(BW/pow(10,6)),\"MHz\"\n",
      "print \"Rl =\",round(Rl),\"Ohms\"\n",
      "print \"In practice, a value approximately 25 percent of this calculated value will be used.\""
     ],
     "language": "python",
     "metadata": {},
     "outputs": [
      {
       "output_type": "stream",
       "stream": "stdout",
       "text": [
        "BW = 175.0 MHz\n",
        "Rl = 455.0 Ohms\n",
        "In practice, a value approximately 25 percent of this calculated value will be used.\n"
       ]
      }
     ],
     "prompt_number": 7
    },
    {
     "cell_type": "heading",
     "level": 3,
     "metadata": {},
     "source": [
      "Example 17.3, page no. 569"
     ]
    },
    {
     "cell_type": "code",
     "collapsed": false,
     "input": [
      "\n",
      "# Variable Declaration\n",
      "Mu_A = 40.00               # Diode Current (uW)\n",
      "Mu_W = 80.00               # Incident Light (uW)\n",
      "\n",
      "# Calculation\n",
      "import math   # Math Library\n",
      "R    = Mu_A/Mu_W   # Responsivity (A/W)\n",
      "\n",
      "# Result\n",
      "print \"The Responsivity of the light detector is R =\",round(R,1),\"A/W.\""
     ],
     "language": "python",
     "metadata": {},
     "outputs": [
      {
       "output_type": "stream",
       "stream": "stdout",
       "text": [
        "The Responsivity of the light detector is R = 0.5 A/W.\n"
       ]
      }
     ],
     "prompt_number": 12
    }
   ],
   "metadata": {}
  }
 ]
}