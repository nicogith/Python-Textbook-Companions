{
 "metadata": {
  "name": "",
  "signature": "sha256:c4970c321276b9f7170413d941bf292098cec215a7f4a0308f53e52cf40aad5c"
 },
 "nbformat": 3,
 "nbformat_minor": 0,
 "worksheets": [
  {
   "cells": [
    {
     "cell_type": "heading",
     "level": 1,
     "metadata": {},
     "source": [
      "Chapter 9: Transmission Lines"
     ]
    },
    {
     "cell_type": "heading",
     "level": 2,
     "metadata": {},
     "source": [
      "Example 9.1, page no. 237"
     ]
    },
    {
     "cell_type": "code",
     "collapsed": false,
     "input": [
      "\n",
      "# Variable Declaration\n",
      "Zo = 75                       # Characteristic Impedance (Ohms) \n",
      "C  = 69.00*pow(10,-12)        # Nominal Capacitance (F/m)\n",
      "Di = 0.584*pow(10,-3)         # Inner core diameter (m)\n",
      "k  = 2.23                     # Dielectric Constant\n",
      "\n",
      "# Calculation\n",
      "import math                 # Math Library\n",
      "L  = pow(Zo,2)*C            # Inductance per meter (H/m)\n",
      "Do = Di*pow(10,Zo*math.sqrt(k)/138)  # Outer core diameter (m)\n",
      "\n",
      "# Result\n",
      "print \"Inductance per meter, L =\",round(L/pow(10,-6),3),\"uH/m\"\n",
      "print \"Outer Diameter, D =\",round(Do/pow(10,-3),2),\"mm\""
     ],
     "language": "python",
     "metadata": {},
     "outputs": [
      {
       "output_type": "stream",
       "stream": "stdout",
       "text": [
        "Inductance per meter, L = 0.388 uH/m\n",
        "Outer Diameter, D = 3.78 mm\n"
       ]
      }
     ],
     "prompt_number": 2
    },
    {
     "cell_type": "heading",
     "level": 2,
     "metadata": {},
     "source": [
      "Example 9.2, page no. 237"
     ]
    },
    {
     "cell_type": "code",
     "collapsed": false,
     "input": [
      "\n",
      "# Variable Declaration\n",
      "s      = 1      # Assumed s (m)\n",
      "d      = s      # Condition for minimum Zo (m)\n",
      "\n",
      "# Calculation\n",
      "import math                     # Math Library\n",
      "Zo_min = 276*math.log10(2*s/d)  # Minimum value of characteristic impedance (Ohms)\n",
      " \n",
      "# Result\n",
      "print \"The minimum value of characteristic impedance, Zo_min =\",round(Zo_min),\"Ohms\""
     ],
     "language": "python",
     "metadata": {},
     "outputs": [
      {
       "output_type": "stream",
       "stream": "stdout",
       "text": [
        "The minimum value of characteristic impedance, Zo_min = 83.0 Ohms\n"
       ]
      }
     ],
     "prompt_number": 3
    },
    {
     "cell_type": "heading",
     "level": 2,
     "metadata": {},
     "source": [
      "Example 9.3, page no. 237"
     ]
    },
    {
     "cell_type": "code",
     "collapsed": false,
     "input": [
      "\n",
      "# Variable Declaration\n",
      "Zo = 2000                     # Characteristic Impedance (Ohms) \n",
      "Di = 0.025*pow(10,-3)         # Inner cable diameter (m)\n",
      "k  = 2.56                     # Dielectric Constant \n",
      "\n",
      "# Calculation\n",
      "import math                         # Math Library\n",
      "Do = Di*pow(10,Zo*math.sqrt(k)/138) # Outer conductor diameter (m)\n",
      "\n",
      "# Result\n",
      "print \"Outer Diameter, D =\",round(Do/pow(10,18),2),\"* 10^(15) km or\",round(Do/(9.44*pow(10,15))),\"light years\""
     ],
     "language": "python",
     "metadata": {},
     "outputs": [
      {
       "output_type": "stream",
       "stream": "stdout",
       "text": [
        "Outer Diameter, D = 3.86 * 10^(15) km or 409.0 light years\n"
       ]
      }
     ],
     "prompt_number": 4
    },
    {
     "cell_type": "heading",
     "level": 2,
     "metadata": {},
     "source": [
      "Example 9.4, page no. 243"
     ]
    },
    {
     "cell_type": "code",
     "collapsed": false,
     "input": [
      "\n",
      "# Variable Declaration\n",
      "Zo = 200                # Characteristic Impedance of main line (Ohms) \n",
      "Zl = 300                # Load Impedance (Ohms)\n",
      "\n",
      "# Calculation\n",
      "import math             # Math Library\n",
      "Zo1 = math.sqrt(Zo*Zl)  # Characteristic impedance of the quarter wave transformer (Ohms)\n",
      "\n",
      "# Result\n",
      "print \"Characteristic impedance of the quarter wave transformer, Zo1 =\",round(Zo1),\"Ohms\""
     ],
     "language": "python",
     "metadata": {},
     "outputs": [
      {
       "output_type": "stream",
       "stream": "stdout",
       "text": [
        "Characteristic impedance of the quarter wave transformer, Zo1 = 245.0 Ohms\n"
       ]
      }
     ],
     "prompt_number": 5
    },
    {
     "cell_type": "heading",
     "level": 2,
     "metadata": {},
     "source": [
      "Example 9.5, page no. 246"
     ]
    },
    {
     "cell_type": "code",
     "collapsed": false,
     "input": [
      "\n",
      "# Variable Declaration\n",
      "Zl    = complex(200,75)      # Load Impedance (Ohms)\n",
      "Zo    = 300                  # Characteristic Impedance (Ohms)\n",
      "\n",
      "# Calculation\n",
      "import math                  # Math Library\n",
      "Yl    = 1/Zl                 # Admittance (Mho)\n",
      "Bstub = 1/Yl.imag            # Reactance of the Stub (Ohms)\n",
      "Gl    = Yl.real              # Real Part of Admittance (Mho)\n",
      "Rl    = 1/Gl                 # Resistance (Ohms)\n",
      "Zo1   = math.sqrt(Zo*Rl)     # Characteristic impedance of the quarter wave transformer (Ohms)\n",
      "\n",
      "# Result\n",
      "print \"Reactance of the stub, Bstub =\",round(Bstub,1),\"Ohms\"\n",
      "print \"Characteristic impedance of the quarter wave transformer, Zo1 =\",round(Zo1),\"Ohms\""
     ],
     "language": "python",
     "metadata": {},
     "outputs": [
      {
       "output_type": "stream",
       "stream": "stdout",
       "text": [
        "Reactance of the stub, Bstub = -608.3 Ohms\n",
        "Characteristic impedance of the quarter wave transformer, Zo1 = 262.0 Ohms\n"
       ]
      }
     ],
     "prompt_number": 6
    },
    {
     "cell_type": "heading",
     "level": 2,
     "metadata": {},
     "source": [
      "Example 9.6, page no. 250"
     ]
    },
    {
     "cell_type": "code",
     "collapsed": false,
     "input": [
      "\n",
      "# Variable Declaration\n",
      "Y      = complex(0.004,0.002)  # Load Susceptance (Ohms)\n",
      "Yo     = 0.0033                # Ohms - Characteristic Admittance (Ohms)\n",
      "f      = 150*pow(10,6)         # Operating Frequency (Hz)\n",
      "vc     = 3*pow(10,8)           # Speed of light in vacuum (m/s)\n",
      "\n",
      "# Calculation\n",
      "import math                    # Math Library\n",
      "y      = Y/Yo                  # Normalized susceptance required to cancel loads normalized susceptance\n",
      "Lambda = vc/f                  # Wavelength (m)\n",
      "Length = 0.337*Lambda          # Length from Smith Chart (m)\n",
      "\n",
      "# Result\n",
      "print \"Normalized susceptance required to cancel loads normalized susceptance = +j *\",round(y.imag,2)\n",
      "print \"Length =\",round(Length*100,1),\"cm\""
     ],
     "language": "python",
     "metadata": {},
     "outputs": [
      {
       "output_type": "stream",
       "stream": "stdout",
       "text": [
        "Normalized susceptance required to cancel loads normalized susceptance = +j * 0.61\n",
        "Length = 67.4 cm\n"
       ]
      }
     ],
     "prompt_number": 7
    },
    {
     "cell_type": "heading",
     "level": 2,
     "metadata": {},
     "source": [
      "Example 9.7, page no. 250"
     ]
    },
    {
     "cell_type": "code",
     "collapsed": false,
     "input": [
      "\n",
      "# Variable Declaration\n",
      "Z       = complex(100,50)    # Load Impedance (Ohms)\n",
      "Zo      = 75                 # Characteristic Impedance (Ohms)\n",
      "\n",
      "# Calculation\n",
      "import math                  # Math Library\n",
      "z       = Z/Zo               # Normalized Load Impedance (Ohms)\n",
      "Zg      = 39.8               # Resistance at Distance = 0.184* Lambda, from Smith Chart (Ohms)\n",
      "Zo_dash = math.sqrt(Zg*Zo)   # Impedance of the transformer (Ohms)\n",
      "\n",
      "# Result\n",
      "print \"(a) From Smith Chart the Distance = 0.184 * Lambda\"\n",
      "print \"(b) Zo_dash for the transformer, Zo' =\",round(Zo_dash,1),\"Ohms\""
     ],
     "language": "python",
     "metadata": {},
     "outputs": [
      {
       "output_type": "stream",
       "stream": "stdout",
       "text": [
        "(a) From Smith Chart the Distance = 0.184 * Lambda\n",
        "(b) Zo_dash for the transformer, Zo' = 54.6 Ohms\n"
       ]
      }
     ],
     "prompt_number": 8
    },
    {
     "cell_type": "heading",
     "level": 2,
     "metadata": {},
     "source": [
      "Example 9.8, page no. 253"
     ]
    },
    {
     "cell_type": "code",
     "collapsed": false,
     "input": [
      "\n",
      "# Variable Declaration\n",
      "Z  = complex(450,-600)                          # Load Impedance (Ohms)\n",
      "Zo = 300                                        # Characteristic Impedance (Ohms)\n",
      "\n",
      "# Calculation\n",
      "import math                                     # Math Library\n",
      "z = Z/Zo                                        # Normalized Load Impedance (Ohms)\n",
      "s = 4.6                                         # Standing Wave Ratio\n",
      "L = 1/(2*math.pi)*math.atan(math.sqrt(s)/(s-1)) # (* Lambda) Stub Length (m)\n",
      "\n",
      "# Result\n",
      "print \"Normalized load Impedance = \",z\n",
      "print \"From Smith Chart the Distance to the stub = 0.130 * Lambda\"\n",
      "print \"Stub Length =\",round(L,3),\"* Lambda\""
     ],
     "language": "python",
     "metadata": {},
     "outputs": [
      {
       "output_type": "stream",
       "stream": "stdout",
       "text": [
        "Normalized load Impedance =  (1.5-2j)\n",
        "From Smith Chart the Distance to the stub = 0.130 * Lambda\n",
        "Stub Length = 0.086 * Lambda\n"
       ]
      }
     ],
     "prompt_number": 9
    },
    {
     "cell_type": "heading",
     "level": 2,
     "metadata": {},
     "source": [
      "Example 9.9, page no. 254"
     ]
    },
    {
     "cell_type": "code",
     "collapsed": false,
     "input": [
      "\n",
      "# Variable Declaration\n",
      "Z  = complex(450,-600)               # Load Impedance (Ohms)\n",
      "Zo = 300                             # Characteristic Impedance (Ohms)\n",
      "f1 = 10                              # Old frequency (MHz)\n",
      "f2 = 12                              # New frequency (MHz)\n",
      "\n",
      "# Calculation\n",
      "import math                                            # Math Library\n",
      "z  = Z/Zo                                              # Normalized Load Impedance (Ohms)\n",
      "z1 = z.imag * f1/f2                                    # Intermediate Impedance (Ohms)\n",
      "z  = complex(z.real,z1)                                # Normalized Load Impedance (Ohms)\n",
      "s  = 4.6                                               # Standing Wave Ratio\n",
      "L  = 1/(2*math.pi)*math.atan(math.sqrt(s)/(s-1))*f2/f1 # (* Lambda')Stub Length (m)\n",
      "\n",
      "# Result\n",
      "print \"Normalized load Impedance = \",z\n",
      "print \"From Smith Chart the Distance to the stub = 0.156 * Lambda'\"\n",
      "print \"Stub Length =\",round(L,3),\"* Lambda'\"\n",
      "print \"From Smith chart SWR = 2.2\""
     ],
     "language": "python",
     "metadata": {},
     "outputs": [
      {
       "output_type": "stream",
       "stream": "stdout",
       "text": [
        "Normalized load Impedance =  (1.5-1.66666666667j)\n",
        "From Smith Chart the Distance to the stub = 0.156 * Lambda'\n",
        "Stub Length = 0.103 * Lambda'\n",
        "From Smith chart SWR = 2.2\n"
       ]
      }
     ],
     "prompt_number": 10
    },
    {
     "cell_type": "heading",
     "level": 2,
     "metadata": {},
     "source": [
      "Example 9.10, page no. 256"
     ]
    },
    {
     "cell_type": "code",
     "collapsed": false,
     "input": [
      "\n",
      "# Variable Declaration\n",
      "Z             = 200.00             # Load Impedance (Ohms)\n",
      "Zo            = 300.00             # Characteristic Impedance (Ohms)\n",
      "\n",
      "# Calculation\n",
      "import math                        # Math Library\n",
      "z             = Z/Zo               # Normalized Load Impedance (Ohms)\n",
      "L1_by_Lambda  = 0.311              # Ratio from Smith Chart\n",
      "L2_by_Lambda1 = L1_by_Lambda*1.1   # Ratio\n",
      "\n",
      "# Result\n",
      "print \"(a) Normalized load Impedance = \",round(z,2)\n",
      "print \"    From Smith Chart the Distance to the stub = 0.11 * Lambda\"\n",
      "print \"    From Smith Chart the Length of stub = 0.311 * Lambda\"\n",
      "print \"(b) New Length of stub =\",round(L2_by_Lambda1,3),\"* Lambda'\"\n",
      "print \"    From Smith chart SWR = 1.3\""
     ],
     "language": "python",
     "metadata": {},
     "outputs": [
      {
       "output_type": "stream",
       "stream": "stdout",
       "text": [
        "(a) Normalized load Impedance =  0.67\n",
        "    From Smith Chart the Distance to the stub = 0.11 * Lambda\n",
        "    From Smith Chart the Length of stub = 0.311 * Lambda\n",
        "(b) New Length of stub = 0.342 * Lambda'\n",
        "    From Smith chart SWR = 1.3\n"
       ]
      }
     ],
     "prompt_number": 11
    }
   ],
   "metadata": {}
  }
 ]
}