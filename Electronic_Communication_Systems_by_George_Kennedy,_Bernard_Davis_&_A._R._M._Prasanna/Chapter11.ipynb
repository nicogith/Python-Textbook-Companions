{
 "metadata": {
  "name": "",
  "signature": "sha256:036aa35bf5e5de2a2351f2b120a2084a8b3fc2b376331b57004e9eccc3893299"
 },
 "nbformat": 3,
 "nbformat_minor": 0,
 "worksheets": [
  {
   "cells": [
    {
     "cell_type": "heading",
     "level": 1,
     "metadata": {},
     "source": [
      "Chapter 11: Antennas"
     ]
    },
    {
     "cell_type": "heading",
     "level": 2,
     "metadata": {},
     "source": [
      "Example 11.1, page no. 292"
     ]
    },
    {
     "cell_type": "code",
     "collapsed": false,
     "input": [
      "\n",
      "# Variable Declaration\n",
      "f1      = 1.00*pow(10,6)  # Operating Frequency (Hz)\n",
      "f2      = 10.00*pow(10,3) # Operating Frequency (Hz)\n",
      "c       = 3.00*pow(10,8)  # Speed of light in vacuum (m/s)\n",
      "\n",
      "# Calculation\n",
      "Lambda1 = c/f1          # Mechanical Length (m)\n",
      "Lambda2 = c/f2            # Mechanical Length (m)\n",
      "\n",
      "# Result\n",
      "print \"(a) Mechanical Length at 1 MHz, Lambda1 =\",round(Lambda1),\"m\"\n",
      "print \"(b) Mechanical Length at 10 kHz, Lambda2 =\",round(Lambda2),\"m\"\n",
      "print \"    Increase in Length =\",round(Lambda2/Lambda1),\"times\""
     ],
     "language": "python",
     "metadata": {},
     "outputs": [
      {
       "output_type": "stream",
       "stream": "stdout",
       "text": [
        "(a) Mechanical Length at 1 MHz, Lambda1 = 300.0 m\n",
        "(b) Mechanical Length at 10 kHz, Lambda2 = 30000.0 m\n",
        "    Increase in Length = 100.0 times\n"
       ]
      }
     ],
     "prompt_number": 16
    },
    {
     "cell_type": "heading",
     "level": 2,
     "metadata": {},
     "source": [
      "Example 11.2, page no. 294"
     ]
    },
    {
     "cell_type": "code",
     "collapsed": false,
     "input": [
      "\n",
      "# Variable Declaration \n",
      "f      = 1.00*pow(10,6)                                            # Operating Frequency (Hz)\n",
      "Le     = 30                                                        # Hertzian Dipole Length (m)\n",
      "I      = 5                                                         # Current value (A)\n",
      "r      = 1.00*pow(10,3)                                            # Distance (m)\n",
      "Theeta = 90                                                        # Angle (degrees)\n",
      "c      = 3.00*pow(10,8)                                            # Speed of light in vacuum (m/s)\n",
      "\n",
      "# Calculation\n",
      "import math\n",
      "Lambda = c/f                                                       # Wavelength (m)\n",
      "E      = ((60*math.pi*Le*I)/Lambda*r)*math.sin(Theeta*math.pi/180) # Calculation of Field Strength (s/m)\n",
      "\n",
      "# Result\n",
      "print \"Field Strength at a distance of 1 km and at an angle of 90 degrees, E =\",round(E/(math.pi*pow(10,3))),\"*pi*10^(-3) us/m\""
     ],
     "language": "python",
     "metadata": {},
     "outputs": [
      {
       "output_type": "stream",
       "stream": "stdout",
       "text": [
        "Field Strength at a distance of 1 km and at an angle of 90 degrees, E = 30.0 *pi*10^(-3) us/m\n"
       ]
      }
     ],
     "prompt_number": 15
    },
    {
     "cell_type": "heading",
     "level": 2,
     "metadata": {},
     "source": [
      "Example 11.3, page no. 296"
     ]
    },
    {
     "cell_type": "code",
     "collapsed": false,
     "input": [
      "\n",
      "# Variable Declaration \n",
      "f   = 500*pow(10,3)         # Operating Frequency (Hz)\n",
      "vel = 3.00*pow(10,8)        # Speed of light in vacuum (m/s)\n",
      "Vf  = 0.95                  # Velocity Factor\n",
      "\n",
      "# Calculation\n",
      "import math                 # Math Library\n",
      "Le  = vel/f*Vf              # Length of the antenna (m)\n",
      "\n",
      "# Result\n",
      "print \"The Length of the Antenna, Le =\",round(Le),\"m or\",round(Le*3.936),\"ft\"\n"
     ],
     "language": "python",
     "metadata": {},
     "outputs": [
      {
       "output_type": "stream",
       "stream": "stdout",
       "text": [
        "The Length of the Antenna, Le = 570.0 m or 2244.0 ft\n"
       ]
      }
     ],
     "prompt_number": 17
    },
    {
     "cell_type": "heading",
     "level": 2,
     "metadata": {},
     "source": [
      "Example 11.4, page no. 299"
     ]
    },
    {
     "cell_type": "code",
     "collapsed": false,
     "input": [
      "\n",
      "# Variable Declaration \n",
      "P1 = 1*pow(10,3)          # Power of Half Wave Dipole antenna (w)\n",
      "A = 2.15                  # Gain (dB)\n",
      "\n",
      "# Calculation\n",
      "import math               # Math Library\n",
      "P2 = pow(10,A/10)*P1      # Power delivered (w)\n",
      "\n",
      "# Result\n",
      "print \"The power delivered to the isotropic antenna to match the field strength of directional antenna, P2 =\",round(P2,1),\"W\""
     ],
     "language": "python",
     "metadata": {},
     "outputs": [
      {
       "output_type": "stream",
       "stream": "stdout",
       "text": [
        "The power delivered to the isotropic antenna to match the field strength of directional antenna, P2 = 1640.6 W\n"
       ]
      }
     ],
     "prompt_number": 18
    },
    {
     "cell_type": "heading",
     "level": 2,
     "metadata": {},
     "source": [
      "Example 11.5, page no. 300"
     ]
    },
    {
     "cell_type": "code",
     "collapsed": false,
     "input": [
      "\n",
      "\n",
      "# Variable Declaration \n",
      "P          = 1.00*pow(10,3)       # Input Power (W)\n",
      "field_gain = 2           # Field Gain\n",
      "E          = 0.5                  # (*100) Efficiency (%)\n",
      "\n",
      "# Calculation\n",
      "import math                       # Math Library\n",
      "Po         = P*E                  # Power fed (W)\n",
      "erp        = Po*pow(field_gain,2) # Effective Radiated Power (w)\n",
      "\n",
      "\n",
      "# Result\n",
      "print \" The Effective Radiated Power, erp =\",round(erp),\"W\""
     ],
     "language": "python",
     "metadata": {},
     "outputs": [
      {
       "output_type": "stream",
       "stream": "stdout",
       "text": [
        " The Effective Radiated Power, erp = 2000.0 W\n"
       ]
      }
     ],
     "prompt_number": 19
    },
    {
     "cell_type": "heading",
     "level": 2,
     "metadata": {},
     "source": [
      "Example 11.6, page no. 300"
     ]
    },
    {
     "cell_type": "code",
     "collapsed": false,
     "input": [
      "\n",
      "# Variable Declaration \n",
      "P_in = 800               # Input Power (W)\n",
      "E_lost = 0.25            # (*100) Loss Percentage (%)\n",
      "\n",
      "# Calculation\n",
      "import math              # Math Library\n",
      "Pd     = E_lost*P_in     # Power Lost (W)\n",
      "P_rad  = P_in-Pd # Radiated Power (W)\n",
      "\n",
      "# Result\n",
      "print \"Radiated Power, P_rad =\",round(P_rad),\"W\""
     ],
     "language": "python",
     "metadata": {},
     "outputs": [
      {
       "output_type": "stream",
       "stream": "stdout",
       "text": [
        "Radiated Power, P_rad = 600.0 W\n"
       ]
      }
     ],
     "prompt_number": 20
    },
    {
     "cell_type": "heading",
     "level": 2,
     "metadata": {},
     "source": [
      "Example 11.7, page no. 301"
     ]
    },
    {
     "cell_type": "code",
     "collapsed": false,
     "input": [
      "\n",
      "\n",
      "# Variable Declaration \n",
      "R_rad = 100              # Radiation Resistance (Ohms)\n",
      "E     = 0.75             # (*100) Efficiency (%)\n",
      "\n",
      "# Calculation\n",
      "import math              # Math Library\n",
      "Rd    = R_rad/E-R_rad    # Antenna Resistance (Ohms)\n",
      "\n",
      "# Result\n",
      "print \"Antenna Resistance, Rd =\",round(Rd,2),\"Ohms\""
     ],
     "language": "python",
     "metadata": {},
     "outputs": [
      {
       "output_type": "stream",
       "stream": "stdout",
       "text": [
        "Antenna Resistance, Rd = 33.33 Ohms\n"
       ]
      }
     ],
     "prompt_number": 10
    },
    {
     "cell_type": "heading",
     "level": 2,
     "metadata": {},
     "source": [
      "Example 11.8, page no. 309"
     ]
    },
    {
     "cell_type": "code",
     "collapsed": false,
     "input": [
      "\n",
      "# Variable Declaration \n",
      "Zs = 5          # Impedance of the transmission line (Ohms)\n",
      "Zr = 70                  # Impedance of the antenna (Ohms)\n",
      "\n",
      "# Calculation\n",
      "import math              # Math Library\n",
      "Z  = Zs*Zr             # Characteristic Impedance (Ohms)\n",
      "\n",
      "# Result\n",
      "print \"The characteristic impedance of the matching section, Z =\",round(Z),\"Ohms\""
     ],
     "language": "python",
     "metadata": {},
     "outputs": [
      {
       "output_type": "stream",
       "stream": "stdout",
       "text": [
        "The characteristic impedance of the matching section, Z = 350.0 Ohms\n"
       ]
      }
     ],
     "prompt_number": 21
    },
    {
     "cell_type": "heading",
     "level": 2,
     "metadata": {},
     "source": [
      "Example 11.9, page no. 316"
     ]
    },
    {
     "cell_type": "code",
     "collapsed": false,
     "input": [
      "\n",
      "# Variable Declaration \n",
      "D      = 2               # Mouth diameter of reflector (m)\n",
      "f      = 6.00*pow(10,9)  # Operating Frequency (Hz)\n",
      "c      = 3.00*pow(10,8)  # Speed of light in vacuum (m/s)\n",
      "\n",
      "# Calculation\n",
      "import math              # Math Library\n",
      "Lambda = c/f       # Wavelength (m)\n",
      "phi_o  = 2*70*Lambda/D   # Beam width between nulls of a paraboloid reflector (degrees)\n",
      "\n",
      "# Result\n",
      "print \"The beam width between nulls of a paraboloid reflector, phi_o =\",round(phi_o,1),\"degrees\""
     ],
     "language": "python",
     "metadata": {},
     "outputs": [
      {
       "output_type": "stream",
       "stream": "stdout",
       "text": [
        "The beam width between nulls of a paraboloid reflector, phi_o = 3.5 degrees\n"
       ]
      }
     ],
     "prompt_number": 22
    },
    {
     "cell_type": "heading",
     "level": 2,
     "metadata": {},
     "source": [
      "Example 11.10, page no. 317"
     ]
    },
    {
     "cell_type": "code",
     "collapsed": false,
     "input": [
      "\n",
      "# Variable Declaration \n",
      "D      = 200                  # Mouth diameter of reflector (m)\n",
      "Lambda = 5                    # Wavelength (m)\n",
      "\n",
      "# Calculation\n",
      "import math                   # Math Library\n",
      "Ap     = 6*pow(D/Lambda,2)    # Gain of the antenna\n",
      "\n",
      "# Result\n",
      "print \" The gain of the antenna, Ap =\",round(Ap)"
     ],
     "language": "python",
     "metadata": {},
     "outputs": [
      {
       "output_type": "stream",
       "stream": "stdout",
       "text": [
        " The gain of the antenna, Ap = 9600.0\n"
       ]
      }
     ],
     "prompt_number": 13
    }
   ],
   "metadata": {}
  }
 ]
}