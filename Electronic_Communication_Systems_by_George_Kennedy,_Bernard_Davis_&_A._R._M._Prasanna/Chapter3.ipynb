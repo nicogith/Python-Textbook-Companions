{
 "metadata": {
  "name": "",
  "signature": "sha256:e528d450b010e6a0fc0701d08e663db71f95558ee29c88e64def041726f96bfa"
 },
 "nbformat": 3,
 "nbformat_minor": 0,
 "worksheets": [
  {
   "cells": [
    {
     "cell_type": "heading",
     "level": 1,
     "metadata": {},
     "source": [
      "Chapter 3: Amplitude Modulation Techniques"
     ]
    },
    {
     "cell_type": "heading",
     "level": 2,
     "metadata": {},
     "source": [
      "Example 3.1, page no. 36"
     ]
    },
    {
     "cell_type": "code",
     "collapsed": false,
     "input": [
      "\n",
      "# Variable Declaration\n",
      "L        = 50.0*pow(10,-6)     # Transmitter Inductance (H)\n",
      "C        = 1.0*pow(10,-9)      # Transmitter Capacitance (F)\n",
      "AF_range = 10*pow(10,3)        # Audio Frequency Range (Hz)\n",
      "\n",
      "# Calculation\n",
      "import math  # Math Library\n",
      "fc= 1/(2*math.pi*math.sqrt(L*C))# Center Frequency (Hz)\n",
      "fl= fc-AF_range# Frequency of LSB (Hz)\n",
      "fu= fc+AF_range# Frequency of USB (Hz)\n",
      "\n",
      "# Result\n",
      "print \"Center Frequency, fc= \",math.ceil(fc/pow(10,3)),\"kHz\"\n",
      "print \"Frequency Range occupied by the Sidebands is\",math.ceil(fl/pow(10,3)),\"to\",math.ceil(fu/pow(10,3)),\"kHz\""
     ],
     "language": "python",
     "metadata": {},
     "outputs": [
      {
       "output_type": "stream",
       "stream": "stdout",
       "text": [
        "Center Frequency, fc=  712.0 kHz\n",
        "Frequency Range occupied by the Sidebands is 702.0 to 722.0 kHz\n"
       ]
      }
     ],
     "prompt_number": 1
    },
    {
     "cell_type": "heading",
     "level": 2,
     "metadata": {},
     "source": [
      "Example 3.2, page no. 38"
     ]
    },
    {
     "cell_type": "code",
     "collapsed": false,
     "input": [
      "\n",
      "# Variable Declaration\n",
      "P_c  = 400                   # Carrier Power (W)\n",
      "m    = 0.75                  # Modulation Index\n",
      "\n",
      "# Calculation\n",
      "import math                  # Math Library\n",
      "P_AM = P_c*(1+pow(m,2)/2)    # Total Power in the modulated Wave (W)\n",
      "\n",
      "# Result\n",
      "print \"Total Power in the Modulated Wave is\",P_AM,\"W\""
     ],
     "language": "python",
     "metadata": {},
     "outputs": [
      {
       "output_type": "stream",
       "stream": "stdout",
       "text": [
        "Total Power in the Modulated Wave is 512.5 W\n"
       ]
      }
     ],
     "prompt_number": 2
    },
    {
     "cell_type": "heading",
     "level": 2,
     "metadata": {},
     "source": [
      "Example 3.3, page no. 39"
     ]
    },
    {
     "cell_type": "code",
     "collapsed": false,
     "input": [
      "\n",
      "# Variable Declaration\n",
      "P_t = 10000                     # Radio Transmitter Power (W)\n",
      "m   = 0.60                      # Modulation Index\n",
      "\n",
      "# Calculation\n",
      "import math                     # Math Library\n",
      "P_c = P_t/(1+pow(m,2)/2)        # Carrier Power (W)\n",
      "\n",
      "# Result\n",
      "print \"Carrier Power is\",round(P_c/pow(10,3),2),\"kW\""
     ],
     "language": "python",
     "metadata": {},
     "outputs": [
      {
       "output_type": "stream",
       "stream": "stdout",
       "text": [
        "Carrier Power is 8.47 kW\n"
       ]
      }
     ],
     "prompt_number": 3
    },
    {
     "cell_type": "heading",
     "level": 2,
     "metadata": {},
     "source": [
      "Example 3.4, page no. 39"
     ]
    },
    {
     "cell_type": "code",
     "collapsed": false,
     "input": [
      "\n",
      "# Variable Declaration\n",
      "I_t  = 8.93           # Total Antenna current (A) \n",
      "I_c  = 8              # Carrier Antenna Current (A)\n",
      "m    = 0.80           # Modulation Index\n",
      "\n",
      "# Calculation\n",
      "import math                            # Math Library\n",
      "m1   = math.sqrt(2*(pow(I_t/I_c,2)-1)) # Percentage Modulation (%)\n",
      "I_t1 = I_c*math.sqrt(1+pow(m,2)/2)     # Antenna Current (A)\n",
      "\n",
      "# Result\n",
      "print \"Modulation Index calculated for first part is\",round(m1*100,1),\"%\"\n",
      "print \"Antenna Current calculated for second part is\",round(I_t1,2),\"A\""
     ],
     "language": "python",
     "metadata": {},
     "outputs": [
      {
       "output_type": "stream",
       "stream": "stdout",
       "text": [
        "Modulation Index calculated for first part is 70.1 %\n",
        "Antenna Current calculated for second part is 9.19 A\n"
       ]
      }
     ],
     "prompt_number": 4
    },
    {
     "cell_type": "heading",
     "level": 2,
     "metadata": {},
     "source": [
      "Example 3.5, page no. 41\u00b6"
     ]
    },
    {
     "cell_type": "code",
     "collapsed": false,
     "input": [
      "\n",
      "# Variable Declaration\n",
      "P_t  = 10.125*pow(10,3)         # Total Power(W)\n",
      "P_c  = 9.00*pow(10,3)           # Carrier Power(W)\n",
      "m2   = 0.40               # Modulation Index\n",
      "\n",
      "# Calculation\n",
      "import math      # Math Library\n",
      "m1   = math.sqrt(2*(P_t/P_c-1))       # Modulation Index\n",
      "mt   = math.sqrt(pow(m1,2)+pow(m2,2)) # Total Modulation index\n",
      "P_AM = P_c*(1+pow(mt,2)/2)      # Total Radiated Power(W)\n",
      "\n",
      "# Result\n",
      "print \"Modulation Index of first part is, m =\",m1\n",
      "print \"Total Modulation Index is, m_t =\",round(mt,2)\n",
      "print \"Total Radiated Power, P_AM =\",P_AM/pow(10,3),\"kW\""
     ],
     "language": "python",
     "metadata": {},
     "outputs": [
      {
       "output_type": "stream",
       "stream": "stdout",
       "text": [
        "Modulation Index of first part is, m = 0.5\n",
        "Total Modulation Index is, m_t = 0.64\n",
        "Total Radiated Power, P_AM = 10.845 kW\n"
       ]
      }
     ],
     "prompt_number": 1
    },
    {
     "cell_type": "heading",
     "level": 2,
     "metadata": {},
     "source": [
      "Example 3.6, page no. 41"
     ]
    },
    {
     "cell_type": "code",
     "collapsed": false,
     "input": [
      "\n",
      "# Variable Declaration\n",
      "I_t = 11                              # Total Antenna current (A) \n",
      "I_T = 12                              # Total Antenna current for second part (A) \n",
      "m1  = 0.40                            # Modulation Index\n",
      "\n",
      "# Calculation\n",
      "import math                           # Math Library\n",
      "I_c = I_t/math.sqrt(1+pow(m1,2)/2)    # Current (A)\n",
      "mt  = math.sqrt(2*(pow(I_T/I_c,2)-1)) # Modulation Index\n",
      "m2  = math.sqrt(pow(mt,2)-pow(m1,2))  # Modulation Index\n",
      "\n",
      "# Result\n",
      "print \"Modulation Index calculated is\",round(m2,2)"
     ],
     "language": "python",
     "metadata": {},
     "outputs": [
      {
       "output_type": "stream",
       "stream": "stdout",
       "text": [
        "Modulation Index calculated is 0.64\n"
       ]
      }
     ],
     "prompt_number": 6
    },
    {
     "cell_type": "heading",
     "level": 2,
     "metadata": {},
     "source": [
      "Example 3.7, page no. 44"
     ]
    },
    {
     "cell_type": "code",
     "collapsed": false,
     "input": [
      "\n",
      "# Variable Declaration\n",
      "P_c     = 400              # Carrier Power (W)\n",
      "m1      = 1.0              # Modulation Index (for first part)\n",
      "m2      = 0.75             # Modulation Index (for second part)\n",
      "\n",
      "# Calculation\n",
      "import math                # Math Library\n",
      "# (i) Power saving of DSBSC compared to AM for 100% Modulation Depth\n",
      "P_AM1=P_c*(1+pow(m1,2)/2)  # Power of AM Wave (W)\n",
      "P_DSBSC1=P_c*pow(m1,2)/2   # Power of DSBSC Wave (W)\n",
      "Saving1=P_AM1-P_DSBSC1     # Power Saving (W)\n",
      "# (ii) Power Required for DSBSC Wave Transmission for 75% Modulation Depth\n",
      "P_DSBSC2=P_c*pow(m2,2)/2   # Power of DSBSC Wave (W)\n",
      "\n",
      "# Result\n",
      "print \"(i)  Power of AM Wave for\",m1*100,\"% Modulation Depth is\",P_AM1,\"W\"\n",
      "print \"     Power of DSBSC Wave for\",m1*100,\"% Modulation Depth is\",P_DSBSC1,\"W\"\n",
      "print \"     Power saving of DSBSC compared to AM for\",m1*100,\"% Modulation Depth is\",Saving1,\"W\"\n",
      "print \"(ii) Power Required for DSBSC Wave Transmission for\",m2*100,\"% Modulation Depth is\",P_DSBSC2,\"W\"\n",
      "print \"     Power of DSBSC is maximum for m = 1, and less for m < 1.\""
     ],
     "language": "python",
     "metadata": {},
     "outputs": [
      {
       "output_type": "stream",
       "stream": "stdout",
       "text": [
        "(i)  Power of AM Wave for 100.0 % Modulation Depth is 600.0 W\n",
        "     Power of DSBSC Wave for 100.0 % Modulation Depth is 200.0 W\n",
        "     Power saving of DSBSC compared to AM for 100.0 % Modulation Depth is 400.0 W\n",
        "(ii) Power Required for DSBSC Wave Transmission for 75.0 % Modulation Depth is 112.5 W\n",
        "     Power of DSBSC is maximum for m = 1, and less for m < 1.\n"
       ]
      }
     ],
     "prompt_number": 7
    },
    {
     "cell_type": "heading",
     "level": 2,
     "metadata": {},
     "source": [
      "Example 3.8, page no. 45"
     ]
    },
    {
     "cell_type": "code",
     "collapsed": false,
     "input": [
      "\n",
      "# Variable Declaration\n",
      "P_DSBSC = 1000                  # Total Power (W)\n",
      "m       = 0.60                  # Modulation Index\n",
      "\n",
      "# Calculation\n",
      "import math                     # Math Library\n",
      "P_c     = P_DSBSC*(2/pow(m,2))  # Carrier Power (W)\n",
      "\n",
      "# Result\n",
      "print \"We require\",round(P_c/pow(10,3),2),\"kW to transmit the carrier component along with the existing\",P_DSBSC/pow(10,3),\" kW for the sidebands.\""
     ],
     "language": "python",
     "metadata": {},
     "outputs": [
      {
       "output_type": "stream",
       "stream": "stdout",
       "text": [
        "We require 5.56 kW to transmit the carrier component along with the existing 1  kW for the sidebands.\n"
       ]
      }
     ],
     "prompt_number": 8
    },
    {
     "cell_type": "heading",
     "level": 2,
     "metadata": {},
     "source": [
      "Example 3.9, page no.48"
     ]
    },
    {
     "cell_type": "code",
     "collapsed": false,
     "input": [
      "\n",
      "# Variable Declaration\n",
      "P_c      = 400                                          # Carrier Power (W)\n",
      "m1       = 1.0                                          # Modulation Index (for first part)\n",
      "m2       = 0.75                                         # Modulation Index (for second part)\n",
      "\n",
      "# Calculation\n",
      "import math                                             # Math Library\n",
      "# (i) Power saving of SSB compared to AM AND DSBSC for 100% Modulation Depth\n",
      "P_AM1    = P_c*(1+pow(m1,2)/2)                          # Power of AM Wave (w)\n",
      "P_DSBSC1 = P_c*pow(m1,2)/2 # Power of DSBSC Wave (w)\n",
      "P_SSB1   = P_c*pow(m1,2)/4 # Power of SSB Wave (w)\n",
      "Saving1  = P_AM1-P_SSB1    # Power Saving (w)\n",
      "Saving2  = P_DSBSC1-P_SSB1 # Power Saving (w)\n",
      "# (ii) Power Required for SSB Wave Transmission for 75% Modulation Depth\n",
      "P_SSB2   = P_c*pow(m2,2)/4                              # Power of SSB Wave (w)\n",
      "\n",
      "# Result\n",
      "\n",
      "print \"(i)  Power of SSB Wave for\",m1*100,\"% Modulation Depth is\",P_SSB1,\"W\"\n",
      "print \"     Power saving of SSB compared to AM for\",m1*100,\"% Modulation Depth is\",Saving1,\"W and compared to DSBSC for\",m1*100,\"% Modulation Depth is\",Saving2,\"W\"\n",
      "print \"(ii) Power Required for SSB Wave Transmission for\",m2*100,\"% Modulation Depth is\",P_SSB2,\"W\"\n",
      "print \"     Power of SSB is maximum for m = 1, and less for m < 1.\""
     ],
     "language": "python",
     "metadata": {},
     "outputs": [
      {
       "output_type": "stream",
       "stream": "stdout",
       "text": [
        "(i)  Power of SSB Wave for 100.0 % Modulation Depth is 100.0 W\n",
        "     Power saving of SSB compared to AM for 100.0 % Modulation Depth is 500.0 W and compared to DSBSC for 100.0 % Modulation Depth is 100.0 W\n",
        "(ii) Power Required for SSB Wave Transmission for 75.0 % Modulation Depth is 56.25 W\n",
        "     Power of SSB is maximum for m = 1, and less for m < 1.\n"
       ]
      }
     ],
     "prompt_number": 9
    },
    {
     "cell_type": "heading",
     "level": 2,
     "metadata": {},
     "source": [
      "Example 3.10, page no. 49\u00b6"
     ]
    },
    {
     "cell_type": "code",
     "collapsed": false,
     "input": [
      "\n",
      "# Variable Declaration\n",
      "P_SSB = 0.5*pow(10,3)         # Total Power (W)\n",
      "m     = 0.60                # Modulation Index\n",
      "\n",
      "# Calculation\n",
      "import math                   # Math Library\n",
      "P_c   = P_SSB*(4/pow(m,2))    # Carrier Power (W)\n",
      "\n",
      "# Result\n",
      "print \"We require\",round(P_c/pow(10,3),2),\"kW to transmit the carrier component along with the existing\",P_SSB/pow(10,3),\"kW for the one sideband and\",1-P_SSB/pow(10,3),\"kW more for another sideband.\"\n",
      "print \"In Total\",round(P_c/pow(10,3)+1,2),\"kW is required by the AM Transmitter\""
     ],
     "language": "python",
     "metadata": {},
     "outputs": [
      {
       "output_type": "stream",
       "stream": "stdout",
       "text": [
        "We require 5.56 kW to transmit the carrier component along with the existing 0.5 kW for the one sideband and 0.5 kW more for another sideband.\n",
        "In Total 6.56 kW is required by the AM Transmitter\n"
       ]
      }
     ],
     "prompt_number": 10
    },
    {
     "cell_type": "heading",
     "level": 2,
     "metadata": {},
     "source": [
      "Example 3.11, page no. 49"
     ]
    },
    {
     "cell_type": "code",
     "collapsed": false,
     "input": [
      "\n",
      "# Variable Declaration\n",
      "m1  = 1.0       # Modulation Index for (a)\n",
      "m2  = 0.5       # Modulation Index for (b)\n",
      "\n",
      "# Calculation\n",
      "import math                                        # Math Library\n",
      "# (a) Percentage Power Saving for Depth of Modulation 100 %\n",
      "PAM_by_Pc1  = 1+pow(m1,2)/2                        # Ratio of AM Wave to Carrier Power (W)\n",
      "PSSB_By_Pc1 = pow(m1,2)/4                          # Ratio of SSB Wave to Carrier Power (W)\n",
      "Saving1     = (PAM_by_Pc1-PSSB_By_Pc1)/PAM_by_Pc1  # Power Saving (W)\n",
      "# (b) Percentage Power Saving for Depth of Modulation 50 %\n",
      "PAM_by_Pc2  = 1+pow(m2,2)/2                        # Ratio of AM Wave to Carrier Power (W)\n",
      "PSSB_By_Pc2 = pow(m2,2)/4                          # Ratio of SSB Wave to Carrier Power (W)\n",
      "Saving2     = (PAM_by_Pc2-PSSB_By_Pc2)/PAM_by_Pc2  # Power Saving (W)\n",
      "\n",
      "# Result\n",
      "print \"(a)Percentage Power Saving for Depth of Modulation of\",m1,\"is\",round(Saving1*100,1),\"%\"\n",
      "print \"(b)Percentage Power Saving for Depth of Modulation of\",m2,\"is\",round(Saving2*100,1),\"%\""
     ],
     "language": "python",
     "metadata": {},
     "outputs": [
      {
       "output_type": "stream",
       "stream": "stdout",
       "text": [
        "(a)Percentage Power Saving for Depth of Modulation of 1.0 is 83.3 %\n",
        "(b)Percentage Power Saving for Depth of Modulation of 0.5 is 94.4 %\n"
       ]
      }
     ],
     "prompt_number": 11
    },
    {
     "cell_type": "heading",
     "level": 2,
     "metadata": {},
     "source": [
      "Example 3.12, page no. 52"
     ]
    },
    {
     "cell_type": "code",
     "collapsed": false,
     "input": [
      "\n",
      "# Variable Declaration\n",
      "P_c      = 400                                  # Carrier Power (W)\n",
      "m1       = 1.0                                  # Modulation Index (for first part)\n",
      "m2       = 0.75                                 # Modulation Index (for second part)\n",
      "x        = 0.2                                  # (*100)Percentage Wanted Sideband in VSB (%)\n",
      "\n",
      "# Calculation\n",
      "import math                                     # Math Library\n",
      "# (i) Power saving of VSB compared to AM, DSBSC and SSB for 100% Modulation Depth\n",
      "P_AM1    = P_c*(1+pow(m1,2)/2)                  # Power of AM Wave (W)\n",
      "P_DSBSC1 = P_c*pow(m1,2)/2                      # Power of DSBSC Wave (W)        \n",
      "P_SSB1   = P_c*pow(m1,2)/4                      # Power of SSB Wave (W)\n",
      "P_VSB1   = P_c*pow(m1,2)/4+x*P_c*pow(m1,2)/4    # Power of VSB Wave (W)\n",
      "Saving1  = P_AM1-P_VSB1                         # Power Saving (W)\n",
      "Saving2  = P_DSBSC1-P_VSB1                      # Power Saving (W)\n",
      "Saving3  = P_VSB1-P_SSB1                        # Power Saving (W)\n",
      "# (ii) Power Required for VSB Wave Transmission for 75% Modulation Depth\n",
      "P_VSB2   = P_c*pow(m2,2)/4+x*P_c*pow(m2,2)/4    # Power of VSB Wave (W)\n",
      "\n",
      "# Result\n",
      "print \"(i)  Power Required for VSB Wave Transmission for\",m1*100,\"% Modulation Depth is\",P_VSB1,\"W\"\n",
      "print \"     Power saving of VSB compared to AM for\",m1*100,\"% Modulation Depth is\",Saving1,\"W and compared to DSBSC for\",m1*100,\"% Modulation Depth is\",Saving2,\"W and compared to SSB for\",m1*100,\"% Modulation Depth is\",Saving3,\"W\"\n",
      "print \"(ii) Power Required for VSB Wave Transmission for\",m2*100,\"% Modulation Depth is\",P_VSB2,\"W\""
     ],
     "language": "python",
     "metadata": {},
     "outputs": [
      {
       "output_type": "stream",
       "stream": "stdout",
       "text": [
        "(i)  Power Required for VSB Wave Transmission for 100.0 % Modulation Depth is 120.0 W\n",
        "     Power saving of VSB compared to AM for 100.0 % Modulation Depth is 480.0 W and compared to DSBSC for 100.0 % Modulation Depth is 80.0 W and compared to SSB for 100.0 % Modulation Depth is 20.0 W\n",
        "(ii) Power Required for VSB Wave Transmission for 75.0 % Modulation Depth is 67.5 W\n"
       ]
      }
     ],
     "prompt_number": 12
    },
    {
     "cell_type": "heading",
     "level": 2,
     "metadata": {},
     "source": [
      "Example 3.13, page no. 52"
     ]
    },
    {
     "cell_type": "code",
     "collapsed": false,
     "input": [
      "\n",
      "# Variable Declaration\n",
      "P_VSB = 0.625*pow(10,3)          # Total Power (W)\n",
      "m     = 0.60                     # Modulation Index\n",
      "x     = 0.25                     # (*100) Percentage Power Transmitted of other Sideband (%)\n",
      "\n",
      "# Calculation\n",
      "import math                        # Math Library\n",
      "P_c   = P_VSB*(4/((1+x)*pow(m,2))) # Carrier Power (W)\n",
      "\n",
      "# Result\n",
      "print \"We require\",round(P_c/pow(10,3),2),\"kW to transmit the carrier component along with the existing\",P_VSB/pow(10,3),\"kW for the one sideband and\",1-P_VSB/pow(10,3),\"kW more for rest of the other sidebands.\"\n",
      "print \"In Total\",round(P_c/pow(10,3)+1,2),\"kW is required by AM Transmitter\""
     ],
     "language": "python",
     "metadata": {},
     "outputs": [
      {
       "output_type": "stream",
       "stream": "stdout",
       "text": [
        "We require 5.56 kW to transmit the carrier component along with the existing 0.625 kW for the one sideband and 0.375 kW more for rest of the other sidebands.\n",
        "In Total 6.56 kW is required by AM Transmitter\n"
       ]
      }
     ],
     "prompt_number": 13
    }
   ],
   "metadata": {}
  }
 ]
}