{
 "cells": [
  {
   "cell_type": "markdown",
   "metadata": {},
   "source": [
    "# Chapter 14: Dielectric Properties of Materials"
   ]
  },
  {
   "cell_type": "markdown",
   "metadata": {},
   "source": [
    "## Exa 14.1"
   ]
  },
  {
   "cell_type": "code",
   "execution_count": 1,
   "metadata": {
    "collapsed": false
   },
   "outputs": [
    {
     "name": "stdout",
     "output_type": "stream",
     "text": [
      "\n",
      "The polarization of water molecules =\n",
      "8.41e-10 coulomb per metre square\n"
     ]
    }
   ],
   "source": [
    "from __future__ import division\n",
    "import math\n",
    " # Python Code Ex14.1 Polarization of water molecule: Page-456 (2010)\n",
    " \n",
    " \n",
    " \n",
    "  \n",
    "#Variable declaration\n",
    "\n",
    "\n",
    "NA = 6.023e+23;                         # Avogadro's number\n",
    "p = 6e-030;                         # Dipole moment of water molecule, C-m\n",
    "r = 1e-03;                              # Radius of water molecule, m\n",
    "M = 18e-03;                        # Molecular weight of water, kg\n",
    "d = 1e+03;               # Density of water, kg per metre cube\n",
    "\n",
    "\n",
    "#Calculation\n",
    "\n",
    "V = M/d;                # Volume of water, metre cube\n",
    " # Now M/d metre cube volume will contain NA = 6.023e+023 water molecules, \n",
    " #so that 4*%math.pi/3*(r**3) metre cube volume will contain \n",
    "N = NA*d*4*math.pi*r**3/(M*3);    # Number of water molecules per metre cube\n",
    "P = N*p;     # Polarization of water molecules, coulomb per metre square\n",
    "\n",
    "\n",
    "\n",
    "#Results\n",
    "\n",
    "print\"\\nThe polarization of water molecules =\"\n",
    "print round((P*10**10),2)*10**-10,\"coulomb per metre square\"\n",
    " "
   ]
  },
  {
   "cell_type": "markdown",
   "metadata": {},
   "source": [
    "## Exa 14.2"
   ]
  },
  {
   "cell_type": "code",
   "execution_count": 2,
   "metadata": {
    "collapsed": false
   },
   "outputs": [
    {
     "name": "stdout",
     "output_type": "stream",
     "text": [
      "\n",
      "The  diectric  constant  of  Kr  specimen  = 1.00066\n"
     ]
    }
   ],
   "source": [
    "from __future__ import division\n",
    "import math\n",
    " # Python Code  Ex14.2  Calculating  dielectric  constant  from  \n",
    " # electric  polarizability  of  the  atom:  Page-464  (2010)\n",
    " \n",
    " \n",
    "  \n",
    "#Variable declaration\n",
    "\n",
    "\n",
    "#  Electric  polarizability  of  the  Kr-atom,  farad-metre  square\n",
    "alpha_Kr  =  2.18e-040;\n",
    "NA  =  6.023e+023;                                #  Avogadro's  number\n",
    "#  Electrical  permittivity  of  free  space,\n",
    "#  coulomb  square  per  newton  per  metre  square\n",
    "epsilon_0  =  8.85e-012;        \n",
    "\n",
    "\n",
    "\n",
    "#Calculation\n",
    "\n",
    "N  =  NA/(22.4e-03);#  Number  of  Kr  atoms  per  metre  cube\n",
    "#  Relative  electrical  permittivity  of  Kr  specimen\n",
    "epsilon_r  =  N*alpha_Kr/epsilon_0  +  1;  \n",
    "\n",
    "\n",
    "#Result\n",
    "    \n",
    "print\"\\nThe  diectric  constant  of  Kr  specimen  =\",  round(epsilon_r,5)"
   ]
  },
  {
   "cell_type": "markdown",
   "metadata": {},
   "source": [
    "## Exa 14.3"
   ]
  },
  {
   "cell_type": "code",
   "execution_count": 3,
   "metadata": {
    "collapsed": false
   },
   "outputs": [
    {
     "name": "stdout",
     "output_type": "stream",
     "text": [
      "\n",
      "The total electric polarizability of carbon-dioxide =\n",
      "3.22e-40 farad-metre square\n"
     ]
    }
   ],
   "source": [
    "from __future__ import division\n",
    "import math\n",
    " # Python Code Ex14.3 Calculating electric polarizability of \n",
    " #a molecule from its susceptibility: Page-464 (2010)\n",
    " \n",
    " \n",
    "  \n",
    "#Variable declaration\n",
    "\n",
    "\n",
    "NA = 6.023e+023;                       # Avogadro's number\n",
    "# Electrical permittivity of free space, coulomb square per newton per metre\n",
    "epsilon_0 = 8.85e-012;                  \n",
    "chi = 0.985e-03;       # Electrical susceptibility of carbon-dioxide molecule\n",
    "rho = 1.977;              # Density of carbon-dioxide, kg per metre cube\n",
    "M = 44e-03;                        # Molecular weight of CO2, kg\n",
    "\n",
    "\n",
    "\n",
    "#Calculation\n",
    "\n",
    "N = NA*rho/M;         # Number of molecules per unit volume, per metre cube\n",
    "# Total electric polarizability of carbon-dioxide, farad-metre square\n",
    "alpha = epsilon_0*chi/N;                \n",
    "\n",
    "\n",
    "#Result\n",
    "\n",
    "print\"\\nThe total electric polarizability of carbon-dioxide =\"\n",
    "print round((alpha*10**40),2)*10**-40,\"farad-metre square\"\n",
    " "
   ]
  },
  {
   "cell_type": "markdown",
   "metadata": {},
   "source": [
    "## Exa 14.4"
   ]
  },
  {
   "cell_type": "code",
   "execution_count": 4,
   "metadata": {
    "collapsed": false
   },
   "outputs": [
    {
     "name": "stdout",
     "output_type": "stream",
     "text": [
      "\n",
      "The atomic polarizability of oxygen = \n",
      "6.94e-48 farad-metre square\n"
     ]
    }
   ],
   "source": [
    "from __future__ import division\n",
    "import math\n",
    " # Python Code Ex14.4 Calculating electric polarizability \n",
    " #of Oxygen atom: Page-465 (2010)\n",
    " \n",
    " \n",
    "  \n",
    "#Variable declaration\n",
    "\n",
    "\n",
    "e = 1.602e-019; # Charge on an electron, coulomb\n",
    "p = 0.5e-022; # Dipole moment of oxygen atom, C-m\n",
    "# Distnace of the centre of negative charge cloud from the nucleus, m\n",
    "d = 4e-017; \n",
    "# Electrical permittivity of free space, coulomb square per newton per metre\n",
    "epsilon_0 = 8.85e-012; \n",
    "\n",
    "\n",
    "\n",
    "#Calculation\n",
    "\n",
    " # In equilibrium, Coulomb interaction = Lorentz force\n",
    " # i.e. 8*e*E = (8*e)*(8*e)/(4*%math.pi*epsilon_0*d**2)\n",
    " # Solving for E\n",
    "# The strength of local electric field, volt per metre\n",
    "E = 8*e/(4*math.pi*epsilon_0*d**2); \n",
    " # As p = alpha*E, solving for alpha\n",
    "alpha = p/E; # Atomic polarizability of oxygen, farad-metre square\n",
    "\n",
    "\n",
    "\n",
    "\n",
    "#Result\n",
    "\n",
    "print\"\\nThe atomic polarizability of oxygen = \"\n",
    "print round((alpha*10**48),2)*10**-48,\"farad-metre square\""
   ]
  },
  {
   "cell_type": "markdown",
   "metadata": {},
   "source": [
    "## Exa 14.5"
   ]
  },
  {
   "cell_type": "code",
   "execution_count": 5,
   "metadata": {
    "collapsed": false
   },
   "outputs": [
    {
     "name": "stdout",
     "output_type": "stream",
     "text": [
      "\n",
      "The orientational polarization of molecules in HCl vapour =\n",
      "9.64e-07 coulomb per metre square\n",
      "\n",
      "The ratio of magnetic energy to the thermal energy =\n",
      "0.000836  << 1\n"
     ]
    }
   ],
   "source": [
    "from __future__ import division\n",
    "import math\n",
    " # Python Code Ex14.5 Dipolar polarization of HCl molecule: Page-470 (2010)\n",
    " \n",
    " \n",
    " \n",
    "  \n",
    "#Variable declaration\n",
    "\n",
    "\n",
    "k = 1.38e-023; # Boltzmann constant, J/mol/K\n",
    "T = 300; # Temperature of the HCl vapour, kelvin\n",
    "N = 1e+027; # Number of HCL molecuels per unit volume, per metre cube\n",
    "# Electric field strength to which the HCL vapour is subjected, volt/m\n",
    "E = 1e+06; \n",
    "p = 3.46e-030; # The dipole moment of HCl molecule,C-m\n",
    "\n",
    "\n",
    "\n",
    "#Calculation\n",
    "\n",
    "# Dipolar polarizability of HCl molecule, farad-metre square\n",
    "alpha_d = p**2/(3*k*T);\n",
    " # As P = N*p = N*alpha_d*E\n",
    "#Orientational or Dipolar polarization of HCl molecule,coulomb per metre square\n",
    "P = N*alpha_d*E;\n",
    "E_M = p*E; # Magnetic energy stored in the dipole-field system, joule\n",
    "E_Th = k*T; # Thermal energy of the HCl molecule, joule\n",
    "a = E_M/E_Th; # Ratio of magnetic energy to the thermal energy\n",
    "\n",
    "\n",
    "#Result\n",
    "\n",
    "print\"\\nThe orientational polarization of molecules in HCl vapour =\"\n",
    "print round((P*10**7),2)*10**-7,\"coulomb per metre square\"\n",
    "print\"\\nThe ratio of magnetic energy to the thermal energy =\"\n",
    "print round(a,6),\" << 1\"\n",
    " "
   ]
  },
  {
   "cell_type": "markdown",
   "metadata": {},
   "source": [
    "## Exa 14.6"
   ]
  },
  {
   "cell_type": "code",
   "execution_count": 6,
   "metadata": {
    "collapsed": false
   },
   "outputs": [
    {
     "name": "stdout",
     "output_type": "stream",
     "text": [
      "\n",
      "The polarizability due to permanent dipole moment =\n",
      "2.28e-40  farad-metre square\n",
      "\n",
      "The orientational polarization of ammonia at 309 K =\n",
      "2.19e-39 farad-metre square\n",
      "\n",
      "The orientational polarization of ammonia at 448 K =\n",
      "1.51e-39  farad-metre square\n"
     ]
    }
   ],
   "source": [
    "from __future__ import division\n",
    "import math\n",
    "#Python Code Ex14.6 Effect of molecular deformation on polarizability:Page-471 \n",
    "\n",
    "\n",
    "\n",
    "\n",
    " \n",
    "#Variable declaration\n",
    "\n",
    "\n",
    "# Polarizability of ammonia molecule at 309 K, farad-metre square\n",
    "alpha_309 = 2.42e-039;                  \n",
    "# Polarizability of ammonia molecule at 448 K, farad-metre square\n",
    "alpha_448 = 1.74e-039;                  \n",
    "k = 1.38e-023;                   # Boltzmann constant, J/mol/K\n",
    "T1 = 309;                       # First temperature of the experiment, kelvin\n",
    "T2 = 448;                  # Second temperature of the experiment, kelvin\n",
    "\n",
    "\n",
    "#Calculation\n",
    "\n",
    " # As alpha = alpha_i + alpha_d = alpha_i + p**2/(3*k*T) = alpha_i + bta/T\n",
    " # where bta = p**2/(3*k)\n",
    " # Thus alpha_309 = alpha_i + bta/309 and alpha_448 = alpha_i + bta/448\n",
    " # Solving for bta\n",
    " # bta(1/309-1/448) = alpha_309 - alpha_448   \n",
    "# bta = p**2/(3*k), farad-kelvin metre square\n",
    "bta= ( alpha_309 - alpha_448)/(1/309 - 1/448);\n",
    " # Solving for alpha_i\n",
    "# Polarizability due to permanent dipole moment, farad-metre square \n",
    "alpha_i = alpha_309 - bta/309;   \n",
    " # Polarizability due to deformation of molecules = bta/T, bta = p**2/(3*k)\n",
    "alpha_d_309 = bta/T1# Orientational polarizability at 309 K, farad-metre square\n",
    "alpha_d_448 = bta/T2#Orientational polarizability at 448 K, farad-metre square\n",
    "\n",
    "\n",
    "\n",
    "#Result\n",
    "\n",
    "print\"\\nThe polarizability due to permanent dipole moment =\"\n",
    "print round((alpha_i*10**40),2)*10**-40,\" farad-metre square\" \n",
    "print\"\\nThe orientational polarization of ammonia at 309 K =\"\n",
    "print round((alpha_d_309*10**39),2)*10**-39,\"farad-metre square\" \n",
    "print\"\\nThe orientational polarization of ammonia at 448 K =\"\n",
    "print round((alpha_d_448*10**39),2)*10**-39,\" farad-metre square\" \n",
    " "
   ]
  }
 ],
 "metadata": {
  "kernelspec": {
   "display_name": "Python 2",
   "language": "python",
   "name": "python2"
  },
  "language_info": {
   "codemirror_mode": {
    "name": "ipython",
    "version": 2
   },
   "file_extension": ".py",
   "mimetype": "text/x-python",
   "name": "python",
   "nbconvert_exporter": "python",
   "pygments_lexer": "ipython2",
   "version": "2.7.6"
  }
 },
 "nbformat": 4,
 "nbformat_minor": 0
}
