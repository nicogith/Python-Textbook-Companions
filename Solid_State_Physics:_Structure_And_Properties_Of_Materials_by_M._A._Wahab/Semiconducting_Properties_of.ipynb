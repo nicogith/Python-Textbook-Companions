{
 "cells": [
  {
   "cell_type": "markdown",
   "metadata": {},
   "source": [
    "# Chapter 13: Semiconducting Properties of Materials"
   ]
  },
  {
   "cell_type": "markdown",
   "metadata": {},
   "source": [
    "## Exa 13.3"
   ]
  },
  {
   "cell_type": "code",
   "execution_count": 1,
   "metadata": {
    "collapsed": false
   },
   "outputs": [
    {
     "name": "stdout",
     "output_type": "stream",
     "text": [
      "\n",
      "The intrinsic carrier concentration of Ge =\n",
      "4.68e+18 per metre cube\n"
     ]
    }
   ],
   "source": [
    "from __future__ import division\n",
    "import math\n",
    " # Python Code Ex13.3 Intrinsic concentration of charge\n",
    "# carriers in semiconductors: Page-432 (2010)\n",
    "\n",
    "\n",
    "#Variable declaration\n",
    "\n",
    "\n",
    "k = 1.38e-023; # Boltzmann constant, J/mol/K\n",
    "h = 6.626e-034; # Planck's constant, Js\n",
    "eV = 1.6e-019; # Joule equivalent of 1 eV\n",
    "T = 300; # Room temperature, kelvin\n",
    "m_0 = 9.1e-031; # Rest mass of an electron, kg\n",
    "\n",
    "\n",
    "#Calculation\n",
    "\n",
    "m_e = 0.12*m_0; # Effective mass of electron, kg\n",
    "m_h = 0.28*m_0; # Effective mass of electron, kg\n",
    "E_g = 0.67; # Energy gap of Ge, eV\n",
    "# Intrinsic carrier concentration of Ge, per metre cube\n",
    "n_i = 2*(2*math.pi*k*T/h**2)**(3/2)*(m_e*m_h)**(3/4)*math.exp(-E_g*eV/(2*k*T));\n",
    "\n",
    "\n",
    "#Result\n",
    "\n",
    "print\"\\nThe intrinsic carrier concentration of Ge =\"\n",
    "print round((n_i*10**-18),2)*10**18,\"per metre cube\""
   ]
  },
  {
   "cell_type": "markdown",
   "metadata": {},
   "source": [
    "## Exa 13.4"
   ]
  },
  {
   "cell_type": "code",
   "execution_count": 2,
   "metadata": {
    "collapsed": false
   },
   "outputs": [
    {
     "name": "stdout",
     "output_type": "stream",
     "text": [
      "\n",
      "The ratio of intrinsic carrier density = 1015.0\n"
     ]
    }
   ],
   "source": [
    "from __future__ import division\n",
    "import math\n",
    " # Python Code Ex13.4 Comparison of intrinsic carrier densities of \n",
    " #two semiconductors at room temperature  Page-433 (2010)\n",
    " \n",
    " \n",
    "  \n",
    "#Variable declaration\n",
    "\n",
    "\n",
    "eV = 1.6e-019;                          # Joule equivalent of 1 eV\n",
    "m = 9.1e-031;                           # Rest mass of an electron, kg\n",
    "m_e = m;                                # Effective mass of electron, kg\n",
    "m_h = m;                           # Effective mass of electron, kg\n",
    "Eg_A = 0.36;              # Energy gap of A, eV\n",
    "Eg_B = 0.72;              # Energy gap of B, eV\n",
    "k = 1.38e-023;                          # Boltzmann constant, J/mol/K\n",
    "h = 6.626e-034;                         # Planck's constant, Js\n",
    "k_T = 0.052/2;                          # Thermal energy, eV\n",
    "\n",
    "\n",
    "#Calculation\n",
    "\n",
    " # As n_i_ratio = ni_A/ni_B = math.exp(-Eg_A/(2*k_T))/math.exp(-Eg_A/(2*k_T)) \n",
    "# Intrinsic carrier density ratio of A and B\n",
    "n_i_ratio = math.exp(-Eg_A/(2*k_T))/math.exp(-Eg_B/(2*k_T));\n",
    "\n",
    "\n",
    "\n",
    "#Result\n",
    "\n",
    "print\"\\nThe ratio of intrinsic carrier density =\", round(n_i_ratio) "
   ]
  },
  {
   "cell_type": "markdown",
   "metadata": {},
   "source": [
    "## Exa 13.5"
   ]
  },
  {
   "cell_type": "code",
   "execution_count": 3,
   "metadata": {
    "collapsed": false
   },
   "outputs": [
    {
     "name": "stdout",
     "output_type": "stream",
     "text": [
      "\n",
      "The energy diff. between new fermi level and topmost valence level =\n",
      "0.37 eV\n"
     ]
    }
   ],
   "source": [
    "from __future__ import division\n",
    "import math\n",
    " # Python Code Ex13.5 Shift in position of fermi level \n",
    " #with change in concentration of impurities:  Page-436 (2010)\n",
    " \n",
    " \n",
    "  \n",
    "#Variable declaration\n",
    "\n",
    "\n",
    "k_T = 0.03;                           # Thermal energy, eV\n",
    "# Energy difference between fermi level and topmost valence level, eV\n",
    "dE_Fv = 0.4;   \n",
    "\n",
    "\n",
    "\n",
    "#Calculation\n",
    "                   \n",
    " # The hole concentration in P-type material is\n",
    " # p = N_A = N_v*math.exp(-EF-Ev)/(k_T) = N_v*math.exp(-dE_Fv)/(k_T)\n",
    " # The new value of hole concentration in P-type material is\n",
    "# p_prime = 3*N_A = N_v*math.exp(-EF_prime-Ev)/(k_T)= \n",
    "# N_v*math.exp(-dE_F_primev)/(k_T)\n",
    " # Solving for dE_F_primev by removing exponetial term\n",
    "# Energy difference between new fermi level and topmost valence level, eV\n",
    "dE_F_primev = dE_Fv - k_T*math.log(3);       \n",
    "\n",
    "\n",
    "\n",
    "#Result\n",
    "\n",
    "print\"\\nThe energy diff. between new fermi level and topmost valence level =\"\n",
    "print round(dE_F_primev,2),\"eV\" "
   ]
  },
  {
   "cell_type": "markdown",
   "metadata": {},
   "source": [
    "## Exa 13.6"
   ]
  },
  {
   "cell_type": "code",
   "execution_count": 4,
   "metadata": {
    "collapsed": false
   },
   "outputs": [
    {
     "name": "stdout",
     "output_type": "stream",
     "text": [
      "\n",
      "The intrinsic electrical resistivity = 0.47  ohm-metre\n"
     ]
    }
   ],
   "source": [
    "from __future__ import division\n",
    "import math\n",
    " # Python Code Ex13.6 Electrical resistivity of Ge:  Page-439 (2010)\n",
    " \n",
    " \n",
    "  \n",
    "#Variable declaration\n",
    "\n",
    "\n",
    "e = 1.602e-019;                         # Charge on an elctron, C\n",
    " # Intrinsic carrier density of Ge at room temperature, per metre cube\n",
    "n_i = 2.37e+019;                       \n",
    "mu_e = 0.38;    # Mobility of electrons, metre square per volt per second\n",
    "mu_h = 0.18;      # Mobility of holes, metre square per volt per second\n",
    "T = 300;                # Room temperature, kelvin\n",
    "\n",
    "\n",
    "#Calculation\n",
    "\n",
    "# Intrinsic electrical conductivity, per ohm per metre\n",
    "sigma_i = n_i*e*(mu_e + mu_h);       \n",
    "rho_i = 1/sigma_i;     # Intrinsic electrical resistivity, ohm-metre\n",
    "\n",
    "\n",
    "\n",
    "#Result\n",
    "\n",
    "print\"\\nThe intrinsic electrical resistivity =\",round(rho_i,2),\" ohm-metre\" \n",
    " "
   ]
  },
  {
   "cell_type": "markdown",
   "metadata": {},
   "source": [
    "## Exa 13.7"
   ]
  },
  {
   "cell_type": "code",
   "execution_count": 5,
   "metadata": {
    "collapsed": false
   },
   "outputs": [
    {
     "name": "stdout",
     "output_type": "stream",
     "text": [
      "\n",
      "The intrinsic electrical conductivity of Si =\n",
      "0.000433  per ohm per metre\n",
      "\n",
      "The extrinsic electrical conductivity of Si =\n",
      "9.96  per ohm per metre\n"
     ]
    }
   ],
   "source": [
    "from __future__ import division\n",
    "import math\n",
    " # Python Code Ex13.7 Electrical conductivity of intrinsic and\n",
    "# extrinsic Si: Page-439 (2010)\n",
    "\n",
    "\n",
    " \n",
    "#Variable declaration\n",
    "\n",
    "\n",
    "NA = 6.023e+23; # Avogadro's number\n",
    "A_Si = 28.09e-03; # Kilogram atomic mass of Si, kg\n",
    "e = 1.602e-019; # Charge on an elctron, C\n",
    "n_impurity = 1/1e+08; # Donor impurity atoms per Si atom\n",
    "n_i = 1.5e+016;#Intrinsic carrier density of Si at room temp.,per metre cube\n",
    "mu_e = 0.13; # Mobility of electrons, metre square per volt per second\n",
    "mu_h = 0.05; # Mobility of holes, metre square per volt per second\n",
    "T = 300; # Room temperature, kelvin\n",
    "\n",
    "\n",
    "#Calculation\n",
    "\n",
    "sigma_i = n_i*e*(mu_e + mu_h)#Intrinsic electrical conductivity, per ohm per m\n",
    "Si_density = 2.23e+03; # Density of silicon, kg per metre cube\n",
    "N_Si = NA * Si_density/A_Si; # Number of Si atoms, per metre cube\n",
    "N_D = N_Si*n_impurity; # Density of donor impurity, per metre cube;\n",
    "sigma_ext = (N_D)*e*mu_e#Extrinsic electrical conductivity of Si, per ohm per m\n",
    "\n",
    "\n",
    "\n",
    "#Result\n",
    "\n",
    "print\"\\nThe intrinsic electrical conductivity of Si =\"\n",
    "print round((sigma_i*10**4),2)*10**-4,\" per ohm per metre\"\n",
    "print\"\\nThe extrinsic electrical conductivity of Si =\"\n",
    "print round(sigma_ext,2),\" per ohm per metre\""
   ]
  },
  {
   "cell_type": "markdown",
   "metadata": {},
   "source": [
    "## Exa 13.8"
   ]
  },
  {
   "cell_type": "code",
   "execution_count": 6,
   "metadata": {
    "collapsed": false
   },
   "outputs": [
    {
     "name": "stdout",
     "output_type": "stream",
     "text": [
      "\n",
      "The resistance of Ge Rod = 4300.0 ohm\n"
     ]
    }
   ],
   "source": [
    "from __future__ import division\n",
    "import math\n",
    " # Python Code Ex13.8 Resistance of intrinsic Ge Rod:  Page-440 (2010)\n",
    " \n",
    " \n",
    "  \n",
    "#Variable declaration\n",
    "\n",
    "\n",
    "e = 1.602e-019;                         # Charge on an elctron, C\n",
    "T = 300;                                # Room temperature, kelvin\n",
    "l = 1e-02;                              # Length of the Ge rod, m\n",
    "b = 1e-03;                              # Width of the Ge rod, m\n",
    "t = 1e-03;                         # Thickness of the Ge rod, m\n",
    "n_i = 2.5e+019;             # Intrinsic carrier density of Ge, per metre cube\n",
    "mu_e = 0.39;     # Mobility of electrons, metre square per volt per second\n",
    "mu_h = 0.19;           # Mobility of holes, metre square per volt per second\n",
    "\n",
    "\n",
    "\n",
    "#Calculation\n",
    "\n",
    "# Intrinsic electrical conductivity, per ohm per metre\n",
    "sigma_i = n_i*e*(mu_e + mu_h); \n",
    "A = b*t;                        # Surface area of the Ge rod, metre square\n",
    "rho = 1/sigma_i;        # Electrical resistivity of Ge Rod, ohm-metre\n",
    "R = rho*l/A;                            # Resistance of Ge Rod, ohm\n",
    "\n",
    "\n",
    "#Result\n",
    "\n",
    "print\"\\nThe resistance of Ge Rod =\",round((R*10**-3),1)*10**3,\"ohm\" \n",
    " "
   ]
  },
  {
   "cell_type": "markdown",
   "metadata": {},
   "source": [
    "## Exa 13.9"
   ]
  },
  {
   "cell_type": "code",
   "execution_count": 7,
   "metadata": {
    "collapsed": false
   },
   "outputs": [
    {
     "name": "stdout",
     "output_type": "stream",
     "text": [
      "\n",
      "The density of electron = 8.49e+22 metre cube\n",
      "\n",
      "The mobility of electron =\n",
      "0.015 metre cube per volt per second\n"
     ]
    }
   ],
   "source": [
    "from __future__ import division\n",
    "import math\n",
    " # Python Code Ex13.9 Hall effect in Si semiconductor:  Page-442 (2010)\n",
    " \n",
    " \n",
    "  \n",
    "#Variable declaration\n",
    "\n",
    "\n",
    "e = 1.602e-019;                         # Charge on an elctron, C\n",
    "T = 300;                                # Room temperature, kelvin\n",
    "R_H = -7.35e-05;  # Hall co-efficeint of Si specimen, metre cube per coulomb\n",
    "sigma = 200;               # Electrical conductivity of Si, per ohm per metre\n",
    "\n",
    "\n",
    "#Calculation\n",
    "\n",
    "n = -1/(e*R_H);                         # Electron density in the Si specimen\n",
    "# Electron mobility in the Si specimen, metre cube per volt per second\n",
    "mu_e = sigma/(n*e);    \n",
    "\n",
    "\n",
    "\n",
    "#Result\n",
    "\n",
    "print\"\\nThe density of electron =\",round((n*10**-22),2)*10**22,\"metre cube\"\n",
    "print\"\\nThe mobility of electron =\"\n",
    "print round(mu_e,3),\"metre cube per volt per second\"\n",
    " "
   ]
  },
  {
   "cell_type": "markdown",
   "metadata": {},
   "source": [
    "## Exa 13.10"
   ]
  },
  {
   "cell_type": "code",
   "execution_count": 8,
   "metadata": {
    "collapsed": false
   },
   "outputs": [
    {
     "name": "stdout",
     "output_type": "stream",
     "text": [
      "\n",
      "The net forward current = 749000.0 Io\n"
     ]
    }
   ],
   "source": [
    "from __future__ import division\n",
    "import math\n",
    " # Python Code Ex13.10 Forward current of a p-n diode in terms of\n",
    "# reverse saturation current using diode equation: Page-450 (2010)\n",
    "\n",
    "\n",
    " \n",
    "#Variable declaration\n",
    "\n",
    "\n",
    "e = 1.6e-019;                           # Charge on an electron, coulomb\n",
    "k = 1.38e-023;                          # Boltzmann constant, J/mol/K\n",
    "V = 0.35;           # Potential difference applied across a Ge diode, volt\n",
    "T = 300;                          # Room temperature, kelvin\n",
    "Io = 1;#Reverse saturation current, micro-ampere, for simplicity assume I0 = 1\n",
    "\n",
    "\n",
    "\n",
    "#Calculation\n",
    "\n",
    "# \"Diode Equation\" for net forward current, milliamperes\n",
    "Iv = Io*(math.exp(e*V/(k*T))-1);             \n",
    "\n",
    "\n",
    "#Result\n",
    "\n",
    "print\"\\nThe net forward current =\",round((Iv*10**-5),2)*10**5,\"Io\""
   ]
  },
  {
   "cell_type": "markdown",
   "metadata": {},
   "source": [
    "## Exa 13.11"
   ]
  },
  {
   "cell_type": "code",
   "execution_count": 9,
   "metadata": {
    "collapsed": false
   },
   "outputs": [
    {
     "name": "stdout",
     "output_type": "stream",
     "text": [
      "\n",
      "The potential difference applied across p-n junction =\n",
      "0.02 volt\n"
     ]
    }
   ],
   "source": [
    "from __future__ import division\n",
    "import math\n",
    " # Python Code Ex13.11 Finding voltage from net forward current \n",
    " #using Diode Equation: Page-450 (2010)\n",
    " \n",
    " \n",
    "  \n",
    "#Variable declaration\n",
    "\n",
    "\n",
    "e = 1.6e-019;                          # Charge on an electron, coulomb\n",
    "k = 1.38e-023;                          # Boltzmann constant, J/mol/K\n",
    "T = 300;                                # Room temperature, kelvin\n",
    "Io = 1;# Reverse saturation current, micro-ampere, for simplicity assume I0 = 1\n",
    "\n",
    "\n",
    "\n",
    "#Calculation\n",
    "\n",
    "Iv = 0.9*Io;        # \"Diode Equation\" for net forward current, milliamperes\n",
    " # As Iv = Io*(math.exp(e*V/(k*T))-1), solving for V\n",
    "# Potential difference applied across p-n junction, volt\n",
    "V = math.log(Iv/Io+1)*k*T/e;\n",
    "\n",
    "\n",
    "#Result\n",
    "\n",
    "print\"\\nThe potential difference applied across p-n junction =\"\n",
    "print round(V,2),\"volt\"\n",
    " "
   ]
  }
 ],
 "metadata": {
  "kernelspec": {
   "display_name": "Python 2",
   "language": "python",
   "name": "python2"
  },
  "language_info": {
   "codemirror_mode": {
    "name": "ipython",
    "version": 2
   },
   "file_extension": ".py",
   "mimetype": "text/x-python",
   "name": "python",
   "nbconvert_exporter": "python",
   "pygments_lexer": "ipython2",
   "version": "2.7.6"
  }
 },
 "nbformat": 4,
 "nbformat_minor": 0
}
