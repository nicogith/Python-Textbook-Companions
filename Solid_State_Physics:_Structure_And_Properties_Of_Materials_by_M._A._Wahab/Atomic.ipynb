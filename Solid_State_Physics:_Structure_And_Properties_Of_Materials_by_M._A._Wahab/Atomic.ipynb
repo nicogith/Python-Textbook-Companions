{
 "cells": [
  {
   "cell_type": "markdown",
   "metadata": {},
   "source": [
    "# Chapter 2: Atomic Bonding"
   ]
  },
  {
   "cell_type": "markdown",
   "metadata": {},
   "source": [
    "## Exa 2.1"
   ]
  },
  {
   "cell_type": "code",
   "execution_count": 1,
   "metadata": {
    "collapsed": false
   },
   "outputs": [
    {
     "name": "stdout",
     "output_type": "stream",
     "text": [
      "\n",
      "The bond dissociation energy of A+B- molecule is : -295.0  kJ/mol\n",
      "The molecule A+B- is stable..\n"
     ]
    }
   ],
   "source": [
    "from __future__ import division\n",
    "import math\n",
    "#Python Ex2.1 Stability of molecule on bond dissociation energy:Page-61 (2010)\n",
    "\n",
    " \n",
    "#Variable declaration\n",
    " \n",
    "\n",
    "e = 1.6*10**-19;           # Electronic charge, C\n",
    "N = 6.023*10**+23;            # Avogadro's number\n",
    "#Absolute Electrical permitivitty of free space,\n",
    "#coulomb square per newton per metre square\n",
    "e0 = 8.854*10**-12;\n",
    "Re = 3*10**-10;  # Equilibrium separation, m \n",
    "IE = 502;      # First ionization energy of A, kJ/mol\n",
    "EA = 335;     # Electron affinity for atom B, kJ/mol\n",
    "IS = 3*10**-10;  # Interatomic separation between A+ and B-, m\n",
    "\n",
    "\n",
    "#Calculation\n",
    "\n",
    " # Potential energy at equilibrium separation of A+B- molecule, kJ/mol\n",
    "Ue = -(e**2*N)/(4*math.pi*e0*Re*1*10**+3);\n",
    "DE = Ue + IE - EA;  # Bond dissociation energy of A+B- molecule, kJ/mol\n",
    "\n",
    "#Result\n",
    "\n",
    "print\"\\nThe bond dissociation energy of A+B- molecule is :\",round(DE),\" kJ/mol\"\n",
    "if(DE<0):\n",
    "  print \"The molecule A+B- is stable..\"\n",
    "else: \n",
    "  print \"The molecule A+B- is unstable..\"   \n",
    " "
   ]
  },
  {
   "cell_type": "markdown",
   "metadata": {},
   "source": [
    "## Exa 2.2"
   ]
  },
  {
   "cell_type": "code",
   "execution_count": 2,
   "metadata": {
    "collapsed": false
   },
   "outputs": [
    {
     "name": "stdout",
     "output_type": "stream",
     "text": [
      "\n",
      "1  eV  is  approximately  equal  to : 23.03 kcal/mol\n"
     ]
    }
   ],
   "source": [
    "from __future__ import division\n",
    "import math\n",
    " #  Python  Code  Ex2.2  Conversion  of  eV  into  kcal/mol:  Page-64  (2010)\n",
    " \n",
    " \n",
    "#Variable declaration\n",
    "  \n",
    "e  =  1.6*10**-19;                   #  Electronic  charge,  C\n",
    "N  =  6.023*10**+23;                  #  Avogadro's  number\n",
    "J  =  4.184*10**+3;        #  Joule's  mechanical  equivalent  of  heat\n",
    "V  =  1;                       #  Potential  difference,  V\n",
    "\n",
    "#Calculation\n",
    "\n",
    "eV  =  e*V;          #  Energy  equivalent  of  1  electron-volt,  J\n",
    "eVpm  =  eV*N;              #  Electron-volt  per  mole,  J/mol\n",
    "Ecal  =  eVpm/J;      #  Energy  equivalent  of  1eV,  kcal/mole\n",
    "\n",
    "#Result\n",
    "\n",
    "print\"\\n1  eV  is  approximately  equal  to :\",round(Ecal,2),\"kcal/mol\"\n",
    "     "
   ]
  },
  {
   "cell_type": "markdown",
   "metadata": {},
   "source": [
    "## Exa 2.3"
   ]
  },
  {
   "cell_type": "code",
   "execution_count": 3,
   "metadata": {
    "collapsed": false
   },
   "outputs": [
    {
     "name": "stdout",
     "output_type": "stream",
     "text": [
      "\n",
      "The  potential  energy  of  NaCl  molecule  \n",
      "at  equilibrium  separation5  is  : -7.2 eV\n"
     ]
    }
   ],
   "source": [
    "from __future__ import division\n",
    "import math\n",
    " #  Python  Code  Ex2.3  Potential  energy  of  the  system  of \n",
    "# Na+  and  Cl-  ions:  Page-68  (2010)\n",
    "\n",
    "\n",
    " \n",
    "#Variable declaration\n",
    " \n",
    "e  =  1.6*10**-19;                         #  Electronic  charge,  C\n",
    "ep_0  =  8.854*10**-12;#Absolute electrical  permittivity  of  free  space,  \n",
    "#coulomb  square  per  newton  per  metre  square\n",
    "Re  =  2*10**-10;#Equilibrium  separation  between  Na+  and  Cl-  ions,  m\n",
    "\n",
    "\n",
    "#Calculations\n",
    "\n",
    "#Potential energy of NaCl molecule at equilibrium  separation,  electron-volt\n",
    "U  =  -e/(4*math.pi*ep_0*Re);\n",
    "\n",
    "\n",
    "#Result\n",
    "\n",
    "print\"\\nThe  potential  energy  of  NaCl  molecule  \" \n",
    "print \"at  equilibrium  separation5  is  :\",round(U,1),\"eV\"\n",
    "\n",
    " "
   ]
  },
  {
   "cell_type": "markdown",
   "metadata": {},
   "source": [
    "## Exa 2.4"
   ]
  },
  {
   "cell_type": "code",
   "execution_count": 4,
   "metadata": {
    "collapsed": false
   },
   "outputs": [
    {
     "name": "stdout",
     "output_type": "stream",
     "text": [
      "\n",
      "The  compressibility  of  NaCl  crystal  is\n",
      "3.48e-11 metre  square  newton\n",
      "\n",
      "The  cohesive  energy  of  NaCl  crystal  is -3.21 eV\n"
     ]
    }
   ],
   "source": [
    "from __future__ import division\n",
    "import math\n",
    "#Python CodeEx2.4Compressibility and ionic energy of NaCl crystal:Page-68(2010)\n",
    "\n",
    " \n",
    "#Variable declaration\n",
    " \n",
    "\n",
    "e  =  1.6*10**-19;                    #  Electronic  charge,  C\n",
    "ep_0  =  8.854*10**-12; # Absolute  electrical  permittivity  of  free  space, \n",
    "# coulomb  square  per  newton  per  metre  square\n",
    "Re  =  2.81*10**-10;#Equilibrium  separation  between  Na+  and  Cl-  ions,  m\n",
    "A  =  1.7496;                                   #  Madelung  constant\n",
    "n  =  9;#Power of R in the repulsive term of potential energy of two particles  \n",
    "IP_Na  =  5.14;       #  Ionization  potential  of  sodium,  eV\n",
    "EA_Cl  =  3.61;                   #  Electron  Affinity  of  chlorine,  eV\n",
    "\n",
    "\n",
    "#Calculation\n",
    "\n",
    "#  Compressibilty  of  NaCl  crystal,  metre  square  newton\n",
    "K0  =  (72*math.pi*ep_0*Re**4)/((n  -  1)*A*e**2);\n",
    "# Potential energy of NaCl molecule  at equilibrium  separation,electron-volt\n",
    "U  =  -(A*e)/(4*math.pi*ep_0*Re)*(1-1/n);\n",
    "U_bar  =  U/2;         #  Potential  energy  per  ion,  electron-volt\n",
    "delta_E  =  IP_Na  -  EA_Cl;#Energy  required  to  produce  the  ion-pair,  eV\n",
    "E_ion  =  delta_E/2;      #  Energy  required  to  produce  per  ion,  eV\n",
    "C_E  =  U_bar  +  E_ion;           #  Cohesive  energy  per  ion,  eV\n",
    "\n",
    "\n",
    "#Result\n",
    "\n",
    "print\"\\nThe  compressibility  of  NaCl  crystal  is\"\n",
    "print round(K0*10**(11),2)*10**-11,\"metre  square  newton\"\n",
    "print\"\\nThe  cohesive  energy  of  NaCl  crystal  is\",round(C_E,2),\"eV\"\n"
   ]
  },
  {
   "cell_type": "markdown",
   "metadata": {},
   "source": [
    "## Exa 2.5"
   ]
  },
  {
   "cell_type": "code",
   "execution_count": 5,
   "metadata": {
    "collapsed": false
   },
   "outputs": [
    {
     "name": "stdout",
     "output_type": "stream",
     "text": [
      "\n",
      "The  equilibrium  spacing  of  diatomic  molecule  is\n",
      "4.08e-10 m\n",
      "\n",
      "The  dissociation  energy  of  diatomic  molecule  is 0.043 eV\n"
     ]
    }
   ],
   "source": [
    "from __future__ import division\n",
    "import math\n",
    "#Python CodeEx2.5 Potential energy and dissociation energy\n",
    "# of a diatomic molecule:  Page-69  (2010)\n",
    "\n",
    " \n",
    "#Variable declaration\n",
    " \n",
    "\n",
    "e  =  1.6*10**-19;                       #  Electronic  charge,  C\n",
    "A  =  1.44*10**-39;#Constant corrsponding to the attractive term \n",
    "# in  potential  energy,  joule  metre  square\n",
    "B  =  2.19*10**-115; #  Constant  corresponding  to  the  repulsive  term  \n",
    "#in  potential  energy,  joule  metre  raised  to  power  10\n",
    "\n",
    "\n",
    "#Calculation\n",
    "\n",
    "Re  =  (5*B/A)**(1/8);#Equilibrium  spacing  of  diatomic  molecule,  m\n",
    "n  =  2;#Power of R in the attractive term of potential energy of two particles\n",
    "m  =  10;#Power of R in the repulsive term of potential energy of two particles\n",
    "D  =  A/(Re**2*e)*(1-n/m) #Dissociation  energy  of  diatomic  molecule,  eV\n",
    "\n",
    "\n",
    "#Result\n",
    "\n",
    "print\"\\nThe  equilibrium  spacing  of  diatomic  molecule  is\"\n",
    "print round((Re*10**10),2)*10**-10,\"m\"\n",
    "print\"\\nThe  dissociation  energy  of  diatomic  molecule  is\",round(D,3),\"eV\"\n",
    "\n",
    " "
   ]
  },
  {
   "cell_type": "markdown",
   "metadata": {},
   "source": [
    "## Exa 2.6"
   ]
  },
  {
   "cell_type": "code",
   "execution_count": 6,
   "metadata": {
    "collapsed": false
   },
   "outputs": [
    {
     "name": "stdout",
     "output_type": "stream",
     "text": [
      "The constant A corresponding to \n",
      "the attractive potential energy, in joule metre square, is : 7.2e-38\n",
      "The constant B corresponding to\n",
      "the repulsive potential energy,in joule metre raised to power 10,is:\n",
      "9.45e-115\n",
      "The critical separation between the nuclei, in angstrom, is : \n",
      "The minimum force required to dissociate the molecule,in N,is:\n",
      "-2.38e-09\n"
     ]
    }
   ],
   "source": [
    "from __future__ import division\n",
    "import math\n",
    " #  Python  Code  Ex2.6  Binding  force  and  critical  separation  of  \n",
    " #a  diatomic  molecule:  Page-69  (2010)\n",
    " \n",
    " \n",
    " \n",
    "#Variable declaration\n",
    " \n",
    "Re  =  3*10**-10;   #  Equilibrium  spacing  of  diatomic  molecule,  m\n",
    "e  =  1.6*10**-19;            #  Electronic  charge,  C\n",
    "n  =  2;#Power of R in the attractive term of potential energy of two particles\n",
    "m  =  10;#Power of R in the repulsive term of potential energy of two particles\n",
    "\n",
    "\n",
    "#Calculations\n",
    "\n",
    "D  =  4*e;          #  Dissociation  energy  of  diatomic  molecule,  eV\n",
    "Ue = -D;#Potential energy of diatomic molecule at equilibrium separation,joule\n",
    "A  =  -(Ue*Re**n)/(1-n/m);#Constant corrsponding to the attractive  term\n",
    "#  in  potential  energy,  joule  metre  square\n",
    "B  =  A*Re**8/5; #  Constant  corresponding  to  the  repulsive  term \n",
    "# in  potential  energy,  joule  metre  raised  to  power  10\n",
    "Rc  =  (55/3*B/A)**(1/8);  #  Critical  separation  between  the  nuclei,  m\n",
    "F_min  =  -2*A/Rc**3*(1-(Re/Rc)**8);#  The  minimum  force  required  to\n",
    "#  dissociate  the  moleule,  N\n",
    "\n",
    "\n",
    "#Results\n",
    "\n",
    "print \"The constant A corresponding to \" \n",
    "print \"the attractive potential energy, in joule metre square, is :\",A\n",
    "print \"The constant B corresponding to\"\n",
    "print\"the repulsive potential energy,in joule metre raised to power 10,is:\"\n",
    "print round((B*10**115),2)*10**-115\n",
    "print \"The critical separation between the nuclei, in angstrom, is : \"\n",
    "round ((Rc*10**10),2)*10**-10\n",
    "print \"The minimum force required to dissociate the molecule,in N,is:\"\n",
    "print round((F_min*10**9),2)*10**-9\n",
    "\n",
    " "
   ]
  },
  {
   "cell_type": "markdown",
   "metadata": {},
   "source": [
    "## Exa 2.7"
   ]
  },
  {
   "cell_type": "code",
   "execution_count": 7,
   "metadata": {
    "collapsed": false
   },
   "outputs": [
    {
     "name": "stdout",
     "output_type": "stream",
     "text": [
      "The bond formation energy for K+ and Cl- ion pair, in eV, is :  0.5\n",
      "The separation between K+ and Cl- ion pair,in angstrom,is\n",
      "-28.76\n"
     ]
    }
   ],
   "source": [
    "from __future__ import division\n",
    "import math\n",
    "#Python Code Ex2.7Bond  formation Energy for K+ and Cl- ion pair:Page-70(2010)\n",
    "\n",
    "\n",
    "\n",
    "#Variable declaration\n",
    " \n",
    "eps_0  =  8.854*10**-12;# Absolute  electrical  permittivity  of  free  space,\n",
    "#  coulomb  sqaure  per  newton  per  metre  square\n",
    "e  =  1.6*10**-19;                 #  Electronic  charge,  C\n",
    "IP_K  =  4.1;      #  Ionization  potential  of  potassium,  electron-volt\n",
    "EA_Cl  =  3.6;    # Electron  affinity  of  chlorine,  electron-volt\n",
    "\n",
    "\n",
    "#Calculations\n",
    "\n",
    "delta_E  =  IP_K  -  EA_Cl; #  Net  energy  required  \n",
    "#to  produce  the  ion-pair,  electron-volt\n",
    "Ec  =  delta_E;  #  Coulomb  energy  equals  net  energy  required \n",
    "# to  produce  the  ion  pair,  in  electron-volt\n",
    " #  Since  Ec  =  -e/(4*%math.pi*eps_0*R),  solving  for  R\n",
    "R  =  -e/(4*math.pi*eps_0*Ec);#Separation between K+ and Cl- ion pair,  m\n",
    "\n",
    "\n",
    "#Results\n",
    "\n",
    "print \"The bond formation energy for K+ and Cl- ion pair, in eV, is : \",Ec\n",
    "print\"The separation between K+ and Cl- ion pair,in angstrom,is\"\n",
    "print round(R/(1*10**-10),2)\n",
    "\n",
    " "
   ]
  },
  {
   "cell_type": "markdown",
   "metadata": {},
   "source": [
    "## Exa 2.8"
   ]
  },
  {
   "cell_type": "code",
   "execution_count": 8,
   "metadata": {
    "collapsed": false
   },
   "outputs": [
    {
     "name": "stdout",
     "output_type": "stream",
     "text": [
      "\n",
      "Energy to transfer an electron from M to X atom= -1.88  eV\n"
     ]
    }
   ],
   "source": [
    "from __future__ import division\n",
    "import math\n",
    " #  Python  Code  Ex2.8    Energy  liberated  during  electron  transfer\n",
    "#  between  ions  of  a  molecule:    Page-71  (2010)\n",
    "\n",
    "\n",
    "\n",
    "#Variable declaration\n",
    " \n",
    "eps_0  =  8.854*10**-12; #  Absolute electrical permittivity  of  free  space,                                                       #  Electronic  charge,  C\n",
    "R  =  5*10**-10; #  Separation  between  the  ions  M  and  X,  m\n",
    "e=1.6*10**-19\n",
    "IP_M  =  5;              #  Ionization  potential  of  M,  eV\n",
    "EA_X  =  4;                       #  Electron  affinity  of  X,  eV\n",
    "\n",
    "\n",
    "#Calculations\n",
    "\n",
    "U  =  -e/(4*math.pi*eps_0*R); #  The  potential  energy  of  MX  molecule,  eV\n",
    "delta_E  =  IP_M  -  EA_X;#The net energy required to produce the ion pair, eV\n",
    "Er  =  delta_E  +  U;#Energy required to transfer an electron from M to X  eV\n",
    "\n",
    "#Result\n",
    "\n",
    "print\"\\nEnergy to transfer an electron from M to X atom=\",round(Er,2),\" eV\"\n",
    "\n",
    " "
   ]
  }
 ],
 "metadata": {
  "kernelspec": {
   "display_name": "Python 2",
   "language": "python",
   "name": "python2"
  },
  "language_info": {
   "codemirror_mode": {
    "name": "ipython",
    "version": 2
   },
   "file_extension": ".py",
   "mimetype": "text/x-python",
   "name": "python",
   "nbconvert_exporter": "python",
   "pygments_lexer": "ipython2",
   "version": "2.7.6"
  }
 },
 "nbformat": 4,
 "nbformat_minor": 0
}
