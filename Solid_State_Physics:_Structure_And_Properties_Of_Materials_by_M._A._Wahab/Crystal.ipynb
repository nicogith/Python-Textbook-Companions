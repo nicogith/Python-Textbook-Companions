{
 "cells": [
  {
   "cell_type": "markdown",
   "metadata": {},
   "source": [
    "# Chapter 5: Crystal Imperfections"
   ]
  },
  {
   "cell_type": "markdown",
   "metadata": {},
   "source": [
    "## Exa 5.1"
   ]
  },
  {
   "cell_type": "code",
   "execution_count": 1,
   "metadata": {
    "collapsed": false
   },
   "outputs": [
    {
     "name": "stdout",
     "output_type": "stream",
     "text": [
      "\n",
      "The fraction of atoms in the solid at 300 K, is :\n",
      "6.19e-26\n",
      "\n",
      "The fraction of atoms in the solid at 1000 K, is :\n",
      "9.08e-06\n"
     ]
    }
   ],
   "source": [
    "from __future__ import division\n",
    "import math\n",
    " # Python Code Ex5.1 Variation of fraction of atoms in a solid \n",
    " # with temperature Page-158 (2010)\n",
    " \n",
    " \n",
    " \n",
    "#Variable declaration\n",
    "\n",
    "\n",
    "E = 1.5;                              # Energy of the solid, electron-volt\n",
    "T1 = 300;                               # First absolute temperature, K\n",
    "T2 = 1500;                            # Second absolute temperature, K\n",
    "k = 8.614*10**-5;              # Boltzmann constant, electron-volt/K\n",
    "\n",
    "\n",
    "\n",
    "\n",
    "#Calculation\n",
    "\n",
    " # Now fraction of atoms = f_atom = n/N = math.exp(-E/(k*T)\n",
    "f_atom_300 = math.exp(-E/(k*T1));   # Fraction of atoms in the solid at 300 K\n",
    "f_atom_1000 = math.exp(-E/(k*T2));  # Fraction of atoms in the solid at 1000 K\n",
    "\n",
    "\n",
    "\n",
    "\n",
    "#Result\n",
    "\n",
    "print\"\\nThe fraction of atoms in the solid at 300 K, is :\"\n",
    "print round((f_atom_300*10**26),2)*10**-26\n",
    "print\"\\nThe fraction of atoms in the solid at 1000 K, is :\"\n",
    "print round((f_atom_1000*10**6),2)*10**-6\n",
    " "
   ]
  },
  {
   "cell_type": "markdown",
   "metadata": {},
   "source": [
    "## Exa 5.2"
   ]
  },
  {
   "cell_type": "code",
   "execution_count": 2,
   "metadata": {
    "collapsed": false
   },
   "outputs": [
    {
     "name": "stdout",
     "output_type": "stream",
     "text": [
      "\n",
      "The relative change in the density of copper due to\n",
      " vacancy formation (n+N)/N, is : 1.0002 : 1\n"
     ]
    }
   ],
   "source": [
    "from __future__ import division\n",
    "import math\n",
    " # Python Code Ex5.2 Vacancy formation in copper Page-159 (2010)\n",
    " \n",
    " \n",
    " \n",
    " #Variable declaration\n",
    " \n",
    "E = 1;              # Energy of formation of vacancy in copper, electron-volt\n",
    "T = 1356;                      # Melting point of copper, K\n",
    "k = 8.614*10**-5;                # Boltzmann constant, electron-volt\n",
    "N = 6.023*10**23;              # Avogadro's number\n",
    "\n",
    "\n",
    "\n",
    "#Calculation\n",
    "\n",
    " # Now fraction of vacancies = f_vacancy = n/N = math.exp(-E/(k*T)\n",
    "f = math.exp(-E/(k*T));        # Fraction of vacancies in the solid at 300 K\n",
    "n = N*f;                           # Number of vacancy per mole\n",
    "delta_d = n + N;          # Change in the density due to creation of vacancy\n",
    "# Relative change in the density of copper due to vacancy formation\n",
    "f_d = delta_d/N;\n",
    "\n",
    "\n",
    "\n",
    "#Result\n",
    "\n",
    "print\"\\nThe relative change in the density of copper due to\"\n",
    "print\" vacancy formation (n+N)/N, is :\",round(f_d,4),\": 1\""
   ]
  },
  {
   "cell_type": "markdown",
   "metadata": {},
   "source": [
    "## Exa 5.3"
   ]
  },
  {
   "cell_type": "code",
   "execution_count": 3,
   "metadata": {
    "collapsed": false
   },
   "outputs": [
    {
     "name": "stdout",
     "output_type": "stream",
     "text": [
      "\n",
      "The average separation between the defects, is :\n",
      "2.2e-07 m\n",
      "\n",
      "The expected concentration of Schottky defect at 1000 K, n/N, is :\n",
      "0.0001\n"
     ]
    }
   ],
   "source": [
    "from __future__ import division\n",
    "import math\n",
    " # Python Code Ex5.3 Concentration of Schottky imperfections Page-159 (2010)\n",
    " \n",
    " \n",
    "#Variable declaration\n",
    "\n",
    "\n",
    "N = 6.023*10**23;                           # Avogadro's number\n",
    "k = 8.614*10**-5;                         # Boltzmann's constant, eV/K\n",
    "T1 = 27+273;              # First absolute temperature, K\n",
    "T2 = 1000;                              # Second absolute temperature, K\n",
    "d = 1*10**-10;      # Interatomic spacing assumed to be unit angstrom, m\n",
    "# Concentration of Schottky defects in an fcc crystal at 300 K temperature\n",
    "C_300 = 1*10**-10;\n",
    "\n",
    "\n",
    "\n",
    "#Calculation\n",
    "\n",
    "n = C_300*N;                    # Number of Schottky imperfections per mole\n",
    "V = d**3;                           # Volume of the unit cube, metre cube\n",
    "V_mole = V*N;# Volume occupied by one mole of atoms in fcc crystal, metre cube\n",
    "V_per_defect = V_mole/n;                # Volume per defect, metre cube\n",
    "a = (V_per_defect)**(1/3);      # Average separation between the defects, m\n",
    "E_v = 23.03*k*T1;           # Energy of the solid, electron-volt\n",
    "C_1000 = math.exp(-E_v/(k*T2));  # Schottky defect concentration at 1000 K\n",
    "\n",
    "\n",
    "#Result\n",
    "\n",
    "print\"\\nThe average separation between the defects, is :\"\n",
    "print round((a*10**7),1)*10**-7,\"m\"\n",
    "print\"\\nThe expected concentration of Schottky defect at 1000 K, n/N, is :\"\n",
    "print  round((C_1000*10**2),2)*10**-3\n",
    " "
   ]
  },
  {
   "cell_type": "markdown",
   "metadata": {},
   "source": [
    "## Exa 5.4"
   ]
  },
  {
   "cell_type": "code",
   "execution_count": 4,
   "metadata": {
    "collapsed": false
   },
   "outputs": [
    {
     "name": "stdout",
     "output_type": "stream",
     "text": [
      "\n",
      "No. of Schottky imperfections present in NaCl crystal is :\n",
      "9420000.0\n",
      "\n",
      "Concentration of Schottky imperfections present in NaCl crystal is :\n",
      "351000.0  per cm cube\n"
     ]
    }
   ],
   "source": [
    "from __future__ import division\n",
    "import math\n",
    "#PythonCodeEx5.4 Number of Schottky imperfections in NaCl crystalPage-160(2010)\n",
    "\n",
    "\n",
    "#Variable declaration\n",
    "\n",
    "\n",
    "N = 6.023*10**23;                           # Avogadro's number\n",
    "k = 8.614*10**-5;                        # Boltzmann's constant, eV/K\n",
    "T = 27+273;               # Absolute room temperature, K\n",
    "Ep = 2;  # Energy required to remove a pair of Na+ and Cl- ions, electron-volt\n",
    "\n",
    "\n",
    "\n",
    "\n",
    "#Calculation and Results\n",
    "\n",
    " # Now Concentration of imperfections in a crystal is given by\n",
    " # n/N = math.exp(-Ep/(2*k*T)), solving for n\n",
    "# No. of Schottky imperfections present in NaCl crystal\n",
    "n = N*math.exp(-Ep/(2*k*T));\n",
    "print\"\\nNo. of Schottky imperfections present in NaCl crystal is :\"\n",
    "print round((n*10**-6),2)*10**6\n",
    "V = 26.83;                    # Volume of one mole of the crystal, cm cube\n",
    "n = n/V;              # Number per mole volume of the crystal, per cm cube\n",
    "print\"\\nConcentration of Schottky imperfections present in NaCl crystal is :\"\n",
    "print round((n*10**-5),2)*10**5,\" per cm cube\"\n",
    " "
   ]
  },
  {
   "cell_type": "markdown",
   "metadata": {},
   "source": [
    "## Exa 5.5"
   ]
  },
  {
   "cell_type": "code",
   "execution_count": 5,
   "metadata": {
    "collapsed": false
   },
   "outputs": [
    {
     "name": "stdout",
     "output_type": "stream",
     "text": [
      "\n",
      "The Average energy required to create one Schottky defect\n",
      " in NaCl crystal is : 1.98 eV\n"
     ]
    }
   ],
   "source": [
    "from __future__ import division\n",
    "import math\n",
    " # Python Code Ex5.5 Average energy required to create one \n",
    " #Schottky defect in NaCl Page-160 (2010)\n",
    " \n",
    " \n",
    "#Variable declaration\n",
    "\n",
    "\n",
    "N = 6.023*10**23;                           # Avogadro's number\n",
    "k = 8.614*10**-5;                           # Boltzmann's constant, eV/K\n",
    "T = 27+273;                             # Absolute room temperature, K\n",
    "r = 2.82*10**-10;             # Interatomic separation of NaCl cryastal, m\n",
    "n = 5*10**+11;                 # Density of defects, per metre cube\n",
    "\n",
    "\n",
    "\n",
    "#Calculation\n",
    "\n",
    " #Ep = 2;//Energy required to remove a pair of Na+ and Cl- ions, electron-volt\n",
    "a = 2*r;                # Lattice parameter of unit cell of NaCl, m\n",
    "V = a**3;                # Volume of the unit cell of sodium, metre cube\n",
    "n_ip = 4;                      # Number of ion-pairs of NaCl \n",
    "N = n_ip/V;      # No. of ion-pairs in unit volume of an ideal NaCl crystal\n",
    " # Now n/N = math.exp(-Ep/(2*k*T)), solving for Ep\n",
    "# Average energy required to create one Schottky defect, electron-volt\n",
    "Ep = 2*k*T*math.log(N/n);\n",
    "\n",
    "\n",
    "#Result\n",
    "\n",
    "print\"\\nThe Average energy required to create one Schottky defect\"\n",
    "print\" in NaCl crystal is :\",round(Ep,2),\"eV\"\n",
    " "
   ]
  },
  {
   "cell_type": "markdown",
   "metadata": {},
   "source": [
    "## Exa 5.6"
   ]
  },
  {
   "cell_type": "code",
   "execution_count": 6,
   "metadata": {
    "collapsed": false
   },
   "outputs": [
    {
     "name": "stdout",
     "output_type": "stream",
     "text": [
      "\n",
      "The ratio of Frenkel defect, n300_r_n600, is :\n",
      "1.31e-06\n"
     ]
    }
   ],
   "source": [
    "from __future__ import division\n",
    "import math\n",
    " # Python Code Ex5.6 Ratio of Frenkel defects at two different temperatures\n",
    "# in an ionic crystal Page-161 (2010)\n",
    "\n",
    "\n",
    "#Variable declaration\n",
    "\n",
    "\n",
    "k = 8.614*10**-5;                           # Boltzmann's constant, eV/K\n",
    "Ef = 1.4;          # Average energy required to create a Frenkel defect, eV\n",
    "T1 = 300;                    # First absoluite temperature, K\n",
    "T2 = 600;                               # Second absolute temperature, K\n",
    "\n",
    "\n",
    "#Calculation\n",
    "\n",
    " # The concentration of Frenkel defect for given Ef \n",
    " #and absolute temperature T is given by\n",
    " # n = A*math.exp(-Ef/(2*k*T)), per metre cube, so that\n",
    " # n1 = A*math.exp(-Ef/(2*k*T1)), per metre cube, and\n",
    " # n2 = A*math.exp(-Ef/(2*k*T2)), per metre cube, therefore,\n",
    " # n1/n2 = math.exp((-Ef/k)*(1/T1 - 1/T2)), the ratio of Frenkel defects is\n",
    "n300_r_n600 = math.exp((-Ef/(2*k))*(1/T1 - 1/T2));# Frenkel defect ratio \n",
    "\n",
    "\n",
    "\n",
    "#Result\n",
    "\n",
    "print\"\\nThe ratio of Frenkel defect, n300_r_n600, is :\"\n",
    "print round((n300_r_n600*10**6),2)*10**-6"
   ]
  },
  {
   "cell_type": "markdown",
   "metadata": {},
   "source": [
    "## Exa 5.7"
   ]
  },
  {
   "cell_type": "code",
   "execution_count": 7,
   "metadata": {
    "collapsed": false
   },
   "outputs": [
    {
     "name": "stdout",
     "output_type": "stream",
     "text": [
      "\n",
      "The dislocation density in bcc structure of iron :\n",
      "34200000000.0 dislocations per Sq. m\n"
     ]
    }
   ],
   "source": [
    "from __future__ import division\n",
    "import math\n",
    "# Python Code Ex5.7 Dislocation density of bcc structure of iron Page-163(2010)\n",
    "\n",
    "\n",
    "\n",
    " \n",
    "#Variable declaration\n",
    "\n",
    "\n",
    "L = 0.15;                              # Length of the strip, m\n",
    "t = 0.02;                            # Thickness of the iorn strip, m\n",
    "r = 0.12;                # Radius of curvature of the bent, m\n",
    "a = 2.81*10**-10;        # Lattice parameter of the bcc structure of iron, m\n",
    "\n",
    "\n",
    "\n",
    "#Calculation\n",
    "\n",
    "b = (3)**0.5*a/2;                        # Magnitude of Burger vector, m\n",
    " # For n positive edge dislocations\n",
    " # n*b = L*t/r, solving for n/(L*t)\n",
    " # n/(L*t) = 1/(r*b), Number of dislocation line piercing through \n",
    " #a unit area of the plane of the paper, per metre square\n",
    "# Dislocation density in bcc structure of iron, number per metre square\n",
    "d = 1/(r*b);\n",
    "\n",
    "\n",
    "\n",
    "#Result\n",
    "\n",
    "print\"\\nThe dislocation density in bcc structure of iron :\"\n",
    "print round((d*10**-10),2)*10**10,\"dislocations per Sq. m\"\n",
    " "
   ]
  },
  {
   "cell_type": "markdown",
   "metadata": {},
   "source": [
    "## Exa 5.8"
   ]
  },
  {
   "cell_type": "code",
   "execution_count": 8,
   "metadata": {
    "collapsed": false
   },
   "outputs": [
    {
     "name": "stdout",
     "output_type": "stream",
     "text": [
      "\n",
      "The minimum dislocation density in aluminium,\n",
      "67000000000.0 dislocations per Sq. m\n"
     ]
    }
   ],
   "source": [
    "from __future__ import division\n",
    "import math\n",
    " # Python Code Ex5.8 Minimum dislocation density in aluminium Page-164 (2010)\n",
    " \n",
    " \n",
    " \n",
    "  \n",
    "#Variable declaration\n",
    "\n",
    "\n",
    "b = 3*10**-10;                   # Magnitude of Burgers vector, m\n",
    "r = 0.05;             # Radius of curvatur of the aluminium crystal, m\n",
    "\n",
    "\n",
    "#Calculation\n",
    "\n",
    " # For n positive edge dislocations\n",
    " # n*b = L*t/r, solving for n/(L*t)\n",
    " # n/(L*t) = 1/(r*b), Number of dislocation line piercing through \n",
    " #a unit area of the plane of the paper, per Sq.m\n",
    "d = 1/(r*b);   # Minimum dislocation density in aluminium, number per Sq. m\n",
    "\n",
    "\n",
    "\n",
    "#Result\n",
    "\n",
    "print\"\\nThe minimum dislocation density in aluminium,\"\n",
    "print round((d*10**-10),1)*10**10,\"dislocations per Sq. m\"\n",
    " "
   ]
  },
  {
   "cell_type": "markdown",
   "metadata": {},
   "source": [
    "## Exa 5.9"
   ]
  },
  {
   "cell_type": "code",
   "execution_count": 9,
   "metadata": {
    "collapsed": false
   },
   "outputs": [
    {
     "name": "stdout",
     "output_type": "stream",
     "text": [
      "\n",
      "The applied force along [1-10] direction = 183.85 N\n"
     ]
    }
   ],
   "source": [
    "from __future__ import division\n",
    "import math\n",
    " # Python Code Ex5.9 Determining total force from its resolved component\n",
    "# in a given direction: Page-168 (2010)\n",
    "\n",
    "\n",
    "\n",
    " \n",
    "#Variable declaration\n",
    "\n",
    "\n",
    "h1 = 1; k1 = -1; l1 = 0              # Miller indices for first set of planes\n",
    "h2 = 1; k2 = 0; l2 = 0;              # Miller indices for second set of planes\n",
    "F_100 = 130;         # Resolved component of force along [100] direction, N\n",
    "\n",
    "\n",
    "\n",
    "#Calculation\n",
    "\n",
    "w=(h1*h2+k1*k2+l1*l2)/((h1**2+k1**2+l1**2)**0.5*(h2**2+k2**2+l2**2)**0.5)\n",
    "cos_theta = w;# Cosine of angle between [1 -1 0] and [100] directions\n",
    " # As F/F_100 = cos_theta, solving for F\n",
    "F_110 = F_100/cos_theta;          # Applied force along [1 -1 0] direction, N\n",
    "\n",
    "\n",
    "\n",
    "#Result\n",
    "\n",
    "print\"\\nThe applied force along [1-10] direction =\",round(F_110,2),\"N\""
   ]
  },
  {
   "cell_type": "markdown",
   "metadata": {},
   "source": [
    "## Exa 5.10"
   ]
  },
  {
   "cell_type": "code",
   "execution_count": 10,
   "metadata": {
    "collapsed": false
   },
   "outputs": [
    {
     "name": "stdout",
     "output_type": "stream",
     "text": [
      "\n",
      "The resolved component of shearing force along[110]direction,F_110 =\n",
      "538.89 N\n"
     ]
    }
   ],
   "source": [
    "from __future__ import division\n",
    "import math\n",
    " # Python Code Ex5.10 Determining resolved componet of shearing force \n",
    " #in a given direction: Page-168 (2010)\n",
    " \n",
    " \n",
    " \n",
    "  \n",
    "#Variable declaration\n",
    "\n",
    "\n",
    "h1 = 1; k1 = 1; l1 = 1        # Miller indices for first set of planes\n",
    "h2 = 1; k2 = 1; l2 = 0;         # Miller indices for second set of planes\n",
    "F_111 = 660;              # Shearing force along [111] direction, N\n",
    "\n",
    "\n",
    "\n",
    "#Calculation\n",
    "\n",
    "w=(h1*h2+k1*k2+l1*l2)/((h1**2+k1**2+l1**2)**0.5*(h2**2+k2**2+l2**2)**0.5)\n",
    "cos_theta = w;# Cosine of angle between [1 -1 0] and [100] directions\n",
    " # As F_110/F_111 = cos_theta, solving for F_110\n",
    "# Resolved component of shearing force along [110] direction, N\n",
    "F_110 = F_111*cos_theta;  \n",
    "\n",
    "\n",
    "\n",
    "#Result\n",
    "      \n",
    "print\"\\nThe resolved component of shearing force along[110]direction,F_110 =\"\n",
    "print round(F_110,2),\"N\""
   ]
  },
  {
   "cell_type": "markdown",
   "metadata": {},
   "source": [
    "## Exa 5.11"
   ]
  },
  {
   "cell_type": "code",
   "execution_count": 11,
   "metadata": {
    "collapsed": false
   },
   "outputs": [
    {
     "name": "stdout",
     "output_type": "stream",
     "text": [
      "\n",
      "The  stress  required  to  be  applied  along  [001]  direction \n",
      " to  produce  slip  in  the  [101]  direction  on  the (-111) plane = \n",
      "3.0 MPa\n",
      "\n",
      "Since  cos_lambda = 0, this implies that  slip  cannot  occur \n",
      "in[110] direction when the stress is applied along [001] direction\n"
     ]
    }
   ],
   "source": [
    "from __future__ import division\n",
    "import math\n",
    " #  Python  Code  Ex5.11  Dependence  of  applied  stress  \n",
    " #on  the  slip  direction  of  a  copper:  Page-169  (2010)\n",
    " \n",
    " \n",
    " \n",
    "  \n",
    "#Variable declaration\n",
    "\n",
    "\n",
    "# Critical shear stress for the <-110>{111} slip system, mega-pascal  (MPa)\n",
    "tau_critical  =  1;\n",
    " #  For  directions  [001]  and  [-111]\n",
    "h1  =  0;  k1  =  0;  l1  =  1 #  Miller  indices  for  first  set  of  planes\n",
    "h2  =  -1;  k2 = 1;l2  =  1;#  Miller  indices  for  second  set  of  planes\n",
    "\n",
    "\n",
    "\n",
    "\n",
    "#Calculation and Result\n",
    "\n",
    "w=(h1*h2+k1*k2+l1*l2)/((h1**2+k1**2+l1**2)**0.5*(h2**2+k2**2+l2**2)**0.5)\n",
    "cos_phi  =  w;#  Cosine  of  angle  between  [001]  and  [-111]  directions\n",
    " #  For  directions  [001]  and  [101]\n",
    "h1  =  0;  k1  =  0;  l1  =  1 #  Miller  indices  for  first  set  of  planes\n",
    "h2  =  1;  k2  =  0; l2  =  1;#  Miller  indices  for  second  set  of  planes\n",
    "cos_lambda  =  w;#  Cosine  of  angle  between  [001]  and  [101]  directions\n",
    "#  Stress  along  [001]  direction,  newton  per  metre  square\n",
    "sigma  =  tau_critical/(cos_phi*cos_lambda);\n",
    "print \"\\nThe  stress  required  to  be  applied  along  [001]  direction \"\n",
    "print\" to  produce  slip  in  the  [101]  direction  on  the (-111) plane = \"\n",
    "print round(sigma,2),\"MPa\"\n",
    " #  For  directions  [001]  and  [110]\n",
    "h1  =  0;  k1  =  0;  l1  =  1 #  Miller  indices  for  first  set  of  planes\n",
    "h2  =  1; k2  =  1;l2  =  0; #  Miller  indices  for  second  set  of  planes\n",
    "w=(h1*h2+k1*k2+l1*l2)/((h1**2+k1**2+l1**2)**0.5*(h2**2+k2**2+l2**2)**0.5)\n",
    "cos_lambda  =  w;#  Cosine  of  angle  between  [001]  and  [110]  directions\n",
    "if cos_lambda <> 0:\n",
    "#  Stress  along  [001]  direction,  newton  per  metre  square\n",
    "    print\"\\nThe  stress  required  to  be  applied  along  [001]  direction\"  \n",
    "    print\"to  produce slip in the [110] direction  on  the(-111)  plane  = \"\n",
    "    print sigma,\"MPa\"\n",
    "else:\n",
    "    print\"\\nSince  cos_lambda = 0, this implies that  slip  cannot  occur \"\n",
    "    print\"in[110] direction when the stress is applied along [001] direction\"\n",
    "\n",
    " "
   ]
  },
  {
   "cell_type": "markdown",
   "metadata": {},
   "source": [
    "## Exa 5.12"
   ]
  },
  {
   "cell_type": "code",
   "execution_count": 12,
   "metadata": {
    "collapsed": false
   },
   "outputs": [
    {
     "name": "stdout",
     "output_type": "stream",
     "text": [
      "\n",
      "The resolved shear stress in the [101] direction on the (010) plane =\n",
      "61.5 MPa\n"
     ]
    }
   ],
   "source": [
    "from __future__ import division\n",
    "import math\n",
    " # Python Code Ex5.12 Resolved stress in a direction from applied stress\n",
    "# in some other direction of bcc iron: Page-169 (2010)\n",
    "\n",
    "\n",
    "\n",
    " \n",
    "#Variable declaration\n",
    "\n",
    "\n",
    "sigma = 123;  # Axial stress applied in the direction [110] of bcc iron, MPa\n",
    " # For directions [010] and [110]\n",
    "h1 = 0; k1 = 1; l1 = 0        # Miller indices for first set of planes\n",
    "h2 = 1; k2 = 1; l2 = 0;      # Miller indices for second set of planes\n",
    "\n",
    "\n",
    "#Calculation\n",
    "\n",
    "w=(h1*h2+k1*k2+l1*l2)/((h1**2+k1**2+l1**2)**0.5*(h2**2+k2**2+l2**2)**0.5)\n",
    "cos_phi = w;# Cosine of angle between [010] and [110] directions\n",
    " # For directions [110s] and [101]\n",
    "h1 = 1; k1 = 0; l1 = 1               # Miller indices for first set of planes\n",
    "h2 = 1; k2 = 1; l2 = 0;             # Miller indices for second set of planes\n",
    "cos_lambda = w;# Cosine of angle between [110] and [101] directions\n",
    "# Resolved shear stress in the [101] direction on the (010) plane, MPa\n",
    "tau = sigma*cos_phi*cos_lambda;  \n",
    "\n",
    "\n",
    "\n",
    "#Result\n",
    " \n",
    "print\"\\nThe resolved shear stress in the [101] direction on the (010) plane =\"\n",
    "print round(tau,2),\"MPa\"\n",
    " "
   ]
  },
  {
   "cell_type": "markdown",
   "metadata": {},
   "source": [
    "## Exa 5.13"
   ]
  },
  {
   "cell_type": "code",
   "execution_count": 13,
   "metadata": {
    "collapsed": false
   },
   "outputs": [
    {
     "name": "stdout",
     "output_type": "stream",
     "text": [
      "\n",
      "The critical resolved shear stress in the [1 -1 0] direction \n",
      "on the (111) plane =  0.39 MPa\n"
     ]
    }
   ],
   "source": [
    "from __future__ import division\n",
    "import math\n",
    " # Python Code Ex5.13 Determining critical resolved shear stress \n",
    " #from applied stress in a given direction of aluminium: Page-170 (2010)\n",
    " \n",
    " \n",
    " \n",
    "  \n",
    "#Variable declaration\n",
    "\n",
    "\n",
    "sigma_critical = 3.5; # Applied stress in the [1 -1 1] direction, MPa\n",
    " # For directions [111] and [1 -1 1]\n",
    "h1 = 1; k1 = 1; l1 = 1; # Miller indices for first set of planes\n",
    "h2 = 1; k2 = -1; l2 = 1; # Miller indices for second set of planes\n",
    "\n",
    "\n",
    "\n",
    "#Calculation\n",
    "\n",
    "# Cosine of angle between [111] and [1 -1 1] directions\n",
    "w=(h1*h2+k1*k2+l1*l2)/((h1**2+k1**2+l1**2)**0.5*(h2**2+k2**2+l2**2)**0.5)\n",
    "cos_phi = w;\n",
    " # For directions [1 - 1 0] and [1 -1 1]\n",
    "h1 = 1; k1 = -1; l1 = 0 # Miller indices for first set of planes\n",
    "h2 = 1; k2 = -1; l2 = 1; # Miller indices for second set of planes\n",
    "cos_lambda = w# Cosine of angle between [1 -1 0] and [1 -1 1] directions\n",
    "# The critical resolved shear stress in the [1 -1 0] direction \n",
    "#on the (111) plane, MPa\n",
    "tau_c = sigma_critical*cos_phi*cos_lambda;\n",
    "\n",
    "\n",
    "\n",
    "#Result\n",
    "\n",
    "print\"\\nThe critical resolved shear stress in the [1 -1 0] direction \"\n",
    "print\"on the (111) plane = \",round(tau_c,2),\"MPa\"\n",
    " "
   ]
  },
  {
   "cell_type": "markdown",
   "metadata": {},
   "source": [
    "## Exa 5.14"
   ]
  },
  {
   "cell_type": "code",
   "execution_count": 14,
   "metadata": {
    "collapsed": false
   },
   "outputs": [
    {
     "name": "stdout",
     "output_type": "stream",
     "text": [
      "\n",
      "tau 1 =  0.91  MPa\n",
      "\n",
      "tau 2 =  0.81  MPa\n",
      "\n",
      "tau 3 =  0.12  MPa\n",
      "\n",
      "The slip is initiated along direction x1 at tau_c= 0.91 MPa\n"
     ]
    }
   ],
   "source": [
    "from __future__ import division\n",
    "import math\n",
    " # Python Code Ex5.14 Determining the direction in which slip is \n",
    " #initiated by the applied stress in zinc: Page-170 (2010)\n",
    " \n",
    " \n",
    "  \n",
    "#Variable declaration\n",
    "\n",
    "\n",
    "sigma = 2.3;# Applied stress when the plastic deformation is first observed,MPa\n",
    "#Angle which the normal to the basal plane makes with the tensile axis of zinc,\n",
    "phi = 60 ;\n",
    "\n",
    "\n",
    "\n",
    "\n",
    "#Calculation and Result\n",
    "\n",
    " # Function to find the value of resolved shear stress \n",
    "def stress(lamb):\n",
    "  tau = sigma*math.cos(math.radians(phi))*math.cos(math.radians(lamb));\n",
    "  return tau\n",
    "lamb=[]  \n",
    "# Angles which the three slip directions x1, x2 and x3 respectively\n",
    "# makes with the tensile axis, degrees\n",
    "lamb = [38,45,84];\n",
    "t = [];          # Initialize a one-dimensional vector of three elements\n",
    "for i in range(3):    \n",
    "  # Calculate the value of resolved shear stress by calling stress function\n",
    "  t.append(stress(lamb[i]));  \n",
    "  # Display resloved shear stress for each direction, MPa\n",
    "  print \"\\ntau\",i+1,\"= \",round(t[i],2),\" MPa\"  \n",
    "\n",
    "# Locate for the largest resolved stress value\n",
    "big = t[0];\n",
    "for i in range(1,3):\n",
    "  if t[i] > big:\n",
    "    big = t[i] # Set largest valuse of resolved stress if the condition meets\n",
    "print\"\\nThe slip is initiated along direction x1 at tau_c=\",round(big,2),\"MPa\""
   ]
  },
  {
   "cell_type": "markdown",
   "metadata": {},
   "source": [
    "## 5.15"
   ]
  },
  {
   "cell_type": "code",
   "execution_count": 15,
   "metadata": {
    "collapsed": false
   },
   "outputs": [
    {
     "name": "stdout",
     "output_type": "stream",
     "text": [
      "\n",
      "The critical resolved shear stress in the [1 -1 0] direction \n",
      "on the (1 1 1) plane =  2.1  MPa\n"
     ]
    }
   ],
   "source": [
    "from __future__ import division\n",
    "import math\n",
    " # Python Code Ex5.15 Determining applied tensile stress \n",
    " #in a direction to initiate plastic deformation: Page-170 (2010)\n",
    " \n",
    " \n",
    "#Variable declaration\n",
    "\n",
    "\n",
    "tau_critical = 0.7;  # Critical resolved shear stress for fcc crystal, MPa\n",
    " # For directions [100] and [1 1 1]\n",
    "h1 = 1; k1 = 0; l1 = 0;         # Miller indices for first set of planes\n",
    "h2 = 1; k2 = 1; l2 = 1;         # Miller indices for second set of planes\n",
    "\n",
    "\n",
    "\n",
    "#Calculation\n",
    "\n",
    "# Cosine of angle between [100] and [1 1 1] directions\n",
    "w=(h1*h2+k1*k2+l1*l2)/((h1**2+k1**2+l1**2)**0.5*(h2**2+k2**2+l2**2)**0.5)\n",
    "cos_phi = w;\n",
    " # For directions [1 0 0] and [1 -1 0]\n",
    "h1 = 1; k1 = 0; l1 = 0               # Miller indices for first set of planes\n",
    "h2 = 1; k2 = -1; l2 = 0;            # Miller indices for second set of planes\n",
    "cos_lambda = w;# Cosine of angle between [1 0 0] and [1 -1 0] directions\n",
    "# The critical resolved shear stress in the [1 -1 0] direction\n",
    "# on the (1 1 1) plane, MPa\n",
    "sigma_c = tau_critical/(cos_phi*cos_lambda);\n",
    "\n",
    "\n",
    "\n",
    "#Result\n",
    "\n",
    "print\"\\nThe critical resolved shear stress in the [1 -1 0] direction \"\n",
    "print \"on the (1 1 1) plane = \",round(sigma_c,2),\" MPa\""
   ]
  },
  {
   "cell_type": "markdown",
   "metadata": {},
   "source": [
    "## Exa 5.16"
   ]
  },
  {
   "cell_type": "code",
   "execution_count": 16,
   "metadata": {
    "collapsed": false
   },
   "outputs": [
    {
     "name": "stdout",
     "output_type": "stream",
     "text": [
      "\n",
      "The width of dislocation in copper = 4.68 angstrom\n"
     ]
    }
   ],
   "source": [
    "from __future__ import division\n",
    "import math\n",
    " # Python Code Ex5.16 Dislocation width in copper: Page-175 (2010)\n",
    " \n",
    "#Variable declaration\n",
    "\n",
    "a = 3.61e-010;                          # Lattice parameter of copper, m\n",
    "#For simplicity, assume shear modulus of copper to be unity,netwon per metre sq\n",
    "mu = 1;\n",
    "  \n",
    "  \n",
    "#Calculation\n",
    "  \n",
    "  # Shear stress to initiate plastic deformation, newton per metre square\n",
    "tau_PN = mu/1e+05;            \n",
    "b = a/(2)**0.5;        # Burger vector magnitude for fcc crystal of copper, m\n",
    " # As stress necessary to move a dislocation in a crystal is given by \n",
    " # tau_PN = mu*math.exp(-2*%math.pi*w/b), solving for w\n",
    "w = b*math.log(mu/tau_PN)/(2*math.pi); # Width of the dislocation in copper, m\n",
    "\n",
    "\n",
    "#Result\n",
    "\n",
    "print\"\\nThe width of dislocation in copper =\",round(w/(1*10**-10),2),\"angstrom\"\n",
    " "
   ]
  },
  {
   "cell_type": "markdown",
   "metadata": {},
   "source": [
    "## Exa 5.17"
   ]
  },
  {
   "cell_type": "code",
   "execution_count": 17,
   "metadata": {
    "collapsed": false
   },
   "outputs": [
    {
     "name": "stdout",
     "output_type": "stream",
     "text": [
      "\n",
      "The number of vacancies lost or created = 11111111111.0\n"
     ]
    }
   ],
   "source": [
    "from __future__ import division\n",
    "import math\n",
    " # Python Code Ex5.17 Change in number of vacancies \n",
    " #due to disloaction motion: Page-176 (2010)\n",
    " \n",
    " \n",
    " \n",
    "#Variable declaration\n",
    "\n",
    "\n",
    "l = 1e-03;              # Edge dislocation length of simple cubic crystal, m\n",
    "d = 1e-06;                    # Distance of dislocation climb in, m\n",
    "a = 3e-10;                         # Lattice parameter of scc, m\n",
    "\n",
    "\n",
    "#Calculation\n",
    "\n",
    "A = a**2;                # Area of the unit cell, metre square\n",
    "A_affected = l*d;# Affected area when the dislocation climbs down, metre square\n",
    " # N.B.: Area of one unit cell in scc contributes one atom\n",
    "N = A_affected/A;# Number of vacancies created within the affected area\n",
    "\n",
    "\n",
    "#Result\n",
    "\n",
    "print\"\\nThe number of vacancies lost or created =\", round(N)"
   ]
  },
  {
   "cell_type": "markdown",
   "metadata": {},
   "source": [
    "## Exa 5.18"
   ]
  },
  {
   "cell_type": "code",
   "execution_count": 18,
   "metadata": {
    "collapsed": false
   },
   "outputs": [
    {
     "name": "stdout",
     "output_type": "stream",
     "text": [
      "\n",
      "The number of dislocations in motion in the whole cube =  653.0\n"
     ]
    }
   ],
   "source": [
    "from __future__ import division\n",
    "import math\n",
    " # Python Code Ex5.18 Minimum number of dislocations \n",
    " #in motion from shearing rate of copper: Page-176 (2010)\n",
    " \n",
    " \n",
    "#Variable declaration\n",
    "\n",
    "\n",
    "a = 3.61e-010;                          # Lattice parameter of copper, m\n",
    "epsilon_dot = 10/60;         # Strain rate of plastic deformation, mm per sec\n",
    "v_d = 1e+06;                          # Velocity of dislocation, mm per sec\n",
    "V = 1e+03;                              # Volume of the crystal, mm cube\n",
    "b = a*1e+03/(2)**0.5;# Burger vector magnitude for fcc crystal of copper, mm\n",
    "\n",
    "\n",
    "\n",
    "#Calculation\n",
    "\n",
    " # Strain rate of plastic deformation is given by\n",
    " # epsilon_dot = rho*b*v_d, solving for rho\n",
    "rho = epsilon_dot/(b*v_d); # Density of the mobile disloacations, per mm cube\n",
    "N = round(rho*V);      # Number of dislocations in motion in the whole cube\n",
    "\n",
    "\n",
    "\n",
    "#Result\n",
    "\n",
    "print\"\\nThe number of dislocations in motion in the whole cube = \", N\n",
    " "
   ]
  },
  {
   "cell_type": "markdown",
   "metadata": {},
   "source": [
    "## Exa 5.19"
   ]
  },
  {
   "cell_type": "code",
   "execution_count": 19,
   "metadata": {
    "collapsed": false
   },
   "outputs": [
    {
     "name": "stdout",
     "output_type": "stream",
     "text": [
      "\n",
      "The elastic energy stored in the crystal =\n",
      "10.64 joule per metre cube\n"
     ]
    }
   ],
   "source": [
    "from __future__ import division\n",
    "import math\n",
    "# Python Code Ex5.19 Elastic energy of line imperfection stored in Al:Page-178 \n",
    "\n",
    "\n",
    "#Variable declaration\n",
    "\n",
    "\n",
    "rho = 1e+010; # Dislocation density of Al, per metre square\n",
    "mu = 25.94e+09; # Shear molulus of aluminium, newton per metre square\n",
    "a = 4.05e-010; # Lattice parameter of aluminium, m\n",
    "\n",
    "\n",
    "\n",
    "#Calculation\n",
    "\n",
    "b = a/(2)**0.5; # Burger vector magnitude for fcc crystal of Al, m\n",
    "# Elastic energy per unit length of the dislocation, joule per metre\n",
    "E_bar = mu*b**2/2; \n",
    "E = E_bar*rho; # Elastic energy stored in the crystal, joule per metre cube\n",
    "\n",
    "\n",
    "\n",
    "#Result\n",
    "\n",
    "print\"\\nThe elastic energy stored in the crystal =\"\n",
    "print round(E,2),\"joule per metre cube\"\n",
    " "
   ]
  },
  {
   "cell_type": "markdown",
   "metadata": {},
   "source": [
    "## Exa 5.20"
   ]
  },
  {
   "cell_type": "code",
   "execution_count": 20,
   "metadata": {
    "collapsed": false
   },
   "outputs": [
    {
     "name": "stdout",
     "output_type": "stream",
     "text": [
      "\n",
      "The spacing between dislocations in a tilt boundary in fcc Ni =\n",
      "71.28 angstrom\n"
     ]
    }
   ],
   "source": [
    "from __future__ import division\n",
    "import math\n",
    " # Python Code Ex5.20 Spacing between dislocations \n",
    " #in a tilt boundary in fcc Ni: Page-187 (2010)\n",
    " \n",
    " \n",
    " \n",
    " \n",
    "#Variable declaration\n",
    "\n",
    "\n",
    "theta = 2; # Angle of tilt, degree\n",
    "a = 3.52e-010; # Lattice parameter of Al, m\n",
    "\n",
    "\n",
    "\n",
    "# Calculation\n",
    "\n",
    "b = a/(2)**0.5; # Burger vector magnitude for fcc Ni, m\n",
    "# The vertical spacing between two neighbouring edge dislocations, m\n",
    "h = b/math.tan(math.radians(theta)); \n",
    "\n",
    "\n",
    "#Result\n",
    "\n",
    "print\"\\nThe spacing between dislocations in a tilt boundary in fcc Ni =\"\n",
    "print  round(h/(1*10**-10),2),\"angstrom\"\n",
    " "
   ]
  },
  {
   "cell_type": "markdown",
   "metadata": {},
   "source": [
    "## Exa 5.21"
   ]
  },
  {
   "cell_type": "code",
   "execution_count": 21,
   "metadata": {
    "collapsed": false
   },
   "outputs": [
    {
     "name": "stdout",
     "output_type": "stream",
     "text": [
      "\n",
      "The  tilt  angle  between  two  tilt  boundaries  of  Cu  = \n",
      "0.00017 radian\n"
     ]
    }
   ],
   "source": [
    "from __future__ import division\n",
    "import math\n",
    " #  Python  Code  Ex5.21  Determining  tilt  angle  from  dislocation  \n",
    " #spacing  in  the  boundary  of  Cu:  Page-188  (2010)\n",
    "\n",
    "\n",
    "\n",
    "#Variable declaration\n",
    "\n",
    "\n",
    "a  =  3.61e-010;              #  Lattice  parameter  of  Cu,  m\n",
    "h  =  1.5e-06;#The  vertical  spacing  between  \n",
    "#two  neighbouring  edge  dislocations,  m\n",
    "\n",
    "\n",
    "\n",
    "\n",
    "#Calculation\n",
    "\n",
    "b  =  a/(2)**0.5;      #  Burger  vector  magnitude  for  fcc  Cu,  m\n",
    "tan_theta  =  math.atan(b/h);        #  tangent  of  tilt  angle  between \n",
    "# two  tilt  boundaries  of  Cu,  radian\n",
    "\n",
    "\n",
    "\n",
    "#Result\n",
    "\n",
    "print\"\\nThe  tilt  angle  between  two  tilt  boundaries  of  Cu  = \"\n",
    "print round(tan_theta,5),\"radian\"  "
   ]
  },
  {
   "cell_type": "markdown",
   "metadata": {},
   "source": [
    "## Exa 5.22"
   ]
  },
  {
   "cell_type": "code",
   "execution_count": 22,
   "metadata": {
    "collapsed": false
   },
   "outputs": [
    {
     "name": "stdout",
     "output_type": "stream",
     "text": [
      "\n",
      "The tilt angle between two tilt boundaries of Cu =\n",
      "0.000133 radian\n"
     ]
    }
   ],
   "source": [
    "from __future__ import division\n",
    "import math\n",
    " # Python Code Ex5.22 Determining tilt angle from dislocation spacing\n",
    "# in the boundary of Cu: Page-188 (2010)\n",
    "\n",
    "#Variable declaration\n",
    "\n",
    "\n",
    "b = 0.4e-09;                         # Burger vector magnitude for fcc Cu, m\n",
    "h = 3.0e-06;#The vertical spacing between two neighbouring edge dislocations,m\n",
    "\n",
    "\n",
    "\n",
    "#Calculation\n",
    "\n",
    " # tangent of tilt angle between two tilt boundaries of Cu, radian\n",
    "tan_theta = math.atan(b/h);       \n",
    "\n",
    "\n",
    "#Result\n",
    "\n",
    "print\"\\nThe tilt angle between two tilt boundaries of Cu =\"\n",
    "print round((tan_theta*10**4),2)*10**-4,\"radian\"\n",
    " "
   ]
  }
 ],
 "metadata": {
  "kernelspec": {
   "display_name": "Python 2",
   "language": "python",
   "name": "python2"
  },
  "language_info": {
   "codemirror_mode": {
    "name": "ipython",
    "version": 2
   },
   "file_extension": ".py",
   "mimetype": "text/x-python",
   "name": "python",
   "nbconvert_exporter": "python",
   "pygments_lexer": "ipython2",
   "version": "2.7.6"
  }
 },
 "nbformat": 4,
 "nbformat_minor": 0
}
