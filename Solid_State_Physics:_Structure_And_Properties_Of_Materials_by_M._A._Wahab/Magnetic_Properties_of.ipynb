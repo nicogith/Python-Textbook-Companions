{
 "cells": [
  {
   "cell_type": "markdown",
   "metadata": {},
   "source": [
    "# Chapter 16: Magnetic Properties of Materials"
   ]
  },
  {
   "cell_type": "markdown",
   "metadata": {},
   "source": [
    "## Exa 16.1"
   ]
  },
  {
   "cell_type": "code",
   "execution_count": 2,
   "metadata": {
    "collapsed": false
   },
   "outputs": [
    {
     "name": "stdout",
     "output_type": "stream",
     "text": [
      "\n",
      "The magnetization of copper = -8.0  A/m\n",
      "\n",
      "The magnetic flux density of copper = 1.26 T\n"
     ]
    }
   ],
   "source": [
    "from __future__ import division\n",
    "import math\n",
    " # Python Code Ex16.1 Response of Cu to magnetic field: Page-503 (2010)\n",
    " \n",
    " \n",
    " \n",
    "#Variable declaration\n",
    "\n",
    " \n",
    "H = 1e+06; # Applied magnetic field in copper, A/m\n",
    "chi = -0.8e-05; # Magnetic susceptibility of copper\n",
    "mu_0 = 4*math.pi*1e-07; # Magnetic permeability of free space, henry/metre\n",
    "\n",
    "\n",
    "\n",
    "#Calculation\n",
    "\n",
    "M = chi*H; # Intesity of magnetization in copper, A/m\n",
    "B = mu_0*(H + M); # Magnetic flux density in copper, tesla\n",
    "\n",
    "\n",
    "#Result\n",
    "\n",
    "print\"\\nThe magnetization of copper =\",M,\" A/m\"\n",
    "print\"\\nThe magnetic flux density of copper =\",round(B,2),\"T\"\n",
    " "
   ]
  },
  {
   "cell_type": "markdown",
   "metadata": {},
   "source": [
    "## Exa 16.2"
   ]
  },
  {
   "cell_type": "code",
   "execution_count": 3,
   "metadata": {
    "collapsed": false
   },
   "outputs": [
    {
     "name": "stdout",
     "output_type": "stream",
     "text": [
      "\n",
      "The diamagnetic susceptibility of copper = \n",
      "-5e-06\n"
     ]
    }
   ],
   "source": [
    "from __future__ import division\n",
    "import math\n",
    " # Python Code Ex16.2 Diamagnetic susceptibility of copper: Page-512 (2010)\n",
    " \n",
    " \n",
    " \n",
    "  \n",
    "#Variable declaration\n",
    "\n",
    "\n",
    "e = 1.6e-019;                          # Charge on an electron, C\n",
    "m = 9.1e-031;                           # Mass of an electron, kg\n",
    "mu_0 = 4*math.pi*1e-07;   # Magnetic permeability of free space, henry/metre\n",
    "Z = 1;     # Number of electrons contributing to the magnetic moment\n",
    "r = 1e-010;                             # Radius of copper atom, m\n",
    "a = 3.608e-010;                         # Lattice parameter of copper, m\n",
    " # For FCC lattice of Cu, there are 4 atoms per unit cell\n",
    "n = 4;                                  # Number of atoms per unit cell\n",
    "\n",
    "\n",
    "\n",
    "#Calculation\n",
    "\n",
    "N = n/a**3;        # Number of electrons per unit volume, per metre cube\n",
    "chi_dia = -mu_0*Z*e**2*N*r**2/(6*m); # Diamagnetic susceptibility of copper\n",
    "\n",
    "\n",
    "#Result\n",
    " \n",
    "print\"\\nThe diamagnetic susceptibility of copper = \"\n",
    "print round(( chi_dia*10**6))*10**-6,"
   ]
  },
  {
   "cell_type": "markdown",
   "metadata": {},
   "source": [
    "## Exa 16.3"
   ]
  },
  {
   "cell_type": "code",
   "execution_count": 4,
   "metadata": {
    "collapsed": false
   },
   "outputs": [
    {
     "name": "stdout",
     "output_type": "stream",
     "text": [
      "\n",
      "The magentic induction of paramagnetic sample =\n",
      "89.32  weber per metre square\n"
     ]
    }
   ],
   "source": [
    "from __future__ import division\n",
    "import math\n",
    "#Python Code Ex16.3 Calculating magnetic induction from \n",
    "#orientational energy equivalent of thermal energy: Page-514 (2010)\n",
    "\n",
    "\n",
    "\n",
    " \n",
    "#Variable declaration\n",
    "\n",
    "\n",
    "k = 1.38e-023;             # Boltzmann constant, joule per mole per kelvin\n",
    "mu_B = 9.27e-024;                # Bohr's magneton, joule per tesla\n",
    "T = 300;                                # Thermal energy of specimen, joule\n",
    "\n",
    "\n",
    "#Calculation\n",
    "\n",
    "mu_m = 5*mu_B; # Magnetic moment of paramagnetic sample, joule per tesla\n",
    " # At equilibrium, mu_m*B = k*T, solving for B\n",
    " # Magentic induction of paramagnetic sample, weber per metre square\n",
    "B = k*T/mu_m;                          \n",
    "\n",
    "\n",
    "#Result\n",
    "\n",
    "print\"\\nThe magentic induction of paramagnetic sample =\"\n",
    "print round(B,2),\" weber per metre square\"\n",
    " "
   ]
  },
  {
   "cell_type": "markdown",
   "metadata": {},
   "source": [
    "## Exa 16.4"
   ]
  },
  {
   "cell_type": "code",
   "execution_count": 5,
   "metadata": {
    "collapsed": false
   },
   "outputs": [
    {
     "name": "stdout",
     "output_type": "stream",
     "text": [
      "\n",
      "The paramagnetic susceptibility of salt at room temperature = \n",
      "8.69e-05\n",
      "\n",
      "The intensity of magnetization of salt = 86.95  A/m\n"
     ]
    }
   ],
   "source": [
    "from __future__ import division\n",
    "import math\n",
    " # Python Code Ex16.4 Behaviour of paramagnetic salt when placed \n",
    " #in uniform magnetic field: Page-514 (2010)\n",
    " \n",
    " \n",
    "  \n",
    "#Variable declaration\n",
    "\n",
    "\n",
    "k = 1.38e-023; # Boltzmann constant, joule per mole per kelvin\n",
    "T = 300; # Thermal energy of specimen, joule\n",
    "mu_B = 9.27e-024; # Bohr's magneton, ampere per metre square\n",
    "mu_0 = 4*math.pi*1e-07; # Magnetic permeability of free space, henry per metre\n",
    "N = 1e+28;#Concentration of paramagnetic ions in paramagnetic salt,per metre cube\n",
    "mu_m = mu_B;\n",
    "H = 1e+06; # Applied magnetic field, A/m\n",
    "\n",
    "\n",
    "\n",
    "\n",
    "#Calculatin\n",
    "\n",
    "chi = mu_0*N*mu_m**2/(3*k*T);#Paramagnetic susceptibility of salt at room temp.\n",
    "M = chi*H; # Intensity of magnetization at room temperature, A/m\n",
    "\n",
    "\n",
    "\n",
    "#Result\n",
    "\n",
    "print\"\\nThe paramagnetic susceptibility of salt at room temperature = \"\n",
    "print round(( chi*10**5),2)*10**-5\n",
    "print\"\\nThe intensity of magnetization of salt =\",round(M,2),\" A/m\""
   ]
  }
 ],
 "metadata": {
  "kernelspec": {
   "display_name": "Python 2",
   "language": "python",
   "name": "python2"
  },
  "language_info": {
   "codemirror_mode": {
    "name": "ipython",
    "version": 2
   },
   "file_extension": ".py",
   "mimetype": "text/x-python",
   "name": "python",
   "nbconvert_exporter": "python",
   "pygments_lexer": "ipython2",
   "version": "2.7.6"
  }
 },
 "nbformat": 4,
 "nbformat_minor": 0
}
