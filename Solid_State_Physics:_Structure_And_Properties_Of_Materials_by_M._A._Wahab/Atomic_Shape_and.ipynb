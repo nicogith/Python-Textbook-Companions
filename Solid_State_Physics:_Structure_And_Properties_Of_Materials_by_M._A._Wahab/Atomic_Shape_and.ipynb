{
 "cells": [
  {
   "cell_type": "markdown",
   "metadata": {},
   "source": [
    "# Chapter 4: Atomic Shape and Size"
   ]
  },
  {
   "cell_type": "markdown",
   "metadata": {},
   "source": [
    "## Exa 4.1"
   ]
  },
  {
   "cell_type": "code",
   "execution_count": 1,
   "metadata": {
    "collapsed": false
   },
   "outputs": [
    {
     "name": "stdout",
     "output_type": "stream",
     "text": [
      "The radius of first Bohr orbit, in angstrom, is : \n",
      "0.53\n"
     ]
    }
   ],
   "source": [
    "from __future__ import division\n",
    "import math\n",
    " # Python Code Ex4.1 Bohr's orbit for the hydrogen atom: Page-126 (2010)\n",
    " \n",
    "#Variable declaration \n",
    " \n",
    "n = 1;                            # The ground state orbit of hydrogen atom\n",
    "Z = 1;                                  # The atomic number of hydrogen\n",
    "h = 6.626*10**-34;                          # Plank's constant, Js\n",
    " # Absolute electrical permittivity of free space,\n",
    "# coulomb square per newton per metre square\n",
    "eps_0 = 8.85*10**-12; \n",
    "e = 1.602*10**-19;                          # Electronic charge, C\n",
    "m = 9.1*10**-31;                            # Electronic mass, kg\n",
    "\n",
    "#Calculation\n",
    "\n",
    "  # Radius of first Bohr's orbit (Bohr radius), m\n",
    "r_B = (n**2*h**2*eps_0)/(math.pi*m*Z*e**2);  \n",
    "\n",
    "\n",
    "#Result\n",
    "\n",
    "print \"The radius of first Bohr orbit, in angstrom, is : \"\n",
    "print round(r_B/(1*10**-10),2)"
   ]
  },
  {
   "cell_type": "markdown",
   "metadata": {},
   "source": [
    "## Exa 4.2"
   ]
  },
  {
   "cell_type": "code",
   "execution_count": 2,
   "metadata": {
    "collapsed": false
   },
   "outputs": [
    {
     "name": "stdout",
     "output_type": "stream",
     "text": [
      "\n",
      "The First Ionization Potential is : -13.6 eV\n",
      "\n",
      "The Second Ionization Potential is : -3.4 eV\n",
      "\n",
      "The Third Ionization Potential is : -1.51 eV\n"
     ]
    }
   ],
   "source": [
    "from __future__ import division\n",
    "import math\n",
    " # Python Code Ex4.2 Ionization potentials of hydrogen atom: Page-126 (2010)\n",
    " \n",
    "#Variable declaration \n",
    " \n",
    "Z = 1;                                 # The atomic number of hydrogen\n",
    "h = 6.626*10**-34;            # Plank's constant, Js\n",
    " # Absolute electrical permittivity of free space, \n",
    " #coulomb square per newton per metre square\n",
    "eps_0 = 8.85*10**-12;\n",
    "e = 1.602*10**-19;                          # Electronic charge, C\n",
    "m = 9.1*10**-31;\n",
    "E=[0]                            # Electronic mass, kg\n",
    "\n",
    "#Calculations\n",
    "\n",
    "# Initialize three potentials to 0 value in a vector\n",
    "for n in range(1,4):\n",
    "  if n==1:\n",
    "    state = \"First\"\n",
    "  if n==2:\n",
    "    state = \"Second\"\n",
    "  if n==3:\n",
    "    state = \"Third\"\n",
    "  # Energy of nth bohr orbit, eV\n",
    "  E.append(-(m*Z**2*e**4)/(8*eps_0**2*n**2*h**2*e));\n",
    "  \n",
    "#Results\n",
    "  \n",
    "  print \"\\nThe\",state,\"Ionization Potential is :\", round(E[n],2),\"eV\" \n"
   ]
  },
  {
   "cell_type": "markdown",
   "metadata": {},
   "source": [
    "## Exa 4.3"
   ]
  },
  {
   "cell_type": "code",
   "execution_count": 3,
   "metadata": {
    "collapsed": false
   },
   "outputs": [
    {
     "name": "stdout",
     "output_type": "stream",
     "text": [
      "Radius of sodium ion, in angstrom, is : 0.94\n",
      "Radius of fluorine ion, in angstrom, is : 1.37\n",
      "Constant determined by quantum number is :  6.11\n",
      "Radius of oxygen, in angstrom, is :  1.76\n"
     ]
    }
   ],
   "source": [
    "from __future__ import division\n",
    "import math\n",
    " # Python Code Ex4.3 Univalent radii of ions: Page-130 (2010)\n",
    " \n",
    " \n",
    "#Variable declaration \n",
    " \n",
    "S = 4.52;         # Screening constant for neon like configurations\n",
    "# A constant determined by the quantum number, m; \n",
    "#for simplicity it can be assumed as unity\n",
    "Cn = 1; \n",
    "Z_Na = 11;                              # Atomic number of sodium\n",
    "Z_F = 9;                                # Atomic number of fluorine\n",
    "Z_O = 8;                                # Atomic number of oxygen\n",
    "\n",
    "\n",
    "# Calculations\n",
    "\n",
    "r_Na = Cn/(Z_Na - S);                   # Radius of sodium ion, m\n",
    "r_F = Cn/(Z_F - S);                     # Radius of fluorine ion, m\n",
    "r_ratio = r_Na/r_F;                     # Radius ratio\n",
    "r_Na = r_F*r_ratio;    # Calculating radius of sodium ion from r_ratio, m\n",
    " # Given that r_Na + r_F = 2.31D-10, \n",
    " # or r_Na + r_Na/0.69 = 2.31D-10, \n",
    " # or r_Na(1 + 1/0.69) = 2.31D-10, solving for r_Na\n",
    "r_Na = 2.31*10**-10/(1+1/0.69);     # Calculating radius of sodium, m\n",
    "r_F = 2.31*10**-10 - r_Na;     # Calculating radius of fluorine from r_Na, m\n",
    "Cn = r_Na*(Z_Na - S);                   # Calculating Cn, m\n",
    "r_O = Cn/(Z_O - S);                     # Radius of oxygen, m\n",
    "\n",
    "\n",
    " #Results\n",
    " \n",
    "print \"Radius of sodium ion, in angstrom, is :\",round(r_Na/(1*10**-10),2)\n",
    "print \"Radius of fluorine ion, in angstrom, is :\",round(r_F/(1*10**-10),2)\n",
    "print \"Constant determined by quantum number is : \",round(Cn/(1*10**-10),2)\n",
    "print \"Radius of oxygen, in angstrom, is : \",round(r_O/(1*10**-10),2)\n",
    " "
   ]
  },
  {
   "cell_type": "markdown",
   "metadata": {},
   "source": [
    "## Exa 4.4"
   ]
  },
  {
   "cell_type": "code",
   "execution_count": 4,
   "metadata": {
    "collapsed": false
   },
   "outputs": [
    {
     "name": "stdout",
     "output_type": "stream",
     "text": [
      "The radius of Si4+ ion, in angstrom, is :  0.14\n"
     ]
    }
   ],
   "source": [
    "from __future__ import division\n",
    "import math\n",
    " # Python Code Ex4.4 Ionic Radius of Si ions in silicon dioxide: Page-131(2010)\n",
    " \n",
    "#Variable declaration \n",
    " \n",
    "a = 7.12*10**-10;              #  Lattice parameter of the crystal. m\n",
    "d = (3*a**2/16)**0.5;      # Si-Si distance from (0,0,0) to (1/4,1/4,1/4) \n",
    "RO = 1.40*10**-10;                   # Radius of oxygen, m\n",
    "\n",
    "#Calculations\n",
    "\n",
    "#Distance of oxygen ions between the two Si ions is 2*RSi+2*RO = d,\n",
    "RSi = (d - 2*RO)/2;                 # Radius of silicon ion, m\n",
    "\n",
    "#Results\n",
    "\n",
    "print \"The radius of Si4+ ion, in angstrom, is : \",round(RSi/(1*10**-10),2)"
   ]
  },
  {
   "cell_type": "markdown",
   "metadata": {},
   "source": [
    "## Exa 4.5"
   ]
  },
  {
   "cell_type": "code",
   "execution_count": 5,
   "metadata": {
    "collapsed": false
   },
   "outputs": [
    {
     "name": "stdout",
     "output_type": "stream",
     "text": [
      "The radius of cation occupying octahedral position \n",
      "in an M+X- ionic solid, in angstrom, is :  1.03\n"
     ]
    }
   ],
   "source": [
    "from __future__ import division\n",
    "import math\n",
    "#Python Code Ex4.5 Ionic Radius occupying an octahedral position:Page-138(2010)\n",
    "\n",
    "#Variable declaration\n",
    "\n",
    "R_ratio = 0.414;#Radius ratio for an octahedral void in am M+X- ionic lattice\n",
    "R_x = 2.5*10**-10;              # Critical radius of X- anion, m\n",
    "\n",
    "#Calculation\n",
    "\n",
    "R_m = R_x*0.414;            # Radius of M+ cation, m\n",
    "\n",
    "#Result\n",
    "\n",
    "print \"The radius of cation occupying octahedral position \"\n",
    "print\"in an M+X- ionic solid, in angstrom, is : \",round(R_m/(1*10**-10),2)\n",
    " "
   ]
  },
  {
   "cell_type": "markdown",
   "metadata": {},
   "source": [
    "## Exa 4.6"
   ]
  },
  {
   "cell_type": "code",
   "execution_count": 6,
   "metadata": {
    "collapsed": false
   },
   "outputs": [
    {
     "name": "stdout",
     "output_type": "stream",
     "text": [
      "\n",
      "The percentage ionic character in HF molecule is 43.03 percent\n"
     ]
    }
   ],
   "source": [
    "from __future__ import division\n",
    "import math\n",
    "#Python CodeEx4.7Percentage ionic character of covalent molecule:Page-142(2010)\n",
    "\n",
    "#Variable declaration\n",
    "\n",
    "x_A = 4.0;                             # Electronegativity of fluorine\n",
    "x_B = 2.1;                              # Electronegativity of hydrogen\n",
    "\n",
    "#Calculation\n",
    "\n",
    " #Percentage ionic character of the covalent bond in HF molecule\n",
    "P = 16*(x_A - x_B) + 3.5*(x_A - x_B)**2;\n",
    "\n",
    "\n",
    "# Result\n",
    "\n",
    "print\"\\nThe percentage ionic character in HF molecule is\",round(P,2),\"percent\""
   ]
  },
  {
   "cell_type": "markdown",
   "metadata": {},
   "source": [
    "## Exa 4.7"
   ]
  },
  {
   "cell_type": "code",
   "execution_count": 7,
   "metadata": {
    "collapsed": false
   },
   "outputs": [
    {
     "name": "stdout",
     "output_type": "stream",
     "text": [
      "\n",
      "The  metallic  radius  of  iron  atom  is:\n",
      "1.22 angstrom\n"
     ]
    }
   ],
   "source": [
    "from __future__ import division\n",
    "import math\n",
    "#Python Code Ex4.8 Calculating metallic radius \n",
    "#from unit cell dimension:Page-146  (2010)\n",
    "\n",
    "#Variable declaration\n",
    "\n",
    "a  =  2.81*10**-10;#  Unit  cell  dimension  of  bcc  structure  of  iron,  m\n",
    "\n",
    "# Calculations\n",
    "\n",
    " #  For  bcc  structure  we  have\n",
    " #                sqrt(3)*a  =  4*R,  solving  for  R\n",
    "R  = (3)**0.5/4*a;     #  Metallic  radius  of  iron  atom,  m\n",
    "\n",
    "# Results\n",
    "\n",
    "print\"\\nThe  metallic  radius  of  iron  atom  is:\"\n",
    "print round(R/(1*10**-10),2),\"angstrom\""
   ]
  },
  {
   "cell_type": "markdown",
   "metadata": {},
   "source": [
    "## Exa 4.8"
   ]
  },
  {
   "cell_type": "code",
   "execution_count": 8,
   "metadata": {
    "collapsed": false
   },
   "outputs": [
    {
     "name": "stdout",
     "output_type": "stream",
     "text": [
      "\n",
      "The metallic radius of gold atom, in angstrom, is :\n",
      "1.44\n",
      "\n",
      "The metallic radius of platinum atom, in angstrom, is :\n",
      "1.38\n"
     ]
    }
   ],
   "source": [
    "from __future__ import division\n",
    "import math\n",
    " # Python Code Ex4.9 \n",
    " #Calculating metallic radii from unit cell dimensions: Page-146 (2010)\n",
    " \n",
    "#Variable declaration \n",
    " \n",
    "a_Au = 4.08e-10;           # Unit cell dimension of fcc structure of gold, m\n",
    "a_Pt = 3.91e-10;        # Unit cell dimension of fcc structure of platinum, m\n",
    "\n",
    "\n",
    "# Calculations\n",
    "\n",
    " # For fcc structure we have\n",
    " #        sqrt(2)*a = 4*R, solving for R\n",
    "R_Au = (2)**0.5/4*a_Au;                 # Metallic radius of gold atom, m\n",
    "R_Pt = (2)**0.5/4*a_Pt;                  # Metallic radius of gold atom, m\n",
    "\n",
    "\n",
    "\n",
    "#Results\n",
    "\n",
    "print\"\\nThe metallic radius of gold atom, in angstrom, is :\"\n",
    "print round(R_Au/(1*10**-10),2);\n",
    "print\"\\nThe metallic radius of platinum atom, in angstrom, is :\"\n",
    "print round(R_Pt/(1*10**-10),2);"
   ]
  },
  {
   "cell_type": "markdown",
   "metadata": {},
   "source": [
    "## Exa 4.9"
   ]
  },
  {
   "cell_type": "code",
   "execution_count": 9,
   "metadata": {
    "collapsed": false
   },
   "outputs": [
    {
     "name": "stdout",
     "output_type": "stream",
     "text": [
      "\n",
      "The unit cell dimension of aluminium, is:\n",
      "4.05 angstrom\n",
      "\n",
      "The metallic diametre of aluminium, is:\n",
      "2.86 angstrom\n"
     ]
    }
   ],
   "source": [
    "from __future__ import division\n",
    "import math\n",
    " # Python Code Ex4.10 Calculating metallic diameter and\n",
    "# unit cell dimension of aluminium: Page-146 (2010)\n",
    "\n",
    "#Variable declaration\n",
    "\n",
    "Z_Al = 13;                             # Atomic number of aluminium\n",
    "A_Al = 26.98;                           # Atomic mass of aluminium, g\n",
    "d_Al = 2700*10**3;               # Density of aluminium, g per metre cube\n",
    "n = 4;                 # number of atoms in the fcc structure of aluminium\n",
    "N = 6.023*10**+23;                    # Avogadro's number\n",
    "\n",
    "# Calculations\n",
    "\n",
    " # We have number of atoms per fcc unit cell given as \n",
    " # n = (V*d_Al*N)/A_Al, solving for V\n",
    " # V = (n*A_Al)/(d_Al*N), V is the volume of the unit cell\n",
    " # or a**3 = (n*A_Al)/(d_Al*N), solving for a \n",
    "a = ((n*A_Al)/(d_Al*N))**(1/3);          # unit cell parameter of aluminium\n",
    " # For an fcc structure we have \n",
    " # sqrt(2)*a = 4*R = 2*D, solving for D\n",
    "D = a/(2)**0.5;      # metallic diameter of aluminium having fcc structure\n",
    "\n",
    "\n",
    "#Result\n",
    "\n",
    "print\"\\nThe unit cell dimension of aluminium, is:\"\n",
    "print round(a/(1*10**-10),2),\"angstrom\" \n",
    "print\"\\nThe metallic diametre of aluminium, is:\"\n",
    "print round(D/(1*10**-10),2),\"angstrom\""
   ]
  }
 ],
 "metadata": {
  "kernelspec": {
   "display_name": "Python 2",
   "language": "python",
   "name": "python2"
  },
  "language_info": {
   "codemirror_mode": {
    "name": "ipython",
    "version": 2
   },
   "file_extension": ".py",
   "mimetype": "text/x-python",
   "name": "python",
   "nbconvert_exporter": "python",
   "pygments_lexer": "ipython2",
   "version": "2.7.6"
  }
 },
 "nbformat": 4,
 "nbformat_minor": 0
}
