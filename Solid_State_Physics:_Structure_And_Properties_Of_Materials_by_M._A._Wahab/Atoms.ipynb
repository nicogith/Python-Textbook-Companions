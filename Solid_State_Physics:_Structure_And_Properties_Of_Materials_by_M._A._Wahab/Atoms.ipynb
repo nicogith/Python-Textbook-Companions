{
 "cells": [
  {
   "cell_type": "markdown",
   "metadata": {},
   "source": [
    "# Chapter 1: Atoms in Crystals"
   ]
  },
  {
   "cell_type": "markdown",
   "metadata": {},
   "source": [
    "## Exa 1.1"
   ]
  },
  {
   "cell_type": "code",
   "execution_count": 1,
   "metadata": {
    "collapsed": false
   },
   "outputs": [
    {
     "name": "stdout",
     "output_type": "stream",
     "text": [
      "The number of edges of the quartz crystal is :  30\n"
     ]
    }
   ],
   "source": [
    "from __future__ import division\n",
    "import math\n",
    " #  Python  Code  Ex1.1  Determine the number of edges in a quartz crystal;\n",
    " #if there are 18 faces and 14 angles in it.:  Page-2  (2010)\n",
    " \n",
    "# Variable declaration \n",
    " \n",
    "f  =  18;            #  Number  of  faces  of  the  quartz  crystal\n",
    "c  =  14;          #  Number  of  angles  in  the  quratz  crystal\n",
    "\n",
    "\n",
    "# Calculations\n",
    "\n",
    " #  The  relationship  amongst  the  crystal  elements  can  be  \n",
    " #  expressed  by  the  following  formula:\n",
    " #        f  +  c  =  e  +  2;\n",
    " #  Solving  for  e  \n",
    "e  =  f  +  c  -  2;\n",
    "\n",
    "\n",
    "#  Result \n",
    "\n",
    "print \"The number of edges of the quartz crystal is : \",e\n",
    "\n",
    "  \n",
    " "
   ]
  },
  {
   "cell_type": "markdown",
   "metadata": {},
   "source": [
    "## Exa 1.2"
   ]
  },
  {
   "cell_type": "code",
   "execution_count": 4,
   "metadata": {
    "collapsed": false
   },
   "outputs": [
    {
     "name": "stdout",
     "output_type": "stream",
     "text": [
      "If  is  the  body  centered  position  of  a  cubic  unit  cell\n",
      "Defined  by  the  primitive  translation  vectors  a,b and c_bar. 13.5\n",
      "\n",
      "The volume  of  conventional  unit  cell (angstrom  cube): 27\n",
      "\n",
      "The volume  of primitive unit cell (angstrom  cube) : 13.5\n"
     ]
    }
   ],
   "source": [
    "from __future__ import division\n",
    "import math\n",
    " #  Python  Code  Ex1.2  Primitive  unit  cell:  Page-4  (2010)\n",
    " \n",
    " #Variable declaration\n",
    " \n",
    "#  Lattice translation  vectors  along  X  and  Y  direction,  angstrom \n",
    "a  =  3\n",
    "b  =  3\n",
    "c_bar  =  3; #  Assumed  translation  vector  along  Z  direction,  angstrom\n",
    "\n",
    "# Calculation\n",
    "\n",
    "c  =  1.5*(a+b+c_bar);#Real translation vector along Z  direction,  angstrom\n",
    "V_con  =  a**3;      #  Volume  of  conventional  unit  cell,  metre  cube\n",
    "V_primitive  =  1/2*V_con; #  Volume  of  primitive  unit  cell,  metre  cube\n",
    "\n",
    "\n",
    "#Result\n",
    "\n",
    "print \"If  is  the  body  centered  position  of  a  cubic  unit  cell\" \n",
    "print\"Defined  by  the  primitive  translation  vectors  a,b and c_bar.\",  c\n",
    "\n",
    "print \"\\nThe volume  of  conventional  unit  cell (angstrom  cube):\",V_con  \n",
    "print \"\\nThe volume  of primitive unit cell (angstrom  cube) :\",  V_primitive\n",
    "\n",
    " "
   ]
  },
  {
   "cell_type": "markdown",
   "metadata": {},
   "source": [
    "## Exa 1.3"
   ]
  },
  {
   "cell_type": "code",
   "execution_count": 5,
   "metadata": {
    "collapsed": false
   },
   "outputs": [
    {
     "name": "stdout",
     "output_type": "stream",
     "text": [
      "Number of atoms per unit cell for an fcc lattice of copper crystal is\n",
      "4.0\n"
     ]
    }
   ],
   "source": [
    "from __future__ import division\n",
    "import math\n",
    " #  Python  Code  Ex1.3  Calculate the number  of  atoms  per  unit  cell\n",
    "# for an fcc lattice of copper crystal.  Page-9  (2010)\n",
    "\n",
    "# Variable declaration \n",
    "\n",
    "a  =  3.60*10**(-10);                        #  Lattice  parameter,  m:\n",
    "M  =  63.6;                     #  Atomic  weight,  gram  per  mole\n",
    "d  =  8960*10**(+03)     #  Density  of  copper,  g  per  metre  cube\n",
    "N  =  6.023*10**(+23);                   #  Avogadro's  No.\n",
    "\n",
    "\n",
    "#Calculations\n",
    "\n",
    " #  Volume  of  the  unit  cell  is  given  by\n",
    " #  a**3  =  M*n/(N*d)\n",
    " #  Solving  for  n\n",
    "n  =  a**3*d*N/M;      #  Number  of  lattice  points  per  unit  cell\n",
    "\n",
    "\n",
    "#  Result\n",
    "\n",
    "print\"Number of atoms per unit cell for an fcc lattice of copper crystal is\"\n",
    "print round(n)\n",
    "\n",
    "   \n",
    " "
   ]
  },
  {
   "cell_type": "markdown",
   "metadata": {},
   "source": [
    "## Exa 1.4"
   ]
  },
  {
   "cell_type": "code",
   "execution_count": 6,
   "metadata": {
    "collapsed": false
   },
   "outputs": [
    {
     "name": "stdout",
     "output_type": "stream",
     "text": [
      "Lattice constant for the rock salt(NaCl) crystal,in angstrom,is\n",
      "5.63\n"
     ]
    }
   ],
   "source": [
    "from __future__ import division\n",
    "import math\n",
    " #Python CodeEx1.4 Calculate the lattice constant for a rock salt crystal\n",
    " #(density=2180 kg per cubic meter)assuming that it has fcc lattice.\n",
    " #Mol. wt of NaCl=58.5:  Page-9  (2010)\n",
    " \n",
    "# Variable declaration \n",
    " \n",
    "M  =  58.5;           #  Atomic  weight  of  NaCl,  gram  per  mole\n",
    "d  =  2180*10**03;   #  Density  of  rock  salt,  per  metre  cube\n",
    "n  =  4; #No. of atoms per unit cell for an  fcc  lattice  of  NaCl  crystal\n",
    "N  =  6.023*10**23;                          #  Avogadro's  No.\n",
    "\n",
    "#Calculations\n",
    "\n",
    " #  Volume  of  the  unit  cell  is  given  by\n",
    " #  a**3  =  M*n/(N*d)\n",
    " #  Solving  for  a\n",
    "a  =  (n*M/(d*N))**(1/3);  # Lattice  constant  of  unit  cell  of  NaCl\n",
    "\n",
    "\n",
    "#  Result\n",
    "\n",
    "print \"Lattice constant for the rock salt(NaCl) crystal,in angstrom,is\"\n",
    "print round(a/10**(-10),2)\n",
    "\n",
    "   \n",
    " "
   ]
  },
  {
   "cell_type": "markdown",
   "metadata": {},
   "source": [
    "## Exa 1.5"
   ]
  },
  {
   "cell_type": "code",
   "execution_count": 7,
   "metadata": {
    "collapsed": false
   },
   "outputs": [
    {
     "name": "stdout",
     "output_type": "stream",
     "text": [
      "Density of diamond cubic unit cell,in kg per metre cube, is: 3503.0\n"
     ]
    }
   ],
   "source": [
    "from __future__ import division\n",
    "import math\n",
    " #  Python  Code  Ex  1.5 Calculate the Density  of  diamond:  Page-9  (2010)\n",
    " \n",
    " \n",
    "# Variable declaration \n",
    " \n",
    "a  =  3.57*10**-10;       #  Lattice  parameter  of  a  diamond  crystal\n",
    "M  =  12*10**-03;      #  Atomic  weight  of  diamond,  kg  per  mole\n",
    "n1  =  8;   #  No.  of  corner  atoms  in  the  diamond  cubic  unit  cell\n",
    "n2  =  6; #No. of face centered  atoms  in  the  diamond  cubic  unit  cell\n",
    "n3  =  4;         #  No.  of  atoms  completely  within  the  unit  cell\n",
    "N  =  6.023*10**+23;                                #  Avogadro's  No.\n",
    "\n",
    "\n",
    "# Calculations\n",
    "\n",
    "n  =  1/8*n1+1/2*n2+1*n3;#No.of atoms per unit cell for an fcc lattice of NaCl\n",
    " #  Volume  of  the  unit  cell  is  given  by\n",
    " #  a**3  =  M*n/(N*d)\n",
    " #  Solving  for  d\n",
    "d  =  M*n/(N*a**3);          #  Density  of  diamond  cubic  unit  cell\n",
    "\n",
    "\n",
    " #  Result \n",
    " \n",
    "print \"Density of diamond cubic unit cell,in kg per metre cube, is:\",round(d)\n",
    "\n",
    "\n",
    " "
   ]
  },
  {
   "cell_type": "markdown",
   "metadata": {},
   "source": [
    "## Exa 1.6"
   ]
  },
  {
   "cell_type": "code",
   "execution_count": 8,
   "metadata": {
    "collapsed": false
   },
   "outputs": [
    {
     "name": "stdout",
     "output_type": "stream",
     "text": [
      "Lattice parameter of aluminium, in angstrom, is: 4.05\n",
      "Diameter of aluminium atom, in angstrom, is :  2.86\n"
     ]
    }
   ],
   "source": [
    "from __future__ import division\n",
    "import math\n",
    "#Python Code Ex1.6 Aluminium has an fcc structure.\n",
    "#Its density is2.7x10^3 kg per metre cube.\n",
    "# Calculating  Unit  cell  dimensions and the atomic diameter:  Page-9  (2010)\n",
    "\n",
    "# Variable declaration \n",
    "\n",
    "d  =  2.7*10**+03;#Density of fcc structure of aluminium,kg  per  metre  cube\n",
    "M  =  26.98*10**-03;#  Atomic  weight  of  aluminium,  kg  per  mole\n",
    "n  =  4; #  No. of atoms per unit cell of fcc lattice structure  of  aluminium\n",
    "N  =  6.023*10**+23;              #  Avogadro's  No.\n",
    "\n",
    "#Calculations\n",
    "\n",
    " #  Volume  of  the  unit  cell  is  given  by\n",
    " #  a**3  =  M*n/(N*d)\n",
    " #  Solving  for  a\n",
    "a  =  ((M*n)/(N*d))**(1/3); #  Lattice  parameter  of  alumitnium  unit  cell\n",
    " #  For  an  fcc  cryatal  lattice,  \n",
    " #  2**(1/2)  =  4R  =  2D\n",
    " #  Solving  for  D\n",
    "D  =  (a/2**(1/2))        #  Diameter  of  aluminium  atom\n",
    "\n",
    "\n",
    "#  Result\n",
    "\n",
    "print\"Lattice parameter of aluminium, in angstrom, is:\",round(a/(1*10**-10),2)\n",
    "print\"Diameter of aluminium atom, in angstrom, is : \",round(D/(1*10**-10),2)\n",
    "\n",
    "   "
   ]
  },
  {
   "cell_type": "markdown",
   "metadata": {},
   "source": [
    "## Exa 1.17"
   ]
  },
  {
   "cell_type": "code",
   "execution_count": 9,
   "metadata": {
    "collapsed": false
   },
   "outputs": [
    {
     "name": "stdout",
     "output_type": "stream",
     "text": [
      "\n",
      "The  angle  between [ 1 1 1 ] and [ 0 0 1 ] directions\n",
      "in  the  cubic  crystal,in  degrees,  is  : 54.74\n"
     ]
    }
   ],
   "source": [
    "from __future__ import division\n",
    "import math\n",
    "#Python Code Ex1.17 Calculate the Angle  between [111] and [001] \n",
    "# crystal  directions in a cubic crystal:  Page-23  (2010)\n",
    "\n",
    "#Variable declaration\n",
    "\n",
    "h1  =  1;k1  =  1;l1  =  1;    #  Miller  indices  of  first  set  of  planes\n",
    "h2  =  0;k2  =  0;l2  =  1; #  Miller  indices  of  second  set  of  planes\n",
    "\n",
    "\n",
    "# Calculations\n",
    "\n",
    " #  We  know  that\n",
    "#cos(theta)=\n",
    "#(h1*h2+k1*k2+l1*l2)/(sqrt(h1**2+k1**2+l1**2)*sqrt(h1**2+k1**2+l1**2))\n",
    " #  Solving  for  theta\n",
    "a=(h1*h2+k1*k2+l1*l2)/((h1**2+k1**2+l1**2)**0.5*(h2**2+k2**2+l2**2)**0.5)\n",
    "theta  =  math.acos(a);\n",
    "\n",
    "\n",
    "#Result\n",
    "\n",
    "print\"\\nThe  angle  between [\",h1,k1,l1,\"] and [\",h2,k2,l2,\"] directions\" \n",
    "print\"in  the  cubic  crystal,in  degrees,  is  :\",round(theta*180/math.pi,2)\n",
    "\n",
    " "
   ]
  },
  {
   "cell_type": "markdown",
   "metadata": {},
   "source": [
    "## Exa 1.18"
   ]
  },
  {
   "cell_type": "code",
   "execution_count": 10,
   "metadata": {
    "collapsed": false
   },
   "outputs": [
    {
     "name": "stdout",
     "output_type": "stream",
     "text": [
      "\n",
      "The angle between [ 1 1 1 ] and [ -1 -1 1 ] directions\n",
      " in the cubic crystal, in degrees,  is  : 109.47\n"
     ]
    }
   ],
   "source": [
    "from __future__ import division\n",
    "import math\n",
    "#Python Code Ex1.18 Angle between two directions of cubic crystal:Page-23(2010)\n",
    "\n",
    "#Variable declaration\n",
    "\n",
    "h1  =  1;  k1  =  1;  l1  =  1 #  Miller  indices  for  first  set  of  planes\n",
    "h2  =  -1;  k2  =  -1;  l2  =  1;#Miller indices  for  second  set  of  planes\n",
    "\n",
    "\n",
    "# Calculation\n",
    "\n",
    " #  We  know  that\n",
    "#cos(theta)=\n",
    "#(h1*h2+k1*k2+l1*l2)/(sqrt(h1**2+k1**2+l1**2)*sqrt(h2**2+k2**2+l2**2))\n",
    "#  Solving  for  theta\n",
    "a=(h1*h2+k1*k2+l1*l2)/((h1**2+k1**2+l1**2)**0.5*(h2**2+k2**2+l2**2)**0.5)\n",
    "theta=math.acos(a);\n",
    "\n",
    "\n",
    "#  Result\n",
    "\n",
    "print\"\\nThe angle between [\",h1,k1,l1,\"] and [\",h2,k2,l2,\"] directions\" \n",
    "print\" in the cubic crystal, in degrees,  is  :\",round(theta*180/math.pi,2) \n",
    "\n",
    "   \n",
    " \n"
   ]
  },
  {
   "cell_type": "markdown",
   "metadata": {},
   "source": [
    "## Exa 1.19"
   ]
  },
  {
   "cell_type": "code",
   "execution_count": 11,
   "metadata": {
    "collapsed": false
   },
   "outputs": [
    {
     "name": "stdout",
     "output_type": "stream",
     "text": [
      "\n",
      "The  required  miller  indices  are  :   3.0 2.0 1.0\n"
     ]
    }
   ],
   "source": [
    "from __future__ import division\n",
    "import math\n",
    "#Python Code Ex1.19 Miller indices  of  the  crystal  plane:  Page-25  (2010)\n",
    "\n",
    "#Variable declaration\n",
    "\n",
    "m  =  2;  n  =  3;  p  =  6; #Coefficients of  intercepts  along  three  axes\n",
    "\n",
    "#Calculation\n",
    "\n",
    "m_inv  =  1/m;                     #  Reciprocate  the  first  coefficient\n",
    "n_inv  =  1/n;                     #  Reciprocate  the  second  coefficient\n",
    "p_inv  =  1/p;                     #  Reciprocate  the  third  coefficient\n",
    "mul_fact  =  (m*n*p)/6  #  Find  l.c.m.  of  m,n  and  p\n",
    "m1  =  m_inv*mul_fact;             #  Clear  the  first  fraction\n",
    "m2  =  n_inv*mul_fact;              #  Clear  the  second  fraction\n",
    "m3  =  p_inv*mul_fact;                     #  Clear  the  third  fraction\n",
    "\n",
    "\n",
    " #  Result\n",
    " \n",
    "print\"\\nThe  required  miller  indices  are  :  \",  m1,m2,m3\n",
    "\n",
    "  "
   ]
  },
  {
   "cell_type": "markdown",
   "metadata": {},
   "source": [
    "## Exa 1.20"
   ]
  },
  {
   "cell_type": "code",
   "execution_count": 12,
   "metadata": {
    "collapsed": false
   },
   "outputs": [
    {
     "name": "stdout",
     "output_type": "stream",
     "text": [
      "\n",
      "The  required  miller  indices  are  :   0.0 1.0 4.0\n"
     ]
    }
   ],
   "source": [
    "from __future__ import division\n",
    "import math\n",
    " #  Python  Code  Ex  1.20  Indices  of  lattice  plane:  Page-25  (2010)\n",
    " \n",
    "# Variable declaration \n",
    " \n",
    "m  =  10000; #Coefficient of intercept along x-axis,\n",
    "n  =  2;                 #  Coefficient  of  intercept  along  y-axis\n",
    "p  =  1/2;                      #  Coefficient  of  intercept  along  z-axis\n",
    "\n",
    "# Calculations\n",
    "\n",
    "m_inv  =  1/m;                                  #  Reciprocate  m\n",
    "n_inv  =  1/n;                               #  Reciprocate  n\n",
    "p_inv  =  1/p;                           #  Reciprocate  p\n",
    "mul_fact  =  n;                   #  multiplicative  factor\n",
    "m1  =  m_inv*mul_fact;                 #  Clear  the  first  fraction\n",
    "m2  =  n_inv*mul_fact;                        #  Clear  the  second  fraction\n",
    "m3  =  p_inv*mul_fact;                     #  Clear  the  third  fraction\n",
    "\n",
    "#Results\n",
    "\n",
    "print\"\\nThe  required  miller  indices  are  :  \",  round(m1),m2,m3\n",
    "\n",
    " "
   ]
  },
  {
   "cell_type": "markdown",
   "metadata": {},
   "source": [
    "## Exa 1.21"
   ]
  },
  {
   "cell_type": "code",
   "execution_count": 13,
   "metadata": {
    "collapsed": false
   },
   "outputs": [
    {
     "name": "stdout",
     "output_type": "stream",
     "text": [
      "Length of the intercept along y-axis,in angstrom,is 1.23\n",
      "Length of the intercept along z-axis, in angstrom, is :  -3.94\n"
     ]
    }
   ],
   "source": [
    "from __future__ import division\n",
    "import math\n",
    " #  Python  Code  Ex  1.21  Length  of  the  intercepts:  Page-26  (2010)\n",
    " \n",
    "\n",
    "# Variable declaration \n",
    " \n",
    "a  =  1.21*10**-10;      #  Lattice  parameter  of  the  unit  cell,  m        \n",
    "b  =  1.84*10**-10;      #  Lattice  parameter  of  the  unit  cell,  m\n",
    "c  =  1.97*10**-10;      #  Lattice  parameter  of  the  unit  cell,  m\n",
    "p  =  1/2;               #  Reciprocal  of  miller  index  on  x-axis\n",
    "q  =  1/3;               #  Reciprocal  of  miller  index  on  y-axis\n",
    "r  =  1/(-1);            #  Reciprocal  of  miller  index  on  z-axis\n",
    "l1  =  1.21*10**-10; #  Actual  length  of  the  intercept  along  x-axis,  m\n",
    "\n",
    "#Calculation\n",
    "\n",
    "mul_fact  =  l1/(p*a);   #  Calculate  multiplication  factor\n",
    "l2  =  mul_fact*q*b;   #  Actual  length  of  the  interceptalong  y-axis,  m\n",
    "l3  =  mul_fact*r*c;  #  Actual  length  of  the  intercept  along  z-axis,  m\n",
    "\n",
    "\n",
    " #  Result \n",
    " \n",
    "print\"Length of the intercept along y-axis,in angstrom,is\",round(l2/10**-10,2)\n",
    "print\"Length of the intercept along z-axis, in angstrom, is : \",l3/10**-10\n",
    "\n",
    " \n",
    " "
   ]
  },
  {
   "cell_type": "markdown",
   "metadata": {},
   "source": [
    "## Exa 1.22"
   ]
  },
  {
   "cell_type": "code",
   "execution_count": 14,
   "metadata": {
    "collapsed": false
   },
   "outputs": [
    {
     "name": "stdout",
     "output_type": "stream",
     "text": [
      "The  required  miller  indices  of  the  plane  are  : 4.0 2.0 1.0\n"
     ]
    }
   ],
   "source": [
    "from __future__ import division\n",
    "import math\n",
    " # Python  Code  \n",
    "'''\n",
    "Ex  1.22  Determine the Miller  indices  of  lattice  plane that makes\n",
    " intercepts of 2,3,4,(in angstroms) on the\n",
    " coordinate axes of an orthorombic crystal with a:b:c=4:3:2 ,Page-26(2010)\n",
    "'''\n",
    "# Variable declaration \n",
    "\n",
    "a  =  4                      #  Lattice  parameter  of  the  unit  cell        \n",
    "b  =  3                      #  Lattice  parameter  of  the  unit  cell\n",
    "c  =  2                      #  Lattice  parameter  of  the  unit  cell\n",
    "l1  =  2                     #  Length  of  the  intercept  along  x-axis,  m\n",
    "l2  =  3                     #  Length  of  the  intercept  along  y-axis,  m\n",
    "l3  =  4                     #  Length  of  the  intercept  along  z-axis,  m\n",
    "\n",
    "\n",
    "# Calculation\n",
    "\n",
    "l  =  l1/a           #  Intercept  per  unit  translation  along  x-axis\n",
    "m  =  l2/b           #  Intercept  per  unit  translation  along  y-axis\n",
    "n  =  l3/c          #  Intercept  per  unit  translation  along  z-axis\n",
    "r1  =  1/l          #  Reciprocal  of  l\n",
    "r2  =  1/m          #  Reciprocal  of  m\n",
    "r3  =  1/n         #  Reciprocal  of  n\n",
    "m1  =  2*r1       #  miller  index  along  x-axis\n",
    "m2  =  2*r2        #  miller  index  along  y-axis\n",
    "m3  =  2*r3       #  miller  index  along  z-axis\n",
    "\n",
    "\n",
    "#  Result\n",
    " \n",
    "print\"The  required  miller  indices  of  the  plane  are  :\",  m1,  m2,  m3\n",
    "\n",
    "  \n",
    " "
   ]
  },
  {
   "cell_type": "markdown",
   "metadata": {},
   "source": [
    "## Exa 1.23"
   ]
  },
  {
   "cell_type": "code",
   "execution_count": 15,
   "metadata": {
    "collapsed": false
   },
   "outputs": [
    {
     "name": "stdout",
     "output_type": "stream",
     "text": [
      "The  required  miller  indices  of  the  plane  are  : 4.0 3.0 6.0\n"
     ]
    }
   ],
   "source": [
    "from __future__ import division\n",
    "import math\n",
    " #  Python  Code  Ex  1.23  Indices  of  tetragonal  lattice:  Page-26  (2010)\n",
    " #  For  a  tetragonal  system  we  have  a  =  b\n",
    " \n",
    " \n",
    "# Variable declaration  \n",
    " \n",
    "a  =  1;           #  Lattice  parameter  of  the  unit  cell  along  x-axis        \n",
    "b  =  1;           #  Lattice  parameter  of  the  unit  cell  along  y-axis\n",
    "c  =  1.5;        #  Lattice  parameter  of  the  unit  cell  along  z-axis\n",
    "l1  =  3;      #  Length  of  the  intercept  along  x-axis,  angstrom\n",
    "l2  =  4;      #  Length  of  the  intercept  along  y-axis,  angstrom\n",
    "l3  =  3;       #  Length  of  the  intercept  along  z-axis,  angstrom\n",
    "\n",
    "#Calculation\n",
    "\n",
    "l  =  l1/a;     #  Intercept  per  unit  translation  along  x-axis\n",
    "m  =  l2/b;    #  Intercept  per  unit  translation  along  y-axis\n",
    "n  =  l3/c;  #  Intercept  per  unit  translation  along  z-axis\n",
    "r1  =  1/l;        #  Reciprocal  of  l\n",
    "r2  =  1/m;       #  Reciprocal  of  m\n",
    "r3  =  1/n;       #  Reciprocal  of  n\n",
    "mul_fact  = (l*m*n)/2\n",
    "m1  =  mul_fact*r1;                  #  miller  index  along  x-axis\n",
    "m2  =  mul_fact*r2;                  #  miller  index  along  y-axis\n",
    "m3  =  mul_fact*r3;                 #  miller  index  along  z-axis\n",
    "\n",
    "\n",
    "#Result\n",
    "\n",
    "print \"The  required  miller  indices  of  the  plane  are  :\",  m1,  m2,  m3\n"
   ]
  },
  {
   "cell_type": "markdown",
   "metadata": {},
   "source": [
    "## Exa 1.24"
   ]
  },
  {
   "cell_type": "code",
   "execution_count": 16,
   "metadata": {
    "collapsed": false
   },
   "outputs": [
    {
     "name": "stdout",
     "output_type": "stream",
     "text": [
      "\n",
      "The Miller-Bravias indices corresponding to  \n",
      " the miller indices( 1 1 0 ), = ( 1 1 -2 0 )\n",
      "\n",
      "The Miller-Bravias indices  corresponding  to  \n",
      "the  miller  indices( 1 -1 0 ),= ( 1 -1 0 0 )\n",
      "\n",
      "The Miller-Bravias indices  corresponding  to  \n",
      "the  miller  indices ( 3 4 5 ),=( 3 4 -7 5 )\n",
      "\n",
      "The Miller-Bravias indices  corresponding  to \n",
      " the  miller  indices( 3 -4 5 ),=( 3 -4 1 5 )\n"
     ]
    }
   ],
   "source": [
    "from __future__ import division\n",
    "import math\n",
    " #Python Code Ex 1.24 Miller-Bravias indices for Miller indices:Page-29 (2010)\n",
    " \n",
    " #Function declaration and calculations\n",
    "def  f(h,k):\n",
    "    i  =  -(h  +  k);\n",
    "    return i\n",
    "    \n",
    "    \n",
    "# Variable declaration \n",
    "    \n",
    "h1  =  1;  k1  =  1;  l1  =  0  ;      #  First  set  of  Miller  indices\n",
    "h2  =  1;  k2  =  -1;  l2  =  0;      #  Second  set  of  miller  indices\n",
    "h3  =  3;  k3  =  4;  l3  =  5;      #  Third  set  of  miller  indices\n",
    "h4  =  3;  k4  =  -4;  l4  =  5;    #  Fourth  set  of  miller  indices\n",
    "\n",
    "#Result\n",
    "\n",
    "print\"\\nThe Miller-Bravias indices corresponding to  \" \n",
    "print\" the miller indices(\",h1,  k1,  l1,\"), = (\", h1,  k1,  f(h1,k1),  l1,\")\"   \n",
    "print\"\\nThe Miller-Bravias indices  corresponding  to  \"\n",
    "print \"the  miller  indices(\",h2,  k2,  l2,\"),= (\", h2,  k2,  f(h2,k2),  l2,\")\"\n",
    "print\"\\nThe Miller-Bravias indices  corresponding  to  \" \n",
    "print\"the  miller  indices (\",h3,  k3,  l3,\"),=(\", h3,  k3,  f(h3,k3),  l3,\")\"\n",
    "print\"\\nThe Miller-Bravias indices  corresponding  to \" \n",
    "print\" the  miller  indices(\",h4,  k4,  l4,\"),=(\", h4,  k4,  f(h4,k4),  l4,\")\"\n",
    "\n",
    " "
   ]
  },
  {
   "cell_type": "markdown",
   "metadata": {},
   "source": [
    "## Exa 1.25"
   ]
  },
  {
   "cell_type": "code",
   "execution_count": 17,
   "metadata": {
    "collapsed": false
   },
   "outputs": [
    {
     "name": "stdout",
     "output_type": "stream",
     "text": [
      "\n",
      "The  Miller Bravias indices of [ 1 0 0 ]  are  [ 2.0 -1.0 -1.0 0 ]\n",
      "\n",
      "The  Miller Bravias indices of [ 0 1 0 ]  are  [ -1.0 2.0 -1.0 0 ]\n",
      "\n",
      "The  Miller Bravias indices of [ 1 1 0 ]  are  [ 1.0 1.0 -2.0 0 ]\n"
     ]
    }
   ],
   "source": [
    "from __future__ import division\n",
    "import math\n",
    "#Python Code Ex 1.25 Miller Bravias indices of lattice planes:Page-30  (2010)\n",
    "\n",
    "\n",
    "# Function declaration and Calculations \n",
    "\n",
    "def  fh(H,K):\n",
    "    h  =  (2*H  -  K)/3;        \n",
    "    return h\n",
    "\n",
    "def  fk(H,K):\n",
    "    k  =  (2*K  -  H)/3;\n",
    "    return k\n",
    "\n",
    "def  f(h,k):\n",
    "    i  =  -(h  +  k);\n",
    "    return i\n",
    "\n",
    "def  fl(L):\n",
    "    l  =  L;\n",
    "    return l\n",
    "    \n",
    "    \n",
    "# Variable declaration     \n",
    "\n",
    "H1  =  1;  K1  =  0;  L1  =  0  ;         #  First  set  of  Miller  indices\n",
    "H2  =  0;  K2  =  1;  L2  =  0;          #  Second  set  of  miller  indices\n",
    "H3  =  1;  K3  =  1;  L3  =  0;          #  Third  set  of  miller  indices\n",
    "\n",
    "h1  =  fh(H1,K1)*3;                           #  Call  function  fh\n",
    "k1  =  fk(H1,K1)*3;                           #  Call  function  fk\n",
    "l1  =  fl(L1)*3;                              #  Call  function  fl\n",
    "i1  =  f(h1,k1);                              #  Call  function  \n",
    "h2  =  fh(H2,K2)*3;                           #  Call  function  fh\n",
    "k2  =  fk(H2,K2)*3;                           #  Call  function  fk\n",
    "l2  =  fl(L2)*3;                              #  Call  function  l2\n",
    "i2  =  f(h2,k2);                              #  Call  function  f\n",
    "h3  =  fh(H3,K3)*3;                           #  Call  function  fh\n",
    "k3  =  fk(H3,K3)*3;                           #  Call  function  fk\n",
    "l3  =  fl(L3)*3;                              #  Call  function  l3\n",
    "i3  =  f(h3,k3);                              #  Call  function  f\n",
    "\n",
    "# Result\n",
    "\n",
    "print\"\\nThe  Miller Bravias indices of [\",H1,K1,L1,\"]  are  [\",h1,k1,i1,l1,\"]\"\n",
    "print\"\\nThe  Miller Bravias indices of [\",H2,K2,L2,\"]  are  [\",h2,k2,i2,l2,\"]\"\n",
    "print\"\\nThe  Miller Bravias indices of [\",H3,K3,L3,\"]  are  [\",h3,k3,i3,l3,\"]\"\n"
   ]
  },
  {
   "cell_type": "markdown",
   "metadata": {},
   "source": [
    "## Exa 1.26"
   ]
  },
  {
   "cell_type": "code",
   "execution_count": 18,
   "metadata": {
    "collapsed": false
   },
   "outputs": [
    {
     "name": "stdout",
     "output_type": "stream",
     "text": [
      "The lattice parameter of the cubic crystal,\n",
      " in angstrom, is : 3.46\n"
     ]
    }
   ],
   "source": [
    "from __future__ import division\n",
    "import math\n",
    " #  Python  Code  Ex  1.26  The distance between consecutive(111) planes\n",
    "#in a cubic crystal is 2 angstrom.Determine the Lattice parameter.Page-33(2010)\n",
    "\n",
    "# Variable declaration \n",
    "\n",
    "h  =  1;  k  =  1;  l  =  1;#Miller Indices for planes  in  a  cubic  crystal\n",
    "d  =  2*10**-10;                            #  Interplanar  spacing,  m\n",
    "\n",
    "#Calculations\n",
    "\n",
    " #  For  cubic  crystals,  the  interplanar  spacing  is  given  by\n",
    " #  d  =  a/(h**2+k**2+l**2)**1/2;\n",
    " #  Solving  for  a\n",
    "a  =  (h**2+k**2+l**2)**(1/2)*d;#lattice  parameter  of  cubic  crystal,  m \n",
    "\n",
    " \n",
    "#Result\n",
    "\n",
    "print \"The lattice parameter of the cubic crystal,\" \n",
    "print\" in angstrom, is :\",round(a/10**(-10),2)"
   ]
  },
  {
   "cell_type": "markdown",
   "metadata": {},
   "source": [
    "## Exa 1.27"
   ]
  },
  {
   "cell_type": "code",
   "execution_count": 19,
   "metadata": {
    "collapsed": false
   },
   "outputs": [
    {
     "name": "stdout",
     "output_type": "stream",
     "text": [
      "The interplanar spacing between consecutive (101) planes ,\n",
      "in angstrom, is : 1.41\n"
     ]
    }
   ],
   "source": [
    "from __future__ import division\n",
    "import math\n",
    " # Python Code  Ex  1.27  Interplanar  spacing between consecutive (101) planes \n",
    " #in  tetragonal  crystal:  Page-33  (2010)\n",
    " \n",
    "# Variable declaration  \n",
    " \n",
    "h  =  1;       #  Miller  Indices  for  planes  in  a  cubic  crystal\n",
    "k  =  0;\n",
    "l  =  1;   \n",
    "a  =  2.42*10**-10;#Lattice  parameters  of a tetragonal crystal,  each  in  m\n",
    "b = 2.42*10**-10;  \n",
    "c = 1.74*10**-10;\n",
    "\n",
    "#Calculations\n",
    "\n",
    "#  The  interplanar  spacing  for  cubic  crystal,  m    \n",
    "d  =  ((h**2+k**2)/a**2  +  l**2/c**2)**(-1/2);\n",
    "\n",
    "\n",
    "#  Result\n",
    "\n",
    "print \"The interplanar spacing between consecutive (101) planes ,\" \n",
    "print \"in angstrom, is :\",round(d/(1*10**-10),2)\n",
    "\n",
    " \n",
    " "
   ]
  },
  {
   "cell_type": "markdown",
   "metadata": {},
   "source": [
    "## Exa 1.28"
   ]
  },
  {
   "cell_type": "code",
   "execution_count": 20,
   "metadata": {
    "collapsed": false
   },
   "outputs": [
    {
     "name": "stdout",
     "output_type": "stream",
     "text": [
      "The interplanar spacing between consecutive (321) planes :\n",
      " in angstrom, is : 1.13\n"
     ]
    }
   ],
   "source": [
    "from __future__ import division\n",
    "import math\n",
    " #  Python  Code  Ex  1.28 Interplanar spacing in cubic crystal: Page-36 (2010)\n",
    "\n",
    "# Variable declaration \n",
    "h  =  3;  k  =  2;  l  =  1;#  Miller Indices for planes in  a cubic  crystal\n",
    "a  =  4.21*10**-10;                            #  Interatomic  spacing,  m\n",
    "\n",
    "#Calculations\n",
    "d  =  a/(h**2+k**2+l**2)**(1/2);#The interplanar spacing for cubic crystals, m\n",
    "\n",
    "#  Result\n",
    "print \"The interplanar spacing between consecutive (321) planes :\"\n",
    "print\" in angstrom, is :\",round(d/(1*10**-10),2)\n",
    "\n",
    " \n",
    " "
   ]
  },
  {
   "cell_type": "markdown",
   "metadata": {},
   "source": [
    "## "
   ]
  }
 ],
 "metadata": {
  "kernelspec": {
   "display_name": "Python 2",
   "language": "python",
   "name": "python2"
  },
  "language_info": {
   "codemirror_mode": {
    "name": "ipython",
    "version": 2
   },
   "file_extension": ".py",
   "mimetype": "text/x-python",
   "name": "python",
   "nbconvert_exporter": "python",
   "pygments_lexer": "ipython2",
   "version": "2.7.6"
  }
 },
 "nbformat": 4,
 "nbformat_minor": 0
}
