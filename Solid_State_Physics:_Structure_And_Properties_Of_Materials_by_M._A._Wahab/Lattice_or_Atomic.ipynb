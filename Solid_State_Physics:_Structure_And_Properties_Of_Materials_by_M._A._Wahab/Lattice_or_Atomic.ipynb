{
 "cells": [
  {
   "cell_type": "markdown",
   "metadata": {},
   "source": [
    "# Chapter 7: Lattice or Atomic Vibrations"
   ]
  },
  {
   "cell_type": "markdown",
   "metadata": {},
   "source": [
    "## Exa 7.1"
   ]
  },
  {
   "cell_type": "code",
   "execution_count": 1,
   "metadata": {
    "collapsed": false
   },
   "outputs": [
    {
     "name": "stdout",
     "output_type": "stream",
     "text": [
      "\n",
      "The cut-off frequency for the linear lattice of a solid = 5e+12 Hz\n"
     ]
    }
   ],
   "source": [
    "from __future__ import division\n",
    "import math\n",
    " # Python Code Ex7.1 Cut-off frequency of \n",
    " #the linear lattice of a solid: Page-238 (2010)\n",
    " \n",
    " \n",
    "#Variable declaration\n",
    " \n",
    "v = 3e+03;                            # Velocity of sound in the solid, m/s\n",
    "a = 3e-010;                             # Interatomic distance, m\n",
    "\n",
    "# Calculation\n",
    "\n",
    " # As cut-off frequency occurs at k = %math.pi/a and\n",
    "# k = 2*%math.pi/lambda, this gives\n",
    "lamb = 2*a;                           # Cut-off wavelength for the solid, m\n",
    "f = v/lamb; # Cut-off frequency (v = f*lambda) for the linear lattice, hertz\n",
    "\n",
    "\n",
    "#Result\n",
    "\n",
    "print\"\\nThe cut-off frequency for the linear lattice of a solid =\",f,\"Hz\"\n",
    " "
   ]
  },
  {
   "cell_type": "markdown",
   "metadata": {},
   "source": [
    "## Exa 7.2"
   ]
  },
  {
   "cell_type": "code",
   "execution_count": 1,
   "metadata": {
    "collapsed": false
   },
   "outputs": [
    {
     "name": "stdout",
     "output_type": "stream",
     "text": [
      "\n",
      "The frequency of sound waves in a monoatomic lattice =\n",
      "6.28e+12 rad/sec\n",
      "\n",
      "\n",
      "The frequency of acoustic waves wave in a diatomic lattice :\n",
      "  \n",
      "0  rad/sec for k = 0 \n",
      " \n",
      "4e+12  rad/sec k =  6283185307.0\n",
      "\n",
      "\n",
      "The frequency of optical swaves wave in a diatomic lattice :\n",
      " \n",
      "5.66e+12  rad/sec for k = 0 \n",
      " \n",
      "4e+12  rad/sec for k = 6283185307.0\n"
     ]
    }
   ],
   "source": [
    "from __future__ import division\n",
    "import math\n",
    " # Python Code Ex7.2 Comparison of frequency of waves in \n",
    " #a monoatomic and diatomic linear systems: Page-238 (2010)\n",
    " \n",
    " \n",
    "  \n",
    "#Variable declaration\n",
    " \n",
    "a = 2.5e-010;         # Interatomic spacing between two identical atoms, m\n",
    "v_0 = 1e+03;                             # Velocity of sound in the solid, m/s\n",
    "lamb = 10e-010;                       # Wavelength of the sound wave, m\n",
    "omega_min = 0;   # Angular frequency of acoustic waves at k = 0, rad per sec\n",
    "\n",
    "\n",
    "\n",
    "#Calculation and Results\n",
    "\n",
    "# Angular frequency of sound wave in a monoatomic lattice, rad per sec\n",
    "omega = v_0*2*math.pi/lamb;              \n",
    "print\"\\nThe frequency of sound waves in a monoatomic lattice =\"\n",
    "print round((omega*10**-12),2)*10**12,\"rad/sec\"\n",
    " # For acoustic waves in a diatomic lattice (M = m), \n",
    "#the angular frequency, omega = 0 at k = 0 and\n",
    " # omega = (2*K/m)**(1/2)    --- (i)    at k = %math.pi/(2*a)\n",
    " # As v0 = a*(2*K/m)**(1/2)  --- (ii)\n",
    " # From (i) and (ii), we have\n",
    "# Angular frequency of acoustic waves at k = %math.pi/(2*a), rad per sec\n",
    "omega_max = v_0/a;            \n",
    "print\"\\n\\nThe frequency of acoustic waves wave in a diatomic lattice :\\n  \"\n",
    "print omega_min,\" rad/sec for k = 0 \\n \"\n",
    "print omega_max,\" rad/sec k = \", round(math.pi/(2*a)) \n",
    " # For optical waves in a diatomic lattice (M = m), the angular frequency \n",
    " # omega = sqrt(2)*(2*K/m)**(1/2)    --- (iii)    at k = 0\n",
    " # As v0 = a*(2*K/m)**(1/2)    --- (iv)\n",
    " # From (iii) and (iv), we have\n",
    " # Angular frequency of optical waves at k = 0, rad per sec\n",
    "omega_max = (2)**0.5*v_0/a;             \n",
    " # For optical waves in a diatomic lattice (M = m), the angular frequency \n",
    " # omega = (2*K/m)**(1/2)    --- (iii)    at k = %math.pi/(2*a)\n",
    " # As v0 = a*(2*K/m)**(1/2)    --- (iv)\n",
    " # From (iii) and (iv), we have\n",
    "# Angular frequency of optical waves at k = %math.pi/(2*a), rad per sec\n",
    "omega_min = v_0/a;                      \n",
    "print\"\\n\\nThe frequency of optical swaves wave in a diatomic lattice :\\n \"\n",
    "print round((omega_max*10**-12),2)*10**12,\" rad/sec for k = 0 \\n \"\n",
    "print omega_min,\" rad/sec for k =\",round( math.pi/(2*a) ) \n",
    " "
   ]
  },
  {
   "cell_type": "markdown",
   "metadata": {},
   "source": [
    "## Exa 7.3"
   ]
  },
  {
   "cell_type": "code",
   "execution_count": 3,
   "metadata": {
    "collapsed": false
   },
   "outputs": [
    {
     "name": "stdout",
     "output_type": "stream",
     "text": [
      "\n",
      "The wavelength at which the electromagnetic radiation is\n",
      " strongly reflected by the crystal = 3.88e-05 m\n"
     ]
    }
   ],
   "source": [
    "from __future__ import division\n",
    "import math\n",
    " # Python Code Ex7.3 Reflection of electromagentic radiation\n",
    "# from a crystal: Page-239(2010)\n",
    "\n",
    "\n",
    " \n",
    "#Variable declaration\n",
    " \n",
    "\n",
    "c = 3.0e+08;                 # Speed of electromagnetic wave in vacuum, m/s\n",
    "a = 5.6e-010;                        # Lattice parameter of NaCl crystal, m\n",
    "# Modulus of elasticity along [100] direction of NaCl, newton per metre square\n",
    "Y = 5e+010;               \n",
    "m = 23;                                 # Atomic weight of sodium, amu\n",
    "M = 37;                                 # Atomic weight of chlorine, amu\n",
    "amu = 1.67e-027;                        # Kg equivalent of 1 amu\n",
    "\n",
    "\n",
    "#Calculation\n",
    "\n",
    "# Force constant of springs when the extension along\n",
    "# [100] direction is neglected, N/m\n",
    "K = a*Y;                                \n",
    "# The max. angular frequency of the reflected e.m. radiation, rad per sec\n",
    "omega_plus_max = (2*K*(1/(M*amu)+1/(m*amu)))**(1/2);\n",
    " # The wavelength at which the e.m. radiation is strongly reflected, m\n",
    "lamb = 2*math.pi*c/omega_plus_max;       \n",
    "\n",
    "\n",
    "#Result\n",
    "\n",
    "print\"\\nThe wavelength at which the electromagnetic radiation is\"\n",
    "print\" strongly reflected by the crystal =\",round((lamb*10**5),2)*10**-5,\"m\""
   ]
  }
 ],
 "metadata": {
  "kernelspec": {
   "display_name": "Python 2",
   "language": "python",
   "name": "python2"
  },
  "language_info": {
   "codemirror_mode": {
    "name": "ipython",
    "version": 2
   },
   "file_extension": ".py",
   "mimetype": "text/x-python",
   "name": "python",
   "nbconvert_exporter": "python",
   "pygments_lexer": "ipython2",
   "version": "2.7.6"
  }
 },
 "nbformat": 4,
 "nbformat_minor": 0
}
