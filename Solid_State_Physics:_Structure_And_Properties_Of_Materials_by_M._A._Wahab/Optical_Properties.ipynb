{
 "cells": [
  {
   "cell_type": "markdown",
   "metadata": {},
   "source": [
    "# Chapter 15: Optical Properties of Materials"
   ]
  },
  {
   "cell_type": "markdown",
   "metadata": {},
   "source": [
    "## Exa 15.1"
   ]
  },
  {
   "cell_type": "code",
   "execution_count": 1,
   "metadata": {
    "collapsed": false
   },
   "outputs": [
    {
     "name": "stdout",
     "output_type": "stream",
     "text": [
      "\n",
      "The number of photons emitted per second =\n",
      "8.58e+30\n"
     ]
    }
   ],
   "source": [
    "from __future__ import division\n",
    "import math\n",
    " # Python Code Ex15.1 Determining Photon number by \n",
    " #using Planck quantum law: Page-486 (2010)\n",
    " \n",
    " \n",
    "  \n",
    "#Variable declaration\n",
    "\n",
    "\n",
    "h = 6.626e-034; # Planck's constant, Js\n",
    "f = 1760e+03; # Frequency of the radio transmitter, Hz\n",
    "P = 10e+03; # Power of radio transmitter, W\n",
    "\n",
    "\n",
    "\n",
    "\n",
    "#Calculation\n",
    "\n",
    "E = h*f; # Energy carried by one photon from Planck's law, J\n",
    "N = P/E; # Number of photons emitted per second, number per second\n",
    "\n",
    "\n",
    "#Result\n",
    "\n",
    "print\"\\nThe number of photons emitted per second =\"\n",
    "print round( (N*10**-30),2)*10**30\n",
    " "
   ]
  },
  {
   "cell_type": "markdown",
   "metadata": {},
   "source": [
    "## Exa 15.2"
   ]
  },
  {
   "cell_type": "code",
   "execution_count": 2,
   "metadata": {
    "collapsed": false
   },
   "outputs": [
    {
     "name": "stdout",
     "output_type": "stream",
     "text": [
      "\n",
      "The energy carried by each photon of radiation = 4.43  eV\n",
      "\n",
      "The photoelectric effect is possible..\n"
     ]
    }
   ],
   "source": [
    "from __future__ import division\n",
    "import math\n",
    " # Python Code Ex15.2 Finding suitable energy for\n",
    "# Photoelectric Effect from Na metal: Page-486 (2010)\n",
    "\n",
    "\n",
    " \n",
    "#Variable declaration\n",
    "\n",
    "\n",
    "e = 1.602e-019;                         # Charge on an electron, C\n",
    "h = 6.626e-034;                         # Planck's constant, Js\n",
    "c = 3.0e+08;                            # Speed of light in vacuum, m/s\n",
    "lamb = 2800e-010;                     # Wavelength of incident light, m\n",
    "\n",
    "\n",
    "\n",
    "#Calculation\n",
    "\n",
    "W = 2.3*e;                              # Work function of Na metal, J\n",
    "f = c/lamb;                      # Frequency of the incident light, Hz\n",
    "E = h*f;                # Energy carried by one photon from Planck's law, J\n",
    "\n",
    "\n",
    "\n",
    "#Result\n",
    "\n",
    "print\"\\nThe energy carried by each photon of radiation =\",round(E/e,2),\" eV\"\n",
    "if (E > W):\n",
    "  print\"\\nThe photoelectric effect is possible..\"\n",
    "else:\n",
    "  print\"\\nThe photoelectric effect is impossible..\"\n",
    "\n",
    " "
   ]
  },
  {
   "cell_type": "markdown",
   "metadata": {},
   "source": [
    "## Exa 15.3"
   ]
  },
  {
   "cell_type": "code",
   "execution_count": 3,
   "metadata": {
    "collapsed": false
   },
   "outputs": [
    {
     "name": "stdout",
     "output_type": "stream",
     "text": [
      "\n",
      "The number of photons of green light of Hg =\n",
      "2.5e+18\n"
     ]
    }
   ],
   "source": [
    "from __future__ import division\n",
    "import math\n",
    " # Python Code Ex15.3 Finding number of photons for\n",
    "# green wavelength of Hg: Page-487 (2010)\n",
    "\n",
    "\n",
    "\n",
    " \n",
    "#Variable declaration\n",
    "\n",
    "\n",
    "h = 6.626e-034; # Planck's constant, Js\n",
    "c = 3.0e+08; # Speed of light in vacuum, m/s\n",
    "lamb = 496.1e-09; # Wavelength of green light of mercury, m\n",
    "E_total = 1; # Work done by photons from green light, J\n",
    "\n",
    "\n",
    "\n",
    "#Calculation\n",
    "\n",
    "f = c/lamb; # Frequency of the green light, Hz\n",
    "E = h*f; # Energy carried by one photon from Planck's law, J\n",
    "N = E_total/E; # Number of photons of green light of Hg\n",
    "\n",
    "\n",
    "#Result\n",
    "\n",
    "print\"\\nThe number of photons of green light of Hg =\"\n",
    "print round( (N*10**-18),2)*10**18\n",
    " "
   ]
  },
  {
   "cell_type": "markdown",
   "metadata": {},
   "source": [
    "## Exa 15.4"
   ]
  },
  {
   "cell_type": "code",
   "execution_count": 4,
   "metadata": {
    "collapsed": false
   },
   "outputs": [
    {
     "name": "stdout",
     "output_type": "stream",
     "text": [
      "\n",
      "Threhold frequency for Cu metal = 9.65e+14  Hz\n",
      "\n",
      "The work function of Cu metal =  4.0  eV\n",
      "\n",
      "The maximum kinetic energy of photoelectrons = 2.72  eV\n"
     ]
    }
   ],
   "source": [
    "from __future__ import division\n",
    "import math\n",
    " # Python Code Ex15.4 Photoelectric effect in a photocell: Page-487 (2010)\n",
    " \n",
    " \n",
    " \n",
    "  \n",
    "#Variable declaration\n",
    "\n",
    "\n",
    "e = 1.602e-019; # Charge on an electron, C\n",
    "h = 6.626e-034; # Planck's constant, Js\n",
    "c = 3.0e+08; # Speed of light in vacuum, m/s\n",
    "lamb = 1849e-010; # Wavelength of incident light, m\n",
    "V_0 = 2.72; # Stopping potential for emitted electrons, V\n",
    "\n",
    "\n",
    "#Calculation\n",
    "\n",
    "f = c/lamb; # Frequency of incident radiation , Hz\n",
    "E = h*f; # Energy carried by one photon from Planck's law, J\n",
    "T_max = e*V_0; # Maximum kinetic energy of electrons, J\n",
    " # We have, T_max = E - h*f_0 = h*f - W\n",
    "f_0 = (-T_max + E )/h # Threshold frequency for Cu metal, Hz\n",
    "W = h*f_0/e; # Work function of Cu metal, eV\n",
    "\n",
    "\n",
    "\n",
    "#Result\n",
    "\n",
    "print\"\\nThrehold frequency for Cu metal =\",round((f_0*10**-14),2)*10**14,\" Hz\"\n",
    "print\"\\nThe work function of Cu metal = \",round(W),\" eV\"\n",
    "print\"\\nThe maximum kinetic energy of photoelectrons =\",round(T_max/e,2),\" eV\"\n",
    " "
   ]
  },
  {
   "cell_type": "markdown",
   "metadata": {},
   "source": [
    "## Exa 15.5"
   ]
  },
  {
   "cell_type": "code",
   "execution_count": 5,
   "metadata": {
    "collapsed": false
   },
   "outputs": [
    {
     "name": "stdout",
     "output_type": "stream",
     "text": [
      "\n",
      "The energy which must be transferred to stimulate\n",
      " the emission of Na d-lines =  2.11  eV\n"
     ]
    }
   ],
   "source": [
    "from __future__ import division\n",
    "import math\n",
    " # Python Code Ex15.5 Energy required to stimulate the emission of\n",
    "#  Na d-lines: Page-497 (2010)\n",
    "\n",
    "\n",
    " \n",
    "#Variable declaration\n",
    "\n",
    "\n",
    "e = 1.6e-019; # Charge on an electron, C\n",
    "h = 6.626e-034; # Planck's constant, Js\n",
    "c = 3.0e+08; # Speed of light in vacuum, m/s\n",
    "lambda_mean = 5893e-010; # Wavelength of incident light, m\n",
    "\n",
    "\n",
    "#Calculation\n",
    "\n",
    "# The energy of the electron which must be transferred to the atoms of Na \n",
    "delta_E = h*c/(lambda_mean*e); \n",
    "\n",
    "\n",
    "\n",
    "#Result\n",
    "\n",
    "print\"\\nThe energy which must be transferred to stimulate\"\n",
    "print\" the emission of Na d-lines = \",round(delta_E,2),\" eV\"\n",
    " "
   ]
  }
 ],
 "metadata": {
  "kernelspec": {
   "display_name": "Python 2",
   "language": "python",
   "name": "python2"
  },
  "language_info": {
   "codemirror_mode": {
    "name": "ipython",
    "version": 2
   },
   "file_extension": ".py",
   "mimetype": "text/x-python",
   "name": "python",
   "nbconvert_exporter": "python",
   "pygments_lexer": "ipython2",
   "version": "2.7.6"
  }
 },
 "nbformat": 4,
 "nbformat_minor": 0
}
