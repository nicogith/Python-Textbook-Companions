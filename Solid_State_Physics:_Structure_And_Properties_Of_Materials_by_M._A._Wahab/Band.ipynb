{
 "cells": [
  {
   "cell_type": "markdown",
   "metadata": {},
   "source": [
    "# Chapter 11: Band Theory"
   ]
  },
  {
   "cell_type": "markdown",
   "metadata": {},
   "source": [
    "## Exa 11.2"
   ]
  },
  {
   "cell_type": "code",
   "execution_count": 1,
   "metadata": {
    "collapsed": false
   },
   "outputs": [
    {
     "name": "stdout",
     "output_type": "stream",
     "text": [
      "\n",
      "The ratio between K.E. of an electron in 2D square lattice = 2.0\n"
     ]
    }
   ],
   "source": [
    "from __future__ import division\n",
    "import math\n",
    " # Python Code Ex11.2 Determining ratio between K.E. of \n",
    " # an electron in 2D square lattice:  Page-370 (2010)\n",
    " \n",
    " \n",
    " \n",
    "  \n",
    "#Variable declaration\n",
    "\n",
    "\n",
    "h = 6.626e-034;                         # Planck's constant, Js\n",
    "m = 9.1e-031;                           # Mass of an electron, kg\n",
    "a = 1;             # For simplicity assuming lattice parameter to be unity, m\n",
    "\n",
    "\n",
    "#Calculation\n",
    "\n",
    " # Case-I when k_x = k_y = %math.pi/a\n",
    "k_x = math.pi/a\n",
    "k_y = math.pi/a;      # Wave numbers in X- and Y- directions, rad per metre\n",
    "  # Energy of the electron inside a Brilliouin Zone, J\n",
    "E1 = h**2/(8*math.pi**2*m)*(k_x**2 + k_y**2);   \n",
    " # Case-II when k_x = %math.pi/a and k_y = 0\n",
    "k_x = math.pi/a\n",
    "k_y = 0;                # Wave numbers in X- and Y- directions, rad per metre\n",
    " # Energy of the electron inside a Brilliouin Zone, J\n",
    "E2 = h**2/(8*math.pi**2*m)*(k_x**2 + k_y**2);  \n",
    "    # Ratio between K.E. of an electron in 2D square lattice\n",
    "E_ratio = E1/E2;                        \n",
    "\n",
    "\n",
    "#Result\n",
    "\n",
    "print\"\\nThe ratio between K.E. of an electron in 2D square lattice =\", E_ratio \n",
    " "
   ]
  }
 ],
 "metadata": {
  "kernelspec": {
   "display_name": "Python 2",
   "language": "python",
   "name": "python2"
  },
  "language_info": {
   "codemirror_mode": {
    "name": "ipython",
    "version": 2
   },
   "file_extension": ".py",
   "mimetype": "text/x-python",
   "name": "python",
   "nbconvert_exporter": "python",
   "pygments_lexer": "ipython2",
   "version": "2.7.6"
  }
 },
 "nbformat": 4,
 "nbformat_minor": 0
}
