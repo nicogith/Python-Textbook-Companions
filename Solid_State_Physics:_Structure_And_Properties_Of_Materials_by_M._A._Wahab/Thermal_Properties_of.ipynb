{
 "cells": [
  {
   "cell_type": "markdown",
   "metadata": {},
   "source": [
    "# Chapter 9: Thermal Properties of Materials"
   ]
  },
  {
   "cell_type": "markdown",
   "metadata": {},
   "source": [
    "## Exa 9.1"
   ]
  },
  {
   "cell_type": "code",
   "execution_count": 1,
   "metadata": {
    "collapsed": false
   },
   "outputs": [
    {
     "name": "stdout",
     "output_type": "stream",
     "text": [
      "\n",
      "Since E_Ag < kT and E_Dia > kT, therefore,\n",
      "\n",
      "Silver metal obeys the Dulong Petit law at \n",
      "room temperature while diamond does not.\n"
     ]
    }
   ],
   "source": [
    "from __future__ import division\n",
    "import math\n",
    " # Python Code Ex9.1 Exception of Dulong-Petit law at room temp.:Page-303(2010)\n",
    " \n",
    " \n",
    " \n",
    " \n",
    "#Variable declaration\n",
    "\n",
    "\n",
    "h = 6.626e-034;                         # Planck's constant, joule second\n",
    "k = 1.38e-023;                          # Boltzmann constant, joule/mol/kelvin\n",
    "T = 300;                                # Room temperature, kelvin\n",
    "f_Ag = 4.0e+012;            # Vibrational frequency for silver, cycles/second\n",
    "f_Dia = 2.4e+013;          # Vibrational frequency for diamond, cycles/second\n",
    "\n",
    "\n",
    "\n",
    "#Calculation\n",
    "\n",
    "E_Ag = h*f_Ag;             # Vibrational Energy for silver, joule\n",
    "E_Dia = h*f_Dia;            # Vibrational Energy for diamond, joule\n",
    "E_th = k*T;                # Thermal energy at room temperature, joule\n",
    "\n",
    "\n",
    "\n",
    "#Result\n",
    "\n",
    "if (E_th > E_Ag and E_th < E_Dia):\n",
    "  print\"\\nSince E_Ag < kT and E_Dia > kT, therefore,\" \n",
    "  print\"\\nSilver metal obeys the Dulong Petit law at \"\n",
    "  print \"room temperature while diamond does not.\"\n",
    "\n",
    " "
   ]
  },
  {
   "cell_type": "markdown",
   "metadata": {},
   "source": [
    "## Exa 9.2"
   ]
  },
  {
   "cell_type": "code",
   "execution_count": 2,
   "metadata": {
    "collapsed": false
   },
   "outputs": [
    {
     "name": "stdout",
     "output_type": "stream",
     "text": [
      "\n",
      "The specific heat of copper = 1.33 kJ/kmol/kelvin\n"
     ]
    }
   ],
   "source": [
    "from __future__ import division\n",
    "import math\n",
    "#Python Code Ex9.2 Specific heat of copper from Debye temp.:Page-311(2010)\n",
    "\n",
    "\n",
    "\n",
    "\n",
    "#Variable declaration\n",
    "\n",
    "h = 6.626e-034; # Planck's constant, joule second\n",
    "k = 1.38e-023; # Boltzmann constant, joule/mol/kelvin\n",
    "T = 30; # Given temperature, kelvin\n",
    "N = 6.023e+023; # Avogadro's number\n",
    "v_l = 4.76e+03; # Longitudinal velocity of lattice waves, m/s\n",
    "v_t = 2.32e+03; # Tranverse velocity of lattice waves, \n",
    "rho = 8.9e+03; # Density of copper, kg per metre cube\n",
    "A_Cu = 63.5; # Gram atomic mass of Cu, g\n",
    "\n",
    "\n",
    "\n",
    "#Calculation\n",
    "\n",
    "R = N*k; # Universal gas constant, joule/kelvin \n",
    "M = A_Cu*1e-03; # Mass of 1 mole of Cu-atoms, kg\n",
    "V = M/rho; # Volume of copper, metre cube\n",
    "# Debye temperature of copper, K\n",
    "theta_D = (h/k)*((9*N)/((4*math.pi*V)*((1/v_l**3)+(2/v_t**3))))**(1/3);\n",
    " # Specific heat of copper, kJ/kmol/kelvin\n",
    "C_v = 12/5*math.pi**4*R*(T/theta_D)**3; \n",
    "\n",
    "\n",
    "\n",
    "#Result\n",
    "\n",
    "print\"\\nThe specific heat of copper =\",round(C_v,2),\"kJ/kmol/kelvin\" \n",
    " "
   ]
  },
  {
   "cell_type": "markdown",
   "metadata": {},
   "source": [
    "## Exa 9.3"
   ]
  },
  {
   "cell_type": "code",
   "execution_count": 3,
   "metadata": {
    "collapsed": false
   },
   "outputs": [
    {
     "name": "stdout",
     "output_type": "stream",
     "text": [
      "\n",
      "The highest possible vibrational frequency of diamond =\n",
      "4.64e+13 per second\n",
      "\n",
      "The molar specific heat of diamond = 0.18 J/kmol/kelvin\n"
     ]
    }
   ],
   "source": [
    "from __future__ import division\n",
    "import math\n",
    "#Python CodeEx9.3 Vibrational freq. and molar heat capacity of diamond:Page-312\n",
    "\n",
    "\n",
    "\n",
    "\n",
    "#Variable declaration\n",
    "\n",
    "h = 6.626e-034; # Planck's constant, joule second\n",
    "k = 1.38e-023; # Boltzmann constant, joule/mol/kelvin\n",
    "T = 10; # Given temperature, kelvin\n",
    "N = 6.023e+023; # Avogadro's number\n",
    "theta_D = 2230; # Debye temperature for diamond, kelvin\n",
    "\n",
    "\n",
    "\n",
    "#Calculation\n",
    "\n",
    "R = N*k; # Universal gas constant, joule/kelvin \n",
    "f_D = k*theta_D/h; # Debye frequency of diamond, hertz\n",
    "# Specific heat of diamond, J/kmol/kelvin\n",
    "C_v = 12/5*math.pi**4*R*1e+03*(T/theta_D)**3; \n",
    "\n",
    "\n",
    "\n",
    "\n",
    "#Result\n",
    "\n",
    "print\"\\nThe highest possible vibrational frequency of diamond =\"\n",
    "print round((f_D*10**-13),2)*10**13,\"per second\" \n",
    "print\"\\nThe molar specific heat of diamond =\",round(C_v,2),\"J/kmol/kelvin\""
   ]
  },
  {
   "cell_type": "markdown",
   "metadata": {},
   "source": [
    "## Exa 9.4"
   ]
  },
  {
   "cell_type": "code",
   "execution_count": 4,
   "metadata": {
    "collapsed": false
   },
   "outputs": [
    {
     "name": "stdout",
     "output_type": "stream",
     "text": [
      "\n",
      "Debye temperature of copper at low temperature = 348.27 K\n"
     ]
    }
   ],
   "source": [
    "from __future__ import division\n",
    "import math\n",
    "#Python Code Ex9.4Debye temperature of copper at low temperature:Page-312(2010)\n",
    "\n",
    "\n",
    "\n",
    "#Variable declaration\n",
    "\n",
    "k = 1.38e-023; # Boltzmann constant, joule/mol/kelvin\n",
    "N = 6.023e+023; # Avogadro's number\n",
    "C_vl = 4.6e-02; # Lattice specific heat, J/kmol/K\n",
    "\n",
    "\n",
    "\n",
    "#Calculation\n",
    "\n",
    "R = N*k; # Universal gas constant, joule/kelvin \n",
    " # Lattice specific heat C_vl = Molar lattice specific heat, C_v\n",
    " # or 12/5*%math.pi**4*R/(5*theta_D**3) = C_vl\n",
    " # solving for theta_D, we have\n",
    "# Debye temperature of copper at low temperature, K\n",
    "theta_D = (12*math.pi**4*R*1e+03/(5*C_vl))**(1/3);\n",
    "\n",
    "\n",
    "\n",
    "#Result\n",
    "\n",
    "print\"\\nDebye temperature of copper at low temperature =\",round(theta_D,2),\"K\""
   ]
  },
  {
   "cell_type": "markdown",
   "metadata": {},
   "source": [
    "## Exa 9.5"
   ]
  },
  {
   "cell_type": "code",
   "execution_count": 5,
   "metadata": {
    "collapsed": false
   },
   "outputs": [
    {
     "name": "stdout",
     "output_type": "stream",
     "text": [
      "\n",
      "Debye temperature of gold = 242.25 K\n"
     ]
    }
   ],
   "source": [
    "from __future__ import division\n",
    "import math\n",
    " # Python Code Ex9.5 Debye temperature for gold : Page-313(2010)\n",
    " \n",
    " \n",
    " \n",
    "#Variable declaration\n",
    "\n",
    "\n",
    "h = 6.626e-034; # Planck's constant, Js\n",
    "k = 1.38e-023; # Boltzmann constant, joule/mol/kelvin\n",
    "N = 6.023e+023; # Avogadro's number\n",
    "v = 2100; # Velocity of sound in gold medium, m/s\n",
    "\n",
    "\n",
    "#Calculation\n",
    "\n",
    "M = 197e-03; # Gram atomic weight of gold, g\n",
    "rho = 1.9e+04; # Density of gold, kg per metre cube\n",
    "V = M/rho; # Volume of gold, metre cube\n",
    "R = N*k; # Universal gas constant, joule/kelvin \n",
    "theta_D = h*v/k*(9*N/(12*math.pi*V))**(1/3); # Debye temperature for gold, K\n",
    "\n",
    "\n",
    "#Result\n",
    "\n",
    "print\"\\nDebye temperature of gold =\",round(theta_D,2),\"K\""
   ]
  },
  {
   "cell_type": "markdown",
   "metadata": {},
   "source": [
    "## Exa 9.6"
   ]
  },
  {
   "cell_type": "code",
   "execution_count": 6,
   "metadata": {
    "collapsed": false
   },
   "outputs": [
    {
     "name": "stdout",
     "output_type": "stream",
     "text": [
      "\n",
      "The amount of heat required to raise the temperature of\n",
      " 2 gmol of Rock salt from 10K to 50K = 63.99  cal\n"
     ]
    }
   ],
   "source": [
    "from __future__ import division\n",
    "import math\n",
    " # Python Code Ex9.6 Heat transference into rock salt at\n",
    "# low temperature: Page-313(2010)\n",
    "\n",
    "\n",
    "\n",
    "#Variable declaration\n",
    "\n",
    "\n",
    "A = 464;             # Atomic specific heat of rock salt, cal g/mol/kelvin\n",
    "theta_D = 281;                          # Debye temperature of rock salt, K\n",
    "delta_T = 10;              # Rise in temperature in each class interval, K\n",
    "\n",
    "\n",
    "\n",
    "\n",
    "\n",
    "#Calculation\n",
    "\n",
    " # Define a function which returns lattice specific heat at constant volume\n",
    "\n",
    "def Qa(t):\n",
    "  return A*(t/theta_D)**3;\n",
    "Q = 0; # Initialize heat accumulator to zero, cal\n",
    "for t in range(10,50,10):\n",
    " #Calculate mean temperature of each class interval, K \n",
    " mean_temp = (t + (t + 10))/2; \n",
    " Q = Q + 2*delta_T*Qa(mean_temp);  # Acuumulate heat for each step\n",
    " \n",
    " \n",
    "#Result\n",
    "\n",
    "print\"\\nThe amount of heat required to raise the temperature of\"\n",
    "print\" 2 gmol of Rock salt from 10K to 50K =\",round(Q,2),\" cal\""
   ]
  }
 ],
 "metadata": {
  "kernelspec": {
   "display_name": "Python 2",
   "language": "python",
   "name": "python2"
  },
  "language_info": {
   "codemirror_mode": {
    "name": "ipython",
    "version": 2
   },
   "file_extension": ".py",
   "mimetype": "text/x-python",
   "name": "python",
   "nbconvert_exporter": "python",
   "pygments_lexer": "ipython2",
   "version": "2.7.6"
  }
 },
 "nbformat": 4,
 "nbformat_minor": 0
}
