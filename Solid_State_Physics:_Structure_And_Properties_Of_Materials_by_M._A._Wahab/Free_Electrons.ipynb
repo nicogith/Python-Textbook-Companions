{
 "cells": [
  {
   "cell_type": "markdown",
   "metadata": {},
   "source": [
    "# Chapter 10: Free Electrons in Crystals"
   ]
  },
  {
   "cell_type": "markdown",
   "metadata": {},
   "source": [
    "## Exa 10.1"
   ]
  },
  {
   "cell_type": "code",
   "execution_count": 1,
   "metadata": {
    "collapsed": false
   },
   "outputs": [
    {
     "name": "stdout",
     "output_type": "stream",
     "text": [
      "The quantum number described by this motion is:\n",
      "3.02e+16\n"
     ]
    }
   ],
   "source": [
    "from __future__ import division\n",
    "import math\n",
    "# PythonEx10.1 Particle Moving in One-Dimensional Potential Well:Page-328(2010)\n",
    "\n",
    "\n",
    "\n",
    "\n",
    "#Variable declaration\n",
    "\n",
    "\n",
    "a = 10**-3;                #Separation between the walls of the well, m\n",
    "m = 10**-9;                            # Mass of the dust particle, kg\n",
    "t = 100;            # Average time for successive collisons with the wall, s\n",
    "h = 6.626*10**-34;            # Plank's constant, Js\n",
    "\n",
    "\n",
    "#Calculate\n",
    "\n",
    "v = a/t;          # Velocity of the particle inside the potential well, m/s\n",
    "E = 1/2*m*v**2;                          # Kinetic energy of the particle, J\n",
    " # For one-dimensional potential well, the energy eigen value is given by\n",
    " #            E = h**2*n**2/(8*m*a**2)\n",
    " # Solving for n \n",
    "# Quantum number corresponding to the energy eigen value E\n",
    "n =((8*m*a**2*E)/h**2)**0.5\n",
    "\n",
    "\n",
    "#Result\n",
    "\n",
    "print \"The quantum number described by this motion is:\"\n",
    "print round((n*10**-16),2)*10**16\n",
    " "
   ]
  },
  {
   "cell_type": "markdown",
   "metadata": {},
   "source": [
    "## Exa 10.2"
   ]
  },
  {
   "cell_type": "code",
   "execution_count": 2,
   "metadata": {
    "collapsed": false
   },
   "outputs": [
    {
     "name": "stdout",
     "output_type": "stream",
     "text": [
      "The lowest energy of an electron confined to move \n",
      "in a 3D-potential box, in eV, is :  452.31\n"
     ]
    }
   ],
   "source": [
    "from __future__ import division\n",
    "import math\n",
    " # Python Code Ex 10.2 Motion of a ground state Electron \n",
    " #in a 3-D Potential Well: Page-329 (2010)\n",
    " \n",
    " \n",
    " \n",
    "#Variable declaration\n",
    "\n",
    "\n",
    "a = 0.5*10**-10;            # length of the potential box, m\n",
    "h = 6.626*10**-34;                       # Plank's Constant, Js\n",
    "m = 9.1*10**-31;                         # Mass of an Electron, kg\n",
    " # In 3-D, the three quantum numbers nx, ny and nz each will have \n",
    " #value equal to 1 for lowest energy state\n",
    "nx = 1;                         # Quantum number corresponding to x-direction\n",
    "ny = 1;                      # Quantum number corresponding to y-direction \n",
    "nz = 1;                      # Quantum number corresponding to z-direction\n",
    "\n",
    "\n",
    "\n",
    "#Calculation\n",
    "\n",
    "EG = h**2*(nx**2+ny**2+nz**2)/(8*m*a**2);# Energy eigen value for 3-D potential,\n",
    "EeV = EG/(1.6*10**-19);                      # Convert energy from joule to eV\n",
    "\n",
    "\n",
    "\n",
    "#Result\n",
    "\n",
    "print \"The lowest energy of an electron confined to move \"\n",
    "print\"in a 3D-potential box, in eV, is : \",round(EeV,2)\n",
    " "
   ]
  },
  {
   "cell_type": "markdown",
   "metadata": {},
   "source": [
    "## Exa 10.3"
   ]
  },
  {
   "cell_type": "code",
   "execution_count": 3,
   "metadata": {
    "collapsed": false
   },
   "outputs": [
    {
     "name": "stdout",
     "output_type": "stream",
     "text": [
      "The first excited state energy of the electron confined \n",
      "to move in a 3D-potential box, in eV, is :  226.15\n",
      "The temperature at which the average energy becomes equal to \n",
      "first excited state energy, in K, is :  1748044.12\n"
     ]
    }
   ],
   "source": [
    "from __future__ import division\n",
    "import math\n",
    " # Python Code Ex 10.3 Motion of an Electron excited next to \n",
    " #the ground state in a 3-D Potential Well: Page-329 (2010)\n",
    " \n",
    " \n",
    " \n",
    "#Variable declaration\n",
    "\n",
    "\n",
    "a = 1*10**-10;                  # length of the cubic potential box, m\n",
    "h = 6.626*10**-34;                       # Plank's Constant, Js\n",
    "m = 9.1*10**-31;                   # Mass of an Electron, kg\n",
    "k = 1.38*10**-23;              # Boltzmann Constant, J/mol-K\n",
    " # In 3-D, the three quantum numbers nx, ny and nz will have values \n",
    " #1, 1 and 2 respectively for first excited energy state \n",
    "nx = 1;                   # Quantum number corresponding to x-direction\n",
    "ny = 1;               # Quantum number corresponding to y-direction \n",
    "nz = 2;                 # Quantum number corresponding to z-direction\n",
    "\n",
    "\n",
    "\n",
    "\n",
    "#Calculation\n",
    "\n",
    "  # Energy eigen value for 3-D potential for first excited state, J\n",
    "EE = h**2*(nx**2+ny**2+nz**2)/(8*m*a**2);    \n",
    " # As EE(next to the lowest) = 3/2 (k/T), where T is the absolute temperature\n",
    " # Solving for T \n",
    "#Absolute temperature at which energy next to the lowest energy state \n",
    "T = 2/3*1/k*EE;  \n",
    "EeV = EE/(1.6*10**-19);             # Convert energy from joule to eV\n",
    "\n",
    "\n",
    "\n",
    "#Result\n",
    "\n",
    "print \"The first excited state energy of the electron confined \" \n",
    "print\"to move in a 3D-potential box, in eV, is : \",round(EeV,2)\n",
    "print \"The temperature at which the average energy becomes equal to \"\n",
    "print\"first excited state energy, in K, is : \",round(T,2)\n",
    " "
   ]
  },
  {
   "cell_type": "markdown",
   "metadata": {},
   "source": [
    "## Exa 10.4"
   ]
  },
  {
   "cell_type": "code",
   "execution_count": 4,
   "metadata": {
    "collapsed": false
   },
   "outputs": [
    {
     "name": "stdout",
     "output_type": "stream",
     "text": [
      "\n",
      "The 2  set(s)  of  values  of  quantum  number  are  :  \n",
      "\n",
      "\n",
      "nx= 1  ny= 1  nz= 6   \n",
      "\n",
      "\n",
      "nx= 2  ny= 3  nz= 5   \n",
      "\n",
      "\n",
      "The  given  energy  level  is  9.0 -fold  degenerate.\n"
     ]
    }
   ],
   "source": [
    "from __future__ import division\n",
    "import math\n",
    " # Python Code  Ex  10.4  Degeneracy  of  Energy  Level:  Page-332  (2010)\n",
    " \n",
    " \n",
    " \n",
    " \n",
    "#Variable declaration and Calculation\n",
    "\n",
    "\n",
    " #  Function  to  find  the  factorial  of  a  number\n",
    "def  fact(num):\n",
    "    f  =  1;\n",
    "    for i in range(1,num+1):\n",
    "        f  =  f*i;\n",
    "    return f\n",
    " #  Fucntion  to  determine  degenerate  energy  states\n",
    "def  degno(a, b, c):\n",
    "    ash=[]\n",
    "    ash.append(a-b)\n",
    "    ash.append(b-c)\n",
    "    ash.append(c-a)\n",
    "    sm=0\n",
    "    for c in range(3):\n",
    "        if ash[c]==0:\n",
    "            sm=sm+1\n",
    "    if sm==3:  # check if all the values are same\n",
    "        degeneracy = 3;\n",
    "        degstates = fact(3)/fact(degeneracy); #calculate degenerate states\n",
    "        return degstates\n",
    "    if sm==1:      # check if any two values are equal\n",
    "        degeneracy = 2;\n",
    "        degstates = fact(3)/fact(degeneracy); #calculate degenerate states\n",
    "        return degstates\n",
    "    if sm==0:    # check if all the values are different\n",
    "        degeneracy = 1;\n",
    "        degstates = fact(3)/fact(degeneracy); #calculate degenerate states\n",
    "        return degstates\n",
    "coef  =  38;     #  Coefficient  of  H**2/(8*m*a**2)\n",
    "nx=[]           #  Quantum  number  corresponding  to  x-direction\n",
    "ny=[]           #  Quantum  number  corresponding  to  y-direction  \n",
    "nz=[]            #  Quantum  number  corresponding  to  z-direction\n",
    "deg=[]           #  Variable  to  store  the  degeneracy  of  states\n",
    "\n",
    "count  =  1;                               #  set  the  counter  \n",
    "suum  =  0;                        #  initialize  the  sum\n",
    " #  Look  for  all  the  possible  set  of  values  for  nx,  ny  and  ny\n",
    "for  i in range (1,10):    \n",
    "    for  j in range (1,10):\n",
    "        for  k in range (1,10):\n",
    "#  Check  for  the  condition  and  avoid  repetition  of  set  of  values\n",
    "            if  ((i**2+j**2+k**2==coef)  and (i+j+k) >  suum): \n",
    "                nx.append(i); # Save current i value\n",
    "                ny.append(j); # Save current j value\n",
    "                nz.append(k); # Save current k value\n",
    "                 # Save degeneracy for given set of values\n",
    "                deg.append(degno(i, j, k));\n",
    "                count = count + 1; # Increment the counter\n",
    "                suum = i + j + k; # Add the three values of quantum numbers\n",
    "\n",
    "\n",
    "\n",
    "\n",
    "#Result\n",
    "\n",
    "print \"\\nThe\", count-1,\" set(s)  of  values  of  quantum  number  are  :  \\n\"\n",
    "deg_states  =  0;                                #  Intialize  the  variable\n",
    "for i in range(0,count-1):\n",
    "    print \"\\nnx=\",nx[i],\" ny=\",ny[i],\" nz=\",nz[i],\"  \\n\"  \n",
    "    deg_states=deg_states+deg[i]\n",
    " #  Accumulate  the  degeneracy\n",
    "\n",
    "print \"\\nThe  given  energy  level  is \",deg_states,\"-fold  degenerate.\"   \n",
    "\n",
    " "
   ]
  },
  {
   "cell_type": "markdown",
   "metadata": {},
   "source": [
    "## Exa 10.5"
   ]
  },
  {
   "cell_type": "code",
   "execution_count": 5,
   "metadata": {
    "collapsed": false
   },
   "outputs": [
    {
     "name": "stdout",
     "output_type": "stream",
     "text": [
      "The fermi energy in zinc at absolute zero,in eV, is :  11.11\n",
      "The average energy of an electron at 0K,in eV, is :  6.67\n"
     ]
    }
   ],
   "source": [
    "from __future__ import division\n",
    "import math\n",
    " #Python Code Ex 10.5 Fermi energy of zinc at absolute zero: Page-335 (2010)\n",
    " \n",
    "  \n",
    "\n",
    "#Variable declaration\n",
    "\n",
    "\n",
    "d = 7.13*10**+3;                            # Density of Zn, in kg per m cube\n",
    "M = 65.4*10**-3;                            # Atomic weight of Zn, kg/mol\n",
    "me = 9.1*10**-31;                           # Mass of an electron, kg\n",
    "v = 2;                 # valency of divalent (Zn) metal\n",
    "N = 6.023*10**+23;             # Avogadro's Number\n",
    "h = 6.626*10**-34;                          #Plank's constant, in Js\n",
    "\n",
    "\n",
    "\n",
    "#Calculation\n",
    "\n",
    "meff = 0.85*me;                # Effective mass of the electron in zinc, kg\n",
    "n = v*d*N/M;                            # Number of electrons per unit volume\n",
    " #Fermi energy in zinc at absolute zero, J\n",
    "Ef = h**2/(2*meff)*(3*n/(8*math.pi))**(2/3); \n",
    "EfeV = Ef/(1.6*10**-19);                      # Fermi energy in eV\n",
    "Ebar = (3/5)*EfeV;                # Average energy of an electron at 0K, eV\n",
    "\n",
    "\n",
    "\n",
    "#Result\n",
    "\n",
    "print \"The fermi energy in zinc at absolute zero,in eV, is : \",round(EfeV,2)\n",
    "print \"The average energy of an electron at 0K,in eV, is : \",round(Ebar,2)\n",
    " "
   ]
  },
  {
   "cell_type": "markdown",
   "metadata": {},
   "source": [
    "## Exa 10.6"
   ]
  },
  {
   "cell_type": "code",
   "execution_count": 6,
   "metadata": {
    "collapsed": false
   },
   "outputs": [
    {
     "name": "stdout",
     "output_type": "stream",
     "text": [
      "The temperature at which the given probability is expected, in K, is :\n",
      "290.22\n"
     ]
    }
   ],
   "source": [
    "from __future__ import division\n",
    "import math\n",
    " # Python Code Ex 10.6 Electron probability above Fermi energy: Page-336 (2010)\n",
    " \n",
    " \n",
    "  \n",
    "#Variable declaration\n",
    "\n",
    "\n",
    "k = 1.38*10**-23;                           # Boltzmann constant, in J/mol-K\n",
    "FD = 0.10;              # Fermi-Dirac distribution probability for electrons\n",
    "Efermi = 5.5;                           # Fermi Energy of silver, in eV\n",
    "\n",
    "\n",
    "#Calculation\n",
    "\n",
    "E = Efermi + 0.01*Efermi;               # Allowed energy for electrons\n",
    "dE = E - Efermi;        #Deviation of allowed energy from Fermi energy, in eV\n",
    "DEeV = dE*1.6*10**-19;           #Convert into joule\n",
    " # The Fermi-Dirac distribution function as at any temperature T is given by\n",
    " #            F(E) = FD = 1/(math.exp((E-Efermi)/kT)+1\n",
    " # Solving for T \n",
    "# Absolute temperature at which result follows, in K\n",
    "T = DEeV/(k*math.log(1/FD-1));\n",
    "\n",
    "\n",
    "#Result\n",
    "\n",
    "print \"The temperature at which the given probability is expected, in K, is :\"\n",
    "print round(T,2)"
   ]
  },
  {
   "cell_type": "markdown",
   "metadata": {},
   "source": [
    "## Exa 10.7"
   ]
  },
  {
   "cell_type": "code",
   "execution_count": 7,
   "metadata": {
    "collapsed": false
   },
   "outputs": [
    {
     "name": "stdout",
     "output_type": "stream",
     "text": [
      "The Electronic specific heat at 4K, in J/mol/K is : 0.002\n",
      "The Electronic specific heat at 100K, in J/mol/K is : 0.15\n"
     ]
    }
   ],
   "source": [
    "from __future__ import division\n",
    "import math\n",
    " #Python Code Ex 10.7 The Electroic Specific Heat of Cu: Page-341 (2010)\n",
    " \n",
    " \n",
    "  \n",
    "#Variable declaration\n",
    "\n",
    "\n",
    "k = 1.38*10**-23;                           #Boltzmann constant, in J/mol-K\n",
    "N = 6.023*10**+23;                          # Avogadro's Number\n",
    "Efermi = 7.05;                      # Fermi energy of copper, in eV\n",
    "EFeV = Efermi*1.6*10**-19;         # Fermi energy conversion, in J\n",
    "T1 = 4;                                 #Lower value of temperature, in K\n",
    "T2 = 300;                               #Upper value of temperature, in K\n",
    "\n",
    "\n",
    "#Calculation\n",
    "\n",
    "Ce4 = (math.pi**2*k**2*T1)/(2*EFeV)*N#Electronic specific heat at 4K, J/mol/K\n",
    "Ce100 = (math.pi**2*k**2*T2)/(2*EFeV)*N#Electronic specific heat at 100K, \n",
    "\n",
    "\n",
    "#Result\n",
    "\n",
    "print \"The Electronic specific heat at 4K, in J/mol/K is :\",round(Ce4,3)\n",
    "print \"The Electronic specific heat at 100K, in J/mol/K is :\",round(Ce100,2)\n",
    " "
   ]
  },
  {
   "cell_type": "markdown",
   "metadata": {},
   "source": [
    "## Exa 10.8"
   ]
  },
  {
   "cell_type": "code",
   "execution_count": 8,
   "metadata": {
    "collapsed": false
   },
   "outputs": [
    {
     "name": "stdout",
     "output_type": "stream",
     "text": [
      "Electrical resistivity at 0degree 4.62e-08 ohm metre\n"
     ]
    }
   ],
   "source": [
    "from __future__ import division\n",
    "import math\n",
    " #Python Code Ex 10.8 The Electrical Resistivity: Page-343 (2010)\n",
    " \n",
    " \n",
    " \n",
    "  \n",
    "#Variable declaration\n",
    "\n",
    "\n",
    "tau=3*10**-14#Classical value of mean free time\n",
    "n=2#BCC structure\n",
    "e=1.6*10**-19\n",
    "m=9.1*10**-31\n",
    "R=1.85*10**-10\n",
    "\n",
    "\n",
    "\n",
    "#Calculation\n",
    "\n",
    "a=(4/(3)**0.5)*R\n",
    "ne=n/(a)**3 # number of electrons per unit volume\n",
    "ro=m/(ne*(e*e)*tau)\n",
    "\n",
    "\n",
    "#Result\n",
    "\n",
    "print\"Electrical resistivity at 0degree\",round((ro*10**8),2)*10**-8,\"ohm metre\"\n",
    "\n",
    "\n",
    "\n",
    "\n",
    "\n"
   ]
  },
  {
   "cell_type": "markdown",
   "metadata": {},
   "source": [
    "## Exa 10.9"
   ]
  },
  {
   "cell_type": "code",
   "execution_count": 9,
   "metadata": {
    "collapsed": false
   },
   "outputs": [
    {
     "name": "stdout",
     "output_type": "stream",
     "text": [
      "The current density of electrons in copper,in ampere per metre square,\n",
      "4973592.0\n",
      "The drift velocity of electrons in copper, in metre per second, \n",
      "0.0004\n"
     ]
    }
   ],
   "source": [
    "from __future__ import division\n",
    "import math\n",
    " # Python Code Ex 10.9 Electrical Conductivity of Cu: Page-345 (2010)\n",
    " \n",
    " \n",
    "  \n",
    "#Variable declaration\n",
    "\n",
    "\n",
    "e = 1.6*10**-19; # Electronic charge, C\n",
    "N = 6.023*10**+23; # Avogardro's number\n",
    "d = 8920; # Density of Copper, kg per metre cube\n",
    "A = 63.5; # Atomic weight of copper, g/mole\n",
    "I = 10; # Current through uniform copper wir, A\n",
    "D = 16*10**-4; #Diameter of circular cross-section of copper wire, m\n",
    "\n",
    "\n",
    "\n",
    "#Calculation\n",
    "\n",
    "R = D/2; # Radius of circular cross-section of copper wire, m\n",
    "# The number of electrons per unit volume in copper, per metre cube\n",
    "n = d*N/63.5*1*10**+3; \n",
    " # Current density of electrons in copper, ampere per metre square\n",
    "J = I/(math.pi*R**2);\n",
    "vd = J/(n*e); # Drift velocity of electrons in copper, metre per second\n",
    "\n",
    "\n",
    "\n",
    "#Result\n",
    "\n",
    "print \"The current density of electrons in copper,in ampere per metre square,\"\n",
    "print round(J)\n",
    "print \"The drift velocity of electrons in copper, in metre per second, \"\n",
    "print round(vd,4)\n",
    " "
   ]
  },
  {
   "cell_type": "markdown",
   "metadata": {},
   "source": [
    "## Exa 10.10"
   ]
  },
  {
   "cell_type": "code",
   "execution_count": 10,
   "metadata": {
    "collapsed": false
   },
   "outputs": [
    {
     "name": "stdout",
     "output_type": "stream",
     "text": [
      "The mobility of electron through silver, in metre square per V-s, is \n",
      "0.01\n",
      "The average drift velocity of electrons, in m/s, is : \n",
      "0.7\n",
      "The average drift velocity of electrons, in m/s, is  \n",
      "3.98e-14\n"
     ]
    }
   ],
   "source": [
    "from __future__ import division\n",
    "import math\n",
    " # Python Code Ex 10.10 Electron mobility inside conductors : Page-346 (2010)\n",
    " \n",
    " \n",
    " \n",
    "#Variable declaration\n",
    "\n",
    " \n",
    "e = 1.6*10**-19;                        # Electronic charge, in C\n",
    "m = 9.1*10**-31;                            # Eelctronic mass, in kg\n",
    "res = 1.54*10**-8;          # Electrical resistivity of silver, in ohm metre\n",
    "E = 100;         # Electric field applied along the length of the wire, V/m\n",
    "n = 5.8*10**+28;#Number of conduction electrons per unit volume, per metre cube\n",
    "\n",
    "\n",
    "#Calculation\n",
    "\n",
    "mu = 1/(res*n*e);#Mobility of electron through silver,metre square per volt-sec\n",
    "vd = mu*E;               # Average drift velocity of electrons, m/s\n",
    "t = mu*m/e;               # Relaxation time of the electron, s\n",
    "\n",
    "\n",
    "\n",
    "\n",
    "#Result\n",
    "\n",
    "print \"The mobility of electron through silver, in metre square per V-s, is \"\n",
    "print round(mu,2)\n",
    "print \"The average drift velocity of electrons, in m/s, is : \"\n",
    "print round(vd,2)\n",
    "print \"The average drift velocity of electrons, in m/s, is  \"\n",
    "print round((t*10**14),2)*10**-14"
   ]
  },
  {
   "cell_type": "markdown",
   "metadata": {},
   "source": [
    "## Exa 10.11"
   ]
  },
  {
   "cell_type": "code",
   "execution_count": 11,
   "metadata": {
    "collapsed": false
   },
   "outputs": [
    {
     "name": "stdout",
     "output_type": "stream",
     "text": [
      "The experimetal value of Lorentz number,in watt ohm per kelvin square,:\n",
      "2.26e-08\n",
      "The theoretical value of Lorentz number,in watt ohm per kelvin square,\n",
      "2.45e-08\n",
      "\n",
      "The theoretical value of Lorentz number is 1.08\n",
      "times higher than the experimental one.\n",
      "\n"
     ]
    }
   ],
   "source": [
    "from __future__ import division\n",
    "import math\n",
    " # Python Code Ex 10.11 Lorentz number calculation of a solid: Page-347 (2010)\n",
    " \n",
    "  \n",
    "#Variable declaration\n",
    "\n",
    "\n",
    "e = 1.6*10**-19;                           # Electronic charge, in C\n",
    "k = 1.38*10**-23;                           # boltzmann constant, J/mol-K\n",
    "T = 293;                                # Absolute temperature of the solid\n",
    "K = 390;                  # Thermal conductivity of copper at 293 K, W/m-K\n",
    "l = 0.5;                                # Lenght of the copper wire, m\n",
    "d = 0.3*10**-3;                  # Diameter of cross-section of Cu, m\n",
    "r = d/2;                                # Radius of copper wire, m\n",
    "R = 0.12;                               # Resistance of copper wire, ohm\n",
    "\n",
    "\n",
    "\n",
    "#Calculation\n",
    "\n",
    " # As R = 1/con*l/(%math.pi*r**2)\n",
    " # Solving for R\n",
    "con = l/(math.pi*r**2*R);      # Conductance of copper, per ohm per metre\n",
    "#The Lorentz number is defined as the ratio of the Thermal conductivity to the \n",
    " # Electrical conductivity of a solid per degree rise in temperature\n",
    " # Experimental value of Lorentz number, watt ohm per kelvin square\n",
    "Lexp = K/(con*T);\n",
    " # Thoeretical value of Lorentz number value, watt ohm per kelvin square\n",
    "Lth = math.pi**2/3*(k/e)**2;\n",
    "\n",
    "\n",
    "#Result\n",
    "\n",
    "print\"The experimetal value of Lorentz number,in watt ohm per kelvin square,:\"\n",
    "print round((Lexp*10**8),2)*10**-8\n",
    "print\"The theoretical value of Lorentz number,in watt ohm per kelvin square,\"\n",
    "print round((Lth*10**8),2)*10**-8\n",
    "print\"\\nThe theoretical value of Lorentz number is\",round(Lth/Lexp,2)\n",
    "print\"times higher than the experimental one.\\n\"\n",
    " "
   ]
  },
  {
   "cell_type": "markdown",
   "metadata": {},
   "source": [
    "## Exa 10.12"
   ]
  },
  {
   "cell_type": "code",
   "execution_count": 12,
   "metadata": {
    "collapsed": false
   },
   "outputs": [
    {
     "name": "stdout",
     "output_type": "stream",
     "text": [
      "\n",
      "The  percentage  increase  in  the  resistivity  of  nichrome  is\n",
      "7.0  percent\n"
     ]
    }
   ],
   "source": [
    "from __future__ import division\n",
    "import math\n",
    " #  Python  Code  Ex  10.12  Increase  in  electrical  resistivity \n",
    "# of  a  metal  with  temperature:  Page-349  (2010)\n",
    "\n",
    "\n",
    " \n",
    "#Variable declaration and calculation\n",
    "\n",
    "\n",
    "def  final_res(T):\n",
    "    alpha=0.0001         #  Temperature  co-efficient  of  resistance\n",
    "    res=0  #  Initial  resistivity  of  the  nichrome  which  is  an  arbitray  \n",
    "#constant  and  can  be  taken  to  be  zero\n",
    "    res  =  res  +  alpha*T;#Final resistivity of the nichrome as function of T  \n",
    "    return res\n",
    "T1  =  300;              #  Initial  temperature  of  nichrome,  K\n",
    "T2  =  1000;            #  Final  temperature  of  nichrome,  K\n",
    "res300  =  final_res(T1); #  Final  resistivity  of  the  nichrome  at  300  K  \n",
    "res1000  =  final_res(T2) # Final  resistivity  of  the  nichrome  at  1000  K  \n",
    "percent_res  =  (res1000  -  res300)*100;# Percentag  increase in  resistivity \n",
    "\n",
    "\n",
    "\n",
    "#Result\n",
    " \n",
    "print\"\\nThe  percentage  increase  in  the  resistivity  of  nichrome  is\"\n",
    "print round(percent_res,2),\" percent\"\n",
    " "
   ]
  },
  {
   "cell_type": "markdown",
   "metadata": {},
   "source": [
    "## Exa 10.13"
   ]
  },
  {
   "cell_type": "code",
   "execution_count": 13,
   "metadata": {
    "collapsed": false
   },
   "outputs": [
    {
     "name": "stdout",
     "output_type": "stream",
     "text": [
      "The electric current due to thermionic emission, in A, is :  0.04\n"
     ]
    }
   ],
   "source": [
    "from __future__ import division\n",
    "import math\n",
    " # PythonCode Ex 10.13 Thermionic emission of a filament: Page-352 (2010)\n",
    " \n",
    " \n",
    "  \n",
    "#Variable declaration\n",
    "\n",
    "\n",
    "e = 1.6*10**-19; # Electronic charge, C\n",
    "m = 9.1*10**-31; # Mass of the electron, kg\n",
    "k = 1.38*10**-23; # Boltzmann constant, J/mol-K\n",
    "h = 6.626*10**-34; # Plank's constant, Js\n",
    "W = 4.5; # Work function of tungsten filament, eV\n",
    "D = 1*10**-4; # Diameter of the filament, m\n",
    "r = D/2; # Radius of the filament, m\n",
    "T = 2400; # Temperature of the filament, K\n",
    "l = 0.05; # Length of the filament, m\n",
    "\n",
    "\n",
    "\n",
    "#Calculation\n",
    "\n",
    "A = 4*math.pi*e*m*k**2/h**3; # A constant expressed in ampere per metre square \n",
    " # per kelvin square\n",
    "a = 2*math.pi*r*l; # Surface area of the filament, meter square\n",
    "J = A*T**2*math.exp(-e*W/(k*T)); # Electronic current density of the filament, \n",
    " # ampere per metre square\n",
    "I = a*J; # Electric current due to thermionic emission, ampere\n",
    "\n",
    "\n",
    "#Result\n",
    "\n",
    "print \"The electric current due to thermionic emission, in A, is : \",round(I,2)\n",
    " "
   ]
  },
  {
   "cell_type": "markdown",
   "metadata": {},
   "source": [
    "## Exa 10.14"
   ]
  },
  {
   "cell_type": "code",
   "execution_count": 14,
   "metadata": {
    "collapsed": false
   },
   "outputs": [
    {
     "name": "stdout",
     "output_type": "stream",
     "text": [
      "The Hall coefficient of sodium , in metre cube per coulomb, is : \n",
      "2.45e-09\n"
     ]
    }
   ],
   "source": [
    "from __future__ import division\n",
    "import math\n",
    " # Python Code Ex 10.14 Hall coefficient calculation of sodium based on \n",
    " #free electron model: Page-353 (2010)\n",
    " \n",
    " \n",
    " \n",
    "  \n",
    "#Variable declaration\n",
    "\n",
    "\n",
    "e = 1.6*10**-19;                           # Electronic charge, C\n",
    "a = 4.28*10**-10; # lattice parameter of the unit cell of sodium crystal, m\n",
    "N = 2;            # Number of atoms per unit cell in bcc structure of sodium \n",
    "\n",
    "\n",
    "#Calculation\n",
    "\n",
    "n = N/a**3;# Number of electrons per unit volume for the sodium crystal, \n",
    "RH = -1/(n*e);           # Hall coefficient of sodium, metre cube per coulomb\n",
    "\n",
    "\n",
    "#Result\n",
    "\n",
    "print \"The Hall coefficient of sodium , in metre cube per coulomb, is : \"\n",
    "print -round((RH*10**10),2)*10**-9\n",
    " "
   ]
  }
 ],
 "metadata": {
  "kernelspec": {
   "display_name": "Python 2",
   "language": "python",
   "name": "python2"
  },
  "language_info": {
   "codemirror_mode": {
    "name": "ipython",
    "version": 2
   },
   "file_extension": ".py",
   "mimetype": "text/x-python",
   "name": "python",
   "nbconvert_exporter": "python",
   "pygments_lexer": "ipython2",
   "version": "2.7.6"
  }
 },
 "nbformat": 4,
 "nbformat_minor": 0
}
