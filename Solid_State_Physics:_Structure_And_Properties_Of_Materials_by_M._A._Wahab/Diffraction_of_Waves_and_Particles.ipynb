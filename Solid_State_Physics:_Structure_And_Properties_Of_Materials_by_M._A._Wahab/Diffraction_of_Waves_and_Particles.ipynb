{
 "cells": [
  {
   "cell_type": "markdown",
   "metadata": {},
   "source": [
    "# Chapter 8: Diffraction of Waves and Particles by Crystals"
   ]
  },
  {
   "cell_type": "markdown",
   "metadata": {},
   "source": [
    "## Exa 8.1"
   ]
  },
  {
   "cell_type": "code",
   "execution_count": 1,
   "metadata": {
    "collapsed": false
   },
   "outputs": [
    {
     "name": "stdout",
     "output_type": "stream",
     "text": [
      "\n",
      "The shortest wavelength present in X-rays =\n",
      "0.25 angstrom\n",
      "\n",
      "The maximum frequency present in X-rays =\n",
      "1.2e+19  Hz\n"
     ]
    }
   ],
   "source": [
    "from __future__ import division\n",
    "import math\n",
    " # Python Code Ex08.1 Determination of shortest wavelength and \n",
    " # frequency of X-rays from accelerating potential Page-250 (2010)\n",
    " \n",
    " \n",
    "  \n",
    "#Variable declaration\n",
    " \n",
    "V = 50e+03;                            # Accelerating potential, volt\n",
    "c = 3e+08;                              # Speed of light in free space\n",
    "\n",
    "#Calculation\n",
    "\n",
    "Lambda_min = 1.24e-06/V;                # Minimum wavelength, metre\n",
    "F_max = c/Lambda_min;                   # Maximum frequency, Hz\n",
    "\n",
    "\n",
    "#Result\n",
    "\n",
    "print\"\\nThe shortest wavelength present in X-rays =\"\n",
    "print round(Lambda_min/(1*10**-10),2),\"angstrom\"\n",
    "print\"\\nThe maximum frequency present in X-rays =\"\n",
    "print round((F_max*10**-19),1)*10**19,\" Hz\""
   ]
  },
  {
   "cell_type": "markdown",
   "metadata": {},
   "source": [
    "## Exa 8.2"
   ]
  },
  {
   "cell_type": "code",
   "execution_count": 2,
   "metadata": {
    "collapsed": false
   },
   "outputs": [
    {
     "name": "stdout",
     "output_type": "stream",
     "text": [
      "\n",
      "The number of electrons striking the target =\n",
      "1.56e+16\n",
      "\n",
      "The velocity of electrons striking the target =\n",
      "45900000.0 m/s\n",
      "\n",
      "The shortest wavelength present in X-rays =\n",
      "2.07e-10 m\n"
     ]
    }
   ],
   "source": [
    "from __future__ import division\n",
    "import math\n",
    " # Python Code Ex8.2 Calculation of impinging electrons on the target and\n",
    "# characteristics of X-rays Page-253 (2010)\n",
    "\n",
    "\n",
    " \n",
    "#Variable declaration\n",
    " \n",
    "\n",
    "I = 2.5e-03; # Current through X-ray tube, ampere\n",
    "V = 6e+03; # Potential across the X-ray tube, volt\n",
    "e = 1.6e-19; # Charge on an electron, coulomb\n",
    "m = 9.1e-031; # mass of an electron, kg\n",
    "t = 1; # Transit time, second\n",
    "\n",
    "\n",
    "#Calculation\n",
    "\n",
    "Q = I*t; # Total charge flowing per second through the x-ray tube, coulomb\n",
    "n = Q/e; # Number of electrons striking the target per second\n",
    " # We have eV = 1/2*m*v**2 (stopping potential = maximum Kinetic energy)\n",
    " # Solving for v\n",
    "v = (2*e*V/m)**0.5; # speed of electrons striking the target, m/s\n",
    "Lambda_min = 1.24e-06/V; # Minimum wavelength of X-rays produced, metre\n",
    "\n",
    "\n",
    "#Result\n",
    "\n",
    "print\"\\nThe number of electrons striking the target =\"\n",
    "print round((n*10**-16),2)*10**16\n",
    "print\"\\nThe velocity of electrons striking the target =\"\n",
    "print round((v*10**-7),2)*10**7,\"m/s\"\n",
    "print\"\\nThe shortest wavelength present in X-rays =\"\n",
    "print round((Lambda_min*10**10),2)*10**-10,\"m\""
   ]
  },
  {
   "cell_type": "markdown",
   "metadata": {},
   "source": [
    "## Exa 8.3"
   ]
  },
  {
   "cell_type": "code",
   "execution_count": 3,
   "metadata": {
    "collapsed": false
   },
   "outputs": [
    {
     "name": "stdout",
     "output_type": "stream",
     "text": [
      "\n",
      "The wavelength of K_alpha line =\n",
      "0.19 angstrom\n",
      "\n",
      "The wavelength of K_beta line  =\n",
      "0.17 angstrom\n"
     ]
    }
   ],
   "source": [
    "from __future__ import division\n",
    "import math\n",
    "#Python Ex8.3 Calculation of wavelength of characteristic X-rays Page-253(2010)\n",
    "\n",
    "\n",
    "\n",
    " \n",
    "#Variable declaration\n",
    " \n",
    "h = 6.626e-034;                         # Planck's constant, Js\n",
    "c = 3e+08;                              # Speed of light in free space, m/s\n",
    "e = 1.602e-019;                         # Charge on an electron, coulomb\n",
    "E_K = -78;                              # Energy of K shell for platinum, keV\n",
    "E_L = -12;                              # Energy of L shell for platinum, keV\n",
    "E_M = -3 ;                              # Energy of M shell for platinum, keV\n",
    "\n",
    "\n",
    "#Calculation\n",
    "\n",
    "E_K_alpha = E_L - E_K;                  # Energy of K_alpha line, keV\n",
    "E_K_beta = E_M - E_K;          # Energy of K_beta line, keV\n",
    " # We have E = h*f, where f = c/Lambda this implies E = h*c/lambda\n",
    " # Solving for Lambda\n",
    " # Lambda = h*c/E\n",
    "lambda_K_alpha = h*c/(E_K_alpha*e*1e+03);# Wavelength of K_alpha line, metre\n",
    "lambda_K_beta = h*c/(E_K_beta*e*1e+03); # Wavelength of K_beta line, metre\n",
    "\n",
    "\n",
    "#Result\n",
    "\n",
    "print\"\\nThe wavelength of K_alpha line =\"\n",
    "print round(lambda_K_alpha/(1*10**-10),2),\"angstrom\"\n",
    "print\"\\nThe wavelength of K_beta line  =\"\n",
    "print round(lambda_K_beta/(1*10**-10),2),\"angstrom\"\n",
    " "
   ]
  },
  {
   "cell_type": "markdown",
   "metadata": {},
   "source": [
    "## Exa 8.4"
   ]
  },
  {
   "cell_type": "code",
   "execution_count": 4,
   "metadata": {
    "collapsed": false
   },
   "outputs": [
    {
     "name": "stdout",
     "output_type": "stream",
     "text": [
      "\n",
      "The atomic number of unknown element =  47.12\n"
     ]
    }
   ],
   "source": [
    "from __future__ import division\n",
    "import math\n",
    " # PythonCode Ex8.4 Calculation of atomic number of \n",
    " #an unknown element Page-255 (2010)\n",
    " \n",
    " \n",
    "  \n",
    "#Variable declaration\n",
    " \n",
    "lambda_Pt = 1.321e-010; # Wavelength of L_alpha line of Pt, m\n",
    "Z_Pt = 78; # Atomic number of platinum\n",
    "b = 7.4; # Constant\n",
    "lambda_x = 4.174e-010; # Wavelength of unknown element, m\n",
    "\n",
    "\n",
    "#Calculation\n",
    "\n",
    " # We have f = [a*(Z-b)]**2 (Moseley's law)\n",
    " # As f_Pt = c/lambda_Pt = [a*(Z_Pt-b)]**2 \n",
    " # Similarly f_x = c/lambda_x = [a*(Z_x-b)]**2 \n",
    " # Dividing f_Pt by f_x and solving for x\n",
    "Z_x = b + (lambda_Pt/lambda_x)**0.5*(Z_Pt-b);# Atomic number of unknown element \n",
    "\n",
    "\n",
    "#Result\n",
    "\n",
    "print\"\\nThe atomic number of unknown element = \", round(Z_x,2)"
   ]
  },
  {
   "cell_type": "markdown",
   "metadata": {},
   "source": [
    "## Exa 8.5"
   ]
  },
  {
   "cell_type": "code",
   "execution_count": 5,
   "metadata": {
    "collapsed": false
   },
   "outputs": [
    {
     "name": "stdout",
     "output_type": "stream",
     "text": [
      "\n",
      "The wavelength of K_alpha line of copper =\n",
      "1427.41  angstrom\n"
     ]
    }
   ],
   "source": [
    "from __future__ import division\n",
    "import math\n",
    " # Python Code Ex8.5 Calculation of wavelength of copper \n",
    " #using Moseley's law Page-256 (2010)\n",
    " \n",
    " \n",
    "  \n",
    "#Variable declaration\n",
    " \n",
    "c = 3.0e+08;                           # Speed of light, m/s\n",
    "lambda_W = 210e-010;                    # Wavelength of K_alpha line of W, m\n",
    "Z_W = 74;                               # Atomic number of tungsten\n",
    "Z_Cu = 29;                              # Atomic number of copper\n",
    "b = 1;                                  # Constant for K-series\n",
    "\n",
    "#Calculation\n",
    "\n",
    " # f_W = c/lambda_W = (a*73)**2, The frequency K_alpha line for tungsten, Hz\n",
    " # f_Cu = c/lambda_Cu = (a*28)**2, The frequency K_alpha line for copper, Hz\n",
    " # Dividing f_W by f_Cu and solving for lambda_Cu\n",
    "lambda_Cu = ((Z_W-b)/(Z_Cu-b))**2*lambda_W;# Wavelength of K_alpha line of Cu,m\n",
    "\n",
    "#Result\n",
    "\n",
    "print\"\\nThe wavelength of K_alpha line of copper =\"\n",
    "print round(lambda_Cu/(1*10**-10),2),\" angstrom\", ;\n",
    " "
   ]
  },
  {
   "cell_type": "markdown",
   "metadata": {},
   "source": [
    "## Exa 8.6"
   ]
  },
  {
   "cell_type": "code",
   "execution_count": 6,
   "metadata": {
    "collapsed": false
   },
   "outputs": [
    {
     "name": "stdout",
     "output_type": "stream",
     "text": [
      "\n",
      "The atomic number unknown element = 42.0\n"
     ]
    }
   ],
   "source": [
    "from __future__ import division\n",
    "import math\n",
    " # Python Code Ex8.6 Calculation of atomic number from wavelength using\n",
    "# Moseley's law Page-256 (2010)\n",
    "\n",
    "\n",
    " \n",
    "#Variable declaration\n",
    " \n",
    "c = 3.0e+08;                            # Speed of light, m/s\n",
    "h = 6.626e-034;                         # Planck's constant, Js\n",
    "# Absolute electrical permittivity of free space, \n",
    "#coulomb square per newton per metre square\n",
    "epsilon_0 = 8.85e-012;\n",
    "m = 9.1e-031;                           # Mass of an electron, kg\n",
    "e = 1.6e-019;                           # Charge on an electron, C\n",
    "lamb = 0.7185e-010;          # Wavelength of K_alpha line of unknown element\n",
    "b = 1;                 # Mosley's constant for K-series\n",
    "n_1 = 1; n_2 = 2;                  # Lower and upper energy levels\n",
    "\n",
    "\n",
    "#Calculation\n",
    "\n",
    " # We know that f = c/lambda = \n",
    " # m*e**4*(Z-b)**2/(8*epsilon_0**2*h**3)*(1/n_2**2-1/n_1**2)\n",
    " # This implies that lambda \n",
    " #= (8*epsilon_0**2*c*h**3/(m*e**4*(Z-b)**2*(1/n_2**2-1/n_1**2))\n",
    " # Solving for Z\n",
    "# Atomic number unknown element\n",
    "Z = (8*epsilon_0**2*c*h**3/(m*e**4*lamb*(1/n_1**2-1/n_2**2)))**0.5+b;\n",
    "\n",
    "\n",
    "#Result\n",
    "\n",
    "print\"\\nThe atomic number unknown element =\", round( Z ) \n",
    " "
   ]
  },
  {
   "cell_type": "markdown",
   "metadata": {},
   "source": [
    "## Exa 8.7"
   ]
  },
  {
   "cell_type": "code",
   "execution_count": 7,
   "metadata": {
    "collapsed": false
   },
   "outputs": [
    {
     "name": "stdout",
     "output_type": "stream",
     "text": [
      "\n",
      "The wavelengths of tin and barium =\n",
      "0.5 angstrom and \n",
      "0.37  angstrom respectively\n"
     ]
    }
   ],
   "source": [
    "from __future__ import division\n",
    "import math\n",
    " # Python Code Ex8.7 Calculation of wavelengths of tin and barium\n",
    "# using Moseley's law Page-257 (2010)\n",
    "\n",
    " \n",
    "#Variable declaration\n",
    " \n",
    "\n",
    "Z_Fe = 26; # Atomic number of iron\n",
    "Z_Pt = 78; # Atomic number of platinum\n",
    "Z_Sn = 50; # Atomic number of tin\n",
    "Z_Ba = 56; # Atomic number of barium\n",
    "b = 1; # Mosley's constant for K-series\n",
    "lambda_Fe = 1.93e-010; # Wavelength of K_alpha line of Fe\n",
    "lambda_Pt = 0.19e-010; # Wavelength of K_alpha line of Pt\n",
    "\n",
    "\n",
    "#Calculation\n",
    "\n",
    " # From Moseley's Law,\n",
    " # f = a*(Z-1)**2. This implies lambda = C*1/(Z-1)**2\n",
    " # so that lambda_Fe = C*1/(Z_Fe-1)**2 and lambda_Sn = C*1/(Z_Sn-1)**2\n",
    " # Dividing lambda_Sn by lambda_Fe and solving for lambda_Sn\n",
    "# Wavelength of K_alpha line for tin, m\n",
    "lambda_Sn = (Z_Fe-1)**2/(Z_Sn-1)**2*lambda_Fe;\n",
    "# Wavelength of K_alpha line for barium, m\n",
    "lambda_Ba = (Z_Pt-1)**2/(Z_Ba-1)**2*lambda_Pt;\n",
    "\n",
    "#Result\n",
    "\n",
    "print\"\\nThe wavelengths of tin and barium =\"\n",
    "print round(lambda_Sn/10**-10,2),\"angstrom and \"\n",
    "print round(lambda_Ba/10**-10,2),\" angstrom respectively\""
   ]
  },
  {
   "cell_type": "markdown",
   "metadata": {},
   "source": [
    "## Exa 8.8"
   ]
  },
  {
   "cell_type": "code",
   "execution_count": 8,
   "metadata": {
    "collapsed": false
   },
   "outputs": [
    {
     "name": "stdout",
     "output_type": "stream",
     "text": [
      "\n",
      "The intensity of the X-ray transmitted through the aluminium sheet =\n",
      "49.91 percent\n"
     ]
    }
   ],
   "source": [
    "from __future__ import division\n",
    "import math\n",
    " # Python Code Ex8.8 Percentage transmitted energy of X-rays: Page 259 (2010)\n",
    " \n",
    " \n",
    "  \n",
    "#Variable declaration\n",
    " \n",
    "mu = 139;               # Attenuation co-efficient of aluminium, per metre\n",
    "x = 0.005;                      # Thickness of aluminium sheet, m\n",
    "\n",
    "#Calculations\n",
    "\n",
    " # If X% is the intensity of the X-ray transmitted through the aluminium sheet,\n",
    " # X% = I/I_0\n",
    " # or X/100 = math.exp(-absorb_coeff*x)\n",
    " # Solving for X\n",
    "X = 100*math.exp(-mu*x);     # Transmitted percentage of X-rays\n",
    "\n",
    "#Result\n",
    "\n",
    "print\"\\nThe intensity of the X-ray transmitted through the aluminium sheet =\"\n",
    "print round(X,2),\"percent\" \n",
    " "
   ]
  },
  {
   "cell_type": "markdown",
   "metadata": {},
   "source": [
    "## Exa 8.9"
   ]
  },
  {
   "cell_type": "code",
   "execution_count": 9,
   "metadata": {
    "collapsed": false
   },
   "outputs": [
    {
     "name": "stdout",
     "output_type": "stream",
     "text": [
      "\n",
      "The thickness of lead piece = 0.000522 m\n"
     ]
    }
   ],
   "source": [
    "from __future__ import division\n",
    "import math\n",
    " # Python code Ex8.9 : Determination of thickness of lead piece \n",
    " #by using two equal intensity X-ray wavelengths : Page 259 (2010)\n",
    " \n",
    " \n",
    " \n",
    "#Variable declaration\n",
    "  \n",
    " \n",
    "lambda_1 = 0.064e-010; # First wavelength of X-ray, metre\n",
    "lambda_2 = 0.098e-010; # Second wavelength of X-ray, metre\n",
    "I1_ratio_I2 = 3; # Ratio of attenuated beam intensity\n",
    " # Mass absorption coefficient for first wavelength, metre square per kg\n",
    "mu_m1 = 0.164; \n",
    "# Mass absorption coefficient for second wavelength, metre square per kg\n",
    "mu_m2 = 0.35;\n",
    "d = 0.164; # Density of the lead, kg per metre cube\n",
    "\n",
    "\n",
    "#Calculation\n",
    "\n",
    "# absorption co-efficient of the lead for first wavelength, per metre\n",
    "mu1 = mu_m1*d;\n",
    "# absorption co-efficient of the lead for second wavelength, per metre\n",
    "mu2 = mu_m2*d;\n",
    " # Declare 'x' as the thickness variable\n",
    " # Now I = math.exp(-ac*x) thus\n",
    " # I1_ratio_I2 = math.exp(-ac_1*x)/math.exp(-ac_2*x)\n",
    " # or 3 = math.exp(2109.24)*x this implies\n",
    " # 2104.24*x = math.log(3) and assume\n",
    "x=math.log(3)/2104.24;\n",
    "\n",
    "\n",
    "#Result\n",
    "\n",
    "print\"\\nThe thickness of lead piece =\",round((x*10**4),2)*10**-4,\"m\"\n",
    " "
   ]
  },
  {
   "cell_type": "markdown",
   "metadata": {},
   "source": [
    "## Exa 8.10"
   ]
  },
  {
   "cell_type": "code",
   "execution_count": 10,
   "metadata": {
    "collapsed": false
   },
   "outputs": [
    {
     "name": "stdout",
     "output_type": "stream",
     "text": [
      "\n",
      "Theta 1  =  4  degree(s), 29 minute(s)\n",
      "\n",
      "Theta 2  =  8  degree(s), 59 minute(s)\n",
      "\n",
      "Theta 3  =  13  degree(s), 33 minute(s)\n",
      "\n",
      "Theta 4  =  18  degree(s), 13 minute(s)\n",
      "\n",
      "Theta 5  =  23  degree(s), 0 minute(s)\n"
     ]
    }
   ],
   "source": [
    "from __future__ import division\n",
    "import math\n",
    " # Python  code  Ex8.10:  Determining  angle  of  reflection  \n",
    " #by  using  wavelength  of  X-ray  Page  261  (2010)\n",
    " \n",
    " \n",
    " \n",
    "  \n",
    "#Variable declaration\n",
    " \n",
    "lamb  =  0.440e-010;        #  Wavelength  of  X-rays,  m\n",
    "d  =  2.814e-010;       #  Interplanar  spacing  of  rocksalt  crystal,  m\n",
    "\n",
    "\n",
    "#Calculation and Result\n",
    "\n",
    "# 2*d*sin(theta)= n*lambda **Bragg's  law,  n  is  the  order  of  diffraction\n",
    " #  Solving  for  theta,  we  have\n",
    " #  For  converting  angle  into  degrees  and  minutes\n",
    "de=[]\n",
    "m=[]\n",
    "de.append(0)\n",
    "m.append(0)\n",
    "for  n in range(1,6):  #  For  diffraction  order  from  1  to  5\n",
    "#  Bragg's  angle\n",
    "    theta  =  math.asin(n*lamb/(2*d))\n",
    "    de.append( int(math.degrees(theta)));\n",
    "    m.append((math.degrees(theta)-int(math.degrees(theta)))*60)\n",
    "    print\"\\nTheta\",n,\" = \",de[n],\" degree(s),\",int(m[n]),\"minute(s)\"\n",
    "\n",
    " "
   ]
  },
  {
   "cell_type": "markdown",
   "metadata": {},
   "source": [
    "## Exa 8.11"
   ]
  },
  {
   "cell_type": "code",
   "execution_count": 11,
   "metadata": {
    "collapsed": false
   },
   "outputs": [
    {
     "name": "stdout",
     "output_type": "stream",
     "text": [
      "\n",
      "The  first  four  wavelengths  of  diffracted  beam  are:\n",
      "\n",
      "Lambda 1  =   0.88  angstrom\n",
      "\n",
      "Lambda 2  =   0.44  angstrom\n",
      "\n",
      "Lambda 3  =   0.29  angstrom\n",
      "\n",
      "Lambda 4  =   0.22  angstrom\n"
     ]
    }
   ],
   "source": [
    "from __future__ import division\n",
    "import math\n",
    " #  Python  code  Ex8.11:  Determining  the  wavelength  of\n",
    "# diffracted  X-rays  Page  262  (2010)\n",
    "\n",
    "\n",
    " \n",
    "#Variable declaration\n",
    " \n",
    "d  =  2.814e-010;    #  Interplanar  spacing  of  rocksalt  crystal,  m\n",
    "theta  =  9;      #  Bragg's  angle,  degree\n",
    "\n",
    "\n",
    "\n",
    "\n",
    "#Calculations and Results\n",
    "\n",
    "# 2*d*sin(theta) = n*lambda **Bragg's law, n is  the  order  of  diffraction\n",
    " #  Solving  for  lambda,  we  have\n",
    "\n",
    "print\"\\nThe  first  four  wavelengths  of  diffracted  beam  are:\"\n",
    "for  n in range(1,5):        #  For  diffraction  order  from  1  to  5\n",
    "#  Wavelength  of  X-rays,  m\n",
    "    lamb  =  2*d*math.sin(math.radians(theta))/n    \n",
    "    if  (lamb  >=  0.2e-010  or  lamb  <=  1.0e-010):\n",
    "        print\"\\nLambda\",n,\" =  \",round(lamb/(1*10**-10),2),\" angstrom\"\n",
    "         \n"
   ]
  },
  {
   "cell_type": "markdown",
   "metadata": {},
   "source": [
    "## Exa 8.12"
   ]
  },
  {
   "cell_type": "code",
   "execution_count": 12,
   "metadata": {
    "collapsed": false
   },
   "outputs": [
    {
     "name": "stdout",
     "output_type": "stream",
     "text": [
      "\n",
      "The reciprocal lattice vectors are:\n",
      " a_prime =\n",
      "2.42 per angstrom and b_prime =\n",
      "1.45  per angstrom\n"
     ]
    }
   ],
   "source": [
    "from __future__ import division\n",
    "import math\n",
    " # Python code Ex8.12: Reciprocal lattice parameters from\n",
    "# 2-D direct lattice parameters Page 277 (2010)\n",
    "\n",
    "\n",
    " \n",
    "#Variable declaration\n",
    " \n",
    "a = 3e-010;            # First lattice parameter of direct lattice\n",
    "b = 5e-010;              # Second lattice parameter of direct lattice\n",
    "theta = 60;         # Angle between two lattice vectors of the direct lattice\n",
    "\n",
    "\n",
    "#Calculation\n",
    "\n",
    "# if a_prime and b_prime are the lattice vectors for the reciprocal lattice, \n",
    " # a_prime*a = 2*%math.pi and a_prime*b = 0 \n",
    " # Similarly, b_prime*b = 2*%math.pi and b_prime*a = 0\n",
    " # Solving for a_prime and b_prime, we have\n",
    " # Lattice vector for reciprocal lattice, per metre\n",
    "a_prime = 2*math.pi/(a*math.cos(math.radians(90-theta)));   \n",
    "# Lattice vector for reciprocal lattice, per metre\n",
    "b_prime = 2*math.pi/(b*math.cos(math.radians(90-theta)));   \n",
    "\n",
    "\n",
    "#Result\n",
    "\n",
    "print\"\\nThe reciprocal lattice vectors are:\\n a_prime =\"\n",
    "print round(a_prime*1e-010,2),\"per angstrom and b_prime =\"\n",
    "print round(b_prime*1e-010,2),\" per angstrom\""
   ]
  },
  {
   "cell_type": "markdown",
   "metadata": {},
   "source": [
    "## Exa 8.13"
   ]
  },
  {
   "cell_type": "code",
   "execution_count": 13,
   "metadata": {
    "collapsed": false
   },
   "outputs": [
    {
     "name": "stdout",
     "output_type": "stream",
     "text": [
      "\n",
      "The  Bragg  angles  and  the  indices  of  diffraction \n",
      " for  the  three  lowest  powder  lines  are:\n",
      "\n",
      "d[ 1 1 1 ]  =\n",
      "3.46e-10 and  theta\n",
      "[ 1 1 1 ]  = 12  deg 50.58  min\n",
      "\n",
      "d[ 2 0 0 ]  =\n",
      "3e-10 and  theta\n",
      "[ 2 0 0 ]  = 14  deg 52.34  min\n",
      "\n",
      "d[ 2 2 0 ]  =\n",
      "2.12e-10 and  theta\n",
      "[ 2 2 0 ]  = 21  deg 17.0  min\n"
     ]
    }
   ],
   "source": [
    "from __future__ import division\n",
    "import math\n",
    " #  Python code  Ex8.13:  Bragg  angle  and  the  indices  of \n",
    "# diffraction  of  Powder  Lines  Page  285  (2010)\n",
    "\n",
    "\n",
    "\n",
    " \n",
    "#Variable declaration\n",
    " \n",
    "n  =  1; #  Cosider  first  order  diffraction\n",
    "a  =  6e-010; #  First  lattice  parameter  of  direct  lattice,  m\n",
    " #  Wavelength  used  in  diffraction  of  X-rays  by  Powder  Method,  m\n",
    "lamb  =  1.54e-010; \n",
    " #  Declare  a  function  for  converting  angle  into  degrees  and  minutes\n",
    "\n",
    "\n",
    "\n",
    "#Calculations and Results\n",
    "\n",
    " #  Calculate  the  hkl  and  hence  interpalnar  spacing \n",
    "# 'd'  for  three  lowest  powder  lines\n",
    "print\"\\nThe  Bragg  angles  and  the  indices  of  diffraction \"\n",
    "print\" for  the  three  lowest  powder  lines  are:\"\n",
    "for  h  in range (0,3):\n",
    "    p=(h%2)\n",
    "    for  k in range (0,3):\n",
    "        q=(k%2)\n",
    "        for  l in range (0,2):\n",
    "            r=(l%2)\n",
    "            if (((p==1 and q==1 and r==1))or((p==0 and q==0 and r==0))):\n",
    "                if  (h  <>  0):\n",
    "                    N  =  h**2+k**2+l**2;\n",
    "                    d=(a/(N)**0.5);\n",
    "                    #  Interplanar  spacing,  metre\n",
    "                    theta  =  math.asin(n*lamb/(2*d));\n",
    "                    de=( int(math.degrees(theta)));\n",
    "                    m=((math.degrees(theta)-int(math.degrees(theta)))*60)\n",
    "                    #  Call  conversion  function\n",
    "                    print \"\\nd[\",h,  k,  l,\"]  =\"\n",
    "                    print round((d*10**10),2)*10**-10,\"and  theta\"\n",
    "                    print\"[\", h,  k,  l,\"]  =\",de,\" deg\",round(m,2),\" min\"\n",
    "                                 \n"
   ]
  },
  {
   "cell_type": "markdown",
   "metadata": {},
   "source": [
    "## Exa 8.14"
   ]
  },
  {
   "cell_type": "code",
   "execution_count": 14,
   "metadata": {
    "collapsed": false
   },
   "outputs": [
    {
     "name": "stdout",
     "output_type": "stream",
     "text": [
      "\n",
      "The minimum distance from the centre of the Laue pattern \n",
      "at which reflections can occur from the planes of maximum spacing =\n",
      "0.48 cm\n"
     ]
    }
   ],
   "source": [
    "from __future__ import division\n",
    "import math\n",
    " # Python code Ex8.14: Minimum distance from the centre of the Laue pattern  \n",
    " #of an fcc crystal Page 289 (2010)\n",
    " \n",
    " \n",
    " \n",
    "#Variable declaration\n",
    "  \n",
    "n = 1;                                  # Consider the first order diffraction\n",
    "a = 4.5e-010;                           # Lattice parameter for fcc lattice, m\n",
    "V = 50e+03;              # Potential difference across the X-ray tube, volt\n",
    "D = 5;                                  # Crystal to film distance, cm \n",
    "h = 1 ;                    # Incides for the planes of maximum spacing\n",
    "k = 1 \n",
    "l = 1\n",
    "\n",
    "\n",
    "\n",
    "#Calculation\n",
    "\n",
    "lambda_min = 1.24e-06/V;        # The cut-off wavelength of X-rays, m\n",
    "d_111 = a/(h**1+k**2+l**2)**0.5;\n",
    "theta_111 = math.asin(n*lambda_min/(2*d_111));\n",
    " # As tan(2*theta_111) = x/D, solving for x\n",
    "x = D*math.tan((2*theta_111));#Minimum distance from the centre of Laue pattern\n",
    "\n",
    "#Result\n",
    "\n",
    "print\"\\nThe minimum distance from the centre of the Laue pattern \"\n",
    "print\"at which reflections can occur from the planes of maximum spacing =\"\n",
    "print round(x,2),\"cm\""
   ]
  },
  {
   "cell_type": "markdown",
   "metadata": {},
   "source": [
    "## Exa 8.15"
   ]
  },
  {
   "cell_type": "code",
   "execution_count": 15,
   "metadata": {
    "collapsed": false
   },
   "outputs": [
    {
     "name": "stdout",
     "output_type": "stream",
     "text": [
      "\n",
      "The unit cell height of the crystal =\n",
      "16.01 angstrom\n"
     ]
    }
   ],
   "source": [
    "from __future__ import division\n",
    "import math\n",
    " # Python code Ex8.15: Calculating unit cell height along the axis \n",
    " #of a rotation photograph Page 291 (2010)\n",
    " \n",
    " \n",
    "#Variable declaration\n",
    "  \n",
    " \n",
    "n = 1; # Consider the first order diffraction of X-rays\n",
    " # An array of heights of first six layers above(below) the zero layer, cm\n",
    "S = [0.29,0.59,0.91,1.25,1.65,2.12];\n",
    "R = 3; # Radius of the camera, cm\n",
    "lamb = 1.54e-08; # Wavelength of the X-rays, cm\n",
    "\n",
    "\n",
    "#Calculation\n",
    "\n",
    " # For an a-axis rotation photograph, the unit cell parameter is given by\n",
    " # a = n*lambda/S(n)*(R**2 + S(n)**2)**(1/2) \n",
    " # Calculate 'a' for six different values of n from 1 to 6\n",
    "a=[]\n",
    "for f in range(0,6):\n",
    " a.append((n*lamb/S[f])*(R**2 + S[f]**2)**(1/2));\n",
    " \n",
    " \n",
    "#Result \n",
    "\n",
    "print\"\\nThe unit cell height of the crystal =\"\n",
    "print round(a[0]/(1*10**(-8)),2),\"angstrom\", \n",
    "\n",
    " "
   ]
  },
  {
   "cell_type": "markdown",
   "metadata": {},
   "source": [
    "## Exa 8.16"
   ]
  },
  {
   "cell_type": "code",
   "execution_count": 16,
   "metadata": {
    "collapsed": false
   },
   "outputs": [
    {
     "name": "stdout",
     "output_type": "stream",
     "text": [
      "\n",
      "The effective temperature of neutrons = 168.82 K\n"
     ]
    }
   ],
   "source": [
    "from __future__ import division\n",
    "import math\n",
    " # Python code Ex8.16: Diffraction of thermal neutrons from planes\n",
    "# of Ni crystal Page 294 (2010)\n",
    "\n",
    "\n",
    " \n",
    "#Variable declaration\n",
    " \n",
    "\n",
    "k = 1.38e-023; # Boltzmann constant, J/mol/K\n",
    "h = 6.626e-034; # Planck's constant, Js\n",
    "theta = 28.5; # Bragg's angle, degree\n",
    "a = 3.52e-010; # Lattice parameter of fcc structure of nickel, m\n",
    "m_n = 1.67e-027; # Rest mass of neutron, kg\n",
    "\n",
    "#Calcultion\n",
    "\n",
    " # For fcc lattice, the interplanar spacing is given by\n",
    "d = a/(3)**0.5; # Interplanar spacing of Ni, m\n",
    " # Bragg's equation for first order diffraction (n = 1) is\n",
    "lamb = 2*d*math.sin(math.radians(theta)); # Bragg's law, m\n",
    " # From kinetic interpretaion of temperature, we have\n",
    " # (1/2)*m*v**2 = (3/2)*k*T -- (a)\n",
    " # Further from de-Broglie relation\n",
    " # lambda = h/(m*v) -- (b)\n",
    " # From (a) and (b), solving for T, we have\n",
    "T = h**2/(3*m_n*k*lamb**2); # Effective temperature of the neutrons, K\n",
    "\n",
    "#Result\n",
    "\n",
    "print\"\\nThe effective temperature of neutrons =\",round(T,2),\"K\"\n",
    "                                                                                "
   ]
  },
  {
   "cell_type": "markdown",
   "metadata": {},
   "source": [
    "## Exa 8.17"
   ]
  },
  {
   "cell_type": "code",
   "execution_count": 17,
   "metadata": {
    "collapsed": false
   },
   "outputs": [
    {
     "name": "stdout",
     "output_type": "stream",
     "text": [
      "\n",
      "The Bragg angle for electron diffraction = 19 deg 50.68 min\n"
     ]
    }
   ],
   "source": [
    "from __future__ import division\n",
    "import math\n",
    "#Python code Ex8.17:Diffraction of electrons from fcc crystal planes Page 295\n",
    "\n",
    " \n",
    "#Variable declaration\n",
    " \n",
    " # Declare a function for converting angle into degrees and minutes\n",
    "\n",
    "h = 6.626e-034; # Planck's constant, Js\n",
    "m = 9.1e-031; # Rest mass of electron, kg\n",
    "e = 1.602e-019; # charge on an electron, coulomb\n",
    "a = 3.5e-010; # Lattice parameter of fcc crystal, m\n",
    "V = 80; # Accelerating potential for electrons, volt\n",
    "\n",
    "#Calculations\n",
    "\n",
    "lamb = h/(2*m*e*V)**0.5; # de-Broglie wavelength of electrons, m\n",
    "d_111 = a/(3)**0.5; # Interplanar spacing for (111) planes of fcc crystal, m\n",
    " # Bragg's equation for first order diffraction (n = 1) is\n",
    " # lambda = 2*d_111*math.sin(math.degrees(theta_111)); // Bragg's law, m\n",
    "theta_111 = math.asin(lamb/(2*d_111)); # Bragg's angle, degree\n",
    "de=( int(math.degrees(theta_111)));\n",
    "# Call conversion function\n",
    "m=((math.degrees(theta_111)-int(math.degrees(theta_111)))*60) \n",
    "\n",
    "\n",
    "#Result\n",
    "\n",
    "print\"\\nThe Bragg angle for electron diffraction =\",de,\"deg\",round(m,2),\"min\"\n",
    " "
   ]
  }
 ],
 "metadata": {
  "kernelspec": {
   "display_name": "Python 2",
   "language": "python",
   "name": "python2"
  },
  "language_info": {
   "codemirror_mode": {
    "name": "ipython",
    "version": 2
   },
   "file_extension": ".py",
   "mimetype": "text/x-python",
   "name": "python",
   "nbconvert_exporter": "python",
   "pygments_lexer": "ipython2",
   "version": "2.7.6"
  }
 },
 "nbformat": 4,
 "nbformat_minor": 0
}
