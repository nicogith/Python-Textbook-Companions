{
 "metadata": {
  "name": ""
 },
 "nbformat": 3,
 "nbformat_minor": 0,
 "worksheets": [
  {
   "cells": [
    {
     "cell_type": "markdown",
     "metadata": {},
     "source": [
      "<h1>Chapter 13: SIMILITUDE, DIMENSIONAL ANALYSIS, AND MODELING</h1>"
     ]
    },
    {
     "cell_type": "markdown",
     "metadata": {},
     "source": [
      "<h2>Example 13.02, page: 307</h2>"
     ]
    },
    {
     "cell_type": "code",
     "collapsed": false,
     "input": [
      "from __future__ import division\n",
      "import math\n",
      "\n",
      "# Initialization  of  Variable\n",
      "Dm = 8 #in\n",
      "wm = 1200 #rev/min\n",
      "Qm = 2.33 #ft3/s\n",
      "pm = 1.94 #slug/ft3\n",
      "Wpmdot = 12 #hp\n",
      "D = 12 #in\n",
      "w = 1000 #rev/min\n",
      "\n",
      "#calculations:\n",
      "#the prototype volumetric flow rate\n",
      "Q = Qm*(w/wm)*(D/Dm)**3\n",
      "p = pm\n",
      "#the prototype power\n",
      "Wpdot = (p/pm)*(w/wm)**3*(D/Dm)**5*Wpmdot\n",
      "\n",
      "#Results\n",
      "print  \"the power required is\", round(Wpdot,1),\"hp\"\n"
     ],
     "language": "python",
     "metadata": {},
     "outputs": [
      {
       "output_type": "stream",
       "stream": "stdout",
       "text": [
        "the power required is 52.7 hp\n"
       ]
      }
     ],
     "prompt_number": 1
    }
   ],
   "metadata": {}
  }
 ]
}