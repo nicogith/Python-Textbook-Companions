{
 "metadata": {
  "name": ""
 },
 "nbformat": 3,
 "nbformat_minor": 0,
 "worksheets": [
  {
   "cells": [
    {
     "cell_type": "markdown",
     "metadata": {},
     "source": [
      "<h1>Chapter 5: CONTROL VOLUME ANALYSIS USING ENERGY</h1>"
     ]
    },
    {
     "cell_type": "markdown",
     "metadata": {},
     "source": [
      "<h2>Example 5.01, page: 98</h2>"
     ]
    },
    {
     "cell_type": "code",
     "collapsed": false,
     "input": [
      "from __future__ import division\n",
      "import math\n",
      "\n",
      "# Initialization  of  Variable\n",
      "P1 = 7 #bar\n",
      "T1 = 200 #deg C\n",
      "m1dot = 40 #kg/s\n",
      "P2 = 7 #bar\n",
      "T2 = 40 #degC\n",
      "A2 = 25 #cm2\n",
      "P3 = 7 #bar\n",
      "vdot = 0.06 #m3/s\n",
      "\n",
      "#calculations:\n",
      "#from Table T-3, specific vol\n",
      "v3 = 1.108E-3 #m3/kg\n",
      "m3dot = vdot/v3\n",
      "\n",
      "m2dot = m3dot - m1dot\n",
      "\n",
      "#from table T-2,\n",
      "v2 = 1.0078E-3 #m3/kg\n",
      "V2 = m2dot*v2*10000/A2\n",
      "\n",
      "#Results\n",
      "print  \"mass  flow  rate at inlet 2 is\", round(m2dot,2),\"kg/s and at exit is\",round(m3dot,2),\"kg/s\"\n",
      "print  \"velocity at inlet 2 is\", round(V2,1),\"m/s\"\n"
     ],
     "language": "python",
     "metadata": {},
     "outputs": [
      {
       "output_type": "stream",
       "stream": "stdout",
       "text": [
        "mass  flow  rate at inlet 2 is 14.15 kg/s and at exit is 54.15 kg/s\n",
        "velocity at inlet 2 is 5.7 m/s\n"
       ]
      }
     ],
     "prompt_number": 1
    },
    {
     "cell_type": "markdown",
     "metadata": {},
     "source": [
      "<h2>Example 5.02, page: 99</h2>"
     ]
    },
    {
     "cell_type": "code",
     "collapsed": false,
     "input": [
      "from __future__ import division\n",
      "import math\n",
      "%pylab inline\n",
      "\n",
      "# Initialization  of  Variable\n",
      "midot = 30 #lb/s\n",
      "A = 3 #ft2\n",
      "p = 62.4 #lb/ft2\n",
      "\n",
      "#calculations:\n",
      "#creating empty lists for plotting\n",
      "L = []\n",
      "t = []\n",
      "\n",
      "for h in range(1200):\n",
      "    t.append((h-1)/10)\n",
      "    k=(h-1)/10\n",
      "    L.append(3.33*(1 - math.e**(-9*k/(p*A))))\n",
      "\n",
      "#Results\n",
      "# plots\n",
      "fig  = plt.figure()\n",
      "ax = fig.add_subplot(1, 1, 1)\n",
      "ax.plot(t,L)\n",
      "xlabel('Time, s')\n",
      "ylabel('Height, ft')\n",
      "title('Liquid Height vs Time')\n",
      "show()"
     ],
     "language": "python",
     "metadata": {},
     "outputs": [
      {
       "output_type": "stream",
       "stream": "stdout",
       "text": [
        "Populating the interactive namespace from numpy and matplotlib\n"
       ]
      },
      {
       "metadata": {},
       "output_type": "display_data",
       "png": "[encoded data removed]",
       "text": [
        "<matplotlib.figure.Figure at 0x9808c88>"
       ]
      }
     ],
     "prompt_number": 12
    },
    {
     "cell_type": "markdown",
     "metadata": {},
     "source": [
      "<h2>Example 5.03, page: 105</h2>"
     ]
    },
    {
     "cell_type": "code",
     "collapsed": false,
     "input": [
      "from __future__ import division\n",
      "import math\n",
      "\n",
      "# Initialization  of  Variable\n",
      "P1 = 40 #bar\n",
      "T1 = 400 #degC\n",
      "V1 = 10 #m/s\n",
      "P2 = 15 #bar\n",
      "V2 = 665 #m/s\n",
      "mdot = 2 #kg/s\n",
      "\n",
      "#calculations:\n",
      "#specific potential energy at 1 is\n",
      "h1 = 3213.6 #kJ/kg\n",
      "#at 2\n",
      "h2 = h1 + (V1**2 - V2**2)/2\n",
      "\n",
      "#From Table T-4\n",
      "v2 = 0.1627 #m3/kg\n",
      "\n",
      "#exit area:\n",
      "A2 = mdot*v2/V2\n",
      "\n",
      "#Results\n",
      "print  \"Exit Area is\", round(A2,6),\"m2\"\n"
     ],
     "language": "python",
     "metadata": {},
     "outputs": [
      {
       "output_type": "stream",
       "stream": "stdout",
       "text": [
        "Exit Area is 0.000489 m2\n"
       ]
      }
     ],
     "prompt_number": 2
    },
    {
     "cell_type": "markdown",
     "metadata": {},
     "source": [
      "<h2>Example 5.04, page: 107</h2>"
     ]
    },
    {
     "cell_type": "code",
     "collapsed": false,
     "input": [
      "from __future__ import division\n",
      "import math\n",
      "\n",
      "# Initialization  of  Variable\n",
      "mdot = 4600 #kg/h\n",
      "Wdot = 1000 #kW\n",
      "P1 = 60 #bar\n",
      "T1 = 400 #degC\n",
      "V1 = 40 #m/s\n",
      "P2 = 0.1 #bar\n",
      "x2 = 0.9\n",
      "V2 = 50 #m/s\n",
      "\n",
      "#calculations:\n",
      "#from table T-4, specific enthalpy\n",
      "h1 = 3177.2 #kJ/kg\n",
      "#From table T-3,\n",
      "hf2 = 191.83 #kJ/kg\n",
      "hg2 = 2584.63 #kJ/kg\n",
      "\n",
      "h2 = hf2 + x2*(hg2-hf2)\n",
      "\n",
      "#rate of heat transfer\n",
      "Qdot = Wdot + mdot*(h2 - h1 + (V2**2 - V1**2)/2000)/3600\n",
      "\n",
      "#Results\n",
      "print  \"rate of heat transfer is\", round(Qdot,1),\"kW\"\n",
      "#answer wrong in book\n"
     ],
     "language": "python",
     "metadata": {},
     "outputs": [
      {
       "output_type": "stream",
       "stream": "stdout",
       "text": [
        "rate of heat transfer is -62.3 kW\n"
       ]
      }
     ],
     "prompt_number": 3
    },
    {
     "cell_type": "markdown",
     "metadata": {},
     "source": [
      "<h2>Example 5.05, page: 109</h2>"
     ]
    },
    {
     "cell_type": "code",
     "collapsed": false,
     "input": [
      "from __future__ import division\n",
      "import math\n",
      "\n",
      "# Initialization  of  Variable\n",
      "P1 = 1 #bar\n",
      "T1 = 290 #K\n",
      "V1 = 6 #m/s\n",
      "A1 = 0.1 #m2\n",
      "P2 = 7 #bar\n",
      "T2 = 450 #K\n",
      "V2 = 2 #m/s\n",
      "Qdot = -180 #kJ/min\n",
      "R = 8314/28.97 #J/kg-K\n",
      "\n",
      "#calculations:\n",
      "#specific volume at 1\n",
      "v1 = R*T1/P1\n",
      "#mass flow rate\n",
      "mdot = A1*V1*1E5/v1\n",
      "\n",
      "#from table T-9\n",
      "h1 = 290.16 #kJ/kg\n",
      "h2 = 451.8 #kJ/kg\n",
      "#power required by the compressor\n",
      "Wdot = Qdot/60 + mdot*((h1-h2) + (V1**2 - V2**2)/2000)\n",
      "\n",
      "#Results\n",
      "print  \"power required by the compressor is\", round(Wdot,1),\"kW\" \n"
     ],
     "language": "python",
     "metadata": {},
     "outputs": [
      {
       "output_type": "stream",
       "stream": "stdout",
       "text": [
        "power required by the compressor is -119.5 kW\n"
       ]
      }
     ],
     "prompt_number": 4
    },
    {
     "cell_type": "markdown",
     "metadata": {},
     "source": [
      "<h2>Example 5.06, page: 110</h2>"
     ]
    },
    {
     "cell_type": "code",
     "collapsed": false,
     "input": [
      "from __future__ import division\n",
      "import math\n",
      "\n",
      "# Initialization  of  Variable\n",
      "T1 = 20 #degC\n",
      "P1 = 1 #atm\n",
      "Vdot = 0.1 #lt/s\n",
      "D1 = 2.5 #cm\n",
      "T2 = 23 #degC\n",
      "V2 = 50 #m/s\n",
      "z1 = 0 #m\n",
      "z2 = 5 #m\n",
      "x2 = 0.1\n",
      "c = 4.18 #kJ/kg-K\n",
      "g = 9.81 #m/s2\n",
      "\n",
      "#cqlculations:\n",
      "#from Table T-2, Specific volume at 1\n",
      "v = 1.0018E-3 #m3/kg\n",
      "#mass flow rate\n",
      "mdot = Vdot*1E-3/v\n",
      "#inlet Area\n",
      "A1 = math.pi*(D1**2)/4\n",
      "#inlet velocity\n",
      "V1 = Vdot/A1\n",
      "\n",
      "# power\n",
      "Wdot = (mdot/(1 - x2))*(c*(T1-T2) + (V1**2 - V2**2)/2000 + g*(z1 - z2)/1000)\n",
      "\n",
      "#Results\n",
      "print  \"power input is\", round(Wdot,2),\"kW\"\n"
     ],
     "language": "python",
     "metadata": {},
     "outputs": [
      {
       "output_type": "stream",
       "stream": "stdout",
       "text": [
        "power input is -1.53 kW\n"
       ]
      }
     ],
     "prompt_number": 5
    },
    {
     "cell_type": "markdown",
     "metadata": {},
     "source": [
      "<h2>Example 5.07, page: 111</h2>"
     ]
    },
    {
     "cell_type": "code",
     "collapsed": false,
     "input": [
      "from __future__ import division\n",
      "import math\n",
      "\n",
      "# Initialization  of  Variable\n",
      "P1 = 0.1 #bar\n",
      "x1 = 0.95\n",
      "P2 = 0.1 #bar\n",
      "T2 = 45 #deg C\n",
      "T3 = 20 #degC\n",
      "T4 = 35 #degC\n",
      "\n",
      "#calculations:\n",
      "#assumption\n",
      "Wdot = 0\n",
      "#from table T-3,\n",
      "hf1 = 191.83 #kJ/kg\n",
      "hf2 = 188.45 #kJ/kg\n",
      "hg1 = 2584.7 #kJ/kg\n",
      "h4_3 = 62.7 #kJ/kg\n",
      "#specific enthalpy\n",
      "h1 = hf1 + x1*(hg1-hf1)\n",
      "h2 = hf2\n",
      "\n",
      "#ratio of mdots\n",
      "m3dot_m1dot = (h1 - h2)/h4_3\n",
      "\n",
      "#rate of energy transfer from the condensing steam to the cooling water\n",
      "Qdotm = h2 - h1\n",
      "\n",
      "#Results\n",
      "print  \"a) ratio of the mass flow rate of the cooling water to the mass flow rate of the condensing stream is\", round(m3dot_m1dot,1)\n",
      "print  \"b) rate of energy transfer from the condensing steam to the cooling water is\",round(Qdotm,1),\"kJ/kg\" \n"
     ],
     "language": "python",
     "metadata": {},
     "outputs": [
      {
       "output_type": "stream",
       "stream": "stdout",
       "text": [
        "a) ratio of the mass flow rate of the cooling water to the mass flow rate of the condensing stream is 36.3\n",
        "b) rate of energy transfer from the condensing steam to the cooling water is -2276.6 kJ/kg\n"
       ]
      }
     ],
     "prompt_number": 6
    },
    {
     "cell_type": "markdown",
     "metadata": {},
     "source": [
      "<h2>Example 5.08, page: 113</h2>"
     ]
    },
    {
     "cell_type": "code",
     "collapsed": false,
     "input": [
      "from __future__ import division\n",
      "import math\n",
      "\n",
      "# Initialization  of  Variable\n",
      "T1 = 20 #degC\n",
      "P1 = 1 #bar\n",
      "V1 = 1.3 #m/s\n",
      "T2 = 32 #degC\n",
      "Pc = -80 #W\n",
      "Pf = -18 #W\n",
      "Cp = 1.005 #kJ/kg-K\n",
      "R = 8314/28.97 #J/kg-K\n",
      "\n",
      "#calculations:\n",
      "#assumptions\n",
      "Qdot = 0\n",
      "Wdot = Pc + Pf\n",
      "#inlet Area\n",
      "A1 = (1/V1)*(-1*Wdot/(Cp*(T2 - T1)*1000))*R*(T1+273)/101325\n",
      "\n",
      "D1 = ((4*A1/math.pi)**0.5)*100\n",
      "\n",
      "\n",
      "\n",
      "#Results\n",
      "print  \"smallest fan inlet diameter is\", round(D1,0),\"cm\"\n"
     ],
     "language": "python",
     "metadata": {},
     "outputs": [
      {
       "output_type": "stream",
       "stream": "stdout",
       "text": [
        "smallest fan inlet diameter is 8.0 cm\n"
       ]
      }
     ],
     "prompt_number": 7
    },
    {
     "cell_type": "markdown",
     "metadata": {},
     "source": [
      "<h2>Example 5.09, page: 115</h2>"
     ]
    },
    {
     "cell_type": "code",
     "collapsed": false,
     "input": [
      "from __future__ import division\n",
      "import math\n",
      "\n",
      "# Initialization  of  Variable\n",
      "P1 = 300 #lbf/in2\n",
      "P2 = 14.7 #lbf/in2\n",
      "T2 = 250 #degF\n",
      "\n",
      "#calculations:\n",
      "#From  TAble T-3E\n",
      "hf1 = 394.1 #Btu/lb\n",
      "hg1 = 1203.9 #Btu/lb\n",
      "#from Table T-4E\n",
      "h2 = 1168.8 #Btu/lb\n",
      "#Quality factor\n",
      "x1 = (h2-hf1)/(hg1-hf1)\n",
      "\n",
      "#Results\n",
      "print  \"quality in the line is\", round(x1*100,1),\"%\"\n"
     ],
     "language": "python",
     "metadata": {},
     "outputs": [
      {
       "output_type": "stream",
       "stream": "stdout",
       "text": [
        "quality in the line is 95.7 %\n"
       ]
      }
     ],
     "prompt_number": 8
    },
    {
     "cell_type": "markdown",
     "metadata": {},
     "source": [
      "<h2>Example 5.10, page: 117</h2>"
     ]
    },
    {
     "cell_type": "code",
     "collapsed": false,
     "input": [
      "from __future__ import division\n",
      "import math\n",
      "\n",
      "# Initialization  of  Variable\n",
      "AV1 = 2E5 #ft3/min\n",
      "T1 = 400 #degF\n",
      "P1 = 1 #atm\n",
      "T2 = 260 #degF\n",
      "P2 = 1 #atm\n",
      "P3 = 40 #lbf/in2\n",
      "T3 = 102 #degF\n",
      "m3dot = 275 #lb/min\n",
      "P5 = 1 #lbf/in2\n",
      "x5 = 0.93\n",
      "cost = 0.08 #$/W\n",
      "t = 8000 #hrs\n",
      "R = 1545/28.97 #ft.lbf/lb-degR\n",
      "\n",
      "#calculations:\n",
      "#in Rankine\n",
      "T1r = (((T1-32)*5/9)+273)*1.8\n",
      "#mass flow rate at 1\n",
      "m1dot = AV1*(P1*14.7)*144/(R*T1r)\n",
      "#from Table T-9E\n",
      "h1 = 206.46 #Btu/lb\n",
      "h2 = 172.39 #Btu/lb\n",
      "#From Table T-2E\n",
      "h3 = 70 #Btu/lb\n",
      "#From Table T-3E\n",
      "hf5 = 69.74 #Btu/lb\n",
      "hg5 = 1105.74 #Btu/lb\n",
      "#enthapy at 5\n",
      "h5 = hf5 + x5*(hg5-hf5)\n",
      "#Power\n",
      "Wdot = m1dot*(h1-h2) + m3dot*(h3 - h5)\n",
      "\n",
      "#for temp T4\n",
      "h4 = h3 + (m1dot/m3dot)*(h1-h2)\n",
      "#from Table T-4E\n",
      "P4 = 40 #lbf/in2\n",
      "T4 = 354 #degF\n",
      "\n",
      "#total cost\n",
      "AnnVal = (Wdot*60/3413)*t*cost\n",
      "\n",
      "\n",
      "#From  TAble T-3E\n",
      "hf1 = 394.1 #Btu/lb\n",
      "hg1 = 1203.9 #Btu/lb\n",
      "#from Table T-4E\n",
      "h2 = 1168.8 #Btu/lb\n",
      "#Quality factor\n",
      "x1 = (h2-hf1)/(hg1-hf1)\n",
      "\n",
      "#Results\n",
      "print \"a) power developed by the turbine is\", round(Wdot,0),\"Btu/min\"\n",
      "print \"b) Turbine Inlet temperature is\", T4,\"degF\"\n",
      "print \"c) Annual Value of power developed is\", round(AnnVal,0),\"$/year\"\n",
      "#Answer wrong in book\n"
     ],
     "language": "python",
     "metadata": {},
     "outputs": [
      {
       "output_type": "stream",
       "stream": "stdout",
       "text": [
        "a) power developed by the turbine is 49822.0 Btu/min\n",
        "b) Turbine Inlet temperature is 354 degF\n",
        "c) Annual Value of power developed is 560548.0 $/year\n"
       ]
      }
     ],
     "prompt_number": 9
    }
   ],
   "metadata": {}
  }
 ]
}