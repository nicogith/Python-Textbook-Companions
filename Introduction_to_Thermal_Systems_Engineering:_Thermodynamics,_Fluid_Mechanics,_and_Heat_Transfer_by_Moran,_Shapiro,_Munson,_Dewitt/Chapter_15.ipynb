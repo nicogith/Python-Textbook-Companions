{
 "metadata": {
  "name": ""
 },
 "nbformat": 3,
 "nbformat_minor": 0,
 "worksheets": [
  {
   "cells": [
    {
     "cell_type": "markdown",
     "metadata": {},
     "source": [
      "<h1>Chapter 15: GETTING STARTED IN HEAT TRANSFER: MODES, RATE EQUATIONS AND ENERGY BALANCES</h1>"
     ]
    },
    {
     "cell_type": "markdown",
     "metadata": {},
     "source": [
      "<h2>Example 15.01, page: 343</h2>"
     ]
    },
    {
     "cell_type": "code",
     "collapsed": false,
     "input": [
      "from __future__ import division\n",
      "import math\n",
      "\n",
      "# Initialization  of  Variable\n",
      "k = 1.7 #W/m.K\n",
      "T1 = 1400 #K\n",
      "T2 = 1150 #K\n",
      "L = 0.15 #m\n",
      "W = 1.2 #m\n",
      "H = 0.5 #m\n",
      "\n",
      "#calculations:\n",
      "qx2 = k*(T1-T2)/L\n",
      "#heat flux\n",
      "qx = H*W*qx2\n",
      "\n",
      "#Results\n",
      "print  \"the rate of heat transfer through a wall is\", qx,\"W\"\n"
     ],
     "language": "python",
     "metadata": {},
     "outputs": [
      {
       "output_type": "stream",
       "stream": "stdout",
       "text": [
        "the rate of heat transfer through a wall is 1700.0 W\n"
       ]
      }
     ],
     "prompt_number": 1
    },
    {
     "cell_type": "markdown",
     "metadata": {},
     "source": [
      "<h2>Example 15.02, page: 347</h2>"
     ]
    },
    {
     "cell_type": "code",
     "collapsed": false,
     "input": [
      "from __future__ import division\n",
      "import math\n",
      "\n",
      "# Initialization  of  Variable\n",
      "Tinf = 25 #degC\n",
      "h = 15 #W/m2.K\n",
      "D = 70 #mm\n",
      "Ts = 200 #degC\n",
      "e = 0.8\n",
      "Tsur = 25 #degC\n",
      "sigma = 5.67E-8 #W/m2.K4\n",
      "\n",
      "#calculations:\n",
      "E = e*sigma*(Ts + 273)**4\n",
      "G = sigma*(Tsur + 273)**4\n",
      "#heat transfer per Unit length\n",
      "q1 = h*(math.pi*D/1000)*(Ts - Tinf) + e*(math.pi*D/1000)*sigma*((Ts+273)**4 - (Tsur+273)**4)\n",
      "\n",
      "#Results\n",
      "print \"Emissive Power, E =\", round(E,0),\"W/m2\"\n",
      "print  \"Irradiation, G =\", round(G,0),\"W/m2\"\n",
      "print  \"Heat  transfer  per  unit  length, q' = \", round(q1,0),\"W/m\"\n"
     ],
     "language": "python",
     "metadata": {},
     "outputs": [
      {
       "output_type": "stream",
       "stream": "stdout",
       "text": [
        "Emissive Power, E = 2270.0 W/m2\n",
        "Irradiation, G = 447.0 W/m2\n",
        "Heat  transfer  per  unit  length, q' =  998.0 W/m\n"
       ]
      }
     ],
     "prompt_number": 2
    },
    {
     "cell_type": "markdown",
     "metadata": {},
     "source": [
      "<h2>Example 15.05, page: 352</h2>"
     ]
    },
    {
     "cell_type": "code",
     "collapsed": false,
     "input": [
      "from __future__ import division\n",
      "import math\n",
      "\n",
      "# Initialization  of  Variable\n",
      "k = 1.2 #W/m.K\n",
      "T2 = 100 #degC\n",
      "e = 0.8\n",
      "L = 0.15 #m\n",
      "Tinf = 25 #degC\n",
      "Tsur = 25 #degC\n",
      "h = 20 #W/m2.K\n",
      "sigma = 5.67E-8 #W/m2.K4\n",
      "\n",
      "#calculations:\n",
      "#inner wall temperature\n",
      "T1 = T2 + 273 + L/k*(h*(T2 - Tinf) + e*sigma*((T2+273)**4 - (Tsur+273)**4))\n",
      "\n",
      "#Results\n",
      "print  \"inner  wall  temperature is\", round(T1,0),\"K\"\n"
     ],
     "language": "python",
     "metadata": {},
     "outputs": [
      {
       "output_type": "stream",
       "stream": "stdout",
       "text": [
        "inner  wall  temperature is 626.0 K\n"
       ]
      }
     ],
     "prompt_number": 3
    },
    {
     "cell_type": "markdown",
     "metadata": {},
     "source": [
      "<h2>Example 15.06, page: 353</h2>"
     ]
    },
    {
     "cell_type": "code",
     "collapsed": false,
     "input": [
      "from __future__ import division\n",
      "import math\n",
      "\n",
      "# Initialization  of  Variable\n",
      "Tsur = 30 #degC\n",
      "Tinf = 20 #degC\n",
      "h = 15 #W/m2.K\n",
      "Glamp = 2000 #W/m2\n",
      "alamp = 0.8\n",
      "e = 0.5\n",
      "sigma = 5.67E-8 #W/m2.K4\n",
      "\n",
      "#calculations:\n",
      "#coating Temp\n",
      "Ts = Tinf + 273 + (alamp*Glamp - e*sigma*((104+273)**4 - (Tsur+273)**4))/h\n",
      "\n",
      "#Results\n",
      "print \"coating Temperature is\", round(Ts,0),\"K\"\n"
     ],
     "language": "python",
     "metadata": {},
     "outputs": [
      {
       "output_type": "stream",
       "stream": "stdout",
       "text": [
        "coating Temperature is 377.0 K\n"
       ]
      }
     ],
     "prompt_number": 4
    }
   ],
   "metadata": {}
  }
 ]
}