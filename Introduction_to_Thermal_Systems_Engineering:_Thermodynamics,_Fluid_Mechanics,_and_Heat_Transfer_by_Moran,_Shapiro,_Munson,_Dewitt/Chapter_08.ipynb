{
 "metadata": {
  "name": ""
 },
 "nbformat": 3,
 "nbformat_minor": 0,
 "worksheets": [
  {
   "cells": [
    {
     "cell_type": "markdown",
     "metadata": {},
     "source": [
      "<h1>Chapter 8: VAPOR POWER AND REFRIGERATION SYSTEMS</h1>"
     ]
    },
    {
     "cell_type": "markdown",
     "metadata": {},
     "source": [
      "<h2>Example 8.01, page: 190</h2>"
     ]
    },
    {
     "cell_type": "code",
     "collapsed": false,
     "input": [
      "from __future__ import division\n",
      "import math\n",
      "\n",
      "# Initialization  of  Variable\n",
      "P1 = 8E6 #Pa\n",
      "P2 = 0.008E6 #Pa\n",
      "Wtdot = 100E6 #W\n",
      "T1 = 15 #degC\n",
      "T2 = 35 #degC\n",
      "\n",
      "#Calculations:\n",
      "#from Table T-3\n",
      "h1 = 2758.0 #kJ/kg\n",
      "s1 = 5.7432 #kJ/kg-K\n",
      "sf = 0.5926 #kJ/kg-K\n",
      "sg = 8.2287 #kJ/kg-K\n",
      "s2 = s1\n",
      "hf = 173.88 #kJ/kg\n",
      "hfg = 2403.1 #kJ/kg\n",
      "#qualty at 2\n",
      "x2 = (s2 - sf)/(sg - sf)\n",
      "#enthalpy at 2\n",
      "h2 = hf + x2*hfg\n",
      "#from Table T-3\n",
      "h3 = 173.88 #kJ/kg\n",
      "v3 = 1.0084E-3 #specific vol in m3/kg\n",
      "P4 = P1\n",
      "P3 = P2\n",
      "#enthalpy at 4\n",
      "h4 = h3 + v3*(P4 - P3)/1000\n",
      "\n",
      "#thermal Efficiency\n",
      "n = ((h1-h2)-(h4-h3))/(h1-h4)\n",
      "#back work ratio\n",
      "bwr = (h4-h3)/(h1-h2)\n",
      "#mass flow rate of steam\n",
      "mdot = Wtdot*3.600/((h1-h2)-(h4-h3))\n",
      "#heat transfer rate in to the working fluid through the boiler\n",
      "Qindot = mdot*(h1-h4)/3600000\n",
      "#heat transfer rate fromom the condensing steam as it passes through the condenser\n",
      "Qoutdot = mdot*(h2 - h3)/3600000\n",
      "#mass flow rate of the condenser cooling water\n",
      "#from Table T-2\n",
      "hcwout = 146.68 #kJ/kg\n",
      "hcwin = 62.99 #kJ/kg\n",
      "#\n",
      "mcwdot = mdot*(h2 - h3)/(hcwout - hcwin)\n",
      "\n",
      "#Results\n",
      "print  \"a)thermal  efficiency  is\", round(n*100,1),\"%\"\n",
      "print  \"b)back  work  ratio  is\", round(bwr*100,2),\"%\"\n",
      "print  \"c)mass  flow  rate  of steam is\", round(mdot,0),\"kg/h\"\n",
      "print  \"d)energy  inflow  rate  is\",round(Qindot,2),\"MW\"\n",
      "print  \"e)energy  outflow  rate  is\",round(Qoutdot,2),\"MW\"\n",
      "print  \"f)mass  flow  rate  of cooling water is\",round(mcwdot,0),\"kg/h\"\n"
     ],
     "language": "python",
     "metadata": {},
     "outputs": [
      {
       "output_type": "stream",
       "stream": "stdout",
       "text": [
        "a)thermal  efficiency  is 37.1 %\n",
        "b)back  work  ratio  is 0.84 %\n",
        "c)mass  flow  rate  of steam is 376903.0 kg/h\n",
        "d)energy  inflow  rate  is 269.7 MW\n",
        "e)energy  outflow  rate  is 169.7 MW\n",
        "f)mass  flow  rate  of cooling water is 7299844.0 kg/h\n"
       ]
      }
     ],
     "prompt_number": 2
    },
    {
     "cell_type": "markdown",
     "metadata": {},
     "source": [
      "<h2>Example 8.02, page: 196</h2>"
     ]
    },
    {
     "cell_type": "code",
     "collapsed": false,
     "input": [
      "from __future__ import division\n",
      "import math\n",
      "\n",
      "# Initialization  of  Variable\n",
      "P1 = 8E6 #Pa\n",
      "P2 = 0.008E6 #Pa\n",
      "Wtdot = 100E6 #W\n",
      "T1 = 15 #degC\n",
      "T2 = 35 #degC\n",
      "nt = 0.85\n",
      "\n",
      "#Calculations:\n",
      "#from Table T-3\n",
      "h1 = 2758.0 #kJ/kg\n",
      "s1 = 5.7432 #kJ/kg-K\n",
      "h2s = 1794.8 #kJ/kg\n",
      "#specific enthalpy at 2\n",
      "h2 = h1 - nt*(h1 - h2s)\n",
      "#from Table T-3\n",
      "h3 = 173.88 #kJ/kg\n",
      "v3 = 1.0084E-3 #specific vol in m3/kg\n",
      "P4 = P1\n",
      "P3 = P2\n",
      "#enthalpy at 4\n",
      "h4 = h3 + v3*(P4 - P3)/(1000*nt)\n",
      "\n",
      "#thermal Efficiency\n",
      "n = ((h1-h2)-(h4-h3))/(h1-h4)\n",
      "#mass flow rate of steam\n",
      "mdot = Wtdot*3.600/((h1-h2)-(h4-h3))\n",
      "#heat transfer rate in to the working fluid through the boiler\n",
      "Qindot = mdot*(h1-h4)/3600000\n",
      "#heat transfer rate fromom the condensing steam as it passes through the condenser\n",
      "Qoutdot = mdot*(h2 - h3)/3600000\n",
      "#mass flow rate of the condenser cooling water\n",
      "#from Table T-2\n",
      "hcwout = 146.68 #kJ/kg\n",
      "hcwin = 62.99 #kJ/kg\n",
      "#\n",
      "mcwdot = mdot*(h2 - h3)/(hcwout - hcwin)\n",
      "\n",
      "#Results\n",
      "print  \"a)thermal  efficiency  is\", round(n*100,1),\"%\"\n",
      "print  \"b)mass  flow  rate  of steam is\", round(mdot,0),\"kg/h\"\n",
      "print  \"c)energy  inflow  rate  is\",round(Qindot,1),\"MW\"\n",
      "print  \"d)energy  outflow  rate  is\",round(Qoutdot,1),\"MW\"\n",
      "print  \"e)mass  flow  rate  of cooling water is\",round(mcwdot,0),\"kg/h\"\n",
      "\n"
     ],
     "language": "python",
     "metadata": {},
     "outputs": [
      {
       "output_type": "stream",
       "stream": "stdout",
       "text": [
        "a)thermal  efficiency  is 31.4 %\n",
        "b)mass  flow  rate  of steam is 444863.0 kg/h\n",
        "c)energy  inflow  rate  is 318.2 MW\n",
        "d)energy  outflow  rate  is 218.2 MW\n",
        "e)mass  flow  rate  of cooling water is 9384161.0 kg/h\n"
       ]
      }
     ],
     "prompt_number": 3
    },
    {
     "cell_type": "markdown",
     "metadata": {},
     "source": [
      "<h2>Example 8.03, page: 199</h2>"
     ]
    },
    {
     "cell_type": "code",
     "collapsed": false,
     "input": [
      "from __future__ import division\n",
      "import math\n",
      "%pylab inline\n",
      "\n",
      "# Initialization  of  Variable\n",
      "P1 = 8 #MPa\n",
      "T1 = 480 #degC\n",
      "P2 = 0.7 #MPa\n",
      "T2 = 480 #degC\n",
      "Pcond = 0.008 #Mpa\n",
      "T3 = 440 #degC\n",
      "Wtdot = 100 #MW\n",
      "nt = 0.85\n",
      "\n",
      "#calculations:\n",
      "##from Table T-4\n",
      "h1 = 3348.4 #kJ/kg\n",
      "s1 = 6.6586 #kJ/kg-K\n",
      "s2 = s1\n",
      "sf2 = 1.9922 #kJ/kg-K\n",
      "sg2 = 6.708 #kJ/kg-K\n",
      "hf2 = 697.22 #kJ/kg\n",
      "hfg2 = 2066.3 #kJ/kg\n",
      "#quality at 2\n",
      "x2 = (s2 - sf2)/(sg2 - sf2)\n",
      "#Enthalpy at 2\n",
      "h2 = hf2 + x2*hfg2\n",
      "\n",
      "#from Table T-4\n",
      "h3 = 3353.3 #kJ/kg\n",
      "s3 = 7.7571 #kJ/kg-K\n",
      "s4 = s3\n",
      "sf4 = 0.5926 #kJ/kg-K\n",
      "sg4 = 8.2287 #kJ/kg-K\n",
      "hf4 = 173.88 #kJ/kg\n",
      "hfg4 = 2403.1 #kJ/kg\n",
      "#quality at 4\n",
      "x4 = (s4 - sf4)/(sg4 - sf4)\n",
      "#enthalpy\n",
      "h4 = hf4 + x4*hfg4\n",
      "\n",
      "#from table T-4\n",
      "h5 = 173.88 #kJ/kg\n",
      "h6 = 181.94 #kJ/kg\n",
      "\n",
      "#thermal eff\n",
      "n1 = (h1 - h2 + h3 - h4 - h6 + h5)/(h1 - h6 + h3 - h2)\n",
      "#mass flow rate of steam\n",
      "mdot = Wtdot*3600*1000/(h1 - h2 + h3 - h4 - h6 + h5)\n",
      "#rate of heat transfer from the condensing steam to the cooling water\n",
      "Qoutdot = mdot*(h4 - h5)/(3600*1000)\n",
      "\n",
      "h2s = h2\n",
      "h4s = h4\n",
      "#specific enthalpy at the exit of the first-stage turbine\n",
      "h2 = h1 - nt*(h1 - h2s)\n",
      "#specific enthalpy at the exit of the second-stage turbine\n",
      "h4 = h3 - nt*(h3 - h4s)\n",
      "\n",
      "#thermal efficiency\n",
      "n2 = (h1 - h2 + h3 - h4 - h6 + h5)/(h1 - h6 + h3 - h2)\n",
      "\n",
      "#creating empty lists for plotting\n",
      "cte = []\n",
      "ite = []\n",
      "\n",
      "for t in range(0, 16):\n",
      "    ite.append((t+85)/100)\n",
      "    k=(t+85)/100\n",
      "    h2 = h1 - k*(h1 - h2s)\n",
      "    h4 = h3 - k*(h3 - h4s)\n",
      "    cte.append((h1 - h2 + h3 - h4 - h6 + h5)/(h1 - h6 + h3 - h2))\n",
      "    \n",
      "# plots\n",
      "fig  = plt.figure()\n",
      "ax = fig.add_subplot(1, 1, 1)\n",
      "ax.plot(ite,cte)\n",
      "xlabel('Isentropic Turbine Efficiency')\n",
      "ylabel('Cycle thermal efficiency')\n",
      "title('Thermal efficiency vs Turbine stage efficiency')\n",
      "show()\n",
      "\n",
      "#Results\n",
      "print  \"a)thermal  efficiency  is\", round(n1*100,1),\"%\"\n",
      "print  \"b)mass  flow  rate  of steam is\", round(mdot,0),\"kg/h\"\n",
      "print  \"c)energy  outflow  rate  is\", round(Qoutdot,0),\"MW\"\n",
      "print  \"d)thermal  efficiency  is\", round(n2*100,1),\"%\"\n"
     ],
     "language": "python",
     "metadata": {},
     "outputs": [
      {
       "output_type": "stream",
       "stream": "stdout",
       "text": [
        "Populating the interactive namespace from numpy and matplotlib\n"
       ]
      },
      {
       "metadata": {},
       "output_type": "display_data",
       "png": "[encoded data removed]",
       "text": [
        "<matplotlib.figure.Figure at 0x9b62eb8>"
       ]
      },
      {
       "output_type": "stream",
       "stream": "stdout",
       "text": [
        "a)thermal  efficiency  is 40.3 %\n",
        "b)mass  flow  rate  of steam is 236345.0 kg/h\n",
        "c)energy  outflow  rate  is 148.0 MW\n",
        "d)thermal  efficiency  is 35.1 %\n"
       ]
      }
     ],
     "prompt_number": 20
    },
    {
     "cell_type": "markdown",
     "metadata": {},
     "source": [
      "<h2>Example 8.04, page: 204</h2>"
     ]
    },
    {
     "cell_type": "code",
     "collapsed": false,
     "input": [
      "from __future__ import division\n",
      "import math\n",
      "\n",
      "# Initialization  of  Variable\n",
      "P1 = 8 #MPa\n",
      "T1 = 480 #degC\n",
      "P6 = 0.7 #MPa\n",
      "Pcond = 0.008 #Mpa\n",
      "Wtdot = 100 #MW\n",
      "nt = 0.85\n",
      "\n",
      "#calculations:\n",
      "#from example 8.3,\n",
      "h1 = 3348.4 #kJ/kg\n",
      "s1 = 6.6586 #kJ/kg-K\n",
      "s2 = 6.8606 #kJ/kg-K\n",
      "h2 = 2832.8 #kJ/kg\n",
      "h4 = 173.88 #kJ/kg\n",
      "s3s = s2\n",
      "#from Table T-4\n",
      "x3s = 0.8208\n",
      "h3s = 2146.3 #kJ/kg\n",
      "h6 = 697.22 #kJ/kg\n",
      "#enthalpy at 3, 5 and 7\n",
      "h3 = h2 - nt*(h2 - h3s)\n",
      "#\n",
      "P5 = P6\n",
      "P4 = Pcond\n",
      "P7 = P1\n",
      "v4 = 1.0084E-3 #specific vol in m3/kg\n",
      "v6 = 1.1080E-3 #in m3/kg\n",
      "#\n",
      "h5 = h4 + v4*(P5 - P4)*1000\n",
      "h7 = h6 + v6*(P7 - P6)*1000\n",
      "\n",
      "#fraction y of the flow extraced at 2\n",
      "y = (h6 - h5)/(h2 - h5)\n",
      "#total turbine work output\n",
      "Wtm1dot = (h1 - h2) + (1 - y)*(h2 - h3)\n",
      "#total pump work per unit of mass passing through the first-stage turbine\n",
      "Wpm1dot = (h7 - h6) + (1 - y)*(h5 - h4)\n",
      "#heat added in the steam generator per unit of mass passing through the first-stage turbine\n",
      "Qinm1dot = h1 - h7\n",
      "#thermal eff\n",
      "n = (Wtm1dot - Wpm1dot)/Qinm1dot\n",
      "#mass flow rate\n",
      "m1dot = Wtdot*3600*1000/(Wtm1dot - Wpm1dot)\n",
      "\n",
      "#Results\n",
      "print  \"a)thermal  efficiency  is\", round(n*100,1),\"%\"\n",
      "print  \"b)mass  flow  rate is\", round(m1dot,0),\"kg/h\" \n"
     ],
     "language": "python",
     "metadata": {},
     "outputs": [
      {
       "output_type": "stream",
       "stream": "stdout",
       "text": [
        "a)thermal  efficiency  is 36.9 %\n",
        "b)mass  flow  rate is 368948.0 kg/h\n"
       ]
      }
     ],
     "prompt_number": 5
    },
    {
     "cell_type": "markdown",
     "metadata": {},
     "source": [
      "<h2>Example 8.05, page: 211</h2>"
     ]
    },
    {
     "cell_type": "code",
     "collapsed": false,
     "input": [
      "from __future__ import division\n",
      "import math\n",
      "\n",
      "# Initialization  of  Variable\n",
      "Tc = 0 #degC\n",
      "Th = 26 #degC\n",
      "mdot = 0.08 #kg/s\n",
      "\n",
      "#calculations:\n",
      "#from Table T-6\n",
      "h1 = 247.33 #kJ/kg\n",
      "s1 = 0.9190 #kJ/kg-K\n",
      "P2 = 6.853 #bar\n",
      "h2s = 264.7 #kJ/kg\n",
      "h3 = 85.75 #kJ/kg\n",
      "h4 = h3\n",
      "#compressor work input\n",
      "Wcdot = mdot*(h2s - h1)\n",
      "#heat transfer rate to the refrigerant passing through the evaporator\n",
      "Qindot = mdot*60*(h1 - h4)/211\n",
      "#coeff of performance\n",
      "b = (h1 - h4)/(h2s - h1)\n",
      "bmax = (Tc + 273)/(Th - Tc)\n",
      "\n",
      "#Results\n",
      "print  \"a) compressor work input is\", round(Wcdot,1),\"kW\"\n",
      "print  \"b) refrigration  capacity  is\", round(Qindot,2),\"ton\"\n",
      "print  \"c) coefficient  of  performanceis\", round(b,2)\n",
      "print  \"d) maximum  coefficient  of  performance is\", round(bmax,1)\n"
     ],
     "language": "python",
     "metadata": {},
     "outputs": [
      {
       "output_type": "stream",
       "stream": "stdout",
       "text": [
        "a) compressor work input is 1.4 kW\n",
        "b) refrigration  capacity  is 3.68 ton\n",
        "c) coefficient  of  performanceis 9.3\n",
        "d) maximum  coefficient  of  performance is 10.5\n"
       ]
      }
     ],
     "prompt_number": 6
    },
    {
     "cell_type": "markdown",
     "metadata": {},
     "source": [
      "<h2>Example 8.06, page: 214</h2>"
     ]
    },
    {
     "cell_type": "code",
     "collapsed": false,
     "input": [
      "from __future__ import division\n",
      "import math\n",
      "\n",
      "# Initialization  of  Variable\n",
      "Tc = 0 #degC\n",
      "Th = 26 #degC\n",
      "mdot = 0.08 #kg/s\n",
      "P2 = 9 #bar\n",
      "T1 = -10 #degC\n",
      "\n",
      "#calculations:\n",
      "#from Table T-6\n",
      "h1 = 241.35 #kJ/kg\n",
      "s1 = 0.9253 #kJ/kg-K\n",
      "h2s = 272.39 #kJ/kg\n",
      "h3 = 99.56 #kJ/kg\n",
      "h4 = h3\n",
      "#compressor work input\n",
      "Wcdot = mdot*(h2s - h1)\n",
      "#heat transfer rate to the refrigerant passing through the evaporator\n",
      "Qindot = mdot*60*(h1 - h4)/211\n",
      "#coeff of performance\n",
      "b = (h1 - h4)/(h2s - h1)\n",
      "\n",
      "#Results\n",
      "print  \"a) compressor work input is\", round(Wcdot,2),\"kW\"\n",
      "print  \"b) refrigration  capacity  is\", round(Qindot,2),\"ton\"\n",
      "print  \"c) coefficient  of  performanceis\", round(b,2)\n"
     ],
     "language": "python",
     "metadata": {},
     "outputs": [
      {
       "output_type": "stream",
       "stream": "stdout",
       "text": [
        "a) compressor work input is 2.48 kW\n",
        "b) refrigration  capacity  is 3.23 ton\n",
        "c) coefficient  of  performanceis 4.57\n"
       ]
      }
     ],
     "prompt_number": 7
    },
    {
     "cell_type": "markdown",
     "metadata": {},
     "source": [
      "<h2>Example 8.07, page: 215</h2>"
     ]
    },
    {
     "cell_type": "code",
     "collapsed": false,
     "input": [
      "from __future__ import division\n",
      "import math\n",
      "\n",
      "# Initialization  of  Variable\n",
      "Tc = 0 #degC\n",
      "Th = 26 #degC\n",
      "mdot = 0.08 #kg/s\n",
      "P2 = 9 #bar\n",
      "nc = 0.8\n",
      "T1 = -10 #degC\n",
      "T3 = 30 #degC\n",
      "\n",
      "#calculations:\n",
      "#from Table T-6\n",
      "h1 = 241.35 #kJ/kg\n",
      "s1 = 0.9253 #kJ/kg-K\n",
      "h2s = 272.39 #kJ/kg\n",
      "#enthalpy at 2\n",
      "h2 = (h2s - h1)/nc + h1\n",
      "\n",
      "#from table T-6\n",
      "hf = 91.49 #kJ/kg\n",
      "h3 = hf\n",
      "h4 = h3\n",
      "#compressor work input\n",
      "Wcdot = mdot*(h2 - h1)\n",
      "#heat transfer rate to the refrigerant passing through the evaporator\n",
      "Qindot = mdot*60*(h1 - h4)/211\n",
      "#coeff of performance\n",
      "b = (h1 - h4)/(h2 - h1)\n",
      "\n",
      "#Results\n",
      "print  \"a) compressor work input is\", round(Wcdot,2),\"kW\"\n",
      "print  \"b) refrigration  capacity  is\", round(Qindot,2),\"ton\"\n",
      "print  \"c) coefficient  of  performanceis\", round(b,2)\n"
     ],
     "language": "python",
     "metadata": {},
     "outputs": [
      {
       "output_type": "stream",
       "stream": "stdout",
       "text": [
        "a) compressor work input is 3.1 kW\n",
        "b) refrigration  capacity  is 3.41 ton\n",
        "c) coefficient  of  performanceis 3.86\n"
       ]
      }
     ],
     "prompt_number": 8
    }
   ],
   "metadata": {}
  }
 ]
}