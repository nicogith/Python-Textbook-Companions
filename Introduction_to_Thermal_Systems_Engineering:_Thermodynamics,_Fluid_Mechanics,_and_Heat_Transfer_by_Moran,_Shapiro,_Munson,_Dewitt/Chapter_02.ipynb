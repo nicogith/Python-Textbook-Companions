{
 "metadata": {
  "name": ""
 },
 "nbformat": 3,
 "nbformat_minor": 0,
 "worksheets": [
  {
   "cells": [
    {
     "cell_type": "markdown",
     "metadata": {},
     "source": [
      "<h1>Chapter 2: Getting Started in Thermodynamics: Introductory Concepts and Definitions</h1>"
     ]
    },
    {
     "cell_type": "markdown",
     "metadata": {},
     "source": [
      "<h2>Example 2.03, page: 19</h2>"
     ]
    },
    {
     "cell_type": "code",
     "collapsed": false,
     "input": [
      "from __future__ import division\n",
      "import math\n",
      "\n",
      "#  Initialization  of  Variable\n",
      "#for example 3\n",
      "m = 1000 #kg\n",
      "g = 9.80665 #m/s2\n",
      "\n",
      "#calculations:\n",
      "#force\n",
      "F = m*g\n",
      "\n",
      "#Results\n",
      "print  \"Force\", round(F,2),\"kg.m/s2 or N\""
     ],
     "language": "python",
     "metadata": {},
     "outputs": [
      {
       "output_type": "stream",
       "stream": "stdout",
       "text": [
        "Force 9806.65 kg.m/s2 or N\n"
       ]
      }
     ],
     "prompt_number": 1
    },
    {
     "cell_type": "markdown",
     "metadata": {},
     "source": [
      "<h2>Example 2.04, page: 21</h2>"
     ]
    },
    {
     "cell_type": "code",
     "collapsed": false,
     "input": [
      "from __future__ import division\n",
      "import math\n",
      "\n",
      "#  Initialization  of  Variable\n",
      "#for example 4\n",
      "m = 1000 #lb\n",
      "g = 32 #ft/s2\n",
      "\n",
      "#calculations:\n",
      "#force\n",
      "F = m*g/32.1740\n",
      "\n",
      "#Results\n",
      "print  \"Force\", round(F,2),\"lbf\""
     ],
     "language": "python",
     "metadata": {},
     "outputs": [
      {
       "output_type": "stream",
       "stream": "stdout",
       "text": [
        "Force 994.59 lbf\n"
       ]
      }
     ],
     "prompt_number": 3
    },
    {
     "cell_type": "markdown",
     "metadata": {},
     "source": [
      "<h2>Example 2.05, page: 21</h2>"
     ]
    },
    {
     "cell_type": "code",
     "collapsed": false,
     "input": [
      "from __future__ import division\n",
      "import math\n",
      "\n",
      "#  Initialization  of  Variable\n",
      "#for example 5\n",
      "m = 10 #slug\n",
      "g = 32 #ft/s2\n",
      "\n",
      "#calculations:\n",
      "#force\n",
      "F = m*g\n",
      "\n",
      "#Results\n",
      "print  \"Force\", round(F,0),\"lbf\""
     ],
     "language": "python",
     "metadata": {},
     "outputs": [
      {
       "output_type": "stream",
       "stream": "stdout",
       "text": [
        "Force 320.0 lbf\n"
       ]
      }
     ],
     "prompt_number": 5
    }
   ],
   "metadata": {}
  }
 ]
}