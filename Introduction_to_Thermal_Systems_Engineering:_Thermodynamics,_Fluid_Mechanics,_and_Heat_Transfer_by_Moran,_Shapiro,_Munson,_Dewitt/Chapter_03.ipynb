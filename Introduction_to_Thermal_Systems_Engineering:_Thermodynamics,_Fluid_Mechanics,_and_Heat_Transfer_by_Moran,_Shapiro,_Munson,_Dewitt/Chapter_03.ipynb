{
 "metadata": {
  "name": ""
 },
 "nbformat": 3,
 "nbformat_minor": 0,
 "worksheets": [
  {
   "cells": [
    {
     "cell_type": "markdown",
     "metadata": {},
     "source": [
      "<h1>Chapter 3: Using Energy and the First Law of Thermodynamics</h1>"
     ]
    },
    {
     "cell_type": "markdown",
     "metadata": {},
     "source": [
      "<h2>Example 3.01, page: 39</h2>"
     ]
    },
    {
     "cell_type": "code",
     "collapsed": false,
     "input": [
      "from __future__ import division\n",
      "import math\n",
      "\n",
      "#  Initialization  of  Variable\n",
      "V1=0.1; # initial Volume m3\n",
      "V2=0.2; # final volume in m3\n",
      "P1=3.0; #pressure in bar\n",
      "n1=1.5; \n",
      "n2=1.0;\n",
      "n3=0.0;\n",
      "\n",
      "#calculations:\n",
      "#pressure at stage 2\n",
      "P2=P1*(V1/V2)**n1\n",
      "# work done\n",
      "W=(P2*V2-P1*V1)/(1-n1)\n",
      "W2=P1*V1*math.log(V2/V1)\n",
      "W3=P1*(V2-V1)\n",
      "\n",
      "#Results\n",
      "print  \"a)work done = \", round(W*100,2),\"kj\" \n",
      "print  \"b)work done = \", round(W2*100,2),\"kj\" \n",
      "print  \"c)work done = \", round(W3*100,2),\"kj\" \n"
     ],
     "language": "python",
     "metadata": {},
     "outputs": [
      {
       "output_type": "stream",
       "stream": "stdout",
       "text": [
        "a)work done =  17.57 kj\n",
        "b)work done =  20.79 kj\n",
        "c)work done =  30.0 kj\n"
       ]
      }
     ],
     "prompt_number": 1
    },
    {
     "cell_type": "markdown",
     "metadata": {},
     "source": [
      "<h2>Example 3.02, page: 45</h2>"
     ]
    },
    {
     "cell_type": "code",
     "collapsed": false,
     "input": [
      "from __future__ import division\n",
      "import math\n",
      "\n",
      "# Initialization  of  Variable\n",
      "delU = -4.6 #u2-u1;\n",
      "W = 17.6 #work  done\n",
      "m = 4    #mass\n",
      "\n",
      "# calculations\n",
      "# net heat transfer for the process\n",
      "Q = W+m*delU;\n",
      "\n",
      "#Results\n",
      "print \"Energy  transferred \", round(Q,2),\"kJ\" "
     ],
     "language": "python",
     "metadata": {},
     "outputs": [
      {
       "output_type": "stream",
       "stream": "stdout",
       "text": [
        "Energy  transferred  -0.8 kJ\n"
       ]
      }
     ],
     "prompt_number": 3
    },
    {
     "cell_type": "markdown",
     "metadata": {},
     "source": [
      "<h2>Example 3.03, page: 46</h2>"
     ]
    },
    {
     "cell_type": "code",
     "collapsed": false,
     "input": [
      "from __future__ import division\n",
      "import math\n",
      "\n",
      "#  Initialization  of  Variable\n",
      "patm = 14.7 # atm pressure in  lbf/in**2\n",
      "mpiston=100; # mass of piston in lb\n",
      "g=32.2; # acc of gravity in ft/s2\n",
      "A=1    #area\n",
      "mair=0.6; # mass of air in lb\n",
      "delu=18; # change in internal Energy in Btu/lb\n",
      "k=1.6 #V2-V1 in ft3;\n",
      "\n",
      "#calculations:\n",
      "# pressure\n",
      "P = mpiston*g/A/32.2/144+14.7\n",
      "#work done\n",
      "W = P*k*144/778\n",
      "# the heat transfer from the resistor to the air\n",
      "Q = W+mair*delu\n",
      "# work done\n",
      "W2 = patm*k*144/778\n",
      "# elevation change\n",
      "delz = k/A\n",
      "# change in potential energy\n",
      "PE = mpiston*g*delz/32.2/778\n",
      "#the new heat transfer from the resistor to the air\n",
      "Q2 = W2+PE+mair*delu\n",
      "\n",
      "#Results\n",
      "print  \"a) Heat  transferred = \", round(Q,1),\"Btu\"\n",
      "print  \"b) Work  done = \", round(W2,2),\"Btu\"\n",
      "print  \"b) Heat  transferred = \", round (Q2, 1),\"Btu\" \n"
     ],
     "language": "python",
     "metadata": {},
     "outputs": [
      {
       "output_type": "stream",
       "stream": "stdout",
       "text": [
        "a) Heat  transferred =  15.4 Btu\n",
        "b) Work  done =  4.35 Btu\n",
        "b) Heat  transferred =  15.4 Btu\n"
       ]
      }
     ],
     "prompt_number": 4
    },
    {
     "cell_type": "markdown",
     "metadata": {},
     "source": [
      "<h2>Example 3.04, page: 48</h2>"
     ]
    },
    {
     "cell_type": "code",
     "collapsed": false,
     "input": [
      "from __future__ import division\n",
      "import math\n",
      "\n",
      "#  Initialization  of  Variable\n",
      "h = -0.171; # constant in kW/m2\n",
      "A = 1; # area in m2\n",
      "Tb = 300 #temperature in K\n",
      "Tf = 293 #temperature in K\n",
      "W1dot = -60.0 # power in kW\n",
      "\n",
      "#calculations:\n",
      "# rate of energy transfer by heat\n",
      "Qdot = h*A*(Tb-Tf)\n",
      "# the power delivered through the output shaft\n",
      "W2dot = Qdot-W1dot\n",
      "\n",
      "#Results\n",
      "print  \"the  rate  of  heat  transfer = \", round(Qdot,1),\"kW\"\n",
      "print  \"the power delivered through the output shaft = \", round(W2dot,1),\"kW\" \n"
     ],
     "language": "python",
     "metadata": {},
     "outputs": [
      {
       "output_type": "stream",
       "stream": "stdout",
       "text": [
        "the  rate  of  heat  transfer =  -1.2 kW\n",
        "the power delivered through the output shaft =  58.8 kW\n"
       ]
      }
     ],
     "prompt_number": 6
    },
    {
     "cell_type": "markdown",
     "metadata": {},
     "source": [
      "<h2>Example 3.05, page: 50</h2>"
     ]
    },
    {
     "cell_type": "code",
     "collapsed": false,
     "input": [
      "from __future__ import division\n",
      "import math\n",
      "\n",
      "#  Initialization  of  Variable\n",
      "Wdot=-0.225; #electrical power input in W\n",
      "a=5e-3; # side in m\n",
      "h=150; # constant specific heat in W/m2\n",
      "Tf=293#temperature in K\n",
      "\n",
      "#calculations:\n",
      "# area\n",
      "A = a**2\n",
      "#surface temperature of the chip at steady state\n",
      "Tb=-Wdot/h/A+Tf;\n",
      "\n",
      "#Results\n",
      "print  \"surface temperature of the chip at steady state = \", round(Tb,1),\"kelvin\" "
     ],
     "language": "python",
     "metadata": {},
     "outputs": [
      {
       "output_type": "stream",
       "stream": "stdout",
       "text": [
        "surface temperature of the chip at steady state =  353.0 kelvin\n"
       ]
      }
     ],
     "prompt_number": 9
    },
    {
     "cell_type": "markdown",
     "metadata": {},
     "source": [
      "<h2>Example 3.06, page: 51</h2>"
     ]
    },
    {
     "cell_type": "code",
     "collapsed": false,
     "input": [
      "from __future__ import division\n",
      "import math\n",
      "#from pylab import *\n",
      "%pylab inline\n",
      "\n",
      "#  Initialization  of  Variable\n",
      "tau = 18; # torque in N.m\n",
      "omega = 100; # frequency in rad/s\n",
      "Wdotelec = -2.0; #electric power input in kW\n",
      "\n",
      "#calculations:\n",
      "#power associated with the rotating shaft\n",
      "Wdotshaft = tau*omega/1000;\n",
      "#power associated with the electricity flow\n",
      "Wdot = Wdotelec+Wdotshaft;\n",
      "\n",
      "#creating empty lists for plotting\n",
      "t =[]\n",
      "Edot =[]\n",
      "Qdot = []\n",
      "wdot = []\n",
      "delE = []\n",
      "\n",
      "for h in range(1000):\n",
      "    t.append((h-1)/10)\n",
      "    k=(h-1)/10\n",
      "    #energy rate balance\n",
      "    Edot.append(0.2*math.e**-(0.05*k))\n",
      "    wdot.append(Wdot)\n",
      "    Qdot.append(0.2*math.e**-(0.05*k) + Wdot)\n",
      "    # change in Energy\n",
      "    delE.append(4*(1-math.e**-(0.05*k)))\n",
      "    \n",
      "# plots\n",
      "fig  = plt.figure()\n",
      "ax = fig.add_subplot(1, 2, 1)\n",
      "ax.plot(t,delE,'-')\n",
      "xlabel('time(sec)')\n",
      "ylabel('DelE(kJ)')\n",
      "title('Variation of Change in Energy with time')\n",
      "show()\n",
      "\n",
      "fig  = plt.figure()\n",
      "ax = fig.add_subplot(1, 2, 1)\n",
      "ax.plot(t,wdot,'.')\n",
      "ax.plot(t,Qdot,'-')\n",
      "xlabel('time(sec)')\n",
      "ylabel('Qdot, Wdot, (kJ)')\n",
      "title('Qdot, Wdot variation with time')\n",
      "show()\n",
      "\n"
     ],
     "language": "python",
     "metadata": {},
     "outputs": [
      {
       "output_type": "stream",
       "stream": "stdout",
       "text": [
        "Populating the interactive namespace from numpy and matplotlib\n"
       ]
      },
      {
       "metadata": {},
       "output_type": "display_data",
       "png": "[encoded data removed]",
       "text": [
        "<matplotlib.figure.Figure at 0x7757940>"
       ]
      },
      {
       "metadata": {},
       "output_type": "display_data",
       "png": "[encoded data removed]",
       "text": [
        "<matplotlib.figure.Figure at 0x98b5f28>"
       ]
      }
     ],
     "prompt_number": 1
    }
   ],
   "metadata": {}
  }
 ]
}