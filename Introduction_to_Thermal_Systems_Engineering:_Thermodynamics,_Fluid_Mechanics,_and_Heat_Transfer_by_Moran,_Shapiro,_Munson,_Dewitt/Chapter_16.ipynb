{
 "metadata": {
  "name": ""
 },
 "nbformat": 3,
 "nbformat_minor": 0,
 "worksheets": [
  {
   "cells": [
    {
     "cell_type": "markdown",
     "metadata": {},
     "source": [
      "<h1>Chapter 16: HEAT TRANSFER BY CONDUCTION</h1>"
     ]
    },
    {
     "cell_type": "markdown",
     "metadata": {},
     "source": [
      "<h2>Example 16.01, page: 367</h2>"
     ]
    },
    {
     "cell_type": "code",
     "collapsed": false,
     "input": [
      "from __future__ import division\n",
      "import math\n",
      "\n",
      "# Initialization  of  Variable\n",
      "Tsi = 385 #degC\n",
      "Ka = 0.15 #W/m.K\n",
      "Kb = 0.08 #W/m2.K\n",
      "Tinf = 25 #degC\n",
      "ho = 25 #W/m2.K\n",
      "Tso = 50 #degC\n",
      "x = 2\n",
      "\n",
      "#calculations:\n",
      "#La\n",
      "La = (Tsi - Tso)/(Tso - Tinf)/ho*Ka*Kb*2/(2*Kb + Ka)\n",
      "#Lb\n",
      "Lb = La/2\n",
      "#required thickness for the composite window\n",
      "L = La + Lb\n",
      "\n",
      "#Results\n",
      "print  \"required  thickness  of  composite window is\", round(L,4),\"m\"\n"
     ],
     "language": "python",
     "metadata": {},
     "outputs": [
      {
       "output_type": "stream",
       "stream": "stdout",
       "text": [
        "required  thickness  of  composite window is 0.0622 m\n"
       ]
      }
     ],
     "prompt_number": 2
    },
    {
     "cell_type": "markdown",
     "metadata": {},
     "source": [
      "<h2>Example 16.02, page: 368</h2>"
     ]
    },
    {
     "cell_type": "code",
     "collapsed": false,
     "input": [
      "from __future__ import division\n",
      "import math\n",
      "\n",
      "# Initialization  of  Variable\n",
      "Tinf = 25 #degC\n",
      "h = 100 #W/m2.K\n",
      "Rtc2 = 0.9E-4 #m2.K/W\n",
      "Pe2 = 10000 #W/m2\n",
      "L = 8 #mm\n",
      "k = 238 #W/m.K\n",
      "\n",
      "#calculations:\n",
      "Tc = Tinf + Pe2/(h + 1/(Rtc2 + L*1E-3/k + 1/h))\n",
      "\n",
      "#Results\n",
      "print  \"maximum allowable temperature is\",round(Tc,1),\"degC\"\n"
     ],
     "language": "python",
     "metadata": {},
     "outputs": [
      {
       "output_type": "stream",
       "stream": "stdout",
       "text": [
        "maximum allowable temperature is 75.3 degC\n"
       ]
      }
     ],
     "prompt_number": 3
    },
    {
     "cell_type": "markdown",
     "metadata": {},
     "source": [
      "<h2>Example 16.03, page: 372</h2>"
     ]
    },
    {
     "cell_type": "code",
     "collapsed": false,
     "input": [
      "from __future__ import division\n",
      "import math\n",
      "\n",
      "# Initialization  of  Variable\n",
      "Tinf2 = 300 #K\n",
      "h = 20 #W/m2.K\n",
      "Tinf1 = 77 #K\n",
      "p = 804 #kg/m3\n",
      "hfg = 2E5 #J/kg\n",
      "r1 = 0.25 #m\n",
      "r2 = 0.275 #m\n",
      "k = 0.0017 #W/m.K\n",
      "\n",
      "#calculations:\n",
      "#resistances due to conduction\n",
      "Rtcond = 1/(4*math.pi*k)*(1/r1 - 1/r2)\n",
      "#resistances due to convection\n",
      "Rtconv = 1/(h*4*math.pi*r2**2)\n",
      "#rate of heat transfer to the liquid nitrogen\n",
      "q = (Tinf2 - Tinf1)/(Rtcond - Rtconv)\n",
      "#volumetric mass rate of nitrogen boil-off per day\n",
      "mdotp = q/hfg*3600*24/p*1000\n",
      "\n",
      "#Results\n",
      "print  \"a) heat  transfer  is\", round(q,2),\"W\"\n",
      "print  \"b) rate of nitrogen boil-off is\", round(mdotp,0),\"liters/day\" \n"
     ],
     "language": "python",
     "metadata": {},
     "outputs": [
      {
       "output_type": "stream",
       "stream": "stdout",
       "text": [
        "a) heat  transfer  is 13.14 W\n",
        "b) rate of nitrogen boil-off is 7.0 liters/day\n"
       ]
      }
     ],
     "prompt_number": 4
    },
    {
     "cell_type": "markdown",
     "metadata": {},
     "source": [
      "<h2>Example 16.04, page: 375</h2>"
     ]
    },
    {
     "cell_type": "code",
     "collapsed": false,
     "input": [
      "from __future__ import division\n",
      "import math\n",
      "\n",
      "# Initialization  of  Variable\n",
      "qadot = 1.5E6 #W/m3\n",
      "ka = 75 #W/m.K\n",
      "La = 50 #mm\n",
      "Lb = 20 #mm\n",
      "kb = 150 #W/m.K\n",
      "qbdot = 0\n",
      "Tinf = 30 #degC\n",
      "h = 1000 #W/m2.K\n",
      "\n",
      "#calculations:\n",
      "#outer surface temperature\n",
      "T2 = Tinf + qadot*La*1E-3/h\n",
      "#resistance (conduction and converction):\n",
      "RcondB2 = Lb*1E-3/kb\n",
      "Rconv2 = 1/h\n",
      "q2 = qadot*La*1E-3\n",
      "#temperature at the composite interface\n",
      "T1 = Tinf + (RcondB2 + Rconv2)*q2\n",
      "#the inner surface temperature of the composite\n",
      "To = qadot*(La*1E-3)**2/(2*ka) + T1\n",
      "\n",
      "#Results\n",
      "print \"Inner and outer surface temperatures of the composite are\", To,\"degC and\", T2,\"degC respectively\" \n"
     ],
     "language": "python",
     "metadata": {},
     "outputs": [
      {
       "output_type": "stream",
       "stream": "stdout",
       "text": [
        "Inner and outer surface temperatures of the composite are 140.0 degC and 105.0 degC respectively\n"
       ]
      }
     ],
     "prompt_number": 5
    },
    {
     "cell_type": "markdown",
     "metadata": {},
     "source": [
      "<h2>Example 16.05, page: 378</h2>"
     ]
    },
    {
     "cell_type": "code",
     "collapsed": false,
     "input": [
      "from __future__ import division\n",
      "import math\n",
      "\n",
      "# Initialization  of  Variable\n",
      "Tinf = 25 #degC\n",
      "r2 = 250 #mm\n",
      "r1 = 200 #mm\n",
      "kss = 15 #W/m.K\n",
      "krw = 20 #W/m.K\n",
      "qdot = 1E5 #W/m3\n",
      "h = 500 #W/m2.K\n",
      "\n",
      "#calculations:\n",
      "#the tube wall conduction and convection resistances\n",
      "Rcond1 = math.log(r2/r1)/(2*math.pi*kss)\n",
      "Rconv1 = 1/(h*2*math.pi*r2*1E-3)\n",
      "#heat rate per unit length\n",
      "q1 = qdot*math.pi*(r2*1E-3)**2\n",
      "#waste surface temperature\n",
      "Ts1 = Tinf + q1*(Rcond1 + Rconv1)\n",
      "#the centerline temperature\n",
      "To = qdot*(r1*1E-3)**2/(4*krw) + Ts1\n",
      "\n",
      "#Results\n",
      "print  \"Maximum temperature in the system is\", round(To,0),\"degC\"\n",
      "#answer wrong in book\n"
     ],
     "language": "python",
     "metadata": {},
     "outputs": [
      {
       "output_type": "stream",
       "stream": "stdout",
       "text": [
        "Maximum temperature in the system is 146.0 degC\n"
       ]
      }
     ],
     "prompt_number": 6
    },
    {
     "cell_type": "markdown",
     "metadata": {},
     "source": [
      "<h2>Example 16.06, page: 381</h2>"
     ]
    },
    {
     "cell_type": "code",
     "collapsed": false,
     "input": [
      "from __future__ import division\n",
      "import math\n",
      "#from pylab import *\n",
      "%pylab inline\n",
      "\n",
      "# Initialization  of  Variable\n",
      "Tinf = 25 #degC\n",
      "h = 100 #W/m2.K\n",
      "D = 5 #mm\n",
      "Tb = 100 #degC\n",
      "\n",
      "#calculations:\n",
      "#from Table HT-1\n",
      "kcu = 398  #W/m.K\n",
      "kal = 180 #W/m.K\n",
      "kss = 14 #W/m.K\n",
      "#m\n",
      "mcu = (4*h/(kcu*D*1E-3))**0.5\n",
      "mal = (4*h/(kal*D*1E-3))**0.5\n",
      "mss = (4*h/(kss*D*1E-3))**0.5\n",
      "\n",
      "#creating empty lists for plotting\n",
      "x =[]\n",
      "Tcu =[]\n",
      "Tal =[]\n",
      "Tss =[]\n",
      "\n",
      "for h in range(3000):\n",
      "    x.append((h-1)/10)\n",
      "    k = (h-1)/10\n",
      "    #Temp profile\n",
      "    Tcu.append(Tinf + (Tb - Tinf)*math.e**-(mcu*k/1000))\n",
      "    Tal.append(Tinf + (Tb - Tinf)*math.e**-(mal*k/1000))\n",
      "    Tss.append(Tinf + (Tb - Tinf)*math.e**-(mss*k/1000))\n",
      "    \n",
      "# plots\n",
      "fig  = plt.figure()\n",
      "ax = fig.add_subplot(1, 1, 1)\n",
      "ax.plot(x,Tcu,'.')\n",
      "ax.plot(x,Tal,'.')\n",
      "ax.plot(x,Tss,'.')\n",
      "ax.legend('CAS')\n",
      "xlabel('x(mm)')\n",
      "ylabel('T (degC)')\n",
      "title('Temperature distribution along the fin')\n",
      "show()\n",
      "\n",
      "#fin heat rate\n",
      "qfcu = (h*math.pi*D*1E-3*kcu*math.pi/4*(D*1E-3)**2)**0.5*(Tb - Tinf)\n",
      "qfal = (h*math.pi*D*1E-3*kal*math.pi/4*(D*1E-3)**2)**0.5*(Tb - Tinf)\n",
      "qfss = (h*math.pi*D*1E-3*kss*math.pi/4*(D*1E-3)**2)**0.5*(Tb - Tinf)\n",
      "\n",
      "#length\n",
      "Lcu = 2.65*((kcu*(math.pi*(D*1E-3)**2)/4)/(h*math.pi*D*1E-3))**0.5\n",
      "Lal = 2.65*(kal*math.pi/4*(D*1E-3)**2/(h*math.pi*D*1E-3))**0.5\n",
      "Lss = 2.65*(kss*math.pi/4*(D*1E-3)**2/(h*math.pi*D*1E-3))**0.5\n",
      "\n",
      "#results\n",
      "print \"a) fin heat rate for copper is\", round(qfcu,1),\"W, for Aluminium is\", round(qfal,1),\"W and for Stainless Steel is\", round(qfss,1),\"W\"\n",
      "print \"b) length for copper >=\", round(Lcu*1000,3),\"mm, for Aluminium >=\",round(Lal*1000,0),\"mm and for Stainless Stell >=\", round(Lss*1000,0),\"mm\"\n",
      "\n"
     ],
     "language": "python",
     "metadata": {},
     "outputs": [
      {
       "output_type": "stream",
       "stream": "stdout",
       "text": [
        "Populating the interactive namespace from numpy and matplotlib\n"
       ]
      },
      {
       "metadata": {},
       "output_type": "display_data",
       "png": "[encoded data removed]",
       "text": [
        "<matplotlib.figure.Figure at 0x76e5ba8>"
       ]
      },
      {
       "output_type": "stream",
       "stream": "stdout",
       "text": [
        "a) fin heat rate for copper is 45.5 W, for Aluminium is 30.6 W and for Stainless Steel is 8.5 W\n",
        "b) length for copper >= 34.131 mm, for Aluminium >= 23.0 mm and for Stainless Stell >= 6.0 mm\n"
       ]
      }
     ],
     "prompt_number": 1
    },
    {
     "cell_type": "markdown",
     "metadata": {},
     "source": [
      "<h2>Example 16.07, page: 384</h2>"
     ]
    },
    {
     "cell_type": "code",
     "collapsed": false,
     "input": [
      "from __future__ import division\n",
      "import math\n",
      "\n",
      "# Initialization  of  Variable\n",
      "t = 0.7 #mm\n",
      "Tinf = 20 #degC\n",
      "h = 25 #W/m2.K\n",
      "T1 = 80 #degC\n",
      "Rtc2 = 1E-3 #m2.K/W\n",
      "r1 = 2 #mm\n",
      "r2 = 3 #mm\n",
      "r3 = 13 #mm\n",
      "H = 6 #mm\n",
      "k  = 200 #W/m.K\n",
      "\n",
      "#calculations:\n",
      "#Thermal resistances associated with the contact joint and sleeve\n",
      "Rtc = Rtc2/(2*math.pi*r1*1E-3*H*1E-3)\n",
      "Rtsleeve = math.log(r2/r1)/(2*math.pi*H*1E-3*k)\n",
      "#P, Ac\n",
      "P = 2*(H+t)*1E-3\n",
      "Ac = t*H*1E-6\n",
      "#m, L\n",
      "m = (h*P/(k*Ac))**0.5\n",
      "L = r3 - r2\n",
      "#the thermal resistance for a single fin\n",
      "Rtf = ((h*P*k*Ac)**0.5*(math.sinh(m*L*1E-3) + h/(m*k)*math.cosh(m*L*1E-3))/(math.cosh(m*L*1E-3) + h/(m*k)*math.sinh(m*L*1E-3)))**-1\n",
      "#thermal resistance of 12 fins\n",
      "Rtf12 = Rtf/12\n",
      "#the thermal resistance due to convection\n",
      "Rtb = 1/(h*(2*math.pi*r2*1E-3 - 12*t*1E-3)*H*1E-3)\n",
      "#the equivalent resistance is\n",
      "Requiv = (1/Rtf12 + 1/Rtb)**-1\n",
      "#total resistance of the finned sleeve\n",
      "Rtot = Rtc + Rtsleeve + Requiv\n",
      "#heat transfer rate from the sleeve\n",
      "qt = (T1-Tinf)/Rtot\n",
      "\n",
      "#Results\n",
      "print  \"heat  transfer  rate is\", round(qt,2),\"W\"\n"
     ],
     "language": "python",
     "metadata": {},
     "outputs": [
      {
       "output_type": "stream",
       "stream": "stdout",
       "text": [
        "heat  transfer  rate is 1.63 W\n"
       ]
      }
     ],
     "prompt_number": 8
    },
    {
     "cell_type": "markdown",
     "metadata": {},
     "source": [
      "<h2>Example 16.08, page: 390</h2>"
     ]
    },
    {
     "cell_type": "code",
     "collapsed": false,
     "input": [
      "from __future__ import division\n",
      "import math\n",
      "\n",
      "# Initialization  of  Variable\n",
      "Tinf = 20 #degC\n",
      "h = 25 #W/m2.K\n",
      "Ti = 225 #degC\n",
      "D = 12.5 #mm\n",
      "t = 6 #min\n",
      "\n",
      "#calculations:\n",
      "#from Table HT-2\n",
      "p = 2225 #kg/m3\n",
      "c = 835 #J/kg\n",
      "k = 1.4 #W/m.K\n",
      "#the characteristic length of the spherical bead\n",
      "Lc = D*1E-3/6\n",
      "#Biot num\n",
      "Bi = h*Lc/k\n",
      "#temperature T(t) after 6 min\n",
      "Tt = Tinf + (Ti - Tinf)*math.e**(-1*h*t*60/(p*Lc*c))\n",
      "\n",
      "#Results\n",
      "print  \"temperature  after  6  min is\", round(Tt,0),\"degC\"\n"
     ],
     "language": "python",
     "metadata": {},
     "outputs": [
      {
       "output_type": "stream",
       "stream": "stdout",
       "text": [
        "temperature  after  6  min is 40.0 degC\n"
       ]
      }
     ],
     "prompt_number": 9
    },
    {
     "cell_type": "markdown",
     "metadata": {},
     "source": [
      "<h2>Example 16.09, page: 390</h2>"
     ]
    },
    {
     "cell_type": "code",
     "collapsed": false,
     "input": [
      "from __future__ import division\n",
      "import math\n",
      "\n",
      "# Initialization  of  Variable\n",
      "e = 0.8\n",
      "h = 40 #W/m2.K\n",
      "Tinf = 175 #degC\n",
      "Ti = 25 #degC\n",
      "L = 1.5 #mm\n",
      "Tsur = 175 #degC\n",
      "Tc = 150 #degC\n",
      "t = 5\n",
      "\n",
      "#calculations:\n",
      "k = 177 #W/m.K\n",
      "hrad = 12 #W/m2.K\n",
      "p = 2770 #kg/m3\n",
      "c = 875 #J/kg\n",
      "\n",
      "#biot num\n",
      "Bi = (h + hrad)*L*1E-3/k\n",
      "#time required for the panel to reach the cure temperature\n",
      "tc = (p*L*1E-3*c/(h+hrad))*math.log((Ti-Tinf)/(Tc - Tinf))\n",
      "#total time to complete the 5-min duration cure\n",
      "tc = tc + t*60\n",
      "\n",
      "#Results\n",
      "print  \"Elapsed time for completion of the cure process, tc =\", round(tc,0),\"sec\"\n"
     ],
     "language": "python",
     "metadata": {},
     "outputs": [
      {
       "output_type": "stream",
       "stream": "stdout",
       "text": [
        "Elapsed time for completion of the cure process, tc = 425.0 sec\n"
       ]
      }
     ],
     "prompt_number": 10
    },
    {
     "cell_type": "markdown",
     "metadata": {},
     "source": [
      "<h2>Example 16.10, page: 394</h2>"
     ]
    },
    {
     "cell_type": "code",
     "collapsed": false,
     "input": [
      "from __future__ import division\n",
      "import math\n",
      "\n",
      "# Initialization  of  Variable\n",
      "L = 25 #mm\n",
      "Tinf = 175 #degC\n",
      "h = 100 #W/m2.K\n",
      "Ti = 25 #degC\n",
      "p = 2325 #kg/m3\n",
      "c = 800 #J/kg\n",
      "k = 1.0 #W/m.K\n",
      "t = 10 #min\n",
      "\n",
      "#calculations:\n",
      "a = k/(p*c)\n",
      "#a) at t = 10 min\n",
      "Bi = h*L*1E-3/k\n",
      "Fo = a*t*60/(L*1E-3)**2\n",
      "#b)\n",
      "zeta = 1.1347\n",
      "C = 1.1949\n",
      "theta0_s = C*math.e**(-1*Fo*zeta**2)\n",
      "#midplane temperature\n",
      "T0_10 = Tinf + theta0_s*(Ti-Tinf)\n",
      "#surface temperature\n",
      "theta_s = theta0_s*math.cos(zeta*1)\n",
      "TL_10 = Tinf + theta_s*(Ti - Tinf)\n",
      "#c)\n",
      "#Heat transfer to the slab outer surface\n",
      "qL2 = h*(TL_10 - Tinf)\n",
      "#d)\n",
      "#the energy per unit surface area is\n",
      "Q2 = (1 - math.sin(zeta)*theta0_s/zeta)*p*c*L*1E-3*(Ti-Tinf)\n",
      "\n",
      "#Results\n",
      "print  \"a) Biot and Fourier numbers after 10 min are\",round(Bi,2),\"and\", round(Fo,3),\"respectively\"\n",
      "print  \"b) Slab midplane and surface temperatures after 10 min is\", round(T0_10,0),\"degC\"\n",
      "print  \"c) Heat flux to the slab at 10 min is\", round(qL2,0),\"W/m2\"#answer wrong in book\n",
      "print  \"d) Energy transferred to the slab per unit surface area after 10 min is\", round(Q2,0),\"J/m2\"\n"
     ],
     "language": "python",
     "metadata": {},
     "outputs": [
      {
       "output_type": "stream",
       "stream": "stdout",
       "text": [
        "a) Biot and Fourier numbers after 10 min are 2.5 and 0.516 respectively\n",
        "b) Slab midplane and surface temperatures after 10 min is 83.0 degC\n",
        "c) Heat flux to the slab at 10 min is -3895.0 W/m2\n",
        "d) Energy transferred to the slab per unit surface area after 10 min is -3549589.0 J/m2\n"
       ]
      }
     ],
     "prompt_number": 11
    },
    {
     "cell_type": "markdown",
     "metadata": {},
     "source": [
      "<h2>Example 16.11, page: 395</h2>"
     ]
    },
    {
     "cell_type": "code",
     "collapsed": false,
     "input": [
      "from __future__ import division\n",
      "import math\n",
      "\n",
      "# Initialization  of  Variable\n",
      "Tinf = 20 #degC\n",
      "h = 6000 #W/m2.K\n",
      "Ti = 400 #degC\n",
      "T0_tc = 50 #degC\n",
      "r0 = 5 #mm\n",
      "p = 3000 #kg/m3\n",
      "c = 1000 #J/kg\n",
      "k = 20 #W/m.K\n",
      "a = 6.66E-6 #m2/s\n",
      "\n",
      "#calculations:\n",
      "#biot num\n",
      "Bilcm = h*(r0/3*1E-3)/k\n",
      "Bi = h*r0*1E-3/k\n",
      "#from Table 16.6\n",
      "zeta = 1.8\n",
      "C = 1.376\n",
      "#Fourier number\n",
      "Fo = -1/zeta**2*math.log(1/C*(T0_tc - Tinf)/(Ti - Tinf))\n",
      "#center termperature\n",
      "tc = Fo*(r0*1E-3)**2/a\n",
      "\n",
      "#Results\n",
      "print  \"Time tc required to satisfy the cooling requirement is\", round(tc,1),\"s\"\n"
     ],
     "language": "python",
     "metadata": {},
     "outputs": [
      {
       "output_type": "stream",
       "stream": "stdout",
       "text": [
        "Time tc required to satisfy the cooling requirement is 3.3 s\n"
       ]
      }
     ],
     "prompt_number": 12
    },
    {
     "cell_type": "markdown",
     "metadata": {},
     "source": [
      "<h2>Example 16.12, page: 395</h2>"
     ]
    },
    {
     "cell_type": "code",
     "collapsed": false,
     "input": [
      "from __future__ import division\n",
      "import math\n",
      "\n",
      "# Initialization  of  Variable\n",
      "Ts = -15 #degC\n",
      "Ti = 20 #degC\n",
      "Txm_t = 0#degC\n",
      "p = 2050 #kg/m3\n",
      "c = 1840 #J/kg\n",
      "k = 0.52 #W/m.K\n",
      "t = 60 #days\n",
      "\n",
      "#calculations:\n",
      "a = k/(p*c)\n",
      "LHS = (Txm_t - Ts)/(Ti - Ts)\n",
      "#from Appendix HT-6\n",
      "#if erf(z) = LHS then\n",
      "z = 0.4\n",
      "#minimum depth to avoid freezing\n",
      "xm = 2*(a*t*3600*24)**0.5*z\n",
      "\n",
      "#Results\n",
      "print  \"Minimum pipe depth to avoid freezing is\", round(xm,2),\"m\"\n"
     ],
     "language": "python",
     "metadata": {},
     "outputs": [
      {
       "output_type": "stream",
       "stream": "stdout",
       "text": [
        "Minimum pipe depth to avoid freezing is 0.68 m\n"
       ]
      }
     ],
     "prompt_number": 13
    }
   ],
   "metadata": {}
  }
 ]
}