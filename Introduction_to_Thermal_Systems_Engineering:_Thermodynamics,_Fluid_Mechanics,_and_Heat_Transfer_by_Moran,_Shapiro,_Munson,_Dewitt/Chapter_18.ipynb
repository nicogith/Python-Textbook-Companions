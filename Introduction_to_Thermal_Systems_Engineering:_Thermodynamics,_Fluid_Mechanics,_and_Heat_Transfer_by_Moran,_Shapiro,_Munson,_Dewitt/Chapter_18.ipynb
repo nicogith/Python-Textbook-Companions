{
 "metadata": {
  "name": ""
 },
 "nbformat": 3,
 "nbformat_minor": 0,
 "worksheets": [
  {
   "cells": [
    {
     "cell_type": "markdown",
     "metadata": {},
     "source": [
      "<h1>Chapter 18: HEAT TRANSFER BY RADIATION</h1>"
     ]
    },
    {
     "cell_type": "markdown",
     "metadata": {},
     "source": [
      "<h2>Example 18.01, page: 472</h2>"
     ]
    },
    {
     "cell_type": "code",
     "collapsed": false,
     "input": [
      "from __future__ import division\n",
      "import math\n",
      "\n",
      "# Initialization  of  Variable\n",
      "E = 525 #W/m2\n",
      "a = 0.85\n",
      "p = 0.15\n",
      "Glambda= 600 #W/m2.um\n",
      "\n",
      "#calculations:\n",
      "lambda1 = 0.5 #um\n",
      "lambda2 = 1.0 #um\n",
      "lambda3 = 2.5 #um\n",
      "#total irradiation\n",
      "G = 0.5*Glambda*(lambda1 - 0) + Glambda*(lambda2 - lambda1) + 0.5*Glambda*(lambda3 - lambda2) + 0\n",
      "#Absorbed rad\n",
      "Gabs = a*G\n",
      "#total radiosity\n",
      "J =E + p*G\n",
      "#net radiative flux leaving the surface\n",
      "qradnet2 = E - Gabs\n",
      "\n",
      "#Results\n",
      "print  \"a) The total irradiation and the absorbed total irradiation are\", round(G,0),\"W/m2 and\", round(Gabs,0),\"W/m2\"\n",
      "print  \"b)total radiosity is\",round(J,0),\"W/m2\"\n",
      "print  \"c)net radiative flux leaving the surface is\", round(qradnet2,0),\"W/m2\"\n"
     ],
     "language": "python",
     "metadata": {},
     "outputs": [
      {
       "output_type": "stream",
       "stream": "stdout",
       "text": [
        "a) The total irradiation and the absorbed total irradiation are 900.0 W/m2 and 765.0 W/m2\n",
        "b)total radiosity is 660.0 W/m2\n",
        "c)net radiative flux leaving the surface is -240.0 W/m2\n"
       ]
      }
     ],
     "prompt_number": 1
    },
    {
     "cell_type": "markdown",
     "metadata": {},
     "source": [
      "<h2>Example 18.02, page: 477</h2>"
     ]
    },
    {
     "cell_type": "code",
     "collapsed": false,
     "input": [
      "from __future__ import division\n",
      "import math\n",
      "\n",
      "# Initialization  of  Variable\n",
      "T = 2000 #K\n",
      "x = 0.1\n",
      "sigma = 5.67E-8 #W/m2.K4\n",
      "lambda1T = 2200 #um.K\n",
      "lambda2T = 9382 #um.K\n",
      "C1 = 3.742E8 #W.um4/m2\n",
      "lambda_max = 1.45 #um\n",
      "C2 = 1.439E4 #um.K\n",
      "\n",
      "#calculations:\n",
      "#blackbody spectral emissive power\n",
      "E = sigma*T**4\n",
      "#wavelength 1 and 2\n",
      "lambda1 = lambda1T/T\n",
      "lambda2 = lambda2T/T\n",
      "#spectral emissive power corresponding to the peak of the blackbody curve\n",
      "Elambda_max_T = C1/lambda_max**5/(math.e**(C2/lambda_max/T) - 1)\n",
      "#Irradiation\n",
      "G = E\n",
      "\n",
      "#Results\n",
      "print  \"a)Emissive power of a small aperture on the enclosure is\", round(E,0),\"W/m2\"\n",
      "print  \"b)Wavelengths below which and above which 10% of the radiation is concentrated is\", round(lambda1,1),\"um and\",round(lambda2,1),\"um\"\n",
      "print  \"c)Maximum spectral emissive power and wavelength at which it occurs is\", round(Elambda_max_T,0),\"W/m2.um\"\n",
      "print  \"d)Irradiation on a small object inside the enclosure is\", round(G,0),\"W/m2\"\n"
     ],
     "language": "python",
     "metadata": {},
     "outputs": [
      {
       "output_type": "stream",
       "stream": "stdout",
       "text": [
        "a)Emissive power of a small aperture on the enclosure is 907200.0 W/m2\n",
        "b)Wavelengths below which and above which 10% of the radiation is concentrated is 1.1 um and 4.7 um\n",
        "c)Maximum spectral emissive power and wavelength at which it occurs is 411448.0 W/m2.um\n",
        "d)Irradiation on a small object inside the enclosure is 907200.0 W/m2\n"
       ]
      }
     ],
     "prompt_number": 2
    },
    {
     "cell_type": "markdown",
     "metadata": {},
     "source": [
      "<h2>Example 18.03, page: 478</h2>"
     ]
    },
    {
     "cell_type": "code",
     "collapsed": false,
     "input": [
      "from __future__ import division\n",
      "import math\n",
      "\n",
      "# Initialization  of  Variable\n",
      "l1 = 2 #um\n",
      "l2 = 4 #um\n",
      "sigma = 5.67E-8 #W/m2.K4\n",
      "T = 1500 #K\n",
      "\n",
      "#calculations:\n",
      "#from Table 18.2\n",
      "F02 = 0.273\n",
      "F04 = 0.738\n",
      "#Stefan-Boltzmann law\n",
      "El1l2 = (F04 - F02)*sigma*T**4\n",
      "\n",
      "#Results\n",
      "print \"Rate of emission per unit area is\", round(El1l2,0),\"W/m2\"\n"
     ],
     "language": "python",
     "metadata": {},
     "outputs": [
      {
       "output_type": "stream",
       "stream": "stdout",
       "text": [
        "Rate of emission per unit area is 133475.0 W/m2\n"
       ]
      }
     ],
     "prompt_number": 3
    },
    {
     "cell_type": "markdown",
     "metadata": {},
     "source": [
      "<h2>Example 18.04, page: 480</h2>"
     ]
    },
    {
     "cell_type": "code",
     "collapsed": false,
     "input": [
      "from __future__ import division\n",
      "import math\n",
      "\n",
      "# Initialization  of  Variable\n",
      "T = 1600 #k\n",
      "sigma = 5.67E-8 #W/m2.K4\n",
      "e1 = 0.4\n",
      "e2 = 0.8\n",
      "\n",
      "#calculations:\n",
      "#from Table 18.2\n",
      "F02 = 0.318\n",
      "F05 = 0.856\n",
      "#total emissivity for this spectrally selective material at 1600 K\n",
      "e = e1*F02 + e2*(F05 - F02)\n",
      "#total emissive power\n",
      "E = e*sigma*T**4\n",
      "\n",
      "#Results\n",
      "print  \"a)Total emissivity is\", round(e,3)\n",
      "print  \"b)Total Emissive power is\", round(E/1000,0),\"kW/m2\"\n"
     ],
     "language": "python",
     "metadata": {},
     "outputs": [
      {
       "output_type": "stream",
       "stream": "stdout",
       "text": [
        "a)Total emissivity is 0.558\n",
        "b)Total Emissive power is 207.0 kW/m2\n"
       ]
      }
     ],
     "prompt_number": 4
    },
    {
     "cell_type": "markdown",
     "metadata": {},
     "source": [
      "<h2>Example 18.05, page: 485</h2>"
     ]
    },
    {
     "cell_type": "code",
     "collapsed": false,
     "input": [
      "from __future__ import division\n",
      "import math\n",
      "\n",
      "# Initialization  of  Variable\n",
      "al1 = 0.8\n",
      "al2 = 0.1\n",
      "Tsi = 300 #K\n",
      "Tf = 1200 #K\n",
      "sigma = 5.67E-8 #W/m2.K4\n",
      "\n",
      "#calculations:\n",
      "#from Table 18.2\n",
      "F0l1 = 0.738\n",
      "F0l2 = 1\n",
      "#total absorptivity\n",
      "ai = al1*F0l1 + al2*(F0l2 - F0l1)\n",
      "#from Table 18.2\n",
      "F0l1 = 0.014\n",
      "F0l2 = 1\n",
      "#total emissivity\n",
      "ei = al1*F0l1 + al2*(F0l2 - F0l1)\n",
      "#net radiative heat flux leaving the sphere\n",
      "qradnet2 = ei*sigma*Tsi**4 - ai*sigma*Tf**4\n",
      "#at final condition\n",
      "af = ai\n",
      "ef = af\n",
      "\n",
      "#Results\n",
      "print  \"a)For the Initial Condition, Total absorptivity is\", round(ai,2),\", emissivity of the coating is\", round(ei,2),\" and net radiative heat flux is\", round(qradnet2/1000,0),\"kW/m2\"\n",
      "print  \"b)For the Final Condition, Total absorptivity is\", round(af,2),\" and emissivity of the coating is\", round(ef,2)\n"
     ],
     "language": "python",
     "metadata": {},
     "outputs": [
      {
       "output_type": "stream",
       "stream": "stdout",
       "text": [
        "a)For the Initial Condition, Total absorptivity is 0.62 , emissivity of the coating is 0.11  and net radiative heat flux is -72.0 kW/m2\n",
        "b)For the Final Condition, Total absorptivity is 0.62  and emissivity of the coating is 0.62\n"
       ]
      }
     ],
     "prompt_number": 5
    },
    {
     "cell_type": "markdown",
     "metadata": {},
     "source": [
      "<h2>Example 18.06, page: 487</h2>"
     ]
    },
    {
     "cell_type": "code",
     "collapsed": false,
     "input": [
      "from __future__ import division\n",
      "import math\n",
      "\n",
      "# Initialization  of  Variable\n",
      "Tp = 300 #K\n",
      "Gs = 1353 #W/m2\n",
      "Tds = 0 #K\n",
      "l1 = 0.3 #um\n",
      "l2 = 1.5 #um\n",
      "Ts = 5800 #K\n",
      "sigma = 5.67E-8 #W/m2.K4\n",
      "\n",
      "#calculations:\n",
      "#from Fig E18.6a\n",
      "al1 = 1 - 0\n",
      "al2 = 1 - 0.95\n",
      "al3 = 1 - 0.05\n",
      "F0l1 = 0.03345\n",
      "F0l2 = 0.8808\n",
      "#solar absorptivity\n",
      "aS = al1*F0l1 + al2*(F0l2 - F0l1) + al3*(1 - F0l2)\n",
      "pl3 = 0.05\n",
      "#total emissivity\n",
      "al3 = 1 - pl3\n",
      "e = al3\n",
      "#net radiative heat flux leaving the panel surface is\n",
      "qradnet2 = e*sigma*Tp**4 - aS*Gs\n",
      "\n",
      "#Results\n",
      "print \"net  radiative  heat  flux  leaving  is\", round(qradnet2,0),\"W/m2\"\n",
      "#answer wrong in book\n"
     ],
     "language": "python",
     "metadata": {},
     "outputs": [
      {
       "output_type": "stream",
       "stream": "stdout",
       "text": [
        "net  radiative  heat  flux  leaving  is 181.0 W/m2\n"
       ]
      }
     ],
     "prompt_number": 6
    },
    {
     "cell_type": "markdown",
     "metadata": {},
     "source": [
      "<h2>Example 18.07, page: 491</h2>"
     ]
    },
    {
     "cell_type": "code",
     "collapsed": false,
     "input": [
      "from __future__ import division\n",
      "import math\n",
      "\n",
      "# Initialization  of  Variable\n",
      "La = 1 #m\n",
      "Ra = 1 #m\n",
      "Db = 1 #m\n",
      "r3c = 0.5 #m\n",
      "Lc = 1 #m\n",
      "r1c = 0.5 #m\n",
      "Dc = 2*r3c #m\n",
      "\n",
      "#calculations:\n",
      "#a)\n",
      "A1a = 2*Ra*La\n",
      "A2a = 2*math.pi*Ra*La/4\n",
      "#F12a = F13a, from symmetry\n",
      "F11a = 0\n",
      "F12a = 0.5\n",
      "#reciprocity relation between surfaces A1 and A2\n",
      "F21a = A1a/A2a*F12a\n",
      "#b)\n",
      "A1b = math.pi*(Db/2)**2/4\n",
      "A2b = math.pi*Db**2/2\n",
      "F12b = 1.0\n",
      "#the reciprocity relation between surfaces A1 and A2\n",
      "F21b = A1b/A2b*F12b\n",
      "#based upon a symmetry argument that A2 sees as much of itself as it does of A1 and A3 combined\n",
      "F22b = 0.50\n",
      "#Applying the summation rule to surface A2\n",
      "F23b = 1 - F21b - F22b\n",
      "#c)\n",
      "A1c = (math.pi*Dc**2)/4\n",
      "A2c = math.pi*Dc*Lc\n",
      "#By inspection,\n",
      "F11c = 0\n",
      "#from the chart for the coaxial, parallel disks,\n",
      "F13c = 0.17\n",
      "#Substituting numerical values into the summation rule\n",
      "F12c = 1 - F11c - F13c\n",
      "#From the reciprocity relation between surfaces A1 and A2,\n",
      "F21c = A1c/A2c*F12c\n",
      "\n",
      "#Results\n",
      "print  \"a) for long open channel, F12 = \", round(F12a,1),\" and F21 = \", round(F21a,3)\n",
      "print  \"b) for Hemispherical-disk arrangement, F12 = \", round(F12b,0),\",F21 = \", round(F21b,3),\", F22 = \", round(F22b,2),\" and F23 = \", round(F23b,3)\n",
      "print  \"c) for End and side of a circular tube of equal length and diameter, F12 = \", round(F12c,2),\" and F21 = \", round(F21c,2)\n"
     ],
     "language": "python",
     "metadata": {},
     "outputs": [
      {
       "output_type": "stream",
       "stream": "stdout",
       "text": [
        "a) for long open channel, F12 =  0.5  and F21 =  0.637\n",
        "b) for Hemispherical-disk arrangement, F12 =  1.0 ,F21 =  0.125 , F22 =  0.5  and F23 =  0.375\n",
        "c) for End and side of a circular tube of equal length and diameter, F12 =  0.83  and F21 =  0.21\n"
       ]
      }
     ],
     "prompt_number": 7
    },
    {
     "cell_type": "markdown",
     "metadata": {},
     "source": [
      "<h2>Example 18.08, page: 494</h2>"
     ]
    },
    {
     "cell_type": "code",
     "collapsed": false,
     "input": [
      "from __future__ import division\n",
      "import math\n",
      "\n",
      "# Initialization  of  Variable\n",
      "L = 0.15 #m\n",
      "D = 0.075 #m\n",
      "T1 = 1350 #degC\n",
      "T2 = 1650 #degC\n",
      "Tsur = 300 #K\n",
      "T3 = Tsur\n",
      "sigma = 5.67E-8 #W/m2.K4\n",
      "\n",
      "#calculations:\n",
      "#from fig 18.22b\n",
      "F23 = 0.06\n",
      "#From the summation rule for surface A2,\n",
      "F22 = 0\n",
      "F21 = 1 - F22 - F23\n",
      "#using the reciprocity relation\n",
      "A2 = math.pi*D**2/4\n",
      "A1 = math.pi*D*L\n",
      "F12 = A2/A1*F21\n",
      "#From symmetry considerations,\n",
      "F13 = F12\n",
      "#Power, Pe\n",
      "Pe = A1*F13*sigma*((T1 + 273)**4 - T3**4) + A2*F23*sigma*((T2 + 273)**4 - T3**4)\n",
      "\n",
      "#Results\n",
      "print  \"Electrical power required to maintain prescribed temperatures is\", round(Pe,0),\"W\"\n",
      "#answer wrong in book\n"
     ],
     "language": "python",
     "metadata": {},
     "outputs": [
      {
       "output_type": "stream",
       "stream": "stdout",
       "text": [
        "Electrical power required to maintain prescribed temperatures is 1837.0 W\n"
       ]
      }
     ],
     "prompt_number": 8
    },
    {
     "cell_type": "markdown",
     "metadata": {},
     "source": [
      "<h2>Example 18.09, page: 499</h2>"
     ]
    },
    {
     "cell_type": "code",
     "collapsed": false,
     "input": [
      "from __future__ import division\n",
      "import math\n",
      "\n",
      "# Initialization  of  Variable\n",
      "sigma = 5.67E-8 #W/m2.K4\n",
      "T2 = 300 #K\n",
      "D2 = 0.05 #m\n",
      "e2 = 0.05\n",
      "T1 = 77 #K\n",
      "D1 = 0.02 #m\n",
      "e1 = 0.02\n",
      "D3 = 0.035 #m\n",
      "e3 = 0.02\n",
      "L = 1 #m\n",
      "\n",
      "#calculations:\n",
      "F13 = 1\n",
      "F32 = 1\n",
      "#heat rate from the cryogenic fluid per unit tube length is\n",
      "qwo1 = sigma*math.pi*D1*(T1**4 - T2**4)/(1/e1 + (1-e2)/e2*D1/D2)\n",
      "#b) Total Resistance\n",
      "Rtot = (1 - e1)/e1/math.pi/D1/L + 1/math.pi/D1/L/F13 + 2*(1-e3)/e3/math.pi/D3/L + 1/math.pi/D3/L/F32 + (1-e2)/e2/math.pi/D2/L\n",
      "#the desired heat rate\n",
      "qw1 = sigma*(T1**4 - T2**4)/Rtot/L\n",
      "#percentage change in the heat transfer to the cryogenic fluid is\n",
      "dqw1 = (qw1 - qwo1)/qwo1*100\n",
      "\n",
      "#Results\n",
      "print  \"a)Heat transfer by the cryogenic fluid passing through the inner tube without the radiation shield is\", round(qwo1,2),\"W/m\"\n",
      "print  \"b)Percentage change in heat transfer with the radiation shield inserted midway between inner and outer tubes is\",round(dqw1,0),\"%\"\n"
     ],
     "language": "python",
     "metadata": {},
     "outputs": [
      {
       "output_type": "stream",
       "stream": "stdout",
       "text": [
        "a)Heat transfer by the cryogenic fluid passing through the inner tube without the radiation shield is -0.5 W/m\n",
        "b)Percentage change in heat transfer with the radiation shield inserted midway between inner and outer tubes is -50.0 %\n"
       ]
      }
     ],
     "prompt_number": 9
    },
    {
     "cell_type": "markdown",
     "metadata": {},
     "source": [
      "<h2>Example 18.10, page: 501</h2>"
     ]
    },
    {
     "cell_type": "code",
     "collapsed": false,
     "input": [
      "from __future__ import division\n",
      "import math\n",
      "\n",
      "# Initialization  of  Variable\n",
      "e3 = 0.8\n",
      "W = 1 #m\n",
      "T1 = 1200 #K\n",
      "e1 = 0.8\n",
      "T2 = 500 #K\n",
      "e2 = 0.4\n",
      "sigma = 5.67E-8 #W/m2.K4\n",
      "L = 1 #m\n",
      "\n",
      "#calculations:\n",
      "#From symmetry considerations\n",
      "F12 = 0.5\n",
      "F1R = 0.5\n",
      "F2R = 0.5\n",
      "A1 = W*L\n",
      "A2 = W*L\n",
      "#The rate at which energy must be supplied to the heated surface\n",
      "q1_dash = sigma*(T1**4 - T2**4)/((1-e1)/e1/A1 + 1/(A1*F12 + (1/A1/F1R + 1/A2/F2R)**-1) + (1-e2)/e2/A2)/L\n",
      "#the surface energy balance\n",
      "J1 = sigma*T1**4 - (1-e1)/e1/W*q1_dash\n",
      "J2 = sigma*T2**4 - (1-e2)/e2/W*-1*q1_dash\n",
      "#From the energy balance for the reradiating surface\n",
      "JR = (J1 + J2)/2\n",
      "#Temp\n",
      "TR = (JR/sigma)**0.25\n",
      "\n",
      "#Results\n",
      "print  \"a)Rate at which energy must be supplied per unit length of duct is\", round(q1_dash/1000,0),\"kW/m\"\n",
      "print  \"b)Temperature of the insulated surface is\", round(TR,0),\"K\"\n"
     ],
     "language": "python",
     "metadata": {},
     "outputs": [
      {
       "output_type": "stream",
       "stream": "stdout",
       "text": [
        "a)Rate at which energy must be supplied per unit length of duct is 37.0 kW/m\n",
        "b)Temperature of the insulated surface is 1102.0 K\n"
       ]
      }
     ],
     "prompt_number": 10
    }
   ],
   "metadata": {}
  }
 ]
}