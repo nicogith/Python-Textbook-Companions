{
 "metadata": {
  "name": ""
 },
 "nbformat": 3,
 "nbformat_minor": 0,
 "worksheets": [
  {
   "cells": [
    {
     "cell_type": "markdown",
     "metadata": {},
     "source": [
      "<h1>Chapter 10: PSYCHROMETRIC APPLICATIONS</h1>"
     ]
    },
    {
     "cell_type": "markdown",
     "metadata": {},
     "source": [
      "<h2>Example 10.01, page: 250</h2>"
     ]
    },
    {
     "cell_type": "code",
     "collapsed": false,
     "input": [
      "from __future__ import division\n",
      "import math\n",
      "\n",
      "# Initialization  of  Variable\n",
      "m = 1 #lb\n",
      "T1 = 70 #degF\n",
      "phi = 0.7\n",
      "T2 = 40 #degR\n",
      "P = 14.7 #lbf/in2\n",
      "\n",
      "#calculations:\n",
      "#from Table T-2E\n",
      "Pg1 = 0.3632 #lbf/in2\n",
      "Pv1 = phi*Pg1\n",
      "w1 = 0.622*Pv1/(P - Pv1)\n",
      "#dew point Temp\n",
      "Td = 60 #degF\n",
      "#\n",
      "mv1 = 1/(1 + 1/w1)\n",
      "ma = 1 - mv1\n",
      "#\n",
      "Pg2 = 0.1217 #lbf/in2\n",
      "w2 = 0.622*Pg2/(P - Pg2)\n",
      "#mass of the water vapor present at the final state\n",
      "mv2 = w2*ma\n",
      "#amount of water vapor that condenses is\n",
      "mw = mv1 - mv2\n",
      "\n",
      "#Results\n",
      "print  \"a)the initial humidity ratio is\", round(w1,3),\"lb(vapor)/lb(dry)\"\n",
      "print  \"b) dew point temp is\", Td,\"degF\"\n",
      "print  \"c)mass  of  water  vapor  that  condenses is\", round(mw,4),\"lb(condensate)\"\n"
     ],
     "language": "python",
     "metadata": {},
     "outputs": [
      {
       "output_type": "stream",
       "stream": "stdout",
       "text": [
        "a)the initial humidity ratio is 0.011 lb(vapor)/lb(dry)\n",
        "b) dew point temp is 60 degF\n",
        "c)mass  of  water  vapor  that  condenses is 0.0057 lb(condensate)\n"
       ]
      }
     ],
     "prompt_number": 1
    },
    {
     "cell_type": "markdown",
     "metadata": {},
     "source": [
      "<h2>Example 10.02, page: 250</h2>"
     ]
    },
    {
     "cell_type": "code",
     "collapsed": false,
     "input": [
      "from __future__ import division\n",
      "import math\n",
      "\n",
      "# Initialization  of  Variable\n",
      "AV1 = 150 #m3/min\n",
      "T1 = 10 #degC\n",
      "phi1 = 0.8\n",
      "T2 = 30 #degC\n",
      "P = 1 #bar\n",
      "R = 8314/28.97 #J/kg-K\n",
      "\n",
      "#calculations:\n",
      "#from Table T-9\n",
      "ha1 = 283.1 #kJ/kg\n",
      "ha2 = 303.2 #kJ/kg\n",
      "hg1 = 2519.8 #kJ/kg\n",
      "hg2 = 2556.3 #kJ/kg\n",
      "#From Table T-2\n",
      "Pg1 = 0.01228 #bar\n",
      "Pv1 = phi1*Pg1\n",
      "Pa1 = 0.9902\n",
      "#specific volume of the dry air\n",
      "va1 = R*(T1 + 273)/(Pa1*1E5)\n",
      "#mass flow rate of the dry air\n",
      "madot = AV1/va1\n",
      "#humidity ratio\n",
      "w = 0.622*(Pv1/(P - Pv1))\n",
      "Qcvdot = madot*((ha2 - ha1) + w*(hg2 - hg1))\n",
      "# From Table T-2\n",
      "Pv2 = Pv1\n",
      "Pg2 = 0.04246\n",
      "#relative humidity\n",
      "phi2 = Pv2/Pg2\n",
      "\n",
      "#Results\n",
      "print  \"a)heat  flow  rate is\", round(Qcvdot,0),\"kJ/min\"\n",
      "print  \"b)relative humidity  is\", round(phi2*100,1),\"%\"\n"
     ],
     "language": "python",
     "metadata": {},
     "outputs": [
      {
       "output_type": "stream",
       "stream": "stdout",
       "text": [
        "a)heat  flow  rate is 3717.0 kJ/min\n",
        "b)relative humidity  is 23.1 %\n"
       ]
      }
     ],
     "prompt_number": 2
    },
    {
     "cell_type": "markdown",
     "metadata": {},
     "source": [
      "<h2>Example 10.03, page: 250</h2>"
     ]
    },
    {
     "cell_type": "code",
     "collapsed": false,
     "input": [
      "from __future__ import division\n",
      "import math\n",
      "\n",
      "# Initialization  of  Variable\n",
      "AV1 = 280 #m3/min\n",
      "T1 = 30 #degC\n",
      "phi1 = 0.5\n",
      "T2 = 10 #degC\n",
      "Tsat = 10 #degC\n",
      "P1 = 1.013 #bar\n",
      "R = 8314/28.97 #J/kg-K\n",
      "\n",
      "#calculations:\n",
      "#from Table T-2\n",
      "Pg1 = 0.04246 #bar\n",
      "Pv1 = phi1*Pg1\n",
      "Pa1 = P1 - Pv1\n",
      "#mass flow rate\n",
      "madot = AV1*(Pa1*1E5)/(R*(T1+ 273))\n",
      "#\n",
      "w1 = 0.622*Pv1/(P1 - Pv1)\n",
      "#from Table T-2\n",
      "Pg2 = 0.01228 #bar\n",
      "w2 = 0.0076 #kg(vapor)/kg(dry air)\n",
      "#ratio\n",
      "mwmadot = w1 - w2\n",
      "#from Table T-2 and T-9\n",
      "ha2 = 283.1 #kJ/kg\n",
      "ha1 = 303.2 #kJ/kg\n",
      "hg2 = 2519.8 #kJ/kg\n",
      "hg1 = 2556.3 #kJ/kg\n",
      "hf2 = 42.01 #kJ/kg\n",
      "#heat transfer rate\n",
      "Qcvdot = madot*(ha2 - ha1 - w1*hg1 + w2*hg2 + (w1 - w2)*hf2)/211\n",
      "\n",
      "#Results\n",
      "print  \"a) mass  flow  rate  is\", round(madot,2),\"kg/min\"\n",
      "print  \"b) the rate at which water is condensed is\", round(mwmadot,4),\"kg(vapor)/kg(dry air)\"\n",
      "print  \"required refrigerating capacity is\", round(-1*Qcvdot,1),\"tons\"\n"
     ],
     "language": "python",
     "metadata": {},
     "outputs": [
      {
       "output_type": "stream",
       "stream": "stdout",
       "text": [
        "a) mass  flow  rate  is 319.35 kg/min\n",
        "b) the rate at which water is condensed is 0.0057 kg(vapor)/kg(dry air)\n",
        "required refrigerating capacity is 52.6 tons\n"
       ]
      }
     ],
     "prompt_number": 3
    },
    {
     "cell_type": "markdown",
     "metadata": {},
     "source": [
      "<h2>Example 10.04, page: 250</h2>"
     ]
    },
    {
     "cell_type": "code",
     "collapsed": false,
     "input": [
      "from __future__ import division\n",
      "import math\n",
      "\n",
      "# Initialization  of  Variable\n",
      "madot = 90 #kg/min\n",
      "T1 = 22 #degC\n",
      "Twb = 9 #degC\n",
      "mstdot = 52 #kg/h\n",
      "Tsat = 110 #degC\n",
      "\n",
      "#calculations:\n",
      "#From Table T-4\n",
      "w1 = 0.002 #kg(vapor)/kg(dry air)\n",
      "#\n",
      "w2 = w1 + (mstdot/60)/madot\n",
      "#from table T-2 and T-9\n",
      "T2 = 23.5 #degC\n",
      "\n",
      "#Results\n",
      "print \"a) humidity  ratio  is\", round(w2,4),\"kg(vapor)/kg(dry air)\"\n",
      "print \"b) Temperature T2 is\", T2,\"degC\"\n"
     ],
     "language": "python",
     "metadata": {},
     "outputs": [
      {
       "output_type": "stream",
       "stream": "stdout",
       "text": [
        "a) humidity  ratio  is 0.0116 kg(vapor)/kg(dry air)\n",
        "b) Temperature T2 is 23.5 degC\n"
       ]
      }
     ],
     "prompt_number": 4
    },
    {
     "cell_type": "markdown",
     "metadata": {},
     "source": [
      "<h2>Example 10.05, page: 250</h2>"
     ]
    },
    {
     "cell_type": "code",
     "collapsed": false,
     "input": [
      "from __future__ import division\n",
      "import math\n",
      "\n",
      "# Initialization  of  Variable\n",
      "T1 = 100 #degF\n",
      "phi1 = 0.10\n",
      "AV1 = 5000 #ft3/min\n",
      "Tw = 70 #degF\n",
      "T2 = 70 #degF\n",
      "P = 14.696 #lbf/in2\n",
      "Cpa = 0.24 #Btu/lb-degR\n",
      "\n",
      "#calculations:\n",
      "#From Table T-2E\n",
      "Pg1 = 0.95 #lbf/in2\n",
      "#partial pressure of the moist air\n",
      "Pv1 = phi1*Pg1\n",
      "#humidity at 1\n",
      "w1 = 0.622*Pv1/(P- Pv1)\n",
      "#specific vol of dry air\n",
      "va1 = 14.2 #ft3/lb(dry air)\n",
      "#mass flow rate of dry air\n",
      "madot = AV1/va1\n",
      "#from Table T-2E\n",
      "hf = 38.1 #Btu/lb\n",
      "hg1 = 1105 #Btu/lb\n",
      "hg2 = 1092 #Btu/lb\n",
      "#w2\n",
      "w2 = (Cpa*(T1 - T2) + w1*(hg1 - hf))/(hg2 - hf)\n",
      "#\n",
      "mwdot = madot*60*(w2 - w1)\n",
      "#\n",
      "Pv2 = w2*P/(w2 + 0.622)\n",
      "#saturation Pressure at 70 degF\n",
      "Psat = 0.3632 #lbf/in2\n",
      "#relative humidity at exit\n",
      "phi2 = Pv2/Psat\n",
      "\n",
      "#Results\n",
      "print  \"a) mass  flow  rate  is\", round(mwdot,1),\"lb(water)/h\"\n",
      "print  \"b) relative  humidity  is\",round(phi2*100,1),\"%\"\n",
      "#answer slightly varies with book\n"
     ],
     "language": "python",
     "metadata": {},
     "outputs": [
      {
       "output_type": "stream",
       "stream": "stdout",
       "text": [
        "a) mass  flow  rate  is 145.4 lb(water)/h\n",
        "b) relative  humidity  is 69.9 %\n"
       ]
      }
     ],
     "prompt_number": 5
    },
    {
     "cell_type": "markdown",
     "metadata": {},
     "source": [
      "<h2>Example 10.06, page: 250</h2>"
     ]
    },
    {
     "cell_type": "code",
     "collapsed": false,
     "input": [
      "from __future__ import division\n",
      "import math\n",
      "\n",
      "# Initialization  of  Variable\n",
      "AV1 = 142 #m3/min\n",
      "T1 = 5 #degC\n",
      "w1 = 0.002 #kg(vapor)/(kg(dry air)\n",
      "AV2 = 425 #m3/min\n",
      "T2 = 24 #degC\n",
      "phi2 = 0.5\n",
      "\n",
      "#calculations:\n",
      "#from psychometric chart\n",
      "va1 = 0.79 #m3/kg(dry air)\n",
      "va2 = 0.855 #m3/kg(dry air)\n",
      "w2 = 0.0094\n",
      "#mass flow rate of dry air at 1 and 2\n",
      "ma1dot = AV1/va1\n",
      "ma2dot = AV2/va2\n",
      "#w3\n",
      "w3 = (w1*ma1dot + w2*ma2dot)/(ma1dot + ma2dot)\n",
      "#from fig T-4\n",
      "#ha1 = (ha + w*hv)1\n",
      "#ha2 = (ha + whv)2\n",
      "#ha3 = (ha + w*hv)3\n",
      "ha1 = 10 #kJ/kg(dry air)\n",
      "ha2 = 47.8 #kJ/kg(dry air)\n",
      "ha3 = (ma1dot*ha1 + ma2dot*ha2)/(ma1dot + ma2dot)\n",
      "#from Fig T-4\n",
      "T3 = 19 #degC\n",
      "\n",
      "#Results\n",
      "print  \"a) humidity ratio is\", round(w3,4),\"kg(vapor)/kg(dry air)\"\n",
      "print  \"b) temperature  by  inspection is\", T3,\"degC\"\n"
     ],
     "language": "python",
     "metadata": {},
     "outputs": [
      {
       "output_type": "stream",
       "stream": "stdout",
       "text": [
        "a) humidity ratio is 0.0074 kg(vapor)/kg(dry air)\n",
        "b) temperature  by  inspection is 19 degC\n"
       ]
      }
     ],
     "prompt_number": 6
    },
    {
     "cell_type": "markdown",
     "metadata": {},
     "source": [
      "<h2>Example 10.07, page: 250</h2>"
     ]
    },
    {
     "cell_type": "code",
     "collapsed": false,
     "input": [
      "from __future__ import division\n",
      "import math\n",
      "\n",
      "# Initialization  of  Variable\n",
      "T1 = 38 #degC\n",
      "m1dot = 4.5E7 #kg/h\n",
      "T2 = 30 #degC\n",
      "m2dot = 4.5E7 #kg/h\n",
      "T3 = 25 #degC\n",
      "phi3 = 0.35\n",
      "T4 = 35 #degC\n",
      "phi4 = 0.9\n",
      "T5 = 20 #degC\n",
      "\n",
      "#calculations:\n",
      "#from Table T-2 nd T-9\n",
      "w3 = 0.00688 #kg(vapor)/kg(dry air)\n",
      "w4 = 0.0327 #kg(vapor)/kg(dry air)\n",
      "hf1 = 159.21 #kJ/kg\n",
      "hf2 = 125.79 #kJ/kg\n",
      "ha4 = 308.2 #kJ/kg\n",
      "ha3 = 298.2 #kJ/kg\n",
      "hg4 = 2565.3 #kJ/kg\n",
      "hg3 = 2547.2 #kJ/kg\n",
      "hf5 = 83.96 #kJ/kg\n",
      "#mass flow rate of dry air\n",
      "madot = m1dot*(hf1 - hf2)/((ha4 - ha3) + w4*hg4 - w3*hg3 - (w4 - w3)*hf5)\n",
      "#mass flow rate of water\n",
      "m5dot = madot*(w4 - w3)\n",
      "\n",
      "#Results\n",
      "print  \"mass  flow  rate of dry air and water are\",round(madot,0),\"kg/h and\", round(m5dot,0),\"kg/h\"\n"
     ],
     "language": "python",
     "metadata": {},
     "outputs": [
      {
       "output_type": "stream",
       "stream": "stdout",
       "text": [
        "mass  flow  rate of dry air and water are 20270181.0 kg/h and 523376.0 kg/h\n"
       ]
      }
     ],
     "prompt_number": 7
    }
   ],
   "metadata": {}
  }
 ]
}