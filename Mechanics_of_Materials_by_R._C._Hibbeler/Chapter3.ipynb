{
 "metadata": {
  "name": ""
 },
 "nbformat": 3,
 "nbformat_minor": 0,
 "worksheets": [
  {
   "cells": [
    {
     "cell_type": "heading",
     "level": 1,
     "metadata": {},
     "source": [
      "Chapter 3: Mechanics Properties of Materials"
     ]
    },
    {
     "cell_type": "heading",
     "level": 2,
     "metadata": {},
     "source": [
      "Example 3.1 Page no 94"
     ]
    },
    {
     "cell_type": "code",
     "collapsed": false,
     "input": [
      "#Given\n",
      "offset = 0.2 #\n",
      "a_x = 0.0016 #in/in\n",
      "a_y = 50     #ksi\n",
      "\n",
      "#Calculations\n",
      "#Modulus of Elasticity\n",
      "E = a_y/(a_x*10**3) #E is the slope in GPa.\n",
      "#Yield Strength\n",
      "sigma_ys = 68       #ksi, Graphically, for a strain of 0.0016 mm/mm\n",
      "#Ultimate Stress\n",
      "sigma_u = 108       #ksi B is the peak of stress strain graph.\n",
      "#Fracture Stress\n",
      "ep_f = 0.23        #in/in\n",
      "sigma_f = 90       #ksi from the graph.\n",
      "\n",
      "#Display\n",
      "print\"The Modulus of Elasticity is   \",E,\"ksi\"\n",
      "print\"The Yield Strength from the graph \",sigma_ys,\"ksi\"\n",
      "print\"The Ultimate Stress from the graph is \",sigma_u,\"ksi\"\n",
      "print\"The Fracture Stress from the graph is \",sigma_f,\"ksi\"\n"
     ],
     "language": "python",
     "metadata": {},
     "outputs": [
      {
       "output_type": "stream",
       "stream": "stdout",
       "text": [
        "The Modulus of Elasticity is    31.25 ksi\n",
        "The Yield Strength from the graph  68 ksi\n",
        "The Ultimate Stress from the graph is  108 ksi\n",
        "The Fracture Stress from the graph is  90 ksi\n"
       ]
      }
     ],
     "prompt_number": 7
    },
    {
     "cell_type": "heading",
     "level": 2,
     "metadata": {},
     "source": [
      "Example 3.2 Page No 95"
     ]
    },
    {
     "cell_type": "code",
     "collapsed": false,
     "input": [
      "#Given\n",
      "stress_b = 600          #MPa, stress\n",
      "strain_b = 0.023       #mm/mm, strain\n",
      "stress_a = 450         #Mpa, stress\n",
      "strain_a = 0.006      #mm/mm, strain\n",
      "\n",
      "#Calculations\n",
      "#Permanent Strain\n",
      "E = stress_a/strain_a\n",
      "strain_cd = stress_b/E              #The recovered elastic strain\n",
      "perm_strain = strain_b - strain_cd  #mm/mm\n",
      "\n",
      "#Modulus of Resilience\n",
      "ur_initial = (0.5*stress_a*strain_a)\n",
      "ur_final = (0.5*stress_b*strain_cd) \n",
      "\n",
      "#Display\n",
      "print\"The Permanent Strain is              =\",perm_strain,\"mm/mm\"\n",
      "print\"The Initial Modulus of Resilience is = \",ur_initial,\"MJ/mm**3\"\n",
      "print\"The Final Modulus of Resilience is   = \",ur_final,\"MJ/mm**3\"\n"
     ],
     "language": "python",
     "metadata": {},
     "outputs": [
      {
       "output_type": "stream",
       "stream": "stdout",
       "text": [
        "The Permanent Strain is              = 0.015 mm/mm\n",
        "The Initial Modulus of Resilience is =  1.35 MJ/mm**3\n",
        "The Final Modulus of Resilience is   =  2.4 MJ/mm**3\n"
       ]
      }
     ],
     "prompt_number": 11
    },
    {
     "cell_type": "heading",
     "level": 2,
     "metadata": {},
     "source": [
      "Example 3.3 Page No 96"
     ]
    },
    {
     "cell_type": "code",
     "collapsed": false,
     "input": [
      "\n",
      "#Given\n",
      "p = 10000         #N, load\n",
      "E_al = 70*(10**3) #MPa,pressure\n",
      "#The given dimension are\n",
      "l_ab = 600.0     #mm\n",
      "d_ab = 20.0     #mm\n",
      "l_bc = 400.0    #mm\n",
      "d_bc = 15.0     #mm\n",
      "\n",
      "#Calculations\n",
      "import math\n",
      "a_ab = (math.pi/4.0)*(d_ab**2)     # Area of AB\n",
      "a_bc = (math.pi/4.0)*(d_bc**2)\n",
      "stress_ab = p/a_ab\n",
      "stress_bc = p/a_bc\n",
      "e_ab = stress_ab/E_al \n",
      "e_bc = 0.045                        #mm/mm . From the graph for stress_bc\n",
      "elongation = (l_ab*e_ab)+ (l_bc*e_bc)\n",
      "strain_rec = stress_bc/E_al \n",
      "e_og = e_bc-strain_rec\n",
      "rod_elong = e_og*l_bc\n",
      "\n",
      "#Display\n",
      "print\"The elongation of the rod when load is applied is\",round(elongation,1),\"mm\"\n"
     ],
     "language": "python",
     "metadata": {},
     "outputs": [
      {
       "output_type": "stream",
       "stream": "stdout",
       "text": [
        "The elongation of the rod when load is applied is 18.3 mm\n"
       ]
      }
     ],
     "prompt_number": 13
    },
    {
     "cell_type": "heading",
     "level": 2,
     "metadata": {},
     "source": [
      "Example 3.4 Page No 103"
     ]
    },
    {
     "cell_type": "code",
     "collapsed": false,
     "input": [
      "#Given\n",
      "P = 80     \t#kN load\n",
      "#Dimensions are\n",
      "l_z = 1.5\t #m\n",
      "l_y = 0.05\t#m\n",
      "l_x = 0.1 \t#m\n",
      "\n",
      "#Calculations\n",
      "Aa= l_x*l_y\n",
      "normal_stress_z = (P*(10**3))/Aa\n",
      "Est = 200 #GPa - from the tables.\n",
      "strain_z = (normal_stress_z)/(Est*(10**9)) \n",
      "axial_elong = strain_z*l_z          #elongation in the y direction\n",
      "nu_st = 0.32                        #Poisson's Ratio - from the tables.\n",
      "strain_x = -(nu_st)*(strain_z)     #strain in the x direction.\n",
      "strain_y = strain_x\n",
      "#Elongations\n",
      "delta_x = strain_x*l_x\n",
      "delta_y = strain_y*l_y\n",
      "\n",
      "#Display\n",
      "print\"The change in the length (z direction)       =\",axial_elong*10**6,\"micrometer\"\n",
      "print\"The change in the cross section (x direction)=\",delta_x*10**6,\"micrometer\"\n",
      "print\"The change in the cross section (y direction)=\",delta_y*10**6,\"micrometer\"\n"
     ],
     "language": "python",
     "metadata": {},
     "outputs": [
      {
       "output_type": "stream",
       "stream": "stdout",
       "text": [
        "The change in the length (z direction)       = 120.0 micrometer\n",
        "The change in the cross section (x direction)= -2.56 micrometer\n",
        "The change in the cross section (y direction)= -1.28 micrometer\n"
       ]
      }
     ],
     "prompt_number": 19
    },
    {
     "cell_type": "heading",
     "level": 2,
     "metadata": {},
     "source": [
      "Example 3.5 Page No 105"
     ]
    },
    {
     "cell_type": "code",
     "collapsed": false,
     "input": [
      "#Given\n",
      "#Refer to the graph of shear stress-strain of titanium alloy.\n",
      "x_A = 0.008     #rad - x co-ordinate of A\n",
      "y_A = 52\t   #MPa - y co-ordinate of A\n",
      "height = 2   \t#mm\n",
      "l = 3.0 \t\t    #mm\n",
      "b = 4.0 \t        #mm\n",
      "\n",
      "\n",
      "#Calculations\n",
      "#Shear Modulus\n",
      "G = y_A/x_A\n",
      "#Proportional Limit\n",
      "tou_pl = 52            #ksi Point A\n",
      "#Ultimate Stresss\n",
      "tou_u = 73             #ksi - Max shear stress at B\n",
      "#Maximum Elastic Displacement\n",
      "tanA= x_A               # tan theta is approximated as theta.\n",
      "d = tanA*height\n",
      "#Shear Force\n",
      "A = l*b\n",
      "V = tou_pl*A\n",
      "\n",
      "#Display\n",
      "print\"The Shear Modulus                = \",G,\"ksi\"\n",
      "print\"The Proportional Limit           = \",tou_pl,\"ksi\"\n",
      "print\"The Ultimate Shear Stress        =  \",tou_u,\"ksi\"\n",
      "print\"The Maximum Elastic Displacement = \",d,\"inch\"\n",
      "print\"The Shear Force                  =  \",V,\"kip\"\n"
     ],
     "language": "python",
     "metadata": {},
     "outputs": [
      {
       "output_type": "stream",
       "stream": "stdout",
       "text": [
        "The Shear Modulus                =  6500.0 ksi\n",
        "The Proportional Limit           =  52 ksi\n",
        "The Ultimate Shear Stress        =   73 ksi\n",
        "The Maximum Elastic Displacement =  0.016 inch\n",
        "The Shear Force                  =   624.0 kip\n"
       ]
      }
     ],
     "prompt_number": 23
    },
    {
     "cell_type": "heading",
     "level": 2,
     "metadata": {},
     "source": [
      "Example 3.6 Page No 106"
     ]
    },
    {
     "cell_type": "code",
     "collapsed": false,
     "input": [
      "#Given\n",
      "d_o = 0.025 \t\t#m, outside diameter\n",
      "l_o =0.25 \t\t    #m\n",
      "F =165 \t\t\t    #kN, load\n",
      "delta = 1.2 \t\t#mm\n",
      "G_al = 26 \t\t    #GPa\n",
      "sigma_y = 440 \t\t#MPa\n",
      "\n",
      "#Calculations\n",
      "import math\n",
      "#Modulus of Elasticity\n",
      "A = (math.pi/4)*(d_o**2)\n",
      "avg_normal_stress = (F*10**3)/A\n",
      "avg_normal_strain = delta/l_o\n",
      "E_al = avg_normal_stress/ avg_normal_strain\n",
      "E_al = E_al/10**6\n",
      "#Contraction of Diameter\n",
      "nu = (E_al/(2*G_al))-1\n",
      "strain_lat = nu*(avg_normal_strain) \n",
      "d_contraction = strain_lat* d_o \n",
      "\n",
      "#Display\n",
      "print\"The Modulus of Elasticity is = \",round(E_al,0),\"GPa\"\n",
      "print\"The contraction in diameter due to the force = \",round(d_contraction,4),\"mm\"\n"
     ],
     "language": "python",
     "metadata": {},
     "outputs": [
      {
       "output_type": "stream",
       "stream": "stdout",
       "text": [
        "70.0281749604\n",
        "The Modulus of Elasticity is =  70.0 GPa\n",
        "The contraction in diameter due to the force =  0.0416 mm\n"
       ]
      }
     ],
     "prompt_number": 2
    }
   ],
   "metadata": {}
  }
 ]
}