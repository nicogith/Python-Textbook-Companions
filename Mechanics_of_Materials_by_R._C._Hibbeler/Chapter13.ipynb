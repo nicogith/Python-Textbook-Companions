{
 "metadata": {
  "name": ""
 },
 "nbformat": 3,
 "nbformat_minor": 0,
 "worksheets": [
  {
   "cells": [
    {
     "cell_type": "heading",
     "level": 1,
     "metadata": {},
     "source": [
      "Chapter 13:Buckling of Columns"
     ]
    },
    {
     "cell_type": "heading",
     "level": 2,
     "metadata": {},
     "source": [
      "Example 13.1 Page NO 665"
     ]
    },
    {
     "cell_type": "code",
     "collapsed": false,
     "input": [
      "#Given\n",
      "l = 12           #ft, length\n",
      "E = 29*10**3         #GPa, stress\n",
      "ro = 75         #mm, outside radius\n",
      "ri = 70         #mm, inside  radius\n",
      "sigma_y = 250   #MPa, stress\n",
      "\n",
      "#Calculations\n",
      "import math\n",
      "Ix=110\n",
      "Iy=37\n",
      "A = 9.13\n",
      "Pcr = (math.pi**2*(E*10**3)*Iy)/((l*12)**2) #Pcr = (math.pi**2*EI)/(l**2)\n",
      "sigma_cr = (Pcr*1000)/A\n",
      "p=36*A\n",
      "   \n",
      "print\"The maximum allowable axial load that the column can support    = \",round(p,0),\"kip\"\n"
     ],
     "language": "python",
     "metadata": {},
     "outputs": [
      {
       "output_type": "stream",
       "stream": "stdout",
       "text": [
        "The maximum allowable axial load that the column can support    =  329.0 kip\n"
       ]
      }
     ],
     "prompt_number": 3
    },
    {
     "cell_type": "heading",
     "level": 2,
     "metadata": {},
     "source": [
      "Example 13.2 Page NO 668"
     ]
    },
    {
     "cell_type": "code",
     "collapsed": false,
     "input": [
      "#Given\n",
      "E = 29*10**3   #GPa, stress\n",
      "lx= 144      #inch, length\n",
      "ly=100.8     #inch\n",
      "A =4.43     #inch**2, area\n",
      "sigma_y = 60  #ksi, stress\n",
      "\n",
      "#Calculations\n",
      "import math\n",
      "Ix=29\n",
      "Iy=9.32\n",
      "\n",
      "Pcrx = ((math.pi**2)*E*Ix)/(lx**2) #Pcr = (math.pi**2*EI)/(l**2)\n",
      "Pcry = ((math.pi**2)*E*Iy)/(ly**2) #Pcr = (math.pi**2*EI)/(l**2)\n",
      "sigma_cr = (Pcr*1000)/A\n",
      "sigmacr = Pcry/A #in kN\n",
      "if sigmacr<sigma_y:\n",
      "    print\"Buckling will occue before the material yield. So Psr=\",round(Pcry,0),\"kip\"\n",
      "else:\n",
      "        print\"n\"\n",
      "    \n",
      "    \n"
     ],
     "language": "python",
     "metadata": {},
     "outputs": [
      {
       "output_type": "stream",
       "stream": "stdout",
       "text": [
        "Buckling will occue before the material yield. So Psr= 263.0 kip\n"
       ]
      }
     ],
     "prompt_number": 9
    },
    {
     "cell_type": "heading",
     "level": 2,
     "metadata": {},
     "source": [
      "Example 13.3 Page No  669"
     ]
    },
    {
     "cell_type": "code",
     "collapsed": false,
     "input": [
      "#Given\n",
      "E = 70          #GPa\n",
      "Ix = 61.3*10**-6   #Moment of inertia along x-axis\n",
      "Iy = 23.2*10**-6    ##Moment of inertia along y-axis\n",
      "l = 5\n",
      "KLx = 2*l       #m\n",
      "KLy = 0.7*(l)   #m\n",
      "FS = 3          #Factor of safety\n",
      "sigma_y = 215   #MPa\n",
      "\n",
      "\n",
      "#Calculation\n",
      "import math\n",
      "Pcrx = (math.pi**2*E*10**6*Ix)/(KLx**2) #Pcr = (math.pi**2*EI)/(l**2)\n",
      "Pcry = (math.pi**2*E*10**6*Iy)/(KLy**2) #Pcr = (math.pi**2*EI)/(l**2)\n",
      "Pcr = min(Pcrx,Pcry)\n",
      "A = 7.5*10**-3 #mm**2\n",
      "P_allow = Pcr/FS\n",
      "sigma_cr = (Pcr*10**-3)/A\n",
      "\n",
      "\n",
      "if(sigma_cr<sigma_y):\n",
      "    print\"The largest allowable load that the column can support     = \",round(P_allow,0),\"kN\"\n",
      "else:\n",
      "    print\"n\"\n"
     ],
     "language": "python",
     "metadata": {},
     "outputs": [
      {
       "output_type": "stream",
       "stream": "stdout",
       "text": [
        "The largest allowable load that the column can support     =  141.0 kN\n"
       ]
      }
     ],
     "prompt_number": 53
    },
    {
     "cell_type": "heading",
     "level": 2,
     "metadata": {},
     "source": [
      "Example 13.4 Page NO 683"
     ]
    },
    {
     "cell_type": "code",
     "collapsed": false,
     "input": [
      "#Given\n",
      "z1 = 4*1000    #mm, length\n",
      "e = 200       #mm, elongation\n",
      "KLy = 100.8   #inch**2\n",
      "Iy = 49.1     #inch**4\n",
      "E = 29*10**3  #ksi, stress\n",
      "sigma_y =421.2  #MPa\n",
      "\n",
      "#Calculation\n",
      "#y-y Axis Buckling\n",
      "import math\n",
      "Pcry = (math.pi**2*E*10**6*Iy)/(KLy**2) #Pcr = (math.pi**2*EI)/(l**2)\n",
      "Pcry = Pcry/1000\n",
      "#x-x Axis Yielding\n",
      "Kx= 2\n",
      "KLx = 288   #inch\n",
      "A=11.7\n",
      "c = (8.25)/2.0\n",
      "rx = 3.53   #inch\n",
      "\n",
      "#Solved by applying the Secant Formula and then finding Px by trial and error\n",
      "trial_Px = 88.4 #kN\n",
      "A = 7850#mm**2\n",
      "sigma = (trial_Px*1000)/(A)\n",
      "\n",
      "if(Pcry>trial_Px and sigma<sigma_y):\n",
      "    print'The maximum eccentric load that the column can support = ',trial_Px\n",
      "    print'Failure will occur about the x-x axis.'\n",
      "\n",
      "else:\n",
      "    print\"n\"\n"
     ],
     "language": "python",
     "metadata": {},
     "outputs": [
      {
       "output_type": "stream",
       "stream": "stdout",
       "text": [
        "The maximum eccentric load that the column can support =  88.4\n",
        "Failure will occur about the x-x axis.\n"
       ]
      }
     ],
     "prompt_number": 54
    },
    {
     "cell_type": "heading",
     "level": 2,
     "metadata": {},
     "source": [
      "Example 13.5 Page NO 686"
     ]
    },
    {
     "cell_type": "code",
     "collapsed": false,
     "input": [
      "#Given\n",
      "d = 30  #mm, diameter\n",
      "r = d/2 #mm, radius\n",
      "L = 600 #mm\n",
      "sigma_pl = 150#MPa, stress\n",
      "\n",
      "#Calculations\n",
      "import math\n",
      "I = (math.pi/4)*(r**4)\n",
      "A = math.pi*r**2\n",
      "r_gyr = sqrt(I/A)\n",
      "K = 1\n",
      "sl_ratio = (K*L)/(r_gyr)\n",
      "flag1 = 0\n",
      "\n",
      "#Assuming the critical stress is elastic\n",
      "E = 150/0.001\n",
      "sigma_cr1 = (math.pi**2*E)/(sl_ratio**2) #Pcr = (math.pi**2*EI)/(l**2)\n",
      "\n",
      "\n",
      "if(sigma_cr1 > sigma_pl):\n",
      "    Et = (270 - 150)/(0.002 - 0.001)\n",
      "    sigma_cr2 = (math.pi**2*Et)/(sl_ratio**2) #Pcr = (math.pi**2*EI)/(l**2)\n",
      "    \n",
      "if(sigma_cr2>150 and sigma_cr2<270): \n",
      "       Pcr = sigma_cr2*A\n",
      "       Pcr = Pcr/1000.0 #in kN\n",
      "       print'The critical load when used as a pin supported column = ',round(Pcr,0),\"kN\"\n",
      "   \n",
      "else:\n",
      "    print\"\"\n",
      "\n"
     ],
     "language": "python",
     "metadata": {},
     "outputs": [
      {
       "output_type": "stream",
       "stream": "stdout",
       "text": [
        "The critical load when used as a pin supported column =  131.0 kN\n"
       ]
      }
     ],
     "prompt_number": 4
    },
    {
     "cell_type": "heading",
     "level": 2,
     "metadata": {},
     "source": [
      "Example 13.6 page No 696"
     ]
    },
    {
     "cell_type": "code",
     "collapsed": false,
     "input": [
      "#given\n",
      "l=16      #16 ft\n",
      "A=29.4    #in**2, area\n",
      "rx=4.60   #in\n",
      "ry=2.65   #in\n",
      "k=1\n",
      "E=29*10**3   #Stress\n",
      "sigmay=36.0  #ksi\n",
      "#calculation\n",
      "import math\n",
      "x1=k*l*12/ry\n",
      "x=math.sqrt(2*math.pi**2*E/sigmay)\n",
      "a=(1-(x1**2/(2.0*x**2)))*((sigmay))\n",
      "b=(5/3.0)+((3/8.0)*(x1)/(x))-((x1**3)/(8.0*(x**3)))\n",
      "sigmaallow=a/b\n",
      "P=sigmaallow*A\n",
      "\n",
      "#result\n",
      "print\" The largest load is\",round(P,0),\"kip\"\n",
      "\n"
     ],
     "language": "python",
     "metadata": {},
     "outputs": [
      {
       "output_type": "stream",
       "stream": "stdout",
       "text": [
        " The largest load is 476.0 kip\n"
       ]
      }
     ],
     "prompt_number": 24
    },
    {
     "cell_type": "heading",
     "level": 2,
     "metadata": {},
     "source": [
      "Example 13.7 Page NO 697"
     ]
    },
    {
     "cell_type": "code",
     "collapsed": false,
     "input": [
      "#Given\n",
      "P = 18        #kip, load\n",
      "E = 29*10**3 #ksi, stress\n",
      "sigma_y = 50 #ksi, shear stress\n",
      "l = 15      #ft, length\n",
      "k =0.5      #shape factor\n",
      "\n",
      "#Calculations\n",
      "import math\n",
      "I_by_d = (1/4.0)*(math.pi)*(d/2.0)**4\n",
      "A_by_d = (1/4.0)*(math.pi)*d**2\n",
      "r_by_d = math.sqrt(I_by_d/A_by_d)\n",
      "sl_ratio_c = math.sqrt((2*math.pi**2*E)/(sigma_y))\n",
      "\n",
      "a1=math.sqrt(2*(math.pi)**2*E/(sigma_y))\n",
      "\n",
      "d_=((18*4*16*23*(k**2)*(l**2)*12**2)/(12*math.pi**3*E))**(1/4.0)\n",
      "print \"The smallest diameter is \",round(d_,2),\"inch. So use d=2.25 inch\"\n",
      "d=2.25\n",
      "a1=k*l*12/(d/4.0)\n",
      "if a1<200:\n",
      "    print\"Use of equation is appropriate\""
     ],
     "language": "python",
     "metadata": {},
     "outputs": [
      {
       "output_type": "stream",
       "stream": "stdout",
       "text": [
        "The smallest diameter is  2.11 inch. So use d=2.25 inch\n",
        "Use of equation is appropriate\n"
       ]
      }
     ],
     "prompt_number": 52
    },
    {
     "cell_type": "heading",
     "level": 2,
     "metadata": {},
     "source": [
      "Example 13.8 Page NO 698"
     ]
    },
    {
     "cell_type": "code",
     "collapsed": false,
     "input": [
      "#Given\n",
      "L = 30    #inch\n",
      "P = 12    #kip\n",
      "sigma =28.0 #ksi\n",
      "K = 1\n",
      "\n",
      "#Calculations\n",
      "import math\n",
      "b2 = (P)/(2*sigma)\n",
      "b_ = math.sqrt(b2)\n",
      "A = 2*b_*b_\n",
      "Iy = (1/12.0)*(2*b_*b_**3)\n",
      "ry = sqrt(Iy/A)\n",
      "sl_ratio = (K*L)/(ry)\n",
      "if(sl_ratio>12):\n",
      "    b4 = (P*103.9**2)/(2*54000) #Eqn 13.26\n",
      "    b = b4**(1/4.0)\n",
      "   \n",
      "    sl_ratio_ = (2598.1)/(b)\n",
      "    w = 2*b\n",
      "else:\n",
      "    print\"j\"\n",
      "    \n",
      "if(sl_ratio>55):\n",
      "    print'The thickness of the bar  = ',round(b,2),\"inch\"\n",
      "   \n",
      "else:\n",
      "    print\"h\"\n"
     ],
     "language": "python",
     "metadata": {},
     "outputs": [
      {
       "output_type": "stream",
       "stream": "stdout",
       "text": [
        "The thickness of the bar  =  1.05 inch\n"
       ]
      }
     ],
     "prompt_number": 46
    },
    {
     "cell_type": "heading",
     "level": 2,
     "metadata": {},
     "source": [
      "Example 13.9 Page NO 699"
     ]
    },
    {
     "cell_type": "code",
     "collapsed": false,
     "input": [
      "#Given\n",
      "P = 5.0       #kip. load\n",
      "y1 = 5.5     #inch, length\n",
      "x1 = 1.5     #inch\n",
      "A = (x1*y1)  #area\n",
      "d = 1.5     #inch\n",
      "K = 1\n",
      "\n",
      "#Eqn 13.29\n",
      "L2 = (540*A*d**2)/(P)\n",
      "L = sqrt(L2)\n",
      "KL_d = (K*L)/(d)\n",
      "\n",
      "if(KL_d>26 and KL_d<=50):\n",
      "    print'The greatest allowable length L as specified by the NFPA  = ',round(L,1),\"inch\"\n",
      "else:\n",
      "    print\"j\"\n"
     ],
     "language": "python",
     "metadata": {},
     "outputs": [
      {
       "output_type": "stream",
       "stream": "stdout",
       "text": [
        "The greatest allowable length L as specified by the NFPA  =  44.8 inch\n"
       ]
      }
     ],
     "prompt_number": 47
    },
    {
     "cell_type": "heading",
     "level": 2,
     "metadata": {},
     "source": [
      "Example 13.10 Page NO 705"
     ]
    },
    {
     "cell_type": "code",
     "collapsed": false,
     "input": [
      "#Given\n",
      "#the given dimansion are\n",
      "L = 80.0 #inch\n",
      "K = 2.0\n",
      "l = 4.0    #inch\n",
      "b = 2.0    #inch\n",
      "e = 1    #inch\n",
      "c = 2    #inch\n",
      "\n",
      "#Calculations\n",
      "I1 = (1/12.0)*(l*b**3)\n",
      "A = l*b\n",
      "r = sqrt(I1/A)\n",
      "sl_ratio = (K*L)/(r)\n",
      "\n",
      "#Eqn 13.26\n",
      "sigma_allow = (54000)/(sl_ratio**2)\n",
      "I2 = (1/12.0)*(b*l**3)\n",
      "coefficient = (1/A) + (e*c)/I2\n",
      "\n",
      "sigma_max = sigma_allow\n",
      "P = sigma_max/coefficient\n",
      "\n",
      "#Display\n",
      "print'The load that can be supported if the column is fixed at its base  ',P,\"kip\"\n"
     ],
     "language": "python",
     "metadata": {},
     "outputs": [
      {
       "output_type": "stream",
       "stream": "stdout",
       "text": [
        "The load that can be supported if the column is fixed at its base   2.25 kip\n"
       ]
      }
     ],
     "prompt_number": 48
    },
    {
     "cell_type": "heading",
     "level": 2,
     "metadata": {},
     "source": [
      "Example 13.11 Page No 706"
     ]
    },
    {
     "cell_type": "code",
     "collapsed": false,
     "input": [
      "#Given\n",
      "import math\n",
      "sigmaB_allow = 22 #ksi, allowable stress\n",
      "E = 29*10**3      #ksi, stress\n",
      "sigma_y = 36   #ksi, shear stress\n",
      "K= 1           #shape factor\n",
      "A = 5.87      #inch**2, area\n",
      "Ix = 41.4    #inch**4, moment of inertia\n",
      "ry = 1.5     #inch\n",
      "d = 6.2      #inch\n",
      "c= d/2.0 \n",
      "e = 30       #inch\n",
      "L = 15       #ft\n",
      "\n",
      "sl_ratio = (K*L*12)/(ry)\n",
      "sl_ratio_c = math.sqrt((2*math.pi**2*E)/(sigma_y))\n",
      "\n",
      "\n",
      "\n",
      "if(sl_ratio<sl_ratio_c):\n",
      "    num = (1 - (sl_ratio**2/(2*sl_ratio_c**2)))*sigma_y\n",
      "    denom1 = (5/3.0) + ((3/8.0)*sl_ratio/sl_ratio_c)\n",
      "    denom2 = (sl_ratio**3)/(8*sl_ratio_c**3)\n",
      "    sigmaA_allow = num/(denom1 - denom2)\n",
      "    \n",
      "    coeffP = 1/(sigmaA_allow*A) + (e*c)/(Ix*sigmaB_allow)\n",
      "    P = 1/coeffP\n",
      "    \n",
      "    sigA = (P/A)/(sigmaA_allow)\n",
      "else:\n",
      "        print\"k\"\n",
      "   \n",
      "  \n",
      "if(sigA < 0.15):\n",
      "    print'The maximum allowable value of eccentric load  = ',round(P,2),\"kN\"\n",
      "else:\n",
      "    print\"h\"\n",
      "    "
     ],
     "language": "python",
     "metadata": {},
     "outputs": [
      {
       "output_type": "stream",
       "stream": "stdout",
       "text": [
        "The maximum allowable value of eccentric load  =  8.43 kN\n"
       ]
      }
     ],
     "prompt_number": 49
    },
    {
     "cell_type": "heading",
     "level": 2,
     "metadata": {},
     "source": [
      "Example 13.12 Page NO 707"
     ]
    },
    {
     "cell_type": "code",
     "collapsed": false,
     "input": [
      "#Given\n",
      "K = 2       #shape factor\n",
      "d= 3.0      #inch, diameter\n",
      "L = 60    #inch, length\n",
      "e = 4    #inch\n",
      "c = d\n",
      "l = 3.0    #inch\n",
      "b =6.0     #inch\n",
      "A = l*b  #inch**2\n",
      "\n",
      "#Calculations\n",
      "sl_ratio = (K*L)/(d)\n",
      "\n",
      "if(sl_ratio>26 and sl_ratio<50):\n",
      "    sigma_allow = (540)/(sl_ratio**2)\n",
      "    sigma_max = sigma_allow\n",
      "    \n",
      "    I = (1/12.0)*(l*b**3)\n",
      "    coeffP = (1/A) + (e*c)/(I)\n",
      "    P = sigma_max/coeffP\n",
      "    print'The eccentric load that can be supported = ',round(P,2),\"kip\"\n",
      "else:\n",
      "    print\"no\"\n"
     ],
     "language": "python",
     "metadata": {},
     "outputs": [
      {
       "output_type": "stream",
       "stream": "stdout",
       "text": [
        "The eccentric load that can be supported =  1.22 kip\n"
       ]
      }
     ],
     "prompt_number": 2
    }
   ],
   "metadata": {}
  }
 ]
}