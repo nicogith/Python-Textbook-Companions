{
 "metadata": {
  "name": "",
  "signature": "sha256:688a5ddb04d5076a46d59fbb5d6dc8d907dec2ec735786354cef92d935d1ccd0"
 },
 "nbformat": 3,
 "nbformat_minor": 0,
 "worksheets": [
  {
   "cells": [
    {
     "cell_type": "heading",
     "level": 1,
     "metadata": {},
     "source": [
      "Chapter 9: Deflections of beams"
     ]
    },
    {
     "cell_type": "heading",
     "level": 2,
     "metadata": {},
     "source": [
      "Example 9.17, Page number 654"
     ]
    },
    {
     "cell_type": "code",
     "collapsed": false,
     "input": [
      "\n",
      "\n",
      "#Variable declaration\n",
      "P = 5           #load(k)\n",
      "L = 8*12        #beam length(in)\n",
      "E = 30*10**6    #modulus of elasticity(psi)\n",
      "I = 75.0        #moment of inertia(in^4)\n",
      "q = 1.5*(1./12.)#load intensity(k/in)\n",
      "\n",
      "#Calculations\n",
      "Sc = ((P*L**3)/(48*E*I))+((5.*q*L**4)/(384.*E*I))\n",
      "\n",
      "#Result\n",
      "print \"The download deflection is\",Sc,\"in(Calculation mistake in textbook)\"\n"
     ],
     "language": "python",
     "metadata": {},
     "outputs": [
      {
       "output_type": "stream",
       "stream": "stdout",
       "text": [
        "The download deflection is 0.0001024 in(Calculation mistake in textbook)\n"
       ]
      }
     ],
     "prompt_number": 8
    },
    {
     "cell_type": "heading",
     "level": 2,
     "metadata": {},
     "source": [
      "Example 9.23, Page number 682"
     ]
    },
    {
     "cell_type": "code",
     "collapsed": false,
     "input": [
      "\n",
      "#Variable declaration\n",
      "E = 30*10**6*144   #modulus of elasticity(lb/ft^2)\n",
      "I = 25.92/12       #moment of inertia(ft^4)\n",
      "x = 12             #ft\n",
      "\n",
      "#Calculations\n",
      "'''The equivalent load q(x) for the beam is given by the following equation\n",
      "q(x) = -700(x)^-1+800(x-6)^0 - 800(x-12)^0 - 5600(x-12)^-1 + 1500(x-16)^-1\n",
      "Since the equation equals zero at all points except where x=16, we omit the last term\n",
      "Taking 4th order integration, we obtain the following expression,'''\n",
      "C1 = (-((350*x**3)/3)+((100*(x-6)**4)/3)-((100*(x-12)**4)/3)+((2800*(x-12)**3)/3))/12\n",
      "print \"C1 =\",C1\n",
      "\n",
      "#For Deflection at point C\n",
      "x = 6\n",
      "Elv = ((350*x**3)/3)-(100*((x-6)**4)/3)+(100*((x-12)**4)/3)+(2800*((x-12)**3)/3)+(C1*x)\n",
      "Sc = Elv/(E*I)    #ft\n",
      "\n",
      "#For deflection at point D\n",
      "x = 16\n",
      "Elv_16 = ((350*x**3)/3)-(100*((x-6)**4)/3)+(100*((x-12)**4)/3)+(2800*((x-12)**3)/3)+(C1*x)\n",
      "Sd = Elv_16/(E*I)\n",
      "\n",
      "#Results\n",
      "print \"Deflection at point C is\",round((-Sc*12),8),\"in\"\n",
      "print \"Deflection at point D is\",round((Sd*12),8),\"in\"\n",
      "\n",
      "print \"\\n Please note that there is a calculation mistake in textbook while calculating Elv. Hence, the difference in solution\"\n",
      "\n"
     ],
     "language": "python",
     "metadata": {},
     "outputs": [
      {
       "output_type": "stream",
       "stream": "stdout",
       "text": [
        "C1 = -13200\n",
        "Deflection at point C is 0.00027315 in\n",
        "Deflection at point D is 2.06e-06 in\n",
        "\n",
        " Please note that there is a calculation mistake in textbook while calculating Elv. Hence, the difference in solution\n"
       ]
      }
     ],
     "prompt_number": 19
    }
   ],
   "metadata": {}
  }
 ]
}