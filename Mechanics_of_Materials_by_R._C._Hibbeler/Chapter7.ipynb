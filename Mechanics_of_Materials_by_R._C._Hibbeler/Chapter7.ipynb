{
 "metadata": {
  "name": ""
 },
 "nbformat": 3,
 "nbformat_minor": 0,
 "worksheets": [
  {
   "cells": [
    {
     "cell_type": "heading",
     "level": 1,
     "metadata": {},
     "source": [
      "Chapter 7:Transverse Shear"
     ]
    },
    {
     "cell_type": "heading",
     "level": 2,
     "metadata": {},
     "source": [
      "Example 7.1 Page No 369"
     ]
    },
    {
     "cell_type": "code",
     "collapsed": false,
     "input": [
      "#Given\n",
      "V = 4\t\t #kN, load\n",
      "co = 0.05\t\t#mm, outside radius\n",
      "ci = 0.02\t\t #mm, inside radius\n",
      "t1 = 0.1 \t#mm, thickness\n",
      "t2=0.06\n",
      "\n",
      "#Part (a)\n",
      "#Section Properties\n",
      "import math\n",
      "Isolid=1/4.0*(math.pi)*co**4\n",
      "Itube = 1/4.0*(math.pi)*(co**4-ci**4)\n",
      "Qsolid=4*co/(3*math.pi)*(math.pi*co**2/2.0)\n",
      "Qtube=4*co/(3*math.pi)*(math.pi*co**2/2.0)-4*ci/(3*math.pi)*(math.pi*ci**2/2.0)\n",
      "Tsolid=V*10**3*Qsolid/(Isolid*t1)\n",
      "Ttube=V*10**3*Qsolid/(Itube*t2)\n",
      "\n",
      "#Display\n",
      "print\"The shear stress in solid    = \",round(Tsolid/1000,1),\"KPa\"\n",
      "print'The shear stress in tube  = ',round(Ttube/1000000,2),\"MPa\"\n"
     ],
     "language": "python",
     "metadata": {},
     "outputs": [
      {
       "output_type": "stream",
       "stream": "stdout",
       "text": [
        "The shear stress in solid    =  679.1 KPa\n",
        "The shear stress in tube  =  1.16 MPa\n"
       ]
      }
     ],
     "prompt_number": 13
    },
    {
     "cell_type": "heading",
     "level": 2,
     "metadata": {},
     "source": [
      "Example 7.3 Page No 370"
     ]
    },
    {
     "cell_type": "code",
     "collapsed": false,
     "input": [
      "#Given\n",
      "V = 80.0 \t\t\t#kN, load\n",
      "thick_1 = 20/1000.0 \t#m, thickness\n",
      "thick_2 = 15/1000.0 \t#m\n",
      "l = 300/1000.0 \t\t#m, length\n",
      "y = 100/1000.0 \t\t#m\n",
      "h = 2*y\n",
      "y_dash = y +thick_1/2.0\n",
      "\n",
      "#Part(a)\n",
      "I1 = (thick_2*(h**3))/12.0\n",
      "I2 = (l*(thick_1**3))/12.0\n",
      "I3 = (l*thick_1*(y_dash)**2)\n",
      "I = I1+2*(I2+I3) #Moment of inertia\n",
      "Q_b = y_dash*l*thick_1\n",
      "#At B'\n",
      "tou_b_dash = (V*Q_b)/(I*l*1000)\n",
      "#At B\n",
      "tou_b = (V*Q_b)/(I*thick_2*1000)\n",
      "\n",
      "#At C\n",
      "Q_c = (y_dash*l*thick_1)+(y*thick_2*y/2.0)\n",
      "tou_c = (V*Q_c)/(I*thick_2*1000)\n",
      "\n",
      "#Display\n",
      "print\"The shear stress at B dash     = \",round(tou_b_dash,1),\"MPa\"\n",
      "print\"The shear stress at B         = \",round(tou_b,1),\"MPa\"\n",
      "print\"The shear stress at C     = \",round(tou_c,1),\"MPa\"\n"
     ],
     "language": "python",
     "metadata": {},
     "outputs": [
      {
       "output_type": "stream",
       "stream": "stdout",
       "text": [
        "The shear stress at B dash     =  1.1 MPa\n",
        "The shear stress at B         =  22.6 MPa\n",
        "The shear stress at C     =  25.2 MPa\n"
       ]
      }
     ],
     "prompt_number": 17
    },
    {
     "cell_type": "heading",
     "level": 2,
     "metadata": {},
     "source": [
      "Example 7.4 Page No 372"
     ]
    },
    {
     "cell_type": "code",
     "collapsed": false,
     "input": [
      "#Given\n",
      "udl = 6.5\t\t #kN, force\n",
      "l_bc = 8 \t\t#m, length\n",
      "l = 150/1000.0\t\t#m\n",
      "t = 30/1000.0\t\t#m, thickness\n",
      "\n",
      "#Calculation\n",
      "#Internal Shear\n",
      "w = udl*l_bc/2.0\n",
      "l_wc = l_bc/4.0\n",
      "l_bw = l_bc - l_wc\n",
      "V = (w*l_bw)/l_bc\n",
      "R_b = w - V\n",
      "\n",
      "#Section Properties\n",
      "y1= l/2.0\n",
      "A = (l*t)\n",
      "y2= l+(t/2.0)\n",
      "y_dash = (y1*A + y2*A)/(2*A)\n",
      "I1 = (t*l**3)/12.0\n",
      "I2 = (A*(y_dash-y1)**2)\n",
      "I3 = (l*t**3)/12.0\n",
      "I4 = (A*(y2 - y_dash)**2)\n",
      "I = I1+I2+I3+I4\n",
      "Q = ((l+t)-(t/2.0)-y_dash)*A\n",
      "#Shear Stress\n",
      "tou_max = (V*Q)/(I*t*1000)\n",
      "\n",
      "#Display\n",
      "print\"The maximum shear stress in the glue necessary to hold the boards together\",round(tou_max,2),\"MPa\"\n"
     ],
     "language": "python",
     "metadata": {},
     "outputs": [
      {
       "output_type": "stream",
       "stream": "stdout",
       "text": [
        "The maximum shear stress in the glue necessary to hold the boards together 4.88 MPa\n"
       ]
      }
     ],
     "prompt_number": 20
    },
    {
     "cell_type": "heading",
     "level": 2,
     "metadata": {},
     "source": [
      "Example 7.5 Page No 380"
     ]
    },
    {
     "cell_type": "code",
     "collapsed": false,
     "input": [
      "#Given\n",
      "V = 850            #kN, force\n",
      "#The given dimension are\n",
      "l1 =250/1000.0     #m.\n",
      "l2 = 300/1000.0     #m\n",
      "l3 = 125/1000.0    #m\n",
      "t = 10/1000.0      #m\n",
      "h = 200/1000.0     #m\n",
      "\n",
      "#Calculation\n",
      "A1 = l1*t\n",
      "A2 = l2*t\n",
      "A3 = l3*t\n",
      "y1 = l2+(t/2.0)\n",
      "y2 = l2/2.0\n",
      "y3 = h+(t/2.0)\n",
      "y_dash = (2*y2*A2 + A1*y1 + A3*y3)/(2*A2 + A1 + A3)\n",
      "I1 = ((l1*t**3)/12.0) +(A1 * (l2+(t/2.0)-y_dash)**2)\n",
      "I2 = ((t*l2**3)/12.0) +(A2 * (y_dash - (l2/2.0))**2)\n",
      "I3 = ((l3*t**3)/12.0) +(A1 * (h+(t/2.0)-y_dash)**2)\n",
      "I = 2*I2 + I1 + I3\n",
      "Q_b = (l2+(t/2.0) - y_dash)*A1 #Q = y'A'\n",
      "Q_c = (h+(t/2.0) - y_dash)*A3 #Q = y'A'\n",
      "\n",
      "#Shear Flow\n",
      "q_b = (V*Q_b)/I\n",
      "q_c = (V*Q_c)/I\n",
      "q_b = q_b/(2*1000)\n",
      "q_c = q_c/(2*1000)\n",
      "\n",
      "#Display\n",
      "print\"The shear flow at B, resisted by the glue is  \",round(q_b,2),\"MN/m\"\n",
      "print\"The shear flow at C, resisted by the glue is  \",round(q_c,4),\"MN/m\"\n"
     ],
     "language": "python",
     "metadata": {},
     "outputs": [
      {
       "output_type": "stream",
       "stream": "stdout",
       "text": [
        "The shear flow at B, resisted by the glue is   1.31 MN/m\n",
        "The shear flow at C, resisted by the glue is   0.0498 MN/m\n"
       ]
      }
     ],
     "prompt_number": 8
    },
    {
     "cell_type": "heading",
     "level": 2,
     "metadata": {},
     "source": [
      "Example 7.6 Page No 381"
     ]
    },
    {
     "cell_type": "code",
     "collapsed": false,
     "input": [
      "#Given\n",
      "V = 80     #lb, load\n",
      "#The given dimension are\n",
      "t = 1.5    #inch\n",
      "a = 7.5    #inch\n",
      "b = a-2*t  #inch\n",
      "F_nail= 30 #lb\n",
      "\n",
      "\n",
      "#Calculation\n",
      "#Section Properties\n",
      "I = (a*a**3 - b*b**3 )/12.0\n",
      "Q_b = (((a-2*t)/2.0)+(t/2.0))*a*t #Q = y'A'\n",
      "Q_c = (((a-2*t)/2.0)+(t/2.0))*(a-2*t)*t #Q = y'A'\n",
      "\n",
      "#Shear Flow\n",
      "q_b = (V*Q_b)/I\n",
      "q_c = (V*Q_c)/I\n",
      "s_b = F_nail/(q_b/2.0)\n",
      "s_c = F_nail/(q_c/2.0)\n",
      "\n",
      "#Display\n",
      "print\"The maximum spacing of nails required at B is    =\",s_b,\"inch\"\n",
      "print\"The maximum spacing of nails required at C is    =\",s_c,\"inch\"\n"
     ],
     "language": "python",
     "metadata": {},
     "outputs": [
      {
       "output_type": "stream",
       "stream": "stdout",
       "text": [
        "The maximum spacing of nails required at B is    = 5.1 inch\n",
        "The maximum spacing of nails required at C is    = 8.5 inch\n"
       ]
      }
     ],
     "prompt_number": 10
    },
    {
     "cell_type": "heading",
     "level": 2,
     "metadata": {},
     "source": [
      "Example 7.7 Page No 382"
     ]
    },
    {
     "cell_type": "code",
     "collapsed": false,
     "input": [
      "#Given\n",
      "F = 40        #lb, force\n",
      "#The other dimension are\n",
      "s = 9.0         #inch\n",
      "h = 5         #inch\n",
      "t = 0.5       #inch\n",
      "w = 3         #inch\n",
      "w_3 = w/3.0   #inch\n",
      "\n",
      "#Calculations\n",
      "I = (w*h**3)/12.0 - (2*w_3*(h - 2*t)**3)/12.0\n",
      "#Case 1\n",
      "Q1 = ((h-t)/2.0)*(w*t)\n",
      "V1 =((F/s)*I)/Q1   #q = VQ/I\n",
      "\n",
      "#Case2\n",
      "Q2 = ((h-t)/2.0)*(w_3*t)\n",
      "V2 =((F/s)*I)/Q2   #q = VQ/I\n",
      "\n",
      "#Display\n",
      "print\"The largest vertical shear that can be supported in Case 1    = \",round(V1,1),\"lb\"\n",
      "print\"The largest vertical shear that can be supported in Case 2    = \",round(V2,1),\"lb\"\n"
     ],
     "language": "python",
     "metadata": {},
     "outputs": [
      {
       "output_type": "stream",
       "stream": "stdout",
       "text": [
        "The largest vertical shear that can be supported in Case 1    =  27.1 lb\n",
        "The largest vertical shear that can be supported in Case 2    =  81.3 lb\n"
       ]
      }
     ],
     "prompt_number": 14
    },
    {
     "cell_type": "heading",
     "level": 2,
     "metadata": {},
     "source": [
      "Example 7.8 Page No  381"
     ]
    },
    {
     "cell_type": "code",
     "collapsed": false,
     "input": [
      "#Given\n",
      "V = 10         #lb, load\n",
      "b1 = 6        #inch\n",
      "h1 = 8        #inch\n",
      "t = 1         #inch\n",
      "b2 = b1-2*t\n",
      "h2 = h1-2*t   #inch\n",
      "b3 = 4         #inch\n",
      "\n",
      "#Calculations\n",
      "I = ((b2/2.0*(b1+t)**3))/12.0 +2*((b3+t)*t*((h1-t)/2.0)**2)\n",
      "q_b = 0\n",
      "Q_c = (h1-t)/2.0*(b3+t)*t \n",
      "q_c = 1/2.0*(V*Q_c)/I\n",
      "Q_d = 2*((h1-t)/4.0)*(h1-t)/2.0*t+(h1-t)/2.0*(b3+t)*t\n",
      "q_d = 1/2.0*(V*Q_d)/I #Q = VQ/I\n",
      "\n",
      "#Display\n",
      "print\"Variation of shear flow at B  = \",q_b,\"kip/inch\"\n",
      "print\"Variation of shear flow at C  = \",round(q_c,3),\"kip/inch\"\n",
      "print'Variation of shear flow at D  = ',round(q_d,3),\"kip/inch\"\n"
     ],
     "language": "python",
     "metadata": {},
     "outputs": [
      {
       "output_type": "stream",
       "stream": "stdout",
       "text": [
        "Variation of shear flow at B  =  0 kip/inch\n",
        "Variation of shear flow at C  =  0.487 kip/inch\n",
        "Variation of shear flow at D  =  0.828 kip/inch\n"
       ]
      }
     ],
     "prompt_number": 30
    }
   ],
   "metadata": {}
  }
 ]
}