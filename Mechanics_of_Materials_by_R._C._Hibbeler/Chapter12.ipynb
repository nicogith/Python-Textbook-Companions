{
 "metadata": {
  "name": ""
 },
 "nbformat": 3,
 "nbformat_minor": 0,
 "worksheets": [
  {
   "cells": [
    {
     "cell_type": "heading",
     "level": 1,
     "metadata": {},
     "source": [
      "Chapter 12:Deflection of Beams and Shaft"
     ]
    },
    {
     "cell_type": "heading",
     "level": 2,
     "metadata": {},
     "source": [
      "Example 12.10 Page No 610"
     ]
    },
    {
     "cell_type": "code",
     "collapsed": false,
     "input": [
      "#Given\n",
      "E = 200*10**6   #kN/m**2, stress\n",
      "I = 17*10**-6   #mm**4, moment of inertia\n",
      "\n",
      "#The given dimension are\n",
      "l_ac = 2 #m\n",
      "l_cF = 4 #m\n",
      "l_Fb = 2 #m\n",
      "l_cb = 6 #m\n",
      "l_aF = 6 #m\n",
      "l_ab = 8 #m\n",
      "F = 16 #kN\n",
      "R_b = (F*l_cb)/l_ab\n",
      "R_a = F - R_b\n",
      "\n",
      "#Calculation\n",
      "mc = R_a*l_ac\n",
      "mf = R_b*l_Fb\n",
      "theta_ca = (0.5*l_ac*mc)/(E*I)\n",
      "A1 = 0.5*l_aF*mf\n",
      "t1_ba = (l_Fb + l_aF/3)*(A1)\n",
      "A2 = 0.5*l_Fb*mf\n",
      "t2_ba = (l_Fb*2*A2)/3\n",
      "t_ba = (t1_ba+t2_ba)/(E*I)\n",
      "theta_c = (t_ba/l_ab)-(theta_ca)\n",
      "\n",
      "#Display\n",
      "print\"The slope at point C of the steel beam    = \",round(theta_c,4),\"rad\"\n"
     ],
     "language": "python",
     "metadata": {},
     "outputs": [
      {
       "output_type": "stream",
       "stream": "stdout",
       "text": [
        "The slope at point C of the steel beam    =  0.0094 rad\n"
       ]
      }
     ],
     "prompt_number": 3
    },
    {
     "cell_type": "heading",
     "level": 2,
     "metadata": {},
     "source": [
      "Example 12.12 Page No 612"
     ]
    },
    {
     "cell_type": "code",
     "collapsed": false,
     "input": [
      "#Given\n",
      "E = 29*10**3    #ksi, stress\n",
      "I = 125        #inch**4, moment of inertia\n",
      "l_ab = 12        #ft, dimension\n",
      "l_bc =12        #ft\n",
      "l_ac = l_ab+l_bc\n",
      "R_a = -5     #kip, normal force\n",
      "R_b = 10      #kip\n",
      "R_c = 5      #kip\n",
      "\n",
      "#calculation\n",
      "mb = R_a*l_ab\n",
      "#Moment-Area Theorem\n",
      "t_ca = (l_ab*0.5*l_ac*mb)/(E*I)\n",
      "t_ba = ((1/3.0)*l_ab*0.5*l_ab*mb)/(E*I)\n",
      "del_c = (t_ca - 2*t_ba)*1728\n",
      "\n",
      "#Display\n",
      "print\"The displacement at point C for the steel overhanging beam    =\",round(del_c,2),\"inch\""
     ],
     "language": "python",
     "metadata": {},
     "outputs": [
      {
       "output_type": "stream",
       "stream": "stdout",
       "text": [
        "The displacement at point C for the steel overhanging beam    = -2.75 inch\n"
       ]
      }
     ],
     "prompt_number": 1
    },
    {
     "cell_type": "heading",
     "level": 2,
     "metadata": {},
     "source": [
      "Example 12.13 Page No 620"
     ]
    },
    {
     "cell_type": "code",
     "collapsed": false,
     "input": [
      "#Given\n",
      "w = 2 #kN/m, load\n",
      "L = 8 #m, length\n",
      "P = 8 #kN\n",
      "\n",
      "#Calculations\n",
      "EI_theta_A1 = (3*w*L**3)/(128) #ThetaA1 = (3wL**3)/(128EI)\n",
      "EI_nu_C1 = (5*w*L**4)/(768) #NuC1 = (5wL**4)/(768EI)\n",
      "EI_theta_A2 = (P*L**2)/(16) #theta_A2 = (PL**2)/(16EI)\n",
      "EI_nu_C2 = (P*L**3)/(48) #nu_C2 = (PL**3)/(48EI)\n",
      "theta_A = EI_theta_A1 + EI_theta_A2\n",
      "nu_C = EI_nu_C1 + EI_nu_C2\n",
      "\n",
      "#Display\n",
      "print'The slope at A in terms of EI                =',theta_A,\"kNm**2\"\n",
      "print'The displacement at point C in terms of EI   =',nu_C,\"kNm**2\"\n"
     ],
     "language": "python",
     "metadata": {},
     "outputs": [
      {
       "output_type": "stream",
       "stream": "stdout",
       "text": [
        "The slope at A in terms of EI                = 56 kNm**2\n",
        "The displacement at point C in terms of EI   = 138 kNm**2\n"
       ]
      }
     ],
     "prompt_number": 11
    },
    {
     "cell_type": "heading",
     "level": 2,
     "metadata": {},
     "source": [
      "Example 12.14 Page No 621"
     ]
    },
    {
     "cell_type": "code",
     "collapsed": false,
     "input": [
      "#Given\n",
      "w = 5    #kN/m, force per unit length\n",
      "l_ab = 4 #m, length\n",
      "l_bc = 2 #m\n",
      "P = 10   #kN, load\n",
      "M = w*l_ab #kNm\n",
      "\n",
      "#Calculations\n",
      "EI_theta_B1 = (w*l_ab**3)/(24) #ThetaB1 = (wL**3)/(24EI)\n",
      "EI_nu_C1 = l_bc*EI_theta_B1\n",
      "\n",
      "EI_theta_B2 = (M*l_ab)/(3) #\n",
      "EI_nu_C2 = l_bc*EI_theta_B2\n",
      "EI_nu_C3 = (P*l_bc**3)/(3) #nuC3 = (PL**3)/(24EI)\n",
      "nu_C = -EI_nu_C1 + EI_nu_C2 + EI_nu_C3\n",
      "\n",
      "#Display\n",
      "print'The displacement at end C of the overhanging beam, in terms of EI   = ',nu_C,\"kNm**3\""
     ],
     "language": "python",
     "metadata": {},
     "outputs": [
      {
       "output_type": "stream",
       "stream": "stdout",
       "text": [
        "The displacement at end C of the overhanging beam, in terms of EI   =  52 kNm**3\n"
       ]
      }
     ],
     "prompt_number": 10
    },
    {
     "cell_type": "heading",
     "level": 2,
     "metadata": {},
     "source": [
      "Example 12.15 Page No 622"
     ]
    },
    {
     "cell_type": "code",
     "collapsed": false,
     "input": [
      "#Given\n",
      "w = 4    #kN/m, force per unit length\n",
      "l = 6   #m, length\n",
      "l_bc =2  #m\n",
      "\n",
      "#Calculations\n",
      "EI_theta_B = (w*l**3)/(24.0)  #ThetaB1 = (wL**3)/(24EI)\n",
      "EI_nu_B = (w*l**4)/(30.0)     #nuB = (wL**4)/(30EI)\n",
      "nu_C = EI_nu_B + (EI_theta_B*l_bc)\n",
      "\n",
      "#Display\n",
      "print'The displacement at end C of the cantilever beam, in terms of EI   = ',nu_C,\"kNm**3\"\n"
     ],
     "language": "python",
     "metadata": {},
     "outputs": [
      {
       "output_type": "stream",
       "stream": "stdout",
       "text": [
        "The displacement at end C of the cantilever beam, in terms of EI   =  244.8 kNm**3\n"
       ]
      }
     ],
     "prompt_number": 5
    },
    {
     "cell_type": "heading",
     "level": 2,
     "metadata": {},
     "source": [
      "Example 12.16 Page No 623"
     ]
    },
    {
     "cell_type": "code",
     "collapsed": false,
     "input": [
      "#Given\n",
      "k = 15.0        #kip/ft, force per unit length\n",
      "F = 3           #kip,  force\n",
      "E = 29*10**3  #ksi, stress\n",
      "l_ab = 3.0       #ft, length\n",
      "l_ac = 1       #ft\n",
      "l_cb = 2       #ft\n",
      "I = 12         #in**4, moment of inertia\n",
      "R_a = (F*l_cb)/(l_ab)\n",
      "R_b = F-R_a\n",
      "\n",
      "#Calculations\n",
      "mu_a = (R_a)/k\n",
      "mu_b = (R_b)/k\n",
      "mu_c1 = mu_b + (l_cb/l_ab)*(mu_a - mu_b)\n",
      "#From fig b\n",
      "a=3            #ft\n",
      "b=6            #ft\n",
      "L=9            #ft\n",
      "mu_c2 = ((F*a*b)*(L**2 - a**2 - b**2))/(6*E*144*I*(1/20736.0)*L)\n",
      "mu_c = mu_c1 + mu_c2\n",
      "\n",
      "#Display\n",
      "print'The vertical displacement of the force at C   = ',round(mu_c,3),\"ft\"\n"
     ],
     "language": "python",
     "metadata": {},
     "outputs": [
      {
       "output_type": "stream",
       "stream": "stdout",
       "text": [
        "The vertical displacement of the force at C   =  0.126 ft\n"
       ]
      }
     ],
     "prompt_number": 11
    },
    {
     "cell_type": "heading",
     "level": 2,
     "metadata": {},
     "source": [
      "Example 12.21 Page No 643"
     ]
    },
    {
     "cell_type": "code",
     "collapsed": false,
     "input": [
      "#Given\n",
      "l = 10        #ft, length\n",
      "P = 8        #kip, load\n",
      "w = 2       #kip/ft, force per unit length\n",
      "\n",
      "#Calculation\n",
      "#Compatibility Equation\n",
      "EI_nu_b1 = (w*l**4)/8.0 + (5*P*l**3)/48.0 #nu_b = (wl**4)/8EI + (5Pl**3)/48EI\n",
      "EI_nu_b2 = (l**3)/3.0\n",
      "B_y = EI_nu_b1 / EI_nu_b2\n",
      "\n",
      "#Display\n",
      "print\"The reactions at roller support B    = \",B_y,\"kip\"\n"
     ],
     "language": "python",
     "metadata": {},
     "outputs": [
      {
       "output_type": "stream",
       "stream": "stdout",
       "text": [
        "The reactions at roller support B    =  10.0 kip\n"
       ]
      }
     ],
     "prompt_number": 12
    },
    {
     "cell_type": "heading",
     "level": 2,
     "metadata": {},
     "source": [
      "Example 12.22 Page No 644"
     ]
    },
    {
     "cell_type": "code",
     "collapsed": false,
     "input": [
      "#Given:\n",
      "l = 8         #ft, length\n",
      "l_ab = 5      #ft\n",
      "l_bc = 5       #ft\n",
      "l_af = 1/2.0  #inch\n",
      "b = 12/1000.0 #m\n",
      "w = 8        #kip, force per unit length\n",
      "E = 29*10**3  #Ksi\n",
      "I = 475.0     # inch**4, moment of inertia\n",
      "\n",
      "#Compatibility Equation:\n",
      "import math\n",
      "A=math.pi/4.0*(l_af**2)\n",
      "muB__byFbc=l*12/(A*E)\n",
      "L=l_ab+l_bc\n",
      "muB=5*w*L**3*12/(48*E*I)\n",
      "muB_byFbc=L**3*12/(3*E*I)\n",
      "#From equation muB__=muB-muB_\n",
      "Fbc=muB/(muB_byFbc+muB__byFbc)\n",
      "\n",
      "#Display:\n",
      "print \"Force developed in the rod is\",round(Fbc,3),\"kip\"\n",
      "print\"In the book: Calculation mistake\"\n"
     ],
     "language": "python",
     "metadata": {},
     "outputs": [
      {
       "output_type": "stream",
       "stream": "stdout",
       "text": [
        "Force developed in the rod is 0.042 kip\n",
        "In the book: Calculation mistake\n"
       ]
      }
     ],
     "prompt_number": 12
    },
    {
     "cell_type": "heading",
     "level": 2,
     "metadata": {},
     "source": [
      "Example 12.23 Page No: 646"
     ]
    },
    {
     "cell_type": "code",
     "collapsed": false,
     "input": [
      "#Given:\n",
      "L = 12       #ft\n",
      "#E and I are constant  say\n",
      "E = 29*10**3 #Ksi\n",
      "I = 475        # inch**4\n",
      "w = 3         #kip/ft\n",
      "\n",
      "#calculation\n",
      "thetab=w*L**3/(48*E*I)\n",
      "mub=7*w*L**4/(384*E*I)\n",
      "theta_bbyBy=L**2/(2*E*I)\n",
      "mu_bbyBy=L**3/(3*E*I)\n",
      "theta__byMb=L/(E*I)\n",
      "muB__byMb=L**2/(2*E*I)\n",
      "\n",
      "#From eq 1 and 2 (solving  by matrix)\n",
      "#72By+12Mb=-108\n",
      "#576By+72Mb=-1134\n",
      "M = array([[576, 72], [72, 12]])\n",
      "N=([-108,-1134])\n",
      "X=inv(M)*N #Inverse matrix\n",
      "a=X[0,0]\n",
      "b=X[1,0]*2.5\n",
      "\n",
      "#Display:\n",
      "print\"Moment at B is\",b,\"kip-ft\""
     ],
     "language": "python",
     "metadata": {},
     "outputs": [
      {
       "output_type": "stream",
       "stream": "stdout",
       "text": [
        "Moment at B is 11.25 kip-ft\n"
       ]
      }
     ],
     "prompt_number": 13
    }
   ],
   "metadata": {}
  }
 ]
}