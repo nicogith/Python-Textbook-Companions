{
 "metadata": {
  "name": "",
  "signature": "sha256:ff1027836ff09444a0f286e9b3a2446de80c3b84e271ae3db6a9354c2ea33b2b"
 },
 "nbformat": 3,
 "nbformat_minor": 0,
 "worksheets": [
  {
   "cells": [
    {
     "cell_type": "heading",
     "level": 1,
     "metadata": {},
     "source": [
      "Chapter 4: Shear Forces and Bending Moments"
     ]
    },
    {
     "cell_type": "heading",
     "level": 2,
     "metadata": {},
     "source": [
      "Example 4.3, page no. 275"
     ]
    },
    {
     "cell_type": "code",
     "collapsed": false,
     "input": [
      "\n",
      "import math\n",
      "\n",
      "#initialisation\n",
      "\n",
      "q = 0.2                     # Uniform load intensity in K/ft\n",
      "P = 14                      # Concentrated load in k\n",
      "Ra = 11                     # Reaction at A from wquation of equilibrium\n",
      "Rb = 9                      # Reaction at B from wquation of equilibrium\n",
      "\n",
      "#calculation\n",
      "V = 11 - 14 - (0.2*15)      # shear force in k\n",
      "\n",
      "print \"Shear force at section D\", V, \"k\"\n",
      "M = (11*15)-(14*6)-(0.2*15*7.5)             # Bending moment in K-ft\n",
      "print \"Bending moment at section D\", M, \"k-ft\"\n",
      "V1 = -9+(0.2*15)                            # Shear firce from alternative method in k\n",
      "M1 = (9*9)-(0.2*7.5*15)                     # Bending moment from alternative method in k-ft"
     ],
     "language": "python",
     "metadata": {},
     "outputs": [
      {
       "output_type": "stream",
       "stream": "stdout",
       "text": [
        "Shear force at section D -6.0 k\n",
        "Bending moment at section D 58.5 k-ft\n"
       ]
      }
     ],
     "prompt_number": 1
    },
    {
     "cell_type": "heading",
     "level": 2,
     "metadata": {},
     "source": [
      "Example 4.7"
     ]
    },
    {
     "cell_type": "code",
     "collapsed": false,
     "input": [
      "\n",
      "import math \n",
      "\n",
      "#initialisation\n",
      "\n",
      "q = 1                   # Uniform load intensity in k/ft\n",
      "M0 = 12                 # Couple in k-ft\n",
      "Rb = 5.25               # Reaction at B in k\n",
      "Rc = 1.25               # Reaction at C in k\n",
      "b = 4                   # Length of section AB in ft\n",
      "\n",
      "#calculation\n",
      "\n",
      "Mb = -(q*(b**2))/2      # Moment acting at B\n",
      "\n",
      "#Result\n",
      "print \"Bending moment at B\", Mb, \"k-ft\""
     ],
     "language": "python",
     "metadata": {},
     "outputs": [
      {
       "output_type": "stream",
       "stream": "stdout",
       "text": [
        "Bending moment at B -8 k-ft\n"
       ]
      }
     ],
     "prompt_number": 2
    }
   ],
   "metadata": {}
  }
 ]
}