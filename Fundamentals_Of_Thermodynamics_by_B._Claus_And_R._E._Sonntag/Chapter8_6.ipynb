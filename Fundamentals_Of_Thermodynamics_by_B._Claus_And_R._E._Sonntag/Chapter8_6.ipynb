{
 "metadata": {
  "name": "",
  "signature": "sha256:79711d3b5ce866eb594601c655e2c85bdace3e8f861ba88d25f2b6f7e8d8655f"
 },
 "nbformat": 3,
 "nbformat_minor": 0,
 "worksheets": [
  {
   "cells": [
    {
     "cell_type": "heading",
     "level": 1,
     "metadata": {},
     "source": [
      "Chapter8:ENTROPY"
     ]
    },
    {
     "cell_type": "heading",
     "level": 2,
     "metadata": {},
     "source": [
      "Ex8.1:pg-290"
     ]
    },
    {
     "cell_type": "code",
     "collapsed": false,
     "input": [
      "#example 1\n",
      "#coefficient of performance of refrigerator\n",
      "\n",
      "Th=60 #temperature at which heat is rejected from R-134a\n",
      "Tl=0 #temperature at which heat is absorbed into the R-134a \n",
      "s1=1.7262 #specific entropy at 0 Celsius\n",
      "s2=s1 #process of state change from 1-2 is isentropic \n",
      "s3=1.2857 #specific entropy at 60 celsius\n",
      "s4=s3 #process of state change from 3-4 is isentropic\n",
      "print\"if Pressure is 1400 kPa,then s=1.7360 kJ/kg-K and if P=1600 kPa,then s=1.7135 kJ/kg-K.Therefore\"\n",
      "P2=1400+(1600-1400)*(1.7262-1.736)/(1.7135-1.736) #pressure after compression in kPa\n",
      "B=(Th+273.15)/(Th-Tl) #coefficient of performance of refrigerator\n",
      "print\" \\n hence,pressure after compression is \",round(P2,1),\"kPa\"\n",
      "print\"\\n and coefficient of performance of refrigerator is\",round(B,2)"
     ],
     "language": "python",
     "metadata": {},
     "outputs": [
      {
       "output_type": "stream",
       "stream": "stdout",
       "text": [
        "if Pressure is 1400 kPa,then s=1.7360 kJ/kg-K and if P=1600 kPa,then s=1.7135 kJ/kg-K.Therefore\n",
        " \n",
        " hence,pressure after compression is  1487.1 kPa\n",
        "\n",
        " and coefficient of performance of refrigerator is 5.55\n"
       ]
      }
     ],
     "prompt_number": 3
    },
    {
     "cell_type": "heading",
     "level": 2,
     "metadata": {},
     "source": [
      "Ex8.2:pg-290"
     ]
    },
    {
     "cell_type": "code",
     "collapsed": false,
     "input": [
      "#example 2 \n",
      "#heat transfer in a given process\n",
      "\n",
      "u1=87.94 #specific internal energy of R-12 at state 1 in kJ/kg\n",
      "u2=276.44 #specific internal energy of R-12 at state 2 in kJ/kg\n",
      "s1=0.3357 #specific entropy at state 1 in kJ/kg-K\n",
      "s2=1.2108 #specific entropy at state 2 in kJ/kg-K\n",
      "V=0.001 #volume of saturated liquid in m^3\n",
      "v1=0.000923 #specific volume in m^3/kg\n",
      "m=V/v1 #mass of saturated liquid in kg\n",
      "T=20 #temperature of liquid in celsius\n",
      "Q12=m*(T+273.15)*(s2-s1) #heat transfer in kJ to accomplish the process\n",
      "W12=m*(u1-u2)+Q12 #work required to accomplish the process\n",
      "print\" \\n hence,work required to accomplish the process is\",round(W12,1),\"KJ\"\n",
      "print\" \\n and heat transfer is\",round(Q12,1),\"KJ\""
     ],
     "language": "python",
     "metadata": {},
     "outputs": [
      {
       "output_type": "stream",
       "stream": "stdout",
       "text": [
        " \n",
        " hence,work required to accomplish the process is 73.7 KJ\n",
        " \n",
        " and heat transfer is 277.9 KJ\n"
       ]
      }
     ],
     "prompt_number": 12
    },
    {
     "cell_type": "heading",
     "level": 2,
     "metadata": {},
     "source": [
      "Ex8.3:pg-293"
     ]
    },
    {
     "cell_type": "code",
     "collapsed": false,
     "input": [
      "#example 3\n",
      "#entropy change\n",
      "import math\n",
      "C=4.184 # specific heat of water in kJ/kg-K\n",
      "T1=20 #initial temperature of water in celsius\n",
      "T2=90 #final temperature of water in celsius\n",
      "dS1=C*math.log((T2+273.2)/(T1+273.2)) #change in entropy in kJ/kg-K\n",
      "dS2=1.1925-0.2966 #in kJ/kg-K using steam tables\n",
      "print\"\\n hence,change in entropy assuming constant specific heat is\",round(dS1,4),\"KJ/kg-k\" \n",
      "print\"\\n using steam table is\",round(dS2,4),\"KJ/kg-k\" "
     ],
     "language": "python",
     "metadata": {},
     "outputs": [
      {
       "output_type": "stream",
       "stream": "stdout",
       "text": [
        "\n",
        " hence,change in entropy assuming constant specific heat is 0.8958 KJ/kg-k\n",
        "\n",
        " using steam table is 0.8959 KJ/kg-k\n"
       ]
      }
     ],
     "prompt_number": 17
    },
    {
     "cell_type": "heading",
     "level": 2,
     "metadata": {},
     "source": [
      "Ex8.4:pg-295"
     ]
    },
    {
     "cell_type": "code",
     "collapsed": false,
     "input": [
      "#example 4\n",
      "#entropy change with different assumptions\n",
      "import math\n",
      "T1=300 #initial temperature in kelvins\n",
      "T2=1500 #final temperature in kelvins\n",
      "P1=200.0 #initial pressure in kPa\n",
      "P2=150.0 #final pressure in kPa\n",
      "R=0.2598 # in kJ/kg-K\n",
      "Cp=0.922 #specific heat in kJ/kg-K at constant pressure\n",
      "dsT2=8.0649 #in kJ/kg-K\n",
      "dsT1=6.4168 #in kJ/kg-K\n",
      "dS1=dsT2-dsT1-R*math.log(P2/P1) #entropy change calculated using ideal gas tables\n",
      "dS3=Cp*math.log(T2/T1)-R*math.log(P2/P1) #entropy change assuming constant specific heat in kJ/kg-K\n",
      "dS4=1.0767*math.log(T2/T1)+0.0747 #entropy change assuming specific heat is constant at its value at 990K\n",
      "print\"\\n hence,change in entropy using ideal gas tables is\",round(dS1,4),\"KJ/kg-k\"\n",
      "print\"\\n hence,change in entropy using the value of specific heat at 300K is\",round(dS3,4),\"KJ/kg-k\"\n",
      "print\"\\n hence,change in entropy assuming specific heat is constant at its value at 900K is \",round(dS4,4),\"KJ/kg-k\""
     ],
     "language": "python",
     "metadata": {},
     "outputs": [
      {
       "output_type": "stream",
       "stream": "stdout",
       "text": [
        "\n",
        " hence,change in entropy using ideal gas tables is 1.7228 KJ/kg-k\n",
        "\n",
        " hence,change in entropy using the value of specific heat at 300K is 1.5586 KJ/kg-k\n",
        "\n",
        " hence,change in entropy assuming specific heat is constant at its value at 900K is  1.8076 KJ/kg-k\n"
       ]
      }
     ],
     "prompt_number": 19
    },
    {
     "cell_type": "heading",
     "level": 2,
     "metadata": {},
     "source": [
      "Ex8.5:pg-296\n"
     ]
    },
    {
     "cell_type": "code",
     "collapsed": false,
     "input": [
      "#example 5\n",
      "#entropy change\n",
      "import math\n",
      "Cp=1.004 #specific heat at constant pressure in kJ/kg-K\n",
      "R=0.287 #gas constant in kJ/kg-K\n",
      "P1=400.0 #initial pressure in kPa\n",
      "P2=300.0 #final pressure in kPa\n",
      "T1=300 #initial temperature in K\n",
      "T2=600 #final temperature in K\n",
      "dS1=Cp*math.log(T2/T1)-R*math.log(P2/P1) #entropy change assuming constant specific heat\n",
      "s1=6.8693 #specific entropy at T1\n",
      "s2=7.5764 #specific entropy at T2\n",
      "dS2=s2-s1-R*math.log(P2/P1) #entropy change assuming variable specific heat\n",
      "print\"\\n hence,entropy change assuming constant specific heat is\",round(dS1,4),\"KJ/kg-k\" \n",
      "print\"\\n and assuming variable specific heat is\",round(dS2,4),\"KJ/kg-k\" "
     ],
     "language": "python",
     "metadata": {},
     "outputs": [
      {
       "output_type": "stream",
       "stream": "stdout",
       "text": [
        "\n",
        " hence,entropy change assuming constant specific heat is 0.7785 KJ/kg-k\n",
        "\n",
        " and assuming variable specific heat is 0.7897 KJ/kg-k\n"
       ]
      }
     ],
     "prompt_number": 1
    },
    {
     "cell_type": "heading",
     "level": 2,
     "metadata": {},
     "source": [
      "Ex8.6:pg-297"
     ]
    },
    {
     "cell_type": "code",
     "collapsed": false,
     "input": [
      "#example 6\n",
      "#work done by air\n",
      "import math\n",
      "T1=600 #initial temperature of air in K\n",
      "P1=400.0 #intial pressure of air in kPa\n",
      "P2=150.0 #final pressure in kPa\n",
      "u1=435.10 #specific internal energy at temperature T1 in kJ/kg\n",
      "sT1=7.5764 #specific entropy at temperature T1 in kJ/kg-K\n",
      "R=0.287 #gas constant in kJ/kg-K\n",
      "ds=0\n",
      "sT2=ds+sT1+R*math.log(P2/P1) #specific entropy at temperature T2 in kJ/kg-K\n",
      "print\"we know the values of s and P for state 2.So,in order to fully determine the state,we will use steam table\"\n",
      "T2=457 #final temperature in K\n",
      "u2=328.14 #specific internal energy at temperature T2 in kJ/kg\n",
      "w=u1-u2 #work done by air in kJ/kg\n",
      "print\"\\n hence,work done by air is\",round(w,4),\"KJ/kg\" "
     ],
     "language": "python",
     "metadata": {},
     "outputs": [
      {
       "output_type": "stream",
       "stream": "stdout",
       "text": [
        "we know the values of s and P for state 2.So,in order to fully determine the state,we will use steam table\n",
        "\n",
        " hence,work done by air is 106.96 KJ/kg\n"
       ]
      }
     ],
     "prompt_number": 2
    },
    {
     "cell_type": "heading",
     "level": 2,
     "metadata": {},
     "source": [
      "Ex8.7:pg-300"
     ]
    },
    {
     "cell_type": "code",
     "collapsed": false,
     "input": [
      "#example 7\n",
      "#work and heat transfer\n",
      "\n",
      "P2=500  #final pressure in cylinder in kPa\n",
      "P1=100 #initial pressure in cylinder in kPa\n",
      "T1=20+273.2 #initial temperature inside cylinder in Kelvins\n",
      "n=1.3 \n",
      "T2=(T1)*(P2/P1)**((n-1)/n) #final temperature inside cylinder in K\n",
      "R=0.2968 #gas constant in kJ/kg-K\n",
      "w12=R*(T2-T1)/(1-n) #work in kJ/kg\n",
      "Cvo=0.745 #specific heat at constant volume in kJ/kg-K\n",
      "q12=Cvo*(T2-T1)+w12 #heat transfer in kJ/kg\n",
      "print\" \\n hence,work done is\",round(w12,2),\"KJ/kg\" \n",
      "print\"\\n and heat transfer are\",round(q12,1),\"KJ/kg\" "
     ],
     "language": "python",
     "metadata": {},
     "outputs": [
      {
       "output_type": "stream",
       "stream": "stdout",
       "text": [
        " \n",
        " hence,work done is -130.47 KJ/kg\n",
        "\n",
        " and heat transfer are -32.2 KJ/kg\n"
       ]
      }
     ],
     "prompt_number": 5
    },
    {
     "cell_type": "heading",
     "level": 2,
     "metadata": {},
     "source": [
      "Ex8.8:pg-308"
     ]
    },
    {
     "cell_type": "code",
     "collapsed": false,
     "input": [
      "#example 3\n",
      "#calculating increase in entropy\n",
      "\n",
      "m=1 #mass of saturated water vapour\n",
      "sfg=6.0480 #in kJ/K\n",
      "T=25 #temperature of surrounding air in celsius\n",
      "dScm=-m*sfg #change in entropy of control mass in kJ/K\n",
      "hfg=2257.0 #in kJ/kg\n",
      "Qtosurroundings=m*hfg #heat transferred to surroundings in kJ\n",
      "dSsurroundings=Qtosurroundings/(T+273.15) #in kJ/K\n",
      "dSnet=dScm+dSsurroundings #net increase in entropy in kJ/K\n",
      "print\" hence,net increase in entropy of water plus surroundings is \",round(dSnet,3),\"KJ/k\" "
     ],
     "language": "python",
     "metadata": {},
     "outputs": [
      {
       "output_type": "stream",
       "stream": "stdout",
       "text": [
        " hence,net increase in entropy of water plus surroundings is  1.522 KJ/k\n"
       ]
      }
     ],
     "prompt_number": 8
    },
    {
     "cell_type": "heading",
     "level": 2,
     "metadata": {},
     "source": [
      "Ex8.9:pg-309"
     ]
    },
    {
     "cell_type": "code",
     "collapsed": false,
     "input": [
      "#example 9\n",
      "#entropy generation\n",
      "\n",
      "Qout=1.0 #value of heat flux generated by 1kW of electric power\n",
      "T=600.0 #temperature of hot wire surface in K\n",
      "Sgen=Qout/T #entropy generation in kW/K\n",
      "print\"\\n hence,entropy generation is\",round(Sgen,5),\"KW/k\" "
     ],
     "language": "python",
     "metadata": {},
     "outputs": [
      {
       "output_type": "stream",
       "stream": "stdout",
       "text": [
        "\n",
        " hence,entropy generation is 0.00167 KW/k\n"
       ]
      }
     ],
     "prompt_number": 13
    },
    {
     "cell_type": "heading",
     "level": 2,
     "metadata": {},
     "source": [
      "Ex8.10:pg-310"
     ]
    },
    {
     "cell_type": "code",
     "collapsed": false,
     "input": [
      "#example 10\n",
      "#Determiining the entropy generated\n",
      "\n",
      "B=4.0#COP of air conditioner\n",
      "W=10.0 #power input of air conditioner in kW\n",
      "Qh=B*W #in kW\n",
      "Ql=Qh-W #in kW\n",
      "Thigh=323 #in Kelvin\n",
      "Tlow=263 #in Kelvin\n",
      "SgenHP=(Qh*1000/Thigh)-(Ql*1000/Tlow) #in W/K\n",
      "Tl=281 # in K\n",
      "Th=294 #in K\n",
      "SgenCV1=Ql*1000/Tlow-Ql*1000/Tl #in W/K\n",
      "SgenCV2=Qh*1000/Th-Qh*1000/Thigh #in W/K\n",
      "SgenTOT=SgenCV1+SgenCV2+SgenHP #in W/K\n",
      "print\" \\n Hence,Total entropy generated is\",round(SgenTOT,1),\"W/k\""
     ],
     "language": "python",
     "metadata": {},
     "outputs": [
      {
       "output_type": "stream",
       "stream": "stdout",
       "text": [
        " \n",
        " Hence,Total entropy generated is 29.3 W/k\n"
       ]
      }
     ],
     "prompt_number": 16
    }
   ],
   "metadata": {}
  }
 ]
}