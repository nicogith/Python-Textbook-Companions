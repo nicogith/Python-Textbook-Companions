{
 "metadata": {
  "name": "",
  "signature": "sha256:a88db765bb23172043955029f8f04edaf8e710f3cbd46a5474827f42fa8a65ec"
 },
 "nbformat": 3,
 "nbformat_minor": 0,
 "worksheets": [
  {
   "cells": [
    {
     "cell_type": "heading",
     "level": 1,
     "metadata": {},
     "source": [
      "Chapter11:Power and Refrigeration Systems\u2014With Phase Change"
     ]
    },
    {
     "cell_type": "heading",
     "level": 2,
     "metadata": {},
     "source": [
      "Ex11.1:Pg-425"
     ]
    },
    {
     "cell_type": "code",
     "collapsed": false,
     "input": [
      "#Ques 1\n",
      "#To determine the efficiency of Rankine cycle\n",
      "\n",
      "#1-Inlet state of pump\n",
      "#2-Exit state of pump\n",
      "P2=2000;#Exit pressure in kPa\n",
      "P1=10;#Inlet pressure in kPa\n",
      "v=0.00101;#specific weight of water in m^3/kg\n",
      "wp=v*(P2-P1);#work done in pipe in kJ/kg\n",
      "h1=191.8;#Enthalpy in kJ/kg from table\n",
      "h2=h1+wp;#enthalpy in kJ/kg\n",
      "#2-Inlet state for boiler\n",
      "#3-Exit state for boiler\n",
      "h3=2799.5;#Enthalpy in kJ/kg\n",
      "#3-Inlet state for turbine\n",
      "#4-Exit state for turbine\n",
      "#s3=s4(Entropy remain same)\n",
      "s4=6.3409;#kJ/kg\n",
      "sf=0.6493;#Entropy at liquid state in kJ/kg\n",
      "sfg=7.5009;#Entropy difference for vapor and liquid state in kJ/kg\n",
      "x4=(s4-sf)/sfg;#x-factor\n",
      "hfg=2392.8;#Enthalpy difference in kJ/kg for turbine\n",
      "h4=h1+x4*hfg;#Enthalpy in kJ/kg\n",
      "\n",
      "nth=((h3-h2)-(h4-h1))/(h3-h2);\n",
      "print\" Percentage efficiency =\",round(nth*100,1)"
     ],
     "language": "python",
     "metadata": {},
     "outputs": [
      {
       "output_type": "stream",
       "stream": "stdout",
       "text": [
        " Percentage efficiency = 30.3\n"
       ]
      }
     ],
     "prompt_number": 4
    },
    {
     "cell_type": "heading",
     "level": 2,
     "metadata": {},
     "source": [
      "Ex11.2:Pg-429"
     ]
    },
    {
     "cell_type": "code",
     "collapsed": false,
     "input": [
      "#Ques 2\n",
      "#To determine the efficiency of Rankine cycle\n",
      "\n",
      "#1-Inlet state of pump\n",
      "#2-Exit state of pump\n",
      "P2=4000;#Exit pressure in kPa\n",
      "P1=10;#Inlet pressure in kPa\n",
      "v=0.00101;#specific weight of water in m^3/kg\n",
      "wp=v*(P2-P1);#work done in pipe in kJ/kg\n",
      "h1=191.8;#Enthalpy in kJ/kg from table\n",
      "h2=h1+wp;#enthalpy in kJ/kg\n",
      "#2-Inlet state for boiler\n",
      "#3-Exit state for boiler\n",
      "h3=3213.6;#Enthalpy in kJ/kg from table\n",
      "#3-Inlet state for turbine\n",
      "#4-Exit state for turbine\n",
      "#s3=s4(Entropy remain same)\n",
      "s4=6.7690;#Entropy in kJ/kg from table\n",
      "sf=0.6493;#Entropy at liquid state in kJ/kg from table\n",
      "sfg=7.5009;#Entropy difference for vapor and liquid state in kJ/kg from table\n",
      "x4=(s4-sf)/sfg;#x-factor\n",
      "hfg=2392.8;#Enthalpy difference in kJ/kg for turbine\n",
      "h4=h1+x4*hfg;#Enthalpy in kJ/kg\n",
      "\n",
      "nth=((h3-h2)-(h4-h1))/(h3-h2);\n",
      "print\"Percentage efficiency =\",round(nth*100,1),\"%\""
     ],
     "language": "python",
     "metadata": {},
     "outputs": [
      {
       "output_type": "stream",
       "stream": "stdout",
       "text": [
        "Percentage efficiency = 35.3 %\n"
       ]
      }
     ],
     "prompt_number": 41
    },
    {
     "cell_type": "heading",
     "level": 2,
     "metadata": {},
     "source": [
      "Ex11.2E:Pg-431"
     ]
    },
    {
     "cell_type": "code",
     "collapsed": false,
     "input": [
      "#Ques 2\n",
      "#To determine the efficiency of Rankine cycle\n",
      "\n",
      "#1-Inlet state of pump\n",
      "#2-Exit state of pump\n",
      "P2=600.0 ;#Exit pressure in lbf/in^2\n",
      "P1=1.0;#Inlet pressure in lbf/in^2\n",
      "v=0.01614;#specific weight of water in ft^3/lbm\n",
      "wp=v*(P2-P1)*(144.0/778.0);#work done in pipe in Btu/lbm\n",
      "h1=69.70;#Enthalpy in Btu/lbm from table\n",
      "h2=h1+wp;#enthalpy in Btu/lbm\n",
      "#2-Inlet state for boiler\n",
      "#3-Exit state for boiler\n",
      "h3=1407.6;#Enthalpy in Btu/lbm from table\n",
      "#3-Inlet state for turbine\n",
      "#4-Exit state for turbine\n",
      "#s3=s4(Entropy remain same)\n",
      "s4=1.6343;#Entropy in Btu/lbm from table\n",
      "sf=1.9779;#Entropy at liquid state in Btu/lbm from table\n",
      "sfg=1.8453;#Entropy difference for vapor and liquid state in Btu/lbm from table\n",
      "x4=-(s4-sf)/sfg;#x-factor\n",
      "hfg=1036.0;#Enthalpy difference in Btu/lbm for turbine\n",
      "h4=1105.8-x4*hfg;#Enthalpy in Btu/lbm\n",
      "wt=(h3-h4) #work done in turbine in Btu/lbm\n",
      "\n",
      "nth=((h3-h4)-wp)/(h3-h2);\n",
      "print\"Percentage efficiency =\",round(nth*100,1),\"%\""
     ],
     "language": "python",
     "metadata": {},
     "outputs": [
      {
       "output_type": "stream",
       "stream": "stdout",
       "text": [
        "Percentage efficiency = 36.9 %\n"
       ]
      }
     ],
     "prompt_number": 42
    },
    {
     "cell_type": "heading",
     "level": 2,
     "metadata": {},
     "source": [
      "Ex11.3:Pg-433"
     ]
    },
    {
     "cell_type": "code",
     "collapsed": false,
     "input": [
      "#Ques 3\n",
      "#To determine the efficiency of a cycle\n",
      "\n",
      "#1-Inlet state of pump\n",
      "#2-Exit state of pump\n",
      "P2=4000;#Exit pressure in kPa\n",
      "P1=10;#Inlet pressure in kPa\n",
      "v=0.00101;#specific weight of water in m^3/kg\n",
      "wp=v*(P2-P1);#work done in pipe in kJ/kg\n",
      "h1=191.8;#Enthalpy in kJ/kg from table\n",
      "h2=h1+wp;#enthalpy in kJ/kg\n",
      "#2-Inlet state for boiler\n",
      "#3-Exit state for Boiler\n",
      "h3=3213.6;#Enthalpy in kJ/kg from table\n",
      "#3-Inlet state for high pressure turbine\n",
      "#4-Exit state for high pressure turbine\n",
      "#s3=s4(Entropy remain same)\n",
      "s4=6.7690;#Entropy in kJ/kg from table\n",
      "sf=1.7766;#Entropy at liquid state in kJ/kg from table\n",
      "sfg=5.1193;#Entropy difference for vapor and liquid state in kJ/kg from table\n",
      "x4=(s4-sf)/sfg;#x-factor\n",
      "hf=604.7#Enthalpy of liquid state in kJ/kg\n",
      "hfg=2133.8;#Enthalpy difference in kJ/kg for turbine\n",
      "h4=hf+x4*hfg;#Enthalpy in kJ/kg\n",
      "#5-Inlet state for low pressure turbine\n",
      "#6-Exit pressure for low pressure turbine\n",
      "sf=0.6493;#Entropy in liquid state in kJ/kg for turbine\n",
      "h5=3273.4;#enthalpy in kJ/kg \n",
      "s5=7.8985;#Entropy in kJ/kg\n",
      "sfg=7.5009;#entropy diff in kJ/kg \n",
      "x6=(s5-sf)/sfg;#x-factor\n",
      "hfg=2392.8;#enthalpy difference for low pressure turbine in kj/kg\n",
      "h6=h1+x6*hfg;#entropy in kg/kg\n",
      "wt=(h3-h4)+(h5-h6);#work output in kJ/kg\n",
      "qh=(h3-h2)+(h5-h4);\n",
      "\n",
      "nth=(wt-wp)/qh;\n",
      "print\" Percentage efficiency =\",round(nth*100,1),\"%\""
     ],
     "language": "python",
     "metadata": {},
     "outputs": [
      {
       "output_type": "stream",
       "stream": "stdout",
       "text": [
        " Percentage efficiency = 35.9 %\n"
       ]
      }
     ],
     "prompt_number": 43
    },
    {
     "cell_type": "heading",
     "level": 2,
     "metadata": {},
     "source": [
      "Ex11.4:Pg-438"
     ]
    },
    {
     "cell_type": "code",
     "collapsed": false,
     "input": [
      "#ques4\n",
      "#Efficiency of Refrigeration cycle\n",
      "\n",
      "#from previous examples\n",
      "h1=191.8;#kJ/kg\n",
      "h5=3213.6;#kg/kg\n",
      "h6=2685.7;#kJ/kg\n",
      "h7=2144.1;#kJ/kg\n",
      "h3=604.7;#kJ/kg\n",
      "#1-Inlet state of pump\n",
      "#2-Exit state of pump\n",
      "P2=400;#Exit pressure in kPa\n",
      "P1=10;  #Inlet pressure in kPa\n",
      "v=0.00101;#specific weight of water in m^3/kg\n",
      "wp1=v*(P2-P1);#work done for low pressure pump in kJ/kg\n",
      "h1=191.8;#Enthalpy in kJ/kg from table\n",
      "h2=h1+wp1;#enthalpy in kJ/kg\n",
      "#5-Inlet state for turbine\n",
      "#6,7-Exit state for turbine\n",
      "y=(h3-h2)/(h6-h2);#extraction fraction\n",
      "wt=(h5-h6)+(1-y)*(h6-h7);#turbine work in kJ/kg\n",
      "#3-Inlet for high pressure pump\n",
      "#4-Exit for high pressure pump\n",
      "P3=400;#kPa\n",
      "P4=4000;#kPa\n",
      "v=0.001084;#specific heat for 3-4 process in m^3/kg\n",
      "wp2=v*(P4-P3);#work done for high pressure pump\n",
      "h4=h3+wp2;#Enthalpy in kJ/kg\n",
      "wnet=wt-(1-y)*wp1-wp2;\n",
      "qh=h5-h4;#Heat output in kJ/kg\n",
      "nth=wnet/qh;\n",
      "print\" Refrigerator Efficiency =\",round(nth*100,1),\"%\"\n"
     ],
     "language": "python",
     "metadata": {},
     "outputs": [
      {
       "output_type": "stream",
       "stream": "stdout",
       "text": [
        " Refrigerator Efficiency = 37.5 %\n"
       ]
      }
     ],
     "prompt_number": 44
    },
    {
     "cell_type": "heading",
     "level": 2,
     "metadata": {},
     "source": [
      "Ex11.5:Pg-443"
     ]
    },
    {
     "cell_type": "code",
     "collapsed": false,
     "input": [
      "#ques5\n",
      "#To determine thermal efficiency of cycle\n",
      "\n",
      "#5-Inlet state for turbine\n",
      "#6-Exit state for turbine\n",
      "#h-Enthalpy at a state \n",
      "#s-Entropy at a state\n",
      "#from steam table\n",
      "h5=3169.1;#kJ/kg\n",
      "s5=6.7235;#kJ/kg\n",
      "s6s=s5;\n",
      "sf=0.6493;#Entropy for liquid state in kJ/kg\n",
      "sfg=7.5009;#Entropy difference in kJ/kg\n",
      "hf=191.8;#kJ/kg\n",
      "hfg=2392.8;#Enthalpy difference in kJ/kg\n",
      "x6s=(s6s-sf)/sfg;#x-factor\n",
      "h6s=hf+x6s*hfg;#kJ/Kg at state 6s\n",
      "nt=0.86;#turbine efficiency given\n",
      "wt=nt*(h5-h6s);\n",
      "#1-Inlet state for pump\n",
      "#2-Exit state for pump\n",
      "np=0.80;#pump efficiency given\n",
      "v=0.001009;#specific heat in m^3/kg\n",
      "P2=5000;#kPa\n",
      "P1=10;#kPa\n",
      "wp=v*(P2-P1)/np;#Work done in pump in kJ/kg\n",
      "wnet=wt-wp;#net work in kJ/kg\n",
      "#3-Inlet state for boiler\n",
      "#4-Exit state for boiler\n",
      "h3=171.8;#in kJ/kg from table\n",
      "h4=3213.6;#kJ/kg from table\n",
      "qh=h4-h3;\n",
      "nth=wnet/qh;\n",
      "print \"Cycle Efficiency =\",round(nth*100,1),\"%\""
     ],
     "language": "python",
     "metadata": {},
     "outputs": [
      {
       "output_type": "stream",
       "stream": "stdout",
       "text": [
        "Cycle Efficiency = 29.2 %\n"
       ]
      }
     ],
     "prompt_number": 45
    },
    {
     "cell_type": "heading",
     "level": 2,
     "metadata": {},
     "source": [
      "Ex11.5E:Pg-445"
     ]
    },
    {
     "cell_type": "code",
     "collapsed": false,
     "input": [
      "#ques5\n",
      "#To determine thermal efficiency of cycle\n",
      "\n",
      "#5-Inlet state for turbine\n",
      "#6-Exit state for turbine\n",
      "#h-Enthalpy at a state \n",
      "#s-Entropy at a state\n",
      "#from steam table\n",
      "h5=1386.8;#Btu/lbm\n",
      "s5=1.6248;#Btu/lbm\n",
      "s6s=s5;\n",
      "sf=1.9779;#Entropy for liquid state in Btu/lbm\n",
      "sfg=1.8453;#Entropy difference in Btu/lbm\n",
      "hf=1105.8;# Btu/lbm\n",
      "hfg=1036.0;#Enthalpy difference in Btu/lbm\n",
      "x6s=(s6s-sf)/sfg;#x-factor\n",
      "h6s=hf+x6s*hfg;#Btu/lbm at state 6s\n",
      "nt=0.86;#turbine efficiency given\n",
      "wt=nt*(h5-h6s);\n",
      "#1-Inlet state for pump\n",
      "#2-Exit state for pump\n",
      "np=0.80;#pump efficiency given\n",
      "v=0.016;#specific heat in ft^3/lbm\n",
      "P2=800.0;# lbf/in^2\n",
      "P1=1.0;# lbf/in^2\n",
      "wp=(v*(P2-P1)*144.0)/(np*778.0);#Work done in pump in Btu/lbm\n",
      "wnet=wt-wp;#net work in Btu/lbm\n",
      "#3-Inlet state for boiler\n",
      "#4-Exit state for boiler\n",
      "h3=65.1;#in Btu/lbm from table\n",
      "h4=1407.6;# Btu/lbm from table\n",
      "qh=h4-h3;\n",
      "nth=wnet/qh;\n",
      "print \"Cycle Efficiency =\",round(nth*100,2),\"%\""
     ],
     "language": "python",
     "metadata": {},
     "outputs": [
      {
       "output_type": "stream",
       "stream": "stdout",
       "text": [
        "Cycle Efficiency = 30.48 %\n"
       ]
      }
     ],
     "prompt_number": 60
    },
    {
     "cell_type": "heading",
     "level": 2,
     "metadata": {},
     "source": [
      "Ex11.6:Pg-451"
     ]
    },
    {
     "cell_type": "code",
     "collapsed": false,
     "input": [
      "#ques6\n",
      "#to determine the rate of refrigeration\n",
      "\n",
      "# refer to fig 11.21 in book\n",
      "mdot=0.03 # mass flow rate in Kg/s\n",
      "T1=-20 # temperature in evaporator in celsius\n",
      "T3=40 #temperature in evaporator in Celsius\n",
      "P2=1017 # saturation pressure in KPa\n",
      "\n",
      "# from table of R-134a refrigerant\n",
      "h1=386.1 # enthalpy at state 1 in kJ/kg,\n",
      "S1=1.7395 # entropy at state 1 in kJ/kg.K\n",
      "S2=S1 # isentropic process\n",
      "T2=47.7# corresponding value to S2 in table of R-134a in degree celsius\n",
      "h2=428.4 # corresponding value to S2 in table of R-134a in kJ/kg\n",
      "wc=h2-h1 # work done in compressor in kJ/kg\n",
      "h4=h3=256.5 #enthalpy at state 4 and 3 in kJ/kg\n",
      "qL=h1-h4 #Heat rejected in kJ/kg\n",
      "\n",
      "B=qL/wc # COP\n",
      "\n",
      "print\" the COP of the plant is\",round(B,2)\n",
      "print\" the refrigeration rate is\",round(mdot*qL,2)"
     ],
     "language": "python",
     "metadata": {},
     "outputs": [
      {
       "output_type": "stream",
       "stream": "stdout",
       "text": [
        " the COP of the plant is 3.06\n",
        " the refrigeration rate is 3.89\n"
       ]
      }
     ],
     "prompt_number": 16
    },
    {
     "cell_type": "heading",
     "level": 2,
     "metadata": {},
     "source": [
      "Ex11.7:Pg-454"
     ]
    },
    {
     "cell_type": "code",
     "collapsed": false,
     "input": [
      "#ques7\n",
      "#to determine the COP of cycle\n",
      "\n",
      "P1=125 # pressure at state 1 in kPa\n",
      "P2=1.2 # pressure at state 2 in MPa\n",
      "P3=1.19 # pressure at state 3 in MPa,\n",
      "P4=1.16 # pressure at state 4 in MPa,\n",
      "P5=1.15 # pressure at state 5 in MPa,\n",
      "P6=P7=140 # pressure at state 6 and 7 in kPa,\n",
      "P8=130 # pressure at state 8 in kPa,\n",
      "T1=-10 #temperaure at state  1 in \u25e6C\n",
      "T2=100 #temperaure at state  2 in \u25e6C\n",
      "T3=80 #temperaure at state  3 in \u25e6C\n",
      "T4=45 #temperaure at state  4 in \u25e6C\n",
      "T5=40 #temperaure at state  5 in \u25e6C\n",
      "T8=-20 #temperaure at state  8 in \u25e6C\n",
      "q=-4 # heat transfer in kJ/Kg\n",
      "\n",
      "#x6=x7 quality condition given in question\n",
      "\n",
      "\n",
      "# the following values are taken from table for refrigerant R-134a\n",
      "h1=394.9 # enthalpy at state 1 in kJ/kg\n",
      "h2=480.9 # enthalpy at state 2 in kJ/kg\n",
      "h8=386.6 # enthalpy at state 8 in kJ/kg\n",
      "wc=h2-h1-q # from first law\n",
      "h5=h6=h7=256.4 # as x6=x7 and from table at state 5 in Kj/Kg\n",
      "qL=h8-h7 # from first law \n",
      "B=qL/wc # COP\n",
      "print\" the COP of the plant is\",round(B,3)\n",
      "\n"
     ],
     "language": "python",
     "metadata": {},
     "outputs": [
      {
       "output_type": "stream",
       "stream": "stdout",
       "text": [
        " the COP of the plant is 1.447\n"
       ]
      }
     ],
     "prompt_number": 20
    }
   ],
   "metadata": {}
  }
 ]
}