{
 "cells": [
  {
   "cell_type": "markdown",
   "metadata": {},
   "source": [
    "# Chapter No 8 - Transmission Line"
   ]
  },
  {
   "cell_type": "markdown",
   "metadata": {},
   "source": [
    "## Example8.1, page no 313"
   ]
  },
  {
   "cell_type": "code",
   "execution_count": 60,
   "metadata": {
    "collapsed": false
   },
   "outputs": [
    {
     "name": "stdout",
     "output_type": "stream",
     "text": [
      "The characteristic Impedance is Zo= 154.92 ohm\n",
      "\n",
      "Propagation constant is Gama=0.0+7.75e-06j W\n",
      "\n",
      " The freq at which the line length is equal to wavelength is: 750 KHz\n",
      " The velocity of propagation is: 322.75 km/sec\n"
     ]
    }
   ],
   "source": [
    "from __future__ import division\n",
    "from math import sqrt, pi\n",
    "#Given\n",
    "#a\n",
    "L=1.2*10**-3#distributed inductance\n",
    "C=0.05*10**-6#distributed capacitance\n",
    "Zo=sqrt(L/C)#Characteristic Impedance\n",
    "print 'The characteristic Impedance is Zo= %0.2f ohm'%(Zo)\n",
    "Wo=1# Assumedfor ease of calculation \n",
    "G=1J*sqrt(L*C)*Wo\n",
    "print '\\nPropagation constant is Gama={0:0.1f}+{1:0.2e}j W'.format(G.real,G.imag)\n",
    "#b\n",
    "#i\n",
    "lamda=0.4e3#wavelength=Line length\n",
    "c=3e8\n",
    "f=c/lamda\n",
    "#ii\n",
    "L=L*0.4\n",
    "C=C*0.4\n",
    "v=1/(sqrt(L*C))\n",
    "print '\\n The freq at which the line length is equal to wavelength is: %d KHz\\n The velocity of propagation is: %0.2f km/sec'%(f*1e-3,v*1e-3)"
   ]
  },
  {
   "cell_type": "markdown",
   "metadata": {},
   "source": [
    "## Example8.2, page no 314"
   ]
  },
  {
   "cell_type": "code",
   "execution_count": 61,
   "metadata": {
    "collapsed": false
   },
   "outputs": [
    {
     "name": "stdout",
     "output_type": "stream",
     "text": [
      "The phase shift is: 144 degrees\n",
      "Open Circuited line impedance: -688.19 ohms\n",
      "Short Circuited line impedance: -363.27 ohms\n"
     ]
    }
   ],
   "source": [
    "from math import cos, sin, tan,pi\n",
    "#Given\n",
    "v=3e8# velocty of light\n",
    "f=1.2e6# Operating Freq\n",
    "lamda=v/f\n",
    "#print lamda)\n",
    "l=100# length of the Tx-Line\n",
    "phi=2*(pi*l)/(lamda)# Phase shift in degrees\n",
    "Zo=500# Characteristic impedance\n",
    "#a Open circuited Line\n",
    "\n",
    "Zin=-1J*Zo*(cos(phi)/sin(phi))\n",
    "\n",
    "#b Short circuited Line\n",
    "Z1in=1J*Zo*tan(phi)\n",
    "print 'The phase shift is: %d degrees'%(phi*180/pi)\n",
    "print 'Open Circuited line impedance: {0:0.2f}'.format(-Zin.imag),'ohms'\n",
    "print 'Short Circuited line impedance: {0:.2f}'.format(Z1in.imag),'ohms'"
   ]
  },
  {
   "cell_type": "markdown",
   "metadata": {},
   "source": [
    "## Example8.3, page no 315"
   ]
  },
  {
   "cell_type": "code",
   "execution_count": 62,
   "metadata": {
    "collapsed": false
   },
   "outputs": [
    {
     "name": "stdout",
     "output_type": "stream",
     "text": [
      "The Characteristic impedance:Zo= \n",
      "(185.464726748-135.988363959j)\n",
      "The value of Alpha=0.263  nepere/km\n",
      "\n",
      "The value of Beta= 0.308\n",
      "the tx-Line parameters are\n",
      "R= 90.72 ohms\n",
      "L= 21.46 mH\n",
      "G= 128.80 umhos\n",
      "C= 1.76 mF\n",
      "\n"
     ]
    }
   ],
   "source": [
    "from __future__ import division\n",
    "from cmath import exp,sqrt,log,atan\n",
    "#Given\n",
    "f=1600\n",
    "w=1000\n",
    "Zoc=2460*exp(1J*-86.5*pi/180)# Open circuited Line impedance\n",
    "Zsc=21.5*exp(1J*14*pi/180)# Short circuited Line impedance\n",
    "Zo=sqrt(Zoc*Zsc)# Characteristic impedance\n",
    "A=(sqrt(Zsc/Zoc)).real# tan(a+ jBeta) = A + jB\n",
    "B=(sqrt(Zsc/Zoc)).imag\n",
    "l=1/4\n",
    "alpha=(1/(4*l))*log(((1+A**2+B)**2)/(((1-A)**2)+B**2)) #Attenuation Constant\n",
    "Beta=(1/(2*l))*atan((2*B)/(1-A**2-B))  #phase constant\n",
    "\n",
    "#the tx-Line parameters\n",
    "R=(Zo*complex(alpha,Beta)).real\n",
    "L=(Zo*complex(alpha,Beta)).imag\n",
    "G=(complex(alpha,Beta)/Zo).real\n",
    "C=(complex(alpha,Beta)/Zo).imag\n",
    "print 'The Characteristic impedance:Zo= '\n",
    "print Zo\n",
    "print 'The value of Alpha={0:.3f} '.format(alpha.real),'nepere/km\\n'\n",
    "print 'The value of Beta= {0:0.3f}'.format(Beta.real)\n",
    "print 'the tx-Line parameters are\\nR= %0.2f ohms\\nL= %0.2f mH\\nG= %0.2f umhos\\nC= %0.2f mF\\n'%(R,L,G*1e6,C*1e3)\n",
    "\n",
    "# Note :  There are some calculation errors in the solution presented in the book"
   ]
  },
  {
   "cell_type": "markdown",
   "metadata": {},
   "source": [
    "## Example8.4, page no 316"
   ]
  },
  {
   "cell_type": "code",
   "execution_count": 63,
   "metadata": {
    "collapsed": false
   },
   "outputs": [
    {
     "name": "stdout",
     "output_type": "stream",
     "text": [
      "The atenuation constant is 0.011 nepers/mile\n",
      "The Cut-off Freq is 6 KHz\n"
     ]
    }
   ],
   "source": [
    "from __future__ import division\n",
    "from math import sqrt,pi\n",
    "#Given\n",
    "d=0.7# distance between two insertions\n",
    "Ld_m= (80e-3)*(10/7)#Loading coil inductance\n",
    "#print Ld_m)\n",
    "Rd_m=100/7#Loading coil resistance\n",
    "#print Rd_m)\n",
    "R=20+Rd_m#Line resistance \n",
    "L=Ld_m# Line inductance\n",
    "C=0.05e-6# Line Capacitance\n",
    "alfa=0.5*R*sqrt(C/L)#Attenuation Constant\n",
    "#\n",
    "fc=(pi*d*sqrt(L*C))**-1#cut off freq\n",
    "print 'The atenuation constant is %0.3f nepers/mile\\nThe Cut-off Freq is %d KHz'%(alfa,fc*1e-3)\n",
    "\n",
    "# Note :  There are some calculation errors in the solution presented in the book"
   ]
  },
  {
   "cell_type": "markdown",
   "metadata": {},
   "source": [
    "## Example8.5, page no 317"
   ]
  },
  {
   "cell_type": "code",
   "execution_count": 64,
   "metadata": {
    "collapsed": false
   },
   "outputs": [
    {
     "name": "stdout",
     "output_type": "stream",
     "text": [
      "the voltage at the mid point of the line is \n",
      " 6.97+6.97j\n",
      " V with Angle = -8.59degrees\n"
     ]
    }
   ],
   "source": [
    "from cmath import exp\n",
    "#Given\n",
    "a=0.7#attenuation constant\n",
    "b=0.3#phase constant\n",
    "Gamma=a+(1J*b)#propagation constant\n",
    "l=0.5# half length of line( for midpoint)\n",
    "Vs=10# Excitation voltage\n",
    "V_mod=Vs*(exp(-a*l))#Magnitude of the Vs\n",
    "\n",
    "phi=b*l*180/pi#phase shift\n",
    "V=V_mod*(exp(-1J*(phi*pi/180)))#voltage at the mid point\n",
    "print 'the voltage at the mid point of the line is \\n {0:0.2f}+{0:.2f}j\\n V with Angle = -%0.2fdegrees'.format(V.real,V.imag)%phi\n",
    "\n",
    "# Note :  There are some calculation errors in the solution presented in the book"
   ]
  },
  {
   "cell_type": "markdown",
   "metadata": {},
   "source": [
    "## Example8.6, page no 317"
   ]
  },
  {
   "cell_type": "code",
   "execution_count": 65,
   "metadata": {
    "collapsed": false
   },
   "outputs": [
    {
     "name": "stdout",
     "output_type": "stream",
     "text": [
      "The characteristic impedance Zo= 22.20 /_-19.66 ohm\n",
      "\n",
      " The Phase velocity is: v= 2.88e+07 m/sec\n",
      " Percent decrease in the voltage is 14.91%\n"
     ]
    }
   ],
   "source": [
    "from cmath import pi,sqrt,polar,phase\n",
    "#Given\n",
    "R=0.01\n",
    "l=1e3\n",
    "L=1e-6\n",
    "G=1e-6\n",
    "C=0.001e-6\n",
    "f=1.59e3# operating freq\n",
    "w=2*pi*f# angular freq\n",
    "#a\n",
    "Zo=sqrt((R+(1J*w*L))*0.35/(G+(1J*w*C)))#characteristic impedance\n",
    "Z0=polar(Zo)\n",
    "Z0r=Z0[0]\n",
    "Z0i=Z0[1]\n",
    "#b\n",
    "\n",
    "Beta=sqrt(0.5*(sqrt((((R**2)+(round(w**2)*(L**2)))*(round(G**2)+(round(w**2)*(C**2)))))-(round(R*G)-((w**2)*L*C))))#Phase constant\n",
    "\n",
    "v=w/Beta#phase velocity\n",
    "\n",
    "#c\n",
    "Alpha=sqrt(0.5*(sqrt((((R**2)+((w**2)*(L**2)))*((G**2)+((w**2)*(C**2)))))+((R*G)-((w**2)*L*C))))#attenuation constant\n",
    "Vs=1#Assumed for easeof calculation\n",
    "A=(Vs-(Vs*exp(-Alpha*l)))*100\n",
    "print 'The characteristic impedance Zo= %0.2f /_%0.2f ohm\\n'%(Z0r,Z0i*180/pi)\n",
    "print ' The Phase velocity is: v= %3.2e m/sec\\n Percent decrease in the voltage is %0.2f%c'%(v.real,A.real,'%')\n",
    "\n",
    "# Note :  There are some calculation errors in the solution presented in the book"
   ]
  },
  {
   "cell_type": "markdown",
   "metadata": {},
   "source": [
    "## Example8.15, page no 348"
   ]
  },
  {
   "cell_type": "code",
   "execution_count": 66,
   "metadata": {
    "collapsed": false
   },
   "outputs": [
    {
     "name": "stdout",
     "output_type": "stream",
     "text": [
      "The input impedance is 526.81 /_-2.18deg\n",
      "Reflection Coeff is 0.07 /_-163.77deg\n"
     ]
    }
   ],
   "source": [
    "from cmath import exp,polar,cosh,sinh\n",
    "\n",
    "#Given\n",
    "l=100# Tx-line length\n",
    "ZR=200#Terminal resistance\n",
    "Zo=600#Characteristic impedance\n",
    "a=0.01#attenuation constant\n",
    "Beta=0.03#phase constant\n",
    "d=0#reflection coeff at load is Zero\n",
    "Gamma=a+1J*Beta#propagation constant\n",
    "Kd=((ZR-Zo)/(ZR+Zo))*exp(-2*Gamma*d)#reflection coeff at point D d km from load\n",
    "Kdd=polar(Kd)\n",
    "Kdr=Kdd[0]\n",
    "Kdi=Kdd[1]\n",
    "d1=100# distance\n",
    "Ks=((ZR-Zo)/(ZR+Zo))*exp(-2*Gamma*d1)#reflection coeff at the sending end\n",
    "[Ksr,Ksi]=polar(Ks)\n",
    "Zin=Zo*(((ZR*cosh(Gamma*l))+(Zo*sinh(Gamma*l)))/((Zo*cosh(Gamma*l))+(ZR*sinh(Gamma*l))))#Input impedance\n",
    "Zz=polar(Zin)\n",
    "Zinr=Zz[0]\n",
    "Zini=Zz[1]\n",
    "print 'The input impedance is %0.2f /_%0.2fdeg\\nReflection Coeff is %0.2f /_%0.2fdeg'%(Zinr,Zini*180/pi,Ksr,Ksi*180/pi)\n",
    "\n",
    "# Note :  There are some calculation errors in the solution presented in the book"
   ]
  },
  {
   "cell_type": "markdown",
   "metadata": {},
   "source": [
    "## Example8.15, page no 334"
   ]
  },
  {
   "cell_type": "code",
   "execution_count": 67,
   "metadata": {
    "collapsed": false
   },
   "outputs": [
    {
     "name": "stdout",
     "output_type": "stream",
     "text": [
      "The current received is= 13.64 mA  at phase-22.59\n"
     ]
    }
   ],
   "source": [
    "from cmath import cosh,polar\n",
    "#GivenR=0.01\n",
    "x=10#line length\n",
    "Zo=100# characteristic impedance\n",
    "a=0.1# attenuation constant\n",
    "Beta=0.05# phase constant\n",
    "Is=20e-3# source current\n",
    "Gamma=a+ 1J*Beta# propagation constant\n",
    "\n",
    "I=Is/cosh(Gamma*x)# received current\n",
    "\n",
    "Ii=polar(I)\n",
    "I_r=Ii[0]\n",
    "I_i=Ii[1]\n",
    "\n",
    "print 'The current received is= %0.2f mA  at phase%0.2f'%(1000*I_r,I_i*180/pi)"
   ]
  },
  {
   "cell_type": "markdown",
   "metadata": {},
   "source": [
    "## Example8.16, page no 349"
   ]
  },
  {
   "cell_type": "code",
   "execution_count": 68,
   "metadata": {
    "collapsed": false
   },
   "outputs": [
    {
     "name": "stdout",
     "output_type": "stream",
     "text": [
      "The characteristic impedance is 283.94 /_-41.38deg\n"
     ]
    }
   ],
   "source": [
    "from cmath import sqrt,polar\n",
    "#Given\n",
    "L=1e-3#inductance\n",
    "R=40# Resistance\n",
    "C=0.1e-6# capacitance\n",
    "G=1e-6#conductance\n",
    "w=5000# angular freq\n",
    "Zo=sqrt(complex(R,(w*L))/complex(G,(w*C)))#Characteristic impedance\n",
    "#Zr=sqrt(sqrt(R**2+(w*L)**2)/sqrt(G**2+(w*C)**2))\n",
    "Zz=polar(Zo)\n",
    "ZoR=Zz[0]\n",
    "ZoI=Zz[1]\n",
    "print 'The characteristic impedance is %0.2f /_%0.2fdeg'%(ZoR,ZoI*180/pi)\n",
    "\n",
    "# Note :  There are some calculation errors in the solution presented in the book"
   ]
  },
  {
   "cell_type": "markdown",
   "metadata": {},
   "source": [
    "## Example8.17, page no 349"
   ]
  },
  {
   "cell_type": "code",
   "execution_count": 69,
   "metadata": {
    "collapsed": false
   },
   "outputs": [
    {
     "name": "stdout",
     "output_type": "stream",
     "text": [
      "The voltage at the mid point of the line is 7.05 /_-8.59 \n"
     ]
    }
   ],
   "source": [
    "from cmath import polar,exp\n",
    "#Given\n",
    "l=0.5#half line distance\n",
    "Vs=10#Excitation voltage\n",
    "Gamma=0.7+1J*0.3#propagation constant\n",
    "Vv=polar(Vs*(exp(-Gamma*l)))#vtg at mid point\n",
    "Vr=Vv[0]\n",
    "Vi=Vv[1]\n",
    "print 'The voltage at the mid point of the line is %0.2f /_%0.2f '%(Vr,Vi*180/pi)"
   ]
  },
  {
   "cell_type": "markdown",
   "metadata": {},
   "source": [
    "## Example8.18, page no350"
   ]
  },
  {
   "cell_type": "code",
   "execution_count": 70,
   "metadata": {
    "collapsed": false
   },
   "outputs": [
    {
     "name": "stdout",
     "output_type": "stream",
     "text": [
      "The max voltage on line is 5.92 V\n",
      " The min voltage on line is 4.23 V\n"
     ]
    }
   ],
   "source": [
    "from math import sqrt\n",
    "#Given\n",
    "Zo=50# characteristic impedance\n",
    "P=500e-3#Supplied power\n",
    "S=1.4#VSWR on the line\n",
    "Emax=sqrt(Zo*S*P)#Max vtg\n",
    "\n",
    "Emin=sqrt(Zo*P/S)# Min vtg\n",
    "print 'The max voltage on line is %0.2f V\\n The min voltage on line is %0.2f V'%(Emax,Emin)"
   ]
  },
  {
   "cell_type": "markdown",
   "metadata": {},
   "source": [
    "## Example8.19, page no 350"
   ]
  },
  {
   "cell_type": "code",
   "execution_count": 71,
   "metadata": {
    "collapsed": false
   },
   "outputs": [
    {
     "name": "stdout",
     "output_type": "stream",
     "text": [
      "\n",
      "The voltage reflection coeff is 0.17\n",
      "The VSWR is 1.40\n",
      "\n",
      "\n",
      "The Max and min voltage and crresponding crrent is\n",
      " Emax= 3.74V Imin= 26.73mA\n",
      " Emin= 2.67V Imax= 37.42mA\n",
      "\n",
      " The Termination resistance should be 28.57 ohm\n"
     ]
    }
   ],
   "source": [
    "from math import sqrt\n",
    "#Given\n",
    "Zo=100# Characteristic Impedance\n",
    "P=100e-3#Load power\n",
    "Zr=140#Load Resistance\n",
    "f=100e3# Operating freq\n",
    "#a\n",
    "K=(Zr-Zo)/(Zo+Zr)#Vtg Reflection coeff\n",
    "\n",
    "#b\n",
    "S=(1+K)/(1-K)#VSWR\n",
    "\n",
    "#c+d\n",
    "Emax=sqrt(Zr*P)#Max line vltg\n",
    "Imin=Emax/Zr#Min line current\n",
    "\n",
    "Emin=Emax/S# Min line vltg\n",
    "Imax=S*Imin#Max line current\n",
    "\n",
    "#e\n",
    "R=14000/40\n",
    "\n",
    "Zr=(Zo**2)/R#\n",
    "print '\\nThe voltage reflection coeff is %0.2f\\nThe VSWR is %0.2f\\n\\n\\nThe Max and min voltage and crresponding crrent is\\n Emax= %0.2fV Imin= %0.2fmA\\n Emin= %0.2fV Imax= %0.2fmA\\n\\n The Termination resistance should be %0.2f ohm'%(K,S,Emax,Imin*1e3,Emin,Imax*1e3,Zr)"
   ]
  },
  {
   "cell_type": "markdown",
   "metadata": {},
   "source": [
    "## Example8.20, page no 352"
   ]
  },
  {
   "cell_type": "code",
   "execution_count": 72,
   "metadata": {
    "collapsed": false
   },
   "outputs": [
    {
     "name": "stdout",
     "output_type": "stream",
     "text": [
      "the receiving voltage will be 0.25 V\n"
     ]
    }
   ],
   "source": [
    "from math import exp,log\n",
    "#Given\n",
    "V=0.5#receiving vtg\n",
    "Vs=2#Source vtg\n",
    "al=-log(V/Vs)#attenuation\n",
    "\n",
    "al2=al*1.5\n",
    "V=Vs*exp(-al2)#receiving voltage\n",
    "print 'the receiving voltage will be %0.2f V'%(V)"
   ]
  },
  {
   "cell_type": "markdown",
   "metadata": {},
   "source": [
    "## Example8.22, page no352"
   ]
  },
  {
   "cell_type": "code",
   "execution_count": 73,
   "metadata": {
    "collapsed": false
   },
   "outputs": [
    {
     "name": "stdout",
     "output_type": "stream",
     "text": [
      "The lrngth should be 25 metres\n",
      "The Characteristic Impedance should be 48.79 ohms\n"
     ]
    }
   ],
   "source": [
    "from cmath import sqrt\n",
    "#Given\n",
    "Zin=25+1J*15# Internal Impedance\n",
    "Zr=70-1J*42#load\n",
    "f=3e6#operating freq\n",
    "v=3e8#light velocity\n",
    "L=v/(4*f)#length of the line\n",
    "\n",
    "Zo=sqrt(Zin*Zr)#Characteristic Impedance\n",
    "\n",
    "print 'The lrngth should be %d metres\\nThe Characteristic Impedance should be %0.2f ohms'%(L,Zo.real)"
   ]
  },
  {
   "cell_type": "markdown",
   "metadata": {},
   "source": [
    "## Example8.23, page no353"
   ]
  },
  {
   "cell_type": "code",
   "execution_count": 74,
   "metadata": {
    "collapsed": false
   },
   "outputs": [
    {
     "name": "stdout",
     "output_type": "stream",
     "text": [
      "The cut-off freq is 3.03 KHz \n",
      " the voltage being measured is 1 V\n"
     ]
    }
   ],
   "source": [
    "from math import sqrt,pi\n",
    "from __future__ import division\n",
    "#Given\n",
    "#a\n",
    "L=1e-3# inductance\n",
    "C=61.25e-9#capacitance\n",
    "Ld=44e-3#coil inductance\n",
    "d=2#distance intervals after which coils are added\n",
    "Lt=(L*2)+(Ld*2)#total inductance\n",
    "Ct=C*2#total capacitance\n",
    "fc=(pi*sqrt(Lt*Ct))**-1#cut off freq\n",
    "\n",
    "#b\n",
    "I=100e-3#milliameter range\n",
    "R=1#milliameter resistance\n",
    "Zo=100#characteristic impedance\n",
    "Zin=(Zo**2)/R#input impedance\n",
    "\n",
    "Er=I*R#\n",
    "Es=Er*sqrt(Zin/Zo)\n",
    "print 'The cut-off freq is %0.2f KHz \\n the voltage being measured is %d V'%(fc*1e-3,Es)"
   ]
  },
  {
   "cell_type": "markdown",
   "metadata": {},
   "source": [
    "## Example8.24, page no 354"
   ]
  },
  {
   "cell_type": "code",
   "execution_count": 75,
   "metadata": {
    "collapsed": false
   },
   "outputs": [
    {
     "name": "stdout",
     "output_type": "stream",
     "text": [
      "the Length of the transformer(stub) is 3.75 metres\n",
      " The characteristic impedance of this transformer is 224 ohms\n"
     ]
    }
   ],
   "source": [
    "#Given\n",
    "f=20e6#tuned freq\n",
    "ZR=100#Equivalent aerial Resistance\n",
    "Zin=500#input impedance\n",
    "c=3e8\n",
    "lamda=c/f\n",
    "l=lamda/4#lamda/4 Transformer\n",
    "\n",
    "Zo=sqrt(Zin*ZR)#Characteristic impedance\n",
    "print 'the Length of the transformer(stub) is %0.2f metres\\n The characteristic impedance of this transformer is %d ohms'%(l,round(Zo))"
   ]
  },
  {
   "cell_type": "markdown",
   "metadata": {},
   "source": [
    "## Example8.25, page no 354"
   ]
  },
  {
   "cell_type": "code",
   "execution_count": 76,
   "metadata": {
    "collapsed": false
   },
   "outputs": [
    {
     "name": "stdout",
     "output_type": "stream",
     "text": [
      "The sending end (Source end)impedance (Zl)is: \n",
      "330.46+-16.35j\n"
     ]
    }
   ],
   "source": [
    "#Given\n",
    "lamda=5#wavelength\n",
    "Zo=200#Characteristic impedance\n",
    "Zo1=100#Zo'\n",
    "ZL=50+(1J*50)# load impedance\n",
    "l1=0.4*lamda\n",
    "l2=0.2*lamda\n",
    "Beta=(2*pi/lamda)# phase difference\n",
    "Z2=Zo1*(((ZL*cos(Beta*l2))+(1J*Zo1*sin(Beta*l2)))/((Zo1*cos(Beta*l2))+(1J*ZL*sin(Beta*l2))))#I/p Impedance offered by I2toI1\n",
    "Z1=Zo*(((Z2*cos(Beta*l1))+(1J*Zo*sin(Beta*l1)))/((Zo*cos(Beta*l1))+(1J*Z2*sin(Beta*l1))))#I/p impedance\n",
    "print 'The sending end (Source end)impedance (Zl)is: '\n",
    "print '{0:0.2f}+{1:0.2f}j'.format(Z1.real,Z1.imag)"
   ]
  }
 ],
 "metadata": {
  "kernelspec": {
   "display_name": "Python 2",
   "language": "python",
   "name": "python2"
  },
  "language_info": {
   "codemirror_mode": {
    "name": "ipython",
    "version": 2
   },
   "file_extension": ".py",
   "mimetype": "text/x-python",
   "name": "python",
   "nbconvert_exporter": "python",
   "pygments_lexer": "ipython2",
   "version": "2.7.9"
  }
 },
 "nbformat": 4,
 "nbformat_minor": 0
}
