{
 "cells": [
  {
   "cell_type": "markdown",
   "metadata": {},
   "source": [
    "# Chapter 5 : Radio Transmission system"
   ]
  },
  {
   "cell_type": "markdown",
   "metadata": {},
   "source": [
    "## Example 5.1, page no 230"
   ]
  },
  {
   "cell_type": "code",
   "execution_count": 4,
   "metadata": {
    "collapsed": false
   },
   "outputs": [
    {
     "name": "stdout",
     "output_type": "stream",
     "text": [
      " Freq deviation is 17.453293 Hz\n",
      " Multification factor is 1718\n",
      " corresponding modified max freq deviation is 30114kHz\n"
     ]
    }
   ],
   "source": [
    "from numpy import pi\n",
    "#Given\n",
    "#b\n",
    "fm=1e2#modulation freq\n",
    "Phimax=10*pi/180# Max Phase deviation\n",
    "#i\n",
    "Freq_dev=Phimax*fm# Freq deviation\n",
    "#ii\n",
    "Mul_fact=30e3/Freq_dev# Multification factor\n",
    "print ' Freq deviation is %f Hz\\n Multification factor is %d\\n corresponding modified max freq deviation is 30114kHz'%(Freq_dev,Mul_fact)\n"
   ]
  }
 ],
 "metadata": {
  "kernelspec": {
   "display_name": "Python 2",
   "language": "python",
   "name": "python2"
  },
  "language_info": {
   "codemirror_mode": {
    "name": "ipython",
    "version": 2
   },
   "file_extension": ".py",
   "mimetype": "text/x-python",
   "name": "python",
   "nbconvert_exporter": "python",
   "pygments_lexer": "ipython2",
   "version": "2.7.9"
  }
 },
 "nbformat": 4,
 "nbformat_minor": 0
}
