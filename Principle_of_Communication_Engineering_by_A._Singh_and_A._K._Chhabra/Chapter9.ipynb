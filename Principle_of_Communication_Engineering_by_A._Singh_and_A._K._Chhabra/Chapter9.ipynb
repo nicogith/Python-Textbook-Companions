{
 "cells": [
  {
   "cell_type": "markdown",
   "metadata": {},
   "source": [
    "# Chapter No 9 - Aerials"
   ]
  },
  {
   "cell_type": "markdown",
   "metadata": {},
   "source": [
    "## Example9.1, page no 397"
   ]
  },
  {
   "cell_type": "code",
   "execution_count": 8,
   "metadata": {
    "collapsed": false
   },
   "outputs": [
    {
     "name": "stdout",
     "output_type": "stream",
     "text": [
      "The maximum effective aperture of the\n",
      " aerial is 28.65 sq m\n"
     ]
    }
   ],
   "source": [
    "from __future__ import division\n",
    "from math import pi\n",
    "\n",
    "#Given\n",
    "D=90# directivity\n",
    "lamda=2# wavelength\n",
    "Ae=(D*(lamda**2))/(4*pi)#effective aperture\n",
    "print 'The maximum effective aperture of the\\n aerial is %0.2f sq m'%(Ae)"
   ]
  },
  {
   "cell_type": "markdown",
   "metadata": {},
   "source": [
    "## Example9.2, page no 397"
   ]
  },
  {
   "cell_type": "code",
   "execution_count": 2,
   "metadata": {
    "collapsed": false
   },
   "outputs": [
    {
     "name": "stdout",
     "output_type": "stream",
     "text": [
      "Angular beam width is 22.92 degrees\n",
      "BeamWidth is 0.40 rad\n"
     ]
    }
   ],
   "source": [
    "from math import pi,cos\n",
    "#Given\n",
    "n=10#no of aerial elements\n",
    "d=0.5#distance in terms of wavelength\n",
    "Beam_Width=2/(n*d)#\n",
    "Beam_Width_degrees=Beam_Width*180/pi\n",
    "print 'Angular beam width is %0.2f degrees\\nBeamWidth is %0.2f rad'%(Beam_Width_degrees,Beam_Width)"
   ]
  },
  {
   "cell_type": "markdown",
   "metadata": {},
   "source": [
    "## Example9.3, pageno 397"
   ]
  },
  {
   "cell_type": "code",
   "execution_count": 3,
   "metadata": {
    "collapsed": false
   },
   "outputs": [
    {
     "name": "stdout",
     "output_type": "stream",
     "text": [
      "Total power radiated is 888.00 watts\n"
     ]
    }
   ],
   "source": [
    "from numpy import arange, pi\n",
    "from mpmath  import quad, sin\n",
    "#Given\n",
    "r=1#assume distance for ease of calculation\n",
    "#Pav(theta)=(1000/(3*pi*r**2))*((sin(theta))**2)\n",
    "theta=arange(0, pi, 0.1)\n",
    "x0=0\n",
    "x1=pi\n",
    "Pt=(2000/(3*r**2))*quad(lambda theta: (sin(theta))**3,[x0,x1])#Total power radiated \n",
    "print 'Total power radiated is %0.2f watts'%(Pt)"
   ]
  },
  {
   "cell_type": "markdown",
   "metadata": {},
   "source": [
    "## Example9.4, page no 398"
   ]
  },
  {
   "cell_type": "code",
   "execution_count": 10,
   "metadata": {
    "collapsed": false
   },
   "outputs": [
    {
     "name": "stdout",
     "output_type": "stream",
     "text": [
      "electric field intensity is 0.25 mV/m \n",
      " magnetic field intensity is 0.67 uA/m\n"
     ]
    }
   ],
   "source": [
    "from math import pi,cos\n",
    "#Given\n",
    "dl=2# length of wire \n",
    "I=6#current in the wire\n",
    "f=1e6# operating freq\n",
    "r=30e3#distance at which field is to be calculated\n",
    "theta=90#right angles to the wire axis\n",
    "lamda=300# wavelength\n",
    "w=2*pi*f#angular freq\n",
    "c=3e8\n",
    "t=f**-1\n",
    "Phi=w*(t-(r/c))#Phase shift\n",
    "Erad=25.13e-5*cos(Phi)#Radiation electric field intensity\n",
    "H=Erad/(120*pi)#Radiation magnetic field intensity\n",
    "print 'electric field intensity is %0.2f mV/m \\n magnetic field intensity is %0.2f uA/m'%(Erad*1e3,H*1e6)"
   ]
  },
  {
   "cell_type": "markdown",
   "metadata": {},
   "source": [
    "## Example9.5, page no 399"
   ]
  },
  {
   "cell_type": "code",
   "execution_count": 4,
   "metadata": {
    "collapsed": false
   },
   "outputs": [
    {
     "name": "stdout",
     "output_type": "stream",
     "text": [
      "The radiated power is 1.03 watts\n"
     ]
    }
   ],
   "source": [
    "from math import sqrt\n",
    "#Given\n",
    "#c\n",
    "Rr=73# radition resistance\n",
    "Vrms=10#RMS voltage of the signal\n",
    "Zin_mod=sqrt((73**2)+(42**2))#absolute input impedance\n",
    "Irms=Vrms/Zin_mod#RMS current\n",
    "Pt=(Irms**2)*Rr# Radiated power\n",
    "print 'The radiated power is %0.2f watts'%(round(100*Pt)/100)"
   ]
  },
  {
   "cell_type": "markdown",
   "metadata": {},
   "source": [
    "## Example9.6 page no 400"
   ]
  },
  {
   "cell_type": "code",
   "execution_count": 13,
   "metadata": {
    "collapsed": false
   },
   "outputs": [
    {
     "name": "stdout",
     "output_type": "stream",
     "text": [
      "Ideal directive gain is 55840\n"
     ]
    }
   ],
   "source": [
    "#Given\n",
    "#b\n",
    "c=3e8\n",
    "f=2e9#operating freq\n",
    "Ae=100#aperture area\n",
    "lamda=c/f# operating wavwlength\n",
    "D=((4*3.141*Ae)/(lamda**2))# Directivity\n",
    "print 'Ideal directive gain is %d'%(D)"
   ]
  },
  {
   "cell_type": "markdown",
   "metadata": {},
   "source": [
    "## Example9.7, pageno 400"
   ]
  },
  {
   "cell_type": "code",
   "execution_count": 15,
   "metadata": {
    "collapsed": false
   },
   "outputs": [
    {
     "name": "stdout",
     "output_type": "stream",
     "text": [
      "The angular width is 0.40 degrees\n"
     ]
    }
   ],
   "source": [
    "#Given\n",
    "#b\n",
    "n=10# no of aerial elements\n",
    "lambda_d=2#\n",
    "BeamWidth=2*lambda_d/n# Beamwidth\n",
    "print 'The angular width is %0.2f degrees'%(BeamWidth)"
   ]
  },
  {
   "cell_type": "markdown",
   "metadata": {},
   "source": [
    "## Example9.8, page no 400"
   ]
  },
  {
   "cell_type": "code",
   "execution_count": 5,
   "metadata": {
    "collapsed": false
   },
   "outputs": [
    {
     "name": "stdout",
     "output_type": "stream",
     "text": [
      "Overall Gain is 3.52 dBs\n"
     ]
    }
   ],
   "source": [
    "from math import log10\n",
    "#Given\n",
    "D1=1\n",
    "D2=1.5*D1 # diameters of the new reflectors   D1=1assumed for ease of calculation\n",
    "G_dbs=10*log10((D2/D1)**2)#Gain in dBs\n",
    "print 'Overall Gain is %0.2f dBs'%(round(1000*G_dbs)/1000)"
   ]
  },
  {
   "cell_type": "markdown",
   "metadata": {},
   "source": [
    "## Example9.9, page no 401"
   ]
  },
  {
   "cell_type": "code",
   "execution_count": 7,
   "metadata": {
    "collapsed": false
   },
   "outputs": [
    {
     "name": "stdout",
     "output_type": "stream",
     "text": [
      "Radiation resistance is 2.05 ohm\n"
     ]
    }
   ],
   "source": [
    "#Given\n",
    "#b\n",
    "c=3e8\n",
    "f=800e3# operating freq\n",
    "dl=27#effective height\n",
    "lamda=c/f\n",
    "\n",
    "Rr=40*(3.142**2)*(dl/lamda)**2#Radiation Resistance\n",
    "print 'Radiation resistance is %0.2f ohm'%(Rr)"
   ]
  }
 ],
 "metadata": {
  "kernelspec": {
   "display_name": "Python 2",
   "language": "python",
   "name": "python2"
  },
  "language_info": {
   "codemirror_mode": {
    "name": "ipython",
    "version": 2
   },
   "file_extension": ".py",
   "mimetype": "text/x-python",
   "name": "python",
   "nbconvert_exporter": "python",
   "pygments_lexer": "ipython2",
   "version": "2.7.9"
  }
 },
 "nbformat": 4,
 "nbformat_minor": 0
}
