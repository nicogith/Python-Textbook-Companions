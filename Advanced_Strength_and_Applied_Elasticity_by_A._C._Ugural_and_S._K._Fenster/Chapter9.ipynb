{
 "metadata": {
  "name": "",
  "signature": "sha256:e48bc7584793a78fba4a87aa7646e91c7da5350f8eff658edcbe9f4343b9ee57"
 },
 "nbformat": 3,
 "nbformat_minor": 0,
 "worksheets": [
  {
   "cells": [
    {
     "cell_type": "heading",
     "level": 1,
     "metadata": {},
     "source": [
      "Chapter9-Beams On Elastic Foundations"
     ]
    },
    {
     "cell_type": "heading",
     "level": 2,
     "metadata": {},
     "source": [
      "Ex1-pg273"
     ]
    },
    {
     "cell_type": "code",
     "collapsed": false,
     "input": [
      "import math\n",
      "#calculate length and maxi force per unit of length between beam & foundation \n",
      "w=0.1 ##m\n",
      "d=0.115 ##m\n",
      "l=4. ##m\n",
      "p=175. ##kN/m\n",
      "k=14*10**6. ##Pa\n",
      "E=200*10**9. ##Pa\n",
      "I=(0.1*(0.15)**3.)\n",
      "\n",
      "##deltav=(p/2*k)*derivative(x)*beta*exp**(betax)*(cos beta(x)+sin beta(x))\n",
      "##vA=(p/2k)*(2-exp**(betaa)*cos betaa - exp**(betab)*cos betab)\n",
      "\n",
      "beta=(k/(4.*E*I/12.))**(0.25)\n",
      "print'%s %.2f %s'%(\"in meter inverse is= \",beta,\"\")\n",
      "\n",
      "vmax=(p*(2-(-0.0345)-(0.0345)))/(2*14000.)\n",
      "print'%s %.2f %s'%(\"in meter is= \",vmax,\"\")\n",
      "z=k*vmax\n",
      "print'%s %.2f %s'%(\"maxi force per unit of length between beam & foundation in kN/m is= \",z,\"\")\n",
      "\n",
      "## Ans varies due to round of error\n"
     ],
     "language": "python",
     "metadata": {},
     "outputs": [
      {
       "output_type": "stream",
       "stream": "stdout",
       "text": [
        "in meter inverse is=  0.89 \n",
        "in meter is=  0.01 \n",
        "maxi force per unit of length between beam & foundation in kN/m is=  175000.00 \n"
       ]
      }
     ],
     "prompt_number": 3
    },
    {
     "cell_type": "heading",
     "level": 2,
     "metadata": {},
     "source": [
      "Ex4-pg279"
     ]
    },
    {
     "cell_type": "code",
     "collapsed": false,
     "input": [
      "import math\n",
      "#find foundation modulus of the equivalent continuous elastic support in Pa\n",
      "a=1.5 ##m\n",
      "E=206.8*10**9 ##Pa\n",
      "K=10000. ##N/m\n",
      "I=6*10**-6 ##m**4\n",
      "P=6700 ##N\n",
      "c=0.05\n",
      "\n",
      "k=K/a\n",
      "print'%s %.2f %s'%(\"foundation modulus of the equivalent continuous elastic support in Pa is=\",k,\"\")\n",
      "\n",
      "beta=(k/(4.*E*I))**(1/4.)\n",
      "print(beta)\n",
      "\n",
      "##sigmamax=(M*c/I)=(P*c/4*beta*I)\n",
      "sigmamax=((P*c)/(4.*beta*I))\n",
      "print'%s %.2f %s'%(\"in Pa is=\",sigmamax,\"\")\n",
      "\n",
      "vmax=(P*beta)/(2.*k)\n",
      "print'%s %.2f %s'%(\"in meter is=\",vmax,\"\")\n"
     ],
     "language": "python",
     "metadata": {},
     "outputs": [
      {
       "output_type": "stream",
       "stream": "stdout",
       "text": [
        "foundation modulus of the equivalent continuous elastic support in Pa is= 6666.67 \n",
        "0.191441787744\n",
        "in Pa is= 72911632.81 \n",
        "in meter is= 0.10 \n"
       ]
      }
     ],
     "prompt_number": 1
    }
   ],
   "metadata": {}
  }
 ]
}