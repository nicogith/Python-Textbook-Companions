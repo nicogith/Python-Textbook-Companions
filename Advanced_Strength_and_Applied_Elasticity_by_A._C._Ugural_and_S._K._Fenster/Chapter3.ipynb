{
 "metadata": {
  "name": "",
  "signature": "sha256:3244e03679979a09b0b5fff869e60076c9b12f1d282baaf63c6b3b44f5166d94"
 },
 "nbformat": 3,
 "nbformat_minor": 0,
 "worksheets": [
  {
   "cells": [
    {
     "cell_type": "heading",
     "level": 1,
     "metadata": {},
     "source": [
      "Chapter3-Two-Dimensional problems in elasticity"
     ]
    },
    {
     "cell_type": "heading",
     "level": 2,
     "metadata": {},
     "source": [
      "Ex5-pg83"
     ]
    },
    {
     "cell_type": "code",
     "collapsed": false,
     "input": [
      "import math\n",
      "#calculate alpha and semiaxes of elliptical contaact area and max contact pressure\n",
      "E=210. ##GPa\n",
      "v=0.3\n",
      "r1=0.4 ##m radius\n",
      "r2=0.3 ##m cross radius\n",
      "P=90. ##kN compression load\n",
      "\n",
      "\n",
      "m=4./((1./r1)+(1./r2))\n",
      "print'%s %.2f %s'%(\"m\",m,\"\")\n",
      "A=(1/2.)*((1./r1)+(1./r2))\n",
      "print'%s %.2f %s'%(\"A\",A,\"\")\n",
      "B=(1/2.)*((1./r1)-(1./r2))\n",
      "print'%s %.2f %s'%(\"B\",B,\"\")\n",
      "coss=(((1./r1)-(1./r2))/((1./r1)+(1./r2)))\n",
      "print'%s %.2f %s'%(\"cos aplha is= \",coss,\"\")\n",
      "n=(4.*E*10**9.)/(3.*(1.-v**2.))\n",
      "print'%s %.3e %s'%(\"n is \",n,\"\")\n",
      "s=math.acos(coss)*57.3\n",
      "print'%s %.2f %s'%(\" s is alpha value = \",s,\"\") ## ans is 81.79degree but here since cosa is in negative we get ans as 98.21\n",
      "ca=1.1040 ## from the interpolating table\n",
      "cb=0.9112 ## from the interpolating table\n",
      "a=ca*(90000.*m/n)**(0.33)\n",
      "print'%s %.4f %s'%(\"semiaxes of the elliptical contact area in meter is= \",a,\"\")\n",
      "b=cb*(90000*m/n)**(0.33)\n",
      "print'%s %.4f %s'%(\"semiaxes of the elliptical contact area in meter is= \",b,\"\")\n",
      "sigmac=1.5*(90000./(math.pi*a*b))\n",
      "print'%s %.3e %s'%(\"max contact pressure in Pa is= \",sigmac,\"\") ## text book ans is wrong\n"
     ],
     "language": "python",
     "metadata": {},
     "outputs": [
      {
       "output_type": "stream",
       "stream": "stdout",
       "text": [
        "m 0.69 \n",
        "A 2.92 \n",
        "B -0.42 \n",
        "cos aplha is=  -0.14 \n",
        "n is  3.077e+11 \n",
        " s is alpha value =  98.22 \n",
        "semiaxes of the elliptical contact area in meter is=  0.0068 \n",
        "semiaxes of the elliptical contact area in meter is=  0.0056 \n",
        "max contact pressure in Pa is=  1.125e+09 \n"
       ]
      }
     ],
     "prompt_number": 1
    }
   ],
   "metadata": {}
  }
 ]
}