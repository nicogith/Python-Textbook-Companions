{
 "metadata": {
  "name": "",
  "signature": "sha256:2781545e4a86c16cb74b3bfc3908d3f7649eaff2f44e3b1448ebf17923520f6f"
 },
 "nbformat": 3,
 "nbformat_minor": 0,
 "worksheets": [
  {
   "cells": [
    {
     "cell_type": "heading",
     "level": 1,
     "metadata": {},
     "source": [
      "Chapter12-Plastic Behaviour of Solids"
     ]
    },
    {
     "cell_type": "heading",
     "level": 2,
     "metadata": {},
     "source": [
      "Ex1-pg345"
     ]
    },
    {
     "cell_type": "code",
     "collapsed": false,
     "input": [
      "import math\n",
      "#calculate plastic yeilding and max allowable stress and axial stress and transverse stress and total elonganation for stability in meter\n",
      "alpha=45.\n",
      "sigmayp=35.*10**6 ##Pa\n",
      "k=840.##MPa\n",
      "n=0.2\n",
      "L0=3 ##m\n",
      "Aad=10.*10**-5 ##m**2\n",
      "Acd=10.*10**-5 ##m**2\n",
      "Abd=15.*10**-5 ##m**2\n",
      "\n",
      "P=sigmayp*Abd+2.*sigmayp*Aad*math.cos(45/57.3)\n",
      "print'%s %.2f %s'%(\"plastic yeilding in N is= \",P,\"\")\n",
      "sigma=k*n**n\n",
      "print'%s %.2f %s'%(\"maxi allowable stress in MPa is= \",sigma,\"\")\n",
      "epsilon1=n\n",
      "print'%s %.2f %s'%(\"axial stress is= \",epsilon1,\"\")\n",
      "epsilon2=-0.1\n",
      "print'%s %.2f %s'%(\"transverse stress is= \",epsilon2,\"\")\n",
      "epsilon3=-0.1\n",
      "print'%s %.2f %s'%(\"transverse stress is= \",epsilon3,\"\")\n",
      "z=3*n\n",
      "print'%s %.2f %s'%(\"total elongation for stability in meter is= \",z,\"\")\n"
     ],
     "language": "python",
     "metadata": {},
     "outputs": [
      {
       "output_type": "stream",
       "stream": "stdout",
       "text": [
        "plastic yeilding in N is=  10200.03 \n",
        "maxi allowable stress in MPa is=  608.81 \n",
        "axial stress is=  0.20 \n",
        "transverse stress is=  -0.10 \n",
        "transverse stress is=  -0.10 \n",
        "total elongation for stability in meter is=  0.60 \n"
       ]
      }
     ],
     "prompt_number": 1
    }
   ],
   "metadata": {}
  }
 ]
}