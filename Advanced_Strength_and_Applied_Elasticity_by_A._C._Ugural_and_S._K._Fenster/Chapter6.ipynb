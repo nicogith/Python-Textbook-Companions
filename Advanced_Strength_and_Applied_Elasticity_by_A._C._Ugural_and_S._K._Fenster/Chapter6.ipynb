{
 "metadata": {
  "name": "",
  "signature": "sha256:3332a69be3bda89d0bbf53dbcf52a61ce9890c1e2f91bf32984da88ae13bb216"
 },
 "nbformat": 3,
 "nbformat_minor": 0,
 "worksheets": [
  {
   "cells": [
    {
     "cell_type": "heading",
     "level": 1,
     "metadata": {},
     "source": [
      "Chapter6-Torsion of Prismatic Bars"
     ]
    },
    {
     "cell_type": "heading",
     "level": 2,
     "metadata": {},
     "source": [
      "Ex2-177"
     ]
    },
    {
     "cell_type": "code",
     "collapsed": false,
     "input": [
      "import math\n",
      "#calculate applied torque and shearing stress and angle of twist per unit length \n",
      "G=28. ##GPa\n",
      "t1=0.012\n",
      "t2=0.006\n",
      "t3=0.01\n",
      "t4=0.006\n",
      "A=0.125\n",
      "h=226000. ##N/m\n",
      "Mt=2.*A*h\n",
      "print'%s %.2f %s'%(\"applied torque in Nm is=\",Mt,\"\")\n",
      "\n",
      "tau1=(h/t1)\n",
      "print'%s %.2f %s'%(\"shearing stress in Pa is= \",tau1,\"\")\n",
      "tau2=(h/t2)\n",
      "print'%s %.2f %s'%(\"shearing stress in Pa is= \",tau2,\"\")\n",
      "tau3=(h/t3)\n",
      "print'%s %.2f %s'%(\"shearing stress in Pa is= \",tau3,\"\")\n",
      "tau4=(h/t4)\n",
      "print'%s %.2f %s'%(\"shearing stress in Pa is= \",tau4,\"\")\n",
      "\n",
      "##theta=(h/2*G*A)intc((1/t)ds)\n",
      "theta=(h/(2*G*10**9*A))*((0.25/t1)+2*(0.5/t2)+(0.25/t3))\n",
      "print'%s %.4f %s'%(\"angle of twist per unit length in rad/m is= \",theta,\"\")\n",
      "\n"
     ],
     "language": "python",
     "metadata": {},
     "outputs": [
      {
       "output_type": "stream",
       "stream": "stdout",
       "text": [
        "applied torque in Nm is= 56500.00 \n",
        "shearing stress in Pa is=  18833333.33 \n",
        "shearing stress in Pa is=  37666666.67 \n",
        "shearing stress in Pa is=  22600000.00 \n",
        "shearing stress in Pa is=  37666666.67 \n",
        "angle of twist per unit length in rad/m is=  0.0069 \n"
       ]
      }
     ],
     "prompt_number": 1
    },
    {
     "cell_type": "heading",
     "level": 2,
     "metadata": {},
     "source": [
      "Ex4-pg185"
     ]
    },
    {
     "cell_type": "code",
     "collapsed": false,
     "input": [
      "import math\n",
      "#calculate torsional rigidity of the beam and maxi longitudinal bending stress in the flange and total angle of twist\n",
      "G=80. ##GPa\n",
      "E=200. ##GPa\n",
      "tf=10. ##mm\n",
      "tw=0.007 ##m\n",
      "t1=tw\n",
      "t2=0.01\n",
      "h=0.2 ##m\n",
      "b=0.1 ##m\n",
      "b2=b\n",
      "b1=0.19\n",
      "L=2.4 ##m\n",
      "If=0.01*0.1**3\n",
      "Mt=1200.\n",
      "L=2.4\n",
      "\n",
      "##solution a:\n",
      "##C=Mt/theta\n",
      "##C=(b1*t1**3+2*b2*t2**3)*(G/3)\n",
      "C=((b1*t1**3.+2.*b2*t2**3)/3.)##    without substituting the value of G we get C\n",
      "print'%s %.8f %s'%(\"torsional rigidity of the beam is= \",C,\"\")\n",
      "\n",
      "##a=(If*E)/12\n",
      "a=If/12.##                 without substituting the value of E we get a\n",
      "print(a)\n",
      "##alpha=1/(h*sqrt((E*If)/(2*C)))\n",
      "y=math.sqrt((2.5*a)/(2.*C))##   without substituting the value of h\n",
      "print(y)\n",
      "##(1/alpha)==y\n",
      "##sigmafmax=(Mfmax*x)/If\n",
      "sigmafmax=(3.43*Mt*0.05)/a\n",
      "print'%s %.2f %s'%(\"maxi longitudinal bending stress in the flange in MPa is= \",sigmafmax,\"\")\n",
      "\n",
      "##soluton b:\n",
      "si=(Mt/(C*G*10**9))*(L-y*h)\n",
      "print'%s %.2f %s'%(\"the angle of twist at the free end in radian is =\",si,\"\")\n",
      "si1=(Mt*L)/(C*G*10**9.)\n",
      "print'%s %.2f %s'%(\"total angle of twist in radians is= \",si1,\"\")\n",
      "\n",
      "\n"
     ],
     "language": "python",
     "metadata": {},
     "outputs": [
      {
       "output_type": "stream",
       "stream": "stdout",
       "text": [
        "torsional rigidity of the beam is=  0.00000009 \n",
        "8.33333333333e-07\n",
        "3.43291315217\n",
        "maxi longitudinal bending stress in the flange in MPa is=  246960000.00 \n",
        "the angle of twist at the free end in radian is = 0.29 \n",
        "total angle of twist in radians is=  0.41 \n"
       ]
      }
     ],
     "prompt_number": 3
    }
   ],
   "metadata": {}
  }
 ]
}