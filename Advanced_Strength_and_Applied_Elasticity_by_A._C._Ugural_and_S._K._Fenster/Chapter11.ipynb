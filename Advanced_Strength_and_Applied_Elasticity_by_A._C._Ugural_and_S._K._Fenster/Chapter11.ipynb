{
 "metadata": {
  "name": "",
  "signature": "sha256:f729277270c4906babbae57b26d0a48c913109394e1fe2bf1cae355bbbb10bbd"
 },
 "nbformat": 3,
 "nbformat_minor": 0,
 "worksheets": [
  {
   "cells": [
    {
     "cell_type": "heading",
     "level": 1,
     "metadata": {},
     "source": [
      "Chapter11-Elastic Stability"
     ]
    },
    {
     "cell_type": "heading",
     "level": 2,
     "metadata": {},
     "source": [
      "Ex1-pg319"
     ]
    },
    {
     "cell_type": "code",
     "collapsed": false,
     "input": [
      "import math\n",
      "#calcualte weight and N\n",
      "E=210*10**9. ##Pa\n",
      "d=100. ##mm\n",
      "t=50 ##mm\n",
      "A=0.005\n",
      "Iz=0.05*(0.1**3)/12.\n",
      "print(Iz)\n",
      "Iy=0.1*(0.05**3)/12\n",
      "print(Iy)\n",
      "##r=sqrt(Iy/A)\n",
      "r= math.sqrt(Iy/A)\n",
      "print(r)##mm\n",
      "L=2.75\n",
      "\n",
      "##P=W/tand(15)=3.732\n",
      "Pcr=(math.pi**2.*E*Iz)/L**2.\n",
      "print'%s %.2f %s'%(\"into W is= \",Pcr,\"\")\n",
      "W=Pcr/3.732\n",
      "print'%s %.2f %s'%(\"in N is= \",W,\"\")\n",
      "\n",
      "Pcr=(math.pi**2*E*Iy)/L**2.\n",
      "print'%s %.2f %s'%(\"into W is= \",Pcr,\"\")\n",
      "W=Pcr/3.732\n",
      "print'%s %.2f %s'%(\"in N is= \",W,\"\")\n",
      "\n",
      "## Ans varies due to round of error\n"
     ],
     "language": "python",
     "metadata": {},
     "outputs": [
      {
       "output_type": "stream",
       "stream": "stdout",
       "text": [
        "4.16666666667e-06\n",
        "1.04166666667e-06\n",
        "0.0144337567297\n",
        "into W is=  1141937.70 \n",
        "in N is=  305985.45 \n",
        "into W is=  285484.42 \n",
        "in N is=  76496.36 \n"
       ]
      }
     ],
     "prompt_number": 1
    }
   ],
   "metadata": {}
  }
 ]
}