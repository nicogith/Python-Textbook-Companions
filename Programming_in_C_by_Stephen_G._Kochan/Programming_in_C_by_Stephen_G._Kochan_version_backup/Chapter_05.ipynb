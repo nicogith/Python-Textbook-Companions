{
 "metadata": {
  "name": "Chapter V"
 },
 "nbformat": 3,
 "nbformat_minor": 0,
 "worksheets": [
  {
   "cells": [
    {
     "cell_type": "heading",
     "level": 1,
     "metadata": {},
     "source": [
      "Chapter 5: Program looping"
     ]
    },
    {
     "cell_type": "heading",
     "level": 3,
     "metadata": {},
     "source": [
      "Program 5.1, Page number: 43"
     ]
    },
    {
     "cell_type": "code",
     "collapsed": false,
     "input": [
      "\n",
      "triangularNumber = 1 + 2 + 3 + 4 + 5 + 6 + 7 + 8;\n",
      "\n",
      "print(\"The eighth triangular number is {0}\".format(triangularNumber))"
     ],
     "language": "python",
     "metadata": {},
     "outputs": [
      {
       "output_type": "stream",
       "stream": "stdout",
       "text": [
        "The eighth triangular number is 36\n"
       ]
      }
     ],
     "prompt_number": 1
    },
    {
     "cell_type": "heading",
     "level": 3,
     "metadata": {},
     "source": [
      "Program 5.2, Page number: 44"
     ]
    },
    {
     "cell_type": "code",
     "collapsed": false,
     "input": [
      "\n",
      "triangularNumber=0\n",
      "\n",
      "for i in range (201):\n",
      "   triangularNumber=triangularNumber+i   \n",
      "\n",
      "print(\"The 200th triangular number is {0}\".format(triangularNumber))"
     ],
     "language": "python",
     "metadata": {},
     "outputs": [
      {
       "output_type": "stream",
       "stream": "stdout",
       "text": [
        "The 200th triangular number is 20100\n"
       ]
      }
     ],
     "prompt_number": 2
    },
    {
     "cell_type": "heading",
     "level": 3,
     "metadata": {},
     "source": [
      "Program 5.3, Page number: 47"
     ]
    },
    {
     "cell_type": "code",
     "collapsed": false,
     "input": [
      "\n",
      "print(\"TABLE OF TRIANGULAR NUMBERS\\n\\n\")\n",
      "print(\" n          Sum from 1 to n\\n\")\n",
      "print(\"---        -----------------\\n\")\n",
      "\n",
      "triangularNumber=0\n",
      "\n",
      "for i in range (1,11):\n",
      "    triangularNumber=triangularNumber+i\n",
      "    print(\" {0}                  {1}\\n\".format(i,triangularNumber))"
     ],
     "language": "python",
     "metadata": {},
     "outputs": [
      {
       "output_type": "stream",
       "stream": "stdout",
       "text": [
        "TABLE OF TRIANGULAR NUMBERS\n",
        "\n",
        "\n",
        " n          Sum from 1 to n\n",
        "\n",
        "---        -----------------\n",
        "\n",
        " 1                  1\n",
        "\n",
        " 2                  3\n",
        "\n",
        " 3                  6\n",
        "\n",
        " 4                  10\n",
        "\n",
        " 5                  15\n",
        "\n",
        " 6                  21\n",
        "\n",
        " 7                  28\n",
        "\n",
        " 8                  36\n",
        "\n",
        " 9                  45\n",
        "\n",
        " 10                  55\n",
        "\n"
       ]
      }
     ],
     "prompt_number": 3
    },
    {
     "cell_type": "heading",
     "level": 3,
     "metadata": {},
     "source": [
      "Program 5.4, Page number: 51"
     ]
    },
    {
     "cell_type": "code",
     "collapsed": false,
     "input": [
      "\n",
      "triangularNumber=0\n",
      "number=10                                #number=input(\"What triangular number do you want?\")\n",
      "\n",
      "for n in range (1,(number+1)):\n",
      "        triangularNumber+=n\n",
      "\n",
      "print(\"triangular number {0} is {1}\".format(number,triangularNumber))"
     ],
     "language": "python",
     "metadata": {},
     "outputs": [
      {
       "output_type": "stream",
       "stream": "stdout",
       "text": [
        "triangular number 10 is 55\n"
       ]
      }
     ],
     "prompt_number": 5
    },
    {
     "cell_type": "heading",
     "level": 3,
     "metadata": {},
     "source": [
      "Program 5.5, Page number: 53"
     ]
    },
    {
     "cell_type": "code",
     "collapsed": false,
     "input": [
      "\n",
      "for counter in range(1,6):                     #Outer Loop\n",
      "        number=12                              #input(\"what triangular number do you want? \")\n",
      "\n",
      "        triangularNumber=0                     #Variable Decaration\n",
      "\n",
      "        for n in range (1,(number+1)):         #Inner Loop\n",
      "           triangularNumber+=n\n",
      "        \n",
      "        #Result\n",
      "        print(\"Triangular Number {0} is {1}\".format(number,triangularNumber))"
     ],
     "language": "python",
     "metadata": {},
     "outputs": [
      {
       "output_type": "stream",
       "stream": "stdout",
       "text": [
        "Triangular Number 12 is 78\n",
        "Triangular Number 12 is 78\n",
        "Triangular Number 12 is 78\n",
        "Triangular Number 12 is 78\n",
        "Triangular Number 12 is 78\n"
       ]
      }
     ],
     "prompt_number": 7
    },
    {
     "cell_type": "heading",
     "level": 3,
     "metadata": {},
     "source": [
      "Program 5.6, Page number: 56"
     ]
    },
    {
     "cell_type": "code",
     "collapsed": false,
     "input": [
      "\n",
      "count=1\n",
      "\n",
      "while (count<=5):\n",
      "        print(\"{0}\\n\".format(count))     #Result\n",
      "        count+=1"
     ],
     "language": "python",
     "metadata": {},
     "outputs": [
      {
       "output_type": "stream",
       "stream": "stdout",
       "text": [
        "1\n",
        "\n",
        "2\n",
        "\n",
        "3\n",
        "\n",
        "4\n",
        "\n",
        "5\n",
        "\n"
       ]
      }
     ],
     "prompt_number": 9
    },
    {
     "cell_type": "heading",
     "level": 3,
     "metadata": {},
     "source": [
      "Program 5.7, Page number: 58"
     ]
    },
    {
     "cell_type": "code",
     "collapsed": false,
     "input": [
      "\n",
      "print(\"Please type in two nonnegative integers.\")\n",
      "u=8                                               #u=input()\n",
      "v=14                                              #v=input()\n",
      "\n",
      "while(v!=0):\n",
      "        temp=u%v\n",
      "        u=v\n",
      "        v=temp\n",
      "\n",
      "print(\"Their greatest common divisor is {0}\\n\".format(u))"
     ],
     "language": "python",
     "metadata": {},
     "outputs": [
      {
       "output_type": "stream",
       "stream": "stdout",
       "text": [
        "Please type in two nonnegative integers.\n",
        "Their greatest common divisor is 2\n",
        "\n"
       ]
      }
     ],
     "prompt_number": 11
    },
    {
     "cell_type": "heading",
     "level": 3,
     "metadata": {},
     "source": [
      "Program 5.8, Page number: 60"
     ]
    },
    {
     "cell_type": "code",
     "collapsed": false,
     "input": [
      "\n",
      "import sys\n",
      "\n",
      "number=113                                     #number=input(\"Enter your number.\\n\")\n",
      "\n",
      "while(number!=0):\n",
      "        right_digit=number%10\n",
      "        sys.stdout.write(\"{0}\".format(right_digit))\n",
      "        number=number/10\n",
      "\n",
      "print(\"\\n\")"
     ],
     "language": "python",
     "metadata": {},
     "outputs": [
      {
       "output_type": "stream",
       "stream": "stdout",
       "text": [
        "311\n",
        "\n"
       ]
      }
     ],
     "prompt_number": 13
    },
    {
     "cell_type": "heading",
     "level": 3,
     "metadata": {},
     "source": [
      "Program 5.9, Page number: 61"
     ]
    },
    {
     "cell_type": "code",
     "collapsed": false,
     "input": [
      "\n",
      "import sys\n",
      "\n",
      "number=428                                      #number=input(\"Enter your number:\\n\")\n",
      "\n",
      "while True:                                     #Enter loop instantly for the first time\n",
      "    right_digit=number%10\n",
      "    sys.stdout.write(\"{0}\".format(right_digit))\n",
      "    number=number/10\n",
      "    if(number == 0):                            #Check for exit condition\n",
      "        break\n",
      "\n",
      "print(\"\\n\")"
     ],
     "language": "python",
     "metadata": {},
     "outputs": [
      {
       "output_type": "stream",
       "stream": "stdout",
       "text": [
        "824\n",
        "\n"
       ]
      }
     ],
     "prompt_number": 14
    }
   ],
   "metadata": {}
  }
 ]
}