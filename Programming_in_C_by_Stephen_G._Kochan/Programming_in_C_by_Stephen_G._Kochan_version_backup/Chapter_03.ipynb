{
 "metadata": {
  "name": "",
  "signature": "sha256:d8c363a7618c01354c29de02098f7db723d0768b8769439b908ad7302fccbc99"
 },
 "nbformat": 3,
 "nbformat_minor": 0,
 "worksheets": [
  {
   "cells": [
    {
     "cell_type": "heading",
     "level": 1,
     "metadata": {},
     "source": [
      "Chapter 3: Compiling and running your first program"
     ]
    },
    {
     "cell_type": "heading",
     "level": 3,
     "metadata": {},
     "source": [
      "Program 3.1, Page number: 11"
     ]
    },
    {
     "cell_type": "code",
     "collapsed": false,
     "input": [
      "\n",
      "\n",
      "print(\"Programming is Fun.\")"
     ],
     "language": "python",
     "metadata": {},
     "outputs": [
      {
       "output_type": "stream",
       "stream": "stdout",
       "text": [
        "Programming is Fun.\n"
       ]
      }
     ],
     "prompt_number": 1
    },
    {
     "cell_type": "heading",
     "level": 3,
     "metadata": {},
     "source": [
      "Program 3.2, Page number: 14"
     ]
    },
    {
     "cell_type": "code",
     "collapsed": false,
     "input": [
      "\n",
      "print(\"Programming is Fun.\")\n",
      "print(\"And Programming in Python is even more fun\")"
     ],
     "language": "python",
     "metadata": {},
     "outputs": [
      {
       "output_type": "stream",
       "stream": "stdout",
       "text": [
        "Programming is Fun.\n",
        "And Programming in Python is even more fun\n"
       ]
      }
     ],
     "prompt_number": 2
    },
    {
     "cell_type": "heading",
     "level": 3,
     "metadata": {},
     "source": [
      "Program 3.3, Page number: 14"
     ]
    },
    {
     "cell_type": "code",
     "collapsed": false,
     "input": [
      "\n",
      "print(\"Testing...\\n..1\\n...2\\n....3\\n\")"
     ],
     "language": "python",
     "metadata": {},
     "outputs": [
      {
       "output_type": "stream",
       "stream": "stdout",
       "text": [
        "Testing...\n",
        "..1\n",
        "...2\n",
        "....3\n",
        "\n"
       ]
      }
     ],
     "prompt_number": 3
    },
    {
     "cell_type": "heading",
     "level": 3,
     "metadata": {},
     "source": [
      "Program 3.4, Page number: 15"
     ]
    },
    {
     "cell_type": "code",
     "collapsed": false,
     "input": [
      "        \n",
      "sum=50+25\n",
      "print(\"The sum of 50 & 25 is: {0} \".format(sum))"
     ],
     "language": "python",
     "metadata": {},
     "outputs": [
      {
       "output_type": "stream",
       "stream": "stdout",
       "text": [
        "The sum of 50 & 25 is: 75 \n"
       ]
      }
     ],
     "prompt_number": 4
    },
    {
     "cell_type": "heading",
     "level": 3,
     "metadata": {},
     "source": [
      "Program 3.5, Page number: 16"
     ]
    },
    {
     "cell_type": "code",
     "collapsed": false,
     "input": [
      "\n",
      "\n",
      "value1=50\n",
      "value2=25\n",
      "\n",
      "#Calculation\n",
      "sum=value1+value2\n",
      "\n",
      "#Result\n",
      "print(\"The sum of {0} & {1} is: {2}\".format(value1,value2,sum))"
     ],
     "language": "python",
     "metadata": {},
     "outputs": [
      {
       "output_type": "stream",
       "stream": "stdout",
       "text": [
        "The sum of 50 & 25 is: 75\n"
       ]
      }
     ],
     "prompt_number": 5
    },
    {
     "cell_type": "heading",
     "level": 3,
     "metadata": {},
     "source": [
      "Program 3.6, Page number: 17"
     ]
    },
    {
     "cell_type": "code",
     "collapsed": false,
     "input": [
      "\n",
      "\n",
      "\n",
      "value1=50\n",
      "value2=25\n",
      "\n",
      "#Calculation\n",
      "sum=value1+value2\n",
      "\n",
      "#Result\n",
      "print(\"The sum of {0} & {1} is {2}\".format(value1,value2,sum))"
     ],
     "language": "python",
     "metadata": {},
     "outputs": [
      {
       "output_type": "stream",
       "stream": "stdout",
       "text": [
        "The sum of 50 & 25 is 75\n"
       ]
      }
     ],
     "prompt_number": 6
    }
   ],
   "metadata": {}
  }
 ]
}