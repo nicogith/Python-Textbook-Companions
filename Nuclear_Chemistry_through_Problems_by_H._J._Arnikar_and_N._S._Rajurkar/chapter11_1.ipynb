{
 "cells": [
  {
   "cell_type": "markdown",
   "metadata": {},
   "source": [
    "#chapter 11:elements of radiation chemistry"
   ]
  },
  {
   "cell_type": "markdown",
   "metadata": {},
   "source": [
    "##example 11.1;pg no: 144"
   ]
  },
  {
   "cell_type": "code",
   "execution_count": 1,
   "metadata": {
    "collapsed": false
   },
   "outputs": [
    {
     "name": "stdout",
     "output_type": "stream",
     "text": [
      "Example 11.1, Page:144  \n",
      " \n",
      "\n",
      "\n",
      " The molecule absorption coefficient of water in b/molecule is =  2.11\n",
      "\n",
      " The mass absorption coefficient of water in cm^2/g is =  0.071\n",
      "\n",
      " The linear absorption coefficient of water in cm^-1 is =  0.071\n",
      "\n",
      " \n",
      " The molecule absorption coefficient of ethanol in b/molecule is = 5.486\n",
      "\n",
      " The mass absorption coefficient of ethanol in cm^2/g is =  0.072\n",
      "\n",
      " The linear absorption coefficient of ethanol in cm^-1 is =  0.057\n",
      "\n",
      " \n",
      " The molecule absorption coefficient of methanol in b/molecule is = 3.798\n",
      "\n",
      " The mass absorption coefficient of methanol in cm^2/g is = 0.071\n",
      "\n",
      " The linear absorption coefficient of methanol in cm^-1 is =  0.057\n"
     ]
    }
   ],
   "source": [
    "#cal of molecule,mass,linear absorption coefficient\n",
    "#intiation of all variables\n",
    "# Chapter 11\n",
    "print\"Example 11.1, Page:144  \\n \\n\"\n",
    "#Given:\n",
    "density1=1.000;# for water in CGS units\n",
    "density2=0.789;# for ethanol in CGS units\n",
    "density3=0.793;# for methanol in CGS units\n",
    "l=6.023*10**23;# avogadro constant\n",
    "ue=0.211;# electron absorption coefficent in barn per electron\n",
    "# 1 b=10^(-24) cm^2\n",
    "#solution: (a) Water\n",
    "z1=10;# no. of electrons\n",
    "a1=18;# atomic mass of water\n",
    "uw=ue*z1;#molecule absorption coefficient\n",
    "umw=(uw*l*10**-24)/a1;#mass absorption coefficient\n",
    "ulw=umw*density1;# linear absorption coefficient\n",
    "print\"\\n The molecule absorption coefficient of water in b/molecule is = \",round(uw,3)\n",
    "print\"\\n The mass absorption coefficient of water in cm^2/g is = \",round(umw,3)\n",
    "print\"\\n The linear absorption coefficient of water in cm^-1 is = \",round(ulw,3)\n",
    "#solution: (b) ethanol\n",
    "z2=26;# no. of electrons\n",
    "a2=46;# atomic mass of water\n",
    "ueth=ue*z2;#molecule absorption coefficient\n",
    "umeth=(ueth*l*10**-24)/a2;#mass absorption coefficient\n",
    "uleth=umeth*density2;# linear absorption coefficient\n",
    "print\"\\n \\n The molecule absorption coefficient of ethanol in b/molecule is =\",round(ueth,3)\n",
    "print\"\\n The mass absorption coefficient of ethanol in cm^2/g is = \",round(umeth,3)\n",
    "print\"\\n The linear absorption coefficient of ethanol in cm^-1 is = \",round(uleth,3)\n",
    "\n",
    "#solution: (c) methanol\n",
    "z3=18;# no. of electrons\n",
    "a3=32;# atomic mass of water\n",
    "umet=ue*z3;#molecule absorption coefficient\n",
    "ummet=(umet*l*10**-24)/a3;#mass absorption coefficient\n",
    "ulmet=ummet*density3;# linear absorption coefficient\n",
    "print\"\\n \\n The molecule absorption coefficient of methanol in b/molecule is =\",round(umet,3)\n",
    "print\"\\n The mass absorption coefficient of methanol in cm^2/g is =\",round(ummet,3)\n",
    "print\"\\n The linear absorption coefficient of methanol in cm^-1 is = \",round(ulmet,3)"
   ]
  },
  {
   "cell_type": "markdown",
   "metadata": {},
   "source": [
    "##example 11.2;pg no: 145"
   ]
  },
  {
   "cell_type": "code",
   "execution_count": 2,
   "metadata": {
    "collapsed": false
   },
   "outputs": [
    {
     "name": "stdout",
     "output_type": "stream",
     "text": [
      "Example 11.2, Page:145  \n",
      " \n",
      "\n",
      "\n",
      " The molecule absorption coefficient of benzene in b/molecule is = 8.86\n",
      "\n",
      " The mass absorption coefficient of benzene in cm^2/g is =  0.0684186575654\n",
      "\n",
      " \n",
      " The molecule absorption coefficient of cyclohexane in b/molecule is =  10.126\n",
      "\n",
      " The mass absorption coefficient of cyclohexane in cm^2/g is =  0.073\n"
     ]
    }
   ],
   "source": [
    "#cal of  molecule,mass absorption coefficient\n",
    "#intiation of all variables\n",
    "# Chapter 11\n",
    "print\"Example 11.2, Page:145  \\n \\n\"\n",
    "#Given:\n",
    "# for benzene in CGS units\n",
    "density1=.879;\n",
    "lac1=.06014; # linear absorption coefficient\n",
    "# for cyclohexane in CGS units \n",
    "density2=0.779;\n",
    "lac2=.05656; # linear absorption coefficient\n",
    "l=6.023*10**23;# avogadro constant\n",
    "ue=0.211;# electron absorption coefficent in barn per electron\n",
    "# 1 b=10^(-24) cm^2\n",
    "#solution: (a)Benzene\n",
    "a1=78;# atomic mass of benzene\n",
    "mac1=lac1/density1; #mass absorption coefficient\n",
    "mb=(mac1*a1)/(l*10**-24); #molecule absorption coefficient of benzene\n",
    "print\"\\n The molecule absorption coefficient of benzene in b/molecule is =\",round(mb,3)\n",
    "print\"\\n The mass absorption coefficient of benzene in cm^2/g is = \",mac1\n",
    "#solution: (b)cyclohexane\n",
    "a2=84;# atomic mass of cyclohexane\n",
    "mac2=lac2/density2; #mass absorption coefficient\n",
    "mc=(mac2*a2)/(l*10**-24); #molecule absorption coefficient of cyclohexane\n",
    "print\"\\n \\n The molecule absorption coefficient of cyclohexane in b/molecule is = \",round(mc,3)\n",
    "print\"\\n The mass absorption coefficient of cyclohexane in cm^2/g is = \",round(mac2,3)"
   ]
  },
  {
   "cell_type": "markdown",
   "metadata": {},
   "source": [
    "##example 11.3;pg no: 145"
   ]
  },
  {
   "cell_type": "code",
   "execution_count": 3,
   "metadata": {
    "collapsed": false
   },
   "outputs": [
    {
     "name": "stdout",
     "output_type": "stream",
     "text": [
      "Example 11.3, Page:145  \n",
      " \n",
      "\n",
      "Example 11.2, Page:145  \n",
      " \n",
      "\n",
      "\n",
      " The molecule absorption coefficient of benzene in b/molecule is = 8.86\n",
      "\n",
      " The mass absorption coefficient of benzene in cm^2/g is =  0.0684186575654\n",
      "\n",
      " \n",
      " The molecule absorption coefficient of cyclohexane in b/molecule is =  10.126\n",
      "\n",
      " The mass absorption coefficient of cyclohexane in cm^2/g is =  0.073\n",
      "The mass absorption coefficient of NaI in cm^2/g is = 0.0576104666667\n",
      "\n",
      " \n",
      " The mass absorption coefficient of NaIO3 in cm^2/g is =  0.0590642626263\n",
      "\n",
      " \n",
      " The mass absorption coefficient of Ca(PO3)2 in cm^2/g is =  -1.45987878788e+23\n",
      "\n",
      " \n",
      " The mass absorption coefficient of Ca3(PO4)2 in cm^2/g is = -9.32438709677e+22\n"
     ]
    }
   ],
   "source": [
    "#cal of mass absorption coefficient\n",
    "#intiation of all variables\n",
    "# Chapter 11\n",
    "print\"Example 11.3, Page:145  \\n \\n\"\n",
    "#Given:\n",
    "#Atomic absorption coefficients for diferent atoms in b/atom\n",
    "O=1.69;\n",
    "Na=2.32;\n",
    "P=3.17;\n",
    "Ca=4.22;\n",
    "I=12.03\n",
    "# 1 b=10^(-24) cm^2\n",
    "#solution:\n",
    "#mass absorption coefficient for the given atoms in cm^2/g\n",
    "uO=(O*10**-24*6.022*10**23)/16;\n",
    "uNa=(Na*10**-24*6.022*10**23)/23;\n",
    "uP=(P*10*8-24*6.022*10**23)/31;\n",
    "uCa=(Ca*10**-24*6.022*10**23)/40;\n",
    "uI=(I*10**-24*6.022*10**23)/127;\n",
    "# The mass absorption coefficient for the given substance is the sum of the mass absorption coefficients of the atoms present, each atom being weighted in proportion to its mass in the molecule.\n",
    "\n",
    "#(a) NaI(A1=150)\n",
    "u1=(uNa*23+uI*127)/150;\n",
    "#(b) NaIO3 (A2=198)\n",
    "u2=(uNa*23+uI*127+uO*48)/198;\n",
    "#(c) Ca(PO3)2 (A3=198)\n",
    "u3=(uCa*40+uP*62+uO*96)/198;\n",
    "#(d) Ca3(PO4)2 (A4=310)\n",
    "u4=(uCa*120+uP*62+uO*128)/310;#cal of  molecule,mass absorption coefficient\n",
    "#intiation of all variables\n",
    "# Chapter 11\n",
    "print\"Example 11.2, Page:145  \\n \\n\"\n",
    "#Given:\n",
    "# for benzene in CGS units\n",
    "density1=.879;\n",
    "lac1=.06014; # linear absorption coefficient\n",
    "# for cyclohexane in CGS units \n",
    "density2=0.779;\n",
    "lac2=.05656; # linear absorption coefficient\n",
    "l=6.023*10**23;# avogadro constant\n",
    "ue=0.211;# electron absorption coefficent in barn per electron\n",
    "# 1 b=10^(-24) cm^2\n",
    "#solution: (a)Benzene\n",
    "a1=78;# atomic mass of benzene\n",
    "mac1=lac1/density1; #mass absorption coefficient\n",
    "mb=(mac1*a1)/(l*10**-24); #molecule absorption coefficient of benzene\n",
    "print\"\\n The molecule absorption coefficient of benzene in b/molecule is =\",round(mb,3)\n",
    "print\"\\n The mass absorption coefficient of benzene in cm^2/g is = \",mac1\n",
    "#solution: (b)cyclohexane\n",
    "a2=84;# atomic mass of cyclohexane\n",
    "mac2=lac2/density2; #mass absorption coefficient\n",
    "mc=(mac2*a2)/(l*10**-24); #molecule absorption coefficient of cyclohexane\n",
    "print\"\\n \\n The molecule absorption coefficient of cyclohexane in b/molecule is = \",round(mc,3)\n",
    "print\"\\n The mass absorption coefficient of cyclohexane in cm^2/g is = \",round(mac2,3)\n",
    "print\"The mass absorption coefficient of NaI in cm^2/g is =\",u1\n",
    "print\"\\n \\n The mass absorption coefficient of NaIO3 in cm^2/g is = \",u2\n",
    "print\"\\n \\n The mass absorption coefficient of Ca(PO3)2 in cm^2/g is = \",u3\n",
    "print\"\\n \\n The mass absorption coefficient of Ca3(PO4)2 in cm^2/g is =\",u4"
   ]
  },
  {
   "cell_type": "markdown",
   "metadata": {},
   "source": [
    "##example 11.4;pg no: 146"
   ]
  },
  {
   "cell_type": "code",
   "execution_count": 4,
   "metadata": {
    "collapsed": false
   },
   "outputs": [
    {
     "name": "stdout",
     "output_type": "stream",
     "text": [
      "Example 11.4, Page:146  \n",
      " \n",
      "\n",
      "\n",
      " The molecular absorption coefficient of KI in b/molecule is =  15.192\n",
      "\n",
      " The mass absorption coefficient of KI in cm^2/g is =  0.055\n",
      "\n",
      " The linear absorption coefficient of KI in cm^-1 is =  0.172\n",
      "The molecular absorption coefficient of KIO4 in b/molecule is =  21.944\n",
      "The mass absorption coefficient of KIO4 in cm^2/g is =  0.057\n",
      "The linear absorption coefficient of KIO4 in cm^-1 is =  0.182\n"
     ]
    }
   ],
   "source": [
    "#cal of molecule,mass absorption coefficient\n",
    "#intiation of all variables\n",
    "# Chapter 11\n",
    "print\"Example 11.4, Page:146  \\n \\n\"\n",
    "#Given:\n",
    "density1=3.123;# for KI in CGS units\n",
    "density2=3.168;# for KIO3 in CGS units\n",
    "l=6.023*10**23;# avogadro constant\n",
    "ue=0.211;# electron absorption coefficent in barn per electron\n",
    "# 1 b=10^(-24) cm^2\n",
    "#Atomic absorption coefficients for diferent atoms in b/atom\n",
    "K=ue*19;\n",
    "I=ue*53;\n",
    "O=ue*8;\n",
    "#mass absorption coefficient for the given atoms in cm^2/g\n",
    "uK=(6.022*10**23*K*10**-24)/39;\n",
    "uI=(6.022*10**23*I*10**-24)/127;\n",
    "uO=(6.022*10**23*O*10**-24)/16;\n",
    "#solution: (a)KI\n",
    "uKI=K+I;#molecular absorption coefficient\n",
    "umKI=(39*uK+127*uI)/166;#mass absorption coefficient\n",
    "ulKI=umKI*density1;# linear absorption coefficient\n",
    "print\"\\n The molecular absorption coefficient of KI in b/molecule is = \",round(uKI,3)\n",
    "print\"\\n The mass absorption coefficient of KI in cm^2/g is = \",round(umKI,3)\n",
    "print\"\\n The linear absorption coefficient of KI in cm^-1 is = \",round(ulKI,3)\n",
    "#solution: (b)KIO3\n",
    "uKIO4=(K+I+O*4);#molecule absorption coefficient\n",
    "umKIO4=(39*uK+127*uI+64*uO)/230;#mass absorption coefficient\n",
    "ulKIO4=umKIO4*density2;# linear absorption coefficient\n",
    "print\"The molecular absorption coefficient of KIO4 in b/molecule is = \",round(uKIO4,3)\n",
    "print\"The mass absorption coefficient of KIO4 in cm^2/g is = \",round(umKIO4,3)\n",
    "print\"The linear absorption coefficient of KIO4 in cm^-1 is = \",round(ulKIO4,3)"
   ]
  },
  {
   "cell_type": "markdown",
   "metadata": {},
   "source": [
    "##example 11.5;pg no: 147"
   ]
  },
  {
   "cell_type": "code",
   "execution_count": 6,
   "metadata": {
    "collapsed": false
   },
   "outputs": [
    {
     "name": "stdout",
     "output_type": "stream",
     "text": [
      "Example 11.5, Page:147  \n",
      " \n",
      "\n",
      "\n",
      " The thickness of copper nedded to reduce the intensity of the radiation in cm is = 1.323\n"
     ]
    }
   ],
   "source": [
    "#cal of thickness of copper nedded\n",
    "#intiation of all variables\n",
    "# Chapter 11\n",
    "print\"Example 11.5, Page:147  \\n \\n\"\n",
    "#Given:\n",
    "import math\n",
    "i1=4000;# initial intensity of radiaton\n",
    "i2=2000;# final intensity of radiation\n",
    "density1=8.96;# density of copper\n",
    "l=6.022*10**23;# avogadro constant\n",
    "ue=0.211;# electron absorption coefficent in barn per electron\n",
    "# 1 b=10^(-24) cm^2\n",
    "#solution:\n",
    "uCu=ue*29;#atomic absorbtion coefficient in b/atom\n",
    "umCu=(6.022*10**23*uCu*10**-24)/63; # mass absorbtion coefficient in cm^2/g\n",
    "ulCu=umCu*density1;# linear absorption coefficient in cm^-1\n",
    "# we know that, i2=i1*exp(ulCu*x)\n",
    "x=math.log(i1/i2)/(ulCu);# thickness of the copper plate\n",
    "print\"\\n The thickness of copper nedded to reduce the intensity of the radiation in cm is =\",round(x,3)"
   ]
  },
  {
   "cell_type": "markdown",
   "metadata": {},
   "source": [
    "##example 11.6;pg no: 147"
   ]
  },
  {
   "cell_type": "code",
   "execution_count": 1,
   "metadata": {
    "collapsed": false
   },
   "outputs": [
    {
     "name": "stdout",
     "output_type": "stream",
     "text": [
      "Example 11.6, Page:147  \n",
      " \n",
      "\n",
      "\n",
      " The biological efective dose for alpha particles in Sv is =  6.0\n",
      "\n",
      " The biological efective dose for alpha particles in rem is =  600.0\n",
      "\n",
      " \n",
      " The biological efective dose for thermal neutrons in Sv is =  1.5\n",
      "\n",
      " The biological efective dose for thermal neutrons in rem is =  150.0\n",
      "\n",
      " \n",
      " The biological efective dose for gamma particles in Sv is =  0.6\n",
      "\n",
      " The biological efective dose for gamma particles in rem is =  60.0\n"
     ]
    }
   ],
   "source": [
    "#cal of biological efective dose for gamma particles\n",
    "#intiation of all variables\n",
    "# Chapter 11\n",
    "print\"Example 11.6, Page:147  \\n \\n\"\n",
    "#Given:\n",
    "# Relative biological effectiveness(RBE)\n",
    "a7=10;# for alpha partical\n",
    "a6=1;#for gamma radiations\n",
    "tn=2.5;# for thermal neutrons\n",
    "g=1;# for gamma radiation\n",
    "rd=0.6;#radiation dose in gray\n",
    "#Formulas\n",
    "#1.The Rontgen equivalent mammal (REM)=RBE*rads\n",
    "#2.The sievert is the SI unit for REM= RBE*grays\n",
    "#3. 1 gray(Gy)=100 rads\n",
    "#Solution:\n",
    "# part (a) alpha particles\n",
    "a1=a7*rd# biological efective dose in Sv\n",
    "a2=a1*100;# biological efective dose in rem\n",
    "print\"\\n The biological efective dose for alpha particles in Sv is = \",a1\n",
    "print\"\\n The biological efective dose for alpha particles in rem is = \",a2\n",
    "# part (b) thermal neutrons\n",
    "tn1=tn*rd# biological efective dose in Sv\n",
    "tn2=tn1*100;# biological efective dose in rem\n",
    "print\"\\n \\n The biological efective dose for thermal neutrons in Sv is = \",tn1\n",
    "print\"\\n The biological efective dose for thermal neutrons in rem is = \",tn2\n",
    "# part (c) gamma particles\n",
    "g1=a6*rd# biological efective dose in Sv\n",
    "g2=g1*100;# biological efective dose in rem\n",
    "print\"\\n \\n The biological efective dose for gamma particles in Sv is = \",g1\n",
    "print\"\\n The biological efective dose for gamma particles in rem is = \",g2"
   ]
  },
  {
   "cell_type": "markdown",
   "metadata": {},
   "source": [
    "##example 11.7;pg no: 148"
   ]
  },
  {
   "cell_type": "code",
   "execution_count": 7,
   "metadata": {
    "collapsed": false
   },
   "outputs": [
    {
     "name": "stdout",
     "output_type": "stream",
     "text": [
      "Example 11.7, Page:148  \n",
      " \n",
      "\n",
      "\n",
      " The thickness of lead nedded to reduce the intensity of the radiation in cm is = 13.26\n",
      "\n",
      " \n",
      " The thickness of lead nedded to reduce the intensity of the radiation in cm is = 31.38\n",
      "\n",
      " \n",
      " The thickness of lead nedded to reduce the intensity of the radiation in cm is = 1.21\n"
     ]
    }
   ],
   "source": [
    "#cal of thickness of lead nedded\n",
    "#intiation of all variables\n",
    "# Chapter 11\n",
    "print\"Example 11.7, Page:148  \\n \\n\"\n",
    "#Given:\n",
    "import math\n",
    "density1=11.35;# density of copper\n",
    "l=6.022*10**23;# avogadro constant\n",
    "ue=0.211;# electron absorption coefficent in barn per electron\n",
    "# 1 b=10^(-24) cm^2\n",
    "#solution:\n",
    "uPb=ue*82;#atomic absorbtion coefficient in b/atom\n",
    "umPb=(6.022*10**23*uPb*10**-24)/207.2; # mass absorbtion coefficient in cm^2/g\n",
    "ulPb=umPb*density1;# linear absorption coefficient in cm^-1\n",
    "# we know that, i2=i1*exp(ulCu*x)\n",
    "# Case (i) from 0.1 Gy/min to 3.1 mGy/h\n",
    "i1=6;# in Gy/h\n",
    "i2=3.1*10**-3;#in Gy/h\n",
    "x=math.log(i1/i2)/(ulPb);# thickness of the lead plate\n",
    "print\"\\n The thickness of lead nedded to reduce the intensity of the radiation in cm is =\",round(x,2)\n",
    "# Case (ii) from 100 Gy/min to 0.1 mGy/h\n",
    "j1=6000;# in Gy/h\n",
    "j2=0.1*10**-3;# in Gy/h\n",
    "y=math.log(j1/j2)/(ulPb);# thickness of the lead plate\n",
    "print\"\\n \\n The thickness of lead nedded to reduce the intensity of the radiation in cm is =\",round(y,2)\n",
    "# Case (iii) half thickness\n",
    "z=(0.693)/ulPb;# thickness of the lead plate\n",
    "print\"\\n \\n The thickness of lead nedded to reduce the intensity of the radiation in cm is =\",round(z,2)"
   ]
  },
  {
   "cell_type": "markdown",
   "metadata": {},
   "source": [
    "##example 11.8;pg no: 148"
   ]
  },
  {
   "cell_type": "code",
   "execution_count": 8,
   "metadata": {
    "collapsed": false
   },
   "outputs": [
    {
     "name": "stdout",
     "output_type": "stream",
     "text": [
      "Example 11.8, Page:148  \n",
      " \n",
      "\n",
      "\n",
      " The Z/A value for Carbontetrachloride is =  0.481\n",
      "\n",
      " \n",
      " The Z/A value for acetic acid is =  0.533\n",
      "\n",
      " \n",
      " The Z/A value for Cyclohexane is =  0.571\n"
     ]
    }
   ],
   "source": [
    "#cal of  Z/A value for Carbontetrachloride,acetic acid,Cyclohexane\n",
    "#intiation of all variables\n",
    "# Chapter 11\n",
    "print\"Example 11.8, Page:148  \\n \\n\"\n",
    "# To find:\n",
    "#(a)Z/A value for Carbontetrachloride\n",
    "#(b)Z/A value for acetic acid\n",
    "#(c)Z/A value for Cyclohexane\n",
    "#Formula:\n",
    "#(Z/A) for  compound = (summation of Z of all the atoms)/ molecular weight of compound\n",
    "#solution:\n",
    "# Part (a) CCl4\n",
    "z1=(6.+4.*17.)/154.;# Z/A value for Carbontetrachloride\n",
    "z2=(2.*6.+4.*1.+2.*8.)/60.;# Z/A value for acetic acid\n",
    "z3=(6.*6.+12.*1.)/84.;# Z/A value for Cyclohexane\n",
    "print\"\\n The Z/A value for Carbontetrachloride is = \",round(z1,3)\n",
    "print\"\\n \\n The Z/A value for acetic acid is = \",round(z2,3)\n",
    "print\"\\n \\n The Z/A value for Cyclohexane is = \",round(z3,3)"
   ]
  },
  {
   "cell_type": "markdown",
   "metadata": {},
   "source": [
    "##example 11.9;pg no: 149"
   ]
  },
  {
   "cell_type": "code",
   "execution_count": 9,
   "metadata": {
    "collapsed": false
   },
   "outputs": [
    {
     "name": "stdout",
     "output_type": "stream",
     "text": [
      "Example 11.9, Page:149  \n",
      " \n",
      "\n",
      "The dose absorbed by sodium periodate in 3 h is = (Gy) 313.94\n"
     ]
    }
   ],
   "source": [
    "#cal of dose absorbed by sodium periodate\n",
    "#intiation of all variables\n",
    "# Chapter 11\n",
    "print\"Example 11.9, Page:149  \\n \\n\"\n",
    "#Given:\n",
    "dose1=2.15# in Gy/min\n",
    "# Z values\n",
    "Na=11.;\n",
    "I=53.;\n",
    "O=8.;\n",
    "# A values\n",
    "mNa=23.;\n",
    "mI=127.;\n",
    "mO=16.;\n",
    "z2=0.553;#Z/A for fricke solution \n",
    "# Solution:\n",
    "z1=(11.+53.+8.*4.)/(127.+23.+16.*4.);# Z/A value for sodium periodate(Z/A NaIO4)\n",
    "# Formula : D(NaIo4)*(Z/A Fricke)=D(Fricke)*(Z/A NaIO4)\n",
    "dose2=(dose1*z1)/z2;# in Gy/min\n",
    "# for 3 hours\n",
    "Dose=dose2*180.;# in Gy\n",
    "print\"The dose absorbed by sodium periodate in 3 h is = (Gy)\",round(Dose,2)\n",
    "# Note: There is correction in the value of (Z/A NaIO4) calculated in the book. The actual value comes out to be 0.44859"
   ]
  },
  {
   "cell_type": "markdown",
   "metadata": {},
   "source": [
    "##example 11.10;pg no: 149"
   ]
  },
  {
   "cell_type": "code",
   "execution_count": 10,
   "metadata": {
    "collapsed": false
   },
   "outputs": [
    {
     "name": "stdout",
     "output_type": "stream",
     "text": [
      "Example 11.10, Page:149  \n",
      " \n",
      "\n",
      "\n",
      " The dose absorbed by sodium periodate in 6 h is = (Gy) 1282.813\n",
      "\n",
      " \n",
      " The dose absorbed by sodium periodate in 6 h is = (Gy) 1170.041\n",
      "\n",
      " \n",
      " The dose absorbed by sodium periodate in 6 h is = (Gy) 1113.56\n"
     ]
    }
   ],
   "source": [
    "#cal of  dose absorbed by sodium periodate\n",
    "#intiation of all variables\n",
    "# Chapter 11\n",
    "print\"Example 11.10, Page:149  \\n \\n\"\n",
    "#Given:\n",
    "dose=4.06# in Gy/min\n",
    "z=0.553;#Z/A for fricke solution \n",
    "# Formula : D(NaIo4)*(Z/A Fricke)=D(Fricke)*(Z/A NaIO4)\n",
    "# Solution:\n",
    "# Part(a) Chloroform\n",
    "z1=58./119.5;# Z/A value for Chloroform\n",
    "dose1=dose*z1/z;\n",
    "Dose1=dose1*360.;# for 6 hours # in Gy\n",
    "print\"\\n The dose absorbed by sodium periodate in 6 h is = (Gy)\",round(Dose1,3)\n",
    "# Part(b) Bromoform\n",
    "z2=112./253.;# Z/A value for Bromoform\n",
    "dose2=dose*z2/z;\n",
    "Dose2=dose2*360.;# for 6 hours # in Gy\n",
    "print\"\\n \\n The dose absorbed by sodium periodate in 6 h is = (Gy)\",round(Dose2,3)\n",
    "# Part(c) Iodoform\n",
    "z3=166./394.;# Z/A value for Iodoform\n",
    "dose3=dose*z3/z;\n",
    "Dose3=dose3*360.;# for 6 hours # in Gy\n",
    "print\"\\n \\n The dose absorbed by sodium periodate in 6 h is = (Gy)\",round(Dose3,2)"
   ]
  },
  {
   "cell_type": "markdown",
   "metadata": {},
   "source": [
    "##example 11.11;pg no: 150"
   ]
  },
  {
   "cell_type": "code",
   "execution_count": 11,
   "metadata": {
    "collapsed": false
   },
   "outputs": [
    {
     "name": "stdout",
     "output_type": "stream",
     "text": [
      "Example 11.11, Page:150  \n",
      " \n",
      "\n",
      "The fraction of the energy absorbed by ethanol =  0.5145\n"
     ]
    }
   ],
   "source": [
    "#cal of fraction of the energy absorbed by ethanol\n",
    "#intiation of all variables\n",
    "# Chapter 11\n",
    "print\"Example 11.11, Page:150  \\n \\n\"\n",
    "# To find:\n",
    "#Fraction of the energy absorbed by ethanol\n",
    "#Formula:\n",
    "#(Z/A) for  compound = (summation of Z of all the atoms)/ molecular weight of compound\n",
    "z1=26./46.;# Z/A value for ethanl\n",
    "z2=32./60.;# Z/A value for acetic acid\n",
    "Deth=z1/(z1+z2);\n",
    "# Note that the dose absorbed by each component is proportional to its Z/A in the total\n",
    "print\"The fraction of the energy absorbed by ethanol = \",round(Deth,4)"
   ]
  },
  {
   "cell_type": "markdown",
   "metadata": {},
   "source": [
    "##example 11.12;pg no: 150"
   ]
  },
  {
   "cell_type": "code",
   "execution_count": 12,
   "metadata": {
    "collapsed": false
   },
   "outputs": [
    {
     "name": "stdout",
     "output_type": "stream",
     "text": [
      "Example 11.12, Page:150  \n",
      " \n",
      "\n",
      "The value of G(HCL) in the radiolysis of CHCl3 is =  1242.0\n"
     ]
    }
   ],
   "source": [
    "#cal of value of G(HCL) in the radiolysis of CHCl3\n",
    "#intiation of all variables\n",
    "# Chapter 11\n",
    "print\"Example 11.12, Page:150  \\n \\n\"\n",
    "#Given:\n",
    "density1=1.48;# for chloroform\n",
    "density2=1.024;# for fricke solution\n",
    "mole=30*10**-6;# moles of HCl\n",
    "l=6.023*10**23;# avogadro constant\n",
    "e=2174;#extension coefficient\n",
    "OD=0.5633;\n",
    "d=1;# cell path in cm\n",
    "# G(Fe+3)=15.5 ions/100 eV\n",
    "# Solution:\n",
    "#HCl produced\n",
    "m1=mole*l;\n",
    "conc=OD*d/e;# in moles/l\n",
    "conc1=conc*l;# molecules in 100 min\n",
    "#This implies amount (conc1) of molecules/l in 10 min for CHCl3 solution will be\n",
    "conc2=conc1/10;\n",
    "# energy that would be absorbed by frickes solution to produce conc1 amount of molecules \n",
    "e1=conc2*100/15.5;# eV/l\n",
    "e2=e1/100;# eV per 10 ml\n",
    "# we know that energy absorbed is proportional to its density\n",
    "e3=e2*density1/density2;# in eV\n",
    "#G(HCl)\n",
    "g=m1*100/e3;\n",
    "print\"The value of G(HCL) in the radiolysis of CHCl3 is = \",round(g)"
   ]
  }
 ],
 "metadata": {
  "kernelspec": {
   "display_name": "Python 2",
   "language": "python",
   "name": "python2"
  },
  "language_info": {
   "codemirror_mode": {
    "name": "ipython",
    "version": 2
   },
   "file_extension": ".py",
   "mimetype": "text/x-python",
   "name": "python",
   "nbconvert_exporter": "python",
   "pygments_lexer": "ipython2",
   "version": "2.7.9"
  }
 },
 "nbformat": 4,
 "nbformat_minor": 0
}
