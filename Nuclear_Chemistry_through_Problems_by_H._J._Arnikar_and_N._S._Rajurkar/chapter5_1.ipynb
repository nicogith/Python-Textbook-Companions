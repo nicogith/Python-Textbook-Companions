{
 "cells": [
  {
   "cell_type": "markdown",
   "metadata": {},
   "source": [
    "# chapter 5:nuclear reactions"
   ]
  },
  {
   "cell_type": "markdown",
   "metadata": {},
   "source": [
    "##example 5.1;pg no:80"
   ]
  },
  {
   "cell_type": "code",
   "execution_count": 1,
   "metadata": {
    "collapsed": false
   },
   "outputs": [
    {
     "name": "stdout",
     "output_type": "stream",
     "text": [
      "Example 5.1, Page:80  \n",
      " \n",
      "\n",
      "The excitation energy for Al*(26) in MeV= and that of Na*(22) in MeV= 18.79 65.4993\n"
     ]
    }
   ],
   "source": [
    "#cal of excitation energy for Al and Na\n",
    "#intiation of all variables\n",
    "# Chapter 5\n",
    "print\"Example 5.1, Page:80  \\n \\n\"\n",
    "# Given:\n",
    "mMg=23.985045;\n",
    "md=2.014102;\n",
    "mAl=25.986900;\n",
    "mNe=19.99244;\n",
    "mNa=21.944;\n",
    "# Solution:\n",
    "# for compound nucleus Al*(26)\n",
    "KE1=(24./26.)*8.;\n",
    "BE1=(mMg+md-mAl)*931.;# in MeV\n",
    "EE1=BE1+KE1;\n",
    "# for compound nucleus Na*(22)\n",
    "KE2=(20./22.)*8.;\n",
    "BE2=(mNe+md-mNa)*931.;# in MeV\n",
    "EE2=BE2+KE2;\n",
    "print\"The excitation energy for Al*(26) in MeV= and that of Na*(22) in MeV=\",round(EE1,2),round(EE2,4)"
   ]
  },
  {
   "cell_type": "markdown",
   "metadata": {},
   "source": [
    "##example 5.2;pg no:81"
   ]
  },
  {
   "cell_type": "code",
   "execution_count": 2,
   "metadata": {
    "collapsed": false
   },
   "outputs": [
    {
     "name": "stdout",
     "output_type": "stream",
     "text": [
      "Example 5.2, Page:81  \n",
      " \n",
      "\n",
      "The energy of protons scattered through an angle of 90 deg. in MeV= 3.91\n",
      "\n",
      " \n",
      " The energy of proton observed at 90 deg. after they have excited the lithium to a level of 0.48 MeV is = MeV 4.52\n"
     ]
    }
   ],
   "source": [
    "#cal of energy of protons\n",
    "#intiation of all variables\n",
    "# Chapter 5\n",
    "print\"Example 5.2, Page:81  \\n \\n\"\n",
    "# Given:\n",
    "import math\n",
    "E0=5.;# in MeV\n",
    "m=1.;\n",
    "M=7.\n",
    "\n",
    "# Solution:\n",
    "\n",
    "Erecoil=(4*5*m*M*((math.sin(45*3.14/180))**(2)))/((m+M)**2);\n",
    "Escat=E0-Erecoil;\n",
    "\n",
    "print\"The energy of protons scattered through an angle of 90 deg. in MeV=\",round(Escat,2)\n",
    "Eresi=E0-0.48;\n",
    "\n",
    "Erecoil2=(14/64)*Eresi;\n",
    "Escat2=Eresi-Erecoil2;\n",
    "print\"\\n \\n The energy of proton observed at 90 deg. after they have excited the lithium to a level of 0.48 MeV is = MeV\",Escat2"
   ]
  },
  {
   "cell_type": "markdown",
   "metadata": {},
   "source": [
    "##example 5.3;pg no:81"
   ]
  },
  {
   "cell_type": "code",
   "execution_count": 3,
   "metadata": {
    "collapsed": false
   },
   "outputs": [
    {
     "name": "stdout",
     "output_type": "stream",
     "text": [
      "Example 5.3, Page:81  \n",
      " \n",
      "\n",
      "The mass difference between A & B in Uu= 1678.0\n"
     ]
    }
   ],
   "source": [
    "#cal of  mass difference between A & B\n",
    "#intiation of all variables\n",
    "# Chapter 5\n",
    "print\"Example 5.3, Page:81  \\n \\n\"\n",
    "# Given:\n",
    "th=2.4;# in Mev\n",
    "z=0.0009;# mp-mn in atomic mass unit\n",
    "# Solution:\n",
    "x=-(2.4/931.);#assuming no barrier operates\n",
    "y=x+z;\n",
    "print\"The mass difference between A & B in Uu=\", round(-y*10**6)"
   ]
  },
  {
   "cell_type": "markdown",
   "metadata": {},
   "source": [
    "##example 5.4;pg no:82"
   ]
  },
  {
   "cell_type": "code",
   "execution_count": 4,
   "metadata": {
    "collapsed": false
   },
   "outputs": [
    {
     "name": "stdout",
     "output_type": "stream",
     "text": [
      "Example 5.4, Page:82  \n",
      " \n",
      "\n",
      "The energy required for (a) & (b) are = respectively in MeV 1875.55 937.77\n"
     ]
    }
   ],
   "source": [
    "#cal of energy required\n",
    "#intiation of all variables\n",
    "# Chapter 5\n",
    "print\"Example 5.4, Page:82  \\n \\n\"\n",
    "# Given:\n",
    "mp=1.007277;\n",
    "# Solution:\n",
    "E1=2*mp*931;# in MeV / part(a)\n",
    "E2=E1/2;# in MeV / part (b)\n",
    "print\"The energy required for (a) & (b) are = respectively in MeV\",round(E1,2),round(E2,2) "
   ]
  },
  {
   "cell_type": "markdown",
   "metadata": {},
   "source": [
    "##example 5.5;pg no:82"
   ]
  },
  {
   "cell_type": "code",
   "execution_count": 5,
   "metadata": {
    "collapsed": false
   },
   "outputs": [
    {
     "name": "stdout",
     "output_type": "stream",
     "text": [
      "Example 5.5, Page:82  \n",
      " \n",
      "\n",
      "The Q-values are  in MeV for B(9) & F(19) reactions respectively -1.853 -2.45\n"
     ]
    }
   ],
   "source": [
    "#cal of  Q-values\n",
    "#intiation of all variables\n",
    "# Chapter 5\n",
    "print\"Example 5.5, Page:82  \\n \\n\"\n",
    "#Given\n",
    "E1=2.059;\n",
    "E2=2.59;\n",
    "M1=9.;\n",
    "M2=18.;\n",
    "m=1.;\n",
    "# Solution\n",
    "Q1=-E1*(M1/(m+M1)); # part(a)\n",
    "Q2=-E2*(M2/(m+M2)); # part(b)\n",
    "print\"The Q-values are  in MeV for B(9) & F(19) reactions respectively\",round(Q1,3),round(Q2,2)"
   ]
  },
  {
   "cell_type": "markdown",
   "metadata": {},
   "source": [
    "##example 5.6;pg no:82"
   ]
  },
  {
   "cell_type": "code",
   "execution_count": 6,
   "metadata": {
    "collapsed": false
   },
   "outputs": [
    {
     "name": "stdout",
     "output_type": "stream",
     "text": [
      "Example 5.6, Page:82  \n",
      " \n",
      "\n",
      "The thershold energies are  in MeV for B(12) & N(13) reactions respectively 1.343 3.485\n"
     ]
    }
   ],
   "source": [
    "#cal of thershold energies\n",
    "#intiation of all variables\n",
    "# Chapter 5\n",
    "print\"Example 5.6, Page:82  \\n \\n\"\n",
    "# Given:\n",
    "Q1=1.136;\n",
    "Q2=3.236;\n",
    "M1=11.;\n",
    "M2=13.;\n",
    "m1=2.;\n",
    "m2=1.;\n",
    "# Solution\n",
    "E1=Q1*((m1+M1)/M1); # part(a)\n",
    "E2=Q2*((m2+M2)/M2); # part(b)\n",
    "print\"The thershold energies are  in MeV for B(12) & N(13) reactions respectively\",round(E1,3),round(E2,3)"
   ]
  },
  {
   "cell_type": "markdown",
   "metadata": {},
   "source": [
    "##example 5.7;pg no:82"
   ]
  },
  {
   "cell_type": "code",
   "execution_count": 7,
   "metadata": {
    "collapsed": false
   },
   "outputs": [
    {
     "name": "stdout",
     "output_type": "stream",
     "text": [
      "Example 5.7, Page:82  \n",
      " \n",
      "\n",
      "The binding energy of last 2 neutron in part(a) and part(b) are =  in MeV respectively 20.37 20.5\n"
     ]
    }
   ],
   "source": [
    "#cal of The binding energy of last 2 neutron\n",
    "#intiation of all variables\n",
    "# Chapter 5\n",
    "print\"Example 5.7, Page:82  \\n \\n\"\n",
    "# Given:\n",
    "\n",
    "Q1=9.28;# in Mev\n",
    "Q2=0.21;# in Mev\n",
    "Q3=7.25;# in Mev\n",
    "Q4=3.63;# in Mev\n",
    "mn=1.008665;\n",
    "md=1.995311;# mass difference between Fe(56) & Fe(54)\n",
    "# Solution:\n",
    "E1=Q1+Q2+Q3+Q4;# part (a)\n",
    "E2=(2*mn-md)*931;# part (b)\n",
    "print\"The binding energy of last 2 neutron in part(a) and part(b) are =  in MeV respectively\",round(E1,2),round(E2,2)"
   ]
  },
  {
   "cell_type": "markdown",
   "metadata": {},
   "source": [
    "##example 5.8;pg no:83"
   ]
  },
  {
   "cell_type": "code",
   "execution_count": 8,
   "metadata": {
    "collapsed": false
   },
   "outputs": [
    {
     "name": "stdout",
     "output_type": "stream",
     "text": [
      "Example 5.8, Page:83  \n",
      " \n",
      "\n",
      "The threshold energy is in MeV for O(17) reaction 1.543\n"
     ]
    }
   ],
   "source": [
    "#cal of threshold energy\n",
    "#intiation of all variables\n",
    "# Chapter 5\n",
    "print\"Example 5.8, Page:83  \\n \\n\"\n",
    "# Given:\n",
    "Q1=1.2;\n",
    "M1=14.;\n",
    "m1=4.;\n",
    "# Solution:\n",
    "E1=Q1*((m1+M1)/M1);\n",
    "print\"The threshold energy is in MeV for O(17) reaction\",round(E1,3)"
   ]
  },
  {
   "cell_type": "markdown",
   "metadata": {},
   "source": [
    "##example 5.9;pg no:83"
   ]
  },
  {
   "cell_type": "code",
   "execution_count": 9,
   "metadata": {
    "collapsed": false
   },
   "outputs": [
    {
     "name": "stdout",
     "output_type": "stream",
     "text": [
      "Example 5.9, Page:83  \n",
      " \n",
      "\n",
      "The threshold energy is in MeV for C(13) reaction 3.485\n"
     ]
    }
   ],
   "source": [
    "#cal of threshold energy\n",
    "#intiation of all variables\n",
    "# Chapter 5\n",
    "print\"Example 5.9, Page:83  \\n \\n\"\n",
    "# Given:\n",
    "Q1=3.236;\n",
    "M1=13.;\n",
    "m1=1.;\n",
    "# Solution:\n",
    "E1=Q1*((m1+M1)/M1);\n",
    "print\"The threshold energy is in MeV for C(13) reaction\",round(E1,3)"
   ]
  },
  {
   "cell_type": "markdown",
   "metadata": {},
   "source": [
    "##example 5.10;pg no:84"
   ]
  },
  {
   "cell_type": "code",
   "execution_count": 10,
   "metadata": {
    "collapsed": false
   },
   "outputs": [
    {
     "name": "stdout",
     "output_type": "stream",
     "text": [
      "Example 5.10, Page:84  \n",
      " \n",
      "\n",
      "The cs area required will be in b= 3.836\n"
     ]
    }
   ],
   "source": [
    "#cal of cs area required\n",
    "#intiation of all variables\n",
    "# Chapter 5\n",
    "print\"Example 5.10, Page:84  \\n \\n\"\n",
    "# Given:\n",
    "import math\n",
    "A1=3836;#in barns\n",
    "E1=1;# in eV\n",
    "E2=10**6# in eV\n",
    "\n",
    "# Solution:\n",
    "vr=math.sqrt(E2/E1);\n",
    "A2=A1/vr;\n",
    "print\"The cs area required will be in b=\", A2"
   ]
  },
  {
   "cell_type": "markdown",
   "metadata": {},
   "source": [
    "##example 5.11;pg no:84"
   ]
  },
  {
   "cell_type": "code",
   "execution_count": 11,
   "metadata": {
    "collapsed": false
   },
   "outputs": [
    {
     "name": "stdout",
     "output_type": "stream",
     "text": [
      "Example 5.11, Page:84  \n",
      " \n",
      "\n",
      "The activity in 10^7 dis s^-1 g^-1 NaCl= 6.13\n"
     ]
    }
   ],
   "source": [
    "#cal of activity\n",
    "#intiation of all variables\n",
    "# Chapter 5\n",
    "print\"Example 5.11, Page:84  \\n \\n\"\n",
    "# Given:\n",
    "a=0.56*10.**-24.; # area\n",
    "flux=10.**13.;\n",
    "# Solution:\n",
    "A=6.022*10.**23.*10.**-3.*2.5/(58.5);\n",
    "k=A*flux*0.56*10.**-24.;\n",
    "y=(0.5)**(4./5.);\n",
    "activity=k*(1-y);\n",
    "print\"The activity in 10^7 dis s^-1 g^-1 NaCl=\",round(activity/10**7,2)"
   ]
  },
  {
   "cell_type": "markdown",
   "metadata": {},
   "source": [
    "##example 5.12;pg no:84"
   ]
  },
  {
   "cell_type": "code",
   "execution_count": 12,
   "metadata": {
    "collapsed": false
   },
   "outputs": [
    {
     "name": "stdout",
     "output_type": "stream",
     "text": [
      "Example 5.12, Page:84  \n",
      " \n",
      "\n",
      "The cros section area in (b)= 3762.66\n"
     ]
    }
   ],
   "source": [
    "#cal of  cros section area\n",
    "#intiation of all variables\n",
    "# Chapter 5\n",
    "print\"Example 5.12, Page:84  \\n \\n\"\n",
    "# Given:\n",
    "w=0.1189;\n",
    "flux=10**16;\n",
    "# Solution:\n",
    "A=w/(flux*3.16*10**7);# in m^2\n",
    "A1=A*10000/(10**-24);# in Barns\n",
    "print\"The cros section area in (b)=\",round(A1,2)"
   ]
  },
  {
   "cell_type": "markdown",
   "metadata": {},
   "source": [
    "##example 5.13;pg no:85"
   ]
  },
  {
   "cell_type": "code",
   "execution_count": 13,
   "metadata": {
    "collapsed": false
   },
   "outputs": [
    {
     "name": "stdout",
     "output_type": "stream",
     "text": [
      "Example 5.13, Page:85  \n",
      " \n",
      "\n",
      "The cros section area in (b)= 98.61\n",
      "\n",
      " \n",
      " The saturation activity possible in 10^13 dis s^-1 g^-1= 3.01\n",
      "\n",
      " \n",
      " The activity in 10^12 dis s^-1 g^-1=  6.83\n"
     ]
    }
   ],
   "source": [
    "#cal of  cros section area,activity,saturation activity\n",
    "#intiation of all variables\n",
    "# Chapter 5\n",
    "print\"Example 5.13, Page:85  \\n \\n\"\n",
    "# Given:\n",
    "w=8.52*10**-4;\n",
    "flux=10**18;\n",
    "# Solution:\n",
    "\n",
    "A=w/(flux*24*3600);# in m^2\n",
    "A1=A*10000/(10**-24);# in Barns\n",
    "print\"The cros section area in (b)=\", round(A1,2)\n",
    "k=flux*A*6.022*10**23/197;\n",
    "print\"\\n \\n The saturation activity possible in 10^13 dis s^-1 g^-1=\",round(k/10**13,2)\n",
    "y=(0.5)**(0.3704);\n",
    "activity=k*(1-y);\n",
    "print\"\\n \\n The activity in 10^12 dis s^-1 g^-1= \",round(activity/10**12,2)"
   ]
  },
  {
   "cell_type": "markdown",
   "metadata": {},
   "source": [
    "##example 5.14;pg no:85"
   ]
  },
  {
   "cell_type": "code",
   "execution_count": 14,
   "metadata": {
    "collapsed": false
   },
   "outputs": [
    {
     "name": "stdout",
     "output_type": "stream",
     "text": [
      "Example 5.14, Page:85  \n",
      " \n",
      "\n",
      "The activity in 10^12 dis s^-1 g^-1= 1.037\n",
      "The activity in Ci/cm^3 of foil is =  1402.0\n"
     ]
    }
   ],
   "source": [
    "#cal of activity\n",
    "#intiation of all variables\n",
    "# Chapter 5\n",
    "print\"Example 5.14, Page:85  \\n \\n\"\n",
    "# Given:\n",
    "import math\n",
    "a=98.7*10**-24; # area in cm ^2\n",
    "flux=10**16;\n",
    "d=19.3;# density\n",
    "l=0.02;# thickness in cm\n",
    "area=1;# in cm^2\n",
    "# Solution:\n",
    "V=area*l;\n",
    "m=V*d;\n",
    "A=(6.022*10**23*m)/(197);\n",
    "k=A*flux*a;\n",
    "y=math.exp((-0.693*5)/(2.7*24*60));\n",
    "activity=k*(1-y);\n",
    "print\"The activity in 10^12 dis s^-1 g^-1=\",round(activity/10**12,3)\n",
    "# specific activity in Ci/cm^3\n",
    "a1=activity/(3.7*10**10);# in Ci/gold foil\n",
    "a2=a1/V;# in Ci/cm^3 of foil\n",
    "print\"The activity in Ci/cm^3 of foil is = \",round(a2)"
   ]
  },
  {
   "cell_type": "markdown",
   "metadata": {},
   "source": [
    "##example 5.15;pg no:86"
   ]
  },
  {
   "cell_type": "code",
   "execution_count": 15,
   "metadata": {
    "collapsed": false
   },
   "outputs": [
    {
     "name": "stdout",
     "output_type": "stream",
     "text": [
      "Example 5.15, Page:86  \n",
      " \n",
      "\n",
      "The geometric cross-section area are  for Sr(88), Sr(87), Xe(136) & Xe(135) respectively 1.218 1.208 1.628 1.62\n"
     ]
    }
   ],
   "source": [
    "#cal of  geometric cross-section area\n",
    "#intiation of all variables\n",
    "# Chapter 5\n",
    "print\"Example 5.15, Page:86  \\n \\n\"\n",
    "# Given:\n",
    "r0=1.4*10**-15;# in m\n",
    "A1=88;\n",
    "A2=87;\n",
    "A3=136;\n",
    "A4=135;\n",
    "# Solution:\n",
    "\n",
    "rSr1=(3.14*(r0*(A1)**(0.33333))**2)/10**-28;# in barns\n",
    "rSr2=(3.14*(r0*(A2)**(0.33333))**2)/10**-28;# in barns\n",
    "rXe1=(3.14*(r0*(A3)**(0.33333))**2)/10**-28;# in barns\n",
    "rXe2=(3.14*(r0*(A4)**(0.33333))**2)/10**-28;# in barns\n",
    "print\"The geometric cross-section area are  for Sr(88), Sr(87), Xe(136) & Xe(135) respectively\",round(rSr1,3),round(rSr2,3),round(rXe1,3),round(rXe2,3)\n"
   ]
  },
  {
   "cell_type": "markdown",
   "metadata": {},
   "source": [
    "##example 5.16;pg no:87"
   ]
  },
  {
   "cell_type": "code",
   "execution_count": 16,
   "metadata": {
    "collapsed": false
   },
   "outputs": [
    {
     "name": "stdout",
     "output_type": "stream",
     "text": [
      "Example 5.16, Page:87  \n",
      " \n",
      "\n",
      " The activity in mCi is = 0.042\n",
      " The activity in M Bq is =  1.564\n"
     ]
    }
   ],
   "source": [
    "#cal of activity in mCi,Bq\n",
    "#intiation of all variables\n",
    "# Chapter 5\n",
    "print\"Example 5.16, Page:87  \\n \\n\"\n",
    "# Given:\n",
    "m=4*10**-3;# in gms\n",
    "flux=1.3*10**14;\n",
    "a=19.6*10**-24;# in cm^2\n",
    "# Solution:\n",
    "N=(m/59)*6.022*10**23;\n",
    "A=N*flux*a*3600;# atoms\n",
    "k=0.693/(5.25*3.16*10**7);# s^-1\n",
    "A1=k*A;# Activity in dps\n",
    "A2=(A1)/(3.7*10**10);# in Ci\n",
    "A3=(A1*10**3)/(3.7*10**10);# in mCi\n",
    "A4=A2*37*10**8;# in Bq\n",
    "print\" The activity in mCi is =\",round(A3,3)\n",
    "print\" The activity in M Bq is = \",round(A4/10**5,3)"
   ]
  },
  {
   "cell_type": "markdown",
   "metadata": {},
   "source": [
    "##example 5.17;pg no:88"
   ]
  },
  {
   "cell_type": "code",
   "execution_count": 17,
   "metadata": {
    "collapsed": false
   },
   "outputs": [
    {
     "name": "stdout",
     "output_type": "stream",
     "text": [
      "Example 5.17, Page:88  \n",
      " \n",
      "\n",
      "The thickness of Cd foil in (cm)= 0.0406\n"
     ]
    }
   ],
   "source": [
    "#cal of thickness of Cd foil\n",
    "#intiation of all variables\n",
    "# Chapter 5\n",
    "print\"Example 5.17, Page:88  \\n \\n\"\n",
    "# Given:\n",
    "import math\n",
    "a=2.44*1000*10**-24;# in barns\n",
    "d=8.64;# g/cm^3\n",
    "# Solution:\n",
    "n=(d*6.02*10**23)/112;# atoms/cm^2\n",
    "x=(math.log(100))/(n*a);# in cm\n",
    "print\"The thickness of Cd foil in (cm)=\",round(x,4)"
   ]
  },
  {
   "cell_type": "markdown",
   "metadata": {},
   "source": [
    "##example 5.18;pg no:89"
   ]
  },
  {
   "cell_type": "code",
   "execution_count": 18,
   "metadata": {
    "collapsed": false
   },
   "outputs": [
    {
     "name": "stdout",
     "output_type": "stream",
     "text": [
      "Example 5.18, Page:89  \n",
      " \n",
      "\n",
      "The thickness of B foil in (cm)= 0.0095\n"
     ]
    }
   ],
   "source": [
    "#cal of excitation energy for Al and Na\n",
    "#intiation of all variables\n",
    "# Chapter 5\n",
    "print\"Example 5.18, Page:89  \\n \\n\"\n",
    "# Given:\n",
    "import math\n",
    "a=3.8*1000*10**-24;# in barns\n",
    "Ir=0.004;# I0/Ix\n",
    "d=2.55;# g/cm^3\n",
    "\n",
    "# Solution:\n",
    "n=(d*6.02*10**23)/10;# atoms/cm^2\n",
    "y=(Ir)**-1;\n",
    "x=math.log(y)/(n*a);# in cm\n",
    "print\"The thickness of B foil in (cm)=\",round(x,4)"
   ]
  },
  {
   "cell_type": "markdown",
   "metadata": {},
   "source": [
    "##example 5.19;pg no:89"
   ]
  },
  {
   "cell_type": "code",
   "execution_count": 19,
   "metadata": {
    "collapsed": false
   },
   "outputs": [
    {
     "name": "stdout",
     "output_type": "stream",
     "text": [
      "Example 5.19, Page:89  \n",
      " \n",
      "\n",
      "\n",
      " The excitation energy of compound nucleus in (MeV)= 9.66\n"
     ]
    }
   ],
   "source": [
    "#cal of excitation energy \n",
    "#intiation of all variables\n",
    "# Chapter 5\n",
    "print\"Example 5.19, Page:89  \\n \\n\"\n",
    "# Given:\n",
    "E1=6;# MeV\n",
    "mAl=26.981535;\n",
    "malpha=4.002604;\n",
    "mP=30.973763;\n",
    "# Solution:\n",
    "KE=E1*(27/31);# in MeV\n",
    "BE=(mAl+malpha-mP)*931;# in MeV\n",
    "Ex=KE+BE;\n",
    "print\"\\n The excitation energy of compound nucleus in (MeV)=\",round(Ex,2)"
   ]
  },
  {
   "cell_type": "markdown",
   "metadata": {},
   "source": [
    "##example 5.20;pg no:90"
   ]
  },
  {
   "cell_type": "code",
   "execution_count": 20,
   "metadata": {
    "collapsed": false
   },
   "outputs": [
    {
     "name": "stdout",
     "output_type": "stream",
     "text": [
      "Example 5.20, Page:90  \n",
      " \n",
      "\n",
      "The excitation energy of compound nucleus in (MeV)= 4.63\n",
      "The excitation energy of compound nucleus in (MeV)= 6.022\n"
     ]
    }
   ],
   "source": [
    "#cal of excitation energy \n",
    "#intiation of all variables\n",
    "# Chapter 5\n",
    "print\"Example 5.20, Page:90  \\n \\n\"\n",
    "# Given:\n",
    "E1=1.4;# MeV\n",
    "mBi=208.980417;\n",
    "mn=1.008665;\n",
    "mBI=209.984110;\n",
    "# Solution:part(a)\n",
    "\n",
    "KE1=0.;# in MeV\n",
    "BE1=(mBi+mn-mBI)*931.;# in MeV\n",
    "Ex1=KE1+BE1;\n",
    "print\"The excitation energy of compound nucleus in (MeV)=\",round(Ex1,2)\n",
    "# Solution:part(b)\n",
    "KE2=E1*(209./210.);# in MeV\n",
    "BE2=(mBi+mn-mBI)*931.;# in MeV\n",
    "Ex2=KE2+BE2;\n",
    "print\"The excitation energy of compound nucleus in (MeV)=\",round(Ex2,3)"
   ]
  },
  {
   "cell_type": "markdown",
   "metadata": {},
   "source": [
    "##example 5.21;pg no:90"
   ]
  },
  {
   "cell_type": "code",
   "execution_count": 21,
   "metadata": {
    "collapsed": false
   },
   "outputs": [
    {
     "name": "stdout",
     "output_type": "stream",
     "text": [
      "Example 5.21, Page:90  \n",
      " \n",
      "\n",
      "The resonance in part(a) will occur at =(MeV) 1.668\n",
      "The resonance in part(b) will occur at (MeV)= 2.955\n"
     ]
    }
   ],
   "source": [
    "#cal of resonance\n",
    "#intiation of all variables\n",
    "# Chapter 5\n",
    "print\"Example 5.21, Page:90  \\n \\n\"\n",
    "Ex=12.8;# MeV\n",
    "mB=10.012939;\n",
    "malpha=4.002604;\n",
    "mN=14.003074;\n",
    "mC=12.00;\n",
    "md=2.014102;\n",
    "# Solution:part(a)\n",
    "\n",
    "BE1=(mB+malpha-mN)*931;# in MeV\n",
    "KE1=Ex-BE1;\n",
    "E1=KE1*(14./10.);\n",
    "print\"The resonance in part(a) will occur at =(MeV)\",round(E1,3)\n",
    "\n",
    "# Solution:part(b)\n",
    "BE2=(mC+md-mN)*931.;# in MeV\n",
    "KE2=Ex-BE2;\n",
    "E2=KE2*(14./12.);\n",
    "print\"The resonance in part(b) will occur at (MeV)=\",round(E2,3)"
   ]
  },
  {
   "cell_type": "markdown",
   "metadata": {},
   "source": [
    "##example 5.22;pg no:91"
   ]
  },
  {
   "cell_type": "code",
   "execution_count": 22,
   "metadata": {
    "collapsed": false
   },
   "outputs": [
    {
     "name": "stdout",
     "output_type": "stream",
     "text": [
      "Example 5.22, Page:91  \n",
      " \n",
      "\n",
      "The resonance frequency in (MHz)= 19.2\n"
     ]
    }
   ],
   "source": [
    "#cal of resonance frequency\n",
    "#intiation of all variables\n",
    "# Chapter 5\n",
    "print\"Example 5.22, Page:91  \\n \\n\"\n",
    "# Given:\n",
    "B=2.5;# tesla\n",
    "q=1.6*10**-19;\n",
    "m=1.66*10**-27;\n",
    "# Solution:\n",
    "\n",
    "f=(B*q*10**-6)/(2*3.14*2*m);\n",
    "print\"The resonance frequency in (MHz)=\",round(f,1)"
   ]
  },
  {
   "cell_type": "markdown",
   "metadata": {},
   "source": [
    "##example 5.23;pg no:91"
   ]
  },
  {
   "cell_type": "code",
   "execution_count": 23,
   "metadata": {
    "collapsed": false
   },
   "outputs": [
    {
     "name": "stdout",
     "output_type": "stream",
     "text": [
      "Example 5.23, Page:91  \n",
      " \n",
      "\n",
      "The magnetic field needed to accelerate protons in T= 0.56\n",
      "The magnetic field needed to accelerate N(14) ions in T= 1.31\n"
     ]
    }
   ],
   "source": [
    "#cal of magnetic field needed to accelerate\n",
    "#intiation of all variables\n",
    "# Chapter 5\n",
    "print\"Example 5.23, Page:91  \\n \\n\"\n",
    "# Given:\n",
    "f=8.6*10**6;# in Hz\n",
    "q1=1.6*10**-19;\n",
    "q2=6*1.6*10**-19;\n",
    "m1=1.66*10**-27;\n",
    "m2=14*1.66*10**-27;\n",
    "# Solution:\n",
    "# for proton\n",
    "B1=2*3.14*f*m1/q1;\n",
    "print\"The magnetic field needed to accelerate protons in T=\",round(B1,2)\n",
    "# for N(14) ions\n",
    "B2=2*3.14*f*m2/q2;\n",
    "print\"The magnetic field needed to accelerate N(14) ions in T=\",round(B2,2)"
   ]
  },
  {
   "cell_type": "markdown",
   "metadata": {},
   "source": [
    "##example 5.24;pg no:91"
   ]
  },
  {
   "cell_type": "code",
   "execution_count": 24,
   "metadata": {
    "collapsed": false
   },
   "outputs": [
    {
     "name": "stdout",
     "output_type": "stream",
     "text": [
      "Example 5.24, Page:91  \n",
      " \n",
      "\n",
      "The excitation energy of compound nucleus Si* in MeV= 10.5622\n",
      "The excitation energy of compound nucleus Rb*  in MeV= 12.0756\n"
     ]
    }
   ],
   "source": [
    "#cal of excitation energy of compound nucleus Si and Rb\n",
    "#intiation of all variables\n",
    "# Chapter 5\n",
    "print\"Example 5.24, Page:91  \\n \\n\"\n",
    "E1=2.75;# MeV\n",
    "E2=14;# in MeV\n",
    "mMg=23.985045;\n",
    "malpha=4.00260;\n",
    "mSi=27.9763;\n",
    "mNe=19.99244;\n",
    "mCo=58.93320;\n",
    "mRb=78.9239\n",
    "# Solution:\n",
    "\n",
    "KE1=E1*(24/28);# in MeV\n",
    "BE1=(mMg+malpha-mSi)*931;# in MeV\n",
    "Ex1=KE1+BE1;\n",
    "print\"The excitation energy of compound nucleus Si* in MeV=\",round(Ex1,4)\n",
    "KE2=E2*(59./79.);# in MeV\n",
    "BE2=(mNe+mCo-mRb)*931.;# in MeV\n",
    "Ex2=KE2+BE2;\n",
    "print\"The excitation energy of compound nucleus Rb*  in MeV=\",round(Ex2,4)"
   ]
  }
 ],
 "metadata": {
  "kernelspec": {
   "display_name": "Python 2",
   "language": "python",
   "name": "python2"
  },
  "language_info": {
   "codemirror_mode": {
    "name": "ipython",
    "version": 2
   },
   "file_extension": ".py",
   "mimetype": "text/x-python",
   "name": "python",
   "nbconvert_exporter": "python",
   "pygments_lexer": "ipython2",
   "version": "2.7.9"
  }
 },
 "nbformat": 4,
 "nbformat_minor": 0
}
