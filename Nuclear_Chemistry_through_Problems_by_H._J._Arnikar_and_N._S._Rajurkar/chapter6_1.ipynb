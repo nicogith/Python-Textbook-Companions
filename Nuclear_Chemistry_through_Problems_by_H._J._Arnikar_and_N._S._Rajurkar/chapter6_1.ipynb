{
 "cells": [
  {
   "cell_type": "markdown",
   "metadata": {},
   "source": [
    "#chapter 6:nuclear fission "
   ]
  },
  {
   "cell_type": "markdown",
   "metadata": {},
   "source": [
    "##example 6.1;pg no:98"
   ]
  },
  {
   "cell_type": "code",
   "execution_count": 1,
   "metadata": {
    "collapsed": false
   },
   "outputs": [
    {
     "name": "stdout",
     "output_type": "stream",
     "text": [
      "Example 6.1, Page:98  \n",
      " \n",
      "\n",
      "The half-thickness of In is times more than of Gd. 789.0\n"
     ]
    }
   ],
   "source": [
    "#cal of excitation energy for Al and Na\n",
    "#intiation of all variables\n",
    "# Chapter 6\n",
    "print\"Example 6.1, Page:98  \\n \\n\"\n",
    "# Given:\n",
    "import math\n",
    "d1=7.9;# density of Gd\n",
    "d2=2.31;# Density of In\n",
    "a1=49.;# in Kb\n",
    "a2=155.;# in b\n",
    "m1=157.25;\n",
    "m2=114.8;\n",
    "Na=6.02*10.**23.;\n",
    "# Solution:\n",
    "x1=math.log(1./(1./2.))/((d1*Na*a1*10.**-24.*10.**3.)/m1);# half-thickness for Gd\n",
    "x2=math.log(1./(1./2.))/((d2*Na*a2*10.**-24.)/m2);# half-thickness for In\n",
    "r=x2/x1;\n",
    "print\"The half-thickness of In is times more than of Gd.\",round(r)"
   ]
  },
  {
   "cell_type": "markdown",
   "metadata": {},
   "source": [
    "##example 6.2;pg no:98"
   ]
  },
  {
   "cell_type": "code",
   "execution_count": 2,
   "metadata": {
    "collapsed": false
   },
   "outputs": [
    {
     "name": "stdout",
     "output_type": "stream",
     "text": [
      "Example 6.2, Page:99  \n",
      " \n",
      "\n",
      "The thickness of Pd foil which would reduce the intensity of a beam to excatly 1/1000 of its initial value in (cm)= 2.36\n"
     ]
    }
   ],
   "source": [
    "#cal of thickness of Pd foil\n",
    "#intiation of all variables\n",
    "# Chapter 6\n",
    "print\"Example 6.2, Page:99  \\n \\n\"\n",
    "# Given:\n",
    "import math\n",
    "d1=12.;# density of Gd\n",
    "a1=43.11;# in b\n",
    "m1=106.4;\n",
    "Na=6.02*10**23;\n",
    "i1=1.;\n",
    "i2=1./1000.;\n",
    "# Solution\n",
    "x=math.log(i1/i2)/((d1*Na*a1*10.**-24.)/m1);# thickness for Pd foil\n",
    "print\"The thickness of Pd foil which would reduce the intensity of a beam to excatly 1/1000 of its initial value in (cm)=\",round(x,2)"
   ]
  },
  {
   "cell_type": "markdown",
   "metadata": {},
   "source": [
    "##example 6.3;pg no:99"
   ]
  },
  {
   "cell_type": "code",
   "execution_count": 3,
   "metadata": {
    "collapsed": false
   },
   "outputs": [
    {
     "name": "stdout",
     "output_type": "stream",
     "text": [
      "Example 6.3, Page:99  \n",
      " \n",
      "\n",
      "The fission energy of Te(130)in MeV is = 47.6\n",
      "The barrier energy of Te(130) in MeV is = 80.7\n",
      "The activation energy of Te(130) in MeV is =  33.1\n"
     ]
    }
   ],
   "source": [
    "#cal of fission,barrier,activation\n",
    "#intiation of all variables\n",
    "# Chapter 6\n",
    "print\"Example 6.3, Page:99  \\n \\n\"\n",
    "# Given:\n",
    "mTe=129.9067; # mol wt. of Te(52)\n",
    "mCu=64.9278;# mol wt of Cu(29)\n",
    "mFe=65;# mol wt of Fe(26)\n",
    "# Solution\n",
    "E1=(mTe-2*mCu)*931; # Fission Energy in MeV\n",
    "print\"The fission energy of Te(130)in MeV is =\",round(E1,1)\n",
    "r=((65)**0.33333);\n",
    "E2=(26*26*4.8*4.8*10**-20)/(2*1.5*1.6*10**-13*10**-6*r);# Barrier energy in MeV\n",
    "print\"The barrier energy of Te(130) in MeV is =\",round(E2,1)\n",
    "E3=E2-E1;# Activation Energy in MeV\n",
    "print\"The activation energy of Te(130) in MeV is = \",round(E3,1)\n",
    "# Since barrier energy is greater than fission energy, spontaneous fission is not possible unless the activation energy is provided."
   ]
  },
  {
   "cell_type": "markdown",
   "metadata": {},
   "source": [
    "##example 6.4;pg no:99"
   ]
  },
  {
   "cell_type": "code",
   "execution_count": 4,
   "metadata": {
    "collapsed": false
   },
   "outputs": [
    {
     "name": "stdout",
     "output_type": "stream",
     "text": [
      "Example 6.4, Page:99  \n",
      " \n",
      "\n",
      "\n",
      " The fission energy in MeV is = 24.5784\n",
      "\n",
      " The barrier energy in MeV is =  77.95\n",
      "\n",
      " The activation energy in MeV is = 53.38\n"
     ]
    }
   ],
   "source": [
    "#cal of fission,barrier,activation energies\n",
    "#intiation of all variables\n",
    "# Chapter 6\n",
    "print\"Example 6.4, Page:99  \\n \\n\"\n",
    "# Given:\n",
    "mSn=113.903; # mol wt. of Sn(50)\n",
    "mMn=56.9383;# mol wt of Mn(25)\n",
    "mFe=57;#mol wt of Fe(26)\n",
    "# Solution\n",
    "E1=(mSn-2*mMn)*931; # Fission Energy in MeV\n",
    "print\"\\n The fission energy in MeV is =\",E1\n",
    "r=((mFe)**0.33333);\n",
    "E2=(25*25*4.8*4.8*10**-20)/(2*1.5*1.6*10**-13*10**-6*r);# Barrier energy in MeV\n",
    "print\"\\n The barrier energy in MeV is = \",round(E2,2)\n",
    "E3=E2-E1;# Activation Energy in MeV\n",
    "print\"\\n The activation energy in MeV is =\",round(E3,2)"
   ]
  },
  {
   "cell_type": "markdown",
   "metadata": {},
   "source": [
    "##example 6.5;pg no: 100"
   ]
  },
  {
   "cell_type": "code",
   "execution_count": 5,
   "metadata": {
    "collapsed": false
   },
   "outputs": [
    {
     "name": "stdout",
     "output_type": "stream",
     "text": [
      "Example 6.5, Page:100  \n",
      " \n",
      "\n",
      "\n",
      " z1= 40.0\n",
      "\n",
      " z2= 54.0\n"
     ]
    }
   ],
   "source": [
    "#intiation of all variables\n",
    "# Chapter 6\n",
    "print\"Example 6.5, Page:100  \\n \\n\"\n",
    "# Given:\n",
    "a1=94;# atomic no. of Pu\n",
    "a2=42;#atomic no. of Mo\n",
    "a3=56;# atomic no. of Ba\n",
    "# Solution:\n",
    "# By principle of equal charge displacement\n",
    "z1=0.5*(a1+a2-a3);\n",
    "print\"\\n z1=\",z1\n",
    "z2=0.5*(a1-a2+a3);\n",
    "print\"\\n z2=\",z2\n",
    "\n",
    "#From z1 and z2 we have the primary fragments as Zr(40), atomic mass(100) and Xe(54), atomic mass (138)."
   ]
  },
  {
   "cell_type": "markdown",
   "metadata": {},
   "source": [
    "##example 6.6;pg no: 100"
   ]
  },
  {
   "cell_type": "code",
   "execution_count": 6,
   "metadata": {
    "collapsed": false
   },
   "outputs": [
    {
     "name": "stdout",
     "output_type": "stream",
     "text": [
      "Example 6.6, Page:100  \n",
      " \n",
      "\n",
      "\n",
      " z1= 37.0\n",
      "\n",
      " z2= 55.0\n"
     ]
    }
   ],
   "source": [
    "#intiation of all variables\n",
    "# Chapter 6\n",
    "print\"Example 6.6, Page:100  \\n \\n\"\n",
    "# Given:\n",
    "a1=92;# atomic no. of U\n",
    "a2=40;#atomic no. of Zr\n",
    "a3=58;# atomic no. of Ce\n",
    "# Solution\n",
    "# By principle of equal charge displacement\n",
    "z1=0.5*(a1+a2-a3);\n",
    "print\"\\n z1=\",z1\n",
    "z2=0.5*(a1-a2+a3);\n",
    "print\"\\n z2=\",z2\n",
    "#From z1 and z2 we have the primary fragments are Rb(37), atomic mass(94) and Cs(55), atomic mass (140)."
   ]
  },
  {
   "cell_type": "markdown",
   "metadata": {},
   "source": [
    "##example 6.7;pg no: 100"
   ]
  },
  {
   "cell_type": "code",
   "execution_count": 7,
   "metadata": {
    "collapsed": false
   },
   "outputs": [
    {
     "name": "stdout",
     "output_type": "stream",
     "text": [
      "Example 6.7, Page:100  \n",
      " \n",
      "\n",
      "\n",
      " z1= 39.0\n",
      "\n",
      " z2= 51.0\n"
     ]
    }
   ],
   "source": [
    "#intiation of all variables\n",
    "# Chapter 6\n",
    "print\"Example 6.7, Page:100  \\n \\n\"\n",
    "# Given:\n",
    "a1=92;# atomic no. of U\n",
    "a2=42;#atomic no. of Mo\n",
    "a3=56;# atomic no. of Ba\n",
    "# Solution\n",
    "# By principle of equal charge displacement\n",
    "z1=0.5*(a1+a2-a3);\n",
    "print\"\\n z1=\",z1\n",
    "z2=0.5*(a1-a2+a3-4);\n",
    "print\"\\n z2=\",z2\n",
    "\n",
    "# From z1 and z2 we have the primary fragments are Y(39), atomic mass(95) and Sb(51), atomic mass (137)\n"
   ]
  },
  {
   "cell_type": "markdown",
   "metadata": {},
   "source": [
    "##example 6.8;pg no: 101"
   ]
  },
  {
   "cell_type": "code",
   "execution_count": 8,
   "metadata": {
    "collapsed": false
   },
   "outputs": [
    {
     "name": "stdout",
     "output_type": "stream",
     "text": [
      "Example 6.8, Page:101  \n",
      " \n",
      "\n",
      "The fission energy in MeV is =  168.24\n",
      "\n",
      " The barrier energy in MeV is =  196.54\n",
      "\n",
      " The activation energy in MeV is =  28.3\n",
      "\n",
      " The fission by thermal neutrons is not possible since excitation energy is less than activation energy. 6.4239\n"
     ]
    }
   ],
   "source": [
    "#cal of fission,barrier,activation energies\n",
    "#intiation of all variables\n",
    "# Chapter 6\n",
    "print\"Example 6.8, Page:101  \\n \\n\"\n",
    "# Given:\n",
    "mU=236.04533;\n",
    "mU1=236.045733;\n",
    "mU2=235.043933;\n",
    "mY=94.912;\n",
    "mSb=136.91782;\n",
    "mn=1.0087;\n",
    "Na=6.02*10**23;\n",
    "\n",
    "# Solution:\n",
    "E1=(mU-mY-mSb-4*mn)*931; # Fission Energy in MeV\n",
    "print\"The fission energy in MeV is = \",round(E1,2)\n",
    "r1=((mY)**0.33333);\n",
    "r2=((mSb)**0.33333);\n",
    "E2=(39*51*4.8*4.8*10**-20)/(1.5*10**-13*(r1+r2)*1.6*10**-6);# Barrier energy in MeV\n",
    "print\"\\n The barrier energy in MeV is = \",round(E2,2)\n",
    "E3=E2-E1;# Activation Energy in MeV\n",
    "print\"\\n The activation energy in MeV is = \",round(E3,2)\n",
    "# Note : There is discrepancy in the final answer.\n",
    "E4=(mU2+mn-mU1)*931; # Fission Energy in MeV\n",
    "print\"\\n The fission by thermal neutrons is not possible since excitation energy is less than activation energy.\",E4"
   ]
  },
  {
   "cell_type": "markdown",
   "metadata": {},
   "source": [
    "##example 6.9;pg no: 101"
   ]
  },
  {
   "cell_type": "code",
   "execution_count": 9,
   "metadata": {
    "collapsed": false
   },
   "outputs": [
    {
     "name": "stdout",
     "output_type": "stream",
     "text": [
      "Example 6.9, Page:101  \n",
      " \n",
      "\n",
      "The independent fractional chain yield of Sr is = 0.01\n",
      "\n",
      " The independent fractional chain yield of Y is = 1.54\n"
     ]
    }
   ],
   "source": [
    "#cal of independent fractional chain yield of Sr,Y\n",
    "#intiation of all variables\n",
    "# Chapter 6\n",
    "print\"Example 6.9, Page:101  \\n \\n\"\n",
    "# Given:\n",
    "import math\n",
    "nSr=38.;\n",
    "nY=39.;\n",
    "# Solution:\n",
    "PSr=0.565*math.exp(-((nSr-40)**2)); #independent fractional chain yield of Sr\n",
    "PY=0.565*math.exp(((nY-40.)**2.)); #independent fractional chain yield of Y\n",
    "print\"The independent fractional chain yield of Sr is =\",round(PSr,2)\n",
    "print\"\\n The independent fractional chain yield of Y is =\",round(PY,2)"
   ]
  },
  {
   "cell_type": "markdown",
   "metadata": {},
   "source": [
    "##example 6.10;pg no: 102"
   ]
  },
  {
   "cell_type": "code",
   "execution_count": 10,
   "metadata": {
    "collapsed": false
   },
   "outputs": [
    {
     "name": "stdout",
     "output_type": "stream",
     "text": [
      "Example 6.10, Page:102  \n",
      " \n",
      "\n",
      "The energy for the given fission is =(MeV) 184.7\n"
     ]
    }
   ],
   "source": [
    "#cal of energy for the given fission\n",
    "#intiation of all variables\n",
    "# Chapter 6\n",
    "print\"Example 6.10, Page:102  \\n \\n\"\n",
    "# Given:\n",
    "mU=235.043091;\n",
    "mn=1.0087;\n",
    "mXe=138.9187;\n",
    "mSn=94.919;\n",
    "# Solution:\n",
    "dm=(235.04309+1.0087-138.917-94.919-2.0174);# delta m\n",
    "E=dm*931;# energy of given fission in MeV\n",
    "print\"The energy for the given fission is =(MeV)\",round(E,2)"
   ]
  },
  {
   "cell_type": "markdown",
   "metadata": {},
   "source": [
    "##example 6.11;pg no: 102"
   ]
  },
  {
   "cell_type": "code",
   "execution_count": 11,
   "metadata": {
    "collapsed": false
   },
   "outputs": [
    {
     "name": "stdout",
     "output_type": "stream",
     "text": [
      "Example 6.11, Page:102  \n",
      " \n",
      "\n",
      "The energy for the Pd(108)+Xe(129)+3n fission is =(MeV) 210.46\n",
      "\n",
      " The energy for the Gd(155)+Br(81)+4n fission is =(MeV) 174.76\n"
     ]
    }
   ],
   "source": [
    "#cal of energy for the Gd(155)+Br(81)+4n,Pd(108)+Xe(129)+3n\n",
    "#intiation of all variables\n",
    "# Chapter 6\n",
    "print\"Example 6.11, Page:102  \\n \\n\"\n",
    "# Given:\n",
    "mPu=239.052161;\n",
    "mPd=107.903920;\n",
    "mXe=128.904784;\n",
    "mn=1.0087;\n",
    "mGd=154.922010;\n",
    "mBr=80.916344;\n",
    "\n",
    "# Solution: Part (a)\n",
    "\n",
    "dm1=(mPu-(mPd+mXe+2*mn));# delta m\n",
    "E1=dm1*931;# energy of given fission in MeV\n",
    "print\"The energy for the Pd(108)+Xe(129)+3n fission is =(MeV)\",round(E1,2)\n",
    "\n",
    "dm2=(mPu-(mGd+mBr+3*mn));# delta m\n",
    "E2=dm2*931;# energy of given fission in MeV\n",
    "print\"\\n The energy for the Gd(155)+Br(81)+4n fission is =(MeV)\",round(E2,2)"
   ]
  },
  {
   "cell_type": "markdown",
   "metadata": {},
   "source": [
    "##example 6.12;pg no: 103"
   ]
  },
  {
   "cell_type": "code",
   "execution_count": 12,
   "metadata": {
    "collapsed": false
   },
   "outputs": [
    {
     "name": "stdout",
     "output_type": "stream",
     "text": [
      "Example 6.12, Page:103  \n",
      " \n",
      "\n",
      "The fission energy in MeV is =  245.41\n",
      "\n",
      " The barrier energy in MeV is = 240.0\n"
     ]
    }
   ],
   "source": [
    "#cal of barrier,fission energy\n",
    "#intiation of all variables\n",
    "# Chapter 6\n",
    "print\"Example 6.12, Page:103  \\n \\n\"\n",
    "# Given:\n",
    "\n",
    "mFm=250.079;\n",
    "mSn=124.9077;\n",
    "Na=6.02*10**23;\n",
    "\n",
    "# Solution:\n",
    "E1=(mFm-2*mSn)*931; # Fission Energy in MeV\n",
    "print\"The fission energy in MeV is = \",round(E1,2)\n",
    "r=((mSn)**0.33333);\n",
    "E2=(50*50*4.8*4.8*10**-20)/(2*1.5*10**-13*(r)*1.6*10**-6);# Barrier energy in MeV\n",
    "print\"\\n The barrier energy in MeV is =\",round(E2)"
   ]
  },
  {
   "cell_type": "markdown",
   "metadata": {},
   "source": [
    "##example 6.13;pg no: 103"
   ]
  },
  {
   "cell_type": "code",
   "execution_count": 13,
   "metadata": {
    "collapsed": false
   },
   "outputs": [
    {
     "name": "stdout",
     "output_type": "stream",
     "text": [
      "Example 6.13, Page:103  \n",
      " \n",
      "\n",
      "\n",
      " (a) Excitation energy is =(MeV) 4.93\n",
      "\n",
      " Fission is not possible\n",
      "\n",
      " (b) Excitation energy is =(MeV) 5.93\n",
      "\n",
      " Fission is not possible\n",
      "\n",
      " (c) Excitation energy is =(MeV) 13.93\n",
      "\n",
      " Fission is possible\n"
     ]
    }
   ],
   "source": [
    "#cal of thickness of Pd foil\n",
    "#intiation of all variables\n",
    "# Chapter 6\n",
    "print\"Example 6.13, Page:103  \\n \\n\"\n",
    "# Given:\n",
    "mTh1=232;\n",
    "mTh2=233;\n",
    "ETh1=6.4;# in MeV\n",
    "ETh2=4.93;# in MeV\n",
    "E=6.5;# fission barrier energy in MeV\n",
    "\n",
    "# Solution: Part(a)\n",
    "E1=0*mTh1/mTh2;\n",
    "Ex1=E1+ETh2;\n",
    "print\"\\n (a) Excitation energy is =(MeV)\",Ex1\n",
    "if (Ex1>E):\n",
    "\tprint\"\\n Fission is possible\"\n",
    "else:\n",
    "\tprint\"\\n Fission is not possible\"\n",
    "\n",
    "# Solution: Part(b)\n",
    "E2=2*mTh1/mTh2;\n",
    "Ex2=E2+ETh2;\n",
    "print\"\\n (b) Excitation energy is =(MeV)\",Ex2\n",
    "if (Ex2>E):\n",
    "\tprint\"\\n Fission is possible\"\n",
    "else:\n",
    "\tprint\"\\n Fission is not possible\"\n",
    "\n",
    "# Solution: Part (c)\n",
    "E3=10*mTh1/mTh2;\n",
    "Ex3=E3+ETh2;\n",
    "print\"\\n (c) Excitation energy is =(MeV)\",Ex3\n",
    "if (Ex3>E):\n",
    "\tprint\"\\n Fission is possible\"\n",
    "else:\n",
    "\tprint\"\\n Fission is not possible\""
   ]
  },
  {
   "cell_type": "markdown",
   "metadata": {},
   "source": [
    "##example 6.14;pg no: 104"
   ]
  },
  {
   "cell_type": "code",
   "execution_count": 14,
   "metadata": {
    "collapsed": false
   },
   "outputs": [
    {
     "name": "stdout",
     "output_type": "stream",
     "text": [
      "Example 6.14, Page:104  \n",
      " \n",
      "\n",
      "The energy for the given fission is =(MeV) 201.9\n"
     ]
    }
   ],
   "source": [
    "#cal of energy for the given fission\n",
    "#intiation of all variables\n",
    "# Chapter 6\n",
    "print\"Example 6.14, Page:104  \\n \\n\"\n",
    "\n",
    "# Given:\n",
    "\n",
    "mEs=249.0762;\n",
    "mn=1.0087;\n",
    "mGd=160.9286;\n",
    "mBr=86.922;\n",
    "\n",
    "# Solution:\n",
    "dm=(mEs-(mGd+mBr+mn));# delta m\n",
    "E=dm*931;# energy of given fission in MeV\n",
    "print\"The energy for the given fission is =(MeV)\",round(E,1)"
   ]
  },
  {
   "cell_type": "markdown",
   "metadata": {},
   "source": [
    "##example 6.15;pg no: 104"
   ]
  },
  {
   "cell_type": "code",
   "execution_count": 15,
   "metadata": {
    "collapsed": false
   },
   "outputs": [
    {
     "name": "stdout",
     "output_type": "stream",
     "text": [
      "Example 6.15, Page:104  \n",
      " \n",
      "\n",
      "The velocity will be related as and Energy will be related as  6.0 6.0\n"
     ]
    }
   ],
   "source": [
    "#cal of velocity will be related as and Energy will be related\n",
    "#intiation of all variables\n",
    "# Chapter 6\n",
    "print\"Example 6.15, Page:104  \\n \\n\"\n",
    "\n",
    "# Given:\n",
    "\n",
    "m=1./6.;# mass ratio of pair of fission product\n",
    "\n",
    "# Solution:\n",
    "# Velocities as well as energies are in inverse ratio of their masses.\n",
    "\n",
    "v=(m)**(-1);# Velocity ratio\n",
    "e=(m)**(-1);# Energy ratio\n",
    "print\"The velocity will be related as and Energy will be related as \",v,e"
   ]
  },
  {
   "cell_type": "markdown",
   "metadata": {},
   "source": [
    "##example 6.16;pg no: 104"
   ]
  },
  {
   "cell_type": "code",
   "execution_count": 16,
   "metadata": {
    "collapsed": false
   },
   "outputs": [
    {
     "name": "stdout",
     "output_type": "stream",
     "text": [
      "Example 6.16, Page:104  \n",
      " \n",
      "\n",
      "The no. of fissions produced per second will be = 3.125e+12\n"
     ]
    }
   ],
   "source": [
    "#cal of  no. of fissions produced per second\n",
    "#intiation of all variables\n",
    "# Chapter 6\n",
    "print\"Example 6.16, Page:104  \\n \\n\"\n",
    "\n",
    "# Given:\n",
    "P=100;# in watts\n",
    "\n",
    "# Solution:\n",
    "P1=P*10**7;# in erg/s\n",
    "P2=P1/(1.6*10**-6);# in MeV/s\n",
    "# 1 ifssion generates 200 MeV of energy\n",
    "f=P2/200;# no. of fissions\n",
    "print\"The no. of fissions produced per second will be =\",f"
   ]
  },
  {
   "cell_type": "markdown",
   "metadata": {},
   "source": [
    "##example 6.17;pg no: 104"
   ]
  },
  {
   "cell_type": "code",
   "execution_count": 17,
   "metadata": {
    "collapsed": false
   },
   "outputs": [
    {
     "name": "stdout",
     "output_type": "stream",
     "text": [
      "Example 6.17, Page:104  \n",
      " \n",
      "\n",
      "The fission barrier energy is = (MeV) 221.78\n"
     ]
    }
   ],
   "source": [
    "#cal of fission barrier energy\n",
    "#intiation of all variables\n",
    "# Chapter 6\n",
    "print\"Example 6.17, Page:104  \\n \\n\"\n",
    "# Given:\n",
    "r0=1.4*10**-15;# nuclear radius constant in m\n",
    "p=8.85*10**-12;# permittivity of free space in J^-1*C^2*m^-1\n",
    "A=92;\n",
    "e=1.6*10**-19;\n",
    "mPd=118;\n",
    "# Solution:\n",
    "r=((mPd)**0.33333);\n",
    "Eb=((A/2)**2)*(e**2)/(2*r0*r*4*3.14*p*1.6*10**-13);\n",
    "print\"The fission barrier energy is = (MeV)\",round(Eb,2)"
   ]
  },
  {
   "cell_type": "markdown",
   "metadata": {},
   "source": [
    "##example 6.18;pg no: 105"
   ]
  },
  {
   "cell_type": "code",
   "execution_count": 18,
   "metadata": {
    "collapsed": false
   },
   "outputs": [
    {
     "name": "stdout",
     "output_type": "stream",
     "text": [
      "Example 6.18, Page:105  \n",
      " \n",
      "\n",
      "The fission barrier energy is =(MeV) 224.0\n"
     ]
    }
   ],
   "source": [
    "#cal of fission barrier energy\n",
    "#intiation of all variables\n",
    "# Chapter 6\n",
    "print\"Example 6.18, Page:105  \\n \\n\"\n",
    "# Given:\n",
    "r0=1.37*10**-15;# nuclear radius constant in m\n",
    "p=8.85*10**-12;# permittivity of free space in J^-1*C^2*m^-1\n",
    "A=92;\n",
    "e=1.6*10**-19;\n",
    "mTe=140;\n",
    "mZr=95;\n",
    "# Solution:\n",
    "r1=((mTe)**0.33333);\n",
    "r2=((mZr)**0.33333);\n",
    "Eb=(52*40)*(e**2)/(r0*(r1+r2)*4*3.14*p*1.6*10**-13)\n",
    "print\"The fission barrier energy is =(MeV)\",round(Eb)"
   ]
  },
  {
   "cell_type": "markdown",
   "metadata": {},
   "source": [
    "##example 6.19;pg no: 105"
   ]
  },
  {
   "cell_type": "code",
   "execution_count": 19,
   "metadata": {
    "collapsed": false
   },
   "outputs": [
    {
     "name": "stdout",
     "output_type": "stream",
     "text": [
      "Example 6.19, Page:105  \n",
      " \n",
      "\n",
      "The critical deformation energy for the fission is =(MeV) 6.237\n"
     ]
    }
   ],
   "source": [
    "#cal of critical deformation energy for the fission\n",
    "#intiation of all variables\n",
    "# Chapter 6\n",
    "print\"Example 6.19, Page:105  \\n \\n\"\n",
    "# Given:\n",
    "A=240.;\n",
    "Z=94.;\n",
    "#Solution:\n",
    "Ecr=(0.89*(A**(2./3.)))-(0.02*(Z*(Z-1.)))/(A**(1./3.));\n",
    "print\"The critical deformation energy for the fission is =(MeV)\",round(Ecr,3)"
   ]
  }
 ],
 "metadata": {
  "kernelspec": {
   "display_name": "Python 2",
   "language": "python",
   "name": "python2"
  },
  "language_info": {
   "codemirror_mode": {
    "name": "ipython",
    "version": 2
   },
   "file_extension": ".py",
   "mimetype": "text/x-python",
   "name": "python",
   "nbconvert_exporter": "python",
   "pygments_lexer": "ipython2",
   "version": "2.7.9"
  }
 },
 "nbformat": 4,
 "nbformat_minor": 0
}
