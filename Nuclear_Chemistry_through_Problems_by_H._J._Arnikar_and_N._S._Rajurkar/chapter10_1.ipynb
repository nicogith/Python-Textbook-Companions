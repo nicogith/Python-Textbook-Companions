{
 "cells": [
  {
   "cell_type": "markdown",
   "metadata": {},
   "source": [
    "#chapter 10:applications of radioactivity"
   ]
  },
  {
   "cell_type": "markdown",
   "metadata": {},
   "source": [
    "##example 10.1;pg no: 133"
   ]
  },
  {
   "cell_type": "code",
   "execution_count": 1,
   "metadata": {
    "collapsed": false
   },
   "outputs": [
    {
     "name": "stdout",
     "output_type": "stream",
     "text": [
      "Example 10.1, Page:133  \n",
      " \n",
      "\n",
      "The energy of recoil of Iodine atom in eV= 96.48\n"
     ]
    }
   ],
   "source": [
    "#cal of  value of numerical constant\n",
    "#intiation of all variables\n",
    "# Chapter 10\n",
    "print\"Example 10.1, Page:133  \\n \\n\"\n",
    "# Given:\n",
    "E=4.8;# in MeV\n",
    "M=128;# molecular weight of I\n",
    "#Formula:\n",
    "# Er=(536*E^2)/M\n",
    "# Solution:\n",
    "Er=(536*E**2)/M;\n",
    "print\"The energy of recoil of Iodine atom in eV=\", Er"
   ]
  },
  {
   "cell_type": "markdown",
   "metadata": {},
   "source": [
    "##example 10.2;pg no: 133"
   ]
  },
  {
   "cell_type": "code",
   "execution_count": 2,
   "metadata": {
    "collapsed": false
   },
   "outputs": [
    {
     "name": "stdout",
     "output_type": "stream",
     "text": [
      "Example 10.2, Page:133  \n",
      " \n",
      "\n",
      "The energy of recoil of Zinc atom in (eV)= 9.98\n"
     ]
    }
   ],
   "source": [
    "#cal of energy of recoil of Zinc atom\n",
    "#intiation of all variables\n",
    "# Chapter 10\n",
    "print\"Example 10.2, Page:133  \\n \\n\"\n",
    "# Given:\n",
    "E=1.1;# in MeV\n",
    "M=65;# molecular weight of zinc\n",
    "#Formula:\n",
    "# Er=(536*E^2)/M\n",
    "# Solution:\n",
    "Er=(536*E**2)/M;\n",
    "print\"The energy of recoil of Zinc atom in (eV)=\", round(Er,2)"
   ]
  },
  {
   "cell_type": "markdown",
   "metadata": {},
   "source": [
    "##example 10.3;pg no: 133"
   ]
  },
  {
   "cell_type": "code",
   "execution_count": 3,
   "metadata": {
    "collapsed": false
   },
   "outputs": [
    {
     "name": "stdout",
     "output_type": "stream",
     "text": [
      "Example 10.3, Page:133  \n",
      " \n",
      "\n",
      "\n",
      " The solubility of BaSO4 in (moles/lit) is = 1.00184296245e-05\n",
      "\n",
      " \n",
      " The solubility of BaSO4 in (mg/lit) is = 2.337\n"
     ]
    }
   ],
   "source": [
    "#cal of  solubility of BaSO4\n",
    "#intiation of all variables\n",
    "# Chapter 10\n",
    "print\"Example 10.3, Page:133  \\n \\n\"\n",
    "# Given:\n",
    "M1=137.32;# moleular wt of barium\n",
    "M2=32.;# molecular weight of sulphur\n",
    "M3=16.;# molecular wt of oxygen\n",
    "M4=233.32;# molecular wt of BaSO4\n",
    "ai=40000.;# specific initial activity in counts min^-1 mg^-1\n",
    "af=187./20.;# specific final activity in counts min^-1 0.1ml^-1\n",
    "\n",
    "# Formula:\n",
    "# (1)S1=(af/ai)*(10/M) in moles/lit\n",
    "# (2)S2=(af/ai)*(10^4) in mg/lit\n",
    "# Solution:\n",
    "S1=(af/ai)*(10./M4); # solubility of BaSO4 in moles/lit\n",
    "S2=(af/ai)*10**4;# solubility of BaSO4 in mg/lit\n",
    "print\"\\n The solubility of BaSO4 in (moles/lit) is =\",S1\n",
    "print\"\\n \\n The solubility of BaSO4 in (mg/lit) is =\",round(S2,3)"
   ]
  },
  {
   "cell_type": "markdown",
   "metadata": {},
   "source": [
    "##example 10.4;pg no: 133"
   ]
  },
  {
   "cell_type": "code",
   "execution_count": 4,
   "metadata": {
    "collapsed": false
   },
   "outputs": [
    {
     "name": "stdout",
     "output_type": "stream",
     "text": [
      "Example 10.4, Page:133  \n",
      " \n",
      "\n",
      "The surface area of 1 gm of precipitate sample in (cm^2/gm)= 1.27907915567e+18\n"
     ]
    }
   ],
   "source": [
    "#cal of surface area of 1 gm of precipitate sample\n",
    "#intiation of all variables\n",
    "# Chapter 10\n",
    "print\"Example 10.4, Page:133  \\n \\n\"\n",
    "# Given:\n",
    "conc=4.;# 4 mg per 1 l\n",
    "a1=1600.;# labelled solution of PbSO4\n",
    "a2=900.;# activity of filtrate (in solution)\n",
    "M=303.2;# molecular wt of PbSO4\n",
    "l=6.022*10**23;\n",
    "# Solution:\n",
    "y=20.*4./1000.;# 20 ml will contain y mg\n",
    "z=y*a2/a1;# final amount of PbSO4 in solution\n",
    "a3=a1-a2;# activity on surface\n",
    "# Let the total PbSO4 on surfaceof precipitate be x\n",
    "# Asumming exchange equilibrium is established we have\n",
    "x=a3*z/a2;# in mg\n",
    "molecules=x*10**-3*(l)/M;\n",
    "# Give that surface area of 1 PbSO4 = 18.4*10^-16 cm^2\n",
    "A=molecules*18.4*1.**-16;\n",
    "print\"The surface area of 1 gm of precipitate sample in (cm^2/gm)=\",A"
   ]
  },
  {
   "cell_type": "markdown",
   "metadata": {},
   "source": [
    "##example 10.5;pg no: 134"
   ]
  },
  {
   "cell_type": "code",
   "execution_count": 5,
   "metadata": {
    "collapsed": false
   },
   "outputs": [
    {
     "name": "stdout",
     "output_type": "stream",
     "text": [
      "Example 10.5, Page:134  \n",
      " \n",
      "\n",
      "The volume of blood in the patient in (lit)= 5.6\n"
     ]
    }
   ],
   "source": [
    "#cal of volume of blood in the patient\n",
    "#intiation of all variables\n",
    "# Chapter 10\n",
    "print\"Example 10.5, Page:134  \\n \\n\"\n",
    "# Given:\n",
    "ai=14000;# counts per min per 0.1 cm^3, initial activity of blood\n",
    "Si=1.4*10**5;# c min^-1 cm^-3, initial specific activity\n",
    "a=250;# 250 net counts in 10 min, this implies 25 net counts in a min\n",
    "# Formula: Si/Sr = V\n",
    "# Solution:\n",
    "V=Si/25;# total blood in the patient in cm^3\n",
    "V1=V/1000;# volume in lit\n",
    "print\"The volume of blood in the patient in (lit)=\",V1"
   ]
  },
  {
   "cell_type": "markdown",
   "metadata": {},
   "source": [
    "##example 10.6;pg no: 134"
   ]
  },
  {
   "cell_type": "code",
   "execution_count": 6,
   "metadata": {
    "collapsed": false
   },
   "outputs": [
    {
     "name": "stdout",
     "output_type": "stream",
     "text": [
      "Example 10.6, Page:134  \n",
      " \n",
      "\n",
      "The percentage of penicillin in mixture is = 0.15\n"
     ]
    }
   ],
   "source": [
    "#cal of percentage of penicillin in mixture\n",
    "#intiation of all variables\n",
    "# Chapter 10\n",
    "print\"Example 10.6, Page:134  \\n \\n\"\n",
    "# Given:\n",
    "y=5;# in mg labelled sample\n",
    "V=2000;# volume of mixture in ml\n",
    "# Formula: x=y*(Si-Sf)/Sf\n",
    "#Solution:\n",
    "Si=20000/(5*5);# initial specific activity in counts min^-1 mg^-1\n",
    "Sf=3000/(.6*10);# final specific activity in counts min^-1 mg^-1\n",
    "x=y*(Si-Sf)/Sf;# in mg for V amount of volume\n",
    "#% of penicillin in mixture\n",
    "p=x*100/V;\n",
    "print\"The percentage of penicillin in mixture is =\",p"
   ]
  },
  {
   "cell_type": "markdown",
   "metadata": {},
   "source": [
    "##example 10.7;pg no: 135"
   ]
  },
  {
   "cell_type": "code",
   "execution_count": 7,
   "metadata": {
    "collapsed": false
   },
   "outputs": [
    {
     "name": "stdout",
     "output_type": "stream",
     "text": [
      "Example 10.7, Page:135  \n",
      " \n",
      "\n",
      "The percentage of iodine in mixture is =  1.058\n"
     ]
    }
   ],
   "source": [
    "#cal of  percentage of iodine in mixture\n",
    "#intiation of all variables\n",
    "# Chapter 10\n",
    "print\"Example 10.7, Page:135  \\n \\n\"\n",
    "# Given:\n",
    "y=2.;# in ml labelled sample\n",
    "V=1000.;# volume of mixture in ml\n",
    "BC=100./20.;# 100 counts for 20 min\n",
    "# Formula: x=y*(Si-Sf)/Sf\n",
    "#Solution:\n",
    "Si=(2500.-BC)/(2.);# initial specific activity in counts min^-1 mg^-1\n",
    "Sf=(600.-BC)/(3.);# final specific activity in counts min^-1 mg^-1\n",
    "x=y*(Si-Sf)/Sf;# in mg for V amount of volume\n",
    "#% of iodine in mixture\n",
    "i=x*100./V;\n",
    "print\"The percentage of iodine in mixture is = \",round(i,3)\n",
    "#NOte: Backward counts are taken to be 100 counts for 10 min in the solution given in textbook"
   ]
  },
  {
   "cell_type": "markdown",
   "metadata": {},
   "source": [
    "##example 10.8;pg no: 135"
   ]
  },
  {
   "cell_type": "code",
   "execution_count": 8,
   "metadata": {
    "collapsed": false
   },
   "outputs": [
    {
     "name": "stdout",
     "output_type": "stream",
     "text": [
      "Example 10.8, Page:135  \n",
      " \n",
      "\n",
      "The percentage Cr content in the ruby is =  0.34\n"
     ]
    }
   ],
   "source": [
    "#cal of percentage Cr content in the ruby\n",
    "#intiation of all variables\n",
    "# Chapter 10\n",
    "print\"Example 10.8, Page:135  \\n \\n\"\n",
    "# Given:\n",
    "flux=10**12;\n",
    "s=15.9*10**-24;\n",
    "m1=0.5;# weight of ruby in mg\n",
    "#Soluton:\n",
    "a1=35000;# measured activity in c/s\n",
    "a2=350000;# corrected activity in )d/s\n",
    "N=a2/(flux*s*(1-0.5**(1/27.7)));\n",
    "m=50*N/(6.02*10**23);\n",
    "Cr=(100*m)/4.35;# total Cr in in the Ruby\n",
    "crp=(Cr*100)/0.5;# % cr in the ruby\n",
    "print\"The percentage Cr content in the ruby is = \",round(crp,2)"
   ]
  },
  {
   "cell_type": "markdown",
   "metadata": {},
   "source": [
    "##example 10.9;pg no: 136"
   ]
  },
  {
   "cell_type": "code",
   "execution_count": 9,
   "metadata": {
    "collapsed": false
   },
   "outputs": [
    {
     "name": "stdout",
     "output_type": "stream",
     "text": [
      "Example 10.9, Page:136  \n",
      " \n",
      "\n",
      "The total mass of Ge atoms present in sample in (mg)= 2.47\n"
     ]
    }
   ],
   "source": [
    "#cal of total mass of Ge atoms present in sample\n",
    "#intiation of all variables\n",
    "# Chapter 10\n",
    "print\"Example 10.9, Page:136  \\n \\n\"\n",
    "# Given:\n",
    "flux=10**12;\n",
    "s=3.28*10**-27;\n",
    "hf=1;# half life in min\n",
    "#Soluton:\n",
    "a1=2500;# measured activity in d/s\n",
    "a2=5000;# corrected activity in d/s\n",
    "N=a2/(flux*s);\n",
    "m=76*N/(6.02*10**23);\n",
    "Cr=(100*m)/7.8;# total mass of Ge atoms (isotopic abandunce is 7.8%)\n",
    "print\"The total mass of Ge atoms present in sample in (mg)=\",round(Cr*10**3,2)"
   ]
  },
  {
   "cell_type": "markdown",
   "metadata": {},
   "source": [
    "##example 10.10;pg no: 136"
   ]
  },
  {
   "cell_type": "code",
   "execution_count": 10,
   "metadata": {
    "collapsed": false
   },
   "outputs": [
    {
     "name": "stdout",
     "output_type": "stream",
     "text": [
      "Example 10.10, Page:136  \n",
      " \n",
      "\n",
      "The activity of sample in dpm is =  75642.0\n"
     ]
    }
   ],
   "source": [
    "#cal of  activity of sample in dpm\n",
    "#intiation of all variables\n",
    "# Chapter 10\n",
    "print\"Example 10.10, Page:136  \\n \\n\"\n",
    "# Given:\n",
    "import math\n",
    "M=55;# wt of Mn\n",
    "m=0.1;# in g\n",
    "t=90;# min irradated\n",
    "flux=10**6;\n",
    "t1=5; #in hours\n",
    "cs=13.3*10**-24# in cm^2\n",
    "hl=2.58;# in hours\n",
    "Na=6.022*10**23;\n",
    "r=100;# in %\n",
    "# Solution:\n",
    "s=1-(math.exp(-.693*t/(2.58*60)));\n",
    "A=(m*Na*r*flux*cs*s)/(100*M);\n",
    "x=math.exp(-0.693*5/2.58);\n",
    "# activity after cooling period\n",
    "A1=A*x*60;# in  dpm\n",
    "print\"The activity of sample in dpm is = \",round(A1)"
   ]
  },
  {
   "cell_type": "markdown",
   "metadata": {},
   "source": [
    "##example 10.11;pg no: 137"
   ]
  },
  {
   "cell_type": "code",
   "execution_count": 11,
   "metadata": {
    "collapsed": false
   },
   "outputs": [
    {
     "name": "stdout",
     "output_type": "stream",
     "text": [
      "Example 10.11, Page:137  \n",
      " \n",
      "\n",
      "\n",
      " The weight of the sample that should be taken is =(g) 0.525\n"
     ]
    }
   ],
   "source": [
    "#cal of \n",
    "#intiation of all variables\n",
    "# Chapter 10\n",
    "print\"Example 10.11, Page:137  \\n \\n\"\n",
    "# Given:\n",
    "import math\n",
    "t1=12.7;# in hours\n",
    "a=4.5*10**-24;# in cm^2\n",
    "r=69.1;#in %\n",
    "cf=10;# in %\n",
    "flux=10**6;\n",
    "Na=6.022*10**23;\n",
    "cpm=1500;# activity in counts per min\n",
    "M=63;\n",
    "#Solution:\n",
    "dpm=cpm*100/10;\n",
    "dps=dpm/60;\n",
    "x=math.exp(-0.693*5/t1);\n",
    "A=dps/x;\n",
    "s=1-(math.exp(-.693*10/(12.7)));\n",
    "w=(A*M*100)/(Na*r*a*flux*s);# gms of Cu\n",
    "# given that 5g Cu in 100g alloy, for wg amount of alloy will be\n",
    "Y=100*w/5;# amount of alloy ing\n",
    "print\"\\n The weight of the sample that should be taken is =(g)\",round(Y,3)"
   ]
  },
  {
   "cell_type": "markdown",
   "metadata": {},
   "source": [
    "##example 10.12;pg no: 138"
   ]
  },
  {
   "cell_type": "code",
   "execution_count": 12,
   "metadata": {
    "collapsed": false
   },
   "outputs": [
    {
     "name": "stdout",
     "output_type": "stream",
     "text": [
      "Example 10.12, Page:138  \n",
      " \n",
      "\n",
      "\n",
      " The mass of potassium bromide in the original solution in (g)= 0.0049385\n"
     ]
    }
   ],
   "source": [
    "#cal of mass of potassium bromide in the original solution\n",
    "#intiation of all variables\n",
    "# Chapter 10\n",
    "print\"Example 10.12, Page:138  \\n \\n\"\n",
    "# Given:\n",
    "vi=2.5;#titrant volume\n",
    "V1=10; # vol of KBr in ml\n",
    "N2=0.01;#normality of AgNO3\n",
    "M1=119;# mol wt of KBr\n",
    "# Solution:\n",
    "ai=((12500/5)-10);\n",
    "af=((6000/6)-10);\n",
    "# deerease in activity due to addition of titrant 2.5ml\n",
    "d=ai-af;\n",
    "# volume corresponding to ai for AgNO3\n",
    "V2=ai*vi/d;\n",
    "N1=(N2*V2)/V1;# Normality of KBr solution\n",
    "m=N1*M1/100;# mass of KBr in 10 ml solution\n",
    "print\"\\n The mass of potassium bromide in the original solution in (g)=\",m"
   ]
  },
  {
   "cell_type": "markdown",
   "metadata": {},
   "source": [
    "##example 10.13;pg no: 138"
   ]
  },
  {
   "cell_type": "code",
   "execution_count": 13,
   "metadata": {
    "collapsed": false
   },
   "outputs": [
    {
     "name": "stdout",
     "output_type": "stream",
     "text": [
      "Example 10.13, Page:138  \n",
      " \n",
      "\n",
      "The age of the sample in (years)= 2994.11\n"
     ]
    }
   ],
   "source": [
    "#cal of  age of the sample\n",
    "#intiation of all variables\n",
    "# Chapter 10\n",
    "print\"Example 10.13, Page:138  \\n \\n\"\n",
    "# Given:\n",
    "import math\n",
    "w=5.;# in g\n",
    "ai=55.;# counts per 10 min\n",
    "A0=15.8;# in dpm/g\n",
    "# Solution:\n",
    "\n",
    "cpm=55./10.;\n",
    "dpm=cpm*100/10; # 10% efficient counting\n",
    "sa=dpm/w;# in dpm/g\n",
    "t=5730.*math.log(A0/sa)/(0.693); # Age determination\n",
    "print\"The age of the sample in (years)=\",round(t,2)"
   ]
  }
 ],
 "metadata": {
  "kernelspec": {
   "display_name": "Python 2",
   "language": "python",
   "name": "python2"
  },
  "language_info": {
   "codemirror_mode": {
    "name": "ipython",
    "version": 2
   },
   "file_extension": ".py",
   "mimetype": "text/x-python",
   "name": "python",
   "nbconvert_exporter": "python",
   "pygments_lexer": "ipython2",
   "version": "2.7.9"
  }
 },
 "nbformat": 4,
 "nbformat_minor": 0
}
