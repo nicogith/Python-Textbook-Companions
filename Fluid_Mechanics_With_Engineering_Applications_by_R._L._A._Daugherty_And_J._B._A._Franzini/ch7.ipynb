{
 "metadata": {
  "name": "",
  "signature": "sha256:cffb7499e644cbe142eb25461633ec2cdaafe8ff11e84d4c7e11093fb9322221"
 },
 "nbformat": 3,
 "nbformat_minor": 0,
 "worksheets": [
  {
   "cells": [
    {
     "cell_type": "heading",
     "level": 2,
     "metadata": {},
     "source": [
      "Chapter 7 : Similitude and Dimensional Analysis"
     ]
    },
    {
     "cell_type": "heading",
     "level": 2,
     "metadata": {},
     "source": [
      "Example 7.2 Page No : 192"
     ]
    },
    {
     "cell_type": "code",
     "collapsed": false,
     "input": [
      "\t\n",
      "#Initialization of variables\n",
      "Dratio = 8.\n",
      "mu = 0.0006\n",
      "rho = 52/32.2\n",
      "vm = 1.22*10**-5 \t# lbs/ft**2\n",
      "V = 45.             # velocity - fps\n",
      "Fm = 0.8\n",
      "\t\n",
      "#calculations\n",
      "vp = round(mu/rho,7)\n",
      "Vm = vm*V/(Dratio*vp)\n",
      "Fratio = rho*V**2 /(1.94*Vm**2 *Dratio**2)\n",
      "Fp = Fratio*Fm\n",
      "\n",
      "#Results\n",
      "print \"velocity  =  %.2f fps\"%(Vm)\n",
      "print \" Drag force  =  %d lb\"%(Fp)\n",
      "\n",
      "# note : The answer given in textbook for vp is wrong. Hence, the difference in answers\n"
     ],
     "language": "python",
     "metadata": {},
     "outputs": [
      {
       "output_type": "stream",
       "stream": "stdout",
       "text": [
        "velocity  =  0.18 fps\n",
        " Drag force  =  617 lb\n"
       ]
      }
     ],
     "prompt_number": 4
    },
    {
     "cell_type": "heading",
     "level": 2,
     "metadata": {},
     "source": [
      "Example 7.3 Page No : 195"
     ]
    },
    {
     "cell_type": "code",
     "collapsed": false,
     "input": [
      "import math \n",
      "\t\n",
      "#Initialization of variables\n",
      "L = 50.\n",
      "Fm = 0.02 \t#N\n",
      "Vm = 1. \t#m/s\n",
      "\t\n",
      "#calculations\n",
      "Fp = L**3 *Fm \n",
      "Fp = Fp*0.2248\n",
      "Vp = math.sqrt(L) *Vm\n",
      "Vp = Vp*3.28\n",
      "Hp = Fp*Vp/550\n",
      "\t\n",
      "#Results\n",
      "print \"Required horsepower  =  %.1f hp\"%(Hp)\n"
     ],
     "language": "python",
     "metadata": {},
     "outputs": [
      {
       "output_type": "stream",
       "stream": "stdout",
       "text": [
        "Required horsepower  =  23.7 hp\n"
       ]
      }
     ],
     "prompt_number": 2
    }
   ],
   "metadata": {}
  }
 ]
}