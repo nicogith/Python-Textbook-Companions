{
 "metadata": {
  "name": "",
  "signature": "sha256:8c6f5ddedf44ae20de67fc03890769a1dfcd2f9b5b396e3c44b963afe6559e1b"
 },
 "nbformat": 3,
 "nbformat_minor": 0,
 "worksheets": [
  {
   "cells": [
    {
     "cell_type": "heading",
     "level": 1,
     "metadata": {},
     "source": [
      "Chapter 17 : Centrifugal and Axial-Flow Pumps"
     ]
    },
    {
     "cell_type": "heading",
     "level": 2,
     "metadata": {},
     "source": [
      "Example 17.1 Page No : 543"
     ]
    },
    {
     "cell_type": "code",
     "collapsed": false,
     "input": [
      "import math \n",
      "\t\n",
      "#Initialization of variables\n",
      "Ns = 500.   #minimum practical specific speed\n",
      "h = 900. \t#ft\n",
      "Q = 1600. \t#gpm\n",
      "\t\n",
      "#calculations\n",
      "ne = Ns*h**(3./4) /math.sqrt(Q)\n",
      "\t\n",
      "#Results\n",
      "print \"Minimum rotative speed  =  %d rpm\"%(round(ne,-1))\n",
      "\n",
      "#Initialization of variables\n",
      "ne = 600. \n",
      "gpm = 1600.\n",
      "Ns = 500.\n",
      "Head = 900. \t#ft\n",
      "\t\n",
      "#calculations\n",
      "h = (ne*math.sqrt(gpm) /Ns)**(4./3)\n",
      "n = Head/h\n",
      "\t\n",
      "#Results\n",
      "print \"No. of stages  =  \",round(n,3)\n"
     ],
     "language": "python",
     "metadata": {},
     "outputs": [
      {
       "output_type": "stream",
       "stream": "stdout",
       "text": [
        "Minimum rotative speed  =  2050 rpm\n",
        "No. of stages  =   5.159\n"
       ]
      }
     ],
     "prompt_number": 4
    },
    {
     "cell_type": "heading",
     "level": 2,
     "metadata": {},
     "source": [
      "Example 17.2 Page No : 543"
     ]
    },
    {
     "cell_type": "code",
     "collapsed": false,
     "input": [
      "import math \n",
      "\t\n",
      "#Initialization of variables\n",
      "ne = 600. \n",
      "gpm = 2000.\n",
      "h = 150.\n",
      "num = 2.\n",
      "\t\n",
      "#calculations\n",
      "ns = ne*math.sqrt(gpm) /h**(3./4)\n",
      "gpm2 = num*gpm\n",
      "h2 = num**2 *h\n",
      "Ns = 2*ne*math.sqrt(gpm2) /h2**(3./4)\n",
      "Ne2 = Ns*(h/2)**(3./4) /math.sqrt(gpm)\n",
      "\t\n",
      "#Results\n",
      "print \"Specific speed in case1  =  %d \"%(ns)\n",
      "print \"Flow rate in case 2  =  %d gpm\"%(gpm2)\n",
      "print \" Head in case 2  =  %d ft\"%(h2)\n",
      "print \" Specific speed in case 2  =  %d \"%(Ns)\n",
      "print \" required operating speed in case 2  =  %.f rpm\"%(Ne2)\n"
     ],
     "language": "python",
     "metadata": {},
     "outputs": [
      {
       "output_type": "stream",
       "stream": "stdout",
       "text": [
        "Specific speed in case1  =  626 \n",
        "Flow rate in case 2  =  4000 gpm\n",
        " Head in case 2  =  600 ft\n",
        " Specific speed in case 2  =  626 \n",
        " required operating speed in case 2  =  357 rpm\n"
       ]
      }
     ],
     "prompt_number": 3
    },
    {
     "cell_type": "heading",
     "level": 2,
     "metadata": {},
     "source": [
      "Example 17.3 Page No : 552"
     ]
    },
    {
     "cell_type": "code",
     "collapsed": false,
     "input": [
      "import math \n",
      "\t\n",
      "#Initialization of variables\n",
      "ne = 600./2 \n",
      "gpm = 1450.\n",
      "h = 140.\n",
      "NPSH = 10.4\n",
      "\t\n",
      "#calculations\n",
      "Ns = gpm*math.sqrt(ne) /h**(3./4)\n",
      "sigmac = NPSH/h\n",
      "zsmax = -3  \t#ft\n",
      "\t\n",
      "#Results\n",
      "print \"Sigma C for the pump  =  %.4f\"%(sigmac)\n",
      "print \" Position of pump  =  %d ft\"%(zsmax)\n"
     ],
     "language": "python",
     "metadata": {},
     "outputs": [
      {
       "output_type": "stream",
       "stream": "stdout",
       "text": [
        "Sigma C for the pump  =  0.0743\n",
        " Position of pump  =  -3 ft\n"
       ]
      }
     ],
     "prompt_number": 4
    },
    {
     "cell_type": "heading",
     "level": 2,
     "metadata": {},
     "source": [
      "Example 17.4 Page No : 557"
     ]
    },
    {
     "cell_type": "code",
     "collapsed": false,
     "input": [
      "import math \n",
      "\t\n",
      "#Initialization of variables\n",
      "ne = 600.\n",
      "gpm = 84500.\n",
      "h = 225.\n",
      "f = 0.95\n",
      "phie = 1.1\n",
      "g = 32.2\n",
      "\t\n",
      "#calculations\n",
      "Ns = ne*math.sqrt(gpm) /h**(3./4)\n",
      "u2 = phie*math.sqrt(2*g*h)\n",
      "D = 153.2*phie*math.sqrt(h) /ne\n",
      "D0 = 1.06*D*12 \t#in\n",
      "B = 0.155*D0*12 \t#in\n",
      "De = 0.6*D0\n",
      "u0 = 1.06*u2\n",
      "Vm2 = 0.15*u0\n",
      "Area = 0.95*math.pi*D/144 *B\n",
      "Q = Area*Vm2\n",
      "\t\n",
      "#Results\n",
      "print \"Specific speed  = %d \"%(round(Ns,-1))\n",
      "print \" Flow rate  =  %d cfs\"%(Q)\n",
      "print \" Eye diameter  =  %.1f in\"%(De)\n",
      "\n",
      "# rounding off error"
     ],
     "language": "python",
     "metadata": {},
     "outputs": [
      {
       "output_type": "stream",
       "stream": "stdout",
       "text": [
        "Specific speed  = 3000 \n",
        " Flow rate  =  183 cfs\n",
        " Eye diameter  =  32.2 in\n"
       ]
      }
     ],
     "prompt_number": 5
    }
   ],
   "metadata": {}
  }
 ]
}