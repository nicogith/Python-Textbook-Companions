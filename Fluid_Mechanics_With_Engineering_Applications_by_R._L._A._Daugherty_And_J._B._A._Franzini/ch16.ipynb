{
 "metadata": {
  "name": "",
  "signature": "sha256:97054b18dca6dd35f36356f17f04ac0dbb81bc69e4ec9c5130f6bdf970d306a2"
 },
 "nbformat": 3,
 "nbformat_minor": 0,
 "worksheets": [
  {
   "cells": [
    {
     "cell_type": "heading",
     "level": 1,
     "metadata": {},
     "source": [
      "Chapter 16 : Reaction Turbines"
     ]
    },
    {
     "cell_type": "heading",
     "level": 2,
     "metadata": {},
     "source": [
      "Example 16.2 Page No : 525"
     ]
    },
    {
     "cell_type": "code",
     "collapsed": false,
     "input": [
      "import math \n",
      "from sympy.functions.elementary.trigonometric import acot\n",
      "\t\n",
      "#Initialization of variables\n",
      "ns = 20. \n",
      "eta = 0.925\n",
      "etah = 0.94\n",
      "BD = 0.1\n",
      "phie = 0.72\n",
      "g = 32.2\n",
      "alpha2 = 90. \t#degrees\n",
      "\t\n",
      "#calculations\n",
      "Cr = ns**2 /(67100*phie**2 *BD*eta)\n",
      "c1cos = etah/(2*phie)\n",
      "alpha = math.degrees(math.atan(Cr/c1cos))\n",
      "C1 = Cr/math.sin(alpha)\n",
      "#beta1 = 1/math.tan(math.radians((C1*math.cos(alpha) -phie)/(C1*math.sin(alpha))))\n",
      "cotb1 = (0.653 - phie)/0.1243\n",
      "beta1 = math.degrees(1./math.atan(cotb1))\n",
      "\n",
      "#Results\n",
      "print \"Alpha  =  %.2f degrees\"%(alpha)\n",
      "print \" Beta  =  %.2f degrees\"%(beta1)\n",
      "print (\"part b\")\n",
      "h = 402.\n",
      "n = 600. \t#rpm\n",
      "bhp = 3600.\n",
      "ns = n*math.sqrt(bhp) /h**(5./4)\n",
      "D = 153.2*phie*math.sqrt(h) /n\n",
      "B = BD*D\n",
      "Dt = D*0.735\n",
      "Ac = 0.95*math.pi*D*B\n",
      "Vr = Cr*math.sqrt(2*g*h)\n",
      "Q = Ac*Vr\n",
      "\t\n",
      "#Results\n",
      "print \" Breadth =  %.3f ft\"%(B)\n",
      "print \" depth D =  %.2f ft\"%(D)\n",
      "print \" velocity Vr =  %d ft/s\"%(Vr)\n",
      "print \" Flow rate Q =  %.1f cfs\"%(Q)\n",
      "\n",
      "# note : answers are slightly different because of rounding off error."
     ],
     "language": "python",
     "metadata": {},
     "outputs": [
      {
       "output_type": "stream",
       "stream": "stdout",
       "text": [
        "Alpha  =  10.78 degrees\n",
        " Beta  =  -115.90 degrees\n",
        "part b\n",
        " Breadth =  0.369 ft\n",
        " depth D =  3.69 ft\n",
        " velocity Vr =  20 ft/s\n",
        " Flow rate Q =  81.1 cfs\n"
       ]
      }
     ],
     "prompt_number": 1
    },
    {
     "cell_type": "heading",
     "level": 2,
     "metadata": {},
     "source": [
      "Example 16.3 Page No : 527"
     ]
    },
    {
     "cell_type": "code",
     "collapsed": false,
     "input": [
      "\t\n",
      "#Initialization of variables\n",
      "ns = 70. \n",
      "z1 = 10. \t#ft\n",
      "z2 = 5000. \t#ft\n",
      "\t\n",
      "#calculations\n",
      "P1 = 12.2*144/62.4\n",
      "P2 = 0.26*144/62.4\n",
      "sigmac = 0.31\n",
      "h = (P1-P2-z1)/sigmac\n",
      "\t\n",
      "#Results\n",
      "print \"Max permissible head to assure against cavitation  =  %.f ft\"%(h)\n"
     ],
     "language": "python",
     "metadata": {},
     "outputs": [
      {
       "output_type": "stream",
       "stream": "stdout",
       "text": [
        "Max permissible head to assure against cavitation  =  57 ft\n"
       ]
      }
     ],
     "prompt_number": 6
    },
    {
     "cell_type": "heading",
     "level": 2,
     "metadata": {},
     "source": [
      "Example 16.4 Page No : 529"
     ]
    },
    {
     "cell_type": "code",
     "collapsed": false,
     "input": [
      "import math \n",
      "\t\n",
      "#Initialization of variables\n",
      "Q = 600. \t#cfs\n",
      "z = 350. \t#ft\n",
      "eta = 0.9\n",
      "\t\n",
      "#calculations\n",
      "power = 62.4*Q*z*eta/550\n",
      "rpm = 75.\n",
      "n = 2.\n",
      "ns = rpm*math.sqrt(power/n) /z**(5./4)\n",
      "phi = 0.45\n",
      "D = 153.3*math.sqrt(z) *phi/rpm\n",
      "rpm2 = 600.\n",
      "ns2 = rpm2*math.sqrt(power/n) /z**(5./4)\n",
      "\t\n",
      "#Results\n",
      "print \"For two turbines, ns =  %.2f\"%(ns)\n",
      "print \"For Francis turbines, ns =  %d \"%(ns2)\n"
     ],
     "language": "python",
     "metadata": {},
     "outputs": [
      {
       "output_type": "stream",
       "stream": "stdout",
       "text": [
        "For two turbines, ns =  5.13\n",
        "For Francis turbines, ns =  41 \n"
       ]
      }
     ],
     "prompt_number": 2
    }
   ],
   "metadata": {}
  }
 ]
}