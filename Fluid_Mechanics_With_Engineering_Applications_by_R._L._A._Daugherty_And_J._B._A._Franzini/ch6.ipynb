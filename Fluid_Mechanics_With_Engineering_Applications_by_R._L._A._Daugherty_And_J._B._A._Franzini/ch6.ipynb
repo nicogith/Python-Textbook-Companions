{
 "metadata": {
  "name": "",
  "signature": "sha256:7a16c4d96ee700a37dba4a242e55bbbe161eeaa4c40448cf9c981c1c38399b2e"
 },
 "nbformat": 3,
 "nbformat_minor": 0,
 "worksheets": [
  {
   "cells": [
    {
     "cell_type": "heading",
     "level": 1,
     "metadata": {},
     "source": [
      "Chapter 6 : Momentum and Forces in Fluid Flow"
     ]
    },
    {
     "cell_type": "heading",
     "level": 2,
     "metadata": {},
     "source": [
      "Example 6.1 Page No : 153"
     ]
    },
    {
     "cell_type": "code",
     "collapsed": false,
     "input": [
      "import math \n",
      "\t\n",
      "#Initialization of variables\n",
      "g = 9.81 \t#kN/m**3\n",
      "V2 = 12. \t#velocity - m/s\n",
      "V3 = 12. \t#m/s\n",
      "A2 = 10.**2\n",
      "A1 = 15.**2\n",
      "A3 = 7.5**2\n",
      "t1 = 15. \n",
      "t2 = 30.\n",
      "\t\n",
      "#calculations\n",
      "V1 = (A2*V2 + A3*V3)/A1\n",
      "Q1 = round(math.pi /4 *A1*10**-4 *V1,3)\n",
      "Q2 = round(math.pi /4 *A2*10**-4 *V2,3)\n",
      "Q3 = round(math.pi /4 *A3*10**-4 *V3,3)\n",
      "P1g = round(V3**2 /(2*g) - V1**2 /(2*g),2)\n",
      "P1 = round(P1g*g,1)\n",
      "rho = 10**3 \n",
      "V2x = V2*math.cos(math.radians(t1))\n",
      "V3x = V3*math.cos(math.radians(t2))\n",
      "V1x = V1\n",
      "Fx =  -P1*A1*10**-4 + (rho*Q2*V2x + rho*Q3*V3x - rho*Q1*V1x)\n",
      "Fx = Fx*10**-3 \n",
      "V2y = V2*math.sin(math.radians(t1))\n",
      "V3y = -V3*math.sin(math.radians(t2))\n",
      "V1y = 0\n",
      "Fy = rho*Q2*V2y +rho*Q3*V3y -rho*Q1*V1y\n",
      "Fy = Fy*10**-3\n",
      "Fnlx = 0.659 - Fx\n",
      "\n",
      "#Results\n",
      "print \"Force in x directio  =  %.3f kN\"%(Fx)\n",
      "print \" Force in y direction  =  %.3f kN\"%(Fy)\n",
      "print \"(Fl/n)x = %.3f kN\"%Fnlx\n",
      "print \"(Fl/n)y = %.3f kN\"%-Fy\n",
      "\n",
      "# rounding off error"
     ],
     "language": "python",
     "metadata": {},
     "outputs": [
      {
       "output_type": "stream",
       "stream": "stdout",
       "text": [
        "Force in x directio  =  0.415 kN\n",
        " Force in y direction  =  -0.026 kN\n",
        "(Fl/n)x = 0.244 kN\n",
        "(Fl/n)y = 0.026 kN\n"
       ]
      }
     ],
     "prompt_number": 10
    },
    {
     "cell_type": "heading",
     "level": 2,
     "metadata": {},
     "source": [
      "Example 6.2 Page No : 155"
     ]
    },
    {
     "cell_type": "code",
     "collapsed": false,
     "input": [
      "\t\n",
      "#Initialization of variables\n",
      "V1x = 100.       \t#ft/sec\n",
      "V2x = 0.866*95\n",
      "V1y = 0.\n",
      "V2y = .5*95\n",
      "A1 = 0.0218 \t#ft**2\n",
      "\t\n",
      "#calculations\n",
      "Q = A1*V1x\n",
      "rho = 1.94\n",
      "Fx = rho*Q*(V2x-V1x)\n",
      "Fxr = -Fx\n",
      "Fy = rho*Q*(V2y-V1y)\n",
      "\t\n",
      "#Results\n",
      "print \"Horizontal force on the blade  =  %.1f lb\"%(Fxr)\n",
      "print \" Vertical force on the blade  =  %.f lb\"%(Fy)\n"
     ],
     "language": "python",
     "metadata": {},
     "outputs": [
      {
       "output_type": "stream",
       "stream": "stdout",
       "text": [
        "Horizontal force on the blade  =  75.0 lb\n",
        " Vertical force on the blade  =  201 lb\n"
       ]
      }
     ],
     "prompt_number": 11
    },
    {
     "cell_type": "heading",
     "level": 2,
     "metadata": {},
     "source": [
      "Example 6.3 Page No : 159"
     ]
    },
    {
     "cell_type": "code",
     "collapsed": false,
     "input": [
      "import math \n",
      "\t\n",
      "#Initialization of variables\n",
      "v2 = 36.         \t#fps\n",
      "beta = 150.      \t#degrees\n",
      "u = 60.          \t#velocity - fps\n",
      "rho = 1.94\n",
      "Qd = 0.0218\n",
      "V1 = 100.        \t#fps\n",
      "gam = 62.4\n",
      "g = 32.2\n",
      "\t\n",
      "#calculations\n",
      "v2s = v2*math.sin(math.radians(beta))\n",
      "v2c = u+v2*math.cos(math.radians(beta))\n",
      "V2 = 34.     \t#fps\n",
      "alpha = 32 \t    #degrees\n",
      "Fx = rho*Qd*(v2c-V1)*(V1-u)\n",
      "Fy = -rho*Qd*(V1-u)*v2s\n",
      "Fx2 = rho*Qd*V1*(v2c-V1)\n",
      "HPin = gam*Qd*V1*(V1**2 /(2*g))/550\n",
      "HPout = gam*Qd*V1*(V2**2 /(2*g))/550\n",
      "HPtransfer = -Fx2*u/550\n",
      "HPfl = HPin-HPout-HPtransfer\n",
      "\t\n",
      "#Results\n",
      "print \"Force exerted by water on the vane  =  %d lb\"%(Fx2)\n",
      "print \" Friction loss  =  %.1f hp \"%(HPfl)\n",
      "\n",
      "# rounding off error"
     ],
     "language": "python",
     "metadata": {},
     "outputs": [
      {
       "output_type": "stream",
       "stream": "stdout",
       "text": [
        "Force exerted by water on the vane  =  -301 lb\n",
        " Friction loss  =  1.1 hp \n"
       ]
      }
     ],
     "prompt_number": 12
    },
    {
     "cell_type": "heading",
     "level": 2,
     "metadata": {},
     "source": [
      "Example 6.4 Page No : 162"
     ]
    },
    {
     "cell_type": "code",
     "collapsed": false,
     "input": [
      "import math \n",
      "\t\n",
      "#Initialization of variables\n",
      "z1 = 35. \t#ft\n",
      "z3 = 20. \t#ft\n",
      "P1 = 30. \t#psi\n",
      "g = 32.2\n",
      "z2 = 10. \t#ft\n",
      "d2 = 4. \t#in\n",
      "rho = 1.94\n",
      "be = 20. \t#degrees\n",
      "W = 150. \t#lb\n",
      "\t\n",
      "#calculations\n",
      "V3 =  math.sqrt(2*g*(P1*144/55 + z1-z3))\n",
      "Q = 3.81 \t#cfs\n",
      "V2 = 43.6 \t#fps\n",
      "P2 = round(55*(z3+ V3**2/(2*g) - z2 - V2**2/(2*g))/144,1)\n",
      "Fx = round(P2*math.pi/4 *d2**2 - rho*55/62.4 *Q*(V3*math.cos(math.radians(be)) - V2) )\n",
      "Fy = rho*55/62.4 *Q*(V3*math.sin(math.radians(be)) ) + W\n",
      "Fres = math.sqrt(Fx**2 + Fy**2)\n",
      "Fsx = rho*Q*55/62.4*(V3*math.cos(math.radians(be)) )\n",
      "\n",
      "#calculations\n",
      "print \" resultant force  =  %.f lb\"%(Fy)\n",
      "print \" horizontal component of force  =  %d lb\"%(Fsx)\n"
     ],
     "language": "python",
     "metadata": {},
     "outputs": [
      {
       "output_type": "stream",
       "stream": "stdout",
       "text": [
        " resultant force  =  323 lb\n",
        " horizontal component of force  =  475 lb\n"
       ]
      }
     ],
     "prompt_number": 1
    },
    {
     "cell_type": "heading",
     "level": 2,
     "metadata": {},
     "source": [
      "Example 6.5 Page No : 168"
     ]
    },
    {
     "cell_type": "code",
     "collapsed": false,
     "input": [
      "import math \n",
      "\t\n",
      "#Initialization of variables\n",
      "omega = 300. \t#rpm\n",
      "r1 = 1.6 \t    #ft\n",
      "Q = 120. \t    #cfs\n",
      "z = 0.8     \t#ft\n",
      "beta1 = 80. \t#degrees\n",
      "r2 = 1.      \t#ft\n",
      "rho = 1.94\n",
      "g = 32.2\n",
      "gam = 62.4\n",
      "\t\n",
      "#calculations\n",
      "print (\"part a\")\n",
      "u1 = round((2*math.pi/60)*omega*r1,1)\n",
      "Vr1 = round(Q/(2*math.pi*r1*z),2)\n",
      "v1 = round(Vr1/math.sin(math.radians(beta1)),2)\n",
      "v2c = round(v1*math.cos(math.radians(beta1)),1)\n",
      "V1c = round(u1+v2c,1)\n",
      "u2 = round((2*math.pi/60)*omega*r2,1)\n",
      "Vr2 = round(Vr1*(r1/r2),1)\n",
      "beta2 = Vr2/u2   \n",
      "beta = 37.2\n",
      "print \"required Blade angle  =  %.1f degrees\"%(180-beta)\n",
      "print (\"part b\")\n",
      "T = round(rho*Q*(r1*V1c),-2)\n",
      "power = round(T*u2,-3)\n",
      "print \"Torque exerted  =  %d ft lb/s\"%(power)\n",
      "print (\"part c\")\n",
      "h2 = round(u1*V1c/g,1)\n",
      "Power = round(gam*Q*h2,-3)\n",
      "print \"Torque exerted  =  %d ft lb/s\"%(Power)\n"
     ],
     "language": "python",
     "metadata": {},
     "outputs": [
      {
       "output_type": "stream",
       "stream": "stdout",
       "text": [
        "part a\n",
        "required Blade angle  =  142.8 degrees\n",
        "part b\n",
        "Torque exerted  =  619000 ft lb/s\n",
        "part c\n",
        "Torque exerted  =  619000 ft lb/s\n"
       ]
      }
     ],
     "prompt_number": 18
    },
    {
     "cell_type": "heading",
     "level": 2,
     "metadata": {},
     "source": [
      "Example 6.6 Page No : 174"
     ]
    },
    {
     "cell_type": "code",
     "collapsed": false,
     "input": [
      "import math \n",
      "\t\n",
      "#Initialization of variables\n",
      "V1 = 150.*44/30\n",
      "Q = 20000./2\n",
      "d = 6.5 \t    #diameter - ft\n",
      "rho = 0.072\n",
      "\t\n",
      "#calculations\n",
      "A = math.pi/4 *(d)**2\n",
      "V = int(Q/A)\n",
      "dV = 2*(V-V1)\n",
      "Ft = round(rho/32.2 *Q*2*dV,-1)\n",
      "eta = round(1/(1+ dV/(2*V1)),2)\n",
      "dP = Ft/2 /(math.pi/4) /d**2\n",
      "hpp = Q*dP/550\n",
      "\n",
      "#Results\n",
      "print \"pressure rise  =  %d psf\"%(dP)\n",
      "print \" horsepower input  =  %d hp \"%(round(hpp,-1))\n"
     ],
     "language": "python",
     "metadata": {},
     "outputs": [
      {
       "output_type": "stream",
       "stream": "stdout",
       "text": [
        "pressure rise  =  109 psf\n",
        " horsepower input  =  1980 hp \n"
       ]
      }
     ],
     "prompt_number": 24
    },
    {
     "cell_type": "heading",
     "level": 2,
     "metadata": {},
     "source": [
      "Example 6.7 Page No : 175"
     ]
    },
    {
     "cell_type": "code",
     "collapsed": false,
     "input": [
      "\t\n",
      "#Initialization of variables\n",
      "V1 = 8.02 \t#fps\n",
      "V2 = 16.04 \t#fps\n",
      "Q = 481. \t#cfs\n",
      "rho = 1.94\n",
      "A = 10*6\n",
      "d = 3.\n",
      "\t\n",
      "#calculations\n",
      "Fx = 62.4*d*A - 62.4*d/2 *A/2 - rho*Q*(V2-V1)\n",
      "V1m = 2.56 \t#m/s\n",
      "V2m = 5.12 \t#m/s\n",
      "Qm = 15.4 \t#m**2/s\n",
      "dm = 1\n",
      "Am = 2*3\n",
      "rhom = 1\n",
      "Fxm = 9.81*dm*Am - 9.81*dm/2 *Am/2 - rhom*Qm*(V2m-V1m)\n",
      "\t\n",
      "#Results\n",
      "print \"Force in x- direction  =  %d lb\"%(Fx)\n",
      "print \"Force in x- direction  =  %.1f kN\"%(Fxm)\n"
     ],
     "language": "python",
     "metadata": {},
     "outputs": [
      {
       "output_type": "stream",
       "stream": "stdout",
       "text": [
        "Force in x- direction  =  940 lb\n",
        "Force in x- direction  =  4.7 kN\n"
       ]
      }
     ],
     "prompt_number": 9
    }
   ],
   "metadata": {}
  }
 ]
}