{
 "metadata": {
  "name": "",
  "signature": "sha256:5a87247e3e7d335ec3f93a6763434ef47db612054d0c0f12922c9d7638e3f184"
 },
 "nbformat": 3,
 "nbformat_minor": 0,
 "worksheets": [
  {
   "cells": [
    {
     "cell_type": "heading",
     "level": 1,
     "metadata": {},
     "source": [
      "Chapter 15 : Impulse Turbines"
     ]
    },
    {
     "cell_type": "heading",
     "level": 2,
     "metadata": {},
     "source": [
      "Example 15.1 Page No : 486"
     ]
    },
    {
     "cell_type": "code",
     "collapsed": false,
     "input": [
      "import math \n",
      "from numpy import *\n",
      "\t\n",
      "#Initialization of variables\n",
      "z2 = 500.\t#ft\n",
      "z1 = 300.\t#ft\n",
      "D = array([1, 1.5, 2 ,2.5, 3, 4, 6])\n",
      "g = 32.2\n",
      "gam = 62.4\n",
      "\t\n",
      "#calculations\n",
      "Dj = D/12\n",
      "Vj = sqrt((z2-z1)*2*g/(1.04 + 640.*Dj**4))\n",
      "Aj = math.pi/4 *Dj**2\n",
      "Q = Aj*Vj\n",
      "Pjet = gam*Q*Vj**2 /(2*g) /550\n",
      "Pj = max(Pjet)\n",
      "for i in range(0,len(Pjet)):\n",
      "    if(Pjet[i] == Pj):\n",
      "        break\n",
      "    \n",
      "diameter = D[i]\n",
      "\t\n",
      "#Results\n",
      "print \"Dj,in     Dj,ft     Vj,fps     Aj,ft**2     Q=AjVj,cfs     Pjet,hp\"\n",
      "for i in range(len(D)):\n",
      "    print \"%5.1f     %5.3f     %5.f     %7.4f        %5.2f        %5.1f\"%(D[i],Dj[i],Vj[i],Aj[i],Q[i],Pjet[i])\n",
      "print \"Thus a pipe of %d in will be the optimum\"%(diameter)\n",
      "\n",
      "# answer are slightly different because of rounding off error"
     ],
     "language": "python",
     "metadata": {},
     "outputs": [
      {
       "output_type": "stream",
       "stream": "stdout",
       "text": [
        "Dj,in     Dj,ft     Vj,fps     Aj,ft**2     Q=AjVj,cfs     Pjet,hp\n",
        "  1.0     0.083       110      0.0055         0.60         12.7\n",
        "  1.5     0.125       104      0.0123         1.27         24.2\n",
        "  2.0     0.167        92      0.0218         2.00         29.6\n",
        "  2.5     0.208        76      0.0341         2.58         26.1\n",
        "  3.0     0.250        60      0.0491         2.96         19.0\n",
        "  4.0     0.333        38      0.0873         3.31          8.4\n",
        "  6.0     0.500        18      0.1963         3.48          1.9\n",
        "Thus a pipe of 2 in will be the optimum\n"
       ]
      }
     ],
     "prompt_number": 3
    },
    {
     "cell_type": "heading",
     "level": 2,
     "metadata": {},
     "source": [
      "Example 15.2 Page No : 498"
     ]
    },
    {
     "cell_type": "code",
     "collapsed": false,
     "input": [
      "import math \n",
      "from sympy.functions.elementary.trigonometric import acot\n",
      "\t\n",
      "#Initialization of variables\n",
      "phi = 0.46\n",
      "g = 32.2\n",
      "k = 0.44\n",
      "cv = 0.98\n",
      "d = 10.      \t#in\n",
      "A = 0.545 \t    #ft**2\n",
      "beta = 160.  \t#degrees\n",
      "\t\n",
      "#calculations\n",
      "u = phi*math.sqrt(2*g)\n",
      "V1 = cv*math.sqrt(2*g)\n",
      "gQ = 62.4*A*V1\n",
      "T = d/2 *gQ/g *(1 - math.cos(math.radians(beta)) /math.sqrt(1+k) )*math.sqrt(2*g)*(cv-phi)\n",
      "Power = T*2*u/d\n",
      "\t\n",
      "#Results\n",
      "print \"Torque required  =  %d ft lb\"%(T)\n",
      "print \" Power transferred  =  %d ft lb/s\"%(Power)\n",
      "Pi = gQ\n",
      "He = Power/Pi\n",
      "print \" Hydraulic efficiency  =  %.2f\"%(He)\n",
      "v1 = V1-u\n",
      "v2 = v1/(math.sqrt(1+k))\n",
      "hl = k*v2**2 /(2*g)\n",
      "print \"Head loss in bucket friction  =  %.1f %%\"%(hl*100)\n",
      "Hn = (1/cv**2 -1)*V1**2 /(2*g)\n",
      "print \" Head loss in  nozzle  =  %.4f\"%(Hn*100)\n",
      "V2cos = u+v2*math.cos(math.radians(beta))\n",
      "V2sin = v2*math.sin(math.radians(beta))\n",
      "#alpha = math.degrees(1/math.atan(V2cos/V2sin))\n",
      "alpha = math.degrees(acot(V2cos/V2sin))\n",
      "V2 = V2sin/math.sin(math.radians(alpha))\n",
      "Hd = V2**2/(2*g)\n",
      "print \" Head loss at discharge  =  %.1f %%\"%(Hd*100)\n",
      "Htotal = Hd+Hn+hl\n",
      "print \" Total head loss  =  %.2f %%\"%(Htotal*100)\n",
      "\n",
      "# rounding off error"
     ],
     "language": "python",
     "metadata": {},
     "outputs": [
      {
       "output_type": "stream",
       "stream": "stdout",
       "text": [
        "Torque required  =  309 ft lb\n",
        " Power transferred  =  228 ft lb/s\n",
        " Hydraulic efficiency  =  0.85\n",
        "Head loss in bucket friction  =  8.3 %\n",
        " Head loss in  nozzle  =  3.9600\n",
        " Head loss at discharge  =  2.5 %\n",
        " Total head loss  =  14.70 %\n"
       ]
      }
     ],
     "prompt_number": 14
    },
    {
     "cell_type": "heading",
     "level": 2,
     "metadata": {},
     "source": [
      "Example 15.3 Page No : 501"
     ]
    },
    {
     "cell_type": "code",
     "collapsed": false,
     "input": [
      "import math \n",
      "\t\n",
      "#Initialization of variables\n",
      "cv = 0.98\n",
      "g = 32.2\n",
      "h = 1320. \t#ft\n",
      "A = 0.196 \t#ft**2\n",
      "eta = 0.85\n",
      "ne = 400.\n",
      "phi = 0.45\n",
      "\t\n",
      "#calculations\n",
      "V = cv*math.sqrt(2*g*h)\n",
      "Q = A*V\n",
      "bhp = eta*62.4*Q*h/550\n",
      "ns = ne*math.sqrt(bhp) /h**(5./4)\n",
      "u = phi*math.sqrt(2*g*h)\n",
      "D = u*60/math.pi/ne\n",
      "\t\n",
      "#Results\n",
      "print \"Pitch diameter  =  %.2f ft\"%(D)\n",
      "\n",
      "\n",
      "# part b\n",
      "#Initialization of variables\n",
      "cv = 0.98\n",
      "g = 32.2\n",
      "h = 1320. \t#ft\n",
      "A = 0.196 \t#ft**2\n",
      "eta = 0.85\n",
      "ne = 400.\n",
      "phi = 0.45\n",
      "\t\n",
      "#calculations\n",
      "V = cv*math.sqrt(2*g*h)\n",
      "Q = A*V/3\n",
      "bhp = eta*62.4*Q*h/550\n",
      "ne2 = 600.\n",
      "ns1 = ne2*math.sqrt(bhp) /h**(5./4)\n",
      "D = 2500./ne2\n",
      "Dj = math.sqrt(Q*4/V/math.pi)\n",
      "\t\n",
      "#Results\n",
      "print \" Jet diameter  =  %.3f ft\"%(Dj)\n",
      "print \" Specific speed  =  %.2f \"%(ns1)\n",
      "print \" Pitch Diameter  =  %.2f ft\"%(D)\n",
      "print \" Operating speed  =  %d rpm\"%(ne2)\n",
      "\n",
      "# rounding off error"
     ],
     "language": "python",
     "metadata": {},
     "outputs": [
      {
       "output_type": "stream",
       "stream": "stdout",
       "text": [
        "Pitch diameter  =  6.26 ft\n",
        " Jet diameter  =  0.288 ft\n",
        " Specific speed  =  3.68 \n",
        " Pitch Diameter  =  4.17 ft\n",
        " Operating speed  =  600 rpm\n"
       ]
      }
     ],
     "prompt_number": 1
    }
   ],
   "metadata": {}
  }
 ]
}