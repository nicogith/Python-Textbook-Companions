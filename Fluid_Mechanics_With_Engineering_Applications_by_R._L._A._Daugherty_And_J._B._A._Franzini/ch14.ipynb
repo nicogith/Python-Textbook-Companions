{
 "metadata": {
  "name": "",
  "signature": "sha256:bc0bdd3f42808393903a7a119b866f7bd775b8d70fdd54776d6bd686bc44038d"
 },
 "nbformat": 3,
 "nbformat_minor": 0,
 "worksheets": [
  {
   "cells": [
    {
     "cell_type": "heading",
     "level": 1,
     "metadata": {},
     "source": [
      "Chapter 14 : Similarity Laws and Factors for Turbomachines"
     ]
    },
    {
     "cell_type": "heading",
     "level": 2,
     "metadata": {},
     "source": [
      "Example 14.1 Page No : 479"
     ]
    },
    {
     "cell_type": "code",
     "collapsed": false,
     "input": [
      "import math\n",
      "\n",
      "#Initialization of variables\n",
      "g = 9.81 \t#kN/m**3\n",
      "Q = 3.2 \t#m**3/s\n",
      "h = 25   \t#m\n",
      "eta = 0.82\n",
      "\t\n",
      "#calculations\n",
      "bp =  g*Q*h/eta\n",
      "\t\n",
      "#Results\n",
      "print \"Brake power  =  %d kW\"%(bp)\n",
      "\n",
      "#Initialization of variables\n",
      "D1 = 50.\n",
      "n1 = 1450.\n",
      "n2 = 1200.\n",
      "D2 = 80.\n",
      "Q1 = 3.2 \t#cfs\n",
      "h1 = 25. \t#m\n",
      "g = 9.81 \t#kN/m**3\n",
      "eta = 0.82\n",
      "\t\n",
      "#calculations\n",
      "h2 = h1*(D2/D1)**2 *(n2/n1)**2\n",
      "Q2 = Q1*(D2/D1)**3 *(n2/n1)\n",
      "bp = g*Q2*h2/eta\n",
      "h1 = 82. \t    #ft\n",
      "Q1 = 50700. \t#gpm\n",
      "h2 = 143.8 \t#ft\n",
      "Q2 = 171800 \t#gpm\n",
      "Ns1 = n1*math.sqrt(Q1) /h1**(3/4.) \n",
      "Ns2 = n2*math.sqrt(Q2) /h2**(3/4.) \n",
      "\t\n",
      "#Results\n",
      "print \"Brake power  =  %d kW\"%(round(bp,-1))\n",
      "print \"Pumps are homologous. We expect them to have same specific speed and their speeds are %.1f and \\\n",
      "%.1f\"%(round(Ns1,-1),round(Ns2,-1))\n"
     ],
     "language": "python",
     "metadata": {},
     "outputs": [
      {
       "output_type": "stream",
       "stream": "stdout",
       "text": [
        "Brake power  =  957 kW\n",
        "Brake power  =  5690 kW\n",
        "Pumps are homologous. We expect them to have same specific speed and their speeds are 11980.0 and 11980.0\n"
       ]
      }
     ],
     "prompt_number": 2
    }
   ],
   "metadata": {}
  }
 ]
}