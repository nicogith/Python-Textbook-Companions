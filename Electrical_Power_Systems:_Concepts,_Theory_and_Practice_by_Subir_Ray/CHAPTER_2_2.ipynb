{
 "metadata": {
  "name": ""
 },
 "nbformat": 3,
 "nbformat_minor": 0,
 "worksheets": [
  {
   "cells": [
    {
     "cell_type": "heading",
     "level": 1,
     "metadata": {},
     "source": [
      "CHAPTER 2: FUNDAMENTAL CONCEPTS OF AC CIRCUITS"
     ]
    },
    {
     "cell_type": "heading",
     "level": 2,
     "metadata": {},
     "source": [
      "Example 2.1, Page number 26-27"
     ]
    },
    {
     "cell_type": "code",
     "collapsed": false,
     "input": [
      "\n",
      "MVA_base = 10.0  #Three-phase base MVA\n",
      "kV_base = 13.8   #Line-line base kV\n",
      "P = 7.0          #Power delivered(MW)\n",
      "PF = 0.8         #Power factor lagging\n",
      "Z = 5.7          #Impedance(ohm)\n",
      "\n",
      "import math\n",
      "I_base = (MVA_base) * (10**3)/((3**(0.5)) * kV_base)   #Base current(A)\n",
      "I_actual = P * (10**3)/((3**(0.5)) * kV_base*PF)       #Actual current delivered by machine(A)\n",
      "I_pu = I_actual/I_base                                 #p.u current(p.u)\n",
      "Z_pu = Z * (MVA_base/( (kV_base)**2 ))                 #p.u impedance(p.u)\n",
      "P_act_pu = P/MVA_base                                  #p.u active power(p.u)\n",
      "x = math.acos(PF)\n",
      "y = math.sin(x)\n",
      "P_react = (P * y)/PF                                   #Actual reactive power(MVAR)\n",
      "P_react_pu = P_react/MVA_base                          #Actual p.u reactive power(p.u)\n",
      "\n",
      "print('p.u current = %.3f p.u' %I_pu)\n",
      "print('p.u impedance = %.1f p.u' %Z_pu)\n",
      "print('p.u active power = %.1f p.u' %P_act_pu)\n",
      "print('p.u reactive power = %.3f p.u' %P_react_pu)\n"
     ],
     "language": "python",
     "metadata": {},
     "outputs": [
      {
       "output_type": "stream",
       "stream": "stdout",
       "text": [
        "p.u current = 0.875 p.u\n",
        "p.u impedance = 0.3 p.u\n",
        "p.u active power = 0.7 p.u\n",
        "p.u reactive power = 0.525 p.u\n"
       ]
      }
     ],
     "prompt_number": 1
    },
    {
     "cell_type": "heading",
     "level": 2,
     "metadata": {},
     "source": [
      "Example 2.2, Page number 27"
     ]
    },
    {
     "cell_type": "code",
     "collapsed": false,
     "input": [
      "\n",
      "MVA_base = 5.0   #Base MVA on both sides\n",
      "hv_base = 11.0   #Line to line base voltages in kV on h.v side\n",
      "lv_base = 0.4    #Line to line base voltages in kV on l.v side\n",
      "Z = 5.0/100      #Impedance of 5%\n",
      "\n",
      "Z_base_hv = (hv_base)**2/MVA_base    #Base impedance on h.v side(ohm)\n",
      "Z_base_lv = (lv_base)**2/MVA_base    #Base impedance on l.v side(ohm)\n",
      "Z_act_hv = Z * Z_base_hv             #Actual impedance viewed from h.v side(ohm)\n",
      "Z_act_lv = Z * Z_base_lv             #Actual impedance viewed from l.v side(ohm)\n",
      "\n",
      "print('Base impedance on h.v side = %.1f ohm' %Z_base_hv)\n",
      "print('Base impedance on l.v side = %.3f ohm' %Z_base_lv)\n",
      "print('Actual impedance viewed from h.v side = %.2f ohm' %Z_act_hv)\n",
      "print('Actual impedance viewed from l.v side = %.4f ohm' %Z_act_lv)"
     ],
     "language": "python",
     "metadata": {},
     "outputs": [
      {
       "output_type": "stream",
       "stream": "stdout",
       "text": [
        "Base impedance on h.v side = 24.2 ohm\n",
        "Base impedance on l.v side = 0.032 ohm\n",
        "Actual impedance viewed from h.v side = 1.21 ohm\n",
        "Actual impedance viewed from l.v side = 0.0016 ohm\n"
       ]
      }
     ],
     "prompt_number": 1
    }
   ],
   "metadata": {}
  }
 ]
}