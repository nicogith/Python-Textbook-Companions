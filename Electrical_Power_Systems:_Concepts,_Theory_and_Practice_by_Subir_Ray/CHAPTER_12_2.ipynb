{
 "metadata": {
  "name": ""
 },
 "nbformat": 3,
 "nbformat_minor": 0,
 "worksheets": [
  {
   "cells": [
    {
     "cell_type": "heading",
     "level": 1,
     "metadata": {},
     "source": [
      "CHAPTER 12: OVER-VOLTAGE TRANSIENTS IN POWER SYSTEMS AND PROTECTION"
     ]
    },
    {
     "cell_type": "heading",
     "level": 2,
     "metadata": {},
     "source": [
      "Example 12.1, Page number 408"
     ]
    },
    {
     "cell_type": "code",
     "collapsed": false,
     "input": [
      "\n",
      "V_i = 100.0         #Incident voltage(kV)\n",
      "Z_1 = 400.0         #Surge impedance(ohm)\n",
      "Z_2 = 350.0         #Surge impedance(ohm)\n",
      "\n",
      "beta = 2*Z_2/(Z_1+Z_2)      #Refraction coeffeicient of voltage\n",
      "alpha = (Z_2-Z_1)/(Z_1+Z_2) #Reflection coeffeicient of voltage\n",
      "V_t = beta*V_i              #Refracted voltage(kV)\n",
      "V_r = alpha*V_i             #Reflected voltage(kV)\n",
      "I_t = V_t/Z_2*1000          #Refracted current(A)\n",
      "I_r = -(V_r/Z_1)*1000       #Reflected current(A)\n",
      "\n",
      "print('Reflected voltage , V_r = %.1f kV' %V_r)\n",
      "print('Refracted voltage , V_t = %.1f kV' %V_t)\n",
      "print('Reflected current , I_r = %.1f A' %I_r)\n",
      "print('Refracted current , I_t = %.1f A' %I_t)"
     ],
     "language": "python",
     "metadata": {},
     "outputs": [
      {
       "output_type": "stream",
       "stream": "stdout",
       "text": [
        "Reflected voltage , V_r = -6.7 kV\n",
        "Refracted voltage , V_t = 93.3 kV\n",
        "Reflected current , I_r = 16.7 A\n",
        "Refracted current , I_t = 266.7 A\n"
       ]
      }
     ],
     "prompt_number": 1
    },
    {
     "cell_type": "heading",
     "level": 2,
     "metadata": {},
     "source": [
      "Example 12.2, Page number 408-409"
     ]
    },
    {
     "cell_type": "code",
     "collapsed": false,
     "input": [
      "\n",
      "V_i = 100.0         #Incident voltage(kV)\n",
      "Z_1 = 400.0         #Surge impedance(ohm)\n",
      "Z_21 = 350.0        #Surge impedance of line connected at T(ohm)\n",
      "Z_22 = 50.0         #Surge impedance of cable connected at T(ohm)\n",
      "\n",
      "Z_2 = Z_21*Z_22/(Z_21+Z_22)     #Surge impedance(ohm)\n",
      "V_t = 2*Z_2*V_i/(Z_1+Z_2)       #Refracted voltage(kV)\n",
      "V_r = (Z_2-Z_1)*V_i/(Z_1+Z_2)   #Reflected voltage(kV)\n",
      "I_t1 = V_t/Z_21*1000            #Refracted current in Z_21(A)\n",
      "I_t2 = V_t/Z_22*1000            #Refracted current in Z_22(A)\n",
      "I_r = -(V_r/Z_1)*1000           #Reflected current in Z_1(A)\n",
      "\n",
      "print('Refracted voltage , V_t = %.2f kV' %V_t)\n",
      "print('Refracted current in overhead line , I_t1 = %.2f A' %I_t1)\n",
      "print('Refracted current in underground cable , I_t2 = %.2f A' %I_t2)"
     ],
     "language": "python",
     "metadata": {},
     "outputs": [
      {
       "output_type": "stream",
       "stream": "stdout",
       "text": [
        "Refracted voltage , V_t = 19.72 kV\n",
        "Refracted current in overhead line , I_t1 = 56.34 A\n",
        "Refracted current in underground cable , I_t2 = 394.37 A\n"
       ]
      }
     ],
     "prompt_number": 1
    },
    {
     "cell_type": "heading",
     "level": 2,
     "metadata": {},
     "source": [
      "Example 12.3, Page number 409"
     ]
    },
    {
     "cell_type": "code",
     "collapsed": false,
     "input": [
      "\n",
      "V_i = 100.0         #Incident voltage(kV)\n",
      "Z_1 = 400.0         #Surge impedance of overhead line(ohm)\n",
      "Z_2 = 50.0          #Surge impedance of underground cable(ohm)\n",
      "\n",
      "beta = 2*Z_2/(Z_1+Z_2)      #Refraction coeffeicient of voltage\n",
      "alpha = (Z_2-Z_1)/(Z_1+Z_2) #Reflection coeffeicient of voltage\n",
      "V_t = beta*V_i              #Refracted voltage(kV)\n",
      "V_r = alpha*V_i             #Reflected voltage(kV)\n",
      "I_t = V_t/Z_2*1000          #Refracted current(A)\n",
      "I_r = -(V_r/Z_1)*1000       #Reflected current(A)\n",
      "\n",
      "print('Reflected voltage , V_r = %.1f kV' %V_r)\n",
      "print('Refracted voltage , V_t = %.1f kV' %V_t)\n",
      "print('Reflected current , I_r = %.1f A' %I_r)\n",
      "print('Refracted current , I_t = %.1f A' %I_t)"
     ],
     "language": "python",
     "metadata": {},
     "outputs": [
      {
       "output_type": "stream",
       "stream": "stdout",
       "text": [
        "Reflected voltage , V_r = -77.8 kV\n",
        "Refracted voltage , V_t = 22.2 kV\n",
        "Reflected current , I_r = 194.4 A\n",
        "Refracted current , I_t = 444.4 A\n"
       ]
      }
     ],
     "prompt_number": 1
    },
    {
     "cell_type": "heading",
     "level": 2,
     "metadata": {},
     "source": [
      "Example 12.5, Page number 410-411"
     ]
    },
    {
     "cell_type": "code",
     "collapsed": false,
     "input": [
      "\n",
      "R = 74.0*10**-6         #Resistance of overhead line(ohm/meter)\n",
      "L = 1.212*10**-6        #Inductance of overhead line(H/meter)\n",
      "C = 9.577*10**-12       #Capacitance of overhead line(F/meter)\n",
      "\n",
      "import math\n",
      "Z_0 = (L/C)**0.5        #Surge impedance of line(ohm)\n",
      "a = R/(2*Z_0)\n",
      "x_1 = math.log(2)/a     #Distance to be travelled(m)\n",
      "\n",
      "print('The distance the surge must travel to attenuate to half value = %.2e meter = %.2e km' %(x_1,x_1*10**-3))"
     ],
     "language": "python",
     "metadata": {},
     "outputs": [
      {
       "output_type": "stream",
       "stream": "stdout",
       "text": [
        "The distance the surge must travel to attenuate to half value = 6.66e+06 meter = 6.66e+03 km\n"
       ]
      }
     ],
     "prompt_number": 1
    },
    {
     "cell_type": "heading",
     "level": 2,
     "metadata": {},
     "source": [
      "Example 12.7, Page number 412-413"
     ]
    },
    {
     "cell_type": "code",
     "collapsed": false,
     "input": [
      "\n",
      "V_i = 2000.0        #Incident voltage(kV)\n",
      "Z = 300.0           #Surge impedance(ohm)\n",
      "V_p = 1200.0        #Arrester protection level(kV)\n",
      "\n",
      "I_surge = V_i/Z         #Surge current(kA)\n",
      "V_oc = 2*V_i            #Open-circuit voltage(kV)\n",
      "I_A = (V_oc-V_p)/Z      #Current through the arrestor(kA)\n",
      "I_r = I_A - I_surge     #Reflected current in line(kA)\n",
      "V_r = -I_r*Z            #Reflected voltage of line(kV)\n",
      "V_t = V_p               #Refracted voltage into arrestor(kV)\n",
      "V_r_coeff = V_r/V_i     #Reflected coefficient of voltage\n",
      "V_t_coeff = V_t/V_i     #Refracted coefficient of voltage\n",
      "R_a = V_p/I_A           #Arrestor resistance(ohm)\n",
      "\n",
      "print('Case(a) :')\n",
      "print('Current flowing in line before the surge voltage reaches the arrestor terminal = %.2f kA' %I_surge)\n",
      "print('\\nCase(b) :')\n",
      "print('Current through the arrestor , I_A = %.2f kA' %I_A)\n",
      "print('\\nCase(c) :')\n",
      "print('Refraction coefficient of voltage at arrestor terminals = %.1f ' %V_t_coeff)\n",
      "print('Reflection coefficient of voltage at arrestor terminals = %.1f ' %V_r_coeff)\n",
      "print('\\nCase(d) :')\n",
      "print('Value of arrestor resistance = %.1f ohm' %R_a)"
     ],
     "language": "python",
     "metadata": {},
     "outputs": [
      {
       "output_type": "stream",
       "stream": "stdout",
       "text": [
        "Case(a) :\n",
        "Current flowing in line before the surge voltage reaches the arrestor terminal = 6.67 kA\n",
        "\n",
        "Case(b) :\n",
        "Current through the arrestor , I_A = 9.33 kA\n",
        "\n",
        "Case(c) :\n",
        "Refraction coefficient of voltage at arrestor terminals = 0.6 \n",
        "Reflection coefficient of voltage at arrestor terminals = -0.4 \n",
        "\n",
        "Case(d) :\n",
        "Value of arrestor resistance = 128.6 ohm\n"
       ]
      }
     ],
     "prompt_number": 1
    }
   ],
   "metadata": {}
  }
 ]
}