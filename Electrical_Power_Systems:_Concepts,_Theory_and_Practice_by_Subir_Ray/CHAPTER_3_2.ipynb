{
 "metadata": {
  "name": ""
 },
 "nbformat": 3,
 "nbformat_minor": 0,
 "worksheets": [
  {
   "cells": [
    {
     "cell_type": "heading",
     "level": 1,
     "metadata": {},
     "source": [
      "CHAPTER 3: GENERAL CONSIDERATIONS OF TRANSMISSION AND DISTRIBUTION"
     ]
    },
    {
     "cell_type": "heading",
     "level": 2,
     "metadata": {},
     "source": [
      "Example 3.1, Page number 42-43"
     ]
    },
    {
     "cell_type": "code",
     "collapsed": false,
     "input": [
      "\n",
      "P = 5.0             #Power(MW)\n",
      "pf = 0.8            #lagging power factor\n",
      "d = 15.0            #Distance of line(km)\n",
      "J = 4.0             #Current density(amp per mm^2)\n",
      "r = 1.78*10**(-8)   #Resistivity(ohm-m)\n",
      "kV_1 = 11.0         #Permissible voltage level(kV)\n",
      "kV_2 = 22.0         #Permissible voltage level(kV)\n",
      "\n",
      "I_1 = (P*10**3)/((3)**(0.5) * (kV_1) * pf)   #Load current(A)\n",
      "area_1 = I_1/J                               #Cross-sectional area of the phase conductor(mm^2)\n",
      "volume_1 = 3 * (area_1/10**6) * (d*10**3)    #Volume of conductors material(m^3)\n",
      "R_1 = r * (d*10**3)/(area_1 * (10**-6))      #Resistance per phase(ohm)\n",
      "PL_1 = 3 * (I_1**2) * (R_1*10**(-3))         #Power loss(kW)\n",
      "\n",
      "I_2 = (P*10**3)/((3)**(0.5) * (kV_2) * pf)   #Load current(A)\n",
      "area_2 = I_2/J                               #Cross-sectional area of the phase conductor(mm^2)\n",
      "volume_2 = 3 * (area_2/10**6) * (d*10**3)    #Volume of conductors material(m^3)\n",
      "R_2 = r * (d*10**3)/(area_2 * (10**-6))      #Resistance per phase(ohm)\n",
      "PL_2 = 3 * (I_2**2) * (R_2*10**(-3))         #Power loss(kW)\n",
      "area_ch = (area_1-area_2)/area_1*100         #Change in area of 22kV level from 11 kV level(%)\n",
      "vol_ch = (volume_1-volume_2)/volume_1*100    #Change in volume of 22kV level from 11 kV level(%)\n",
      "loss_ch = (PL_1-PL_2)/PL_1*100               #Change in losses of 22kV level from 11 kV level(%)\n",
      "\n",
      "print('For 11 kV level :')\n",
      "print('Cross-sectional area of the phase conductor = %d mm^2' %area_1)\n",
      "print('Volume of conductors material = %.2f m^3' %volume_1)\n",
      "print('Power loss = %.2f kW' %PL_1)\n",
      "print('\\nFor 22 kV level :')\n",
      "print('Cross-sectional area of the phase conductor = %d mm^2' %area_2)\n",
      "print('Volume of conductors material = %.2f m^3' %volume_2)\n",
      "print('Power loss = %.2f kW' %PL_2)\n",
      "print('\\nConductor size has decreased by %.f percent in 22 kV level' %area_ch)\n",
      "print('Conductor volume has decreased by %.f percent in 22 kV level' %vol_ch)\n",
      "print('Conductor losses has decreased by %.f percent in 22 kV level' %loss_ch)"
     ],
     "language": "python",
     "metadata": {},
     "outputs": [
      {
       "output_type": "stream",
       "stream": "stdout",
       "text": [
        "For 11 kV level :\n",
        "Cross-sectional area of the phase conductor = 82 mm^2\n",
        "Volume of conductors material = 3.69 m^3\n",
        "Power loss = 1051.04 kW\n",
        "\n",
        "For 22 kV level :\n",
        "Cross-sectional area of the phase conductor = 41 mm^2\n",
        "Volume of conductors material = 1.85 m^3\n",
        "Power loss = 525.52 kW\n",
        "\n",
        "Conductor size has decreased by 50 percent in 22 kV level\n",
        "Conductor volume has decreased by 50 percent in 22 kV level\n",
        "Conductor losses has decreased by 50 percent in 22 kV level\n"
       ]
      }
     ],
     "prompt_number": 1
    }
   ],
   "metadata": {}
  }
 ]
}