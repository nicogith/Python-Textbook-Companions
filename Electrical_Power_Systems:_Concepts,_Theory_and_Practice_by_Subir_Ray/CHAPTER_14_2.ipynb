{
 "metadata": {
  "name": ""
 },
 "nbformat": 3,
 "nbformat_minor": 0,
 "worksheets": [
  {
   "cells": [
    {
     "cell_type": "heading",
     "level": 1,
     "metadata": {},
     "source": [
      "CHAPTER 14: ELEMENTS OF CIRCUIT-BREAKERS AND RELAYS"
     ]
    },
    {
     "cell_type": "heading",
     "level": 2,
     "metadata": {},
     "source": [
      "Example 14.1, Page number 521"
     ]
    },
    {
     "cell_type": "code",
     "collapsed": false,
     "input": [
      "\n",
      "TMS = 0.5       #Time multiplier setting\n",
      "I_f = 5000.0    #Fault current(A)\n",
      "CT = 500.0/5    #CT ratio\n",
      "set_plug = 1.0  #Relay plug set\n",
      "I_relay = 5.0   #Rated relay current(A)\n",
      "\n",
      "PSM = I_f/(CT*set_plug*I_relay)     #Plug setting multiplier\n",
      "T1 = 1.0                            #Time of operation for obtained PSM & TMS of 1 from graph.Refer Fig 14.22\n",
      "T2 = TMS*3/T1                       #Time of operation(sec)\n",
      "\n",
      "print('Operating time of the relay = %.1f sec' %T2)"
     ],
     "language": "python",
     "metadata": {},
     "outputs": [
      {
       "output_type": "stream",
       "stream": "stdout",
       "text": [
        "Operating time of the relay = 1.5 sec\n"
       ]
      }
     ],
     "prompt_number": 1
    },
    {
     "cell_type": "heading",
     "level": 2,
     "metadata": {},
     "source": [
      "Example 14.2, Page number 528-529"
     ]
    },
    {
     "cell_type": "code",
     "collapsed": false,
     "input": [
      "\n",
      "I_f_A = 6000.0      #3-phase fault current of substation A(A)\n",
      "I_f_B = 5000.0      #3-phase fault current of substation B(A)\n",
      "I_f_C = 3000.0      #3-phase fault current of substation C(A)\n",
      "I_f_D = 2000.0      #3-phase fault current of substation D(A)\n",
      "I_L_max = 100.0     #Maximum load cuurent(A)\n",
      "T = 0.5             #Operating time of breakers(sec)\n",
      " \n",
      "\n",
      "import math\n",
      "import cmath\n",
      "I_set = 1.0                         #Setting current(A)\n",
      "\n",
      "I_L_maxD = I_L_max                  #Maximum load current at D(A)\n",
      "CT_D = I_L_max/1                    #CT ratio\n",
      "PSM_D = I_f_D/(CT_D*I_set)          #Plug setting multiplier\n",
      "TMS_D = 0.1                         #Time multiplier setting\n",
      "T_D = 0.14*TMS_D/(PSM_D**0.02-1)    #Time of operation(sec)\n",
      "\n",
      "I_L_maxC = I_L_max+I_L_maxD         #Maximum load current at C(A)\n",
      "CT_C = I_L_maxC/1                   #CT ratio\n",
      "PSM_C = I_f_C/(CT_C*I_set)          #Plug setting multiplier\n",
      "T_C = T_D+T                         #Minimum time of operation(sec)\n",
      "TMS_C = T_C*(PSM_C**0.02-1)/0.14    #Time multiplier setting\n",
      "\n",
      "I_L_maxB = I_L_max+I_L_maxC         #Maximum load current at B(A)\n",
      "CT_B = I_L_maxB/1                   #CT ratio\n",
      "PSM_B = I_f_B/(CT_B*I_set)          #Plug setting multiplier\n",
      "T_B = T_C+T                         #Minimum time of operation(sec)\n",
      "TMS_B = T_B*(PSM_B**0.02-1)/0.14    #Time multiplier setting\n",
      "\n",
      "I_L_maxA = I_L_max+I_L_maxB         #Maximum load current at A(A)\n",
      "CT_A = I_L_maxA/1                   #CT ratio\n",
      "PSM_A = I_f_A/(CT_A*I_set)          #Plug setting multiplier\n",
      "T_A = T_B+T                         #Minimum time of operation(sec)\n",
      "TMS_A = T_A*(PSM_A**0.02-1)/0.14    #Time multiplier setting\n",
      "\n",
      "print('Relay A :')\n",
      "print('CT ratio = %.f/1' %CT_A)\n",
      "print('PSM of R_A = %.1f' %PSM_A)\n",
      "print('TMS of R_A = %.1f sec' %TMS_A)\n",
      "print('\\nRelay B :')\n",
      "print('CT ratio = %.f/1' %CT_B)\n",
      "print('PSM of R_B = %.2f' %PSM_B)\n",
      "print('TMS of R_B = %.1f sec' %TMS_B)\n",
      "print('\\nRelay C :')\n",
      "print('CT ratio = %.f/1' %CT_C)\n",
      "print('PSM of R_C = %.1f' %PSM_C)\n",
      "print('TMS of R_C = %.1f sec' %TMS_C)\n",
      "print('\\nRelay D :')\n",
      "print('CT ratio = %.f/1' %CT_D)\n",
      "print('PSM of R_D = %.1f' %PSM_D)\n",
      "print('TMS of R_D = %.2f sec' %TMS_D)"
     ],
     "language": "python",
     "metadata": {},
     "outputs": [
      {
       "output_type": "stream",
       "stream": "stdout",
       "text": [
        "Relay A :\n",
        "CT ratio = 400/1\n",
        "PSM of R_A = 15.0\n",
        "TMS of R_A = 0.7 sec\n",
        "\n",
        "Relay B :\n",
        "CT ratio = 300/1\n",
        "PSM of R_B = 16.67\n",
        "TMS of R_B = 0.5 sec\n",
        "\n",
        "Relay C :\n",
        "CT ratio = 200/1\n",
        "PSM of R_C = 15.0\n",
        "TMS of R_C = 0.3 sec\n",
        "\n",
        "Relay D :\n",
        "CT ratio = 100/1\n",
        "PSM of R_D = 20.0\n",
        "TMS of R_D = 0.10 sec\n"
       ]
      }
     ],
     "prompt_number": 1
    },
    {
     "cell_type": "heading",
     "level": 2,
     "metadata": {},
     "source": [
      "Example 14.3, Page number 537-538"
     ]
    },
    {
     "cell_type": "code",
     "collapsed": false,
     "input": [
      "\n",
      "kv_hv = 66.0                            #Voltage rating of HV side of transformer(kV)\n",
      "kv_lv = 11.0                            #Voltage rating of LV side of transformer(kV)\n",
      "CT = 300.0/5                            #CT ratio on low tension side\n",
      "\n",
      "I = 300.0                               #Assumed current flowing at low tension side(A)\n",
      "I_HT = kv_lv/kv_hv*I                    #Line current on HT side(A)\n",
      "I_LT_CT = I/CT                          #Pilot wire current from LT side(A)\n",
      "CT_ratio_HT = I_HT*3**0.5/I_LT_CT       #Ratio of CT on HT side\n",
      "\n",
      "print('Ratio of CT on high tension side = %.f\u221a3/%.f' %(I_HT,I_LT_CT))"
     ],
     "language": "python",
     "metadata": {},
     "outputs": [
      {
       "output_type": "stream",
       "stream": "stdout",
       "text": [
        "Ratio of CT on high tension side = 50\u221a3/5\n"
       ]
      }
     ],
     "prompt_number": 1
    },
    {
     "cell_type": "heading",
     "level": 2,
     "metadata": {},
     "source": [
      "Example 14.4, Page number 543-544"
     ]
    },
    {
     "cell_type": "code",
     "collapsed": false,
     "input": [
      "\n",
      "kv = 11.0       #Voltage rating(kV)\n",
      "MVA = 5.0       #MVA rating\n",
      "R = 10.0        #Resistance(ohm)\n",
      "per_a = 0.15    #Armature winding reactance\n",
      "per_trip = 0.3  #Relay trip for out-of-balance\n",
      "\n",
      "x_p = per_a*kv**2/MVA                           #Winding Reactance(ohm)\n",
      "V = kv/3**0.5*1000                              #Phase voltage(V)\n",
      "I = per_trip*MVA*1000/(3**0.5*kv)               #Out of balance current(A)\n",
      "p = (((R*I)**2/(V**2-(x_p*I)**2))**0.5)*100     #Percentage of winding remains unsupported\n",
      "\n",
      "print('Percentage of winding that remains unprotected , p = %.1f percentage' %p)"
     ],
     "language": "python",
     "metadata": {},
     "outputs": [
      {
       "output_type": "stream",
       "stream": "stdout",
       "text": [
        "Percentage of winding that remains unprotected , p = 12.4 percentage\n"
       ]
      }
     ],
     "prompt_number": 1
    }
   ],
   "metadata": {}
  }
 ]
}