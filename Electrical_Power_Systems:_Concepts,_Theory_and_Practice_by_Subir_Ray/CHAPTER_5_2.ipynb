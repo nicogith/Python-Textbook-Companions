{
 "metadata": {
  "name": ""
 },
 "nbformat": 3,
 "nbformat_minor": 0,
 "worksheets": [
  {
   "cells": [
    {
     "cell_type": "heading",
     "level": 1,
     "metadata": {},
     "source": [
      "CHAPTER 5: OVERHEAD LINE CONSTRUCTION"
     ]
    },
    {
     "cell_type": "heading",
     "level": 2,
     "metadata": {},
     "source": [
      "Example 5.1, Page number 136-138"
     ]
    },
    {
     "cell_type": "code",
     "collapsed": false,
     "input": [
      "\n",
      "L = 250.0           #Span(m)\n",
      "d = 1.1*10**-2      #Conductor diameter(m)\n",
      "w = 0.650*9.81      #Conductor weight(N/m)\n",
      "bl = 7000.0         #Breaking load(kg)\n",
      "sf = 2              #Safety factor\n",
      "P_w_2 = 350.0       #Wind pressure(N/m^2) for case(ii)\n",
      "P_w_3 = 400.0       #Wind pressure(N/m^2) for case(iii)\n",
      "t_3 = 10.0**-2      #Thickness of ice covering(m) for case(iii)\n",
      "w_ice = 915.0       #Ice weight(kg/m^3)\n",
      "\n",
      "import math\n",
      "T_0 = (bl/sf)*9.81   #Allowable tension(N)\n",
      "\n",
      "S_1 = (T_0/w)*(math.cosh(w*L/(2*T_0))-1)          #Sag(m)\n",
      "S_1_1 = (w*L**2)/(8*T_0)                          #Sag using parabolic equation(m)\n",
      "\n",
      "F_w_2 = P_w_2 * d                                 #Wind force(N/m)\n",
      "w_t_2 = (w**2 + F_w_2**2)**0.5                    #Total force on conductor(N/m)\n",
      "S_2 = (T_0/w_t_2)*(math.cosh(w_t_2*L/(2*T_0))-1)  #Sag(m)\n",
      "S_2_2 = w_t_2*L**2/(8*T_0)                        #Sag using parabolic equation(m)\n",
      "alpha_2 = math.atan(F_w_2/w)                      #w_t inclined vertical angle(radians)\n",
      "S_v_2 = S_2 * math.cos(alpha_2)                   #Vertical component of sag(m)\n",
      "\n",
      "D_3 = d + 2*t_3                                   #Diameter of conductor with ice(m)\n",
      "F_w_3 = P_w_3 * D_3                               #Wind force(N/m)\n",
      "w_ice_3 = (math.pi/4)*(D_3**2 - d**2)*w_ice*9.81  #Weight of ice(N/m)\n",
      "w_t_3 = ((w+w_ice_3)**2 + F_w_3**2)**0.5          #Total force on conductor(N/m)\n",
      "S_3 = (T_0/w_t_3)*(math.cosh(w_t_3*L/(2*T_0))-1)  #Sag(m)\n",
      "S_3_3 = w_t_3*L**2/(8*T_0)                        #Sag using parabolic equation(m)\n",
      "alpha_3 = math.atan(F_w_3/(w+w_ice_3))            #w_t inclined vertical angle(radians)\n",
      "S_v_3 = S_3 * math.cos(alpha_3)                   #Vertical component of sag(m)\n",
      "\n",
      "print('Case(i) :')\n",
      "print('Sag using catenary equation = %.4f m ' %S_1)\n",
      "print('Sag using parabolic equation = %.4f m \\n' %S_1_1)\n",
      "print('Case(ii) :')\n",
      "print('Sag using catenary equation = %.4f m ' %S_2)\n",
      "print('Sag using parabolic equation = %.4f m ' %S_2_2)\n",
      "print('Vertical component of sag = %.2f m \\n' %S_v_2)\n",
      "print('Case(iii) :')\n",
      "print('Sag using catenary equation = %.4f m ' %S_3)\n",
      "print('Sag using parabolic equation = %.4f m ' %S_3_3)\n",
      "print('Vertical component of sag = %.3f m \\n' %S_v_3)"
     ],
     "language": "python",
     "metadata": {},
     "outputs": [
      {
       "output_type": "stream",
       "stream": "stdout",
       "text": [
        "Case(i) :\n",
        "Sag using catenary equation = 1.4510 m \n",
        "Sag using parabolic equation = 1.4509 m \n",
        "\n",
        "Case(ii) :\n",
        "Sag using catenary equation = 1.6949 m \n",
        "Sag using parabolic equation = 1.6948 m \n",
        "Vertical component of sag = 1.45 m \n",
        "\n",
        "Case(iii) :\n",
        "Sag using catenary equation = 3.9752 m \n",
        "Sag using parabolic equation = 3.9738 m \n",
        "Vertical component of sag = 2.799 m \n",
        "\n"
       ]
      }
     ],
     "prompt_number": 1
    },
    {
     "cell_type": "heading",
     "level": 2,
     "metadata": {},
     "source": [
      "Example 5.2, Page number 138"
     ]
    },
    {
     "cell_type": "code",
     "collapsed": false,
     "input": [
      "\n",
      "w = 0.85             #Weight of overhead line(kg/m)\n",
      "T_0 = 3.5*10**4      #Maximum allowable tension(N)\n",
      "L_1 = 160.0          #Span(m) for case(i)\n",
      "L_2 = 200.0          #Span(m) for case(ii)\n",
      "L_3 = 250.0          #Span(m) for case(iii)\n",
      "L_4 = 275.0          #Span(m) for case(iv)\n",
      "g_c = 7.1            #Minimum ground clearance(m)\n",
      "L_S = 1.5            #Length of suspension insulator string\n",
      "\n",
      "w1 = w * 9.81            #Weight(N/m)\n",
      "\n",
      "S_1 = w1*L_1**2/(8*T_0)  #Sag(m)\n",
      "H_1 = g_c + S_1 + L_S    #Height of lowest cross-arm(m)\n",
      "\n",
      "S_2 = w1*L_2**2/(8*T_0)  #Sag(m)\n",
      "H_2 = g_c + S_2 + L_S    #Height of lowest cross-arm(m)\n",
      "\n",
      "S_3 = w1*L_3**2/(8*T_0)  #Sag(m)\n",
      "H_3 = g_c + S_3 + L_S    #Height of lowest cross-arm(m)\n",
      "\n",
      "S_4 = w1*L_4**2/(8*T_0)  #Sag(m)\n",
      "H_4 = g_c + S_4 + L_S    #Height of lowest cross-arm(m)\n",
      "\n",
      "print('Span in meters\\t                          %d\\t  %d\\t  %d\\t  %d' %(L_1,L_2,L_3,L_4))\n",
      "print('Sag in meters\\t                         %.3f\\t %.3f\\t %.3f\\t %.3f' %(S_1,S_2,S_3,S_4))\n",
      "print('Height of lowest cross-arm in meters\\t %.3f\\t %.3f\\t %.3f\\t %.3f' %(H_1,H_2,H_3,H_4))\n",
      "print('\\nNOTE : ERROR : For finding height of lowest cross arm the length of insulation string is not considered in textbook calculation')\n",
      "print('although it is mentioned in formula. Since length of insulation string is taken here there is a difference in answers from that of given in textbook')"
     ],
     "language": "python",
     "metadata": {},
     "outputs": [
      {
       "output_type": "stream",
       "stream": "stdout",
       "text": [
        "Span in meters\t                          160\t  200\t  250\t  275\n",
        "Sag in meters\t                         0.762\t 1.191\t 1.861\t 2.252\n",
        "Height of lowest cross-arm in meters\t 9.362\t 9.791\t 10.461\t 10.852\n",
        "\n",
        "NOTE : ERROR : For finding height of lowest cross arm the length of insulation string is not considered in textbook calculation\n",
        "although it is mentioned in formula. Since length of insulation string is taken here there is a difference in answers from that of given in textbook\n"
       ]
      }
     ],
     "prompt_number": 1
    },
    {
     "cell_type": "heading",
     "level": 2,
     "metadata": {},
     "source": [
      "Example 5.3, Page number 138-139"
     ]
    },
    {
     "cell_type": "code",
     "collapsed": false,
     "input": [
      "\n",
      "w = 0.63         #Weight of conductor(kg/m)\n",
      "T_0 = 1350.0     #Maximum allowable load(kg)\n",
      "h_1 = 20.0       #Height of first tower(m)\n",
      "h_2 = 15.0       #Height of second tower(m)\n",
      "L = 240.0        #Span(m)\n",
      "\n",
      "h = h_1 - h_2              #Difference in levels of towers(m)\n",
      "L_1 = (L/2)+(T_0*h/(w*L))  #Horizontal distance from higher support(m)\n",
      "L_2 = (L/2)-(T_0*h/(w*L))  #Horizontal distance from lower support(m)\n",
      "S_1 = w*L_1**2/(2*T_0)     #Sag from upper support(m)\n",
      "S_2 = w*L_2**2/(2*T_0)     #Sag from lower support(m)\n",
      "clearance = (h_1 - S_1)    #Minimum clearance(m)\n",
      "\n",
      "print('Minimum clearance between a line conductor & water surface = %.3f m' %clearance)\n",
      "print('Sag from upper support = %.3f m' %S_1)"
     ],
     "language": "python",
     "metadata": {},
     "outputs": [
      {
       "output_type": "stream",
       "stream": "stdout",
       "text": [
        "Minimum clearance between a line conductor & water surface = 13.675 m\n",
        "Sag from upper support = 6.325 m\n"
       ]
      }
     ],
     "prompt_number": 1
    },
    {
     "cell_type": "heading",
     "level": 2,
     "metadata": {},
     "source": [
      "Example 5.5, Page number 160"
     ]
    },
    {
     "cell_type": "code",
     "collapsed": false,
     "input": [
      "\n",
      "n = 3       #Number of discs\n",
      "m = 0.1     #capacitance of each link pin to self capacitance\n",
      "V = 33.0    #Voltage(kV)\n",
      "\n",
      "a_1 = 1\n",
      "a_2 = (1 + m)*a_1\n",
      "a_3 = m*(a_1 + a_2) + a_2\n",
      "v_1 = V/(a_1 + a_2 + a_3)   #Voltage across top unit(kV)\n",
      "v_2 = a_2 * v_1             #Voltage across middle unit(kV)\n",
      "v_3 = a_3 * v_1             #Voltage across bottom unit(kV)\n",
      "s_v_1 = (v_1/V)*100         #Voltage across top unit to string voltage(%)\n",
      "s_v_2 = (v_2/V)*100         #Voltage across middle unit to string voltage(%)\n",
      "s_v_3 = (v_3/V)*100         #Voltage across bottom unit to string voltage(%)\n",
      "\n",
      "efficiency = V*100/(3*v_3)  #String efficiency(%)\n",
      "\n",
      "print('Case(i) :')\n",
      "print('Voltage across top unit , v_1 = %.3f kV' %v_1)\n",
      "print('Voltage across middle unit , v_2 = %.3f kV' %v_2)\n",
      "print('Voltage across bottom unit , v_3 = %.3f kV' %v_3)\n",
      "print('Voltage across top unit as a percentage of string voltage , v_1/V = %.1f percent' %s_v_1)\n",
      "print('Voltage across middle unit as a percentage of string voltage , v_2/V = %.1f percent' %s_v_2)\n",
      "print('Voltage across bottom unit as a percentage of string voltage , v_3/V = %.1f percent' %s_v_3)\n",
      "print('\\nCase(ii) :')\n",
      "print('String efficiency = %.2f percent' %efficiency)"
     ],
     "language": "python",
     "metadata": {},
     "outputs": [
      {
       "output_type": "stream",
       "stream": "stdout",
       "text": [
        "Case(i) :\n",
        "Voltage across top unit , v_1 = 9.677 kV\n",
        "Voltage across middle unit , v_2 = 10.645 kV\n",
        "Voltage across bottom unit , v_3 = 12.677 kV\n",
        "Voltage across top unit as a percentage of string voltage , v_1/V = 29.3 percent\n",
        "Voltage across middle unit as a percentage of string voltage , v_2/V = 32.3 percent\n",
        "Voltage across bottom unit as a percentage of string voltage , v_3/V = 38.4 percent\n",
        "\n",
        "Case(ii) :\n",
        "String efficiency = 86.77 percent\n"
       ]
      }
     ],
     "prompt_number": 1
    },
    {
     "cell_type": "heading",
     "level": 2,
     "metadata": {},
     "source": [
      "Example 5.6, Page number 160-161"
     ]
    },
    {
     "cell_type": "code",
     "collapsed": false,
     "input": [
      "\n",
      "n = 8       #Number of discs\n",
      "m = 1.0/6   #capacitance of each link pin to self capacitance\n",
      "V = 30.0    #Voltage(kV)\n",
      "\n",
      "a_1 = 1\n",
      "a_2 = (1+m)*a_1\n",
      "a_3 = m*(a_1+a_2)+a_2\n",
      "a_4 = m*(a_1+a_2+a_3)+a_3\n",
      "a_5 = m*(a_1+a_2+a_3+a_4)+a_4\n",
      "a_6 = m*(a_1+a_2+a_3+a_4+a_5)+a_5\n",
      "a_7 = m*(a_1+a_2+a_3+a_4+a_5+a_6)+a_6\n",
      "a_8 = m*(a_1+a_2+a_3+a_4+a_5+a_6+a_7)+a_7\n",
      "v_1 = V/(a_1+a_2+a_3+a_4+a_5+a_6+a_7+a_8)    #Voltage across unit 1(kV)\n",
      "v_2 = a_2*v_1                                #Voltage across unit 2(kV)\n",
      "v_3 = a_3*v_1                                #Voltage across unit 3(kV)\n",
      "v_4 = a_4*v_1                                #Voltage across unit 4(kV)\n",
      "v_5 = a_5*v_1                                #Voltage across unit 5(kV)\n",
      "v_6 = a_6*v_1                                #Voltage across unit 6(kV)\n",
      "v_7 = a_7*v_1                                #Voltage across unit 7(kV)\n",
      "v_8 = a_8*v_1                                #Voltage across unit 8(kV)\n",
      "s_v_1 = v_1/V*100                            #Voltage across unit 1 as a % of V\n",
      "s_v_2 = v_2/V*100                            #Voltage across unit 2 as a % of V\n",
      "s_v_3 = v_3/V*100                            #Voltage across unit 3 as a % of V\n",
      "s_v_4 = v_4/V*100                            #Voltage across unit 4 as a % of V\n",
      "s_v_5 = v_5/V*100                            #Voltage across unit 5 as a % of V\n",
      "s_v_6 = v_6/V*100                            #Voltage across unit 6 as a % of V\n",
      "s_v_7 = v_7/V*100                            #Voltage across unit 7 as a % of V\n",
      "s_v_8 = v_8/V*100                            #Voltage across unit 8 as a % of V\n",
      "\n",
      "V_2 = V*100/s_v_8\n",
      "V_sys = (3**0.5)*V_2                         #Permissible system voltage(kV)\n",
      "\n",
      "print('Case(i) :')\n",
      "print('____________________________________________________________________________________________')\n",
      "print('Unit number                          1      2      3      4      5       6       7       8\\n')\n",
      "print('Percentage of conductor voltage    %.2f   %.2f   %.2f   %.2f   %.2f   %.2f   %.2f   %.2f' %(s_v_1,s_v_2,s_v_3,s_v_4,s_v_5,s_v_6,s_v_7,s_v_8))\n",
      "print('____________________________________________________________________________________________')\n",
      "print('\\nCase(ii) :')\n",
      "print('System voltage at which this string can be used = %.2f kV' %V_sys)"
     ],
     "language": "python",
     "metadata": {},
     "outputs": [
      {
       "output_type": "stream",
       "stream": "stdout",
       "text": [
        "Case(i) :\n",
        "____________________________________________________________________________________________\n",
        "Unit number                          1      2      3      4      5       6       7       8\n",
        "\n",
        "Percentage of conductor voltage    3.26   3.80   4.98   6.98   10.15   15.01   22.37   33.46\n",
        "____________________________________________________________________________________________\n",
        "\n",
        "Case(ii) :\n",
        "System voltage at which this string can be used = 155.29 kV\n"
       ]
      }
     ],
     "prompt_number": 1
    },
    {
     "cell_type": "heading",
     "level": 2,
     "metadata": {},
     "source": [
      "Example 5.7, Page number 161-162"
     ]
    },
    {
     "cell_type": "code",
     "collapsed": false,
     "input": [
      "\n",
      "v_dry = 65.0     #Dry power frequency flashover voltage for each disc(kV)\n",
      "v_wet = 43.0     #Wet power frequency flashover voltage for each disc(kV)\n",
      "V = 110          #Voltage of system to be insulated(kV)\n",
      "m = 1.0/6        #capacitance of each link pin to self capacitance\n",
      "n_4 = 4          #Number of units in a string\n",
      "n_8 = 8          #Number of units in a string\n",
      "n_10 = 10        #Number of units in a string\n",
      "v_dry_4 = 210.0  #Dry power frequency flashover voltage for 4 units(kV)\n",
      "v_dry_8 = 385.0  #Dry power frequency flashover voltage for 8 units(kV)\n",
      "v_dry_10 = 460.0 #Dry power frequency flashover voltage for 10 units(kV)\n",
      "v_wet_4 = 150.0  #Wet power frequency flashover voltage for 4 units(kV)\n",
      "v_wet_8 = 285.0  #Wet power frequency flashover voltage for 8 units(kV)\n",
      "v_wet_10 = 345.0 #Wet power frequency flashover voltage for 10 units(kV)\n",
      "\n",
      "eff_dry_4 = v_dry_4*100/(n_4*v_dry)\n",
      "eff_dry_8 = v_dry_8*100/(n_8*v_dry)\n",
      "eff_dry_10 = v_dry_10*100/(n_10*v_dry)\n",
      "eff_wet_4 = v_wet_4*100/(n_4*v_wet)\n",
      "eff_wet_8 = v_wet_8*100/(n_8*v_wet)\n",
      "eff_wet_10 = v_wet_10*100/(n_10*v_wet)\n",
      "\n",
      "a_1 = 1\n",
      "a_2 = (1+m)*a_1\n",
      "a_3 = m*(a_1+a_2)+a_2\n",
      "a_4 = m*(a_1+a_2+a_3)+a_3\n",
      "a_5 = m*(a_1+a_2+a_3+a_4)+a_4\n",
      "a_6 = m*(a_1+a_2+a_3+a_4+a_5)+a_5\n",
      "a_7 = m*(a_1+a_2+a_3+a_4+a_5+a_6)+a_6\n",
      "a_8 = m*(a_1+a_2+a_3+a_4+a_5+a_6+a_7)+a_7\n",
      "v_1 = V/(a_1+a_2+a_3+a_4+a_5+a_6+a_7+a_8)    #Voltage across unit 1(kV)\n",
      "v_8 = a_8*v_1                                #Voltage across unit 8(kV)\n",
      "s_v_8 = v_8/V                                #Ratio of Voltage across unit 8 to string voltage\n",
      "voltage_2 = V/(3**0.5)*s_v_8                 #Voltage across the disc adjacent to conductor(kV)\n",
      "sf_dry = v_dry/voltage_2                     #Factor of safety for dry flashover\n",
      "sf_wet = v_wet/voltage_2                     #Factor of safety for wet flashover\n",
      "\n",
      "print('Case(i) :')\n",
      "print('___________________________________________________________________________')\n",
      "print(' No. of units       Dry string efficiency(%)      Wet string efficiency(%)')\n",
      "print('___________________________________________________________________________')\n",
      "print(' %d                  %.2f                         %.2f        ' %(n_4,eff_dry_4,eff_wet_4))\n",
      "print(' %d                  %.2f                         %.2f        ' %(n_8,eff_dry_8,eff_wet_8))\n",
      "print(' %d                 %.2f                         %.2f        ' %(n_10,eff_dry_10,eff_wet_10))\n",
      "print('___________________________________________________________________________')\n",
      "print('\\nCase(ii) :')\n",
      "print('Factor of safety for dry flashover = %.2f' %sf_dry)\n",
      "print('Factor of safety for wet flashover = %.2f' %sf_wet)"
     ],
     "language": "python",
     "metadata": {},
     "outputs": [
      {
       "output_type": "stream",
       "stream": "stdout",
       "text": [
        "Case(i) :\n",
        "___________________________________________________________________________\n",
        " No. of units       Dry string efficiency(%)      Wet string efficiency(%)\n",
        "___________________________________________________________________________\n",
        " 4                  80.77                         87.21        \n",
        " 8                  74.04                         82.85        \n",
        " 10                 70.77                         80.23        \n",
        "___________________________________________________________________________\n",
        "\n",
        "Case(ii) :\n",
        "Factor of safety for dry flashover = 3.06\n",
        "Factor of safety for wet flashover = 2.02\n"
       ]
      }
     ],
     "prompt_number": 1
    },
    {
     "cell_type": "heading",
     "level": 2,
     "metadata": {},
     "source": [
      "Example 5.8, Page number 163"
     ]
    },
    {
     "cell_type": "code",
     "collapsed": false,
     "input": [
      "\n",
      "n = 4        #Number of disc\n",
      "v_2 = 13.2   #Voltage across second unit(kV)\n",
      "v_3 = 18.0   #Voltage across third unit(kV)\n",
      "\n",
      "m = 0.198                       #Obtained by solving the quadratic equation\n",
      "a_1 = 1\n",
      "a_2 = 1+m\n",
      "a_3 = m*(a_1+a_2)+a_2\n",
      "a_4 = m*(a_1+a_2+a_3)+a_3\n",
      "v_1 = v_2/a_2                   #Voltage across first unit(kV)\n",
      "v_4 = a_4*v_1                   #Voltage across second unit(kV)\n",
      "V = v_1+v_2+v_3+v_4             #Conductor voltage(kV)\n",
      "efficiency = V/(n*v_4)*100      #String efficiency(%)\n",
      "\n",
      "print('Conductor voltage with respect to the cross-arm , V = %.2f kV' %V)\n",
      "print('String efficiency = %.2f percent' %efficiency)"
     ],
     "language": "python",
     "metadata": {},
     "outputs": [
      {
       "output_type": "stream",
       "stream": "stdout",
       "text": [
        "Conductor voltage with respect to the cross-arm , V = 68.57 kV\n",
        "String efficiency = 65.05 percent\n"
       ]
      }
     ],
     "prompt_number": 1
    },
    {
     "cell_type": "heading",
     "level": 2,
     "metadata": {},
     "source": [
      "Example 5.9, Page number 164-165"
     ]
    },
    {
     "cell_type": "code",
     "collapsed": false,
     "input": [
      "\n",
      "n = 3       #Number of disc\n",
      "\n",
      "unit_1 = 100/3.072                  #Disc voltage as % of conductor voltage of Topmost unit\n",
      "unit_2 = 1.014/3.072*100            #Disc voltage as % of conductor voltage of second unit\n",
      "unit_3 = 1.058/3.072*100            #Disc voltage as % of conductor voltage of bottom unit\n",
      "efficiency = 3.072*100/(n*1.058)    #String efficiency(%)\n",
      "\n",
      "unit_1g = 100/3.752                 #Disc voltage as % of conductor voltage of Topmost unit\n",
      "unit_2g = 1.18/3.752*100            #Disc voltage as % of conductor voltage of second unit\n",
      "unit_3g = 1.5724/3.752*100          #Disc voltage as % of conductor voltage of bottom unit\n",
      "efficiency1 = 3.752*100/(n*1.5724)    #String efficiency(%)\n",
      "\n",
      "print('Disc voltages as a percentage of the conductor voltage with guard ring are :')\n",
      "print('Topmost unit = %.2f percent' %unit_1)\n",
      "print('Second unit = %.2f percent' %unit_2)\n",
      "print('Bottom unit = %.2f percent' %unit_3)\n",
      "print('String efficiency = %.2f percent' %efficiency)\n",
      "print('\\nDisc voltages as a percentage of the conductor voltage without guard ring are :')\n",
      "print('Topmost unit = %.2f percent' %unit_1g)\n",
      "print('Second unit = %.2f percent' %unit_2g)\n",
      "print('Bottom unit = %.2f percent' %unit_3g)\n",
      "print('String efficiency = %.2f percent' %efficiency1)"
     ],
     "language": "python",
     "metadata": {},
     "outputs": [
      {
       "output_type": "stream",
       "stream": "stdout",
       "text": [
        "Disc voltages as a percentage of the conductor voltage with guard ring are :\n",
        "Topmost unit = 32.55 percent\n",
        "Second unit = 33.01 percent\n",
        "Bottom unit = 34.44 percent\n",
        "String efficiency = 96.79 percent\n",
        "\n",
        "Disc voltages as a percentage of the conductor voltage without guard ring are :\n",
        "Topmost unit = 26.65 percent\n",
        "Second unit = 31.45 percent\n",
        "Bottom unit = 41.91 percent\n",
        "String efficiency = 79.54 percent\n"
       ]
      }
     ],
     "prompt_number": 1
    },
    {
     "cell_type": "heading",
     "level": 2,
     "metadata": {},
     "source": [
      "Example 5.10, Page number 173"
     ]
    },
    {
     "cell_type": "code",
     "collapsed": false,
     "input": [
      "\n",
      "v = 220.0    #Voltage(kV)\n",
      "f = 50.0     #Frequency(Hertz)\n",
      "p = 752.0    #Pressure(mm of Hg)\n",
      "t = 40.0     #Temperature(\u00b0C)\n",
      "m = 0.92     #Surface irregularity factor\n",
      "r = 1.2      #Conductor radius(cm)\n",
      "d = 550.0    #Spacing(cm)\n",
      "\n",
      "import math\n",
      "delta = (0.392*p)/(273+t)           #Air density correction factor\n",
      "V_c = 21.1*delta*m*r*math.log(d/r)  #Corona inception voltage(kv/phase)rms\n",
      "V_c_l = 3**0.5*V_c                  #Line-line corona inception voltage(kV)\n",
      "\n",
      "print('Corona inception voltage , V_c = %.2f kV/phase' %V_c)\n",
      "print('Line-to-line corona inception voltage = %.2f kV' %V_c_l)"
     ],
     "language": "python",
     "metadata": {},
     "outputs": [
      {
       "output_type": "stream",
       "stream": "stdout",
       "text": [
        "Corona inception voltage , V_c = 134.43 kV/phase\n",
        "Line-to-line corona inception voltage = 232.84 kV\n"
       ]
      }
     ],
     "prompt_number": 1
    },
    {
     "cell_type": "heading",
     "level": 2,
     "metadata": {},
     "source": [
      "Example 5.11, Page number 173-174"
     ]
    },
    {
     "cell_type": "code",
     "collapsed": false,
     "input": [
      "\n",
      "v = 220.0    #Voltage(kV)\n",
      "f = 50.0     #Frequency(Hertz)\n",
      "v_o = 1.6    #Over voltage(p.u)\n",
      "p = 752.0    #Pressure(mm of Hg)\n",
      "t = 40.0     #Temperature(\u00b0C)\n",
      "m = 0.92     #Surface irregularity factor\n",
      "r = 1.2      #Conductor radius(cm)\n",
      "d = 550.0    #Spacing(cm)\n",
      "\n",
      "import math\n",
      "delta = (0.392*p)/(273+t)                                    #Air density correction factor\n",
      "V_c = 21.1*delta*m*r*math.log(d/r)                           #Corona inception voltage(kv/phase)rms\n",
      "V_ph = (v * v_o)/3**0.5                                      #Phase voltage(kV)\n",
      "peek = 3*(241/delta)*(f+25)*(r/d)**0.5*(V_ph-V_c)**2*10**-5  #Peek's formula(kW/km)\n",
      "ratio = V_ph/V_c\n",
      "F = 0.9                                                      #Ratio of V_ph to V_c\n",
      "peterson = 3*2.1*f*F*(V_c/math.log10(d/r))**2*10**-5         #Peterson's formula(kW/km)\n",
      "\n",
      "print('Corona loss using Peeks formula , P = %.2f kW/km' %peek)\n",
      "print('Corona loss using Petersons formula , P = %.2f kW/km' %peterson)"
     ],
     "language": "python",
     "metadata": {},
     "outputs": [
      {
       "output_type": "stream",
       "stream": "stdout",
       "text": [
        "Corona loss using Peeks formula , P = 127.28 kW/km\n",
        "Corona loss using Petersons formula , P = 7.23 kW/km\n"
       ]
      }
     ],
     "prompt_number": 1
    }
   ],
   "metadata": {}
  }
 ]
}