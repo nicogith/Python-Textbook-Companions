{
 "metadata": {
  "name": ""
 },
 "nbformat": 3,
 "nbformat_minor": 0,
 "worksheets": [
  {
   "cells": [
    {
     "cell_type": "heading",
     "level": 1,
     "metadata": {},
     "source": [
      "CHAPTER 8: ELEMENTS OF ELECTRIC POWER GENERATION"
     ]
    },
    {
     "cell_type": "heading",
     "level": 2,
     "metadata": {},
     "source": [
      "Example 8.1, Page number 260-261"
     ]
    },
    {
     "cell_type": "code",
     "collapsed": false,
     "input": [
      "\n",
      "w = 0.8     #Coal to be burnt for every kWh of electric energy(kg)\n",
      "C = 5000    #Calorific value of coal(kilo-calories/kg)\n",
      "\n",
      "heat_energy = C*w/860       #Heat energy of combustion of given coal(kWh)\n",
      "efficiency = 1/heat_energy  #Overall efficiency\n",
      "\n",
      "print('Overall efficiency of the plant = %.3f' %efficiency)"
     ],
     "language": "python",
     "metadata": {},
     "outputs": [
      {
       "output_type": "stream",
       "stream": "stdout",
       "text": [
        "Overall efficiency of the plant = 0.215\n"
       ]
      }
     ],
     "prompt_number": 1
    },
    {
     "cell_type": "heading",
     "level": 2,
     "metadata": {},
     "source": [
      "Example 8.2, Page number 261"
     ]
    },
    {
     "cell_type": "code",
     "collapsed": false,
     "input": [
      "\n",
      "P = 250.0       #Power(MW)\n",
      "C = 6100.0      #Calorific value(kcal/kg)\n",
      "n_1 = 0.9       #Plant runs at full load\n",
      "h_1 = 20.0      #Time for full load(hour)\n",
      "n_2 = 0.75      #Plant runs at full load\n",
      "h_2 = 4.0       #Time for full load(hour)\n",
      "n_t = 0.3       #Thermal efficiency\n",
      "n_g = 0.93      #Generator efficiency\n",
      "\n",
      "E_T = (P*n_1*h_1+P*n_2*h_2)*1000    #Total electric energy produced by plant in a day(kWh)\n",
      "efficiency = n_t * n_g              #Overall efficiency of the plant\n",
      "heat_energy = E_T*860/efficiency    #Heat energy of combustion of coal(kcal)\n",
      "coal_requ = heat_energy/C           #Daily coal requirement(kg)\n",
      "coal_requ_ton = coal_requ*10**-3    #Daily coal requirement(tonnes)\n",
      "\n",
      "print('Daily coal requirement = %.2e kg = %.f tonnes' %(coal_requ,coal_requ_ton))"
     ],
     "language": "python",
     "metadata": {},
     "outputs": [
      {
       "output_type": "stream",
       "stream": "stdout",
       "text": [
        "Daily coal requirement = 2.65e+06 kg = 2653 tonnes\n"
       ]
      }
     ],
     "prompt_number": 1
    },
    {
     "cell_type": "heading",
     "level": 2,
     "metadata": {},
     "source": [
      "Example 8.3, Page number 266"
     ]
    },
    {
     "cell_type": "code",
     "collapsed": false,
     "input": [
      "\n",
      "Q = 1.0         #Water discharge(m^3/sec)\n",
      "h = 200.0       #Height(m)\n",
      "n_h = 0.85      #Hydraulic efficiency\n",
      "n_e = 0.95      #Electric efficiency\n",
      "\n",
      "n = n_h*n_e             #Overall efficiency\n",
      "P = (736.0/75)*Q*h*n    #Electrical power available(kW)\n",
      "E = P*1.0               #Energy available in an hour(kWh)\n",
      "\n",
      "print('Electrical power available = %.2f kW' %P)\n",
      "print('Energy available in an hour = %.2f kWh' %E)"
     ],
     "language": "python",
     "metadata": {},
     "outputs": [
      {
       "output_type": "stream",
       "stream": "stdout",
       "text": [
        "Electrical power available = 1584.85 kW\n",
        "Energy available in an hour = 1584.85 kWh\n"
       ]
      }
     ],
     "prompt_number": 1
    },
    {
     "cell_type": "heading",
     "level": 2,
     "metadata": {},
     "source": [
      "Example 8.4, Page number 266-267"
     ]
    },
    {
     "cell_type": "code",
     "collapsed": false,
     "input": [
      "\n",
      "Ad = 6.0*10**6      #Reservoir capacity(m^3)\n",
      "h = 150.0           #Head(m)\n",
      "n = 0.78            #Overall efficiency\n",
      "P = 25.0*10**6      #Power(Watt)\n",
      "t = 4.0             #Supply time(hour)\n",
      "\n",
      "AX = P*75*3600*t/(736*h*n*1000)   #unit(m^3)\n",
      "X_d = AX/Ad*100                   #Fall in reservoir level(%)\n",
      "\n",
      "print('Percentage fall in reservoir level = %.2f percent' %X_d)"
     ],
     "language": "python",
     "metadata": {},
     "outputs": [
      {
       "output_type": "stream",
       "stream": "stdout",
       "text": [
        "Percentage fall in reservoir level = 5.23 percent\n"
       ]
      }
     ],
     "prompt_number": 1
    },
    {
     "cell_type": "heading",
     "level": 2,
     "metadata": {},
     "source": [
      "Example 8.5, Page number 288-289"
     ]
    },
    {
     "cell_type": "code",
     "collapsed": false,
     "input": [
      "\n",
      "X_s = 1.0       #Synchronous reactance of generator(p.u)\n",
      "V_b = 1.0       #Terminal voltage of generator=voltage of infinite bus(p.u)\n",
      "P_G = 0.5       #Real power output at unity pf(p.u)\n",
      "\n",
      "import math\n",
      "import cmath\n",
      "\n",
      "I = P_G/V_b                         #Generator current(p.u)\n",
      "E = complex(V_b,I*X_s)              #Excitation emf of finite machine(p.u)\n",
      "delta = cmath.phase(E)*180/math.pi  #Power angle = angle b/w E & V_b(degree)\n",
      "\n",
      "P_Gn = P_G/2                        #Real power o/p when steam i/p is halved(p.u)\n",
      "sin_delta_n = P_Gn*X_s/(abs(E)*V_b)\n",
      "delta_n = math.asin(sin_delta_n)    #New power angle(radian)\n",
      "E_n = abs(E)*cmath.exp(1j*delta_n)  #Excitation emf of finite machine with new angle(p.u)\n",
      "I_n = (E_n-V_b)/complex(0,X_s)      #Current when steam i/p is halved(p.u)\n",
      "pf_n = math.cos(cmath.phase(I_n))   #Power factor when steam i/p is halved\n",
      "\n",
      "P_po = abs(E)*V_b/X_s               #Pull out power(p.u)\n",
      "\n",
      "stiff_a = abs(E)*V_b/X_s*math.cos(cmath.phase(E))     #Electrical stiffness in case(a) (p.u/radian)\n",
      "stiff_b = abs(E)*V_b/X_s*math.cos(cmath.phase(I_n))   #Electrical stiffness in case(b) (p.u/radian)\n",
      "\n",
      "print('Case(a) :')\n",
      "print('Excitation voltage of finite machine , E = %.2f\u2220%.2f\u00b0 p.u' %(abs(E),delta))\n",
      "print('Power angle = %.2f\u00b0' %delta)\n",
      "print('\\nCase(b) :')\n",
      "print('Current if steam input is reduced to half , I_n = %.3f\u2220%.2f\u00b0 p.u' %(abs(I_n),cmath.phase(I_n)*180/math.pi))\n",
      "print('Power factor if steam input is reduced to half = %.2f lagging' %pf_n)\n",
      "print('Power angle if steam input is reduced to half = %.2f\u00b0' %(delta_n*180/math.pi))\n",
      "print('\\nCase(c) :')\n",
      "print('Pull out power = %.2f p.u' %P_po)\n",
      "print('\\nCase(d) :')\n",
      "print('Electrical stiffness for case(a) = %.1f p.u/radian' %stiff_a)\n",
      "print('Electrical stiffness for case(b) = %.3f p.u/radian' %stiff_b)"
     ],
     "language": "python",
     "metadata": {},
     "outputs": [
      {
       "output_type": "stream",
       "stream": "stdout",
       "text": [
        "Case(a) :\n",
        "Excitation voltage of finite machine , E = 1.12\u222026.57\u00b0 p.u\n",
        "Power angle = 26.57\u00b0\n",
        "\n",
        "Case(b) :\n",
        "Current if steam input is reduced to half , I_n = 0.266\u2220-19.74\u00b0 p.u\n",
        "Power factor if steam input is reduced to half = 0.94 lagging\n",
        "Power angle if steam input is reduced to half = 12.92\u00b0\n",
        "\n",
        "Case(c) :\n",
        "Pull out power = 1.12 p.u\n",
        "\n",
        "Case(d) :\n",
        "Electrical stiffness for case(a) = 1.0 p.u/radian\n",
        "Electrical stiffness for case(b) = 1.052 p.u/radian\n"
       ]
      }
     ],
     "prompt_number": 1
    },
    {
     "cell_type": "heading",
     "level": 2,
     "metadata": {},
     "source": [
      "Example 8.6, Page number 289-290"
     ]
    },
    {
     "cell_type": "code",
     "collapsed": false,
     "input": [
      "\n",
      "X_s = 1.1       #Synchronous reactance of generator(p.u)\n",
      "V_b = 1.0       #Terminal voltage of generator=voltage of infinite bus(p.u)\n",
      "E = 1.25        #Excitation emf of finite machine(p.u)\n",
      "P_G = 0.3       #Active power output(p.u)\n",
      "dec = 0.25      #Excitation is decreased\n",
      "\n",
      "import math\n",
      "import cmath\n",
      "\n",
      "sin_delta = P_G*X_s/(E*V_b)\n",
      "delta = math.asin(sin_delta)                #Power angle(radian)\n",
      "Q_G = V_b/X_s*(E*math.cos(delta)-V_b)       #Reactive power output(p.u)\n",
      "\n",
      "E_n = (1-dec)*E                             #New excitation emf of finite machine(p.u)\n",
      "P_Gn = P_G                                  #New active power output(p.u)\n",
      "sin_delta_n = P_G*X_s/(E_n*V_b)\n",
      "delta_n = math.asin(sin_delta_n)            #New power angle(radian)\n",
      "Q_Gn = V_b/X_s*(E_n*math.cos(delta_n)-V_b)  #New reactive power output(p.u)\n",
      "\n",
      "print('Case(a) :')\n",
      "print('Power angle = %.2f\u00b0' %(delta*180/math.pi))\n",
      "print('Reactive power output , Q_G = %.3f p.u' %Q_G)\n",
      "print('\\nCase(b) :')\n",
      "print('Active power if excitation is decreased , P_Gn = %.1f p.u' %P_Gn)\n",
      "print('Reactive power if excitation is decreased , Q_Gn = %.3f p.u' %Q_Gn)\n",
      "print('Power angle if excitation is decreased = %.2f\u00b0' %(delta_n*180/math.pi))"
     ],
     "language": "python",
     "metadata": {},
     "outputs": [
      {
       "output_type": "stream",
       "stream": "stdout",
       "text": [
        "Case(a) :\n",
        "Power angle = 15.31\u00b0\n",
        "Reactive power output , Q_G = 0.187 p.u\n",
        "\n",
        "Case(b) :\n",
        "Active power if excitation is decreased , P_Gn = 0.3 p.u\n",
        "Reactive power if excitation is decreased , Q_Gn = -0.111 p.u\n",
        "Power angle if excitation is decreased = 20.61\u00b0\n"
       ]
      }
     ],
     "prompt_number": 1
    },
    {
     "cell_type": "heading",
     "level": 2,
     "metadata": {},
     "source": [
      "Example 8.7, Page number 290"
     ]
    },
    {
     "cell_type": "code",
     "collapsed": false,
     "input": [
      "\n",
      "X_s = 1.05      #Synchronous reactance of generator(p.u)\n",
      "V_b = 0.95      #Terminal voltage of generator=voltage of infinite bus(p.u)\n",
      "X_L = 0.1       #Reactance of link(p.u)\n",
      "E = 1.2         #Excitation emf of finite machine(p.u)\n",
      "P_G = 0.15      #Active power output(p.u)\n",
      "inc = 1         #Turbine torque increased\n",
      "\n",
      "import math\n",
      "import cmath\n",
      "\n",
      "sin_delta = P_G*(X_s+X_L)/(E*V_b)\n",
      "delta = math.asin(sin_delta)                    #Power angle(radian)\n",
      "Q_G = V_b/(X_s+X_L)*(E*math.cos(delta)-V_b)     #Reactive power output(p.u)\n",
      "\n",
      "P_Gn = (1+inc)*P_G                              #New active power output(p.u)\n",
      "sin_delta_n = P_Gn*(X_s+X_L)/(E*V_b)\n",
      "delta_n = math.asin(sin_delta_n)                #Power angle(radian)\n",
      "Q_Gn = V_b/(X_s+X_L)*(E*math.cos(delta_n)-V_b)  #Reactive power output(p.u)\n",
      "P_change = (P_Gn-P_G)/P_G*100                   #Change in active power output(%)\n",
      "Q_change = (Q_Gn-Q_G)/Q_G*100                   #Change in reactive power output(%)\n",
      "\n",
      "print('Change in active power supplied by generator = %.f percent' %P_change)\n",
      "print('Change in reactive power supplied by generator = %.2f percent' %Q_change)"
     ],
     "language": "python",
     "metadata": {},
     "outputs": [
      {
       "output_type": "stream",
       "stream": "stdout",
       "text": [
        "Change in active power supplied by generator = 100 percent\n",
        "Change in reactive power supplied by generator = -17.97 percent\n"
       ]
      }
     ],
     "prompt_number": 1
    },
    {
     "cell_type": "heading",
     "level": 2,
     "metadata": {},
     "source": [
      "Example 8.8, Page number 291"
     ]
    },
    {
     "cell_type": "code",
     "collapsed": false,
     "input": [
      "\n",
      "X_s = 6.0       #Synchronous reactance of alternator(ohms/phase)\n",
      "pf = 0.8        #Lagging power factor\n",
      "P_G = 5.0       #Power delivered(MW)\n",
      "V = 11.0        #Voltage of infinite bus(kV)\n",
      "\n",
      "import math\n",
      "import cmath\n",
      "delta = math.acos(pf)\n",
      "I = P_G*1000/(3**0.5*V*pf)*(pf - complex(0,math.sin(delta)))      #Alternator current(A)\n",
      "V_b = V*10**3/3**0.5                                              #Voltage of infinite bus(V/phase)\n",
      "E = complex(V_b,I*X_s)                                            #Initial excitation voltage(V)\n",
      "pf_n = 1.0                                                        #New power factor\n",
      "P_Gn = P_G                                                        #New power delivered(MW)\n",
      "I_n = P_Gn*1000/(3**0.5*V*pf_n)                                   #Alternator current(A)\n",
      "E_n = complex(V_b,I_n*X_s)                                        #New excitation voltage(V)\n",
      "excitation_change = (abs(E)-abs(E_n))/abs(E)*100                  #Percentage change in excitation(%)\n",
      "\n",
      "print('Percentage change in excitation = %.2f percent' %excitation_change)"
     ],
     "language": "python",
     "metadata": {},
     "outputs": [
      {
       "output_type": "stream",
       "stream": "stdout",
       "text": [
        "Percentage change in excitation = 14.96 percent\n"
       ]
      }
     ],
     "prompt_number": 1
    }
   ],
   "metadata": {}
  }
 ]
}