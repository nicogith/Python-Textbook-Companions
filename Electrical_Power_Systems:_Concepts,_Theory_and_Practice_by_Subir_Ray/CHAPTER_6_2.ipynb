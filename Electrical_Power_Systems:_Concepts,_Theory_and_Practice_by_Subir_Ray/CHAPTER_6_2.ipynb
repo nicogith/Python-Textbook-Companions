{
 "metadata": {
  "name": ""
 },
 "nbformat": 3,
 "nbformat_minor": 0,
 "worksheets": [
  {
   "cells": [
    {
     "cell_type": "heading",
     "level": 1,
     "metadata": {},
     "source": [
      "CHAPTER 6: UNDERGROUND CABLES"
     ]
    },
    {
     "cell_type": "heading",
     "level": 2,
     "metadata": {},
     "source": [
      "Example 6.1, Page number 191-192"
     ]
    },
    {
     "cell_type": "code",
     "collapsed": false,
     "input": [
      "\n",
      "C_m = 0.28      #Capacitance b/w ant 2 cores(micro-F/km)\n",
      "f = 50.0        #Frequency(Hz)\n",
      "V_L = 11.0      #Line voltage(kV)\n",
      "\n",
      "import math\n",
      "C = 2*C_m                           #Capacitance b/w any conductor & shield(micro-F/km)\n",
      "w = 2*math.pi*f                     #Angular frequency\n",
      "I_c = V_L*10**3*w*C*10**-6/3**0.5   #Charging current/phase/km(A)\n",
      "Total = 3**0.5*I_c*V_L              #Total charging kVAR/km\n",
      "\n",
      "print('Charging current/phase/km , I_c = %.3f A' %I_c)\n",
      "print('Total charging kVAR/km = %.2f ' %Total)"
     ],
     "language": "python",
     "metadata": {},
     "outputs": [
      {
       "output_type": "stream",
       "stream": "stdout",
       "text": [
        "Charging current/phase/km , I_c = 1.117 A\n",
        "Total charging kVAR/km = 21.29 \n"
       ]
      }
     ],
     "prompt_number": 1
    },
    {
     "cell_type": "heading",
     "level": 2,
     "metadata": {},
     "source": [
      "Example 6.2, Page number 193-194"
     ]
    },
    {
     "cell_type": "code",
     "collapsed": false,
     "input": [
      "\n",
      "E_c = 100.0     #Safe working stress(kV/cm) rms\n",
      "V = 130.0       #Operating voltage(kV) rms\n",
      "d = 1.5         #Diameter of conductor(cm)\n",
      "\n",
      "import math\n",
      "ln_D = 2*V/(E_c*d)+math.log(d)\n",
      "D = math.exp(ln_D)\n",
      "thick_1 = (D-d)/2               #Insulation thickness(cm)\n",
      "\n",
      "d_2 = 2*V/E_c\n",
      "D_2 = 2.718*d_2                 #Sheath diameter(cm)\n",
      "thick_2 = (D_2-d_2)/2           #Insulation thickness(cm)\n",
      "\n",
      "print('(i)  Internal sheath radius = %.2f cm' %thick_1)\n",
      "print('(ii) Internal sheath radius = %.2f cm' %thick_2)"
     ],
     "language": "python",
     "metadata": {},
     "outputs": [
      {
       "output_type": "stream",
       "stream": "stdout",
       "text": [
        "(i)  Internal sheath radius = 3.49 cm\n",
        "(ii) Internal sheath radius = 2.23 cm\n"
       ]
      }
     ],
     "prompt_number": 1
    },
    {
     "cell_type": "heading",
     "level": 2,
     "metadata": {},
     "source": [
      "Example 6.3, Page number 194-196"
     ]
    },
    {
     "cell_type": "code",
     "collapsed": false,
     "input": [
      "\n",
      "d = 3.0         #Diameter of conductor(cm)\n",
      "D = 8.5         #Sheath diameter(cm)\n",
      "e_r1 = 5.0      #Permittivity of inner dielectric\n",
      "e_r2 = 3.0      #Permittivity of outer dielectric\n",
      "E_c = 30.0      #Safe working stress(kV/cm) rms\n",
      "\n",
      "import math\n",
      "E_i = E_c\n",
      "D_1 = e_r1/e_r2*d\n",
      "thick_1 = (D_1-d)/2     #Thickness of first layer(cm)\n",
      "thick_2 = (D-D_1)/2     #Thickness of second layer(cm)\n",
      "\n",
      "V_1 = E_c*d*math.log(D_1/d)/2       #Voltage across first layer(kV)\n",
      "V_2 = E_i*D_1*math.log(D/D_1)/2     #Voltage across second layer(kV)\n",
      "V = V_1 + V_2                       #Permissible conductor voltage(kV)\n",
      "\n",
      "V_3 = E_c*d*math.log(D/d)/2         #Permissible conductor voltage(kV) for homogeneous permittivity of 5\n",
      "\n",
      "print('Case(i) :')\n",
      "print('Thickness of first layer = %.2f cm' %thick_1)\n",
      "print('Thickness of second layer = %.2f cm' %thick_2)\n",
      "print('\\nCase(ii) :')\n",
      "print('Permissible conductor voltage = %.2f kV' %V)\n",
      "print('\\nCase(iii) :')\n",
      "print('Permissible conductor voltage if a homogeneous insulation of permittivity 5 is used , V = %.2f kV' %V_3)\n",
      "print('\\nNOTE : ERROR : Relative permittivity of outer dielectric is 3 & not 9 as given in textbook')"
     ],
     "language": "python",
     "metadata": {},
     "outputs": [
      {
       "output_type": "stream",
       "stream": "stdout",
       "text": [
        "Case(i) :\n",
        "Thickness of first layer = 1.00 cm\n",
        "Thickness of second layer = 1.75 cm\n",
        "\n",
        "Case(ii) :\n",
        "Permissible conductor voltage = 62.78 kV\n",
        "\n",
        "Case(iii) :\n",
        "Permissible conductor voltage if a homogeneous insulation of permittivity 5 is used , V = 46.87 kV\n",
        "\n",
        "NOTE : ERROR : Relative permittivity of outer dielectric is 3 & not 9 as given in textbook\n"
       ]
      }
     ],
     "prompt_number": 1
    },
    {
     "cell_type": "heading",
     "level": 2,
     "metadata": {},
     "source": [
      "Example 6.4, Page number 196-197"
     ]
    },
    {
     "cell_type": "code",
     "collapsed": false,
     "input": [
      "\n",
      "E = 40.0        #Safe working stress(kV/cm) rms\n",
      "d = 1.5         #Conductor diameter(cm)\n",
      "D = 6.7         #Sheath diameter(cm)\n",
      "t = 0.1         #Thickness of lead tube(cm)\n",
      "\n",
      "import math\n",
      "r = d/2                     #Conductor radius(cm)\n",
      "R = D/2                     #Sheath radius(cm)\n",
      "r_i = r+((R-r)/2)-t/2       #Internal radius of intersheath(cm)\n",
      "r_e = r_i + t               #External radius of intersheath(cm)\n",
      "V_1 = E*r*math.log(r_i/r)   #Voltage across conductor & intersheath(kV)\n",
      "V_2 = E*r_e*math.log(R/r_e) #Voltage across intersheath & earthed sheath(kV)\n",
      "V = V_1 + V_2               #Safe working voltage with intersheath(kV)\n",
      "V_no = E*r*math.log(R/r)    #Safe working voltage without intersheath(kV)\n",
      "\n",
      "print('Safe working voltage with intersheath , V = %.2f kV' %V)\n",
      "print('Safe working voltage without intersheath , V = %.2f kV' %V_no)"
     ],
     "language": "python",
     "metadata": {},
     "outputs": [
      {
       "output_type": "stream",
       "stream": "stdout",
       "text": [
        "Safe working voltage with intersheath , V = 68.65 kV\n",
        "Safe working voltage without intersheath , V = 44.90 kV\n"
       ]
      }
     ],
     "prompt_number": 1
    }
   ],
   "metadata": {}
  }
 ]
}