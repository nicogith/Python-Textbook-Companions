{
 "metadata": {
  "name": ""
 },
 "nbformat": 3,
 "nbformat_minor": 0,
 "worksheets": [
  {
   "cells": [
    {
     "cell_type": "heading",
     "level": 1,
     "metadata": {},
     "source": [
      "CHAPTER 15: POWER SYSTEM STABILITY"
     ]
    },
    {
     "cell_type": "heading",
     "level": 2,
     "metadata": {},
     "source": [
      "Example 15.1, Page number 561"
     ]
    },
    {
     "cell_type": "code",
     "collapsed": false,
     "input": [
      "\n",
      "G = 50.0            #Rating of machine(MVA)\n",
      "f = 50.0            #Frequency of turbo generator(Hz)\n",
      "V = 11.0            #Voltage rating of machine(kV)\n",
      "H = 9.0             #Cycle corresponding to 180 ms\n",
      "P_0 = 40.0          #Pre-fault output power(MW)\n",
      "delta_0 = 20.0      #Rotor angle at instant of fault(degree)\n",
      "\n",
      "P_0_close = 0                              #Output power at instant of reclosing(MW)\n",
      "P_a = P_0 - P_0_close                      #Net accelerating power(MW)\n",
      "delta_sqr = P_a*180*f/(G*H)                #double derivative(elect.degrees/sec^2)\n",
      "\n",
      "from scipy.integrate import quad\n",
      "\n",
      "def integrand1(t):                         #Integrates the double derivative to 800*t\n",
      "    return delta_sqr\n",
      "a, err = quad(integrand1, 0, 180*10**-3)   #Rotor velocity(electrical degrees/sec)\n",
      "\n",
      "def integrand2(t):                         #Integrates the double derivative to 400*t^2\n",
      "    return delta_sqr*t\n",
      "b, err = quad(integrand2, 0, 180*10**-3)\n",
      "delta = delta_0 + b                        #Rotor angle(electrical degrees)\n",
      "\n",
      "print('Rotor angle at the instant of reclosure = %.2f\u00b0 electrical degrees' %delta)\n",
      "print('Rotor velocity at the instant of reclosure = %.1f electrical degrees/sec' %a)"
     ],
     "language": "python",
     "metadata": {},
     "outputs": [
      {
       "output_type": "stream",
       "stream": "stdout",
       "text": [
        "Rotor angle at the instant of reclosure = 32.96\u00b0 electrical degrees\n",
        "Rotor velocity at the instant of reclosure = 144.0 electrical degrees/sec\n"
       ]
      }
     ],
     "prompt_number": 1
    },
    {
     "cell_type": "heading",
     "level": 2,
     "metadata": {},
     "source": [
      "Example 15.2, Page number 571"
     ]
    },
    {
     "cell_type": "code",
     "collapsed": false,
     "input": [
      "\n",
      "V = 1.0         #Infinite bus voltage(p.u)\n",
      "E = 1.0         #e.m.f of finite generator behind transient reactance(p.u)\n",
      "X_T = 0.8       #Transfer reactance(p.u)\n",
      "P_i = 0.5       #Input power(p.u)\n",
      "P_i_d = 0.8     #p.u\n",
      "P_0 = 0.5       #Output power(p.u)\n",
      "P = 0.5         #Power(p.u)\n",
      "\n",
      "import math\n",
      "P_m = E*V/X_T                       #Amplitude of power angle curve(p.u)\n",
      "delta_0 = math.asin(P_i/P_m)        #Radians\n",
      "delta = math.asin(P_i_d/P_m)        #Radians\n",
      "delta_m = math.pi-delta             #Radians\n",
      "A_acc = P_i_d*(delta-delta_0)-P_m*(math.cos(delta_0)-math.cos(delta))   #Possible area of accceleration\n",
      "A_dec = P_m*(math.cos(delta)-math.cos(delta_m))-P_i_d*(delta_m-delta)   #Possible area of deceleration\n",
      "\n",
      "if(A_acc < A_dec):\n",
      "    print('System is stable')\n",
      "    stability = A_dec/A_acc\n",
      "    print('Margin of stability = %.2f' %stability)\n",
      "else:\n",
      "    print('System is not stable')"
     ],
     "language": "python",
     "metadata": {},
     "outputs": [
      {
       "output_type": "stream",
       "stream": "stdout",
       "text": [
        "System is stable\n",
        "Margin of stability = 12.59\n"
       ]
      }
     ],
     "prompt_number": 1
    },
    {
     "cell_type": "heading",
     "level": 2,
     "metadata": {},
     "source": [
      "Example 15.3, Page number 572-575"
     ]
    },
    {
     "cell_type": "code",
     "collapsed": false,
     "input": [
      "\n",
      "x = 0.25        #Transient reactance(p.u)\n",
      "E = 1.0         #e.m.f of finite generator behind transient reactance(p.u)\n",
      "x_T = 0.1       #Reactance of transformer(p.u)\n",
      "x_L = 0.4       #Reactance of one line(p.u)\n",
      "P_i = 0.25      #Pre-fault power(p.u)\n",
      "\n",
      "import math\n",
      "X_T = x+x_T+(x_L/2)                 #Transfer reactance at pre-fault state(p.u)\n",
      "P_m = E**2/X_T                      #Amplitude of power angle curve at pre-fault state(p.u)\n",
      "X_T1 = 1.45                         #Transfer reactance b/w finite generator & infinite bus at faulty state(p.u).Refer texbook problem for figure\n",
      "P_m1 = E**2/X_T1                    #Amplitude of power angle curve at faulty state(p.u)\n",
      "r1 = X_T/X_T1\n",
      "delta_0 = math.asin(P_i/P_m)        #Radians\n",
      "delta_1 = math.asin(P_i/(r1*P_m))   #Radians\n",
      "delta_m = math.pi - delta_1         #Radians\n",
      "from scipy.integrate import quad\n",
      "\n",
      "def integrand1(delta):\n",
      "    return r1*P_m*math.sin(delta)\n",
      "a, err = quad(integrand1, delta_0, delta_1)\n",
      "A_acc = P_i*(delta_1-delta_0) - a \n",
      "\n",
      "def integrand2(delta):\n",
      "    return r1*P_m*math.sin(delta)\n",
      "b, err = quad(integrand2, delta_1, delta_m)\n",
      "A_dec = b - P_i*(delta_m-delta_1)\n",
      "limit = 0.5648                      #Obtained by iterations.Refer textbook.Here assigned directly.\n",
      "\n",
      "if(A_acc < A_dec):\n",
      "    print('System is Stable')\n",
      "    stability = A_dec/A_acc\n",
      "    print('Margin of stability = %.2f' %stability)\n",
      "else:\n",
      "    print('System is not stable')\n",
      "print('Transient stability limit = %.4f p.u' %limit)\n",
      "print('\\nNOTE : ERROR : angle delta_0 = 7.9\u00b0 = 0.13788 radian not 0.014 radian as in textbook')"
     ],
     "language": "python",
     "metadata": {},
     "outputs": [
      {
       "output_type": "stream",
       "stream": "stdout",
       "text": [
        "System is Stable\n",
        "Margin of stability = 38.31\n",
        "Transient stability limit = 0.5648 p.u\n",
        "\n",
        "NOTE : ERROR : angle delta_0 = 7.9\u00b0 = 0.13788 radian not 0.014 radian as in textbook\n"
       ]
      }
     ],
     "prompt_number": 1
    },
    {
     "cell_type": "heading",
     "level": 2,
     "metadata": {},
     "source": [
      "Example 15.4, Page number 575-578"
     ]
    },
    {
     "cell_type": "code",
     "collapsed": false,
     "input": [
      "\n",
      "x = 0.25        #Transient reactance(p.u)\n",
      "E = 1.0         #e.m.f of finite generator behind transient reactance(p.u)\n",
      "x_T = 0.1       #Reactance of transformer(p.u)\n",
      "x_L = 0.4       #Reactance of one line(p.u)\n",
      "P_i = 0.7       #Pre-fault power(p.u)\n",
      "\n",
      "import math\n",
      "X_T = x+x_T+(x_L/2)                 #Transfer reactance at pre-fault state(p.u)\n",
      "P_m = E**2/X_T                      #Amplitude of power angle curve at pre-fault state(p.u)\n",
      "X_T1 = 1.45                         #Transfer reactance b/w finite generator & infinite bus at faulty state(p.u).Refer texbook problem for figure\n",
      "P_m1 = E**2/X_T1                    #Amplitude of power angle curve at faulty state(p.u)\n",
      "r1 = X_T/X_T1\n",
      "X_T2 = x+x_T+x_L                    #Transfer reactance for post fault state(p.u)\n",
      "r2 = X_T/X_T2\n",
      "P_m2 = r2*P_m\n",
      "delta_0 = math.asin(P_i/P_m)        #Radians\n",
      "delta_1 = math.asin(P_i/(r2*P_m))   #Radians\n",
      "delta_m = math.pi - delta_1         #Radians\n",
      "delta_c = 0.7                       #Specified value(radians)\n",
      "from scipy.integrate import quad\n",
      "\n",
      "def integrand1(delta):\n",
      "    return r1*P_m*math.sin(delta)\n",
      "a, err = quad(integrand1, delta_0, delta_c)\n",
      "A_acc = P_i*(delta_c-delta_0) - a \n",
      "\n",
      "def integrand2(delta):\n",
      "    return r2*P_m*math.sin(delta)\n",
      "b, err = quad(integrand2, delta_c, delta_m)\n",
      "A_dec = b - P_i*(delta_m-delta_c)\n",
      "cos_delta_cr = ((delta_m-delta_0)*math.sin(delta_0)-r1*math.cos(delta_0)+r2*math.cos(delta_m))/(r2-r1)\n",
      "delta_cr = math.acos(cos_delta_cr)*180/math.pi\n",
      "\n",
      "if(A_acc < A_dec):\n",
      "    print('System is Stable')\n",
      "    stability = A_dec/A_acc\n",
      "    print('Margin of stability , K = %.2f' %stability)\n",
      "else:\n",
      "    print('System is not stable')\n",
      "print('Critical clearing angle for a certain pre-fault power = %.2f\u00b0' %delta_cr)\n",
      "print('Critical clearing time will be known from circuit-breaker specifications')"
     ],
     "language": "python",
     "metadata": {},
     "outputs": [
      {
       "output_type": "stream",
       "stream": "stdout",
       "text": [
        "System is Stable\n",
        "Margin of stability , K = 7.98\n",
        "Critical clearing angle for a certain pre-fault power = 111.48\u00b0\n",
        "Critical clearing time will be known from circuit-breaker specifications\n"
       ]
      }
     ],
     "prompt_number": 1
    },
    {
     "cell_type": "heading",
     "level": 2,
     "metadata": {},
     "source": [
      "Example 15.5, Page number 578-580"
     ]
    },
    {
     "cell_type": "code",
     "collapsed": false,
     "input": [
      "\n",
      "P_i = 0.75      #Pre-fault power(p.u)\n",
      "f = 50.0        #Frequency(Hz)\n",
      "H = 6.0         #Value of H for finite machine(sec)\n",
      "x_G = 0.2       #Reactance of machine(p.u)\n",
      "x_T = 0.1       #Reactance of transformer(p.u)\n",
      "x_L = 0.4       #Reactance of line(p.u)\n",
      "V = 1.0         #Voltage of infinite bus(p.u)\n",
      "E = 1.0         #e.m.f of finite generator behind transient reactance(p.u)\n",
      "\n",
      "import math\n",
      "X_T = x_G+x_T+(x_L)                           #Transfer reactance at pre-fault state(p.u)\n",
      "P_m = E**2/X_T                                #Amplitude of power angle curve at pre-fault state(p.u)\n",
      "delta_0 = math.asin(P_i/P_m)                  #Radians\n",
      "delta_0a = delta_0*180/math.pi\n",
      "delta_cr = math.acos((math.pi-2*delta_0)*math.sin(delta_0)-math.cos(delta_0))\n",
      "delta_cra = delta_cr*180/math.pi\n",
      "t_cr = ((delta_cra-delta_0a)*2*H/(180*f*P_i))**0.5\n",
      "\n",
      "print('Critical clearing angle for circuit breaker at bus 1 = %.2f\u00b0' %delta_cra)\n",
      "print('Time for circuit breaker at bus 1 ,t_cr = %.3f sec' %t_cr)"
     ],
     "language": "python",
     "metadata": {},
     "outputs": [
      {
       "output_type": "stream",
       "stream": "stdout",
       "text": [
        "Critical clearing angle for circuit breaker at bus 1 = 77.42\u00b0\n",
        "Time for circuit breaker at bus 1 ,t_cr = 0.285 sec\n"
       ]
      }
     ],
     "prompt_number": 1
    }
   ],
   "metadata": {}
  }
 ]
}