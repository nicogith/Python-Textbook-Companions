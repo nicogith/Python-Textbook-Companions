{
 "metadata": {
  "name": ""
 },
 "nbformat": 3,
 "nbformat_minor": 0,
 "worksheets": [
  {
   "cells": [
    {
     "cell_type": "heading",
     "level": 1,
     "metadata": {},
     "source": [
      "CHAPTER 4: ELECTRICAL CHARACTERISTICS, MODELLING AND PERFORMANCE OF AERIAL TRANSMISSION LINES"
     ]
    },
    {
     "cell_type": "heading",
     "level": 2,
     "metadata": {},
     "source": [
      "Example 4.1, Page number 56-57"
     ]
    },
    {
     "cell_type": "code",
     "collapsed": false,
     "input": [
      "\n",
      "l = 10.0       #Length of 1-phase line(km)\n",
      "d = 100.0      #Spacing b/w conductors(cm)\n",
      "r = 0.3        #Radius(cm)\n",
      "u_r_1 = 1.0    #Relative permeability of copper\n",
      "u_r_2 = 100.0  #Relative permeability of steel\n",
      "\n",
      "r_1 = 0.7788*r                                  #Radius of hypothetical conductor(cm)\n",
      "import math\n",
      "L_1 = 4 * 10**(-7) * math.log(d/r_1)            #Loop inductance(H/m)\n",
      "L_T1 = L_1 * l * 10**6                          #Total loop inductance(mH)\n",
      "\n",
      "L_2 = 4 * 10**(-7) * (math.log(d/r) + (u_r_2/4))#Loop inductance(H/m)\n",
      "L_T2 = L_2 * l * 10**6                          #Total loop inductance(mH)\n",
      "\n",
      "print('(i) Total loop inductance of copper conductor = %.2f mH' %L_T1)\n",
      "print('(ii)Total loop inductance of steel conductor = %.2f mH' %L_T2)"
     ],
     "language": "python",
     "metadata": {},
     "outputs": [
      {
       "output_type": "stream",
       "stream": "stdout",
       "text": [
        "(i) Total loop inductance of copper conductor = 24.24 mH\n",
        "(ii)Total loop inductance of steel conductor = 123.24 mH\n"
       ]
      }
     ],
     "prompt_number": 1
    },
    {
     "cell_type": "heading",
     "level": 2,
     "metadata": {},
     "source": [
      "Example 4.2, Page number 57-58"
     ]
    },
    {
     "cell_type": "code",
     "collapsed": false,
     "input": [
      "\n",
      "r = 0.4    #Radius of conductor(cm)\n",
      "h = 1000   #Height of line(cm)\n",
      "\n",
      "import math\n",
      "d = 2*h                                              #Spacing between conductors(cm)\n",
      "L = 2 * 10**(-4) * math.log(2*h/(0.7788*r)) * 1000   #Inductance of conductor(mH/km)\n",
      "\n",
      "print('Inductance of the conductor = %.3f mH/km' %L)"
     ],
     "language": "python",
     "metadata": {},
     "outputs": [
      {
       "output_type": "stream",
       "stream": "stdout",
       "text": [
        "Inductance of the conductor = 1.753 mH/km\n"
       ]
      }
     ],
     "prompt_number": 1
    },
    {
     "cell_type": "heading",
     "level": 2,
     "metadata": {},
     "source": [
      "Example 4.3, Page number 58"
     ]
    },
    {
     "cell_type": "code",
     "collapsed": false,
     "input": [
      "\n",
      "d_ab = 4    #Distance b/w conductor a & b(m)\n",
      "d_bc = 9    #Distance b/w conductor b & c(m)\n",
      "d_ca = 6    #Distance b/w conductor c & a(m)\n",
      "r = 1.0     #Radius of each conductor(cm)\n",
      "\n",
      "import math\n",
      "D_m = (d_ab * d_bc * d_ca)**(1.0/3)             #Geometric mean separation(m)\n",
      "r_1 = 0.7788 * (r/100)                          #Radius of hypothetical conductor(m)\n",
      "L = 2 * 10**(-7) * math.log(D_m/r_1) * 10**6    #Line inductance(mH/phase/km)\n",
      "\n",
      "print('Line inductance , L = %.2f mH/phase/km' %L)"
     ],
     "language": "python",
     "metadata": {},
     "outputs": [
      {
       "output_type": "stream",
       "stream": "stdout",
       "text": [
        "Line inductance , L = 1.33 mH/phase/km\n"
       ]
      }
     ],
     "prompt_number": 1
    },
    {
     "cell_type": "heading",
     "level": 2,
     "metadata": {},
     "source": [
      "Example 4.4, Page number 62-63"
     ]
    },
    {
     "cell_type": "code",
     "collapsed": false,
     "input": [
      "\n",
      "r = 1.0       #Radius of each conductor(cm)\n",
      "d_11 = 30     #Distance b/w conductor 1 & 1'(cm)\n",
      "d_22 = 30     #Distance b/w conductor 2 & 2'(cm)\n",
      "d_12 = 130    #Distance b/w conductor 1 & 2(cm)\n",
      "d_122 = 160   #Distance b/w conductor 1 & 2'(cm)\n",
      "d_112 = 100   #Distance b/w conductor 1' & 2(cm)\n",
      "d_1122 = 130  #Distance b/w conductor 1' & 2'(cm)\n",
      "\n",
      "import math\n",
      "r_1 = 0.7788 * r                               #Radius of hypothetical conductor(cm)\n",
      "D_s = (d_11 * r_1 * d_22 * r_1)**(1.0/4)       #Geometric mean radius(cm)\n",
      "D_m = (d_12 * d_122 * d_112 * d_1122)**(1.0/4) #Geometric mean separation(cm)\n",
      "L = 4 * 10**(-7) * math.log(D_m/D_s) * 10**6   #Loop inductance(mH/km)\n",
      "\n",
      "R = 2**0.5                                     #Radius of single conductor(cm)\n",
      "d = 130.0                                      #Conductor position(cm)\n",
      "L_1 = 4*10**(-7)*math.log(d/(0.7788*R))*10**6  #Loop inductance(mH/km)\n",
      "L_diff = (L_1 - L)/L*100                       #Change in inductance(%)\n",
      "r_diff = D_s - R                               #Effective radius difference\n",
      "\n",
      "print('Loop inductance , L = %.3f mH/km' %L)\n",
      "print('Loop inductance having two conductors only , L = %.3f mH/km'  %L_1)\n",
      "print('There is an Increase of %.f percent in inductance value ' %L_diff)\n",
      "print('Effective radius of bundled conductors is about %.1f times that of unbundled system reducing field stress almost by that ratio' %r_diff)"
     ],
     "language": "python",
     "metadata": {},
     "outputs": [
      {
       "output_type": "stream",
       "stream": "stdout",
       "text": [
        "Loop inductance , L = 1.311 mH/km\n",
        "Loop inductance having two conductors only , L = 1.908 mH/km\n",
        "There is an Increase of 46 percent in inductance value \n",
        "Effective radius of bundled conductors is about 3.4 times that of unbundled system reducing field stress almost by that ratio\n"
       ]
      }
     ],
     "prompt_number": 1
    },
    {
     "cell_type": "heading",
     "level": 2,
     "metadata": {},
     "source": [
      "Example 4.5, Page number 63-64"
     ]
    },
    {
     "cell_type": "code",
     "collapsed": false,
     "input": [
      "\n",
      "r = 1.5        #Radius of each conductor(cm)\n",
      "D_a1a2 = 0.3   #Distance b/w conductor a1 & a2(m)\n",
      "D_a2a1 = 0.3   #Distance b/w conductor a2 & a1(m)\n",
      "D_a1b1 = 15.3  #Distance b/w conductor a1 & b1(m)\n",
      "D_a1b2 = 15.6  #Distance b/w conductor a1 & b2(m)\n",
      "D_a2b1 = 15.0  #Distance b/w conductor a2 & b1(m)\n",
      "D_a2b2 = 15.3  #Distance b/w conductor a2 & b2(m)\n",
      "D_b1c1 = 15.3  #Distance b/w conductor b1 & c1(m)\n",
      "D_b1c2 = 15.6  #Distance b/w conductor b1 & c2(m)\n",
      "D_b2c1 = 15.0  #Distance b/w conductor b2 & c1(m)\n",
      "D_b2c2 = 15.3  #Distance b/w conductor b2 & c2(m)\n",
      "D_a1c1 = 30.6  #Distance b/w conductor a1 & c1(m)\n",
      "D_a1c2 = 30.9  #Distance b/w conductor a1 & c2(m)\n",
      "D_a2c1 = 30.3  #Distance b/w conductor a2 & c1(m)\n",
      "D_a2c2 = 30.6  #Distance b/w conductor a2 & c2(m)\n",
      "\n",
      "import math\n",
      "r_1 = 0.7788 * (r/100)                              #Radius of hypothetical conductor(m)\n",
      "D_s = (D_a1a2 * r_1 * D_a2a1 * r_1)**(1.0/4)        #Geometric mean radius(m)\n",
      "D_ab = (D_a1b1 * D_a1b2 * D_a2b1 * D_a2b2)**(1.0/4) #Mutual GMD b/w conductor a & b(m)\n",
      "D_bc = (D_b1c1 * D_b1c2 * D_b2c1 * D_b2c2)**(1.0/4) #Mutual GMD b/w conductor b & c(m)\n",
      "D_ca = (D_a1c1 * D_a1c2 * D_a2c1 * D_a2c2)**(1.0/4) #Mutual GMD b/w conductor c & a(m)\n",
      "D_m = (D_ab * D_bc * D_ca)**(1.0/3)                 #Geometric mean separation(m)\n",
      "L = 2 * 10**(-4) * math.log(D_m/D_s) * 1000         #Inductance(mH/km)\n",
      "\n",
      "print('Inductance/phase/km = %.3f mH/km' %L)"
     ],
     "language": "python",
     "metadata": {},
     "outputs": [
      {
       "output_type": "stream",
       "stream": "stdout",
       "text": [
        "Inductance/phase/km = 1.157 mH/km\n"
       ]
      }
     ],
     "prompt_number": 1
    },
    {
     "cell_type": "heading",
     "level": 2,
     "metadata": {},
     "source": [
      "Example 4.7, Page number 74"
     ]
    },
    {
     "cell_type": "code",
     "collapsed": false,
     "input": [
      "\n",
      "r = 0.6       #Radius of each conductor(cm)\n",
      "d = 150       #Separation distance(cm)\n",
      "L = 40*10**3  #Length of overhead line(m)\n",
      "f = 50        #Frequency(Hertz)\n",
      "v = 50*10**3  #System voltage(V)\n",
      "\n",
      "import math\n",
      "C_ab = (math.pi * 8.854 * 10**(-12))/(math.log(d/r)) * L   #Capacitance b/w conductors(F)\n",
      "I = complex(0,v * 2 * math.pi * f * C_ab)                  #Charging current leads voltage by 90\u00b0(A)\n",
      "\n",
      "print('Capacitance between two conductors , C_ab = %.3e F' %C_ab)\n",
      "print('Charging current , I = j%.3f A' %I.imag)"
     ],
     "language": "python",
     "metadata": {},
     "outputs": [
      {
       "output_type": "stream",
       "stream": "stdout",
       "text": [
        "Capacitance between two conductors , C_ab = 2.015e-07 F\n",
        "Charging current , I = j3.165 A\n"
       ]
      }
     ],
     "prompt_number": 1
    },
    {
     "cell_type": "heading",
     "level": 2,
     "metadata": {},
     "source": [
      "Example 4.8, Page number 74-75"
     ]
    },
    {
     "cell_type": "code",
     "collapsed": false,
     "input": [
      "\n",
      "r = 0.015      #Radius of each conductor(m)\n",
      "D_a1a2 = 0.3   #Distance b/w conductor a1 & a2(m)\n",
      "D_a2a1 = 0.3   #Distance b/w conductor a2 & a1(m)\n",
      "D_a1b1 = 15.3  #Distance b/w conductor a1 & b1(m)\n",
      "D_a1b2 = 15.6  #Distance b/w conductor a1 & b2(m)\n",
      "D_a2b1 = 15.0  #Distance b/w conductor a2 & b1(m)\n",
      "D_a2b2 = 15.3  #Distance b/w conductor a2 & b2(m)\n",
      "D_b1c1 = 15.3  #Distance b/w conductor b1 & c1(m)\n",
      "D_b1c2 = 15.6  #Distance b/w conductor b1 & c2(m)\n",
      "D_b2c1 = 15.0  #Distance b/w conductor b2 & c1(m)\n",
      "D_b2c2 = 15.3  #Distance b/w conductor b2 & c2(m)\n",
      "D_a1c1 = 30.6  #Distance b/w conductor a1 & c1(m)\n",
      "D_a1c2 = 30.9  #Distance b/w conductor a1 & c2(m)\n",
      "D_a2c1 = 30.3  #Distance b/w conductor a2 & c1(m)\n",
      "D_a2c2 = 30.6  #Distance b/w conductor a2 & c2(m)\n",
      "\n",
      "import math\n",
      "D_s = (D_a1a2 * r * D_a2a1 * r)**(1.0/4)                  #Geometric mean radius(m)\n",
      "D_ab = (D_a1b1 * D_a1b2 * D_a2b1 * D_a2b2)**(1.0/4)       #Mutual GMD b/w conductor a & b(m)\n",
      "D_bc = (D_b1c1 * D_b1c2 * D_b2c1 * D_b2c2)**(1.0/4)       #Mutual GMD b/w conductor b & c(m)\n",
      "D_ca = (D_a1c1 * D_a1c2 * D_a2c1 * D_a2c2)**(1.0/4)       #Mutual GMD b/w conductor c & a(m)\n",
      "D_m = (D_ab * D_bc * D_ca)**(1.0/3)                       #Geometric mean separation(m)\n",
      "C_n = 2 * math.pi * 8.854 * 10**(-9) /(math.log(D_m/D_s)) #Capacitance per phase(F/km)\n",
      "\n",
      "print('Capacitance per phase , C_n = %.3e F/km' %C_n)"
     ],
     "language": "python",
     "metadata": {},
     "outputs": [
      {
       "output_type": "stream",
       "stream": "stdout",
       "text": [
        "Capacitance per phase , C_n = 9.828e-09 F/km\n"
       ]
      }
     ],
     "prompt_number": 1
    },
    {
     "cell_type": "heading",
     "level": 2,
     "metadata": {},
     "source": [
      "Example 4.9, Page number 75"
     ]
    },
    {
     "cell_type": "code",
     "collapsed": false,
     "input": [
      "\n",
      "r = 0.015    #Radius of each conductor(m)\n",
      "D_ab = 15    #Horizontal distance b/w conductor a & b(m)\n",
      "D_bc = 15    #Horizontal distance b/w conductor b & c(m)\n",
      "D_ac = 30    #Horizontal distance b/w conductor a & c(m)\n",
      "\n",
      "import math\n",
      "D_m = (D_ab * D_bc * D_ac)**(1.0/3)                       #Geometric mean separation(m)\n",
      "D_s = 2**(1.0/2) * r                                      #Geometric mean radius(m)\n",
      "C_n = 2 * math.pi * 8.854 * 10**(-9) /(math.log(D_m/D_s)) #Capacitance/phase/km(F/km)\n",
      "\n",
      "print('Capacitance per phase , C_n = %.3e F/km' %C_n)"
     ],
     "language": "python",
     "metadata": {},
     "outputs": [
      {
       "output_type": "stream",
       "stream": "stdout",
       "text": [
        "Capacitance per phase , C_n = 8.190e-09 F/km\n"
       ]
      }
     ],
     "prompt_number": 1
    },
    {
     "cell_type": "heading",
     "level": 2,
     "metadata": {},
     "source": [
      "Example 4.11, Page number 79-80"
     ]
    },
    {
     "cell_type": "code",
     "collapsed": false,
     "input": [
      "\n",
      "h = 5        #Height of conductor above ground(m)\n",
      "d = 1.5      #Conductor spacing(m)\n",
      "r = 0.006    #Radius of conductor(m)\n",
      "\n",
      "import math\n",
      "C_AB = math.pi * 8.854*10**-9/math.log(d/(r*(1+((d*d)/(4*h*h)))**0.5))  #Capacitance with effect of earth(F/km)\n",
      "C_AB1 = math.pi * 8.854*10**-9/math.log(d/r)                            #Capacitance ignoring effect of earth(F/km)\n",
      "ch = (C_AB - C_AB1)/C_AB * 100                                          #Change in capacitance with effect of earth(%)\n",
      "\n",
      "print('Line capacitance with effect of earth , C_AB = %.3e F/km' %C_AB)\n",
      "print('Line capacitance ignoring effect of earth , C_AB = %.3e F/km' %C_AB1)\n",
      "print('With effect of earth slight increase in capacitance = %.1f percent' %ch)"
     ],
     "language": "python",
     "metadata": {},
     "outputs": [
      {
       "output_type": "stream",
       "stream": "stdout",
       "text": [
        "Line capacitance with effect of earth , C_AB = 5.048e-09 F/km\n",
        "Line capacitance ignoring effect of earth , C_AB = 5.038e-09 F/km\n",
        "With effect of earth slight increase in capacitance = 0.2 percent\n"
       ]
      }
     ],
     "prompt_number": 1
    },
    {
     "cell_type": "heading",
     "level": 2,
     "metadata": {},
     "source": [
      "Example 4.12, Page number 87-88"
     ]
    },
    {
     "cell_type": "code",
     "collapsed": false,
     "input": [
      "\n",
      "R = 0.16             #Resistance(ohm)\n",
      "L = 1.26*10**(-3)    #Inductance(H)\n",
      "C = 8.77*10**(-9)    #Capacitance(F)\n",
      "l = 200.0            #Length of line(km)\n",
      "P = 50.0             #Power(MVA)\n",
      "pf = 0.8             #Lagging power factor\n",
      "V_r = 132000.0       #Receiving end voltage(V)\n",
      "f = 50.0             #Frequency(Hz)\n",
      "\n",
      "import math\n",
      "import cmath\n",
      "w = 2 * math.pi * f\n",
      "z = complex(R, w*L)        #Series impedance per phase per km(ohm)\n",
      "y = complex(0, w*C)        #Shunt admittance per phase per km(mho)\n",
      "\n",
      "g = (y*z)**(0.5)           #propagation constant(/km)\n",
      "gl = g * l\n",
      "Z_c = (z/y)**(0.5)         #Surge impedance(ohm)\n",
      "\n",
      "cosh_gl = cmath.cosh(gl)\n",
      "sinh_gl = cmath.sinh(gl)\n",
      "\n",
      "A = cosh_gl\n",
      "B = Z_c * sinh_gl\n",
      "C = (sinh_gl/Z_c)\n",
      "D = cosh_gl\n",
      "\n",
      "fi = math.acos(pf)                                           #Power factor angle(radians)\n",
      "V_R = V_r/(3**0.5)                                           #Receiving end voltage(V)\n",
      "I_R = (P*10**6/((3**0.5)*V_r))*(pf - complex(0,math.sin(fi)))#Receiving end current(A)\n",
      "V_S = (A*V_R + B*I_R)                                        #Sending end voltage(V/phase)\n",
      "V_S_L = V_S * (3**0.5)*10**-3                                #Sending end line voltage(kV)\n",
      "I_S = C*V_R + D*I_R                                          #Sending end current(A)\n",
      "pf_S = math.cos(cmath.phase(I_S) - cmath.phase(V_S))         #Sending end power factor\n",
      "P_S = abs(V_S*I_S)*pf_S*10**-6                               #Sending end power/phase(MW)\n",
      "P_R = (P/3)*pf                                               #Receiving end power/phase(MW)\n",
      "P_L = 3*(P_S - P_R)                                          #Total line loss(MW)\n",
      "\n",
      "print('Sending end voltage , V_S = %.2f\u2220%.2f\u00b0 kV/phase' %(abs(V_S*10**-3),cmath.phase(V_S)*180/math.pi))\n",
      "print('Sending end line voltage = %.2f kV' %abs(V_S_L))\n",
      "print('Sending end current , I_S = %.2f\u2220%.2f\u00b0 A' %(abs(I_S),cmath.phase(I_S)*180/math.pi))\n",
      "print('Sending end power factor = %.2f lagging' %pf_S)\n",
      "print('Total transmission line loss = %.3f MW' %P_L)\n",
      "print('\\nNOTE : Changes in answer is due to more decimal places')"
     ],
     "language": "python",
     "metadata": {},
     "outputs": [
      {
       "output_type": "stream",
       "stream": "stdout",
       "text": [
        "Sending end voltage , V_S = 90.98\u22206.50\u00b0 kV/phase\n",
        "Sending end line voltage = 157.58 kV\n",
        "Sending end current , I_S = 192.08\u2220-26.31\u00b0 A\n",
        "Sending end power factor = 0.84 lagging\n",
        "Total transmission line loss = 4.062 MW\n",
        "\n",
        "NOTE : Changes in answer is due to more decimal places\n"
       ]
      }
     ],
     "prompt_number": 1
    },
    {
     "cell_type": "heading",
     "level": 2,
     "metadata": {},
     "source": [
      "Example 4.13, Page number 90-91"
     ]
    },
    {
     "cell_type": "code",
     "collapsed": false,
     "input": [
      "\n",
      "R = 0.1      #Resistance/phase/km(ohm)\n",
      "D_m = 800.0  #Spacing b/w conductors(cm)\n",
      "d = 1.5      #Diameter of each conductor(cm)\n",
      "l = 300.0    #Length of transmission line(km)\n",
      "f = 50.0     #Frequency(Hz)\n",
      "\n",
      "import math\n",
      "import cmath\n",
      "L = 2*10**(-4)*math.log(D_m*2/d)                #Inductance/phase/km(H)\n",
      "C = 2*math.pi*8.854*10**(-9)/math.log(D_m*2/d)  #Capacitance/phase/km(F)\n",
      "w = 2 * math.pi * f\n",
      "z = complex(R, w*L)                             #Series impedance per phase per km(ohm/km)\n",
      "y = complex(0, w*C)                             #Shunt admittance per phase per km(mho/km)\n",
      "g = (y*z)**(0.5)                                #propagation constant(/km)\n",
      "gl = g * l\n",
      "Z_c = (z/y)**(0.5)                              #Surge impedance(ohm)\n",
      "sinh_gl = cmath.sinh(gl)\n",
      "tanh_gl = cmath.tanh(gl/2)\n",
      "Z_S = Z_c * sinh_gl                             #Series impedance(ohm)\n",
      "Y_P = (1/Z_c)*cmath.tanh(gl/2)                  #Pillar admittance(mho)\n",
      "\n",
      "print('Values of equivalent-pi network are :')\n",
      "print('Series impedance , Z_S = (%.2f + j%.2f) ohm' %(Z_S.real,Z_S.imag))\n",
      "print('Pillar admittance , Y_P = %.2e\u2220%.2f\u00b0 mho = j%.2e mho' %(abs(Y_P),(cmath.phase(Y_P)*180/math.pi),Y_P.imag))\n",
      "print('\\nNOTE : Changes in answer is due to more decimal places')"
     ],
     "language": "python",
     "metadata": {},
     "outputs": [
      {
       "output_type": "stream",
       "stream": "stdout",
       "text": [
        "Values of equivalent-pi network are :\n",
        "Series impedance , Z_S = (29.02 + j129.38) ohm\n",
        "Pillar admittance , Y_P = 3.79e-04\u222089.89\u00b0 mho = j3.79e-04 mho\n",
        "\n",
        "NOTE : Changes in answer is due to more decimal places\n"
       ]
      }
     ],
     "prompt_number": 1
    },
    {
     "cell_type": "heading",
     "level": 2,
     "metadata": {},
     "source": [
      "Example 4.14, Page number 101-104"
     ]
    },
    {
     "cell_type": "code",
     "collapsed": false,
     "input": [
      "\n",
      "V_r = 220000.0   #Voltage(V)\n",
      "P = 100.0        #Power(MW)\n",
      "r = 0.08         #Series resistance(ohm)\n",
      "x = 0.8          #Series reactance(ohm)\n",
      "s = 6.0*10**(-6) #Shunt susceptance(mho)\n",
      "pf = 0.8         #Power factor lagging\n",
      "l_1 = 60.0       #Transmission length(km) for case(i)\n",
      "l_2 = 200.0      #Transmission length(km) for case(ii)\n",
      "l_3 = 300.0      #Transmission length(km) for case(iii)\n",
      "l_4 = 500.0      #Transmission length(km) for case(iv)\n",
      "\n",
      "import math\n",
      "import cmath\n",
      "z = complex(r,x)                                                   #Series impedance/km(ohm)\n",
      "y = complex(0,s)                                                   #Shunt admittance/km(mho)\n",
      "theta_R = math.acos(pf)\n",
      "P_R = P/3                                                          #Active power at receiving end/phase(MW)\n",
      "Q_R = (P/3)*math.tan(theta_R)                                      #Reactive power at receiving end/phase(MVAR)\n",
      "V_R = V_r/(3**0.5)                                                 #Receiving end voltage/phase(V)\n",
      "I_R = P*10**6/((3**0.5)*V_r*pf)*(pf - complex(0,math.sin(theta_R)))#Receiving end current(A)\n",
      "Z_c = (z/y)**(0.5)                                                 #Surge impedance(ohm)\n",
      "\n",
      "A_1 = 1                                                 #Constant A\n",
      "B_1 = z*l_1                                             #Constant B(ohm)\n",
      "C_1 = 0                                                 #Constant C(mho)\n",
      "D_1 = A_1                                               #Constant D\n",
      "V_S_1 = A_1*V_R + B_1*I_R                               #Sending end voltage(V/phase)\n",
      "I_S_1 = I_R                                             #Sending end current(A)\n",
      "theta_S_1 = cmath.phase(I_S_1) - cmath.phase(V_S_1)     #Sending end power factor\n",
      "P_S_1 = abs(V_S_1*I_S_1)*math.cos(theta_S_1)*10**-6     #Sending end power(MW)\n",
      "n_1 = (P_R/P_S_1)*100                                   #Transmission efficiency(%)\n",
      "reg_1 = (abs(V_S_1/A_1) - V_R)/V_R*100                  #Regulation(%)\n",
      "Q_S_1 = V_S_1 * I_S_1.conjugate()*10**-6                #Sending end reactive power(MVAR)\n",
      "Q_line_1 = Q_S_1.imag - Q_R                             #Reactive power absorbed by line(MVAR)\n",
      "\n",
      "Z_S_2 = z*l_2\n",
      "Y_P_2 = y*l_2/2\n",
      "A_2 = 1 + Y_P_2*Z_S_2\n",
      "B_2 = Z_S_2\n",
      "C_2 = Y_P_2*(2 + Y_P_2*Z_S_2)\n",
      "D_2 = A_2\n",
      "V_S_2 = A_2*V_R + B_2*I_R              #Sending end voltage(V/phase) \n",
      "I_S_2 = C_2*V_R + D_2*I_R              #Sending end current(A)\n",
      "S_S_2 = V_S_2*I_S_2.conjugate()*10**-6 #Sending end complex power(MVA)\n",
      "P_S_2 = S_S_2.real                     #Power at sending end(MW)\n",
      "n_2 = (P_R/P_S_2)*100                  #Transmission efficiency(%)\n",
      "reg_2 = (abs(V_S_2/A_2) - V_R)/V_R*100 #Regulation(%)\n",
      "Q_line_2 = S_S_2.imag - Q_R            #Reactive power absorbed by line(MVAR)\n",
      "\n",
      "g_3 = (y*z)**(0.5)                     #propagation constant(/km)\n",
      "gl_3 = g_3 * l_3\n",
      "cosh_gl_3 = cmath.cosh(gl_3)\n",
      "sinh_gl_3 = cmath.sinh(gl_3)\n",
      "A_3 = cosh_gl_3\n",
      "B_3 = Z_c * sinh_gl_3\n",
      "C_3 = sinh_gl_3/Z_c\n",
      "D_3 = cosh_gl_3\n",
      "V_S_3 = A_3*V_R + B_3*I_R              #Sending end voltage(V/phase) \n",
      "I_S_3 = C_3*V_R + D_3*I_R              #Sending end current(A)\n",
      "S_S_3 = V_S_3*I_S_3.conjugate()*10**-6 #Sending end complex power(MVA)\n",
      "P_S_3 = S_S_3.real                     #Power at sending end(MW)\n",
      "n_3 = (P_R/P_S_3)*100                  #Transmission efficiency(%)\n",
      "reg_3 = (abs(V_S_3/A_3) - V_R)/V_R*100 #Regulation(%)\n",
      "Q_line_3 = S_S_3.imag - Q_R            #Reactive power absorbed by line(MVAR)\n",
      "\n",
      "g_4 = (y*z)**(0.5)                     #propagation constant(/km)\n",
      "gl_4 = g_4 * l_4\n",
      "cosh_gl_4 = cmath.cosh(gl_4)\n",
      "sinh_gl_4 = cmath.sinh(gl_4)\n",
      "A_4 = cosh_gl_4\n",
      "B_4 = Z_c * sinh_gl_4\n",
      "C_4 = sinh_gl_4/Z_c\n",
      "D_4 = cosh_gl_4\n",
      "V_S_4 = A_4*V_R + B_4*I_R              #Sending end voltage(V/phase) \n",
      "I_S_4 = C_4*V_R + D_4*I_R              #Sending end current(A)\n",
      "S_S_4 = V_S_4*I_S_4.conjugate()*10**-6 #Sending end complex power(MVA)\n",
      "P_S_4 = S_S_4.real                     #Power at sending end(MW)\n",
      "n_4 = (P_R/P_S_4)*100                  #Transmission efficiency(%)\n",
      "reg_4 = (abs(V_S_4/A_4) - V_R)/V_R*100 #Regulation(%)\n",
      "Q_line_4 = S_S_4.imag - Q_R            #Reactive power absorbed by line(MVAR)\n",
      "\n",
      "print('Case(i) : For Length = 60 km')\n",
      "print('Efficiency , n = %.2f percent' %n_1)\n",
      "print('Regulation = %.3f percent' %reg_1)\n",
      "print('Reactive power at sending end , Q_S = %.2f MVAR' %Q_S_1.imag)\n",
      "print('Reactive power absorbed by line , Q_line = %.2f MVAR' %Q_line_1)\n",
      "print('\\nCase(ii) : For Length = 200 km')\n",
      "print('Efficiency , n = %.2f percent' %n_2)\n",
      "print('Regulation = %.2f percent' %reg_2)\n",
      "print('Reactive power at sending end , Q_S = %.2f MVAR' %S_S_2.imag)\n",
      "print('Reactive power absorbed by line , Q_line = %.2f MVAR' %Q_line_2)\n",
      "print('\\nCase(iii) : For Length = 300 km')\n",
      "print('Efficiency , n = %.2f percent' %n_3)\n",
      "print('Regulation = %.2f percent' %reg_3)\n",
      "print('Reactive power at sending end , Q_S = %.2f MVAR' %S_S_3.imag)\n",
      "print('Reactive power absorbed by line , Q_line = %.2f MVAR' %Q_line_3)\n",
      "print('\\nCase(iv) : For Length = 500 km')\n",
      "print('Efficiency , n = %.2f percent' %n_4)\n",
      "print('Regulation = %.2f percent' %reg_4)\n",
      "print('Reactive power at sending end , Q_S = %.2f MVAR' %S_S_4.imag)\n",
      "print('Reactive power absorbed by line , Q_line = %.2f MVAR' %Q_line_4)\n",
      "print('\\nNOTE : ERROR : Calculation mistake in case(iv) efficiency in textbook')"
     ],
     "language": "python",
     "metadata": {},
     "outputs": [
      {
       "output_type": "stream",
       "stream": "stdout",
       "text": [
        "Case(i) : For Length = 60 km\n",
        "Efficiency , n = 98.47 percent\n",
        "Regulation = 8.817 percent\n",
        "Reactive power at sending end , Q_S = 30.17 MVAR\n",
        "Reactive power absorbed by line , Q_line = 5.17 MVAR\n",
        "\n",
        "Case(ii) : For Length = 200 km\n",
        "Efficiency , n = 96.15 percent\n",
        "Regulation = 35.64 percent\n",
        "Reactive power at sending end , Q_S = 14.11 MVAR\n",
        "Reactive power absorbed by line , Q_line = -10.89 MVAR\n",
        "\n",
        "Case(iii) : For Length = 300 km\n",
        "Efficiency , n = 95.14 percent\n",
        "Regulation = 59.48 percent\n",
        "Reactive power at sending end , Q_S = 2.70 MVAR\n",
        "Reactive power absorbed by line , Q_line = -22.30 MVAR\n",
        "\n",
        "Case(iv) : For Length = 500 km\n",
        "Efficiency , n = 92.85 percent\n",
        "Regulation = 165.71 percent\n",
        "Reactive power at sending end , Q_S = -19.25 MVAR\n",
        "Reactive power absorbed by line , Q_line = -44.25 MVAR\n",
        "\n",
        "NOTE : ERROR : Calculation mistake in case(iv) efficiency in textbook\n"
       ]
      }
     ],
     "prompt_number": 1
    },
    {
     "cell_type": "heading",
     "level": 2,
     "metadata": {},
     "source": [
      "Example 4.16, Page number 109-111"
     ]
    },
    {
     "cell_type": "code",
     "collapsed": false,
     "input": [
      "\n",
      "import math\n",
      "import cmath\n",
      "A = 0.8*cmath.exp(1j*1.4*math.pi/180)     #Line constant\n",
      "B = 326.0*cmath.exp(1j*84.8*math.pi/180)  #Line constant(ohm)\n",
      "V_R = 220.0                               #Receiving end voltage(kV)\n",
      "V_S = 220.0                               #Sending end voltage(kV)\n",
      "P = 75.0                                  #Power(MVA) for case(a)\n",
      "pf = 0.8                                  #Power factor lagging\n",
      "\n",
      "a = cmath.phase(A)                        #Phase angle of A(radian)\n",
      "b = cmath.phase(B)                        #Phase angle of B(radian)\n",
      "\n",
      "P_R = P * pf                                                                        #Active power demanded by load(MW)\n",
      "P_React = P *(1-pf**2)**0.5                                                         #Reactive power demanded by load(MVAR)\n",
      "cos_b_delta_1 = P_R*abs(B)/(V_R*V_S) + abs(A)*math.cos(b-a)                         #cos(b-delta)[in radians]\n",
      "delta_1 = b - math.acos(cos_b_delta_1)                                              #delta(radians)\n",
      "Q_R_1 = (V_R*V_S/abs(B))*math.sin(b-delta_1) - (abs(A)*V_R**2/abs(B))*math.sin(b-a) #Reactive power at sending end(MVAR)\n",
      "Reactive_power_1 = P_React - Q_R_1                                                  #Reactive power to be supplied by compensating equipment(MVAR)\n",
      "\n",
      "cos_b_delta_2 = (abs(A)*V_R/V_S)*math.cos(b-a)                                      #cos(b-delta)[in radians]\n",
      "delta_2 = b - math.acos(cos_b_delta_2)                                              #delta(radians)\n",
      "Q_R_2 = (V_R*V_S/abs(B))*math.sin(b-delta_2) - (abs(A)*V_R**2/abs(B))*math.sin(b-a) #Reactive power at sending end(MVAR)\n",
      "Reactive_power_2 = Q_R_2                                                            #Reactive power to be absorbed by compensating equipment(MVAR)\n",
      "\n",
      "print('(a) Reactive VARs to be supplied by compensating equipment = %.2f MVAR' %Reactive_power_1)\n",
      "print('(b) Reactive VARs to be absorbed by compensating equipment = %.2f MVAR' %Reactive_power_2)"
     ],
     "language": "python",
     "metadata": {},
     "outputs": [
      {
       "output_type": "stream",
       "stream": "stdout",
       "text": [
        "(a) Reactive VARs to be supplied by compensating equipment = 34.08 MVAR\n",
        "(b) Reactive VARs to be absorbed by compensating equipment = 29.85 MVAR\n"
       ]
      }
     ],
     "prompt_number": 1
    },
    {
     "cell_type": "heading",
     "level": 2,
     "metadata": {},
     "source": [
      "Example 4.17, Page number 111-112"
     ]
    },
    {
     "cell_type": "code",
     "collapsed": false,
     "input": [
      "\n",
      "r = 25.0       #Resistance/phase(ohm)\n",
      "x = 90.0       #Reactance/phase(ohm)\n",
      "V_S = 145.0    #Sending end voltage(kV)\n",
      "V_R = 132.0    #Receiving end voltage(kV)\n",
      "P_R_1 = 0      #Power(MW)\n",
      "P_R_2 = 50.0   #Power(MW)\n",
      "\n",
      "import math\n",
      "import cmath\n",
      "A = 1.0*cmath.exp(1j*0*math.pi/180)       #Line constant\n",
      "B = complex(r,x)                          #Line constant(ohm)\n",
      "a = cmath.phase(A)                        #Phase angle of A(radian)\n",
      "b = cmath.phase(B)                        #Phase angle of B(radian)\n",
      "\n",
      "cos_b_delta_1 = (V_R/V_S)*math.cos(b-a)\n",
      "delta_1 = b - math.acos(cos_b_delta_1)\n",
      "Q_R_1 = (V_R*V_S/abs(B))*math.sin(b-delta_1) - (abs(A)*V_R**2/abs(B))*math.sin(b-a)\n",
      "\n",
      "cos_b_delta_2 = (P_R_2*abs(B)/(V_R*V_S))+(abs(A)*V_R/V_S)*math.cos(b-a)\n",
      "delta_2 = (b - math.acos(cos_b_delta_2))\n",
      "Q_R_2 = (V_R*V_S/abs(B))*math.sin(b-delta_2)-(abs(A)*V_R**2/abs(B))*math.sin(b-a) #Reactive power available at receiving end(MVAR)\n",
      "Q_S_2 = Q_R_1 + Q_R_2                                                             #Reactive power to be supplied by equipment(MVAR)\n",
      "pf = math.cos(math.atan(Q_S_2/P_R_2))                                             #Power factor\n",
      "\n",
      "print('Rating of device = %.2f MVAR' %Q_R_1)\n",
      "print('Power factor = %.2f lagging' %pf)"
     ],
     "language": "python",
     "metadata": {},
     "outputs": [
      {
       "output_type": "stream",
       "stream": "stdout",
       "text": [
        "Rating of device = 19.00 MVAR\n",
        "Power factor = 0.94 lagging\n"
       ]
      }
     ],
     "prompt_number": 1
    },
    {
     "cell_type": "heading",
     "level": 2,
     "metadata": {},
     "source": [
      "Example 4.18, Page number 112-114"
     ]
    },
    {
     "cell_type": "code",
     "collapsed": false,
     "input": [
      "\n",
      "import math\n",
      "import cmath\n",
      "A = 0.9*cmath.exp(1j*1.0*math.pi/180)     #Line constant\n",
      "B = 143.0*cmath.exp(1j*84.5*math.pi/180)  #Line constant(ohm)\n",
      "V_R = 220.0                               #Receiving end voltage(kV)\n",
      "V_S = 240.0                               #Sending end voltage(kV)\n",
      "P = 100.0                                 #Power(MVA)\n",
      "pf = 0.8                                  #Power factor lagging\n",
      "\n",
      "a = cmath.phase(A)                        #Phase angle of A(radian)\n",
      "b = cmath.phase(B)                        #Phase angle of B(radian)\n",
      "\n",
      "P_R = P * pf                                                                    #Active power at receiving end(MW)\n",
      "cos_b_delta = (P_R*abs(B)/(V_R*V_S))+(abs(A)*V_R/V_S)*math.cos(b-a)             #cos(b-delta)[in radians]\n",
      "delta_1 = (b - math.acos(cos_b_delta))\n",
      "Q_R = (V_R*V_S/abs(B))*math.sin(b-delta_1)-(abs(A)*V_R**2/abs(B))*math.sin(b-a) #Reactive power at receiving end(MVAR)\n",
      "P_Re = P *(1-pf**2)**0.5                                                        #Reactive power(MVAR)\n",
      "rating = P_Re - Q_R                                                             #Rating of phase modifier(MVAR)\n",
      "\n",
      "delta_2 = b                                                                     #Maximum power is received when delta = b\n",
      "P_Rmax = (V_R*V_S/abs(B))-(abs(A)*V_R**2/abs(B))*math.cos(b-a)                  #Maximum power at receiving end(MW)\n",
      "Q_R = -(abs(A/B)*V_R**2)*math.sin(b-a)                                          #Reactive power at receive end(MVAR)\n",
      "P_S = (V_S**2*abs(A/B))*math.cos(b-a)-(V_S*V_R/abs(B))*math.cos(b+delta_2)      #Sending end power(MW)\n",
      "n_line = (P_Rmax/P_S)*100                                                       #Line efficiency(%)\n",
      "\n",
      "print('Case(a) :')\n",
      "print('Rating of phase modifier = %.3f MVAR' %rating)\n",
      "print('Power angle , delta = %.2f\u00b0' %(delta_1*180/math.pi))\n",
      "print('\\nCase(b) :')\n",
      "print('Maximum power at receive end , P_Rmax = %.2f MW' %P_Rmax)\n",
      "print('Reactive power available , Q_R = %.2f MVAR' %Q_R)\n",
      "print('Line efficiency = %.2f percent' %n_line)"
     ],
     "language": "python",
     "metadata": {},
     "outputs": [
      {
       "output_type": "stream",
       "stream": "stdout",
       "text": [
        "Case(a) :\n",
        "Rating of phase modifier = 11.623 MVAR\n",
        "Power angle , delta = 12.56\u00b0\n",
        "\n",
        "Case(b) :\n",
        "Maximum power at receive end , P_Rmax = 334.75 MW\n",
        "Reactive power available , Q_R = -302.66 MVAR\n",
        "Line efficiency = 82.96 percent\n"
       ]
      }
     ],
     "prompt_number": 1
    },
    {
     "cell_type": "heading",
     "level": 2,
     "metadata": {},
     "source": [
      "Example 4.19, Page number 114-115"
     ]
    },
    {
     "cell_type": "code",
     "collapsed": false,
     "input": [
      "\n",
      "import math\n",
      "import cmath\n",
      "A = 0.96*cmath.exp(1j*1.0*math.pi/180)    #Line constant\n",
      "B = 100.0*cmath.exp(1j*83.0*math.pi/180)  #Line constant(ohm)\n",
      "V_R = 110.0                               #Receiving end voltage(kV)\n",
      "V_S = 110.0                               #Sending end voltage(kV)\n",
      "pf = 0.8                                  #Power factor lagging\n",
      "delta = 15*math.pi/180                    #Power angle(radians)\n",
      "\n",
      "a = cmath.phase(A)                        #Phase angle of A(radian)\n",
      "b = cmath.phase(B)                        #Phase angle of B(radian)\n",
      "\n",
      "P_R = (V_R*V_S/abs(B))*math.cos(b-delta) - (abs(A/B)*V_R**2)*math.cos(b-a) #Active power at receiving end(MW)\n",
      "Q_RL = P_R*math.tan(math.acos(pf))                                         #Reactive power demanded by load(MVAR)\n",
      "\n",
      "Q_R = (V_R*V_S/abs(B))*math.sin(b-delta) - (abs(A/B)*V_R**2)*math.sin(b-a) #Reactive power(MVAR)\n",
      "rating = Q_RL - Q_R                                                        #Rating of device(MVAR)\n",
      "\n",
      "P_S = (V_S**2*abs(A/B))*math.cos(b-a) - (V_R*V_S/abs(B))*math.cos(b+delta) #Sending end active power(MW)\n",
      "n_line = (P_R/P_S)*100                                                     #Efficiency of line(%)\n",
      "\n",
      "Q_S = (V_S**2*abs(A/B))*math.sin(b-a) - (V_R*V_S/abs(B))*math.sin(b+delta) #Sending end reactive power(MVAR)\n",
      "\n",
      "print('(i)  Active power demanded by load , P_R = %.2f MW' %P_R)\n",
      "print('     Reactive power demanded by load , Q_RL = %.2f MVAR' %Q_RL)\n",
      "print('(ii) Rating of the device , Q_R = %.2f MVAR' %rating)\n",
      "print('(iii)Efficiency of line = %.2f percent' %n_line)\n",
      "print('(iv) Reactive power supplied by source and line , Q_S = %.2f MVAR' %Q_S)"
     ],
     "language": "python",
     "metadata": {},
     "outputs": [
      {
       "output_type": "stream",
       "stream": "stdout",
       "text": [
        "(i)  Active power demanded by load , P_R = 29.16 MW\n",
        "     Reactive power demanded by load , Q_RL = 21.87 MVAR\n",
        "(ii) Rating of the device , Q_R = 24.71 MVAR\n",
        "(iii)Efficiency of line = 88.35 percent\n",
        "(iv) Reactive power supplied by source and line , Q_S = -4.79 MVAR\n"
       ]
      }
     ],
     "prompt_number": 1
    }
   ],
   "metadata": {}
  }
 ]
}