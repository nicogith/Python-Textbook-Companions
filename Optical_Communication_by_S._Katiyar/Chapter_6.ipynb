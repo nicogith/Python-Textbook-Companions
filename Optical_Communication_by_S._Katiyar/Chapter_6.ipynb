{
 "metadata": {
  "name": "",
  "signature": "sha256:a50462da831719a6431c94babed9d22bf70a3961b6e3e7b72f3c1cbaed2eb5dc"
 },
 "nbformat": 3,
 "nbformat_minor": 0,
 "worksheets": [
  {
   "cells": [
    {
     "cell_type": "heading",
     "level": 1,
     "metadata": {},
     "source": [
      "Chapter 6: Optical detectors"
     ]
    },
    {
     "cell_type": "heading",
     "level": 2,
     "metadata": {},
     "source": [
      "Example 6.1, Page number 201"
     ]
    },
    {
     "cell_type": "code",
     "collapsed": false,
     "input": [
      "'''Find the quantum efficiency'''\n",
      "\n",
      "#Varaible declaration \n",
      "re = 4.2*10**6   #EHP's\n",
      "rp = 6*10**6     #no. of photons\n",
      "lamda = 1200     #wavelength(nm)\n",
      "\n",
      "#Calculation\n",
      "N = re/rp\n",
      "\n",
      "#Result\n",
      "print \"Quantum efficiency =\",N*100,\"%\""
     ],
     "language": "python",
     "metadata": {},
     "outputs": [
      {
       "output_type": "stream",
       "stream": "stdout",
       "text": [
        "Quantum efficiency = 70.0 %\n"
       ]
      }
     ],
     "prompt_number": 2
    },
    {
     "cell_type": "heading",
     "level": 2,
     "metadata": {},
     "source": [
      "Example 6.2, Page number 201"
     ]
    },
    {
     "cell_type": "code",
     "collapsed": false,
     "input": [
      "'''Find photocurrent'''\n",
      "\n",
      "#Varaible declaration \n",
      "R = 0.85   #responsivity(A/W)\n",
      "Po = 1     #incident power(mW)\n",
      "\n",
      "#Calculation\n",
      "Ip = R*Po\n",
      "\n",
      "#Result\n",
      "print \"Photocurrent =\",Ip,\"mA\""
     ],
     "language": "python",
     "metadata": {},
     "outputs": [
      {
       "output_type": "stream",
       "stream": "stdout",
       "text": [
        "Photocurrent = 0.85 mA\n"
       ]
      }
     ],
     "prompt_number": 3
    },
    {
     "cell_type": "heading",
     "level": 2,
     "metadata": {},
     "source": [
      "Example 6.3, Page number 201"
     ]
    },
    {
     "cell_type": "code",
     "collapsed": false,
     "input": [
      "'''Find responsivity of photo diode'''\n",
      "\n",
      "#Varaible declaration \n",
      "E = 0.75*1.6*10**-19    #energy gap(V)\n",
      "c = 3*10**8             #speed of light(m/s)\n",
      "N = 60./100             #quantum efficiency\n",
      "h = 6.62*10**-34        #Planck's constant\n",
      "\n",
      "#Calculation\n",
      "lamda = (h*c)/E\n",
      "R = (N*lamda)/1248\n",
      "\n",
      "#Result\n",
      "print \"Responsivity =\",round((R/1E-9),1),\"A/W\""
     ],
     "language": "python",
     "metadata": {},
     "outputs": [
      {
       "output_type": "stream",
       "stream": "stdout",
       "text": [
        "Responsivity = 0.8 A/W\n"
       ]
      }
     ],
     "prompt_number": 4
    },
    {
     "cell_type": "heading",
     "level": 2,
     "metadata": {},
     "source": [
      "Example 6.4, Page number 202"
     ]
    },
    {
     "cell_type": "code",
     "collapsed": false,
     "input": [
      "'''Find responsivity and quantum efficiency'''\n",
      "\n",
      "#Varaible declaration \n",
      "re = 1.5*10**12         #EHP's\n",
      "rp = 3*10**12           #no. of photons\n",
      "lamda = 0.65*10**-6     #wavelength(m)\n",
      "h = 6.62*10**-34        #Palnck's constant\n",
      "c = 3*10**8             #speed of light(m/s)\n",
      "e = 1.6*10**-19         #charge of an electron(C)\n",
      "\n",
      "#Calculation\n",
      "N = re/rp\n",
      "\n",
      "R = (N*e*lamda)/(h*c)\n",
      "\n",
      "#Result\n",
      "print \"Quantum efficiency =\",N*100,\"%\"\n",
      "print \"Responsivity =\",round(R,3),\"A/W\""
     ],
     "language": "python",
     "metadata": {},
     "outputs": [
      {
       "output_type": "stream",
       "stream": "stdout",
       "text": [
        "Quantum efficiency = 50.0 %\n",
        "Responsivity = 0.262 A/W\n"
       ]
      }
     ],
     "prompt_number": 6
    },
    {
     "cell_type": "heading",
     "level": 2,
     "metadata": {},
     "source": [
      "Example 6.5, Page number 202"
     ]
    },
    {
     "cell_type": "code",
     "collapsed": false,
     "input": [
      "'''Estimate -\n",
      "a)operating walength\n",
      "b)incident optical power'''\n",
      "\n",
      "#Varaible declaration \n",
      "E = 1.5*10**-19         #photon energy(J)\n",
      "c = 3*10**8             #speed of light(m/s)\n",
      "N = 65./100             #quantum efficiency\n",
      "Ip = 1.5*10**-6         #photocurrent(A)\n",
      "h = 6.62*10**-34        #Planck's constant\n",
      "c = 3*10**8             #speed of light(m/s)\n",
      "e = 1.6*10**-19         #charge of an electron(C)\n",
      "\n",
      "#Calculations\n",
      "#Part a\n",
      "lamda = (h*c)/E\n",
      "\n",
      "#Part b\n",
      "f = c/lamda\n",
      "R = (N*e)/(h*f)\n",
      "Po = Ip/R\n",
      "\n",
      "#Results\n",
      "print \"a)Operating waelength =\",lamda/1E-6,\"um\"\n",
      "print \"b)Optical power =\",round((Po/1E-6),2),\"uW\"\n"
     ],
     "language": "python",
     "metadata": {},
     "outputs": [
      {
       "output_type": "stream",
       "stream": "stdout",
       "text": [
        "a)Operating waelength = 1.324 um\n",
        "b)Optical power = 2.16 uW\n"
       ]
      }
     ],
     "prompt_number": 7
    },
    {
     "cell_type": "heading",
     "level": 2,
     "metadata": {},
     "source": [
      "Example 6.6, Page number 203"
     ]
    },
    {
     "cell_type": "code",
     "collapsed": false,
     "input": [
      "'''Find wavelength'''\n",
      "\n",
      "#Varaible declaration \n",
      "Eg = 1.43*1.6*10**-19   #energy gap(V)\n",
      "c = 3*10**8             #speed of light(m/s)\n",
      "h = 6.62*10**-34        #Planck's constant\n",
      "\n",
      "#Calculations\n",
      "lamda_c = (h*c)/Eg\n",
      "\n",
      "#Result\n",
      "print \"Wavelength =\",round((lamda_c/1E-6),2),\"um\""
     ],
     "language": "python",
     "metadata": {},
     "outputs": [
      {
       "output_type": "stream",
       "stream": "stdout",
       "text": [
        "Wavelength = 0.87 um\n"
       ]
      }
     ],
     "prompt_number": 9
    },
    {
     "cell_type": "heading",
     "level": 2,
     "metadata": {},
     "source": [
      "Example 6.7, Page number 203"
     ]
    },
    {
     "cell_type": "code",
     "collapsed": false,
     "input": [
      "'''Find -\n",
      "a)responsivity\n",
      "b)Optical power received\n",
      "c)no. of received photons'''\n",
      "\n",
      "#Varaible declaration \n",
      "N = 50./100    #quantum efficiency\n",
      "lamda = 900    #wavelength(nm)\n",
      "Ip = 10**-6    #photocurrent(A)\n",
      "c = 3*10**8             #speed of light(m/s)\n",
      "h = 6.62*10**-34        #Planck's constant\n",
      "\n",
      "#Calculations\n",
      "#Part a\n",
      "R = (N*lamda)/1248\n",
      "\n",
      "#Part b\n",
      "Po = Ip/R\n",
      "\n",
      "#Part c\n",
      "n = (Po*lamda*10**-9)/(h*c)\n",
      "\n",
      "#Results\n",
      "print \"a)Responsivity =\",round(R,2),\"A/W\"\n",
      "print \"b)Optical power =\",round((Po/1E-6),2),\"*10^-6 W\"\n",
      "print \"c)No. of photons =\",round((n/1e+13),3),\"*10^13(Calculation mistake in textbook)\""
     ],
     "language": "python",
     "metadata": {},
     "outputs": [
      {
       "output_type": "stream",
       "stream": "stdout",
       "text": [
        "a)Responsivity = 0.36 A/W\n",
        "b)Optical power = 2.77 *10^-6 W\n",
        "c)No. of photons = 1.257 *10^13(Calculation mistake in textbook)\n"
       ]
      }
     ],
     "prompt_number": 11
    },
    {
     "cell_type": "heading",
     "level": 2,
     "metadata": {},
     "source": [
      "Example 6.8, Page number 204"
     ]
    },
    {
     "cell_type": "code",
     "collapsed": false,
     "input": [
      "'''Find the multiplication factor of photodiode'''\n",
      "\n",
      "#Varaible declaration \n",
      "N = 80./100           #quantum efficiency\n",
      "lamda = 0.9*10**-6   #wavelength(m)\n",
      "I = 12*10**-6         #output current(A)\n",
      "Po = 0.5*10**-6       #incident power(W)\n",
      "c = 3*10**8           #speed of light(m/s)\n",
      "h = 6.626*10**-34     #Planck's constant\n",
      "e = 1.6*10**-19       #charge of an electron(C)\n",
      "\n",
      "#Calculations\n",
      "R = (N*e*lamda)/(h*c)  #responsivity(A/W)\n",
      "Ip = Po*R              #photocurrent(A)\n",
      "M = I/Ip\n",
      "\n",
      "#Result\n",
      "print \"Multiplication factor =\",M"
     ],
     "language": "python",
     "metadata": {},
     "outputs": [
      {
       "output_type": "stream",
       "stream": "stdout",
       "text": [
        "Multiplication factor = 41.4125\n"
       ]
      }
     ],
     "prompt_number": 12
    },
    {
     "cell_type": "heading",
     "level": 2,
     "metadata": {},
     "source": [
      "Example 6.9, Page number 205"
     ]
    },
    {
     "cell_type": "code",
     "collapsed": false,
     "input": [
      "'''Find the responsivity and multiplication factor'''\n",
      "\n",
      "#Varaible declaration \n",
      "N = 65./100           #quantum efficiency\n",
      "lamda = 850*10**-9    #wavelength(m)\n",
      "I = 10*10**-6         #output current(A)\n",
      "Po = 0.5*10**-6       #incident power(W)\n",
      "c = 3*10**8           #speed of light(m/s)\n",
      "h = 6.626*10**-34     #Planck's constant\n",
      "e = 1.6*10**-19       #charge of an electron(C)\n",
      "\n",
      "#Calculations\n",
      "R = (N*e*lamda)/(h*c)  #responsivity(A/W)\n",
      "\n",
      "M = I/(R*Po)\n",
      "\n",
      "#Result\n",
      "print \"Responsiviy =\",round(R,3),\"A/W\"\n",
      "print \"Multiplication factor =\",M"
     ],
     "language": "python",
     "metadata": {},
     "outputs": [
      {
       "output_type": "stream",
       "stream": "stdout",
       "text": [
        "Responsiviy = 0.445 A/W\n",
        "Multiplication factor = 44.9728506787\n"
       ]
      }
     ],
     "prompt_number": 13
    },
    {
     "cell_type": "heading",
     "level": 2,
     "metadata": {},
     "source": [
      "Example 6.10, Page number 205"
     ]
    },
    {
     "cell_type": "code",
     "collapsed": false,
     "input": [
      "'''Estimate -\n",
      "a)noise equivalent power\n",
      "b)specific detectivity'''\n",
      "\n",
      "#Varaible declaration \n",
      "N = 55./100         #quantum efficiency\n",
      "lamda = 1.3*10**-6  #wavelength(nm)\n",
      "Id = 8*10**-9       #dark current(A)\n",
      "A = 75*50*10**-12   #dimensions(m)\n",
      "c = 3*10**8         #speed of light(m/s)\n",
      "h = 6.62*10**-34    #Planck's constant\n",
      "\n",
      "#Calculations\n",
      "#Part a\n",
      "NEP = (h*c*((2*e*Id)**0.5))/(N*e*lamda)\n",
      "\n",
      "#Part b\n",
      "D = A**0.5/NEP\n",
      "\n",
      "#Results\n",
      "print \"a)Noise equivalent power =\",round((NEP/1E-14),2),\"*10^-14 W\"\n",
      "print \"b)Specific detectivity =\",round((D/1E+8),2),\"*10^8\""
     ],
     "language": "python",
     "metadata": {},
     "outputs": [
      {
       "output_type": "stream",
       "stream": "stdout",
       "text": [
        "a)Noise equivalent power = 8.78 *10^-14 W\n",
        "b)Specific detectivity = 6.97 *10^8\n"
       ]
      }
     ],
     "prompt_number": 14
    },
    {
     "cell_type": "heading",
     "level": 2,
     "metadata": {},
     "source": [
      "Example 6.11, Page number 206"
     ]
    },
    {
     "cell_type": "code",
     "collapsed": false,
     "input": [
      "'''Find -\n",
      "a)optical gain\n",
      "b)CE current'''\n",
      "\n",
      "#Varaible declaration \n",
      "N = 60./100           #quantum efficiency\n",
      "lamda = 1.26*10**-6   #wavelength(m)\n",
      "Ic = 15*10**-3        #output current(A)\n",
      "Po = 125*10**-6       #incident power(W)\n",
      "c = 3*10**8           #speed of light(m/s)\n",
      "h = 6.626*10**-34     #Planck's constant\n",
      "e = 1.6*10**-19       #charge of an electron(C)\n",
      "\n",
      "#Calculations\n",
      "#Part a\n",
      "Go = (h*c*Ic)/(lamda*e*Po)\n",
      "\n",
      "#Part b\n",
      "Nfe = Go/N\n",
      "\n",
      "#Results\n",
      "print \"a)Optical gain =\",round(Go,1)\n",
      "print \"b)Common emiiter current =\",round(Nfe,1),\"A\""
     ],
     "language": "python",
     "metadata": {},
     "outputs": [
      {
       "output_type": "stream",
       "stream": "stdout",
       "text": [
        "a)Optical gain = 118.3\n",
        "b)Common emiiter current = 197.2 A\n"
       ]
      }
     ],
     "prompt_number": 15
    },
    {
     "cell_type": "heading",
     "level": 2,
     "metadata": {},
     "source": [
      "Example 6.12, Page number 207"
     ]
    },
    {
     "cell_type": "code",
     "collapsed": false,
     "input": [
      "'''Calculate the maximum 3dB bandwidth'''\n",
      "\n",
      "import math\n",
      "\n",
      "#Variable declaration\n",
      "tf = 5*10**-12  #transit time(sec)\n",
      "G = 70          #photoconductive gain\n",
      "\n",
      "#Calculation\n",
      "Bm = 1/(2*math.pi*tf*G)\n",
      "\n",
      "#Result\n",
      "print \"The maximum 3dB bandwidth permitted by photoconductor is\",round((Bm/1E+6),1),\"MHz\""
     ],
     "language": "python",
     "metadata": {},
     "outputs": [
      {
       "output_type": "stream",
       "stream": "stdout",
       "text": [
        "The maximum 3dB bandwidth permitted by photoconductor is 454.7 MHz\n"
       ]
      }
     ],
     "prompt_number": 16
    },
    {
     "cell_type": "heading",
     "level": 2,
     "metadata": {},
     "source": [
      "Example 6.13, Page number 207"
     ]
    },
    {
     "cell_type": "code",
     "collapsed": false,
     "input": [
      "'''Calculate the output photocurrent'''\n",
      "\n",
      "#Variable declaration\n",
      "rp = 10**11       #no. of photons/sec\n",
      "hf = 1.28*10**19  #energy of photons(J)\n",
      "e = 1.6*10**-19   #charge of an electron(C)\n",
      "\n",
      "#Calculations\n",
      "Po = rp/hf\n",
      "N = 1        #efficiency for an ideal photodiode\n",
      "Ip = (N*Po*e)/hf\n",
      "\n",
      "#Result\n",
      "print \"Output photocurrent =\",round((Ip/1E-47),2),\"*10^-47 A(Calculation mistake in textbook)\""
     ],
     "language": "python",
     "metadata": {},
     "outputs": [
      {
       "output_type": "stream",
       "stream": "stdout",
       "text": [
        "Output photocurrent = 9.77 *10^-47 A(Calculation mistake in textbook)\n"
       ]
      }
     ],
     "prompt_number": 17
    },
    {
     "cell_type": "heading",
     "level": 2,
     "metadata": {},
     "source": [
      "Example 6.14, Page number 207"
     ]
    },
    {
     "cell_type": "code",
     "collapsed": false,
     "input": [
      "'''Find the output photocurrent'''\n",
      "\n",
      "#Variable declaration\n",
      "R = 0.40       #responsivity(A/W)\n",
      "phi = 100      #incident flux(uW/mm^2)\n",
      "A = 2          #active area(mm^2)\n",
      "\n",
      "#Calculations\n",
      "Po = phi*A    #incident power(uW)\n",
      "Ip = R*Po\n",
      "\n",
      "#Result\n",
      "print \"Photocurrent =\",Ip/1e+3,\"mA\""
     ],
     "language": "python",
     "metadata": {},
     "outputs": [
      {
       "output_type": "stream",
       "stream": "stdout",
       "text": [
        "Photocurrent = 0.08 mA\n"
       ]
      }
     ],
     "prompt_number": 5
    },
    {
     "cell_type": "heading",
     "level": 2,
     "metadata": {},
     "source": [
      "Example 6.15, Page number 208"
     ]
    },
    {
     "cell_type": "code",
     "collapsed": false,
     "input": [
      "'''Find the multiplication factor of photodiode'''\n",
      "\n",
      "#Varaible declaration \n",
      "N = 50./100           #quantum efficiency\n",
      "lamda = 1.3*10**-6    #wavelength(m)\n",
      "I = 8*10**-6          #output current(A)\n",
      "Po = 0.4*10**-6       #incident power(W)\n",
      "c = 3*10**8           #speed of light(m/s)\n",
      "h = 6.626*10**-34     #Planck's constant\n",
      "e = 1.6*10**-19       #charge of an electron(C)\n",
      "\n",
      "#Calculations\n",
      "R = (N*e*lamda)/(h*c)  #responsivity(A/W)\n",
      "Ip = Po*R              #photocurrent(A)\n",
      "M = I/Ip\n",
      "\n",
      "#Result\n",
      "print \"Multiplication factor =\",round(M,2)"
     ],
     "language": "python",
     "metadata": {},
     "outputs": [
      {
       "output_type": "stream",
       "stream": "stdout",
       "text": [
        "Multiplication factor = 38.23\n"
       ]
      }
     ],
     "prompt_number": 19
    },
    {
     "cell_type": "heading",
     "level": 2,
     "metadata": {},
     "source": [
      "Example 6.16, Page number 208"
     ]
    },
    {
     "cell_type": "code",
     "collapsed": false,
     "input": [
      "'''Calculate the maximum 3dB bandwidth'''\n",
      "\n",
      "import math\n",
      "\n",
      "#Variable declaration\n",
      "tf = 4.5*10**-12  #transit time(sec)\n",
      "G = 80            #photoconductive gain\n",
      "\n",
      "#Calculation\n",
      "Bm = 1/(2*math.pi*tf*G)\n",
      "\n",
      "#Result\n",
      "print \"The maximum 3dB bandwidth permitted by photoconductor is\",round((Bm/1E+10),4),\"GHz(Calculation mistake in textbook)\""
     ],
     "language": "python",
     "metadata": {},
     "outputs": [
      {
       "output_type": "stream",
       "stream": "stdout",
       "text": [
        "The maximum 3dB bandwidth permitted by photoconductor is 0.0442 GHz(Calculation mistake in textbook)\n"
       ]
      }
     ],
     "prompt_number": 36
    },
    {
     "cell_type": "heading",
     "level": 2,
     "metadata": {},
     "source": [
      "Example 6.17, Page number 209"
     ]
    },
    {
     "cell_type": "code",
     "collapsed": false,
     "input": [
      "'''Estimate responsivity and received optical power'''\n",
      "\n",
      "#Varaible declaration \n",
      "N = 50./100         #quantum efficiency\n",
      "lamda = 0.9*10**-6  #wavelength(m)\n",
      "Ip = 10**-6         #photocurrent(A)\n",
      "c = 3*10**8         #speed of light(m/s)\n",
      "h = 6.62*10**-34    #Planck's constant\n",
      "e = 1.6*10**-19     #charge of an electron(C)\n",
      "\n",
      "#Calculations\n",
      "R = (N*e*lamda)/(h*c)\n",
      "\n",
      "Po = Ip/R\n",
      "\n",
      "\n",
      "#Results\n",
      "print \"Responsivity =\",round(R,2),\"A/W\"\n",
      "print \"Optical power =\",round((Po/1E-6),2),\"*10^-6 W\"\n"
     ],
     "language": "python",
     "metadata": {},
     "outputs": [
      {
       "output_type": "stream",
       "stream": "stdout",
       "text": [
        "Responsivity = 0.36 A/W\n",
        "Optical power = 2.76 *10^-6 W\n"
       ]
      }
     ],
     "prompt_number": 20
    },
    {
     "cell_type": "heading",
     "level": 2,
     "metadata": {},
     "source": [
      "Example 6.18, Page number 209"
     ]
    },
    {
     "cell_type": "code",
     "collapsed": false,
     "input": [
      "'''Find the efficiency of a PIN silicon photodiode'''\n",
      "\n",
      "#Varaible declaration \n",
      "R = 0.374            #responsivity(A/W)\n",
      "lamda = 1300*10**-9  #wavelength(m)\n",
      "c = 3*10**8          #speed of light(m/s)\n",
      "h = 6.62*10**-34     #Planck's constant\n",
      "e = 1.6*10**-19      #charge of an electron(C)\n",
      "\n",
      "#Calculations\n",
      "N = (R*h*c)/(e*lamda)\n",
      "\n",
      "#Result\n",
      "print \"Efficiency =\",round((N*100),1),\"%\""
     ],
     "language": "python",
     "metadata": {},
     "outputs": [
      {
       "output_type": "stream",
       "stream": "stdout",
       "text": [
        "Efficiency = 35.7 %\n"
       ]
      }
     ],
     "prompt_number": 21
    },
    {
     "cell_type": "heading",
     "level": 2,
     "metadata": {},
     "source": [
      "Example 6.20, Page number 209"
     ]
    },
    {
     "cell_type": "code",
     "collapsed": false,
     "input": [
      "'''Find the thickness of the intrinsic region'''\n",
      "\n",
      "#Variable declaration\n",
      "A = 1.5*10**-3    #area(mm^2)\n",
      "R = 100           #load resistance(Ohms)\n",
      "Eo = 1.04*10**-10 #permitivitty for Si(F/m)\n",
      "vd = 10**7        #electron saturation velocity(m/s)\n",
      "\n",
      "#Calculation\n",
      "w = (R*Eo*A*vd)**0.5\n",
      "\n",
      "#Result\n",
      "print \"The required thickness is\",round(w/1E-6),\"um(Calculation mistake in textbook)\""
     ],
     "language": "python",
     "metadata": {},
     "outputs": [
      {
       "output_type": "stream",
       "stream": "stdout",
       "text": [
        "The required thickness is 12490.0 um(Calculation mistake in textbook)\n"
       ]
      }
     ],
     "prompt_number": 22
    },
    {
     "cell_type": "heading",
     "level": 2,
     "metadata": {},
     "source": [
      "Example 6.21, Page number 210"
     ]
    },
    {
     "cell_type": "code",
     "collapsed": false,
     "input": [
      "'''Find the dark current'''\n",
      "\n",
      "import math\n",
      "\n",
      "#Varaible declaration \n",
      "N = 64./100         #quantum efficiency\n",
      "lamda = 0.85*10**-6 #wavelength(m)\n",
      "B = 1               #bandwidth(Hz)\n",
      "D = 7*10**10        #specific detectivity(/MHz-W)\n",
      "A = 10*10**-6       #dimensions(m)\n",
      "c = 3*10**8         #speed of light(m/s)\n",
      "h = 6.62*10**-34    #Planck's constant\n",
      "e = 1.602*10**-19   #charge of an electron(C)\n",
      "\n",
      "#Calculations\n",
      "Id = ((N*math.sqrt(e*A)*lamda)/(h*c*math.sqrt(2)*D))**0.5\n",
      "\n",
      "#Result\n",
      "print \"Dark current =\",round((Id/1E-3),2),\"mA\"\n",
      "#Square root of Id has not been taken in the textbook.Hence, the difference in solution"
     ],
     "language": "python",
     "metadata": {},
     "outputs": [
      {
       "output_type": "stream",
       "stream": "stdout",
       "text": [
        "Dark current = 5.92 mA\n"
       ]
      }
     ],
     "prompt_number": 6
    }
   ],
   "metadata": {}
  }
 ]
}