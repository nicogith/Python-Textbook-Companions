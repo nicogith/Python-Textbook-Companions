{
 "cells": [
  {
   "cell_type": "markdown",
   "metadata": {},
   "source": [
    "# Chapter 7 Mechanical Properties part two"
   ]
  },
  {
   "cell_type": "markdown",
   "metadata": {},
   "source": [
    "## Example 7_1 pgno:251"
   ]
  },
  {
   "cell_type": "code",
   "execution_count": 1,
   "metadata": {
    "collapsed": false
   },
   "outputs": [
    {
     "name": "stdout",
     "output_type": "stream",
     "text": [
      "Depth of crank that will propagate in the steel  in: 0.8\n"
     ]
    }
   ],
   "source": [
    "from math import pi\n",
    "# Initialisation of Variables\n",
    "f=1.12;#Geometry factor for the specimen and flaw\n",
    "sigma=45000.;#Applied stress on Steel in psi\n",
    "K=80000.;#The stress intensity factor\n",
    "#CALCULATIONS\n",
    "a=(K/(f*sigma))**2/pi;#Depth of crank in in\n",
    "print \"Depth of crank that will propagate in the steel  in:\",round(a,1)\n"
   ]
  },
  {
   "cell_type": "markdown",
   "metadata": {},
   "source": [
    "## Example 7_2 pgno:253"
   ]
  },
  {
   "cell_type": "code",
   "execution_count": 2,
   "metadata": {
    "collapsed": false
   },
   "outputs": [
    {
     "name": "stdout",
     "output_type": "stream",
     "text": [
      "The radius of the crack tip in Angstroms 706.0\n"
     ]
    }
   ],
   "source": [
    "# Initialisation of Variables\n",
    "T=60000.;#Tensile strength Of Sialon (acronym   for silicon aluminum oxynitride) in psi\n",
    "sigma=500.;#The stress at which the part unexpectedly fails in psi\n",
    "a=0.01;#Depth of thin crack in in\n",
    "#CALCULATIONS\n",
    "r=a/(T/(2*sigma))**2;#The radius of the crack tip  in in\n",
    "print \"The radius of the crack tip in Angstroms\",round(r*2.54*10**8)\n",
    "#difference in answer is due to erronous caluctions\n",
    "\n"
   ]
  },
  {
   "cell_type": "markdown",
   "metadata": {},
   "source": [
    "## Example 7_3 pgno:254"
   ]
  },
  {
   "cell_type": "code",
   "execution_count": 3,
   "metadata": {
    "collapsed": false
   },
   "outputs": [
    {
     "name": "stdout",
     "output_type": "stream",
     "text": [
      "THickness of ceramic : 2.63\n"
     ]
    }
   ],
   "source": [
    "from math  import sqrt,pi\n",
    "# Initialisation of Variables\n",
    "F=40000;# Maximum Tensile load in lb\n",
    "K=9000;#Fracture toughness of Ceramic\n",
    "w=3;# plate made of Sialon width  \n",
    "#CALCULATIONS\n",
    "A=F*sqrt(pi)/K;#Area of ceramic\n",
    "T=A/w;# Thickness of Ceramic\n",
    "print \"THickness of ceramic :\",round(T,2)\n"
   ]
  },
  {
   "cell_type": "markdown",
   "metadata": {},
   "source": [
    "## Example 7_8 pgno:263"
   ]
  },
  {
   "cell_type": "code",
   "execution_count": 4,
   "metadata": {
    "collapsed": false
   },
   "outputs": [
    {
     "name": "stdout",
     "output_type": "stream",
     "text": [
      "The characteristic strength of the ceramic in MPa: 269.4\n",
      "Expected level of stress that can be supported in MPa: 209.8\n"
     ]
    }
   ],
   "source": [
    "from math import log,exp\n",
    "# Initialisation of Variables\n",
    "m=9;#Weibull modulus of an ceramic \n",
    "sigma1=250;#The flexural strength in MPa\n",
    "F1=0.4;#probability of failure \n",
    "F2=0.1;#Expected the probability of failure\n",
    "#CALCULATIONS\n",
    "sigma2=exp(log(sigma1)-(log(log(1/(1-F1)))/m ));# The characteristic strength of the ceramic\n",
    "sigma3=exp((log(log(1/(1-F2)))/m)+log(sigma2));#Expected level of stress that can be supported in MPa\n",
    "print \"The characteristic strength of the ceramic in MPa:\",round(sigma2,1)\n",
    "print \"Expected level of stress that can be supported in MPa:\",round(sigma3,1)\n",
    "\n"
   ]
  },
  {
   "cell_type": "markdown",
   "metadata": {},
   "source": [
    "## Example 7_9 pgno:264"
   ]
  },
  {
   "cell_type": "code",
   "execution_count": 5,
   "metadata": {
    "collapsed": false
   },
   "outputs": [
    {
     "name": "stdout",
     "output_type": "stream",
     "text": [
      "Weibull modulus of ceramic: 3.15\n"
     ]
    }
   ],
   "source": [
    "from math import log\n",
    "# Initialisation of Variables\n",
    "Ln1=0.5\n",
    "Ln2=-2.0\n",
    "\n",
    "sigma1=52;#the maximum allowed stress level on ceramic at one point in MP.\n",
    "sigma2=23.5;#the maximum allowed stress level on ceramic at another point in MP.\n",
    "#CALCULATIONS\n",
    "m=(Ln1-Ln2)/(log(sigma1)-log(sigma2));#Weibull modulus of ceramic\n",
    "print \"Weibull modulus of ceramic:\",round(m,2)"
   ]
  },
  {
   "cell_type": "markdown",
   "metadata": {},
   "source": [
    "## Example 7_11 pgno:270"
   ]
  },
  {
   "cell_type": "code",
   "execution_count": 6,
   "metadata": {
    "collapsed": false
   },
   "outputs": [
    {
     "name": "stdout",
     "output_type": "stream",
     "text": [
      "The Diameter of Shaft in in.: 4.39\n",
      "The minimum diameter required to prevent failure in in.: 5.54\n"
     ]
    }
   ],
   "source": [
    "from math import pi\n",
    "# Initialisation of Variables\n",
    "N=5.256*10**5;#No. of cycles that the shaft will  experience in one year\n",
    "F=12500.;#applied load  on shaft in lb\n",
    "L=96.;#Length of Kliin produced from tool steel in in.\n",
    "sigma1=72000.;#the applied stress on Shaft\n",
    "f=2.;#Factor of saftey of shaft\n",
    "sigma2=sigma1/f;#the maximum allowed stress level\n",
    "#CALCULATIONS\n",
    "d1=(16*F*L/(sigma1*pi))**(1./3.);#The Diameter of Shaft in in.\n",
    "d2=(16*F*L/(sigma2*pi))**(1./3.);#The minimum diameter required to prevent failure\n",
    "print \"The Diameter of Shaft in in.:\",round(d1,2)\n",
    "print \"The minimum diameter required to prevent failure in in.:\",round(d2,2)\n"
   ]
  }
 ],
 "metadata": {
  "kernelspec": {
   "display_name": "Python 2",
   "language": "python",
   "name": "python2"
  },
  "language_info": {
   "codemirror_mode": {
    "name": "ipython",
    "version": 2
   },
   "file_extension": ".py",
   "mimetype": "text/x-python",
   "name": "python",
   "nbconvert_exporter": "python",
   "pygments_lexer": "ipython2",
   "version": "2.7.9"
  }
 },
 "nbformat": 4,
 "nbformat_minor": 0
}
