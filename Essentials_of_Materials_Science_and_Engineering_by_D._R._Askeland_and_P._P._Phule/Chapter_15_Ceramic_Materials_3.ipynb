{
 "cells": [
  {
   "cell_type": "markdown",
   "metadata": {},
   "source": [
    "# Chapter 15 Ceramic Materials"
   ]
  },
  {
   "cell_type": "markdown",
   "metadata": {},
   "source": [
    "## Example 15_1 pgno:581"
   ]
  },
  {
   "cell_type": "code",
   "execution_count": 1,
   "metadata": {
    "collapsed": false
   },
   "outputs": [
    {
     "name": "stdout",
     "output_type": "stream",
     "text": [
      "Apparent Porosity in percent: 15.5279503106\n",
      "Bulk Density of Ceramic: 2.23602484472\n",
      "True Porosity of Ceramic  in Percent: 30.1242236025\n",
      "Fraction Closed Pores of Ceramic: 0.485\n"
     ]
    }
   ],
   "source": [
    "# Initialisation of Variables,\n",
    "rho=3.2;#Specific Gravity of SiC in g/cm**2\n",
    "Ww=385.;#Weight of Ceramic when dry in g\n",
    "Wd=360.;#Weight of Ceramic after Soaking in water in g\n",
    "Ws=224.;#Weight of Ceramic Suspended in    water in g\n",
    "#CALCULATIONS\n",
    "A=((Ww-Wd)/(Ww-Ws))*100;#Apparent Porosity in percent\n",
    "B=(Wd)/(Ww-Ws);#Bulk Density of Ceramic\n",
    "T=((rho-B)/rho)*100;#True Porosity of Ceramic  in Percent\n",
    "C=T-A;#Closed pore percent of ceramic\n",
    "F=C/T;#Fraction Closed Pores of Ceramic\n",
    "print \"Apparent Porosity in percent:\",A\n",
    "print \"Bulk Density of Ceramic:\",B\n",
    "print \"True Porosity of Ceramic  in Percent:\",T\n",
    "print \"Fraction Closed Pores of Ceramic:\",round(F,3)\n"
   ]
  },
  {
   "cell_type": "markdown",
   "metadata": {},
   "source": [
    "## Example 15_2 pgno:584"
   ]
  },
  {
   "cell_type": "code",
   "execution_count": 2,
   "metadata": {
    "collapsed": false
   },
   "outputs": [
    {
     "name": "stdout",
     "output_type": "stream",
     "text": [
      "Mole Fraction of B2O3: 0.142857142857\n",
      "Weight Percent of B2O3: 16.2\n"
     ]
    }
   ],
   "source": [
    "# Initialisation of Variables\n",
    "R=2.5;#Ratio of O to Si in SiO2\n",
    "W1=69.62;#Weight of B2O3 in g/ml\n",
    "W2=60.08;##Weight of SiO2 in g/ml\n",
    "#CALCULATIONS\n",
    "Fb1=(R-2)/3.5;#Mole Fraction of B2O3\n",
    "Fb2=1-Fb1;#Mole fraction of SiO2\n",
    "Wp=((Fb1*W1)/((Fb1*W1)+(Fb2*W2)))*100;#Weight Percent of B2O3\n",
    "print \"Mole Fraction of B2O3:\",Fb1\n",
    "print \"Weight Percent of B2O3:\",round(Wp,1)\n"
   ]
  }
 ],
 "metadata": {
  "kernelspec": {
   "display_name": "Python 2",
   "language": "python",
   "name": "python2"
  },
  "language_info": {
   "codemirror_mode": {
    "name": "ipython",
    "version": 2
   },
   "file_extension": ".py",
   "mimetype": "text/x-python",
   "name": "python",
   "nbconvert_exporter": "python",
   "pygments_lexer": "ipython2",
   "version": "2.7.9"
  }
 },
 "nbformat": 4,
 "nbformat_minor": 0
}
