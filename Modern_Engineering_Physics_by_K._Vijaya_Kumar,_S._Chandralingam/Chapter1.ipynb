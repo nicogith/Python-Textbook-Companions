{
 "cells": [
  {
   "cell_type": "markdown",
   "metadata": {},
   "source": [
    "# 1: Interference"
   ]
  },
  {
   "cell_type": "markdown",
   "metadata": {},
   "source": [
    "## Example number 1, Page number 30"
   ]
  },
  {
   "cell_type": "code",
   "execution_count": 2,
   "metadata": {
    "collapsed": false
   },
   "outputs": [
    {
     "name": "stdout",
     "output_type": "stream",
     "text": [
      "distance of screen from slits is 1.28 m\n"
     ]
    }
   ],
   "source": [
    "#importing modules\n",
    "import math\n",
    "from __future__ import division\n",
    "\n",
    "#Variable declaration\n",
    "d=0.08*10**-2;         #distance between slits(m)\n",
    "beta=6*10**-4;         #fringe width(m)\n",
    "c=3*10**8;             #velocity of light(m/sec)\n",
    "new=8*10**11*10**3;    #frequency(Hz)\n",
    "\n",
    "#Calculation\n",
    "lamda=c/new;           #wavelength(m)\n",
    "D=beta*d/lamda;        #distance of screen from slits(m)\n",
    "\n",
    "#Result\n",
    "print \"distance of screen from slits is\",D,\"m\""
   ]
  },
  {
   "cell_type": "markdown",
   "metadata": {},
   "source": [
    "## Example number 2, Page number 30"
   ]
  },
  {
   "cell_type": "code",
   "execution_count": 5,
   "metadata": {
    "collapsed": false
   },
   "outputs": [
    {
     "name": "stdout",
     "output_type": "stream",
     "text": [
      "wavelength of light source is 6037.5 angstron\n"
     ]
    }
   ],
   "source": [
    "#importing modules\n",
    "import math\n",
    "from __future__ import division\n",
    "\n",
    "#Variable declaration\n",
    "lamda1=4200*10**-10;    #wavelength(m)\n",
    "beta1=0.64*10**-2;      #first fringe width(m)\n",
    "beta2=0.46*10**-2;      #second fringe width(m)\n",
    "\n",
    "#Calculation\n",
    "lamda2=lamda1*2*beta2/beta1;    #wavelength of light source(m)\n",
    "\n",
    "#Result\n",
    "print \"wavelength of light source is\",lamda2*10**10,\"angstron\""
   ]
  },
  {
   "cell_type": "markdown",
   "metadata": {},
   "source": [
    "## Example number 3, Page number 31"
   ]
  },
  {
   "cell_type": "code",
   "execution_count": 14,
   "metadata": {
    "collapsed": false
   },
   "outputs": [
    {
     "name": "stdout",
     "output_type": "stream",
     "text": [
      "ratio of intensity is 0.3363\n",
      "distance of point on screen from centre is 1.473 *10**-4 m\n",
      "answers in the book varies due to rounding off errors\n"
     ]
    }
   ],
   "source": [
    "#importing modules\n",
    "import math\n",
    "from __future__ import division\n",
    "\n",
    "#Variable declaration\n",
    "Y=1*10**-3;           #distance between slits(m)\n",
    "D=1;                  #distance between slit and screen(m)\n",
    "d=1*10**-3;           #point distance(m)\n",
    "lamda=5893*10**-10;   #wavelength(angston)\n",
    "\n",
    "#Calculation\n",
    "delta1=Y*d/D;                #path difference(m)\n",
    "Pd=2*math.pi*delta1/lamda;   #phase difference(radian)\n",
    "r=(math.cos(Pd/2))**2;       #ratio of intensity\n",
    "delta2=lamda/4;              #path difference(m)\n",
    "W=delta2*D/d;                #distance of point on screen from centre(m)\n",
    "\n",
    "#Result\n",
    "print \"ratio of intensity is\",round(r,4)\n",
    "print \"distance of point on screen from centre is\",round(W*10**4,3),\"*10**-4 m\"\n",
    "print \"answers in the book varies due to rounding off errors\""
   ]
  },
  {
   "cell_type": "markdown",
   "metadata": {},
   "source": [
    "## Example number 4, Page number 32"
   ]
  },
  {
   "cell_type": "code",
   "execution_count": 16,
   "metadata": {
    "collapsed": false
   },
   "outputs": [
    {
     "name": "stdout",
     "output_type": "stream",
     "text": [
      "ratio of maximum intensity to minimum intensity is 19.727\n"
     ]
    }
   ],
   "source": [
    "#importing modules\n",
    "import math\n",
    "from __future__ import division\n",
    "\n",
    "#Variable declaration\n",
    "I1=10;                       #intensity(Wm**-2)\n",
    "I2=25;                       #intensity(Wm**-2)\n",
    "\n",
    "#Calculation\n",
    "a1bya2=math.sqrt(I1/I2);     \n",
    "ImaxbyImin=(a1bya2+1)**2/(a1bya2-1)**2;  #ratio of maximum intensity to minimum intensity\n",
    "\n",
    "#Result\n",
    "print \"ratio of maximum intensity to minimum intensity is\",round(ImaxbyImin,3)"
   ]
  },
  {
   "cell_type": "markdown",
   "metadata": {},
   "source": [
    "## Example number 5, Page number 32"
   ]
  },
  {
   "cell_type": "code",
   "execution_count": 21,
   "metadata": {
    "collapsed": false
   },
   "outputs": [
    {
     "name": "stdout",
     "output_type": "stream",
     "text": [
      "ratio of intensity is\n"
     ]
    }
   ],
   "source": [
    "#importing modules\n",
    "import math\n",
    "from __future__ import division\n",
    "\n",
    "#Variable declaration\n",
    "ImaxbyImin=9/1;      #ratio of fringes\n",
    "\n",
    "#Calculation\n",
    "amaxbyamin=math.sqrt(ImaxbyImin);\n",
    "#Result\n",
    "print \"ratio of intensity is\","
   ]
  },
  {
   "cell_type": "markdown",
   "metadata": {},
   "source": [
    "## Example number 6, Page number 33"
   ]
  },
  {
   "cell_type": "code",
   "execution_count": 24,
   "metadata": {
    "collapsed": false
   },
   "outputs": [
    {
     "name": "stdout",
     "output_type": "stream",
     "text": [
      "distance between slits is 2 mm\n"
     ]
    }
   ],
   "source": [
    "#importing modules\n",
    "import math\n",
    "from __future__ import division\n",
    "\n",
    "#Variable declaration\n",
    "lamda=500*10**-9;      #wavelength(m)\n",
    "D=2;                   #distance of screen from slits(m)\n",
    "l=5*10**-2;            #distance(m)\n",
    "n=100;                 #number of fringes\n",
    "\n",
    "#Calculation\n",
    "beta=l/n;\n",
    "d=lamda*D/beta;         #distance between slits(m)\n",
    "\n",
    "#Result\n",
    "print \"distance between slits is\",int(d*10**3),\"mm\""
   ]
  },
  {
   "cell_type": "markdown",
   "metadata": {},
   "source": [
    "## Example number 7, Page number 33"
   ]
  },
  {
   "cell_type": "code",
   "execution_count": 26,
   "metadata": {
    "collapsed": false
   },
   "outputs": [
    {
     "name": "stdout",
     "output_type": "stream",
     "text": [
      "fringe width is 2.75 mm\n"
     ]
    }
   ],
   "source": [
    "#importing modules\n",
    "import math\n",
    "from __future__ import division\n",
    "\n",
    "#Variable declaration\n",
    "d=0.2*10**-3;          #distance between slits(m)\n",
    "lamda=550*10**-9;      #wavelength(m)\n",
    "D=1;                   #distance of screen from slits(m)\n",
    "\n",
    "#Calculation\n",
    "beta=lamda*D/d;       #fringe width(m)\n",
    "\n",
    "#Result\n",
    "print \"fringe width is\",beta*10**3,\"mm\""
   ]
  },
  {
   "cell_type": "markdown",
   "metadata": {},
   "source": [
    "## Example number 8, Page number 33"
   ]
  },
  {
   "cell_type": "code",
   "execution_count": 32,
   "metadata": {
    "collapsed": false
   },
   "outputs": [
    {
     "name": "stdout",
     "output_type": "stream",
     "text": [
      "angular position of 10th maximum is 3.13 degrees\n",
      "angular position of 1st maximum is 0.156 degrees\n"
     ]
    }
   ],
   "source": [
    "#importing modules\n",
    "import math\n",
    "from __future__ import division\n",
    "\n",
    "#Variable declaration\n",
    "n=10;           \n",
    "lamda=5460*10**-10;         #wavelength(m)\n",
    "d=0.1*10**-3;               #distance between slits(m)\n",
    "D=2;                        #distance of screen from slits(m)\n",
    "\n",
    "#Calculation\n",
    "x10=n*lamda*D/d;                 #distance from centre where 10th maximum is obtained(m)\n",
    "tantheta1=x10/2;                 #angular position of 10th maximum(radian)\n",
    "tantheta1=tantheta1*180/math.pi; #angular position of 10th maximum(degrees)\n",
    "x1=lamda*D/(2*d);                #distance from centre where 1st maximum is obtained(m)\n",
    "tantheta2=x1/2;                  #angular position of 1st maximum(radian)\n",
    "tantheta2=tantheta2*180/math.pi; #angular position of 1st maximum(degrees)\n",
    "\n",
    "#Result\n",
    "print \"angular position of 10th maximum is\",round(tantheta1,2),\"degrees\"\n",
    "print \"angular position of 1st maximum is\",round(tantheta2,3),\"degrees\""
   ]
  },
  {
   "cell_type": "markdown",
   "metadata": {},
   "source": [
    "## Example number 9, Page number 34"
   ]
  },
  {
   "cell_type": "code",
   "execution_count": 36,
   "metadata": {
    "collapsed": false
   },
   "outputs": [
    {
     "name": "stdout",
     "output_type": "stream",
     "text": [
      " least distance of the point from central maximum is 13 mm\n"
     ]
    }
   ],
   "source": [
    "#importing modules\n",
    "import math\n",
    "from __future__ import division\n",
    "\n",
    "#Variable declaration\n",
    "lamda1=650*10**-9;       #wavelength(m)\n",
    "lamda2=500*10**-9;       #wavelength(m)\n",
    "n1=10;\n",
    "n2=13;\n",
    "D=1;                     #distance(m)\n",
    "d=0.5*10**-3;            #seperation(m)\n",
    "\n",
    "#Calculation\n",
    "x=n1*lamda1*D/d;         #least distance of the point from central maximum(m)\n",
    "\n",
    "#Result\n",
    "print \"least distance of the point from central maximum is\",int(x*10**3),\"mm\""
   ]
  },
  {
   "cell_type": "markdown",
   "metadata": {},
   "source": [
    "## Example number 10, Page number 35"
   ]
  },
  {
   "cell_type": "code",
   "execution_count": 40,
   "metadata": {
    "collapsed": false
   },
   "outputs": [
    {
     "name": "stdout",
     "output_type": "stream",
     "text": [
      "thcikness of glass plate is 8.0 *10**-6 m\n",
      "answer given in the book is wrong\n"
     ]
    }
   ],
   "source": [
    "#importing modules\n",
    "import math\n",
    "from __future__ import division\n",
    "\n",
    "#Variable declaration\n",
    "n=5;\n",
    "lamda=4800*10**-10;       #wavelength(m)\n",
    "mew_mewdash=0.3;          \n",
    "\n",
    "#Calculation\n",
    "t=n*lamda/mew_mewdash;         #thcikness of glass plate(m)\n",
    "\n",
    "#Result\n",
    "print \"thcikness of glass plate is\",t*10**6,\"*10**-6 m\"\n",
    "print \"answer given in the book is wrong\""
   ]
  },
  {
   "cell_type": "markdown",
   "metadata": {},
   "source": [
    "## Example number 11, Page number 35"
   ]
  },
  {
   "cell_type": "code",
   "execution_count": 47,
   "metadata": {
    "collapsed": false
   },
   "outputs": [
    {
     "name": "stdout",
     "output_type": "stream",
     "text": [
      "refractive index of oil is 1.38 *10**-5\n",
      "answer given in the book is wrong\n"
     ]
    }
   ],
   "source": [
    "#importing modules\n",
    "import math\n",
    "from __future__ import division\n",
    "\n",
    "#Variable declaration\n",
    "v=0.2;         #volume(cc)\n",
    "a=1*10**4;     #area(cm**2)\n",
    "r=0;\n",
    "n=1;\n",
    "lamda=5.5*10**-5;      #wavelength(cm)\n",
    "t=2;\n",
    "\n",
    "#Calculation\n",
    "d=v/a;       #thickness of film(cm)\n",
    "mew=n*lamda/(2*t*math.cos(r));      #refractive index of oil\n",
    "\n",
    "#Result\n",
    "print \"refractive index of oil is\",round(mew*10**5,2),\"*10**-5\"\n",
    "print \"answer given in the book is wrong\""
   ]
  },
  {
   "cell_type": "markdown",
   "metadata": {},
   "source": [
    "## Example number 12, Page number 35"
   ]
  },
  {
   "cell_type": "code",
   "execution_count": 53,
   "metadata": {
    "collapsed": false
   },
   "outputs": [
    {
     "name": "stdout",
     "output_type": "stream",
     "text": [
      "wavelength of light for 1st order is 12.2 *10**-5 cm\n",
      "answer in the book varies due to rounding off errors\n",
      "wavelength of light for 2nd order is 6.09 *10**-5 cm\n",
      "wavelength of light for 3rd order is 4.06 *10**-5 cm\n",
      "wavelength of light for 4th order is 3.0 *10**-5 cm\n"
     ]
    }
   ],
   "source": [
    "#importing modules\n",
    "import math\n",
    "from __future__ import division\n",
    "\n",
    "#Variable declaration\n",
    "mew=1.33;        #refractive index\n",
    "i=35*math.pi/180;      #angle of incidence(radian)\n",
    "d=5*10**-5;            #thickness(cm)\n",
    "n1=1;                  #order \n",
    "n2=2;                  #order\n",
    "n3=3;                  #order \n",
    "n4=4;                  #order\n",
    "\n",
    "#Calculation\n",
    "r=180/math.pi*math.asin(math.sin(i)/mew);     #angle of reflection(degrees)\n",
    "lamda1=2*mew*d*math.cos(r)/n1;            #wavelength of light for 1st order(cm)\n",
    "lamda2=2*mew*d*math.cos(r)/n2;            #wavelength of light for 2nd order(cm)\n",
    "lamda3=2*mew*d*math.cos(r)/n3;            #wavelength of light for 3rd order(cm)\n",
    "lamda4=2*mew*d*math.cos(r)/n4;            #wavelength of light for 4th order(cm)\n",
    "\n",
    "#Result\n",
    "print \"wavelength of light for 1st order is\",round(lamda1*10**5,1),\"*10**-5 cm\"\n",
    "print \"answer in the book varies due to rounding off errors\"\n",
    "print \"wavelength of light for 2nd order is\",round(lamda2*10**5,2),\"*10**-5 cm\"\n",
    "print \"wavelength of light for 3rd order is\",round(lamda3*10**5,2),\"*10**-5 cm\"\n",
    "print \"wavelength of light for 4th order is\",round(lamda4*10**5,1),\"*10**-5 cm\""
   ]
  },
  {
   "cell_type": "markdown",
   "metadata": {},
   "source": [
    "## Example number 13, Page number 36"
   ]
  },
  {
   "cell_type": "code",
   "execution_count": 56,
   "metadata": {
    "collapsed": false
   },
   "outputs": [
    {
     "name": "stdout",
     "output_type": "stream",
     "text": [
      "fringe width is 0.09 cm\n"
     ]
    }
   ],
   "source": [
    "#importing modules\n",
    "import math\n",
    "from __future__ import division\n",
    "\n",
    "#Variable declaration\n",
    "x=15;            #distance(cm)\n",
    "d=0.005;         #diameter(cm)\n",
    "lamda=6000*10**-8;     #wavelength(cm)\n",
    "\n",
    "#Calculation\n",
    "alpha=d/x;               #angle(radian)\n",
    "beta=lamda/(2*alpha);    #fringe width(cm)\n",
    "\n",
    "#Result\n",
    "print \"fringe width is\",beta,\"cm\""
   ]
  },
  {
   "cell_type": "markdown",
   "metadata": {},
   "source": [
    "## Example number 14, Page number 36"
   ]
  },
  {
   "cell_type": "code",
   "execution_count": 58,
   "metadata": {
    "collapsed": false
   },
   "outputs": [
    {
     "name": "stdout",
     "output_type": "stream",
     "text": [
      "distance from edge of the wedge is 2.85 *10**-4 m\n"
     ]
    }
   ],
   "source": [
    "#importing modules\n",
    "import math\n",
    "from __future__ import division\n",
    "\n",
    "#Variable declaration\n",
    "alpha=0.01;             #angle(radian)\n",
    "n=10;\n",
    "lamda=6000*10**-10;     #wavelength(m)\n",
    "\n",
    "#Calculation\n",
    "x=((2*n)-1)*lamda/(4*alpha);     #distance from edge of the wedge(m)\n",
    "\n",
    "#Result\n",
    "print \"distance from edge of the wedge is\",x*10**4,\"*10**-4 m\""
   ]
  },
  {
   "cell_type": "markdown",
   "metadata": {},
   "source": [
    "## Example number 15, Page number 36"
   ]
  },
  {
   "cell_type": "code",
   "execution_count": 63,
   "metadata": {
    "collapsed": false
   },
   "outputs": [
    {
     "name": "stdout",
     "output_type": "stream",
     "text": [
      "diameter of 5th fringe is 0.63 m\n"
     ]
    }
   ],
   "source": [
    "#importing modules\n",
    "import math\n",
    "from __future__ import division\n",
    "\n",
    "#Variable declaration\n",
    "lamda=5460*10**-8;      #wavelength(cm)\n",
    "f=400;            #focal length(cm)\n",
    "n=5;\n",
    "mew=1.5;          #refractive index\n",
    "\n",
    "#Calculation\n",
    "R=2*f*(mew-1);      #radius(cm)\n",
    "Dn=math.sqrt(2*((2*n)-1)*lamda*R);    #diameter of 5th fringe(cm)\n",
    "\n",
    "#Result\n",
    "print \"diameter of 5th fringe is\",round(Dn,2),\"m\""
   ]
  },
  {
   "cell_type": "markdown",
   "metadata": {},
   "source": [
    "## Example number 16, Page number 37"
   ]
  },
  {
   "cell_type": "code",
   "execution_count": 72,
   "metadata": {
    "collapsed": false
   },
   "outputs": [
    {
     "name": "stdout",
     "output_type": "stream",
     "text": [
      "wavelength in infrared region is 26600 *10**-10 m\n",
      "wavelength in infrared region is 8866.7 *10**-10 m\n",
      "wavelength in visible region is 5320 *10**-10 m\n",
      "wavelength in ultraviolet region is 3800 *10**-10 m\n",
      "of all the wavelengths reflected, 5320 angstrom is the wavelength in the visible region\n"
     ]
    }
   ],
   "source": [
    "#importing modules\n",
    "import math\n",
    "from __future__ import division\n",
    "\n",
    "#Variable declaration\n",
    "t=500*10**-9;      #thickness(m)\n",
    "f=400;            #focal length(cm)\n",
    "n1=0;\n",
    "n2=1;\n",
    "n3=2;\n",
    "n4=3;\n",
    "mew=1.33;          #refractive index\n",
    "\n",
    "#Calculation\n",
    "lamda1=4*mew*t/((2*n1)+1);     #wavelength in infrared region(m)\n",
    "lamda2=4*mew*t/((2*n2)+1);     #wavelength in infrared region(m)\n",
    "lamda3=4*mew*t/((2*n3)+1);     #wavelength in visible region(m)\n",
    "lamda4=4*mew*t/((2*n4)+1);     #wavelength in ultraviolet region(m)\n",
    "\n",
    "#Result\n",
    "print \"wavelength in infrared region is\",int(lamda1*10**10),\"*10**-10 m\"\n",
    "print \"wavelength in infrared region is\",round(lamda2*10**10,1),\"*10**-10 m\"\n",
    "print \"wavelength in visible region is\",int(lamda3*10**10),\"*10**-10 m\"\n",
    "print \"wavelength in ultraviolet region is\",int(lamda4*10**10),\"*10**-10 m\"\n",
    "print \"of all the wavelengths reflected,\",int(lamda3*10**10),\"angstrom is the wavelength in the visible region\""
   ]
  },
  {
   "cell_type": "markdown",
   "metadata": {},
   "source": [
    "## Example number 17, Page number 38"
   ]
  },
  {
   "cell_type": "code",
   "execution_count": 13,
   "metadata": {
    "collapsed": false
   },
   "outputs": [
    {
     "name": "stdout",
     "output_type": "stream",
     "text": [
      "order of interference is 6\n"
     ]
    }
   ],
   "source": [
    "#importing modules\n",
    "import math\n",
    "from __future__ import division\n",
    "\n",
    "#Variable declaration\n",
    "i=60*math.pi/180;       #angle of incidence(radian)\n",
    "mew=1.33;          #refractive index\n",
    "t=1.5*10**-6;      #thickness(m)\n",
    "lamda=5*10**-7;    #wavelength(m)\n",
    "\n",
    "#Calculation\n",
    "r=(180/math.pi)*math.asin(math.sin(i)/mew);     #angle of reflection(degrees)\n",
    "r=round(r,1)*math.pi/180;            #angle of reflection(degrees)\n",
    "n=2*mew*t*math.cos(r)/lamda;                    #order of interference\n",
    "\n",
    "#Result\n",
    "print \"order of interference is\",int(n)"
   ]
  },
  {
   "cell_type": "markdown",
   "metadata": {},
   "source": [
    "## Example number 18, Page number 38"
   ]
  },
  {
   "cell_type": "code",
   "execution_count": 82,
   "metadata": {
    "collapsed": false
   },
   "outputs": [
    {
     "name": "stdout",
     "output_type": "stream",
     "text": [
      "smallest thickness of the plate is 3927 angstrom\n"
     ]
    }
   ],
   "source": [
    "#importing modules\n",
    "import math\n",
    "from __future__ import division\n",
    "\n",
    "#Variable declaration\n",
    "mew=1.5;          #refractive index\n",
    "lamda=5890*10**-10;    #wavelength(m)\n",
    "r=60*math.pi/180;      #angle of reflection(radian)\n",
    "\n",
    "#Calculation\n",
    "t=lamda/(2*mew*math.cos(r));       #smallest thickness of the plate(m)\n",
    "\n",
    "#Result\n",
    "print \"smallest thickness of the plate is\",int(round(t*10**10)),\"angstrom\""
   ]
  },
  {
   "cell_type": "markdown",
   "metadata": {},
   "source": [
    "## Example number 19, Page number 39"
   ]
  },
  {
   "cell_type": "code",
   "execution_count": 85,
   "metadata": {
    "collapsed": false
   },
   "outputs": [
    {
     "name": "stdout",
     "output_type": "stream",
     "text": [
      "diameter of 20th dark ring is 0.906 cm\n"
     ]
    }
   ],
   "source": [
    "#importing modules\n",
    "import math\n",
    "from __future__ import division\n",
    "\n",
    "#Variable declaration\n",
    "D4=0.4;            #diameter of 4th ring(cm)\n",
    "D12=0.7;           #diameter of 12th ring(cm)\n",
    "p1=16;\n",
    "p2=8;      \n",
    "n=4;\n",
    "\n",
    "#Calculation\n",
    "x=n*p1/(n*p2);\n",
    "D20=math.sqrt((D4**2)+(x*((D12**2)-(D4**2))));      #diameter of 20th dark ring(cm)\n",
    "\n",
    "#Result\n",
    "print \"diameter of 20th dark ring is\",round(D20,3),\"cm\""
   ]
  },
  {
   "cell_type": "markdown",
   "metadata": {},
   "source": [
    "## Example number 20, Page number 39"
   ]
  },
  {
   "cell_type": "code",
   "execution_count": 89,
   "metadata": {
    "collapsed": false
   },
   "outputs": [
    {
     "name": "stdout",
     "output_type": "stream",
     "text": [
      "refractive index of the liquid is 1.215\n"
     ]
    }
   ],
   "source": [
    "#importing modules\n",
    "import math\n",
    "from __future__ import division\n",
    "\n",
    "#Variable declaration\n",
    "D10=1.4;           #diameter of 10th ring(cm)\n",
    "D10_dash=1.27;     #changed diameter of 10th ring(cm)\n",
    "\n",
    "#Calculation\n",
    "mew=(D10**2)/(D10_dash**2);      #refractive index of the liquid\n",
    "\n",
    "#Result\n",
    "print \"refractive index of the liquid is\",round(mew,3)"
   ]
  },
  {
   "cell_type": "markdown",
   "metadata": {},
   "source": [
    "## Example number 21, Page number 39"
   ]
  },
  {
   "cell_type": "code",
   "execution_count": 99,
   "metadata": {
    "collapsed": false
   },
   "outputs": [
    {
     "name": "stdout",
     "output_type": "stream",
     "text": [
      "wavelength of light used is 6.875 *10**-5 cm\n",
      "answer given in the book is wrong\n"
     ]
    }
   ],
   "source": [
    "#importing modules\n",
    "import math\n",
    "from __future__ import division\n",
    "\n",
    "#Variable declaration\n",
    "D25=0.8;       #diameter of 25th ring(cm)\n",
    "D5=0.3;        #diameter of 5th ring(cm)\n",
    "p=25-5;\n",
    "R=100;         #radius of curvature(cm)\n",
    "\n",
    "#Calculation\n",
    "Nr=(D25**2)-(D5**2);    #numerator\n",
    "Dr=4*p*R;               #denominator\n",
    "lamda=Nr/Dr;            #wavelength of light used(cm)\n",
    "\n",
    "#Result\n",
    "print \"wavelength of light used is\",lamda*10**5,\"*10**-5 cm\"\n",
    "print \"answer given in the book is wrong\""
   ]
  },
  {
   "cell_type": "markdown",
   "metadata": {},
   "source": [
    "## Example number 22, Page number 40"
   ]
  },
  {
   "cell_type": "code",
   "execution_count": 105,
   "metadata": {
    "collapsed": false
   },
   "outputs": [
    {
     "name": "stdout",
     "output_type": "stream",
     "text": [
      "total number of lines in the grating is 9539.3\n",
      "answer given in the book varies due to rounding off errors\n"
     ]
    }
   ],
   "source": [
    "#importing modules\n",
    "import math\n",
    "from __future__ import division\n",
    "\n",
    "#Variable declaration\n",
    "w=0.02;            #width(m)\n",
    "theta=(math.pi/180)*(18+(14/60));      #angle(radian)\n",
    "n=1;               \n",
    "lamda=6.56*10**-7;               #wavelength(m)\n",
    "\n",
    "#Calculation\n",
    "M=w*math.sin(theta)/(n*lamda);   #total number of lines in the grating \n",
    "\n",
    "#Result\n",
    "print \"total number of lines in the grating is\",round(M,1)\n",
    "print \"answer given in the book varies due to rounding off errors\""
   ]
  },
  {
   "cell_type": "markdown",
   "metadata": {},
   "source": [
    "## Example number 23, Page number 40"
   ]
  },
  {
   "cell_type": "code",
   "execution_count": 110,
   "metadata": {
    "collapsed": false
   },
   "outputs": [
    {
     "name": "stdout",
     "output_type": "stream",
     "text": [
      "required thickness of plate is 3927 angstrom\n"
     ]
    }
   ],
   "source": [
    "#importing modules\n",
    "import math\n",
    "from __future__ import division\n",
    "\n",
    "#Variable declaration\n",
    "lamda=5890*10**-10;               #wavelength(m)\n",
    "mew=1.5;                #refractive index\n",
    "r=60*math.pi/180;       #angle of reflection(radian)\n",
    "\n",
    "#Calculation\n",
    "t=lamda/(2*mew*math.cos(r));     #required thickness of plate(m)\n",
    "\n",
    "#Result\n",
    "print \"required thickness of plate is\",int(round(t*10**10)),\"angstrom\""
   ]
  },
  {
   "cell_type": "markdown",
   "metadata": {},
   "source": [
    "## Example number 24, Page number 40"
   ]
  },
  {
   "cell_type": "code",
   "execution_count": 115,
   "metadata": {
    "collapsed": false
   },
   "outputs": [
    {
     "name": "stdout",
     "output_type": "stream",
     "text": [
      "refractive index of liquid is 1.31\n"
     ]
    }
   ],
   "source": [
    "#importing modules\n",
    "import math\n",
    "from __future__ import division\n",
    "\n",
    "#Variable declaration\n",
    "R=1;                 #radius of curvature(m)\n",
    "n=5;\n",
    "lamda=5.895*10**-7;         #wavelength(m)\n",
    "dn=0.3*10**-2;             #diameter of ring(m)\n",
    "\n",
    "#Calculation\n",
    "mew=4*R*n*lamda/(dn**2);    #refractive index of liquid\n",
    "\n",
    "#Result\n",
    "print \"refractive index of liquid is\",mew"
   ]
  },
  {
   "cell_type": "markdown",
   "metadata": {},
   "source": [
    "## Example number 25, Page number 41"
   ]
  },
  {
   "cell_type": "code",
   "execution_count": 118,
   "metadata": {
    "collapsed": false
   },
   "outputs": [
    {
     "name": "stdout",
     "output_type": "stream",
     "text": [
      "value of slit width is 13000 angstrom\n"
     ]
    }
   ],
   "source": [
    "#importing modules\n",
    "import math\n",
    "from __future__ import division\n",
    "\n",
    "#Variable declaration\n",
    "lamda=6500;         #wavelength(m)\n",
    "theta=30*math.pi/180;      #angle(radian)\n",
    "\n",
    "#Calculation\n",
    "a=lamda/math.sin(theta);    #value of slit width(angstrom)\n",
    "\n",
    "#Result\n",
    "print \"value of slit width is\",int(a),\"angstrom\""
   ]
  },
  {
   "cell_type": "markdown",
   "metadata": {},
   "source": [
    "## Example number 27, Page number 41"
   ]
  },
  {
   "cell_type": "code",
   "execution_count": 120,
   "metadata": {
    "collapsed": false
   },
   "outputs": [
    {
     "name": "stdout",
     "output_type": "stream",
     "text": [
      "wavelength in infrared region is 26600 *10**-10 m\n",
      "wavelength in infrared region is 8866.7 *10**-10 m\n",
      "wavelength in visible region is 5320 *10**-10 m\n",
      "wavelength in ultraviolet region is 3800 *10**-10 m\n",
      "of all the wavelengths reflected, 5320 angstrom is the wavelength in the visible region\n"
     ]
    }
   ],
   "source": [
    "#importing modules\n",
    "import math\n",
    "from __future__ import division\n",
    "\n",
    "#Variable declaration\n",
    "t=500*10**-9;      #thickness(m)\n",
    "n1=0;\n",
    "n2=1;\n",
    "n3=2;\n",
    "n4=3;\n",
    "mew=1.33;          #refractive index\n",
    "\n",
    "#Calculation\n",
    "lamda1=4*mew*t/((2*n1)+1);     #wavelength in infrared region(m)\n",
    "lamda2=4*mew*t/((2*n2)+1);     #wavelength in infrared region(m)\n",
    "lamda3=4*mew*t/((2*n3)+1);     #wavelength in visible region(m)\n",
    "lamda4=4*mew*t/((2*n4)+1);     #wavelength in ultraviolet region(m)\n",
    "\n",
    "#Result\n",
    "print \"wavelength in infrared region is\",int(lamda1*10**10),\"*10**-10 m\"\n",
    "print \"wavelength in infrared region is\",round(lamda2*10**10,1),\"*10**-10 m\"\n",
    "print \"wavelength in visible region is\",int(lamda3*10**10),\"*10**-10 m\"\n",
    "print \"wavelength in ultraviolet region is\",int(lamda4*10**10),\"*10**-10 m\"\n",
    "print \"of all the wavelengths reflected,\",int(lamda3*10**10),\"angstrom is the wavelength in the visible region\""
   ]
  },
  {
   "cell_type": "markdown",
   "metadata": {},
   "source": [
    "## Example number 28, Page number 42"
   ]
  },
  {
   "cell_type": "code",
   "execution_count": 14,
   "metadata": {
    "collapsed": false
   },
   "outputs": [
    {
     "name": "stdout",
     "output_type": "stream",
     "text": [
      "order of interference is 6\n"
     ]
    }
   ],
   "source": [
    "#importing modules\n",
    "import math\n",
    "from __future__ import division\n",
    "\n",
    "#Variable declaration\n",
    "i=60*math.pi/180;       #angle of incidence(radian)\n",
    "mew=1.33;          #refractive index\n",
    "t=1.5*10**-6;      #thickness(m)\n",
    "lamda=5*10**-7;    #wavelength(m)\n",
    "\n",
    "#Calculation\n",
    "r=(180/math.pi)*math.asin(math.sin(i)/mew);     #angle of reflection(degrees)\n",
    "r=round(r,1)*math.pi/180;            #angle of reflection(degrees)\n",
    "n=2*mew*t*math.cos(r)/lamda;                    #order of interference\n",
    "\n",
    "#Result\n",
    "print \"order of interference is\",int(n)"
   ]
  },
  {
   "cell_type": "markdown",
   "metadata": {},
   "source": [
    "## Example number 29, Page number 42"
   ]
  },
  {
   "cell_type": "code",
   "execution_count": 121,
   "metadata": {
    "collapsed": false
   },
   "outputs": [
    {
     "name": "stdout",
     "output_type": "stream",
     "text": [
      "smallest thickness of the plate is 3927 angstrom\n"
     ]
    }
   ],
   "source": [
    "#importing modules\n",
    "import math\n",
    "from __future__ import division\n",
    "\n",
    "#Variable declaration\n",
    "mew=1.5;          #refractive index\n",
    "lamda=5890*10**-10;    #wavelength(m)\n",
    "r=60*math.pi/180;      #angle of reflection(radian)\n",
    "\n",
    "#Calculation\n",
    "t=lamda/(2*mew*math.cos(r));       #smallest thickness of the plate(m)\n",
    "\n",
    "#Result\n",
    "print \"smallest thickness of the plate is\",int(round(t*10**10)),\"angstrom\""
   ]
  },
  {
   "cell_type": "markdown",
   "metadata": {},
   "source": [
    "## Example number 30, Page number 43"
   ]
  },
  {
   "cell_type": "code",
   "execution_count": 124,
   "metadata": {
    "collapsed": false
   },
   "outputs": [
    {
     "name": "stdout",
     "output_type": "stream",
     "text": [
      "thickness of air film is 2.5 micro m\n"
     ]
    }
   ],
   "source": [
    "#importing modules\n",
    "import math\n",
    "from __future__ import division\n",
    "\n",
    "#Variable declaration\n",
    "Dn=2*10**-3;           #diameter of ring(m)\n",
    "n=10;\n",
    "lamda=500*10**-9;      #wavelength(m)\n",
    "\n",
    "#Calculation\n",
    "R=Dn**2/(4*n*lamda);     #radius(m)\n",
    "t=Dn**2/(8*R);           #thickness of air film(m)\n",
    "\n",
    "#Result\n",
    "print \"thickness of air film is\",t*10**6,\"micro m\""
   ]
  },
  {
   "cell_type": "markdown",
   "metadata": {},
   "source": [
    "## Example number 31, Page number 43"
   ]
  },
  {
   "cell_type": "code",
   "execution_count": 131,
   "metadata": {
    "collapsed": false
   },
   "outputs": [
    {
     "name": "stdout",
     "output_type": "stream",
     "text": [
      "wavelength of light is 588 nm\n"
     ]
    }
   ],
   "source": [
    "#importing modules\n",
    "import math\n",
    "from __future__ import division\n",
    "\n",
    "#Variable declaration\n",
    "D5=0.336*10**-2;       #diameter of 5th ring(m)\n",
    "D15=0.59*10**-2;       #diameter of 15th ring(m)\n",
    "m=10;\n",
    "R=1;      #radius of curvature(m)\n",
    "\n",
    "#Calculation\n",
    "lamda=((D15**2)-(D5**2))/(4*m*R);     #wavelength of light(m)\n",
    "\n",
    "#Result\n",
    "print \"wavelength of light is\",int(lamda*10**9),\"nm\""
   ]
  },
  {
   "cell_type": "markdown",
   "metadata": {},
   "source": [
    "## Example number 32, Page number 43"
   ]
  },
  {
   "cell_type": "code",
   "execution_count": 135,
   "metadata": {
    "collapsed": false
   },
   "outputs": [
    {
     "name": "stdout",
     "output_type": "stream",
     "text": [
      "radius of curvature of lens is 1.059 m\n"
     ]
    }
   ],
   "source": [
    "#importing modules\n",
    "import math\n",
    "from __future__ import division\n",
    "\n",
    "#Variable declaration\n",
    "D10=0.5*10**-2;       #diameter of 10th ring(m)\n",
    "n=10;\n",
    "lamda=5900*10**-10;   #wavelength(m)\n",
    "\n",
    "#Calculation\n",
    "R=D10**2/(4*n*lamda);      #radius of curvature of lens(m)\n",
    "\n",
    "#Result\n",
    "print \"radius of curvature of lens is\",round(R,3),\"m\""
   ]
  },
  {
   "cell_type": "markdown",
   "metadata": {},
   "source": [
    "## Example number 33, Page number 44"
   ]
  },
  {
   "cell_type": "code",
   "execution_count": 138,
   "metadata": {
    "collapsed": false
   },
   "outputs": [
    {
     "name": "stdout",
     "output_type": "stream",
     "text": [
      "refractive index of liquid is 1.31\n"
     ]
    }
   ],
   "source": [
    "#importing modules\n",
    "import math\n",
    "from __future__ import division\n",
    "\n",
    "#Variable declaration\n",
    "Dn=0.3*10**-2;       #diameter of 10th ring(m)\n",
    "R=1;                 #radius of curvature(m)\n",
    "n=5;\n",
    "lamda=5.895*10**-7;   #wavelength(m)\n",
    "\n",
    "#Calculation\n",
    "mew=4*R*n*lamda/Dn**2;      #refractive index of liquid\n",
    "\n",
    "#Result\n",
    "print \"refractive index of liquid is\",mew"
   ]
  },
  {
   "cell_type": "markdown",
   "metadata": {},
   "source": [
    "## Example number 34, Page number 44"
   ]
  },
  {
   "cell_type": "code",
   "execution_count": 139,
   "metadata": {
    "collapsed": false
   },
   "outputs": [
    {
     "name": "stdout",
     "output_type": "stream",
     "text": [
      "refractive index of the liquid is 1.215\n"
     ]
    }
   ],
   "source": [
    "#importing modules\n",
    "import math\n",
    "from __future__ import division\n",
    "\n",
    "#Variable declaration\n",
    "D10=1.4;           #diameter of 10th ring(cm)\n",
    "D10_dash=1.27;     #changed diameter of 10th ring(cm)\n",
    "\n",
    "#Calculation\n",
    "mew=(D10**2)/(D10_dash**2);      #refractive index of the liquid\n",
    "\n",
    "#Result\n",
    "print \"refractive index of the liquid is\",round(mew,3)"
   ]
  },
  {
   "cell_type": "markdown",
   "metadata": {},
   "source": [
    "## Example number 35, Page number 45"
   ]
  },
  {
   "cell_type": "code",
   "execution_count": 144,
   "metadata": {
    "collapsed": false
   },
   "outputs": [
    {
     "name": "stdout",
     "output_type": "stream",
     "text": [
      "intensity ratio is 9 : 4\n"
     ]
    }
   ],
   "source": [
    "#importing modules\n",
    "import math\n",
    "from __future__ import division\n",
    "\n",
    "#Variable declaration\n",
    "I1=1;\n",
    "I2=25;      #intensity ratio\n",
    "\n",
    "#Calculation\n",
    "A1=math.sqrt(I1);\n",
    "A2=math.sqrt(I2);        \n",
    "Imax=(A1+A2)**2;\n",
    "Imin=(A2-A1)**2;     #intensity ratio\n",
    "Imax=Imax/4;\n",
    "Imin=Imin/4;         #dividing by a common factor to get the least ratio\n",
    "\n",
    "#Result\n",
    "print \"intensity ratio is\",int(Imax),\":\",int(Imin)"
   ]
  },
  {
   "cell_type": "markdown",
   "metadata": {},
   "source": [
    "## Example number 36, Page number 45"
   ]
  },
  {
   "cell_type": "code",
   "execution_count": 148,
   "metadata": {
    "collapsed": false
   },
   "outputs": [
    {
     "name": "stdout",
     "output_type": "stream",
     "text": [
      "order is 28\n"
     ]
    }
   ],
   "source": [
    "#importing modules\n",
    "import math\n",
    "from __future__ import division\n",
    "\n",
    "#Variable declaration\n",
    "lamda1=6*10**-5;     #wavelength(cm)\n",
    "lamda2=4.5*10**-5;      #wavelength(cm)\n",
    "n1=21;\n",
    "\n",
    "#Calculation\n",
    "n2=n1*lamda1/lamda2;     #order\n",
    "\n",
    "#Result\n",
    "print \"order is\",int(n2)"
   ]
  },
  {
   "cell_type": "markdown",
   "metadata": {},
   "source": [
    "## Example number 37, Page number 46"
   ]
  },
  {
   "cell_type": "code",
   "execution_count": 17,
   "metadata": {
    "collapsed": false
   },
   "outputs": [
    {
     "name": "stdout",
     "output_type": "stream",
     "text": [
      "slit separation is 1.02 m\n"
     ]
    }
   ],
   "source": [
    "#importing modules\n",
    "import math\n",
    "from __future__ import division\n",
    "\n",
    "#Variable declaration\n",
    "lamda=51*10**-6;       #wavelength(cm)\n",
    "D=200;            #separation between screen and slit(cm)\n",
    "beta=1;           #fringe width(cm)\n",
    "n=10;\n",
    "\n",
    "#Calculation\n",
    "d=lamda*D/beta;      #slit separation(cm)\n",
    "\n",
    "#Result\n",
    "print \"slit separation is\",d*100,\"m\""
   ]
  },
  {
   "cell_type": "markdown",
   "metadata": {},
   "source": [
    "## Example number 38, Page number 46"
   ]
  },
  {
   "cell_type": "code",
   "execution_count": 155,
   "metadata": {
    "collapsed": false
   },
   "outputs": [
    {
     "name": "stdout",
     "output_type": "stream",
     "text": [
      "thickness of mica sheet is 6.897 *10**-4 cm\n"
     ]
    }
   ],
   "source": [
    "#importing modules\n",
    "import math\n",
    "from __future__ import division\n",
    "\n",
    "#Variable declaration\n",
    "D=50;            #separation between screen and slit(cm)\n",
    "x=0.2;           #fringe shift(cm)\n",
    "d=0.1;           #separation between slits(cm)\n",
    "mew=1.58;        #refractive index\n",
    "\n",
    "#Calculation\n",
    "tow=x*d/(D*(mew-1));     #thickness of mica sheet(cm)\n",
    "\n",
    "#Result\n",
    "print \"thickness of mica sheet is\",round(tow*10**4,3),\"*10**-4 cm\""
   ]
  },
  {
   "cell_type": "markdown",
   "metadata": {},
   "source": [
    "## Example number 39, Page number 47"
   ]
  },
  {
   "cell_type": "code",
   "execution_count": 161,
   "metadata": {
    "collapsed": false
   },
   "outputs": [
    {
     "name": "stdout",
     "output_type": "stream",
     "text": [
      "fringe width is 0.05 cm\n"
     ]
    }
   ],
   "source": [
    "#importing modules\n",
    "import math\n",
    "from __future__ import division\n",
    "\n",
    "#Variable declaration\n",
    "lamda=5000*10**-8;     #wavelength(cm)\n",
    "D=50;             #separation between screen and slit(cm)\n",
    "d=0.05;           #separation between slits(cm)\n",
    "\n",
    "#Calculation\n",
    "beta=lamda*D/d;      #fringe width(cm)\n",
    "\n",
    "#Result\n",
    "print \"fringe width is\",beta,\"cm\""
   ]
  },
  {
   "cell_type": "markdown",
   "metadata": {},
   "source": [
    "## Example number 40, Page number 47"
   ]
  },
  {
   "cell_type": "code",
   "execution_count": 175,
   "metadata": {
    "collapsed": false
   },
   "outputs": [
    {
     "name": "stdout",
     "output_type": "stream",
     "text": [
      "wavelength is 6700 angstrom\n"
     ]
    }
   ],
   "source": [
    "#importing modules\n",
    "import math\n",
    "from __future__ import division\n",
    "\n",
    "#Variable declaration\n",
    "D=180;             #separation between screen and slit(cm)\n",
    "d=0.04;            #separation between slits(cm)\n",
    "beta=0.3;          #fringe width(cm)\n",
    "\n",
    "#Calculation\n",
    "lamda=round(beta*d*10**4/D,2);      #wavelength(cm)\n",
    "\n",
    "#Result\n",
    "print \"wavelength is\",int(lamda*10**4),\"angstrom\""
   ]
  },
  {
   "cell_type": "markdown",
   "metadata": {},
   "source": [
    "## Example number 41, Page number 47"
   ]
  },
  {
   "cell_type": "code",
   "execution_count": 181,
   "metadata": {
    "collapsed": false
   },
   "outputs": [
    {
     "name": "stdout",
     "output_type": "stream",
     "text": [
      "wavelength is 5000 angstrom\n"
     ]
    }
   ],
   "source": [
    "#importing modules\n",
    "import math\n",
    "from __future__ import division\n",
    "\n",
    "#Variable declaration\n",
    "D=80;             #separation between screen and slit(cm)\n",
    "d=0.1;            #separation between slits(cm)\n",
    "beta=0.04;         #fringe width(cm)\n",
    "\n",
    "#Calculation\n",
    "lamda=beta*d/D;      #wavelength(cm)\n",
    "\n",
    "#Result\n",
    "print \"wavelength is\",int(lamda*10**8),\"angstrom\""
   ]
  },
  {
   "cell_type": "markdown",
   "metadata": {},
   "source": [
    "## Example number 42, Page number 48"
   ]
  },
  {
   "cell_type": "code",
   "execution_count": 182,
   "metadata": {
    "collapsed": false
   },
   "outputs": [
    {
     "name": "stdout",
     "output_type": "stream",
     "text": [
      "fringe width is 0.05 cm\n"
     ]
    }
   ],
   "source": [
    "#importing modules\n",
    "import math\n",
    "from __future__ import division\n",
    "\n",
    "#Variable declaration\n",
    "lamda=5000*10**-8;     #wavelength(cm)\n",
    "D=50;             #separation between screen and slit(cm)\n",
    "d=0.05;           #separation between slits(cm)\n",
    "\n",
    "#Calculation\n",
    "beta=lamda*D/d;      #fringe width(cm)\n",
    "\n",
    "#Result\n",
    "print \"fringe width is\",beta,\"cm\""
   ]
  },
  {
   "cell_type": "markdown",
   "metadata": {},
   "source": [
    "## Example number 43, Page number 48"
   ]
  },
  {
   "cell_type": "code",
   "execution_count": 185,
   "metadata": {
    "collapsed": false
   },
   "outputs": [
    {
     "name": "stdout",
     "output_type": "stream",
     "text": [
      "thickness of soap film is 6.5789 *10**-5 cm\n"
     ]
    }
   ],
   "source": [
    "#importing modules\n",
    "import math\n",
    "from __future__ import division\n",
    "\n",
    "#Variable declaration\n",
    "lamda=7*10**-5;     #wavelength(cm)\n",
    "n=2;\n",
    "mew=1.33;           #refractive index\n",
    "\n",
    "#Calculation\n",
    "t=(((2*n)+1)*lamda/2)/(2*mew);     #thickness of soap film(cm)\n",
    "\n",
    "#Result\n",
    "print \"thickness of soap film is\",round(t*10**5,4),\"*10**-5 cm\""
   ]
  },
  {
   "cell_type": "markdown",
   "metadata": {},
   "source": [
    "## Example number 44, Page number 49"
   ]
  },
  {
   "cell_type": "code",
   "execution_count": 186,
   "metadata": {
    "collapsed": false
   },
   "outputs": [
    {
     "name": "stdout",
     "output_type": "stream",
     "text": [
      "refractive index is 1.52\n"
     ]
    }
   ],
   "source": [
    "#importing modules\n",
    "import math\n",
    "from __future__ import division\n",
    "\n",
    "#Variable declaration\n",
    "lamda=5460*10**-8;     #wavelength(cm)\n",
    "t=6.3*10**-4;          #thickness(cm)\n",
    "n=6;\n",
    "\n",
    "#Calculation\n",
    "mew=(n*lamda/t)+1;     #refractive index\n",
    "\n",
    "#Result\n",
    "print \"refractive index is\",mew"
   ]
  },
  {
   "cell_type": "markdown",
   "metadata": {},
   "source": [
    "## Example number 45, Page number 49"
   ]
  },
  {
   "cell_type": "code",
   "execution_count": 189,
   "metadata": {
    "collapsed": false
   },
   "outputs": [
    {
     "name": "stdout",
     "output_type": "stream",
     "text": [
      "thickness is 14.3 *10**-4 cm\n"
     ]
    }
   ],
   "source": [
    "#importing modules\n",
    "import math\n",
    "from __future__ import division\n",
    "\n",
    "#Variable declaration\n",
    "lamda=5000*10**-8;     #wavelength(cm)\n",
    "n=16;\n",
    "mew=1.56;     #refractive index\n",
    "\n",
    "#Calculation\n",
    "t=n*lamda/(mew-1);          #thickness(cm)\n",
    "\n",
    "#Result\n",
    "print \"thickness is\",round(t*10**4,1),\"*10**-4 cm\""
   ]
  },
  {
   "cell_type": "markdown",
   "metadata": {},
   "source": [
    "## Example number 46, Page number 50"
   ]
  },
  {
   "cell_type": "code",
   "execution_count": 192,
   "metadata": {
    "collapsed": false
   },
   "outputs": [
    {
     "name": "stdout",
     "output_type": "stream",
     "text": [
      "least thickness of glass plate is 3.11 *10**-5 cm\n"
     ]
    }
   ],
   "source": [
    "#importing modules\n",
    "import math\n",
    "from __future__ import division\n",
    "\n",
    "#Variable declaration\n",
    "lamda=6000*10**-8;     #wavelength(cm)\n",
    "n=1;\n",
    "mew=1.5;     #refractive index\n",
    "r=50*math.pi/180;    #angle of refraction(radian)\n",
    "\n",
    "#Calculation\n",
    "t=n*lamda/(2*mew*math.cos(r));          #least thickness of glass plate(cm)\n",
    "\n",
    "#Result\n",
    "print \"least thickness of glass plate is\",round(t*10**5,2),\"*10**-5 cm\""
   ]
  },
  {
   "cell_type": "markdown",
   "metadata": {},
   "source": [
    "## Example number 47, Page number 50"
   ]
  },
  {
   "cell_type": "code",
   "execution_count": 196,
   "metadata": {
    "collapsed": false
   },
   "outputs": [
    {
     "name": "stdout",
     "output_type": "stream",
     "text": [
      "least thickness of glass plate is 6 *10**-4 cm\n"
     ]
    }
   ],
   "source": [
    "#importing modules\n",
    "import math\n",
    "from __future__ import division\n",
    "\n",
    "#Variable declaration\n",
    "lamda=5000*10**-8;     #wavelength(cm)\n",
    "mew=1.5;     #refractive index\n",
    "beta=1;      #assume\n",
    "S=6*beta;\n",
    "\n",
    "#Calculation\n",
    "t=S*lamda/(beta*(mew-1));          #least thickness of glass plate(cm)\n",
    "\n",
    "#Result\n",
    "print \"least thickness of glass plate is\",int(t*10**4),\"*10**-4 cm\""
   ]
  },
  {
   "cell_type": "markdown",
   "metadata": {},
   "source": [
    "## Example number 48, Page number 51"
   ]
  },
  {
   "cell_type": "code",
   "execution_count": 199,
   "metadata": {
    "collapsed": false
   },
   "outputs": [
    {
     "name": "stdout",
     "output_type": "stream",
     "text": [
      "refractive index of liquid is 1.29\n"
     ]
    }
   ],
   "source": [
    "#importing modules\n",
    "import math\n",
    "from __future__ import division\n",
    "\n",
    "#Variable declaration\n",
    "D8=1.42;     #diameter of 8th ring(cm)\n",
    "D8dash=1.25;     #changed diameter of 8th ring(cm)\n",
    "\n",
    "#Calculation\n",
    "mew=D8**2/D8dash**2;     #refractive index of liquid\n",
    "\n",
    "#Result\n",
    "print \"refractive index of liquid is\",round(mew,2)"
   ]
  },
  {
   "cell_type": "markdown",
   "metadata": {},
   "source": [
    "## Example number 49, Page number 51"
   ]
  },
  {
   "cell_type": "code",
   "execution_count": 206,
   "metadata": {
    "collapsed": false
   },
   "outputs": [
    {
     "name": "stdout",
     "output_type": "stream",
     "text": [
      "thickness of thinnest film is 2.2556 *10**-5 cm\n",
      "answer given in the book is wrong\n"
     ]
    }
   ],
   "source": [
    "#importing modules\n",
    "import math\n",
    "from __future__ import division\n",
    "\n",
    "#Variable declaration\n",
    "lamda=6000*10**-8;     #wavelength(cm)\n",
    "n=1;\n",
    "mew=1.33;     #refractive index\n",
    "r=0*math.pi/180;    #angle of incidence(radian)\n",
    "\n",
    "#Calculation\n",
    "t=n*lamda/(2*mew*math.cos(r));          #thickness of thinnest film(cm)\n",
    "\n",
    "#Result\n",
    "print \"thickness of thinnest film is\",round(t*10**5,4),\"*10**-5 cm\"\n",
    "print \"answer given in the book is wrong\""
   ]
  },
  {
   "cell_type": "markdown",
   "metadata": {},
   "source": [
    "## Example number 50, Page number 51"
   ]
  },
  {
   "cell_type": "code",
   "execution_count": 23,
   "metadata": {
    "collapsed": false
   },
   "outputs": [
    {
     "name": "stdout",
     "output_type": "stream",
     "text": [
      "radius of curvature of lens is 1250 cm\n",
      "answer given in the book is wrong\n"
     ]
    }
   ],
   "source": [
    "#importing modules\n",
    "import math\n",
    "from __future__ import division\n",
    "\n",
    "#Variable declaration\n",
    "lamda=6000*10**-8;     #wavelength(cm)\n",
    "Dm=0.65;     #diameter of 8th ring(cm)\n",
    "Dn=0.35;     #changed diameter of 8th ring(cm)\n",
    "\n",
    "#Calculation\n",
    "R=(Dm**2-Dn**2)/(4*lamda);     #radius of curvature of lens(cm)\n",
    "\n",
    "#Result\n",
    "print \"radius of curvature of lens is\",int(R),\"cm\"\n",
    "print \"answer given in the book is wrong\""
   ]
  },
  {
   "cell_type": "markdown",
   "metadata": {},
   "source": [
    "## Example number 51, Page number 52"
   ]
  },
  {
   "cell_type": "code",
   "execution_count": 25,
   "metadata": {
    "collapsed": false
   },
   "outputs": [
    {
     "name": "stdout",
     "output_type": "stream",
     "text": [
      "refractive index of liquid is 1.3456\n"
     ]
    }
   ],
   "source": [
    "#importing modules\n",
    "import math\n",
    "from __future__ import division\n",
    "\n",
    "#Variable declaration\n",
    "Da=1.45;     #diameter of 12th ring in air medium(cm)\n",
    "Dl=1.25;     #diameter of 12th ring in liquid(cm)\n",
    "\n",
    "#Calculation\n",
    "mew=Da**2/Dl**2;    #refractive index of liquid\n",
    "\n",
    "#Result\n",
    "print \"refractive index of liquid is\",mew"
   ]
  },
  {
   "cell_type": "markdown",
   "metadata": {},
   "source": [
    "## Example number 52, Page number 52"
   ]
  },
  {
   "cell_type": "code",
   "execution_count": 27,
   "metadata": {
    "collapsed": false
   },
   "outputs": [
    {
     "name": "stdout",
     "output_type": "stream",
     "text": [
      "diameter of 25th ring is 0.824 cm\n"
     ]
    }
   ],
   "source": [
    "#importing modules\n",
    "import math\n",
    "from __future__ import division\n",
    "\n",
    "#Variable declaration\n",
    "m1=15;\n",
    "n=5;\n",
    "m2=25;\n",
    "D15=0.62;     #diameter of 15th ring(cm)\n",
    "D5=0.3;       #diameter of 5th ring(cm)\n",
    "\n",
    "#Calculation\n",
    "x=D15**2-D5**2;\n",
    "y=m1-n;\n",
    "z=m2-n;\n",
    "r=4*z/(4*y);     \n",
    "D25=math.sqrt((r*x)+(D5**2));     #diameter of 25th ring(cm)\n",
    "\n",
    "#Result\n",
    "print \"diameter of 25th ring is\",round(D25,3),\"cm\""
   ]
  },
  {
   "cell_type": "markdown",
   "metadata": {},
   "source": [
    "## Example number 53, Page number 53"
   ]
  },
  {
   "cell_type": "code",
   "execution_count": 31,
   "metadata": {
    "collapsed": false
   },
   "outputs": [
    {
     "name": "stdout",
     "output_type": "stream",
     "text": [
      "radius of curvature of lens is 107.8 cm\n"
     ]
    }
   ],
   "source": [
    "#importing modules\n",
    "import math\n",
    "from __future__ import division\n",
    "\n",
    "#Variable declaration\n",
    "lamda=5890*10**-8;     #wavelength(cm)\n",
    "Dm=0.590;     #diameter of 8th ring(cm)\n",
    "Dn=0.336;     #changed diameter of 8th ring(cm)\n",
    "m=15;\n",
    "n=5;\n",
    "\n",
    "#Calculation\n",
    "R=(Dm-Dn)/(4*lamda*(m-n));     #radius of curvature of lens(cm)\n",
    "\n",
    "#Result\n",
    "print \"radius of curvature of lens is\",round(R,1),\"cm\""
   ]
  },
  {
   "cell_type": "markdown",
   "metadata": {},
   "source": [
    "## Example number 54, Page number 53"
   ]
  },
  {
   "cell_type": "code",
   "execution_count": 34,
   "metadata": {
    "collapsed": false
   },
   "outputs": [
    {
     "name": "stdout",
     "output_type": "stream",
     "text": [
      "wavelength of light is 6.696 *10**-5 cm\n",
      "answer given in the book varies due to rounding off errors\n"
     ]
    }
   ],
   "source": [
    "#importing modules\n",
    "import math\n",
    "from __future__ import division\n",
    "\n",
    "#Variable declaration\n",
    "R=70;               #radius of curvature of lens(cm)\n",
    "n=10;\n",
    "Dn=0.433;           #diameter of 10th dark ring(cm)\n",
    "\n",
    "#Calculation\n",
    "lamda=Dn**2/(4*R*n);     #wavelength of light(cm)\n",
    "\n",
    "#Result\n",
    "print \"wavelength of light is\",round(lamda*10**5,3),\"*10**-5 cm\"\n",
    "print \"answer given in the book varies due to rounding off errors\""
   ]
  }
 ],
 "metadata": {
  "kernelspec": {
   "display_name": "Python 2",
   "language": "python",
   "name": "python2"
  },
  "language_info": {
   "codemirror_mode": {
    "name": "ipython",
    "version": 2
   },
   "file_extension": ".py",
   "mimetype": "text/x-python",
   "name": "python",
   "nbconvert_exporter": "python",
   "pygments_lexer": "ipython2",
   "version": "2.7.11"
  }
 },
 "nbformat": 4,
 "nbformat_minor": 0
}
