{
 "cells": [
  {
   "cell_type": "markdown",
   "metadata": {},
   "source": [
    "# 4: Laser"
   ]
  },
  {
   "cell_type": "markdown",
   "metadata": {},
   "source": [
    "## Example number 1, Page number 136"
   ]
  },
  {
   "cell_type": "code",
   "execution_count": 4,
   "metadata": {
    "collapsed": false
   },
   "outputs": [
    {
     "name": "stdout",
     "output_type": "stream",
     "text": [
      "relative population is 1.081 *10**30\n",
      "answer given in the book is wrong\n"
     ]
    }
   ],
   "source": [
    "#importing modules\n",
    "import math\n",
    "from __future__ import division\n",
    "\n",
    "#Variable declaration\n",
    "c=3*10**8;               #velocity of light(m/sec)\n",
    "lamda=6943*10**-10;      #wavelength(m)\n",
    "h=6.626*10**-34;         #planck's constant(Jsec)\n",
    "Kb=1.38*10**-23;         #boltzmann constant\n",
    "T=300;                   #temperature(K)\n",
    "\n",
    "#Calculation\n",
    "new=c/lamda;          #frequency(Hz)\n",
    "a=h*new/(Kb*T);\n",
    "N1byN2=math.exp(a);   #relative population\n",
    "\n",
    "#Result\n",
    "print \"relative population is\",round(N1byN2/10**30,3),\"*10**30\"\n",
    "print \"answer given in the book is wrong\""
   ]
  },
  {
   "cell_type": "markdown",
   "metadata": {},
   "source": [
    "## Example number 2, Page number 137"
   ]
  },
  {
   "cell_type": "code",
   "execution_count": 6,
   "metadata": {
    "collapsed": false
   },
   "outputs": [
    {
     "name": "stdout",
     "output_type": "stream",
     "text": [
      "number of photons emitted is 7.32 *10**15 photons/second\n",
      "power density is 2.3 kW/m**2\n"
     ]
    }
   ],
   "source": [
    "#importing modules\n",
    "import math\n",
    "from __future__ import division\n",
    "\n",
    "#Variable declaration\n",
    "c=3*10**8;               #velocity of light(m/sec)\n",
    "lamda=632.8*10**-9;      #wavelength(m)\n",
    "h=6.626*10**-34;         #planck's constant(Jsec)\n",
    "t=1;                     #time(sec)\n",
    "P=2.3*10**-3;            #power(W)\n",
    "sa=1*10**-6;             #spot area(m**2)\n",
    "\n",
    "#Calculation\n",
    "new=c/lamda;             #frequency(Hz)\n",
    "n=P*t/(h*new);           #number of photons emitted(per sec) \n",
    "Pd=P/sa;                 #power density(kW/m**2)\n",
    "\n",
    "#Result\n",
    "print \"number of photons emitted is\",round(n/10**15,2),\"*10**15 photons/second\"\n",
    "print \"power density is\",Pd/10**3,\"kW/m**2\""
   ]
  },
  {
   "cell_type": "markdown",
   "metadata": {},
   "source": [
    "## Example number 3, Page number 137"
   ]
  },
  {
   "cell_type": "code",
   "execution_count": 11,
   "metadata": {
    "collapsed": false
   },
   "outputs": [
    {
     "name": "stdout",
     "output_type": "stream",
     "text": [
      "wavelength is 8628 angstrom\n"
     ]
    }
   ],
   "source": [
    "#importing modules\n",
    "import math\n",
    "from __future__ import division\n",
    "\n",
    "#Variable declaration\n",
    "c=3*10**8;               #velocity of light(m/sec)\n",
    "e=1.6*10**-19;           #charge of electron(coulomb)\n",
    "Eg=1.44*e;               #band gap energy(J)\n",
    "h=6.626*10**-34;         #planck's constant(Jsec)\n",
    "\n",
    "#Calculation\n",
    "lamda=h*c/Eg;            #wavelength(m)\n",
    "\n",
    "#Result\n",
    "print \"wavelength is\",int(round(lamda*10**10)),\"angstrom\""
   ]
  },
  {
   "cell_type": "markdown",
   "metadata": {},
   "source": [
    "## Example number 4, Page number 137"
   ]
  },
  {
   "cell_type": "code",
   "execution_count": 13,
   "metadata": {
    "collapsed": false
   },
   "outputs": [
    {
     "name": "stdout",
     "output_type": "stream",
     "text": [
      "band gap is 0.8 eV\n"
     ]
    }
   ],
   "source": [
    "#importing modules\n",
    "import math\n",
    "from __future__ import division\n",
    "\n",
    "#Variable declaration\n",
    "lamda=1.55;              #peak emission wavelength(micro m) \n",
    "\n",
    "#Calculation\n",
    "Eg=1.24/lamda;           #band gap(eV)\n",
    "\n",
    "#Result\n",
    "print \"band gap is\",Eg,\"eV\""
   ]
  },
  {
   "cell_type": "markdown",
   "metadata": {},
   "source": [
    "## Example number 5, Page number 137"
   ]
  },
  {
   "cell_type": "code",
   "execution_count": 26,
   "metadata": {
    "collapsed": false
   },
   "outputs": [
    {
     "name": "stdout",
     "output_type": "stream",
     "text": [
      "relative population of 2 states is 8 *10**29\n",
      "answer given in the book is wrong\n"
     ]
    }
   ],
   "source": [
    "#importing modules\n",
    "import math\n",
    "from __future__ import division\n",
    "\n",
    "#Variable declaration\n",
    "c=3*10**8;               #velocity of light(m/sec)\n",
    "e=1.6*10**-19;           #charge of electron(coulomb)\n",
    "lamda=6943*10**-10;      #wavelength(m)\n",
    "h=6.6*10**-34;           #planck's constant(Jsec)\n",
    "kb=1.38*10**-23;         #boltzmann constant\n",
    "T=300;                   #temperature(K)      \n",
    "\n",
    "#Calculation\n",
    "Uv=h*c/(e*lamda);        #energy(eV)\n",
    "Uvj=Uv*e;                #energy(J)\n",
    "x=Uvj/(kb*T);\n",
    "NbyN0=math.exp(x);       #relative population of 2 states\n",
    "\n",
    "#Result\n",
    "print \"relative population of 2 states is\",int(NbyN0*10**-29),\"*10**29\"\n",
    "print \"answer given in the book is wrong\""
   ]
  },
  {
   "cell_type": "markdown",
   "metadata": {},
   "source": [
    "## Example number 6, Page number 138"
   ]
  },
  {
   "cell_type": "code",
   "execution_count": 28,
   "metadata": {
    "collapsed": false
   },
   "outputs": [
    {
     "name": "stdout",
     "output_type": "stream",
     "text": [
      "ratio of emission is 3.1 *10**-13\n"
     ]
    }
   ],
   "source": [
    "#importing modules\n",
    "import math\n",
    "from __future__ import division\n",
    "\n",
    "#Variable declaration\n",
    "c=2.998*10**8;               #velocity of light(m/sec)\n",
    "lamda=0.5*10**-9;            #wavelength(m)\n",
    "h=6.626*10**-34;             #planck's constant(Jsec)\n",
    "Kb=1.381*10**-23;            #boltzmann constant\n",
    "T=1000;                      #temperature(K)\n",
    "\n",
    "#Calculation\n",
    "new=c/lamda;                 #operating frequency(Hz)\n",
    "new=new/10**3;               #operating frequency(kHz)\n",
    "new=round(new/10**14)*10**14;\n",
    "x=h*new/(Kb*T);\n",
    "B21byA21=1/(math.exp(x)-1);  #ratio of emission  \n",
    "\n",
    "#Result\n",
    "print \"ratio of emission is\",round(B21byA21*10**13,1),\"*10**-13\""
   ]
  }
 ],
 "metadata": {
  "kernelspec": {
   "display_name": "Python 2",
   "language": "python",
   "name": "python2"
  },
  "language_info": {
   "codemirror_mode": {
    "name": "ipython",
    "version": 2
   },
   "file_extension": ".py",
   "mimetype": "text/x-python",
   "name": "python",
   "nbconvert_exporter": "python",
   "pygments_lexer": "ipython2",
   "version": "2.7.11"
  }
 },
 "nbformat": 4,
 "nbformat_minor": 0
}
