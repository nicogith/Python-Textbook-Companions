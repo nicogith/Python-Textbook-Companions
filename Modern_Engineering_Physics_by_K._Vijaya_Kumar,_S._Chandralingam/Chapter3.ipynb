{
 "cells": [
  {
   "cell_type": "markdown",
   "metadata": {},
   "source": [
    "# 3: Polarization"
   ]
  },
  {
   "cell_type": "markdown",
   "metadata": {},
   "source": [
    "## Example number 1, Page number 97"
   ]
  },
  {
   "cell_type": "code",
   "execution_count": 4,
   "metadata": {
    "collapsed": false
   },
   "outputs": [
    {
     "name": "stdout",
     "output_type": "stream",
     "text": [
      "thickness of quartz half wave plate is 0.0278 mm\n"
     ]
    }
   ],
   "source": [
    "#importing modules\n",
    "import math\n",
    "from __future__ import division\n",
    "\n",
    "#Variable declaration\n",
    "lamda=500*10**-9;      #wavelength(m)\n",
    "mewe=1.553;            #refractive index of e-ray\n",
    "mew0=1.544;            #refractive index of o-ray\n",
    "\n",
    "#Calculation\n",
    "t=lamda/(2*(mewe-mew0));     #thickness of quartz half wave plate(m)\n",
    "\n",
    "#Result\n",
    "print \"thickness of quartz half wave plate is\",round(t/10**-3,4),\"mm\""
   ]
  },
  {
   "cell_type": "markdown",
   "metadata": {},
   "source": [
    "## Example number 2, Page number 98"
   ]
  },
  {
   "cell_type": "code",
   "execution_count": 5,
   "metadata": {
    "collapsed": false
   },
   "outputs": [
    {
     "name": "stdout",
     "output_type": "stream",
     "text": [
      "thickness of quartz half wave plate is 0.0164 mm\n"
     ]
    }
   ],
   "source": [
    "#importing modules\n",
    "import math\n",
    "from __future__ import division\n",
    "\n",
    "#Variable declaration\n",
    "lamda=589*10**-9;      #wavelength(m)\n",
    "mewe=1.553;            #refractive index of e-ray\n",
    "mew0=1.544;            #refractive index of o-ray\n",
    "\n",
    "#Calculation\n",
    "t=lamda/(4*(mewe-mew0));     #thickness of quartz half wave plate(m)\n",
    "\n",
    "#Result\n",
    "print \"thickness of quartz half wave plate is\",round(t/10**-3,4),\"mm\""
   ]
  },
  {
   "cell_type": "markdown",
   "metadata": {},
   "source": [
    "## Example number 3, Page number 98"
   ]
  },
  {
   "cell_type": "code",
   "execution_count": 6,
   "metadata": {
    "collapsed": false
   },
   "outputs": [
    {
     "name": "stdout",
     "output_type": "stream",
     "text": [
      "thickness of quartz half wave plate is 0.0165 mm\n"
     ]
    }
   ],
   "source": [
    "#importing modules\n",
    "import math\n",
    "from __future__ import division\n",
    "\n",
    "#Variable declaration\n",
    "lamda=600*10**-9;      #wavelength(m)\n",
    "mewe=1.5533;            #refractive index of e-ray\n",
    "mew0=1.5442;            #refractive index of o-ray\n",
    "\n",
    "#Calculation\n",
    "t=lamda/(4*(mewe-mew0));     #thickness of quartz half wave plate(m)\n",
    "\n",
    "#Result\n",
    "print \"thickness of quartz half wave plate is\",round(t/10**-3,4),\"mm\""
   ]
  },
  {
   "cell_type": "markdown",
   "metadata": {},
   "source": [
    "## Example number 4, Page number 98"
   ]
  },
  {
   "cell_type": "code",
   "execution_count": 12,
   "metadata": {
    "collapsed": false
   },
   "outputs": [
    {
     "name": "stdout",
     "output_type": "stream",
     "text": [
      "thickness of half wave plate is 0.0017138 mm\n",
      "thickness of quarter wave plate is 0.000857 mm\n"
     ]
    }
   ],
   "source": [
    "#importing modules\n",
    "import math\n",
    "from __future__ import division\n",
    "\n",
    "#Variable declaration\n",
    "lamda=589.3*10**-9;      #wavelength(m)\n",
    "mewe=1.65833;            #refractive index of e-ray\n",
    "mew0=1.48640;            #refractive index of o-ray\n",
    "\n",
    "#Calculation\n",
    "t1=lamda/(2*(mewe-mew0));     #thickness of half wave plate(m)\n",
    "t2=lamda/(4*(mewe-mew0));     #thickness of quarter wave plate(m)\n",
    "\n",
    "#Result\n",
    "print \"thickness of half wave plate is\",round(t1/10**-3,7),\"mm\"\n",
    "print \"thickness of quarter wave plate is\",round(t2/10**-3,6),\"mm\""
   ]
  },
  {
   "cell_type": "markdown",
   "metadata": {},
   "source": [
    "## Example number 5, Page number 99"
   ]
  },
  {
   "cell_type": "code",
   "execution_count": 17,
   "metadata": {
    "collapsed": false
   },
   "outputs": [
    {
     "name": "stdout",
     "output_type": "stream",
     "text": [
      "wavelength for half wave plate is 619.2 m\n",
      "wavelength for quarter wave plate is 309.6 mm\n"
     ]
    }
   ],
   "source": [
    "#importing modules\n",
    "import math\n",
    "from __future__ import division\n",
    "\n",
    "#Variable declaration\n",
    "t=0.9*10**-6;      #thickness(m)\n",
    "mewe=1.486;            #refractive index of e-ray\n",
    "mew0=1.658;            #refractive index of o-ray\n",
    "\n",
    "#Calculation\n",
    "lamda1=4*t*(mew0-mewe);      #wavelength for half wave plate(m)\n",
    "lamda2=2*t*(mew0-mewe);      #wavelength for quarter wave plate(m)\n",
    "\n",
    "#Result\n",
    "print \"wavelength for half wave plate is\",lamda1*10**9,\"m\"\n",
    "print \"wavelength for quarter wave plate is\",lamda2*10**9,\"mm\""
   ]
  }
 ],
 "metadata": {
  "kernelspec": {
   "display_name": "Python 2",
   "language": "python",
   "name": "python2"
  },
  "language_info": {
   "codemirror_mode": {
    "name": "ipython",
    "version": 2
   },
   "file_extension": ".py",
   "mimetype": "text/x-python",
   "name": "python",
   "nbconvert_exporter": "python",
   "pygments_lexer": "ipython2",
   "version": "2.7.11"
  }
 },
 "nbformat": 4,
 "nbformat_minor": 0
}
