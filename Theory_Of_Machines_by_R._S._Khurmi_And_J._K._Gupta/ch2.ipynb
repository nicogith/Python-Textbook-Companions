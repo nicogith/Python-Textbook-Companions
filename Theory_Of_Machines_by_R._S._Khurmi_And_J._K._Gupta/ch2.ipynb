{
 "metadata": {
  "name": "",
  "signature": "sha256:1f1031fc7a31a26f2df358a4d88897e7d62132cd9ac575d363637d46b39b8c4e"
 },
 "nbformat": 3,
 "nbformat_minor": 0,
 "worksheets": [
  {
   "cells": [
    {
     "cell_type": "heading",
     "level": 1,
     "metadata": {},
     "source": [
      "Chapter 2 : Kinematics of Motion"
     ]
    },
    {
     "cell_type": "heading",
     "level": 2,
     "metadata": {},
     "source": [
      "Example 2.1 Page No: 13 "
     ]
    },
    {
     "cell_type": "code",
     "collapsed": false,
     "input": [
      "import math \n",
      "\n",
      "# Variables:\n",
      "u1 = 0\n",
      "v1 = 72.*1000./3600 \t\t\t#m/s\n",
      "s1 = 500. \t\t\t                #m\n",
      "\n",
      "# Solution:\n",
      "# Calculating the initial acceleration of the car\n",
      "a1 = (v1**2-u1**2)/(2*s1) \t\t\t#m/s**2\n",
      "#Calculating time taken by the car to attain the speed\n",
      "t1 = (v1-u1)/a1 \t\t\t#seconds\n",
      "#Parameters for the second case\n",
      "u2 = v1\n",
      "v2 = 90.*1000/3600 \t\t\t#m/s\n",
      "t2 = 10.         \t\t\t#seconds\n",
      "\n",
      "#Calculating the acceleration for the second case\n",
      "a2 = (v2-u2)/t2 \t\t\t#m/s**2\n",
      "#Calculating the distance moved by the car in the second case\n",
      "s2 = (u2*t2)+(a2/2*t2**2)\n",
      "#Parameters for the third case\n",
      "u3 = v2\n",
      "v3 = 0 \t\t\t#m/s\n",
      "t3 = 5 \t\t\t#seconds\n",
      "#Calculating the distance moved by the car\n",
      "s3 = (u3+v3)*t3/2 \t\t\t#m\n",
      "\n",
      "#Results:\n",
      "print \" The acceleration of the car, a  =  %.1f m/s**2. \"%(a1)\n",
      "print \" The car takes t  =  %d s to attain the speed.\"%(t1)\n",
      "print \" The acceleration of the car in the second case, a  =  %.1f m/s**2.\"%(a2)\n",
      "print \" The distance moved by the cars  =  %d m.\"%(s2)\n",
      "print \" The distance travelled by the car during braking, s  =  %.1f m.\"%(s3)\n"
     ],
     "language": "python",
     "metadata": {},
     "outputs": [
      {
       "output_type": "stream",
       "stream": "stdout",
       "text": [
        " The acceleration of the car, a  =  0.4 m/s**2. \n",
        " The car takes t  =  50 s to attain the speed.\n",
        " The acceleration of the car in the second case, a  =  0.5 m/s**2.\n",
        " The distance moved by the cars  =  225 m.\n",
        " The distance travelled by the car during braking, s  =  62.5 m.\n"
       ]
      }
     ],
     "prompt_number": 1
    },
    {
     "cell_type": "heading",
     "level": 2,
     "metadata": {},
     "source": [
      "Example 2.2 Page no : 14"
     ]
    },
    {
     "cell_type": "code",
     "collapsed": false,
     "input": [
      "# variables\n",
      "t = 1.           # second\n",
      "v = 6.25         # m/s\n",
      "\n",
      "# calculations and results\n",
      "C1 = v - 0.25 +t -5\n",
      "\n",
      "# when t = 2\n",
      "t = 2.\n",
      "v = t**4/4 - t**3 + 5*t + 2\n",
      "print \"Velocity at t=2 seconds, V = %.f m/s\"%v\n",
      "\n",
      "# when t = 1 seconds and s = 8.30 m.\n",
      "t = 1.\n",
      "s = 8.30\n",
      "C2 = s - 1./20 + 1./4 - 5./2 - 2\n",
      "t = 2.       # seconds\n",
      "s = t**5/20 - t**4/4 + 5*t**2/2 + 2*t + 4\n",
      "print \"Displacement = %.1f m\"%s\n"
     ],
     "language": "python",
     "metadata": {},
     "outputs": [
      {
       "output_type": "stream",
       "stream": "stdout",
       "text": [
        "Velocity at t=2 seconds, V = 8 m/s\n",
        "Displacement = 15.6 m\n"
       ]
      }
     ],
     "prompt_number": 1
    },
    {
     "cell_type": "heading",
     "level": 2,
     "metadata": {},
     "source": [
      "Example 2.3 Page No: 15"
     ]
    },
    {
     "cell_type": "code",
     "collapsed": false,
     "input": [
      "import math \n",
      "from scipy.integrate import quad \n",
      "\n",
      "# Variables:\n",
      "#Initial parameters\n",
      "v0 = 100. \t\t\t#kmph\n",
      "t0 = 0\n",
      "#Parameters at the end of 40 seconds\n",
      "v1 = 90./100*v0 \t\t\t#kmph\n",
      "t1 = 40.         \t\t\t#seconds\n",
      "\n",
      "#Solution:\n",
      "#The acceleration is given by\n",
      "#a = (-dv/dt) = k*v\n",
      "#Integrating\n",
      "#we get ln(v) = -k*t+C\n",
      "#Calculating the constant of integration\n",
      "def f3(v): \n",
      "    return 1./v\n",
      "\n",
      "C =  quad(f3,1,100)[0]\n",
      "\n",
      "#Calculating the constant of proportionality\n",
      "k = (C-2.3*math.log10(90))/40\n",
      "#Time after 120 seconds\n",
      "t2 = 120. \t\t\t#seconds\n",
      "#Calculating the velocity after 120 seconds\n",
      "v120 = 10**((-k*t2+C)/2.29)\n",
      "\n",
      "#Results:\n",
      "print \" The velocity at the end of 120 seconds =  %.1f kmph.\"%(v120)\n"
     ],
     "language": "python",
     "metadata": {},
     "outputs": [
      {
       "output_type": "stream",
       "stream": "stdout",
       "text": [
        " The velocity at the end of 120 seconds =  73.5 kmph.\n"
       ]
      }
     ],
     "prompt_number": 2
    },
    {
     "cell_type": "heading",
     "level": 2,
     "metadata": {},
     "source": [
      "Example 2.5 Page No: 17"
     ]
    },
    {
     "cell_type": "code",
     "collapsed": false,
     "input": [
      "%matplotlib inline\n",
      "\n",
      "import math \n",
      "from matplotlib.pyplot import *\n",
      "\n",
      "# Variables:\n",
      "s = 500.        #mm\n",
      "s1 = 125.       #mm\n",
      "s2 = 250.       #mm\n",
      "s3 = 125. \t\t#mm\n",
      "t = 1. \t\t\t#second\n",
      "\n",
      "#Solution:\n",
      "#Matrices for the velocity vs. time graph\n",
      "V = [0 ,750.,750.,0] \t\t\t#The velocity matrix\n",
      "T = [0,1./3,2./3,1] \t\t\t#The time matrix\n",
      "plot(T,V)\n",
      "xlabel(\"Time\")\n",
      "ylabel(\"Velocity\")\n",
      "#Calculating the time of uniform acceleration\n",
      "\n",
      "#Equating the time taken to complete the stroke to 1 second\n",
      "v = (125/(1./2)+250/1+125/(1./2))/1 \t\t\t#mm/s\n",
      "\n",
      "#Results:\n",
      "show()\n",
      "print \" The maximum cutting speed  v  =  %d mm/s.\"%(v)\n"
     ],
     "language": "python",
     "metadata": {},
     "outputs": [
      {
       "output_type": "stream",
       "stream": "stdout",
       "text": [
        "Populating the interactive namespace from numpy and matplotlib\n"
       ]
      },
      {
       "metadata": {},
       "output_type": "display_data",
       "png": "[encoded data removed]",
       "text": [
        "<matplotlib.figure.Figure at 0x7f5ef004da50>"
       ]
      },
      {
       "output_type": "stream",
       "stream": "stdout",
       "text": [
        " The maximum cutting speed  v  =  750 mm/s.\n"
       ]
      }
     ],
     "prompt_number": 3
    },
    {
     "cell_type": "heading",
     "level": 2,
     "metadata": {},
     "source": [
      "Example 2.6 Page No: 19"
     ]
    },
    {
     "cell_type": "code",
     "collapsed": false,
     "input": [
      "# Variables:\n",
      "N0 = 0\n",
      "N = 2000. \t\t\t#rpm\n",
      "t = 20. \t\t\t#seconds\n",
      "\n",
      "#Solution:\n",
      "#Calculating the angular velocities\n",
      "omega0 = 0\n",
      "omega = 2*math.pi*N/60 \t\t\t#rad/s\n",
      "#Calculating the angular acceleration\n",
      "alpha = (omega-omega0)/t \t\t\t#rad/s**2\n",
      "#Calculating the angular distance moved by the wheel during 2000 rpm\n",
      "theta = (omega0+omega)*t/2 \t\t\t#rad\n",
      "#Calculating the number of revolutions made by the wheel\n",
      "n = theta/(2*math.pi)\n",
      "\n",
      "#Results:\n",
      "print \" The angular acceleration of the wheel, alpha  =  %.3f rad/s**2.\"%(alpha)\n",
      "print \" The wheel makes n  =  %.1f revolutions.\"%(n)\n"
     ],
     "language": "python",
     "metadata": {},
     "outputs": [
      {
       "output_type": "stream",
       "stream": "stdout",
       "text": [
        " The angular acceleration of the wheel, alpha  =  10.472 rad/s**2.\n",
        " The wheel makes n  =  333.3 revolutions.\n"
       ]
      }
     ],
     "prompt_number": 7
    },
    {
     "cell_type": "heading",
     "level": 2,
     "metadata": {},
     "source": [
      "Example 2.7 Page No: 21"
     ]
    },
    {
     "cell_type": "code",
     "collapsed": false,
     "input": [
      "import math \n",
      "\n",
      "# Variables:\n",
      "r = 1.5 \t\t\t#m\n",
      "N0 = 1200.\n",
      "N = 1500. \t\t\t#rpm\n",
      "t = 5. \t\t\t#seconds\n",
      "\n",
      "#Solution:\n",
      "#Calculating the angular velocities\n",
      "omega0 = 2*math.pi*N0/60\n",
      "omega = 2*math.pi*N/60 \t\t\t#rad/s\n",
      "#Calculating the linear velocity at the beginning\n",
      "v0 = r*omega0 \t\t\t#m/s\n",
      "#Calculating the linear velocity at the end of 5 seconds\n",
      "v5 = r*omega \t\t\t#m/s\n",
      "#Calculating the angular acceleration\n",
      "alpha = (omega-omega0)/t \t\t\t#ad/s**2\n",
      "#Calculating the math.tangential acceleration after 5 seconds\n",
      "TangentialAcceleration = alpha*(r/2) \t\t\t#m/s**2\n",
      "#Calculating the radial acceleration after 5 seconds\n",
      "RadialAcceleration = (round(omega)**2)*(r/2) \t\t\t#m/s**2\n",
      "\n",
      "#Results:\n",
      "print \" The linear velocity at the beginning, v0  =  %.1f m/s.\"%(v0)\n",
      "print \" The linear velocity after 5 seconds, v5  =  %.1f m/s.\"%(v5)\n",
      "print \" The tangential acceleration after 5 seconds is %.1f m/s**2.\"%(TangentialAcceleration)\n",
      "print \" The radial acceleration after 5 seconds is %.f m/s**2.\"%(RadialAcceleration)"
     ],
     "language": "python",
     "metadata": {},
     "outputs": [
      {
       "output_type": "stream",
       "stream": "stdout",
       "text": [
        " The linear velocity at the beginning, v0  =  188.5 m/s.\n",
        " The linear velocity after 5 seconds, v5  =  235.6 m/s.\n",
        " The tangential acceleration after 5 seconds is 4.7 m/s**2.\n",
        " The radial acceleration after 5 seconds is 18487 m/s**2.\n"
       ]
      }
     ],
     "prompt_number": 4
    }
   ],
   "metadata": {}
  }
 ]
}