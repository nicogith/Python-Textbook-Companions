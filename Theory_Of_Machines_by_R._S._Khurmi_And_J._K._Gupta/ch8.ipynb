{
 "metadata": {
  "name": "",
  "signature": "sha256:8b757cfb7a3d46c26051163fc5ae963591320e2fd8a4c339acfb031be7305afd"
 },
 "nbformat": 3,
 "nbformat_minor": 0,
 "worksheets": [
  {
   "cells": [
    {
     "cell_type": "heading",
     "level": 1,
     "metadata": {},
     "source": [
      "Chapter 8 : Acceleration in Mechanisms"
     ]
    },
    {
     "cell_type": "heading",
     "level": 2,
     "metadata": {},
     "source": [
      "Example 8.1 Page No : 177"
     ]
    },
    {
     "cell_type": "code",
     "collapsed": false,
     "input": [
      "import math \n",
      "\n",
      "# Variables:\n",
      "NBO = 300. \t\t\t#rpm\n",
      "OB = 150./1000\n",
      "BA = 600./1000 \t\t\t#m\n",
      "\n",
      "#Solution:\n",
      "#Refer Fig. 8.4\n",
      "#Calculating the angular velocity of BO\n",
      "omegaBO = 2*math.pi*NBO/60 \t\t\t#rad/s\n",
      "#Calculating the linear velocity of B with respect to O\n",
      "vBO = omegaBO*OB \t\t\t#m/s\n",
      "vB = vBO\n",
      "#By measurement from the velocity diagram Fig. 8.4(b)\n",
      "vAB = 3.4\n",
      "vD = 4.1 \t\t\t#m/s\n",
      "#Calculating the radial component of the acceleration of B with respect of O\n",
      "arBO = vBO**2/OB \t\t\t#m/s**2\n",
      "aB = arBO\n",
      "#Calculating the radisla component of the accaleration of A with respect to B\n",
      "arAB = vAB**2/BA \t\t\t#m/s**2\n",
      "#By measurement from the acceleration diagram Fig. 8.4(c)\n",
      "aD = 117.\n",
      "adashAB = 103. \t\t\t#m/s**2\n",
      "#Calculating the angular velocity of the connecting rod\n",
      "omegaAB = vAB/BA \t\t\t#rad/s**2\n",
      "#Calculating the angular acceleration of the connecting rod\n",
      "alphaAB = adashAB/BA \t\t\t#rad/s**2\n",
      "\n",
      "#Results:\n",
      "print \" The linear velocity of the midpoint of the connecting rod, vD  =  %.1f m/s.\"%(vD)\n",
      "print \" The linear acceleration of the midpoint of the connecting rod, aD  =  %d m/s**2.\"%(aD)\n",
      "print \" The angular velocity of the connecting rod, omegaAB  =  %.2f rad/s, anticlockwise about B.\"%(omegaAB)\n",
      "print \" The angular acceleration of the connecting rod, alphaAB  =  %.2f rad/s**2, clockwise about B.\"%(alphaAB)\n"
     ],
     "language": "python",
     "metadata": {},
     "outputs": [
      {
       "output_type": "stream",
       "stream": "stdout",
       "text": [
        " The linear velocity of the midpoint of the connecting rod, vD  =  4.1 m/s.\n",
        " The linear acceleration of the midpoint of the connecting rod, aD  =  117 m/s**2.\n",
        " The angular velocity of the connecting rod, omegaAB  =  5.67 rad/s, anticlockwise about B.\n",
        " The angular acceleration of the connecting rod, alphaAB  =  171.67 rad/s**2, clockwise about B.\n"
       ]
      }
     ],
     "prompt_number": 1
    },
    {
     "cell_type": "heading",
     "level": 2,
     "metadata": {},
     "source": [
      "Example 8.2 Page No : 180"
     ]
    },
    {
     "cell_type": "code",
     "collapsed": false,
     "input": [
      "import math \n",
      "\n",
      "# Variables:\n",
      "omegaBC = 75. \t    \t\t#rad/s\n",
      "alphaBC = 1200. \t\t\t#rad/s**2\n",
      "CB = 100/1000.              #m\n",
      "BA = 300/1000.   \t\t\t#m/\n",
      "\n",
      "#Solution:\n",
      "#Refer Fig. 8.5\n",
      "#Calculating the linear velocity of B with respect to C\n",
      "vBC = omegaBC*CB \t\t\t#m/s\n",
      "#Calculating the math.tangential component of the acceleration of B with respect to C\n",
      "alphatBC = alphaBC*CB \t\t\t#m/s**2\n",
      "#By measurement from the velocity diagram Fig. 8.6(b)\n",
      "vG = 6.8\n",
      "vAB = 4 \t\t\t#m/s\n",
      "#Calculating the angular velocity of AB\n",
      "omegaAB = vAB/BA \t\t\t#rad/s\n",
      "#Calculating the radial component of the acceleration of B with respect to C\n",
      "arBC = vBC**2/CB \t\t\t#m/s**2\n",
      "#Calculating the radial component of the acceleration of A with respect to B\n",
      "arAB = vAB**2/BA \t\t\t#m/s**2\n",
      "#By measurement from the acceleration diagram Fig. 8.6(c)\n",
      "arBC = 120.\n",
      "arAB = 53.3\n",
      "aG = 414.\n",
      "atAB = 546. \t\t\t#m/s**2\n",
      "#Calculating the angular acceleration of AB\n",
      "alphaAB = atAB/BA \t\t\t#rad/s**2\n",
      "\n",
      "#Results:\n",
      "print \" The velocity of G, vG  =  %.1f m/s.\"%(vG)\n",
      "print \" The angular velocity of AB, omegaAB  =  %.1f rad/s, clockwise.\"%(omegaAB)\n",
      "print \" The acceleration of G, aG  =  %d m/s**2.\"%(aG)\n",
      "print \" The angular accaleration of AB, alphaAB  =  %d rad/s**2.\"%(alphaAB)\n"
     ],
     "language": "python",
     "metadata": {},
     "outputs": [
      {
       "output_type": "stream",
       "stream": "stdout",
       "text": [
        " The velocity of G, vG  =  6.8 m/s.\n",
        " The angular velocity of AB, omegaAB  =  13.3 rad/s, clockwise.\n",
        " The acceleration of G, aG  =  414 m/s**2.\n",
        " The angular accaleration of AB, alphaAB  =  1820 rad/s**2.\n"
       ]
      }
     ],
     "prompt_number": 2
    },
    {
     "cell_type": "heading",
     "level": 2,
     "metadata": {},
     "source": [
      "Example 8.3 Page No : 182"
     ]
    },
    {
     "cell_type": "code",
     "collapsed": false,
     "input": [
      "import math \n",
      "\n",
      "# Variables:\n",
      "vC = 1.\n",
      "vCD = vC \t\t\t#m/s\n",
      "aC = 2.5 \t\t\t#m/s**2\n",
      "AB = 3.             #m\n",
      "BC = 1.5 \t\t\t#m\n",
      "\n",
      "#Solution:\n",
      "#Refer Fig. 8.8\n",
      "#By measurement from the velocity diagram Fig. 8.8(b)\n",
      "vBA = 0.72\n",
      "vBC = 0.72 \t\t\t#m/s\n",
      "#Calculating the radial component of acceleration of B with respect to C\n",
      "arBC = vBC**2/BC \t\t\t#m/s**2\n",
      "#Calculating the radial component of acceleration of B with respect to A\n",
      "arBA = vBA**2/AB \t\t\t#m/s**2\n",
      "#By measurement from the acceleration diagram Fig. 8.8(c)\n",
      "aCD = 2.5\n",
      "aC = aCD\n",
      "arBC = 0.346\n",
      "arBA = 0.173\n",
      "atBA = 1.41\n",
      "atBC = 1.94\n",
      "vectorbb = 1.13\n",
      "vectorab = 0.9 \t\t\t#m/s**2\n",
      "#Calculating the angular accaleration of AB\n",
      "alphaAB = atBA/AB \t\t\t#rad/s**2\n",
      "#Calculating the angular acceleration of BC\n",
      "alphaBC = atBC/BC \t\t\t#rad/s**2\n",
      "\n",
      "#Results:\n",
      "print \" The magnitude of vertical component of the acceleration of the point B is %.2f m/s**2.\"%(vectorbb)\n",
      "print \" The magnitude of horizontal component of the acceleration of the point B is %.1f m/s**2.\"%(vectorab)\n",
      "print \" The angular acceleration of the link AB, alphaAB  =  %.2f rad/s**2.\"%(alphaAB)\n",
      "print \" The angular acceleration of the link BC, alphaBC  =  %.1f rad/s**2.\"%(alphaBC)\n"
     ],
     "language": "python",
     "metadata": {},
     "outputs": [
      {
       "output_type": "stream",
       "stream": "stdout",
       "text": [
        " The magnitude of vertical component of the acceleration of the point B is 1.13 m/s**2.\n",
        " The magnitude of horizontal component of the acceleration of the point B is 0.9 m/s**2.\n",
        " The angular acceleration of the link AB, alphaAB  =  0.47 rad/s**2.\n",
        " The angular acceleration of the link BC, alphaBC  =  1.3 rad/s**2.\n"
       ]
      }
     ],
     "prompt_number": 3
    },
    {
     "cell_type": "heading",
     "level": 2,
     "metadata": {},
     "source": [
      "Example 8.4 Page No : 184"
     ]
    },
    {
     "cell_type": "code",
     "collapsed": false,
     "input": [
      "import math \n",
      "\n",
      "# Variables:\n",
      "omegaQP = 10. \t\t\t#rad/s\n",
      "PQ = 62.5/1000          #m\n",
      "QR = 175./1000          #m\n",
      "RS = 112.5/1000         #m\n",
      "PS = 200./1000 \t\t\t#m\n",
      "\n",
      "#Solution:\n",
      "#Refer Fig. 8.9\n",
      "#Calculating the velocity of Q with respect to P\n",
      "vQP = omegaQP*PQ \t\t\t#m/s\n",
      "vQ = vQP\n",
      "#By measurement from the velocity diagram Fig. 8.9(b)\n",
      "vRQ = 0.333\n",
      "vRS = 0.426\n",
      "vR = vRS \t\t\t#m/s\n",
      "#Calculating the angular velocity of link QR\n",
      "omegaQR = vRQ/QR \t\t\t#rad/s\n",
      "#Calculating the angular velocity of link RS\n",
      "omegaRS = vRS/RS \t\t\t#rad/s\n",
      "#Calculating the radial component of the acceleration of Q with respect to P\n",
      "arQP = vQP**2/PQ \t\t\t#m/s**2\n",
      "aQP = arQP\n",
      "aQ = aQP\n",
      "#Calculating the radial component of the acceleration of R with respect to Q\n",
      "arRQ = vRQ**2/QR \t\t\t#m/s**2\n",
      "#Calculating the radial component of the acceleration of R with respect to S\n",
      "arRS = vRS**2/RS \t\t\t#m/s**2\n",
      "aRS = arRS\n",
      "aR = aRS\n",
      "#By measurement from the acceleration diagram Fig. 8.9(c)\n",
      "atRQ = 4.1\n",
      "atRS = 5.3 \t\t\t#m/s**2\n",
      "#Calculating the angular acceleration of link QR\n",
      "alphaQR = atRQ/QR \t\t\t#rad/s**2\n",
      "#Calculating the angular acceleration of link RS\n",
      "alphaRS = atRS/RS \t\t\t#rad/s**2\n",
      "\n",
      "#Results:\n",
      "print \" The angular velocity of link QR, omegaQR  =  %.1f rad/s anticlockwise.\"%(omegaQR)\n",
      "print \" The angular velocity of link RS, omegaRS  =  %.2f rad/s clockwise.\"%(omegaRS)\n",
      "print \" The angular acceleration of link QR, alphaQR  =  %.2f rad/s**2 anticlockwise.\"%(alphaQR)\n",
      "print \" The angular acceleration of link RS, alphaRS  =  %.1f rad/s**2 anticlockwise.\"%(alphaRS)\n"
     ],
     "language": "python",
     "metadata": {},
     "outputs": [
      {
       "output_type": "stream",
       "stream": "stdout",
       "text": [
        " The angular velocity of link QR, omegaQR  =  1.9 rad/s anticlockwise.\n",
        " The angular velocity of link RS, omegaRS  =  3.79 rad/s clockwise.\n",
        " The angular acceleration of link QR, alphaQR  =  23.43 rad/s**2 anticlockwise.\n",
        " The angular acceleration of link RS, alphaRS  =  47.1 rad/s**2 anticlockwise.\n"
       ]
      }
     ],
     "prompt_number": 5
    },
    {
     "cell_type": "heading",
     "level": 2,
     "metadata": {},
     "source": [
      "Example 8.5 Page No : 186"
     ]
    },
    {
     "cell_type": "code",
     "collapsed": false,
     "input": [
      "import math \n",
      "\n",
      "# Variables:\n",
      "omegaAP1 = 10. \t\t\t#rad/s\n",
      "alphaAP1 = 30. \t\t\t#rad/s**2\n",
      "P1A = 300./1000         #m\n",
      "P2B = 360./1000         #m\n",
      "AB = P2B \t\t\t#m\n",
      "\n",
      "#Solution:\n",
      "#Refer Fig. 8.10\n",
      "#Calculating the velocity of A with respect to P1\n",
      "vAP1 = omegaAP1/P1A \t\t\t#m/s\n",
      "vA = vAP1\n",
      "#By measurement from the velocity diagram Fig. 8.11(b)\n",
      "vBP2 = 2.2\n",
      "vBA = 2.05 \t\t\t#m/s\n",
      "#Calculating the angular velocity of P2B\n",
      "omegaP2B = vBP2/P2B \t\t\t#rad/s\n",
      "#Calculating the angular velocity of AB\n",
      "omegaAB = vBA/AB \t\t\t#rad/s\n",
      "#Calculating the math.tangential component of the acceleration of A with respect to P1\n",
      "atAP1 = alphaAP1*P1A \t\t\t#m/s**2\n",
      "#Calculating the radial component of the acceleration of A with respect to P1\n",
      "arAP1 = vAP1**2/P1A \t\t\t#m/s**2\n",
      "#Calculating the radial component of the acceleration of B with respect to A\n",
      "arBA = vBA**2/AB \t\t\t#m/s**2\n",
      "#Calculating the radial component of B with respect to P2\n",
      "arBP2 = vBP2**2/P2B \t\t\t#m/s**2\n",
      "#By measurement from the acceleration diagram Fig. 8.11(c)\n",
      "aBP2 = 29.6\n",
      "aB = aBP2\n",
      "atBA = 13.6\n",
      "atBP2 = 26.6 \t\t\t#m/s**2\n",
      "#Calculating the angular acceleration of P2B\n",
      "alphaP2B = atBP2/P2B \t\t\t#rad/s**2\n",
      "#Calculating the angular acceleration of AB\n",
      "alphaAB = atBA/AB \t\t\t#rad/s**2\n",
      "\n",
      "#Results:\n",
      "print \" The velocity of P2B, vBP2  =  %.1f m/s.\"%(vBP2)\n",
      "print \" The angular velocity of P2B, omegaP2B  =  %.1f rad/s, clockwise.\"%(omegaP2B)\n",
      "print \" The angular velocity of AB, omegaAB  =  %.1f rad/s, anticlockwise.\"%(omegaAB)\n",
      "print \" The acceleration of the joint B, aB  =  %.1f m/s**2.\"%(aB)\n",
      "print \" The angular acceleration of P2B, alphaP2B  =  %.1f rad/s**2, anticlockwise.\"%(alphaP2B)\n",
      "print \" The angular acceleration of AB, alphaAB  =  %.1f rad/s**2, anticlockwise.\"%(alphaAB)\n"
     ],
     "language": "python",
     "metadata": {},
     "outputs": [
      {
       "output_type": "stream",
       "stream": "stdout",
       "text": [
        " The velocity of P2B, vBP2  =  2.2 m/s.\n",
        " The angular velocity of P2B, omegaP2B  =  6.1 rad/s, clockwise.\n",
        " The angular velocity of AB, omegaAB  =  5.7 rad/s, anticlockwise.\n",
        " The acceleration of the joint B, aB  =  29.6 m/s**2.\n",
        " The angular acceleration of P2B, alphaP2B  =  73.9 rad/s**2, anticlockwise.\n",
        " The angular acceleration of AB, alphaAB  =  37.8 rad/s**2, anticlockwise.\n"
       ]
      }
     ],
     "prompt_number": 6
    },
    {
     "cell_type": "heading",
     "level": 2,
     "metadata": {},
     "source": [
      "Example 8.6 Page No : 188"
     ]
    },
    {
     "cell_type": "code",
     "collapsed": false,
     "input": [
      "import math \n",
      "\n",
      "# Variables:\n",
      "NAO = 20. \t\t\t#rpm\n",
      "OA = 300./1000      #m\n",
      "AB = 1200./1000     #m\n",
      "BC = 450./1000      #m\n",
      "CD = BC \t\t\t#m\n",
      "\n",
      "#Solution:\n",
      "#Refer Fig. 8.13\n",
      "#Calculating the angular velocity of crank AO\n",
      "omegaAO = 2*math.pi*NAO/60 \t\t\t#rad/s\n",
      "#Calculating the linear velocity of A with respect to O\n",
      "vAO = omegaAO*OA \t\t\t#m/s\n",
      "vA = vAO\n",
      "#By measurement from the velocity diagram Fig. 8.13(b)\n",
      "vB = 0.4\n",
      "vD = 0.24\n",
      "vDC = 0.37\n",
      "vBA = 0.54 \t\t\t#m/s\n",
      "#Calculating the angular velocity of CD\n",
      "omegaCD = vDC/CD \t\t\t#rad/s\n",
      "#Calculating the radial component of the acceleration of A with respect to O\n",
      "arAO = vAO**2/OA \t\t\t#m/s**2\n",
      "#Calculating the radial component of the acceleration of B with respect to A\n",
      "arBA = vBA**2/AB \t\t\t#m/s**2\n",
      "#Calculating the radial component of the acceleration of D with respect to C\n",
      "arDC = vDC**2/CD \t\t\t#m/s**2\n",
      "#By measurement from the acceleration diagram Fig. 8.13(c)\n",
      "aD = 0.16\n",
      "atDC = 1.28      \t\t\t#m/s**2\n",
      "#Calculating the angular acceleration of CD\n",
      "alphaCD = atDC/CD \t\t\t#rad/s**2\n",
      "\n",
      "#Results:\n",
      "print \" Velocity of sliding at B, vB  =  %.1f m/s.\"%(vB)\n",
      "print \" Velocity of sliding at D, vD  =  %.2f m/s.\"%(vD)\n",
      "print \" Angular velocity of CD, omegaCD  =  %.2f rad/s.\"%(omegaCD)\n",
      "print \" Linear acceleration of D, aD  =  %.2f m/s**2.\"%(aD)\n",
      "print \" Angular acceleration of CD, alphaCD  =  %.2f rad/s**2, clockwise.\"%(alphaCD)\n"
     ],
     "language": "python",
     "metadata": {},
     "outputs": [
      {
       "output_type": "stream",
       "stream": "stdout",
       "text": [
        " Velocity of sliding at B, vB  =  0.4 m/s.\n",
        " Velocity of sliding at D, vD  =  0.24 m/s.\n",
        " Angular velocity of CD, omegaCD  =  0.82 rad/s.\n",
        " Linear acceleration of D, aD  =  0.16 m/s**2.\n",
        " Angular acceleration of CD, alphaCD  =  2.84 rad/s**2, clockwise.\n"
       ]
      }
     ],
     "prompt_number": 7
    },
    {
     "cell_type": "heading",
     "level": 2,
     "metadata": {},
     "source": [
      "Example 8.7 Page No : 191"
     ]
    },
    {
     "cell_type": "code",
     "collapsed": false,
     "input": [
      "import math \n",
      "\n",
      "# Variables:\n",
      "NAO = 180. \t\t\t#rpm\n",
      "OA = 150./1000      #m\n",
      "AB = 450./1000      #m\n",
      "PB = 240./1000      #m\n",
      "CD = 660./1000 \t\t#m\n",
      "\n",
      "#solution:\n",
      "#Refer Fig. 8.15\n",
      "#Calculating the angular speed of crank AO\n",
      "omegaAO = 2*math.pi*NAO/60 \t\t\t#rad/s\n",
      "#Calculating the velocity of A with respect to O\n",
      "vAO = omegaAO*OA \t\t\t#m/s\n",
      "vA = vAO\n",
      "#By measurement from the velocity diagram Fig. 8.15(b)\n",
      "vD = 2.36\n",
      "vDC = 1.2\n",
      "vBA = 1.8\n",
      "vBP = 1.5 \t\t\t#m/s\n",
      "#Calculating the radial component of the acceleration of B with respect to A\n",
      "arAO = vBA**2/AB \t\t\t#m/s**2\n",
      "#Calculating the radial component of the acceleration of B with respect to A\n",
      "arBA = vBA**2/AB \t\t\t#m/s**2\n",
      "#Calculating the radial component of the acceleration of B with respect to P\n",
      "arBP = vBP**2/PB \t\t\t#m/s**2\n",
      "#Calculating the radial component of D with respect to C\n",
      "arDC = vDC**2/CD \t\t\t#m/s**2\n",
      "#By measurement from the acceleration diagram Fig. 8.15(c)\n",
      "aD = 69.6\n",
      "atDC = 17.4 \t\t\t#m/s**2\n",
      "#Calculating the angular acceleration of CD\n",
      "alphaCD = atDC/CD \t\t\t#rad/s**2\n",
      "\n",
      "#Results:\n",
      "print \" Acceleration of slider D, aD  =  %.1f m/s**2.\"%(aD)\n",
      "print \" Angular acceleration of link CD, alphaCD  =  %.1f rad/s**2.\"%(alphaCD)\n"
     ],
     "language": "python",
     "metadata": {},
     "outputs": [
      {
       "output_type": "stream",
       "stream": "stdout",
       "text": [
        " Acceleration of slider D, aD  =  69.6 m/s**2.\n",
        " Angular acceleration of link CD, alphaCD  =  26.4 rad/s**2.\n"
       ]
      }
     ],
     "prompt_number": 8
    },
    {
     "cell_type": "heading",
     "level": 2,
     "metadata": {},
     "source": [
      "Example 8.8 Page No : 193"
     ]
    },
    {
     "cell_type": "code",
     "collapsed": false,
     "input": [
      "# Variables:\n",
      "NAO = 180. \t\t\t#rpm\n",
      "OA = 180./1000\n",
      "CB = 240./1000\n",
      "AB = 360./1000\n",
      "BD = 540./1000 \t\t\t#m\n",
      "alphaAO = 50. \t\t\t#rad/s**2\n",
      "\n",
      "#Solution:\n",
      "#Refer Fig. 8.17\n",
      "#Calculating the angular speed of crank AO\n",
      "omegaAO = 2*math.pi*NAO/60 \t\t\t#rad/s\n",
      "#Calculating the velcoity of A with respect to O\n",
      "vAO = omegaAO*OA \t\t\t#m/s\n",
      "vA = vAO\n",
      "#By measurement from the velocity diagram Fig. 8.17(b)\n",
      "vBA = 0.9\n",
      "vBC = 2.4\n",
      "vDB = 2.4\n",
      "vD = 2.05 \t\t\t#m/s\n",
      "\n",
      "#Calculating the angular velocity of BD\n",
      "omegaBD = vDB/BD \t\t\t#rad/s\n",
      "#Calculating the tangential component of the acceleration of A with respect to O\n",
      "atAO = alphaAO*OA \t\t\t#m/s**2\n",
      "#Calculating the radial component of the acceleration of A with respect to O\n",
      "arAO = vAO**2/OA \t\t\t#m/s**2\n",
      "#Calculating the radial component of the acceleration of B with respect to A\n",
      "arBA = vBA**2/AB \t\t\t#m/s**2\n",
      "#Calculating the radial component of the acceleration of B with respect to C\n",
      "arBC = vBC**2/AB \t\t\t#m/s**2\n",
      "#Calculating the radial component of the acceleration of D with respect to B\n",
      "arDB = vDB**2/BD \t\t\t#m/s**2\n",
      "#By measurement from the acceleration diagram Fig. 8.17(c)\n",
      "aD = 13.3\n",
      "atDB = 38.5 \t\t\t#m/s**2\n",
      "\n",
      "#Calculating the angular acceleration of BD\n",
      "alphaBD = atDB/BD \t\t\t#rad/s**2\n",
      "\n",
      "#Results:\n",
      "print \" Velocity of slider D, vD  =  %.2f m/s.\"%(vD)\n",
      "print \" Angular velocity of BD, omegaBD  =  %.1f rad/s.\"%(omegaBD)\n",
      "print \" Acceleration of slider D, aD  =  %.1f m/s**2.\"%(aD)\n",
      "print \" Angular acceleration of BD, alphaBD  =  %.1f rad/s**2, clockwise.\"%(alphaBD)\n"
     ],
     "language": "python",
     "metadata": {},
     "outputs": [
      {
       "output_type": "stream",
       "stream": "stdout",
       "text": [
        " Velocity of slider D, vD  =  2.05 m/s.\n",
        " Angular velocity of BD, omegaBD  =  4.4 rad/s.\n",
        " Acceleration of slider D, aD  =  13.3 m/s**2.\n",
        " Angular acceleration of BD, alphaBD  =  71.3 rad/s**2, clockwise.\n"
       ]
      }
     ],
     "prompt_number": 9
    },
    {
     "cell_type": "heading",
     "level": 2,
     "metadata": {},
     "source": [
      "Example 8.9 Page No : 196"
     ]
    },
    {
     "cell_type": "code",
     "collapsed": false,
     "input": [
      "import math \n",
      "\n",
      "# Variables:\n",
      "omegaAO1 = 100. \t\t\t#rad/s\n",
      "O1A = 100./1000             #m\n",
      "AC = 700./1000              #m\n",
      "BC = 200./1000              #m\n",
      "BD = 150./1000              #m\n",
      "O2D = 200./1000             #m\n",
      "O2E = 400./1000             #m\n",
      "O3C = 200./1000 \t\t\t#m\n",
      "m=0.0;\n",
      "#Solution:\n",
      "#Refer Fig. 8.19\n",
      "#Calculating the linear velocity of A with respect to O1\n",
      "vAO1 = omegaAO1/O1A \t\t\t#m/s\n",
      "vA = vAO1\n",
      "#By measurement from the velocity diagram Fig. 8.19(b)\n",
      "vCA = 7.\n",
      "vCO3 = 10.\n",
      "vC = vCO3\n",
      "vDB = 10.2\n",
      "vDO2 = 2.8\n",
      "vD = vDO2\n",
      "vE = 5.8\n",
      "vEO2 = vE \t\t\t#m/s\n",
      "#Calculating the radial component of the acceleration of A with respect to O1\n",
      "arAO1 = vAO1**2/O1A \t\t\t#m/s**2\n",
      "aAO1 = arAO1\n",
      "aA = aAO1\n",
      "#Calculating the radial component of the acceleration of C with respect to A\n",
      "arCA = vCA**2/AC \t\t\t#m/s**2\n",
      "#Calculating the radial component of the acceleration of C with respect to O3\n",
      "arCO3 = vCO3**2/O3C \t\t\t#m/s**2\n",
      "#Calculating the radial component of the acceleration of D with respect to B\n",
      "arDB = vDB**2/BD \t\t\t#m/s**2\n",
      "#Calculating the radial component of the acceleration of D with respect to O2\n",
      "arDO2 = vDO2**2/O2D \t\t\t#m/s**2\n",
      "#Calculating the radial component of the acceleration of E with respect to O2\n",
      "arEO2 = vEO2**2/O2E \t\t\t#m/s**2\n",
      "#By measurement from the acceleration diagram Fig. 8.19(c)\n",
      "aE = 1200.\n",
      "atDO2 = 610. \t\t\t#m/s**2\n",
      "aEO2 = aE\n",
      "aB = 440. \t\t\t#Acceleration of point B\n",
      "#m/s**2\n",
      "#Calculating the angular acceleration of the bell crank lever\n",
      "alpha = atDO2/O2D \t\t\t#The angular acceleration of the bell crank lever rad/s**2\n",
      "\n",
      "#Results:\n",
      "print \" Velocity of the point E on the bell crank lever, vE  =  %.1f m/s.\"%(vE)\n",
      "print \" Acceleration of point B  =  %d m/s**2.\"%(aB)\n",
      "print \" Acceleration of point E, aE  =  %d m/s**2.\"%(aE)\n",
      "print \" Angular acceleration of the bell crank lever  =  %d rad/s**2, anticlockwise.\"%(alpha)\n"
     ],
     "language": "python",
     "metadata": {},
     "outputs": [
      {
       "output_type": "stream",
       "stream": "stdout",
       "text": [
        " Velocity of the point E on the bell crank lever, vE  =  5.8 m/s.\n",
        " Acceleration of point B  =  440 m/s**2.\n",
        " Acceleration of point E, aE  =  1200 m/s**2.\n",
        " Angular acceleration of the bell crank lever  =  3050 rad/s**2, anticlockwise.\n"
       ]
      }
     ],
     "prompt_number": 2
    },
    {
     "cell_type": "heading",
     "level": 2,
     "metadata": {},
     "source": [
      "Example 8.10 Page No : 199"
     ]
    },
    {
     "cell_type": "code",
     "collapsed": false,
     "input": [
      "import math \n",
      "\n",
      "# Variables:\n",
      "NAO = 100. \t\t\t#rpm\n",
      "OA = 150./1000      #m\n",
      "AB = 600./1000      #m\n",
      "BC = 350./1000      #m\n",
      "CD = 150./1000      #m\n",
      "DE = 500./1000 \t\t#m\n",
      "dA = 50./1000\n",
      "dB = dA\n",
      "rA = dA/2\n",
      "rB = dB/2 \t\t\t#m\n",
      "pF = 0.35 \t\t\t#N/mm**2\n",
      "DF = 250. \t\t\t#mm\n",
      "\n",
      "#Solution:\n",
      "#Refer Fig. 8.21\n",
      "#Calculating the angular speed of the crank AO\n",
      "omegaAO = 2*math.pi*NAO/60 \t\t\t#rad/s\n",
      "#Calculating the velocity of A with respect to O\n",
      "vAO = omegaAO*OA \t\t\t#m/s\n",
      "vA = vAO\n",
      "#By measurement from the velocity diagram Fig. 8.21(b)\n",
      "vBA = 1.65\n",
      "vBC = 0.93\n",
      "vB = vBC\n",
      "vED = 0.18\n",
      "vEO = 0.36\n",
      "vE = vEO\n",
      "vF = vE \t\t\t#m/s\n",
      "\n",
      "#Calculating the velocity of D with respect to C\n",
      "vDC = vBC*CD/BC \t\t\t#m/s\n",
      "#Calculating the angular velocity of B with respect to A\n",
      "omegaBA = vBA/AB \t\t\t#rad/s\n",
      "#Calculating the angular velocity of B with respect to C\n",
      "omegaBC = vBC/BC \t\t\t#rad/s\n",
      "#Calculating the rubbing velocity of pin at A\n",
      "vrA = (omegaAO-omegaBA)*rA \t\t\t#The rubbing velocity of pin at A m/s\n",
      "#Calculating the rubbing velocity of pin at B\n",
      "vrB = (omegaBA+omegaBC)*rB \t\t\t#The rubbing velocity of pin at B m/s\n",
      "#Calculating the force at the pump piston at F\n",
      "FF = pF*math.pi/4*DF**2 \t\t\t#N\n",
      "#Calculating the force required at the crankshaft A\n",
      "FA = FF*vF/vA \t\t\t#N\n",
      "#Calculating the torque required at the crankshaft\n",
      "TA = FA*OA \t\t\t#N-m\n",
      "#Calculating the radial component of the acceleration of A with respect to O\n",
      "arAO = vAO**2/OA \t\t\t#m/s**2\n",
      "#Calculating the radial component of the acceleration of B with respect to A\n",
      "arBA = vBA**2/AB \t\t\t#m/s**2\n",
      "#Calculating the radial component of the acceleration of B with respect to C\n",
      "arBC = vBC**2/BC \t\t\t#m/s**2\n",
      "#Calculating the radial component of the acceleration of E with respect to D\n",
      "arED = vED**2/DE \t\t\t#m/s**2\n",
      "#By measurement from the acceleration diagram Fig. 8.21(c)\n",
      "aBC = 9.2\n",
      "aB = aBC\n",
      "aBA = 9\n",
      "aE = 3.8 \t\t\t#m/s**2\n",
      "#Calculating the acceleration of D\n",
      "aD = aBC*CD/BC \t\t\t#m/s**2\n",
      "\n",
      "#Results:\n",
      "print \" The velocity of the cross-head E, vE  =  %.2f m/s.\"%(vE)\n",
      "print \" The rubbing velocity of pin at A  =  %.3f m/s.\"%(vrA)\n",
      "print \" The rubbing velocity of pin at B  =  %.3f m/s.\"%(vrB)\n",
      "print \" The torque required at the crankshaft, TA  =  %d N-m.\"%(TA)\n",
      "print \" The acceleration of the crosshead E, aE  =  %.1f m/s**2.\"%(aE)\n"
     ],
     "language": "python",
     "metadata": {},
     "outputs": [
      {
       "output_type": "stream",
       "stream": "stdout",
       "text": [
        " The velocity of the cross-head E, vE  =  0.36 m/s.\n",
        " The rubbing velocity of pin at A  =  0.193 m/s.\n",
        " The rubbing velocity of pin at B  =  0.135 m/s.\n",
        " The torque required at the crankshaft, TA  =  590 N-m.\n",
        " The acceleration of the crosshead E, aE  =  3.8 m/s**2.\n"
       ]
      }
     ],
     "prompt_number": 11
    },
    {
     "cell_type": "heading",
     "level": 2,
     "metadata": {},
     "source": [
      "Example 8.11 Page No : 203"
     ]
    },
    {
     "cell_type": "code",
     "collapsed": false,
     "input": [
      "import math \n",
      "\n",
      "# Variables:\n",
      "NAO = 150. \t\t\t#rpm\n",
      "OA = 150./1000      #m\n",
      "AB = 550./1000      #m\n",
      "AC = 450./1000      #m\n",
      "DC = 500./1000      #m\n",
      "BE = 350./1000 \t\t#m\n",
      "\n",
      "#Solution:\n",
      "#Refer Fig. 8.23\n",
      "#Calculating the angular speed of the crank AO\n",
      "omegaAO = 2*math.pi*NAO/60 \t\t\t#rad/s\n",
      "#Calculating the linear velocity of A with respect to O\n",
      "vAO = omegaAO*OA \t\t\t#m/s\n",
      "vA = vAO\n",
      "#By measurement from the velocity diagram Fig. 8.23(b)\n",
      "vCA = 0.53\n",
      "vCD = 1.7\n",
      "vC = vCD\n",
      "vEB = 1.93\n",
      "vE = 1.05 \t\t\t#m/s\n",
      "#Calculating the radial component of the acceleration of A with respect to O\n",
      "arAO = vAO**2/OA \t\t\t#m/s**2\n",
      "aA = arAO\n",
      "#Calculating the radial component of the acceleration of C with respect to A\n",
      "arCA = vCA**2/AC \t\t\t#m/s**2\n",
      "#Calculating the radial component of the acceleration of C with respect to D\n",
      "arCD = vCD**2/DC \t\t\t#m/s**2\n",
      "#Calculating the radial component of the acceleration of E with respect to B\n",
      "arEB = vEB**2/BE \t\t\t#m/s**2\n",
      "#By measurement from the acceleration diagram Fig. 8.23(c)\n",
      "aE = 3.1 \t\t\t#m/s**2\n",
      "\n",
      "#Results:\n",
      "print \" Velocity of the ram E, vE  =  %.2f m/s.\"%(vE)\n",
      "print \" Acceleration of the ram E, aE  =  %.1f m/s**2.\"%(aE)\n"
     ],
     "language": "python",
     "metadata": {},
     "outputs": [
      {
       "output_type": "stream",
       "stream": "stdout",
       "text": [
        " Velocity of the ram E, vE  =  1.05 m/s.\n",
        " Acceleration of the ram E, aE  =  3.1 m/s**2.\n"
       ]
      }
     ],
     "prompt_number": 12
    },
    {
     "cell_type": "heading",
     "level": 2,
     "metadata": {},
     "source": [
      "Example 8.12 Page No : 205"
     ]
    },
    {
     "cell_type": "code",
     "collapsed": false,
     "input": [
      "import math \n",
      "\n",
      "# Variables:\n",
      "NDC = 1140. \t\t\t#rpm\n",
      "AB = 80./1000           #m\n",
      "CD = 40./1000           #m\n",
      "BE = 150./1000          #m\n",
      "DE = BE                 #m\n",
      "EP = 200./1000 \t\t\t#m\n",
      "\n",
      "#Solution:\n",
      "#Refer Fig. 8.25\n",
      "#Calculating the angular speed of the link CD\n",
      "omegaDC = 2*math.pi*NDC/60 \t\t\t#rad/s\n",
      "#Calculating the velocity of D with respect to C\n",
      "vDC = omegaDC*CD \t\t\t#m/s\n",
      "vD = vDC\n",
      "#Calculating the angular speed of the larger wheel\n",
      "omegaBA = omegaDC*CD/AB \t\t\t#rad/s\n",
      "#Calculating the velocity of B with respect to A\n",
      "vBA = omegaBA*AB \t\t\t#m/s\n",
      "vB = vBA\n",
      "#By measurement from the velocity diagram Fig. 8.25(b)\n",
      "vEB = 8.1\n",
      "vED = 0.15\n",
      "vPE = 4.7\n",
      "vP = 0.35 \t\t\t#m/s\n",
      "#Calculating the radial component of the acceleration of B with respect to A\n",
      "arBA = vBA**2/AB \t\t\t#m/s**2\n",
      "#Calculating the radial component of the acceleration of D with respect to C\n",
      "arDC = vDC**2/CD \t\t\t#m/s**2\n",
      "#Calculating the radial component of the acceleration of E with respect to B\n",
      "arEB = vEB**2/BE \t\t\t#m/s**2\n",
      "#Calculating the radial component of the acceleration of E with respect to D\n",
      "arED = vED**2/DE \t\t\t#m/s**2\n",
      "#Calculating the radial component of the acceleration of P with respect to E\n",
      "arPE = vPE**2/EP \t\t\t#m/s**2\n",
      "#By measurement from the acceleration diagram Fig. 8.25(c)\n",
      "aP = 655. \t\t\t#m/s**2\n",
      "\n",
      "#Results:\n",
      "print \" Velocity of P, vP  =  %.2f m/s.\"%(vP)\n",
      "print \" Acceleration of the piston P, aP  =  %d m/s**2.\"%(aP)\n"
     ],
     "language": "python",
     "metadata": {},
     "outputs": [
      {
       "output_type": "stream",
       "stream": "stdout",
       "text": [
        " Velocity of P, vP  =  0.35 m/s.\n",
        " Acceleration of the piston P, aP  =  655 m/s**2.\n"
       ]
      }
     ],
     "prompt_number": 13
    },
    {
     "cell_type": "heading",
     "level": 2,
     "metadata": {},
     "source": [
      "Example 8.13 Page No : 211"
     ]
    },
    {
     "cell_type": "code",
     "collapsed": false,
     "input": [
      "import math \n",
      "\n",
      "# Variables:\n",
      "NBA = 120. \t\t\t#rpm\n",
      "AB = 150./1000      #m\n",
      "OC = 700./1000      #m\n",
      "CD = 200./1000 \t\t#m\n",
      "\n",
      "#Solution:\n",
      "#Refer Fig. 8.29\n",
      "#Calculating the angular speed of the crank AB\n",
      "omegaAB = 2*math.pi*NBA/AB \t\t\t#rad/s\n",
      "#Calculating the velocity of B with respect to A\n",
      "vBA = omegaBA*AB \t\t\t#m/s\n",
      "#By measurement from the velocity diagram Fig. 8.29(b)\n",
      "vD = 2.15\n",
      "vBBdash = 1.05\n",
      "vDC = 0.45\n",
      "vBdashO = 1.55\n",
      "vCO = 2.15 \t\t\t#m/s\n",
      "BdashO = 0.52 \t\t\t#m\n",
      "#Calculating the angular velocity of the link OC or OB'\n",
      "omegaCO = vCO/OC \t\t\t#rad/s\n",
      "omegaBdashO = omegaCO \t\t\t#rad/s\n",
      "#Calculating the radial component of the acceleration of B with respect to A\n",
      "arBA = omegaAB**2/AB \t\t\t#m/s**2\n",
      "#Calculating the coriolis component of the acceleration of slider B with respect to the coincident point B'\n",
      "acBBdash = 2*omegaCO*vBBdash \t\t\t#m/s**2\n",
      "#Calculating the radial component of the acceleration of D with respect to C\n",
      "arDC = vDC**2/CD \t\t\t#m/s**2\n",
      "#Calculating the radial component of the acceleration of B' with respect to O\n",
      "arBdashO = vBdashO**2/BdashO \t\t\t#m/s**2\n",
      "#By measurement fro the acceleration diagram Fig. 8.29(c)\n",
      "aD = 8.4\n",
      "atBdashO = 6.4 \t\t\t#m/s**2\n",
      "#Calculating the angular acceleration of the slotted lever\n",
      "alpha = atBdashO/BdashO \t\t\t#The angular acceleration of the slotted lever rad/s**2\n",
      "\n",
      "#Results:\n",
      "print \" Velocity of the ram D, vD  =  %.2f m/s.\"%(vD)\n",
      "print \" Acceleration of the ram D, aD  =  %.1f m/s**2.\"%(aD)\n",
      "print \" Angular acceleration of the slotted lever  =  %.1f rad/s**2, anticlockwise.\"%(alpha)\n"
     ],
     "language": "python",
     "metadata": {},
     "outputs": [
      {
       "output_type": "stream",
       "stream": "stdout",
       "text": [
        " Velocity of the ram D, vD  =  2.15 m/s.\n",
        " Acceleration of the ram D, aD  =  8.4 m/s**2.\n",
        " Angular acceleration of the slotted lever  =  12.3 rad/s**2, anticlockwise.\n"
       ]
      }
     ],
     "prompt_number": 14
    },
    {
     "cell_type": "heading",
     "level": 2,
     "metadata": {},
     "source": [
      "Example 8.14 Page No : 214"
     ]
    },
    {
     "cell_type": "code",
     "collapsed": false,
     "input": [
      "import math \n",
      "\n",
      "# Variables:\n",
      "NBA = 200. \t\t\t#rpm\n",
      "AB = 75./1000       #m\n",
      "PQ = 375./1000      #m\n",
      "QR = 500./1000 \t\t#m\n",
      "\n",
      "#Solution:\n",
      "#Refer Fig. 8.31\n",
      "#Calculating the angular velocity of the crank AB\n",
      "omegaBA = 2*math.pi*NBA/60 \t\t\t#rad/s\n",
      "#Calculating the velocity of B with respect to A\n",
      "vBA = omegaBA*AB \t\t\t#m/s\n",
      "#By measurement from the velocity diagram Fig. 8.31(b)\n",
      "vR = 1.6\n",
      "vBdashB = 1.06\n",
      "vBdashP = 1.13\n",
      "vRQ = 0.4\n",
      "vQP = 1.7 \t\t\t#m/s\n",
      "PBdash = 248./1000 \t\t\t#m\n",
      "#Calculating the angular velocity of the link PQ\n",
      "omegaPQ = vQP/PQ \t\t\t#rad/s\n",
      "#Calculating the radial component of the acceleration of B with respect to A\n",
      "arBA = omegaBA**2*AB \t\t\t#m/s**2\n",
      "#Calculating the coriolis component of the acceleration of B with respect to coincident point B'\n",
      "acBBdash = 2*omegaPQ*vBdashB \t\t\t#m/s**2\n",
      "#Calculating the radial component of the acceleration of R with respect to Q\n",
      "arRQ = vRQ**2/QR \t\t\t#m/s**2\n",
      "#Calculating the radial component of the acceleration of B' with respect to P\n",
      "arBdashP = vBdashP**2/PBdash \t\t\t#m/s**2\n",
      "#By measurement from the acceleration diagram Fig. 8.31(d)\n",
      "aR = 22.\n",
      "aBBdash = 18. \t\t\t#m/s**2\n",
      "\n",
      "#Results:\n",
      "print \" Velocity of the tool-box R, vR  =  %.1f m/s.\"%(vR)\n",
      "print \" Acceleration of the tool-box R, aR  =  %d m/s**2.\"%(aR)\n",
      "print \" The acceleration of sliding of the block B along the slotted lever PQ, aBBdash  =  %d m/s**2.\"%(aBBdash)\n"
     ],
     "language": "python",
     "metadata": {},
     "outputs": [
      {
       "output_type": "stream",
       "stream": "stdout",
       "text": [
        " Velocity of the tool-box R, vR  =  1.6 m/s.\n",
        " Acceleration of the tool-box R, aR  =  22 m/s**2.\n",
        " The acceleration of sliding of the block B along the slotted lever PQ, aBBdash  =  18 m/s**2.\n"
       ]
      }
     ],
     "prompt_number": 15
    },
    {
     "cell_type": "heading",
     "level": 2,
     "metadata": {},
     "source": [
      "Example 8.15 Page No : 218"
     ]
    },
    {
     "cell_type": "code",
     "collapsed": false,
     "input": [
      "import math \n",
      "\n",
      "# Variables:\n",
      "NAO = 30. \t\t\t#rpm\n",
      "OA = 150./1000      #m\n",
      "OC = 100./1000      #m\n",
      "CD = 125./1000      #m\n",
      "DR = 500./1000 \t\t#m\n",
      "\n",
      "#Solution:\n",
      "#Refer Fig. 8.33\n",
      "#Calculating the angular speed of the crank OA\n",
      "omegaAO = 2*math.pi*NAO/60 \t\t\t#rad/s\n",
      "#Calculating the velocity of A with respect to O\n",
      "vAO = omegaAO*OA \t\t\t#m/s\n",
      "vA = vAO\n",
      "#By measurement from the velocity diagram Fig. 8.33(b)\n",
      "vBC = 0.46\n",
      "vAB = 0.15\n",
      "vRD = 0.12 \t\t\t#m/s\n",
      "CB = 240./1000 \t\t\t#m\n",
      "#Calculating the angular velocity of the link BC\n",
      "omegaBC = vBC/CB \t\t\t#rad/s\n",
      "#Calculating the radial component of the acceleration of A with respect to O\n",
      "arAO = vAO**2/OA \t\t\t#m/s**2\n",
      "#Calculating the coriolis component of the acceleration of A with respect to coincident point B\n",
      "acAB = 2*omegaBC*vAB \t\t\t#m/s**2\n",
      "#Calculating the radial component of the acceleration of B with respect to C\n",
      "arBC = vBC**2/CB \t\t\t#m/s**2\n",
      "#Calculating the radial component of the acceleration of R with respect to D\n",
      "arRD = vRD**2/DR \t\t\t#m/s**2\n",
      "#By measurement from the acceleration diagram Fig. 8.33(c)\n",
      "aR = 0.18\n",
      "atBC = 0.14 \t\t\t#m/s**2\n",
      "#Calculating the angular acceleration of the slotted lever CA\n",
      "alphaCA = atBC/CB \t\t\t#rad/s**2\n",
      "alphaBC = alphaCA\n",
      "\n",
      "#Results:\n",
      "print \" Acceleration of the sliding block R, aR  =  %.2f m/s**2.\"%(aR)\n",
      "print \" Angular acceleration of the slotted lever CA, alphaCA  =  %.3f rad/s**2, anticlockwise.\"%(alphaCA)\n"
     ],
     "language": "python",
     "metadata": {},
     "outputs": [
      {
       "output_type": "stream",
       "stream": "stdout",
       "text": [
        " Acceleration of the sliding block R, aR  =  0.18 m/s**2.\n",
        " Angular acceleration of the slotted lever CA, alphaCA  =  0.583 rad/s**2, anticlockwise.\n"
       ]
      }
     ],
     "prompt_number": 16
    },
    {
     "cell_type": "heading",
     "level": 2,
     "metadata": {},
     "source": [
      "Example 8.16 Page No : 221"
     ]
    },
    {
     "cell_type": "code",
     "collapsed": false,
     "input": [
      "import math \n",
      "\n",
      "# Variables:\n",
      "AB = 125./1000 \t\t\t#m\n",
      "NCO = 300. \t\t\t#rpm\n",
      "\n",
      "#Solution:\n",
      "#Refer Fig. 8.35\n",
      "#By measurement from the space diagram Fig. 8.35(a)\n",
      "OC = 85./1000 \t\t\t#m\n",
      "#Calculating the angular velocity of the link CO\n",
      "omegaCO = 2*math.pi*NCO/60 \t\t\t#rad/s\n",
      "#Calculating the velocity of C with respect to O\n",
      "vCO = omegaCO*OC \t\t\t#m/s\n",
      "vC = vCO\n",
      "#By measurement from the velocity diagram Fig. 8.35(b)\n",
      "vBC = 0.85\n",
      "vBA = 2.85\n",
      "vB = vBA \t\t\t#m/s\n",
      "#Calculating the radial component of of the acceleration of C with respect to O\n",
      "arCO = vCO**2/OC \t\t\t#m/s**2\n",
      "#Calculating the coriolis component of of acceleration of the piston B with respect to the cylinder or the coincident point C\n",
      "acBC = 2*omegaCO*vBC \t\t\t#m/s**2\n",
      "#Calculating the radial component of of the acceleration of B with respect to A\n",
      "arBA = vBA**2/AB \t\t\t#m/s**2\n",
      "#By measurement from the acceleration diagram Fig. 8.35(d)\n",
      "aBC = 73.2\n",
      "atBA = 37.6 \t\t\t#m/s**2\n",
      "#Calculating the angular acceleration of the connecting rod AB\n",
      "alphaAB = atBA/AB \t\t\t#rad/s**2\n",
      "\n",
      "#Results:\n",
      "print \" Acceleration of the piston inside the cylinder, aBC  =  %.1f m/s**2.\"%(aBC)\n",
      "print \" Angular acceleration of the connecting rod AB, alphaAB  =  %d rad/s**2, clockwise.\"%(alphaAB)\n"
     ],
     "language": "python",
     "metadata": {},
     "outputs": [
      {
       "output_type": "stream",
       "stream": "stdout",
       "text": [
        " Acceleration of the piston inside the cylinder, aBC  =  73.2 m/s**2.\n",
        " Angular acceleration of the connecting rod AB, alphaAB  =  300 rad/s**2, clockwise.\n"
       ]
      }
     ],
     "prompt_number": 17
    },
    {
     "cell_type": "heading",
     "level": 2,
     "metadata": {},
     "source": [
      "Example 8.17 Page No : 223"
     ]
    },
    {
     "cell_type": "code",
     "collapsed": false,
     "input": [
      "import math \n",
      "\n",
      "# Variables:\n",
      "NAO = 100. \t\t\t#rpm\n",
      "OA = 50./1000       #m\n",
      "AB = 350./1000      #m\n",
      "DE = 250./1000      #m\n",
      "EF = DE             #m\n",
      "CB = 125./1000 \t\t#m\n",
      "\n",
      "#Solution:\n",
      "#Refer Fig. 8.37\n",
      "#Calculating the angular velocity of the crank AO\n",
      "omegaAO = 2*math.pi*NAO/60 \t\t\t#rad/s\n",
      "#Calculating the velocity of A with respect to O\n",
      "vAO = omegaAO*OA \t\t\t#m/s\n",
      "vA = vAO\n",
      "#By measurement from the velocity diagram Fig. 8.37(b)\n",
      "vBA = 0.4\n",
      "vBC = 0.485\n",
      "vB = vBC\n",
      "vSD = 0.265\n",
      "vQS = 0.4\n",
      "vED = 0.73\n",
      "vFE = 0.6\n",
      "vF = 0.27 \t\t\t#m/s\n",
      "DS = 85./1000 \t\t\t#m\n",
      "#Calculating the angular velocity of the link DE\n",
      "omegaDE = vED/DE \t\t\t#rad/s\n",
      "#Calculating the velocity of sliding of the link DE in the swivel block\n",
      "vS = vQS \t\t\t#m/s\n",
      "#Calculating the radial component of the acceleration of A with respect to O\n",
      "arAO = vAO**2/OA \t\t\t#m/s**2\n",
      "#Calculating the radial component of the acceleration of B with respect to A\n",
      "arBA = vBA**2/AB \t\t\t#m/s**2\n",
      "#Calculating the radial component of the acceleration of B with respect to C\n",
      "arBC = vBC**2/CB \t\t\t#m/s**2\n",
      "#Calculating the radial component of the acceleration of S with respect to D\n",
      "arSD = vSD**2/DS \t\t\t#m/s**2\n",
      "#Calculating the coriolis component of the acceleration of Q with respect to S\n",
      "acQS = 2*omegaDE*vQS \t\t\t#m/s**2\n",
      "#Calculating the radial component of the acceleration of F with respect to E\n",
      "arFE = vFE**2/EF \t\t\t#m/s**2\n",
      "#By measurement from the acceleration diagram Fig. 8.37(d)\n",
      "arQS = 1.55 \t\t\t#m/s**2\n",
      "\n",
      "#Results:\n",
      "print \" Velocity of the slider block F, vF  =  %.2f m/s.\"%(vF)\n",
      "print \" Angular velocity of the link DE, omegaDE  =  %.2f rad/s, anticlockwise.\"%(omegaDE)\n",
      "print \" Velocity of sliding of the link DE in the swivel block, vS  =  %.1f m/s.\"%(vS)\n",
      "print \" Acceleration of sliding of the link DE in the trunnion, arQS  =  %.2f m/s**2.\"%(arQS)\n"
     ],
     "language": "python",
     "metadata": {},
     "outputs": [
      {
       "output_type": "stream",
       "stream": "stdout",
       "text": [
        " Velocity of the slider block F, vF  =  0.27 m/s.\n",
        " Angular velocity of the link DE, omegaDE  =  2.92 rad/s, anticlockwise.\n",
        " Velocity of sliding of the link DE in the swivel block, vS  =  0.4 m/s.\n",
        " Acceleration of sliding of the link DE in the trunnion, arQS  =  1.55 m/s**2.\n"
       ]
      }
     ],
     "prompt_number": 18
    }
   ],
   "metadata": {}
  }
 ]
}