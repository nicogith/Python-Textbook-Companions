{
 "metadata": {
  "name": "",
  "signature": "sha256:4504e5e6afcec1f6614278d6f9600661d0ec5a3c47dfce6a30afddafccb88875"
 },
 "nbformat": 3,
 "nbformat_minor": 0,
 "worksheets": [
  {
   "cells": [
    {
     "cell_type": "heading",
     "level": 1,
     "metadata": {},
     "source": [
      "Chapter 10 : Friction"
     ]
    },
    {
     "cell_type": "heading",
     "level": 2,
     "metadata": {},
     "source": [
      "Example 10.1 Page No : 263"
     ]
    },
    {
     "cell_type": "code",
     "collapsed": false,
     "input": [
      "import math\n",
      "from numpy import linalg\n",
      "\n",
      "# Variables:\n",
      "theta = 30. \t\t\t#degrees\n",
      "P1 = 180.    \t\t\t#Pulling force N\n",
      "P2 = 220.    \t\t\t#Pushing force N\n",
      "\n",
      "#Solution:\n",
      "#Resolving the forces horizontally for the pull of 180N\n",
      "F1 = P1*math.cos(math.radians(theta)) \t\t\t#N\n",
      "#Resolving the forces for the push of 220 N\n",
      "F2 = P2*math.cos(math.radians(theta)) \t\t\t#N\n",
      "#Calculating the coefficient of friction\n",
      "#For the pull of 180N F1 = mu*W-90*mu or F1/mu-W = -90        .....(i)\n",
      "#For the push of 220N F2 = W*mu+110*mu or F2/mu-W = 110      .....(ii)\n",
      "A = [[F1, -1],[ F2, -1]]\n",
      "B = [-90., 110.]\n",
      "V = linalg.solve(A, B)\n",
      "mu = 1/V[0]\n",
      "W = V[1]\n",
      "\n",
      "#Results:\n",
      "print \" The weight of the body, W  =  %d N.\"%(round(W,-2))\n",
      "print \" The coefficient of friction, mu  =  %.4f.\"%(mu)\n",
      "\n",
      "# note : rounding off error"
     ],
     "language": "python",
     "metadata": {},
     "outputs": [
      {
       "output_type": "stream",
       "stream": "stdout",
       "text": [
        " The weight of the body, W  =  1000 N.\n",
        " The coefficient of friction, mu  =  0.1732.\n"
       ]
      }
     ],
     "prompt_number": 4
    },
    {
     "cell_type": "heading",
     "level": 2,
     "metadata": {},
     "source": [
      "Example 10.2 Page No : 268"
     ]
    },
    {
     "cell_type": "code",
     "collapsed": false,
     "input": [
      "import math \n",
      "from numpy import linalg\n",
      "\n",
      "# Variables:\n",
      "P1 = 1500.\n",
      "P2 = 1720. \t\t\t#N\n",
      "alpha1 = 12.\n",
      "alpha2 = 15. \t\t\t#degrees\n",
      "\n",
      "#Solution:\n",
      "#Refer Fig. 10.10\n",
      "#Effort applied parallel to the plane P1 = W*(math.sin(alpha1)+mu*math.cos(alpha1)) or P1/W-mu*math.cos(alpha1) = math.sin(alpha1)    .....(i)\n",
      "#Effort applied parallel to the plane P2 = W*(math.sin(alpha2)+mu*math.cos(alpha2)) or P2/W-mu*math.cos(alpha2) = math.sin(alpha2)    .....(ii)\n",
      "A = [[P1, -math.cos(math.radians(alpha1))],[ P2, -math.cos(math.radians(alpha2))]]\n",
      "B = [math.sin(math.radians(alpha1)), math.sin(math.radians(alpha2))]\n",
      "V = linalg.solve(A, B)\n",
      "W = 1.0/V[0]\n",
      "mu = V[1]\n",
      "\n",
      "#Results:\n",
      "print \" Coefficient of friction, mu  =  %.3f.\"%(mu)\n",
      "print \" Weight of the body, W  =  %d N.\"%(W)\n"
     ],
     "language": "python",
     "metadata": {},
     "outputs": [
      {
       "output_type": "stream",
       "stream": "stdout",
       "text": [
        " Coefficient of friction, mu  =  0.131.\n",
        " Weight of the body, W  =  4462 N.\n"
       ]
      }
     ],
     "prompt_number": 2
    },
    {
     "cell_type": "heading",
     "level": 2,
     "metadata": {},
     "source": [
      "Example 10.3 Page No : 272"
     ]
    },
    {
     "cell_type": "code",
     "collapsed": false,
     "input": [
      "import math \n",
      "\n",
      "# Variables:\n",
      "W = 75.*1000 \t\t\t#W\n",
      "v = 300.     \t\t\t#mm/min\n",
      "p = 6.\n",
      "d0 = 40. \t    \t\t#mm\n",
      "mu = 0.1\n",
      "\n",
      "#Solution:\n",
      "#Calculating the mean diameter of the screw\n",
      "d = (d0-p/2)/1000 \t\t\t#m\n",
      "#Calculating the helix angle\n",
      "alpha = math.tan(p/(math.pi*d*1000)) \t\t\t#radians\n",
      "#Calculating the force required at the circumference of the screw\n",
      "phi = math.tan(mu) \t\t\t#Limiting angle of friction radians\n",
      "P = W*math.tan(alpha+phi) \t\t\t#N\n",
      "#Calculating the torque required to overcome the friction\n",
      "T = P*d/2 \t\t\t#N-m\n",
      "#Calculating the speed of the screw\n",
      "N = v/p \t\t\t#rpm\n",
      "#Calculating the angular speed\n",
      "omega = round(2*math.pi*N/60,2) \t\t\t#rad/s\n",
      "#Calculating the power of the motor\n",
      "Power = T*omega/1000 \t\t\t#Power of the motor kW\n",
      "\n",
      "#Results:\n",
      "print \" Power of the motor required  =  %.3f kW.\"%(Power)\n",
      "\n",
      "# rounding off error"
     ],
     "language": "python",
     "metadata": {},
     "outputs": [
      {
       "output_type": "stream",
       "stream": "stdout",
       "text": [
        " Power of the motor required  =  1.114 kW.\n"
       ]
      }
     ],
     "prompt_number": 4
    },
    {
     "cell_type": "heading",
     "level": 2,
     "metadata": {},
     "source": [
      "Example 10.4 Page No : 273"
     ]
    },
    {
     "cell_type": "code",
     "collapsed": false,
     "input": [
      "import math \n",
      "\n",
      "# Variables:\n",
      "p = 12.\n",
      "d = 40. \t\t\t#mm\n",
      "mu = 0.16\n",
      "W = 2500. \t\t\t#N\n",
      "\n",
      "#Solutiom:\n",
      "#Work done in drawing the wagons together agianst a steady load of 2500 N:\n",
      "#Calculating the helix angle\n",
      "alpha = math.tan(p/(math.pi*d)) \t\t\t#radians\n",
      "#Calculating the effort required at the circumference of the screw\n",
      "phi = math.tan(mu) \t\t\t#Limiting angle of friction radians\n",
      "P = W*math.tan(alpha+phi) \t\t\t#N\n",
      "#Calculating the torque required to overcome friction between the screw and nut\n",
      "T = P*d/(2*1000) \t\t\t#N-m\n",
      "#Calculating the number of turns required\n",
      "N = 240/(2*p)\n",
      "#Calculating the work done\n",
      "W1 = T*2*math.pi*N \t\t\t#Work done N-m\n",
      "#Work done in drawing the wagons together when the load increases from 2500 N to 6000 N:\n",
      "W2 = W1*(6000.-2500)/2500.0 \t\t\t#Work done N-m\n",
      "\n",
      "#Results:\n",
      "print \" Work done in drawing the wagons together agianst a steady load of 2500 N  =  %.1f N-m.\"%(W1)\n",
      "print \" Work done in drawing the wagons together when the load increases from 2500 N to 6000 N  =  %.1f N-m.\"%(W2)\n",
      "\n",
      "# note  : answer in book is wrong. "
     ],
     "language": "python",
     "metadata": {},
     "outputs": [
      {
       "output_type": "stream",
       "stream": "stdout",
       "text": [
        " Work done in drawing the wagons together agianst a steady load of 2500 N  =  826.2 N-m.\n",
        " Work done in drawing the wagons together when the load increases from 2500 N to 6000 N  =  1156.7 N-m.\n"
       ]
      }
     ],
     "prompt_number": 7
    },
    {
     "cell_type": "heading",
     "level": 2,
     "metadata": {},
     "source": [
      "Example 10.5 Page No : 274"
     ]
    },
    {
     "cell_type": "code",
     "collapsed": false,
     "input": [
      "import math \n",
      "\n",
      "# Variables:\n",
      "D = 150./1000 \t\t\t#m\n",
      "ps = 2.*10**6 \t\t\t#N/m**2\n",
      "d0 = 50.\n",
      "p = 6. \t\t\t#mm\n",
      "mu = 0.12\n",
      "\n",
      "#Solution:\n",
      "#Calculating the load on the valve\n",
      "W = ps*math.pi/4*D**2 \t\t\t#N\n",
      "#Calculating the mean diameter of the screw\n",
      "d = (d0-p/2)/1000 \t\t\t#m\n",
      "#Calculating the helix angle\n",
      "alpha = math.tan(p/(math.pi*d*1000))\n",
      "#Calculating the force required to turn the handle\n",
      "phi = math.tan(mu) \t\t\t#Limiting angle of friction radians\n",
      "P = W*math.tan(alpha+phi) \t\t\t#N\n",
      "#Calculating the torque required to turn the handle\n",
      "T = P*d/2 \t\t\t#N-m\n",
      "\n",
      "#Results:\n",
      "print \" The torque required to turn the handle, T  =  %.1f N-m.\"%(T)\n",
      "\n",
      "# rounding off error"
     ],
     "language": "python",
     "metadata": {},
     "outputs": [
      {
       "output_type": "stream",
       "stream": "stdout",
       "text": [
        " The torque required to turn the handle, T  =  135.1 N-m.\n"
       ]
      }
     ],
     "prompt_number": 3
    },
    {
     "cell_type": "heading",
     "level": 2,
     "metadata": {},
     "source": [
      "Example 10.6 Page No : 274"
     ]
    },
    {
     "cell_type": "code",
     "collapsed": false,
     "input": [
      "import math \n",
      "\n",
      "# Variables:\n",
      "dc = 22.5      #mm\n",
      "p = 5.         #mm\n",
      "D = 50.        #mm\n",
      "R = D/2        #mm\n",
      "l = 500. \t   #mm\n",
      "mu = 0.1\n",
      "mu1 = 0.16\n",
      "W = 10.*1000 \t\t\t#N\n",
      "\n",
      "#Solution:\n",
      "#Calculating the mean diameter of the screw\n",
      "d = dc+p/2 \t\t\t#mm\n",
      "#Calculating the helix angle\n",
      "alpha = p/(math.pi*d) \t\t\t#radians\n",
      "#Calculating the force required at the circumference of the screw\n",
      "phi = math.tan(mu) \t\t\t#Limiting angle of friction radians\n",
      "P = W*math.tan(alpha+phi) \t\t\t#N\n",
      "#Calculating the total torque required\n",
      "T = P*d/2+mu1*W*R \t\t\t#N-mm\n",
      "#Calculating the force required at the end of a spanner\n",
      "P1 = T/l \t\t\t#N\n",
      "\n",
      "#Results:\n",
      "print \" Force required at the end of a spanner, P1  =  %.2f N.\"%(P1)\n"
     ],
     "language": "python",
     "metadata": {},
     "outputs": [
      {
       "output_type": "stream",
       "stream": "stdout",
       "text": [
        " Force required at the end of a spanner, P1  =  121.37 N.\n"
       ]
      }
     ],
     "prompt_number": 8
    },
    {
     "cell_type": "heading",
     "level": 2,
     "metadata": {},
     "source": [
      "Example 10.7 Page No : 275"
     ]
    },
    {
     "cell_type": "code",
     "collapsed": false,
     "input": [
      "import math \n",
      "\n",
      "# Variables:\n",
      "d = 50.             #mm\n",
      "p = 12.5            #mm\n",
      "D = 60.             #mm\n",
      "R = D/2 \t\t\t#mm\n",
      "W = 10.*1000        #N\n",
      "P1 = 100. \t\t\t#N\n",
      "mu = 0.15\n",
      "mu1 = 0.18\n",
      "\n",
      "#Solution:\n",
      "#Calculating the helix angle\n",
      "alpha = math.tan(p/(math.pi*d)) \t\t\t#radians\n",
      "#Calculating the math.tangential force required at the circumference of the screw\n",
      "phi = math.tan(mu) \t\t\t#Limiting angle of friction radians\n",
      "P = W*math.tan(alpha+phi) \t\t\t#N\n",
      "#Calculating the total torque required to turn the hand wheel\n",
      "T = P*d/2+mu1*W*R \t\t\t#N-mm\n",
      "#Calculating the diameter of the hand wheel\n",
      "D1 = T/(2*P1*1000)*2 \t\t\t#m\n",
      "\n",
      "#Results:\n",
      "print \" Diameter of the hand wheel, D1  =  %.3f m.\"%(D1)\n"
     ],
     "language": "python",
     "metadata": {},
     "outputs": [
      {
       "output_type": "stream",
       "stream": "stdout",
       "text": [
        " Diameter of the hand wheel, D1  =  1.128 m.\n"
       ]
      }
     ],
     "prompt_number": 10
    },
    {
     "cell_type": "heading",
     "level": 2,
     "metadata": {},
     "source": [
      "Example 10.8 Page No : 276"
     ]
    },
    {
     "cell_type": "code",
     "collapsed": false,
     "input": [
      "import math \n",
      "\n",
      "# Variables:\n",
      "d0 = 55.          #mm\n",
      "D2 = 60.          #mm\n",
      "R2 = D2/2         #mm\n",
      "D1 = 90.          #mm\n",
      "R1 = D1/2 \t\t  #mm\n",
      "p = 10./1000 \t  #m\n",
      "W = 400. \t\t  #N\n",
      "mu = 0.15\n",
      "v = 6. \t\t\t#Cutting speed m/min\n",
      "\n",
      "#Solution:\n",
      "#Calculating the mean diameter of the screw\n",
      "d = d0-p/2 \t\t\t#mm\n",
      "#Calculating the helix angle\n",
      "alpha = p/(math.pi*d) \t\t\t#radians\n",
      "#Calculating the force required at the circumference of the screw\n",
      "phi = math.tan(mu) \t\t\t#Limiting angle of friction radians\n",
      "P = W*math.tan(alpha+phi) \t\t\t#N\n",
      "#Calculating the mean radius of the flat surface\n",
      "R = (R1+R2)/2 \t\t\t#mm\n",
      "#Calculating the torque required\n",
      "T = (P*d/2+mu1*W*R)/1000 \t\t\t#N-m\n",
      "#Calculating the speed of the screw\n",
      "N = v/p \t\t\t#rpm\n",
      "#Calculating the angular speed\n",
      "omega = 2*math.pi*N/60 \t\t\t#rad/s\n",
      "#Calculating the power required to operate the nut\n",
      "Power = T*omega/1000 \t\t\t#Power required to operate the nut kW\n",
      "\n",
      "#Results:\n",
      "print \" Power required to operate the nut  =  %.3f kW.\"%(Power)\n"
     ],
     "language": "python",
     "metadata": {},
     "outputs": [
      {
       "output_type": "stream",
       "stream": "stdout",
       "text": [
        " Power required to operate the nut  =  0.275 kW.\n"
       ]
      }
     ],
     "prompt_number": 11
    },
    {
     "cell_type": "heading",
     "level": 2,
     "metadata": {},
     "source": [
      "Example 10.9 Page No : 277"
     ]
    },
    {
     "cell_type": "code",
     "collapsed": false,
     "input": [
      "import math \n",
      "\n",
      "# Variables:\n",
      "d = 50./1000\n",
      "l = 0.7 \t\t\t#m\n",
      "p = 10. \t\t\t#mm\n",
      "mu = 0.15\n",
      "W = 20.*1000 \t\t\t#N\n",
      "\n",
      "#Solution:\n",
      "#Calculating the helix angle\n",
      "alpha = math.tan(p/(math.pi*d*1000)) \t\t\t#radians\n",
      "#Force required to raise the load:\n",
      "#Calculating the force required at the circumference of the screw\n",
      "phi = math.tan(mu) \t\t\t#Limiting angle of friction radians\n",
      "P1 = W*math.tan(alpha+phi) \t\t\t#N\n",
      "#Calculating the force required at the end of the lever\n",
      "P11 = P1*d/(2*l) \t\t\t#N\n",
      "#Calculating the force required at the circumference of the screw\n",
      "P2 = W*(phi-alpha) \t\t\t#N\n",
      "#Foce rewuired to lower the load:\n",
      "#Calculating the force required at the end of the lever\n",
      "P21 = P2*d/(2*l) \t\t\t#N\n",
      "\n",
      "#Results:\n",
      "print \" Force required at the end of the lever to raise the load, P1  =  %d N.\"%(P11)\n",
      "print \" Force required at the end of the lever to lower the load, P1  =  %d N.\"%(P21)\n"
     ],
     "language": "python",
     "metadata": {},
     "outputs": [
      {
       "output_type": "stream",
       "stream": "stdout",
       "text": [
        " Force required at the end of the lever to raise the load, P1  =  155 N.\n",
        " Force required at the end of the lever to lower the load, P1  =  62 N.\n"
       ]
      }
     ],
     "prompt_number": 12
    },
    {
     "cell_type": "heading",
     "level": 2,
     "metadata": {},
     "source": [
      "Example 10.10 Page No : 279"
     ]
    },
    {
     "cell_type": "code",
     "collapsed": false,
     "input": [
      "import math \n",
      "\n",
      "# Variables:\n",
      "d = 50.\n",
      "p = 12.5 \t\t\t#mm\n",
      "mu = 0.13\n",
      "W = 25.*1000 \t\t\t#N\n",
      "\n",
      "#Solution:\n",
      "#Calculating the helix angle\n",
      "alpha = round(math.tan(p/(math.pi*d)),2) \t\t\t#radians\n",
      "#Calculating the force required on the screw to raise the load\n",
      "phi = round(math.tan(mu),2) \t\t\t#Limiting angle of friction radians\n",
      "P1 = W*(alpha+phi)/(1-(alpha*phi)) \t\t\t#N\n",
      "#Calculating the torque required on the screw to raise the load\n",
      "T1 = P1*d/2 \t\t\t#N-mm\n",
      "#Calculating the force required on the screw to lower the load\n",
      "P2 = W*math.tan(phi-alpha) \t\t\t#N\n",
      "#Calculating the torque required to lower the load\n",
      "T2 = P2*d/2 \t\t\t#N\n",
      "#Calculating the ratio of the torques required\n",
      "r = T1/T2 \t\t\t#Ratio of the torques required N-mm\n",
      "#Calculating the efficiency of the machine\n",
      "eta = math.tan(alpha)/math.tan(alpha+phi)*100 \t\t\t#%\n",
      "\n",
      "#Results:\n",
      "print \" Torque required on the screw to raise the load, T1  =  %d N-mm.\"%(T1)\n",
      "print \" Ratio of the torque required to raise the load to the torque required to lower the load  =  %.1f.\"%(r)\n",
      "print \" Efficiency of the machine, eta  =  %.1f %%.\"%(eta)\n",
      "\n",
      "# rounding off error"
     ],
     "language": "python",
     "metadata": {},
     "outputs": [
      {
       "output_type": "stream",
       "stream": "stdout",
       "text": [
        " Torque required on the screw to raise the load, T1  =  132629 N-mm.\n",
        " Ratio of the torque required to raise the load to the torque required to lower the load  =  4.2.\n",
        " Efficiency of the machine, eta  =  37.6 %.\n"
       ]
      }
     ],
     "prompt_number": 14
    },
    {
     "cell_type": "heading",
     "level": 2,
     "metadata": {},
     "source": [
      "Example 10.11 Page No : 280"
     ]
    },
    {
     "cell_type": "code",
     "collapsed": false,
     "input": [
      "import math \n",
      "\n",
      "# Variables:\n",
      "p = 10.    #mm\n",
      "d = 50.    #mm\n",
      "D2 = 60.   #mm\n",
      "R2 = D2/2  #mm\n",
      "D1 = 10.   #mm\n",
      "R1 = D1/2 \t\t#mm\n",
      "W = 20.*1000 \t#N\n",
      "mu = 0.08\n",
      "mu1 = mu\n",
      "\n",
      "#Solution:\n",
      "#Calculating the helix angle\n",
      "alpha = round(math.tan(p/(math.pi*d)),4) \t\t\t#radians\n",
      "#Calculating the force required at the circumference of the screw to lift the load\n",
      "phi = round(math.tan(mu),2) \t\t\t#Limiting angle of friction radians\n",
      "P = round(W*(alpha+phi)/(1 - (alpha*phi)),-1)  #math.tan(alpha+phi) \t\t\t#N\n",
      "#Calculating the torque required to overcome friction at the screw\n",
      "T = P*d/(2*1000) \t\t\t#N-m\n",
      "#Calculating the number of rotations made by the screw\n",
      "N = 170/p\n",
      "#When the load rotates with the screw:\n",
      "#Calculating the work done in lifting the load\n",
      "W1 = T*2*math.pi*N \t\t\t#Work done in lifting the load N-m\n",
      "#Calculating the efficiency of the screw jack\n",
      "eta1 = math.tan(alpha)/math.tan(alpha+phi)*100 \t\t\t#%\n",
      "#When the load does not rotate with the screw:\n",
      "#Calculating the mean radius of the bearing surface\n",
      "R = (R1+R2)/2 \t\t\t#mm\n",
      "#Calculating the torque required to overcome friction at the screw and the collar\n",
      "T = (P*d/2+mu1*W*R)/1000 \t\t\t#N-m\n",
      "#Calculating the work done by the torque in lifting the load\n",
      "W2 = T*2*math.pi*N \t\t\t#Work done by the torque in lifting the load N-m\n",
      "#Calculating the torque required to lift the load neglecting frition\n",
      "T0 = (W*math.tan(alpha)*d/2)/1000 \t\t\t#N-m\n",
      "#Calculating the efficiency of the screw jack\n",
      "eta2 = T0/T*100 \t\t\t#%\n",
      "\n",
      "#Results:\n",
      "print \" When the load rotates with the screw, work done in lifting the load  =  %.f N-m.\"%(W1)\n",
      "print \" Efficiency of the screw jack, eta  =  %.1f %%.\"%(eta1)\n",
      "print \" When the load does not rotate with the screw, work done in lifting the load  =  %d N-m.\"%(round(W2,-1))\n",
      "print \" Efficiency of the screw jack, eta  =  %.1f %%.\"%(eta2)\n",
      "\n",
      "# rounding off error"
     ],
     "language": "python",
     "metadata": {},
     "outputs": [
      {
       "output_type": "stream",
       "stream": "stdout",
       "text": [
        " When the load rotates with the screw, work done in lifting the load  =  7717 N-m.\n",
        " Efficiency of the screw jack, eta  =  44.1 %.\n",
        " When the load does not rotate with the screw, work done in lifting the load  =  10710 N-m.\n",
        " Efficiency of the screw jack, eta  =  31.8 %.\n"
       ]
      }
     ],
     "prompt_number": 24
    },
    {
     "cell_type": "heading",
     "level": 2,
     "metadata": {},
     "source": [
      "Example 10.12 Page No : 282"
     ]
    },
    {
     "cell_type": "code",
     "collapsed": false,
     "input": [
      "import math\n",
      "# Variables:\n",
      "W = 10.*1000        #N\n",
      "P1 = 100. \t\t\t#N\n",
      "p = 12.             #mm\n",
      "d = 50. \t\t\t#mm\n",
      "mu = 0.15\n",
      "\n",
      "#Solution:\n",
      "#Calculating the helix angle\n",
      "alpha = math.tan(p/(math.pi*d)) \t\t\t#radians\n",
      "#Calculating the effort required at the circumference of the screw to raise the load\n",
      "phi = math.tan(mu) \t\t\t#Limiting angle of friction radians\n",
      "P = W*math.tan(alpha+phi) \t\t\t#N\n",
      "#Calculating the torque required to overcome friction\n",
      "T = P*d/2 \t\t\t#N-mm\n",
      "#Calculating the length of the lever\n",
      "l = T/P1 \t\t\t#mm\n",
      "#Calculating the mechanical advantage\n",
      "MA = W/P1\n",
      "#Calculating the efficiency of the screw jack\n",
      "eta = math.tan(alpha)/math.tan(alpha+phi)*100 \t\t\t#%\n",
      "\n",
      "#Results:\n",
      "print \" The length of the lever to be used, l  =  %.1f mm.\"%(l)\n",
      "print \" Mechanical advantage obtained, M.A.  =  %d.\"%(MA)\n",
      "if eta<50:\n",
      "    print \" The screw is a self locking screw.\";\n",
      "else:\n",
      "    print \" The screw is not a self locking screw.\";\n"
     ],
     "language": "python",
     "metadata": {},
     "outputs": [
      {
       "output_type": "stream",
       "stream": "stdout",
       "text": [
        " The length of the lever to be used, l  =  579.2 mm.\n",
        " Mechanical advantage obtained, M.A.  =  100.\n",
        " The screw is a self locking screw.\n"
       ]
      }
     ],
     "prompt_number": 17
    },
    {
     "cell_type": "heading",
     "level": 2,
     "metadata": {},
     "source": [
      "Example 10.13 Page No : 284"
     ]
    },
    {
     "cell_type": "code",
     "collapsed": false,
     "input": [
      "import math \n",
      "\n",
      "# Variables:\n",
      "d = 22.         #mm\n",
      "p = 3. \t\t\t#mm\n",
      "beta = 60./2 \t\t\t#degrees\n",
      "W = 40.*1000 \t\t\t#N\n",
      "mu = 0.15\n",
      "\n",
      "#Solution:\n",
      "#Calculating the helix angle\n",
      "alpha = round(math.tan(p/(math.pi*d)),4) \t\t\t#radians\n",
      "#Calculating the virtual coefficient of friction\n",
      "mu1 = round(mu/math.cos(math.radians(beta)),3)\n",
      "#Calculating the force required at the circumference of the screw\n",
      "P = W*((alpha+mu1)/(1 - alpha * mu1))\n",
      "#Calculating the torque on one rod\n",
      "T = P*d/(2.*1000) \t\t\t#N-m\n",
      "#Calculating the torque required on the nut\n",
      "T1 = 2*T \t\t\t#N-m\n",
      "\n",
      "\n",
      "#Results:\n",
      "print \" The torque required on the nut, T1  =  %.2f N-m.\"%(T1)\n"
     ],
     "language": "python",
     "metadata": {},
     "outputs": [
      {
       "output_type": "stream",
       "stream": "stdout",
       "text": [
        " The torque required on the nut, T1  =  191.87 N-m.\n"
       ]
      }
     ],
     "prompt_number": 1
    },
    {
     "cell_type": "heading",
     "level": 2,
     "metadata": {},
     "source": [
      "Example 10.14 Page No : 284 "
     ]
    },
    {
     "cell_type": "code",
     "collapsed": false,
     "input": [
      "import math \n",
      "\n",
      "# Variables:\n",
      "d = 25.             #mm\n",
      "p = 5.              #mm\n",
      "R = 25. \t\t\t#mm\n",
      "beta = 27.5 \t\t#degrees\n",
      "mu = 0.1\n",
      "mu2 = 0.16\n",
      "l = 0.5 \t\t\t#m\n",
      "W = 10.*1000 \t\t#N\n",
      "\n",
      "#Solution:\n",
      "#Calculating the virtual coefficient of friction\n",
      "mu1 = mu/math.cos(math.radians(beta))\n",
      "#Calculating the helix angle\n",
      "alpha = math.tan(p/(math.pi*d)) \t\t\t#radians\n",
      "#Calculating the force on the screw\n",
      "phi1 = math.tan(mu1) \t\t\t#Virtual limiting angle of frcition radians\n",
      "P = W*math.tan(alpha+phi1) \t\t\t#N\n",
      "#Calculating the total torque transmitted\n",
      "T = (P*d/2+mu2*W*R)/1000 \t\t\t#N-m\n",
      "#Calculating the force required at the end of a spanner\n",
      "P1 = T/l \t\t\t#N\n",
      "\n",
      "#Results:\n",
      "print \" Force required at the end of a spanner, P1  =  %.1f N.\"%(P1)\n"
     ],
     "language": "python",
     "metadata": {},
     "outputs": [
      {
       "output_type": "stream",
       "stream": "stdout",
       "text": [
        " Force required at the end of a spanner, P1  =  124.7 N.\n"
       ]
      }
     ],
     "prompt_number": 16
    },
    {
     "cell_type": "heading",
     "level": 2,
     "metadata": {},
     "source": [
      "Example 10.15 Page No : 286"
     ]
    },
    {
     "cell_type": "code",
     "collapsed": false,
     "input": [
      "import math \n",
      "\n",
      "# Variables:\n",
      "d = 60.\n",
      "r = d/2. \t\t\t#mm\n",
      "W = 2000. \t\t\t#N\n",
      "mu = 0.03\n",
      "N = 1440. \t\t\t#rpm\n",
      "\n",
      "#Solution:\n",
      "#Calculating the angular speed of the shaft\n",
      "omega = 2*math.pi*N/60 \t\t\t#rad/s\n",
      "#Calculating the torque transmitted\n",
      "T = mu*W*(r/1000) \t\t\t#N-m\n",
      "#Calculating the power transmitted\n",
      "P = T*omega \t\t\t#W\n",
      "\n",
      "#Results:\n",
      "print \" The power transmitted, P  =  %.1f W.\"%(P)\n"
     ],
     "language": "python",
     "metadata": {},
     "outputs": [
      {
       "output_type": "stream",
       "stream": "stdout",
       "text": [
        " The power transmitted, P  =  271.4 W.\n"
       ]
      }
     ],
     "prompt_number": 20
    },
    {
     "cell_type": "heading",
     "level": 2,
     "metadata": {},
     "source": [
      "Example 10.16 Page No : 288"
     ]
    },
    {
     "cell_type": "code",
     "collapsed": false,
     "input": [
      "import math \n",
      "\n",
      "# Variables:\n",
      "D = 150./1000       #m\n",
      "R = D/2 \t\t\t#m\n",
      "N = 100. \t\t\t#rpm\n",
      "W = 20.*1000 \t\t\t#N\n",
      "mu = 0.05\n",
      "\n",
      "#Solution:\n",
      "#Calculating the angular speed of the shaft\n",
      "omega = 2*math.pi*N/60 \t\t\t#rad/s\n",
      "#Calculating the total frictional torque for uniform pressure distribution\n",
      "T = 2./3*mu*W*R \t\t\t#N-m\n",
      "#Calculating the power lost in friction\n",
      "P = T*omega \t\t\t#W\n",
      "\n",
      "#Results:\n",
      "print \" Power lost in friction, P  =  %.1f W.\"%(P)\n"
     ],
     "language": "python",
     "metadata": {},
     "outputs": [
      {
       "output_type": "stream",
       "stream": "stdout",
       "text": [
        " Power lost in friction, P  =  523.6 W.\n"
       ]
      }
     ],
     "prompt_number": 21
    },
    {
     "cell_type": "heading",
     "level": 2,
     "metadata": {},
     "source": [
      "Example 10.17 Page No : 292"
     ]
    },
    {
     "cell_type": "code",
     "collapsed": false,
     "input": [
      "import math \n",
      "\n",
      "# Variables:\n",
      "W = 20.*1000 \t\t\t#N\n",
      "alpha = 120./2 \t\t\t#degrees\n",
      "Pn = 0.3     \t\t\t#N/mm**2\n",
      "N = 200. \t    \t\t#rpm\n",
      "mu = 0.1\n",
      "\n",
      "#Solution:\n",
      "#Calculating the angular speed of the shaft\n",
      "omega = 2*math.pi*N/60 \t\t\t#rad/s\n",
      "#Calculating the inner radius of the bearing surface\n",
      "r2 = math.sqrt(W/(3*math.pi*Pn)) \t\t\t#mm\n",
      "#Calculating the outer radius of the bearing surface\n",
      "r1 = 2*r2 \t\t\t#mm\n",
      "#Calculating the total frictional torque assuming uniform pressure\n",
      "T = 2./3*mu*W*(1/math.sin(math.radians(alpha)))*(r1**3-r2**3)/(r1**2-r2**2)/1000.0 \t\t\t#N-m\n",
      "#Calculating the power absorbed in friction\n",
      "P = T*omega/1000.0 \t\t\t#kW\n",
      "\n",
      "#Results:\n",
      "print \"External Diameters r1= %.f mm\"%r1\n",
      "print \"Internal Diameters r2= %.f mm\"%r2\n",
      "print \" Power absorbed in friction, P  =  %.3f kW.\"%(P)\n"
     ],
     "language": "python",
     "metadata": {},
     "outputs": [
      {
       "output_type": "stream",
       "stream": "stdout",
       "text": [
        "External Diameters r1= 168 mm\n",
        "Internal Diameters r2= 84 mm\n",
        " Power absorbed in friction, P  =  6.328 kW.\n"
       ]
      }
     ],
     "prompt_number": 27
    },
    {
     "cell_type": "heading",
     "level": 2,
     "metadata": {},
     "source": [
      "Example 10.18 Page No : 292"
     ]
    },
    {
     "cell_type": "code",
     "collapsed": false,
     "input": [
      "import math \n",
      "\n",
      "# Variables:\n",
      "D = 200./1000\n",
      "R = D/2 \t\t\t#m\n",
      "W = 30.*1000 \t\t\t#N\n",
      "alpha = 120./2 \t\t\t#degrees\n",
      "mu = 0.025\n",
      "N = 140. \t\t\t#rpm\n",
      "\n",
      "#Solution:\n",
      "#Calculating the angular speed of the shaft\n",
      "omega = 2*math.pi*N/60 \t\t\t#rad/s\n",
      "#Power lost in friction assuming uniform pressure:\n",
      "#Calculating the total frictional torque\n",
      "T = 2./3*mu*W*R*(1/math.sin(math.radians(alpha))) \t\t\t#N-m\n",
      "#Calculating the power lost in friction\n",
      "P1 = T*omega \t\t\t#Power lost in friction W\n",
      "#Power lost in friction assuming uniform wear:\n",
      "#Calculating the total frictional torque\n",
      "T = 1./2*mu*W*R*(1./math.sin(math.radians(alpha))) \t\t\t#N-m\n",
      "#Calculating the power lost in friction\n",
      "P2 = T*omega \t\t\t#Power lost in friction W\n",
      "\n",
      "#Resluts:\n",
      "print \" Power lost in friction assuming uniform pressure, P  =  %d W.\"%(P1)\n",
      "print \" Power lost in friction assuming uniform wear, P  =  %.1f W.\"%(P2)\n"
     ],
     "language": "python",
     "metadata": {},
     "outputs": [
      {
       "output_type": "stream",
       "stream": "stdout",
       "text": [
        " Power lost in friction assuming uniform pressure, P  =  846 W.\n",
        " Power lost in friction assuming uniform wear, P  =  634.8 W.\n"
       ]
      }
     ],
     "prompt_number": 19
    },
    {
     "cell_type": "heading",
     "level": 2,
     "metadata": {},
     "source": [
      "Example 10.19 Page No : 295"
     ]
    },
    {
     "cell_type": "code",
     "collapsed": false,
     "input": [
      "import math \n",
      "\n",
      "# Variables:\n",
      "n = 6.\n",
      "d1 = 600.          #mm\n",
      "r1 = d1/2          #mm\n",
      "d2 = 300.          #mm\n",
      "r2 = d2/2 \t\t   #mm\n",
      "W = 100.*1000 \t   #N\n",
      "mu = 0.12\n",
      "N = 90. \t\t\t#rpm\n",
      "\n",
      "#Solution:\n",
      "#Calculating the angular speed of the engine\n",
      "omega = 2*math.pi*N/60.0 \t\t\t#rad/s\n",
      "#Power absorbed in friction assuming uniform pressure:\n",
      "#Calculating the total frictional torque transmitted\n",
      "T = 2./3*mu*W*(r1**3-r2**3)/(r1**2-r2**2)/1000.0 \t\t\t#N-m\n",
      "#Calculating the power absorbed in friction\n",
      "P1 = T*omega/1000.0 \t\t\t#Power absorbed in friction assuming uniform pressure kW\n",
      "#Power absorbed in friction assuming uniform wear:\n",
      "#Calculating the total frictional torque transmitted\n",
      "T = 1./2*mu*W*(r1+r2)/1000.0 \t\t\t#N-m\n",
      "#Calculating the power absorbed in friction\n",
      "P2 = T*omega/1000.0 \t\t\t#Power absorbed in friction assuming uniform wear kW\n",
      "\n",
      "#Results:\n",
      "print \" Power absorbed in friction assuming uniform pressure, P  =  %.1f kW.\"%(P1)\n",
      "print \" Power absorbed in friction assuming uniform wear, P  =  %.2f kW.\"%(P2)\n"
     ],
     "language": "python",
     "metadata": {},
     "outputs": [
      {
       "output_type": "stream",
       "stream": "stdout",
       "text": [
        " Power absorbed in friction assuming uniform pressure, P  =  26.4 kW.\n",
        " Power absorbed in friction assuming uniform wear, P  =  25.45 kW.\n"
       ]
      }
     ],
     "prompt_number": 21
    },
    {
     "cell_type": "heading",
     "level": 2,
     "metadata": {},
     "source": [
      "Example 10.20 Page No : 296"
     ]
    },
    {
     "cell_type": "code",
     "collapsed": false,
     "input": [
      "import math \n",
      "\n",
      "# Variables:\n",
      "d1 = 400.           #mm\n",
      "r1 = d1/2           #mm\n",
      "d2 = 250.           #mm\n",
      "r2 = d2/2 \t\t\t#mm\n",
      "p = 0.35 \t\t\t#N/mm**2\n",
      "mu = 0.05\n",
      "N = 105. \t\t\t#rpm\n",
      "W = 150.*1000 \t\t\t#N\n",
      "\n",
      "#Solution:\n",
      "#Calculating the angular speed of the shaft\n",
      "omega = 2*math.pi*N/60 \t\t\t#rad/s\n",
      "#Calculating the total frictional torque transmitted for uniform pressure\n",
      "T = 2./3*mu*W*(r1**3-r2**3)/(r1**2-r2**2)/1000 \t\t\t#N-m\n",
      "#Calculating the power absorbed\n",
      "P = T*omega/1000 \t\t\t#kW\n",
      "#Calculating the number of collars required\n",
      "n = W/(p*math.pi*(r1**2-r2**2))\n",
      "\n",
      "#Results:\n",
      "print \" Power absorbed, P  =  %.2f kW.\"%(P)\n",
      "print \" Number of collars required, n  =  %d.\"%(n+1)\n"
     ],
     "language": "python",
     "metadata": {},
     "outputs": [
      {
       "output_type": "stream",
       "stream": "stdout",
       "text": [
        " Power absorbed, P  =  13.64 kW.\n",
        " Number of collars required, n  =  6.\n"
       ]
      }
     ],
     "prompt_number": 27
    },
    {
     "cell_type": "heading",
     "level": 2,
     "metadata": {},
     "source": [
      "Example 10.21 Page No : 296"
     ]
    },
    {
     "cell_type": "code",
     "collapsed": false,
     "input": [
      "import math \n",
      "\n",
      "# Variables:\n",
      "d2 = 300./1000      #mm\n",
      "r2 = d2/2 \t\t\t#m\n",
      "W = 200.*1000 \t\t#N\n",
      "N = 75. \t\t\t#rpm\n",
      "mu = 0.05\n",
      "p = 0.3 \t\t\t#N/mm**2\n",
      "P = 16.*1000 \t\t#W\n",
      "\n",
      "#Solution:\n",
      "#Calculating the angular velocity of the shaft\n",
      "omega = 2*math.pi*N/60 \t\t\t#rad/s\n",
      "#Calculating the total frictional torque transmitted\n",
      "T = P/omega \t\t\t#N-m\n",
      "#Calculating the external diameter of the collar\n",
      "#We have T = 2/3*mu*W*(r1**3-r2**3)/(r1**2-r2**2) or (2*mu*W)*r1**2-(3*T-2*mu*W*r2)*r1+(2*mu*W*r2**2-3*T*r2) = 0\n",
      "A = 2*mu*W\n",
      "B = -(3*T-2*mu*W*r2)\n",
      "C = 2*mu*W*r2**2-3*T*r2\n",
      "r1 = (-B+math.sqrt(B**2-4*A*C))/(2*A)*1000 \t\t\t#mm\n",
      "d1 = 2*r1 \t\t\t#mm\n",
      "#Calculating the number of collars\n",
      "n = W/(p*math.pi*(r1**2-(r2*1000)**2))\n",
      "\n",
      "#Results:\n",
      "print \" External diameter of the collar, d1  =  %d mm.\"%(d1)\n",
      "print \" Number of collars, n  =  %d.\"%(n+1)\n"
     ],
     "language": "python",
     "metadata": {},
     "outputs": [
      {
       "output_type": "stream",
       "stream": "stdout",
       "text": [
        " External diameter of the collar, d1  =  498 mm.\n",
        " Number of collars, n  =  6.\n"
       ]
      }
     ],
     "prompt_number": 28
    },
    {
     "cell_type": "heading",
     "level": 2,
     "metadata": {},
     "source": [
      "Example 10.22 Page No : 302"
     ]
    },
    {
     "cell_type": "code",
     "collapsed": false,
     "input": [
      "import math \n",
      "\n",
      "# Variables:\n",
      "W = 4.*1000 \t\t#N\n",
      "r2 = 50.\n",
      "r1 = 100. \t\t\t#mm\n",
      "\n",
      "#Solution:\n",
      "#Calculating the maximum pressure\n",
      "pmax = W/(2*math.pi*r2*(r1-r2)) \t\t\t#N/mm**2\n",
      "#Calculating the minimum pressure\n",
      "pmin = W/(2*math.pi*r1*(r1-r2)) \t\t\t#N/mm**2\n",
      "#Calculating the average pressure\n",
      "pav = W/(math.pi*(r1**2-r2**2)) \t\t\t#N/mm**2\n",
      "\n",
      "#Results:\n",
      "print \" Maximum pressure, pmax  =  %.4f N/mm**2.\"%(pmax)\n",
      "print \" Minimum pressure, pmin  =  %.4f N/mm**2.\"%(pmin)\n",
      "print \" Average pressure, pav  =  %.2f N/mm**2.\"%(pav)\n"
     ],
     "language": "python",
     "metadata": {},
     "outputs": [
      {
       "output_type": "stream",
       "stream": "stdout",
       "text": [
        " Maximum pressure, pmax  =  0.2546 N/mm**2.\n",
        " Minimum pressure, pmin  =  0.1273 N/mm**2.\n",
        " Average pressure, pav  =  0.17 N/mm**2.\n"
       ]
      }
     ],
     "prompt_number": 29
    },
    {
     "cell_type": "heading",
     "level": 2,
     "metadata": {},
     "source": [
      "Example 10.23 Page No : 303"
     ]
    },
    {
     "cell_type": "code",
     "collapsed": false,
     "input": [
      "import math \n",
      "\n",
      "# Variables:\n",
      "d1 = 300.          #mm\n",
      "r1 = d1/2          #mm\n",
      "d2 = 200.          #mm\n",
      "r2 = d2/2 \t\t\t#mm\n",
      "p = 0.1 \t\t\t#N/mm**2\n",
      "mu = 0.3\n",
      "N = 2500. \t\t\t#rpm\n",
      "n = 2.\n",
      "\n",
      "#Solution:\n",
      "#Calculating the radial speed of the clutch\n",
      "omega = 2*math.pi*N/60 \t\t\t#rad/s\n",
      "#Calculating the intensity of pressure\n",
      "C = p*r2 \t\t\t#N/mm\n",
      "#Calculating the axial thrust\n",
      "W = 2*math.pi*C*(r1-r2) \t\t\t#N\n",
      "#Calculating the mean radius of the friction surfaces for uniform wear\n",
      "R = (r1+r2)/(2*1000) \t\t\t#m\n",
      "#Calculating the torque transmitted\n",
      "T = n*mu*W*R \t\t\t#N-m\n",
      "#Calculating the power transmitted by a clutch\n",
      "P = T*omega/1000 \t\t\t#kW\n",
      "\n",
      "#Results:\n",
      "print \" Power transmitted by a clutch, P  =  %.3f kW.\"%(P)\n"
     ],
     "language": "python",
     "metadata": {},
     "outputs": [
      {
       "output_type": "stream",
       "stream": "stdout",
       "text": [
        " Power transmitted by a clutch, P  =  61.685 kW.\n"
       ]
      }
     ],
     "prompt_number": 30
    },
    {
     "cell_type": "heading",
     "level": 2,
     "metadata": {},
     "source": [
      "Example 10.24 Page No : 303"
     ]
    },
    {
     "cell_type": "code",
     "collapsed": false,
     "input": [
      "import math \n",
      "\n",
      "# Variables:\n",
      "n = 2.\n",
      "mu = 0.255\n",
      "P = 25.*1000 \t\t#W\n",
      "N = 3000. \t\t\t#rpm\n",
      "r = 1.25 \t\t\t#Ratio of radii r1/r2\n",
      "p = 0.1 \t\t\t#N/mm**2\n",
      "\n",
      "#Solution:\n",
      "#Calculating the angular speed of the clutch\n",
      "omega  =  2*math.pi*N/60 \t\t\t#rad/s\n",
      "#Calculating the torque transmitted\n",
      "T = P/omega*1000 \t\t\t#N-mm\n",
      "#Calculating the inner radius\n",
      "r2 = (T/(n*mu*2*math.pi*0.1*(1.25-1)*(1.25+1)/2))**(1./3) \t\t\t#mm\n",
      "#Calculating the outer radius\n",
      "r1 = r*r2 \t\t\t#mm\n",
      "#Calculating the axial thrust to be provided by springs\n",
      "C = 0.1*r2 \t\t\t#Intensity of pressure N/mm\n",
      "W = 2*math.pi*C*(r1-r2) \t\t\t#N\n",
      "\n",
      "#Results:\n",
      "print \" Outer radius of the frictional surface, r1  =  %.f mm.\"%(r1)\n",
      "print \" Inner radius of the frictional surface, r2  =  %.f mm.\"%(r2)\n",
      "print \" Axial thrust to be provided by springs, W  =  %.f N.\"%(W)\n",
      "\n",
      "# rounding off error"
     ],
     "language": "python",
     "metadata": {},
     "outputs": [
      {
       "output_type": "stream",
       "stream": "stdout",
       "text": [
        " Outer radius of the frictional surface, r1  =  120 mm.\n",
        " Inner radius of the frictional surface, r2  =  96 mm.\n",
        " Axial thrust to be provided by springs, W  =  1446 N.\n"
       ]
      }
     ],
     "prompt_number": 26
    },
    {
     "cell_type": "heading",
     "level": 2,
     "metadata": {},
     "source": [
      "Example 10.25 Page No : 304"
     ]
    },
    {
     "cell_type": "code",
     "collapsed": false,
     "input": [
      "from numpy import linalg\n",
      "import math \n",
      "\n",
      "# Variables:\n",
      "P = 7.5*1000 \t\t#W\n",
      "N = 900. \t\t\t#rpm\n",
      "p = 0.07 \t\t\t#N/mm**2\n",
      "mu = 0.25\n",
      "n = 2.\n",
      "\n",
      "#Solution:\n",
      "#Calculating the angular speed of the clutch\n",
      "omega = 2*math.pi*N/60 \t\t\t#rad/s\n",
      "#Calculating the torque transmitted\n",
      "T = P/omega*1000 \t\t\t#N-mm\n",
      "#Calculating the mean radius of the friction lining\n",
      "R = (T/(math.pi/2*n*mu*p))**(1./3) \t\t\t#mm\n",
      "#Calculating the face width of the friction lining\n",
      "w = R/4 \t\t\t#mm\n",
      "#Calculating the outer and inner radii of the clutch plate\n",
      "#We have w  =  r1-r2 or r1-r2  =  w                            .....(i) \n",
      "#Also R  =  (r1+r2)/2 or r1+r2  =  2*R                         .....(ii) \n",
      "A = [[1, -1],[ 1, 1]]\n",
      "B = [w,2*R]\n",
      "V = linalg.solve(A,B)\n",
      "r1 = V[0]\n",
      "r2 = V[1]\n",
      "\n",
      "#Results:\n",
      "print \" Mean radius of the friction lining, R  =  %d mm.\"%(R)\n",
      "print \" Face width of the friction lining, w  =  %.2f mm.\"%(w)\n",
      "print \" Outer radius of the clutch plate, r1  =  %.3f mm.\"%(r1)\n",
      "print \" Inner radius of the clutch plate, r2  =  %.3f mm.\"%(r2)\n",
      "\n",
      "# rounding off error"
     ],
     "language": "python",
     "metadata": {},
     "outputs": [
      {
       "output_type": "stream",
       "stream": "stdout",
       "text": [
        " Mean radius of the friction lining, R  =  113 mm.\n",
        " Face width of the friction lining, w  =  28.28 mm.\n",
        " Outer radius of the clutch plate, r1  =  127.258 mm.\n",
        " Inner radius of the clutch plate, r2  =  98.979 mm.\n"
       ]
      }
     ],
     "prompt_number": 28
    },
    {
     "cell_type": "heading",
     "level": 2,
     "metadata": {},
     "source": [
      "Example 10.26 Page No : 305"
     ]
    },
    {
     "cell_type": "code",
     "collapsed": false,
     "input": [
      "import math \n",
      "\n",
      "# Variables:\n",
      "P = 100. \t\t\t#kW\n",
      "N = 2400. \t\t\t#rpm\n",
      "T = 500.*1000 \t\t#N-mm\n",
      "p = 0.07 \t\t\t#N/mm**2\n",
      "mu = 0.3\n",
      "Ns = 8. \t\t\t#Number of springs\n",
      "k = 40. \t\t\t#Stiffness N/mm\n",
      "n = 2.\n",
      "\n",
      "#Solution:\n",
      "#Calculating the inner radius of the friction plate\n",
      "r2 = round((T/(n*mu*2*math.pi*p*(1.25-1)*(1.25+1)/2))**(1./3),-1) \t\t\t#mm\n",
      "#Calculating the outer radius of the friction plate\n",
      "r1 = 1.25*r2 \t\t\t#mm\n",
      "#Calculating the total stiffness of the springs\n",
      "s = k*Ns \t\t\t#N/mm\n",
      "#Calculating the intensity of pressure\n",
      "C = p*r2 \t\t\t#N/mm\n",
      "#Calculating the axial force required to engage the clutch\n",
      "W = 2*math.pi*C*(r1-r2) \t\t\t#N\n",
      "#Calculating the initial compression in the springs\n",
      "IC = W/s \t\t\t#Initial compression in the springs mm\n",
      "\n",
      "#Results:\n",
      "print \" Outer radius of the friction plate, r1  =  %.1f mm.\"%(r1)\n",
      "print \" Inner radius of the friction plate, r2  =  %.f mm.\"%(r2)\n",
      "print \" Initial compression in the springs  =  %.1f mm.\"%(IC)\n",
      "\n",
      "# book answer is wrong."
     ],
     "language": "python",
     "metadata": {},
     "outputs": [
      {
       "output_type": "stream",
       "stream": "stdout",
       "text": [
        " Outer radius of the friction plate, r1  =  237.5 mm.\n",
        " Inner radius of the friction plate, r2  =  190 mm.\n",
        " Initial compression in the springs  =  12.4 mm.\n"
       ]
      }
     ],
     "prompt_number": 33
    },
    {
     "cell_type": "heading",
     "level": 2,
     "metadata": {},
     "source": [
      "Example 10.27 Page No : 306"
     ]
    },
    {
     "cell_type": "code",
     "collapsed": false,
     "input": [
      "import math \n",
      "from numpy import linalg\n",
      "\n",
      "# Variables:\n",
      "d1 = 220.          #mm\n",
      "r1 = d1/2          #mm\n",
      "d2 = 160.          #mm\n",
      "r2 = d2/2 \t\t\t#mm\n",
      "W = 570. \t\t\t#N\n",
      "m1 = 800.           #kg\n",
      "m2 = 1300. \t\t\t#kg\n",
      "k1 = 200./1000      #m\n",
      "k2 = 180./1000 \t\t#m\n",
      "mu = 0.35\n",
      "N1 = 1250. \t\t\t  #rpm\n",
      "n = 2.\n",
      "\n",
      "#Solution:\n",
      "#Calculating the initial angular speed of the motor shaft\n",
      "omega1 = 2*math.pi*N1/60 \t\t\t#rad/s\n",
      "#Calculating the moment of inertia for the motor armature and shaft\n",
      "I1 = m1*k1**2 \t\t\t#kg-m**2\n",
      "#Calculating the moment of inertia for the rotor\n",
      "I2 = m2*k2**2 \t\t\t#kg-m**2\n",
      "#Calculating the final speed of the motor and rotor\n",
      "omega2 = 0\n",
      "omega3 = (I1*omega1+I2*omega2)/(I1+I2) \t\t\t#rad/s\n",
      "#Calculating the mean radius of the friction plate\n",
      "R = (r1+r2)/(2*1000) \t\t\t#m\n",
      "#Calculating the frictional torque\n",
      "T = n*mu*W*R \t\t\t#N-m\n",
      "#Calculating the angular acceleration of the rotor\n",
      "alpha2 = T/I2 \t\t\t#rad/s**2\n",
      "#Calculating the time to reach the speed of omega3\n",
      "omegaF = omega3\n",
      "omegaI = omega2\n",
      "t = (omegaF-omegaI)/alpha2 \t\t\t#seconds\n",
      "#Calculating the angular kinetic energy before impact\n",
      "E1 = 1./2*I1*omega1**2+1./2*I2*omega2**2 \t\t\t#N-m\n",
      "#Calculating the angular kinetic energy after impact\n",
      "E2 = 1./2*(I1+I2)*omega3**2 \t\t\t#N-m\n",
      "#Calculating the kinetic energy lost during the period of slipping\n",
      "E = round(E1-E2,-3) \t\t\t#N-m\n",
      "#Calculating the torque on armature shaft\n",
      "T1 = -60-T \t\t\t#N-m\n",
      "#Calculating the torque on rotor shaft\n",
      "T2 = T \t\t\t#N-m\n",
      "#Calculating the time of slipping assuming constant resisting torque:\n",
      "#Considering armature shaft  omega3  =  omega1+alpha1*t1 or omega3-(T1/I1)*t1  =  omega1        .....(i)\n",
      "#Considering rotor shaft omega3  =  alpha2*t1 or omega3-(T2/I2)*t1  =  0                       .....(ii)\n",
      "A = [[1, -T1/I1],[ 1, -T2/I2]]\n",
      "B = [omega1, 0]\n",
      "V = linalg.solve(A,B)\n",
      "t11 = V[1] \t\t\t#Time of slipping assuming constant resisting torque seconds\n",
      "#Calculating the time of slipping assuming constant driving torque:\n",
      "#Calculating the torque on armature shaft\n",
      "T1 = 60-T \t\t\t#N-m\n",
      "t12 = (omega2-omega1)/(T1/I1-T2/I2) \t\t\t#Time of slipping assuming constant driving torque seconds\n",
      "\n",
      "#Results:\n",
      "print \" Final speed of the motor and rotor, omega3  =  %.2f rad/s.\"%(omega3)\n",
      "print \" Time to reach the speed of %.2f rad/s, t  =  %.1f s.\"%(omega3,t)\n",
      "print \" Kinetic energy lost during the period of slipping  =  %d N-m.\"%(E)\n",
      "print \" Time of slipping assuming constant resisting torque, t1  =  %.1f s.\"%(t11)\n",
      "print \" Time of slipping assuming constant driving torque, t1  =  %d s.\"%(t12)\n",
      "\n",
      "# rounding off error."
     ],
     "language": "python",
     "metadata": {},
     "outputs": [
      {
       "output_type": "stream",
       "stream": "stdout",
       "text": [
        " Final speed of the motor and rotor, omega3  =  56.51 rad/s.\n",
        " Time to reach the speed of 56.51 rad/s, t  =  62.8 s.\n",
        " Kinetic energy lost during the period of slipping  =  156000 N-m.\n",
        " Time of slipping assuming constant resisting torque, t1  =  33.1 s.\n",
        " Time of slipping assuming constant driving torque, t1  =  624 s.\n"
       ]
      }
     ],
     "prompt_number": 37
    },
    {
     "cell_type": "heading",
     "level": 2,
     "metadata": {},
     "source": [
      "Example 10.28 Page No : 308"
     ]
    },
    {
     "cell_type": "code",
     "collapsed": false,
     "input": [
      "import math \n",
      "\n",
      "# Variables:\n",
      "n = 4.\n",
      "mu = 0.3\n",
      "p = 0.127 \t\t\t#N/mm**2\n",
      "N = 500. \t\t\t#rpm\n",
      "r1 = 125.           #mm\n",
      "r2 = 75. \t\t\t#mm\n",
      "\n",
      "#Solution:\n",
      "#Calculating the angular speed of the clutch\n",
      "omega = 2*math.pi*N/60 \t\t\t#rad/s\n",
      "#Calculating the maximum intensity of pressure\n",
      "C = p*r2 \t\t\t#N/mm\n",
      "#Calculating the axial force required to engage the clutch\n",
      "W = 2*math.pi*C*(r1-r2) \t\t\t#N\n",
      "#Calculating the mean radius of the friction surfaces\n",
      "R = (r1+r2)/(2*1000) \t\t\t#m\n",
      "#Calculating the torque transmitted\n",
      "T = n*mu*W*R \t\t\t#N-m\n",
      "#Calculating the power transmitted\n",
      "P = T*omega/1000 \t\t\t#kW\n",
      "\n",
      "#Results:\n",
      "print \" Power transmitted, P  =  %.1f kW.\"%(P)\n"
     ],
     "language": "python",
     "metadata": {},
     "outputs": [
      {
       "output_type": "stream",
       "stream": "stdout",
       "text": [
        " Power transmitted, P  =  18.8 kW.\n"
       ]
      }
     ],
     "prompt_number": 35
    },
    {
     "cell_type": "heading",
     "level": 2,
     "metadata": {},
     "source": [
      "Example 10.29 Page No : 308"
     ]
    },
    {
     "cell_type": "code",
     "collapsed": false,
     "input": [
      "import math \n",
      "\n",
      "# Variables:\n",
      "n1 = 3.\n",
      "n2 = 2.\n",
      "mu = 0.3\n",
      "d1 = 240.           #mm\n",
      "r1 = d1/2           #mm\n",
      "d2 = 120.           #mm\n",
      "r2 = d2/2 \t\t\t#mm\n",
      "P = 25.*1000 \t\t#W\n",
      "N = 1575. \t\t\t#rpm\n",
      "\n",
      "#Solution:\n",
      "#Calculating the angular speed of the shaft\n",
      "omega = 2*math.pi*N/60 \t\t\t#rad/s\n",
      "#Calculating the torque transmitted\n",
      "T = P/omega \t\t\t#N-m\n",
      "#Calculating the number of pairs of friction surfaces\n",
      "n = n1+n2-1\n",
      "#Calculating the mean radius of friction surfaces for uniform wear\n",
      "R = (r1+r2)/(2*1000) \t\t\t#m\n",
      "#Calculating the axial force on each friction surface\n",
      "W = T/(n*mu*R) \t\t\t#N\n",
      "#Calculating the maximum axial intensity of pressure\n",
      "p = W/(2*math.pi*r2*(r1-r2)) \t\t\t#N/mm**2\n",
      "\n",
      "#Results:\n",
      "print \" Maximum axial intensity of pressure, p  =  %.3f N/mm**2.\"%(p)\n"
     ],
     "language": "python",
     "metadata": {},
     "outputs": [
      {
       "output_type": "stream",
       "stream": "stdout",
       "text": [
        " Maximum axial intensity of pressure, p  =  0.062 N/mm**2.\n"
       ]
      }
     ],
     "prompt_number": 36
    },
    {
     "cell_type": "heading",
     "level": 2,
     "metadata": {},
     "source": [
      "Example 10.30 Page No : 309"
     ]
    },
    {
     "cell_type": "code",
     "collapsed": false,
     "input": [
      "import math \n",
      "\n",
      "# Variables:\n",
      "n1 = 3.\n",
      "n2 = 2.\n",
      "n = 4.\n",
      "mu = 0.3\n",
      "d1 = 240.           #mm\n",
      "r1 = d1/2           #mm\n",
      "d2 = 120.           #mm\n",
      "r2 = d2/2 \t\t\t#mm\n",
      "P = 25.*1000 \t\t#W\n",
      "N = 1575. \t\t\t#rpm\n",
      "\n",
      "#Solution:\n",
      "#Calculating the angular speed of the shaft\n",
      "omega = 2*math.pi*N/60 \t\t\t#rad/s\n",
      "#Calculating the torque transmitted\n",
      "T = P/omega \t\t\t#N-m\n",
      "#Calculating the mean radius of the contact surface for uniform pressure\n",
      "R = 2./3*(r1**3-r2**3)/(r1**2-r2**2)/1000 \t\t\t#m\n",
      "#Calculating the total spring load\n",
      "W1 = T/(n*mu*R) \t\t\t#N\n",
      "#Calculating the maximum power transmitted:\n",
      "\n",
      "# Variables:\n",
      "ns = 6. \t\t\t#Number of springs\n",
      "c = 8.   \t\t\t#Contact surfaces of the spring\n",
      "w = 1.25 \t\t\t#Wear on each contact surface mm\n",
      "k = 13.*1000 \t\t\t#Stiffness of each spring N/m\n",
      "#Calculating the total wear\n",
      "Tw = c*w/1000 \t\t\t#Total wear m\n",
      "#Calculating the reduction in spring force\n",
      "Rs = Tw*k*ns \t\t\t#N\n",
      "#Calculating the new axial load\n",
      "W2 = W1-Rs \t\t\t#N\n",
      "#Calculating the mean radius of the contact surfaces for uniform wear\n",
      "R = (r1+r2)/(2*1000) \t\t\t#m\n",
      "#Calculating the torque transmitted\n",
      "T = n*mu*W2*R \t\t\t#N-m\n",
      "#Calculating the maximum power transmitted\n",
      "P = T*omega/1000 \t\t\t#kw\n",
      "\n",
      "#Results:\n",
      "print \" Total spring load, W  =  %d N.\"%(W1)\n",
      "print \" Maximum power that can be transmitted, P  =  %.2f kW.\"%(P)\n"
     ],
     "language": "python",
     "metadata": {},
     "outputs": [
      {
       "output_type": "stream",
       "stream": "stdout",
       "text": [
        " Total spring load, W  =  1353 N.\n",
        " Maximum power that can be transmitted, P  =  10.21 kW.\n"
       ]
      }
     ],
     "prompt_number": 37
    },
    {
     "cell_type": "heading",
     "level": 2,
     "metadata": {},
     "source": [
      "Example 10.31 Page No : 314"
     ]
    },
    {
     "cell_type": "code",
     "collapsed": false,
     "input": [
      "from numpy import linalg\n",
      "import math \n",
      "\n",
      "# Variables:\n",
      "P = 90.*1000 \t\t#W\n",
      "N = 1500. \t\t\t#rpm\n",
      "alpha = 20. \t\t#degrees\n",
      "mu = 0.2\n",
      "D = 375.\n",
      "R = D/2. \t\t\t#mm\n",
      "pn = 0.25 \t\t\t#N/mm**2\n",
      "\n",
      "#SOlution:\n",
      "#Calculating the angular speed of the clutch\n",
      "omega = 2*math.pi*N/60 \t\t\t#rad/s\n",
      "#Calculating the torque transmitted\n",
      "T = P*1000/156 \t\t\t#N-mm\n",
      "#Calculating the width of the bearing surface\n",
      "b = T/(2*math.pi*mu*pn*R**2) \t\t\t#mm\n",
      "#Calculating the external and internal radii of the bearing surface\n",
      "#We know that r1+r2  =  2*R and r1-r2  =  b*math.sin(math.radians(alpha)\n",
      "A = [[1, 1],[1, -1]]\n",
      "B = [2*R, b*math.sin(math.radians(alpha))]\n",
      "V = linalg.solve(A,B)\n",
      "r1 = V[0] \t\t\t#mm\n",
      "r2 = V[1] \t\t\t#mm\n",
      "#Calculating the intensity of pressure\n",
      "C = round(pn*r2,1) \t\t\t#N/mm\n",
      "#Calculating the axial load required\n",
      "W = 2*math.pi*C*(r1-r2) \t\t\t#N\n",
      "\n",
      "#Results:\n",
      "print \" Width of the bearing surface, b  =  %.1f mm.\"%(b)\n",
      "print \" External radius of the bearing surface, r1  =  %.1f mm.\"%(r1)\n",
      "print \" Internal radius of the bearing surface, r2  =  %.1f mm.\"%(r2)\n",
      "print \" Axial load required, W  =  %.f N.\"%(W)\n",
      "\n",
      "# rounding off error. Please check."
     ],
     "language": "python",
     "metadata": {},
     "outputs": [
      {
       "output_type": "stream",
       "stream": "stdout",
       "text": [
        " Width of the bearing surface, b  =  52.2 mm.\n",
        " External radius of the bearing surface, r1  =  196.4 mm.\n",
        " Internal radius of the bearing surface, r2  =  178.6 mm.\n",
        " Axial load required, W  =  5006 N.\n"
       ]
      }
     ],
     "prompt_number": 30
    },
    {
     "cell_type": "heading",
     "level": 2,
     "metadata": {},
     "source": [
      "Example 10.32 Page No : 315"
     ]
    },
    {
     "cell_type": "code",
     "collapsed": false,
     "input": [
      "import math \n",
      "\n",
      "# Variables:\n",
      "P = 45.*1000 \t\t#W\n",
      "N = 1000. \t\t\t#rpm\n",
      "alpha = 12.5 \t\t#degrees\n",
      "D = 500./1000\n",
      "R = D/2 \t\t\t#m\n",
      "mu = 0.2\n",
      "pn = 0.1 \t\t\t#N/mm**2\n",
      "\n",
      "#Solution:\n",
      "#Calculating the angular speed of the shaft\n",
      "omega = 2*math.pi*N/60 \t\t\t#rad/s\n",
      "#Calculating the torque developed by the clutch\n",
      "T = P/omega \t\t\t#N-m\n",
      "#Calculating the normal load acting on the friction surface\n",
      "Wn = T/(mu*R) \t\t\t#N\n",
      "#Calculating the axial spring force necessary to engage the clutch\n",
      "We = Wn*(math.sin(math.radians(alpha))+mu*math.cos(math.radians(alpha))) \t\t\t#N\n",
      "#Calculating the face width required\n",
      "b = Wn/(pn*2*math.pi*R*1000) \t\t\t#mm\n",
      "\n",
      "#Results:\n",
      "print \" Axial force necessary to engage the clutch, We  =  %d N.\"%(round(We,-1))\n",
      "print \" Face width required, b  =  %.1f mm.\"%(b)\n"
     ],
     "language": "python",
     "metadata": {},
     "outputs": [
      {
       "output_type": "stream",
       "stream": "stdout",
       "text": [
        " Axial force necessary to engage the clutch, We  =  3540 N.\n",
        " Face width required, b  =  54.7 mm.\n"
       ]
      }
     ],
     "prompt_number": 45
    },
    {
     "cell_type": "heading",
     "level": 2,
     "metadata": {},
     "source": [
      "Example 10.33 Page No : 315"
     ]
    },
    {
     "cell_type": "code",
     "collapsed": false,
     "input": [
      "from numpy import linalg\n",
      "import math \n",
      "\n",
      "# Variables:\n",
      "alpha = 30./2 \t\t#degrees\n",
      "pn = 0.35 \t\t\t#N/mm**2\n",
      "P = 22.5*1000 \t\t#W\n",
      "N = 2000. \t\t\t#rpm\n",
      "mu = 0.15\n",
      "\n",
      "#Solution:\n",
      "#Calculating the angular speed of the clutch\n",
      "omega = 2*math.pi*N/60 \t\t\t#rad/s\n",
      "#Calculating the torque transmitted by the clutch\n",
      "T = P/omega*1000 \t\t\t#N-mm\n",
      "#Calculating the mean radius of the contact surface\n",
      "R = (T/(2*math.pi*mu*pn/3))**(1./3) \t\t\t#mm\n",
      "#Calculating the face width of the contact surface\n",
      "b = R/3\n",
      "#Calculating the outer and inner radii of the contact surface\n",
      "#Refer Fig. 10.27\n",
      "#We have  r1-r2  =  b*math.sin(math.radians(alpha) and r1+r2  =  2*R\n",
      "A = [[1, -1],[ 1, 1]]\n",
      "B = [b*math.sin(math.radians(alpha)), 2*R]\n",
      "V = linalg.solve(A, B)\n",
      "r1 = V[0] \t\t\t#mm\n",
      "r2 = V[1] \t\t\t#mm\n",
      "\n",
      "#Results:\n",
      "print \" Mean radius of the contact surface, R  =  %d mm.\"%(R)\n",
      "print \" Outer radius of the contact surface, r1  =  %.2f mm.\"%(r1)\n",
      "print \" Inner radius of the contact surface, r2  =  %.2f mm.\"%(r2)\n",
      "\n",
      "# rounding off error"
     ],
     "language": "python",
     "metadata": {},
     "outputs": [
      {
       "output_type": "stream",
       "stream": "stdout",
       "text": [
        " Mean radius of the contact surface, R  =  99 mm.\n",
        " Outer radius of the contact surface, r1  =  103.51 mm.\n",
        " Inner radius of the contact surface, r2  =  94.95 mm.\n"
       ]
      }
     ],
     "prompt_number": 48
    },
    {
     "cell_type": "heading",
     "level": 2,
     "metadata": {},
     "source": [
      "Example 10.34 Page No : 316"
     ]
    },
    {
     "cell_type": "code",
     "collapsed": false,
     "input": [
      "import math \n",
      "\n",
      "# Variables:\n",
      "D = 75./1000        #mm\n",
      "R = D/2 \t\t\t#m\n",
      "alpha = 15 \t\t\t#degrees\n",
      "mu = 0.3\n",
      "W = 180. \t\t\t#N\n",
      "NF = 1000. \t\t\t#rpm\n",
      "m = 13.5 \t\t\t#kg\n",
      "k = 150./1000 \t\t#m\n",
      "\n",
      "#Solution:\n",
      "#Calculating the angular speed of the flywheel\n",
      "omegaF = 2*math.pi*NF/60 \t\t\t#rad/s\n",
      "#Calculating the torque required to produce slipping\n",
      "T = round(mu*W*R*(1/math.sin(math.radians(alpha))),1) \t\t\t#N-m\n",
      "#Calculating the mass moment of inertia of the flywheel\n",
      "IF = m*k**2 \t\t\t#kg-m**2\n",
      "#Calculating the angular acceleration of the flywheel\n",
      "alphaF = T/IF \t\t\t#rad/s**2\n",
      "#Calculating the time required for the flywheel to attain full speed\n",
      "tF = round(omegaF/alphaF,1) \t\t\t#seconds\n",
      "#Calculating the angle turned through by the motor and flywheel in time tF\n",
      "theta = 1./2*omegaF*tF \t\t\t#rad\n",
      "#Calculating the energy lost in slipping of the clutch\n",
      "E = T*theta \t\t\t#Energy lost in slipping of the clutch N-m\n",
      "\n",
      "#Results:\n",
      "print \" Torque required to produce slipping, T  =  %.1f N-m.\"%(T)\n",
      "print \" Time required for the flywheel to attain full speed, tF  =  %.1f s.\"%(tF)\n",
      "print \" Energy lost in slipping of the clutch  =  %d N-m.\"%(E)\n"
     ],
     "language": "python",
     "metadata": {},
     "outputs": [
      {
       "output_type": "stream",
       "stream": "stdout",
       "text": [
        " Torque required to produce slipping, T  =  7.8 N-m.\n",
        " Time required for the flywheel to attain full speed, tF  =  4.1 s.\n",
        " Energy lost in slipping of the clutch  =  1674 N-m.\n"
       ]
      }
     ],
     "prompt_number": 55
    },
    {
     "cell_type": "heading",
     "level": 2,
     "metadata": {},
     "source": [
      "Example 10.35 Page No : 319"
     ]
    },
    {
     "cell_type": "code",
     "collapsed": false,
     "input": [
      "import math \n",
      "\n",
      "# Variables:\n",
      "P = 15.*1000 \t\t\t#W\n",
      "N = 900. \t\t\t    #rpm\n",
      "n = 4.\n",
      "mu = 0.25\n",
      "R = 150./1000\n",
      "r = 120./1000 \t\t\t#m\n",
      "theta = 60. \t\t\t#degrees\n",
      "p = 0.1 \t\t\t    #N/mm**2\n",
      "\n",
      "#Solution:\n",
      "#Calculating the angular speed of the clutch\n",
      "omega = 2*math.pi*N/60 \t\t\t#rad/s\n",
      "#Calculating the speed at which the engagement begins\n",
      "omega1 = 3./4*omega \t\t\t#rad/s\n",
      "#Calculating the torque transmitted at the running speed\n",
      "T = P/omega \t\t\t#N-m\n",
      "#Calculating the mass of the shoes\n",
      "m = T/(n*mu*(omega**2*r-omega1**2*r)*R) \t\t\t#kg\n",
      "#Calculating the contact length of shoes\n",
      "l = (theta*math.pi/180)*R*1000 \t\t\t#mm\n",
      "#Calculating the centrifugal force acting on each shoe\n",
      "Pc = m*omega**2*r \t\t\t#N\n",
      "#Calculating the inward force on each shoe exerted by the spring\n",
      "Ps = m*omega1**2*r \t\t\t#N\n",
      "#Calculating the width of the shoes\n",
      "b = (Pc-Ps)/(l*p) \t\t\t#mm\n",
      "\n",
      "#Results:\n",
      "print \" Mass of the shoes, m  =  %.2f kg.\"%(m)\n",
      "print \" Width of the shoes, b  =  %.1f mm.\"%(b)\n"
     ],
     "language": "python",
     "metadata": {},
     "outputs": [
      {
       "output_type": "stream",
       "stream": "stdout",
       "text": [
        " Mass of the shoes, m  =  2.28 kg.\n",
        " Width of the shoes, b  =  67.5 mm.\n"
       ]
      }
     ],
     "prompt_number": 56
    },
    {
     "cell_type": "heading",
     "level": 2,
     "metadata": {},
     "source": [
      "Example 10.36 Page No : 320"
     ]
    },
    {
     "cell_type": "code",
     "collapsed": false,
     "input": [
      "import math \n",
      "\n",
      "# Variables:\n",
      "n = 4.\n",
      "mu = 0.3\n",
      "c = 5.\n",
      "r = 160. \t\t\t#mm\n",
      "S = 500. \t\t\t#N\n",
      "D = 400./1000\n",
      "R = D/2 \t\t\t#m\n",
      "m = 8. \t\t\t    #kg\n",
      "s = 50. \t\t\t#N/mm\n",
      "N = 500. \t\t\t#rpm\n",
      "\n",
      "#Solution:\n",
      "#Calculating the angular speed of the clutch\n",
      "omega = 2*math.pi*N/60 \t\t\t#rad/s\n",
      "#Calculating the operating radius\n",
      "r1 = (r+c)/1000 \t\t\t#m\n",
      "#Calculating the centrifugal force on each shoe\n",
      "Pc = m*omega**2*r1 \t\t\t#N\n",
      "#Calculating the inward force exerted by the spring\n",
      "Ps = S+c*s \t\t\t#N\n",
      "#Calculating the frictional force acting math.tangentially on each shoe\n",
      "F = mu*(Pc-Ps) \t\t\t#N\n",
      "#Calculating the total frictional torque transmitted by the clutch\n",
      "T = n*F*R \t\t\t#N-m\n",
      "#Calculating the power transmitted\n",
      "P = T*omega/1000 \t\t\t#kW\n",
      "\n",
      "#Results:\n",
      "print \" Power transmitted, P  =  %.1f kW.\"%(P)\n"
     ],
     "language": "python",
     "metadata": {},
     "outputs": [
      {
       "output_type": "stream",
       "stream": "stdout",
       "text": [
        " Power transmitted, P  =  36.1 kW.\n"
       ]
      }
     ],
     "prompt_number": 45
    }
   ],
   "metadata": {}
  }
 ]
}