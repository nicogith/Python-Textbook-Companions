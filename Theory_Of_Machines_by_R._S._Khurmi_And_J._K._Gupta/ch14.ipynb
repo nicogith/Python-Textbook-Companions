{
 "metadata": {
  "name": "",
  "signature": "sha256:6f6f9834675f8099d2eeff645403e77a31c86a5aa089d3f5df9c6f15fe0a122e"
 },
 "nbformat": 3,
 "nbformat_minor": 0,
 "worksheets": [
  {
   "cells": [
    {
     "cell_type": "heading",
     "level": 1,
     "metadata": {},
     "source": [
      "Chapter 14 : Gyroscopic Couple and Precessional Motion"
     ]
    },
    {
     "cell_type": "heading",
     "level": 2,
     "metadata": {},
     "source": [
      "Example 14.1 Page No : 484"
     ]
    },
    {
     "cell_type": "code",
     "collapsed": false,
     "input": [
      "import math \n",
      "\n",
      "# Variables:\n",
      "d = 300./1000\n",
      "r = d/2\n",
      "l = 600./1000 \t\t\t#m\n",
      "m = 5. \t\t\t#kg\n",
      "N = 300. \t\t\t#rpm\n",
      "\n",
      "#Solution:\n",
      "#Calculating the angular speed of the disc\n",
      "omega = 2*math.pi*N/60 \t\t\t#rad/s\n",
      "#Calculating the mass moment of inertia of the disc\n",
      "#about an axis through its centre of gravity and perpendicular to the plane of the disc\n",
      "I = m*r**2/2 \t\t\t#kg-m**2\n",
      "#Calculating the couple due to mass of disc\n",
      "C = m*9.81*l \t\t\t#N-m\n",
      "#Calculating the speed of precession\n",
      "omegaP = C/(I*omega) \t\t\t#rad/s\n",
      "\n",
      "#Results:\n",
      "print \" Speed of precession, omegaP  =  %.1f rad/s.\"%(omegaP)\n"
     ],
     "language": "python",
     "metadata": {},
     "outputs": [
      {
       "output_type": "stream",
       "stream": "stdout",
       "text": [
        " Speed of precession, omegaP  =  16.7 rad/s.\n"
       ]
      }
     ],
     "prompt_number": 2
    },
    {
     "cell_type": "heading",
     "level": 2,
     "metadata": {},
     "source": [
      "Example 14.2 Page No : 485"
     ]
    },
    {
     "cell_type": "code",
     "collapsed": false,
     "input": [
      "import math \n",
      "\n",
      "# Variables:\n",
      "d = 150./1000\n",
      "r = d/2\n",
      "x = 100./1000 \t\t\t#m\n",
      "m = 5. \t\t\t       #kg\n",
      "N = 1000.\n",
      "NP = 60. \t\t\t#rpm\n",
      "\n",
      "#Solution:\n",
      "#Calculating the angular speed of the disc\n",
      "omega = round(2*math.pi*N/60,1) \t\t\t#rad/s\n",
      "#Calculating the speed of precession of the axle\n",
      "omegaP = round(2*math.pi*NP/60,3) \t\t\t#rad/s\n",
      "#Calculating the mass moment of inertia of the disc\n",
      "# about an axis through its centre of gravity and perpendicular to the plane of disc\n",
      "I = round(m*r**2/2,3) \t\t\t#kg-m**2\n",
      "#Calculating the gyroscopic couple acting on the disc\n",
      "C = round(I*omega*omegaP,1) \t\t\t#N-m\n",
      "#Calculating the force at each bearing due to the gyroscopic couple\n",
      "F = C/x \t\t\t#N\n",
      "#Calculating the reactions at the bearings A and B\n",
      "RA = m/2*9.81 \t\t\t#N\n",
      "RB = round(RA,1) \t\t\t#N\n",
      "#Resulmath.tant reaction at each bearing:\n",
      "#Calculating the resultant reaction at the bearing A\n",
      "RA1 = F+RA \t\t\t#N\n",
      "#Calculating the resultant reaction at the bearing B\n",
      "RB1 = F-RB \t\t\t#N\n",
      "\n",
      "#Results:\n",
      "print \" Resultant reaction at the bearing A RA1  =  %.1f N upwards.\"%(RA1)\n",
      "print \" Resultant reaction at the bearing B RB1  =  %.1f N downwards.\"%( RB1)\n"
     ],
     "language": "python",
     "metadata": {},
     "outputs": [
      {
       "output_type": "stream",
       "stream": "stdout",
       "text": [
        " Resultant reaction at the bearing A RA1  =  116.5 N upwards.\n",
        " Resultant reaction at the bearing B RB1  =  67.5 N downwards.\n"
       ]
      }
     ],
     "prompt_number": 7
    },
    {
     "cell_type": "heading",
     "level": 2,
     "metadata": {},
     "source": [
      "Example 14.3 Page No : 487"
     ]
    },
    {
     "cell_type": "code",
     "collapsed": false,
     "input": [
      "import math \n",
      "\n",
      "# Variables:\n",
      "R = 50.\n",
      "k = 0.3 \t\t\t#m\n",
      "v = 200.*1000/3600 \t\t\t#m/s\n",
      "m = 400. \t\t\t#kg\n",
      "N = 2400. \t\t\t#rpm\n",
      "\n",
      "#Solution:\n",
      "#Calculating the angular speed of the engine\n",
      "omega = 2*math.pi*N/60 \t\t\t#rad/s\n",
      "#Calculating the mass moment of inertia of the engine and the propeller\n",
      "I = m*k**2 \t\t\t#kg-m**2\n",
      "#Calculating the angular velocity of precession\n",
      "omegaP = v/R \t\t\t#rad/s\n",
      "#Calculating the gyroscopic couple acting on the aircraft\n",
      "C = I*omega*omegaP/1000 \t\t\t#kN-m\n",
      "\n",
      "#Results:\n",
      "print \" Gyroscopic couple acting on the aircraft, C  =  %.3f kN-m.\"%(C)\n",
      "print \" The effect of the gyroscopic couple is to lift the nose upwards and tail downwards.\"\n"
     ],
     "language": "python",
     "metadata": {},
     "outputs": [
      {
       "output_type": "stream",
       "stream": "stdout",
       "text": [
        " Gyroscopic couple acting on the aircraft, C  =  10.053 kN-m.\n",
        " The effect of the gyroscopic couple is to lift the nose upwards and tail downwards.\n"
       ]
      }
     ],
     "prompt_number": 5
    },
    {
     "cell_type": "heading",
     "level": 2,
     "metadata": {},
     "source": [
      "Example 14.4 Page No : 491"
     ]
    },
    {
     "cell_type": "code",
     "collapsed": false,
     "input": [
      "import math \n",
      "\n",
      "# Variables:\n",
      "m = 8.*1000 \t\t\t#kg\n",
      "k = 0.6\n",
      "R = 75. \t\t\t#m\n",
      "N = 1800. \t\t\t#rpm\n",
      "v = 100.*1000/3600 \t\t\t#m/s\n",
      "\n",
      "#Solution:\n",
      "#Calculating the angular speed of the rotor\n",
      "omega = round(2*math.pi*N/60,1) \t\t\t#rad/s\n",
      "#Calculating the mass moment of inertia of the rotor\n",
      "I = m*k**2 \t\t\t#kg-m**2\n",
      "#Calculating the angular velocity of precession\n",
      "omegaP = round(v/R,2) \t\t\t#rad/s\n",
      "#Calculating the gyroscopic couple\n",
      "C = I*omega*omegaP/1000 \t\t\t#kN-m\n",
      "\n",
      "#Results:\n",
      "print \" Gyroscopic couple, C  =  %.3f kN-m.\"%(C)\n"
     ],
     "language": "python",
     "metadata": {},
     "outputs": [
      {
       "output_type": "stream",
       "stream": "stdout",
       "text": [
        " Gyroscopic couple, C  =  200.866 kN-m.\n"
       ]
      }
     ],
     "prompt_number": 11
    },
    {
     "cell_type": "heading",
     "level": 2,
     "metadata": {},
     "source": [
      "Example 14.5 Page No : 491"
     ]
    },
    {
     "cell_type": "code",
     "collapsed": false,
     "input": [
      "import math \n",
      "\n",
      "# Variables:\n",
      "N = 1500. \t\t\t#rpm\n",
      "m = 750. \t\t\t#kg\n",
      "omegaP = 1. \t\t\t#rad/s\n",
      "k = 250./1000 \t\t\t#m\n",
      "\n",
      "#Solution:\n",
      "#Calculating the angular speed of the rotor\n",
      "omega = 2*math.pi*N/60 \t\t\t#rad/s\n",
      "#Calculating the mass moment of inertia of the rotor\n",
      "I = m*k**2 \t\t\t#kg-m**2\n",
      "#Calculating the gyroscopic couple transmitted to the hull\n",
      "C = I*omega*omegaP/1000 \t\t\t#kN-m\n",
      "\n",
      "#Results:\n",
      "print \" Gyroscopic couple transmitted to the hull, C  =  %.3f kN-m.\"%(C)\n",
      "print \" When the pitching is upward, the relative gyroscopic couple acts in the clockwise direction.\"\n"
     ],
     "language": "python",
     "metadata": {},
     "outputs": [
      {
       "output_type": "stream",
       "stream": "stdout",
       "text": [
        " Gyroscopic couple transmitted to the hull, C  =  7.363 kN-m.\n",
        " When the pitching is upward, the relative gyroscopic couple acts in the clockwise direction.\n"
       ]
      }
     ],
     "prompt_number": 7
    },
    {
     "cell_type": "heading",
     "level": 2,
     "metadata": {},
     "source": [
      "Example 14.6 Page No : 492"
     ]
    },
    {
     "cell_type": "code",
     "collapsed": false,
     "input": [
      "import math \n",
      "\n",
      "# Variables:\n",
      "m = 3500. \t\t\t#kg\n",
      "k = 0.45 \t\t\t#m\n",
      "N = 3000. \t\t\t#rpm\n",
      "\n",
      "#Solution:\n",
      "#Calculating the angular speed of the rotor\n",
      "omega = 2*math.pi*N/60 \t\t\t#rad/s\n",
      "#When the ship is steering to the left:\n",
      "R = 100. \t\t\t#m\n",
      "v = 36.*1000/3600 \t\t\t#m/s\n",
      "\n",
      "#Calculating the mass moment of inertia of the rotor\n",
      "I = m*k**2 \t\t\t#kg-m**2\n",
      "#Calculating the angular velocity of precession\n",
      "omegaP = v/R \t\t\t#rad/s\n",
      "#Calculating the gyroscopic couple\n",
      "C = I*omega*omegaP/1000 \t\t\t#kN-m\n",
      "\n",
      "#Results:\n",
      "print \" Gyroscopic couple when the ship is steering to the left. C  =  %.2f kN-m.\"%(C)\n",
      "print \" When the rotor rotates clockwise and the ship takes a left turn.\\\n",
      " the effect of the reactive gyroscopic couple is to raise the bow and lower the stern.\"\n",
      "#When the ship is pitching with the bow falling:\n",
      "tp = 40. \t\t\t#s\n",
      "#Calculating the amplitude of swing\n",
      "phi = 12./2*math.pi/180 \t\t\t#rad\n",
      "#Calculating the angular velocity of the simple harmonic motion\n",
      "omega1 = 2*math.pi/tp \t\t\t#rad/s\n",
      "#Calculating the maximum angular velocity of precession\n",
      "omegaP = phi*omega1 \t\t\t#rad/s\n",
      "#Calculating the gyroscopic couple\n",
      "C = I*omega*omegaP/1000 \t\t\t#kN-m\n",
      "\n",
      "#Results:\n",
      "print \" Gyroscopic couple when the ship is pitching with the bow falling, C  =  %.3f kN-m.\"%(C)\n",
      "print \" When the bow is falling, the effect of the reactive gyroscopic couple is to move\\\n",
      " the ship towards port side.\"\n"
     ],
     "language": "python",
     "metadata": {},
     "outputs": [
      {
       "output_type": "stream",
       "stream": "stdout",
       "text": [
        " Gyroscopic couple when the ship is steering to the left. C  =  22.27 kN-m.\n",
        " When the rotor rotates clockwise and the ship takes a left turn. the effect of the reactive gyroscopic couple is to raise the bow and lower the stern.\n",
        " Gyroscopic couple when the ship is pitching with the bow falling, C  =  3.663 kN-m.\n",
        " When the bow is falling, the effect of the reactive gyroscopic couple is to move the ship towards port side.\n"
       ]
      }
     ],
     "prompt_number": 8
    },
    {
     "cell_type": "heading",
     "level": 2,
     "metadata": {},
     "source": [
      "Example 14.7 Page No : 492"
     ]
    },
    {
     "cell_type": "code",
     "collapsed": false,
     "input": [
      "import math \n",
      "\n",
      "# Variables:\n",
      "m = 20.*1000 \t\t\t#kg\n",
      "k = 0.6 \t\t\t#m\n",
      "N = 2000. \t\t\t#rpm\n",
      "phi = 6.*math.pi/180 \t\t\t#rad\n",
      "tp = 30. \t\t\t#s\n",
      "\n",
      "#Solution:\n",
      "#Calculating the angular speed of the rotor\n",
      "omega = 2*math.pi*N/60 \t\t\t#rad/s\n",
      "#Maximum gyroscopic couple:\n",
      "#Calculating the mass moment of inertia of the rotor\n",
      "I = m*k**2 \t\t\t#kg-m**2\n",
      "#Calculating the angular velocity of the simple harmonic motion\n",
      "omega1 = 2*math.pi/tp \t\t\t#rad/s\n",
      "#Calculating the maximum angular velocity of precession\n",
      "omegaPmax = phi*omega1 \t\t\t#rad/s\n",
      "#Calculating the maximum gyroscopic couple\n",
      "Cmax = I*omega*omegaPmax/1000 \t\t\t#kN-m\n",
      "#Calculating the maximum angular acceleration during pitching\n",
      "alphamax = phi*omega1**2 \t\t\t#Maximum angular acceleration during pitching rad/s**2\n",
      "\n",
      "#Results:\n",
      "print \" Maximum gyroscopic couple, Cmax  =  %.3f kN-m.\"%(Cmax)\n",
      "print \" Maximum angular acceleration during pitching  =  %.4f rad/s**2.\"%(alphamax)\n",
      "print \" When the rotation of the rotor is clockwise when looking from the left and when\\\n",
      " the bow is rising, then the reactive gyroscopic couple acts in the direction which\\\n",
      "  tends to turn the bow towrds right.\"\n"
     ],
     "language": "python",
     "metadata": {},
     "outputs": [
      {
       "output_type": "stream",
       "stream": "stdout",
       "text": [
        " Maximum gyroscopic couple, Cmax  =  33.073 kN-m.\n",
        " Maximum angular acceleration during pitching  =  0.0046 rad/s**2.\n",
        " When the rotation of the rotor is clockwise when looking from the left and when the bow is rising, then the reactive gyroscopic couple acts in the direction which  tends to turn the bow towrds right.\n"
       ]
      }
     ],
     "prompt_number": 9
    },
    {
     "cell_type": "heading",
     "level": 2,
     "metadata": {},
     "source": [
      "Example 14.8 Page No : 493"
     ]
    },
    {
     "cell_type": "code",
     "collapsed": false,
     "input": [
      "import math \n",
      "\n",
      "# Variables:\n",
      "m = 5.*1000 \t\t\t#kg\n",
      "N = 1000. \t\t\t#rpm\n",
      "k = 0.5 \t\t\t#m\n",
      "\n",
      "#Solution:\n",
      "#Calculating the angular speed of the rotor\n",
      "omega = 2.*math.pi*2100/60 \t\t\t#rad/s\n",
      "#When the ship steers to the left:\n",
      "v = 30.*1000/3600 \t\t\t#m/s\n",
      "R = 60. \t\t\t#m\n",
      "#Calculating the angular velocity of precession\n",
      "omegaP = round(v/R,2) \t\t\t#rad/s\n",
      "#Calculating the mass moment of inertia of the rotor\n",
      "I = m*k**2 \t\t\t#kg-m**2\n",
      "#Calculating the gyroscopic couple\n",
      "C = I*omega*omegaP/1000 \t\t\t#kN-m\n",
      "\n",
      "#Results:\n",
      "print \" C = %.1f k N-m\"%C\n",
      "\n",
      "#When the ship pitches with the bow descending:\n",
      "phi = round(6*math.pi/180,3) \t\t\t#rad\n",
      "tp = 20. \t\t\t#s\n",
      "#Calculating the angular velocity of simple harmonic motion\n",
      "omega1 = round(2*math.pi/tp,4) \t\t\t#rad/s\n",
      "#Calculating the maximum velocity of precession\n",
      "omegaPmax = round(phi*omega1,3) \t\t\t#rad/s\n",
      "#Calculating the maximum gyroscopic couple\n",
      "Cmax = I*omega*omegaPmax \t\t\t#N-m\n",
      "\n",
      "#Results:\n",
      "print \" Cmax = %.f N-m\"%Cmax\n",
      "#When the ship rolls:\n",
      "omegaP = 0.03 \t\t\t#rad/s\n",
      "#Calculating the gyroscopic couple\n",
      "C = I*omega*omegaP \t\t\t#N-m\n",
      "\n",
      "#Results:\n",
      "print \" C = %.2f N-m\"%(round(C,-1))\n",
      "#Calculating the maximum angular acceleration during pitching\n",
      "alphamax = phi*omega1**2 \t\t\t#rad/s**2\n",
      "\n",
      "#Results:\n",
      "print \" Maximum angular acceleration during pitching, alphamax  =  %.2f rad/s**2.\"%(alphamax)\n",
      "\n",
      "# rounding off error. please check."
     ],
     "language": "python",
     "metadata": {},
     "outputs": [
      {
       "output_type": "stream",
       "stream": "stdout",
       "text": [
        " C = 38.5 k N-m\n",
        " Cmax = 9071 N-m\n",
        " C = 8250.00 N-m\n",
        " Maximum angular acceleration during pitching, alphamax  =  0.01 rad/s**2.\n"
       ]
      }
     ],
     "prompt_number": 30
    },
    {
     "cell_type": "heading",
     "level": 2,
     "metadata": {},
     "source": [
      "Example 14.9 Page No : 494"
     ]
    },
    {
     "cell_type": "code",
     "collapsed": false,
     "input": [
      "import math \n",
      "\n",
      "# Variables:\n",
      "m = 2000. \t\t\t#kg\n",
      "N = 3000. \t\t\t#rpm\n",
      "k = 0.5\n",
      "R = 100. \t\t\t#m\n",
      "v = 16.1*1855/3600 \t\t\t#m/s\n",
      "\n",
      "#Solution:\n",
      "#Calculating the angular speed of the rotor\n",
      "omega = 2*math.pi*N/60 \t\t\t#rad/s\n",
      "#Gyroscopic couple:\n",
      "#Calculating the mass moment of inertia of the rotor\n",
      "I = m*k**2 \t\t\t#kg-m**2\n",
      "#Calculating the angular velocity of precession\n",
      "omegaP = v/R \t\t\t#rad/s\n",
      "#Calculating the gyroscopic couple\n",
      "C = I*omega*omegaP/1000 \t\t\t#kN-m\n",
      "#Torque during pitching:\n",
      "tp = 50. \t\t\t#s\n",
      "phi = 12./2*math.pi/180 \t\t\t#rad\n",
      "#Calculating the angular velocity of simple harmonic motion\n",
      "omega1 = 2*math.pi/tp \t\t\t#rad/s\n",
      "#Calculating the maximum angular velocity of precession\n",
      "omegaPmax = phi*omega1 \t\t\t#rad/s\n",
      "#Calculating the maximum gyroscopic couple during pitching\n",
      "Cmax = I*omega*omegaPmax \t\t\t#N-m\n",
      "#Calculating the maximum acceleration during pitching\n",
      "alphamax = phi*omega1**2 \t\t\t#rad/s**2\n",
      "\n",
      "#Results:\n",
      "print \" Torque during pitching, Cmax  =  %d N-m.\"%(Cmax)\n",
      "print \" Maximum acceleration during pitching, alphamax  =  %.5f rad/s**2.\"%(alphamax)\n"
     ],
     "language": "python",
     "metadata": {},
     "outputs": [
      {
       "output_type": "stream",
       "stream": "stdout",
       "text": [
        " Torque during pitching, Cmax  =  2067 N-m.\n",
        " Maximum acceleration during pitching, alphamax  =  0.00165 rad/s**2.\n"
       ]
      }
     ],
     "prompt_number": 6
    },
    {
     "cell_type": "heading",
     "level": 2,
     "metadata": {},
     "source": [
      "Example 14.10 Page No : 497"
     ]
    },
    {
     "cell_type": "code",
     "collapsed": false,
     "input": [
      "import math \n",
      "\n",
      "# Variables:\n",
      "m = 2500. \t\t\t#kg\n",
      "x = 1.5\n",
      "R = 30.\n",
      "dW = 0.75\n",
      "rW = dW/2\n",
      "h = 0.9 \t\t\t#m\n",
      "v = 24.*1000/3600 \t\t\t#m/s\n",
      "G = 5.\n",
      "IW = 18.\n",
      "IE = 12. \t\t\t#kg-m**2\n",
      "\n",
      "#Solution:\n",
      "#Calculating the road reaction on each wheel\n",
      "r = m*9.81/4 \t\t\t#Road reaction on each wheel N\n",
      "#Calculating the angular velocity o the wheels\n",
      "omegaW = round(v/rW,1) \t\t\t#rad/s\n",
      "#Calculating the angular velocity of precession\n",
      "omegaP = round(v/R,2) \t\t\t#rad/s\n",
      "#Calculating the gyroscopic couple due to one pair of wheels and axle\n",
      "CW = round(2*IW*omegaW*omegaP) \t\t\t#N-m\n",
      "#Calculating the gyroscopic couple due to the rotating parts of the motor and gears\n",
      "CE = round(2*IE*G*omegaW*omegaP) \t\t\t#N-m\n",
      "#Calculating the net gyroscopic couple\n",
      "C = CW-CE \t\t\t#N-m\n",
      "#Calculating the reaction due to gyroscopic couple at each of the outer or inner wheels\n",
      "P = round((-C)/(2*x),1) \t\t\t#N\n",
      "#Calculating the centrifugal force\n",
      "FC = round(m*v**2/R,1) \t\t\t#N\n",
      "#Calculating the overturning couple\n",
      "CO = FC*h \t\t\t#N-m\n",
      "#Calculating the reaction due to overturning couple at each of the outer and inner wheels\n",
      "Q = 2*CO/(2*x) \t\t\t#N\n",
      "#Calculating the vertical force exerted on each outer wheel\n",
      "PO = m*9.81/4-P/2+Q/2 \t\t\t#N\n",
      "#Calculating the vertical force exerted on each inner wheel\n",
      "PI = m*9.81/4+P/2-Q/2 \t\t\t#N\n",
      "\n",
      "#Results:\n",
      "print \" Vertical force exerted on each outer wheel, PO  =  %.2f N.\"%(PO)\n",
      "print \" Vertical force exerted on each inner wheel, PI  =  %.2f N.\"%(PI)\n",
      "\n",
      "# note : value of Fc is calculated wrongly. please check using calculator. so answers are different."
     ],
     "language": "python",
     "metadata": {},
     "outputs": [
      {
       "output_type": "stream",
       "stream": "stdout",
       "text": [
        " Vertical force exerted on each outer wheel, PO  =  7187.51 N.\n",
        " Vertical force exerted on each inner wheel, PI  =  5074.99 N.\n"
       ]
      }
     ],
     "prompt_number": 41
    },
    {
     "cell_type": "heading",
     "level": 2,
     "metadata": {},
     "source": [
      "Example 14.11 pageno : 498"
     ]
    },
    {
     "cell_type": "code",
     "collapsed": false,
     "input": [
      "import math\n",
      "\n",
      "# variables\n",
      "R = 100             #m \n",
      "IW = 2.5            # kg-m 2 \n",
      "dW = 0.6            #m \n",
      "rW = 0.3            #m \n",
      "IE = 1.2            #kg-m 2 ;\n",
      "G = 3.        \n",
      "m = 1600.           # kg \n",
      "h = 0.5             #m ; \n",
      "x = 1.5             #m\n",
      "v = 1.\n",
      "\n",
      "# calculations\n",
      "road_reaction = m*9.81/4          #N\n",
      "wW = v / rW\n",
      "wP = v/R\n",
      "cW = 4 * IW*wW*wP\n",
      "cE = IE*G*wW*wP\n",
      "C = cW + cE\n",
      "Pby2 = C/(2*x)\n",
      "Fc = m*v**2/R\n",
      "Co = Fc * h\n",
      "Qby2 = Co/(2*x)\n",
      "v_2 = road_reaction/(Pby2 + Qby2)\n",
      "v = math.sqrt(v_2)\n",
      "ans = v*3600./1000\n",
      "\n",
      "# result\n",
      "print \"V <= %.1f m/s = %.1f * 3600 /1000 = %.2f km/h\"%(v,v,ans)\n",
      "\n"
     ],
     "language": "python",
     "metadata": {},
     "outputs": [
      {
       "output_type": "stream",
       "stream": "stdout",
       "text": [
        "V <= 37.3 m/s = 37.3 * 3600 /1000 = 134.34 km/h\n"
       ]
      }
     ],
     "prompt_number": 12
    },
    {
     "cell_type": "heading",
     "level": 2,
     "metadata": {},
     "source": [
      "Example 14.12 Page No : 500"
     ]
    },
    {
     "cell_type": "code",
     "collapsed": false,
     "input": [
      "import math \n",
      "\n",
      "# Variables:\n",
      "m = 2000.           #kg\n",
      "mE = 75. \t\t\t#kg\n",
      "b = 2.5             #m\n",
      "x = 1.5             #m\n",
      "h = 500./1000       #m\n",
      "L = 1.              #m\n",
      "dW = 0.8            #m\n",
      "rW = round(dW/2,1)  #m\n",
      "kE = 100./1000      #m\n",
      "R = 60. \t\t\t#m\n",
      "IW = 0.8 \t\t\t#kg-m**2\n",
      "G = 4.\n",
      "v = round(60.*1000/3600,2) \t#m/s\n",
      "\n",
      "#Solution:\n",
      "#Refer Fig. 14.12\n",
      "#Calculating the weight on the rear wheels\n",
      "W2 = (m*9.81*1)/b \t\t\t#N\n",
      "#Calculating the weight on the front wheels\n",
      "W1 = m*9.81-W2 \t\t\t#N\n",
      "#Calculating the weight on each of the front wheels\n",
      "Wf = W1/2 \t\t\t#Weight on each of the front wheels N\n",
      "#Calculating the weight on each of the rear wheels\n",
      "Wr = W2/2 \t\t\t#Weight on each of the rear wheels N\n",
      "#Calculating the angular velocity of wheels\n",
      "omegaW = v/rW \t\t\t#rad/s\n",
      "#Calculating the angular velocity of precession\n",
      "omegaP = round(v/R,3) \t\t\t#rad/s\n",
      "#Calculating the gyroscopic couple due to four wheels\n",
      "CW = round(4*IW*omegaW*omegaP,1) \t\t\t#N-m\n",
      "#Calculating the magnitude of reaction due to gyroscopic couple due to four wheels at each of the inner or outer wheel\n",
      "P = round((CW/(2*x)),2) \t\t\t#N\n",
      "#Calculating the mass moment of inertia of rotating parts of the engine\n",
      "IE = mE*(kE)**2 \t\t\t#kg-m**2\n",
      "#Calculating the gyroscopic couple due to rotating parts of the engine\n",
      "CE = round(IE*(kE)**2*G*omegaW*omegaP*100,1)\t\t\t#N-m\n",
      "#Calculating the magnitude of reaction due to gyroscopic couple due to rotating parts of the engine at each of the inner or outer wheel\n",
      "F = (CE/(2*b)) \t\t\t#N\n",
      "#Calculating the centrifugal force\n",
      "FC = round(m*v**2/R) \t\t\t#N\n",
      "#Calculating the centrifugal couple tending to overturn the car\n",
      "CO = FC*h \t\t\t#N-m\n",
      "#Calculating the magnitude of reaction due to overturning couple at each of the inner or outer wheel\n",
      "Q = round((CO/(2*x)),2) \t\t\t#N\n",
      "#Calculating the load on front wheel 1\n",
      "Fw1 = (W1/2)-(P/2)-(F/2)-(Q/2) \t\t\t#Load on front wheel 1 N\n",
      "#Calculating the load on front wheel 2\n",
      "Fw2 = W1/2+P/2-F/2+Q/2 \t\t\t#Load on front wheel 2 N\n",
      "#Calculating the load on rear wheel 3\n",
      "Rw3 = W2/2-P/2+F/2-Q/2 \t\t\t#Load on rear wheel 3 N\n",
      "#Calculating the load on rear wheel 4\n",
      "Rw4 = W2/2+P/2+F/2+Q/2 \t\t\t#Load on rear wheel 4 N\n",
      "\n",
      "#Results:\n",
      "print \" Load on front wheel 1  =  %.2f N.\"%(Fw1)\n",
      "print \" Load on front wheel 2  =  %.2f N.\"%(Fw2)\n",
      "print \" Load on rear wheel 3  =  %.2f N.\"%(Rw3)\n",
      "print \" Load on rear wheel 4  =  %.2f N.\"%(Rw4)\n",
      "\n",
      "# note : incorrect answers in the textbook"
     ],
     "language": "python",
     "metadata": {},
     "outputs": [
      {
       "output_type": "stream",
       "stream": "stdout",
       "text": [
        " Load on front wheel 1  =  5104.42 N.\n",
        " Load on front wheel 2  =  6660.62 N.\n",
        " Load on rear wheel 3  =  3149.38 N.\n",
        " Load on rear wheel 4  =  4705.58 N.\n"
       ]
      }
     ],
     "prompt_number": 25
    },
    {
     "cell_type": "heading",
     "level": 2,
     "metadata": {},
     "source": [
      "Example 14.13 Page No : 502"
     ]
    },
    {
     "cell_type": "code",
     "collapsed": false,
     "input": [
      "import math \n",
      "\n",
      "# Variables:\n",
      "m = 2000.       #kg\n",
      "mI = 200. \t\t#kg\n",
      "x = 1.6         #m\n",
      "R = 30.         #m\n",
      "dW = 0.7        #m\n",
      "rW = dW/2       #m\n",
      "k = 0.3         #m\n",
      "h = 1. \t\t\t#m\n",
      "v = 54.*1000/3600 \t\t\t#m/s\n",
      "theta = 8. \t\t\t#degrees\n",
      "\n",
      "#Solution:\n",
      "#Refer Fig. 14.13\n",
      "#Calculating the reactions at the wheels:\n",
      "#Taking moments about B\n",
      "RA = (m*9.81*math.cos(math.radians(theta))+m*v**2/R*math.sin(math.radians(theta)))*1/2+(m*9.81*math.sin(math.radians(theta)) \\\n",
      "                                                    -m*v**2/R*math.cos(math.radians(theta)))*h/x \t\t\t#N\n",
      "#Resolving the forces perpendicular to the track\n",
      "RB = (m*9.81*math.cos(math.radians(theta))+m*v**2/R*math.sin(math.radians(theta)))-RA \t\t\t#N\n",
      "#Calculating the angular velocity of wheels\n",
      "omegaW = v/rW \t\t\t#rad/s\n",
      "#Calculating the angular velocity of precession\n",
      "omegaP = v/R \t\t\t#rad/s\n",
      "#Calculating the gyroscopic couple\n",
      "C = mI*k**2*omegaW*math.cos(math.radians(theta))*omegaP \t\t\t#N-m\n",
      "#Calculating the force at each pair of wheels due to the gyroscopic couple\n",
      "P = C/x \t\t\t#N\n",
      "#Calculating the pressure on the inner rail\n",
      "PI = RA-P \t\t\t#N\n",
      "#Calculating the pressure o the outer rail\n",
      "PO = RB+P \t\t\t#N\n",
      "\n",
      "#Results:\n",
      "print \" Pressure on the inner rail, PI  =  %.2f N.\"%(PI)\n",
      "print \" Pressure on the outer rail, PO  =  %.2f N.\"%(PO)\n"
     ],
     "language": "python",
     "metadata": {},
     "outputs": [
      {
       "output_type": "stream",
       "stream": "stdout",
       "text": [
        " Pressure on the inner rail, PI  =  2942.45 N.\n",
        " Pressure on the outer rail, PO  =  18574.21 N.\n"
       ]
      }
     ],
     "prompt_number": 3
    },
    {
     "cell_type": "heading",
     "level": 2,
     "metadata": {},
     "source": [
      "Example 14.14 Page No : 503"
     ]
    },
    {
     "cell_type": "code",
     "collapsed": false,
     "input": [
      "import math \n",
      "\n",
      "# Variables:\n",
      "I = 180. \t\t\t#kg-m**2\n",
      "D = 1.8             #m\n",
      "R = D/2             #m\n",
      "x = 1.5 \t\t\t#m\n",
      "v = 95.*1000/3600 \t#m/s\n",
      "t = 0.1 \t\t\t#s\n",
      "\n",
      "#Solution:\n",
      "#Gyroscopic couple set up:\n",
      "#Calculating the angular velocity of the locomotive\n",
      "omega = v/R \t\t\t#rad/s\n",
      "#Calculating the amplitude\n",
      "A = 1./2*6 \t\t\t#mm\n",
      "#Calculating the maximum velocity while falling\n",
      "vmax = 2*math.pi/t*A/1000 \t\t\t#m/s\n",
      "#Calculating the maximum angular velocity of tilt of the axle or angular velocity of precession\n",
      "omegaPmax = vmax/x \t\t\t#rad/s\n",
      "#Calculating the gyroscopic couple set up\n",
      "C = I*omega*omegaPmax \t\t\t#N-m\n",
      "#Calculating the reaction between the wheel and rail due to the gyroscopic couple\n",
      "P =  C/x \t\t\t#N\n",
      "\n",
      "#Results:\n",
      "print \" Gyroscopic couple set up, C  =  %.1f N-m.\"%(C)\n",
      "print \" Reaction between the wheel and rail due to the gyroscopic couple, P  =  %d N.\"%(P)\n"
     ],
     "language": "python",
     "metadata": {},
     "outputs": [
      {
       "output_type": "stream",
       "stream": "stdout",
       "text": [
        " Gyroscopic couple set up, C  =  663.2 N-m.\n",
        " Reaction between the wheel and rail due to the gyroscopic couple, P  =  442 N.\n"
       ]
      }
     ],
     "prompt_number": 17
    },
    {
     "cell_type": "heading",
     "level": 2,
     "metadata": {},
     "source": [
      "Example 14.15 Page No : 506"
     ]
    },
    {
     "cell_type": "code",
     "collapsed": false,
     "input": [
      "import math \n",
      "\n",
      "# Variables:\n",
      "m = 250. \t\t\t#kg\n",
      "IE = 0.3            #kg-m**2\n",
      "IW = 1. \t\t\t#kg-m**2\n",
      "G = 5.\n",
      "h = 0.6             #m\n",
      "rW = 300./1000      #m\n",
      "R = 50. \t\t\t#m\n",
      "v = 90.*1000/3600 \t#m/s\n",
      "\n",
      "#Solution:\n",
      "#Calculating the angle of inclination with respect to the vertical of a two wheeler\n",
      "#Equating total overturning couple to balancing couple\n",
      "tantheta = math.atan(1/(m*9.81*h))*((v**2/(R*rW)*(2*IW+G*IE))+(m*v**2/R*h)) \t\t\t#degrees\n",
      "theta = math.degrees(math.atan(tantheta))\n",
      "\n",
      "#Results:\n",
      "print \" Angle of inclination with respect to the vertical of a two wheeler, tan theta  =  %.2f .\"%(theta)\n"
     ],
     "language": "python",
     "metadata": {},
     "outputs": [
      {
       "output_type": "stream",
       "stream": "stdout",
       "text": [
        " Angle of inclination with respect to the vertical of a two wheeler, tan theta  =  53.94 .\n"
       ]
      }
     ],
     "prompt_number": 62
    },
    {
     "cell_type": "heading",
     "level": 2,
     "metadata": {},
     "source": [
      "Example 14.16 Page No : 507"
     ]
    },
    {
     "cell_type": "code",
     "collapsed": false,
     "input": [
      "import math \n",
      "\n",
      "# Variables:\n",
      "m1 = 0.5            #kg\n",
      "m2 = 0.3 \t\t\t#kg\n",
      "k = 20./1000        #m\n",
      "OG = 10./1000       #m\n",
      "h = OG              #m\n",
      "R = 50. \t\t\t#m\n",
      "N = 3000. \t\t\t#rpm\n",
      "v = 15. \t\t\t#m/s\n",
      "\n",
      "#Solution:\n",
      "#Refer Fig. 14.15 and Fig. 14.16\n",
      "#Calculating the angular speed of the wheel\n",
      "omega = 2*math.pi*N/60 \t\t\t#rad/s\n",
      "#Calculating the mass moment of inertia of the gyrowheel\n",
      "I = m1*k**2 \t\t\t#kg-m**2\n",
      "#Calculating the angular velocity of precession\n",
      "omegaP = v/R \t\t\t#rad/s\n",
      "#When the vehicle moves in the direction of arrow X taking a left turn along the curve:\n",
      "#Calculating the angle of inclination of the gyrowheel from the vertical\n",
      "#Equating the overturning couple to the balancing couple for equilibrium condition\n",
      "tantheta1 = (1/(m2*9.81*h))*(I*omega*omegaP-m2*v**2/R*h) \t\t\t#degrees\n",
      "theta1 = math.degrees(math.atan(tantheta1))\n",
      "#When the vehicle reverses at the same speed in the direction of arrow Y along the same path:\n",
      "#Calculating the angle of inclination of the gyrowheel from the vertical\n",
      "#Equating the overturning couple to the balancing couple for equilibrium condition\n",
      "tantheta2 = round((1/(m2*9.81*h))*(I*omega*omegaP+m2*v**2/R*h),1) \t\t\t#degrees\n",
      "theta2 = math.degrees(math.atan(tantheta2))\n",
      "\n",
      "#Results:\n",
      "print \" Angle of inclination of the gyrowheel from the vertical when the vehicle moves\\\n",
      " in the direction of arrow X taking a left turn along the curve, theta  =  %.2f degrees.\"%(theta1)\n",
      "print \" Angle of inclination of the gyrowheel from the vertical when the vehicle reverses \\\n",
      "at the same speed in the direction of arrow Y along the same path, theta  =  %.f degrees.\"%(theta2)\n",
      "\n",
      "# rounding error"
     ],
     "language": "python",
     "metadata": {},
     "outputs": [
      {
       "output_type": "stream",
       "stream": "stdout",
       "text": [
        " Angle of inclination of the gyrowheel from the vertical when the vehicle moves in the direction of arrow X taking a left turn along the curve, theta  =  10.30 degrees.\n",
        " Angle of inclination of the gyrowheel from the vertical when the vehicle reverses at the same speed in the direction of arrow Y along the same path, theta  =  48 degrees.\n"
       ]
      }
     ],
     "prompt_number": 6
    },
    {
     "cell_type": "heading",
     "level": 2,
     "metadata": {},
     "source": [
      "Example 14.17 Page No : 510"
     ]
    },
    {
     "cell_type": "code",
     "collapsed": false,
     "input": [
      "import math \n",
      "\n",
      "# Variables: \n",
      "d = 0.6             #m\n",
      "r = d/2 \t\t\t#m\n",
      "m = 30. \t\t\t#kg\n",
      "theta = 1. \t\t\t#degree\n",
      "N = 1200. \t\t\t#rpm\n",
      "\n",
      "#Solution:\n",
      "#Calculating the angular speed of the shaft\n",
      "omega = 2*math.pi*N/60 \t\t\t#rad/s\n",
      "#Calculating the gyroscopic couple acting on the bearings\n",
      "C = round(m/8*omega**2*r**2*math.sin(math.radians(2*theta))) \t\t\t#N-m\n",
      "\n",
      "#Results:\n",
      "print \" Gyroscopic couple acting on the bearings, C  =  %d N-m.\"%(C)\n"
     ],
     "language": "python",
     "metadata": {},
     "outputs": [
      {
       "output_type": "stream",
       "stream": "stdout",
       "text": [
        " Gyroscopic couple acting on the bearings, C  =  186 N-m.\n"
       ]
      }
     ],
     "prompt_number": 25
    }
   ],
   "metadata": {}
  }
 ]
}