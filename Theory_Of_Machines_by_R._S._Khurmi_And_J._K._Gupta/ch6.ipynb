{
 "metadata": {
  "name": "",
  "signature": "sha256:1b2bc75a9da3f88ed85d2991e9ff321b52f8f56e21ca05cba6bbfb84f1e84dc2"
 },
 "nbformat": 3,
 "nbformat_minor": 0,
 "worksheets": [
  {
   "cells": [
    {
     "cell_type": "heading",
     "level": 1,
     "metadata": {},
     "source": [
      "Chapter 6 : Velocity in Mechanisms(Instantaneous Centre Method)"
     ]
    },
    {
     "cell_type": "heading",
     "level": 2,
     "metadata": {},
     "source": [
      "Example 6.1 Page No : 126"
     ]
    },
    {
     "cell_type": "code",
     "collapsed": false,
     "input": [
      "import math \n",
      "\n",
      "# Variables:\n",
      "NAB = 100. \t\t\t#rpm\n",
      "AB = 300./1000\n",
      "BC = 360./1000\n",
      "CD = BC \t\t\t#m\n",
      "\n",
      "#Solution:\n",
      "#Refer Fig. 6.9\n",
      "#Calculating the angular speed of link AB\n",
      "omegaAB = 2*math.pi*NAB/60 \t\t\t#rad/s\n",
      "#Calculating the velocity of point B on link AB\n",
      "vB = omegaAB*AB \t\t\t#m/s\n",
      "#Calculating the angular velocity of link BC\n",
      "#By measurement from instantaneous centre diagram  Fig. 6.10\n",
      "\n",
      "I13B = 500./1000 \t\t\t#m\n",
      "omegaBC = vB/I13B \t\t\t#rad/s\n",
      "\n",
      "#Results:\n",
      "print \" The angular velocity of the link BC omegaBC  =  %.3f rad/s.\"%(omegaBC)\n"
     ],
     "language": "python",
     "metadata": {},
     "outputs": [
      {
       "output_type": "stream",
       "stream": "stdout",
       "text": [
        " The angular velocity of the link BC omegaBC  =  6.283 rad/s.\n"
       ]
      }
     ],
     "prompt_number": 2
    },
    {
     "cell_type": "heading",
     "level": 2,
     "metadata": {},
     "source": [
      "Example 6.2 Page No : 128"
     ]
    },
    {
     "cell_type": "code",
     "collapsed": false,
     "input": [
      "import math \n",
      "\n",
      "# Variables:\n",
      "omegaOB = 10. \t\t\t#rad/s\n",
      "OB = 100/1000. \t\t\t#m\n",
      "\n",
      "#Solution:\n",
      "#Refer Fig. 6.12\n",
      "#Calculating the velocity of the crank OB\n",
      "vOB = omegaOB*OB \t\t\t#m/s\n",
      "vB = vOB\n",
      "#By measurement from the instantaneous cemtre diagram  Fig. 6.13\n",
      "\n",
      "I13A = 460./1000\n",
      "I13B = 560./1000 \t\t\t#m\n",
      "#Calculating the velocity of slider A\n",
      "vA = vB/I13B*I13A\n",
      "#Calculating the angular velocity of the connecting rod AB\n",
      "omegaAB = vB/I13B \t\t\t#rad/s\n",
      "\n",
      "#Results:\n",
      "print \"The velocity of slider A vA  =  %.2f m/s.\"%(vA)\n",
      "print \"The angular velocity of connecting rod AB omegaAB  =  %.2f rad/s.\"%(omegaAB)\n"
     ],
     "language": "python",
     "metadata": {},
     "outputs": [
      {
       "output_type": "stream",
       "stream": "stdout",
       "text": [
        "The velocity of slider A vA  =  0.82 m/s.\n",
        "The angular velocity of connecting rod AB omegaAB  =  1.79 rad/s.\n"
       ]
      }
     ],
     "prompt_number": 4
    },
    {
     "cell_type": "heading",
     "level": 2,
     "metadata": {},
     "source": [
      "Example 6.3 Page No : 130"
     ]
    },
    {
     "cell_type": "code",
     "collapsed": false,
     "input": [
      "import math \n",
      "\n",
      "# Variables:\n",
      "NOA = 120. \t\t\t#rpm\n",
      "OA = 200./1000 \t\t\t#m/s\n",
      "\n",
      "#Results:\n",
      "#Refer Fig. 6.15\n",
      "#Calculating the angular velocity of the crank OA\n",
      "omegaOA = 2*math.pi*NOA/60 \t\t\t#rad/s\n",
      "#Calculating the velocity of crank OA\n",
      "vOA = omegaOA*OA \t\t\t#m/s\n",
      "vA = vOA\n",
      "#By measurement from the instantaneous cemtre diagram Fig. 6.16\n",
      "\n",
      "I13A = 840./1000\n",
      "I13B = 1070./1000\n",
      "I14B = 400./1000\n",
      "I14C = 200./1000\n",
      "I15C = 740./1000\n",
      "I15D = 500./1000 \t\t\t#m\n",
      "\n",
      "#Calculating the velocity of point B\n",
      "vB = vA/I13A*I13B \t\t\t#m/s\n",
      "#Calculating the velocity of point C\n",
      "vC = vB/I14B*I14C \t\t\t#m/s\n",
      "#Calculating the velocity of point B\n",
      "vD = vC/I15C*I15D \t\t\t#m/s\n",
      "#Calculating the angular velocity of the link AB\n",
      "omegaAB = vA/I13A \t\t\t#rad/s\n",
      "#Calculating the angular velocity of the link BC\n",
      "omegaBC = vB/I14B \t\t\t#rad/s\n",
      "#Calculating the angular velocity of the link CD\n",
      "omegaCD = vC/I15C \t\t\t#rad/s\n",
      "\n",
      "#Results:\n",
      "print \" The velocity of point B vB  =  %.1f m/s.\"%(vB)\n",
      "print \" The velocity of point C vC  =  %.1f m/s.\"%(vC)\n",
      "print \" The velocity of point D vD  =  %.2f m/s.\"%(vD)\n",
      "print \" The angular velocity of the link AB omegaAB  =  %.2f rad/s.\"%(omegaAB)\n",
      "print \" The angular velocity of the link BC omegaBC  =  %d rad/s.\"%(omegaBC)\n",
      "print \" The angular velocity of the link CD omegaCD  =  %.2f rad/s.\"%(omegaCD)\n"
     ],
     "language": "python",
     "metadata": {},
     "outputs": [
      {
       "output_type": "stream",
       "stream": "stdout",
       "text": [
        " The velocity of point B vB  =  3.2 m/s.\n",
        " The velocity of point C vC  =  1.6 m/s.\n",
        " The velocity of point D vD  =  1.08 m/s.\n",
        " The angular velocity of the link AB omegaAB  =  2.99 rad/s.\n",
        " The angular velocity of the link BC omegaBC  =  8 rad/s.\n",
        " The angular velocity of the link CD omegaCD  =  2.16 rad/s.\n"
       ]
      }
     ],
     "prompt_number": 5
    },
    {
     "cell_type": "heading",
     "level": 2,
     "metadata": {},
     "source": [
      "Example 6.4 Page No : 133"
     ]
    },
    {
     "cell_type": "code",
     "collapsed": false,
     "input": [
      "import math \n",
      "\n",
      "# Variables:\n",
      "omegaO1A = 100. \t\t\t#rad/s\n",
      "O1A = 100/1000. \t\t\t#m\n",
      "\n",
      "#Solution:\n",
      "#Refer Fig. 6.18\n",
      "#Calculating the linear velocity of crank O1A\n",
      "vO1A = omegaO1A*O1A \t\t\t#m/s\n",
      "vA = vO1A\n",
      "#By measurement from the instantaneous cemtre diagram Fig. 6.19\n",
      "I13A = 910./1000\n",
      "I13B = 820./1000\n",
      "I15B = 130./1000\n",
      "I15D = 50./1000\n",
      "I16D = 200./1000\n",
      "I16E = 400./1000 \t\t\t#m\n",
      "#Calculating the velocity of point B\n",
      "vB = vA/I13A*I13B \t\t\t#m/s\n",
      "#Calculating the velocity of point D\n",
      "vD = vB/I15B*I15D \t\t\t#m/s\n",
      "#Calculating the velocity of point E\n",
      "vE = vD/I16D*I16E \t\t\t#m/s\n",
      "\n",
      "#Results:\n",
      "print \" The velocity of point B vB  =  %.2f m/s.\"%(vB)\n",
      "print \" The velocity of point D vD  =  %.2f m/s.\"%(vD)\n",
      "print \" The velocity of point E vE  =  %.2f m/s.\"%(vE)\n"
     ],
     "language": "python",
     "metadata": {},
     "outputs": [
      {
       "output_type": "stream",
       "stream": "stdout",
       "text": [
        " The velocity of point B vB  =  9.01 m/s.\n",
        " The velocity of point D vD  =  3.47 m/s.\n",
        " The velocity of point E vE  =  6.93 m/s.\n"
       ]
      }
     ],
     "prompt_number": 6
    },
    {
     "cell_type": "heading",
     "level": 2,
     "metadata": {},
     "source": [
      "Example 6.5 Page No : 135"
     ]
    },
    {
     "cell_type": "code",
     "collapsed": false,
     "input": [
      "import math \n",
      "\n",
      "# Variables:\n",
      "NO1A = 400. \t\t\t#rpm\n",
      "O1A = 16./1000 \t\t\t#m\n",
      "\n",
      "#Solution:\n",
      "#Refer Fig. 6.21\n",
      "#Calculating the angular velocity of the crank O1A\n",
      "omegaO1A = 2*math.pi*NO1A/60 \t\t\t#rad/s\n",
      "#Calculating the linear velocity of the crank O1A\n",
      "vO1A = omegaO1A*O1A \t\t\t#m/s\n",
      "vA = vO1A\n",
      "#By measurement from the instantaneous cemtre diagram Fig. 6.22\n",
      "I13A = 41./1000\n",
      "I13B = 50./1000\n",
      "I14B = 23./1000\n",
      "I14C = 28./1000\n",
      "I15C = 65./1000\n",
      "I15D = 62./1000 \t\t\t#m\n",
      "#Calculating the velocity of point B\n",
      "vB = vA/I13A*I13B \t\t\t#m/s\n",
      "#Calculating the velocity of point C\n",
      "vC = vB/I14B*I14C \t\t\t#m/s\n",
      "#Calculating the velocity of of the needle at D\n",
      "vD = vC/I15C*I15D \t\t\t#m/s\n",
      "\n",
      "#Results:\n",
      "print \"The velocity of the needle at D vD  =  %.2f m/s.\"%(vD)\n"
     ],
     "language": "python",
     "metadata": {},
     "outputs": [
      {
       "output_type": "stream",
       "stream": "stdout",
       "text": [
        "The velocity of the needle at D vD  =  0.95 m/s.\n"
       ]
      }
     ],
     "prompt_number": 7
    },
    {
     "cell_type": "heading",
     "level": 2,
     "metadata": {},
     "source": [
      "Example 6.6 Page No : 137"
     ]
    },
    {
     "cell_type": "code",
     "collapsed": false,
     "input": [
      "import math \n",
      "\n",
      "# Variables:\n",
      "NOA = 120. \t\t\t#rpm\n",
      "#Solution:\n",
      "#Refer Fig. 6.24\n",
      "#Calculating the angular speed of crank OA\n",
      "omegaOA = 2*math.pi*NOA/60 \t\t\t#rad/s\n",
      "#By measurement from the instantaneous cemtre diagram Fig. 6.25\n",
      "I12I26 = 65./1000 \t\t\t#m\n",
      "#Calculating the velocity of the ram\n",
      "vD = omegaOA*I12I26 \t\t\t#m/s\n",
      "\n",
      "#Results:\n",
      "print \" The velocity of ram, vD  =  %.3f m/s.\"%(vD)\n"
     ],
     "language": "python",
     "metadata": {},
     "outputs": [
      {
       "output_type": "stream",
       "stream": "stdout",
       "text": [
        " The velocity of ram, vD  =  0.817 m/s.\n"
       ]
      }
     ],
     "prompt_number": 1
    }
   ],
   "metadata": {}
  }
 ]
}