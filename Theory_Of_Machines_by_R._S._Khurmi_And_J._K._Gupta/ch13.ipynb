{
 "metadata": {
  "name": "",
  "signature": "sha256:e7234bd223a2d57f8ee3c0d73106a260e10c7534a13d5c3bf25633720527eb77"
 },
 "nbformat": 3,
 "nbformat_minor": 0,
 "worksheets": [
  {
   "cells": [
    {
     "cell_type": "heading",
     "level": 1,
     "metadata": {},
     "source": [
      "Chapter 13 : Gear Trains"
     ]
    },
    {
     "cell_type": "heading",
     "level": 2,
     "metadata": {},
     "source": [
      "Example 13.1 Page No : 432"
     ]
    },
    {
     "cell_type": "code",
     "collapsed": false,
     "input": [
      "# Variables:\n",
      "NA = 975 \t\t\t#rpm\n",
      "TA = 20.\n",
      "TB = 50.\n",
      "TC = 25\n",
      "TD = 75\n",
      "TE = 26\n",
      "TF = 65\n",
      "\n",
      "#Solution:\n",
      "#Calculating the speed of gear F\n",
      "NF = NA*(TA*TC*TE)/(TB*TD*TF) \t\t\t#rpm\n",
      "\n",
      "#Results:\n",
      "print \" Speed of gear F, NF  =  %d rpm.\"%(NF)\n"
     ],
     "language": "python",
     "metadata": {},
     "outputs": [
      {
       "output_type": "stream",
       "stream": "stdout",
       "text": [
        " Speed of gear F, NF  =  52 rpm.\n"
       ]
      }
     ],
     "prompt_number": 1
    },
    {
     "cell_type": "heading",
     "level": 2,
     "metadata": {},
     "source": [
      "Example 13.2 Page No : 433"
     ]
    },
    {
     "cell_type": "code",
     "collapsed": false,
     "input": [
      "import math \n",
      "from numpy import linalg\n",
      "\n",
      "# Variables:\n",
      "x = 600.\n",
      "pc = 25. \t\t\t#mm\n",
      "N1 = 360.\n",
      "N2 = 120. \t\t\t#rpm\n",
      "#Solution:\n",
      "#Calculating the pitch circle diameters of each gear\n",
      "#Speed ratio N1/N2  =  d2/d1 or N1*d1-N2*d2  =  0                                .....(i)\n",
      "#Centre distance between the shafts x  =  1/2*(d1+d2) or d1+d2  =  600*2         .....(ii)\n",
      "A = [[N1, -N2],[ 1, 1]]\n",
      "B = [0, 600*2]\n",
      "V = linalg.solve(A,B)\n",
      "d1 = V[0] \t\t\t#mm\n",
      "d2 = V[1] \t\t\t#mm\n",
      "#Calculating the number of teeth on the first gear\n",
      "T1 = round(math.pi*d1/pc)\n",
      "#Calculating the number of teeth on the second gear\n",
      "T2 = int(math.pi*d2/pc+1)\n",
      "#Calculating the pitch circle diameter of the first gear\n",
      "d1dash = T1*pc/math.pi \t\t\t#mm\n",
      "#Calculating the pitch circle diameter of the second gear\n",
      "d2dash = T2*pc/math.pi \t\t\t#mm\n",
      "#Calculating the exact distance between the two shafts\n",
      "xdash = (d1dash+d2dash)/2 \t\t\t#mm\n",
      "\n",
      "#Results:\n",
      "print \" The number of teeth on the first and second gear must be %d and %d and their pitch\\\n",
      " circle diameters must be %.2f mm and %.1f mm respectively.\"%(T1,T2,d1dash,d2dash)\n",
      "print \" The exact distance between the two shafts must be %.2f mm.\"%(xdash)\n"
     ],
     "language": "python",
     "metadata": {},
     "outputs": [
      {
       "output_type": "stream",
       "stream": "stdout",
       "text": [
        " The number of teeth on the first and second gear must be 38 and 114 and their pitch circle diameters must be 302.39 mm and 907.2 mm respectively.\n",
        " The exact distance between the two shafts must be 604.79 mm.\n"
       ]
      }
     ],
     "prompt_number": 2
    },
    {
     "cell_type": "heading",
     "level": 2,
     "metadata": {},
     "source": [
      "Example 13.3 Page No : 435"
     ]
    },
    {
     "cell_type": "code",
     "collapsed": false,
     "input": [
      "from numpy import linalg\n",
      "import math \n",
      "\n",
      "# Variables:\n",
      "rAD = 12. \t\t\t#Speed ratio NA/ND\n",
      "mA = 3.125          #mm\n",
      "mB = mA             #mm\n",
      "mC = 2.5            #mm\n",
      "mD = mC             #mm\n",
      "x = 200. \t\t\t#mm\n",
      "\n",
      "#Solution:\n",
      "#Calculating the speed ratio between the gears A and B and C and D \n",
      "rAB = math.sqrt(rAD) \t\t\t#Speed ratio between the gears A and B\n",
      "rCD = math.sqrt(rAB) \t\t\t#Speed ratio between the gears C and D\n",
      "#Calculating the ratio of teeth on gear B to gear A\n",
      "rtBA = rAB \t\t\t#Ratio of teeth on gear B to gear A\n",
      "#Calculating the ratio of teeth on gear D to gear C\n",
      "rtDC = rCD \t\t\t#Ratio of teeth on gear D to gear C\n",
      "#Calculating the number of teeth on the gears A and B\n",
      "#Distance between the shafts x  =  mA*TA/2+mB*TB/2 or (mA/2)*TA+(mB/2)*TB  =  x        .....(i)\n",
      "#Ratio of teeth on gear B to gear A TB/TA  =  math.sqrt(12) or math.sqrt(12)*TA-TB  =  0         .....(ii)\n",
      "A = [[mA/2, mB/2],[math.sqrt(12) ,-1]]\n",
      "B = [x, 0]\n",
      "V = linalg.solve(A,B)\n",
      "TA = int(V[0])\n",
      "TB = round(V[1])\n",
      "#Calculating the number of teeth on the gears C and D\n",
      "#Dismath.tance between the shafts x  =  mC*TC/2+mD*TD/2 or (mC/2)*TC+(mD/2)*TD  =  x        .....(iii)\n",
      "#Ratio of teeth on gear D to gear C TD/TC  =  math.sqrt(12) or math.sqrt(12)*TC-TD  =  0         .....(iv)\n",
      "A = [[mC/2, mD/2],[ math.sqrt(12) ,-1]]\n",
      "B = [x, 0]\n",
      "V = linalg.solve(A,B)\n",
      "TC = round(V[0])\n",
      "TD = int(V[1])\n",
      "\n",
      "#Results:\n",
      "print \" Number of teeth on gear A, TA  =  %d.\"%(TA)\n",
      "print \" Number of teeth on gear B, TB  =  %d.\"%(TB)\n",
      "print \" Number of teeth on gear C, TC  =  %d.\"%(TC)\n",
      "print \" Number of teeth on gear D, TD  =  %d.\"%(TD)\n"
     ],
     "language": "python",
     "metadata": {},
     "outputs": [
      {
       "output_type": "stream",
       "stream": "stdout",
       "text": [
        " Number of teeth on gear A, TA  =  28.\n",
        " Number of teeth on gear B, TB  =  99.\n",
        " Number of teeth on gear C, TC  =  36.\n",
        " Number of teeth on gear D, TD  =  124.\n"
       ]
      }
     ],
     "prompt_number": 4
    },
    {
     "cell_type": "heading",
     "level": 2,
     "metadata": {},
     "source": [
      "Example 13.4 Page No : 438"
     ]
    },
    {
     "cell_type": "code",
     "collapsed": false,
     "input": [
      "import math \n",
      "\n",
      "# Variables:\n",
      "TA = 36.\n",
      "TB = 45.\n",
      "NC = 150. \t\t\t#rpm anticlockwise\n",
      "\n",
      "#Solution:\n",
      "#Refer Fig. 13.7\n",
      "#Algebraic method:\n",
      "#Calculating the speed of gear B when gear A is fixed\n",
      "NA = 0.\n",
      "NC = 150. \t\t\t#rpm\n",
      "NB1 = (-TA/TB)*(NA-NC)+NC \t\t\t#rpm\n",
      "#Calculating the speed of gear B when gear A makes 300 rpm clockwise\n",
      "NA = -300. \t\t\t#rpm\n",
      "NB2 = (-TA/TB)*(NA-NC)+NC \t\t\t#rpm\n",
      "\n",
      "#Results:\n",
      "print \" Speed of gear B when gear A is fixed, NB  =  %d rpm.\"%(NB1)\n",
      "print \" Speed of gear B when gear A makes 300 rpm clockwise, NB  =  %d rpm.\"%(NB2)\n"
     ],
     "language": "python",
     "metadata": {},
     "outputs": [
      {
       "output_type": "stream",
       "stream": "stdout",
       "text": [
        " Speed of gear B when gear A is fixed, NB  =  270 rpm.\n",
        " Speed of gear B when gear A makes 300 rpm clockwise, NB  =  510 rpm.\n"
       ]
      }
     ],
     "prompt_number": 5
    },
    {
     "cell_type": "heading",
     "level": 2,
     "metadata": {},
     "source": [
      "Example 13.5 Page No : 440"
     ]
    },
    {
     "cell_type": "code",
     "collapsed": false,
     "input": [
      "import math \n",
      "\n",
      "# Variables:\n",
      "TB = 75.\n",
      "TC = 30.\n",
      "TD = 90.\n",
      "NA = 100. \t\t\t#rpm clockwise\n",
      "\n",
      "#Solution:\n",
      "#Refer Table 13.3\n",
      "#Calculating the number of teeth on gear E\n",
      "TE = TC+TD-TB\n",
      "#Calculating the speed of gear C\n",
      "y = -100.\n",
      "x = y*(TB/TE)\n",
      "NC = y-x*(TD/TC) \t\t\t#rpm\n",
      "\n",
      "#Results:\n",
      "print \" Speed of gear C, NC  =  %d rpm, anticlockwise.\"%(NC)\n"
     ],
     "language": "python",
     "metadata": {},
     "outputs": [
      {
       "output_type": "stream",
       "stream": "stdout",
       "text": [
        " Speed of gear C, NC  =  400 rpm, anticlockwise.\n"
       ]
      }
     ],
     "prompt_number": 6
    },
    {
     "cell_type": "heading",
     "level": 2,
     "metadata": {},
     "source": [
      "Example 13.6 Page No : 443"
     ]
    },
    {
     "cell_type": "code",
     "collapsed": false,
     "input": [
      "import math \n",
      "\n",
      "# Variables:\n",
      "TA = 72.\n",
      "TC = 32.\n",
      "NEF = 18. \t\t\t#Speed of arm EF rpm\n",
      "\n",
      "#Solution:\n",
      "#Refer Table 13.5\n",
      "#Speed of gear C:\n",
      "y = 18. \t\t\t#rpm\n",
      "x = y*(TA/TC)\n",
      "NC = x+y \t\t\t#Speed of gear C rpm\n",
      "#Speed of gear B:\n",
      "#Calculating the number of teeth on gear B\n",
      "TB = (TA-TC)/2\n",
      "#Calculating the speed of gear B\n",
      "NB = y-x*(TC/TB) \t\t\t#Speed of gear B rpm\n",
      "\n",
      "#Solution:\n",
      "print \" Speed of gear C  =  %.1f rpm.\"%(NC)\n",
      "print \" Speed of gear B  =  %.1f rpm in the opposite direction of arm.\"%(-NB)\n"
     ],
     "language": "python",
     "metadata": {},
     "outputs": [
      {
       "output_type": "stream",
       "stream": "stdout",
       "text": [
        " Speed of gear C  =  58.5 rpm.\n",
        " Speed of gear B  =  46.8 rpm in the opposite direction of arm.\n"
       ]
      }
     ],
     "prompt_number": 7
    },
    {
     "cell_type": "heading",
     "level": 2,
     "metadata": {},
     "source": [
      "Example 13.7 Page No : 444"
     ]
    },
    {
     "cell_type": "code",
     "collapsed": false,
     "input": [
      "from numpy import linalg\n",
      "import math \n",
      "\n",
      "# Variables:\n",
      "TA = 40.\n",
      "TD = 90.\n",
      "\n",
      "#Solution:\n",
      "#Calculating the number of teeth on gears B and C\n",
      "#From geometry of the Fig. 13.11 dA+2*dB = dD\n",
      "#Since the number of teeth are proportional to their pitch circle diameters\n",
      "TB = (TD-TA)/2\n",
      "TC = TB\n",
      "#Refer Table 13.6\n",
      "#Speed of arm when A makes 1 revolution clockwise and D makes half revolution anticlockwise:\n",
      "#Calculating the values of x and y\n",
      "#From the fourth row of the table -x-y  =  -1 or x+y  =  1                            .....(i)\n",
      "#The gear D makes half revolution anticlockwise i.e. x*(TA/TD)-y  =  1/2            .....(ii)\n",
      "A = [[1, 1],[TA/TD, -1]]\n",
      "B = [1, 1./2]\n",
      "V = linalg.solve(A,B)\n",
      "x = V[0]\n",
      "y = V[1]\n",
      "#Calculating the speed of arm\n",
      "varm = -y \t\t\t#Speed of arm revolutions\n",
      "\n",
      "#Results:\n",
      "print \" Speed of arm when A makes 1 revolution clockwise and D makes half revolution\\\n",
      " anticlockwise  =  %.2f revolution anticlockwise.\"%(varm)\n",
      "#Speed of arm when A makes 1 revolution clockwise and D is stationary:\n",
      "#Calculating the values of x and y\n",
      "#From the fourth row of the table -x-y  =  -1 or x+y  =  1                            .....(iii)\n",
      "#The gear D is stationary i.e. x*(TA/TD)-y  =  0                                    .....(iv)\n",
      "A = [[1, 1],[ TA/TD, -1]]\n",
      "B = [1, 0]\n",
      "V = linalg.solve(A,B)\n",
      "x = V[0]\n",
      "y = V[1]\n",
      "#Calculating the speed of arm\n",
      "varm = -y \t\t\t#Speed of arm revolutions\n",
      "\n",
      "#Results:\n",
      "print \" Speed of arm when A makes 1 revolution clockwise and D is stationary  =  %.3f revolution\\\n",
      " clockwise.\"%(-varm)\n"
     ],
     "language": "python",
     "metadata": {},
     "outputs": [
      {
       "output_type": "stream",
       "stream": "stdout",
       "text": [
        " Speed of arm when A makes 1 revolution clockwise and D makes half revolution anticlockwise  =  0.04 revolution anticlockwise.\n",
        " Speed of arm when A makes 1 revolution clockwise and D is stationary  =  0.308 revolution clockwise.\n"
       ]
      }
     ],
     "prompt_number": 9
    },
    {
     "cell_type": "heading",
     "level": 2,
     "metadata": {},
     "source": [
      "Example 13.8 Page No : 446"
     ]
    },
    {
     "cell_type": "code",
     "collapsed": false,
     "input": [
      "import math \n",
      "\n",
      "# Variables:\n",
      "TC = 28.\n",
      "TD = 26.\n",
      "TE = 18.\n",
      "TF = TE\n",
      "\n",
      "#Solution:\n",
      "#The sketch is as in Fig. 13.12\n",
      "#Number of teeth on  wheels A and B:\n",
      "#From geometry dA  =  dC+2*dE and dB  =  dD+2*dF\n",
      "#Since the number of teeth are proportional to their pitch circle diameters\n",
      "TA = TC+2*TE\n",
      "TB = TD+2*TF\n",
      "#Speed of wheel B when arm G makes 100 rpm clockwise and wheel A is fixed:\n",
      "#Since the arm G makes 100 rpm clockwise therefore from the fourth row of Table 13.7\n",
      "y = -100\n",
      "x = -y\n",
      "#Calculating the speed of wheel B\n",
      "NB1 = y+x*(TA/TC)*(TD/TB) \t\t\t#Speed of wheel B when arm G makes 100 rpm clockwise and wheel A is fixed rpm\n",
      "#Speed of wheel B when arm G makes 100 rpm clockwise and wheel A makes 10 rpm counter clockwise:\n",
      "#Since the arm G makes 100 rpm clockwise therefore from the fourth row of Table 13.7\n",
      "y = -100\n",
      "x = 10-y\n",
      "#Calculating the speed of wheel B\n",
      "NB2 = y+x*(TA/TC)*(TD/TB) \t\t\t#Speed of wheel B when arm G makes 100 rpm clockwise and wheel A makes 10 rpm counter clockwise rpm\n",
      "\n",
      "#Solution:\n",
      "print \" Number of teeth on  wheel A, TA  =  %d.\"%(TA)\n",
      "print \" Number of teeth on  wheel B, TB  =  %d.\"%(TB)\n",
      "print \" Speed of wheel B when arm G makes 100 rpm clockwise and wheel A is fixed  =  %.1f rpm, clockwise.\"%(-NB1)\n",
      "print \" Speed of wheel B when arm G makes 100 rpm clockwise and wheel A makes 10 rpm counter\\\n",
      " clockwise  =  %.1f rpm, counter clockwise.\"%(NB2)\n"
     ],
     "language": "python",
     "metadata": {},
     "outputs": [
      {
       "output_type": "stream",
       "stream": "stdout",
       "text": [
        " Number of teeth on  wheel A, TA  =  64.\n",
        " Number of teeth on  wheel B, TB  =  62.\n",
        " Speed of wheel B when arm G makes 100 rpm clockwise and wheel A is fixed  =  4.1 rpm, clockwise.\n",
        " Speed of wheel B when arm G makes 100 rpm clockwise and wheel A makes 10 rpm counter clockwise  =  5.4 rpm, counter clockwise.\n"
       ]
      }
     ],
     "prompt_number": 10
    },
    {
     "cell_type": "heading",
     "level": 2,
     "metadata": {},
     "source": [
      "Example 13.9 Page No : 447"
     ]
    },
    {
     "cell_type": "code",
     "collapsed": false,
     "input": [
      "import math \n",
      "\n",
      "# Variables:\n",
      "dD = 224.\n",
      "m = 4. \t\t\t#mm\n",
      "\n",
      "#Solution:\n",
      "#Refer Table 13.8\n",
      "#Calculating the values of x and y\n",
      "y = 1.\n",
      "x = 5-y\n",
      "#Calculating the number of teeth on gear D\n",
      "TD = dD/m\n",
      "#Calculating the number of teeth on gear B\n",
      "TB = y/x*TD\n",
      "#Calculating the number of teeth on gear C\n",
      "TC = (TD-TB)/2\n",
      "\n",
      "#Results:\n",
      "print \" Number of teeth on gear D, TD  =  %d.\"%(TD)\n",
      "print \" Number of teeth on gear B, TB  =  %d.\"%(TB)\n",
      "print \" Number of teeth on gear C, TC  =  %d.\"%(TC)\n"
     ],
     "language": "python",
     "metadata": {},
     "outputs": [
      {
       "output_type": "stream",
       "stream": "stdout",
       "text": [
        " Number of teeth on gear D, TD  =  56.\n",
        " Number of teeth on gear B, TB  =  14.\n",
        " Number of teeth on gear C, TC  =  21.\n"
       ]
      }
     ],
     "prompt_number": 1
    },
    {
     "cell_type": "heading",
     "level": 2,
     "metadata": {},
     "source": [
      "Example 13.10 Page No : 448"
     ]
    },
    {
     "cell_type": "code",
     "collapsed": false,
     "input": [
      "from numpy import linalg\n",
      "import math \n",
      "\n",
      "# Variables:\n",
      "TC = 50.\n",
      "TD = 20.\n",
      "TE = 35.\n",
      "NA = 110. \t\t\t#rpm\n",
      "\n",
      "#Solution:\n",
      "#Calculating the number of teeth on internal gear G\n",
      "TG = TC+TD+TE\n",
      "#Speed of shaft B:\n",
      "#Calculating the values of x and y\n",
      "#From the fourth row of Table 13.9\n",
      "#y-x*(TC/TD)*(TE/TG)  =  0        .....(i)\n",
      "#Also x+y  =  110 or y+x  =  110                                     .....(ii)\n",
      "A = [[1, -(TC/TD)*(TE/TG)],[ 1, 1]]\n",
      "B = [0, 110]\n",
      "V = linalg.solve(A,B)\n",
      "x = V[1]\n",
      "y = V[0]\n",
      "#Calculating the speed of shaft B\n",
      "NB = round(+y) \t\t\t#Speed of shaft B rpm\n",
      "\n",
      "#Results:\n",
      "print \" Number of teeth on internal gear G, TG  =  %d.\"%(TG)\n",
      "print \" Speed of shaft B  =  %d rpm, anticlockwise.\"%(NB)\n"
     ],
     "language": "python",
     "metadata": {},
     "outputs": [
      {
       "output_type": "stream",
       "stream": "stdout",
       "text": [
        " Number of teeth on internal gear G, TG  =  105.\n",
        " Speed of shaft B  =  50 rpm, anticlockwise.\n"
       ]
      }
     ],
     "prompt_number": 13
    },
    {
     "cell_type": "heading",
     "level": 2,
     "metadata": {},
     "source": [
      "Example 13.11 Page No : 450"
     ]
    },
    {
     "cell_type": "code",
     "collapsed": false,
     "input": [
      "import math \n",
      "\n",
      "# Variables:\n",
      "TA = 12.\n",
      "TB = 30.\n",
      "TC = 14.\n",
      "NA = 1.\n",
      "ND = 5. \t\t\t#rps\n",
      "\n",
      "#Solution:\n",
      "#Number of teeth on wheels D and E:\n",
      "#Calculating the number of teeth on wheel E\n",
      "TE = TA+2*TB\n",
      "#Calculating the number of teeth on wheel E\n",
      "TD = TE-(TB-TC)\n",
      "#Magnitude and direction of angular velocities of arm OP and wheel E:\n",
      "#Calculating the values of x and y\n",
      "#From the fourth row of Table 13.10 -x-y  =  -1 or x+y  =  1            .....(i)\n",
      "#Also x*(TA/TB)*(TC/TD)-y  =  5                                        .....(ii)\n",
      "A = [[1, 1],[(TA/TB)*(TC/TD) ,-1]]\n",
      "B = [1, 5]\n",
      "V = linalg.solve(A,B)\n",
      "x = V[0]\n",
      "y = V[1]\n",
      "#Calculating the angular velocity of arm OP\n",
      "omegaOP = -y*2*math.pi \t\t\t#Angular velocity of arm OP rad/s\n",
      "#Calculating the angular velocity of wheel E\n",
      "omegaE = (x*TA/TE-y)*2*math.pi \t\t\t#Angular velocity of wheel E rad/s\n",
      "\n",
      "#Results:\n",
      "print \" Number of teeth on wheel E, TE  =  %d.\"%(TE)\n",
      "print \" Number of teeth on wheel D, TD  =  %d.\"%(TD)\n",
      "print \" Angular velocity of arm OP  =  %.3f rad/s, counter clockwise.\"%(omegaOP)\n",
      "print \" Angular velocity of wheel E  =  %.2f rad/s, counter clockwise.\"%(omegaE)\n"
     ],
     "language": "python",
     "metadata": {},
     "outputs": [
      {
       "output_type": "stream",
       "stream": "stdout",
       "text": [
        " Number of teeth on wheel E, TE  =  72.\n",
        " Number of teeth on wheel D, TD  =  56.\n",
        " Angular velocity of arm OP  =  27.989 rad/s, counter clockwise.\n",
        " Angular velocity of wheel E  =  33.70 rad/s, counter clockwise.\n"
       ]
      }
     ],
     "prompt_number": 14
    },
    {
     "cell_type": "heading",
     "level": 2,
     "metadata": {},
     "source": [
      "Example 13.12 Page No : 451"
     ]
    },
    {
     "cell_type": "code",
     "collapsed": false,
     "input": [
      "import math \n",
      "\n",
      "# Variables:\n",
      "TB = 80.\n",
      "TC = 82.\n",
      "TD = 28.\n",
      "NA = 500. \t\t\t#rpm\n",
      "\n",
      "#Solution:\n",
      "#Calculating the number of teeth on wheel E\n",
      "TE = TB+TD-TC\n",
      "#Calculating the values of x and y\n",
      "y = 800.\n",
      "x = -y*(TE/TB)*(TC/TD)\n",
      "#Calculating the speed of shaft F\n",
      "NF = x+y \t\t\t#Speed of shaft F rpm\n",
      "\n",
      "#Results:\n",
      "print \" Speed of shaft F  =  %d rpm, anticlockwise.\"%(NF)\n"
     ],
     "language": "python",
     "metadata": {},
     "outputs": [
      {
       "output_type": "stream",
       "stream": "stdout",
       "text": [
        " Speed of shaft F  =  38 rpm, anticlockwise.\n"
       ]
      }
     ],
     "prompt_number": 15
    },
    {
     "cell_type": "heading",
     "level": 2,
     "metadata": {},
     "source": [
      "Example 13.13 Page No : 452"
     ]
    },
    {
     "cell_type": "code",
     "collapsed": false,
     "input": [
      "# variables\n",
      "\n",
      "TA = 100. ;        # Gear A teeth\n",
      "TC = 101. ;        # Gear C teeth\n",
      "TD = 99. ;        # Gear D teeth\n",
      "TP = 20.          # Gear planet teeth\n",
      "y = 1\n",
      "x = 0 - y\n",
      "\n",
      "# calculations\n",
      "NC = y + x * TA/TC\n",
      "ND = y + x * TA/TD\n",
      "\n",
      "# results\n",
      "print \"revolutions of gear C : %.4f\"%NC\n",
      "print \"revolutions of gear D : %.4f \"%ND\n"
     ],
     "language": "python",
     "metadata": {},
     "outputs": [
      {
       "output_type": "stream",
       "stream": "stdout",
       "text": [
        "revolutions of gear C : 0.0099\n",
        "revolutions of gear D : -0.0101 \n"
       ]
      }
     ],
     "prompt_number": 11
    },
    {
     "cell_type": "heading",
     "level": 2,
     "metadata": {},
     "source": [
      "Example 13.14 Page No : 453"
     ]
    },
    {
     "cell_type": "code",
     "collapsed": false,
     "input": [
      "from numpy import linalg\n",
      "import math \n",
      "\n",
      "# Variables:\n",
      "NA = 300. \t\t\t#rpm\n",
      "TD = 40.\n",
      "TE = 30.\n",
      "TF = 50.\n",
      "TG = 80.\n",
      "TH = 40.\n",
      "TK = 20.\n",
      "TL = 30.\n",
      "\n",
      "#Solution:\n",
      "#Refer Fig. 13.18 and Table 13.13\n",
      "#Calculating the speed of wheel E\n",
      "NE = NA*(TD/TE) \t\t\t#rpm\n",
      "#Calculating the number of teeth on wheel C\n",
      "TC = TH+TK+TL\n",
      "#Speed and direction of rotation of shaft B:\n",
      "#Calculating the values of x and y\n",
      "#We have -x-y  =  -400 or x+y  =  400                    .....(i)\n",
      "#Also x*(TH/TK)*(TL/TC)-y  =  0                         .....(ii) \n",
      "A = [[1, 1],[ (TH/TK)*(TL/TC), -1]]\n",
      "B = [400, 0]\n",
      "V = linalg.solve(A,B)\n",
      "x = V[0]\n",
      "y = V[1]\n",
      "#Calculating the speed of wheel F\n",
      "NF = -y \t\t\t#rpm\n",
      "#Calculating the speed of shaft B\n",
      "NB = -NF*(TF/TG) \t\t\t#Speed of shaft B rpm\n",
      "\n",
      "#Results:\n",
      "print \" Number of teeth on wheel C, TC  =  %.1f.\"%(TC)\n",
      "print \" Speed of shaft B  =  %.1f rpm, anticlockwise.\"%(NB)\n"
     ],
     "language": "python",
     "metadata": {},
     "outputs": [
      {
       "output_type": "stream",
       "stream": "stdout",
       "text": [
        " Number of teeth on wheel C, TC  =  90.0.\n",
        " Speed of shaft B  =  100.0 rpm, anticlockwise.\n"
       ]
      }
     ],
     "prompt_number": 3
    },
    {
     "cell_type": "heading",
     "level": 2,
     "metadata": {},
     "source": [
      "Example 13.15 Page No : 455"
     ]
    },
    {
     "cell_type": "code",
     "collapsed": false,
     "input": [
      "from numpy import linalg\n",
      "import math \n",
      "\n",
      "# Variables:\n",
      "T1 = 80.\n",
      "T8 = 160.\n",
      "T4 = 100.\n",
      "T3 = 120.\n",
      "T6 = 20.\n",
      "T7 = 66.\n",
      "\n",
      "#Solution:\n",
      "#Refer Fig. 13.19 and Table 13.14\n",
      "#Calculating the number of teeth on wheel 2\n",
      "T2 = (T3-T1)/2\n",
      "#Calculating the values of x and y\n",
      "#Assuming that wheel 1 makes 1 rps anticlockwise x+y  =  1            .....(i)\n",
      "#Also y-x*(T1/T3)  =  0 or x*(T1/T3)-y  =  0                           .....(ii)\n",
      "A = [[1, 1],[ 1, T1/T3]]\n",
      "B = [1, 0]\n",
      "V = linalg.solve(A,B)\n",
      "x = V[0]\n",
      "y = V[1]\n",
      "#Calculating the speed of casing C\n",
      "NC = y \t\t\t#Speed of casing C rps\n",
      "#Calculating the speed of wheel 2\n",
      "N2 = y-x*(T1/T2) \t\t\t#Speed of wheel 2 rps\n",
      "#Calculating the number of teeth on wheel 5\n",
      "T5 = (T4-T6)/2\n",
      "#Calculating the values of x1 and y1\n",
      "y1 = -2\n",
      "x1 = (y1-0.4)*(T4/T6)\n",
      "#Calculating the speed of wheel 6\n",
      "N6 = x1+y1 \t\t\t#Speed of wheel 6 rps\n",
      "#Calculating the values of x2 and y2\n",
      "y2 = 0.4\n",
      "x2 = -(14+y2)*(T7/T8)\n",
      "#Calculating the speed of wheel 8\n",
      "N8 = x2+y2 \t\t\t#Speed of wheel 8 rps\n",
      "#Calculating the velocity ratio of the output shaft B to the input shaft A\n",
      "vr = N8/1 \t\t\t#Velocity ratio\n",
      "\n",
      "#Results:\n",
      "print \" Velocity ratio of the output shaft B to the input shaft A  =  %.2f.\"%(vr)\n"
     ],
     "language": "python",
     "metadata": {},
     "outputs": [
      {
       "output_type": "stream",
       "stream": "stdout",
       "text": [
        " Velocity ratio of the output shaft B to the input shaft A  =  -5.54.\n"
       ]
      }
     ],
     "prompt_number": 17
    },
    {
     "cell_type": "heading",
     "level": 2,
     "metadata": {},
     "source": [
      "Example 13.16 Page No : 459"
     ]
    },
    {
     "cell_type": "code",
     "collapsed": false,
     "input": [
      "import math \n",
      "\n",
      "# Variables:\n",
      "TA = 40.\n",
      "TB = 30.\n",
      "TC = 50.\n",
      "NX = 100.\n",
      "NA = NX \t\t\t    #rpm\n",
      "Narm = 100. \t\t\t#Speed of armrpm\n",
      "\n",
      "#Solution:\n",
      "#Refer Fig. 13.22 and Table 13.18\n",
      "#Calculating the values of x and y\n",
      "y = +100\n",
      "x = -100-y\n",
      "#Calculating the speed of the driven shaft\n",
      "NY = y-x*(TA/TB) \t\t\t#rpm\n",
      "\n",
      "#Results:\n",
      "print \" Speed of the driven shaft, NY  =  %.1f rpm, anticlockwise.\"%(NY)\n"
     ],
     "language": "python",
     "metadata": {},
     "outputs": [
      {
       "output_type": "stream",
       "stream": "stdout",
       "text": [
        " Speed of the driven shaft, NY  =  366.7 rpm, anticlockwise.\n"
       ]
      }
     ],
     "prompt_number": 18
    },
    {
     "cell_type": "heading",
     "level": 2,
     "metadata": {},
     "source": [
      "Example 13.17 Page No : 460"
     ]
    },
    {
     "cell_type": "code",
     "collapsed": false,
     "input": [
      "from numpy import linalg\n",
      "import math \n",
      "\n",
      "# Variables:\n",
      "TB = 20.\n",
      "TC = 80.\n",
      "TD = 80.\n",
      "TE = 30.\n",
      "TF = 32.\n",
      "NB = 1000. \t\t\t#rpm\n",
      "\n",
      "#Solution:\n",
      "#Refer Fig. 13.23 and Table 13.19\n",
      "#Speed of the output shaft when gear C is fixed:\n",
      "#Calculating the values of x and y\n",
      "#From the fourth row of the table y-x*(TB/TC)  =  0                .....(i) \n",
      "#Also x+y  =  +1000 or y+x  =  1000                                 .....(ii)\n",
      "A = [[1, -TB/TC],[ 1, 1]]\n",
      "B = [0, 1000]\n",
      "V = linalg.solve(A,B)\n",
      "x = V[1]\n",
      "y = V[0]\n",
      "#Calculating the speed of output shaft\n",
      "NF1 = y-x*(TB/TD)*(TE/TF) \t\t\t#Speed of the output shaft when gear C is fixed rpm\n",
      "#Speed of the output shaft when gear C is rotated at 10 rpm counter clockwise:\n",
      "#Calculating the values of x and y\n",
      "#From the fourth row of te table  y-x*(TB/TC)  =  +10                .....(iii)\n",
      "#Also x+y  =  +1000 or y+x  =  1000                                 .....(iv)\n",
      "A = [[1, -TB/TC],[1, 1]]\n",
      "B = [10, 1000]\n",
      "V = linalg.solve(A,B)\n",
      "x = V[1]\n",
      "y = V[0]\n",
      "#Calculating the speed of output shaft\n",
      "NF2 = y-x*(TB/TD)*(TE/TF) \t\t\t#Speed of the output shaft when gear C is rotated at 10 rpm counter clockwise rpm\n",
      "\n",
      "#Results:\n",
      "print \" Speed of the output shaft when gear C is fixed  =  %.1f rpm, counter clockwise.\"%(NF1)\n",
      "print \" Speed of the output shaft when gear C is rotated at 10 rpm counter clockwise  =  %.1f rpm, \\\n",
      " counter clockwise.\"%(NF2)\n"
     ],
     "language": "python",
     "metadata": {},
     "outputs": [
      {
       "output_type": "stream",
       "stream": "stdout",
       "text": [
        " Speed of the output shaft when gear C is fixed  =  12.5 rpm, counter clockwise.\n",
        " Speed of the output shaft when gear C is rotated at 10 rpm counter clockwise  =  22.4 rpm,  counter clockwise.\n"
       ]
      }
     ],
     "prompt_number": 19
    },
    {
     "cell_type": "heading",
     "level": 2,
     "metadata": {},
     "source": [
      "Example 13.18 Page No : 461"
     ]
    },
    {
     "cell_type": "code",
     "collapsed": false,
     "input": [
      "import math \n",
      "\n",
      "# Variables:\n",
      "TA = 10.\n",
      "TB = 60.\n",
      "NA = 1000.\n",
      "NQ = 210.\n",
      "ND = NQ \t\t\t#rpm\n",
      "\n",
      "#Solution:\n",
      "#Refer Fig. 13.24 and Table 13.20\n",
      "#Calculating the speed of crown gear B\n",
      "NB = NA*(TA/TB) \t\t\t#rpm\n",
      "#Calculating the values of x and y\n",
      "y = 200.\n",
      "x = y-210.\n",
      "#Calculating the speed of road wheel attached to axle P\n",
      "NC = x+y \t\t\t#Speed of road wheel attached to axle P rpm\n",
      "\n",
      "#Results:\n",
      "print \" Speed of road wheel attached to axle P  =  %d rpm.\"%(NC)\n"
     ],
     "language": "python",
     "metadata": {},
     "outputs": [
      {
       "output_type": "stream",
       "stream": "stdout",
       "text": [
        " Speed of road wheel attached to axle P  =  190 rpm.\n"
       ]
      }
     ],
     "prompt_number": 20
    },
    {
     "cell_type": "heading",
     "level": 2,
     "metadata": {},
     "source": [
      "Example 13.19 Page No : 463"
     ]
    },
    {
     "cell_type": "code",
     "collapsed": false,
     "input": [
      "from numpy import linalg\n",
      "import math \n",
      "\n",
      "# Variables:\n",
      "TA = 15.\n",
      "TB = 20.\n",
      "TC = 15.\n",
      "NA = 1000. \t\t\t#rpm\n",
      "Tm = 100. \t\t\t#Torque developed by motor N-m\n",
      "\n",
      "#Solution:\n",
      "#Refer Fig. 13.26 and Table 13.21\n",
      "#Calculating the number of teeth on gears E and D\n",
      "TE = TA+2*TB\n",
      "TD = TE-(TB-TC)\n",
      "#Speed of the machine shaft:\n",
      "#From the fourth row of the table x+y  =  1000 or y+x  =  1000        .....(i)\n",
      "#Also y-x*(TA/TE)  =  0                                              .....(ii) \n",
      "A = [[1, 1],[1, -TA/TE]]\n",
      "B = [1000, 0]\n",
      "V = linalg.solve(A,B)\n",
      "y = round(V[0])\n",
      "x = round(V[1])\n",
      "#Calculating the speed of machine shaft\n",
      "ND = y-x*(TA/TB)*(TC/TD) \t\t\t#rpm\n",
      "#Calculating the torque exerted on the machine shaft\n",
      "Ts = Tm*NA/ND \t\t\t#Torque exerted on the machine shaft N-m\n",
      "\n",
      "#Results:\n",
      "print \" Speed of machine shaft, ND  =  %.2f rpm, anticlockwise.\"%(ND)\n",
      "print \" Torque exerted on the machine shaft  =  %.f N-m.\"%(Ts)\n"
     ],
     "language": "python",
     "metadata": {},
     "outputs": [
      {
       "output_type": "stream",
       "stream": "stdout",
       "text": [
        " Speed of machine shaft, ND  =  37.15 rpm, anticlockwise.\n",
        " Torque exerted on the machine shaft  =  2692 N-m.\n"
       ]
      }
     ],
     "prompt_number": 5
    },
    {
     "cell_type": "heading",
     "level": 2,
     "metadata": {},
     "source": [
      "Example 13.20 Page No : 465"
     ]
    },
    {
     "cell_type": "code",
     "collapsed": false,
     "input": [
      "import math \n",
      "\n",
      "# Variables:\n",
      "Ts = 100 \t\t\t#Torque on the sun wheel N-m\n",
      "r = 5 \t\t\t#Ratio of speeds of gear S to C NS/NC\n",
      "#Refer Fig. 13.27 and Table 13.22\n",
      "#Number of teeth on different wheels:\n",
      "#Calculating the values of x and y\n",
      "y = 1.\n",
      "x = 5-y\n",
      "\n",
      "#Calculating the number of teeth on wheel E\n",
      "TS = 16.\n",
      "TE = 4*TS\n",
      "#Calculating the number of teeth on wheel P\n",
      "TP = (TE-TS)/2\n",
      "#Torque necessary to keep the internal gear stationary:\n",
      "Tc = Ts*r \t\t\t#Torque on CN-m\n",
      "#Caluclating the torque necessary to keep the internal gear stationary\n",
      "Ti = Tc-Ts \t\t\t#Torque necessary to keep the internal gear stationary N-m\n",
      "\n",
      "#Results:\n",
      "print \" Number of teeth on different wheels, TE  =  %d.\"%(TE)\n",
      "print \" Torque necessary to keep the internal gear stationary  =  %d N-m.\"%(Ti)\n"
     ],
     "language": "python",
     "metadata": {},
     "outputs": [
      {
       "output_type": "stream",
       "stream": "stdout",
       "text": [
        " Number of teeth on different wheels, TE  =  64.\n",
        " Torque necessary to keep the internal gear stationary  =  400 N-m.\n"
       ]
      }
     ],
     "prompt_number": 23
    },
    {
     "cell_type": "heading",
     "level": 2,
     "metadata": {},
     "source": [
      "Example 13.21 Page No : 466"
     ]
    },
    {
     "cell_type": "code",
     "collapsed": false,
     "input": [
      "import math \n",
      "from numpy import linalg\n",
      "\n",
      "# Variables:\n",
      "TA = 14.\n",
      "TC = 100.\n",
      "r = 98./41 \t\t\t#TE/TD\n",
      "PA = 1.85*1000 \t\t\t#W\n",
      "NA = 1200. \t\t\t#rpm\n",
      "TB = 43\n",
      "\n",
      "#Solution:\n",
      "#Refer Fig. 13.28 and Table 13.23\n",
      "#Calculating the number of teeth on wheel B TB = (TC-TA)/2\n",
      "#Calculating the values of x and y\n",
      "#From the fourth row of the table  -y+x*(TA/TC)  =  0 or x*(TA/TC)-y  =  0    .....(i)\n",
      "#Also x-y  =  1200 or x+y  =  -1200                                         .....(ii)\n",
      "A = [[TA/TC, -1],[ 1, 1]]\n",
      "B = [0, -1200]\n",
      "V = linalg.solve(A,B)\n",
      "x = V[0]\n",
      "y = V[1]\n",
      "#Calculating the speed of gear E\n",
      "NE = round(-y+x*(TA/TB)*(1./r)) \t\t\t#rpm\n",
      "#Fixing torque required at C:\n",
      "#Calculating the torque on A\n",
      "Ta = PA*60./(2*math.pi*NA) \t\t\t#Torque on A N-m\n",
      "#Calculating the torque on E\n",
      "Te = PA*60./(2*math.pi*NE) \t\t\t#Torque on E\n",
      "#Calculating the fixing torque required at C\n",
      "Tc = Te-Ta \t\t\t#Fixing torque at C N-m\n",
      "\n",
      "#Results:\n",
      "print \" Speed and direction of rotation of gear E, NE  =  %d rpm, anticlockwise.\"%(NE)\n",
      "print \" Fixing torque required at C  =  %.1f N-m.\"%(Tc)\n"
     ],
     "language": "python",
     "metadata": {},
     "outputs": [
      {
       "output_type": "stream",
       "stream": "stdout",
       "text": [
        " Speed and direction of rotation of gear E, NE  =  4 rpm, anticlockwise.\n",
        " Fixing torque required at C  =  4401.8 N-m.\n"
       ]
      }
     ],
     "prompt_number": 9
    },
    {
     "cell_type": "heading",
     "level": 2,
     "metadata": {},
     "source": [
      "Example 13.22 Page No : 468"
     ]
    },
    {
     "cell_type": "code",
     "collapsed": false,
     "input": [
      "from numpy import linalg\n",
      "import math \n",
      "\n",
      "# Variables:\n",
      "TB = 15.\n",
      "TA = 60.\n",
      "TC = 20.\n",
      "omegaY = 740.\n",
      "omegaA = omegaY \t\t\t#rad/s\n",
      "P = 130*1000. \t\t\t#W\n",
      "\n",
      "#Solution:\n",
      "#Refer Fig. 13.29 and Table 13.24\n",
      "#Calculating the number of teeth on wheel D\n",
      "TD = TA-(TC+TB)\n",
      "#Calculating the values of x and y\n",
      "#From the fourth row of the table y-x*(TD/TC)*(TB/TA)  =  740            .....(i)\n",
      "#Also x+y  =  0 or y+x  =  0                                              .....(ii)\n",
      "A = [[1, -(TD/TC)*(TB/TA)],[ 1, 1]]\n",
      "B = [740, 0]\n",
      "V = linalg.solve(A,B)\n",
      "x = V[1]\n",
      "y = V[0]\n",
      "#Calculating the speed of shaft X\n",
      "omegaX = y \t\t\t#rad/s\n",
      "#Holding torque on wheel D:\n",
      "#Calculating the torque on A\n",
      "Ta = P/omegaA \t\t\t#Torque on A N-m\n",
      "#Calculating the torque on X\n",
      "Tx = P/omegaX \t\t\t#Torque on X N-m\n",
      "#Calculating the holding torque on wheel D\n",
      "Td = Tx-Ta \t\t\t#Holding torque on wheel D N-m\n",
      "\n",
      "#Results:\n",
      "print \" Speed of shaft X, omegaX  =  %.1f rad/s.\"%(omegaX)\n",
      "print \" Holding torque on wheel D  =  %.1f N-m.\"%(Td)\n"
     ],
     "language": "python",
     "metadata": {},
     "outputs": [
      {
       "output_type": "stream",
       "stream": "stdout",
       "text": [
        " Speed of shaft X, omegaX  =  563.8 rad/s.\n",
        " Holding torque on wheel D  =  54.9 N-m.\n"
       ]
      }
     ],
     "prompt_number": 25
    },
    {
     "cell_type": "heading",
     "level": 2,
     "metadata": {},
     "source": [
      "Example 13.23 Page No : 469"
     ]
    },
    {
     "cell_type": "code",
     "collapsed": false,
     "input": [
      "from numpy import linalg\n",
      "import math \n",
      "\n",
      "# Variables:\n",
      "TP = 144.\n",
      "TQ = 120.\n",
      "TR = 120.\n",
      "TX = 36.\n",
      "TY = 24.\n",
      "TZ = 30.\n",
      "NI = 1500. \t\t\t#rpm\n",
      "P = 7.5*1000 \t\t\t#W\n",
      "eta = 0.8\n",
      "\n",
      "#Solution:\n",
      "#Refer Fig. 13.30 and Table 13.25\n",
      "#Calculating the values of x and y\n",
      "#From the fourth row of the table x+y  =  -1500        .....(i) \n",
      "#Also y-x*(TZ/TR)  =  0 or -x*(TZ/TR)+y  =  0           .....(ii)\n",
      "A = [[1, 1],[-TZ/TR, 1]]\n",
      "B = [-1500, 0]\n",
      "V = linalg.solve(A,B)\n",
      "x = V[0]\n",
      "y = V[1]\n",
      "\n",
      "#Calculating the values of x1 and y1\n",
      "#We have y1-x1*(TY/TQ)  =  y                           .....(iii)\n",
      "#Also x1+y1  =  x+y or y1+x1  =  x+y                    .....(iv)\n",
      "A = [[1, -TY/TQ],[ 1, 1]]\n",
      "B = [y, x+y]\n",
      "V = linalg.solve(A , B)\n",
      "x1 = V[1]\n",
      "y1 = V[0]\n",
      "#Speed and direction of the driven shaft O and the wheel P:\n",
      "#Calculating the speed of shaft O\n",
      "NO = y1 \t\t\t#rpm\n",
      "#Calculating the speed of wheel P\n",
      "NP = y1+x1*(TY/TQ)*(TX/TP) \t\t\t#rpm\n",
      "#Torque tending to rotate the fixed wheel R:\n",
      "#Calculating the torque on shaft I\n",
      "T1 = P*60/(2*math.pi*NI) \t\t\t#N-m\n",
      "#Calculating the torque on shaft O\n",
      "T2 = eta*P*60/(2*math.pi*(-NO)) \t\t\t#N-m\n",
      "#Calculating the torque tending to rotate the fixed wheel R\n",
      "T = T2-T1 \t\t\t#Torque tending to rotate the fixed wheel R N-m\n",
      "\n",
      "#Results:\n",
      "print \" Speed of the driven shaft O, NO  =  %d rpm, clockwise.\"%(-NO)\n",
      "print \" Speed of the wheel P, NP  =  %d rpm, clockwise.\"%(-NP)\n",
      "print \" Torque tending to rotate the fixed wheel R  =  %.2f N-m.\"%(T)\n"
     ],
     "language": "python",
     "metadata": {},
     "outputs": [
      {
       "output_type": "stream",
       "stream": "stdout",
       "text": [
        " Speed of the driven shaft O, NO  =  500 rpm, clockwise.\n",
        " Speed of the wheel P, NP  =  550 rpm, clockwise.\n",
        " Torque tending to rotate the fixed wheel R  =  66.85 N-m.\n"
       ]
      }
     ],
     "prompt_number": 26
    },
    {
     "cell_type": "heading",
     "level": 2,
     "metadata": {},
     "source": [
      "Example 13.24 Page No : 471"
     ]
    },
    {
     "cell_type": "code",
     "collapsed": false,
     "input": [
      "from numpy import linalg\n",
      "import math \n",
      "\n",
      "# Variables:\n",
      "TA = 34.\n",
      "TB = 120.\n",
      "TC = 150.\n",
      "TD = 38.\n",
      "TE = 50.\n",
      "PX = 7.5*1000 \t\t\t#W\n",
      "NX = 500. \t\t\t#rpm\n",
      "m = 3.5 \t\t\t#mm\n",
      "\n",
      "#Solution:\n",
      "#Refer Fig. 13.31 and Table 13.27\n",
      "#Output torque of shaft Y:\n",
      "#Calculating the values of x and y\n",
      "#From the fourth row of the table x+y  =  500 or y+x  =  500        .....(i)\n",
      "#Alsoy-x*(TA/TC)  =  0                                            .....(ii)\n",
      "A = [[1, 1],[ 1, -TA/TC]]\n",
      "B = [500, 0]\n",
      "V = linalg.solve(A, B)\n",
      "y = round(V[0],1) \t\t\t#rpm\n",
      "x = round(V[1],1) \t\t\t#rpm\n",
      "#Calculating the speed of output shaft Y\n",
      "NY = y-x*(TA/TB)*(TD/TE) \t\t\t#rpm\n",
      "#Calculating the speed of wheel E\n",
      "NE = NY \t\t\t#rpm\n",
      "#Calculating the input power assuming 100 per cent efficiency\n",
      "PY = PX \t\t\t#W\n",
      "#Calculating the output torque of shaft Y\n",
      "Ty = PY*60/(2*math.pi*NY*1000) \t\t\t#Output torque on shaft Y kN-m\n",
      "#Tangential force between wheels D and E:\n",
      "#Calculating the pitch circle radius of wheel E\n",
      "rE = m*TE/(2*1000) \t\t\t#m\n",
      "#Calculating the tangential force between wheels D and E\n",
      "FtDE = Ty/rE \t\t\t#Tangential force between wheels D and E kN\n",
      "#Tangential force between wheels B and C:\n",
      "#Calculating the input torque on shaft X\n",
      "Tx = PX*60/(2*math.pi*NX) \t\t\t#Input torque on shaft X N-m\n",
      "#Calculating the fixing torque on the fixed wheel C\n",
      "Tf = Ty-Tx/1000 \t\t\t#Fixing torque on the fixed wheelC kN-m\n",
      "#Calculating the pitch circle radius of wheel C\n",
      "rC = m*TC/(2*1000) \t\t\t#m\n",
      "#Calculating the tangential forces between wheels B and C\n",
      "FtBC = Tf/rC \t\t\t#kN\n",
      "\n",
      "#Results:\n",
      "print \" Output torque of shaft Y  =  %.3f kN-m.\"%(Ty)\n",
      "print \" Tangential force between wheels D and E  =  %.1f kN.\"%(FtDE)\n",
      "print \" Tangential force between wheels B and C  =  %.f kN.\"%(FtBC)\n",
      "\n",
      "# note : answers are slightly different because of solve function and rounding off errors."
     ],
     "language": "python",
     "metadata": {},
     "outputs": [
      {
       "output_type": "stream",
       "stream": "stdout",
       "text": [
        " Output torque of shaft Y  =  15.468 kN-m.\n",
        " Tangential force between wheels D and E  =  176.8 kN.\n",
        " Tangential force between wheels B and C  =  58 kN.\n"
       ]
      }
     ],
     "prompt_number": 6
    }
   ],
   "metadata": {}
  }
 ]
}