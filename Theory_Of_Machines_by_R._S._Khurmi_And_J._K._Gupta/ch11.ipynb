{
 "metadata": {
  "name": "",
  "signature": "sha256:090249f83a260ba2b6a1983f6426576be55ba0e881a9fae7d9c5cbc674e22e36"
 },
 "nbformat": 3,
 "nbformat_minor": 0,
 "worksheets": [
  {
   "cells": [
    {
     "cell_type": "heading",
     "level": 1,
     "metadata": {},
     "source": [
      "Chapter 11 : Belt, Rope and Chain Drives"
     ]
    },
    {
     "cell_type": "heading",
     "level": 2,
     "metadata": {},
     "source": [
      "Example 11.1 Page No : 333"
     ]
    },
    {
     "cell_type": "code",
     "collapsed": false,
     "input": [
      "import math \n",
      "\n",
      "# Variables:\n",
      "N1 = 150. \t\t\t#rpm\n",
      "d1 = 750.           #mm\n",
      "d2 = 450.           #mm\n",
      "d3 = 900.           #mm\n",
      "d4 = 150. \t\t\t#mm\n",
      "\n",
      "#Solution:\n",
      "#Calculating the speed of the dynamo shaft when there is no slip\n",
      "N41 = N1*(d1*d3)/(d2*d4) \t\t\t#rpm\n",
      "#Calculating the speed of the dynamo shaft whne there is a slip of 2% at each drive\n",
      "s1 = 2.\n",
      "s2 = 2. \t\t\t#%\n",
      "N42 = N1*(d1*d3)/(d2*d4)*(1-s1/100)*(1-s2/100) \t\t\t#rpm\n",
      "\n",
      "#Results:\n",
      "print \" Speed of the dynamo shaft when there is no slip, N4  =  %d rpm.\"%(N41)\n",
      "print \" Speed of the dynamo shaft when there is a slip of 2 %% at each drive, N4  =  %d rpm.\"%(N42)\n"
     ],
     "language": "python",
     "metadata": {},
     "outputs": [
      {
       "output_type": "stream",
       "stream": "stdout",
       "text": [
        " Speed of the dynamo shaft when there is no slip, N4  =  1500 rpm.\n",
        " Speed of the dynamo shaft when there is a slip of 2 % at each drive, N4  =  1440 rpm.\n"
       ]
      }
     ],
     "prompt_number": 2
    },
    {
     "cell_type": "heading",
     "level": 2,
     "metadata": {},
     "source": [
      "Example 11.2 Page No : 334"
     ]
    },
    {
     "cell_type": "code",
     "collapsed": false,
     "input": [
      "import math \n",
      "\n",
      "# Variables:\n",
      "d1 = 1.\n",
      "d2 = 2.25 \t\t\t#m\n",
      "N1 = 200. \t\t\t#rpm\n",
      "sigma1 = 1.4*10**6\n",
      "sigma2 = 0.5*10**6\n",
      "E = 100.*10**6 \t\t\t#N/m**2\n",
      "\n",
      "#Solution:\n",
      "#Calculating the speed of the driven pulley\n",
      "N21 = round(N1*(d1/d2),1) \t\t\t#rpm\n",
      "\n",
      "#Calculating the speed of the shaft considering creep\n",
      "N22 = N1*(d1/d2)*(E+math.sqrt(sigma2))/(E+math.sqrt(sigma1))\t\t\t#rpm\n",
      "#Calculating the speed lost by the driven pulley due to creep\n",
      "Nl = N21-N22 \t\t\t#Speed lost by the driven pulley due to creep rpm\n",
      "\n",
      "#Results:\n",
      "print \" Speed lost by the driven pulley due to creep  =  %.3f rpm.\"%(Nl)\n",
      "\n",
      "# note : answer is accurate. please check using calculator."
     ],
     "language": "python",
     "metadata": {},
     "outputs": [
      {
       "output_type": "stream",
       "stream": "stdout",
       "text": [
        " Speed lost by the driven pulley due to creep  =  0.012 rpm.\n"
       ]
      }
     ],
     "prompt_number": 7
    },
    {
     "cell_type": "heading",
     "level": 2,
     "metadata": {},
     "source": [
      "Example 11.3 Page No : 337"
     ]
    },
    {
     "cell_type": "code",
     "collapsed": false,
     "input": [
      "from numpy import linalg\n",
      "from scipy.optimize import fsolve \n",
      "import math \n",
      "\n",
      "# Variables:\n",
      "N1 = 160.          #rpm\n",
      "N3 = N1            #rpm\n",
      "N5 = N3            #rpm\n",
      "N2 = 60.           #rpm\n",
      "N4 = 80.           #rpm\n",
      "N6 = 100. \t\t\t#rpm\n",
      "x = 720.\n",
      "r1 = 40. \t\t\t#mm\n",
      "\n",
      "#Solution:\n",
      "#For a crossed belt:\n",
      "#Calcluating the radii of pulleys 2 3 4 5 and 6 \n",
      "r2 = r1*(N1/N2) \t\t\t#mm\n",
      "#For pulleys 3 and 4 r4  =  r3*(N3/N4) or r3*(N3/N4)-r4  =  0\n",
      "#For a crossed belt drive r3+r4  =  r1+r2\n",
      "A = [[N3/N4, -1],[ 1, 1]]\n",
      "B = [0, r1+r2]\n",
      "V = linalg.solve(A,B)\n",
      "r3 = V[0] \t\t\t#mm\n",
      "r4 = V[1] \t\t\t#mm\n",
      "#For pulleys 5 and 6 r6  =  r5*(N5/N6) or r5*(N5/N6)-r6  =  0\n",
      "#For a crossed belt drive r5+r6  =  r1+r2\n",
      "A = [[N5/N6, -1],[ 1, 1]]\n",
      "B = [0, r1+r2]\n",
      "V = linalg.solve(A,B)\n",
      "r5 = V[0] \t\t\t#mm\n",
      "r6 = V[1] \t\t\t#mm\n",
      "\n",
      "#Results:\n",
      "print \" For a crossed belt, r2  =  %.1fmm;\"%(r2)\n",
      "print \" r3  =  %.1f mm;\"%(r3)\n",
      "print \" r4  =  %.1f mm;\"%(r4)\n",
      "print \" r5  =  %.1f mm;\"%(r5)\n",
      "print \" r6  =  %.1f mm.\"%(r6)\n",
      "#For an open belt:\n",
      "#Calcluating the radii of pulleys 2 3 4 5 and 6\n",
      "r2 = r1*(N1/N2) \t\t\t#mm\n",
      "#Calculating the length of belt for an open belt drive\n",
      "L = math.pi*(r1+r2)+(r2-r1)**2/x+2*x \t\t\t#mm\n",
      "#For pulleys 3 and 4 r4  =  r3*(N3/N4) or r3*(N3/N4)-r4  =  0\n",
      "#Since L is constant for pulleys 3 and 4 pi*(r3+r4)+(r4-r3)**2/x+2*x-L  =  0\n",
      "def  f(a):\n",
      "    r3 = a[0]\n",
      "    r4 = a[1]\n",
      "    y = [0,0]\n",
      "    y[0] = r3*(N3/N4)-r4\n",
      "    y[1] = math.pi*(r3+r4)+(r4-r3)**2/x+2*x-L\n",
      "    return y\n",
      "\n",
      "z = fsolve(f,[1,1])\n",
      "r3 = z[0] \t\t\t#mm\n",
      "r4 = z[1] \t\t\t#mm\n",
      "#For pulleys 5 and 6 r6  =  r5*(N5/N6) or r5*(N5/N6)-r6  =  0\n",
      "#Since L is constant for pulleys 5 and 6 pi*(r5+r6)+(r6-r5)**2/x+2*x-L  =  0\n",
      "def f1(a):\n",
      "    r5 = a[0]\n",
      "    r6 = a[1]\n",
      "    y = [0,0]\n",
      "    y[0] = r5*(N5/N6)-r6\n",
      "    y[1] = math.pi*(r5+r6)+(r6-r5)**2/x+2*x-L\n",
      "    return y\n",
      "\n",
      "z = fsolve(f1,[1,1])\n",
      "r5 = z[0] \t\t\t#mm\n",
      "r6 = z[1] \t\t\t#mm\n",
      "\n",
      "#Results:\n",
      "print \" For an open belt, r2  =  %.1fmm\"%(r2)\n",
      "print \" r3  =  %.1f mm;\"%(r3)\n",
      "print \" r4  =  %.1f mm;\"%(r4)\n",
      "print \" r5  =  %d mm;\"%(round(r5,-1))\n",
      "print \" r6  =  %d mm.\"%(r6)\n",
      "\n",
      "# note : answers are slightly different because of fsolve function and rounding off error."
     ],
     "language": "python",
     "metadata": {},
     "outputs": [
      {
       "output_type": "stream",
       "stream": "stdout",
       "text": [
        " For a crossed belt, r2  =  106.7mm;\n",
        " r3  =  48.9 mm;\n",
        " r4  =  97.8 mm;\n",
        " r5  =  56.4 mm;\n",
        " r6  =  90.3 mm.\n",
        " For an open belt, r2  =  106.7mm\n",
        " r3  =  49.2 mm;\n",
        " r4  =  98.4 mm;\n",
        " r5  =  60 mm;\n",
        " r6  =  91 mm.\n"
       ]
      }
     ],
     "prompt_number": 6
    },
    {
     "cell_type": "heading",
     "level": 2,
     "metadata": {},
     "source": [
      "Example 11.4 Page No : 342"
     ]
    },
    {
     "cell_type": "code",
     "collapsed": false,
     "input": [
      "import math \n",
      "\n",
      "# Variables:\n",
      "d = 600./1000 \t\t\t#m\n",
      "N = 200. \t\t\t    #rpm\n",
      "mu = 0.25\n",
      "theta = 160*math.pi/180 \t\t\t#radians\n",
      "T1 = 2500. \t\t\t#N\n",
      "\n",
      "#Solution:\n",
      "#Calcluating the velocity of the belt\n",
      "v = math.pi*d*N/60 \t\t\t#m/s\n",
      "#Calcluating the tension in the slack side of the belt\n",
      "T2 = T1/math.exp(mu*theta) \t\t\t#N\n",
      "#Calcluating the power transmitted by the belt\n",
      "P = (T1-T2)*v/1000 \t\t\t#kW\n",
      "\n",
      "#Results:\n",
      "print \" Power transmitted by the belt, P  =  %.2f kW.\"%(P)\n"
     ],
     "language": "python",
     "metadata": {},
     "outputs": [
      {
       "output_type": "stream",
       "stream": "stdout",
       "text": [
        " Power transmitted by the belt, P  =  7.89 kW.\n"
       ]
      }
     ],
     "prompt_number": 4
    },
    {
     "cell_type": "heading",
     "level": 2,
     "metadata": {},
     "source": [
      "Example 11.5 Page No : 343"
     ]
    },
    {
     "cell_type": "code",
     "collapsed": false,
     "input": [
      "import math \n",
      "\n",
      "# Variables:\n",
      "W = 9.*1000\n",
      "T1 = W \t\t\t#N\n",
      "d = 300./1000 \t#m\n",
      "N = 20. \t\t#rpm\n",
      "mu = 0.25\n",
      "\n",
      "#Solution:\n",
      "#Force required by the man:\n",
      "#Calculating the angle of contact\n",
      "theta = 2.5*2*math.pi \t\t\t#rad\n",
      "#Calculating the force required by the man\n",
      "T2 = T1/math.exp(mu*theta) \t\t\t#N\n",
      "#Power to raise the casting:\n",
      "#Calculating the velocity of the rope\n",
      "v = math.pi*d*N/60 \t\t\t#m/s\n",
      "#Calculating the power to raise the casting\n",
      "P = (T1-T2)*v/1000 \t\t\t#kW\n",
      "\n",
      "#Results:\n",
      "print \" Force required by the man, T2  =  %.2f N.\"%(T2)\n",
      "print \" Power to raise the casting, P  =  %.3f kW.\"%(P)\n"
     ],
     "language": "python",
     "metadata": {},
     "outputs": [
      {
       "output_type": "stream",
       "stream": "stdout",
       "text": [
        " Force required by the man, T2  =  177.33 N.\n",
        " Power to raise the casting, P  =  2.772 kW.\n"
       ]
      }
     ],
     "prompt_number": 5
    },
    {
     "cell_type": "heading",
     "level": 2,
     "metadata": {},
     "source": [
      "Example 11.6 Page No : 344"
     ]
    },
    {
     "cell_type": "code",
     "collapsed": false,
     "input": [
      "import math \n",
      "\n",
      "# Variables:\n",
      "d1 = 450./1000     #mm\n",
      "r1 = d1/2          #m\n",
      "d2 = 200./1000     #m\n",
      "r2 = d2/2\n",
      "x = 1.95 \t\t\t#m\n",
      "N1 = 200. \t\t\t#rpm\n",
      "T1 = 1.*1000 \t\t\t#N\n",
      "mu = 0.25\n",
      "\n",
      "#Solution:\n",
      "#Calculating the speed of the belt\n",
      "v = math.pi*d1*N1/60 \t\t\t#m/s\n",
      "#Length of the belt:\n",
      "#Calculating the length of the crossed belt\n",
      "L = math.pi*(r1+r2)+2*x+(r1+r2)**2/x \t\t\t#m\n",
      "#Angle of contact between the belt and each pulley:\n",
      "#Calculating the angle alpha\n",
      "alpha = math.sin((r1+r2)/x)*180/math.pi \t\t\t#degrees\n",
      "#Calculating the angle of contact between the belt and each pulley\n",
      "theta = (180+2*alpha)*math.pi/180 \t\t\t#radians\n",
      "#Power transmitted:\n",
      "#Calculating the tension in the slack side of the belt\n",
      "T2 = T1/math.exp(mu*theta) \t\t\t#N\n",
      "#Calculating the power transmitted\n",
      "P = (T1-T2)*v/1000 \t\t\t#kW\n",
      "\n",
      "#Results:\n",
      "print \" Length of the belt, L  =  %.3f m.\"%(L)\n",
      "print \" Angle of contact between the belt and each pulley, theta  =  %.3f rad.\"%(theta)\n",
      "print \" Power transmitted, P  =  %.2f kW.\"%(P)\n"
     ],
     "language": "python",
     "metadata": {},
     "outputs": [
      {
       "output_type": "stream",
       "stream": "stdout",
       "text": [
        " Length of the belt, L  =  4.975 m.\n",
        " Angle of contact between the belt and each pulley, theta  =  3.473 rad.\n",
        " Power transmitted, P  =  2.73 kW.\n"
       ]
      }
     ],
     "prompt_number": 7
    },
    {
     "cell_type": "heading",
     "level": 2,
     "metadata": {},
     "source": [
      "Example 11.7 Page No : 347"
     ]
    },
    {
     "cell_type": "code",
     "collapsed": false,
     "input": [
      "from numpy import linalg\n",
      "import math \n",
      "\n",
      "# Variables:\n",
      "N1 = 200.\n",
      "N2 = 300. \t\t\t#rpm\n",
      "P = 6.*1000 \t\t#W\n",
      "b = 100.\n",
      "t = 10. \t\t\t#mm\n",
      "x = 4.\n",
      "d2 = 0.5 \t\t\t#m\n",
      "mu = 0.3\n",
      "\n",
      "#Solution:\n",
      "#Stress in the belt for an open belt drive:\n",
      "#Calculating the diameter of the larger pulley\n",
      "d1 = d2*(N2/N1) \t\t\t#m\n",
      "#Calculating the velocity of the belt\n",
      "v = math.pi*d2*N2/60 \t\t\t#m/s\n",
      "#Calculating the angle alpha for an open belt drive\n",
      "alphao = math.sin((r1-r2)/x)*180/math.pi \t\t\t#degrees\n",
      "#Calculating the angle of contact on the smaller pulley\n",
      "thetao = (180-2*alphao)*math.pi/180 \t\t\t#radians\n",
      "#Calculating the tensions in the belt\n",
      "#Ratio of the tensions in the belt T1/T2  =  math.exp(mu*thetao) or T1-T2*math.exp(mu*thetao)  =  0\n",
      "#Power transmitted P  =  (T1-T2)*v or T1-T2  =  P/v\n",
      "A = [[1, -math.exp(mu*thetao)],[ 1, -1]]\n",
      "B = [0, P/v]\n",
      "V = linalg.solve(A,B)\n",
      "T1o = V[0] \t\t\t#N\n",
      "T2o = V[1] \t\t\t#N\n",
      "#Calculating the stress in the belt\n",
      "sigmao = T1o/(b*t) \t\t\t#MPa\n",
      "#Stress in the belt for a cross belt drive:\n",
      "#Calculating the angle alpha for a cross belt drive\n",
      "alphac = math.sin((d1+d2)/(2*x))*180/math.pi \t\t\t#degrees\n",
      "#Calculating the angle of contact\n",
      "thetac = (180+2*alphac)*math.pi/180 \t\t\t#radians\n",
      "#Calculating the tensions in the belt \n",
      "#Ratio of the tensions in the belt T1/T2  =  math.exp(mu*thetac) or T1-T2*math.exp(mu*thetac)  =  0\n",
      "#Power transmitted P  =  (T1-T2)*v or T1-T2  =  P/v\n",
      "A = [[1, -math.exp(mu*thetac)],[ 1, -1]]\n",
      "B = [0, P/v]\n",
      "V = linalg.solve(A,B)\n",
      "T1c = V[0] \t\t\t#N\n",
      "T2c = V[1] \t\t\t#N\n",
      "#Calculating the stress in the belt\n",
      "sigmac = T1c/(b*t) \t\t\t#MPa\n",
      "\n",
      "#Results:\n",
      "print \" Stress in the belt for an open belt drive, sigma  =  %.3f MPa.\"%(sigmao)\n",
      "print \" Stress in the belt for a cross belt drive, sigma  =  %.3f MPa.\"%(sigmac)\n"
     ],
     "language": "python",
     "metadata": {},
     "outputs": [
      {
       "output_type": "stream",
       "stream": "stdout",
       "text": [
        " Stress in the belt for an open belt drive, sigma  =  1.267 MPa.\n",
        " Stress in the belt for a cross belt drive, sigma  =  1.184 MPa.\n"
       ]
      }
     ],
     "prompt_number": 10
    },
    {
     "cell_type": "heading",
     "level": 2,
     "metadata": {},
     "source": [
      "Example 11.8 Page No : 348"
     ]
    },
    {
     "cell_type": "code",
     "collapsed": false,
     "input": [
      "import math \n",
      "\n",
      "# Variables:\n",
      "P = 7.5*1000 \t\t#W\n",
      "d = 1.2             #m\n",
      "t = 10./1000 \t\t#m\n",
      "N = 250. \t\t\t#rpm\n",
      "theta = 165.*math.pi/180 \t\t\t#radians\n",
      "mu = 0.3\n",
      "sigma = 1.5*10**6 \t\t\t#N/m**2\n",
      "rho = 1.*10**3 \t\t\t#kg/m**3\n",
      "\n",
      "#Solution:\n",
      "#Calculating the velocity of the belt\n",
      "v = math.pi*d*N/60 \t\t\t#m/s\n",
      "#Calculating the tensions in the belt\n",
      "#Power transmitted P  =  (T1-T2)*v or T1-T2  =  P/v\n",
      "#Ratio of tensions in the belt math.log(T1/T2)  =  mu*theta or T1-T2*math.exp(mu*theta)  =  0\n",
      "A = [[1, -1],[1, -math.exp(mu*theta)]]\n",
      "B = [P/v, 0]\n",
      "V = linalg.solve(A,B)\n",
      "T1 = V[0] \t\t\t#N\n",
      "T2 = V[1] \t\t\t#N\n",
      "#Calculating the width of the belt\n",
      "b = T1/(sigma*t-t*1*rho*v**2)*1000 \t\t\t#mm\n",
      "\n",
      "#Results:\n",
      "print \" Width of the belt, b  =  %.1f mm.\"%(b)\n"
     ],
     "language": "python",
     "metadata": {},
     "outputs": [
      {
       "output_type": "stream",
       "stream": "stdout",
       "text": [
        " Width of the belt, b  =  65.9 mm.\n"
       ]
      }
     ],
     "prompt_number": 11
    },
    {
     "cell_type": "heading",
     "level": 2,
     "metadata": {},
     "source": [
      "Example 11.9 Page No : 349"
     ]
    },
    {
     "cell_type": "code",
     "collapsed": false,
     "input": [
      "from numpy import linalg\n",
      "import math \n",
      "\n",
      "# Variables:\n",
      "t = 9.75/1000\n",
      "d1 = 300./1000\n",
      "x = 3. \t\t\t         #m\n",
      "P = 15.*1000 \t\t\t#W\n",
      "N1 = 900.\n",
      "N2 = 300. \t\t\t#rpm\n",
      "rho = 1000. \t\t\t#kg/m**3\n",
      "sigma = 2.5*10**6 \t\t\t#N/m**2\n",
      "mu = 0.3\n",
      "\n",
      "#Solution:\n",
      "#Calculating the diameter of the driven pulley\n",
      "d2 = d1*(N1/N2) \t\t\t#m\n",
      "#Calculating the velocity of the belt\n",
      "v = math.pi*d1*N1/60 \t\t\t#m/s\n",
      "#Calculating the angle alpha for an open belt drive\n",
      "alpha = math.sin((d2-d1)/(2*x))*180/math.pi \t\t\t#degrees\n",
      "#Calculating the angle of lap\n",
      "theta = (180-2*alpha)*math.pi/180 \t\t\t#radians\n",
      "#Calculating the tensions in the belt\n",
      "#Ratio of tensions math.log(T1/T2)  =  mu*theta or T1-T2*math.exp(mu*theta)  =  0\n",
      "#Power transmitted P  =  (T1-T2)*v or T1-T2  =  P/v\n",
      "A = [[1, -math.exp(mu*theta)],[ 1, -1]]\n",
      "B = [0, P/v]\n",
      "V = linalg.solve(A,B)\n",
      "T1 = V[0] \t\t\t#N\n",
      "T2 = V[1] \t\t\t#N\n",
      "#Calculating the width of the belt\n",
      "b = T1/(sigma*t-t*1*rho*v**2)*1000 \t\t\t#mm\n",
      "\n",
      "#Results:\n",
      "print \" Width of the belt, b  =  %d mm.\"%(b)\n"
     ],
     "language": "python",
     "metadata": {},
     "outputs": [
      {
       "output_type": "stream",
       "stream": "stdout",
       "text": [
        " Width of the belt, b  =  80 mm.\n"
       ]
      }
     ],
     "prompt_number": 12
    },
    {
     "cell_type": "heading",
     "level": 2,
     "metadata": {},
     "source": [
      "Example 11.10 Page No : 350"
     ]
    },
    {
     "cell_type": "code",
     "collapsed": false,
     "input": [
      "import math \n",
      "\n",
      "# Variables:\n",
      "theta = 120*math.pi/180 #degrees\t\t\t#radians\n",
      "b = 100./1000\n",
      "t = 6./1000 \t\t\t#m\n",
      "rho = 1000. \t\t\t#kg/m**3\n",
      "mu = 0.3\n",
      "sigma = 2*10**6 \t\t\t#N/m**2\n",
      "\n",
      "#Solution:\n",
      "#Speed of the belt for greatest power:\n",
      "#Calculating the maximum tension in the belt\n",
      "T = sigma*b*t \t\t\t#N\n",
      "#Calculating the mass of the belt per metre length\n",
      "l = 1.       \t\t\t#m\n",
      "m = b*t*l*rho \t\t\t#kg/m\n",
      "#Calculating the speed of the belt for greatest power\n",
      "v = math.sqrt(T/(3*m)) \t\t\t#m/s\n",
      "#Greatest power which the belt can transmit\n",
      "#Calculating the centrifugal tension for maximum power to be transmitted\n",
      "TC = T/3 \t\t\t#N\n",
      "#Calculating the tension in the tight side of the belt\n",
      "T1 = T-TC \t\t\t#N\n",
      "#Calculating the tension in the slack side of the belt\n",
      "T2 = T1/math.exp(mu*theta) \t\t\t#N\n",
      "#Calculating the greatest power which the belt can transmit\n",
      "P = (T1-T2)*v/1000 \t\t\t#kW\n",
      "\n",
      "#Results:\n",
      "print \" Speed of the belt for greatest power, v  =  %.2f m/s.\"%(v)\n",
      "print \" Greatest power which the belt can transmit, P  =  %.2f kW.\"%(P)\n"
     ],
     "language": "python",
     "metadata": {},
     "outputs": [
      {
       "output_type": "stream",
       "stream": "stdout",
       "text": [
        " Speed of the belt for greatest power, v  =  25.82 m/s.\n",
        " Greatest power which the belt can transmit, P  =  9.64 kW.\n"
       ]
      }
     ],
     "prompt_number": 13
    },
    {
     "cell_type": "heading",
     "level": 2,
     "metadata": {},
     "source": [
      "Example 11.11 Page No : 351"
     ]
    },
    {
     "cell_type": "code",
     "collapsed": false,
     "input": [
      "import math \n",
      "\n",
      "# Variables:\n",
      "d1 = 1.2       #m\n",
      "r1 = d1/2      #m\n",
      "d2 = 0.5       #m\n",
      "r2 = d2/2      #m\n",
      "x = 4. \t\t\t#m\n",
      "m = 0.9 \t\t\t#kg/m\n",
      "T = 2000. \t\t\t#N\n",
      "mu = 0.3\n",
      "N1 = 200.           #rpm\n",
      "N2 = 450. \t\t\t#rpm\n",
      "\n",
      "#Solution:\n",
      "#Calculating the velocity of the belt\n",
      "v = math.pi*d1*N1/60 \t\t\t#m/s\n",
      "#Calculating the centrifugal tension\n",
      "TC = m*v**2 \t\t\t#N\n",
      "#Calculating the tension in the tight side of the belt\n",
      "T1 = T-TC \t\t\t#N\n",
      "#Calculating the angle alpha for an open belt drive\n",
      "alpha = math.sin((r1-r2)/x)*180/math.pi \t\t\t#degrees\n",
      "#Calculating the angle of lap on the smaller pulley\n",
      "theta = (180-2*alpha)*math.pi/180 \t\t\t#radians\n",
      "#Calculating the tension in the slack side of the belt\n",
      "T2 = T1/math.exp(mu*theta) \t\t\t#N\n",
      "#Calculating the torque on the shaft of larger pulley\n",
      "TL = (T1-T2)*r1 \t\t\t#N-m\n",
      "#Calculating the torque on the shaft of smaller pulley\n",
      "TS = (T1-T2)*r2 \t\t\t#N-m\n",
      "#Calculating the power transmitted\n",
      "P = (T1-T2)*v/1000 \t\t\t#kW\n",
      "#Power lost in friction:\n",
      "#Calculating the input power\n",
      "P1 = TL*2*math.pi*N1/(60*1000) \t\t\t#kW\n",
      "#Calculating the output power\n",
      "P2 = TS*2*math.pi*N2/(60*1000) \t\t\t#kW\n",
      "#Calculating the power lost in friction\n",
      "Pf = P1-P2 \t\t\t#Power lost in friction kW\n",
      "#Calculating the efficiency of the drive\n",
      "eta = P2/P1*100 \t\t\t#%\n",
      "\n",
      "#Results:\n",
      "print \" Torque on the shaft of larger pulley, TL  =  %.1f N-m.\"%(TL)\n",
      "print \" Torque on the shaft of smaller pulley, TS  =  %d N-m.\"%(TS)\n",
      "print \" Power transmitted, P  =  %.2f kW.\"%(P)\n",
      "print \" Power lost in friction  =  %.2f kW.\"%(Pf)\n",
      "print \" Efficiency of the drive, eta  =  %.1f %%.\"%(eta)\n"
     ],
     "language": "python",
     "metadata": {},
     "outputs": [
      {
       "output_type": "stream",
       "stream": "stdout",
       "text": [
        " Torque on the shaft of larger pulley, TL  =  657.0 N-m.\n",
        " Torque on the shaft of smaller pulley, TS  =  273 N-m.\n",
        " Power transmitted, P  =  13.76 kW.\n",
        " Power lost in friction  =  0.86 kW.\n",
        " Efficiency of the drive, eta  =  93.8 %.\n"
       ]
      }
     ],
     "prompt_number": 15
    },
    {
     "cell_type": "heading",
     "level": 2,
     "metadata": {},
     "source": [
      "Example 11.12 Page No : 353"
     ]
    },
    {
     "cell_type": "code",
     "collapsed": false,
     "input": [
      "from numpy import linalg\n",
      "import math \n",
      "\n",
      "# Variables:\n",
      "T0 = 2000. \t\t\t#N\n",
      "mu0 = 0.3\n",
      "theta = 150.*math.pi/180 \t\t\t#radians\n",
      "r2 = 200./1000\n",
      "d2 = 2*r2 \t\t\t#m\n",
      "N2 = 500.\t\t\t#rpm\n",
      "\n",
      "#Solution:\n",
      "#Calculating the velocity of the belt\n",
      "v = math.pi*d2*N2/60 \t\t\t#m/s\n",
      "#Calculating the tensions in the belt\n",
      "#Initial tension T0  =  (T1+T2)/2 or T1+T2  =  2*T0\n",
      "#Ratio of the tensions in the belt math.log(T1/T2)  =  mu*theta or T1-T2*math.exp(mu*theta)  =  0\n",
      "A = [[1, 1],[ 1 ,-math.exp(mu*theta)]]\n",
      "B = [2*T0, 0]\n",
      "V = linalg.solve(A,B)\n",
      "T1 = V[0] \t\t\t#N\n",
      "T2 = V[1] \t\t\t#N\n",
      "#Calculating the power transmitted\n",
      "P = (T1-T2)*v/1000 \t\t\t#kW\n",
      "\n",
      "#Results:\n",
      "print \" Power transmitted, P  =  %.1f kW.\"%(P)\n"
     ],
     "language": "python",
     "metadata": {},
     "outputs": [
      {
       "output_type": "stream",
       "stream": "stdout",
       "text": [
        " Power transmitted, P  =  15.7 kW.\n"
       ]
      }
     ],
     "prompt_number": 16
    },
    {
     "cell_type": "heading",
     "level": 2,
     "metadata": {},
     "source": [
      "Example 11.13 Page No : 354"
     ]
    },
    {
     "cell_type": "code",
     "collapsed": false,
     "input": [
      "from numpy import linalg\n",
      "import math \n",
      "\n",
      "# Variables:\n",
      "x = 4.8\n",
      "d1 = 1.5            #m\n",
      "d2 = 1. \t\t\t#m\n",
      "T0 = 3.*1000 \t\t#N\n",
      "m = 1.5 \t\t\t#kg/m\n",
      "mu = 0.3\n",
      "N2 = 400. \t\t\t#rpm\n",
      "\n",
      "#Solution:\n",
      "#Calculating the velocity of the belt\n",
      "v = math.pi*d2*N2/60 \t\t\t#m/s\n",
      "#Calculating the centrifugal tension\n",
      "TC = m*v**2 \t\t\t#N\n",
      "#Calculating the angle alpha\n",
      "alpha = math.sin((d1-d2)/(2*x))*180/math.pi \t\t\t#degrees\n",
      "#Calculating the angle of lap for the smaller pulley\n",
      "theta = (180-2*alpha)*math.pi/180 \t\t\t#radians\n",
      "#Calculating the tensions in the belt\n",
      "#Initial tension T0  =  (T1+T2+2*TC)/2 or T1+T2  =  2*(T0-TC)\n",
      "#Ratio of tensions in the belt math.log(T1/T2)  =  mu*theta or T1-T2*math.exp(mu*theta)  =  0\n",
      "A = [[1, 1],[1, -math.exp(mu*theta)]]\n",
      "B = [2*(T0-TC), 0]\n",
      "V = linalg.solve(A,B)\n",
      "T1 = V[0] \t\t\t#N\n",
      "T2 = V[1] \t\t\t#N\n",
      "#Calculating the power transmitted\n",
      "P = (T1-T2)*v/1000 \t\t\t#kW\n",
      "\n",
      "#Results:\n",
      "print \" Power transmitted, P  =  %.f kW.\"%(P)\n",
      "\n",
      "# answer are slightly different because of solve function"
     ],
     "language": "python",
     "metadata": {},
     "outputs": [
      {
       "output_type": "stream",
       "stream": "stdout",
       "text": [
        " Power transmitted, P  =  42 kW.\n"
       ]
      }
     ],
     "prompt_number": 8
    },
    {
     "cell_type": "heading",
     "level": 2,
     "metadata": {},
     "source": [
      "Example 11.14 Page No : 355"
     ]
    },
    {
     "cell_type": "code",
     "collapsed": false,
     "input": [
      "import math \n",
      "\n",
      "# Variables:\n",
      "x = 1.2             #m\n",
      "d2 = 400./1000      #m\n",
      "t = 5./1000         #m\n",
      "b = 80./1000 \t\t#m\n",
      "N1 = 350.           #rpm\n",
      "N2 = 140. \t\t\t#rpm\n",
      "mu = 0.3\n",
      "sigma = 1.4*10**6 \t\t\t#N/m**2\n",
      "\n",
      "#Solution:\n",
      "#Calculating the diameter of the driving pulley\n",
      "d1 = d2*(N2/N1) \t\t\t#m\n",
      "#Maximum power transmitted by the belting:\n",
      "#Refer Fig. 11.18\n",
      "#Calculating the angle alpha\n",
      "alpha = math.sin((d2-d1)/(2*x))*180/math.pi \t\t\t#degrees\n",
      "#Calculating the angle of contact of the belt on the driving pulley\n",
      "theta = (180-2*alpha)*math.pi/180 \t\t\t#radians\n",
      "#Calculating the maximum tension to which the belt can be subjected\n",
      "T1 = sigma*b*t \t\t\t#N\n",
      "#Calculating the tension in the slack side of the belt\n",
      "T2 = T1/math.exp(mu*theta) \t\t\t#N\n",
      "#Calculating the velocity of the belt\n",
      "v = math.pi*d1*N1/60 \t\t\t#m/s\n",
      "#Calculating the power transmitted\n",
      "P = (T1-T2)*v/1000 \t\t\t#kW\n",
      "#Calculating the required initial belt tension\n",
      "T0 = (T1+T2)/2 \t\t\t#N\n",
      "\n",
      "#Results:\n",
      "print \" Diameter of the driving pulley, d1  =  %.2f m.\"%(d1)\n",
      "print \" Maximum power transmitted by the belting, P  =  %.3f kW.\"%(P)\n",
      "print \" Required initial belt tension, T0  =  %.1f N.\"%(T0)\n"
     ],
     "language": "python",
     "metadata": {},
     "outputs": [
      {
       "output_type": "stream",
       "stream": "stdout",
       "text": [
        " Diameter of the driving pulley, d1  =  0.16 m.\n",
        " Maximum power transmitted by the belting, P  =  0.963 kW.\n",
        " Required initial belt tension, T0  =  395.8 N.\n"
       ]
      }
     ],
     "prompt_number": 19
    },
    {
     "cell_type": "heading",
     "level": 2,
     "metadata": {},
     "source": [
      "Example 11.15 Page No : 356"
     ]
    },
    {
     "cell_type": "code",
     "collapsed": false,
     "input": [
      "from numpy import linalg\n",
      "import math \n",
      "\n",
      "# Variables:\n",
      "d2 = 240./1000      #m\n",
      "d1 = 600./1000      #m\n",
      "x = 3. \t\t\t    #m\n",
      "P = 4.*1000 \t\t#W\n",
      "N2 = 300. \t\t\t#rpm\n",
      "mu = 0.3\n",
      "T1s = 10. \t\t\t#Safe working tension N/mm width\n",
      "\n",
      "#Solution:\n",
      "#Minimum width of the belt:\n",
      "#Calculating the velocity of the belt\n",
      "v = math.pi*d2*N2/60 \t\t\t#m/s\n",
      "#Calculating the angle alpha for an open belt drive\n",
      "alpha = math.sin((d1-d2)/(2*x))*180/math.pi \t\t\t#degrees\n",
      "#Calculating the angle of lap on the smaller pulley\n",
      "theta = (180-2*alpha)*math.pi/180 \t\t\t#radians\n",
      "#Calculating the tensions in the belt\n",
      "#Power transmitted P  =  (T1-T2)*v or T1-T2  =  P/v\n",
      "#Ratio of tensions math.log(T1/T2)  =  mu*theta or T1-T2*math.exp(mu*theta)  =  0\n",
      "A = [[1, -1],[ 1, -math.exp(mu*theta)]]\n",
      "B = [P/v, 0]\n",
      "V = linalg.solve(A, B)\n",
      "T1 = V[0] \t\t\t#N\n",
      "T2 = V[1] \t\t\t#N\n",
      "#Calculating the minimum width of the belt\n",
      "b = T1/T1s \t\t\t#mm\n",
      "#Calculating the initial belt tension\n",
      "T0 = (T1+T2)/2 \t\t\t#N\n",
      "#Calculating the length of the belt required\n",
      "L = math.pi/2*(d1+d2)+2*x+(d1-d2)**2/(4*x) \t\t\t#m\n",
      "\n",
      "#Results:\n",
      "print \" Minimum width of the belt, b  =  %.1f mm.\"%(b)\n",
      "print \" Initial belt tension, T0  =  %.1f N.\"%(T0)\n",
      "print \" Length of the belt required, L  =  %.2f m.\"%(L)\n"
     ],
     "language": "python",
     "metadata": {},
     "outputs": [
      {
       "output_type": "stream",
       "stream": "stdout",
       "text": [
        " Minimum width of the belt, b  =  178.0 mm.\n",
        " Initial belt tension, T0  =  1249.5 N.\n",
        " Length of the belt required, L  =  7.33 m.\n"
       ]
      }
     ],
     "prompt_number": 21
    },
    {
     "cell_type": "heading",
     "level": 2,
     "metadata": {},
     "source": [
      "Example 11.16 Page No : 357"
     ]
    },
    {
     "cell_type": "code",
     "collapsed": false,
     "input": [
      "from numpy import linalg\n",
      "import math\n",
      "\n",
      "# Variables:\n",
      "d1 = 400./1000      #m\n",
      "d2 = 250./1000      #m\n",
      "x = 2.\n",
      "mu = 0.4 \t\t\t#m\n",
      "T = 1200. \t\t\t#N\n",
      "v = 10. \t\t\t#m/s\n",
      "\n",
      "#Solution:\n",
      "#Power transmitted:\n",
      "#Calculating the angle alpha for an open belt drive\n",
      "alpha = math.sin((d1-d2)/(2*x))*180/math.pi \t\t\t#degrees\n",
      "#Calculating the angle of contact\n",
      "theta = (180-2*alpha)*math.pi/180 \t\t\t#radians\n",
      "#Calculating the tension in the tight side of the belt\n",
      "T1 = T \t\t\t#Neglecting centrifugal tension N\n",
      "#Calculating the tension in the slack side of the belt\n",
      "T2 = T1/math.exp(mu*theta) \t\t\t#N\n",
      "#Calculating the power transmitted\n",
      "P = (T1-T2)*v/1000 \t\t\t#kW\n",
      "\n",
      "#Results:\n",
      "print \" Power transmitted, P  =  %.2f kW.\"%(P)\n",
      "#Power transmitted when initial tension is increased by 10%:\n",
      "#Calculating the initial tension\n",
      "T0 = (T1+T2)/2 \t\t\t#N\n",
      "#Calculating the increased initial tension\n",
      "T0dash = T0+10./100*T0 \t\t\t#N\n",
      "#Calculating the corresponding tensions in the belt\n",
      "#We have T0dash  =  (T1+T2)/2 or T1+T2  =  2*T0dash\n",
      "#Ratio of the tensions  math.log(T1/T2)  =  mu*theta or T1-T2*math.exp(mu*theta)  =  0\n",
      "A = [[1, 1],[ 1, -math.exp(mu*theta)]]\n",
      "B = [2*T0dash, 0]\n",
      "V = linalg.solve(A,B)\n",
      "T1 = V[0] \t\t\t#N\n",
      "T2 = V[1] \t\t\t#N\n",
      "#Calculating the power transmitted\n",
      "P1 = (T1-T2)*v/1000 \t\t\t#kW\n",
      "#Power transmitted when coefficient of friction is increased by 10%:\n",
      "#Calculating the increased coefficient of friction\n",
      "mudash = mu+10./100*mu\n",
      "#Calculating the corresponding tensions in the belt\n",
      "#Ratio of the tensions math.log(T1/T2)  =  mudash*theta or T1-T2*math.exp(mudash*theta)  =  0\n",
      "#Initial tension T0  =  (T1+T2)/2 or T1+T2  =  2*T0\n",
      "A = [[1, -math.exp(mudash*theta)],[ 1, 1]]\n",
      "B = [0, 2*T0]\n",
      "V = linalg.solve(A,B)\n",
      "T1 = V[0] \t\t\t#N\n",
      "T2 = V[1] \t\t\t#N\n",
      "#Calculating the power transmitted\n",
      "P2 = (T1-T2)*v/1000 \t\t\t#kW\n",
      "\n",
      "#Results:\n",
      "if P1>P2:\n",
      "    print \" Since the power transmitted by increasing the initial tension is more\\\n",
      " therefore in order to increase the power transmitted we  shall adopt\\\n",
      " the method of increasing the initial tension.\"\n",
      "else:\n",
      "    print \" Since the power transmitted by increasing the coefficient of friction is more,\\\n",
      "    therefore in order to increase the power transmitted we shall adopt the method of increasing\\\n",
      "      the coefficient of friction.\"\n",
      "#Percentage increase in power:\\\n",
      "#Calculating the percentage increase in power when the initial tension is increased\n",
      "I1 = (P1-P)/P*100. \t\t\t#Percentage increase in power when the initial tension is increased %\n",
      "#Calculating the percentage increase in power when coefficient of friction is increased\n",
      "I2 = (P2-P)/P*100. \t\t\t#Percentage increase in power when coefficient of friction is increased %\n",
      "\n",
      "\n",
      "#Results:\n",
      "print \" Percentage increase in power when the initial tension is increased  =  %.2f %%.\"%(I1)\n",
      "print \" Percentage increase in power when coefficient of friction is increased  =  %.1f %%.\"%(I2)\n",
      "\n",
      "#rounding off error"
     ],
     "language": "python",
     "metadata": {},
     "outputs": [
      {
       "output_type": "stream",
       "stream": "stdout",
       "text": [
        " Power transmitted, P  =  8.48 kW.\n",
        " Since the power transmitted by increasing the initial tension is more therefore in order to increase the power transmitted we  shall adopt the method of increasing the initial tension.\n",
        " Percentage increase in power when the initial tension is increased  =  10.00 %.\n",
        " Percentage increase in power when coefficient of friction is increased  =  7.6 %.\n"
       ]
      }
     ],
     "prompt_number": 6
    },
    {
     "cell_type": "heading",
     "level": 2,
     "metadata": {},
     "source": [
      "Example 11.17 Page No : 362"
     ]
    },
    {
     "cell_type": "code",
     "collapsed": false,
     "input": [
      "import math \n",
      "\n",
      "# Variables:\n",
      "beta = 30./2 \t\t\t#degrees\n",
      "alpha = 750.*10**-6 \t#mm**2\n",
      "mu = 0.12\n",
      "rho = 1.2*1000 \t\t\t#kg/m**3\n",
      "sigma = 7.*10**6 \t\t#N/m**2\n",
      "d = 300./1000 \t\t\t#m\n",
      "N = 1500. \t\t\t    #rpm\n",
      "\n",
      "#Solution:\n",
      "#Power transmitted:\n",
      "#Calculating the velocity of the belt\n",
      "v = math.pi*d*N/60 \t\t\t#m/s\n",
      "#Calculating the mass of the belt per metre length\n",
      "l = 1 \t\t\t#m\n",
      "m = alpha*l*rho \t\t\t#kg/m\n",
      "#Calculating the centrifugal tension\n",
      "TC = m*v**2 \t\t\t#N\n",
      "#Calculating the maximum tension in the belt\n",
      "T = sigma*alpha \t\t\t#N\n",
      "#Calculating the tension in the tight side of the belt\n",
      "T1 = T-TC \t\t\t#N\n",
      "#Calculating the tension in the slack side of the belt\n",
      "theta = math.pi \t\t\t#Angle of contact radians\n",
      "T2 = T1/math.exp(mu*theta*(1/math.sin(math.radians(beta)))) \t\t\t#N\n",
      "#Calculating the power transmitted\n",
      "P = (T1-T2)*v*2/1000 \t\t\t#kW\n",
      "#Shaft speed:\n",
      "#Calculating the belt speed for maximum power transmitted\n",
      "v1 = math.sqrt(T/(3*m)) \t\t\t#m/s\n",
      "#Calculating the shaft speed for maximum power transmitted\n",
      "N1 = v1*60/(math.pi*d) \t\t\t#rpm\n",
      "\n",
      "#Results:\n",
      "print \" Power transmitted, P  =  %.3f kW.\"%(P)\n",
      "print \" Shaft speed at which the power transmitted would be maximum, N1  =  %d rpm.\"%(N1)\n"
     ],
     "language": "python",
     "metadata": {},
     "outputs": [
      {
       "output_type": "stream",
       "stream": "stdout",
       "text": [
        " Power transmitted, P  =  171.690 kW.\n",
        " Shaft speed at which the power transmitted would be maximum, N1  =  2807 rpm.\n"
       ]
      }
     ],
     "prompt_number": 25
    },
    {
     "cell_type": "heading",
     "level": 2,
     "metadata": {},
     "source": [
      "Example 11.18 Page No : 363"
     ]
    },
    {
     "cell_type": "code",
     "collapsed": false,
     "input": [
      "import math \n",
      "\n",
      "# Variables:\n",
      "beta = 30./2 \t\t\t#degrees\n",
      "t = 20./1000\n",
      "b = 20./1000 \t\t\t#m\n",
      "m = 0.35 \t\t\t    #kg/m\n",
      "sigma = 1.4*10**6 \t\t\t#N/m**2\n",
      "theta = 140.*math.pi/180 \t\t\t#radians\n",
      "mu = 0.15\n",
      "\n",
      "#Solution:\n",
      "#Calculating the maximum tension in the belt\n",
      "T = sigma*b*t \t\t\t#N\n",
      "#Calculating the velocity of the belt for maximum power to be transmitted\n",
      "v = math.sqrt(T/(3*m)) \t\t\t#m/s\n",
      "#Calculating the centrifugal tension\n",
      "TC = T/3 \t\t\t#N\n",
      "#Calculating the tension in the tight side of the belt\n",
      "T1 = T-TC \t\t\t#N\n",
      "#Calculating the tension in the slack side of the belt\n",
      "T2 = T1/math.exp(mu*theta*(1/math.sin(math.radians(beta)))) \t\t\t#N\n",
      "#Calculating the maximum power transmitted\n",
      "P = (T1-T2)*v/1000 \t\t\t#kW\n",
      "\n",
      "#Results:\n",
      "print \" Maximum power transmitted, P  =  %.2f kW.\"%(P)\n"
     ],
     "language": "python",
     "metadata": {},
     "outputs": [
      {
       "output_type": "stream",
       "stream": "stdout",
       "text": [
        " Maximum power transmitted, P  =  6.53 kW.\n"
       ]
      }
     ],
     "prompt_number": 28
    },
    {
     "cell_type": "heading",
     "level": 2,
     "metadata": {},
     "source": [
      "Example 11.19 Page No : 363"
     ]
    },
    {
     "cell_type": "code",
     "collapsed": false,
     "input": [
      "import math \n",
      "\n",
      "# Variables:\n",
      "P = 90. \t\t\t#kW\n",
      "N2 = 250.\n",
      "N1 = 750. \t\t\t#rpm\n",
      "d2 = 1.\n",
      "x = 1.75 \t\t\t#m\n",
      "v = 1600./60 \t\t\t#m/s\n",
      "a = 375.*10**-6 \t\t\t#m**2\n",
      "rho = 1000. \t\t\t#kg/m**3\n",
      "sigma = 2.5*10**6 \t\t\t#N/m**2\n",
      "beta = 35./2 \t\t\t#degrees\n",
      "mu = 0.25\n",
      "\n",
      "#Solution:\n",
      "#Calculating the diameter of the pulley on the motor shaft\n",
      "d1 = d2*(N2/N1) \t\t\t#m\n",
      "#Calculating the mass of the belt per metre length\n",
      "l = 1 \t\t\t        #m\n",
      "m = a*l*rho \t\t\t#kg/m\n",
      "#Calculating the centrifugal tension\n",
      "TC = m*v**2 \t\t\t#N\n",
      "#Calculating the maximum tension in the belt\n",
      "T = sigma*a \t\t\t#N\n",
      "#Calculating the tension in the tight side of the belt\n",
      "T1 = T-TC \t\t\t    #N\n",
      "#Refer Fig. 11.21\n",
      "#Calculating the angle alpha\n",
      "alpha = math.sin(math.radians((d2-d1)/(2*x)))*180/math.pi \t\t\t#degrees\n",
      "#Calculating the angle of lap on smaller pulley\n",
      "theta = (180-2*alpha)*math.pi/180 \t\t\t#radians\n",
      "#Calculating the tension in the slack side of the belt\n",
      "T2 = T1/math.exp(mu*theta*(1/math.sin(math.radians(beta)))) \t\t\t#N\n",
      "#Number of V-belts:\n",
      "#Calculating the power transmitted per belt\n",
      "P1 = (T1-T2)*v/1000 \t\t\t#Power transmitted per belt kW\n",
      "#Calculating the number of V-belts\n",
      "n = P/16.086 \t\t\t#Number of V-belts\n",
      "#Calculating the length each of belt for an open belt drive\n",
      "L = math.pi/2*(d2+d1)+2*x+(d2-d1)**2/(4*x) \t\t\t#m\n",
      "\n",
      "#Results:\n",
      "print \" Number of V-belts  =  %.f.\"%(n)\n",
      "print \" Length of each belt, L  =  %.2f m.\"%(L)\n"
     ],
     "language": "python",
     "metadata": {},
     "outputs": [
      {
       "output_type": "stream",
       "stream": "stdout",
       "text": [
        " Number of V-belts  =  6.\n",
        " Length of each belt, L  =  5.66 m.\n"
       ]
      }
     ],
     "prompt_number": 17
    },
    {
     "cell_type": "heading",
     "level": 2,
     "metadata": {},
     "source": [
      "Example 11.20 Page No : 367"
     ]
    },
    {
     "cell_type": "code",
     "collapsed": false,
     "input": [
      "import math \n",
      "\n",
      "# Variables:\n",
      "P = 600. \t\t\t#kW\n",
      "d = 4. \t\t\t    #m\n",
      "N = 90. \t\t\t#rpm\n",
      "theta = 160.*math.pi/180 \t\t\t#radians\n",
      "beta = 45./2 \t\t\t#degrees\n",
      "mu = 0.28\n",
      "m = 1.5 \t\t\t#kg/m\n",
      "T = 2400. \t\t\t#N\n",
      "\n",
      "#Solution:\n",
      "#Calculating the velocity of the rope\n",
      "v = math.pi*d*N/60 \t\t\t#m/s\n",
      "#Calculating the centrifugal tension\n",
      "TC = m*v**2 \t\t\t#N\n",
      "#Calculating the tension in the tight side of the rope\n",
      "T1 = T-TC \t\t\t#N\n",
      "#Calculating the tension in the slack side of the belt\n",
      "T2 = T1/math.exp(mu*theta*(1/math.sin(math.radians(beta)))) \t\t\t#N\n",
      "#Calculating the power transmitted per rope\n",
      "P1 = (T1-T2)*v/1000 \t\t\t#Power transmitted per rope kW\n",
      "#Calculating the number of ropes\n",
      "n = P/P1 \t\t\t#Number of ropes\n",
      "\n",
      "#Results:\n",
      "print \" Number of ropes required  =  %d.\"%(n+1)\n"
     ],
     "language": "python",
     "metadata": {},
     "outputs": [
      {
       "output_type": "stream",
       "stream": "stdout",
       "text": [
        " Number of ropes required  =  20.\n"
       ]
      }
     ],
     "prompt_number": 18
    },
    {
     "cell_type": "heading",
     "level": 2,
     "metadata": {},
     "source": [
      "Example 11.21 Page No : 367"
     ]
    },
    {
     "cell_type": "code",
     "collapsed": false,
     "input": [
      "import math \n",
      "\n",
      "# Variables:\n",
      "d = 3.6 \t\t\t#m\n",
      "n = 15. \t\t\t#Number of grooves\n",
      "beta = 45./2 \t\t#degrees\n",
      "theta = 170.*math.pi/180 \t\t\t#radians\n",
      "mu = 0.28\n",
      "T = 960. \t\t\t#N\n",
      "m = 1.5 \t\t\t#kg/m\n",
      "\n",
      "#Solution:\n",
      "#Speed of the pulley:\n",
      "#Calculating the velocity of the rope\n",
      "v = math.sqrt(T/(3*m)) \t\t\t#m/s\n",
      "#Calculating the speed of the pulley\n",
      "N = v*60/(math.pi*d) \t\t\t#rpm\n",
      "#Power transmitted\n",
      "#Calculating the centrifugal tension for maximum power\n",
      "TC = T/3 \t\t\t#N\n",
      "#Calculating the tension in the tight side of the rope\n",
      "T1 = T-TC \t\t\t#N\n",
      "#Calculating the tension in the slack side of the rope\n",
      "T2 = T1/math.exp(mu*theta*(1/math.sin(math.radians(beta)))) \t\t\t#N\n",
      "#Calculating the power transmitted per rope\n",
      "P1 = (T1-T2)*v/1000 \t\t\t#Power transmitted per rope kW\n",
      "#Calculating the total power transmitted\n",
      "P = P1*n \t\t\t#Total power transmitted kW\n",
      "\n",
      "#Results:\n",
      "print \" Speed of the pulley for maximum power, N  =  %.1f rpm.\"%(N)\n",
      "print \" Power transmitted  =  %.2f kW.\"%(P)\n"
     ],
     "language": "python",
     "metadata": {},
     "outputs": [
      {
       "output_type": "stream",
       "stream": "stdout",
       "text": [
        " Speed of the pulley for maximum power, N  =  77.5 rpm.\n",
        " Power transmitted  =  124.22 kW.\n"
       ]
      }
     ],
     "prompt_number": 32
    },
    {
     "cell_type": "heading",
     "level": 2,
     "metadata": {},
     "source": [
      "Example 11.22 Page No : 368"
     ]
    },
    {
     "cell_type": "code",
     "collapsed": false,
     "input": [
      "from numpy import linalg\n",
      "import math \n",
      "\n",
      "# Variables:\n",
      "PT = 24. \t\t\t#kW\n",
      "d = 400./1000 \t\t#m\n",
      "N = 110. \t\t\t#rpm\n",
      "beta = 45./2 \t\t#degrees\n",
      "theta = 160.*math.pi/180 \t\t\t#radians\n",
      "mu = 0.28\n",
      "n = 10.\n",
      "\n",
      "#Solution:\n",
      "#Initial tension:\n",
      "#Calculating the power transmitted per rope\n",
      "P = PT/n*1000 \t\t\t#W\n",
      "#Calculating the velocity of the rope\n",
      "v = math.pi*d*N/60 \t\t\t#m/s\n",
      "#Calculating the tensions in the rope\n",
      "#Power transmitted P  =  (T1-T2)*v or T1-T2  =  P/v\n",
      "#Ratio of tensions math.log(T1/T2)  =  mu*theta*(1/math.sin(math.radians(beta)) or T1-T2*math.exp(mu*theta*(1/math.math.sin(math.radians(beta)))  =  0\n",
      "A = [[1, -1],[ 1, -math.exp(mu*theta*(1/math.sin(math.radians(beta))))]]\n",
      "B = [P/v, 0]\n",
      "V = linalg.solve(A,B)\n",
      "T1 = V[0] \t\t\t#N\n",
      "T2 = V[1] \t\t\t#N\n",
      "#Calculating the initial tension in each rope\n",
      "T0 = (T1+T2)/2 \t\t\t#N\n",
      "#Diameter of each rope:\n",
      "#Calculating the girth of rope\n",
      "C = math.sqrt(T1/(122.*10**3-53.*v**2))*1000 \t\t\t#mm\n",
      "#Calculating the diameter of each rope\n",
      "d1 = C/math.pi \t\t\t#mm\n",
      "\n",
      "#Results:\n",
      "print \" Initial tension, T0  =  %.2f N.\"%(T0)\n",
      "print \" Diameter of each rope, d1  =  %.2f mm.\"%(d1)\n",
      "\n",
      "# rounding off error"
     ],
     "language": "python",
     "metadata": {},
     "outputs": [
      {
       "output_type": "stream",
       "stream": "stdout",
       "text": [
        " Initial tension, T0  =  676.00 N.\n",
        " Diameter of each rope, d1  =  31.56 mm.\n"
       ]
      }
     ],
     "prompt_number": 20
    },
    {
     "cell_type": "heading",
     "level": 2,
     "metadata": {},
     "source": [
      "Example 11.23 Page No : 376"
     ]
    },
    {
     "cell_type": "code",
     "collapsed": false,
     "input": [
      "import math \n",
      "\n",
      "# Variables:\n",
      "N1 = 240.           #rpm\n",
      "N2 = 120. \t\t\t#rpm\n",
      "T1 = 20.\n",
      "d2 = 600./1000      #m\n",
      "r2 = d2/2           #m\n",
      "x = 800./1000 \t\t#m\n",
      "\n",
      "#SOlution:\n",
      "#Calculating the number of teeth on the drive sprocket\n",
      "T2 = T1*(N1/N2)\n",
      "#Calculating the pitch of the chain\n",
      "p = r2*2*math.sin(math.radians(180/T2))*1000 \t\t\t#mm\n",
      "#Length of the chain:\n",
      "m = x*1000/p\n",
      "#Calculating the multiplying factor\n",
      "K = (T1+T2)/2+2*m+(1/math.sin(math.radians(180/T1))-1/math.sin(math.radians(180/T2)))**2/(4*m)\n",
      "#Calculating the length of the chain\n",
      "L = p*K/1000 \t\t\t#m\n",
      "\n",
      "#Results:\n",
      "print \" Number of teeth on the driven sprocket, T2  =  %d.\"%(T2)\n",
      "print \" Pitch of the chain, p  =  %.1f mm.\"%(p)\n",
      "print \" Length of the chain, L  =  %.4f m.\"%(L)\n",
      "\n",
      "# rounding off error"
     ],
     "language": "python",
     "metadata": {},
     "outputs": [
      {
       "output_type": "stream",
       "stream": "stdout",
       "text": [
        " Number of teeth on the driven sprocket, T2  =  40.\n",
        " Pitch of the chain, p  =  47.1 mm.\n",
        " Length of the chain, L  =  3.0402 m.\n"
       ]
      }
     ],
     "prompt_number": 23
    }
   ],
   "metadata": {}
  }
 ]
}