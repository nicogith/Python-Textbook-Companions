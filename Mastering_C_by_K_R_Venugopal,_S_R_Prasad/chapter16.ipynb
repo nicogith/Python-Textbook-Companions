{
 "metadata": {
  "name": "",
  "signature": "sha256:cdbb2a27d4aeed62bc661e588b07689ef9317248d78908eda6f1423b2cfb2027"
 },
 "nbformat": 3,
 "nbformat_minor": 0,
 "worksheets": [
  {
   "cells": [
    {
     "cell_type": "heading",
     "level": 1,
     "metadata": {},
     "source": [
      "Chapter 16: Controlling Complexity"
     ]
    },
    {
     "cell_type": "heading",
     "level": 2,
     "metadata": {},
     "source": [
      "Example 16.1, page no. 705"
     ]
    },
    {
     "cell_type": "code",
     "collapsed": false,
     "input": [
      "def cube(i):\n",
      "    return i*i*i\n",
      "def beep():\n",
      "    print \"\\a\""
     ],
     "language": "python",
     "metadata": {},
     "outputs": [],
     "prompt_number": 1
    },
    {
     "cell_type": "heading",
     "level": 2,
     "metadata": {},
     "source": [
      "Example mainprog.c, page no. 705"
     ]
    },
    {
     "cell_type": "code",
     "collapsed": false,
     "input": [
      "print \"The cube of 10 is \", cube(10)\n",
      "input_int = int(raw_input(\"Input Integer: \"))\n",
      "if input_int < 1:\n",
      "    beep()\n",
      "    print \"Input is Invalid\"\n",
      "else:\n",
      "    print \"The cube of %d is %d\" %(input_int, cube(input_int))"
     ],
     "language": "python",
     "metadata": {},
     "outputs": [
      {
       "output_type": "stream",
       "stream": "stdout",
       "text": [
        "The cube of 10 is  1000\n"
       ]
      },
      {
       "name": "stdout",
       "output_type": "stream",
       "stream": "stdout",
       "text": [
        "Input Integer: 0\n"
       ]
      },
      {
       "output_type": "stream",
       "stream": "stdout",
       "text": [
        "\u0007\n",
        "Input is Invalid\n"
       ]
      }
     ],
     "prompt_number": 3
    },
    {
     "cell_type": "heading",
     "level": 2,
     "metadata": {},
     "source": [
      "Example make.c, page no. 709"
     ]
    },
    {
     "cell_type": "code",
     "collapsed": false,
     "input": [
      "def cube(i):\n",
      "    return i*i*i\n",
      "def beep():\n",
      "    print \"I am going to beep!\"\n",
      "    print \"\\a\""
     ],
     "language": "python",
     "metadata": {},
     "outputs": []
    }
   ],
   "metadata": {}
  }
 ]
}