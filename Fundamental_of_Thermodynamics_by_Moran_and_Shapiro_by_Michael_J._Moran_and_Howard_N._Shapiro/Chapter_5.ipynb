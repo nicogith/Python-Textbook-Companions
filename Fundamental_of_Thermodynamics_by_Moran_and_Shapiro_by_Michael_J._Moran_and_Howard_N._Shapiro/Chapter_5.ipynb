{
 "metadata": {
  "name": "Chapter 5"
 }, 
 "nbformat": 2, 
 "worksheets": [
  {
   "cells": [
    {
     "cell_type": "markdown", 
     "source": [
      "#Chapter 5 :- The Second Law of Thermodynamics"
     ]
    }, 
    {
     "cell_type": "markdown", 
     "source": [
      "##<heading2> Example 5.1 Page no- 194"
     ]
    }, 
    {
     "cell_type": "code", 
     "collapsed": false, 
     "input": [
      "", 
      "# Given :-", 
      "W = 410.00                             # net work output in kj claimed ", 
      "Q = 1000.00                            # energy input by heat transfer in kj", 
      "Tc = 300.00                            # temperature of cold reservoir in kelvin", 
      "TH = 500.00                            # temperature of hot reservoir in kelvin", 
      "", 
      "# Calculations ", 
      "eta = W/Q                              # thermal efficiency", 
      "etamax = 1-(Tc/TH)", 
      "", 
      "# Results", 
      "print '-> Eta = ',round(eta,4)", 
      "print '-> Etamax  = ',round(etamax,4)", 
      "print '-> Since eta is more than etamax, the claim is not authentic'"
     ], 
     "language": "python", 
     "outputs": [
      {
       "output_type": "stream", 
       "stream": "stdout", 
       "text": [
        "-> Eta =  0.41", 
        "-> Etamax  =  0.4", 
        "-> Since eta is more than etamax, the claim is not authentic"
       ]
      }
     ], 
     "prompt_number": 1
    }, 
    {
     "cell_type": "markdown", 
     "source": [
      "##<heading2> Example 5.2 Page no- 195"
     ]
    }, 
    {
     "cell_type": "code", 
     "collapsed": false, 
     "input": [
      "", 
      "# Given :-", 
      "Qcdot = 8000.00                                # in kj/h", 
      "Wcycledot = 3200.00                            # in kj/h", 
      "Tc = 268.00                                    # temperature of compartment in kelvin", 
      "TH = 295.00                                    # temperature of the surrounding air in kelvin", 
      "", 
      "# Calculations ", 
      "beta = Qcdot/Wcycledot                         # coefficient of performance", 
      "betamax = Tc/(TH-Tc)                           # reversible coefficient of performance", 
      "", 
      "# Results", 
      "print '-> Coefficient of performance is ',round(beta,3)", 
      "print '-> Coefficient of performance of a reversible cycle is ',round(betamax,3)"
     ], 
     "language": "python", 
     "outputs": [
      {
       "output_type": "stream", 
       "stream": "stdout", 
       "text": [
        "-> Coefficient of performance is  2.5", 
        "-> Coefficient of performance of a reversible cycle is  9.926"
       ]
      }
     ], 
     "prompt_number": 2
    }, 
    {
     "cell_type": "markdown", 
     "source": [
      "##<heading2> Eample 5.3 Page no- 196"
     ]
    }, 
    {
     "cell_type": "code", 
     "collapsed": false, 
     "input": [
      "", 
      "# Given :-", 
      "Tc = 283.0                         # in kelvin", 
      "TH = 295.0                         # in kelvin", 
      "QH = 5*(10**5)                     # in kj per day", 
      "", 
      "# Calculations", 
      "Wcyclemin = (1-(Tc/TH))*QH", 
      "", 
      "# Results", 
      "print '-> Minimum theoretical work input for one day of operation in kJ is: ',round(Wcyclemin,2)"
     ], 
     "language": "python", 
     "outputs": [
      {
       "output_type": "stream", 
       "stream": "stdout", 
       "text": [
        "-> Minimum theoretical work input for one day of operation in kJ is:  20338.98"
       ]
      }
     ], 
     "prompt_number": 3
    }
   ]
  }
 ]
}