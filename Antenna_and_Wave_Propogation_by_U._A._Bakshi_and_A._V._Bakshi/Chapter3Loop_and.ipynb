{
 "cells": [
  {
   "cell_type": "markdown",
   "metadata": {},
   "source": [
    "# Chapter 3 Loop and Helical Antenna"
   ]
  },
  {
   "cell_type": "markdown",
   "metadata": {},
   "source": [
    "## 3.1 Directive gain calculation"
   ]
  },
  {
   "cell_type": "code",
   "execution_count": 7,
   "metadata": {
    "collapsed": false,
    "scrolled": true
   },
   "outputs": [
    {
     "name": "stdout",
     "output_type": "stream",
     "text": [
      "The directive gain is 63.723\n"
     ]
    }
   ],
   "source": [
    "from __future__ import division\n",
    "import math\n",
    "\n",
    "#tan(alpha)=s/c;\n",
    "#helical antenna Gdmax=15NSC^2/lamda^3\n",
    "c=1;\n",
    "n=20;\n",
    "lamda=1;\n",
    "s=math.tan(0.2093)*1;  #12*math.pi/180 radians\n",
    "Gdmax=(15*n*s*(c)**2)/(lamda)**3;\n",
    "print(\"The directive gain is %.3f\"%Gdmax)"
   ]
  },
  {
   "cell_type": "markdown",
   "metadata": {},
   "source": [
    "## 3.2 HPBW calculation"
   ]
  },
  {
   "cell_type": "code",
   "execution_count": 8,
   "metadata": {
    "collapsed": false
   },
   "outputs": [
    {
     "name": "stdout",
     "output_type": "stream",
     "text": [
      "The wavelength is 0.1 m\n",
      "The directive gain is 900\n",
      "The half power beamwidth is 21.2289 degree\n"
     ]
    }
   ],
   "source": [
    "from __future__ import division\n",
    "import math\n",
    "\n",
    "#helical antenna\n",
    "#part a\n",
    "c=3*10**8;\n",
    "f=3*10**9;\n",
    "lamda=c/f;\n",
    "print(\"The wavelength is %g m\"%lamda);\n",
    "\n",
    "#part b\n",
    "n=20;\n",
    "s=0.03;\n",
    "c=0.1;\n",
    "Gdmax=(15*20*0.3*(0.1)**2)/(0.1)**3;\n",
    "print(\"The directive gain is %g\"%Gdmax);\n",
    "\n",
    "#part c\n",
    "HPBW=math.sqrt((0.1)**3/(20*0.03))*520;\n",
    "print(\"The half power beamwidth is %g degree\"%HPBW)"
   ]
  },
  {
   "cell_type": "markdown",
   "metadata": {},
   "source": [
    "## 3.3 Radiation resistance calculation"
   ]
  },
  {
   "cell_type": "code",
   "execution_count": 9,
   "metadata": {
    "collapsed": false
   },
   "outputs": [
    {
     "name": "stdout",
     "output_type": "stream",
     "text": [
      "The radiation resistance is 30.7932 ohm\n"
     ]
    }
   ],
   "source": [
    "from __future__ import division\n",
    "import math\n",
    "\n",
    "#loop antenna\n",
    "r=10;\n",
    "lamda=100;\n",
    "A=(math.pi)*r**2;\n",
    "Rr=31200*(A/lamda**2)**2;\n",
    "print(\"The radiation resistance is %g ohm\"%Rr);"
   ]
  },
  {
   "cell_type": "markdown",
   "metadata": {},
   "source": [
    "## 3.4 Radiation Resisitance calculation"
   ]
  },
  {
   "cell_type": "code",
   "execution_count": 10,
   "metadata": {
    "collapsed": false
   },
   "outputs": [
    {
     "name": "stdout",
     "output_type": "stream",
     "text": [
      "The radiation resistance is 3.12 ohm\n"
     ]
    }
   ],
   "source": [
    "from __future__ import division\n",
    "import math\n",
    "\n",
    "#loop antenna\n",
    "l=1;\n",
    "b=1;\n",
    "A=l*b;\n",
    "lamda=100;\n",
    "Rrad=31200*(A/lamda**2);\n",
    "print(\"The radiation resistance is %g ohm\"%Rrad);"
   ]
  }
 ],
 "metadata": {
  "kernelspec": {
   "display_name": "Python 3",
   "language": "python",
   "name": "python3"
  },
  "language_info": {
   "codemirror_mode": {
    "name": "ipython",
    "version": 3
   },
   "file_extension": ".py",
   "mimetype": "text/x-python",
   "name": "python",
   "nbconvert_exporter": "python",
   "pygments_lexer": "ipython3",
   "version": "3.5.2"
  }
 },
 "nbformat": 4,
 "nbformat_minor": 1
}
