{
 "cells": [
  {
   "cell_type": "markdown",
   "metadata": {},
   "source": [
    "# Chapter 5 Transistor Amplifier"
   ]
  },
  {
   "cell_type": "markdown",
   "metadata": {},
   "source": [
    "## Exa 5.1 page No 289"
   ]
  },
  {
   "cell_type": "code",
   "execution_count": 6,
   "metadata": {
    "collapsed": false
   },
   "outputs": [
    {
     "name": "stdout",
     "output_type": "stream",
     "text": [
      "The value of capacitor = 0.0030 µF\n",
      "The value of h_fe is : 51.20\n"
     ]
    }
   ],
   "source": [
    "from math import pi,sqrt\n",
    "from __future__ import division\n",
    "# Given data\n",
    "R_C = 10# k ohm\n",
    "R_C = R_C * 10**3# ohm\n",
    "f = 2# kHz\n",
    "f = f * 10**3# Hz\n",
    "R = 8#  k ohm\n",
    "R = R * 10**3# ohm\n",
    "#Formula,  f = 1/(2*pi*R*C*sqrt(6+((4*R_C)/R)))\n",
    "C = 1/(2*pi*R*f*sqrt(6+((4*R_C)/R)))# F\n",
    "C= C*10**6# µF\n",
    "print \"The value of capacitor = %.4f µF\"%C\n",
    "h_fe= 23+29*R/R_C+4*R_C/R\n",
    "print \"The value of h_fe is : %.2f\"%h_fe"
   ]
  },
  {
   "cell_type": "markdown",
   "metadata": {},
   "source": [
    "## Exa 5.2 page No 293"
   ]
  },
  {
   "cell_type": "code",
   "execution_count": 8,
   "metadata": {
    "collapsed": false
   },
   "outputs": [
    {
     "name": "stdout",
     "output_type": "stream",
     "text": [
      "The value of capacitor = 159.00 pF\n"
     ]
    }
   ],
   "source": [
    "from math import pi,sqrt\n",
    "from __future__ import division\n",
    "# Given data\n",
    "f = 10# kHz\n",
    "f = f * 10**3# Hz\n",
    "R = 100# k ohm\n",
    "R = R * 10**3# ohm\n",
    "#Formula used, f = 1/(2*pi*R*C)\n",
    "C = 1/(2*pi*R*f)# F\n",
    "C = round(C * 10**12)# pF\n",
    "print \"The value of capacitor = %.2f pF\"%C"
   ]
  },
  {
   "cell_type": "markdown",
   "metadata": {},
   "source": [
    "## Exa 5.3 page No 299"
   ]
  },
  {
   "cell_type": "code",
   "execution_count": 9,
   "metadata": {
    "collapsed": false
   },
   "outputs": [
    {
     "name": "stdout",
     "output_type": "stream",
     "text": [
      "The parallel resonant frequency = 946.05 kHz\n",
      "The series resonant frequency = 918.88 kHz\n",
      "The Q factor of the crystal = 288.68\n"
     ]
    }
   ],
   "source": [
    "from math import pi,sqrt\n",
    "from __future__ import division\n",
    "# Given data\n",
    "C = 0.06# pF\n",
    "C = C * 10**-12# F\n",
    "L = 0.5# H\n",
    "R = 10# k ohm\n",
    "R = R * 10**3# ohm\n",
    "Cm = 1# pF\n",
    "Cm = Cm * 10**-12# F\n",
    "# The parallel resonant frequency \n",
    "f_p = (1/(2*pi))*( sqrt( (C+Cm)/(L*C*Cm) ) )# Hz\n",
    "f_p= f_p*10**-3# kHz\n",
    "print \"The parallel resonant frequency = %.2f kHz\"%f_p\n",
    "# The series resonant frequency \n",
    "f_s = 1/(2*pi*(sqrt(L*C)))# Hz\n",
    "f_s= f_s*10**-3# kHz\n",
    "print \"The series resonant frequency = %.2f kHz\"%f_s\n",
    "omega_s = 2*pi*f_s*10**3# rad/sec\n",
    "# The Q factor of the crystal \n",
    "Q = (omega_s*L)/R\n",
    "print \"The Q factor of the crystal = %.2f\"%Q"
   ]
  },
  {
   "cell_type": "markdown",
   "metadata": {},
   "source": [
    "## Exa 5.4 page No 300"
   ]
  },
  {
   "cell_type": "code",
   "execution_count": 1,
   "metadata": {
    "collapsed": false
   },
   "outputs": [
    {
     "name": "stdout",
     "output_type": "stream",
     "text": [
      "The value of h11 = 8.00 ohm\n",
      "The value of h21 = -0.50\n",
      "The value of h12 = 0.50\n",
      "The value of h22 = 0.12 mho\n"
     ]
    }
   ],
   "source": [
    "from __future__ import division\n",
    "# Given data\n",
    "R1 = 6# ohm\n",
    "R2 = 4# ohm\n",
    "R3 = 4# ohm\n",
    "h11 = R1+( (R2*R3)/(R2+R3) )# ohm\n",
    "print \"The value of h11 = %.2f ohm\"%h11\n",
    "# i2 = -i*1/2 and h21 = i2/i1 = (-i1/2)/2, So\n",
    "h21 = -1/2\n",
    "print \"The value of h21 = %.2f\"%h21\n",
    "# V1 = V2/2 and h12 = V1/V2 = (V2/2)/2, SO\n",
    "h12 = 1/2\n",
    "print \"The value of h12 = %.2f\"%h12\n",
    "Zo = R2+R3## output resistance  = %.2f ohm\n",
    "h22 = 1/Zo# mho\n",
    "print \"The value of h22 = %.2f mho\"%h22"
   ]
  },
  {
   "cell_type": "markdown",
   "metadata": {},
   "source": [
    "## Exa 5.5 page No 303"
   ]
  },
  {
   "cell_type": "code",
   "execution_count": 3,
   "metadata": {
    "collapsed": false
   },
   "outputs": [
    {
     "name": "stdout",
     "output_type": "stream",
     "text": [
      "The value of h11 = 9.00\n",
      "The value of h12 = 6.00\n",
      "The value of h21 = 6.00\n",
      "The value of h22 = 8.00\n"
     ]
    }
   ],
   "source": [
    "from __future__ import division\n",
    "# Given data\n",
    "R1 = 3# ohm\n",
    "R2 = 6# ohm\n",
    "R3 = 2# ohm\n",
    "# V1 = (R1*I1)+  (R2*(I1+I2)) = ((R1+R2)*I1)+(R2*I2)   (i)\n",
    "# V2 = (R3*I2) + (R2*(I1+I2)) = (R2*I1) + ((R1+R3)*I2) (ii)\n",
    "# Standard h-parameter equation \n",
    "#V1= h11*I1 +h12*I2 and V2= h21*I1 + h22*I2\n",
    "# Comparing eq (i) and (ii) with standard equaation, we get\n",
    "h11= R1+R2\n",
    "print \"The value of h11 = %.2f\"%h11\n",
    "h12= R2\n",
    "print \"The value of h12 = %.2f\"%h12\n",
    "h21= R2\n",
    "print \"The value of h21 = %.2f\"%h21\n",
    "h22= R2+R3\n",
    "print \"The value of h22 = %.2f\"%h22"
   ]
  },
  {
   "cell_type": "markdown",
   "metadata": {},
   "source": [
    "## Exa 5.7 page No 304"
   ]
  },
  {
   "cell_type": "code",
   "execution_count": 5,
   "metadata": {
    "collapsed": false
   },
   "outputs": [
    {
     "name": "stdout",
     "output_type": "stream",
     "text": [
      "The value of Ai = 40.80\n",
      "The value of Ri = 409.10 k ohm\n",
      "The value of A_V = 1.00\n",
      "The value of Ro = 216.00 ohm\n",
      "The value of A_VS = 0.97\n"
     ]
    }
   ],
   "source": [
    "from __future__ import division\n",
    "# Given data\n",
    "h_ic = 1.1#  k ohm\n",
    "h_ic = h_ic * 10**3# ohm\n",
    "h_rc = 1\n",
    "h_fc = -51\n",
    "h_oc = 25# µA/V\n",
    "h_oc = h_oc * 10**-6# A/V\n",
    "R_L = 10# k ohm\n",
    "R_L = R_L * 10**3# ohm\n",
    "R_S = R_L# ohm\n",
    "# The current gain,\n",
    "Ai = -h_fc/(1+(h_oc*R_L))\n",
    "print \"The value of Ai = %.2f\"%Ai\n",
    "# The value of Ri \n",
    "Ri = h_ic+(h_rc*Ai*R_L)# ohm\n",
    "Ri= Ri*10**-3# k ohm\n",
    "print \"The value of Ri = %.2f k ohm\"%Ri\n",
    "Ri= Ri*10**3# ohm\n",
    "# The value of A_V \n",
    "A_V = (Ai*R_L)/Ri\n",
    "print \"The value of A_V = %.2f\"%A_V\n",
    "Gamma_o = h_oc - ( (h_fc*h_rc)/(h_ic+R_S) )# mho\n",
    "# The value of Ro \n",
    "Ro = round(1/Gamma_o)# ohm\n",
    "print \"The value of Ro = %.2f ohm\"%Ro\n",
    "A_VS = (A_V*Ri)/(Ri+R_S)\n",
    "print \"The value of A_VS = %.2f\"%A_VS"
   ]
  },
  {
   "cell_type": "markdown",
   "metadata": {},
   "source": [
    "## Exa 5.10 page No 306"
   ]
  },
  {
   "cell_type": "code",
   "execution_count": 6,
   "metadata": {
    "collapsed": false
   },
   "outputs": [
    {
     "name": "stdout",
     "output_type": "stream",
     "text": [
      "The overall current gain is : -70.57\n",
      "The value of Ri = 1.00 k ohm\n",
      "The value of A_VS is : -84.01\n",
      "The value of gamma_o = 12.00 µ mho\n"
     ]
    }
   ],
   "source": [
    "from __future__ import division\n",
    "# Given data\n",
    "h_ie = 1.5# ohm\n",
    "h_fe = 100\n",
    "h_re = 3 * 10**-4\n",
    "h_oe = 25 * 10**-6#  mho\n",
    "V_CC = 20# V\n",
    "R1 = 50 * 10**3# ohm\n",
    "R2 = 5 * 10**3# ohm\n",
    "R_C = 5 * 10**3# ohm\n",
    "R_L = 10 * 10**3# ohm\n",
    "R_S = 1# k ohm\n",
    "Ri= 1.4*10**3# ohm\n",
    "R_B = (R1*R2)/(R1+R2)# ohm\n",
    "R_Ldesh= R_L*R_C/(R_L+R_C)# ohm\n",
    "# Current gain for transisor,\n",
    "Ai= -h_fe/(1+h_oe*R_Ldesh)\n",
    "# Overall current gain, A_I= Ai+Ib/I= Ai+R_B/(R_B+Ri) \n",
    "A_I= Ai*R_B/(R_B+Ri)\n",
    "print \"The overall current gain is : %.2f\"%A_I\n",
    "#Part (ii)\n",
    "R_i= R_B*Ri/(R_B*Ri)# k ohm\n",
    "print \"The value of Ri = %.2f k ohm\"%R_i\n",
    "# Part (iii)\n",
    "Av= A_I*R_Ldesh/Ri## voltage gain for transistor\n",
    "# overall voltage gain,\n",
    "A_VS=  Av*R_i/(R_S+R_i)\n",
    "print \"The value of A_VS is : %.2f\"%A_VS\n",
    "# Part (iv)\n",
    "R_S=R_S*10**3# ohm\n",
    "R_Sdesh= R_S*R_B/(R_S+R_B)# ohm\n",
    "gamma_o= h_re*h_fe/(h_ie+R_Sdesh)-h_oe# mho\n",
    "gamma_o= round(gamma_o*10**6)# µ mho\n",
    "print \"The value of gamma_o = %.2f µ mho\"%gamma_o\n",
    "\n",
    "# Note: In the book, all these calculated value is not accurate."
   ]
  },
  {
   "cell_type": "markdown",
   "metadata": {},
   "source": [
    "## Exa 5.11 page No 307"
   ]
  },
  {
   "cell_type": "code",
   "execution_count": 9,
   "metadata": {
    "collapsed": false
   },
   "outputs": [
    {
     "name": "stdout",
     "output_type": "stream",
     "text": [
      "Part (a) : Exact analysis\n",
      "The current gain = -47.62\n",
      "The input resistance = 1.08 k ohm\n",
      "The voltage gain = -50.76\n",
      "The output resistance = 54.29 k ohm\n",
      "The power gain = 4214.08\n",
      "The output terminal resistance = 1.93 k ohm\n",
      "Part (b) : Approximate analysis\n",
      "The value of Ai = -50.00\n",
      "The value of Ri = 1100.00 ohm\n",
      "The value of A_VS = 52.63\n",
      "The output resistance = 54.29 k ohm\n",
      "The value of Ap = 4545.45\n",
      "The output terminal resistance = 20.00 k ohm\n",
      "The percentage error = 5.00 %\n"
     ]
    }
   ],
   "source": [
    "from __future__ import division\n",
    "# Given data\n",
    "R_S = 800# ohm\n",
    "R_L = 2# k ohm\n",
    "R_L = R_L * 10**3# ohm\n",
    "h_ie = 1.1# k ohm\n",
    "h_ie = h_ie * 10**3# ohm\n",
    "h_fe = 50\n",
    "h_oe = 25# µohm\n",
    "h_oe = h_oe * 10**-6# ohm\n",
    "h_re = 2.5*10**-4\n",
    "\n",
    "# Part (a) : Exact analysis\n",
    "print \"Part (a) : Exact analysis\"\n",
    "# The current gain\n",
    "Ai_exact = -h_fe/(1+(h_oe*R_L))\n",
    "print \"The current gain = %.2f\"%Ai_exact\n",
    "# The input resistance \n",
    "Ri = h_ie + (h_re*Ai_exact*R_L)# ohm\n",
    "Ri= Ri*10**-3# k ohm\n",
    "print \"The input resistance = %.2f k ohm\"%Ri\n",
    "Ri= Ri*10**3# ohm\n",
    "A_V = (Ai_exact*R_L)/Ri\n",
    "# The voltage gain,\n",
    "A_VS = (A_V*Ri)/(Ri+R_S)\n",
    "print \"The voltage gain = %.2f\"%A_VS\n",
    "Gamma_o = h_oe - ( (h_re*h_fe)/(h_ie+R_S) )# mho\n",
    "# The output resistance \n",
    "Ro = 1/Gamma_o# ohm\n",
    "Ro= Ro*10**-3## k ohm\n",
    "print \"The output resistance = %.2f k ohm\"%Ro\n",
    "Ro= Ro*10**3## ohm\n",
    "# The power gain,\n",
    "Ap = Ai_exact*A_V\n",
    "print \"The power gain = %.2f\"%Ap\n",
    "# The output terminal resistance \n",
    "Rot = (Ro*R_L)/(Ro+R_L)# ohm\n",
    "Rot= Rot*10**-3# k ohm\n",
    "print \"The output terminal resistance = %.2f k ohm\"%Rot\n",
    "Rot= Rot*10**3# ohm\n",
    "\n",
    "# Part (b) : Approximate analysis\n",
    "print \"Part (b) : Approximate analysis\"\n",
    "h_re =0\n",
    "h_oe = 0\n",
    "Ai_app = -h_fe/(1+(h_oe*R_L))\n",
    "print \"The value of Ai = %.2f\"%Ai_app\n",
    "Ri = h_ie+(h_re*Ai_app*R_L)\n",
    "print \"The value of Ri = %.2f ohm\"%Ri\n",
    "A_V= Ai_app*R_L/Ri\n",
    "A_VS = (-A_V*h_ie)/(R_S+h_ie)\n",
    "print \"The value of A_VS = %.2f\"%A_VS\n",
    "Gamma_o = 18.42# = %.2f µohms\n",
    "Gamma_o = Gamma_o * 10**-6# mho\n",
    "# # The output resistance \n",
    "Ro = 1/Gamma_o# ohm\n",
    "Ro= Ro*10**-3## k ohm\n",
    "print \"The output resistance = %.2f k ohm\"%Ro\n",
    "Ro= Ro*10**3## ohm\n",
    "Ap = Ai_app*A_V\n",
    "print \"The value of Ap = %.2f\"%Ap\n",
    "#The output terminal resistance, Rot = (Ro*R_L)/(Ro+R_L)= 20# k ohm\n",
    "Rot= 20# k ohm\n",
    "print \"The output terminal resistance = %.2f k ohm\"%Rot\n",
    "Rot= Rot*10**3# ohm\n",
    "# Percentage error\n",
    "Per_error= abs((Ai_exact-Ai_app)/Ai_exact*100)# %\n",
    "print \"The percentage error = %.2f %%\"%Per_error"
   ]
  },
  {
   "cell_type": "markdown",
   "metadata": {},
   "source": [
    "## Exa 5.13 page No 310"
   ]
  },
  {
   "cell_type": "code",
   "execution_count": 10,
   "metadata": {
    "collapsed": false
   },
   "outputs": [
    {
     "name": "stdout",
     "output_type": "stream",
     "text": [
      "The voltage gain 250.0\n",
      "The current gain 20.0\n",
      "The power gain 5000.0\n"
     ]
    }
   ],
   "source": [
    "from __future__ import division\n",
    "# Given data\n",
    "R_S = 600# ohm\n",
    "r_i = 400# ohm\n",
    "Vs = 1# mV\n",
    "Vs = Vs * 10**-3# V\n",
    "#Input voltage\n",
    "Vi = Vs*(r_i/(R_S+r_i))# V\n",
    "# Input current\n",
    "Ii =Vs/(R_S+r_i)# A\n",
    "Vo = 100# mV\n",
    "Vo = Vo * 10**-3# V\n",
    "R_L = 5#  k ohm\n",
    "R_L = R_L * 10**3# ohm\n",
    "# Output current \n",
    "Io = Vo/R_L# A\n",
    "# voltage gain\n",
    "A_V =Vo/Vi # \n",
    "print \"The voltage gain\",A_V\n",
    "# current gain\n",
    "A_I = Io/Ii\n",
    "print \"The current gain\",A_I\n",
    "# Power gain\n",
    "P =A_V*A_I\n",
    "print \"The power gain\",P"
   ]
  },
  {
   "cell_type": "markdown",
   "metadata": {},
   "source": [
    "## Exa 5.14 page No 312"
   ]
  },
  {
   "cell_type": "code",
   "execution_count": 12,
   "metadata": {
    "collapsed": false
   },
   "outputs": [
    {
     "name": "stdout",
     "output_type": "stream",
     "text": [
      "The gain of negative feedback : 9.259\n"
     ]
    }
   ],
   "source": [
    "from __future__ import division\n",
    "# Given data\n",
    "A = 125\n",
    "Beta = 1/10\n",
    "# Gain of negative feedback\n",
    "Af = A/(1+(A*Beta))\n",
    "print \"The gain of negative feedback : %.3f\"%Af"
   ]
  },
  {
   "cell_type": "markdown",
   "metadata": {},
   "source": [
    "## Exa 5.15 page No 312"
   ]
  },
  {
   "cell_type": "code",
   "execution_count": 13,
   "metadata": {
    "collapsed": false
   },
   "outputs": [
    {
     "name": "stdout",
     "output_type": "stream",
     "text": [
      "The value of A is : 1200.00\n",
      "The value of B : 0.01\n"
     ]
    }
   ],
   "source": [
    "from __future__ import division\n",
    "# Given data\n",
    "Af = 100\n",
    "Vi = 0.6# V\n",
    "Vo =Af*Vi# V\n",
    "Vi = 50# mV\n",
    "Vi = Vi * 10**-3# V\n",
    "# Internal gain of amplifier,\n",
    "A = Vo/Vi\n",
    "print \"The value of A is : %.2f\"%A\n",
    "B= ((A/Af)-1)/A\n",
    "print \"The value of B : %.2f\"%B"
   ]
  },
  {
   "cell_type": "markdown",
   "metadata": {},
   "source": [
    "## Exa 5.16 page No 313"
   ]
  },
  {
   "cell_type": "code",
   "execution_count": 15,
   "metadata": {
    "collapsed": false
   },
   "outputs": [
    {
     "name": "stdout",
     "output_type": "stream",
     "text": [
      "The change in overall gain = -2.00 %\n",
      "Thus, the overall gain will be reduced by 2%\n"
     ]
    }
   ],
   "source": [
    "from __future__ import division\n",
    "# Given data\n",
    "A = 60# dB\n",
    "A =10**(A/20)\n",
    "Beta = 0.005\n",
    "dAbyA = -12/100##gain reduction = %.2f %\n",
    "dAf_byAf = (1/(1+(A*Beta)))*dAbyA## change = %.2f overall gain\n",
    "dAf_byAf = dAf_byAf * 100# %\n",
    "print \"The change in overall gain = %.2f %%\"%dAf_byAf\n",
    "print \"Thus, the overall gain will be reduced by 2%\""
   ]
  },
  {
   "cell_type": "markdown",
   "metadata": {},
   "source": [
    "## Exa 5.17 page No 313"
   ]
  },
  {
   "cell_type": "code",
   "execution_count": 16,
   "metadata": {
    "collapsed": false
   },
   "outputs": [
    {
     "name": "stdout",
     "output_type": "stream",
     "text": [
      "The value of feed back factor = 0.02\n",
      "The change in overall gain for 20 % change in gain of the basic amplifier = 0.79 %\n"
     ]
    }
   ],
   "source": [
    "from __future__ import division\n",
    "# Given data\n",
    "Zo =  12.6# k ohm\n",
    "Zo = Zo * 10**3# ohm\n",
    "A = 60# dB\n",
    "A = 10**(A/20)\n",
    "Zof = 500# ohm\n",
    "# Zof = Zo/(1+(A*Beta))\n",
    "Beta = ((Zo/Zof)-1)/A\n",
    "print \"The value of feed back factor = %.2f\"%Beta\n",
    "# Part (ii)\n",
    "dAbyA= 20/100## change = %.2f gain of basic amplifier\n",
    "dAf_byAf =dAbyA*1/(1+A*Beta)*100##change = %.2f overall gain  = %.2f  %\n",
    "print \"The change in overall gain for 20 %% change in gain of the basic amplifier = %.2f %%\"%dAf_byAf\n",
    "\n",
    "# Note: In the book, there is calculation error to find the value of dAf/Af"
   ]
  },
  {
   "cell_type": "markdown",
   "metadata": {},
   "source": [
    "## Exa 5.18 page No 314"
   ]
  },
  {
   "cell_type": "code",
   "execution_count": 18,
   "metadata": {
    "collapsed": false
   },
   "outputs": [
    {
     "name": "stdout",
     "output_type": "stream",
     "text": [
      "The output voltage = 2.19 V\n",
      "The input voltage = 0.20\n"
     ]
    }
   ],
   "source": [
    "from __future__ import division\n",
    "# Given data\n",
    "Vo = 36# V\n",
    "Vi = 0.028# V\n",
    "A = Vo/Vi\n",
    "Vf = 1.2\n",
    "Vo = 100\n",
    "Beta = Vf/Vo\n",
    "# Gain with feedback\n",
    "Af = A/(1+(A*Beta))\n",
    "Vs = Vi# V\n",
    "# Output voltage\n",
    "Vo =Af*Vs# V\n",
    "print \"The output voltage = %.2f V\"%Vo\n",
    "#Df =D/(1+(A*Beta))\n",
    "DbyDf = 7/1\n",
    "ABeta = (DbyDf)-1\n",
    "Af =A/(1+(ABeta))\n",
    "Vo = 36# V\n",
    "# The input voltage,\n",
    "Vs =Vo/Af\n",
    "print \"The input voltage = %.2f\"%Vs"
   ]
  },
  {
   "cell_type": "markdown",
   "metadata": {},
   "source": [
    "## Exa 5.19 page No 315"
   ]
  },
  {
   "cell_type": "code",
   "execution_count": 19,
   "metadata": {
    "collapsed": false
   },
   "outputs": [
    {
     "name": "stdout",
     "output_type": "stream",
     "text": [
      "The required feed back = 0.10\n",
      "The closed loop voltage gain = 10.00\n"
     ]
    }
   ],
   "source": [
    "from __future__ import division\n",
    "# Given data\n",
    "dAf_byAf = 10/100\n",
    "dAbyA = 10\n",
    "A = 1000\n",
    "# dAf_byAf = dAbyA*(1/(1+(A*Beta)))\n",
    "# The required feed back \n",
    "Beta = ((dAbyA/dAf_byAf)-1)/A\n",
    "print \"The required feed back = %.2f\"%Beta\n",
    "Af = A/(1+(A*Beta))## closed loop voltage gain \n",
    "print \"The closed loop voltage gain = %.2f\"%Af"
   ]
  },
  {
   "cell_type": "markdown",
   "metadata": {},
   "source": [
    "## Exa 5.20 page No 315"
   ]
  },
  {
   "cell_type": "code",
   "execution_count": 21,
   "metadata": {
    "collapsed": false
   },
   "outputs": [
    {
     "name": "stdout",
     "output_type": "stream",
     "text": [
      "The new value of second harmonic distortion = 0.10 %\n",
      "The new value of input required = 1.00 volts\n"
     ]
    }
   ],
   "source": [
    "from __future__ import division\n",
    "# Given data\n",
    "Vi= 10*10**-3## input voltage = %.2f V\n",
    "A=1000## open loop voltage gain\n",
    "Do= 10##second harmonic distortion = %.2f %\n",
    "feedback= 40##feedback = %.2f dB\n",
    "feedback= 10**(feedback/20)\n",
    "# feedback= 1+A*bita or\n",
    "bita= (feedback-1)/A\n",
    "Af= A/(1+A*bita)\n",
    "# New value of second harmonic distortion,\n",
    "Df= Do/(1+A*bita)# %\n",
    "print \"The new value of second harmonic distortion = %.2f %%\"%Df\n",
    "# New value of input required,\n",
    "Vs= Vi*(1+A*bita)# V\n",
    "print \"The new value of input required = %.2f volts\"%Vs"
   ]
  },
  {
   "cell_type": "markdown",
   "metadata": {},
   "source": [
    "## Exa 5.21 page No 316"
   ]
  },
  {
   "cell_type": "code",
   "execution_count": 24,
   "metadata": {
    "collapsed": false
   },
   "outputs": [
    {
     "name": "stdout",
     "output_type": "stream",
     "text": [
      "The gain with feedback is : 20.00\n",
      "The output voltage = 0.20 V \n",
      "The input voltage = 0.0010 V\n"
     ]
    }
   ],
   "source": [
    "from __future__ import division\n",
    "# Given data\n",
    "D = 10/100\n",
    "Df = 1/100\n",
    "A = 200\n",
    "Vs = 10# mV\n",
    "Vs = Vs * 10**-3# V\n",
    "# Df = D/(1+A*Beta)\n",
    "Beta = (((D/Df)-1)/A)\n",
    "# gain with feedback \n",
    "Af = A/(1+(A*Beta))\n",
    "print \"The gain with feedback is : %.2f\"%Af\n",
    "# The output voltage \n",
    "Vo = Af*Vs# V\n",
    "print \"The output voltage = %.2f V \"%Vo\n",
    "# The input voltage \n",
    "Vin = Df+(-Beta*Vo)# V\n",
    "print \"The input voltage = %.4f V\"%Vin"
   ]
  },
  {
   "cell_type": "markdown",
   "metadata": {},
   "source": [
    "## Exa 5.22 page No 316"
   ]
  },
  {
   "cell_type": "code",
   "execution_count": 25,
   "metadata": {
    "collapsed": false
   },
   "outputs": [
    {
     "name": "stdout",
     "output_type": "stream",
     "text": [
      "The input impedance = 201.00 k ohm\n",
      "The output impedance = 0.05 k ohm\n"
     ]
    }
   ],
   "source": [
    "from __future__ import division\n",
    "# Given data\n",
    "A = 10000\n",
    "Beta = 0.02\n",
    "Zi = 1# k ohm\n",
    "Zi = Zi * 10**3# ohm\n",
    "Zo = 10# k ohm\n",
    "Zo = Zo * 10**3# ohm\n",
    "# The input impedance \n",
    "Zif = Zi*(1+(A*Beta))# ohm\n",
    "Zif= Zif*10**-3# k ohm\n",
    "print \"The input impedance = %.2f k ohm\"%Zif\n",
    "# The output impedance \n",
    "Zof = Zo/(1+(A*Beta))# ohm\n",
    "Zof= Zof*10**-3# k ohm\n",
    "print \"The output impedance = %.2f k ohm\"%Zof\n",
    "\n",
    "# Note:In the book, there is calculation error to find the value of Zof because 10/201 will be 0.04975 not 0.4975"
   ]
  },
  {
   "cell_type": "markdown",
   "metadata": {},
   "source": [
    "## Exa 5.23 page No 317"
   ]
  },
  {
   "cell_type": "code",
   "execution_count": 27,
   "metadata": {
    "collapsed": false
   },
   "outputs": [
    {
     "name": "stdout",
     "output_type": "stream",
     "text": [
      "The gain with feedback = 80.00\n",
      "The Lower cut-off frequency with feedback = 40.00 Hz\n",
      "The Upper cut-off frequency with feedback = 200.00 kHz\n"
     ]
    }
   ],
   "source": [
    "from __future__ import division\n",
    "# Given data\n",
    "A = 400\n",
    "Beta = 0.01\n",
    "# The gain with feedback\n",
    "Af =A/(1+(A*Beta))\n",
    "print \"The gain with feedback = %.2f\"%Af\n",
    "f_L = 200# Hz\n",
    "# The Lower cut-off frequency with feedback \n",
    "f_LF = f_L/(1+(A*Beta))# Hz\n",
    "print \"The Lower cut-off frequency with feedback = %.2f Hz\"%f_LF\n",
    "f_H = 40# kHz\n",
    "f_H = f_H * 10**3# Hz\n",
    "# The Upper cut-off frequency with feedback \n",
    "f_HF = f_H*(1+(A*Beta))# Hz\n",
    "f_HF=f_HF*10**-3# k Hz\n",
    "print \"The Upper cut-off frequency with feedback = %.2f kHz\"%f_HF\n",
    "\n",
    "# Note:In the book, there is calculation error to find the value of gain with feedback i.e. Af, so the answer = %.2f the book is wrong."
   ]
  },
  {
   "cell_type": "markdown",
   "metadata": {},
   "source": [
    "## Exa 5.24 page No 317"
   ]
  },
  {
   "cell_type": "code",
   "execution_count": 28,
   "metadata": {
    "collapsed": false
   },
   "outputs": [
    {
     "name": "stdout",
     "output_type": "stream",
     "text": [
      "The feedback fraction = 0.10\n",
      "The overall voltage gain with feedback = 9.98\n",
      "The output voltage = 19.95 mV\n"
     ]
    }
   ],
   "source": [
    "from __future__ import division\n",
    "# Given data\n",
    "A = 4000\n",
    "R1 = 1# k ohm\n",
    "R1 = R1 * 10**3# ohm\n",
    "R2 = 9# k ohm\n",
    "R2 = R2 * 10**3# ohm\n",
    "Beta = R1/(R1+R2)## feedback fraction \n",
    "print \"The feedback fraction = %.2f\"%Beta\n",
    "# The overall voltage gain with feedback \n",
    "Af = A/(1+(A*Beta))\n",
    "print \"The overall voltage gain with feedback = %.2f\"%Af\n",
    "Vs = 2# mV\n",
    "#Af = Vo/Vs\n",
    "# The output voltage \n",
    "Vo = Af*Vs# mV\n",
    "print \"The output voltage = %.2f mV\"%Vo"
   ]
  },
  {
   "cell_type": "markdown",
   "metadata": {},
   "source": [
    "## Exa 5.25 page No 318"
   ]
  },
  {
   "cell_type": "code",
   "execution_count": 31,
   "metadata": {
    "collapsed": false
   },
   "outputs": [
    {
     "name": "stdout",
     "output_type": "stream",
     "text": [
      "The percentage reduction in harmonic distortion = 8.33  %\n"
     ]
    }
   ],
   "source": [
    "from math import log\n",
    "from __future__ import division\n",
    "# Given data\n",
    "A = 54.8\n",
    "A = 20 * log(A)\n",
    "Beta = 1/50## feedback factor\n",
    "# gain with feedback\n",
    "Af = A/(1+(A*Beta))\n",
    "#Distortion with feedback, Df = D/(1+(A*Beta))\n",
    "Df = 1\n",
    "D = 12\n",
    "Pd = (Df/D)*100## percenatge change = %.2f distortion = %.2f %\n",
    "print \"The percentage reduction in harmonic distortion = %.2f  %%\"%Pd"
   ]
  },
  {
   "cell_type": "markdown",
   "metadata": {},
   "source": [
    "## Exa 5.26  page No 318"
   ]
  },
  {
   "cell_type": "code",
   "execution_count": 3,
   "metadata": {
    "collapsed": false
   },
   "outputs": [
    {
     "name": "stdout",
     "output_type": "stream",
     "text": [
      "The minimum gain required for oscillation is : 3.00\n"
     ]
    }
   ],
   "source": [
    "from __future__ import division\n",
    "# Given data\n",
    "# Part(iii)\n",
    "Vf_byVo= 1/3\n",
    "bita= Vf_byVo\n",
    "# A*bita>=1 or\n",
    "# The minimum gain required for oscillation \n",
    "Amin= 1/bita\n",
    "print \"The minimum gain required for oscillation is : %.2f\"%Amin"
   ]
  },
  {
   "cell_type": "markdown",
   "metadata": {},
   "source": [
    "## Exa 5.27 page No 320"
   ]
  },
  {
   "cell_type": "code",
   "execution_count": 6,
   "metadata": {
    "collapsed": false
   },
   "outputs": [
    {
     "name": "stdout",
     "output_type": "stream",
     "text": [
      "The magnitude of loop gain for beta = 0.20 is : 2.50\n",
      "The magnitude of loop gain for beta = 0.20 is : 0.25\n",
      "Hence system is unstable for beta=0.20 and stable for beta= 0.02 because at beta= 0.20 gain is greater than 1.\n"
     ]
    }
   ],
   "source": [
    "from math import sqrt,tan,pi\n",
    "from __future__ import division\n",
    "# Magnitude of loop gain, Mag_Tf= bita*100/(sqrt(1+(f/10**5)**2))**3         (i)\n",
    "# Phase of loop gain, P_Tf= -3*atand(f/10**5)                                               (ii)\n",
    "f_180= tan(pi/180*180/3)*10**5## from eq(ii), frequency at which phase becomes -180°\n",
    "bita= 0.20\n",
    "T_f_180= bita*100/(sqrt(1+(f_180/10**5)**2))**3## from eq (i), the magnitude of loop gain at f_180 for bita= 0.20\n",
    "print \"The magnitude of loop gain for beta = 0.20 is : %.2f\"%T_f_180\n",
    "bita= 0.02\n",
    "T_f_180= bita*100/(sqrt(1+(f_180/10**5)**2))**3## from eq (i), the magnitude of loop gain at f_180 for bita= 0.20\n",
    "print \"The magnitude of loop gain for beta = 0.20 is : %.2f\"%T_f_180\n",
    "print \"Hence system is unstable for beta=0.20 and stable for beta= 0.02 because at beta= 0.20 gain is greater than 1.\""
   ]
  },
  {
   "cell_type": "markdown",
   "metadata": {},
   "source": [
    "## Exa 5.29 page No 322"
   ]
  },
  {
   "cell_type": "code",
   "execution_count": 7,
   "metadata": {
    "collapsed": false
   },
   "outputs": [
    {
     "name": "stdout",
     "output_type": "stream",
     "text": [
      "The frequency of oscillation = 503.29 kHz\n"
     ]
    }
   ],
   "source": [
    "from math import sqrt,pi\n",
    "from __future__ import division\n",
    "# Given data\n",
    "L = 0.01# H\n",
    "C = 10# pF\n",
    "C = C * 10**-12# F\n",
    "# The frequency of oscillation \n",
    "f = 1/(2*pi*sqrt(L*C))# Hz\n",
    "f = f * 10**-3# kHz\n",
    "print \"The frequency of oscillation = %.2f kHz\"%f\n",
    "\n",
    "# Note:In the book, the calculation is wrong."
   ]
  },
  {
   "cell_type": "markdown",
   "metadata": {},
   "source": [
    "## Exa 5.30 page No 322"
   ]
  },
  {
   "cell_type": "code",
   "execution_count": 13,
   "metadata": {
    "collapsed": false
   },
   "outputs": [
    {
     "name": "stdout",
     "output_type": "stream",
     "text": [
      "The required capacitor range is : 75.05 pF to 675.47 pF\n"
     ]
    }
   ],
   "source": [
    "from math import sqrt,pi\n",
    "from __future__ import division\n",
    "# Given data\n",
    "L = 150# µH\n",
    "L = L * 10**-6# H\n",
    "# f = 1/(2*pi*sqrt(L*C)) or C = 1/(4*pi**2*f**2*L)\n",
    "#For f= 500 kHz\n",
    "f1 = 500# kHz\n",
    "f1 = f1 * 10**3# Hz\n",
    "C1 = 1/(4*pi**2*f1**2*L)# F\n",
    "#For f= 1500 kHz\n",
    "f2 = 1500# kHz\n",
    "f2 = f2 * 10**3# Hz\n",
    "C2 = 1/(4*pi**2*f2**2*L)# F\n",
    "C1= C1*10**12# pF\n",
    "C2= C2*10**12# pF\n",
    "print \"The required capacitor range is : %.2f\"%(C2),\"pF to %.2f\"%(C1),\"pF\"\n",
    "\n",
    "# Note: The answer in the book is wrong."
   ]
  },
  {
   "cell_type": "markdown",
   "metadata": {},
   "source": [
    "## Exa 5.31 page No 323"
   ]
  },
  {
   "cell_type": "code",
   "execution_count": 12,
   "metadata": {
    "collapsed": false
   },
   "outputs": [
    {
     "name": "stdout",
     "output_type": "stream",
     "text": [
      "The operating frequency = 528.00 kHz\n",
      "The feed back fraction = 0.10\n",
      "The minimum gain to sustain oscillation = 10.00\n",
      "The emitter resistance = 0.25 ohm\n"
     ]
    }
   ],
   "source": [
    "from math import sqrt,pi\n",
    "from __future__ import division\n",
    "# Given data\n",
    "L = 100# µH\n",
    "L = L * 10**-6# H\n",
    "A=10\n",
    "C1 = 0.001# µF\n",
    "C1 = C1 * 10**-6# F\n",
    "C2 = 0.01# µF\n",
    "C2 = C2 * 10**-6# F\n",
    "C = (C1*C2)/(C1+C2)# F\n",
    "f = 1/(2*pi*sqrt( L*C ))# Hz\n",
    "f = round(f * 10**-3)# kHz\n",
    "print \"The operating frequency = %.2f kHz\"%f\n",
    "Beta = C1/C2## feedback fraction\n",
    "print \"The feed back fraction = %0.2f\"%Beta\n",
    "#Minimum gain to sustain oscillations, Amin*Beta = 1\n",
    "Amin = 1/Beta\n",
    "print \"The minimum gain to sustain oscillation = %.2f\"%Amin\n",
    "# A = R_C/R_E\n",
    "R_C = 2.5# ohm\n",
    "R_E = R_C/A# ohm\n",
    "print \"The emitter resistance = %.2f ohm\"%R_E"
   ]
  },
  {
   "cell_type": "markdown",
   "metadata": {},
   "source": [
    "## Exa 5.32 page No 324"
   ]
  },
  {
   "cell_type": "code",
   "execution_count": 11,
   "metadata": {
    "collapsed": false
   },
   "outputs": [
    {
     "name": "stdout",
     "output_type": "stream",
     "text": [
      "The value of capacitor = 10.00 pF\n"
     ]
    }
   ],
   "source": [
    "from math import pi\n",
    "from __future__ import division\n",
    "# Given data\n",
    "L1 = 0.1# mH\n",
    "L1 = L1 * 10**-3# H\n",
    "L2 = 10# mH\n",
    "L2 = L2 * 10**-3# H\n",
    "L = 150# µH\n",
    "L = L * 10**-6# H\n",
    "f = 4110# kHz\n",
    "f = f * 10**3# Hz\n",
    "#Frequency of oscillations, f = 1/(2*pi*sqrt(L*C)), So\n",
    "C = 1/(4*(pi**2)*(f**2)*L )# F\n",
    "C = round(C * 10**12)# pF\n",
    "print \"The value of capacitor = %.2f pF\"%C"
   ]
  },
  {
   "cell_type": "markdown",
   "metadata": {},
   "source": [
    "## Exa 5.33 page No 324"
   ]
  },
  {
   "cell_type": "code",
   "execution_count": 14,
   "metadata": {
    "collapsed": false
   },
   "outputs": [
    {
     "name": "stdout",
     "output_type": "stream",
     "text": [
      "The value of C = 0.01 µF\n"
     ]
    }
   ],
   "source": [
    "from math import sqrt,pi,tan\n",
    "from __future__ import division\n",
    "# Given data\n",
    "f = 1# kHz\n",
    "f = f * 10**3# Hz\n",
    "R = 10# k ohm\n",
    "R = R * 10**3# ohm\n",
    "omega = 2*pi*f##in rad/sec\n",
    "phi = 60# degree\n",
    "# tand(phi) = Alpha_C/R = 1/(omega*C*R)\n",
    "C = 1/(omega*R*tan(pi/180*phi))# F\n",
    "C = C * 10**6# µF\n",
    "print \"The value of C = %.2f µF\"%C"
   ]
  },
  {
   "cell_type": "markdown",
   "metadata": {},
   "source": [
    "## Exa 5.34 page No 324"
   ]
  },
  {
   "cell_type": "code",
   "execution_count": 15,
   "metadata": {
    "collapsed": false
   },
   "outputs": [
    {
     "name": "stdout",
     "output_type": "stream",
     "text": [
      "The frequency = 3183.10 Hz\n"
     ]
    }
   ],
   "source": [
    "from __future__ import division\n",
    "from math import sqrt,pi\n",
    "# Given data\n",
    "R2 = 200# k ohm\n",
    "R2 = R2 * 10**3# ohm\n",
    "R1 = R2# ohm\n",
    "C2 = 250# pF\n",
    "C2 = C2 * 10**-12# F\n",
    "C1 = C2# F\n",
    "R = R2# ohm\n",
    "C = C2# F\n",
    "# Frequency of oscillations,\n",
    "f = 1/(2*pi*R*C)# Hz\n",
    "print \"The frequency = %.2f Hz\"%f\n",
    "\n",
    "# Note: The answer in the book is not accurate."
   ]
  },
  {
   "cell_type": "markdown",
   "metadata": {},
   "source": [
    "## Exa 5.36 page No 326"
   ]
  },
  {
   "cell_type": "code",
   "execution_count": 16,
   "metadata": {
    "collapsed": false
   },
   "outputs": [
    {
     "name": "stdout",
     "output_type": "stream",
     "text": [
      "The frequency of oscillation = 2.60 MHz\n",
      "The minimum gain for maintaining oscillation = 3.00\n"
     ]
    }
   ],
   "source": [
    "from __future__ import division\n",
    "from math import sqrt,pi\n",
    "\n",
    "# Given data\n",
    "C1 = 300# pF\n",
    "C2 = 100# pF\n",
    "Ceq = (C1*C2)/(C1+C2)# pF\n",
    "Ceq = Ceq * 10**-12# F\n",
    "L = 50# µH\n",
    "L = L * 10**-6# H\n",
    "# The frequency of oscillation \n",
    "f = 1/(2*pi*sqrt(L*Ceq))# Hz\n",
    "f = f * 10**-6# MHz\n",
    "print \"The frequency of oscillation = %.2f MHz\"%f\n",
    "# For maintaining oscillation, A_loop >=1 and Aopenloop*Beta = 1\n",
    "# Beta = C2/C1\n",
    "Aopenloop = C1/C2\n",
    "print \"The minimum gain for maintaining oscillation = %.2f\"%Aopenloop"
   ]
  }
 ],
 "metadata": {
  "kernelspec": {
   "display_name": "Python 2",
   "language": "python",
   "name": "python2"
  },
  "language_info": {
   "codemirror_mode": {
    "name": "ipython",
    "version": 2
   },
   "file_extension": ".py",
   "mimetype": "text/x-python",
   "name": "python",
   "nbconvert_exporter": "python",
   "pygments_lexer": "ipython2",
   "version": "2.7.9"
  }
 },
 "nbformat": 4,
 "nbformat_minor": 0
}
