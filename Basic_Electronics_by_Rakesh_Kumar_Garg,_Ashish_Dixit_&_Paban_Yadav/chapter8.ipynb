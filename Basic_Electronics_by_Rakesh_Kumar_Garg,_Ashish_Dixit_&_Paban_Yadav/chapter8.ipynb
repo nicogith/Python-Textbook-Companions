{
 "cells": [
  {
   "cell_type": "markdown",
   "metadata": {},
   "source": [
    "# Chapter 8 Metal Oxide Semiconductor Field Effect Transistor"
   ]
  },
  {
   "cell_type": "markdown",
   "metadata": {},
   "source": [
    "## Exa 8.1 page No 441"
   ]
  },
  {
   "cell_type": "code",
   "execution_count": 1,
   "metadata": {
    "collapsed": false
   },
   "outputs": [
    {
     "data": {
      "image/png": "[encoded data removed]",
      "text/plain": [
       "<matplotlib.figure.Figure at 0x7fb8f99e1e10>"
      ]
     },
     "metadata": {},
     "output_type": "display_data"
    },
    {
     "name": "stdout",
     "output_type": "stream",
     "text": [
      "Transfer characteristics for an n-channel depletion-type MOSFET shown in figure.\n"
     ]
    }
   ],
   "source": [
    "from numpy import arange\n",
    "%matplotlib inline\n",
    "from matplotlib.pyplot import plot,title,xlabel,ylabel,show\n",
    "from __future__ import division\n",
    "# Given data\n",
    "I_DSS= 10# mA\n",
    "V_P= -4# V\n",
    "V_GS= arange(0,-0.1+V_P,-0.1) # V\n",
    "# The value of I_D,\n",
    "I_D= I_DSS*(1-V_GS/V_P)**2# mA\n",
    "plot(V_GS,I_D)\n",
    "xlabel(\"V_GS in volts\")\n",
    "ylabel(\"I_D in mA\")\n",
    "title(\"Transfer characteristics for an n-channel depletion-type MOSFET\")\n",
    "show()\n",
    "print \"Transfer characteristics for an n-channel depletion-type MOSFET shown in figure.\""
   ]
  },
  {
   "cell_type": "markdown",
   "metadata": {},
   "source": [
    "## Exa 8.2 page No 442"
   ]
  },
  {
   "cell_type": "code",
   "execution_count": 2,
   "metadata": {
    "collapsed": false
   },
   "outputs": [
    {
     "name": "stdout",
     "output_type": "stream",
     "text": [
      "The value of V_DS = 5.00 V\n"
     ]
    }
   ],
   "source": [
    "from __future__ import division\n",
    "# Given data\n",
    "V_DD= 20# V\n",
    "V_GS = 0# V\n",
    "I_DSS = 10# mA\n",
    "I_P = I_DSS# mA\n",
    "I_D = I_DSS# mA\n",
    "R_D = 1.5# k ohm\n",
    "# The drain to source voltage,\n",
    "V_DS = V_DD - (I_D*R_D)# V\n",
    "print \"The value of V_DS = %.2f V\"%V_DS"
   ]
  },
  {
   "cell_type": "markdown",
   "metadata": {},
   "source": [
    "## Exa 8.3 page No 442"
   ]
  },
  {
   "cell_type": "code",
   "execution_count": 3,
   "metadata": {
    "collapsed": false
   },
   "outputs": [
    {
     "name": "stdout",
     "output_type": "stream",
     "text": [
      "The drain current = 1.25 mA\n"
     ]
    }
   ],
   "source": [
    "from __future__ import division\n",
    "# Given data\n",
    "I_Don = 5# mA\n",
    "V_GS = 8# V\n",
    "V_GST = 4# V\n",
    "K = I_Don/((V_GS-V_GST)**2)# mA/V**2\n",
    "# Drain current when V_GS= 6 V\n",
    "V_GS= 6# V\n",
    "I_D = K*((V_GS-V_GST)**2)# mA\n",
    "print \"The drain current = %.2f mA\"%I_D"
   ]
  },
  {
   "cell_type": "markdown",
   "metadata": {},
   "source": [
    " ## Exa 8.4 page No 442"
   ]
  },
  {
   "cell_type": "code",
   "execution_count": 5,
   "metadata": {
    "collapsed": false
   },
   "outputs": [
    {
     "name": "stdout",
     "output_type": "stream",
     "text": [
      "Since the value of V_GS is negative, hence the device is P-channel\n",
      "The value of I_D = 1.11 mA\n"
     ]
    }
   ],
   "source": [
    "from __future__ import division\n",
    "# Given data\n",
    "I_Don = 10# mA\n",
    "V_GS = -12# V\n",
    "V_Ton = -3# V\n",
    "if V_GS<0:\n",
    "    print \"Since the value of V_GS is negative, hence the device is P-channel\"\n",
    "\n",
    "K = I_Don/((V_GS-V_Ton)**2)# mA/V\n",
    "V_GS = -6# V\n",
    "# The drain current,\n",
    "I_D = K*( (V_GS-V_Ton)**2 )# mA\n",
    "print \"The value of I_D = %.2f mA\"%I_D\n",
    "\n",
    "# Note: The answer in the book is not accurate."
   ]
  },
  {
   "cell_type": "markdown",
   "metadata": {},
   "source": [
    "## Exa 8.5 page No 443"
   ]
  },
  {
   "cell_type": "code",
   "execution_count": 7,
   "metadata": {
    "collapsed": false
   },
   "outputs": [
    {
     "name": "stdout",
     "output_type": "stream",
     "text": [
      "The value of I_D = 5.00 mA\n",
      "The value of V_DS = 0.50 V\n"
     ]
    }
   ],
   "source": [
    "from __future__ import division\n",
    "# Given data\n",
    "I_Don = 5# mA\n",
    "V_GSon = 7# V\n",
    "V_T = 4# V\n",
    "V_DD = 9# V\n",
    "R_D = 1.2# k ohm\n",
    "R_S = 0.5# k ohm\n",
    "K = (I_Don)/((V_GSon-V_T)**2)# mA/V**2\n",
    "# The value of drain current,\n",
    "I_D = K*((V_GSon-V_T)**2)# mA\n",
    "print \"The value of I_D = %.2f mA\"%I_D\n",
    "#The drain to source voltage, V_DS = V_DD - (I_D*R_D) - (I_D*R_S)\n",
    "V_DS = V_DD - (I_D*(R_D+R_S))# V\n",
    "print \"The value of V_DS = %.2f V\"%V_DS\n",
    "\n",
    "# Note: The answer in the book is not accurate."
   ]
  }
 ],
 "metadata": {
  "kernelspec": {
   "display_name": "Python 2",
   "language": "python",
   "name": "python2"
  },
  "language_info": {
   "codemirror_mode": {
    "name": "ipython",
    "version": 2
   },
   "file_extension": ".py",
   "mimetype": "text/x-python",
   "name": "python",
   "nbconvert_exporter": "python",
   "pygments_lexer": "ipython2",
   "version": "2.7.9"
  }
 },
 "nbformat": 4,
 "nbformat_minor": 0
}
