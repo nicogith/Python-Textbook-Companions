{
 "cells": [
  {
   "cell_type": "markdown",
   "metadata": {},
   "source": [
    "# Chapter 7 Junction Field Effect Transistor"
   ]
  },
  {
   "cell_type": "markdown",
   "metadata": {},
   "source": [
    "## Exa 7.1 page No 418"
   ]
  },
  {
   "cell_type": "code",
   "execution_count": 5,
   "metadata": {
    "collapsed": false
   },
   "outputs": [
    {
     "data": {
      "image/png": "[encoded data removed]",
      "text/plain": [
       "<matplotlib.figure.Figure at 0x7f0d7ed42050>"
      ]
     },
     "metadata": {},
     "output_type": "display_data"
    },
    {
     "name": "stdout",
     "output_type": "stream",
     "text": [
      "Transfer characteristics of a JFET shown in figure.\n"
     ]
    }
   ],
   "source": [
    "from __future__ import division\n",
    "from numpy import arange\n",
    "%matplotlib inline\n",
    "from matplotlib.pyplot import plot,xlabel,ylabel,title,show\n",
    "# Given data\n",
    "I_DSS = 14# mA\n",
    "V_GSoff = -6# V\n",
    "V_GS= arange(0,-0.1+V_GSoff,-0.1) # V\n",
    "I_D= I_DSS*(1-V_GS/V_GSoff)**2# mA\n",
    "# Ploting of the dc transfer characteristics\n",
    "plot(V_GS,I_D)\n",
    "xlabel(\"V_GS in volts\")\n",
    "ylabel(\"I_D in mA\")\n",
    "title(\"Transfer characteristics of a JFET\")\n",
    "show()\n",
    "print \"Transfer characteristics of a JFET shown in figure.\""
   ]
  },
  {
   "cell_type": "markdown",
   "metadata": {},
   "source": [
    "## Exa 7.2 page No 418"
   ]
  },
  {
   "cell_type": "code",
   "execution_count": 6,
   "metadata": {
    "collapsed": false
   },
   "outputs": [
    {
     "name": "stdout",
     "output_type": "stream",
     "text": [
      "The value of drain current = 4.22 mA\n"
     ]
    }
   ],
   "source": [
    "from __future__ import division\n",
    "# Given data\n",
    "I_DSS = 30# mA\n",
    "V_GSoff = -8# V\n",
    "V_GS = -5# V\n",
    "# The value of drain current \n",
    "I_D = I_DSS * ((1-(V_GS/V_GSoff))**2)# mA\n",
    "print \"The value of drain current = %.2f mA\"%I_D"
   ]
  },
  {
   "cell_type": "markdown",
   "metadata": {},
   "source": [
    "## Exa 7.3 page No 418"
   ]
  },
  {
   "cell_type": "code",
   "execution_count": 8,
   "metadata": {
    "collapsed": false
   },
   "outputs": [
    {
     "name": "stdout",
     "output_type": "stream",
     "text": [
      "The value of R_S = 0.60 k ohm\n",
      "The value of R_D = 6.00 k ohm\n"
     ]
    }
   ],
   "source": [
    "from __future__ import division\n",
    "from math import sqrt\n",
    "# Given data\n",
    "I_D = 1.5# mA\n",
    "I_D = I_D*10**-3# A\n",
    "V_DS = 10# V\n",
    "I_DSS = 5# mA\n",
    "I_DSS = I_DSS * 10**-3# A\n",
    "V_P = -2# V\n",
    "V_DD = 20# V\n",
    "# I_D = I_DSS*((1-(V_GS/V_P))**2)\n",
    "# ((V_GS/2)+1) = sqrt(I_D/I_DSS)\n",
    "V_GS = 2*( (sqrt(I_D/I_DSS))-1 )# V\n",
    "V_G = 0# V\n",
    "# V_GS = V_G-V_S\n",
    "V_S = -V_GS# V\n",
    "R_S = V_S/I_D# ohm\n",
    "R_S= R_S*10**-3# k ohm\n",
    "print \"The value of R_S = %.2f k ohm\"%R_S\n",
    "R_S= R_S*10**3# ohm\n",
    "# V_DD = (I_D*R_D) + V_DS + (I_D*R_S)\n",
    "R_D = (V_DD-V_DS-(I_D*R_S))/I_D# ohm\n",
    "R_D = round(R_D * 10**-3)# k ohm\n",
    "print \"The value of R_D = %.2f k ohm\"%R_D"
   ]
  },
  {
   "cell_type": "markdown",
   "metadata": {},
   "source": [
    "## Exa 7.4 page No 419"
   ]
  },
  {
   "cell_type": "code",
   "execution_count": 1,
   "metadata": {
    "collapsed": false
   },
   "outputs": [
    {
     "name": "stdout",
     "output_type": "stream",
     "text": [
      "The value of V_DS = 17.00 V\n",
      "The value of V_GS = -0.50 V\n"
     ]
    }
   ],
   "source": [
    "from __future__ import division\n",
    "# Given data\n",
    "V_DD = 30# V\n",
    "R_D = 5# k ohm\n",
    "R_D = R_D * 10**3# ohm\n",
    "I_D = 2.5# mA\n",
    "I_D = I_D * 10**-3# A\n",
    "R_S = 200# ohm\n",
    "# V_DD = (I_D*R_D) + V_DS + (I_D*R_S)\n",
    "V_DS = V_DD - (I_D*(R_D+R_S))# V\n",
    "print \"The value of V_DS = %.2f V\"%V_DS\n",
    "# The value of V_GS \n",
    "V_GS = -I_D*R_S# V\n",
    "print \"The value of V_GS = %.2f V\"%V_GS"
   ]
  },
  {
   "cell_type": "markdown",
   "metadata": {},
   "source": [
    "## Exa 7.5 page No 420"
   ]
  },
  {
   "cell_type": "code",
   "execution_count": 4,
   "metadata": {
    "collapsed": false
   },
   "outputs": [
    {
     "name": "stdout",
     "output_type": "stream",
     "text": [
      "The pinch of voltage = 6.79 V\n",
      "The channel half width = 8.79e-05 cm\n"
     ]
    }
   ],
   "source": [
    "from math import sqrt,pi\n",
    "from __future__ import division\n",
    "# Given data\n",
    "Alpha = 3*10**-6# m\n",
    "N_D = 10**21# electrons/cm**3\n",
    "q = 1.6 * 10**-19# C\n",
    "Epsilon_o = (36*pi*10**9)**-1\n",
    "Epsilon = 12*Epsilon_o\n",
    "# The pinch of voltage \n",
    "V_P = ((q*N_D)/(2*Epsilon))*(Alpha**2)# V\n",
    "print \"The pinch of voltage = %.2f V\"%V_P\n",
    "# Part (ii)\n",
    "VGSbyVp= 1/2\n",
    "# V_GS = ((1-b/Alpha)**2)*V_P\n",
    "# The channel half width \n",
    "b = Alpha*( 1-sqrt(VGSbyVp))# m\n",
    "b=b*10**2# cm\n",
    "print \"The channel half width = %.2e cm\"%b"
   ]
  },
  {
   "cell_type": "markdown",
   "metadata": {},
   "source": [
    "## Exa 7.6 page No 420"
   ]
  },
  {
   "cell_type": "code",
   "execution_count": 5,
   "metadata": {
    "collapsed": false
   },
   "outputs": [
    {
     "name": "stdout",
     "output_type": "stream",
     "text": [
      "The value of V_GS = -0.61 V\n",
      "The value of gm = 1.15 mA/V\n",
      "The value of R_S = 759.22 ohm\n",
      "The value of Rd = 8.70 k ohm\n"
     ]
    }
   ],
   "source": [
    "from math import sqrt,pi\n",
    "from __future__ import division\n",
    "# Given data\n",
    "V_P = -2# V\n",
    "I_DSS = 1.65# mA\n",
    "I_D = 0.8# mA\n",
    "V_DD = 24# V\n",
    "# I_D =I_DSS*(( 1-(V_GS/V_P) )**2)\n",
    "V_GS = V_P*(1-sqrt(I_D/I_DSS))\n",
    "print \"The value of V_GS = %.2f V\"%V_GS\n",
    "# Part (b)\n",
    "g_mo = (-2*I_DSS)/V_P# mA/V\n",
    "g_m = g_mo*(1-(V_GS/V_P))# mA/V\n",
    "print \"The value of gm = %.2f mA/V\"%g_m\n",
    "# Part (c)\n",
    "# The value of R_S \n",
    "R_S = -V_GS/(I_D*10**-3)# ohm\n",
    "print \"The value of R_S = %.2f ohm\"%R_S\n",
    "# Part (d)\n",
    "Av= 20##voltage gain = %.2f dB\n",
    "Av= 10**(Av/20)\n",
    "# r_d >> Rd and |Av|= gm*Rd\n",
    "Rd= Av/g_m# k ohm\n",
    "print \"The value of Rd = %.2f k ohm\"%Rd\n",
    "\n",
    "# Note: The value of R_S in the book is quite different from the coding output because in the book the calculated value of V_GS is not correct, correct value is -0.61"
   ]
  },
  {
   "cell_type": "markdown",
   "metadata": {},
   "source": [
    "## Exa 7.7 page No 421"
   ]
  },
  {
   "cell_type": "code",
   "execution_count": 6,
   "metadata": {
    "collapsed": false
   },
   "outputs": [
    {
     "name": "stdout",
     "output_type": "stream",
     "text": [
      "The value of V_GS = -2.00 V\n",
      "The value of I_DQ = 5.62 mA\n",
      "The value of V_DS = 4.75 V\n",
      "The value of V_D = 4.75 V\n",
      "The value of V_G = -2.00 V\n",
      "The value of V_S = 0.00 V\n"
     ]
    }
   ],
   "source": [
    "from __future__ import division\n",
    "# Given data\n",
    "I_DSS =10# mA\n",
    "V_P = -8# V\n",
    "V_GG = 2# V\n",
    "V_GS = -V_GG# V\n",
    "V_DD = 16# V\n",
    "R_D = 2# k ohm\n",
    "R_D = R_D * 10**3# ohm\n",
    "print \"The value of V_GS = %.2f V\"%V_GS\n",
    "# Part (b)\n",
    "# The value of I_DQ \n",
    "I_DQ = I_DSS * (1-V_GS/V_P)**2# mA\n",
    "print \"The value of I_DQ = %.2f mA\"%I_DQ\n",
    "# Part (c)\n",
    "# The value of V_DS \n",
    "V_DS = V_DD - (I_DQ*10**-3*R_D)# V\n",
    "print \"The value of V_DS = %.2f V\"%V_DS\n",
    "# Part (d)\n",
    "# The value of V_D \n",
    "V_D = V_DS# V\n",
    "print \"The value of V_D = %.2f V\"%V_D\n",
    "# Part (e)\n",
    "# The value of V_G \n",
    "V_G = V_GS# V\n",
    "print \"The value of V_G = %.2f V\"%V_G\n",
    "# Part (f)\n",
    "# The value of V_S \n",
    "V_S = 0# V\n",
    "print \"The value of V_S = %.2f V\"%V_S"
   ]
  },
  {
   "cell_type": "markdown",
   "metadata": {},
   "source": [
    "## Exa 7.8 page No 422"
   ]
  },
  {
   "cell_type": "code",
   "execution_count": 7,
   "metadata": {
    "collapsed": false
   },
   "outputs": [
    {
     "name": "stdout",
     "output_type": "stream",
     "text": [
      "The resistance between gate and source = 10000.00 M ohm\n"
     ]
    }
   ],
   "source": [
    "from __future__ import division\n",
    "# Given data\n",
    "V_GS = 10# V\n",
    "I_G = 0.001# µA\n",
    "I_G = I_G * 10**-6# A\n",
    "# The resistance between gate and source \n",
    "R_GS = V_GS/I_G# ohm\n",
    "R_GS = R_GS * 10**-6# Mohm\n",
    "print \"The resistance between gate and source = %.2f M ohm\"%R_GS"
   ]
  },
  {
   "cell_type": "markdown",
   "metadata": {},
   "source": [
    "## Exa 7.9 page No 422"
   ]
  },
  {
   "cell_type": "code",
   "execution_count": 8,
   "metadata": {
    "collapsed": false
   },
   "outputs": [
    {
     "name": "stdout",
     "output_type": "stream",
     "text": [
      "The ac drain resistance of the JFET = 12.50 k ohm\n"
     ]
    }
   ],
   "source": [
    "from __future__ import division\n",
    "# Given data\n",
    "delV_DS = 1.5# V\n",
    "delI_D = 120# µA\n",
    "delI_D = delI_D*10**-6# A\n",
    "# The ac drain resistance of the JFET \n",
    "r_d = delV_DS/delI_D# ohm\n",
    "r_d= r_d*10**-3# k ohm\n",
    "print \"The ac drain resistance of the JFET = %.2f k ohm\"%r_d"
   ]
  },
  {
   "cell_type": "markdown",
   "metadata": {},
   "source": [
    "## Exa 7.10 page No 422"
   ]
  },
  {
   "cell_type": "code",
   "execution_count": 9,
   "metadata": {
    "collapsed": false
   },
   "outputs": [
    {
     "name": "stdout",
     "output_type": "stream",
     "text": [
      "The transconductance = 2.00 mA/V\n"
     ]
    }
   ],
   "source": [
    "from __future__ import division\n",
    "# Given data\n",
    "I_D1 = 1.2# mA\n",
    "I_D2 = 1.5# mA\n",
    "# change = %.2f gate to source voltage,\n",
    "delI_D = I_D2-I_D1# mA\n",
    "V_GS2 = -4.10# V\n",
    "V_GS1 = -4.25# V\n",
    "delV_GS = V_GS2-V_GS1# V\n",
    "# The transconductance \n",
    "g_m = delI_D/delV_GS# mA/V\n",
    "print \"The transconductance = %.2f mA/V\"%g_m"
   ]
  },
  {
   "cell_type": "markdown",
   "metadata": {},
   "source": [
    "## Exa 7.11 page No 423"
   ]
  },
  {
   "cell_type": "code",
   "execution_count": 10,
   "metadata": {
    "collapsed": false
   },
   "outputs": [
    {
     "name": "stdout",
     "output_type": "stream",
     "text": [
      "The value of I_D = 2.10 mA\n",
      "The value of g_m = 2.80 mA/V\n"
     ]
    }
   ],
   "source": [
    "from __future__ import division\n",
    "# Given data\n",
    "I_DSS = 8.4# mA\n",
    "V_P = -3# V\n",
    "V_GS = -1.5# V\n",
    "# The value of I_D,\n",
    "I_D = I_DSS*((1-(V_GS/V_P))**2)# mA\n",
    "print \"The value of I_D = %.2f mA\"%I_D\n",
    "g_mo = (-2*I_DSS)/V_P# mA/V\n",
    "# The value of g_m \n",
    "g_m = g_mo*(1-(V_GS/V_P))# mA/V\n",
    "print \"The value of g_m = %.2f mA/V\"%g_m"
   ]
  },
  {
   "cell_type": "markdown",
   "metadata": {},
   "source": [
    "## Exa 7.12 page No 424"
   ]
  },
  {
   "cell_type": "code",
   "execution_count": 11,
   "metadata": {
    "collapsed": false
   },
   "outputs": [
    {
     "name": "stdout",
     "output_type": "stream",
     "text": [
      "Part (a) : The pinch off voltage for Si = 0.04 volts\n",
      "Part (b) : The pinch off voltage for Ge = 0.01 volts\n"
     ]
    }
   ],
   "source": [
    "from __future__ import division\n",
    "# Given data\n",
    "rho = 10# ohm-cm\n",
    "epsilon_o = 8.86*10**-12# c**2/Nm**2\n",
    "a = 2*10**-4# cm\n",
    "# V_P= q*N_A*a**2/(2*epsilon)       (i)\n",
    "#  and sigma= n*miu*q = N_A*miu*q => N_A= 1/(q*miu*rho)    (ii)\n",
    "# From eq(i) and (ii), V_P = (a**2)/(2*miu_p*Epsilon*rho)\n",
    "miu_p= 500# cm**2/V-sec  (for Si)\n",
    "epsilon= 12*epsilon_o## for Si\n",
    "# The pinch off voltage for Si \n",
    "V_P = (a**2)/(2*miu_p*epsilon*rho)##in V\n",
    "print \"Part (a) : The pinch off voltage for Si = %.2f volts\"%V_P\n",
    "miu_p= 1800# cm**2/V-sec  (for Ge)\n",
    "epsilon= 16*epsilon_o## for Ge\n",
    "# The pinch off voltage for Ge \n",
    "V_P = (a**2)/(2*miu_p*epsilon*rho)##in V\n",
    "print \"Part (b) : The pinch off voltage for Ge = %.2f volts\"%V_P"
   ]
  },
  {
   "cell_type": "markdown",
   "metadata": {},
   "source": [
    "## Exa 7.14 page No 425"
   ]
  },
  {
   "cell_type": "code",
   "execution_count": 12,
   "metadata": {
    "collapsed": false
   },
   "outputs": [
    {
     "name": "stdout",
     "output_type": "stream",
     "text": [
      "Part (i) : The value of gm = 2.28 mS or mA/V\n",
      "The value of r_d = 40.00 k ohm\n",
      "Part (ii) : The value of Zi = 1.00 M ohm\n",
      "Part (iii) : The value of Zo = 362.38 ohm\n",
      "Part (iv) : The value of Av is : 0.83\n"
     ]
    }
   ],
   "source": [
    "from __future__ import division\n",
    "# Given data\n",
    "I_DSS = 16*10**-3# A\n",
    "V_P = 4# V\n",
    "V_GS= 2.86##in V\n",
    "Yos = 25# µS\n",
    "Yos= Yos* 10**-6# S\n",
    "R_S= 2.2*10**3# ohm\n",
    "#gm = gmo * (1-(V_GS/V_P)) or\n",
    "gm= 2*I_DSS/V_P*(1-V_GS/V_P)# A/V\n",
    "gm= gm*10**3# mA/V\n",
    "print \"Part (i) : The value of gm = %.2f mS or mA/V\"%gm\n",
    "gm= gm*10**-3# A/V\n",
    "r_d = 1/Yos# ohm\n",
    "r_d= r_d*10**-3# k ohm\n",
    "print \"The value of r_d = %.2f k ohm\"%r_d\n",
    "r_d= r_d*10**3# ohm\n",
    "# Part (ii)\n",
    "Zi = 1# Mohm\n",
    "miu = r_d*gm\n",
    "Zof_int= r_d/(1+miu)\n",
    "# The value of Zo \n",
    "Zo= Zof_int*R_S/(Zof_int+R_S)# ohm\n",
    "# The value of Av\n",
    "Av= miu*R_S/(r_d+(1+miu)*R_S)\n",
    "print \"Part (ii) : The value of Zi = %.2f M ohm\"%Zi\n",
    "print \"Part (iii) : The value of Zo = %.2f ohm\"%Zo\n",
    "print \"Part (iv) : The value of Av is : %.2f\"%Av"
   ]
  },
  {
   "cell_type": "markdown",
   "metadata": {},
   "source": [
    "## Exa 7.16 page No 427"
   ]
  },
  {
   "cell_type": "code",
   "execution_count": 14,
   "metadata": {
    "collapsed": false
   },
   "outputs": [
    {
     "name": "stdout",
     "output_type": "stream",
     "text": [
      "Part (a) : The voltage gain = -14.29\n",
      "Part (b) : Magnitude of voltage gain is : 8.45\n",
      "The phase angle of voltage gain = 53.76 degree\n"
     ]
    }
   ],
   "source": [
    "from math import sqrt,pi,atan\n",
    "from __future__ import division\n",
    "# Given data\n",
    "g_m = 2*10**-3# A/V\n",
    "r_d = 10# k ohm\n",
    "r_d = r_d * 10**3# ohm\n",
    "R_D = 50# k ohm\n",
    "R_D = R_D * 10**3# ohm\n",
    "R_L = 50# k ohm\n",
    "R_L = R_L * 10**3# ohm\n",
    "f = 1# kHz\n",
    "f = f * 10**3# Hz\n",
    "C = 2# nF\n",
    "C = C * 10**-9# F\n",
    "omega= 2*pi*f# radian/sec\n",
    "R = (r_d*R_D*R_L)/( (r_d*R_D)+(R_D*R_L)+(R_L*r_d) )# ohm\n",
    "# The voltage gain,\n",
    "Av = -g_m*R\n",
    "print \"Part (a) : The voltage gain = %.2f\"%Av\n",
    "# Part (b) For small value of Cb, \n",
    "Av = -g_m*( (r_d*R_D)/(r_d+R_D) )\n",
    "Ro = (r_d*R_D)/(r_d+R_D)# ohm\n",
    "X_C = 1/(omega*C)# ohm\n",
    "Av= abs(Av)*R_L/(-1J*X_C+Ro+R_L)\n",
    "Mag_Av= abs(Av)## magnitude of voltage gain\n",
    "Phase_Av= atan(Av.imag/Av.real)*180/pi## phase angle of voltage gain = %.2f °\n",
    "print \"Part (b) : Magnitude of voltage gain is : %.2f\"%Mag_Av\n",
    "print \"The phase angle of voltage gain = %.2f degree\"%Phase_Av"
   ]
  },
  {
   "cell_type": "markdown",
   "metadata": {},
   "source": [
    "## Exa 7.17 page No 428"
   ]
  },
  {
   "cell_type": "code",
   "execution_count": 17,
   "metadata": {
    "collapsed": false
   },
   "outputs": [
    {
     "name": "stdout",
     "output_type": "stream",
     "text": [
      "The quiescent drain current = 1.50 mA\n",
      "The quiescent drain to source voltage = 12.00 volts\n",
      "The small signal voltage gain is : -21.19\n"
     ]
    }
   ],
   "source": [
    "from __future__ import division\n",
    "from sympy import symbols,solve\n",
    "from math import ceil\n",
    "# Given data\n",
    "V_DD = 30# V\n",
    "R_D = 12# k ohm\n",
    "R_S= 1.5# k ohm\n",
    "V_GS = -0.47# V\n",
    "V_P = -2.4# V\n",
    "I_DSS = 3# mA\n",
    "ID= symbols('ID')\n",
    "I_D= ID-I_DSS*(1-(V_GS/V_P)*ID)**2\n",
    "# On solving equation by polynomial method, quiescent drain current \n",
    "I_D= solve(I_D,ID)[0] # mA\n",
    "print \"The quiescent drain current = %.2f mA\"%I_D\n",
    "V_D= round(V_DD-I_D*R_D)##in V\n",
    "V_S= -V_GS*R_S# V\n",
    "# The quiescent drain to source voltage \n",
    "V_DS= ceil(V_D-V_S)# V\n",
    "print \"The quiescent drain to source voltage = %.2f volts\"%V_DS\n",
    "# gm= gmo*(1-V_GS/V_P)= -2*I_DSS/V_P*(1-V_GS/V_P)\n",
    "gm=-2*I_DSS/V_P*(1+V_S/V_P)##in mA/V\n",
    "# The small signal voltage gain \n",
    "Av= -gm*R_D\n",
    "print \"The small signal voltage gain is : %.2f\"%Av"
   ]
  },
  {
   "cell_type": "markdown",
   "metadata": {},
   "source": [
    "## Exa 7.18 page No 429"
   ]
  },
  {
   "cell_type": "code",
   "execution_count": 19,
   "metadata": {
    "collapsed": false
   },
   "outputs": [
    {
     "name": "stdout",
     "output_type": "stream",
     "text": [
      "The changes in Vo = 9.52 V\n"
     ]
    }
   ],
   "source": [
    "from __future__ import division\n",
    "# Given data\n",
    "I_DSS = 5.6# mA\n",
    "V_P = -4# V\n",
    "g_m = 2# mA/V\n",
    "R_S = 10# k ohm\n",
    "A_V = (g_m*R_S)/(1+(g_m*R_S))\n",
    "Vi = 10# V\n",
    "# Change in output voltage,\n",
    "delVo = A_V*Vi# V\n",
    "print \"The changes in Vo = %.2f V\"%delVo"
   ]
  },
  {
   "cell_type": "markdown",
   "metadata": {},
   "source": [
    "## Exa 7.19 page No 429"
   ]
  },
  {
   "cell_type": "code",
   "execution_count": 7,
   "metadata": {
    "collapsed": false
   },
   "outputs": [
    {
     "name": "stdout",
     "output_type": "stream",
     "text": [
      "For Vi= 0 V, the output voltage = 2.00 volts\n",
      "For Vi= 10 V, the output voltage = 11.41 volts\n",
      "This compares well with 9.41 V of small signal model\n"
     ]
    }
   ],
   "source": [
    "from sympy import symbols,solve\n",
    "from __future__ import division\n",
    "# Given data\n",
    "V_CC= 24# V\n",
    "V_SS= -12# = %.2f V\n",
    "R_D= 4.7# k ohm\n",
    "R_S= 10# k ohm\n",
    "V_P= -4# V\n",
    "I_DSS= 5.6# mA\n",
    "# For\n",
    "Vi= 0\n",
    "ID= symbols('ID') \n",
    "V_GS= Vi-V_SS-ID*R_S# V\n",
    "I_D= ID-I_DSS*(1-V_GS/V_P)**2\n",
    "# Evaluating the value of I_D by using polynomial method,\n",
    "I_D= solve(I_D,ID)# mA\n",
    "\n",
    "I_D= I_D[0]## taking lower value\n",
    "Vo1= V_SS+I_D*R_S##in V\n",
    "print \"For Vi= 0 V, the output voltage = %.2f volts\"%Vo1\n",
    "# For\n",
    "Vi= 10# V\n",
    "ID= symbols('ID') \n",
    "V_GS= Vi-V_SS-ID*R_S# V\n",
    "I_D= ID-I_DSS*(1-V_GS/V_P)**2\n",
    "# Evaluating the value of I_D by using polynomial method,\n",
    "I_D= solve(I_D, ID)# mA\n",
    "I_D= I_D[0]## taking lower value\n",
    "Vo2= V_SS+I_D*R_S##in V\n",
    "print \"For Vi= 10 V, the output voltage = %.2f volts\"%Vo2\n",
    "del_Vo= Vo2-Vo1# V\n",
    "print \"This compares well with %.2f V of small signal model\"%del_Vo"
   ]
  },
  {
   "cell_type": "markdown",
   "metadata": {},
   "source": [
    "## Exa 7.20 page No 430"
   ]
  },
  {
   "cell_type": "code",
   "execution_count": 8,
   "metadata": {
    "collapsed": false
   },
   "outputs": [
    {
     "name": "stdout",
     "output_type": "stream",
     "text": [
      "The value of I_D = -4.00 mA\n",
      "The value of V_GS = 8.00 volts\n",
      "The value of V_DS = 28.00 volts\n"
     ]
    }
   ],
   "source": [
    "from sympy import symbols,solve\n",
    "from __future__ import division\n",
    "\n",
    "# Given data\n",
    "V_DD = -60# V\n",
    "R1 = 1.3# Mohm\n",
    "R1 = R1 * 10**3# ohm\n",
    "R2 = 200# k ohm\n",
    "I_DSS = -4# mA\n",
    "V_P = 4# V\n",
    "R_S= 4# k ohm\n",
    "R_D= 18# k ohm\n",
    "V_GG = V_DD * (R2/(R1+R2))# V\n",
    "R_G = (R2*R1)/(R1+R2)# k ohm\n",
    "V_G = -8# V\n",
    "ID= symbols('ID')\n",
    "V_S= ID*R_S# V\n",
    "V_GS= V_G-V_S# V\n",
    "I_D= ID-I_DSS*(1-V_GS/V_P)**2\n",
    "# Evaluating the value of I_D by using, polynomial method,\n",
    "I_D= solve(I_D, ID)# mA\n",
    "I_D= I_D[0]# mA\n",
    "V_S= I_D*R_S# V\n",
    "V_GS= V_G-V_S# V\n",
    "V_DS= V_DD-I_D*(R_D+R_S)# V\n",
    "print \"The value of I_D = %.2f mA\"%I_D\n",
    "print \"The value of V_GS = %.2f volts\"%V_GS\n",
    "print \"The value of V_DS = %.2f volts\"%V_DS"
   ]
  },
  {
   "cell_type": "markdown",
   "metadata": {},
   "source": [
    "## Exa 7.21 page No 431"
   ]
  },
  {
   "cell_type": "code",
   "execution_count": 9,
   "metadata": {
    "collapsed": false
   },
   "outputs": [
    {
     "name": "stdout",
     "output_type": "stream",
     "text": [
      "The value of I_DQ = 2.87 mA\n",
      "The value of V_GSQ = -1.23 volts\n",
      "The value of V_DS = 7.32 volts\n"
     ]
    }
   ],
   "source": [
    "from sympy import symbols,solve\n",
    "from __future__ import division\n",
    "# Given data\n",
    "I_DSS= 6# mA\n",
    "V_P= -4# V\n",
    "R_S= 0.43# k ohm\n",
    "R_D= 1.2# k ohm\n",
    "V_DD= 12# V\n",
    "ID= symbols('ID')\n",
    "V_GS= -ID*R_S# V\n",
    "I_D= ID-I_DSS*(1-V_GS/V_P)**2\n",
    "# Evaluating the value of I_D by using polynomial method,\n",
    "I_D= solve(I_D, ID)# mA\n",
    "I_D= I_D[0]##in mA (taking lower value)\n",
    "V_GSQ= -I_D*R_S# = %.2f V\n",
    "print \"The value of I_DQ = %.2f mA\"%I_D\n",
    "print \"The value of V_GSQ = %.2f volts\"%V_GSQ\n",
    "# part (b) \n",
    "# Applying KVL, V_DD-I_D*R_D-V_DS-I_D*R_S=0 or\n",
    "V_DS= V_DD-I_D*(R_D+R_S)# V\n",
    "print \"The value of V_DS = %.2f volts\"%V_DS\n",
    "\n",
    "# Note: In the book, the calculated value of I_D is wrong due to this all the answer in the book is wrong."
   ]
  }
 ],
 "metadata": {
  "kernelspec": {
   "display_name": "Python 2",
   "language": "python",
   "name": "python2"
  },
  "language_info": {
   "codemirror_mode": {
    "name": "ipython",
    "version": 2
   },
   "file_extension": ".py",
   "mimetype": "text/x-python",
   "name": "python",
   "nbconvert_exporter": "python",
   "pygments_lexer": "ipython2",
   "version": "2.7.9"
  }
 },
 "nbformat": 4,
 "nbformat_minor": 0
}
