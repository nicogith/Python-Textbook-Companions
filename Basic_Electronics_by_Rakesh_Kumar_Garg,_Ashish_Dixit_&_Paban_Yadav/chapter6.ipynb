{
 "cells": [
  {
   "cell_type": "markdown",
   "metadata": {},
   "source": [
    "# Chapter 6 Operational Amplifiers"
   ]
  },
  {
   "cell_type": "markdown",
   "metadata": {},
   "source": [
    "## Exa 6.1 page No 355"
   ]
  },
  {
   "cell_type": "code",
   "execution_count": 1,
   "metadata": {
    "collapsed": false
   },
   "outputs": [
    {
     "name": "stdout",
     "output_type": "stream",
     "text": [
      "The common mode gain of the op-amp = 1.00\n"
     ]
    }
   ],
   "source": [
    "from __future__ import division\n",
    "# Given data\n",
    "CMRR = 10**5\n",
    "Ad = 10**5\n",
    "# CMRR = Ad/A_CM\n",
    "# The common mode gain of the op-amp \n",
    "A_CM = Ad/CMRR\n",
    "print \"The common mode gain of the op-amp = %.2f\"%A_CM"
   ]
  },
  {
   "cell_type": "markdown",
   "metadata": {},
   "source": [
    "## Exa 6.2 page No 355"
   ]
  },
  {
   "cell_type": "code",
   "execution_count": 2,
   "metadata": {
    "collapsed": false
   },
   "outputs": [
    {
     "name": "stdout",
     "output_type": "stream",
     "text": [
      "The slew rate = 5.00 V/µS\n"
     ]
    }
   ],
   "source": [
    "from __future__ import division\n",
    "# Given data\n",
    "del_V = 20##change = %.2f voltage = %.2f V\n",
    "del_t = 4##change = %.2f time = %.2f µS\n",
    "SR = del_V/del_t##slew rate = %.2f V/µS\n",
    "print \"The slew rate = %.2f V/µS\"%SR"
   ]
  },
  {
   "cell_type": "markdown",
   "metadata": {},
   "source": [
    "## Exa 6.3 page No 355"
   ]
  },
  {
   "cell_type": "code",
   "execution_count": 3,
   "metadata": {
    "collapsed": false
   },
   "outputs": [
    {
     "name": "stdout",
     "output_type": "stream",
     "text": [
      "The slew rate = 15.00 V/µ-sec\n"
     ]
    }
   ],
   "source": [
    "from __future__ import division\n",
    "# Given data\n",
    "del_V = 0.75##chagne = %.2f voltage = %.2f V\n",
    "del_t = 50##change = %.2f time = %.2f ns\n",
    "# The slew rate \n",
    "SR = del_V/(del_t*10**-3)# µs\n",
    "print \"The slew rate = %.2f V/µ-sec\"%SR"
   ]
  },
  {
   "cell_type": "markdown",
   "metadata": {},
   "source": [
    "## Exa 6.4 page No 356"
   ]
  },
  {
   "cell_type": "code",
   "execution_count": 4,
   "metadata": {
    "collapsed": false
   },
   "outputs": [
    {
     "name": "stdout",
     "output_type": "stream",
     "text": [
      "The closed loop voltage gain = -4.70\n",
      "The input impedance = 1.00 k ohm\n"
     ]
    }
   ],
   "source": [
    "from __future__ import division\n",
    "# Given data\n",
    "R1 = 1# k ohm\n",
    "R_F = 4.7# k ohm\n",
    "#The closed loop voltage gain, Ao = Vo/Vin = -R_F/R1\n",
    "Ao = -R_F/R1\n",
    "print \"The closed loop voltage gain = %.2f\"%Ao\n",
    "# The input impedance \n",
    "Ri = R1# k ohm\n",
    "print \"The input impedance = %.2f k ohm\"%Ri"
   ]
  },
  {
   "cell_type": "markdown",
   "metadata": {},
   "source": [
    "## Exa 6.5 page No 357"
   ]
  },
  {
   "cell_type": "code",
   "execution_count": 5,
   "metadata": {
    "collapsed": false
   },
   "outputs": [
    {
     "name": "stdout",
     "output_type": "stream",
     "text": [
      "The value of R1 = 5.00 k ohm\n",
      "The value of R_F = 100.00 k ohm\n"
     ]
    }
   ],
   "source": [
    "from __future__ import division\n",
    "# Given data\n",
    "Ao = -20\n",
    "Ri = 5# k ohm\n",
    "R1 = Ri# k ohm\n",
    "print \"The value of R1 = %.2f k ohm\"%R1\n",
    "# Closed loop voltage gain for inverting amplifier, Ao = -R_F/R1 or\n",
    "R_F = -Ao*R1# k ohm\n",
    "print \"The value of R_F = %.2f k ohm\"%R_F"
   ]
  },
  {
   "cell_type": "markdown",
   "metadata": {},
   "source": [
    "## Exa 6.6 page No 357"
   ]
  },
  {
   "cell_type": "code",
   "execution_count": 6,
   "metadata": {
    "collapsed": false
   },
   "outputs": [
    {
     "name": "stdout",
     "output_type": "stream",
     "text": [
      "The output voltage = -18.75 V\n"
     ]
    }
   ],
   "source": [
    "from __future__ import division\n",
    "# Given data\n",
    "R1 = 20# k ohm\n",
    "R_F = 300# k ohm\n",
    "Vin = 1.25# V\n",
    "# Ao = Vo/Vin = -R_F/R1\n",
    "Ao = -R_F/R1\n",
    "# Output voltage,\n",
    "Vo = Ao*Vin# V\n",
    "print \"The output voltage = %.2f V\"%Vo"
   ]
  },
  {
   "cell_type": "markdown",
   "metadata": {},
   "source": [
    "## Exa 6.7 page No 358"
   ]
  },
  {
   "cell_type": "code",
   "execution_count": 7,
   "metadata": {
    "collapsed": false
   },
   "outputs": [
    {
     "name": "stdout",
     "output_type": "stream",
     "text": [
      "The value of R1 = 20.00 k ohm\n",
      "The value of R_F = 80.00 k ohm\n"
     ]
    }
   ],
   "source": [
    "from __future__ import division\n",
    "# Given data\n",
    "Ao = -4# V/V\n",
    "R_T= 100## total resistance = %.2f k ohm\n",
    "# R1+R_F= R_T          (i)\n",
    "# Ao= -R_F/R1             (ii)\n",
    "R_F= R_T/(1-1/Ao)# k ohm           (From eq (i) and (ii))\n",
    "R1= -R_F/Ao# k ohm\n",
    "print \"The value of R1 = %.2f k ohm\"%R1\n",
    "print \"The value of R_F = %.2f k ohm\"%R_F"
   ]
  },
  {
   "cell_type": "markdown",
   "metadata": {},
   "source": [
    "## Exa 6.8 page No 359"
   ]
  },
  {
   "cell_type": "code",
   "execution_count": 8,
   "metadata": {
    "collapsed": false
   },
   "outputs": [
    {
     "name": "stdout",
     "output_type": "stream",
     "text": [
      "The output voltage = 7.75 V\n"
     ]
    }
   ],
   "source": [
    "from __future__ import division\n",
    "# Given data\n",
    "R1 = 15# k ohm\n",
    "R_F = 450# k ohm\n",
    "Vin = -0.25# V\n",
    "# Vo = Ao*Vin\n",
    "Vo = (1+R_F/R1)*abs(Vin)# V    (on putting, Ao = 1+(R_F/R1))\n",
    "print \"The output voltage = %.2f V\"%Vo"
   ]
  },
  {
   "cell_type": "markdown",
   "metadata": {},
   "source": [
    "## Exa 6.9 page No 360"
   ]
  },
  {
   "cell_type": "code",
   "execution_count": 10,
   "metadata": {
    "collapsed": false
   },
   "outputs": [
    {
     "name": "stdout",
     "output_type": "stream",
     "text": [
      "The relation of R1 and R_F can be implemented in two ways : \n",
      "(i) : When R_F= R || R, in this condition\n",
      "The value of R1 = 10.00 k ohm\n",
      "The value of R_F = 5.00 k ohm\n",
      "(ii) : When both resistor connected in series, in this condition\n",
      "The value of R1 = 20.00 k ohm\n",
      "The value of R_F = 10.00 k ohm\n"
     ]
    }
   ],
   "source": [
    "from __future__ import division\n",
    "# Given data\n",
    "Ao = 1.5# V/V\n",
    "R = 10# k ohm\n",
    "# Ao = (1+(R_F/R1))\n",
    "print \"The relation of R1 and R_F can be implemented in two ways : \"\n",
    "print \"(i) : When R_F= R || R, in this condition\"\n",
    "# When R_F= R || R\n",
    "R1= R##in k ohm\n",
    "R_F= R1*(Ao-1)# k ohm\n",
    "print \"The value of R1 = %.2f k ohm\"%R1\n",
    "print \"The value of R_F = %.2f k ohm\"%R_F\n",
    "# When both resistor connected = %.2f series\n",
    "print \"(ii) : When both resistor connected in series, in this condition\"\n",
    "R1= 2*R# k ohm\n",
    "R_F= R1*(Ao-1)# k ohm\n",
    "print \"The value of R1 = %.2f k ohm\"%R1\n",
    "print \"The value of R_F = %.2f k ohm\"%R_F"
   ]
  },
  {
   "cell_type": "markdown",
   "metadata": {},
   "source": [
    "## Exa 6.10 page No 361"
   ]
  },
  {
   "cell_type": "code",
   "execution_count": 11,
   "metadata": {
    "collapsed": false
   },
   "outputs": [
    {
     "name": "stdout",
     "output_type": "stream",
     "text": [
      "The value of R_F = 27.00 k ohm\n",
      "The value of R1 = 3.00 k ohm\n"
     ]
    }
   ],
   "source": [
    "from __future__ import division\n",
    "# Given data\n",
    "Ao = 10\n",
    "# Ao = (1+(R_F/R1))\n",
    "#Given that maximum value of resistor should not exceed 30 kΩ, so we select\n",
    "R_F= 27# k ohm\n",
    "R1= R_F/(Ao-1)# k ohm\n",
    "print \"The value of R_F = %.2f k ohm\"%R_F\n",
    "print \"The value of R1 = %.2f k ohm\"%R1"
   ]
  },
  {
   "cell_type": "markdown",
   "metadata": {},
   "source": [
    "## Exa 6.11 page No 363"
   ]
  },
  {
   "cell_type": "code",
   "execution_count": 12,
   "metadata": {
    "collapsed": false
   },
   "outputs": [
    {
     "name": "stdout",
     "output_type": "stream",
     "text": [
      "The output voltage = -3.70 V\n"
     ]
    }
   ],
   "source": [
    "from __future__ import division\n",
    "# Given data\n",
    "Va = 0.2# V\n",
    "Vb = -0.5# V\n",
    "Vc = 0.8# V\n",
    "Ra = 33# k ohm\n",
    "Rb = 22#  k ohm\n",
    "Rc = 11#  k ohm\n",
    "R_F = 66# k ohm\n",
    "# Using Superposition theorm, the output voltage\n",
    "Vo = (-((R_F/Ra)*Va)) -(((R_F/Rb)*Vb)) -(((R_F/Rc)*Vc))# V\n",
    "print \"The output voltage = %.2f V\"%Vo"
   ]
  },
  {
   "cell_type": "markdown",
   "metadata": {},
   "source": [
    "## Exa 6.13 page No 364"
   ]
  },
  {
   "cell_type": "code",
   "execution_count": 13,
   "metadata": {
    "collapsed": false
   },
   "outputs": [
    {
     "name": "stdout",
     "output_type": "stream",
     "text": [
      "The output voltage = 7.88 V\n"
     ]
    }
   ],
   "source": [
    "from __future__ import division\n",
    "# Given data\n",
    "Va = 6# V\n",
    "Vb = -3# V\n",
    "Vc = -0.75# V\n",
    "Ra = 10# k ohm\n",
    "Rb = 2.5# k ohm\n",
    "Rc = 4# k ohm\n",
    "R_F = 10# k ohm\n",
    "# The output voltage \n",
    "Vo = (-((R_F/Ra)*Va)) -(((R_F/Rb)*Vb)) -(((R_F/Rc)*Vc))# V\n",
    "print \"The output voltage = %.2f V\"%Vo"
   ]
  },
  {
   "cell_type": "markdown",
   "metadata": {},
   "source": [
    "## Exa 6.14 page No 365"
   ]
  },
  {
   "cell_type": "code",
   "execution_count": 14,
   "metadata": {
    "collapsed": false
   },
   "outputs": [
    {
     "name": "stdout",
     "output_type": "stream",
     "text": [
      "The closed loop differential gain = -39.00\n",
      "The output voltage = 7.80 V\n"
     ]
    }
   ],
   "source": [
    "from __future__ import division\n",
    "# Given data\n",
    "R1 = 100# ohm\n",
    "R2 = R1# ohm\n",
    "R3 = 3.9# k ohm\n",
    "R3 = R3 * 10**3# ohm\n",
    "R_F = R3# ohm\n",
    "Vx = -3.2# V\n",
    "Vy = -3# V\n",
    "# output voltage due to Vx, Vox = -(R_F/R1)*Vx and due to Vy, Voy = (R3/(R2+R3)) * (1+(R_F/R1))*Vy\n",
    "# Vo = Vox + Voy =  -(R_F/R1)*Vx + (R_F/R1)*Vy   (as R1=R2 and R3=Rf)\n",
    "#So, Aod = Vo/(Vx-Vy) = -R_F/R1\n",
    "Aod = -R_F/R1\n",
    "print \"The closed loop differential gain = %.2f\"%Aod\n",
    "Vo = (-R_F/R1)*(Vx-Vy)# V\n",
    "print \"The output voltage = %.2f V\"%Vo"
   ]
  },
  {
   "cell_type": "markdown",
   "metadata": {},
   "source": [
    "## Exa Misc. 6.1 page No 366"
   ]
  },
  {
   "cell_type": "code",
   "execution_count": 15,
   "metadata": {
    "collapsed": false
   },
   "outputs": [
    {
     "name": "stdout",
     "output_type": "stream",
     "text": [
      "The value of CMRR for the circuit = 6000.00\n"
     ]
    }
   ],
   "source": [
    "# Given data\n",
    "Vid = 1# mV\n",
    "Vo = 120# mV\n",
    "V_CM = 1# mV\n",
    "Ad = Vo/Vid\n",
    "Vo = 20# µV\n",
    "Vo = Vo * 10**-3# mV\n",
    "A_CM = Vo/V_CM\n",
    "Vo = 120# mV\n",
    "# The value of CMRR for the circuit \n",
    "CMRR = Vo/A_CM\n",
    "print \"The value of CMRR for the circuit = %.2f\"%CMRR"
   ]
  },
  {
   "cell_type": "markdown",
   "metadata": {},
   "source": [
    "## Exa Misc. 6.2 page No 366"
   ]
  },
  {
   "cell_type": "code",
   "execution_count": 16,
   "metadata": {
    "collapsed": false
   },
   "outputs": [
    {
     "name": "stdout",
     "output_type": "stream",
     "text": [
      "The closed loop gain = 100.00\n",
      "The output voltage = -3.00 V\n"
     ]
    }
   ],
   "source": [
    "from __future__ import division\n",
    "# Given data\n",
    "R1 = 10# k ohm\n",
    "R_F = 1000# k ohm\n",
    "# Vin/R1 = -Vo/R_F and Vo/Vin = Ao = -R_F/R1\n",
    "Ao = abs(-R_F/R1)# k ohm\n",
    "print \"The closed loop gain = %.2f\"%Ao\n",
    "Vin = 30# mV\n",
    "Vin = Vin  * 10**-3# V\n",
    "# The output voltage,\n",
    "Vo =-Ao*Vin# V\n",
    "print \"The output voltage = %.2f V\"%Vo\n",
    "\n",
    "# Note: The loop gain will be unit less."
   ]
  },
  {
   "cell_type": "markdown",
   "metadata": {},
   "source": [
    "## Exa Misc. 6.3 page No 367"
   ]
  },
  {
   "cell_type": "code",
   "execution_count": 17,
   "metadata": {
    "collapsed": false
   },
   "outputs": [
    {
     "name": "stdout",
     "output_type": "stream",
     "text": [
      "The range of voltage gain is : -15.00 to -30.00\n"
     ]
    }
   ],
   "source": [
    "from __future__ import division\n",
    "# Given data\n",
    "R1min = 10# k ohm\n",
    "R1max = 20# k ohm\n",
    "R_F = 300# k ohm\n",
    "# The closed loop voltage gain corresponding to R1min,\n",
    "Ao_min = -R_F/R1min\n",
    "# The closed loop voltage gain corresponding to R1max,\n",
    "Ao_max = -R_F/R1max\n",
    "print \"The range of voltage gain is : %.2f to %.2f\"%(Ao_max,Ao_min)"
   ]
  },
  {
   "cell_type": "markdown",
   "metadata": {},
   "source": [
    "## Exa Misc. 6.4 page No 368"
   ]
  },
  {
   "cell_type": "code",
   "execution_count": 18,
   "metadata": {
    "collapsed": false
   },
   "outputs": [
    {
     "name": "stdout",
     "output_type": "stream",
     "text": [
      "Range of output voltage is : 5.50 V to 13.00 V\n"
     ]
    }
   ],
   "source": [
    "from __future__ import division\n",
    "# Given data\n",
    "R_F = 500# k ohm\n",
    "R_desh = 20# k ohm\n",
    "Vin = 0.5# V\n",
    "Rd_desh = 0\n",
    "R1min = 20# k ohm\n",
    "R1max = 50# k ohm\n",
    "# Ao = Vo/Vin = (1+(R_F/R1))\n",
    "Vo_max = Vin*(1+(R_F/R1min))## output voltage corresponding to R1min\n",
    "Vo_min = Vin*(1+(R_F/R1max))## output voltage corresponding to R1max\n",
    "print \"Range of output voltage is : %.2f V to %.2f V\"%(Vo_min,Vo_max)"
   ]
  },
  {
   "cell_type": "markdown",
   "metadata": {},
   "source": [
    "## Exa Misc. 6.5 page No 369"
   ]
  },
  {
   "cell_type": "code",
   "execution_count": 19,
   "metadata": {
    "collapsed": false
   },
   "outputs": [
    {
     "name": "stdout",
     "output_type": "stream",
     "text": [
      "The minimum closed loop voltage gain = -1.00\n",
      "The maximum closed loop voltage gain = -51\n"
     ]
    }
   ],
   "source": [
    "from __future__ import division\n",
    "# Given data\n",
    "R1 = 2# k ohm\n",
    "Rdas = 2# k ohm\n",
    "R_Fmin = 2# k ohm\n",
    "R_Fmax = 102# k ohm\n",
    "# Ao = -R_F/R1\n",
    "# The minimum closed loop voltage gain \n",
    "Aomin = -R_Fmin/R1\n",
    "print \"The minimum closed loop voltage gain = %.2f\"%Aomin\n",
    "#The maximum closed loop voltage gain \n",
    "Aomax = -R_Fmax/R1\n",
    "print \"The maximum closed loop voltage gain = %.2d\"%Aomax"
   ]
  },
  {
   "cell_type": "markdown",
   "metadata": {},
   "source": [
    "## Exa Misc. 6.6 page No 371"
   ]
  },
  {
   "cell_type": "code",
   "execution_count": 20,
   "metadata": {
    "collapsed": false
   },
   "outputs": [
    {
     "name": "stdout",
     "output_type": "stream",
     "text": [
      "The minimum closed loop voltage gain = 1.00\n",
      "The maximum closed loop voltage gain = 11.00\n"
     ]
    }
   ],
   "source": [
    "from __future__ import division\n",
    "# Given data\n",
    "R1 = 10# k ohm\n",
    "R_F = 0\n",
    "# Ao = (1+(R_F/R1))\n",
    "# The minimum closed loop voltage gain \n",
    "Aomin = (1+(R_F/R1))\n",
    "print \"The minimum closed loop voltage gain = %.2f\"%Aomin\n",
    "R_F = 100# k ohm\n",
    "# The maximum closed loop voltage gain \n",
    "Aomax = (1+(R_F/R1))\n",
    "print \"The maximum closed loop voltage gain = %.2f\"%Aomax"
   ]
  },
  {
   "cell_type": "markdown",
   "metadata": {},
   "source": [
    "## Exa Misc. 6.7 page No 372"
   ]
  },
  {
   "cell_type": "code",
   "execution_count": 21,
   "metadata": {
    "collapsed": false
   },
   "outputs": [
    {
     "name": "stdout",
     "output_type": "stream",
     "text": [
      "The closed loop voltage for switch position-1 = -213.64\n",
      "The closed loop voltage for switch position-2 = -81.82\n",
      "The closed loop voltage for switch position-3 = -177.27\n"
     ]
    }
   ],
   "source": [
    "from __future__ import division\n",
    "# Given data\n",
    "R1 = 220# ohm\n",
    "R_F = 47# k ohm\n",
    "R_F =R_F * 10**3# ohm\n",
    "# The closed loop voltage for switch position-1\n",
    "Ao = -R_F/R1\n",
    "print \"The closed loop voltage for switch position-1 = %.2f\"%Ao\n",
    "R_F = 18# k ohm\n",
    "R_F = R_F * 10**3# ohm\n",
    "# The closed loop voltage for switch position-2\n",
    "Ao = -R_F/R1\n",
    "print \"The closed loop voltage for switch position-2 = %.2f\"%Ao\n",
    "R_F = 39# k ohm\n",
    "R_F = R_F * 10**3# ohm\n",
    "# The closed loop voltage for switch position-3\n",
    "Ao = -R_F/R1\n",
    "print \"The closed loop voltage for switch position-3 = %.2f\"%Ao"
   ]
  },
  {
   "cell_type": "markdown",
   "metadata": {},
   "source": [
    "## Exa Misc. 6.8 page No 373"
   ]
  },
  {
   "cell_type": "code",
   "execution_count": 22,
   "metadata": {
    "collapsed": false
   },
   "outputs": [
    {
     "name": "stdout",
     "output_type": "stream",
     "text": [
      "The closed loop voltage gain for switch position-1 is : 21.00\n",
      "The closed loop voltage gain for switch position-2 is : 61.00\n"
     ]
    }
   ],
   "source": [
    "from __future__ import division\n",
    "# Given data\n",
    "R_F = 120# k ohm\n",
    "Rdas1 = 6# k ohm\n",
    "Rddas1 = 3# k ohm\n",
    "R1 = Rdas1# k ohm\n",
    "# For switch position-1 , the closed loop voltage gain,\n",
    "Ao = 1+(R_F/R1)\n",
    "print \"The closed loop voltage gain for switch position-1 is : %.2f\"%Ao\n",
    "R1 = (Rdas1*Rddas1)/(Rdas1+Rddas1)# k ohm\n",
    "# For switch position-2, the closed loop voltage gain, \n",
    "Ao = 1+(R_F/R1)\n",
    "print \"The closed loop voltage gain for switch position-2 is : %.2f\"%Ao"
   ]
  },
  {
   "cell_type": "markdown",
   "metadata": {},
   "source": [
    "## Exa Misc. 6.9 page No 374"
   ]
  },
  {
   "cell_type": "code",
   "execution_count": 27,
   "metadata": {
    "collapsed": false
   },
   "outputs": [
    {
     "name": "stdout",
     "output_type": "stream",
     "text": [
      "The output voltage = 0 V\n"
     ]
    }
   ],
   "source": [
    "from __future__ import division\n",
    "# Given data\n",
    "R_F = 20# k ohm\n",
    "R1 = 20# k ohm\n",
    "R2 = 10# k ohm\n",
    "Vin1 = 2# V\n",
    "Vin2 = 1# V\n",
    "# The output voltage, by using super position theorm\n",
    "Vo = ((-R_F/R1)*Vin1) + ((1+(R_F/R1))*Vin2)\n",
    "print \"The output voltage = %.f V\"%Vo"
   ]
  },
  {
   "cell_type": "markdown",
   "metadata": {},
   "source": [
    "## Exa Misc. 6.10 page No 375"
   ]
  },
  {
   "cell_type": "code",
   "execution_count": 28,
   "metadata": {
    "collapsed": false
   },
   "outputs": [
    {
     "name": "stdout",
     "output_type": "stream",
     "text": [
      "The output voltage = -5.60 V\n"
     ]
    }
   ],
   "source": [
    "from __future__ import division\n",
    "# Given data\n",
    "R_F = 60# ko hm\n",
    "R1 = 20# k ohm\n",
    "Vin1 = 2# V\n",
    "Vin2 = 0.1# V\n",
    "# The output voltage, by using super position theorm,\n",
    "Vo = ((-R_F/R1)*Vin1) + ((1+(R_F/R1))*Vin2)# V\n",
    "print \"The output voltage = %.2f V\"%Vo"
   ]
  },
  {
   "cell_type": "markdown",
   "metadata": {},
   "source": [
    "## Exa Misc. 6.11 page No 375"
   ]
  },
  {
   "cell_type": "code",
   "execution_count": 30,
   "metadata": {
    "collapsed": false
   },
   "outputs": [
    {
     "name": "stdout",
     "output_type": "stream",
     "text": [
      "The output voltage = -5.00 V\n"
     ]
    }
   ],
   "source": [
    "from __future__ import division\n",
    "# Given data\n",
    "R1 = 10# k ohm\n",
    "R2 = 20# k ohm\n",
    "R3 = 10# k ohm\n",
    "R_F = 20# k ohm\n",
    "Vin1 = 2# V\n",
    "Vin2 = 1# V\n",
    "# The output voltage,\n",
    "Vo = ((-R_F/R1)*Vin1) - ((R_F/R2)*Vin2)# V\n",
    "print \"The output voltage = %.2f V\"%Vo"
   ]
  },
  {
   "cell_type": "markdown",
   "metadata": {},
   "source": [
    "## Exa Misc. 6.12 page No 376"
   ]
  },
  {
   "cell_type": "code",
   "execution_count": 31,
   "metadata": {
    "collapsed": false
   },
   "outputs": [
    {
     "name": "stdout",
     "output_type": "stream",
     "text": [
      "The voltage is appeared at the output terminal = 2.00 V\n"
     ]
    }
   ],
   "source": [
    "from __future__ import division\n",
    "# Given data\n",
    "R_F = 20# k ohm\n",
    "R1 = 10# k ohm\n",
    "R2 = 20# k ohm\n",
    "Vin1 = 2# V\n",
    "Vin2 = 2# V\n",
    "Vin3 = 2# V\n",
    "# The output voltage, by using super position theorm,\n",
    "Vo = ((-R_F/R1)*Vin1) + (-Vin2*R_F/R2+Vin2) + ((R_F/(((R1*R2)/(R1+R2))))*Vin3)# V\n",
    "print \"The voltage is appeared at the output terminal = %.2f V\"%Vo"
   ]
  },
  {
   "cell_type": "markdown",
   "metadata": {},
   "source": [
    "## Exa Misc. 6.13 page No 377"
   ]
  },
  {
   "cell_type": "code",
   "execution_count": 32,
   "metadata": {
    "collapsed": false
   },
   "outputs": [
    {
     "name": "stdout",
     "output_type": "stream",
     "text": [
      "The output voltage = 0.10 V\n"
     ]
    }
   ],
   "source": [
    "from __future__ import division\n",
    "# Given data\n",
    "R1 = 20# k ohm\n",
    "R3 = 10# k ohm\n",
    "R2 = R3# k ohm\n",
    "R_F = 20# k ohm\n",
    "Vin1 = 2# V\n",
    "Vin2 = 2.1# V\n",
    "# The input voltage at non-inverting terminal,\n",
    "V_A = (R2*Vin2)/R1# V\n",
    "# The output voltage, by using super position theorm,\n",
    "Vo = ((-R_F/R1)*Vin1) + ((1+(R_F/R1))*(R1/(R2+R3))*V_A)# V\n",
    "print \"The output voltage = %.2f V\"%Vo"
   ]
  },
  {
   "cell_type": "markdown",
   "metadata": {},
   "source": [
    "## Exa Misc. 6.15 page No 379"
   ]
  },
  {
   "cell_type": "code",
   "execution_count": 33,
   "metadata": {
    "collapsed": false
   },
   "outputs": [
    {
     "name": "stdout",
     "output_type": "stream",
     "text": [
      "The maximum loop voltage gain = 51.00\n"
     ]
    }
   ],
   "source": [
    "from __future__ import division\n",
    "# Given data\n",
    "#Output voltage of the amplifier, Vo = (1+(Rf/Rin))*Vin and voltage gain, Av = Vo/Vin = 1+(Rf/Rin)\n",
    "Rf = 0\n",
    "Rin = 2# k ohm\n",
    "Avmin = 1+(Rf/Rin)\n",
    "Rf = 100# k ohm\n",
    "# The maximum loop voltage gain \n",
    "Avmax = 1+(Rf/Rin)\n",
    "print \"The maximum loop voltage gain = %.2f\"%Avmax"
   ]
  },
  {
   "cell_type": "markdown",
   "metadata": {},
   "source": [
    "## Exa Misc. 6.18 page No 383"
   ]
  },
  {
   "cell_type": "code",
   "execution_count": 35,
   "metadata": {
    "collapsed": false
   },
   "outputs": [
    {
     "name": "stdout",
     "output_type": "stream",
     "text": [
      "The output voltage in differential mode gain = 2.50 volts\n",
      "The output voltage due to common mode gain = 0.04 volts\n",
      "The percentage error due to common mode = 1.48 %\n"
     ]
    }
   ],
   "source": [
    "from __future__ import division\n",
    "# Given data\n",
    "Ad = 5*10**5## differential mode gain\n",
    "CMRR = 80# dB\n",
    "A_CM = Ad/(10**(CMRR/20))## common mode gain\n",
    "V1 = 745# µV\n",
    "V1 = V1 * 10**-6# V\n",
    "V2 = 740# µV\n",
    "V2 = V2 * 10**-6# V\n",
    "# CMRR = 20*log( Ad/A_CM )\n",
    "# #output voltage = %.2f differential mode gain\n",
    "Vod = Ad*(V1-V2)# V\n",
    "print \"The output voltage in differential mode gain = %.2f volts\"%Vod\n",
    "#output voltage due to common mode gain \n",
    "Vo_CM = A_CM*((V1+V2)/2)##in V\n",
    "print \"The output voltage due to common mode gain = %.2f volts\"%Vo_CM\n",
    "Pr = (Vo_CM/Vod)*100## percentage error = %.2f %\n",
    "print \"The percentage error due to common mode = %.2f %%\"%Pr"
   ]
  },
  {
   "cell_type": "markdown",
   "metadata": {},
   "source": [
    "## Exa Misc. 6.19 page No 384"
   ]
  },
  {
   "cell_type": "code",
   "execution_count": 38,
   "metadata": {
    "collapsed": false
   },
   "outputs": [
    {
     "name": "stdout",
     "output_type": "stream",
     "text": [
      "The input impedance = 1.00 Mohm\n",
      "The voltage gain = -1.00\n"
     ]
    }
   ],
   "source": [
    "from __future__ import division\n",
    "# Given data\n",
    "R1 = 1# Mohm\n",
    "# The input impedance \n",
    "Rin = R1# Mohm\n",
    "print \"The input impedance = %.2f Mohm\"%Rin\n",
    "R2 = 1# Mohm\n",
    "# The voltage gain \n",
    "Avf = -R2/R1## Voltage gain\n",
    "print \"The voltage gain = %.2f\"%Avf"
   ]
  },
  {
   "cell_type": "markdown",
   "metadata": {},
   "source": [
    "## Exa Misc. 6.21 page No 386"
   ]
  },
  {
   "cell_type": "code",
   "execution_count": 39,
   "metadata": {
    "collapsed": false
   },
   "outputs": [
    {
     "name": "stdout",
     "output_type": "stream",
     "text": [
      "The output volatge = -11.00 V\n"
     ]
    }
   ],
   "source": [
    "from __future__ import division\n",
    "# Given data\n",
    "i1 = 1##input current for first op-amp = %.2f mA\n",
    "i1 = i1 * 10**-3# A\n",
    "R_F = 1# k ohm\n",
    "R_F = R_F * 10**3# ohm\n",
    "# Output voltage at first op-amp stage\n",
    "Vo = -i1*R_F# V\n",
    "R1 = 10# k ohm\n",
    "R2 = 1# k ohm\n",
    "# The output voltage,\n",
    "Vg1 = Vo*(1+(R1/R2))# V\n",
    "print \"The output volatge = %.2f V\"%Vg1"
   ]
  },
  {
   "cell_type": "markdown",
   "metadata": {},
   "source": [
    "## Exa Misc. 6.22 page No 386"
   ]
  },
  {
   "cell_type": "code",
   "execution_count": 40,
   "metadata": {
    "collapsed": false
   },
   "outputs": [
    {
     "name": "stdout",
     "output_type": "stream",
     "text": [
      "The value of Vo = 1.50 volts\n",
      "But the supply voltage of 10 V is used, so the op-amp will reach = %.2f saturation.\n",
      "Hence, output voltage is -10 volts.\n"
     ]
    }
   ],
   "source": [
    "from __future__ import division\n",
    "# Given data\n",
    "R_S3 = 10# k ohm\n",
    "R_S2 = R_S3# k ohm\n",
    "R_S1 = R_S3# k ohm\n",
    "Rf = 10# k ohm\n",
    "Vs1 = 0.2# V\n",
    "Vs2 = 0.5# V\n",
    "Vs3 = 0.8# V\n",
    "# I = I1+6I2+I3\n",
    "# I = (Vs1/R_S1) + (Vs2/R_S2) + (Vs3/R_S3)\n",
    "# I = - If\n",
    "# Vo = -If*Rf\n",
    "Vo = (Rf/R_S1)*(Vs1+Vs2+Vs3)# V  (as R_S1= R_S2=R_S3)\n",
    "print \"The value of Vo = %.2f volts\"%Vo\n",
    "print \"But the supply voltage of 10 V is used, so the op-amp will reach = %.2f saturation.\"\n",
    "print \"Hence, output voltage is -10 volts.\""
   ]
  },
  {
   "cell_type": "markdown",
   "metadata": {},
   "source": [
    "## Exa Misc. 6.25 page No 388"
   ]
  },
  {
   "cell_type": "code",
   "execution_count": 41,
   "metadata": {
    "collapsed": false
   },
   "outputs": [
    {
     "name": "stdout",
     "output_type": "stream",
     "text": [
      "The current through R_L = -1.85 mA\n"
     ]
    }
   ],
   "source": [
    "from __future__ import division\n",
    "# Given data\n",
    "#Ratio of R2/R1 =  R3/R4 = 4 and R_L = -Vi/R3\n",
    "Vi = 3.7# V\n",
    "R3 = 2# k ohm\n",
    "R3 = R3 * 10**3# ohm\n",
    "# The current through R_L,\n",
    "I_L = -Vi/R3# A\n",
    "I_L= I_L*10**3# mA\n",
    "print \"The current through R_L = %.2f mA\"%I_L"
   ]
  }
 ],
 "metadata": {
  "kernelspec": {
   "display_name": "Python 2",
   "language": "python",
   "name": "python2"
  },
  "language_info": {
   "codemirror_mode": {
    "name": "ipython",
    "version": 2
   },
   "file_extension": ".py",
   "mimetype": "text/x-python",
   "name": "python",
   "nbconvert_exporter": "python",
   "pygments_lexer": "ipython2",
   "version": "2.7.9"
  }
 },
 "nbformat": 4,
 "nbformat_minor": 0
}
