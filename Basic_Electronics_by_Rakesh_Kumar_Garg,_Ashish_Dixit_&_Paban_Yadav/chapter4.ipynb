{
 "cells": [
  {
   "cell_type": "markdown",
   "metadata": {},
   "source": [
    "# Chapter 4 Bipolar Junction Transistor"
   ]
  },
  {
   "cell_type": "markdown",
   "metadata": {},
   "source": [
    "## Exa 4.1 page No 211"
   ]
  },
  {
   "cell_type": "code",
   "execution_count": 2,
   "metadata": {
    "collapsed": false
   },
   "outputs": [
    {
     "name": "stdout",
     "output_type": "stream",
     "text": [
      "The base current = 0.02 mA\n"
     ]
    }
   ],
   "source": [
    "from __future__ import division\n",
    "# Given data\n",
    "Alpha = 0.98\n",
    "Vo = 4.9# V\n",
    "R_L = 5# k ohm\n",
    "R_L = R_L * 10**3# ohm\n",
    "I_C = Vo/R_L# A\n",
    "I_C = I_C * 10**3# mA\n",
    "# Alpha = I_C/I_E\n",
    "I_E = I_C/Alpha# mA\n",
    "# The base current \n",
    "I_B = I_E-I_C# mA\n",
    "print \"The base current = %.2f mA\"%I_B"
   ]
  },
  {
   "cell_type": "markdown",
   "metadata": {},
   "source": [
    "## Exa 4.2 page No 211"
   ]
  },
  {
   "cell_type": "code",
   "execution_count": 3,
   "metadata": {
    "collapsed": false
   },
   "outputs": [
    {
     "name": "stdout",
     "output_type": "stream",
     "text": [
      "The collector current = 2.85 mA\n",
      "The base current = 0.15 mA\n"
     ]
    }
   ],
   "source": [
    "from __future__ import division\n",
    "# Given data\n",
    "Alpha = 0.95\n",
    "I_CBO = 5* 10**-3# mA\n",
    "I_E = 3# mA\n",
    "# The collector current \n",
    "I_C = (Alpha*I_E)+I_CBO# mA\n",
    "print \"The collector current = %.2f mA\"%I_C\n",
    "# The base current \n",
    "I_B = I_E-I_C# mA\n",
    "print \"The base current = %.2f mA\"%I_B"
   ]
  },
  {
   "cell_type": "markdown",
   "metadata": {},
   "source": [
    "## Exa 4.3 page No 211"
   ]
  },
  {
   "cell_type": "code",
   "execution_count": 5,
   "metadata": {
    "collapsed": false
   },
   "outputs": [
    {
     "name": "stdout",
     "output_type": "stream",
     "text": [
      "For alpha = 0.9, the value of Beta = 9.00\n",
      "For alpha = 0.99, the value of Beta = 99.00\n",
      "For alpha = 0.98, the value of Beta = 49.00\n"
     ]
    }
   ],
   "source": [
    "from __future__ import division\n",
    "# Given data\n",
    "Alpha = 0.9\n",
    "# For alpha = 0.9, the value of Beta \n",
    "Beta = Alpha/(1-Alpha)\n",
    "print \"For alpha = 0.9, the value of Beta = %.2f\"%Beta\n",
    "Alpha = 0.99\n",
    "# For alpha = 0.99, the value of Beta \n",
    "Beta = Alpha/(1-Alpha)\n",
    "print \"For alpha = 0.99, the value of Beta = %.2f\"%Beta\n",
    "Alpha = 0.98\n",
    "# For alpha = 0.98, the value of Beta \n",
    "Beta = Alpha/(1-Alpha)\n",
    "print \"For alpha = 0.98, the value of Beta = %.2f\"%Beta"
   ]
  },
  {
   "cell_type": "markdown",
   "metadata": {},
   "source": [
    "## Exa 4.4 page No 212"
   ]
  },
  {
   "cell_type": "code",
   "execution_count": 6,
   "metadata": {
    "collapsed": false
   },
   "outputs": [
    {
     "name": "stdout",
     "output_type": "stream",
     "text": [
      "The base current = 20.00 µA\n"
     ]
    }
   ],
   "source": [
    "from __future__ import division\n",
    "# Given data\n",
    "R_C = 2# k ohm\n",
    "R_C = R_C * 10**3# ohm\n",
    "V = 2# V\n",
    "# The collector current\n",
    "I_C = V/R_C# A\n",
    "Beta = 50\n",
    "# The base current \n",
    "I_B = I_C/Beta# A\n",
    "I_B= I_B*10**6# µA\n",
    "print \"The base current = %.2f µA\"%I_B"
   ]
  },
  {
   "cell_type": "markdown",
   "metadata": {},
   "source": [
    "## Exa 4.5 page No 212"
   ]
  },
  {
   "cell_type": "code",
   "execution_count": 9,
   "metadata": {
    "collapsed": false
   },
   "outputs": [
    {
     "name": "stdout",
     "output_type": "stream",
     "text": [
      "The value of alpha is :  0.98\n",
      "Using alpha rating, the value of I_C = 11.76 mA\n",
      "Using bita rating, the value of I_C = 11.76 mA\n"
     ]
    }
   ],
   "source": [
    "from __future__ import division\n",
    "# Given data\n",
    "Beta = 49\n",
    "I_E = 12# mA\n",
    "I_B = 240# µA\n",
    "I_B = I_B * 10**-3# mA\n",
    "Alpha = Beta/(1+Beta)\n",
    "#Using alpha rating, the value of collector current,\n",
    "I_C = Alpha*I_E# mA\n",
    "print \"The value of alpha is : \",Alpha\n",
    "print \"Using alpha rating, the value of I_C = %.2f mA\"%I_C\n",
    "#Using beta rating, the value of collector current,\n",
    "I_C = Beta*I_B# mA\n",
    "print \"Using bita rating, the value of I_C = %.2f mA\"%I_C"
   ]
  },
  {
   "cell_type": "markdown",
   "metadata": {},
   "source": [
    "## Exa 4.6 page No 212"
   ]
  },
  {
   "cell_type": "code",
   "execution_count": 12,
   "metadata": {
    "collapsed": false
   },
   "outputs": [
    {
     "name": "stdout",
     "output_type": "stream",
     "text": [
      "The value of Beta :  39.0\n",
      "The value of Alpha : 0.9950\n"
     ]
    }
   ],
   "source": [
    "from __future__ import division\n",
    "# Given data\n",
    "Alpha = 0.975\n",
    "Beta = Alpha/(1-Alpha)\n",
    "# The value of beta,\n",
    "print \"The value of Beta : \",Beta\n",
    "Beta = 200\n",
    "# The value of alpha,\n",
    "Alpha = Beta/(1+Beta)\n",
    "print \"The value of Alpha : %.4f\"%Alpha"
   ]
  },
  {
   "cell_type": "markdown",
   "metadata": {},
   "source": [
    "## Exa 4.7 page No 213"
   ]
  },
  {
   "cell_type": "code",
   "execution_count": 13,
   "metadata": {
    "collapsed": false
   },
   "outputs": [
    {
     "name": "stdout",
     "output_type": "stream",
     "text": [
      "The collector current = 5.15 mA\n",
      "The emitter current = 5.25 mA\n"
     ]
    }
   ],
   "source": [
    "from __future__ import division\n",
    "# Given data\n",
    "Alpha = 0.98\n",
    "I_CO = 5# µA\n",
    "I_CO = I_CO * 10**-3# mA\n",
    "I_B = 100# µA\n",
    "I_B = I_B * 10**-3# mA\n",
    "Beta = Alpha/(1-Alpha)\n",
    "# The collector current \n",
    "I_C = Beta*I_B + (1+Beta)*I_CO# mA\n",
    "print \"The collector current = %.2f mA\"%I_C\n",
    "# The emitter current \n",
    "I_E = I_C+I_B# mA\n",
    "print \"The emitter current = %.2f mA\"% I_E"
   ]
  },
  {
   "cell_type": "markdown",
   "metadata": {},
   "source": [
    "## Exa 4.8 page No 213"
   ]
  },
  {
   "cell_type": "code",
   "execution_count": 14,
   "metadata": {
    "collapsed": false
   },
   "outputs": [
    {
     "name": "stdout",
     "output_type": "stream",
     "text": [
      "The collector current = 13.01 mA\n",
      "The new collector current = 15.38 mA\n"
     ]
    }
   ],
   "source": [
    "from __future__ import division\n",
    "# Given data\n",
    "I_CBO = 10# µA\n",
    "I_CBO = I_CBO * 10**-6# A\n",
    "Beta = 50\n",
    "h_FE = Beta\n",
    "I_B = 0.25# mA\n",
    "I_B = I_B * 10**-3# A\n",
    "# The collector current \n",
    "I_C = (Beta*I_B) + ((1+Beta)*I_CBO)##in A\n",
    "I_C = I_C * 10**3# mA\n",
    "print \"The collector current = %.2f mA\"%I_C\n",
    "T2 = 50# degree C\n",
    "T1 = 25# degree C\n",
    "I_CBOat25 = 10# µA\n",
    "I_CBOat50 = I_CBOat25 * (2**((T2-T1)/10))# µA\n",
    "I_CBOat50 = I_CBOat50 * 10**-6# A\n",
    "#The new collector current \n",
    "I_C = (Beta*I_B) + ((1+Beta)*I_CBOat50)# A\n",
    "I_C = I_C * 10**3# mA\n",
    "print \"The new collector current = %.2f mA\"%I_C"
   ]
  },
  {
   "cell_type": "markdown",
   "metadata": {},
   "source": [
    "## Exa 4.9 page No 215"
   ]
  },
  {
   "cell_type": "code",
   "execution_count": 15,
   "metadata": {
    "collapsed": false
   },
   "outputs": [
    {
     "name": "stdout",
     "output_type": "stream",
     "text": [
      "The collector current = 28.20 mA\n",
      "The collector emitter voltage = 1.54 V\n"
     ]
    }
   ],
   "source": [
    "from __future__ import division\n",
    "# Given data\n",
    "V_BE = 0.6# V\n",
    "V_CC = 10# V\n",
    "Beta = 60\n",
    "R_B = 20#  k ohm\n",
    "R_B = R_B * 10**3# ohm\n",
    "R_C = 300# ohm\n",
    "# V_CC - (I_B*R_B)-V_BE = 0\n",
    "I_B = (V_CC-V_BE)/R_B# A\n",
    "# The collector current \n",
    "I_C = Beta*I_B# A\n",
    "I_C= I_C*10**3# mA\n",
    "print \"The collector current = %.2f mA\"%I_C\n",
    "# V_CC - (I_C*R_C) -V_CE = 0\n",
    "# The collector emitter voltage \n",
    "V_CE = V_CC - (I_C*10**-3*R_C)# V\n",
    "print \"The collector emitter voltage = %.2f V\"%V_CE"
   ]
  },
  {
   "cell_type": "markdown",
   "metadata": {},
   "source": [
    "## Exa 4.10 page No 216"
   ]
  },
  {
   "cell_type": "code",
   "execution_count": 17,
   "metadata": {
    "collapsed": false
   },
   "outputs": [
    {
     "data": {
      "image/png": "[encoded data removed]",
      "text/plain": [
       "<matplotlib.figure.Figure at 0x7f70689c0390>"
      ]
     },
     "metadata": {},
     "output_type": "display_data"
    },
    {
     "name": "stdout",
     "output_type": "stream",
     "text": [
      "The operating point is : (4.80V,2.10mA)\n"
     ]
    }
   ],
   "source": [
    "from __future__ import division\n",
    "%matplotlib inline \n",
    "from matplotlib.pyplot import plot,xlabel,ylabel,show,title\n",
    "# Given data\n",
    "V_BE = 0.6# V\n",
    "V_CE = 0# V\n",
    "R_C = 2# k ohm\n",
    "R_C = R_C * 10**3# ohm\n",
    "V_CC = 9# V\n",
    "Beta= 2\n",
    "R_B = 8# k ohm\n",
    "R_B = R_B * 10**3# ohm\n",
    "# V_CC - (I_C*R_C) - V_CE = 0\n",
    "I_C = V_CC/R_C# A\n",
    "I_C= I_C*10**3# mA\n",
    "V_CE = V_CC# V\n",
    "plot([V_CE,0],[0,I_C])\n",
    "xlabel(\"V_CE in volts\")\n",
    "ylabel(\"I_C in mA\")\n",
    "title(\"DC load line\")\n",
    "show()\n",
    "I_C= I_C*10**-3# A\n",
    "I_B = (V_CC-V_BE)/R_B# A\n",
    "#Collector emitter voltage, V_CE = V_CC - (I_C*R_C) = V_CC - (Beta*10**-3*I_B*R_C)\n",
    "V_CE = V_CC - (Beta*I_B*R_C)# V\n",
    "# Collector current,\n",
    "I_C =Beta*I_B# A\n",
    "I_C= I_C*10**3# mA\n",
    "print \"The operating point is : (%.2fV,%.2fmA)\"%(V_CE,I_C)"
   ]
  },
  {
   "cell_type": "markdown",
   "metadata": {},
   "source": [
    "## Exa 4.11 page No 216"
   ]
  },
  {
   "cell_type": "code",
   "execution_count": 19,
   "metadata": {
    "collapsed": false
   },
   "outputs": [
    {
     "name": "stdout",
     "output_type": "stream",
     "text": [
      "The emitter current = 1.84 mA\n",
      "The collector voltage = 10.90 V\n"
     ]
    }
   ],
   "source": [
    "from __future__ import division\n",
    "# Given data\n",
    "V_CC = 12# V\n",
    "Beta = 100\n",
    "R = 600# k ohm\n",
    "R = R * 10**3# ohm\n",
    "R1 = 600# ohm\n",
    "#Applying KVL to input side, V_CC -(I_E*R1) - (I_B*R) - V_BE = 0\n",
    "I_B = V_CC/(R+(Beta*R1))# A\n",
    "I_C = Beta*I_B# A\n",
    "I_E = I_C+I_B# A\n",
    "# Applying KVL to output side\n",
    "V_CE = V_CC - (I_E*R1)# V\n",
    "I_E= I_E*10**3# mA\n",
    "print \"The emitter current = %.2f mA\"%I_E\n",
    "print \"The collector voltage = %.2f V\"%V_CE"
   ]
  },
  {
   "cell_type": "markdown",
   "metadata": {},
   "source": [
    "## Exa 4.12 page No 217"
   ]
  },
  {
   "cell_type": "code",
   "execution_count": 20,
   "metadata": {
    "collapsed": false
   },
   "outputs": [
    {
     "name": "stdout",
     "output_type": "stream",
     "text": [
      "The value of R_B = 84.50 k ohm\n"
     ]
    }
   ],
   "source": [
    "from __future__ import division\n",
    "# Given data\n",
    "I_C = 6.4# mA\n",
    "I_C = I_C * 10**-3# A\n",
    "V_CE = 8.4# V\n",
    "Beta = 80\n",
    "V_CC= 10# V\n",
    "R = 250# ohm\n",
    "R_E = 500# ohm\n",
    "I_B = I_C/Beta# A\n",
    "#Applying KVL to the input side, V_CC - (I_B*R_B) - V_BE - (I_E*R1) = 0 or\n",
    "R_B = (V_CC-(Beta+1)*R_E*I_B)/I_B\n",
    "R_B = R_B * 10**-3# k ohm\n",
    "print \"The value of R_B = %.2f k ohm\"%R_B"
   ]
  },
  {
   "cell_type": "markdown",
   "metadata": {},
   "source": [
    "## Exa 4.13 page No 218"
   ]
  },
  {
   "cell_type": "code",
   "execution_count": 21,
   "metadata": {
    "collapsed": false
   },
   "outputs": [
    {
     "name": "stdout",
     "output_type": "stream",
     "text": [
      "The stability factor : 8.39\n",
      "The quiescent points : (1.26mA,2.28V)\n"
     ]
    }
   ],
   "source": [
    "from __future__ import division\n",
    "# Given data\n",
    "Beta = 44\n",
    "R_L = 1.51 * 10**3# ohm\n",
    "R_E = 270# ohm\n",
    "V_CC = 4.5# V\n",
    "R2 = 2.7 * 10**3# ohm\n",
    "R1 = 27 * 10**3# ohm\n",
    "R_C = 1.5 * 10**3# ohm\n",
    "Vth = V_CC * (R2/(R1+R2))# V\n",
    "Rth = (R1*R2)/(R1+R2)# ohm\n",
    "# Applying KVL to input circuit, Vth - (I_B*Rth) - V_BE - (I_E*R_E) = 0 or\n",
    "I_C = (Vth*Beta)/(Rth + (Beta*R_E))# A     (On putting I_C= Beta*I_B and V_BE=0)\n",
    "#Applying KVL to output side, V_CC - (I_C*R_C) - V_CE - (I_E*R_E) = 0\n",
    "V_CE = V_CC - (I_C*(R_C+R_E))# V\n",
    "S = (Beta+1)*( (1+(Rth/R_E))/(Beta+1+(Rth/R_E)) )\n",
    "I_C= I_C*10**3# mA\n",
    "print \"The stability factor : %.2f\"%S\n",
    "print \"The quiescent points : (%.2fmA,%.2fV)\"%(I_C,V_CE)\n",
    "\n",
    "# Note: In the book the calculated value of V_CE is correct as well as coding output, but at last they print wrong value (4.01 V)"
   ]
  },
  {
   "cell_type": "markdown",
   "metadata": {},
   "source": [
    "## Exa 4.15 page No 220"
   ]
  },
  {
   "cell_type": "code",
   "execution_count": 22,
   "metadata": {
    "collapsed": false
   },
   "outputs": [
    {
     "name": "stdout",
     "output_type": "stream",
     "text": [
      "The value of R1 = 41.00 kΩ\n",
      "The value of R2 = 8.52 kΩ\n",
      "The value of R_E = 0.49 kΩ\n"
     ]
    }
   ],
   "source": [
    "from __future__ import division\n",
    "# Given data\n",
    "S = 12\n",
    "V_CC = 16# V\n",
    "R_C = 1.5 * 10**3# ohm\n",
    "V_CE = 8# V\n",
    "V_BE= 0.2# V\n",
    "I_C = 4# mA\n",
    "I_C = I_C * 10**-3# A\n",
    "Beta = 50\n",
    "# Vth = V_CC*(R2/(R1+R2)) and Rth = (R1*R2)/(R1+R2)\n",
    "#Applying KVL to input side, Vth - I_B*Rth - V_BE - I_E*R_E = 0            (i)\n",
    "I_B = I_C/Beta# A\n",
    "I_E = I_B*(1+Beta)# A\n",
    "# Applying KVL to output section,\n",
    "R_E = (V_CC - (I_C*R_C) - V_CE)/I_E# ohm\n",
    "#S = ((Rth+R3)*(1+Beta))/(Rth + ((1+Beta)*R_E))                (ii)\n",
    "Rth= R_E*(1+Beta-S-Beta*S)/(S-1-Beta)# ohm\n",
    "V_BN= V_BE+I_E*R_E##in V\n",
    "Vth= V_BN+I_B*Rth# V\n",
    "# Vth= V_CC*R2/(R1+R2) and Rth= R2*R1/(R1+R2), So Vth= V_CC*Rth/R1\n",
    "R1= V_CC*Rth/Vth# ohm\n",
    "R2= R1*Rth/(R1-Rth)# ohm\n",
    "R1= round(R1*10**-3)# k ohm\n",
    "R2= R2*10**-3# k ohm\n",
    "R_E= R_E*10**-3# k ohm\n",
    "print \"The value of R1 = %.2f kΩ\"%R1\n",
    "print \"The value of R2 = %.2f kΩ\"%R2\n",
    "print \"The value of R_E = %.2f kΩ\"%R_E"
   ]
  },
  {
   "cell_type": "markdown",
   "metadata": {},
   "source": [
    "## Exa 4.19 page No 224"
   ]
  },
  {
   "cell_type": "code",
   "execution_count": 25,
   "metadata": {
    "collapsed": false
   },
   "outputs": [
    {
     "name": "stdout",
     "output_type": "stream",
     "text": [
      "As the value of I_B (0.08 mA) is greater than the value of I_Bmin (0.03 mA)\n",
      "So the transistor will be in saturation region.\n"
     ]
    }
   ],
   "source": [
    "from __future__ import division\n",
    "# Given data\n",
    "h_FE = 100\n",
    "R = 50# k ohm\n",
    "R = R * 10**3# ohm\n",
    "R1 = 3# k ohm\n",
    "R1 = R1 * 10**3# ohm\n",
    "V1 = 10# V\n",
    "V2 = 5# V\n",
    "V_BE = 0.8# V\n",
    "V_CE = 0.2# V\n",
    "#Applying KVL = %.2f input side, V2 - (R*I_B)-V_BE = 0\n",
    "I_B = (V2-V_BE)/R# A\n",
    "I_B = I_B * 10**3# mA\n",
    "#Applying KVL to output side, V1 - (R1*I_C) - V_CE = 0\n",
    "I_C = (V1-V_CE)/R1# A\n",
    "I_C = I_C * 10**3# mA\n",
    "I_Bmin = I_C/h_FE# mA\n",
    "if I_B>I_Bmin:\n",
    "    print \"As the value of I_B (%.2f mA)\"%I_B,\"is greater than the value of I_Bmin (%.2f mA)\"%(I_Bmin)\n",
    "    print \"So the transistor will be in saturation region.\""
   ]
  },
  {
   "cell_type": "markdown",
   "metadata": {},
   "source": [
    "## Exa 4.20 page No 225"
   ]
  },
  {
   "cell_type": "code",
   "execution_count": 34,
   "metadata": {
    "collapsed": false
   },
   "outputs": [
    {
     "name": "stdout",
     "output_type": "stream",
     "text": [
      "Part (a) :\n",
      "As the value of I_B (0.11 mA) is greater than the value of I_Bmin (0.03 mA),\n",
      "So the transistor will be in saturation region.\n",
      "Part (b) : The value of Vo = -1.65 volts\n",
      "Part (c) :The value of R_C = 2427.51 ohm\n"
     ]
    }
   ],
   "source": [
    "from __future__ import division\n",
    "from numpy import mat\n",
    "from numpy.linalg import solve\n",
    "# Given data\n",
    "V_BE= 0.8# V\n",
    "V_CE= 0.2# V\n",
    "Beta = 100\n",
    "h_FE = Beta\n",
    "V1 = 3# V\n",
    "V2 = -10# V\n",
    "R_B = 7*10**3# ohm\n",
    "R_E = 3*10**3# ohm\n",
    "R_C = 500# ohm\n",
    "#Applying KVL to input side, V1 - (I_B+I_C)*Rc - V_BEsat - (R1*I_B) = 0 or I_B*(R_B+R_C)+I_C*R_C= V1-V_BE              (i)\n",
    "# Applying KVL to output side, V2+I_C*R_E+V_CE+R_C*(I_B+I_C) = 0 or   I_B*R_C+I_C*(R_C+R_E)= -V2-V_CE              (ii)\n",
    "A= mat([[(R_B+R_C), R_C],[R_C, (R_C+R_E)]])\n",
    "B= mat([[V1-V_BE], [-V2-V_CE]])\n",
    "C=solve(A,B) # Solving eq(i) and (ii) by matrix method\n",
    "\n",
    "I_B= C[0,0]# A\n",
    "I_C= C[1,0]# A\n",
    "I_B=I_B*10**3# mA\n",
    "I_C=I_C*10**3# mA\n",
    "I_Bmin= I_C/h_FE##in mA\n",
    "if I_B>I_Bmin:\n",
    "    print \"Part (a) :\"\n",
    "    print \"As the value of I_B (%.2f\"%(I_B),\"mA) is greater than the value of I_Bmin (%.2f\"%(I_Bmin),\"mA),\"\n",
    "    print \"So the transistor will be in saturation region.\"\n",
    "\n",
    "Vo= -V_CE-(I_B+I_C)*10**-3*R_C# V\n",
    "print \"Part (b) : The value of Vo = %.2f volts\"%Vo\n",
    "V_BEactive= 0.7# V\n",
    "V_BC= -0.5\n",
    "# V_BN= (1+Beta)*(V1-V_BEactive)*R_C/(R_B+(1+Beta)*R_C)       (iii)\n",
    "# V_CN= Beta*R_E*(V1-V_BEactive)/(R_B+(1+Beta)*R_C)                (iv)\n",
    "# and V_BC= V_BN-V_CN, so from eq(iii) and (iv)\n",
    "R_C= (V_BC*R_B+Beta*R_E*(V1-V_BEactive))/((1+Beta)*(V1-V_BEactive)-V_BC*(1+Beta))# ohm\n",
    "print \"Part (c) :The value of R_C = %.2f ohm\"%R_C\n",
    "\n",
    "# Note : 1  = %.2f the book, the calculated value of I_B i.e 0.14mA is wrong.\n",
    "# Note: 2   = %.2f the book the calculated value of R_C i.e 819 Ω is wrong. we can easily check that on putting 0.819 kΩ = %.2f the last step."
   ]
  },
  {
   "cell_type": "markdown",
   "metadata": {},
   "source": [
    "## Exa 4.21 page No 226"
   ]
  },
  {
   "cell_type": "code",
   "execution_count": 36,
   "metadata": {
    "collapsed": false
   },
   "outputs": [
    {
     "name": "stdout",
     "output_type": "stream",
     "text": [
      "DC load line shown in figure.\n",
      "Q-points : 1.55 V, 0.85mA\n"
     ]
    },
    {
     "data": {
      "image/png": "[encoded data removed]",
      "text/plain": [
       "<matplotlib.figure.Figure at 0x7f7068892e50>"
      ]
     },
     "metadata": {},
     "output_type": "display_data"
    }
   ],
   "source": [
    "from __future__ import division\n",
    "%matplotlib inline \n",
    "from matplotlib.pyplot import plot,xlabel,ylabel,show,title\n",
    "\n",
    "# Given data\n",
    "V_CC = 10# V\n",
    "R_C = 10# k ohm\n",
    "R_C = R_C * 10**3# ohm\n",
    "R_B = 100*10**3# ohm\n",
    "Beta_dc = 100\n",
    "V_BE = 0.7# V\n",
    "# Applying KVL to input section, V_CC = (I_E*R_E) + (I_B*R_B) + V_BE or\n",
    "I_C = (V_CC-V_BE)/( R_C + (R_B/Beta_dc) )# A\n",
    "V_CE =V_CC - (I_C*R_C)# V\n",
    "I_C=I_C*10**3# mA\n",
    "print \"DC load line shown in figure.\"\n",
    "print \"Q-points : %.2f\"%(V_CE),\"V, %.2f\"%(I_C)+\"mA\"\n",
    "I_Csat =V_CC/R_C*10**3# mA\n",
    "V_CEcutoff = V_CC# V\n",
    "plot([V_CEcutoff ,0],[0,I_Csat])\n",
    "xlabel(\"V_CE in volts\")\n",
    "ylabel(\"I_C in mA\")\n",
    "title(\"DC load line\")\n",
    "show()"
   ]
  },
  {
   "cell_type": "markdown",
   "metadata": {},
   "source": [
    "## Exa 4.23 page No 228"
   ]
  },
  {
   "cell_type": "code",
   "execution_count": 37,
   "metadata": {
    "collapsed": false
   },
   "outputs": [
    {
     "name": "stdout",
     "output_type": "stream",
     "text": [
      "The value of R_E = 990.10 ohm\n"
     ]
    }
   ],
   "source": [
    "from __future__ import division\n",
    "# Given data\n",
    "V_CC = 24# V\n",
    "V_CE= 12# V\n",
    "Rc = 5# k ohm\n",
    "Rc = Rc * 10**3# ohm\n",
    "Beta = 100\n",
    "I_C = 2# mA\n",
    "I_C = I_C * 10**-3# A\n",
    "#Applying KVL to the output section, V_CC = (I_C*R_C) + V_CE + (I_E*R_E) or\n",
    "# (V_CC-V_CE)/I_C =Rc + R_E*(1+(1/Beta))   (on putting I_E= I_C+I_B and I_B = I_C/Beta)\n",
    "R_E = (((V_CC-V_CE)/I_C)-Rc)*(1/(1+(1/Beta)))# ohm\n",
    "print \"The value of R_E = %.2f ohm\"%R_E"
   ]
  },
  {
   "cell_type": "markdown",
   "metadata": {},
   "source": [
    "## Exa 4.24 page No 229"
   ]
  },
  {
   "cell_type": "code",
   "execution_count": 38,
   "metadata": {
    "collapsed": false
   },
   "outputs": [
    {
     "name": "stdout",
     "output_type": "stream",
     "text": [
      "The value of R1 = 18.20 k ohm\n",
      "The value of R2 = 2.30 k ohm\n"
     ]
    }
   ],
   "source": [
    "from __future__ import division\n",
    "# Given data\n",
    "S = 3\n",
    "Beta = 100\n",
    "I_C = 2# mA\n",
    "I_C = I_C * 10**-3# A\n",
    "R_E = 990# ohm\n",
    "V_CC = 24# V\n",
    "V_BE= 0.65# V\n",
    "I_B = I_C/Beta# A\n",
    "I_E= I_B+I_C# A\n",
    "# S = ((Beta+1)*(Rth+R_E))/(Rth+(R_E*(1+Beta))), where Rth= R1*R2/(R1+R2)\n",
    "Rth = ((R_E*Beta) - (S*R_E) - (S*R_E*Beta) + R_E)/(S-Beta-1)# ohm\n",
    "Vth= I_B*Rth+V_BE+I_E*R_E# V\n",
    "# Vth= V_CC*R2/(R1+R2) or \n",
    "R1= V_CC*Rth/Vth# ohm\n",
    "R1= R1*10**-3# k ohm\n",
    "R2= Vth*R1/(V_CC-Vth)# k ohm\n",
    "print \"The value of R1 = %.2f k ohm\"%R1\n",
    "print \"The value of R2 = %.2f k ohm\"%R2"
   ]
  },
  {
   "cell_type": "markdown",
   "metadata": {},
   "source": [
    "## Exa 4.25 page No 230"
   ]
  },
  {
   "cell_type": "code",
   "execution_count": 39,
   "metadata": {
    "collapsed": false
   },
   "outputs": [
    {
     "name": "stdout",
     "output_type": "stream",
     "text": [
      "The value of R_C = 1.20 k ohm\n",
      "The value of R_E = 1.19 k ohm\n",
      "The value of R1 = 32.86 k ohm\n",
      "The value of R2 = 17.24 k ohm\n"
     ]
    }
   ],
   "source": [
    "from __future__ import division\n",
    "# Given data\n",
    "I_C =5 * 10**-3# A\n",
    "V_CE = 8# V\n",
    "V_E = 6# V\n",
    "S = 10\n",
    "h_fc = 200\n",
    "Beta = h_fc\n",
    "V_CC = 20# V\n",
    "V_BE = 0.6# V\n",
    "I_B =I_C/Beta# A\n",
    "I_E = I_C+I_B# A\n",
    "# I_C*R_C = V_CC - V_CE - V_E\n",
    "R_C = (V_CC - V_CE - V_E)/I_C# ohm\n",
    "R_C = R_C * 10**-3# k ohm\n",
    "print \"The value of R_C = %.2f k ohm\"%R_C\n",
    "R_C = R_C * 10**3# ohm\n",
    "#Voltage at point E, V_E =I_E*R_E\n",
    "R_E = V_E/I_E# ohm\n",
    "R_E = R_E * 10**-3# k ohm\n",
    "print \"The value of R_E = %.2f k ohm\"%R_E\n",
    "R_E = R_E * 10**3# ohm\n",
    "# S = ((Beta+1)*(R_B+R_E))/( R_B+(R_E*(1+Beta)) ), where R_B= R1*R2/(R1+R2)\n",
    "R_B = ((R_E*(1+Beta))-(S*R_E*(1+Beta)))/( S-(1+Beta) )# ohm\n",
    "# Vth = V_CC*(R2/(R1+R2)) = V_CC*(R_B/R1)\n",
    "# Applying KVL we get, Vth= I_B*R_B+V_BE+V_E or\n",
    "Vth = (I_B*R_B) + V_BE + V_E# V\n",
    "R1 =(V_CC/Vth)*R_B# ohm\n",
    "R1= R1*10**-3# k ohm\n",
    "print \"The value of R1 = %.2f k ohm\"%R1\n",
    "R2 = (R1*Vth)/(V_CC-Vth)# k ohm\n",
    "print \"The value of R2 = %.2f k ohm\"%R2"
   ]
  },
  {
   "cell_type": "markdown",
   "metadata": {},
   "source": [
    "## Exa 4.26 page No 231"
   ]
  },
  {
   "cell_type": "code",
   "execution_count": 40,
   "metadata": {
    "collapsed": false
   },
   "outputs": [
    {
     "name": "stdout",
     "output_type": "stream",
     "text": [
      "The value of V_BB to saturate the transistor = 2.98 V\n"
     ]
    }
   ],
   "source": [
    "from __future__ import division\n",
    "# Given data\n",
    "V_CEsat = 0.1# V\n",
    "V_BEsat = 0.6# V\n",
    "h_fc = 50\n",
    "Beta = h_fc\n",
    "V_CC = 12# V\n",
    "R_C = 1# k ohm\n",
    "R_C = R_C * 10**3# ohm\n",
    "R_B = 10# k ohm\n",
    "R_B = R_B * 10**3# ohm\n",
    "# The collector current,\n",
    "I_C = (V_CC-V_CEsat)/R_C# A\n",
    "I_B = I_C/Beta# mA\n",
    "# The value of V_BB to saturate the transistor \n",
    "V_BB = (I_B*R_B) + V_BEsat# V\n",
    "print \"The value of V_BB to saturate the transistor = %.2f V\"%V_BB"
   ]
  },
  {
   "cell_type": "markdown",
   "metadata": {},
   "source": [
    "## Exa 4.27 page No 233"
   ]
  },
  {
   "cell_type": "code",
   "execution_count": 41,
   "metadata": {
    "collapsed": false
   },
   "outputs": [
    {
     "name": "stdout",
     "output_type": "stream",
     "text": [
      "The value of I_C = 4.54 mA\n",
      "The value of Vo = 7.31 V\n"
     ]
    }
   ],
   "source": [
    "from __future__ import division\n",
    "# Given data\n",
    "V_CC = 30# V\n",
    "R1 = 90# k ohm\n",
    "R1 = R1 * 10**3# ohm\n",
    "R2 = 45# k ohm\n",
    "R2 = R2 * 10**3#  ohm\n",
    "R_C = 5#  k ohm\n",
    "R_C = R_C * 10**3# ohm\n",
    "R_E = 5# k ohm\n",
    "R_E =R_E * 10**3# ohm\n",
    "V_BE = 0.6# V\n",
    "h_FE = 100\n",
    "Beta = h_FE\n",
    "I_CBO = 10# µA\n",
    "I_CBO = I_CBO * 10**-6# A\n",
    "V_BB = V_CC*(R2/(R1+R2))# V\n",
    "Vth = V_BB# V\n",
    "R_BB = (R1*R2)/(R1+R2)# ohm\n",
    "Rth= R_BB# ohm\n",
    "I_C = (V_CC-V_BE)/( (Rth/Beta)+R_E )# A\n",
    "I_CEO = (Beta+1)*I_CBO# A\n",
    "# The value of I_C \n",
    "I_C = I_C-I_CEO# A\n",
    "I_C= I_C*10**3# mA\n",
    "print \"The value of I_C = %.2f mA\"%I_C\n",
    "# The value of Vo\n",
    "Vo =V_CC-(I_C*10**-3*R_C)# V\n",
    "print \"The value of Vo = %.2f V\"%Vo\n",
    "\n",
    "# Note: In the book, the putted value of V_CC (i.e 20 V ) to evaluate the value of I_C is wrong, so the value of I_C = %.2f the book is wrong and due to this the value of Vo is also wrong."
   ]
  },
  {
   "cell_type": "markdown",
   "metadata": {},
   "source": [
    "## Exa 4.28 page No 233"
   ]
  },
  {
   "cell_type": "code",
   "execution_count": 42,
   "metadata": {
    "collapsed": false
   },
   "outputs": [
    {
     "name": "stdout",
     "output_type": "stream",
     "text": [
      "The value of I_CQ = 0.87 mA\n",
      "The value of V_CEQ = 3.48 V\n"
     ]
    }
   ],
   "source": [
    "from __future__ import division\n",
    "# Given data\n",
    "Beta = 130\n",
    "V_BE = 0.7# V\n",
    "V_CC = 18# V\n",
    "R1 = 510# k ohm\n",
    "R1 = R1 * 10**3# ohm\n",
    "R2 = 510# k ohm\n",
    "R2 = R2 * 10**3# ohm\n",
    "R_C = 9.1# k ohm\n",
    "R_C = R_C * 10**3# ohm\n",
    "R_E = 7.5*10**3# ohm\n",
    "Vth = V_CC*(R2/(R1+R2))# V\n",
    "Rth = (R1*R2)/(R1+R2)# ohm\n",
    "#Applying KVL = %.2f the input loop, Vth = (I_B*Rth)+V_BE+(I_E*R_E) or\n",
    "I_CQ = (Vth-V_BE)/( (Rth/Beta)+R_E+(R_E/Beta) )# A         (On putting I_E = I_C+I_B and I_C = Beta*I_B)\n",
    "I_CQ= I_CQ*10**3# mA\n",
    "print \"The value of I_CQ = %.2f mA\"%I_CQ\n",
    "# Applying KVL = %.2f the output loop, V_CC = (I_C*R_C) + V_CEQ + (I_E*R_E)\n",
    "V_CEQ = V_CC - (I_CQ*10**-3*( R_C+R_E+(R_E/Beta) ))# V\n",
    "print \"The value of V_CEQ = %.2f V\"%V_CEQ"
   ]
  },
  {
   "cell_type": "markdown",
   "metadata": {},
   "source": [
    "## Exa 4.29 page No 235"
   ]
  },
  {
   "cell_type": "code",
   "execution_count": 43,
   "metadata": {
    "collapsed": false
   },
   "outputs": [
    {
     "name": "stdout",
     "output_type": "stream",
     "text": [
      "The value of I_CQ = 1.51 mA\n",
      "The value of V_CEQ = -7.10 V\n"
     ]
    }
   ],
   "source": [
    "from __future__ import division\n",
    "# Given data\n",
    "V_CC = 18# V\n",
    "V_BE = 0.7# V\n",
    "R1 = 510# k ohm\n",
    "R1 = R1 * 10**3# ohm\n",
    "Beta = 130\n",
    "R_E = 7.5# k ohm\n",
    "R_E = R_E * 10**3# ohm\n",
    "R_C = 9.1# k ohm\n",
    "R_C = R_C * 10**3# ohm\n",
    "# The value of I_CQ \n",
    "I_CQ = (V_CC-V_BE)/( (R1/Beta)+R_E+(R_E/Beta) )# A\n",
    "I_CQ= I_CQ*10**3# mA\n",
    "print \"The value of I_CQ = %.2f mA\"%I_CQ\n",
    "# The value of V_CEQ \n",
    "V_CEQ = V_CC - I_CQ*10**-3*(R_C+R_E+(R_E/Beta))# V\n",
    "print \"The value of V_CEQ = %.2f V\"%V_CEQ"
   ]
  },
  {
   "cell_type": "markdown",
   "metadata": {},
   "source": [
    "## Exa 4.30 page No 236"
   ]
  },
  {
   "cell_type": "code",
   "execution_count": 45,
   "metadata": {
    "collapsed": false
   },
   "outputs": [
    {
     "name": "stdout",
     "output_type": "stream",
     "text": [
      "The value of I_CQ = 1.06 mA\n",
      "The value of V_CEQ = 3.65 V\n",
      "The value of I''CQ = 1.19 mA\n",
      "The value of V''CEQ = 3.68 V\n"
     ]
    }
   ],
   "source": [
    "from __future__ import division\n",
    "# Given data\n",
    "V_CC = 10# V\n",
    "Beta = 90\n",
    "V_BE = 0.7# V\n",
    "R_E = 4.7# k ohm\n",
    "R_E = R_E * 10**3# ohm\n",
    "R_B = 250# k ohm\n",
    "R_B = R_B * 10**3# ohm\n",
    "R = 1.2# k ohm\n",
    "R = R * 10**3# ohm\n",
    "#Applying KVL for input loop, V_CC = R_E*I_E + R_B*I_B + V_BE  +I_E*R or\n",
    "I_CQ = (Beta*(V_CC-V_BE))/( ((1+Beta)*(R_E+R))+R_B )# A     (On putting I_E = I_C+I_B and I_B = I_C/Beta)\n",
    "I_CQ=I_CQ*10**3# mA\n",
    "print \"The value of I_CQ = %.2f mA\"%I_CQ\n",
    "I_CQ=I_CQ*10**-3# A\n",
    "#Applying KVL for output loop, V_CC = ((I_CQ+(I_CQ/Beta))*R_E)+V_CEQ + ((I_CQ+(I_CQ/Beta))*R)\n",
    "V_CEQ = V_CC - ( (I_CQ+(I_CQ/Beta)) * (R_E+R) )# V\n",
    "print \"The value of V_CEQ = %.2f V\"%V_CEQ\n",
    "# If beta is increased by 50% i.e\n",
    "bita = Beta+Beta/2\n",
    "I_deshCQ = (bita*(V_CC-V_BE))/( ((1+bita)*(R_E+R))+R_B )# A\n",
    "I_deshCQ=I_deshCQ*10**3# mA\n",
    "print \"The value of I''CQ = %.2f mA\"%I_deshCQ\n",
    "V_deshCEQ = V_CC - ( (I_CQ+(I_CQ/bita)) * (R_E+R) )# V\n",
    "print \"The value of V''CEQ = %.2f V\"%V_deshCEQ\n",
    "\n",
    "# Note: In the book, there is calculation error to evaluate the value of V'CEQ, So the answer = %.2f the book is wrong."
   ]
  },
  {
   "cell_type": "markdown",
   "metadata": {},
   "source": [
    "## Exa 4.34 page No 238"
   ]
  },
  {
   "cell_type": "code",
   "execution_count": 47,
   "metadata": {
    "collapsed": false
   },
   "outputs": [
    {
     "name": "stdout",
     "output_type": "stream",
     "text": [
      "The value of beta = 153.41\n",
      "The value of V_CC = 17.68 V\n",
      "The value of R_B = 744.21 k ohm\n"
     ]
    }
   ],
   "source": [
    "from __future__ import division\n",
    "# Given data\n",
    "I_B = 20# µA\n",
    "I_B = I_B * 10**-6# A\n",
    "R_C = 2.7# k ohm\n",
    "R_C = R_C * 10**3# ohm\n",
    "V_CE = 7.3# V\n",
    "V_BE = 0.7# V\n",
    "R_E = 0.68# k ohm\n",
    "R_E = R_E * 10**3# ohm\n",
    "V_E = 2.1# V\n",
    "I_E = V_E/R_E# A\n",
    "I_C =I_E-I_B# A  (as I_E = I_C+I_B)\n",
    "Beta = I_C/I_B\n",
    "print \"The value of beta = %.2f\"%Beta\n",
    "# Applying KVL to the output loop, \n",
    "V_CC = (I_C*R_C) +V_CE + (I_E*R_E)# V\n",
    "print \"The value of V_CC = %.2f V\"%V_CC\n",
    "# Applying KVL to the output loop, V_CC = (I_B*R_B)+V_BE+(I_E*R_E) or\n",
    "R_B = (V_CC-V_BE-(I_E*R_E))/I_B# ohm\n",
    "R_B= R_B*10**-3## k ohm\n",
    "print \"The value of R_B = %.2f k ohm\"%R_B"
   ]
  },
  {
   "cell_type": "markdown",
   "metadata": {},
   "source": [
    "## Exa 4.36 page No 239"
   ]
  },
  {
   "cell_type": "code",
   "execution_count": 3,
   "metadata": {
    "collapsed": false
   },
   "outputs": [
    {
     "name": "stdout",
     "output_type": "stream",
     "text": [
      "At saturation, the value of I_C = 6.06 mA\n",
      "At cut off, the value of V_CE = 20.00 volts\n",
      "DC load line shown in figure.\n"
     ]
    },
    {
     "data": {
      "image/png": "[encoded data removed]",
      "text/plain": [
       "<matplotlib.figure.Figure at 0x7fc49c444450>"
      ]
     },
     "metadata": {},
     "output_type": "display_data"
    }
   ],
   "source": [
    "from __future__ import division\n",
    "%matplotlib inline \n",
    "from matplotlib.pyplot import plot,xlabel,ylabel,show,title\n",
    "\n",
    "# Given data\n",
    "V_CC = 20# V\n",
    "R_C = 3.3# k ohm\n",
    "R_C = R_C * 10**3# ohm\n",
    "R_B = 1# Mohm\n",
    "R_B = R_B * 10**6# ohm\n",
    "V_CE = V_CC# V\n",
    "I_C = V_CC/R_C# A\n",
    "I_C=I_C*10**3# mA\n",
    "# Plotting of the DC load line,\n",
    "plot([V_CE,0],[0,I_C])\n",
    "xlabel(\"V_CE in volts.\")\n",
    "ylabel(\"I_C in mA.\")\n",
    "title(\"DC load line.\")\n",
    "print \"At saturation, the value of I_C = %.2f mA\"%I_C\n",
    "print \"At cut off, the value of V_CE = %.2f volts\"%V_CE\n",
    "print \"DC load line shown in figure.\""
   ]
  },
  {
   "cell_type": "markdown",
   "metadata": {},
   "source": [
    "## Exa 4.37 page No 240"
   ]
  },
  {
   "cell_type": "code",
   "execution_count": 50,
   "metadata": {
    "collapsed": false
   },
   "outputs": [
    {
     "name": "stdout",
     "output_type": "stream",
     "text": [
      "The value of I_E = 1.08 mA\n",
      "The value of V_CE = 5.05 V\n"
     ]
    }
   ],
   "source": [
    "from __future__ import division\n",
    "# Given data\n",
    "Beta = 100\n",
    "Rth = 1.8# k ohm\n",
    "V_CC = 10# V\n",
    "R2 = 2.2# k ohm\n",
    "R2 = R2 * 10**3# ohm\n",
    "R1 = 10# k ohm\n",
    "R1 = R1 * 10**3# ohm\n",
    "R_C=3.6*10**3# ohm\n",
    "R_E = 1# k ohm\n",
    "R_E = R_E * 10**3# ohm\n",
    "V_BE = 0.7# V\n",
    "Vth = (R2/(R1+R2))*V_CC# V\n",
    "Rth = (R1*R2)/(R1+R2)# ohm\n",
    "# Applying KVL for input loop, Vth = (I_B*Rth)+V_BE+(I_E*R_E) or \n",
    "I_E = (Vth-V_BE)/( R_E+(Rth/(Beta+1)) )# A   (On putting I_E = (Beta+1)*I_B)\n",
    "I_E= I_E*10**3# mA\n",
    "print \"The value of I_E = %.2f mA\"%I_E\n",
    "I_B =I_E/(Beta+1)# mA\n",
    "I_C= I_E-I_B# mA\n",
    "#Applying KVL for output loop, V_CC = (I_C*R_C) + V_CE + (I_E*R_E)\n",
    "V_CE = V_CC - (I_C*10**-3*R_C) - (I_E*10**-3*R_E)# V\n",
    "print \"The value of V_CE = %.2f V\"%V_CE"
   ]
  },
  {
   "cell_type": "markdown",
   "metadata": {},
   "source": [
    "## Exa 4.38 page No 242"
   ]
  },
  {
   "cell_type": "code",
   "execution_count": 52,
   "metadata": {
    "collapsed": false
   },
   "outputs": [
    {
     "name": "stdout",
     "output_type": "stream",
     "text": [
      "The value of Zi = 1.51 k ohm\n",
      "The value of Av = -313.97\n",
      "The value of Zo = 185.75 k ohm\n"
     ]
    }
   ],
   "source": [
    "from __future__ import division\n",
    "# Given data\n",
    "h_fe = 110\n",
    "h_ie = 1.6# k ohm\n",
    "h_ie = h_ie * 10**3# ohm\n",
    "h_re = 2*10**-4\n",
    "h_oe = 20*10**-6# A/V\n",
    "R_B = 470# k ohm\n",
    "R_B = R_B * 10**3# ohm\n",
    "R_C = 4.7# k ohm\n",
    "Ri= 1.51*10**3# ohm\n",
    "R_C =R_C * 10**3# ohm\n",
    "Rin = h_ie - ( (h_fe*h_re*R_C)/(1+(h_oe*R_C)) )# ohm\n",
    "# The value of Zi,\n",
    "Zi = (R_B*Ri)/(R_B+Ri)# ohm\n",
    "Zi= Zi*10**-3# k ohm\n",
    "print \"The value of Zi = %.2f k ohm\"%Zi\n",
    "Zi= Zi*10**3# ohm\n",
    "R_L = R_C# ohm\n",
    "# The voltag gain,\n",
    "Av = -h_fe/( Zi*(h_oe+(1/R_L)) )\n",
    "print \"The value of Av = %.2f\"%Av\n",
    "Rs = 0# ohm\n",
    "# The value of Zo \n",
    "Zo = 1/( h_oe-( (h_fe*h_re)/(Zi+Rs) ) )# ohm\n",
    "Zo= Zo*10**-3## k ohm\n",
    "print \"The value of Zo = %.2f k ohm\"%Zo"
   ]
  }
 ],
 "metadata": {
  "kernelspec": {
   "display_name": "Python 2",
   "language": "python",
   "name": "python2"
  },
  "language_info": {
   "codemirror_mode": {
    "name": "ipython",
    "version": 2
   },
   "file_extension": ".py",
   "mimetype": "text/x-python",
   "name": "python",
   "nbconvert_exporter": "python",
   "pygments_lexer": "ipython2",
   "version": "2.7.9"
  }
 },
 "nbformat": 4,
 "nbformat_minor": 0
}
