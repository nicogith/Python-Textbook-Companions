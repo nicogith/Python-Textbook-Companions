{
 "cells": [
  {
   "cell_type": "markdown",
   "metadata": {},
   "source": [
    "# Chapter 3 Zener Diode and LED"
   ]
  },
  {
   "cell_type": "markdown",
   "metadata": {},
   "source": [
    "## Exa 3.1 page No 164"
   ]
  },
  {
   "cell_type": "code",
   "execution_count": 1,
   "metadata": {
    "collapsed": false
   },
   "outputs": [
    {
     "name": "stdout",
     "output_type": "stream",
     "text": [
      "The resistance of the device = 15.00 ohm\n"
     ]
    }
   ],
   "source": [
    "from __future__ import division\n",
    "# Given data\n",
    "I1 = 30# mA\n",
    "I2 = 20# mA\n",
    "delI_Z = I1-I2# mA\n",
    "delI_Z = delI_Z * 10**-3# A\n",
    "V1 = 5.75# V\n",
    "V2 = 5.6# V\n",
    "delV_Z = V1-V2# V\n",
    "# The resistance of the device \n",
    "r_Z = delV_Z/delI_Z# ohm\n",
    "print \"The resistance of the device = %.2f ohm\"%r_Z"
   ]
  },
  {
   "cell_type": "markdown",
   "metadata": {},
   "source": [
    "## Exa 3.2 page No 164"
   ]
  },
  {
   "cell_type": "code",
   "execution_count": 2,
   "metadata": {
    "collapsed": false
   },
   "outputs": [
    {
     "name": "stdout",
     "output_type": "stream",
     "text": [
      "The terminal voltage = 5.00 V\n"
     ]
    }
   ],
   "source": [
    "from __future__ import division\n",
    "# Given data\n",
    "V_Z = 4.7# V\n",
    "r_Z = 15# ohm\n",
    "I_Z = 20# mA\n",
    "I_Z = I_Z * 10**-3# A\n",
    "# The terminal voltage \n",
    "VdasZ = V_Z + (I_Z*r_Z)# V\n",
    "print \"The terminal voltage = %.2f V\"%VdasZ"
   ]
  },
  {
   "cell_type": "markdown",
   "metadata": {},
   "source": [
    "## Exa 3.3 page No 165"
   ]
  },
  {
   "cell_type": "code",
   "execution_count": 3,
   "metadata": {
    "collapsed": false
   },
   "outputs": [
    {
     "name": "stdout",
     "output_type": "stream",
     "text": [
      "The value of I_ZM = 73.53 mA\n"
     ]
    }
   ],
   "source": [
    "from __future__ import division\n",
    "# Given data\n",
    "P_ZM = 500# mW\n",
    "P_ZM = P_ZM * 10**-3# W\n",
    "V_Z = 6.8# V\n",
    "# The value of I_ZM \n",
    "I_ZM = P_ZM/V_Z# A\n",
    "I_ZM = I_ZM * 10**3# mA\n",
    "print \"The value of I_ZM = %.2f mA\"%I_ZM"
   ]
  },
  {
   "cell_type": "markdown",
   "metadata": {},
   "source": [
    "## Exa 3.4 page No 165"
   ]
  },
  {
   "cell_type": "code",
   "execution_count": 1,
   "metadata": {
    "collapsed": false
   },
   "outputs": [
    {
     "name": "stdout",
     "output_type": "stream",
     "text": [
      "The maximum power dissipation = 1416.75 mW\n"
     ]
    }
   ],
   "source": [
    "from __future__ import division\n",
    "# Given data\n",
    "P_ZM = 1500# mW\n",
    "Deratingfactor = 3.33# mW\n",
    "T1 = 85# degree C\n",
    "T2 = 60# degree C\n",
    "total = Deratingfactor*(T1-T2)## total derating factor = %.2f mW\n",
    "# The maximum power dissipation \n",
    "P_ZM = P_ZM - total# mW\n",
    "print \"The maximum power dissipation = %.2f mW\"%P_ZM"
   ]
  },
  {
   "cell_type": "markdown",
   "metadata": {},
   "source": [
    "## Exa 3.5 page No 166"
   ]
  },
  {
   "cell_type": "code",
   "execution_count": 8,
   "metadata": {
    "collapsed": false
   },
   "outputs": [
    {
     "name": "stdout",
     "output_type": "stream",
     "text": [
      "The value of V_L = 8.73 V\n",
      "The value of V_R = 7.27 V\n",
      "The value of I_Z = 0.00 A\n",
      "The value of P_Z = 0.00 W\n"
     ]
    }
   ],
   "source": [
    "from __future__ import division\n",
    "# Given data\n",
    "R_L = 1.2# k ohm\n",
    "R_L = R_L * 10**3# ohm\n",
    "Vi = 16# V\n",
    "R = 1# k ohm\n",
    "R = R * 10**3# ohm\n",
    "# The value of V_L \n",
    "V_L = (R_L*Vi)/(R+R_L)# V\n",
    "print \"The value of V_L = %.2f V\"%V_L\n",
    "V_Z = 10# V\n",
    "# The value of V_R \n",
    "V_R = Vi-V_L# V\n",
    "print \"The value of V_R = %.2f V\"%V_R\n",
    "# The value of I_Z \n",
    "I_Z = 0# A\n",
    "print \"The value of I_Z = %.2f A\"%I_Z\n",
    "# The value of P_Z \n",
    "P_Z =V_Z*I_Z# W\n",
    "print \"The value of P_Z = %.2f W\"%P_Z"
   ]
  },
  {
   "cell_type": "markdown",
   "metadata": {},
   "source": [
    "## Exa 3.6 page No 167"
   ]
  },
  {
   "cell_type": "code",
   "execution_count": 10,
   "metadata": {
    "collapsed": false
   },
   "outputs": [
    {
     "name": "stdout",
     "output_type": "stream",
     "text": [
      "The minimum value of Vi = 23.67 V\n",
      "The maximum value of Vi = 36.87 V\n"
     ]
    }
   ],
   "source": [
    "from __future__ import division\n",
    "# Given data\n",
    "R_L = 1.2# k ohm\n",
    "R_L = R_L * 10**3# ohm\n",
    "R = 220# ohm\n",
    "V_Z = 20# V\n",
    "# The minimum value of Vi \n",
    "Vimin = ((R_L+R)/R_L)*V_Z# V\n",
    "print \"The minimum value of Vi = %.2f V\"%Vimin\n",
    "I_L = V_Z/R_L# A\n",
    "I_ZM = 60# mA\n",
    "I_ZM = I_ZM * 10**-3# A\n",
    "# I_ZM = I_R-I_L\n",
    "I_Rmax = I_ZM + I_L\n",
    "# The maximum value of Vi \n",
    "Vimax = (I_Rmax*R)+V_Z# V\n",
    "print \"The maximum value of Vi = %.2f V\"%Vimax"
   ]
  },
  {
   "cell_type": "markdown",
   "metadata": {},
   "source": [
    "## Exa 3.7 page No 168"
   ]
  },
  {
   "cell_type": "code",
   "execution_count": 11,
   "metadata": {
    "collapsed": false
   },
   "outputs": [
    {
     "name": "stdout",
     "output_type": "stream",
     "text": [
      "As the value of V_L (14.17 V) is greater than the value of V_Z (10.00  V), So\n",
      "The zener diode is operating in the breakdown region.\n"
     ]
    }
   ],
   "source": [
    "from __future__ import division\n",
    "# Given data\n",
    "R_L = 1# k ohm\n",
    "R_L = R_L * 10**3# ohm\n",
    "R = 270# ohm \n",
    "V = 18# V\n",
    "V_Z= 10# V\n",
    "V_L = (R_L/(R_L+R))*V# V\n",
    "if V_L > V_Z:\n",
    "    print \"As the value of V_L (%.2f\"%(V_L),\"V) is greater than the value of V_Z (%.2f\"%(V_Z),\" V), So\"\n",
    "    print \"The zener diode is operating in the breakdown region.\""
   ]
  },
  {
   "cell_type": "markdown",
   "metadata": {},
   "source": [
    "## Exa 3.8 page No 169"
   ]
  },
  {
   "cell_type": "code",
   "execution_count": 12,
   "metadata": {
    "collapsed": false
   },
   "outputs": [
    {
     "name": "stdout",
     "output_type": "stream",
     "text": [
      "The value of zener current = 22.00 mA\n"
     ]
    }
   ],
   "source": [
    "from __future__ import division\n",
    "# Given data\n",
    "V1 = 18# V\n",
    "V2 = 10# V\n",
    "R = 250# ohm\n",
    "I_R = (V1-V2)/R# A\n",
    "I_R = I_R * 10**3# mA\n",
    "R_L = 1# k ohm\n",
    "R_L = R_L * 10**3# ohm\n",
    "I_L = V2/R_L# A\n",
    "I_L =I_L * 10**3# mA\n",
    "# I_R = I_L+I_Z\n",
    "# So, the value of zener current \n",
    "I_Z = I_R - I_L# mA\n",
    "print \"The value of zener current = %.2f mA\"%I_Z"
   ]
  },
  {
   "cell_type": "markdown",
   "metadata": {},
   "source": [
    "## Exa 3.9 page No 169"
   ]
  },
  {
   "cell_type": "code",
   "execution_count": 13,
   "metadata": {
    "collapsed": false
   },
   "outputs": [
    {
     "name": "stdout",
     "output_type": "stream",
     "text": [
      "The current flowing through the resistance = 1.00 mA\n"
     ]
    }
   ],
   "source": [
    "from __future__ import division\n",
    "# Given data\n",
    "R = 10# k ohm\n",
    "R = R * 10**3# ohm\n",
    "Vi = 20# V\n",
    "V_Z = 10# V\n",
    "I_L = 1# mA\n",
    "I_L = I_L * 10**-3# A\n",
    "R_L = 10# k ohm\n",
    "R_L = R_L * 10**3# ohm\n",
    "V_L = (R_L/(R_L+R))*Vi# V\n",
    "# The current flowing through the resistance \n",
    "I = (Vi-V_Z)/R# A\n",
    "I= I*10**3# mA\n",
    "print \"The current flowing through the resistance = %.2f mA\"%I"
   ]
  },
  {
   "cell_type": "markdown",
   "metadata": {},
   "source": [
    "## Exa 3.10 page No 170"
   ]
  },
  {
   "cell_type": "code",
   "execution_count": 14,
   "metadata": {
    "collapsed": false
   },
   "outputs": [
    {
     "name": "stdout",
     "output_type": "stream",
     "text": [
      "The value of V_L = 12.00 V\n",
      "The value of I_L = 33.33 mA\n",
      "The value of I_R = 50.00 mA\n",
      "The value of I_Z = 16.67 mA\n",
      "The minimum value of R_L = 200.00 ohm\n"
     ]
    }
   ],
   "source": [
    "from __future__ import division\n",
    "# Given data\n",
    "R = 200#  ohm\n",
    "Vi = 20# V\n",
    "V_Z = 10# V\n",
    "R_L = 300# ohm\n",
    "P_Zmax = 400# mW\n",
    "# The value of V_L \n",
    "V_L = (R_L/(R_L+R))*Vi# V\n",
    "print \"The value of V_L = %.2f V\"%V_L\n",
    "V_L = V_Z# V\n",
    "# The value of I_L \n",
    "I_L = V_L/R_L# A\n",
    "I_L = I_L * 10**3# mA\n",
    "print \"The value of I_L = %.2f mA\"%I_L\n",
    "# The value of I_R \n",
    "I_R = (Vi-V_Z)/R# A\n",
    "I_R = I_R * 10**3# mA\n",
    "print \"The value of I_R = %.2f mA\"%I_R\n",
    "# The value of I_Z \n",
    "I_Z = I_R-I_L# mA\n",
    "print \"The value of I_Z = %.2f mA\"%I_Z\n",
    "# V_L >= V_Z and V_L= R_L*Vi/(R_L+R)\n",
    "# So, the minimum value of R_L \n",
    "R_L= R*V_Z/(Vi-V_Z)# ohm\n",
    "print \"The minimum value of R_L = %.2f ohm\"%R_L"
   ]
  },
  {
   "cell_type": "markdown",
   "metadata": {},
   "source": [
    "## Exa 3.11 page No 171"
   ]
  },
  {
   "cell_type": "code",
   "execution_count": 15,
   "metadata": {
    "collapsed": false
   },
   "outputs": [
    {
     "name": "stdout",
     "output_type": "stream",
     "text": [
      "The minimum value of R = 4.17 ohm\n"
     ]
    }
   ],
   "source": [
    "from __future__ import division\n",
    "# Given data\n",
    "I_Z = 0.2# A\n",
    "R = 10# ohm\n",
    "V_Z = 8 + (R*I_Z)# V\n",
    "I_Lmin = V_Z/R# A\n",
    "I_Zmax = 0.2##in A\n",
    "Vimax = 15# V\n",
    "# The minimum value of R\n",
    "Rimin = (Vimax-V_Z)/(I_Zmax+I_Lmin)# ohm\n",
    "print \"The minimum value of R = %.2f ohm\"%Rimin\n",
    "\n",
    "# Note: The calculation in the book is not accurate, So the answer in the book is not accurate."
   ]
  },
  {
   "cell_type": "markdown",
   "metadata": {},
   "source": [
    "## Exa 3.12 page No 172"
   ]
  },
  {
   "cell_type": "code",
   "execution_count": 17,
   "metadata": {
    "collapsed": false
   },
   "outputs": [
    {
     "name": "stdout",
     "output_type": "stream",
     "text": [
      "The output voltage = 8.00 V\n",
      "The voltage drop across R_S = 4.00 V\n",
      "The current through the zener diode = 0.00 A\n"
     ]
    }
   ],
   "source": [
    "from __future__ import division\n",
    "# Given data\n",
    "R_L = 10# k ohm\n",
    "R_S = 5# k ohm\n",
    "V_S = 12# V\n",
    "V_Z = 8# V\n",
    "V_L = (R_L/(R_S+R_L))*V_S# V\n",
    "#The output voltage \n",
    "Vo = V_L# V\n",
    "print \"The output voltage = %.2f V\"%Vo\n",
    "# The voltage drop across R_S \n",
    "R_S = V_S-Vo# V\n",
    "print \"The voltage drop across R_S = %.2f V\"%R_S\n",
    "# The current through the zener diode \n",
    "I_Z = 0# A\n",
    "print \"The current through the zener diode = %.2f A\"%I_Z"
   ]
  },
  {
   "cell_type": "markdown",
   "metadata": {},
   "source": [
    "## Exa 3.13 page No 173"
   ]
  },
  {
   "cell_type": "code",
   "execution_count": 26,
   "metadata": {
    "collapsed": false
   },
   "outputs": [
    {
     "name": "stdout",
     "output_type": "stream",
     "text": [
      "The value of I_Z = 0.00 A\n",
      "The value of P_Z = 0.00 W\n",
      "The value of Vo = 8.73 V\n"
     ]
    }
   ],
   "source": [
    "from __future__ import division\n",
    "# Given data\n",
    "R_S = 1# k ohm\n",
    "R_L = 1.2# k ohm\n",
    "V_Z = 10# V\n",
    "V_S = 16# V\n",
    "V_L = (R_L/(R_L+R_S))*V_S# V\n",
    "#The value of I_Z \n",
    "I_Z = 0# A\n",
    "print \"The value of I_Z = %.2f A\"%I_Z\n",
    "# The value of P_Z \n",
    "P_Z = 0\n",
    "print \"The value of P_Z = %.2f W\"%P_Z\n",
    "#The value of Vo\n",
    "Vo = V_L# V\n",
    "print \"The value of Vo = %.2f V\"%Vo"
   ]
  },
  {
   "cell_type": "markdown",
   "metadata": {},
   "source": [
    "## Exa 3.14 page No 173"
   ]
  },
  {
   "cell_type": "code",
   "execution_count": 21,
   "metadata": {
    "collapsed": false
   },
   "outputs": [
    {
     "name": "stdout",
     "output_type": "stream",
     "text": [
      "The value of V_L with 200 ohm = 9.52 V\n",
      "The value of I_Z with 200 ohm = 0.00 A\n",
      "The value of I_L with 200 ohm = 47.62 mA\n",
      "The value of I_R with 200 ohm = 47.62 mA\n",
      "The value of I_L with 50 ohm = 74.07 mA\n",
      "The value of I_R with 50 ohm = 74.07 mA\n",
      "The value of I_Z with 50 ohm = 0.00 A\n",
      "The value of V_L with 50 ohm = 3.70 V\n"
     ]
    }
   ],
   "source": [
    "from __future__ import division\n",
    "# Given data\n",
    "R_L = 200# ohm\n",
    "Vin = 20# V\n",
    "V_Z = 10# V\n",
    "P_Zmaz = 400# mW\n",
    "R_S = 220# ohm\n",
    "#The value of V_L with 200 ohm \n",
    "V_L =(R_L/(R_S+R_L))*Vin# V\n",
    "print \"The value of V_L with 200 ohm = %.2f V\"%V_L\n",
    "# The value of I_Z with 200 ohm \n",
    "I_Z = 0# A\n",
    "print \"The value of I_Z with 200 ohm = %.2f A\"%I_Z\n",
    "# The value of I_L with 200 ohm \n",
    "I_L = Vin/(R_S+R_L)*10**3# mA\n",
    "print \"The value of I_L with 200 ohm = %.2f mA\"%I_L\n",
    "#The value of I_R with 200 ohm \n",
    "I_R = I_L# mA\n",
    "print \"The value of I_R with 200 ohm = %.2f mA\"%I_R\n",
    "R_L = 50# ohm\n",
    "V_L = (R_L/(R_S+R_L))*Vin# V\n",
    "#The value of I_L with 50 ohm \n",
    "I_L = Vin/(R_S+R_L)*10**3# mA\n",
    "print \"The value of I_L with 50 ohm = %.2f mA\"%I_L\n",
    "# The value of I_R with 50 ohm \n",
    "I_R = I_L# mA\n",
    "print \"The value of I_R with 50 ohm = %.2f mA\"%I_R\n",
    "# The value of I_Z with 50 ohm \n",
    "I_Z = 0# A\n",
    "print \"The value of I_Z with 50 ohm = %.2f A\"%I_Z\n",
    "print \"The value of V_L with 50 ohm = %.2f V\"%V_L"
   ]
  },
  {
   "cell_type": "markdown",
   "metadata": {},
   "source": [
    "## Exa 3.15 page No 175"
   ]
  },
  {
   "cell_type": "code",
   "execution_count": 22,
   "metadata": {
    "collapsed": false
   },
   "outputs": [
    {
     "name": "stdout",
     "output_type": "stream",
     "text": [
      "The minimum value of R_L = 45.00 ohm\n"
     ]
    }
   ],
   "source": [
    "from __future__ import division\n",
    "# Given data\n",
    "V_Z = 15# V\n",
    "Vin = 24# V\n",
    "R = 27# ohm\n",
    "I = (Vin-V_Z)/R# A\n",
    "# The minimum value of R_L \n",
    "R_Lmin = V_Z/I# ohm\n",
    "print \"The minimum value of R_L = %.2f ohm\"%R_Lmin"
   ]
  },
  {
   "cell_type": "markdown",
   "metadata": {},
   "source": [
    "## Exa 3.16 page No 175"
   ]
  },
  {
   "cell_type": "code",
   "execution_count": 23,
   "metadata": {
    "collapsed": false
   },
   "outputs": [
    {
     "name": "stdout",
     "output_type": "stream",
     "text": [
      "The minimum value of R = 80.00 ohm\n"
     ]
    }
   ],
   "source": [
    "from __future__ import division\n",
    "# Given data\n",
    "R = 50# ohm\n",
    "Vin = 10# V\n",
    "V_Z = 6# V\n",
    "I = (Vin-V_Z)/R# A\n",
    "I = I * 10**3# mA\n",
    "I_Zmin = 5# mA\n",
    "# I = I_Z+I_L\n",
    "I_Rmax = I-I_Zmin# mA\n",
    "# The minimum value of R \n",
    "R = V_Z/(I_Rmax*10**-3)# ohm\n",
    "print \"The minimum value of R = %.2f ohm\"%R"
   ]
  },
  {
   "cell_type": "markdown",
   "metadata": {},
   "source": [
    "## Exa 3.17 page No 176"
   ]
  },
  {
   "cell_type": "code",
   "execution_count": 27,
   "metadata": {
    "collapsed": false
   },
   "outputs": [
    {
     "name": "stdout",
     "output_type": "stream",
     "text": [
      "The power dissipation in the zener diode = 5.00 mW\n"
     ]
    }
   ],
   "source": [
    "from __future__ import division\n",
    "# Given data\n",
    "R = 150*10**3# ohm\n",
    "R_L = 75# k ohm\n",
    "R_L = R_L * 10**3# ohm\n",
    "V_Z = 15# V\n",
    "Vin = 50# V\n",
    "R_Z = 0\n",
    "Rth = (R*R_L)/(R+R_L)# ohm\n",
    "Vth = Vin * ( R_L/(R_L+R) )# V\n",
    "I_Z = Vth/Rth# A\n",
    "# The power dissipation = %.2f the zener diode \n",
    "P_Z = V_Z*I_Z# W\n",
    "P_Z= P_Z*10**3##in mW\n",
    "print \"The power dissipation in the zener diode = %.2f mW\"%P_Z\n",
    "\n",
    "# Note: The calculation in the last line is wrong as 15*0.333 = 5 mW not 0.5mW, So the answer in the book is wrong. "
   ]
  },
  {
   "cell_type": "markdown",
   "metadata": {},
   "source": [
    "## Exa 3.18 page No 176"
   ]
  },
  {
   "cell_type": "code",
   "execution_count": 28,
   "metadata": {
    "collapsed": false
   },
   "outputs": [
    {
     "name": "stdout",
     "output_type": "stream",
     "text": [
      "The value of R_L = 1.98 k ohm\n"
     ]
    }
   ],
   "source": [
    "from __future__ import division\n",
    "# Given data\n",
    "R = 222# ohm\n",
    "Vin = 20# V\n",
    "V_Z = 10# V\n",
    "P = 400# mW\n",
    "P= P*10**-3# W\n",
    "I_Zmax = P/V_Z# A\n",
    "#I = I_Z+I_L\n",
    "I = (Vin-V_Z)/R# A\n",
    "I_Lmin = I - I_Zmax# mA\n",
    "# The value of R_L \n",
    "R_L =V_Z/I_Lmin# ohm\n",
    "R_L= R_L*10**-3# k ohm\n",
    "print \"The value of R_L = %.2f k ohm\"%R_L"
   ]
  },
  {
   "cell_type": "markdown",
   "metadata": {},
   "source": [
    "## Exa 3.19 page No 177"
   ]
  },
  {
   "cell_type": "code",
   "execution_count": 29,
   "metadata": {
    "collapsed": false
   },
   "outputs": [
    {
     "name": "stdout",
     "output_type": "stream",
     "text": [
      "The range of possible load current is : 25.00 mA <= I_L <= 120.00 mA\n",
      "The range of possible load resistance is : 0.12 ohm <= R_L <= 0.58  ohm\n",
      "The power rating required for load resistance = 576.00 mW\n"
     ]
    }
   ],
   "source": [
    "from __future__ import division\n",
    "# Given data\n",
    "R = 12# k ohm\n",
    "Vin = 6.3# V\n",
    "V_Z = 4.8# V\n",
    "I = (Vin-V_Z)/R*10**3# mA\n",
    "I_Z = 5# mA\n",
    "# Maximum value of load current,\n",
    "I_Lmax = I - I_Z# mA\n",
    "I_Z = 100# mA\n",
    "# Minimum value of load current,\n",
    "I_Lmin = I - I_Z# mA\n",
    "print \"The range of possible load current is : %.2f\"%(I_Lmin),\"mA <= I_L <= %.2f\"%(I_Lmax),\"mA\"\n",
    "# Minimum value of load resistance,\n",
    "R_Lmin= I_Lmin*10**-3*V_Z# ohm\n",
    "# Maximum value of load resistance,\n",
    "R_Lmax= I_Lmax*10**-3*V_Z# ohm\n",
    "print \"The range of possible load resistance is : %.2f\"%(R_Lmin),\"ohm <= R_L <= %.2f\"%(R_Lmax),\" ohm\"\n",
    "# The power rating required for load resistance \n",
    "P_Zmax = I_Lmax*10**-3*V_Z# W\n",
    "P_Zmax= P_Zmax*10**3# mW\n",
    "print \"The power rating required for load resistance = %.2f mW\"%P_Zmax\n",
    "\n",
    "# Note: The calculated value of P_Zmax is wrong as 120*10**-3*4.8= 576 mW not 5.76 mW"
   ]
  }
 ],
 "metadata": {
  "kernelspec": {
   "display_name": "Python 2",
   "language": "python",
   "name": "python2"
  },
  "language_info": {
   "codemirror_mode": {
    "name": "ipython",
    "version": 2
   },
   "file_extension": ".py",
   "mimetype": "text/x-python",
   "name": "python",
   "nbconvert_exporter": "python",
   "pygments_lexer": "ipython2",
   "version": "2.7.9"
  }
 },
 "nbformat": 4,
 "nbformat_minor": 0
}
