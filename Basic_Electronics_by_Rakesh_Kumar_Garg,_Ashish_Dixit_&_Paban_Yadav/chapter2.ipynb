{
 "cells": [
  {
   "cell_type": "markdown",
   "metadata": {},
   "source": [
    "# Chapter 2 Diode Applications"
   ]
  },
  {
   "cell_type": "markdown",
   "metadata": {},
   "source": [
    "## Exa 2.1 page No 112"
   ]
  },
  {
   "cell_type": "code",
   "execution_count": 5,
   "metadata": {
    "collapsed": false
   },
   "outputs": [
    {
     "name": "stdout",
     "output_type": "stream",
     "text": [
      "The average load voltage = 12.73 V\n",
      "The average load current = 12.73 mA\n",
      "The RMS voltage = 20.00 V\n",
      "The RMS current = 20.00 mA\n",
      "The efficiency of rectification = 40.53 %\n",
      "The value of TUF = 28.66 %\n",
      "The ripple factor = 121.00 %\n"
     ]
    }
   ],
   "source": [
    "from math import pi,sqrt\n",
    "from __future__ import division\n",
    "# Given data\n",
    "N2 = 4\n",
    "N1 = 1\n",
    "R_L = 1*10**3# ohm\n",
    "Vm = 40# V\n",
    "V_Lav = Vm/pi# V\n",
    "# The average load voltage \n",
    "V_LDC = V_Lav# V\n",
    "print \"The average load voltage = %.2f V\"%V_LDC\n",
    "Im = Vm/R_L# A\n",
    "I_DC = Im/pi# A\n",
    "I_DC= I_DC*10**3# mA\n",
    "print \"The average load current = %.2f mA\"%I_DC\n",
    "I_DC= I_DC*10**-3# A\n",
    "# The RMS voltage\n",
    "V_Lrms = Vm/2# V\n",
    "print \"The RMS voltage = %.2f V\"%V_Lrms\n",
    "# The RMS current\n",
    "Irms = V_Lrms/R_L# A\n",
    "Irms= Irms*10**3# mA\n",
    "print \"The RMS current = %.2f mA\"%Irms\n",
    "Irms= Irms*10**-3# A\n",
    "#Eta = (P_ODC/P_iAC)*100\n",
    "I_Loc = I_DC# A\n",
    "P_ODC = (I_Loc**2)*R_L# W\n",
    "P_iAC = (Irms**2)*R_L# W\n",
    "# The efficiency of rectification \n",
    "Eta = (P_ODC/P_iAC)*100# %\n",
    "print \"The efficiency of rectification = %.2f %%\"%Eta\n",
    "V2rms = Vm/sqrt(2)\n",
    "I2rms = Irms# A\n",
    "# The value of TUF \n",
    "TUF = ((P_ODC)/(V2rms*I2rms))*100# %\n",
    "print \"The value of TUF = %.2f %%\"%TUF\n",
    "# The ripple factor \n",
    "Gamma = (sqrt((V_Lrms**2)-(V_LDC**2)))/V_LDC\n",
    "Gamma = round(Gamma * 100)# % done by own\n",
    "print \"The ripple factor = %.2f %%\"%Gamma"
   ]
  },
  {
   "cell_type": "markdown",
   "metadata": {},
   "source": [
    "## Exa 2.2 page No 113"
   ]
  },
  {
   "cell_type": "code",
   "execution_count": 6,
   "metadata": {
    "collapsed": false
   },
   "outputs": [
    {
     "name": "stdout",
     "output_type": "stream",
     "text": [
      "The input ac power = 26.19 W\n",
      "The output ac power = 10.51 W\n",
      "The efficiency = 40.13 %\n",
      "The percentage regulation = 1.00 %\n"
     ]
    }
   ],
   "source": [
    "from math import pi,sqrt\n",
    "from __future__ import division\n",
    "# Given data\n",
    "Rf = 10# ohm\n",
    "R_L = 1# k ohm\n",
    "R_L = R_L * 10**3# ohm\n",
    "Vi = 230# V\n",
    "Vm = Vi*sqrt(2)\n",
    "#I_DC = Im/pi\n",
    "I_DC = Vm/((R_L+Rf)*pi)# A\n",
    "Irms = Vm/((R_L+Rf)*2)# A\n",
    "# The input ac power \n",
    "P_iAC = (Irms**2)*(Rf+R_L)# W \n",
    "print \"The input ac power = %.2f W\"%P_iAC\n",
    "# The output ac power \n",
    "P_ODC = (I_DC**2)*R_L# W\n",
    "print \"The output ac power = %.2f W\"%P_ODC\n",
    "# The efficiency \n",
    "Eta = (P_ODC/P_iAC)*100# %\n",
    "print \"The efficiency = %.2f %%\"%Eta\n",
    "# The percentage regulation \n",
    "R = (Rf/R_L)*100# %\n",
    "print \"The percentage regulation = %.2f %%\"%R\n",
    "\n",
    "# Note: The calculated value of input a.c. power in the book is wrong."
   ]
  },
  {
   "cell_type": "markdown",
   "metadata": {},
   "source": [
    "## Exa 2.3 page No 115"
   ]
  },
  {
   "cell_type": "code",
   "execution_count": 7,
   "metadata": {
    "collapsed": false
   },
   "outputs": [
    {
     "name": "stdout",
     "output_type": "stream",
     "text": [
      "The output dc voltage = 25.66 V\n",
      "The current for a load resistance = 25.66 mA\n"
     ]
    }
   ],
   "source": [
    "from math import pi,sqrt\n",
    "from __future__ import division\n",
    "# Given data\n",
    "V1 = 230# V\n",
    "N2= 1\n",
    "N1 = 4\n",
    "R_L = 1# k ohm\n",
    "R_L = R_L * 10**3# ohm\n",
    "Vd = 0.7# V\n",
    "# V_LDC = (Vm-Vd)/pi# V\n",
    "V2 = V1*(N2/N1)# V\n",
    "# Vm = sqrt(2)*Vrms\n",
    "Vm = sqrt(2)*V2# V\n",
    "# The output dc voltage \n",
    "V_LDC = (Vm-Vd)/pi# V\n",
    "print \"The output dc voltage = %.2f V\"%V_LDC\n",
    "# The current for a load resistance \n",
    "I_LDC = V_LDC/R_L# A\n",
    "I_LDC = I_LDC * 10**3# mA\n",
    "print \"The current for a load resistance = %.2f mA\"%I_LDC"
   ]
  },
  {
   "cell_type": "markdown",
   "metadata": {},
   "source": [
    "## Exa 2.7 page No 120"
   ]
  },
  {
   "cell_type": "code",
   "execution_count": 8,
   "metadata": {
    "collapsed": false
   },
   "outputs": [
    {
     "name": "stdout",
     "output_type": "stream",
     "text": [
      "The PIV rating for first diode = 81.00 V\n",
      "The PIV rating for second diode = 81.00 V\n"
     ]
    }
   ],
   "source": [
    "from math import pi,sqrt\n",
    "from __future__ import division\n",
    "# Given data\n",
    "R1 = 2.2# k ohm\n",
    "R2 = 2.2#  kohm\n",
    "R3 = 4.7# k ohm\n",
    "R = (R2*R3)/(R2+R3)# k ohm\n",
    "Vin = 200\n",
    "# Vo = (R/(R1+R))*Vin\n",
    "# The PIV rating for first diode \n",
    "Vomax= round(R/(R1+R)*Vin)# V\n",
    "print \"The PIV rating for first diode = %.2f V\"%Vomax\n",
    "Rdas = (R1*R3)/(R1+R3)# k ohm\n",
    "# Vo = (Rdas/(R1+Rdas))*(-Vin)\n",
    "# The PIV rating for second diode \n",
    "Vomax=round(Rdas/(R1+Rdas)*Vin)# V\n",
    "print \"The PIV rating for second diode = %.2f V\"%Vomax"
   ]
  },
  {
   "cell_type": "markdown",
   "metadata": {},
   "source": [
    "## Exa 2.9 page No 124"
   ]
  },
  {
   "cell_type": "code",
   "execution_count": 9,
   "metadata": {
    "collapsed": false
   },
   "outputs": [
    {
     "name": "stdout",
     "output_type": "stream",
     "text": [
      "The average current = 4.77 mA\n",
      "The RMS current = 7.50 mA\n",
      "The peak diode current = 15.00 mA\n",
      "The PIV of diode = 30.00 V\n"
     ]
    }
   ],
   "source": [
    "from math import pi,sqrt\n",
    "from __future__ import division\n",
    "\n",
    "# Given data\n",
    "# Vi = 15*sind(314*t)\n",
    "Vm = 15# V\n",
    "R_L = 1# k ohm\n",
    "R_L = R_L * 10**3# ohm\n",
    "Im = Vm/R_L# A\n",
    "Im = Im * 10**3# mA\n",
    "Idc = Im/pi# mA\n",
    "# The average current \n",
    "I_Dav = Idc# mA\n",
    "print \"The average current = %.2f mA\"%I_Dav\n",
    "# The RMS current \n",
    "I_Drms = Im/2# mA\n",
    "print \"The RMS current = %.2f mA\"%I_Drms\n",
    "# The peak diode current \n",
    "I_Dpeak = Im# mA\n",
    "print \"The peak diode current = %.2f mA\"%I_Dpeak\n",
    "# The PIV of diode \n",
    "PIV = 2*Vm# V\n",
    "print \"The PIV of diode = %.2f V\"%PIV"
   ]
  },
  {
   "cell_type": "markdown",
   "metadata": {},
   "source": [
    "## Exa 2.10 page No 125"
   ]
  },
  {
   "cell_type": "code",
   "execution_count": 10,
   "metadata": {
    "collapsed": false
   },
   "outputs": [
    {
     "name": "stdout",
     "output_type": "stream",
     "text": [
      "The average load current = 53.86 mA\n",
      "The average load voltage at no load = 54.02 V\n",
      "The average load voltage at full load = 53.86 V\n",
      "The percentage load regulation = 0.30 %\n",
      "The rectification efficiency = 80.81 %\n"
     ]
    }
   ],
   "source": [
    "from math import sqrt,pi\n",
    "from __future__ import division\n",
    "# Given data\n",
    "R_L = 1# k ohm\n",
    "R_L = R_L * 10**3# ohm\n",
    "Rf = 1# ohm\n",
    "R2 = 2# ohm\n",
    "N1 = 4\n",
    "N2 = 1\n",
    "V1rms = 240# V\n",
    "V2rms = (N2/N1)*V1rms# V\n",
    "Vm = sqrt(2)*V2rms# V\n",
    "# The average load current \n",
    "I_LDC = (2*Vm)/(pi*(R2+Rf+R_L))# A\n",
    "I_LDC= I_LDC *10**3# mA\n",
    "print \"The average load current = %.2f mA\"%I_LDC\n",
    "I_LDC= I_LDC *10**-3# A\n",
    "# The average load voltage at no load \n",
    "V_NL = (2*Vm)/pi# V\n",
    "print \"The average load voltage at no load = %.2f V\"%V_NL\n",
    "# The average load voltage at full load \n",
    "V_LDC = I_LDC*R_L# V\n",
    "print \"The average load voltage at full load = %.2f V\"%V_LDC\n",
    "# The percentage load regulation \n",
    "Per_loadReg= (V_NL-V_LDC)/V_LDC*100# %\n",
    "print \"The percentage load regulation = %.2f %%\"%Per_loadReg\n",
    "Im = Vm/(R_L+R2+Rf)# A\n",
    "Irms = Im/2# A\n",
    "P_iAC = (Vm**2)/(2*(R2+Rf+R_L))# W \n",
    "P_ODC = (I_LDC**2)*R_L# W\n",
    "# The rectification efficiency \n",
    "Eta = (P_ODC/P_iAC)*100# %\n",
    "print \"The rectification efficiency = %.2f %%\"%Eta"
   ]
  },
  {
   "cell_type": "markdown",
   "metadata": {},
   "source": [
    "## Exa 2.11 page No 127"
   ]
  },
  {
   "cell_type": "code",
   "execution_count": 11,
   "metadata": {
    "collapsed": false
   },
   "outputs": [
    {
     "name": "stdout",
     "output_type": "stream",
     "text": [
      "The required PIV = 10.00 V\n"
     ]
    }
   ],
   "source": [
    "from __future__ import division\n",
    "# Given data\n",
    "R1 = 2# k ohm\n",
    "R2 = 2# k ohm\n",
    "V_AB = 20# V\n",
    "Vo = V_AB*(R1/(R1+R2))# V\n",
    "# The required PIV \n",
    "V_AC = Vo# V\n",
    "print \"The required PIV = %.2f V\"%V_AC"
   ]
  },
  {
   "cell_type": "markdown",
   "metadata": {},
   "source": [
    "## Exa 2.12 page No 127"
   ]
  },
  {
   "cell_type": "code",
   "execution_count": 12,
   "metadata": {
    "collapsed": false
   },
   "outputs": [
    {
     "name": "stdout",
     "output_type": "stream",
     "text": [
      "The value of Idc = 1.96 A\n",
      "The RMS value of output current = 3.07 A\n"
     ]
    }
   ],
   "source": [
    "from math import sqrt,pi\n",
    "from __future__ import division\n",
    "# Given data\n",
    "Vrms = 10# V\n",
    "r_f = 0.3# ohm\n",
    "R_L = 2# ohm\n",
    "Vm = sqrt(2)*Vrms# V\n",
    "Im = Vm/(R_L+r_f)# A\n",
    "# The value of Idc \n",
    "Idc = Im/pi# A\n",
    "print \"The value of Idc = %.2f A\"%Idc\n",
    "# The RMS value of output current \n",
    "Irms = Im/2# A\n",
    "print \"The RMS value of output current = %.2f A\"%Irms"
   ]
  },
  {
   "cell_type": "markdown",
   "metadata": {},
   "source": [
    "## Exa 2.13 page No 128"
   ]
  },
  {
   "cell_type": "code",
   "execution_count": 15,
   "metadata": {
    "collapsed": false
   },
   "outputs": [
    {
     "name": "stdout",
     "output_type": "stream",
     "text": [
      "The ripple factor = 0.1\n"
     ]
    }
   ],
   "source": [
    "from __future__ import division\n",
    "# Given data\n",
    "Vdc = 50# V\n",
    "Vrms = 5# V\n",
    "# The ripple factor,\n",
    "Gamma = Vrms/Vdc\n",
    "print \"The ripple factor = %.1f\"%Gamma"
   ]
  },
  {
   "cell_type": "markdown",
   "metadata": {},
   "source": [
    "## Exa 2.14 page No 128"
   ]
  },
  {
   "cell_type": "code",
   "execution_count": 16,
   "metadata": {
    "collapsed": false
   },
   "outputs": [
    {
     "name": "stdout",
     "output_type": "stream",
     "text": [
      "The mean load current = 45.00 mA\n",
      "The RMS load current = 50.00 mA\n",
      "The output efficiency = 79.58 %\n"
     ]
    }
   ],
   "source": [
    "from math import sqrt,pi\n",
    "from __future__ import division\n",
    "# Given data\n",
    "Vrms = 50# V\n",
    "r_f = 20# ohm\n",
    "R_L = 980# ohm\n",
    "Vm = sqrt(2)*Vrms# V\n",
    "Im = (Vm)/(R_L+r_f)\n",
    "# The mean load current \n",
    "Idc = (2*Im)/pi# A\n",
    "Idc = round(Idc * 10**3)# mA\n",
    "print \"The mean load current = %.2f mA\"%Idc\n",
    "# The RMS load current \n",
    "Irms = Im/sqrt(2)# A\n",
    "Irms = Irms*10**3# mA\n",
    "print \"The RMS load current = %.2f mA\"%Irms\n",
    "a = 0.812## assumed\n",
    "# The output efficiency \n",
    "Eta = a/(1+(r_f/R_L))\n",
    "Eta = Eta * 100# %\n",
    "print \"The output efficiency = %.2f %%\"%Eta"
   ]
  },
  {
   "cell_type": "markdown",
   "metadata": {},
   "source": [
    "## Exa 2.15 page No 129"
   ]
  },
  {
   "cell_type": "code",
   "execution_count": 17,
   "metadata": {
    "collapsed": false
   },
   "outputs": [
    {
     "name": "stdout",
     "output_type": "stream",
     "text": [
      "The output voltage for a complete cycle = 10.00 V\n",
      "The output voltage for half negative cycle = 2.50 V\n"
     ]
    }
   ],
   "source": [
    "from __future__ import division\n",
    "# Given data\n",
    "V = 10# V\n",
    "V1 = 2.5# V\n",
    "R = 1# Mohm\n",
    "R = R * 10**6# ohm\n",
    "i = (V-V1)/R# A\n",
    "i = i * 10**6# µA\n",
    "# The output voltage for a complete cycle \n",
    "Vo1 = (i*10**-6*R)+V1# V\n",
    "print \"The output voltage for a complete cycle = %.2f V\"%Vo1\n",
    "# The output voltage for half neagtive cycle \n",
    "Vo2 = V1# V\n",
    "print \"The output voltage for half negative cycle = %.2f V\"%Vo2"
   ]
  },
  {
   "cell_type": "markdown",
   "metadata": {},
   "source": [
    "## Exa 2.17 page No 130"
   ]
  },
  {
   "cell_type": "code",
   "execution_count": 18,
   "metadata": {
    "collapsed": false
   },
   "outputs": [
    {
     "name": "stdout",
     "output_type": "stream",
     "text": [
      "The dc output voltage = 20.71 V\n",
      "The PIV value = 65.00 V\n",
      "The rectification efficiency = 81.20 %\n"
     ]
    }
   ],
   "source": [
    "from __future__ import division\n",
    "from math import sqrt,pi\n",
    "# Given data\n",
    "V1 = 230## iin V\n",
    "N2 = 1\n",
    "N1 = 5\n",
    "R_L = 100# ohm\n",
    "V2 = V1*N2/N1# V\n",
    "Vrms = V2# V\n",
    "Vs = V2/2# V\n",
    "Vm = sqrt(2)*Vs# V\n",
    "# The dc output voltage \n",
    "Vdc = (2*Vm)/pi# V\n",
    "print \"The dc output voltage = %.2f V\"%Vdc\n",
    "# The PIV value \n",
    "PIV = round(2*Vm)# V\n",
    "print \"The PIV value = %.2f V\"%PIV\n",
    "# The rectification efficiency \n",
    "Eta = 0.812\n",
    "Eta = Eta*100# %\n",
    "print \"The rectification efficiency = %.2f %%\"%Eta"
   ]
  },
  {
   "cell_type": "markdown",
   "metadata": {},
   "source": [
    "## Exa 2.18 page No 131"
   ]
  },
  {
   "cell_type": "code",
   "execution_count": 19,
   "metadata": {
    "collapsed": false
   },
   "outputs": [
    {
     "name": "stdout",
     "output_type": "stream",
     "text": [
      "The dc output volatge = 19.81 V\n",
      "The rectification efficiency = 81.06 %\n",
      "The peak inverse volatge = 31.11 V\n",
      "The output frequency = 100.00 Hz\n"
     ]
    }
   ],
   "source": [
    "from math import sqrt,pi\n",
    "from __future__ import division\n",
    "# Given data\n",
    "V1 = 220# V\n",
    "N2 = 1\n",
    "N1 = 10\n",
    "R_L = 250# ohm\n",
    "V2 = V1 * (N2/N1)# V\n",
    "Vm = sqrt(2)*V2# V\n",
    "Im =Vm/R_L# A\n",
    "Iav = (2*Im)/pi# A\n",
    "Idc = Iav# A\n",
    "# The dc output volatge \n",
    "Vdc = Idc* R_L# V\n",
    "print \"The dc output volatge = %.2f V\"%Vdc\n",
    "Pdc = (Idc**2)*R_L# W\n",
    "Irms = (Im)/sqrt(2)# A\n",
    "Pac = (Irms**2)*R_L# W\n",
    "# The rectification efficiency \n",
    "Eta = (Pdc/Pac)*100# %\n",
    "print \"The rectification efficiency = %.2f %%\"%Eta\n",
    "# The peak inverse volatge \n",
    "PIV = Vm# V\n",
    "print \"The peak inverse volatge = %.2f V\"%PIV\n",
    "f_in = 50# Hz\n",
    "# The output frequency \n",
    "f_out = 2*f_in# Hz\n",
    "print \"The output frequency = %.2f Hz\"%f_out\n",
    "\n",
    "# Note: The answer of rectification efficiency in the book is not accurate."
   ]
  },
  {
   "cell_type": "markdown",
   "metadata": {},
   "source": [
    "## Exa 2.21 page No 136"
   ]
  },
  {
   "cell_type": "code",
   "execution_count": 21,
   "metadata": {
    "collapsed": false
   },
   "outputs": [
    {
     "name": "stdout",
     "output_type": "stream",
     "text": [
      "The input voltage required = 43.16 V\n"
     ]
    }
   ],
   "source": [
    "from math import sqrt,pi\n",
    "from __future__ import division\n",
    "# Given data\n",
    "R_F = 0.01\n",
    "Vdc = 30# V\n",
    "R_L = 1#  k ohm\n",
    "R_L = R_L * 10**3# ohm\n",
    "Idc = Vdc/R_L# A\n",
    "Idc = Idc * 10**3# mA\n",
    "# Vdc = Vm-( (5000*Idc)/C )\n",
    "Gamma = 0.01## ripple factor\n",
    "#Gamma = 2900/(C*R_L)\n",
    "C = 2900/(Gamma*R_L)# F\n",
    "Vm = Vdc + ((5000*Idc*10**-3)/C)# V\n",
    "# The input voltage required \n",
    "V2 = (2*Vm)/sqrt(2)# V \n",
    "print \"The input voltage required = %.2f V\"%V2\n",
    "\n",
    "#Note: The value of Vm in the book is not accurate, So the answer in the book is wrong."
   ]
  },
  {
   "cell_type": "markdown",
   "metadata": {},
   "source": [
    "## Exa 2.22 page No 137"
   ]
  },
  {
   "cell_type": "code",
   "execution_count": 22,
   "metadata": {
    "collapsed": false
   },
   "outputs": [
    {
     "name": "stdout",
     "output_type": "stream",
     "text": [
      "The value of L = 0.13 H\n",
      "The value of C = 300.11 µF\n"
     ]
    }
   ],
   "source": [
    "from math import sqrt,pi\n",
    "from __future__ import division\n",
    "# Given data\n",
    "V_L = 25# V\n",
    "I_L = 200# mA\n",
    "I_L = I_L * 10**-3# A\n",
    "R_L = V_L/I_L# ohm\n",
    "Gamma = 3/100\n",
    "#Gamma = 1/(6*sqrt(2)*(omega**2)*L*C)\n",
    "f = 50# Hz\n",
    "omega = 2*pi*f# rad/sec\n",
    "#LC = 1/( 6*sqrt(2)*(omega**2)*Gamma )\n",
    "L = R_L/(3*omega)# H\n",
    "print \"The value of L = %.2f H\"%L\n",
    "C = 1/( 6*sqrt(2)*(omega**2)*Gamma*L )# F\n",
    "C = C * 10**6# µF\n",
    "print \"The value of C = %.2f µF\"%C"
   ]
  },
  {
   "cell_type": "markdown",
   "metadata": {},
   "source": [
    "## Exa 2.23 page No 138"
   ]
  },
  {
   "cell_type": "code",
   "execution_count": 24,
   "metadata": {
    "collapsed": false
   },
   "outputs": [
    {
     "name": "stdout",
     "output_type": "stream",
     "text": [
      "The output voltage = 13.50 V\n",
      "The current = 2.70 A\n",
      "The ripple factor = 0.02\n",
      "The maximum value of R_L = 10.00 ohm\n"
     ]
    }
   ],
   "source": [
    "from math import sqrt,pi\n",
    "from __future__ import division\n",
    "# Given data\n",
    "Vm  = 15# V\n",
    "# The output voltage \n",
    "Vdc = (2*sqrt(2)*Vm)/pi# V\n",
    "print \"The output voltage = %.2f V\"%Vdc\n",
    "R_L = 5# ohm\n",
    "Idc = Vdc/R_L# A\n",
    "print \"The current = %.2f A\"%Idc\n",
    "L = 50# mH\n",
    "L = L * 10**-3# H\n",
    "C = 1000# µF\n",
    "C = C * 10**-6# F\n",
    "f = 50# Hz\n",
    "omega = 2*pi*f# rad/sec\n",
    "# The ripple factor \n",
    "Gamma = 1/( 6*sqrt(2)*(omega**2)*L*C )\n",
    "print \"The ripple factor = %.2f\"%Gamma\n",
    "# Im =Vm/X_L = (Vm*sqrt(2))/(2*pi*f*L)\n",
    "Im = (Vm*sqrt(2))/(2*pi*f*L)# A\n",
    "I_Lmin = Im# A\n",
    "# The maximum value of R_L \n",
    "R_Lmax = Vdc/I_Lmin# ohm\n",
    "print \"The maximum value of R_L = %.2f ohm\"%R_Lmax"
   ]
  },
  {
   "cell_type": "markdown",
   "metadata": {},
   "source": [
    "## Exa 2.24 page No 139"
   ]
  },
  {
   "cell_type": "code",
   "execution_count": 25,
   "metadata": {
    "collapsed": false
   },
   "outputs": [
    {
     "name": "stdout",
     "output_type": "stream",
     "text": [
      "The percentage ripple = 0.01 %\n"
     ]
    }
   ],
   "source": [
    "from math import sqrt,pi\n",
    "from __future__ import division\n",
    "# Given data\n",
    "f = 50# Hz\n",
    "Vrms = 280# V\n",
    "Vm = sqrt(2)*Vrms# V\n",
    "V_Lmax = Vm# V\n",
    "Idc = 100# mA\n",
    "Idc =Idc * 10**-3# A\n",
    "C2 = 10# µF\n",
    "C2 = C2 * 10**-6# F\n",
    "C1 = C2 # F\n",
    "R_L =V_Lmax/Idc# ohm\n",
    "L = 104# H\n",
    "omega = 2*pi*f# rad/sec\n",
    "# The percentage ripple \n",
    "Gamma = sqrt(2)/( 8*omega**3*C1*C2*L*R_L)*100# %\n",
    "print \"The percentage ripple = %.2f %%\"%Gamma\n",
    "\n",
    "# Note: There is calculation error to find the value of gamma, So the answer in the book is wrong."
   ]
  },
  {
   "cell_type": "markdown",
   "metadata": {},
   "source": [
    "## Exa 2.25 page No 140"
   ]
  },
  {
   "cell_type": "code",
   "execution_count": 27,
   "metadata": {
    "collapsed": false
   },
   "outputs": [
    {
     "name": "stdout",
     "output_type": "stream",
     "text": [
      "Peak output voltage = 15.00 V\n"
     ]
    }
   ],
   "source": [
    "from __future__ import division\n",
    "# Given data\n",
    "Vin = 15# V\n",
    "# Peak output voltage,\n",
    "Vout = Vin# V\n",
    "print \"Peak output voltage = %.2f V\"%Vout"
   ]
  },
  {
   "cell_type": "markdown",
   "metadata": {},
   "source": [
    "## Exa 2.26 page No 140"
   ]
  },
  {
   "cell_type": "code",
   "execution_count": 28,
   "metadata": {
    "collapsed": false
   },
   "outputs": [
    {
     "name": "stdout",
     "output_type": "stream",
     "text": [
      "The peak output voltage = 2.50 V\n"
     ]
    }
   ],
   "source": [
    "from __future__ import division\n",
    "# Given data\n",
    "R_L = 2# k ohm\n",
    "R_L = R_L * 10**3# ohm\n",
    "R = 2# k ohm\n",
    "R = R * 10**3# ohm\n",
    "Vin = 5# V\n",
    "# The peak output voltage \n",
    "Vout = (R_L/(R+R_L))*Vin# V\n",
    "print \"The peak output voltage = %.2f V\"%Vout"
   ]
  },
  {
   "cell_type": "markdown",
   "metadata": {},
   "source": [
    "## Exa 2.27 page No 141"
   ]
  },
  {
   "cell_type": "code",
   "execution_count": 29,
   "metadata": {
    "collapsed": false
   },
   "outputs": [
    {
     "name": "stdout",
     "output_type": "stream",
     "text": [
      "The value of i_Rmax = 0.40 mA\n",
      "The value of i_R = -0.20 mA\n"
     ]
    }
   ],
   "source": [
    "from __future__ import division\n",
    "# Given data\n",
    "Vi = 10# V\n",
    "V1 = 6# V\n",
    "R = 10# k ohm\n",
    "R = R * 10**3# ohm\n",
    "# The value of i_Rmax\n",
    "i_Rmax = (Vi-V1)/R# A\n",
    "i_Rmax = i_Rmax * 10**3# mA\n",
    "Vi = -10# V\n",
    "V1 = 8# V\n",
    "# The value of i_R \n",
    "i_R =(Vi+V1)/R# A\n",
    "i_R  =i_R * 10**3# mA\n",
    "print \"The value of i_Rmax = %.2f mA\"%i_Rmax\n",
    "print \"The value of i_R = %.2f mA\"%i_R"
   ]
  },
  {
   "cell_type": "markdown",
   "metadata": {},
   "source": [
    "## Exa 2.28 page No 142"
   ]
  },
  {
   "cell_type": "code",
   "execution_count": 30,
   "metadata": {
    "collapsed": false
   },
   "outputs": [
    {
     "name": "stdout",
     "output_type": "stream",
     "text": [
      "The output voltage = -11.30 V\n"
     ]
    }
   ],
   "source": [
    "from __future__ import division\n",
    "# Given data\n",
    "Vout = -0.7# V\n",
    "V = -12# V\n",
    "# The output voltage \n",
    "V_R =V-Vout# V\n",
    "print \"The output voltage = %.2f V\"%V_R"
   ]
  },
  {
   "cell_type": "markdown",
   "metadata": {},
   "source": [
    "## Exa 2.29 page No 143"
   ]
  },
  {
   "cell_type": "code",
   "execution_count": 32,
   "metadata": {
    "collapsed": false
   },
   "outputs": [
    {
     "name": "stdout",
     "output_type": "stream",
     "text": [
      "During positive half cycle the output voltage = 2.00 V\n",
      "During negative half cycle the output voltage = -18.00 V\n"
     ]
    }
   ],
   "source": [
    "from __future__ import division\n",
    "# Given data\n",
    "Vin = 10# V\n",
    "V1 = 2# V\n",
    "# Vin -V_C - V1 = 0\n",
    "V_C =Vin-V1# V\n",
    "# During positive half cycle the output voltage \n",
    "Vout = Vin-V_C# V\n",
    "print \"During positive half cycle the output voltage = %.2f V\"%Vout\n",
    "Vin = -10# V\n",
    "V1 = 8# V\n",
    "# Vin-V1-Vout = 0\n",
    "# During negative half cycle the output voltage \n",
    "Vout = Vin-V1# V\n",
    "print \"During negative half cycle the output voltage = %.2f V\"%Vout"
   ]
  },
  {
   "cell_type": "markdown",
   "metadata": {},
   "source": [
    "## Exa 2.30 page No 145"
   ]
  },
  {
   "cell_type": "code",
   "execution_count": 33,
   "metadata": {
    "collapsed": false
   },
   "outputs": [
    {
     "name": "stdout",
     "output_type": "stream",
     "text": [
      "During positive half cycle the output voltage = -2.00 V\n",
      "During negative half cycle the output voltage = -22.00 V\n"
     ]
    }
   ],
   "source": [
    "from __future__ import division\n",
    "# Given data\n",
    "Vin = 10# V\n",
    "V1 = 2# V\n",
    "# Vin-V_C+V1 = 0\n",
    "V_C = Vin+V1# V\n",
    "#During positive half cycle the output voltage \n",
    "Vout = Vin-V_C# V\n",
    "print \"During positive half cycle the output voltage = %.2f V\"%Vout\n",
    "Vin = -10## iin V\n",
    "V1 = 12# V\n",
    "# Vin-V1-Vout = 0\n",
    "#During negative half cycle the output voltage \n",
    "Vout = Vin-V1# V\n",
    "print \"During negative half cycle the output voltage = %.2f V\"%Vout"
   ]
  },
  {
   "cell_type": "markdown",
   "metadata": {},
   "source": [
    "## Exa 2.31 page No 146"
   ]
  },
  {
   "cell_type": "code",
   "execution_count": 34,
   "metadata": {
    "collapsed": false
   },
   "outputs": [
    {
     "name": "stdout",
     "output_type": "stream",
     "text": [
      "The value of Vo = 35.00 V\n"
     ]
    }
   ],
   "source": [
    "from __future__ import division\n",
    "# Given data\n",
    "Vi = 20# V\n",
    "V1 = 5# V\n",
    "Vc = Vi-V1# V\n",
    "Vo = -5# V\n",
    "# The value of Vo,\n",
    "Vo = Vi+Vc# V\n",
    "print \"The value of Vo = %.2f V\"%Vo"
   ]
  }
 ],
 "metadata": {
  "kernelspec": {
   "display_name": "Python 2",
   "language": "python",
   "name": "python2"
  },
  "language_info": {
   "codemirror_mode": {
    "name": "ipython",
    "version": 2
   },
   "file_extension": ".py",
   "mimetype": "text/x-python",
   "name": "python",
   "nbconvert_exporter": "python",
   "pygments_lexer": "ipython2",
   "version": "2.7.9"
  }
 },
 "nbformat": 4,
 "nbformat_minor": 0
}
