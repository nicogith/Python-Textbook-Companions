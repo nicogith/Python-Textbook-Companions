{
 "metadata": {
  "name": "",
  "signature": "sha256:ea49c9c54a7abfea63e3838cff940d23d5976ae6af1b86c7e497f10ce35239cd"
 },
 "nbformat": 3,
 "nbformat_minor": 0,
 "worksheets": [
  {
   "cells": [
    {
     "cell_type": "heading",
     "level": 1,
     "metadata": {},
     "source": [
      "14: Waves and Particles"
     ]
    },
    {
     "cell_type": "heading",
     "level": 2,
     "metadata": {},
     "source": [
      "Example number 14.1, Page number 17"
     ]
    },
    {
     "cell_type": "code",
     "collapsed": false,
     "input": [
      "#importing modules\n",
      "import math\n",
      "from __future__ import division\n",
      "\n",
      "#Variable declaration\n",
      "V=150;    #potential difference(V)\n",
      "e=1.6*10**-19;   #charge of electron(c)\n",
      "m=9.1*10**-31;   #mass of electron(kg)\n",
      "h=6.626*10**-34;   #planck's constant\n",
      "\n",
      "#Calculation\n",
      "lamda=h/math.sqrt(2*m*e*V);    #de broglie wavelength of electron(m)\n",
      "\n",
      "#Result\n",
      "print \"de broglie wavelength of electron is\",round(lamda*10**10,5),\"*10**-10 m\""
     ],
     "language": "python",
     "metadata": {},
     "outputs": [
      {
       "output_type": "stream",
       "stream": "stdout",
       "text": [
        "de broglie wavelength of electron is 1.00256 *10**-10 m\n"
       ]
      }
     ],
     "prompt_number": 3
    },
    {
     "cell_type": "heading",
     "level": 2,
     "metadata": {},
     "source": [
      "Example number 14.2, Page number 17"
     ]
    },
    {
     "cell_type": "code",
     "collapsed": false,
     "input": [
      "#importing modules\n",
      "import math\n",
      "from __future__ import division\n",
      "\n",
      "#Variable declaration\n",
      "E=0.025;    #energy of electron(MeV)\n",
      "e=1.6*10**-19;   #charge of electron(c)\n",
      "m=9.1*10**-31;   #mass of electron(kg)\n",
      "h=6.626*10**-34;   #planck's constant\n",
      "\n",
      "#Calculation\n",
      "E=E*10**6*e;   #energy of electron(J)\n",
      "v=math.sqrt(2*E/m);   #velocity of electron(m/s)\n",
      "lamda=h/(m*v);    #de broglie wavelength(m)\n",
      "\n",
      "#Result\n",
      "print \"de broglie wavelength is\",round(lamda*10**10,5),\"angstrom\""
     ],
     "language": "python",
     "metadata": {},
     "outputs": [
      {
       "output_type": "stream",
       "stream": "stdout",
       "text": [
        "de broglie wavelength is 0.07766 angstrom\n"
       ]
      }
     ],
     "prompt_number": 6
    },
    {
     "cell_type": "heading",
     "level": 2,
     "metadata": {},
     "source": [
      "Example number 14.3, Page number 18"
     ]
    },
    {
     "cell_type": "code",
     "collapsed": false,
     "input": [
      "#importing modules\n",
      "import math\n",
      "from __future__ import division\n",
      "\n",
      "#Variable declaration\n",
      "E=1;    #kinetic energy of electron(MeV)\n",
      "e=1.6*10**-19;   #charge of electron(c)\n",
      "m=9.1*10**-31;   #mass of electron(kg)\n",
      "h=6.626*10**-34;   #planck's constant\n",
      "\n",
      "#Calculation\n",
      "E=E*10**6*e;   #energy of electron(J)\n",
      "v=math.sqrt(2*E/m);   #velocity of electron(m/s)\n",
      "lamda=h/(m*v);    #de broglie wavelength of electron(m)\n",
      "\n",
      "#Result\n",
      "print \"de broglie wavelength of electron is\",round(lamda*10**10,5),\"angstrom\""
     ],
     "language": "python",
     "metadata": {},
     "outputs": [
      {
       "output_type": "stream",
       "stream": "stdout",
       "text": [
        "de broglie wavelength of electron is 0.01228 angstrom\n"
       ]
      }
     ],
     "prompt_number": 9
    },
    {
     "cell_type": "heading",
     "level": 2,
     "metadata": {},
     "source": [
      "Example number 14.4, Page number 18"
     ]
    },
    {
     "cell_type": "code",
     "collapsed": false,
     "input": [
      "#importing modules\n",
      "import math\n",
      "from __future__ import division\n",
      "\n",
      "#Variable declaration\n",
      "V=100;    #potential difference(V)\n",
      "e=1.6*10**-19;   #charge of electron(c)\n",
      "m=9.1*10**-31;   #mass of electron(kg)\n",
      "h=6.626*10**-34;   #planck's constant\n",
      "c=3*10**8;    #velocity of light(m/s)\n",
      "\n",
      "#Calculation\n",
      "v=math.sqrt(2*e*V/m);   #velocity of electron(m/s)\n",
      "u=c**2/v;     #phase velocity of electron(m/s)\n",
      "lamda=h/(m*v);    #de broglie wavelength of electron(m)\n",
      "p=m*v;    #momentum of electron(kg m/s)\n",
      "vbar=1/lamda;   #wave number of electron wave(per m)\n",
      "\n",
      "#Result\n",
      "print \"velocity of electron is\",round(v/10**6,5),\"*10**6 m/s\"\n",
      "print \"phase velocity of electron is\",round(u/10**10,4),\"*10**10 m/s\"\n",
      "print \"de broglie wavelength of electron is\",round(lamda*10**10,3),\"angstrom\"\n",
      "print \"momentum of electron is\",round(p*10**24,3),\"*10**-24 kg m/s\"\n",
      "print \"wave number of electron wave is\",round(vbar/10**9,3),\"*10**9 per m\""
     ],
     "language": "python",
     "metadata": {},
     "outputs": [
      {
       "output_type": "stream",
       "stream": "stdout",
       "text": [
        "velocity of electron is 5.92999 *10**6 m/s\n",
        "phase velocity of electron is 1.5177 *10**10 m/s\n",
        "de broglie wavelength of electron is 1.228 angstrom\n",
        "momentum of electron is 5.396 *10**-24 kg m/s\n",
        "wave number of electron wave is 8.144 *10**9 per m\n"
       ]
      }
     ],
     "prompt_number": 17
    },
    {
     "cell_type": "heading",
     "level": 2,
     "metadata": {},
     "source": [
      "Example number 14.5, Page number 19"
     ]
    },
    {
     "cell_type": "code",
     "collapsed": false,
     "input": [
      "#importing modules\n",
      "import math\n",
      "from __future__ import division\n",
      "\n",
      "#Variable declaration\n",
      "deltax=10**-14;   #radius of nucleus(m)\n",
      "m=1.67*10**-27;   #mass of proton(kg)\n",
      "h=6.626*10**-34;   #planck's constant\n",
      "e=1.6*10**-19;   #charge of electron(c)\n",
      "\n",
      "#Calculation\n",
      "deltap=h/(2*math.pi*deltax);   #uncertainity in momentum of proton(kg m/s)\n",
      "KE=deltap**2/(2*m);    #minimum kinetic energy of proton(J)\n",
      "KE=KE/(e*10**6);    #minimum kinetic energy of proton(MeV)\n",
      "\n",
      "#Result\n",
      "print \"uncertainity in momentum of proton is\",round(deltap*10**20,4),\"*10**-20 kg m/s\"\n",
      "print \"minimum kinetic energy of proton is\",round(KE,3),\"MeV\""
     ],
     "language": "python",
     "metadata": {},
     "outputs": [
      {
       "output_type": "stream",
       "stream": "stdout",
       "text": [
        "uncertainity in momentum of proton is 1.0546 *10**-20 kg m/s\n",
        "minimum kinetic energy of proton is 0.208 MeV\n"
       ]
      }
     ],
     "prompt_number": 19
    },
    {
     "cell_type": "heading",
     "level": 2,
     "metadata": {},
     "source": [
      "Example number 14.6, Page number 20"
     ]
    },
    {
     "cell_type": "code",
     "collapsed": false,
     "input": [
      "#importing modules\n",
      "import math\n",
      "from __future__ import division\n",
      "\n",
      "#Variable declaration\n",
      "deltax=0.1*10**-10;   #uncertainity in position of electron(m)\n",
      "h=6.626*10**-34;   #planck's constant\n",
      "\n",
      "#Calculation\n",
      "deltap=h/(2*math.pi*deltax);   #uncertainity in momentum of electron(kg m/s)\n",
      "\n",
      "#Result\n",
      "print \"uncertainity in momentum of electron is\",round(deltap*10**23,4),\"*10**-23 kg m/s\""
     ],
     "language": "python",
     "metadata": {},
     "outputs": [
      {
       "output_type": "stream",
       "stream": "stdout",
       "text": [
        "uncertainity in momentum of electron is 1.0546 *10**-23 kg m/s\n"
       ]
      }
     ],
     "prompt_number": 21
    },
    {
     "cell_type": "heading",
     "level": 2,
     "metadata": {},
     "source": [
      "Example number 14.7, Page number 20"
     ]
    },
    {
     "cell_type": "code",
     "collapsed": false,
     "input": [
      "#importing modules\n",
      "import math\n",
      "from __future__ import division\n",
      "\n",
      "#Variable declaration\n",
      "m=9.1*10**-31;   #mass of electron(kg)\n",
      "h=6.626*10**-34;   #planck's constant\n",
      "a=1*10**-10;   #width of potential wall(m)\n",
      "n1=1; \n",
      "n2=2;\n",
      "n3=3;\n",
      "e=6.24*10**18;  #conversion factor from J to eV\n",
      "\n",
      "#Calculation\n",
      "En=(h**2)/(8*m*(a**2));   #energy of electron(J)\n",
      "E1=En*n1**2;   #energy of 1st excited state(J)\n",
      "E1=E1*e;   #energy of 1st excited state(eV)\n",
      "E2=En*n2**2;   #energy of 2nd excited state(J)\n",
      "E2=E2*e;   #energy of 2nd excited state(eV)\n",
      "E3=En*n3**2;   #energy of 3rd excited state(J)\n",
      "E3=E3*e;   #energy of 3rd excited state(eV)\n",
      "\n",
      "#Result\n",
      "print \"first 3 permitted energy levels of electron are\",round(E1,2),\"eV\",round(E2,2),\"eV and\",round(E3,2),\"eV\"\n",
      "print \"answers given in the book vary due to rounding off errors\""
     ],
     "language": "python",
     "metadata": {},
     "outputs": [
      {
       "output_type": "stream",
       "stream": "stdout",
       "text": [
        "first 3 permitted energy levels of electron are 37.63 eV 150.53 eV and 338.69 eV\n",
        "answers given in the book vary due to rounding off errors\n"
       ]
      }
     ],
     "prompt_number": 30
    }
   ],
   "metadata": {}
  }
 ]
}