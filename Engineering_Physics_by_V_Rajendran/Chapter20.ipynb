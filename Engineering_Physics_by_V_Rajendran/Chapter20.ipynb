{
 "metadata": {
  "name": "",
  "signature": "sha256:e20abe68023c39c2fa0cfc7eae20109c8c692466fb3387d83d01339972209a5e"
 },
 "nbformat": 3,
 "nbformat_minor": 0,
 "worksheets": [
  {
   "cells": [
    {
     "cell_type": "heading",
     "level": 1,
     "metadata": {},
     "source": [
      "20: Magnetic materials"
     ]
    },
    {
     "cell_type": "heading",
     "level": 2,
     "metadata": {},
     "source": [
      "Example number 20.1, Page number 39"
     ]
    },
    {
     "cell_type": "code",
     "collapsed": false,
     "input": [
      "#importing modules\n",
      "import math\n",
      "from __future__ import division\n",
      "\n",
      "#Variable declaration\n",
      "M=2300;   #magnetisation(A/m)\n",
      "B=0.00314;   #flux density(Wb/m**2)\n",
      "mew0=4*math.pi*10**-7;\n",
      "\n",
      "#Calculation\n",
      "H=(B/mew0)-M;   #magnetizing force(A/m)\n",
      "mew_r=(M/H)+1;  #relative permeability\n",
      "\n",
      "#Result\n",
      "print \"magnetizing force is\",round(H,4),\"A/m\"\n",
      "print \"relative permeability is\",round(mew_r,5)"
     ],
     "language": "python",
     "metadata": {},
     "outputs": [
      {
       "output_type": "stream",
       "stream": "stdout",
       "text": [
        "magnetizing force is 198.7326 A/m\n",
        "relative permeability is 12.57334\n"
       ]
      }
     ],
     "prompt_number": 2
    },
    {
     "cell_type": "heading",
     "level": 2,
     "metadata": {},
     "source": [
      "Example number 20.2, Page number 40"
     ]
    },
    {
     "cell_type": "code",
     "collapsed": false,
     "input": [
      "#importing modules\n",
      "import math\n",
      "from __future__ import division\n",
      "\n",
      "#Variable declaration\n",
      "H=10**4;   #magnetic field intensity(A/m)\n",
      "chi=3.7*10**-3;   #susceptibility\n",
      "mew0=4*math.pi*10**-7;\n",
      "\n",
      "#Calculation\n",
      "M=chi*H;   #magnetisation(A/m)\n",
      "B=mew0*(M+H);   #flux density(Wb/m**2)\n",
      "\n",
      "#Result\n",
      "print \"magnetisation is\",M,\"A/m\"\n",
      "print \"flux density is\",round(B*10**2,2),\"*10**-2 Wb/m**2\""
     ],
     "language": "python",
     "metadata": {},
     "outputs": [
      {
       "output_type": "stream",
       "stream": "stdout",
       "text": [
        "magnetisation is 37.0 A/m\n",
        "flux density is 1.26 *10**-2 Wb/m**2\n"
       ]
      }
     ],
     "prompt_number": 4
    },
    {
     "cell_type": "heading",
     "level": 2,
     "metadata": {},
     "source": [
      "Example number 20.3, Page number 41"
     ]
    },
    {
     "cell_type": "code",
     "collapsed": false,
     "input": [
      "#importing modules\n",
      "import math\n",
      "from __future__ import division\n",
      "\n",
      "#Variable declaration\n",
      "a=2.5*10**-10;   #interatomic spacing(m)\n",
      "M=1.8*10**6;   #magnetisation(A/m)\n",
      "n=2;   #number of atoms present in unit cell\n",
      "e=1.6*10**-19;   #charge of electron(c)\n",
      "m=9.1*10**-31;   #mass of electron(kg)\n",
      "h=6.625*10**-34;   #planck's constant\n",
      "\n",
      "#Calculation\n",
      "nv=n/(a**3);   #number of atoms present per unit volume(per m**3)\n",
      "Ma=M/nv;   #magnetisation produced per atom(A/m**2)\n",
      "beta=e*h/(4*math.pi*m);   #bohr magneton(A/m**2)\n",
      "Ma=Ma/beta;   #magnetisation produced per atom(bohr magneton)\n",
      "\n",
      "#Result\n",
      "print \"average magnetisation produced per atom is\",round(Ma,3),\"bohr magneton\""
     ],
     "language": "python",
     "metadata": {},
     "outputs": [
      {
       "output_type": "stream",
       "stream": "stdout",
       "text": [
        "average magnetisation produced per atom is 1.517 bohr magneton\n"
       ]
      }
     ],
     "prompt_number": 7
    }
   ],
   "metadata": {}
  }
 ]
}