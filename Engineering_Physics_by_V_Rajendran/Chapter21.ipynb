{
 "metadata": {
  "name": "",
  "signature": "sha256:dd76b185872085137646ef650e27e3207f4aa1a0d590f7c3a0d53ab66156e953"
 },
 "nbformat": 3,
 "nbformat_minor": 0,
 "worksheets": [
  {
   "cells": [
    {
     "cell_type": "heading",
     "level": 1,
     "metadata": {},
     "source": [
      "21: Dielectric Materials"
     ]
    },
    {
     "cell_type": "heading",
     "level": 2,
     "metadata": {},
     "source": [
      "Example number 21.1, Page number 27"
     ]
    },
    {
     "cell_type": "code",
     "collapsed": false,
     "input": [
      "#importing modules\n",
      "import math\n",
      "from __future__ import division\n",
      "\n",
      "#Variable declaration\n",
      "a=0.629*10**-9;   #lattice parameter(m)\n",
      "alphaeK=1.26*10**-40;   #electronic polarizability for K+(F/m**2)\n",
      "alphaeCl=3.408*10**-40;   #electronic polarizability for Cl-(F/m**2)\n",
      "n=4;   #number of atoms\n",
      "epsilon0=8.854*10**-12;\n",
      "\n",
      "#Calculation\n",
      "alphae=alphaeK+alphaeCl;   #electronic polarizability for KCl(F/m**2)\n",
      "N=n/(a**3);   #number of dipoles(atoms/m**3)\n",
      "epsilonr=(N*alphae/epsilon0)+1;   #dielectric constant of KCl\n",
      "\n",
      "#Result\n",
      "print \"dielectric constant of KCl is\",round(epsilonr,4)"
     ],
     "language": "python",
     "metadata": {},
     "outputs": [
      {
       "output_type": "stream",
       "stream": "stdout",
       "text": [
        "dielectric constant of KCl is 1.8474\n"
       ]
      }
     ],
     "prompt_number": 8
    },
    {
     "cell_type": "heading",
     "level": 2,
     "metadata": {},
     "source": [
      "Example number 21.2, Page number 27"
     ]
    },
    {
     "cell_type": "code",
     "collapsed": false,
     "input": [
      "#importing modules\n",
      "import math\n",
      "from __future__ import division\n",
      "\n",
      "#Variable declaration\n",
      "R=0.12*10**-9;   #atomic radius of Se(m)\n",
      "epsilon0=8.854*10**-12;\n",
      "\n",
      "#Calculation\n",
      "alphae=4*math.pi*epsilon0*(R**3);   #electronic polarizability of isolated Se(F/m**2)\n",
      "\n",
      "#Result\n",
      "print \"electronic polarizability of isolated Se is\",round(alphae*10**40,4),\"*10**-40 F/m**2\""
     ],
     "language": "python",
     "metadata": {},
     "outputs": [
      {
       "output_type": "stream",
       "stream": "stdout",
       "text": [
        "electronic polarizability of isolated Se is 1.9226 *10**-40 F/m**2\n"
       ]
      }
     ],
     "prompt_number": 12
    },
    {
     "cell_type": "heading",
     "level": 2,
     "metadata": {},
     "source": [
      "Example number 21.3, Page number 28"
     ]
    },
    {
     "cell_type": "code",
     "collapsed": false,
     "input": [
      "#importing modules\n",
      "import math\n",
      "from __future__ import division\n",
      "\n",
      "#Variable declaration\n",
      "alphae=0.35*10**-40;   #electronic polarizability(F/m**2)\n",
      "N=2.7*10**25;   #number of atoms(atoms/m**3)\n",
      "epsilon0=8.854*10**-12;\n",
      "\n",
      "#Calculation\n",
      "a=N*alphae/(3*epsilon0);\n",
      "epsilonr=(1+(2*a))/(1-a);   #dielectric constant of Ne\n",
      "\n",
      "#Result\n",
      "print \"dielectric constant of Ne is\",round(epsilonr,9)"
     ],
     "language": "python",
     "metadata": {},
     "outputs": [
      {
       "output_type": "stream",
       "stream": "stdout",
       "text": [
        "dielectric constant of Ne is 1.000106735\n"
       ]
      }
     ],
     "prompt_number": 1
    },
    {
     "cell_type": "heading",
     "level": 2,
     "metadata": {},
     "source": [
      "Example number 21.4, Page number 28"
     ]
    },
    {
     "cell_type": "code",
     "collapsed": false,
     "input": [
      "#importing modules\n",
      "import math\n",
      "from __future__ import division\n",
      "\n",
      "#Variable declaration\n",
      "R=0.384*10**-9;   #radius of Ar(m)\n",
      "N=2.7*10**25;   #number of atoms(atoms/m**3)\n",
      "epsilon0=8.854*10**-12;\n",
      "\n",
      "#Calculation\n",
      "alphae=4*math.pi*epsilon0*(R**3);   #electronic polarizability of Ar(F/m**2)\n",
      "a=N*alphae/(3*epsilon0);\n",
      "epsilonr=(1+(2*a))/(1-a);   #dielectric constant of Ar\n",
      "\n",
      "#Result\n",
      "print \"dielectric constant of Ar is\",epsilonr\n",
      "print \"answer given in the book is wrong\""
     ],
     "language": "python",
     "metadata": {},
     "outputs": [
      {
       "output_type": "stream",
       "stream": "stdout",
       "text": [
        "dielectric constant of Ar is 1.01933559019\n",
        "answer given in the book is wrong\n"
       ]
      }
     ],
     "prompt_number": 2
    },
    {
     "cell_type": "heading",
     "level": 2,
     "metadata": {},
     "source": [
      "Example number 21.5, Page number 29"
     ]
    },
    {
     "cell_type": "code",
     "collapsed": false,
     "input": [
      "#importing modules\n",
      "import math\n",
      "from __future__ import division\n",
      "\n",
      "#Variable declaration\n",
      "C=2*10**-6;    #capacitance(F)\n",
      "epsilonr=80;   #permitivity of dielectric\n",
      "V=1*10**3;    #applied voltage(V)\n",
      "\n",
      "#Calculation\n",
      "E1=(1/2)*C*V**2;   #energy stored in capacitor(J)\n",
      "C0=C/epsilonr;   #capacitance when dielectric is removed(F)\n",
      "E2=(1/2)*C0*V**2;   #energy stored in capacitor with vacuum as dielectric(J)\n",
      "E=1-E2;   #energy stored in capacitor in polarizing the dielectric(J)\n",
      "\n",
      "#Result\n",
      "print \"energy stored in capacitor is\",E1,\"J\"\n",
      "print \"energy stored in capacitor in polarizing the dielectric is\",E,\"J\""
     ],
     "language": "python",
     "metadata": {},
     "outputs": [
      {
       "output_type": "stream",
       "stream": "stdout",
       "text": [
        "energy stored in capacitor is 1.0 J\n",
        "energy stored in capacitor in polarizing the dielectric is 0.9875 J\n"
       ]
      }
     ],
     "prompt_number": 3
    },
    {
     "cell_type": "heading",
     "level": 2,
     "metadata": {},
     "source": [
      "Example number 21.6, Page number 30"
     ]
    },
    {
     "cell_type": "code",
     "collapsed": false,
     "input": [
      "#importing modules\n",
      "import math\n",
      "from __future__ import division\n",
      "\n",
      "#Variable declaration\n",
      "N=5*10**28;    #number of atoms(per m**3)\n",
      "alpha=2*10**-40;   #polarizability(Fm**2)\n",
      "epsilon0=8.854*10**-12;\n",
      "\n",
      "#Calculation\n",
      "P=N*alpha;\n",
      "a=1-(P/(3*epsilon0));\n",
      "EibyE=1/a;     #ratio of internal field to applied field\n",
      "\n",
      "#Result\n",
      "print \"ratio of internal field to applied field is\",round(EibyE,4)"
     ],
     "language": "python",
     "metadata": {},
     "outputs": [
      {
       "output_type": "stream",
       "stream": "stdout",
       "text": [
        "ratio of internal field to applied field is 1.6038\n"
       ]
      }
     ],
     "prompt_number": 5
    }
   ],
   "metadata": {}
  }
 ]
}