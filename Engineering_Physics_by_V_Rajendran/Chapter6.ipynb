{
 "metadata": {
  "name": "",
  "signature": "sha256:c64912256bdcf8bcc5ce71dffc2b43e608072175b592d01f0ff0fe3771ee0132"
 },
 "nbformat": 3,
 "nbformat_minor": 0,
 "worksheets": [
  {
   "cells": [
    {
     "cell_type": "heading",
     "level": 1,
     "metadata": {},
     "source": [
      "6: Non Destructive Testing"
     ]
    },
    {
     "cell_type": "heading",
     "level": 2,
     "metadata": {},
     "source": [
      "Example number 6.1, Page number 36"
     ]
    },
    {
     "cell_type": "code",
     "collapsed": false,
     "input": [
      "#importing modules\n",
      "import math\n",
      "from __future__ import division\n",
      "\n",
      "#Variable declaration\n",
      "t=50;   #thickness of metal(mm)\n",
      "d=1;    #hole diameter(mm)\n",
      "\n",
      "#Calculation\n",
      "sp=(d/t)*100;   #sensitivity percentage(%)\n",
      "\n",
      "#Result\n",
      "print \"sensitivity percentage of wire is\",sp,\"%\""
     ],
     "language": "python",
     "metadata": {},
     "outputs": [
      {
       "output_type": "stream",
       "stream": "stdout",
       "text": [
        "sensitivity percentage of wire is 2.0 %\n"
       ]
      }
     ],
     "prompt_number": 1
    },
    {
     "cell_type": "heading",
     "level": 2,
     "metadata": {},
     "source": [
      "Example number 6.2, Page number 37"
     ]
    },
    {
     "cell_type": "code",
     "collapsed": false,
     "input": [
      "#importing modules\n",
      "import math\n",
      "from __future__ import division\n",
      "\n",
      "#Variable declaration\n",
      "I=20*10**-3;   #tube current(A)\n",
      "L=1;   #source to film distance(m)\n",
      "t=60;   #exposure time(s)\n",
      "\n",
      "#Calculation\n",
      "ef=I*t/(L**2);   #exposure factor\n",
      "\n",
      "#Result\n",
      "print \"exposure factor is\",ef"
     ],
     "language": "python",
     "metadata": {},
     "outputs": [
      {
       "output_type": "stream",
       "stream": "stdout",
       "text": [
        "exposure factor is 1.2\n"
       ]
      }
     ],
     "prompt_number": 2
    },
    {
     "cell_type": "heading",
     "level": 2,
     "metadata": {},
     "source": [
      "Example number 6.3, Page number 37"
     ]
    },
    {
     "cell_type": "code",
     "collapsed": false,
     "input": [
      "#importing modules\n",
      "import math\n",
      "from __future__ import division\n",
      "\n",
      "#Variable declaration\n",
      "IbyI0=20;   #reduction in intensity\n",
      "mew=1.62;    #linear absorption coefficient(per cm)\n",
      "\n",
      "#Calculation\n",
      "x=math.log(IbyI0)/mew;   #thickness of aluminium(cm)\n",
      "\n",
      "#Result\n",
      "print \"thickness of aluminium is\",round(x,2),\"*10**-2 m\""
     ],
     "language": "python",
     "metadata": {},
     "outputs": [
      {
       "output_type": "stream",
       "stream": "stdout",
       "text": [
        "thickness of aluminium is 1.85 *10**-2 m\n"
       ]
      }
     ],
     "prompt_number": 5
    },
    {
     "cell_type": "heading",
     "level": 2,
     "metadata": {},
     "source": [
      "Example number 6.4, Page number 38"
     ]
    },
    {
     "cell_type": "code",
     "collapsed": false,
     "input": [
      "#importing modules\n",
      "import math\n",
      "from __future__ import division\n",
      "\n",
      "#Variable declaration\n",
      "x=2.5*10**-2;    #thickness of material(m)\n",
      "mew=2;    #linear absorption coefficient(per cm)\n",
      "\n",
      "#Calculation\n",
      "\n",
      "\n",
      "#Result\n",
      "print \" \""
     ],
     "language": "python",
     "metadata": {},
     "outputs": [
      {
       "output_type": "stream",
       "stream": "stdout",
       "text": [
        " \n"
       ]
      }
     ],
     "prompt_number": 7
    },
    {
     "cell_type": "heading",
     "level": 2,
     "metadata": {},
     "source": [
      "Example number 6.5, Page number 38"
     ]
    },
    {
     "cell_type": "code",
     "collapsed": false,
     "input": [
      "#importing modules\n",
      "import math\n",
      "from __future__ import division\n",
      "\n",
      "#Variable declaration\n",
      "ef=0.35;    #exposure factor(curie hour)\n",
      "pss=5;   #present source strength(curie)\n",
      "\n",
      "#Calculation\n",
      "et=ef/pss;   #exposure time(h)\n",
      "\n",
      "#Result\n",
      "print \"exposure time is\",et*60,\"min\""
     ],
     "language": "python",
     "metadata": {},
     "outputs": [
      {
       "output_type": "stream",
       "stream": "stdout",
       "text": [
        "exposure time is 4.2 min\n"
       ]
      }
     ],
     "prompt_number": 9
    },
    {
     "cell_type": "heading",
     "level": 2,
     "metadata": {},
     "source": [
      "Example number 6.6, Page number 39"
     ]
    },
    {
     "cell_type": "code",
     "collapsed": false,
     "input": [
      "#importing modules\n",
      "import math\n",
      "from __future__ import division\n",
      "\n",
      "#Variable declaration\n",
      "fd=20*10**-2;   #film focus distance(m)\n",
      "Sd=5*10**-2;   #displacement of X-ray tube(m)\n",
      "t=5*10**-2;   #thickness of steel(m)\n",
      "S=0.5*10**-2;    #distance between images(m)\n",
      "\n",
      "#Calculation\n",
      "d=fd*S/(S+Sd);   #distance of flow from bottom surface(m)\n",
      "l=t-d;   #location of flow from top surface(m)\n",
      "\n",
      "#Result\n",
      "print \"location of flow from top surface is\",round(l*10**2,1),\"*10**-2 m\""
     ],
     "language": "python",
     "metadata": {},
     "outputs": [
      {
       "output_type": "stream",
       "stream": "stdout",
       "text": [
        "location of flow from top surface is 3.2 *10**-2 m\n"
       ]
      }
     ],
     "prompt_number": 12
    }
   ],
   "metadata": {}
  }
 ]
}