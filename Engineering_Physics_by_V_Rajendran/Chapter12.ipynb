{
 "metadata": {
  "name": "",
  "signature": "sha256:608ce4833ab64488375d1cbc1e6cf701004b5459a3cd8764d294e881ba488e96"
 },
 "nbformat": 3,
 "nbformat_minor": 0,
 "worksheets": [
  {
   "cells": [
    {
     "cell_type": "heading",
     "level": 1,
     "metadata": {},
     "source": [
      "12: Fibre Optics"
     ]
    },
    {
     "cell_type": "heading",
     "level": 2,
     "metadata": {},
     "source": [
      "Example number 12.1, Page number 26"
     ]
    },
    {
     "cell_type": "code",
     "collapsed": false,
     "input": [
      "#importing modules\n",
      "import math\n",
      "from __future__ import division\n",
      "\n",
      "#Variable declaration\n",
      "NA=0.16;   #numerical aperture of fibre\n",
      "n1=1.45;   #refractive index of core\n",
      "d=90*10**-6;   #diameter of core(m)\n",
      "n0=1;   #refractive index of air\n",
      "lamda=0.9*10**-6;   #wavelength(m)\n",
      "\n",
      "#Calculation\n",
      "n2=math.sqrt((n1**2)-(NA**2));   #refractive index of cladding\n",
      "phi=math.asin(NA/n0);    #acceptance angle(radian)\n",
      "phi=phi*180/math.pi;   #acceptance angle(degrees)\n",
      "phid=int(phi);    #acceptance angle(degrees)\n",
      "t=60*(phi-phid);  \n",
      "phim=int(t);    #acceptance angle(minutes)\n",
      "phis=60*(t-phim);   #acceptance angle(seconds)\n",
      "N=4.9*(d*NA/lamda)**2;   #number of nodes propagating through fibre\n",
      "Nstep=N/2;     #number of nodes propagating through graded index fibre\n",
      "\n",
      "#Result\n",
      "print \"refractive index of cladding is\",round(n2,3)\n",
      "print \"acceptance angle is\",phid,\"degrees\",phim,\"minutes\",round(phis,2),\"seconds\"\n",
      "print \"number of nodes propagating through fibre is\",N\n",
      "print \"number of nodes propagating through graded index fibre is\",int(Nstep)"
     ],
     "language": "python",
     "metadata": {},
     "outputs": [
      {
       "output_type": "stream",
       "stream": "stdout",
       "text": [
        "refractive index of cladding is 1.441\n",
        "acceptance angle is 9 degrees 12 minutes 24.83 seconds\n",
        "number of nodes propagating through fibre is 1254.4\n",
        "number of nodes propagating through graded index fibre is 627\n"
       ]
      }
     ],
     "prompt_number": 6
    },
    {
     "cell_type": "heading",
     "level": 2,
     "metadata": {},
     "source": [
      "Example number 12.2, Page number 27"
     ]
    },
    {
     "cell_type": "code",
     "collapsed": false,
     "input": [
      "#importing modules\n",
      "import math\n",
      "from __future__ import division\n",
      "\n",
      "#Variable declaration\n",
      "lamda=1*10**-6;   #wavelength of light(m)\n",
      "n1=1.45;   #refractive index of core\n",
      "n2=1.448;   #refractive index of cladding\n",
      "d=6*10**-6;   #diameter of core(m)\n",
      "\n",
      "#Calculation\n",
      "NA=math.sqrt((n1**2)-(n2**2));    #numerical aperture\n",
      "N=4.9*(d*NA/lamda)**2;   #number of nodes propagating through fibre\n",
      "\n",
      "#Result\n",
      "print \"number of nodes allowed to propagate through fibre is\",int(N)\n",
      "print \"it is a single mode fibre\""
     ],
     "language": "python",
     "metadata": {},
     "outputs": [
      {
       "output_type": "stream",
       "stream": "stdout",
       "text": [
        "number of nodes allowed to propagate through fibre is 1\n",
        "it is a single mode fibre\n"
       ]
      }
     ],
     "prompt_number": 10
    }
   ],
   "metadata": {}
  }
 ]
}