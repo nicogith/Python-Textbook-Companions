{
 "metadata": {
  "name": "",
  "signature": "sha256:be338ef971644a9f5f4678fb763a92b7fd97bf3ce5a24c5818759072b8dab2d8"
 },
 "nbformat": 3,
 "nbformat_minor": 0,
 "worksheets": [
  {
   "cells": [
    {
     "cell_type": "heading",
     "level": 1,
     "metadata": {},
     "source": [
      "1: Elasticity"
     ]
    },
    {
     "cell_type": "heading",
     "level": 2,
     "metadata": {},
     "source": [
      "Example number 1.1, Page number 30"
     ]
    },
    {
     "cell_type": "code",
     "collapsed": false,
     "input": [
      "#importing modules\n",
      "import math\n",
      "from __future__ import division\n",
      "\n",
      "#Variable declaration\n",
      "L=3;     #length of wire(m)\n",
      "A=6.25*10**-5;     #cross sectional area(m**2)\n",
      "delta_L=3*10**-3;   #increase in length(m)\n",
      "F=1.2*10**3;        #force(N)\n",
      "\n",
      "#Calculation\n",
      "Y=F*L/(A*delta_L);      #young's modulus(N/m**2)\n",
      "\n",
      "#Result\n",
      "print \"young's modulus is \",Y/10**10,\"*10**10 N/m**2\""
     ],
     "language": "python",
     "metadata": {},
     "outputs": [
      {
       "output_type": "stream",
       "stream": "stdout",
       "text": [
        "young's modulus is  1.92 *10**10 N/m**2\n"
       ]
      }
     ],
     "prompt_number": 1
    },
    {
     "cell_type": "heading",
     "level": 2,
     "metadata": {},
     "source": [
      "Example number 1.2, Page number 30"
     ]
    },
    {
     "cell_type": "code",
     "collapsed": false,
     "input": [
      "#importing modules\n",
      "import math\n",
      "from __future__ import division\n",
      "\n",
      "#Variable declaration\n",
      "Y=2*10**11;       #young's modulus(N/m**2)\n",
      "L=2.75;     #length of wire(m)\n",
      "d=1*10**-3;       #diameter(m)\n",
      "M=1;      #applied load(kg)\n",
      "g=9.8;     #acceleration due to gravity(N)\n",
      "\n",
      "#Calculation\n",
      "T=M*g;    #tension(N)\n",
      "delta_L=T*L/(math.pi*(d/2)**2*Y);    #increase in length of wire(m)\n",
      "\n",
      "#Result\n",
      "print \"increase in length of wire is\",round(delta_L*10**4,5),\"*10**-4 m\""
     ],
     "language": "python",
     "metadata": {},
     "outputs": [
      {
       "output_type": "stream",
       "stream": "stdout",
       "text": [
        "increase in length of wire is 1.71569 *10**-4 m\n"
       ]
      }
     ],
     "prompt_number": 2
    },
    {
     "cell_type": "heading",
     "level": 2,
     "metadata": {},
     "source": [
      "Example number 1.3, Page number 31"
     ]
    },
    {
     "cell_type": "code",
     "collapsed": false,
     "input": [
      "#importing modules\n",
      "import math\n",
      "from __future__ import division\n",
      "\n",
      "#Variable declaration\n",
      "F=0.3;        #force(N)\n",
      "d=5*10**-3;     #displacement(m)\n",
      "L=6*10**-2;     #length of solid(m)\n",
      "B=6*10**-2;     #breadth of solid(m)\n",
      "h=2*10**-2;     #height of solid(m)\n",
      "\n",
      "#Calculation\n",
      "s=F/(L*B);      #shear stress(N/m**2)\n",
      "theta=d/h;      #shear strain\n",
      "rm=s/theta;     #rigidity modulus(N/m**2)\n",
      "\n",
      "#Result\n",
      "print \"shear stress is\",round(s,2),\"N/m**2\"\n",
      "print \"shear strain is\",theta\n",
      "print \"rigidity modulus is\",round(rm,2),\"N/m**2\""
     ],
     "language": "python",
     "metadata": {},
     "outputs": [
      {
       "output_type": "stream",
       "stream": "stdout",
       "text": [
        "shear stress is 83.33 N/m**2\n",
        "shear strain is 0.25\n",
        "rigidity modulus is 333.33 N/m**2\n"
       ]
      }
     ],
     "prompt_number": 3
    },
    {
     "cell_type": "heading",
     "level": 2,
     "metadata": {},
     "source": [
      "Example number 1.4, Page number 32"
     ]
    },
    {
     "cell_type": "code",
     "collapsed": false,
     "input": [
      "#importing modules\n",
      "import math\n",
      "from __future__ import division\n",
      "\n",
      "#Variable declaration\n",
      "n=2.5*10**10;     #rigidity modulus(N/m**2)\n",
      "L=30*10**-2;      #thickness(m)\n",
      "A=12*10**-4;      #surface area(m**2)\n",
      "delta_L=1.5*10**-2;     #displacement(m)\n",
      "\n",
      "#Calculation\n",
      "F=n*A*delta_L/L;      #shearing force(N)\n",
      "\n",
      "#Result\n",
      "print \"shearing force is\",F/10**6,\"*10**6 N\""
     ],
     "language": "python",
     "metadata": {},
     "outputs": [
      {
       "output_type": "stream",
       "stream": "stdout",
       "text": [
        "shearing force is 1.5 *10**6 N\n"
       ]
      }
     ],
     "prompt_number": 4
    },
    {
     "cell_type": "heading",
     "level": 2,
     "metadata": {},
     "source": [
      "Example number 1.6, Page number 33"
     ]
    },
    {
     "cell_type": "code",
     "collapsed": false,
     "input": [
      "#importing modules\n",
      "import math\n",
      "from __future__ import division\n",
      "\n",
      "#Variable declaration\n",
      "Y=7.25*10**10;       #young's modulus of silver(N/m**2)\n",
      "K=11*10**10;         #bulk modulus of silver(N/m**2)\n",
      "\n",
      "#Calculation\n",
      "sigma=(3*K-Y)/(6*K);    #poisson's ratio\n",
      "\n",
      "#Result\n",
      "print \"poisson's ratio is\",round(sigma,2)"
     ],
     "language": "python",
     "metadata": {},
     "outputs": [
      {
       "output_type": "stream",
       "stream": "stdout",
       "text": [
        "poisson's ratio is 0.39\n"
       ]
      }
     ],
     "prompt_number": 5
    },
    {
     "cell_type": "heading",
     "level": 2,
     "metadata": {},
     "source": [
      "Example number 1.7, Page number 34"
     ]
    },
    {
     "cell_type": "code",
     "collapsed": false,
     "input": [
      "#importing modules\n",
      "import math\n",
      "from __future__ import division\n",
      "\n",
      "#Variable declaration\n",
      "L=3;     #length of Cu wire(m)\n",
      "Y=12.5*10**10;    #young's modulus(N/m**2)\n",
      "r=5*10**-4;       #radius of wire(m)\n",
      "sigma=0.26;       #poisson's ratio\n",
      "m=10;             #load(kg)\n",
      "g=9.8;            #acceleration due to gravity(N)\n",
      "\n",
      "#Calculation\n",
      "delta_L=m*g*L/(math.pi*r**2*Y);    #extension produced(m)\n",
      "ls=sigma*delta_L/3;                #lateral strain\n",
      "dd=ls*r*2;                         #decrease in diameter(m) \n",
      "\n",
      "#Result\n",
      "print \"extension produced is\",round(delta_L*10**3,2),\"*10**-3 m\"\n",
      "print \"lateral compression produced is\",round(dd*10**7,3),\"*10**-7 m\""
     ],
     "language": "python",
     "metadata": {},
     "outputs": [
      {
       "output_type": "stream",
       "stream": "stdout",
       "text": [
        "extension produced is 2.99 *10**-3 m\n",
        "lateral compression produced is 2.595 *10**-7 m\n"
       ]
      }
     ],
     "prompt_number": 6
    },
    {
     "cell_type": "heading",
     "level": 2,
     "metadata": {},
     "source": [
      "Example number 1.8, Page number 35"
     ]
    },
    {
     "cell_type": "code",
     "collapsed": false,
     "input": [
      "#importing modules\n",
      "import math\n",
      "from __future__ import division\n",
      "\n",
      "#Variable declaration\n",
      "L=1;      #length of wire(m)\n",
      "d=1*10**-3;     #diameter of wire(m)\n",
      "n=2.8*10**10;      #rigidity modulus of wire(N/m**2)\n",
      "theta=math.pi/2;        #angle of twisting(radian)\n",
      "\n",
      "#Calculation\n",
      "C=math.pi**2*n*(d/2)**4/(4*L);      #couple to be applied(Nm)\n",
      "\n",
      "#Result\n",
      "print \"couple to be applied is\",round(C*10**3,5),\"*10**-3 Nm\""
     ],
     "language": "python",
     "metadata": {},
     "outputs": [
      {
       "output_type": "stream",
       "stream": "stdout",
       "text": [
        "couple to be applied is 4.31795 *10**-3 Nm\n"
       ]
      }
     ],
     "prompt_number": 7
    },
    {
     "cell_type": "heading",
     "level": 2,
     "metadata": {},
     "source": [
      "Example number 1.9, Page number 35"
     ]
    },
    {
     "cell_type": "code",
     "collapsed": false,
     "input": [
      "#importing modules\n",
      "import math\n",
      "from __future__ import division\n",
      "\n",
      "#Variable declaration\n",
      "d=0.82*10**-3;       #diameter of wire(m)\n",
      "delta_L=1*10**-3;       #length of elongation produced(m)\n",
      "m=0.33;             #load(kg)\n",
      "g=9.8;           #acceleration due to gravity(N)\n",
      "n=2.2529*10**9;    #rigidity modulus of wire(N/m**2)\n",
      "\n",
      "#Calculation\n",
      "Y=m*g/(math.pi*(d/2)**2*delta_L);     #young's modulus(N/m**2)\n",
      "sigma=(Y/(2*n))-1;       #poisson's ratio\n",
      "\n",
      "#Result\n",
      "print \"poisson's ratio is\",round(sigma,3)"
     ],
     "language": "python",
     "metadata": {},
     "outputs": [
      {
       "output_type": "stream",
       "stream": "stdout",
       "text": [
        "poisson's ratio is 0.359\n"
       ]
      }
     ],
     "prompt_number": 8
    },
    {
     "cell_type": "heading",
     "level": 2,
     "metadata": {},
     "source": [
      "Example number 1.10, Page number 36"
     ]
    },
    {
     "cell_type": "code",
     "collapsed": false,
     "input": [
      "#importing modules\n",
      "import math\n",
      "from __future__ import division\n",
      "\n",
      "#Variable declaration\n",
      "p1=1.01*10**5;         #atmospheric pressure(N/m**2)\n",
      "K=16*10**10;          #bulk modulus(N/m**2)\n",
      "p2=10**2;           #increased pressure(N/m**2)\n",
      "\n",
      "#Calculation\n",
      "dP=p1-p2;       #change in pressure(N/m**2)\n",
      "dV=dP/K;       #fractional change of volume\n",
      "\n",
      "#Result\n",
      "print \"change in volume of steel bar is\",round(dV*10**7,1),\"*10**-7 V m**3\""
     ],
     "language": "python",
     "metadata": {},
     "outputs": [
      {
       "output_type": "stream",
       "stream": "stdout",
       "text": [
        "change in volume of steel bar is 6.3 *10**-7 V m**3\n"
       ]
      }
     ],
     "prompt_number": 9
    },
    {
     "cell_type": "heading",
     "level": 2,
     "metadata": {},
     "source": [
      "Example number 1.11, Page number 37"
     ]
    },
    {
     "cell_type": "code",
     "collapsed": false,
     "input": [
      "#importing modules\n",
      "import math\n",
      "from __future__ import division\n",
      "\n",
      "#Variable declaration\n",
      "Y=1.013*10**10;       #young's modulus of bar(N/m**2)\n",
      "b=2*10**-2;       #breadth of bar(m)\n",
      "l=1;       #length of bar(m)\n",
      "d=1*10**-2;    #depth of bar(m)\n",
      "m=2;       #load(kg)\n",
      "g=9.8;           #acceleration due to gravity(N)\n",
      "\n",
      "#Calculation\n",
      "y=m*g*l**3/(4*Y*b*d**3);    #depression produced in bar(m)\n",
      "\n",
      "#Result\n",
      "print \"depression produced in bar is\",round(y,6),\"m\""
     ],
     "language": "python",
     "metadata": {},
     "outputs": [
      {
       "output_type": "stream",
       "stream": "stdout",
       "text": [
        "depression produced in bar is 0.024186 m\n"
       ]
      }
     ],
     "prompt_number": 10
    },
    {
     "cell_type": "heading",
     "level": 2,
     "metadata": {},
     "source": [
      "Example number 1.12, Page number 37"
     ]
    },
    {
     "cell_type": "code",
     "collapsed": false,
     "input": [
      "#importing modules\n",
      "import math\n",
      "from __future__ import division\n",
      "\n",
      "#Variable declaration\n",
      "r=1.2*10**-2;         #radius of cantilever(m)\n",
      "l=1.5;        #length of cantilever(m)\n",
      "Y=19.5*10**10;      #young's modulus(N/m**2)\n",
      "m=2;       #load(kg)\n",
      "g=9.8;           #acceleration due to gravity(N)\n",
      "\n",
      "#Calculation\n",
      "y=4*m*g*l**3/(3*Y*math.pi*(r**4));    #depression produced in cantilever(m)\n",
      "\n",
      "#Result\n",
      "print \"depression produced in cantilever is\",round(y*10**3,3),\"*10**-3 m\""
     ],
     "language": "python",
     "metadata": {},
     "outputs": [
      {
       "output_type": "stream",
       "stream": "stdout",
       "text": [
        "depression produced in cantilever is 6.943 *10**-3 m\n"
       ]
      }
     ],
     "prompt_number": 11
    }
   ],
   "metadata": {}
  }
 ]
}