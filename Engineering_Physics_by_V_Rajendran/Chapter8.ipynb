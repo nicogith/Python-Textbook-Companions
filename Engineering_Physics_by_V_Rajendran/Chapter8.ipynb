{
 "metadata": {
  "name": "",
  "signature": "sha256:1c07cbfc0dc96926ceae744a226fe3c57743d67509eccb306df708f4c814b436"
 },
 "nbformat": 3,
 "nbformat_minor": 0,
 "worksheets": [
  {
   "cells": [
    {
     "cell_type": "heading",
     "level": 1,
     "metadata": {},
     "source": [
      "8: Polarisation"
     ]
    },
    {
     "cell_type": "heading",
     "level": 2,
     "metadata": {},
     "source": [
      "Example number 8.1, Page number 16"
     ]
    },
    {
     "cell_type": "code",
     "collapsed": false,
     "input": [
      "#importing modules\n",
      "import math\n",
      "from __future__ import division\n",
      "\n",
      "#Variable declaration\n",
      "mew_e=1.553;     #refractive index of extraordinary ray\n",
      "mew0=1.544;    #refractive index of ordinary ray\n",
      "lamda=6*10**-7;    #wavelength(m)\n",
      "\n",
      "#Calculation\n",
      "t=lamda/(4*(mew_e-mew0));   #thickness of quarter wave plate(m)\n",
      "\n",
      "#Result\n",
      "print \"thickness of quarter wave plate is\",round(t*10**5,3),\"*10**-5 m\""
     ],
     "language": "python",
     "metadata": {},
     "outputs": [
      {
       "output_type": "stream",
       "stream": "stdout",
       "text": [
        "thickness of quarter wave plate is 1.667 *10**-5 m\n"
       ]
      }
     ],
     "prompt_number": 2
    },
    {
     "cell_type": "heading",
     "level": 2,
     "metadata": {},
     "source": [
      "Example number 8.2, Page number 16"
     ]
    },
    {
     "cell_type": "code",
     "collapsed": false,
     "input": [
      "#importing modules\n",
      "import math\n",
      "from __future__ import division\n",
      "\n",
      "#Variable declaration\n",
      "mew_e=1.553;     #refractive index of extraordinary ray\n",
      "mew0=1.544;    #refractive index of ordinary ray\n",
      "lamda=6*10**-7;    #wavelength(m)\n",
      "\n",
      "#Calculation\n",
      "t=lamda/(2*(mew_e-mew0));   #thickness of half wave plate(m)\n",
      "\n",
      "#Result\n",
      "print \"thickness of half wave plate is\",round(t*10**5,2),\"*10**-5 m\""
     ],
     "language": "python",
     "metadata": {},
     "outputs": [
      {
       "output_type": "stream",
       "stream": "stdout",
       "text": [
        "thickness of half wave plate is 3.33 *10**-5 m\n"
       ]
      }
     ],
     "prompt_number": 4
    },
    {
     "cell_type": "heading",
     "level": 2,
     "metadata": {},
     "source": [
      "Example number 8.3, Page number 17"
     ]
    },
    {
     "cell_type": "code",
     "collapsed": false,
     "input": [
      "#importing modules\n",
      "import math\n",
      "from __future__ import division\n",
      "\n",
      "#Variable declaration\n",
      "mew_e=1.486;     #refractive index of extraordinary ray\n",
      "mew0=1.658;    #refractive index of ordinary ray\n",
      "lamda=6*10**-7;    #wavelength(m)\n",
      "\n",
      "#Calculation\n",
      "t=lamda/(4*(mew0-mew_e));   #thickness of quarter wave plate(m)\n",
      "\n",
      "#Result\n",
      "print \"thickness of quarter wave plate is\",round(t*10**7,1),\"*10**-7 m\""
     ],
     "language": "python",
     "metadata": {},
     "outputs": [
      {
       "output_type": "stream",
       "stream": "stdout",
       "text": [
        "thickness of quarter wave plate is 8.7 *10**-7 m\n"
       ]
      }
     ],
     "prompt_number": 7
    },
    {
     "cell_type": "heading",
     "level": 2,
     "metadata": {},
     "source": [
      "Example number 8.4, Page number 17"
     ]
    },
    {
     "cell_type": "code",
     "collapsed": false,
     "input": [
      "#importing modules\n",
      "import math\n",
      "from __future__ import division\n",
      "\n",
      "#Variable declaration\n",
      "mew_e=1.486;     #refractive index of extraordinary ray\n",
      "mew0=1.658;    #refractive index of ordinary ray\n",
      "t=1.64*10**-6;   #thickness(m)    \n",
      "\n",
      "#Calculation\n",
      "lamda=2*t*(mew0-mew_e);   #wavelength of light(m)\n",
      "\n",
      "\n",
      "#Result\n",
      "print \"wavelength of light is\",round(lamda*10**6,3),\"*10**-6 m\""
     ],
     "language": "python",
     "metadata": {},
     "outputs": [
      {
       "output_type": "stream",
       "stream": "stdout",
       "text": [
        "wavelength of light is 0.564 *10**-6 m\n"
       ]
      }
     ],
     "prompt_number": 15
    }
   ],
   "metadata": {}
  }
 ]
}