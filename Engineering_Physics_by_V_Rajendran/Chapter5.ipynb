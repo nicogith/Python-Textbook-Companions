{
 "metadata": {
  "name": "",
  "signature": "sha256:dcc4019ef1c15d21354e91688bcf3d6888473d71d7b26b6c010e7b08e8a6177f"
 },
 "nbformat": 3,
 "nbformat_minor": 0,
 "worksheets": [
  {
   "cells": [
    {
     "cell_type": "heading",
     "level": 1,
     "metadata": {},
     "source": [
      "5: Ultrasonics"
     ]
    },
    {
     "cell_type": "heading",
     "level": 2,
     "metadata": {},
     "source": [
      "Example number 5.1, Page number 23"
     ]
    },
    {
     "cell_type": "code",
     "collapsed": false,
     "input": [
      "#importing modules\n",
      "import math\n",
      "from __future__ import division\n",
      "\n",
      "#Variable declaration\n",
      "t=1*10**-3;   #thickness of crystal(m)\n",
      "rho=2650;   #density of quartz(kg/m**3)\n",
      "Y=7.9*10**10;   #young's modulus(N/m**2)\n",
      "p=1;\n",
      "\n",
      "#Calculation\n",
      "f=(p/(2*t))*math.sqrt(Y/rho);   #fundamental frequency(Hz)\n",
      "\n",
      "#Result\n",
      "print \"fundamental frequency is\",round(f/10**6,5),\"*10**6 Hz\""
     ],
     "language": "python",
     "metadata": {},
     "outputs": [
      {
       "output_type": "stream",
       "stream": "stdout",
       "text": [
        "fundamental frequency is 2.72999 *10**6 Hz\n"
       ]
      }
     ],
     "prompt_number": 4
    },
    {
     "cell_type": "heading",
     "level": 2,
     "metadata": {},
     "source": [
      "Example number 5.2, Page number 23"
     ]
    },
    {
     "cell_type": "code",
     "collapsed": false,
     "input": [
      "#importing modules\n",
      "import math\n",
      "from __future__ import division\n",
      "\n",
      "#Variable declaration\n",
      "t=5*10**-3;    #length of crystal(m)\n",
      "Y=7.9*10**10;   #young's modulus(N/m**2)\n",
      "p1=1;\n",
      "p2=2;\n",
      "rho=2650;   #density of quartz(kg/m**3)\n",
      "\n",
      "#Calculation\n",
      "f1=(p1/(2*t))*math.sqrt(Y/rho);   #fundamental frequency(Hz)\n",
      "f2=(p2/(2*t))*math.sqrt(Y/rho);   #frequency of 1st overtone(Hz)\n",
      "\n",
      "#Result\n",
      "print \"fundamental frequency is\",round(f1/10**5,2),\"*10**5 Hz\"\n",
      "print \"frequency of 1st overtone is\",round(f2/10**6,3),\"*10**6 Hz\""
     ],
     "language": "python",
     "metadata": {},
     "outputs": [
      {
       "output_type": "stream",
       "stream": "stdout",
       "text": [
        "fundamental frequency is 5.46 *10**5 Hz\n",
        "frequency of 1st overtone is 1.092 *10**6 Hz\n"
       ]
      }
     ],
     "prompt_number": 9
    },
    {
     "cell_type": "heading",
     "level": 2,
     "metadata": {},
     "source": [
      "Example number 5.3, Page number 24"
     ]
    },
    {
     "cell_type": "code",
     "collapsed": false,
     "input": [
      "#importing modules\n",
      "import math\n",
      "from __future__ import division\n",
      "\n",
      "#Variable declaration\n",
      "u=5000;   #velocity of sound in steel(m/s)\n",
      "f=50*10**3;   #difference between frequencies(Hz)\n",
      "\n",
      "#Calculation\n",
      "d=u/(2*f);   #thickness of steel plate(m)\n",
      "\n",
      "#Result\n",
      "print \"thickness of steel plate is\",d,\"m\""
     ],
     "language": "python",
     "metadata": {},
     "outputs": [
      {
       "output_type": "stream",
       "stream": "stdout",
       "text": [
        "thickness of steel plate is 0.05 m\n"
       ]
      }
     ],
     "prompt_number": 10
    },
    {
     "cell_type": "heading",
     "level": 2,
     "metadata": {},
     "source": [
      "Example number 5.4, Page number 25"
     ]
    },
    {
     "cell_type": "code",
     "collapsed": false,
     "input": [
      "#importing modules\n",
      "import math\n",
      "from __future__ import division\n",
      "\n",
      "#Variable declaration\n",
      "t=1;   #assume\n",
      "f1=(2.87*10**3)/t;   #fundamental frequency(Hz)\n",
      "f=1200*10**3;     #frequency(Hz)\n",
      "rho=2660;   #density of quartz(kg/m**3)\n",
      "\n",
      "#Calculation\n",
      "Y=rho*(f1*2*t)**2;   #young's modulus(N/m**2)\n",
      "t1=(1/(2*f))*math.sqrt(Y/rho);   #thickness of crystal(m)\n",
      "\n",
      "#Result\n",
      "print \"young's modulus is\",round(Y/10**10,3),\"*10**10 N/m**2\"\n",
      "print \"thickness of crystal is\",round(t1*10**3,2),\"*10**-3 m\""
     ],
     "language": "python",
     "metadata": {},
     "outputs": [
      {
       "output_type": "stream",
       "stream": "stdout",
       "text": [
        "young's modulus is 8.764 *10**10 N/m**2\n",
        "thickness of crystal is 2.39 *10**-3 m\n"
       ]
      }
     ],
     "prompt_number": 18
    },
    {
     "cell_type": "heading",
     "level": 2,
     "metadata": {},
     "source": [
      "Example number 5.5, Page number 26"
     ]
    },
    {
     "cell_type": "code",
     "collapsed": false,
     "input": [
      "#importing modules\n",
      "import math\n",
      "from __future__ import division\n",
      "\n",
      "#Variable declaration\n",
      "f=7*10**6;    #ultrasonic frequency(Hz)\n",
      "theta=45;   #transducer angle(degrees)\n",
      "v=1.5;    #blood velocity(m/s)\n",
      "U=1500;   #ultrasonic velocity(m/s)\n",
      "\n",
      "#Calculation\n",
      "theta=theta*(math.pi/180);     #transducer angle(radian)\n",
      "deltaf=2*f*v*math.cos(theta)/U;    #audio frequency(Hz)\n",
      "\n",
      "#Result\n",
      "print \"audio frequency is\",round(deltaf/10**3),\"kHz\""
     ],
     "language": "python",
     "metadata": {},
     "outputs": [
      {
       "output_type": "stream",
       "stream": "stdout",
       "text": [
        "audio frequency is 10.0 kHz\n"
       ]
      }
     ],
     "prompt_number": 22
    }
   ],
   "metadata": {}
  }
 ]
}