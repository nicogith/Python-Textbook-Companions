{
 "metadata": {
  "name": "",
  "signature": "sha256:ba867fe9fbc8067f0691ccade40c2ad894318b7fde36802aa91fc404852bb7c8"
 },
 "nbformat": 3,
 "nbformat_minor": 0,
 "worksheets": [
  {
   "cells": [
    {
     "cell_type": "heading",
     "level": 1,
     "metadata": {},
     "source": [
      "2: Viscosity"
     ]
    },
    {
     "cell_type": "heading",
     "level": 2,
     "metadata": {},
     "source": [
      "Example number 2.1, Page number 11"
     ]
    },
    {
     "cell_type": "code",
     "collapsed": false,
     "input": [
      "#importing modules\n",
      "import math\n",
      "from __future__ import division\n",
      "\n",
      "#Variable declaration\n",
      "eta=8.9*10**-4;    #coefficient of viscosity of water(Ns/m**2)\n",
      "a=0.054*10**-2;    #radius of capillary tube(m)\n",
      "l=56*10**-2;   #length of capillary tube(m)\n",
      "h=34*10**-4;   #height of pressure head(m)\n",
      "t=5*60;    #time of flow(s)\n",
      "g=9.8;\n",
      "rho=10**3;   #density of water(kg/m**3)\n",
      "\n",
      "#Calculation\n",
      "V=math.pi*h*g*rho*(a**4)/(8*eta*l);    #volume of water in 1 sec(m**3)\n",
      "V5=V*t;    #volme of water flowing in 5 minutes(m**3)\n",
      "m=V5*rho;   #mass of water flowing in 5 minutes(kg)\n",
      "\n",
      "#Result\n",
      "print \"mass of water flowing in 5 minutes is\",round(m*10**3,4),\"g\""
     ],
     "language": "python",
     "metadata": {},
     "outputs": [
      {
       "output_type": "stream",
       "stream": "stdout",
       "text": [
        "mass of water flowing in 5 minutes is 0.6697 g\n"
       ]
      }
     ],
     "prompt_number": 5
    },
    {
     "cell_type": "heading",
     "level": 2,
     "metadata": {},
     "source": [
      "Example number 2.2, Page number 12"
     ]
    },
    {
     "cell_type": "code",
     "collapsed": false,
     "input": [
      "#importing modules\n",
      "import math\n",
      "from __future__ import division\n",
      "\n",
      "#Variable declaration\n",
      "t1=6;   #time taken by water(s)\n",
      "t2=3.6;   #time taken by alcohol(s)\n",
      "rho1=10**3;  #density of water(kg/m**3)\n",
      "rho2=800;    #density of alcohol(kg/m**3)\n",
      "eta1=8.9*10**-4;   #viscosity of water(Ns/m**2)\n",
      "\n",
      "#Calculation\n",
      "eta2=t2*rho2*eta1/(t1*rho1);   #viscosity of alcohol(Ns/m**2)\n",
      "\n",
      "#Result\n",
      "print \"viscosity of alcohol is\",eta2*10**4,\"*10**-4 Ns/m**2\""
     ],
     "language": "python",
     "metadata": {},
     "outputs": [
      {
       "output_type": "stream",
       "stream": "stdout",
       "text": [
        "viscosity of alcohol is 4.272 *10**-4 Ns/m**2\n"
       ]
      }
     ],
     "prompt_number": 7
    },
    {
     "cell_type": "heading",
     "level": 2,
     "metadata": {},
     "source": [
      "Example number 2.3, Page number 12"
     ]
    },
    {
     "cell_type": "code",
     "collapsed": false,
     "input": [
      "#importing modules\n",
      "import math\n",
      "from __future__ import division\n",
      "\n",
      "#Variable declaration\n",
      "sigma=1.26*10**-3;   #density of medium(kg/m**3)\n",
      "eta=2*10**-5;   #viscosity of medium(Ns/m**2)\n",
      "r=0.2*10**-2;   #radius of body(m)\n",
      "rho=8*10**-3;   #density of body(kg/m**3)\n",
      "g=9.8;\n",
      "\n",
      "#Calculation\n",
      "v=2*(r**2)*(rho-sigma)*g/(9*eta);    #terminal velocity(m/s)\n",
      "\n",
      "#Result\n",
      "print \"terminal velocity is\",round(v*10**3,4),\"*10**-3 m/s\""
     ],
     "language": "python",
     "metadata": {},
     "outputs": [
      {
       "output_type": "stream",
       "stream": "stdout",
       "text": [
        "terminal velocity is 2.9356 *10**-3 m/s\n"
       ]
      }
     ],
     "prompt_number": 12
    }
   ],
   "metadata": {}
  }
 ]
}