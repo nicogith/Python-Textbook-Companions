{
 "metadata": {
  "name": "",
  "signature": "sha256:091a42f6c4748025b72b34c7f12edc07c6f7f79e00e0f5e82232274fbc41738c"
 },
 "nbformat": 3,
 "nbformat_minor": 0,
 "worksheets": [
  {
   "cells": [
    {
     "cell_type": "heading",
     "level": 1,
     "metadata": {},
     "source": [
      "7: Interference"
     ]
    },
    {
     "cell_type": "heading",
     "level": 2,
     "metadata": {},
     "source": [
      "Example number 7.1, Page number 16"
     ]
    },
    {
     "cell_type": "code",
     "collapsed": false,
     "input": [
      "#importing modules\n",
      "import math\n",
      "from __future__ import division\n",
      "\n",
      "#Variable declaration\n",
      "theta=40;    #angle of wedge(s)\n",
      "beta=0.125*10**-2;   #fringe width(m)\n",
      "\n",
      "#Calculation\n",
      "lamda=2*beta*theta*(math.pi/180)*(1/60)*(1/60);    #wavelength of light(m)\n",
      "\n",
      "#Result\n",
      "print \"wavelength of light is\",int(lamda*10**10),\"angstrom\""
     ],
     "language": "python",
     "metadata": {},
     "outputs": [
      {
       "output_type": "stream",
       "stream": "stdout",
       "text": [
        "wavelength of light is 4848 angstrom\n"
       ]
      }
     ],
     "prompt_number": 4
    },
    {
     "cell_type": "heading",
     "level": 2,
     "metadata": {},
     "source": [
      "Example number 7.3, Page number 17"
     ]
    },
    {
     "cell_type": "code",
     "collapsed": false,
     "input": [
      "#importing modules\n",
      "import math\n",
      "from __future__ import division\n",
      "\n",
      "#Variable declaration\n",
      "n=100;    #number of fringes\n",
      "d=0.03*10**-3;    #distance moved(m)\n",
      "\n",
      "#Calculation\n",
      "lamda=2*d/n;   #wavelength of light(m)\n",
      "\n",
      "#Result\n",
      "print \"wavelength of light is\",lamda*10**10,\"angstrom\""
     ],
     "language": "python",
     "metadata": {},
     "outputs": [
      {
       "output_type": "stream",
       "stream": "stdout",
       "text": [
        "wavelength of light is 6000.0 angstrom\n"
       ]
      }
     ],
     "prompt_number": 6
    },
    {
     "cell_type": "heading",
     "level": 2,
     "metadata": {},
     "source": [
      "Example number 7.4, Page number 17"
     ]
    },
    {
     "cell_type": "code",
     "collapsed": false,
     "input": [
      "#importing modules\n",
      "import math\n",
      "from __future__ import division\n",
      "\n",
      "#Variable declaration\n",
      "lamda1=5896*10**-10;    #wavelength of D1 line(m)\n",
      "lamda2=5890*10**-10;    #wavelength of D2 line(m)\n",
      "\n",
      "#Calculation\n",
      "d=lamda1*lamda2/(2*(lamda1-lamda2));    #distance the mirror has to be moved(m)\n",
      "\n",
      "#Result\n",
      "print \"distance the mirror has to be moved is\",round(d*10**3,4),\"mm\""
     ],
     "language": "python",
     "metadata": {},
     "outputs": [
      {
       "output_type": "stream",
       "stream": "stdout",
       "text": [
        "distance the mirror has to be moved is 0.2894 mm\n"
       ]
      }
     ],
     "prompt_number": 13
    },
    {
     "cell_type": "heading",
     "level": 2,
     "metadata": {},
     "source": [
      "Example number 7.5, Page number 18"
     ]
    },
    {
     "cell_type": "code",
     "collapsed": false,
     "input": [
      "#importing modules\n",
      "import math\n",
      "from __future__ import division\n",
      "\n",
      "#Variable declaration\n",
      "mew=1.5;     #refractive index of plate\n",
      "d=1.24;    #distance between dark fringes(mm)\n",
      "\n",
      "#Calculation\n",
      "t=d/(mew-1);    #thickness of glass plate(mm)\n",
      "\n",
      "#Result\n",
      "print \"thickness of glass plate is\",t,\"mm\""
     ],
     "language": "python",
     "metadata": {},
     "outputs": [
      {
       "output_type": "stream",
       "stream": "stdout",
       "text": [
        "thickness of glass plate is 2.48 mm\n"
       ]
      }
     ],
     "prompt_number": 15
    }
   ],
   "metadata": {}
  }
 ]
}