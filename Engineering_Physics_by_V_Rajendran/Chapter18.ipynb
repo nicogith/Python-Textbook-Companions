{
 "metadata": {
  "name": "",
  "signature": "sha256:b2d7b45e6d7157611952afeb132c76e4391a2a303ceb4704e095dc42c36f50c3"
 },
 "nbformat": 3,
 "nbformat_minor": 0,
 "worksheets": [
  {
   "cells": [
    {
     "cell_type": "heading",
     "level": 1,
     "metadata": {},
     "source": [
      "18: Transport properties of semiconductors"
     ]
    },
    {
     "cell_type": "heading",
     "level": 2,
     "metadata": {},
     "source": [
      "Example number 18.1, Page number 26"
     ]
    },
    {
     "cell_type": "code",
     "collapsed": false,
     "input": [
      "#importing modules\n",
      "import math\n",
      "from __future__ import division\n",
      "\n",
      "#Variable declaration\n",
      "T=300;    #temperature(K)\n",
      "mew_e=0.4;   #electron mobility(m**2/Vs)\n",
      "mew_h=0.2;      #hole mobility(m**2/Vs)\n",
      "Eg=0.7;     #band gap(eV)\n",
      "m0=9.1*10**-31;   #mass of electron(kg)\n",
      "mestar=0.55*m0;   #electron effective mass(kg)\n",
      "mhstar=0.37*m0;   #hole effective mass(kg)\n",
      "k=1.38*10**-23;   #boltzmann constant\n",
      "h=6.626*10**-34;  #planck's constant\n",
      "e=1.6*10**-19;    #charge of electron(c)\n",
      "\n",
      "#Calculation\n",
      "a=(2*math.pi*k*T/(h**2))**(3/2);\n",
      "Eg=Eg*e;    #band gap(J)\n",
      "b=-Eg/(k*T);   \n",
      "ni=2*a*((mhstar*mestar)**(3/4))*math.exp(b);   #intrinsic concentration(per m**3)\n",
      "sigma=ni*e*(mew_e+mew_h);   #intrinsic conductivity(per ohm m)\n",
      "rho=1/sigma;   #intrinsic resistivity(ohm m)\n",
      "\n",
      "#Result\n",
      "print \"intrinsic concentration is\",round(ni/10**13,3),\"*10**13 per m**3\"\n",
      "print \"intrinsic conductivity is\",round(sigma*10**6,3),\"*10**-6 per ohm m\"\n",
      "print \"intrinsic resistivity is\",round(rho/10**6,2),\"*10**6 ohm m\""
     ],
     "language": "python",
     "metadata": {},
     "outputs": [
      {
       "output_type": "stream",
       "stream": "stdout",
       "text": [
        "intrinsic concentration is 1.352 *10**13 per m**3\n",
        "intrinsic conductivity is 1.298 *10**-6 per ohm m\n",
        "intrinsic resistivity is 0.77 *10**6 ohm m\n"
       ]
      }
     ],
     "prompt_number": 5
    },
    {
     "cell_type": "heading",
     "level": 2,
     "metadata": {},
     "source": [
      "Example number 18.2, Page number 26"
     ]
    },
    {
     "cell_type": "code",
     "collapsed": false,
     "input": [
      "#importing modules\n",
      "import math\n",
      "from __future__ import division\n",
      "\n",
      "#Variable declaration\n",
      "T=300;    #temperature(K)\n",
      "k=1.38*10**-23;   #boltzmann constant\n",
      "Nd=10**16;   #donor concentration(per cm**3)\n",
      "ni=1.45*10**10;   #intrinsic concentration(per cm**3)\n",
      "e=1.6*10**-19;    #charge of electron(c)\n",
      "\n",
      "#Calculation\n",
      "Efd_Efi=k*T*math.log(Nd/ni);    #fermi energy(J)\n",
      "Efd_Efi=Efd_Efi/e;   #fermi energy(eV)\n",
      "\n",
      "#Result\n",
      "print \"fermi energy is\",round(Efd_Efi,3),\"eV\""
     ],
     "language": "python",
     "metadata": {},
     "outputs": [
      {
       "output_type": "stream",
       "stream": "stdout",
       "text": [
        "fermi energy is 0.348 eV\n"
       ]
      }
     ],
     "prompt_number": 9
    },
    {
     "cell_type": "heading",
     "level": 2,
     "metadata": {},
     "source": [
      "Example number 18.3, Page number 27"
     ]
    },
    {
     "cell_type": "code",
     "collapsed": false,
     "input": [
      "#importing modules\n",
      "import math\n",
      "from __future__ import division\n",
      "\n",
      "#Variable declaration\n",
      "mew_e=1.35;   #electron mobility(m**2/Vs)\n",
      "mew_h=0.45;      #hole mobility(m**2/Vs)\n",
      "ni=1.45*10**13;  #intrinsic concentration(per m**3)\n",
      "NSi=5*10**28;   #atomic concentration(per m**3)\n",
      "e=1.6*10**-19;    #charge of electron(c)\n",
      "LbyA=1;   #Si crystal(cm**3)\n",
      "\n",
      "#Calculation\n",
      "sigmai=ni*e*(mew_e+mew_h);   #intrinsic conductivity(per ohm m)\n",
      "rho=1/sigmai;   #intrinsic resistivity(ohm m)\n",
      "LbyA=LbyA*10**2;   #Si crystal(m**3)\n",
      "R1=rho*LbyA;  #resistance(ohm)\n",
      "Nd=NSi/10**9;   #donor concentration(per m**3)\n",
      "p=(ni**2)/Nd;   #hole concentration(per m**3)\n",
      "sigma=Nd*e*mew_e;  #conductivity(per ohm m)\n",
      "R2=(1/sigma)*100;  #resistance(ohm)   \n",
      "\n",
      "#Result\n",
      "print \"resistance of 1cm**3 pure Si crystal is\",round(R1/10**7,2),\"*10**7 ohm\"\n",
      "print \"resistance when crystal is doped with arsenic is\",round(R2,2),\"ohm\""
     ],
     "language": "python",
     "metadata": {},
     "outputs": [
      {
       "output_type": "stream",
       "stream": "stdout",
       "text": [
        "resistance of 1cm**3 pure Si crystal is 2.39 *10**7 ohm\n",
        "resistance when crystal is doped with arsenic is 9.26 ohm\n"
       ]
      }
     ],
     "prompt_number": 13
    },
    {
     "cell_type": "heading",
     "level": 2,
     "metadata": {},
     "source": [
      "Example number 18.4, Page number 28"
     ]
    },
    {
     "cell_type": "code",
     "collapsed": false,
     "input": [
      "#importing modules\n",
      "import math\n",
      "from __future__ import division\n",
      "\n",
      "#Variable declaration\n",
      "T=300;   #temperature(K)\n",
      "rho=2.12;   #resistivity(ohm m)\n",
      "mew_e=0.36;   #electron mobility(m**2/Vs)\n",
      "mew_h=0.17;      #hole mobility(m**2/Vs)\n",
      "mestar=0.5*m0;   #electron effective mass(kg)\n",
      "mhstar=0.37*m0;   #hole effective mass(kg)\n",
      "m0=9.1*10**-31;   #mass of electron(kg)\n",
      "k=1.38*10**-23;   #boltzmann constant\n",
      "h=6.626*10**-34;  #planck's constant\n",
      "e=1.6*10**-19;    #charge of electron(c)\n",
      "\n",
      "#Calculation\n",
      "sigma=1/rho;   #conductivity(per ohm m)\n",
      "ni=sigma/(e*(mew_e+mew_h));   #intrinsic concentration(per m**3)\n",
      "a=(2*math.pi*k*T/(h**2))**(3/2);\n",
      "NC=2*a*(mestar**(3/2));\n",
      "NV=2*a*(mhstar**(3/2));\n",
      "b=(NC*NV)**(1/2);\n",
      "Eg=2*k*T*math.log(b/ni);    #energy gap of semiconductor(J)\n",
      "Eg=Eg/e;    #energy gap of semiconductor(eV)\n",
      "\n",
      "#Result\n",
      "print \"energy gap of semiconductor is\",round(Eg,3),\"eV\""
     ],
     "language": "python",
     "metadata": {},
     "outputs": [
      {
       "output_type": "stream",
       "stream": "stdout",
       "text": [
        "energy gap of semiconductor is 0.727 eV\n"
       ]
      }
     ],
     "prompt_number": 17
    },
    {
     "cell_type": "heading",
     "level": 2,
     "metadata": {},
     "source": [
      "Example number 18.5, Page number 29"
     ]
    },
    {
     "cell_type": "code",
     "collapsed": false,
     "input": [
      "#importing modules\n",
      "import math\n",
      "from __future__ import division\n",
      "\n",
      "#Variable declaration\n",
      "e=1.6*10**-19;    #charge of electron(c)\n",
      "mew_e=0.39;   #electron mobility(m**2/Vs)\n",
      "mew_h=0.19;      #hole mobility(m**2/Vs)\n",
      "ni=2.4*10**19;  #intrinsic concentration(per m**3)\n",
      "\n",
      "#Calculation\n",
      "sigmai=ni*e*(mew_e+mew_h);    #conductivity of Ge(per Wm)\n",
      "\n",
      "#Result\n",
      "print \"conductivity of Ge is\",round(sigmai,3),\"per Wm\""
     ],
     "language": "python",
     "metadata": {},
     "outputs": [
      {
       "output_type": "stream",
       "stream": "stdout",
       "text": [
        "conductivity of Ge is 2.227 per Wm\n"
       ]
      }
     ],
     "prompt_number": 19
    },
    {
     "cell_type": "heading",
     "level": 2,
     "metadata": {},
     "source": [
      "Example number 18.6, Page number 29"
     ]
    },
    {
     "cell_type": "code",
     "collapsed": false,
     "input": [
      "#importing modules\n",
      "import math\n",
      "from __future__ import division\n",
      "\n",
      "#Variable declaration\n",
      "EC_EF300=-0.3;    #position of fermi level(eV)\n",
      "T1=300;   #temperature(K)\n",
      "T2=330;   #temperature(K)\n",
      "k=1.38*10**-23;   #boltzmann constant\n",
      "e=1.6*10**-19;    #charge of electron(c)\n",
      "\n",
      "#Calculation\n",
      "EC_EF330=-EC_EF300*T2/T1;   #new position of fermi level(eV)\n",
      "\n",
      "#Result\n",
      "print \"new position of fermi level is\",EC_EF330,\"eV\""
     ],
     "language": "python",
     "metadata": {},
     "outputs": [
      {
       "output_type": "stream",
       "stream": "stdout",
       "text": [
        "new position of fermi level is 0.33 eV\n"
       ]
      }
     ],
     "prompt_number": 21
    },
    {
     "cell_type": "heading",
     "level": 2,
     "metadata": {},
     "source": [
      "Example number 18.7, Page number 30"
     ]
    },
    {
     "cell_type": "code",
     "collapsed": false,
     "input": [
      "#importing modules\n",
      "import math\n",
      "from __future__ import division\n",
      "\n",
      "#Variable declaration\n",
      "T1=20;    #temperature(C)\n",
      "T2=40;    #temperature(C)\n",
      "Eg=0.72;   #energy gap(eV)\n",
      "e=1.6*10**-19;    #charge of electron(c)\n",
      "k=1.38*10**-23;   #boltzmann constant\n",
      "sigmai20=2;    #conductivity(per ohm m)\n",
      "\n",
      "#Calculation\n",
      "T1=T1+273;   #temperature(K)\n",
      "T2=T2+273;   #temperature(K)\n",
      "Eg=Eg*e;   #energy gap(J)\n",
      "a=(T2/T1)**(3/2);\n",
      "b=Eg/(2*k);\n",
      "c=(1/T1)-(1/T2);\n",
      "ni40byni20=a*math.exp(b*c);    #ratio of intrinsic concentration\n",
      "sigmai40=sigmai20*ni40byni20;   #conductivity at 40C(per ohm m)\n",
      "\n",
      "#Result\n",
      "print \"conductivity at 40C is\",round(sigmai40,3),\"per ohm m\""
     ],
     "language": "python",
     "metadata": {},
     "outputs": [
      {
       "output_type": "stream",
       "stream": "stdout",
       "text": [
        "conductivity at 40C is 5.487 per ohm m\n"
       ]
      }
     ],
     "prompt_number": 25
    },
    {
     "cell_type": "heading",
     "level": 2,
     "metadata": {},
     "source": [
      "Example number 18.8, Page number 30"
     ]
    },
    {
     "cell_type": "code",
     "collapsed": false,
     "input": [
      "#importing modules\n",
      "import math\n",
      "from __future__ import division\n",
      "\n",
      "#Variable declaration\n",
      "e=1.6*10**-19;    #charge of electron(c)\n",
      "k=1.38*10**-23;   #boltzmann constant\n",
      "T=300;   #temperature(K)\n",
      "m0=9.1*10**-31;   #mass of electron(kg)\n",
      "Eg=1.1;   #energy gap(eV)\n",
      "mestar=0.31*m0;   #effective mass of electron(kg)\n",
      "\n",
      "#Calculation\n",
      "Eg=Eg*e;    #energy gap(J)\n",
      "a=(2*math.pi*k*T*mestar/(h**2))**(3/2);\n",
      "b=-Eg/(2*k*T);   \n",
      "ni=2*a*math.exp(b);   #intrinsic concentration(per m**3)\n",
      "\n",
      "#Result\n",
      "print \"intrinsic concentration is\",round(ni/10**15,4),\"*10**15 per m**3\""
     ],
     "language": "python",
     "metadata": {},
     "outputs": [
      {
       "output_type": "stream",
       "stream": "stdout",
       "text": [
        "intrinsic concentration is 2.5367 *10**15 per m**3\n"
       ]
      }
     ],
     "prompt_number": 27
    },
    {
     "cell_type": "heading",
     "level": 2,
     "metadata": {},
     "source": [
      "Example number 18.9, Page number 31"
     ]
    },
    {
     "cell_type": "code",
     "collapsed": false,
     "input": [
      "#importing modules\n",
      "import math\n",
      "from __future__ import division\n",
      "\n",
      "#Variable declaration\n",
      "RH=-0.55*10**-10;    #hall coefficient(m**3/As)\n",
      "sigma=5.9*10**7;    #conductivity(per ohm m)\n",
      "\n",
      "#Calculation\n",
      "mewd=-RH*sigma;     #drift mobility(m**2/Vs)\n",
      "\n",
      "#Result\n",
      "print \"drift mobility is\",round(mewd*10**3,1),\"*10**-3 m**2/Vs\""
     ],
     "language": "python",
     "metadata": {},
     "outputs": [
      {
       "output_type": "stream",
       "stream": "stdout",
       "text": [
        "drift mobility is 3.2 *10**-3 m**2/Vs\n"
       ]
      }
     ],
     "prompt_number": 31
    },
    {
     "cell_type": "heading",
     "level": 2,
     "metadata": {},
     "source": [
      "Example number 18.10, Page number 31"
     ]
    },
    {
     "cell_type": "code",
     "collapsed": false,
     "input": [
      "#importing modules\n",
      "import math\n",
      "from __future__ import division\n",
      "\n",
      "#Variable declaration\n",
      "sigma=5.9*10**7;    #conductivity(per ohm m)\n",
      "e=1.6*10**-19;    #charge of electron(c)\n",
      "mew=3.2*10**-3;   #drift velocity(m**2/Vs)\n",
      "N=6.022*10**23;   #avagadro number\n",
      "ne=8900*10**3;   #number of free electrons per atom\n",
      "w=63.5;    #atomic weight of Cu(kg)\n",
      "\n",
      "#Calculation\n",
      "ni=sigma/(e*mew);   #intrinsic concentration(per m**3)\n",
      "n=N*ne/w;  #concentration of free electrons(per m**3)\n",
      "a=ni/n;    #average number of electrons\n",
      "\n",
      "#Result\n",
      "print \"intrinsic concentration is\",round(ni/10**29,2),\"*10**29 per m**3\"\n",
      "print \"concentration of free electrons is\",round(n/10**28,2),\"*10**28 per m**3\"\n",
      "print \"average number of electrons is\",int(a)"
     ],
     "language": "python",
     "metadata": {},
     "outputs": [
      {
       "output_type": "stream",
       "stream": "stdout",
       "text": [
        "intrinsic concentration is 1.15 *10**29 per m**3\n",
        "concentration of free electrons is 8.44 *10**28 per m**3\n",
        "average number of electrons is 1\n"
       ]
      }
     ],
     "prompt_number": 34
    },
    {
     "cell_type": "heading",
     "level": 2,
     "metadata": {},
     "source": [
      "Example number 18.11, Page number 32"
     ]
    },
    {
     "cell_type": "code",
     "collapsed": false,
     "input": [
      "#importing modules\n",
      "import math\n",
      "from __future__ import division\n",
      "\n",
      "#Variable declaration\n",
      "RH=3.66*10**-11;   #hall coefficient(m**3/As)\n",
      "sigma=112*10**7;   #conductivity(per ohm m)\n",
      "e=1.6*10**-19;    #charge of electron(c)\n",
      "\n",
      "#Calculation\n",
      "n=3*math.pi/(8*RH*e);    #concentration of electrons(per m**3)\n",
      "mew_e=sigma/(n*e);    #electron mobility(m**2/Vs)\n",
      "\n",
      "#Result\n",
      "print \"concentration of electrons is\",round(n/10**29,1),\"*10**29 per m**3\"\n",
      "print \"electron mobility is\",round(mew_e,3),\"m**2/Vs\""
     ],
     "language": "python",
     "metadata": {},
     "outputs": [
      {
       "output_type": "stream",
       "stream": "stdout",
       "text": [
        "concentration of electrons is 2.0 *10**29 per m**3\n",
        "electron mobility is 0.035 m**2/Vs\n"
       ]
      }
     ],
     "prompt_number": 37
    },
    {
     "cell_type": "heading",
     "level": 2,
     "metadata": {},
     "source": [
      "Example number 18.12, Page number 33"
     ]
    },
    {
     "cell_type": "code",
     "collapsed": false,
     "input": [
      "#importing modules\n",
      "import math\n",
      "from __future__ import division\n",
      "\n",
      "#Variable declaration\n",
      "i=50;   #current(A)\n",
      "B=1.5;  #magnetic field(T)\n",
      "n=8.4*10**28;   #concentration of electrons(per m**3)\n",
      "t=0.5;   #thickness(cm)\n",
      "w=2;   #width of slab(cm)\n",
      "e=1.6*10**-19;    #charge of electron(c)\n",
      "\n",
      "#Calculation\n",
      "w=w*10**-2;   #width of slab(m)\n",
      "VH=B*i/(n*e*w);    #hall voltage(V)\n",
      "\n",
      "#Result\n",
      "print \"hall voltage is\",round(VH*10**7,2),\"*10**-7 V\""
     ],
     "language": "python",
     "metadata": {},
     "outputs": [
      {
       "output_type": "stream",
       "stream": "stdout",
       "text": [
        "hall voltage is 2.79 *10**-7 V\n"
       ]
      }
     ],
     "prompt_number": 39
    }
   ],
   "metadata": {}
  }
 ]
}