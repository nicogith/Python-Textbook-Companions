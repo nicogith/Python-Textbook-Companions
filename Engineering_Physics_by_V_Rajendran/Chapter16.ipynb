{
 "metadata": {
  "name": "",
  "signature": "sha256:0a8e4e4ffe1102aa0e8d709fa097c42aa3e09b9945c321059b30f1ddc8f4e107"
 },
 "nbformat": 3,
 "nbformat_minor": 0,
 "worksheets": [
  {
   "cells": [
    {
     "cell_type": "heading",
     "level": 1,
     "metadata": {},
     "source": [
      "16: Electron theory of solids"
     ]
    },
    {
     "cell_type": "heading",
     "level": 2,
     "metadata": {},
     "source": [
      "Example number 16.1, Page number 10"
     ]
    },
    {
     "cell_type": "code",
     "collapsed": false,
     "input": [
      "#importing modules\n",
      "import math\n",
      "from __future__ import division\n",
      "\n",
      "#Variable declaration\n",
      "sigma=5.87*10**7;   #electrical conductivity of Cu(per ohm m)\n",
      "K=390;   #thermal conductivity(W/mK)\n",
      "T=20+273;   #temperature(K)\n",
      "\n",
      "#Calculation\n",
      "L=K/(sigma*T);   #Lorentz number(W ohm/K**2)\n",
      "\n",
      "#Result\n",
      "print \"Lorentz number is\",round(L*10**8,4),\"*10**-8 W ohm/K**2\""
     ],
     "language": "python",
     "metadata": {},
     "outputs": [
      {
       "output_type": "stream",
       "stream": "stdout",
       "text": [
        "Lorentz number is 2.2676 *10**-8 W ohm/K**2\n"
       ]
      }
     ],
     "prompt_number": 2
    },
    {
     "cell_type": "heading",
     "level": 2,
     "metadata": {},
     "source": [
      "Example number 16.2, Page number 11"
     ]
    },
    {
     "cell_type": "code",
     "collapsed": false,
     "input": [
      "#importing modules\n",
      "import math\n",
      "from __future__ import division\n",
      "\n",
      "#Variable declaration\n",
      "tow_r=10**-14;   #relaxation time(s)\n",
      "T=300;   #temperature(K)\n",
      "kB=1.38*10**-23;   #boltzmann constant\n",
      "e=1.6*10**-19;   #charge of electron(c)\n",
      "m=9.1*10**-31;   #mass of electron(kg)\n",
      "n=6*10**28;   #electron concentration(per m**3)\n",
      "\n",
      "#Calculation\t\n",
      "sigma=n*e**2*tow_r/m;   #electrical conductivity(per ohm m)\n",
      "K=n*math.pi**2*kB**2*T*tow_r/(3*m);   #thermal conductivity(W/mK)\n",
      "L=K/(sigma*T);   #Lorentz number(W ohm/K**2)\n",
      "\n",
      "#Result\n",
      "print \"electrical conductivity is\",round(sigma/10**7,4),\"*10**7 per ohm m\"\n",
      "print \"thermal conductivity is\",round(K,4),\"W/mK\"\n",
      "print \"Lorentz number is\",round(L*10**8,4),\"*10**-8 W ohm/K**2\""
     ],
     "language": "python",
     "metadata": {},
     "outputs": [
      {
       "output_type": "stream",
       "stream": "stdout",
       "text": [
        "electrical conductivity is 1.6879 *10**7 per ohm m\n",
        "thermal conductivity is 123.9275 W/mK\n",
        "Lorentz number is 2.4474 *10**-8 W ohm/K**2\n"
       ]
      }
     ],
     "prompt_number": 7
    },
    {
     "cell_type": "heading",
     "level": 2,
     "metadata": {},
     "source": [
      "Example number 16.3, Page number 11"
     ]
    },
    {
     "cell_type": "code",
     "collapsed": false,
     "input": [
      "#importing modules\n",
      "import math\n",
      "from __future__ import division\n",
      "\n",
      "#Variable declaration\n",
      "tow_r=10**-14;   #relaxation time(s)\n",
      "rho=8900;   #density of Cu(kg/m**3)\n",
      "aw=63.5;   #atomic weight of Cu\n",
      "N=6.022*10**23;   #avagadro constant\n",
      "f=1*10**3;   #number of free electrons per atom\n",
      "e=1.6*10**-19;   #charge of electron(c)\n",
      "m=9.1*10**-31;   #mass of electron(kg)\n",
      "\n",
      "#Calculation\t\n",
      "n=N*rho*f/aw;    #electron concentration(per m**3)\n",
      "sigma=n*e**2*tow_r/m;   #electrical conductivity(per ohm m)\n",
      "\n",
      "#Result\n",
      "print \"electrical conductivity is\",round(sigma/10**7,3),\"*10**7 per ohm m\""
     ],
     "language": "python",
     "metadata": {},
     "outputs": [
      {
       "output_type": "stream",
       "stream": "stdout",
       "text": [
        "electrical conductivity is 2.374 *10**7 per ohm m\n"
       ]
      }
     ],
     "prompt_number": 10
    },
    {
     "cell_type": "heading",
     "level": 2,
     "metadata": {},
     "source": [
      "Example number 16.4, Page number 12"
     ]
    },
    {
     "cell_type": "code",
     "collapsed": false,
     "input": [
      "#importing modules\n",
      "import math\n",
      "from __future__ import division\n",
      "\n",
      "#Variable declaration\n",
      "rho=1.54*10**-8;   #resistivity(ohm m)\n",
      "EF=5.5;   #fermi energy(eV)\n",
      "e=1.6*10**-19;   #charge of electron(c)\n",
      "m=9.1*10**-31;   #mass of electron(kg)\n",
      "E=100;\n",
      "n=5.8*10**28;   #electron concentration(per m**3)\n",
      "\n",
      "#Calculation\t\n",
      "tow_r=m/(rho*n*e**2);   #relaxation time(s)\n",
      "mew=e*tow_r/m;   #mobility of electrons(m**2/Vs)\n",
      "v=e*tow_r*E/m;   #drift velocity(m/s)\n",
      "EF=EF*e;   #fermi energy(J)\n",
      "vF=math.sqrt(2*EF/m);   #fermi velocity(m/s)\n",
      "lamda=vF*tow_r;   #mean free path(m)\n",
      "\n",
      "#Result\n",
      "print \"relaxation time is\",round(tow_r*10**14,2),\"*10**-14 s\"\n",
      "print \"mobility of electrons is\",round(mew*10**3,3),\"*10**-3 m**2/Vs\"\n",
      "print \"drift velocity is\",round(v,4),\"m/s\"\n",
      "print \"fermi velocity is\",round(vF/10**6,2),\"*10**6 m/s\"\n",
      "print \"mean free path is\",round(lamda*10**8,2),\"*10**-8 m\""
     ],
     "language": "python",
     "metadata": {},
     "outputs": [
      {
       "output_type": "stream",
       "stream": "stdout",
       "text": [
        "relaxation time is 3.98 *10**-14 s\n",
        "mobility of electrons is 6.997 *10**-3 m**2/Vs\n",
        "drift velocity is 0.6997 m/s\n",
        "fermi velocity is 1.39 *10**6 m/s\n",
        "mean free path is 5.53 *10**-8 m\n"
       ]
      }
     ],
     "prompt_number": 15
    }
   ],
   "metadata": {}
  }
 ]
}