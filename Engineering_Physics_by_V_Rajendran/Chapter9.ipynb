{
 "metadata": {
  "name": "",
  "signature": "sha256:5f6e5e5e16ae36be54b773743f59e15ae672a0cecdab4854d7e43b7f805f4ffa"
 },
 "nbformat": 3,
 "nbformat_minor": 0,
 "worksheets": [
  {
   "cells": [
    {
     "cell_type": "heading",
     "level": 1,
     "metadata": {},
     "source": [
      "9: Photoelasticity"
     ]
    },
    {
     "cell_type": "heading",
     "level": 2,
     "metadata": {},
     "source": [
      "Example number 9.1, Page number 10"
     ]
    },
    {
     "cell_type": "code",
     "collapsed": false,
     "input": [
      "#importing modules\n",
      "import math\n",
      "from __future__ import division\n",
      "\n",
      "#Variable declaration\n",
      "alpha1_alpha2=10*10**8;   #difference between pincipal stress(N/m**2)\n",
      "c=1*10**-12;    #stress optic coefficient(m**2/N)\n",
      "\n",
      "#Calculation\n",
      "N=c*alpha1_alpha2;   #difference between refractive indices\n",
      "\n",
      "#Result\n",
      "print \"difference between refractive indices is\",N"
     ],
     "language": "python",
     "metadata": {},
     "outputs": [
      {
       "output_type": "stream",
       "stream": "stdout",
       "text": [
        "difference between refractive indices is 0.001\n"
       ]
      }
     ],
     "prompt_number": 1
    },
    {
     "cell_type": "heading",
     "level": 2,
     "metadata": {},
     "source": [
      "Example number 9.2, Page number 10"
     ]
    },
    {
     "cell_type": "code",
     "collapsed": false,
     "input": [
      "#importing modules\n",
      "import math\n",
      "from __future__ import division\n",
      "\n",
      "#Variable declaration\n",
      "alpha1=405*10**6;    #principal stress(N/m**2)\n",
      "alpha2=-105*10**6;   #principal stress(N/m**2)\n",
      "\n",
      "#Calculation\n",
      "tow_max=(alpha1-alpha2)/2;   #maximum shearing stress(N/m**2)\n",
      "\n",
      "#Result\n",
      "print \"maximum shearing stress is\",tow_max*10**-6,\"*10**6 N/m**2\""
     ],
     "language": "python",
     "metadata": {},
     "outputs": [
      {
       "output_type": "stream",
       "stream": "stdout",
       "text": [
        "maximum shearing stress is 255.0 *10**6 N/m**2\n"
       ]
      }
     ],
     "prompt_number": 3
    }
   ],
   "metadata": {}
  }
 ]
}