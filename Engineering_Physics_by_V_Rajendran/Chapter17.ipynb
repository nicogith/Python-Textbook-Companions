{
 "metadata": {
  "name": "",
  "signature": "sha256:fde95e6d9c736121aaabaa0d5609f06ddf07df078e4e974cfe128a5769da216f"
 },
 "nbformat": 3,
 "nbformat_minor": 0,
 "worksheets": [
  {
   "cells": [
    {
     "cell_type": "heading",
     "level": 1,
     "metadata": {},
     "source": [
      "17: Statistics and band theory of solids"
     ]
    },
    {
     "cell_type": "heading",
     "level": 2,
     "metadata": {},
     "source": [
      "Example number 17.1, Page number 23"
     ]
    },
    {
     "cell_type": "code",
     "collapsed": false,
     "input": [
      "#importing modules\n",
      "import math\n",
      "from __future__ import division\n",
      "\n",
      "#Variable declaration\n",
      "rhoCu=8.96*10**3;   #density of Cu(kg/m**3)\n",
      "awCu=63.55;   #atomic weight of Cu\n",
      "nfCu=1*10**3;   #number of free electrons per Cu atom\n",
      "rhoZn=7.14*10**3;   #density of Zn(kg/m**3)\n",
      "awZn=65.38;   #atomic weight of Zn\n",
      "nfZn=2*10**3;   #number of free electrons per Zn atom\n",
      "rhoAl=2.7*10**3;   #density of Al(kg/m**3)\n",
      "awAl=27;   #atomic weight of Al\n",
      "nfAl=3*10**3;   #number of free electrons per Al atom\n",
      "N=6.022*10**23;   #avagadro constant\n",
      "h=6.626*10**-34;   #planck's constant\n",
      "me=9.1*10**-31;   #mass of electron(kg)\n",
      "e=1.6*10**-19;   #electron charge(c)\n",
      "\n",
      "#Calculation\n",
      "nCu=rhoCu*N*nfCu/awCu;   #concentration of electrons in Cu(per m**3)\n",
      "EF0Cu=(h**2/(8*me))*(3*nCu/math.pi)**(2/3);   #fermi energy of Cu at 0K(J)\n",
      "EF0Cu=EF0Cu/e;    #fermi energy of Cu at 0K(eV)\n",
      "nZn=rhoZn*N*nfZn/awZn;   #concentration of electrons in Zn(per m**3)\n",
      "EF0Zn=(h**2/(8*me))*(3*nZn/math.pi)**(2/3);   #fermi energy of Zn at 0K(J)\n",
      "EF0Zn=EF0Zn/e;    #fermi energy of Zn at 0K(eV)\n",
      "nAl=rhoAl*N*nfAl/awAl;   #concentration of electrons in Al(per m**3)\n",
      "EF0Al=(h**2/(8*me))*(3*nAl/math.pi)**(2/3);   #fermi energy of Al at 0K(J)\n",
      "EF0Al=EF0Al/e;    #fermi energy of Al at 0K(eV)\n",
      "\n",
      "#Result\n",
      "print \"fermi energy of Cu at 0K is\",round(EF0Cu,4),\"eV\"\n",
      "print \"fermi energy of Zn at 0K is\",round(EF0Zn,2),\"eV\"\n",
      "print \"fermi energy of Al at 0K is\",round(EF0Al,2),\"eV\""
     ],
     "language": "python",
     "metadata": {},
     "outputs": [
      {
       "output_type": "stream",
       "stream": "stdout",
       "text": [
        "fermi energy of Cu at 0K is 7.0608 eV\n",
        "fermi energy of Zn at 0K is 9.45 eV\n",
        "fermi energy of Al at 0K is 11.68 eV\n"
       ]
      }
     ],
     "prompt_number": 2
    },
    {
     "cell_type": "heading",
     "level": 2,
     "metadata": {},
     "source": [
      "Example number 17.2, Page number 25"
     ]
    },
    {
     "cell_type": "code",
     "collapsed": false,
     "input": [
      "#importing modules\n",
      "import math\n",
      "from __future__ import division\n",
      "\n",
      "#Variable declaration\n",
      "nCu=8.4905*10**28;     #concentration of electrons in Cu(per m**3)\n",
      "h=6.626*10**-34;   #planck's constant\n",
      "me=9.1*10**-31;   #mass of electron(kg)\n",
      "gama=6.82*10**27;\n",
      "\n",
      "#Calculation\n",
      "EF0=(h**2/(8*me))*(3*nCu/math.pi)**(2/3);   #fermi energy of Cu at 0K(J)\n",
      "EF=EF0/e;    #fermi energy of Cu at 0K(eV)\n",
      "DE=(gama/2)*math.sqrt(EF);    #density of states for Cu at fermi level(per m**3)\n",
      "\n",
      "#Result\n",
      "print \"density of states for Cu at fermi level is\",int(DE/10**27),\"*10**27 per m**3\""
     ],
     "language": "python",
     "metadata": {},
     "outputs": [
      {
       "output_type": "stream",
       "stream": "stdout",
       "text": [
        "density of states for Cu at fermi level is 9 *10**27 per m**3\n"
       ]
      }
     ],
     "prompt_number": 4
    },
    {
     "cell_type": "heading",
     "level": 2,
     "metadata": {},
     "source": [
      "Example number 17.3, Page number 26"
     ]
    },
    {
     "cell_type": "code",
     "collapsed": false,
     "input": [
      "#importing modules\n",
      "import math\n",
      "from __future__ import division\n",
      "\n",
      "#Variable declaration\n",
      "rhoNi=69*10**-9;   #resistivity of Ni(ohm m)\n",
      "rhoCr=129*10**-9;  #resistivity of Cr(ohm m)\n",
      "rho=1120*10**-9;   #resistivity(ohm m) \n",
      "X=0.8;   \n",
      "\n",
      "#Calculation\n",
      "C=rho/(X*(1-X));   #Nordheim's coefficient(ohm m)\n",
      "\n",
      "#Result\n",
      "print \"Nordheim's coefficient is\",C,\"ohm m\""
     ],
     "language": "python",
     "metadata": {},
     "outputs": [
      {
       "output_type": "stream",
       "stream": "stdout",
       "text": [
        "Nordheim's coefficient is 7e-06 ohm m\n"
       ]
      }
     ],
     "prompt_number": 5
    },
    {
     "cell_type": "heading",
     "level": 2,
     "metadata": {},
     "source": [
      "Example number 17.4, Page number 26"
     ]
    },
    {
     "cell_type": "code",
     "collapsed": false,
     "input": [
      "#importing modules\n",
      "import math\n",
      "from __future__ import division\n",
      "\n",
      "#Variable declaration\n",
      "rho=2.7*10**3;   #density of Al(kg/m**3)\n",
      "M=27;   #atomic weight of Al \n",
      "tow_r=10**-14;   #relaxation time(s)\n",
      "e=1.6*10**-19;   #charge of electron(c)  \n",
      "NA=6.022*10**23;   #avagadro constant\n",
      "m=9.1*10**-31;   #mass of electron(kg)\n",
      "f=3*10**3;   #number of free electrons per atom\n",
      "\n",
      "#Calculation\n",
      "n=rho*NA*f/M;    #number of electrons available per m**3\n",
      "sigma=n*e**2*tow_r/m;    #conductivity of Al(ohm m) \n",
      "\n",
      "#Result\n",
      "print \"conductivity of Al is\",round(sigma/10**7,4),\"*10**7 ohm m\""
     ],
     "language": "python",
     "metadata": {},
     "outputs": [
      {
       "output_type": "stream",
       "stream": "stdout",
       "text": [
        "conductivity of Al is 5.0823 *10**7 ohm m\n"
       ]
      }
     ],
     "prompt_number": 7
    }
   ],
   "metadata": {}
  }
 ]
}