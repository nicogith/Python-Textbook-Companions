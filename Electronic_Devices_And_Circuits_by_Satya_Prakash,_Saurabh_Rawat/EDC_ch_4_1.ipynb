{
 "metadata": {
  "name": ""
 },
 "nbformat": 3,
 "nbformat_minor": 0,
 "worksheets": [
  {
   "cells": [
    {
     "cell_type": "heading",
     "level": 1,
     "metadata": {},
     "source": [
      "Chapter No.4: Frequency Response"
     ]
    },
    {
     "cell_type": "heading",
     "level": 2,
     "metadata": {},
     "source": [
      "example 4.1, Page No. 170"
     ]
    },
    {
     "cell_type": "code",
     "collapsed": false,
     "input": [
      "#3dB Frequency\n",
      "import math\n",
      "\n",
      "#variable declaration\n",
      "Omega_Z1=0.0           #in Radian/sec\n",
      "Omega_Z2=10.0          #in Radian/sec\n",
      "Omega_P1=100.0         #in Radian/sec\n",
      "Omega_P2=25.0          #in Radian/sec\n",
      "\n",
      "#calculations\n",
      "WL=math.sqrt(Omega_P1**2+Omega_P2**2-2*Omega_Z1**2-2*Omega_Z2**2)      #in radian/sec\n",
      "\n",
      "#Result\n",
      "print(\"Approximate value of lower 3dB Frequency in radian/sec : %.1f\"%WL)"
     ],
     "language": "python",
     "metadata": {},
     "outputs": [
      {
       "output_type": "stream",
       "stream": "stdout",
       "text": [
        "Approximate value of lower 3dB Frequency in radian/sec : 102.1\n"
       ]
      }
     ],
     "prompt_number": 4
    },
    {
     "cell_type": "heading",
     "level": 2,
     "metadata": {},
     "source": [
      "example 4.2, Page No. 171"
     ]
    },
    {
     "cell_type": "code",
     "collapsed": false,
     "input": [
      "#Upper 3dB Frequency\n",
      "import math\n",
      "#variable declaration\n",
      "Omega_P1=1.0*10**4                 #in Radian/sec\n",
      "Omega_P2=2.0*10**4               #in Radian/sec\n",
      "Omega_Z1=1.0*10**5                 #in Radian/sec\n",
      "\n",
      "#calculations\n",
      "omegaH=1/math.sqrt(1/Omega_P1**2+1/Omega_P2**2-2/Omega_Z1**2)     #in radian/sec\n",
      "\n",
      "#result\n",
      "print(\"Approximate value of lower 3dB Frequency in radian/sec :  %.0f \"%(math.ceil(omegaH)))"
     ],
     "language": "python",
     "metadata": {},
     "outputs": [
      {
       "output_type": "stream",
       "stream": "stdout",
       "text": [
        "Approximate value of lower 3dB Frequency in radian/sec :  9017 \n"
       ]
      }
     ],
     "prompt_number": 8
    }
   ],
   "metadata": {}
  }
 ]
}