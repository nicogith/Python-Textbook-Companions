{
 "metadata": {
  "name": ""
 },
 "nbformat": 3,
 "nbformat_minor": 0,
 "worksheets": [
  {
   "cells": [
    {
     "cell_type": "heading",
     "level": 1,
     "metadata": {},
     "source": [
      "Chapter No.11: Multivibrators"
     ]
    },
    {
     "cell_type": "heading",
     "level": 2,
     "metadata": {},
     "source": [
      "Example 11.1, Page No.323"
     ]
    },
    {
     "cell_type": "code",
     "collapsed": false,
     "input": [
      "#Frequency of Oscillators\n",
      "import math\n",
      "#variable declaration\n",
      "R1=15                       #in kohm\n",
      "R2=15                       #in kohm\n",
      "C1=0.005                    #in uF\n",
      "C2=0.005                    #in uF\n",
      "R=R1;                       #in Kohm\n",
      "C=C1                        #in uF\n",
      "\n",
      "#Calculations\n",
      "T=0.69*(R*10**3*C*10**-6+R*10**3*C*10**-6)         #in second\n",
      "f=1/T                                              #in Hz\n",
      "\n",
      "#Result\n",
      "print(\"Frequency of oscillators in KHz : %.2f\"%(f*10**-3));"
     ],
     "language": "python",
     "metadata": {},
     "outputs": [
      {
       "output_type": "stream",
       "stream": "stdout",
       "text": [
        "Frequency of oscillators in KHz : 9.66\n"
       ]
      }
     ],
     "prompt_number": 2
    }
   ],
   "metadata": {}
  }
 ]
}