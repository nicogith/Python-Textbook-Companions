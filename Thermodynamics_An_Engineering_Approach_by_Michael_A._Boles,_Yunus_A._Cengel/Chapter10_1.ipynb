{
 "metadata": {
  "name": ""
 },
 "nbformat": 3,
 "nbformat_minor": 0,
 "worksheets": [
  {
   "cells": [
    {
     "cell_type": "heading",
     "level": 1,
     "metadata": {},
     "source": [
      "Chapter 10: Vapor and Combined Power Cycles"
     ]
    },
    {
     "cell_type": "heading",
     "level": 2,
     "metadata": {},
     "source": [
      "Example 10-1 ,Page No.555"
     ]
    },
    {
     "cell_type": "code",
     "collapsed": false,
     "input": [
      "#given data\n",
      "P1=75;#outlet pressure at compressor in kPa\n",
      "P2=3000;#inlet pressure at turbine in kPa\n",
      "P3=P2;\n",
      "T3=350;#steam inlet temperature in C\n",
      "P4=P1;\n",
      "\n",
      "#from steam tables\n",
      "#at state 1\n",
      "v1=0.001037;\n",
      "h1=384.44;\n",
      "#at state 3\n",
      "h3=3116.1;\n",
      "s3=6.7450;\n",
      "#at state 4\n",
      "s4=s3;\n",
      "sf=1.2132;\n",
      "sfg=6.2426;\n",
      "hf=384.44;\n",
      "hfg=2278;\n",
      "\n",
      "#calculations\n",
      "win=v1*(P2-P1);\n",
      "h2=h1+win;\n",
      "x4=(s4-sf)/sfg;\n",
      "h4=hf+x4*hfg;\n",
      "qin=h3-h2;\n",
      "qout=h4-h1;\n",
      "nth=1-(qout/qin);\n",
      "print'thermal efficency is %f'%round(nth,3)\n"
     ],
     "language": "python",
     "metadata": {},
     "outputs": [
      {
       "output_type": "stream",
       "stream": "stdout",
       "text": [
        "thermal efficency is 0.260000\n"
       ]
      }
     ],
     "prompt_number": 2
    },
    {
     "cell_type": "heading",
     "level": 2,
     "metadata": {},
     "source": [
      "Example 10-2 ,Page No.559"
     ]
    },
    {
     "cell_type": "code",
     "collapsed": false,
     "input": [
      "#given data\n",
      "#from figure\n",
      "P1=9;#in kPa\n",
      "T1=38;#in C\n",
      "P2=16000;#in kPa\n",
      "P3=15.9;#in MPa\n",
      "T3=35;#in C\n",
      "P4=15.2;#in MPa\n",
      "T4=625;#in C\n",
      "P5=15;#in MPa\n",
      "T5=600;#in C\n",
      "#from question\n",
      "nT=0.87;#isentropic efficiency of turbine \n",
      "nP=0.85;#isentropic efficiency of pump\n",
      "m=15;#mass flow rate in kg/s\n",
      "\n",
      "#from steam tables\n",
      "v1=0.001009;\n",
      "h5=3583.1;\n",
      "h6s=2115.3;\n",
      "h4=3647.6;\n",
      "h3=160.1;\n",
      "\n",
      "#calculations\n",
      "Win=v1*(P2-P1)/nP;\n",
      "Wout=nT*(h5-h6s);\n",
      "qin=h4-h3;\n",
      "Wnet=Wout-Win;\n",
      "nth=Wnet/qin;\n",
      "print'thermal efficency is %f'%round(nth,3)\n",
      "Wnet=m*Wnet;\n",
      "print'power output %f MW'%round(Wnet/1000,2)\n"
     ],
     "language": "python",
     "metadata": {},
     "outputs": [
      {
       "output_type": "stream",
       "stream": "stdout",
       "text": [
        "thermal efficency is 0.361000\n",
        "power output 18.870000 MW\n"
       ]
      }
     ],
     "prompt_number": 2
    },
    {
     "cell_type": "heading",
     "level": 2,
     "metadata": {},
     "source": [
      "Example 10-3 ,Page No.562"
     ]
    },
    {
     "cell_type": "code",
     "collapsed": false,
     "input": [
      "#given data\n",
      "P1=10;#outlet pressure at compressor in kPa\n",
      "P2=3000;#inlet pressure at turbine in kPa\n",
      "P3=P2;\n",
      "T3=350;#steam inlet temperature in C\n",
      "P4=P1;\n",
      "\n",
      "#from steam tables\n",
      "#at state 1\n",
      "h1=191.81;\n",
      "v1=0.00101;\n",
      "#at state 2\n",
      "#s2=s1\n",
      "#at state 3\n",
      "h3=3116.1;\n",
      "s3=6.7450;\n",
      "#at state 4\n",
      "s4=s3;\n",
      "sf=0.6492;\n",
      "sfg=7.4996;\n",
      "hf=191.81;\n",
      "hfg=2392.1;\n",
      "\n",
      "#calculations\n",
      "#part - a\n",
      "win=v1*(P2-P1);\n",
      "h2=h1+win;\n",
      "x4=(s4-sf)/sfg;\n",
      "h4=hf+x4*hfg;\n",
      "qin=h3-h2;\n",
      "qout=h4-h1;\n",
      "nth=1-(qout/qin);\n",
      "print'the thermal efficiency of this power plant is %f'%round(nth,3);\n",
      "#part - b\n",
      "#States 1 and 2 remain the same in this case, and the enthalpies at state 3 (3 MPa and 600\u00b0C) and state 4 (10 kPa and s4=s3) are determined to be\n",
      "h3=3682.8;\n",
      "h4=2380.3;\n",
      "x4=0.915;\n",
      "qin=h3-h2;\n",
      "qout=h4-h1;\n",
      "nth=1-(qout/qin);\n",
      "print'the thermal efficiency if steam is superheated to 600\u00b0 instead of 350\u00b0C is %f'%round(nth,3);\n",
      "#part - c\n",
      "#State 1 remains the same in this case, but the other states change. The enthalpies at state 2 (15 MPa and s2   s1), state 3 (15 MPa and 600\u00b0C),and state 4 (10 kPa and s4   s3) are determined in a similar manner to be\n",
      "h2=206.95;\n",
      "h3=3583.1;\n",
      "h4=2115.3;\n",
      "x4=0.804;\n",
      "qin=h3-h2;\n",
      "qout=h4-h1;\n",
      "nth=1-(qout/qin);\n",
      "print'the thermal efficiency if the boiler pressure is raised to 15 MPa while the turbine inlet temperature is maintained at 600\u00b0C is %f'%round(nth,3);\n"
     ],
     "language": "python",
     "metadata": {},
     "outputs": [
      {
       "output_type": "stream",
       "stream": "stdout",
       "text": [
        "the thermal efficiency of this power plant is 0.334000\n",
        "the thermal efficiency if steam is superheated to 600\u00b0 instead of 350\u00b0C is 0.373000\n",
        "the thermal efficiency if the boiler pressure is raised to 15 MPa while the turbine inlet temperature is maintained at 600\u00b0C is 0.430000\n"
       ]
      }
     ],
     "prompt_number": 3
    },
    {
     "cell_type": "heading",
     "level": 2,
     "metadata": {},
     "source": [
      "Example 10-4 ,Page No.566"
     ]
    },
    {
     "cell_type": "code",
     "collapsed": false,
     "input": [
      "#given data\n",
      "P1=10;#outlet pressure at compressor in kPa\n",
      "P2=15000;#inlet pressure at turbine in kPa\n",
      "P3=P2;\n",
      "T3=600;#steam inlet temperature in C\n",
      "P4=4000;#in kPa\n",
      "T5=T3;\n",
      "P6=P1;\n",
      "x6=0.896;#dryness fraction\n",
      "\n",
      "#from steam table\n",
      "#at state 1\n",
      "h1=191.81;\n",
      "v1=0.00101;\n",
      "#at state 3\n",
      "h3=3593.1;\n",
      "s3=6.6796;\n",
      "#at state 4\n",
      "h4=3155;\n",
      "T4=375.5;\n",
      "#at state 6\n",
      "sf=0.6492;\n",
      "sfg=7.4996;\n",
      "hf=191.81;\n",
      "hfg=2392.1;\n",
      "\n",
      "#calculations\n",
      "s6=sf+x6*sfg;\n",
      "h6=hf+x6*hfg;\n",
      "#s5 = s6\n",
      "#from tables\n",
      "P5=4000.0;#in kPa\n",
      "h5=3674.9;\n",
      "print'the pressure at which the steam should be reheated %i MPa'%(P5/1000);\n",
      "#s2 = s1\n",
      "win=v1*(P2-P1);\n",
      "h2=h1+win;\n",
      "qin=(h3-h2)+(h5-h4);\n",
      "qout=h6-h1;\n",
      "nth=1-(qout/qin);\n",
      "print'thermal efficency is %f'%round(nth,3)\n"
     ],
     "language": "python",
     "metadata": {},
     "outputs": [
      {
       "output_type": "stream",
       "stream": "stdout",
       "text": [
        "the pressure at which the steam should be reheated 4 MPa\n",
        "thermal efficency is 0.451000\n"
       ]
      }
     ],
     "prompt_number": 7
    },
    {
     "cell_type": "heading",
     "level": 2,
     "metadata": {},
     "source": [
      "Example 10-5 ,Page No.571"
     ]
    },
    {
     "cell_type": "code",
     "collapsed": false,
     "input": [
      "#given data\n",
      "P1=10;#outlet pressure at compressor in kPa\n",
      "P2=1200;#in kPa\n",
      "P3=P2;\n",
      "P4=15000;#inlet pressure at turbine in kPa\n",
      "P5=P4;\n",
      "T5=600;#steam inlet temperature in C\n",
      "P6=P2;\n",
      "P7=P1;\n",
      "\n",
      "#from steam table\n",
      "#at state 1\n",
      "h1=191.81;\n",
      "v1=0.00101;\n",
      "#at state 3\n",
      "h3=798.33;\n",
      "v3=0.001138;\n",
      "#at state 4\n",
      "h4=3155;\n",
      "T4=375.5;\n",
      "#at state 5\n",
      "h5=3583.1;\n",
      "s5=6.6796;\n",
      "#at state 6\n",
      "h6=2860.2;\n",
      "T6=218.4;\n",
      "#at state 7\n",
      "P7=10;\n",
      "sf=0.6492;\n",
      "sfg=7.4996;\n",
      "hf=191.81;\n",
      "hfg=2392.1;\n",
      "\n",
      "#calculations\n",
      "#s2 = s1\n",
      "win=v1*(P2-P1);\n",
      "h2=h1+win;\n",
      "#s4 = s3\n",
      "win=v3*(P4-P3);\n",
      "h4=h3+win;\n",
      "s7=s5;\n",
      "x7=(s7-sf)/sfg;\n",
      "h7=hf+(x7*hfg);\n",
      "#y is the fraction of steam extracted from the turbine\n",
      "y=(h3-h2)/(h6-h2);\n",
      "qin=h5-h4;\n",
      "qout=(1-y)*(h7-h1);\n",
      "nth=1-(qout/qin);\n",
      "print'fraction of steam extracted is %f'%round(y,4);\n",
      "print'thermal efficency is %f'%round(nth,3)\n"
     ],
     "language": "python",
     "metadata": {},
     "outputs": [
      {
       "output_type": "stream",
       "stream": "stdout",
       "text": [
        "fraction of steam extracted is 0.226900\n",
        "thermal efficency is 0.463000\n"
       ]
      }
     ],
     "prompt_number": 8
    },
    {
     "cell_type": "heading",
     "level": 2,
     "metadata": {},
     "source": [
      "Example 10-6 ,Page No.574"
     ]
    },
    {
     "cell_type": "code",
     "collapsed": false,
     "input": [
      "#given data\n",
      "P1=10;#outlet pressure at compressor in kPa\n",
      "P2=500;#steam extracted from low-pressure turbine in kPa\n",
      "P3=P2;\n",
      "P4=15000;#inlet pressure at turbine in kPa\n",
      "P5=P4;\n",
      "P6=4000;#steam extracted from turbine at pressure in kPa\n",
      "P7=P5;\n",
      "P8=P7;\n",
      "P9=P7;\n",
      "P10=P6;\n",
      "P11=P10;\n",
      "P12=P3;\n",
      "P13=P1;\n",
      "\n",
      "#enthalpies at the various states and the pump work per unit mass of fluid flowing through them are\n",
      "h1=191.81;\n",
      "h2=192.30;\n",
      "h3=640.09;\n",
      "h4=643.92;\n",
      "h5=1087.4;\n",
      "h6=h5;\n",
      "h7=1101.2;\n",
      "h8=1089.8;\n",
      "h9=3583.1;\n",
      "h10=3155;\n",
      "h11=3679.9;\n",
      "h12=3014.8;\n",
      "h13=2335.7;\n",
      "wIin=0.49;\n",
      "wIIin=3.83;\n",
      "wIIIin=13.77;\n",
      "\n",
      "#calculations\n",
      "y=(h5-h4)/((h10-h6)+(h5-h4));\n",
      "z=(1-y)*(h3-h2)/(h12-h2);\n",
      "h8=(1-y)*h5+(y*h7);\n",
      "qin=(h9-h8)+(1-y)*(h11-h10);\n",
      "qout=(1-y-z)*(h13-h1);\n",
      "nth=1-(qout/qin);\n",
      "print'fraction of steam extracted from closed feedwater is %f'%round(y,4);\n",
      "print'fraction of steam extracted from open feedwater is %f'%round(z,4);\n",
      "print'thermal efficency is %f'%round(nth,3)"
     ],
     "language": "python",
     "metadata": {},
     "outputs": [
      {
       "output_type": "stream",
       "stream": "stdout",
       "text": [
        "fraction of steam extracted from closed feedwater is 0.176600\n",
        "fraction of steam extracted from open feedwater is 0.130600\n",
        "thermal efficency is 0.492000\n"
       ]
      }
     ],
     "prompt_number": 12
    },
    {
     "cell_type": "heading",
     "level": 2,
     "metadata": {},
     "source": [
      "Example 10-7 ,Page No.577"
     ]
    },
    {
     "cell_type": "code",
     "collapsed": false,
     "input": [
      "#given data\n",
      "T0=290;#temperature at heat which is rejected in K \n",
      "Tsource=1600;#temperature of furnace in K\n",
      "Tsink=T0;\n",
      "#from Ex 10.1\n",
      "qin=2728.6;#in kJ/Kg\n",
      "qout=2018.6;#in kJ/Kg\n",
      "h4=2403;#in kJ/Kg\n",
      "\n",
      "#from steam tables\n",
      "s1=1.2132;\n",
      "s3=6.7450;\n",
      "\n",
      "#calculations\n",
      "s2=s1;s4=s3;#isentropic processes\n",
      "xdest12=0;\n",
      "xdest34=0;\n",
      "xdest23=T0*(s3-s2-(qin/Tsource));\n",
      "xdest41=T0*(s1-s4+(qout/Tsink));\n",
      "print'exergy destruction in process 1-2 %i kJ/kg'%xdest12;\n",
      "print'exergy destruction in process 2-3 %i kJ/kg'%round(xdest23);\n",
      "print'exergy destruction in process 3-4 %i kJ/kg'%xdest34;\n",
      "print'exergy destruction in process 4-1 %i kJ/kg'%round(xdest41);\n",
      "xdestcy=xdest12+xdest23+xdest34+xdest41;\n",
      "print'exergy destruction %i cycle in kJ/kg'%round(xdestcy);\n",
      "#from steam tables\n",
      "#at 290 K and 100 kPa\n",
      "h0=71.355;\n",
      "s0=0.2533;\n",
      "X4=(h4-h0)-T0*(s4-s0);\n",
      "print'exergy of the leaving steam %i kJ/kg'%(round(X4))"
     ],
     "language": "python",
     "metadata": {},
     "outputs": [
      {
       "output_type": "stream",
       "stream": "stdout",
       "text": [
        "exergy destruction in process 1-2 0 kJ/kg\n",
        "exergy destruction in process 2-3 1110 kJ/kg\n",
        "exergy destruction in process 3-4 0 kJ/kg\n",
        "exergy destruction in process 4-1 414 kJ/kg\n",
        "exergy destruction 1524 cycle in kJ/kg\n",
        "exergy of the leaving steam 449 kJ/kg\n"
       ]
      }
     ],
     "prompt_number": 4
    },
    {
     "cell_type": "heading",
     "level": 2,
     "metadata": {},
     "source": [
      "Example 10-8 ,Page No.581"
     ]
    },
    {
     "cell_type": "code",
     "collapsed": false,
     "input": [
      "#given data\n",
      "m1=15;#mass flow rate in kg/s\n",
      "P1=7000;#inlet pressure at turbine in kPa\n",
      "P2=P1;\n",
      "P3=P1;\n",
      "P4=500;#throttled to pressure in kPa\n",
      "P5=P4;\n",
      "P6=5;#steam expanded at a pressure in kPa\n",
      "P7=P4;\n",
      "P8=P6;\n",
      "P9=P1;\n",
      "P10=P1;\n",
      "\n",
      "#from steam tables\n",
      "v7=0.001005;\n",
      "v8=0.001093;\n",
      "h1=3411.4;\n",
      "h2=h1;\n",
      "h3=h1;\n",
      "h4=h1;\n",
      "h5=2739.3;\n",
      "h6=2073.0;\n",
      "h7=640.09;\n",
      "h8=137.75;\n",
      "h11=144.78;\n",
      "\n",
      "#calculations\n",
      "wIin=v8*(P9-P8);\n",
      "wIIin=v7*(P10-P7);\n",
      "h9=h8+wIin;\n",
      "h10=h7+wIIin;\n",
      "Qmax=m1*(h1-h7);\n",
      "print'the maximum rate %i kW'%round(Qmax);\n",
      "Wtout=m1*(h3-h6);#turbine\n",
      "Wpin=m1*wIin;#pump\n",
      "Wnet=Wtout-Wpin;\n",
      "print'the power produced %i MW'%(round(Wnet/1000));\n",
      "Qp=0;\n",
      "Qin=m1*(h1-h11);\n",
      "Eu=(Wnet+Qp)/Qin;\n",
      "print'the utilization factor is %f'%round(Eu,3);\n",
      "m4=0.1*m1;\n",
      "m5=0.7*m1;\n",
      "m7=m4+m5;\n",
      "Qout=m4*h4+m5*h5-m7*h7;\n",
      "print'the rate of process heat supply %f MW'%round(Qout/1000,1)\n"
     ],
     "language": "python",
     "metadata": {},
     "outputs": [
      {
       "output_type": "stream",
       "stream": "stdout",
       "text": [
        "the maximum rate 41570 kW\n",
        "the power produced 20 MW\n",
        "the utilization factor is 0.407000\n",
        "the rate of process heat supply 26.200000 MW\n"
       ]
      }
     ],
     "prompt_number": 14
    },
    {
     "cell_type": "heading",
     "level": 2,
     "metadata": {},
     "source": [
      "Example 10-9 ,Page No.585"
     ]
    },
    {
     "cell_type": "code",
     "collapsed": false,
     "input": [
      "#given data\n",
      "P1=5;#intial pressure in kPa\n",
      "P2=7000;#final pressure ink Pa\n",
      "P3=P2;\n",
      "T3=500;#inlet temperature in K\n",
      "P4=P1;\n",
      "\n",
      "#gas cycle from Ex9-6\n",
      "#d stands for '\n",
      "h4d=880.36;\n",
      "T4d=853;\n",
      "qin=790.58;\n",
      "wnetg=210.41;\n",
      "nth=0.266\n",
      "h5d=451.80;\n",
      "#steam cycle\n",
      "h2=144.78;\n",
      "T2=33;\n",
      "h3=3411.4;\n",
      "T3=500;\n",
      "wnets=1331.4;\n",
      "nth=0.408;\n",
      "\n",
      "#calculations\n",
      "#Ein = Eout\n",
      "#y is the ratio of ms/mg\n",
      "y=(h4d-h5d)/(h3-h2);\n",
      "print'the ratio of the mass flow rates of the steam and the combustion gasesis %f'%round(y,3);\n",
      "wnet=wnetg+y*wnets\n",
      "nth=wnet/qin;\n",
      "print'thermal efficency is %f'%round(nth,3)"
     ],
     "language": "python",
     "metadata": {},
     "outputs": [
      {
       "output_type": "stream",
       "stream": "stdout",
       "text": [
        "the ratio of the mass flow rates of the steam and the combustion gasesis 0.131000\n",
        "thermal efficency is 0.487000\n"
       ]
      }
     ],
     "prompt_number": 5
    }
   ],
   "metadata": {}
  }
 ]
}