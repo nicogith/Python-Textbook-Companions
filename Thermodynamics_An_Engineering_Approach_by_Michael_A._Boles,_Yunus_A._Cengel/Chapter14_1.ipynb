{
 "metadata": {
  "name": ""
 },
 "nbformat": 3,
 "nbformat_minor": 0,
 "worksheets": [
  {
   "cells": [
    {
     "cell_type": "heading",
     "level": 1,
     "metadata": {},
     "source": [
      "Chapter 14: Gas\u2013Vapor Mixtures and Air-Conditioning"
     ]
    },
    {
     "cell_type": "heading",
     "level": 2,
     "metadata": {},
     "source": [
      "Example 14-1 ,Page No.720"
     ]
    },
    {
     "cell_type": "code",
     "collapsed": false,
     "input": [
      "#given data\n",
      "V=5*5*3.0;#volume of the room in m^3\n",
      "RH=0.75;#relative humidity\n",
      "P=100.0;#pressure of air in kPa\n",
      "T=25.0;#temperature of air in C\n",
      "\n",
      "#constants used\n",
      "Ra=0.287;#in kPa.m^3 / kg.k\n",
      "Rv=0.4615;#in kPa.m^3 / kg.k\n",
      "\n",
      "#from Table A-2a and A-4\n",
      "cp=1.005;\n",
      "Psat=3.1698;\n",
      "hg=2564.6;\n",
      "\n",
      "#calculation\n",
      "Pv=RH*Psat;\n",
      "Pa=P-Pv;\n",
      "w=0.622*Pv/(P-Pv);\n",
      "h=cp*T+w*hg;\n",
      "ma=V*Pa/(Ra*(T+273));\n",
      "mv=V*Pv/(Rv*(T+273));\n",
      "print'the partial pressure of dry air %f kPa'%round(Pa,2);\n",
      "print'the specific humidity %f kg water/kg of dry air'%round(w,4);\n",
      "print'the enthalpy per unit mass of the dry air %f kJ'%round(h,1);\n",
      "print'mass of air %f kg'%round(ma,2);\n",
      "print'mass of water vapour %f kg'%round(mv,1);\n"
     ],
     "language": "python",
     "metadata": {},
     "outputs": [
      {
       "output_type": "stream",
       "stream": "stdout",
       "text": [
        "the partial pressure of dry air 97.620000 kPa\n",
        "the specific humidity 0.015100 kg water/kg of dry air\n",
        "the enthalpy per unit mass of the dry air 64.000000 kJ\n",
        "mass of air 85.610000 kg\n",
        "mass of water vapour 1.300000 kg\n"
       ]
      }
     ],
     "prompt_number": 2
    },
    {
     "cell_type": "heading",
     "level": 2,
     "metadata": {},
     "source": [
      "Example 14-2 ,Page No.722"
     ]
    },
    {
     "cell_type": "code",
     "collapsed": false,
     "input": [
      "#given data\n",
      "T=20;#temperature of air in C\n",
      "RH=0.75;#relative humidity\n",
      "\n",
      "#from Table A-4\n",
      "Psat=2.3392;\n",
      "Pv=RH*Psat;\n",
      "#thus at this from Eq 14-13\n",
      "Tdp=15.4;\n",
      "print'window temperature %f C'%Tdp"
     ],
     "language": "python",
     "metadata": {},
     "outputs": [
      {
       "output_type": "stream",
       "stream": "stdout",
       "text": [
        "window temperature 15.400000 C\n"
       ]
      }
     ],
     "prompt_number": 3
    },
    {
     "cell_type": "heading",
     "level": 2,
     "metadata": {},
     "source": [
      "Example 14-3 ,Page No.725"
     ]
    },
    {
     "cell_type": "code",
     "collapsed": false,
     "input": [
      "#given data\n",
      "T1=25.0;#dry bulb temperature in K\n",
      "T2=15.0;#wet bulb temperature in K\n",
      "P2=101.325;#pressure of air in kPa\n",
      "\n",
      "#from Table A-2a & A-4\n",
      "#at T1\n",
      "Psat1=3.1698;\n",
      "hg1=2546.5;\n",
      "#at T2\n",
      "Psat2=1.7057;\n",
      "hfg2=2465.4;\n",
      "hf2=62.982;\n",
      "cp=1.005;\n",
      "\n",
      "#calculations\n",
      "w2=0.622*Psat2/(P2-Psat2);\n",
      "w1=(cp*(T2-T1)+w2*hfg2)/(hg1-hf2);\n",
      "print'the specific humidity %f kg water/kg of dry air'%round(w1,5);\n",
      "RH1=w1*P2/((0.622+w1)*Psat1);\n",
      "print'the relative humidity is %f'%round(RH1,3);\n",
      "h=cp*T1+w1*hg1;\n",
      "print'the enthalpy of the air %f kJ/kg of dry air'%round(h,1)"
     ],
     "language": "python",
     "metadata": {},
     "outputs": [
      {
       "output_type": "stream",
       "stream": "stdout",
       "text": [
        "the specific humidity 0.006530 kg water/kg of dry air\n",
        "the relative humidity is 0.332000\n",
        "the enthalpy of the air 41.700000 kJ/kg of dry air\n"
       ]
      }
     ],
     "prompt_number": 5
    },
    {
     "cell_type": "heading",
     "level": 2,
     "metadata": {},
     "source": [
      "Example 14-5 ,Page No.731"
     ]
    },
    {
     "cell_type": "code",
     "collapsed": false,
     "input": [
      "#given data\n",
      "RH1=0.3;#outdoor relative humidity\n",
      "P1=100.0;#pressure of air in kPa\n",
      "V1=45.0;#volumetric steady rate in m^3/min\n",
      "T1=10.0;#outdoor temperature in C\n",
      "T2=22.0;#first heated temperature in C\n",
      "RH3=0.6;#final relative humidity \n",
      "T3=25.0;#final temperature in C\n",
      "\n",
      "#from Table A-2a & A-4\n",
      "cp=1.005;\n",
      "Ra=0.287;\n",
      "Pg1=1.2281;\n",
      "hg1=2519.2;\n",
      "hg2=2541.0;\n",
      "Pg3=3.1698;\n",
      "\n",
      "#calculations\n",
      "Pv1=RH1*Pg1;\n",
      "Pa1=P1-Pv1;\n",
      "v1=Ra*(T1+273)/Pa1;\n",
      "ma=V1/v1;\n",
      "w1=0.622*Pv1/(P1-Pv1);\n",
      "h1=cp*T1+w1*hg1;\n",
      "h1=round(h1,1);\n",
      "w2=w1;\n",
      "h2=cp*T2+w2*hg2;\n",
      "h2=round(h2)\n",
      "Q=ma*(h2-h1);\n",
      "# ma2*w2 + mw = ma3*w3\n",
      "#which reduces to mw = ma * (w3 - w2)\n",
      "w3=0.622*RH3*Pg3/(P1-(RH3*Pg3));\n",
      "mw=ma*(w3-w2);\n",
      "print'the rate of heat supply in the heating section %f kJ/min'%round(Q);\n",
      "print'the mass flow rate of the steam required in the humidifying section %f kg/min'%round(mw,3)"
     ],
     "language": "python",
     "metadata": {},
     "outputs": [
      {
       "output_type": "stream",
       "stream": "stdout",
       "text": [
        "the rate of heat supply in the heating section 673.000000 kJ/min\n",
        "the mass flow rate of the steam required in the humidifying section 0.539000 kg/min\n"
       ]
      }
     ],
     "prompt_number": 17
    },
    {
     "cell_type": "heading",
     "level": 2,
     "metadata": {},
     "source": [
      "Example 14-6 ,Page No.733"
     ]
    },
    {
     "cell_type": "code",
     "collapsed": false,
     "input": [
      "#given data\n",
      "V1=10;#volumertric rate in m^3/min\n",
      "T1=30;#intial temperature in C\n",
      "RH1=0.8;#intial relative humidity\n",
      "T2=14;#final temperature in C\n",
      "RH2=1;#final relative humidity\n",
      "\n",
      "#from Table A-4\n",
      "hw=58.8;\n",
      "h1=85.4;\n",
      "h2=39.3;\n",
      "w1=0.0216;\n",
      "w2=0.0100;\n",
      "v1=0.889;\n",
      "\n",
      "#calculations\n",
      "#mw= ma*(w1-w2)\n",
      "#Qout=ma*(h1-h2) - mw*hw\n",
      "ma=V1/v1;\n",
      "mw= ma*(w1-w2);\n",
      "Qout=ma*(h1-h2) - mw*hw;\n",
      "print'rates of moisture removal from the air %f kg/min'%round(mw,3);\n",
      "print'rate of moisture removal from the air %i kJ/min'%round(Qout);\n"
     ],
     "language": "python",
     "metadata": {},
     "outputs": [
      {
       "output_type": "stream",
       "stream": "stdout",
       "text": [
        "rates of moisture removal from the air 0.130000 kg/min\n",
        "rate of moisture removal from the air 511 kJ/min\n"
       ]
      }
     ],
     "prompt_number": 18
    },
    {
     "cell_type": "heading",
     "level": 2,
     "metadata": {},
     "source": [
      "Example 14-8 ,Page No.736"
     ]
    },
    {
     "cell_type": "code",
     "collapsed": false,
     "input": [
      "#given values\n",
      "V1=50;#saturated air volumertric rate in m^3/min\n",
      "T1=14;#saturated air temperature in C\n",
      "V2=20;#outside air volumertric rate in m^3/min\n",
      "T2=32;#outside air temperature in C\n",
      "RH2=60;#outside air relative humidity\n",
      "\n",
      "#from psychrometric chart\n",
      "h1=39.4;\n",
      "w1=0.010;\n",
      "v1=0.826;\n",
      "h2=79;\n",
      "w2=0.0182;\n",
      "v2=0.889;\n",
      "\n",
      "#calculations\n",
      "ma1=V1/v1;\n",
      "ma2=V2/v2;\n",
      "ma3=ma1+ma2;\n",
      "#from Eq 14-24\n",
      "w3=(w2*ma2+w1*ma1)/(ma1+ma2);\n",
      "h3=(h2*ma2+h1*ma1)/(ma1+ma2);\n",
      "print'the specific humidity %f kg of water/kg of dry air'%round(w3,3);\n",
      "#from psychrometric chart\n",
      "T3=19;\n",
      "RH3=0.89;\n",
      "v3=0.844;\n",
      "V3=ma3*v3;\n",
      "print'the dry-bulb temperature %f C'%T3;\n",
      "print'the relative humidity is %f'%RH3\n",
      "print'the volume flow rate of the mixture %f m^3/min'%round(V3,1)"
     ],
     "language": "python",
     "metadata": {},
     "outputs": [
      {
       "output_type": "stream",
       "stream": "stdout",
       "text": [
        "the specific humidity 0.012000 kg of water/kg of dry air\n",
        "the dry-bulb temperature 19.000000 C\n",
        "the relative humidity is 0.890000\n",
        "the volume flow rate of the mixture 70.100000 m^3/min\n"
       ]
      }
     ],
     "prompt_number": 20
    },
    {
     "cell_type": "heading",
     "level": 2,
     "metadata": {},
     "source": [
      "Example 14-9 ,Page No.738"
     ]
    },
    {
     "cell_type": "code",
     "collapsed": false,
     "input": [
      "#given data \n",
      "m=100;#mass flow rate in kg/s\n",
      "T1=20;#entry temperature in C\n",
      "P1=1;#entry pressure im kPa\n",
      "RH1=60;#entry relative humidity\n",
      "T2=30;#exit temperature in C\n",
      "RH2=1;#exit relative humidity\n",
      "T3=35;#entry tempearture of wet cooling tower in C \n",
      "T4=22;#water temperature in cooling tower in C\n",
      "\n",
      "#from Table A-4\n",
      "h1=42.2;\n",
      "w1=0.0087;\n",
      "v1=0.842;\n",
      "h2=100;\n",
      "w2=0.0273;\n",
      "h3=146.64;\n",
      "h4=92.28;\n",
      "\n",
      "#calculations\n",
      "#Dry air balane = ma1 = ma2 = ma\n",
      "#Water balance = m3 - m4 = ma*(w2 - w1)\n",
      "#Energy balance = ma1*h1 + m3*h3 = ma2*h2 + m4*h4\n",
      "ma= m*(h3-h4)/(h2-h1-(w2-w1)*h4);\n",
      "V1=ma*v1;\n",
      "mmakeup=ma*(w2-w1);\n",
      "print'the volume flow rate of air into the cooling tower %f m^3/s'%round(V1,1);\n",
      "print'the mass flow rate of the required makeup water %f kg/s'%round(mmakeup,2)\n"
     ],
     "language": "python",
     "metadata": {},
     "outputs": [
      {
       "output_type": "stream",
       "stream": "stdout",
       "text": [
        "the volume flow rate of air into the cooling tower 81.600000 m^3/s\n",
        "the mass flow rate of the required makeup water 1.800000 kg/s\n"
       ]
      }
     ],
     "prompt_number": 22
    }
   ],
   "metadata": {}
  }
 ]
}