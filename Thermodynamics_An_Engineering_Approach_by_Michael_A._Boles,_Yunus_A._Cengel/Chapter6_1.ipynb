{
 "metadata": {
  "name": ""
 },
 "nbformat": 3,
 "nbformat_minor": 0,
 "worksheets": [
  {
   "cells": [
    {
     "cell_type": "heading",
     "level": 1,
     "metadata": {},
     "source": [
      "Chapter 6: The Second Law of Thermodynamics"
     ]
    },
    {
     "cell_type": "heading",
     "level": 2,
     "metadata": {},
     "source": [
      "Example 6-1 ,Page No.286"
     ]
    },
    {
     "cell_type": "code",
     "collapsed": false,
     "input": [
      "#given data\n",
      "QH=80.0;#rate of heat transfer in MW\n",
      "QL=50.0;#rate of waste heat rejection in MW\n",
      "\n",
      "#calculations\n",
      "Wnet=QH-QL;\n",
      "print'net power output %i MW'%Wnet\n",
      "nth=Wnet/QH;\n",
      "print'the thermal efficiency is %f '%round(nth,3)\n"
     ],
     "language": "python",
     "metadata": {},
     "outputs": [
      {
       "output_type": "stream",
       "stream": "stdout",
       "text": [
        "net power output 30 MW\n",
        "the thermal efficiency is 0.375000 \n"
       ]
      }
     ],
     "prompt_number": 1
    },
    {
     "cell_type": "heading",
     "level": 2,
     "metadata": {},
     "source": [
      "Example 6-2 ,Page No.286"
     ]
    },
    {
     "cell_type": "code",
     "collapsed": false,
     "input": [
      "#given data\n",
      "Wnet=65;#power output in hp\n",
      "nth=0.24;#effficiency of car\n",
      "HV=19000;#heating value in Btu/lbm\n",
      "\n",
      "#calculations\n",
      "QH=Wnet/nth*2545;#factor of 2545 to convert to Btu/h\n",
      "m=QH/HV;\n",
      "print'the engine must burn at fuel rate %f lbm/h'%round(m,1)\n"
     ],
     "language": "python",
     "metadata": {},
     "outputs": [
      {
       "output_type": "stream",
       "stream": "stdout",
       "text": [
        "the engine must burn at fuel rate 36.300000 lbm/h\n"
       ]
      }
     ],
     "prompt_number": 2
    },
    {
     "cell_type": "heading",
     "level": 2,
     "metadata": {},
     "source": [
      "Example 6-3 ,Page No.291"
     ]
    },
    {
     "cell_type": "code",
     "collapsed": false,
     "input": [
      "#given data\n",
      "Wnet=2.0;#power input in kW\n",
      "QL=360.0;#rate of heat rejection in kJ/min\n",
      "\n",
      "#calculations\n",
      "COPR=QL/Wnet/60;#factor of 60 to convert kW to kJ/min\n",
      "print'coefficient of performance of refrigerator is %i'%COPR;\n",
      "QH=QL+Wnet*60;#factor of 60 to convert kW to kJ/min\n",
      "print'heat rejection rate %i kJ/min'%QH\n"
     ],
     "language": "python",
     "metadata": {},
     "outputs": [
      {
       "output_type": "stream",
       "stream": "stdout",
       "text": [
        "coefficient of performance of refrigerator is 3\n",
        "heat rejection rate 480 kJ/min\n"
       ]
      }
     ],
     "prompt_number": 4
    },
    {
     "cell_type": "heading",
     "level": 2,
     "metadata": {},
     "source": [
      "Example 6-4 ,Page No.291"
     ]
    },
    {
     "cell_type": "code",
     "collapsed": false,
     "input": [
      "#given data\n",
      "COP=2.5;#COP in the given conditions of heat pump\n",
      "QH=80000.0;#heat loss rate in kJ/hr\n",
      "\n",
      "#calculations\n",
      "Wnet=QH/COP;\n",
      "print'the power consumed %i kJ/h'%Wnet\n",
      "QL=QH-Wnet;\n",
      "print'the rate at which heat is absorbed %i kJ/h'%QL\n"
     ],
     "language": "python",
     "metadata": {},
     "outputs": [
      {
       "output_type": "stream",
       "stream": "stdout",
       "text": [
        "the power consumed 32000 kJ/h\n",
        "the rate at which heat is absorbed 48000 kJ/h\n"
       ]
      }
     ],
     "prompt_number": 5
    },
    {
     "cell_type": "heading",
     "level": 2,
     "metadata": {},
     "source": [
      "Example 6-5 ,Page No.306"
     ]
    },
    {
     "cell_type": "code",
     "collapsed": false,
     "input": [
      "#given data\n",
      "QH=500.0;#heat recieved per cycle in kJ\n",
      "TL=30+273.0;#low temperature source in C\n",
      "TH=652+273.0;#high temperature source in C\n",
      "\n",
      "#calculations\n",
      "nth=1-TL/TH;\n",
      "print'the thermal efficiency of carnot engine is %f'%round(nth,3);\n",
      "QL=TL*QH/TH;\n",
      "print'the amount of heat rejected to the sink per cycle %i kJ'%round(QL)\n"
     ],
     "language": "python",
     "metadata": {},
     "outputs": [
      {
       "output_type": "stream",
       "stream": "stdout",
       "text": [
        "the thermal efficiency of carnot engine is 0.672000\n",
        "the amount of heat rejected to the sink per cycle 164 kJ\n"
       ]
      }
     ],
     "prompt_number": 6
    },
    {
     "cell_type": "heading",
     "level": 2,
     "metadata": {},
     "source": [
      "Example 6-6 ,Page No.310"
     ]
    },
    {
     "cell_type": "code",
     "collapsed": false,
     "input": [
      "#given data\n",
      "COP=13.5;#COP of refrigerator\n",
      "TH=75+460.0;#room temperature in R\n",
      "TL=35+460.0;#refrigerated temp in R\n",
      "\n",
      "#calculations\n",
      "COPR=1/(TH/TL-1);\n",
      "if COPR>=COP:\n",
      "    print('claim is true');\n",
      "else:\n",
      "    print('claim is false')\n"
     ],
     "language": "python",
     "metadata": {},
     "outputs": [
      {
       "output_type": "stream",
       "stream": "stdout",
       "text": [
        "claim is false\n"
       ]
      }
     ],
     "prompt_number": 9
    },
    {
     "cell_type": "heading",
     "level": 2,
     "metadata": {},
     "source": [
      "Example 6-7 ,Page No.310"
     ]
    },
    {
     "cell_type": "code",
     "collapsed": false,
     "input": [
      "#given data\n",
      "TL=-5+273.0;#in C\n",
      "TH=21+273.0;#house temp in C\n",
      "QH=135000.0/3600;#heat loss rate in kW\n",
      "\n",
      "#calculations\n",
      "COPHP=1/(1-TL/TH);\n",
      "Wnet=QH/COPHP;\n",
      "print'minimum power required %f kW'%round(Wnet,2)\n"
     ],
     "language": "python",
     "metadata": {},
     "outputs": [
      {
       "output_type": "stream",
       "stream": "stdout",
       "text": [
        "minimum power required 3.320000 kW\n"
       ]
      }
     ],
     "prompt_number": 2
    },
    {
     "cell_type": "heading",
     "level": 2,
     "metadata": {},
     "source": [
      "Example 6-8 ,Page No.314"
     ]
    },
    {
     "cell_type": "code",
     "collapsed": false,
     "input": [
      "#given data\n",
      "Qrefrig=40.0;#heat load on referigerator in W\n",
      "COPR=1.3;#COP of referigerator\n",
      "Wlight=40.0;#rated power of bulb in W\n",
      "\n",
      "#calculation\n",
      "Wrefrig=Qrefrig/COPR;\n",
      "Wt=Wrefrig+Wlight;\n",
      "AnHr=365*24;#annual hours\n",
      "NOH=20*30/3600.0*365;#normal operating hours\n",
      "AOP=AnHr-NOH;#addtional operating hours\n",
      "APC=Wt*AOP/1000;#additional power consumption; fator of 1000 to convert to kW\n",
      "print'increase in power consumption %i kWh/yr'%round(APC);\n",
      "print'increase in cost S%f/yr'%round((APC)*0.08,1)\n"
     ],
     "language": "python",
     "metadata": {},
     "outputs": [
      {
       "output_type": "stream",
       "stream": "stdout",
       "text": [
        "increase in power consumption 616 kWh/yr\n",
        "increase in cost S49.300000/yr\n"
       ]
      }
     ],
     "prompt_number": 3
    }
   ],
   "metadata": {}
  }
 ]
}