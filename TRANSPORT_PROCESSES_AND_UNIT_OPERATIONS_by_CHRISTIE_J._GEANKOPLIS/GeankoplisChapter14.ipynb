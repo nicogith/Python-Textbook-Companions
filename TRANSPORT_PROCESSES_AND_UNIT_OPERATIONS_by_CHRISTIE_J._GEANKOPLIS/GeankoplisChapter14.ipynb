{
 "metadata": {
  "name": "",
  "signature": "sha256:9dc557e244e58a44c157bc89005c7dae2dc1b963927f29d131f60895891071ce"
 },
 "nbformat": 3,
 "nbformat_minor": 0,
 "worksheets": [
  {
   "cells": [
    {
     "cell_type": "heading",
     "level": 1,
     "metadata": {},
     "source": [
      "Chapter 14: Mechanical-Physical Seperation Processes"
     ]
    },
    {
     "cell_type": "heading",
     "level": 2,
     "metadata": {},
     "source": [
      "Example 14.2-1, Page number 810 "
     ]
    },
    {
     "cell_type": "code",
     "collapsed": false,
     "input": [
      "#Evaluation of Filtration Constants for Constant-Pressure Filtration\n",
      "#Variable declaration\n",
      "A = 0.0439                 #Filter area of the plate and frame press (m2)\n",
      "P = -338000.               #Pressure applied accross yhe plates (N/m2)\n",
      "Cs = 23.47                 #Slurry concentration (kg/m3)\n",
      "mu = 0.0008937              #Viscosity of water in SI units (kg/m.s)\n",
      "\n",
      "#Calculation\n",
      "from numpy import arange,array,ones,linalg, divide\n",
      "from pylab import plot,show\n",
      "\n",
      "xi = arange(0.0,0.00501,0.00005)\n",
      "t = [4.4,9.5,16.3,24.6,34.7,46.1,59.0,73.6,89.4,107.3]\n",
      "\n",
      "# linearly generated sequence\n",
      "y = [0.498e-3,1.0e-3,1.501e-3,2.0e-3,2.498e-3,3.002e-3,3.506e-3,4.004e-3,4.502e-3,5.009e-3]\n",
      "yy = divide(t,y)\n",
      "Aa = array([y, ones(10)])\n",
      "w = linalg.lstsq(Aa.T,yy)[0] # obtaining the parameters\n",
      "# Use w[0] and w[1] for your calculations and give good structure to this ipython notebook\n",
      "# plotting the line\n",
      "line = w[0]*xi+w[1] # regression line\n",
      "plot(xi,line,'r-',y,yy,'o')\n",
      "ylabel('$t/V^2$')\n",
      "xlabel('$V$')\n",
      "xlim(0.0,5.1e-3)\n",
      "ylim(0.0,22e3)\n",
      "show()\n",
      "Kp = 2.0*w[0]\n",
      "B = w[1]\n",
      "\n",
      "alpha = (Kp*(A**2*(-P)))/(mu*Cs)\n",
      "Rm = (B*(A*(-P)))/(mu)\n",
      "#Result\n",
      "print 'The value of constant alpha: %4.2e m/kg'%(alpha)\n",
      "print 'The value of constant Rm: %4.3e 1/m'%(Rm)\n",
      "print 'The values of alpha and Rm are more accurate than book the code utilises built in function'\n",
      "print 'for regression, which gives better results than from graphical slope and intercept estimates'"
     ],
     "language": "python",
     "metadata": {},
     "outputs": [
      {
       "metadata": {},
       "output_type": "display_data",
       "png": "[encoded data removed]",
       "text": [
        "<matplotlib.figure.Figure at 0x5fd7950>"
       ]
      },
      {
       "output_type": "stream",
       "stream": "stdout",
       "text": [
        "The value of constant alpha: 1.79e+11 m/kg\n",
        "The value of constant Rm: 1.126e+11 1/m\n",
        "The values of alpha and Rm are more accurate than book the code utilises built in function\n",
        "for regression, which gives better results than from graphical slope and intercept estimates\n"
       ]
      }
     ],
     "prompt_number": 4
    },
    {
     "cell_type": "heading",
     "level": 2,
     "metadata": {},
     "source": [
      "Example 14.2-2, Page number 811"
     ]
    },
    {
     "cell_type": "code",
     "collapsed": false,
     "input": [
      "#Time Required to perform a Filtration\n",
      "from numpy import arange,array,ones,linalg, divide\n",
      "from pylab import plot,show\n",
      "\n",
      "#Variable declaration\n",
      "A = 0.873                  #Filter area of each frame (m2)\n",
      "C = 0.0439                 #Proportionality constant\n",
      "V = 3.37                   #Volume of filtrate (m3)\n",
      "xi = arange(0.0,0.00501,0.00005)\n",
      "t = [4.4,9.5,16.3,24.6,34.7,46.1,59.0,73.6,89.4,107.3]\n",
      "y = [0.498e-3,1.0e-3,1.501e-3,2.0e-3,2.498e-3,3.002e-3,3.506e-3,4.004e-3,4.502e-3,5.009e-3]\n",
      "\n",
      "#Calculation\n",
      "        # linearly generated sequence\n",
      "yy = divide(t,y)\n",
      "Aa = array([y, ones(10)])\n",
      "w = linalg.lstsq(Aa.T,yy)[0] # obtaining the parameters\n",
      "# Use w[0] and w[1] for your calculations and give good structure to this ipython notebook\n",
      "# plotting the line\n",
      "line = w[0]*xi+w[1] # regression line\n",
      "plot(xi,line,'r-',y,yy,'o')\n",
      "ylabel('$t/V^2$')\n",
      "xlabel('$V$')\n",
      "xlim(0.0,5.1e-3)\n",
      "ylim(0.0,22e3)\n",
      "show()\n",
      "Kp = 2.0*w[0]\n",
      "B = w[1]\n",
      "\n",
      "At = A*20.                 #Total area of the 20 frames (m2)\n",
      "Kpc = Kp*(C/At)**2         #Corrected slope (s/m6)\n",
      "Bc = B*(C/At)              #Corrected intercept (s/m3)\n",
      "#t = Kpc*V**2/2 + Bc*V\n",
      "t = Kpc*V**2/2 + Bc*V\n",
      "\n",
      "#Result\n",
      "print 'The time required to recover the filtrate is %5.2f s'%t\n",
      "print 'The values slope and intercept of plot of t/v2 vs V is more accurate than book the code utilises '\n",
      "print 'built in function for regression, which gives better results than from graphical estimates; Hence'\n",
      "print 'time required to recover 3.37 m3 is different than given in book'"
     ],
     "language": "python",
     "metadata": {},
     "outputs": [
      {
       "metadata": {},
       "output_type": "display_data",
       "png": "[encoded data removed]",
       "text": [
        "<matplotlib.figure.Figure at 0x5fd7eb0>"
       ]
      },
      {
       "output_type": "stream",
       "stream": "stdout",
       "text": [
        "The time required to recover the filtrate is 264.61 s\n",
        "The values slope of plot of t/v2 vs V is more accurate than book the code utilises built in function\n",
        "for regression, which gives better results than from graphical slope and intercept estimates; Hence\n",
        "time required to recover 3.37 m3 is different than given in book\n"
       ]
      }
     ],
     "prompt_number": 6
    },
    {
     "cell_type": "heading",
     "level": 2,
     "metadata": {},
     "source": [
      "Example 14.2-3, Page number 813"
     ]
    },
    {
     "cell_type": "code",
     "collapsed": false,
     "input": [
      "#Rate of Washing and Total Filter Cycle time\n",
      "#Variable declaration\n",
      "Kp = 37.93                 #Slope of the line multiplied by 2 (s/m6) \n",
      "B = 16.10                  #Determined Intercept from data plotted (s/m3)\n",
      "Vf = 3.37                  #Volume of the Flitrate (m3)\n",
      "Vw = 0.337                 #Volume of wash water (m3)\n",
      "Tc = 20.                   #Filter cleaning time (min)\n",
      "Tr = 269.7                 #Filtrate recovry time (s)\n",
      "#Calculation\n",
      "#(dV/dt) = (1/4)*(1/(Kp*Vf + B))\n",
      "R = (1./4.)*(1./((Kp*Vf) + B))\n",
      "#Tw = (Volume of wash water)/(Rate of washing)\n",
      "#Tw = Vw/(R)\n",
      "Tw = Vw/(R)\n",
      "#Total filtration cycle = Filtrate recovry time + Time of washing + Filter cleaning time\n",
      "#Tt = Tr/60 + Tw/60 + Tc\n",
      "Tt = Tr/60. + Tw/60. + 20.\n",
      "#Result\n",
      "print \"The time of washing is\",round(Tw,1),\"s\"\n",
      "print \"The total filtration cycle is\",round(Tt,2),\"min\""
     ],
     "language": "python",
     "metadata": {},
     "outputs": [
      {
       "output_type": "stream",
       "stream": "stdout",
       "text": [
        "The time of washing is 194.0 s\n",
        "The total filtration cycle is 27.73 min\n"
       ]
      }
     ],
     "prompt_number": 7
    },
    {
     "cell_type": "heading",
     "level": 2,
     "metadata": {},
     "source": [
      "Example 14.2-4, Page number 814 "
     ]
    },
    {
     "cell_type": "code",
     "collapsed": false,
     "input": [
      "#Filtration in a continuous Rotary drumn\n",
      "#Variable declaration\n",
      "Rho = 996.9                 #Density of water (kg/m3)\n",
      "Cx = 0.191                  #Solids concentration in slurry (kg)\n",
      "m = 2.\n",
      "P = -67.e3                  #Pressure drop in Filter (Pa)\n",
      "M = 0.778                   #Mass of slurry (kg)\n",
      "tc = 250.                   #Filter cycle time (s)\n",
      "mu = 0.8937e-3              #Viscosity of slurry (Pa.s)\n",
      "f = 0.33                    #Fraction of drum submerged\n",
      "#Calculation\n",
      "#Cs = (Rho*Cx)/(1-m*Cx)\n",
      "Cs = (Rho*Cx)/(1-m*Cx)\n",
      "alpha = (4.37e9)*(-P)**0.3\n",
      "\n",
      "R = M*Cx/Cs\n",
      "\n",
      "A = R*((tc*mu*alpha*Cs)/(2*f*(-P)))**0.5\n",
      "#Result\n",
      "\n",
      "print \"The Filter Area needed to filter the slurry is \",round(A,2),\"m2\""
     ],
     "language": "python",
     "metadata": {},
     "outputs": [
      {
       "output_type": "stream",
       "stream": "stdout",
       "text": [
        "The Filter Area needed to filter the slurry is  6.66 m2\n"
       ]
      }
     ],
     "prompt_number": 8
    },
    {
     "cell_type": "heading",
     "level": 2,
     "metadata": {},
     "source": [
      "Example 14.3-1, Page number 818  "
     ]
    },
    {
     "cell_type": "code",
     "collapsed": false,
     "input": [
      "#Filtration in a continuous Rotary drumn\n",
      "#Variable declaration\n",
      "Dp = 2.0e-5                     #Diameter of the oil droplet (m)\n",
      "rhooil = 900.                   #Density of oil (kg/m3)\n",
      "rhoair = 1.137                  #Density of air (kg/m3)\n",
      "muair = 1.9e-5                  #Viscosity of air (Pa.s)\n",
      "vt = 0.305                      #Assumed terminal settling velocity (m/s)\n",
      "\n",
      "#Calculation\n",
      "eR = 1.\n",
      "i = 0\n",
      "while eR>=0.00001:\n",
      "    i= i+1\n",
      "    Nre = Dp*vt*rhoair/muair\n",
      "    Cd = 24./Nre\n",
      "    vtnew = sqrt(4.*(rhooil-rhoair)*9.81*Dp/(3*Cd*rhoair))\n",
      "    eR = abs((vt-vtnew)/vt)\n",
      "    vt = vtnew\n",
      "#Result\n",
      "print 'Reynolds number %4.3f'%Nre\n",
      "print \"The calculated terminal settling velocity is\",round(vt,4),\"m/s\""
     ],
     "language": "python",
     "metadata": {},
     "outputs": [
      {
       "output_type": "stream",
       "stream": "stdout",
       "text": [
        "Reynolds number 0.012\n",
        "The calculated terminal settling velocity is 0.0103 m/s\n"
       ]
      }
     ],
     "prompt_number": 11
    },
    {
     "cell_type": "heading",
     "level": 2,
     "metadata": {},
     "source": [
      "Example 14.3-2, Page number 820"
     ]
    },
    {
     "cell_type": "code",
     "collapsed": false,
     "input": [
      "#Hindered Settling of Spheres\n",
      "\n",
      "#Variable declaration\n",
      "D = 1.554e-4                   #Diameter of the glass sphere (m)\n",
      "rhoglass = 2467.               #Density of glass (kg/m3)\n",
      "rhowater = 998.                #Density of water (kg/m3)\n",
      "muwater = 1.005e-3             #Viscosity of water (Pa.s)\n",
      "P_w = 40.                      #Percentage of water in mixture  \n",
      "P_s = 60.                      #Percentage of solids in mixture \n",
      "g = 9.807                      #Gravitational acceleration (m/s2)\n",
      "#Calculation\n",
      "e = (P_w/rhowater)/(P_w/rhowater + P_s/rhoglass)\n",
      "rho_m = e*rhowater + (1 - e)*rhoglass\n",
      "fi = 1/10**(1.82*(1-e))\n",
      "vt = (g*D**2*(rhoglass - rhowater)*e**2*fi)/(18.*muwater)\n",
      "N_re = (D*vt*rho_m*fi)/(muwater*e)\n",
      "#Result\n",
      "print 'The terminal velocity of the glass ball is %6.3e'%(vt),\"m/s\"\n",
      "print \"The Reynolds number is\",round(N_re,3)\n",
      "if N_re <= 1.:\n",
      "    print 'Hence, the settling is in laminar range'"
     ],
     "language": "python",
     "metadata": {},
     "outputs": [
      {
       "output_type": "stream",
       "stream": "stdout",
       "text": [
        "The terminal velocity of the glass ball is 1.530e-03 m/s\n",
        "The Reynolds number is 0.121\n",
        "Hence, the settling is in laminar range\n"
       ]
      }
     ],
     "prompt_number": 12
    },
    {
     "cell_type": "heading",
     "level": 2,
     "metadata": {},
     "source": [
      "Example 14.3-3, Page number 824"
     ]
    },
    {
     "cell_type": "code",
     "collapsed": false,
     "input": [
      "#Separation of a Mixture of Silica and Galena\n",
      "\n",
      "#Variable declaration\n",
      "Dpl = 5.21e-6              #Size of the smallest particle (m)\n",
      "Dpb = 2.50e-5              #Size of the largest particle  (m)       \n",
      "rhoA = 7500.               #Density of Galena (kg/m3)\n",
      "rhoB = 2650.               #Densiy of Silica (kg/m3)\n",
      "rhol = 998.                #Density of Water (kg/m3)\n",
      "mu = 1.005e-3              #Viscosity of Water (Pa.s)\n",
      "g = 9.807                  #Gravitational accelertion (m/s2)\n",
      "#Calculation\n",
      "vtA =g*Dpb**2*(rhoA-rhol)/(18*mu)\n",
      "Nre = Dpb*vtA*rhol/mu\n",
      "DpA3 = Dpb*((rhoB-rhol)/(rhoA-rhol))**0.5\n",
      "DpB2 = Dpl/((rhoB-rhol)/(rhoA-rhol))**0.5\n",
      "\n",
      "print 'The size range for first fraction of pure A Galena is as follows:\\n%5.3e to %5.3e' %(DpA3,Dpb)\n",
      "print 'The size range for first fraction of pure B Silica is as follows:\\n%5.3e to %5.3e' %(Dpl,DpB2)\n",
      "print 'The mixed fraction ranges is as follows:\\n%5.3e to %5.3e and \\n%5.3e to %5.3e' %(DpB2,Dpb,Dpl,DpA3) "
     ],
     "language": "python",
     "metadata": {},
     "outputs": [
      {
       "output_type": "stream",
       "stream": "stdout",
       "text": [
        "The size range for first fraction of pure A Galena is as follows:\n",
        "1.260e-05 to 2.500e-05\n",
        "The size range for first fraction of pure B Silica is as follows:\n",
        "5.210e-06 to 1.034e-05\n",
        "The mixed fraction ranges is as follows:\n",
        "1.034e-05 to 2.500e-05 and \n",
        "5.210e-06 to 1.260e-05\n"
       ]
      }
     ],
     "prompt_number": 12
    },
    {
     "cell_type": "heading",
     "level": 2,
     "metadata": {},
     "source": [
      "Example 14.4-1, Page number 831"
     ]
    },
    {
     "cell_type": "code",
     "collapsed": false,
     "input": [
      "#Force in a centrifuge\n",
      "\n",
      "#Variable declaration\n",
      "r1 = 0.1016              #Radius of the bowl in case A (m)\n",
      "r2 = 0.2032              #Radius of the bowl in case B (m)\n",
      "N = 1000.                #Revolution per minute  \n",
      "g = 9.807                #Gravitational acceleration (m/s2)\n",
      "\n",
      "#Calculation\n",
      "FcbyFg1 = r1*(2*pi*N/60)**2/g\n",
      "FcbyFg2 = r2*(2*pi*N/60)**2/g\n",
      "print \"Centrifugal force developed in case A:\", round(FcbyFg1,1),\"g's\"\n",
      "print \"Centrifugal force developed in case B:\", round(FcbyFg2,1),\"g's\""
     ],
     "language": "python",
     "metadata": {},
     "outputs": [
      {
       "output_type": "stream",
       "stream": "stdout",
       "text": [
        "Centrifugal force developed in case A: 113.6 g's\n",
        "Centrifugal force developed in case B: 227.2 g's\n"
       ]
      }
     ],
     "prompt_number": 14
    },
    {
     "cell_type": "heading",
     "level": 2,
     "metadata": {},
     "source": [
      "Example 14.4-2, Page number 833"
     ]
    },
    {
     "cell_type": "code",
     "collapsed": false,
     "input": [
      "#Settling in a centrifuge\n",
      "\n",
      "#Variable declaration\n",
      "rhop = 1461.                  #Density of the viscous solution (kg/m3)\n",
      "rhol = 801.                   #Density of the solution (kg/m3)\n",
      "mu = 100e-3                   #Viscosity of the solution (Pa.s)\n",
      "r1 = 0.00716                  #Inner radius of the bowl (m)\n",
      "r2 = 0.02225                  #Outer radius of the bowl (m)\n",
      "b = 0.1970                    #Height of the bowl (m)\n",
      "N = 23000                     #Revolutions per minute\n",
      "qc = 0.002832                 #Flowrate of the particles (m3/h)\n",
      "\n",
      "#Calculations\n",
      "omegha = 2*pi*N/60\n",
      "V = pi*b*(r2**2-r1**2)\n",
      "qc = qc/3600\n",
      "Dpc = sqrt(qc*18*mu*log(2*r2/(r1+r2))/(V*omegha**2*(rhop-rhol)))\n",
      "vt = omegha**2*r2*Dpc**2*(rhop-rhol)/(18*mu)\n",
      "Nre = Dpc*vt*rhol/mu\n",
      "tT = V/qc\n",
      "print \"The critical particle diameter of the largest particle in the exit stream is %5.3e m or %4.4f um\"%(Dpc,Dpc*1e6)"
     ],
     "language": "python",
     "metadata": {},
     "outputs": [
      {
       "output_type": "stream",
       "stream": "stdout",
       "text": [
        "The critical particle diameter of the largest particle in the exit stream is 7.468e-07 m or 0.7468 um\n"
       ]
      }
     ],
     "prompt_number": 4
    },
    {
     "cell_type": "heading",
     "level": 2,
     "metadata": {},
     "source": [
      "Example 14.4-3, Page number 836"
     ]
    },
    {
     "cell_type": "code",
     "collapsed": false,
     "input": [
      "#Location of interface in a centriguge\n",
      "\n",
      "#Variable declaration\n",
      "rhooil = 919.5               #Density of oil phase (kg/m3)\n",
      "rhoaqe = 980.1               #Density of aqueous phase (kg/m3)\n",
      "r1 = 10.160                  #Radius for the overflow Light liquid (mm)\n",
      "bh = 10.414                  #Radius for the overflow Heavy liquid (mm)\n",
      "\n",
      "#Calculations\n",
      "r2 = sqrt((rhoaqe*bh**2-rhooil*r1**2)/(rhoaqe-rhooil))\n",
      "\n",
      "#Results\n",
      "print \"Location of interface:\", round(r2,3),\"mm\""
     ],
     "language": "python",
     "metadata": {},
     "outputs": [
      {
       "output_type": "stream",
       "stream": "stdout",
       "text": [
        "Location of interface: 13.702 mm\n"
       ]
      }
     ],
     "prompt_number": 2
    },
    {
     "cell_type": "heading",
     "level": 2,
     "metadata": {},
     "source": [
      "Example 14.5-1 Page No. 842"
     ]
    },
    {
     "cell_type": "code",
     "collapsed": false,
     "input": [
      "#Power to Crust Iron Ore by Bond's Theory\n",
      "\n",
      "#Variable Declaration\n",
      "T = 10.              #Feed Rate of Ore, ton/hr\n",
      "Df = 3.              #Size of Feed , in\n",
      "Dp = 1./8           #Size of product, in \n",
      "\n",
      "#Calculations\n",
      "Ei = 12.68          #Work index for Iron Ore\n",
      "T = T/60\n",
      "Dp = Dp/12\n",
      "Df = Df/12\n",
      "\n",
      "P= 1.46*T*Ei*(1./sqrt(Dp) - 1./sqrt(Df))\n",
      "\n",
      "#Result\n",
      "print 'Power required %3.1f hp'%(P)"
     ],
     "language": "python",
     "metadata": {},
     "outputs": [
      {
       "output_type": "stream",
       "stream": "stdout",
       "text": [
        "Power required 24.1 hp\n"
       ]
      }
     ],
     "prompt_number": 19
    }
   ],
   "metadata": {}
  }
 ]
}