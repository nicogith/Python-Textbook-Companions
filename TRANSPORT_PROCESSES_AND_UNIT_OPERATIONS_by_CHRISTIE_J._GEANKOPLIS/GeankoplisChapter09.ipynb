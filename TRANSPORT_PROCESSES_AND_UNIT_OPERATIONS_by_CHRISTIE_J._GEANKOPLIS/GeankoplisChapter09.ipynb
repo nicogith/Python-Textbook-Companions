{
 "metadata": {
  "name": "",
  "signature": "sha256:f28b10e862601fa7c238c02abbd33f9e5034b01e48fba8ea70e2e847c96ba3bd"
 },
 "nbformat": 3,
 "nbformat_minor": 0,
 "worksheets": [
  {
   "cells": [
    {
     "cell_type": "heading",
     "level": 1,
     "metadata": {},
     "source": [
      "Chapter 9: Drying of Process Material"
     ]
    },
    {
     "cell_type": "heading",
     "level": 2,
     "metadata": {},
     "source": [
      "Example 9.3-1 Page Number 526"
     ]
    },
    {
     "cell_type": "code",
     "collapsed": false,
     "input": [
      "#Humidity from Vapor-pressure Data\n",
      "\n",
      "#Variable declaration\n",
      "Pas = 3.5                   #Vapor pressure of water at 26.7 deg C (kPa)\n",
      "Pa = 2.76                   #Partial pressure of water vapor (kPa)\n",
      "P = 101.3                   #Pressure at room temperature (kPa)\n",
      "\n",
      "#Calculation\n",
      "        #Calculation for part (a)\n",
      "H = 18.02*Pa/(28.97*(P - Pa))\n",
      "        #Calculation for part (b)\n",
      "Hs = 18.02*Pas/(28.97*(P - Pas))\n",
      "Hp = 100.*H/Hs       \n",
      "    #Calculation for part (c)\n",
      "Hr = 100.*Pa/Pas\n",
      "#Result\n",
      "print \"(a) The Humidity is\",round(H,5),\"kg H2O/(kg dry air)\"\n",
      "print \"(b) The saturation humidity is\",round(Hs,5),\"kg H2O/(kg dry air)\"\n",
      "print \"(b) The percentage humidity is\",round(Hp,1),\"%\"\n",
      "print \"(c) The precentage relative humidity is\",round(Hr,1),\"%\""
     ],
     "language": "python",
     "metadata": {},
     "outputs": [
      {
       "output_type": "stream",
       "stream": "stdout",
       "text": [
        "(a) The Humidity is 0.01742 kg H2O/(kg dry air)\n",
        "(b) The saturation humidity is 0.02226 kg H2O/(kg dry air)\n",
        "(b) The percentage humidity is 78.3 %\n",
        "(c) The precentage relative humidity is 78.9 %\n"
       ]
      }
     ],
     "prompt_number": 1
    },
    {
     "cell_type": "heading",
     "level": 2,
     "metadata": {},
     "source": [
      "Example 9.3-2 Page Number 528"
     ]
    },
    {
     "cell_type": "code",
     "collapsed": false,
     "input": [
      "#Use of Humidity Chart\n",
      "\n",
      "#Variable declaration\n",
      "T = 60.                        #Dry bulb temperature of air (deg C)\n",
      "T_F = 140.                     #Temperature in FPS units (deg F)\n",
      "Td = 26.7                      #Dew point of air (deg C)\n",
      "\n",
      "#Calculation\n",
      "H = 0.0225                     #Actual humid heat (Value determined from the Psychrometric chart)\n",
      "\n",
      "Cs_SI = 1.005 + 1.88*H\n",
      "Cs_Eng = 0.24 + 0.45*H\n",
      "Vh_SI = (2.83e-3 + 4.56e-3*H)*(T + 273.)\n",
      "Vh_Eng = (0.0252 + 0.0405*H)*(T_F + 460.)\n",
      "\n",
      "#Result\n",
      "print 'Actual humidity determine using Humidity chart= %5.4f kgH2O/kgdry air'%H\n",
      "print \"The calculated Humid Heat in SI units is\",round(Cs_SI,3),\"kJ/(kg dry air.K)\"\n",
      "print \"The calculated Humid Heat in English units is\",round(Cs_Eng,3),\"btu/(lbm dry air.\u00b0C)\"\n",
      "print \"The calculated Humid Volume in SI units is \",round(Vh_SI,3),\"m3/kg dry air\"\n",
      "print \"The calculated Humid Volume in English units is\",round(Vh_Eng,2),\"ft3/lbm dry air\""
     ],
     "language": "python",
     "metadata": {},
     "outputs": [
      {
       "output_type": "stream",
       "stream": "stdout",
       "text": [
        "Actual humidity determine using Humidity chart= 0.0225 kgH2O/kgdry air\n",
        "The calculated Humid Heat in SI units is 1.047 kJ/(kg dry air.K)\n",
        "The calculated Humid Heat in English units is 0.25 btu/(lbm dry air.\u00b0C)\n",
        "The calculated Humid Volume in SI units is  0.977 m3/kg dry air\n",
        "The calculated Humid Volume in English units is 15.67 ft3/lbm dry air\n"
       ]
      }
     ],
     "prompt_number": 1
    },
    {
     "cell_type": "heading",
     "level": 2,
     "metadata": {},
     "source": [
      "Example 9.3-3 Page Number 531 "
     ]
    },
    {
     "cell_type": "code",
     "collapsed": false,
     "input": [
      "#Adiabatic Saturation of Air\n",
      "\n",
      "#Variable declaration\n",
      "Ha = 0.030                        #Humidity of dry air (kg H2O/kg dry air)\n",
      "\n",
      "#Calculation\n",
      "    #Calculation for (a)\n",
      "Hb = 0.0500       #Value determined from Humidity chart for 90 % saturation (kg H2O/kg dry air)\n",
      "T = 42.5          #Value determined from Humidity chart for 90 % saturation (deg C)\n",
      "    #Calculation for (b)\n",
      "Hb = 0.0505       #Value determined from Humidity chart for 100 % saturation (kg H2O/kg dry air)\n",
      "Tb = 40.5         #Value determined from Humidity chart for 90 % saturation (deg C)\n",
      "#Result\n",
      "print \"(a) The value of humidity at 90 % saturation is \",Ha,\"(kg H2O/kg dry air)\"\n",
      "print \"    The value of temperature at 90 % saturation is \",T,\"deg C\"\n",
      "print \"(b) The value of humidity at 100 % saturation is \",Hb,\"(kg H2O/kg dry air)\"\n",
      "print \"    The value of temperature at 100 % saturation is \",Tb,\"deg C\"\n"
     ],
     "language": "python",
     "metadata": {},
     "outputs": [
      {
       "output_type": "stream",
       "stream": "stdout",
       "text": [
        "(a) The value of humidity at 90 % saturation is  0.03 (kg H2O/kg dry air)\n",
        "    The value of temperature at 90 % saturation is  42.5 deg C\n",
        "(b) The value of humidity at 100 % saturation is  0.0505 (kg H2O/kg dry air)\n",
        "    The value of temperature at 100 % saturation is  40.5 deg C\n"
       ]
      }
     ],
     "prompt_number": 10
    },
    {
     "cell_type": "heading",
     "level": 2,
     "metadata": {},
     "source": [
      "Example 9.3-4 Page Number 532 "
     ]
    },
    {
     "cell_type": "code",
     "collapsed": false,
     "input": [
      "#Wet Bulb Temperature and Humidity\n",
      "\n",
      "#Variable declaration\n",
      "T = 60.               #Dry bulb temperature of vapor-air mixture (deg C)\n",
      "Tw = 29.5             #Obtained wet bulb temperature (deg C)\n",
      "\n",
      "#Calculation\n",
      "H = 0.0135   #Humidity obtained from the adiabatic saturation curve (kg H2O/kg dry air)\n",
      "\n",
      "#Result\n",
      "print \"The humidity obtained from the adiabatic curve is\",H,\"(kg H2O/kg dry air)\""
     ],
     "language": "python",
     "metadata": {},
     "outputs": [
      {
       "output_type": "stream",
       "stream": "stdout",
       "text": [
        "The humidity obtained from the adiabatic curve is 0.0135 (kg H2O/kg dry air)\n"
       ]
      }
     ],
     "prompt_number": 11
    },
    {
     "cell_type": "heading",
     "level": 2,
     "metadata": {},
     "source": [
      "Example 9.6-1 Page Number 541"
     ]
    },
    {
     "cell_type": "code",
     "collapsed": false,
     "input": [
      "#Time of Drying from Drying Curve\n",
      "\n",
      "#Variable declaration\n",
      "X1 = 0.38                      #Initial Moisture content (kg H2O/kg dry solid)\n",
      "X2 = 0.25                      #Final Moisture content (kg H2O/kg dry solid)\n",
      "t1 = 1.28                      #Time required for drying solid (h) (Value determined from fig. 9.5-1A)\n",
      "t2 = 3.08                      #Time required for drying solid (h) (Value determined from fig. 9.5-1A)\n",
      "\n",
      "#Calculation\n",
      "t = t2 - t1      \n",
      "#Result\n",
      "print \"The time required is \",t,\"h\""
     ],
     "language": "python",
     "metadata": {},
     "outputs": [
      {
       "output_type": "stream",
       "stream": "stdout",
       "text": [
        "The time required is  1.8 h\n"
       ]
      }
     ],
     "prompt_number": 12
    },
    {
     "cell_type": "heading",
     "level": 2,
     "metadata": {},
     "source": [
      "Example 9.6-2 Page Number 541"
     ]
    },
    {
     "cell_type": "code",
     "collapsed": false,
     "input": [
      "#Time of Drying from Drying Curve\n",
      "\n",
      "#Variable declaration\n",
      "X1 = 0.38                      #Initial Moisture content (kg H2O/kg dry solid)\n",
      "X2 = 0.25                      #Final Moisture content (kg H2O/kg dry solid)\n",
      "LsbyA = 21.5                   #From Fig.9.5-1b\n",
      "Rc = 1.51                      #From Fig.9.5-1b\n",
      "#Calculation\n",
      "t = LsbyA*(X1 - X2)/Rc\n",
      "#Result\n",
      "print \"The time required is \",round(t,2),\"h\""
     ],
     "language": "python",
     "metadata": {},
     "outputs": [
      {
       "output_type": "stream",
       "stream": "stdout",
       "text": [
        "The time required is  1.85 h\n"
       ]
      }
     ],
     "prompt_number": 13
    },
    {
     "cell_type": "heading",
     "level": 2,
     "metadata": {},
     "source": [
      "Example 9.6-3 Page Number 543 "
     ]
    },
    {
     "cell_type": "code",
     "collapsed": false,
     "input": [
      "#Prediction of Constant-Rate Drying\n",
      "\n",
      "#Varialbe declaration\n",
      "A_eng = 1.5*1.5                   #Area of pan (ft2)\n",
      "H = 0.01                          #Humidity of air stream (kg H2O/kg dry air) or (lbm H2O/lbm dry air)\n",
      "Hw = 0.026                        #Saturated Humidity (kg H2O/kg dry air) or (lbm H2O/lbm dry air)\n",
      "\n",
      "#Variable declaration SI units\n",
      "A = 0.457*0.457                   #Area of pan (m2)\n",
      "T = 65.6                          #Dry bulb temperature (deg C)\n",
      "Tw = 28.9                         #Wet bulb temperature (deg C) \n",
      "v = 6.1                           #Velocity of air stream flowing parallel to the surface (m/s)\n",
      "lambdaw = 2433.                   #Value determined from steam table (kJ/kg)\n",
      "lambdaw_eng = 1046.               #Value determined from steam table (btu/lbm) \n",
      "\n",
      "#Calculation\n",
      "Vh = (2.83e-3 + 4.56e-3*H)*(T + 273.)\n",
      "Rho = (1. + H)/0.974\n",
      "G = v*3600.*Rho\n",
      "h = 0.0204*G**0.8\n",
      "Tw = 28.9\n",
      "Rc_SI = (h/(lambdaw*1000.))*(T - Tw)*3600.\n",
      "R = Rc_SI*A\n",
      "\n",
      "print \"Results in SI units\"\n",
      "print \"The calculated total rate of evaporation in SI Units \",round(R,3),\"kg H2O/h\"\n",
      "\n",
      "#Variable declaration English units\n",
      "T_eng = 150.                      #Dry bulb temperature (F)\n",
      "Tw = 28.9                         #Wet bulb temperature (deg C) \n",
      "v_eng = 20.                       #Velocity of air stream flowing parallel to the surface (ft/s)\n",
      "lambdaw_eng = 1046.               #Value determined from steam table (btu/lbm) \n",
      "Tw_eng = 84.\n",
      "\n",
      "#Calculation\n",
      "Vh_eng = (0.0252 + 0.0405*H)\n",
      "Rho_eng = 0.0647\n",
      "G_eng = v_eng*3600.*Rho_eng\n",
      "h_eng = 0.0128*G_eng**0.8\n",
      "Rc_Eng = h_eng*(T_eng - Tw_eng)/lambdaw_eng\n",
      "R_eng = Rc_Eng*A_eng\n",
      "\n",
      "#Result\n",
      "print \"Results in English units\"\n",
      "print \"The calculated total rate of evaporation in English Units\",round(R_eng,3),\"lbm H2O/h\""
     ],
     "language": "python",
     "metadata": {},
     "outputs": [
      {
       "output_type": "stream",
       "stream": "stdout",
       "text": [
        "Results in SI units\n",
        "The calculated total rate of evaporation in SI Units  0.708 kg H2O/h\n",
        "Results in English units\n",
        "The calculated total rate of evaporation in English Units 1.563 lbm H2O/h\n"
       ]
      }
     ],
     "prompt_number": 14
    },
    {
     "cell_type": "heading",
     "level": 2,
     "metadata": {},
     "source": [
      "Example 9.7-1 Page Number 545"
     ]
    },
    {
     "cell_type": "code",
     "collapsed": false,
     "input": [
      "#Graphical Integration in Falling-Rate Drying Period\n",
      "import numpy as np\n",
      "from scipy.interpolate import interp1d\n",
      "import scipy.integrate as integrate\n",
      "from matplotlib.pylab import plot,fill_between\n",
      "\n",
      "#Variable declaration\n",
      "X1 = 0.38             #Free moisture content (kg H2O/kg dry soild)\n",
      "X2 = 0.04             #Dry solid (kg H2O/kg dry soild)\n",
      "Ls = 399.             #Weight of dry solid (kg)\n",
      "A = 18.58             #Area of top drying surface (m2)\n",
      "\n",
      "Xc = 0.195            #Critical free moisture content (kg H2O/kg dry soild)\n",
      "Rc = 1.51             \n",
      "#Calculation\n",
      "LsbyA = Ls/A\n",
      "tc = LsbyA*(X1 - Xc)/Rc                     #Time required for drying under constant rate period\n",
      "\n",
      "X = np.array([0.195,0.150,0.1,0.065,0.05,0.04])\n",
      "R = np.array([1.51,1.21,0.9,0.71,0.37,0.27])\n",
      "InvR = 1/R\n",
      "plot(X,InvR,'ro-')\n",
      "f = interp1d(X,InvR)\n",
      "AUC = -integrate.simps(InvR,X)        #Time required for drying under falling rate period\n",
      "tf = AUC*LsbyA\n",
      "\n",
      "tfs = str(round(tf,2))\n",
      "plot([Xc,Xc],[0.,InvR[0]])\n",
      "plot([X2,X2],[0.,InvR[len(X)-1]])\n",
      "xlabel(\"Moisture content, Kg H2O/kg Dry solid\")\n",
      "ylabel(\"Drying Rate, kg H2O/(h.m2)\")\n",
      "fill_between(X,InvR,0,color='0.8')\n",
      "#Result\n",
      "print \"Total drying time:\", round(tc+tf,3), \"h\"\n",
      "title('Area under curve in falling rate period')\n",
      "text(0.1,0.5,'Area='+tfs)\n",
      "\n",
      "print 'Because of numerical integration answer is different than graphical'"
     ],
     "language": "python",
     "metadata": {},
     "outputs": [
      {
       "output_type": "stream",
       "stream": "stdout",
       "text": [
        "Total drying time: 6.536 h\n"
       ]
      },
      {
       "metadata": {},
       "output_type": "pyout",
       "prompt_number": 15,
       "text": [
        "<matplotlib.text.Text at 0x63fdd70>"
       ]
      },
      {
       "metadata": {},
       "output_type": "display_data",
       "png": "[encoded data removed]",
       "text": [
        "<matplotlib.figure.Figure at 0x6370f70>"
       ]
      }
     ],
     "prompt_number": 15
    },
    {
     "cell_type": "heading",
     "level": 2,
     "metadata": {},
     "source": [
      "Example 9.7-2 Page Number 547 "
     ]
    },
    {
     "cell_type": "code",
     "collapsed": false,
     "input": [
      "#Approximation of Straight Line for Falling-Rate Period\n",
      "\n",
      "#Variable declaration\n",
      "Rc = 1.51\n",
      "Xc = 0.195            #Critical free moisture content (kg H2O/kg dry soild)\n",
      "X2 = 0.040            #Dry solid (kg H2O/kg dry soild)\n",
      "Ls = 399.             #Weight of dry solid (kg)\n",
      "A = 18.58             #Area of top drying surface (m2)\n",
      "LsbyA = Ls/A\n",
      "\n",
      "#Calculation\n",
      "t = LsbyA*Xc*log(Xc/X2)/(Rc)\n",
      "#Result\n",
      "print \"The falling rate period is\",round(t,2),\"h\""
     ],
     "language": "python",
     "metadata": {},
     "outputs": [
      {
       "output_type": "stream",
       "stream": "stdout",
       "text": [
        "The falling rate period is 4.39 h\n"
       ]
      }
     ],
     "prompt_number": 16
    },
    {
     "cell_type": "heading",
     "level": 2,
     "metadata": {},
     "source": [
      "Example 9.8-1 Page Number 550"
     ]
    },
    {
     "cell_type": "code",
     "collapsed": false,
     "input": [
      "#Constant-Rate Drying When Radiation and Convention are Present  \n",
      "import numpy as np\n",
      "from scipy.interpolate import interp1d\n",
      "from scipy.optimize import root\n",
      "\n",
      "#Variable declaration\n",
      "t2 = np.array([293,298,303,308,313,318,323])\n",
      "Hs = np.array([14.8,20.2,27.6,36.,49.,65.,87.])\n",
      "\n",
      "t1 = np.array([280,285,290,295,300,305,310,315,320,325,330,335,340])\n",
      "lambds = np.array([2485.4,2473.9,2462.2,2450.3,2438.4,2426.3,2414.3,2402.0,2389.8,2377.6,2365.3,2353.0,2340.5])\n",
      "\n",
      "T = 65.6                #Temperature of the bottom metal surface (deg C)\n",
      "Zs = 0.0254             #Depth of the pan (m)\n",
      "Km = 43.3               #Thermal conductivity of pan (W/m.K)\n",
      "Ks = 0.865              #Thermal conductivity of material (W/m.K)\n",
      "Zm = 0.00061            #Thickness of the metal pan (m)\n",
      "e = 0.92                #Emissivity of the solid \n",
      "H = 0.010               #Humidity of dry air (kg H2O/kg dry air)\n",
      "Tw = 28.9               #Wet bulb temperature (deg C)\n",
      "Ts = 32.2\n",
      "Tr = 93.3               #Temperature of the surface (deg C)\n",
      "lams = 2424.            #Value determined from steam table (kJ/kg)\n",
      "tsg = 32.2\n",
      "u = 6.1                 #m/s\n",
      "\n",
      "#Calculation\n",
      "fHs = interp1d(t2,Hs)\n",
      "flambd = interp1d(t1,lambds)\n",
      "T1 = Tr + 273.2\n",
      "T2 = Ts + 273.2\n",
      "cs = (1.005 + 1.88*H)*1e3\n",
      "Rho = (1. + H)/0.974\n",
      "G = u*3600.*Rho\n",
      "hc = 0.0204*G**0.8\n",
      "UK = 1/(1/hc+Zm/Km+Zs/Ks)\n",
      "er = 1.02\n",
      "Tsg = 303.5\n",
      "while er >= 0.1:\n",
      "    print \"Watch function value displyed to fall near to zero\"\n",
      "    Tsg = float(raw_input(\"Enter the guess temperature  \")) + 273.2\n",
      "    hr = e*5.676*((T1/100)**4-((Tsg)/100)**4)/(T1-(Tsg))\n",
      "    Hs = fHs(Tsg)*1e-3\n",
      "    lambdas = flambd(Tsg)*1e3\n",
      "    k1 = (Hs-0.01)*lambdas/cs\n",
      "    k2 = 1+UK/hc\n",
      "    k3 = hr/hc\n",
      "    f = lambda tsc: -k1 + k2*(T-tsc) + k3*(Tr-tsc)\n",
      "    sol = root(f,T)\n",
      "    tsc = sol.x[0]\n",
      "    er = abs(Tsg-(tsc+273.2))\n",
      "    print er\n",
      "    if er <= 0.01: break\n",
      "    Tsg = tsc+273.2\n",
      "\n",
      "Rc = ((hc+UK)*(T-tsc)+hr*(Tr-tsc))*3600./lambdas\n",
      "#Result\n",
      "\n",
      "print \"Rate of constant drying to \", round(Rc,2),\"kg/(h.m2)\""
     ],
     "language": "python",
     "metadata": {},
     "outputs": [
      {
       "output_type": "stream",
       "stream": "stdout",
       "text": [
        "Watch function value displyed to fall near to zero\n"
       ]
      },
      {
       "name": "stdout",
       "output_type": "stream",
       "stream": "stdout",
       "text": [
        "Enter the guess temperature  34.4\n"
       ]
      },
      {
       "output_type": "stream",
       "stream": "stdout",
       "text": [
        "6.79133441651\n",
        "Watch function value displyed to fall near to zero\n"
       ]
      },
      {
       "name": "stdout",
       "output_type": "stream",
       "stream": "stdout",
       "text": [
        "Enter the guess temperature  32.5\n"
       ]
      },
      {
       "output_type": "stream",
       "stream": "stdout",
       "text": [
        "0.0923167102895\n",
        "Rate of constant drying to  4.86 kg/(h.m2)\n"
       ]
      }
     ],
     "prompt_number": 17
    },
    {
     "cell_type": "heading",
     "level": 2,
     "metadata": {},
     "source": [
      "Example 9.9-1 Page Number 553"
     ]
    },
    {
     "cell_type": "code",
     "collapsed": false,
     "input": [
      "#Drying slabs of wood when Diffusion of Moisture Controls\n",
      "\n",
      "#Variable declaration\n",
      "Dl = 2.97e-6         #Experimental average diffusion cofficient (m2/h)\n",
      "X_ = 0.04             #Moisture content of wood (kg H2O/kg dry wood)\n",
      "Xt1 = 0.29           #Initial average moisture content \n",
      "Xt = 0.09            #Final average moisture content \n",
      "d = 25.4             #Thickness of the wooden plank (mm)\n",
      "#Calculation\n",
      "X1 = Xt1 - X_         #The free moisture content \n",
      "X = Xt - X_\n",
      "x1 = d/(2*1000.)\n",
      "t = 4*(x1**2)*log(8*X1/((pi**2)*X))/((pi**2)*Dl)\n",
      "Ea = X/X1\n",
      "Dltbyx12 = 0.56\n",
      "t_g = x1**2*Dltbyx12/Dl\n",
      "#Result\n",
      "print \"The time needed for drying by calculation is\",round(t,1),\"h\"\n",
      "print \"The time needed for drying by graph is\",round(t_g,1),\"h\""
     ],
     "language": "python",
     "metadata": {},
     "outputs": [
      {
       "output_type": "stream",
       "stream": "stdout",
       "text": [
        "The time needed for drying by calculation is 30.8 h\n",
        "The time needed for drying by graph is 30.4 h\n"
       ]
      }
     ],
     "prompt_number": 18
    },
    {
     "cell_type": "heading",
     "level": 2,
     "metadata": {},
     "source": [
      "Example 9.9-2 Page Number 555"
     ]
    },
    {
     "cell_type": "code",
     "collapsed": false,
     "input": [
      "#Diffusion Coefficient in the Tapoica Root\n",
      "import numpy as np\n",
      "import matplotlib.pyplot as plt\n",
      "from scipy.interpolate import interp1d\n",
      "from scipy.optimize import root\n",
      "#Variable declaration\n",
      "XbyXc = np.array([1.,0.8,0.63,0.55,0.4,0.3,0.23,0.18])\n",
      "t = np.array([0.,0.15,0.27,0.40,0.6,0.8,0.94,1.07])\n",
      "xbyxc = 0.2\n",
      "\n",
      "#Calculation\n",
      "x1 = 3./2.\n",
      "plt.gca().set_yscale('log')\n",
      "f = interp1d(t,XbyXc)\n",
      "f1 = lambda tt: f(tt)-xbyxc\n",
      "sol = root(f1,.97)\n",
      "txbyxc = sol.x[0]\n",
      "\n",
      "plot(t,XbyXc,'bo-')\n",
      "plot([0.0,txbyxc,txbyxc],[0.2,0.2,0.1],'k')\n",
      "#plot([txbyxc,txbyxc],[0.2,0.1],'k')\n",
      "xlabel('$Time,  h$')\n",
      "ylabel('$X/X_c$')\n",
      "# for xbyxc = 0.2 from fig 9.9-1 Dl*t/x**2 = 0.56\n",
      "absc = 0.56\n",
      "DL =absc*x1**2/(txbyxc*3600)\n",
      "#Result\n",
      "print \"Time required for drying to\", xbyxc,\"is \", round(txbyxc,2),\"hr\"\n",
      "print 'Average moisture diffusivity %6.2e' %(DL),'m2/s'"
     ],
     "language": "python",
     "metadata": {},
     "outputs": [
      {
       "output_type": "stream",
       "stream": "stdout",
       "text": [
        "Time required for drying to 0.2 is  1.02 hr\n",
        "Average moisture diffusivity 3.44e-04 m2/s\n"
       ]
      },
      {
       "metadata": {},
       "output_type": "display_data",
       "png": "[encoded data removed]",
       "text": [
        "<matplotlib.figure.Figure at 0x6406150>"
       ]
      }
     ],
     "prompt_number": 19
    },
    {
     "cell_type": "heading",
     "level": 2,
     "metadata": {},
     "source": [
      "Example 9.10-1 Page Number 559"
     ]
    },
    {
     "cell_type": "code",
     "collapsed": false,
     "input": [
      "#Through Circulation Drying in a Bed\n",
      "import numpy as np\n",
      "from scipy.interpolate import interp1d\n",
      "\n",
      "#Variable declaration\n",
      "Xt1 = 1.                  #Initial total moisture content (kg H2O/kg dry air)\n",
      "Xs = 0.01                 #The equilibrium moisture content (kg H2O/kg dry air)\n",
      "Rho = 1602.               #Density of dry solid (kg/m3)\n",
      "Rhos = 641.               #Density of dry solid (kg/m3)\n",
      "H1 = 0.04                 #Inlet air humidity (kg H2O/kg dry air)\n",
      "T1 = 121.1                #Temperature of air (deg C)\n",
      "v = 0.811                 #Gas superficial velocity (m/s)\n",
      "Xtc = 0.5                 #The total critical moisture content \n",
      "Xt = 0.1                  #Final total moisture content (kg H2O/kg dry air) \n",
      "x1 = 0.0508               #Depth of packed cylinders\n",
      "mu = 2.15e-5              #Viscosity of air, kg/(m.s)        \n",
      "\n",
      "T = np.array([280,285,290,295,300,305,310,315,320,325,330,335,340])\n",
      "lambds = np.array([2485.4,2473.9,2462.2,2450.3,2438.4,2426.3,2414.3,2402.0,2389.8,2377.6,2365.3,2353.0,2340.5])\n",
      "\n",
      "#Calculation\n",
      "\n",
      "flambd = interp1d(T,lambds)\n",
      "lambdaw = flambd(320.2)\n",
      "X1 = Xt1 - Xs\n",
      "Xc = Xtc - Xs\n",
      "X = Xt - Xs\n",
      "Vh = (2.83e-3 + 4.56e-3*H1)*(T1 + 273.)\n",
      "RhoH = (1. + H1)/Vh\n",
      "Ga = v*RhoH*3600.*(1./(1.+ H1))\n",
      "H = 0.05                  #Approximate average \n",
      "Gt = (2459. + 2459.*H)/3600.\n",
      "e = 1 - Rhos/Rho          #Void fraction (m3)\n",
      "h = 0.0254                #The length of solid cylinder (m)\n",
      "Dc = 0.00635              #Diameter \n",
      "a = 4*(1 - e)*(h + 0.5*Dc)/(Dc*h)\n",
      "Dp = (Dc*h + 0.5*Dc**2)**0.5\n",
      "Nre = Dp*Gt/mu\n",
      "h = 0.151*(Gt*3600)**0.59/Dp**0.41\n",
      "Tw = 47.2\n",
      "Cs = (1.005 + 1.88*H)*1000.\n",
      "G = Ga/3600.\n",
      "tc = Rhos*lambdaw*1000.*x1*(X1 - Xc)/(G*Cs*(T1 - Tw)*(1 - exp(-h*a*x1/(G*Cs))))\n",
      "tf = Rhos*lambdaw*1000.*x1*Xc*log(Xc/X)/(G*Cs*(T1 - Tw)*(1 - exp(-h*a*x1/(G*Cs))))\n",
      "t = tc+tf\n",
      "\n",
      "#Result\n",
      "print \"Total drying time\", round(t/3600,3),\"h or\", round(t),\"s\""
     ],
     "language": "python",
     "metadata": {},
     "outputs": [
      {
       "output_type": "stream",
       "stream": "stdout",
       "text": [
        "Total drying time 0.628 h or 2260.0 s\n"
       ]
      }
     ],
     "prompt_number": 20
    },
    {
     "cell_type": "heading",
     "level": 2,
     "metadata": {},
     "source": [
      "Example 9.10-2 Page Number 562"
     ]
    },
    {
     "cell_type": "code",
     "collapsed": false,
     "input": [
      "#Heat Balance on a Dryer\n",
      "from scipy.optimize import root\n",
      "\n",
      "#Variable declaration\n",
      "Ls = 453.6       #Feed rate,kg of dry solids/h\n",
      "X1 = 0.04        #moisture content in feed,kg of moisture/kg dry solids\n",
      "X2 = 0.002       #moisture content in feed,kg of moisture/kg dry solids\n",
      "cpA = 4.187      #Specific Heat of moisture, kJ/(kg water.K)\n",
      "cpS = 1.465      #Specific Heat of solid, kJ/(kg dry solid.K)\n",
      "Ts1 = 26.7       #Temperature of feed at inlet, \u00b0C \n",
      "Ts2 = 62.8       #Temperature of product at outlet, \u00b0C\n",
      "Tg2 = 93.3       #Temperature of air at inlet, \u00b0C \n",
      "Tg1 = 37.8       #Temperature of air at outlet, \u00b0C\n",
      "H2 = 0.01        #Humidity of incomming air, kg water/kg dry air\n",
      "Tref = 0.0       #Reference Temperature, \u00b0C\n",
      "\n",
      "#Calculation\n",
      "#Enthalpy of Entering Air, \n",
      "#Latent heat of water from steam table = 2501 kJ/kg @93.3\u00b0C \n",
      "lambda0 = 2501.\n",
      "cs2 = 1.005 + 1.88*H2\n",
      "Hg2 = cs2*(Tg2-Tref) + lambda0*H2 \n",
      "Hs1 = cpS*(Ts1-Tref)+X1*cpA*(Ts1-Tref)\n",
      "Hs2 = cpS*(Ts2-Tref)+X2*cpA*(Ts2-Tref)\n",
      "We = Ls*(X2-X1)               #Water Transfered to air\n",
      "delHs = Ls*(Hs1-Hs2)          #Enthalpy change of solid\n",
      "a = 37.99     #Constants in simplified relation for Humidity dependence of Enthalpy of leaving gas\n",
      "b = 2572.\n",
      "er = 5.\n",
      "h = 0.011\n",
      "while er>=0.001:\n",
      "    g = We/(H2-h)\n",
      "    hc = ((g*Hg2+delHs)/g-a)/b\n",
      "    gc = We/(H2-hc)    \n",
      "    er = (abs(h-hc)+abs(g-gc))/2 \n",
      "    h = hc\n",
      "    g = gc\n",
      "\n",
      "#Results\n",
      "print \"Air flow rate\",round(g,2), \"kg Dry Air/h\"\n",
      "print \"Humidity of air leaving\",round(h,4), \"kg of Water/kg Dry Air\""
     ],
     "language": "python",
     "metadata": {},
     "outputs": [
      {
       "output_type": "stream",
       "stream": "stdout",
       "text": [
        "Air flow rate 1170.92 kg Dry Air/h\n",
        "Humidity of air leaving 0.0247 kg of Water/kg Dry Air\n"
       ]
      }
     ],
     "prompt_number": 23
    },
    {
     "cell_type": "heading",
     "level": 2,
     "metadata": {},
     "source": [
      "Example 9.12-1 Page Number 573"
     ]
    },
    {
     "cell_type": "code",
     "collapsed": false,
     "input": [
      "#Sterlization of Cans\n",
      "\n",
      "#Variable declaration\n",
      "t1 = 20.\n",
      "t2 = 40. - 20.\n",
      "t3 = 73. - 40.\n",
      "T1 = 160.\n",
      "T2 = 210.\n",
      "T3 = 230.\n",
      "T1_C = 71.1\n",
      "T2_C = 98.9\n",
      "T3_C = 110.\n",
      "z = 18.\n",
      "z_SI = 10.\n",
      "#Calculation\n",
      "t0_eng = t1*10.**((T1 - 250.)/z) + t2*10.**((T2 - 250.)/z) + t3*10.**((T3 - 250.)/z)\n",
      "t0_SI = t1*10.**((T1_C - 121.1)/z_SI) + t2*10.**((T2_C - 121.1)/z_SI) + t3*10.**((T3_C - 121.1)/z_SI)\n",
      "\n",
      "#Result\n",
      "print \"The calculated time of sterlization in English units is \",round(t0_eng,2),\"min\"\n",
      "print \"The calculated time of sterlization in SI units is \",round(t0_SI,2),\"min\""
     ],
     "language": "python",
     "metadata": {},
     "outputs": [
      {
       "output_type": "stream",
       "stream": "stdout",
       "text": [
        "The calculated time of sterlization in English units is  2.68 min\n",
        "The calculated time of sterlization in SI units is  2.68 min\n"
       ]
      }
     ],
     "prompt_number": 24
    },
    {
     "cell_type": "heading",
     "level": 2,
     "metadata": {},
     "source": [
      "Example 9.12-2 Page Number 574"
     ]
    },
    {
     "cell_type": "code",
     "collapsed": false,
     "input": [
      "#Thermal Process Evaluation by Graphical Integration\n",
      "import numpy as np\n",
      "from scipy.integrate import quad\n",
      "from scipy.interpolate import interp1d\n",
      "import matplotlib.pyplot as plt\n",
      "\n",
      "#Variable declaration\n",
      "t = np.array([0.,15.,25.,30.,40.,50.,64.])\n",
      "T = np.array([80.,165.,201.,212.5,225.,230.5,235.])\n",
      "F0 = 2.45\n",
      "z = 18\n",
      "#Calculation\n",
      "y = 10**((T-250.)/z)\n",
      "f = interp1d(t,y,'cubic')\n",
      "plt.plot(t,y)\n",
      "plt.fill_between(t,y,0,color='0.8')\n",
      "xlabel('$Time, min$')\n",
      "ylabel('$10^(T-250)/z$')\n",
      "I = quad(f,0,64)\n",
      "title('Figure showing area by integration')\n",
      "txt = 'Area='+str(round(I[0],1))+' m2'\n",
      "text(45,0.02,txt)\n",
      "#Result\n",
      "\n",
      "print \"The process time required is \",round(I[0],1),\"is greater than\", F0,\"hence sterilization is adequet\""
     ],
     "language": "python",
     "metadata": {},
     "outputs": [
      {
       "output_type": "stream",
       "stream": "stdout",
       "text": [
        "The process time required is  2.5 is greater than 2.45 hence sterilization is adequet\n"
       ]
      },
      {
       "metadata": {},
       "output_type": "display_data",
       "png": "[encoded data removed]",
       "text": [
        "<matplotlib.figure.Figure at 0x66e1310>"
       ]
      }
     ],
     "prompt_number": 29
    },
    {
     "cell_type": "heading",
     "level": 2,
     "metadata": {},
     "source": [
      "Example 9.12-3 Page Number 576"
     ]
    },
    {
     "cell_type": "code",
     "collapsed": false,
     "input": [
      "#Pasteurization of Milk\n",
      "#Variable declaration\n",
      "F150 = 9.              #Typical value (min)\n",
      "D150 = 0.6\n",
      "#Calculation\n",
      "N0byN = 10.**(F150/D150)\n",
      "#Result\n",
      "print 'The reduction in number of viable cells is %10.3e'%(N0byN) "
     ],
     "language": "python",
     "metadata": {},
     "outputs": [
      {
       "output_type": "stream",
       "stream": "stdout",
       "text": [
        "The reduction in number of viable cells is  1.000e+15\n"
       ]
      }
     ],
     "prompt_number": 30
    }
   ],
   "metadata": {}
  }
 ]
}