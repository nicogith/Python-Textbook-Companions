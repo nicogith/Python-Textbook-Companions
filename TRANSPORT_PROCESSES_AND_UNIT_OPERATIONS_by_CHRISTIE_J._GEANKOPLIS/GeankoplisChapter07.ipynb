{
 "metadata": {
  "name": "",
  "signature": "sha256:bf40b679afe76f70c4240c30eab7a27a1947dac701038fe19ff02bcbe2341496"
 },
 "nbformat": 3,
 "nbformat_minor": 0,
 "worksheets": [
  {
   "cells": [
    {
     "cell_type": "heading",
     "level": 1,
     "metadata": {},
     "source": [
      "Chapter 7: Principles of Unsteady-State and Convective Mass Transfer"
     ]
    },
    {
     "cell_type": "heading",
     "level": 2,
     "metadata": {},
     "source": [
      "Example 7.1-1, Page number 431 "
     ]
    },
    {
     "cell_type": "code",
     "collapsed": false,
     "input": [
      "#Unsteady State Diffusion in a Slab of Agar\n",
      "\n",
      "#Variable declaration\n",
      "c0 = 0.1        #Concentration of Urea in slab (kg.mol/m3)\n",
      "c1 = 0.         #Concentration of Urea in water (kg.mol/m3)fficient bution  \n",
      "tk = 10.16      #thickness of slab in mm\n",
      "DAB = 4.72e-10  #Diffusivity of urea in m2/s\n",
      "t = 10          #Time in hr\n",
      "kc = inf\n",
      "xa = 0.0        #Location at centre\n",
      "xb = 2.54       #Distance from surface in mm\n",
      "\n",
      "#Calculation\n",
      "K = 1.  #Equilibrium distribution coefficient since aqueous solution and ouside solution have very simillar properties\n",
      "x1 = tk/(1000*2)\n",
      "X = DAB*(t*3600)/x1**2\n",
      "n = xa/x1\n",
      "m = DAB/(K*kc*x1)\n",
      "#from fig 5.3-5\n",
      "X = 0.658\n",
      "Y =0.275\n",
      "#Calculation for part (a)\n",
      "ca1 = (c1/K) - Y*(c1/K - c0)\n",
      "\n",
      "x = (tk/2 - xb)/1000\n",
      "n = xb/x1\n",
      "#from fig 5.3-5\n",
      "Y = 0.172\n",
      "ca2 = (c1/K) - Y*(c1/K - c0)    \n",
      "#Calculation for part (b)\n",
      "\n",
      "X = X/(0.5**2)\n",
      "#from fig 5.3-5\n",
      "Y = 0.0020\n",
      "cb = (c1/K) - Y*(c1/K - c0)\n",
      "#Result\n",
      "print 'Part a'\n",
      "print \"The concentration at x=0 \",ca1,\"kmol/m3\"\n",
      "print \"The concentration at 2.54 mm \",ca2,\"kmol/m3\"\n",
      "print 'Part b'\n",
      "print 'The concentration at the mid-point of the slab %4.1e'%(cb),\"kmol/m3\""
     ],
     "language": "python",
     "metadata": {},
     "outputs": [
      {
       "output_type": "stream",
       "stream": "stdout",
       "text": [
        "Part a\n",
        "The concentration at x=0  0.0275 kmol/m3\n",
        "The concentration at 2.54 mm  0.0172 kmol/m3\n",
        "Part b\n",
        "The concentration at the mid-point of the slab 2.0e-04 kmol/m3\n"
       ]
      }
     ],
     "prompt_number": 1
    },
    {
     "cell_type": "heading",
     "level": 2,
     "metadata": {},
     "source": [
      "Example 7.1-2, Page Number 431 "
     ]
    },
    {
     "cell_type": "code",
     "collapsed": false,
     "input": [
      "#Unsteady-State Diffusion in Semi-Infinite Slab \n",
      "from math import sqrt\n",
      "\n",
      "#Variable declaration\n",
      "\n",
      "c0 = 1.e-2            #Concentration of solute A in slab (kg.mol A/m3)\n",
      "c1 = 0.1              #Concentration of solute A in moving fluid (kg.mol A/m3)\n",
      "Kc = 2.e-7            #Convective coeffcient (m/s)\n",
      "K = 2.                #Equilibrium distribution coefficient \n",
      "x1 = 0.0              #Location where cetre lies\n",
      "x2 = 0.01             #LOcation from the centre, m\n",
      "t = 3.e4              #Given time (s)\n",
      "DAB = 4.e-9           #Diffusivity in the solid (m2/s)\n",
      "cb = 3.48e-2          #Value taken from the Fig. 7.1-3b\n",
      "\n",
      "\n",
      "#Calculation\n",
      "\n",
      "absc = x2/sqrt(DAB*t)\n",
      "param = K*Kc*sqrt(DAB*t)/DAB\n",
      "# from fig 5.3-3 1-Y = 0.26\n",
      "ord = 0.26\n",
      "Y = 1.-ord\n",
      "cs = (1 - Y)*(c1/K - c0) + c0\n",
      "# At surface \n",
      "absc = x1/2*sqrt(DAB*t)\n",
      "#from  fig 5.3-3 1-Y = 0.62  at x=0 and absc\n",
      "ord =0.62\n",
      "Y = 1 - ord\n",
      "ca = (1 - Y)*(c1/K - c0) + c0\n",
      "CLi = K*cb\n",
      "\n",
      "#Result\n",
      "\n",
      "print \"The concentration of solid at surface (x=0) is \",cs,\"kmol/m3\"\n",
      "print 'The concentration of solid at (x=0.01m) is %5.2e'%(ca),\"kmol/m3\"\n"
     ],
     "language": "python",
     "metadata": {},
     "outputs": [
      {
       "output_type": "stream",
       "stream": "stdout",
       "text": [
        "The concentration of solid at surface (x=0) is  0.0204 kmol/m3\n",
        "The concentration of solid at (x=0.01m) is 3.48e-02 kmol/m3\n"
       ]
      }
     ],
     "prompt_number": 6
    },
    {
     "cell_type": "heading",
     "level": 2,
     "metadata": {},
     "source": [
      "Example 7.2-1, Page number 436"
     ]
    },
    {
     "cell_type": "code",
     "collapsed": false,
     "input": [
      "#Vaporizing A and Convective Mass Trasfer\n",
      "from math import log\n",
      "\n",
      "# Variable declaration\n",
      "\n",
      "P = 2.                     #Total Pressure over the nevaporating surface (atm)\n",
      "Pa1 = 0.2                  #Partial vapour pressure of A over the surface (atm) \n",
      "Pa2 = 0.                   #Partial vapour pressure of B over the surface (atm) \n",
      "Kydash = 6.78e-5       \n",
      "\n",
      "# Calculation\n",
      "Ya1 = Pa1/P\n",
      "Ya2 = Pa2/P\n",
      "Yb1 = 1. - Ya1\n",
      "Yb2 = 1. - Ya2\n",
      "Ybm = (Yb2 - Yb1)/log(Yb2/Yb1)\n",
      "ky = Kydash/Ybm         #eqn A\n",
      "\n",
      "kg1 = ky/(P*101325)     #eqn B\n",
      "kg2 = ky/P              #eqn C\n",
      "Na = ky*(Ya1 - Ya2)     #eqn 1\n",
      "pa1 = Pa1*101325.\n",
      "pa2 = Pa2*101325.\n",
      "\n",
      "Na1 = kg1*(pa1-pa2)    #eqn 2\n",
      "Na2 = kg2*(Pa1-Pa2)    #eqn 3\n",
      "\n",
      "#Result\n",
      "print 'The calculated value of ky is %5.3e kgmol/s.m2.molfrac from #eqn A'%(ky)\n",
      "print 'The calculated value of kg is %5.3e kgmol/s.m2.Pa #eqn B'%(kg1)\n",
      "print 'The calculated value of kg is %5.3e kgmol/s.m2.atm #eqn C'%(kg2) \n",
      "print 'The calculated value of the Flux is %5.3e kgmol/s.m2 #eqn 1'%(Na) \n",
      "print 'The calculated value of the Flux is %5.3e kgmol/s.m2 from #eqn 2'%(Na1) \n",
      "print 'The calculated value of the Flux is %5.3e kgmol/s.m2 from #eqn 3'%(Na2) "
     ],
     "language": "python",
     "metadata": {},
     "outputs": [
      {
       "output_type": "stream",
       "stream": "stdout",
       "text": [
        "The calculated value of ky is 7.143e-05 kgmol/s.m2.molfrac from #eqn A\n",
        "The calculated value of kg is 3.525e-10 kgmol/s.m2.Pa #eqn B\n",
        "The calculated value of kg is 3.572e-05 kgmol/s.m2.atm #eqn C\n",
        "The calculated value of the Flux is 7.143e-06 kgmol/s.m2 #eqn 1\n",
        "The calculated value of the Flux is 7.143e-06 kgmol/s.m2 from #eqn 2\n",
        "The calculated value of the Flux is 7.143e-06 kgmol/s.m2 from #eqn 3\n"
       ]
      }
     ],
     "prompt_number": 17
    },
    {
     "cell_type": "heading",
     "level": 2,
     "metadata": {},
     "source": [
      "Example 7.3-1, Page number 443"
     ]
    },
    {
     "cell_type": "code",
     "collapsed": false,
     "input": [
      "#Mass Transfer Inside a Tube \n",
      "\n",
      "# Variable declaration\n",
      "Dab = 6.92e-6               #Diffusivity of solid (m2/s)\n",
      "Pai = 74.                   #Vapor pressure of A (Pa)\n",
      "R = 8314.3                  #Gas constant in (Pa.m3/(K.Kmol))\n",
      "T = 318.                    #Temperature in (K)\n",
      "Cao = 0.0                   #Inlet concentration (kg.mol A/m3)\n",
      "mu  = 1.932e-5              #Viscosity of air (Pa.s)\n",
      "Rho = 1.114                 #Density of air (kg/m3)\n",
      "D = 0.02                    #Diameter of the tube (m)\n",
      "L = 1.1                     #Length of the tube (m)\n",
      "V = 0.8                     #Velocity of fluid (m/s)\n",
      "    \n",
      "# Calculation\n",
      "Cai = Pai/(R*T)\n",
      "Nsc = mu/(Rho*Dab)\n",
      "Nre = D*V*Rho/mu\n",
      "    #Hence the flow is laminar \n",
      "abscisa = Nre*Nsc*D*pi/(4*L)     #From fig 7.3-2\n",
      "ordinate = 0.55\n",
      "Ca = Cao + ordinate*(Cai-Cao)\n",
      "\n",
      "#Result\n",
      "print 'Schmidt Number %4.3f'%Nsc\n",
      "print 'Reynolds Number %4.1f'%Nre\n",
      "print 'Concentration of Napthalene in exit Air: %5.3e' %(Ca),\"kmol/m3\""
     ],
     "language": "python",
     "metadata": {},
     "outputs": [
      {
       "output_type": "stream",
       "stream": "stdout",
       "text": [
        "Schmidt Number 2.506\n",
        "Reynolds Number 922.6\n",
        "Concentration of Napthalene in exit Air: 1.539e-05 kmol/m3\n"
       ]
      }
     ],
     "prompt_number": 17
    },
    {
     "cell_type": "heading",
     "level": 2,
     "metadata": {},
     "source": [
      "Example 7.3-2, Page number 444"
     ]
    },
    {
     "cell_type": "code",
     "collapsed": false,
     "input": [
      "#Mass Transfer from a Flat Plate \n",
      "\n",
      "# Variable declaration\n",
      "L = 0.244                  #Length of the flat plate (m)\n",
      "V = 0.061                  #Velocity of water (m/s)\n",
      "mu = 8.71e-4               #Viscosity of water (Pa.s)\n",
      "Rho = 996.                 #Density of water (kg/m3)\n",
      "Dab = 1.245e-9             #Diffusivity of benzoic acid (m2/s)\n",
      "Ca1 = 2.948e-2             #Initial concentration (kg.mol A/m3)\n",
      "Ca2 = 0.                   #Final concentration (kg.mol A/m3)\n",
      "\n",
      "# Calculation\n",
      "Nsc = mu/(Rho*Dab)\n",
      "Nre = L*V*Rho/mu\n",
      "Jd = 0.99*Nre**-0.5\n",
      "Kcd = Jd*V/Nsc**(2./3.)\n",
      "    #Since the solution is very dilute \n",
      "Xbm = 1.\n",
      "Kc = Kcd \n",
      "Na = Kc*(Ca1 - Ca2)/Xbm\n",
      "\n",
      "#Result\n",
      "print 'Schmidt Number %4.3f'%Nsc\n",
      "print 'Reynolds Number %4.3e'%Nre\n",
      "print 'Mass Transfer Coefficient %5.2e m/s'%(Kc)\n",
      "print 'Flux of A through liquid:%5.3e kmol/(s.m2)'%(Na)"
     ],
     "language": "python",
     "metadata": {},
     "outputs": [
      {
       "output_type": "stream",
       "stream": "stdout",
       "text": [
        "Schmidt Number 702.408\n",
        "Reynolds Number 1.702e+04\n",
        "Mass Transfer Coefficient 5.86e-06 m/s\n",
        "Flux of A through liquid:1.727e-07 kmol/(s.m2)\n"
       ]
      }
     ],
     "prompt_number": 18
    },
    {
     "cell_type": "heading",
     "level": 2,
     "metadata": {},
     "source": [
      "Example 7.3-3, Page number 446"
     ]
    },
    {
     "cell_type": "code",
     "collapsed": false,
     "input": [
      "#Mass Transfer from a Sphere \n",
      "from math import pi\n",
      "\n",
      "#Variable declaration SI units\n",
      "Tdeg = 45                 #Temperature in deg C\n",
      "v = 0.305                 #Velocity of air m/s\n",
      "dp = 0.0254               #Diameter of the sphere m\n",
      "Dab = 6.92e-6             #Diffusivity of napthalene in air (m2/s)\n",
      "pa0 = 0.555               #Vapor pressure of solid napthalene mm Hg\n",
      "mu = 1.93e-5              #Viscosity of air (Pa.s)\n",
      "rho = 1.113               #Density of air (kg/m3)\n",
      "R = 8314                  #Gas constant (Pa.m3/K.Kmol)\n",
      "P = 760                   #Atmospheric pressure in mm Hg\n",
      "\n",
      "#Calculation\n",
      "Tk = Tdeg+ 273\n",
      "Nsc = mu/(Dab*rho)\n",
      "Nre = dp*v*rho/mu\n",
      "Nsh = 2 + 0.552*Nre**0.53*Nsc**(1./3)\n",
      "kcd = Nsh*Dab/dp\n",
      "kGd = kcd/(R*Tk)\n",
      "    # For dilute solutions kgd = kg,  ybm = 1\n",
      "kG = kGd\n",
      "pa1 = pa0/P\n",
      "pa1 = pa1*101325\n",
      "pa2 = 0.0  #for pure air\n",
      "Na = kG*(pa1-pa2)\n",
      "A = pi*dp**2   \n",
      "Ae = Na*A\n",
      "\n",
      "#Result\n",
      "print \"Results in SI units\"\n",
      "print 'Schmidt Number %4.3f'%Nsc\n",
      "print 'Reynolds Number %4.0f'%Nre\n",
      "print 'Mass transfer coefficient kcd= %5.3e' %(kcd),\"m/s\"\n",
      "print 'Mass transfer coefficient KGd= %5.3e' %(kGd),\"kmol/(s.m2)\"\n",
      "print \"Flux of Napthalene evaporation\", round(Na,10),\"kmol/(s.m2)\"\n",
      "print 'Total amount evaporated: %5.3e kmol/s'%Ae\n",
      "\n",
      "print \n",
      "\n",
      "#Calculation\n",
      "R = 0.73\n",
      "    #Unit conversion to English units\n",
      "mu = mu*2.4191e3          #Viscosity of air (lbm/(ft.h))\n",
      "Dab = Dab*3.875e4         #Diffusivity of napthalene in air (ft2/h)\n",
      "dp = dp*3.2808            #Diameter of the sphere ft\n",
      "rho = rho/16.0185         #Density of air (lbm/ft3)\n",
      "v = v*3600*3.2808         #Velocity of air ft/h\n",
      "T = Tk*1.8             #Temperature in Rankine\n",
      "\n",
      "Nsc = mu/(Dab*rho)\n",
      "Nre = dp*v*rho/mu\n",
      "Nsh = 2 + 0.552*Nre**0.53*Nsc**(1./3)\n",
      "#print Nsc, Nre, Nsh\n",
      "kcd = Nsh*Dab/dp\n",
      "kGd = kcd/(R*T)\n",
      "\n",
      "    # For dilute solutions kgd = kg,  ybm = 1\n",
      "kG = kGd\n",
      "pa1 = pa0/P\n",
      "pa2 = pa2/P             #for pure air\n",
      "Na = kG*(pa1-pa2)\n",
      "A = pi*dp**2 \n",
      "Ae = Na*A\n",
      "\n",
      "#Result\n",
      "print \"Results in English units\" \n",
      "print 'Schmidt Number %4.3f'%Nsc\n",
      "print 'Reynolds Number %4.0f'%Nre\n",
      "print 'Mass transfer coefficient kcd=%5.1f' %(kcd),\"ft/h\"\n",
      "print 'Mass transfer coefficient KGd= %6.5f' %(kGd),\"lbmol/(h.ft2)\"\n",
      "print 'Flux of Napthalene evaporation %5.2e'%(Na),\"lbmol/(h.ft2)\"\n",
      "print 'Total amount evaporated: %5.3e lbmol/h'%Ae\n"
     ],
     "language": "python",
     "metadata": {},
     "outputs": [
      {
       "output_type": "stream",
       "stream": "stdout",
       "text": [
        "Results in SI units\n",
        "Schmidt Number 2.506\n",
        "Reynolds Number  447\n",
        "Mass transfer coefficient kcd= 5.730e-03 m/s\n",
        "Mass transfer coefficient KGd= 2.167e-09 kmol/(s.m2)\n",
        "Flux of Napthalene evaporation 1.604e-07 kmol/(s.m2)\n",
        "Total amount evaporated: 3.250e-10 kmol/s\n",
        "\n",
        "Results in English units\n",
        "Schmidt Number 2.506\n",
        "Reynolds Number  447\n",
        "Mass transfer coefficient kcd= 67.7 ft/h\n",
        "Mass transfer coefficient KGd= 0.16196 lbmol/(h.ft2)\n",
        "Flux of Napthalene evaporation 1.18e-04 lbmol/(h.ft2)\n",
        "Total amount evaporated: 2.580e-06 lbmol/h\n"
       ]
      }
     ],
     "prompt_number": 23
    },
    {
     "cell_type": "heading",
     "level": 2,
     "metadata": {},
     "source": [
      "Example 7.3-4, Page number 449"
     ]
    },
    {
     "cell_type": "code",
     "collapsed": false,
     "input": [
      "#Mass Transfer of a Liquid in a Packed Bed\n",
      "from scipy.optimize import root\n",
      "from math import pi,log\n",
      "\n",
      "#Variable declaration\n",
      "Tdeg = 26.1              #Temperature in deg C\n",
      "Q = 5.514e-7             #Flowrate of benzoic acid (m3/s)\n",
      "d = 0.006375             #Diameter of sphere (m)\n",
      "As = 0.01198             #Total surface area of the sphere m2\n",
      "epsilon = 0.436          #Void fraction \n",
      "Dt = 0.0667              #Diameter of the tower in m\n",
      "Cai = 2.948e-2           #Inlet concentration (kg.mol A/m3)\n",
      "Ca1 = 0.0\n",
      "kce = 4.665e-6           #Experimental value of the mass transfer coefficient in m2/s\n",
      "mu261 = 0.8718e-3        #Viscosity of solution at 26.1 deg C (Pa.s)\n",
      "rho261 = 996.7           #Density of the solution in (kg/m3)\n",
      "mu250 = 0.8940e-3        #Viscosity of solution at 25 deg C (Pa.s)\n",
      "Dab = 1.21e-9            #DIffusivity of benzoic acid (m2/s)\n",
      "\n",
      "#Calculation\n",
      "Tk = Tdeg + 273\n",
      "        #Dab ~ T/mu\n",
      "Dab261 = Dab*(Tk/298)*(mu250/mu261) \n",
      "At = pi*Dt**2/4\n",
      "v = Q/At\n",
      "Nsc = mu261/(rho261*Dab261)  \n",
      "Nre = d*v*rho261/mu261\n",
      "Jd = (1.09/epsilon)*Nre**(-2./3)   \n",
      "kcd = Jd*v/Nsc**(2./3)      \n",
      "\n",
      "f = lambda x:Q*(x-Ca1)-As*kcd*(((Cai-Ca1)-(Cai-x))/log((Cai-Ca1)/(Cai-x)))\n",
      "sol = root(f,1e-3)\n",
      "Ca2 = sol.x[0]\n",
      "\n",
      "#Result\n",
      "print 'Schmidt Number %4.1f'%Nsc\n",
      "print 'Reynolds Number %4.3f'%Nre\n",
      "print 'Mass Transfer Coefficient:%5.2e m/s This compares with expt. value of %5.3e m/s'%(kcd,kce)\n",
      "print 'Concentration of Benzoic acid in Water:%5.3e'%(Ca2),\"kgmol/m3\""
     ],
     "language": "python",
     "metadata": {},
     "outputs": [
      {
       "output_type": "stream",
       "stream": "stdout",
       "text": [
        "Schmidt Number 702.3\n",
        "Reynolds Number 1.150\n",
        "Mass Transfer Coefficient:4.55e-06 m/s This compares with expt. value of 4.665e-06 m/s\n",
        "Concentration of Benzoic acid in Water:2.774e-03 kgmol/m3\n"
       ]
      }
     ],
     "prompt_number": 29
    },
    {
     "cell_type": "heading",
     "level": 2,
     "metadata": {},
     "source": [
      "Example 7.4-1, Page number 451"
     ]
    },
    {
     "cell_type": "code",
     "collapsed": false,
     "input": [
      "#Mass Transfer from Air Bubbles in Fermentation\n",
      "\n",
      "# Variable declaration\n",
      "P = 1.0                   #Absolute pressure of bubbles, atm\n",
      "d = 100e-6                #Diameter of bubbles, m\n",
      "Ca1 = 2.26e-4             #Solubility of O2 in water, kmol O2/m3\n",
      "D = 3.25e-9               #Diffusivity of O2 in water, m2/s\n",
      "mu37 = 6.947e-4           #Viscosity of water at 37 \u00b0C, Pa.s\n",
      "rhow = 994                #density of water at 37 \u00b0C, kg/m3\n",
      "rhoa = 1.13               #Density of air at 37 \u00b0C, kg/m3\n",
      "g = 9.806                 #Gravitational acceleration (m/s2)\n",
      "Ca2 = 0.0\n",
      "#Calculations\n",
      "Nsc = mu37/(rhow*D)\n",
      "delP = rhow-rhoa\n",
      "kld = 2*D/d + 0.31*Nsc**(-2./3)*(delP*mu37*g/rhow**2)**(1./3)\n",
      "kl = kld\n",
      "Na = kl*(Ca1-Ca2)\n",
      "\n",
      "#Result\n",
      "print 'Schmidt Number %4.1f'%Nsc\n",
      "print 'Maximum rate of absorption per unit area is %3.2e kmol O2/m2' %Na "
     ],
     "language": "python",
     "metadata": {},
     "outputs": [
      {
       "output_type": "stream",
       "stream": "stdout",
       "text": [
        "Schmidt Number 215.0\n",
        "Maximum rate of absorption per unit area is 5.18e-08 kmol O2/m2\n"
       ]
      }
     ],
     "prompt_number": 32
    },
    {
     "cell_type": "heading",
     "level": 2,
     "metadata": {},
     "source": [
      "Example 7.5-2, Page number 458 "
     ]
    },
    {
     "cell_type": "code",
     "collapsed": false,
     "input": [
      "#Diffusion of Chemical Reaction at Boundary\n",
      "from scipy.optimize import root\n",
      "from math import log\n",
      "\n",
      "#Variable Declaration\n",
      "Pa1 = 101.32             #Partial pressure of gas A (kPA)\n",
      "d = 2.e-3                #Distance between point A and B (m)\n",
      "Pt = 101.32              #Total pressure (kPa)\n",
      "T = 300.                 #Temperature in K\n",
      "Dab = 0.15e-4            #Diffusivity of gas A (m2/s)\n",
      "K1 = 5.63e-3\n",
      "R =8314.\n",
      "#Calculation\n",
      "    #Calculation for part (a)\n",
      "c = Pt*1000./(R*T)\n",
      "xa1 = Pa1*1000./(Pt*1000.)\n",
      "xa2 = 0./ Pt\n",
      "Na = c*Dab*log((1+xa1)/(1+xa2))/d\n",
      "\n",
      "#Calculation for part (b)\n",
      "f = lambda z: z - c*Dab/d*log((1+xa1)/(1+z/(c*K1)))\n",
      "sol = root(f,0.00005)\n",
      "Nb = sol.x[0]\n",
      "xa2b = Nb/(c*K1)\n",
      "#Result\n",
      "\n",
      "print 'a) The calculated value of flux for instantaneous rate of reaction is %4.3e kgmol A/s.m2'%(Na)\n",
      "print 'b) The calculated value of flux for slow reaction is %5.3e kgmol A/s.m2'%(Nb)\n",
      "print 'c) The fraction of A in liquid for slow reaction is %4.3f'%(xa2b)"
     ],
     "language": "python",
     "metadata": {},
     "outputs": [
      {
       "output_type": "stream",
       "stream": "stdout",
       "text": [
        "a) The calculated value of flux for instantaneous rate of reaction is 2.112e-04 kgmol A/s.m2\n",
        "b) The calculated value of flux for slow reaction is 1.003e-04 kgmol A/s.m2\n",
        "c) The fraction of A in liquid for slow reaction is 0.439\n"
       ]
      }
     ],
     "prompt_number": 33
    },
    {
     "cell_type": "heading",
     "level": 2,
     "metadata": {},
     "source": [
      "Example 7.5-3, Page number 460"
     ]
    },
    {
     "cell_type": "code",
     "collapsed": false,
     "input": [
      "#Reaction and Unsteady State Diffusion\n",
      "from math import erf, sqrt,pi,e\n",
      "\n",
      "#Variable Declaration\n",
      "P = 101.32           #Pressure in (kPa)\n",
      "k = 35.              #First order reaction (1/s)\n",
      "Dab = 1.5e-9         #Diffusivity of CO2 in (m2/s)\n",
      "s = 2.961e-7         #Solubility of CO2 (kg mol/m3.Pa)\n",
      "t = 0.01             #Time for which surface is exposed to gas (s) \n",
      "\n",
      "#Calculations\n",
      "Ca0 = s*P*1000.\n",
      "Q = Ca0*sqrt(Dab/k)*((k*t+0.5)*erf(sqrt(k*t)) + sqrt(k*t/pi)*e**(-k*t))\n",
      "#Results\n",
      "print 'CO2 absorbed on the surface %5.3e kgmolCO2/m2'%(Q)"
     ],
     "language": "python",
     "metadata": {},
     "outputs": [
      {
       "output_type": "stream",
       "stream": "stdout",
       "text": [
        "CO2 absorbed on the surface 1.459e-07 kgmolCO2/m2\n"
       ]
      }
     ],
     "prompt_number": 34
    },
    {
     "cell_type": "heading",
     "level": 2,
     "metadata": {},
     "source": [
      "Example 7.5-4, Page number 461"
     ]
    },
    {
     "cell_type": "code",
     "collapsed": false,
     "input": [
      "#Diffusion of A Through Nondiffusing B and C\n",
      "from math import log\n",
      "\n",
      "#Variable Declaration\n",
      "P = 1.             #Total presure in (atm)\n",
      "P_SI = 1.01325e5   #Total pressure in (Pa)\n",
      "T = 298.           #Temperature in (K)\n",
      "z1 = 0.            #Starting point (m)\n",
      "z2 = 0.005         #End point (m)\n",
      "pa1 = 0.4          #Initial Partial pressure of methane (atm)\n",
      "pb1 = 0.4          #Initial Partial pressure of argon (atm)\n",
      "pc1 = 0.2          #Initial Partial pressure of helium (atm)\n",
      "pa2 = 0.1          #Final Partial pressure of methane (atm)\n",
      "pb2 = 0.6          #Final  Partial pressure of argon (atm)\n",
      "pc2 = 0.3          #Final  Partial pressure of helium (atm)\n",
      "Dab = 2.02e-5      #Binary Diffusivities (m2/s)\n",
      "Dac = 6.75e-5      #Binary Diffusivities (m2/s)\n",
      "Dbc = 7.29e-5      #Binary Diffusivities (m2/s)\n",
      "R = 82.06e-3       #Gas constant (atm.m3/Kmol.K)\n",
      "R_SI = 8314        #Gas constant (Pa.m3/Kmol.K)\n",
      "\n",
      "#Calculations\n",
      "xb_1 = pb1/(1-pa1)\n",
      "xb_2 = pb2/(1 - pb1)\n",
      "xc_ = pc1/(1 - pa1)\n",
      "Dam = 1/((xb_1/Dab)+(xc_/Dac))\n",
      "pi1 = P - pa1\n",
      "pi2 = P - pa2\n",
      "pim = (pi2-pi1)/log(pi2/pi1)\n",
      "pim_SI = pim*(1.01325e5)\n",
      "pa1_SI = pa1*(1.01325e5)\n",
      "pa2_SI = pa2*(1.01325e5)\n",
      "Na_SI = Dam*P_SI*(pa1_SI - pa2_SI)/(R_SI*T*(z2-z1)*pim_SI)\n",
      "Na = Dam*P*(pa1 - pa2)/(R*T*(z2-z1)*pim)\n",
      "\n",
      "#Results\n",
      "print 'The flux calculated is NA= %5.2e kgmol A/(s.m2) using Pa pressure units'%Na_SI\n",
      "print 'The flux calculated is NA= %5.2e kgmol A/(s.m2) using atm pressure units'%Na"
     ],
     "language": "python",
     "metadata": {},
     "outputs": [
      {
       "output_type": "stream",
       "stream": "stdout",
       "text": [
        "The flux calculated is NA= 8.74e-05 kgmol A/(s.m2) using Pa pressure units\n",
        "The flux calculated is NA= 8.74e-05 kgmol A/(s.m2) using atm pressure units\n"
       ]
      }
     ],
     "prompt_number": 38
    },
    {
     "cell_type": "heading",
     "level": 2,
     "metadata": {},
     "source": [
      "Example 7.6-1, Page number 463"
     ]
    },
    {
     "cell_type": "code",
     "collapsed": false,
     "input": [
      "#Knudsen Diffusion of Hydrogen\n",
      "\n",
      "#Variable Declaration\n",
      "P = 1.01325e4                 #Total pressure in (Pa)\n",
      "T = 373.                      #Temperature in (K)\n",
      "r = 60.                       #Radius of the pore in (angstorm)\n",
      "Ma = 2.016                    \n",
      "#Calculations \n",
      "r_SI = r*1.e-10               #Radius in(m)\n",
      "Dka = 97.*r_SI*(T/Ma)**0.5\n",
      "\n",
      "#Results\n",
      "print 'The calculated Knudsen Diffusivity is %4.2e m2/s'%(Dka)"
     ],
     "language": "python",
     "metadata": {},
     "outputs": [
      {
       "output_type": "stream",
       "stream": "stdout",
       "text": [
        "The calculated Knudsen Diffusivity is 7.92e-06 m2/s\n"
       ]
      }
     ],
     "prompt_number": 69
    },
    {
     "cell_type": "heading",
     "level": 2,
     "metadata": {},
     "source": [
      "Example 7.6-2, Page Number 466"
     ]
    },
    {
     "cell_type": "code",
     "collapsed": false,
     "input": [
      "#Transition-Region Diffusion of He and N2\n",
      "from math import sqrt\n",
      "\n",
      "#Variable Declaration\n",
      "T = 298.               #Temperature of gas (K)\n",
      "r = 2.5e-6             #Radius of the capillary (m)\n",
      "L = 0.01               #Length of the capillary (m)\n",
      "P = 1.013e4            #Total Pressure of the gas mixture (Pa)\n",
      "xa1 = 0.8              #Mole fraction of N2 at one end\n",
      "xa2 = 0.2              #Mole fraction of N2 at another end \n",
      "Dab = 6.98e-5          #Molecular Diffusivty at one atmosphere (m2/s)\n",
      "Ma = 28.02             #Molecular weight of nitrogen \n",
      "Mb = 4.003 \n",
      "R = 8314.\n",
      "\n",
      "#Calculations\n",
      "Dabc = Dab/0.1             #Molecular Diffusivity at 0.1 (m2/s)\n",
      "Dka = 97.0*r*(T/Ma)**.5\n",
      "NbbyNa = -sqrt(Ma/Mb)\n",
      "alpha = 1. + NbbyNa\n",
      "\n",
      "Na = Dabc*P/(alpha*R*T*L)*log( (1. - alpha*xa2 + Dabc/Dka)/(1. - alpha*xa1 + Dabc/Dka))\n",
      "Dnad = 1./(1./Dabc + 1./Dka)\n",
      "Naf = Dnad*P*(xa1 - xa2)/(R*T*L)        #Eqn A\n",
      "\n",
      "xAav = (xa1 + xa2)/2.\n",
      "Dacc = 1./( 1./Dka + (1. - alpha*xAav)/Dabc)\n",
      "Nacc = Dacc*P*(xa1 - xa2)/(R*T*L)      #Eqn B\n",
      "#Results\n",
      "print 'The flux at steady state is NA= %5.2e kg mol/s.m2'%(Na)\n",
      "print 'The approximate flux at steady state using two different equations\\nA) %5.2e kgmol/(s.m2) by Eqn A and'%(Naf)\n",
      "print 'B) %5.2e kgmol/(s.m2) by eqn B' %(Nacc)"
     ],
     "language": "python",
     "metadata": {},
     "outputs": [
      {
       "output_type": "stream",
       "stream": "stdout",
       "text": [
        "The flux at steady state is NA= 6.40e-05 kg mol/s.m2\n",
        "The approximate flux at steady state using two different equations\n",
        "A) 9.10e-05 kgmol/(s.m2) by Eqn A and\n",
        "B) 6.33e-05 kgmol/(s.m2) by eqn B\n"
       ]
      }
     ],
     "prompt_number": 44
    },
    {
     "cell_type": "heading",
     "level": 2,
     "metadata": {},
     "source": [
      "Example 7.7-1, Page Number 471"
     ]
    },
    {
     "cell_type": "code",
     "collapsed": false,
     "input": [
      "#Numerical Solution for Unsteady-State Diffusion with a Distribution Coefficient\n",
      "import numpy as np\n",
      "import copy \n",
      "import matplotlib.pyplot as plt\n",
      "\n",
      "#Variable Declaration\n",
      "t = 0.004                   #Thickness of the material (m)\n",
      "Dab = 1.e-9                 #Diffusivity of material (m2/s)\n",
      "ca = 6.e-3                  #Concentration of fluid (kg mol A/m3)\n",
      "K = 1.5                     #Distribution coefficient\n",
      "delx = 0.001\n",
      "M = 2.\n",
      "tmax = 2500\n",
      "xm = np.arange(1,5,1)\n",
      "c = np.array([1.e-3,1.25e-3,1.5e-3,1.75e-3,2.e-3])\n",
      "n = np.array([1,2,3,4,5])\n",
      "#Calculations\n",
      "plt.plot(n,c, 'bo-')\n",
      "plt.xlabel('Node number, n')\n",
      "plt.ylabel('concentration c, kgmol/m3')\n",
      "delt = delx**2/(2*Dab)\n",
      "\n",
      "m = tmax/int(delt)\n",
      "Ccal = [0,0,0,0,0]\n",
      "t = 0\n",
      "print \"After\",t,\"s\"\n",
      "for i in range(len(n)):\n",
      "    print \"At \",i+1,'th node, the value of concentration is %6.3e kgmol/m3'%c[i]\n",
      "for i in range(1,6,1):\n",
      "    t = delt*i\n",
      "    #print c\n",
      "    for j in range(len(c)):\n",
      "        if j==0:\n",
      "            if i == 1:\n",
      "                Ccal[j]= (ca/K+c[j])/2\n",
      "            else:\n",
      "                Ccal[j]= ca/K        \n",
      "        elif j>=1 and j<(len(c)-1):\n",
      "            Ccal[j]=(c[j-1]+c[j+1])/2.\n",
      "            #print c[j-1], c[j+1], Ccal[j]\n",
      "        else:\n",
      "            Ccal[j]=c[j-1]\n",
      "    c = copy.copy(Ccal)\n",
      "    print \"After\",t,\"s\"\n",
      "    for i in range(len(n)):\n",
      "        print \"At \",i+1,'th node, the value of concentration is %6.3e kgmol/m3'%c[i]\n",
      "\n",
      "#Results\n",
      "plt.plot(n,c,'ro-')\n",
      "print 'The results are different than book because for first iteration at second node\\nThe value of c(0,1)= 1e-3 is taken as 2.5e-3, which is wrong substitution' "
     ],
     "language": "python",
     "metadata": {},
     "outputs": [
      {
       "output_type": "stream",
       "stream": "stdout",
       "text": [
        "After 0 s\n",
        "At  1 th node, the value of concentration is 1.000e-03 kgmol/m3\n",
        "At  2 th node, the value of concentration is 1.250e-03 kgmol/m3\n",
        "At  3 th node, the value of concentration is 1.500e-03 kgmol/m3\n",
        "At  4 th node, the value of concentration is 1.750e-03 kgmol/m3\n",
        "At  5 th node, the value of concentration is 2.000e-03 kgmol/m3\n",
        "After 500.0 s\n",
        "At  1 th node, the value of concentration is 2.500e-03 kgmol/m3\n",
        "At  2 th node, the value of concentration is 1.250e-03 kgmol/m3\n",
        "At  3 th node, the value of concentration is 1.500e-03 kgmol/m3\n",
        "At  4 th node, the value of concentration is 1.750e-03 kgmol/m3\n",
        "At  5 th node, the value of concentration is 1.750e-03 kgmol/m3\n",
        "After 1000.0 s\n",
        "At  1 th node, the value of concentration is 4.000e-03 kgmol/m3\n",
        "At  2 th node, the value of concentration is 2.000e-03 kgmol/m3\n",
        "At  3 th node, the value of concentration is 1.500e-03 kgmol/m3\n",
        "At  4 th node, the value of concentration is 1.625e-03 kgmol/m3\n",
        "At  5 th node, the value of concentration is 1.750e-03 kgmol/m3\n",
        "After 1500.0 s\n",
        "At  1 th node, the value of concentration is 4.000e-03 kgmol/m3\n",
        "At  2 th node, the value of concentration is 2.750e-03 kgmol/m3\n",
        "At  3 th node, the value of concentration is 1.813e-03 kgmol/m3\n",
        "At  4 th node, the value of concentration is 1.625e-03 kgmol/m3\n",
        "At  5 th node, the value of concentration is 1.625e-03 kgmol/m3\n",
        "After 2000.0 s\n",
        "At  1 th node, the value of concentration is 4.000e-03 kgmol/m3\n",
        "At  2 th node, the value of concentration is 2.906e-03 kgmol/m3\n",
        "At  3 th node, the value of concentration is 2.188e-03 kgmol/m3\n",
        "At  4 th node, the value of concentration is 1.719e-03 kgmol/m3\n",
        "At  5 th node, the value of concentration is 1.625e-03 kgmol/m3\n",
        "After 2500.0 s\n",
        "At  1 th node, the value of concentration is 4.000e-03 kgmol/m3\n",
        "At  2 th node, the value of concentration is 3.094e-03 kgmol/m3\n",
        "At  3 th node, the value of concentration is 2.313e-03 kgmol/m3\n",
        "At  4 th node, the value of concentration is 1.906e-03 kgmol/m3\n",
        "At  5 th node, the value of concentration is 1.719e-03 kgmol/m3\n",
        "The results are different than book because for first iteration at second node\n",
        "The value of c(0,1)= 1e-3 is taken as 2.5e-3, which is wrong substitution\n"
       ]
      },
      {
       "metadata": {},
       "output_type": "display_data",
       "png": "[encoded data removed]",
       "text": [
        "<matplotlib.figure.Figure at 0x112b7a30>"
       ]
      }
     ],
     "prompt_number": 86
    }
   ],
   "metadata": {}
  }
 ]
}