{
 "metadata": {
  "name": ""
 },
 "nbformat": 3,
 "nbformat_minor": 0,
 "worksheets": [
  {
   "cells": [
    {
     "cell_type": "heading",
     "level": 1,
     "metadata": {},
     "source": [
      "Chapter 7: Active Filters"
     ]
    },
    {
     "cell_type": "heading",
     "level": 2,
     "metadata": {},
     "source": [
      "examople 7.1, Page No. 279"
     ]
    },
    {
     "cell_type": "code",
     "collapsed": false,
     "input": [
      "# First order Butterworth low-pass filter\n",
      "\n",
      "import math\n",
      "#Variable declaration\n",
      "R = 10.0*10**3              # Resistor R\n",
      "R1 = 10.0*10**3             # Resistor R1\n",
      "Rf = 100.0*10**3            # Resistor Rf\n",
      "C = 0.001*10**-6            # Capacitance \n",
      "\n",
      "#calculations\n",
      "#(i)\n",
      "fc = 1/(2*math.pi*R*C)\n",
      "#(ii)\n",
      "Af = 1+(Rf/R1)\n",
      "\n",
      "#Result\n",
      "print(\"(i) cut-off frequency for a first order Butterworth LPF is %.3f kHz\\n\\n(ii) Passband Voltage gain = %d\"%(fc/1000,Af))"
     ],
     "language": "python",
     "metadata": {},
     "outputs": [
      {
       "output_type": "stream",
       "stream": "stdout",
       "text": [
        "(i) cut-off frequency for a first order Butterworth LPF is 15.915 kHz\n",
        "\n",
        "(ii) Passband Voltage gain = 11\n"
       ]
      }
     ],
     "prompt_number": 4
    },
    {
     "cell_type": "heading",
     "level": 2,
     "metadata": {},
     "source": [
      "example 7.2, Page No. 279"
     ]
    },
    {
     "cell_type": "code",
     "collapsed": false,
     "input": [
      "# first order low-pass filter design\n",
      "\n",
      "import math\n",
      "#Variable declaration\n",
      "Af = 2                  # Passband voltage gain\n",
      "fc = 10*10**3           # cut-off frequency\n",
      "\n",
      "#Calculations\n",
      "#since Af = 1+Rf/R1, we have Rf = R1\n",
      "Rf = 10*10**3           # assumed\n",
      "C = 0.001*10**-6        # assumed\n",
      "R = 1/(2*math.pi*fc*C)\n",
      "\n",
      "#Result\n",
      "print(\"Rf = R1 = %.0f k-ohm\\nC = %.3f micro-F\\nR = %.1f k-ohm\"%(Rf/1000,C*10**6,R/1000))"
     ],
     "language": "python",
     "metadata": {},
     "outputs": [
      {
       "output_type": "stream",
       "stream": "stdout",
       "text": [
        "Rf = R1 = 10 k-ohm\n",
        "C = 0.001 micro-F\n",
        "R = 15.9 k-ohm\n"
       ]
      }
     ],
     "prompt_number": 6
    },
    {
     "cell_type": "heading",
     "level": 2,
     "metadata": {},
     "source": [
      "example 7.3, Page No. 280"
     ]
    },
    {
     "cell_type": "code",
     "collapsed": false,
     "input": [
      "# low-pass filter design\n",
      "\n",
      "import math\n",
      "#Variable declaration\n",
      "Af = 2.5                # Passband voltage gain\n",
      "fc = 2*10**3            # cut-off frequency\n",
      "\n",
      "#Calculations\n",
      "C = 0.01*10**-6         # assumed\n",
      "R = 1/(2*math.pi*fc*C)\n",
      "R = R/1000              # k-ohm\n",
      "Rp = 8.2*10**3          # practical value\n",
      "x = (Af-1)              # Rf/R1\n",
      "R1 = Rp*(x+1)/x\n",
      "R1p = 15                # k-ohm \n",
      "Rf = R1*x/1000          # k-ohm\n",
      "\n",
      "#Result\n",
      "print(\"R  = %f k-ohm(practical value %f k-ohm)\\nR1 = %.2f k-ohm(say %d k-ohm)\\nRf = %d k-ohm\"%(R,Rp/1000,R1/1000,R1p,Rf))"
     ],
     "language": "python",
     "metadata": {},
     "outputs": [
      {
       "output_type": "stream",
       "stream": "stdout",
       "text": [
        "R  = 7.957747 k-ohm(practical value 8.200000 k-ohm)\n",
        "R1 = 13.67 k-ohm(say 15 k-ohm)\n",
        "Rf = 20 k-ohm\n"
       ]
      }
     ],
     "prompt_number": 18
    },
    {
     "cell_type": "heading",
     "level": 2,
     "metadata": {},
     "source": [
      "example 7.4, Page No.283"
     ]
    },
    {
     "cell_type": "code",
     "collapsed": false,
     "input": [
      "# 2nd order low-pass filter design(refer fig. 7.22)\n",
      "\n",
      "import math\n",
      "#Variable declaration\n",
      "Af = 1.586              # Passband voltage gain\n",
      "fc = 1000.0             # cut-off frequency\n",
      "\n",
      "#Calculations\n",
      "C = 0.005*10**-6        # assumed\n",
      "R = 1/(2*math.pi*fc*C)\n",
      "R = R/1000              # k-ohm\n",
      "x = (Af-1)              # Rf/R1\n",
      "R1 = 33                 # k-ohm \n",
      "Rf = R1*x               # k-ohm\n",
      "\n",
      "#Result\n",
      "print(\"R1 = %d k-ohm\\nRf = %.3f k-ohm\\nR2 = R3 = %.2f k-ohm\\nC2 = C3 = %.3f micro-F\"%(R1,Rf,R,C*10**6))"
     ],
     "language": "python",
     "metadata": {},
     "outputs": [
      {
       "output_type": "stream",
       "stream": "stdout",
       "text": [
        "R1 = 33 k-ohm\n",
        "Rf = 19.338 k-ohm\n",
        "R2 = R3 = 31.83 k-ohm\n",
        "C2 = C3 = 0.005 micro-F\n"
       ]
      }
     ],
     "prompt_number": 8
    },
    {
     "cell_type": "heading",
     "level": 2,
     "metadata": {},
     "source": [
      "example 7.5, Page No. 283"
     ]
    },
    {
     "cell_type": "code",
     "collapsed": false,
     "input": [
      "# 2nd order low-pass filter\n",
      "\n",
      "import math\n",
      "#Variable declaration\n",
      "R1 = 12.0*10**3                  # resistor R1\n",
      "Rf = 7.0*10**3                   # feedback resistance\n",
      "R2 = 33.0*10**3                  # Resistance R2\n",
      "R3 = 33.0*10**3                  # Resistance R3\n",
      "C1 = 0.002*10**-6                # Capacitance C1\n",
      "C2 = 0.002*10**-6                # Capacitance C2\n",
      "\n",
      "#Calculations\n",
      "#(i)\n",
      "fc = 1/(2*math.pi*math.sqrt(R2*R3*C2*C1))\n",
      "#(ii)\n",
      "Af = 1+(Rf/R1)\n",
      "\n",
      "\n",
      "#Result\n",
      "print(\"(i)  cut-off frequency(fc)     = %.3f KHz\\n(ii) Passband voltage gain(Af) = %.3f\"%(fc/1000,Af))"
     ],
     "language": "python",
     "metadata": {},
     "outputs": [
      {
       "output_type": "stream",
       "stream": "stdout",
       "text": [
        "(i)  cut-off frequency(fc)     = 2.411 KHz\n",
        "(ii) Passband voltage gain(Af) = 1.583\n"
       ]
      }
     ],
     "prompt_number": 16
    },
    {
     "cell_type": "heading",
     "level": 2,
     "metadata": {},
     "source": [
      "example 7.6, Page No. 284"
     ]
    },
    {
     "cell_type": "code",
     "collapsed": false,
     "input": [
      "# 2nd order low-pass filter design\n",
      "\n",
      "import math\n",
      "#Variable declaration\n",
      "fc = 2000.0                  # cut-off frequency\n",
      "C  = 0.033*10**-6            # Capacitance, assumed\n",
      "\n",
      "#Calculations\n",
      "R = 1/(2*math.pi*fc*C)\n",
      "Rp = 2.5\n",
      "x = 0.586                    # Rf/R1 \n",
      "R1 = 2*R*(1+x)/x\n",
      "R1p = 15.0\n",
      "Rf = R1p*x\n",
      "Rfp = 10.0\n",
      "\n",
      "#Result\n",
      "print(\"C2 = C3 = %.3f micro-F\"%(C*10**6))\n",
      "print(\"R3 = R2 = %.1f k-ohm(say %.1f k-ohm)\"%(R/1000,Rp))\n",
      "print(\"R1 = %d k-ohm   = %d k-ohm (std value)\\nRf = %.2f k-ohm = %d k-ohm (std value)\"%(R1/1000,R1p,Rf,Rfp))"
     ],
     "language": "python",
     "metadata": {},
     "outputs": [
      {
       "output_type": "stream",
       "stream": "stdout",
       "text": [
        "C2 = C3 = 0.033 micro-F\n",
        "R3 = R2 = 2.4 k-ohm(say 2.5 k-ohm)\n",
        "R1 = 13 k-ohm   = 15 k-ohm (std value)\n",
        "Rf = 8.79 k-ohm = 10 k-ohm (std value)\n"
       ]
      }
     ],
     "prompt_number": 31
    },
    {
     "cell_type": "heading",
     "level": 2,
     "metadata": {},
     "source": [
      " example 7.7, Page No. 284"
     ]
    },
    {
     "cell_type": "code",
     "collapsed": false,
     "input": [
      "# 2nd order low-pass filter design\n",
      "\n",
      "import math\n",
      "#Variable declaration\n",
      "fc = 1000.0                  # cut-off frequency\n",
      "C  = 0.0047*10**-6           # Capacitance, assumed\n",
      "\n",
      "#Calculations\n",
      "R  = 1/(2*math.pi*fc*C)\n",
      "Rp = 33\n",
      "x  = 0.586                    # Rf/R1 \n",
      "R1 = 30.0                     # R1 in k-ohm   \n",
      "Rf = R1*x\n",
      "Rfp = 20.0\n",
      "\n",
      "#Result\n",
      "print(\"C2 = C3 = %.4f micro-F\"%(C*10**6))\n",
      "print(\"R3 = R2 = %.2f k-ohm(say %.1f k-ohm)\"%(R/1000,Rp))\n",
      "print(\"R1 = %d k-ohm\\nRf = %.2f k-ohm = %d k-ohm (std value)\"%(R1,Rf,Rfp))"
     ],
     "language": "python",
     "metadata": {},
     "outputs": [
      {
       "output_type": "stream",
       "stream": "stdout",
       "text": [
        "C2 = C3 = 0.0047 micro-F\n",
        "R3 = R2 = 33.86 k-ohm(say 33.0 k-ohm)\n",
        "R1 = 30 k-ohm\n",
        "Rf = 17.58 k-ohm = 20 k-ohm (std value)\n"
       ]
      }
     ],
     "prompt_number": 35
    },
    {
     "cell_type": "heading",
     "level": 2,
     "metadata": {},
     "source": [
      "example 7.8, Page No. 189"
     ]
    },
    {
     "cell_type": "code",
     "collapsed": false,
     "input": [
      "# low pass second order Butterworth filter design\n",
      "\n",
      "import math\n",
      "#Variable declaration\n",
      "fc = 1500.0                 # cut-off frequency\n",
      "alfa = 1.414                # damping factor\n",
      "\n",
      "#Calculations\n",
      "Rf = 2-alfa\n",
      "Ri = 1                      # for equal component model\n",
      "Af = 1+Rf/Ri\n",
      "print(\"Fig 7.26(a) shows the equal component second order Butterworth filter with critical frequency wc = 1 rad/sec.\")\n",
      "print(\"Where R = R1 = R2 and\\nC = C1 = C2\")\n",
      "wc = 2*math.pi*fc\n",
      "wc = math.floor(wc*100)/100\n",
      "print(\"\\nWe scale this to 1.5 kHz\\nTherefore, wc = %.2f rad/sec\"%(wc))\n",
      "R = 1/wc\n",
      "print(\"R1 = R2 = R = %.3f *10^-4 ohm\\nFig 7.26(b) shows 1.5 kHz second order Butterworth filter.\"%(R*10**4))\n",
      "R = R*10**7\n",
      "C = 1*10**-7\n",
      "print(\"\\nTo increase R to a reasonable vaule , we multiply R1 and R2 by 10^7\")\n",
      "print(\"and to keep the fc unchanged we decrease the C1 and C2 by the same factor.\")\n",
      "print(\"R1 = R2 = %.3f k-ohm\\nC1 = C2 = %.1f micro-F or %.0f nF\"%(R/1000,C*10**6,C*10**9))"
     ],
     "language": "python",
     "metadata": {},
     "outputs": [
      {
       "output_type": "stream",
       "stream": "stdout",
       "text": [
        "Fig 7.26(a) shows the equal component second order Butterworth filter with critical frequency wc = 1 rad/sec.\n",
        "Where R = R1 = R2 and\n",
        "C = C1 = C2\n",
        "\n",
        "We scale this to 1.5 kHz\n",
        "Therefore, wc = 9424.77 rad/sec\n",
        "R1 = R2 = R = 1.061 *10^-4 ohm\n",
        "Fig 7.26(b) shows 1.5 kHz second order Butterworth filter.\n",
        "\n",
        "To increase R to a reasonable vaule , we multiply R1 and R2 by 10^7\n",
        "and to keep the fc unchanged we decrease the C1 and C2 by the same factor.\n",
        "R1 = R2 = 1.061 k-ohm\n",
        "C1 = C2 = 0.1 micro-F or 100 nF\n"
       ]
      }
     ],
     "prompt_number": 51
    },
    {
     "cell_type": "heading",
     "level": 2,
     "metadata": {},
     "source": [
      "example 7.9, Page No. 292"
     ]
    },
    {
     "cell_type": "code",
     "collapsed": false,
     "input": [
      "print(\"Theeoretical example\")"
     ],
     "language": "python",
     "metadata": {},
     "outputs": [
      {
       "output_type": "stream",
       "stream": "stdout",
       "text": [
        "Theeoretical example\n"
       ]
      }
     ],
     "prompt_number": 53
    },
    {
     "cell_type": "heading",
     "level": 2,
     "metadata": {},
     "source": [
      "example 7.10, Page No. 292"
     ]
    },
    {
     "cell_type": "code",
     "collapsed": false,
     "input": [
      "print(\"Theeoretical example\")"
     ],
     "language": "python",
     "metadata": {},
     "outputs": [
      {
       "output_type": "stream",
       "stream": "stdout",
       "text": [
        "Theeoretical example\n"
       ]
      }
     ],
     "prompt_number": 52
    },
    {
     "cell_type": "heading",
     "level": 2,
     "metadata": {},
     "source": [
      "example 7.11, Page No. 293"
     ]
    },
    {
     "cell_type": "code",
     "collapsed": false,
     "input": [
      "# 2nd order Butterworth Low pass filter\n",
      "\n",
      "import math\n",
      "#Variable declaration\n",
      "fc = 10*10**3            # Cut-off frequency\n",
      "n = 2                    # order of the filter\n",
      "one_by_Q = 1.414           # from table\n",
      "#Calculations\n",
      "C = 0.01*10**-6          # assumed\n",
      "R = 1/(2*math.pi*fc*C)   \n",
      "Af = 3-(one_by_Q)\n",
      "Ri = 10*10**3            # assumed\n",
      "Rf = (Af-1)*Ri\n",
      "wc = 2*math.pi*fc\n",
      "f1=1000\n",
      "w1 = 2*math.pi*f1\n",
      "f2 = 2000\n",
      "w2 = 2*math.pi*f2 \n",
      "f3 = 5000\n",
      "w3 = 2*math.pi*f3\n",
      "f4 = 10000\n",
      "w4 = 2*math.pi*f4\n",
      "f5 = 50000\n",
      "w5 = 2*math.pi*f5\n",
      "f6 = 100000\n",
      "w6 = 2*math.pi*f6\n",
      "Hs1 = 20*math.log10(Af/(math.sqrt(1+(w1/wc)**4)))\n",
      "Hs2 = 20*math.log10(Af/(math.sqrt(1+(w2/wc)**4)))\n",
      "Hs3 = 20*math.log10(Af/(math.sqrt(1+(w3/wc)**4)))\n",
      "Hs4 = 20*math.log10(Af/(math.sqrt(1+(w4/wc)**4)))\n",
      "Hs5 = 20*math.log10(Af/(math.sqrt(1+(w5/wc)**4)))\n",
      "Hs6 = 20*math.log10(Af/(math.sqrt(1+(w6/wc)**4)))\n",
      "\n",
      "#Result\n",
      "print(\"R1 = R2 = %.3f k-ohm\\nAf = %.3f\\nC1 = C2 = %.2f micro-F\\nRi = %d k-ohm\\nRf = %.2f k-ohm\"%(R/1000,Af,C*10**6,Ri/1000,Rf/1000))\n",
      "print(\"\\nFrequency in Hz\\t\\t Gain Magnitude in dB|H(s)|\")\n",
      "print(\"%d\\t\\t\\t\\t%d\"%(f1,Hs1))\n",
      "print(\"%d\\t\\t\\t\\t%.3f\"%(f2,Hs2))\n",
      "print(\"%d\\t\\t\\t\\t%.2f\"%(f3,Hs3))\n",
      "print(\"%d\\t\\t\\t\\t%.0f\"%(f4,math.ceil(Hs4)))\n",
      "print(\"%d\\t\\t\\t\\t%.2f\"%(f5,math.ceil(Hs5*100)/100))\n",
      "print(\"%d\\t\\t\\t\\t%.2f\"%(f6,Hs6))"
     ],
     "language": "python",
     "metadata": {},
     "outputs": [
      {
       "output_type": "stream",
       "stream": "stdout",
       "text": [
        "R1 = R2 = 1.592 k-ohm\n",
        "Af = 1.586\n",
        "C1 = C2 = 0.01 micro-F\n",
        "Ri = 10 k-ohm\n",
        "Rf = 5.86 k-ohm\n",
        "\n",
        "Frequency in Hz\t\t Gain Magnitude in dB|H(s)|\n",
        "1000\t\t\t\t4\n",
        "2000\t\t\t\t3.999\n",
        "5000\t\t\t\t3.74\n",
        "10000\t\t\t\t1\n",
        "50000\t\t\t\t-23.95\n",
        "100000\t\t\t\t-35.99\n"
       ]
      }
     ],
     "prompt_number": 73
    },
    {
     "cell_type": "heading",
     "level": 2,
     "metadata": {},
     "source": [
      "example 7.12, Page No. 294"
     ]
    },
    {
     "cell_type": "code",
     "collapsed": false,
     "input": [
      "# 4th order Butterworth low pass filter(refer fig. 7.33)\n",
      "\n",
      "import math\n",
      "#Variable declaration\n",
      "fc = 1000.0           # upper cut-off frequency\n",
      "C = 0.1*10**-6        # aasumed\n",
      "R = 1/(2*math.pi*fc*C)\n",
      "R = R/1000\n",
      "R = math.floor(R*1000)/1000\n",
      "alfa1 = 0.765\n",
      "alfa2 = 1.848\n",
      "Af1 = 3-alfa1\n",
      "Af2 = 3- alfa2\n",
      "# for first stage\n",
      "Ri1 = 10*10**3        # assumed\n",
      "Rf1 = (Af1-1)*Ri1\n",
      "# for second stage\n",
      "Ri2 = 100*10**3       # assumed\n",
      "Rf2 = (Af2-1)*Ri2\n",
      "\n",
      "#Result\n",
      "print(\"R = %.3f k-ohm\\nAf1 = %.3f\\t Af2 = %.3f\\n\\nFor first stage:\\nRi = %d k-ohm\\tRf = %.1f k-ohm\"%(R,Af1,Af2,Ri1/1000,Rf1/1000))\n",
      "print(\"\\nfor second stage:\\nRi = %d k-ohm\\tRf = %.1f k-ohm\"%(Ri2/1000,Rf2/1000))"
     ],
     "language": "python",
     "metadata": {},
     "outputs": [
      {
       "output_type": "stream",
       "stream": "stdout",
       "text": [
        "R = 1.591 k-ohm\n",
        "Af1 = 2.235\t Af2 = 1.152\n",
        "\n",
        "For first stage:\n",
        "Ri = 10 k-ohm\tRf = 12.3 k-ohm\n",
        "\n",
        "for second stage:\n",
        "Ri = 100 k-ohm\tRf = 15.2 k-ohm\n"
       ]
      }
     ],
     "prompt_number": 85
    },
    {
     "cell_type": "heading",
     "level": 2,
     "metadata": {},
     "source": [
      "example 7.13, Page No.297"
     ]
    },
    {
     "cell_type": "code",
     "collapsed": false,
     "input": [
      "# Value of R in first order butterworth high pass filter\n",
      "\n",
      "import math\n",
      "#Vartianble declaration\n",
      "fc = 10*10**3               # cut-off frequency\n",
      "C = 0.0047*10**-6           # Capacitance\n",
      "\n",
      "#Calculations\n",
      "R = 1/(2*math.pi*fc*C)\n",
      "\n",
      "#Result\n",
      "print(\"R = %.3f k-ohm\"%(R/1000))"
     ],
     "language": "python",
     "metadata": {},
     "outputs": [
      {
       "output_type": "stream",
       "stream": "stdout",
       "text": [
        "R = 3.386 k-ohm\n"
       ]
      }
     ],
     "prompt_number": 87
    },
    {
     "cell_type": "heading",
     "level": 2,
     "metadata": {},
     "source": [
      "example 7.14, Page No. 298"
     ]
    },
    {
     "cell_type": "code",
     "collapsed": false,
     "input": [
      "# first order butterworth high pass filter\n",
      "\n",
      "import math\n",
      "#Variable declaration\n",
      "R = 15*10**3         # resistance\n",
      "C = 0.01*10**-6      # capacitance\n",
      "Rf = 10*10**3        # feedback resistance\n",
      "R1 = 5*10**3         # resistace R1\n",
      "\n",
      "#Calcualtions\n",
      "fc = 1/(2*math.pi*R*C)\n",
      "fc = math.floor(fc)\n",
      "wc = 2*math.pi*fc\n",
      "\n",
      "#Result\n",
      "print(\"(i)  Cut-off frequency, fc = %d Hz\\n(ii) Cut-off frequency, wc = %f k rad/sec\"%(fc,wc/1000))\n",
      "# Answer for wc is wrong in the book"
     ],
     "language": "python",
     "metadata": {},
     "outputs": [
      {
       "output_type": "stream",
       "stream": "stdout",
       "text": [
        "(i)  Cut-off frequency, fc = 1061 Hz\n",
        "(ii) Cut-off frequency, wc = 6.666460 k rad/sec\n"
       ]
      }
     ],
     "prompt_number": 94
    },
    {
     "cell_type": "heading",
     "level": 2,
     "metadata": {},
     "source": [
      "example 7.15, Page No. 299"
     ]
    },
    {
     "cell_type": "code",
     "collapsed": false,
     "input": [
      "# cut-off frequency and voltage gain(refer fig. 7.36)\n",
      "\n",
      "import math\n",
      "# Variable declaration\n",
      "R1 = 27.0*10**3           # resistor R1\n",
      "R2 = R1                   # resistor R2\n",
      "R3 = R1                   # resistor R3\n",
      "RL = 10*10**3             # resistor Rl\n",
      "Rf = 16.0*10**3           # resistor Rf\n",
      "C2 = 0.005*10**-6         # capacitance\n",
      "C3 = 0.005*10**-6         # capacitance\n",
      "\n",
      "#Calculations\n",
      "fc = 1/(2*math.pi*math.sqrt(R2*R3*C2*C3))\n",
      "Af = 1+Rf/R1\n",
      "\n",
      "#Result\n",
      "print(\"Cut-off frequency, fc = %.2f kHz\\nAf = %.3f\"%(fc/1000,math.floor(Af*1000)/1000))"
     ],
     "language": "python",
     "metadata": {},
     "outputs": [
      {
       "output_type": "stream",
       "stream": "stdout",
       "text": [
        "Cut-off frequency, fc = 1.18 kHz\n",
        "Af = 1.592\n"
       ]
      }
     ],
     "prompt_number": 101
    },
    {
     "cell_type": "heading",
     "level": 2,
     "metadata": {},
     "source": [
      "example 7.16, Page No. 302"
     ]
    },
    {
     "cell_type": "code",
     "collapsed": false,
     "input": [
      "# 2nd order high pass Bessel filter\n",
      "\n",
      "import math\n",
      "#Variable declaration\n",
      "fb = 2000.0               # Break frequency\n",
      "alfa = 1.732              # damping factor, from table\n",
      "kf = 1.274                # frequency factor, from table\n",
      "\n",
      "#calculations\n",
      "R1 = alfa/2\n",
      "R2 = 2/alfa\n",
      "Rf = R2\n",
      "C = 1\n",
      "print(\"R1 = %.3f ohm\\nR2 = Rf = %.3f ohm\"%(R1,R2))\n",
      "print(\"\\n2nd order high pass filter with wc = 1 rad/sec is shown in fig 7.40\")\n",
      "fc = fb/kf\n",
      "fc = math.floor(fc*100)/100\n",
      "wc = 2*math.pi*fc\n",
      "wc = math.ceil(wc*10)/10\n",
      "print(\"\\nfc = %.2f Hz\\nwc = %.1f rad/sec\"%(fc,wc))\n",
      "print(\"\\nIn frequency scaling proicedure, we keep the capacitor unchanged and scale down the resistors as follow:\")\n",
      "R1 = R1/wc\n",
      "R1 = R1*10**5\n",
      "R1 = math.floor(R1*10**4)/10**4\n",
      "R2 = R2/wc\n",
      "print(\"R1 = %.4f*10^-5\\t\\t\\tR2 = %.4f*10^-4\"%(R1,R2*10**4))\n",
      "print(\"\\nThe above mentioned components are not practical. So we multyply each resistor by 10^8 and divide each capacitor by 10^8 to\")\n",
      "print(\"get the final component values as under:\")\n",
      "R1 = R1*10**3\n",
      "R2 = R2*10**8\n",
      "C = 1*10**-8\n",
      "print(\"R1 = %f k-ohm\\t\\t\\tR2 = %f k-ohm\\t\\tC = %d nF\\n\\nFinal diagram is shown in fig. 7.42\"%(R1/1000,R2/1000,C*10**9))"
     ],
     "language": "python",
     "metadata": {},
     "outputs": [
      {
       "output_type": "stream",
       "stream": "stdout",
       "text": [
        "R1 = 0.866 ohm\n",
        "R2 = Rf = 1.155 ohm\n",
        "\n",
        "2nd order high pass filter with wc = 1 rad/sec is shown in fig 7.40\n",
        "\n",
        "fc = 1569.85 Hz\n",
        "wc = 9863.7 rad/sec\n",
        "\n",
        "In frequency scaling proicedure, we keep the capacitor unchanged and scale down the resistors as follow:\n",
        "R1 = 8.7796*10^-5\t\t\tR2 = 1.1707*10^-4\n",
        "\n",
        "The above mentioned components are not practical. So we multyply each resistor by 10^8 and divide each capacitor by 10^8 to\n",
        "get the final component values as under:\n",
        "R1 = 8.779600 k-ohm\t\t\tR2 = 11.706909 k-ohm\t\tC = 10 nF\n",
        "\n",
        "Final diagram is shown in fig. 7.42\n"
       ]
      }
     ],
     "prompt_number": 125
    },
    {
     "cell_type": "heading",
     "level": 2,
     "metadata": {},
     "source": [
      "example 7.17, Page No.304"
     ]
    },
    {
     "cell_type": "code",
     "collapsed": false,
     "input": [
      "# Wide bandpass filter design\n",
      "\n",
      "import math\n",
      "#Variable declaration\n",
      "fl = 100.0                  # lower cut-off frequency\n",
      "fh = 1000.0                 # higher cut-off frequency\n",
      "Af = 4\n",
      "\n",
      "# Calculations\n",
      "# 1. low-pass filter components\n",
      "C_dash = 0.01*10**-6         # assumed\n",
      "R_dash = 1/(2*math.pi*fh*C_dash)\n",
      "R_dash = R_dash/1000\n",
      "Af2 = 2\n",
      "x1 = (Af2 - 1)              # Rf_dash/R1_dash\n",
      "R1_dash = 10                # k-ohm\n",
      "Rf_dash = x1*R1_dash\n",
      "# 2. High pass filter components\n",
      "C = 0.05*10**-6 \n",
      "R = 1/(2*math.pi*fl*C)\n",
      "Af1 = 2\n",
      "x2 = (Af1-1)\n",
      "R1 = 10                      # k-ohm\n",
      "Rf = x2*R1\n",
      "# 3. Quality factor Q\n",
      "Q = math.sqrt(fl*fh)/(fh-fl)\n",
      "\n",
      "#Result\n",
      "print(\"1.The componets for the low-pass filter are as under:\")\n",
      "print(\"R1_dash = %d k-ohm\\nR_dash  = %.1f k-ohm\\nRf_dash = %d k-ohm\\nC       = %.2f micro-F\"%(R1_dash,R_dash,Rf_dash,C_dash*10**6))\n",
      "print(\"\\n2.The componets for the high pass filter are as under:\")\n",
      "print(\"R1 = %d k-ohm\\nR  = %.2f k-ohm\\nRf = %d k-ohm\\nC  = %.2f micro-F\"%(R1,R/1000,Rf,C*10**6))\n",
      "print(\"\\n3.Quality factor\\nQ = %.3f\"%Q)"
     ],
     "language": "python",
     "metadata": {},
     "outputs": [
      {
       "output_type": "stream",
       "stream": "stdout",
       "text": [
        "1.The componets for the low-pass filter are as under:\n",
        "R1_dash = 10 k-ohm\n",
        "R_dash  = 15.9 k-ohm\n",
        "Rf_dash = 10 k-ohm\n",
        "C       = 0.01 micro-F\n",
        "\n",
        "2.The componets for the high pass filter are as under:\n",
        "R1 = 10 k-ohm\n",
        "R  = 31.83 k-ohm\n",
        "Rf = 10 k-ohm\n",
        "C  = 0.05 micro-F\n",
        "\n",
        "3.Quality factor\n",
        "Q = 0.351\n"
       ]
      }
     ],
     "prompt_number": 147
    },
    {
     "cell_type": "heading",
     "level": 2,
     "metadata": {},
     "source": [
      "example 7.18, Page No. 307"
     ]
    },
    {
     "cell_type": "code",
     "collapsed": false,
     "input": [
      "# Narrow band pass filter design\n",
      "\n",
      "import math\n",
      "#Variable declaration\n",
      "fc = 2000.0             # cut-off frequency\n",
      "Af = 10                 # voltage gain\n",
      "Q  = 4                  # quality factor\n",
      "\n",
      "#Calculations\n",
      "C = 0.01*10**-6         # assumed\n",
      "R1 = Q/(2*math.pi*fc*C*Af)\n",
      "R1 = R1/1000            # k-ohm\n",
      "R2 = Q/(2*math.pi*fc*C*((2*Q**2)-Af))\n",
      "R2 = R2/1000\n",
      "R3 = Q/(math.pi*fc*C)\n",
      "R3 = R3 /1000\n",
      "fc_new = 1000.0\n",
      "R2_dash = R2*(fc/fc_new)**2\n",
      "\n",
      "#Result\n",
      "print(\"C1 = C2 = %.2f micro-F\\nR1 = %.3f k-ohm\\nR2 = %.3f k-ohm\\nR3 = %.2f k-ohm\"%(C*10**6,R1,math.floor(R2*1000)/1000,R3))\n",
      "print(\"We use\\t R1 = 3.3 k-ohm,R2 = 1.5 k-ohm, R3 = 63 k-ohm\")\n",
      "print(\"\\nNew value of R2 = %.3f k-ohm.\\nWe use\\t     R2 = %.1f k-ohm\"%(R2_dash,R2_dash))"
     ],
     "language": "python",
     "metadata": {},
     "outputs": [
      {
       "output_type": "stream",
       "stream": "stdout",
       "text": [
        "C1 = C2 = 0.01 micro-F\n",
        "R1 = 3.183 k-ohm\n",
        "R2 = 1.446 k-ohm\n",
        "R3 = 63.66 k-ohm\n",
        "We use\t R1 = 3.3 k-ohm,R2 = 1.5 k-ohm, R3 = 63 k-ohm\n",
        "\n",
        "New value of R2 = 5.787 k-ohm.\n",
        "We use\t     R2 = 5.8 k-ohm\n"
       ]
      }
     ],
     "prompt_number": 171
    },
    {
     "cell_type": "heading",
     "level": 2,
     "metadata": {},
     "source": [
      "example 7.19, Page No. 308"
     ]
    },
    {
     "cell_type": "code",
     "collapsed": false,
     "input": [
      "# Wide band reject filter\n",
      "\n",
      "import math\n",
      "#Variable declaration\n",
      "fh = 100.0             # higher cut-off frequency\n",
      "fl = 2000.0            # lower cut-off frequency\n",
      "\n",
      "# Calculations\n",
      "# (i) High-pass section\n",
      "C = 0.01*10**-6        # assumed\n",
      "R = 1/(2*math.pi*fl*C)\n",
      "Af1 = 2\n",
      "x1 = Af1-1             # Rf/R1\n",
      "R1 = 10                # k-ohm\n",
      "Rf = x1*R1\n",
      "#(ii) Low-pass section\n",
      "C1 = 0.1*10**-6   # assumed\n",
      "R_dash = 1/(2*math.pi*fh*C1)\n",
      "Af2 = 2\n",
      "x2  = Af2-1            # Rf'/R1'\n",
      "R1_dash = 10           # k-ohm\n",
      "Rf_dash = x2*R1_dash\n",
      "#(iii) Summing amplifier\n",
      "R2 = 10.0              # k-ohm\n",
      "R3 = R4 = R2\n",
      "Rom = (R2*R3/(R2+R3))*R4/(R4+(R2*R3/(R2+R3)))\n",
      "#result\n",
      "print(\"(i) High Pass section:\\nC  = %.2f micro-F\\nR  = %.2f k-ohm\\nR1 = %d k-ohm\\nRf = %d k-ohm\\n\"%(C*10**6,R/1000,R1,Rf))\n",
      "print(\"(ii) Low Pass section:\\nC  = %.1f micro-F\\nR  = %.3f k-ohm\\nR1 = %d k-ohm\\nRf = %d k-ohm\"%(C1*10**6,R_dash/1000,R1_dash,Rf_dash))\n",
      "print(\"\\n(iii) Summing amplifier:\\nRom = %f k-ohm\"%(Rom))\n",
      "print(\"\\nThe completed circuit diagram is shownn in figure 7.47\")"
     ],
     "language": "python",
     "metadata": {},
     "outputs": [
      {
       "output_type": "stream",
       "stream": "stdout",
       "text": [
        "(i) High Pass section:\n",
        "C  = 0.01 micro-F\n",
        "R  = 7.96 k-ohm\n",
        "R1 = 10 k-ohm\n",
        "Rf = 10 k-ohm\n",
        "\n",
        "(ii) Low Pass section:\n",
        "C  = 0.1 micro-F\n",
        "R  = 15.915 k-ohm\n",
        "R1 = 10 k-ohm\n",
        "Rf = 10 k-ohm\n",
        "\n",
        "(iii) Summing amplifier:\n",
        "Rom = 3.333333 k-ohm\n",
        "\n",
        "The completed circuit diagram is shownn in figure 7.47\n"
       ]
      }
     ],
     "prompt_number": 191
    },
    {
     "cell_type": "heading",
     "level": 2,
     "metadata": {},
     "source": [
      " example 7.20, Page No. 311"
     ]
    },
    {
     "cell_type": "code",
     "collapsed": false,
     "input": [
      "# #Active notch filter\n",
      "\n",
      "import math\n",
      "#Variable declaration\n",
      "fn = 50                # frequency to be rejected\n",
      "\n",
      "#Calculations\n",
      "C = 0.47*10**-6        # Capacitance, assumed\n",
      "R = 1/(2*math.pi*fn*C)\n",
      "\n",
      "#Result\n",
      "print(\"C = %.2f micro-F\\nR = %.3f k-ohm. We use %.1f k-ohm\"%(C*10**6,R/1000,R/1000))\n"
     ],
     "language": "python",
     "metadata": {},
     "outputs": [
      {
       "output_type": "stream",
       "stream": "stdout",
       "text": [
        "C = 0.47 micro-F\n",
        "R = 6.773 k-ohm. We use 6.8 k-ohm\n"
       ]
      }
     ],
     "prompt_number": 193
    },
    {
     "cell_type": "heading",
     "level": 2,
     "metadata": {},
     "source": [
      "example 7.21, Page No. 313"
     ]
    },
    {
     "cell_type": "code",
     "collapsed": false,
     "input": [
      "# phase shift between the input and output voltages for all pass filter\n",
      "\n",
      "import math\n",
      "#Variable declaration\n",
      "R = 10*10**3              # resistance\n",
      "C = 0.01*10**-6           # Capacitance\n",
      "f = 2000.0                # frequency for which phase shift is to be calculated\n",
      "\n",
      "#Calculations\n",
      "fi = -2*math.atan(2*math.pi*R*f*C)\n",
      "fi = math.ceil(math.degrees(fi)*100)/100\n",
      "\n",
      "#Result\n",
      "print(\"Phase shift = %.2f\u00b0\"%fi)"
     ],
     "language": "python",
     "metadata": {},
     "outputs": [
      {
       "output_type": "stream",
       "stream": "stdout",
       "text": [
        "Phase shift = -102.97\u00b0\n"
       ]
      }
     ],
     "prompt_number": 199
    },
    {
     "cell_type": "heading",
     "level": 2,
     "metadata": {},
     "source": [
      "example 7.22, Page No.313"
     ]
    },
    {
     "cell_type": "code",
     "collapsed": false,
     "input": [
      "# Wide band pass filter\n",
      "\n",
      "import math\n",
      "#Variable declaration\n",
      "fl = 200.0                # lower cut-off frequency\n",
      "fh = 1000.0               # higher cut-off frequency\n",
      "\n",
      "\n",
      "#Calculations\n",
      "fc = math.sqrt(fl*fh)\n",
      "Q = fc/(fh-fl)\n",
      "\n",
      "#Result\n",
      "print(\"fc = %.1f Hz\\nQ  = %.3f\\nfilter with Q = 0.8 is more selective.\"%(fc,Q))"
     ],
     "language": "python",
     "metadata": {},
     "outputs": [
      {
       "output_type": "stream",
       "stream": "stdout",
       "text": [
        "fc = 447.2 Hz\n",
        "Q  = 0.559\n",
        "filter with Q = 0.8 is more selective\n"
       ]
      }
     ],
     "prompt_number": 203
    },
    {
     "cell_type": "heading",
     "level": 2,
     "metadata": {},
     "source": [
      "example 7.23, Page No. 313"
     ]
    },
    {
     "cell_type": "code",
     "collapsed": false,
     "input": [
      "# Wide bandpass filter design\n",
      "\n",
      "import math\n",
      "#Variable declaration\n",
      "f1 = 5*10**3             # cut-off frequency\n",
      "f2 = 15*10**3            # ciut-off frequency\n",
      "Af = 2                   # Passband gain \n",
      "\n",
      "#Calculations\n",
      "# low pass filter\n",
      "C_dash = 0.01*10**-6     # assumed\n",
      "R_dash = 1/(2*math.pi*f2*C_dash)\n",
      "R_dash = R_dash/1000\n",
      "Af1 = Af2 = 1.414\n",
      "x1 = Af2-1               # Rf'/R1'\n",
      "R1_dash = 10             # k-ohm\n",
      "Rf_dash = x1*R1_dash\n",
      "# high pass filter\n",
      "C = 0.05*10**-6          # assumed\n",
      "R = 1/(2*math.pi*f1*C)\n",
      "x2 = Af1-1               # Rf'/R1'\n",
      "R1 = 10                  # k-ohm\n",
      "Rf = x2*R1\n",
      "\n",
      "#Result\n",
      "print(\"Low pass filter component:\")\n",
      "print(\"C' = %.2f micro-F\\nR' = %.3f k-ohm\\nR1'= %d k-ohm\\nRf'= %.2f k-ohm\"%(C_dash*10**6,R_dash,R1_dash,Rf_dash))\n",
      "print(\"\\nHigh pass filter component:\")\n",
      "print(\"C  = %.2f micro-F\\nR  = %.2f k-ohm\\nR1 = %d k-ohm\\nRf = %.2f k-ohm\"%(C*10**6,R,R1,Rf))"
     ],
     "language": "python",
     "metadata": {},
     "outputs": [
      {
       "output_type": "stream",
       "stream": "stdout",
       "text": [
        "Low pass filter component:\n",
        "C' = 0.01 micro-F\n",
        "R' = 1.061 k-ohm\n",
        "R1'= 10 k-ohm\n",
        "Rf'= 4.14 k-ohm\n",
        "\n",
        "High pass filter component:\n",
        "C  = 0.05 micro-F\n",
        "R  = 636.62 k-ohm\n",
        "R1 = 10 k-ohm\n",
        "Rf = 4.14 k-ohm\n"
       ]
      }
     ],
     "prompt_number": 216
    },
    {
     "cell_type": "heading",
     "level": 2,
     "metadata": {},
     "source": [
      "example 7.24, Page No. 317"
     ]
    },
    {
     "cell_type": "code",
     "collapsed": false,
     "input": [
      "# output waveform of circuit in fig.7.54\n",
      "\n",
      "%matplotlib inline\n",
      "import matplotlib.pyplot as plt\n",
      "from numpy import arange,sin,pi\n",
      "t = arange(0.0,2,0.01)\n",
      "t1 = arange(0.0,2.0,0.01)\n",
      "t2 = arange(0.0,1.002,0.01)\n",
      "t3 = arange(1.0,2,0.01)\n",
      "t4 = arange(-15.0,15.0,0.01)\n",
      "\n",
      "S = sin(math.pi*t)\n",
      "plt.axis([0,2.0,-16,16])\n",
      "\n",
      "plt.plot(t1,t1*0/t1,'b')\n",
      "plt.plot(t4/t4,t4,'g')\n",
      "plt.plot(t2,15*t2/t2,'g')\n",
      "plt.plot(t3,-15*t3/t3,'g')\n",
      "plt.plot(t,S,'r')\n",
      "plt.title(\"Output of the circuit shown in fig. 7.54\")\n",
      "plt.text(-0.3,14.8,'+Vsat')\n",
      "plt.text(-0.3,-15.2,'-Vsat')"
     ],
     "language": "python",
     "metadata": {},
     "outputs": [
      {
       "metadata": {},
       "output_type": "pyout",
       "prompt_number": 274,
       "text": [
        "<matplotlib.text.Text at 0xef879e8>"
       ]
      },
      {
       "metadata": {},
       "output_type": "display_data",
       "png": "[encoded data removed]",
       "text": [
        "<matplotlib.figure.Figure at 0xed83f98>"
       ]
      }
     ],
     "prompt_number": 274
    },
    {
     "cell_type": "heading",
     "level": 2,
     "metadata": {},
     "source": [
      "example 7.25, Page No. 317"
     ]
    },
    {
     "cell_type": "code",
     "collapsed": false,
     "input": [
      "# Cut-off frequency\n",
      "\n",
      "import math\n",
      "#Variable declaration\n",
      "C = 0.1*10**-6             # capacitance\n",
      "R = 10*10**3               # Resistance\n",
      "\n",
      "#Calculations\n",
      "fh = 1/(2*math.pi*C*R)\n",
      "\n",
      "#Result\n",
      "print(\"cut-off frequency = %.4f Hz\"%fh)"
     ],
     "language": "python",
     "metadata": {},
     "outputs": [
      {
       "output_type": "stream",
       "stream": "stdout",
       "text": [
        "cut-off frequency = 159.1549 Hz\n"
       ]
      }
     ],
     "prompt_number": 275
    },
    {
     "cell_type": "heading",
     "level": 2,
     "metadata": {},
     "source": [
      "example 7.26, Page No. 317"
     ]
    },
    {
     "cell_type": "code",
     "collapsed": false,
     "input": [
      "# first order low pass filter design(refer fig 7.56)\n",
      "\n",
      "import math\n",
      "#Variable declaration\n",
      "fc = 2000.0           # cut-off frequency\n",
      "Af = 2                # passband gain\n",
      "\n",
      "#Calculations\n",
      "C = 0.01*10**-6       # Capacitance, assumed\n",
      "R = 1/(2*math.pi*fc*C)\n",
      "R = R/1000            # k-ohm\n",
      "R = math.floor(R*10**3)/1000\n",
      "x = Af -1             # Rf/R1\n",
      "R1 = 10               # k-ohm\n",
      "Rf = x*R1\n",
      "\n",
      "#Result\n",
      "print(\"C  = %.2f micro-F\\nR  = %.3f k-ohm\\nR1 = %d k-ohm\\nRf = %d k-ohm\"%(C*10**6,R,R1,Rf))"
     ],
     "language": "python",
     "metadata": {},
     "outputs": [
      {
       "output_type": "stream",
       "stream": "stdout",
       "text": [
        "C  = 0.01 micro-F\n",
        "R  = 7.957 k-ohm\n",
        "R1 = 10 k-ohm\n",
        "Rf = 10 k-ohm\n"
       ]
      }
     ],
     "prompt_number": 284
    }
   ],
   "metadata": {}
  }
 ]
}