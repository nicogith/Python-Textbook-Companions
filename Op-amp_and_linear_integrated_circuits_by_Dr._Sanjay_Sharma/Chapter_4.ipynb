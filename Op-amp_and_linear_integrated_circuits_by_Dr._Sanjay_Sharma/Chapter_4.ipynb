{
 "metadata": {
  "name": ""
 },
 "nbformat": 3,
 "nbformat_minor": 0,
 "worksheets": [
  {
   "cells": [
    {
     "cell_type": "heading",
     "level": 1,
     "metadata": {},
     "source": [
      "Chapter 4: Basic Applications of Operational Amplifiers"
     ]
    },
    {
     "cell_type": "heading",
     "level": 2,
     "metadata": {},
     "source": [
      "example 4.1, Page No. 104"
     ]
    },
    {
     "cell_type": "code",
     "collapsed": false,
     "input": [
      "# Output voltage of circuit shown in fig. 4.3\n",
      "\n",
      "import math\n",
      "#Variable declaration\n",
      "R1 = R2 = R3 = 1000.0        # input Resistors\n",
      "Rf = 1000.0                  # feedback resistor\n",
      "Vin1 = 2                      # input voltage 1\n",
      "Vin2 = 1                      # input voltage 2\n",
      "Vin3 = 4                      # input voltage 3\n",
      "\n",
      "#Calculations\n",
      "Vout = -((Rf*Vin1/R1)+(Rf*Vin2/R2)+(Rf*Vin3/R3))\n",
      "\n",
      "#Result\n",
      "print(\"Vout = %d V\"%Vout)"
     ],
     "language": "python",
     "metadata": {},
     "outputs": [
      {
       "output_type": "stream",
       "stream": "stdout",
       "text": [
        "Vout = -7 V\n"
       ]
      }
     ],
     "prompt_number": 3
    },
    {
     "cell_type": "heading",
     "level": 2,
     "metadata": {},
     "source": [
      "example 4.2, Page No. 104"
     ]
    },
    {
     "cell_type": "code",
     "collapsed": false,
     "input": [
      "# Adder circuit design\n",
      "\n",
      "import math\n",
      "#Variable declaration\n",
      "Rf = 100.0             # feedback resistor in k-ohm\n",
      "V1 = 1                 # multiplication factor for input 1\n",
      "V2 = 10                # multiplication factor for input 2\n",
      "V3 = 100               # multiplication factor for input 3\n",
      "\n",
      "#Calculations\n",
      "R1 = Rf/V1\n",
      "R2 = Rf/V2\n",
      "R3 = Rf/V3\n",
      "\n",
      "#Result\n",
      "print(\"R1 = %d k-ohm\\nR2 = %d  k-ohm\\nR3 = %d   k-ohm\"%(R1,R2,R3))"
     ],
     "language": "python",
     "metadata": {},
     "outputs": [
      {
       "output_type": "stream",
       "stream": "stdout",
       "text": [
        "R1 = 100 k-ohm\n",
        "R2 = 10  k-ohm\n",
        "R3 = 1   k-ohm\n"
       ]
      }
     ],
     "prompt_number": 7
    },
    {
     "cell_type": "heading",
     "level": 2,
     "metadata": {},
     "source": [
      "example 4.3, Page No. 104"
     ]
    },
    {
     "cell_type": "code",
     "collapsed": false,
     "input": [
      "# Determine output voltage\n",
      "\n",
      "import math\n",
      "#Variable declaration\n",
      "Rf = 12.0              # feedback resistor in k-ohm\n",
      "Rs1 = 12.0             # input resistance 1\n",
      "Rs2 = 2.0              # input resistance 2\n",
      "Rs3 = 3.0              # input resistance 3\n",
      "Vi1 = 9                # corresponding input Voltage 1\n",
      "Vi2 = -3              # corresponding input Voltage 2\n",
      "Vi3 = -1               # corresponding input Voltage 3\n",
      "\n",
      "#Calculations\n",
      "Vout = -Rf*((Vi1/Rs1)+(Vi2/Rs2)+(Vi3/Rs3))\n",
      "\n",
      "#Result\n",
      "print(\"Vout = %.0f V\"%Vout)"
     ],
     "language": "python",
     "metadata": {},
     "outputs": [
      {
       "output_type": "stream",
       "stream": "stdout",
       "text": [
        "Vout = 13 V\n"
       ]
      }
     ],
     "prompt_number": 12
    },
    {
     "cell_type": "heading",
     "level": 2,
     "metadata": {},
     "source": [
      "example 4.4, Page No. 105"
     ]
    },
    {
     "cell_type": "code",
     "collapsed": false,
     "input": [
      "# Summing amplifier design(refer fig. 4.4)\n",
      "\n",
      "import math\n",
      "#Variable declaration\n",
      "Rf = 6                 # Assume,feedback resistor in k-ohm\n",
      "V1 = 1                 # multiplication factor for input 1\n",
      "V2 = 2                 # multiplication factor for input 2\n",
      "V3 = -3                # multiplication factor for input 3\n",
      "\n",
      "#Calculations\n",
      "R1 = abs(Rf/V1)\n",
      "R2 = abs(Rf/V2)\n",
      "R3 = abs(Rf/V3)\n",
      "\n",
      "#Result\n",
      "print(\"R1 = %d k-ohm\\nR2 = %d k-ohm\\nR3 = %d k-ohm\"%(R1,R2,R3))"
     ],
     "language": "python",
     "metadata": {},
     "outputs": [
      {
       "output_type": "stream",
       "stream": "stdout",
       "text": [
        "R1 = 6 k-ohm\n",
        "R2 = 3 k-ohm\n",
        "R3 = 2 k-ohm\n"
       ]
      }
     ],
     "prompt_number": 16
    },
    {
     "cell_type": "heading",
     "level": 2,
     "metadata": {},
     "source": [
      "example 4.5, Page No. 105"
     ]
    },
    {
     "cell_type": "code",
     "collapsed": false,
     "input": [
      "# Summing amplifier design(refer fig. 4.5)\n",
      "\n",
      "import math\n",
      "#Variable declaration\n",
      "Rf = 40.0              # Assume,feedback resistor in k-ohm\n",
      "V1 = -2.0              # multiplication factor for input 1\n",
      "V2 = -3.0              # multiplication factor for input 2\n",
      "V3 = -4.0              # multiplication factor for input 3\n",
      "\n",
      "#Calculations\n",
      "R1 = abs(Rf/V1)\n",
      "R2 =abs(Rf/V2)\n",
      "R3 = abs(Rf/V3)\n",
      "\n",
      "#Result\n",
      "print(\"R1 = %d k-ohm\\nR2 = %.2f k-ohm\\nR3 = %d k-ohm\"%(R1,R2,R3))"
     ],
     "language": "python",
     "metadata": {},
     "outputs": [
      {
       "output_type": "stream",
       "stream": "stdout",
       "text": [
        "R1 = 20 k-ohm\n",
        "R2 = 13.33 k-ohm\n",
        "R3 = 10 k-ohm\n"
       ]
      }
     ],
     "prompt_number": 22
    },
    {
     "cell_type": "heading",
     "level": 2,
     "metadata": {},
     "source": [
      "example 4.6, Page No. 105"
     ]
    },
    {
     "cell_type": "code",
     "collapsed": false,
     "input": [
      "# Output Voltage(refer fig. 4.6)\n",
      "\n",
      "import math\n",
      "#Variable declaration\n",
      "V1 = 2.0                  # V1 input\n",
      "V2 = -1.0                 # V2 input\n",
      "R  = 1.0                  # Resistor R, assumed\n",
      "Rf = 2.0*R                # feedback resistor\n",
      "\n",
      "#Calculations\n",
      "Vin1 = (R*R/(R+R))*V1/(R+(R*R/(R+R)))\n",
      "Vout1 = Vin1*(1+(Rf/R))\n",
      "Vin2 = (R*R/(R+R))*V2/(R+(R*R/(R+R)))\n",
      "Vout2 = Vin2*(1+(Rf/R))\n",
      "Vout = Vout1+Vout2\n",
      "\n",
      "#Result\n",
      "print(\"Output voltage, Vout = %d V\"%Vout)"
     ],
     "language": "python",
     "metadata": {},
     "outputs": [
      {
       "output_type": "stream",
       "stream": "stdout",
       "text": [
        "Output voltage, Vout = 1 V\n"
       ]
      }
     ],
     "prompt_number": 28
    },
    {
     "cell_type": "heading",
     "level": 2,
     "metadata": {},
     "source": [
      "example 4.7, Page No. 116"
     ]
    },
    {
     "cell_type": "code",
     "collapsed": false,
     "input": [
      "# Limiting frequency\n",
      "\n",
      "import math\n",
      "#Variable declaration\n",
      "R1 = 10*10**3            # resistor R1\n",
      "Cf = 0.1*10**-6          # feedback capacitor\n",
      "\n",
      "#Calculation\n",
      "Rf = 10*R1\n",
      "f = 1/(2*math.pi*Rf*Cf)\n",
      "\n",
      "#Result\n",
      "print(\"Limiting frequency = %.2f Hz\"%(math.floor(f*100)/100))"
     ],
     "language": "python",
     "metadata": {},
     "outputs": [
      {
       "output_type": "stream",
       "stream": "stdout",
       "text": [
        "Limiting frequency = 15.91 Hz\n"
       ]
      }
     ],
     "prompt_number": 32
    },
    {
     "cell_type": "heading",
     "level": 2,
     "metadata": {},
     "source": [
      "example 4.8, Page No. 117"
     ]
    },
    {
     "cell_type": "code",
     "collapsed": false,
     "input": [
      "# Design of practical integrator circuit\n",
      "\n",
      "import math\n",
      "#Variable declaration\n",
      "A = 10.0                    # DC gain of integrator\n",
      "f = 10.0*10**3              # frequency of input square wav\n",
      "#Calculations\n",
      "fa = f/10                 # break frequency for proper integration\n",
      "R1 = 10.0*10**3             # selected\n",
      "Rf = A*R1\n",
      "Cf = 1/(2*math.pi*Rf*fa)\n",
      "Rcomp = R1*Rf/(R1+Rf)\n",
      "\n",
      "\n",
      "#Result\n",
      "print(\"R1 = %d k-ohm\\nRf = %d k-ohm\\nCf = %.4f = %.1f nF\\nRcomp = %.2f k-ohm\"%(R1/1000,Rf/1000,Cf*10**9,Cf*10**9,Rcomp/1000))"
     ],
     "language": "python",
     "metadata": {},
     "outputs": [
      {
       "output_type": "stream",
       "stream": "stdout",
       "text": [
        "R1 = 10 k-ohm\n",
        "Rf = 100 k-ohm\n",
        "Cf = 1.5915 = 1.6 nF\n",
        "Rcomp = 9.09 k-ohm\n"
       ]
      }
     ],
     "prompt_number": 40
    },
    {
     "cell_type": "heading",
     "level": 2,
     "metadata": {},
     "source": [
      "example 4.9, Page No.118"
     ]
    },
    {
     "cell_type": "code",
     "collapsed": false,
     "input": [
      "# maximum change in output and minimum slew rate required\n",
      "\n",
      "import math\n",
      "#Variable declaration\n",
      "Vin = 5              # input voltage\n",
      "f = 1000.0           # input frequency\n",
      "R1 = 1000.0          # Resistor R1\n",
      "Cf = 0.1*10**-6      # feedback capacitor\n",
      "\n",
      "#Calculation\n",
      "Vout = Vin/(2*R1*f*Cf)\n",
      "S = 2*math.pi*f*Vin\n",
      "\n",
      "#Result\n",
      "print(\"Delta V = %d V.\\n\\nOutput may saturate at +/- 14V. But %d change means the output will alternate\"%(Vout,Vout))\n",
      "print(\"between +/- %.1f V. Hence output will not saturate and will be triangular in nature.\"%(Vout/2))\n",
      "print(\"\\nMinimum slew rate required is %f V/usec.\"%(S*10**-6))"
     ],
     "language": "python",
     "metadata": {},
     "outputs": [
      {
       "output_type": "stream",
       "stream": "stdout",
       "text": [
        "Delta V = 25 V.\n",
        "\n",
        "Output may saturate at +/- 14V. But 25 change means the output will alternate\n",
        "between +/- 12.5 V. Hence output will not saturate and will be triangular in nature.\n",
        "\n",
        "Minimum slew rate required is 0.031416 V/usec.\n"
       ]
      }
     ],
     "prompt_number": 48
    },
    {
     "cell_type": "heading",
     "level": 2,
     "metadata": {},
     "source": [
      "example 4.10, Page No. 118"
     ]
    },
    {
     "cell_type": "code",
     "collapsed": false,
     "input": [
      "# Practical integrator circuit\n",
      "\n",
      "import math\n",
      "#Variable declaration\n",
      "R1 = 120*10**3            # Resistor R1\n",
      "Rf = 1.2*10**6            # feedback resistor\n",
      "Cf = 10*10**-9            # feedback capacitor\n",
      "V = 5                     # input sine wave amplitude\n",
      "f = 10*10**3              # input sine wave frequency\n",
      "\n",
      "\n",
      "#Calculations\n",
      "#(ii)\n",
      "fa = 1/(2*math.pi*Rf*Cf)\n",
      "fs = 10*fa\n",
      "#(iii)\n",
      "A = Rf/R1\n",
      "A = 20*math.log10(A)\n",
      "#(iv)\n",
      "A2 = (Rf/R1)/math.sqrt(1+(f/fa)**2)\n",
      "Vout = V*A2\n",
      "\n",
      "#Result\n",
      "print(\"(i) Circuit diagram is shown in fig.4.27(a)\\n\\n(ii) fa = %.2f Hz\\t\\t Safe frequency = %.1f Hz\\n\\n(iii)DC gain = %d\"%(fa,fs,A))\n",
      "print(\"\\n(iv) Vout(peak) = %.0f mV\\n\\n(v) Rough nature of frequency response is shown in fig. 4.27(b)\"%(Vout*10**3))"
     ],
     "language": "python",
     "metadata": {},
     "outputs": [
      {
       "output_type": "stream",
       "stream": "stdout",
       "text": [
        "(i) Circuit diagram is shown in fig.4.27(a)\n",
        "\n",
        "(ii) fa = 13.26 Hz\t\t Safe frequency = 132.6 Hz\n",
        "\n",
        "(iii)DC gain = 20\n",
        "\n",
        "(iv) Vout(peak) = 66 mV\n",
        "\n",
        "(v) Rough nature of frequency response is shown in fig. 4.27(b)\n"
       ]
      }
     ],
     "prompt_number": 8
    },
    {
     "cell_type": "heading",
     "level": 2,
     "metadata": {},
     "source": [
      "example 4.11, Page No. 119"
     ]
    },
    {
     "cell_type": "code",
     "collapsed": false,
     "input": [
      "# Output voltage\n",
      "\n",
      "import math\n",
      "#Variable declaration\n",
      "f = 2000.0            # frequency of input sin wave\n",
      "V = 10*10**-3          # amplitude of sin wave\n",
      "R = 50*10**3          # Resistor R\n",
      "C = 2*10**-6          # feedback capacitor\n",
      "\n",
      "#Calculations\n",
      "sf = -1/(R*C)\n",
      "Vout = (math.sqrt(2)*V*sf)*1000/(2*math.pi*f)\n",
      "\n",
      "#Result\n",
      "print(\"Vout(t) = %.4f*(cos%dt-1)\"%(-Vout,2*f))\n"
     ],
     "language": "python",
     "metadata": {},
     "outputs": [
      {
       "output_type": "stream",
       "stream": "stdout",
       "text": [
        "Vout(t) = 0.0113*(cos4000t-1)\n"
       ]
      }
     ],
     "prompt_number": 7
    },
    {
     "cell_type": "heading",
     "level": 2,
     "metadata": {},
     "source": [
      "example 4.12, Page No. 119"
     ]
    },
    {
     "cell_type": "code",
     "collapsed": false,
     "input": [
      "# Capacitor voltage and closed loop time constant\n",
      "\n",
      "import math\n",
      "Vin = 10.0               # input voltage\n",
      "R = 2.2*10**3            # Resistor\n",
      "T = 10**-3               # ON time of the pulse\n",
      "C = 10**-6               # Capacitance value\n",
      "\n",
      "#Calculations\n",
      "I = Vin/R\n",
      "V = I*T/C\n",
      "RC = R*C*10**5\n",
      "\n",
      "#Result\n",
      "print(\"I = %.3f mA\\nV = %.3f V\\nclosed-loop time constant = %.0f\"%(I*10**3,V,RC))"
     ],
     "language": "python",
     "metadata": {},
     "outputs": [
      {
       "output_type": "stream",
       "stream": "stdout",
       "text": [
        "I = 4.545 mA\n",
        "V = 4.545 V\n",
        "closed-loop time constant = 220\n"
       ]
      }
     ],
     "prompt_number": 12
    },
    {
     "cell_type": "heading",
     "level": 2,
     "metadata": {},
     "source": [
      "example 4.13, Page No. 120"
     ]
    },
    {
     "cell_type": "code",
     "collapsed": false,
     "input": [
      "# Lossyintegrator circuit\n",
      "\n",
      "import math\n",
      "#Variable declaration\n",
      "A = 20.0              # peak gain\n",
      "w = 10000             # w value when gain is 3dB down\n",
      "C = 0.01*10**-6       # feedback capacitance\n",
      "\n",
      "# Calculations\n",
      "Rf = 1/(C*w)\n",
      "R1 = Rf/10**(A/20.0)\n",
      "\n",
      "#Result\n",
      "print(\"Rf = %d k-ohm\\t\\tR1 = %d k-ohm\"%(Rf/1000,R1/1000))"
     ],
     "language": "python",
     "metadata": {},
     "outputs": [
      {
       "output_type": "stream",
       "stream": "stdout",
       "text": [
        "Rf = 10 k-ohm\t\tR1 = 1 k-ohm\n"
       ]
      }
     ],
     "prompt_number": 14
    },
    {
     "cell_type": "heading",
     "level": 2,
     "metadata": {},
     "source": [
      "example 4.14, Page No. 120"
     ]
    },
    {
     "cell_type": "code",
     "collapsed": false,
     "input": [
      "# output voltage in case of circuit shown in  fig. 4.30 with ideal op-amp\n",
      "\n",
      "import math\n",
      "#Variable declaration\n",
      "Vin = 5.0                    # input voltage at inverting terminal\n",
      "V1 = 3.0                     # input voltage at non-inverting terminal\n",
      "C = 0.2*10**-6               # feedback capacitor\n",
      "R = 40*10**3                 # Resistor R\n",
      "t = 50*10**-3                # time delay\n",
      "\n",
      "#Calculations\n",
      "Vout = -((Vin-V1)*t/(R*C))+V1\n",
      "\n",
      "\n",
      "%matplotlib inline\n",
      "import matplotlib.pyplot as plt\n",
      "from numpy import arange,sin,pi\n",
      "t = arange(0.0,5.0,0.01)\n",
      "t1 = arange(0.0,6.0,0.01)\n",
      "t2 = arange(0.0,5,0.01)\n",
      "t3 = arange(-9.5,0.0,0.01)\n",
      "\n",
      "plt.axis([0,5.5,-10.0,4.1])\n",
      "plt.plot(t1,t1*0/t1,'b')\n",
      "plt.plot(t,3-t*12.5/5.0,'b')\n",
      "plt.plot(t2,-t2*9.5/t2,'--')\n",
      "plt.plot(t3*5/t3,t3,'--')\n",
      "plt.title(\"Output Voltage\")\n",
      "plt.xlabel(\"Time(x 10^-2) \")\n",
      "plt.ylabel(\"Output Voltage in Volts\")\n",
      "\n",
      "#Result\n",
      "print(\"Vout = %.1f V\"%Vout)\n"
     ],
     "language": "python",
     "metadata": {},
     "outputs": [
      {
       "output_type": "stream",
       "stream": "stdout",
       "text": [
        "Vout = -9.5 V\n"
       ]
      },
      {
       "metadata": {},
       "output_type": "display_data",
       "png": "[encoded data removed]",
       "text": [
        "<matplotlib.figure.Figure at 0x92ef438>"
       ]
      }
     ],
     "prompt_number": 92
    },
    {
     "cell_type": "heading",
     "level": 2,
     "metadata": {},
     "source": [
      "example 4.15, Page No. 121"
     ]
    },
    {
     "cell_type": "code",
     "collapsed": false,
     "input": [
      "# Time when output will get saturated in fig. 4.33\n",
      "\n",
      "import math\n",
      "#Variable declaration\n",
      "R = 500.0*10**3         # Resistopr R\n",
      "C = 10.0*10**-6         # feedback capacitor\n",
      "V = -0.5                # V(t)\n",
      "Vo = 12.0               # Saturation Voltage   \n",
      "#Calculations\n",
      "Vout = -V/(R*C)\n",
      "t = Vo/Vout\n",
      "\n",
      "#Result\n",
      "print(\"Time duration required for saturation of output voltage = %d seconds\"%t)"
     ],
     "language": "python",
     "metadata": {},
     "outputs": [
      {
       "output_type": "stream",
       "stream": "stdout",
       "text": [
        "Time duration required for saturation of output voltage = 120 seconds\n"
       ]
      }
     ],
     "prompt_number": 48
    },
    {
     "cell_type": "heading",
     "level": 2,
     "metadata": {},
     "source": [
      "example 4.16, Page No.122"
     ]
    },
    {
     "cell_type": "code",
     "collapsed": false,
     "input": [
      "# expression using op-amp\n",
      "\n",
      "import math\n",
      "#Variable declaration\n",
      "Cf = 10.0*10**-6       # feedback capacitor, assumed value\n",
      "V1 = 1                 # multiplication factor for input 1\n",
      "V2 = 2                 # multiplication factor for input 2\n",
      "V3 = 5                 # multiplication factor for input 3\n",
      "\n",
      "#Calculations\n",
      "R1 = 1/(Cf*V1)\n",
      "R2 = 1/(Cf*V2)\n",
      "R3 = 1/(Cf*V3)\n",
      "\n",
      "#Result\n",
      "print(\"R1 = %d k-ohm\\nR2 = %d  k-ohm\\nR3 = %d   k-ohm\\nCircuit will be ass show in fig. 4.35\"%(R1/1000,R2/1000,R3/1000))"
     ],
     "language": "python",
     "metadata": {},
     "outputs": [
      {
       "output_type": "stream",
       "stream": "stdout",
       "text": [
        "R1 = 100 k-ohm\n",
        "R2 = 50  k-ohm\n",
        "R3 = 20   k-ohm\n",
        "Circuit will be ass show in fig. 4.35\n"
       ]
      }
     ],
     "prompt_number": 51
    },
    {
     "cell_type": "heading",
     "level": 2,
     "metadata": {},
     "source": [
      "example 4.17, Page No. 129"
     ]
    },
    {
     "cell_type": "code",
     "collapsed": false,
     "input": [
      "# Practical differentiator\n",
      "\n",
      "import math\n",
      "#Variable declaration\n",
      "fmax = 150.0               # max frequency to be differentiate\n",
      "C1 = 1*10**-6              # Capacitor C1, we choose\n",
      "\n",
      "#Calculations\n",
      "fa =fmax\n",
      "Rf = 1/(2*math.pi*fa*C1)\n",
      "Rf = Rf/1000              # k-ohm\n",
      "Rf = math.floor(Rf*100)/100\n",
      "fb = 10*fa\n",
      "R1 = 1/(2*math.pi*fb*C1)\n",
      "R1 = math.floor(R1*10)/10\n",
      "Cf = R1*C1/(Rf*10**3)\n",
      "Rcomp = R1*Rf*10**3/(R1+Rf*10**3)\n",
      "\n",
      "#Result\n",
      "print(\"R1 = %.1f ohm\\nC1 = %d uF\\nRf = %.2f k-ohm\\nCf = %.1f uF\\nRcomp = %.2f ohm\"%(R1,C1*10**6,Rf,Cf*10**6,math.floor(Rcomp*100)/100))"
     ],
     "language": "python",
     "metadata": {},
     "outputs": [
      {
       "output_type": "stream",
       "stream": "stdout",
       "text": [
        "R1 = 106.1 ohm\n",
        "C1 = 1 uF\n",
        "Rf = 1.06 k-ohm\n",
        "Cf = 0.1 uF\n",
        "Rcomp = 96.44 ohm\n"
       ]
      }
     ],
     "prompt_number": 68
    },
    {
     "cell_type": "heading",
     "level": 2,
     "metadata": {},
     "source": [
      "example 4.18, Page No.130"
     ]
    },
    {
     "cell_type": "code",
     "collapsed": false,
     "input": [
      "# op-amp differentiator\n",
      "\n",
      "import math\n",
      "#Variable declaration\n",
      "Vm = 10*10**-6             # peak value of sine wave\n",
      "fa = 2000.0                # maximum frequency\n",
      "R = 50*10**3               # Resistor R \n",
      "C = 2*10**-6               # Capacitor C\n",
      "\n",
      "\n",
      "#Calculations\n",
      "Vout = -R*C*Vm*2*math.pi*fa\n",
      "\n",
      "#Result\n",
      "print(\"Vout = %f*cos(%d*pi*t) micro-V\"%(Vout,2*fa))"
     ],
     "language": "python",
     "metadata": {},
     "outputs": [
      {
       "output_type": "stream",
       "stream": "stdout",
       "text": [
        "Vout = -0.012566*cos(4000*pi*t) micro-V\n"
       ]
      }
     ],
     "prompt_number": 73
    },
    {
     "cell_type": "heading",
     "level": 2,
     "metadata": {},
     "source": [
      "example 4.19, Page No.130"
     ]
    },
    {
     "cell_type": "code",
     "collapsed": false,
     "input": [
      "# Differentiator design\n",
      "\n",
      "import math\n",
      "#Variable declaration\n",
      "V = 3.0                   # input sine wave ampitude\n",
      "f = 200.0                 # input sine wave frequency\n",
      "fa = 1000.0               # maximum input frequency\n",
      "\n",
      "#Calculations\n",
      "C = 0.1*10**-6            #Assumed value\n",
      "R = 1/(2*math.pi*fa*C)\n",
      "R_1 = math.floor(R/100)*100\n",
      "fb = 20*fa\n",
      "R_dash =  1/(2*math.pi*fb*C)\n",
      "R_dash_1 = 82*10**3 \n",
      "C_dash = R_1*C/R_dash_1\n",
      "Vout = -R_1*C*(V/2)*2*math.pi*f\n",
      "\n",
      "#Result\n",
      "print(\"R    = %.2f k-ohm = %.1f k-ohm(say)\\nRom  = %.1f k-ohm\\nVout = %.4fcos(%d*pi*t)\"%(R/1000,R_1/1000,R_1/1000,Vout,f*2))"
     ],
     "language": "python",
     "metadata": {},
     "outputs": [
      {
       "output_type": "stream",
       "stream": "stdout",
       "text": [
        "R    = 1.59 k-ohm = 1.5 k-ohm(say)\n",
        "Rom  = 1.5 k-ohm\n",
        "Vout = -0.2827cos(400*pi*t)\n"
       ]
      }
     ],
     "prompt_number": 12
    },
    {
     "cell_type": "heading",
     "level": 2,
     "metadata": {},
     "source": [
      "example 4.20, Page No.142"
     ]
    },
    {
     "cell_type": "code",
     "collapsed": false,
     "input": [
      "# Instrumentation Amplifier (refer fig 4.64)\n",
      "\n",
      "import math\n",
      "#Variable declaration\n",
      "R1 = 200.0                 # Resistor R1\n",
      "R2 = 100.0                 # Resistor R2\n",
      "Rf = 100.0*10**3           # Feedback Resistor Rf\n",
      "Rg_min = 100.0             # 100 ohm + 0 ohm\n",
      "Rg_max = 100.0*10**3+100   # 100 ohm + 100 k-ohm\n",
      "\n",
      "\n",
      "#Calculation\n",
      "Gain1 = (1+(2*Rf/Rg_min))*(R2/R1)\n",
      "Gain2 = (1+(2*Rf/Rg_max))*(R2/R1)\n",
      "\n",
      "#Result\n",
      "print(\"For all practical purposes, the gain can be varied from %.1f to %.1f\"%(Gain2, Gain1))\n",
      "#Answer for max gain is wrong in the book"
     ],
     "language": "python",
     "metadata": {},
     "outputs": [
      {
       "output_type": "stream",
       "stream": "stdout",
       "text": [
        "For all practical purposes, the gain can be varied from 1.5 to 1000.5\n"
       ]
      }
     ],
     "prompt_number": 8
    },
    {
     "cell_type": "heading",
     "level": 2,
     "metadata": {},
     "source": [
      "example 4.21, Page No. 142"
     ]
    },
    {
     "cell_type": "code",
     "collapsed": false,
     "input": [
      "# Instrumentation Amplifier (refer fig 4.65)\n",
      "\n",
      "import math\n",
      "#Variable declaration\n",
      "R1 = 100.0*10**3                  # Resistor R1\n",
      "R2 = 100.0*10**3                  # Resistor R2\n",
      "Rf = 470.0*10**3                  # Feedback Resistor Rf\n",
      "Gain = 100.0                      # Gain \n",
      "\n",
      "#Calculations\n",
      "Rg = 2*Rf/((Gain*(R1/R2))-1)\n",
      "\n",
      "#Result\n",
      "print(\" Rg = %.2f k-ohm\"%(Rg/1000))"
     ],
     "language": "python",
     "metadata": {},
     "outputs": [
      {
       "output_type": "stream",
       "stream": "stdout",
       "text": [
        " Rg = 9.49 k-ohm\n"
       ]
      }
     ],
     "prompt_number": 10
    },
    {
     "cell_type": "heading",
     "level": 2,
     "metadata": {},
     "source": [
      "example 4.22, Page No. 144"
     ]
    },
    {
     "cell_type": "code",
     "collapsed": false,
     "input": [
      "# Transducer Resistance\n",
      "\n",
      "import math\n",
      "#Variable declaration\n",
      "R = 100.0              # reference resistance of the transducer\n",
      "alfa = 0.00392         # Alfa value\n",
      "T1 = 25                # Temperature Value 1\n",
      "T2 = 100               # Temperature Value 2\n",
      "\n",
      "#Calculations\n",
      "R_25  = R*(1+alfa*T1)\n",
      "R_100 = R*(1+alfa*T2)\n",
      "\n",
      "#Result\n",
      "print(\"It can be seen that Delta_R is %.1f ohm for a change at %d\u00b0C\"%(R_25-R,T1))\n",
      "print(\"while Delta_R is %.1f ohm for a change of %d\u00b0C.\"%(R_100-R,T2))"
     ],
     "language": "python",
     "metadata": {},
     "outputs": [
      {
       "output_type": "stream",
       "stream": "stdout",
       "text": [
        "It can be seen that Delta_R is 9.8 ohm for a change at 25\u00b0C\n",
        "while Delta_R is 39.2 ohm for a change of 100\u00b0C.\n"
       ]
      }
     ],
     "prompt_number": 13
    },
    {
     "cell_type": "heading",
     "level": 2,
     "metadata": {},
     "source": [
      "example 4.23, Page No."
     ]
    },
    {
     "cell_type": "code",
     "collapsed": false,
     "input": [
      "# instrumentation amplifier design\n",
      "\n",
      "import math\n",
      "#Variable declaration\n",
      "P_min = 0                 # minimum value of potentiometer\n",
      "P_max = 50*10**3          # maximum value of potentiometer\n",
      "G_min = 5.0               # minimum gain \n",
      "G_max = 200.0             # maximum gain\n",
      "\n",
      "#Calculations\n",
      "R3 = 1000.0               # assumed value\n",
      "R4 = 1000.0               # resistor in series with potentiometer\n",
      "x1 = (R4+P_min)/R3                \n",
      "x2 = (R4+P_max)/R3                \n",
      "y  = ((G_min/x1)-1)/2     # R1/R2\n",
      "R2 =10*10**3              # assumed value\n",
      "R1 = R2*y\n",
      "\n",
      "#Result\n",
      "print(\"R1 = %.0f k-ohm\\nR2 = %.0f k-ohm\\nR3 = %.0f  k-ohm\\nR4 = %.0f  k-ohm\\n\"%(R1/1000,R2/1000,R3/1000,R4/1000))"
     ],
     "language": "python",
     "metadata": {},
     "outputs": [
      {
       "output_type": "stream",
       "stream": "stdout",
       "text": [
        "R1 = 20 k-ohm\n",
        "R2 = 10 k-ohm\n",
        "R3 = 1  k-ohm\n",
        "R4 = 1  k-ohm\n",
        "\n"
       ]
      }
     ],
     "prompt_number": 15
    },
    {
     "cell_type": "heading",
     "level": 2,
     "metadata": {},
     "source": [
      "example 4.24, Page No. 147"
     ]
    },
    {
     "cell_type": "code",
     "collapsed": false,
     "input": [
      "print(\"Theoretical example\")"
     ],
     "language": "python",
     "metadata": {},
     "outputs": [
      {
       "output_type": "stream",
       "stream": "stdout",
       "text": [
        "Theoretical example\n"
       ]
      }
     ],
     "prompt_number": 16
    },
    {
     "cell_type": "heading",
     "level": 2,
     "metadata": {},
     "source": [
      "example 4.25, Page No. 147"
     ]
    },
    {
     "cell_type": "code",
     "collapsed": false,
     "input": [
      "# Gain of instrumentation Amplifier(refer fig. 4.73)\n",
      "\n",
      "import math\n",
      "#Variable declaration\n",
      "Rf = 5.0                # Resistor Rf in k-ohm\n",
      "Rg = 1.0                # Resistor Rg in k-ohm\n",
      "R1 = 10.0               # Resistor R1 in k-ohm\n",
      "R2 = 20.0               # Resistor R2 in k-ohm\n",
      "\n",
      "#Calculations\n",
      "A = (1+(2*Rf/Rg))*(R2/R1)\n",
      "\n",
      "#Result\n",
      "print(\"A = %d\"%A)"
     ],
     "language": "python",
     "metadata": {},
     "outputs": [
      {
       "output_type": "stream",
       "stream": "stdout",
       "text": [
        "A = 22\n"
       ]
      }
     ],
     "prompt_number": 17
    },
    {
     "cell_type": "heading",
     "level": 2,
     "metadata": {},
     "source": [
      "example 4.26, Page No. 147"
     ]
    },
    {
     "cell_type": "code",
     "collapsed": false,
     "input": [
      "# output voltage of the circuit (refer fig. 4.74)\n",
      "\n",
      "import math\n",
      "#Variable declaration\n",
      "R_A1  = 1000.0                # terminal resistor for op-amp A1\n",
      "Rf_A1 = 5000.0                # feedback resistor for op-amp A1\n",
      "R_A2  = 1000.0                # terminal resistor for op-amp A2\n",
      "Rf_A2 = 2000.0                # feedback resistor for op-amp A2\n",
      "Rcom_A2= 2000.0               # Rcom resistor for op-amp A2\n",
      "V1 = 1.0                      # input at terminal 1 of A1 in mV\n",
      "V2 = 5.0                      # 5*sin(wt)-->input at terminal 2 of A1 in mV\n",
      "V3 = 5.0                      # input at terminal 2 of A2\n",
      "\n",
      "#Calculations\n",
      "Vin_1 = V1*(-Rf_A1/R_A1)\n",
      "Vin_2 = V2*(-Rf_A1/R_A1)\n",
      "Vout = Vin_1*(-Rf_A2/R_A2)+(1+Rf_A2/R_A2)*(Rcom_A2/(R_A2+Rcom_A2))*V3\n",
      "Vout2 = Vin_2*(-Rf_A2/R_A2)\n",
      "\n",
      "#Result\n",
      "print(\"Vout = %d + %d*sin(wt) mV\"%(Vout,Vout2))"
     ],
     "language": "python",
     "metadata": {},
     "outputs": [
      {
       "output_type": "stream",
       "stream": "stdout",
       "text": [
        "Vout = 20 + 50*sin(wt) mV\n"
       ]
      }
     ],
     "prompt_number": 27
    },
    {
     "cell_type": "heading",
     "level": 2,
     "metadata": {},
     "source": [
      "example 4.27, Page No. 148"
     ]
    },
    {
     "cell_type": "code",
     "collapsed": false,
     "input": [
      "# output voltage of the circuit (refer fig. 4.75)\n",
      "\n",
      "\n",
      "import math\n",
      "#Variable declaration\n",
      "Rf = 10.0                # Resistor Rf in k-ohm\n",
      "Rg = 5.0                 # Resistor Rg in k-ohm\n",
      "R1 = 1.0                 # Resistor R1 in k-ohm\n",
      "R2 = 2.0                 # Resistor R2 in k-ohm\n",
      "Vin2 = 2.0               # input at non-inverting terminal of A2 in mV\n",
      "Vin1 = 1.0               # input at non-inverting terminal of A1 in mV\n",
      "\n",
      "#Calculations\n",
      "A = (1+(2*Rf/Rg))*(R2/R1)\n",
      "Vout = A*(Vin2 - Vin1)\n",
      "#Result\n",
      "print(\"Vout = %d mV\"%Vout)"
     ],
     "language": "python",
     "metadata": {},
     "outputs": [
      {
       "output_type": "stream",
       "stream": "stdout",
       "text": [
        "Vout = 10 mV\n"
       ]
      }
     ],
     "prompt_number": 28
    },
    {
     "cell_type": "heading",
     "level": 2,
     "metadata": {},
     "source": [
      "example 4.28, Page No.148"
     ]
    },
    {
     "cell_type": "code",
     "collapsed": false,
     "input": [
      "# Determining the value of Rg\n",
      "\n",
      "import math\n",
      "#Variable declaration\n",
      "Rf = 15.0                # Resistor Rf in k-ohm\n",
      "R1 = 1.0                 # Resistor R1 in k-ohm\n",
      "R2 = 2.0                 # Resistor R2 in k-ohm\n",
      "Vin2 = 5.0*10**-3         # input at non-inverting terminal of A2 \n",
      "Vin1 = 2.0*10**-3         # input at non-inverting terminal of A1 \n",
      "Vout = 3                 # output voltage\n",
      "\n",
      "#Calculations\n",
      "A = Vout/(Vin2-Vin1)\n",
      "Rg = 2*Rf/((A*R1/R2)-1)\n",
      "\n",
      "#Result\n",
      "print(\"Rg = %.2f ohm\"%(Rg*1000))"
     ],
     "language": "python",
     "metadata": {},
     "outputs": [
      {
       "output_type": "stream",
       "stream": "stdout",
       "text": [
        "Rg = 60.12 ohm\n"
       ]
      }
     ],
     "prompt_number": 31
    },
    {
     "cell_type": "heading",
     "level": 2,
     "metadata": {},
     "source": [
      "example 4.29, Page No.149"
     ]
    },
    {
     "cell_type": "code",
     "collapsed": false,
     "input": [
      "print(\"Theoretical example\")"
     ],
     "language": "python",
     "metadata": {},
     "outputs": [
      {
       "output_type": "stream",
       "stream": "stdout",
       "text": [
        "Theoretical example\n"
       ]
      }
     ],
     "prompt_number": 32
    },
    {
     "cell_type": "heading",
     "level": 2,
     "metadata": {},
     "source": [
      "example 4.30, Page No.150"
     ]
    },
    {
     "cell_type": "code",
     "collapsed": false,
     "input": [
      "print(\"Theoretical example\")"
     ],
     "language": "python",
     "metadata": {},
     "outputs": [
      {
       "output_type": "stream",
       "stream": "stdout",
       "text": [
        "Theoretical example\n"
       ]
      }
     ],
     "prompt_number": 33
    },
    {
     "cell_type": "heading",
     "level": 2,
     "metadata": {},
     "source": [
      "example 4.31, Page No. 151"
     ]
    },
    {
     "cell_type": "code",
     "collapsed": false,
     "input": [
      "# 3 op-amp instrumentation amplifier design\n",
      "\n",
      "import math\n",
      "#Variable declaration\n",
      "g = 1.0                   # minimum gain required\n",
      "G = 10000.0               # Maximum gain required\n",
      "pot = 100.0               # potentiometer max value\n",
      "#Calculations\n",
      "A2 = 1.0/5.0             # Assumed gain of second stage\n",
      "R1 = 100.0               # Resistor R1\n",
      "R2 = R1*A2\n",
      "x = ((G/A2)-1)/2         # Rf/Rgb\n",
      "y = ((1/A2)-1)/2\n",
      "Rgb = y*pot/(x-y)\n",
      "Rf = x*Rgb\n",
      "\n",
      "#Result\n",
      "print(\"R1  = %d k-ohm\\nR2  = %d  k-ohm\\nRgb = %d     ohm\\nRf  = %d k-ohm\\n\"%(R1,R2,Rgb*1000,Rf))"
     ],
     "language": "python",
     "metadata": {},
     "outputs": [
      {
       "output_type": "stream",
       "stream": "stdout",
       "text": [
        "R1  = 100 k-ohm\n",
        "R2  = 20  k-ohm\n",
        "Rgb = 8     ohm\n",
        "Rf  = 200 k-ohm\n",
        "\n"
       ]
      }
     ],
     "prompt_number": 42
    },
    {
     "cell_type": "heading",
     "level": 2,
     "metadata": {},
     "source": [
      "example 4.32, Page No.168"
     ]
    },
    {
     "cell_type": "code",
     "collapsed": false,
     "input": [
      "# Value of the current flowing through the Resistor R(Refer fig. 4.106)\n",
      "import math\n",
      "#Variable declartion\n",
      "R2 = 1000.0                # Resistor in series with R\n",
      "Va = Vb = 5.0              # input voltage\n",
      "\n",
      "#Calculations\n",
      "I = Vb/R2\n",
      "\n",
      "#Result\n",
      "print(\"I = %d mA\"%(I*10**3))"
     ],
     "language": "python",
     "metadata": {},
     "outputs": [
      {
       "output_type": "stream",
       "stream": "stdout",
       "text": [
        "I = 5 mA\n"
       ]
      }
     ],
     "prompt_number": 43
    },
    {
     "cell_type": "heading",
     "level": 2,
     "metadata": {},
     "source": [
      "example 4.33, Page No. 169"
     ]
    },
    {
     "cell_type": "code",
     "collapsed": false,
     "input": [
      "# Plot output waveform (refer fig 4.109)\n",
      "##########-------PLOT--------#############\n",
      "\n",
      "\n",
      "%matplotlib inline\n",
      "import matplotlib.pyplot as plt\n",
      "from numpy import arange,sin,pi\n",
      "t = arange(0.0,1.0,0.01)\n",
      "t1 = arange(0.0,3.0,0.01)\n",
      "t2 = arange(0.0,1.0,0.01)\n",
      "t3 = arange(-0.5,0.0,0.01)\n",
      "t4 = arange(-1.0,0.0,0.01)\n",
      "t5 = arange(0.0,0.5,0.01)\n",
      "t6 = arange(1.0,2.0,0.01)\n",
      "\n",
      "plt.axis([0,2.0,-1.5,0.9])\n",
      "plt.plot(t1,t1*0/t1,'b')\n",
      "plt.plot(t,-t*1,'b')\n",
      "plt.plot(t2,-t2*1/t2,'--')\n",
      "plt.plot(t5,-t5*0.5/t5,'--')\n",
      "plt.plot(t3*0.5/t3,t3,'--')\n",
      "plt.plot(t4*1.0/t4,t4,'--')\n",
      "plt.plot(t6,-t6*1/t6,'b')\n",
      "plt.title(\"Output Voltage\")\n",
      "plt.xlabel(\"Time(ms)\")\n",
      "plt.ylabel(\"Vo(t)\")"
     ],
     "language": "python",
     "metadata": {},
     "outputs": [
      {
       "metadata": {},
       "output_type": "pyout",
       "prompt_number": 65,
       "text": [
        "<matplotlib.text.Text at 0xb45df28>"
       ]
      },
      {
       "metadata": {},
       "output_type": "display_data",
       "png": "[encoded data removed]",
       "text": [
        "<matplotlib.figure.Figure at 0xa538080>"
       ]
      }
     ],
     "prompt_number": 65
    },
    {
     "cell_type": "heading",
     "level": 2,
     "metadata": {},
     "source": [
      "example 3.34, Page No. 170"
     ]
    },
    {
     "cell_type": "code",
     "collapsed": false,
     "input": [
      "print(\"Theoretical example\")"
     ],
     "language": "python",
     "metadata": {},
     "outputs": [
      {
       "output_type": "stream",
       "stream": "stdout",
       "text": [
        "Theoretical example\n"
       ]
      }
     ],
     "prompt_number": 66
    },
    {
     "cell_type": "heading",
     "level": 2,
     "metadata": {},
     "source": [
      "example 3.35, Page No. 170"
     ]
    },
    {
     "cell_type": "code",
     "collapsed": false,
     "input": [
      "# output of circuit in fig. 4.111\n",
      "\n",
      "import math\n",
      "#Variable declaration\n",
      "R1 = 1.0              # Resistance to inverting terminal\n",
      "R2 = 2.0              # Resistance to non-inverting terminal\n",
      "Rf = 10.0             # Feedback resistance\n",
      "Rcom = 1.0            # Resistance Rcom\n",
      "V1 = 2.0              # input voltage at inverting terminal \n",
      "V2 = 5.0              # input voltage at non-inverting terminal \n",
      "\n",
      "#Calculations\n",
      "Vo1 = -Rf*V1/R1\n",
      "Vb = V2*Rcom/(R2+Rcom)\n",
      "Vo2 = (1+(Rf/R1))*Vb\n",
      "Vout = Vo1+Vo2\n",
      "\n",
      "#Result\n",
      "print(\"Vo = %.3f V\"%Vout)"
     ],
     "language": "python",
     "metadata": {},
     "outputs": [
      {
       "output_type": "stream",
       "stream": "stdout",
       "text": [
        "Vo = -1.667 V\n"
       ]
      }
     ],
     "prompt_number": 67
    },
    {
     "cell_type": "heading",
     "level": 2,
     "metadata": {},
     "source": [
      "example 4.36, Page No. 170"
     ]
    },
    {
     "cell_type": "code",
     "collapsed": false,
     "input": [
      "# Output voltage of circuit shown in fig. 4.114\n",
      "\n",
      "import math\n",
      "#Variable declaration\n",
      "Rf = 10.0                     # Resistor Rf in k-ohm\n",
      "R1 = 5.0                      # Resistor R1 in k-ohm\n",
      "R2 = 4.0                      # Resistor R2 in k-ohm\n",
      "R3 = 2.0                      # Resistor R3 in k-ohm\n",
      "V1 = 5.0                      # input 1\n",
      "V2 = 2.0                      # input 2\n",
      "V3 = 3.0                      # input 3\n",
      "\n",
      "#Calculations\n",
      "Vout = -((Rf*V1/R1)+(Rf*V2/R2)+(Rf*V3/R3))\n",
      "\n",
      "#Result\n",
      "print(\"Vout = %d V\"%Vout)"
     ],
     "language": "python",
     "metadata": {},
     "outputs": [
      {
       "output_type": "stream",
       "stream": "stdout",
       "text": [
        "Vout = -30 V\n"
       ]
      }
     ],
     "prompt_number": 69
    },
    {
     "cell_type": "heading",
     "level": 2,
     "metadata": {},
     "source": [
      "example 4.37, Page No. 171"
     ]
    },
    {
     "cell_type": "code",
     "collapsed": false,
     "input": [
      "# output Voltage of circuit in fig. 4.116\n",
      "\n",
      "import math\n",
      "#Variable declaration\n",
      "R1 = 2.0              # Resistance to inverting terminal\n",
      "R2 = 1.0              # Resistance to non-inverting terminal\n",
      "Rf = 4.0              # Feedback resistance\n",
      "Rcom = 1.0            # Resistance Rcom\n",
      "V1 = 2.0              # input voltage at non-inverting terminal \n",
      "V2 = 4.0              # input voltage at non-inverting terminal \n",
      "\n",
      "#Calculations\n",
      "Vb1 = V2*R2/(R2+Rcom)\n",
      "Vo1 = (1+(Rf/R1))*Vb1\n",
      "Vb2 = V1*R2/(R2+Rcom)\n",
      "Vo2 = (1+(Rf/R1))*Vb2\n",
      "Vout = Vo1+Vo2\n",
      "\n",
      "#Result\n",
      "print(\"Vo = %d V\"%Vout)"
     ],
     "language": "python",
     "metadata": {},
     "outputs": [
      {
       "output_type": "stream",
       "stream": "stdout",
       "text": [
        "Vo = 9 V\n"
       ]
      }
     ],
     "prompt_number": 72
    },
    {
     "cell_type": "heading",
     "level": 2,
     "metadata": {},
     "source": [
      "example 4.39, Page No. 171"
     ]
    },
    {
     "cell_type": "code",
     "collapsed": false,
     "input": [
      "# output of differential amplifier\n",
      "\n",
      "import math\n",
      "#Variable declaration\n",
      "V1 = 1.0*10**-3          # input voltage 1 \n",
      "V2 = 2.0*10**-3          # input voltage 2 \n",
      "Ad = 5000.0              # differential gain\n",
      "CMRR = 1000.0            # Common Mode Rejection Ratio\n",
      "\n",
      "#Calculations\n",
      "Ac = Ad/CMRR\n",
      "Vd = (V1-V2)\n",
      "Vc = (V1+V2)/2\n",
      "Vout = Ac*Vc+Ad*Vd\n",
      "\n",
      "#Result\n",
      "print(\"Vo = %.4f V\"%Vout)"
     ],
     "language": "python",
     "metadata": {},
     "outputs": [
      {
       "output_type": "stream",
       "stream": "stdout",
       "text": [
        "Vo = -4.9925 V\n"
       ]
      }
     ],
     "prompt_number": 77
    },
    {
     "cell_type": "heading",
     "level": 2,
     "metadata": {},
     "source": [
      "example 4.40, Page No. 172"
     ]
    },
    {
     "cell_type": "code",
     "collapsed": false,
     "input": [
      "# output Voltage of circuit in fig. 4.116\n",
      "\n",
      "import math\n",
      "#Variable declaration\n",
      "R1 = 40.0              # Resistance to inverting terminal\n",
      "R2 = 25.0              # Resistance to inverting terminal\n",
      "Rf = 50.0              # Feedback resistance\n",
      "R3 = 10.0              # Resistance to non-inverting terminal\n",
      "R4 = 20.0              # Resistance to non-inverting terminal\n",
      "Rcom = 30.0             # Resistance Rcom\n",
      "V1 = 1.0              # input voltage at inverting terminal \n",
      "V2 = 2.0              # input voltage at inverting terminal \n",
      "V3 = 3.0              # input voltage at non-inverting terminal \n",
      "V4 = 4.0              # input voltage at non-inverting terminal \n",
      "\n",
      "#Calculations\n",
      "# (i)\n",
      "Vo1 = -(Rf/R1)*V1\n",
      "# (ii)\n",
      "Vo2 = -(Rf/R2)*V2\n",
      "# (iii)\n",
      "R1 = R1*R2/(R1+R2)\n",
      "Vb3 = V3*(Rcom*R4/(Rcom+R4))/(R3+(Rcom*R4/(Rcom+R4)))\n",
      "Vo3 = (1+(Rf/R1))*Vb3\n",
      "Vo3 = math.floor(Vo3*10**4)/10**4\n",
      "# (iv)\n",
      "Vb4 = V4*(Rcom*R3/(Rcom+R3))/(R4+(Rcom*R3/(Rcom+R3)))\n",
      "Vo4 = (1+(Rf/R1))*Vb4\n",
      "Vo4 = math.floor(Vo4*10**4)/10**4\n",
      "\n",
      "Vout = Vo1+Vo2+Vo3+Vo4\n",
      "\n",
      "#Result\n",
      "print(\"Vo = %.4f V\"%Vout)"
     ],
     "language": "python",
     "metadata": {},
     "outputs": [
      {
       "output_type": "stream",
       "stream": "stdout",
       "text": [
        "Vo = 6.3408 V\n"
       ]
      }
     ],
     "prompt_number": 90
    }
   ],
   "metadata": {}
  }
 ]
}