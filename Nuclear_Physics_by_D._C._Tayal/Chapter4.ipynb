{
 "metadata": {
  "name": "",
  "signature": "sha256:a3997772daa49e18a0aa83e11b98c36eeb94107cace4b98c9321fc654338f29e"
 },
 "nbformat": 3,
 "nbformat_minor": 0,
 "worksheets": [
  {
   "cells": [
    {
     "cell_type": "heading",
     "level": 1,
     "metadata": {},
     "source": [
      "Chapter4-Detection and Measurement of Nuclear Reactions"
     ]
    },
    {
     "cell_type": "heading",
     "level": 2,
     "metadata": {},
     "source": [
      "Ex1-pg178"
     ]
    },
    {
     "cell_type": "code",
     "collapsed": false,
     "input": [
      "##  Exa4.1 : : Page 178 (2011)\n",
      "#find The resultant pulse height recorded in the fission chamber\n",
      "import math\n",
      "N = 200e+006/35.;    ## Total number of ion-pairs\n",
      "e = 1.60218e-019;     ## Charge of an ion, coulomb\n",
      "Q = N*e;    ## Total charge produced in the chamber, coulomb\n",
      "C = 25e-012;     ## Capacity of the collector, farad\n",
      "V = Q/C;     ## Resultant pulse height, volt \n",
      "print'%s %.2e %s'%(\"\\nThe resultant pulse height recorded in the fission chamber = \",V,\" volt\");\n",
      "\n",
      "## Result\n",
      "## The resultant pulse height recorded in the fission chamber = 3.66e-002 volt "
     ],
     "language": "python",
     "metadata": {},
     "outputs": [
      {
       "output_type": "stream",
       "stream": "stdout",
       "text": [
        "\n",
        "The resultant pulse height recorded in the fission chamber =  3.66e-02  volt\n"
       ]
      }
     ],
     "prompt_number": 1
    },
    {
     "cell_type": "heading",
     "level": 2,
     "metadata": {},
     "source": [
      "Ex2-pg178"
     ]
    },
    {
     "cell_type": "code",
     "collapsed": false,
     "input": [
      "##  Exa4.2 : : Page 178 (2011)\n",
      "#find The energy of the alpha particles\n",
      "import math; \n",
      "V = 0.8/4.;    ## Pulse height, volt\n",
      "e = 1.60218e-019;     ## Charge of an ion, coulomb\n",
      "C = 0.5e-012;     ## Capacity of the collector, farad\n",
      "Q = V*C;    ## Total charge produced, coulomb\n",
      "N = Q/e;     ## Number of ion pairs \n",
      "E_1 = 35.;    ## Energy of one ion pair, electron volt\n",
      "E = N*E_1/10**6;    ## Energy of the alpha particles, mega electron volt\n",
      "print'%s %.2f %s'%(\"\\nThe energy of the alpha particles = \",E,\" MeV\");\n",
      "\n",
      "## Result\n",
      "## The energy of the alpha particles = 21.845 MeV (The answer is wrong in the textbook)"
     ],
     "language": "python",
     "metadata": {},
     "outputs": [
      {
       "output_type": "stream",
       "stream": "stdout",
       "text": [
        "\n",
        "The energy of the alpha particles =  21.85  MeV\n"
       ]
      }
     ],
     "prompt_number": 2
    },
    {
     "cell_type": "heading",
     "level": 2,
     "metadata": {},
     "source": [
      "Ex3-pg178"
     ]
    },
    {
     "cell_type": "code",
     "collapsed": false,
     "input": [
      "##  Exa4.3 : : Page 178 (2011)\n",
      "#find Total number of ion pairs produced and Total charge flow in the counter\n",
      "import math\n",
      "E = 10e+06;    ## Energy produced by the ion pairs, electron volts \n",
      "N = E/35.;        ## Number of ion pair produced\n",
      "m = 10**3;        ## Multiplication factor\n",
      "N_t = N*m;        ## Total number of ion pairs produced\n",
      "e = 1.60218e-019;  ## Charge of an ion, coulomb\n",
      "Q = N_t*e;         ## Total charge flow in the counter, coulomb\n",
      "t = 10**-3;        ## Pulse time, sec\n",
      "R = 10**4;        ## Resistance , ohm\n",
      "I = Q/t;        ## Current passes through the resistor, ampere\n",
      "V = I*R;        ## Height of the voltage pulse, volt\n",
      "print'%s %.2f %s %.2e %s %.2e %s '%(\"\\nTotal number of ion pairs produced: \",N_t,\"\"and \" \\nTotal charge flow in the counter : \",Q,\" coulomb\"and \"\\nHeight of the voltage pulse :\",V,\" volt\")\n",
      "\n",
      "## Result\n",
      "## Total number of ion pairs produced: 2.857e+008 \n",
      "## Total charge flow in the counter : 4.578e-011 coulomb\n",
      "## Height of the voltage pulse : 4.578e-004 volt "
     ],
     "language": "python",
     "metadata": {},
     "outputs": [
      {
       "output_type": "stream",
       "stream": "stdout",
       "text": [
        "\n",
        "Total number of ion pairs produced:  285714285.71  4.58e-11 \n",
        "Height of the voltage pulse : 4.58e-04  volt \n"
       ]
      }
     ],
     "prompt_number": 3
    },
    {
     "cell_type": "heading",
     "level": 2,
     "metadata": {},
     "source": [
      "Ex4-pg178"
     ]
    },
    {
     "cell_type": "code",
     "collapsed": false,
     "input": [
      "##  Exa4.4 : : Page 178 (2011)\n",
      "#find The radial electric field and The life of the G.M. Counter\n",
      "import math; \n",
      "V = 1000.;    ## Operating voltage of Counter, volt \n",
      "x = 1e-004;        ## Time taken, sec\n",
      "b = 2.;            ## Radius of the cathode, cm\n",
      "a = 0.01;        ## Diameter of the wire, cm\n",
      "E_r = V/(x*math.log(b/a)); ## Radial electric field, V/m\n",
      "C = 1e+009;              ## Total counts in the GM counter\n",
      "T = C/(50.*60.*60.*2000.); ## Life of the G.M. Counter, year\n",
      "print'%s %.2f %s %.2f %s '%(\"\\nThe radial electric field: \",E_r,\"V/m\"and\"\\nThe life of the G.M. Counter : \",T,\" years\");\n",
      "\n",
      "## Result\n",
      "## The radial electric field: 1.89e+006V/m\n",
      "## The life of the G.M. Counter : 2.778 years "
     ],
     "language": "python",
     "metadata": {},
     "outputs": [
      {
       "output_type": "stream",
       "stream": "stdout",
       "text": [
        "\n",
        "The radial electric field:  1887391.66 \n",
        "The life of the G.M. Counter :  2.78  years \n"
       ]
      }
     ],
     "prompt_number": 4
    },
    {
     "cell_type": "heading",
     "level": 2,
     "metadata": {},
     "source": [
      "Ex5-pg178"
     ]
    },
    {
     "cell_type": "code",
     "collapsed": false,
     "input": [
      "##  Exa4.5 : : Page 178 (2011)\n",
      "import math; \n",
      "#find The avalanche voltage in G.M. tube\n",
      "I = 15.7;    ## Ionisation potential of argon, eV\n",
      "b = 0.025;            ## Radius of the cathode, metre\n",
      "a = 0.006e-02;        ## Radius of the wire, metre\n",
      "L = 7.8e-06;     ## Mean free path, metre\n",
      "V = round(I*a*math.log(b/a)/L);    ## Avalanche voltage in G.M. tube, volt\n",
      "print'%s %.2f %s'%(\"\\nThe avalanche voltage in G.M. tube = \",V,\" volt\");\n",
      "\n",
      "## Result\n",
      "## The avalanche voltage in G.M. tube = 729 volt "
     ],
     "language": "python",
     "metadata": {},
     "outputs": [
      {
       "output_type": "stream",
       "stream": "stdout",
       "text": [
        "\n",
        "The avalanche voltage in G.M. tube =  729.00  volt\n"
       ]
      }
     ],
     "prompt_number": 5
    },
    {
     "cell_type": "heading",
     "level": 2,
     "metadata": {},
     "source": [
      "Ex6-pg179"
     ]
    },
    {
     "cell_type": "code",
     "collapsed": false,
     "input": [
      "##  Exa4.6 :  : Page 179 (2011)\n",
      "#find The voltage fluctuation GM tube\n",
      "import math; \n",
      "C_r = 0.1e-02;     ## Counting rate of GM tube\n",
      "S = 3.;             ## Slope of the curve\n",
      "V = C_r*100*100/S;       ## Voltage fluctuation, volt\n",
      "print'%s %.2f %s'%(\"\\nThe voltage fluctuation GM tube = \",V,\" volt\");\n",
      "\n",
      "## Result\n",
      "## The voltage fluctuation GM tube = 3.33 volt "
     ],
     "language": "python",
     "metadata": {},
     "outputs": [
      {
       "output_type": "stream",
       "stream": "stdout",
       "text": [
        "\n",
        "The voltage fluctuation GM tube =  3.33  volt\n"
       ]
      }
     ],
     "prompt_number": 6
    },
    {
     "cell_type": "heading",
     "level": 2,
     "metadata": {},
     "source": [
      "Ex7-pg179"
     ]
    },
    {
     "cell_type": "code",
     "collapsed": false,
     "input": [
      "##  Exa4.7 : : Page-179 (2011)\n",
      "#find Time measurement for actual count and Time measurement for backward count\n",
      "import math; \n",
      "R_t = 100.;        ## Actual count rate, per sec\n",
      "R_B = 25.;         ## Backward count rate, per sec\n",
      "V_S = 0.03;        ## Coefficient of variation\n",
      "R_S = R_t-R_B;        ## Source counting rate,per sec\n",
      "T_t = (R_t+math.sqrt(R_t*R_B))/(V_S**2*R_S**2);   ## Time measurement for actual count, sec\n",
      "T_B = T_t*math.sqrt(R_B/R_t);       ## Time measurement for backward count, sec\n",
      "print'%s %.2f %s  %.2f %s '%(\"\\nTime measurement for actual count : \",T_t,\" sec\"and \" \\nTime measurement for backward count : \",T_B,\" sec\");\n",
      "\n",
      "## Result\n",
      "##  Time measurement for actual count : 29.630 sec \n",
      "##  Time measurement for backward count : 14.8 sec"
     ],
     "language": "python",
     "metadata": {},
     "outputs": [
      {
       "output_type": "stream",
       "stream": "stdout",
       "text": [
        "\n",
        "Time measurement for actual count :  29.63  \n",
        "Time measurement for backward count :   14.81  sec \n"
       ]
      }
     ],
     "prompt_number": 7
    },
    {
     "cell_type": "heading",
     "level": 2,
     "metadata": {},
     "source": [
      "Ex8-pg179"
     ]
    },
    {
     "cell_type": "code",
     "collapsed": false,
     "input": [
      "##  Exa4.8 : : Page-179 (2011)\n",
      "#find The capacitance of the detector and The capacitance of the detector \n",
      "import math; \n",
      "A = 1.5e-4;           ## Area of capacitor plates, square metre\n",
      "K = 12.;               ## Dielectric constant\n",
      "D = K*8.8542e-012;   ## Electrical permittivity of the medium, per newton-metre-square coulomb square\n",
      "x = 50e-06;           ## Width of depletion layer, metre\n",
      "C = A*D/x*10**12;      ## Capacitance of the silicon detector, pF\n",
      "E = 4.5e+06;          ## Energy produced by the ion pairs, eV\n",
      "N = E/3.5;            ## Number of ion pairs\n",
      "e = 1.60218e-019;     ## Charge of each ion, coulomb\n",
      "Q = N*e;              ## Total charge, coulomb\n",
      "V = Q/C*10**12;        ##  Potential applied across the capacitor, volt\n",
      "print'%s %.2f %s %.2e %s '%(\"\\nThe capacitance of the detector : \",C,\" pF\"and \"\\nThe capacitance of the detector : \",V,\" volt\");\n",
      "\n",
      "## Result\n",
      "## The capacitance of the detector : 318.75 pF\n",
      "## The potential applied across the capacitor : 6.46e-004 volt \n"
     ],
     "language": "python",
     "metadata": {},
     "outputs": [
      {
       "output_type": "stream",
       "stream": "stdout",
       "text": [
        "\n",
        "The capacitance of the detector :  318.75 \n",
        "The potential applied across the capacitor :  6.46e-04  volt \n"
       ]
      }
     ],
     "prompt_number": 8
    },
    {
     "cell_type": "heading",
     "level": 2,
     "metadata": {},
     "source": [
      "Ex9-pg180"
     ]
    },
    {
     "cell_type": "code",
     "collapsed": false,
     "input": [
      "##  Exa4.9 : : Page-180 (2011)\n",
      "#find The statistical error of the measured ratio\n",
      "import math\n",
      "N_A = 1000.;        ## Number of count observed for radiation A\n",
      "N_B = 2000.;        ## Number of count observed for radiation B\n",
      "r = N_A/N_B;        ## Ratio of count A to the count B\n",
      "E_r = math.sqrt(1./N_A+1./N_B);        ## Statistical error \n",
      "print'%s %.2f %s'%(\"\\nThe statistical error of the measured ratio = \", E_r*r,\"\");\n",
      "\n",
      "## Result\n",
      "## The statistical error of the measured ratio = 0.02 (Wrong answer in the textbook)"
     ],
     "language": "python",
     "metadata": {},
     "outputs": [
      {
       "output_type": "stream",
       "stream": "stdout",
       "text": [
        "\n",
        "The statistical error of the measured ratio =  0.02 \n"
       ]
      }
     ],
     "prompt_number": 9
    },
    {
     "cell_type": "heading",
     "level": 2,
     "metadata": {},
     "source": [
      "Ex10-pg180"
     ]
    },
    {
     "cell_type": "code",
     "collapsed": false,
     "input": [
      "##  Exa4.10 : : Page 180 (2011)\n",
      "#find The charge collected at the anode of photo multiplier tube\n",
      "import math; \n",
      "E = 4e+006;        ## Energy lost in the scintillator, eV\n",
      "N_pe = E/10**2*0.5*0.1;        ## Number of photoelectrons emitted\n",
      "G = 10**6;                     ## Gain of photomultiplier tube\n",
      "e = 1.6e-019;                 ## Charge of the electron, C\n",
      "Q = N_pe*G*e;                 ## Charge collected at the anode of photo multiplier tube, C\n",
      "print'%s %.4e %s'%(\"\\nThe charge collected at the anode of photo multiplier tube : \",Q,\" C\");\n",
      "\n",
      "## Result\n",
      "## The charge collected at the anode of photo multiplier tube : 3.2000e-010 C "
     ],
     "language": "python",
     "metadata": {},
     "outputs": [
      {
       "output_type": "stream",
       "stream": "stdout",
       "text": [
        "\n",
        "The charge collected at the anode of photo multiplier tube :  3.2000e-10  C\n"
       ]
      }
     ],
     "prompt_number": 10
    },
    {
     "cell_type": "heading",
     "level": 2,
     "metadata": {},
     "source": [
      "Ex11-pg180"
     ]
    },
    {
     "cell_type": "code",
     "collapsed": false,
     "input": [
      "##  Exa11 : : Page 180 (2011)\n",
      "#find Charge collected at the anode of photo multiplier tube\n",
      "E = 4e+06;        ## Energy lost in the scintillator, eV\n",
      "N_pe = E/10**2*0.5*0.1;        ## Number of photoelectrons emitted\n",
      "G = 10**6;                     ## Gain\n",
      "e = 1.6e-019;                 ## Charge of the electron, C\n",
      "Q = N_pe*G*e;                    ## Charge collected at the anode of photo multiplier tube, C\n",
      "print'%s %.4e %s'%(\"\\nCharge collected at the anode of photo multiplier tube : \",Q,\" C\");\n",
      "## Result\n",
      "##  Charge collected at the anode of photo multiplier tube : 3.2000e-010 C "
     ],
     "language": "python",
     "metadata": {},
     "outputs": [
      {
       "output_type": "stream",
       "stream": "stdout",
       "text": [
        "\n",
        "Charge collected at the anode of photo multiplier tube :  3.2000e-10  C\n"
       ]
      }
     ],
     "prompt_number": 11
    },
    {
     "cell_type": "heading",
     "level": 2,
     "metadata": {},
     "source": [
      "Ex12-pg181"
     ]
    },
    {
     "cell_type": "code",
     "collapsed": false,
     "input": [
      "##  Exa4.12 : : Page 181 (2011)\n",
      "#find Standard deviation of the reading\n",
      "## Defining an array\n",
      "import math;\n",
      "import numpy\n",
      "n = numpy.zeros((6,1)); ## Declare the cell matrix of 1X6 \n",
      "n[0,0] = 10000;\n",
      "n[1,0]= 10200;\n",
      "n[2,0] = 10400;\n",
      "n[3,0] = 10600;\n",
      "n[4,0] = 10800;\n",
      "n[5,0] = 11000;\n",
      "g = 0.; ## \n",
      "k = 6;\n",
      "H = 0.;\n",
      "for i in (0,k-1):\n",
      "    g = g + n[i,0]\n",
      "\n",
      "N = g/k; ## Mean of the count\n",
      "D = math.sqrt(N);\n",
      "for i in range (0,k-1):\n",
      " H = H+((n[i,0]-N)*(n[i,0]-N))   \n",
      "\n",
      "S_D = round(math.sqrt(H/(k-1)));\n",
      "print'%s %.2f %s'%(\"\\nStandard deviation of the reading  : \", S_D,\"\");\n",
      "delta_N = math.sqrt(N);\n",
      "if (S_D > delta_N) :\n",
      "    print(\"\\nThe foil cannot be considered uniform..!\");\n",
      "else:\n",
      "    print(\"\\nThe foil can be considered uniform.\");\n",
      "\n",
      "\n",
      "## Result\n",
      "## Standard deviation of the reading  : 374\n",
      "## The foil cannot be considered uniform..! "
     ],
     "language": "python",
     "metadata": {},
     "outputs": [
      {
       "output_type": "stream",
       "stream": "stdout",
       "text": [
        "\n",
        "Standard deviation of the reading  :  6906.00 \n",
        "\n",
        "The foil cannot be considered uniform..!\n"
       ]
      }
     ],
     "prompt_number": 4
    },
    {
     "cell_type": "heading",
     "level": 2,
     "metadata": {},
     "source": [
      "Ex13-pg181"
     ]
    },
    {
     "cell_type": "code",
     "collapsed": false,
     "input": [
      "##  Exa4.13 : : Page 181 (2011)\n",
      "#findNo. of electrons in the output\n",
      "import math\n",
      "V = 2e-03;         ## Voltage impulse, volt\n",
      "C = 120e-012;    ## Capacitance of the capacitor, F\n",
      "e = 1.6e-019;    ## Charge of the electron, C\n",
      "n = C*V/(15.*e);     ## No. of electons\n",
      "N = n**(1/10.);     ## No. of electrons in the output\n",
      "print'%s %.2f %s'%(\"\\nNo. of electrons in the output : \",N,\" (approx)\");\n",
      "\n",
      "## Result\n",
      "## No. of electrons in the output : 3.16 (approx) "
     ],
     "language": "python",
     "metadata": {},
     "outputs": [
      {
       "output_type": "stream",
       "stream": "stdout",
       "text": [
        "\n",
        "No. of electrons in the output :  3.16  (approx)\n"
       ]
      }
     ],
     "prompt_number": 13
    },
    {
     "cell_type": "heading",
     "level": 2,
     "metadata": {},
     "source": [
      "Ex14-pg181"
     ]
    },
    {
     "cell_type": "code",
     "collapsed": false,
     "input": [
      "##  Exa4.14 : : Page 181 (2011)\n",
      "#find Time of flight of proton and Time of flight of electron\n",
      "import math\n",
      "m_p = 0.938;    ## Mass of the proton, GeV\n",
      "E = 1.4;        ## Total energy of proton, GeV\n",
      "gama = E/m_p;     ## Boost parameter\n",
      "bta = math.sqrt(1-1/gama**2);    ## Relativistic factor\n",
      "d = 10.;        ## Distance between two counters,m\n",
      "C = 3e+08;     ## Velocity of light ,m/s\n",
      "t_p = d/(bta*C);    ## Time of flight of proton ,sec\n",
      "T_e = d/C;        ## Time of flight of electron, sec\n",
      "print'%s %.2f %s %.2f %s '%(\"\\nTime of flight of proton: \",t_p/1e-009,\" ns\"and \" \\nTime of flight of electron : \",T_e/1e-009,\" ns \");\n",
      "\n",
      "## Result\n",
      "## Time of flight of proton: 44.90 ns \n",
      "## Time of flight of electron : 33.33 ns  "
     ],
     "language": "python",
     "metadata": {},
     "outputs": [
      {
       "output_type": "stream",
       "stream": "stdout",
       "text": [
        "\n",
        "Time of flight of proton:  44.90  \n",
        "Time of flight of electron :  33.33  ns  \n"
       ]
      }
     ],
     "prompt_number": 14
    },
    {
     "cell_type": "heading",
     "level": 2,
     "metadata": {},
     "source": [
      "Ex15-pg182"
     ]
    },
    {
     "cell_type": "code",
     "collapsed": false,
     "input": [
      "##  Exa4.15 : : Page 182 (2011)\n",
      "#find The fractional error in rest mass of the particle\n",
      "import math;\n",
      "p = 100.;        ## Momentum of the particle, GeV\n",
      "n = 1+1.35e-04;    ## Refractive index of the gas \n",
      "m_0 = 1.;         ## Mass, GeV per square coulomb\n",
      "gama = math.sqrt((p**2+m_0**2)/m_0);     ## Boost parameter\n",
      "bta = math.sqrt (1-1/gama**2);        ## Relativistic parameter\n",
      "d_theta = 1e-003;    ## Error in the emission angle, radian\n",
      "theta = math.acos(1/(n*bta));         ## Emision angle of photon, radian \n",
      "F_err = (p**2*n**2*2*theta*10**-3)/(2*m_0**2);        ## Fractional error\n",
      "print'%s %.2f %s'%(\"\\nThe fractional error in rest mass of the particle =  \", F_err,\"\");\n",
      "\n",
      "## Result \n",
      "## The fractional error in rest mass of the particle =  0.13 "
     ],
     "language": "python",
     "metadata": {},
     "outputs": [
      {
       "output_type": "stream",
       "stream": "stdout",
       "text": [
        "\n",
        "The fractional error in rest mass of the particle =   0.13 \n"
       ]
      }
     ],
     "prompt_number": 15
    },
    {
     "cell_type": "heading",
     "level": 2,
     "metadata": {},
     "source": [
      "Ex16-pg182"
     ]
    },
    {
     "cell_type": "code",
     "collapsed": false,
     "input": [
      "##  Exa4.16 : : Page 182 (2011)\n",
      "#find The total number of quantas during emission of visible light\n",
      "import math;\n",
      "u = 1.49;        ## Refractive index\n",
      "E = 20*1.60218e-019;        ## Energy of the electron, joule\n",
      "m_e = 9.1e-031;            ## Mass of the electron, Kg\n",
      "C = 3e-08;                ## Velocity of the light, m/s\n",
      "bta = (1 + (1/(E/(m_e*C**2)+1))**2 );   ## Boost parameter\n",
      "z = 1.;         ## \n",
      "L_1 = 4000e-010;            ## Initial wavelength, metre\n",
      "L_2 = 7000e-010;            ## Final wavelength, metre\n",
      "N = 2*math.pi*z**2/137.*(1./L_1-1./L_2)*(1-1./(bta**2*u**2));        ## Number of quanta of visible light, quanta per centimetre\n",
      "print'%s %.2f %s'%(\"\\nThe total number of quantas during emission of visible light = \", round(N/100),\"quanta/cm\");\n",
      "\n",
      "## Result \n",
      "## The total number of quantas during emission of visible light = 270 quanta/cm "
     ],
     "language": "python",
     "metadata": {},
     "outputs": [
      {
       "output_type": "stream",
       "stream": "stdout",
       "text": [
        "\n",
        "The total number of quantas during emission of visible light =  270.00 quanta/cm\n"
       ]
      }
     ],
     "prompt_number": 16
    }
   ],
   "metadata": {}
  }
 ]
}