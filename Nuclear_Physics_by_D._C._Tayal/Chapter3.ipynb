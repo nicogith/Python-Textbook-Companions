{
 "metadata": {
  "name": "",
  "signature": "sha256:0f490ccea3b13c889d4ee8d26efe8421ceedda6e18896bd5d0ed1b94aaa5c5de"
 },
 "nbformat": 3,
 "nbformat_minor": 0,
 "worksheets": [
  {
   "cells": [
    {
     "cell_type": "heading",
     "level": 1,
     "metadata": {},
     "source": [
      "Chapter3-Interaction of Nuclear radiations with matter"
     ]
    },
    {
     "cell_type": "heading",
     "level": 2,
     "metadata": {},
     "source": [
      "Ex1-pg123"
     ]
    },
    {
     "cell_type": "code",
     "collapsed": false,
     "input": [
      "##  Exa3.1 : : Page-123 (2011)\n",
      "#find range of an alpha particle and metre the thickness\n",
      "E = 9.;    ## Energy of the alpha particle, MeV\n",
      "S = 1700.; ##  Stopping power of Al\n",
      "D = 2700.; ## Density of Al, Kg per cubic metre\n",
      "R_air = 0.00318*E**(3/2.); ## Range of an alpha particle in air,metre\n",
      "R_Al =  R_air/S; ## Range of an alpha particle in Al, metre\n",
      "T = D*1./S; ## Thickness in Al of 1m air, Kg per square metre\n",
      "print\"%s %.2e %s %.2f %s \"%(\"The range of an alpha particle = \",R_Al,\" metre The thickness in Al of 1 m air =\",T,\" Kg per square metre\");\n",
      "\n",
      "## Result\n",
      "## The range of an alpha particle = 5.05e-05 metre \n",
      "## The thickness in Al of 1 m air = 1.59 Kg per square metre \n"
     ],
     "language": "python",
     "metadata": {},
     "outputs": [
      {
       "output_type": "stream",
       "stream": "stdout",
       "text": [
        "The range of an alpha particle =  5.05e-05  metre The thickness in Al of 1 m air = 1.59  Kg per square metre \n"
       ]
      }
     ],
     "prompt_number": 1
    },
    {
     "cell_type": "heading",
     "level": 2,
     "metadata": {},
     "source": [
      "Ex4-pg124"
     ]
    },
    {
     "cell_type": "code",
     "collapsed": false,
     "input": [
      "##  Exa3.4: : Page-124 (2011)\n",
      "#find the haif value thickness for beta absorptions\n",
      "import math\n",
      "E_max = 1.17; ## Maximum energy of the beta particle, mega electron volts\n",
      "D = 2.7; ## Density of Al,gram per cubic metre\n",
      "u_m = 22./E_max; ## Mass absorption coefficient,centimetre square per gram\n",
      "x_h = math.log(2.)/(u_m*D); ## Half value thickness for beta absorption, cm\n",
      "print'%s %.2f %s'%(\"The Half value thickness for beta absorption = \",x_h,\" cm\"); \n",
      "\n",
      "## Result \n",
      "## The Half value thickness for beta absorption = 0.014 cm \n"
     ],
     "language": "python",
     "metadata": {},
     "outputs": [
      {
       "output_type": "stream",
       "stream": "stdout",
       "text": [
        "The Half value thickness for beta absorption =  0.01  cm\n"
       ]
      }
     ],
     "prompt_number": 2
    },
    {
     "cell_type": "heading",
     "level": 2,
     "metadata": {},
     "source": [
      "Ex7-pg125"
     ]
    },
    {
     "cell_type": "code",
     "collapsed": false,
     "input": [
      "##  Exa3.7: : Page 125(2011)\n",
      "#calculate ratio of raditon loss to ionisation\n",
      "Z = 82.;    ## Atomic number\n",
      "E = 1.; ## Energy of the beta paricle, MeV\n",
      "I_l = 800.;     ## Ionisation loss, MeV\n",
      "R = Z*E/I_l;     ## Ratio of radiation loss to ionisation loss\n",
      "E_1 = I_l/Z;     ## Energy of the beta particle when radiation radiation loss is equal to ionisation loss, MeV\n",
      "\n",
      "print'%s %.2e %s %.2f %s '%(\"The ratio of radiation loss to ionisation loss =\",R,\"  The energy of the beta particle = \",E_1,\" MeV \");\n",
      "\n",
      "## Result\n",
      "## The ratio of radiation loss to ionisation loss = 1.025e-01  \n",
      "## The energy of the beta particle = 9.76 MeV  \n"
     ],
     "language": "python",
     "metadata": {},
     "outputs": [
      {
       "output_type": "stream",
       "stream": "stdout",
       "text": [
        "The ratio of radiation loss to ionisation loss = 1.02e-01   The energy of the beta particle =  9.76  MeV  \n"
       ]
      }
     ],
     "prompt_number": 3
    },
    {
     "cell_type": "heading",
     "level": 2,
     "metadata": {},
     "source": [
      "Ex8-pg125"
     ]
    },
    {
     "cell_type": "code",
     "collapsed": false,
     "input": [
      "##  Exa3.8 : : Page 125(2011)\n",
      "#find The half value thickness of Al and The mass absorption coefficient\n",
      "import math\n",
      "x = 0.25;     ## Thickness of Al, metre\n",
      "U_l = 1./x*math.log(50.);     ## Linear  absorption coefficient\n",
      "d = 2700.;             ## density of the Al, Kg per cubic centimetre \n",
      "x_h = math.log(2.)/U_l;     ## Half value thickness of Al, metre\n",
      "U_m =  U_l/d;         ## Mass absorption coefficient, square metre per Kg\n",
      "print'%s %.2f %s %.3f %s'%(\"The half value thickness of Al = \",x_h,\" Kg per cubic metre The mass absorption coefficient = \",U_m,\" square metre per Kg \");\n",
      "\n",
      "## Result\n",
      "## The half value thickness of Al = 0.0443 Kg per cubic metre \n",
      "## The mass absorption coefficient = 0.00580 square metre per Kg  \n"
     ],
     "language": "python",
     "metadata": {},
     "outputs": [
      {
       "output_type": "stream",
       "stream": "stdout",
       "text": [
        "The half value thickness of Al =  0.04  Kg per cubic metre The mass absorption coefficient =  0.006  square metre per Kg \n"
       ]
      }
     ],
     "prompt_number": 4
    },
    {
     "cell_type": "heading",
     "level": 2,
     "metadata": {},
     "source": [
      "Ex9-pg125"
     ]
    },
    {
     "cell_type": "code",
     "collapsed": false,
     "input": [
      "##  Exa3.9 : : Page-125(2011)\n",
      "#find The energy of the compton recoil electrons\n",
      "import math\n",
      "E_g = 2.19*1.6e-013; ## Energy of the gamma rays, joule\n",
      "m_e = 9.10939e-031; ## Mass of the electron, Kg\n",
      "C = 3e+08; ## Velocity of light, m/s\n",
      "E_max = (E_g/(1.+(m_e*C**2)/(2.*E_g)))/(1.6e-013); ## Energy of the compton recoil electron, MeV\n",
      "print\"%s %.2f %s\"%(\"The energy of the compton recoil electrons = \",E_max,\" MeV\"); \n",
      "\n",
      "## Result \n",
      "## The energy of the compton recoil electrons = 1.961 MeV\n"
     ],
     "language": "python",
     "metadata": {},
     "outputs": [
      {
       "output_type": "stream",
       "stream": "stdout",
       "text": [
        "The energy of the compton recoil electrons =  1.96  MeV\n"
       ]
      }
     ],
     "prompt_number": 5
    },
    {
     "cell_type": "heading",
     "level": 2,
     "metadata": {},
     "source": [
      "Ex10-pg125"
     ]
    },
    {
     "cell_type": "code",
     "collapsed": false,
     "input": [
      "## Exa3.10 : : Page-125(2011)\n",
      "#find The average energy of the positron \n",
      "m_e = 9.1e-31;    ## Mass of the positron, Kg\n",
      "e = 1.6e-19;        ## Charge of the positron, coulomb\n",
      "c = 3e+08;            ## Velocity of the light, metre per sec\n",
      "eps = 8.85e-12;        ## Absolute permittivity of free space, per N per metre-square per coulomb square\n",
      "h = 6.6e-34;        ## Planck's constant, joule sec\n",
      "E = e**2.*m_e*c/(eps*h*1.6e-13);        ## Average energy of the positron, mega electron volts\n",
      "print'%s %.2f %s'%(\"The average energy of the positron = \",E,\"Z MeV\");\n",
      "\n",
      "## Result\n",
      "## The average energy of the positron = 0.0075Z MeV \n"
     ],
     "language": "python",
     "metadata": {},
     "outputs": [
      {
       "output_type": "stream",
       "stream": "stdout",
       "text": [
        "The average energy of the positron =  0.01 Z MeV\n"
       ]
      }
     ],
     "prompt_number": 6
    },
    {
     "cell_type": "heading",
     "level": 2,
     "metadata": {},
     "source": [
      "Ex11-pg125"
     ]
    },
    {
     "cell_type": "code",
     "collapsed": false,
     "input": [
      "## Exa3.11 : : Page-125(2011)\n",
      "#find The refractive index of the gas and The angle at which Cerenkov radiation is emitted \n",
      "import math\n",
      "P = 1.;     ## Momentum of the proton, GeV/c\n",
      "M_0 = 0.94;    ## Rest mass of the proton, GeV/c-square\n",
      "G = math.sqrt((P/M_0)**2.+1.) ## Lorentz factor\n",
      "V = math.sqrt(1.-1./G**2.);     ## Minimum velocity of the electron, m/s\n",
      "u = 1/V;     ## Refractive index of the gas\n",
      "print'%s %.2f %s'%(\"The refractive index of the gas =\", u,\"\"); \n",
      "u = 1.6;     ## Refractive index\n",
      "theta = round (math.acos(1/(u*V))*180/3.14);     ## Angle at which cerenkov radiatin is emitted,degree\n",
      "print'%s %.2f %s'%(\"The angle at which Cerenkov radiation is emitted =\",theta,\" degree\") \n",
      "\n",
      "## Result \n",
      "##  The refractive index of the gas = 1.37\n",
      "## The angle at which Cerenkov radiation is emitted = 31 degree \n"
     ],
     "language": "python",
     "metadata": {},
     "outputs": [
      {
       "output_type": "stream",
       "stream": "stdout",
       "text": [
        "The refractive index of the gas = 1.37 \n",
        "The angle at which Cerenkov radiation is emitted = 31.00  degree"
       ]
      },
      {
       "output_type": "stream",
       "stream": "stdout",
       "text": [
        "\n"
       ]
      }
     ],
     "prompt_number": 7
    },
    {
     "cell_type": "heading",
     "level": 2,
     "metadata": {},
     "source": [
      "Ex12-pg126"
     ]
    },
    {
     "cell_type": "code",
     "collapsed": false,
     "input": [
      "## Exa3.12 : : Page-126(2011)\n",
      "#find The minimum kinetic energy required to  electron to emit cerenkov radiation\n",
      "import math\n",
      "n = 1+1.35e-04; ## Refractive index of the medium\n",
      "V_min = 1./n; ## Minimum velocity of the electron, m/s\n",
      "p = (1.+V_min)*(1.-V_min); ## It is nothing but just to take the product \n",
      "G_min = 1./math.sqrt(p); ## Lorentz  factor\n",
      "m_e = 9.10939e-031; ## Mass of the electron, Kg\n",
      "C = 3e+08; ## Velocity of light, metre per  sec\n",
      "T_min = ((G_min-1.)*m_e*C**2.)/(1.602e-013); ## Minimum kinetic energy required by an  electro to emit cerenkov radiation, mega electron volts\n",
      "print'%s %.2f %s'%(\"The minimum kinetic energy required to  electron to emit cerenkov radiation = \",T_min,\" MeV\");\n",
      " \n",
      "## Result \n",
      "## The minimum kinetic energy required to  electron to emit cerenkov radiation = 30.64 MeV \n"
     ],
     "language": "python",
     "metadata": {},
     "outputs": [
      {
       "output_type": "stream",
       "stream": "stdout",
       "text": [
        "The minimum kinetic energy required to  electron to emit cerenkov radiation =  30.64  MeV\n"
       ]
      }
     ],
     "prompt_number": 8
    }
   ],
   "metadata": {}
  }
 ]
}