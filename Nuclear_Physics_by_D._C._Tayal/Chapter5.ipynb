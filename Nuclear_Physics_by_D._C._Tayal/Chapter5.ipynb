{
 "metadata": {
  "name": "",
  "signature": "sha256:5bd75b768cbef982b8c705dbf643c0d6d3b446f1e0997915eea25d6d1e7b9a2f"
 },
 "nbformat": 3,
 "nbformat_minor": 0,
 "worksheets": [
  {
   "cells": [
    {
     "cell_type": "heading",
     "level": 1,
     "metadata": {},
     "source": [
      "Chapter5-Alpha particles"
     ]
    },
    {
     "cell_type": "heading",
     "level": 2,
     "metadata": {},
     "source": [
      "Ex1-pg203"
     ]
    },
    {
     "cell_type": "code",
     "collapsed": false,
     "input": [
      "## Exa5.1 : : Page 203 (2011)\n",
      "#find Disintegration energy and Barrier height for alpha-particle\n",
      "import math\n",
      "E_a = 8.766;    ## Energy of the alpha particle, MeV\n",
      "A = 212.;          ## Atomic mass of Po-212, amu\n",
      "M_a = 4.;         ## Atomic mass of alpha particle, amu\n",
      "e = 1.6e-019;        ## Charge of an electron, coulomb\n",
      "Z = 82.;                ## Atomic number of Po-212\n",
      "R_0 = 1.4e-015;        ## Distance of closest approach,metre\n",
      "K = 8.99e+09;            ## Coulomb constant\n",
      "E = E_a*A/(A-M_a);    ## Disintegration energy, mega electron volts\n",
      "B_H = 2.*Z*e**2.*K/(R_0*A**(1./3.)*1.6*10**-13.);    ## Barrier height for an alpha particle within the nucleus, MeV\n",
      "print\"%s %.3f %s  %.3f %s \"%(\"Disintegration energy :\",E,\" MeV Barrier height for alpha-particle: \",B_H,\" MeV\");\n",
      "\n",
      "## Result\n",
      "## Disintegration energy : 8.935 MeV \n",
      "## Barrier height for alpha-particle: 28.26 MeV "
     ],
     "language": "python",
     "metadata": {},
     "outputs": [
      {
       "output_type": "stream",
       "stream": "stdout",
       "text": [
        "Disintegration energy : 8.935  MeV Barrier height for alpha-particle:   28.259  MeV \n"
       ]
      }
     ],
     "prompt_number": 1
    },
    {
     "cell_type": "heading",
     "level": 2,
     "metadata": {},
     "source": [
      "Ex2-pg203"
     ]
    },
    {
     "cell_type": "code",
     "collapsed": false,
     "input": [
      "## Exa5.2 : : Page 203 (2011)\n",
      "## We have to make calculation for alpha particle and for  proton\n",
      "import math\n",
      "E_a = 8.766;     ## Energy of the alpha particle, mega electron volts\n",
      "A_Bi = 209.;      ## Atomic mass of Bi-209, atomic mass unit\n",
      "A_a = 4.;         ## Atomic mass of alpha particle, atomic mass unit\n",
      "A_p = 1.;         ## Atomic mass of proton, atomic mass unit\n",
      "e = 1.6e-019;    ## Charge of an electron, coulomb\n",
      "Z = 83.;          ## Atomic number of bismuth\n",
      "R_0 = 1.4e-015;  ## Distance of closest approach,metre\n",
      "K = 8.99e+09;    ## Coulomb constant\n",
      "B_H_a = 2.*Z*e**2.*K/(R_0*1.6e-013*(A_Bi**(1/3.)+A_a**(1/3.)));    ## Barrier height for an alpha particle, mega electron volts\n",
      "B_H_p = 1.*Z*e**2.*K/(R_0*1.6e-013*(A_Bi**(1/3.)+A_p**(1/3.)));    ## Barrier height for proton, mega electron volts\n",
      "print'%s %.2f %s %.2f %s'%(\"Barrier height for the alpha particle =\",B_H_a,\" MeV Barrier height for the proton = \",B_H_p,\" MeV\");\n",
      "\n",
      "## Result\n",
      "## Barrier height for the alpha particle = 22.67 MeV \n",
      "## Barrier height for the proton = 12.30 MeV "
     ],
     "language": "python",
     "metadata": {},
     "outputs": [
      {
       "output_type": "stream",
       "stream": "stdout",
       "text": [
        "Barrier height for the alpha particle = 22.67  MeV Barrier height for the proton =  12.30  MeV\n"
       ]
      }
     ],
     "prompt_number": 2
    },
    {
     "cell_type": "heading",
     "level": 2,
     "metadata": {},
     "source": [
      "Ex3-pg203"
     ]
    },
    {
     "cell_type": "code",
     "collapsed": false,
     "input": [
      "## Exa5.3 : : Page 203 (2011)\n",
      "## We have also calculate the value of magnetic field in a particular orbit. \n",
      "import math\n",
      "C = 3e+08;                ## Velocity of light, m/S\n",
      "M_0 = 6.644e-027*(C)**2/(1.60218e-013);        ## Rest mass of alpha particle, MeV\n",
      "T = 5.998;                ## Kinetic energy of alpha particle emitted by Po-218\n",
      "q = 2*1.60218e-019;        ## Charge of alpha particle, C\n",
      "V = math.sqrt(C**2*T*(T+2*M_0)/(T+M_0)**2);            ## Velocity of alpha particle,metre per sec\n",
      "B_r = V*M_0*(1.60218e-013)/(C**2.*q*math.sqrt(1-V**2./C**2.));                ## magnetic field in a particular orbit, Web per mtere\n",
      "print'%s %.2e %s %.2f %s '%(\"The velocity of alpha particle : \",V,\" m/sThe magnetic field in a particular orbit :\",B_r,\" Wb/m\");\n",
      "\n",
      "## Result\n",
      "## The velocity of alpha particle : 1.699e+007 m/s\n",
      "## The magnetic field in a particular orbit : 0.3528 Wb/m"
     ],
     "language": "python",
     "metadata": {},
     "outputs": [
      {
       "output_type": "stream",
       "stream": "stdout",
       "text": [
        "The velocity of alpha particle :  1.70e+07  m/sThe magnetic field in a particular orbit : 0.35  Wb/m \n"
       ]
      }
     ],
     "prompt_number": 3
    },
    {
     "cell_type": "heading",
     "level": 2,
     "metadata": {},
     "source": [
      "Ex4-pg204"
     ]
    },
    {
     "cell_type": "code",
     "collapsed": false,
     "input": [
      "## Exa5.4: : Page 204 (2011)\n",
      "#find The probability of leakage of alpha-particle through potential barrier\n",
      "import math\n",
      "a = 10**-14;        ## Width of the  potential barrier, m\n",
      "E = 5*1.60218e-013;        ## Energy of the alpha particle, joule\n",
      "V = 10*1.60218e-013;        ## Potential height, joule\n",
      "M_0 = 6.644e-027;        ## Rest mass of the alpha particle, joule\n",
      "h_red = 1.05457e-034;        ## Reduced value of Planck's constant,joule sec \n",
      "T = 4*math.exp(-2*a*math.sqrt(2*M_0*(V-E)/h_red**2));   ## Probability of leakage through through potential barrier\n",
      "print'%s %.2e %s'%(\"The probability of leakage of alpha-particle through potential barrier =  \",T,\"\");\n",
      "\n",
      "## Result\n",
      "## The probability of leakage of alpha-particle through potential barrier = 1.271e-008  "
     ],
     "language": "python",
     "metadata": {},
     "outputs": [
      {
       "output_type": "stream",
       "stream": "stdout",
       "text": [
        "The probability of leakage of alpha-particle through potential barrier =   1.27e-08 \n"
       ]
      }
     ],
     "prompt_number": 4
    },
    {
     "cell_type": "heading",
     "level": 2,
     "metadata": {},
     "source": [
      "Ex6-pg204"
     ]
    },
    {
     "cell_type": "code",
     "collapsed": false,
     "input": [
      "## Exa5.6: : Page 204 (2011)\n",
      "#find The disintegration constant increases \n",
      "import math\n",
      "Z_D = 82.;    ## Atomic number of Po\n",
      "E_Po210 = 5.3;    ## Alpha-source for Po210, MeV\n",
      "E_Po214 = 7.7;    ## Alpha-source for Po214, MeV\n",
      "log_lambda_Po210 = -1*1.72*Z_D*E_Po210**(-1/2.);    \n",
      "log_lambda_Po214 = -1*1.72*Z_D*E_Po214**(-1/2.);    \n",
      "delta_OM_t = log_lambda_Po214 - log_lambda_Po210;    ## Difference in order of magnitude of life times of Po214 and Po210\n",
      "print'%s %.2d %s'%(\"The disintegration constant increases by a factor of some 10^ \" ,delta_OM_t,\"\");\n",
      "\n",
      "## Result\n",
      "## The disintegration constant increases by a factor of some 10^10  "
     ],
     "language": "python",
     "metadata": {},
     "outputs": [
      {
       "output_type": "stream",
       "stream": "stdout",
       "text": [
        "The disintegration constant increases by a factor of some 10^  10 \n"
       ]
      }
     ],
     "prompt_number": 5
    },
    {
     "cell_type": "heading",
     "level": 2,
     "metadata": {},
     "source": [
      "Ex8-pg205"
     ]
    },
    {
     "cell_type": "code",
     "collapsed": false,
     "input": [
      "## Exa5.8:  : Page 205 (2011)\n",
      "#find The half life of Pu \n",
      "import math\n",
      "N = 120.1*6.023e+023/239.;    ## Number of Pu nuclei\n",
      "P_rel = 0.231;        ## Power released, watt\n",
      "E_rel = 5.323*1.6026e-13;        ## Energy released, joule\n",
      "decay_rate = P_rel/E_rel;        ## Decay rate of Pu239, per hour\n",
      "t_half = N*math.log(2)/(decay_rate*365.*86400.);    ## Half life of Po239, sec\n",
      "print\"%s %.2e %s\"%(\"The half life of Pu = \",t_half,\" yr\");\n",
      "\n",
      "## Result\n",
      "## The half life of Pu = 2.46e+004 yr "
     ],
     "language": "python",
     "metadata": {},
     "outputs": [
      {
       "output_type": "stream",
       "stream": "stdout",
       "text": [
        "The half life of Pu =  2.46e+04  yr\n"
       ]
      }
     ],
     "prompt_number": 6
    },
    {
     "cell_type": "heading",
     "level": 2,
     "metadata": {},
     "source": [
      "Ex9-pg205"
     ]
    },
    {
     "cell_type": "code",
     "collapsed": false,
     "input": [
      "## Exa5.9 : : Page 205(2011)\n",
      "#find The slope of alpha decay energy versus atomic number\n",
      "import math\n",
      "a_v = 14.;        ## Volume energy constant, MeV\n",
      "a_s = 13.;        ## Surface energy constant, MeV\n",
      "a_c = 0.60;      ## Coulomb energy constant, MeV\n",
      "a_a = 19.;        ## Asymmetric energy constant, MeV\n",
      "A = 202.;        ## Mass number\n",
      "Z = 82;         ##  Atomic number \n",
      "dE_by_dN = -8/9*a_s/A**(4/3.)-4/3.*a_c*Z/A**(4/3.)*(1-4.*Z/(3.*A))-16.*a_a*Z/A**2.*(1.-2.*Z/A);        ## Slope, mega electron volts per nucleon\n",
      "print'%s %.2f %s'%(\"The slope of alpha decay energy versus atomic number = \",dE_by_dN,\" MeV/nucleon\");\n",
      "\n",
      "## Result\n",
      "## The slope of alpha decay energy versus atomic number = -0.15007 MeV/nucleon "
     ],
     "language": "python",
     "metadata": {},
     "outputs": [
      {
       "output_type": "stream",
       "stream": "stdout",
       "text": [
        "The slope of alpha decay energy versus atomic number =  -0.15  MeV/nucleon\n"
       ]
      }
     ],
     "prompt_number": 7
    },
    {
     "cell_type": "heading",
     "level": 2,
     "metadata": {},
     "source": [
      "Ex10-pg206"
     ]
    },
    {
     "cell_type": "code",
     "collapsed": false,
     "input": [
      "## Exa5.10 : : Page 206 (2011)\n",
      "#find The hindrance factor for alpha particle\n",
      "import math\n",
      "h_kt = 1.05457e-34;        ## Reduced Planck's constant, joule sec\n",
      "e = 1.60218e-19;        ## Charge of an electron, coulomb\n",
      "l = 2.;                ## Orbital angular momentum\n",
      "eps_0 = 8.5542e-12;        ## Absolute permittivity of free space, coulomb square per newton per metre square\n",
      "Z_D = 90.;            ## Atomic number of daughter nucleus\n",
      "m = 6.644e-27;        ## Mass of alpha particle, Kg\n",
      "R = 8.627e-15;        ## Radius of daughter nucleus, metre\n",
      "T1_by_T0 = math.exp(2.*l*(l+1.)*h_kt/e*math.sqrt(math.pi*eps_0/(Z_D*m*R)));    ## Hindrance factor\n",
      "print'%s %.2f %s'%(\"The hindrance factor for alpha particle = \" ,T1_by_T0,\"\");\n",
      "\n",
      "## Result\n",
      "## The hindrance factor for alpha particle = 1.768 "
     ],
     "language": "python",
     "metadata": {},
     "outputs": [
      {
       "output_type": "stream",
       "stream": "stdout",
       "text": [
        "The hindrance factor for alpha particle =  1.77 \n"
       ]
      }
     ],
     "prompt_number": 8
    }
   ],
   "metadata": {}
  }
 ]
}