{
 "metadata": {
  "name": "",
  "signature": "sha256:f65433b5fc699d555a8e1a0c197fcc95a6db55a338dffc279c90983fdf767b28"
 },
 "nbformat": 3,
 "nbformat_minor": 0,
 "worksheets": [
  {
   "cells": [
    {
     "cell_type": "heading",
     "level": 1,
     "metadata": {},
     "source": [
      "Chapte16-Chemical &Biological Effects of Radiations"
     ]
    },
    {
     "cell_type": "heading",
     "level": 2,
     "metadata": {},
     "source": [
      "Ex1-pg672"
     ]
    },
    {
     "cell_type": "code",
     "collapsed": false,
     "input": [
      "## Exa16.1 : : Page-672 (2011)\n",
      "#find 25 mrad\n",
      "import math\n",
      "R_d = 25.;        ## Radiation dose, milli rad\n",
      "R_c_gy = 25e-03; ## Dose in centigray\n",
      "R_Sv = 25*10**-2  ## Dose in milli sieverts\n",
      "print'%s %.2f %s  %.2f %s'%(\"\\n25 mrad = \",R_c_gy,\"\" and \" cGy =\",R_Sv,\" mSv\");\n",
      "\n",
      "## Results\n",
      "## 25 mrad = 3e-002 cGy = 0.25 mSv "
     ],
     "language": "python",
     "metadata": {},
     "outputs": [
      {
       "output_type": "stream",
       "stream": "stdout",
       "text": [
        "\n",
        "25 mrad =  0.03   0.25  mSv\n"
       ]
      }
     ],
     "prompt_number": 1
    },
    {
     "cell_type": "heading",
     "level": 2,
     "metadata": {},
     "source": [
      "Ex2-pg673"
     ]
    },
    {
     "cell_type": "code",
     "collapsed": false,
     "input": [
      "## Exa16.2 : : Page-673 (2011)\n",
      "#find 100 mega becquerel\n",
      "import math\n",
      "BC_conv = 100*1e+009/3.7e+10;        ## Becquerel curie conversion, milli curie\n",
      "print'%s %.2f %s'%(\"\\n100 mega becquerel = \",BC_conv,\" milli curie \")\n",
      "\n",
      "## Results\n",
      "## 100 mega becquerel = 2.7 milli curie  "
     ],
     "language": "python",
     "metadata": {},
     "outputs": [
      {
       "output_type": "stream",
       "stream": "stdout",
       "text": [
        "\n",
        "100 mega becquerel =  2.70  milli curie \n"
       ]
      }
     ],
     "prompt_number": 2
    },
    {
     "cell_type": "heading",
     "level": 2,
     "metadata": {},
     "source": [
      "Ex4-pg673"
     ]
    },
    {
     "cell_type": "code",
     "collapsed": false,
     "input": [
      "## Exa16.4 : : Page-673 (2011)\n",
      "#find The requiresd liver dose \n",
      "import math\n",
      "A = 80*10**6;        ## Activity, becquerel\n",
      "t_half = 6*3600.;    ## Half life, s\n",
      "N = A*t_half/0.693;    ## Number of surviving radionuclei\n",
      "E_released = 0.9*N*(140e+03)*1.6e-19;    ## Energy released, joule\n",
      "m_l = 1.8;                    ## Mass of liver of average man, Kg\n",
      "liv_dose = E_released*10**2/m_l;    ## Liver dose, centigray\n",
      "print'%s %.2f %s'%(\"\\nThe requiresd liver dose = \",liv_dose,\" cGy\");\n",
      "\n",
      "## Result\n",
      "## The requiresd liver dose = 2.8 cGy \n"
     ],
     "language": "python",
     "metadata": {},
     "outputs": [
      {
       "output_type": "stream",
       "stream": "stdout",
       "text": [
        "\n",
        "The requiresd liver dose =  2.79  cGy\n"
       ]
      }
     ],
     "prompt_number": 3
    }
   ],
   "metadata": {}
  }
 ]
}