{
 "metadata": {
  "name": "",
  "signature": "sha256:975fe0f8501e7b87da57a68589b53423b16e7dfd2c8a554c8366dabc3d2d73d7"
 },
 "nbformat": 3,
 "nbformat_minor": 0,
 "worksheets": [
  {
   "cells": [
    {
     "cell_type": "heading",
     "level": 1,
     "metadata": {},
     "source": [
      "Chapter7-Gamma -Radiation"
     ]
    },
    {
     "cell_type": "heading",
     "level": 2,
     "metadata": {},
     "source": [
      "Ex1-pg292"
     ]
    },
    {
     "cell_type": "code",
     "collapsed": false,
     "input": [
      "## Exa7.1: : Page-292 (2011)\n",
      "#find The distance to be moved for obtaining first order Bragg reflection \n",
      "import math\n",
      "h = 6.6261e-034;            ## Planck's constant, joule sec\n",
      "C = 2.998e+08;            ## Velocity of light, metre per sec\n",
      "f = 2.;                    ## Radius of focal circle, metre\n",
      "d = 1.18e-010;            ## Interplaner spacing for quartz crystal, metre\n",
      "E_1 = 1.17*1.6022e-013;        ## Energy of the gamma rays, joule\n",
      "E_2 = 1.33*1.6022e-013;        ## Energy of the gamma rays, joule\n",
      "D = h*C*f*(1./E_1-1./E_2)*1./(2.*d);        ##Distance to be moved for obtaining first order reflection for two different energies, metre\n",
      "print'%s %.2e %s'%(\"\\nThe distance to be moved for obtaining first order Bragg reflection = \",D,\" metre\");\n",
      "\n",
      "## Result\n",
      "## The distance to be moved for obtaining first order Bragg reflection = 1.08e-003 metre "
     ],
     "language": "python",
     "metadata": {},
     "outputs": [
      {
       "output_type": "stream",
       "stream": "stdout",
       "text": [
        "\n",
        "The distance to be moved for obtaining first order Bragg reflection =  1.08e-03  metre\n"
       ]
      }
     ],
     "prompt_number": 1
    },
    {
     "cell_type": "heading",
     "level": 2,
     "metadata": {},
     "source": [
      "Ex2-pg293"
     ]
    },
    {
     "cell_type": "code",
     "collapsed": false,
     "input": [
      "## Exa7.2: : Page-293 (2011)\n",
      "#find The energy of the gamma rays\n",
      "import math\n",
      "m_0 = 9.1094e-031;    ## Rest mass of the electron, Kg\n",
      "B_R = 1250e-06;       ## Magnetic field,tesla metre\n",
      "e =  1.6022e-019;     ## Charge of the electron, coulomb\n",
      "C = 3e+08;            ## Velocity of the light, metre per sec\n",
      "E_k = 0.089;          ## Binding energy of the K-shell electron,MeV\n",
      "v = B_R*e/(m_0*math.sqrt(1.+B_R**2.*e**2./(m_0**2*C**2)));  ## Velocity of the photoelectron, metre per sec\n",
      "E_pe = m_0/(1.6022e-013)*C**2*(1./math.sqrt(1-v**2/C**2)-1.);  ## Energy of the photoelectron,MeV\n",
      "E_g = E_pe+E_k;    ## Energy of the gamma rays, MeV\n",
      "print'%s %.3f %s'%(\"\\nThe energy of the gamma rays = \",E_g,\" MeV\");\n",
      "\n",
      "## Result\n",
      "## The energy of the gamma rays = 0.212 MeV "
     ],
     "language": "python",
     "metadata": {},
     "outputs": [
      {
       "output_type": "stream",
       "stream": "stdout",
       "text": [
        "\n",
        "The energy of the gamma rays =  0.212  MeV\n"
       ]
      }
     ],
     "prompt_number": 2
    },
    {
     "cell_type": "heading",
     "level": 2,
     "metadata": {},
     "source": [
      "Ex3-pg293"
     ]
    },
    {
     "cell_type": "code",
     "collapsed": false,
     "input": [
      "## Exa7.3: : Page-292 (2011)\n",
      "#find The attenuation of beam of X-rays in passing through human tissue \n",
      "import math\n",
      "a_c = 0.221;      ## Attenuation coefficient, cm^2/g\n",
      "A = (1-math.exp(-0.22))*100.;    ## Attenuation of beam of X-rays in passing through human tissue\n",
      "print'%s %.2f %s'%(\"\\nThe attenuation of beam of X-rays in passing through human tissue = \",math.ceil(A),\" percent\");\n",
      "\n",
      "## Result\n",
      "## The attenuation of beam of X-rays in passing through human tissue = 20 percent "
     ],
     "language": "python",
     "metadata": {},
     "outputs": [
      {
       "output_type": "stream",
       "stream": "stdout",
       "text": [
        "\n",
        "The attenuation of beam of X-rays in passing through human tissue =  20.00  percent\n"
       ]
      }
     ],
     "prompt_number": 3
    },
    {
     "cell_type": "heading",
     "level": 2,
     "metadata": {},
     "source": [
      "Ex4-pg293"
     ]
    },
    {
     "cell_type": "code",
     "collapsed": false,
     "input": [
      "## Exa7.4: : Page-293 (2011)\n",
      "#find The partial life time for gamma emission \n",
      "import math\n",
      "alpha_k = 45.;            ## Ratio between decay constants\n",
      "sum_alpha = 0.08;        ## Sum of alphas\n",
      "P = 0.35*1/60.;            ## Probability of the isomeric transition,per hour\n",
      "lambda_g = P*sum_alpha/alpha_k;   ## Decay constant of the gamma radiations, per hour\n",
      "T_g = 1/(lambda_g*365.*24.);        ## Partial life time for gamma emission,years\n",
      "print'%s %.2f %s'%(\"\\nThe partial life time for gamma emission = \",T_g,\" years\");\n",
      "\n",
      "## Result\n",
      "## The partial life time for gamma emission = 11.008 years \n",
      "\n",
      "\n"
     ],
     "language": "python",
     "metadata": {},
     "outputs": [
      {
       "output_type": "stream",
       "stream": "stdout",
       "text": [
        "\n",
        "The partial life time for gamma emission =  11.01  years\n"
       ]
      }
     ],
     "prompt_number": 4
    },
    {
     "cell_type": "heading",
     "level": 2,
     "metadata": {},
     "source": [
      "Ex5-pg294"
     ]
    },
    {
     "cell_type": "code",
     "collapsed": false,
     "input": [
      "## Exa7.5:  : Page-294 (2011)\n",
      "import math\n",
      "#find The required gamma width\n",
      "A = 11.;            ## Mass number of boron\n",
      "E_g = 4.82;        ## Energy of the gamma radiation, mega electron volts\n",
      "W_g = 0.0675*A**(2./3.)*E_g**3;        ## Gamma width, mega electron volts\n",
      "print'%s %.2f %s'%(\"\\nThe required gamma width = \",W_g,\" MeV\");\n",
      "\n",
      "## Result\n",
      "## The required gamma width = 37.39 MeV \n",
      "\n",
      "\n"
     ],
     "language": "python",
     "metadata": {},
     "outputs": [
      {
       "output_type": "stream",
       "stream": "stdout",
       "text": [
        "\n",
        "The required gamma width =  37.39  MeV\n"
       ]
      }
     ],
     "prompt_number": 5
    },
    {
     "cell_type": "heading",
     "level": 2,
     "metadata": {},
     "source": [
      "Ex8-pg295"
     ]
    },
    {
     "cell_type": "code",
     "collapsed": false,
     "input": [
      "## Exa7.8:  : Page-295 (2011)\n",
      "#find The excitation energy and The angular momentum\n",
      "import math\n",
      "e = 1.6022e-19;        ## Charge of an electron, coulomb\n",
      "BR = 2370e-06;         ## Magnetic field in an orbit, tesla metre\n",
      "m_0 = 9.1094e-31;      ## Mass of an electron, Kg\n",
      "c = 3e+08;             ## Velocity of light, metre per sec\n",
      "v = 1/math.sqrt((m_0/(BR*e))**2.+1./c**2);      ## velocity of the particle, metre per sec\n",
      "E_e = m_0*c**2*((1.-(v/c)**2)**(-1/2.)-1)/1.6e-13;    ## Energy of an electron, MeV\n",
      "E_b = 0.028;        ## Binding energy, MeV\n",
      "E_g = E_e+E_b;        ## Excitation energy, MeV\n",
      "alpha_k = 0.5;        ## K conversion coefficient\n",
      "Z = 49.;                ## Number of protons\n",
      "alpha = 1./137.;        ## Fine structure constant\n",
      "L = (1/(1.-(Z**3/alpha_k*alpha**4.*(2.*0.511/0.392)**(15./2.))))/2.;    ## Angular momentum\n",
      "l = 1;        ## Orbital angular momentum\n",
      "I = l-1/2.;    ## Parity\n",
      "print(\"\\nFor K-electron state:\" )\n",
      "print' %s %.2f %s  %.2f %s  %.2f %s'%( \"The excitation energy = \",E_g,\" MeV\" and \"The angular momentum = \",math.ceil(L),\" \" and  \"\\nThe parity : \",I,\"\");\n",
      "## Result\n",
      "## For K-electron state:\n",
      "## The excitation energy = 0.393 MeV\n",
      "## The angular momentum = 5\n",
      "## The parity : 0.5 \n",
      "\n",
      "\n"
     ],
     "language": "python",
     "metadata": {},
     "outputs": [
      {
       "output_type": "stream",
       "stream": "stdout",
       "text": [
        "\n",
        "For K-electron state:\n",
        " The excitation energy =  0.39 The angular momentum =   5.00 \n",
        "The parity :   0.50 \n"
       ]
      }
     ],
     "prompt_number": 6
    },
    {
     "cell_type": "heading",
     "level": 2,
     "metadata": {},
     "source": [
      "Ex9-pg295"
     ]
    },
    {
     "cell_type": "code",
     "collapsed": false,
     "input": [
      "## Exa7.9: : Page-295 (2011)\n",
      "#find The radioactive life time\n",
      "import math\n",
      "c = 3e+10;            ## Velocity of light, centimetre per sec\n",
      "R_0 = 1.4e-13;        ## Distance of closest approach, centimetre \n",
      "alpha = 1./137.;        ## Fine scattering constant\n",
      "A = 17.;                ## Mass number\n",
      "E_g = 5.*1.6e-06;        ## Energy of gamma transition, ergs\n",
      "h_cut = 1.054571628e-27;        ## Reduced planck constant, ergs per sec\n",
      "D = c/4.*R_0**2.*alpha*(E_g/(h_cut*c))**3.*A**(2./3.);        ## Disintegration constant, per sec\n",
      "tau = 1/D;        ## Radioactive lifr\\e time, sec\n",
      "print'%s %.1e %s'%(\"\\nThe radioactive life time = \",tau,\" sec\");\n",
      "\n",
      "## Result\n",
      "## The radioactive life time = 9e-018 sec \n",
      "print(\"error in answer due to round off error\")\n",
      "\n",
      "\n"
     ],
     "language": "python",
     "metadata": {},
     "outputs": [
      {
       "output_type": "stream",
       "stream": "stdout",
       "text": [
        "\n",
        "The radioactive life time =  8.7e-18  sec\n",
        "error in answer due to round off error\n"
       ]
      }
     ],
     "prompt_number": 7
    },
    {
     "cell_type": "heading",
     "level": 2,
     "metadata": {},
     "source": [
      "Ex10-pg296"
     ]
    },
    {
     "cell_type": "code",
     "collapsed": false,
     "input": [
      "## Exa7.10: : Page-296 (2011)\n",
      "#find The possible multipolarities are\n",
      "import math\n",
      "l = 2,3,4\n",
      "print(\"\\nThe possible multipolarities are \")\n",
      "for l in range( 2,4):\n",
      "    if l == 2:\n",
      "        print'%s %.2f %s'%(\"E\",l,\" \" );\n",
      "    elif l == 3:\n",
      "        print'%s %.2f %s'%(\" M\",l,\" \");\n",
      "    elif l == 4:\n",
      "        print'%s %.2f %s'%(\" and E \",l,\" \");\n",
      "    \n",
      "\n",
      "for l in range( 2,4):\n",
      "    if l == 2 :\n",
      "     print'%s %.2f %s'%(\"\\nThe transition E\",l,\" dominates\");\n",
      "    \n",
      "\n",
      "\n",
      "## Result\n",
      "## The possible multipolarities are E2, M3 and E4\n",
      "## The transition E2 dominates \n",
      "\n",
      "\n"
     ],
     "language": "python",
     "metadata": {},
     "outputs": [
      {
       "output_type": "stream",
       "stream": "stdout",
       "text": [
        "\n",
        "The possible multipolarities are \n",
        "E 2.00  \n",
        " M 3.00  \n",
        "\n",
        "The transition E 2.00  dominates\n"
       ]
      }
     ],
     "prompt_number": 5
    },
    {
     "cell_type": "heading",
     "level": 2,
     "metadata": {},
     "source": [
      "Ex13-pg297"
     ]
    },
    {
     "cell_type": "code",
     "collapsed": false,
     "input": [
      "## Exa7.13: : Page-297 (2011)\n",
      "#find The relative source absorber velocity\n",
      "import math\n",
      "E_0 = 0.014*1.6022e-13;   ## Energy of the gamma rays, joule\n",
      "A = 57.;                   ## Mass number\n",
      "m = 1.67e-27;             ## Mass of each nucleon, Kg\n",
      "c = 3e+08;                ## Velocity of light, metre per sec\n",
      "N = 1000.;                 ## Number of atoms in the lattice\n",
      "v = E_0/(A*N*m*c);        ## Ralative velocity, metre per sec\n",
      "print'%s %.2f %s'%(\"\\nThe relative source absorber velocity = \",v,\" m/s\");\n",
      "\n",
      "## Result\n",
      "## The relative source absorber velocity = 0.079 m/s \n",
      "\n",
      "\n"
     ],
     "language": "python",
     "metadata": {},
     "outputs": [
      {
       "output_type": "stream",
       "stream": "stdout",
       "text": [
        "\n",
        "The relative source absorber velocity =  0.08  m/s\n"
       ]
      }
     ],
     "prompt_number": 9
    },
    {
     "cell_type": "heading",
     "level": 2,
     "metadata": {},
     "source": [
      "Ex14-pg297"
     ]
    },
    {
     "cell_type": "code",
     "collapsed": false,
     "input": [
      "## Exa7.14: : Page-297 (2011)\n",
      "#find The required frequency shift of the photon\n",
      "import math\n",
      "g = 9.8;            ## Acceleration due to gravity, metre per square sec\n",
      "c = 3e+08;                ## Velocity of light, metre per sec\n",
      "y = 20.;                ## Vertical distance between source and absorber, metre\n",
      "delta_v = g*y/c**2;        ## Frequency shift\n",
      "print'%s %.2e %s'%(\"\\nThe required frequency shift of the photon =  \", delta_v,\"\");\n",
      "\n",
      "## Result\n",
      "## The required frequency shift of the photon = 2.18e-015  \n",
      "\n",
      "\n"
     ],
     "language": "python",
     "metadata": {},
     "outputs": [
      {
       "output_type": "stream",
       "stream": "stdout",
       "text": [
        "\n",
        "The required frequency shift of the photon =   2.18e-15 \n"
       ]
      }
     ],
     "prompt_number": 10
    },
    {
     "cell_type": "heading",
     "level": 2,
     "metadata": {},
     "source": [
      "Ex15-pg246"
     ]
    },
    {
     "cell_type": "code",
     "collapsed": false,
     "input": [
      "## Exa6.15: : Page-246 (2011)\n",
      "#find they are parallel spin or anti\n",
      "import math\n",
      "import numpy\n",
      "a='antiparallel spin'\n",
      "b='parallel spin'\n",
      "S=([a, b])\n",
      "\n",
      "\n",
      "for i in range  (0,1):\n",
      "    if S[i] == 'antiparallel spin' :\n",
      "       print(\"\\nFor Fermi types :\")\n",
      "       print(\"\\n\\n The selection rules for allowed transitions are :  \\n\\tdelta I is zero \\n\\tdelta pi is plus \\nThe emited neutrino and electron have %s\")\n",
      "       print \"S(i,1)\"\n",
      "    elif S[i] == 'parallel spin':\n",
      "       print(\"\\nFor Gamow-Teller types :\")\n",
      "       print(\"\\nThe selection rules for allowed transitions are : \\n\\tdelta I is zero,plus one and minus one\\n\\tdelta pi is plus\\nThe emited neutrino and electron have %s\")\n",
      "       print(\"S(i,1)\") \n",
      "    \n",
      "\n",
      "## Calculation of ratio of transition probability\n",
      "M_F = 1.;    ## Matrix for Fermi particles\n",
      "g_F = 1.;        ## Coupling constant of fermi particles\n",
      "M_GT = 5/3.;        ## Matrix for Gamow Teller\n",
      "g_GT = 1.24;        ## Coupling constant of Gamow Teller\n",
      "T_prob = g_F**2*M_F/(g_GT**2*M_GT);    ## Ratio of transition probability\n",
      "## Calculation of Space phase factor\n",
      "e = 1.6e-19;        ## Charge of an electron, coulomb\n",
      "c = 3e+08;            ## Velocity of light, metre per sec\n",
      "K = 8.99e+9;        ## Coulomb constant\n",
      "R_0 = 1.2e-15;        ## Distance of closest approach, metre\n",
      "A = 57.;            ## Mass number\n",
      "Z = 28.;            ## Atomic number \n",
      "m_n = 1.6749e-27;    ## Mass of neutron, Kg\n",
      "m_p = 1.6726e-27;    ## Mass of proton, Kg\n",
      "m_e = 9.1e-31;        ## Mass of electron. Kg\n",
      "E_1 = 0.76;         ## First excited state of nickel\n",
      "delta_E = ((3*e**2*K/(5*R_0*A**(1/3.))*((Z+1.)**2-Z**2))-(m_n-m_p)*c**2)/1.6e-13;         ## Mass difference, mega electron volts\n",
      "E_0 = delta_E-(2*m_e*c**2)/1.6e-13;    ## End point energy, mega electron volts\n",
      "P_factor = (E_0-E_1)**5/E_0**5;    ## Space phase factor \n",
      "print'%s %.2f %s %.2f %s '%(\"\\nThe ratio of transition probability =\",T_prob,\"\"and\"\\nThe space phase factor =\",P_factor,\"\");\n",
      " \n",
      "## Result\n",
      "## The emited neutrino and electron have antiparallel spin\n",
      "## For Gamow-Teller types :\n",
      "## The selection rules for allowed transitions are : \n",
      "##\tdelta I is zero,plus one and minus one\n",
      "##\tdelta pi is plus\n",
      "## The emited neutrino and electron have parallel spin\n",
      "## The ratio of transition probability = 0.39\n",
      "## The space phase factor = 0.62 a"
     ],
     "language": "python",
     "metadata": {},
     "outputs": [
      {
       "output_type": "stream",
       "stream": "stdout",
       "text": [
        "\n",
        "For Fermi types :\n",
        "\n",
        "\n",
        " The selection rules for allowed transitions are :  \n",
        "\tdelta I is zero \n",
        "\tdelta pi is plus \n",
        "The emited neutrino and electron have %s\n",
        "S(i,1)\n",
        "\n",
        "The ratio of transition probability = 0.39  0.62  \n"
       ]
      }
     ],
     "prompt_number": 2
    }
   ],
   "metadata": {}
  }
 ]
}