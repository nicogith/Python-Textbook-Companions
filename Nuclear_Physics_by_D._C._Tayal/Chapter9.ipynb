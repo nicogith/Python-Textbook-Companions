{
 "metadata": {
  "name": "",
  "signature": "sha256:4f16fb24f1dd6d3239c94791f7a7ef08310ef6ebb56e580bd1901d7fe6b9c932"
 },
 "nbformat": 3,
 "nbformat_minor": 0,
 "worksheets": [
  {
   "cells": [
    {
     "cell_type": "heading",
     "level": 1,
     "metadata": {},
     "source": [
      "Chapter9-Nuclear Models"
     ]
    },
    {
     "cell_type": "heading",
     "level": 2,
     "metadata": {},
     "source": [
      "Ex1-pg389"
     ]
    },
    {
     "cell_type": "code",
     "collapsed": false,
     "input": [
      "## Exa9.1 : : Page-389 (2011) \n",
      "#find The Fermi energy of neutron  and proton\n",
      "import math\n",
      "h_cut = 1.054e-034;   ## Reduced Planck's constant, joule sec\n",
      "rho = 2e+044;    ## Density of the nuclear matter, kg per metre cube\n",
      "V = 238./rho;    ## Volume of the nuclear matter, metre cube\n",
      "## For neutron\n",
      "N = 238.-92.;    ## Number of neutrons\n",
      "M = 1.67482e-027;    ## Mass of a neutron, kg\n",
      "e = 1.602e-019;    ## Energy equivalent of 1 eV, J/eV\n",
      "E_f = (3*math.pi**2)**(2./3.)*h_cut**2/(2*M)*(N/V)**(2/3.)/e;    ## Fermi energy of neutron, eV \n",
      "print'%s %.2f %s'%(\"\\nThe Fermi energy of neutron = \",E_f/1e+006,\" MeV\")\n",
      "## For proton\n",
      "N = 92.;    ## Number of protons\n",
      "M = 1.67482e-027;    ## Mass of a proton, kg\n",
      "e = 1.602e-019;    ## Energy equivalent of 1 eV, J/eV\n",
      "E_f = (3*math.pi**2)**(2/3.)*h_cut**2/(2.*M)*(N/V)**(2./3.)/e;    ## Fermi energy of neutron, eV \n",
      "print'%s %.2f %s'%(\"\\nThe Fermi energy of proton = \",E_f/1e+006,\" MeV\");\n",
      "\n",
      "## Result\n",
      "## The Fermi energy of neutron = 48.92 MeV\n",
      "## The Fermi energy of proton = 35.96 MeV "
     ],
     "language": "python",
     "metadata": {},
     "outputs": [
      {
       "output_type": "stream",
       "stream": "stdout",
       "text": [
        "\n",
        "The Fermi energy of neutron =  48.92  MeV\n",
        "\n",
        "The Fermi energy of proton =  35.96  MeV\n"
       ]
      }
     ],
     "prompt_number": 1
    },
    {
     "cell_type": "heading",
     "level": 2,
     "metadata": {},
     "source": [
      "Ex3-pg390"
     ]
    },
    {
     "cell_type": "code",
     "collapsed": false,
     "input": [
      "## Exa9.3 : : Page-390 (2011)\n",
      "import math\n",
      "#find radius of neutron star\n",
      "h_cut = 1.0545e-34; ## Reduced Planck's constant, joule sec\n",
      "G = 6.6e-11;        ## Gravitational constant, newton square metre per square Kg \n",
      "m = 10**30.;        ## Mass of the star, Kg\n",
      "m_n = 1.67e-27;        ## Mass of the neutron, Kg\n",
      "R = (9*math.pi/4.)**(2./3.)*h_cut**2/(G*(m_n)**3)*(m_n/m)**(1/3.);        ## Radius of the neutron star, metre\n",
      "print'%s %.1e %s'%(\"\\nThe radius of the neutron star = \",R,\" metre\");\n",
      "\n",
      "## Result\n",
      "## The radius of the neutron star = 1.6e+004 metre "
     ],
     "language": "python",
     "metadata": {},
     "outputs": [
      {
       "output_type": "stream",
       "stream": "stdout",
       "text": [
        "\n",
        "The radius of the neutron star =  1.6e+04  metre\n"
       ]
      }
     ],
     "prompt_number": 2
    },
    {
     "cell_type": "heading",
     "level": 2,
     "metadata": {},
     "source": [
      "Ex4-pg391"
     ]
    },
    {
     "cell_type": "code",
     "collapsed": false,
     "input": [
      "## Exa9.4 : : Page-391 (2011)\n",
      "#find is they will stable or not\n",
      "import math\n",
      "A = 77.;        ## Mass number of the isotopes\n",
      "Z = round (A/((0.015*A**(2/3.))+2.));    ## Atomic number of stable isotope\n",
      "## Check the stability !!!!!\n",
      "if Z == 34:\n",
      "    print (\"\\n Se\",( Z,A),\" is stable\" and \"As \",(Z-1,A),\"\" and \"Br\",Z+1,A, \"are unstable\")\n",
      "elif Z == 33 :\n",
      "    print'%s %.2f %s'%(\"\\nAs( %d,%d) is stable \\nSe (%d,%d) and Br(%d,%d) are unstable\", Z, A, Z+1, A, Z+2, A);\n",
      "elif Z == 35 :\n",
      "    print'%s %.2f %s'%(\"\\nBr( %d,%d) is stable \\nSe (%d,%d) and As(%d,%d) are unstable\",Z,A,Z-2,A,Z-1,A);      \n",
      "\n",
      "\n",
      "## Result\n",
      "## Se( 34,77) is stable \n",
      "## As (33,77) and Br(35,77) are unstable "
     ],
     "language": "python",
     "metadata": {},
     "outputs": [
      {
       "output_type": "stream",
       "stream": "stdout",
       "text": [
        "('\\n Se', (34.0, 77.0), 'As ', (33.0, 77.0), '', 35.0, 77.0, 'are unstable')\n"
       ]
      }
     ],
     "prompt_number": 4
    },
    {
     "cell_type": "heading",
     "level": 2,
     "metadata": {},
     "source": [
      "Ex5-pg391"
     ]
    },
    {
     "cell_type": "code",
     "collapsed": false,
     "input": [
      "## Exa9.5 : : Page-391 (2011)\n",
      "#find The energy difference between neutron shells\n",
      "import math\n",
      "m_40 = 39.962589;         ## Mass of calcium 40, atomic mass unit\n",
      "m_41 = 40.962275;         ## Mass of calcium 41, atomic mass unit\n",
      "m_39 = 38.970691;          ## Mass of calcium 39, atomic mass unit \n",
      "m_n = 1.008665;            ## Mass of the neutron, atomic mass unit\n",
      "BE_1d = (m_39+m_n-m_40)*931.5;        ## Binding energy of 1d 3/2 neutron, mega electron volts\n",
      "BE_1f = (m_40+m_n-m_41)*931.5;        ## Binding energy of 1f 7/2 neutron, mega electron volts\n",
      "delta = BE_1d-BE_1f;        ## Energy difference between neutron shells, mega electron volts\n",
      "print'%s %.2f %s'%(\"\\nThe energy difference between neutron shells = \",delta,\" MeV\");\n",
      "\n",
      "## Result\n",
      "## The energy difference between neutron shells = 7.25 MeV "
     ],
     "language": "python",
     "metadata": {},
     "outputs": [
      {
       "output_type": "stream",
       "stream": "stdout",
       "text": [
        "\n",
        "The energy difference between neutron shells =  7.25  MeV\n"
       ]
      }
     ],
     "prompt_number": 4
    },
    {
     "cell_type": "heading",
     "level": 2,
     "metadata": {},
     "source": [
      "Ex7-pg392"
     ]
    },
    {
     "cell_type": "code",
     "collapsed": false,
     "input": [
      "## Exa9.7 : : Page-392 (2011)\n",
      "import math\n",
      "#find The angular frequency for oxygen 17\n",
      "h_cut = 1.0545e-34;       ## Reduced Planck's constant, joule sec\n",
      "R = 1.2e-15;            ## Distance of closest approach, metre\n",
      "m = 1.67482e-27;        ## Mass of the nucleon, Kg\n",
      "omega_Ni=1.60e+022;\n",
      "## For O-17\n",
      "for A in range(17,60):           ## Mass numbers\n",
      "    if A == 17:\n",
      "        omega_O = 5.*3.**(1/3.)*h_cut*17**(-1./3.)/(2.**(7/3.)*m*R**2.);    ## Angular frequency of oxygen \n",
      "## For Ni-60\n",
      "    elif A == 60:\n",
      "        omega_Ni =  5*3**(1/3.)*h_cut*60**(-1/3.)/(2**(7/3.)*m*R**2);  ## Angular frequency of nickel\n",
      "\n",
      "print (\"\\nThe angular frequency for oxygen 17 = \",omega_O,\"\" and \"\\nThe angular frequency for nickel 60 = \",omega_Ni,\"\");\n",
      "\n",
      "## Result\n",
      "## The angular frequency for oxygen 17 = 2.43e+022 \n",
      "## The angular frequency for nickel 60 = 1.60e+022 "
     ],
     "language": "python",
     "metadata": {},
     "outputs": [
      {
       "output_type": "stream",
       "stream": "stdout",
       "text": [
        "('\\nThe angular frequency for oxygen 17 = ', 2.43317537466611e+22, '', 1.6e+22, '')\n"
       ]
      }
     ],
     "prompt_number": 12
    },
    {
     "cell_type": "heading",
     "level": 2,
     "metadata": {},
     "source": [
      "Ex9-pg393"
     ]
    },
    {
     "cell_type": "code",
     "collapsed": false,
     "input": [
      "## Exa9.9 : : Page-393 (2011)\n",
      "#find The angular momentum is 5/2 and the parity is +1 for and -1 and 0\n",
      "import math\n",
      "import numpy\n",
      "Z = numpy.zeros((5,1));\n",
      "N = numpy.zeros((5,1));\n",
      "E={}\n",
      "## Elements allocated\n",
      "E[0,0] = 'Carbon'\n",
      "E[1,0] = 'Boron'\n",
      "E[2,0] = 'Oxygen'\n",
      "E[3,0] = 'Zinc'\n",
      "E[4,0] = 'Nitrogen'\n",
      "Z[0,0] = 6;        ## Number of proton in carbon nuclei\n",
      "Z[1,0] = 5;         ## Number of proton in boron nuclei\n",
      "Z[2,0] = 8;         ## Number of proton in oxygen nuclei\n",
      "Z[3,0] = 30;         ## Number of proton in zinc nuclei\n",
      "Z[4,0] = 7;         ## Number of proton in nitrogen nuclei\n",
      "N[0,0] = 6;        ## Mass number of carbon\n",
      "N[0,0] = 6;         ## Mass number of boron\n",
      "N[2,0] = 9;         ## Mass number of oxygen\n",
      "N[3,0] = 37;         ## Mass number of zinc\n",
      "N[4,0] = 9;         ## Mass number of nitrogem\n",
      "for i in range  (0,5):\n",
      "    if Z[i,0] == 8:\n",
      "            print(\"\\nThe angular momentum is 5/2 and the parity is +1 for  \", E[i,0],\"\");\n",
      "    elif Z[i,0] == 5:\n",
      "            print(\"\\nThe angular momentum is 3/2 and the parity is -1 for \", E[i,0],\"\");\n",
      "        \n",
      "    elif Z[i,0] == N[i,0]:\n",
      "        print (\"\\nThe angular mometum is 0 and the parity is +1 for \", E[i,0],\"\");\n",
      "    \n",
      "    elif N[i,0]-Z[i,0] == 2:\n",
      "        print(\"\\nThe angular momentum is 2 and the parity is -1 for \", E[i,0],\"\");\n",
      "    \n",
      "    elif N[i,0]-Z[i,0] == 7:\n",
      "        print(\"The angular momentum is 5/2 and the parity is -1 for\",  E[i,0],\"\");\n",
      "    \n",
      "\n",
      "## Result\n",
      "## The angular mometum is 0 and the parity is +1 for Carbon\n",
      "## The angular momentum is 3/2 and the parity is -1 for Boron\n",
      "## The angular momentum is 5/2 and the parity is +1 for Oxygen \n",
      "## The angular momentum is 5/2 and the parity is -1 for Zinc\n",
      "## The angular momentum is 2 and the parity is -1 for Nitrogen \n",
      "print(\"we can not print directly \")"
     ],
     "language": "python",
     "metadata": {},
     "outputs": [
      {
       "output_type": "stream",
       "stream": "stdout",
       "text": [
        "('\\nThe angular mometum is 0 and the parity is +1 for ', 'Carbon', '')\n",
        "('\\nThe angular momentum is 3/2 and the parity is -1 for ', 'Boron', '')\n",
        "('\\nThe angular momentum is 5/2 and the parity is +1 for  ', 'Oxygen', '')\n",
        "('The angular momentum is 5/2 and the parity is -1 for', 'Zinc', '')\n",
        "('\\nThe angular momentum is 2 and the parity is -1 for ', 'Nitrogen', '')\n",
        "we can not print directly \n"
       ]
      }
     ],
     "prompt_number": 7
    },
    {
     "cell_type": "heading",
     "level": 2,
     "metadata": {},
     "source": [
      "Ex11-pg394"
     ]
    },
    {
     "cell_type": "code",
     "collapsed": false,
     "input": [
      "##  Page-394 (2011)\n",
      "import math\n",
      "import numpy\n",
      "\n",
      "R_0 = 1.2e-015;        ## Distance of closest approach, metre\n",
      "## Mass number of the nuclei are allocated below :\n",
      "N = numpy.zeros((4,1))\n",
      "N[0,0] = 17;        ## for oxygen\n",
      "N[1,0] = 33;        ## for sulphur\n",
      "N[2,0] = 63;        ## for copper\n",
      "N[3,0] = 209;        ## for bismuth\n",
      "for i in range (1,4):\n",
      "    if N[i,0] == 17:\n",
      "       print(\"\\n For Oxygen : \")\n",
      "       I = 5/2.;        ## Total angular momentum\n",
      "       l = 2.;        ## Orbital angular momentum\n",
      "       mu = -1.91;        ## for odd neutron and I = l+1/2\n",
      "       Q = -3./5.*(2.*I-1.)/(2.*I+2.)*(R_0*N[i,0]**(1/3.))**2*(10**28);    ## Quadrupole moment of oxygen, barnQ\n",
      "       print\"%s %.2f %s %.2f %s \"%(\"\\n         The value of magnetic moment is : \",mu,\"\"and \" \\n         The value of quadrupole moment is : \",Q,\" barn\");\n",
      "    elif N[i,0] == 33:\n",
      "        print(\"\\n\\n For Sulphur : \")\n",
      "        I = 3./2.;        ## Total angular momentum\n",
      "        l = 2.;            ## Orbital angular momentum\n",
      "        mu = 1.91*I/(I+1.);        ## for odd neutron and I = l-1/2\n",
      "        Q = -3./5.*(2.*I-1.)/(2.*I+2.)*(R_0*N[i,0]**(1/3.))**2*(10**28);    ## Quadrupole moment of sulphur, barn\n",
      "        print\"%s %.2f %s %.2f %s \"%(\"\\n         The value of magnetic moment is : \",mu,\"\"and \" \\n         The value of quadrupole moment is : \",Q,\" barn\");  \n",
      "    elif N[i,0] == 63:\n",
      "        print(\"\\n\\n For Copper : \")\n",
      "        I = 3./2.;        ## Total angular momentum\n",
      "        l = 1.;            ## Orbital angular momentum\n",
      "        mu = I+2.29;            ## for odd protons and I = l+1/2\n",
      "        Q = -3./5.*(2.*I-1.)/(2.*I+2.)*(R_0*N[i,0]**(1./3.))**2*(10**28);    ## Quadrupole momentum of copper, barn\n",
      "        print\"%s %.2f %s %.2f %s \"% (\"         The value of magnetic moment is : \",mu,\" \"and \"\\n         The value of quadrupole moment is :\" ,Q, \"barn\");\n",
      "    elif N[i,0] == 209:\n",
      "        print(\" For Bismuth : \")\n",
      "        I = 9/2;    ## Total angular momentum\n",
      "        l = 5;        ## Orbital angular momentum\n",
      "        mu = I-2.29*I/(I+1);     ## for odd protons and I = l-1/2\n",
      "        Q = -3./5.*(2.*I-1.)/(2.*I+2.)*(R_0*N[i,0]**(1/3.))**2*(10**28);    ## Quadrupole momentum of bismuth, barn\n",
      "        print\"%s %.2f %s %.2f %s \"%(\"       The value of magnetic moment is : \",mu,\"\"and \" \\n         The value of quadrupole moment is : \",Q,\" barn\");\n",
      "        print('due to rounding error we can not get for oxygen result')\n",
      "## Result\n",
      "\n",
      "\n",
      "## For Sulphur : \n",
      "##         The value of magnetic moment is : 1.146 \n",
      "##         The value of quadrupole moment is : -0.0356 barn\n",
      "\n",
      "## For Copper : \n",
      "##         The value of magnetic moment is : 3.79 \n",
      "##         The value of quadrupole moment is : -0.0547 barn\n",
      "\n",
      "## For Bismuth : \n",
      "##         The value of magnetic moment is : 2.63 \n",
      "##         The value of quadrupole moment is : -0.221 barn   \n"
     ],
     "language": "python",
     "metadata": {},
     "outputs": [
      {
       "output_type": "stream",
       "stream": "stdout",
       "text": [
        "\n",
        "\n",
        " For Sulphur : \n",
        "\n",
        "         The value of magnetic moment is :  1.15  -0.04  barn \n",
        "\n",
        "\n",
        " For Copper : \n",
        "         The value of magnetic moment is :  3.79 \n",
        "         The value of quadrupole moment is : -0.05 barn \n",
        " For Bismuth : \n",
        "       The value of magnetic moment is :  2.17  -0.21  barn \n",
        "due to rounding error we can not get for oxygen result\n"
       ]
      }
     ],
     "prompt_number": 12
    },
    {
     "cell_type": "heading",
     "level": 2,
     "metadata": {},
     "source": [
      "Ex12-pg395"
     ]
    },
    {
     "cell_type": "code",
     "collapsed": false,
     "input": [
      "## Exa9.12 : : Page-395 (2011)\n",
      "#find The kinetic energy of iron nuclei\n",
      "import math\n",
      "h_cut = 1.054571628e-34;    ## Redued planck's constant, joule sec\n",
      "a = 1e-014;            ## Distance of closest approach, metre\n",
      "m = 1.67e-27;        ## Mass of each nucleon, Kg\n",
      "KE = 14*math.pi**2*h_cut**2./(2.*m*a**2*1.6e-13);        ## Kinetic energy of iron nucleus, MeV\n",
      "print'%s %.2f %s'%(\"\\nThe kinetic energy of iron nuclei =\",KE,\" MeV\");\n",
      "\n",
      "## Result\n",
      "## The kinetic energy of iron nuclei = 28.76 MeV "
     ],
     "language": "python",
     "metadata": {},
     "outputs": [
      {
       "output_type": "stream",
       "stream": "stdout",
       "text": [
        "\n",
        "The kinetic energy of iron nuclei = 28.76  MeV\n"
       ]
      }
     ],
     "prompt_number": 7
    },
    {
     "cell_type": "heading",
     "level": 2,
     "metadata": {},
     "source": [
      "Ex14-pg396"
     ]
    },
    {
     "cell_type": "code",
     "collapsed": false,
     "input": [
      "## Exa9.14 : : Page-396 (2011)\n",
      "#find The electric quadrupole of scandium nucleus\n",
      "import math\n",
      "R_0 = 1.2e-15;  ## Distance of closest approach, metre\n",
      "j = 7/2.;        ## Total angular momentum\n",
      "A = 41.;         ## Mass number of Scandium\n",
      "Z = 20.;         ## Atomic number of Calcium\n",
      "Q_Sc = -(2*j-1)/(2.*j+2.)*(R_0*A**(1/3.))**2;       ## Electric quadrupole of Scandium nucleus, Sq. m\n",
      "Q_Ca = Z/(A-1)**2*abs(Q_Sc);        ## Electric quadrupole of calcium nucleus, Sq. m\n",
      "print'%s %.2e %s %.2e %s '%(\"\\nThe electric quadrupole of scandium nucleus = \",Q_Sc,\" square metre\" and  \"\\nThe electric quadrupole of calcium nucleus = \",Q_Ca,\" square metre\");\n",
      "\n",
      "## Result\n",
      "## The electric quadrupole of scandium nucleus = -1.14e-029 square metre \n",
      "## The electric quadrupole of calcium nucleus = 1.43e-031 square metre "
     ],
     "language": "python",
     "metadata": {},
     "outputs": [
      {
       "output_type": "stream",
       "stream": "stdout",
       "text": [
        "\n",
        "The electric quadrupole of scandium nucleus =  -1.14e-29 \n",
        "The electric quadrupole of calcium nucleus =  1.43e-31  square metre \n"
       ]
      }
     ],
     "prompt_number": 8
    },
    {
     "cell_type": "heading",
     "level": 2,
     "metadata": {},
     "source": [
      "Ex16-pg398"
     ]
    },
    {
     "cell_type": "code",
     "collapsed": false,
     "input": [
      "## Exa9.16 : : Page-398 (2011)\n",
      "#find The energy for 4+ tungsten state and 6+state\n",
      "import math\n",
      "h_cut_sqr_upon_2f = 0.01667;        ## A constant value, joule square per sec cube\n",
      "for I in range  (4,6):\n",
      "    if I == 4:\n",
      "        E = I*(I+1)*h_cut_sqr_upon_2f\n",
      "        print'%s %.2f %s'%(\"The energy for 4+ tungsten state = \",E,\" MeV\");\n",
      "    elif I == 6:\n",
      "        E = I*(I+1)*h_cut_sqr_upon_2f;\n",
      "        print'%s %.2f %s'%(\"\\nThe energy for 6+ tungsten state = \",E,\" MeV\"); \n",
      "    \n",
      "\n",
      "\n",
      "## Result\n",
      "## The energy for 4+ tungsten state = 0.333 MeV\n",
      "## The energy for 6+ tungsten state = 0.700 MeV  "
     ],
     "language": "python",
     "metadata": {},
     "outputs": [
      {
       "output_type": "stream",
       "stream": "stdout",
       "text": [
        "The energy for 4+ tungsten state =  0.33  MeV\n"
       ]
      }
     ],
     "prompt_number": 11
    }
   ],
   "metadata": {}
  }
 ]
}