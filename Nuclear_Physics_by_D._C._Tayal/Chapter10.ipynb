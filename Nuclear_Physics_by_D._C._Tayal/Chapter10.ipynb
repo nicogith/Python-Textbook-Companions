{
 "metadata": {
  "name": "",
  "signature": "sha256:308367390142ca69701c27a60b649f58dec3483f71d5fe87366628b17198229c"
 },
 "nbformat": 3,
 "nbformat_minor": 0,
 "worksheets": [
  {
   "cells": [
    {
     "cell_type": "heading",
     "level": 1,
     "metadata": {},
     "source": [
      "Chapter10-Nuclear reactions"
     ]
    },
    {
     "cell_type": "heading",
     "level": 2,
     "metadata": {},
     "source": [
      "Ex1-pg455"
     ]
    },
    {
     "cell_type": "code",
     "collapsed": false,
     "input": [
      "## Exa10.1 : : Page-455 (2011) \n",
      "#calculate The Q-value for the fromation\n",
      "import math\n",
      "M = 47.668;            ## Total mass of reaction, MeV\n",
      "E = 44.359;            ## Total energy, MeV\n",
      "Q = M-E;                ## Q-value, MeV\n",
      "print'%s %.2f %s'%(\"\\nThe Q-value for the formation of P30 = \",Q,\" MeV\");\n",
      "\n",
      "## Result\n",
      "## The Q-value for the formation of P30 = 3.309 MeV  "
     ],
     "language": "python",
     "metadata": {},
     "outputs": [
      {
       "output_type": "stream",
       "stream": "stdout",
       "text": [
        "\n",
        "The Q-value for the formation of P30 =  3.31  MeV\n"
       ]
      }
     ],
     "prompt_number": 15
    },
    {
     "cell_type": "heading",
     "level": 2,
     "metadata": {},
     "source": [
      "Ex2-pg455"
     ]
    },
    {
     "cell_type": "code",
     "collapsed": false,
     "input": [
      "## Exa10.2 : : Page-455 (2011) \n",
      "#calculate The Q-value for the reaction\n",
      "import math\n",
      "E_x = 7.70; ## Energy of the alpha particle, MeV\n",
      "E_y = 4.44; ## Energy of the proton, MeV\n",
      "m_x = 4.0;  ## Mass number of alpha particle\n",
      "m_y = 1.0;   ## Mass number of protium ion\n",
      "M_X = 14;   ## Mass number of nitrogen nucleus\n",
      "M_Y = 17;  ## Mass number of oxygen nucleus\n",
      "theta = 90*3.14/180.; ##  Angle between incident beam direction and emitted proton, degree\n",
      "A_x = 4.0026033; ## Atomic mass of alpha particle, u\n",
      "A_X = 14.0030742; ## Atomic mass of nitrogen nucleus, u\n",
      "A_y = 1.0078252;  ## Atomic mass of proton, u\n",
      "Q = ((E_y*(1+m_y/M_Y))-(E_x*(1-m_x/M_Y))-2./M_Y*math.sqrt((m_x*m_y*E_x*E_y))*math.cos(theta))/931.5;     ## Q-value, u\n",
      "A_Y = A_x+A_X-A_y-Q;     ## Atomic mass of O-17, u\n",
      "print'%s %.4f %s %.2f %s '%(\"\\nThe Q-value of the reaction = \",Q,\" u\" \" \\nThe atomic mass of the O-17 =\",A_Y,\" u\");\n",
      "\n",
      "## Result\n",
      "## The Q-value of the reaction = -0.0012755 u \n",
      "## The atomic mass of the O-17 = 16.9991278 u \n",
      "##  Atomic mass of the O-17 : 16.9991278 u "
     ],
     "language": "python",
     "metadata": {},
     "outputs": [
      {
       "output_type": "stream",
       "stream": "stdout",
       "text": [
        "\n",
        "The Q-value of the reaction =  -0.0013  u \n",
        "The atomic mass of the O-17 = 17.00  u \n"
       ]
      }
     ],
     "prompt_number": 14
    },
    {
     "cell_type": "heading",
     "level": 2,
     "metadata": {},
     "source": [
      "Ex3-pg455"
     ]
    },
    {
     "cell_type": "code",
     "collapsed": false,
     "input": [
      "## Exa10.3 : : Page-455 (2011)  \n",
      "#calculate The kinetic energy of the emitted neutron \n",
      "import math\n",
      "m_p = 1.007276;       ## Atomic mass of the proton, u\n",
      "m_H = 3.016049;         ## Atomic mass of the tritium, u \n",
      "m_He = 3.016029;          ## Atomic mass of the He ion, u \n",
      "m_n = 1.008665;            ## Atomic mass of the emitted neutron, u\n",
      "Q = (m_p+m_H-m_He-m_n)*931.5;         ## Q-value in MeV\n",
      "E_p = 3.;                      ## Kinetic energy of the proton, MeV \n",
      "theta = 30*3.14/180;           ## angle, radian\n",
      "u = math.sqrt(m_p*m_n*E_p)/(m_He+m_n)*math.cos(theta);         ##\n",
      "v = ((m_He*Q)+E_p*(m_He-m_p))/(m_He+m_n);                 ##\n",
      "E_n = (u+math.sqrt(u**2+v))**2;                  ## Kinetic energy of the emitted neutron,MeV\n",
      "print'%s %.2f %s'%(\"\\nThe kinetic energy of the emitted neutron = \",E_n,\" MeV\");\n",
      "\n",
      "## Result\n",
      "## The kinetic energy of the emitted neutron = 1.445 MeV "
     ],
     "language": "python",
     "metadata": {},
     "outputs": [
      {
       "output_type": "stream",
       "stream": "stdout",
       "text": [
        "\n",
        "The kinetic energy of the emitted neutron =  1.45  MeV\n"
       ]
      }
     ],
     "prompt_number": 1
    },
    {
     "cell_type": "heading",
     "level": 2,
     "metadata": {},
     "source": [
      "Ex4-pg456"
     ]
    },
    {
     "cell_type": "code",
     "collapsed": false,
     "input": [
      "## Exa10.4 : : Page-456 (2011)\n",
      "#findThe temperature in the fusion reaction \n",
      "import math\n",
      "r_min = 4e-015;        ## Distance between two deutrons, metre\n",
      "k = 1.3806504e-023;       ## Boltzmann's constant, Joule per kelvin\n",
      "alpha = 1/137.;            ## Fine structure constant\n",
      "h_red = 1.05457168e-034;        ## Reduced planck's constant, Joule sec\n",
      "C = 3e+08;                    ## Velocity of light, meter per second\n",
      "T = alpha*h_red*C/(r_min*k);\n",
      "print'%s %.2e %s'%(\"\\nThe temperature in the fusion reaction is =\",T,\" K\");\n",
      "\n",
      "## Result\n",
      "## The temperature in the fusion reaction is = 4.2e+009 K "
     ],
     "language": "python",
     "metadata": {},
     "outputs": [
      {
       "output_type": "stream",
       "stream": "stdout",
       "text": [
        "\n",
        "The temperature in the fusion reaction is = 4.18e+09  K\n"
       ]
      }
     ],
     "prompt_number": 2
    },
    {
     "cell_type": "heading",
     "level": 2,
     "metadata": {},
     "source": [
      "Ex5-pg456"
     ]
    },
    {
     "cell_type": "code",
     "collapsed": false,
     "input": [
      "## Exa11.5 : : Page-456 (2011) \n",
      "#find the excitation energy of the compound nucleus\n",
      "import math\n",
      "E_0 = 4.99;        ## Energy of the proton, MeV \n",
      "m_p = 1.;            ## Mass number of the proton\n",
      "m_F = 19.;            ## Mass number of the flourine\n",
      "E = E_0/(1+m_p/m_F);        ## Energy of the relative motion, MeV\n",
      "A_F = 18.998405;        ## Atomic mass of the fluorine, amu\n",
      "A_H = 1.007276;          ##  Atomic mass of the proton, amu\n",
      "A_Ne = 19.992440;         ## Atomic mass of the neon, amu\n",
      "del_E = (A_F+A_H-A_Ne)*931.5;        ## Binding energy of the absorbed proton, MeV\n",
      "E_exc = E+del_E;            ## Excitation energy of the compound nucleus, MeV\n",
      "print'%s %.2f %s'%(\"\\nThe excitation energy of the compound nucleus = \",E_exc,\" MeV\");\n",
      "\n",
      "## Result\n",
      "## The excitation energy of the compound nucleus = 17.074 MeV "
     ],
     "language": "python",
     "metadata": {},
     "outputs": [
      {
       "output_type": "stream",
       "stream": "stdout",
       "text": [
        "\n",
        "The excitation energy of the compound nucleus =  17.07  MeV\n"
       ]
      }
     ],
     "prompt_number": 11
    },
    {
     "cell_type": "heading",
     "level": 2,
     "metadata": {},
     "source": [
      "Ex6-pg457"
     ]
    },
    {
     "cell_type": "code",
     "collapsed": false,
     "input": [
      "## Exa10.6 : : Page-457 (2011)  \n",
      "#find The excitation energy of the compound nucleus and The parity of the compound nucleus\n",
      "import math\n",
      "E_d = 0.6;        ## Energy of the deutron, MeV \n",
      "m_d = 2.;            ## Mass number of the deutron\n",
      "m_Li = 19.;            ## Mass number of the Lithium\n",
      "E = E_d/(1.+m_d/m_Li);        ## Energy of the relative motion, MeV\n",
      "A_Li = 6.017;        ## Atomic mass of the Lithium, amu\n",
      "A_d = 2.015;          ##  Atomic mass of the deutron, amu\n",
      "A_Be = 8.008;         ## Atomic mass of the Beryllium, amu\n",
      "del_E = (A_Li+A_d-A_Be)*931.5;        ## Binding energy of the absorbed proton, MeV\n",
      "E_exc = E+del_E;            ## Excitation energy of the compound nucleus, MeV\n",
      "l_f = 2.;            ## orbital angular momentum of two alpha particle\n",
      "P = (-1)**l_f*(+1.)**2;        ## Parity of the compound nucleus\n",
      "print'%s %.2f %s %.2f %s '%(\"\\nThe excitation energy of the compound nucleus = \",E_exc,\" MeV\" and \"\\nThe parity of the compound nucleus = \",P,\"\");\n",
      "\n",
      "## Result\n",
      "## The excitation energy of the compound nucleus = 22.899 MeV\n",
      "## The parity of the compound nucleus = 1 \n"
     ],
     "language": "python",
     "metadata": {},
     "outputs": [
      {
       "output_type": "stream",
       "stream": "stdout",
       "text": [
        "\n",
        "The excitation energy of the compound nucleus =  22.90 \n",
        "The parity of the compound nucleus =  1.00  \n"
       ]
      }
     ],
     "prompt_number": 10
    },
    {
     "cell_type": "heading",
     "level": 2,
     "metadata": {},
     "source": [
      "Ex7-pg457"
     ]
    },
    {
     "cell_type": "code",
     "collapsed": false,
     "input": [
      "## Exa10.7 : : Page-457 (2011)\n",
      "#find The cross section for neutron induced fission\n",
      "import math\n",
      "D = 1e-016;        ## Disintegration constant, per sec\n",
      "phi = 10**11;              ## Neutron flux, neutrons per square cm per sec\n",
      "sigma = 5*D/(phi*10**-27);             ## Cross section, milli barns\n",
      "print'%s %.2f %s'%(\"\\nThe cross section for neutron induced fission = \",sigma,\" milli barns\");\n",
      "\n",
      "## Result\n",
      "## The cross section for neutron induced fission = 5 milli barns "
     ],
     "language": "python",
     "metadata": {},
     "outputs": [
      {
       "output_type": "stream",
       "stream": "stdout",
       "text": [
        "\n",
        "The cross section for neutron induced fission =  5.00  milli barns\n"
       ]
      }
     ],
     "prompt_number": 3
    },
    {
     "cell_type": "heading",
     "level": 2,
     "metadata": {},
     "source": [
      "Ex8-pg457"
     ]
    },
    {
     "cell_type": "code",
     "collapsed": false,
     "input": [
      "## Exa10.8 : : Page-457 (2011)\n",
      "#find The number of nuclei of Co60 produced and The initial activity\n",
      "import math\n",
      "N_0 = 6.02252e+026;        ## Avogadro's constant \n",
      "rho = 8.9*10**3;            ## Nuclear density of Co-59, Kg per cubic metre\n",
      "M = 59.;                    ## Mass number\n",
      "sigma = 30e-028;             ## Cross section, per square metre\n",
      "phi = 10**16;              ## Neutron flux, neutrons per square metre per sec\n",
      "d = 0.04e-02;                ## Thickness of Co-59 sheet, metre\n",
      "t = 3*60*60;                ## Total reaction time, sec\n",
      "t_half = 5.2*365*86400;        ## Half life of Co-60, sec \n",
      "D = 0.693/t_half;        ## Disintegration constant, per sec\n",
      "N_nuclei = round(N_0*rho/M*sigma*phi*d*t);        ## Number of nuclei of Co-60 produced\n",
      "Init_activity = D*N_nuclei;        ## Initial activity, decays per sec\n",
      "print'%s %.2e %s  %.2f %s '%(\"\\nThe number of nuclei of Co60 produced =\",N_nuclei,\" \" and \"\\nThe initial activity per Sq. metre = \",Init_activity,\" decays per sec\");\n",
      "\n",
      "## Result\n",
      "## The number of nuclei of Co60 produced = 1.18e+019 \n",
      "## The initial activity per Sq. metre = 5e+010 decays per sec "
     ],
     "language": "python",
     "metadata": {},
     "outputs": [
      {
       "output_type": "stream",
       "stream": "stdout",
       "text": [
        "\n",
        "The number of nuclei of Co60 produced = 1.18e+19 \n",
        "The initial activity per Sq. metre =   49755893720.42  decays per sec \n"
       ]
      }
     ],
     "prompt_number": 8
    },
    {
     "cell_type": "heading",
     "level": 2,
     "metadata": {},
     "source": [
      "Ex9-pg458"
     ]
    },
    {
     "cell_type": "code",
     "collapsed": false,
     "input": [
      "## Exa10.9 : : Page-458 (2011)\n",
      "#find The number of events detected\n",
      "import math\n",
      "d = 0.1;                ## Thickness of Fe-54 sheet, Kg per squre metre\n",
      "M = 54.;                   ## Mass number of Fe \n",
      "m = 1.66e-027;            ## Mass of the proton, Kg\n",
      "n = d/(M*m);            ## Number of nuclei in unit area of the target, nuclei per square metre\n",
      "ds = 10**-5;            ## Area, metre square\n",
      "r = 0.1;                ## Distance between detector and target foil, metre\n",
      "d_omega =ds/r**2;        ## Solid angle, steradian\n",
      "d_sigma = 1.3e-03*10**-3*10**-28;        ## Differential cross section, square metre per nuclei\n",
      "P = d_sigma*n;                ## Probablity, event per proton\n",
      "I = 10**-7;                    ## Current, ampere\n",
      "e = 1.6e-19;                ## Charge of the proton, C\n",
      "N = I/e;            ## Number of protons per second in the incident beam, proton per sec\n",
      "dN = P*N;            ## Number of events detected per second, events per sec\n",
      "print'%s %.2f %s'%(\"\\nThe number of events detected =\",dN,\" events per sec\");\n",
      "\n",
      "## Result\n",
      "## The number of events detected = 90 events per sec "
     ],
     "language": "python",
     "metadata": {},
     "outputs": [
      {
       "output_type": "stream",
       "stream": "stdout",
       "text": [
        "\n",
        "The number of events detected = 90.64  events per sec\n"
       ]
      }
     ],
     "prompt_number": 4
    },
    {
     "cell_type": "heading",
     "level": 2,
     "metadata": {},
     "source": [
      "Ex10-pg458"
     ]
    },
    {
     "cell_type": "code",
     "collapsed": false,
     "input": [
      "## Exa10.10 : : Page-458 (2011)\n",
      "#find The fractional attenuation of neutron beam on passing through nickel sheet\n",
      "import math\n",
      "N_0 = 6.02252e+26;        ## Avogadro's constant\n",
      "sigma = 3.5e-28;            ## Cross section, square metre\n",
      "rho = 8.9e+03;                ## Nuclear density, Kg per cubic metre\n",
      "M = 58.;                          ## Mass number  \n",
      "summation = rho/M*N_0*sigma;    ## Macroscopic cross section, per metre\n",
      "x = 0.01e-02;                   ## Thickness of nickel sheet, metre\n",
      "I0_ratio_I = math.exp(summation*x/2.3026);    ## Fractional attenuation of neutron beam on passing through nickel sheet\n",
      "print'%s %.2f %s ' %(\"\\nThe fractional attenuation of neutron beam on passing through nickel sheet =\", I0_ratio_I,\"\");\n",
      "print(\"Wrong answer given in the textbook\")\n",
      "## Result\n",
      "## The fractional attenuation of neutron beam on passing through nickel sheet = 1.0014 \n",
      "## Wrong answer given in the textbook\n"
     ],
     "language": "python",
     "metadata": {},
     "outputs": [
      {
       "output_type": "stream",
       "stream": "stdout",
       "text": [
        "\n",
        "The fractional attenuation of neutron beam on passing through nickel sheet = 1.00  \n",
        "Wrong answer given in the textbook\n"
       ]
      }
     ],
     "prompt_number": 6
    },
    {
     "cell_type": "heading",
     "level": 2,
     "metadata": {},
     "source": [
      "Ex11-pg458"
     ]
    },
    {
     "cell_type": "code",
     "collapsed": false,
     "input": [
      "## Exa10.11 : : Page-458 (2011)\n",
      "#find he scattering contribution to the resonance \n",
      "import math\n",
      "D = math.sqrt(1.45e-021/(4.*math.pi));        ## Wavelength, metre\n",
      "W_ratio = 2.3e-07;                    ## Width ratio\n",
      "sigma = W_ratio*(4*math.pi)*D**2*10**28;            ## Scattering contribution, barn\n",
      "print'%s %.2f %s'%(\"\\nThe scattering contribution to the resonance = \",sigma,\" barns\");\n",
      "\n",
      "## Result\n",
      "## The scattering contribution to the resonance = 3.33 barns \n"
     ],
     "language": "python",
     "metadata": {},
     "outputs": [
      {
       "output_type": "stream",
       "stream": "stdout",
       "text": [
        "\n",
        "The scattering contribution to the resonance =  3.33  barns\n"
       ]
      }
     ],
     "prompt_number": 5
    },
    {
     "cell_type": "heading",
     "level": 2,
     "metadata": {},
     "source": [
      "Ex12-pg458"
     ]
    },
    {
     "cell_type": "code",
     "collapsed": false,
     "input": [
      "## Exa10.12 : : Page-458 (2011)\n",
      "#find The relative probabilities\n",
      "import math\n",
      "sigma = 2.8e-024;        ## Cross section, metre square\n",
      "D = 2.4e-11;        ## de Broglie wavelength, metre\n",
      "R_prob = math.pi*sigma/D**2;        ## Relative probabilities of (n,n) and (n,y) in indium\n",
      "print'%s %.2f %s'%(\"\\nThe relative probabilities of (n,n) and (n,y) in indium = \", R_prob,\"\");\n",
      "\n",
      "## Result\n",
      "## The relative probabilities of (n,n) and (n,y) in indium = 0.015 \n",
      " \n"
     ],
     "language": "python",
     "metadata": {},
     "outputs": [
      {
       "output_type": "stream",
       "stream": "stdout",
       "text": [
        "\n",
        "The relative probabilities of (n,n) and (n,y) in indium =  0.02 \n"
       ]
      }
     ],
     "prompt_number": 4
    },
    {
     "cell_type": "heading",
     "level": 2,
     "metadata": {},
     "source": [
      "Ex13-pg459"
     ]
    },
    {
     "cell_type": "code",
     "collapsed": false,
     "input": [
      "## Exa10.13 : : Page-459 (2011)\n",
      "#find The cross section of neutron capture\n",
      "import math\n",
      "h = 6.625e-34;            ## Planck's constant, joule sec \n",
      "m_n = 1.67e-27;          ## Mass of neutron, Kg\n",
      "E = 4.906;           ## Energy, joule \n",
      "w_y = 0.124;                ## radiation width, eV\n",
      "w_n = 0.007*E**(1/2.);                ## Probability of elastic emission of neutron, eV\n",
      "I = 3.;                    ## Total angular momentum\n",
      "I_c = 2.;                    ## Total angular momentum in the compound state\n",
      "sigma = ((h**2)*(2*I_c+1)*w_y*w_n)*10**28/(2.*math.pi*m_n*E*1.602e-019*(2*I+1)*(w_y+w_n)**2);    ## Cross section, barns\n",
      "print'%s %.3e %s'%(\"\\nThe cross section of neutron capture = \",sigma,\" barns\");\n",
      "\n",
      "## Result\n",
      "## The cross section of neutron capture = 3.755e+004 barns \n",
      " \n"
     ],
     "language": "python",
     "metadata": {},
     "outputs": [
      {
       "output_type": "stream",
       "stream": "stdout",
       "text": [
        "\n",
        "The cross section of neutron capture =  3.755e+04  barns\n"
       ]
      }
     ],
     "prompt_number": 3
    },
    {
     "cell_type": "heading",
     "level": 2,
     "metadata": {},
     "source": [
      "Ex14-pg459"
     ]
    },
    {
     "cell_type": "code",
     "collapsed": false,
     "input": [
      "## Exa10.14 : : Page-459 (2011)\n",
      "#fid the value of theta max\n",
      "import math\n",
      "import numpy\n",
      "R = 5.;                   ## Radius, femto metre\n",
      "k_d = 0.98;               ## The value of k for deutron \n",
      "k_p = 0.82;            ## The value of k for triton\n",
      "theta = numpy.zeros((1,5));        ## Angles at which differetial cross section is maximum, degree\n",
      "## Use of for loop for angles calculation(in degree)\n",
      "for l in range (1,4):\n",
      "    theta = round((math.acos((k_d**2+k_p**2)/(2.*k_d*k_p)-l**2/(2.*k_d*k_p*R**2)))*180./3.14,0);\n",
      "    #theta = round((acos((k_d^2+k_p^2)/(2*k_d*k_p)-l^2/(2*k_d*k_p*R^2)))*180/3.14);\n",
      "    print'%s %.2f %s'%(\"\\nFor l = \", l,\"\");\n",
      "    print'%s %.2f %s'%(\"the value of theta_max =  \", math.ceil(theta),\"degree\");\n",
      "    \n",
      "\n",
      "## Result\n",
      "## For l = 0,the value of theta_max = 0 degree\n",
      "## For l = 1,the value of theta_max = 8 degree\n",
      "## For l = 2,the value of theta_max = 24 degree\n",
      "## For l = 3,the value of theta_max = 38 degree\n",
      "## For l = 4,the value of theta_max = 52 degree "
     ],
     "language": "python",
     "metadata": {},
     "outputs": [
      {
       "output_type": "stream",
       "stream": "stdout",
       "text": [
        "\n",
        "For l =  1.00 \n",
        "the value of theta_max =   8.00 degree\n",
        "\n",
        "For l =  2.00 \n",
        "the value of theta_max =   24.00 degree\n",
        "\n",
        "For l =  3.00 \n",
        "the value of theta_max =   38.00 degree\n"
       ]
      }
     ],
     "prompt_number": 1
    },
    {
     "cell_type": "heading",
     "level": 2,
     "metadata": {},
     "source": [
      "Ex15-pg459"
     ]
    },
    {
     "cell_type": "code",
     "collapsed": false,
     "input": [
      "## Exa10.15 : : Page-459 (2011)\n",
      "#calculate total angular momentum transfer\n",
      "import math\n",
      "k_d = 2.02e+30;        ## The value of k for deutron\n",
      "k_t = 2.02e+30;        ## The value of k for triton\n",
      "theta = 23*3.14/180;        ## Angle, radiams\n",
      "q = math.sqrt (k_d+k_t-2*k_t*math.cos(theta))*10**-15;        ## the value of q in femto metre\n",
      "R_0 = 1.2;        ## Distance of closest approach, femto metre\n",
      "A = 90.;            ## Mass number of Zr-90\n",
      "z = 4.30;            ## Deutron size, femto metre\n",
      "R = R_0*A**(1/3.)+1/2.*z;        ## Radius of the nucleus, femto metre\n",
      "l = round(q*R);            ## Orbital angular momentum\n",
      "I = l+1./2.                    ## Total angular momentum\n",
      "print'%s %.2f %s'%(\"\\nThe total angular momentum transfer =  \", I,\"\");\n",
      "\n",
      "## Result\n",
      "## The total angular momentum transfer = 4.5  "
     ],
     "language": "python",
     "metadata": {},
     "outputs": [
      {
       "output_type": "stream",
       "stream": "stdout",
       "text": [
        "\n",
        "The total angular momentum transfer =   4.50 \n"
       ]
      }
     ],
     "prompt_number": 1
    }
   ],
   "metadata": {}
  }
 ]
}