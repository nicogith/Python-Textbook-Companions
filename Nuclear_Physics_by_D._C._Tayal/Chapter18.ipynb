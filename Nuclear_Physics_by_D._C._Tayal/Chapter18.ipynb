{
 "metadata": {
  "name": "",
  "signature": "sha256:f0f3883962d3ff2205f0aa7b119a41b1115305734d5340cd468bd7addc3f1d3f"
 },
 "nbformat": 3,
 "nbformat_minor": 0,
 "worksheets": [
  {
   "cells": [
    {
     "cell_type": "heading",
     "level": 1,
     "metadata": {},
     "source": [
      "Chapter18-Elementry Particles"
     ]
    },
    {
     "cell_type": "heading",
     "level": 2,
     "metadata": {},
     "source": [
      "Ex1-pg770"
     ]
    },
    {
     "cell_type": "code",
     "collapsed": false,
     "input": [
      "## Exa18.1 : : Page-770 (2011)\n",
      "#find The root mean square radius of charge distribution\n",
      "import math \n",
      "m_sqr = 0.71;        ## For proton, (GeV/c-square)^2\n",
      "R_rms = math.sqrt(12.)/(math.sqrt(m_sqr)*5.1);    ## Root mean square radius, femto metre\n",
      "print'%s %.2f %s'%(\"\\nThe root mean square radius of charge distribution: \",R_rms,\" fermi\");\n",
      "\n",
      "## Result\n",
      "## The root mean square radius of charge distribution: 0.81 fermi "
     ],
     "language": "python",
     "metadata": {},
     "outputs": [
      {
       "output_type": "stream",
       "stream": "stdout",
       "text": [
        "\n",
        "The root mean square radius of charge distribution:  0.81  fermi\n"
       ]
      }
     ],
     "prompt_number": 1
    },
    {
     "cell_type": "heading",
     "level": 2,
     "metadata": {},
     "source": [
      "Ex3-pg763"
     ]
    },
    {
     "cell_type": "code",
     "collapsed": false,
     "input": [
      "## Ex18.3 : : Page-763 (2011)\n",
      "#find all reactions\n",
      "import math\n",
      "import numpy\n",
      "p = numpy.zeros((1,2));             ## proton\n",
      "pi_minus = numpy.zeros((1,2));      ##pi minus meson\n",
      "pi_plus = numpy.zeros((1,2));       ## pi plus meson\n",
      "n = numpy.zeros((1,2));             ## neutron\n",
      "lamda_0 = numpy.zeros((1,2));       ## lamda hyperon\n",
      "K_0 = numpy.zeros((1,2));           ## K zero (Kaons)\n",
      "K_plus =numpy.zeros((1,2));        ## K plus (Kaons)\n",
      "sigma_plus = numpy.zeros((1,2));    ## hyperon \n",
      "sigma_minus = numpy.zeros((1,2))    ## hyperon\n",
      "ksi_minus = numpy.zeros((1,2));     ## hyperon\n",
      "## Allocate the value of Isospins (T and T3)\n",
      "p[0,0] = 1/2;\n",
      "p[0,1] = 1/2;\n",
      "pi_minus[0,0] = 1;\n",
      "pi_minus[0,1] = -1;\n",
      "pi_plus[0,0] = 1;\n",
      "pi_plus[0,1] = +1;\n",
      "n[0,0] = 1/2;\n",
      "n[0,1] = -1/2;\n",
      "lambda_0=numpy.zeros((1,2));\n",
      "lambda_0[0,0] = 0;\n",
      "lambda_0[0,1] = 0;\n",
      "K_0[0,0] = pi_minus[0,0]+p[0,0];\n",
      "K_0[0,1] = pi_minus[0,1]+p[0,1] ;\n",
      "K_plus[0,0] = p[0,0]+p[0,0]-lambda_0[0,0]-p[0,0];\n",
      "K_plus[0,1] = p[0,1]+p[0,1]-lambda_0[0,1]-p[0,1] ;\n",
      "sigma_plus[0,0] = pi_plus[0,0]+p[0,0]-K_plus[0,0];\n",
      "sigma_plus[0,1] =  pi_plus[0,1]+p[0,1]-K_plus[0,1];\n",
      "sigma_minus[0,0] =  pi_minus[0,0]+p[0,0]-K_plus[0,0];\n",
      "sigma_minus[0,1] =  pi_minus[0,1]+p[0,1]-K_plus[0,1];\n",
      "ksi_minus[0,0] = pi_plus[0,0]+n[0,0]-K_plus[0,0]-K_plus[0,0];\n",
      "ksi_minus[0,1] = pi_plus[0,1]+n[0,1]-K_plus[0,1]-K_plus[0,1];\n",
      "print'%s'%(\"\\n  Reaction I \\n         pi_minus + p ......> lambda_0  + K_0\");\n",
      "print'%s %.2f %s'%(\"\\n The value of T for K_0 is : %3.1f \",K_0[0,0],\"\");\n",
      "print'%s %.2f %s'%(\"\\n The value of T3 for K_0 is : %3.1f \",K_0[0,1],\"\");\n",
      "print(\"\\n  Reaction II \\n         pi_plus + p -> lambda_0  + K_plus\");\n",
      "print'%s %.2f %s'%(\"\\n The value of T for K_plus is : %3.1f \",K_plus[0,0],\"\");\n",
      "print'%s %.2f %s'%(\"\\n The value of T3 for K_plus is : %3.1f \",K_plus[0,1],\"\");\n",
      "print(\"\\n  Reaction III \\n         pi_plus + n -> lambda_0 + K_plus\");\n",
      "print'%s %.2f %s'%(\"\\n The value of T for K_plus is : %3.1f \",K_plus[0,0],\"\");\n",
      "print'%s %.2f %s'%(\"\\n The value of T3 for K_plus is : %3.1f \",K_plus[0,1],\"\");\n",
      "print(\"\\n  Reaction VI \\n         pi_minus + p -> sigma_minus  + K_plus\");\n",
      "print'%s %.2f %s'%(\"\\n The value of T for sigma_minus is : %3.1f \",sigma_minus[0,0],\"\");\n",
      "print'%s %.2f %s'%(\"\\n The value of T3 for sigma_minus is : %3.1f \",sigma_minus[0,1],\"\");\n",
      "print(\"\\n  Reaction V \\n         pi_plus + p -> sigma_plus  + K_plus\");\n",
      "print'%s %.2f %s'%(\"\\n The value of T for sigma_plus is : %3.1f \",sigma_plus[0,0],\"\");\n",
      "print'%s %.2f %s'%(\"\\n The value of T3 for sigma_plus is : %3.1f \",sigma_plus[0,1],\"\");\n",
      "print(\"\\n  Reaction VI \\n         pi_plus + n -> ksi_minus  + K_plus + K_plus\");\n",
      "print'%s %.2f %s'%(\"\\n The value of T for Ksi_minus is : %3.1f \",ksi_minus[0,0],\"\");\n",
      "print'%s %.2f %s'%(\"\\n The value of T3 for Ksi_minus is : %3.1f \",ksi_minus[0,1],\"\");\n",
      "\n",
      "## Result\n",
      "##  \n",
      "##  Reaction I \n",
      "##         pi_minus + p -> lambda_0  + K_0\n",
      "## The value of T for K_0 is : 1.5 \n",
      "## The value of T3 for K_0 is : -0.5 \n",
      "##  Reaction II \n",
      "##         pi_plus + p -> lambda_0  + K_plus\n",
      "## The value of T for K_plus is : 0.5 \n",
      "## The value of T3 for K_plus is : 0.5 \n",
      "##  Reaction III \n",
      "##         pi_plus + n -> lambda_0  + K_plus\n",
      "## The value of T for K_plus is : 0.5 \n",
      "## The value of T3 for K_plus is : 0.5 \n",
      "##  Reaction VI \n",
      " ##        pi_minus + p -> sigma_minus  + K_plus\n",
      "## The value of T for sigma_minus is : 1.0 \n",
      "## The value of T3 for sigma_minus is : -1.0 \n",
      "##  Reaction V \n",
      "##         pi_plus + p -> sigma_plus  + K_plus\n",
      "## The value of T for sigma_plus is : 1.0 \n",
      "## The value of T3 for sigma_plus is : 1.0 \n",
      "##  Reaction VI \n",
      " ##        pi_plus + n -> ksi_minus  + K_plus + K_plus\n",
      "## The value of T for Ksi_minus is : 0.5 \n",
      "## The value of T3 for Ksi_minus is : -0.5 \n",
      "print(\"ans is slighlty different from book due to rounding off error\")\n"
     ],
     "language": "python",
     "metadata": {},
     "outputs": [
      {
       "output_type": "stream",
       "stream": "stdout",
       "text": [
        "\n",
        "  Reaction I \n",
        "         pi_minus + p ......> lambda_0  + K_0\n",
        "\n",
        " The value of T for K_0 is : %3.1f  1.00 \n",
        "\n",
        " The value of T3 for K_0 is : %3.1f  -1.00 \n",
        "\n",
        "  Reaction II \n",
        "         pi_plus + p -> lambda_0  + K_plus\n",
        "\n",
        " The value of T for K_plus is : %3.1f  0.00 \n",
        "\n",
        " The value of T3 for K_plus is : %3.1f  0.00 \n",
        "\n",
        "  Reaction III \n",
        "         pi_plus + n -> lambda_0 + K_plus\n",
        "\n",
        " The value of T for K_plus is : %3.1f  0.00 \n",
        "\n",
        " The value of T3 for K_plus is : %3.1f  0.00 \n",
        "\n",
        "  Reaction VI \n",
        "         pi_minus + p -> sigma_minus  + K_plus\n",
        "\n",
        " The value of T for sigma_minus is : %3.1f  1.00 \n",
        "\n",
        " The value of T3 for sigma_minus is : %3.1f  -1.00 \n",
        "\n",
        "  Reaction V \n",
        "         pi_plus + p -> sigma_plus  + K_plus\n",
        "\n",
        " The value of T for sigma_plus is : %3.1f  1.00 \n",
        "\n",
        " The value of T3 for sigma_plus is : %3.1f  1.00 \n",
        "\n",
        "  Reaction VI \n",
        "         pi_plus + n -> ksi_minus  + K_plus + K_plus\n",
        "\n",
        " The value of T for Ksi_minus is : %3.1f  1.00 \n",
        "\n",
        " The value of T3 for Ksi_minus is : %3.1f  0.00 \n",
        "ans is slighlty different from book due to rounding off error\n"
       ]
      }
     ],
     "prompt_number": 1
    },
    {
     "cell_type": "heading",
     "level": 2,
     "metadata": {},
     "source": [
      "Ex9-pg766"
     ]
    },
    {
     "cell_type": "code",
     "collapsed": false,
     "input": [
      "## Ex18.9 : : Page-766 (2011)\n",
      "import math\n",
      "#find The lifetime of sigma particle and The isospin of sigma particle \n",
      "h_cross = 6.62e-022;      ## Redueced planck's constant, MeV sec\n",
      "p_width = 0.88*35;        ## Partial width of the decay, MeV    \n",
      "tau = h_cross/p_width;    ## Life time of sigma, sec    \n",
      "T_pi = 1.;                 ## Isospin of pi plus particle  \n",
      "T_lambda = 0.;             ## Isospin of lambda zero particle   \n",
      "T_sigma  = T_pi+T_lambda; ## Isospin of sigma particle   \n",
      "print'%s %.2e %s'%(\"\\nThe lifetime of sigma particle = \",tau,\" s\")\n",
      "print(\"The reaction is strong\")\n",
      "print\"%s %.2f %s\"%(\"The isospin of sigma particle is : \",T_sigma,\"\");\n",
      "\n",
      "## Result\n",
      "## The lifetime of sigma particle = 2.15e-023 s\n",
      "## The reaction is strong\n",
      "## The isospin of sigma particle is : 1 "
     ],
     "language": "python",
     "metadata": {},
     "outputs": [
      {
       "output_type": "stream",
       "stream": "stdout",
       "text": [
        "\n",
        "The lifetime of sigma particle =  2.15e-23  s\n",
        "The reaction is strong\n",
        "The isospin of sigma particle is :  1.00 \n"
       ]
      }
     ],
     "prompt_number": 4
    },
    {
     "cell_type": "heading",
     "level": 2,
     "metadata": {},
     "source": [
      "Ex10-pg767"
     ]
    },
    {
     "cell_type": "code",
     "collapsed": false,
     "input": [
      "##Exa18.10 : : Page-767 (2011)\n",
      "#find The mean life for tau plus\n",
      "import math\n",
      "m_mew = 106.;        ## Mass of mew lepton, mega electron volts per square c\n",
      "m_tau = 1784.;       ## Mass of tau lepton, mega electron volts per square c\n",
      "tau_mew = 2.2e-06;    ## Mean life of mew lepton, sec\n",
      "R = 16/100.;           ## Branching factor\n",
      "tau_plus = R*(m_mew/m_tau)**5*tau_mew;        ## Mean life for tau plus, sec\n",
      "print'%s %.2e %s'%(\"\\nThe mean life for tau plus : \",tau_plus,\" sec\");\n",
      "\n",
      "## Result\n",
      "## The mean life for tau plus : 2.6e-013 sec "
     ],
     "language": "python",
     "metadata": {},
     "outputs": [
      {
       "output_type": "stream",
       "stream": "stdout",
       "text": [
        "\n",
        "The mean life for tau plus :  2.61e-13  sec\n"
       ]
      }
     ],
     "prompt_number": 5
    },
    {
     "cell_type": "heading",
     "level": 2,
     "metadata": {},
     "source": [
      "Ex13-pg768"
     ]
    },
    {
     "cell_type": "code",
     "collapsed": false,
     "input": [
      "# Exa18.13 : : Page-768(2011)\n",
      "#find The possible charge states \n",
      "def symbol(val):\n",
      "    global s\n",
      "    if val == 2 :\n",
      "        s = '++';\n",
      "    elif val == 1:\n",
      "        s = '+';\n",
      "    elif val == 0:\n",
      "        s = '0';\n",
      "    elif val == -1:\n",
      "        s = '-';\n",
      "    return s\n",
      "\n",
      "B = 1;         # Baryon number\n",
      "S1 = 0;        # Strangeness quantum number\n",
      "Q = numpy.zeros((1,4))    # Charge\n",
      "I3 = 3/2.; \n",
      "print (\"\\nThe possible charge states are\");\n",
      "for i in range(0,4): \n",
      "    Q = I3+(B+S1)/2.;\n",
      "    symb = symbol(Q);\n",
      "    print symb\n",
      "    I3 = I3 - 1;\n",
      "\n",
      "print (\" respectively\");\n",
      "\n",
      "# Result\n",
      "# The possible charge states are ++ + 0 - respectively "
     ],
     "language": "python",
     "metadata": {},
     "outputs": [
      {
       "output_type": "stream",
       "stream": "stdout",
       "text": [
        "\n",
        "The possible charge states are\n",
        "++\n",
        "+\n",
        "0\n",
        "-\n",
        " respectively\n"
       ]
      }
     ],
     "prompt_number": 18
    },
    {
     "cell_type": "heading",
     "level": 2,
     "metadata": {},
     "source": [
      "Ex15-pg768"
     ]
    },
    {
     "cell_type": "code",
     "collapsed": false,
     "input": [
      "## Exa18.15 : : Page-768 (2011)\n",
      "#find The branching ratio for a resonanc\n",
      "import math\n",
      "I_1 = 3/2.;         ## Isospin for delta(1232)\n",
      "I_2 = 1/2.;         ## Isospin for delta 0\n",
      "delta_ratio = math.sqrt((2./3.)**2)/math.sqrt((1./3.)**2);        ## Branching ratio\n",
      "print'%s %.2f %s'%(\"\\nThe branching ratio for a resonance with I = 1/2 is \", delta_ratio,\"\");\n",
      "\n",
      "## Result\n",
      "## The branching ratio for a resonance with I = 1/2 is 2 "
     ],
     "language": "python",
     "metadata": {},
     "outputs": [
      {
       "output_type": "stream",
       "stream": "stdout",
       "text": [
        "\n",
        "The branching ratio for a resonance with I = 1/2 is  2.00 \n"
       ]
      }
     ],
     "prompt_number": 6
    },
    {
     "cell_type": "heading",
     "level": 2,
     "metadata": {},
     "source": [
      "Ex16-pg768"
     ]
    },
    {
     "cell_type": "code",
     "collapsed": false,
     "input": [
      "## Exa18.16 : : Page-768 (2011)\n",
      "#find The cross section ratio\n",
      "import math\n",
      "phi = 45*math.pi/180;        ## Phase difference\n",
      "Cross_sec_ratio = 1/4.*(5.+4.*math.cos(phi))/(1-math.cos(phi));        ## Cross section ratio\n",
      "print'%s %.2f %s'%(\"\\nThe cross section ratio : \", Cross_sec_ratio,\"\");\n",
      "\n",
      "## Result\n"
     ],
     "language": "python",
     "metadata": {},
     "outputs": [
      {
       "output_type": "stream",
       "stream": "stdout",
       "text": [
        "\n",
        "The cross section ratio :  6.68 \n"
       ]
      }
     ],
     "prompt_number": 7
    },
    {
     "cell_type": "heading",
     "level": 2,
     "metadata": {},
     "source": [
      "Ex18-pg770"
     ]
    },
    {
     "cell_type": "code",
     "collapsed": false,
     "input": [
      "## Exa18.18 : : Page-770 (2011)\n",
      "#find The root mean square radius of charge distribution\n",
      "import math \n",
      "m_sqr = 0.71;        ## For proton, (GeV/c-square)^2\n",
      "R_rms = math.sqrt(12.)/(math.sqrt(m_sqr)*5.1);    ## Root mean square radius, femto metre\n",
      "print'%s %.2f %s'%(\"\\nThe root mean square radius of charge distribution: \",R_rms,\" fermi\");\n",
      "\n",
      "## Result\n",
      "## The root mean square radius of charge distribution: 0.81 fermi math"
     ],
     "language": "python",
     "metadata": {},
     "outputs": [
      {
       "output_type": "stream",
       "stream": "stdout",
       "text": [
        "\n",
        "The root mean square radius of charge distribution:  0.81  fermi\n"
       ]
      }
     ],
     "prompt_number": 8
    }
   ],
   "metadata": {}
  }
 ]
}