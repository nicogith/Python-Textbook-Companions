{
 "metadata": {
  "name": "",
  "signature": "sha256:41d72ff7de4eab79477527ee635fed63748fe3041e37a18b80daacf784f19007"
 },
 "nbformat": 3,
 "nbformat_minor": 0,
 "worksheets": [
  {
   "cells": [
    {
     "cell_type": "heading",
     "level": 1,
     "metadata": {},
     "source": [
      "Chapter2-Radioactivity and Isotopes"
     ]
    },
    {
     "cell_type": "heading",
     "level": 2,
     "metadata": {},
     "source": [
      "Ex1-pg88"
     ]
    },
    {
     "cell_type": "code",
     "collapsed": false,
     "input": [
      "##Exa2.1: : Page-88 (2011) \n",
      "#find Weight of one Curie of RaB and Weight of one Rutherford of RaB\n",
      "T = 26.8*60;    ## Half life of the substance, s\n",
      "C = 3.7e+010;   ## One curie, disintegration per sec\n",
      "N = 6.022137e+026; ## Avogadro number, per kmol\n",
      "m = 214.; ## Molecular weight of RaB, kg/kmol\n",
      "R = 1e+006; ## One Rutherford, disintegration per sec.\n",
      "W_C = C*T*m/(N*0.693); ## Weight of one Curie of RaB, Kg \n",
      "W_R = R*T*m/(N*0.693); ## Weight of one Rutherford of RaB, Kg \n",
      "print\"%s %.2e %s %.2e %s \"%(\"\\nWeight of one Curie of RaB : \",W_C,\" Kg\"and \" \\nWeight of one Rutherford of RaB : \",W_R,\" Kg\");\n",
      "\n",
      "## Result\n",
      "## Weight of one Curie of RaB : 3.051e-011 Kg \n",
      "## Weight of one Rutherford of RaB : 8.245e-016 Kg "
     ],
     "language": "python",
     "metadata": {},
     "outputs": [
      {
       "output_type": "stream",
       "stream": "stdout",
       "text": [
        "\n",
        "Weight of one Curie of RaB :  3.05e-11  \n",
        "Weight of one Rutherford of RaB :  8.25e-16  Kg \n"
       ]
      }
     ],
     "prompt_number": 1
    },
    {
     "cell_type": "heading",
     "level": 2,
     "metadata": {},
     "source": [
      "Ex2-pg88"
     ]
    },
    {
     "cell_type": "code",
     "collapsed": false,
     "input": [
      "##  Exa2.2 : : Page 88 (2011)\n",
      "#find The maximum activity of Na-24 and The time needed to produced 90 percent of the maximum activity\n",
      "import math\n",
      "T_h = 14.8; ## Half life of Na-24, hours\n",
      "Q = 1e+008; ## Production rate of Na-24, per sec\n",
      "L = 0.693/T_h; ## Decay constant, per sec\n",
      "t = 2.; ## Time after the bombardment, hours\n",
      "A = Q/3.7e+010*1000; ## The maximum activity of Na-24, mCi\n",
      "T = -1*math.log(0.1)/L; ## The time needed to produced 90% of the maximum activity, hour\n",
      "N = 0.9*Q*3600./L*math.e**(-L*t); ## Number of atoms of Na-24 left two hours after bombardment was stopped\n",
      "print'%s %.2f %s %.2f %s  %.2f %s  '%(\"\\nThe maximum activity of Na-24 = \",A,\" mCi\"and \"\\nThe time needed to produced 90 percent of the maximum activity =\",T,\" hrs\" and\"\\nNumber of atoms of Na-24 left two hours after bombardment was stopped =  \",N,\"\")\n",
      "\n",
      "\n",
      "## Result\n",
      "## The maximum activity of Na-24 = 2.7 mCi\n",
      "## The time needed to produced 90 percent of the maximum activity = 49.2 hrs \n",
      "## Number of atoms of Na-24 left two hours after bombardment was stopped = 6.30e+012  "
     ],
     "language": "python",
     "metadata": {},
     "outputs": [
      {
       "output_type": "stream",
       "stream": "stdout",
       "text": [
        "\n",
        "The maximum activity of Na-24 =  2.70 \n",
        "The time needed to produced 90 percent of the maximum activity = 49.17 \n",
        "Number of atoms of Na-24 left two hours after bombardment was stopped =    6300897280447.79   \n"
       ]
      }
     ],
     "prompt_number": 2
    },
    {
     "cell_type": "heading",
     "level": 2,
     "metadata": {},
     "source": [
      "Ex3-pg89"
     ]
    },
    {
     "cell_type": "code",
     "collapsed": false,
     "input": [
      "##  Exa2.3: : Page 89 (2011)\n",
      "#find The activity of K-40 and disintegrations\n",
      "T = 1.31e+09*365*24*60*60;    ## Half life of the substance,sec\n",
      "N = 6.022137e+026; ## Avogadro number.\n",
      "m = 0.35*0.012*10**-2; ## Mass of K-40, Kg.\n",
      "A = m*N*0.693/(T*40); ## Activity of K-40, disintegrations/sec. \n",
      "print'%s %.2e %s %.3f %s '%(\"\\nThe activity of K-40 = \",A,\" \"and \"disintegrations/sec = \",A/3.7e+004,\" micro-curie\");\n",
      "\n",
      "## Result\n",
      "## The activity of K-40 = 1.061e+004 disintegrations/sec = 0.287 micro-curie "
     ],
     "language": "python",
     "metadata": {},
     "outputs": [
      {
       "output_type": "stream",
       "stream": "stdout",
       "text": [
        "\n",
        "The activity of K-40 =  1.06e+04 disintegrations/sec =  0.287  micro-curie \n"
       ]
      }
     ],
     "prompt_number": 1
    },
    {
     "cell_type": "heading",
     "level": 2,
     "metadata": {},
     "source": [
      "Ex4-pg89"
     ]
    },
    {
     "cell_type": "code",
     "collapsed": false,
     "input": [
      "##  Exa2.4 : : Page 89 (2011)\n",
      "#find The age of the boat\n",
      "import math\n",
      "T = 5568;    ## Half life of the C-14,years\n",
      "D = 0.693/T; ## Disintegration constant, years^-1.\n",
      "N_0 = 15.6/D; ## Activity of fresh carbon, dpm .gm\n",
      "N = 3.9/D; ## Activity of an ancient wooden boat,dpm.gm.\n",
      "t = 1/(D)*math.log(N_0/N); ## Age of the boat, years\n",
      "print'%s %.2e %s'%(\"\\nThe age of the boat : \",t,\" years\")\n",
      "\n",
      "## Result\n",
      "## The age of the boat : 1.114e+004 years"
     ],
     "language": "python",
     "metadata": {},
     "outputs": [
      {
       "output_type": "stream",
       "stream": "stdout",
       "text": [
        "\n",
        "The age of the boat :  1.11e+04  years\n"
       ]
      }
     ],
     "prompt_number": 4
    },
    {
     "cell_type": "heading",
     "level": 2,
     "metadata": {},
     "source": [
      "Ex5-pg90"
     ]
    },
    {
     "cell_type": "code",
     "collapsed": false,
     "input": [
      "##  Exa2.5 : : Page 90 (2011)\n",
      "#find The activity of U-234 \n",
      "import math\n",
      "m_0 = 3e-06;## Initial mass of the U-234, Kg\n",
      "A = 6.022137e+026; ##Avagadro's number, atoms\n",
      "N_0 = m_0*A/234.; ## Initial number of atoms\n",
      "T = 2.50e+05; ## Half life, years\n",
      "D= 0.693/T; ## Disintegration constant\n",
      "t = 150000; ## Disintegration time, years\n",
      "m = m_0*math.e**(-D*t); ## Mass after time t,Kg\n",
      "activity = m*D/(365.*24.*60.*60.)*A/234.; ## Activity of U-234 after time t,dps\n",
      "print'%s %.1f %s %.2f %s'%(\"\\nThe activity of U-234 after \",t,\"\"and\" yrs = \",activity,\" disintegrations/sec\");\n",
      "\n",
      "## Result\n",
      "## The activity of U-234 after 150000 yrs = 4.478e+005 disintegrations/sec"
     ],
     "language": "python",
     "metadata": {},
     "outputs": [
      {
       "output_type": "stream",
       "stream": "stdout",
       "text": [
        "\n",
        "The activity of U-234 after  150000.0  447778.26  disintegrations/sec\n"
       ]
      }
     ],
     "prompt_number": 5
    },
    {
     "cell_type": "heading",
     "level": 2,
     "metadata": {},
     "source": [
      "Ex6-pg90"
     ]
    },
    {
     "cell_type": "code",
     "collapsed": false,
     "input": [
      "##  Exa2.6 : : Page 90 (2011)\n",
      "#find The number of alpha decays in Th-232\n",
      "import math\n",
      "A = 6.022137e+023; ##Avagadro's number, atoms\n",
      "N_0 = A/232.; ## Initial number of atoms\n",
      "t = 3.150e+07; ## Decay time, sec\n",
      "D = 1.58e-018; ## Disintegration constant,sec^-1\n",
      "N = D*t*N_0; ## Number of alpha decays in Th-232\n",
      "print'%s %.2e %s'%(\"\\nThe number of alpha decays in Th-232 =  \", N,\"\");\n",
      "\n",
      "## Result\n",
      "## The number of alpha decays in Th-232 = 1.29e+011"
     ],
     "language": "python",
     "metadata": {},
     "outputs": [
      {
       "output_type": "stream",
       "stream": "stdout",
       "text": [
        "\n",
        "The number of alpha decays in Th-232 =   1.29e+11 \n"
       ]
      }
     ],
     "prompt_number": 6
    },
    {
     "cell_type": "heading",
     "level": 2,
     "metadata": {},
     "source": [
      "Ex7-pg90"
     ]
    },
    {
     "cell_type": "code",
     "collapsed": false,
     "input": [
      "##  Exa2.7 : : Page 90 (2011)\n",
      "#find The maximum possible age of the earth crust\n",
      "import math\n",
      "T_238 = 4.5e+09;## Half life of U-238, years\n",
      "T_235 = 7.13e+08; ## Half life of U-238, years\n",
      "lambda_238 = 0.693/T_238; ## Disintegration constant of U-238, years^-1\n",
      "lambda_235 = 0.693/T_235; ## Disintegration constant of U-235, years^-1 \n",
      "N = 137.8; ## Abundances of U-238/U-235\n",
      "t = math.log(N)/(lambda_235 - lambda_238);## Age of the earth's crust, years\n",
      "print'%s %.2e %s'%(\"\\nThe maximum possible age of the earth crust = \",t,\" years\");\n",
      "\n",
      "## Result \n",
      "## The maximum possible age of the earth crust = 6.022e+009 years "
     ],
     "language": "python",
     "metadata": {},
     "outputs": [
      {
       "output_type": "stream",
       "stream": "stdout",
       "text": [
        "\n",
        "The maximum possible age of the earth crust =  6.02e+09  years\n"
       ]
      }
     ],
     "prompt_number": 7
    },
    {
     "cell_type": "heading",
     "level": 2,
     "metadata": {},
     "source": [
      "Ex8-pg91"
     ]
    },
    {
     "cell_type": "code",
     "collapsed": false,
     "input": [
      "##  Exa2.8 : : Page 91 (2011)\n",
      "#find The number of half lives in radon-222\n",
      "import math\n",
      "N = 10; ## Number of atoms left undecayed in Rn-222\n",
      "n = math.log(10)/math.log(2); ## Number of half lives in Ra-222\n",
      "print'%s %.2f %s'%(\"\\nThe number of half lives in radon-222 =  \", n,\"\");\n",
      "\n",
      "## Result\n",
      "## The number of half lives in radon-222 = 3.322  "
     ],
     "language": "python",
     "metadata": {},
     "outputs": [
      {
       "output_type": "stream",
       "stream": "stdout",
       "text": [
        "\n",
        "The number of half lives in radon-222 =   3.32 \n"
       ]
      }
     ],
     "prompt_number": 8
    },
    {
     "cell_type": "heading",
     "level": 2,
     "metadata": {},
     "source": [
      "Ex9-pg91"
     ]
    },
    {
     "cell_type": "code",
     "collapsed": false,
     "input": [
      "##  Exa2.9 :  : Page 91 (2011)\n",
      "#find The weight of Po-210 after one year and The initial activity of the material\n",
      "import math\n",
      "M_Po = 209.9829; ## Mass of Polonium, g\n",
      "M_Pb = 205.9745; ## Mass of lead, g\n",
      "A = 6.22137e+023; ## Avogadro's number\n",
      "M_He = 4.0026; ## Mass of alpha particle, g\n",
      "C = 3e+08; ## Velocity of light, m/s\n",
      "T = 138*24*3600; ## Half life, sec\n",
      "P = 250; ## Power produced, joule/sec\n",
      "Q = (M_Po-M_Pb-M_He)*931.25; ## disintegration energy, MeV\n",
      "D = 0.693/T; ## Disintegration constant, per year\n",
      "N = P/(D*Q*1.60218e-013); ## Number of atoms, atom\n",
      "N_0 = N*math.e**(1.833); ## Number of atoms present initially, atom\n",
      "W = N_0/A*210; ## Weight of Po-210 after one year, g\n",
      "A_0 = N_0*D/(3.7e+010); ## Initial activity, curie\n",
      "print'%s %.2f %s %.2e %s'%(\"\\nThe weight of Po-210 after one year = \",W,\" g\"and\" \\nThe initial activity of the material = \",A_0,\" curies\");\n",
      "\n",
      "## Result\n",
      "## The weight of Po-210 after one year = 10.49 g \n",
      "## The initial activity of the material = 4.88e+004 curies"
     ],
     "language": "python",
     "metadata": {},
     "outputs": [
      {
       "output_type": "stream",
       "stream": "stdout",
       "text": [
        "\n",
        "The weight of Po-210 after one year =  10.49  \n",
        "The initial activity of the material =  4.88e+04  curies\n"
       ]
      }
     ],
     "prompt_number": 9
    },
    {
     "cell_type": "heading",
     "level": 2,
     "metadata": {},
     "source": [
      "Ex10-pg91"
     ]
    },
    {
     "cell_type": "code",
     "collapsed": false,
     "input": [
      "##  Exa2.10 : : Page 91 (2011)\n",
      "#find The decay constant for total emission and The decay constant for beta_decay lambda_b  and The decay constant for beta_decay lambda_a\n",
      "import math\n",
      "lambda_t = 0.693/(60.5*60);## Total decay constant, per sec\n",
      "lambda_a = 0.34*lambda_t;## Decay constant for alpha_decay, per sec\n",
      "lambda_b = 0.66*lambda_t;## Decay constant for beta_decay, per sec\n",
      "print'%s %.2e %s'%(\"\\nThe decay constant for total emission = \",lambda_t,\" /sec\");\n",
      "print'%s %.2e %s'%(\"\\nThe decay constant for beta_decay lambda_b = \",lambda_b,\" /sec\");\n",
      "print'%s %.2e %s'%(\"\\nThe decay constant for alpha_decay lambda_a = \",lambda_a,\" /sec\");\n",
      "\n",
      "## Result \n",
      "## The decay constant for total emission = 1.91e-004 /sec\n",
      "## The decay constant for beta_decay lambda_b = 1.26e-004 /sec\n",
      "## The decay constant for alpha_decay lambda_a = 6.49e-005 /sec "
     ],
     "language": "python",
     "metadata": {},
     "outputs": [
      {
       "output_type": "stream",
       "stream": "stdout",
       "text": [
        "\n",
        "The decay constant for total emission =  1.91e-04  /sec\n",
        "\n",
        "The decay constant for beta_decay lambda_b =  1.26e-04  /sec\n",
        "\n",
        "The decay constant for alpha_decay lambda_a =  6.49e-05  /sec\n"
       ]
      }
     ],
     "prompt_number": 10
    },
    {
     "cell_type": "heading",
     "level": 2,
     "metadata": {},
     "source": [
      "Ex13-pg93"
     ]
    },
    {
     "cell_type": "code",
     "collapsed": false,
     "input": [
      "##  Exa2.13 :  : Page 93 (2011)\n",
      "#find The half life of Pu-239 \n",
      "import math\n",
      "M_A = 4.;    ## Mass of alpha particle, amu\n",
      "M_U = 235.;    ##Mass of U-235, amu\n",
      "M_P = 239.;    ## Mass of P-239, amu\n",
      "Amount = 120.1;    ## quantity of P-239, g\n",
      "E_A = 5.144;    ## Energy of emitting alpha particles, Mev\n",
      "E_R = (2.*M_A)/(2.*M_U)*E_A;    ## The recoil energy of U-235, Mev\n",
      "E = E_R + E_A;    ## The energy released per disintegration, Mev\n",
      "P = 0.231;    ## Evaporation rate, watt\n",
      "D = P/(E*1.60218e-013);    ## Disintegration rate, per sec\n",
      "A = 6.022137e+023;    ## Avagadro's number, atoms\n",
      "N = Amount/M_P*A;    ## Number of nuclei in 120.1g of P-239\n",
      "T = 0.693/(D*3.15e+07)*N;    ## Half life of Pu_239, years\n",
      "print'%s %.2e %s'%(\"\\nThe half life of Pu-239 = \",T,\" years\");\n",
      "\n",
      "## Result \n",
      "## The half life of Pu-239 = 2.42e+004 years "
     ],
     "language": "python",
     "metadata": {},
     "outputs": [
      {
       "output_type": "stream",
       "stream": "stdout",
       "text": [
        "\n",
        "The half life of Pu-239 =  2.42e+04  years\n"
       ]
      }
     ],
     "prompt_number": 11
    },
    {
     "cell_type": "heading",
     "level": 2,
     "metadata": {},
     "source": [
      "Ex14-pg93"
     ]
    },
    {
     "cell_type": "code",
     "collapsed": false,
     "input": [
      "##  Exa2.14 : : Page 93 (2011)\n",
      "#find The disintegration rate of Au-199\n",
      "import math\n",
      "T_h_1 = 2.7*24*3600; ## Half life of Au-198, sec\n",
      "T_h_2 = 3.15*24*3600; ## Half life of Au-199, sec\n",
      "S_1 = 99e-028; ## Crossection for first reaction, Sq.m\n",
      "S_2 = 2.6e-024; ## Crossection for second reaction, Sq.m\n",
      "I = 1e+018; ## Intensity of radiation, per Sq.m per sec\n",
      "L_1 = I*S_1;    ## Decay constant of Au-197, per sec\n",
      "L_2 = 0.693/T_h_1+I*S_2; ## Decay constant of Au-198, per sec\n",
      "L_3 = 0.693/T_h_2; ## Decay constant of Au-199, per sec\n",
      "N_0 = 6.022137e+023; ## Avogadro number\n",
      "N_1 = N_0/197.; ## Initial number of atoms of Au-197\n",
      "t = 30.*3600.; ## Given time, sec\n",
      "p = (math.exp(-L_1*t))/((L_2-L_1)*(L_3-L_1));\n",
      "q = (math.exp(-L_2*t))/((L_1-L_2)*(L_3-L_2));\n",
      "r = (math.exp(-L_3*t))/((L_1-L_3)*(L_2-L_3));\n",
      "N3 = N_1*L_1*L_2*(p+q+r);\n",
      "N_199 = N3;\n",
      "L = L_3*N_199; ## Disintegration rate of Au-199, per sec\n",
      "print'%s %.2e %s'%(\"\\nThe disintegration rate of Au-199 =  \", L,\"\");\n",
      "\n",
      "## Result\n",
      "## The disintegration rate of Au-199 = 1.9e+012  (Wrong answer in the textbook)"
     ],
     "language": "python",
     "metadata": {},
     "outputs": [
      {
       "output_type": "stream",
       "stream": "stdout",
       "text": [
        "\n",
        "The disintegration rate of Au-199 =   1.88e+12 \n"
       ]
      }
     ],
     "prompt_number": 12
    },
    {
     "cell_type": "heading",
     "level": 2,
     "metadata": {},
     "source": [
      "Ex15-pg94"
     ]
    },
    {
     "cell_type": "code",
     "collapsed": false,
     "input": [
      "##  Exa2.15 : : Page 94 (2011)\n",
      "#find The maximum activity of Na-24  and The activity after a continuous bombardment\n",
      "import math\n",
      "Y = 110e-03;## Yield of Na-24, mCi/hr\n",
      "T = 14.8;## Half life of Na-24, hours\n",
      "t = 8;## Time after which activity to be compute, hours\n",
      "D = 0.693/T;## Disintegration constant, hours^-1\n",
      "A = 1.44*Y*T;## Maximum activity of Na-24, Ci\n",
      "A_C = A*(1-math.e**(-D*t));## Activity after a continuous bombardment, Ci\n",
      "Activity = A_C*(math.e**(-D*t));## Activity after 8hours, Ci\n",
      "print'%s %.2f %s %.2f %s %.2f %s '%(\"\\nThe maximum activity of Na-24 = \",A,\" Ci\"and \"\\nThe activity after a continuous bombardment = \",A_C,\" Ci\"and \"\\nThe activity after 8hours = \",Activity,\" Ci\")\n",
      "\n",
      "\n",
      "## Result\n",
      "## The maximum activity of Na-24 = 2.344 Ci\n",
      "## The activity after a continuous bombardment = 0.7324 Ci\n",
      "## The activity after 8hours = 0.50360 Ci"
     ],
     "language": "python",
     "metadata": {},
     "outputs": [
      {
       "output_type": "stream",
       "stream": "stdout",
       "text": [
        "\n",
        "The maximum activity of Na-24 =  2.34 \n",
        "The activity after a continuous bombardment =  0.73 \n",
        "The activity after 8hours =  0.50  Ci \n"
       ]
      }
     ],
     "prompt_number": 13
    },
    {
     "cell_type": "heading",
     "level": 2,
     "metadata": {},
     "source": [
      "Ex16-pg94"
     ]
    },
    {
     "cell_type": "code",
     "collapsed": false,
     "input": [
      "##  Exa2.16 : : Page 94 (2011)\n",
      "#find The energy of beta rays emitted per gram of tissue\n",
      "import math\n",
      "A_0 = 3.7e+07;    ## Initial activity, disintegrations per sec\n",
      "T = 12.6;    ## Half life of I-130, hours\n",
      "t = 24*3600;    ## time for dose absorbed calculation,sec\n",
      "E = 0.29*1.6e-06;    ## Average energy of beta rays, ergs\n",
      "m = 2;    ## Mass of iodine thyroid tissue, gm\n",
      "l = 0.693/(T*3600);    ## Disintegration constant, sec^-1\n",
      "N_0 = A_0/l;    ## Initial number of atoms\n",
      "N = N_0*(1-math.e**(-l*t));    ## Number of average atoms disintegrated\n",
      "E_A = N*E;    ## Energy of beta rays emitted, ergs\n",
      "E_G = E_A/(2*97.00035);    ## Energy of beta rays emitted per gram of tissue, REP  \n",
      "print'%s %.2f %s'%(\"\\nThe energy of beta rays emitted per gram of tissue = \",E_G,\" REP\");\n",
      "\n",
      "## Result\n",
      "## The energy of beta rays emitted per gram of tissue = 4245.0 REP "
     ],
     "language": "python",
     "metadata": {},
     "outputs": [
      {
       "output_type": "stream",
       "stream": "stdout",
       "text": [
        "\n",
        "The energy of beta rays emitted per gram of tissue =  4245.02  REP\n"
       ]
      }
     ],
     "prompt_number": 14
    },
    {
     "cell_type": "heading",
     "level": 2,
     "metadata": {},
     "source": [
      "Ex18-pg95"
     ]
    },
    {
     "cell_type": "code",
     "collapsed": false,
     "input": [
      "##  Exa2.18 : : Page 95 (2011)\n",
      "#find The activity of Au-198 and The maximum amount of Au-198 produced\n",
      "import math\n",
      "N_0 = 6.022137e+023; ##  Avagadro number\n",
      "d = 0.02; ## Thickness of the foil, cm\n",
      "R = 19.3; ## Density of Au,g/cc\n",
      "N_1 = d*R/197.*N_0; ## Initial number of Au-197 nuclei per unit area of foil,cm^-2\n",
      "T_H = 2.7*24.*3600.; ## Half life of Au-198,sec\n",
      "L = math.log(2)/T_H; ## Decay constant for Au-198,sec^-1\n",
      "I = 10**12; ## Intensity of neutron beam,neutrons/cm^2/sec\n",
      "S = 97.8e-024; ## Cross section for reaction,cm^-2\n",
      "t = 5*60.; ## Reaction time,s\n",
      "A = S*I*N_1*(1-math.e**(-L*t)); ## Activity of Au-198,cm^-2sec^-1\n",
      "N_2 = S*I*N_1/L; ## The maximum amount of Au-198 produced,cm^-2\n",
      "print'%s %.2e %s %.2e %s '%(\"\\nThe activity of Au-198 = \",A,\" per Sq.cm per sec\"and \"\\nThe maximum amount of Au-198 produced = \",N_2,\" per Sq.cm\");\n",
      "\n",
      "## Result\n",
      "## The activity of Au-198 = 1.028e+008 per Sq.cm per sec\n",
      "## The maximum amount of Au-198 produced = 3.88e+016 per Sq.cm "
     ],
     "language": "python",
     "metadata": {},
     "outputs": [
      {
       "output_type": "stream",
       "stream": "stdout",
       "text": [
        "\n",
        "The activity of Au-198 =  1.03e+08 \n",
        "The maximum amount of Au-198 produced =  3.88e+16  per Sq.cm \n"
       ]
      }
     ],
     "prompt_number": 15
    },
    {
     "cell_type": "heading",
     "level": 2,
     "metadata": {},
     "source": [
      "Ex19-pg95"
     ]
    },
    {
     "cell_type": "code",
     "collapsed": false,
     "input": [
      "##  Exa2.19 : : Page 95 (2011)\n",
      "#find The power released by the gm molecule of Pu-238 and The time in which power reduces to 1/8 time of its initial value\n",
      "import math\n",
      "N_0 = 6.022137e+023; ##  Avagadro number \n",
      "T_P = 90.*365.*24.*3600.; ## Half life of Pu-238,s\n",
      "L_P = 0.693/T_P ; ## Decay constant of Pu-238,s^-1\n",
      "E = 5.5; ## Energy of alpha particle, MeV\n",
      "P =E*L_P*N_0; ## Power released by the gm molecule of Pu-238,MeV/s\n",
      "t = math.log(8)/(L_P*365.*24.*3600.); ## Time in which power reduces to 1/8 time of its initial value \n",
      "print'%s %.2e %s %.1f %s '%(\"\\nThe power released by the gm molecule of Pu-238 = \",P,\" MeV/s\"and  \"\\nThe time in which power reduces to 1/8 time of its initial value = \",t,\" yrs\")\n",
      "\n",
      "## Result\n",
      "## The power released by the gm molecule of Pu-238 = 8.09e+014 MeV/s \n",
      "## The time in which power reduces to 1/8 time of its initial value = 270 yrs "
     ],
     "language": "python",
     "metadata": {},
     "outputs": [
      {
       "output_type": "stream",
       "stream": "stdout",
       "text": [
        "\n",
        "The power released by the gm molecule of Pu-238 =  8.09e+14 \n",
        "The time in which power reduces to 1/8 time of its initial value =  270.1  yrs \n"
       ]
      }
     ],
     "prompt_number": 16
    },
    {
     "cell_type": "heading",
     "level": 2,
     "metadata": {},
     "source": [
      "Ex20-pg96"
     ]
    },
    {
     "cell_type": "code",
     "collapsed": false,
     "input": [
      "##  Exa2.20 : : Page 96 (2011)\n",
      "#find The required time for decay of daughter nucleus and The number of nuclei of daughter isotope\n",
      "import math\n",
      "N_1 = 10**20; ## Number of nuclei of parent isotopes\n",
      "T_P = 10**4; ## Half life of parent nucleus,years\n",
      "T_D = 20.; ## Half life of daughter nucleus,years\n",
      "T = 10**4; ## Given time,years\n",
      "L_P = 0.693/T_P ; ## Decay constant of parent nucleus,years^-1\n",
      "L_D = 0.693/T_D ; ## Decay constant of daughter nucleus,years^-1\n",
      "t_0 = math.log(0.03)/(L_P-L_D); ## Required time for decay of daughter nucleus,years\n",
      "N = L_P/L_D*(math.e**(-L_P*T)-math.e**(-L_D*T))*N_1; ## Number of nuclei of daughter isotope\n",
      "print'%s %.2f %s %.0e %s'%(\"\\nThe required time for decay of daughter nucleus =\",t_0,\" yr\"and \" \\nThe number of nuclei of daughter isotope = \",N,\" \");\n",
      "\n",
      "## Result\n",
      "## The required time for decay of daughter nucleus = 101 yr \n",
      "## The number of nuclei of daughter isotope = 1e+017  "
     ],
     "language": "python",
     "metadata": {},
     "outputs": [
      {
       "output_type": "stream",
       "stream": "stdout",
       "text": [
        "\n",
        "The required time for decay of daughter nucleus = 101.40  \n",
        "The number of nuclei of daughter isotope =  1e+17  \n"
       ]
      }
     ],
     "prompt_number": 17
    }
   ],
   "metadata": {}
  }
 ]
}