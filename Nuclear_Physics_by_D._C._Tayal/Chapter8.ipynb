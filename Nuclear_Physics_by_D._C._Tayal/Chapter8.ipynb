{
 "metadata": {
  "name": "",
  "signature": "sha256:e2f7c7551d6e417829aadd6f90608da5e4f835298a7f6245d9b1f454185575b2"
 },
 "nbformat": 3,
 "nbformat_minor": 0,
 "worksheets": [
  {
   "cells": [
    {
     "cell_type": "heading",
     "level": 1,
     "metadata": {},
     "source": [
      "Chapter8-Nuclear Forces"
     ]
    },
    {
     "cell_type": "heading",
     "level": 2,
     "metadata": {},
     "source": [
      "Ex3-pg349"
     ]
    },
    {
     "cell_type": "code",
     "collapsed": false,
     "input": [
      "## Exa8.3 : : Page-349 (2011)\n",
      "#find The probability that the proton moves within the range of neutron\n",
      "import math\n",
      "b = 1.9e-15;        ## Width of square well potential, metre\n",
      "h_kt = 1.054571e-034;        ## Reduced planck's constant, joule sec\n",
      "c = 3e+08;                ## Velocity of light, metre per sec\n",
      "m_n = 1.67e-27;            ## Mass of a nucleon , Kg\n",
      "V_0 = 40*1.6e-13;            ## Depth, metre\n",
      "E_B = (V_0-(1/(m_n*c**2)*(math.pi*h_kt*c/(2*b))**2))/1.6e-13;        ## Binding energy, mega electron volts\n",
      "alpha = math.sqrt(m_n*c**2*E_B*1.6e-13)/(h_kt*c);    ## scattering co efficient, per metre\n",
      "P = (1+1/(alpha*b))**-1.;        ## Probability\n",
      "R_mean = math.sqrt (b**2./2.*(1./3.+4./math.pi**2.+2.5));    ## Mean square radius, metre\n",
      "print'%s %.2f %s  %.2e %s'%(\"\\nThe probability that the proton moves within the range of neutron = \",P,\" \\n\" \"The mean square radius of the deuteron = \",R_mean,\" metre\")\n",
      "\n",
      "\n",
      "## Result\n",
      "## The probability that the proton moves within the range of neutron = 0.50 \n",
      "## The mean square radius of the deuteron = 2.42e-015 metre \n"
     ],
     "language": "python",
     "metadata": {},
     "outputs": [
      {
       "output_type": "stream",
       "stream": "stdout",
       "text": [
        "\n",
        "The probability that the proton moves within the range of neutron =  0.50  \n",
        "The mean square radius of the deuteron =   2.42e-15  metre\n"
       ]
      }
     ],
     "prompt_number": 1
    },
    {
     "cell_type": "heading",
     "level": 2,
     "metadata": {},
     "source": [
      "Ex5-pg349"
     ]
    },
    {
     "cell_type": "code",
     "collapsed": false,
     "input": [
      "## Exa8.5 : : Page-349 (2011)\n",
      "#find The total cross section for n-p scattering \n",
      "import math\n",
      "a_t = 5.38e-15;\n",
      "a_s = -23.7e-15;\n",
      "r_ot = 1.70e-15;\n",
      "r_os = 2.40e-15;\n",
      "m = 1.6748e-27;\n",
      "E = 1.6e-13;\n",
      "h_cut = 1.0549e-34;\n",
      "K_sqr = m*E/h_cut**2;\n",
      "sigma = 1/4.*(3.*4*math.pi*a_t**2./(a_t**2.*K_sqr+(1.-1/2.*K_sqr*a_t*r_ot)**2)+4*math.pi*a_s**2/(a_s**2*K_sqr+(1-1./2.*K_sqr*a_s*r_os)**2))*1e+028; ## Total cross-section for n-p scattering, barn\n",
      "print'%s %.2f %s'%(\"\\nThe total cross section for n-p scattering = \",sigma,\" barn\");\n",
      "\n",
      "## Result\n",
      "## The total cross section for n-p scattering = 2.911 barn \n"
     ],
     "language": "python",
     "metadata": {},
     "outputs": [
      {
       "output_type": "stream",
       "stream": "stdout",
       "text": [
        "\n",
        "The total cross section for n-p scattering =  2.91  barn\n"
       ]
      }
     ],
     "prompt_number": 2
    },
    {
     "cell_type": "heading",
     "level": 2,
     "metadata": {},
     "source": [
      "Ex8-pg351"
     ]
    },
    {
     "cell_type": "code",
     "collapsed": false,
     "input": [
      "## Exa8.8 : : Page-351 (2011)\n",
      "#find The possible angular momentum states with their parities are as follows\n",
      "import math\n",
      "S = 1.;        ## Spin angular momentum(s1+-s2), whereas s1 is the spin of proton and s2 is the spin of neutron.\n",
      "m = 2.*S+1.;    ## Spin multiplicity\n",
      "j = 1.;        ## Total angular momentum\n",
      "print(\"\\nThe possible angular momentum states with their parities are as follows : \");\n",
      "print'%s %.2f %s %.2f %s '%(\"\\n  \",m, \" \" and \"S has even parity \",j,\"\");\n",
      "print'%s %.2f %s %.2f %s '%(\"\\n   \",m,\" \" and \"P has odd parity  \", j,\"\");\n",
      "print'%s %.2f %s %.2f %s'%(\"\\n  \",m, \" \" and \"S has odd parity \",j,\"\");   \n",
      "S = 0.;\n",
      "m = 2.*S+1.\n",
      "print(m)\n",
      "print'%s %.2f %s  %.2f %s '%(\"\\n   \",m,\" \" and \"P has odd parity  \", j,\"\");\n",
      "   \n",
      "## Result \n",
      "## The possible angular momentum states with their parities are as follows : \n",
      "##         3S1 has even parity \n",
      "##         3P1 has odd parity \n",
      "##         3D1 has even parity\n",
      "##         1P1 has odd parity  "
     ],
     "language": "python",
     "metadata": {},
     "outputs": [
      {
       "output_type": "stream",
       "stream": "stdout",
       "text": [
        "\n",
        "The possible angular momentum states with their parities are as follows : \n",
        "\n",
        "   3.00 S has even parity  1.00  \n",
        "\n",
        "    3.00 P has odd parity   1.00  \n",
        "\n",
        "   3.00 S has odd parity  1.00 \n",
        "1.0\n",
        "\n",
        "    1.00 P has odd parity    1.00  \n"
       ]
      }
     ],
     "prompt_number": 22
    },
    {
     "cell_type": "heading",
     "level": 2,
     "metadata": {},
     "source": [
      "Ex9-pg351"
     ]
    },
    {
     "cell_type": "code",
     "collapsed": false,
     "input": [
      "# Exa8.9 : : Page-351 (2011)\n",
      "#find The possible states are\n",
      "\n",
      "print(\"\\nThe possible states are : \");\n",
      "#For s = 0\n",
      "s = 0;            # Spin angular momentum\n",
      "m = 2*s+1;        # Spin multiplicity\n",
      "for j in range(0,3):       # Total angular momentum\n",
      "    l = j\n",
      "    if l == 0:\n",
      "        print\"%s %.1f %s %.d %s \"%(\"\",j,\"\"and \"S\",m,\"\")\n",
      "    elif l == 2:\n",
      "        print\"%s %.1f %s %.d %s \"%(\"\",j,\"\"and \"D\",m,\"\") \n",
      "    \n",
      "\n",
      "#For s = 1\n",
      "s = 1;\n",
      "m = 2*s+1;\n",
      "l = 2\n",
      "for j in range(0,3):   \n",
      "    if j == 0:\n",
      "       print\"%s %.1f %s %.d %s \"%(\"\",j,\"\"and \"P\",m,\"\")\n",
      "    elif j ==1:\n",
      "       print\"%s %.d %s %.d %s \"%(\"\",j,\"\"and \"P\",m,\"\")\n",
      "    elif j ==2:\n",
      "       print\"%s %.d %s %.d %s \"%(\"\",j,\"\"and \"P\",m,\"\")\n",
      "    \n",
      "\n",
      "for j in range(2,3):\n",
      "    print\"%s %.d %s %.d %s \"%(\"\",j,\"\" and \"F\",m,\"\")\n",
      "\n",
      "\n",
      "#Result\n",
      "#Possible states are : \n",
      "# The possible states are : \n",
      "#     0S1,  2D1,  0P3,  1P3, 2P3 and  2F3 \n"
     ],
     "language": "python",
     "metadata": {},
     "outputs": [
      {
       "output_type": "stream",
       "stream": "stdout",
       "text": [
        "\n",
        "The possible states are : \n",
        " 0.0  1  \n",
        " 2.0  1  \n",
        " 0.0  3  \n",
        " 1  3  \n",
        " 2  3  \n",
        " 2  3  \n"
       ]
      }
     ],
     "prompt_number": 10
    },
    {
     "cell_type": "heading",
     "level": 2,
     "metadata": {},
     "source": [
      "Ex10-pg352"
     ]
    },
    {
     "cell_type": "code",
     "collapsed": false,
     "input": [
      "## Exa8.10 : : Page-352 (2011)\n",
      "#find The kinetic energy of each nucleon and The total kinetic energy\n",
      "import math\n",
      "r = 2e-015;          ## Range of nuclear force, metre\n",
      "h_kt = 1.0546e-34;   ## Reduced value of Planck's constant, joule sec\n",
      "m = 1.674e-27;       ## Mass of each nucleon, Kg\n",
      "K = round (2*h_kt**2./(2*m*r**2*1.6023e-13));        ## Kinetic energy of each nucleon in centre of mass frame, mega electron volts\n",
      "K_t = 2.*K;        ## Total kinetic energy, mega electron volts\n",
      "K_inc = 2.*K_t;    ## Kinetic energy of the incident nucleon, mega electron volts\n",
      "print'%s %.2f %s %.2f %s %.2f %s '%(\"\\nThe kinetic energy of each nucleon = \",K,\" MeV\" and \"The total kinetic energy =\",K_t,\" MeV\"and \"The kinetic energy of the incident nucleon =\",K_inc,\" MeV\")\n",
      "\n",
      "\n",
      "## Result\n",
      "## "
     ],
     "language": "python",
     "metadata": {},
     "outputs": [
      {
       "output_type": "stream",
       "stream": "stdout",
       "text": [
        "\n",
        "The kinetic energy of each nucleon =  10.00 The total kinetic energy = 20.00 The kinetic energy of the incident nucleon = 40.00  MeV \n"
       ]
      }
     ],
     "prompt_number": 4
    }
   ],
   "metadata": {}
  }
 ]
}