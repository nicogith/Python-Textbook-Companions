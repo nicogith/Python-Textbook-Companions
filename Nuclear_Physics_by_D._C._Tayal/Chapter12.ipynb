{
 "metadata": {
  "name": "",
  "signature": "sha256:7bae67184aff3b5018323a5a7fd8d73277287467e3722f9114aa02be5e49dd72"
 },
 "nbformat": 3,
 "nbformat_minor": 0,
 "worksheets": [
  {
   "cells": [
    {
     "cell_type": "heading",
     "level": 1,
     "metadata": {},
     "source": [
      "Chapter12-Neutrons"
     ]
    },
    {
     "cell_type": "heading",
     "level": 2,
     "metadata": {},
     "source": [
      "Exx1-pg573"
     ]
    },
    {
     "cell_type": "code",
     "collapsed": false,
     "input": [
      "## Exa12.1 : : Page-573 (2011)\n",
      "#calculate activity for Cu-63 and disintegrations\n",
      "import math \n",
      "N_0 = 6.23e+23;    ## Avogadro's number, per mole\n",
      "m = 0.1;        ## Mass of copper foil, Kg\n",
      "phi = 10**12;        ## Neutron flux density, per square centimetre sec\n",
      "a_63 = 0.691;        ## Abundance of Cu-63\n",
      "a_65 = 0.309;        ## Abundance of Cu-65\n",
      "W_m = 63.57;        ## Molecular weight, gram\n",
      "sigma_63 =  4.5e-24;    ## Activation cross section for Cu-63, square centi metre\n",
      "sigma_65 = 2.3e-24;        ## Activation cross section for Cu-65, square centi metre\n",
      "A_63 = phi*sigma_63*m*a_63/W_m*N_0;        ## Activity for Cu-63, disintegrations per sec\n",
      "A_65 = phi*sigma_65*m*a_65/W_m*N_0;        ## Activity for Cu-65, disintegrations per sec\n",
      "print'%s %.2e %s %.2e %s'%(\"\\nThe activity for Cu-63 is = \",A_63,\" disintegrations per sec\" and  \"\\nThe activity for Cu-65 is = \",A_65,\" disintegrations per sec\");\n",
      "\n",
      "## Result\n",
      "## The activity for Cu-63 is = 3.047e+009 disintegrations per sec \n",
      "## The activity for Cu-65 is = 6.97e+008 disintegrations per sec "
     ],
     "language": "python",
     "metadata": {},
     "outputs": [
      {
       "output_type": "stream",
       "stream": "stdout",
       "text": [
        "\n",
        "The activity for Cu-63 is =  3.05e+09 \n",
        "The activity for Cu-65 is =  6.97e+08  disintegrations per sec\n"
       ]
      }
     ],
     "prompt_number": 1
    },
    {
     "cell_type": "heading",
     "level": 2,
     "metadata": {},
     "source": [
      "Ex2-pg573"
     ]
    },
    {
     "cell_type": "code",
     "collapsed": false,
     "input": [
      "## Exa12.2 : : Page-573 (2011)\n",
      "import math \n",
      "#calculate  enegy loss \n",
      "A_Be = 9.;        ## Mass number of beryllium\n",
      "A_U = 238.;        ## Mass number of uranium\n",
      "E_los_Be = (1-((A_Be-1)**2/(A_Be+1)**2))*100.;    ## Energy loss for beryllium\n",
      "E_los_U = round((1-((A_U-1)**2/(A_U+1)**2))*100.);    ## Energy loss for uranium\n",
      "print'%s %.2f %s  %.2f %s '%(\"\\nThe energy loss for beryllium is = \",E_los_Be,\" percent\"and \" \\nThe energy loss for uranium is = \",E_los_U,\" percent\");\n",
      "\n",
      "## Check for greater energy loss !!!!\n",
      "if E_los_Be >= E_los_U :\n",
      "    print(\"\\nThe energy loss is greater for beryllium\");\n",
      "else:\n",
      "    print(\"\\nThe energy loss is greater for uranium\");\n",
      "\n",
      "\n",
      "## Result\n",
      "## The energy loss for beryllium is = 36 percent \n",
      "## The energy loss for uranium is = 2 percent\n",
      "## The energy loss is greater for beryllium \n",
      " "
     ],
     "language": "python",
     "metadata": {},
     "outputs": [
      {
       "output_type": "stream",
       "stream": "stdout",
       "text": [
        "\n",
        "The energy loss for beryllium is =  36.00  \n",
        "The energy loss for uranium is =   2.00  percent \n",
        "\n",
        "The energy loss is greater for beryllium\n"
       ]
      }
     ],
     "prompt_number": 3
    },
    {
     "cell_type": "heading",
     "level": 2,
     "metadata": {},
     "source": [
      "Ex3-pg574"
     ]
    },
    {
     "cell_type": "code",
     "collapsed": false,
     "input": [
      "## Exa12.3 : : Page-574 (2011)\n",
      "#calculate energy loss of neutron\n",
      "import math \n",
      "A = 12.;        ## Mass number of Carbon\n",
      "alpha = (A-1)**2/(A+1)**2;        ## Scattering coefficient\n",
      "E_loss = 1/2.*(1-alpha)*100.;        ## Energy loss of neutron\n",
      "print'%s %.2f %s'%(\"\\nThe energy loss of neutron = \",E_loss,\" percent\")\n",
      "\n",
      "## Result\n",
      "## The energy loss of neutron = 14.201 percent \n",
      " "
     ],
     "language": "python",
     "metadata": {},
     "outputs": [
      {
       "output_type": "stream",
       "stream": "stdout",
       "text": [
        "\n",
        "The energy loss of neutron =  14.20  percent\n"
       ]
      }
     ],
     "prompt_number": 5
    },
    {
     "cell_type": "heading",
     "level": 2,
     "metadata": {},
     "source": [
      "Ex4-pg574"
     ]
    },
    {
     "cell_type": "code",
     "collapsed": false,
     "input": [
      "## Exa12.4 : : Page-574 (2011)\n",
      "#calculate number of collisions of neutrons \n",
      "import math \n",
      "zeta = 0.209;        ## Moderated assembly\n",
      "E_change = 100./1.;        ## Change in energy of the neutron\n",
      "E_thermal = 0.025;        ## Thermal energy of the neutron, electron volts\n",
      "E_n = 2*10**6;            ## Energy of the neutron, electron volts\n",
      "n = 1/zeta*math.log(E_change);        ## Number of collisions of neutrons to loss 99 percent of their energies \n",
      "n_thermal = 1/zeta*math.log(E_n/E_thermal);        ## Number of collisions of neutrons to reach thermal energies\n",
      "print'%s %.2f %s %.2f %s'%(\"\\nThe number of collisions  of neutrons to loss 99 percent of their energies = \",n,\" \\nThe number of collisions of neutrons to reach thermal energies = \",n_thermal,\"\")\n",
      "\n",
      "## Result\n",
      "## The number of collisions  of neutrons to loss 99 percent of their energies = 22 \n",
      "## The number of collisions of neutrons to reach thermal energies = 87 \n",
      " "
     ],
     "language": "python",
     "metadata": {},
     "outputs": [
      {
       "output_type": "stream",
       "stream": "stdout",
       "text": [
        "\n",
        "The number of collisions  of neutrons to loss 99 percent of their energies =  22.03  \n",
        "The number of collisions of neutrons to reach thermal energies =  87.07 \n"
       ]
      }
     ],
     "prompt_number": 6
    },
    {
     "cell_type": "heading",
     "level": 2,
     "metadata": {},
     "source": [
      "Ex5-pg574"
     ]
    },
    {
     "cell_type": "code",
     "collapsed": false,
     "input": [
      "## Exa12.5 : : Page-574 (2011)\n",
      "#calculate average distance travelled by the neutron\n",
      "import math\n",
      "import scipy\n",
      "from scipy import integrate\n",
      "L = 1.;    ## For simplicity assume thermal diffusion length to be unity, unit\n",
      "def fun(x):\n",
      "    y=x*math.exp(-x/L)\n",
      "    return y\n",
      "x_b = scipy.integrate.quad(fun, 0, 100);    ## Average distance travelled by the neutron, unit\n",
      "x_b1=x_b[0]\n",
      "def fun2(x):    \n",
      "    y1=x**2*math.exp(-x/L)\n",
      "    return y1\n",
      "X=scipy.integrate.quad(fun2, 0, 100)\n",
      "x_rms = math.sqrt(X[0]);    ## Root mean square of the distance trvelled by the neutron, unit\n",
      "print'%s %.2f %s'%(\"\\nThe average distance travelled by the neutron = \", x_b1,\"*L\");\n",
      "print'%s %.2f %s %.2f %s '%(\"\\nThe root mean square distance travelled by the neutron = \",x_rms,\"\"and \"\",x_rms,\"x_bar\")\n",
      "\n",
      "## Result\n",
      "## The average distance travelled by the neutron = 1*L\n",
      "## The root mean square distance travelled by the neutron = 1.414L = 1.414x_bar \n",
      " "
     ],
     "language": "python",
     "metadata": {},
     "outputs": [
      {
       "output_type": "stream",
       "stream": "stdout",
       "text": [
        "\n",
        "The average distance travelled by the neutron =  1.00 *L\n",
        "\n",
        "The root mean square distance travelled by the neutron =  1.41  1.41 x_bar \n"
       ]
      }
     ],
     "prompt_number": 13
    },
    {
     "cell_type": "heading",
     "level": 2,
     "metadata": {},
     "source": [
      "Ex6-pg574"
     ]
    },
    {
     "cell_type": "code",
     "collapsed": false,
     "input": [
      "## Exa12.6 : : Page-574 (2011)\n",
      "#calculate neutron flux through water \n",
      "import math\n",
      "Q = 5e+08;        ## Rate at which neutrons produce, neutrons per sec\n",
      "r = 20.;            ## Distance from the source, centi metre\n",
      "## For water\n",
      "lambda_wtr = 0.45;    ##  Transport mean free path, centi metre\n",
      "L_wtr = 2.73;         ## Thermal diffusion length, centi metre\n",
      "phi_wtr = 3*Q/(4.*math.pi*lambda_wtr*r)*math.exp(-r/L_wtr);    ## Neutron flux for water, neutrons per square centimetre per sec\n",
      "## For heavy water\n",
      "lambda_h_wtr = 2.40;        ##  Transport mean free path, centi metre\n",
      "L_h_wtr = 171.;            ## Thermal diffusion length, centi metre\n",
      "phi_h_wtr = 3*Q/(4.*math.pi*lambda_h_wtr*r)*math.exp(-r/L_h_wtr);    ## Neutron flux for heavy water, neutrons per square centimetre per sec\n",
      "print'%s %.2e %s %.2e %s '%(\"\\nThe neutron flux through water = \",phi_wtr,\" neutrons per square cm per sec\"and \"\\nThe neutron flux through heavy water = \",phi_h_wtr,\" neutrons per square cm per sec\")\n",
      "\n",
      "## Result\n",
      "## The neutron flux through water = 8.730e+003 neutrons per square cm per sec \n",
      "## The neutron flux through heavy water = 2.212e+006 neutrons per square cm per sec \n",
      " "
     ],
     "language": "python",
     "metadata": {},
     "outputs": [
      {
       "output_type": "stream",
       "stream": "stdout",
       "text": [
        "\n",
        "The neutron flux through water =  8.73e+03 \n",
        "The neutron flux through heavy water =  2.21e+06  neutrons per square cm per sec \n"
       ]
      }
     ],
     "prompt_number": 10
    },
    {
     "cell_type": "heading",
     "level": 2,
     "metadata": {},
     "source": [
      "Ex7-pg575"
     ]
    },
    {
     "cell_type": "code",
     "collapsed": false,
     "input": [
      "## Exa12.7 : : Page-575 (2011)\n",
      "#calculate neutron flux and diffusion length\n",
      "import math\n",
      "k = 1.38e-23;        ## Boltzmann constant, joules per kelvin\n",
      "T = 323.;            ## Temperature, kelvin\n",
      "E = (k*T)/1.6e-19;    ## Thermal energy, joules\n",
      "sigma_0 = 13.2e-28;   ## Cross section, square metre\n",
      "E_0 = 0.025;            ## Energy of the neutron, electron volts\n",
      "sigma_a = sigma_0*math.sqrt(E_0/E);        ## Absorption cross section, square metre\n",
      "t_half = 2.25;            ## Half life, hours\n",
      "D= 0.69/t_half;        ## Decay constant, per hour\n",
      "N_0 = 6.023e+026;            ## Avogadro's number, per \n",
      "m_Mn = 55.;                ## Mass number of mangnese\n",
      "w = 0.1e-03;            ## Weight of mangnese foil, Kg\n",
      "A = 200.;                ## Activity, disintegrations per sec\n",
      "N = N_0*w/m_Mn;        ## Number of mangnese nuclei in the foil\n",
      "x1 = 1.5;                ## Base, metre\n",
      "x2 = 2.0;                ## Height, metre\n",
      "phi = A/(N*sigma_a*0.416);        ## Neutron flux, neutrons per square metre per sec\n",
      "phi1 = 1.;    ## For simplicity assume initial neutron flux to be unity, neutrons/Sq.m-sec\n",
      "phi2 = 1/2.*phi1;    ## Given neutron flux, neutrons/Sq.m-sec\n",
      "L1 = 1/math.log(phi1/phi2)/(x2-x1);    ## Thermal diffusion length for given neutron flux, m\n",
      "L = math.sqrt(1./((1./L1)**2+(math.pi/x1)**2+(math.pi/x2)**2));        ## Diffusion length, metre\n",
      "print'%s %.2e %s %.2f %s '%(\"\\nThe neutron flux = \",phi,\" neutrons per square metre per sec\"and \" \\nThe diffusion length = \",L,\" metre\");\n",
      "\n",
      "## Result\n",
      "## The neutron flux = 3.51e+008 neutrons per square metre per sec \n",
      "## The diffusion length = 0.38 metre\n",
      "## Note: the difussion length is solved wrongly in the testbook\n",
      " "
     ],
     "language": "python",
     "metadata": {},
     "outputs": [
      {
       "output_type": "stream",
       "stream": "stdout",
       "text": [
        "\n",
        "The neutron flux =  3.51e+08  \n",
        "The diffusion length =  0.38  metre \n"
       ]
      }
     ],
     "prompt_number": 11
    },
    {
     "cell_type": "heading",
     "level": 2,
     "metadata": {},
     "source": [
      "Ex8-pg575"
     ]
    },
    {
     "cell_type": "code",
     "collapsed": false,
     "input": [
      "## Exa12.8 : : Page-575(2011)\n",
      "#find diffusion  length for thermal neutron\n",
      "import math\n",
      "N_0 = 6.023e+026;        ## Avogadro's number, per mole\n",
      "rho = 1.62e+03;        ## Density, kg per cubic metre\n",
      "sigma_a = 3.2e-31;        ## Absorption cross section, square metre\n",
      "sigma_s = 4.8e-28;        ## Scattered cross section, square metre\n",
      "A = 12.;                ## Mass number\n",
      "lambda_a = A/(N_0*rho*sigma_a);        ## Absorption mean free path, metre\n",
      "lambda_tr = A/(N_0*rho*sigma_s*(1.-2./(3.*A)));        ## Transport mean free path, metre\n",
      "L = math.sqrt(lambda_a*lambda_tr/3.);        ## Diffusion length for thermal neutron\n",
      "print'%s %.2f %s'%(\"\\nThe diffusion length for thermal neutron = \",L,\" metre \")\n",
      "\n",
      "## Result\n",
      "## The diffusion length for thermal neutron = 0.590 metre  \n",
      " "
     ],
     "language": "python",
     "metadata": {},
     "outputs": [
      {
       "output_type": "stream",
       "stream": "stdout",
       "text": [
        "\n",
        "The diffusion length for thermal neutron =  0.59  metre \n"
       ]
      }
     ],
     "prompt_number": 12
    },
    {
     "cell_type": "heading",
     "level": 2,
     "metadata": {},
     "source": [
      "Ex9-pg575"
     ]
    },
    {
     "cell_type": "code",
     "collapsed": false,
     "input": [
      "## Exa12.9 : : Page-575 (2011)\n",
      "#calculate graphite and neutron age and slowing down length and same as berylliums\n",
      "import math\n",
      "E_0 = 2e+06;        ## Average energy of the neutron, electron volts\n",
      "E = 0.025;            ## Thermal energy of the neutron, electron volts\n",
      "## For graphite\n",
      "A = 12.            ## Mass number\n",
      "sigma_g = 33.5;    ## The value of sigma for graphite\n",
      "tau_0 = 1./(6.*sigma_g**2)*(A+2./3.)/(1.-2./(3.*A))*math.log(E_0/E);    ## Age of neutron for graphite, Sq.m\n",
      "L_f = math.sqrt(tau_0);    ## Slowing down length of neutron through graphite, m\n",
      "print'%s %.2f %s'%(\"\\nFor Graphite, A = \", A,\"\");\n",
      "print'%s %.2f %s'%(\"\\nNeutron age = \",tau_0*1e+004,\" Sq.cm\");\n",
      "print'%s %.2f %s'%(\"\\nSlowing down length =\",L_f,\" m\");\n",
      "## For beryllium\n",
      "A = 9.            ## Mass number\n",
      "sigma_b = 57.;    ## The value of sigma for beryllium\n",
      "tau_0 = 1/(6.*sigma_b**2)*(A+2./3.)/(1.-2./(3.*A))*math.log(E_0/E);    ## Age of neutron for beryllium, Sq.m\n",
      "L_f = math.sqrt(tau_0);    ## Slowing down length of neutron through graphite, m\n",
      "print'%s %.2f %s'%(\"\\n\\nFor Beryllium, A = \", A,\"\");\n",
      "print'%s %.2f %s'%(\"\\nNeutron age = \",tau_0*1e+004,\" Sq.cm\");\n",
      "print'%s %.2e %s'%(\"\\nSlowing down length = \",L_f,\" m\");\n",
      "\n",
      "## Result\n",
      "## For Graphite, A = 12\n",
      "## Neutron age = 362 Sq.cm\n",
      "## Slowing down length = 0.190 m\n",
      "\n",
      "## For Beryllium, A = 9\n",
      "## Neutron age = 97 Sq.cm\n",
      "## Slowing down length = 9.9e-002 m "
     ],
     "language": "python",
     "metadata": {},
     "outputs": [
      {
       "output_type": "stream",
       "stream": "stdout",
       "text": [
        "\n",
        "For Graphite, A =  12.00 \n",
        "\n",
        "Neutron age =  362.46  Sq.cm\n",
        "\n",
        "Slowing down length = 0.19  m\n",
        "\n",
        "\n",
        "For Beryllium, A =  9.00 \n",
        "\n",
        "Neutron age =  97.46  Sq.cm\n",
        "\n",
        "Slowing down length =  9.87e-02  m\n"
       ]
      }
     ],
     "prompt_number": 13
    },
    {
     "cell_type": "heading",
     "level": 2,
     "metadata": {},
     "source": [
      "Ex10-pg576"
     ]
    },
    {
     "cell_type": "code",
     "collapsed": false,
     "input": [
      "## Exa12.10 : : Page-576 (2011)\n",
      "#find enegy of the neutrons\n",
      "import math\n",
      "theta = 3.5*math.pi/180.;  ## Reflection angle, radian\n",
      "d = 2.3e-10;          ## Lattice spacing, metre\n",
      "n = 1.;                ## For first order\n",
      "h = 6.6256e-34;       ## Planck's constant, joule sec\n",
      "m = 1.6748e-27;       ## Mass of the neutron, Kg\n",
      "E = n**2*h**2/(8.*m*d**2*math.sin(theta)**2*1.6023e-19);        ## Energy of the neutrons, electron volts\n",
      "print'%s %.2f %s'%(\"\\nThe energy of the neutrons = \",E,\" eV\");\n",
      "\n",
      "## Result\n",
      "## The energy of the neutrons = 1.04 eV \n",
      " "
     ],
     "language": "python",
     "metadata": {},
     "outputs": [
      {
       "output_type": "stream",
       "stream": "stdout",
       "text": [
        "\n",
        "The energy of the neutrons =  1.04  eV\n"
       ]
      }
     ],
     "prompt_number": 14
    }
   ],
   "metadata": {}
  }
 ]
}