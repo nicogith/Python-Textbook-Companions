{
 "metadata": {
  "name": "",
  "signature": "sha256:e4b6100001a32fad047d14064effe0ad1c4e730aa6c2b9ae5ba17ef44d36b6f5"
 },
 "nbformat": 3,
 "nbformat_minor": 0,
 "worksheets": [
  {
   "cells": [
    {
     "cell_type": "heading",
     "level": 1,
     "metadata": {},
     "source": [
      "Chapter13-Nuclear Fission and Fusion"
     ]
    },
    {
     "cell_type": "heading",
     "level": 2,
     "metadata": {},
     "source": [
      "Ex1-pg600"
     ]
    },
    {
     "cell_type": "code",
     "collapsed": false,
     "input": [
      "## Exa13.1 : : Page-600 (2011)\n",
      "#calculate rate of fission and energy released\n",
      "import math\n",
      "E = 200.*1.6023e-13;     ## Energy released per fission, joule\n",
      "E_t = 2.;                ## Total power produced, watt\n",
      "R_fiss = E_t/E;        ## Fission rate, fissions per sec\n",
      "m = 0.5;                ## Mass of uranium, Kg\n",
      "M = 235.;                ## Mass number of uranium\n",
      "N_0 = 6.023e+26;        ## Avogadro's number, per mole\n",
      "N = m/M*N_0            ## Number of uranium nuclei\n",
      "E_rel = N*E/4.08*10**-3;        ## Energy released, kilocalories\n",
      "print'%s %.2e %s %.2e %s'%(\"\\nThe rate of fission of U-235 = \",R_fiss,\" fissions per sec\"and\" \\nEnergy released =\",E_rel,\" kcal\");\n",
      "\n",
      "## Result\n",
      "## The rate of fission of U-235 = 6.24e+010 fissions per sec \n",
      "## Energy released = 1.006535e+010 kcal "
     ],
     "language": "python",
     "metadata": {},
     "outputs": [
      {
       "output_type": "stream",
       "stream": "stdout",
       "text": [
        "\n",
        "The rate of fission of U-235 =  6.24e+10  \n",
        "Energy released = 1.01e+10  kcal\n"
       ]
      }
     ],
     "prompt_number": 9
    },
    {
     "cell_type": "heading",
     "level": 2,
     "metadata": {},
     "source": [
      "Ex2-pg600"
     ]
    },
    {
     "cell_type": "code",
     "collapsed": false,
     "input": [
      "## Exa13.2 : : Page-600 (2011)\n",
      "#calculate number of free neutrons in the reactor\n",
      "import math\n",
      "E = 200*1.6e-13;        ## Energy released per fission, joules per neutron\n",
      "t = 10**-3;            ## Time, sec\n",
      "P = E/t;              ## Power produced by one free neutron, watt per neutron\n",
      "P_l = 10**9;            ## Power level, watt\n",
      "N = P_l/P;            ## Number of free neutrons in the reactor, neutrons\n",
      "print'%s %.2e %s'%(\"\\nThe number of free neutrons in the reactor = \",N,\" neutrons\");\n",
      "\n",
      "## Result\n",
      "## The number of free neutrons in the reactor = 3.125e+016 neutrons "
     ],
     "language": "python",
     "metadata": {},
     "outputs": [
      {
       "output_type": "stream",
       "stream": "stdout",
       "text": [
        "\n",
        "The number of free neutrons in the reactor =  3.12e+16  neutrons\n"
       ]
      }
     ],
     "prompt_number": 8
    },
    {
     "cell_type": "heading",
     "level": 2,
     "metadata": {},
     "source": [
      "Ex3-pg600"
     ]
    },
    {
     "cell_type": "code",
     "collapsed": false,
     "input": [
      "##  Exa13.3 : : Page-600 (2011)\n",
      "#calculate average number of neutrons \n",
      "import math\n",
      "N_0_235 = 1.;        ## Number of uranium 235 per 238 \n",
      "N_0_238 = 20.;        ## Number of uranium 238 for one uranium 235    \n",
      "sigma_a_235 = 683.;   ## Absorption cross section for uranium 235, barn\n",
      "sigma_a_238 = 2.73;  ## Absorption cross section for uranium 238, barn\n",
      "sigma_f_235 = 583.;   ## Fission cross section, barn\n",
      "sigma_a = (N_0_235*sigma_a_235+N_0_238*sigma_a_238)/(N_0_235+N_0_238); ##Asorption cross sec, barn\n",
      "sigma_f = N_0_235*sigma_f_235/(N_0_235+N_0_238);        ## Fisssion cross section \n",
      "v = 2.43;\n",
      "eta = v*sigma_f/sigma_a;    ##    Average number of neutron released per absorption\n",
      "print'%s %.2f %s'%(\"\\nThe average number of neutrons released per absorption = \", eta,\"\");\n",
      "\n",
      "## Result\n",
      "## The average number of neutrons released per absorption = 1.921 "
     ],
     "language": "python",
     "metadata": {},
     "outputs": [
      {
       "output_type": "stream",
       "stream": "stdout",
       "text": [
        "\n",
        "The average number of neutrons released per absorption =  1.92 \n"
       ]
      }
     ],
     "prompt_number": 7
    },
    {
     "cell_type": "heading",
     "level": 2,
     "metadata": {},
     "source": [
      "Ex4-pg600"
     ]
    },
    {
     "cell_type": "code",
     "collapsed": false,
     "input": [
      "## Exa13.4 : : Page-600(2011)\n",
      "#find excitaion energy for uranum 236 and 239 and 235\n",
      "import math\n",
      "a_v = 14.0;        ## Volume binding energy constant, mega electron volts\n",
      "a_s = 13.0;        ## Surface binding energy constant, mega electron volts\n",
      "a_c = 0.583;        ## Coulomb constant, mega electron volts\n",
      "a_a = 19.3;        ## Asymmetric constant, mega electron volts\n",
      "a_p = 33.5;        ## Pairing energy constant, mega electron volts\n",
      "Z = 92.;            ## Atomic number \n",
      "## For U-236\n",
      "A = 235.;           ## Mass number\n",
      "E_exc_236 = a_v*(A+1-A)-a_s*((A+1)**(2./3.)-A**(2./3.))-a_c*(Z**2/(A+1.)**(1./3.)-Z**2/A**(1/3.))-a_a*((A+1-2*Z)**2/(A+1)-(A-2*Z)**2/A)+a_p*(A+1)**(-3./4.);        ## Excitation energy for uranium 236, mega electron volts\n",
      "## For U-239\n",
      "A = 238.;            ## Mass number\n",
      "E_exc_239 = a_v*(A+1-A)-a_s*((A+1)**(2./3.)-A**(2./3.))-a_c*(Z**2/(A+1)**(1/3.)-Z**2/A**(1./3.))-a_a*((A+1.-2.*Z)**2/(A+1)-(A-2*Z)**2/A)+a_p*((A+1)**(-3/4.)-A**(-3/4.));    ## Excitation energy for uranium 239\n",
      "## Now calculate the rate of spontaneous fissioning for U-235\n",
      "N_0 = 6.02214e+23;        ## Avogadro's constant, per mole\n",
      "M = 235.;                ## Mass number\n",
      "t_half = 3e+17*3.15e+7;        ## Half life, years \n",
      "D = 0.693/t_half;        ## Decay constant, per year\n",
      "N = N_0/M;                    ## Mass of uranium 235, Kg\n",
      "dN_dt = N*D*3600;            ## Rate of spontaneous fissioning of uranium 235, per hour\n",
      "print'%s %.2f %s %.2f %s %.2f %s '%(\"\\nThe excitation energy for uranium 236 =\",E_exc_236,\" MeV\"and \"\\nThe excitation energy for uranium 239 = \",E_exc_239,\" MeV\"and\"\\nThe rate of spontaneous fissioning of uranium 235 = \",dN_dt,\" per hour\");\n",
      "\n",
      "## Result\n",
      "## The excitation energy for uranium 236 = 6.8 MeV\n",
      "## The excitation energy for uranium 239 = 5.9 MeV\n",
      "## The rate of spontaneous fissioning of uranium 235 = 0.68 per hour \n",
      "\n",
      "\n",
      "  "
     ],
     "language": "python",
     "metadata": {},
     "outputs": [
      {
       "output_type": "stream",
       "stream": "stdout",
       "text": [
        "\n",
        "The excitation energy for uranium 236 = 6.77 \n",
        "The excitation energy for uranium 239 =  5.90 \n",
        "The rate of spontaneous fissioning of uranium 235 =  0.68  per hour \n"
       ]
      }
     ],
     "prompt_number": 6
    },
    {
     "cell_type": "heading",
     "level": 2,
     "metadata": {},
     "source": [
      "Ex5-pg601"
     ]
    },
    {
     "cell_type": "code",
     "collapsed": false,
     "input": [
      "## Exa13.5 : : Page-601 (2011)\n",
      "#calculate total energy released during fusion\n",
      "import math \n",
      "a = 10**5;        ## Area of the lake, square mile\n",
      "d = 1/20.;        ## Depth of the lake, mile\n",
      "V = a*d*(1.6e+03)**3;   ## Volume of the lake, cubic metre\n",
      "rho = 10**3;            ## Density of water, kg per cubic metre\n",
      "M_water = V*rho;        ## Total mass of water in the lake, Kg\n",
      "N_0 = 6.02214e+26;      ## Avogadro's constant, per mole\n",
      "A = 18.;                 ## Milecular mass of water\n",
      "N = M_water*N_0/A;      ## Number of molecules of water, molecules\n",
      "abund_det = 0.0156e-02; ## Abundance of deterium\n",
      "N_d = N*2*abund_det;    ## Number of deterium atoms\n",
      "E_per_det = 43/6.;       ## Energy released per deterium atom, mega electron volts\n",
      "E_t = N_d*E_per_det;    ## Total energy released during fusion, mega electron volt\n",
      "print'%s %.2e %s'%(\"\\nThe total energy released during fusion = \",E_t,\" MeV\");\n",
      "\n",
      "## Result\n",
      "## Total energy released during fusion = 1.53e+039 MeV\n",
      "\n",
      "\n",
      "  "
     ],
     "language": "python",
     "metadata": {},
     "outputs": [
      {
       "output_type": "stream",
       "stream": "stdout",
       "text": [
        "\n",
        "The total energy released during fusion =  1.53e+39  MeV\n"
       ]
      }
     ],
     "prompt_number": 5
    },
    {
     "cell_type": "heading",
     "level": 2,
     "metadata": {},
     "source": [
      "Ex6-pg601"
     ]
    },
    {
     "cell_type": "code",
     "collapsed": false,
     "input": [
      "## Exa13.6 : : Page-601 (2011)\n",
      "#calculate temperature attained by thermonuclear device\n",
      "import math \n",
      "r = 1/2.;            ## Radius of the tube, metre\n",
      "a = math.pi*r**2;        ## Area of the torus, square metre\n",
      "V = 3*math.pi*a;        ## Volume of the torus, cubic metre\n",
      "P = 10**-5*13.6e+3*9.81;   ## Pressure of the gas, newton per square metre\n",
      "C = 1200e-6;        ## Capacitance, farad\n",
      "v = 4e+4;            ##  potential, volts\n",
      "T_room = 293;        ## Room temperature, kelvin\n",
      "N_k = P*V/T_room;    ## From gas equation\n",
      "E = 1/2.*C*v**2;       ## Energy stored, joules\n",
      "T_k = 1/6.*E/(N_k*10.);    ## Temperature attained by thermonuclear device, kelvin\n",
      "print'%s %.2e %s'%(\"\\nThe temperature attained by thermonuclear device =\",T_k,\" K\");\n",
      "\n",
      "## Result\n",
      "## The temperature attained by thermonuclear device = 4.75e+005 K \n",
      "\n",
      "  "
     ],
     "language": "python",
     "metadata": {},
     "outputs": [
      {
       "output_type": "stream",
       "stream": "stdout",
       "text": [
        "\n",
        "The temperature attained by thermonuclear device = 4.75e+05  K\n"
       ]
      }
     ],
     "prompt_number": 4
    },
    {
     "cell_type": "heading",
     "level": 2,
     "metadata": {},
     "source": [
      "Ex7-pg601"
     ]
    },
    {
     "cell_type": "code",
     "collapsed": false,
     "input": [
      "## Exa13.7 : : Page-601 (2011)\n",
      "#calculate energy released by the sun temperautre of the sun\n",
      "import math \n",
      "G = 6.67e-11;        ## Gravitational constant, newton square m per square kg\n",
      "r = 7e+08;        ## Radius of the sun, metre\n",
      "M_0 = 2e+30;        ## Mass of the sun, kg\n",
      "E_rel = 3/5.*G*M_0**2/r;      ## Energy released by the sun, joule\n",
      "E_dia_shrink_10 = E_rel/9.;  ## Energy released when sun diameter shrink by 10 percent, joule\n",
      "R = 8.314;       ## Universal gas constant, joule per kelvin per kelvin per mole\n",
      "T = E_rel/(M_0*R);  ## Temperature of the sun, kelvin\n",
      "print'%s %.2e %s %.2e %s %.2e %s '%(\"\\nThe energy released by the sun = \",E_rel,\" joule\"and\" \\nThe energy released when sun diameter is shrinked by 10 percent = \",E_dia_shrink_10,\" joule\"and\" \\nThe temperature of the sun = \",T,\" kelvin \");\n",
      "\n",
      "## Result\n",
      "## The energy released by the sun = 2.29e+041 joule \n",
      "## The energy released when sun diameter is shrinked by 10 percent = 2.54e+040 joule \n",
      "## The temperature of the sun = 1.38e+010 kelvin \n",
      "  "
     ],
     "language": "python",
     "metadata": {},
     "outputs": [
      {
       "output_type": "stream",
       "stream": "stdout",
       "text": [
        "\n",
        "The energy released by the sun =  2.29e+41  \n",
        "The energy released when sun diameter is shrinked by 10 percent =  2.54e+40  \n",
        "The temperature of the sun =  1.38e+10  kelvin  \n"
       ]
      }
     ],
     "prompt_number": 3
    },
    {
     "cell_type": "heading",
     "level": 2,
     "metadata": {},
     "source": [
      "Ex8-pg602"
     ]
    },
    {
     "cell_type": "code",
     "collapsed": false,
     "input": [
      "## Exa13.8 : : Page-602 (2011)\n",
      "# estimated Q-value\n",
      "import math\n",
      "A_0 = 240.;        ## Mass number of parent nucleus\n",
      "A_1 = 120.;        ## Mass number of daughter nucleus\n",
      "B_120 = 8.5;        ## Binding energy of daughter nucleus\n",
      "B_240 = 7.6;        ##  Binding energy of parent nucleus\n",
      "Q = 2*A_1*B_120-A_0*B_240;    ## Estimated Q-value, mega electron volts\n",
      "print'%s %.2f %s'%(\"\\nThe estimated Q-value is = \",Q,\" MeV\");\n",
      "\n",
      "## Result\n",
      "## The estimated Q-value is = 216 MeV \n",
      "\n",
      "  "
     ],
     "language": "python",
     "metadata": {},
     "outputs": [
      {
       "output_type": "stream",
       "stream": "stdout",
       "text": [
        "\n",
        "The estimated Q-value is =  216.00  MeV\n"
       ]
      }
     ],
     "prompt_number": 2
    },
    {
     "cell_type": "heading",
     "level": 2,
     "metadata": {},
     "source": [
      "Ex9-pg602"
     ]
    },
    {
     "cell_type": "code",
     "collapsed": false,
     "input": [
      "## Exa13.9 : : Page-602 (2011)\n",
      "#find The asymmetric binding energy\n",
      "import math\n",
      "E = 31.7;        ## Energy, MeV\n",
      "a_a = 5/9.*2**(-2/3.)*E;        ## Asymmetric binding energy term, mega electron volts\n",
      "print'%s %.2f %s'%(\"\\nThe asymmetric binding energy term = \",a_a,\" MeV\");\n",
      "\n",
      "## Result\n",
      "## The asymmetric binding energy term = 11.1 MeV \n",
      "\n",
      "\n",
      "  "
     ],
     "language": "python",
     "metadata": {},
     "outputs": [
      {
       "output_type": "stream",
       "stream": "stdout",
       "text": [
        "\n",
        "The asymmetric binding energy term =  11.09  MeV\n"
       ]
      }
     ],
     "prompt_number": 1
    }
   ],
   "metadata": {}
  }
 ]
}