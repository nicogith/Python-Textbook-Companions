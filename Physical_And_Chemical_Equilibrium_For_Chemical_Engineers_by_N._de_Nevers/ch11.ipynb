{
 "metadata": {
  "name": "",
  "signature": "sha256:60047896579d8db89aebcb768a47215eec82ab7f225717125cd44a8e3788cb2b"
 },
 "nbformat": 3,
 "nbformat_minor": 0,
 "worksheets": [
  {
   "cells": [
    {
     "cell_type": "heading",
     "level": 1,
     "metadata": {},
     "source": [
      "Chapter 11 : LIquid Liquid Liquid Solid And Gas Solid Equilibrium"
     ]
    },
    {
     "cell_type": "heading",
     "level": 3,
     "metadata": {},
     "source": [
      " Example 11.1   Page: 272"
     ]
    },
    {
     "cell_type": "code",
     "collapsed": false,
     "input": [
      "\n",
      "import math \n",
      "\n",
      "V_water = 1.         #[L] volume of the water\n",
      "Temp = 25.           #[C]\n",
      "d_benzene = 0.88     #[g/ml] density of the benzene \n",
      "M_benzene = 78.      #[g/mol] molecular weight of the benzene\n",
      "M_water = 18.        #[g/mol]\n",
      "\n",
      "n_1drop = 1./20*(d_benzene/M_benzene)       #[mol/drop] \n",
      "\n",
      "n_water = 1000./M_water     #[mol]\n",
      "s_benzene = 0.000405\n",
      "n_benzene_saturate = s_benzene*n_water          #[mol]\n",
      "N_benzene = n_benzene_saturate/n_1drop          #[drops]\n",
      "\n",
      "print \"The total number of the drops of the benznene required to saturate the water is %0.0f drops\"%(N_benzene)\n"
     ],
     "language": "python",
     "metadata": {},
     "outputs": [
      {
       "output_type": "stream",
       "stream": "stdout",
       "text": [
        "The total number of the drops of the benznene required to saturate the water is 40 drops\n"
       ]
      }
     ],
     "prompt_number": 16
    },
    {
     "cell_type": "heading",
     "level": 3,
     "metadata": {},
     "source": [
      " Example 11.2  Page: 273\n"
     ]
    },
    {
     "cell_type": "code",
     "collapsed": false,
     "input": [
      "\n",
      "import math \n",
      "\n",
      "m_benzene = 1000.           #[lbm]\n",
      "M_benzene = 78.             #[lbm/lbmol]\n",
      "n_benzene = m_benzene/M_benzene        #[lbmol]\n",
      "x_benzene = 0.000405\n",
      "\n",
      "n_water = n_benzene/x_benzene       #[lbmol]\n",
      "m_water = n_water*18                #[lbm] \n",
      "\n",
      "print \"The amount of the ground water that will make a saturated solution will be %e lbm\"%(m_water)\n"
     ],
     "language": "python",
     "metadata": {},
     "outputs": [
      {
       "output_type": "stream",
       "stream": "stdout",
       "text": [
        "The amount of the ground water that will make a saturated solution will be 5.698006e+05 lbm\n"
       ]
      }
     ],
     "prompt_number": 17
    },
    {
     "cell_type": "heading",
     "level": 3,
     "metadata": {},
     "source": [
      " Example 11.3  Page: 277\n"
     ]
    },
    {
     "cell_type": "code",
     "collapsed": false,
     "input": [
      "\n",
      "import math \n",
      "\n",
      "Temp = 25.          #[C]\n",
      "n_water = 3.75      #[mol]\n",
      "n_ethanol = 2.5     #[mol]\n",
      "n_benzene = 3.75    #[mol]\n",
      "\n",
      "x_water = 0.375\n",
      "x_ethanol = 0.250\n",
      "x_benzene = 0.375\n",
      "\n",
      "x_water_w = 64.9        #[%]\n",
      "x_ethanol_w = 31.75     #[%]\n",
      "x_benzene_w = 3.37      #[%]\n",
      "\n",
      "x_water_b = 6.43        #[%]\n",
      "x_ethanol_b = 18.94     #[%]\n",
      "x_benzene_b = 74.62     #[%]\n",
      "\n",
      "print \"The composition of the two equilibrium phases i.e. water-reach phase and benzene reach phase is as \"\n",
      "print \"\\t\\t\\t\\tWater-reach phase\\t\\tbenzene-reach phase\"\n",
      "print \"Mol water\\t\\t\\t%f\\t\\t\\t\\t%f\"%(x_water_w,x_water_b)\n",
      "print \"Mol ethanol\\t\\t\\t%f\\t\\t\\t\\t%f\"%(x_ethanol_w,x_ethanol_b)\n",
      "print \"Mol benzene\\t\\t\\t%f\\t\\t\\t\\t%f\"%(x_benzene_w,x_benzene_b)\n"
     ],
     "language": "python",
     "metadata": {},
     "outputs": [
      {
       "output_type": "stream",
       "stream": "stdout",
       "text": [
        "The composition of the two equilibrium phases i.e. water-reach phase and benzene reach phase is as \n",
        "\t\t\t\tWater-reach phase\t\tbenzene-reach phase\n",
        "Mol water\t\t\t64.900000\t\t\t\t6.430000\n",
        "Mol ethanol\t\t\t31.750000\t\t\t\t18.940000\n",
        "Mol benzene\t\t\t3.370000\t\t\t\t74.620000\n"
       ]
      }
     ],
     "prompt_number": 23
    },
    {
     "cell_type": "heading",
     "level": 3,
     "metadata": {},
     "source": [
      " Example 11.4  Page: 282\n"
     ]
    },
    {
     "cell_type": "code",
     "collapsed": false,
     "input": [
      "\n",
      "import math \n",
      "\n",
      "Temp = 25.              #[C]\n",
      "x_1in2 = 405.           #[ppm]\n",
      "x_2in1 = 3000.          #[ppm]\n",
      "\n",
      "x_water_w = (10**(6)-405.)/(10**(6))\n",
      "x_benzene_w = 1-x_water_w\n",
      "\n",
      "x_benzene_b =(10.**(6.)-3000.)/(10**(6))\n",
      "x_water_b = 1-x_benzene_b\n",
      "\n",
      "\n",
      "y_benzene = 1/(x_benzene_w)\n",
      "y_water = 1/(x_water_b)\n",
      "\n",
      "print \" Activity coefficient of benzene in water is %f\"%(y_benzene)\n",
      "print \" Activity coefficient of water in benzene is %f\"%(y_water)\n"
     ],
     "language": "python",
     "metadata": {},
     "outputs": [
      {
       "output_type": "stream",
       "stream": "stdout",
       "text": [
        " Activity coefficient of benzene in water is 2469.135802\n",
        " Activity coefficient of water in benzene is 333.333333\n"
       ]
      }
     ],
     "prompt_number": 20
    },
    {
     "cell_type": "heading",
     "level": 3,
     "metadata": {},
     "source": [
      " Example 11.5  Page: 283\n"
     ]
    },
    {
     "cell_type": "code",
     "collapsed": false,
     "input": [
      "\n",
      "import math \n",
      "from numpy import * \n",
      "from matplotlib.pyplot import *\n",
      "\n",
      "%matplotlib inline\n",
      "\n",
      "R = 8.314           #[J/(mol*K)] Universal gas consmath.tant\n",
      "T = 298.15          #[K] Temperature\n",
      "g_a_0 = 2.          #[kj/mol] Gibb's free energy of the pure species 'a'\n",
      "g_b_0 = 1.          #[kj/mol] Gibb's free energy of the pure species 'b'\n",
      "\n",
      "for a in range(4):\n",
      "    def f(x): \n",
      "        return  x*g_a_0 + (1-x)*g_b_0 + (R*T)/1000*(x*log(x) + (1-x)*log(1-x) + x*a*(1-x)**(2) + (1-x)*a*(x)**(2))\n",
      " \n",
      "    x=linspace(0.000001,0.990001,100)\n",
      "    a = f(x)        \n",
      "    plot(x,a)\n",
      "    \n",
      "xlabel(\" mole fraction of species a,x_a\");\n",
      "ylabel(\" gibb''s free energy per mole of mixture,g_mixture kJ/mol\");\n",
      "annotate(\"A = 0\",xy=(.7,0))\n",
      "annotate(\"A = 1\",xy=(.6,0.5))\n",
      "annotate(\"A = 2\",xy=(.6,0.95))\n",
      "annotate(\"A = 3\",xy=(.6,1.50))\n",
      "suptitle(\"Calculated values of the molar Gibbs energy of a binary mixture at 25 \u0014 C, assuming \\\n",
      "the symmetrical activity coefficient equation, with various values of A.\")\n",
      "\n",
      "show()\n",
      "print \" The plot is shown in the graphic window.\"\n"
     ],
     "language": "python",
     "metadata": {},
     "outputs": [
      {
       "output_type": "stream",
       "stream": "stdout",
       "text": [
        "Populating the interactive namespace from numpy and matplotlib\n"
       ]
      },
      {
       "output_type": "stream",
       "stream": "stderr",
       "text": [
        "WARNING: pylab import has clobbered these variables: ['f', 'draw_if_interactive']\n",
        "`%pylab --no-import-all` prevents importing * from pylab and numpy\n"
       ]
      },
      {
       "metadata": {},
       "output_type": "display_data",
       "png": "[encoded data removed]",
       "text": [
        "<matplotlib.figure.Figure at 0x2d7f510>"
       ]
      },
      {
       "output_type": "stream",
       "stream": "stdout",
       "text": [
        " The plot is shown in the graphic window.\n"
       ]
      }
     ],
     "prompt_number": 10
    },
    {
     "cell_type": "heading",
     "level": 3,
     "metadata": {},
     "source": [
      " Example 11.6   Page: 283\n"
     ]
    },
    {
     "cell_type": "code",
     "collapsed": false,
     "input": [
      "\n",
      "import math \n",
      "from matplotlib.pyplot import *\n",
      "from numpy import *\n",
      "\n",
      "\n",
      "T = 92 + 273.15         #[K] Temperature of the system\n",
      "R = 8.314               #[m**(3)*Pa/(mol*K)] universal gas consmath.tant\n",
      "\n",
      "A = 1.2739\n",
      "B = 3.9771\n",
      "\n",
      "\n",
      "\n",
      "def f(x_a): \n",
      "\t return  (R*T/1000)*( x_a*log(x_a) + (1-x_a)*log(1-x_a) + \\\n",
      "     x_a*(B**(2)*A*(1-x_a)**(2)/(A*x_a + B*(1-x_a))**(2)) + (1-x_a)* \\\n",
      "     (A**(2)*B*x_a**(2)/(A*x_a + B*(1-x_a))**(2)) )\n",
      "\n",
      "x_a = linspace(0.000001,0.99999,100)\n",
      "a = f(x_a)\n",
      "plot(x_a,a)\n",
      "\n",
      "x = linspace(0.0,0.99999,100)\n",
      "a = 1.2090312*x-1.251495764\n",
      "plot(x,1.2090312*x-1.251495764)\n",
      "xlabel(\" Mol fraction of species a, x_a\");\n",
      "ylabel(\" g_mix - sum(x_i*g_i0)\");\n",
      "\n",
      "show()\n",
      "\n",
      "print \"Thus based on the several assumptions that the Van Laar equation is an accurate representation of LLE\"\n",
      "print \"we would conclude that at 92 deg C water-n-butanol does form two liquid phases.\"\n",
      "\n"
     ],
     "language": "python",
     "metadata": {},
     "outputs": [
      {
       "metadata": {},
       "output_type": "display_data",
       "png": "[encoded data removed]",
       "text": [
        "<matplotlib.figure.Figure at 0x353ea90>"
       ]
      },
      {
       "output_type": "stream",
       "stream": "stdout",
       "text": [
        "Thus based on the several assumptions that the Van Laar equation is an accurate representation of LLE\n",
        "we would conclude that at 92 deg C water-n-butanol does form two liquid phases.\n"
       ]
      }
     ],
     "prompt_number": 17
    },
    {
     "cell_type": "heading",
     "level": 3,
     "metadata": {},
     "source": [
      " Example 11.7   Page: 286\n"
     ]
    },
    {
     "cell_type": "code",
     "collapsed": false,
     "input": [
      "\n",
      "import math \n",
      "\n",
      "R = 8.314           #[J/(ml*K)]\n",
      "\n",
      "\n",
      "\n",
      "h_mix = -2967.7*R/1000          #[kJ/mol] Heat of mixing of water-in-benzene\n",
      "\n",
      "h_mix_1 = 522.9*R/1000          #[kJ/mol] Heat of mixing of benzene-in-water\n",
      "\n",
      "print \" Heat of mixing of water-in-benzene is given as %f kJ/mol\"%(h_mix)\n",
      "print \" Heat of mixing of benzene-in-water is given as    %f kJ/mol\"%(h_mix_1)\n"
     ],
     "language": "python",
     "metadata": {},
     "outputs": [
      {
       "output_type": "stream",
       "stream": "stdout",
       "text": [
        " Heat of mixing of water-in-benzene is given as -24.673458 kJ/mol\n",
        " Heat of mixing of benzene-in-water is given as    4.347391 kJ/mol\n"
       ]
      }
     ],
     "prompt_number": 23
    },
    {
     "cell_type": "heading",
     "level": 3,
     "metadata": {},
     "source": [
      " Example 11.8  Page: 287\n"
     ]
    },
    {
     "cell_type": "code",
     "collapsed": false,
     "input": [
      "import math \n",
      "\n",
      "T_i = 50.           #[F] Initial temperature of the system \n",
      "T_f = 20.           #[F] Final temperature of the system\n",
      "M_gas = 115.        #[g/mol] Molecular weight of gasoline at room temperature\n",
      "M_water = 18.       #[g/mol] Molecular weight of water at the room temperaature\n",
      "d = 720.            #[g/L] density of gasoline at the room temperature\n",
      "\n",
      "s_50 = 0.00026      #[mol fraction]\n",
      "\n",
      "s_20 = 0.0001       #[mol fraction]\n",
      "\n",
      "s_rej = s_50 - s_20     # mol of water per mole of gasoline \n",
      "\n",
      "w = (s_rej*d*M_water)/M_gas     #[g water/L gasoline]\n",
      "\n",
      "print \" The amount of water that will come out of the solution in the gasoline will be %f g water/L gasoline\"%(w)\n",
      "print \" At 20 deg F we would expect this water to become solid ice, forming a piece large enough to plug the fuel line of a parked auto.\"\n"
     ],
     "language": "python",
     "metadata": {},
     "outputs": [
      {
       "output_type": "stream",
       "stream": "stdout",
       "text": [
        " The amount of water that will come out of the solution in the gasoline will be 0.018031 g water/L gasoline\n",
        " At 20 deg F we would expect this water to become solid ice, forming a piece large enough to plug the fuel line of a parked auto.\n"
       ]
      }
     ],
     "prompt_number": 24
    },
    {
     "cell_type": "heading",
     "level": 3,
     "metadata": {},
     "source": [
      " Example 11.9   Page: 290\n"
     ]
    },
    {
     "cell_type": "code",
     "collapsed": false,
     "input": [
      "\n",
      "\n",
      "from numpy import *\n",
      "from matplotlib.pyplot import *\n",
      "import math \n",
      "\n",
      "Temp = 25.      #[C]\n",
      "x_water = 5.    #[mo]\n",
      "x_benzene = 0.1 #[mol]\n",
      "\n",
      "\n",
      "\n",
      "x_ethanol_water_rich = 3.817        #[%]\n",
      "x_ethanol_benzene_rich = 1.010      #[%]\n",
      "\n",
      "K = x_ethanol_water_rich/x_ethanol_benzene_rich\n",
      "\n",
      "X = array([3.817,7.968,12.977,18.134,23.540,24.069,27.892,31.725,35.510,39.382,41.062,41.771])\n",
      "Y = array([1.010,3.323,5.860,9.121,12.939,13.340,16.090,18.943,22.444,26.216,29.341,33.093])\n",
      "Z = X/Y\n",
      "\n",
      "plot(Y,Z)\n",
      "xlabel(\"Mol% ethanol in benzene-rich phase \");\n",
      "ylabel(\"Distribution coefficient of ethanol, K_ethanol\");\n",
      "show()\n",
      "K_1 = 4\n",
      "\n",
      "m_water_rich = 100*K_1/(K_1+1)\n",
      "m_benzene_rich = 100/(K_1+1)\n",
      "\n",
      "print \" Ethanol''s 0.1 mol distributed in the water rich phase will be   %f mol%% of the total mol\"%(m_water_rich)\n",
      "print \" Ethanol''s 0.1 mol distributed in the benzene rich phase will be %f mol%% of the total mol\"%(m_benzene_rich)\n"
     ],
     "language": "python",
     "metadata": {},
     "outputs": [
      {
       "metadata": {},
       "output_type": "display_data",
       "png": "[encoded data removed]",
       "text": [
        "<matplotlib.figure.Figure at 0x37ae490>"
       ]
      },
      {
       "output_type": "stream",
       "stream": "stdout",
       "text": [
        " Ethanol''s 0.1 mol distributed in the water rich phase will be   80.000000 mol% of the total mol\n",
        " Ethanol''s 0.1 mol distributed in the benzene rich phase will be 20.000000 mol% of the total mol\n"
       ]
      }
     ],
     "prompt_number": 19
    },
    {
     "cell_type": "heading",
     "level": 3,
     "metadata": {},
     "source": [
      " Example 11.10   Page: 293\n"
     ]
    },
    {
     "cell_type": "code",
     "collapsed": false,
     "input": [
      "\n",
      "\n",
      "import math \n",
      "\n",
      "Temp = 20.          #[C]\n",
      "s = 36.0            #[g per 100 g of water]\n",
      "M_NaCl = 58.5       #[g/mol] molecular weight of NaCl \n",
      "M_water = 18.       #[g/mol] molecular weight of water\n",
      "\n",
      "w = s/(s+100)\n",
      "w_percent = w*100       #[wt %]\n",
      "\n",
      "x = (s/M_NaCl)/((s/M_NaCl)+(100/M_water))\n",
      "x_percent = x*100       #[mol %]\n",
      "\n",
      "print \" Weight fraction of the NaCl in the saturated solution is %0.1f wt %%\"%(w_percent)\n",
      "print \" Mol fraction of the NaCl in the saturated solution is    %0.0f mol %%\"%(x_percent)\n",
      "\n",
      "\n"
     ],
     "language": "python",
     "metadata": {},
     "outputs": [
      {
       "output_type": "stream",
       "stream": "stdout",
       "text": [
        " Weight fraction of the NaCl in the saturated solution is 26.5 wt %\n",
        " Mol fraction of the NaCl in the saturated solution is    10 mol %\n"
       ]
      }
     ],
     "prompt_number": 26
    },
    {
     "cell_type": "heading",
     "level": 3,
     "metadata": {},
     "source": [
      " Example 11.11  Page: 293\n"
     ]
    },
    {
     "cell_type": "code",
     "collapsed": false,
     "input": [
      "\n",
      "\n",
      "import math \n",
      "\n",
      "T_inlet = 68.           #[F]\n",
      "T_outlet = 110.         #[F]\n",
      "\n",
      "s_inlet_carbonate = 60.         #[ppm]\n",
      "s_inlet_sulphate = 2020.        #[ppm]\n",
      "\n",
      "s_outlet_carbonate = 30.        #[ppm]\n",
      "s_outlet_sulphate = 2000.       #[ppm]\n",
      " # This is close enough to the solubility of the gypsum at 68F \n",
      " # so we conclude that we would not expect either form of CaSO4 to prdcipitate\n",
      " \n",
      "w = s_inlet_carbonate - s_outlet_carbonate         #[ppm]\n",
      "\n",
      "print  \" Total amount of the solid left behind in the heater will be        %0.1f ppm\"%(w)\n",
      "\n",
      " # Now if a typical houshold water heater heats 100 gallons/per day , we would expect to deposite \n",
      "w_per_day = w*10**(-6)*100*8.33                    #[lb/day]\n",
      "print  \" Total amount of the solid left behind in the heater per day will be %.3f lb/day\"%(w_per_day)\n"
     ],
     "language": "python",
     "metadata": {},
     "outputs": [
      {
       "output_type": "stream",
       "stream": "stdout",
       "text": [
        " Total amount of the solid left behind in the heater will be        30.0 ppm\n",
        " Total amount of the solid left behind in the heater per day will be 0.025 lb/day\n"
       ]
      }
     ],
     "prompt_number": 2
    },
    {
     "cell_type": "heading",
     "level": 3,
     "metadata": {},
     "source": [
      " Example 11.12   Page: 298\n"
     ]
    },
    {
     "cell_type": "code",
     "collapsed": false,
     "input": [
      "\n",
      "\n",
      "import math \n",
      "\n",
      "x_2 = 0.1\n",
      "x_ideal_benzene = 0.114\n",
      "x_ideal_CCl4 = 0.152\n",
      "\n",
      "y_i_1 = x_ideal_benzene/x_2# corresponding to practically ideal solution\n",
      "\n",
      "y_i_2 = x_ideal_CCl4/x_2# corresponding to mild type II behavior \n",
      "\n",
      "print \" Activity coefficient in benzene corresponding to practically ideal solution is %0.2f\"%(y_i_1)\n",
      "print \" Activity coefficient in CCl4 corresponding to mild type II behavior         is %0.2f\"%(y_i_2)\n"
     ],
     "language": "python",
     "metadata": {},
     "outputs": [
      {
       "output_type": "stream",
       "stream": "stdout",
       "text": [
        " Activity coefficient in benzene corresponding to practically ideal solution is 1.14\n",
        " Activity coefficient in CCl4 corresponding to mild type II behavior         is 1.52\n"
       ]
      }
     ],
     "prompt_number": 28
    },
    {
     "cell_type": "heading",
     "level": 3,
     "metadata": {},
     "source": [
      " Example 11.13   Page: 299\n"
     ]
    },
    {
     "cell_type": "code",
     "collapsed": false,
     "input": [
      "import math \n",
      "\n",
      "T = 273.15+20           #[K]\n",
      "\n",
      "T_m = 273.15+800        #[K]\n",
      "delta_h_fusion = 30219.         #[J/g]\n",
      "R = 8.314               #[J/(mol*K)]\n",
      "\n",
      "a = delta_h_fusion/(R*T)*(T_m/T-1)\n",
      "\n",
      "x_NaCl_into_y_i_1 = 1/math.exp(a)\n",
      "\n",
      "x_NaCl = 1/math.exp(a)*1\n",
      "\n",
      "print \" The solubility of the NaCl in water at 20 deg C is %e \"%( x_NaCl)\n",
      "print \" But the experimental value is 0.1 so Similar to the results in book our results are very far wrong\"\n"
     ],
     "language": "python",
     "metadata": {},
     "outputs": [
      {
       "output_type": "stream",
       "stream": "stdout",
       "text": [
        " The solubility of the NaCl in water at 20 deg C is 4.704794e-15 \n",
        " But the experimental value is 0.1 so Similar to the results in book our results are very far wrong\n"
       ]
      }
     ],
     "prompt_number": 29
    },
    {
     "cell_type": "heading",
     "level": 3,
     "metadata": {},
     "source": [
      " Example 11.14  Page: 301\n"
     ]
    },
    {
     "cell_type": "code",
     "collapsed": false,
     "input": [
      "import math \n",
      "\n",
      "P = 1*14.7          #[psia]\n",
      "T = 30.             #[F]\n",
      "p_ice = 0.0808     #[psia]\n",
      "x_water_in_ice = 1.00\n",
      "\n",
      "y_water_vapour = x_water_in_ice*p_ice/P\n",
      "\n",
      "print \" Equilibrium concentration of water vapour in the air is %0.4f\"%(y_water_vapour)\n"
     ],
     "language": "python",
     "metadata": {},
     "outputs": [
      {
       "output_type": "stream",
       "stream": "stdout",
       "text": [
        " Equilibrium concentration of water vapour in the air is 0.0055\n"
       ]
      }
     ],
     "prompt_number": 30
    },
    {
     "cell_type": "heading",
     "level": 3,
     "metadata": {},
     "source": [
      " Example 11.15  Page: 302\n"
     ]
    },
    {
     "cell_type": "code",
     "collapsed": false,
     "input": [
      "\n",
      "import math \n",
      "\n",
      "T = 273.15+35           #[K]\n",
      "p_d = 100.              #[atm]\n",
      "R = 82.06               #[(cm**(3)*atm)/(mol*K)]\n",
      "\n",
      "p_naphthalene = 0.00065         #[atm]\n",
      "\n",
      "x_naphthalene = 1.00\n",
      "P = p_d\n",
      "\n",
      "y_naphthalene = x_naphthalene*p_naphthalene/P\n",
      "v = 132.                #[cm**(3)/mol]\n",
      "p_c = 1.                #[atm]\n",
      "f_d_by_f_c = math.exp(v/(R*T)*(p_d-p_c))\n",
      "y_naphthalene = f_d_by_f_c*y_naphthalene\n",
      "\n",
      "print \"Estimated solubility of naphthalene in CO2 is %e\"%(y_naphthalene)\n",
      "\n"
     ],
     "language": "python",
     "metadata": {},
     "outputs": [
      {
       "output_type": "stream",
       "stream": "stdout",
       "text": [
        "Estimated solubility of naphthalene in CO2 is 1.089816e-05\n"
       ]
      }
     ],
     "prompt_number": 31
    },
    {
     "cell_type": "code",
     "collapsed": false,
     "input": [],
     "language": "python",
     "metadata": {},
     "outputs": []
    }
   ],
   "metadata": {}
  }
 ]
}