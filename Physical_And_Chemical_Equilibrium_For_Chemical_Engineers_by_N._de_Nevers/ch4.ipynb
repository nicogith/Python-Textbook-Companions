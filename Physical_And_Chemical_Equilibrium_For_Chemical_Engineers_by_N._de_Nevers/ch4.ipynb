{
 "metadata": {
  "name": ""
 },
 "nbformat": 3,
 "nbformat_minor": 0,
 "worksheets": [
  {
   "cells": [
    {
     "cell_type": "heading",
     "level": 1,
     "metadata": {},
     "source": [
      "Chapter 4 : Minimization of Gibbs Free energy"
     ]
    },
    {
     "cell_type": "heading",
     "level": 3,
     "metadata": {},
     "source": [
      "Example 4.1   Page: 67"
     ]
    },
    {
     "cell_type": "code",
     "collapsed": false,
     "input": [
      "\n",
      "import math \n",
      "\n",
      "T = 671.7               #[R] Equilibrium temperature\n",
      "m_steam = 1.            #[lbm] Condenmath.sing amount of the steam\n",
      "delta_h_condensation = -970.3       #[Btu/lbm] Enthalpy change of the steam\n",
      "delta_s_condensation = -1.4446      #[Btu/(lbm*R)] Entropy change of the steam\n",
      "\n",
      "delta_g_condensation = delta_h_condensation - T*delta_s_condensation        #[Btu/lbm]\n",
      "\n",
      "\n",
      "print \"Gibb''s free energy change of the steam is %0.1f Btu/lbm\"%(delta_g_condensation)\n"
     ],
     "language": "python",
     "metadata": {},
     "outputs": [
      {
       "output_type": "stream",
       "stream": "stdout",
       "text": [
        "Gibb''s free energy change of the steam is 0.0 Btu/lbm\n"
       ]
      }
     ],
     "prompt_number": 4
    },
    {
     "cell_type": "heading",
     "level": 3,
     "metadata": {},
     "source": [
      "\n",
      "Example 4.2  Page: 77\n"
     ]
    },
    {
     "cell_type": "code",
     "collapsed": false,
     "input": [
      "\n",
      "from numpy import *\n",
      "from matplotlib.pyplot import *\n",
      "import math \n",
      "\n",
      "%matplotlib inline\n",
      "\n",
      "g_g = 0.00          #[kJ/mol] \n",
      "g_d = 2.90          #[kJ/mol]\n",
      "\n",
      "v_g = 5.31*10**(-1)             #[kJ/(mol*kbar)]\n",
      "v_d = 3.42*10**(-1)             #[kJ/(mol*kbar)]\n",
      "\n",
      "\n",
      "D_g = v_g               #[J/(mol*Pa)] For graphite\n",
      "D_d = v_d               #[J/(mol*Pa)] For diamond\n",
      "\n",
      "\n",
      "P = linspace(0,30,30).T\n",
      "\n",
      "plot(P, D_d*P+g_d )\n",
      "plot(P,D_g*P+g_g )\n",
      "xlabel(\"Pressure, P, kbar\");\n",
      "ylabel(\"Gibb''s free energy per mol, g, kJ/mol\");\n",
      "legend(['Diamond, slope = 0.342 (kJ/mol)/kbar','Graphite, slope = 0.532 (kJ/mol)/kbar']);\n",
      "\n",
      "show()\n",
      "print \" Gibb's free energy-pressure diagram for graphite-diamond system at 25 degC is as shown in the graphic window. \"\n",
      "\n",
      "\n"
     ],
     "language": "python",
     "metadata": {},
     "outputs": [
      {
       "output_type": "stream",
       "stream": "stdout",
       "text": [
        "Populating the interactive namespace from numpy and matplotlib\n"
       ]
      },
      {
       "output_type": "stream",
       "stream": "stderr",
       "text": [
        "WARNING: pylab import has clobbered these variables: ['draw_if_interactive']\n",
        "`%pylab --no-import-all` prevents importing * from pylab and numpy\n"
       ]
      },
      {
       "metadata": {},
       "output_type": "display_data",
       "png": "[encoded data removed]",
       "text": [
        "<matplotlib.figure.Figure at 0x2896e50>"
       ]
      },
      {
       "output_type": "stream",
       "stream": "stdout",
       "text": [
        " Gibb's free energy-pressure diagram for graphite-diamond system at 25 degC is as shown in the graphic window. \n"
       ]
      }
     ],
     "prompt_number": 3
    },
    {
     "cell_type": "heading",
     "level": 3,
     "metadata": {},
     "source": [
      " Example 4.3  Page: 80\n"
     ]
    },
    {
     "cell_type": "code",
     "collapsed": false,
     "input": [
      "\n",
      "from scipy.optimize import fsolve \n",
      "import math \n",
      "\n",
      "\n",
      "K = 4.52\n",
      "\n",
      "\n",
      "def f(x_iso): \n",
      "\t return  x_iso/(1-x_iso)-K\n",
      "x_iso = fsolve(f,0)\n",
      "\n",
      "print \" Mole fraction of isobumath.tane isomer in equilibrium is %0.2f\"%(x_iso)\n"
     ],
     "language": "python",
     "metadata": {},
     "outputs": [
      {
       "output_type": "stream",
       "stream": "stdout",
       "text": [
        " Mole fraction of isobumath.tane isomer in equilibrium is 0.82\n"
       ]
      }
     ],
     "prompt_number": 6
    },
    {
     "cell_type": "code",
     "collapsed": false,
     "input": [],
     "language": "python",
     "metadata": {},
     "outputs": []
    }
   ],
   "metadata": {}
  }
 ]
}