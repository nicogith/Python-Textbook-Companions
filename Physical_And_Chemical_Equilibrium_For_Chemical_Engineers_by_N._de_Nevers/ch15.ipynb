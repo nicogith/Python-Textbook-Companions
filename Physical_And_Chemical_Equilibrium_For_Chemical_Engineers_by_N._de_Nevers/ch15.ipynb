{
 "metadata": {
  "name": "",
  "signature": "sha256:e78a9af8f6b64f20f90bc773dd4c5b922ed19d33b6608600d787b8b7d2cf559b"
 },
 "nbformat": 3,
 "nbformat_minor": 0,
 "worksheets": [
  {
   "cells": [
    {
     "cell_type": "heading",
     "level": 1,
     "metadata": {},
     "source": [
      "Chapter 15 : The Phase Rule"
     ]
    },
    {
     "cell_type": "heading",
     "level": 3,
     "metadata": {},
     "source": [
      " Example 15.2  Page: 401"
     ]
    },
    {
     "cell_type": "code",
     "collapsed": false,
     "input": [
      "\n",
      "import math \n",
      "\n",
      "\n",
      "print \" In this system there are four identifiable chemical species%(which are C,O2,CO2 and CO. The balanced equations we can write among them are\"\n",
      "\n",
      "print \"    C + 0.5O2 = CO\"\n",
      "print \"    C + O2 = CO2\"\n",
      "print \"    CO + 0.5O2 = CO2\"\n",
      "print \"    CO2 + C = 2CO\"\n",
      "\n",
      "\n",
      "print \" There are only two independent relations among these four species and\"\n",
      "\n",
      "V = 2# No of the variable\n",
      "P = 2# No of the phases\n",
      "C = V + P - 2\n",
      "print \"    C = V + P - 2\"\n",
      "print \"    C = 4 - 2 = 2\"\n",
      "print \" Thus, this is a two-component system\"\n"
     ],
     "language": "python",
     "metadata": {},
     "outputs": [
      {
       "output_type": "stream",
       "stream": "stdout",
       "text": [
        " In this system there are four identifiable chemical species%(which are C,O2,CO2 and CO. The balanced equations we can write among them are\n",
        "    C + 0.5O2 = CO\n",
        "    C + O2 = CO2\n",
        "    CO + 0.5O2 = CO2\n",
        "    CO2 + C = 2CO\n",
        " There are only two independent relations among these four species and\n",
        "    C = V + P - 2\n",
        "    C = 4 - 2 = 2\n",
        " Thus, this is a two-component system\n"
       ]
      }
     ],
     "prompt_number": 1
    },
    {
     "cell_type": "heading",
     "level": 3,
     "metadata": {},
     "source": [
      " Example 15.3   Page: 402\n"
     ]
    },
    {
     "cell_type": "code",
     "collapsed": false,
     "input": [
      "\n",
      "import math \n",
      "\n",
      "print \" The three species in this system are H2 N2 and NH3\"\n",
      "N = 3\n",
      "print \" There is only one balanced chemical reaction among these species\"\n",
      "Q = 1\n",
      "\n",
      "C = N - Q\n",
      "print \"    C = N - Q = %0.0f\"%(C)\n",
      "print \" Let we start with pure ammonia in the system then ammonia will dissociate in H2 and N2 in the ratio of 3:1.\"\n",
      "\n",
      "print \" And the relation between their mole fraction is    y_H2 = 3*y_N2\"\n",
      "\n",
      "SR = 1\n",
      "c = N-Q-SR\n",
      "print \" We have the modified phase rule as    Components = species - independent reactions - stoichiometric restriction\"\n",
      "print \"    C = N - Q - SR = %0.0f\"%(c)\n"
     ],
     "language": "python",
     "metadata": {},
     "outputs": [
      {
       "output_type": "stream",
       "stream": "stdout",
       "text": [
        " The three species in this system are H2 N2 and NH3\n",
        " There is only one balanced chemical reaction among these species\n",
        "    C = N - Q = 2\n",
        " Let we start with pure ammonia in the system then ammonia will dissociate in H2 and N2 in the ratio of 3:1.\n",
        " And the relation between their mole fraction is    y_H2 = 3*y_N2\n",
        " We have the modified phase rule as    Components = species - independent reactions - stoichiometric restriction\n",
        "    C = N - Q - SR = 1\n"
       ]
      }
     ],
     "prompt_number": 2
    },
    {
     "cell_type": "heading",
     "level": 3,
     "metadata": {},
     "source": [
      " Example 15.4   Page: 403\n"
     ]
    },
    {
     "cell_type": "code",
     "collapsed": false,
     "input": [
      "\n",
      "import math \n",
      "\n",
      "\n",
      "N = 3# No of species\n",
      "Q = 1 # no of reaction\n",
      "\n",
      "SR = 0\n",
      "C = N - Q - SR\n",
      "\n",
      "print \"Number of the components presents in the test tube are %0.0f\"%(C)\n"
     ],
     "language": "python",
     "metadata": {},
     "outputs": [
      {
       "output_type": "stream",
       "stream": "stdout",
       "text": [
        "Number of the components presents in the test tube are 2\n"
       ]
      }
     ],
     "prompt_number": 3
    },
    {
     "cell_type": "heading",
     "level": 3,
     "metadata": {},
     "source": [
      " Example 15.5   Page: 403\n"
     ]
    },
    {
     "cell_type": "code",
     "collapsed": false,
     "input": [
      "\n",
      "import math \n",
      "\n",
      "P = 3\n",
      "C = 2\n",
      "\n",
      "V = C + 2 - P\n",
      "\n",
      "\n",
      "print \" The no. of phases present in the system are %0.0f \"%(P)\n",
      "print \" Total no of degrees of freedom is %0.0f \"%(V)\n",
      "print \" Since there is only one degree of freedom so the system has a unique P-T curve\"\n",
      "print \" which can be well represented by     logp/torr = 23.6193 - 19827/T\"\n"
     ],
     "language": "python",
     "metadata": {},
     "outputs": [
      {
       "output_type": "stream",
       "stream": "stdout",
       "text": [
        " The no. of phases present in the system are 3 \n",
        " Total no of degrees of freedom is 1 \n",
        " Since there is only one degree of freedom so the system has a unique P-T curve\n",
        " which can be well represented by     logp/torr = 23.6193 - 19827/T\n"
       ]
      }
     ],
     "prompt_number": 4
    },
    {
     "cell_type": "heading",
     "level": 3,
     "metadata": {},
     "source": [
      " Example 15.6   Page: 404\n"
     ]
    },
    {
     "cell_type": "code",
     "collapsed": false,
     "input": [
      "\n",
      "import math \n",
      "\n",
      "print \" The five species present in the system are H2O%( HCl%( H+%( OH- and Cl-. \"\n",
      "N = 5               # Number of the species \n",
      "print \" Here we have two chemical relations:\"\n",
      "print \"    H2O = H+  +  OH- \"\n",
      "print \"    HCl = H+  +  Cl- \"\n",
      "\n",
      "Q = 2               # No of the reactions\n",
      "\n",
      "SR = 1 \n",
      "C = N - Q - SR\n",
      "\n",
      "print \" Number of the components present in the system are     C = N - Q - SR = %0.0f\"%(C)\n",
      "\n"
     ],
     "language": "python",
     "metadata": {},
     "outputs": [
      {
       "output_type": "stream",
       "stream": "stdout",
       "text": [
        " The five species present in the system are H2O%( HCl%( H+%( OH- and Cl-. \n",
        " Here we have two chemical relations:\n",
        "    H2O = H+  +  OH- \n",
        "    HCl = H+  +  Cl- \n",
        " Number of the components present in the system are     C = N - Q - SR = 2\n"
       ]
      }
     ],
     "prompt_number": 5
    },
    {
     "cell_type": "code",
     "collapsed": false,
     "input": [],
     "language": "python",
     "metadata": {},
     "outputs": []
    }
   ],
   "metadata": {}
  }
 ]
}