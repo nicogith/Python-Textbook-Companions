{
 "metadata": {
  "name": "Chapter11"
 },
 "nbformat": 3,
 "nbformat_minor": 0,
 "worksheets": [
  {
   "cells": [
    {
     "cell_type": "heading",
     "level": 1,
     "metadata": {},
     "source": [
      "Chapter 11:Solid State Physics"
     ]
    },
    {
     "cell_type": "heading",
     "level": 2,
     "metadata": {},
     "source": [
      "Example 11.1, Page 346"
     ]
    },
    {
     "cell_type": "code",
     "collapsed": false,
     "input": [
      "#initiation of variable\n",
      "c=769.0*10**3; Na=6.023*10**23; JeV=1.6*10**-19; #various constants and given values\n",
      "\n",
      "#calculation\n",
      "Be=c/(Na*JeV);        #Binding energy of an ion pair in the lattice\n",
      "\n",
      "#result\n",
      "print\"The experimental value was found out to be in eV.\",round(Be,5);\n",
      "\n",
      "#partb\n",
      "n=9.0;a=1.7476; R=0.281; k= 1.44;     #Given values and consstants\n",
      "Bc=k*a*(1-(1/n))/R;                  #ionic binding energy experimentally\n",
      "\n",
      "#result\n",
      "print\"The calculated value of the binding energy in eV.is\",round(Bc,4);\n"
     ],
     "language": "python",
     "metadata": {},
     "outputs": [
      {
       "output_type": "stream",
       "stream": "stdout",
       "text": [
        "The experimental value was found out to be in eV. 7.97983\n",
        "The calculated value of the binding energy in eV.is 7.9606\n"
       ]
      }
     ],
     "prompt_number": 1
    },
    {
     "cell_type": "heading",
     "level": 2,
     "metadata": {},
     "source": [
      "Example 11.2, Page 350"
     ]
    },
    {
     "cell_type": "code",
     "collapsed": false,
     "input": [
      "#initiation of variable\n",
      "a=3.61;# amount of energy required to remove an electron from Cl- ion\n",
      "b=-5.14 #amount of energy returned when an electron is added to Na+ ion\\\n",
      "c=7.98 #binding energy of NaCl atom\n",
      "\n",
      "#calculation\n",
      "E=a+b+c  #sum of all the energies\n",
      "print\"The net energy to be supplied in eV is\",round(E,3);"
     ],
     "language": "python",
     "metadata": {},
     "outputs": [
      {
       "output_type": "stream",
       "stream": "stdout",
       "text": [
        "The net energy to be supplied in eV is 6.45\n"
       ]
      }
     ],
     "prompt_number": 2
    },
    {
     "cell_type": "heading",
     "level": 2,
     "metadata": {},
     "source": [
      "Example 11.3, Page 355"
     ]
    },
    {
     "cell_type": "code",
     "collapsed": false,
     "input": [
      "#initiation of variable\n",
      "from math import exp,sqrt\n",
      "Na=6.023*10**23; p=8.96*10**3; M=63.5*10**-3;   #Na=avagadro's number,p=density,M=molar mass\n",
      "\n",
      "#calculation\n",
      "n= p*Na/M;                                   #density of charge carriers\n",
      "\n",
      "#result'\n",
      "print\"The density of charge carriers in copper in atoms/m3 is %.1e\" %round(n,3);\n",
      "\n",
      "s=5.88*10**7;m=9.11*10**-31;e=1.6*10**-19;    #charge & mass of an electron,resistance per unit length\n",
      "t= s*m/(n*e**2);                            #average time between collisions\n",
      "\n",
      "#result\n",
      "print \"The average time between collisions of conducting electrons in sec.is %.1e\" %t\n",
      "\n",
      "#partb\n",
      "Ef=7.03*1.6*10**-19;           #converting given enrgy to J\n",
      "\n",
      "#calculation\n",
      "Vf=sqrt(2*Ef/m);               #fermi velocity\n",
      "l=Vf*t;                      #mean free path\n",
      "\n",
      "#result\n",
      "print \"The average mean free path is\",l,\"m =\",round(l*10**9,3),\" nm\"\n"
     ],
     "language": "python",
     "metadata": {},
     "outputs": [
      {
       "output_type": "stream",
       "stream": "stdout",
       "text": [
        "The density of charge carriers in copper in atoms/m3 is 8.5e+28\n",
        "The average time between collisions of conducting electrons in sec.is 2.5e-14\n",
        "The average mean free path is 3.8690296096e-08 m = 38.69  nm\n"
       ]
      }
     ],
     "prompt_number": 1
    }
   ],
   "metadata": {}
  }
 ]
}