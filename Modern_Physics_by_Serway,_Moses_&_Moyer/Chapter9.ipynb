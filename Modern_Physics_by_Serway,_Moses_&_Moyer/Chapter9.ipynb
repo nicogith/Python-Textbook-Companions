{
 "metadata": {
  "name": "Chapter9"
 },
 "nbformat": 3,
 "nbformat_minor": 0,
 "worksheets": [
  {
   "cells": [
    {
     "cell_type": "heading",
     "level": 1,
     "metadata": {},
     "source": [
      "Chapter 9:Molecular Structure"
     ]
    },
    {
     "cell_type": "heading",
     "level": 2,
     "metadata": {},
     "source": [
      "Example 9.1 Page 270"
     ]
    },
    {
     "cell_type": "code",
     "collapsed": false,
     "input": [
      "#initiation of variable\n",
      "E=-2.7;\n",
      "K=9.0*(10**9)*((1.6*(10**-19))**2)/(0.106*10**-9);# taking all the values in meters. 1/(4*pi*e0)= 9*10^9 F/m\n",
      "\n",
      "#calculation\n",
      "q=((K-E*10**-9)/(4*K))*10**-9;                #balancing by multiplying 10^-9 on numerator. to eV.vm terms\n",
      "\n",
      "#result\n",
      "print\"Charge on the sphere required is\",round(q,4),\" times the charge of electron.\";"
     ],
     "language": "python",
     "metadata": {},
     "outputs": [
      {
       "output_type": "stream",
       "stream": "stdout",
       "text": [
        "Charge on the sphere required is 0.3105  times the charge of electron.\n"
       ]
      }
     ],
     "prompt_number": 3
    },
    {
     "cell_type": "heading",
     "level": 2,
     "metadata": {},
     "source": [
      "Example 9.2 Page 273"
     ]
    },
    {
     "cell_type": "code",
     "collapsed": false,
     "input": [
      "#initiation of variable\n",
      "K=1.44; Req=0.236; # K=e^2/(4*pi*e0)=1.44 eV.nm\n",
      "\n",
      "#calculation\n",
      "Uc=-K/(Req);        #coulomb energy\n",
      "\n",
      "#result\n",
      "print\"The coulomb energy at an equilibrium separation distance in eV is\",round(Uc,3);\n",
      "\n",
      "E=-4.26; delE=1.53;    #various standards values of NaCl\n",
      "Ur=E-Uc-delE; \n",
      "\n",
      "#result\n",
      "print\"The pauli''s repulsion energy in eV is\",round(Ur,3);\n",
      "\n",
      "#partb\n",
      "Req=0.1;         #pauli repulsion energy\n",
      "Uc=-K/(Req);\n",
      "E=4; delE=1.53;\n",
      "Ur=E-Uc-delE;\n",
      "\n",
      "#result\n",
      "print\"The pauli''s repulsion energy in eV is\",round(Ur,3);\n"
     ],
     "language": "python",
     "metadata": {},
     "outputs": [
      {
       "output_type": "stream",
       "stream": "stdout",
       "text": [
        "The coulomb energy at an equilirium separation distance in eV is -6.102\n",
        "The pauli''s repulsion energy in eV is 0.312\n",
        "The pauli''s repulsion energy in eV is 16.87\n"
       ]
      }
     ],
     "prompt_number": 4
    },
    {
     "cell_type": "heading",
     "level": 2,
     "metadata": {},
     "source": [
      "Example 9.3 Page 276"
     ]
    },
    {
     "cell_type": "code",
     "collapsed": false,
     "input": [
      "#initiation of variable\n",
      "from math import pi, sqrt\n",
      "delE=0.50; delR=0.017*10**-9;      #delE= E-Emin; delR=R-Rmin;\n",
      "k=2*(delE)/(delR**2);c=3*10**8;     #force constant\n",
      "m=(1.008)*(931.5*10**6)*0.5;       #mass of molecular hydrogen\n",
      "v= sqrt(k*c**2/m)/(2*pi);          #vibrational frequency\n",
      "h=4.14*(10**-15);\n",
      "\n",
      "#calculation\n",
      "E=h*v;\n",
      "\n",
      "#result\n",
      "print\"The value of corresponding photon energy in eV is\",round(E,3);\n"
     ],
     "language": "python",
     "metadata": {},
     "outputs": [
      {
       "output_type": "stream",
       "stream": "stdout",
       "text": [
        "The value of corresponding photon energy in eV is 0.537\n"
       ]
      }
     ],
     "prompt_number": 6
    },
    {
     "cell_type": "heading",
     "level": 2,
     "metadata": {},
     "source": [
      "Example 9.4 Page 280"
     ]
    },
    {
     "cell_type": "code",
     "collapsed": false,
     "input": [
      "#initiation of variable\n",
      "from math import pi, sqrt\n",
      "hc=1240.0;        #in eV.nm\n",
      "m=0.5*1.008*931.5*10**6;              #mass of hydrogen atom\n",
      "Req=0.074;                          #equivalent radius\n",
      "\n",
      "#calculation\n",
      "a=((hc)**2)/(4*(pi**2)*m*(Req**2));  #reduced mass of hydrogen atom\n",
      "for L in range(1,4):\n",
      "        delE= L*a; \n",
      "        print\"The value of energy in eV is\",round(delE,4);                  \n",
      "        w=(hc)/delE;\n",
      "        print\"The respective wavelength in um is\",round(w*10**-3,3);  \n"
     ],
     "language": "python",
     "metadata": {},
     "outputs": [
      {
       "output_type": "stream",
       "stream": "stdout",
       "text": [
        "The value of energy in eV is 0.0151\n",
        "The respective wavelength in um is 81.849\n",
        "The value of energy in eV is 0.0303\n",
        "The respective wavelength in um is 40.925\n",
        "The value of energy in eV is 0.0454\n",
        "The respective wavelength in um is 27.283\n"
       ]
      }
     ],
     "prompt_number": 9
    },
    {
     "cell_type": "heading",
     "level": 2,
     "metadata": {},
     "source": [
      "Example 9.5 Page 283"
     ]
    },
    {
     "cell_type": "code",
     "collapsed": false,
     "input": [
      "#initiation of variable\n",
      "from math import pi\n",
      "delv=6.2*(10**11);     #change in frequency\n",
      "h=1.05*(10**-34);        #value of h in J.sec\n",
      "\n",
      "#calculation\n",
      "I= h/(2*pi*delv);      #rotational inertia\n",
      "I1=I/(1.684604*10**-45); #to change units\n",
      "\n",
      "#result\n",
      "print\"The value of rotational inertia in kg m2 is %.1e\" %I;\n",
      "print\"which in terms of amu in u.nm2 is\",round(I1,3);"
     ],
     "language": "python",
     "metadata": {},
     "outputs": [
      {
       "output_type": "stream",
       "stream": "stdout",
       "text": [
        "The value of rotational inertia in kg m2 is 2.69536597172e-47\n",
        "which in terms of amu in u.nm2 is 0.016\n"
       ]
      }
     ],
     "prompt_number": 16
    },
    {
     "cell_type": "heading",
     "level": 2,
     "metadata": {},
     "source": [
      "Example 9.6 Page 286"
     ]
    },
    {
     "cell_type": "code",
     "collapsed": false,
     "input": [
      "#initiation of variable\n",
      "from math import pi\n",
      "delE=0.358;hc=4.14*10**-15;          #hc in eV.nm and delE=1.44eV(given values)\n",
      "\n",
      "#calculation\n",
      "f=(delE)/hc;                        #frequency \n",
      "\n",
      "#result\n",
      "print\"The frequency of the radiation is \",f;\n",
      "\n",
      "\n",
      "m=0.98;                            #mass in terms of u\n",
      "k=4*pi**2*m*f**2;                   #value of k in eV/m^2\n",
      "\n",
      "#result\n",
      "print\"The force constant is\",k; \n",
      "\n",
      "#partb\n",
      "hc=1240.0; m=0.98*1.008*931.5*10**6; Req=0.127;      #various constants in terms of  \n",
      "s=((hc)**2)/(4*(pi**2)*m*(Req**2));                # expected spacing \n",
      "\n",
      "#result\n",
      "print\"The spacing was found out to be\",round(s,3),\"which is very close to the graphical value of 0.0026 eV.\""
     ],
     "language": "python",
     "metadata": {},
     "outputs": [
      {
       "output_type": "stream",
       "stream": "stdout",
       "text": [
        "The frequency of the radiation is  8.64734299517e+13\n",
        "The force constant is 2.89301831756e+29\n",
        "The spacing was found out to be 0.003 which is very close to the graphical value of 0.0026 eV.\n"
       ]
      }
     ],
     "prompt_number": 19
    }
   ],
   "metadata": {}
  }
 ]
}