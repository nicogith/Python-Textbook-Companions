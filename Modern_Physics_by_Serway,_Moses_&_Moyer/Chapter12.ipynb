{
 "metadata": {
  "name": "Chapter12",
  "signature": "sha256:a11a7c1ba314b90500bccd87a2a9d038a55aefe70077541468dd4c2624276146"
 },
 "nbformat": 3,
 "nbformat_minor": 0,
 "worksheets": [
  {
   "cells": [
    {
     "cell_type": "heading",
     "level": 1,
     "metadata": {},
     "source": [
      "Chapter 12:Nuclear Structure and Reactivity"
     ]
    },
    {
     "cell_type": "heading",
     "level": 2,
     "metadata": {},
     "source": [
      "Example 12.1, Page 375"
     ]
    },
    {
     "cell_type": "code",
     "collapsed": false,
     "input": [
      "#initiation of variable\n",
      "Z=2;A=4;N=A-Z;         # Given values\n",
      "\n",
      "#result\n",
      "print\"The following method of representing atoms is followed throughout the chapter\\n\\t\\t x,y,z\\n where x=atomic number y=mass number z= Neutron Number S=symbol of the atom\\n\\n\"\n",
      "print\"The helium can be reperesented as He-- \",Z,A,N;\n",
      "\n",
      "#part b\n",
      "Z=50.0;N=66.0;A=Z+N;       # Given values and standard formulae\n",
      "print\"The Tin can be reperesented as Sn-- \",Z,A,N;\n",
      "\n",
      "\n",
      "#part c\n",
      "A=235;N=143;Z=A-N;\n",
      "print\"The Uranium can be reperesented as U-- \",Z,A,N;"
     ],
     "language": "python",
     "metadata": {},
     "outputs": [
      {
       "output_type": "stream",
       "stream": "stdout",
       "text": [
        "The following method of representing atoms is followed throughout the chapter\n",
        "\t\t x,y,z\n",
        " where x=atomic number y=mass number z= Neutron Number S=symbol of the atom\n",
        "\n",
        "\n",
        "The helium can be reperesented as He--  2 4 2\n",
        "The Tin can be reperesented as Sn--  50.0 116.0 66.0\n",
        "The Uranium can be reperesented as U--  92 235 143\n"
       ]
      }
     ],
     "prompt_number": 4
    },
    {
     "cell_type": "heading",
     "level": 2,
     "metadata": {},
     "source": [
      "Example 12.2, Page 377"
     ]
    },
    {
     "cell_type": "code",
     "collapsed": false,
     "input": [
      "#initiation of variable\n",
      "r0=1.2;         #standard value.\n",
      "A=12.0; \n",
      "r= r0*A**(1.0/3);\n",
      "\n",
      "#result\n",
      "print\"The value of mean radius for C in fm is\",round(r,3);\n",
      "\n",
      "#part2\n",
      "A=70.0;        #given value\n",
      "r= r0*A**(1.0/3);\n",
      "\n",
      "#result\n",
      "print\"The value of mean radius for C in fm is\",round(r,3);\n",
      "\n",
      "#part3\n",
      "A=209;\n",
      "r= r0*A**(1.0/3);\n",
      "\n",
      "#result\n",
      "print\"The value of mean radius for C in fm is\",round(r,3);"
     ],
     "language": "python",
     "metadata": {},
     "outputs": [
      {
       "output_type": "stream",
       "stream": "stdout",
       "text": [
        "The value of mean radius for C in fm is 2.747\n",
        "The value of mean radius for C in fm is 4.946\n",
        "The value of mean radius for C in fm is 7.121\n"
       ]
      }
     ],
     "prompt_number": 6
    },
    {
     "cell_type": "heading",
     "level": 2,
     "metadata": {},
     "source": [
      "Example 12.3, Page 379"
     ]
    },
    {
     "cell_type": "code",
     "collapsed": false,
     "input": [
      "#initiation of variable\n",
      "from math import pi\n",
      "m=1.67*10**-27; r0=1.2*10**-15; v=4*pi*(r0**3)/3.0     #standard values of mass radius and volume\n",
      "\n",
      "#calculation\n",
      "p=m/v;                                               #density \n",
      "\n",
      "#result\n",
      "print\"Density of typical nucleus in kg/m3 is %.0e\" %p;\n",
      "\n",
      "#part 2\n",
      "r0=0.01;v=4*pi*(r0**3)/3.0;p=2.0*10**17;              #/hypothetical values\n",
      "m1=p*v;                                  \n",
      "\n",
      "#result\n",
      "print\"The mass of the hypothetical nucleus would be in Kg %.0e\" %m1;\n"
     ],
     "language": "python",
     "metadata": {},
     "outputs": [
      {
       "output_type": "stream",
       "stream": "stdout",
       "text": [
        "Density of typical nucleus in kg/m3 is 2e+17\n",
        "The mass of the hypothetical nucleus would be in Kg 8e+11\n"
       ]
      }
     ],
     "prompt_number": 3
    },
    {
     "cell_type": "heading",
     "level": 2,
     "metadata": {},
     "source": [
      "Example 12.4, Page 380"
     ]
    },
    {
     "cell_type": "code",
     "collapsed": false,
     "input": [
      "#initiation of variable\n",
      "N=30.0;Z=26.0;A=56.0;Mn=1.008665;Mp=1.007825;m=55.934939;c2=931.5; #given values and constants for case-1\n",
      "B=((N*Mn)+(Z*Mp)-(m))*c2;                                  #binding energy(per nucleon)\n",
      "\n",
      "#result\n",
      "print\"Binding energy per nucleon for 26,56Fe30 in MeV is\",round(B/A,3);\n",
      "\n",
      "#part 2\n",
      "N=146.0;Z=92.0;A=238.0;Mn=1.008665;Mp=1.007825;m=238.050785;c2=931.5;      #given values and constants for case-2\n",
      "B=((N*Mn)+(Z*Mp)-(m))*c2;                             #binding energy(per nucleon)\n",
      "\n",
      "#result\n",
      "print\"Binding energy per nucleon for 26,56Fe30 in MeV is\",round(B/A,3);"
     ],
     "language": "python",
     "metadata": {},
     "outputs": [
      {
       "output_type": "stream",
       "stream": "stdout",
       "text": [
        "Binding nergy per nucleon for 26,56Fe30 in MeV is 8.79\n",
        "Binding nergy per nucleon for 26,56Fe30 in MeV is 7.57\n"
       ]
      }
     ],
     "prompt_number": 10
    },
    {
     "cell_type": "heading",
     "level": 2,
     "metadata": {},
     "source": [
      "Example 12.5, Page 382"
     ]
    },
    {
     "cell_type": "code",
     "collapsed": false,
     "input": [
      "#initiation of variable\n",
      "from math import exp\n",
      "t12=2.7*24*3600;              #converting days into seconds\n",
      "w=0.693/t12;                  #lambda\n",
      "\n",
      "#result\n",
      "print\"The decay constant in sec is %.2e\" %w; \n",
      "\n",
      "#partb\n",
      "print\"The decay constant is equal to probability of decay in one second hence %.2e\" %w;\n",
      "\n",
      "#partc\n",
      "m=10**-6;Na=6.023*10**23; M=198.0;     #given values and constants\n",
      "N=m*Na/M;                        #number of atoms in the sample \n",
      "Ao=w*N;             #activity\n",
      "\n",
      "#result\n",
      "print\"The activity was found out to be in Ci is %.2e\" %Ao,\"=0.244Ci\";        \n",
      "\n",
      "#partd\n",
      "t=7*24*3600.0;         #given time\n",
      "A=Ao*exp(-w*t);        #activity\n",
      "\n",
      "#result\n",
      "print\"The activity after one week was found out to be in decays/sec %.1e\" %A;"
     ],
     "language": "python",
     "metadata": {},
     "outputs": [
      {
       "output_type": "stream",
       "stream": "stdout",
       "text": [
        "The decay constant in sec is 2.97e-06\n",
        "The decay constant is equal to probability of decay in one second hence 2.97e-06\n",
        "The activity was found out to be in Ci is 9.04e+09 =0.244Ci\n",
        "The activity after one week was found out to be in decays/sec 1.5e+09\n"
       ]
      }
     ],
     "prompt_number": 4
    },
    {
     "cell_type": "heading",
     "level": 2,
     "metadata": {},
     "source": [
      "Example 12.6, Page 384"
     ]
    },
    {
     "cell_type": "code",
     "collapsed": false,
     "input": [
      "#initiation  of variable\n",
      "t1=4.55*10**9;t2=7.04*10**8;       #given values of time at 2 different instants\n",
      "\n",
      "#calculation\n",
      "age=t1/t2;\n",
      "r=2**age;\n",
      "\n",
      "#result\n",
      "print \"The original rock hence contained\",round(r,3),\"Na atoms of 235U where Na is the Avagadro''s Number=6.023*10^23\";"
     ],
     "language": "python",
     "metadata": {},
     "outputs": [
      {
       "output_type": "stream",
       "stream": "stdout",
       "text": [
        "The original rock hence contained 88.222 Na atoms of 235U where Na is the Avagadro''s Number=6.023*10^23\n"
       ]
      }
     ],
     "prompt_number": 13
    },
    {
     "cell_type": "heading",
     "level": 2,
     "metadata": {},
     "source": [
      "Example 12.7, Page 385"
     ]
    },
    {
     "cell_type": "code",
     "collapsed": false,
     "input": [
      "#initiation of variable\n",
      "m236Ra=226.025403;\n",
      "m222Rn=222.017571;\n",
      "m4He=4.002603;c2=931.5; #mass of various elements and c2=c^2\n",
      "\n",
      "#calculation\n",
      "Q=(m236Ra-m222Rn-m4He)*c2;#Q of the reaction\n",
      "A=226.0              \n",
      "K=((A-4)/A)*Q;                           #kinetic energy\n",
      "\n",
      "#result\n",
      "print\"The kinetic energy of the alpha particle in Mev is\",round(K,3);"
     ],
     "language": "python",
     "metadata": {},
     "outputs": [
      {
       "output_type": "stream",
       "stream": "stdout",
       "text": [
        "The kinetic energy of the alpha particle in Mev is 4.785\n"
       ]
      }
     ],
     "prompt_number": 14
    },
    {
     "cell_type": "heading",
     "level": 2,
     "metadata": {},
     "source": [
      "Example 12.8, Page 387"
     ]
    },
    {
     "cell_type": "code",
     "collapsed": false,
     "input": [
      "#initiation of variable\n",
      "m226Ra=226.025403; #mass of various elements\n",
      "m212Pb=211.991871;\n",
      "m14c=14.003242;\n",
      "c2=931.5;       #value of c^2\n",
      "\n",
      "#calculation\n",
      "Q=(m226Ra-m212Pb-m14c)*c2;      #Q of the reaction\n",
      "\n",
      "#result\n",
      "print\"The value of Q for 14c emission in MeV is\",round(Q,3);\n",
      "print\"The probability of 14c emission is 10^-9 times that of an alpha particle since the energy barrier for 14c emission is nearly 3 times higher and thicker.\""
     ],
     "language": "python",
     "metadata": {},
     "outputs": [
      {
       "output_type": "stream",
       "stream": "stdout",
       "text": [
        "The value of Q for 14c emission in MeV is 28.215\n",
        "The probability of 14c emission is 10^-9 times that of an alpha particle since the energy barrier for 14c emission is nearly 3 times higher and thicker.\n"
       ]
      }
     ],
     "prompt_number": 15
    },
    {
     "cell_type": "heading",
     "level": 2,
     "metadata": {},
     "source": [
      "Example 12.9, Page 389"
     ]
    },
    {
     "cell_type": "code",
     "collapsed": false,
     "input": [
      "#initiation of variable\n",
      "m23Ne=22.994465; #mass of various elements\n",
      "m23Na=22.989768;\n",
      "c2=931.5;          #value of c^2\n",
      "\n",
      "#calculation\n",
      "Q=(m23Ne-m23Na)*c2;     #Q of the reaction\n",
      "\n",
      "#result\n",
      "print \"Hence the maximum kinetic energy of the emitted electrons in MeV is\",round(Q,3);"
     ],
     "language": "python",
     "metadata": {},
     "outputs": [
      {
       "output_type": "stream",
       "stream": "stdout",
       "text": [
        "Hence the maximum kinetic energy of the emitted electrons in MeV is 4.375\n"
       ]
      }
     ],
     "prompt_number": 16
    },
    {
     "cell_type": "heading",
     "level": 2,
     "metadata": {},
     "source": [
      "Example 12.10, Page 390"
     ]
    },
    {
     "cell_type": "code",
     "collapsed": false,
     "input": [
      "#initiation of variable\n",
      "m40K=39.963999;         #mass of various particles\n",
      "m40Ca=39.962591;\n",
      "c2=931.5;                    #value of c^2 in MeV\n",
      "\n",
      "#calculation\n",
      "Qb1=(m40K-m40Ca)*c2;       #Q value of the reaction\n",
      "\n",
      "#result\n",
      "print\"The Q value for -VE beta emission in Mev in\",round(Qb1,3);\n",
      "\n",
      "#partb\n",
      "m40K=39.963999;          #mass of various particles\n",
      "m40Ar=39.962384;\n",
      "me=0.000549;\n",
      "Qb2=(m40K-m40Ar-2*me)*c2;         #Q value of the reaction\n",
      "\n",
      "#result\n",
      "print\"The Q value for +VE beta emission in Mev in\",round(Qb2,3);\n",
      "\n",
      "#partc\n",
      "m40K=39.963999;\n",
      "m40Ar=39.962384;\n",
      "\n",
      "#calculation\n",
      "Qec=(m40K-m40Ar)*c2;\n",
      "\n",
      "#result\n",
      "print\"The Q value for +VE beta emission in Mev in\",round(Qec,3);"
     ],
     "language": "python",
     "metadata": {},
     "outputs": [
      {
       "output_type": "stream",
       "stream": "stdout",
       "text": [
        "The Q value for -VE beta emission in Mev in 1.312\n",
        "The Q value for +VE beta emission in Mev in 0.482\n",
        "The Q value for +VE beta emission in Mev in 1.504\n"
       ]
      }
     ],
     "prompt_number": 17
    },
    {
     "cell_type": "heading",
     "level": 2,
     "metadata": {},
     "source": [
      "Example 12.11, Page 392"
     ]
    },
    {
     "cell_type": "code",
     "collapsed": false,
     "input": [
      "#initiation of variable\n",
      "Mg=12.000000; #mass of the carbon atom in amu\n",
      "c2=931.5; \n",
      "Eg=4.43;     #given energy of gamma ray \n",
      "Mex=Mg+(Eg/c2);     #mass in excited state\n",
      "Me=0.000549;        #mass of an electron\n",
      "\n",
      "#calculation\n",
      "Q=(12.018613-Mex-2*Me)*c2;     #Q of the particle\n",
      "\n",
      "#result\n",
      "print\"The maximum value of kinetic energy is in MeV\",round(Q,3);\n"
     ],
     "language": "python",
     "metadata": {},
     "outputs": [
      {
       "output_type": "stream",
       "stream": "stdout",
       "text": [
        "The maximum value of kinetic energy is in MeV 11.885\n"
       ]
      }
     ],
     "prompt_number": 18
    },
    {
     "cell_type": "heading",
     "level": 2,
     "metadata": {},
     "source": [
      "Example 12.12, Page 393"
     ]
    },
    {
     "cell_type": "code",
     "collapsed": false,
     "input": [
      "#initiation of variable\n",
      "m238U=238.050786; #mass of various quantities\n",
      "m206Pb=205.974455;\n",
      "m4He=4.002603;\n",
      "c2=931.5;     #constants\n",
      "Na=6.023*10**23;   #avagadro's number\n",
      "\n",
      "#calculation\n",
      "Q=(m238U-m206Pb-8*m4He)*c2; \n",
      "t12=(4.5)*10**9*(3.16*10**7);    #half life years to seconds conversion\n",
      "w=0.693/t12;                 # lambeda\n",
      "NoD=(Na/238)*w;      #number of decays\n",
      "E=NoD*Q*(1.6*10**-19)*10**6;        #rate of liberation of energy,converting MeV to eV\n",
      "\n",
      "#result\n",
      "print\"Rate of energy liberation in W is %.0e\" %E;"
     ],
     "language": "python",
     "metadata": {},
     "outputs": [
      {
       "output_type": "stream",
       "stream": "stdout",
       "text": [
        "Rate of energy liberation in W is 1e-07\n"
       ]
      }
     ],
     "prompt_number": 5
    },
    {
     "cell_type": "heading",
     "level": 2,
     "metadata": {},
     "source": [
      "Example 12.13, Page 395"
     ]
    },
    {
     "cell_type": "code",
     "collapsed": false,
     "input": [
      "#initiation of variable\n",
      "from math import log\n",
      "R=0.5;t12=4.5*10**9;                 #value of radius and half-life \n",
      "t1=(t12/0.693)*log(1+(1/R));        #age of rock 1\n",
      "R=1.0;\n",
      "t2=(t12/0.693)*log(1+(1/R));       #age of rock-2\n",
      "R=2.0\n",
      "t3=(t12/0.693)*log(1+(1/R));       #age of rock 3\n",
      "\n",
      "#result\n",
      "print\"The ages of rock samples in years respectively are %.1e\"%t1,\" %.1e\" %t2,\"  %.1e\" %t3;"
     ],
     "language": "python",
     "metadata": {},
     "outputs": [
      {
       "output_type": "stream",
       "stream": "stdout",
       "text": [
        "The ages of rock samples in years respectively are 7.1e+09  4.5e+09   2.6e+09\n"
       ]
      }
     ],
     "prompt_number": 11
    },
    {
     "cell_type": "heading",
     "level": 2,
     "metadata": {},
     "source": [
      "Example 12.14, Page 397"
     ]
    },
    {
     "cell_type": "code",
     "collapsed": false,
     "input": [
      "#initiation of variable\n",
      "from math import log\n",
      "P=2.0*10**14; V=2.0*10**-14; R=8.314; T=295.0;Na=6.023*10**23;   #various constants and given values\n",
      "\n",
      "#calculation\n",
      "n=P*V/(R*T);       #ideal gas law\n",
      "N=Na*n;f=10**-12         #avagadaro's number and fraction of carbon molecules\n",
      "t12=5730*3.16*(10**7);   #half life\n",
      "A=(0.693/t12)*N*f;    #activity\n",
      "D1w=A*7*24*60*60;       #decays per second\n",
      "\n",
      "#result\n",
      "print\"the no. of decays per second is %.2e\" %A\n",
      "print\"The no of decays per week is \",round(D1w);\n",
      "    \n",
      "    \n",
      "#partb\n",
      "c1=1420.0;             #concentration at instant 1\n",
      "c2=D1w;              #concentration at instant 2\n",
      "t12y=5730;          #half life\n",
      "t=t12y*log(c2/c1)/0.693;            #age of the sample\n",
      "\n",
      "#result\n",
      "print\"Age of the sample in years is\",round(t,3);\n",
      "print\"the answer in the book is wrong\""
     ],
     "language": "python",
     "metadata": {},
     "outputs": [
      {
       "output_type": "stream",
       "stream": "stdout",
       "text": [
        "the no. of decays per second is 3.76e-03\n",
        "The no of decays pers week is  2274.0\n",
        "Age of the sample in years is 3892.57\n"
       ]
      }
     ],
     "prompt_number": 15
    }
   ],
   "metadata": {}
  }
 ]
}