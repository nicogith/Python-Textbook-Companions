{
 "metadata": {
  "name": "",
  "signature": "sha256:33757e16bbf0642b0e875c402b38109f03d490b4828afe5b522fd4980c273e77"
 },
 "nbformat": 3,
 "nbformat_minor": 0,
 "worksheets": [
  {
   "cells": [
    {
     "cell_type": "markdown",
     "metadata": {},
     "source": [
      "<h1>Chapter No 1: Introduction<h1>"
     ]
    },
    {
     "cell_type": "markdown",
     "metadata": {},
     "source": [
      "<h3>Example 1.1, Page No 17 <h3>"
     ]
    },
    {
     "cell_type": "code",
     "collapsed": false,
     "input": [
      "\n",
      "\n",
      "#initialisation of variables\n",
      "Pressure=1500.0        #lbf\n",
      "Area=12.57            #in^2\n",
      "\n",
      "#CALCULATIONS\n",
      "Force=Pressure*Area\n",
      "\n",
      "#RESULTS\n",
      "print('Force is = %.2f lbf' %Force)\n"
     ],
     "language": "python",
     "metadata": {},
     "outputs": [
      {
       "output_type": "stream",
       "stream": "stdout",
       "text": [
        "Force is = 18855.00 lbf\n"
       ]
      }
     ],
     "prompt_number": 1
    }
   ],
   "metadata": {}
  }
 ]
}