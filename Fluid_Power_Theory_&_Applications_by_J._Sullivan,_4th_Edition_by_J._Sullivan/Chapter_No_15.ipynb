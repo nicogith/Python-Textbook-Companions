{
 "metadata": {
  "name": "",
  "signature": "sha256:218eef76eba5bc112a5af1f09e9dfcdb3c88be276a9fda8b85e2aab7235b5119"
 },
 "nbformat": 3,
 "nbformat_minor": 0,
 "worksheets": [
  {
   "cells": [
    {
     "cell_type": "markdown",
     "metadata": {},
     "source": [
      "<h1>Chapter 15  : Basics of Pneumatics <h1>"
     ]
    },
    {
     "cell_type": "markdown",
     "metadata": {},
     "source": [
      "<h3> Example 15.1 Page No 405  <h3>"
     ]
    },
    {
     "cell_type": "code",
     "collapsed": false,
     "input": [
      "\n",
      "\n",
      "import math\n",
      "\n",
      "#Variable initialization\n",
      "V1=20.0                 #gal volume\n",
      "P1=20.0                 #lbf/in^2 pressure\n",
      "n=2.0\n",
      "\n",
      "#CALCULATIONS\n",
      "V2=V1/n\n",
      "P2=(P1+14.7)*V1*231.0/(V2*231.0)\n",
      "P3=P2-14.7\n",
      "\n",
      "#RESULT\n",
      "print('Guage pressure = %.3f psi ' %P3)"
     ],
     "language": "python",
     "metadata": {},
     "outputs": [
      {
       "output_type": "stream",
       "stream": "stdout",
       "text": [
        "Guage pressure = 54.700 psi \n"
       ]
      }
     ],
     "prompt_number": 2
    },
    {
     "cell_type": "markdown",
     "metadata": {},
     "source": [
      "<h3> Example 15.2 Page No 406  <h3>"
     ]
    },
    {
     "cell_type": "code",
     "collapsed": false,
     "input": [
      "\n",
      "import math\n",
      "\n",
      "#Variable initialization\n",
      "V1=1500.0               #in^3 volume\n",
      "T=80.0                  #F temperature\n",
      "T1=200.0                #F temperature\n",
      "\n",
      "#CALCULATIONS\n",
      "V2=V1*(460.0+T1)/(T+460.0)\n",
      "\n",
      "#RESULT\n",
      "print('Volume the heated gas will occupy = %.3f in ^3 ' %V2)"
     ],
     "language": "python",
     "metadata": {},
     "outputs": [
      {
       "output_type": "stream",
       "stream": "stdout",
       "text": [
        "Volume the heated gas will occupy = 1833.333 in ^3 "
       ]
      }
     ],
     "prompt_number": 2
    },
    {
     "cell_type": "markdown",
     "metadata": {},
     "source": [
      "<h3> Example 15.3 Page No 406   <h3>"
     ]
    },
    {
     "cell_type": "code",
     "collapsed": false,
     "input": [
      "\n",
      "\n",
      "import math\n",
      "\n",
      "#Variable initialization\n",
      "P1=2000.0           #in^3\n",
      "T=80.0              #F temperature\n",
      "T1=250.0            #F temperature\n",
      "\n",
      "#CALCULATIONS\n",
      "P2=(P1+14.7)*(460.0+T1)/(T+460.0)\n",
      "P3=P2-14.7\n",
      "\n",
      "#RESULT\n",
      "print(' Guage pressure = %.3f psi ' %P3)"
     ],
     "language": "python",
     "metadata": {},
     "outputs": [
      {
       "output_type": "stream",
       "stream": "stdout",
       "text": [
        " Guage pressure = 2634.257 psi "
       ]
      }
     ],
     "prompt_number": 3
    },
    {
     "cell_type": "markdown",
     "metadata": {},
     "source": [
      "<h3> Example 15.4 Page No 407  <h3>"
     ]
    },
    {
     "cell_type": "code",
     "collapsed": false,
     "input": [
      "\n",
      "\n",
      "import math\n",
      "\n",
      "#Variable initialization\n",
      "P1=2000.0               #lbf/in^2 pressure\n",
      "V1=1500.0               #in^3 volume\n",
      "T2=250.0                #F temperature\n",
      "T1=75.0                 #F temperature\n",
      "V2=1000.0               #in^3 volume\n",
      "\n",
      "#CALCULATIONS\n",
      "P2=(P1+14.7)*V1*(T2+460.0)/((T1+460.0)*V2)\n",
      "P3=P2-14.7\n",
      "#RESULT\n",
      "print('\\n Guage pressure = %.3f psi ' %P3)"
     ],
     "language": "python",
     "metadata": {},
     "outputs": [
      {
       "output_type": "stream",
       "stream": "stdout",
       "text": [
        "\n",
        " Guage pressure = 3995.871 psi \n"
       ]
      }
     ],
     "prompt_number": 1
    },
    {
     "cell_type": "markdown",
     "metadata": {},
     "source": [
      "<h3> Example 15.5 Page No 409  <h3>"
     ]
    },
    {
     "cell_type": "code",
     "collapsed": false,
     "input": [
      "\n",
      "\n",
      "import math\n",
      "\n",
      "#Variable initialization\n",
      "s=10.0                #stroke in\n",
      "d=2.0                 #in diameter\n",
      "r=40.0                #cpm cycles per rate\n",
      "P1=80.0              #lbf/in^2 pressure\n",
      "Ps1=552+101          #kN/m^2 pressure\n",
      "Ps2=101              #kN/m^2 pressure\n",
      "#CALCULATIONS\n",
      "V1=math.pi*d**2*s*r/(4*1728.0)\n",
      "V2=(P1+14.7)*V1/14.7\n",
      "# In SI units\n",
      "Vs1=(20.3*25.4*r)/(1000000)\n",
      "Vs2=(Ps1*Vs1)/Ps2\n",
      "#RESULT\n",
      "print(' Air consumption in cfm of free air = %.3f cfm free air ' %V2)\n",
      "print(' In SI units Air consumption in cfm of free air = %.3f m^3/min free air ' %Vs2)"
     ],
     "language": "python",
     "metadata": {},
     "outputs": [
      {
       "output_type": "stream",
       "stream": "stdout",
       "text": [
        " Air consumption in cfm of free air = 4.685 cfm free air \n",
        " Air consumption in cfm of free air = 0.133 cfm free air \n"
       ]
      }
     ],
     "prompt_number": 5
    }
   ],
   "metadata": {}
  }
 ]
}