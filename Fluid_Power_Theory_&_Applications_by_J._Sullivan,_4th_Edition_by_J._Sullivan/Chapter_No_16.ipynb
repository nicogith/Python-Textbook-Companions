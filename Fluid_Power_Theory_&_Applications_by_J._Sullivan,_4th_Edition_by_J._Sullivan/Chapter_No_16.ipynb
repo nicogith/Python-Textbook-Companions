{
 "metadata": {
  "name": "",
  "signature": "sha256:1752ce8abd4db43dc9301d3a391f312646e1e708eed7ee0a80cbc87acc9e9b2d"
 },
 "nbformat": 3,
 "nbformat_minor": 0,
 "worksheets": [
  {
   "cells": [
    {
     "cell_type": "markdown",
     "metadata": {},
     "source": [
      "<h1>Chapter No 16 : Sizing Pneumatic systems <h1>"
     ]
    },
    {
     "cell_type": "markdown",
     "metadata": {},
     "source": [
      "<h3>Example 16.1, Page No 422<h3>"
     ]
    },
    {
     "cell_type": "code",
     "collapsed": false,
     "input": [
      "\n",
      "\n",
      "#initialisation of variables\n",
      "L=500        #ft length\n",
      "d=47.2561    #diameter in\n",
      "Q=650        # ft^3/min\n",
      "T=40         #F  Temperature   \n",
      "\n",
      "#CALCULATIONS\n",
      "CR=(250+14.7)/14.7\n",
      "Pf=(0.1025*L*(Q*1/60)*(Q*1/60))/(CR*d)\n",
      "\n",
      "#RESULTS\n",
      "print('The the pressure drop is = %.2f lbf/in^2' %Pf)\n"
     ],
     "language": "python",
     "metadata": {},
     "outputs": [
      {
       "output_type": "stream",
       "stream": "stdout",
       "text": [
        "The the pressure drop is = 6.02 lbf/in^2\n"
       ]
      }
     ],
     "prompt_number": 13
    },
    {
     "cell_type": "markdown",
     "metadata": {},
     "source": [
      "<h3>Example 16.2, Page No 423<h3>"
     ]
    },
    {
     "cell_type": "code",
     "collapsed": false,
     "input": [
      "\n",
      "#initialisation of variables\n",
      "L=(8*5.2)+(2*59)+(1*10.3)       #ft length\n",
      "C=0.1025         # Experimental coefficient\n",
      "d=47.2561        # internal diameter\n",
      "Q=500.0          # ft^3/min free air   \n",
      "CR=4.4           # ratio of compression of pipe\n",
      "\n",
      "\n",
      "#CALCULATIONS\n",
      "\n",
      "Pf=(C*L*((Q*1/60)*(Q*1/60)))/(CR*d)\n",
      "\n",
      "#RESULTS\n",
      "print('The the pressure drop is = %.2f lbf/in^2' %Pf)\n"
     ],
     "language": "python",
     "metadata": {},
     "outputs": [
      {
       "output_type": "stream",
       "stream": "stdout",
       "text": [
        "The the pressure drop is = 5.82 lbf/in^2\n"
       ]
      }
     ],
     "prompt_number": 9
    },
    {
     "cell_type": "markdown",
     "metadata": {},
     "source": [
      "<h3>Example 16.3, Page No 433 <h3>"
     ]
    },
    {
     "cell_type": "code",
     "collapsed": false,
     "input": [
      "\n",
      "\n",
      "#initialisation of variables\n",
      "#CALCULATIONS\n",
      "T=60+(0.25*60)   #total air consumption ft^3/min\n",
      "\n",
      "#RESULTS\n",
      "print('The total air consumption = %.2f ft^3/min' %T)\n"
     ],
     "language": "python",
     "metadata": {},
     "outputs": [
      {
       "output_type": "stream",
       "stream": "stdout",
       "text": [
        "The total air consumption = 75.00 ft^3/min\n"
       ]
      }
     ],
     "prompt_number": 2
    },
    {
     "cell_type": "markdown",
     "metadata": {},
     "source": [
      "<h3>Example 16.4, Page No 434 <h3>"
     ]
    },
    {
     "cell_type": "code",
     "collapsed": false,
     "input": [
      "\n",
      "\n",
      "#initialisation of variables\n",
      "Qr=10       #ft^3/min consumption rate\n",
      "t=5         #time min\n",
      "p1=125      #lbf/in^2 pressure\n",
      "p2=100      #lbf/in^2 pressure\n",
      "\n",
      "#CALCULATIONS\n",
      "Vr=(14.7*Q*t)/(p1-p2)\n",
      "\n",
      "#RESULTS\n",
      "print('The size of the receiver = %.2f ft^3' %Vr)"
     ],
     "language": "python",
     "metadata": {},
     "outputs": [
      {
       "output_type": "stream",
       "stream": "stdout",
       "text": [
        "The size of the receiver = 29.40 ft^3\n"
       ]
      }
     ],
     "prompt_number": 3
    },
    {
     "cell_type": "markdown",
     "metadata": {},
     "source": [
      "<h3>Example 16.5, Page No 444 <h3>"
     ]
    },
    {
     "cell_type": "code",
     "collapsed": false,
     "input": [
      "import math\n",
      "\n",
      "\n",
      "#initialisation of variables\n",
      "Q=35          #ft^3/min consumption rate\n",
      "t=540         #time min\n",
      "p1=90+14.7    #presure lbf/in^2\n",
      "p2=80+14.7    # pressure lbf/in^2\n",
      "\n",
      "#CALCULATIONS\n",
      "K=(p1+p2)/2\n",
      "Cv=(Q/22.67)*(math.sqrt(t/((p1-p2)*K)))\n",
      "\n",
      "#RESULTS\n",
      "print('The size of the air valve = %.2f ' %Cv)"
     ],
     "language": "python",
     "metadata": {},
     "outputs": [
      {
       "output_type": "stream",
       "stream": "stdout",
       "text": [
        "The size of the air valve = 1.14 \n"
       ]
      }
     ],
     "prompt_number": 4
    },
    {
     "cell_type": "markdown",
     "metadata": {},
     "source": [
      "<h3>Example 16.7, Page No 448 <h3>"
     ]
    },
    {
     "cell_type": "code",
     "collapsed": false,
     "input": [
      "import math\n",
      "\n",
      "\n",
      "#initialisation of variables\n",
      "Q=35          #ft^3/min consumption rate\n",
      "V1=0.327      #volume  ft^3/min\n",
      "p1=104.7      #presure lbf/in^2\n",
      "p2=14.7       #pressure lbf/in^2\n",
      "d=3          #in diameter\n",
      "#CALCULATIONS\n",
      "A=(3.14*(d*d)/4\n",
      "Q=((A*4)/1728)*20\n",
      "V2=p1*V1/p2\n",
      "\n",
      "#RESULTS\n",
      "print('The free air consumption = %.2f ft^3/min' %V2)"
     ],
     "language": "python",
     "metadata": {},
     "outputs": [
      {
       "output_type": "stream",
       "stream": "stdout",
       "text": [
        "The free air consumption = 2.33 ft^3/min\n"
       ]
      }
     ],
     "prompt_number": 2
    },
    {
     "cell_type": "markdown",
     "metadata": {},
     "source": [
      "<h3>Example 16.8, Page No 451 <h3>"
     ]
    },
    {
     "cell_type": "code",
     "collapsed": false,
     "input": [
      "import math\n",
      "\n",
      "\n",
      "#initialisation of variables\n",
      "Fa=0.065        # free air ft^3/in\n",
      "d=4             # stroke in\n",
      "c=20            # cycle rate cycles/min\n",
      "#CALCULATIONS\n",
      "Qv=(Fa*d*c)/2\n",
      "\n",
      "#RESULTS\n",
      "print('The free air consumption = %.2f ft^3/min' %Qv)"
     ],
     "language": "python",
     "metadata": {},
     "outputs": [
      {
       "output_type": "stream",
       "stream": "stdout",
       "text": [
        "The free air consumption = 2.60 ft^3/min\n"
       ]
      }
     ],
     "prompt_number": 2
    }
   ],
   "metadata": {}
  }
 ]
}