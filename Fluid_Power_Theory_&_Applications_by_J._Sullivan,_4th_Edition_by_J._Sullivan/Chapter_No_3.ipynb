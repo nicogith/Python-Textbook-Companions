{
 "metadata": {
  "name": "",
  "signature": "sha256:41e08ad2cbd71b375b8fca4d52dca8e12f0a2ed40aa710b7f9246d1cab354954"
 },
 "nbformat": 3,
 "nbformat_minor": 0,
 "worksheets": [
  {
   "cells": [
    {
     "cell_type": "markdown",
     "metadata": {},
     "source": [
      "<h1>Chapter No 3: Energy in Hydraulic systems<h1>"
     ]
    },
    {
     "cell_type": "markdown",
     "metadata": {},
     "source": [
      "<h3>Example 3.1, Page No 44 <h3>"
     ]
    },
    {
     "cell_type": "code",
     "collapsed": false,
     "input": [
      "\n",
      "\n",
      "#initialisation of variables\n",
      "h=50.0        #ft height\n",
      "sg=1.0        #Density \n",
      "\n",
      "#CALCULATIONS\n",
      "p=sg*h*0.433      # pressure\n",
      "\n",
      "#RESULTS\n",
      "print('Pressure is = %.2f lbf/in^2' %p)\n"
     ],
     "language": "python",
     "metadata": {},
     "outputs": [
      {
       "output_type": "stream",
       "stream": "stdout",
       "text": [
        "Pressure is = 21.65 lbf/in^2\n"
       ]
      }
     ],
     "prompt_number": 7
    },
    {
     "cell_type": "markdown",
     "metadata": {},
     "source": [
      "<h3>Example 3.2, Page No 44<h3>"
     ]
    },
    {
     "cell_type": "code",
     "collapsed": false,
     "input": [
      "\n",
      "\n",
      "#initialisation of variables\n",
      "p=1500.0        #lbf/in^2 pressure\n",
      "Sg=0.78         #Density     \n",
      "p2=p*6895       #lbf/in^2 pressure\n",
      "#CALCULATIONS\n",
      "h=(p*2.31)/Sg\n",
      "h2=(p2*1.02)/(10000*Sg)           #In metric units\n",
      "\n",
      "#RESULTS\n",
      "print('Head in ft = %.2f ft' %h)\n",
      "print('In metric units Head in ft = %.2f ft' %h2)"
     ],
     "language": "python",
     "metadata": {},
     "outputs": [
      {
       "output_type": "stream",
       "stream": "stdout",
       "text": [
        "Head in ft = 4442.31 ft\n",
        "Head in ft = 1352.48 ft\n"
       ]
      }
     ],
     "prompt_number": 3
    },
    {
     "cell_type": "markdown",
     "metadata": {},
     "source": [
      "<h3>Example 3.3, Page No 45 <h3>"
     ]
    },
    {
     "cell_type": "code",
     "collapsed": false,
     "input": [
      "\n",
      "\n",
      "#initialisation of variables\n",
      "p=13790000      #N/m^2 pressure\n",
      "Sg=0.83         #Density \n",
      "\n",
      "#CALCULATIONS\n",
      "h=(p*1.02)/(Sg*10000)\n",
      "\n",
      "#RESULTS\n",
      "print('Head in ft = %.2f m' %h)\n"
     ],
     "language": "python",
     "metadata": {},
     "outputs": [
      {
       "output_type": "stream",
       "stream": "stdout",
       "text": [
        "Head in ft = 1694.67 m\n"
       ]
      }
     ],
     "prompt_number": 4
    },
    {
     "cell_type": "markdown",
     "metadata": {},
     "source": [
      "<h3>Example 3.4, Page No 46 <h3>"
     ]
    },
    {
     "cell_type": "code",
     "collapsed": false,
     "input": [
      "\n",
      "\n",
      "#initialisation of variables\n",
      "Q=40            #Gal/min flow rate\n",
      "a1=3.14         #in^2   area\n",
      "a2=12.56        #in^2   area  \n",
      "#CALCULATIONS\n",
      "#Part a\n",
      "v1=Q/(a1*3.12)   #fluid velocity in 2 in diameter\n",
      "#Part b\n",
      "v2=(a1*v1)/a2    #Fluid Velocity in 4 in diameter\n",
      "#RESULTS\n",
      "print('Fluid Velocity in 2 in diameter pipe is = %.2f ft/sec' %v1)\n",
      "print('Fluid Velocity in 4 in diameter pipe is = %.2f ft/sec' %v2)\n"
     ],
     "language": "python",
     "metadata": {},
     "outputs": [
      {
       "output_type": "stream",
       "stream": "stdout",
       "text": [
        "Fluid Velocity is = 4.08 ft/sec\n",
        "Fluid Velocity is = 1.02 ft/sec\n"
       ]
      }
     ],
     "prompt_number": 7
    },
    {
     "cell_type": "markdown",
     "metadata": {},
     "source": [
      "<h3>Example 3.5, Page No 47  <h3>"
     ]
    },
    {
     "cell_type": "code",
     "collapsed": false,
     "input": [
      "import math\n",
      "\n",
      "\n",
      "#initialisation of variables\n",
      "Q=18           #Gal/min flow rate\n",
      "a=3.14         #in^2 area  \n",
      "v2=10         #ft/sec velocity\n",
      "#CALCULATIONS\n",
      "v=Q/(a*3.12)    \n",
      "D=math.sqrt((4*Q)/(math.pi*v2*3.12))\n",
      "\n",
      "#RESULTS\n",
      "print('Velocity is = %.2f in' %D)\n"
     ],
     "language": "python",
     "metadata": {},
     "outputs": [
      {
       "output_type": "stream",
       "stream": "stdout",
       "text": [
        "Velocity is = 0.86 in\n"
       ]
      }
     ],
     "prompt_number": 1
    },
    {
     "cell_type": "markdown",
     "metadata": {},
     "source": [
      "<h3>Example 3.6, Page No 51 <h3>"
     ]
    },
    {
     "cell_type": "code",
     "collapsed": false,
     "input": [
      "\n",
      "#initialisation of variables\n",
      "p=10.0        #lbf/in^2 pressure\n",
      "Sg=0.87       #Density\n",
      "\n",
      "#CALCULATIONS\n",
      "h=p*2.31/Sg\n",
      "#The value of h is actualy 26.55 but in book they have rounded off to 26.6 \n",
      "EPE=200*Sg*8.34*h      #Elevation energy\n",
      "#RESULTS\n",
      "print('The height = %.1f ft' %h)\n",
      "print('The energy of elevation = %.2f ft-lbf' %EPE)\n"
     ],
     "language": "python",
     "metadata": {},
     "outputs": [
      {
       "output_type": "stream",
       "stream": "stdout",
       "text": [
        "The height = 26.6 ft\n",
        "The energy of elevation = 38530.80 ft-lbf\n"
       ]
      }
     ],
     "prompt_number": 2
    },
    {
     "cell_type": "markdown",
     "metadata": {},
     "source": [
      "<h3>Example 3.7, Page No 53 <h3>"
     ]
    },
    {
     "cell_type": "code",
     "collapsed": false,
     "input": [
      "\n",
      "\n",
      "#initialisation of variables\n",
      "F=1000        #lbf force\n",
      "A=3.14        #in^2 area\n",
      "pe=10.0       #lbf/in^2 (Pressure of elevation)\n",
      "\n",
      "#CALCULATIONS\n",
      "p=F/A         #Total pressure\n",
      "P=p-pe\n",
      "\n",
      "#RESULTS\n",
      "print('The pressure is = %.2f lbf/in^2' %P)\n"
     ],
     "language": "python",
     "metadata": {},
     "outputs": [
      {
       "output_type": "stream",
       "stream": "stdout",
       "text": [
        "The pressure is = 308.47 lbf/in^2\n"
       ]
      }
     ],
     "prompt_number": 5
    },
    {
     "cell_type": "markdown",
     "metadata": {},
     "source": [
      "<h3>Example 3.8, Page No 53 <h3>"
     ]
    },
    {
     "cell_type": "code",
     "collapsed": false,
     "input": [
      "import math\n",
      "\n",
      "\n",
      "#initialisation of variables\n",
      "Sg=0.87        #Density\n",
      "a=0.785        #in^2 area \n",
      "g=32.2         #ft/sec^2\n",
      "\n",
      "#CALCULATIONS\n",
      "w=25*Sg*231*62.4*1/1738\n",
      "Q=25*231*1/12*1/60\n",
      "v=Q/a\n",
      "KE=(w*v*v)/(2*g)\n",
      "\n",
      "#RESULTS\n",
      "print('The Kinetic enegry is = %.2f ft-lbf' %KE)\n",
      "\n"
     ],
     "language": "python",
     "metadata": {},
     "outputs": [
      {
       "output_type": "stream",
       "stream": "stdout",
       "text": [
        "The Kinetic enegry is = 290.91 ft\n"
       ]
      }
     ],
     "prompt_number": 14
    },
    {
     "cell_type": "markdown",
     "metadata": {},
     "source": [
      "<h3>Example 3.9, Page No 55 <h3>"
     ]
    },
    {
     "cell_type": "code",
     "collapsed": false,
     "input": [
      "\n",
      "\n",
      "#initialisation of variables\n",
      "A1=7.065      #area in^2\n",
      "A2=0.785      #area  in^2\n",
      "p1=1000       #pressure lbf/in^2\n",
      "Q=500         #flow rate gal/min\n",
      "g=32.2        #ft/sec^2\n",
      "Sg=0.91       #density\n",
      "\n",
      "#CALCULATIONS\n",
      "v1=Q/(A1*3.12)      #Velocity\n",
      "v2=Q/(A2*3.12)       #Velocity\n",
      "temp1=(p1*2.31)/Sg\n",
      "temp2=(v1*v1)/ (2*g)\n",
      "temp3=(v2*v2)/(2*g)\n",
      "p2=(temp1+temp2-temp3)*Sg/2.31\n",
      "\n",
      "#RESULTS\n",
      "print('The pressure is = %.2f lbf/in^2' %p2)\n",
      "\n"
     ],
     "language": "python",
     "metadata": {},
     "outputs": [
      {
       "output_type": "stream",
       "stream": "stdout",
       "text": [
        "The pressure is = 748.21 lbf/in^2\n"
       ]
      }
     ],
     "prompt_number": 15
    },
    {
     "cell_type": "markdown",
     "metadata": {},
     "source": [
      "<h3>Example 3.10, Page No 55 <h3>"
     ]
    },
    {
     "cell_type": "code",
     "collapsed": false,
     "input": [
      "\n",
      "\n",
      "#initialisation of variables\n",
      "p=1000   #pressure lbf/in^2\n",
      "p1=350   #pressure lbf/in^2\n",
      "Sg=0.85  #Specific gravity\n",
      "\n",
      "#CALCULATIONS\n",
      "Ha=p*2.31/Sg\n",
      "H1=p1*2.31/Sg\n",
      "He=Ha-H1-679.41\n",
      "\n",
      "#RESULTS\n",
      "print('The energy extracted from the fluid = %.2f lbf/in^2' %He)"
     ],
     "language": "python",
     "metadata": {},
     "outputs": [
      {
       "output_type": "stream",
       "stream": "stdout",
       "text": [
        "The energy extracted from the fluid = 1087.06 lbf/in^2\n"
       ]
      }
     ],
     "prompt_number": 16
    },
    {
     "cell_type": "markdown",
     "metadata": {},
     "source": [
      "<h3>Example 3.11, Page No 55 <h3>"
     ]
    },
    {
     "cell_type": "code",
     "collapsed": false,
     "input": [
      "import math\n",
      "\n",
      "h=40    #height ft\n",
      "g=32.2  #ft/sec^2\n",
      "#CALCULATIONS\n",
      "v=math.sqrt(2*g*h)    #velocity\n",
      "#RESULTS\n",
      "print('The energy extracted from the fluid = %.2f lbf/in^2' %v)\n",
      "\n"
     ],
     "language": "python",
     "metadata": {},
     "outputs": [
      {
       "output_type": "stream",
       "stream": "stdout",
       "text": [
        "The energy extracted from the fluid = 50.75 lbf/in^2\n"
       ]
      }
     ],
     "prompt_number": 17
    }
   ],
   "metadata": {}
  }
 ]
}