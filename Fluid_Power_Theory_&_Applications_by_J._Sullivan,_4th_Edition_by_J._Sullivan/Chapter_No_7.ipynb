{
 "metadata": {
  "name": "",
  "signature": "sha256:7f3e7af3a7770bd6065b2ca329fec5074b9d86ea22aa36dc09cc71c375000d3b"
 },
 "nbformat": 3,
 "nbformat_minor": 0,
 "worksheets": [
  {
   "cells": [
    {
     "cell_type": "markdown",
     "metadata": {},
     "source": [
      "<h1> Chapter No 7 : Pumps <h1>"
     ]
    },
    {
     "cell_type": "markdown",
     "metadata": {},
     "source": [
      "<h3> Example 7.1, Page No 135  <h3>"
     ]
    },
    {
     "cell_type": "code",
     "collapsed": false,
     "input": [
      "\n",
      "import math\n",
      "\n",
      "#Variable initialization\n",
      "P=2500.0            #pressure lbf/in^3\n",
      "Q=3.0               #gpm flow rate\n",
      "p=5.0               #Bhp  power\n",
      "N=1725.0            #rpm speed\n",
      "\n",
      "#CALCULATIONS\n",
      "eo=P*Q*100.0/(1714.0*p)   # pump efficiency\n",
      "To=p*5250.0/ N            # torque Input\n",
      "\n",
      "#RESULTS\n",
      "print('\\n Input torque = %.3f lb-ft ' %To)"
     ],
     "language": "python",
     "metadata": {},
     "outputs": [
      {
       "output_type": "stream",
       "stream": "stdout",
       "text": [
        "\n",
        " Input torque = 15.217 lb-ft "
       ]
      }
     ],
     "prompt_number": 1
    },
    {
     "cell_type": "markdown",
     "metadata": {},
     "source": [
      "<h3> Example 7.2 Page No 137  <h3>"
     ]
    },
    {
     "cell_type": "code",
     "collapsed": false,
     "input": [
      "\n",
      "import math\n",
      "\n",
      "#Variable initialization\n",
      "Q=52.0          #gpm flow rate\n",
      "v=3.75          #in^3 positive displacement\n",
      "N=3300.0        #rpm speed\n",
      "\n",
      "#CALCULATIONS\n",
      "ev=231.0*Q*100.0/(v*N)   #Volumetric efficiency\n",
      "\n",
      "#RESULT\n",
      "print('\\n Volumetric efficiency = %.3f percent ' %ev)"
     ],
     "language": "python",
     "metadata": {},
     "outputs": [
      {
       "output_type": "stream",
       "stream": "stdout",
       "text": [
        "\n",
        " Volumetric efficiency = 97.067 percent "
       ]
      }
     ],
     "prompt_number": 2
    },
    {
     "cell_type": "markdown",
     "metadata": {},
     "source": [
      "<h3> Example 7.3, Page No 137  <h3>"
     ]
    },
    {
     "cell_type": "code",
     "collapsed": false,
     "input": [
      "\n",
      "\n",
      "import math\n",
      "\n",
      "#Variable initialization\n",
      "eo=87.0         #percent overall efficiency\n",
      "ev=94.0         #percent volumetric efficiency\n",
      "p=10.0          #bhpi\n",
      "\n",
      "#CALCULATIONS\n",
      "em=eo/ev        # Mechanical efficiency\n",
      "em1=em*100.0\n",
      "Fhp=p*(1.0-em)\n",
      "\n",
      "#RESULTS\n",
      "print(' \\n Frictional horsepower = %.3f hp ' %Fhp)\n",
      "print('\\n Mechanical efficiency = %.2f percent ' %em1 )"
     ],
     "language": "python",
     "metadata": {},
     "outputs": [
      {
       "output_type": "stream",
       "stream": "stdout",
       "text": [
        " \n",
        " Frictional horsepower = 0.745 hp \n",
        "\n",
        " Mechanical efficiency = 92.55 percent \n"
       ]
      }
     ],
     "prompt_number": 12
    },
    {
     "cell_type": "markdown",
     "metadata": {},
     "source": [
      "<h3> Example 7.4 Page No 150  <h3>"
     ]
    },
    {
     "cell_type": "code",
     "collapsed": false,
     "input": [
      "\n",
      "\n",
      "import math\n",
      "\n",
      "#Variable initialization\n",
      "n=9.0           #no of cycles\n",
      "N=3000.0        #rpm speed\n",
      "s=0.75          #inch stroke\n",
      "d=0.5           #inch diameter\n",
      "\n",
      "#CALCULATIONS\n",
      "Q=n*N*s*math.pi*d**2/(4.0*231.0)\n",
      "\n",
      "#RESULTS\n",
      "print(' Volume flow rate = %.3f gpm ' %Q)"
     ],
     "language": "python",
     "metadata": {},
     "outputs": [
      {
       "output_type": "stream",
       "stream": "stdout",
       "text": [
        " Volume flow rate = 17.212 gpm "
       ]
      }
     ],
     "prompt_number": 4
    },
    {
     "cell_type": "markdown",
     "metadata": {},
     "source": [
      "<h3> Example 7.5 Page No 162  <h3>"
     ]
    },
    {
     "cell_type": "code",
     "collapsed": false,
     "input": [
      "\n",
      "\n",
      "import math\n",
      "\n",
      "#Variable initialization\n",
      "d=6.0           #in diameter\n",
      "S=120.0         #in stroke\n",
      "Q=5.0           #gpm flow rate\n",
      "\n",
      "#CALCULATIONS\n",
      "Vc=math.pi*d**2*S/(4.0*231.0)\n",
      "\n",
      "#RESULTS\n",
      "print('Minimum size of the reservoir = %.3f gpm ' %Vc)"
     ],
     "language": "python",
     "metadata": {},
     "outputs": [
      {
       "output_type": "stream",
       "stream": "stdout",
       "text": [
        "Minimum size of the reservoir = 14.688 gpm \n"
       ]
      }
     ],
     "prompt_number": 2
    }
   ],
   "metadata": {}
  }
 ]
}