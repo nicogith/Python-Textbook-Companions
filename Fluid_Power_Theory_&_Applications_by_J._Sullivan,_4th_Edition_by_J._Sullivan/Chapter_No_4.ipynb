{
 "metadata": {
  "name": "",
  "signature": "sha256:ef80559993f5ef663679dee68ecb16be7277adf553aef3de2eb86d71037aadc3"
 },
 "nbformat": 3,
 "nbformat_minor": 0,
 "worksheets": [
  {
   "cells": [
    {
     "cell_type": "markdown",
     "metadata": {},
     "source": [
      "<h1>Chapter no 4: How Fluids flow<h1>"
     ]
    },
    {
     "cell_type": "markdown",
     "metadata": {},
     "source": [
      "<h3>Example 4.1, Page No 64 <h3>"
     ]
    },
    {
     "cell_type": "code",
     "collapsed": false,
     "input": [
      "\n",
      "#initialisation of variables\n",
      "a1=12.56       #Area(in^2)\n",
      "s1=24          #stroke(in^3)\n",
      "a2=3.14        #Area(in^2) displacement of ram\n",
      "s2=24          #stroke in^3\n",
      "Ve=0.785       #Extension volume in^3\n",
      "\n",
      "\n",
      "#CALCULATIONS\n",
      "Ve=a1*s1       #extension volume\n",
      "Vs=a2*s2       \n",
      "Vr=Ve-Vs       #Retraction volume\n",
      "Vt=Ve+Vr       #Total volume\n",
      "\n",
      "#RESULTS\n",
      "print('Displacement of the cylinder would be = %.2f in^3' %Vt)\n"
     ],
     "language": "python",
     "metadata": {},
     "outputs": [
      {
       "output_type": "stream",
       "stream": "stdout",
       "text": [
        "Displacement of the cylinder would be = 527.52 in^3\n"
       ]
      }
     ],
     "prompt_number": 1
    },
    {
     "cell_type": "markdown",
     "metadata": {},
     "source": [
      "<h3>Example 4.4, Page No 75 <h3>"
     ]
    },
    {
     "cell_type": "code",
     "collapsed": false,
     "input": [
      "\n",
      "#initialisation of variables\n",
      "A=0.785          #area\n",
      "Q=100            #gal/min flow rate\n",
      "D=1              #in diameter\n",
      "v=0.05           #viscocity Newts\n",
      "\n",
      "#CALCULATIONS\n",
      "V=Q/(A*3.12)    #velocity\n",
      "Nr=(12*V*D)/v   #reynolds number\n",
      "\n",
      "#RESULTS\n",
      "print('The velocity would be = %.2f lbf-ft' %V)\n",
      "print('The Reynolds number would be = %.2f Hence the flow is turbulent' %Nr)"
     ],
     "language": "python",
     "metadata": {},
     "outputs": [
      {
       "output_type": "stream",
       "stream": "stdout",
       "text": [
        "The velocity would be = 40.83 lbf-ft\n",
        "The Reynolds number would be = 9799.12 Hence the flow is turbulent\n"
       ]
      }
     ],
     "prompt_number": 1
    },
    {
     "cell_type": "markdown",
     "metadata": {},
     "source": [
      "<h3>Example 4.5, Page No 76 <h3>"
     ]
    },
    {
     "cell_type": "code",
     "collapsed": false,
     "input": [
      "\n",
      "\n",
      "#initialisation of variables\n",
      "Nr=4000         #reynolds number\n",
      "Nr2=2000        #reynolds number\n",
      "m=0.27          #P viscocity\n",
      "D=2.54          #cm diameter\n",
      "p=0.85          #pressure gm/cm^3\n",
      "m2=27           #cP viscocity\n",
      "D2=1            #in diameter\n",
      "#CALCULATIONS\n",
      "V=(Nr*m)/(D*p)    #velocity\n",
      "\n",
      "# for lower critical velocity\n",
      "V2=(Nr2*m)/(D*p)\n",
      "v=m2/p\n",
      "vn=0.001552*v\n",
      "vh=(Nr*vn)/(12*D2)\n",
      "vl=(Nr2*vn)/(12*D2)\n",
      "\n",
      "#RESULTS\n",
      "print('The velocity would be = %.2f cm/sec' %V)\n",
      "print('The lower velocity would be = %.2f cm/sec' %V2)\n",
      "print('Using reynolds formula the velocity would be = %.2f ft/sec' %vh)\n",
      "print('Using reynolds formula the lower velocity would be = %.2f ft/sec' %vl)"
     ],
     "language": "python",
     "metadata": {},
     "outputs": [
      {
       "output_type": "stream",
       "stream": "stdout",
       "text": [
        "The velocity would be = 500.23 cm/sec\n",
        "The lower velocity would be = 250.12 cm/sec\n",
        "using reynolds formula the velocity would be = 16.43 newts\n",
        "using reynolds formula the lower velocity would be = 8.22 cm/sec\n"
       ]
      }
     ],
     "prompt_number": 7
    }
   ],
   "metadata": {}
  }
 ]
}