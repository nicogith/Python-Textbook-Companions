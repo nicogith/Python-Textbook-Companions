{
 "metadata": {
  "name": "",
  "signature": "sha256:17c640dd0a4a95ba945b4c3f11eeafabec4d7eceacb7724326f3938cd4b8f643"
 },
 "nbformat": 3,
 "nbformat_minor": 0,
 "worksheets": [
  {
   "cells": [
    {
     "cell_type": "markdown",
     "metadata": {},
     "source": [
      "<h1> Chapter 8 : Hydraulic Cylinders and Cushioning Devices <h1>"
     ]
    },
    {
     "cell_type": "markdown",
     "metadata": {},
     "source": [
      "<h3> Example 8.1 Page No 172  <h3>"
     ]
    },
    {
     "cell_type": "code",
     "collapsed": false,
     "input": [
      "\n",
      "\n",
      "import math\n",
      "\n",
      "#Variable initialization\n",
      "F=80000.0               #lbs Force\n",
      "F2=355800.0             #N  Force\n",
      "P=1600.0                #lbf/in^2 Pressure\n",
      "P2=11.03*(1000000)      #N/m^2 Pressure\n",
      "\n",
      "#CALCULATIONS\n",
      "db=math.sqrt(4.0*F/(math.pi*P))\n",
      "#In SI units\n",
      "db2=math.sqrt((4.0*F2)/(math.pi*P2))\n",
      "db2=db2*100   # To convert it into cm\n",
      "#RESULTS\n",
      "print('\\n Size of the cylinder postion = %.3f in ' %db)\n",
      "print('\\n Using SI units size of the cylinder postion = %.1f cm ' %db2)"
     ],
     "language": "python",
     "metadata": {},
     "outputs": [
      {
       "output_type": "stream",
       "stream": "stdout",
       "text": [
        "\n",
        " Size of the cylinder postion = 7.979 in \n",
        "\n",
        " Size of the cylinder postion = 20.266 in \n",
        "\n",
        " Size of the cylinder postion = 11030000.000 in \n"
       ]
      }
     ],
     "prompt_number": 13
    },
    {
     "cell_type": "markdown",
     "metadata": {},
     "source": [
      "<h3>Example 8.2 Page No 173  <h3>"
     ]
    },
    {
     "cell_type": "code",
     "collapsed": false,
     "input": [
      "\n",
      "\n",
      "import math\n",
      "\n",
      "#Variable initialization\n",
      "Q=25.0                  #gpm flow rate\n",
      "A=0.533                 #in^2 area\n",
      "\n",
      "#Calculations\n",
      "nu=Q*19.25/(A*60.0)     #Fluid velocity\n",
      "nucylinder =Q*19.25/12.56   #Cylinder velocity\n",
      "\n",
      "#Results\n",
      "print('\\n Fluid velocity = %.3f ft/sec' %nu)\n",
      "print('\\n Cylinder velocity = %.3f ft/min' %nucylinder )"
     ],
     "language": "python",
     "metadata": {},
     "outputs": [
      {
       "output_type": "stream",
       "stream": "stdout",
       "text": [
        "\n",
        " Fluid velocity = 15.048 ft/sec\n",
        "\n",
        " Cylinder velocity = 38.316 ft/min\n"
       ]
      }
     ],
     "prompt_number": 14
    },
    {
     "cell_type": "markdown",
     "metadata": {},
     "source": [
      "<h3> Example 8.3 Page No 178  <h3>"
     ]
    },
    {
     "cell_type": "code",
     "collapsed": false,
     "input": [
      "\n",
      "import math\n",
      "\n",
      "#Variable initialization\n",
      "d=3.0        #in diameter\n",
      "P=2000.0    #lbf/in^2 pressure\n",
      "s=20.0      #stroke in\n",
      "\n",
      "#CALCULATIONS\n",
      "Cl=s*d/2.0            #corrected length\n",
      "F=P*math.pi*d**2/4.0  #thrust\n",
      "stl=(Cl-40.0)/10.0    #stop tube length\n",
      "  \n",
      "#RESULTS\n",
      "print('\\n Length of the stop tube= %.3f in ' %Cl)\n",
      "F=F+3\n",
      "print('\\n Thrust on the rod= %.3f lb ' %F)\n",
      "print('\\n Stop Tube length= %.3f stl ' %stl)"
     ],
     "language": "python",
     "metadata": {},
     "outputs": [
      {
       "output_type": "stream",
       "stream": "stdout",
       "text": [
        "\n",
        " Length of the stop tube= 30.000 in \n",
        "\n",
        " Thrust on the rod= 14140.167 lb \n",
        "\n",
        " Stop Tube length= -1.000 stl "
       ]
      }
     ],
     "prompt_number": 3
    },
    {
     "cell_type": "markdown",
     "metadata": {},
     "source": [
      "<h3> Example 8.4 Page No 182  <h3>"
     ]
    },
    {
     "cell_type": "code",
     "collapsed": false,
     "input": [
      "\n",
      "import math\n",
      "\n",
      "#Variable initialization\n",
      "v=120.0     #ft/min velocity\n",
      "S=1.5       #in distance\n",
      "w=8000.0    #lb wight\n",
      "\n",
      "#CALCULATIONS\n",
      "ga=v**2*0.0000517/S\n",
      "F=w*ga\n",
      "#RESULTS\n",
      "print(' Total force decessary to decelarate the load= %.3f lb ' %F)"
     ],
     "language": "python",
     "metadata": {},
     "outputs": [
      {
       "output_type": "stream",
       "stream": "stdout",
       "text": [
        " Total force decessary to decelarate the load= 3970.560 lb \n"
       ]
      }
     ],
     "prompt_number": 2
    },
    {
     "cell_type": "markdown",
     "metadata": {},
     "source": [
      "<h3> Example 8.5 Page No 184  <h3>"
     ]
    },
    {
     "cell_type": "code",
     "collapsed": false,
     "input": [
      "\n",
      "\n",
      "import math\n",
      "\n",
      "#Variable initialization\n",
      "P=750.0             #lbf/in^2 pressure\n",
      "d=3.0               #in distance\n",
      "w=1500.0            #lb weight\n",
      "ga=0.172            #Acceleration factor\n",
      "f=0.12              #Coefficient of fraction\n",
      "v=50                #ft/min velocity\n",
      "s=0.75              #in stroke\n",
      "\n",
      "#CALCULATIONS\n",
      "Fa=P*math.pi*d**2/4.0\n",
      "F=w*(ga-f)+Fa\n",
      "#RESULT\n",
      "print('\\n Total force decessary to decelarate the load= %.3f lb ' %F)"
     ],
     "language": "python",
     "metadata": {},
     "outputs": [
      {
       "output_type": "stream",
       "stream": "stdout",
       "text": [
        "\n",
        " Total force decessary to decelarate the load= 5379.438 lb \n"
       ]
      }
     ],
     "prompt_number": 3
    },
    {
     "cell_type": "markdown",
     "metadata": {},
     "source": [
      "<h3> Example 8.6 Page No 186  <h3>"
     ]
    },
    {
     "cell_type": "code",
     "collapsed": false,
     "input": [
      "\n",
      "\n",
      "import math\n",
      "\n",
      "#Variable initialization\n",
      "d=3.0               #in diameter\n",
      "d1=1.5              #in diameter\n",
      "F=7500.0            #lb force\n",
      "\n",
      "#CALCULATIONS\n",
      "A1=(math.pi/4.0)*(d**2-d1**2)\n",
      "P=F/A1\n",
      "#RESULT\n",
      "print(' Pressure in the cylinder = %.3f psi' %P)"
     ],
     "language": "python",
     "metadata": {},
     "outputs": [
      {
       "output_type": "stream",
       "stream": "stdout",
       "text": [
        " Pressure in the cylinder = 1413.711 psi"
       ]
      }
     ],
     "prompt_number": 6
    }
   ],
   "metadata": {}
  }
 ]
}