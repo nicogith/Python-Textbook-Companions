{
 "metadata": {
  "name": "",
  "signature": "sha256:27338db4766b4c1985ad23f02bae5de155caa330da171300335b58c2d2835845"
 },
 "nbformat": 3,
 "nbformat_minor": 0,
 "worksheets": [
  {
   "cells": [
    {
     "cell_type": "markdown",
     "metadata": {},
     "source": [
      "<h1> Chpater No 2: Basics of Hydraulics<h1>"
     ]
    },
    {
     "cell_type": "markdown",
     "metadata": {},
     "source": [
      "<h3>Example 2.1, Page No 23 <h3>"
     ]
    },
    {
     "cell_type": "code",
     "collapsed": false,
     "input": [
      "\n",
      "\n",
      "#initialisation of variables\n",
      "W=1000.0        #weight lbf\n",
      "D=1.25          #distance ft\n",
      "\n",
      "#CALCULATIONS\n",
      "Work=W*D\n",
      "#IN SI unit\n",
      "W=4448          #weight N\n",
      "D=0.381         #distance m\n",
      "Work1=W*D\n",
      "\n",
      "#RESULTS\n",
      "print('The work from the system would be = %.2f ft-lbf' %Work)\n",
      "print('The work from the system in SI unit would be = %.2f m-N' %Work1)\n"
     ],
     "language": "python",
     "metadata": {},
     "outputs": [
      {
       "output_type": "stream",
       "stream": "stdout",
       "text": [
        "The work from the system would be = 1250.00 ft-lbf\n",
        "The work from the system in SI unit would be = 1694.69 m-N\n"
       ]
      }
     ],
     "prompt_number": 1
    },
    {
     "cell_type": "markdown",
     "metadata": {},
     "source": [
      "<h3>Example 2.2, Page No 24 <h3>"
     ]
    },
    {
     "cell_type": "code",
     "collapsed": false,
     "input": [
      "\n",
      "\n",
      "#initialisation of variables\n",
      "F1=100.0        #Force lbf\n",
      "F2=2000.0       #Force lbf\n",
      "L2=12            #in\n",
      "\n",
      "#CALCULATIONS\n",
      "L11=L2*(F2/F1)\n",
      "#IN SI unit\n",
      "F1=444.8        #Force N\n",
      "F2=8896.0       #Force N\n",
      "L2=0.3048       #Force m\n",
      "L12=L2*(F2/F1)\n",
      "\n",
      "#RESULTS\n",
      "print('The pump piston have to travel = %.2f in' %L11)\n",
      "print('The pump piston have to travel = %.2f m' %L12)"
     ],
     "language": "python",
     "metadata": {},
     "outputs": [
      {
       "output_type": "stream",
       "stream": "stdout",
       "text": [
        "The pump piston have to travel = 240.00 in\n",
        "The pump piston have to travel = 6.10 m\n"
       ]
      }
     ],
     "prompt_number": 2
    },
    {
     "cell_type": "markdown",
     "metadata": {},
     "source": [
      "<h3>Example 2.3, Page No 25 <h3>"
     ]
    },
    {
     "cell_type": "code",
     "collapsed": false,
     "input": [
      "\n",
      "#initialisation of variables\n",
      "F1=150.0        #lbf Force\n",
      "A1=0.049        #in^2 area\n",
      "A2=0.785        #in^2 area\n",
      "\n",
      "#CALCULATIONS\n",
      "F21=F1*(A2/A1)\n",
      "#IN SI unit\n",
      "F1=667.2        #N(Force)\n",
      "A1=31.7        #mm^2(Area)\n",
      "A2=506.7      #mm^2(Area)\n",
      "F22=F1*(A2/A1)\n",
      "\n",
      "#RESULTS\n",
      "print('The weight lifted by a downward force = %.2f lbf' %F21)\n",
      "print('weight lifted by a downward force in SI unit = %.2f N' %F22)"
     ],
     "language": "python",
     "metadata": {},
     "outputs": [
      {
       "output_type": "stream",
       "stream": "stdout",
       "text": [
        "The weight lifted by a downward force = 2403.06 lbf\n",
        "weight lifted by a downward force in SI unit = 10664.68 N\n"
       ]
      }
     ],
     "prompt_number": 3
    },
    {
     "cell_type": "markdown",
     "metadata": {},
     "source": [
      "<h3>Example 2.4, Page No 27 <h3>"
     ]
    },
    {
     "cell_type": "code",
     "collapsed": false,
     "input": [
      "\n",
      "\n",
      "#initialisation of variables\n",
      "F =800.0        #lbf Force\n",
      "D=20            #ft distance\n",
      "t=20            #sec time\n",
      "C=550           #ft-lbf/sec\n",
      "\n",
      "#CALCULATIONS\n",
      "HP=(F*D)/(t*C)\n",
      "\n",
      "#RESULTS\n",
      "print('The Horse powe required is = %.2f HP' %HP)"
     ],
     "language": "python",
     "metadata": {},
     "outputs": [
      {
       "output_type": "stream",
       "stream": "stdout",
       "text": [
        "The Horse powe required is = 1.45 HP\n"
       ]
      }
     ],
     "prompt_number": 4
    },
    {
     "cell_type": "markdown",
     "metadata": {},
     "source": [
      "<h3>Example 2.5, Page No 27 <h3>"
     ]
    },
    {
     "cell_type": "code",
     "collapsed": false,
     "input": [
      "\n",
      "#initialisation of variables\n",
      "V1=2000.0        #watts voltage\n",
      "V2=746.0        #watts voltage\n",
      "\n",
      "#CALCULATIONS\n",
      "HP=V1/V2\n",
      "\n",
      "#RESULTS\n",
      "print('The Horse powe required is = %.2f HP' %HP)"
     ],
     "language": "python",
     "metadata": {},
     "outputs": [
      {
       "output_type": "stream",
       "stream": "stdout",
       "text": [
        "The Horse powe required is = 2.68 HP\n"
       ]
      }
     ],
     "prompt_number": 5
    },
    {
     "cell_type": "markdown",
     "metadata": {},
     "source": [
      "<h3>Example 2.6, Page No 28 <h3>"
     ]
    },
    {
     "cell_type": "code",
     "collapsed": false,
     "input": [
      "\n",
      "\n",
      "#initialisation of variables\n",
      "N=1200              #rev/min speed\n",
      "A=(3.14*((1.125*1.125)*5))/4 #Cross section of the bore in in^2\n",
      "L=1 # cylinder stroke (inch)\n",
      "#CALCULATIONS\n",
      "V=A*L\n",
      "Q=V*N/231\n",
      "\n",
      "#RESULTS\n",
      "print('The displacement would be = %.2f in^3/rev' %V)\n",
      "print('The flow rate would be = %.2f gal/min' %Q)"
     ],
     "language": "python",
     "metadata": {},
     "outputs": [
      {
       "output_type": "stream",
       "stream": "stdout",
       "text": [
        "The displacement would be = 4.97 in^3/rev\n",
        "The flow rate would be = 25.81 gal/min\n"
       ]
      }
     ],
     "prompt_number": 6
    },
    {
     "cell_type": "markdown",
     "metadata": {},
     "source": [
      "<h3>Example 2.7, Page No 31 <h3>"
     ]
    },
    {
     "cell_type": "code",
     "collapsed": false,
     "input": [
      "\n",
      "\n",
      "#initialisation of variables\n",
      "P1=2000.0          #lbf/in^2 pressure\n",
      "Q1=5              #gal/min flow rate\n",
      "P3=13793.0        #kPa   pressure\n",
      "Q3=18.9          #liters/min flow rate\n",
      "\n",
      "#CALCULATIONS\n",
      "Fhp1=P1*Q1/1714  #In English units\n",
      "Fhp2=(P1*4.448*1550*Q1*3.7851*0.001)/44760 #In SI unit\n",
      "Fhp3=P3*Q3/44760 #with technique 3\n",
      "\n",
      "\n",
      "#RESULTS\n",
      "print('Using technique 1 the horsepower transmitted by system would be = %.2f hp' %Fhp1)\n",
      "print('Using technique 1 the horsepower transmitted by system would be = %.2f hp' %Fhp2)\n",
      "print('Using technique 1 the horsepower transmitted by system would be = %.2f hp' %Fhp3)"
     ],
     "language": "python",
     "metadata": {},
     "outputs": [
      {
       "output_type": "stream",
       "stream": "stdout",
       "text": [
        "Using technique 1 the horsepower transmitted by system would be = 5.83 hp\n",
        "Using technique 1 the horsepower transmitted by system would be = 5.83 hp\n",
        "Using technique 1 the horsepower transmitted by system would be = 5.82 hp\n"
       ]
      }
     ],
     "prompt_number": 14
    },
    {
     "cell_type": "markdown",
     "metadata": {},
     "source": [
      "<h3>Example 2.8, Page No 35 <h3>"
     ]
    },
    {
     "cell_type": "code",
     "collapsed": false,
     "input": [
      "\n",
      "\n",
      "#initialisation of variables\n",
      "THP=5.83     # Horse power    \n",
      "pi=3.14     #Pi value\n",
      "N=500       #rev/min speed\n",
      "\n",
      "#CALCULATIONS\n",
      "T=(THP*33000)/(2*pi*N)\n",
      "\n",
      "#RESULTS\n",
      "print('The torque would be = %.2f lbf-ft' %T)"
     ],
     "language": "python",
     "metadata": {},
     "outputs": [
      {
       "output_type": "stream",
       "stream": "stdout",
       "text": [
        "The torque would be = 61.27 lbf-ft\n"
       ]
      }
     ],
     "prompt_number": 8
    },
    {
     "cell_type": "markdown",
     "metadata": {},
     "source": [
      "<h3>Example 2.9, Page No 35 <h3>"
     ]
    },
    {
     "cell_type": "code",
     "collapsed": false,
     "input": [
      "\n",
      "\n",
      "#initialisation of variables\n",
      "T=2000.0          #lbf-ft    torque\n",
      "N=20.0            #rev/min   speed\n",
      "P=2000          #lbf/in^2    pressure  \n",
      "\n",
      "#CALCULATIONS\n",
      "Q1=(1714*N*T)/(5252*P)\n",
      "Fhp1=(P1*Q1)/1714\n",
      "Q2=(44760*N*2712)/(7122*13793)\n",
      "Fhp2=(13793*Q2)/44760\n",
      "\n",
      "#RESULTS\n",
      "print('In English units the flow rate would be = %.2f gal/min' %Q1)\n",
      "print('In English units the Horsepower would be = %.2f hp' %Fhp1)\n",
      "print('In SI units the flow rate would be = %.2f lit/min' %Q2)\n",
      "print('In SI units the Horsepower would be = %.2f hp' %Fhp2)"
     ],
     "language": "python",
     "metadata": {},
     "outputs": [
      {
       "output_type": "stream",
       "stream": "stdout",
       "text": [
        "The flow rate would be = 6.53 gal/min\n",
        "The Horsepower would be = 7.62 hp\n",
        "The flow rate would be = 24.71 gal/min\n",
        "The Horsepower would be = 7.62 hp\n"
       ]
      }
     ],
     "prompt_number": 17
    },
    {
     "cell_type": "markdown",
     "metadata": {},
     "source": [
      "<h3>Example 2.10, Page No 36 <h3>"
     ]
    },
    {
     "cell_type": "code",
     "collapsed": false,
     "input": [
      "\n",
      "\n",
      "#initialisation of variables\n",
      "N=750.0          #rev/min   speed\n",
      "Q=5             #gal/min    flow rate\n",
      "P=1000          #lbf/in^2    pressure\n",
      "\n",
      "#CALCULATIONS\n",
      "T=(5252*P*Q)/(1714*N)\n",
      "\n",
      "#RESULTS\n",
      "print('The expected torque would be = %.2f lbf-ft' %T)"
     ],
     "language": "python",
     "metadata": {},
     "outputs": [
      {
       "output_type": "stream",
       "stream": "stdout",
       "text": [
        "The expected torque would be = 20.43 lbf-ft\n"
       ]
      }
     ],
     "prompt_number": 10
    }
   ],
   "metadata": {}
  }
 ]
}