{
 "metadata": {
  "name": "",
  "signature": "sha256:3d71fc1cf7c62e68f0f9134ed53e2d1461bd07ccc001344fd0d06803f2676584"
 },
 "nbformat": 3,
 "nbformat_minor": 0,
 "worksheets": [
  {
   "cells": [
    {
     "cell_type": "markdown",
     "metadata": {},
     "source": [
      "<h1> Chapter 10 : Valves  <h1>"
     ]
    },
    {
     "cell_type": "markdown",
     "metadata": {},
     "source": [
      "<h3> Example 10.1 Page No 225  <h3>"
     ]
    },
    {
     "cell_type": "code",
     "collapsed": false,
     "input": [
      "\n",
      "\n",
      "import math\n",
      "\n",
      "#Variable initialization\n",
      "Q=30.0              #gpm flow rate\n",
      "dp=300.0            #pressure drop lbf/in^2\n",
      "Sg=0.85             #density\n",
      "Cv=5.41             #Flow coefficient\n",
      "\n",
      "#CALCULATIONS\n",
      "Cv1=Q/(math.sqrt(dp/Sg))  \n",
      "dp1=Sg*Q**2/Cv**2\n",
      "\n",
      "#RESULTS\n",
      "print('\\n Flow coefficient = %.3f gpm ' %Cv1)\n",
      "print('\\n Pressure drop = %.3f psi ' %dp1)"
     ],
     "language": "python",
     "metadata": {},
     "outputs": [
      {
       "output_type": "stream",
       "stream": "stdout",
       "text": [
        "\n",
        " Flow coefficient = 1.597 gpm \n",
        "\n",
        " Pressure drop = 26.138 psi \n"
       ]
      }
     ],
     "prompt_number": 1
    }
   ],
   "metadata": {}
  }
 ]
}