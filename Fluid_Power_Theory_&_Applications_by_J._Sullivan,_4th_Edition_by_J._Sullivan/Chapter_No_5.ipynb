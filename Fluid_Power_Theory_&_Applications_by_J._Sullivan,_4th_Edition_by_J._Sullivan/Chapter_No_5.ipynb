{
 "metadata": {
  "name": "",
  "signature": "sha256:4f7ceb1a02c4aed051683602c2032c5c01a494cc7ebde0035eb0f03a6d976611"
 },
 "nbformat": 3,
 "nbformat_minor": 0,
 "worksheets": [
  {
   "cells": [
    {
     "cell_type": "markdown",
     "metadata": {},
     "source": [
      "<h3>Example 5.1, Page No 82 <h3>"
     ]
    },
    {
     "cell_type": "code",
     "collapsed": false,
     "input": [
      "import math\n",
      "\n",
      "\n",
      "#initialisation of variables\n",
      "Q=200       #gal/min flow rate\n",
      "A=3.14      #area in^2\n",
      "f=0.05      #friction factor\n",
      "g=32.2      #ft/sec^2\n",
      "L=800       #ft length\n",
      "Sg=0.91     #density\n",
      "\n",
      "#CALCULATIONS\n",
      "v=Q/(A*3.12)    #velocity of fluid\n",
      "D=(2*1.0)/12    #in\n",
      "hf=f*(L/D)*((v*v)/(2*g))  #head loss\n",
      "hps=0.433*Sg*hf\n",
      "\n",
      "#RESULTS\n",
      "print('The pressure drop is = %.2f lbf/in^2' %hps)\n",
      "\n"
     ],
     "language": "python",
     "metadata": {},
     "outputs": [
      {
       "output_type": "stream",
       "stream": "stdout",
       "text": [
        "The pressure drop is = 611.99 lbf/in^2\n"
       ]
      }
     ],
     "prompt_number": 1
    },
    {
     "cell_type": "markdown",
     "metadata": {},
     "source": [
      "<h3>Example 5.2, Page No 84 <h3>"
     ]
    },
    {
     "cell_type": "code",
     "collapsed": false,
     "input": [
      "import math\n",
      "\n",
      "Q=15        #gal/min\n",
      "A=0.785     #area\n",
      "D=1         #diameter in\n",
      "v1=0.08     #Viscocity Newts\n",
      "L=400       #Length ft\n",
      "g=32.2      #ft/sec^2\n",
      "Sg=0.85     #density\n",
      "\n",
      "#CALCULATIONS\n",
      "v=Q/(A*3.12)\n",
      "Nr=(12*v*D)/v1          #reynolds number\n",
      "hf=(32*v1*L*v)/(D*D*g)  #head drop\n",
      "hps=0.433*Sg*hf\n",
      "\n",
      "#RESULTS\n",
      "print('The pressure drop is = %.2f lbf/in^2' %hps)\n"
     ],
     "language": "python",
     "metadata": {},
     "outputs": [
      {
       "output_type": "stream",
       "stream": "stdout",
       "text": [
        "The pressure drop is = 71.68 lbf/in^2\n"
       ]
      }
     ],
     "prompt_number": 2
    },
    {
     "cell_type": "markdown",
     "metadata": {},
     "source": [
      "<h3>Example 5.3, Page No 87 <h3>"
     ]
    },
    {
     "cell_type": "code",
     "collapsed": false,
     "input": [
      "import math\n",
      "\n",
      "\n",
      "#initialisation of variables\n",
      "Q=600       #gal/min flow rate\n",
      "A=3.14      #area in^2\n",
      "f=0.040     #force in^2\n",
      "D=2         #diameter in\n",
      "v1=0.30     #Viscocity in^2sec\n",
      "L=500       #length ft\n",
      "g=32.2      #ft/sec^2\n",
      "Sg=0.85     #density\n",
      "\n",
      "#CALCULATIONS\n",
      "v=Q/(A*3.12)\n",
      "Nr=(12*v*D)/v1     #reynolds number\n",
      "D=(2*1.0)/12\n",
      "hf=f*(L/D)*((v*v)/(2*g))\n",
      "hps=0.433*Sg*hf     #Pressure drop\n",
      "\n",
      "#RESULTS\n",
      "print('The pressure drop is = %.2f lbf/in^2' %hps)\n"
     ],
     "language": "python",
     "metadata": {},
     "outputs": [
      {
       "output_type": "stream",
       "stream": "stdout",
       "text": [
        "The pressure drop is = 2572.39 lbf/in^2\n"
       ]
      }
     ],
     "prompt_number": 3
    },
    {
     "cell_type": "markdown",
     "metadata": {},
     "source": [
      "<h3>Example 5.4, Page No 90  <h3>"
     ]
    },
    {
     "cell_type": "code",
     "collapsed": false,
     "input": [
      "import math\n",
      "\n",
      "\n",
      "#initialisation of variables\n",
      "p=120       #pressure drop lbf/in^2\n",
      "Sg=0.85     #density\n",
      "Q=1000      #gal/min flow rate\n",
      "A=3.14      #area \n",
      "\n",
      "#CALCULATIONS\n",
      "Cd=(1/38.06)*(Q/A)*(math.sqrt(Sg/p))    #discharge coefficient\n",
      "\n",
      "#RESULTS\n",
      "print('The discharge coefficient is = %.2f ' %Cd)\n",
      "\n"
     ],
     "language": "python",
     "metadata": {},
     "outputs": [
      {
       "output_type": "stream",
       "stream": "stdout",
       "text": [
        "The discharge coefficient is = 0.70 \n"
       ]
      }
     ],
     "prompt_number": 4
    },
    {
     "cell_type": "markdown",
     "metadata": {},
     "source": [
      "<h3>Example 5.5, Page No 94 <h3>"
     ]
    },
    {
     "cell_type": "code",
     "collapsed": false,
     "input": [
      "import math\n",
      "\n",
      "#initialisation of variables\n",
      "Q=50        #gal/min flow rate\n",
      "A=0.785     #area\n",
      "D=1         #diameter in\n",
      "f=1         #\n",
      "v1=0.05     #Viscocity Newts\n",
      "L=500       #length ft\n",
      "g=32.2      #ft/sec^2\n",
      "Sg=0.91     #Density\n",
      "\n",
      "#CALCULATIONS\n",
      "v=Q/(A*3.12)    #velocity\n",
      "Nr=(12*v*D)/v1      #Reynolds\n",
      "temp=((v*v)/(2*g))\n",
      "hi=0.78*temp      #inward projection\n",
      "ho=1.0*temp      #Outward projection\n",
      "hg=10.0*temp      #Globe Valve\n",
      "he=4*0.90*temp    # 4 std 90 degree elbow\n",
      "hn=(3.0/4)*temp   #sudden enlargement\n",
      "hc=0.5*3.0/4*temp  #Sudden contraction\n",
      "hff=hi+ho+hg++he+hn+hc   #Total head loss\n",
      "hps=0.433*Sg*hff\n",
      "\n",
      "#RESULTS\n",
      "print('The pressure drop is = %.2f lbf/in^2' %hps)\n"
     ],
     "language": "python",
     "metadata": {},
     "outputs": [
      {
       "output_type": "stream",
       "stream": "stdout",
       "text": [
        "The pressure drop is = 42.09 lbf/in^2\n"
       ]
      }
     ],
     "prompt_number": 5
    },
    {
     "cell_type": "markdown",
     "metadata": {},
     "source": [
      "<h3>Example 5.6, Page No 96 <h3>"
     ]
    },
    {
     "cell_type": "code",
     "collapsed": false,
     "input": [
      "import math\n",
      "\n",
      "\n",
      "#initialisation of variables\n",
      "Q=150       #gal/min flow rate\n",
      "A=0.785     #area in^2\n",
      "D=1         #diameter in\n",
      "f=0.045     #\n",
      "v1=0.10     #Viscocity newts\n",
      "Sg=0.91     #density\n",
      "K=2.5\n",
      "\n",
      "#CALCULATIONS\n",
      "v=Q/(A*3.12)\n",
      "Nr=(12*v*D)/v1   # Reynolds number\n",
      "Le=(D*K)/(12*f)  #length\n",
      "\n",
      "#RESULTS\n",
      "print('The equivalent length is = %.2f ft' %Le)\n"
     ],
     "language": "python",
     "metadata": {},
     "outputs": [
      {
       "output_type": "stream",
       "stream": "stdout",
       "text": [
        "The equivalent length is = 4.63 ft\n"
       ]
      }
     ],
     "prompt_number": 6
    },
    {
     "cell_type": "markdown",
     "metadata": {},
     "source": [
      "<h3>Example 5.7, Page No 97 <h3>"
     ]
    },
    {
     "cell_type": "code",
     "collapsed": false,
     "input": [
      "import math\n",
      "\n",
      "#initialisation of variables\n",
      "Q=100        #gal/min flow rate\n",
      "A1=3.14      #area in^2\n",
      "A2=0.785     #area in^2\n",
      "D=2          #Diameter in         \n",
      "k=12.4       #K-factor\n",
      "g=32.2       #ft/sec^2\n",
      "L=134.58     #Length ft\n",
      "p=224.7      #Total pressure drop lbf/in^2\n",
      "Q=100        #gal/min flow rate\n",
      "L2=35.33     #ft length\n",
      "#CALCULATIONS\n",
      "v1=Q/(A1*3.12)           #velocity\n",
      "v2=Q/(A2*3.12)           #velocity\n",
      "v=0.001552*80            # kinematic viscosity from cSt to newts   \n",
      "Nr=(12*v1*D)/v           #Reynold number\n",
      "D1=1\n",
      "D2=1\n",
      "k2=20\n",
      "f2=0.05\n",
      "Nr2=(12*v2*D1)/v         #Reynold number\n",
      "f1=64/Nr\n",
      "Le=(D*k)/(12*f1)         #length\n",
      "hf=f1*((L*(v1*v1))/((2.0/12.0)*(2*g)))\n",
      "hsif=0.433*0.88*hf      #pressure loss\n",
      "Le2=(D2*k2)/(12*f2)\n",
      "hf2=f2*((L2*(v2*v2))/((1.0/12.0)*(2*g)))\n",
      "hsif2=0.433*0.88*hf2      #pressure loss\n",
      "pd=hsif+hsif2\n",
      "Fhp=(pd*Q)/1714\n",
      "#RESULTS\n",
      "print('The pressure drop is = %.2f lbf/in' %pd)\n",
      "print('The fluid horsepwer is = %.2f hp' %Fhp)\n"
     ],
     "language": "python",
     "metadata": {},
     "outputs": [
      {
       "output_type": "stream",
       "stream": "stdout",
       "text": [
        "The pressure drop is = 225.24 lbf/in\n",
        "The fluid horsepwer is = 13.14 hp\n"
       ]
      }
     ],
     "prompt_number": 1
    }
   ],
   "metadata": {}
  }
 ]
}