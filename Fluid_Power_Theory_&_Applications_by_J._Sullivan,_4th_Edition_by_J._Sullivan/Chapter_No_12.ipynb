{
 "metadata": {
  "name": "",
  "signature": "sha256:e47b17659a986113237b599864f0f5038d52353b8973503557033e3de92c3ae9"
 },
 "nbformat": 3,
 "nbformat_minor": 0,
 "worksheets": [
  {
   "cells": [
    {
     "cell_type": "markdown",
     "metadata": {},
     "source": [
      "<h1>Chapter 12 : System components <h1>"
     ]
    },
    {
     "cell_type": "markdown",
     "metadata": {},
     "source": [
      "<h3> Example 12.1 Page No 290  <h3>"
     ]
    },
    {
     "cell_type": "code",
     "collapsed": false,
     "input": [
      "\n",
      "import math\n",
      "\n",
      "#Variable initialization\n",
      "t=4.0               #hr time\n",
      "Ihp=8.0             #ihp power\n",
      "Ohp=5.0             #hp power\n",
      "\n",
      "#CALCULATIONS\n",
      "Hl=t*2544.0*(Ihp-Ohp)\n",
      "\n",
      "#RESULT\n",
      "print(' Total Btu heat loss over a period of 4 hr = %.3f Btu ' %Hl)"
     ],
     "language": "python",
     "metadata": {},
     "outputs": [
      {
       "output_type": "stream",
       "stream": "stdout",
       "text": [
        " Total Btu heat loss over a period of 4 hr = 30528.000 Btu "
       ]
      }
     ],
     "prompt_number": 1
    },
    {
     "cell_type": "markdown",
     "metadata": {},
     "source": [
      "<h3>  Example 12.2 Page No 292  <h3>"
     ]
    },
    {
     "cell_type": "code",
     "collapsed": false,
     "input": [
      "\n",
      "\n",
      "import math\n",
      "\n",
      "#Variable initialization\n",
      "t=1.0               #sec time\n",
      "P=1000.0            #lbf/in^2 pressure \n",
      "Q=3.0               #gpm flow rate\n",
      "Sg=0.85             # density\n",
      "s=0.42\n",
      "\n",
      "#CALCULATIONS\n",
      "H=42.4*((P*Q)/1714)     #Heat Generation Rate\n",
      "m=8.34*Q*Sg             #mass flow Rate\n",
      "Tr=H/(m*s)\n",
      "\n",
      "#RESULTS\n",
      "print(' Rise in temperature of the fluid = %.2f F' %Tr)"
     ],
     "language": "python",
     "metadata": {},
     "outputs": [
      {
       "output_type": "stream",
       "stream": "stdout",
       "text": [
        " Rise in temperature of the fluid = 8.31 F\n"
       ]
      }
     ],
     "prompt_number": 3
    },
    {
     "cell_type": "markdown",
     "metadata": {},
     "source": [
      "<h3> Example 12.3 Page No 296  <h3> "
     ]
    },
    {
     "cell_type": "code",
     "collapsed": false,
     "input": [
      "\n",
      "\n",
      "import math\n",
      "\n",
      "#Variable initialization\n",
      "P=1500.0            #lbf/in^2 pressure\n",
      "d=12.0              #in diameter\n",
      "V=50.0              #gal volume\n",
      "\n",
      "#CALCULATIONS\n",
      "F=P*(math.pi*d**2/4)\n",
      "S=V*231.0*4.0/(math.pi*d**2)\n",
      "\n",
      "#RESULTS\n",
      "print('Weight = %.3f lbf ' %F)\n",
      "print('\\n Stroke length = %.3f in ' %S)"
     ],
     "language": "python",
     "metadata": {},
     "outputs": [
      {
       "output_type": "stream",
       "stream": "stdout",
       "text": [
        "Weight = 169646.003 lb \n",
        "\n",
        " Stroke length = 102.124 in "
       ]
      }
     ],
     "prompt_number": 3
    },
    {
     "cell_type": "markdown",
     "metadata": {},
     "source": [
      "<h3> Example 12.4 Page No 298  <h3>"
     ]
    },
    {
     "cell_type": "code",
     "collapsed": false,
     "input": [
      "\n",
      "\n",
      "import math\n",
      "\n",
      "#Variable initialization\n",
      "P=1500.0          #lbf/in^2 pressure\n",
      "V=5.0             #gal volume\n",
      "P1=3000.0         #lbf/in^2 pressure\n",
      "P2=2000.0         #lbf/in^2 pressure\n",
      "\n",
      "#CALCULATIONS\n",
      "V2=V*231.0*(P2+14.7)/(P1-P2)\n",
      "V1=V2*(P1+14.7)/((P+14.7)*231.0)\n",
      "\n",
      "#RESULT\n",
      "print('\\n Size of accumulator = %.3f gal ' %V1)"
     ],
     "language": "python",
     "metadata": {},
     "outputs": [
      {
       "output_type": "stream",
       "stream": "stdout",
       "text": [
        "\n",
        " Size of accumulator = 20.049 gal "
       ]
      }
     ],
     "prompt_number": 4
    },
    {
     "cell_type": "markdown",
     "metadata": {},
     "source": [
      "<h3> Example 12.5 Page No 300  <h3>"
     ]
    },
    {
     "cell_type": "code",
     "collapsed": false,
     "input": [
      "\n",
      "\n",
      "import math\n",
      "\n",
      "#Variable initialization\n",
      "beta=1.4\n",
      "p3=2000.0+14.7          #non guage presure\n",
      "p2=3000.0+14.7          #non guage presure\n",
      "p1=1500.0+14.7          #non guage presure\n",
      "deltav=1155.0\n",
      "\n",
      "#Calculations\n",
      "v2=(p3/p2)**(1/beta)*(deltav)/(1-(p3/p2)**(1/beta))\n",
      "v1=v2*(p2/p1)**(1/beta)\n",
      "perdiff=(v1-4627.25)*100.0/v1\n",
      "\n",
      "#Results\n",
      "print(' Volume 2 = %.3f in^3' %v2)\n",
      "print(' \\n Volume 1 = %.3f in^3' %v1)\n",
      "print(' \\n Percentage difference in volume = %.3f percent' %perdiff )"
     ],
     "language": "python",
     "metadata": {},
     "outputs": [
      {
       "output_type": "stream",
       "stream": "stdout",
       "text": [
        " Volume 2 = 3462.278 in^3\n",
        " \n",
        " Volume 1 = 5660.756 in^3\n",
        " \n",
        " Percentage difference in volume = 18.257 percent\n"
       ]
      }
     ],
     "prompt_number": 1
    },
    {
     "cell_type": "markdown",
     "metadata": {},
     "source": [
      "<h3> Example 12.6 Page No 305  <h3>"
     ]
    },
    {
     "cell_type": "code",
     "collapsed": false,
     "input": [
      "\n",
      "\n",
      "import math\n",
      "\n",
      "#Variable initialization\n",
      "Fr=20.0             #gpm flowrate\n",
      "P=2500.0            #lbf/in^2 pressure\n",
      "sf=4.0              #safety factor\n",
      "Ts=55000.0          #lbf/in^2 pressure\n",
      "V=15.0              #ft/s velocity\n",
      "\n",
      "#CALCULATIONS\n",
      "A=Fr*0.3208/V\n",
      "ID=2.0*math.sqrt(A/math.pi)\n",
      "Wt=P*ID/(2*(Ts-P))\n",
      "Wt1=Wt*sf\n",
      "\n",
      "#RESULT\n",
      "print('Wall thcikness = %.3f in ' %Wt1)"
     ],
     "language": "python",
     "metadata": {},
     "outputs": [
      {
       "output_type": "stream",
       "stream": "stdout",
       "text": [
        "Wall thcikness = 0.070 in "
       ]
      }
     ],
     "prompt_number": 6
    }
   ],
   "metadata": {}
  }
 ]
}