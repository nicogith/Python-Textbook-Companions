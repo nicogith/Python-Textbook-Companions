{
 "metadata": {
  "name": "",
  "signature": "sha256:61d4ab1a97743a659c566a2eb33a4c42c8a0663679f30d0a243310539a4ede57"
 },
 "nbformat": 3,
 "nbformat_minor": 0,
 "worksheets": [
  {
   "cells": [
    {
     "cell_type": "markdown",
     "metadata": {},
     "source": [
      "<h1> Chapter No 11: Seals and packings <h1>"
     ]
    },
    {
     "cell_type": "markdown",
     "metadata": {},
     "source": [
      "<h3> Example 11.1, Page No 269  <h3>"
     ]
    },
    {
     "cell_type": "code",
     "collapsed": false,
     "input": [
      "\n",
      "\n",
      "#Variable initialization\n",
      "d=4.0              #in diameter\n",
      "p=20.0             #percent\n",
      "d1=0.140           #in cross section\n",
      "\n",
      "#CALCULATIONS\n",
      "Gd=d-2.0*((100.0 -20.0)*d1 /100.0)\n",
      "Gw=d1+2.0*(p*d1/100.0)\n",
      "\n",
      "#RESULTS\n",
      "print(' Groove diameter = %.3f in ' %Gd)\n",
      "print(' \\n Groove width = %.3f in ' %Gw)\n",
      "print('\\n outside diameter = %.3f in ' %d)"
     ],
     "language": "python",
     "metadata": {},
     "outputs": [
      {
       "output_type": "stream",
       "stream": "stdout",
       "text": [
        " Groove diameter = 3.776 in \n",
        " \n",
        " Groove width = 0.196 in \n",
        "\n",
        " outside diameter = 4.000 in "
       ]
      }
     ],
     "prompt_number": 1
    },
    {
     "cell_type": "markdown",
     "metadata": {},
     "source": [
      "<h3> Example 11.2 Page NO 272  <h3>"
     ]
    },
    {
     "cell_type": "code",
     "collapsed": false,
     "input": [
      "\n",
      "\n",
      "import math\n",
      "\n",
      "#Variable initialization\n",
      "D=2.0         #in diameter\n",
      "S=10.0        #in stroke\n",
      "s=10000.0     #stroke in\n",
      "V=231.0       #in^3 volume\n",
      "\n",
      "#CALCULATIONS\n",
      "di=(V/(S*s*D* math.pi))\n",
      "\n",
      "#RESULTS\n",
      "print(' Thickness= %.6f in ' %di)"
     ],
     "language": "python",
     "metadata": {},
     "outputs": [
      {
       "output_type": "stream",
       "stream": "stdout",
       "text": [
        " Thickness= 0.000368 in \n"
       ]
      }
     ],
     "prompt_number": 1
    },
    {
     "cell_type": "markdown",
     "metadata": {},
     "source": [
      "<h3> Example 11.3 Page No 277  <h3>"
     ]
    },
    {
     "cell_type": "code",
     "collapsed": false,
     "input": [
      "\n",
      "\n",
      "#Variable initialization\n",
      "d=0.275       #in diameter\n",
      "p=15.0        #initial squeeze percent\n",
      "p1=20.0       #increase in squeeze percent\n",
      "p3=8.0        #reduction in squeeze percent\n",
      "\n",
      "#CALCULATIONS\n",
      "Fs=(d*p/100.0)+(d*p1/100.0)-(d*p3 /100.0)\n",
      "Fs1= Fs *100.0/ d\n",
      "\n",
      "#RESULTS\n",
      "print('\\n final available squeeze = %.3f percent' %Fs1 )"
     ],
     "language": "python",
     "metadata": {},
     "outputs": [
      {
       "output_type": "stream",
       "stream": "stdout",
       "text": [
        "\n",
        " final available squeeze = 27.000 percent"
       ]
      }
     ],
     "prompt_number": 3
    }
   ],
   "metadata": {}
  }
 ]
}