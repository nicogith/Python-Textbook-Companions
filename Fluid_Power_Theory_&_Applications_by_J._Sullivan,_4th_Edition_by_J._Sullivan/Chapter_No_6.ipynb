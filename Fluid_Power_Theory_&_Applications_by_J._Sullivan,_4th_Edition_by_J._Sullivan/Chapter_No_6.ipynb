{
 "metadata": {
  "name": "",
  "signature": "sha256:2a45c36aaa47c05012e31744a57dc2decac5ab57032d2c7729bcf9fae98dd916"
 },
 "nbformat": 3,
 "nbformat_minor": 0,
 "worksheets": [
  {
   "cells": [
    {
     "cell_type": "markdown",
     "metadata": {},
     "source": [
      "<h1>Chapter No 6 :Hydraulic Fluids <h1>"
     ]
    },
    {
     "cell_type": "markdown",
     "metadata": {},
     "source": [
      "<h3>Example 6.2, Page No 115 <h3>"
     ]
    },
    {
     "cell_type": "code",
     "collapsed": false,
     "input": [
      "import math\n",
      "\n",
      "\n",
      "#initialisation of variables\n",
      "V1=1.0      #volume\n",
      "p2=2000     #pressure lbf/in^2\n",
      "p1=1000     #pressure lbf/in^2\n",
      "K=350000    #k factor lbf/in^2\n",
      "\n",
      "#CALCULATIONS\n",
      "dV=V1*(p2-p1)/K\n",
      "\n",
      "#RESULTS\n",
      "print('The fluid be expected compress is = %.4f ' %dV)\n"
     ],
     "language": "python",
     "metadata": {},
     "outputs": [
      {
       "output_type": "stream",
       "stream": "stdout",
       "text": [
        "The fluid be expected compress is = 0.0029 \n"
       ]
      }
     ],
     "prompt_number": 1
    },
    {
     "cell_type": "markdown",
     "metadata": {},
     "source": [
      "<h3>Example 6.3, Page No 127 <h3>"
     ]
    },
    {
     "cell_type": "code",
     "collapsed": false,
     "input": [
      "import math\n",
      "\n",
      "#CALCULATIONS\n",
      "m1=36815.0    #Particles count upstream\n",
      "m2=6347       #Particles count downstream\n",
      "b=m1/m2       #beta ratio\n",
      "\n",
      "#RESULTS\n",
      "print('The beta ratio = %.1f ' %b)\n"
     ],
     "language": "python",
     "metadata": {},
     "outputs": [
      {
       "output_type": "stream",
       "stream": "stdout",
       "text": [
        "The beta ratio = 5.8 \n"
       ]
      }
     ],
     "prompt_number": 1
    },
    {
     "cell_type": "markdown",
     "metadata": {},
     "source": [
      "<h3>Example 6.4, Page No 127 <h3>"
     ]
    },
    {
     "cell_type": "code",
     "collapsed": false,
     "input": [
      "import math\n",
      "\n",
      "\n",
      "#CALCULATIONS\n",
      "m1=36815.0     # Particles count upstream\n",
      "m2=6347        #Particles count downstream\n",
      "b=((m1-m2)/m1)*100    # Beta efficiency\n",
      "\n",
      "#RESULTS\n",
      "print('The beta efficiency = %.2f percent' %b)\n"
     ],
     "language": "python",
     "metadata": {},
     "outputs": [
      {
       "output_type": "stream",
       "stream": "stdout",
       "text": [
        "The beta efficiency = 82.76 percent\n"
       ]
      }
     ],
     "prompt_number": 2
    }
   ],
   "metadata": {}
  }
 ]
}