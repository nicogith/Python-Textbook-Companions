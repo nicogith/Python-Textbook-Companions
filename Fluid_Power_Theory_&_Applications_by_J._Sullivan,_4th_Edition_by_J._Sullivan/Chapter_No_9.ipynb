{
 "metadata": {
  "name": "",
  "signature": "sha256:fa3b77fb957b6452bc46163f22ab8db8630dd903dfdd45f948929785db1004f9"
 },
 "nbformat": 3,
 "nbformat_minor": 0,
 "worksheets": [
  {
   "cells": [
    {
     "cell_type": "markdown",
     "metadata": {},
     "source": [
      "<h1>Chapter No 9 : Hydraulic motors<h1>"
     ]
    },
    {
     "cell_type": "markdown",
     "metadata": {},
     "source": [
      "<h3> Example9.1 Page No 194   <h3>"
     ]
    },
    {
     "cell_type": "code",
     "collapsed": false,
     "input": [
      "\n",
      "\n",
      "import math\n",
      "\n",
      "#Variable initialization\n",
      "P=2000.0            #lbf/in^3 pressure\n",
      "Vm=0.5              #in^3  displacement\n",
      "\n",
      "#CALCULATONS\n",
      "T=P*Vm*0.16\n",
      "\n",
      "#RESULTS\n",
      "print('\\n Theotrical torque = %.3f lb-in ' %T)"
     ],
     "language": "python",
     "metadata": {},
     "outputs": [
      {
       "output_type": "stream",
       "stream": "stdout",
       "text": [
        " Groove diameter = 3.776 in \n",
        " \n",
        " Groove width = 0.196 in \n",
        "\n",
        " outside diameter = 4.000 in "
       ]
      }
     ],
     "prompt_number": 1
    },
    {
     "cell_type": "markdown",
     "metadata": {},
     "source": [
      "<h3> Example 9.2 Page No 194  <h3>"
     ]
    },
    {
     "cell_type": "code",
     "collapsed": false,
     "input": [
      "\n",
      "import math\n",
      "\n",
      "#Variable initialization\n",
      "Q=7.5        #gpm flow rate\n",
      "Q2=28.39     #l/min f;ow rate\n",
      "Vm=2         #in^3 displacement\n",
      "Vm2=0.03281  #l/rev displacement\n",
      "\n",
      "#CALCULATIONS\n",
      "N=231.0*Q/Vm    # Theotrical speed\n",
      "#SI units\n",
      "N2=(Q2/Vm2)     # in SI units Theotrical speed\n",
      "\n",
      "#RESULT\n",
      "print(' Theotrical speed of fluid power = %.3f rpm ' %N)\n",
      "print(' Using SI units Theotrical speed of fluid power = %.3f rev/min ' %N2)"
     ],
     "language": "python",
     "metadata": {},
     "outputs": [
      {
       "output_type": "stream",
       "stream": "stdout",
       "text": [
        " Theotrical speed of fluid power = 866.250 rpm \n",
        " Using SI units Theotrical speed of fluid power = 865.285 rev/min \n"
       ]
      }
     ],
     "prompt_number": 9
    },
    {
     "cell_type": "markdown",
     "metadata": {},
     "source": [
      "<h3> Example 9.3 Page No 195  <h3>"
     ]
    },
    {
     "cell_type": "code",
     "collapsed": false,
     "input": [
      "\n",
      "\n",
      "import math\n",
      "\n",
      "#Variable initialization\n",
      "Vm=0.55             #in^3 displacement\n",
      "N=3400.0            #rpm Theotrical speed\n",
      "\n",
      "#CALCULATIONS\n",
      "Q=Vm*N/231.0\n",
      "\n",
      "#RESULT\n",
      "print(' Effective flow rate = %.3f gpm ' %Q)"
     ],
     "language": "python",
     "metadata": {},
     "outputs": [
      {
       "output_type": "stream",
       "stream": "stdout",
       "text": [
        " Effective flow rate = 8.095 gpm \n"
       ]
      }
     ],
     "prompt_number": 1
    },
    {
     "cell_type": "markdown",
     "metadata": {},
     "source": [
      "<h3> Example 9.4 Page No 195  <h3>"
     ]
    },
    {
     "cell_type": "code",
     "collapsed": false,
     "input": [
      "\n",
      "\n",
      "import math\n",
      "\n",
      "#Variable initialization\n",
      "T=32.0              #lb_ft torque\n",
      "N=1200.0            #rpm Theotrical speed\n",
      "P=2000.0            #psi pressure lbf/in^2\n",
      "Q=7.5               #gpm flow rate\n",
      "\n",
      "#CALCULATIONS\n",
      "eo=T*N*100.0/(P*Q*3.06)\n",
      "\n",
      "#RESULT\n",
      "print(' Overall efficiency = %.3f percent ' %eo)"
     ],
     "language": "python",
     "metadata": {},
     "outputs": [
      {
       "output_type": "stream",
       "stream": "stdout",
       "text": [
        " Overall efficiency = 83.660 percent \n"
       ]
      }
     ],
     "prompt_number": 2
    },
    {
     "cell_type": "markdown",
     "metadata": {},
     "source": [
      "<h3> Example 9.5 Page No 196  <h3>"
     ]
    },
    {
     "cell_type": "code",
     "collapsed": false,
     "input": [
      "\n",
      "import math\n",
      "\n",
      "#Variable initialization\n",
      "Vm=0.6              #in^3 displacement\n",
      "N=2400              #rpm theotrical speed\n",
      "Qa=6.5              #gal/min flow rate\n",
      "Vm1=0.00981         #l/rev  displacement\n",
      "#CALCULATIONS\n",
      "ev=((Vm*N)/(Qa*231))*100\n",
      "#in SI units\n",
      "ev1=((Vm1*N)/(24.611))*100\n",
      "TFL=0.041*Qa                  # total fluid loss\n",
      "CDL=0.50*TFL                  #Case drain loss\n",
      "\n",
      "#RESULT\n",
      "print(' Total fluid loss = %.2f gal/min ' %TFL)\n",
      "print(' Case drain loss  = %.2f gal/min ' %CDL)\n",
      "print(' Volumetric efficiency = %.2f percent ' %ev)\n",
      "print(' Volumetric efficiency in SI units = %.2f percent ' %ev1)"
     ],
     "language": "python",
     "metadata": {},
     "outputs": [
      {
       "output_type": "stream",
       "stream": "stdout",
       "text": [
        " Total fluid loss = 0.27 gal/min \n",
        " Case drain loss  = 0.13 gal/min \n",
        " Volumetric efficiency = 95.90 percent \n",
        " Volumetric efficiency in SI units = 95.66 percent \n"
       ]
      }
     ],
     "prompt_number": 12
    },
    {
     "cell_type": "markdown",
     "metadata": {},
     "source": [
      "<h3> Example 9.6 Page No 197  <h3>"
     ]
    },
    {
     "cell_type": "code",
     "collapsed": false,
     "input": [
      "\n",
      "\n",
      "import math\n",
      "\n",
      "#Variable initialization\n",
      "eo=88.0          # Overall efficiency (%)\n",
      "ev=97            # Volumetric efficiency(%)\n",
      "\n",
      "#CALCULATIONS\n",
      "em=(eo/ev)*100\n",
      "\n",
      "#RESULT\n",
      "print(' Mechnical efficiency efficiency = %.3f percent ' %em)"
     ],
     "language": "python",
     "metadata": {},
     "outputs": [
      {
       "output_type": "stream",
       "stream": "stdout",
       "text": [
        " Mechnical efficiency efficiency = 90.722 percent \n"
       ]
      }
     ],
     "prompt_number": 2
    }
   ],
   "metadata": {}
  }
 ]
}