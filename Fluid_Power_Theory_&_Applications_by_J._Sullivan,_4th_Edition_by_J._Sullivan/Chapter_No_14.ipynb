{
 "metadata": {
  "name": "",
  "signature": "sha256:251fa751d76e0f33020a23b4f02af4b2cc97d384648ba729ca3ce134685988be"
 },
 "nbformat": 3,
 "nbformat_minor": 0,
 "worksheets": [
  {
   "cells": [
    {
     "cell_type": "markdown",
     "metadata": {},
     "source": [
      "<h1> Chapter No 14 :Troubleshooting Hydraulic systems<h1>"
     ]
    },
    {
     "cell_type": "markdown",
     "metadata": {},
     "source": [
      "<h3>Example 14.1 Page No 386 <h3>"
     ]
    },
    {
     "cell_type": "code",
     "collapsed": false,
     "input": [
      "import math\n",
      "\n",
      "\n",
      "#initialisation of variables\n",
      "p=1800      #lbf/in^2 pressure\n",
      "Vd=1.5      #in^3/rev displacement\n",
      "\n",
      "#CALCULATIONS\n",
      "T=0.013*p*Vd\n",
      "\n",
      "#RESULTS\n",
      "print('The breakway torque = %.2f lbf-ft' %T)\n"
     ],
     "language": "python",
     "metadata": {},
     "outputs": [
      {
       "output_type": "stream",
       "stream": "stdout",
       "text": [
        "The breakway torque = 35.10 percent\n"
       ]
      }
     ],
     "prompt_number": 1
    },
    {
     "cell_type": "markdown",
     "metadata": {},
     "source": [
      "<h3>Example 14.2, Page No 386 <h3>"
     ]
    },
    {
     "cell_type": "code",
     "collapsed": false,
     "input": [
      "import math\n",
      "\n",
      "\n",
      "#initialisation of variables\n",
      "T=80        #lbf-ft torque\n",
      "Vd=3.5      #in^3/rev displacement\n",
      "\n",
      "#CALCULATIONS\n",
      "P=(T/(0.013*Vd))*(1/0.75)\n",
      "\n",
      "#RESULTS\n",
      "print('The min pressure = %.2f lbf/in^2' %P)\n"
     ],
     "language": "python",
     "metadata": {},
     "outputs": [
      {
       "output_type": "stream",
       "stream": "stdout",
       "text": [
        "The min pressure = 2344.32 lbf/in^2\n"
       ]
      }
     ],
     "prompt_number": 2
    },
    {
     "cell_type": "markdown",
     "metadata": {},
     "source": [
      "<h3>Example 14.3, Page No 389 <h3>"
     ]
    },
    {
     "cell_type": "code",
     "collapsed": false,
     "input": [
      "import math\n",
      "\n",
      "\n",
      "#initialisation of variables\n",
      "N=1200        #rev/min theotrical power\n",
      "Vd=0.75      #in^3/rev displacement\n",
      "Vd2=0.57\n",
      "#CALCULATIONS\n",
      "# part a\n",
      "Q=(Vd*N)/231\n",
      "# part b\n",
      "Qa=Q-0.50\n",
      "N2=(231*Qa)/Vd2\n",
      "ev=(Qa/Q)*100\n",
      "#RESULTS\n",
      "print('The flow from the pump = %.2f lbf/in^2' %Qa)\n",
      "print('The actual speed of the motor = %.2f rev/min' %N2)\n",
      "print('The Volumetric efficiency of the system = %.2f percent' %ev)"
     ],
     "language": "python",
     "metadata": {},
     "outputs": [
      {
       "output_type": "stream",
       "stream": "stdout",
       "text": [
        "The flow from the pump = 3.40 lbf/in^2\n",
        "The actual speed of the motor = 1376.32 rev/min\n",
        "The Volumetric efficiency of the system = 87.17 percent\n"
       ]
      }
     ],
     "prompt_number": 4
    },
    {
     "cell_type": "markdown",
     "metadata": {},
     "source": [
      "<h3>Example 14.4, Page No 390 <h3>"
     ]
    },
    {
     "cell_type": "code",
     "collapsed": false,
     "input": [
      "\n",
      "#initialisation of variables\n",
      "Q=3.9        #gal/min flow rate\n",
      "Sg=0.87      # density\n",
      "Ac=4.9       #in^2 area\n",
      "\n",
      "#CALCULATIONS\n",
      "Qa=0.872*Q\n",
      "Vrod=Qa/(0.26*Ac)\n",
      "\n",
      "#RESULTS\n",
      "print('The Velocity = %.2f in/sec' %Vrod)\n"
     ],
     "language": "python",
     "metadata": {},
     "outputs": [
      {
       "output_type": "stream",
       "stream": "stdout",
       "text": [
        "The Velocity = 2.67 in/sec\n"
       ]
      }
     ],
     "prompt_number": 4
    },
    {
     "cell_type": "markdown",
     "metadata": {},
     "source": [
      "<h3>Example 14.5, Page No 390 <h3>"
     ]
    },
    {
     "cell_type": "code",
     "collapsed": false,
     "input": [
      "\n",
      "#initialisation of variables\n",
      "Q=10.0        #gal/min flow rate\n",
      "P=1500        #lbf/in^2 pressure\n",
      "\n",
      "#CALCULATIONS\n",
      "Fhp=((P*Q)/1714)*0.25\n",
      "A=Fhp/(0.001*75)\n",
      "\n",
      "#RESULTS\n",
      "print('The area is = %.2f ft^2' %A)\n"
     ],
     "language": "python",
     "metadata": {},
     "outputs": [
      {
       "output_type": "stream",
       "stream": "stdout",
       "text": [
        "The area is = 29.17 ft^2\n"
       ]
      }
     ],
     "prompt_number": 5
    },
    {
     "cell_type": "markdown",
     "metadata": {},
     "source": [
      "<h3>Example 14.6, Page No 391<h3>"
     ]
    },
    {
     "cell_type": "code",
     "collapsed": false,
     "input": [
      "\n",
      "#initialisation of variables\n",
      "A=15.0         #ft^2 area\n",
      "HP=0.25*5     # power\n",
      "\n",
      "#CALCULATIONS\n",
      "T=(HP/(0.001*A))+75\n",
      "\n",
      "#RESULTS\n",
      "print('The temparature is = %.2f F' %T)"
     ],
     "language": "python",
     "metadata": {},
     "outputs": [
      {
       "output_type": "stream",
       "stream": "stdout",
       "text": [
        "The temparature is = 158.33 F\n"
       ]
      }
     ],
     "prompt_number": 6
    },
    {
     "cell_type": "markdown",
     "metadata": {},
     "source": [
      "<h3>Example 14.7, Page No 392 <h3>"
     ]
    },
    {
     "cell_type": "code",
     "collapsed": false,
     "input": [
      "\n",
      "\n",
      "#initialisation of variables\n",
      "A=100        #ft^2 area\n",
      "T=40         #F  temperature   \n",
      "\n",
      "#CALCULATIONS\n",
      "q=2.545*A*T\n",
      "\n",
      "#RESULTS\n",
      "print('The heat that should be dissipated is = %.2f Btu/hr' %q)"
     ],
     "language": "python",
     "metadata": {},
     "outputs": [
      {
       "output_type": "stream",
       "stream": "stdout",
       "text": [
        "The heat that should be dissipated is = 10180.00 Btu/hr\n"
       ]
      }
     ],
     "prompt_number": 7
    }
   ],
   "metadata": {}
  }
 ]
}