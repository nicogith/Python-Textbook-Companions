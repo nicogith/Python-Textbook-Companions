{
 "metadata": {
  "name": ""
 },
 "nbformat": 3,
 "nbformat_minor": 0,
 "worksheets": [
  {
   "cells": [
    {
     "cell_type": "heading",
     "level": 1,
     "metadata": {},
     "source": [
      "Chapter 6: Signal Generators"
     ]
    },
    {
     "cell_type": "heading",
     "level": 3,
     "metadata": {},
     "source": [
      "Example 6.1 Page No 155"
     ]
    },
    {
     "cell_type": "code",
     "collapsed": false,
     "input": [
      "#Given\n",
      "R1 = 100*10**3 \n",
      "R2 = 86*10**3 \n",
      "Vsatp = 15.0\n",
      "Vsatm = -15.0      #Saturation voltages\n",
      "\n",
      "#calculation\n",
      "Vut = (R2 * Vsatp)/(R1 + R2)\n",
      "Vlt = (R2 * Vsatm)/(R1 + R2)\n",
      "\n",
      "#Result\n",
      "print\" Upper Threshold Voltage = \",round(Vut,0),\"V\"\n",
      "print\" Lower Threshold Voltage = \",round(Vlt,0),\"V\""
     ],
     "language": "python",
     "metadata": {},
     "outputs": [
      {
       "output_type": "stream",
       "stream": "stdout",
       "text": [
        " Upper Threshold Voltage =  7.0 V\n",
        " Lower Threshold Voltage =  -7.0 V\n"
       ]
      }
     ],
     "prompt_number": 2
    },
    {
     "cell_type": "heading",
     "level": 3,
     "metadata": {},
     "source": [
      "Example 6.2 Page No 155"
     ]
    },
    {
     "cell_type": "code",
     "collapsed": false,
     "input": [
      "#Given\n",
      "Rf = 100*10**3       #Feedback Resistance\n",
      "C = 0.1*10**-6 \n",
      "\n",
      "#calculation\n",
      "T = 2 * Rf * C\n",
      "\n",
      "#result\n",
      "print\" Period  \", T,\"s or \",T*1000,\"ms\""
     ],
     "language": "python",
     "metadata": {},
     "outputs": [
      {
       "output_type": "stream",
       "stream": "stdout",
       "text": [
        " Period   0.02 s or  20.0 ms\n"
       ]
      }
     ],
     "prompt_number": 3
    },
    {
     "cell_type": "heading",
     "level": 3,
     "metadata": {},
     "source": [
      "Example 6.3 Page No 155"
     ]
    },
    {
     "cell_type": "code",
     "collapsed": false,
     "input": [
      "#Given\n",
      "T = 20*10**-3   #Period \n",
      "\n",
      "#calculation\n",
      "f = 1 / T\n",
      "\n",
      "#Result\n",
      "print\" Frequency = \", f,\"Hz\""
     ],
     "language": "python",
     "metadata": {},
     "outputs": [
      {
       "output_type": "stream",
       "stream": "stdout",
       "text": [
        " Frequency =  50.0 Hz\n"
       ]
      }
     ],
     "prompt_number": 2
    },
    {
     "cell_type": "heading",
     "level": 3,
     "metadata": {},
     "source": [
      "Example 6.5 Page No 159"
     ]
    },
    {
     "cell_type": "code",
     "collapsed": false,
     "input": [
      "#Given\n",
      "Rf = 100*10**3 #Feedback Resistance\n",
      "C = 0.1*10**-6 \n",
      "\n",
      "#Calculation\n",
      "t = (Rf * C)/ 5.0 \n",
      "\n",
      "#Result\n",
      "print\" Duration of output pulse of one-shot = \", t ,\"sec  or\",t*1000,\"ms\""
     ],
     "language": "python",
     "metadata": {},
     "outputs": [
      {
       "output_type": "stream",
       "stream": "stdout",
       "text": [
        " Duration of output pulse of one-shot =  0.002 sec  or 2.0 ms\n"
       ]
      }
     ],
     "prompt_number": 5
    },
    {
     "cell_type": "heading",
     "level": 3,
     "metadata": {},
     "source": [
      "Example 6.6 Page No 162"
     ]
    },
    {
     "cell_type": "code",
     "collapsed": false,
     "input": [
      "#Given\n",
      "Vsatm = -13.8  \n",
      "Vut = 5.0      #Upper Threshold Voltage\n",
      "R = 10*10**3 \n",
      "f = 1000.0    #Frequency\n",
      "C = 0.05*10**-6 \n",
      "\n",
      "#calculation\n",
      "p = -Vsatm / Vut \n",
      "pR = round(p,1) * R \n",
      "Ri = p / (4*f*C) \n",
      "\n",
      "#Result\n",
      "print\" Value of p = \", p \n",
      "print\" Value of pR =\", pR/1000,\"kohm\"\n",
      "print\" Value of Ri = \", round(Ri/1000,0),\"kohm\"\n"
     ],
     "language": "python",
     "metadata": {},
     "outputs": [
      {
       "output_type": "stream",
       "stream": "stdout",
       "text": [
        " Value of p =  2.76\n",
        " Value of pR = 28.0 kohm\n",
        " Value of Ri =  14.0 kohm\n"
       ]
      }
     ],
     "prompt_number": 14
    },
    {
     "cell_type": "heading",
     "level": 3,
     "metadata": {},
     "source": [
      "Example 6.7 Page No 163"
     ]
    },
    {
     "cell_type": "code",
     "collapsed": false,
     "input": [
      "#Given\n",
      "p = 2.8 \n",
      "Vsatm = -13.8 \n",
      "Ri = 28*10**3 \n",
      "C = 0.05*10**-6\n",
      "\n",
      "#Calculation\n",
      "Vut = - ((Vsatm+0.6)/p)\n",
      "f = p / (2*Ri*C)\n",
      "\n",
      "#Result\n",
      "print\" Peak Voltage = \", round(Vut,2),\"V\"\n",
      "print\" frequency =  \", f ,\"Hz\""
     ],
     "language": "python",
     "metadata": {},
     "outputs": [
      {
       "output_type": "stream",
       "stream": "stdout",
       "text": [
        " Peak Voltage =  4.71 V\n",
        " frequency =   1000.0 Hz\n"
       ]
      }
     ],
     "prompt_number": 7
    },
    {
     "cell_type": "heading",
     "level": 3,
     "metadata": {},
     "source": [
      "Example 6.8 Page No  167"
     ]
    },
    {
     "cell_type": "code",
     "collapsed": false,
     "input": [
      "#Given\n",
      "#Checking Frequency value\n",
      "Ri = 10*10**3 \n",
      "Ci = 0.1*10**-6 \n",
      "Ei = 1.0 \n",
      "Vref = 10.0 \n",
      "\n",
      "#Calculation\n",
      "f = Ei / (Ri*Ci*Vref) \n",
      "\n",
      "#Result\n",
      "print\" Frequency is \", f,\"Hz\"\n",
      "\n"
     ],
     "language": "python",
     "metadata": {},
     "outputs": [
      {
       "output_type": "stream",
       "stream": "stdout",
       "text": [
        " Frequency is  100.0 Hz\n"
       ]
      }
     ],
     "prompt_number": 9
    },
    {
     "cell_type": "heading",
     "level": 3,
     "metadata": {},
     "source": [
      "Example 6.9 Page No 168"
     ]
    },
    {
     "cell_type": "code",
     "collapsed": false,
     "input": [
      "#Given\n",
      "Ri = 10*10**3   #Resistance\n",
      "Ci = 0.1*10**-6 \n",
      "Ei = 2.0 \n",
      "Vref = 2.0 \n",
      "\n",
      "#Calculation\n",
      "f = Ei / (Ri*Ci*Vref) \n",
      "\n",
      "#Result\n",
      "print \" New Frequency of oscillation is \", f/1000 ,\"KHz\"\n",
      "\n"
     ],
     "language": "python",
     "metadata": {},
     "outputs": [
      {
       "output_type": "stream",
       "stream": "stdout",
       "text": [
        " Frequency is   200.0 Hz. So It means Frequency is doubled.\n"
       ]
      }
     ],
     "prompt_number": 18
    },
    {
     "cell_type": "heading",
     "level": 3,
     "metadata": {},
     "source": [
      "Example 6.10 Page no 168"
     ]
    },
    {
     "cell_type": "code",
     "collapsed": false,
     "input": [
      "#Given\n",
      "Vref1 = 10.0 \n",
      "Vref2 = 5.0 \n",
      "\n",
      "\n",
      "#Calculation\n",
      "f1 =1000/Vref1\n",
      "f2 = 1000/Vref2 \n",
      "\n",
      "#Result\n",
      "print\"For Vref=10V, frequency is\",f1,\"Hz and For Vref=5V, frequency is\",f2,\"Hz\""
     ],
     "language": "python",
     "metadata": {},
     "outputs": [
      {
       "output_type": "stream",
       "stream": "stdout",
       "text": [
        "For Vref=10V, frequency is 100.0 Hz and For Vref=5V, frequency is 200.0 Hz\n"
       ]
      }
     ],
     "prompt_number": 31
    },
    {
     "cell_type": "heading",
     "level": 3,
     "metadata": {},
     "source": [
      "Example 6.11 Page no 172"
     ]
    },
    {
     "cell_type": "code",
     "collapsed": false,
     "input": [
      "#Given\n",
      "V=5    #Peak voltage\n",
      "f=1    #Khz frequency\n",
      "Vref=5 #V\n",
      "C=0.01*10**-6  #Capacitance\n",
      "\n",
      "#Calculation\n",
      "Ri=1/(4*f*1000*C)\n",
      "\n",
      "#Result\n",
      "print\"Value of Ri is\",Ri/1000,\"Kohm\"\n"
     ],
     "language": "python",
     "metadata": {},
     "outputs": [
      {
       "output_type": "stream",
       "stream": "stdout",
       "text": [
        "Value of Ri is 25.0 Kohm\n"
       ]
      }
     ],
     "prompt_number": 33
    },
    {
     "cell_type": "heading",
     "level": 3,
     "metadata": {},
     "source": [
      "Example 6.12 Page No 175"
     ]
    },
    {
     "cell_type": "code",
     "collapsed": false,
     "input": [
      "#Given\n",
      "Ei = 1.0 \n",
      "#Angle given in degree\n",
      "t1 = 45.0  \n",
      "t2 = 90.0\n",
      "t3 = 225.0\n",
      "t4 = 405.0\n",
      "\n",
      "#Calculation\n",
      "import math\n",
      "Vang1 = (20*10**-3)*t1 \n",
      "Vang2 = (20*10**-3)*t2 \n",
      "Vang3 = (20*10**-3)*t3 \n",
      "Vang4 = (20*10**-3)*t4\n",
      "Vo1 = Ei*math.sin(t1*3.14/180.0)\n",
      "Vo2 = Ei*math.sin(t2*3.14/180.0)\n",
      "Vo3 = Ei*math.sin(t3*3.14/180.0)\n",
      "Vo4 = Ei*math.sin(t4*3.14/180.0)\n",
      "\n",
      "#Result\n",
      "print\" Input Voltages are \", Vang1,\"V, \",Vang2,\"V ,\",Vang3,\"V,\",Vang4 , \"V\"\n",
      "print\" Output Voltages are  \", round(Vo1,3),\"V,\",round(Vo2,3),\"V,\",round(Vo3,3),\"V,\",round(Vo4,3),\"V\"\n"
     ],
     "language": "python",
     "metadata": {},
     "outputs": [
      {
       "output_type": "stream",
       "stream": "stdout",
       "text": [
        " Input Voltages are  0.9 V,  1.8 V , 4.5 V, 8.1 V\n",
        " Output Voltages are   0.707 V, 1.0 V, -0.706 V, 0.705 V\n"
       ]
      }
     ],
     "prompt_number": 1
    },
    {
     "cell_type": "heading",
     "level": 3,
     "metadata": {},
     "source": [
      "Example 6.13 Page No 178"
     ]
    },
    {
     "cell_type": "code",
     "collapsed": false,
     "input": [
      "#Given\n",
      "R1 = 10*10**3 \n",
      "R2 = 100*10**3 \n",
      "C = 0.025*10**-6\n",
      "\n",
      "#Calculation\n",
      "f1 = 1 / (4*R1*C) \n",
      "f2 = 1 / (4*R2*C) \n",
      "\n",
      "#Result\n",
      "print\" Frequency when Ri is 10KiloOhm is \" , f1/1000.0,\"KHz\"\n",
      "print\" Frequency when Ri is 100KiloOhm is \" , f2,\"Hz\"\n",
      " "
     ],
     "language": "python",
     "metadata": {},
     "outputs": [
      {
       "output_type": "stream",
       "stream": "stdout",
       "text": [
        " Frequency when Ri is 10KiloOhm is  1.0 KHz\n",
        " Frequency when Ri is 100KiloOhm is  100.0 Hz\n"
       ]
      }
     ],
     "prompt_number": 19
    }
   ],
   "metadata": {}
  }
 ]
}