{
 "metadata": {
  "name": ""
 },
 "nbformat": 3,
 "nbformat_minor": 0,
 "worksheets": [
  {
   "cells": [
    {
     "cell_type": "heading",
     "level": 1,
     "metadata": {},
     "source": [
      "Chapter 12:Modulating,Demodulating and frequency Changing with the multiplier"
     ]
    },
    {
     "cell_type": "heading",
     "level": 3,
     "metadata": {},
     "source": [
      "Example 12.1 Page No 332"
     ]
    },
    {
     "cell_type": "code",
     "collapsed": false,
     "input": [
      "#Given\n",
      "#(a)\n",
      "V=10.0\n",
      "x1=10              #Polarity combination of voltages\n",
      "y1=10              #V\n",
      "#(b)\n",
      "x2=-10             #V, 2nd combination\n",
      "y2=10              #V\n",
      "#(c)\n",
      "x3=10              #V\n",
      "y3=-10             #V\n",
      "#(d)\n",
      "x4=-10             #V\n",
      "y4=-10             #V\n",
      "\n",
      "\n",
      "#Calculation\n",
      "Vo1=x1*y1/V\n",
      "Vo2=x2*y2/V\n",
      "Vo3=x3*y3/V\n",
      "Vo4=x4*y4/V\n",
      "\n",
      "#Result\n",
      "print\"The values of Vo are\",Vo1,\"V ,\",Vo2,\"V ,\",Vo3,\"V ,\",Vo4,\"V\"\n"
     ],
     "language": "python",
     "metadata": {},
     "outputs": [
      {
       "output_type": "stream",
       "stream": "stdout",
       "text": [
        "The values of Vo are 10.0 V , -10.0 V , -10.0 V , 10.0 V\n"
       ]
      }
     ],
     "prompt_number": 4
    },
    {
     "cell_type": "heading",
     "level": 3,
     "metadata": {},
     "source": [
      "Example 12.2 Page No 334"
     ]
    },
    {
     "cell_type": "code",
     "collapsed": false,
     "input": [
      "#Given\n",
      "Ei1=10           #V\n",
      "Ei2=-10          #V\n",
      "\n",
      "#Calculation\n",
      "Vo1=Ei1**2/Ei1\n",
      "Vo2=Ei2**2/Ei1\n",
      "\n",
      "#Reult\n",
      "print\"(a)The value of Vo is\",Vo1,\"V\"\n",
      "print\"(b)The value of Vo is\",Vo2,\"V\"\n"
     ],
     "language": "python",
     "metadata": {},
     "outputs": [
      {
       "output_type": "stream",
       "stream": "stdout",
       "text": [
        "(a)The value of Vo is 10 V\n",
        "(b)The value of Vo is 10 V\n"
       ]
      }
     ],
     "prompt_number": 5
    },
    {
     "cell_type": "heading",
     "level": 3,
     "metadata": {},
     "source": [
      "Example 12.4 Page No 336"
     ]
    },
    {
     "cell_type": "code",
     "collapsed": false,
     "input": [
      "#Given\n",
      "Ei1=10          #V\n",
      "f1=1            #KHz\n",
      "Ei2=2           #V\n",
      "f1=2.5          #KHz\n",
      "\n",
      "#Calculation\n",
      "dcvalue=Ei1**2/20.0\n",
      "pac=Ei1**2/20.0\n",
      "\n",
      "\n",
      "#(b)\n",
      "dcvalue_=Ei2**2/20.0\n",
      "pac_=Ei2**2/20.0\n",
      "\n",
      "#Result\n",
      "print\"(a)The DC and AC output voltage are\",dcvalue,\"V,\",pac,\"V at 2 KHz\"\n",
      "print\"(b)The DC and AC output voltage are\",dcvalue_,\"V,\",pac_,\"V at 5 KHz\"\n"
     ],
     "language": "python",
     "metadata": {},
     "outputs": [
      {
       "output_type": "stream",
       "stream": "stdout",
       "text": [
        "(a)The DC and AC output voltage are 5.0 V, 5.0 V at 2 KHz\n",
        "(b)The DC and AC output voltage are 0.2 V, 0.2 V at 5 KHz\n"
       ]
      }
     ],
     "prompt_number": 6
    },
    {
     "cell_type": "heading",
     "level": 3,
     "metadata": {},
     "source": [
      "Example 12.5 Page No 339"
     ]
    },
    {
     "cell_type": "code",
     "collapsed": false,
     "input": [
      "#Given\n",
      "Exp=5         #V\n",
      "Eyp=5         #V\n",
      "Vodc=1.25     #DC component of Vo\n",
      "\n",
      "#calculation\n",
      "import math\n",
      "theta=math.acos(20*Vodc/(Exp*Eyp))\n",
      "\n",
      "#Result\n",
      "print\"The angle is\",theta,\"degree\"\n"
     ],
     "language": "python",
     "metadata": {},
     "outputs": [
      {
       "output_type": "stream",
       "stream": "stdout",
       "text": [
        "The angle is 0.0 degree\n"
       ]
      }
     ],
     "prompt_number": 1
    },
    {
     "cell_type": "heading",
     "level": 3,
     "metadata": {},
     "source": [
      "Example 12.6 Page No 339"
     ]
    },
    {
     "cell_type": "code",
     "collapsed": false,
     "input": [
      "#Given\n",
      "Vo=0          #AVerage value of DC component\n",
      "\n",
      "#calculation\n",
      "import math\n",
      "theta=math.acos(Vo)\n",
      "\n",
      "#Result\n",
      "print\"The angle  is\",round(theta*180/3.14,0),\"degree\"\n"
     ],
     "language": "python",
     "metadata": {},
     "outputs": [
      {
       "output_type": "stream",
       "stream": "stdout",
       "text": [
        "The angle  is 90.0 degree\n"
       ]
      }
     ],
     "prompt_number": 2
    },
    {
     "cell_type": "heading",
     "level": 3,
     "metadata": {},
     "source": [
      "Example 12.7 Page No 339"
     ]
    },
    {
     "cell_type": "code",
     "collapsed": false,
     "input": [
      "#Given\n",
      "theta1=30            #degree\n",
      "theta2=45            #degree\n",
      "theta3=60            #degree\n",
      "theta4=0             #Degree from example 12.5 \n",
      "theta5=90            #Degree from example 12.6\n",
      "\n",
      "#Calculation\n",
      "import math\n",
      "Vodc1=math.cos(theta1*3.14/180.0)\n",
      "Vodc2=math.cos(theta2*3.14/180.0)\n",
      "Vodc3=math.cos(theta3*3.14/180.0)\n",
      "Vodc4=math.cos(theta4*3.14/180.0)\n",
      "Vodc5=math.cos(theta5*3.14/180.0)\n",
      "\n",
      "\n",
      "#Result\n",
      "print\"The Output Dc voltages are\",round(Vodc1,3),\"V ,\",round(Vodc2,3),\"V ,\",round(Vodc3,3),\"V ,\",round(Vodc4,3),\"V ,\",round(Vodc5,3),\"V ,\"\n"
     ],
     "language": "python",
     "metadata": {},
     "outputs": [
      {
       "output_type": "stream",
       "stream": "stdout",
       "text": [
        "The Output Dc voltages are 0.866 V , 0.707 V , 0.5 V , 1.0 V , 0.001 V ,\n"
       ]
      }
     ],
     "prompt_number": 16
    },
    {
     "cell_type": "heading",
     "level": 3,
     "metadata": {},
     "source": [
      "Example 12.8 Page No 340"
     ]
    },
    {
     "cell_type": "code",
     "collapsed": false,
     "input": [
      "#GIven\n",
      "theta1=90             #degree\n",
      "theta2=120            #degree\n",
      "theta3=135            #degree\n",
      "theta4=150            #degree\n",
      "theta5=180            #degree\n",
      "\n",
      "#Calculation\n",
      "import math\n",
      "Vodc1=math.cos(theta1*3.14/180.0)\n",
      "Vodc2=math.cos(theta2)\n",
      "Vodc3=math.cos(theta3)\n",
      "Vodc4=math.cos(theta4)\n",
      "Vodc5=math.cos(theta5)\n",
      "\n",
      "#Result\n",
      "print\"The Voltages are\",round(Vodc1,3),\"V ,\",round(Vodc2,3),\"V \",round(Vodc3,3),\"V \",round(Vodc4,3),\"V \",round(Vodc5,3),\"V \"\n"
     ],
     "language": "python",
     "metadata": {},
     "outputs": [
      {
       "output_type": "stream",
       "stream": "stdout",
       "text": [
        "The Voltages are 0.001 V , 0.814 V  -0.996 V  0.699 V  -0.598 V \n"
       ]
      }
     ],
     "prompt_number": 3
    },
    {
     "cell_type": "heading",
     "level": 3,
     "metadata": {},
     "source": [
      "Example 12.10 Page No 349"
     ]
    },
    {
     "cell_type": "code",
     "collapsed": false,
     "input": [
      "#Given\n",
      "Ecp=5             #V, Voltage\n",
      "fc=10000          #Hz frequency\n",
      "Em=5              #V  peak voltage\n",
      "fm=1000           #Hz  frequency\n",
      "\n",
      "#Calculation\n",
      "Vc=Em*Ecp/(10.0)      #The carrier term peak voltage\n",
      "Vp=Vc                  #product term Peak voltage\n",
      "Vs=Em*Ecp/(20.0)        #The side term peak voltagec\n",
      "\n",
      "\n",
      "#Result\n",
      "print\"The carrier term peak voltage is\",Vc,\"V\"\n",
      "print\"The product term peak voltage is\",Vp,\"V\"\n",
      "print\"The side term peak voltage is\",Vs,\"V\"\n"
     ],
     "language": "python",
     "metadata": {},
     "outputs": [
      {
       "output_type": "stream",
       "stream": "stdout",
       "text": [
        "The carrier term peak voltage is 2.5 V\n",
        "The product term peak voltage is 2.5 V\n",
        "The side term peak voltage is 1.25 V\n"
       ]
      }
     ],
     "prompt_number": 27
    }
   ],
   "metadata": {}
  }
 ]
}