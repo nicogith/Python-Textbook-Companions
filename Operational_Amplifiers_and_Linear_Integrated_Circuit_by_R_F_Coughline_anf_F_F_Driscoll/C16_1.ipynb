{
 "metadata": {
  "name": ""
 },
 "nbformat": 3,
 "nbformat_minor": 0,
 "worksheets": [
  {
   "cells": [
    {
     "cell_type": "heading",
     "level": 1,
     "metadata": {},
     "source": [
      "Chapter 16:Power Supplies"
     ]
    },
    {
     "cell_type": "heading",
     "level": 3,
     "metadata": {},
     "source": [
      "Example 16.1 Page No 455"
     ]
    },
    {
     "cell_type": "code",
     "collapsed": false,
     "input": [
      "#Given\n",
      "#from fig. 16.1\n",
      "Erms=24       #V, rms voltage\n",
      "\n",
      "#Calculation\n",
      "Em=1.4*Erms\n",
      "\n",
      "#Result\n",
      "print\"The maximum instantaneous voltage is\",round(Em,0),\"V\"\n"
     ],
     "language": "python",
     "metadata": {},
     "outputs": [
      {
       "output_type": "stream",
       "stream": "stdout",
       "text": [
        "The maximum instantaneous voltage is 34.0 V\n"
       ]
      }
     ],
     "prompt_number": 1
    },
    {
     "cell_type": "heading",
     "level": 3,
     "metadata": {},
     "source": [
      "Example 16.2 Page No 460"
     ]
    },
    {
     "cell_type": "code",
     "collapsed": false,
     "input": [
      "#Given\n",
      "#From fig 16.4 and 16.5\n",
      "#at no load\n",
      "Ilnl=0         #A, load current\t\t\n",
      "Vdcnl=34\t#V\n",
      "Ilfl=1       #A, at full load\n",
      "Vdcfl=24    #V\t\n",
      "Il=0.5       \n",
      "\n",
      "#Calculation\n",
      "Ro=(Vdcnl-Vdcfl)/(Ilfl)\n",
      "Vdc=Vdcnl-Il*Ro\n",
      "\n",
      "#result\n",
      "print\"Th output resistance is\",Ro,\"ohm\"\n",
      "print\"The dc output voltage is\",Vdc,\"V\"\n"
     ],
     "language": "python",
     "metadata": {},
     "outputs": [
      {
       "output_type": "stream",
       "stream": "stdout",
       "text": [
        "Th output resistance is 10 ohm\n",
        "The dc output voltage is 29.0 V\n"
       ]
      }
     ],
     "prompt_number": 2
    },
    {
     "cell_type": "heading",
     "level": 3,
     "metadata": {},
     "source": [
      "Example 16.3 Page No 461"
     ]
    },
    {
     "cell_type": "code",
     "collapsed": false,
     "input": [
      "#GIven\n",
      "Vdcnl=34\t#V, at no load\n",
      "Ilfl=1          #A, at full load\n",
      "Vdcfl=24        #V, at full load\n",
      "\n",
      "#Calculation\n",
      "regu=(Vdcnl-Vdcfl)*100/Vdcfl\n",
      "\n",
      "#Result\n",
      "print\"Thepercent regulation is\",round(regu,1),\"percent\"\t\n"
     ],
     "language": "python",
     "metadata": {},
     "outputs": [
      {
       "output_type": "stream",
       "stream": "stdout",
       "text": [
        "Thepercent regulation is 41.0 percent\n"
       ]
      }
     ],
     "prompt_number": 4
    },
    {
     "cell_type": "heading",
     "level": 3,
     "metadata": {},
     "source": [
      "Example 16.4 Page No 463"
     ]
    },
    {
     "cell_type": "code",
     "collapsed": false,
     "input": [
      "#Given\n",
      "If=1           #A, full load current\n",
      "Vf=24          #V  full load voltage\n",
      "C=1000 \t\t#microF , capacitance\n",
      "\n",
      "#Calculation\n",
      "dvo=If/(200*C**10**-6)\n",
      "Vrms=dvo/(3.5)\n",
      "Vlmin=Vf-(round(dvo*1000,0)/2.0)\n",
      "\n",
      "#result\n",
      "print\"(a)peak to peak and rms value of ripple voltage is\",round(dvo*1000,0),\"V and\",round(Vrms*1000,2),\"V\"\n",
      "print\"(b) The minimum instanttaneous output voltage is\",Vlmin,\"V\"\n"
     ],
     "language": "python",
     "metadata": {},
     "outputs": [
      {
       "output_type": "stream",
       "stream": "stdout",
       "text": [
        "(a)peak to peak and rms value of ripple voltage is 5.0 V and 1.43 V\n",
        "(b) The minimum instanttaneous output voltage is 21.5 V\n"
       ]
      }
     ],
     "prompt_number": 7
    },
    {
     "cell_type": "heading",
     "level": 3,
     "metadata": {},
     "source": [
      "Example 16.5 Page No 463"
     ]
    },
    {
     "cell_type": "code",
     "collapsed": false,
     "input": [
      "#Given\n",
      "#from example 16.4\n",
      "Vf=24.0           #V\n",
      "Vrms=1.43        #V\n",
      "\n",
      "#Calculation\n",
      "ripple=Vrms/Vf*100\n",
      "\n",
      "#result\n",
      "print\"The percentage ripple is\",round(ripple,0),\"percent\"\n"
     ],
     "language": "python",
     "metadata": {},
     "outputs": [
      {
       "output_type": "stream",
       "stream": "stdout",
       "text": [
        "The percentage ripple is 6.0 percent\n"
       ]
      }
     ],
     "prompt_number": 9
    },
    {
     "cell_type": "heading",
     "level": 3,
     "metadata": {},
     "source": [
      "Example 16.6 Page No 464"
     ]
    },
    {
     "cell_type": "code",
     "collapsed": false,
     "input": [
      "#Given\n",
      "Vdcfl=12.0           #V, voltage\n",
      "Ilfl=1.0             #A  current\n",
      "ripp=10.0            #percent,  ripple\n",
      "Ro=10.0              #ohm,  guess value\n",
      "\n",
      "\n",
      "#calculation\n",
      "#DC design procedure\n",
      "#from  eq 16.3(a)\n",
      "Vdcnl=Vdcfl+Ilfl*Ro\n",
      "Em=Vdcnl\n",
      "Erms=Em/1.4\n",
      "#For a FWB rectifier\n",
      "Isec=1.8*Ilfl\n",
      "PIV=Vdcnl+(20/100.0)*Vdcnl\n",
      "\n",
      "#AC design procedure\n",
      "Vrms=(ripp/100.0)*Vdcfl\n",
      "dvo=3.5*Vrms         #From eq 16.5 (b)\n",
      "C=Ilfl/(200*dvo)\n",
      "WVDC=Vdcnl+(20/100.0)*Vdcnl\n",
      "\n",
      "#result\n",
      "print\" Transformer at :115V/18V at \",round(Isec,0),\"A\"\n",
      "print\"Four diodes :each 1 A at PIV\",PIV,\"V (or more)\"\n",
      "print\"THree capacitors: 500 muF connected in parallel,WVDC=\",WVDC,\"V (or more)\"\n"
     ],
     "language": "python",
     "metadata": {},
     "outputs": [
      {
       "output_type": "stream",
       "stream": "stdout",
       "text": [
        " Transformer at :115V/18V at  2.0 A\n",
        "Four diodes :each 1 A at PIV 26.4 V (or more)\n",
        "THree capacitors: 500 muF connected in parallel,WVDC= 26.4 V (or more)\n"
       ]
      }
     ],
     "prompt_number": 2
    },
    {
     "cell_type": "heading",
     "level": 3,
     "metadata": {},
     "source": [
      "Analysis Example 16.7 Page No 466"
     ]
    },
    {
     "cell_type": "code",
     "collapsed": false,
     "input": [
      "#Given\n",
      "Ro=7\t\t#ohm\n",
      "Ilfl=1\t\t#A, \n",
      "C=1000          #microF\n",
      "\n",
      "#Calculation\n",
      "Erms=1.8*Vrms\n",
      "Em=1.4*Erms\n",
      "Vdcnl=Em\n",
      "Vdcfl=Vdcnl-Ilfl*Ro\n",
      "reg=(Vdcnl-Vdcfl)*100/Vdcfl \n",
      "\n",
      "dvo=(Ilfl/200*C*10**-6)\n",
      "Vrms=dvo/3.5\n",
      "rip=Vrms*100/Vdcfl\n",
      "\n",
      "#Result\n",
      "print\"(a)Vdcfl is\",Vdcfl,\"V and percentag eregulation is\",round(reg,0)\n",
      "print\"(b)percentage ripple is\",round(rip,1)\n",
      "\n",
      "#Plot\n",
      "I=[0,5,10]\n",
      "VdcNL=[26,22,18.5]\n",
      "a1=plot(I,VdcNL)\n",
      "show(a1)\n",
      "\n",
      "t1=[0,16.7]\n",
      "Vdcnl=[26,26]\n",
      "t2=[0,2,8.34,10.34,16.7]\n",
      "Vdcfl=[16,21,16,21.5,16]\n",
      "a2=plot(t1,Vdcnl)\n",
      "a3=plot(t2,Vdcfl)\n",
      "show(a2)\n",
      "show(a3)\n"
     ],
     "language": "python",
     "metadata": {},
     "outputs": [
      {
       "output_type": "stream",
       "stream": "stdout",
       "text": [
        "(a)Vdcfl is -7.0 V and percentag eregulation is -100.0\n",
        "(b)percentage ripple is -0.0\n"
       ]
      },
      {
       "metadata": {},
       "output_type": "display_data",
       "png": "[encoded data removed]",
       "text": [
        "<matplotlib.figure.Figure at 0x75605c0>"
       ]
      },
      {
       "metadata": {},
       "output_type": "display_data",
       "png": "[encoded data removed]",
       "text": [
        "<matplotlib.figure.Figure at 0x7533ba8>"
       ]
      }
     ],
     "prompt_number": 16
    }
   ],
   "metadata": {}
  }
 ]
}