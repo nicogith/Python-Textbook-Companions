{
 "metadata": {
  "name": ""
 },
 "nbformat": 3,
 "nbformat_minor": 0,
 "worksheets": [
  {
   "cells": [
    {
     "cell_type": "heading",
     "level": 1,
     "metadata": {},
     "source": [
      "Chapter 7:Op Amps with diodes"
     ]
    },
    {
     "cell_type": "heading",
     "level": 3,
     "metadata": {},
     "source": [
      "Example 7.1 Page no 205"
     ]
    },
    {
     "cell_type": "code",
     "collapsed": false,
     "input": [
      "#Given\n",
      "V = 15.0       #V,Voltage\n",
      "mR = 30*10**3  #, ohm, Resistance \n",
      "R = 10*10**3    #ohm, 2nd resistor\n",
      "Ei = -10        #V, Voltage supply\n",
      "\n",
      "#calculation\n",
      "Vref = V / 3.0 \n",
      "Voa = -Ei-Vref  \n",
      "Vob = Ei / 2.0 \n",
      "\n",
      "#Result\n",
      "print\"Reference voltage is\",Vref,\"V\"\n",
      "print\"Values of Voa =\",Voa,\"V\",\"and Vob \", Vob,\"V\""
     ],
     "language": "python",
     "metadata": {},
     "outputs": [
      {
       "output_type": "stream",
       "stream": "stdout",
       "text": [
        "Reference voltage is 5.0 V\n",
        "Values of Voa = 5.0 V and Vob  -5.0 V\n"
       ]
      }
     ],
     "prompt_number": 4
    }
   ],
   "metadata": {}
  }
 ]
}