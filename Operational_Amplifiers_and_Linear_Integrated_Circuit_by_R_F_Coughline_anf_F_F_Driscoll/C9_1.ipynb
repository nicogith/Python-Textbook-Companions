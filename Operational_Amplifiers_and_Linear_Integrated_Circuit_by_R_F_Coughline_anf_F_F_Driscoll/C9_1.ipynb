{
 "metadata": {
  "name": ""
 },
 "nbformat": 3,
 "nbformat_minor": 0,
 "worksheets": [
  {
   "cells": [
    {
     "cell_type": "heading",
     "level": 1,
     "metadata": {},
     "source": [
      "Chapter 9:DC Performance :Bias,Offsets and Drift"
     ]
    },
    {
     "cell_type": "heading",
     "level": 3,
     "metadata": {},
     "source": [
      "Exampme 9.1 Page No. 256"
     ]
    },
    {
     "cell_type": "code",
     "collapsed": false,
     "input": [
      "#Given\n",
      "Ibplus=0.4       #MicroA\n",
      "Ibminus=0.3       #MicroA\n",
      "\n",
      "#calculation\n",
      "Ib=(Ibplus+Ibminus)/2.0\n",
      "Ios=Ibplus-Ibminus\n",
      "\n",
      "#Result\n",
      "print\"The average bias current is\",Ib,\"microA\"\n",
      "print\"The offset current is\",Ios,\"microA\"\n"
     ],
     "language": "python",
     "metadata": {},
     "outputs": [
      {
       "output_type": "stream",
       "stream": "stdout",
       "text": [
        "The average bias current is 0.35 microA\n",
        "The offset current is 0.1 microA\n"
       ]
      }
     ],
     "prompt_number": 1
    },
    {
     "cell_type": "heading",
     "level": 3,
     "metadata": {},
     "source": [
      "Exampme 9.2 Page No. 257"
     ]
    },
    {
     "cell_type": "code",
     "collapsed": false,
     "input": [
      "#Given\n",
      "Vo=0.4            #A\n",
      "Rf=1*10**6       #ohm\n",
      "\n",
      "#Calculation\n",
      "Ibminus=Vo/Rf\n",
      "\n",
      "#Result\n",
      "print\"The Ibminus is\",Ibminus*10**6,\"microA\"\n"
     ],
     "language": "python",
     "metadata": {},
     "outputs": [
      {
       "output_type": "stream",
       "stream": "stdout",
       "text": [
        "The Ibminus is 0.4 microA\n"
       ]
      }
     ],
     "prompt_number": 8
    },
    {
     "cell_type": "heading",
     "level": 3,
     "metadata": {},
     "source": [
      "Exampme 9.3 Page No.258"
     ]
    },
    {
     "cell_type": "code",
     "collapsed": false,
     "input": [
      "#Given\n",
      "Vo=-0.3            #A\n",
      "Rf=1*10**6       #ohm\n",
      "\n",
      "#Calculation\n",
      "Ibplus=-Vo/Rf\n",
      "\n",
      "\n",
      "#Result\n",
      "print\"The Ibplus is\",Ibplus*10**6,\"microA\"\n"
     ],
     "language": "python",
     "metadata": {},
     "outputs": [
      {
       "output_type": "stream",
       "stream": "stdout",
       "text": [
        "The Ibplus is 0.3 microA\n"
       ]
      }
     ],
     "prompt_number": 1
    },
    {
     "cell_type": "heading",
     "level": 3,
     "metadata": {},
     "source": [
      "Exampme 9.4 Page No. 260"
     ]
    },
    {
     "cell_type": "code",
     "collapsed": false,
     "input": [
      "#Given\n",
      "Rf=100.0      #kohm\n",
      "Ri1=10.0       #kohm\n",
      "Ri2=100.0      #kohm\n",
      "\n",
      "#Calculation\n",
      "R1=Rf*Ri1/(Rf+Ri1)\n",
      "R2=Rf*Ri2/(Rf+Ri2)\n",
      "\n",
      "#Result\n",
      "print\"(a) The value of resistance is\",round(R1,1),\"ohm\"\n",
      "print\"(b) The value of resistance is\",R2,\"ohm\"\n"
     ],
     "language": "python",
     "metadata": {},
     "outputs": [
      {
       "output_type": "stream",
       "stream": "stdout",
       "text": [
        "(a) The value of resistance is 9.1 ohm\n",
        "(b) The value of resistance is 50.0 ohm\n"
       ]
      }
     ],
     "prompt_number": 15
    },
    {
     "cell_type": "heading",
     "level": 3,
     "metadata": {},
     "source": [
      "Exampme 9.5 Page No. 262"
     ]
    },
    {
     "cell_type": "code",
     "collapsed": false,
     "input": [
      "#Given\n",
      "Vio=1      #mV\n",
      "Rf=1       #kohm\n",
      "Ri=10      #ohm\n",
      "\n",
      "#calculation\n",
      "Vo=(Vio+(Rf*1000/Ri)*Vio)\n",
      "\n",
      "#result\n",
      "print\"The value of Vo is\",Vo,\"mV\"\n"
     ],
     "language": "python",
     "metadata": {},
     "outputs": [
      {
       "output_type": "stream",
       "stream": "stdout",
       "text": [
        "The value of Vo is 101 mV\n"
       ]
      }
     ],
     "prompt_number": 16
    },
    {
     "cell_type": "heading",
     "level": 3,
     "metadata": {},
     "source": [
      "Exampme 9.6  Page No. 268"
     ]
    },
    {
     "cell_type": "code",
     "collapsed": false,
     "input": [
      "#Given\n",
      "T1=75.0           #Temprature ,C\n",
      "T2=25.0           #Temprature ,C\n",
      "Viomax=20.0       #microV, Voltage\n",
      "Ioschange=0.1   #nm\n",
      "Rf=10**6       #ohm\n",
      "Ri=10*10**3    #ohm\n",
      "\n",
      "#Calculation\n",
      "Vio=Viomax*(T1-T2)\n",
      "change=Vio*(1+Rf/Ri)\n",
      "Ioschange=Ioschange*(T1-T2)\n",
      "Vochange=Ioschange*Rf\n",
      "\n",
      "#Result\n",
      "print\"The change in Vo due to change in Vio is\",change/10**3,\"mV\"\n",
      "print\"The change in Vo due to change in Ios is\",Vochange/10**6,\"mV\"\n"
     ],
     "language": "python",
     "metadata": {},
     "outputs": [
      {
       "output_type": "stream",
       "stream": "stdout",
       "text": [
        "The change in Vo due to change in Vio is 101.0 mV\n",
        "The change in Vo due to change in Ios is 5.0 mV\n"
       ]
      }
     ],
     "prompt_number": 24
    },
    {
     "cell_type": "heading",
     "level": 3,
     "metadata": {},
     "source": [
      "Exampme 9.7 Page No. 270"
     ]
    },
    {
     "cell_type": "code",
     "collapsed": false,
     "input": [
      "#given\n",
      "Vo=0.421     #V,\n",
      "Vo1=0.097\n",
      "Vo2=-0.082\n",
      "Rf1=5000     #from fig 9-10(a)\n",
      "Ri=50\n",
      "Rf2=1.0        #Mohm fig 9-10 (b)\n",
      "\n",
      "#calculation\n",
      "Vio=Vo/(1+Rf1/Ri)\n",
      "Ibminus=(Vo1*1000-Vio*1000)/Rf2\n",
      "Ibplus=-(Vo2*1000-0.0041*1000)/Rf2\n",
      "\n",
      "#Result\n",
      "print\"The value of Vio is\",round(Vio*1000,1),\"mV\"\n",
      "print\"Ibminus is\",round(Ibminus,0),\"nA\"\n",
      "print\"Ibplus is\",round(Ibplus,0),\"nA\"\n",
      "print\"Ios calculated as\",round(Ibplus-Ibminus,0),\"nA\"\n"
     ],
     "language": "python",
     "metadata": {},
     "outputs": [
      {
       "output_type": "stream",
       "stream": "stdout",
       "text": [
        "The value of Vio is 4.2 mV\n",
        "Ibminus is 93.0 nA\n",
        "Ibplus is 86.0 nA\n",
        "Ios calculated as -7.0 nA\n"
       ]
      }
     ],
     "prompt_number": 40
    }
   ],
   "metadata": {}
  }
 ]
}