{
 "metadata": {
  "name": "ch6",
  "signature": "sha256:a29072d0985b8dbf41dbd6153642bf709b504655904069bc08292ea01d2d0ef9"
 },
 "nbformat": 3,
 "nbformat_minor": 0,
 "worksheets": [
  {
   "cells": [
    {
     "cell_type": "heading",
     "level": 1,
     "metadata": {},
     "source": [
      "Chapter 6 : Drying"
     ]
    },
    {
     "cell_type": "heading",
     "level": 3,
     "metadata": {},
     "source": [
      "Example 6.1 "
     ]
    },
    {
     "cell_type": "code",
     "collapsed": false,
     "input": [
      " \n",
      "\n",
      "H1=.005;                        #humidity of incoming air per kg of dry air\n",
      "T1=25.;                          #wet bulb temperature\n",
      "\n",
      "\n",
      "print \"\\n  the solid temp. correspond to wbt and they are 23, 27,32 and 34  degree respectively\"\n",
      "\n",
      "#part(ii)\n",
      "Ybar=.032;                 #kg water/kg dry air#final moist air condotions \n",
      "T2=42.;                    #dry bulb temperature\n",
      "Mair=28.84;               #molecular weight of air \n",
      "Mwater=18;                  #molecular weight of water\n",
      "pt=1.013*10**5;            #total pressure in pascal\n",
      "Vh=8315*((1/Mair)+(Ybar/Mwater))*((T2+273)/pt);\n",
      "r=300;                    #flow rate of moist air leaving the dryer\n",
      "a=r*60/Vh;               #amount of dry air leaving /hr\n",
      "w=a*(Ybar-0.005);         # water removed /hr\n",
      "\n",
      "# Result\n",
      "print \"\\n the water removed /hr is :%fkg /hr\"%w\n",
      "\n",
      "#end"
     ],
     "language": "python",
     "metadata": {},
     "outputs": [
      {
       "output_type": "stream",
       "stream": "stdout",
       "text": [
        "\n",
        "  the solid temp. correspond to wbt and they are 23, 27,32 and 34  degree respectively\n",
        "\n",
        " the water removed /hr is :515.648113kg /hr\n"
       ]
      }
     ],
     "prompt_number": 22
    },
    {
     "cell_type": "heading",
     "level": 3,
     "metadata": {},
     "source": [
      "Example 6.2 "
     ]
    },
    {
     "cell_type": "code",
     "collapsed": false,
     "input": [
      " \n",
      "%matplotlib inline\n",
      "            \n",
      "\n",
      "Ls=262.5;                   #mass of bone dry solid ais the drying surface\n",
      "A=262.5/8;                 #both upper surafce and lower surface are exposed\n",
      "Nc=0.3;                   #in kg/m**2*hr\n",
      "x2=.06;                  #moisture content on wet basis  finally after drying\n",
      "x1=.25;                 #moisture content on wet basis  finally after drying\n",
      "Xcr=0.20;              #crtical moisture content\n",
      "X1=x1/(1-x1);                     #moisture content on dry basis  intially\n",
      "X2=x2/(1-x2);                    #moisture content on dry basis  finally after drying\n",
      "Xbar=0.025;                     #equillibrium moisture \n",
      "\n",
      "# Calculation  \n",
      "t1=Ls/(A*Nc) *(X1-Xcr);       #so for constant rate period \n",
      "\n",
      "#for falling rate period we find time graphically\n",
      "p = [.20 ,.18, .16, .14, .12, .10, .09, .08, .07, .064];\n",
      "a = [3.3, 5.56, 6.25, 7.14, 8.32, 10.00, 11.11, 12.5, 14.29, 15.625];\n",
      "from matplotlib.pyplot import *\n",
      "\n",
      "# Result\n",
      "plot(p,a);\n",
      "title(\"Fig.6.18 Example2 1/N vs X for fallling rate period\");\n",
      "xlabel(\"X-- Moisture content, X(kg/kg)\");\n",
      "ylabel(\"Y-- 1/N, hr,m**2/kg\");\n",
      "\n",
      "Area=1.116;                #area under the curve\n",
      "t2=Area *Ls/A;            #falling rate period we find time graphically\n",
      "ttotal=t1+t2;            #total time for drying\n",
      "print \"\\n the total time for drying the wet slab on wet basis is :%f min\"%ttotal\n",
      "#end"
     ],
     "language": "python",
     "metadata": {},
     "outputs": [
      {
       "output_type": "stream",
       "stream": "stdout",
       "text": [
        "\n",
        "Welcome to pylab, a matplotlib-based Python environment [backend: module://IPython.zmq.pylab.backend_inline].\n",
        "For more information, type 'help(pylab)'.\n"
       ]
      },
      {
       "output_type": "stream",
       "stream": "stdout",
       "text": [
        "\n",
        " the total time for drying the wet slab on wet basis is :12.483556 min\n"
       ]
      },
      {
       "output_type": "display_data",
       "png": "[encoded data removed]"
      }
     ],
     "prompt_number": 1
    },
    {
     "cell_type": "heading",
     "level": 3,
     "metadata": {},
     "source": [
      "Example 6.3.a "
     ]
    },
    {
     "cell_type": "code",
     "collapsed": false,
     "input": [
      " \n",
      "#part(i)\n",
      "\n",
      "# Variable Declaration  \n",
      "p = [1.0,0.6,.44,0.4,.36,.224, 0.14];\n",
      "a = [5.0,5.0, 4.5, 4.0,  3.5,  2.00,  1.00];\n",
      "\n",
      "i=0;                            #looping for calc. of 1/N \n",
      "t = [0,0,0,0,0,0,0]\n",
      "\n",
      "# Calculation  \n",
      "while(i<7):                     #looping begins\n",
      "    t[i]=1./(a[i]);\n",
      "    i=i+1;\n",
      "\n",
      "from matplotlib.pyplot import *\n",
      "\n",
      "# Result\n",
      "plot(p,a);\n",
      "title(\"Fig.6.19(a) Example3  Drying Rate curve\");\n",
      "xlabel(\"X-- Moisture content, X(kg/kg) ---->\");\n",
      "ylabel(\"Y-- Drying Rate, N(kg/hr.m**2 ---->\");\n",
      "#xset('window',1);\n",
      "plot(p,t,\"o-\");\n",
      "title(\"Fig.6.19(b) Example3 1/N vs X\");\n",
      "xlabel(\"X-- Moisture content, X(kg/kg) --->\");\n",
      "ylabel(\"Y-- 1/N, hr,m**2/kg --->\");\n",
      "show()\n",
      "#from X=0.6 to 0.44 ,falling rate is non linear and from X=.44 to .14 falling rate is linear\n",
      "\n",
      "print \"\\n from the graph we get critical moisture content as 0.6 kg moisture/kg dry solid\"\n",
      "\n",
      "#end"
     ],
     "language": "python",
     "metadata": {},
     "outputs": [
      {
       "output_type": "display_data",
       "png": "[encoded data removed]"
      },
      {
       "output_type": "stream",
       "stream": "stdout",
       "text": [
        "\n",
        " from the graph we get critical moisture content as 0.6 kg moisture/kg dry solid\n"
       ]
      }
     ],
     "prompt_number": 2
    },
    {
     "cell_type": "heading",
     "level": 3,
     "metadata": {},
     "source": [
      "Example  6.3.b"
     ]
    },
    {
     "cell_type": "code",
     "collapsed": false,
     "input": [
      " \n",
      "# Variable Declaration  \n",
      "#part(ii)\n",
      "w1=5.;                           #wet of wet solid\n",
      "c1=.5/(1-.5);                   #moisture content per kg wet solid\n",
      "w2=5.*0.5;                       #moisture for 5kg wet solid\n",
      "w3=w1-w2;                       #weight of dry solid\n",
      "xbar=0.05;                      #equillibrium moisture content\n",
      "Xbar=xbar/(1-xbar);             #equillibrium moisture content\n",
      "Ls=2.5;                        #mass of bone dry solid ais the drying surface\n",
      "A=5.;                          #both upper surafce and lower surface are exposed\n",
      "Nc=0.6;                        #in kg/m**2*hr\n",
      "#from X=0.6 to 0.44 ,falling rate is non linear and from X=.44 to .14 falling rate is linear\n",
      "X2=.15/(1-.15);\n",
      "Xcr=.6;                      #kg moisture per kg dry solid\n",
      "#so we can find time fro drying from 0.6 to .44 graphically and then for X=.44 to .1765\n",
      "X1=1.;                      #moisture content on dry basis  intially\n",
      "\n",
      "# Calculation  \n",
      "t1=Ls/(A*Nc) *(X1-Xcr);        #time taken for constant drying rate(fromX=1 to .6)        \n",
      "X1=.44;                      #moisture content on dry basis\n",
      "import math\n",
      "t2=(Ls/(A*Nc))*((Xcr-Xbar)*math.log((X1-Xbar)/(X2-Xbar)));\n",
      "t3=0.0336*Ls/Nc;              #fro graph we get from X=.6 to .44\n",
      "ttotal=t1+t2+t3;                 #total time for drying the wet slab\n",
      "\n",
      "# Result\n",
      "print \"\\n the total time for drying the wet slab to 15 percent moisture on wet basis is :%f min\"%(ttotal*60)\n",
      "\n",
      "#end"
     ],
     "language": "python",
     "metadata": {},
     "outputs": [
      {
       "output_type": "stream",
       "stream": "stdout",
       "text": [
        "\n",
        " the total time for drying the wet slab to 15 percent moisture on wet basis is :59.610778 min\n"
       ]
      }
     ],
     "prompt_number": 24
    },
    {
     "cell_type": "heading",
     "level": 3,
     "metadata": {},
     "source": [
      "Example  6.4"
     ]
    },
    {
     "cell_type": "code",
     "collapsed": false,
     "input": [
      "\n",
      "#let Ls/A=p\n",
      "# Variable Declaration  \n",
      "p=48.;                   #mass of bone dry solid ais the drying surface\n",
      "v=1.5*1.5*.5;           #volume of material\n",
      "Nc=1.22;                #in kg/m**2*hr\n",
      "Xcr=0.2;                #crtical moisture content\n",
      "X1=0.25;              #moisture content on dry basis  intially\n",
      "X2=0.08;               #moisture content on dry basis  finally after drying\n",
      "Xbar=0.025;           #equillibrium moisture \n",
      "\n",
      "#tbar=(Ls/(A*Nc))*((Xcr-Xbar)*log((Xcr-Xbar)/(X2-Xbar)));\n",
      "# Calculation  \n",
      "t1=p/(Nc) * (X1-Xcr);    #time taken for constant drying rate period \n",
      "\n",
      "# equillibrium relation is given under\n",
      "p = [.18,.15,.14,.11,.07,.05];\n",
      "a = [.8772,1.11,1.25,1.7857,4.545,20];\n",
      "from matplotlib.pyplot import *\n",
      "\n",
      "# Result\n",
      "plot(p,a);\n",
      "title(\"Fig.6.20 Example4 1/N vs X for fallling rate period\");\n",
      "xlabel(\"X-- Moisture content, X(kg/kg) ---->\");\n",
      "ylabel(\"Y-- 1/N, hr,m**2/kg ---->\");\n",
      "\n",
      "a=14*.025*1;         #area under the curve\n",
      "t2=a*48;            #time taken for varying drying period\n",
      "ttotal=t1+t2;       #total time taken  \n",
      "print \"\\n total time for drying the material from 25 to 8 percent moisture under same drying conditions is :%f hr\"%(ttotal)\n",
      "\n",
      "#end"
     ],
     "language": "python",
     "metadata": {},
     "outputs": [
      {
       "output_type": "stream",
       "stream": "stdout",
       "text": [
        "\n",
        " total time for drying the material from 25 to 8 percent moisture under same drying conditions is :18.767213 hr\n"
       ]
      },
      {
       "output_type": "display_data",
       "png": "[encoded data removed]"
      }
     ],
     "prompt_number": 3
    },
    {
     "cell_type": "heading",
     "level": 3,
     "metadata": {},
     "source": [
      "Example 6.5.a"
     ]
    },
    {
     "cell_type": "code",
     "collapsed": false,
     "input": [
      " \n",
      "# Variable Declaration  \n",
      "w=[5.314,5.238,5.162,5.124,5.048,4.972,4.895,4.819,4.743,4.667,4.524,4.468,4.426,4.340,4.120]\n",
      "t=[0.0,0.4,0.8,1.0,1.4,1.8,2.2,2.6,3.0,3.4,4.2,4.6,5.0,6.0]\n",
      "#part(i)\n",
      "x=4.120;                            #weight of the dried material\n",
      "print \"\\n moisture content (dry basis) \"\n",
      "i=0;        \n",
      "p = []                        #looping starts\n",
      "\n",
      "# Calculation  \n",
      "while(i<15):                        #calculation of moisture content\n",
      "    p.append((w[i]-x)/x);\n",
      "    print \"\\n     :%f\"%p[i]\n",
      "    i=i+1;\n",
      "\n",
      "print \"Drying rate kg/hr*m**2\"\n",
      "i=1;\n",
      "a = []\n",
      "for i in range(15):\n",
      "    a.append(0)\n",
      "    \n",
      "while(i<14):\n",
      "     a[i] =((p[i-1]-p[i])*4.12/(t[i]-t[i-1]))\n",
      "     print \"  %f \"%a[i]\n",
      "     i=i+1;\n",
      "from matplotlib.pyplot import *\n",
      "a[0]=.19;\n",
      "a[14]=0;\n",
      "\n",
      "# Result\n",
      "print \"\\n\\n from the above data it is clear that  critical moisture content Xcr=0.11\"\n",
      "plot(p,a);\n",
      "title(\"Fig.6.19(a) Example3  Drying Rate curve\");\n",
      "xlabel(\"X-- Moisture content, X(kg/kg) ---->\");\n",
      "ylabel(\"Y-- Drying Rate, N(kg/hr.m**2 ---->\");\n",
      "show()\n",
      "#end"
     ],
     "language": "python",
     "metadata": {},
     "outputs": [
      {
       "output_type": "stream",
       "stream": "stdout",
       "text": [
        "\n",
        " moisture content (dry basis) \n",
        "\n",
        "     :0.289806\n",
        "\n",
        "     :0.271359\n",
        "\n",
        "     :0.252913\n",
        "\n",
        "     :0.243689\n",
        "\n",
        "     :0.225243\n",
        "\n",
        "     :0.206796\n",
        "\n",
        "     :0.188107\n",
        "\n",
        "     :0.169660\n",
        "\n",
        "     :0.151214\n",
        "\n",
        "     :0.132767\n",
        "\n",
        "     :0.098058\n",
        "\n",
        "     :0.084466\n",
        "\n",
        "     :0.074272\n",
        "\n",
        "     :0.053398\n",
        "\n",
        "     :0.000000\n",
        "Drying rate kg/hr*m**2\n",
        "\n",
        "\n",
        " from the above data it is clear that  critical moisture content Xcr=0.11\n"
       ]
      },
      {
       "output_type": "display_data",
       "png": "[encoded data removed]"
      }
     ],
     "prompt_number": 4
    },
    {
     "cell_type": "heading",
     "level": 3,
     "metadata": {},
     "source": [
      "Example 6.5.b "
     ]
    },
    {
     "cell_type": "code",
     "collapsed": false,
     "input": [
      " \n",
      "# Variable Declaration  \n",
      "#part(ii)\n",
      "w1=4.934;                    #weight after two hours\n",
      "w0=5.314;                   #initial weight \n",
      "w2=w0-w1;                  # water evaporated in 2 hrs\n",
      "H1=.01;                   #humidty of incoming air\n",
      "H2=.03;                  #humidity of leaving air\n",
      "yout=.03;\n",
      "yin=.01;\n",
      "\n",
      "# Calculation \n",
      "Gs=w2/(yout- yin);      #water carried away\n",
      "\n",
      " # Result\n",
      "print \"\\n the amount of air required in 2hours is :%f kg\"%Gs\n",
      "#end"
     ],
     "language": "python",
     "metadata": {},
     "outputs": [
      {
       "output_type": "stream",
       "stream": "stdout",
       "text": [
        "\n",
        " the amount of air required in 2hours is :19.000000 kg\n"
       ]
      }
     ],
     "prompt_number": 27
    },
    {
     "cell_type": "heading",
     "level": 3,
     "metadata": {},
     "source": [
      "Example 6.5.c "
     ]
    },
    {
     "cell_type": "code",
     "collapsed": false,
     "input": [
      " \n",
      "# Variable Declaration  \n",
      "#part(iii)\n",
      "#let us choose the consistency of 11 and 13 readings\n",
      "Xbar=0;                     #equillibrium moisture content\n",
      "Ls=4.12;                    #mass of bone dry solid ais the drying surface\n",
      "A=1.;                       #both upper surafce and lower surface are exposed\n",
      "Nc=0.19;                   #in kg/m**2*hr\n",
      "X1=.098;                   #moisture content on dry basis  intially\n",
      "Xcr=.11;                   #kg moisture per kg dry solid\n",
      "X2=0.074;                   #moisture content on dry basis  finally\n",
      "# Calculation  \n",
      "import math\n",
      "tfall=(Ls/(A*Nc))*((Xcr-Xbar)*math.log((X1-Xbar)/(X2-Xbar)));\n",
      "\n",
      "# Result\n",
      "print \"\\n from this data we get time as :%f hour\"%tfall\n",
      "print \"\\n the actual time is 0.8 hours\"\n",
      "#end"
     ],
     "language": "python",
     "metadata": {},
     "outputs": [
      {
       "output_type": "stream",
       "stream": "stdout",
       "text": [
        "\n",
        " from this data we get time as :0.670026 hour\n",
        "\n",
        " the actual time is 0.8 hours\n"
       ]
      }
     ],
     "prompt_number": 28
    },
    {
     "cell_type": "heading",
     "level": 3,
     "metadata": {},
     "source": [
      "Example 6.6"
     ]
    },
    {
     "cell_type": "code",
     "collapsed": false,
     "input": [
      " \n",
      "# Variable Declaration  \n",
      "Xcr=0.55;             #crtical moisture content\n",
      "X1=1;               #moisture content on dry basis intially\n",
      "X2=.1;              #moisture content on dry basis finally after drying\n",
      "Xbar=.06;            #equillibrium moisture \n",
      "#since eqn 1 is tobe divided by eqn 2 so let the value of Ls/A*Nc be = 1 as it will be cancelled \n",
      "p=1;                  #let Ls/A*Nc be =p\n",
      "#p=poly([0],'p');        #calc. of time 1\n",
      "tbar=1;                  #since the eqns are independent of tbar\n",
      "\n",
      "# Calculation  \n",
      "import math\n",
      "t1=0.5960514   #roots(tbar- p*((X1-Xcr)+(Xcr-Xbar)*math.log((Xcr-Xbar)/(X2-Xbar)))); #------eqn1\n",
      "X2bar=.16;    \n",
      "#p=poly([0],'p');        #calc. of time 2\n",
      "t2=0.8138516   #roots(tbar- p*((X1-Xcr)+(Xcr-Xbar)*math.log((Xcr-Xbar)/(X2bar-Xbar))));#------eqn2\n",
      "\n",
      "#let t1/t2 be = k\n",
      "k=t1/t2;\n",
      "ans=1./k-1;            #reduction in time for drying \n",
      "\n",
      "# Result\n",
      "print \"\\n the reduction in time for drying is :%f percent\"%(ans*100)\n",
      "#end"
     ],
     "language": "python",
     "metadata": {},
     "outputs": [
      {
       "output_type": "stream",
       "stream": "stdout",
       "text": [
        "\n",
        " the reduction in time for drying is :36.540506 percent\n"
       ]
      }
     ],
     "prompt_number": 29
    },
    {
     "cell_type": "heading",
     "level": 3,
     "metadata": {},
     "source": [
      "Example 6.7 "
     ]
    },
    {
     "cell_type": "code",
     "collapsed": false,
     "input": [
      " \n",
      "#Ls/ A*Nc is unknown;\n",
      "# Variable Declaration  \n",
      "Xcr=0.14;             #crtical moisture content\n",
      "X1=.3/(1-.3);         #moisture content on dry basis intially\n",
      "X2=0.1/(1-0.1);       #moisture content on dry basis finally after drying\n",
      "Xbar=.04;            #equillibrium moisture \n",
      "tbar=5;              #time needed to dry from 30 to 6 percent on bone dry basis\n",
      "\n",
      "#let Ls / A*Nc be = p\n",
      "#p=poly([0],'p');        #calc. of Ls / A*Nc be = p value\n",
      "# Calculation  and  Result\n",
      "x= 15.495992    #roots(tbar-p * ((X1-Xcr)+(Xcr-Xbar)*log((Xcr-Xbar)/(X2-Xbar))));\n",
      "print \"\\n the value of Ls/ A*Nc is :%f\"%x\n",
      "import math\n",
      "#new X1 AND X2 are now given as follows\n",
      "X1=0.3/(1-.3);              #new moisture content on dry basis intially\n",
      "X2=0.064;                 #new moisture content on dry basis finally after drying\n",
      "tbar=x * ((X1-Xcr)+(Xcr-Xbar)*math.log((Xcr-Xbar)/(X2-Xbar)));\n",
      "print \"\\n the time for drying the sheets from 30 to 6  percent moisture under same drying conditions is :%f hr\"%tbar\n",
      "\n",
      "#end"
     ],
     "language": "python",
     "metadata": {},
     "outputs": [
      {
       "output_type": "stream",
       "stream": "stdout",
       "text": [
        "\n",
        " the value of Ls/ A*Nc is :15.495992\n",
        "\n",
        " the time for drying the sheets from 30 to 6  percent moisture under same drying conditions is :6.683159 hr\n"
       ]
      }
     ],
     "prompt_number": 30
    },
    {
     "cell_type": "heading",
     "level": 3,
     "metadata": {},
     "source": [
      "Example 6.8.a"
     ]
    },
    {
     "cell_type": "code",
     "collapsed": false,
     "input": [
      " \n",
      "# Variable Declaration \n",
      "Ls=1000.;              #mass of bone dry solid ais the drying surface\n",
      "A=55.;                 #both upper surafce and lower surface are exposed\n",
      "v=.75;                #velocity of air\n",
      "Nc=.3*10**-3;          #in kg/m**2*s\n",
      "x2=.2;                #moisture content on wet basis  finally after drying\n",
      "Xcr=0.125;             #crtical moisture content\n",
      "X1=0.15;              #moisture content on dry basis  intially\n",
      "X2=0.025;             #moisture content on dry basis  finally after drying\n",
      "Xbar=0.0;        #equillibrium moisture \n",
      "import math\n",
      "\n",
      " # Calculation  \n",
      "tbar=(Ls/(A*Nc))*((X1-Xcr)+(Xcr-Xbar)*math.log((Xcr-Xbar)/(X2-Xbar)));\n",
      "\n",
      "# Result\n",
      "print \"the time for drying the sheets from .15 to .025 kg water /kg of dyr solid moisture under same drying conditions is :%f hour\"%(tbar/3600);\n",
      "\n",
      "#end"
     ],
     "language": "python",
     "metadata": {},
     "outputs": [
      {
       "output_type": "stream",
       "stream": "stdout",
       "text": [
        "the time for drying the sheets from .15 to .025 kg water /kg of dyr solid moisture under same drying conditions is :3.807740 hour\n"
       ]
      }
     ],
     "prompt_number": 31
    },
    {
     "cell_type": "heading",
     "level": 3,
     "metadata": {},
     "source": [
      "Example 6.8.b "
     ]
    },
    {
     "cell_type": "code",
     "collapsed": false,
     "input": [
      " \n",
      "# Variable Declaration  \n",
      "Ls=1000.;              #mass of bone dry solid ais the drying surface\n",
      "A=55.;                 #both upper surafce and lower surface are exposed\n",
      "v=.75;                #velocity of air\n",
      "Nc=.3*10**-3;          #in kg/m**2*s\n",
      "x2=.2;                #moisture content on wet basis  finally after drying\n",
      "Xcr=0.125;             #crtical moisture content\n",
      "X1=0.15;              #moisture content on dry basis  intially\n",
      "X2=0.025;             #moisture content on dry basis  finally after drying\n",
      "Xbar=0.0;        #equillibrium moisture \n",
      "tbar=3.8077;       #time to dry material ,calculated from previous part\n",
      "V1=.75;                #old velocity\n",
      "V2=4.;                  #new velocity\n",
      "import math\n",
      "\n",
      "# Calculation  \n",
      "Nc2=Nc*(V2/V1)**.71;    #in kg/m**2*s\n",
      "t2=(Ls/(A*Nc2))*((X1-Xcr)+(Xcr-Xbar)*math.log((Xcr-Xbar)/(X2-Xbar)));    #if air velocity is increased to 4\n",
      "t=tbar-t2/3600;            #time saved\n",
      "\n",
      "# Result\n",
      "print \"\\n the time saved , if air velocity is increased to 4 m/s: %f\"%t\n",
      "\n",
      "#end"
     ],
     "language": "python",
     "metadata": {},
     "outputs": [
      {
       "output_type": "stream",
       "stream": "stdout",
       "text": [
        "\n",
        " the time saved , if air velocity is increased to 4 m/s: 2.647593\n"
       ]
      }
     ],
     "prompt_number": 32
    },
    {
     "cell_type": "heading",
     "level": 3,
     "metadata": {},
     "source": [
      "Example 6.9 "
     ]
    },
    {
     "cell_type": "code",
     "collapsed": false,
     "input": [
      " \n",
      "x1=.75;                #moisture content on wet basis\n",
      "xbar=0.1;                #equilllibrium moisture on dry basis\n",
      "xcr=0.6;                #critical moisture content\n",
      "Ls=0.90;                #mass of bone dry solid ais the drying surface\n",
      "A=0.3*0.3*2;            #both upper surafce and lower surface are exposed\n",
      "#A*Nc=10**-4;\n",
      "x2=.2;                #moisture content on wet basis  finally after drying\n",
      "\n",
      "# Calculation  \n",
      "Xcr=0.6/0.4;          #crtical moisture content\n",
      "X1=3;                 #moisture content on dry basis  intially\n",
      "X2=0.25;              #moisture content on dry basis  finally after drying\n",
      "Xbar=0.1/0.9;        #equillibrium moisture \n",
      "import math\n",
      "tbar=Ls/(10**-4) * ((X1-Xcr)+(Xcr-Xbar)*math.log((Xcr-Xbar)/(X2-Xbar)));\n",
      "\n",
      "# Result            \n",
      "print \"\\n the time for drying the sheets from 75 to 25 percent moisture under same drying conditions is :%f hr\"%(tbar/3600);\n",
      "\n",
      "#end"
     ],
     "language": "python",
     "metadata": {},
     "outputs": [
      {
       "output_type": "stream",
       "stream": "stdout",
       "text": [
        "\n",
        " the time for drying the sheets from 75 to 25 percent moisture under same drying conditions is :11.745087 hr\n"
       ]
      }
     ],
     "prompt_number": 34
    },
    {
     "cell_type": "heading",
     "level": 3,
     "metadata": {},
     "source": [
      "Example 6.10 "
     ]
    },
    {
     "cell_type": "code",
     "collapsed": false,
     "input": [
      " \n",
      "# Variable Declaration  \n",
      "Xcr=0.16;             #crtical moisture content\n",
      "X1=.33;               #moisture content on dry basis intially\n",
      "X2=0.09;              #moisture content on dry basis finally after drying\n",
      "Xbar=.05;            #equillibrium moisture \n",
      "tbar=7;              #time needed to dry from 33 to 9 percent on bone dry basis\n",
      "import math\n",
      "#let Ls / A*Nc be = p\n",
      "#p=poly([0],'p');        #calc. of Ls / A*Nc be = p value\n",
      "# Calculation  \n",
      "x= 24.886579  #roots(tbar-p * ((X1-Xcr)+(Xcr-Xbar)*math.log((Xcr-Xbar)/(X2-Xbar))));\n",
      "\n",
      "#new X1 AND X2 are now given as follows\n",
      "X1=0.37;              #new moisture content on dry basis intially\n",
      "X2=0.07;               #new moisture content on dry basis finally after drying\n",
      "tbar=x * ((X1-Xcr)+(Xcr-Xbar)*math.log((Xcr-Xbar)/(X2-Xbar)));\n",
      "\n",
      "# Result\n",
      "print \"\\n the time for drying the sheets from 33 to 9  percent moisture under same drying conditions is :%f hr\"%tbar\n",
      "\n",
      "#end"
     ],
     "language": "python",
     "metadata": {},
     "outputs": [
      {
       "output_type": "stream",
       "stream": "stdout",
       "text": [
        "\n",
        " the time for drying the sheets from 33 to 9  percent moisture under same drying conditions is :9.892970 hr\n"
       ]
      }
     ],
     "prompt_number": 35
    },
    {
     "cell_type": "heading",
     "level": 3,
     "metadata": {},
     "source": [
      "Example 6.11 "
     ]
    },
    {
     "cell_type": "code",
     "collapsed": false,
     "input": [
      " \n",
      "# Variable Declaration  \n",
      "d=.22;                    #density of dry pulp in g/cc;\n",
      "x1=.65;                #moisture content on wet basis\n",
      "x2=.3;                #moisture content on wet basis\n",
      "Ls=2.5;                #mass of bone dry solid ais the drying surface in kg\n",
      "A=1.5*1.5*2;            #both upper surafce and lower surface are exposed\n",
      "v=1.5*1.5*.5;           #volume of material\n",
      "Nc=1.4;                 #in kg/m**2*hr\n",
      "Xcr=1.67;              #crtical moisture content\n",
      "# Calculation  \n",
      "X1=x1/(1-x1);                 #moisture content on dry basis  intially\n",
      "X2=x2/(1-x2);              #moisture content on dry basis  finally after drying\n",
      "Xbar=0.0;             #equillibrium moisture \n",
      "import math\n",
      "\n",
      "tbar=(Ls/(A*Nc))*((X1-Xcr)+(Xcr-Xbar)*math.log((Xcr-Xbar)/(X2-Xbar)));\n",
      "\n",
      "# Result\n",
      "print \"\\n the time for drying the sheets from 65 to 30 percent moisture under same drying conditions is :%f hour\"%tbar\n",
      "\n",
      "#end"
     ],
     "language": "python",
     "metadata": {},
     "outputs": [
      {
       "output_type": "stream",
       "stream": "stdout",
       "text": [
        "\n",
        " the time for drying the sheets from 65 to 30 percent moisture under same drying conditions is :0.975613 hour\n"
       ]
      }
     ],
     "prompt_number": 36
    },
    {
     "cell_type": "heading",
     "level": 3,
     "metadata": {},
     "source": [
      "Example 6.12"
     ]
    },
    {
     "cell_type": "code",
     "collapsed": false,
     "input": [
      "\n",
      "# Variable Declaration  \n",
      "d=.22;                    #density of dry pulp in g/cc;\n",
      "\n",
      "Ls=1.125*10**-2*.22*10**3;                #mass of bone dry solid ais the drying surface\n",
      "A=1.5*1.5*2;            #both upper surafce and lower surface are exposed\n",
      "v=1.5*1.5*.5;           #volume of material\n",
      "Nc=1.4;                #in kg/m**2*hr\n",
      "x2=.2;                #moisture content on wet basis  finally after drying\n",
      "Xcr=0.46;              #crtical moisture content\n",
      "X1=0.15;                 #moisture content on dry basis  intially\n",
      "X2=0.085;              #moisture content on dry basis  finally after drying\n",
      "Xbar=0.025;        #equillibrium moisture \n",
      "import math\n",
      "#tbar=(Ls/(A*Nc))*((Xcr-Xbar)*log((Xcr-Xbar)/(X2-Xbar)));\n",
      "\n",
      "\n",
      "# Calculation  \n",
      "tbar=(Ls/(A*Nc))*((Xcr-Xbar)*math.log((X1-Xbar)/(X2-Xbar)));\n",
      "\n",
      "# Result\n",
      "print \"\\n the time for drying the sheets from 15 to 8.5 percent moisture under same drying conditions is :%f min\"%(tbar*60)\n",
      "\n",
      "#end"
     ],
     "language": "python",
     "metadata": {},
     "outputs": [
      {
       "output_type": "stream",
       "stream": "stdout",
       "text": [
        "\n",
        " the time for drying the sheets from 15 to 8.5 percent moisture under same drying conditions is :7.525805 min\n"
       ]
      }
     ],
     "prompt_number": 37
    },
    {
     "cell_type": "heading",
     "level": 3,
     "metadata": {},
     "source": [
      "Example 6.13"
     ]
    },
    {
     "cell_type": "code",
     "collapsed": false,
     "input": [
      " \n",
      "# Variable Declaration  \n",
      "import math\n",
      "Xcr=0.14;             #crtical moisture content\n",
      "x1=0.3;                #moisture content on wet basis\n",
      "x2=0.1;                #moisture content on wet basis\n",
      "X1=x1/(1-x1);               #moisture content on dry basis intially\n",
      "X2=x2/(1-x2);              #moisture content on dry basis finally after drying\n",
      "Xbar=0.04;            #equillibrium moisture \n",
      "tbar=5;              #time needed to dry from 30 to 10 percent on bone dry basis\n",
      "\n",
      "    #let Ls / A*Nc be = p\n",
      "#p=poly([0],'p');        #calc. of Ls / A*Nc be = p value\n",
      "x= 15.495992 #roots(tbar-p * ((X1-Xcr)+(Xcr-Xbar)*math.log((Xcr-Xbar)/(X2-Xbar))));\n",
      "\n",
      "#new X1 AND X2 are now given as follows\n",
      "# Calculation  \n",
      "x1=.3;                #new moisture content on wet basis\n",
      "x2=0.06;                #new moisture content on wet basis\n",
      "X1=x1/(1-x1);              #new moisture content on dry basis intially\n",
      "X2=x2/(1-x2);              #new moisture content on dry basis finally after drying\n",
      "tbar=x * ((X1-Xcr)+(Xcr-Xbar)*math.log((Xcr-Xbar)/(X2-Xbar)));\n",
      "\n",
      "# Result\n",
      "print \"\\n the time for drying the sheets from 30 to 10  percent moisture under same drying conditions is :%f hr\"%tbar\n",
      "\n",
      "#end"
     ],
     "language": "python",
     "metadata": {},
     "outputs": [
      {
       "output_type": "stream",
       "stream": "stdout",
       "text": [
        "\n",
        " the time for drying the sheets from 30 to 10  percent moisture under same drying conditions is :6.694188 hr\n"
       ]
      }
     ],
     "prompt_number": 38
    },
    {
     "cell_type": "heading",
     "level": 3,
     "metadata": {},
     "source": [
      "Example 6.14"
     ]
    },
    {
     "cell_type": "code",
     "collapsed": false,
     "input": [
      " \n",
      "d=450.;                    #density of dry pulp in kg/m**3;\n",
      "thickness=0.05;           #thickness in m**2\n",
      "Ls=d*thickness;           #mass of bone dry solid ais the drying surface\n",
      "A=1.;                    #area in m**2\n",
      "v=1*5*10**-2;           #volume of material\n",
      "Nc=4.8;                #in kg/m**2*hr\n",
      "xcr=.2;\n",
      "xbar=0.02;\n",
      "x1=.45;                #new moisture content on wet basis\n",
      "x2=0.05;                #new moisture content on wet basis\n",
      "\n",
      "# Calculation  \n",
      "X1=x1/(1-x1);              #new moisture content on dry basis intially\n",
      "X2=x2/(1-x2);              #new moisture content on dry basis finally after drying\n",
      "Xbar=xbar/(1-xbar);              #crtical moisture content\n",
      "Xcr=xcr/(1-xcr);        #equillibrium moisture \n",
      "import math\n",
      "#tbar=(Ls/(A*Nc))*((Xcr-Xbar)*log((Xcr-Xbar)/(X2-Xbar)));\n",
      "\n",
      "tbar=Ls/(A*Nc) * ((X1-Xcr)+(Xcr-Xbar)*math.log((Xcr-Xbar)/(X2-Xbar)));\n",
      "\n",
      "# Result\n",
      "print \"\\n the time for drying the sheets from 45 to 5 percent moisture under same drying conditions is :%f min\"%tbar\n",
      "\n",
      "#end"
     ],
     "language": "python",
     "metadata": {},
     "outputs": [
      {
       "output_type": "stream",
       "stream": "stdout",
       "text": [
        "\n",
        " the time for drying the sheets from 45 to 5 percent moisture under same drying conditions is :4.776612 min\n"
       ]
      }
     ],
     "prompt_number": 39
    },
    {
     "cell_type": "heading",
     "level": 3,
     "metadata": {},
     "source": [
      "Example 6.15"
     ]
    },
    {
     "cell_type": "code",
     "collapsed": false,
     "input": [
      " \n",
      "# Variable Declaration  \n",
      "t1=20.;                   #ambient air temperature \n",
      "t2=70.;                   #exhaust air temperature \n",
      "r1=150.;                  #evaporation of water \n",
      "r2=.25;                 #outlet solid moisture content\n",
      "t3=15.;                #inlet solid temperature\n",
      "t4=65.;                  #outlet solid temperature\n",
      "p=5.;                   #power demand in KW\n",
      "h=18.;                  #heat loss in kj\n",
      "\n",
      "h1=1.;                    #mean specific heat of dry air in kj/kg*K\n",
      "h2=1.25;                    #mean specific heat of dry material in kj/kg*K\n",
      "h3=4.18;                    #mean specific heat of moisture in kj/kg*K\n",
      "e=2626.;                    #enthalpy of saturated water vapour in kj/kg\n",
      "\n",
      "# Calculation  \n",
      "            #basis is 1hr\n",
      "a1=r1*h3*(t4-t3);          #heat required for heating 150 kg of water from 15 to 65\n",
      "a2=r1*e;                   #heat required for 150 kg water evaporation\n",
      "a3=2000*h1*(t2-t1);        #heat required for heating air from 20 to 70 \n",
      "a4=r2*h3*(t4-t3);          #heat required for heating moisture from 15 to 65\n",
      "a5=120*h2*(t4-t3);         #heat required for heating dry solid from 15 to 65\n",
      "hlost=h*3600;             #heat lost in kj\n",
      "total=(a2+a3+a4+a5+hlost)/3600.;    #total heat lost \n",
      "\n",
      "# Result\n",
      "print \"\\n :%f  kW of heat required for 2000kg/hr of dry air\"%total\n",
      "ans1=a2+a1;            #heat needed for evaporation \n",
      "print \"\\n heat needed fro evaporation is :%f\"%(ans1/3600)\n",
      "ans2=(ans1/3600.)/total;    #fraction of this heat needed for evaporation\n",
      "print \"\\n fraction of this heat needed for evaporation:%f\"%(ans2)\n",
      " \n",
      "\n",
      "#end"
     ],
     "language": "python",
     "metadata": {},
     "outputs": [
      {
       "output_type": "stream",
       "stream": "stdout",
       "text": [
        "\n",
        " :157.292292  kW of heat required for 2000kg/hr of dry air\n",
        "\n",
        " heat needed fro evaporation is :118.125000\n",
        "\n",
        " fraction of this heat needed for evaporation:0.750990\n"
       ]
      }
     ],
     "prompt_number": 40
    },
    {
     "cell_type": "heading",
     "level": 3,
     "metadata": {},
     "source": [
      "Example 6.16"
     ]
    },
    {
     "cell_type": "code",
     "collapsed": false,
     "input": [
      " \n",
      "m1=.12;                    #initial moisture content\n",
      "dT=85.;                    #product of 85 degree is used in design purpose\n",
      "U=1700.;                   #overall heat transfer coefficient\n",
      "m2=.4;                    #final moisture content\n",
      "r=20.;                   #production rate\n",
      "    #4 kg of moisture is present in 100 kg product\n",
      "# Calculation  \n",
      "t=4*20./100;            # moisture content in 20 kg moisture\n",
      "w=20-t;                #dry solid weight\n",
      "i=w*m1/(1-m1);        #initial moisture content \n",
      "j=i-t                #water evaporated\n",
      "ds=2296.1;           #latent heat for vaporisation at 85 degree in kj/kg\n",
      "h=j*ds;                #heat required (assuming th esolid mix. enters at 85)\n",
      "#U*A*dT = j*ds\n",
      "A=h/(U*dT);            #surface area of the roller required to produce aproduction rate of 20 kg product per hour\n",
      "\n",
      "# Result    \n",
      "print \"\\n surface area of the roller required to produce aproduction rate of 20 kg product per hour:%f m**2\"%(A/3.600);\n",
      "\n",
      "#end"
     ],
     "language": "python",
     "metadata": {},
     "outputs": [
      {
       "output_type": "stream",
       "stream": "stdout",
       "text": [
        "\n",
        " surface area of the roller required to produce aproduction rate of 20 kg product per hour:0.008025 m**2\n"
       ]
      }
     ],
     "prompt_number": 41
    },
    {
     "cell_type": "heading",
     "level": 3,
     "metadata": {},
     "source": [
      "Example 6.17"
     ]
    },
    {
     "cell_type": "code",
     "collapsed": false,
     "input": [
      " \n",
      "\n",
      "# Variable Declaration  \n",
      "r=7.5*10**-5;                    #constant drying rate in kg/s\n",
      "A1=.3*.3**2;                    # area of the sppecimen\n",
      "Nc=r/A1;                        #drying rate\n",
      "# Calculation  \n",
      "Xcr=.15/0.85;                    #.15 is the critical moisture content\n",
      "Xo=.25/.75;                    #.25 is the initial moisture content\n",
      "Xfinal=.02/0.98;               #.02 is the final moisture content\n",
      "Xbar=0;                      #equillibrium moisture content\n",
      "A=1.2*.6*2;                 #area of the new solid\n",
      "Ls=28.8;                     #bone dry weight of new solid\n",
      "v1=.3*.3*.006;               #volume of the old solid;\n",
      "v2=.6*1.2*.012;              #volume of the new solid\n",
      "w2=1.8;                     #weight of the old solid\n",
      "w3=864*10**-5*1.8*10**-5/54;   #weight of the bone dry solid\n",
      "\n",
      "    #Nc is prporional to =(t-ts) = (G)**0.71---- whrere G is the mass flow rate\n",
      "v1=3.;                      #old velocity\n",
      "Tg=52.;                     #old dry bulb temperature\n",
      "Tw=21.;                     #wet bulb temperature\n",
      "H=.002;                    #humidity \n",
      "SH=0.015;                  #saturated humidity \n",
      "vnew=5.                    #new velocity\n",
      "Tgnew=66.;                 #new DBT\n",
      "Twnew=24.;                 #new WBT\n",
      "Hnew=.004;               #new humidity\n",
      "SH=.020;                #new satuurated humidity\n",
      "import math            \n",
      "#hence drying rate of air under new condition\n",
      "Nc=4.167*10**-4*((vnew/v1)*(273+Tg)/(273+Tgnew))**0.71 * ((.019-H)/(.015-H));#drying rate of air under new condition in kg/m**2*s \n",
      "DT=Ls/(A*Nc) * ((Xo-Xcr)+(Xcr-Xbar)*math.log((Xcr-Xbar)/(Xfinal-Xbar)));\n",
      "\n",
      "# Result\n",
      "print \"\\n the time for drying the sheets from 25 to 2 percent moisture under same drying conditions is :%f hours\"%(DT/3600)\n",
      "\n",
      "\n",
      "#end"
     ],
     "language": "python",
     "metadata": {},
     "outputs": [
      {
       "output_type": "stream",
       "stream": "stdout",
       "text": [
        "\n",
        " the time for drying the sheets from 25 to 2 percent moisture under same drying conditions is :3.929236 hours\n"
       ]
      }
     ],
     "prompt_number": 42
    }
   ],
   "metadata": {}
  }
 ]
}