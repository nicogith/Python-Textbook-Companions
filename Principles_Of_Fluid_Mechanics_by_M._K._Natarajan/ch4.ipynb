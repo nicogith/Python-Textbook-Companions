{
 "metadata": {
  "name": "",
  "signature": "sha256:4641f495fb637b43843e8fcd55506866f439259b641b4627c67482beed84d471"
 },
 "nbformat": 3,
 "nbformat_minor": 0,
 "worksheets": [
  {
   "cells": [
    {
     "cell_type": "heading",
     "level": 1,
     "metadata": {},
     "source": [
      "Chapter 4 : Conservation Principle of Momentum"
     ]
    },
    {
     "cell_type": "heading",
     "level": 2,
     "metadata": {},
     "source": [
      "Example 4.1 Page No : 111"
     ]
    },
    {
     "cell_type": "code",
     "collapsed": false,
     "input": [
      "import math \n",
      "\t\t\t\n",
      "#Initialization of variables\n",
      "Q = 0.2 \t\t\t#m**3/s\n",
      "v = 30. \t\t\t#m/s\n",
      "angle = 120. \t\t\t#degrees\n",
      "rho = 1000. \t\t\t#kg/m**3\n",
      "\t\t\t\n",
      "#calculations\n",
      "Rx = rho*Q*(v-v*math.cos(math.radians(angle)))\n",
      "Ry = rho*Q*v*math.sin(math.radians(angle))\n",
      "R = math.sqrt(Rx**2 +Ry**2)\n",
      "\t\t\t\n",
      "#results\n",
      "print \"Resultant force  =  %.2f kN\"%(R/1000)"
     ],
     "language": "python",
     "metadata": {},
     "outputs": [
      {
       "output_type": "stream",
       "stream": "stdout",
       "text": [
        "Resultant force  =  10.39 kN\n"
       ]
      }
     ],
     "prompt_number": 1
    },
    {
     "cell_type": "heading",
     "level": 2,
     "metadata": {},
     "source": [
      "Example 4.3 Page No : 112"
     ]
    },
    {
     "cell_type": "code",
     "collapsed": false,
     "input": [
      "import math \n",
      "\t\t\t\n",
      "#Initialization of variables\n",
      "angle  = 45. \t\t#degrees\n",
      "p1 = 150.*10**3 \t#pressure at inlet - N/m**2\n",
      "Q = 0.5 \t\t\t#rate of flow - m**3/s\n",
      "d1 = 60. \t\t\t#cm\n",
      "d2 = 30. \t\t\t#cm\n",
      "rho = 1000. \t\t#kg/m**3\n",
      "g = 9.81 \t\t\t#m/s**2\n",
      "\t\t\t\n",
      "#calculations\n",
      "V1 = Q/(math.pi/4 *(d1/100)**2)\n",
      "V2 = V1*(d1/d2)**2\n",
      "P2 = rho*g*(p1/(rho*g) + V1**2 /(2*g) -V2**2 /(2*g))\n",
      "Rx = p1*math.pi/4*(d1/100)**2 - P2*math.pi/4 *(d2/100)**2 *math.cos(math.radians(angle)) -rho*Q*(V2*math.cos(math.radians(angle)) -V1)\n",
      "Ry = P2*math.pi/4 *(d2/100)**2 *math.sin(math.radians(angle)) + rho*Q*(V2*math.sin(math.radians(angle)))\n",
      "R = math.sqrt(Rx**2 + Ry**2)\n",
      "\t\t\t\n",
      "#results\n",
      "print \"resultant force  =  %.2f kN\"%(R/1000)"
     ],
     "language": "python",
     "metadata": {},
     "outputs": [
      {
       "output_type": "stream",
       "stream": "stdout",
       "text": [
        "resultant force  =  35.58 kN\n"
       ]
      }
     ],
     "prompt_number": 2
    },
    {
     "cell_type": "heading",
     "level": 2,
     "metadata": {},
     "source": [
      "Example 4.4 Page No : 113"
     ]
    },
    {
     "cell_type": "code",
     "collapsed": false,
     "input": [
      "import math \n",
      "\t\t\t\n",
      "#Initialization of variables\n",
      "Q = 20.*10**3 \t\t\t#discharge - cc/s\n",
      "depth = 4.   \t\t\t#m\n",
      "d = 5.   \t    \t\t#cm\n",
      "g = 9.81 \t\t    \t#m/s**2\n",
      "rho = 10.**3 \t\t\t#kg/m**3\n",
      "\t\t\t\n",
      "#calculations\n",
      "V1 =  Q/(math.pi/4 *d**2) /100\n",
      "V2 =  math.sqrt(2*g*(V1**2/(2*g) + depth))\n",
      "W = rho*Q*(V2-V1)/10**6\n",
      "\t\t\t\n",
      "#results\n",
      "print \"weight of water  =  %d N\"%(W)"
     ],
     "language": "python",
     "metadata": {},
     "outputs": [
      {
       "output_type": "stream",
       "stream": "stdout",
       "text": [
        "weight of water  =  66 N\n"
       ]
      }
     ],
     "prompt_number": 5
    },
    {
     "cell_type": "heading",
     "level": 2,
     "metadata": {},
     "source": [
      "Example 4.5 Page No : 116"
     ]
    },
    {
     "cell_type": "code",
     "collapsed": false,
     "input": [
      "import math \n",
      "\t\t\t\n",
      "#Initialization of variables\n",
      "g = 9.81 \t    \t\t#m/s**2\n",
      "rho = 10.**3 \t\t\t#kg/m**3\n",
      "V = 50. \t\t    \t#velocity - m/s\n",
      "u = 20. \t\t\t    #m/s\n",
      "A = 6./10**4 \t\t\t#area - m**2\n",
      "angle = 180. \t\t\t#degrees\n",
      "\t\t\t\n",
      "#calculations\n",
      "Vr = V-u\n",
      "rq = rho*A*Vr\n",
      "Rx = -rq*(Vr*math.cos(math.radians(angle)) - Vr)\n",
      "Rx2 = -rho*A*V*(Vr*math.cos(math.radians(angle)) -Vr)\n",
      "power = Rx2*u\n",
      "\t\t\t\n",
      "#results\n",
      "print \"Force exetred on fluid  =  %d N\"%(Rx)\n",
      "print \" Force transferred in case 2  =  %d N\"%(Rx2)\n",
      "print \" Power transferred in case 2  =  %d kW\"%(power/1000)"
     ],
     "language": "python",
     "metadata": {},
     "outputs": [
      {
       "output_type": "stream",
       "stream": "stdout",
       "text": [
        "Force exetred on fluid  =  1080 N\n",
        " Force transferred in case 2  =  1800 N\n",
        " Power transferred in case 2  =  36 kW\n"
       ]
      }
     ],
     "prompt_number": 6
    },
    {
     "cell_type": "heading",
     "level": 2,
     "metadata": {},
     "source": [
      "Example 4.6 Page No : 119"
     ]
    },
    {
     "cell_type": "code",
     "collapsed": false,
     "input": [
      "\t\t\t\n",
      "#Initialization of variables\n",
      "g = 9.81 \t\t\t#m/s**2\n",
      "rho = 10.**3 \t\t#kg/m**3\n",
      "Vr = 10. \t\t\t#m/s\n",
      "u = 8.5 \t\t\t#m/s\n",
      "A = 250./10**4 \t\t#m**2\n",
      "\t\t\t\n",
      "#calculations\n",
      "V = Vr-u\n",
      "Q = A*Vr\n",
      "R = rho*Q*V\n",
      "P = R*u\n",
      "eth = 1/(1+ V/(2*u))\n",
      "\t\t\t\n",
      "#results\n",
      "print \"Power required  =  %.3f kW\"%(P/1000)\n",
      "print \" Efficiency of jet propulsion  =  %.0f percent\"%(eth*100)"
     ],
     "language": "python",
     "metadata": {},
     "outputs": [
      {
       "output_type": "stream",
       "stream": "stdout",
       "text": [
        "Power required  =  3.188 kW\n",
        " Efficiency of jet propulsion  =  92 percent\n"
       ]
      }
     ],
     "prompt_number": 8
    },
    {
     "cell_type": "heading",
     "level": 2,
     "metadata": {},
     "source": [
      "Example 4.7 Page No : 123"
     ]
    },
    {
     "cell_type": "code",
     "collapsed": false,
     "input": [
      "import math \n",
      "\t\t\t\n",
      "#Initialization of variables\n",
      "g = 9.81 \t\t\t#m/s**2\n",
      "rho = 10.**3 \t\t#kg/m**3\n",
      "v1 = 20. \t\t\t#m/s\n",
      "v2 = 5. \t\t\t#m/s\n",
      "r1 = 50./100 \t\t#cm\n",
      "r2 = 30./100 \t\t#cm\n",
      "a1 = 20. \t\t\t#degrees\n",
      "a2 = 80. \t\t\t#degrees\n",
      "N = 300. \t\t\t#rpm\n",
      "Q = 5. \t\t\t    #m**3/s\n",
      "\t\t\t\n",
      "#calculations\n",
      "u1 = round(math.pi*2*r1*N/60,1)\n",
      "u2 = round(math.pi*2*r2*N/60,2)\n",
      "T = rho*Q*(r1*v1*math.cos(math.radians(a1)) - r2*v2*math.cos(math.radians(a2)))\n",
      "H = 1/g *(u1*v1*math.cos(math.radians(a1)) - u2*v2*math.cos(math.radians(a2)))\n",
      "power = rho*g*Q*H\n",
      "\t\n",
      "  \n",
      "#results\n",
      "print \"torque  =  %d N m\"%(T)\n",
      "print \" Heat  =  %.1f m\"%(H)\n",
      "print \" Power  =  %d kW\"%(power/10**3)\n",
      "\n",
      "# Note :The answers given in textbook are a bit different due to rounding off error. please check using calculator."
     ],
     "language": "python",
     "metadata": {},
     "outputs": [
      {
       "output_type": "stream",
       "stream": "stdout",
       "text": [
        "torque  =  45682 N m\n",
        " Heat  =  29.2 m\n",
        " Power  =  1434 kW\n"
       ]
      }
     ],
     "prompt_number": 5
    },
    {
     "cell_type": "heading",
     "level": 2,
     "metadata": {},
     "source": [
      "Example 4.8 Page No : 124"
     ]
    },
    {
     "cell_type": "code",
     "collapsed": false,
     "input": [
      "import math \n",
      "\t\t\t\n",
      "#Initialization of variables\n",
      "g = 9.81 \t\t\t#m/s**2\n",
      "rho = 10.**3 \t\t#kg/m**3\n",
      "d1 = 0.05 \t\t\t#m\n",
      "d2 = 0.3 \t\t\t#m\n",
      "N = 1800. \t\t\t#rpm\n",
      "Q = 0.425/60 \t\t#m**3/s\n",
      "\t\t\t\n",
      "#calculations\n",
      "u1 = math.pi*d1*N/60\n",
      "u2 = math.pi*d2*N/60\n",
      "T = rho*Q*(d2*u2 - d1*u1)/2\n",
      "\t\t\t\n",
      "#results\n",
      "print \"Torque supplied  =  %.1f Nm\"%(T)"
     ],
     "language": "python",
     "metadata": {},
     "outputs": [
      {
       "output_type": "stream",
       "stream": "stdout",
       "text": [
        "Torque supplied  =  29.2 Nm\n"
       ]
      }
     ],
     "prompt_number": 10
    }
   ],
   "metadata": {}
  }
 ]
}