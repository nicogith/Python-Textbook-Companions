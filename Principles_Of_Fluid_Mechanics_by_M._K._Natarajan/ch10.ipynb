{
 "metadata": {
  "name": "",
  "signature": "sha256:be59baaa0b424ca36821aba74f7944f301ffd891c617783ec6544d131134dbbb"
 },
 "nbformat": 3,
 "nbformat_minor": 0,
 "worksheets": [
  {
   "cells": [
    {
     "cell_type": "heading",
     "level": 1,
     "metadata": {},
     "source": [
      "Chapter 10 : The Boundary Layer"
     ]
    },
    {
     "cell_type": "heading",
     "level": 2,
     "metadata": {},
     "source": [
      "Example 10.1 Page No : 379"
     ]
    },
    {
     "cell_type": "code",
     "collapsed": false,
     "input": [
      "import math \n",
      "\t\t\t\n",
      "#Initialization of variables\n",
      "v = 30.      \t\t\t#velocity - m/s\n",
      "nu = 1.5e-5 \t\t\t#m**2/s\n",
      "\t\t\t\n",
      "#calculations\n",
      "Re = 5*10**5\n",
      "xc =  Re*nu/v\n",
      "\t\t\t\n",
      "#results\n",
      "print \"Transistion region  =  %.2f m\"%(xc)"
     ],
     "language": "python",
     "metadata": {},
     "outputs": [
      {
       "output_type": "stream",
       "stream": "stdout",
       "text": [
        "Transistion region  =  0.25 m\n"
       ]
      }
     ],
     "prompt_number": 1
    },
    {
     "cell_type": "heading",
     "level": 2,
     "metadata": {},
     "source": [
      "Example 10.2 Page No : 388"
     ]
    },
    {
     "cell_type": "code",
     "collapsed": false,
     "input": [
      "import math \n",
      "\t\t\t\n",
      "#Initialization of variables\n",
      "u = 2. \t\t\t    #velocity - m/s\n",
      "x = 0.15 \t\t\t#length - m\n",
      "nu = 1.5e-5 \t\t#m**2/s\n",
      "B = 0.5 \t\t\t#m\n",
      "rho = 1.22 \t\t\t#kg/m**3\n",
      "\n",
      "#calcualtions\n",
      "Rx = u*x/nu\n",
      "delta =  4.91*x/math.sqrt(Rx)\n",
      "deltas = 1.729*x/math.sqrt(Rx)\n",
      "Cf = 1.328/math.sqrt(Rx)\n",
      "Ff = Cf*0.5*rho*u**2 *2*B*x\n",
      "\t\t\t\n",
      "#results\n",
      "print \"Boundary layer thickness  =  %.2f cm\"%(delta*100)\n",
      "print \" Displacement thickness  =  %.2f cm\"%(deltas*100)\n",
      "print \" Average drag coeffcient  =  %.4f\"%(Cf)\n",
      "print \" Drag force  =  %.4f N\"%(Ff)"
     ],
     "language": "python",
     "metadata": {},
     "outputs": [
      {
       "output_type": "stream",
       "stream": "stdout",
       "text": [
        "Boundary layer thickness  =  0.52 cm\n",
        " Displacement thickness  =  0.18 cm\n",
        " Average drag coeffcient  =  0.0094\n",
        " Drag force  =  0.0034 N\n"
       ]
      }
     ],
     "prompt_number": 2
    },
    {
     "cell_type": "heading",
     "level": 2,
     "metadata": {},
     "source": [
      "Example 10.5 Page No : 400"
     ]
    },
    {
     "cell_type": "code",
     "collapsed": false,
     "input": [
      "import math \n",
      "\t\t\t\n",
      "#Initialization of variables\n",
      "U = 172.*1000/3600 \t\t\t#m/s\n",
      "w = 3. \t        \t\t#m\n",
      "h = 3. \t\t        \t#m\n",
      "L = 100. \t\t\t    #m\n",
      "nu = 1.5e-5 \t\t\t#m**2/s\n",
      "rho = 1.22 \t    \t\t#kg/m**3\n",
      "\t\t\t\n",
      "#calculations\n",
      "Rl = U*L/nu\n",
      "Cf = 0.074 /(Rl**(1./5))\n",
      "Ff = Cf*0.5*rho*U**2 *w*h*L\n",
      "power =  Ff*U\n",
      "\t\t\t\n",
      "#results\n",
      "print \"power required  =  %.1f kW\"%(power/1000)\n",
      "#The answer is a bit different due to rounding off error"
     ],
     "language": "python",
     "metadata": {},
     "outputs": [
      {
       "output_type": "stream",
       "stream": "stdout",
       "text": [
        "power required  =  88.3 kW\n"
       ]
      }
     ],
     "prompt_number": 3
    },
    {
     "cell_type": "heading",
     "level": 2,
     "metadata": {},
     "source": [
      "Example 10.6 Page No : 400"
     ]
    },
    {
     "cell_type": "code",
     "collapsed": false,
     "input": [
      "import math \n",
      "\t\t\t\n",
      "#Initialization of variables\n",
      "U = 4000. \t\t    \t#m/s\n",
      "L = 8. \t\t        \t#m\n",
      "nu = 3600.e-6 \t\t\t#m**2/s\n",
      "rho = 1000. \t\t\t#kg/m**3\n",
      "b = 5.       \t\t\t#m\n",
      "\t\t\t\n",
      "#calculations\n",
      "Rl = U*L/nu\n",
      "Cf =  0.074/Rl**(1./5) -1700/Rl\n",
      "Ff = Cf*0.5*rho*(U/3600)**2 *L*b\n",
      "\t\t\t\n",
      "#results\n",
      "print \"Skin friction drag  =  %.2f N\"%(Ff)\n",
      "\n",
      "# note : rounding off error."
     ],
     "language": "python",
     "metadata": {},
     "outputs": [
      {
       "output_type": "stream",
       "stream": "stdout",
       "text": [
        "Skin friction drag  =  69.75 N\n"
       ]
      }
     ],
     "prompt_number": 1
    }
   ],
   "metadata": {}
  }
 ]
}