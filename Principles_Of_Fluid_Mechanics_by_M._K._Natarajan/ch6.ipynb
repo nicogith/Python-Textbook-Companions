{
 "metadata": {
  "name": "",
  "signature": "sha256:6e7275009478231e09bfec0423553af7b62637e958570036cb846adaade3feab"
 },
 "nbformat": 3,
 "nbformat_minor": 0,
 "worksheets": [
  {
   "cells": [
    {
     "cell_type": "heading",
     "level": 1,
     "metadata": {},
     "source": [
      "Chapter 6 : Dimensional Analysis and Similitude"
     ]
    },
    {
     "cell_type": "heading",
     "level": 2,
     "metadata": {},
     "source": [
      "Example 6.11 Page No : 222"
     ]
    },
    {
     "cell_type": "code",
     "collapsed": false,
     "input": [
      "import math \n",
      "\t\t\t\n",
      "#Initialization of variables\n",
      "dw = 1000. \t\t\t#density of water - kg/m**3\n",
      "muw = 0.001 \t\t#viscosity of water - N s /m**2\n",
      "da = 1.225 \t\t\t#density of air - kg/m**3\n",
      "mua = 18.*10**-6 \t#viscosity of air - N s /m**2\n",
      "lr = 1./10\n",
      "\t\t\t\n",
      "#calculations\n",
      "dr = da/dw\n",
      "mur = mua/muw\n",
      "vr = mur/dr\n",
      "velocity =  vr/lr\n",
      "discharge  = lr*vr\n",
      "pressure  =  mur**2 /(dr*lr**2)\n",
      "force  =  mur**2 /dr\n",
      "\t\t\t\n",
      "#results\n",
      "print \"Scale ratio for velocity  =  %.f \"%(velocity)\n",
      "print \"Scale ratio for discharge  =  %.2f \"%(discharge)\n",
      "print \"Scale ratio for pressure  =  %.1f \"%(pressure)\n",
      "print \"Scale ratio for force  =  %.3f \"%(force)"
     ],
     "language": "python",
     "metadata": {},
     "outputs": [
      {
       "output_type": "stream",
       "stream": "stdout",
       "text": [
        "Scale ratio for velocity  =  147 \n",
        "Scale ratio for discharge  =  1.47 \n",
        "Scale ratio for pressure  =  26.4 \n",
        "Scale ratio for force  =  0.264 \n"
       ]
      }
     ],
     "prompt_number": 1
    },
    {
     "cell_type": "heading",
     "level": 2,
     "metadata": {},
     "source": [
      "Example 6.12 Page No : 223"
     ]
    },
    {
     "cell_type": "code",
     "collapsed": false,
     "input": [
      "import math \n",
      "\t\t\t\n",
      "#Initialization of variables\n",
      "dr = 1000.\n",
      "mur = 100.           #times\n",
      "lr = 1./10          #prototype size\n",
      "dpm = 60.           #kN/m**2\n",
      "\t\t\t\n",
      "#calculations\n",
      "Vr = mur/dr/lr\n",
      "dpr = dr*Vr**2\n",
      "dpp = dpm/dpr\n",
      "\t\t\t\n",
      "#results\n",
      "print \"Pressure drop in prototype  =  %d N/m**2\"%(dpp*10**3)"
     ],
     "language": "python",
     "metadata": {},
     "outputs": [
      {
       "output_type": "stream",
       "stream": "stdout",
       "text": [
        "Pressure drop in prototype  =  60 N/m**2\n"
       ]
      }
     ],
     "prompt_number": 2
    },
    {
     "cell_type": "heading",
     "level": 2,
     "metadata": {},
     "source": [
      "Example 6.14 Page No : 225"
     ]
    },
    {
     "cell_type": "code",
     "collapsed": false,
     "input": [
      "import math \n",
      "\t\t\t\n",
      "#Initialization of variables\n",
      "lr = 1./25\n",
      "Tp = 6. \t\t\t#sec\n",
      "dr = 1./1.025\n",
      "Fm = 70. \t\t\t#N\n",
      "\t\t\t\n",
      "#calculations\n",
      "Tr = lr**(0.5)\n",
      "Tm = Tr*Tp\n",
      "Fr = dr*lr**3\n",
      "Fp = Fm/Fr\n",
      "\t\t\t\n",
      "#results\n",
      "print \"Wave period  =  %.1f sec\"%(Tm)\n",
      "print \"Force  =  %.3f kN\"%(Fp/1000)"
     ],
     "language": "python",
     "metadata": {},
     "outputs": [
      {
       "output_type": "stream",
       "stream": "stdout",
       "text": [
        "Wave period  =  1.2 sec\n",
        "Force  =  1121.094 kN\n"
       ]
      }
     ],
     "prompt_number": 4
    },
    {
     "cell_type": "heading",
     "level": 2,
     "metadata": {},
     "source": [
      "Example 6.16 Page No : 227"
     ]
    },
    {
     "cell_type": "code",
     "collapsed": false,
     "input": [
      "import math \n",
      "\t\t\t\n",
      "#Initialization of variables\n",
      "lr = 1./10          #scale ratio\n",
      "Vp = 10. \t\t\t#speed - knots\n",
      "Fm = 12. \t\t\t#tension - N\n",
      "\t\t\t\n",
      "#calculations\n",
      "Vm = Vp*math.sqrt(lr)\n",
      "Fp = Fm/lr**3\n",
      "\t\t\t\n",
      "#results\n",
      "print \"force  =  %.1f kN\"%(Fp/1000)"
     ],
     "language": "python",
     "metadata": {},
     "outputs": [
      {
       "output_type": "stream",
       "stream": "stdout",
       "text": [
        "force  =  12.0 kN\n"
       ]
      }
     ],
     "prompt_number": 5
    },
    {
     "cell_type": "heading",
     "level": 2,
     "metadata": {},
     "source": [
      "Example 6.17 Page No : 229"
     ]
    },
    {
     "cell_type": "code",
     "collapsed": false,
     "input": [
      "import math \n",
      "\t\t\t\n",
      "#Initialization of variables\n",
      "lr = 1./7200\n",
      "\t\t\t\n",
      "#calculations\n",
      "Tr = 60./(12*3600)\n",
      "yr = (lr/Tr)**2\n",
      "\t\t\t\n",
      "#results\n",
      "print \"vertical scale to be adopted is 1 in %d\"%(1/yr)"
     ],
     "language": "python",
     "metadata": {},
     "outputs": [
      {
       "output_type": "stream",
       "stream": "stdout",
       "text": [
        "vertical scale to be adopted is 1 in 100\n"
       ]
      }
     ],
     "prompt_number": 7
    }
   ],
   "metadata": {}
  }
 ]
}