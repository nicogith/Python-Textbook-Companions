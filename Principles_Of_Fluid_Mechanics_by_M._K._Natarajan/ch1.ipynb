{
 "metadata": {
  "name": "",
  "signature": "sha256:5f74478ce49dffc1b551f32fb2744aa025f82f0e4c0a37162dfc5c9eb6e76508"
 },
 "nbformat": 3,
 "nbformat_minor": 0,
 "worksheets": [
  {
   "cells": [
    {
     "cell_type": "heading",
     "level": 1,
     "metadata": {},
     "source": [
      "Chapter 1 : Basic Concepts"
     ]
    },
    {
     "cell_type": "heading",
     "level": 2,
     "metadata": {},
     "source": [
      "Example 1.1 Page No : 5"
     ]
    },
    {
     "cell_type": "code",
     "collapsed": false,
     "input": [
      "import math \n",
      "\t\t\t\n",
      "#Initialization of variables\n",
      "weight = 9800. \t\t\t#Kg\n",
      "g = 9.81      \t\t\t#m/s**2\n",
      "a = 2.   \t\t    \t#m/s**2\n",
      "\t\t\t\n",
      "#calculations\n",
      "m = weight/g\n",
      "Wm = m*a\n",
      "\t\t\t\n",
      "#results\n",
      "print \"Density on earth  = %.2f Kg/m**3\"%(m)\n",
      "print \" Weight on moon  =  %.2f N\"%(Wm)\n",
      "print \" Density on moon remains unchanged and is equal to %.2f Kg/m**3\"%(m)"
     ],
     "language": "python",
     "metadata": {},
     "outputs": [
      {
       "output_type": "stream",
       "stream": "stdout",
       "text": [
        "Density on earth  = 998.98 Kg/m**3\n",
        " Weight on moon  =  1997.96 N\n",
        " Density on moon remains unchanged and is equal to 998.98 Kg/m**3\n"
       ]
      }
     ],
     "prompt_number": 1
    },
    {
     "cell_type": "heading",
     "level": 2,
     "metadata": {},
     "source": [
      "Example 1.2 Page No : 14"
     ]
    },
    {
     "cell_type": "code",
     "collapsed": false,
     "input": [
      "import math \n",
      "\t\t\t\n",
      "#Initialization of variables\n",
      "w = 150. \t\t\t#N\n",
      "theta = 30. \t\t\t#degrees\n",
      "l = 0.8 \t\t\t#m\n",
      "b = 0.8 \t\t\t#m\n",
      "dy = 0.12 \t\t\t#cm\n",
      "v = 20. \t\t\t#cm/s\n",
      "\t\t\t\n",
      "#calculations\n",
      "Tau = round(w*math.sin(math.radians(theta)) /(l*b),2)  #shear stress\n",
      "rd = v/dy                                              #rate of deformation\n",
      "vis = Tau/rd                                           #viscosity\n",
      "\n",
      "#results\n",
      "print \"Viscosity of the fluid  =  %.2f N s/m**2\"%(vis)\n",
      "\n",
      "# incorrect solution for 'rate of deformation' in textbook"
     ],
     "language": "python",
     "metadata": {},
     "outputs": [
      {
       "output_type": "stream",
       "stream": "stdout",
       "text": [
        "Viscosity of the fluid  =  0.70 N s/m**2\n"
       ]
      }
     ],
     "prompt_number": 3
    },
    {
     "cell_type": "heading",
     "level": 2,
     "metadata": {},
     "source": [
      "Example 1.3 Page No : 14"
     ]
    },
    {
     "cell_type": "code",
     "collapsed": false,
     "input": [
      "import math \n",
      "\t\t\t\n",
      "#Initialization of variables\n",
      "vis = 2.5/10 \t\t\t#N s/m**2\n",
      "D = 15. \t\t\t#cm\n",
      "N = 180.\n",
      "dy = 0.0001 \t\t\t#m\n",
      "l = 0.15 \t\t\t#length - m\n",
      "b = 0.25 \t\t\t#breadth - m\n",
      "r = 0.152 \t\t\t#radius - m\n",
      "\t\t\t\n",
      "#calculations\n",
      "dv = math.pi*D*N/60/100\n",
      "Tau = vis*dv/dy\n",
      "Tor = round(Tau*math.pi*l*b*r/2,1)\n",
      "P = Tor*2*math.pi*N/60\n",
      "print \t\t\t\n",
      "#results\n",
      "print \"Power required  =  %d W\"%(P)\n",
      "\n",
      "# Note :  The answer is different due to rounding off error in textbook."
     ],
     "language": "python",
     "metadata": {},
     "outputs": [
      {
       "output_type": "stream",
       "stream": "stdout",
       "text": [
        "\n",
        "Power required  =  595 W\n"
       ]
      }
     ],
     "prompt_number": 11
    },
    {
     "cell_type": "heading",
     "level": 2,
     "metadata": {},
     "source": [
      "Example 1.4 Page No : 15"
     ]
    },
    {
     "cell_type": "code",
     "collapsed": false,
     "input": [
      "import math \n",
      "\t\t\t\n",
      "#Initialization of variables\n",
      "w = 1 \t\t\t#rad/s\n",
      "T = 0.4 \t\t\t#N/m**2\n",
      "\t\t\t\n",
      "#calculations\n",
      "mu = T/math.tan(w)\n",
      "\t\t\t\n",
      "#results\n",
      "print \"Viscosity  =  %.2f N s/m**2\"%(mu)"
     ],
     "language": "python",
     "metadata": {},
     "outputs": [
      {
       "output_type": "stream",
       "stream": "stdout",
       "text": [
        "Viscosity  =  0.26 N s/m**2\n"
       ]
      }
     ],
     "prompt_number": 16
    },
    {
     "cell_type": "heading",
     "level": 2,
     "metadata": {},
     "source": [
      "Example 1.6 Page No : 19"
     ]
    },
    {
     "cell_type": "code",
     "collapsed": false,
     "input": [
      "import math \n",
      "\t\t\t\n",
      "#Initialization of variables\n",
      "d = 0.05*10**-3 \t#diameter - m\n",
      "T = 72.*10**-3 \t\t#surface tension of water - N/m\n",
      "P = 101. \t\t\t#pressure - kN/m**2\n",
      "\t\t\t\n",
      "#calculations\n",
      "Pi = P*1000 + 2*T/(d/2)\n",
      "\t\t\t\n",
      "#results\n",
      "print \"Pressure  =  %.2f kN/m**2\"%(Pi/1000)"
     ],
     "language": "python",
     "metadata": {},
     "outputs": [
      {
       "output_type": "stream",
       "stream": "stdout",
       "text": [
        "Pressure  =  106.76 kN/m**2\n"
       ]
      }
     ],
     "prompt_number": 7
    },
    {
     "cell_type": "heading",
     "level": 2,
     "metadata": {},
     "source": [
      "Example 1.7 Page No : 19"
     ]
    },
    {
     "cell_type": "code",
     "collapsed": false,
     "input": [
      "import math \n",
      "\t\t\t\n",
      "#Initialization of variables\n",
      "rho = 981.  \t\t\t#dyn/cm**2\n",
      "sigma = 72. \t\t\t#dyn/cm\n",
      "theta = 0. \t    \t\t#degrees\n",
      "d = 0.5 \t\t    \t#cm\n",
      "depth = 90. \t\t\t#cm\n",
      "\t\t\t\n",
      "#calculations\n",
      "h = 4*sigma*math.cos(math.radians(theta)) /(rho*d)\n",
      "Td = depth-h\n",
      "\t\t\t\n",
      "#results\n",
      "print \"True depth  =  %.3f cm\"%(Td)"
     ],
     "language": "python",
     "metadata": {},
     "outputs": [
      {
       "output_type": "stream",
       "stream": "stdout",
       "text": [
        "True depth  =  89.413 cm\n"
       ]
      }
     ],
     "prompt_number": 17
    }
   ],
   "metadata": {}
  }
 ]
}