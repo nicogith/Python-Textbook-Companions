{
 "cells": [
  {
   "cell_type": "markdown",
   "metadata": {},
   "source": [
    "# Chapter 10: Combustion Processes"
   ]
  },
  {
   "cell_type": "markdown",
   "metadata": {},
   "source": [
    "## Exa 10.1"
   ]
  },
  {
   "cell_type": "code",
   "execution_count": 1,
   "metadata": {
    "collapsed": false
   },
   "outputs": [
    {
     "name": "stdout",
     "output_type": "stream",
     "text": [
      "Mass of O2 required (lbm) =  96.00\n",
      "press enter key to exit\n"
     ]
    },
    {
     "data": {
      "text/plain": [
       "''"
      ]
     },
     "execution_count": 1,
     "metadata": {},
     "output_type": "execute_result"
    }
   ],
   "source": [
    "#If 3 mol carbon are completely burned in a process, determine \n",
    "#(a) the number of moles of O2 required and\n",
    "#(b) the mass of O2 required\n",
    "#initialisation of variables\n",
    "n= 3 \t\t\t\t#lbm mol\n",
    "Mo2= 32 \t\t\t#lbm/lbm mol\n",
    "#CALCULATIONS\n",
    "m= n*Mo2 \t\t\t#Mass of O2 required\n",
    "#RESULTS\n",
    "print '%s %.2f' % ('Mass of O2 required (lbm) = ',m)\n",
    "raw_input('press enter key to exit')"
   ]
  },
  {
   "cell_type": "markdown",
   "metadata": {},
   "source": [
    "## Exa 10.3"
   ]
  },
  {
   "cell_type": "code",
   "execution_count": 2,
   "metadata": {
    "collapsed": false
   },
   "outputs": [
    {
     "name": "stdout",
     "output_type": "stream",
     "text": [
      "Air-fuel ratio (gm air/gm fuel) =  15.12\n",
      "press enter key to exit\n"
     ]
    },
    {
     "data": {
      "text/plain": [
       "''"
      ]
     },
     "execution_count": 2,
     "metadata": {},
     "output_type": "execute_result"
    }
   ],
   "source": [
    "#Determine the air-fuel ratio on a gram-molal and a mass basis if octane is \n",
    "#completely burned in the presence of theoretical air\n",
    "#initialisation of variables\n",
    "n= 12.5 \t\t\t\t\t#mol\n",
    "n1= 3.76 \t\t\t\t\t#mol\n",
    "M= 114 \t\t\t\t\t\t#gm/gm mol\n",
    "M1= 28.96 \t\t\t\t\t#gm/gm mol\n",
    "#CALCULATIONS\n",
    "n2= n*(1+n1) \t\t\t\t#Moles\n",
    "m= n2*M1/M \t\t\t\t\t#Air-fuel ratio \n",
    "#RESULTS\n",
    "print '%s %.2f' % ('Air-fuel ratio (gm air/gm fuel) = ',m)\n",
    "raw_input('press enter key to exit')"
   ]
  },
  {
   "cell_type": "markdown",
   "metadata": {},
   "source": [
    "## Exa 10.4"
   ]
  },
  {
   "cell_type": "code",
   "execution_count": 3,
   "metadata": {
    "collapsed": false
   },
   "outputs": [
    {
     "name": "stdout",
     "output_type": "stream",
     "text": [
      "Air-fuel ratio (kg mol air/kg mol fuel) =  89.25\n",
      "press enter key to exit\n"
     ]
    },
    {
     "data": {
      "text/plain": [
       "''"
      ]
     },
     "execution_count": 3,
     "metadata": {},
     "output_type": "execute_result"
    }
   ],
   "source": [
    "#Develop the stoichiometric equation that expresses the process of octane \n",
    "#being burned with 150% theoretical air. What is the air-fuel ratio on a \n",
    "#kilogram molal basis?\n",
    "#initialisation of variables\n",
    "p= 150\n",
    "nO2= 12.5 \t\t\t\t\t\t\t\t#mol\n",
    "n1= 3.76\n",
    "#CALCULATIONS\n",
    "n2= (nO2*(p/100.))+(nO2*n1*(p/100.))\t#ir-fuel ratio \n",
    "#RESULTS\n",
    "print '%s %.2f' % ('Air-fuel ratio (kg mol air/kg mol fuel) = ',n2)\n",
    "raw_input('press enter key to exit')"
   ]
  },
  {
   "cell_type": "markdown",
   "metadata": {},
   "source": [
    "## Exa 10.5"
   ]
  },
  {
   "cell_type": "code",
   "execution_count": 4,
   "metadata": {
    "collapsed": false
   },
   "outputs": [
    {
     "name": "stdout",
     "output_type": "stream",
     "text": [
      "Benzene required (gm) =  568.40\n",
      "press enter key to exit\n"
     ]
    },
    {
     "data": {
      "text/plain": [
       "''"
      ]
     },
     "execution_count": 4,
     "metadata": {},
     "output_type": "execute_result"
    }
   ],
   "source": [
    "#Benzene is used in a heating process that is 65% efficient. How much benzene\n",
    "#is required to heat  185 liter tank of water from 10 to 30C?\n",
    "#initialisation of variables\n",
    "P= 65 \n",
    "T= 30 \t\t\t\t#C\n",
    "T1= 10 \t\t\t\t#C\n",
    "c= 4.19 \t\t\t#J/gm C\n",
    "h= 41961\n",
    "m= 185 \t\t\t\t#lt\n",
    "#CALCULATIONS\n",
    "Q= m*1000*c*(T-T1)\t#Heat required\n",
    "M= (Q*100.)/(h*P) \t#Mass of benzene required\n",
    "#RESULTS\n",
    "print '%s %.2f' % ('Benzene required (gm) = ',M)\n",
    "raw_input('press enter key to exit')"
   ]
  }
 ],
 "metadata": {
  "kernelspec": {
   "display_name": "Python 2",
   "language": "python",
   "name": "python2"
  },
  "language_info": {
   "codemirror_mode": {
    "name": "ipython",
    "version": 2
   },
   "file_extension": ".py",
   "mimetype": "text/x-python",
   "name": "python",
   "nbconvert_exporter": "python",
   "pygments_lexer": "ipython2",
   "version": "2.7.6"
  }
 },
 "nbformat": 4,
 "nbformat_minor": 0
}
