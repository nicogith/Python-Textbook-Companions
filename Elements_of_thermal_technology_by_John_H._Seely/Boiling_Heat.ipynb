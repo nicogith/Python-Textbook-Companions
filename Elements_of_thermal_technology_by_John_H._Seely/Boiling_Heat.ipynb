{
 "cells": [
  {
   "cell_type": "markdown",
   "metadata": {},
   "source": [
    "# Chapter 13: Boiling Heat Transfer"
   ]
  },
  {
   "cell_type": "markdown",
   "metadata": {},
   "source": [
    "## Exa 13.1"
   ]
  },
  {
   "cell_type": "code",
   "execution_count": 1,
   "metadata": {
    "collapsed": false
   },
   "outputs": [
    {
     "name": "stdout",
     "output_type": "stream",
     "text": [
      "Heat transfer coefficient for nucleate boiling (W/m^2 C) =  1.76e+05\n",
      "press enter key to exit\n"
     ]
    },
    {
     "data": {
      "text/plain": [
       "''"
      ]
     },
     "execution_count": 1,
     "metadata": {},
     "output_type": "execute_result"
    }
   ],
   "source": [
    "#Water at 1 atm is boiled on a brass surface. Using the rohsenow correlation\n",
    "#determine the heat transfer coefficient for nucleate boiling if the wall \n",
    "#superheat is 11C?\n",
    "import math\n",
    "#initialisation of variables\n",
    "P= 1 \t\t\t\t#atm\n",
    "dt= 11 \t\t\t\t#C\n",
    "Csf= 0.006\n",
    "r= 1./3.\n",
    "s= 1.\n",
    "cl= 4.218 \t\t\t#J/gm K\n",
    "hfg= 2257 \t\t\t#J/gm\n",
    "Pr= 1.75\n",
    "ul= 283.1/1000. \t#gm/m s\n",
    "s= 57.78/1000. \t\t#N/m\n",
    "pl= 958*1000. \t\t#gm/m^3\n",
    "pv= 598. \t\t\t#gm/m^3\n",
    "gc= 1000. \t\t\t#gm m/N s^2\n",
    "g= 9.8 \t\t\t\t#m/s^2\n",
    "#CALCULATIONS\n",
    "p= pl-pv \t\t\t#change in density\n",
    "q= ((math.pow(((cl*dt)/(hfg*Csf*Pr)),(1/r))*(ul*hfg))/math.pow((gc*s/(g*p)),(0.5))) #Heat transfer rate\n",
    "h= q/dt \t\t\t#Heat transfer coefficient\n",
    "#RESULTS\n",
    "print '%s %.2e' % ('Heat transfer coefficient for nucleate boiling (W/m^2 C) = ',h)\n",
    "raw_input('press enter key to exit')"
   ]
  },
  {
   "cell_type": "markdown",
   "metadata": {},
   "source": [
    "## Exa 13.2"
   ]
  },
  {
   "cell_type": "code",
   "execution_count": 2,
   "metadata": {
    "collapsed": false
   },
   "outputs": [
    {
     "name": "stdout",
     "output_type": "stream",
     "text": [
      "Condensation heat tranfer coefficient if the tube is vertical (Btu/h ft^2 F) =  758.79\n",
      " \n",
      " Condensation heat tranfer coefficient if the tube is horizontally (Btu/h ft^2 F) =  1926.98\n",
      "press enter key to exit\n"
     ]
    },
    {
     "data": {
      "text/plain": [
       "''"
      ]
     },
     "execution_count": 2,
     "metadata": {},
     "output_type": "execute_result"
    }
   ],
   "source": [
    "#A tube, 1/2 in OD and 5 ft long, is used to condense steam at 6 psia; the\n",
    "#average temperature of the tube is maintained at 130 F. Determine the \n",
    "#condensation heat transfer coefficient if the tube is mounted\n",
    "#(a) vertically and (b) horizontally\n",
    "import math\n",
    "#initialisation of variables\n",
    "k= 0.384 \t\t\t\t\t\t\t\t\t\t\t#Btu/hr ft F\n",
    "Tsat= 170.03 \t\t\t\t\t\t\t\t\t\t#F\n",
    "hfg= 996.2 \t\t\t\t\t\t\t\t\t\t\t#Btu/lbm\n",
    "T= 130 \t\t\t\t\t\t\t\t\t\t\t\t#F\n",
    "l= 5. \t\t\t\t\t\t\t\t\t\t\t\t#ft\n",
    "P= 6. \t\t\t\t\t\t\t\t\t\t\t\t#psia\n",
    "g= 4.17*math.pow(10,8) \t\t\t\t\t\t\t\t#ft/h^2\n",
    "d= 0.042 \t\t\t\t\t\t\t\t\t\t\t#ft\n",
    "p= 61.2 \t\t\t\t\t\t\t\t\t\t\t#lbm/ft^3\n",
    "u= 1.05 \t\t\t\t\t\t\t\t\t\t\t#lbm/ft h\n",
    "#CALCULATIONS\n",
    "dt= Tsat-T \t\t\t\t\t\t\t\t\t\t\t#Change in temp.\n",
    "Tf= (Tsat+T)/2. \t\t\t\t\t\t\t\t\t#Average temp.\n",
    "hc= 0.943*math.pow(((k*k*k*p*p*g*hfg)/(l*u*dt)),(1./4.))\n",
    "hc1= 0.725*math.pow(((k*k*k*p*p*g*hfg)/(d*u*dt)),(1./4.))\n",
    "#RESULTS\n",
    "print '%s %.2f' % ('Condensation heat tranfer coefficient if the tube is vertical (Btu/h ft^2 F) = ',hc)\n",
    "print '%s %.2f' % (' \\n Condensation heat tranfer coefficient if the tube is horizontally (Btu/h ft^2 F) = ',hc1)\n",
    "raw_input('press enter key to exit')"
   ]
  }
 ],
 "metadata": {
  "kernelspec": {
   "display_name": "Python 2",
   "language": "python",
   "name": "python2"
  },
  "language_info": {
   "codemirror_mode": {
    "name": "ipython",
    "version": 2
   },
   "file_extension": ".py",
   "mimetype": "text/x-python",
   "name": "python",
   "nbconvert_exporter": "python",
   "pygments_lexer": "ipython2",
   "version": "2.7.6"
  }
 },
 "nbformat": 4,
 "nbformat_minor": 0
}
