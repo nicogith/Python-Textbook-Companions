{
 "cells": [
  {
   "cell_type": "markdown",
   "metadata": {},
   "source": [
    "# Chapter 2: Units and Dimensions"
   ]
  },
  {
   "cell_type": "markdown",
   "metadata": {},
   "source": [
    "## Exa 2.1a"
   ]
  },
  {
   "cell_type": "code",
   "execution_count": 1,
   "metadata": {
    "collapsed": false
   },
   "outputs": [
    {
     "name": "stdout",
     "output_type": "stream",
     "text": [
      "I in SI system (Kg m^2) =  1.00\n",
      "press enter key to exit\n"
     ]
    },
    {
     "data": {
      "text/plain": [
       "''"
      ]
     },
     "execution_count": 1,
     "metadata": {},
     "output_type": "execute_result"
    }
   ],
   "source": [
    "#According to newton's second law for angular motion, torque equals \n",
    "#the product of the mass moment of inertia and angular acceleration \n",
    "#By means of dimensonal symbolism determine the units of I in SI units\n",
    "#initialisation of variables\n",
    "F= 1\t\t\t\t\t#N\n",
    "L= 1\t\t\t\t\t#m\n",
    "T= 1\t\t\t\t\t#s\n",
    "I= 1\t\t\t\t\t#N m s^2\n",
    "N= 1\t\t\t\t\t#Kg m s^-2\n",
    "#CALCULATIONS\n",
    "I= F*L*T*T \t\t\t\t#Kg m^2\n",
    "#RESULTS\n",
    "print '%s %.2f' % ('I in SI system (Kg m^2) = ',I)\n",
    "raw_input('press enter key to exit')"
   ]
  },
  {
   "cell_type": "markdown",
   "metadata": {},
   "source": [
    "## Exa 2.1b"
   ]
  },
  {
   "cell_type": "code",
   "execution_count": null,
   "metadata": {
    "collapsed": false
   },
   "outputs": [
    {
     "name": "stdout",
     "output_type": "stream",
     "text": [
      " I in British Gravitational System (slug ft^2) =  1.00\n"
     ]
    }
   ],
   "source": [
    "#According to newton's second law for angular motion, torque equals \n",
    "#the product of the mass moment of inertia and angular acceleration \n",
    "#By means of dimensonal symbolism determine the units of I in British units\n",
    "#initialisation of variables\n",
    "F= 1\t\t\t\t\t#lbf\n",
    "L= 1\t\t\t\t\t#ft\n",
    "T= 1\t\t\t\t\t#s\n",
    "I= 1\t\t\t\t\t#lbf ft s^2\n",
    "lbf= 1\t\t\t\t\t#slug ft s^-2\n",
    "#CALCULATIONS\n",
    "I= F*L*T*T \t\t\t\t#slug ft^2\n",
    "#RESULTS\n",
    "print '%s %.2f' % (' I in British Gravitational System (slug ft^2) = ',I)\n",
    "raw_input('press enter key to exit')"
   ]
  },
  {
   "cell_type": "markdown",
   "metadata": {},
   "source": [
    "## Exa 2.2"
   ]
  },
  {
   "cell_type": "code",
   "execution_count": 1,
   "metadata": {
    "collapsed": false
   },
   "outputs": [
    {
     "name": "stdout",
     "output_type": "stream",
     "text": [
      "gc (lbm ft/poundal^2) =  1.00\n",
      "press enter key to exit\n"
     ]
    },
    {
     "data": {
      "text/plain": [
       "''"
      ]
     },
     "execution_count": 1,
     "metadata": {},
     "output_type": "execute_result"
    }
   ],
   "source": [
    "#Determine the gravitational constant gc for the british absoulte system.\n",
    "#initialisation of variables\n",
    "F= 1 \t\t\t\t\t#Pouunda\n",
    "m= 1 \t\t\t\t\t#lbm\n",
    "g= 1 \t\t\t\t\t#fts^-2\n",
    "#CALCULATIONS\n",
    "gc= m*g/F \t\t\t\t#Gravitation in British Units\n",
    "#RESULTS\n",
    "print '%s %.2f' %('gc (lbm ft/poundal^2) = ',gc)\n",
    "raw_input('press enter key to exit')"
   ]
  },
  {
   "cell_type": "markdown",
   "metadata": {},
   "source": [
    "## Exa 2.3"
   ]
  },
  {
   "cell_type": "code",
   "execution_count": 2,
   "metadata": {
    "collapsed": false
   },
   "outputs": [
    {
     "name": "stdout",
     "output_type": "stream",
     "text": [
      "Pa (poundal/ft^2) =  684016.87\n",
      "press enter key to exit\n"
     ]
    },
    {
     "data": {
      "text/plain": [
       "''"
      ]
     },
     "execution_count": 2,
     "metadata": {},
     "output_type": "execute_result"
    }
   ],
   "source": [
    "#If a mercury barometer shows a height of 76 cmHg, express the atmospheric\n",
    "#pressure in force units of the british absoulte system.\n",
    "#initialisation of variables\n",
    "h= 76. \t\t\t\t\t#cmhg\n",
    "g= 32.2 \t\t\t\t#ft/s^2\n",
    "h= 76.0 \t\t\t\t#cmHg\n",
    "Dhg= 847. \t\t\t\t#lbm/ft^3\n",
    "#CALCULATIONS\n",
    "Pa= Dhg*g*h*0.33\t\t#P in lbm/ft S^2\n",
    "Pa1= Pa/1. \t\t\t\t#P in poundal/ft^2\n",
    "#RESULTS\n",
    "print '%s %.2f' % ('Pa (poundal/ft^2) = ',Pa1)\n",
    "raw_input('press enter key to exit')"
   ]
  }
 ],
 "metadata": {
  "kernelspec": {
   "display_name": "Python 2",
   "language": "python",
   "name": "python2"
  },
  "language_info": {
   "codemirror_mode": {
    "name": "ipython",
    "version": 2
   },
   "file_extension": ".py",
   "mimetype": "text/x-python",
   "name": "python",
   "nbconvert_exporter": "python",
   "pygments_lexer": "ipython2",
   "version": "2.7.6"
  }
 },
 "nbformat": 4,
 "nbformat_minor": 0
}
