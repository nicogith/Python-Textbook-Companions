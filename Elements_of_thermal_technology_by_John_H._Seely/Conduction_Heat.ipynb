{
 "cells": [
  {
   "cell_type": "markdown",
   "metadata": {},
   "source": [
    "# Chapter 11: Conduction Heat Transfer"
   ]
  },
  {
   "cell_type": "markdown",
   "metadata": {},
   "source": [
    "## Exa 11.1"
   ]
  },
  {
   "cell_type": "code",
   "execution_count": 1,
   "metadata": {
    "collapsed": false
   },
   "outputs": [
    {
     "name": "stdout",
     "output_type": "stream",
     "text": [
      "Outside wall temperature (F) =  23.08\n",
      "press enter key to exit\n"
     ]
    },
    {
     "data": {
      "text/plain": [
       "''"
      ]
     },
     "execution_count": 1,
     "metadata": {},
     "output_type": "execute_result"
    }
   ],
   "source": [
    "#THe inside surface of a plane wall is exposed to air at 76 F and the outside \n",
    "#surface to air at 21 F. The inside surface conductance is 1.5., and the outside\n",
    "#is 6.5. If a thermocouple indicates that the inside wall temperature is 67 F\n",
    "#what is the outside wall temperature.?\n",
    "#initialisation of variables\n",
    "T= 76 \t\t\t\t\t#F\n",
    "T1= 21 \t\t\t\t\t#F\n",
    "Tw= 67 \t\t\t\t\t#W\n",
    "h= 1.5 \t\t\t\t\t#Btu/hr ft^2 F\n",
    "A= 1. \t\t\t\t\t#ft^2 \n",
    "h0= 6.5 \t\t\t\t#Btu/hr\n",
    "#CALCULATIONS\n",
    "q= h*A*(T-Tw)\t\t\t#Heat flow\n",
    "t= (q/(h0*A))+T1 \t\t#Outside wall temperature\n",
    "#results\n",
    "print '%s %.2f' % ('Outside wall temperature (F) = ',t)\n",
    "raw_input('press enter key to exit')"
   ]
  },
  {
   "cell_type": "markdown",
   "metadata": {},
   "source": [
    "## Exa 11.2"
   ]
  },
  {
   "cell_type": "code",
   "execution_count": 2,
   "metadata": {
    "collapsed": false
   },
   "outputs": [
    {
     "name": "stdout",
     "output_type": "stream",
     "text": [
      "Thermal transmittance (Btu/hr ft^2 F) =  0.62\n",
      " \n",
      " Heat transfer rate (Btu/hr) =  31.25\n",
      "press enter key to exit\n"
     ]
    },
    {
     "data": {
      "text/plain": [
       "''"
      ]
     },
     "execution_count": 2,
     "metadata": {},
     "output_type": "execute_result"
    }
   ],
   "source": [
    "#The inside and outside surface conductances are 2.0 and 10.0 Btu/hr ft^2 F\n",
    "#respectively and the thermal conductivity of the wall is 0.5 units. Determine\n",
    "#(a)the thermal transmittance and (b) the hear transfer rate for 1 ft^2 of wall\n",
    "#surfaces\n",
    "#initialisation of variables\n",
    "hi= 2. \t\t\t\t\t\t\t\t\t#Btu/hr ft^2 F\n",
    "l= 6. \t\t\t\t\t\t\t\t\t#in\n",
    "k= 0.5 \t\t\t\t\t\t\t\t\t#Btu/hr ft F\n",
    "h0= 10. \t\t\t\t\t\t\t\t#Btu/hr ft^2 F\n",
    "ti= 70. \t\t\t\t\t\t\t\t#F\n",
    "t0= 20.\t\t\t\t\t\t\t\t\t#F\n",
    "A= 1. \t\t\t\t\t\t\t\t\t#ft^2\n",
    "#CALCULATIONS\n",
    "U= 1/((1/hi)+((l*0.5)/(6*k))+(1/h0))\t#Thermal transmittance \n",
    "q= U*A*(ti-t0)\t\t\t\t\t\t\t#Heat transfer rate\n",
    "#RESULTS\n",
    "print '%s %.2f' % ('Thermal transmittance (Btu/hr ft^2 F) = ',U)\n",
    "print '%s %.2f' % (' \\n Heat transfer rate (Btu/hr) = ',q)\n",
    "raw_input('press enter key to exit')"
   ]
  },
  {
   "cell_type": "markdown",
   "metadata": {},
   "source": [
    "## Exa 11.3"
   ]
  },
  {
   "cell_type": "code",
   "execution_count": 3,
   "metadata": {
    "collapsed": false
   },
   "outputs": [
    {
     "name": "stdout",
     "output_type": "stream",
     "text": [
      "Heat loss (Btu/hr) =  32.00\n",
      " \n",
      " Temperature at the interface of the steel and the insulation (F) =  299.98\n",
      "press enter key to exit\n"
     ]
    },
    {
     "data": {
      "text/plain": [
       "''"
      ]
     },
     "execution_count": 3,
     "metadata": {},
     "output_type": "execute_result"
    }
   ],
   "source": [
    "#A composite wall is made up of a 1/4 in. steel plate(k=31.4) and 3 in insulation\n",
    "#(k=0.04). If the outside of the steel surface is 300 F, and the outside of the \n",
    "#insulation is 100 F, determine (a) the heat loss and (b) the temperature at\n",
    "#the interface of the steel amd the insulation\n",
    "#initialisation of variables\n",
    "Ti= 300. \t\t\t\t\t\t\t#F\n",
    "T0= 100. \t\t\t\t\t\t\t#F\n",
    "l= 0.25 \t\t\t\t\t\t\t#in\n",
    "li= 3. \t\t\t\t\t\t\t\t#in\n",
    "A= 12. \t\t\t\t\t\t\t\t#in/ft\n",
    "ks= 31.4 \t\t\t\t\t\t\t#Btu/hr ft F\n",
    "ki= 0.04 \t\t\t\t\t\t\t#Btu/hr ft F\n",
    "#CALCULATIONS\n",
    "q= (Ti-T0)/((l/(A*ks))+(li/(A*ki))) #Heat loss\n",
    "t= Ti-((q*l/12.)/ks) \t\t\t\t#Temperature\n",
    "#RESULTS\n",
    "print '%s %.2f' % ('Heat loss (Btu/hr) = ',q)\n",
    "print '%s %.2f' % (' \\n Temperature at the interface of the steel and the insulation (F) = ',t)\n",
    "raw_input('press enter key to exit')"
   ]
  },
  {
   "cell_type": "markdown",
   "metadata": {},
   "source": [
    "## Exa 11.4"
   ]
  },
  {
   "cell_type": "code",
   "execution_count": 4,
   "metadata": {
    "collapsed": false
   },
   "outputs": [
    {
     "name": "stdout",
     "output_type": "stream",
     "text": [
      "Heat loss (W) =  347.46\n",
      "press enter key to exit\n"
     ]
    },
    {
     "data": {
      "text/plain": [
       "''"
      ]
     },
     "execution_count": 4,
     "metadata": {},
     "output_type": "execute_result"
    }
   ],
   "source": [
    "#A steel pipe (k=6.4) has an OD of 8.89 cm and an ID of 7.8 cm, and is covered\n",
    "#with 1.3 cm asbestos (k=0.19). The pipe transports a fluid at 149 C and has\n",
    "#an inner surface conductance of 227. Outside temp=27. Outside conductance=23\n",
    "#what os the heat loss of 1m of pipe?\n",
    "import math\n",
    "#initialisation of variables\n",
    "ti= 149. \t\t\t\t\t\t\t\t#C\n",
    "t0= 27. \t\t\t\t\t\t\t\t#C\n",
    "D0= 0.1149 \t\t\t\t\t\t\t\t#m\n",
    "l= 1. \t\t\t\t\t\t\t\t\t#m\n",
    "h0= 23. \t\t\t\t\t\t\t\t#W/m^2 C\n",
    "hi= 227. \t\t\t\t\t\t\t\t#W/m^2 C\n",
    "k= 0.19 \t\t\t\t\t\t\t\t#W/m C\n",
    "Di= 0.0889 \t\t\t\t\t\t\t\t#cm\n",
    "#CALCULATIONS\n",
    "D1= D0*100 \n",
    "D2= Di*100 \n",
    "R0=(1/(D0*math.pi*l*h0))\t\t\t\t#Resistance\n",
    "Rins=(math.log(D1/D2)/(2*math.pi*k*l))\t#Resistance\n",
    "Ri=1/(Di*math.pi*l*hi) \t\t\t\t\t#Resistance Inlet\n",
    "q= (ti-t0)/(R0+Rins+Ri) \t\t\t\t#Total heat\n",
    "#RESULTS\n",
    "print '%s %.2f' % ('Heat loss (W) = ',q)\n",
    "raw_input('press enter key to exit')"
   ]
  },
  {
   "cell_type": "markdown",
   "metadata": {},
   "source": [
    "## Exa 11.5"
   ]
  },
  {
   "cell_type": "code",
   "execution_count": 5,
   "metadata": {
    "collapsed": false
   },
   "outputs": [
    {
     "name": "stdout",
     "output_type": "stream",
     "text": [
      "Power consumption (W) =  970.90\n",
      "press enter key to exit\n"
     ]
    },
    {
     "data": {
      "text/plain": [
       "''"
      ]
     },
     "execution_count": 5,
     "metadata": {},
     "output_type": "execute_result"
    }
   ],
   "source": [
    "#The working chamber of an electrically heated furnace is a cube 0.2 m on each\n",
    "#side and the walls are 0.1 m thick. Interior wall temperatures are to be \n",
    "#maintained at 1100 c while the outside wall temperatures are at 150C. If the\n",
    "#thermal conductivity of the furnace material is 0.35, estimate the power consumption.\n",
    "import math\n",
    "#initialisation of variables\n",
    "l= 0.2 \t\t\t\t\t\t\t\t\t#m\n",
    "l1= 0.5\t\t\t\t\t\t\t\t \t#m\n",
    "k= 0.35 \t\t\t\t\t\t\t\t#W/m C\n",
    "t= 0.15 \t\t\t\t\t\t\t\t#m\n",
    "T1= 1100 \t\t\t\t\t\t\t\t#C\n",
    "T2= 150 \t\t\t\t\t\t\t\t#C\n",
    "#CALCULATIONS\n",
    "Ai= 6*l*l \t\t\t\t\t\t\t\t#Inner area\n",
    "Ao= 6*l1*l1 \t\t\t\t\t\t\t#outer area\n",
    "q= 0.73*k*math.sqrt(Ai*Ao)*(T1-T2)/t \t#Power consumption\n",
    "#RESULTS\n",
    "print '%s %.2f' % ('Power consumption (W) = ',q)\n",
    "raw_input('press enter key to exit')"
   ]
  },
  {
   "cell_type": "markdown",
   "metadata": {},
   "source": [
    "## Exa 11.6"
   ]
  },
  {
   "cell_type": "code",
   "execution_count": 6,
   "metadata": {
    "collapsed": false
   },
   "outputs": [
    {
     "name": "stdout",
     "output_type": "stream",
     "text": [
      "heat loss will increase if the insulation is added\n",
      "press enter key to exit\n"
     ]
    },
    {
     "data": {
      "text/plain": [
       "''"
      ]
     },
     "execution_count": 6,
     "metadata": {},
     "output_type": "execute_result"
    }
   ],
   "source": [
    "#A copper tube, 0.6 cm OD, carries hot water between two tanks, the outside\n",
    "#surface conductance is 12. If it is important to minimize the heat loss\n",
    "#should the tube be covered with an insulation whose k=0.19\n",
    "#initialisation of variables\n",
    "h= 12 \t\t\t\t#W/m^2 C\n",
    "k= 0.19 \t\t\t#W/m C\n",
    "d= 0.6 \t\t\t\t#m\n",
    "#CALCULATIONS\n",
    "r= k/h \t\t\t\t#Critical radius\n",
    "d1=d/2. \t\t\t#Radius of tube\n",
    "if (r<d1):\n",
    "    print('heat loss will increase if the insulation is added');\n",
    "else:\n",
    "    print('heat loss will increase if the insulation is added');\n",
    "\n",
    "raw_input('press enter key to exit')"
   ]
  },
  {
   "cell_type": "markdown",
   "metadata": {},
   "source": [
    "## Exa 11.7"
   ]
  },
  {
   "cell_type": "code",
   "execution_count": 7,
   "metadata": {
    "collapsed": false
   },
   "outputs": [
    {
     "name": "stdout",
     "output_type": "stream",
     "text": [
      "Time needed for the casting to be heated to 510 C (hr) =  0.63\n",
      "press enter key to exit\n"
     ]
    },
    {
     "data": {
      "text/plain": [
       "''"
      ]
     },
     "execution_count": 7,
     "metadata": {},
     "output_type": "execute_result"
    }
   ],
   "source": [
    "#A small casting initially at 16C is placed in  a furnace at 1200C\n",
    "#The ratio of volume to surface area is 0.15 m and the outer k=85\n",
    "#k for casting is 225 and the thermal diffusivity is 0.34. how much time is \n",
    "#needed for the casting to be heated to 510C?\n",
    "import math\n",
    "#initialisation of variables\n",
    "h= 85 \t\t\t\t\t\t\t\t\t#W/m^2 C\n",
    "s= 0.15 \t\t\t\t\t\t\t\t#m\n",
    "K= 225. \t\t\t\t\t\t\t\t#W/m C\n",
    "t= 510. \t\t\t\t\t\t\t\t#C\n",
    "t1= 1200. \t\t\t\t\t\t\t\t#C\n",
    "t0= 16. \t\t\t\t\t\t\t\t#C\n",
    "a= 0.34\n",
    "#CALCULATIONS\n",
    "Bi= h*s/K \t\t\t\t\t\t\t\t#Biot number\n",
    "T= K*s*math.log((t0-t1)/(t-t1))/(h*a) \t#Time\n",
    "#RESULTS\n",
    "print '%s %.2f' % ('Time needed for the casting to be heated to 510 C (hr) = ',T)\n",
    "raw_input('press enter key to exit')"
   ]
  }
 ],
 "metadata": {
  "kernelspec": {
   "display_name": "Python 2",
   "language": "python",
   "name": "python2"
  },
  "language_info": {
   "codemirror_mode": {
    "name": "ipython",
    "version": 2
   },
   "file_extension": ".py",
   "mimetype": "text/x-python",
   "name": "python",
   "nbconvert_exporter": "python",
   "pygments_lexer": "ipython2",
   "version": "2.7.6"
  }
 },
 "nbformat": 4,
 "nbformat_minor": 0
}
