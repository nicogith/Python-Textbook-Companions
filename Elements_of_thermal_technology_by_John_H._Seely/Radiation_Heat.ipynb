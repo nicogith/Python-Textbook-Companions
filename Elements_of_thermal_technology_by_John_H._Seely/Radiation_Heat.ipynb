{
 "cells": [
  {
   "cell_type": "markdown",
   "metadata": {},
   "source": [
    "# Chapter 14: Radiation Heat Transfer"
   ]
  },
  {
   "cell_type": "markdown",
   "metadata": {},
   "source": [
    "## Exa 14.2"
   ]
  },
  {
   "cell_type": "code",
   "execution_count": 1,
   "metadata": {
    "collapsed": false
   },
   "outputs": [
    {
     "name": "stdout",
     "output_type": "stream",
     "text": [
      "Wavelength at which the maximum monochromatic emissive power (m) =  7.44e-06\n",
      " \n",
      " Coffecient of performnance (W/m^3) =  1.14e+08\n",
      "press enter key to exit\n"
     ]
    },
    {
     "data": {
      "text/plain": [
       "''"
      ]
     },
     "execution_count": 1,
     "metadata": {},
     "output_type": "execute_result"
    }
   ],
   "source": [
    "#If a blackbody is maintained at 116C, determine (a) the wavelength at which \n",
    "#the maximum monochromatic emissive power occurs and (b) the maximum \n",
    "#monochromatic emissive power\n",
    "import math\n",
    "#initialisation of variables\n",
    "T= 116. \t\t\t\t\t\t\t\t\t\t\t\t\t\t#C\n",
    "C1= 3.74*math.pow(10,-16)\n",
    "C2= 1.44*math.pow(10,-2)\n",
    "#CALCULATIONS\n",
    "WLmax= (2893*math.pow(10,-6))/(T+273) \t\t\t\t\t\t\t#Maximum Wavelength \n",
    "Wb= (C1*math.pow((WLmax),(-5)))/(math.exp(C2/2893*1000000.)-1)\t#Coffecient of performnance\n",
    "#RESULTS\n",
    "print '%s %.2e' % ('Wavelength at which the maximum monochromatic emissive power (m) = ',WLmax)\n",
    "print '%s %.2e' % (' \\n Coffecient of performnance (W/m^3) = ',Wb)\n",
    "raw_input('press enter key to exit')"
   ]
  },
  {
   "cell_type": "markdown",
   "metadata": {},
   "source": [
    "## Exa 14.3"
   ]
  },
  {
   "cell_type": "code",
   "execution_count": 2,
   "metadata": {
    "collapsed": false
   },
   "outputs": [
    {
     "name": "stdout",
     "output_type": "stream",
     "text": [
      "Emissive power for the blackbody (W/m^2) =  1305.19\n",
      "press enter key to exit\n"
     ]
    },
    {
     "data": {
      "text/plain": [
       "''"
      ]
     },
     "execution_count": 2,
     "metadata": {},
     "output_type": "execute_result"
    }
   ],
   "source": [
    "#Determine the total emissive power for the black body of solved problem 2\n",
    "import math\n",
    "#initialisation of variables\n",
    "T= 389 \t\t\t\t\t\t#K\n",
    "s= 5.7*math.pow(10,-8) \t\t#K^4\n",
    "#CALCULATIONS\n",
    "Wb= s*T*T*T*T \t\t\t\t#Emissive power for the blackbody\n",
    "#RESULTS\n",
    "print '%s %.2f' % ('Emissive power for the blackbody (W/m^2) = ',Wb)\n",
    "raw_input('press enter key to exit')"
   ]
  },
  {
   "cell_type": "markdown",
   "metadata": {},
   "source": [
    "## Exa 14.4"
   ]
  },
  {
   "cell_type": "code",
   "execution_count": 3,
   "metadata": {
    "collapsed": false
   },
   "outputs": [
    {
     "name": "stdout",
     "output_type": "stream",
     "text": [
      "Average absorptivity of the body at 100 F =  0.51\n",
      " \n",
      " Average absorptivity of the body at 2000 F=  0.84\n",
      "press enter key to exit\n"
     ]
    },
    {
     "data": {
      "text/plain": [
       "''"
      ]
     },
     "execution_count": 3,
     "metadata": {},
     "output_type": "execute_result"
    }
   ],
   "source": [
    "#A gray body at 100F receives radiant energy from a wall at 2000 F at a rate\n",
    "#of 3.2x 10^4. Simultaneously, the body emits energy at the rate of 140. What\n",
    "#is the average absorptivity of the body at (a) 100 F and (b) 2000 F\n",
    "import math\n",
    "#initialisation of variables\n",
    "T= 100 \t\t\t\t\t\t\t\t#F\n",
    "T1= 2000 \t\t\t\t\t\t\t#F\n",
    "W= 3.2*10000. \t\t\t\t\t\t#Btu/hr ft^2\n",
    "W1= 140. \t\t\t\t\t\t\t#Btu/hr ft^2\n",
    "s= 0.17*math.pow(10,-8) \t\t\t#Btu/hr ft^2 R^4\n",
    "#CALCULATIONS\n",
    "alpha= W/(s*math.pow((T1+460),4)) \t#Average absorptivity at 100\n",
    "b= W1/(s*math.pow((T+460),4)) \t\t#Average absorptivity at 2000\n",
    "#RESULTS\n",
    "print '%s %.2f' % ('Average absorptivity of the body at 100 F = ',alpha)\n",
    "print '%s %.2f' % (' \\n Average absorptivity of the body at 2000 F= ',b)\n",
    "raw_input('press enter key to exit')"
   ]
  },
  {
   "cell_type": "markdown",
   "metadata": {},
   "source": [
    "## Exa 14.5"
   ]
  },
  {
   "cell_type": "code",
   "execution_count": 4,
   "metadata": {
    "collapsed": false
   },
   "outputs": [
    {
     "name": "stdout",
     "output_type": "stream",
     "text": [
      "Heat loss from the conduit by radiation (Btu/hr per ft) =  1401.66\n",
      "press enter key to exit\n"
     ]
    },
    {
     "data": {
      "text/plain": [
       "''"
      ]
     },
     "execution_count": 4,
     "metadata": {},
     "output_type": "execute_result"
    }
   ],
   "source": [
    "#A red brick conduit 10 in square has a surface temperature of 300F and is \n",
    "#mounted inside a large earthen chamber whose walls are at 50 F. estimate\n",
    "#the heat loss from the conduit by radiation\n",
    "import math\n",
    "#initialisation of variables\n",
    "T= 300. \t\t\t\t\t\t\t\t\t\t\t\t#F\n",
    "T1= 50. \t\t\t\t\t\t\t\t\t\t\t\t#F\n",
    "s= 0.17*math.pow(10,-8) \t\t\t\t\t\t\t\t#Btu/hr ft^2 R^4\n",
    "e1= 0.93\n",
    "A= 10. \t\t\t\t\t\t\t\t\t\t\t\t\t#in\n",
    "F= 1.\n",
    "#CALCULATIONS\n",
    "A1= 10*(40./(12.*10.)) \t\t\t\t\t\t\t\t\t#Area\n",
    "q= A1*F*e1*s*(math.pow((T+460),4)-math.pow((T1+460),4)) #heat loss\n",
    "#RESULTS\n",
    "print '%s %.2f' % ('Heat loss from the conduit by radiation (Btu/hr per ft) = ',q)\n",
    "raw_input('press enter key to exit')"
   ]
  },
  {
   "cell_type": "markdown",
   "metadata": {},
   "source": [
    "## Exa 14.6"
   ]
  },
  {
   "cell_type": "code",
   "execution_count": 5,
   "metadata": {
    "collapsed": false
   },
   "outputs": [
    {
     "name": "stdout",
     "output_type": "stream",
     "text": [
      "Radiation heat transfer coefficient (Btu/hr ft^2 R) =  1.68\n",
      "press enter key to exit\n"
     ]
    },
    {
     "data": {
      "text/plain": [
       "''"
      ]
     },
     "execution_count": 5,
     "metadata": {},
     "output_type": "execute_result"
    }
   ],
   "source": [
    "#Estimate the radiation heat transfer coefficient for solved problem 5\n",
    "import math\n",
    "#initialisation of variables\n",
    "T= 300. \t\t\t\t\t\t\t\t\t\t\t\t\t\t#F\n",
    "T1= 50. \t\t\t\t\t\t\t\t\t\t\t\t\t\t#F\n",
    "s= 0.17*math.pow(10,-8) \t\t\t\t\t\t\t\t\t\t#Btu/hr ft^2 R^4\n",
    "e1= 0.93\n",
    "F= 1.\n",
    "#CALCULATIONS\n",
    "hr= F*e1*s*(math.pow((T+460),4)-math.pow((T1+460),4))/(T-T1)\t#Radiation heat transfer coefficient \n",
    "#RESULTS\n",
    "print '%s %.2f' % ('Radiation heat transfer coefficient (Btu/hr ft^2 R) = ',hr)\n",
    "raw_input('press enter key to exit')"
   ]
  },
  {
   "cell_type": "markdown",
   "metadata": {},
   "source": [
    "## Exa 14.7"
   ]
  },
  {
   "cell_type": "code",
   "execution_count": 8,
   "metadata": {
    "collapsed": false
   },
   "outputs": [
    {
     "name": "stdout",
     "output_type": "stream",
     "text": [
      "Heat transfer coefficient for nucleate boiling (W/m^2 C) =  6.21e+08\n",
      "press enter key to exit\n"
     ]
    },
    {
     "data": {
      "text/plain": [
       "''"
      ]
     },
     "execution_count": 8,
     "metadata": {},
     "output_type": "execute_result"
    }
   ],
   "source": [
    "import math\n",
    "#initialisation of variables\n",
    "P= 1. #atm\n",
    "T= 11. #C\n",
    "Csf= 0.006\n",
    "Tsat = 170.03\n",
    "r= 1./3.\n",
    "s= 1.\n",
    "dt = Tsat - T\n",
    "cl= 4.218 #J/gm K\n",
    "hfg= 2257 #J/gm\n",
    "Pr= 1.75\n",
    "ul= 283.1/1000. #gm/m s\n",
    "s= 57.78/1000. #N/m\n",
    "pl= 958*1000. #gm/m^3\n",
    "pv= 598. #gm/m^3\n",
    "gc= 1000. #gm m/N s^2\n",
    "g= 9.8 #m/s^2\n",
    "#CALCULATIONS\n",
    "p= pl-pv\n",
    "q= ((math.pow(((cl*dt)/(hfg*Csf*math.pow(Pr,s))),(1/r)))*(ul*hfg))/math.pow(gc/(g*p),(1./2.))\n",
    "h= q/T\n",
    "#RESULTS\n",
    "print '%s %.2e' % ('Heat transfer coefficient for nucleate boiling (W/m^2 C) = ',h)\n",
    "raw_input('press enter key to exit')"
   ]
  }
 ],
 "metadata": {
  "kernelspec": {
   "display_name": "Python 2",
   "language": "python",
   "name": "python2"
  },
  "language_info": {
   "codemirror_mode": {
    "name": "ipython",
    "version": 2
   },
   "file_extension": ".py",
   "mimetype": "text/x-python",
   "name": "python",
   "nbconvert_exporter": "python",
   "pygments_lexer": "ipython2",
   "version": "2.7.6"
  }
 },
 "nbformat": 4,
 "nbformat_minor": 0
}
