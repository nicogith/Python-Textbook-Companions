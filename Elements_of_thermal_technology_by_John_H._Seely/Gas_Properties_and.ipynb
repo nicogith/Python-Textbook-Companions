{
 "cells": [
  {
   "cell_type": "markdown",
   "metadata": {},
   "source": [
    "# Chapter 9: Gas Properties and Processes"
   ]
  },
  {
   "cell_type": "markdown",
   "metadata": {},
   "source": [
    "## Exa 9.1"
   ]
  },
  {
   "cell_type": "code",
   "execution_count": 1,
   "metadata": {
    "collapsed": false
   },
   "outputs": [
    {
     "name": "stdout",
     "output_type": "stream",
     "text": [
      "Molecular weight of the gas (lbm/lbm mol) =  24.14\n",
      "press enter key to exit\n"
     ]
    },
    {
     "data": {
      "text/plain": [
       "''"
      ]
     },
     "execution_count": 1,
     "metadata": {},
     "output_type": "execute_result"
    }
   ],
   "source": [
    "#A 15 ft^3 volume of an ideal gas has a mass of 20 lbm at 80F and 320 psia.\n",
    "#What is the molecular weight of the gas?\n",
    "#initialisation of variables\n",
    "v= 15 \t\t\t\t\t\t#ft^3\n",
    "m= 20 \t\t\t\t\t\t#lbm\n",
    "T= 80 \t\t\t\t\t\t#lbf\n",
    "P= 320 \t\t\t\t\t\t#psia\n",
    "#CALCULATIONS\n",
    "R= P*144*v/(m*(T+460.)) \t#Universal gas constant\n",
    "M= 1545./R \t\t\t\t\t#Molecular weight\n",
    "#RESULTS\n",
    "print '%s %.2f' % ('Molecular weight of the gas (lbm/lbm mol) = ',M)\n",
    "raw_input('press enter key to exit')"
   ]
  },
  {
   "cell_type": "markdown",
   "metadata": {},
   "source": [
    "## Exa 9.2"
   ]
  },
  {
   "cell_type": "code",
   "execution_count": 2,
   "metadata": {
    "collapsed": false
   },
   "outputs": [
    {
     "name": "stdout",
     "output_type": "stream",
     "text": [
      "Initial Mass of Oxygen (gm) =  1287.93\n",
      " \n",
      " Final mass of oxygen (gm) =  413.69\n",
      "press enter key to exit\n"
     ]
    },
    {
     "data": {
      "text/plain": [
       "''"
      ]
     },
     "execution_count": 2,
     "metadata": {},
     "output_type": "execute_result"
    }
   ],
   "source": [
    "#A 50 ltr liter of oxygen is initially at 20 atm and 30C. A sufficient of \n",
    "#amount of oxygen is removed to change the state to 6 atm and 10C. \n",
    "#Determine (a) the initial mass of oxygen and (b) final mass of oxygen.\n",
    "#initialisation of variables\n",
    "V= 50 \t\t\t\t\t\t\t#lit\n",
    "P= 20 \t\t\t\t\t\t\t#atm\n",
    "T= 30 \t\t\t\t\t\t\t#C\n",
    "P1= 6 \t\t\t\t\t\t\t#atm\n",
    "T1= 10 \t\t\t\t\t\t\t#C\n",
    "M= 32 \t\t\t\t\t\t\t#gm/gm mol\n",
    "#CALCULATIONS\n",
    "n= V*P/(0.082*(T+273.)) \t\t#No. of moles\n",
    "m= n*M \t\t\t\t\t\t\t#Mass\n",
    "n2= P1*V/(0.082*(T1+273.)) \t\t#No. of moles\n",
    "m2= n2*M \t\t\t\t\t\t#Mass\n",
    "#RESULTS\n",
    "print '%s %.2f' % ('Initial Mass of Oxygen (gm) = ',m)\n",
    "print '%s %.2f' % (' \\n Final mass of oxygen (gm) = ',m2)\n",
    "raw_input('press enter key to exit')"
   ]
  },
  {
   "cell_type": "markdown",
   "metadata": {},
   "source": [
    "## Exa 9.3"
   ]
  },
  {
   "cell_type": "code",
   "execution_count": 3,
   "metadata": {
    "collapsed": false
   },
   "outputs": [
    {
     "name": "stdout",
     "output_type": "stream",
     "text": [
      "Final volume (ft^3) =  0.32\n",
      " \n",
      " Final temperature (R) =  637.84\n",
      "press enter key to exit\n"
     ]
    },
    {
     "data": {
      "text/plain": [
       "''"
      ]
     },
     "execution_count": 3,
     "metadata": {},
     "output_type": "execute_result"
    }
   ],
   "source": [
    "#If 0.75 ft^3 of a gas at 1 atm and 35F is compressed polytropically to a\n",
    "#pressure of 3 atm, determine the final volume and temperature. \n",
    "#The polytropic exponent is 1.3\n",
    "import math\n",
    "#initialisation of variables\n",
    "V2= 0.75 \t\t\t\t\t\t\t\t\t\t\t #ft^3\n",
    "P2= 1 \t\t\t\t\t\t\t\t\t\t\t\t #atm\n",
    "P1= 3 \t\t\t\t\t\t\t\t\t\t\t  \t #atm\n",
    "T= 35 \t\t\t\t\t\t\t\t\t\t\t\t #F\n",
    "e= 1.3\n",
    "#CALCULATIONS\n",
    "V1= math.pow(((P2*math.pow((V2),e))/P1),(1/e)) #Final volume\n",
    "T2= P1*V1*(T+460.)/(P2*V2) \t\t\t\t\t\t\t #Final temperature\n",
    "#RESULTS\n",
    "print '%s %.2f' % ('Final volume (ft^3) = ',V1)\n",
    "print '%s %.2f' % (' \\n Final temperature (R) = ',T2)\n",
    "raw_input('press enter key to exit')"
   ]
  },
  {
   "cell_type": "markdown",
   "metadata": {},
   "source": [
    "## Exa 9.4"
   ]
  },
  {
   "cell_type": "code",
   "execution_count": 4,
   "metadata": {
    "collapsed": false
   },
   "outputs": [
    {
     "name": "stdout",
     "output_type": "stream",
     "text": [
      "T1 (K) =  160.22\n",
      " \n",
      " T2 (K) =  160.22\n",
      " \n",
      " T3 (K) =  211.42\n",
      " \n",
      " P2 (Pa) =  3.45e+05\n",
      " \n",
      " P3 (Pa) =  9.10e+05\n",
      "press enter key to exit\n"
     ]
    },
    {
     "data": {
      "text/plain": [
       "''"
      ]
     },
     "execution_count": 4,
     "metadata": {},
     "output_type": "execute_result"
    }
   ],
   "source": [
    "#A rigid container holds a 0.45 kg mass of air with a volume of 0.03 m^3\n",
    "#and an absolue pressure of 6.9x 10^5 pa. the air is expanded reversibly\n",
    "#and adiabatically to 0.03 m^3. The air is then returned to its initial \n",
    "#state by a rreversible constant volume process. Determine the pressure and\n",
    "#temperature at each state \n",
    "import math\n",
    "#initialisation of variables\n",
    "m= 0.45 \t\t\t\t\t\t#kg\n",
    "v1= 0.03 \t\t\t\t\t\t#m^3\n",
    "v2= 0.06 \t\t\t\t\t\t#m^3\n",
    "P= 6.9*100000. \t\t\t\t\t#Pa\n",
    "K= 1.4\n",
    "R= 287.1 \t\t\t\t\t\t#J/Kg K\n",
    "#CALCULATIONS\n",
    "T1= (P*v1)/(m*R) \t\t\t\t#Temperature\n",
    "T2= T1 \t\t\t\t\t\t\t#Temperature\n",
    "P2= P*v1/v2  \t\t\t\t\t#Pressure\n",
    "T3= T2*math.pow((v2/v1),(K-1)) \t#Temperature\n",
    "P3= P2*math.pow((v2/v1),K) \t\t#Pressure\t\n",
    "#RESULTS\n",
    "print '%s %.2f' % ('T1 (K) = ',T1)\n",
    "print '%s %.2f' % (' \\n T2 (K) = ',T2)\n",
    "print '%s %.2f' % (' \\n T3 (K) = ',T3)\n",
    "print '%s %.2e' % (' \\n P2 (Pa) = ',P2)\n",
    "print '%s %.2e' % (' \\n P3 (Pa) = ',P3)\n",
    "raw_input('press enter key to exit')"
   ]
  },
  {
   "cell_type": "markdown",
   "metadata": {},
   "source": [
    "## Exa 9.5"
   ]
  },
  {
   "cell_type": "code",
   "execution_count": 5,
   "metadata": {
    "collapsed": false
   },
   "outputs": [
    {
     "name": "stdout",
     "output_type": "stream",
     "text": [
      "Work associated with the process (Btu/lbm) =  -46.32\n",
      "press enter key to exit\n"
     ]
    },
    {
     "data": {
      "text/plain": [
       "''"
      ]
     },
     "execution_count": 5,
     "metadata": {},
     "output_type": "execute_result"
    }
   ],
   "source": [
    "#Nitrogen is compressed in a reversible polytropic process from 1 atm and 60 F\n",
    "#to 4 atm. Calculate the work associated with the process if the polytropic \n",
    "#exponent is 1.3\n",
    "import math\n",
    "#initialisation of variables\n",
    "P= 1 \t\t\t\t\t\t\t\t\t#atm\n",
    "T= 60 \t\t\t\t\t\t\t\t\t#F\n",
    "P1= 4 \t\t\t\t\t\t\t\t\t#atm\n",
    "e= 1.3\n",
    "R= 55.15 \t\t\t\t\t\t\t\t#lbf/lbm R\n",
    "m= 778\n",
    "#CALCULATIONS\n",
    "T2= (T+460)*math.pow((P1/P),((e-1)/e))\t#Temperature final\n",
    "W= R*(T2-(T+460))/(1-e) \t\t\t\t#Work\n",
    "W1= W/m \t\t\t\t\t\t\t\t#Work per unit mass\n",
    "#RESLUTS\n",
    "print '%s %.2f' % ('Work associated with the process (Btu/lbm) = ',W1)\n",
    "raw_input('press enter key to exit')"
   ]
  },
  {
   "cell_type": "markdown",
   "metadata": {},
   "source": [
    "## Exa 9.6"
   ]
  },
  {
   "cell_type": "code",
   "execution_count": 6,
   "metadata": {
    "collapsed": false
   },
   "outputs": [
    {
     "name": "stdout",
     "output_type": "stream",
     "text": [
      "Total volume (ft^3) =  150.00\n",
      "press enter key to exit\n"
     ]
    },
    {
     "data": {
      "text/plain": [
       "''"
      ]
     },
     "execution_count": 6,
     "metadata": {},
     "output_type": "execute_result"
    }
   ],
   "source": [
    "#Determine the total pressure of a mixture of 10 lbm oxygen and \n",
    "#15 lbm nitrogen at 120F in a rigid tank of 150 ft^3. Show that\n",
    "#the total volume is the sum of the partial volumes?\n",
    "import math\n",
    "#initialisation of variables\n",
    "m= 10 \t\t\t\t\t\t#lbm\n",
    "R= 48.28 \t\t\t\t\t#lbf/lbm R\n",
    "T= 120 \t\t\t\t\t\t#F\n",
    "V= 150 \t\t\t\t\t\t#ft^3\n",
    "m1= 15 \t\t\t\t\t\t#lbm\n",
    "R1= 55.15 \t\t\t\t\t#lbf/lbm R\n",
    "#CALCULATIONS \n",
    "P1= (m*R*(T+460))/V \t\t#Pressure of Oxygen\n",
    "P2= (m1*R1*(T+460))/V \t\t#Pressure of Nitrogen\n",
    "Pm= P1+P2 \t\t\t\t\t#Total pressure\n",
    "V1= (m*R*(T+460))/Pm \t\t#Volume of Oxygen\n",
    "V2= (m1*R1*(T+460))/Pm \t\t#Volume of Nitrogen\n",
    "Vm= V1+V2 \t\t\t\t\t#Total volume\n",
    "#RESULTS\n",
    "print '%s %.2f' % ('Total volume (ft^3) = ',Vm)\n",
    "raw_input('press enter key to exit')"
   ]
  }
 ],
 "metadata": {
  "kernelspec": {
   "display_name": "Python 2",
   "language": "python",
   "name": "python2"
  },
  "language_info": {
   "codemirror_mode": {
    "name": "ipython",
    "version": 2
   },
   "file_extension": ".py",
   "mimetype": "text/x-python",
   "name": "python",
   "nbconvert_exporter": "python",
   "pygments_lexer": "ipython2",
   "version": "2.7.6"
  }
 },
 "nbformat": 4,
 "nbformat_minor": 0
}
