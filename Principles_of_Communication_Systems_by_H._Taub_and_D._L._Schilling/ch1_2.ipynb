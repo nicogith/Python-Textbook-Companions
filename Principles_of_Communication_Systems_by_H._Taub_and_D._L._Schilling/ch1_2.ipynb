{
 "metadata": {
  "name": "",
  "signature": "sha256:8ebe14c3ff9c6260457f44fd6a134b3f28bd2979c1183c71a3f601447ae11db7"
 },
 "nbformat": 3,
 "nbformat_minor": 0,
 "worksheets": [
  {
   "cells": [
    {
     "cell_type": "heading",
     "level": 1,
     "metadata": {},
     "source": [
      "Chapter 1 : Introduction of Signals and Spectra"
     ]
    },
    {
     "cell_type": "heading",
     "level": 2,
     "metadata": {},
     "source": [
      "Example 1.1  Page No : 12"
     ]
    },
    {
     "cell_type": "code",
     "collapsed": false,
     "input": [
      "import math \n",
      "from scipy.integrate import quad\n",
      "#page 12\n",
      "#problem 1.1\n",
      "\n",
      "#Given signal u  =  2*math.exp(-3*t) \n",
      "\n",
      "#Since the function integral does not accept %inf as limit we need to use approximation by changing variables.\n",
      "\n",
      "#First the signal is to be expressed in terms of 'x'.\n",
      "\n",
      "def Signal(x):\n",
      "    return 2*math.exp(-3*x); \n",
      "\n",
      "#We then substitute x  =  math.tan(z), and then express the given signal wrt 'z' and not 'x'.\n",
      "\n",
      "def Gmodified(z):\n",
      "    x = math.tan(z); \n",
      "    return (Signal(x))**2/(math.cos(z))**2; \n",
      "\n",
      "E  =  quad(Gmodified,0,math.atan(10))[0]\n",
      "\n",
      "# Results\n",
      "print 'The energy of this signal is %.3f'%E\n"
     ],
     "language": "python",
     "metadata": {},
     "outputs": [
      {
       "output_type": "stream",
       "stream": "stdout",
       "text": [
        "The energy of this signal is 0.667\n"
       ]
      }
     ],
     "prompt_number": 5
    },
    {
     "cell_type": "heading",
     "level": 2,
     "metadata": {},
     "source": [
      "Example 1.2  Page No : 12"
     ]
    },
    {
     "cell_type": "code",
     "collapsed": false,
     "input": [
      "import math \n",
      "from scipy.integrate import quad \n",
      "\n",
      "\n",
      "#Given signal u  =  2*math.sin(0.5*math.pi*t) \n",
      "\n",
      "#Since u is periodic, averaging over -infinity to + infinity will give the same result as averaging over -2 to 2, where 4 is the time period.\n",
      "t0  =  -2;\n",
      "t1  =  2;\n",
      "\n",
      "# Calculations\n",
      "def f1(t): \n",
      "\t return (2*math.sin(0.5*math.pi*t))**2\n",
      "\n",
      "E  =   quad(f1,t0,t1)[0]\n",
      "\n",
      "\n",
      "# Results\n",
      "print 'The power of the signal is ',E\n"
     ],
     "language": "python",
     "metadata": {},
     "outputs": [
      {
       "output_type": "stream",
       "stream": "stdout",
       "text": [
        "The power of the signal is  8.0\n"
       ]
      }
     ],
     "prompt_number": 6
    },
    {
     "cell_type": "heading",
     "level": 2,
     "metadata": {},
     "source": [
      "Example 1.3  Page No : 18"
     ]
    },
    {
     "cell_type": "code",
     "collapsed": false,
     "input": [
      "%matplotlib inline\n",
      "from matplotlib.pyplot import plot,subplot,xlabel,ylabel\n",
      "import math \n",
      "from numpy import arange,zeros\n",
      "#page 18\n",
      "#problem 1.3\n",
      "\n",
      "#u1(T) vs T\n",
      "T  =  arange(-5,5+0.0082,0.0082)\n",
      "u1 = zeros(len(T))\n",
      "u1[T <= 0]  =  0;\n",
      "u1[T>0]  =  1;\n",
      "xlabel('T');\n",
      "ylabel('u(T)')\n",
      "\n",
      "subplot(131);\n",
      "plot(T,u1);\n",
      "\n",
      "#u2(T-t) vs T\n",
      "#Shifting the given signal by t units to the right, we get\n",
      "#Let us assume the amount of time to be shited is 3 units \n",
      "t  =  3;\n",
      "\n",
      "T  =  arange(-5,5+0.0082,0.0082)\n",
      "u2 = zeros(len(T))\n",
      "u2[T<= t]  =  0;\n",
      "u2[T>t]  =  1;\n",
      "xlabel('T');\n",
      "ylabel('u(T - t)')\n",
      "\n",
      "subplot(132);\n",
      "plot(T,u2);\n",
      "\n",
      "#u(t - T)  =  u(-(T - t))\n",
      "\n",
      "T  =  arange(-5,5+0.0082,0.0082)\n",
      "u3 = zeros(len(T))\n",
      "u3[T>= t]  =  0;\n",
      "u3[T<t]  =  1;\n",
      "xlabel('T');\n",
      "ylabel('u(t - T)')\n",
      "\n",
      "subplot(133);\n",
      "plot(T,u3);\n"
     ],
     "language": "python",
     "metadata": {},
     "outputs": [
      {
       "metadata": {},
       "output_type": "display_data",
       "png": "[encoded data removed]",
       "text": [
        "<matplotlib.figure.Figure at 0x10a0c5190>"
       ]
      }
     ],
     "prompt_number": 7
    },
    {
     "cell_type": "heading",
     "level": 2,
     "metadata": {},
     "source": [
      "Example 1.4  Page No : 18"
     ]
    },
    {
     "cell_type": "code",
     "collapsed": false,
     "input": [
      "%matplotlib inline\n",
      "from matplotlib.pyplot import plot,subplot,xlabel,ylabel\n",
      "import math \n",
      "from numpy import arange,zeros\n",
      "\n",
      "#u1(t)\n",
      "t  =  arange(-5,5+0.0082,0.0082)\n",
      "u1 = zeros(len(t))\n",
      "u1[t<= 0]  =  0;\n",
      "u1[t>0]  =  1;\n",
      "\n",
      "xlabel('t');\n",
      "ylabel('u(t)')\n",
      "\n",
      "subplot(131);\n",
      "plot(t,u1);\n",
      "\n",
      "#u2(t-T)\n",
      "#Shifting the given signal by t units to the right, we get\n",
      "#Let us assume the amount of time to be shited is 3 units \n",
      "T  =  3;\n",
      "\n",
      "t  =  arange(-5,5+0.0082,0.0082)\n",
      "u2 = zeros(len(t))\n",
      "u2[t<= T]  =  0;\n",
      "u2[t>T]  =  1;\n",
      "\n",
      "xlabel('t');\n",
      "ylabel('u(t-T)')\n",
      "\n",
      "subplot(132);\n",
      "plot(t,u2);\n",
      "\n",
      "\n",
      "#u(t) - u(t - T)\n",
      "\n",
      "t  =  arange(-5,5+0.0082,0.0082)\n",
      "u3  =  u1 - u2;\n",
      "\n",
      "xlabel('t');\n",
      "ylabel('u(t) - u(t-T)')\n",
      "\n",
      "subplot(133);\n",
      "plot(t,u3);"
     ],
     "language": "python",
     "metadata": {},
     "outputs": [
      {
       "metadata": {},
       "output_type": "display_data",
       "png": "[encoded data removed]",
       "text": [
        "<matplotlib.figure.Figure at 0x10b19a890>"
       ]
      }
     ],
     "prompt_number": 1
    },
    {
     "cell_type": "heading",
     "level": 2,
     "metadata": {},
     "source": [
      "Example 1.5  Page No : 18"
     ]
    },
    {
     "cell_type": "code",
     "collapsed": false,
     "input": [
      "%matplotlib inline\n",
      "import math \n",
      "from scipy.integrate import quad \n",
      "from numpy import arange,zeros\n",
      "from matplotlib.pyplot import subplot,xlabel,ylabel,plot\n",
      "#page 18\n",
      "#problem 1.5\n",
      "\n",
      "#V1(t)  =  u(t) - u(t - 5)\n",
      "t  =  arange(-5,5+0.1,0.1)\n",
      "V1 = zeros(len(t))\n",
      "V1[t<= 0]  =  0;\n",
      "V1[t>0]  =  1;\n",
      "\n",
      "xlabel('t');\n",
      "ylabel('V1(t)')\n",
      "subplot(121);\n",
      "plot(t,V1);\n",
      "\n",
      "\n",
      "#V2(t)  =  2*t*(u(t) - u(t - 3))\n",
      "t  =  arange(0,3+0.1,3);\n",
      "V2  =  2*t;\n",
      "\n",
      "xlabel('t');\n",
      "ylabel('V2(t)')\n",
      "subplot(122);\n",
      "plot(t,V2);\n",
      "\n",
      "#Autocorrelation R12(0)  =  R\n",
      "\n",
      "\n",
      "def f2(t): \n",
      "\t return 2*t\n",
      "\n",
      "R  =   quad(f2,0,3)[0]\n",
      "\n",
      "def f3(t): \n",
      "\t return 1\n",
      "\n",
      "E1  =   quad(f3,0,5)[0]\n",
      "\n",
      "#In the textbook, E2 has been computed as 18 instead of 36\n",
      "\n",
      "def f4(t): \n",
      "\t return 4*t**2\n",
      "\n",
      "E2  =   quad(f4,0,3)[0]\n",
      "\n",
      "c  =  R/(E1*E2)**0.5;\n",
      "\n",
      "print 'The correlation term R12(0) is ',R\n",
      "print 'The autocorrelation term R1(0) is ',E1;\n",
      "print 'The autocorrelation term R2(0) is ',E2;\n"
     ],
     "language": "python",
     "metadata": {},
     "outputs": [
      {
       "output_type": "stream",
       "stream": "stdout",
       "text": [
        "The correlation term R12(0) is  9.0\n",
        "The autocorrelation term R1(0) is  5.0\n",
        "The autocorrelation term R2(0) is  36.0\n"
       ]
      },
      {
       "metadata": {},
       "output_type": "display_data",
       "png": "[encoded data removed]",
       "text": [
        "<matplotlib.figure.Figure at 0x10acaefd0>"
       ]
      }
     ],
     "prompt_number": 10
    },
    {
     "cell_type": "heading",
     "level": 2,
     "metadata": {},
     "source": [
      "Example 1.6  Page No : 19"
     ]
    },
    {
     "cell_type": "code",
     "collapsed": false,
     "input": [
      "%matplotlib inline\n",
      "import math \n",
      "from scipy.integrate import quad \n",
      "from numpy import arange,zeros\n",
      "from matplotlib.pyplot import subplot,xlabel,ylabel,plot\n",
      "\n",
      "#V1(t)  =  u(t) - u(t - 5)\n",
      "t  =  arange(-5,5+0.1,.1)\n",
      "V1 = zeros(len(t))\n",
      "V1[t<= 0]  =  0;\n",
      "V1[t>0]  =  1;\n",
      "\n",
      "xlabel('t');\n",
      "ylabel('V1(t)')\n",
      "subplot(121);\n",
      "plot(t,V1);\n",
      "\n",
      "\n",
      "#V2(t)  =  2*t*(u(t) - u(t - 3))\n",
      "t  =  arange(0,3+0.1,.1)\n",
      "V2  =  2*t;\n",
      "\n",
      "xlabel('t');\n",
      "ylabel('V2(t)')\n",
      "subplot(122);\n",
      "plot(t,V2);\n",
      "\n",
      "#Autocorrelation R12(1)  =  Ra\n",
      "#The range is t  =  0 to 2, as signal V2(t) has been shifted left by one unit, V2(t-1)\n",
      "\n",
      "def f5(t): \n",
      "\t return 2*(t+1)\n",
      "\n",
      "Ra  =   quad(f5,0,2)[0]\n",
      "\n",
      "print 'The correlation term R12(1) is ',Ra\n",
      "\n",
      "#Autocorrelation R12(-1)  =  Rb\n",
      "#The range is t  =  1 to 4, as signal V2(t) has been shifted right by one unit, V2(t+1)\n",
      "\n",
      "def f6(t): \n",
      "\t return 2*(t-1)\n",
      "\n",
      "Rb  =   quad(f6,1,4)[0]\n",
      "\n",
      "print 'The correlation term R12(-1) is ',Rb"
     ],
     "language": "python",
     "metadata": {},
     "outputs": [
      {
       "output_type": "stream",
       "stream": "stdout",
       "text": [
        "The correlation term R12(1) is  8.0\n",
        "The correlation term R12(-1) is  9.0\n"
       ]
      },
      {
       "metadata": {},
       "output_type": "display_data",
       "png": "[encoded data removed]",
       "text": [
        "<matplotlib.figure.Figure at 0x10867be90>"
       ]
      }
     ],
     "prompt_number": 11
    }
   ],
   "metadata": {}
  }
 ]
}