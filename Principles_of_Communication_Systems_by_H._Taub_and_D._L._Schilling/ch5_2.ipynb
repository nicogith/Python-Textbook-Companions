{
 "metadata": {
  "name": "",
  "signature": "sha256:5793f691824ce44b1dde15143343da25fb97fe783e8f0a99ffc736dcaee6fd98"
 },
 "nbformat": 3,
 "nbformat_minor": 0,
 "worksheets": [
  {
   "cells": [
    {
     "cell_type": "heading",
     "level": 1,
     "metadata": {},
     "source": [
      "Chapter 5 :  Pulse Modulation and Digital Transmission of Analog Signal"
     ]
    },
    {
     "cell_type": "heading",
     "level": 2,
     "metadata": {},
     "source": [
      "Example 5.2  Page No : 247"
     ]
    },
    {
     "cell_type": "code",
     "collapsed": false,
     "input": [
      "import math \n",
      "#page 247\n",
      "#problem 5.2\n",
      "\n",
      "#Highest frequency(fH)  =  10000/2  =  5000 Hz \n",
      "fH  =  5000.\n",
      "#Lowest frequency(fL)  =  6000/2  =  3000 Hz\n",
      "fL  =  3000.\n",
      "#Minimum sampling frequency from low pass consideration(S_LOW)  =  2*fH\n",
      "S_LOW  =  2*fH\n",
      "\n",
      "print 'Minimum sampling frequency from low pass consideration is ',S_LOW,' Hz'\n",
      "\n",
      "#B  =  fH-fL  =  2000 Hz\n",
      "B  =  fH-fL\n",
      "#k  =  floor(fH/B)  =  2, where floor(x) gives the largest integer that does not exceed x\n",
      "k  =  math.floor(fH/B)\n",
      "\n",
      "#The required sampling frequency from band pass consideration(S_BAND)  =  2*fH/k\n",
      "S_BAND  =  2*fH/k\n",
      "\n",
      "print 'Minimum sampling frequency from band pass consideration is ',S_BAND,' Hz'\n"
     ],
     "language": "python",
     "metadata": {},
     "outputs": [
      {
       "output_type": "stream",
       "stream": "stdout",
       "text": [
        "Minimum sampling frequency from low pass consideration is  10000.0  Hz\n",
        "Minimum sampling frequency from band pass consideration is  5000.0  Hz\n"
       ]
      }
     ],
     "prompt_number": 1
    },
    {
     "cell_type": "heading",
     "level": 2,
     "metadata": {},
     "source": [
      "Example 5.3  Page No : 259"
     ]
    },
    {
     "cell_type": "code",
     "collapsed": false,
     "input": [
      "import math \n",
      "#page 259\n",
      "#problem 5.3\n",
      "\n",
      "#Given width of each pulse W  =  150 us\n",
      "W  =  150. * 10**-6\n",
      "\n",
      "#One cycle is a period,T  =  1ms\n",
      "T  =  1000. * 10**-6\n",
      "\n",
      "#There are 5 messages multiplexed each utilizeallocated time pulse width  =  s(T_5)  =  T/5\n",
      "T_5  =  T/5\n",
      "\n",
      "#Gaurd time(GT_5)  =  allocated time-pulse width  =  T_5-W\n",
      "GT_5  =  T_5-W\n",
      "\n",
      "print 'Gaurd time where 5 messages multiplexed is ',GT_5,' seconds'\n",
      "\n",
      "#Here there are 10 messages multiplexed each utilizeallocated time pulse width  =  s(T_10)  =  T/10\n",
      "T_10  =  T/10\n",
      "\n",
      "#Gaurd time(GT_10)  =  allocated time-pulse width  =  T_10-norrow pulses width  =  T_10 -50* 10**-6\n",
      "GT_10  =  T_10 - 50 * 10**-6\n",
      "\n",
      "print 'Gaurd time where 10 messages multiplexed is ',GT_10,' seconds'\n"
     ],
     "language": "python",
     "metadata": {},
     "outputs": [
      {
       "output_type": "stream",
       "stream": "stdout",
       "text": [
        "Gaurd time where 5 messages multiplexed is  5e-05  seconds\n",
        "Gaurd time where 10 messages multiplexed is  5e-05  seconds\n"
       ]
      }
     ],
     "prompt_number": 2
    },
    {
     "cell_type": "heading",
     "level": 2,
     "metadata": {},
     "source": [
      "Example 5.5  Page No : 272"
     ]
    },
    {
     "cell_type": "code",
     "collapsed": false,
     "input": [
      "import math \n",
      "\n",
      "#Let Abe the maximum value of the discrete samples.\n",
      "#Error tolerated is 0.1% i.e. 0.001A\n",
      "#If D is step size then possible maximum error is D/2\n",
      "#Thus D/2  =  0.001A or A/D  =  500  =  no of levels required(Levels)\n",
      "Levels  =  500.\n",
      "\n",
      "#minimum no of binary digits required(B)  =  rounded value to the next higher integer of math.log2 (Levels)\n",
      "B  =  round(math.log(Levels))\n",
      "\n",
      "print 'Minimum no of binary digits required ',B\n"
     ],
     "language": "python",
     "metadata": {},
     "outputs": [
      {
       "output_type": "stream",
       "stream": "stdout",
       "text": [
        "Minimum no of binary digits required  6.0\n"
       ]
      }
     ],
     "prompt_number": 5
    },
    {
     "cell_type": "heading",
     "level": 2,
     "metadata": {},
     "source": [
      "Example 5.6  Page No : 273"
     ]
    },
    {
     "cell_type": "code",
     "collapsed": false,
     "input": [
      "import math \n",
      "\n",
      "#The y axis is uniformly quantized with step size(step_size)  =  1/((2**8)/(2-1)) in both +ve & -ve direction between 1 & -1 when peak of input varies between 1 & -1.\n",
      "#The smallest step in x direction occurs nearest to x = 0 i.e between y1  =  0 & y2  =  step_size\n",
      "step_size  =  1./((2**8)/2-1)\n",
      "y1  =  0.\n",
      "y2  =  step_size\n",
      "\n",
      "#Then, y1  =  (ln(1+255*x1))/(ln(1+255))\n",
      "\n",
      "x1  =  (math.e**(y1*math.log(256)) - 1)/255;\n",
      "\n",
      "#y2  =  (ln(1+255*x2))/(ln(1+255))\n",
      "x2  =  (math.e**(y2*math.log(256)) - 1)/255;\n",
      "\n",
      "#The smallest step size is 10*(x2-x1)\n",
      "print 'The smallest step size is ',round(10*(x2-x1),4),' Volts'\n",
      "\n",
      "#The largest step size occurs when x is at its extreme between y1  =  1-1/127  =  126/127 & y2  =  1\n",
      "y1  =  1-1/127.\n",
      "y2  =  1\n",
      "\n",
      "#Then, y1  =  (ln(1+255*x1))/(ln(1+255))\n",
      "\n",
      "x1  =  (math.e**(y1*math.log(256)) - 1)/255;\n",
      "\n",
      "#y2  =  (ln(1+255*x2))/(ln(1+255))\n",
      "x2  =  (math.e**(y2*math.log(256)) - 1)/255;\n",
      "\n",
      "#The largest step size is 10*(x2-x1)\n",
      "print 'The largest step size is ',round(10*(x2-x1),4),' Volts'\n"
     ],
     "language": "python",
     "metadata": {},
     "outputs": [
      {
       "output_type": "stream",
       "stream": "stdout",
       "text": [
        "The smallest step size is  0.0018  Volts\n",
        "The largest step size is  0.4289  Volts\n"
       ]
      }
     ],
     "prompt_number": 1
    },
    {
     "cell_type": "heading",
     "level": 2,
     "metadata": {},
     "source": [
      "Example 5.9  Page No : 296"
     ]
    },
    {
     "cell_type": "code",
     "collapsed": false,
     "input": [
      "import math \n",
      "from numpy import zeros\n",
      "\n",
      "#for error calculation e(n)  =  m(n) - [**hj(n)*m(n-1)+**hj(n)*m(n-2)+**hj(n)*m(n-3)+ ........+**hj(n)*m(n-N)]\n",
      "\n",
      "#for coefficient upgradation **hj(n+1)  =  **hj(n)+um(n-j)e(n) where u  =  learning parameter  =  0.1.\n",
      "u  =  0.1\n",
      "\n",
      "#Assign m values taking from m  =  -3 to 5\n",
      "#Denoting m(x) as matrix m where each element repesents from n  =  -3 to 5  \n",
      "m  =  [0, 0, 0, 1, 2, 3, 4, 5, 6]\n",
      "\n",
      "#taking e(n) as matrix e, **hj(n) as matrises h_j\n",
      "e  =  zeros(5)\n",
      "h_1  =  zeros(6)\n",
      "h_2  =  zeros(6)\n",
      "\n",
      "#given **h1(0) =  **h2(0)  =  0\n",
      "\n",
      "for i  in range(5):\n",
      "    e[i]  =  m[i+3] - h_1[i]*m[i+2] - h_2[i]*m[i+1]\n",
      "    h_1[i+1]  =  h_1[i] + u*m[i+2]*e[i]\n",
      "    h_2[i+1]  =  h_2[i] + u*m[i+1]*e[i]\n",
      "\n",
      "\n",
      "#here e(3) is given as 1.32 but it is print laying 0.92\n",
      "#here **h2(3) is given as 0.26 but it is print laying 0.46\n",
      "\n",
      "for i  in range(5):\n",
      "    print 'e(',i,')  =  ',e[i],\n",
      "    print '**h1(',i,')  =  ',h_1[i+1],\n",
      "    print '**h2(',i,')  =  ',h_2[i+1]\n",
      "\n"
     ],
     "language": "python",
     "metadata": {},
     "outputs": [
      {
       "output_type": "stream",
       "stream": "stdout",
       "text": [
        "e( 0 )  =   1.0 **h1( 0 )  =   0.0 **h2( 0 )  =   0.0\n",
        "e( 1 )  =   2.0 **h1( 1 )  =   0.2 **h2( 1 )  =   0.0\n",
        "e( 2 )  =   2.6 **h1( 2 )  =   0.72 **h2( 2 )  =   0.26\n",
        "e( 3 )  =   1.32 **h1( 3 )  =   1.116 **h2( 3 )  =   0.524\n",
        "e( 4 )  =   -1.036 **h1( 4 )  =   0.7016 **h2( 4 )  =   0.2132\n"
       ]
      }
     ],
     "prompt_number": 9
    },
    {
     "cell_type": "heading",
     "level": 2,
     "metadata": {},
     "source": [
      "Example 5.11  Page No : 296"
     ]
    },
    {
     "cell_type": "code",
     "collapsed": false,
     "input": [
      "import math \n",
      "\n",
      "#case 1(a)\n",
      "#f  =  400Hertz, fs  =  8000Hertz\n",
      "f  =  400.\n",
      "fs  =  8000.\n",
      "\n",
      "#We know that maximum signal to noise ratio(SNR_max)  =  3*(fs**2)/(8*(pi**2)*(f**2))\n",
      "SNR_max  =  3*(fs**2)/(8*(math.pi**2)*(f**2))\n",
      "#SNR_max in decibels is SNR_max_db\n",
      "SNR_max_db  =  10*math.log10 (SNR_max)\n",
      "\n",
      "print 'Maximum signal to noise ratio for f  =  400 & fs  =  8000 is %.4f'%SNR_max,'  =  %.4f'%SNR_max_db,' db'\n",
      "\n",
      "#case 1(b)\n",
      "#f  =  400Hertz, fs  =  16000Hertz\n",
      "f  =  400.\n",
      "fs  =  16000.\n",
      "\n",
      "#We know that maximum signal to noise ratio(SNR_max)  =  3*(fs**2)/(8*(pi**2)*(f**2))\n",
      "SNR_max  =  3*(fs**2)/(8*(math.pi**2)*(f**2))\n",
      "\n",
      "#SNR_max in decibels is SNR_max_db\n",
      "SNR_max_db  =  10*math.log10 (SNR_max)\n",
      "\n",
      "#Given solution is 13.8385 dB obtained solution is 17.838515 dB\n",
      "\n",
      "print 'Maximum signal to noise ratio for f  =  400 & fs  =  16000 is %.4f'%SNR_max,'  =  %.4f'%SNR_max_db,' db'\n",
      "\n",
      "#case 2(a)\n",
      "#f  =  400Hertz, fs  =  8000Hertz & fc  =   1000Hertz\n",
      "f  =  400.\n",
      "fs  =  8000.\n",
      "fc  =  1000.\n",
      "\n",
      "#If a 1kHz low pass post reconstruction filter is used then maximum signal to noise ratio(SNR_max)  =  3*(fs**3)/(8*(pi**2)*(f**2)*fc)\n",
      "SNR_max  =  3*(fs**3)/(8*(math.pi**2)*(f**2)*fc)\n",
      "#SNR_max in decibels is SNR_max_db\n",
      "SNR_max_db  =  10*math.log10 (SNR_max)\n",
      "\n",
      "print ('If a 1kHz low pass post reconstruction filter is used then')\n",
      "\n",
      "print 'Maximum signal to noise ratio for f  =  400, fs  =  8000 & fc  =  1000 is %.4f'%SNR_max,'  =  %.4f'%SNR_max_db,' db'\n",
      "\n",
      "#case 2(b)\n",
      "#f  =  400Hertz, fs  =  16000Hertz & fc  =   1000Hertz\n",
      "f  =  400.\n",
      "fs  =  16000.\n",
      "fc  =  1000.\n",
      "\n",
      "#If a 1kHz low pass post reconstruction filter is used then maximum signal to noise ratio(SNR_max)  =  3*(fs**3)/(8*(pi**2)*(f**2)*fc)\n",
      "SNR_max  =  3*(fs**3)/(8*(math.pi**2)*(f**2)*fc)\n",
      "#SNR_max in decibels is SNR_max_db\n",
      "SNR_max_db  =  10*math.log10 (SNR_max)\n",
      "\n",
      "print 'Maximum signal to noise ratio for f  =  400, fs  =  16000 & fc  =  1000 is %.4f'%SNR_max,'  =  %.4f'%SNR_max_db,' db'\n"
     ],
     "language": "python",
     "metadata": {},
     "outputs": [
      {
       "output_type": "stream",
       "stream": "stdout",
       "text": [
        "Maximum signal to noise ratio for f  =  400 & fs  =  8000 is 15.1982   =  11.8179  db\n",
        "Maximum signal to noise ratio for f  =  400 & fs  =  16000 is 60.7927   =  17.8385  db\n",
        "If a 1kHz low pass post reconstruction filter is used then\n",
        "Maximum signal to noise ratio for f  =  400, fs  =  8000 & fc  =  1000 is 121.5854   =  20.8488  db\n",
        "Maximum signal to noise ratio for f  =  400, fs  =  16000 & fc  =  1000 is 972.6834   =  29.8797  db\n"
       ]
      }
     ],
     "prompt_number": 4
    }
   ],
   "metadata": {}
  }
 ]
}