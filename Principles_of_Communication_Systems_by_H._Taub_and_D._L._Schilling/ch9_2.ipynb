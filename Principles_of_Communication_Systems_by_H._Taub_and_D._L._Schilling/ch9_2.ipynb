{
 "metadata": {
  "name": "",
  "signature": "sha256:76af7cce77748578dca71f240625858d950531e9ec6e3f4d9575080583337685"
 },
 "nbformat": 3,
 "nbformat_minor": 0,
 "worksheets": [
  {
   "cells": [
    {
     "cell_type": "heading",
     "level": 1,
     "metadata": {},
     "source": [
      "Chapter 9  : Noise in Frequency Modulation Systems"
     ]
    },
    {
     "cell_type": "heading",
     "level": 2,
     "metadata": {},
     "source": [
      "Example 9.1  Page No : 463"
     ]
    },
    {
     "cell_type": "code",
     "collapsed": false,
     "input": [
      "import math \n",
      "\n",
      "#Input signal strength Si  =  0.5 W\n",
      "Si  =  0.5;\n",
      "\n",
      "#Gaussian Power Spectral Density n  =  10**(-10) W/Hz\n",
      "n  =  10**(-10);\n",
      "\n",
      "#Baseband cutoff signal fM  =  15 kHz\n",
      "fM  =  15 * 10**3;\n",
      "\n",
      "#Maximum frequency deviation Df  =  60 kHz\n",
      "Df  =  60 * 10**3;\n",
      "\n",
      "#Average power of the modulating signal mt  =  0.1 W\n",
      "mt  =  0.1;\n",
      "\n",
      "SNR  =  (3/(4*math.pi**2))*((Df/fM)**2)*mt**2*(Si/(n*fM));\n",
      "\n",
      "print 'SNR is %.4f'%(10*math.log10(SNR)),' dB'\n",
      "\n",
      "#Part b\n",
      "\n",
      "#Required SNR at output>40 dB  =  10000\n",
      "\n",
      "#From (a), required Si/0.5 > 10000/4052.8 \n",
      "#Or, required Si > 1.2337 W\n",
      "#Since, channel loss is 20 dB ( = 100), \n",
      "#Required transmitter power > 1.2337*100  =  123.37 \n",
      "\n",
      "print ('Required transmitter power > 1.2337 x 100  =  123.37 ');\n"
     ],
     "language": "python",
     "metadata": {},
     "outputs": [
      {
       "output_type": "stream",
       "stream": "stdout",
       "text": [
        "SNR is 36.0776  dB\n",
        "Required transmitter power > 1.2337 x 100  =  123.37 \n"
       ]
      }
     ],
     "prompt_number": 4
    },
    {
     "cell_type": "heading",
     "level": 2,
     "metadata": {},
     "source": [
      "Example 9.2  Page No : 464"
     ]
    },
    {
     "cell_type": "code",
     "collapsed": false,
     "input": [
      "\n",
      "#Baseband cutoff signal fM  =  15 kHz\n",
      "fM  =  15. * 10**3;\n",
      "#Maximum frequency deviation Df  =  60 kHz\n",
      "Df  =  60 * 10**3;\n",
      "#Figure of Merit for FM is G_FM\n",
      "G_FM  =  (3./2)*(Df/fM)**2;\n",
      "\n",
      "print 'Figure of Merit for FM system is ',G_FM\n",
      "\n",
      "#Ratio of Figure of Merits of FM and AM systems is R\n",
      "R  =  G_FM/(1./3);\n",
      "\n",
      "print 'Ratio of Figure of Merits for FM and AM systems is ',R\n",
      "\n",
      "Df_new  =  2*Df;\n",
      "\n",
      "#Figure of Merit for FM when bandwidth is doubled is G_FM_new\n",
      "G_FM_new  =  (3./2)*(Df_new/fM)**2;\n",
      "\n",
      "#Ratio of Figure of Merits of FM and AM systems when bandwidth is doubled is R_new\n",
      "R_new  =  G_FM_new/(1./3);\n",
      "\n",
      "print 'Ratio of Figure of Merits for FM and AM systems when bandwidth is doubled is ',R_new\n",
      "\n"
     ],
     "language": "python",
     "metadata": {},
     "outputs": [
      {
       "output_type": "stream",
       "stream": "stdout",
       "text": [
        "Figure of Merit for FM system is  24.0\n",
        "Ratio of Figure of Merits for FM and AM systems is  72.0\n",
        "Ratio of Figure of Merits for FM and AM systems when bandwidth is doubled is  288.0\n"
       ]
      }
     ],
     "prompt_number": 2
    },
    {
     "cell_type": "heading",
     "level": 2,
     "metadata": {},
     "source": [
      "Example 9.3  Page No : 475"
     ]
    },
    {
     "cell_type": "code",
     "collapsed": false,
     "input": [
      "import math \n",
      "\n",
      "#Resismath.tance R  =  1000 Ohm\n",
      "R  =  10**3;\n",
      "\n",
      "#Capacitance C  =  0.1 * 10**-6 F\n",
      "C  =  0.1*10**-6;\n",
      "\n",
      "#Break point for RC filter is f1\n",
      "f1  =  1/(2*math.pi*R*C)\n",
      "\n",
      "#Baseband bandwidth of signal fM  =  15 kHz\n",
      "fM  =  15 * 10**3;\n",
      "\n",
      "Gain  =  math.atan(fM/f1)/(3*(f1/fM)*(1 - (f1/fM)*math.atan(fM/f1)));\n",
      "\n",
      "print 'Initial Gain is %.4f'%(10*math.log10(Gain)),' dB'\n",
      "\n",
      "#New Baseband bandwidth of signal fM_new  =  15 kHz\n",
      "fM_new  =  2*15 * 10**3;\n",
      "\n",
      "Gain_new  =  math.atan(fM_new/f1)/(3*(f1/fM_new)*(1 - (f1/fM_new)*math.atan(fM_new/f1)));\n",
      "\n",
      "print 'Final Gain is %.4f'%(10*math.log10(Gain_new)),' dB'\n",
      "\n"
     ],
     "language": "python",
     "metadata": {},
     "outputs": [
      {
       "output_type": "stream",
       "stream": "stdout",
       "text": [
        "Initial Gain is 7.3639  dB\n",
        "Final Gain is 10.1585  dB\n"
       ]
      }
     ],
     "prompt_number": 6
    },
    {
     "cell_type": "heading",
     "level": 2,
     "metadata": {},
     "source": [
      "Example 9.6  Page No : 495"
     ]
    },
    {
     "cell_type": "code",
     "collapsed": false,
     "input": [
      "import math \n",
      "\n",
      "#Baseband cutoff signal fM  =  15 kHz\n",
      "fM  =  15. * 10**3;\n",
      "\n",
      "#Carrier filter bandwidth is B  =  60 kHz\n",
      "B  =  60. * 10**3;\n",
      "\n",
      "#RMS frequency division Df_RMS  =  30 kHz\n",
      "Df_RMS  =  30. * 10**3;\n",
      "\n",
      "#Let a  =  Df_RMS/fM for substitution \n",
      "a  =  Df_RMS/fM;\n",
      "\n",
      "#Let b  =  fM/B for substitution \n",
      "b  =  fM/B;\n",
      "\n",
      "#Let input SNR 1 be I_SNR1  =  10 dB  =  10\n",
      "I_SNR1  =  10;\n",
      "\n",
      "#Output SNR is O_SNR1\n",
      "O_SNR1  =  (3*(a**2)*I_SNR1)/(1+6*((2/math.pi)**0.5)*I_SNR1*math.exp(-(b)*I_SNR1));\n",
      "\n",
      "print 'Output SNR is %.4f'%(10*math.log10(O_SNR1)),' dB'\n",
      "\n",
      "#Let input SNR 2 be I_SNR2  =  20 dB  =  100\n",
      "I_SNR2  =  100;\n",
      "\n",
      "#Output SNR is O_SNR2\n",
      "O_SNR2  =  (3*(a**2)*I_SNR2)/(1+6*((2/math.pi)**0.5)*I_SNR2*math.exp(-(b)*I_SNR2));\n",
      "\n",
      "#Solution given in the book is 13.5431 which is fallacious, the correct answer is 24.32444\n",
      "print 'Output SNR is %.4f'%(10*math.log10(O_SNR2)),' dB'\n",
      "\n",
      "#Let input SNR 3 be I_SNR3  =  30 dB  =  1000\n",
      "I_SNR3  =  1000;\n",
      "\n",
      "#Output SNR is O_SNR3\n",
      "O_SNR3  =  (3*(a**2)*I_SNR3)/(1+6*((2/math.pi)**0.5)*I_SNR3*math.exp(-(b)*I_SNR3));\n",
      "\n",
      "print 'Output SNR is %.4f'%(10*math.log10(O_SNR3)),' dB'\n"
     ],
     "language": "python",
     "metadata": {},
     "outputs": [
      {
       "output_type": "stream",
       "stream": "stdout",
       "text": [
        "Output SNR is 13.8636  dB\n",
        "Output SNR is 30.7918  dB\n",
        "Output SNR is 40.7918  dB\n"
       ]
      }
     ],
     "prompt_number": 7
    }
   ],
   "metadata": {}
  }
 ]
}