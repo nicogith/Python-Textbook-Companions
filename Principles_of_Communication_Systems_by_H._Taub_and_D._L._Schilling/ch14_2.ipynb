{
 "metadata": {
  "name": "",
  "signature": "sha256:158cb432a81c11478e33ed6b993518b42caeb2d37c1b47753da9edabe678cb70"
 },
 "nbformat": 3,
 "nbformat_minor": 0,
 "worksheets": [
  {
   "cells": [
    {
     "cell_type": "heading",
     "level": 1,
     "metadata": {},
     "source": [
      "Chapter 14 : Communication Systems and Component Noises"
     ]
    },
    {
     "cell_type": "heading",
     "level": 2,
     "metadata": {},
     "source": [
      "Example 14.1  Page No : 738"
     ]
    },
    {
     "cell_type": "code",
     "collapsed": false,
     "input": [
      "import math \n",
      "from scipy.integrate import quad \n",
      "\n",
      "#Boltzman consmath.tant  k  =  1.3806488 \u00d7 10-23 m2 kg s-2 K-1\n",
      "k  =  1.3806488 * 10**-23; \n",
      "\n",
      "#Let room temperature be 27 C\n",
      "T  =  27. + 273; \n",
      "\n",
      "#Bandwidth BW  =  10 MHz\n",
      "BW  =  10. * 10 **6;\n",
      "\n",
      "#For (a)\n",
      "#Let the equivalent resismath.tance be Ra\n",
      "Ra  =  10. + 10;\n",
      "\n",
      "#RMS Noise Voltage be Va\n",
      "Va  =  (4*k*T*Ra*BW)**0.5;\n",
      "\n",
      "print 'The rms voltage at output a is %.3e'%Va,' Volt'\n",
      "\n",
      "#For (b)\n",
      "#Let the equivalent resismath.tance be Rb\n",
      "Rb  =  (10. * 10)/(10+10);\n",
      "\n",
      "#RMS Noise Voltage be Vb\n",
      "Vb  =  (4*k*T*Rb*BW)**0.5;\n",
      "\n",
      "print 'The rms voltage at output b is %.3e'%Vb,' Volt'\n",
      "\n",
      "#For (c)\n",
      "\n",
      "Rc  =  10;\n",
      "C  =  1*10**-9;\n",
      "\n",
      "#In the textbook, the author has forgotten to multiply the result with T, hence has obtained an erroneous result.\n",
      "#The given answer is 28.01uV but the correct answer is found out to be 1.2uV\n",
      "\n",
      "\n",
      "def f0(f): \n",
      "\t return Rc/(1 + (2*math.pi*Rc*C*f)**2)\n",
      "\n",
      "Vc_square  =  2*k* quad(f0,-10**7,10**7)[0]\n",
      "\n",
      "Vc  =  Vc_square**0.5;\n",
      "\n",
      "print 'The rms voltage at output c is %.3e'%Vc,' Volt'"
     ],
     "language": "python",
     "metadata": {},
     "outputs": [
      {
       "output_type": "stream",
       "stream": "stdout",
       "text": [
        "The rms voltage at output a is 1.820e-06  Volt\n",
        "The rms voltage at output b is 9.102e-07  Volt\n",
        "The rms voltage at output c is 7.022e-08  Volt\n"
       ]
      }
     ],
     "prompt_number": 1
    },
    {
     "cell_type": "heading",
     "level": 2,
     "metadata": {},
     "source": [
      "Example 14.2  Page No : 741"
     ]
    },
    {
     "cell_type": "code",
     "collapsed": false,
     "input": [
      "\n",
      "#The Antenna noise temperature is T_ant  =  10 K\n",
      "T_ant  =  10;\n",
      "\n",
      "#The reciever noise temperature is Te  =  140 K\n",
      "Te  =  140;\n",
      "\n",
      "#Midband available gain of reciever gao  =  10**10\n",
      "gao  =  10**10;\n",
      "\n",
      "#Noise bandwidth is BN  =  1.5 * 10**5 Hz\n",
      "BN  =  1.5 * 10**5;\n",
      "\n",
      "#Boltzman consmath.tant  k  =  1.3806488 \u00d7 10-23 m2 kg s-2 K-1\n",
      "k  =  1.3806488 * 10**-23; \n",
      "\n",
      "#Available noise power at output is pao\n",
      "\n",
      "pao  =  gao*k*(T_ant + Te)*BN;\n",
      "\n",
      "print 'The available output noise power is %.3e'%pao,' Watts'\n"
     ],
     "language": "python",
     "metadata": {},
     "outputs": [
      {
       "output_type": "stream",
       "stream": "stdout",
       "text": [
        "The available output noise power is 3.106e-06  Watts\n"
       ]
      }
     ],
     "prompt_number": 2
    },
    {
     "cell_type": "heading",
     "level": 2,
     "metadata": {},
     "source": [
      "Example 14.3  Page No : 748"
     ]
    },
    {
     "cell_type": "code",
     "collapsed": false,
     "input": [
      "#The dismath.tance d  =  30 * 1.6 * 10**3 m;\n",
      "d  =  30 * 1.6 * 10**3;\n",
      "\n",
      "#Frequency f  =  4 * 10**9 Hz\n",
      "f  =  4 * 10**9;\n",
      "\n",
      "#Wavelength w  =  c/f m \n",
      "w  =  3.*10**8 / f;\n",
      "\n",
      "#Transmitter gain KT  =  40 dB\n",
      "KT  =  10**4;\n",
      "\n",
      "#Reciever gain KT  =  40 dB\n",
      "KR  =  10**4;\n",
      "\n",
      "#Reciever power PR  =  10**-6 Watt\n",
      "PR  =  10**-6;\n",
      "\n",
      "#Transmitter power PT\n",
      "PT  =  PR*(4*math.pi*d/w)**2/ (KT*KR);\n",
      "\n",
      "print 'The transmitter output is %.4f'%PT,' Watt'"
     ],
     "language": "python",
     "metadata": {},
     "outputs": [
      {
       "output_type": "stream",
       "stream": "stdout",
       "text": [
        "The transmitter output is 0.6468  Watt\n"
       ]
      }
     ],
     "prompt_number": 3
    }
   ],
   "metadata": {}
  }
 ]
}