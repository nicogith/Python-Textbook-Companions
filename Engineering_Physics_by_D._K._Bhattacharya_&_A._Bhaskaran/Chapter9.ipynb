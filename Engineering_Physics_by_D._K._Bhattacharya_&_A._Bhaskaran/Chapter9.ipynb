{
 "metadata": {
  "name": "Chapter9"
 },
 "nbformat": 3,
 "nbformat_minor": 0,
 "worksheets": [
  {
   "cells": [
    {
     "cell_type": "heading",
     "level": 1,
     "metadata": {},
     "source": "Superconducting Materials"
    },
    {
     "cell_type": "heading",
     "level": 2,
     "metadata": {},
     "source": "Example number 9.1, Page number 255"
    },
    {
     "cell_type": "code",
     "collapsed": false,
     "input": "#To calculate the critical magnetic field intensity\n\n#importing modules\nimport math\n\n#Variable declaration\nH0 = 6.5*10**4;         #magnetic field intensity(A/m)\nT = 4.2;                #temperature(K)\nTc = 7.18;              #critical temperature(K)\n\n#Calculation\nHc = H0*(1-((T**2)/(Tc**2)));        #critical magnetic field intensity(A/m)\nHc = Hc*10**-4;\nHc=math.ceil(Hc*10**3)/10**3;   #rounding off to 3 decimals\n\n#Result\nprint \"critical magnetic field intensity is\",Hc,\"*10**4 A/m\"",
     "language": "python",
     "metadata": {},
     "outputs": [
      {
       "output_type": "stream",
       "stream": "stdout",
       "text": "critical magnetic field intensity is 4.276 *10**4 A/m\n"
      }
     ],
     "prompt_number": 1
    },
    {
     "cell_type": "heading",
     "level": 2,
     "metadata": {},
     "source": "Example number 9.2, Page number 255"
    },
    {
     "cell_type": "code",
     "collapsed": false,
     "input": "#To calculate the isotopic mass\n\n#importing modules\nimport math\n\n#Variable declaration\nTc1 = 4.185;                #critical temperature for M1(K)\nTc2 = 4.133;                #critical temperature for M2(K)\nM1 = 199.5;                 #isotopic mass\nalpha = 0.5;\n\n#Calculation\nA = math.pow(M1,alpha)*Tc1/Tc2;\nM2 = math.pow(A,1/alpha);       #isotopic mass\nM2=math.ceil(M2*10**3)/10**3;   #rounding off to 3 decimals\n\n#Result\nprint \"isotopic mass is\",M2\nprint \"answer given in the book is wrong\"",
     "language": "python",
     "metadata": {},
     "outputs": [
      {
       "output_type": "stream",
       "stream": "stdout",
       "text": "isotopic mass is 204.552\nanswer given in the book is wrong\n"
      }
     ],
     "prompt_number": 3
    },
    {
     "cell_type": "code",
     "collapsed": false,
     "input": "",
     "language": "python",
     "metadata": {},
     "outputs": []
    }
   ],
   "metadata": {}
  }
 ]
}