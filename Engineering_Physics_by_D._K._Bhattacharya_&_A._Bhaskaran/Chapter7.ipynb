{
 "metadata": {
  "name": "Chapter7",
  "signature": "sha256:043709ddd748250fcd3232cc251c6d71d665f281189e172a4c8d9b59233bdcee"
 },
 "nbformat": 3,
 "nbformat_minor": 0,
 "worksheets": [
  {
   "cells": [
    {
     "cell_type": "heading",
     "level": 1,
     "metadata": {},
     "source": "Semiconducting Materials"
    },
    {
     "cell_type": "heading",
     "level": 2,
     "metadata": {},
     "source": "Example number 7.1, Page number 208"
    },
    {
     "cell_type": "code",
     "collapsed": false,
     "input": "#To calculate the approximate donor binding energy\n\n#importing modules\nimport math\n\n#Variable declaration\nme = 9.11*10**-31;          #mass of electron(kg)\nepsilon_r = 13.2;  \nepsilon0 = 8.85*10**-12;\nh = 6.63*10**-34;\ne = 1.6*10**-19;          #charge of electron(C)\n\n#Calculation\nm_nc = 0.067*me;\nE = m_nc*e**4/(8*(epsilon0*epsilon_r*h)**2);       #energy(J)\nE = E/e;                #energy(eV)\nE = math.ceil(E*10**5)/10**5;   #rounding off to 5 decimals\nE_meV = E*10**3;        #energy(meV)\n\n#Result\nprint \"donor binding energy is\",E,\"eV or\",E_meV,\"meV\"",
     "language": "python",
     "metadata": {},
     "outputs": [
      {
       "output_type": "stream",
       "stream": "stdout",
       "text": "donor binding energy is 0.00521 eV or 5.21 meV\n"
      }
     ],
     "prompt_number": 1
    },
    {
     "cell_type": "heading",
     "level": 2,
     "metadata": {},
     "source": "Example number 7.2, Page number 208"
    },
    {
     "cell_type": "code",
     "collapsed": false,
     "input": "#To calculate the equilibrium hole concentration\n\n#importing modules\nimport math\nimport numpy as np\n\n#Variable declaration\nNd = 10**16;         #donor concentration(atoms/cm**3)\nni = 1.5*10**10;        #concentration(per cm**3)\nT = 300;                #temperature(K)\nkT = 0.0259;\n\n#Calculation\nn0 = Nd;           #for Nd>>ni, assume n0=Nd\np0 = ni**2/n0;        #equilibrium hole concentration(per cm**3)\np0 = p0*10**-4;\nEF_Ei = kT*np.log(n0/ni);\nEF_Ei = math.ceil(EF_Ei*10**4)/10**4;   #rounding off to 4 decimals\n\n\n#Result\nprint \"equilibrium hole concentration is\",p0,\"*10**4 per cm**3\"\nprint \"value of EF-Ei is\",EF_Ei,\"eV\"",
     "language": "python",
     "metadata": {},
     "outputs": [
      {
       "output_type": "stream",
       "stream": "stdout",
       "text": "equilibrium hole concentration is 2.25 *10**4 per cm**3\nvalue of EF-Ei is 0.3474 eV\n"
      }
     ],
     "prompt_number": 2
    },
    {
     "cell_type": "heading",
     "level": 2,
     "metadata": {},
     "source": "Example number 7.3, Page number 209"
    },
    {
     "cell_type": "code",
     "collapsed": false,
     "input": "#To calculate the resistivity of sample\n\n#importing modules\nimport math\n\n#Variable declaration\ne = 1.6*10**-19;          #charge of electron(C)\nNd = 10**14;              #donor density(atoms/cm**3)\nmew_n = 3900;\n\n#Calculation\nn = Nd;\nsigma = n*e*mew_n;        #conductivity(ohm-1 cm-1)\nrho = 1/sigma;            #resistivity(ohm cm)\nrho = math.ceil(rho*100)/100;   #rounding off to 2 decimals\n\n\n#Result\nprint \"resistivity of sample is\",rho,\"ohm cm\"",
     "language": "python",
     "metadata": {},
     "outputs": [
      {
       "output_type": "stream",
       "stream": "stdout",
       "text": "resistivity of sample is 16.03 ohm cm\n"
      }
     ],
     "prompt_number": 3
    },
    {
     "cell_type": "heading",
     "level": 2,
     "metadata": {},
     "source": "Example number 7.4, Page number 209"
    },
    {
     "cell_type": "code",
     "collapsed": false,
     "input": "#To calculate the resistivity, Hall coefficient and Hall voltage\n\n#importing modules\nimport math\n\n#Variable declaration\ne = 1.6*10**-19;          #charge of electron(C)\nn0 = 5*10**16;              #donor density(atoms/cm**3)\nmew_0 = 800;\nIx = 2;             #current(mA)\nBz = 5*10**-5;\nd = 200;            #thickness(micrometre)\n\n#Calculation\nIx = Ix*10**-3;          #current(A)\nd = d*10**-4;            #thickness(m)\nsigma = e*n0*mew_0;        #conductivity(ohm-1 cm-1)\nrho = 1/sigma;            #resistivity(ohm cm)\nrho = math.ceil(rho*10**4)/10**4;   #rounding off to 4 decimals\nRH = -1/(e*n0);          #Hall coefficient(cm**3/C)\nVH = Ix*Bz*RH/d;         #Hall voltage(V)\nVH = VH*10**5;\n\n\n#Result\nprint \"resistivity of sample is\",rho,\"ohm cm\"\nprint \"Hall coefficient is\",RH,\"cm**3/C\"\nprint \"Hall voltage is\",VH,\"*10**-5 V\"",
     "language": "python",
     "metadata": {},
     "outputs": [
      {
       "output_type": "stream",
       "stream": "stdout",
       "text": "resistivity of sample is 0.1563 ohm cm\nHall coefficient is -125.0 cm**3/C\nHall voltage is -62.5 *10**-5 V\n"
      }
     ],
     "prompt_number": 4
    },
    {
     "cell_type": "heading",
     "level": 2,
     "metadata": {},
     "source": "Example number 7.5, Page number 210"
    },
    {
     "cell_type": "code",
     "collapsed": false,
     "input": "#To calculate the intrinsic carrier concentration, intrinsic conductivity and resistivity\n\n#importing modules\nimport math\nfrom __future__ import division\n\n#Variable declaration\nT = 300;          #temperature(K)\nmew_n = 0.4;      #electron mobility(m**2/Vs)\nmew_p = 0.2;      #hole mobility(m**2/Vs)\nEg = 0.7;         #band gap(eV)\nme = 9.11*10**-31;       #mass of electron(kg)\nk = 1.38*10**-23;        #boltzmann constant\nT = 300;                 #temperature(K)\nh = 6.625*10**-34;\nkT = 0.0259;\ne = 1.6*10**-19;          #charge of electron(C)\n\n#Calculation\nmn_star = 0.55*me;           #electron effective mass(kg)\nmp_star = 0.37*me;           #hole effective mass(kg)\na = (2*math.pi*k*T/(h**2))**(3/2);\nb = (mn_star*mp_star)**(3/4);\nc = math.exp(-Eg/(2*kT));\nni = 2*a*b*c;     #intrinsic concentration(per m**3)\nsigma = ni*e*(mew_n+mew_p);               #intrinsic conductivity(per ohm m)\nsigma = math.ceil(sigma*10**4)/10**4;   #rounding off to 4 decimals\nrho = 1/sigma;                            #intrinsic resistivity(ohm m)\nrho = math.ceil(rho*10**4)/10**4;   #rounding off to 4 decimals\n\n#Result\nprint \"intrinsic concentration is\",ni,\"per m**3\"\nprint \"intrinsic conductivity is\",sigma,\"per ohm m\"\nprint \"intrinsic resistivity is\",rho,\"ohm m\"\nprint \"answers given in the book are wrong\"",
     "language": "python",
     "metadata": {},
     "outputs": [
      {
       "output_type": "stream",
       "stream": "stdout",
       "text": "intrinsic concentration is 1.02825111151e+19 per m**3\nintrinsic conductivity is 0.9872 per ohm m\nintrinsic resistivity is 1.013 ohm m\nanswers given in the book are wrong\n"
      }
     ],
     "prompt_number": 19
    },
    {
     "cell_type": "heading",
     "level": 2,
     "metadata": {},
     "source": "Example number 7.6, Page number 211"
    },
    {
     "cell_type": "code",
     "collapsed": false,
     "input": "#To calculate the Fermi energy\n\n#importing modules\nimport math\nimport numpy as np\nfrom __future__ import division\n\n#Variable declaration\nNd = 10**16;           #donor concentration(per cm**3)\nni = 1.45*10**10;         #concentration(per cm**3)\nkT = 0.0259;\n\n#Calculation\n#ni = Nc*math.exp(-(Ec-Ei)/kT)\n#Nd = Nc*(math.exp(-(Ec-Efd)/kT)\n#dividing Nd/ni we get \nEFd_Ei = kT*np.log(Nd/ni);\nEFd_Ei = math.ceil(EFd_Ei*10**4)/10**4;   #rounding off to 4 decimals\n\n#Result\nprint \"Fermi energy is\",EFd_Ei,\"eV\"",
     "language": "python",
     "metadata": {},
     "outputs": [
      {
       "output_type": "stream",
       "stream": "stdout",
       "text": "Fermi energy is 0.3482 eV\n"
      }
     ],
     "prompt_number": 24
    },
    {
     "cell_type": "heading",
     "level": 2,
     "metadata": {},
     "source": "Example number 7.7, Page number 211"
    },
    {
     "cell_type": "code",
     "collapsed": false,
     "input": "#To calculate the resistance\n\n#The given information in the question is not sufficient to solve the entire problem. And the problem is completely wrong in the book",
     "language": "python",
     "metadata": {},
     "outputs": [],
     "prompt_number": 20
    },
    {
     "cell_type": "heading",
     "level": 2,
     "metadata": {},
     "source": "Example number 7.8, Page number 212"
    },
    {
     "cell_type": "code",
     "collapsed": false,
     "input": "#To calculate the forbidden energy gap\n\n#importing modules\nimport math\nimport numpy as np\nfrom __future__ import division\n\n#Variable declaration\nT = 300;          #temperature(K)\nmew_n = 0.36;      #electron mobility(m**2/Vs)\nmew_p = 0.17;      #hole mobility(m**2/Vs)\nrho = 2.12;         #resistivity(ohm m)\nme = 9.11*10**-31;       #mass of electron(kg)\nkT = 0.0259;\nh = 6.625*10**-34;\nk = 1.38*10**-23;        #boltzmann constant\ne = 1.6*10**-19;          #charge of electron(C)\n\n#Calculation\nmn_star = 0.55*me;           #electron effective mass(kg)\nmp_star = 0.37*me;           #hole effective mass(kg)\nsigma = 1/rho;               #conductivity(per ohm m)\nsigma = math.ceil(sigma*10**3)/10**3;   #rounding off to 3 decimals\nni = sigma/(e*(mew_n+mew_p));          #concentration of electrons(per m**3)\na = (2*math.pi*kT/(h**2))**(3/2);\nNc = 2*a*(mn_star**(3/2)); \nNv = 2*a*(mp_star**(3/2)); \nb = (Nc*Nv)**(1/2);\nEg = 2*kT*np.log(b/ni);\n\n#Result\nprint \"forbidden energy gap is\",Eg,\"eV\"\nprint \"answer given in the book is wrong\"",
     "language": "python",
     "metadata": {},
     "outputs": [
      {
       "output_type": "stream",
       "stream": "stdout",
       "text": "forbidden energy gap is 4.09465494989 eV\nanswer given in the book is wrong\n"
      }
     ],
     "prompt_number": 38
    },
    {
     "cell_type": "heading",
     "level": 2,
     "metadata": {},
     "source": "Example number 7.9, Page number 213"
    },
    {
     "cell_type": "code",
     "collapsed": false,
     "input": "#To calculate the conductivity\n\n#importing modules\nimport math\n\n#Variable declaration\nni = 2.4*10**19;       #concentration(per m**3)\nmew_n = 0.39;      #electron mobility(m**2/Vs)\nmew_p = 0.19;      #hole mobility(m**2/Vs)\ne = 1.6*10**-19;          #charge of electron(C)\n\n#Calculation\nsigma = ni*e*(mew_n+mew_p);         #conductivity(per ohm m)\nsigma = math.ceil(sigma*10**3)/10**3;   #rounding off to 3 decimals\n\n#Result\nprint \"conductivity of sample is\",sigma,\"ohm-1 m-1\"",
     "language": "python",
     "metadata": {},
     "outputs": [
      {
       "output_type": "stream",
       "stream": "stdout",
       "text": "conductivity of sample is 2.228 ohm-1 m-1\n"
      }
     ],
     "prompt_number": 10
    },
    {
     "cell_type": "heading",
     "level": 2,
     "metadata": {},
     "source": "Example number 7.10, Page number 214"
    },
    {
     "cell_type": "code",
     "collapsed": false,
     "input": "#To calculate the new position of Fermi level\n\n#importing modules\nimport math\nfrom __future__ import division\n\n#Variable declaration\nEc = 0.3;          #initial position(eV)\nT1 = 300;           #initial temperature(K)\nT2 = 330;           #increased temperature\n\n#Calculation\n#Ec/T1 = Ec_EF330/T2\nEc_EF330 = Ec*T2/T1;        #new position of Fermi level(eV)\n\n#Result\nprint \"new position of Fermi level is\",Ec_EF330,\"eV\"",
     "language": "python",
     "metadata": {},
     "outputs": [
      {
       "output_type": "stream",
       "stream": "stdout",
       "text": "new position of Fermi level is 0.33 eV\n"
      }
     ],
     "prompt_number": 39
    },
    {
     "cell_type": "heading",
     "level": 2,
     "metadata": {},
     "source": "Example number 7.11, Page number 214"
    },
    {
     "cell_type": "code",
     "collapsed": false,
     "input": "#To calculate the concentration in conduction band\n\n#importing modules\nimport math\nfrom __future__ import division\n\n#Variable declaration\nk = 1.38*10**-23;         #boltzmann constant\nT = 300;           #temperature(K)\nme = 9.1*10**-31;        #mass of electron(kg)\nh = 6.63*10**-34;        #planck's constant\nEc_Ev = 1.1;             #energy gap(eV)\ne = 1.6*10**-19;         #charge of electron(C)\n\n#Calculation\nme_star = 0.31*me;\nA = (2*math.pi*k*T*me_star/(h**2))**(3/2);\nB = math.exp(-(Ec_Ev*e)/(2*k*T));\nni = A*B;                  #concentration in conduction band(per m**3)\n\n#Result\nprint \"intrinsic electron concentration is\",ni,\"per m**3\"\nprint \"answer given in the book is wrong\"",
     "language": "python",
     "metadata": {},
     "outputs": [
      {
       "output_type": "stream",
       "stream": "stdout",
       "text": "intrinsic electron concentration is 1.26605935487e+15 per m**3\nanswer given in the book is wrong\n"
      }
     ],
     "prompt_number": 41
    },
    {
     "cell_type": "heading",
     "level": 2,
     "metadata": {},
     "source": "Example number 7.12, Page number 214"
    },
    {
     "cell_type": "code",
     "collapsed": false,
     "input": "#To calculate the drift mobility of electrons\n\n#importing modules\nimport math\n\n#Variable declaration\nRH = 0.55*10**-10;          #Hall coefficient(m**3/As)\nsigma = 5.9*10**7;          #conductivity(ohm-1 m-1)\n\n#Calculation\nmew = RH*sigma;              #drift mobility(m**2/Vs)\nmew = mew*10**3;\nmew = math.ceil(mew*10**2)/10**2;   #rounding off to 2 decimals\n\n#Result\nprint \"drift mobility of electrons is\",mew,\"*10**-3 m**2/Vs\"",
     "language": "python",
     "metadata": {},
     "outputs": [
      {
       "output_type": "stream",
       "stream": "stdout",
       "text": "drift mobility of electrons is 3.25 *10**-3 m**2/Vs\n"
      }
     ],
     "prompt_number": 14
    },
    {
     "cell_type": "heading",
     "level": 2,
     "metadata": {},
     "source": "Example number 7.13, Page number 215"
    },
    {
     "cell_type": "code",
     "collapsed": false,
     "input": "#To calculate the concentration and average number of electrons\n\n#importing modules\nimport math\nfrom __future__ import division\n\n#Variable declaration\nA = 6.022*10**23;           #avagadro constant\nd = 8.96*10**-9;            #density(kg/m**3)\nn = 9.932*10**14;           #no. of free electrons per atom\nsigma = 5.9*10**7;          #conductivity(ohm-1 m-1)\ne = 1.6*10**-19;            #electron charge(C)\nmew = 3.2*10**-3;           #drift mobility(m**2/Vs)\nw = 63.5;                   #atomic weight of Cu(kg)\n\n#Calculation\nni = sigma/(mew*e);         #conductivity(per m**3)\nN = A*d*n/w;                #concentration of free electrons in pure Cu\nAN = ni/N;                  #average number of electrons contributed per Cu atom\n\n#Result\nprint \"concentration of free electrons in pure Cu is\",N,\"per m**3\"\nprint \"average number of electrons contributed per Cu atom is\",int(AN)",
     "language": "python",
     "metadata": {},
     "outputs": [
      {
       "output_type": "stream",
       "stream": "stdout",
       "text": "concentration of free electrons in pure Cu is 8.43940339906e+28 per m**3\naverage number of electrons contributed per Cu atom is 1\n"
      }
     ],
     "prompt_number": 1
    },
    {
     "cell_type": "heading",
     "level": 2,
     "metadata": {},
     "source": "Example number 7.14, Page number 215"
    },
    {
     "cell_type": "code",
     "collapsed": false,
     "input": "#To calculate the charge carrier density and electron mobility\n\n#importing modules\nimport math\nfrom __future__ import division\n\n#Variable declaration\nRH = 3.66*10**-11;          #hall coefficient(m**3/As)\ne = 1.6*10**-19;            #electron charge(C)\nsigma = 112*10**7;          #conductivity(ohm-1 m-1)\n\n#Calculation\nn = 1/(e*RH);               #charge carrier density(per m**3)\nmew_n = sigma/(n*e);        #electron mobility(m**2/As)\nmew_n = math.ceil(mew_n*10**3)/10**3;   #rounding off to 3 decimals\n\n#Result\nprint \"charge carrier density is\",n,\"per m**3\"\nprint \"electron mobility is\",mew_n,\"m**2/As\"\nprint \"answers given in the book are wrong\"",
     "language": "python",
     "metadata": {},
     "outputs": [
      {
       "output_type": "stream",
       "stream": "stdout",
       "text": "charge carrier density is 1.70765027322e+29 per m**3\nelectron mobility is 0.041 m**2/As\nanswers given in the book are wrong\n"
      }
     ],
     "prompt_number": 16
    },
    {
     "cell_type": "heading",
     "level": 2,
     "metadata": {},
     "source": "Example number 7.15, Page number 216"
    },
    {
     "cell_type": "code",
     "collapsed": false,
     "input": "#To calculate the magnitude of Hall voltage\n\n#importing modules\nimport math\nfrom __future__ import division\n\n#Variable declaration\ne = 1.6*10**-19;            #electron charge(C)\nB = 1.5;                    #magnetic field(T)\nI = 50;                     #current(Amp)\nn = 8.4*10**28;             #free electron concentration(per m**3)\nd = 0.2;                    #thickness of slab(cm)\n\n#Calculation\nd = d*10**-2;               #thickness of slab(m)\nVH = B*I/(n*e*d);           #hall voltage(V)\n\n#Result\nprint \"magnitude of Hall voltage is\",VH,\"V\"\nprint \"answer given in the book is wrong\"",
     "language": "python",
     "metadata": {},
     "outputs": [
      {
       "output_type": "stream",
       "stream": "stdout",
       "text": "magnitude of Hall voltage is 2.79017857143e-06 V\nanswer given in the book is wrong\n"
      }
     ],
     "prompt_number": 17
    },
    {
     "cell_type": "heading",
     "level": 2,
     "metadata": {},
     "source": "Example number 7.16, Page number 216"
    },
    {
     "cell_type": "code",
     "collapsed": false,
     "input": "#To calculate the resistance of intrinsic Ge rod\n\n#importing modules\nimport math\nfrom __future__ import division\n\n#Variable declaration\ne = 1.6*10**-19;            #electron charge(C)\nn = 2.5*10**19;             #free electron concentration(per m**3)\nmew_n = 0.39;               #electron mobility(m**2/Vs)\nmew_p = 0.19;               #hole mobility(m**2/Vs)\nL = 1;                      #length(cm)\nw = 1;                      #width(mm)\nt = 1;                      #thickness(mm)\n\n#Calculation\nL = L*10**-2;               #length(m)\nw = w*10**-3;               #width(m)\nt = t*10**-3;               #thickness(m)\nA = w*t;                    #area(m**2)\nsigma = n*e*(mew_n+mew_p);         #conductivity(ohm-1 m-1)\nR = L/(sigma*A);                   #resistance(ohm)\n\n#Result\nprint \"resistance of intrinsic Ge rod is\",int(R),\"ohm\"",
     "language": "python",
     "metadata": {},
     "outputs": [
      {
       "output_type": "stream",
       "stream": "stdout",
       "text": "resistance of intrinsic Ge rod is 4310 ohm\n"
      }
     ],
     "prompt_number": 18
    },
    {
     "cell_type": "heading",
     "level": 2,
     "metadata": {},
     "source": "Example number 7.17, Page number 216"
    },
    {
     "cell_type": "code",
     "collapsed": false,
     "input": "#To determine the position of Fermi level\n\n#importing modules\nimport math\nimport numpy as np\nfrom __future__ import division\n\n#Variable declaration\ne = 1.6*10**-19;            #electron charge(C)\nEg = 1.12;                  #band gap(eV)\nme = 1;\nmn_star = 0.12*me;               #electron mobility(m**2/Vs)\nmp_star = 0.28*me;               #hole mobility(m**2/Vs)\nk = 1.38*10**-23;                #boltzmann constant\nT = 300;                         #temperature\n\n#Calculation\na = mp_star/mn_star;\nEF = (Eg/2)+((3*k*T/(4*e))*np.log(a));\nEF = math.ceil(EF*10**3)/10**3;   #rounding off to 3 decimals\n\n#Result\nprint \"position of Fermi level is\",EF,\"eV\"",
     "language": "python",
     "metadata": {},
     "outputs": [
      {
       "output_type": "stream",
       "stream": "stdout",
       "text": "position of Fermi level is 0.577 eV\n"
      }
     ],
     "prompt_number": 19
    },
    {
     "cell_type": "heading",
     "level": 2,
     "metadata": {},
     "source": "Example number 7.18, Page number 217"
    },
    {
     "cell_type": "code",
     "collapsed": false,
     "input": "#To calculate the electrical conductivity\n\n#importing modules\nimport math\n\n#Variable declaration\ne = 1.6*10**-19;            #electron charge(C)\nni = 1.5*10**16;            #intrinsic carrier density(per m**3)\nmew_n = 0.13;               #electron mobility(m**2/Vs)\nmew_p = 0.05;               #hole mobility(m**2/Vs)\n\n#Calculation\nsigma = ni*e*(mew_n+mew_p);        #electrical conductivity\nsigma = sigma*10**4;\n\n#Result\nprint \"electrical conductivity is\",sigma,\"*10**-4 ohm-1 m-1\"",
     "language": "python",
     "metadata": {},
     "outputs": [
      {
       "output_type": "stream",
       "stream": "stdout",
       "text": "electrical conductivity is 4.32 *10**-4 ohm-1 m-1\n"
      }
     ],
     "prompt_number": 20
    },
    {
     "cell_type": "heading",
     "level": 2,
     "metadata": {},
     "source": "Example number 7.19, Page number 217"
    },
    {
     "cell_type": "code",
     "collapsed": false,
     "input": "#To calculate the intrinsic resistivity\n\n#importing modules\nimport math\nfrom __future__ import division\n\n#Variable declaration\ne = 1.6*10**-19;            #electron charge(C)\nni = 2.15*10**-13;            #intrinsic carrier density(per cm**3)\nmew_n = 3900;               #electron mobility(cm**2/Vs)\nmew_p = 1900;               #hole mobility(cm**2/Vs)\n\n#Calculation\nsigmai = ni*e*(mew_n+mew_p);        #electrical conductivity(ohm-1 cm-1)\nrhoi = 1/sigmai;                    #intrinsic resistivity(ohm cm)\n\n#Result\nprint \"intrinsic resistivity is\",rhoi,\"ohm cm\"\nprint \"answer given in the book is wrong\"",
     "language": "python",
     "metadata": {},
     "outputs": [
      {
       "output_type": "stream",
       "stream": "stdout",
       "text": "intrinsic resistivity is 5.01202886929e+27 ohm cm\nanswer given in the book is wrong\n"
      }
     ],
     "prompt_number": 6
    },
    {
     "cell_type": "heading",
     "level": 2,
     "metadata": {},
     "source": "Example number 7.20, Page number 217"
    },
    {
     "cell_type": "code",
     "collapsed": false,
     "input": "#To calculate the electrical conductivity\n\n#importing modules\nimport math\n\n#Variable declaration\ne = 1.6*10**-19;            #electron charge(C)\nni = 2.1*10**19;            #intrinsic carrier density(per m**3)\nmew_n = 0.4;               #electron mobility(m**2/Vs)\nmew_p = 0.2;               #hole mobility(m**2/Vs)\n\n#Calculation\nsigma = ni*e*(mew_n+mew_p);        #electrical conductivity\n\n#Result\nprint \"intrinsic resistivity is\",sigma,\"ohm-1 m-1\"",
     "language": "python",
     "metadata": {},
     "outputs": [
      {
       "output_type": "stream",
       "stream": "stdout",
       "text": "intrinsic resistivity is 2.016 ohm-1 m-1\n"
      }
     ],
     "prompt_number": 22
    },
    {
     "cell_type": "heading",
     "level": 2,
     "metadata": {},
     "source": "Example number 7.21, Page number 218"
    },
    {
     "cell_type": "code",
     "collapsed": false,
     "input": "#To calculate the Hall coefficient and electron mobility\n\n#importing modules\nimport math\n\n#Variable declaration\ne = 1.6*10**-19;            #electron charge(C)\nV = 1.35;                   #voltage supply(V)\nI = 5;               #current(mA)\nb = 5;               #breadth(mm)\nd = 1;               #thickness(mm)\nL = 1;               #length(cm)\nH = 0.45;            #magnetic field(Wb/m**2)\nVy =20;              #Hall voltage(mV)\n\n#Calculation\nVy = Vy*10**-3;       #Hall voltage(V)\nL = L*10**-2;         #length(m)\nd = d*10**-3;         #thickness(m)\nb = b*10**-3;         #breadth(m)\nI = I*10**-3;         #current(A)\nR = V/I;              #resistance(ohm)\nA = b*d;              #area(m**2)\nrho = R*A/L;          #resistivity(ohm m)\nEy = Vy/d;            #Hall field(V/m)\nJx = I/A;           \na = Ey/(H*Jx);         #current density(m**3/C).Here a is 1/ne \nRH = a;               #Hall coefficient(m**3/C)\nRH = math.ceil(RH*10**4)/10**4;   #rounding off to 4 decimals\nmew_n = RH/rho;       #electron mobility(m**2/Vs)\nmew_n = math.ceil(mew_n*10**2)/10**2;   #rounding off to 2 decimals\n\n#Result\nprint \"Hall coefficient is\",RH,\"m**3/C\"\nprint \"electron mobility is\",mew_n,\"m**2/Vs\"",
     "language": "python",
     "metadata": {},
     "outputs": [
      {
       "output_type": "stream",
       "stream": "stdout",
       "text": "Hall coefficient is 0.0445 m**3/C\nelectron mobility is 0.33 m**2/Vs\n"
      }
     ],
     "prompt_number": 23
    },
    {
     "cell_type": "heading",
     "level": 2,
     "metadata": {},
     "source": "Example number 7.22, Page number 219"
    },
    {
     "cell_type": "code",
     "collapsed": false,
     "input": "#To calculate the Hall potential difference\n\n#importing modules\nimport math\n\n#Variable declaration\ne = 1.6*10**-19;            #electron charge(C)\nIx = 200;               #current(A)\nBz = 1.5;               #magnetic field(Wb/m**2)\np = 8.4*10**28;         #electron concentration(per m**3)\nd = 1;               #thickness(mm)\n\n#Calculation\nd = d*10**-3;         #thickness(m)\nVH = Ix*Bz/(e*p*d);         #Hall potential(V)\nVH = VH*10**6;              #Hall potential(micro V)\n\n#Result\nprint \"Hall potential is\",int(VH),\"micro V\"",
     "language": "python",
     "metadata": {},
     "outputs": [
      {
       "output_type": "stream",
       "stream": "stdout",
       "text": "Hall potential is 22 micro V\n"
      }
     ],
     "prompt_number": 24
    },
    {
     "cell_type": "code",
     "collapsed": false,
     "input": "",
     "language": "python",
     "metadata": {},
     "outputs": []
    }
   ],
   "metadata": {}
  }
 ]
}