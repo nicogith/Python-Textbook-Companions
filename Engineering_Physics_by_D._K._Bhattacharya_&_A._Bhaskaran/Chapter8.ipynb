{
 "metadata": {
  "name": "Chapter8"
 },
 "nbformat": 3,
 "nbformat_minor": 0,
 "worksheets": [
  {
   "cells": [
    {
     "cell_type": "heading",
     "level": 1,
     "metadata": {},
     "source": "Magnetic Materials"
    },
    {
     "cell_type": "heading",
     "level": 2,
     "metadata": {},
     "source": "Example number 8.1, Page number 238"
    },
    {
     "cell_type": "code",
     "collapsed": false,
     "input": "#To calculate the magnitude and direction of magnetic moment\n\n#importing modules\nimport math\n\n#Variable declaration\nI = 12;          #current(Ampere)\nA = 7.5*10**-4       #area of loop(m**2)\n\n#Calculation\nM = I*A;         #magnetic moment(Am**2)\nM = M*10**3;\n\n#Result\nprint \"magnetic moment is\",M,\"*10**-3 Am**2\"\nprint \"M is directed away from the observer and is perpendicular to the plane of the loop\"",
     "language": "python",
     "metadata": {},
     "outputs": [
      {
       "output_type": "stream",
       "stream": "stdout",
       "text": "magnetic moment is 9.0 *10**-3 Am**2\nM is directed away from the observer and is perpendicular to the plane of the loop\n"
      }
     ],
     "prompt_number": 1
    },
    {
     "cell_type": "heading",
     "level": 2,
     "metadata": {},
     "source": "Example number 8.2, Page number 238"
    },
    {
     "cell_type": "code",
     "collapsed": false,
     "input": "#To calculate the magnetic moment\n\n#importing modules\nimport math\n\n#Variable declaration\nr = 0.5;         #radius of orbit(Angstrom)\ne = 1.6*10**-19;       #charge of electron(C)\nnew = 10**16;          #frequency(rps)\n\n#Calculation\nr = r*10**-10;         #radius of orbit(m)\nI = e*new;             #current(Ampere)\nA = math.pi*r**2;      #area enclosed(m**2)\nM = I*A;               #magnetic moment(Am**2)\n\n#Result\nprint \"magnetic moment is\",M,\"Am**2\"",
     "language": "python",
     "metadata": {},
     "outputs": [
      {
       "output_type": "stream",
       "stream": "stdout",
       "text": "magnetic moment is 1.25663706144e-23 Am**2\n"
      }
     ],
     "prompt_number": 2
    },
    {
     "cell_type": "heading",
     "level": 2,
     "metadata": {},
     "source": "Example number 8.3, Page number 239"
    },
    {
     "cell_type": "code",
     "collapsed": false,
     "input": "#To calculate the magnetic susceptibility\n\n#importing modules\nimport math\n\n#Variable declaration\nmew_r = 5000;       #relative permeability\n\n#Calculation\nchi_m = mew_r-1;       #magnetic susceptibility\n\n#Result\nprint \"magnetic susceptibility is\",chi_m",
     "language": "python",
     "metadata": {},
     "outputs": [
      {
       "output_type": "stream",
       "stream": "stdout",
       "text": "magnetic susceptibility is 4999\n"
      }
     ],
     "prompt_number": 3
    },
    {
     "cell_type": "heading",
     "level": 2,
     "metadata": {},
     "source": "Example number 8.4, Page number 239"
    },
    {
     "cell_type": "code",
     "collapsed": false,
     "input": "#To calculate the permeability\n\n#importing modules\nimport math\n\n#Variable declaration\nH = 1800;       #magnetic field(A/m)\nphi = 3*10**-5;         #magnetic flux(Wb)\nA = 0.2;           #cross sectional area(cm**2)\n\n#Calculation\nA = A*10**-4;      #cross sectional area(m**2)\nB = phi/A;         #magnetic flux density(Wb/m**2)\nmew = B/H;         #permeability(H/m)\nmew = mew*10**4;\nmew=math.ceil(mew*100)/100;   #rounding off to 2 decimals\n\n#Result\nprint \"permeability is\",mew,\"*10**-4 H/m\"",
     "language": "python",
     "metadata": {},
     "outputs": [
      {
       "output_type": "stream",
       "stream": "stdout",
       "text": "permeability is 8.34 *10**-4 H/m\n"
      }
     ],
     "prompt_number": 5
    },
    {
     "cell_type": "heading",
     "level": 2,
     "metadata": {},
     "source": "Example number 8.5, Page number 239"
    },
    {
     "cell_type": "code",
     "collapsed": false,
     "input": "#To calculate the magnetic moment\n\n#importing modules\nimport math\n\n#Variable declaration\nB = 0.65;      #magnetic induction(Wb/m**2)\nrho = 8906;       #density(kg/m**3)\nM = 58.7;         #atomic weight\nmew0 = 4*math.pi*10**-7;\nmb = 9.27*10**-24;\nNa = 6.023*10**26;      #avagadro constant\n\n#Calculation\nN = rho*Na/M;         #number of atoms per unit volume(atoms/m**3)\nmew_r = B/(N*mew0);         #relative permeability(A/m**2)\nM = mew_r/mb;               #magnetic moment in mew_B \nM=math.ceil(M*10**3)/10**3;   #rounding off to 3 decimals\n\n#Result\nprint \"magnetic moment is\",M,\"mew_B\"",
     "language": "python",
     "metadata": {},
     "outputs": [
      {
       "output_type": "stream",
       "stream": "stdout",
       "text": "magnetic moment is 0.611 mew_B\n"
      }
     ],
     "prompt_number": 6
    },
    {
     "cell_type": "code",
     "collapsed": false,
     "input": "",
     "language": "python",
     "metadata": {},
     "outputs": []
    }
   ],
   "metadata": {}
  }
 ]
}