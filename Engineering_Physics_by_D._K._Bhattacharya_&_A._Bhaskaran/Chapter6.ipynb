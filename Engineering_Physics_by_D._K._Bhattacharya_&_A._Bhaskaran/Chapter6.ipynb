{
 "metadata": {
  "name": "Chapter6"
 },
 "nbformat": 3,
 "nbformat_minor": 0,
 "worksheets": [
  {
   "cells": [
    {
     "cell_type": "heading",
     "level": 1,
     "metadata": {},
     "source": "Conducting Materials"
    },
    {
     "cell_type": "heading",
     "level": 2,
     "metadata": {},
     "source": "Example number 6.1, Page number 170"
    },
    {
     "cell_type": "code",
     "collapsed": false,
     "input": "#To calculate the Fermi energy\n\n#importing modules\nimport math\n\n#Variable declaration\nm = 9.1*10**-31;          #mass of electron\nvf = 1*10**6;             #Fermi velocity(m/s)\ne = 1.6*10**-19;          #conversion factor from J to eV\n\n#Calculation\nEF = m*(vf**2)/(2*e);         #Fermi energy(eV)\nEF=math.ceil(EF*10**2)/10**2;   #rounding off to 2 decimals\n\n#Result\nprint \"Fermi energy is\",EF,\"eV\"",
     "language": "python",
     "metadata": {},
     "outputs": [
      {
       "output_type": "stream",
       "stream": "stdout",
       "text": "Fermi energy is 2.85 eV\n"
      }
     ],
     "prompt_number": 1
    },
    {
     "cell_type": "heading",
     "level": 2,
     "metadata": {},
     "source": "Example number 6.2, Page number 170"
    },
    {
     "cell_type": "code",
     "collapsed": false,
     "input": "#To calculate the Fermi energy\n\n#importing modules\nimport math\n\n#Variable declaration\nEF0 = 7.04;               #Fermi energy at 0K(eV)\nT = 300;                  #temperature(K)\nk = 1.38*10**-23;         #boltzmann constant\ne = 1.6*10**-19;          #conversion factor from J to eV\n\n#Calculation\nEF = EF0*(1-(((math.pi**2)/12)*(k*T/(EF0*e))**2));            #Fermi energy(eV)\nEF=math.ceil(EF*10**5)/10**5;   #rounding off to 5 decimals\n\n#Result\nprint \"Fermi energy is\",EF,\"eV\"",
     "language": "python",
     "metadata": {},
     "outputs": [
      {
       "output_type": "stream",
       "stream": "stdout",
       "text": "Fermi energy is 7.03993 eV\n"
      }
     ],
     "prompt_number": 2
    },
    {
     "cell_type": "heading",
     "level": 2,
     "metadata": {},
     "source": "Example number 6.3, Page number 171"
    },
    {
     "cell_type": "code",
     "collapsed": false,
     "input": "#To calculate the conductivity\n\n#importing modules\nimport math\n\n#Variable declaration\nd = 2.7*10**3;          #density of Al(kg/m**3)\nMat = 27;               #atomic weight of Al\ntow = 10**-14;          #relaxation time(sec)\nNa = 6.022*10**23;       #avagadro constant\na = 3*10**3;             #number of free electrons per atom\ne = 1.6*10**-19;         #charge of electron\nme = 9.1*10**-31;        #mass of electron\n\n#Calculation\nn = d*Na*a/Mat;          #concentration of atoms(per m**3)\nsigma = n*e**2*tow/me;          #conductivity(ohm m)\nsigma = sigma*10**-7;\nsigma=math.ceil(sigma*10**4)/10**4;   #rounding off to 4 decimals\n\n#Result\nprint \"conductivity of Al is\",sigma,\"*10**7 ohm m\"",
     "language": "python",
     "metadata": {},
     "outputs": [
      {
       "output_type": "stream",
       "stream": "stdout",
       "text": "conductivity of Al is 5.0824 *10**7 ohm m\n"
      }
     ],
     "prompt_number": 3
    },
    {
     "cell_type": "heading",
     "level": 2,
     "metadata": {},
     "source": "Example number 6.4, Page number 171"
    },
    {
     "cell_type": "code",
     "collapsed": false,
     "input": "#To calculate the Lorentz number\n\n#importing modules\nimport math\n\n#Variable declaration\nsigma = 5.87*10**7;         #electrical conductivity(per ohm m)\nK = 390;                    #thermal conductivity(W/mK)\nT = 20;                    #temperature(C)\n\n#Calculation\nT = T+273;                #temperature(K)\nL = K/(sigma*T);          #Lorentz number(W ohm/K**2)\n\n#Result\nprint \"Lorentz number is\",L,\"W ohm/K**2\"",
     "language": "python",
     "metadata": {},
     "outputs": [
      {
       "output_type": "stream",
       "stream": "stdout",
       "text": "Lorentz number is 2.26756051189e-08 W ohm/K**2\n"
      }
     ],
     "prompt_number": 4
    },
    {
     "cell_type": "heading",
     "level": 2,
     "metadata": {},
     "source": "Example number 6.5, Page number 172"
    },
    {
     "cell_type": "code",
     "collapsed": false,
     "input": "#To calculate the electrical conductivity\n\n#importing modules\nimport math\n\n#Variable declaration\nd = 8900;          #density of Cu(kg/m**3)\nMat = 63.5;               #atomic weight of Cu\ntow = 10**-14;          #relaxation time(sec)\nNa = 6.022*10**23;       #avagadro constant\na = 1*10**3;             #number of free electrons per atom\ne = 1.6*10**-19;         #charge of electron\nme = 9.1*10**-31;        #mass of electron\n\n#Calculation\nn = d*Na*a/Mat;          #concentration of atoms(per m**3)\nsigma = n*e**2*tow/me;          #electrical conductivity(ohm m)\nsigma = sigma*10**-7;\nsigma=math.ceil(sigma*10**4)/10**4;   #rounding off to 4 decimals\n\n#Result\nprint \"electrical conductivity is\",sigma,\"*10**7 ohm m\"",
     "language": "python",
     "metadata": {},
     "outputs": [
      {
       "output_type": "stream",
       "stream": "stdout",
       "text": "electrical conductivity is 2.3745 *10**7 ohm m\n"
      }
     ],
     "prompt_number": 5
    },
    {
     "cell_type": "heading",
     "level": 2,
     "metadata": {},
     "source": "Example number 6.6, Page number 172"
    },
    {
     "cell_type": "code",
     "collapsed": false,
     "input": "#To calculate the relaxation time, mobility of electrons, average drift, velocity and mean free path\n\n#importing modules\nimport math\n\n#Variable declaration\nrho = 1.54*10**-8;         #resistivity(ohm m)\nEF = 5.5;                  #fermi energy(eV)\nme = 9.1*10**-31;          #mass of electron\nepsilon = 100;\ne = 1.6*10**-19;           #charge of electron\nn = 5.8*10**28;            #concentration of electrons(per m**3)\n\n#Calculation\ntow = me/(rho*n*e**2);        #relaxation time(sec)\nmew = e*tow/me;               #mobility of electrons(m**2/Vs)\nmew = mew*10**3;\nvd = e*tow*epsilon/me;        #drift velocity(m/s)\nvd=math.ceil(vd*10)/10;   #rounding off to 1 decimal\nEF = EF*e;                    #fermi energy((J)\nvF = math.sqrt(2*EF/me);           #fermi velocity(m/s)\nvf = vF*10**-6;\nvf=math.ceil(vf*10**3)/10**3;   #rounding off to 3 decimals\nlamda_m = vF*tow;                  #mean free path(m)\n\n#Result\nprint \"relaxation time of electrons is\",tow,\"sec\"\nprint \"mobility of electrons is\",mew,\"*10**-3 m**2/Vs\"\nprint \"drift velocity of electrons is\",vd,\"m/s\"\nprint \"drift velocity given in the book is wrong\"\nprint \"fermi velocity of electrons is\",vf,\"*10**6 m/s\"\nprint \"mean free path is\",lamda_m,\"m\"",
     "language": "python",
     "metadata": {},
     "outputs": [
      {
       "output_type": "stream",
       "stream": "stdout",
       "text": "relaxation time of electrons is 3.97972178683e-14 sec\nmobility of electrons is 6.9973130318 *10**-3 m**2/Vs\ndrift velocity of electrons is 0.7 m/s\ndrift velocity given in the book is wrong\nfermi velocity of electrons is 1.391 *10**6 m/s\nmean free path is 5.53462691011e-08 m\n"
      }
     ],
     "prompt_number": 9
    },
    {
     "cell_type": "heading",
     "level": 2,
     "metadata": {},
     "source": "Example number 6.7, Page number 174"
    },
    {
     "cell_type": "code",
     "collapsed": false,
     "input": "#To calculate the thermal conductivity\n\n#importing modules\nimport math\n\n#Variable declaration\nrho = 1.72*10**-8;          #electrical resistivity(ohm m)\nL = 2.26*10**-8;            #Lorentz number(ohm W/K**2)\nT = 27;                     #temperature(C)\n\n#Calculation\nT = T+273;                #temperature(K)\nK = L*T/rho;          #thermal conductivity(W/mK)\n\n#Result\nprint \"thermal conductivity is\",int(K),\"W/mK\"",
     "language": "python",
     "metadata": {},
     "outputs": [
      {
       "output_type": "stream",
       "stream": "stdout",
       "text": "thermal conductivity is 394 W/mK\n"
      }
     ],
     "prompt_number": 10
    },
    {
     "cell_type": "heading",
     "level": 2,
     "metadata": {},
     "source": "Example number 6.8, Page number 174"
    },
    {
     "cell_type": "code",
     "collapsed": false,
     "input": "#To calculate the Lorentz number\n\n#importing modules\nimport math\n\n#Variable declaration\nsigma = 5.87*10**7;         #electrical conductivity(per ohm m)\nK = 390;                    #thermal conductivity(W/mK)\nT = 20;                    #temperature(C)\n\n#Calculation\nT = T+273;                #temperature(K)\nL = K/(sigma*T);          #Lorentz number(W ohm/K**2)\n\n#Result\nprint \"Lorentz number is\",L,\"W ohm/K**2\"",
     "language": "python",
     "metadata": {},
     "outputs": [
      {
       "output_type": "stream",
       "stream": "stdout",
       "text": "Lorentz number is 2.26756051189e-08 W ohm/K**2\n"
      }
     ],
     "prompt_number": 11
    },
    {
     "cell_type": "heading",
     "level": 2,
     "metadata": {},
     "source": "Example number 6.9, Page number 174"
    },
    {
     "cell_type": "code",
     "collapsed": false,
     "input": "#To calculate the value of F(E)\n\n#importing modules\nimport math\n\n#Variable declaration\nE_EF = 0.01;               #energy(eV)\ne = 1.6*10**-19;           #conversion factor from eV to J\nT = 200;                    #temperature(K)\nk = 1.38*10**-23;           #boltzmann constant(J/K)\n\n#Calculation\nE_EF = E_EF*e;            #energy(J)\nA = E_EF/(k*T);\nFofE = 1/(1+(math.exp(A)));           #value of F(E)\nFofE=math.ceil(FofE*10**2)/10**2;   #rounding off to 2 decimals\n\n#Result\nprint \"value of F(E) is\",FofE",
     "language": "python",
     "metadata": {},
     "outputs": [
      {
       "output_type": "stream",
       "stream": "stdout",
       "text": "value of F(E) is 0.36\n"
      }
     ],
     "prompt_number": 12
    },
    {
     "cell_type": "heading",
     "level": 2,
     "metadata": {},
     "source": "Example number 6.10, Page number 175"
    },
    {
     "cell_type": "code",
     "collapsed": false,
     "input": "#To calculate the electrical conductivity\n\n#importing modules\nimport math\n\n#Variable declaration\nlamda = 4*10**-8;     #mean free path(m)\nn = 8.4*10**28;          #density(per m**3)\nvthbar = 1.6*10**6;        #average thermal velocity(m/s)\ne = 1.6*10**-19;         #charge of electron(c)\nm = 9.11*10**-31;        #mass of electron\n\n#Calculation\nsigma = n*e**2*lamda/(m*vthbar);        #electrical conductivity(ohm-1 m-1)\nsigma = sigma*10**-7;\nsigma=math.ceil(sigma*100)/100;   #rounding off to 2 decimals\n\n#Result\nprint \"electrical conductivity is\",sigma,\"*10**7 ohm-1 m-1\"",
     "language": "python",
     "metadata": {},
     "outputs": [
      {
       "output_type": "stream",
       "stream": "stdout",
       "text": "electrical conductivity is 5.91 *10**7 ohm-1 m-1\n"
      }
     ],
     "prompt_number": 13
    },
    {
     "cell_type": "heading",
     "level": 2,
     "metadata": {},
     "source": "Example number 6.11, Page number 176"
    },
    {
     "cell_type": "code",
     "collapsed": false,
     "input": "#To calculate the electrical,thermal conductivity and Lorentz number\n\n#importing modules\nimport math\n\n#Variable declaration\ntow = 10**-14;         #relaxation time(sec)\nT = 300;               #temperature(K)\nn = 6*10**28;          #electron concentration(per m**3)\ne = 1.6*10**-19;         #charge of electron(c)\nme = 9.1*10**-31;        #mass of electron\nk = 1.38*10**-23;           #boltzmann constant(J/K)\n\n#Calculation\nsigma = n*e**2*tow/me;        #electrical conductivity(ohm-1 m-1)\nsigmaa = sigma*10**-7;\nsigmaa=math.ceil(sigmaa*100)/100;   #rounding off to 2 decimals\nK = 3*n*(k**2)*tow*T/(2*me);           #thermal conductivity(W/mK)\nK=math.ceil(K*10)/10;   #rounding off to 1 decimal\nL = K/(sigma*T);         #Lorentz number(W ohm/K**2)\n\n#Result\nprint \"electrical conductivity is\",sigmaa,\"*10**7 ohm-1 m-1\"\nprint \"thermal conductivity is\",K,\"W/mK\"\nprint \"Lorentz number is\",L,\"W ohm/K**2\"\nprint \"answer for thermal conductivity and Lorentz number given in the book are wrong\"",
     "language": "python",
     "metadata": {},
     "outputs": [
      {
       "output_type": "stream",
       "stream": "stdout",
       "text": "electrical conductivity is 1.69 *10**7 ohm-1 m-1\nthermal conductivity is 56.6 W/mK\nLorentz number is 1.11775173611e-08 W ohm/K**2\nanswer for thermal conductivity and Lorentz number given in the book are wrong\n"
      }
     ],
     "prompt_number": 16
    },
    {
     "cell_type": "heading",
     "level": 2,
     "metadata": {},
     "source": "Example number 6.12, Page number 177"
    },
    {
     "cell_type": "code",
     "collapsed": false,
     "input": "#To calculate the relaxation time\n\n#importing modules\nimport math\n\n#Variable declaration\nn = 5.8*10**28;          #electron concentration(per m**3)\ne = 1.6*10**-19;         #charge of electron(c)\nm = 9.1*10**-31;        #mass of electron\nrho = 1.54*10**-8;       #resistivity of metal(ohm m)\n\n#Calculation\ntow = m/(n*rho*e**2);         #relaxation time(sec)\n\n#Result\nprint \"relaxation time is\",tow,\"sec\"\nprint \"answer given in the book is wrong\"",
     "language": "python",
     "metadata": {},
     "outputs": [
      {
       "output_type": "stream",
       "stream": "stdout",
       "text": "relaxation time is 3.97972178683e-14 sec\nanswer given in the book is wrong\n"
      }
     ],
     "prompt_number": 17
    },
    {
     "cell_type": "heading",
     "level": 2,
     "metadata": {},
     "source": "Example number 6.13, Page number 177"
    },
    {
     "cell_type": "code",
     "collapsed": false,
     "input": "#To calculate the relaxation time, mobility of electrons, drift velocity \n\n#importing modules\nimport math\n\n#Variable declaration\nrho = 1.54*10**-8;         #resistivity(ohm m)\nE = 1;                  #electric field(V/cm)\nme = 9.1*10**-31;          #mass of electron\ne = 1.6*10**-19;           #charge of electron\nn = 5.8*10**28;            #concentration of electrons(per m**3)\n\n#Calculation\nE = E*10**2;            #electric field(V/m)\ntow = me/(rho*n*e**2);        #relaxation time(sec)\nvd = e*E*tow/me;        #drift velocity(m/s)\nvd=math.ceil(vd*10)/10;   #rounding off to 1 decimal\nmew = vd/E;               #mobility of electrons(m**2/Vs)\nmew = mew*10**2;\n\n#Result\nprint \"relaxation time of electrons is\",tow,\"sec\"\nprint \"drift velocity of electrons is\",vd,\"m/s\"\nprint \"mobility of electrons is\",mew,\"*10**-2 m**2/Vs\"",
     "language": "python",
     "metadata": {},
     "outputs": [
      {
       "output_type": "stream",
       "stream": "stdout",
       "text": "relaxation time of electrons is 3.97972178683e-14 sec\ndrift velocity of electrons is 0.7 m/s\nmobility of electrons is 0.7 *10**-2 m**2/Vs\n"
      }
     ],
     "prompt_number": 18
    },
    {
     "cell_type": "heading",
     "level": 2,
     "metadata": {},
     "source": "Example number 6.14, Page number 178"
    },
    {
     "cell_type": "code",
     "collapsed": false,
     "input": "#To calculate the drift velocity \n\n#importing modules\nimport math\n\n#Variable declaration\nT = 300;                   #temperature(K)\nl = 2;                     #length of wire(m)\nR = 0.02;                  #resistance(ohm)\nI = 15;                    #current(amp)\nmew = 4.3*10**-3;          #mobility(m**2/Vs)\n\n#Calculation\nV = I*R;                   #voltage drop(V)\nE = V/l;                   #electric field(V/m)\nvd = mew*E;                #drift velocity(m/s)\nvd = vd*10**3;\nvd=math.ceil(vd*100)/100;   #rounding off to 2 decimals\n\n#Result\nprint \"drift velocity of electrons is\",vd,\"*10**-3 m/s\"",
     "language": "python",
     "metadata": {},
     "outputs": [
      {
       "output_type": "stream",
       "stream": "stdout",
       "text": "drift velocity of electrons is 0.65 *10**-3 m/s\n"
      }
     ],
     "prompt_number": 19
    },
    {
     "cell_type": "heading",
     "level": 2,
     "metadata": {},
     "source": "Example number 6.15, Page number 179"
    },
    {
     "cell_type": "code",
     "collapsed": false,
     "input": "#To calculate the Fermi energy and Fermi temperature\n\n#importing modules\nimport math\n\n#Variable declaration\nvf = 0.86*10**6;          #fermi velocity(m/s)\nm = 9.1*10**-31;          #mass of electron(kg)\ne = 1.6*10**-19;          #charge of electron(C)\nk = 1.38*10**-23;         #boltzmann constant\n\n#Calculation\nEF = m*vf**2/(2*e);       #fermi energy(eV)\nEF=math.ceil(EF*100)/100;   #rounding off to 2 decimals\nTF = EF*e/k;                  #fermi temperature(K)\n\n#Result\nprint \"Fermi energy is\",EF,\"eV\"\nprint \"Fermi temperature is\",int(TF),\"K\"\nprint \"answer for fermi temperature given in the book is wrong due to rounding off the value of EF\"",
     "language": "python",
     "metadata": {},
     "outputs": [
      {
       "output_type": "stream",
       "stream": "stdout",
       "text": "Fermi energy is 2.11 eV\nFermi temperature is 24463 K\nanswer for fermi temperature given in the book is wrong due to rounding off the value of EF\n"
      }
     ],
     "prompt_number": 24
    },
    {
     "cell_type": "heading",
     "level": 2,
     "metadata": {},
     "source": "Example number 6.16, Page number 179"
    },
    {
     "cell_type": "code",
     "collapsed": false,
     "input": "#To calculate the Fermi velocity\n\n#importing modules\nimport math\n\n#Variable declaration\nTF = 2460;            #fermi temperature(K)\nm = 9.11*10**-31;          #mass of electron(kg)\nk = 1.38*10**-23;         #boltzmann constant\n\n#Calculation\nvF = math.sqrt(2*k*TF/m);          #fermi velocity(m/s)\nvF = vF*10**-5;\nvF=math.ceil(vF*10**3)/10**3;   #rounding off to 3 decimals\n\n#Result\nprint \"Fermi velocity is\",vF,\"*10**5 m/s\"",
     "language": "python",
     "metadata": {},
     "outputs": [
      {
       "output_type": "stream",
       "stream": "stdout",
       "text": "Fermi velocity is 2.731 *10**5 m/s\n"
      }
     ],
     "prompt_number": 25
    },
    {
     "cell_type": "code",
     "collapsed": false,
     "input": "",
     "language": "python",
     "metadata": {},
     "outputs": []
    }
   ],
   "metadata": {}
  }
 ]
}