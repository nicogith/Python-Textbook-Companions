{
 "metadata": {
  "name": "Chapter10"
 },
 "nbformat": 3,
 "nbformat_minor": 0,
 "worksheets": [
  {
   "cells": [
    {
     "cell_type": "heading",
     "level": 1,
     "metadata": {},
     "source": "Dielectric Materials"
    },
    {
     "cell_type": "heading",
     "level": 2,
     "metadata": {},
     "source": "Example number 10.1, Page number 289"
    },
    {
     "cell_type": "code",
     "collapsed": false,
     "input": "#To calculate the electronic polarizability of He atoms\n\n#importing modules\nimport math\n\n#Variable declaration\nepsilon_r = 1.0000684;            #dielectric constant\nN = 2.7*10**25;                   #number of atoms(per m**3)\nepsilon0 = 8.85*10**-12;          #permittivity of free space\n\n#Calculation\nalpha_e = epsilon0*(epsilon_r-1)/N;       #electronic polarizability(Fm**2)\n\n#Result\nprint \"electronic polarizability is\",alpha_e,\"Fm**2\"",
     "language": "python",
     "metadata": {},
     "outputs": [
      {
       "output_type": "stream",
       "stream": "stdout",
       "text": "electronic polarizability is 2.242e-41 Fm**2\n"
      }
     ],
     "prompt_number": 1
    },
    {
     "cell_type": "heading",
     "level": 2,
     "metadata": {},
     "source": "Example number 10.2, Page number 290"
    },
    {
     "cell_type": "code",
     "collapsed": false,
     "input": "#To calculate the electronic polarizability of Argon gas\n\n#importing modules\nimport math\n\n#Variable declaration\nepsilon_r = 1.0024;            #relative permittivity\nN = 2.7*10**25;                   #number of atoms(per m**3)\nepsilon0 = 8.85*10**-12;          #permittivity of free space\n\n#Calculation\nalpha_e = epsilon0*(epsilon_r-1)/N;       #electronic polarizability(Fm**2)\n\n#Result\nprint \"electronic polarizability is\",alpha_e,\"Fm**2\"",
     "language": "python",
     "metadata": {},
     "outputs": [
      {
       "output_type": "stream",
       "stream": "stdout",
       "text": "electronic polarizability is 7.86666666667e-40 Fm**2\n"
      }
     ],
     "prompt_number": 3
    },
    {
     "cell_type": "code",
     "collapsed": false,
     "input": "",
     "language": "python",
     "metadata": {},
     "outputs": []
    }
   ],
   "metadata": {}
  }
 ]
}