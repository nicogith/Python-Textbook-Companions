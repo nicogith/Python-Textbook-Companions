{
 "metadata": {
  "name": "",
  "signature": "sha256:e55f587b2da98ead68f73bb2b4d29bef91aa67eb577c460fb9dcaab92acc4339"
 },
 "nbformat": 3,
 "nbformat_minor": 0,
 "worksheets": [
  {
   "cells": [
    {
     "cell_type": "heading",
     "level": 1,
     "metadata": {},
     "source": [
      "Ultrasonics"
     ]
    },
    {
     "cell_type": "heading",
     "level": 2,
     "metadata": {},
     "source": [
      "Example number 1.1, Page number 20"
     ]
    },
    {
     "cell_type": "code",
     "collapsed": false,
     "input": [
      "#To calculate the depth of a submerged submarine\n",
      "\n",
      "#Variable declaration\n",
      "v = 1440;         #velocity of ultrasonic waves(m/s)\n",
      "t = 0.33;         #time elapsed(s)\n",
      "\n",
      "#Calculation\n",
      "d = v*t;      #distance travelled(m)\n",
      "d1 = d/2;     #depth of submarine(m)\n",
      "\n",
      "#Result\n",
      "print \"depth of the submerged submarine is\",d1, \"m\""
     ],
     "language": "python",
     "metadata": {},
     "outputs": [
      {
       "output_type": "stream",
       "stream": "stdout",
       "text": [
        "depth of the submerged submarine is 237.6 m\n"
       ]
      }
     ],
     "prompt_number": 1
    },
    {
     "cell_type": "heading",
     "level": 2,
     "metadata": {},
     "source": [
      "Example number 1.2, Page number 21"
     ]
    },
    {
     "cell_type": "code",
     "collapsed": false,
     "input": [
      "#To calculate the natural frequency \n",
      "\n",
      "#importing modules\n",
      "import math\n",
      "\n",
      "#Variable declaration\n",
      "l = 40;     #length of iron rod(mm)\n",
      "E = 115*10**9;      #Young's modulus(N/m**2)\n",
      "rho = 7.25*10**3;   #density of pure iron(kg/m**3)\n",
      "\n",
      "#Calculation\n",
      "l = l*10**-3;     #length of iron rod(m)\n",
      "new = (1/(2*l))*math.sqrt(E/rho);     #natural frequency of the rod(Hz)\n",
      "new = new*10**-3;             #natural frequency of the rod(kHz)\n",
      "new=math.ceil(new*10**3)/10**3;   #rounding off to 3 decimals\n",
      "\n",
      "#Result\n",
      "print \"depth of the submerged submarine is\",new, \"kHz\""
     ],
     "language": "python",
     "metadata": {},
     "outputs": [
      {
       "output_type": "stream",
       "stream": "stdout",
       "text": [
        "depth of the submerged submarine is 49.785 kHz\n"
       ]
      }
     ],
     "prompt_number": 2
    },
    {
     "cell_type": "heading",
     "level": 2,
     "metadata": {},
     "source": [
      "Example number 1.3, Page number 21"
     ]
    },
    {
     "cell_type": "code",
     "collapsed": false,
     "input": [
      "#To calculate the fundamental frequency \n",
      "\n",
      "#importing modules\n",
      "import math\n",
      "\n",
      "#Variable declaration\n",
      "l = 1;     #length of quartz crystal(mm)\n",
      "E = 7.9*10**10;      #Young's modulus(N/m**2)\n",
      "rho = 2650;   #density(kg/m**3)\n",
      "\n",
      "#Calculation\n",
      "l = l*10**-3;     #length of iron rod(m)\n",
      "new = (1/(2*l))*math.sqrt(E/rho);     #natural frequency of the rod(Hz)\n",
      "new = new*10**-6;                   \n",
      "new=math.ceil(new*10**2)/10**2;   #rounding off to 2 decimals\n",
      "\n",
      "#Result\n",
      "print \"fundamental frequency of crystal is\",new, \"*10**6 Hz\""
     ],
     "language": "python",
     "metadata": {},
     "outputs": [
      {
       "output_type": "stream",
       "stream": "stdout",
       "text": [
        "fundamental frequency of crystal is 2.73 *10**6 Hz\n"
       ]
      }
     ],
     "prompt_number": 3
    },
    {
     "cell_type": "heading",
     "level": 2,
     "metadata": {},
     "source": [
      "Example number 1.4, Page number 22"
     ]
    },
    {
     "cell_type": "code",
     "collapsed": false,
     "input": [
      "#To calculate the velocity of waves\n",
      "\n",
      "#importing modules\n",
      "import math\n",
      "\n",
      "#Variable declaration\n",
      "d = 0.55;        #distance between 2 constructive antinodes(mm)\n",
      "new = 1.5;      #frequency of crystal(MHz)\n",
      " \n",
      "#Calculation\n",
      "new = new*10**6;        #frequency of crystal(Hz)\n",
      "d = d*10**-3;     #distance between 2 constructive antinodes(m)\n",
      "#distance between 2 antinodes is given by lamda/2\n",
      "lamda = 2*d;      #wavelength of ultrasonic waves(m)\n",
      "v = new*lamda;       #velocity of waves(m/s)\n",
      "\n",
      "#Result\n",
      "print \"velocity of waves is\",int(v), \"m/s\""
     ],
     "language": "python",
     "metadata": {},
     "outputs": [
      {
       "output_type": "stream",
       "stream": "stdout",
       "text": [
        "velocity of waves is 1650 m/s\n"
       ]
      }
     ],
     "prompt_number": 4
    },
    {
     "cell_type": "heading",
     "level": 2,
     "metadata": {},
     "source": [
      "Example number 1.5, Page number 22"
     ]
    },
    {
     "cell_type": "code",
     "collapsed": false,
     "input": [
      "#To calculate the natural frequency\n",
      "\n",
      "#importing modules\n",
      "import math\n",
      "\n",
      "#Variable declaration\n",
      "l = 50;     #length of rod(mm)\n",
      "E = 11.5*10**10;      #Young's modulus(N/m**2)\n",
      "rho = 7250;   #density(kg/m**3)\n",
      "\n",
      "#Calculation\n",
      "l = l*10**-3;     #length of iron rod(m)\n",
      "new = (1/(2*l))*math.sqrt(E/rho);     #natural frequency of the rod(Hz)\n",
      "new = new*10**-3;       #natural frequency of the rod(kHz)\n",
      "new = math.ceil(new*10**2)/10**2;   #rounding off to 2 decimals\n",
      "\n",
      "#Result\n",
      "print \"natural frequency of rod is\",new, \"kHz\""
     ],
     "language": "python",
     "metadata": {},
     "outputs": [
      {
       "output_type": "stream",
       "stream": "stdout",
       "text": [
        "natural frequency of rod is 39.83 kHz\n"
       ]
      }
     ],
     "prompt_number": 6
    },
    {
     "cell_type": "heading",
     "level": 2,
     "metadata": {},
     "source": [
      "Example number 1.6, Page number 22"
     ]
    },
    {
     "cell_type": "code",
     "collapsed": false,
     "input": [
      "#To calculate the frequency\n",
      "\n",
      "#importing modules\n",
      "import math\n",
      "\n",
      "#Variable declaration\n",
      "l = 2;     #length of crystal(mm)\n",
      "E = 7.9*10**10;      #Young's modulus(N/m**2)\n",
      "rho = 2650;   #density(kg/m**3)\n",
      "\n",
      "#Calculation\n",
      "l = l*10**-3;     #length of iron rod(m)\n",
      "new = (1/(2*l))*math.sqrt(E/rho);     #natural frequency of the rod(Hz)\n",
      "new = new*10**-6;         #natural frequency of the rod(MHz)\n",
      "new=math.ceil(new*10**3)/10**3;   #rounding off to 3 decimals\n",
      "\n",
      "#Result\n",
      "print \"frequency of crystal is\",new, \"MHz\""
     ],
     "language": "python",
     "metadata": {},
     "outputs": [
      {
       "output_type": "stream",
       "stream": "stdout",
       "text": [
        "frequency of crystal is 1.365 MHz\n"
       ]
      }
     ],
     "prompt_number": 7
    },
    {
     "cell_type": "heading",
     "level": 2,
     "metadata": {},
     "source": [
      "Example number 1.7, Page number 23"
     ]
    },
    {
     "cell_type": "code",
     "collapsed": false,
     "input": [
      "#To calculate the frequency\n",
      "\n",
      "#importing modules\n",
      "import math\n",
      "\n",
      "#Variable declaration\n",
      "l = 3;     #length of crystal(mm)\n",
      "E = 8*10**10;      #Young's modulus(N/m**2)\n",
      "rho = 2500;   #density(kg/m**3)\n",
      "\n",
      "#Calculation\n",
      "l = l*10**-3;     #length of iron rod(m)\n",
      "new = (1/(2*l))*math.sqrt(E/rho);     #natural frequency of the rod(Hz)\n",
      "new = new*10**-3;         #natural frequency of the rod(kHz) \n",
      "new=math.ceil(new*10**2)/10**2;   #rounding off to 2 decimals\n",
      "\n",
      "#Result\n",
      "print \"frequency of crystal is\",new, \"kHz\""
     ],
     "language": "python",
     "metadata": {},
     "outputs": [
      {
       "output_type": "stream",
       "stream": "stdout",
       "text": [
        "frequency of crystal is 942.81 kHz\n"
       ]
      }
     ],
     "prompt_number": 8
    },
    {
     "cell_type": "heading",
     "level": 2,
     "metadata": {},
     "source": [
      "Example number 1.8, Page number 23"
     ]
    },
    {
     "cell_type": "code",
     "collapsed": false,
     "input": [
      "#To calculate the frequency\n",
      "\n",
      "#importing modules\n",
      "import math\n",
      "\n",
      "#Variable declaration\n",
      "l = 1.5;     #length of crystal(mm)\n",
      "E = 7.9*10**10;      #Young's modulus(N/m**2)\n",
      "rho = 2650;   #density(kg/m**3)\n",
      "\n",
      "#Calculation\n",
      "l = l*10**-3;     #length of iron rod(m)\n",
      "new = (1/(2*l))*math.sqrt(E/rho);     #natural frequency of the rod(Hz)\n",
      "new = new*10**-6;         #natural frequency of the rod(MHz) \n",
      "new=math.ceil(new*10**2)/10**2;   #rounding off to 2 decimals\n",
      "\n",
      "#Result\n",
      "print \"frequency of crystal is\",new, \"MHz\""
     ],
     "language": "python",
     "metadata": {},
     "outputs": [
      {
       "output_type": "stream",
       "stream": "stdout",
       "text": [
        "frequency of crystal is 1.82 MHz\n"
       ]
      }
     ],
     "prompt_number": 9
    },
    {
     "cell_type": "heading",
     "level": 2,
     "metadata": {},
     "source": [
      "Example number 1.9, Page number 24"
     ]
    },
    {
     "cell_type": "code",
     "collapsed": false,
     "input": [
      "#To calculate the depth of the sea\n",
      "\n",
      "#Variable declaration\n",
      "v = 1440;         #velocity of ultrasonic waves(m/s)\n",
      "t = 0.95;         #time elapsed(s)\n",
      "\n",
      "#Calculation\n",
      "d = v*t;      #distance travelled(m)\n",
      "d1 = d/2;     #depth of sea(m)\n",
      "\n",
      "#Result\n",
      "print \"depth of the submerged submarine is\",int(d1), \"m\""
     ],
     "language": "python",
     "metadata": {},
     "outputs": [
      {
       "output_type": "stream",
       "stream": "stdout",
       "text": [
        "depth of the submerged submarine is 684 m\n"
       ]
      }
     ],
     "prompt_number": 10
    },
    {
     "cell_type": "heading",
     "level": 2,
     "metadata": {},
     "source": [
      "Example number 1.10, Page number 24"
     ]
    },
    {
     "cell_type": "code",
     "collapsed": false,
     "input": [
      "#To calculate the depth of a submerged submarine\n",
      "\n",
      "#Variable declaration\n",
      "v = 1440;         #velocity of ultrasonic waves(m/s)\n",
      "t = 0.83;         #time elapsed(s)\n",
      "\n",
      "#Calculation\n",
      "d = v*t;      #distance travelled(m)\n",
      "d1 = d/2;     #depth of submarine(m)\n",
      "\n",
      "#Result\n",
      "print \"depth of the submerged submarine is\",d1, \"m\""
     ],
     "language": "python",
     "metadata": {},
     "outputs": [
      {
       "output_type": "stream",
       "stream": "stdout",
       "text": [
        "depth of the submerged submarine is 597.6 m\n"
       ]
      }
     ],
     "prompt_number": 11
    },
    {
     "cell_type": "heading",
     "level": 2,
     "metadata": {},
     "source": [
      "Example number 1.11, Page number 24"
     ]
    },
    {
     "cell_type": "code",
     "collapsed": false,
     "input": [
      "#To calculate the reverberation time of hall\n",
      "\n",
      "#importing modules\n",
      "import math\n",
      "\n",
      "#Variable declaration\n",
      "aS = 1050;      #total absorption inside hall(Sabine)\n",
      "V = 9000;       #volume of cinema hall(m**3)\n",
      "\n",
      "#Calculation\n",
      "T = 0.165*V/aS;     #reverberation time of hall(s)\n",
      "T = math.ceil(T*10**4)/10**4;   #rounding off to 4 decimals\n",
      "\n",
      "#Result\n",
      "print \"reverberation time of the hall is\",T, \"s\""
     ],
     "language": "python",
     "metadata": {},
     "outputs": [
      {
       "output_type": "stream",
       "stream": "stdout",
       "text": [
        "reverberation time of the hall is 1.4143 s\n"
       ]
      }
     ],
     "prompt_number": 13
    },
    {
     "cell_type": "heading",
     "level": 2,
     "metadata": {},
     "source": [
      "Example number 1.12, Page number 25"
     ]
    },
    {
     "cell_type": "code",
     "collapsed": false,
     "input": [
      "#To calculate the area of interior surface\n",
      "\n",
      "#importing modules\n",
      "import math\n",
      "\n",
      "#Variable declaration\n",
      "a = 0.65;      #average absorption coefficient(Sabine/m**2)\n",
      "V = 13500;       #volume of auditorium(m**3)\n",
      "T = 1.2;         #reverberation time of hall(s)\n",
      "\n",
      "#Calculation\n",
      "S = 0.165*V/(a*T);     #reverberation time of hall(s)\n",
      "S = math.ceil(S*10)/10;   #rounding off to 1 decimal\n",
      "\n",
      "#Result\n",
      "print \"total area of interior surface is\",S, \"m**2\""
     ],
     "language": "python",
     "metadata": {},
     "outputs": [
      {
       "output_type": "stream",
       "stream": "stdout",
       "text": [
        "total area of interior surface is 2855.8 m**2\n"
       ]
      }
     ],
     "prompt_number": 14
    },
    {
     "cell_type": "heading",
     "level": 2,
     "metadata": {},
     "source": [
      "Example number 1.13, Page number 25"
     ]
    },
    {
     "cell_type": "code",
     "collapsed": false,
     "input": [
      "#To calculate the new reverberation time of hall\n",
      "\n",
      "#importing modules\n",
      "import math\n",
      "\n",
      "#Variable declaration\n",
      "V = 15000;       #volume of cinema hall(m**3)\n",
      "T1 = 1.3;        #initial reverberation time of hall(s)\n",
      "a1S1 = 300;      #number of chairs placed\n",
      "\n",
      "#Calculation\n",
      "aS = 0.165*V/T1;         #total absorption of hall\n",
      "T2 = (0.165*V)/(aS+a1S1);      #reverberation time of hall after adding chairs(s)\n",
      "T2 = math.ceil(T2*10**4)/10**4;   #rounding off to 4 decimals\n",
      "\n",
      "#Result\n",
      "print \"reverberation time of the hall after adding chairs is\",T2, \"s\""
     ],
     "language": "python",
     "metadata": {},
     "outputs": [
      {
       "output_type": "stream",
       "stream": "stdout",
       "text": [
        "reverberation time of the hall after adding chairs is 1.1231 s\n"
       ]
      }
     ],
     "prompt_number": 16
    },
    {
     "cell_type": "heading",
     "level": 2,
     "metadata": {},
     "source": [
      "Example number 1.14, Page number 26"
     ]
    },
    {
     "cell_type": "code",
     "collapsed": false,
     "input": [
      "#To calculate the depth of a submerged submarine\n",
      "\n",
      "#Variable declaration\n",
      "v = 1440;         #velocity of ultrasonic waves(m/s)\n",
      "t = 0.5;         #time elapsed(s)\n",
      "\n",
      "#Calculation\n",
      "d = v*t;      #distance travelled(m)\n",
      "d1 = d/2;     #depth of submarine(m)\n",
      "\n",
      "#Result\n",
      "print \"depth of the submerged submarine is\",int(d1), \"m\""
     ],
     "language": "python",
     "metadata": {},
     "outputs": [
      {
       "output_type": "stream",
       "stream": "stdout",
       "text": [
        "depth of the submerged submarine is 360 m\n"
       ]
      }
     ],
     "prompt_number": 17
    },
    {
     "cell_type": "heading",
     "level": 2,
     "metadata": {},
     "source": [
      "Example number 1.15, Page number 26"
     ]
    },
    {
     "cell_type": "code",
     "collapsed": false,
     "input": [
      "#To calculate the velocity of waves\n",
      "\n",
      "#importing modules\n",
      "import math\n",
      "\n",
      "#Variable declaration\n",
      "d = 0.4;        #distance between 2 constructive antinodes(mm)\n",
      "new = 1.5;      #frequency of crystal(MHz)\n",
      " \n",
      "#Calculation\n",
      "new = new*10**6;        #frequency of crystal(Hz)\n",
      "d = d*10**-3;     #distance between 2 constructive antinodes(m)\n",
      "#distance between 2 antinodes is given by lamda/2\n",
      "lamda = 2*d;      #wavelength of ultrasonic waves(m)\n",
      "v = new*lamda;       #velocity of waves(m/s)\n",
      "\n",
      "#Result\n",
      "print \"velocity of waves is\",int(v), \"m/s\""
     ],
     "language": "python",
     "metadata": {},
     "outputs": [
      {
       "output_type": "stream",
       "stream": "stdout",
       "text": [
        "velocity of waves is 1200 m/s\n"
       ]
      }
     ],
     "prompt_number": 18
    },
    {
     "cell_type": "heading",
     "level": 2,
     "metadata": {},
     "source": [
      "Example number 1.16, Page number 26"
     ]
    },
    {
     "cell_type": "code",
     "collapsed": false,
     "input": [
      "#To calculate the natural frequency \n",
      "\n",
      "#importing modules\n",
      "import math\n",
      "\n",
      "#Variable declaration\n",
      "l = 40;     #length of iron rod(mm)\n",
      "E = 11.5*10**10;      #Young's modulus(N/m**2)\n",
      "rho = 7250;   #density of pure iron(kg/m**3)\n",
      "\n",
      "#Calculation\n",
      "l = l*10**-3;     #length of iron rod(m)\n",
      "new = (1/(2*l))*math.sqrt(E/rho);     #natural frequency of the rod(Hz)\n",
      "new = new*10**-3;             #natural frequency of the rod(kHz)\n",
      "new=math.ceil(new*10**3)/10**3;   #rounding off to 3 decimals\n",
      "\n",
      "#Result\n",
      "print \"depth of the submerged submarine is\",new, \"kHz\""
     ],
     "language": "python",
     "metadata": {},
     "outputs": [
      {
       "output_type": "stream",
       "stream": "stdout",
       "text": [
        "depth of the submerged submarine is 49.785 kHz\n"
       ]
      }
     ],
     "prompt_number": 19
    },
    {
     "cell_type": "code",
     "collapsed": false,
     "input": [],
     "language": "python",
     "metadata": {},
     "outputs": []
    }
   ],
   "metadata": {}
  }
 ]
}