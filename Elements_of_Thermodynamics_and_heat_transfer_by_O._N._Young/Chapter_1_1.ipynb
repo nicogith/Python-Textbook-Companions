{
 "metadata": {
  "name": "",
  "signature": "sha256:b4cfb785282e641d646d41001a3d0f6e3b05cd9780e1e3c87c417c701544b8b7"
 },
 "nbformat": 3,
 "nbformat_minor": 0,
 "worksheets": [
  {
   "cells": [
    {
     "cell_type": "heading",
     "level": 1,
     "metadata": {},
     "source": [
      "Chapter 1 - Units and Dimensions"
     ]
    },
    {
     "cell_type": "heading",
     "level": 2,
     "metadata": {},
     "source": [
      "Example 1 - Pg 4"
     ]
    },
    {
     "cell_type": "code",
     "collapsed": false,
     "input": [
      "#calculate the force required to accelerate\n",
      "#Initialization of variables\n",
      "gc=32.1739 #lbm ft/lbf s^2\n",
      "m=10 #lbm\n",
      "a=10. #ft/s^2\n",
      "#calculations\n",
      "F=m*a/gc\n",
      "#results\n",
      "print '%s %.3f %s' %(\"Force to accelerate =\",F,\"lbf\")\n"
     ],
     "language": "python",
     "metadata": {},
     "outputs": [
      {
       "output_type": "stream",
       "stream": "stdout",
       "text": [
        "Force to accelerate = 3.108 lbf\n"
       ]
      }
     ],
     "prompt_number": 1
    },
    {
     "cell_type": "heading",
     "level": 2,
     "metadata": {},
     "source": [
      "Example 2 - Pg 4"
     ]
    },
    {
     "cell_type": "code",
     "collapsed": false,
     "input": [
      "#calculate the force required to accelerate\n",
      "#Initialization of variables\n",
      "gc=32.1739 #lbm ft/lbf s^2\n",
      "m=10. #lbm\n",
      "a=gc #ft/s^2\n",
      "#calculations\n",
      "F=m*a/gc\n",
      "#results\n",
      "print '%s %d %s' %(\"Force to accelerate =\",F,\"lbf\")\n"
     ],
     "language": "python",
     "metadata": {},
     "outputs": [
      {
       "output_type": "stream",
       "stream": "stdout",
       "text": [
        "Force to accelerate = 10 lbf\n"
       ]
      }
     ],
     "prompt_number": 2
    },
    {
     "cell_type": "heading",
     "level": 2,
     "metadata": {},
     "source": [
      "Example 3 - Pg 4"
     ]
    },
    {
     "cell_type": "code",
     "collapsed": false,
     "input": [
      "#calculate the force required to accelerate\n",
      "#Initialization of variables\n",
      "gc=32.1739 #lbm ft/lbf s^2\n",
      "F=5.00e-9 #lbf hr/ft^2\n",
      "#calculations\n",
      "F2=F*3600*gc\n",
      "#results\n",
      "print '%s %.2e %s' %(\"Force required =\",F2,\"lbm/ft sec\")\n"
     ],
     "language": "python",
     "metadata": {},
     "outputs": [
      {
       "output_type": "stream",
       "stream": "stdout",
       "text": [
        "Force required = 5.79e-04 lbm/ft sec\n"
       ]
      }
     ],
     "prompt_number": 3
    },
    {
     "cell_type": "heading",
     "level": 2,
     "metadata": {},
     "source": [
      "Example 4 - Pg 7"
     ]
    },
    {
     "cell_type": "code",
     "collapsed": false,
     "input": [
      "#calculate the velocity\n",
      "#Initialization of variables\n",
      "v=88. #ft/s\n",
      "#calculations\n",
      "v2=v*3600./5280.\n",
      "#results\n",
      "print '%s %d %s' %(\"velocity =\",v2,\"mph\")\n"
     ],
     "language": "python",
     "metadata": {},
     "outputs": [
      {
       "output_type": "stream",
       "stream": "stdout",
       "text": [
        "velocity = 60 mph\n"
       ]
      }
     ],
     "prompt_number": 4
    },
    {
     "cell_type": "heading",
     "level": 2,
     "metadata": {},
     "source": [
      "Example 5 - Pg 7"
     ]
    },
    {
     "cell_type": "code",
     "collapsed": false,
     "input": [
      "#calculate the velocity\n",
      "#Initialization of variables\n",
      "v=88. #ft/s\n",
      "#calculations\n",
      "v2=v*1/5280*3600.\n",
      "#results\n",
      "print '%s %d %s' %(\"velocity =\",v2,\"mph\")\n"
     ],
     "language": "python",
     "metadata": {},
     "outputs": [
      {
       "output_type": "stream",
       "stream": "stdout",
       "text": [
        "velocity = 60 mph\n"
       ]
      }
     ],
     "prompt_number": 5
    },
    {
     "cell_type": "heading",
     "level": 2,
     "metadata": {},
     "source": [
      "Example 6 - Pg 9"
     ]
    },
    {
     "cell_type": "code",
     "collapsed": false,
     "input": [
      "#calculate the density of water and also the specific weight\n",
      "#Initialization of variables\n",
      "rho=62.305 #lbf/ft^2\n",
      "g=32.1739 #ft/s^2\n",
      "#calculations\n",
      "gam=rho/g\n",
      "#results\n",
      "print '%s %.3f %s' %(\"Density of water in this system =\",gam,\"lbf/ft^2\")\n",
      "print '%s %.3f %s' %(\"\\n Specific weight =\",rho,\"lbf/ft^2\")\n"
     ],
     "language": "python",
     "metadata": {},
     "outputs": [
      {
       "output_type": "stream",
       "stream": "stdout",
       "text": [
        "Density of water in this system = 1.937 lbf/ft^2\n",
        "\n",
        " Specific weight = 62.305 lbf/ft^2\n"
       ]
      }
     ],
     "prompt_number": 6
    }
   ],
   "metadata": {}
  }
 ]
}