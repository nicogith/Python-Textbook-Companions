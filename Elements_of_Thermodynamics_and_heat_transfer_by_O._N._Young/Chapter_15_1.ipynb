{
 "metadata": {
  "name": "",
  "signature": "sha256:d49c3ebbe462c89b25518f64eebe9040738bf2ef82ee8e4dec85ee0229afc06b"
 },
 "nbformat": 3,
 "nbformat_minor": 0,
 "worksheets": [
  {
   "cells": [
    {
     "cell_type": "heading",
     "level": 1,
     "metadata": {},
     "source": [
      "Chapter 15 - Vapor cycles and processes"
     ]
    },
    {
     "cell_type": "heading",
     "level": 2,
     "metadata": {},
     "source": [
      "Example 1 - Pg 276"
     ]
    },
    {
     "cell_type": "code",
     "collapsed": false,
     "input": [
      "#calculate the Thermal efficiency and Furnace efficiency\n",
      "#Initialization of variables\n",
      "p1=600. #psia\n",
      "p2=0.2563 #psia\n",
      "t1=486.21 #F\n",
      "t2=60. #F\n",
      "fur=0.75\n",
      "#calculations\n",
      "print '%s' %(\"from steam tables,\")\n",
      "h1=1203.2\n",
      "hf1=471.6\n",
      "hfg1=731.6\n",
      "h2=1088\n",
      "hf2=28.06\n",
      "hfg2=1059.9\n",
      "s1=1.4454\n",
      "sf1=0.6720\n",
      "sfg1=0.7734\n",
      "s2=2.0948\n",
      "sf2=0.0555\n",
      "sfg2=2.0393\n",
      "xd=(s1-sf2)/sfg2\n",
      "hd=hf2+xd*hfg2\n",
      "xa=0.3023\n",
      "ha=hf2+xa*hfg2\n",
      "wbc=0\n",
      "wda=0\n",
      "wcd=h1-hd\n",
      "wab=ha-hf1\n",
      "W=wab+wcd+wbc+wda\n",
      "Wrev=hfg1- (t2+459.7)*sfg1\n",
      "etat=(t1-t2)/(t1+459.7)*100\n",
      "eta=fur*etat\n",
      "#results\n",
      "print '%s %d %s' %(\"Thermal efficiency =\",etat,\"percent\")\n",
      "print '%s %.1f %s' %(\"\\n Furnace efficiency =\",eta,\" percent\")\n",
      "\n"
     ],
     "language": "python",
     "metadata": {},
     "outputs": [
      {
       "output_type": "stream",
       "stream": "stdout",
       "text": [
        "from steam tables,\n",
        "Thermal efficiency = 45 percent\n",
        "\n",
        " Furnace efficiency = 33.8  percent\n"
       ]
      }
     ],
     "prompt_number": 1
    },
    {
     "cell_type": "heading",
     "level": 2,
     "metadata": {},
     "source": [
      "Example 2 - Pg 277"
     ]
    },
    {
     "cell_type": "code",
     "collapsed": false,
     "input": [
      "#calculate the Thermal and Overall efficiency\n",
      "#Initialization of variables\n",
      "dhab=-123.1\n",
      "etac=0.5\n",
      "ha=348.5\n",
      "etaf=0.75\n",
      "eta=0.85\n",
      "hf=471.6\n",
      "hfg=731.6\n",
      "hc=1203.2\n",
      "dhcd=452.7\n",
      "#calculations\n",
      "dwabs=dhab/etac\n",
      "hbd=ha-dwabs\n",
      "dwcds=dhcd*eta\n",
      "dqa=hc-hbd\n",
      "etat=(dwcds+dwabs)/dqa*100.\n",
      "eta=etat*etaf\n",
      "#results\n",
      "print '%s %.1f %s' %(\"Thermal efficiency =\",etat,\" percent\")\n",
      "print '%s %.1f %s' %(\"\\n Overall efficiency = \",eta,\" percent\")\n"
     ],
     "language": "python",
     "metadata": {},
     "outputs": [
      {
       "output_type": "stream",
       "stream": "stdout",
       "text": [
        "Thermal efficiency = 22.8  percent\n",
        "\n",
        " Overall efficiency =  17.1  percent\n"
       ]
      }
     ],
     "prompt_number": 2
    },
    {
     "cell_type": "heading",
     "level": 2,
     "metadata": {},
     "source": [
      "Example 3 - Pg 277"
     ]
    },
    {
     "cell_type": "code",
     "collapsed": false,
     "input": [
      "#calculate the Thermal and Overall efficiency\n",
      "#Initialization of variables\n",
      "t=60 #F\n",
      "J=778.16\n",
      "p1=600 #psia\n",
      "p2=0.2563 #psia\n",
      "etaf=0.85 \n",
      "#calculations\n",
      "print '%s' %(\"From steam tables,\")\n",
      "vf=0.01604 #ft^3/lbm\n",
      "dw=-vf*(p1-p2)*144/J\n",
      "ha=28.06 #Btu/lbm\n",
      "hb=29.84 #Btu/lbm\n",
      "hd=1203.2 #Btu/lbm\n",
      "he=750.5 #Btu/lbm\n",
      "dqa=hd-hb\n",
      "dqr=ha-he\n",
      "dw=dqa+dqr\n",
      "dwturb=hd-he\n",
      "dwpump=ha-hb\n",
      "etat=dw/dqa*100.\n",
      "eta=etat*etaf\n",
      "#results\n",
      "print '%s %.1f %s' %(\"Thermal efficiency =\",etat,\" percent\")\n",
      "print '%s %.1f %s' %(\"\\n Overall efficiency =\",eta,\"percent\")\n",
      "    \n"
     ],
     "language": "python",
     "metadata": {},
     "outputs": [
      {
       "output_type": "stream",
       "stream": "stdout",
       "text": [
        "From steam tables,\n",
        "Thermal efficiency = 38.4  percent\n",
        "\n",
        " Overall efficiency = 32.7 percent\n"
       ]
      }
     ],
     "prompt_number": 3
    },
    {
     "cell_type": "heading",
     "level": 2,
     "metadata": {},
     "source": [
      "Example 4 - Pg 278"
     ]
    },
    {
     "cell_type": "code",
     "collapsed": false,
     "input": [
      "#calculate the Thermal and Overall efficiency\n",
      "#Initialization of variables\n",
      "dhab=-1.78\n",
      "etac=0.5\n",
      "ha=28.06\n",
      "eta=0.85\n",
      "hf=471.6\n",
      "hfg=731.6\n",
      "hd=1203.2\n",
      "dhcd=452.7\n",
      "#calculations\n",
      "dwabs=dhab/etac\n",
      "hbd=ha-dwabs\n",
      "dwcds=dhcd*eta\n",
      "dqa=hd-hbd\n",
      "etat=(dwcds+dwabs)/dqa*100.\n",
      "eta=etat*eta\n",
      "#results\n",
      "print '%s %.1f %s' %(\"Thermal efficiency =\",etat,\"percent\")\n",
      "print '%s %.1f %s' %(\"\\n Overall efficiency =\",eta,\"percent\")\n"
     ],
     "language": "python",
     "metadata": {},
     "outputs": [
      {
       "output_type": "stream",
       "stream": "stdout",
       "text": [
        "Thermal efficiency = 32.5 percent\n",
        "\n",
        " Overall efficiency = 27.7 percent\n"
       ]
      }
     ],
     "prompt_number": 4
    },
    {
     "cell_type": "heading",
     "level": 2,
     "metadata": {},
     "source": [
      "Example 5 - Pg 287"
     ]
    },
    {
     "cell_type": "code",
     "collapsed": false,
     "input": [
      "#calculate the thermal efficiency\n",
      "#Initialization of variables\n",
      "p2=600 #psia\n",
      "p1=44 #psia\n",
      "te=486.21 #F\n",
      "tb=273.1 #F\n",
      "J=778.16\n",
      "p3=0.25 #psia\n",
      "#calculations\n",
      "hc=241.9\n",
      "hj=834.6\n",
      "y=1-0.805\n",
      "v1=0.0172\n",
      "v2=0.016\n",
      "ha=28.06\n",
      "hd=hc+v1*(p2-p1)*144/J\n",
      "hb=ha+v2*(p1-p3)*144/J\n",
      "hh=1374\n",
      "Qa=hh-hd\n",
      "Qr=(ha-hj)*(1-y)\n",
      "etat=(Qa+Qr)/Qa*100.\n",
      "#results\n",
      "print '%s %.1f %s' %(\"thermal efficiency =\",etat,\"percent\")\n",
      "\n"
     ],
     "language": "python",
     "metadata": {},
     "outputs": [
      {
       "output_type": "stream",
       "stream": "stdout",
       "text": [
        "thermal efficiency = 42.6 percent\n"
       ]
      }
     ],
     "prompt_number": 5
    }
   ],
   "metadata": {}
  }
 ]
}