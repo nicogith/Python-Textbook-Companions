{
 "metadata": {
  "name": ""
 },
 "nbformat": 3,
 "nbformat_minor": 0,
 "worksheets": [
  {
   "cells": [
    {
     "cell_type": "heading",
     "level": 1,
     "metadata": {},
     "source": [
      "Chapter 13 : The Dispersion ,Wodel"
     ]
    },
    {
     "cell_type": "heading",
     "level": 2,
     "metadata": {},
     "source": [
      "Example 13.1 page no : 305"
     ]
    },
    {
     "cell_type": "code",
     "collapsed": false,
     "input": [
      "\n",
      "import math \n",
      "\n",
      "# Variables\n",
      "T = [0,5,10,15,20,25,30,35];       # time\n",
      "Cpulse = [0,3,5,5,4,2,1,0];        # gm/liter \n",
      "sum1 = 0;\n",
      "sum2 = 0\n",
      "sum3 = 0;\n",
      "\n",
      "# Calculations\n",
      "for i in range(8):\n",
      "    sum1 = sum1+Cpulse[i];\n",
      "    sum2 = sum2+Cpulse[i]*T[i];\n",
      "    sum3 = sum3+Cpulse[i]*T[i]*T[i];\n",
      "\n",
      "t = sum2/sum1;\n",
      "sigma_sqr = (sum3/sum1)-((sum2/sum1))**2;\n",
      "sigmatheta_sqr = sigma_sqr/t**2;\n",
      "m = 0.1\n",
      "\n",
      "while m <= 0.2:\n",
      "    sigmat_sqr = 2*m-2*(m**2)*(1-math.exp(-(1./m)));\n",
      "    if sigmat_sqr >=  sigmatheta_sqr:\n",
      "        break;\n",
      "    m += 0.001\n",
      "\n",
      "# Results\n",
      "print \" The vessel print ersion number is %.3f\"%(m)\n",
      "\n",
      "# answer may vary because of rounding error."
     ],
     "language": "python",
     "metadata": {},
     "outputs": [
      {
       "output_type": "stream",
       "stream": "stdout",
       "text": [
        " The vessel print ersion number is 0.100\n"
       ]
      }
     ],
     "prompt_number": 1
    },
    {
     "cell_type": "heading",
     "level": 3,
     "metadata": {},
     "source": [
      "Example 13.2 pageno : 306"
     ]
    },
    {
     "cell_type": "code",
     "collapsed": false,
     "input": [
      "\n",
      "# Variables\n",
      "l = 1219.;             # long diameter\n",
      "u = 0.0067;            #Velocity(mm/s)  \n",
      "\n",
      "#Using the probability graph\n",
      "t1 = 178550.\n",
      "#84th percentile point fall at\n",
      "t2 = 187750.;\n",
      "\n",
      "# Calculations\n",
      "sigma = (t2-t1)/2;\n",
      "t = l/u;\n",
      "sigma_theta = sigma/t;\n",
      "#Vessel print ersion number\n",
      "d = sigma_theta**2/2;\n",
      "\n",
      "# Results\n",
      "print \" The vessel print ersion number is %.5f\"%(d)\n"
     ],
     "language": "python",
     "metadata": {},
     "outputs": [
      {
       "output_type": "stream",
       "stream": "stdout",
       "text": [
        " The vessel print ersion number is 0.00032\n"
       ]
      }
     ],
     "prompt_number": 3
    },
    {
     "cell_type": "heading",
     "level": 2,
     "metadata": {},
     "source": [
      "Example 13.3 page no : 308"
     ]
    },
    {
     "cell_type": "code",
     "collapsed": false,
     "input": [
      "\n",
      "# Variables\n",
      "v = 0.4;                # bed voidage\n",
      "u = 1.2;                # velocity of fluid\n",
      "l = 90.                 #length(cm)\n",
      "sigma1_sqr = 39.        # output signals\n",
      "sigma2_sqr = 64.        # output signals    \n",
      "\n",
      "# Calculations\n",
      "dsigma_sqr = sigma2_sqr-sigma1_sqr;\n",
      "t = l*v/u;\n",
      "sigmatheta_sqr = dsigma_sqr/t**2;\n",
      "d = sigmatheta_sqr/2;\n",
      "\n",
      "# Results\n",
      "print \" The vessel print ersion number is %.4f\"%(d)\n"
     ],
     "language": "python",
     "metadata": {},
     "outputs": [
      {
       "output_type": "stream",
       "stream": "stdout",
       "text": [
        " The vessel print ersion number is 0.0139\n"
       ]
      }
     ],
     "prompt_number": 5
    },
    {
     "cell_type": "code",
     "collapsed": false,
     "input": [],
     "language": "python",
     "metadata": {},
     "outputs": []
    }
   ],
   "metadata": {}
  }
 ]
}