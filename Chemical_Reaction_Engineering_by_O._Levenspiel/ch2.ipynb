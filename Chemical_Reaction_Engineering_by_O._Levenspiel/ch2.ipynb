{
 "metadata": {
  "name": ""
 },
 "nbformat": 3,
 "nbformat_minor": 0,
 "worksheets": [
  {
   "cells": [
    {
     "cell_type": "heading",
     "level": 1,
     "metadata": {},
     "source": [
      "Chapter 2 : Kinetics of Homogeneous Reactions"
     ]
    },
    {
     "cell_type": "heading",
     "level": 2,
     "metadata": {},
     "source": [
      "Example 2.3 page no : 29"
     ]
    },
    {
     "cell_type": "code",
     "collapsed": false,
     "input": [
      "\n",
      "import math \n",
      "\n",
      "# Variables\n",
      "# Given\n",
      "#t1 = 30 min ;T1 = 336 k;\n",
      "#t2 = 15 sec ;T2 = 347 k;\n",
      "# Converting t2 in min\n",
      "t1 = 30.         # milk heated (mins)\n",
      "T1 = 336.        # K based on t1\n",
      "t2 = 0.25        # seconds        \n",
      "T2 = 347.        # K based on t2\n",
      "R = 8.314\n",
      "\n",
      "# Calculations\n",
      "#math.log(t1/t2) = E(1/T1-1/T2)/R\n",
      "E = (math.log(t1/t2)*R)/(1/T1-1/T2);\n",
      "\n",
      "# Results\n",
      "print \"E is %d J/mol\"%(round(E,-3))\n"
     ],
     "language": "python",
     "metadata": {},
     "outputs": [
      {
       "output_type": "stream",
       "stream": "stdout",
       "text": [
        "E is 422000 J/mol\n"
       ]
      }
     ],
     "prompt_number": 3
    },
    {
     "cell_type": "code",
     "collapsed": false,
     "input": [],
     "language": "python",
     "metadata": {},
     "outputs": []
    }
   ],
   "metadata": {}
  }
 ]
}