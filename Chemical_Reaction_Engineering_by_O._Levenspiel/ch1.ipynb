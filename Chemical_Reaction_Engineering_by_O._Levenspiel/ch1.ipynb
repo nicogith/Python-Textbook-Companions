{
 "metadata": {
  "name": ""
 },
 "nbformat": 3,
 "nbformat_minor": 0,
 "worksheets": [
  {
   "cells": [
    {
     "cell_type": "heading",
     "level": 1,
     "metadata": {},
     "source": [
      "Chapter 1 : Overview of Chemical Reaction Engineering"
     ]
    },
    {
     "cell_type": "heading",
     "level": 2,
     "metadata": {},
     "source": [
      "Example 1.1 page no : 6"
     ]
    },
    {
     "cell_type": "code",
     "collapsed": false,
     "input": [
      "\n",
      "# Variables\n",
      "#l=75 cm,d=60 cm,H20 Produced=108kg/s\n",
      "l=0.75                     # cylindrical long\n",
      "d=0.6;                     # cylindrical diameter\n",
      "V=(3.14*d*d*l)/4;\n",
      "M=18.;                     # molecular weight\n",
      "\n",
      "# Calculations\n",
      "H20_produced=108./M;\n",
      "H2_used=H20_produced;\n",
      "O2_used=0.5*H20_produced;\n",
      "#Rate of reaction of H2(mol/m**3.s)\n",
      "r_H2=(H2_used/V)*1000;\n",
      "#Rate of reaction of O2(mol/m**3.s)\n",
      "r_O2=(O2_used/V)*1000;\n",
      "\n",
      "# Results\n",
      "print \"rate of reaction of H2mol/m**3.s is %.3e mol used/(m**3 of rocket).s\"%(r_H2)\n",
      "print \"rate of reaction of O2mol/m**3.s is %.3e mol/m**3.s\"%(r_O2)\n"
     ],
     "language": "python",
     "metadata": {},
     "outputs": [
      {
       "output_type": "stream",
       "stream": "stdout",
       "text": [
        "rate of reaction of H2mol/m**3.s is 2.831e+04 mol used/(m**3 of rocket).s\n",
        "rate of reaction of O2mol/m**3.s is 1.415e+04 mol/m**3.s\n"
       ]
      }
     ],
     "prompt_number": 2
    },
    {
     "cell_type": "heading",
     "level": 2,
     "metadata": {},
     "source": [
      "Example 1.2 page no : 7"
     ]
    },
    {
     "cell_type": "code",
     "collapsed": false,
     "input": [
      "\n",
      "# Assuming density of a person = 1000kg/m3\n",
      "\n",
      "# Variables\n",
      "d = 1000.;\n",
      "mass = 75.;               # human being\n",
      "\n",
      "# Calculations\n",
      "V = mass/d;\n",
      "#moles of O2 consumed per day\n",
      "O2_used = (6000./2816)*6;\n",
      "# Rate of reaction (mol/m3.s)\n",
      "r_O2 = (O2_used/V)/(24.*3600);\n",
      "\n",
      "# Results\n",
      "print \"rate of reaction of O2mol/m**3.s is %.3f mol O2 used/m***3.s\"%(r_O2)\n"
     ],
     "language": "python",
     "metadata": {},
     "outputs": [
      {
       "output_type": "stream",
       "stream": "stdout",
       "text": [
        "rate of reaction of O2mol/m**3.s is 0.002 mol O2 used/m***3.s\n"
       ]
      }
     ],
     "prompt_number": 3
    },
    {
     "cell_type": "code",
     "collapsed": false,
     "input": [],
     "language": "python",
     "metadata": {},
     "outputs": []
    }
   ],
   "metadata": {}
  }
 ]
}