{
 "metadata": {
  "name": ""
 },
 "nbformat": 3,
 "nbformat_minor": 0,
 "worksheets": [
  {
   "cells": [
    {
     "cell_type": "heading",
     "level": 1,
     "metadata": {},
     "source": [
      "Chapter 9 : Temperature and Pressure Effects"
     ]
    },
    {
     "cell_type": "heading",
     "level": 2,
     "metadata": {},
     "source": [
      "Example 9.1 page no : 209"
     ]
    },
    {
     "cell_type": "code",
     "collapsed": false,
     "input": [
      "\n",
      "import math \n",
      "\n",
      "# Variables\n",
      "CpA = 35.            # j/mol.K\n",
      "CpB = 45.             # j/mol.K\n",
      "CpR = 70.            # j/mol.K\n",
      "T1 = 25.             # C\n",
      "T2 = 1025.           # C\n",
      "Hr = -50000.\n",
      "\n",
      "# Calculations\n",
      "#Enthalpy balance for 1mol A,1 mol B,2 mol R\n",
      "nA = 1.\n",
      "nB = 1.\n",
      "nR = 2.\n",
      "dH = nA*CpA*(T1-T2)+nB*CpB*(T1-T2)+(Hr)+nR*CpR*(T2-T1);\n",
      "\n",
      "# Results\n",
      "print \" dHJ at temperature 1025C is %.f \"%(dH)\n",
      "if dH>0 :\n",
      "    print \"Reaction is Exothermic\"\n",
      "else:\n",
      "     print \"Reaction is endothermic at 1025OC\"\n"
     ],
     "language": "python",
     "metadata": {},
     "outputs": [
      {
       "output_type": "stream",
       "stream": "stdout",
       "text": [
        " dHJ at temperature 1025C is 10000 \n",
        "Reaction is Exothermic\n"
       ]
      }
     ],
     "prompt_number": 1
    },
    {
     "cell_type": "heading",
     "level": 2,
     "metadata": {},
     "source": [
      "Example 9.2 page no : 213"
     ]
    },
    {
     "cell_type": "code",
     "collapsed": false,
     "input": [
      "\n",
      "%matplotlib inline\n",
      "\n",
      "import math \n",
      "from matplotlib.pyplot import *\n",
      "from numpy import *\n",
      "\n",
      "Ho = -75300.                       # J/mol\n",
      "Go = -14130.                       # J/mol\n",
      "R = 8.3214\n",
      "T1 = 298.\n",
      "\n",
      "# Calculations\n",
      "#With all specific heais alike,dCp = 0\n",
      "Hr = -Ho;\n",
      "K298 = math.exp(-Go/(R*T1));\n",
      "\n",
      "\n",
      "#Taking different values of T\n",
      "T1 = array([2,15,25,35,45,55,65,75,85,95])                  #degree celcius\n",
      "T = array([278,288,298,308,318,328,338,348,358,368])        #kelvin\n",
      "\n",
      "XAe = zeros(10)\n",
      "\n",
      "for i in range(10):\n",
      "    K = K298*math.exp((Hr/R)*((1./T[i])-(1./298)));\n",
      "    XAe[i] = K/(K+1);\n",
      "\n",
      "# Results\n",
      "plot(T1,XAe)\n",
      "xlabel(\"Temperature, C\")\n",
      "ylabel(\"XAe\")\n",
      "print (\" From the graph we see temp must stay below 78 C if conversion of 75% or above is expected\")\n",
      "show()\n",
      "\n",
      "\n"
     ],
     "language": "python",
     "metadata": {},
     "outputs": [
      {
       "output_type": "stream",
       "stream": "stdout",
       "text": [
        "Populating the interactive namespace from numpy and matplotlib\n",
        " From the graph we see temp must stay below 78 C if conversion of 75% or above is expected"
       ]
      },
      {
       "output_type": "stream",
       "stream": "stdout",
       "text": [
        "\n"
       ]
      },
      {
       "output_type": "stream",
       "stream": "stderr",
       "text": [
        "WARNING: pylab import has clobbered these variables: ['draw_if_interactive']\n",
        "`%pylab --no-import-all` prevents importing * from pylab and numpy\n"
       ]
      },
      {
       "metadata": {},
       "output_type": "display_data",
       "png": "[encoded data removed]",
       "text": [
        "<matplotlib.figure.Figure at 0x31ac650>"
       ]
      }
     ],
     "prompt_number": 8
    },
    {
     "cell_type": "heading",
     "level": 2,
     "metadata": {},
     "source": [
      "Example 9.3 page no : 217"
     ]
    },
    {
     "cell_type": "code",
     "collapsed": false,
     "input": [
      "\n",
      "import math \n",
      "\n",
      "# Variables \n",
      "\n",
      "# from example 9.2\n",
      "XA = 0.581; \n",
      "t = 1.                    #min\n",
      "XAe = 0.89;\n",
      "XAe1 = 0.993;\n",
      "T1 = 338.\n",
      "T2 = 298.\n",
      "R = 8.314\n",
      "\n",
      "\n",
      "# Calculations\n",
      "k1_338 = -(XAe/t)*math.log(1-(XA/XAe));\n",
      "XA1 = 0.6;\n",
      "t1 = 10.                #min\n",
      "\n",
      "k1_298 = -(XAe1/t1)*math.log(1-(XA1/XAe1));\n",
      "E1 = (R*math.log(k1_338/k1_298))*(T1*T2)/(T1-T2)\n",
      "ko = k1_338/(math.exp(-E1/(R*T1)))\n",
      "\n",
      "# Results\n",
      "print \" The rate constants are k = exp[75300/RT-24.7] min-1\"\n",
      "print \" k1 = exp[17.2-48900/RT] min-1\"\n",
      "print \" k2 = exp[41.9-123800/RT] min-1 \"\n",
      "print \" E1 = %.2f\"%E1\n",
      "print \" K0 = %.2f\"%ko"
     ],
     "language": "python",
     "metadata": {},
     "outputs": [
      {
       "output_type": "stream",
       "stream": "stdout",
       "text": [
        " The rate constants are k = exp[75300/RT-24.7] min-1\n",
        " k1 = exp[17.2-48900/RT] min-1\n",
        " k2 = exp[41.9-123800/RT] min-1 \n",
        " E1 = 48679.81\n",
        " K0 = 31411847.30\n"
       ]
      }
     ],
     "prompt_number": 3
    },
    {
     "cell_type": "heading",
     "level": 2,
     "metadata": {},
     "source": [
      "Example 9.4 page no : 229"
     ]
    },
    {
     "cell_type": "code",
     "collapsed": false,
     "input": [
      "\n",
      "# Variables\n",
      "CAo = 4.                    #mol/litre\n",
      "FAo = 1000.                 #mol/min\n",
      "A = 0.405                   #litre/mol.min\n",
      "\n",
      "# Calculations\n",
      "t = CAo*A;\n",
      "V = FAo*A;\n",
      "\n",
      "# Results\n",
      "print \" Part a\"\n",
      "print \" The space time needed is %.2f min\"%(t)\n",
      "print \" The Volume needed is %.f litres\"%(V)\n",
      "\n",
      "\n",
      "# Note : We do not have value of 'rA'. so part B can not be calculated and plotted"
     ],
     "language": "python",
     "metadata": {},
     "outputs": [
      {
       "output_type": "stream",
       "stream": "stdout",
       "text": [
        " Part a\n",
        " The space time needed is 1.62 min\n",
        " The Volume needed is 405 litres\n"
       ]
      }
     ],
     "prompt_number": 10
    },
    {
     "cell_type": "heading",
     "level": 2,
     "metadata": {},
     "source": [
      "Example 9.5 pageno : 231"
     ]
    },
    {
     "cell_type": "code",
     "collapsed": false,
     "input": [
      "\n",
      "# Variables\n",
      "CAo = 4.                # mol/liter\n",
      "FAo = 1000.             # mol/min\n",
      "XA = 0.8;               # %\n",
      "Cp = 250.               #cal/molA.K\n",
      "Hr = 18000.             #cal/molA\n",
      "rA = 0.4;\n",
      "\n",
      "# Calculations and Results\n",
      "V = FAo*XA/rA;\n",
      "\n",
      "print \" Part a\"\n",
      "print \" The size of reactorlitres) needed is %.f litres\"%(V)\n",
      "\n",
      "slope = Cp/Hr;\n",
      "#Using graph\n",
      "Qab1 = Cp*20;               #cal/molA\n",
      "Qab = Qab1*1000;            #cal/min\n",
      "Qab = Qab*0.000070;         #KW\n",
      "\n",
      "print \" Part b\"\n",
      "print \" Heat Duty of precooler is %.2f kW\"%(Qab)\n",
      "\n",
      "Qce1 = Cp*37;               #cal/molA fed\n",
      "Qce = Qce1*1000;            #cal/min\n",
      "Qce = Qce*0.000070;         #KW\n",
      "\n",
      "print \" Heat Duty of postcooler is %.2f kW\"%(Qce)\n",
      "\n",
      "# answers may vary because of rounding error."
     ],
     "language": "python",
     "metadata": {},
     "outputs": [
      {
       "output_type": "stream",
       "stream": "stdout",
       "text": [
        " Part a\n",
        " The size of reactorlitres) needed is 2000 litres\n",
        " Part b\n",
        " Heat Duty of precooler is 350.00 kW\n",
        " Heat Duty of postcooler is 647.50 kW\n"
       ]
      }
     ],
     "prompt_number": 10
    },
    {
     "cell_type": "heading",
     "level": 2,
     "metadata": {},
     "source": [
      "Example 9.6 pageno : 233"
     ]
    },
    {
     "cell_type": "code",
     "collapsed": false,
     "input": [
      "\n",
      "# Variables\n",
      "FAo = 1000.         #mol/min\n",
      "Area = 1.72;\n",
      "\n",
      "# Calculations\n",
      "V = FAo*Area;\n",
      "\n",
      "# Results\n",
      "print \" The volume of adiabatic plug flow reactor is %.f litres\"%(V),\n"
     ],
     "language": "python",
     "metadata": {},
     "outputs": [
      {
       "output_type": "stream",
       "stream": "stdout",
       "text": [
        " The volume of adiabatic plug flow reactor is 1720 litres\n"
       ]
      }
     ],
     "prompt_number": 12
    },
    {
     "cell_type": "heading",
     "level": 2,
     "metadata": {},
     "source": [
      "Example 9.7 page no : 234"
     ]
    },
    {
     "cell_type": "code",
     "collapsed": false,
     "input": [
      "\n",
      "# Variables\n",
      "FAo = 1000.             #mol/min\n",
      "Area = (0.8-0)*1.5;\n",
      "\n",
      "# Calculations\n",
      "V = FAo*Area;\n",
      "\n",
      "# Results\n",
      "print \" The volume required is %.f litres\"%(V),\n"
     ],
     "language": "python",
     "metadata": {},
     "outputs": [
      {
       "output_type": "stream",
       "stream": "stdout",
       "text": [
        " The volume required is 1200 litres\n"
       ]
      }
     ],
     "prompt_number": 13
    },
    {
     "cell_type": "code",
     "collapsed": false,
     "input": [],
     "language": "python",
     "metadata": {},
     "outputs": []
    }
   ],
   "metadata": {}
  }
 ]
}