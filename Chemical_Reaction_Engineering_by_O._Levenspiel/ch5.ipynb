{
 "metadata": {
  "name": ""
 },
 "nbformat": 3,
 "nbformat_minor": 0,
 "worksheets": [
  {
   "cells": [
    {
     "cell_type": "heading",
     "level": 1,
     "metadata": {},
     "source": [
      "Chapter 5 : Ideal Reactors for a Single Reaction"
     ]
    },
    {
     "cell_type": "heading",
     "level": 2,
     "metadata": {},
     "source": [
      "Example 5.1 page no : 96"
     ]
    },
    {
     "cell_type": "code",
     "collapsed": false,
     "input": [
      "\n",
      "# Variables\n",
      "#Concentrations in mol/litre\n",
      "CAo = 0.1                 # liquid\n",
      "CBo = 0.01                # liquid\n",
      "Cco = 0.                  # liquid\n",
      "CAf = 0.02                # outlet stream\n",
      "CBf = 0.03                # outlet stream\n",
      "Ccf = 0.04;               # outlet stream\n",
      "#Volume in litre\n",
      "V = 1.;\n",
      "#Volumetric flow rate(l/min)\n",
      "v = 1.;\n",
      "CA = CAf;CB = CBf;Cc = Ccf;\n",
      "\n",
      "# Calculations\n",
      "#Rate of reaction(mol/litre.min)\n",
      "rA = (CAo-CA)/(V/v);\n",
      "rB = (CBo-CB)/(V/v);\n",
      "rc = (Cco-Cc)/(V/v);\n",
      "\n",
      "# Results\n",
      "print \"rate of reaction of A is %.2f mol/litre.min\"%(rA)\n",
      "print \"rate of reaction of B is %.2f mol/litre.min\"%(rB)\n",
      "print \"rate of reaction of C is %.2f mol/litre.min\"%(rc)\n"
     ],
     "language": "python",
     "metadata": {},
     "outputs": [
      {
       "output_type": "stream",
       "stream": "stdout",
       "text": [
        "rate of reaction of A is 0.08 mol/litre.min\n",
        "rate of reaction of B is -0.02 mol/litre.min\n",
        "rate of reaction of C is -0.04 mol/litre.min\n"
       ]
      }
     ],
     "prompt_number": 4
    },
    {
     "cell_type": "heading",
     "level": 2,
     "metadata": {},
     "source": [
      "Example 5.2 page no : 97"
     ]
    },
    {
     "cell_type": "code",
     "collapsed": false,
     "input": [
      "\n",
      "%matplotlib inline\n",
      "\n",
      "import math \n",
      "from numpy import *\n",
      "from matplotlib.pyplot import *\n",
      "from scipy import stats\n",
      "\n",
      "# Variables\n",
      "vo = array([10,3,1.2,0.5])         #Volumetric flow rates(litre/hr)\n",
      "CA = array([85.7,66.7,50,33.4])    #Concentrations (millimol/litre)\n",
      "CAo = 100.;\n",
      "V = 0.1;                           #Volume(litre)\n",
      "e = (1.-2.)/2;                     #Expansion factor is\n",
      "#Initialization\n",
      "XA = zeros(4);\n",
      "rA = zeros(4);\n",
      "m = zeros(4);\n",
      "n = zeros(4);\n",
      "\n",
      "# Calculations\n",
      "#Relation between concentration and conversion\n",
      "for i in range(4):\n",
      "    XA[i] = (1-CA[i]/CAo)/(1+e*CA[i]/CAo);\n",
      "    rA[i] = vo[i]*CAo*XA[i]/V;\n",
      "    m[i] = math.log10(CA[i]);\n",
      "    n[i] = math.log10(rA[i]);\n",
      "\n",
      "# Results\n",
      "#For nth order plot between n & m should give a straight line\n",
      "plot(m,n)\n",
      "xlabel(\"log CA\")\n",
      "ylabel(\"log (-rA)\")\n",
      "show()\n",
      "coefs = stats.linregress(m,n);\n",
      "print coefs\n",
      "print \"Intercept of the graph is %.2f\"%(coefs[1])\n",
      "print \"Slope of the graph is %.2f\"%(coefs[0])\n",
      "k = 10**coefs[1]\n",
      "n = coefs[0]\n",
      "print \" Taking n = 2, rate of equation is %.2f millimol/litre.hr\"%(k),\n",
      "print \"CA**2 \"\n",
      "print ('The sol slightly differ from that given in book because regress fn is used to calculate the slope')\n"
     ],
     "language": "python",
     "metadata": {},
     "outputs": [
      {
       "output_type": "stream",
       "stream": "stdout",
       "text": [
        "Populating the interactive namespace from numpy and matplotlib\n"
       ]
      },
      {
       "output_type": "stream",
       "stream": "stderr",
       "text": [
        "WARNING: pylab import has clobbered these variables: ['rc', 'draw_if_interactive', 'e']\n",
        "`%pylab --no-import-all` prevents importing * from pylab and numpy\n"
       ]
      },
      {
       "metadata": {},
       "output_type": "display_data",
       "png": "[encoded data removed]",
       "text": [
        "<matplotlib.figure.Figure at 0x29b4650>"
       ]
      },
      {
       "output_type": "stream",
       "stream": "stdout",
       "text": [
        "(1.9569709616766851, -0.39508420521305565, 0.99852626739620765, 0.001473732603792355, 0.075209753597987913)\n",
        "Intercept of the graph is -0.40\n",
        "Slope of the graph is 1.96\n",
        " Taking n = 2, rate of equation is 0.40 millimol/litre.hr CA**2 \n",
        "The sol slightly differ from that given in book because regress fn is used to calculate the slope\n"
       ]
      }
     ],
     "prompt_number": 5
    },
    {
     "cell_type": "heading",
     "level": 2,
     "metadata": {},
     "source": [
      "Example 5.3 page no : 99"
     ]
    },
    {
     "cell_type": "code",
     "collapsed": false,
     "input": [
      "\n",
      "'''\n",
      "Note : The sol varies from book as the value of CB taken in book at end is wrong\n",
      "'''\n",
      "\n",
      "import math \n",
      "\n",
      "# Variables\n",
      "CAo = 1.4\n",
      "CBo = 0.8\n",
      "CRo = 0.\n",
      "#Volume(litre)\n",
      "V = 6.\n",
      "\n",
      "# Calculations\n",
      "#For 75% conversion of B\n",
      "#From stoichiometry of equation A+2B-->R\n",
      "CA = 1.4-(0.75*0.8)/2.;\n",
      "CB = 0.8-(0.75*0.8);\n",
      "CR = (0.75*0.8)/2.;\n",
      "#From the Given rate equation(mol/litre.min)\n",
      "rB = 2*(12.5*CA*CB*CB-1.5*CR);\n",
      "#Volumetric flow rate is given by\n",
      "v = V*rB/(CBo-CB);\n",
      "\n",
      "# Results\n",
      "print \" volumetric flow rate into and out of the reactor is %.1f litre/min\"%(v)"
     ],
     "language": "python",
     "metadata": {},
     "outputs": [
      {
       "output_type": "stream",
       "stream": "stdout",
       "text": [
        " volumetric flow rate into and out of the reactor is 2.0 litre/min\n"
       ]
      }
     ],
     "prompt_number": 6
    },
    {
     "cell_type": "heading",
     "level": 2,
     "metadata": {},
     "source": [
      "Example 5.4 page no : 104"
     ]
    },
    {
     "cell_type": "code",
     "collapsed": false,
     "input": [
      "\n",
      "import math \n",
      "from scipy.integrate import quad \n",
      "\n",
      "# Variables\n",
      "eA = (4-2.)/2;\n",
      "CAo = 0.0625;         # mol/liter\n",
      "xAo = 0.\n",
      "xAf = 0.8              # conversion\n",
      "k = 0.01;\n",
      "\n",
      "# Calculations\n",
      "def f1(xA): \n",
      "\t return math.sqrt((1+xA)/(1-xA))\n",
      "\n",
      "X =  quad(f1,xAo,xAf)[0]\n",
      "t = math.sqrt(CAo)*X/k;\n",
      "\n",
      "# Results\n",
      "print \" Space timesec needed is %.2f sec\"%(t)\n"
     ],
     "language": "python",
     "metadata": {},
     "outputs": [
      {
       "output_type": "stream",
       "stream": "stdout",
       "text": [
        " Space timesec needed is 33.18 sec\n"
       ]
      }
     ],
     "prompt_number": 1
    },
    {
     "cell_type": "heading",
     "level": 2,
     "metadata": {},
     "source": [
      "Example 5.5 page no : 106"
     ]
    },
    {
     "cell_type": "code",
     "collapsed": false,
     "input": [
      "\n",
      "import math \n",
      "\n",
      "# Variables\n",
      "T = 922.         #Temperature(kelvin)\n",
      "P = 460000.;     # kPA\n",
      "FAo = 40.        # pure phosphine\n",
      "k = 10.\n",
      "R = 8.314;\n",
      "\n",
      "# Calculations\n",
      "CAo = P/(R*T);          # mol/m3\n",
      "e = (7-4)/4.;\n",
      "XA = 0.8;\n",
      "\n",
      "#The volume of plug flow reactor is given by\n",
      "V = FAo*((1+e)*math.log(1./(1-XA))-e*XA)/(k*CAo);\n",
      "\n",
      "# Results\n",
      "print \" volume of reactor is %.3f m**3\"%(V)\n"
     ],
     "language": "python",
     "metadata": {},
     "outputs": [
      {
       "output_type": "stream",
       "stream": "stdout",
       "text": [
        " volume of reactor is 0.148 m**3\n"
       ]
      }
     ],
     "prompt_number": 9
    },
    {
     "cell_type": "code",
     "collapsed": false,
     "input": [],
     "language": "python",
     "metadata": {},
     "outputs": []
    }
   ],
   "metadata": {}
  }
 ]
}