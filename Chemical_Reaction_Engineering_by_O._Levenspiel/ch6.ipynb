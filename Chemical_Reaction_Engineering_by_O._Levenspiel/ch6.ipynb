{
 "metadata": {
  "name": ""
 },
 "nbformat": 3,
 "nbformat_minor": 0,
 "worksheets": [
  {
   "cells": [
    {
     "cell_type": "heading",
     "level": 1,
     "metadata": {},
     "source": [
      "Chapter 6 : Design for Single Reactions"
     ]
    },
    {
     "cell_type": "heading",
     "level": 2,
     "metadata": {},
     "source": [
      "Example 6.1 page no : 125"
     ]
    },
    {
     "cell_type": "code",
     "collapsed": false,
     "input": [
      "\n",
      "# Variables\n",
      "V1 = 50.       # volume liters\n",
      "V2 = 30.       # volume liters\n",
      "V3 = 40.;      # volume liters\n",
      "\n",
      "# Calculations\n",
      "VD = V1+V2;\n",
      "VE = V3;\n",
      "m = VE/VD\n",
      "fr_D = 1./(1+m);\n",
      "\n",
      "# Results\n",
      "print \" Fraction of feed going to branch D is %.3f \"%(fr_D)"
     ],
     "language": "python",
     "metadata": {},
     "outputs": [
      {
       "output_type": "stream",
       "stream": "stdout",
       "text": [
        " Fraction of feed going to branch D is 0.667 \n"
       ]
      }
     ],
     "prompt_number": 1
    },
    {
     "cell_type": "heading",
     "level": 2,
     "metadata": {},
     "source": [
      "Example 6.2 page no : 129"
     ]
    },
    {
     "cell_type": "code",
     "collapsed": false,
     "input": [
      "\n",
      "# Variables\n",
      "kCot = 90.        # reactant\n",
      "kCot = 180.       \n",
      "X = 97.4;         # conversion\n",
      "\n",
      "print \" Part a\"\n",
      "print \" The conversion in percentage is %.2f \"%(X)\n",
      "#For 90% Conversion & N = 2.from graph\n",
      "kCot = 27.5;\n",
      "\n",
      "# Calculations\n",
      "ratio = 90*2/27.5;\n",
      "\n",
      "# Results\n",
      "print \" Part b\"\n",
      "print \" Treatment rate can be increased by  %.1f \"%(ratio)\n"
     ],
     "language": "python",
     "metadata": {},
     "outputs": [
      {
       "output_type": "stream",
       "stream": "stdout",
       "text": [
        " Part a\n",
        " The conversion in percentage is 97.40 \n",
        " Part b\n",
        " Treatment rate can be increased by  6.5 \n"
       ]
      }
     ],
     "prompt_number": 2
    },
    {
     "cell_type": "heading",
     "level": 2,
     "metadata": {},
     "source": [
      "Example 6.3 pageno : 144"
     ]
    },
    {
     "cell_type": "code",
     "collapsed": false,
     "input": [
      "%matplotlib inline\n",
      "\n",
      "import math \n",
      "from numpy import *\n",
      "from matplotlib.pyplot import *\n",
      "\n",
      "# Variables\n",
      "CAo = array([2,5,6,6,11,14,16,24]);         #mmol/m3\n",
      "CA = array([0.5,3,1,2,6,10,8,4])            #mmol/m3\n",
      "t = array([30,1,50,8,4,20,20,4])            #min\n",
      "vo = 0.1                                    #m3/min\n",
      "\n",
      "# Calculations\n",
      "inv_rA = zeros(8)\n",
      "for i in range(8):\n",
      "    inv_rA[i] = t[i]/(CAo[i]-CA[i]);\n",
      "\n",
      "for i in range(8):\n",
      "    for j in range(i,8):\n",
      "        if CA[i]>CA[j]:\n",
      "            temp = CA[i];\n",
      "            CA[i] = CA[j];\n",
      "            CA[j] = temp;\n",
      "            temp1 = inv_rA[i];\n",
      "            inv_rA[i] = inv_rA[j];\n",
      "            inv_rA[j] = temp1;\n",
      "\n",
      "# Results\n",
      "plot(CA,inv_rA)\n",
      "plot(CA,inv_rA,\"go\")\n",
      "suptitle(\"Arrangement with smallest volume\")\n",
      "xlabel(\"CA, m mol/m**3\")\n",
      "ylabel(\"-1/ra, m**3.min/m mol\")\n",
      "print ('From the graph,we can see that we should use plug flow with recycle')\n",
      "CAin = 6.6;#mmol/m3\n",
      "R = (10-6.6)/(6.6-1);\n",
      "#V = t*vo = area*vo\n",
      "V = (10-1)*1.2*vo;\n",
      "vr = vo*R;\n",
      "print \" Part a\"\n",
      "print \"  The vol of reactor is %.2f m**3\"%(V)\n",
      "print \"  The recycle flow rate is %.4f \"%(vr),\n",
      "print \"m3/min\"\n",
      "\n",
      "#Part b,from fig\n",
      "t = (10-1)*10;\n",
      "t1 = (10-2.6)*0.8;\n",
      "t2 = (2.6-1)*10;\n",
      "#For 1  math.tank\n",
      "V = t*vo;\n",
      "#For  2 math.tank\n",
      "V1 = t1*vo;\n",
      "V2 = t2*vo;\n",
      "Vt = V1+V2;\n",
      "print \" Part b\"\n",
      "print \"  For 1 tank volume is %.2f m**3\"%(V)\n",
      "print \"  For 2 tank the volume is %.2f m**3\"%(Vt)\n",
      "\n",
      "print \" Part c\"\n",
      "print (' We should use mixed flow followed by plug flow')\n",
      "#For MFR\n",
      "tm = (10-4)*0.2;\n",
      "Vm = tm*vo;\n",
      "#For PFR\n",
      "tp = 5.8;#by graphical integration\n",
      "Vp = tp*vo;\n",
      "Vtotal = Vp+Vm;\n",
      "print \" For MFR volume is %.2f m**3\"%(Vm)\n",
      "print \" For PFR volume is %.2f m**3\"%(Vp)\n",
      "print \" Total volume is %.2f m**3\"%(Vtotal),\n",
      "\n"
     ],
     "language": "python",
     "metadata": {},
     "outputs": [
      {
       "output_type": "stream",
       "stream": "stdout",
       "text": [
        "Populating the interactive namespace from numpy and matplotlib\n",
        "From the graph,we can see that we should use plug flow with recycle\n",
        " Part a\n",
        "  The vol of reactor is 1.08 m**3\n",
        "  The recycle flow rate is 0.0607  m3/min\n",
        " Part b\n",
        "  For 1 tank volume is 9.00 m**3\n",
        "  For 2 tank the volume is 2.19 m**3\n",
        " Part c\n",
        " We should use mixed flow followed by plug flow\n",
        " For MFR volume is 0.12 m**3\n",
        " For PFR volume is 0.58 m**3\n",
        " Total volume is 0.70 m**3\n"
       ]
      },
      {
       "metadata": {},
       "output_type": "display_data",
       "png": "[encoded data removed]",
       "text": [
        "<matplotlib.figure.Figure at 0x1e37810>"
       ]
      }
     ],
     "prompt_number": 3
    },
    {
     "cell_type": "code",
     "collapsed": false,
     "input": [],
     "language": "python",
     "metadata": {},
     "outputs": []
    }
   ],
   "metadata": {}
  }
 ]
}