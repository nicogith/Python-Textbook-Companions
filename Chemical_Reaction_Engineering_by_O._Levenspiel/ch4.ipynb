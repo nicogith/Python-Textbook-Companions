{
 "metadata": {
  "name": ""
 },
 "nbformat": 3,
 "nbformat_minor": 0,
 "worksheets": [
  {
   "cells": [
    {
     "cell_type": "heading",
     "level": 1,
     "metadata": {},
     "source": [
      "Chapter 4 : Introduction to Reactor Design"
     ]
    },
    {
     "cell_type": "heading",
     "level": 2,
     "metadata": {},
     "source": [
      "Example 4.1 page no : 88"
     ]
    },
    {
     "cell_type": "code",
     "collapsed": false,
     "input": [
      "\n",
      "# Variables\n",
      "a = 1.\n",
      "b = 3.\n",
      "c = 6.\n",
      "#Initial concentrations\n",
      "CAo = 100.      # feed\n",
      "CBo = 200.      # feed\n",
      "Cio = 100.      # feed\n",
      "#Final concentrations\n",
      "CA = 40.        # reacter exit\n",
      "\n",
      "# Calculations\n",
      "# Find CB,XA,XB\n",
      "ea = (6.-4.)/4;\n",
      "XA = (CAo-CA)/(CAo+ea*CA);\n",
      "eb = (ea*CBo)/(b*CAo);\n",
      "XB = b*CAo*XA/CBo;\n",
      "CB = CBo*(1-XB)/(1+eb*XB);\n",
      "\n",
      "# Results\n",
      "print \"The final concentration of BCB is %.f\"%(CB)\n",
      "print \" XA and XB are %.2f ,%.2f\"%(XA,XB)\n",
      " \n"
     ],
     "language": "python",
     "metadata": {},
     "outputs": [
      {
       "output_type": "stream",
       "stream": "stdout",
       "text": [
        "The final concentration of BCB is 40\n",
        " XA and XB are 0.50 ,0.75\n"
       ]
      }
     ],
     "prompt_number": 1
    },
    {
     "cell_type": "code",
     "collapsed": false,
     "input": [],
     "language": "python",
     "metadata": {},
     "outputs": []
    }
   ],
   "metadata": {}
  }
 ]
}