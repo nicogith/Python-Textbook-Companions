{
 "metadata": {
  "name": ""
 },
 "nbformat": 3,
 "nbformat_minor": 0,
 "worksheets": [
  {
   "cells": [
    {
     "cell_type": "heading",
     "level": 1,
     "metadata": {},
     "source": [
      "Chapter 30 :\n",
      "\n",
      "Product-Limiting Microbial \n",
      "\n",
      "Fermentation"
     ]
    },
    {
     "cell_type": "heading",
     "level": 2,
     "metadata": {},
     "source": [
      "Example 30.1 pageno : 651"
     ]
    },
    {
     "cell_type": "code",
     "collapsed": false,
     "input": [
      "import math \n",
      "\n",
      "# Variables\n",
      "k = math.sqrt(3)            #hr**-1\n",
      "n = 1.\n",
      "V = 30.                     #m3\n",
      "CR = 0.12                   #kgalc/kgsol\n",
      "density = 1000.             #kg/m3\n",
      "\n",
      "# Calculations and Results\n",
      "CR = CR*density;\n",
      "CR_opt = CR/2;\n",
      "alcohol_per = CR_opt*100/density        #PErcentage of alcohol\n",
      "\n",
      "print \" The Percentage of alchol in cocktail is %f\"%(alcohol_per)\n",
      "\n",
      "kt = 1.\n",
      "t = kt/k;\n",
      "t_opt = 2*t;\n",
      "v_opt = V/t_opt;\n",
      "\n",
      "print \" The Optimum feed rate is %f\"%(v_opt),\n",
      "print \" m3/hr\"\n",
      "\n",
      "#The production rate of alcohol \n",
      "FR = v_opt*CR_opt;\n",
      "print \" The production rate of alcohol is %f \"%(FR),\n",
      "print \" kgalc/hr\"\n"
     ],
     "language": "python",
     "metadata": {},
     "outputs": [
      {
       "output_type": "stream",
       "stream": "stdout",
       "text": [
        " The Percentage of alchol in cocktail is 6.000000\n",
        " The Optimum feed rate is 25.980762  m3/hr\n",
        " The production rate of alcohol is 1558.845727   kgalc/hr\n"
       ]
      }
     ],
     "prompt_number": 1
    },
    {
     "cell_type": "code",
     "collapsed": false,
     "input": [],
     "language": "python",
     "metadata": {},
     "outputs": []
    }
   ],
   "metadata": {}
  }
 ]
}