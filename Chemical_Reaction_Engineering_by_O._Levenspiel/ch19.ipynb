{
 "metadata": {
  "name": ""
 },
 "nbformat": 3,
 "nbformat_minor": 0,
 "worksheets": [
  {
   "cells": [
    {
     "cell_type": "heading",
     "level": 1,
     "metadata": {},
     "source": [
      "Chapter 19 : The Packed Bed Catalytic Reactor"
     ]
    },
    {
     "cell_type": "heading",
     "level": 2,
     "metadata": {},
     "source": [
      "Example 19.1 page no : 438"
     ]
    },
    {
     "cell_type": "code",
     "collapsed": false,
     "input": [
      "\n",
      "%matplotlib inline\n",
      "\n",
      "from matplotlib.pyplot import *\n",
      "\n",
      "# Variables\n",
      "Cp = 40.                    #J/mol.k\n",
      "Hr = 80000.                 #J/mol.k\n",
      "FAo = 100.                  #mol/s\n",
      "nA = 1.\n",
      "nB = 7.\n",
      "n = nA + nB\n",
      "T1 = 300.                   #k\n",
      "T2 = 600.                   #k\n",
      "T3 = 800.                   #k\n",
      "\n",
      "# Calculations\n",
      "m = Cp/Hr;\n",
      "XA = [0.8,0.78,0.7,0.66,0.5,0.26,0.1,0];\n",
      "inv_rA = [20,10,5,4.4,5,10,20,33];\n",
      "\n",
      "\n",
      "plot(XA,inv_rA)\n",
      "xlabel(\"Xa\")\n",
      "ylabel(\"1/8 X 1/-rA\")\n",
      "\n",
      "print ('From the plot we can say that a recycle reactor should be used')\n",
      "W = FAo*38.4\n",
      "R = 1.;\n",
      "Q1 = n*FAo*Cp*(T2-T1);\n",
      "Q2 = n*FAo*Cp*(T1-T3);\n",
      "\n",
      "# Results\n",
      "print \" The weight of catalyst needed is %.f kg\"%(W)\n",
      "print \" The Recycle Ratio is %.f\"%(R)\n",
      "print \" The heat exchange for feed is %.f MW\"%(Q1/10**6)\n",
      "print \" The heat excahnge for the product is %.f MW\"%(Q2/10**6)\n",
      "show()\n"
     ],
     "language": "python",
     "metadata": {},
     "outputs": [
      {
       "output_type": "stream",
       "stream": "stdout",
       "text": [
        "Populating the interactive namespace from numpy and matplotlib\n",
        "From the plot we can say that a recycle reactor should be used\n",
        " The weight of catalyst needed is 3840 kg\n",
        " The Recycle Ratio is 1\n",
        " The heat exchange for feed is 10 MW\n",
        " The heat excahnge for the product is -16 MW\n"
       ]
      },
      {
       "output_type": "stream",
       "stream": "stderr",
       "text": [
        "WARNING: pylab import has clobbered these variables: ['draw_if_interactive']\n",
        "`%pylab --no-import-all` prevents importing * from pylab and numpy\n"
       ]
      },
      {
       "metadata": {},
       "output_type": "display_data",
       "png": "[encoded data removed]",
       "text": [
        "<matplotlib.figure.Figure at 0x7ff34ba76ed0>"
       ]
      }
     ],
     "prompt_number": 4
    },
    {
     "cell_type": "heading",
     "level": 2,
     "metadata": {},
     "source": [
      "Example 19.2 page no : 440"
     ]
    },
    {
     "cell_type": "code",
     "collapsed": false,
     "input": [
      "\n",
      "import math \n",
      "from matplotlib.pyplot import *\n",
      "\n",
      "# Variables\n",
      "Cp = 40.\n",
      "Hr = 80000.\n",
      "m = Cp/Hr;\n",
      "FAo = 100.              #mol/s\n",
      "print ('We should use a mixed flow reactor operating at optimum')\n",
      "\n",
      "# Calculations and Results\n",
      "XA = [0.85,0.785,0.715,0.66,0.58,0.46];\n",
      "inv_rAopt = [20,10,5,3.6,2,1];\n",
      "plot(XA,inv_rAopt)\n",
      "\n",
      "area1 = 0.66*3.6;\n",
      "area2 = (0.85-0.66)*20;\n",
      "W1 = FAo*area1;\n",
      "W2 = FAo*area2;\n",
      "print \" The weight of catalyst needed for 1st bed is %.1f kg\"%(W1)\n",
      "print \" The weight of catalyst needed for 2ndbed is %.1f kg\"%(W2)\n",
      "\n",
      "#Heat exchange\n",
      "#For the first reactor\n",
      "Q = (820-300)*Cp+0.66*(-Hr);\n",
      "\n",
      "#For 100 mol/s\n",
      "Q1 =  FAo*Q/10**6;#MW\n",
      "print \" The amount of heat exchanged for 1st reactor is %.2f MW\"%(Q1)\n",
      "\n",
      "#For 2nd reactor\n",
      "#To go from XA = 0.66 at 820 k to XA = 0.85 at 750 k\n",
      "Q2 = FAo*((750-820)*Cp+(0.85-0.66)*(-Hr));\n",
      "Q2 = Q2/10**6;\n",
      "print \" The amount of heat exchanged for 2nd reactor is %.2f MW\"%(Q2)\n",
      "\n",
      "#For the exchanger needed to cool the exit stream from 750 k to 300 k\n",
      "Q3 = FAo*Cp*(300. - 750);\n",
      "Q3 = Q3/10**6;#MW\n",
      "print \" The amount of heat exchanged for exchanger is %.2f MW\"%(Q3)\n",
      "\n",
      "show()\n"
     ],
     "language": "python",
     "metadata": {},
     "outputs": [
      {
       "output_type": "stream",
       "stream": "stdout",
       "text": [
        "We should use a mixed flow reactor operating at optimum\n",
        " The weight of catalyst needed for 1st bed is 237.6 kg"
       ]
      },
      {
       "output_type": "stream",
       "stream": "stdout",
       "text": [
        "\n",
        " The weight of catalyst needed for 2ndbed is 380.0 kg\n",
        " The amount of heat exchanged for 1st reactor is -3.20 MW\n",
        " The amount of heat exchanged for 2nd reactor is -1.80 MW\n",
        " The amount of heat exchanged for exchanger is -1.80 MW\n"
       ]
      },
      {
       "metadata": {},
       "output_type": "display_data",
       "png": "[encoded data removed]",
       "text": [
        "<matplotlib.figure.Figure at 0x3959650>"
       ]
      }
     ],
     "prompt_number": 3
    },
    {
     "cell_type": "code",
     "collapsed": false,
     "input": [],
     "language": "python",
     "metadata": {},
     "outputs": []
    }
   ],
   "metadata": {}
  }
 ]
}