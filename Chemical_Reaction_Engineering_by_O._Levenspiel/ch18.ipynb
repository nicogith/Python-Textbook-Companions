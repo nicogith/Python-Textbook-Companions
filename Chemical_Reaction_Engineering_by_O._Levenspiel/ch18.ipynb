{
 "metadata": {
  "name": ""
 },
 "nbformat": 3,
 "nbformat_minor": 0,
 "worksheets": [
  {
   "cells": [
    {
     "cell_type": "heading",
     "level": 1,
     "metadata": {},
     "source": [
      "Chapter 18 Solid Catalyzed Reactions"
     ]
    },
    {
     "cell_type": "heading",
     "level": 2,
     "metadata": {},
     "source": [
      "Example 18.1 pageno : 407"
     ]
    },
    {
     "cell_type": "code",
     "collapsed": false,
     "input": [
      "\n",
      "import math \n",
      "\n",
      "# Variables\n",
      "dp = 2.4*(10**-3);L = dp/6;\n",
      "De = 5*10**-5;\n",
      "Keff = 1.6;\n",
      "h = 160.                #heat transfer coefficient(KJ/hr.m2cat.K)\n",
      "kg = 300.               #mass transfer coefficient(m3/hr.m2cat)\n",
      "Hr = -160.              #KJ/molA\n",
      "CAg = 20.               #mol/m3\n",
      "rA_obs = 10.**5         #mol/hr.m3cat\n",
      "\n",
      "# Calculations and Results\n",
      "kobs = rA_obs/CAg;\n",
      "Vp = 3.14*(dp**3)/6;\n",
      "S = 3.14*(dp**2);\n",
      "ratio = kobs*Vp/(kg*S);\n",
      "\n",
      "print \" Part a\"\n",
      "if ratio<0.01 :\n",
      "    print \" Resistance to mass transport to film should not influence rate of reaction\"\n",
      "else:\n",
      "    print \" Resistance to mass transport to film should influence rate of reaction\"\n",
      "\n",
      "\n",
      "print \" Part b\"\n",
      "\n",
      "Mw = rA_obs*(L**2)/(De*CAg);\n",
      "print \" Mw =  %.f\"%(Mw)\n",
      "if Mw>4:\n",
      "    print \" Pore diffusion is influencing and hence strong pore diffusion\"\n",
      "else:\n",
      "    print \" Pore diffusion is  not influencing and hence weak pore diffuusion\"\n",
      "\n",
      "dt_max_pellet = De*(CAg-0)*(-Hr)/Keff;\n",
      "#Temp variation Across the gas film\n",
      "dt_max_film = L*rA_obs*(-Hr)/h;\n",
      "\n",
      "print \" Part c\"\n",
      "print \" dTmax,pellet is %.1f C\"%(dt_max_pellet)\n",
      "print \" degree C  dTmax,film is %.2f C\"%(dt_max_film)\n",
      "print \" degree C\"\n",
      "if dt_max_pellet<1:\n",
      "    print \" Pellet is close to uniform in temperature\"\n",
      "else:\n",
      "    print \" There is a variation in temp within pellet\"\n",
      "if dt_max_film<1:\n",
      "    print \" Film is close to uniform in temperature\"\n",
      "else:\n",
      "    print \" There is a variation in temp within Film\"\n"
     ],
     "language": "python",
     "metadata": {},
     "outputs": [
      {
       "output_type": "stream",
       "stream": "stdout",
       "text": [
        " Part a\n",
        " Resistance to mass transport to film should not influence rate of reaction\n",
        " Part b\n",
        " Mw =  16\n",
        " Pore diffusion is influencing and hence strong pore diffusion\n",
        " Part c\n",
        " dTmax,pellet is 0.1 C\n",
        " degree C  dTmax,film is 40.00 C\n",
        " degree C\n",
        " Pellet is close to uniform in temperature\n",
        " There is a variation in temp within Film\n"
       ]
      }
     ],
     "prompt_number": 1
    },
    {
     "cell_type": "heading",
     "level": 2,
     "metadata": {},
     "source": [
      "Example 18.2 page no : 408"
     ]
    },
    {
     "cell_type": "code",
     "collapsed": false,
     "input": [
      "\n",
      "%matplotlib inline\n",
      "\n",
      "from matplotlib.pyplot import *\n",
      "from numpy import *\n",
      "import math \n",
      "from scipy import stats\n",
      "\n",
      "# Variables\n",
      "PAo = 3.2;\n",
      "R = 0.082           #litre.atm/mol.k\n",
      "T = 390.            #k\n",
      "v = 20.             #litre/hr\n",
      "W = 0.01            #/kg\n",
      "CA_in = [0.1,0.08,0.06,0.04];\n",
      "CA_out = [0.084,0.07,0.055,0.038];\n",
      "\n",
      "# Calculations\n",
      "CAo = PAo/(R*T);\n",
      "FAo = CAo*v;\n",
      "eA = 3;\n",
      "\n",
      "XA_in = zeros(4)\n",
      "XA_out = zeros(4)\n",
      "dXA = zeros(4)\n",
      "rA = zeros(4)\n",
      "CA_avg = zeros(4)\n",
      "\n",
      "for i in range(4):\n",
      "    XA_in[i] = (1-CA_in[i]/CAo)/(1+eA*CA_in[i]/CAo);\n",
      "    XA_out[i] = (1-CA_out[i]/CAo)/(1+eA*CA_out[i]/CAo);\n",
      "    dXA[i] = XA_out[i]-XA_in[i];\n",
      "    rA[i] = dXA[i]/(W/FAo);\n",
      "    CA_avg[i] = (CA_in[i]+CA_out[i])/2;\n",
      "\n",
      "# Results\n",
      "plot(CA_avg,rA)\n",
      "xlabel(\"CA, mol/liter\")\n",
      "ylabel(\"-rA, mol/hr. kg cat\")\n",
      "coeff1 = stats.linregress(CA_avg,rA)\n",
      "k = coeff1[0]\n",
      "print \" The rate of reaction is %.3f mol/hr.kg\"%(k),\n",
      "print \"CA\"\n",
      "print ('The answer slightly differs from those given in book as regress fn is\\\n",
      " used for calculating slope and intercept')\n"
     ],
     "language": "python",
     "metadata": {},
     "outputs": [
      {
       "output_type": "stream",
       "stream": "stdout",
       "text": [
        "Populating the interactive namespace from numpy and matplotlib\n",
        " The rate of reaction is 109.395 mol/hr.kg"
       ]
      },
      {
       "output_type": "stream",
       "stream": "stdout",
       "text": [
        " CA\n",
        "The answer slightly differs from those given in book as regress fn is used for calculating slope and intercept\n"
       ]
      },
      {
       "metadata": {},
       "output_type": "display_data",
       "png": "[encoded data removed]",
       "text": [
        "<matplotlib.figure.Figure at 0x2f0a1d0>"
       ]
      }
     ],
     "prompt_number": 2
    },
    {
     "cell_type": "heading",
     "level": 2,
     "metadata": {},
     "source": [
      "Example 18.3 pageno : 410"
     ]
    },
    {
     "cell_type": "code",
     "collapsed": false,
     "input": [
      "%matplotlib inline\n",
      "from numpy import zeros\n",
      "from scipy import stats\n",
      "\n",
      "\n",
      "# Variables\n",
      "CAo = 0.1           #mol/litre\n",
      "FAo = 2.            #mol/hr\n",
      "eA = 3.\n",
      "CA = [0.074,0.06,0.044,0.029]           #mol/litre\n",
      "W = [0.02,0.04,0.08,0.16]               #kg\n",
      "\n",
      "XA = zeros(4)\n",
      "y = zeros(4)\n",
      "x = zeros(4)\n",
      "W_by_FAo = zeros(4)\n",
      "CAout_by_CAo = zeros(4)\n",
      "XA1 = zeros(4)\n",
      "\n",
      "# Calculations\n",
      "for i in range(4):\n",
      "    XA[i] = (CAo-CA[i])/(CAo+eA*CA[i]);\n",
      "    y[i]  = (1+eA)*math.log(1/(1-XA[i]))-eA*XA[i];\n",
      "    x[i] = CAo*W[i]/FAo;\n",
      "    W_by_FAo[i] = W[i]/FAo;\n",
      "    CAout_by_CAo[i] = CA[i]/CAo;\n",
      "    XA1[i] = (1-CAout_by_CAo[i])/(1+eA*CAout_by_CAo[i]);\n",
      "\n",
      "# Results\n",
      "plot(x,y)\n",
      "xlabel(\"CA0W/FAO = W/20, hr.kg cat/liter\")\n",
      "ylabel(\"4 ln 1/(1-Xa) -3Xa\")\n",
      "coeff3 = stats.linregress(x,y);\n",
      "k = coeff3[0];\n",
      "print \" Part a, using integral method of analysis\"\n",
      "print \" The rate of reactionmol/litre is %.3f\"%(k),\n",
      "print \"CA\"\n",
      "\n",
      "#Part b\n",
      "#plotting W_by_FAo vs XA1,the calculating rA = dXA/d(W/FAo) for last 3 points,we get\n",
      "rA = [5.62,4.13,2.715];\n",
      "coeff2 = stats.linregress(CA[1:],rA);\n",
      "\n",
      "print \" Part b, using differential method of analysis\"\n",
      "print \" The rate of reactionmol/litre) is %.3f\"%(coeff2[0]),\n",
      "print \"CA\"\n",
      "\n",
      "\n"
     ],
     "language": "python",
     "metadata": {},
     "outputs": [
      {
       "output_type": "stream",
       "stream": "stdout",
       "text": [
        "Populating the interactive namespace from numpy and matplotlib\n",
        " Part a, using integral method of analysis"
       ]
      },
      {
       "output_type": "stream",
       "stream": "stdout",
       "text": [
        "\n",
        " The rate of reactionmol/litre is 96.804 CA\n",
        " Part b, using differential method of analysis\n",
        " The rate of reactionmol/litre) is 93.703 CA\n"
       ]
      },
      {
       "metadata": {},
       "output_type": "display_data",
       "png": "[encoded data removed]",
       "text": [
        "<matplotlib.figure.Figure at 0x7ffe3c06fe90>"
       ]
      }
     ],
     "prompt_number": 3
    },
    {
     "cell_type": "heading",
     "level": 2,
     "metadata": {},
     "source": [
      "Example 18.4 pageno : 413"
     ]
    },
    {
     "cell_type": "code",
     "collapsed": false,
     "input": [
      "\n",
      "import math \n",
      "\n",
      "# Variables\n",
      "# from example 18.2\n",
      "XA = 0.35;\n",
      "FAo = 2000.         #mol/hr\n",
      "eA = 3.\n",
      "k = 96.\n",
      "CAo = 0.1;\n",
      "\n",
      "# Calculations\n",
      "W = ((1+eA)*math.log(1./(1-XA))-eA*XA)*(FAo/(k*CAo));\n",
      "\n",
      "# Results\n",
      "print \" The amount of catalyst kg needed in a packed bed reactor is %.f kg\"%(W)\n"
     ],
     "language": "python",
     "metadata": {},
     "outputs": [
      {
       "output_type": "stream",
       "stream": "stdout",
       "text": [
        " The amount of catalyst kg needed in a packed bed reactor is 140 kg\n"
       ]
      }
     ],
     "prompt_number": 3
    },
    {
     "cell_type": "heading",
     "level": 2,
     "metadata": {},
     "source": [
      "Example 18.5 pageno : 414"
     ]
    },
    {
     "cell_type": "code",
     "collapsed": false,
     "input": [
      "%matplotlib inline\n",
      "\n",
      "import math \n",
      "from matplotlib.pyplot import *\n",
      "from numpy import *\n",
      "from scipy import *\n",
      "\n",
      "# Variables\n",
      "CAo = 0.1;\n",
      "eA = 3;\n",
      "rA = [3.4,5.4,7.6,9.1];            # mol A/hr. kg cat\n",
      "CA = [0.039,0.0575,0.075,0.092];   # mol/liter\n",
      "\n",
      "# Calculations\n",
      "XA = zeros(5);\n",
      "inv_rA = zeros(5);\n",
      "for i in range(4):\n",
      "    XA[i] = (1-CA[i]/CAo)/(1+eA*CA[i]/CAo);\n",
      "    inv_rA[i] = 1/rA[i];\n",
      "\n",
      "for i in range(4):\n",
      "    small = XA[i];\n",
      "    for j in range(i,4):\n",
      "        next_ = XA[j];\n",
      "        if small>next_:\n",
      "            XA[i],XA[j] = XA[j],XA[i];\n",
      "            inv_rA[i],inv_rA[j] = inv_rA[j], inv_rA[i]\n",
      "\n",
      "\n",
      "# Results\n",
      "plot(XA,inv_rA)\n",
      "xlabel(\"Xa, dimensionless\")\n",
      "ylabel(\"-1/rA, hr.kg cat/mol\")\n",
      "show()\n",
      "XA[4] = 0.35\n",
      "inv_rA[4] = 0.34;\n",
      "Area = trapz(XA,inv_rA);\n",
      "W = Area*2000.;\n",
      "print \"Amount of catalyst needed is %.f kg cat\"%(W)\n",
      "print ('The answer differs from those given in book as trapezoidal rule is used for calculating area')\n",
      "\n",
      "# Note : Answer differs because python trepz function works differnt than we do manually trepezoidal method."
     ],
     "language": "python",
     "metadata": {},
     "outputs": [
      {
       "output_type": "stream",
       "stream": "stdout",
       "text": [
        "Populating the interactive namespace from numpy and matplotlib\n"
       ]
      },
      {
       "metadata": {},
       "output_type": "display_data",
       "png": "[encoded data removed]",
       "text": [
        "<matplotlib.figure.Figure at 0x7fa93d80a710>"
       ]
      },
      {
       "output_type": "stream",
       "stream": "stdout",
       "text": [
        "Amount of catalyst needed is 91 kg cat\n",
        "The answer differs from those given in book as trapezoidal rule is used for calculating area\n"
       ]
      }
     ],
     "prompt_number": 1
    },
    {
     "cell_type": "heading",
     "level": 2,
     "metadata": {},
     "source": [
      "Example 18.6 pageno : 416"
     ]
    },
    {
     "cell_type": "code",
     "collapsed": false,
     "input": [
      "\n",
      "# Variables\n",
      "XA = 0.35;\n",
      "FAo = 2000.             #mol/hr\n",
      "CAo = 0.1               #mol/litre\n",
      "eA = 3.\n",
      "k = 96.                 # mol/kg cat\n",
      "\n",
      "# Calculations\n",
      "CA = CAo*((1-XA)/(1+eA*XA))\n",
      "rA = k*CA;\n",
      "W = FAo*XA/rA;\n",
      "\n",
      "# Results\n",
      "print \"The amount of catalyst neededkg, is %.f kg\"%(W)\n"
     ],
     "language": "python",
     "metadata": {},
     "outputs": [
      {
       "output_type": "stream",
       "stream": "stdout",
       "text": [
        "The amount of catalyst neededkg, is 230 kg\n"
       ]
      }
     ],
     "prompt_number": 5
    },
    {
     "cell_type": "code",
     "collapsed": false,
     "input": [],
     "language": "python",
     "metadata": {},
     "outputs": []
    }
   ],
   "metadata": {}
  }
 ]
}