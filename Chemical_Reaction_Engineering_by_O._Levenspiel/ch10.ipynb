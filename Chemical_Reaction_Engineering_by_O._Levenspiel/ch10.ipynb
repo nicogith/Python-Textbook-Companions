{
 "metadata": {
  "name": ""
 },
 "nbformat": 3,
 "nbformat_minor": 0,
 "worksheets": [
  {
   "cells": [
    {
     "cell_type": "heading",
     "level": 1,
     "metadata": {},
     "source": [
      "Chapter 10 : Choosing the Right Kind of Reactor"
     ]
    },
    {
     "cell_type": "heading",
     "level": 2,
     "metadata": {},
     "source": [
      "Example 10.1 pageno : 243"
     ]
    },
    {
     "cell_type": "code",
     "collapsed": false,
     "input": [
      "\n",
      "# Variables\n",
      "CAo = 1.                # feed\n",
      "CA = 0.25\n",
      "v = 100.                #litre/min\n",
      "ko = .025\n",
      "k1 = 0.2                # min**-1\n",
      "k2 = 0.4                # liter/mol.min\n",
      "\n",
      "# Calculations\n",
      "rA = ko+k1*CA+k2*CA**2\n",
      "V = (v/4.)*(CAo-CA)/rA\n",
      "#For 4 Reactor System\n",
      "Vt = 4*V;\n",
      "\n",
      "# Results\n",
      "print \" The Total volume of 4 reactor system is %.f litres\"%(Vt)\n"
     ],
     "language": "python",
     "metadata": {},
     "outputs": [
      {
       "output_type": "stream",
       "stream": "stdout",
       "text": [
        " The Total volume of 4 reactor system is 750 litres\n"
       ]
      }
     ],
     "prompt_number": 2
    },
    {
     "cell_type": "heading",
     "level": 2,
     "metadata": {},
     "source": [
      "Example 10.2 pageno : 245"
     ]
    },
    {
     "cell_type": "code",
     "collapsed": false,
     "input": [
      "\n",
      "print \"For Intermediate R is desired\"\n",
      "#we want step 1 fast than 2 and step 1 fast than 3\n",
      "print \" E1<E2,E1<E3 so use a low temperature and plug flow \"\n",
      "print \"For Product S is desired\"\n",
      "#Here speed is all that matters\n",
      "print \" High speed is all that matters so use a high temperature and plug flow \"\n",
      "print \"For Intermediate T is desired\"\n",
      "#We want step 2 fast than 1 and step 2 fast than 4\n",
      "print \" E2>E1,E3>E5 so use a falling temperature and plug flow \"\n",
      "print \"For Intermediate U is desired\"\n",
      "#We want step 1 fast than 2 and step 3 fast than 5\n",
      "print \" E2>E1,E3>E5 so use a rimath.sing temperature and plug flow \"\n"
     ],
     "language": "python",
     "metadata": {},
     "outputs": [
      {
       "output_type": "stream",
       "stream": "stdout",
       "text": [
        "For Intermediate R is desired\n",
        " E1<E2,E1<E3 so use a low temperature and plug flow \n",
        "For Product S is desired\n",
        " High speed is all that matters so use a high temperature and plug flow \n",
        "For Intermediate T is desired\n",
        " E2>E1,E3>E5 so use a falling temperature and plug flow \n",
        "For Intermediate U is desired\n",
        " E2>E1,E3>E5 so use a rimath.sing temperature and plug flow \n"
       ]
      }
     ],
     "prompt_number": 3
    },
    {
     "cell_type": "code",
     "collapsed": false,
     "input": [],
     "language": "python",
     "metadata": {},
     "outputs": []
    }
   ],
   "metadata": {}
  }
 ]
}