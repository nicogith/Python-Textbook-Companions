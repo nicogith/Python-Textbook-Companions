{
 "metadata": {
  "name": ""
 },
 "nbformat": 3,
 "nbformat_minor": 0,
 "worksheets": [
  {
   "cells": [
    {
     "cell_type": "heading",
     "level": 1,
     "metadata": {},
     "source": [
      "Chapter 22  :\n",
      "\n",
      "G/L Reactions on Solid \n",
      "\n",
      "Catalysts: Trickle Beds, Slurry \n",
      "\n",
      "Reactors, and Three-Phase \n",
      "\n",
      "Fluidized Beds"
     ]
    },
    {
     "cell_type": "heading",
     "level": 2,
     "metadata": {},
     "source": [
      "Example 22.1 pageno : 511"
     ]
    },
    {
     "cell_type": "code",
     "collapsed": false,
     "input": [
      "import math \n",
      "\n",
      "# Variables\n",
      "PA = 101325.            #Pa\n",
      "HA = 36845.             #PA.m3.l/mol\n",
      "CBo = 1000.             #mol/m3\n",
      "v = 10**-4              #m3*l/s\n",
      "h = 5.                  #m\n",
      "A = 0.1                 #m2\n",
      "\n",
      "# Calculations\n",
      "CA = PA/HA;\n",
      "FBo = v*CBo;\n",
      "Vr = A*h;\n",
      "dp = 5*10**-3;          #mcat\n",
      "d_solid = 4500.         #kg/m3cat\n",
      "De = 8*10**-10;         #m3l/mcat.s\n",
      "n = 0.5;\n",
      "b = 1.;\n",
      "k = 2.35*10**-3;\n",
      "L = dp/6.;\n",
      "kai_overall = 0.02;\n",
      "kac_ac = 0.05;\n",
      "f = 0.6;\n",
      "#For a half-order reaction\n",
      "Mt = L*math.sqrt((n+1)*(k*d_solid*(CA)**(n-1))/(2*De));\n",
      "E = 1/Mt;\n",
      "rA = (1/((1/(kai_overall))+(1/(kac_ac))+(1/(k*b*(CA**(n-1))*E*f*d_solid))))*(PA/HA);\n",
      "#From Material Balance\n",
      "XB = b*rA*Vr/FBo;\n",
      "\n",
      "# Results\n",
      "print \" The conversion of acetone is %.3f\"%(XB)\n"
     ],
     "language": "python",
     "metadata": {},
     "outputs": [
      {
       "output_type": "stream",
       "stream": "stdout",
       "text": [
        " The conversion of acetone is 0.158\n"
       ]
      }
     ],
     "prompt_number": 2
    },
    {
     "cell_type": "heading",
     "level": 2,
     "metadata": {},
     "source": [
      "Example 22.2 pageno : 513"
     ]
    },
    {
     "cell_type": "code",
     "collapsed": false,
     "input": [
      "%matplotlib inline\n",
      "\n",
      "import math \n",
      "from matplotlib.pyplot import *\n",
      "from numpy import *\n",
      "\n",
      "# Variables\n",
      "PA = 14.6*101325;           #Pa\n",
      "HA = 148000.;               # liquid\n",
      "Vr = 2.;\n",
      "Vl = Vr;\n",
      "b = 1.;\n",
      "fs = 0.0055;\n",
      "\n",
      "# Calculations\n",
      "k = 5.*10**-5;              #m6l/kg.molcat.s\n",
      "dp = 5*10**-5;              #mcat\n",
      "kac = 4.4*10**-4;kai = 0.277;   #m3l/m3.r.s\n",
      "density = 1450.;                #kg/m3\n",
      "De = 5*10**-10;                 #m3l/mcat.s\n",
      "L = dp/6;                       #for spherical particle\n",
      "CA = PA/HA;\n",
      "X = 0.9;\n",
      "CBo = 2500.\n",
      "CB = CBo*(1-X);\n",
      "ac = 6*fs/dp;\n",
      "K = kac*ac;\n",
      "\n",
      "CB = [2500,1000,250];\n",
      "e = [0.19,0.29,0.5];\n",
      "Mt = zeros(3)\n",
      "rA = zeros(3)\n",
      "inv_rA = zeros(3)\n",
      "for i in range(3):\n",
      "    Mt[i] = L*math.sqrt(k*CB[i]*density/De);\n",
      "    rA[i] = CA/((1./kai)+(1./K)+(1./(k*density*e[i]*fs*CB[i])))\n",
      "    inv_rA[i] = 1/rA[i];\n",
      "\n",
      "# Results\n",
      "plot(CB,inv_rA)\n",
      "ylabel(\"1/-rA\")\n",
      "Area = 3460.\n",
      "t = Vl*Area/(b*Vr);\n",
      "t = t/60.                         #min\n",
      "print \" The time required for 90 percentage conversion of reactant is %.f\"%t,\n",
      "print \"min\"\n",
      "show()\n"
     ],
     "language": "python",
     "metadata": {},
     "outputs": [
      {
       "output_type": "stream",
       "stream": "stdout",
       "text": [
        "Populating the interactive namespace from numpy and matplotlib\n",
        " The time required for 90 percentage conversion of reactant is 58"
       ]
      },
      {
       "output_type": "stream",
       "stream": "stdout",
       "text": [
        " min\n"
       ]
      },
      {
       "output_type": "stream",
       "stream": "stderr",
       "text": [
        "WARNING: pylab import has clobbered these variables: ['draw_if_interactive', 'e']\n",
        "`%pylab --no-import-all` prevents importing * from pylab and numpy\n"
       ]
      },
      {
       "metadata": {},
       "output_type": "display_data",
       "png": "[encoded data removed]",
       "text": [
        "<matplotlib.figure.Figure at 0x32eab90>"
       ]
      }
     ],
     "prompt_number": 4
    },
    {
     "cell_type": "code",
     "collapsed": false,
     "input": [],
     "language": "python",
     "metadata": {},
     "outputs": []
    }
   ],
   "metadata": {}
  }
 ]
}