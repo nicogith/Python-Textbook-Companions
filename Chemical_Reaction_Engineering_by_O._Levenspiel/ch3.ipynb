{
 "metadata": {
  "name": ""
 },
 "nbformat": 3,
 "nbformat_minor": 0,
 "worksheets": [
  {
   "cells": [
    {
     "cell_type": "heading",
     "level": 1,
     "metadata": {},
     "source": [
      "Chapter 3 :  Interpretation of Batch Reactor Data"
     ]
    },
    {
     "cell_type": "heading",
     "level": 2,
     "metadata": {},
     "source": [
      "Example 3.1 page no : 60"
     ]
    },
    {
     "cell_type": "code",
     "collapsed": false,
     "input": [
      "\n",
      "%matplotlib inline\n",
      "\n",
      "import math \n",
      "from numpy import *\n",
      "from matplotlib.pyplot import *\n",
      "from scipy import stats\n",
      "\n",
      "# Variables\n",
      "#Given\n",
      "t = [0, 20, 40 ,60, 120 ,180, 300];        # time\n",
      "C_A = [10 ,8, 6, 5, 3, 2, 1];              # concentration\n",
      "CAo = 10.;\n",
      "k = zeros(7)\n",
      "CA_inv = zeros(7)\n",
      "\n",
      "# Calculations\n",
      "#Guesmath.sing 1st order kinetics\n",
      "for i in range(7):\n",
      "    k[i] = math.log(CAo/C_A[i]);\n",
      "    CA_inv[i] = 1/C_A[i];\n",
      "\n",
      "T = array([18.5,23,35]);\n",
      "CAo = array([10,5,2]);\n",
      "CA = zeros(3)\n",
      "log_Tf = zeros(3)\n",
      "log_CAo = zeros(3)\n",
      "\n",
      "for i in range(3):\n",
      "    CA[i] = 0.8*CAo[i];\n",
      "    log_Tf[i] = math.log10(T[i]);\n",
      "    log_CAo[i] = math.log10(CAo[i]);\n",
      "\n",
      "# Results\n",
      "plot(log_CAo,log_Tf)\n",
      "plot(log_CAo,log_Tf,\"go\")\n",
      "xlabel(\"Ln CAO\")\n",
      "ylabel(\"log r\")\n",
      "#plot(log_Tf,log_CAo)\n",
      "#coeff1 = linalg.lstsq(log_CAo,log_Tf);\n",
      "slope, intercept, r_value, p_value, std_err = stats.linregress(log_CAo,log_Tf)\n",
      "coeff1 = stats.linregress(log_CAo,log_Tf)\n",
      "n = 1-coeff1[0];\n",
      "print \"From graph we get slope and intercept for calculating rate eqn\"\n",
      "k1 = ((0.8**(1-n))-1)*(10.**(1-n))/(18.5*(n-1));\n",
      "print \" The rate equation is given by %.3f\"%(k1),\n",
      "print \"CA**1.4 mol/litre.sec\"\n"
     ],
     "language": "python",
     "metadata": {},
     "outputs": [
      {
       "output_type": "stream",
       "stream": "stdout",
       "text": [
        "Populating the interactive namespace from numpy and matplotlib\n",
        "From graph we get slope and intercept for calculating rate eqn"
       ]
      },
      {
       "output_type": "stream",
       "stream": "stdout",
       "text": [
        "\n",
        " The rate equation is given by 0.005 CA**1.4 mol/litre.sec\n"
       ]
      },
      {
       "metadata": {},
       "output_type": "display_data",
       "png": "[encoded data removed]",
       "text": [
        "<matplotlib.figure.Figure at 0x33a3310>"
       ]
      }
     ],
     "prompt_number": 1
    },
    {
     "cell_type": "heading",
     "level": 2,
     "metadata": {},
     "source": [
      "Example 3.2 page no : 65"
     ]
    },
    {
     "cell_type": "code",
     "collapsed": false,
     "input": [
      "%matplotlib inline\n",
      "\n",
      "import math\n",
      "# Variables\n",
      "CA = array([10,8,6,5,3,2,1]);              # concentration\n",
      "T = array([0,20,40,60,120,180,300]);       # time\n",
      "y = array([-0.1333,-0.1031,-0.0658,-0.0410,-0.0238,-0.0108,-0.0065]);     # slope\n",
      "\n",
      "log_y = zeros(7)\n",
      "log_CA = zeros(7)\n",
      "\n",
      "# Calculations\n",
      "for i in range(7):\n",
      "    log_y[i] = log10(complex(y[i]));\n",
      "    log_CA[i] = log10(CA[i]);\n",
      "\n",
      "\n",
      "# Results\n",
      "plot(log_CA,log_y)\n",
      "plot(log_CA,log_y,\"go\")\n",
      "xlabel(\"log10 CA\")\n",
      "ylabel(\"log10 (-dCA/dt)\")\n",
      "show()\n",
      "coeff1 = stats.linregress(log_CA,log_y);\n",
      "n = coeff1[0];\n",
      "k = -10**(coeff1[1]);\n",
      "print \" After doing linear regression, the slope and intercept of the graph is %.0f, %.0f\"%(-coeff1[1],coeff1[0])\n",
      "print \" The rate equation is therefore given by %.3f\"%(-k),\n",
      "print \"CA**1.375 mol/litre.sec\"\n",
      "print ('The answer slightly differs from those given in book as regress fn is used for \\\n",
      " calculating slope and intercept')\n"
     ],
     "language": "python",
     "metadata": {},
     "outputs": [
      {
       "output_type": "stream",
       "stream": "stdout",
       "text": [
        "Populating the interactive namespace from numpy and matplotlib\n"
       ]
      },
      {
       "output_type": "stream",
       "stream": "stderr",
       "text": [
        "WARNING: pylab import has clobbered these variables: ['draw_if_interactive']\n",
        "`%pylab --no-import-all` prevents importing * from pylab and numpy\n",
        "-c:14: ComplexWarning: Casting complex values to real discards the imaginary part\n"
       ]
      },
      {
       "metadata": {},
       "output_type": "display_data",
       "png": "[encoded data removed]",
       "text": [
        "<matplotlib.figure.Figure at 0x365aa90>"
       ]
      },
      {
       "output_type": "stream",
       "stream": "stdout",
       "text": [
        " After doing linear regression, the slope and intercept of the graph is 2, 1\n",
        " The rate equation is therefore given by 0.005 CA**1.375 mol/litre.sec\n",
        "The answer slightly differs from those given in book as regress fn is used for  calculating slope and intercept\n"
       ]
      }
     ],
     "prompt_number": 2
    },
    {
     "cell_type": "heading",
     "level": 2,
     "metadata": {},
     "source": [
      "Example 3.4 page no : 73"
     ]
    },
    {
     "cell_type": "code",
     "collapsed": false,
     "input": [
      "import math \n",
      "\n",
      "# Variables\n",
      "k1 = 2.3           # temperatures\n",
      "k2 = 2.3\n",
      "T1 = 400.          # K\n",
      "T2 = 500.          # K\n",
      "\n",
      "# Calculations\n",
      "R = 82.06*10**-6;\n",
      "R1 = 8.314\n",
      "E = (math.log(k2/k1)*R)/(1./T1-1./T2)\n",
      "\n",
      "# Results\n",
      "print \"using pressure units is %.0f EJ/mol\"%(E)\n",
      "\n",
      "#pA = CA*RT\n",
      "#-rA = 2.3(RT)**2*CA**2\n",
      "k1 = 2.3*(R*T1)**2\n",
      "k2 = 2.3*(R*T2)**2\n",
      "E = (math.log(k2/k1)*R1)/(1./T1-1./T2)\n",
      "print \"using concentration units is %.f J/mol\"%(E)\n",
      "\n",
      "# Answers might be different because of Rounding error"
     ],
     "language": "python",
     "metadata": {},
     "outputs": [
      {
       "output_type": "stream",
       "stream": "stdout",
       "text": [
        "using pressure units is 0 EJ/mol\n",
        "using concentration units is 7421 J/mol\n"
       ]
      }
     ],
     "prompt_number": 3
    },
    {
     "cell_type": "code",
     "collapsed": false,
     "input": [
      "\n"
     ],
     "language": "python",
     "metadata": {},
     "outputs": []
    }
   ],
   "metadata": {}
  }
 ]
}