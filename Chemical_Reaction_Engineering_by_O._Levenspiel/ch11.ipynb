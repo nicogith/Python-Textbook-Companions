{
 "metadata": {
  "name": ""
 },
 "nbformat": 3,
 "nbformat_minor": 0,
 "worksheets": [
  {
   "cells": [
    {
     "cell_type": "heading",
     "level": 1,
     "metadata": {},
     "source": [
      "Chapter 11 : Basics of Non-Ideal Flow"
     ]
    },
    {
     "cell_type": "heading",
     "level": 2,
     "metadata": {},
     "source": [
      "Example 11.1 pageno : 267"
     ]
    },
    {
     "cell_type": "code",
     "collapsed": false,
     "input": [
      "\n",
      "%matplotlib inline\n",
      "\n",
      "from numpy import *\n",
      "from matplotlib.pyplot import *\n",
      "import math \n",
      "\n",
      "# Variables\n",
      "T = array([0,5,10,15,20,25,30,35])    # time\n",
      "Cpulse = array([0,3,5,5,4,2,1,0])     # tracer output concentration\n",
      "dt = 5.;\n",
      "sum1 = 0.;\n",
      "sum2 = 0.;\n",
      "Area = 0.               #Initialization\n",
      "\n",
      "# Calculations\n",
      "for i in range(8):\n",
      "    sum1 = sum1+T[i]*Cpulse[i]*dt;\n",
      "    sum2 = sum2+Cpulse[i]*dt;\n",
      "    Area = Area+Cpulse[i]*dt;\n",
      "\n",
      "t = sum1/sum2;\n",
      "E = zeros(8)\n",
      "for j in range(8):\n",
      "    E[j] = Cpulse[j]/Area;\n",
      "\n",
      "# Results\n",
      "print \" The mean residence time is %.f min \"%(t)\n",
      "plot(T,E)\n",
      "plot(T,E,\"go\")\n",
      "xlabel(\"t, min\")\n",
      "ylabel(\"E\")\n",
      "show()"
     ],
     "language": "python",
     "metadata": {},
     "outputs": [
      {
       "output_type": "stream",
       "stream": "stdout",
       "text": [
        "Populating the interactive namespace from numpy and matplotlib\n",
        " The mean residence time is 15 min \n"
       ]
      },
      {
       "metadata": {},
       "output_type": "display_data",
       "png": "[encoded data removed]",
       "text": [
        "<matplotlib.figure.Figure at 0x32abdd0>"
       ]
      }
     ],
     "prompt_number": 1
    },
    {
     "cell_type": "heading",
     "level": 2,
     "metadata": {},
     "source": [
      "Example 11.2 pageno : 268"
     ]
    },
    {
     "cell_type": "code",
     "collapsed": false,
     "input": [
      "\n",
      "# Variables\n",
      "M = 150.            #Molecular mass(gm)\n",
      "v = 5.              #litre/sec\n",
      "v = 5*60.           #litre/min\n",
      "V = 860.            #litres\n",
      "Cpulse = .75\n",
      "# Calculations and Results\n",
      "#From Material Balance\n",
      "Area1 = M/v;        #gm.min/litre\n",
      "A1 = 0.375;\n",
      "Area2 = A1*(1+1./4+1./16+1./64+1./256+1./1024+1./4096);         #Taking Significant Areas\n",
      "\n",
      "\n",
      "print \" From material balance Area is %.1f gm.min/litre\"%(Area1)\n",
      "print \" From Tracer Curve Area is %.1f gm.min/litre\"%(Area2)\n",
      "print \" Part a\"\n",
      "print \" As the two areas are equal,this is a properly done experiment \"\n",
      "#For the liquid,calculating t\n",
      "sum1 = 0;\n",
      "for i in range(10):\n",
      "    sum1 = sum1+2*i*A1/(4**(i-1));\n",
      "    t = sum1/Area1;\n",
      "\n",
      "#liquid volume in vessel\n",
      "Vl = t*v;\n",
      "#Fraction of liquid\n",
      "f = Vl/V;\n",
      "E = Cpulse/(M/v)\n",
      "\n",
      "print \" Part b\"\n",
      "print \" Fraction of liquid is %.f %%\"%(f*100)\n",
      "\n",
      "print \" Part c\"\n",
      "print \" The E curve is %.1f C\"%E\n",
      "print \" Part d\"\n",
      "print \" The vessel has  a strong recirculation of liquid,probably induced by the rising bubbles\"\n",
      "\n"
     ],
     "language": "python",
     "metadata": {},
     "outputs": [
      {
       "output_type": "stream",
       "stream": "stdout",
       "text": [
        " From material balance Area is 0.5 gm.min/litre\n",
        " From Tracer Curve Area is 0.5 gm.min/litre\n",
        " Part a\n",
        " As the two areas are equal,this is a properly done experiment \n",
        " Part b\n",
        " Fraction of liquid is 93 %\n",
        " Part c\n",
        " The E curve is 1.5 C\n",
        " Part d\n",
        " The vessel has  a strong recirculation of liquid,probably induced by the rising bubbles\n"
       ]
      }
     ],
     "prompt_number": 2
    },
    {
     "cell_type": "heading",
     "level": 2,
     "metadata": {},
     "source": [
      "Example 11.3 pageno : 272\n"
     ]
    },
    {
     "cell_type": "code",
     "collapsed": false,
     "input": [
      "\n",
      "# Variables\n",
      "Cin = zeros(14)\n",
      "E = zeros(14)\n",
      "Cout = zeros(14)\n",
      "Cin[0] = 0.\n",
      "Cin[1] = 8.\n",
      "Cin[2] = 4.\n",
      "Cin[3] = 6\n",
      "Cin[4] = 0\n",
      "E[4] = 0\n",
      "E[5] = 0.05\n",
      "E[6] = 0.5\n",
      "E[7] = 0.35\n",
      "E[8] = 0.1\n",
      "E[9] = 0.\n",
      "\n",
      "# Calculations\n",
      "for t in range(8,14):\n",
      "    sum1 = 0;\n",
      "    for p in range(5,t-1):\n",
      "        if p>10 or (t-p)>5:\n",
      "            h = 2;\n",
      "        else:\n",
      "            sum1 = sum1+Cin[t-p] * E[p];\n",
      "            Cout[t] = sum1;\n",
      "\n",
      "t = linspace(1,14,14)\n",
      "Cout = transpose(Cout)\n",
      "\n",
      "# Results\n",
      "plot(t,Cout)\n"
     ],
     "language": "python",
     "metadata": {},
     "outputs": [
      {
       "metadata": {},
       "output_type": "pyout",
       "prompt_number": 6,
       "text": [
        "[<matplotlib.lines.Line2D at 0x43ec990>]"
       ]
      },
      {
       "metadata": {},
       "output_type": "display_data",
       "png": "[encoded data removed]",
       "text": [
        "<matplotlib.figure.Figure at 0x4149950>"
       ]
      }
     ],
     "prompt_number": 6
    },
    {
     "cell_type": "heading",
     "level": 2,
     "metadata": {},
     "source": [
      "Example 11.4 pageno : 275"
     ]
    },
    {
     "cell_type": "code",
     "collapsed": false,
     "input": [
      "\n",
      "\n",
      "import math \n",
      "\n",
      "# Variables\n",
      "k = 0.307;            # min**-1\n",
      "t = 15.;          \n",
      "\n",
      "# Calculations and Results\n",
      "fr_unconverted = math.exp(-k*t);\n",
      "print \" The fraction of reactant unconverted in a plug flow reactor is %.2f\"%(fr_unconverted)\n",
      "\n",
      "#For the real reactor\n",
      "T = [5,10,15,20,25,30];                             #given time\n",
      "E = [0.03,0.05,0.05,0.04,0.02,0.01];                #given\n",
      "dt = 5;\n",
      "sum1 = 0;\n",
      "for i in range(6):\n",
      "    sum1 = sum1+math.exp(-k*T[i])*E[i]*dt;\n",
      "\n",
      "print \" The fraction of reactant unconverted in a real reactor is %.3f\"%(sum1)\n"
     ],
     "language": "python",
     "metadata": {},
     "outputs": [
      {
       "output_type": "stream",
       "stream": "stdout",
       "text": [
        " The fraction of reactant unconverted in a plug flow reactor is 0.01\n",
        " The fraction of reactant unconverted in a real reactor is 0.047\n"
       ]
      }
     ],
     "prompt_number": 5
    },
    {
     "cell_type": "heading",
     "level": 2,
     "metadata": {},
     "source": [
      "Example 11.5 pageno : 277"
     ]
    },
    {
     "cell_type": "code",
     "collapsed": false,
     "input": [
      "\n",
      "import math \n",
      "from scipy.integrate import quad \n",
      "\n",
      "# Variables\n",
      "k = 0.5                     #litre/mol.min\n",
      "CAo = 2.                    #mol/litre\n",
      "to = 1.\n",
      "t1 = 3.\n",
      "E = 0.5\n",
      "\n",
      "# Calculations\n",
      "#Using eqn 13\n",
      "def f2(t): \n",
      "\t return 1./(1+t)\n",
      "\n",
      "XA_avg = 1-(E* quad(f2,to,t1)[0])\n",
      "# Results\n",
      "print \" Average concentration of A remaining in the droplet is %.3f\"%(XA_avg)\n"
     ],
     "language": "python",
     "metadata": {},
     "outputs": [
      {
       "output_type": "stream",
       "stream": "stdout",
       "text": [
        " Average concentration of A remaining in the droplet is 0.653\n"
       ]
      }
     ],
     "prompt_number": 6
    },
    {
     "cell_type": "code",
     "collapsed": false,
     "input": [],
     "language": "python",
     "metadata": {},
     "outputs": []
    }
   ],
   "metadata": {}
  }
 ]
}