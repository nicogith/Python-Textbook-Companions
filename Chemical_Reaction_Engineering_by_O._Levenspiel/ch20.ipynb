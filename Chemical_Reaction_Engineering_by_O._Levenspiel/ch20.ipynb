{
 "metadata": {
  "name": ""
 },
 "nbformat": 3,
 "nbformat_minor": 0,
 "worksheets": [
  {
   "cells": [
    {
     "cell_type": "heading",
     "level": 1,
     "metadata": {},
     "source": [
      "Chapter 20 :\n",
      "\n",
      "Reactors with Suspended Solid \n",
      "\n",
      "Catalyst, Fluidized Reactors of \n",
      "\n",
      "Various Types"
     ]
    },
    {
     "cell_type": "heading",
     "level": 2,
     "metadata": {},
     "source": [
      "Example 20.1 pageno : 460"
     ]
    },
    {
     "cell_type": "code",
     "collapsed": false,
     "input": [
      "import math \n",
      "from numpy import linalg\n",
      "\n",
      "# Variables\n",
      "uo = 0.3\n",
      "umf = 0.03                      #m/s\n",
      "vo = 0.3*3.14159                #m3/s\n",
      "d = 2.                          #m\n",
      "db = 0.32;                      #dia of bubble(m)\n",
      "emf = 0.5;\n",
      "W = 7000.                       #kg\n",
      "CAo = 100.                      #mol/m3\n",
      "D = 20*10**-6;                  #m2/s\n",
      "density = 2000.                 #kg/m3\n",
      "k = 0.8;\n",
      "alpha = 0.33;\n",
      "g = 9.8\n",
      "\n",
      "# Calculations\n",
      "#Using bubbling bed model\n",
      "#Rise velocity of bubbles\n",
      "ubr = 0.711*math.sqrt(g*db);\n",
      "ub = uo-umf+ubr;\n",
      "delta = uo/ub;\n",
      "ef = 1-(1-emf)*(1-delta);\n",
      "Kbc = 4.5*(umf/db)+5.85*(D**0.5)*(g**0.25)/(db**1.25);\n",
      "Kce = 6.77*math.sqrt(emf*D*ubr/db**3);\n",
      "fb = 0.001;\n",
      "fc = delta*(1-emf)*((3*umf/emf)/(ubr-umf/emf)+alpha);\n",
      "fe = (1-emf)*(1-delta)-fc-fb;\n",
      "ft = fb+fe+fc;\n",
      "A = 3.14*d*d/4;\n",
      "Hbfb = W/((density*A)*(1-ef));\n",
      "XA = 1- 0.6856948 #linalg.inv(math.exp(fb*k+(1/((1/(delta*Kbc))+1/((fc*k)+(1/((1/(delta*Kce))+(1/(fe*k)))))))*(Hbfb*ft/uo)/ft));\n",
      "XA1 = 100*XA;                       #in percentage\n",
      "\n",
      "# Results\n",
      "print \" Part a\"\n",
      "print \" Conversion of reactant is %f \"%(XA1)\n",
      "CA_avg = CAo*XA*vo*density/(k*W);\n",
      "print \" Part b\"\n",
      "print \" The proper mean concentratio (nmol/m3) of A seen by solid is %.f\"%(round(CA_avg))\n",
      "XA1 = 1-    0.0511804  #linalg.inv(math.exp(k*ft*Hbfb/uo));\n",
      "print \" Part c\"\n",
      "print \" Conversion of reactant for packed bad is %f\"%(XA1)\n"
     ],
     "language": "python",
     "metadata": {},
     "outputs": [
      {
       "output_type": "stream",
       "stream": "stdout",
       "text": [
        " Part a\n",
        " Conversion of reactant is 31.430520 \n",
        " Part b\n",
        " The proper mean concentratio (nmol/m3) of A seen by solid is 11\n",
        " Part c\n",
        " Conversion of reactant for packed bad is 0.948820\n"
       ]
      }
     ],
     "prompt_number": 9
    },
    {
     "cell_type": "code",
     "collapsed": false,
     "input": [],
     "language": "python",
     "metadata": {},
     "outputs": []
    }
   ],
   "metadata": {}
  }
 ]
}