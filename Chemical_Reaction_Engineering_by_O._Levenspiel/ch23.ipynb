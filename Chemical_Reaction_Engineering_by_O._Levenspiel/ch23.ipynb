{
 "metadata": {
  "name": ""
 },
 "nbformat": 3,
 "nbformat_minor": 0,
 "worksheets": [
  {
   "cells": [
    {
     "cell_type": "heading",
     "level": 1,
     "metadata": {},
     "source": [
      "Chapter 23 :\n",
      "\n",
      "Fluid-Fluid Reactions: Kinetics"
     ]
    },
    {
     "cell_type": "heading",
     "level": 2,
     "metadata": {},
     "source": [
      "Example 23.1 pageno : 536"
     ]
    },
    {
     "cell_type": "code",
     "collapsed": false,
     "input": [
      "import math \n",
      "\n",
      "# Variables\n",
      "k = 10.**6;\n",
      "Kag_a = 0.01              #mol/hr. m**3. Pa\n",
      "fl = 0.98;\n",
      "Kal = 1.;\n",
      "HA = 10.**5;              # very low solubility\n",
      "DAl = 10.**-6;\n",
      "DBl = DAl;\n",
      "PA = 5*10.**3               #Pa\n",
      "CB = 100.                   #mol/m3\n",
      "b = 2.      \n",
      "a = 20.                     #m2/m3\n",
      "\n",
      "# Calculations\n",
      "Mh = math.sqrt(DAl*k*CB*CB)/Kal;\n",
      "Ei = 1+(DBl*CB*HA/(b*DAl*PA));\n",
      "E = 100.\n",
      "print \" Part a\"\n",
      "\n",
      "res_total = (((1/(Kag_a))+(HA/(Kal*a*E))+(HA/(k*CB*CB*fl))))            #Total Resismath.tance\n",
      "f_gas = (1/(Kag_a))/res_total;              #fraction of resismath.tance in gas film\n",
      "f_liq = (HA/(Kal*a*E))/res_total;           #fraction of resismath.tance in liquid film\n",
      "\n",
      "\n",
      "# Results\n",
      "print \" Fraction of the resistance in the gas film is %f\"%(f_gas)\n",
      "print \" Fraction of the resistance in the liquid film is %f\"%(f_liq)\n",
      "print \" Part b\"\n",
      "print \" The reaction zone is in the liquid film\"\n",
      "print \" Part c\"\n",
      "if Ei>5*Mh:\n",
      "     print \" We have pseudo 1st order reaction in the film\"\n",
      "\n",
      "rA = PA/(((1/(Kag_a))+(HA/(Kal*a*E))+(HA/(k*CB*CB*fl))));\n",
      "print \" Part d\"\n",
      "print \" The rate of reactionmol/m3.hr) is %f\"%(rA)\n"
     ],
     "language": "python",
     "metadata": {},
     "outputs": [
      {
       "output_type": "stream",
       "stream": "stdout",
       "text": [
        " Part a\n",
        " Fraction of the resistance in the gas film is 0.666667\n",
        " Fraction of the resistance in the liquid film is 0.333333\n",
        " Part b\n",
        " The reaction zone is in the liquid film\n",
        " Part c\n",
        " We have pseudo 1st order reaction in the film\n",
        " Part d\n",
        " The rate of reactionmol/m3.hr) is 33.333331\n"
       ]
      }
     ],
     "prompt_number": 1
    },
    {
     "cell_type": "code",
     "collapsed": false,
     "input": [],
     "language": "python",
     "metadata": {},
     "outputs": []
    }
   ],
   "metadata": {}
  }
 ]
}