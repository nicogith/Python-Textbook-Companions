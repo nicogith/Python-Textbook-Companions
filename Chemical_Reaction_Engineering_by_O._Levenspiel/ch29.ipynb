{
 "metadata": {
  "name": ""
 },
 "nbformat": 3,
 "nbformat_minor": 0,
 "worksheets": [
  {
   "cells": [
    {
     "cell_type": "heading",
     "level": 1,
     "metadata": {},
     "source": [
      "Chapter 29 :\n",
      "\n",
      "Substrate-Limiting\n",
      "\n",
      "Microbial Fermentation"
     ]
    },
    {
     "cell_type": "heading",
     "level": 2,
     "metadata": {},
     "source": [
      "Example 29.3 pageno : 639"
     ]
    },
    {
     "cell_type": "code",
     "collapsed": false,
     "input": [
      "import math \n",
      "\n",
      "# Variables\n",
      "CAo = 6.            # glucose solution\n",
      "CM = 0.4            #kg/m3\n",
      "V = 1.              #m3\n",
      "k = 4.\n",
      "\n",
      "# Calculations and Results\n",
      "N = math.sqrt(1+(CAo/CM));\n",
      "kt_op = N/(N-1);\n",
      "C_by_A = 0.1;\n",
      "t_op = kt_op/k;\n",
      "v_op = V/t_op;\n",
      "\n",
      "#The feed rate of glumath.cose\n",
      "FAo = v_op*CAo;\n",
      "print \" The feed rate of glumath.cose is %.1f\"%(FAo) ,\n",
      "print \"kg/hr\"\n",
      "\n",
      "#Max consumption rate of glumath.cose is\n",
      "XA = N/(N+1);\n",
      "c_max = FAo*XA;\n",
      "print \" Max consumption rate of glumath.cose is %.1f \"%(c_max),\n",
      "print \"kg/hr\"\n",
      "\n",
      "#Max production rate of E.coli is\n",
      "Cc_op = (C_by_A)*CAo*N/(N+1);\n",
      "Fcmax = v_op*Cc_op;\n",
      "print \" Max production rate of E.coli is %.2f\"%(Fcmax),\n",
      "print \"kg/hr\"\n"
     ],
     "language": "python",
     "metadata": {},
     "outputs": [
      {
       "output_type": "stream",
       "stream": "stdout",
       "text": [
        " The feed rate of glumath.cose is 18.0 kg/hr\n",
        " Max consumption rate of glumath.cose is 14.4  kg/hr\n",
        " Max production rate of E.coli is 1.44 kg/hr\n"
       ]
      }
     ],
     "prompt_number": 5
    },
    {
     "cell_type": "code",
     "collapsed": false,
     "input": [],
     "language": "python",
     "metadata": {},
     "outputs": []
    }
   ],
   "metadata": {}
  }
 ]
}