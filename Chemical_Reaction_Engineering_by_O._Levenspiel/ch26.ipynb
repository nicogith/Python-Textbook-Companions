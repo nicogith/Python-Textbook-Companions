{
 "metadata": {
  "name": ""
 },
 "nbformat": 3,
 "nbformat_minor": 0,
 "worksheets": [
  {
   "cells": [
    {
     "cell_type": "heading",
     "level": 1,
     "metadata": {},
     "source": [
      "Chapter 26  :\n",
      "\n",
      "Fluid-Particle Reactors: Design"
     ]
    },
    {
     "cell_type": "heading",
     "level": 2,
     "metadata": {},
     "source": [
      "Example 26.1 pageno : 592"
     ]
    },
    {
     "cell_type": "code",
     "collapsed": false,
     "input": [
      "#Lets say F(Ri)/F = F_ri\n",
      "\n",
      "# Variables\n",
      "F_50 = 0.3\n",
      "F_100 = 0.4\n",
      "F_200 = 0.3;\n",
      "t_50 = 5.\n",
      "t_100 = 10.\n",
      "t_200 = 20.\n",
      "tp = 8.\n",
      "\n",
      "# Calculations\n",
      "a = ((1-(tp/t_50))**3)*F_50\n",
      "b = ((1-(tp/t_100))**3)*F_100\n",
      "c = ((1-(tp/t_200))**3)*F_200;\n",
      "g = [a,b,c];\n",
      "sum1 = 0;\n",
      "for p in range(3):\n",
      "   if g[p]>0:\n",
      "       sum1 = sum1+g[p];\n",
      "f_converted = 1-sum1;\n",
      "\n",
      "# Results\n",
      "print \" The fraction of solid converted equals %.1f %%\"%(f_converted*100)\n"
     ],
     "language": "python",
     "metadata": {},
     "outputs": [
      {
       "output_type": "stream",
       "stream": "stdout",
       "text": [
        " The fraction of solid converted equals 93.2 %\n"
       ]
      }
     ],
     "prompt_number": 1
    },
    {
     "cell_type": "heading",
     "level": 2,
     "metadata": {},
     "source": [
      "Example 26.2 pageno : 597"
     ]
    },
    {
     "cell_type": "code",
     "collapsed": false,
     "input": [
      "\n",
      "# Variables\n",
      "t_avg = 60.         # min\n",
      "t = 20.             #min\n",
      "\n",
      "# Calculations\n",
      "unconverted = ((1./4)*(t/t_avg))-((1./20)*(t/t_avg)**2)+((1./120)*(t/t_avg)**3);\n",
      "unconverted1 = ((1./5)*(t/t_avg))-((19./420)*(t/t_avg)**2)+((41./4620)*(t/t_avg)**3);\n",
      "c_avg = (unconverted+unconverted1)/2;\n",
      "\n",
      "# Results\n",
      "print \"Fraction of original sulfide ore remain unconverted is %.2f\"%(c_avg)\n"
     ],
     "language": "python",
     "metadata": {},
     "outputs": [
      {
       "output_type": "stream",
       "stream": "stdout",
       "text": [
        "Fraction of original sulfide ore remain unconverted is 0.07\n"
       ]
      }
     ],
     "prompt_number": 3
    },
    {
     "cell_type": "heading",
     "level": 2,
     "metadata": {},
     "source": [
      "Example 26.3 page no : 600"
     ]
    },
    {
     "cell_type": "code",
     "collapsed": false,
     "input": [
      "\n",
      "# Variables\n",
      "F = 1000.               #gm/min\n",
      "W = 10000.              #gm\n",
      "\n",
      "# Calculations\n",
      "t_avg = W/F;\n",
      "F_50 = 300.\n",
      "F_100 = 400.\n",
      "F_200 = 300.             #gm/min\n",
      "t_50 = 5.\n",
      "t_100 = 10.\n",
      "t_200 = 20.             #min\n",
      "\n",
      "unconverted = ((((1./4)*(t_50/t_avg))-((1./20)*(t_50/t_avg)**2)+ ((1./120)*(t_50/t_avg)**3))*(F_50/F))+((((1./4)*(t_100/t_avg))-((1./20)*(t_100/t_avg)**2)+((1./120)*(t_50/t_avg)**3))*(F_100/F))+((((1./4)*(t_200/t_avg))-((1./20)*(t_200/t_avg)**2)+((1./120)   *(t_50/t_avg)**3))*(F_200/F))\n",
      "converted = 1-unconverted;\n",
      "\n",
      "# Results\n",
      "print \"The mean conversion of soild is %f\"%(converted)\n",
      "print \" The answer slightly differs from those given in book as we have considered \\\n",
      "only significant terms in infinite series\"\n"
     ],
     "language": "python",
     "metadata": {},
     "outputs": [
      {
       "output_type": "stream",
       "stream": "stdout",
       "text": [
        "The mean conversion of soild is 0.795208\n",
        " The answer slightly differs from those given in book as we have considered only significant terms in infinite series\n"
       ]
      }
     ],
     "prompt_number": 5
    },
    {
     "cell_type": "heading",
     "level": 2,
     "metadata": {},
     "source": [
      "Example 26.4 pageno : 601"
     ]
    },
    {
     "cell_type": "code",
     "collapsed": false,
     "input": [
      "\n",
      "# Variables\n",
      "t1 = 1.             #hr\n",
      "t2 = t1/0.1         \n",
      "a = 0.\n",
      "r = 1               #ton/hr\n",
      "# Calculations\n",
      "while a<=1:\n",
      "    x = (1./4)*(a)-((1./20)*(a)**2)+((1./120)*(a)**3);\n",
      "    if x >0.099 and x<0.1005:\n",
      "        r = a;\n",
      "    a += .0001\n",
      "\n",
      "FBo = 1.            #tons/hr\n",
      "t_avg = t2/r;\n",
      "W = t_avg*FBo;\n",
      "\n",
      "# Results\n",
      "print \" The needed weight of bed is %.f\"%(W),\n",
      "print \"tons\"\n"
     ],
     "language": "python",
     "metadata": {},
     "outputs": [
      {
       "output_type": "stream",
       "stream": "stdout",
       "text": [
        " The needed weight of bed is 23 tons\n"
       ]
      }
     ],
     "prompt_number": 7
    },
    {
     "cell_type": "code",
     "collapsed": false,
     "input": [],
     "language": "python",
     "metadata": {},
     "outputs": []
    }
   ],
   "metadata": {}
  }
 ]
}