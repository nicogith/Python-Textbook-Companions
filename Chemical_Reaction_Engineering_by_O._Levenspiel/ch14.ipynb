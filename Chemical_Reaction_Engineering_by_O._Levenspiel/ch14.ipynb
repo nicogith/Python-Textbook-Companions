{
 "metadata": {
  "name": ""
 },
 "nbformat": 3,
 "nbformat_minor": 0,
 "worksheets": [
  {
   "cells": [
    {
     "cell_type": "heading",
     "level": 1,
     "metadata": {},
     "source": [
      "Chapter 14 The Tanks-in-Series Model"
     ]
    },
    {
     "cell_type": "heading",
     "level": 2,
     "metadata": {},
     "source": [
      "Example 14.1 pageno : 329"
     ]
    },
    {
     "cell_type": "code",
     "collapsed": false,
     "input": [
      "\n",
      "#Original and new length(m)\n",
      "import math \n",
      "\n",
      "# Variables\n",
      "L1 = 32.            # diameter pipe\n",
      "L2 = 50.            # pipeline length \n",
      "sigma1 = 8.         # bottles \n",
      "\n",
      "# Calculations\n",
      "# For small deviaqtion from plug flow,sigma_sqr is directly proportional to L\n",
      "sigma2 = sigma1*math.sqrt(L2/L1);\n",
      "\n",
      "# Results\n",
      "print \" No of bottles of rose expected is %.f\"%(sigma2)\n"
     ],
     "language": "python",
     "metadata": {},
     "outputs": [
      {
       "output_type": "stream",
       "stream": "stdout",
       "text": [
        " No of bottles of rose expected is 10\n"
       ]
      }
     ],
     "prompt_number": 1
    },
    {
     "cell_type": "heading",
     "level": 2,
     "metadata": {},
     "source": [
      "Example 14.2 pageno : 330"
     ]
    },
    {
     "cell_type": "code",
     "collapsed": false,
     "input": [
      "\n",
      "# Variables\n",
      "sigma1 = 14.        # hours\n",
      "sigma2 = 10.5;      # hours\n",
      "L1 = 119.           # ohio miles apart\n",
      "\n",
      "# Calculations\n",
      "#spread of curve is directly proportional to sqrt of distance from origin\n",
      "L = sigma1**2*L1/(sigma1**2-sigma2**2);\n",
      "\n",
      "# Results\n",
      "print \" The dumping of toxic phenol must have occured within %.f miles upstream of cincinnati\"%(L)\n",
      "\n"
     ],
     "language": "python",
     "metadata": {},
     "outputs": [
      {
       "output_type": "stream",
       "stream": "stdout",
       "text": [
        " The dumping of toxic phenol must have occured within 272 miles upstream of cincinnati\n"
       ]
      }
     ],
     "prompt_number": 3
    },
    {
     "cell_type": "heading",
     "level": 2,
     "metadata": {},
     "source": [
      "Example 14.3 pageno : 332"
     ]
    },
    {
     "cell_type": "code",
     "collapsed": false,
     "input": [
      "\n",
      "# Variables\n",
      "# from figure\n",
      "vo = 1.;          \n",
      "t1 = 1./6;\n",
      "t2 = 1.;\n",
      "t3 = 11./6;\n",
      "w = 1./10;\n",
      "\n",
      "# Calculations\n",
      "A2_by_A1 = 0.5;\n",
      "R = A2_by_A1/(1-A2_by_A1);\n",
      "#From the location of 1st peak\n",
      "V1 = (R+1)*vo*t1;\n",
      "#From the time between peaks\n",
      "V2 = (R*vo)*((t2-t1)-(t1));\n",
      "#From fig 14.3\n",
      "N = 1+(2*(t1/w))**2;\n",
      "\n",
      "# Results\n",
      "print \" The reflux ratio is %.f\"%(R)\n",
      "print \" The volume of 1st tank is %.3f\"%( V1)\n",
      "print \" The volume of 2nd tank is %.3f\"%(V2)\n",
      "print \" The number of tanks are %.f \"%(N)\n"
     ],
     "language": "python",
     "metadata": {},
     "outputs": [
      {
       "output_type": "stream",
       "stream": "stdout",
       "text": [
        " The reflux ratio is 1\n",
        " The volume of 1st tank is 0.333\n",
        " The volume of 2nd tank is 0.667\n",
        " The number of tanks are 12 \n"
       ]
      }
     ],
     "prompt_number": 4
    },
    {
     "cell_type": "heading",
     "level": 2,
     "metadata": {},
     "source": [
      "Example 14.4 page no  :333"
     ]
    },
    {
     "cell_type": "code",
     "collapsed": false,
     "input": [
      "\n",
      "\n",
      "%matplotlib inline\n",
      "\n",
      "from matplotlib.pyplot import *\n",
      "import math \n",
      "from numpy import *\n",
      "\n",
      "# Variables\n",
      "# from figure E14.4a\n",
      "t2 = 280.\n",
      "t1 = 220.\n",
      "sigma1_sqr = 100.\n",
      "sigma2_sqr = 1000.\n",
      "\n",
      "# Calculations\n",
      "dt = t2-t1;\n",
      "dsigma_sqr = sigma2_sqr-sigma1_sqr;\n",
      "N = dt**2/dsigma_sqr;\n",
      "\n",
      "E = zeros(200)\n",
      "\n",
      "for t in range(200):\n",
      "    E[t] = ((t**(N-1))*(N**N)*math.exp(-t*N/dt))/((math.factorial(N-1))*(dt**N));\n",
      "\n",
      "t = zeros(200)    \n",
      "for i in range(200):\n",
      "    t[i] = i;\n",
      "\n",
      "# Results\n",
      "plot(t,E)\n",
      "xlabel(\"t, s\")\n",
      "ylabel(\"E, s**-1\")\n",
      "show()\n"
     ],
     "language": "python",
     "metadata": {},
     "outputs": [
      {
       "output_type": "stream",
       "stream": "stdout",
       "text": [
        "Populating the interactive namespace from numpy and matplotlib\n"
       ]
      },
      {
       "metadata": {},
       "output_type": "display_data",
       "png": "[encoded data removed]",
       "text": [
        "<matplotlib.figure.Figure at 0x2625a50>"
       ]
      }
     ],
     "prompt_number": 5
    },
    {
     "cell_type": "code",
     "collapsed": false,
     "input": [],
     "language": "python",
     "metadata": {},
     "outputs": [],
     "prompt_number": 7
    }
   ],
   "metadata": {}
  }
 ]
}