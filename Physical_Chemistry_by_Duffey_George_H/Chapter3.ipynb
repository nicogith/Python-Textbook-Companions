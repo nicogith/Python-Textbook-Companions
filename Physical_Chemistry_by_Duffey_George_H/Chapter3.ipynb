{
 "metadata": {
  "name": "",
  "signature": "sha256:491d30e4e083aec11bc84fdc5735ea79764fcb01fd2223f482cd31ce71e9fd49"
 },
 "nbformat": 3,
 "nbformat_minor": 0,
 "worksheets": [
  {
   "cells": [
    {
     "cell_type": "heading",
     "level": 1,
     "metadata": {},
     "source": [
      "Chapter 3 - Waves and Quanta"
     ]
    },
    {
     "cell_type": "heading",
     "level": 2,
     "metadata": {},
     "source": [
      "Example 9 - pg 83"
     ]
    },
    {
     "cell_type": "code",
     "collapsed": false,
     "input": [
      "#calculate the Vibrational degrees of freedom\n",
      "#initialization of variables\n",
      "atoms=5\n",
      "#calculations\n",
      "f=3*atoms\n",
      "fvib=f-3-3\n",
      "#results\n",
      "print '%s %d' %(\"Vibrational degrees of freedom = \",fvib)\n"
     ],
     "language": "python",
     "metadata": {},
     "outputs": [
      {
       "output_type": "stream",
       "stream": "stdout",
       "text": [
        "Vibrational degrees of freedom =  9\n"
       ]
      }
     ],
     "prompt_number": 1
    }
   ],
   "metadata": {}
  }
 ]
}