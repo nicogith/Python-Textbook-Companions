{
 "metadata": {
  "name": "",
  "signature": "sha256:732bbb076f615c901ca952cd233aa9a732520f864fa8a5b9d8200618c4707cce"
 },
 "nbformat": 3,
 "nbformat_minor": 0,
 "worksheets": [
  {
   "cells": [
    {
     "cell_type": "heading",
     "level": 1,
     "metadata": {},
     "source": [
      "Chapter 16 - Typical mechanisms and rate laws"
     ]
    },
    {
     "cell_type": "heading",
     "level": 2,
     "metadata": {},
     "source": [
      "Example 1 - pg 422"
     ]
    },
    {
     "cell_type": "code",
     "collapsed": false,
     "input": [
      "#calculate the Rate constant\n",
      "#Initialization of variables\n",
      "import math\n",
      "P1=69.2 #mm\n",
      "P2=39.8#mm\n",
      "t=20 #min\n",
      "#calculations\n",
      "k=2.303*math.log10(P1/P2) /(t*60.)\n",
      "#results\n",
      "print '%s %.2e %s' %(\"Rate constant =\",k,\"sec^-1\")\n"
     ],
     "language": "python",
     "metadata": {},
     "outputs": [
      {
       "output_type": "stream",
       "stream": "stdout",
       "text": [
        "Rate constant = 4.61e-04 sec^-1\n"
       ]
      }
     ],
     "prompt_number": 1
    },
    {
     "cell_type": "heading",
     "level": 2,
     "metadata": {},
     "source": [
      "Example 2 - pg 422"
     ]
    },
    {
     "cell_type": "code",
     "collapsed": false,
     "input": [
      "#calculate the Rate constant\n",
      "#Initialization of variables\n",
      "import math\n",
      "t=10. #min\n",
      "x=90.\n",
      "#calculations\n",
      "k=2.303*math.log10(100/(100-x)) /t\n",
      "#results\n",
      "print '%s %.3f %s' %(\"Rate constant =\",k,\"min^-1\")\n"
     ],
     "language": "python",
     "metadata": {},
     "outputs": [
      {
       "output_type": "stream",
       "stream": "stdout",
       "text": [
        "Rate constant = 0.230 min^-1\n"
       ]
      }
     ],
     "prompt_number": 2
    },
    {
     "cell_type": "heading",
     "level": 2,
     "metadata": {},
     "source": [
      "Example 3 - pg 427"
     ]
    },
    {
     "cell_type": "code",
     "collapsed": false,
     "input": [
      "#calculate the rate constant\n",
      "#Initialization of variables\n",
      "t=242. #sec\n",
      "P=229. #mm\n",
      "P0=363. #mm\n",
      "#calculations\n",
      "k=(1./P -1./P0)/t\n",
      "#results\n",
      "print '%s %.2e %s' %(\"rate constant=\",k,\"sec^-1 mm^-1\")\n"
     ],
     "language": "python",
     "metadata": {},
     "outputs": [
      {
       "output_type": "stream",
       "stream": "stdout",
       "text": [
        "rate constant= 6.66e-06 sec^-1 mm^-1\n"
       ]
      }
     ],
     "prompt_number": 3
    }
   ],
   "metadata": {}
  }
 ]
}