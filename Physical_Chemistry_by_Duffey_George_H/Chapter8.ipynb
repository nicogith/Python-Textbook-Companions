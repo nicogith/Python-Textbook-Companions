{
 "metadata": {
  "name": "",
  "signature": "sha256:56268e206bf92e9d6c6eb22d6025708a41b67ffcb1bed3001f2340e19e39294f"
 },
 "nbformat": 3,
 "nbformat_minor": 0,
 "worksheets": [
  {
   "cells": [
    {
     "cell_type": "heading",
     "level": 1,
     "metadata": {},
     "source": [
      "Chapter 8 - First law of thermodynamics"
     ]
    },
    {
     "cell_type": "heading",
     "level": 2,
     "metadata": {},
     "source": [
      "Example 1 - pg 211"
     ]
    },
    {
     "cell_type": "code",
     "collapsed": false,
     "input": [
      "#calculate the Joules required\n",
      "#Initialization of variables\n",
      "P=1.0132*10**6 #dynes/cm**2\n",
      "A=100 #cm**2\n",
      "z=10 #cm\n",
      "#calculations\n",
      "w=P*A*z*10**-7\n",
      "#results\n",
      "print '%s %.4e %s' %(\"Joules =\",w,\"J\")\n"
     ],
     "language": "python",
     "metadata": {},
     "outputs": [
      {
       "output_type": "stream",
       "stream": "stdout",
       "text": [
        "Joules = 1.0132e+02 J\n"
       ]
      }
     ],
     "prompt_number": 1
    },
    {
     "cell_type": "heading",
     "level": 2,
     "metadata": {},
     "source": [
      "Example 2 - pg 211"
     ]
    },
    {
     "cell_type": "code",
     "collapsed": false,
     "input": [
      "#calculate the Calories required\n",
      "#Initialization of variables\n",
      "P=1.0132*10**6 #dynes/cm**2\n",
      "A=100 #cm**2\n",
      "z=10 #cm\n",
      "#calculations\n",
      "w=P*A*z*10**-7\n",
      "cal=w/4.184\n",
      "#results\n",
      "print '%s %.3f %s' %(\"Calories =\",cal,\"cal\")\n"
     ],
     "language": "python",
     "metadata": {},
     "outputs": [
      {
       "output_type": "stream",
       "stream": "stdout",
       "text": [
        "Calories = 24.216 cal\n"
       ]
      }
     ],
     "prompt_number": 4
    },
    {
     "cell_type": "heading",
     "level": 2,
     "metadata": {},
     "source": [
      "Example 3 - pg 217"
     ]
    },
    {
     "cell_type": "code",
     "collapsed": false,
     "input": [
      "#calculate the Heat of vaporization and the Change in energy\n",
      "#Initialization of variables\n",
      "T=373.2 #K\n",
      "n=1. #mol\n",
      "qp=9720. #cal/mol\n",
      "#calculations\n",
      "q=n*qp\n",
      "w=1.987*T\n",
      "dE=q-w\n",
      "#results\n",
      "print '%s %d %s' %(\"Heat of vaporization =\",q,\"cal\")\n",
      "print '%s %d %s' %(\"\\n Change in energy =\",dE,\"cal\")\n"
     ],
     "language": "python",
     "metadata": {},
     "outputs": [
      {
       "output_type": "stream",
       "stream": "stdout",
       "text": [
        "Heat of vaporization = 9720 cal\n",
        "\n",
        " Change in energy = 8978 cal\n"
       ]
      }
     ],
     "prompt_number": 3
    },
    {
     "cell_type": "heading",
     "level": 2,
     "metadata": {},
     "source": [
      "Example 4 - pg 222"
     ]
    },
    {
     "cell_type": "code",
     "collapsed": false,
     "input": [
      "#calculate the work done, Heat transferred and change in energy\n",
      "#Initialization of variables\n",
      "T1=25+273. #K\n",
      "T2=25+273. #K\n",
      "#calculations\n",
      "print \"Since, T2=T1, dE=0\"\n",
      "dE=0\n",
      "w=0\n",
      "q=dE+w\n",
      "#results\n",
      "print '%s %d %s' %(\"\\n Work done = \",w,\"J\")\n",
      "print '%s %d %s' %(\"\\n Heat transferred =\",q,\"J\")\n",
      "print '%s %d %s' %(\"\\n Change in energy = \",dE,\"J\")\n"
     ],
     "language": "python",
     "metadata": {},
     "outputs": [
      {
       "output_type": "stream",
       "stream": "stdout",
       "text": [
        "Since, T2=T1, dE=0\n",
        "\n",
        " Work done =  0 J\n",
        "\n",
        " Heat transferred = 0 J\n",
        "\n",
        " Change in energy =  0 J\n"
       ]
      }
     ],
     "prompt_number": 5
    },
    {
     "cell_type": "heading",
     "level": 2,
     "metadata": {},
     "source": [
      "Example 5 - pg 224"
     ]
    },
    {
     "cell_type": "code",
     "collapsed": false,
     "input": [
      "#calculate the Vibrational energy\n",
      "#Initialization of variables\n",
      "R=1.987 #cal/deg mol\n",
      "#calculations\n",
      "Cvtr=1.5*R\n",
      "Cvrot=1.5*R\n",
      "Cvt=Cvtr+Cvrot\n",
      "print \"Observed Cv= 6.43\"\n",
      "Cvobs=6.43\n",
      "Cvvib=Cvobs-Cvt\n",
      "#results\n",
      "print '%s %.2f %s' %(\"Vibrational =\",Cvvib,\"cal/deg mol\")\n"
     ],
     "language": "python",
     "metadata": {},
     "outputs": [
      {
       "output_type": "stream",
       "stream": "stdout",
       "text": [
        "Observed Cv= 6.43\n",
        "Vibrational = 0.47 cal/deg mol\n"
       ]
      }
     ],
     "prompt_number": 6
    }
   ],
   "metadata": {}
  }
 ]
}