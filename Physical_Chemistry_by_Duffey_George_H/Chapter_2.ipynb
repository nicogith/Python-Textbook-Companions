{
 "metadata": {
  "name": "",
  "signature": "sha256:e0f60b1374b6cd8ea6c7a7a98303a8b74644396bbd6f803eaeda82697f2fd3e7"
 },
 "nbformat": 3,
 "nbformat_minor": 0,
 "worksheets": [
  {
   "cells": [
    {
     "cell_type": "heading",
     "level": 1,
     "metadata": {},
     "source": [
      "Chapter 2 - Structures of Condensed Phases"
     ]
    },
    {
     "cell_type": "heading",
     "level": 2,
     "metadata": {},
     "source": [
      "Example 1 - pg 74"
     ]
    },
    {
     "cell_type": "code",
     "collapsed": false,
     "input": [
      "#calculate the size of cubic unit cell\n",
      "#initialisation of variables\n",
      "import math\n",
      "l= 1.5418 #A\n",
      "a= 19.076 #degrees\n",
      "d2= 1.444 #A\n",
      "#CALCULATIONS\n",
      "d= l/(2*math.sin(a*math.pi/180.))\n",
      "a= math.sqrt(8*d2*d2)\n",
      "#RESULTS\n",
      "print '%s %.4f %s' % (' size of cubic unit cell =',a,'A')\n"
     ],
     "language": "python",
     "metadata": {},
     "outputs": [
      {
       "output_type": "stream",
       "stream": "stdout",
       "text": [
        " size of cubic unit cell = 4.0842 A\n"
       ]
      }
     ],
     "prompt_number": 1
    },
    {
     "cell_type": "heading",
     "level": 2,
     "metadata": {},
     "source": [
      "Example 2 - pg 75"
     ]
    },
    {
     "cell_type": "code",
     "collapsed": false,
     "input": [
      "#calculate the Density of silver\n",
      "#initialisation of variables\n",
      "M= 107.88 #gm\n",
      "z= 4\n",
      "v= 4.086 #A\n",
      "N= 6.023*10**23\n",
      "#CALCULATIONS\n",
      "d= z*M/(v**3*10**-24*N)\n",
      "#RESULTS\n",
      "print '%s %.4f %s' % (' Density of silver =',d,'gm cm^-3')\n"
     ],
     "language": "python",
     "metadata": {},
     "outputs": [
      {
       "output_type": "stream",
       "stream": "stdout",
       "text": [
        " Density of silver = 10.5025 gm cm^-3\n"
       ]
      }
     ],
     "prompt_number": 2
    },
    {
     "cell_type": "heading",
     "level": 2,
     "metadata": {},
     "source": [
      "Example 3 - pg 75"
     ]
    },
    {
     "cell_type": "code",
     "collapsed": false,
     "input": [
      "#calculate the molecular weight\n",
      "#initialisation of variables\n",
      "d= 1.287 #g cm**-3\n",
      "a= 123 #A\n",
      "z= 4\n",
      "#CALCULATIONS\n",
      "M= d*6.023*10**23*a**3*10**-24/z\n",
      "#RESULTS\n",
      "print '%s %.1e %s' % (' molecular weight =',M,'gm ')\n"
     ],
     "language": "python",
     "metadata": {},
     "outputs": [
      {
       "output_type": "stream",
       "stream": "stdout",
       "text": [
        " molecular weight = 3.6e+05 gm \n"
       ]
      }
     ],
     "prompt_number": 3
    },
    {
     "cell_type": "heading",
     "level": 2,
     "metadata": {},
     "source": [
      "Example 4 - pg 78"
     ]
    },
    {
     "cell_type": "code",
     "collapsed": false,
     "input": [
      "#calculate the radius of silver atom\n",
      "import math\n",
      "#initialisation of variables\n",
      "a= 4.086 #A\n",
      "#CALCULATIONS\n",
      "d= a*math.sqrt(2)\n",
      "r= d/4.\n",
      "#RESULTS\n",
      "print '%s %.3f %s' % (' radius of silver atom=',r,' A ')\n"
     ],
     "language": "python",
     "metadata": {},
     "outputs": [
      {
       "output_type": "stream",
       "stream": "stdout",
       "text": [
        " radius of silver atom= 1.445  A \n"
       ]
      }
     ],
     "prompt_number": 4
    },
    {
     "cell_type": "heading",
     "level": 2,
     "metadata": {},
     "source": [
      "Example 5 - pg 99"
     ]
    },
    {
     "cell_type": "code",
     "collapsed": false,
     "input": [
      "#calculate the surface tension\n",
      "import math\n",
      "#initialisation of variables\n",
      "M= 38.3 #mg cm^-1\n",
      "d= 13.55 #g cm^-3\n",
      "p= 0.9982 #g cm^-3\n",
      "g= 980.7 #cm/sec^2\n",
      "l= 4.96  #cm\n",
      "#CALCULATIONS\n",
      "r= math.sqrt(M*10**-3/(d*math.pi))\n",
      "R= r*p*g*l/2\n",
      "#RESULTS\n",
      "print '%s %.1f %s' % (' surface tension =',R,' ergs cm^-2 ')\n"
     ],
     "language": "python",
     "metadata": {},
     "outputs": [
      {
       "output_type": "stream",
       "stream": "stdout",
       "text": [
        " surface tension = 72.8  ergs cm^-2 \n"
       ]
      }
     ],
     "prompt_number": 5
    },
    {
     "cell_type": "heading",
     "level": 2,
     "metadata": {},
     "source": [
      "Example 6 - pg 103"
     ]
    },
    {
     "cell_type": "code",
     "collapsed": false,
     "input": [
      "#calculate the dipole moment of water\n",
      "#initialisation of variables\n",
      "import math\n",
      "r= 1.333\n",
      "d= 0.9982 #g cm**-3\n",
      "m= 18.02 #gm\n",
      "Pm= 74.22 #cc\n",
      "k= 8.314*10**7 \n",
      "N= 6.023*10**23\n",
      "T= 293 #k\n",
      "#CALCULATIONS\n",
      "Rm= ((r**2-1)/(r**2+2))*m/d\n",
      "u= math.sqrt(9*k*T*(Pm-Rm)/(4*math.pi*N**2))\n",
      "#RESULTS\n",
      "print '%s %.2e %s' % (' dipole moment of water =',u,'e.s.u ')\n"
     ],
     "language": "python",
     "metadata": {},
     "outputs": [
      {
       "output_type": "stream",
       "stream": "stdout",
       "text": [
        " dipole moment of water = 1.84e-18 e.s.u \n"
       ]
      }
     ],
     "prompt_number": 6
    },
    {
     "cell_type": "heading",
     "level": 2,
     "metadata": {},
     "source": [
      "Example 7 - pg 103"
     ]
    },
    {
     "cell_type": "code",
     "collapsed": false,
     "input": [
      "#calculate the radius of argon atom\n",
      "#initialisation of variables\n",
      "a= 1.66*10**-24 #cm**3\n",
      "#CALCULATIONS\n",
      "r= a**(1/3.)/10**-8\n",
      "#RESULTS\n",
      "print '%s %.2f %s' % (' radius =',r,'A ')\n"
     ],
     "language": "python",
     "metadata": {},
     "outputs": [
      {
       "output_type": "stream",
       "stream": "stdout",
       "text": [
        " radius = 1.18 A \n"
       ]
      }
     ],
     "prompt_number": 7
    },
    {
     "cell_type": "heading",
     "level": 2,
     "metadata": {},
     "source": [
      "Example 8 - pg 104"
     ]
    },
    {
     "cell_type": "code",
     "collapsed": false,
     "input": [
      "#calculate the index of refraction\n",
      "import math\n",
      "#initialisation of variables\n",
      "N= 6.023*10**23 #molecules\n",
      "a= 10**-24\n",
      "k= 0.89\n",
      "cl= 3.60\n",
      "M= 74.56 #gms\n",
      "d= 1.989 #g/cm^3\n",
      "#CACLULATIONS\n",
      "Rm= 4*math.pi*N*(k+cl)*a/3\n",
      "r= Rm*d/M\n",
      "n= math.sqrt((2*r+1)/(1-r))\n",
      "#RESULTS\n",
      "print '%s %.3f' % (' index of refraction= ',n)\n"
     ],
     "language": "python",
     "metadata": {},
     "outputs": [
      {
       "output_type": "stream",
       "stream": "stdout",
       "text": [
        " index of refraction=  1.516\n"
       ]
      }
     ],
     "prompt_number": 8
    },
    {
     "cell_type": "heading",
     "level": 2,
     "metadata": {},
     "source": [
      "Example 9 - pg 104"
     ]
    },
    {
     "cell_type": "code",
     "collapsed": false,
     "input": [
      "#calculate the radius of K and Cl atoms\n",
      "#initialisation of variables\n",
      "v= 3.6 #cc\n",
      "v1= 0.89 #cc\n",
      "s= 3.146 #A\n",
      "#CALCULATIONS\n",
      "r= (v/v1)**(1/3.)\n",
      "r1 = s/(1+r)\n",
      "r2 = s-r1\n",
      "#RESULTS\n",
      "print '%s %.3f %s' % (' radius of k+=',r1,'A ')\n",
      "print '%s %.3f %s' % (' \\n radius of cl-=',r2,'A ')\n"
     ],
     "language": "python",
     "metadata": {},
     "outputs": [
      {
       "output_type": "stream",
       "stream": "stdout",
       "text": [
        " radius of k+= 1.213 A \n",
        " \n",
        " radius of cl-= 1.933 A \n"
       ]
      }
     ],
     "prompt_number": 9
    },
    {
     "cell_type": "markdown",
     "metadata": {},
     "source": [
      "Example 10 - pg 107"
     ]
    },
    {
     "cell_type": "code",
     "collapsed": false,
     "input": [
      "#calculate the angle of rotation\n",
      "#initialisation of variables\n",
      "g= 10 #gm\n",
      "d= 1.038 #gm/mol\n",
      "M= 100 #gm\n",
      "x= 66.412\n",
      "y= 0.127\n",
      "z= 0.038\n",
      "l= 20 #cm\n",
      "#CALCULATIONS\n",
      "p= g/(M/d)\n",
      "X= x+y-z\n",
      "ar= X*l*p/10.\n",
      "#RESULTS\n",
      "print '%s %.2f %s' % (' angle of rotation=',ar,'degrees ')\n"
     ],
     "language": "python",
     "metadata": {},
     "outputs": [
      {
       "output_type": "stream",
       "stream": "stdout",
       "text": [
        " angle of rotation= 13.81 degrees \n"
       ]
      }
     ],
     "prompt_number": 10
    },
    {
     "cell_type": "heading",
     "level": 2,
     "metadata": {},
     "source": [
      "Example 11 - pg 108"
     ]
    },
    {
     "cell_type": "code",
     "collapsed": false,
     "input": [
      "#calculate the viscosity of toluene\n",
      "#initialisation of variables\n",
      "t= 68.9 #sec\n",
      "t1= 102.2 #sec\n",
      "p1= 0.866 #g/cm^3\n",
      "p2= 0.998 #gm/cm^3\n",
      "n= 0.01009 #dynesc/cm^2\n",
      "#CALCULATIONS\n",
      "N= n*t*p1/(t1*p2)\n",
      "#RESULTS\n",
      "print '%s %.5f %s' % (' viscosity of toluene=',N,'dyne sec/cm^2 ')\n"
     ],
     "language": "python",
     "metadata": {},
     "outputs": [
      {
       "output_type": "stream",
       "stream": "stdout",
       "text": [
        " viscosity of toluene= 0.00590 dyne sec/cm^2 \n"
       ]
      }
     ],
     "prompt_number": 11
    }
   ],
   "metadata": {}
  }
 ]
}