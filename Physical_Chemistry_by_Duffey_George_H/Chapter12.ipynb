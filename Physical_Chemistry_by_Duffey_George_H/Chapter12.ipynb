{
 "metadata": {
  "name": "",
  "signature": "sha256:65a756a76ade1ec4b9387e0db33894444f541be4a142adaa7f77f2e89d036580"
 },
 "nbformat": 3,
 "nbformat_minor": 0,
 "worksheets": [
  {
   "cells": [
    {
     "cell_type": "heading",
     "level": 1,
     "metadata": {},
     "source": [
      "Chapter 12 - Physical Equilibria"
     ]
    },
    {
     "cell_type": "heading",
     "level": 2,
     "metadata": {},
     "source": [
      "Example 1 - pg 295"
     ]
    },
    {
     "cell_type": "code",
     "collapsed": false,
     "input": [
      "#calculate the no of degrees of freedom\n",
      "#Initialization of variables\n",
      "p=3\n",
      "c=2\n",
      "#calculations\n",
      "f=2-p+c\n",
      "#results\n",
      "print '%s %d' %(\"no. of degrees of freedom =\",f)\n"
     ],
     "language": "python",
     "metadata": {},
     "outputs": [
      {
       "output_type": "stream",
       "stream": "stdout",
       "text": [
        "no. of degrees of freedom = 1\n"
       ]
      }
     ],
     "prompt_number": 1
    },
    {
     "cell_type": "heading",
     "level": 2,
     "metadata": {},
     "source": [
      "Example 2 - pg 301"
     ]
    },
    {
     "cell_type": "code",
     "collapsed": false,
     "input": [
      "#calculate the change in temperature\n",
      "#Initialization of variables\n",
      "T=273.2 #K\n",
      "vw=1.0001 #cm^3 /g\n",
      "vi=1.0907 #cm^3 /g\n",
      "hf=79.7 #cal/g\n",
      "P1=76 #cm\n",
      "P2=4.6 #cm\n",
      "#calculations\n",
      "dT=T*(vw-vi)*(P2-P1)*13.6*980.7/(hf*4.184*10**7)\n",
      "#results\n",
      "print '%s %.4f %s' %(\"change in temperature =\",dT,\"deg\")\n",
      "\n"
     ],
     "language": "python",
     "metadata": {},
     "outputs": [
      {
       "output_type": "stream",
       "stream": "stdout",
       "text": [
        "change in temperature = 0.0071 deg\n"
       ]
      }
     ],
     "prompt_number": 2
    },
    {
     "cell_type": "heading",
     "level": 2,
     "metadata": {},
     "source": [
      "Example 3 - pg 302"
     ]
    },
    {
     "cell_type": "code",
     "collapsed": false,
     "input": [
      "#calculate the value of dPbydT\n",
      "#Initialization of variables\n",
      "V=6.84 #cm^3 /g\n",
      "#calculations\n",
      "dPbydT=-1.7*4.184*10**7 /(2.19*V*0.06*1.01*10**6)\n",
      "#results\n",
      "print '%s %d %s' %(\"dPbydT =\",dPbydT,\" atm/deg\")\n"
     ],
     "language": "python",
     "metadata": {},
     "outputs": [
      {
       "output_type": "stream",
       "stream": "stdout",
       "text": [
        "dPbydT = -78  atm/deg\n"
       ]
      }
     ],
     "prompt_number": 3
    },
    {
     "cell_type": "heading",
     "level": 2,
     "metadata": {},
     "source": [
      "Example 4 - pg 303"
     ]
    },
    {
     "cell_type": "code",
     "collapsed": false,
     "input": [
      "#calculate the Pressure\n",
      "#Initialization of variables\n",
      "P=6  #atm\n",
      "T=273.2+25 #K\n",
      "P=23.8 #mm\n",
      "V=0.018 #lt/mol\n",
      "R=0.08206 #lt am/deg mol\n",
      "#calculations\n",
      "dPa=V*P*4536/(R*T*760)\n",
      "Pa=dPa+P\n",
      "#results\n",
      "print '%s %.1f %s' %(\"Pressure =\",Pa,\" mm\")\n"
     ],
     "language": "python",
     "metadata": {},
     "outputs": [
      {
       "output_type": "stream",
       "stream": "stdout",
       "text": [
        "Pressure = 23.9  mm\n"
       ]
      }
     ],
     "prompt_number": 4
    },
    {
     "cell_type": "heading",
     "level": 2,
     "metadata": {},
     "source": [
      "Example 5 - pg 305"
     ]
    },
    {
     "cell_type": "code",
     "collapsed": false,
     "input": [
      "#calculate the mole fraction of methanol in vapor\n",
      "#Initialization of variables\n",
      "x=0.25\n",
      "Ps1=96 #mm\n",
      "Ps2=43.9 #mm\n",
      "#calculations\n",
      "P1=x*Ps1\n",
      "P2=(1-x)*Ps2\n",
      "P=P1+P2\n",
      "Xdash=P1/P\n",
      "#results\n",
      "print '%s %.3f' %(\"mole fraction of methanol in vapor =\",Xdash)\n"
     ],
     "language": "python",
     "metadata": {},
     "outputs": [
      {
       "output_type": "stream",
       "stream": "stdout",
       "text": [
        "mole fraction of methanol in vapor = 0.422\n"
       ]
      }
     ],
     "prompt_number": 6
    },
    {
     "cell_type": "heading",
     "level": 2,
     "metadata": {},
     "source": [
      "Example 6 - pg 309"
     ]
    },
    {
     "cell_type": "code",
     "collapsed": false,
     "input": [
      "#calculate the Molal elevation constant\n",
      "#Initialization of variables\n",
      "Hv=539.6 #cal/g\n",
      "T=273.2+100 #K\n",
      "#calculations\n",
      "Kb=1.987*T**2 /(1000*Hv)\n",
      "#results\n",
      "print '%s %.3f %s' %(\"Molal elevation constant =\",Kb,\" deg /mole /kg\")\n"
     ],
     "language": "python",
     "metadata": {},
     "outputs": [
      {
       "output_type": "stream",
       "stream": "stdout",
       "text": [
        "Molal elevation constant = 0.513  deg /mole /kg\n"
       ]
      }
     ],
     "prompt_number": 7
    },
    {
     "cell_type": "heading",
     "level": 2,
     "metadata": {},
     "source": [
      "Example 7 - pg 309"
     ]
    },
    {
     "cell_type": "code",
     "collapsed": false,
     "input": [
      "#calculate the Molecular weight of solute\n",
      "#Initialization of variables\n",
      "ms=0.5 #mol/kg\n",
      "m=5 #g\n",
      "mw=100 #g\n",
      "Ws=1000 #g/kg\n",
      "#calculations\n",
      "Ma=m*Ws/(ms*mw)\n",
      "#results\n",
      "print '%s %d %s' %(\"Molecular weight of solute =\",Ma,\"g/mol \")\n"
     ],
     "language": "python",
     "metadata": {},
     "outputs": [
      {
       "output_type": "stream",
       "stream": "stdout",
       "text": [
        "Molecular weight of solute = 100 g/mol \n"
       ]
      }
     ],
     "prompt_number": 8
    },
    {
     "cell_type": "heading",
     "level": 2,
     "metadata": {},
     "source": [
      "Example 8 - pg 311"
     ]
    },
    {
     "cell_type": "code",
     "collapsed": false,
     "input": [
      "#calculate the molality of the solution\n",
      "#Initialization of variables\n",
      "dT=0.23 #C\n",
      "Kb=1.86 #deg/mol/kg\n",
      "#calculations\n",
      "m=dT/Kb\n",
      "#results\n",
      "print '%s %.2f %s' %(\"molality of solution =\",m,\"m\")\n"
     ],
     "language": "python",
     "metadata": {},
     "outputs": [
      {
       "output_type": "stream",
       "stream": "stdout",
       "text": [
        "molality of solution = 0.12 m\n"
       ]
      }
     ],
     "prompt_number": 9
    },
    {
     "cell_type": "heading",
     "level": 2,
     "metadata": {},
     "source": [
      "Example 9 - pg 313"
     ]
    },
    {
     "cell_type": "code",
     "collapsed": false,
     "input": [
      "#calculate the Osmotic Pressure\n",
      "#Initialization of variables\n",
      "p=0.1 #m\n",
      "T=30+273.2  #K\n",
      "R=0.08206 #lt atm /deg/mol\n",
      "P1=1 #atm\n",
      "#calculations\n",
      "w=1000/p\n",
      "V=w/1000.\n",
      "dP=R*T/V\n",
      "P=dP+P1\n",
      "#results\n",
      "print '%s %.2f %s' %(\"Osmotic Pressure =\",P,\" atm \")\n"
     ],
     "language": "python",
     "metadata": {},
     "outputs": [
      {
       "output_type": "stream",
       "stream": "stdout",
       "text": [
        "Osmotic Pressure = 3.49  atm \n"
       ]
      }
     ],
     "prompt_number": 10
    }
   ],
   "metadata": {}
  }
 ]
}