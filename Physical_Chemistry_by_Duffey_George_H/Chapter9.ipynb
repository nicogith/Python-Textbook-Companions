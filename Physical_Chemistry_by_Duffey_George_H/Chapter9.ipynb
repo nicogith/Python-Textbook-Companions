{
 "metadata": {
  "name": "",
  "signature": "sha256:d8a3e9ee0b493342a03a360ee0ca604f80a61547dd5ed22ef022608eecfbe8c4"
 },
 "nbformat": 3,
 "nbformat_minor": 0,
 "worksheets": [
  {
   "cells": [
    {
     "cell_type": "heading",
     "level": 1,
     "metadata": {},
     "source": [
      "Chapter 9 - Boltzmann distribution law"
     ]
    },
    {
     "cell_type": "heading",
     "level": 2,
     "metadata": {},
     "source": [
      "Example 1 - pg 235"
     ]
    },
    {
     "cell_type": "code",
     "collapsed": false,
     "input": [
      "#calculate the no of particles\n",
      "#Initialization of variables\n",
      "import math\n",
      "r=2.1*10**-6 #cm\n",
      "n=889\n",
      "x=0.1 #cm\n",
      "T=298.2 #K\n",
      "#calculations\n",
      "V=4/3 *math.pi *r**3\n",
      "rho=19.3-1\n",
      "ffd=rho*V*980.7\n",
      "eps=ffd*x\n",
      "logN=-6.96*10**-14 /(2.303*1.38*10**-16 *T)\n",
      "N=10**logN *n\n",
      "#results\n",
      "print '%s %.1f' %(\"No. of particles =\",N)\n"
     ],
     "language": "python",
     "metadata": {},
     "outputs": [
      {
       "output_type": "stream",
       "stream": "stdout",
       "text": [
        "No. of particles = 163.9\n"
       ]
      }
     ],
     "prompt_number": 1
    },
    {
     "cell_type": "heading",
     "level": 2,
     "metadata": {},
     "source": [
      "Example 2 - pg 237"
     ]
    },
    {
     "cell_type": "code",
     "collapsed": false,
     "input": [
      "#calculate the Temperature\n",
      "#Initialization of variables\n",
      "import math\n",
      "x=1. #percent\n",
      "wave=1595 #cm**-1\n",
      "#calculations\n",
      "E=2.8593*wave\n",
      "Nratio=(100-x)/x\n",
      "logN=math.log10(Nratio)\n",
      "T=E/(2.303*1.987*logN)\n",
      "#results\n",
      "print '%s %d %s' %(\"Temperature =\",T,\"K\")\n"
     ],
     "language": "python",
     "metadata": {},
     "outputs": [
      {
       "output_type": "stream",
       "stream": "stdout",
       "text": [
        "Temperature = 499 K\n"
       ]
      }
     ],
     "prompt_number": 2
    }
   ],
   "metadata": {}
  }
 ]
}