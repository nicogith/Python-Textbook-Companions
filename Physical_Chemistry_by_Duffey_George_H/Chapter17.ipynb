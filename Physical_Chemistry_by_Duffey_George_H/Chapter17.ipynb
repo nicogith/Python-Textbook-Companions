{
 "metadata": {
  "name": "",
  "signature": "sha256:4d58417f5757dcfb290ed1ee0e2191d724d6d044069d2c21c72e96a05505c726"
 },
 "nbformat": 3,
 "nbformat_minor": 0,
 "worksheets": [
  {
   "cells": [
    {
     "cell_type": "heading",
     "level": 1,
     "metadata": {},
     "source": [
      "Chapter 17 - Resolving Kinetic data"
     ]
    },
    {
     "cell_type": "heading",
     "level": 2,
     "metadata": {},
     "source": [
      "Example 1 - pg 446"
     ]
    },
    {
     "cell_type": "code",
     "collapsed": false,
     "input": [
      "#calculate the Order of the reaction\n",
      "#Initialization of variablesx1=5\n",
      "import math\n",
      "from math import log\n",
      "x2=20.\n",
      "x1=5.\n",
      "n1=7.49\n",
      "n2=5.14\n",
      "#calculations\n",
      "n=(log(n1)-log(n2))/(log(100-x1) - log(100-x2))\n",
      "#results\n",
      "print '%s %.2f' %(\"Order of the reaction  = \",n)\n"
     ],
     "language": "python",
     "metadata": {},
     "outputs": [
      {
       "output_type": "stream",
       "stream": "stdout",
       "text": [
        "Order of the reaction  =  2.19\n"
       ]
      }
     ],
     "prompt_number": 1
    },
    {
     "cell_type": "heading",
     "level": 2,
     "metadata": {},
     "source": [
      "Example 2 - pg 448"
     ]
    },
    {
     "cell_type": "code",
     "collapsed": false,
     "input": [
      "#calculate the Order of the reaction\n",
      "#Initialization of variablesx1=5\n",
      "import math\n",
      "from math import log\n",
      "p2=169.\n",
      "p1=363.\n",
      "t1=410.\n",
      "t2=880.\n",
      "#calculations\n",
      "ndash=(log(t2) - log(t1))/(log(p1) - log(p2))\n",
      "n=ndash+1\n",
      "#results\n",
      "print '%s %.2f' %(\"Order of the reaction  = \",n)\n"
     ],
     "language": "python",
     "metadata": {},
     "outputs": [
      {
       "output_type": "stream",
       "stream": "stdout",
       "text": [
        "Order of the reaction  =  2.00\n"
       ]
      }
     ],
     "prompt_number": 2
    },
    {
     "cell_type": "heading",
     "level": 2,
     "metadata": {},
     "source": [
      "Example 3 - pg 454"
     ]
    },
    {
     "cell_type": "code",
     "collapsed": false,
     "input": [
      "#calculate the Activation energy and Z\n",
      "#Initialization of variables\n",
      "import math\n",
      "R=1.987 #cal/deg/mol\n",
      "k1=4.45*10**-5\n",
      "k2=2.52*10**-6\n",
      "T1=283+273.2 #K\n",
      "T2=356+273.2 #K\n",
      "#calculations\n",
      "Ea=2.303*R*1.7530 /(1/T1 - 1/T2)\n",
      "logZ= math.log10(k1) +Ea/(2.303*R*T1)\n",
      "Z=10**logZ\n",
      "#results\n",
      "print '%s %d %s' %(\"Activation energy =\",Ea,\"cal/mol\")\n",
      "print '%s %.1e %s' %(\"\\n Z =\",Z,\"lt /mol sec\")\n"
     ],
     "language": "python",
     "metadata": {},
     "outputs": [
      {
       "output_type": "stream",
       "stream": "stdout",
       "text": [
        "Activation energy = 38456 cal/mol\n",
        "\n",
        " Z = 5.7e+10 lt /mol sec\n"
       ]
      }
     ],
     "prompt_number": 3
    },
    {
     "cell_type": "heading",
     "level": 2,
     "metadata": {},
     "source": [
      "Example 5 - pg 456"
     ]
    },
    {
     "cell_type": "code",
     "collapsed": false,
     "input": [
      "#calculate the Equlibrium constant\n",
      "#Initialization of variables\n",
      "g1=0.661\n",
      "g2=0.899\n",
      "g3=0.405\n",
      "g4=0.803\n",
      "g5=0.946\n",
      "g6=0.614\n",
      "k=1.33\n",
      "#calculations\n",
      "k0=k*g3/(g1*g2)\n",
      "k2=k0*g4*g5/g6\n",
      "#results\n",
      "print '%s %.2f %s' %(\"Equlibrium constant =\",k2,\"lt/mol min\")\n"
     ],
     "language": "python",
     "metadata": {},
     "outputs": [
      {
       "output_type": "stream",
       "stream": "stdout",
       "text": [
        "Equlibrium constant = 1.12 lt/mol min\n"
       ]
      }
     ],
     "prompt_number": 4
    }
   ],
   "metadata": {}
  }
 ]
}