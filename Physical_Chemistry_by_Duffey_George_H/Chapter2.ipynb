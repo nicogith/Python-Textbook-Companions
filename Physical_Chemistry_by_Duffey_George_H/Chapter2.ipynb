{
 "metadata": {
  "name": "",
  "signature": "sha256:2335de0a1036d6583f9ddb709f27717d7dd705b5f69b2600b20c842c855e802b"
 },
 "nbformat": 3,
 "nbformat_minor": 0,
 "worksheets": [
  {
   "cells": [
    {
     "cell_type": "heading",
     "level": 1,
     "metadata": {},
     "source": [
      "Chapter 2 - Particles Atomic and subatomic"
     ]
    },
    {
     "cell_type": "heading",
     "level": 2,
     "metadata": {},
     "source": [
      "Example 2 - pg 40"
     ]
    },
    {
     "cell_type": "code",
     "collapsed": false,
     "input": [
      "#calculate the Increase in kinetic energy\n",
      "#Initialization of variables\n",
      "m1=1.008142\n",
      "m2=1.008982\n",
      "#calculations\n",
      "dm=m1-m2\n",
      "dt=abs(dm) *931\n",
      "#results\n",
      "print '%s %.3f %s' %(\"Increase in kinetic energy =\",dt,\"Mev\")\n"
     ],
     "language": "python",
     "metadata": {},
     "outputs": [
      {
       "output_type": "stream",
       "stream": "stdout",
       "text": [
        "Increase in kinetic energy = 0.782 Mev\n"
       ]
      }
     ],
     "prompt_number": 1
    },
    {
     "cell_type": "heading",
     "level": 2,
     "metadata": {},
     "source": [
      "Example 3 - pg 44"
     ]
    },
    {
     "cell_type": "code",
     "collapsed": false,
     "input": [
      "#calculate the Thickness\n",
      "#Initialization of variables\n",
      "import math\n",
      "d=8.642 #g/cc\n",
      "M=112.41 #g/mol\n",
      "ratio=0.01/100\n",
      "nb=2400\n",
      "#calculations\n",
      "n=d*6.02*10**23 /M\n",
      "sigma=nb*10**-24\n",
      "x=-2.303*math.log10(ratio) /(sigma*n)\n",
      "#results\n",
      "print '%s %.3f %s' %(\"Thickness =\",x,\"cm\")\n"
     ],
     "language": "python",
     "metadata": {},
     "outputs": [
      {
       "output_type": "stream",
       "stream": "stdout",
       "text": [
        "Thickness = 0.083 cm\n"
       ]
      }
     ],
     "prompt_number": 2
    },
    {
     "cell_type": "heading",
     "level": 2,
     "metadata": {},
     "source": [
      "Example 4 - pg 49"
     ]
    },
    {
     "cell_type": "code",
     "collapsed": false,
     "input": [
      "#calculate the Threshold\n",
      "#Initialization of variables\n",
      "M1=4\n",
      "M2=14\n",
      "E=-1.2 #Mev\n",
      "#calculations\n",
      "R1=1.5*10**-13 *(M1)**(1/3.)\n",
      "R2=1.5*10**-13 *(M2)**(1/3.)\n",
      "V1=2*7*(4.8*10**-10)**2 /(R1+R2)\n",
      "V2=V1/(1.6*10**-6)\n",
      "x=(M1+M2)*V2/M2\n",
      "#results\n",
      "print '%s %.1f %s' %(\"Threshold =\",x,\" Mev\")\n"
     ],
     "language": "python",
     "metadata": {},
     "outputs": [
      {
       "output_type": "stream",
       "stream": "stdout",
       "text": [
        "Threshold = 4.3  Mev\n"
       ]
      }
     ],
     "prompt_number": 3
    },
    {
     "cell_type": "heading",
     "level": 2,
     "metadata": {},
     "source": [
      "Example 6 - pg 53"
     ]
    },
    {
     "cell_type": "code",
     "collapsed": false,
     "input": [
      "#calculate the Time taken\n",
      "#Initialization of variables\n",
      "import math\n",
      "t=1622. #years\n",
      "per=1. #percent\n",
      "#calculations\n",
      "Nratio=1-per/100.\n",
      "x=t*math.log10(Nratio) / math.log10(0.5)\n",
      "#results\n",
      "print '%s %.1f %s' %(\"Time taken =\",x,\" years\")\n"
     ],
     "language": "python",
     "metadata": {},
     "outputs": [
      {
       "output_type": "stream",
       "stream": "stdout",
       "text": [
        "Time taken = 23.5  years\n"
       ]
      }
     ],
     "prompt_number": 4
    }
   ],
   "metadata": {}
  }
 ]
}