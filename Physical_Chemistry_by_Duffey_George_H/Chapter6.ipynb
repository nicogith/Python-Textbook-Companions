{
 "metadata": {
  "name": "",
  "signature": "sha256:9bf5bbe9f730183d02f70c65bc17bfc01b5796cd6c1851929b94b0569d87691c"
 },
 "nbformat": 3,
 "nbformat_minor": 0,
 "worksheets": [
  {
   "cells": [
    {
     "cell_type": "heading",
     "level": 1,
     "metadata": {},
     "source": [
      "Chapter 6 - valence electrons in molecules"
     ]
    },
    {
     "cell_type": "heading",
     "level": 2,
     "metadata": {},
     "source": [
      "Example 1 - pg 150"
     ]
    },
    {
     "cell_type": "code",
     "collapsed": false,
     "input": [
      "#calculate the wave function\n",
      "#initialization of variables\n",
      "import math\n",
      "from math import sqrt\n",
      "a2=1/8.\n",
      "#calculations\n",
      "b2=1-a2\n",
      "a1=sqrt(a2)\n",
      "b1=sqrt(b2)\n",
      "#results\n",
      "print '%s %.2f %s %.2f %s' %(\" Wave function is\",a1, \"phi1 +\",b1,\"phi2\")\n"
     ],
     "language": "python",
     "metadata": {},
     "outputs": [
      {
       "output_type": "stream",
       "stream": "stdout",
       "text": [
        " Wave function is 0.35 phi1 + 0.94 phi2\n"
       ]
      }
     ],
     "prompt_number": 1
    },
    {
     "cell_type": "heading",
     "level": 2,
     "metadata": {},
     "source": [
      "Example 3 - pg 156"
     ]
    },
    {
     "cell_type": "code",
     "collapsed": false,
     "input": [
      "#calculate the Bond angle\n",
      "#initialization of variables\n",
      "import math\n",
      "sinu=2/math.sqrt(3.)\n",
      "cosu=math.sqrt(2/3.)\n",
      "#calculations\n",
      "tanu=sinu/cosu\n",
      "u=math.atan(sinu/cosu) *180/math.pi\n",
      "#results\n",
      "print '%s %.2f %s' %(\"Bond angle =\",2*u,\"degrees\")\n"
     ],
     "language": "python",
     "metadata": {},
     "outputs": [
      {
       "output_type": "stream",
       "stream": "stdout",
       "text": [
        "Bond angle = 109.47 degrees\n"
       ]
      }
     ],
     "prompt_number": 2
    },
    {
     "cell_type": "heading",
     "level": 1,
     "metadata": {},
     "source": [
      "Example 4 - pg 156"
     ]
    },
    {
     "cell_type": "code",
     "collapsed": false,
     "input": [
      "#calculate the Pauling strength\n",
      "#initialization of variables\n",
      "import math\n",
      "cosu=1/math.sqrt(3.)\n",
      "sinu=math.sqrt(2./3)\n",
      "#calculations\n",
      "f=1/2. + math.sqrt(3.) /2. *cosu + math.sqrt(3./2) *sinu\n",
      "#results\n",
      "print ' %s %d' %(\"Pauling strength = \",f)\n"
     ],
     "language": "python",
     "metadata": {},
     "outputs": [
      {
       "output_type": "stream",
       "stream": "stdout",
       "text": [
        " Pauling strength =  2\n"
       ]
      }
     ],
     "prompt_number": 3
    },
    {
     "cell_type": "heading",
     "level": 2,
     "metadata": {},
     "source": [
      "Example 5 - pg 157"
     ]
    },
    {
     "cell_type": "code",
     "collapsed": false,
     "input": [
      "#calculate the Wave function\n",
      "#initialization of variables\n",
      "import math\n",
      "alpha=60.*math.pi/180.\n",
      "#calculations\n",
      "cosa=math.cos(alpha)\n",
      "sina=math.sin(alpha)\n",
      "#results\n",
      "print '%s %.2f %s %.2f %s' %(\"Wave function  =\",cosa,\"s +\",sina,\"pz\")\n"
     ],
     "language": "python",
     "metadata": {},
     "outputs": [
      {
       "output_type": "stream",
       "stream": "stdout",
       "text": [
        "Wave function  = 0.50 s + 0.87 pz\n"
       ]
      }
     ],
     "prompt_number": 4
    },
    {
     "cell_type": "heading",
     "level": 2,
     "metadata": {},
     "source": [
      "Example 9 - pg 169"
     ]
    },
    {
     "cell_type": "code",
     "collapsed": false,
     "input": [
      "#calculate the Bond energy\n",
      "#initialization of variables\n",
      "DHH=103. #kcal/mol\n",
      "#calculations\n",
      "DHHp=0.5*(DHH)\n",
      "#results\n",
      "print '%s %.1f %s' %(\"Bond energy =\",DHHp,\"kcal/mol\")\n"
     ],
     "language": "python",
     "metadata": {},
     "outputs": [
      {
       "output_type": "stream",
       "stream": "stdout",
       "text": [
        "Bond energy = 51.5 kcal/mol\n"
       ]
      }
     ],
     "prompt_number": 5
    },
    {
     "cell_type": "heading",
     "level": 2,
     "metadata": {},
     "source": [
      "Example 10 - pg 174"
     ]
    },
    {
     "cell_type": "code",
     "collapsed": false,
     "input": [
      "#calculate the Exchange energy\n",
      "#initialization of variables\n",
      "DHH=42 #kcal/mol\n",
      "#calculations\n",
      "DHHp=0.5*(DHH)\n",
      "#results\n",
      "print '%s %.1f %s' %(\"Exchange energy =\",DHHp,\"kcal/mol\")\n"
     ],
     "language": "python",
     "metadata": {},
     "outputs": [
      {
       "output_type": "stream",
       "stream": "stdout",
       "text": [
        "Exchange energy = 21.0 kcal/mol\n"
       ]
      }
     ],
     "prompt_number": 6
    }
   ],
   "metadata": {}
  }
 ]
}