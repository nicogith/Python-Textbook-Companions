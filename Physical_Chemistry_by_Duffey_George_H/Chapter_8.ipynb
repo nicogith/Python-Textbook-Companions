{
 "metadata": {
  "name": "",
  "signature": "sha256:e7ff5ec8c26bca61ce95f7f9a6bfe9182508039293520fdb892a47c60afd9608"
 },
 "nbformat": 3,
 "nbformat_minor": 0,
 "worksheets": [
  {
   "cells": [
    {
     "cell_type": "heading",
     "level": 1,
     "metadata": {},
     "source": [
      "Chapter 8 - Quantum chemistry"
     ]
    },
    {
     "cell_type": "heading",
     "level": 2,
     "metadata": {},
     "source": [
      "Example 1 - pg 460"
     ]
    },
    {
     "cell_type": "code",
     "collapsed": false,
     "input": [
      "#calculate the Wavelength\n",
      "#initialisation of variables\n",
      "v= 299.8 #V\n",
      "e= 4.802*10**-10 #ev\n",
      "h= 6.624*10**-27 #ergs sec\n",
      "c= 3*10**10 #cm/sec\n",
      "#CALCULATIONS\n",
      "E= e/v\n",
      "l= h*c*10**8/(2*E)\n",
      "#RESULTS\n",
      "print '%s %.1f %s' % (' Wavelength =',l,'A')\n",
      "print 'The answers are a bit different due to rounding off error in textbook'"
     ],
     "language": "python",
     "metadata": {},
     "outputs": [
      {
       "output_type": "stream",
       "stream": "stdout",
       "text": [
        " Wavelength = 6203.3 A\n",
        "The answers are a bit different due to rounding off error in textbook\n"
       ]
      }
     ],
     "prompt_number": 1
    },
    {
     "cell_type": "heading",
     "level": 2,
     "metadata": {},
     "source": [
      "Example 2 - pg 462"
     ]
    },
    {
     "cell_type": "code",
     "collapsed": false,
     "input": [
      "#calculate the value of numerical coefficient\n",
      "#initialisation of variables\n",
      "u= 109677.583 #cm**-1\n",
      "#RESULTS\n",
      "print '%s %.1f %s' % (' value of numerical coefficient =',u,' cm')\n"
     ],
     "language": "python",
     "metadata": {},
     "outputs": [
      {
       "output_type": "stream",
       "stream": "stdout",
       "text": [
        " value of numerical coefficient = 109677.6  cm\n"
       ]
      }
     ],
     "prompt_number": 2
    },
    {
     "cell_type": "heading",
     "level": 2,
     "metadata": {},
     "source": [
      "Example 3 - pg 464"
     ]
    },
    {
     "cell_type": "code",
     "collapsed": false,
     "input": [
      "#calculate the wavelength in both cases\n",
      "#initialisation of variables\n",
      "import math\n",
      "h= 6.6234*10**-27 #ergs sec\n",
      "m= 2.59 #gms\n",
      "v= 3.35*10**4 #cm sec **-1\n",
      "e= 4.8*10**-10 #ev\n",
      "V= 40000. #volts\n",
      "M= 300. #gms\n",
      "L= 1836. #A\n",
      "N= 6*10**23 #molecules\n",
      "#CALCULATIONS\n",
      "p= m*v\n",
      "l= h/p\n",
      "E= V*e/M\n",
      "P= math.sqrt(2*E*(1/(L*N)))\n",
      "L1= h*10**8/P\n",
      "#RESULTS\n",
      "print '%s %.2e %s' % (' wavelength =',l,'cm')\n",
      "print '%s %.4f %s' % (' \\n wavelength =',L1,'A')"
     ],
     "language": "python",
     "metadata": {},
     "outputs": [
      {
       "output_type": "stream",
       "stream": "stdout",
       "text": [
        " wavelength = 7.63e-32 cm\n",
        " \n",
        " wavelength = 0.0614 A\n"
       ]
      }
     ],
     "prompt_number": 3
    },
    {
     "cell_type": "heading",
     "level": 2,
     "metadata": {},
     "source": [
      "Example 4 - pg 471"
     ]
    },
    {
     "cell_type": "code",
     "collapsed": false,
     "input": [
      "#calculate the lifetime of this excited state\n",
      "#initialisation of variables\n",
      "import math\n",
      "h= 6.624*10**-27 #ergs sec\n",
      "c= 3*10**10 #cm/sec\n",
      "u= 5 #cm**-1\n",
      "#CALCULATIONS  \n",
      "T= h/(h*2*math.pi*c*u)\n",
      "#RESULTS\n",
      "print '%s %.1e %s' % (' lifetime of this excited state =',T,'sec')\n"
     ],
     "language": "python",
     "metadata": {},
     "outputs": [
      {
       "output_type": "stream",
       "stream": "stdout",
       "text": [
        " lifetime of this excited state = 1.1e-12 sec\n"
       ]
      }
     ],
     "prompt_number": 4
    },
    {
     "cell_type": "heading",
     "level": 2,
     "metadata": {},
     "source": [
      "Example 5 - pg 471"
     ]
    },
    {
     "cell_type": "code",
     "collapsed": false,
     "input": [
      "#calculate the lifetime\n",
      "#initialisation of variables\n",
      "import math\n",
      "V= 2.5*10**4 #m/sec\n",
      "m= 30 #gms\n",
      "s= 10*10**-16 #cm**2\n",
      "N= 6.023*10**23 #molecules\n",
      "T= 300 #K\n",
      "k= 8.3*10**7\n",
      "#CALCULATIONS\n",
      "t= math.sqrt((m/(math.pi*k*T)))*(V/(4*s*N))\n",
      "#RESULTS\n",
      "print '%s %.1e %s' % (' lifetime =',t,' sec')\n"
     ],
     "language": "python",
     "metadata": {},
     "outputs": [
      {
       "output_type": "stream",
       "stream": "stdout",
       "text": [
        " lifetime = 2.0e-10  sec\n"
       ]
      }
     ],
     "prompt_number": 5
    },
    {
     "cell_type": "heading",
     "level": 2,
     "metadata": {},
     "source": [
      "Example 7 - pg 494"
     ]
    },
    {
     "cell_type": "code",
     "collapsed": false,
     "input": [
      "#calculate the internuclear distances\n",
      "#initialisation of variables\n",
      "import math\n",
      "h= 6.6238*10**-27 #ergssec\n",
      "N= 6.0254*10**23 #molecules\n",
      "c= 2.9979*10**10\n",
      "Be= 60.809\n",
      "mh= 1.00812 #gms\n",
      "#CALCULATIONS\n",
      "u= mh/2.\n",
      "Re= math.sqrt(h*N/(c*8*math.pi**2*Be*u))\n",
      "#RESULTS\n",
      "print '%s %.4e %s' % (' internuclear distances =',Re,'cm ')\n"
     ],
     "language": "python",
     "metadata": {},
     "outputs": [
      {
       "output_type": "stream",
       "stream": "stdout",
       "text": [
        " internuclear distances = 7.4168e-09 cm \n"
       ]
      }
     ],
     "prompt_number": 6
    },
    {
     "cell_type": "heading",
     "level": 2,
     "metadata": {},
     "source": [
      "Example 8 - pg 497"
     ]
    },
    {
     "cell_type": "code",
     "collapsed": false,
     "input": [
      "#calculate the Resonance energy\n",
      "#initialisation of variables\n",
      "H= 19.8 #kcal\n",
      "H1= -0.8 #kcal\n",
      "H2= -29.4 #kcal\n",
      "#CALCULATIONS\n",
      "H3= -85.8\n",
      "H4= -49.2\n",
      "H5= -H3+H4\n",
      "#RESULTS\n",
      "print '%s %.1f %s' % (' Resonance energy =',H5,'cal')\n"
     ],
     "language": "python",
     "metadata": {},
     "outputs": [
      {
       "output_type": "stream",
       "stream": "stdout",
       "text": [
        " Resonance energy = 36.6 cal\n"
       ]
      }
     ],
     "prompt_number": 7
    },
    {
     "cell_type": "heading",
     "level": 2,
     "metadata": {},
     "source": [
      "Example 9 - pg 500"
     ]
    },
    {
     "cell_type": "code",
     "collapsed": false,
     "input": [
      "#calculate the no of bonds\n",
      "#initialisation of variables\n",
      "import math\n",
      "R= 1.69 #A\n",
      "l= 1.49 #A\n",
      "r= 0.706\n",
      "#CALCULATIONS\n",
      "n= 10**((R-l)/r)\n",
      "#RESULTS\n",
      "print '%s %.2f' % (' no of bonds = ',n)\n"
     ],
     "language": "python",
     "metadata": {},
     "outputs": [
      {
       "output_type": "stream",
       "stream": "stdout",
       "text": [
        " no of bonds =  1.92\n"
       ]
      }
     ],
     "prompt_number": 8
    },
    {
     "cell_type": "heading",
     "level": 2,
     "metadata": {},
     "source": [
      "Example 10 - pg 504"
     ]
    },
    {
     "cell_type": "code",
     "collapsed": false,
     "input": [
      "#calculate the lattice energy\n",
      "#initialisation of variables\n",
      "N= 6.*10**23 #molecules\n",
      "R= 2.82 #A\n",
      "e= 4.8*10**-10 #ev\n",
      "n= 9.\n",
      "z= 1.748\n",
      "#CALCULATIONS\n",
      "U= (N*z*e**2*(1-(1/n)))*182.2/(R*10**-8*7.63*10**12)\n",
      "#RESULTS\n",
      "print '%s %.1f %s' % (' lattice energy =',U,'kcal mole**-1')\n"
     ],
     "language": "python",
     "metadata": {},
     "outputs": [
      {
       "output_type": "stream",
       "stream": "stdout",
       "text": [
        " lattice energy = 181.9 kcal mole**-1\n"
       ]
      }
     ],
     "prompt_number": 9
    },
    {
     "cell_type": "heading",
     "level": 2,
     "metadata": {},
     "source": [
      "Example 11 - pg 507"
     ]
    },
    {
     "cell_type": "code",
     "collapsed": false,
     "input": [
      "#calculate the least energy required for transfer\n",
      "#initialisation of variables\n",
      "import math\n",
      "k= 13\n",
      "e= 4.8*10**-10 #ev\n",
      "h= 6.624*10**-27 #ergs sec\n",
      "N= 6.023*10**23 #molecules\n",
      "l= 1836 #A\n",
      "#CALCULATIONS\n",
      "I= e**4*0.080/(l*N*1.28*10**-13*2*k**2*(h/(2*math.pi))**2)\n",
      "#RESULTS\n",
      "print '%s %.2f %s' % (' least energy required for transfer=',I,' ev')\n"
     ],
     "language": "python",
     "metadata": {},
     "outputs": [
      {
       "output_type": "stream",
       "stream": "stdout",
       "text": [
        " least energy required for transfer= 0.08  ev\n"
       ]
      }
     ],
     "prompt_number": 10
    },
    {
     "cell_type": "heading",
     "level": 2,
     "metadata": {},
     "source": [
      "Example 12 - pg 509"
     ]
    },
    {
     "cell_type": "code",
     "collapsed": false,
     "input": [
      "#calculate the difference between potentials\n",
      "#initialisation of variables\n",
      "i= 54.4 #ev\n",
      "i1= 24.6 #ev\n",
      "k= 2.5 \n",
      "#CALCULATIONS\n",
      "I= i/(4*k**2)\n",
      "I1= i1/(4*k**2)\n",
      "d= I-I1\n",
      "#RESULTS\n",
      "print '%s %.1f %s' % (' difference between first and second potential=',d,'ev')\n"
     ],
     "language": "python",
     "metadata": {},
     "outputs": [
      {
       "output_type": "stream",
       "stream": "stdout",
       "text": [
        " difference between first and second potential= 1.2 ev\n"
       ]
      }
     ],
     "prompt_number": 11
    }
   ],
   "metadata": {}
  }
 ]
}