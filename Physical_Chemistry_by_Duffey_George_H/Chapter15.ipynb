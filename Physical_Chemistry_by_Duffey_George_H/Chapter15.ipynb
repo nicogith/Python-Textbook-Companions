{
 "metadata": {
  "name": "",
  "signature": "sha256:633d2351722f70bcb5591bec1c39746dd272ca892962c335e9bfb247bc80518a"
 },
 "nbformat": 3,
 "nbformat_minor": 0,
 "worksheets": [
  {
   "cells": [
    {
     "cell_type": "heading",
     "level": 1,
     "metadata": {},
     "source": [
      "Chapter 15 - Electrochemistry"
     ]
    },
    {
     "cell_type": "heading",
     "level": 2,
     "metadata": {},
     "source": [
      "Example 1 - pg 384"
     ]
    },
    {
     "cell_type": "code",
     "collapsed": false,
     "input": [
      "#calculate the Weight of copper leaving\n",
      "#Initialization of variables\n",
      "I=0.5 #amp\n",
      "t=55  #min\n",
      "we=31.77\n",
      "#calculations\n",
      "Q=I*t*60\n",
      "n=Q/96496.\n",
      "w=n*we\n",
      "#results\n",
      "print '%s %.3f %s' %(\"Weight of copper leaving =\",w,\" g\")\n"
     ],
     "language": "python",
     "metadata": {},
     "outputs": [
      {
       "output_type": "stream",
       "stream": "stdout",
       "text": [
        "Weight of copper leaving = 0.543  g\n"
       ]
      }
     ],
     "prompt_number": 1
    },
    {
     "cell_type": "heading",
     "level": 2,
     "metadata": {},
     "source": [
      "Example 2 - pg 386"
     ]
    },
    {
     "cell_type": "code",
     "collapsed": false,
     "input": [
      "#calculate the values of tplus and tminus\n",
      "#Initialization of variables\n",
      "w1=0.7532 #g\n",
      "w2=0.9972 #g\n",
      "wdep=0.4 #g\n",
      "we=31.77 #g\n",
      "#calculations\n",
      "dn=w2/we - w1/we\n",
      "t=dn/(wdep/we)\n",
      "dne=wdep/we\n",
      "dnmig=dn-dne\n",
      "tplus=-dnmig/dne\n",
      "tminus=1-tplus\n",
      "#results\n",
      "print '%s %.3f' %(\"tplus =\",tplus)\n",
      "print '%s %.3f' %(\"\\n tminus=\",tminus)\n"
     ],
     "language": "python",
     "metadata": {},
     "outputs": [
      {
       "output_type": "stream",
       "stream": "stdout",
       "text": [
        "tplus = 0.390\n",
        "\n",
        " tminus= 0.610\n"
       ]
      }
     ],
     "prompt_number": 2
    },
    {
     "cell_type": "heading",
     "level": 2,
     "metadata": {},
     "source": [
      "Example 3 - pg 393"
     ]
    },
    {
     "cell_type": "code",
     "collapsed": false,
     "input": [
      "#calculate the Equivalent conductance\n",
      "#Initialization of variables\n",
      "R1=312 #ohms\n",
      "R2=1043 #ohms\n",
      "c=0.01 #N\n",
      "kdash=0.002768 #ohm^-1cm^-1\n",
      "#calculations\n",
      "k=kdash*R1\n",
      "kdash2=k/R2\n",
      "ambda=kdash2/(c/1000.)\n",
      "#results\n",
      "print '%s %.1f %s' %(\"Equivalent conductance =\",ambda,\"ohm^-1 cm^2 equiv^-1\")\n"
     ],
     "language": "python",
     "metadata": {},
     "outputs": [
      {
       "output_type": "stream",
       "stream": "stdout",
       "text": [
        "Equivalent conductance = 82.8 ohm^-1 cm^2 equiv^-1\n"
       ]
      }
     ],
     "prompt_number": 3
    },
    {
     "cell_type": "heading",
     "level": 2,
     "metadata": {},
     "source": [
      "Example 4 - pg 393"
     ]
    },
    {
     "cell_type": "code",
     "collapsed": false,
     "input": [
      "#calculate the Conductance for acetic acid\n",
      "#Initialization of variables\n",
      "l1=349.8 \n",
      "l2=40.9\n",
      "#calculations\n",
      "l=l1+l2\n",
      "#results\n",
      "print '%s %.1f %s' %(\"Conductance for acetic acid =\",l,\" ohm^-1 cm^2\")\n"
     ],
     "language": "python",
     "metadata": {},
     "outputs": [
      {
       "output_type": "stream",
       "stream": "stdout",
       "text": [
        "Conductance for acetic acid = 390.7  ohm^-1 cm^2\n"
       ]
      }
     ],
     "prompt_number": 4
    },
    {
     "cell_type": "heading",
     "level": 2,
     "metadata": {},
     "source": [
      "Example 5 - pg 395"
     ]
    },
    {
     "cell_type": "code",
     "collapsed": false,
     "input": [
      "#calculate the Specific conductanc\n",
      "#Initialization of variables\n",
      "l1=63.6\n",
      "l2=79.8\n",
      "n=1 #mg/lt\n",
      "we=116.7 #g/equiv\n",
      "#calculations\n",
      "l=l1+l2\n",
      "c=n*10**-3 /we\n",
      "k=c*l/1000.\n",
      "#results\n",
      "print '%s %.2e %s' %(\"Specific conductance =\",k,\" ohm^-1 cm^-1\")\n"
     ],
     "language": "python",
     "metadata": {},
     "outputs": [
      {
       "output_type": "stream",
       "stream": "stdout",
       "text": [
        "Specific conductance = 1.23e-06  ohm^-1 cm^-1\n"
       ]
      }
     ],
     "prompt_number": 5
    },
    {
     "cell_type": "heading",
     "level": 2,
     "metadata": {},
     "source": [
      "Example 6 - pg 402"
     ]
    },
    {
     "cell_type": "code",
     "collapsed": false,
     "input": [
      "#calculate the SEP of the cell\n",
      "#Initialization of variables\n",
      "e1=0.763 #volt\n",
      "e2=0.337 #volt\n",
      "#calculations\n",
      "e0=e1+e2\n",
      "#results\n",
      "print '%s %.3f %s' %(\"Standard electrode potential of the cell =\",e0,\"volts\")\n"
     ],
     "language": "python",
     "metadata": {},
     "outputs": [
      {
       "output_type": "stream",
       "stream": "stdout",
       "text": [
        "Standard electrode potential of the cell = 1.100 volts\n"
       ]
      }
     ],
     "prompt_number": 6
    },
    {
     "cell_type": "heading",
     "level": 2,
     "metadata": {},
     "source": [
      "Example 7 - pg 403"
     ]
    },
    {
     "cell_type": "code",
     "collapsed": false,
     "input": [
      "#calculate the Emf of the cell\n",
      "#Initialization of variables\n",
      "import math\n",
      "aZn=0.1\n",
      "aCu=0.01\n",
      "e1=0.763 #volt\n",
      "e2=0.337 #volt\n",
      "#calculations\n",
      "e0=e1+e2\n",
      "Q=aZn/aCu\n",
      "E=e0- 0.05915*math.log10(Q) /2\n",
      "#results\n",
      "print '%s %.3f %s' %(\"Emf of the cell =\",E,\" volts\")\n"
     ],
     "language": "python",
     "metadata": {},
     "outputs": [
      {
       "output_type": "stream",
       "stream": "stdout",
       "text": [
        "Emf of the cell = 1.070  volts\n"
       ]
      }
     ],
     "prompt_number": 7
    },
    {
     "cell_type": "heading",
     "level": 2,
     "metadata": {},
     "source": [
      "Example 8 - pg 410"
     ]
    },
    {
     "cell_type": "code",
     "collapsed": false,
     "input": [
      "#calculate the Decomposition potential\n",
      "#Initialization of variables\n",
      "e1=1.2 #volts\n",
      "e2=0.15 #volts\n",
      "e3=0.45 #volts\n",
      "#calculations\n",
      "E=e1+e2+e3\n",
      "#results\n",
      "print '%s %.1f %s' %(\"Decomposition potential =\",E,\" volt\")\n"
     ],
     "language": "python",
     "metadata": {},
     "outputs": [
      {
       "output_type": "stream",
       "stream": "stdout",
       "text": [
        "Decomposition potential = 1.8  volt\n"
       ]
      }
     ],
     "prompt_number": 8
    }
   ],
   "metadata": {}
  }
 ]
}