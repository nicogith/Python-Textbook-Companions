{
 "metadata": {
  "name": "",
  "signature": "sha256:b7db16137d946fe9cbf59acb0ec0858aab53c92eb7e66cd0a1bfe1d955619ce0"
 },
 "nbformat": 3,
 "nbformat_minor": 0,
 "worksheets": [
  {
   "cells": [
    {
     "cell_type": "heading",
     "level": 1,
     "metadata": {},
     "source": [
      "Chapter 6 - Chemical Equilibrium"
     ]
    },
    {
     "cell_type": "heading",
     "level": 2,
     "metadata": {},
     "source": [
      "Example 1 - pg 353"
     ]
    },
    {
     "cell_type": "code",
     "collapsed": false,
     "input": [
      "#calculate the value of Kc\n",
      "#initialisation of variables\n",
      "d= 3.880 #g l^-1\n",
      "M= 208.3 #gm\n",
      "P= 1 #atm\n",
      "R= 0.08205 #cal/mol K\n",
      "T= 473.1 #K\n",
      "#CALCULATIONS\n",
      "d1= M*P/(R*T)\n",
      "d2= (d1-d)/d\n",
      "Kp= d2**2/(1-d2**2)\n",
      "Kc= Kp/(R*T)\n",
      "#RESULTS\n",
      "print '%s %.3e %s' %(' Kc =',Kc,'moles l^-1')\n",
      "print '%s %.4f %s' %(' Kp =',Kp,'atm')\n",
      "print '%s %.4f' %('Fraction dissociated = ',d2)\n"
     ],
     "language": "python",
     "metadata": {},
     "outputs": [
      {
       "output_type": "stream",
       "stream": "stdout",
       "text": [
        " Kc = 4.429e-03 moles l^-1\n",
        " Kp = 0.1719 atm\n",
        "Fraction dissociated =  0.3830\n"
       ]
      }
     ],
     "prompt_number": 1
    },
    {
     "cell_type": "heading",
     "level": 2,
     "metadata": {},
     "source": [
      "Example 2 - pg 353"
     ]
    },
    {
     "cell_type": "code",
     "collapsed": false,
     "input": [
      "#calculate the percentage of Pcl5 dissociated\n",
      "#initialisation of variables\n",
      "import math\n",
      "P= 10 #atm\n",
      "Kp= 0.1719\n",
      "#CALCULATIONS\n",
      "a= math.sqrt(Kp/(10+Kp))*100\n",
      "#RESULTS\n",
      "print '%s %.3f %s' % (' percentage =',a,'percent')"
     ],
     "language": "python",
     "metadata": {},
     "outputs": [
      {
       "output_type": "stream",
       "stream": "stdout",
       "text": [
        " percentage = 13.000 percent\n"
       ]
      }
     ],
     "prompt_number": 2
    },
    {
     "cell_type": "heading",
     "level": 2,
     "metadata": {},
     "source": [
      "Example 3 - pg 354"
     ]
    },
    {
     "cell_type": "code",
     "collapsed": false,
     "input": [
      "#calculate the value of Kp\n",
      "#initialisation of variables\n",
      "P= 0.3429 #atm\n",
      "p0= 0.3153 #atm\n",
      "#CALCULATIONS\n",
      "Kp= (2*(P-p0))**2/(2*p0-P)\n",
      "#RESULTS\n",
      "print '%s %.2e %s' % (' Kp =',Kp,'atm')\n"
     ],
     "language": "python",
     "metadata": {},
     "outputs": [
      {
       "output_type": "stream",
       "stream": "stdout",
       "text": [
        " Kp = 1.06e-02 atm\n"
       ]
      }
     ],
     "prompt_number": 3
    },
    {
     "cell_type": "heading",
     "level": 2,
     "metadata": {},
     "source": [
      "Example 4 - pg 355"
     ]
    },
    {
     "cell_type": "code",
     "collapsed": false,
     "input": [
      "#calculate the pressure required\n",
      "#initialisation of variables\n",
      "Kp= 1.06*10**-2 #atm\n",
      "a= 0.990\n",
      "#CALCULATIONS\n",
      "P= Kp*(1-a**2)/(4*a**2)\n",
      "#RESULTS\n",
      "print '%s %.2e %s' % (' pressure =',P,' atm')\n"
     ],
     "language": "python",
     "metadata": {},
     "outputs": [
      {
       "output_type": "stream",
       "stream": "stdout",
       "text": [
        " pressure = 5.38e-05  atm\n"
       ]
      }
     ],
     "prompt_number": 4
    },
    {
     "cell_type": "heading",
     "level": 2,
     "metadata": {},
     "source": [
      "Example 5 - pg 357"
     ]
    },
    {
     "cell_type": "code",
     "collapsed": false,
     "input": [
      "#calculate the pressure required\n",
      "#initialisation of variables\n",
      "G= 2054.7 #cal\n",
      "R= 1.9872 #cal/mol K\n",
      "T= 298.16 #K\n",
      "#CALCULATIONS\n",
      "P= 10**(-G/(2.303*T*R))\n",
      "#RESULTS\n",
      "print '%s %.5f %s' % (' pressure =',P,'atm')\n"
     ],
     "language": "python",
     "metadata": {},
     "outputs": [
      {
       "output_type": "stream",
       "stream": "stdout",
       "text": [
        " pressure = 0.03120 atm\n"
       ]
      }
     ],
     "prompt_number": 5
    },
    {
     "cell_type": "heading",
     "level": 2,
     "metadata": {},
     "source": [
      "Example 7 - pg 359"
     ]
    },
    {
     "cell_type": "code",
     "collapsed": false,
     "input": [
      "#calculate the solubility product constant\n",
      "#initialisation of variables\n",
      "T= 25 #C\n",
      "H= 25.31 #cal\n",
      "H1= -40.02 #cal\n",
      "H2= -30.36 #cal\n",
      "S1= 17.67 #cal deg^-1\n",
      "S2= 13.17 #cal deg^-1\n",
      "S3= -22.97 #cal deg^-1\n",
      "R= 1.987 #cal/mol K\n",
      "#CALCULATIONS\n",
      "H3= (H+H1-H2)*1000\n",
      "S4= S1+S2+S3\n",
      "G= H3-(273.2+T)*S4\n",
      "Ka= 10**(-G/(2.303*R*(273.2+T)))\n",
      "#RESULTS\n",
      "print '%s %.1e' %(' solubility product constant = ',Ka)"
     ],
     "language": "python",
     "metadata": {},
     "outputs": [
      {
       "output_type": "stream",
       "stream": "stdout",
       "text": [
        " solubility product constant =  1.8e-10\n"
       ]
      }
     ],
     "prompt_number": 6
    },
    {
     "cell_type": "heading",
     "level": 2,
     "metadata": {},
     "source": [
      "Example 8 - pg 359"
     ]
    },
    {
     "cell_type": "code",
     "collapsed": false,
     "input": [
      "#calculate the increase in free energy\n",
      "#initialisation of variables\n",
      "import math\n",
      "T= 25 #C\n",
      "H= -36430 #cal\n",
      "S= -4.19 #cal deg^-1\n",
      "a= 0.1\n",
      "f= 0.2\n",
      "R= 1.987 #cal/mol K\n",
      "#CALCULATIONS\n",
      "G= H-(273.2+T)*S\n",
      "Q= a*f/a**2\n",
      "G1= G+R*(273.2+T)*math.log(Q)\n",
      "#RESULTS\n",
      "print '%s %.1f %s' % (' increase in free energy =',G1, 'cal')\n"
     ],
     "language": "python",
     "metadata": {},
     "outputs": [
      {
       "output_type": "stream",
       "stream": "stdout",
       "text": [
        " increase in free energy = -34769.8 cal\n"
       ]
      }
     ],
     "prompt_number": 7
    },
    {
     "cell_type": "heading",
     "level": 2,
     "metadata": {},
     "source": [
      "Example 9 - pg 361"
     ]
    },
    {
     "cell_type": "code",
     "collapsed": false,
     "input": [
      "#calculate the free energy of formation\n",
      "#initialisation of variables\n",
      "H= 21600. #cal\n",
      "S= 50.339 #cal\n",
      "S1= 49.003 #cal\n",
      "S2= 45.767 #cal\n",
      "T= 298.2 #K\n",
      "#CALCULATIONS\n",
      "H1= 2*H\n",
      "S1= 2*S-S1-S2\n",
      "G= H1-T*S1\n",
      "Gj= G/(2*1000)\n",
      "#RESULTS\n",
      "print '%s %.3f %s' % (' free energy of formation =',Gj,'kcal')\n"
     ],
     "language": "python",
     "metadata": {},
     "outputs": [
      {
       "output_type": "stream",
       "stream": "stdout",
       "text": [
        " free energy of formation = 20.719 kcal\n"
       ]
      }
     ],
     "prompt_number": 8
    },
    {
     "cell_type": "heading",
     "level": 2,
     "metadata": {},
     "source": [
      "Example 10 - pg 361"
     ]
    },
    {
     "cell_type": "code",
     "collapsed": false,
     "input": [
      "#calculate the range of humidity\n",
      "#initialisation of variables\n",
      "R= 1.987 #cal/mol K\n",
      "T= 25. #C\n",
      "G1= -193.8 #cal\n",
      "G2= -54.6 #cal\n",
      "G3= -253.1 #cal\n",
      "G4= -253.1 #cal\n",
      "G5= -54.6 #cal\n",
      "G6= -309.7 #cal\n",
      "#CALCULATIONS\n",
      "G= G1+G2-G3\n",
      "Ph= 10**(-G*10**3/(2.303*R*(273.2+T)))\n",
      "G0= G4+G5-G6\n",
      "Ph1= 10**(-G0*10**3/(2.303*R*(273.2+T)))\n",
      "p= Ph*100./Ph1\n",
      "#RESULTS\n",
      "print '%s %.2f %s' %(' range of humidity =',p,'percent')\n",
      "print 'The answers are a bit different due to rounding off error in textbook'"
     ],
     "language": "python",
     "metadata": {},
     "outputs": [
      {
       "output_type": "stream",
       "stream": "stdout",
       "text": [
        " range of humidity = 1.05 percent\n",
        "The answers are a bit different due to rounding off error in textbook\n"
       ]
      }
     ],
     "prompt_number": 9
    },
    {
     "cell_type": "heading",
     "level": 2,
     "metadata": {},
     "source": [
      "Example 11 - pg 362"
     ]
    },
    {
     "cell_type": "code",
     "collapsed": false,
     "input": [
      "#calculate the Ksp\n",
      "#initialisation of variables\n",
      "m= 10**-2\n",
      "m1= 10**-22\n",
      "G= -22.15 #kcal\n",
      "G1= -5.81 #kcal\n",
      "G2= 20.6 #kcal\n",
      "T= 25 #C\n",
      "R= 1.987 #cal/mol K\n",
      "#CALCULATIONS\n",
      "G3= G-(G1+G2)\n",
      "Ksp= 10**(G3*10**3/(2.303*R*(273+T)))\n",
      "#RESULTS\n",
      "print '%s %.0e' %(' Ksp = ',Ksp)\n"
     ],
     "language": "python",
     "metadata": {},
     "outputs": [
      {
       "output_type": "stream",
       "stream": "stdout",
       "text": [
        " Ksp =  8e-28\n"
       ]
      }
     ],
     "prompt_number": 10
    },
    {
     "cell_type": "heading",
     "level": 2,
     "metadata": {},
     "source": [
      "Example 12 - pg 366"
     ]
    },
    {
     "cell_type": "code",
     "collapsed": false,
     "input": [
      "#calculate the heat of dissociation and standard free energy of iodine\n",
      "import numpy\n",
      "import math\n",
      "import matplotlib\n",
      "from matplotlib import pyplot\n",
      "import warnings\n",
      "#initialization of variables\n",
      "R=1.987\n",
      "T=1000 #K\n",
      "T=numpy.array([973.,1073.,1173.,1274.])\n",
      "kp=numpy.array([.175e-2,1.108e-2,4.87e-2,17.05e-2])\n",
      "#calculations\n",
      "Tx=1000./T\n",
      "logkp=numpy.log10(kp)\n",
      "slope, intercept = numpy.polyfit(Tx,logkp,1)\n",
      "dH=-slope*2.303*R*1000.\n",
      "dH0=dH-1.5*R*T\n",
      "dG1=-R*T*logkp[1]*2.303\n",
      "dGt=28720 #cal\n",
      "dGI=(dGt/1000. + 4.63)/2\n",
      "#results\n",
      "print '%s %d %s' %('Heat of dissociation = ',dH,'cal')\n",
      "print '%s %.2f %s' %('standard free energy of iodine atom = ',dGI,'kcal/mol')\n",
      "pyplot.plot(Tx,logkp)\n",
      "pyplot.xlabel('1000/T')\n",
      "pyplot.ylabel('log Kp')\n",
      "pyplot.title('Logarithm of Kp for dissociation of Iodine as a function of reciprocal temperature')\n",
      "pyplot.show()\n",
      "warnings.filterwarnings(\"ignore\")\n",
      "print 'The answers are a bit different due to rounding off error in textbook'"
     ],
     "language": "python",
     "metadata": {},
     "outputs": [
      {
       "output_type": "stream",
       "stream": "stdout",
       "text": [
        "Heat of dissociation =  37460 cal\n",
        "standard free energy of iodine atom =  16.68 kcal/mol\n"
       ]
      },
      {
       "metadata": {},
       "output_type": "display_data",
       "png": "[encoded data removed]",
       "text": [
        "<matplotlib.figure.Figure at 0x70f3750>"
       ]
      },
      {
       "output_type": "stream",
       "stream": "stdout",
       "text": [
        "The answers are a bit different due to rounding off error in textbook\n"
       ]
      }
     ],
     "prompt_number": 20
    },
    {
     "cell_type": "heading",
     "level": 2,
     "metadata": {},
     "source": [
      "Example 13 - pg 361"
     ]
    },
    {
     "cell_type": "code",
     "collapsed": false,
     "input": [
      "#calculate the Partial pressure\n",
      "#initialisation of variables\n",
      "import math\n",
      "T= 2000 #K\n",
      "P= 1 #atm\n",
      "G= 41438 #cal\n",
      "R= 1.987 #cal/mol K\n",
      "T2= 298.2 #K\n",
      "T1= 2000 #K\n",
      "H= 43200 #cal\n",
      "#CALCULATIONS\n",
      "Kp= 10**(-G/(2.303*R*T2))\n",
      "Kp1= Kp*10**(H*(T-T2)/(2.303*R*T1*T2))\n",
      "p= math.sqrt(Kp1*0.8*0.2)\n",
      "#RESULTS\n",
      "print '%s %.1e %s' % (' Partial pressure of NO =',p,'atm ')"
     ],
     "language": "python",
     "metadata": {},
     "outputs": [
      {
       "output_type": "stream",
       "stream": "stdout",
       "text": [
        " Partial pressure of NO = 7.7e-03 atm \n"
       ]
      }
     ],
     "prompt_number": 12
    },
    {
     "cell_type": "heading",
     "level": 2,
     "metadata": {},
     "source": [
      "Example 15 - pg 368"
     ]
    },
    {
     "cell_type": "code",
     "collapsed": false,
     "input": [
      "#calculate the Temperature required\n",
      "#initialisation of variables\n",
      "G0 = 0 #cal\n",
      "G= 13200. #cal\n",
      "T1= 298.2\n",
      "H1= 23100. #cal\n",
      "#CALCULATIONS\n",
      "T= H1/((H1/T1)-(G/T1)+(G0/T1))\n",
      "#RESULTS\n",
      "print '%s %.1f %s' % (' Temperature =',T,' K ')\n"
     ],
     "language": "python",
     "metadata": {},
     "outputs": [
      {
       "output_type": "stream",
       "stream": "stdout",
       "text": [
        " Temperature = 695.8  K \n"
       ]
      }
     ],
     "prompt_number": 13
    },
    {
     "cell_type": "heading",
     "level": 2,
     "metadata": {},
     "source": [
      "Example 16 - pg 373"
     ]
    },
    {
     "cell_type": "code",
     "collapsed": false,
     "input": [
      "#calculate the Equilibrium constant\n",
      "#initialisation of variables\n",
      "T= 2000 #K\n",
      "R= 1.987 #cal /mol K\n",
      "G= 31160 #cal\n",
      "#CALULATIONS\n",
      "Kp= 10**(-G/(2.303*R*T))\n",
      "#RESULTS\n",
      "print '%s %.2e' % ('Equilibrium constant =',Kp  )\n"
     ],
     "language": "python",
     "metadata": {},
     "outputs": [
      {
       "output_type": "stream",
       "stream": "stdout",
       "text": [
        "Equilibrium constant = 3.94e-04\n"
       ]
      }
     ],
     "prompt_number": 14
    },
    {
     "cell_type": "heading",
     "level": 2,
     "metadata": {},
     "source": [
      "Example 17 - pg 373"
     ]
    },
    {
     "cell_type": "code",
     "collapsed": false,
     "input": [
      "#calculate the fraction of methane decomposed\n",
      "#initialisation of variables\n",
      "p= 0.08 #atm\n",
      "#CALCULATIONS\n",
      "a= (1-p)/(p+1)\n",
      "#RESULTS\n",
      "print '%s %.2f' % ('fraction =  ',a)\n"
     ],
     "language": "python",
     "metadata": {},
     "outputs": [
      {
       "output_type": "stream",
       "stream": "stdout",
       "text": [
        "fraction =   0.85\n"
       ]
      }
     ],
     "prompt_number": 15
    },
    {
     "cell_type": "heading",
     "level": 2,
     "metadata": {},
     "source": [
      "Example 18 - pg 374"
     ]
    },
    {
     "cell_type": "code",
     "collapsed": false,
     "input": [
      "#calculate the enthalpy of the reaction\n",
      "#initialisation of variables\n",
      "H= -57240. #cal\n",
      "T= 2257. #C\n",
      "Hh= -54.60 #cal\n",
      "Ho= -38.56 #cal\n",
      "HO= -57.08 #cal\n",
      "#CALCULATIONS\n",
      "H1= H-T*(2*Hh-2*Ho-HO)\n",
      "#RESULTS\n",
      "print '%s %.1f %s' % (' Enthalpy =',H1,'cal')\n",
      "print 'The answers in the textbook are a different due to a rounding off error '"
     ],
     "language": "python",
     "metadata": {},
     "outputs": [
      {
       "output_type": "stream",
       "stream": "stdout",
       "text": [
        " Enthalpy = -113665.0 cal\n",
        "The answers in the textbook are a different due to a rounding off error \n"
       ]
      }
     ],
     "prompt_number": 16
    },
    {
     "cell_type": "heading",
     "level": 2,
     "metadata": {},
     "source": [
      "Example 19 - pg 375"
     ]
    },
    {
     "cell_type": "code",
     "collapsed": false,
     "input": [
      "#calculate the Enthalpy\n",
      "#initialisation of variables\n",
      "H= -57797 #cal\n",
      "T= 25 #C\n",
      "Hh= 7.934 #cal\n",
      "Ho= -6.788 #cal\n",
      "HO= 6.912 #cal\n",
      "#CALCULATIONS\n",
      "H1= 2*H-(T+273.16)*(2*Hh+2*Ho-HO)\n",
      "#RESULTS\n",
      "print '%s %.1f %s' % (' Enthalpy =',H1,'cal ')\n",
      "print 'The answers in the textbook are a different due to a rounding off error '"
     ],
     "language": "python",
     "metadata": {},
     "outputs": [
      {
       "output_type": "stream",
       "stream": "stdout",
       "text": [
        " Enthalpy = -114216.5 cal \n",
        "The answers in the textbook are a different due to a rounding off error \n"
       ]
      }
     ],
     "prompt_number": 17
    }
   ],
   "metadata": {}
  }
 ]
}