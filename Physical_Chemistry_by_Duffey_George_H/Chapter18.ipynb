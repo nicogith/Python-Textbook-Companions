{
 "metadata": {
  "name": "",
  "signature": "sha256:63ceed8607dc113635851a8fc16e00b5a679fa077f828a47388aa54622bce4ae"
 },
 "nbformat": 3,
 "nbformat_minor": 0,
 "worksheets": [
  {
   "cells": [
    {
     "cell_type": "heading",
     "level": 1,
     "metadata": {},
     "source": [
      "Chapter 18 - Catalysis"
     ]
    },
    {
     "cell_type": "heading",
     "level": 2,
     "metadata": {},
     "source": [
      "Example 1 - pg 472"
     ]
    },
    {
     "cell_type": "code",
     "collapsed": false,
     "input": [
      "#calculate the Volume \n",
      "#Initialization of variables\n",
      "V1=0.284 #cm^3 /g\n",
      "V2=1.43 #cm^3 /g\n",
      "P1=142.4 #mm\n",
      "P2=760. #mm\n",
      "#calculations\n",
      "z=(1/V1 - 1/V2)/(1/P1 - 1/P2)\n",
      "invVm=1/V2 - z/P2\n",
      "Vm=1/invVm\n",
      "#results\n",
      "print '%s %.1f %s' %(\"Volume =\",Vm,\"cm^3/g\")\n",
      "print 'The answer in the textbook is a bit different due to rounding off error.'\n"
     ],
     "language": "python",
     "metadata": {},
     "outputs": [
      {
       "output_type": "stream",
       "stream": "stdout",
       "text": [
        "Volume = 20.5 cm^3/g\n",
        "The answer in the textbook is a bit different due to rounding off error.\n"
       ]
      }
     ],
     "prompt_number": 1
    },
    {
     "cell_type": "heading",
     "level": 2,
     "metadata": {},
     "source": [
      "Example 2 - pg 477"
     ]
    },
    {
     "cell_type": "code",
     "collapsed": false,
     "input": [
      "#calculate the total area\n",
      "#Initialization of variables\n",
      "Vm=2.86 #cc/g\n",
      "P=1 #atm\n",
      "R=82.06 #cm^3 atm/deg mol\n",
      "T=273.2 #deg\n",
      "N=6.023*10**23\n",
      "sigma=16.2*10**-16 #cm^2 /molecule\n",
      "#calculations\n",
      "n=P*Vm/(R*T)\n",
      "A=N*n*sigma\n",
      "#results\n",
      "print '%s %.2e %s' %(\"total area =\",A,\" cm^2 (g catalyst)^-1\")\n"
     ],
     "language": "python",
     "metadata": {},
     "outputs": [
      {
       "output_type": "stream",
       "stream": "stdout",
       "text": [
        "total area = 1.24e+05  cm^2 (g catalyst)^-1\n"
       ]
      }
     ],
     "prompt_number": 2
    }
   ],
   "metadata": {}
  }
 ]
}