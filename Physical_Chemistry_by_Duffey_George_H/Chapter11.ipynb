{
 "metadata": {
  "name": "",
  "signature": "sha256:00f3ac32d98b00732d6a51b0562de7dab713dab2a42986a603b1c1eafc01eefd"
 },
 "nbformat": 3,
 "nbformat_minor": 0,
 "worksheets": [
  {
   "cells": [
    {
     "cell_type": "heading",
     "level": 1,
     "metadata": {},
     "source": [
      "Chapter 11 - Condensed phases"
     ]
    },
    {
     "cell_type": "heading",
     "level": 2,
     "metadata": {},
     "source": [
      "Example 1 - pg 271"
     ]
    },
    {
     "cell_type": "code",
     "collapsed": false,
     "input": [
      "#calculate the Vapor Pressure\n",
      "#Initialization of variables\n",
      "A=7.6546\n",
      "B=1686.8\n",
      "T=60+273.2\n",
      "#calculations\n",
      "logP=A-B/T\n",
      "P=10**logP\n",
      "#results\n",
      "print '%s %.1f %s' %(\"Vapor Pressure =\",P,\"mm\")\n"
     ],
     "language": "python",
     "metadata": {},
     "outputs": [
      {
       "output_type": "stream",
       "stream": "stdout",
       "text": [
        "Vapor Pressure = 391.0 mm\n"
       ]
      }
     ],
     "prompt_number": 1
    },
    {
     "cell_type": "heading",
     "level": 2,
     "metadata": {},
     "source": [
      "Example 2 - pg 277"
     ]
    },
    {
     "cell_type": "code",
     "collapsed": false,
     "input": [
      "#calculate the change in C values\n",
      "#Initialization of variables\n",
      "alpha=4.92*10**-5 #deg**-1\n",
      "beta=7.85*10**-7 #atm**-1\n",
      "d=8.93 #g/cm**3\n",
      "T=298.15 #K\n",
      "#calculations\n",
      "dC=63.54*T*alpha**2 *1.987/(d*beta*82.06)\n",
      "#results\n",
      "print '%s %.3f %s' %(\"Change in c values = \",dC,\" cal/deg mol\")\n"
     ],
     "language": "python",
     "metadata": {},
     "outputs": [
      {
       "output_type": "stream",
       "stream": "stdout",
       "text": [
        "Change in c values =  0.158  cal/deg mol\n"
       ]
      }
     ],
     "prompt_number": 2
    }
   ],
   "metadata": {}
  }
 ]
}