{
 "metadata": {
  "name": "",
  "signature": "sha256:5f1e1e7eb1f2538f17f15df30e5829cbbc6f3ee52bddff3d767ce84c4a9e05f8"
 },
 "nbformat": 3,
 "nbformat_minor": 0,
 "worksheets": [
  {
   "cells": [
    {
     "cell_type": "heading",
     "level": 1,
     "metadata": {},
     "source": [
      "Chapter 12 : Dimensional and Model Analysis"
     ]
    },
    {
     "cell_type": "heading",
     "level": 2,
     "metadata": {},
     "source": [
      "Example 12.1 Page No : 260"
     ]
    },
    {
     "cell_type": "code",
     "collapsed": false,
     "input": [
      "import math \n",
      "\n",
      "#initialisation of variables\n",
      "d= 0.0625 \t#in\n",
      "sg= 0.91\n",
      "vs= 1.62\n",
      "ss= 7.85\n",
      "g= 981. \t#cm/sec**2\n",
      "\n",
      "#CALCULATIONS\n",
      "v= 4*(d*2.54/2)**2*(ss-sg)*g/(3*6*30.45*vs)\n",
      "\n",
      "#RESULTS\n",
      "print  'steady speed attained = %.4f ft/sec '%(v)\n"
     ],
     "language": "python",
     "metadata": {},
     "outputs": [
      {
       "output_type": "stream",
       "stream": "stdout",
       "text": [
        "steady speed attained = 0.1932 ft/sec \n"
       ]
      }
     ],
     "prompt_number": 1
    },
    {
     "cell_type": "heading",
     "level": 2,
     "metadata": {},
     "source": [
      "Example 12.3 Page No : 263"
     ]
    },
    {
     "cell_type": "code",
     "collapsed": false,
     "input": [
      "import math \n",
      "\n",
      "#initialisation of variables\n",
      "vs= 16. \t#ft/sec\n",
      "lm= 1. \t#ft\n",
      "l= 16. \t#ft\n",
      "R= 9.6 \t#lb\n",
      "ds= 64. \t#lb/ft**3\n",
      "dm= 62.4 \t#/lb/ft**3\n",
      "A= 40. \t#ft**2\n",
      "\n",
      "#CALCULATIONS\n",
      "vm= vs*math.sqrt(lm/l)\n",
      "rs= 0.0095*vm**1.9*A\n",
      "rw= R-rs\n",
      "Rw= rw*ds*(l/lm)**3/dm\n",
      "Rs= 0.009*vs**1.85*A*l**2\n",
      "R1= Rw+Rs\n",
      "\n",
      "#RESULTS\n",
      "print  'speed = %.f b ft/sec'%(vm)\n",
      "print  ' Total resistance = %.f lb '%(round(R1,-2))\n",
      "\n",
      "\n"
     ],
     "language": "python",
     "metadata": {},
     "outputs": [
      {
       "output_type": "stream",
       "stream": "stdout",
       "text": [
        "speed = 4 b ft/sec\n",
        " Total resistance = 33700 lb \n"
       ]
      }
     ],
     "prompt_number": 2
    },
    {
     "cell_type": "heading",
     "level": 2,
     "metadata": {},
     "source": [
      "Example 12.4 Page No : 264"
     ]
    },
    {
     "cell_type": "code",
     "collapsed": false,
     "input": [
      "import math \n",
      "\n",
      "#initialisation of variables\n",
      "H2= 0.75 \t#ft\n",
      "v1= 1. \t#ft/sec\n",
      "v2= 6. \t#ft/sec\n",
      "k= 1.433\n",
      "\n",
      "#CALCULATIONS\n",
      "H1= H2*(v1/v2)**(2./3)\n",
      "Q1= k*H1**2.47\n",
      "Q2= Q1*(H2/H1)**2.5\n",
      "\n",
      "#RESULTS\n",
      "print  'Flow = %.3f cuses '%(Q2 )\n"
     ],
     "language": "python",
     "metadata": {},
     "outputs": [
      {
       "output_type": "stream",
       "stream": "stdout",
       "text": [
        "Flow = 0.730 cuses \n"
       ]
      }
     ],
     "prompt_number": 3
    },
    {
     "cell_type": "heading",
     "level": 2,
     "metadata": {},
     "source": [
      "Example 12.5 Page No : 265"
     ]
    },
    {
     "cell_type": "code",
     "collapsed": false,
     "input": [
      "import math \n",
      "\n",
      "#initialisation of variables\n",
      "nm= 360.\n",
      "d= 1.5 \t#in\n",
      "n= 100. \n",
      "dp= 12. \t#in\n",
      "vm= 4.8 \t#ft/sec\n",
      "Tm= 52. \t#sec\n",
      "T= 16. \t#lb-ft\n",
      "t= 133. \t#lb ft\n",
      "\n",
      "#CALCULATIONS\n",
      "vp= n*dp*vm/(nm*d)\n",
      "Tp= round(Tm*dp**2*vp**2/(d**2*vm**2),-2)\n",
      "N= Tm*vm*6080*100/(T*2*math.pi*nm*60)\n",
      "W= Tp*65000\n",
      "T1= W/(.7*2*math.pi*n*60)\n",
      "\n",
      "\n",
      "#RESULTS\n",
      "print  'Speed of advance = %.2f knots '%(vp)\n",
      "print  ' Thrust = %.f lb '%(Tp)\n",
      "print  ' Efficiency = %.f per cent '%(N)\n",
      "print  ' Torque = %.f lb ft '%(round(T1,-2))\n",
      "\n"
     ],
     "language": "python",
     "metadata": {},
     "outputs": [
      {
       "output_type": "stream",
       "stream": "stdout",
       "text": [
        "Speed of advance = 10.67 knots \n",
        " Thrust = 16400 lb \n",
        " Efficiency = 70 per cent \n",
        " Torque = 40400 lb ft \n"
       ]
      }
     ],
     "prompt_number": 1
    },
    {
     "cell_type": "heading",
     "level": 2,
     "metadata": {},
     "source": [
      "Example 12.6 Page No : 267"
     ]
    },
    {
     "cell_type": "code",
     "collapsed": false,
     "input": [
      "import math \n",
      "\n",
      "#initialisation of variables\n",
      "w= 62.4 \t#lb/ft**3\n",
      "d= 4 \t#in\n",
      "D= 0.0765 \t#lb/ft**3\n",
      "Da= 8 \t#in\n",
      "vw= 1./13\n",
      "nw= 20\n",
      "va= 13 \t#ft/sec\n",
      "\n",
      "#CALCULATIONS\n",
      "na= nw*va*d**2/Da**2\n",
      "\n",
      "#RESULTS\n",
      "print  'power = %.f r.p.m '%(na)\n"
     ],
     "language": "python",
     "metadata": {},
     "outputs": [
      {
       "output_type": "stream",
       "stream": "stdout",
       "text": [
        "power = 65 r.p.m \n"
       ]
      }
     ],
     "prompt_number": 5
    },
    {
     "cell_type": "heading",
     "level": 2,
     "metadata": {},
     "source": [
      "Example 12.7 Page No : 269"
     ]
    },
    {
     "cell_type": "code",
     "collapsed": false,
     "input": [
      "import math \n",
      "\n",
      "#initialisation of variables\n",
      "dtp= 120. \t#in\n",
      "dpd= 48. \t#in\n",
      "vim= 1.25 \t#ft/sec\n",
      "vip= 5. \t#ft/sec\n",
      "lp = 600. \t#ft\n",
      "lm= 40.  \t#ft\n",
      "\n",
      "#CALCULATIONS\n",
      "Rm= (dtp/dpd)**2/((lp/lm)*(vim/vip)**2)\n",
      "d= math.sqrt(4*Rm)\n",
      "\n",
      "#RESULTS\n",
      "print  'Diameter = %.2f in '%(d)\n"
     ],
     "language": "python",
     "metadata": {},
     "outputs": [
      {
       "output_type": "stream",
       "stream": "stdout",
       "text": [
        "Diameter = 5.16 in \n"
       ]
      }
     ],
     "prompt_number": 13
    }
   ],
   "metadata": {}
  }
 ]
}