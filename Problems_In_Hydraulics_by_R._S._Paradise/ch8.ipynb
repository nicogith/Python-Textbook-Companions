{
 "metadata": {
  "name": "",
  "signature": "sha256:35125badba4aaa9b528697efd91fa6b7acc4c2f1f63bb28106c08928483bd0b9"
 },
 "nbformat": 3,
 "nbformat_minor": 0,
 "worksheets": [
  {
   "cells": [
    {
     "cell_type": "heading",
     "level": 1,
     "metadata": {},
     "source": [
      "Chapter 8 :Viscosity and Viscous Flow"
     ]
    },
    {
     "cell_type": "heading",
     "level": 2,
     "metadata": {},
     "source": [
      "Example 8.1 Page No : 157"
     ]
    },
    {
     "cell_type": "code",
     "collapsed": false,
     "input": [
      "\n",
      "import math \n",
      "\n",
      "#initialisation of variables\n",
      "v= 10.01 \t#poise velocity\n",
      "g= 32.2 \t#ft/sec**2\n",
      "d= 30.48 \t#cm\n",
      "w= 453.6 \t#gm\n",
      "\n",
      "#CALCULATIONS\n",
      "M= round(v*d/w,3)\n",
      "F= M/g\n",
      "\n",
      "#RESULTS\n",
      "print  'Pound in unit of mass = %.3f lb/ft sec absolute units'%(M)\n",
      "print  ' Pound in unit of force = %.4f slugs/ft sec'%(F)\n"
     ],
     "language": "python",
     "metadata": {},
     "outputs": [
      {
       "output_type": "stream",
       "stream": "stdout",
       "text": [
        "Pound in unit of mass = 0.673 lb/ft sec absolute units\n",
        " Pound in unit of force = 0.0209 slugs/ft sec\n"
       ]
      }
     ],
     "prompt_number": 1
    },
    {
     "cell_type": "heading",
     "level": 2,
     "metadata": {},
     "source": [
      "Example 8.2 Page No : 157"
     ]
    },
    {
     "cell_type": "code",
     "collapsed": false,
     "input": [
      "import math \n",
      "\n",
      "#initialisation of variables\n",
      "W= 20.   \t#tons/hr oil\n",
      "l= 1000. \t#ft long\n",
      "w= 57.   \t#lb/ft**3 weighs\n",
      "kv= 0.0205 \t#ft**2/sec kinematic viscisity\n",
      "d= 6.    \t#in diameter\n",
      "g= 32.2 \t#ft/sec**2\n",
      "\n",
      "#CALCULATIONS\n",
      "Q= W*2240/(3600*w)\n",
      "A= math.pi*(d/12)**2/4\n",
      "v= Q/A\n",
      "R= v*(d/12)/kv\n",
      "n= w*kv/g\n",
      "P= 32*v*n*l/((d/12)**2*w)\n",
      "HP= P*2240*W/(3600*500)\n",
      "\n",
      "#RESULTS\n",
      "print  'Reynolds number = %.1f '%(R)\n",
      "print  ' H.P required = %.2f hp'%(HP)\n",
      "\n",
      "#The answer is a bit different due to rounding off error in textbook\n",
      "\n"
     ],
     "language": "python",
     "metadata": {},
     "outputs": [
      {
       "output_type": "stream",
       "stream": "stdout",
       "text": [
        "Reynolds number = 27.1 \n",
        " H.P required = 2.26 hp\n"
       ]
      }
     ],
     "prompt_number": 2
    },
    {
     "cell_type": "heading",
     "level": 2,
     "metadata": {},
     "source": [
      "Example 8.4 Page No : 159"
     ]
    },
    {
     "cell_type": "code",
     "collapsed": false,
     "input": [
      "import math \n",
      "\n",
      "#initialisation of variables\n",
      "n= 0.0067 \t#poise\n",
      "l= 10. \t#ft length\n",
      "w= 62. \t#lb/ft**3 density\n",
      "d= 1. \t#in\n",
      "Q= 2. \t#ft**2/sec\n",
      "sm= 13.57\n",
      "k1= 0.003\n",
      "k2= 0.0725\n",
      "r= 0.3\n",
      "g= 32.2 \t#ft/sec**2\n",
      "\n",
      "#CALCULATIONS\n",
      "n1= n*30.48/453.6\n",
      "v= Q*4/(60*math.pi*(d/12)**2)\n",
      "RN= v*(d/12)*w/n1\n",
      "f= k1+(k2/RN**r)\n",
      "hf= 4*f*l*v**2/(2*g*(d/12))\n",
      "hl= hf*12/sm\n",
      "\n",
      "#RESULTS\n",
      "print  'Head lost in inches of mercury = %.2f in'%(hl)\n"
     ],
     "language": "python",
     "metadata": {},
     "outputs": [
      {
       "output_type": "stream",
       "stream": "stdout",
       "text": [
        "Head lost in inches of mercury = 1.37 in\n"
       ]
      }
     ],
     "prompt_number": 3
    },
    {
     "cell_type": "heading",
     "level": 2,
     "metadata": {},
     "source": [
      "Example 8.5 Page No : 160"
     ]
    },
    {
     "cell_type": "code",
     "collapsed": false,
     "input": [
      "import math \n",
      "\n",
      "#initialisation of variables\n",
      "n= 0.91 \t#poise\n",
      "g= 32.2 \t#ft/sec\n",
      "N= 300. \t#r.p.m\n",
      "t= 0.01 \t#in\n",
      "r1= 0.25 \t#ft\n",
      "r2= 1./6 \t#ft\n",
      "\n",
      "#CALCULATIONS\n",
      "n1= n*30.48/(454*g)\n",
      "A= N*2*math.pi/60\n",
      "t1= t/12\n",
      "hp= math.pi*A**2*n1*(r1**4-r2**4)/(t1*1100)\n",
      "\n",
      "#RESULTS\n",
      "print  'Horse Power lost = %.4f '%(hp)\n"
     ],
     "language": "python",
     "metadata": {},
     "outputs": [
      {
       "output_type": "stream",
       "stream": "stdout",
       "text": [
        "Horse Power lost = 0.0201 \n"
       ]
      }
     ],
     "prompt_number": 1
    },
    {
     "cell_type": "heading",
     "level": 2,
     "metadata": {},
     "source": [
      "Example 8.6 Page No : 162"
     ]
    },
    {
     "cell_type": "code",
     "collapsed": false,
     "input": [
      "import math \n",
      "\n",
      "#initialisation of variables\n",
      "vw= 0.3 \t#ft/sec\n",
      "dw= 1.  \t#in\n",
      "da= 12. \t#in\n",
      "ww= 62.3 \t#lb/ft**3\n",
      "wa= 0.075 \t#lb/ft**3\n",
      "nw= 0.01 \t#poise\n",
      "na= 0.00018 \t#poise\n",
      "\n",
      "#CALCULATIONS\n",
      "va= vw*dw*ww*na/(nw*da*wa)\n",
      "\n",
      "#RESULTS\n",
      "print  'critical velocity of air = %.3f ft/sec'%(va)\n"
     ],
     "language": "python",
     "metadata": {},
     "outputs": [
      {
       "output_type": "stream",
       "stream": "stdout",
       "text": [
        "critical velocity of air = 0.374 ft/sec\n"
       ]
      }
     ],
     "prompt_number": 5
    },
    {
     "cell_type": "heading",
     "level": 2,
     "metadata": {},
     "source": [
      "Example 8.7 Page No : 162"
     ]
    },
    {
     "cell_type": "code",
     "collapsed": false,
     "input": [
      "import math \n",
      "\n",
      "#initialisation of variables\n",
      "dm= 0.75 \t#in\n",
      "dt= 0.25 \t#in\n",
      "dP= 10.4 \t#lb/in**2\n",
      "rd= 0.84\n",
      "w= 62.4 \t#lb/ft**3\n",
      "g= 32.2 \t#ft/sec**2\n",
      "\n",
      "#CALCULATIONS\n",
      "v1= math.sqrt(dP*144*g/(rd*w*((dm/dt)**4-1)))\n",
      "Q= math.pi*dm**2*v1*60*w/(4*144*10)\n",
      "\n",
      "#RESULTS\n",
      "print  'Discharge rate = %.1f gal.min'%(Q)\n"
     ],
     "language": "python",
     "metadata": {},
     "outputs": [
      {
       "output_type": "stream",
       "stream": "stdout",
       "text": [
        "Discharge rate = 3.9 gal.min\n"
       ]
      }
     ],
     "prompt_number": 6
    }
   ],
   "metadata": {}
  }
 ]
}