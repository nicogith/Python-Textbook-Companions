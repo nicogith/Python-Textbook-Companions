{
 "metadata": {
  "name": "",
  "signature": "sha256:54b93ceee4137049e1ed8024ecd6ba8e7f6645f46f71063561c8d2f8b4589ff2"
 },
 "nbformat": 3,
 "nbformat_minor": 0,
 "worksheets": [
  {
   "cells": [
    {
     "cell_type": "heading",
     "level": 1,
     "metadata": {},
     "source": [
      "Chapter 10 : Hydraulic Prime Movers"
     ]
    },
    {
     "cell_type": "heading",
     "level": 2,
     "metadata": {},
     "source": [
      "Example 10.1 Page No : 188"
     ]
    },
    {
     "cell_type": "code",
     "collapsed": false,
     "input": [
      "\n",
      "import math \n",
      "\n",
      "#initialisation of variables\n",
      "v= 231. \t#ft/sec\n",
      "g= 32.2 \t#ft/sec**2\n",
      "vc= 0.97\n",
      "r= 0.47\n",
      "p= 85.  \t#per cent\n",
      "A= 170. \t#degrees\n",
      "p1= 88. \t#per cent\n",
      "l= 950. \t#ft\n",
      "\n",
      "#CALCULATIONS\n",
      "H= v**2/(vc**2*2*g)\n",
      "u= r*v\n",
      "vr= v-u\n",
      "vr1= p*vr/100\n",
      "w1= u-vr1*math.cos(math.radians(180-A))\n",
      "W= u*(v-w1)/g\n",
      "he= W*100/H\n",
      "W1= p1*W/100\n",
      "oe= W1*100/l\n",
      "\n",
      "#RESULTS\n",
      "print  'hydraulic efficiency = %.f percent'%(he)\n",
      "print  ' overall efficiency = %.1f percent'%(oe)\n"
     ],
     "language": "python",
     "metadata": {},
     "outputs": [
      {
       "output_type": "stream",
       "stream": "stdout",
       "text": [
        "hydraulic efficiency = 86 percent\n",
        " overall efficiency = 70.2 percent\n"
       ]
      }
     ],
     "prompt_number": 1
    },
    {
     "cell_type": "heading",
     "level": 2,
     "metadata": {},
     "source": [
      "Example 10.2 Page No : 189"
     ]
    },
    {
     "cell_type": "code",
     "collapsed": false,
     "input": [
      "\n",
      "import math \n",
      "\n",
      "#initialisation of variables\n",
      "d= 1.    \t#in\n",
      "v= 95.   \t#ft/sec\n",
      "F= 173.2 \t#lb\n",
      "A= 163.  \t#degrees\n",
      "H= 500.  \t#ft\n",
      "Cv= 0.97\n",
      "d1= 1.33 \t#ft\n",
      "r= 0.47\n",
      "w= 62.4 \t#lb/ft**3\n",
      "g= 32.2 \t#ft/sec**2\n",
      "\n",
      "#CALCULATIONS\n",
      "Q= w*math.pi*v/(144*4)\n",
      "k= (F-v)/(v*math.cos(math.radians(180-A)))\n",
      "v1= Cv*math.sqrt(2*g*H)\n",
      "W= v1*w*d**2*math.pi/(4*144)\n",
      "N= 60*r*v1/(math.pi*d1)\n",
      "whp= (v1-v)*(1+k*math.cos(math.radians(180-A)))*v1*2/550\n",
      "Ns= N*whp**0.5/H**1.25\n",
      "\n",
      "#RESULTS\n",
      "print  'specific speed = %.2f r.p.m'%(Ns)\n"
     ],
     "language": "python",
     "metadata": {},
     "outputs": [
      {
       "output_type": "stream",
       "stream": "stdout",
       "text": [
        "specific speed = 4.75 r.p.m\n"
       ]
      }
     ],
     "prompt_number": 2
    },
    {
     "cell_type": "heading",
     "level": 2,
     "metadata": {},
     "source": [
      "Example 10.4 Page No : 192"
     ]
    },
    {
     "cell_type": "code",
     "collapsed": false,
     "input": [
      "import math \n",
      "\n",
      "#initialisation of variables\n",
      "D= 2. \t#ft\n",
      "f= 0.005\n",
      "l= 10000. \t#ft\n",
      "g= 32.2 \t#ft/sec**2\n",
      "H= 1000. \t#ft\n",
      "w= 62.4 \t#lb/ft**3\n",
      "\n",
      "#CALCULATIONS\n",
      "d= (2*D**5/(f*l))**0.25\n",
      "v= math.sqrt(8*g*H*D**5/(f*l*d**4+4*D**5))\n",
      "HP= w*math.pi*d**2*v**3/(2*g*550*4)\n",
      "Q= math.pi*d**2*(HP/67)/4\n",
      "\n",
      "#RESULTS\n",
      "print  'Quantity flowing = %.f cusecs'%(Q)\n",
      "\n",
      "# rounding off error\n"
     ],
     "language": "python",
     "metadata": {},
     "outputs": [
      {
       "output_type": "stream",
       "stream": "stdout",
       "text": [
        "Quantity flowing = 185 cusecs\n"
       ]
      }
     ],
     "prompt_number": 1
    },
    {
     "cell_type": "heading",
     "level": 2,
     "metadata": {},
     "source": [
      "Example 10.5 Page No : 193"
     ]
    },
    {
     "cell_type": "code",
     "collapsed": false,
     "input": [
      "\n",
      "import math \n",
      "\n",
      "#initialisation of variables\n",
      "pl= 122.5 \t# ft\n",
      "Hw= 1225 \t#ft\n",
      "g= 32.2 \t#ft/sec**2\n",
      "Cd= 0.98\n",
      "Cd1= 0.45\n",
      "N= 500. \t#r.p.m\n",
      "P= 6800. \t#h.p\n",
      "n= 0.86\n",
      "w= 62.4 \t#lb/ft**2\n",
      "l= 5450. \t#ft\n",
      "f= 0.005\n",
      "A= 18.   \t#ft**2\n",
      "\n",
      "#CALCULATIONS\n",
      "Ah= Hw-pl\n",
      "js= Cd*math.sqrt(2*g*Ah)\n",
      "bs= Cd1*js\n",
      "D= bs*60*2/(N*2*math.pi)\n",
      "a=  P*2*g*550*144/(n*w*js**3*2)\n",
      "vp= math.sqrt(pl*2*g/(4*f*l))\n",
      "dp= (js*2*4*A/(math.pi*144*vp))**(2./3)\n",
      "dp=2.495 \t#ft\n",
      "\n",
      "#RESULTS\n",
      "print  'diameter of bucket circle D = %.1f ft'%(D)\n",
      "print  ' area of jet = %.f in**2'%(a)\n",
      "print  ' diameter of pipe = %.1f ft'%(dp)\n"
     ],
     "language": "python",
     "metadata": {},
     "outputs": [
      {
       "output_type": "stream",
       "stream": "stdout",
       "text": [
        "diameter of bucket circle D = 4.5 ft\n",
        " area of jet = 18 in**2\n",
        " diameter of pipe = 2.5 ft\n"
       ]
      }
     ],
     "prompt_number": 4
    },
    {
     "cell_type": "heading",
     "level": 2,
     "metadata": {},
     "source": [
      "Example 10.6 Page No : 194"
     ]
    },
    {
     "cell_type": "code",
     "collapsed": false,
     "input": [
      "\n",
      "import math \n",
      "\n",
      "#initialisation of variables\n",
      "u= 10.*math.pi \t#ft/sec\n",
      "u1= 5.*math.pi \t#ft/sec\n",
      "a= 20. \t#degrees\n",
      "A= 300. \t#r.p.m\n",
      "v= 10. \t#ft/sec\n",
      "g= 32.2 \t#ft/sec**2\n",
      "wi= 2. \t#ft\n",
      "d= 6. \t#in\n",
      "w1= 62.4 \t#lb/ft**3\n",
      "\n",
      "#CALCULATIONS\n",
      "w= v/math.tan(math.radians(a))\n",
      "a1= math.degrees(math.atan((v/(u-w))))\n",
      "b= math.degrees(math.atan((v/u1)))\n",
      "W= u*w/g\n",
      "A1= math.pi*wi*d/12\n",
      "Q= A1*v\n",
      "WHP= W*Q*w1/550\n",
      "\n",
      "#RESULTS\n",
      "print  'Blade angle at inlet is given by = %.2f degrees'%(a1)\n",
      "print  ' Blade angle at inlet is given by = %.2f degrees'%(b)\n",
      "print  ' Water horse power = %.1f h.p'%(WHP)\n",
      "\n",
      "# rounding off error"
     ],
     "language": "python",
     "metadata": {},
     "outputs": [
      {
       "output_type": "stream",
       "stream": "stdout",
       "text": [
        "Blade angle at inlet is given by = 68.49 degrees\n",
        " Blade angle at inlet is given by = 32.48 degrees\n",
        " Water horse power = 95.5 h.p\n"
       ]
      }
     ],
     "prompt_number": 13
    },
    {
     "cell_type": "heading",
     "level": 2,
     "metadata": {},
     "source": [
      "Example 10.7 Page No : 196"
     ]
    },
    {
     "cell_type": "code",
     "collapsed": false,
     "input": [
      "import math \n",
      "\n",
      "#initialisation of variables\n",
      "g= 32.2 \t#ft/sec**2\n",
      "H= 100. \t#ft\n",
      "a= 25. \t#degrees\n",
      "a1= 20. \t#degrees\n",
      "r1= 9./8\n",
      "r2= 0.2\n",
      "u= 6.63 \t#ft/sec\n",
      "w= 62.4 \t#lb/ft**3\n",
      "h1= 34. \t#ft\n",
      "h2= 100. \t#ft\n",
      "r= 0.1\n",
      "\n",
      "#CALCULATIONS\n",
      "f= math.sqrt(H*g/((r1*1/math.tan(math.radians(a))*1/math.tan(math.radians(a1)))+r1*0.5+(r1*0.5**2*0.2/(math.sin(math.radians(a)))**2)+0.1/(math.sin(math.radians(a1+10)))**2))\n",
      "W= u*f**2/g\n",
      "q= a*H*550/(10*W*w)\n",
      "q1= q/w\n",
      "A= q/f\n",
      "dh= h1+h2-((1+r)*f**2/((math.sin(math.radians(a1)))**2*2*g))\n",
      "\n",
      "#RESULTS\n",
      "print  'f = %.1f ft/sec'%(f)\n",
      "print  ' Work Done = %.1f ft-lb/lb'%(W)\n",
      "print  ' Quantity flow = %.1f cusecs'%(q)\n",
      "print  ' Area form guides = %.3f ft**2'%(A)\n",
      "print  ' Pressure at entry of level = %.1f ft of water'%(dh)\n",
      "\n",
      "#The answer is a bit different due to rounding off error in textbook\n",
      "\n"
     ],
     "language": "python",
     "metadata": {},
     "outputs": [
      {
       "output_type": "stream",
       "stream": "stdout",
       "text": [
        "f = 20.2 ft/sec\n",
        " Work Done = 83.9 ft-lb/lb\n",
        " Quantity flow = 26.3 cusecs\n",
        " Area form guides = 1.302 ft**2\n",
        " Pressure at entry of level = 74.5 ft of water\n"
       ]
      }
     ],
     "prompt_number": 7
    },
    {
     "cell_type": "heading",
     "level": 2,
     "metadata": {},
     "source": [
      "Example 10.8 Page No : 199"
     ]
    },
    {
     "cell_type": "code",
     "collapsed": false,
     "input": [
      "\n",
      "import math \n",
      "#initialisation of variables\n",
      "d= 8. \t#in\n",
      "w= 2. \t#in\n",
      "di= 12. \t#in\n",
      "wi= 3. \t#in\n",
      "a= 24. \t#degrees\n",
      "p= 88. \t#per cent\n",
      "a1= 85. \t#degrees\n",
      "a2= 30. \t#degrees\n",
      "p1= 94. \t#per cent\n",
      "h= 180. \t#ft\n",
      "d1= 18. \t#in\n",
      "Cd= 0.92\n",
      "g=32.2\n",
      "n1= 111. \t#rpm\n",
      "\n",
      "#calculations\n",
      "r1= 1./math.tan(math.radians(a))\n",
      "r2= (1./math.tan(math.radians(a1)))+r1\n",
      "r3= 2*r2/3\n",
      "r4= (1/math.tan(math.radians(a2)))-r3\n",
      "a3= math.tan(math.radians(1/r4))\n",
      "r5= math.sin(math.radians(a3))\n",
      "f= math.sqrt(g*h*(p/100.)/(r1*r2+r3*r4+(r5**2/2)))\n",
      "A= r2*f/(d/12)\n",
      "N= (A*60/(2*math.pi))-n1\n",
      "W= (r1*r2+r3*r4)*f**2/g\n",
      "Q= math.pi*(d1/12)*(w/12)*Cd*f*62.08\n",
      "whp= W*Q/550\n",
      "bhp= p1*whp/100\n",
      "\n",
      "#RESULTS\n",
      "print  'Speed = %.f rpm'%(N)\n",
      "print  ' output horsepower = %.f hp'%(bhp)\n",
      "\n",
      "# slightly change in r1,r2,r3 and that leads to some error in answer. Please check manually."
     ],
     "language": "python",
     "metadata": {},
     "outputs": [
      {
       "output_type": "stream",
       "stream": "stdout",
       "text": [
        "Speed = 905 rpm\n",
        " output horsepower = 369 hp\n"
       ]
      }
     ],
     "prompt_number": 16
    },
    {
     "cell_type": "heading",
     "level": 2,
     "metadata": {},
     "source": [
      "Example 10.9 Page No : 201"
     ]
    },
    {
     "cell_type": "code",
     "collapsed": false,
     "input": [
      "\n",
      "import math \n",
      "\n",
      "#initialisation of variables\n",
      "N= 428.6 \t#r.p.m\n",
      "D= 5.    \t#ft\n",
      "w= 62.4 \t#lb/ft**3\n",
      "hp= 16800. \t#hp\n",
      "Qw= 435. \t#cuses\n",
      "g= 32.2 \t#ft/sec**2\n",
      "v= 32. \t#ft/sec\n",
      "v1= 24. \t#f/sec\n",
      "H= 200. \t#ft\n",
      "lh1= 0.32 \t#ft lb/lb\n",
      "\n",
      "#CALCULATIONS\n",
      "u= math.pi*D*N/60\n",
      "W= hp*550/(Qw*w)\n",
      "w= W*g/u\n",
      "a= math.radians(math.tan(v/w))\n",
      "va= math.sqrt(w**2+v**2)\n",
      "b= math.radians(math.tan(v/(u-w)))\n",
      "B= 180-b\n",
      "vew= va**2/(2*g)\n",
      "ve1w= v1**2/(2*g)\n",
      "LH= H+vew-ve1w-W+lh1\n",
      "\n",
      "#RESULTS\n",
      "print  ' Absolute velocity at entry to runner = %.1f ft/sec'%(va)\n",
      "print  ' Loss of head in runner = %.2f ft lb/lb'%(LH)\n"
     ],
     "language": "python",
     "metadata": {},
     "outputs": [
      {
       "output_type": "stream",
       "stream": "stdout",
       "text": [
        " Absolute velocity at entry to runner = 102.8 ft/sec\n",
        " Loss of head in runner = 15.05 ft lb/lb\n"
       ]
      }
     ],
     "prompt_number": 1
    },
    {
     "cell_type": "heading",
     "level": 2,
     "metadata": {},
     "source": [
      "Example 10.10 Page No : 203"
     ]
    },
    {
     "cell_type": "code",
     "collapsed": false,
     "input": [
      "\n",
      "import math \n",
      "\n",
      "\n",
      "#initialisation of variables\n",
      "A1= 25. \t#degrees\n",
      "A2= 80. \t#degrees\n",
      "H1= 100. \t#ft\n",
      "H2= 13. \t#ft\n",
      "g= 32.2 \t#ft/sec**2\n",
      "v= 8. \t#ft/sec\n",
      "d= 3.5 \t#in\n",
      "de= 15.4 \t#in\n",
      "b= 1.5 \t#in\n",
      "w= 62.4 \t#lb/ft**3\n",
      "\n",
      "#CALCULATIONS\n",
      "W= H1-H2-(v**2/(2*g))\n",
      "f= math.sqrt(W*g/(1/math.tan(math.radians(A1))*(1/math.tan(math.radians(A1))-1/math.tan(math.radians(A2)))))\n",
      "u= f*(1/math.tan(math.radians(A1))-1/math.tan(math.radians(A2)))\n",
      "V= d*u/7.7\n",
      "r= math.degrees(math.atan(f/V))\n",
      "N= 60*u*12/(math.pi*de)\n",
      "Q= math.pi*de*f*b/144\n",
      "HP= Q*w*W/550\n",
      "Ns= N*math.sqrt(HP)/H1**1.25\n",
      "di= math.sqrt(Q*4*144/(math.pi*f))\n",
      "\n",
      "#RESULTS\n",
      "print  'angle = %.f degrees'%(r)\n",
      "print \" Angular speed = %.1f rpm\"%(Ns)\n",
      "print  ' inlet diameter to draft tube = %.2f in'%(di)\n",
      "\n"
     ],
     "language": "python",
     "metadata": {},
     "outputs": [
      {
       "output_type": "stream",
       "stream": "stdout",
       "text": [
        "angle = 48 degrees\n",
        " Angular speed = 26.6 rpm\n",
        " inlet diameter to draft tube = 9.61 in\n"
       ]
      }
     ],
     "prompt_number": 2
    },
    {
     "cell_type": "heading",
     "level": 2,
     "metadata": {},
     "source": [
      "Example 10.12 Page No : 207"
     ]
    },
    {
     "cell_type": "code",
     "collapsed": false,
     "input": [
      "import math \n",
      "\n",
      "#initialisation of variables\n",
      "H= 82.1 \t#ft\n",
      "h= 90.   \t#ft\n",
      "k= 0.00646\n",
      "k1= 0.00454\n",
      "vd= 11.  \t#ft/sec\n",
      "P= 0.53 \t#hp\n",
      "\n",
      "#CALCULATIONS\n",
      "Q= math.sqrt((1/k))*math.sqrt(h-H)\n",
      "Qu= Q/math.sqrt(H)\n",
      "Q1= math.sqrt(vd/k1)\n",
      "hf= Q1**2*k\n",
      "Qu1= Q1/math.sqrt(h-hf)\n",
      "Pu= P*(h-hf)**1.5\n",
      "\n",
      "#RESULTS\n",
      "print  'Qu = %.2f cuses'%(Qu)\n",
      "print  ' Q = %.1f cuses'%(Q1)\n",
      "print  ' power Developed = %.f hp'%(Pu)\n",
      "\n",
      "\n",
      "# rounding off error"
     ],
     "language": "python",
     "metadata": {},
     "outputs": [
      {
       "output_type": "stream",
       "stream": "stdout",
       "text": [
        "Qu = 3.86 cuses\n",
        " Q = 49.2 cuses\n",
        " power Developed = 340 hp\n"
       ]
      }
     ],
     "prompt_number": 7
    }
   ],
   "metadata": {}
  }
 ]
}