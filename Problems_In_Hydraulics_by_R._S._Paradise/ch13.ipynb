{
 "metadata": {
  "name": "",
  "signature": "sha256:da0a57e05023d78d40f48e24ac486e01915e80a89fcf828d645acb89b5297ac2"
 },
 "nbformat": 3,
 "nbformat_minor": 0,
 "worksheets": [
  {
   "cells": [
    {
     "cell_type": "heading",
     "level": 1,
     "metadata": {},
     "source": [
      "Chapter 13 : Miscellaneous Problems"
     ]
    },
    {
     "cell_type": "heading",
     "level": 2,
     "metadata": {},
     "source": [
      "Example 13.1 Page No : 282"
     ]
    },
    {
     "cell_type": "code",
     "collapsed": false,
     "input": [
      "\n",
      "import math \n",
      "\n",
      "#initialisation of variables\n",
      "W= 5000 \t#lb\n",
      "vr= 6\n",
      "e= 0.95\n",
      "ep = 0.75\n",
      "d= 9 \t#in\n",
      "D= 45 \t#ft\n",
      "t= 2 \t#min\n",
      "v= 4.5 \t#ft/sec\n",
      "\n",
      "#CALCULATIONS\n",
      "L= W*vr/(e*ep)\n",
      "Pr= L/(math.pi*d**2/4)\n",
      "s= D/vr\n",
      "V= s*math.pi*ep**2/(4*t*60)\n",
      "T= D/v\n",
      "V1= s*math.pi*ep**2/4\n",
      "V2= V*T\n",
      "V3= V1-V2\n",
      "\n",
      "#RESULTS\n",
      "print  'Pressure on ram = %.f ln/in**2 '%(Pr)\n",
      "print ' Pump duty = %.4f cusec'%(V)\n",
      "print  ' Minimum capacity if accumulator = %.3f ft**3 '%(round(V3))\n",
      "\n",
      "# rounding off error"
     ],
     "language": "python",
     "metadata": {},
     "outputs": [
      {
       "output_type": "stream",
       "stream": "stdout",
       "text": [
        "Pressure on ram = 662 ln/in**2 \n",
        " Pump duty = 0.0258 cusec\n",
        " Minimum capacity if accumulator = 3.000 ft**3 \n"
       ]
      }
     ],
     "prompt_number": 2
    },
    {
     "cell_type": "heading",
     "level": 2,
     "metadata": {},
     "source": [
      "Example 13.2 Page No : 283"
     ]
    },
    {
     "cell_type": "code",
     "collapsed": false,
     "input": [
      "\n",
      "import math \n",
      "\n",
      "#initialisation of variables\n",
      "P1= 1100. \t#lb/in**2\n",
      "P2= 85. \t#lb/in**2\n",
      "f= 0.01\n",
      "g= 32.2 \t#ft/sec**2\n",
      "l= 1600. \t#ft\n",
      "r= 1./8\n",
      "W= 2500. \t#lb\n",
      "d= 6.    \t#in\n",
      "\n",
      "#CALCULATIONS\n",
      "L= W*d\n",
      "P= L*2.31/(math.pi*(d/2)**2)\n",
      "s1= P1*2540/1100\n",
      "s2= P2*196/85\n",
      "vp= math.sqrt((s1-s2-P)/(4*f*l/(2*g*r)))\n",
      "V= vp/16\n",
      "Vl= V*d\n",
      "Vp= math.sqrt((s1/3)/(4*f*l/(2*g*r)))\n",
      "vl= Vp*d/16\n",
      "Hr= s1-(s1/3)-s2\n",
      "Lr= Hr*math.pi*(d/2)**2/(2.31*d)\n",
      "\n",
      "#RESULTS\n",
      "print \"In case 1 velocity of load = %.2f ft/sec\"%(Vl)\n",
      "print \" In case 2 velocity of load = %.2f ft/sec\"%(vl)\n",
      "print  ' Load to be lifted = %d lb '%(Lr)\n",
      "\n",
      "# note : roundin off error"
     ],
     "language": "python",
     "metadata": {},
     "outputs": [
      {
       "output_type": "stream",
       "stream": "stdout",
       "text": [
        "In case 1 velocity of load = 4.45 ft/sec\n",
        " In case 2 velocity of load = 3.87 ft/sec\n",
        " Load to be lifted = 3054 lb \n"
       ]
      }
     ],
     "prompt_number": 5
    },
    {
     "cell_type": "heading",
     "level": 2,
     "metadata": {},
     "source": [
      "Example 13.3 Page No : 284"
     ]
    },
    {
     "cell_type": "code",
     "collapsed": false,
     "input": [
      "import math \n",
      "\n",
      "#initialisation of variables\n",
      "bhp= 1500 \t#h.p\n",
      "e= 0.86\n",
      "h1= 300 \t#ft\n",
      "h2= 15 \t#ft\n",
      "w= 62.4 \t#lb/ft**3\n",
      "t= 30 \t#days\n",
      "t1= 10 \t#hr\n",
      "t2= 3 \t#months\n",
      "f= 0.005\n",
      "l= 1000 \t#ft\n",
      "\n",
      "#CALCULATIONS\n",
      "WHP= bhp/e\n",
      "Ha= h1-h2\n",
      "W= WHP*550\n",
      "Q= W/(Ha*w)\n",
      "Qt= Q*36009*t1*t*t2\n",
      "Qp= Qt/(3600*t*45)\n",
      "d= (f*l*(Q/2)**2/(t1*h2))**(1./5)\n",
      "\n",
      "#RESULTS\n",
      "print \"Minimum size of basin required = %.1e cusecs\"%Qt\n",
      "print \"Pump Discharge : %.f cusecs\"%(Qp/10)\n",
      "print  'Diameter = %.2f ft '%(d)\n"
     ],
     "language": "python",
     "metadata": {},
     "outputs": [
      {
       "output_type": "stream",
       "stream": "stdout",
       "text": [
        "Minimum size of basin required = 1.7e+09 cusecs\n",
        "Pump Discharge : 36 cusecs\n",
        "Diameter = 1.89 ft \n"
       ]
      }
     ],
     "prompt_number": 1
    },
    {
     "cell_type": "heading",
     "level": 2,
     "metadata": {},
     "source": [
      "Example 13.4 Page No : 285"
     ]
    },
    {
     "cell_type": "code",
     "collapsed": false,
     "input": [
      "import math \n",
      "\n",
      "#initialisation of variables\n",
      "l= 140 \t#ft\n",
      "P= 70 \t#percent\n",
      "V= 3*10**8 \t#ft**3\n",
      "w= 62.4 \t#lb/ft**3\n",
      "SBD= 4.9*10**8 \t#ft**3\n",
      "Q= 162 \t#cuses\n",
      "s= 12.2*10**6 \t#ft**3/day\n",
      "\n",
      "#CALCULATIONS\n",
      "O= Q*w*l*(P/1000.)/550.\n",
      "\n",
      "#RESULTS\n",
      "print  'Size of reservoir= %.2e ft**3'%(SBD)\n",
      "print  ' output = %.f h.p '%(O)\n",
      "print  ' output = %d h.p '%(Q)\n",
      "\n",
      "# rounding off error"
     ],
     "language": "python",
     "metadata": {},
     "outputs": [
      {
       "output_type": "stream",
       "stream": "stdout",
       "text": [
        "Size of reservoir= 4.90e+08 ft**3\n",
        " output = 180 h.p \n",
        " output = 162 h.p \n"
       ]
      }
     ],
     "prompt_number": 7
    },
    {
     "cell_type": "heading",
     "level": 2,
     "metadata": {},
     "source": [
      "Example 13.5 Page No : 287"
     ]
    },
    {
     "cell_type": "code",
     "collapsed": false,
     "input": [
      "\n",
      "import math \n",
      "\n",
      "#initialisation of variables\n",
      "Q= 140 \t#cuses\n",
      "w= 62.4 \t#lb/ft**3\n",
      "l= 140 \t#ft\n",
      "P= 70 \t#percent\n",
      "k= 1.6\n",
      "v= 3*10**8\n",
      "\n",
      "#CALCULATIONS\n",
      "rv= k*v\n",
      "HP= Q*l*w*(P/1000.)/550.\n",
      "\n",
      "#RESULTS\n",
      "print  'Required size of reservoir = %.1e ft**3 '%(rv)\n",
      "print  ' horsepower = %.f h.p '%(HP)\n"
     ],
     "language": "python",
     "metadata": {},
     "outputs": [
      {
       "output_type": "stream",
       "stream": "stdout",
       "text": [
        "Required size of reservoir = 4.8e+08 ft**3 \n",
        " horsepower = 156 h.p \n"
       ]
      }
     ],
     "prompt_number": 6
    },
    {
     "cell_type": "heading",
     "level": 2,
     "metadata": {},
     "source": [
      "Example 13.6 Page No : 288"
     ]
    },
    {
     "cell_type": "code",
     "collapsed": false,
     "input": [
      "import math \n",
      "\n",
      "#initialisation of variables\n",
      "P= 10. \t#lb/in**2\n",
      "r1= 0.5 \t#ft\n",
      "r= 0.25 \t#ft\n",
      "f= 42.3 \t#ft/sec\n",
      "b= 1./40\n",
      "Tt= 1400. \t#lb\n",
      "\n",
      "#CALCULATIONS\n",
      "Q= 2*math.pi*r*b*f\n",
      "p1= 34+P\n",
      "Fu= p1*math.pi*(r-(r/4))*144/2.3\n",
      "Fr= Fu-Tt\n",
      "\n",
      "#RESULTS\n",
      "print  'Quantity = %.2f cusecs '%(Q)\n",
      "print  ' Resultant force on the plate = %.f lb '%(round(Fr,-1))\n",
      "\n"
     ],
     "language": "python",
     "metadata": {},
     "outputs": [
      {
       "output_type": "stream",
       "stream": "stdout",
       "text": [
        "Quantity = 1.66 cusecs \n",
        " Resultant force on the plate = 220 lb \n"
       ]
      }
     ],
     "prompt_number": 8
    },
    {
     "cell_type": "heading",
     "level": 2,
     "metadata": {},
     "source": [
      "Example 13.7 Page No : 289"
     ]
    },
    {
     "cell_type": "code",
     "collapsed": false,
     "input": [
      "\n",
      "import math \n",
      "\n",
      "#initialisation of variables\n",
      "r= 0.5 \t#ft\n",
      "N= 300\n",
      "w= 62.4 \t#lb/ft**3\n",
      "g= 32.2 \t#ft/sec**2\n",
      "\n",
      "#CALCULATIONS\n",
      "A= N*2*math.pi/60\n",
      "Ft= math.pi*A**2*r**4*w/(4*g)\n",
      "\n",
      "#RESULTS\n",
      "print  'total force = %.1f lb '%(Ft)\n"
     ],
     "language": "python",
     "metadata": {},
     "outputs": [
      {
       "output_type": "stream",
       "stream": "stdout",
       "text": [
        "total force = 93.9 lb \n"
       ]
      }
     ],
     "prompt_number": 8
    },
    {
     "cell_type": "heading",
     "level": 2,
     "metadata": {},
     "source": [
      "Example 13.8 Page No : 292"
     ]
    },
    {
     "cell_type": "code",
     "collapsed": false,
     "input": [
      "\n",
      "import math \n",
      "\n",
      "#initialisation of variables\n",
      "d= 4. \t#in\n",
      "h= 12. \t#in\n",
      "h1= 9. \t#in\n",
      "g= 32. \t#ft/sec**2\n",
      "\n",
      "#CALCULATIONS\n",
      "H= 2*(1-(h1/h))\n",
      "A= math.sqrt((H*2*g/((d/24)**2)))\n",
      "A1= math.sqrt((H*2*g*2/((d/24)**2)))\n",
      "\n",
      "#RESULTS\n",
      "print  'speed when the axial is zero = %.f radn/sec '%(A)\n",
      "print  ' speed when the axial is zero = %.f radn/sec '%(A1)\n"
     ],
     "language": "python",
     "metadata": {},
     "outputs": [
      {
       "output_type": "stream",
       "stream": "stdout",
       "text": [
        "speed when the axial is zero = 34 radn/sec \n",
        " speed when the axial is zero = 48 radn/sec \n"
       ]
      }
     ],
     "prompt_number": 10
    },
    {
     "cell_type": "heading",
     "level": 2,
     "metadata": {},
     "source": [
      "Example 13.10 Page No : 295"
     ]
    },
    {
     "cell_type": "code",
     "collapsed": false,
     "input": [
      "\n",
      "import math \n",
      "\n",
      "#initialisation of variables\n",
      "P= 14.7 \t#lb/in**2\n",
      "T= 15. \t#C\n",
      "v= 350. \t#ft/sec\n",
      "R= 0.714\n",
      "\n",
      "#CALCULATIONS\n",
      "P1= P*144\n",
      "r= 3091*(273+T)\n",
      "d1= P1/r\n",
      "r1= r+(v**2/7)\n",
      "P2= (r1*d1/(P1**R))**(1/(1-R))/144\n",
      "dP= P2-P\n",
      "T2= r1/3091\n",
      "dT= T2-(273+T)\n",
      "\n",
      "#RESULTS\n",
      "print  'rise in pressure = %.f lb/in**2 '%(dP)\n",
      "print  ' rise in temperature = %.1f C '%(dT)\n",
      "\n",
      "# rounding off error"
     ],
     "language": "python",
     "metadata": {},
     "outputs": [
      {
       "output_type": "stream",
       "stream": "stdout",
       "text": [
        "rise in pressure = 1 lb/in**2 \n",
        " rise in temperature = 5.7 C \n"
       ]
      }
     ],
     "prompt_number": 9
    },
    {
     "cell_type": "heading",
     "level": 2,
     "metadata": {},
     "source": [
      "Example 13.11 Page No : 297"
     ]
    },
    {
     "cell_type": "code",
     "collapsed": false,
     "input": [
      "\n",
      "import math \n",
      "\n",
      "#initialisation of variables\n",
      "T= 27. \t#C\n",
      "P = 33. \t#lb/in**2\n",
      "p1= 14.7 \t#lb/in**2\n",
      "w= 250. \t#lb\n",
      "g= 32.2 \t#ft/sec**2\n",
      "Cd= 0.99\n",
      "r= 1.4\n",
      "\n",
      "#CALCULATIONS\n",
      "w1= P*144/(96*(273+T))\n",
      "d= p1*144/(96*(273+T))\n",
      "W= d*w/60\n",
      "d= math.sqrt(W*4/(Cd*math.pi*math.sqrt(2*g*P*144*(r/(r-1))*w1*(0.528**(2/1.4)-0.528**(2.4/1.4)))))*12\n",
      "\n",
      "#RESULTS\n",
      "print  'Diameter = %.3f in '%(d)\n"
     ],
     "language": "python",
     "metadata": {},
     "outputs": [
      {
       "output_type": "stream",
       "stream": "stdout",
       "text": [
        "Diameter = 0.722 in \n"
       ]
      }
     ],
     "prompt_number": 13
    },
    {
     "cell_type": "heading",
     "level": 2,
     "metadata": {},
     "source": [
      "Example 13.12 Page No : 299"
     ]
    },
    {
     "cell_type": "code",
     "collapsed": false,
     "input": [
      "import math \n",
      "\n",
      "#initialisation of variables\n",
      "sp= 13.6\n",
      "hm= 800. \t#mm\n",
      "d= 3. \t#in\n",
      "r= 1.4\n",
      "R= 1385. \t#ft-lb/lb/C\n",
      "w= 62.4 \t#lb/ft**3\n",
      "T= 15. \t#C\n",
      "hm1= 765. \t#mm\n",
      "r1= 9.\n",
      "g= 32.2 \t#ft/sec**2\n",
      "\n",
      "#CALCULATIONS\n",
      "p1= hm*sp*w/304.8\n",
      "r2= (273+T)*R\n",
      "w1= p1/r2\n",
      "k= hm/hm1\n",
      "v1= math.sqrt((2*g*r*r2*(1-k**0.286))/((1-r)*(r1**2*k**1.43-1)))\n",
      "W= v1*w1*3600*(math.pi/64)\n",
      "\n",
      "#RESULTS\n",
      "print  'Weight flowing = %.f lb/hr '%(W)\n",
      "\n",
      "#The answer is a bit different due to rounding off error in textbook\n",
      "\n"
     ],
     "language": "python",
     "metadata": {},
     "outputs": [
      {
       "output_type": "stream",
       "stream": "stdout",
       "text": [
        "Weight flowing = 115 lb/hr \n"
       ]
      }
     ],
     "prompt_number": 2
    },
    {
     "cell_type": "heading",
     "level": 2,
     "metadata": {},
     "source": [
      "Example 13.13 Page No : 301"
     ]
    },
    {
     "cell_type": "code",
     "collapsed": false,
     "input": [
      "import math \n",
      "\n",
      "#initialisation of variables\n",
      "p= 160. \t#lb/in**2\n",
      "d= 1./3 \t#ft\n",
      "T= 15.   \t#C\n",
      "R= 96. \n",
      "V= 120. \t#ft**3\n",
      "f= 0.004\n",
      "a= 60*math.pi\n",
      "l= 10560. \t#ft\n",
      "g= 32.2 \t#ft/sec**2\n",
      "\n",
      "#CALCULATIONS\n",
      "p1= p*144\n",
      "w1= p*144/(R*(273+T))\n",
      "v1= V*36/a\n",
      "p2= math.sqrt(p1**2-((2*4*f*p1*w1*v1**2*l)/(2*g*d)))/144\n",
      "v2= p*v1/p2\n",
      "\n",
      "#RESULTS\n",
      "print  ' pressure = %.1f lb/in**2 '%(p2)\n",
      "print  ' velocity = %.1f ft/sec '%(v2)\n",
      "\n",
      "#The answer is a bit different due to rounding off error in textbook\n",
      "\n",
      "\n"
     ],
     "language": "python",
     "metadata": {},
     "outputs": [
      {
       "output_type": "stream",
       "stream": "stdout",
       "text": [
        " pressure = 134.0 lb/in**2 \n",
        " velocity = 27.4 ft/sec \n"
       ]
      }
     ],
     "prompt_number": 12
    }
   ],
   "metadata": {}
  }
 ]
}