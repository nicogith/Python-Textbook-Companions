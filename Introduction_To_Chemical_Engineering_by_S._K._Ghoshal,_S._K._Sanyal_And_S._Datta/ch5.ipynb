{
 "metadata": {
  "name": "",
  "signature": "sha256:a84d51472594c75f9afdf6cd721b95cb9d112fa36b409d534c3bc68aa928266a"
 },
 "nbformat": 3,
 "nbformat_minor": 0,
 "worksheets": [
  {
   "cells": [
    {
     "cell_type": "heading",
     "level": 1,
     "metadata": {},
     "source": [
      "Chapter 5 : Heat Transfer"
     ]
    },
    {
     "cell_type": "heading",
     "level": 3,
     "metadata": {},
     "source": [
      "example 5.1 page number 171"
     ]
    },
    {
     "cell_type": "code",
     "collapsed": false,
     "input": [
      " \n",
      "import math \n",
      "# Variables\n",
      "A=5.*4   #in m2\n",
      "T1=100.;   #in K\n",
      "T2=30.;    #in K\n",
      "\n",
      "# Calculations\n",
      "delta_T=T1-T2;\n",
      "\n",
      "x=0.25   #in m\n",
      "k=0.70    #in W/mK\n",
      "Q=k*A*(delta_T/x);\n",
      "\n",
      "# Results\n",
      "print \"rate of heat loss = %f W\"%(Q)\n"
     ],
     "language": "python",
     "metadata": {},
     "outputs": [
      {
       "output_type": "stream",
       "stream": "stdout",
       "text": [
        "rate of heat loss = 3920.000000 W\n"
       ]
      }
     ],
     "prompt_number": 1
    },
    {
     "cell_type": "heading",
     "level": 3,
     "metadata": {},
     "source": [
      "example 5.2 page number 171\n"
     ]
    },
    {
     "cell_type": "code",
     "collapsed": false,
     "input": [
      " \n",
      "import math \n",
      "# Variables\n",
      "d1=0.15   #in m\n",
      "d2=0.16   #in m\n",
      "l=1.   #in m\n",
      "\n",
      "# Calculations\n",
      "A1=3.14*d1*l;\n",
      "A2=3.14*d2*l\n",
      "Am=(A1-A2)/math.log (A1/A2);\n",
      "\n",
      "T1=120.;   #in K\n",
      "T2=119.8;   #in K\n",
      "\n",
      "delta_T=T1-T2;\n",
      "x=(d2-d1)/2;\n",
      "k=50.   #in W/mK\n",
      "Q=k*Am*(delta_T/x);\n",
      "\n",
      "# Results\n",
      "print \"rate of heat loss per unit length = %f W/m\"%(Q)\n"
     ],
     "language": "python",
     "metadata": {},
     "outputs": [
      {
       "output_type": "stream",
       "stream": "stdout",
       "text": [
        "rate of heat loss per unit length = 973.062272 W/m\n"
       ]
      }
     ],
     "prompt_number": 2
    },
    {
     "cell_type": "heading",
     "level": 3,
     "metadata": {},
     "source": [
      "example 5.3 page number 172\n"
     ]
    },
    {
     "cell_type": "code",
     "collapsed": false,
     "input": [
      " \n",
      "import math \n",
      "# Variables\n",
      "ri=0.5   #in m\n",
      "ro=0.6;  #in m\n",
      "A1=4*3.14*ri**2;\n",
      "A2=4*3.14*ro**2;\n",
      "\n",
      "# Calculations\n",
      "Am=(A1*A2)**0.5;\n",
      "\n",
      "Ti=140.;    #in K\n",
      "To=50.;    #in K\n",
      "delta_T=Ti-To;\n",
      "x=0.1   #in m\n",
      "k=0.12    #in W/mK\n",
      "\n",
      "Q=k*Am*(delta_T/x);\n",
      "\n",
      "# Results\n",
      "print \"Heat loss through sphere = %f W\"%(Q)\n"
     ],
     "language": "python",
     "metadata": {},
     "outputs": [
      {
       "output_type": "stream",
       "stream": "stdout",
       "text": [
        "Heat loss through sphere = 406.944000 W\n"
       ]
      }
     ],
     "prompt_number": 3
    },
    {
     "cell_type": "heading",
     "level": 3,
     "metadata": {},
     "source": [
      "example 5.4 page number 173\n"
     ]
    },
    {
     "cell_type": "code",
     "collapsed": false,
     "input": [
      " \n",
      "import math \n",
      "# Variables\n",
      "x1=0.250;  #in m\n",
      "k1=0.7;  #in W/mK\n",
      "A1=1.;   #in m2\n",
      "R1=x1/(k1*A1);   #in K/W\n",
      "\n",
      "# Calculations and Results\n",
      "#for the felt layer\n",
      "x2=0.020;  #in m\n",
      "k2=0.046;  #in W/mK\n",
      "A2=1.;   #in m2\n",
      "R2=x2/(k2*A2);   #in K/W\n",
      "R=R1+R2;\n",
      "print \"Total resistance = %f K/W\"%(R)\n",
      "\n",
      "T1=110.;   #in K\n",
      "T2=25.    #in K\n",
      "delta_T=T1-T2;\n",
      "Q=delta_T/R;\n",
      "print \"heat loss through wall = %f W/square m\"%(Q)\n"
     ],
     "language": "python",
     "metadata": {},
     "outputs": [
      {
       "output_type": "stream",
       "stream": "stdout",
       "text": [
        "Total resistance = 0.791925 K/W\n",
        "heat loss through wall = 107.333333 W/square m\n"
       ]
      }
     ],
     "prompt_number": 4
    },
    {
     "cell_type": "heading",
     "level": 3,
     "metadata": {},
     "source": [
      "example 5.5 page number 173\n"
     ]
    },
    {
     "cell_type": "code",
     "collapsed": false,
     "input": [
      " \n",
      "import math \n",
      "# Variables\n",
      "d1=0.15   #in m\n",
      "d2=0.16   #in m\n",
      "l=1.   #in m\n",
      "A1=3.14*d1*l;\n",
      "A2=3.14*d2*l\n",
      "Am1=(A2-A1)/math.log (A2/A1);\n",
      "x1=(d2-d1)/2.;\n",
      "k1=50.   #in W/mK\n",
      "R1=x1/(k1*Am1);\n",
      "\n",
      "# Calculations and Results\n",
      "#resistance by insulation\n",
      "d2=0.16   #in m\n",
      "d3=0.26   #in m\n",
      "l=1.   #in m\n",
      "A2=3.14*d2*l;\n",
      "A3=3.14*d3*l\n",
      "Am2=(A3-A2)/math.log (A3/A2);\n",
      "x2=(d3-d2)/2.;\n",
      "k2=0.08   #in W/mK\n",
      "R2=x2/(k2*Am2);\n",
      "R=R1+R2;\n",
      "\n",
      "print \"total resistance = %f K/W\"%(R)\n",
      "\n",
      "T1=120.;   #in K\n",
      "T2=40.;   #in K\n",
      "delta_T=T1-T2;\n",
      "Q=delta_T/R;\n",
      "\n",
      "print \"heat loss = %f W/m\"%(Q)\n"
     ],
     "language": "python",
     "metadata": {},
     "outputs": [
      {
       "output_type": "stream",
       "stream": "stdout",
       "text": [
        "total resistance = 0.966583 K/W\n",
        "heat loss = 82.765822 W/m\n"
       ]
      }
     ],
     "prompt_number": 5
    },
    {
     "cell_type": "heading",
     "level": 3,
     "metadata": {},
     "source": [
      "example 5.6 page number 174\n"
     ]
    },
    {
     "cell_type": "code",
     "collapsed": false,
     "input": [
      " \n",
      "import math \n",
      "# Variables\n",
      "x1=0.1;   #in m\n",
      "x2= 0.25;  #in m\n",
      "k_rb=0.93;   #in W/mK\n",
      "k_ib=0.116    #in W/mK\n",
      "k_al=203.6    #in W/mK\n",
      "A=0.1   #in m2\n",
      "\n",
      "# Calculations and Results\n",
      "#to find resistance without rivets\n",
      "R=(1/A)*((x1/k_rb)+(x2/k_ib));\n",
      "T1=225   #in K\n",
      "T2=37    #in K\n",
      "delta_T=T1-T2;\n",
      "Q=delta_T/R;\n",
      "print \"heat transfer rate = %f W\"%(Q)\n",
      "\n",
      "#to find resistance with rivet\n",
      "d=0.03   #in m\n",
      "rivet_area= (3.14/4)*d**2;\n",
      "R_r=(x1+x2)/(k_al*rivet_area);\n",
      "area_norivet=A-rivet_area;\n",
      "R_cl=(A/area_norivet)*R;\n",
      "R_eq=1/(1/R_r+1/R_cl);\n",
      "Q_new=delta_T/R_eq;\n",
      "\n",
      "print \"Rate of heat transfer with rivet = %f W\"%(Q_new)\n",
      "increase=((Q_new-Q)/Q)*100;\n",
      "print \"percentage increase in heat transfer rate = %f\"%(increase)\n"
     ],
     "language": "python",
     "metadata": {},
     "outputs": [
      {
       "output_type": "stream",
       "stream": "stdout",
       "text": [
        "heat transfer rate = 8.308660 W\n",
        "Rate of heat transfer with rivet = 85.514415 W\n",
        "percentage increase in heat transfer rate = 929.220242\n"
       ]
      }
     ],
     "prompt_number": 6
    },
    {
     "cell_type": "heading",
     "level": 3,
     "metadata": {},
     "source": [
      "example 5.7 page number 187"
     ]
    },
    {
     "cell_type": "code",
     "collapsed": false,
     "input": [
      " \n",
      "import math\n",
      "\n",
      "# variables\n",
      "Cp = 4.178          # kJ/kg K for water\n",
      "q = 1838.            # rate at which heat is transfered\n",
      "A = .1005           # heat transfer area\n",
      "dt1 = 80. - 24       # temperature diffference at hot end\n",
      "dt2 = 36.-24         # temperature difference at cold end\n",
      "\n",
      "# Calculations and Results\n",
      "dtm = (56 + 12)/2.0\n",
      "h = q/(A*dtm)\n",
      "print \"Heat transfer coefficient, h  = %.0f W/m**2 K\"%h\n",
      "\n",
      "dtm = (56 - 12)/math.log(56/12.)\n",
      "h = q/(A*dtm)\n",
      "print \"h = %.0f W/m**2 K\"%h\n",
      "\n"
     ],
     "language": "python",
     "metadata": {},
     "outputs": [
      {
       "output_type": "stream",
       "stream": "stdout",
       "text": [
        "Heat transfer coefficient, h  = 538 W/m**2 K\n",
        "h = 640 W/m**2 K\n"
       ]
      }
     ],
     "prompt_number": 4
    },
    {
     "cell_type": "heading",
     "level": 3,
     "metadata": {},
     "source": [
      "example 5.8 page number 188\n"
     ]
    },
    {
     "cell_type": "code",
     "collapsed": false,
     "input": [
      " \n",
      "import math \n",
      "\n",
      "# Variables\n",
      "density=984.1     #in kg/cubic meter\n",
      "v=3.   #in m/s\n",
      "viscosity=485*10**-6;    #in Pa-s\n",
      "k=0.657    #in W/mK\n",
      "cp=4178.   #in J/kg K\n",
      "d=0.016    #in m\n",
      "\n",
      "# Calculations and Results\n",
      "Re=(density*v*d)/viscosity;\n",
      "Pr=(cp*viscosity)/k;\n",
      "\n",
      "#dittus boelter equation\n",
      "h=0.023*Re**0.8*Pr**0.3*(k/d);\n",
      "print \"heat transfer coefficient = %f W/sq meter K\"%(h)\n",
      "\n",
      "#Sieder Tate equation\n",
      "viscosity_w=920*10**-6.\n",
      "h1=0.023*Re**0.8*Pr**(1./3)*(k/d)*(viscosity/viscosity_w)**0.14;\n",
      "print \"heat transfer coefficient = %f W/sq meter K\"%(h1)\n"
     ],
     "language": "python",
     "metadata": {},
     "outputs": [
      {
       "output_type": "stream",
       "stream": "stdout",
       "text": [
        "heat transfer coefficient = 12964.257508 W/sq meter K\n",
        "heat transfer coefficient = 12306.258209 W/sq meter K\n"
       ]
      }
     ],
     "prompt_number": 7
    },
    {
     "cell_type": "heading",
     "level": 3,
     "metadata": {},
     "source": [
      "example 5.9 page number 191\n"
     ]
    },
    {
     "cell_type": "code",
     "collapsed": false,
     "input": [
      " \n",
      "import math \n",
      "# Variables\n",
      "T_sun = 5973   #in degree C\n",
      "d = 1.5*10**13    #in cm\n",
      "R = 7.1*10**10;  #in cm\n",
      "\n",
      "# Calculations\n",
      "T_earth = ((R/(2*d))**0.5)*T_sun;\n",
      "\n",
      "# Results\n",
      "print \"Temperature of earth = %f C\"%(T_earth-273) \n"
     ],
     "language": "python",
     "metadata": {},
     "outputs": [
      {
       "output_type": "stream",
       "stream": "stdout",
       "text": [
        "Temperature of earth = 17.576884 C\n"
       ]
      }
     ],
     "prompt_number": 8
    },
    {
     "cell_type": "heading",
     "level": 3,
     "metadata": {},
     "source": [
      "example 5.10 page number 191\n"
     ]
    },
    {
     "cell_type": "code",
     "collapsed": false,
     "input": [
      " \n",
      "import math \n",
      "# Variables\n",
      "R=7*10**10;   #in cm\n",
      "Ts=6000;   #in K\n",
      "\n",
      "# Calculations\n",
      "l=1.5*10**13;   #in m\n",
      "To=((R**2/(4*l**2))**0.25)*Ts;\n",
      "\n",
      "# Results\n",
      "print \"temperature of earth = %f K\"%(To)\n"
     ],
     "language": "python",
     "metadata": {},
     "outputs": [
      {
       "output_type": "stream",
       "stream": "stdout",
       "text": [
        "temperature of earth = 289.827535 K\n"
       ]
      }
     ],
     "prompt_number": 9
    },
    {
     "cell_type": "heading",
     "level": 3,
     "metadata": {},
     "source": [
      "example 5.11 page number 192\n"
     ]
    },
    {
     "cell_type": "code",
     "collapsed": false,
     "input": [
      " \n",
      "import math \n",
      "# Variables\n",
      "R=6.92*10**5    #in km\n",
      "l=14.97*10**7   #in km\n",
      "Ts=6200;    #in K\n",
      "\n",
      "# Calculations\n",
      "To=(R**2/l**2)**0.25*Ts;\n",
      "\n",
      "# Results\n",
      "print \"Equilibrium temperature = %f K\"%(To)\n"
     ],
     "language": "python",
     "metadata": {},
     "outputs": [
      {
       "output_type": "stream",
       "stream": "stdout",
       "text": [
        "Equilibrium temperature = 421.535191 K\n"
       ]
      }
     ],
     "prompt_number": 10
    },
    {
     "cell_type": "heading",
     "level": 3,
     "metadata": {},
     "source": [
      "example 5.12 page number 192\n"
     ]
    },
    {
     "cell_type": "code",
     "collapsed": false,
     "input": [
      " \n",
      "import math \n",
      "# Variables\n",
      "view_factor=0.5;\n",
      "R=6.92*10**5    #in km\n",
      "l=14.97*10**7   #in km\n",
      "Ts=6200;    #in K\n",
      "\n",
      "# Calculations\n",
      "To=(view_factor*(R**2/l**2))**0.25*Ts;\n",
      "\n",
      "# Results\n",
      "print \"Equilibrium temperature = %f K\"%(To)\n",
      "\n",
      "\n"
     ],
     "language": "python",
     "metadata": {},
     "outputs": [
      {
       "output_type": "stream",
       "stream": "stdout",
       "text": [
        "Equilibrium temperature = 354.467431 K\n"
       ]
      }
     ],
     "prompt_number": 11
    },
    {
     "cell_type": "heading",
     "level": 3,
     "metadata": {},
     "source": [
      "example 5.13 page number 193\n"
     ]
    },
    {
     "cell_type": "code",
     "collapsed": false,
     "input": [
      " \n",
      "import math \n",
      "# Variables\n",
      "view_factor=0.25;\n",
      "R=7.1*10**10    #in cm\n",
      "l=1.5*10**13   #in cm\n",
      "Ts=5973;    #in K\n",
      "alpha=0.2;\n",
      "epsilon=0.1;\n",
      "\n",
      "# Calculations\n",
      "ratio=alpha/epsilon;\n",
      "To=(ratio*view_factor*(R**2/l**2))**0.25*Ts;\n",
      "\n",
      "\n",
      "# Results\n",
      "print \"Equilibrium temperature = %f K\"%(To)\n"
     ],
     "language": "python",
     "metadata": {},
     "outputs": [
      {
       "output_type": "stream",
       "stream": "stdout",
       "text": [
        "Equilibrium temperature = 345.556097 K\n"
       ]
      }
     ],
     "prompt_number": 12
    },
    {
     "cell_type": "heading",
     "level": 3,
     "metadata": {},
     "source": [
      "example 5.14 page number 193\n"
     ]
    },
    {
     "cell_type": "code",
     "collapsed": false,
     "input": [
      " \n",
      "import math \n",
      "# Variables\n",
      "R=7*10**10;   #in cm\n",
      "l=1.5*10**13;  #in cm\n",
      "sigma=5.3*10**-5;   #in erd/s(cm2)(K)4\n",
      "T=6000;    #in K\n",
      "\n",
      "# Calculations\n",
      "S=(R/l)**2*(sigma)*(T**4)*60;\n",
      "\n",
      "# Results\n",
      "print \"solar constant = %f J/sq cm min\"%(S/10**7)\n"
     ],
     "language": "python",
     "metadata": {},
     "outputs": [
      {
       "output_type": "stream",
       "stream": "stdout",
       "text": [
        "solar constant = 8.975232 J/sq cm min\n"
       ]
      }
     ],
     "prompt_number": 13
    },
    {
     "cell_type": "heading",
     "level": 3,
     "metadata": {},
     "source": [
      "example 5.15 page number 207\n"
     ]
    },
    {
     "cell_type": "code",
     "collapsed": false,
     "input": [
      " \n",
      "import math \n",
      "# Variables\n",
      "F = 5000.   #in kg/hr\n",
      "xF = 0.01\n",
      "xL = 0.02;\n",
      "\n",
      "# Calculations and Results\n",
      "L = F*xF/xL;\n",
      "V = F-L;\n",
      "print \"L = %f Kg/hr V = %f kg/hr\"%(L,V)\n",
      "\n",
      "TF= 303  #in K\n",
      "hF = 125.9   #in KJ/kg\n",
      "T1 = 373.2   #in K\n",
      "Hv = 2676.1   #in kJ/kg\n",
      "hL = 419.04;   #in kJ/kg\n",
      "Ts = 383.2   #in K\n",
      "Hs = 2691.5   #in kJ/kg\n",
      "hs = 461.30   #in kJ/kg\n",
      "\n",
      "S = (F*hF-L*hL-V*Hv)/(hs-Hs);\n",
      "print \"amount of steam = %f kg steam/h\"%(S)\n",
      "\n",
      "q = S*(Hs - hs);\n",
      "q = q*1000/3600   #conversion to Watt\n",
      "U = q/(69.9*10);\n",
      "print \"heat transfer coefficient = %f W/sq m K\"%(U)\n"
     ],
     "language": "python",
     "metadata": {},
     "outputs": [
      {
       "output_type": "stream",
       "stream": "stdout",
       "text": [
        "L = 2500.000000 Kg/hr V = 2500.000000 kg/hr\n",
        "amount of steam = 3187.315039 kg steam/h\n",
        "heat transfer coefficient = 2824.809251 W/sq m K\n"
       ]
      }
     ],
     "prompt_number": 7
    },
    {
     "cell_type": "heading",
     "level": 3,
     "metadata": {},
     "source": [
      "example 5.16 page number 208\n"
     ]
    },
    {
     "cell_type": "code",
     "collapsed": false,
     "input": [
      " \n",
      "import math \n",
      "from numpy import *\n",
      "# Variables\n",
      "b1 = 6000*125.79+3187.56*2691.5-3187.56*461.30;    #data from previous problem\n",
      "b2 = 6000;\n",
      "A = array([[419.04, 2676.1],[1, 1]])\n",
      "\n",
      "# Calculations and Results\n",
      "b = array([[b1],[b2]]);\n",
      "x = linalg.solve(A,b)\n",
      "#x = x*b\n",
      "L = x[0];\n",
      "V = x[1];\n",
      "\n",
      "print \"L = %f kg/hrV = %f kg/hr\"%(L,V)\n",
      "\n",
      "F = 6000   #in kg/hr\n",
      "xF = 0.01;\n",
      "xL = F*xF/L;\n",
      "print \"percentage increase in outlet concentration = %f\"%(xL*100)\n"
     ],
     "language": "python",
     "metadata": {},
     "outputs": [
      {
       "output_type": "stream",
       "stream": "stdout",
       "text": [
        "L = 3629.927289 kg/hrV = 2370.072711 kg/hr\n",
        "percentage increase in outlet concentration = 1.652926\n"
       ]
      }
     ],
     "prompt_number": 15
    },
    {
     "cell_type": "heading",
     "level": 3,
     "metadata": {},
     "source": [
      "example 5.17 page number 209\n"
     ]
    },
    {
     "cell_type": "code",
     "collapsed": false,
     "input": [
      " \n",
      "import math \n",
      "# Variables\n",
      "Hv=2635.3    #kJ/kg\n",
      "hL=313.93    #in kJ/kg\n",
      "\n",
      "# Calculations and Results\n",
      "S=(2500*313.93+2500*2635.3-5000*125.79)/(2691.5-461.30);\n",
      "print \"steam flow rate = %f kg steam/hr\"%(S)\n",
      "\n",
      "q = S*(2691.5 - 461.30);\n",
      "q = q*1000./3600    #in W\n",
      "U = 2833.13;   #in W/m2 K\n",
      "delta_T = 383.2-348.2;   #in K\n",
      "A = q/(U*delta_T);\n",
      "\n",
      "print \"Area = %f sq meter\"%(A)\n",
      "print \"in this case a condensor and vaccum pump should be used\"\n",
      "\n",
      "# Note : there is mistake in calculation in Book. Please calculate manually."
     ],
     "language": "python",
     "metadata": {},
     "outputs": [
      {
       "output_type": "stream",
       "stream": "stdout",
       "text": [
        "steam flow rate = 3024.000090 kg steam/hr\n",
        "Area = 18.892462 sq meter\n",
        "in this case a condensor and vaccum pump should be used\n"
       ]
      }
     ],
     "prompt_number": 6
    },
    {
     "cell_type": "code",
     "collapsed": false,
     "input": [],
     "language": "python",
     "metadata": {},
     "outputs": []
    }
   ],
   "metadata": {}
  }
 ]
}