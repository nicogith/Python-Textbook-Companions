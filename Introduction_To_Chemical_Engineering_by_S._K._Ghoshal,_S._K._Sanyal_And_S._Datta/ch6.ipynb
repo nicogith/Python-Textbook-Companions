{
 "metadata": {
  "name": ""
 },
 "nbformat": 3,
 "nbformat_minor": 0,
 "worksheets": [
  {
   "cells": [
    {
     "cell_type": "heading",
     "level": 1,
     "metadata": {},
     "source": [
      "Chapter 6 : Mass Transfer"
     ]
    },
    {
     "cell_type": "heading",
     "level": 3,
     "metadata": {},
     "source": [
      "example 6.3 page number 215"
     ]
    },
    {
     "cell_type": "code",
     "collapsed": false,
     "input": [
      "\n",
      "import math \n",
      "D_AB=6.75*10**-5   #in m2/s\n",
      "Z=0.03   #in m\n",
      "R=8314\n",
      "p_A1=5.5*10**4   #in Pa\n",
      "p_A2=1.5*10**4   #in Pa\n",
      "T=298   #in K\n",
      "\n",
      "N_A=D_AB*(p_A1-p_A2)/(R*T*Z);\n",
      "print \"flux = %f kmol/sq m s\"%(N_A)\n",
      "\n",
      "Z=0.02;   #in m\n",
      "p_A2=p_A1-((N_A*R*T*Z)/D_AB);\n",
      "print \"pressure = %f Pa\"%(p_A2)\n",
      "\n"
     ],
     "language": "python",
     "metadata": {},
     "outputs": [
      {
       "output_type": "stream",
       "stream": "stdout",
       "text": [
        "flux = 0.000036 kmol/sq m s\n",
        "pressure = 28333.333333 Pa\n"
       ]
      }
     ],
     "prompt_number": 1
    },
    {
     "cell_type": "heading",
     "level": 3,
     "metadata": {},
     "source": [
      "example 6.4 page number 216\n"
     ]
    },
    {
     "cell_type": "code",
     "collapsed": false,
     "input": [
      "\n",
      "import math \n",
      "\n",
      "Z=0.15   #in m\n",
      "P=1.013*10**5    #in Pa\n",
      "p_A1=1.5*10**4    #in Pa\n",
      "p_A2=5*10**3    #in Pa\n",
      "\n",
      "p_B1=P-p_A1;\n",
      "p_B2=P-p_A2;\n",
      "\n",
      "D_AB=2.30*10**-5   #in m2/s\n",
      "R=8314.\n",
      "T=298.   #in K\n",
      "\n",
      "p_BM=(p_B2-p_B1)/math.log (p_B2/p_B1);\n",
      "print p_B1, p_B2\n",
      "N_A=D_AB*(p_A1-p_A2)*P/(R*T*Z*p_BM);\n",
      "print \"flux = %.4e kmol/sq m s\"%(N_A)\n",
      "\n",
      "N_A=D_AB*(p_A1-p_A2)/(R*T*Z);\n",
      "print \"flux = %.4e kmol/sq m s\"%(N_A)\n"
     ],
     "language": "python",
     "metadata": {},
     "outputs": [
      {
       "output_type": "stream",
       "stream": "stdout",
       "text": [
        "86300.0 96300.0\n",
        "flux = 6.8736e-07 kmol/sq m s\n",
        "flux = 6.1889e-07 kmol/sq m s\n"
       ]
      }
     ],
     "prompt_number": 1
    },
    {
     "cell_type": "heading",
     "level": 3,
     "metadata": {},
     "source": [
      "example 6.6 page number 218\n"
     ]
    },
    {
     "cell_type": "code",
     "collapsed": false,
     "input": [
      "import math \n",
      "M_A=36.5    #molar mass of HCl\n",
      "M_B=18.      #molar masss of water\n",
      "w_A1=12.;    #weight % of HCL\n",
      "w_A2=4.      #weight % of HCL\n",
      "\n",
      "x_A1=(w_A1/M_A)/((w_A1/M_A)+((100-w_A1)/M_B));\n",
      "print 'x_A1 =%f'%(x_A1)\n",
      "\n",
      "x_B1=1.-x_A1;\n",
      "M1=100./((w_A1/M_A)+((100-w_A1)/M_B));\n",
      "print \"molar mass at point 1 = %f kg/kmol\"%(M1)\n",
      "\n",
      "x_A2=(w_A2/M_A)/((w_A2/M_A)+((100-w_A2)/M_B));\n",
      "x_B2=1-x_A2;\n",
      "M2=100/((w_A2/M_A)+((100-w_A2)/M_B));    #avg molecular weight at point 2\n",
      "print \"molar mass at point 2 = %f Kg/kmol\"%(M2)\n",
      "\n",
      "density_1=1060.7;    #in kg/m3\n",
      "density_2=1020.15;   #in kg/m3\n",
      "C_av=((density_1/M1)+(density_2/M2))/2;\n",
      "print \"C_av = %f kmol/cubic m\"%(C_av)\n",
      "\n",
      "x_BM=(x_B2-x_B1)/(math.log (x_B2/x_B1));\n",
      "Z=0.004    #in m\n",
      "D_AB=2.5*10**-9;\n",
      "N_A=(D_AB*C_av*(x_A1-x_A2))/(x_BM*Z);\n",
      "print \"flux = %f kmol/sq m-s\"%(N_A)\n"
     ],
     "language": "python",
     "metadata": {},
     "outputs": [
      {
       "output_type": "stream",
       "stream": "stdout",
       "text": [
        "x_A1 =0.063011\n",
        "molar mass at point 1 = 19.165694 kg/kmol\n",
        "molar mass at point 2 = 18.372483 Kg/kmol\n",
        "C_av = 55.434825 kmol/cubic m\n",
        "flux = 0.000002 kmol/sq m-s\n"
       ]
      }
     ],
     "prompt_number": 3
    },
    {
     "cell_type": "heading",
     "level": 3,
     "metadata": {},
     "source": [
      "example 6.8 page number 229\n"
     ]
    },
    {
     "cell_type": "code",
     "collapsed": false,
     "input": [
      "\n",
      "import math \n",
      "Gs=700/22.4    #in kmol of dry air/hr\n",
      "Ls=1500./18     #in kmol of dry air/hr\n",
      "y1=0.05\n",
      "Y1=y1/(1-y1);\n",
      "Y2=0.02*Y1;\n",
      "X2=0\n",
      "X1=(Gs/Ls)*(Y1-Y2);\n",
      "m=Gs*(Y1-Y2);\n",
      "\n",
      "delta_Y1=Y1-1.68*X1;\n",
      "delta_Y2=Y2-1.68*X2;\n",
      "delta_Y=(delta_Y1-delta_Y2)/(math.log (delta_Y1/delta_Y2));\n",
      "print \"driving force = %f kmol acetone/kmol dry air\"%(delta_Y)\n",
      "\n",
      "K_G=0.4    #in kmol acetone/kmol dry air\n",
      "A=m/(K_G*delta_Y);\n",
      "print \"area = %f sq m\"%(A)\n"
     ],
     "language": "python",
     "metadata": {},
     "outputs": [
      {
       "output_type": "stream",
       "stream": "stdout",
       "text": [
        "driving force = 0.006466 kmol acetone/kmol dry air\n",
        "area = 623.154093 sq m\n"
       ]
      }
     ],
     "prompt_number": 4
    },
    {
     "cell_type": "heading",
     "level": 3,
     "metadata": {},
     "source": [
      "example 6.9 page number 229\n"
     ]
    },
    {
     "cell_type": "code",
     "collapsed": false,
     "input": [
      "\n",
      "import math \n",
      "G1=(855/22.4)*(106.6/101.3)*(273/299.7);\n",
      "y1=0.02;\n",
      "Y1=y1/(1-y1);\n",
      "Gs=G1*(1-y1);\n",
      "\n",
      "Y2=0.05*Y1;\n",
      "x2=0.005;\n",
      "X2=x2/(1-x2);\n",
      "Y=0.204;\n",
      "X1=0.176;    #in kmol bgenzene/kmol benzene free oil\n",
      "\n",
      "Ls_molar=(Gs*(Y1-Y2))/(X1-X2);\n",
      "Ls=Ls_molar*260;\n",
      "\n",
      "print \"minimum oil circulation rate = %f kg/hr\"%(Ls)\n"
     ],
     "language": "python",
     "metadata": {},
     "outputs": [
      {
       "output_type": "stream",
       "stream": "stdout",
       "text": [
        "minimum oil circulation rate = 1057.149516 kg/hr\n"
       ]
      }
     ],
     "prompt_number": 5
    },
    {
     "cell_type": "heading",
     "level": 3,
     "metadata": {},
     "source": [
      "example 6.10 page number 231\n"
     ]
    },
    {
     "cell_type": "code",
     "collapsed": false,
     "input": [
      "\n",
      "import math \n",
      "P_M = 53.32   #kPa\n",
      "P_W = 12.33   #in kpA\n",
      "P = 40  #IN K pA\n",
      "\n",
      "x = (P - P_W)/(P_M-P_W);\n",
      "\n",
      "print \"liquid phase composition = %f\"%(x)\n",
      "\n",
      "y = P_M*x/P;\n",
      "print \"vapor phase composition = %f\"%(y)\n"
     ],
     "language": "python",
     "metadata": {},
     "outputs": [
      {
       "output_type": "stream",
       "stream": "stdout",
       "text": [
        "liquid phase composition = 0.675043\n",
        "vapor phase composition = 0.899832\n"
       ]
      }
     ],
     "prompt_number": 6
    },
    {
     "cell_type": "heading",
     "level": 3,
     "metadata": {},
     "source": [
      "example 6.12 page number 231\n"
     ]
    },
    {
     "cell_type": "code",
     "collapsed": false,
     "input": [
      "\n",
      "import math \n",
      "from matplotlib.pyplot import *\n",
      "from numpy import *\n",
      "\n",
      "%matplotlib inline\n",
      "\n",
      "x = [1,0.69,0.40,0.192,0.045,0];\n",
      "y = [1,0.932,0.78,0.538,0.1775,0];\n",
      "plot(x,y)\n",
      "x = linspace(0,1,10)\n",
      "y = linspace(0,1,10)\n",
      "plot(x,y)\n",
      "x = [0.5,0.31];\n",
      "y = [0.5,0.7];\n",
      "plot (x,y)\n",
      "\n",
      "xlabel(\"x\")\n",
      "ylabel(\"y\")\n",
      "suptitle(\"distillation curve\")\n",
      "Z=0.5;\n",
      "y_D=0.69;\n",
      "x_W=0.31;\n",
      "\n",
      "show()\n",
      "\n",
      "print \"composition of top product = %f mole percent of hexane\"%(y_D*100)\n",
      "print \"composition of bottom product = %f mole percent of hexane\"%(x_W*100)\n"
     ],
     "language": "python",
     "metadata": {},
     "outputs": [
      {
       "output_type": "stream",
       "stream": "stdout",
       "text": [
        "Populating the interactive namespace from numpy and matplotlib\n"
       ]
      },
      {
       "output_type": "stream",
       "stream": "stderr",
       "text": [
        "WARNING: pylab import has clobbered these variables: ['draw_if_interactive', 'new_figure_manager']\n",
        "`%pylab --no-import-all` prevents importing * from pylab and numpy\n"
       ]
      },
      {
       "metadata": {},
       "output_type": "display_data",
       "png": "[encoded data removed]",
       "text": [
        "<matplotlib.figure.Figure at 0x27f1450>"
       ]
      },
      {
       "output_type": "stream",
       "stream": "stdout",
       "text": [
        "composition of top product = 69.000000 mole percent of hexane\n",
        "composition of bottom product = 31.000000 mole percent of hexane\n"
       ]
      }
     ],
     "prompt_number": 2
    },
    {
     "cell_type": "heading",
     "level": 3,
     "metadata": {},
     "source": [
      "example 6.13 page number 237\n"
     ]
    },
    {
     "cell_type": "code",
     "collapsed": false,
     "input": [
      "\n",
      "%matplotlib inline\n",
      "import math \n",
      "from numpy import *\n",
      "from matplotlib.pyplot import *\n",
      "F = 100.   #moles\n",
      "xf = 0.4;\n",
      "D = 60.   #moles\n",
      "W = 40.   #moles\n",
      "\n",
      "x = linspace(0.2,0.45,6)\n",
      "y = zeros(6)\n",
      "z = zeros(6)\n",
      "for i in range(6):\n",
      "    y[i] = 2.16*x[i]/(1+1.16*x[i]);\n",
      "    z[i] = (y[i]-x[i])**-1;\n",
      "z = z.T / 10\n",
      "plot(x,z)\n",
      "suptitle('Batch Distillation Curve')\n",
      "xlabel('x')\n",
      "ylabel('y')\n",
      "xw = 0.22;   #from the graph\n",
      "yd = (F*xf-W*xw)/D;\n",
      "show()\n",
      "\n",
      "print \"composition of distillate = %f\"%(yd)\n",
      "print \"composition of residue = %f\"%(xw)\n"
     ],
     "language": "python",
     "metadata": {},
     "outputs": [
      {
       "output_type": "stream",
       "stream": "stdout",
       "text": [
        "Populating the interactive namespace from numpy and matplotlib\n"
       ]
      },
      {
       "metadata": {},
       "output_type": "display_data",
       "png": "[encoded data removed]",
       "text": [
        "<matplotlib.figure.Figure at 0x1c46110>"
       ]
      },
      {
       "output_type": "stream",
       "stream": "stdout",
       "text": [
        "composition of distillate = 0.520000\n",
        "composition of residue = 0.220000\n"
       ]
      }
     ],
     "prompt_number": 3
    },
    {
     "cell_type": "heading",
     "level": 3,
     "metadata": {},
     "source": [
      "example 6.15 page number 249\n"
     ]
    },
    {
     "cell_type": "code",
     "collapsed": false,
     "input": [
      "\n",
      "import math \n",
      "\n",
      "x=0.4;\n",
      "y=0.8;\n",
      "x_D=y;\n",
      "x_W=0.135;   #bottom concentration\n",
      "\n",
      "D=(100*x-100*x_W)/(y-x_W);     #distillate amount\n",
      "print \"amount of distillate =%f moles/h\"%(D)\n",
      "\n",
      "alpha=6;   #relative volatility\n",
      "x_R=y/(y+(alpha*(1-y)));    #liquid leaving partial condensor\n",
      "print \"liquid leaving partial condenser = %f\"%(x_R)\n",
      "\n",
      "y1=(1./3)*y+(2./3)*x;\n",
      "x1=y1/(y1+(alpha*(1-y1)));\n",
      "y_W = (1./3)*x_D+(2./3)*x1;\n",
      "x_W=y_W/(y_W+(alpha*(1-y_W)));\n",
      "D=(100*(x-x_W))/(y-x_W);\n",
      "\n",
      "print \"amount of distillate = %f moles/h\"%(D)\n"
     ],
     "language": "python",
     "metadata": {},
     "outputs": [
      {
       "output_type": "stream",
       "stream": "stdout",
       "text": [
        "amount of distillate =39.849624 moles/h\n",
        "liquid leaving partial condenser = 0.400000\n",
        "amount of distillate = 43.636364 moles/h\n"
       ]
      }
     ],
     "prompt_number": 9
    },
    {
     "cell_type": "heading",
     "level": 3,
     "metadata": {},
     "source": [
      "example 6.16 page number 264\n"
     ]
    },
    {
     "cell_type": "code",
     "collapsed": false,
     "input": [
      "\n",
      "import math \n",
      "x=0.01;    #% of nicotine\n",
      "X0 = x/(1-x);\n",
      "w=150.    #weight of nicotine water solution\n",
      "\n",
      "A0=w*(1-X0);\n",
      "B0=250.;    #kg keroscene\n",
      "X1 = A0*X0/(A0+B0*0.798);\n",
      "print \"final concentration of nicotine = %f\"%(X1)\n",
      "\n",
      "c=A0*(X0-X1);\n",
      "print \"amount of nicotine removed = %f kg\"%(c)\n",
      "\n",
      "percentage = (c*100)/(A0*x);\n",
      "print \"percentage recovery = %f percent\"%(percentage)\n"
     ],
     "language": "python",
     "metadata": {},
     "outputs": [
      {
       "output_type": "stream",
       "stream": "stdout",
       "text": [
        "final concentration of nicotine = 0.004310\n",
        "amount of nicotine removed = 0.859863 kg\n",
        "percentage recovery = 57.909174 percent\n"
       ]
      }
     ],
     "prompt_number": 10
    },
    {
     "cell_type": "heading",
     "level": 3,
     "metadata": {},
     "source": [
      "example 6.17 page number 264\n"
     ]
    },
    {
     "cell_type": "code",
     "collapsed": false,
     "input": [
      "\n",
      "import math \n",
      "x=0.01   #mole fraction of nicotine\n",
      "yN = 0.0006;   #mole fraction in solvent\n",
      "xN = 0.001;     #final mole fraction in water\n",
      "\n",
      "X0=x/(1.-x);    #in kg nicotine/kg water\n",
      "YN =yN/(1.-yN);   #in kg nicotine/kg keroscene\n",
      "XN = xN/(1.-xN);\n",
      "A0=100.*(1.-X0);    #kgwater/h\n",
      "B0=150.*(1.-YN);   #in kg kerosene/h\n",
      "\n",
      "Y1=((A0*(X0-XN))/B0)+YN;    #in kg nicotine/kg kerosene\n",
      "print \"Y1 = %f kg nicotine/kg kerosene\"%(Y1)\n",
      "\n",
      "number_of_stages = 8.4;\n",
      "print \"numnber of stages = %f\"%(number_of_stages)\n"
     ],
     "language": "python",
     "metadata": {},
     "outputs": [
      {
       "output_type": "stream",
       "stream": "stdout",
       "text": [
        "Y1 = 0.006609 kg nicotine/kg kerosene\n",
        "numnber of stages = 8.400000\n"
       ]
      }
     ],
     "prompt_number": 11
    },
    {
     "cell_type": "heading",
     "level": 3,
     "metadata": {},
     "source": [
      "example 6.18 page number 274\n"
     ]
    },
    {
     "cell_type": "code",
     "collapsed": false,
     "input": [
      "\n",
      "import math \n",
      "\n",
      "P = 101.3    #in kPa\n",
      "pA = 3.74    #in kPa\n",
      "p_AS = 7.415  #in kPa\n",
      "\n",
      "H = (18.02/28.97)*(pA/(P-pA));\n",
      "print \"humidity = %f kg H2O/kg air\"%(H)\n",
      "\n",
      "Hs = (18.02/28.97)*(p_AS/(P-p_AS));\n",
      "print \"Saturated humidity = %f kg H2O/kg air\"%(Hs)\n",
      "\n",
      "humidity = 100*(H/Hs);\n",
      "print \"percentage humidity = %f percent\"%(humidity)\n",
      "\n",
      "relative_humidity = 100*(pA/p_AS);\n",
      "print \"percentage relative humidity = %f percent\"%(relative_humidity)\n"
     ],
     "language": "python",
     "metadata": {},
     "outputs": [
      {
       "output_type": "stream",
       "stream": "stdout",
       "text": [
        "humidity = 0.023845 kg H2O/kg air\n",
        "Saturated humidity = 0.049127 kg H2O/kg air\n",
        "percentage humidity = 48.538334 percent\n",
        "percentage relative humidity = 50.438301 percent\n"
       ]
      }
     ],
     "prompt_number": 12
    },
    {
     "cell_type": "heading",
     "level": 3,
     "metadata": {},
     "source": [
      "example 6.19 page number 264\n"
     ]
    },
    {
     "cell_type": "code",
     "collapsed": false,
     "input": [
      "\n",
      "import math \n",
      "from numpy import *\n",
      "\n",
      "S=425.6   #in kg/h\n",
      "X1 = 0.035   #in kgwater/kg dry solid\n",
      "t_s1=25.   #in degree C\n",
      "X2 = 0.017   #in kg H2O/kg dry air\n",
      "t_s2=60.   #in degree C\n",
      "H2 = 0.0175    #in kg H2O/kg dry air\n",
      "t_G2 = 84.2   #in degree C\n",
      "t_G1= 32.8   #in degree C\n",
      "C_pS = 1.465   #in kJ/kg dry solid\n",
      "C_pA = 4.187   #in kg/ kg H2O K\n",
      "\n",
      "H_G2=(1.005+1.88*H2)*(t_G2-0)+H2*2501;\n",
      "H_S1 = C_pS*(t_s1-0)+X1*C_pA*(t_s1-0);    #in kJ/kg\n",
      "H_S2 = C_pS*(t_s2-0)+X2*C_pA*(t_s2-0);   #in kJ/kg\n",
      "Q=9300.;  #in kJ/h\n",
      "\n",
      "print \"Latent heat of water at 0C HG2 = %f kJ/kg dryair\"%(H_G2)\n",
      "print \"Enthalpy of entering solid HS1 = %f kJ/kg dryair\"%(H_S1)\n",
      "print \"Enthalpy of exit solid HS2 = %f kJ/kg dryair\"%(H_S2)\n",
      "\n",
      "A = array([[0.0175, -1],[98.194, -2562.664]]);\n",
      "b = array([[-14.17248],[29745.398]]);\n",
      "x = linalg.solve(A,b)\n",
      "G = x[0]\n",
      "H1 = x[1]/G;\n",
      "print \"Air flow rate G = %f kg dryair/hr\"%(G)\n",
      "print \"Humidity H1 = %f kg dryair/hr\"%(H1)\n"
     ],
     "language": "python",
     "metadata": {},
     "outputs": [
      {
       "output_type": "stream",
       "stream": "stdout",
       "text": [
        "Latent heat of water at 0C HG2 = 131.158680 kJ/kg dryair\n",
        "Enthalpy of entering solid HS1 = 40.288625 kJ/kg dryair\n",
        "Enthalpy of exit solid HS2 = 92.170740 kJ/kg dryair\n",
        "Air flow rate G = 1238.387008 kg dryair/hr\n",
        "Humidity H1 = 0.028944 kg dryair/hr\n"
       ]
      }
     ],
     "prompt_number": 13
    },
    {
     "cell_type": "heading",
     "level": 3,
     "metadata": {},
     "source": [
      "example 6.20 page number 291\n"
     ]
    },
    {
     "cell_type": "code",
     "collapsed": false,
     "input": [
      "\n",
      "import math \n",
      "from numpy import *\n",
      "M_Na2CO3 = 106\n",
      "M_10H2O = 180.2\n",
      "M_Na2CO3_10H2O = 286.2;\n",
      "w_Na2CO3 = 5000.   #in kg\n",
      "water = 0.05   #% of water evaporated\n",
      "\n",
      "W = water*w_Na2CO3;\n",
      "\n",
      "A = array([[0.8230, 0.6296],[0.1769, 0.3703]])\n",
      "b = array([[3500],[1250]])\n",
      "x = linalg.solve(A,b);\n",
      "L = x[0]\n",
      "C = x[1];\n",
      "\n",
      "print \"L = %f kg solution\"%(L)\n",
      "print \"C = %f kg of Na2CO3.10H2O crystals\"%(C)\n"
     ],
     "language": "python",
     "metadata": {},
     "outputs": [
      {
       "output_type": "stream",
       "stream": "stdout",
       "text": [
        "L = 2632.372855 kg solution\n",
        "C = 2118.102193 kg of Na2CO3.10H2O crystals\n"
       ]
      }
     ],
     "prompt_number": 14
    },
    {
     "cell_type": "heading",
     "level": 3,
     "metadata": {},
     "source": [
      "example 6.21 page number 291\n"
     ]
    },
    {
     "cell_type": "code",
     "collapsed": false,
     "input": [
      "\n",
      "import math \n",
      "from numpy import *\n",
      "A = array([[0.7380, 0.5117],[0.2619, 0.4882]])\n",
      "b = array([[1400],[600]])\n",
      "\n",
      "x = linalg.solve(A,b)\n",
      "L = x[0]\n",
      "C = x[1];\n",
      "print \"L = %f kg solution\"%(L)\n",
      "print \"C = %f kg of MgSO4.7H2O crystals\"%(C)\n",
      "\n",
      "F = 2000   #in kg/h\n",
      "cv = 2.93   #in kJ/kg K\n",
      "H1 = F*cv*(330-293);\n",
      "print \"enthalpy of feed = %f kJ\"%(H1)\n",
      "\n",
      "wt = 246.49   #molar mass MgSO4.7H2O\n",
      "heat_soln = -13.31*10**3;   #in kJ/kg mol\n",
      "heat = heat_soln/wt;\n",
      "heat_crystallization = abs(heat);\n",
      "H2 = heat_crystallization*C;   #total heat\n",
      "q = -H1-H2;\n",
      "print \"heat absorbed = %f kJthus heat shall be removed\"%(q)\n"
     ],
     "language": "python",
     "metadata": {},
     "outputs": [
      {
       "output_type": "stream",
       "stream": "stdout",
       "text": [
        "L = 1663.710339 kg solution\n",
        "C = 336.489681 kg of MgSO4.7H2O crystals\n",
        "enthalpy of feed = 216820.000000 kJ\n",
        "heat absorbed = -234989.814805 kJthus heat shall be removed\n"
       ]
      }
     ],
     "prompt_number": 15
    },
    {
     "cell_type": "code",
     "collapsed": false,
     "input": [],
     "language": "python",
     "metadata": {},
     "outputs": []
    }
   ],
   "metadata": {}
  }
 ]
}