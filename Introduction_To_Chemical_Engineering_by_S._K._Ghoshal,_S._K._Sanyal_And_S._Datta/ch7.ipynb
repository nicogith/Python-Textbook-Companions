{
 "metadata": {
  "name": ""
 },
 "nbformat": 3,
 "nbformat_minor": 0,
 "worksheets": [
  {
   "cells": [
    {
     "cell_type": "heading",
     "level": 1,
     "metadata": {},
     "source": [
      "Chapter 7 : Chemical Kinetics"
     ]
    },
    {
     "cell_type": "heading",
     "level": 3,
     "metadata": {},
     "source": [
      "example 7.3 page number 305"
     ]
    },
    {
     "cell_type": "code",
     "collapsed": false,
     "input": [
      "\n",
      "import math \n",
      "\n",
      "r = 3**2*3;   #according to the rate reaction\n",
      "print \"reaction reate will be increased by with 3 times increase in pressure = %f times\"%(r)\n",
      "\n",
      "r = 3**2*3;   #according to the rate reaction\n",
      "print \"reaction reate will be increased by with 3 times decrease in volume = %f times\"%(r)\n",
      "\n",
      "r = 3**2;   #according to the rate reaction\n",
      "print \"reaction reate will be increased by with 3 times increase in conc of NO = %f times\"%(r)\n"
     ],
     "language": "python",
     "metadata": {},
     "outputs": [
      {
       "output_type": "stream",
       "stream": "stdout",
       "text": [
        "reaction reate will be increased by with 3 times increase in pressure = 27.000000 times\n",
        "reaction reate will be increased by with 3 times decrease in volume = 27.000000 times\n",
        "reaction reate will be increased by with 3 times increase in conc of NO = 9.000000 times\n"
       ]
      }
     ],
     "prompt_number": 1
    },
    {
     "cell_type": "heading",
     "level": 3,
     "metadata": {},
     "source": [
      "example 7.10 page number 316\n"
     ]
    },
    {
     "cell_type": "code",
     "collapsed": false,
     "input": [
      "\n",
      "from scipy.optimize import fsolve \n",
      "import math \n",
      "moles_A = 3.;\n",
      "moles_B = 5.;\n",
      "K = 1.;\n",
      "\n",
      "def F(x):\n",
      "    return 15.-8*x;\n",
      "\n",
      "\n",
      "x = 10.;\n",
      "y = fsolve(F,x)\n",
      "\n",
      "print \"amount of A transformed = %f percent\"%(y*100/3)\n",
      "\n"
     ],
     "language": "python",
     "metadata": {},
     "outputs": [
      {
       "output_type": "stream",
       "stream": "stdout",
       "text": [
        "amount of A transformed = 62.500000 percent\n"
       ]
      }
     ],
     "prompt_number": 2
    },
    {
     "cell_type": "heading",
     "level": 3,
     "metadata": {},
     "source": [
      "example 7.11 page number 316\n"
     ]
    },
    {
     "cell_type": "code",
     "collapsed": false,
     "input": [
      "\n",
      "from scipy.optimize import fsolve \n",
      "import math \n",
      "Cp = 0.02;\n",
      "Cq = 0.02;\n",
      "K = 4*10**-2;\n",
      "Cb = 0.05;\n",
      "Cb_i = Cb+Cp;\n",
      "a = (Cp*Cq)/(K*Cb);\n",
      "\n",
      "def F(x):\n",
      "    return x-0.02-a;\n",
      "\n",
      "x = 10.;\n",
      "y = fsolve(F,x)\n",
      "\n",
      "print \"conc of A= %f mol/l\"%(y)\n",
      "print \"conc of B= %f mol/l\"%(Cb_i)\n"
     ],
     "language": "python",
     "metadata": {},
     "outputs": [
      {
       "output_type": "stream",
       "stream": "stdout",
       "text": [
        "conc of A= 0.220000 mol/l\n",
        "conc of B= 0.070000 mol/l\n"
       ]
      }
     ],
     "prompt_number": 3
    },
    {
     "cell_type": "heading",
     "level": 3,
     "metadata": {},
     "source": [
      "example 7.12 page number 316\n"
     ]
    },
    {
     "cell_type": "code",
     "collapsed": false,
     "input": [
      "\n",
      "import math \n",
      "\n",
      "Ce_N2 = 3.;   #equilibrium conc of N2\n",
      "Ce_H2 = 9.;   #equilibrium conc of H2\n",
      "Ce_NH3 = 4.;  #equilibrium conc oh NH3\n",
      "\n",
      "C_N2 = Ce_N2 + 0.5*Ce_NH3;\n",
      "C_H2 = Ce_H2 + 1.5*Ce_NH3;\n",
      "\n",
      "print \"concentration of N2 = %f mol/l \\nconcentration of H2 = %f mol/l\"%(C_N2,C_H2)\n",
      "\n",
      "n_H2 = 3.;   #stotiometric coefficient\n",
      "n_N2 = 1.;   #stotiometric coefficient\n",
      "n_NH3= 2.;   #stotiometric coefficient\n",
      "delta_n = n_H2+n_N2-n_NH3;\n",
      "if delta_n > 0:\n",
      "    print  \"delta_n =%f  since delta_n is greater than 0,equilibrium will shift to right with increase in volume\"%(delta_n)\n",
      "\n"
     ],
     "language": "python",
     "metadata": {},
     "outputs": [
      {
       "output_type": "stream",
       "stream": "stdout",
       "text": [
        "concentration of N2 = 5.000000 mol/l \n",
        "concentration of H2 = 15.000000 mol/l\n",
        "delta_n =2.000000  since delta_n is greater than 0,equilibrium will shift to right with increase in volume\n"
       ]
      }
     ],
     "prompt_number": 5
    },
    {
     "cell_type": "heading",
     "level": 3,
     "metadata": {},
     "source": [
      "example 7.13 page number 317\n"
     ]
    },
    {
     "cell_type": "code",
     "collapsed": false,
     "input": [
      "\n",
      "from scipy.optimize import fsolve \n",
      "import math \n",
      "moles_A = 0.02;\n",
      "K = 1.;\n",
      "\n",
      "moles_B = 0.02;\n",
      "def F(x):\n",
      "    return  moles_A*moles_B-(moles_A+moles_B)*x;\n",
      "\n",
      "x = 10.;\n",
      "y = fsolve(F,x)\n",
      "print \"amount of A transformed = %f percent\"%(y*100/0.02)\n",
      "\n",
      "moles_B = 0.1;\n",
      "y = fsolve(F,x)\n",
      "print \"amount of A transformed = %f percent\"%(y*100/0.02)\n",
      "\n",
      "moles_B = 0.2;\n",
      "y = fsolve(F,x)\n",
      "print \"amount of A transformed = %.0f percent\"%(y*100/0.02)\n",
      "\n"
     ],
     "language": "python",
     "metadata": {},
     "outputs": [
      {
       "output_type": "stream",
       "stream": "stdout",
       "text": [
        "amount of A transformed = 50.000000 percent\n",
        "amount of A transformed = 83.333333 percent\n",
        "amount of A transformed = 91 percent\n"
       ]
      }
     ],
     "prompt_number": 1
    },
    {
     "cell_type": "heading",
     "level": 3,
     "metadata": {},
     "source": [
      "example 7.15 page no : 319\n"
     ]
    },
    {
     "cell_type": "code",
     "collapsed": false,
     "input": [
      "\n",
      "import math \n",
      "from numpy import *\n",
      "from matplotlib.pyplot import *\n",
      "\n",
      "%matplotlib inline\n",
      "t = array([0,5,10,15,20,25])\n",
      "C_A = array([25,18.2,13.2,9.6,7,5.1])\n",
      "\n",
      "s = 0;\n",
      "k = zeros(6)\n",
      "\n",
      "for i in range(1,6):\n",
      "    k[i] = (1./t[i])*math.log(25./C_A[i])\n",
      "    #print  (k[i],\"k values for various conc.\")\n",
      "    s = s+k[i]\n",
      "\n",
      "print \"average value of k = %f\"%(s/5)\n",
      "print  (\"ra =- 0.06367*CA\",\"since its a first order reaction,\")\n",
      "\n",
      "subplot(221) \n",
      "plot(t,C_A)\n",
      "\n",
      "xlabel(\"time\")\n",
      "ylabel(\"concentration\")\n",
      "suptitle(\"integral method\")\n",
      "\n",
      "ra = array([1.16,0.83,0.60,0.43])\n",
      "C_A = array([18.2,13.2,9.6,7])\n",
      "\n",
      "subplot(222) \n",
      "plot(C_A,ra)\n",
      "plot(C_A,ra,'ro')\n",
      "xlabel(\"Concentration\")\n",
      "ylabel(\"-ra\")\n",
      "suptitle(\"differential method\")\n",
      "xlim(1,20)\n",
      "ylim(.1,2)\n",
      "print \"rate from differential method = -0.064*CA\"\n"
     ],
     "language": "python",
     "metadata": {},
     "outputs": [
      {
       "output_type": "stream",
       "stream": "stdout",
       "text": [
        "Populating the interactive namespace from numpy and matplotlib\n",
        "average value of k = 0.063680\n",
        "('ra =- 0.06367*CA', 'since its a first order reaction,')\n",
        "rate from differential method = -0.064*CA"
       ]
      },
      {
       "output_type": "stream",
       "stream": "stdout",
       "text": [
        "\n"
       ]
      },
      {
       "output_type": "stream",
       "stream": "stderr",
       "text": [
        "WARNING: pylab import has clobbered these variables: ['draw_if_interactive', 'new_figure_manager']\n",
        "`%pylab --no-import-all` prevents importing * from pylab and numpy\n"
       ]
      },
      {
       "metadata": {},
       "output_type": "display_data",
       "png": "[encoded data removed]",
       "text": [
        "<matplotlib.figure.Figure at 0x2b3a490>"
       ]
      }
     ],
     "prompt_number": 1
    },
    {
     "cell_type": "heading",
     "level": 3,
     "metadata": {},
     "source": [
      "example 7.16 page no : 322\n"
     ]
    },
    {
     "cell_type": "code",
     "collapsed": false,
     "input": [
      "\n",
      "import math \n",
      "E = 75200.    #in J/mol\n",
      "E1 = 50100.   #in J/mol\n",
      "R = 8.314    #in J/mol K\n",
      "T = 298.   #in K\n",
      "\n",
      "ratio = math.exp((E1-E)/(R*T));\n",
      "rate_increase = ratio**-1\n",
      "\n",
      "print  \"increase in rate of reaction =\",rate_increase,\"times\"\n"
     ],
     "language": "python",
     "metadata": {},
     "outputs": [
      {
       "output_type": "stream",
       "stream": "stdout",
       "text": [
        "increase in rate of reaction = 25106.6042072 times\n"
       ]
      }
     ],
     "prompt_number": 6
    },
    {
     "cell_type": "code",
     "collapsed": false,
     "input": [],
     "language": "python",
     "metadata": {},
     "outputs": []
    }
   ],
   "metadata": {}
  }
 ]
}