{
 "cells": [
  {
   "cell_type": "markdown",
   "metadata": {},
   "source": [
    "# Chapter 10 Absorption"
   ]
  },
  {
   "cell_type": "markdown",
   "metadata": {},
   "source": [
    "## Example 10_2_1 pgno:313"
   ]
  },
  {
   "cell_type": "code",
   "execution_count": 16,
   "metadata": {
    "collapsed": false
   },
   "outputs": [
    {
     "name": "stdout",
     "output_type": "stream",
     "text": [
      "The diameter of the tower is ft 6.4\n"
     ]
    }
   ],
   "source": [
    "#initialization of variables\n",
    "c = 0.92\n",
    "F = 93. # ft**-1\n",
    "nu = 2. # cs\n",
    "dl = 63. # lb/ft**3\n",
    "dg = 2.8 # lb/ft**3\n",
    "G = 23. #lb/sex\n",
    "from math import pi\n",
    "#Calculations\n",
    "G11 = c*((dl-dg)**0.5)/(((F)**0.5)*(nu**0.05))#  lb/ft**2-sec\n",
    "A  = G/G11# ft**2\n",
    "d = (4*A/pi)**0.5#ft\n",
    "#Results\n",
    "print\"The diameter of the tower is ft\",round(d,1)\n"
   ]
  },
  {
   "cell_type": "markdown",
   "metadata": {},
   "source": [
    "## Example 10_3_1 pgno:318"
   ]
  },
  {
   "cell_type": "code",
   "execution_count": 17,
   "metadata": {
    "collapsed": false
   },
   "outputs": [
    {
     "name": "stdout",
     "output_type": "stream",
     "text": [
      "The length of the tower is m 3.2\n"
     ]
    }
   ],
   "source": [
    "#Initialization of variables\n",
    "G = 2.3 # Gas flow in gmol/sec\n",
    "L = 4.8 # Liquid flow in gmol/sec\n",
    "y0 = 0.0126 # entering gas Mole fraction of CO2\n",
    "yl = 0.0004 # Exiting gas mole fraction of CO2 \n",
    "xl = 0 # Exiting liquid mole fraction of CO2\n",
    "d = 40. # Diameter of the tower in cm\n",
    "x0star = 0.0080# if the amine left in equilibrium with the entering gas would contain 0.80 percent C02\n",
    "Kya = 5*10**-5 # Overall M.T.C and the product times the area per volume in gmol/cm**3-sec\n",
    "from math import pi\n",
    "from math import log\n",
    "#Calculations\n",
    "A =pi*(d**2)/4\n",
    "x0 = ((G*(y0-yl))/(L)) + xl # Entering liquid mole fraction of CO2\n",
    "m = y0/x0star # Equilibirum constant\n",
    "c1 = G/(A*Kya)\n",
    "c2 = 1/(1-(m*G/L))\n",
    "c3 = log((y0-m*x0)/(yl-m*xl))\n",
    "l = (G/(A*Kya))*(1/(1-((m*G)/L)))*(log((y0-m*x0)/(yl-m*xl)))/100 #length of the tower in metres\n",
    "#Results\n",
    "print\"The length of the tower is m\",round(l,1)\n"
   ]
  },
  {
   "cell_type": "markdown",
   "metadata": {},
   "source": [
    "## Example 10_3_2 pgno:319"
   ]
  },
  {
   "cell_type": "code",
   "execution_count": 18,
   "metadata": {
    "collapsed": false
   },
   "outputs": [
    {
     "name": "stdout",
     "output_type": "stream",
     "text": [
      "the percentage of oxygen we can remove is 98.4\n"
     ]
    }
   ],
   "source": [
    "#initialization of variables\n",
    "l = 200. # Length of the tower in cm\n",
    "d = 60. # diameter of the tower\n",
    "Lf = 300. # Liquid flow in cc/sec\n",
    "Kx = 2.2*10**-3 # dominant transfer co efficient in liquid in cm/sec\n",
    "from math import pi\n",
    "from math import exp\n",
    "#Calculations\n",
    "A = pi*60*60/4 # Area of the cross section in sq cm\n",
    "L = Lf/A # Liquid flux in cm**2/sec\n",
    "ratio = 1/(exp((l*Kx)/L))\n",
    "percentage = (1-ratio)*100 # Percentage removal of Oxygen\n",
    "#Results\n",
    "print\"the percentage of oxygen we can remove is\",round(percentage,1)\n",
    "\n",
    "\n",
    "\n",
    "# Rounding of error in textbook"
   ]
  },
  {
   "cell_type": "markdown",
   "metadata": {},
   "source": [
    "## Example 10_4_1 pgno:324"
   ]
  },
  {
   "cell_type": "code",
   "execution_count": 19,
   "metadata": {
    "collapsed": false
   },
   "outputs": [
    {
     "name": "stdout",
     "output_type": "stream",
     "text": [
      "The flow of pure water into the top of the tower kgmol/sec 0.0652\n",
      "\n",
      " The diameter of the tower is  m 3.5\n",
      "\n",
      " The length of the tower is m 1232.0\n"
     ]
    }
   ],
   "source": [
    "#initialization of variables\n",
    "y1in = 0.37 # mole fraction of Ammonia in gas mixture entering\n",
    "y2in =0.16 # mole fraction of nitrogen in gas mixture entering\n",
    "y3in = 0.47 # mole fraction of hydrogen in gas mixture entering\n",
    "x1out = 0.23 # mole fraction of Ammonia in liquid coming out\n",
    "y1out = 0.01 # mole fraction of ammonia in gas coming out\n",
    "G0 = 1.20 # Gas glow entering in m**3/sec\n",
    "Mu = 1.787*0.01*0.3048/2.23 # liquid viscousity in american units\n",
    "dl = 62.4 # Density of  liquid in lb/ft**3\n",
    "KG = 0.032 # Overall m.t.c in gas phase in  gas side m/sec\n",
    "a = 105 # surface area in m**2/m**3\n",
    "gc = 32.2 # acceleration due to gravity in ft/sec**2\n",
    "dg = 0.0326 # Density of gas in lb/ft**3\n",
    "#Molecular weights of Ammonia , N2 , H2\n",
    "M1 = 17\n",
    "M2 = 28\n",
    "M3 = 2\n",
    "Nu = 1 # Viscousity\n",
    "from math import pi \n",
    "#Calculations\n",
    "AG0 = (y2in+y3in)*G0/22.4 # Total flow of non absorbed gases in kgmol/sec\n",
    "ANH3 = y1in*G0/22.4- (y1out*AG0)/(1-y1out) # Ammonia absorbed kgmol/sec\n",
    "AL0 = ((1-x1out)/x1out)*ANH3 # the desired water flow in kgmol/sec\n",
    "avg1 = 11.7 # Average mol wt of gas\n",
    "avg2 = 17.8 # avg mol wt of liquid\n",
    "TFG = avg1*AG0/(y2in+y3in)#Total flow of gas in kg/sec\n",
    "TFL = avg2*AL0/(1-x1out)#total flow of liquid in kg/sec\n",
    "F = 45 # Packing factor\n",
    "GFF =  1.3*((dl-dg)**0.5)/((F**0.5)*(Nu**0.05))# Flux we require in lb/ft**2-sec\n",
    "GFF1 = GFF*0.45/(0.3**2) # in kg/m**2-sec (answer wrong in textbook)\n",
    "Area = TFG/GFF1 # Area of the cross section of tower\n",
    "dia = ((4*Area/pi)**0.5)*10.9# diameter in metres\n",
    "HTU = (22.4*AG0/pi*dia**2)/(KG*a*4)\n",
    "NTU = 5555\n",
    "l = HTU*NTU # Length of the tower\n",
    "#Results\n",
    "print\"The flow of pure water into the top of the tower kgmol/sec\",round(AL0,4)\n",
    "print\"\\n The diameter of the tower is  m\",round(dia,1)\n",
    "print\"\\n The length of the tower is m\",round(l)\n"
   ]
  }
 ],
 "metadata": {
  "kernelspec": {
   "display_name": "Python 2",
   "language": "python",
   "name": "python2"
  },
  "language_info": {
   "codemirror_mode": {
    "name": "ipython",
    "version": 2
   },
   "file_extension": ".py",
   "mimetype": "text/x-python",
   "name": "python",
   "nbconvert_exporter": "python",
   "pygments_lexer": "ipython2",
   "version": "2.7.9"
  }
 },
 "nbformat": 4,
 "nbformat_minor": 0
}
