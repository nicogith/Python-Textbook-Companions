{
 "metadata": {
  "name": "",
  "signature": "sha256:63415a109c6989d49d84f5199fa0cd1f338b44376604f4b24df855330c3cb38a"
 },
 "nbformat": 3,
 "nbformat_minor": 0,
 "worksheets": [
  {
   "cells": [
    {
     "cell_type": "heading",
     "level": 1,
     "metadata": {},
     "source": [
      "Chapter 7: D.C. Machines"
     ]
    },
    {
     "cell_type": "heading",
     "level": 2,
     "metadata": {},
     "source": [
      "Example 7.1, Page 243"
     ]
    },
    {
     "cell_type": "code",
     "collapsed": false,
     "input": [
      "#Variable declaration\n",
      "Rf = 200;    # The resistance of field winding of a shunt generator, ohm\n",
      "Po = 80e+03;     # Power delivered by the machine, watt\n",
      "V = 450;    # The terminal voltage, volt\n",
      "E = 475;    # The generated emf, volt\n",
      "\n",
      "\n",
      "#Calculations\n",
      "# Part (a)\n",
      "# Po = V*I_L, solving for I_L\n",
      "I_L = Po/V;     # Load current, A\n",
      "I_f = V/Rf;     # Current through field resistor, A\n",
      "I_a = I_L + I_f;    # Current through armature resistance, A\n",
      "# As I_a*Ra = E - V, solving for Ra\n",
      "Ra = 25/I_a;    # Armature resistance, ohm\n",
      "\n",
      "# Part (b)\n",
      "Po = 50e+03;    # Output power delivered by the machine, watt\n",
      "V = 460;    # The terminal voltage, volt\n",
      "I_L = Po/V;     # Load current, A\n",
      "I_f = V/Rf;     # Current through field resistor, A\n",
      "I_a = I_L + I_f;    # Current through armature resistance, A\n",
      "# As I_a*Ra = E - V, solving for E\n",
      "E = V + I_a*Ra;     # The generated voltage, volt\n",
      "\n",
      "#Results\n",
      "print \"The armature resistance = %5.3f ohm\"%Ra\n",
      "print \"The value of generated emf = %5.1f V\"%E\n"
     ],
     "language": "python",
     "metadata": {},
     "outputs": [
      {
       "output_type": "stream",
       "stream": "stdout",
       "text": [
        "The armature resistance = 0.139 ohm\n",
        "The value of generated emf = 475.4 V\n"
       ]
      }
     ],
     "prompt_number": 1
    }
   ],
   "metadata": {}
  }
 ]
}