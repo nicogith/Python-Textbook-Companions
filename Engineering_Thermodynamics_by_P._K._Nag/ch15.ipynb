{
 "metadata": {
  "name": "",
  "signature": "sha256:69db660ca30a9a3baf1684d4ef5be81cf91d6088bb69eac31dc95900ca98814a"
 },
 "nbformat": 3,
 "nbformat_minor": 0,
 "worksheets": [
  {
   "cells": [
    {
     "cell_type": "heading",
     "level": 1,
     "metadata": {},
     "source": [
      "Chapter 15 : Psychrometrics"
     ]
    },
    {
     "cell_type": "heading",
     "level": 2,
     "metadata": {},
     "source": [
      "Example 15.1 Page No : 618"
     ]
    },
    {
     "cell_type": "code",
     "collapsed": false,
     "input": [
      "import math \n",
      "\n",
      "# Variables\n",
      "Ps = 0.033363; \n",
      "P = 1.0132;\n",
      "\n",
      "# Calculation and Results\n",
      "W2 = (0.622*Ps)/(P-Ps);\n",
      "hfg2 = 2439.9; hf2 = 109.1; cpa = 1.005;\n",
      "hg = 2559.9; hw1 = hg;\n",
      "T2 = 25+273; T1 = 32+273;\n",
      "W1 = (cpa*(T2-T1)+(W2*hfg2))/(hw1-hf2);\n",
      "Pw = ((W1/0.622)*P)/(1+(W1/0.622));\n",
      "print \"Specific humidity is \",round(W1,4),\"kg vap./kg dry air\"\n",
      "print \"Partial pressure of water vapour is\",round(Pw,2),\"bar\"\n",
      "print \"Dew point temperature is\",24.1,\"degree\" \t\t\t# saturation temperature at 0.03 bar\n",
      "\n",
      "Psat = 0.048; \t\t\t# at 32 degree\n",
      "fi = Pw/Psat;\n",
      "print \"Relative humidity is\",round((fi*100),1),\"%\"\n",
      "mu = (Pw/Ps)*((P-Ps)/(P-Pw));\n",
      "print \"Degree of saturation is %.3f\"%mu\n",
      "Pa = P-Pw;\n",
      "Ra = 0.287; Tab = T1;\n",
      "rho_a = (Pa*100)/(Ra*Tab);\n",
      "print \"Density of dry air is\",round(rho_a,2),\"kg/m3\"\n",
      "rho_w = W1*rho_a;\n",
      "print \"Density of water vapour is\",round(rho_w,3),\"kg/m3\"\n",
      "ta = 32.; \n",
      "tdb = 32.; \n",
      "tdp = 24.1;\n",
      "h = cpa*ta + W1*(hg+1.88*(tdb-tdp));\n",
      "print \"Enthalpy of the mixture is\",round(h,2),\"kJ/kg\"\n",
      "\n",
      "# note: rounding off error is there."
     ],
     "language": "python",
     "metadata": {},
     "outputs": [
      {
       "output_type": "stream",
       "stream": "stdout",
       "text": [
        "Specific humidity is  0.0182 kg vap./kg dry air\n",
        "Partial pressure of water vapour is 0.03 bar\n",
        "Dew point temperature is 24.1 degree\n",
        "Relative humidity is 60.1 %\n",
        "Degree of saturation is 0.860\n",
        "Density of dry air is 1.12 kg/m3\n",
        "Density of water vapour is 0.02 kg/m3\n",
        "Enthalpy of the mixture is 79.06 kJ/kg\n"
       ]
      }
     ],
     "prompt_number": 2
    },
    {
     "cell_type": "heading",
     "level": 2,
     "metadata": {},
     "source": [
      "Example 15.2 Page No : 620"
     ]
    },
    {
     "cell_type": "code",
     "collapsed": false,
     "input": [
      "\n",
      "# Variables\n",
      "Ps = 2.339; P = 100;\n",
      "W2 = (0.622*Ps)/(P-Ps);\n",
      "hfg2 = 2454.1; hf2 = 83.96; cpa = 1.005;\n",
      "hw1 = 2556.3;\n",
      "T2 = 20.; \n",
      "T1 = 30.;\n",
      "\n",
      "# Calculation\n",
      "W1 = (cpa*(T2-T1)+(W2*hfg2))/(hw1-hf2);\n",
      "Pw1 = ((W1/0.622)*P)/(1+(W1/0.622));\n",
      "Ps1 = 4.246;\n",
      "fi = (Pw1/Ps1);\n",
      "\n",
      "# Results\n",
      "print \"Relative humidity is\",round((fi*100),1),\"%\"\n",
      "print \"Humidity ratio of inlet mixture is\",round(W1,4),\"kg vap./kg dry air\"\n"
     ],
     "language": "python",
     "metadata": {},
     "outputs": [
      {
       "output_type": "stream",
       "stream": "stdout",
       "text": [
        "Relative humidity is 39.9 %\n",
        "Humidity ratio of inlet mixture is 0.0107 kg vap./kg dry air\n"
       ]
      }
     ],
     "prompt_number": 14
    },
    {
     "cell_type": "heading",
     "level": 2,
     "metadata": {},
     "source": [
      "Example 15.3 Page No : 621"
     ]
    },
    {
     "cell_type": "code",
     "collapsed": false,
     "input": [
      "\n",
      "# Variables\n",
      "Psat = 2.339;\n",
      "fi3 = 0.50;\n",
      "P = 101.3; \n",
      "cp = 1.005;\n",
      "\n",
      "# Calculation\n",
      "Pw3 = fi3*Psat;\n",
      "Pa3 = P-Pw3;\n",
      "W3 = 0.622*(Pw3/Pa3);\n",
      "Psa1_1 = 0.7156;\n",
      "Pw1 = 0.7156;\n",
      "Pa1 = P-Pw1;\n",
      "W1 = 0.622*(Pw1/Pa1); W2 = W1;\n",
      "T3 = 293.; \n",
      "Ra = 0.287; \n",
      "Pa3 = 100.13;\n",
      "va3 = (Ra*T3)/Pa3;\n",
      "SW = (W3-W1)/va3;\n",
      "t3 = 20.; \n",
      "tsat = 9.65; \n",
      "hg = 2518.; \n",
      "h4 = 10.;\n",
      "t2 = ( W3*(hg+1.884*(t3-tsat))-W2*(hg-1.884*tsat) + cp*t3 - (W3-W2)*h4 )/ (cp+W2*1.884)\n",
      "\n",
      "# Results\n",
      "print \"Mass of spray water required is\",round(SW,5),\"kg moisture/m3\"\n",
      "print \"Temperature to which air must be heated is\",round(t2,1),\"degree\"\n",
      "\n"
     ],
     "language": "python",
     "metadata": {},
     "outputs": [
      {
       "output_type": "stream",
       "stream": "stdout",
       "text": [
        "Mass of spray water required is 0.00338 kg moisture/m3\n",
        "Temperature to which air must be heated is 27.1 degree\n"
       ]
      }
     ],
     "prompt_number": 16
    },
    {
     "cell_type": "heading",
     "level": 2,
     "metadata": {},
     "source": [
      "Example 15.4 Page No : 622"
     ]
    },
    {
     "cell_type": "code",
     "collapsed": false,
     "input": [
      "\n",
      "# Variables\n",
      "h1 = 82.; \n",
      "h2 = 52.; \n",
      "h3 = 47.; \n",
      "h4 = 40.;\n",
      "W1 = 0.020; \n",
      "W2 = 0.0115; \n",
      "W3 = W2;\n",
      "v1 = 0.887;\n",
      "v = 3.33; \t\t\t# amount of free sir circulated\n",
      "\n",
      "# Calculation\n",
      "G = v/v1;\n",
      "CC = (G*(h1-h3)*3600.)/14000; \t\t\t# in tonns\n",
      "R = G*(W1-W3);\n",
      "\n",
      "# Results\n",
      "print \"Capacity of the cooling coil in tonnes\",round(CC,2),\"tonnes\"\n",
      "print \"Rate of water vapour removed is\",round(R,4),\"kg/s\"\n"
     ],
     "language": "python",
     "metadata": {},
     "outputs": [
      {
       "output_type": "stream",
       "stream": "stdout",
       "text": [
        "Capacity of the cooling coil in tonnes 33.79 tonnes\n",
        "Rate of water vapour removed is 0.0319 kg/s\n"
       ]
      }
     ],
     "prompt_number": 18
    },
    {
     "cell_type": "heading",
     "level": 2,
     "metadata": {},
     "source": [
      "Example 15.5 Page No : 623"
     ]
    },
    {
     "cell_type": "code",
     "collapsed": false,
     "input": [
      "\n",
      "# Variables\n",
      "W1 = 0.0058\n",
      "W2 = 0.0187; \n",
      "h1 = 35.\n",
      "h2 = 90.\n",
      "\n",
      "# Calculation\n",
      "G12 = 1./2; \t\t\t# G12 = G1./G2 \n",
      "W3 = (W2+G12*W1)/(1+G12);\n",
      "h3 = (2./3)*h2 + (1./3)*h1;\n",
      "\n",
      "# Results\n",
      "print (\"Final condition of air is given by\")\n",
      "print \"W3 = \",W3,\"kg vap./kg dry air\"\n",
      "print \"h3 = \",round(h3,2),\"kJ/kg dry air\"\n"
     ],
     "language": "python",
     "metadata": {},
     "outputs": [
      {
       "output_type": "stream",
       "stream": "stdout",
       "text": [
        "Final condition of air is given by\n",
        "W3 =  0.0144 kg vap./kg dry air\n",
        "h3 =  71.67 kJ/kg dry air\n"
       ]
      }
     ],
     "prompt_number": 19
    },
    {
     "cell_type": "heading",
     "level": 2,
     "metadata": {},
     "source": [
      "Example 15.6 Page no : 624"
     ]
    },
    {
     "cell_type": "code",
     "collapsed": false,
     "input": [
      "# variables\n",
      "T2 = 38.5           # c\n",
      "o3 =11.2             # c\n",
      "\n",
      "# calculations\n",
      "h1h3 = 60.5 - 42.\n",
      "w1w2  = 0.0153 - 0.0083  \n",
      "\n",
      "# results\n",
      "print \"T2 = %.1f C\"%T2\n",
      "print \"h1 - h3 = %.1f kJ/kg dry air\"%h1h3\n",
      "print \"W1 - W2 = %.4f kg vap/kg dry air\"%w1w2"
     ],
     "language": "python",
     "metadata": {},
     "outputs": [
      {
       "output_type": "stream",
       "stream": "stdout",
       "text": [
        "T2 = 38.5 C\n",
        "h1 - h3 = 18.5 kJ/kg dry air\n",
        "W1 - W2 = 0.0070 kg vap/kg dry air\n"
       ]
      }
     ],
     "prompt_number": 3
    },
    {
     "cell_type": "heading",
     "level": 2,
     "metadata": {},
     "source": [
      "Example 15.7 Page No : 624"
     ]
    },
    {
     "cell_type": "code",
     "collapsed": false,
     "input": [
      "\n",
      "# Variables\n",
      "h1 = 57.\n",
      "h2 = h1;\n",
      "h3 = 42.;\n",
      "W1 = 0.0065; \n",
      "W2 = 0.0088; \n",
      "W3 = W2;\n",
      "t2 = 34.5; \n",
      "v1 = 0.896;\n",
      "n = 1500.; \t\t\t# seating capacity of hall\n",
      "a = 0.3; \t\t\t# amount of out door air suplied\n",
      "\n",
      "# Calculation\n",
      "G = (n*a)/0.896 ; \t\t\t# Amount of dry air suplied\n",
      "CC = (G*(h2-h3)*60)/14000; \t\t\t# in tonns\n",
      "R = G*(W2-W1)*60;\n",
      "\n",
      "# Results\n",
      "print \"Capacity of the cooling coil in tonnes\",round(CC,2),\"tonnes\"\n",
      "print \"Capacity of humidifier\",round(R,1),\"kg/h\"\n"
     ],
     "language": "python",
     "metadata": {},
     "outputs": [
      {
       "output_type": "stream",
       "stream": "stdout",
       "text": [
        "Capacity of the cooling coil in tonnes 32.29 tonnes\n",
        "Capacity of humidifier 69.3 kg/h\n"
       ]
      }
     ],
     "prompt_number": 21
    },
    {
     "cell_type": "heading",
     "level": 2,
     "metadata": {},
     "source": [
      "Example 15.8 Page No : 626"
     ]
    },
    {
     "cell_type": "code",
     "collapsed": false,
     "input": [
      "\n",
      "# Variables\n",
      "twb1 = 15.2; \n",
      "twb2 = 26.7; \n",
      "tw3 = 30.;\n",
      "h1 = 43.; \n",
      "h2 = 83.5; \n",
      "hw = 84.; \n",
      "mw = 1.15;\n",
      "W1 = 0.0088; \n",
      "W2 = 0.0213;\n",
      "hw3 = 125.8; \n",
      "hm = 84;\n",
      "G = 1.;\n",
      "\n",
      "# Calculation\n",
      "hw34 = (G/mw)*((h2-h1)-(W2-W1)*hw);  \t\t\t# hw3-hw4\n",
      "tw4 = tw3-(hw34/4.19);\n",
      "A = tw4-twb1;\n",
      "R = tw3-tw4;\n",
      "x = G*(W2-W1);\n",
      "\n",
      "# Results\n",
      "print \"Temperature of water leaving the tower is\",round(tw4,1),\"degree\"\n",
      "print \"Fraction of water evoporated is\",x,\"kg/kg dry sir\"\n",
      "print \"Range of cooling water is\",round(R,1),\"degree\"\n",
      "print \"Approach of cooling water is\",round(A,1),\"degree\"\n",
      "\n"
     ],
     "language": "python",
     "metadata": {},
     "outputs": [
      {
       "output_type": "stream",
       "stream": "stdout",
       "text": [
        "Temperature of water leaving the tower is 21.8 degree\n",
        "Fraction of water evoporated is 0.0125 kg/kg dry sir\n",
        "Range of cooling water is 8.2 degree\n",
        "Approach of cooling water is 6.6 degree\n"
       ]
      }
     ],
     "prompt_number": 24
    },
    {
     "cell_type": "heading",
     "level": 2,
     "metadata": {},
     "source": [
      "Example 15.9 Page No : 627"
     ]
    },
    {
     "cell_type": "code",
     "collapsed": false,
     "input": [
      "\n",
      "# Variables\n",
      "Psat1 = 0.01705; \n",
      "hg1 = 2528.9; \t\t\t# at 15 degree\n",
      "Psat2 = 0.05628; \n",
      "hg2 = 2565.3; \t\t\t# At 35 degree\n",
      "fi1 = 0.55;\n",
      "Pw1 = fi1*Psat1;\n",
      "fi2 = 1;\n",
      "Pw2 = fi2*Psat2;\n",
      "P = 1.;\n",
      "\n",
      "# Calculation\n",
      "W1 = (0.622*Pw1)/(P-Pw1);\n",
      "W2 = (0.622*Pw2)/(P-Pw2);\n",
      "MW = W2-W1;\n",
      "t2 = 35; t1 = 15; \n",
      "m_dot = 2.78;\n",
      "cpa = 1.005;\n",
      "h43 = 35*4.187; \t\t\t# h4-h3\n",
      "h5 = 14*4.187;\n",
      "m_dot_w = (-(W2-W1)*h5 - W1*hg1 + W2*hg2 + cpa*(t2-t1))/(h43) ;\n",
      "R = m_dot/m_dot_w ;\n",
      "MW = (W2-W1)*R;\n",
      "RWA = R*(1+W1);\n",
      "R = 0.287; T = 288; \n",
      "V_dot = (RWA*R*T)/(P*1e02) ; \t\t\t# Pressure is in kilo Pascal\n",
      "\n",
      "# Results\n",
      "print \"Make up water flow rate is\",round(MW,3),\"kg/s\"\n",
      "print \"Volume flow rate of air is\",round(V_dot,3),\"m3/s\"\n"
     ],
     "language": "python",
     "metadata": {},
     "outputs": [
      {
       "output_type": "stream",
       "stream": "stdout",
       "text": [
        "Make up water flow rate is 0.129 kg/s\n",
        "Volume flow rate of air is 3.437 m3/s\n"
       ]
      }
     ],
     "prompt_number": 26
    }
   ],
   "metadata": {}
  }
 ]
}