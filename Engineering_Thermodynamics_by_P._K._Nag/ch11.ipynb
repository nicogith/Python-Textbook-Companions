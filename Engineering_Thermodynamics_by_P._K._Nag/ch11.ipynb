{
 "metadata": {
  "name": "",
  "signature": "sha256:b99b43ef9ee3f0e18b3e8ae0d1337578843f4e3386da957a44c33db0abf4a4dd"
 },
 "nbformat": 3,
 "nbformat_minor": 0,
 "worksheets": [
  {
   "cells": [
    {
     "cell_type": "heading",
     "level": 1,
     "metadata": {},
     "source": [
      "Chapter 11 : Thermodynamic Relations, Equilibrium and Stability"
     ]
    },
    {
     "cell_type": "heading",
     "level": 2,
     "metadata": {},
     "source": [
      "Example 11.3 Page No : 418"
     ]
    },
    {
     "cell_type": "code",
     "collapsed": false,
     "input": [
      "import math \n",
      "\n",
      "# Variables\n",
      "Tb = 353.;\n",
      "T = 303.;\n",
      "R = 8.3143;\n",
      "\n",
      "# Calculation\n",
      "P = 101.325*math.exp((88/R)*(1-(Tb/T)));\n",
      "\n",
      "# Results\n",
      "print \"Vapour pressure of benzene is %.1f kPa\"%P\n"
     ],
     "language": "python",
     "metadata": {},
     "outputs": [
      {
       "output_type": "stream",
       "stream": "stdout",
       "text": [
        "Vapour pressure of benzene is 17.7 kPa\n"
       ]
      }
     ],
     "prompt_number": 1
    },
    {
     "cell_type": "heading",
     "level": 2,
     "metadata": {},
     "source": [
      "Example 11.4 Page No : 418"
     ]
    },
    {
     "cell_type": "code",
     "collapsed": false,
     "input": [
      "import math \n",
      "\n",
      "# Variables\n",
      "T = (3754.-3063)/(23.03-19.49);\n",
      "P = math.exp(23.03-(3754/195.2));\n",
      "\n",
      "# Calculation\n",
      "R = 8.3143;\n",
      "Lsub = R*3754;\n",
      "Lvap = 3063*R;\n",
      "Lfu = Lsub-Lvap;\n",
      "\n",
      "# Results\n",
      "print \"Temperature of triple point is %.1f K\"%T\n",
      "print \"Pressure of triple point is %.2f mm Hg\"%P\n",
      "print \"Latent heat of sublimation is %.0f kJ/Kg mol\"%round(Lsub,-2)\n",
      "print \"Latent heat of vapourization is %.0f kJ/kg mol\"%round(Lvap,-2)\n",
      "print \"Latent heat of fusion is %.0f kJ/kg mol\"%round(Lfu,-2)\n"
     ],
     "language": "python",
     "metadata": {},
     "outputs": [
      {
       "output_type": "stream",
       "stream": "stdout",
       "text": [
        "Temperature of triple point is 195.2 K\n",
        "Pressure of triple point is 44.63 mm Hg\n",
        "Latent heat of sublimation is 31200 kJ/Kg mol\n",
        "Latent heat of vapourization is 25500 kJ/kg mol\n",
        "Latent heat of fusion is 5700 kJ/kg mol\n"
       ]
      }
     ],
     "prompt_number": 3
    },
    {
     "cell_type": "heading",
     "level": 2,
     "metadata": {},
     "source": [
      "Example 11.6 Page No : 420"
     ]
    },
    {
     "cell_type": "code",
     "collapsed": false,
     "input": [
      "import math \n",
      "\n",
      "# Variables\n",
      "R = 8.314;\n",
      "N1 = 0.5e-03; \n",
      "N2 = 0.75e-03; \t\t\t# Mole number of system 1 and 2 in kg/mol\n",
      "T1 = 200.; \n",
      "T2 = 300.; \n",
      "V = 0.02;\n",
      "\n",
      "# Calculation\n",
      "Tf = ((N1*T1)+(N2*T2))/(N1+N2); \t\t\t# Final temperature\n",
      "Uf1 = (3./2)*R*N1*Tf;\n",
      "Uf2 = (3./2)*R*N2*Tf;\n",
      "Pf = (R*Tf*(N1+N2))/V;\n",
      "Vf1 = (R*N1*Tf)/Pf;\n",
      "Vf2 = V - Vf1;\n",
      "\n",
      "# Results\n",
      "print (\"System 1\")\n",
      "print \"Volume is\",Vf1,\"m3\"\n",
      "print \"Energy is %.2f kJ\"%Uf1\n",
      "print \"\\nSystem 2\"\n",
      "print \"Volume is\",Vf2,\"m3\"\n",
      "print \"Energy is\",round(Uf2*1000,-1),\"kJ\"\n",
      "print \"Final temperature is\",Tf,\"K\"\n",
      "print \"Final Pressure is\",round(Pf),\"kN/m**2\"\n"
     ],
     "language": "python",
     "metadata": {},
     "outputs": [
      {
       "output_type": "stream",
       "stream": "stdout",
       "text": [
        "System 1\n",
        "Volume is 0.008 m3\n",
        "Energy is 1.62 kJ\n",
        "\n",
        "System 2\n",
        "Volume is 0.012 m3\n",
        "Energy is 2430.0 kJ\n",
        "Final temperature is 260.0 K\n",
        "Final Pressure is 135.0 kN/m**2\n"
       ]
      }
     ],
     "prompt_number": 1
    }
   ],
   "metadata": {}
  }
 ]
}