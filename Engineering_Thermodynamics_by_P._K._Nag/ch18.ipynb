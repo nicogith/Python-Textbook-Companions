{
 "metadata": {
  "name": "",
  "signature": "sha256:9e53418f9e4cdd211f20a8f37b3c55eb0a17f05c8100d8c18f420c262cc67c0c"
 },
 "nbformat": 3,
 "nbformat_minor": 0,
 "worksheets": [
  {
   "cells": [
    {
     "cell_type": "heading",
     "level": 1,
     "metadata": {},
     "source": [
      "Chapter 18 : Gas Compressors"
     ]
    },
    {
     "cell_type": "heading",
     "level": 2,
     "metadata": {},
     "source": [
      "Example 18.1 Page No : 723"
     ]
    },
    {
     "cell_type": "code",
     "collapsed": false,
     "input": [
      "import math \n",
      "\n",
      "# Variables\n",
      "T2 = 488.\n",
      "T1 = 298.; n = 1.3; R =8314./44;\n",
      "\n",
      "# Calculation and Results\n",
      "rp = (T2/T1)**(n/(n-1));\n",
      "print \"Pressure ratio is\",round(rp,2)\n",
      "\n",
      "b = 0.12; \t\t\t# Bore of compressor\n",
      "L = 0.15; \t\t\t# Stroke of compressor\n",
      "V1 = (math.pi/4)*(b)**2*L ; \n",
      "P1 = 120e03; \t\t\t# in kPa\n",
      "W = ((n*P1*V1)/(n-1))*(((rp)**((n-1)/n))-1);\n",
      "P = (W*1200*0.001)/60 ; \n",
      "print \"Indicated power is\",round(P,2),\"kW\"\n",
      "print \"Shaft power is\",round((P/0.8),1),\"kW\"\n",
      "\n",
      "V1_dot = V1*(1200./60);\n",
      "m_dot = (P1*V1_dot)/(R*T1);\n",
      "print \"Mass flow rate is\",round(m_dot,4),\"kg/s\"\n",
      "\n",
      "rp_1 = rp**2;\n",
      "print \"Pressure ratio when second stage is added is\",round(rp_1,1)\n",
      "\n",
      "V2 = (1./rp)**(1./n)*V1;\n",
      "print \"Volume derived per cycle is V2\",round(V2,5),\"m3\"\n",
      "\n",
      "d = math.sqrt((V2*4)/(L*math.pi));\n",
      "print \"Second stage bore would be\",round((d*1000),0),\"mm\"\n"
     ],
     "language": "python",
     "metadata": {},
     "outputs": [
      {
       "output_type": "stream",
       "stream": "stdout",
       "text": [
        "Pressure ratio is 8.48\n",
        "Indicated power is 11.25 kW\n",
        "Shaft power is 14.1 kW\n",
        "Mass flow rate is 0.0723 kg/s\n",
        "Pressure ratio when second stage is added is 71.9\n",
        "Volume derived per cycle is V2 0.00033 m3\n",
        "Second stage bore would be 53.0 mm\n"
       ]
      }
     ],
     "prompt_number": 7
    },
    {
     "cell_type": "heading",
     "level": 2,
     "metadata": {},
     "source": [
      "Example 18.2 Page No : 724"
     ]
    },
    {
     "cell_type": "code",
     "collapsed": false,
     "input": [
      "import math \n",
      "\n",
      "# Variables\n",
      "P1 = 101.3e03\n",
      "P4 = P1; \t\t\t# in Pa\n",
      "P2 = 8*P1\n",
      "P3 = P2;\n",
      "T1 = 288.\n",
      "Vs = 2000.;\n",
      "V3 = 100.\n",
      "Vc = V3;\n",
      "\n",
      "# Calculation and Results\n",
      "V1 = Vs + Vc ;\n",
      "n = 1.25\n",
      "R = 287.;\n",
      "V4 = ((P3/P4)**(1./n))*V3;\n",
      "W = ((n*P1*(V1-V4)*1e-06)/(n-1))*(((P2/P1)**((n-1)/n))-1);\n",
      "P = (W*800*0.001)/60 ; \n",
      "print \"Indicated poer is\",round(P,2),\"kW\"\n",
      "print \"Volumetric efficiency is\",round((100*(V1-V4)/Vs),1),\"%\"\n",
      "\n",
      "m = (P1*(V1-V4)*1e-06)/(R*T1);\n",
      "m_dot = m*800;\n",
      "print \"Mass flow rate is\",round(m_dot,2),\"kg/min\"\n",
      "\n",
      "FAD = (V1-V4)*1e-06*800;\n",
      "print \"Free air delivery is\",round(FAD,2),\"m3/min\"\n",
      "\n",
      "Wt = P1*(V1-V4)*1e-06*math.log(P2/P1);\n",
      "n_isothermal = (Wt*800*0.001)/(P*60);\n",
      "print \"Isothermal efficiency is\",round(100*n_isothermal,1),\"%\"\n",
      "\n",
      "ip = P/0.85;\n",
      "print \"Input power is\",round(ip,2),\"kW\"\n"
     ],
     "language": "python",
     "metadata": {},
     "outputs": [
      {
       "output_type": "stream",
       "stream": "stdout",
       "text": [
        "Indicated poer is 5.48 kW\n",
        "Volumetric efficiency is 78.6 %\n",
        "Mass flow rate is 1.54 kg/min\n",
        "Free air delivery is 1.26 m3/min\n",
        "Isothermal efficiency is 80.6 %\n",
        "Input power is 6.44 kW\n"
       ]
      }
     ],
     "prompt_number": 2
    },
    {
     "cell_type": "heading",
     "level": 2,
     "metadata": {},
     "source": [
      "Example 18.3 Page No : 725"
     ]
    },
    {
     "cell_type": "code",
     "collapsed": false,
     "input": [
      "import math \n",
      "\n",
      "# Variables\n",
      "P1 = 1.; \n",
      "P3 = 9.;\n",
      "\n",
      "# Calculation\n",
      "P2 = math.sqrt(P1*P3);\n",
      "T1 = 300.; \n",
      "cp = 1.005;\n",
      "R = 0.287; n = 1.3;\n",
      "W = ((2*n*R*T1)/(n-1))*((P2/P1)**((n-1)/n)-1);\n",
      "T2 = T1*(P2/P1)**((n-1)/n);\n",
      "H = cp*(T2-T1);\n",
      "\n",
      "# Results\n",
      "print \"Heat rejected to the intercooler is\",round(H,2),\"kJ/kg\"\n",
      "\n",
      "# rounding off error is there."
     ],
     "language": "python",
     "metadata": {},
     "outputs": [
      {
       "output_type": "stream",
       "stream": "stdout",
       "text": [
        "Heat rejected to the intercooler is 87.0 kJ/kg\n"
       ]
      }
     ],
     "prompt_number": 4
    },
    {
     "cell_type": "heading",
     "level": 2,
     "metadata": {},
     "source": [
      "Example 18.4 Page No : 726"
     ]
    },
    {
     "cell_type": "code",
     "collapsed": false,
     "input": [
      "import math \n",
      "\n",
      "# Variables\n",
      "P1 = 1.013\n",
      "P4 = 80.;\n",
      "P2 = math.sqrt(P1*P4);\n",
      "V_dot = 4./60; \t\t\t# in m3/s\n",
      "n = 1.25;\n",
      "n_mech = 0.75;\n",
      "\n",
      "# Calculation\n",
      "W_dot = ((2*n)/(n-1))*((P1*100*V_dot)/n_mech)*((P2/P1)**((n-1)/n)-1);\n",
      "N = 250.;\n",
      "L = (3*60.)/(2*N); \t\t\t# Stroke length of piston in m\n",
      "Vlp = 4/N;\n",
      "n_vol = 0.8;\n",
      "Dlp = math.sqrt((Vlp*4)/(n_vol*L*math.pi));\n",
      "Dhp = Dlp*math.sqrt(P1/P2);\n",
      "\n",
      "# Results\n",
      "print \"Minimum power required is\",round(W_dot,2),\"kW\"\n",
      "print \"Stroke of the compressor is\",L*100,\"cm\"\n",
      "print \"Bore of high pressure compressure is\",round((Dhp*100),2),\"cm\"\n",
      "print \"Bore of lo pressure compressure is\",round((Dlp*100),1),\"cm\"\n"
     ],
     "language": "python",
     "metadata": {},
     "outputs": [
      {
       "output_type": "stream",
       "stream": "stdout",
       "text": [
        "Minimum power required is 49.34 kW\n",
        "Stroke of the compressor is 36.0 cm\n",
        "Bore of high pressure compressure is 8.92 cm\n",
        "Bore of lo pressure compressure is 26.6 cm\n"
       ]
      }
     ],
     "prompt_number": 11
    },
    {
     "cell_type": "heading",
     "level": 2,
     "metadata": {},
     "source": [
      "Example 18.5 Page No : 727"
     ]
    },
    {
     "cell_type": "code",
     "collapsed": false,
     "input": [
      "\n",
      "# Variables\n",
      "V12 = 0.4; \t\t\t# V12 = V1./V2\n",
      "T1 = 38.+273; \n",
      "n = 1.3; \n",
      "P3 = 112.; \t\t\t# back pressure\n",
      "m = 1.25; R = 0.287;\n",
      "\n",
      "# Calculation\n",
      "T2 = ((V12)**(n-1))*T1;\n",
      "P1 = 700.; \t\t\t# in kPa\n",
      "P2 = P1*(V12)**n;\n",
      "V2 = (m*R*T2)/P2;\n",
      "v2 = V2/m ;\n",
      "A = R*T1 + R*(T1-T2)/(n-1) - P3*v2; \t\t\t# Area of indicator diagram\n",
      "IO = A*0.85*m;\n",
      "\n",
      "# Results\n",
      "print \"Indicated output is\",round(IO,2),\"kJ\"\n",
      "\n"
     ],
     "language": "python",
     "metadata": {},
     "outputs": [
      {
       "output_type": "stream",
       "stream": "stdout",
       "text": [
        "Indicated output is 132.88 kJ\n"
       ]
      }
     ],
     "prompt_number": 12
    },
    {
     "cell_type": "heading",
     "level": 2,
     "metadata": {},
     "source": [
      "Example 18.6 Page No : 728"
     ]
    },
    {
     "cell_type": "code",
     "collapsed": false,
     "input": [
      "import math \n",
      "\n",
      "# Variables\n",
      "P1 = 1.\n",
      "P41 = 15.; \t\t\t# P41 = P4/P1\n",
      "P21 = (P41)**(1./3);\n",
      "P2 = P21*P1;\n",
      "n = 1.3; \n",
      "R = 0.287;\n",
      "P3 = P21*P2;\n",
      "P11 = P2; P12 = P1;\n",
      "b = 0.45\n",
      "s = 0.3; \t\t\t# Bore and stroke of cylinder\n",
      "Vs = (math.pi/4)*b**2*s; \t\t\t# Swept volume of the cylinder\n",
      "\n",
      "# Calculation and Results\n",
      "V11 = 0.05*Vs; \t\t\t# Clearance volume\n",
      "V1 = V11+Vs;\n",
      "V12 = V11*(P11/P12)**(1./n);\n",
      "print \"Effective swept volume of the LP cylinder is\",round((V1-V12),5),\"m3\"\n",
      "\n",
      "T1 = 291.\n",
      "T3 = T1; \n",
      "T5 = T1;\n",
      "P43 = P21; \t\t\t# P4/P3\n",
      "T6 = T5*(P43)**((n-1)/n);\n",
      "print \"Delivery temperature is\",round(T6,1),\"K\"\n",
      "\n",
      "P4 = 15; \t\t\t# Delivery pressure\n",
      "V6_7 = (P1/P4)*(T6/T1)*(V1-V12); \t\t\t# V6-V7\n",
      "print \"Volume of the air delivered\",round(V6_7,5),\"m3\"\n",
      "\n",
      "W = ((3*n*R*T1)/(n-1))*((P21)**((n-1)/n)-1);\n",
      "print \"Work done per kg of the air is\",round(W,1),\"kJ\"\n",
      "\n",
      "# rounding off error is there. please check."
     ],
     "language": "python",
     "metadata": {},
     "outputs": [
      {
       "output_type": "stream",
       "stream": "stdout",
       "text": [
        "Effective swept volume of the LP cylinder is 0.04532 m3\n",
        "Delivery temperature is 358.4 K\n",
        "Volume of the air delivered 0.00372 m3\n",
        "Work done per kg of the air is 251.4 kJ\n"
       ]
      }
     ],
     "prompt_number": 5
    },
    {
     "cell_type": "heading",
     "level": 2,
     "metadata": {},
     "source": [
      "Example 18.7 Page No : 729"
     ]
    },
    {
     "cell_type": "code",
     "collapsed": false,
     "input": [
      "\n",
      "# Variables\n",
      "P1 = 1.013;\n",
      "P2 = 1.5*P1;\n",
      "Vs = 0.03\n",
      "Va = Vs;\n",
      "WD = (P2-P1)*Vs*100.;\n",
      "Pi = (P1+P2)/2;\n",
      "g = 1.4;\n",
      "\n",
      "# Calculation\n",
      "Aa = ((g*P1*100*Vs)/(g-1))*((Pi/P1)**((g-1)/g)-1);\n",
      "Vb = Va *(P1/Pi)**(1./g);\n",
      "Ab = Vb*(P2-Pi)*100;\n",
      "WR = Aa+Ab;\n",
      "\n",
      "# Results\n",
      "print \"Work required is\",round(WR,2),\"kJ/rev\"\n"
     ],
     "language": "python",
     "metadata": {},
     "outputs": [
      {
       "output_type": "stream",
       "stream": "stdout",
       "text": [
        "Work required is 1.35 kJ/rev\n"
       ]
      }
     ],
     "prompt_number": 14
    },
    {
     "cell_type": "heading",
     "level": 2,
     "metadata": {},
     "source": [
      "Example 18.8 Page No : 730"
     ]
    },
    {
     "cell_type": "code",
     "collapsed": false,
     "input": [
      "# For Blower\n",
      "import math \n",
      "m_dot = 1.; \n",
      "R = 0.287; \n",
      "T1 = 343.;\n",
      "P1 = 100.; \n",
      "P2 = 2*P1; \n",
      "g = 1.4;\n",
      "\n",
      "# Calculation and Results\n",
      "V_dot = (m_dot*R*T1)/P1;\n",
      "PRb = V_dot*(P2-P1);\n",
      "print \"Power required by the blower is\",round(PRb,1),\"kW\"\n",
      "\n",
      "# For van compressor\n",
      "P1v = 1.\n",
      "V21 = 0.7 \t\t\t# V2/V1\n",
      "P2v = P1v*(1./V12)**g;\n",
      "V2_dot = 0.7;\n",
      "V1_dot = 0.7*V_dot;\n",
      "P3v = 2.;\n",
      "PRv = (g/0.4)*P1*0.995*( (1.65/1)**(0.4/g) - 1) + 0.696*(2 - 1.65)*P1\n",
      "print \"Power Required by van compressor is\",round(PRv),\"kW\"\n",
      "\n"
     ],
     "language": "python",
     "metadata": {},
     "outputs": [
      {
       "output_type": "stream",
       "stream": "stdout",
       "text": [
        "Power required by the blower is 98.4 kW\n",
        "Power Required by van compressor is 78.0 kW\n"
       ]
      }
     ],
     "prompt_number": 9
    },
    {
     "cell_type": "heading",
     "level": 2,
     "metadata": {},
     "source": [
      "Example 18.9 Page No : 731"
     ]
    },
    {
     "cell_type": "code",
     "collapsed": false,
     "input": [
      "\n",
      "# Variables\n",
      "T1 = 283.\n",
      "P21 = 2.5; \t\t\t# P2/P1\n",
      "P32 = 2.1; \t\t\t# P3/P2\n",
      "ns = 0.85\n",
      "ma = 5.; \n",
      "cp = 1.005;\n",
      "\n",
      "# Calculation\n",
      "T2s = round(T1*(P21)**((g-1)/g),1);\n",
      "T2 = round(T1 + (T2s-T1)/ns,2);\n",
      "T3 = T2-50;\n",
      "T4s = round(T3*(P32)**((g-1)/g),2);\n",
      "T4 = T3 + (T4s-T3)/ns;\n",
      "P = ma*cp*((T2-T1)+(T4-T3));\n",
      "\n",
      "# Results\n",
      "print \"Total compressor power is\",round(P,1),\"kW\"\n",
      "\n",
      "# note : T4 is calculted wrongly in book. please check."
     ],
     "language": "python",
     "metadata": {},
     "outputs": [
      {
       "output_type": "stream",
       "stream": "stdout",
       "text": [
        "Total compressor power is 965.1 kW\n"
       ]
      }
     ],
     "prompt_number": 13
    },
    {
     "cell_type": "heading",
     "level": 2,
     "metadata": {},
     "source": [
      "Example 18.10 Page No : 732"
     ]
    },
    {
     "cell_type": "code",
     "collapsed": false,
     "input": [
      "\n",
      "# Variables\n",
      "T1 = 278.\n",
      "P21 = 2.5; \t\t\t# P2/P1\n",
      "cp = 1.005\n",
      "ns = 0.84; V2 = 120.;\n",
      "\n",
      "# Calculation\n",
      "T2s = T1*(P21)**((g-1)/g);\n",
      "T2 = T1 + (T2s-T1)/ns;\n",
      "mg = 0.04*(13+1);\n",
      "P = mg*cp*(T2-T1);\n",
      "T02 = T2 + V2**2/(2*cp*1000);\n",
      "P1 = 0.6;\n",
      "P2 = P21*0.6;\n",
      "P02 = P2*(T02/T2)**(g/(g-1));\n",
      "\n",
      "# Results\n",
      "print \"Power required to drive the compressor is\",round(P,1),\"kW\"\n",
      "print \"Stagnation temperature is\",round(T02,2),\"K\"\n",
      "print \"Stagnation pressure is\",round(P02,3),\"bar\"\n",
      "\n",
      "# note : rounding off error is there. please check."
     ],
     "language": "python",
     "metadata": {},
     "outputs": [
      {
       "output_type": "stream",
       "stream": "stdout",
       "text": [
        "Power required to drive the compressor is 55.7 kW\n",
        "Stagnation temperature is 384.21 K\n",
        "Stagnation pressure is 1.602 bar\n"
       ]
      }
     ],
     "prompt_number": 15
    }
   ],
   "metadata": {}
  }
 ]
}