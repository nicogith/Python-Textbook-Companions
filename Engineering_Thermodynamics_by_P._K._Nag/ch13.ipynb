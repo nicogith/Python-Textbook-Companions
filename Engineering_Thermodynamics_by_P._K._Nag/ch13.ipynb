{
 "metadata": {
  "name": "",
  "signature": "sha256:20c7c69ec3c2fcafe0d93dd099c65cc40aeef92c301c25a624e4ebbb2e24b55e"
 },
 "nbformat": 3,
 "nbformat_minor": 0,
 "worksheets": [
  {
   "cells": [
    {
     "cell_type": "heading",
     "level": 1,
     "metadata": {},
     "source": [
      "Chapter 13 : Gas Power Cycles"
     ]
    },
    {
     "cell_type": "heading",
     "level": 2,
     "metadata": {},
     "source": [
      "Example 13.1 Page No : 543"
     ]
    },
    {
     "cell_type": "code",
     "collapsed": false,
     "input": [
      "\n",
      "# Variables\n",
      "T1 = 273.+35;\n",
      "P1 = 100e03; \t\t\t# in kN/m2\n",
      "Q1 = 2100.;\n",
      "R = 0.287;\n",
      "v1 = 0.884\n",
      "v2 = 0.11\n",
      "v3 = v2;\n",
      "rk = 8.\n",
      "g = 1.4; \t\t\t# gamma\n",
      "\n",
      "# Calculation\n",
      "n_cycle = 1-(1./rk**(1.4-1));\n",
      "v12 = 8; \t\t\t# v1./v2\n",
      "v1 = (R*T1)/P1;\n",
      "v2 = v1/8;\n",
      "T2 = T1*(v1/v2)**(g-1);\n",
      "cv = 0.718;\n",
      "T3 = Q1/cv + T2\n",
      "P21 = (v1/v2)**g;\n",
      "P2 = P21*P1;\n",
      "P3 = P2*(T3/T2);\n",
      "Wnet = Q1*n_cycle;\n",
      "Pm = Wnet/(v1-v2);\n",
      "\n",
      "# Results\n",
      "print \"Maximum pressure is %.2f mPa\"%(P3/1e06)\n",
      "print \"Temperature of the cycle is %.2f K\"%T3,\"K\"\n",
      "print \"Cycle efficiency is %.2f %%\"%(n_cycle*100)\n",
      "print \"Mean effective pressure is %.3f MPa\"%(Pm/1e06)\n"
     ],
     "language": "python",
     "metadata": {},
     "outputs": [
      {
       "output_type": "stream",
       "stream": "stdout",
       "text": [
        "Maximum pressure is 9.43 mPa\n",
        "Temperature of the cycle is 3632.39 K K\n",
        "Cycle efficiency is 56.47 %\n",
        "Mean effective pressure is 1.533 MPa\n"
       ]
      }
     ],
     "prompt_number": 2
    },
    {
     "cell_type": "heading",
     "level": 2,
     "metadata": {},
     "source": [
      "Example 13.2 Page No : 544"
     ]
    },
    {
     "cell_type": "code",
     "collapsed": false,
     "input": [
      "\n",
      "# Variables\n",
      "rk = 14.;\n",
      "k = 0.06\n",
      "rc = k*(14-1)+1;\n",
      "g = 1.4;\n",
      "\n",
      "# Calculation\n",
      "n_diesel = 1-((1./g))*(1./rk**(g-1))*((rc**(g-1))/(rc-1));\n",
      "\n",
      "# Results\n",
      "print \"Air standard efficiency is %.f %%\"%(n_diesel*100)\n",
      "\n",
      "# note : rounding off error. please check."
     ],
     "language": "python",
     "metadata": {},
     "outputs": [
      {
       "output_type": "stream",
       "stream": "stdout",
       "text": [
        "Air standard efficiency is 60 %\n"
       ]
      }
     ],
     "prompt_number": 2
    },
    {
     "cell_type": "heading",
     "level": 2,
     "metadata": {},
     "source": [
      "Example 13.3 Page No : 544"
     ]
    },
    {
     "cell_type": "code",
     "collapsed": false,
     "input": [
      "\n",
      "# Variables\n",
      "rk = 16.;\n",
      "T1 = 273.+15;\n",
      "P1 = 100.; \t\t\t# in kN/m2\n",
      "T3 = 1480.+273;\n",
      "g = 1.4; \t\t\t# gamma \n",
      "R = 0.287;\n",
      "T2 = 288*(rk**(g-1));\n",
      "\n",
      "# Calculation\n",
      "rc =  T3/T2 ;\n",
      "cp = 1.005; cv = 0.718;\n",
      "Q1 = cp*(T3-T2);\n",
      "T4 = T3*((rc/rk)**(g-1));\n",
      "Q2 = cv*(T4-T1);\n",
      "n = 1-(Q2/Q1); \t\t\t# cycle efficiency\n",
      "n_ = 1-((1./g))*(1./rk**(g-1))*((rc**(g-1))/(rc-1)); \t\t\t# cycle efficiency from another formula\n",
      "Wnet = Q1*n;\n",
      "v1 = (R*T1)/P1 ;\n",
      "v2 = v1/rk;\n",
      "Pm = Wnet/(v1-v2);\n",
      "\n",
      "# Results\n",
      "print \"cut-off ratio is %.2f\"%rc\n",
      "print \"Heat supplied per kg of air is %.1f kJ/Kg\"%Q1\n",
      "print \"Cycle efficiency is %.1f %%\"%(n*100)\n",
      "print \"Mean effective pressure is %.2f Kpa\"%Pm\n",
      "\n",
      "# rounding off error is there."
     ],
     "language": "python",
     "metadata": {},
     "outputs": [
      {
       "output_type": "stream",
       "stream": "stdout",
       "text": [
        "cut-off ratio is 2.01\n",
        "Heat supplied per kg of air is 884.3 kJ/Kg\n",
        "Cycle efficiency is 61.3 %\n",
        "Mean effective pressure is 699.97 Kpa\n"
       ]
      }
     ],
     "prompt_number": 3
    },
    {
     "cell_type": "heading",
     "level": 2,
     "metadata": {},
     "source": [
      "Example 13.4 Page No : 546"
     ]
    },
    {
     "cell_type": "code",
     "collapsed": false,
     "input": [
      "\n",
      "# Variables\n",
      "T1 = 273.+50;\n",
      "rk = 16.;\n",
      "g = 1.4; \t\t\t# gamma\n",
      "P3 = 70.; \n",
      "cv = 0.718; \n",
      "cp = 1.005; \n",
      "R = 0.287;\n",
      "\n",
      "# Calculation\n",
      "T2 = T1*((rk**(g-1)));\n",
      "P1 = 1; \t\t\t# in bar\n",
      "P2 = P1*(rk)**g;\n",
      "T3 = T2*(P3/P2);\n",
      "Q23 = cv*(T3-T2);\n",
      "T4 = (Q23/cp)+T3;\n",
      "v43 = T4/T3; \t\t\t# v4/v3\n",
      "v54 = rk/v43; \t\t\t# v5/v4 = (v1./v2)*(v3/v4)\n",
      "T5 = T4*(1./v54)**(g-1);\n",
      "P5 = P1*(T5/T1);\n",
      "Q1 = cv*(T3-T2)+cp*(T4-T3);\n",
      "Q2 = cv*(T5-T1);\n",
      "n_cycle = 1-(Q2/Q1);\n",
      "v1 = (R*T1)/P1;\n",
      "v12 = (15./16)*v1; \t\t\t# v1-v2\n",
      "Wnet = Q1*n_cycle;\n",
      "Pm = Wnet/(v12);\n",
      "\n",
      "# Results\n",
      "print \"Efficiency of the cycle is %.2f %%\"%(n_cycle*100)\n",
      "print \"Mean effective pressure is %.2f\"%Pm,\"bar\"\n"
     ],
     "language": "python",
     "metadata": {},
     "outputs": [
      {
       "output_type": "stream",
       "stream": "stdout",
       "text": [
        "Efficiency of the cycle is 66.31 %\n",
        "Mean effective pressure is 4.76 bar\n"
       ]
      }
     ],
     "prompt_number": 9
    },
    {
     "cell_type": "heading",
     "level": 2,
     "metadata": {},
     "source": [
      "Example 13.5 Page No : 547"
     ]
    },
    {
     "cell_type": "code",
     "collapsed": false,
     "input": [
      "\n",
      "# Variables\n",
      "P1 = 0.1e06;\n",
      "T1 = 303.;\n",
      "T3 = 1173.;\n",
      "PR = 6.; \t\t\t# Pressure ratio\n",
      "rp = 6.; \n",
      "nt = 0.8; \n",
      "nc = 0.8;\n",
      "g = 1.4; \n",
      "cv = 0.718; \n",
      "cp = 1.005; \n",
      "R = 0.287;\n",
      "\n",
      "# Calculation\n",
      "j = (PR)**((g-1)/g);\n",
      "T2s = j*T1;\n",
      "T4s = T3/j;\n",
      "T21 = (T2s-T1)/nc ; \t\t\t# T2-T1\n",
      "T34 = nt*(T3-T4s); \t\t\t# T3-T4\n",
      "Wt = cp*T34;\n",
      "Wc = cp*T21;\n",
      "T2 = T21+T1;\n",
      "Q1 = cp*(T3-T2);\n",
      "n = (Wt-Wc)/Q1;\n",
      "T4 = T3-375;\n",
      "T6 = 0.75*(T4-T2) + T2 ;\n",
      "Q1_ = cp*(T3-T6);\n",
      "n_ = (Wt-Wc)/Q1_;\n",
      "I = (n_-n)/n ;\n",
      "\n",
      "# Results\n",
      "print \"The percentage efficiency in cycle efficiency due to regeneration is %.f %%\"%(I*100)\n",
      "\n",
      "# note : rounding off error is there."
     ],
     "language": "python",
     "metadata": {},
     "outputs": [
      {
       "output_type": "stream",
       "stream": "stdout",
       "text": [
        "The percentage efficiency in cycle efficiency due to regeneration is 42 %\n"
       ]
      }
     ],
     "prompt_number": 11
    },
    {
     "cell_type": "heading",
     "level": 2,
     "metadata": {},
     "source": [
      "Example 13.6 Page No : 549"
     ]
    },
    {
     "cell_type": "code",
     "collapsed": false,
     "input": [
      "import math \n",
      "\n",
      "# Variables\n",
      "cp = 1.005;\n",
      "Tmax = 1073.\n",
      "Tmin = 300.;\n",
      "\n",
      "# Calculation\n",
      "Wnet_max = cp*(math.sqrt(Tmax)-math.sqrt(Tmin))**2;\n",
      "n_cycle = 1-math.sqrt(Tmin/Tmax);\n",
      "n_carnot = 1-(Tmin/Tmax);\n",
      "r = n_cycle/n_carnot;\n",
      "\n",
      "# Results\n",
      "print \"Maximum work done per kg of air is %.2f kJ/Kg\"%Wnet_max\n",
      "print \"cycle efficiency is %.0f %%\"%(n_cycle*100)\n",
      "print \"ratio of brayton and carnot efficiency is %.3f\"%r\n",
      "\n",
      "# note : rounding off error is there."
     ],
     "language": "python",
     "metadata": {},
     "outputs": [
      {
       "output_type": "stream",
       "stream": "stdout",
       "text": [
        "Maximum work done per kg of air is 239.47 kJ/Kg\n",
        "cycle efficiency is 47 %\n",
        "ratio of brayton and carnot efficiency is 0.654\n"
       ]
      }
     ],
     "prompt_number": 12
    },
    {
     "cell_type": "heading",
     "level": 2,
     "metadata": {},
     "source": [
      "Example 13.7 Page No : 549"
     ]
    },
    {
     "cell_type": "code",
     "collapsed": false,
     "input": [
      "\n",
      "# Variables\n",
      "rp = 6.;\n",
      "g = 1.4; \n",
      "cv = 0.718; \n",
      "cp = 1.005; \n",
      "R = 0.287;\n",
      "T1 = 300.; \n",
      "T3 = 1100.; \n",
      "T0 = 300.;\n",
      "\n",
      "# Calculation\n",
      "n_cycle = 1-(1./rp**((g-1)/g));\n",
      "j = rp**((g-1)/g);\n",
      "T2 = T1*j;\n",
      "T4 = T3/j;\n",
      "Wc = cp*(T2-T1);\n",
      "Wt = cp*(T3-T4);\n",
      "WR = (Wt-Wc)/Wt;\n",
      "Q1 = 100; \t\t\t# in MW\n",
      "PO = n_cycle*Q1;\n",
      "m_dot = (Q1*1e06)/(cp*(T3-T2));\n",
      "R = m_dot*cp*T0*((T4/T0)-1-math.log(T4/T0));\n",
      "\n",
      "# Results\n",
      "print \"The thermal efficiency of the cycle is %.1f %%\"%(n_cycle*100)\n",
      "print \"Work ratio is %.3f\"%WR\n",
      "print \"Power output is %.1f MW\"%PO\n",
      "print \"Energy flow rate of the exhaust gas stream is %.2f MW\"%(R/1e06)\n",
      "\n",
      "# rounding error is there."
     ],
     "language": "python",
     "metadata": {},
     "outputs": [
      {
       "output_type": "stream",
       "stream": "stdout",
       "text": [
        "The thermal efficiency of the cycle is 40.1 %\n",
        "Work ratio is 0.545\n",
        "Power output is 40.1 MW\n",
        "Energy flow rate of the exhaust gas stream is 20.53 MW\n"
       ]
      }
     ],
     "prompt_number": 13
    },
    {
     "cell_type": "heading",
     "level": 2,
     "metadata": {},
     "source": [
      "Example 13.8 Page No : 550"
     ]
    },
    {
     "cell_type": "code",
     "collapsed": false,
     "input": [
      "\n",
      "# Variables\n",
      "nc = 0.87; \n",
      "nt = 0.9; \n",
      "T1 = 311.; \n",
      "rp = 8.; \t\t\t# P2/P1\n",
      "P1 = 1.; \n",
      "P2 = 8.; \n",
      "P3 = 0.95*P2; \n",
      "P4 = 1;\n",
      "T3 = 1100.; \n",
      "g = 1.4; \n",
      "cv = 0.718; \n",
      "cp = 1.005; \n",
      "R = 0.287;\n",
      "\n",
      "# Calculation\n",
      "# With no cooling\n",
      "T2s = T1*((P2/P1)**((g-1)/g));\n",
      "T2 = T1 + (T2s-T1)/0.87;\n",
      "T4s = T3*(P4/P3)**((g-1)/g);\n",
      "n = (((T3-T4s)*nt)-((T2s-T1)/nc))/(T3-T2);\n",
      "# With cooling\n",
      "n_cycle = n-0.05;\n",
      "x = 0.13;\n",
      "r = 0.13/1.13;\n",
      "\n",
      "# Results\n",
      "print \"Percentage of air that may be taken from the compressor is %.1f%%\"%(r*100)\n",
      "\n"
     ],
     "language": "python",
     "metadata": {},
     "outputs": [
      {
       "output_type": "stream",
       "stream": "stdout",
       "text": [
        "Percentage of air that may be taken from the compressor is 11.5%\n"
       ]
      }
     ],
     "prompt_number": 1
    },
    {
     "cell_type": "heading",
     "level": 2,
     "metadata": {},
     "source": [
      "Example 13.10 Page No : 555"
     ]
    },
    {
     "cell_type": "code",
     "collapsed": false,
     "input": [
      "\n",
      "# Variables\n",
      "T1 = 233.; \n",
      "V1 = 300.; \n",
      "cp = 1.005; \n",
      "g = 1.4;\n",
      "\n",
      "# Calculation and Results\n",
      "T2 = T1+((V1**2)/(2*cp))*1e-03 ;\n",
      "P1 = 35;\n",
      "P2 = P1*(T2/T1)**(g/(g-1));\n",
      "rp = 10; \t\t\t# Pressure ratio\n",
      "P3 = rp*P2;\n",
      "T3 = T2*(P3/P2)**((g-1)/g);\n",
      "T4 = 1373;\n",
      "T5 = T4-T3+T2;\n",
      "P4 = P3;\n",
      "P5 = P4*(T5/T4)**(g/(g-1));\n",
      "print \"Temperature at the turbine exit is %.2f K\"%T5\n",
      "print \"Pressure at the turbine exit is %.2f kPa\"%P5\n",
      "P6 = P1;\n",
      "T6 = T5*(P6/P5)**((g-1)/g);\n",
      "V6 = (2*cp*1000*(T5-T6))**0.5 ;\n",
      "\n",
      "print \"Velocity of the gas at the nozzle exit is %.1f m/s\"%V6\n",
      "w = 50.;\n",
      "Ve = V6; Vi = 300.;\n",
      "Wp_dot = w*Vi*(Ve-Vi);\n",
      "h4 = 1373.; \n",
      "h3 = 536.66;\n",
      "Q1 = w*cp*(h4-h3); \t\t\t# in kJ/kg\n",
      "np = Wp_dot/(Q1*1000);\n",
      "print \"The propulsive efficiency of the cycle is %.1f %%\"%(np*100)\n"
     ],
     "language": "python",
     "metadata": {},
     "outputs": [
      {
       "output_type": "stream",
       "stream": "stdout",
       "text": [
        "Temperature at the turbine exit is 1114.47 K\n",
        "Pressure at the turbine exit is 312.00 kPa\n",
        "Velocity of the gas at the nozzle exit is 1020.3 m/s\n",
        "The propulsive efficiency of the cycle is 25.7 %\n"
       ]
      }
     ],
     "prompt_number": 17
    },
    {
     "cell_type": "heading",
     "level": 2,
     "metadata": {},
     "source": [
      "Example 13.11 Page No : 556"
     ]
    },
    {
     "cell_type": "code",
     "collapsed": false,
     "input": [
      "\n",
      "# Variables\n",
      "Ta = 288.;\n",
      "rp = 8.; \t\t\t# Pb/Pa\n",
      "g = 1.33; \n",
      "g1 = 1.44; \n",
      "cv = 0.718; \n",
      "cpa = 1.005; \n",
      "cpg = 1.11; \n",
      "R = 0.287;\n",
      "\n",
      "# Calculation\n",
      "Tb = Ta*(rp)**((g1-1)/g1);\n",
      "Tc = 1073.; \n",
      "Tm = 800.+273; \n",
      "Tmin = 100.+273;\n",
      "Td = Tc/(rp**((g-1)/g));\n",
      "Wgt = cpg*(Tc-Td)-cpa*(Tb-Ta);\n",
      "Q1 = cpg*(Tc-Tb);\n",
      "Q1_ = cpg*(Tc-Td);\n",
      "h1 = 3775.; h2 = 2183.; h3 = 138.; h4 = h3;\n",
      "Q1_st = h1-h3; \t\t\t# Q1'\n",
      "Q_fe = cpg*(Tm-Tmin);\n",
      "was = Q1_st/Q_fe; \t\t\t# wa/ws\n",
      "Wst = h1-h2;\n",
      "PO = 190e03; \t\t\t# in kW\n",
      "ws = PO/(was*Wgt+Wst);\n",
      "wa = 322.5;\n",
      "CV = 43300.; \t\t\t# in kJ/kg\n",
      "waf = round(CV/(1095.),1)\n",
      "FEI = (wa/waf)*CV;\n",
      "noA = PO/FEI;\n",
      "\n",
      "# Results\n",
      "print \"Air fuel ratio is %.2f\"%waf\n",
      "print \"Overall efficiency of combined plant is %.1f %%\"%(noA*100)\n"
     ],
     "language": "python",
     "metadata": {},
     "outputs": [
      {
       "output_type": "stream",
       "stream": "stdout",
       "text": [
        "Air fuel ratio is 39.50\n",
        "Overall efficiency of combined plant is 53.7 %\n"
       ]
      }
     ],
     "prompt_number": 10
    }
   ],
   "metadata": {}
  }
 ]
}