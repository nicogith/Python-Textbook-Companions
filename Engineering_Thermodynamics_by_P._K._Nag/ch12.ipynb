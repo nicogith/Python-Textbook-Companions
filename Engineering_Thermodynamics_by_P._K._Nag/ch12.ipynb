{
 "metadata": {
  "name": "",
  "signature": "sha256:abd75e2d0144cfdf6dd59935ddb4f9b5824ec80059ba3e73a72bf780292d0a06"
 },
 "nbformat": 3,
 "nbformat_minor": 0,
 "worksheets": [
  {
   "cells": [
    {
     "cell_type": "heading",
     "level": 1,
     "metadata": {},
     "source": [
      "Chapter 12 : Vapour Power Cycles"
     ]
    },
    {
     "cell_type": "heading",
     "level": 2,
     "metadata": {},
     "source": [
      "Example 12.1 Page No : 475"
     ]
    },
    {
     "cell_type": "code",
     "collapsed": false,
     "input": [
      "\n",
      "# Variables\n",
      "# Part (a)\n",
      "P1 = 1e05;\n",
      "P2 = 10e05;\n",
      "vf = 0.001043;\n",
      "\n",
      "# Calculation and Results\n",
      "Wrev = vf*(P1-P2);\n",
      "print \"The work required in saturated liquid form is\",Wrev/1000,\"kJ/kg\"\n",
      "\n",
      "# Part (b)\n",
      "h1 = 2675.5; \n",
      "s1 = 7.3594;\n",
      "s2 = s1;\n",
      "h2 = 3195.5;\n",
      "Wrev1 = h1-h2;\n",
      "print \"The work required in saturated vapour form is\",Wrev1,\"kJ/kg\"\n"
     ],
     "language": "python",
     "metadata": {},
     "outputs": [
      {
       "output_type": "stream",
       "stream": "stdout",
       "text": [
        "The work required in saturated liquid form is -0.9387 kJ/kg\n",
        "The work required in saturated vapour form is -520.0 kJ/kg\n"
       ]
      }
     ],
     "prompt_number": 1
    },
    {
     "cell_type": "heading",
     "level": 2,
     "metadata": {},
     "source": [
      "Example 12.2 Page No : 476"
     ]
    },
    {
     "cell_type": "code",
     "collapsed": false,
     "input": [
      "\n",
      "# Variables\n",
      "h1 = 3159.3;\n",
      "s1 = 6.9917;\n",
      "h3 = 173.88; \n",
      "s3 = 0.5926; \n",
      "sfp2 = s3; \n",
      "hfp2 = h3;\n",
      "hfgp2 = 2403.1; \n",
      "sgp2 = 8.2287;\n",
      "vfp2 = 0.001008; \n",
      "sfgp2 = 7.6361;\n",
      "\n",
      "# Calculation and Results\n",
      "x2s = (s1-sfp2)/(sfgp2);\n",
      "h2s = hfp2+(x2s*hfgp2);\n",
      "\n",
      "# Part (a)\n",
      "P1 = 20e02; \n",
      "P2 = 0.08e02;\n",
      "h4s = vfp2*(P1-P2)+h3 ; \n",
      "Wp = h4s-h3;\n",
      "Wt = h1-h2s;\n",
      "Wnet = Wt-Wp;\n",
      "Q1 = h1-h4s;\n",
      "n_cycle = Wnet/Q1;\n",
      "print \"Net work per kg of steam is %.2f kJ/Kg\"%Wnet\n",
      "print \"Cycle efficiency is %.3f\"%n_cycle\n",
      "\n",
      "# Part (b)\n",
      "n_p = 0.8; \n",
      "n_t = 0.8;\n",
      "Wp_ = Wp/n_p;\n",
      "Wt_ = Wt*n_t;\n",
      "Wnet_ = Wt_-Wp_;\n",
      "P = 100*((Wnet-Wnet_)/Wnet) ;\n",
      "n_cycle_ = Wnet_/Q1;\n",
      "P_ = 100*((n_cycle-n_cycle_)/n_cycle);\n",
      "print \"Percentage reduction in net work per kg of steam is %.1f %%\"%P\n",
      "print \"Percentage reduction in cycle efficiency is %.1f %%\"%P_\n"
     ],
     "language": "python",
     "metadata": {},
     "outputs": [
      {
       "output_type": "stream",
       "stream": "stdout",
       "text": [
        "Net work per kg of steam is 969.60 kJ/Kg\n",
        "Cycle efficiency is 0.325\n",
        "Percentage reduction in net work per kg of steam is 20.1 %\n",
        "Percentage reduction in cycle efficiency is 20.1 %\n"
       ]
      }
     ],
     "prompt_number": 4
    },
    {
     "cell_type": "heading",
     "level": 2,
     "metadata": {},
     "source": [
      "Example 12.3 Page No : 477"
     ]
    },
    {
     "cell_type": "code",
     "collapsed": false,
     "input": [
      "\n",
      "# Variables\n",
      "P1 = 0.08; \t\t\t# in bar\n",
      "sf = 0.5926; \n",
      "x2s = 0.85; \n",
      "sg = 8.2287; \n",
      "\n",
      "# Calculation\n",
      "s2s = sf+(x2s*(sg-sf));\n",
      "s1 = s2s;\n",
      "P2 = 16.832; \t\t\t# by steam table opposite to s1 in bar\n",
      "h1 = 3165.54;\n",
      "h2s = 173.88 + (0.85*2403.1);\n",
      "h3 = 173.88;\n",
      "vfp2 = 0.001;\n",
      "h4s = h3 + (vfp2*(P2-P1)*100);\n",
      "Q1 = h1-h4s;\n",
      "Wt = h1-h2s;\n",
      "Wp = h4s-h3;\n",
      "n_cycle = 100*((Wt-Wp)/Q1);\n",
      "Tm = (h1-h4s)/(s2s-sf);\n",
      "\n",
      "# Results\n",
      "print \"The greatest allowable steam pressure at the turbine inlet is\",P2,\"bar\"\n",
      "print \"Rankine cycle efficiency is %.2f %%\"%n_cycle\n",
      "print \"Mean temperature of heat addition is %.2f K\"%Tm\n"
     ],
     "language": "python",
     "metadata": {},
     "outputs": [
      {
       "output_type": "stream",
       "stream": "stdout",
       "text": [
        "The greatest allowable steam pressure at the turbine inlet is 16.832 bar\n",
        "Rankine cycle efficiency is 31.68 %\n",
        "Mean temperature of heat addition is 460.66 K\n"
       ]
      }
     ],
     "prompt_number": 3
    },
    {
     "cell_type": "heading",
     "level": 2,
     "metadata": {},
     "source": [
      "Example 12.4 Page No : 478"
     ]
    },
    {
     "cell_type": "code",
     "collapsed": false,
     "input": [
      "\n",
      "# Variables\n",
      "h1 = 3465.;\n",
      "h2s = 3065.; \n",
      "h3 = 3565.;\n",
      "h4s = 2300.; \n",
      "x4s = 0.88; \n",
      "h5 = 191.83;\n",
      "v = 0.001;\n",
      "P = 150.; \t\t\t# in bar\n",
      "\n",
      "# Calculation\n",
      "Wp = v*P*100;\n",
      "h6s = 206.83;\n",
      "Q1 = (h1-h6s)+(h3-h2s);\n",
      "Wt = (h1-h2s)+(h3-h4s);\n",
      "Wnet = Wt-Wp;\n",
      "n_cycle = 100*Wnet/Q1;\n",
      "sr = 3600/Wnet;\n",
      "\n",
      "# Results\n",
      "print \"Quality at turbine exhaust is\",0.88\n",
      "print \"Cycle efficiency is %.1f %%\"%n_cycle\n",
      "print \"steam rate is %.2f Kg/kW h\"%sr\n"
     ],
     "language": "python",
     "metadata": {},
     "outputs": [
      {
       "output_type": "stream",
       "stream": "stdout",
       "text": [
        "Quality at turbine exhaust is 0.88\n",
        "Cycle efficiency is 43.9 %\n",
        "steam rate is 2.18 Kg/kW h\n"
       ]
      }
     ],
     "prompt_number": 8
    },
    {
     "cell_type": "heading",
     "level": 2,
     "metadata": {},
     "source": [
      "Example 12.5 Page No : 479"
     ]
    },
    {
     "cell_type": "code",
     "collapsed": false,
     "input": [
      "\n",
      "# Variables\n",
      "h1 = 3230.9; \n",
      "s1 = 6.9212; \n",
      "s2 = s1; \n",
      "s3 = s1;\n",
      "h2 = 2796; \n",
      "sf = 0.6493; \n",
      "sfg = 7.5009;\n",
      "\n",
      "# Calculation\n",
      "x3 = (s3-sf)/sfg;\n",
      "h3 = 191.83 + x3*2392.8;\n",
      "h4 = 191.83; h5 = h4;\n",
      "h6 = 640.23; h7 = h6;\n",
      "m = (h6-h5)/(h2-h5);\n",
      "Wt = (h1-h2)+(1-m)*(h2-h3);\n",
      "Q1 = h1-h6;\n",
      "n_cycle = 100*Wt/Q1;\n",
      "sr = 3600/Wt;\n",
      "s7 = 1.8607; s4 = 0.6493;\n",
      "Tm = (h1-h7)/(s1-s7);\n",
      "Tm1 = (h1-h4)/(s1-s4); \t\t\t# With out regeneration\n",
      "dT = Tm-Tm1;\n",
      "Wt_ = h1-h3;\n",
      "sr_ = 3600/Wt_;\n",
      "dsr = sr-sr_;\n",
      "n_cycle_ = 100*(h1-h3)/(h1-h4);\n",
      "dn = n_cycle-n_cycle_;\n",
      "\n",
      "# Results\n",
      "print \"Efficiency of the cycle is %.2f %%\"%n_cycle\n",
      "print \"Steam rate of the cycle is %.2f kg/kW h\"%sr\n",
      "print \"Increase in temperature due to regeneration is %.1f degree centigrade\"%dT\n",
      "print \"Increase in steam rate due to regeneration is %.1f kg/kW h\"%dsr\n",
      "print \"Increase in Efficiency of the cycle due to regeneration is %.2f %%\"%dn\n",
      "\n",
      "# note: rounding error is there because of decimal points."
     ],
     "language": "python",
     "metadata": {},
     "outputs": [
      {
       "output_type": "stream",
       "stream": "stdout",
       "text": [
        "Efficiency of the cycle is 36.07 %\n",
        "Steam rate of the cycle is 3.85 kg/kW h\n",
        "Increase in temperature due to regeneration is 27.4 degree centigrade\n",
        "Increase in steam rate due to regeneration is 0.4 kg/kW h\n",
        "Increase in Efficiency of the cycle due to regeneration is 1.90 %\n"
       ]
      }
     ],
     "prompt_number": 1
    },
    {
     "cell_type": "heading",
     "level": 2,
     "metadata": {},
     "source": [
      "Example 12.6 Page No : 481"
     ]
    },
    {
     "cell_type": "code",
     "collapsed": false,
     "input": [
      "\n",
      "# Variables\n",
      "h1 = 3023.5; \n",
      "s1 = 6.7664; \n",
      "s2 = s1; \n",
      "s3 = s1; \n",
      "s4 = s1;\n",
      "t_sat_20 = 212.;\n",
      "t_sat_1 = 46.;\n",
      "\n",
      "# Calculation\n",
      "dt = t_sat_20-t_sat_1;\n",
      "n =3; \t\t\t# number of heaters\n",
      "t = dt/n;\n",
      "t1 = t_sat_20-t;\n",
      "t2 = t1-t;\n",
      "\n",
      "# 0.1 bar\n",
      "hf = 191.83; \n",
      "hfg = 2392.8; \n",
      "sf = 0.6493;\n",
      "sg = 8.1502;\n",
      "# At 100 degree\n",
      "hf100 = 419.04; \n",
      "hfg100 = 2257.0; \n",
      "sf100 = 1.3069; \n",
      "sg100 = 7.3549;\n",
      "# At 150 degree\n",
      "hf150 = 632.20; \n",
      "hfg150 = 2114.3; \n",
      "sf150 = 1.8418; \n",
      "sg150 = 6.8379;\n",
      "x2 = (s1-sf150)/4.9961;\n",
      "h2 = hf150+(x2*hfg150);\n",
      "x3 = (s1-sf100)/6.0480;\n",
      "h3 = hf100+(x3*hfg100);\n",
      "x4 = (s1-sf)/7.5010;\n",
      "h4 = hf+(x4*hfg);\n",
      "h5 = hf; h6 = h5;\n",
      "h7 = hf100; h8 = h7;\n",
      "h9 = 632.2; h10 = h9;\n",
      "m1 = (h9-h7)/(h2-h7);\n",
      "m2 = ((1-m1)*(h7-h6))/(h3-h6);\n",
      "Wt = 1*(h1-h2)+(1-m1)*(h2-h3)+(1-m1-m2)*(h3-h4);\n",
      "Q1 = h1-h9;\n",
      "Wp = 0 ; \t\t\t# Pump work is neglected\n",
      "n_cycle = 100*(Wt-Wp)/Q1;\n",
      "sr = 3600/(Wt-Wp);\n",
      "\n",
      "# Results \n",
      "print \"Net work per kg of stem is %.2f kJ/Kg\"%Wt\n",
      "print \"Cycle efficiency is %.2f %%\"%n_cycle\n",
      "print \"Stream rate is %.2f Kg/kW h\"%sr\n",
      "\n",
      "# rounding off error would be there."
     ],
     "language": "python",
     "metadata": {},
     "outputs": [
      {
       "output_type": "stream",
       "stream": "stdout",
       "text": [
        "Net work per kg of stem is 798.64 kJ/Kg\n",
        "Cycle efficiency is 33.40 %\n",
        "Stream rate is 4.51 Kg/kW h\n"
       ]
      }
     ],
     "prompt_number": 4
    },
    {
     "cell_type": "heading",
     "level": 2,
     "metadata": {},
     "source": [
      "Example 12.7 Page No : 483"
     ]
    },
    {
     "cell_type": "code",
     "collapsed": false,
     "input": [
      "import math \n",
      "\n",
      "# Variables\n",
      "Ti = 2000.;\n",
      "Te = 450.;\n",
      "T0 = 300.;\n",
      "Q1_dot = 100e03; \t\t\t# in kW\n",
      "cpg = 1.1;\n",
      "\n",
      "# Calculation\n",
      "wg = Q1_dot/(cpg*(Ti-Te));\n",
      "af1 = wg*cpg*T0*((Ti/T0)-1-math.log(Ti/T0));\n",
      "af2 = wg*cpg*T0*((Te/T0)-1-math.log(Te/T0));\n",
      "afi = af1-af2;\n",
      "h1 = 2801; h3 = 169; h4 = 172.8; h2 = 1890.2;\n",
      "s1 = 6.068; s2 = s1; s3 = 0.576; s4 = s3;\n",
      "Wt = h1-h2;\n",
      "Wp = h4-h3;\n",
      "Q1 = h1-h4;\n",
      "Q2 = h2-h3;\n",
      "Wnet = Wt-Wp;\n",
      "ws = Q1_dot/2628;\n",
      "afu = 38*(h1-h4-T0*(s1-s3));\n",
      "I_dot = afi-afu;\n",
      "Wnet_dot = ws*Wnet;\n",
      "afc = ws*(h2-h3-T0*(s2-s3));\n",
      "n2 = 100*Wnet_dot/af1;\n",
      "\n",
      "# Results\n",
      "print \"The second law efficiency is %.1f %%\"%n2\n"
     ],
     "language": "python",
     "metadata": {},
     "outputs": [
      {
       "output_type": "stream",
       "stream": "stdout",
       "text": [
        "The second law efficiency is 47.3 %\n"
       ]
      }
     ],
     "prompt_number": 17
    },
    {
     "cell_type": "heading",
     "level": 2,
     "metadata": {},
     "source": [
      "Example 12.8 Page No : 485"
     ]
    },
    {
     "cell_type": "code",
     "collapsed": false,
     "input": [
      "import math \n",
      "\n",
      "# Variables\n",
      "h1 = 2758.;      # kJ/kg\n",
      "h2 = 1817.; \n",
      "h3 = 192.\n",
      "h4 = 200.;\n",
      "cpg = 1.1\n",
      "\n",
      "# Calculation and Results\n",
      "Wt = h1-h2; \n",
      "Wp = h4-h3;\n",
      "Q1 = h1-h4; \n",
      "Wnet = Wt-Wp;\n",
      "n1 = Wnet/Q1;\n",
      "WR = Wnet/Wt;\n",
      "Q1_ = 100.;\n",
      "PO = n1*Q1_;\n",
      "cp = 1000.;\n",
      "wg = (Q1_/(833.-450));\n",
      "EIR = 59.3\n",
      "n2 = PO/EIR ;\n",
      "print (\"Part (a)\")\n",
      "print \"n1 is %.1f %%\"%(n1*100)\n",
      "print \"n2 is %.1f %%\"%(n2*100)\n",
      "print \"Work ratio is %.3f\"%WR\n",
      "\n",
      "# Part (b)\n",
      "h1b = 3398.; \n",
      "h2b = 2130.\n",
      "h3b = 192.; \n",
      "h4b = 200.;\n",
      "Wtb = 1268.; \n",
      "Wpb = 8.; \n",
      "Q1b = 3198.;\n",
      "Wt = 1268.\n",
      "Wp = 8.\n",
      "n1b = (Wt-Wp)/Q1b;\n",
      "WRb = (Wt-Wp)/Wtb;\n",
      "EIRb = 59.3;\n",
      "Wnetb = Q1b*n1b;\n",
      "n2b = 36.5/EIRb;\n",
      "print (\"\\nPart (b)\")\n",
      "print \"n1 is %.1f %%\"%(n1b*100)\n",
      "print \"n2 is %.1f %%\"%(n2b*100)\n",
      "print \"Work ratio is %.3f\"%WRb\n",
      "\n",
      "# Part (c)\n",
      "h1c = 3398.; \n",
      "h2c = 2761.; \n",
      "h3c = 3482.; \n",
      "h4c = 2522.; \n",
      "h5c = 192.; \n",
      "h6c = 200.;\n",
      "Wt1 = 637.; \n",
      "Wt2 = 960.; \n",
      "Wtc = Wt1+Wt2; Wpc = 8.;\n",
      "Wnetc = 1589.; \n",
      "Q1c = 3198+721.;\n",
      "n1c = Wnetc/Q1c;\n",
      "WRc = Wnetc/Wtc;\n",
      "POc = Q1_*n1c;\n",
      "EIRc = 59.3;\n",
      "n2c = POc/EIRc;\n",
      "print (\"\\nPart (c)\")\n",
      "print \"n1 is %.1f %%\"%(n1c*100)\n",
      "print \"n2 is %.1f %%\"%(n2c*100)\n",
      "print \"Work ratio is %.3f\"%WRc\n",
      "\n",
      "# Part (d)\n",
      "T3 = 318.8; T1 = 568.;\n",
      "n1d = 1-(T3/T1);\n",
      "Q1d = 2758-1316.;\n",
      "Wnet = Q1d*n1d;\n",
      "Wpd = 8.; \n",
      "Wtd = 641.;\n",
      "WRd = (Wtd-Wpd)/Wtd;\n",
      "POd = Q1_*0.439;\n",
      "EIRd = (Q1_/(833-593.))*cpg*((833.-300)-300*(math.log(833./300)));\n",
      "n2d = POd/94.6;\n",
      "print (\"\\nPart (d)\")\n",
      "print \"n1 is %.1f %%\"%(n1d*100)\n",
      "print \"n2 is %.1f %%\"%(n2d*100)\n",
      "print \"Work ratio is %.3f\"%WRd\n"
     ],
     "language": "python",
     "metadata": {},
     "outputs": [
      {
       "output_type": "stream",
       "stream": "stdout",
       "text": [
        "Part (a)\n",
        "n1 is 36.5 %\n",
        "n2 is 61.5 %\n",
        "Work ratio is 0.991\n",
        "\n",
        "Part (b)\n",
        "n1 is 39.4 %\n",
        "n2 is 61.6 %\n",
        "Work ratio is 0.994\n",
        "\n",
        "Part (c)\n",
        "n1 is 40.5 %\n",
        "n2 is 68.4 %\n",
        "Work ratio is 0.995\n",
        "\n",
        "Part (d)\n",
        "n1 is 43.9 %\n",
        "n2 is 46.4 %\n",
        "Work ratio is 0.988\n"
       ]
      }
     ],
     "prompt_number": 25
    },
    {
     "cell_type": "heading",
     "level": 2,
     "metadata": {},
     "source": [
      "Example 12.9 Page No : 488"
     ]
    },
    {
     "cell_type": "code",
     "collapsed": false,
     "input": [
      "\n",
      "# Variables\n",
      "hfg = 2202.6;\n",
      "Qh = 5.83;\n",
      "ws = Qh/hfg;\n",
      "eg = 0.9; \t\t\t# efficiency of generator\n",
      "P = 1000;\n",
      "Wnet = 1000/0.9;\n",
      "nbrake = 0.8;\n",
      "\n",
      "# Calculation\n",
      "h1_2s = Wnet/(ws*nbrake); \t\t\t# h1-h2s\n",
      "n_internal = 0.85;\n",
      "h12 = n_internal*h1_2s;\n",
      "hg = 2706.3; \n",
      "h2 = hg;\n",
      "h1 = h12+h2;\n",
      "h2s = h1-h1_2s;\n",
      "hf = 503.71;\n",
      "x2s = (h2s-hf)/hfg;\n",
      "sf = 1.5276; \n",
      "sfg = 5.6020;\n",
      "s2s = sf+(x2s*sfg);\n",
      "s1 = s2s;\n",
      "P1 = 22.5; \t\t\t# in bar from Moiller chart\n",
      "t1 = 360;\n",
      "\n",
      "# Results\n",
      "print \"Temperature of the steam is\",t1,\"degree\"\n",
      "print \"Pressure of the steam is \",P1,\"bar\"\n"
     ],
     "language": "python",
     "metadata": {},
     "outputs": [
      {
       "output_type": "stream",
       "stream": "stdout",
       "text": [
        "Temperature of the steam is 360 degree\n",
        "Pressure of the steam is  22.5 bar\n"
       ]
      }
     ],
     "prompt_number": 9
    },
    {
     "cell_type": "heading",
     "level": 2,
     "metadata": {},
     "source": [
      "Example 12.10 Page No : 489"
     ]
    },
    {
     "cell_type": "code",
     "collapsed": false,
     "input": [
      "\n",
      "# Variables\n",
      "h1 = 3037.3; h2 = 561+(0.96*2163.8);\n",
      "s2 = 1.6718+(0.96*5.3201);\n",
      "s3s = s2;\n",
      "\n",
      "# Calculation\n",
      "x3s = (s3s-0.6493)/7.5009;\n",
      "h3s = 191.83+(x3s*2392.8);\n",
      "h23 = 0.8*(h2-h3s); \t\t\t# h2-h3\n",
      "h3 = h2-h23;\n",
      "h5 = 561.47; h4 = 191.83;\n",
      "Qh = 3500.; \t\t\t# in kJ/s\n",
      "w = Qh/(h2-h5);\n",
      "Wt = 1500.;\n",
      "ws = (Wt+w*(h2-h3))/(h1-h3); \n",
      "ws_ = 3600.*ws ; \t\t\t# in kg/h\n",
      "h6 = ((ws-w)*h4+w*h5)/ws;\n",
      "h7 = h6;\n",
      "n_boiler = 0.85;\n",
      "CV = 44000.; \t\t\t# in kJ/kg\n",
      "wf = (1.1*ws_*(h1-h7))/(n_boiler*CV);\n",
      "\n",
      "# Results\n",
      "print \"Fuel buring rate is %.2f Kg/h\"%wf\n",
      "print \"Wf = %.2f tonnes/day\"%(wf*24/1000)\n"
     ],
     "language": "python",
     "metadata": {},
     "outputs": [
      {
       "output_type": "stream",
       "stream": "stdout",
       "text": [
        "Fuel buring rate is 756.64 Kg/h\n",
        "Wf = 18.16 tonnes/day\n"
       ]
      }
     ],
     "prompt_number": 3
    },
    {
     "cell_type": "heading",
     "level": 2,
     "metadata": {},
     "source": [
      "Example 12.11 Page No : 491"
     ]
    },
    {
     "cell_type": "code",
     "collapsed": false,
     "input": [
      "\n",
      "# Variables\n",
      "h1 = 3285.; \n",
      "h2s = 3010.\n",
      "h3 = 3280.; \n",
      "h4s = 3030.;\n",
      "\n",
      "# Calculation\n",
      "h4 = h3-0.83*(h3-h4s);\n",
      "h5s = 2225;\n",
      "h5 = h4-0.83*(h4-h5s);\n",
      "h6 = 162.7; h7 = h6;\n",
      "h8 = 762.81;\n",
      "h2 = h1-0.785*(h1-h2s);\n",
      "m = (h8-h7)/(h4-h7);\n",
      "n_cycle = ((h1-h2)+(h3-h4)+(1-m)*(h4-h5))/((h1-h8)+(h3-h2))\n",
      "\n",
      "# Results\n",
      "print \"Steam flow at turbine inlet is %.3f Kg/s\"%m\n",
      "print \"cycle efficiency is %.2f %%\"%(n_cycle*100)\n"
     ],
     "language": "python",
     "metadata": {},
     "outputs": [
      {
       "output_type": "stream",
       "stream": "stdout",
       "text": [
        "Steam flow at turbine inlet is 0.206 Kg/s\n",
        "cycle efficiency is 35.92 %\n"
       ]
      }
     ],
     "prompt_number": 21
    },
    {
     "cell_type": "heading",
     "level": 2,
     "metadata": {},
     "source": [
      "Example 12.12 Page No : 493"
     ]
    },
    {
     "cell_type": "code",
     "collapsed": false,
     "input": [
      "# From table and graph \n",
      "\n",
      "# Variables\n",
      "h1 = 2792.2;\n",
      "h4 = 122.96;\n",
      "hb = 254.88;\n",
      "hc = 29.98;\n",
      "ha = 355.98;\n",
      "hd = hc;\n",
      "h2 = 1949.27;\n",
      "\n",
      "# Calculation and Results\n",
      "m = (h1-h4)/(hb-hc); \t\t\t# Amount of mercury circulating\n",
      "Q1t = m*(ha-hd);\n",
      "W1t = m*(ha-hb) + (h1-h2);\n",
      "Nov = W1t/Q1t ;\n",
      "print \"Overall efficiency of the cycle %.2f %%\"%(Nov*100)\n",
      "\n",
      "S = 50000.; \t\t\t# Stem flow rate through turbine in kg/h\n",
      "wm = S*m;\n",
      "print \"Flow through the mercury turbine is %.2e Kg/h\"%wm\n",
      "\n",
      "Wt = W1t*S/3600;\n",
      "print \"Useful work done in binary vapour cycle is %.2e kW\"%Wt\n",
      "\n",
      "nm = 0.85; \t\t\t# Internal efficiency of mercury turbine\n",
      "ns = 0.87; \t\t\t# Internal efficiency of steam turbine\n",
      "WTm = nm*(ha-hb);\n",
      "hb_ = ha-WTm; \t\t\t# hb'\n",
      "m_ = (h1-h4)/(hb_-hc); \t\t\t# m'\n",
      "h1_ = 3037.3; \t\t\t# h'\n",
      "Q1t = m_*(ha-hd)+(h1_-h1);\n",
      "x2_ = (6.9160-0.4226)/(8.47-0.4226);\n",
      "h2_ = 121+(0.806*2432.9);\n",
      "WTst = ns*(h1_-h2_);\n",
      "WTt = m_*(ha-hb_)+WTst;\n",
      "Nov = WTt/Q1t;\n",
      "\n",
      "print \"Overall efficiency is %.1f %%\"%(Nov*100)\n",
      "\n",
      "# note : rounding off error."
     ],
     "language": "python",
     "metadata": {},
     "outputs": [
      {
       "output_type": "stream",
       "stream": "stdout",
       "text": [
        "Overall efficiency of the cycle 52.80 %\n",
        "Flow through the mercury turbine is 5.93e+05 Kg/h\n",
        "Useful work done in binary vapour cycle is 2.84e+04 kW\n",
        "Overall efficiency is 46.2 %\n"
       ]
      }
     ],
     "prompt_number": 4
    }
   ],
   "metadata": {}
  }
 ]
}