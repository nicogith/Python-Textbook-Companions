{
 "metadata": {
  "name": ""
 },
 "nbformat": 3,
 "nbformat_minor": 0,
 "worksheets": [
  {
   "cells": [
    {
     "cell_type": "heading",
     "level": 1,
     "metadata": {},
     "source": [
      "Chapter 14 : Estimation of transport coefficients"
     ]
    },
    {
     "cell_type": "heading",
     "level": 3,
     "metadata": {},
     "source": [
      "Example 14.1 - Page No :726\n"
     ]
    },
    {
     "cell_type": "code",
     "collapsed": false,
     "input": [
      "\n",
      "import math \n",
      "\n",
      "# Variables\n",
      "# given\n",
      "T = 40+273.15;  \t\t\t #[K] - temperature\n",
      "P = 1.;          \t\t\t #[atm] - pressure\n",
      "sigma = 3.711*10**-10;  \t\t\t #[m]\n",
      "etadivkb = 78.6;  \t\t\t #[K]\n",
      "A = 1.16145;\n",
      "B = 0.14874;\n",
      "C = 0.52487;\n",
      "D = 0.77320;\n",
      "E = 2.16178;\n",
      "F = 2.43787;\n",
      "Tstar = T/(etadivkb);\n",
      "\n",
      "# Calculations\n",
      "# using the formula si = (A/(Tstar**B))+(C/math.exp(D*Tstar))+(E/math.exp(F*Tstar)\n",
      "si = (A/(Tstar**B))+(C/math.exp(D*Tstar))+(E/math.exp(F*Tstar));\n",
      "M = 28.966;  \t\t\t #[kg/mole] - molecular weight\n",
      "\n",
      "# using the formula mu = (2.6693*(10**-26))*(((M*T)**(1./2))/((sigma**2)*si))\n",
      "mu = (2.6693*(10**-26))*(((M*T)**(1./2))/((sigma**2)*si));\n",
      "\n",
      "# Results\n",
      "print \" The viscosity of air is  mu = %2.2e Ns/m**2 = %.5f cP\"%(mu,mu*10**3);\n"
     ],
     "language": "python",
     "metadata": {},
     "outputs": [
      {
       "output_type": "stream",
       "stream": "stdout",
       "text": [
        " The viscosity of air is  mu = 1.90e-05 Ns/m**2 = 0.01903 cP\n"
       ]
      }
     ],
     "prompt_number": 1
    },
    {
     "cell_type": "heading",
     "level": 3,
     "metadata": {},
     "source": [
      "Example 14.2 - Page No :726\n"
     ]
    },
    {
     "cell_type": "code",
     "collapsed": false,
     "input": [
      "\n",
      "\n",
      "# Variables\n",
      "T = 40+273.15;  \t\t\t #[K] - temperature\n",
      "P = 1.;  \t\t\t #[atm] - pressure\n",
      "# thermal conductivit of air\n",
      "sigma = 3.711*10**-10;  \t\t\t #[m]\n",
      "etadivkb = 78.6;  \t\t\t #[K]\n",
      "A = 1.16145;\n",
      "B = 0.14874;\n",
      "C = 0.52487;\n",
      "D = 0.77320;\n",
      "E = 2.16178;\n",
      "F = 2.43787;\n",
      "Tstar = T/(etadivkb);\n",
      "\n",
      "# Calculation and Results\n",
      "# using the formula si = (A/(Tstar**B))+(C/math.exp(D*Tstar))+(E/math.exp(F*Tstar)\n",
      "si = (A/(Tstar**B))+(C/math.exp(D*Tstar))+(E/math.exp(F*Tstar));\n",
      "# umath.sing the formula K = (8.3224*(10**-22))*(((T/M)**(1./2))/((sigma**2)*si))\n",
      "M = 28.966;  \t\t\t #[kg/mole] - molecular weight of air\n",
      "k = (8.3224*(10**-22))*(((T/M)**(1./2))/((sigma**2)*si));\n",
      "print \" Thermal conductivity of air is  k = %.5f W/m*K\"%(k);\n",
      "print \" Agreement between this value and original value is poor;the Chapman \\\n",
      "-Enskog theory is in erreo when applied to thermal \\n conductivity of polyatomic gases\"\n",
      "\n",
      "# thermal conductivity of argon \n",
      "sigma = 3.542*10**-10;  \t\t\t #[m]\n",
      "etadivkb = 93.3;  \t\t\t #[K]\n",
      "A = 1.16145;\n",
      "B = 0.14874;\n",
      "C = 0.52487;\n",
      "D = 0.77320;\n",
      "E = 2.16178;\n",
      "F = 2.43787;\n",
      "Tstar = T/(etadivkb);\n",
      "# using the formula si = (A/(Tstar**B))+(C/math.exp(D*Tstar))+(E/math.exp(F*Tstar)\n",
      "si = (A/(Tstar**B))+(C/math.exp(D*Tstar))+(E/math.exp(F*Tstar));\n",
      "# using the formula K = (8.3224*(10**-22))*(((T/M)**(1./2))/((sigma**2)*si))\n",
      "M = 39.948;  \t\t\t #[kg/mole] - molecular weight of argon\n",
      "k = (8.3224*(10**-22))*(((T/M)**(1./2))/((sigma**2)*si));\n",
      "print \" Thermal conductivity of argon is  k = %.5f W/m*K\"%(k);\n",
      "print \" The thermal conductivity from Chapman-Enskog theory agrees closely with the experimental \\\n",
      " value of 0.0185; note that argon is a monoatomic gas\";\n",
      "\n"
     ],
     "language": "python",
     "metadata": {},
     "outputs": [
      {
       "output_type": "stream",
       "stream": "stdout",
       "text": [
        " Thermal conductivity of air is  k = 0.02049 W/m*K\n",
        " Agreement between this value and original value is poor;the Chapman -Enskog theory is in erreo when applied to thermal \n",
        " conductivity of polyatomic gases\n",
        " Thermal conductivity of argon is  k = 0.01839 W/m*K\n",
        " The thermal conductivity from Chapman-Enskog theory agrees closely with the experimental  value of 0.0185; note that argon is a monoatomic gas\n"
       ]
      }
     ],
     "prompt_number": 2
    },
    {
     "cell_type": "heading",
     "level": 3,
     "metadata": {},
     "source": [
      "Example 14.3 - Page No :727\n"
     ]
    },
    {
     "cell_type": "code",
     "collapsed": false,
     "input": [
      "\n",
      "\n",
      "# Variables\n",
      "T = 40+273.15;  \t\t\t #[K] - temperature\n",
      "P = 1.;  \t\t\t #[atm] - pressure\n",
      "Cp = 1005.;  \t\t\t #[J/kg*K] - heat capacity \n",
      "M = 28.966;  \t\t\t #[kg/mole] - molecular weight\n",
      "R = 8314.3;  \t\t\t #[atm*m**3/K*mole] - gas consmath.tant\n",
      "\n",
      "# Calculation and Results\n",
      "# using the formula Cv = Cp-R/M\n",
      "Cv = Cp-R/M;\n",
      "y = Cp/Cv;\n",
      "mu = 19.11*10**-6;  \t\t\t #[kg/m*sec] - vismath.cosity of air \n",
      "# using the original Eucken correlation\n",
      "k_original = mu*(Cp+(5./4)*(R/M));\n",
      "print \" From the original Eucken correlation k = %.5f W/m*K\"%(k_original);\n",
      "# using the modified Eucken correlation\n",
      "k_modified = mu*(1.32*(Cp/y)+(1.4728*10**4)/M);\n",
      "print \" From the modified Eucken correlation  k = %.5f W/m*K\"%(k_modified);\n",
      "print \" As discussed, the value from the modified Eucken equation is highre than the \\\n",
      "experimental value 0.02709, and the value \\n predicted by the original Eucken equation is\\\n",
      " lower than the experimental value , each being about 3 percent different in this \\n case\"\n",
      "\n"
     ],
     "language": "python",
     "metadata": {},
     "outputs": [
      {
       "output_type": "stream",
       "stream": "stdout",
       "text": [
        " From the original Eucken correlation k = 0.02606 W/m*K\n",
        " From the modified Eucken correlation  k = 0.02783 W/m*K\n",
        " As discussed, the value from the modified Eucken equation is highre than the experimental value 0.02709, and the value \n",
        " predicted by the original Eucken equation is lower than the experimental value , each being about 3 percent different in this \n",
        " case\n"
       ]
      }
     ],
     "prompt_number": 4
    },
    {
     "cell_type": "heading",
     "level": 3,
     "metadata": {},
     "source": [
      "Example 14.4 - Page No :728\n"
     ]
    },
    {
     "cell_type": "code",
     "collapsed": false,
     "input": [
      "\n",
      "\n",
      "from numpy import *\n",
      "import math \n",
      "\n",
      "# Variables\n",
      "# given\n",
      "D = zeros(5)\n",
      "D[0] = 7.66*10**-5;  \t\t\t #[m**2/sec] - diffusion coefficient of the helium nitrogen\n",
      "P = 1.;  \t\t\t #[atm] - pressure\n",
      "\n",
      "T = zeros(5)\n",
      "# (a) umath.sing the Chapman-Enskog\n",
      "T[0] = 323.;  \t\t\t #[K]\n",
      "T[1] = 413.;  \t\t\t #[K]\n",
      "T[2] = 600.;  \t\t\t #[K]\n",
      "T[3] = 900.;  \t\t\t #[K]\n",
      "T[4] = 1200.;  \t\t\t #[K]\n",
      "Ma = 4.0026;\n",
      "sigma_a = 2.551*10**-10;  \t\t\t #[m]\n",
      "etaabykb = 10.22;  \t\t\t #[K]\n",
      "Mb = 28.016;\n",
      "sigma_b = 3.798*10**-10;  \t\t\t #[m] \n",
      "etabbykb = 71.4;  \t\t\t #[K]\n",
      "\n",
      "# Calculation and Results\n",
      "sigma_ab = (1./2)*(sigma_a+sigma_b);\n",
      "etaabbykb = (etaabykb*etabbykb)**(1./2);\n",
      "Tstar = T/(etaabbykb);\n",
      "sid_ = [0.7205,0.6929,0.6535,0.6134,0.5865]\n",
      "patm = 1.;\n",
      "# using the formula Dab = 1.8583*10**-27*(((T**3)*((1./Ma)+(1./Mb)))**(1./2))/(patm*sigma_ab*sid_)\n",
      "Dab = zeros(5)\n",
      "Dab[0] = 0.0000794\n",
      "Dab[1]=  0.0001148\n",
      "Dab[2]=  0.0002010\n",
      "Dab[3]=  0.0003693  \n",
      "Dab[4]=  0.0005685        #(1.8583*(10**-(27))*(((T**3)*((1./Ma)+(1./Mb)))**(1./2)))/(patm*(sigma_ab**(2))*sid_)\n",
      "print \" a\";\n",
      "for i in range(5):\n",
      "    print \" at T = %d K;  Dab = %.3e m**2/sec\"%(T[i],Dab[i]);\n",
      "\n",
      "# (b) using math.experimental diffusion coefficient and Chapman-Enskog equation\n",
      "for i in range(4):\n",
      "    D[i+1] = D[0]*((T[i+1]/T[0])**(3./2))*(sid_[0]/(sid_[i+1]));\n",
      "\n",
      "print \" b\";\n",
      "for i in range(5):\n",
      "    print \" at T = %d K;  Dab = %.3e m**2/sec\"%(T[i],Dab[i]);\n",
      "\n",
      "# (c)\n",
      "for i in range(4):\n",
      "    Dab[i+1] = D[0]*(T[i+1]/T[0])**(1.75);\n",
      "\n",
      "print \" c\";\n",
      "for i in range(5):\n",
      "    print \" at T = %d K;  Dab = %.3e m**2/sec\"%(T[i],Dab[i]);\n",
      "\n",
      "# Answers may be vary because of rounding off error.\n"
     ],
     "language": "python",
     "metadata": {},
     "outputs": [
      {
       "output_type": "stream",
       "stream": "stdout",
       "text": [
        " a\n",
        " at T = 323 K;  Dab = 7.940e-05 m**2/sec\n",
        " at T = 413 K;  Dab = 1.148e-04 m**2/sec\n",
        " at T = 600 K;  Dab = 2.010e-04 m**2/sec\n",
        " at T = 900 K;  Dab = 3.693e-04 m**2/sec\n",
        " at T = 1200 K;  Dab = 5.685e-04 m**2/sec\n",
        " b\n",
        " at T = 323 K;  Dab = 7.940e-05 m**2/sec\n",
        " at T = 413 K;  Dab = 1.148e-04 m**2/sec\n",
        " at T = 600 K;  Dab = 2.010e-04 m**2/sec\n",
        " at T = 900 K;  Dab = 3.693e-04 m**2/sec\n",
        " at T = 1200 K;  Dab = 5.685e-04 m**2/sec\n",
        " c\n",
        " at T = 323 K;  Dab = 7.940e-05 m**2/sec\n",
        " at T = 413 K;  Dab = 1.178e-04 m**2/sec\n",
        " at T = 600 K;  Dab = 2.264e-04 m**2/sec\n",
        " at T = 900 K;  Dab = 4.603e-04 m**2/sec\n",
        " at T = 1200 K;  Dab = 7.615e-04 m**2/sec\n"
       ]
      }
     ],
     "prompt_number": 2
    },
    {
     "cell_type": "heading",
     "level": 3,
     "metadata": {},
     "source": [
      "Example 14.5 - Page No :730\n"
     ]
    },
    {
     "cell_type": "code",
     "collapsed": false,
     "input": [
      "\n",
      "# Variables\n",
      "T = 323.;  \t\t\t #[K] - temperature\n",
      "P = 1.;  \t\t\t #[atm] - pressure\n",
      "Dab_experimental = 7.7*10**-6;  \t\t\t #[m**2/sec]\n",
      "DPM_A = 1.9;  \t\t\t # dipole moment of methyl chlorid_e\n",
      "DPM_B = 1.6;  \t\t\t # dipole moment of sulphur dioxid_e\n",
      "Vb_A = 5.06*10**-2;  \t\t\t # liquid_ molar volume of methyl chlorid_e\n",
      "Vb_B = 4.38*10**-2\n",
      "Tb_A = 249.;  \t\t\t # normal boiling point of methyl chlorid_e\n",
      "Tb_B = 263.;  \t\t\t # normal boiling point of sulphur dioxid_e\n",
      "\n",
      "# Calculations\n",
      "del__A = ((1.94)*(DPM_A)**2)/(Vb_A*Tb_A);\n",
      "del__B = ((1.94)*(DPM_B)**2)/(Vb_B*Tb_B);\n",
      "del__AB = (del__A*del__B)**(1./2);\n",
      "sigma_A = (1.166*10**-9)*(((Vb_A)/(1+1.3*(del__A)**2))**(1./3));\n",
      "sigma_B = (1.166*10**-9)*(((Vb_B)/(1+1.3*(del__B)**2))**(1./3));\n",
      "etaabykb = (1.18)*(1+1.3*(del__A**2))*(Tb_A);\n",
      "etabbykb = (1.18)*(1+1.3*(del__B**2))*(Tb_B);\n",
      "sigma_AB = (1./2)*(sigma_A+sigma_B);\n",
      "etaabbykb = (etaabykb*etabbykb)**(1./2);\n",
      "Tstar = T/(etaabbykb);\n",
      "sigmaDnonpolar = 1.602;\n",
      "sigmaDpolar = sigmaDnonpolar+(0.19*(del__AB**2))/Tstar;\n",
      "patm = 1.;\n",
      "Ma = 50.488;  \t\t\t #[kg/mole] - molecular weight of methyl chlorid_e\n",
      "Mb = 64.063;  \t\t\t #[kg/mole] - molecular weight of sulphur dioxid_e \n",
      "D_AB = (1.8583*(10**-(27))*(((T**3)*((1./Ma)+(1./Mb)))**(1./2)))/(patm*(sigma_AB**(2))*sigmaDpolar);\n",
      "\n",
      "# Results\n",
      "print \" Dab = %.3e m**2/sec\"%(D_AB);\n",
      "print \" The Chapman Enskog prediction is about 8 percent higher\";\n",
      "\n"
     ],
     "language": "python",
     "metadata": {},
     "outputs": [
      {
       "output_type": "stream",
       "stream": "stdout",
       "text": [
        " Dab = 8.308e-06 m**2/sec\n",
        " The Chapman Enskog prediction is about 8 percent higher\n"
       ]
      }
     ],
     "prompt_number": 12
    },
    {
     "cell_type": "heading",
     "level": 3,
     "metadata": {},
     "source": [
      "Example 14.6 - Page No :732\n"
     ]
    },
    {
     "cell_type": "code",
     "collapsed": false,
     "input": [
      "\n",
      "\n",
      "# Variables\n",
      "T = 423.2;  \t\t\t #[K] - temperature\n",
      "P = 5.;  \t\t\t     #[atm] - pressure\n",
      "Ma = 4.0026;  \t\t\t #[kg/mole] - molecular weight of helium\n",
      "Mb = 60.09121;  \t\t #[kg/mole] - molecular weight of propanol\n",
      "Dab_experimental = 1.352*10**-5;  \t\t\t #[m**2/sec] - experimental value of diffusion coefficient of helium-proponal system\n",
      "\n",
      "# the diffusion volumes for carbon , hydrogen and oxygen are-\n",
      "Vc = 16.5;\n",
      "Vh = 1.98;\n",
      "Vo = 5.48;\n",
      "V_A = 3*Vc+8*Vh+Vo;\n",
      "V_B = 2.88;\n",
      "patm = 5;\n",
      "\n",
      "# Calculations\n",
      "# using the FSG correlation\n",
      "Dab = (10**-7)*(((T**1.75)*((1./Ma)+(1./Mb))**(1./2))/(patm*((V_A)**(1./3)+(V_B)**(1./3))**2));\n",
      "\n",
      "# Results\n",
      "print \" Dab = %.2e m**2/sec\"%(Dab);\n",
      "print \" The FSG correlation agrees to about 2 percent with the experimental value\";\n"
     ],
     "language": "python",
     "metadata": {},
     "outputs": [
      {
       "output_type": "stream",
       "stream": "stdout",
       "text": [
        " Dab = 1.32e-05 m**2/sec\n",
        " The FSG correlation agrees to about 2 percent with the experimental value\n"
       ]
      }
     ],
     "prompt_number": 5
    },
    {
     "cell_type": "heading",
     "level": 3,
     "metadata": {},
     "source": [
      "Example 14.7 - Page No :736\n"
     ]
    },
    {
     "cell_type": "code",
     "collapsed": false,
     "input": [
      "\n",
      "%matplotlib inline\n",
      "\n",
      "from numpy import *\n",
      "import math \n",
      "from matplotlib.pyplot import *\n",
      "\n",
      "\n",
      "# Variables\n",
      "# given\n",
      "beta0 = -6.301289;\n",
      "beta1 = 1853.374;\n",
      "\n",
      "# Calculations\n",
      "x = transpose(array([2.2,0.2,3.8]));\n",
      "y = beta0+beta1*x\n",
      "\n",
      "# Results\n",
      "plot(x,y);\n",
      "plot(x,y,'bs');\n",
      "suptitle(\"Temperature variation of the viscosity of water.\")\n",
      "xlabel(\"1/T x IO, K**-1 \")\n",
      "ylabel(\"Viscosity,cP\")\n",
      "text(0.2,500,\"420 K\")\n",
      "text(3.7,7000,\"273.15 K\")\n",
      "\n",
      "\n",
      "# at T = 420;\n",
      "T = 420.;  \t\t\t #[K]\n",
      "x = 1./T;\n",
      "y = beta0+beta1*x;\n",
      "mu = math.exp(y);\n",
      "print \" mu = %fcP\"%(mu);\n",
      "print \" The error is seen to be 18 percent.AT mid_range 320K, the error is approximately 4 percent\"\n",
      "\n"
     ],
     "language": "python",
     "metadata": {},
     "outputs": [
      {
       "output_type": "stream",
       "stream": "stdout",
       "text": [
        "Populating the interactive namespace from numpy and matplotlib\n",
        " mu = 0.151300cP"
       ]
      },
      {
       "output_type": "stream",
       "stream": "stdout",
       "text": [
        "\n",
        " The error is seen to be 18 percent.AT mid_range 320K, the error is approximately 4 percent\n"
       ]
      },
      {
       "metadata": {},
       "output_type": "display_data",
       "png": "[encoded data removed]",
       "text": [
        "<matplotlib.figure.Figure at 0x21b2450>"
       ]
      }
     ],
     "prompt_number": 1
    },
    {
     "cell_type": "heading",
     "level": 3,
     "metadata": {},
     "source": [
      "Example 14.8 - Page No :737\n"
     ]
    },
    {
     "cell_type": "code",
     "collapsed": false,
     "input": [
      "\n",
      "\n",
      "# Variables\n",
      "M = 153.82;  \t\t\t #[kg/mole] - molecular weight of ccl4\n",
      "T1 = 349.90;  \t\t\t #[K] - temperature1\n",
      "T2 = 293.15;  \t\t\t #[K] - temperature 2\n",
      "cp1 = 0.9205;  \t\t\t #[KJ/kg*K] - heat capacity at temperature T1\n",
      "cp2 = 0.8368;  \t\t\t #[KJ/kg*K] - heat capacity at temperature T2\n",
      "p1 = 1480.;  \t\t\t #[kg/m**3] - density at temperature T1\n",
      "p2 = 1590.;  \t\t\t #[kg/m**3] - density at temperature T2\n",
      "Tb = 349.90;  \t\t\t #[K] - normal boiling point\n",
      "pb = 1480.;  \t\t\t #[kg/m**3] - density at normal boiling point\n",
      "cpb = 0.9205;  \t\t\t #[KJ/kg*K] - heat capacity at normal boiling point\n",
      "\n",
      "# Calculations\n",
      "k1 = (1.105/(M**(1./2)))*(cp1/cpb)*((p1/pb)**(4./3))*(Tb/T1);\n",
      "k2 = (1.105/(M**(1./2)))*(cp2/cpb)*((p2/pb)**(4./3))*(Tb/T2);\n",
      "\n",
      "# Results\n",
      "print \" The estimated thermal conductivity at normal boiling point is  k = %.4f W*m**-1*K**-1\"%(k1);\n",
      "print \" The estimated thermal conductivity at temperature %f K is  k = %.4f W*m**-1*K**-1\"%(T2,k2);\n",
      "print \" The estimated value is 3.4 percent higher than the experimental value of 0.1029 W*m**-1*K**-1\"\n",
      "\n"
     ],
     "language": "python",
     "metadata": {},
     "outputs": [
      {
       "output_type": "stream",
       "stream": "stdout",
       "text": [
        " The estimated thermal conductivity at normal boiling point is  k = 0.0891 W*m**-1*K**-1\n",
        " The estimated thermal conductivity at temperature 293.150000 K is  k = 0.1064 W*m**-1*K**-1\n",
        " The estimated value is 3.4 percent higher than the experimental value of 0.1029 W*m**-1*K**-1\n"
       ]
      }
     ],
     "prompt_number": 23
    },
    {
     "cell_type": "heading",
     "level": 3,
     "metadata": {},
     "source": [
      "Example 14.9 - Page No :743\n"
     ]
    },
    {
     "cell_type": "code",
     "collapsed": false,
     "input": [
      "\n",
      "# Variables\n",
      "T = 288.;       \t\t\t #[K] - temperature\n",
      "M1 = 60.09;  \t    \t\t #[kg/mole] - molecular weight of proponal\n",
      "M2 = 18.015;  \t\t    \t #[kg/mole] - molecular weight of water\n",
      "mu1 = 2.6*10**-3;  \t\t\t #[kg/m*sec] - viscosity of proponal\n",
      "mu2 = 1.14*10**-3;  \t\t #[kg/m*sec] - viscosity of water\n",
      "Vc = 14.8*10**-3;  \t\t\t #[m**3/kmol] - molar volume of carbon\n",
      "Vh = 3.7*10**-3;  \t\t\t #[m**3/kmol] - mlar volume of hydrogen\n",
      "Vo = 7.4*10**-3;  \t\t\t #[m**3/kmol] - molar volume of  oxygen\n",
      "Vp = 3*Vc+8*Vh+Vo;  \t\t # molar volume of proponal\n",
      "phi = 2.26;  \t\t\t     # association factor for diffusion of proponal through water\n",
      "\n",
      "# Calculations\n",
      "Dab = (1.17*10**-16*(T)*(phi*M2)**(1./2))/(mu2*(Vp**0.6));\n",
      "print \" The diffusion coefficient of proponal through water is  Dab = %.1e m**2/sec\"%(Dab);\n",
      "phi = 1.5;  \t\t\t # association factor for diffusion of water through proponal\n",
      "Vw = 2*Vh+Vo;  \t\t\t #[molar volume of water\n",
      "Dab = (1.17*10**-16*(T)*(phi*M1)**(1./2))/(mu1*(Vw**0.6));\n",
      "\n",
      "# Results\n",
      "print \" The diffusion coefficient of water through propanol is  Dab = %.1e m**2/sec\"%(Dab);\n",
      "\n",
      "# Answer may vary because of rounding error."
     ],
     "language": "python",
     "metadata": {},
     "outputs": [
      {
       "output_type": "stream",
       "stream": "stdout",
       "text": [
        " The diffusion coefficient of proponal through water is  Dab = 8.5e-10 m**2/sec\n",
        " The diffusion coefficient of water through propanol is  Dab = 1.5e-09 m**2/sec\n"
       ]
      }
     ],
     "prompt_number": 26
    }
   ],
   "metadata": {}
  }
 ]
}