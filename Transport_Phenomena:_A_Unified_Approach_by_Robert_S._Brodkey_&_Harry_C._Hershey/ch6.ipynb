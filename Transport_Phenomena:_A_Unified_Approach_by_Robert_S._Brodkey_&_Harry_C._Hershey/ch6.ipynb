{
 "metadata": {
  "name": ""
 },
 "nbformat": 3,
 "nbformat_minor": 0,
 "worksheets": [
  {
   "cells": [
    {
     "cell_type": "heading",
     "level": 1,
     "metadata": {},
     "source": [
      "Chapter 6 : Turbulent Flow"
     ]
    },
    {
     "cell_type": "heading",
     "level": 3,
     "metadata": {},
     "source": [
      "Example 6.1 - Page No :200\n"
     ]
    },
    {
     "cell_type": "code",
     "collapsed": false,
     "input": [
      "\n",
      "\n",
      "import math \n",
      "\n",
      "\n",
      "# Variables\n",
      "# given\n",
      "q = 50.;        \t\t\t    #[gal/min] - volumetric flow rate\n",
      "d = 2.067/12;  \t    \t\t    #[ft] - diameter\n",
      "A = 0.02330;  \t\t             #[ft**2] - flow area\n",
      "p = 0.99568*62.43;  \t\t\t #[lb/ft**3] - density of water at 86degF\n",
      "mu = 0.8007*6.72*10**-4;  \t\t #[lb/ft*sec] - viscosity of water at 86degF\n",
      "u = q/(60.*7.48*A);\n",
      "\n",
      "# Calculations\n",
      "# using the formula Nre = d*u*p/mu;\n",
      "Nre = round((d*u*p)/mu,-2);\n",
      "\n",
      "# Results\n",
      "print \"Nre = \",Nre\n",
      "print \"Hence the flow is turbulent. Note also that Nre is dimensionless\";\n"
     ],
     "language": "python",
     "metadata": {},
     "outputs": [
      {
       "output_type": "stream",
       "stream": "stdout",
       "text": [
        "Nre =  95100.0\n",
        "Hence the flow is turbulent. Note also that Nre is dimensionless\n"
       ]
      }
     ],
     "prompt_number": 4
    },
    {
     "cell_type": "heading",
     "level": 3,
     "metadata": {},
     "source": [
      "Example 6.2 - Page No :202\n"
     ]
    },
    {
     "cell_type": "code",
     "collapsed": false,
     "input": [
      "\n",
      "# Variables\n",
      "# given\n",
      "p = 0.99568*62.43;  \t\t\t #[lb/ft**3] - density of water at 86degF\n",
      "mu = 0.8007*6.72*10**-4;  \t\t #[lb/ft*sec] - viscosity of water at 86degF\n",
      "u = 4.78;  \t\t\t             #[ft/sec] - free stream velocity \n",
      "Nre = 5.*10**5;  \t\t\t     # the lower limit for the transition reynolds number range is substituted\n",
      "\n",
      "# Calculations\n",
      "x = (Nre*mu)/(p*u);\n",
      "\n",
      "# Results\n",
      "print \"x = %.1f\"%x\n",
      "print \"Thus the transition could star at about %.2f ft. \\\n",
      "\\nThe reynolds number at the  upper end of the transition range is %.0e .\\\n",
      "\\nThe value of x at this location is ten times then the value obtained above i.e %.1f ft\"%(x,Nre*10,x*10)\n"
     ],
     "language": "python",
     "metadata": {},
     "outputs": [
      {
       "output_type": "stream",
       "stream": "stdout",
       "text": [
        "x = 0.9\n",
        "Thus the transition could star at about 0.91 ft. \n",
        "The reynolds number at the  upper end of the transition range is 5e+06 .\n",
        "The value of x at this location is ten times then the value obtained above i.e 9.1 ft\n"
       ]
      }
     ],
     "prompt_number": 5
    },
    {
     "cell_type": "heading",
     "level": 3,
     "metadata": {},
     "source": [
      "Example 6.3 - Page No :212\n"
     ]
    },
    {
     "cell_type": "code",
     "collapsed": false,
     "input": [
      "\n",
      "# Variables\n",
      "# given\n",
      "t = [0, 0.01, 0.02, 0.03, 0.04, 0.05, 0.06, 0.07, 0.08, 0.09, 0.10, 0.11, 0.12];\n",
      "Ux = [3.84, 3.50, 3.80, 3.60, 4.20, 4.00, 3.00, 3.20, 3.40,  3.00, 3.50, 4.30, 3.80];\n",
      "Uy = [0.43, 0.21, 0.18, 0.30, 0.36, 0.28, 0.35, 0.27, 0.21, 0.22, 0.23, 0.36, 0.35];\n",
      "Uz = [0.19, 0.16, 0.17, 0.13, 0.09, 0.10, 0.16, 0.15, 0.13, 0.18, 0.17, 0.18, 0.17];\n",
      "# using the formula AREA = [deltat/2]*[U1+U13+2*[U2+U3+U4+U5+U6+U7+U8+U9+U10+U11+U12]]\n",
      "# for Uxmean\n",
      "deltat = 0.01;\n",
      "T = t[12]-t[0];\n",
      "\n",
      "# Calculation and Results\n",
      "AREA = (deltat/2)*(Ux[0]+Ux[12]+2*(Ux[1]+Ux[2]+Ux[3]+Ux[4]+Ux[5]+Ux[6]+Ux[7]+Ux[8]+Ux[9]+Ux[10]+Ux[11]));\n",
      "Uxmean = AREA/T;\n",
      "print \"Uxmean = %.2f m s**-1\"%Uxmean\n",
      "\n",
      "# for Uymean\n",
      "deltat = 0.01;\n",
      "AREA = (deltat/2)*(Uy[0]+Uy[12]+2*(Uy[1]+Uy[2]+Uy[3]+Uy[4]+Uy[5]+Uy[6]+Uy[7]+Uy[8]+Uy[9]+Uy[10]+Uy[11]));\n",
      "Uymean = AREA/T;\n",
      "print \"Uymean = %.2f m s**-1\"%Uymean\n",
      "\n",
      "# for Uzmean\n",
      "AREA = (deltat/2)*(Uz[0]+Uz[12]+2*(Uz[1]+Uz[2]+Uz[3]+Uz[4]+Uz[5]+Uz[6]+Uz[7]+Uz[8]+Uz[9]+Uz[10]+Uz[11]));\n",
      "Uzmean = AREA/T;\n",
      "print \"Uzmean = %.2f m s**-1\"%Uzmean\n",
      "U = (Uxmean**2+Uymean**2+Uzmean**2)**(1./2);\n",
      "print \"U = %.3f m s**-1\"%U\n",
      "\n"
     ],
     "language": "python",
     "metadata": {},
     "outputs": [
      {
       "output_type": "stream",
       "stream": "stdout",
       "text": [
        "Uxmean = 3.61 m s**-1\n",
        "Uymean = 0.28 m s**-1\n",
        "Uzmean = 0.15 m s**-1\n",
        "U = 3.624 m s**-1\n"
       ]
      }
     ],
     "prompt_number": 2
    },
    {
     "cell_type": "heading",
     "level": 3,
     "metadata": {},
     "source": [
      "Example 6.4 Page no : 218"
     ]
    },
    {
     "cell_type": "code",
     "collapsed": false,
     "input": [
      "\n",
      "import math\n",
      "\n",
      "# Variables\n",
      "#Following values are taken from example 6.3\n",
      "U_dash_z2 = 8.917*10**-4   #m**2s**-2  square velocity\n",
      "Uz2 = .02340               #m**2s**-2\n",
      "U_dash_x2 = 8.947 * 10**-4 #m**2s**-2\n",
      "Ux22 = .02409              #m**2s**-2\n",
      "U = 3.634\n",
      "U2x = 3.63                  #m**2s**-2\n",
      "U2x2 = .41                  #m**2s**-2\n",
      "Ix = 11.37                  #percent\n",
      "U2y = .0288                 #m**2s**-2\n",
      "U2y2 = .069                 #m**2s**-2\n",
      "Iy = 1.92                   #percent\n",
      "dt = .01108\n",
      "\n",
      "# Calculation\n",
      "rmsUz = math.sqrt(U_dash_z2)\n",
      "rmsUx = math.sqrt(Uz2)\n",
      "rmsUx2 = math.sqrt(U_dash_x2)\n",
      "rmsUx2 = math.sqrt(Ux22)\n",
      "I = 100*rmsUz/U\n",
      "Ux = 3.84 - 3.61\n",
      "Uy = .43 - .28\n",
      "UxUy = Ux*Uy\n",
      "ratio = dt/(U2x2*U2y2)\n",
      "\n",
      "\n",
      "# Results\n",
      "print \"I = %.2f percent\"%I\n",
      "print \"U'xU'y = %.4f m**2s**-2\"%UxUy\n",
      "print \"The ratio = %.2f \"%ratio"
     ],
     "language": "python",
     "metadata": {},
     "outputs": [
      {
       "output_type": "stream",
       "stream": "stdout",
       "text": [
        "I = 0.82 percent\n",
        "U'xU'y = 0.0345 m**2s**-2\n",
        "The ratio = 0.39 \n"
       ]
      }
     ],
     "prompt_number": 1
    },
    {
     "cell_type": "heading",
     "level": 3,
     "metadata": {},
     "source": [
      "Example 6.5 - Page No :232\n"
     ]
    },
    {
     "cell_type": "code",
     "collapsed": false,
     "input": [
      "\n",
      "%matplotlib inline\n",
      "\n",
      "from numpy import *\n",
      "from matplotlib.pyplot import *\n",
      "import math \n",
      "\n",
      "\n",
      "# Variables\n",
      "# given\n",
      "UzmaxbyU = 24.83;\n",
      "roUbyv = 2312.;\n",
      "Re = 100000.;\n",
      "\n",
      "# using the formula Et/v = 95.5*((r/ro)/slope)-1\n",
      "# from fig 6.6 at Re = 100000\n",
      "rbyro = [0, 0.040, 0.100, 0.200, 0.300, 0.4, 0.5, 0.6, 0.7, 0.8, 0.9, 0.960, 1]\n",
      "slope = [0, 0.105, 0.112, 0.126, 0.144, 0.168, 0.201, 0.252, 0.336, 0.503, 1.007, 2.517, 94.59]\n",
      "\n",
      "# Calculations\n",
      "Etbyv = zeros(13)\n",
      "for i in range(1,13):\n",
      "    Etbyv[i] = 95.5*((rbyro[i])/slope[i])-1;\n",
      "\n",
      "# Results\n",
      "plot(rbyro,Etbyv);\n",
      "suptitle(\"Eddy viscosity ratio (E,/v) versus dimensionless radius.\")\n",
      "xlabel(\"r/ro\")\n",
      "ylabel(\"Er/v\")\n",
      "\n",
      "show()\n",
      "\n"
     ],
     "language": "python",
     "metadata": {},
     "outputs": [
      {
       "output_type": "stream",
       "stream": "stdout",
       "text": [
        "Populating the interactive namespace from numpy and matplotlib\n"
       ]
      },
      {
       "metadata": {},
       "output_type": "display_data",
       "png": "[encoded data removed]",
       "text": [
        "<matplotlib.figure.Figure at 0x1cfb950>"
       ]
      }
     ],
     "prompt_number": 1
    },
    {
     "cell_type": "heading",
     "level": 3,
     "metadata": {},
     "source": [
      "Example 6.7 page no : 246"
     ]
    },
    {
     "cell_type": "code",
     "collapsed": false,
     "input": [
      "\n",
      "\n",
      "import math\n",
      "\n",
      "# variables\n",
      "do = .0508\n",
      "Uz = .8467                 # cyclohexane\n",
      "aveP = 774.9               # the density of cyclohexane\n",
      "u = 8.892*10**-4           # the viscosity\n",
      "aveF = .00570\n",
      "\n",
      "# Calculation\n",
      "Nre = do*Uz*aveP/u\n",
      "rw = (1./2)*aveP*(Uz**2)*aveF\n",
      "U = math.sqrt(rw/aveP)\n",
      "\n",
      "# for y = .001\n",
      "y001 = (2.54*10**-5)*U*aveP/u\n",
      "\n",
      "\n",
      "# Results\n",
      "print \"Nre = %.2e \"%Nre\n",
      "print \"The wall shear stress rw = %.3f N m**-2\"%rw\n",
      "print \"The friction velocity U* = %.5f m s*-1\"%U\n",
      "print \"Universal velocity Distribution :\" \n",
      "print \"for y = 0.001 = %d \"%y001\n"
     ],
     "language": "python",
     "metadata": {},
     "outputs": [
      {
       "output_type": "stream",
       "stream": "stdout",
       "text": [
        "Nre = 3.75e+04 \n",
        "The wall shear stress rw = 1.583 N m**-2\n",
        "The friction velocity U* = 0.04520 m s*-1\n",
        "Universal velocity Distribution :\n",
        "for y = 0.001 = 1 \n"
       ]
      }
     ],
     "prompt_number": 20
    },
    {
     "cell_type": "heading",
     "level": 3,
     "metadata": {},
     "source": [
      "Example 6.8 Pageno :250"
     ]
    },
    {
     "cell_type": "code",
     "collapsed": false,
     "input": [
      "\n",
      "import math\n",
      "\n",
      "# variables\n",
      "Cp = 4184.           # lg-K-=4184Jkg-K-*\n",
      "P = 1000.            # g cm**-3\n",
      "k = 0.628            # wm**-1\n",
      "Nre = 1.2*10**5\n",
      "v = 1*10**-6\n",
      "do = 2*0.05\n",
      "\n",
      "# calculation\n",
      "alpha = k/(P*Cp)\n",
      "qa = (1.7*10**4)/(P*Cp)\n",
      "Uz = Nre*v/(do)\n",
      "U = Uz*math.sqrt(.0045/2)\n",
      "y = (5*v)/U\n",
      "\n",
      "# Results\n",
      "print \"A = %.3e m**2s**-2\"%alpha\n",
      "print \"The average velocity = %.2f m s**-1\"%Uz\n",
      "print \"U* = %.5f m s**-1\"%U\n",
      "print \"the value of y = %.3e cm\"%y\n"
     ],
     "language": "python",
     "metadata": {},
     "outputs": [
      {
       "output_type": "stream",
       "stream": "stdout",
       "text": [
        "A = 1.501e-07 m**2s**-2\n",
        "The average velocity = 1.20 m s**-1\n",
        "U* = 0.05692 m s**-1\n",
        "the value of y = 8.784e-05 cm\n"
       ]
      }
     ],
     "prompt_number": 33
    },
    {
     "cell_type": "heading",
     "level": 3,
     "metadata": {},
     "source": [
      "Example 6.9 - Page No :258\n"
     ]
    },
    {
     "cell_type": "code",
     "collapsed": false,
     "input": [
      "\n",
      "# Variables\n",
      "p = 0.84*62.4;  \t\t\t #[lbf/ft**3] - density\n",
      "dP = 80.*144;  \t\t\t #[lbf/ft**2] - pressure\n",
      "dz = 2000.;  \t\t\t #[ft] - length of pipe\n",
      "gc = 32.174;  \t\t\t #[(lbm*ft)/(lbf*sec**2)] - gravitational conversion consmath.tant\n",
      "dpbydz = -dP/dz;\n",
      "do = 2.067/12;  \t\t\t #[ft]\n",
      "\n",
      "# Calculations\n",
      "U = 2000*(1./24)*(1./3600)*(42)*(1./7.48)*(1./0.02330);\n",
      "# using the formula f = ((do/2)*(-dp/dz)*gc)/(p*(U)**2)\n",
      "f = ((do/2)*(-dpbydz)*gc)/(p*(U)**2)\n",
      "\n",
      "# Results\n",
      "print \"f = %.5f (dimensionless)\"%f\n",
      "\n"
     ],
     "language": "python",
     "metadata": {},
     "outputs": [
      {
       "output_type": "stream",
       "stream": "stdout",
       "text": [
        "f = 0.00979 (dimensionless)\n"
       ]
      }
     ],
     "prompt_number": 19
    }
   ],
   "metadata": {}
  }
 ]
}