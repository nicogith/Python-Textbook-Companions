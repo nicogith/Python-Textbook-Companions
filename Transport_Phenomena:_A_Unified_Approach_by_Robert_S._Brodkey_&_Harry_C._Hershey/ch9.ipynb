{
 "metadata": {
  "name": ""
 },
 "nbformat": 3,
 "nbformat_minor": 0,
 "worksheets": [
  {
   "cells": [
    {
     "cell_type": "heading",
     "level": 1,
     "metadata": {},
     "source": [
      "Chapter 9 : Agitation"
     ]
    },
    {
     "cell_type": "heading",
     "level": 3,
     "metadata": {},
     "source": [
      "Example 9.3 - Page No :389\n"
     ]
    },
    {
     "cell_type": "code",
     "collapsed": false,
     "input": [
      "\n",
      "import math\n",
      "\n",
      "# Variables\n",
      "Nblades = 4.;  \t\t\t # no. of blades\n",
      "d = 9/12.;  \t\t\t #[ft] - diameter of the impeller\n",
      "dt = 30/12.;  \t\t\t #[ft] - diameter of the math.tank\n",
      "Nbaffles = 4.  \t\t\t #  no. of baffles\n",
      "h = 30.;  \t    \t\t # [inch]  - height of unit\n",
      "mu = 10.;    \t\t\t #[cP] - vismath.cosity of fluid_\n",
      "sg = 1.1;  \t\t    \t # specific gravity of fluid_\n",
      "s = 300.      \t\t\t #[rpm] - speed of agitator\n",
      "CbyT = 0.3;  \n",
      "\n",
      "# Calculations\n",
      "V = (math.pi*dt**3)/4; \t #volume of math.tank in ft**3\n",
      "V1 = V*7.48;  \t\t\t #[gal] - volume of math.tank in gallons\n",
      "mu = mu*(6.72*10**-4);   #[lb/ft*sec]\n",
      "p = sg*62.4;  \t\t\t #[lb/ft**3] - density of fluid_\n",
      "N = s/60.;  \t\t\t #[rps] - impeller speed in revolutions per second\n",
      "Nre = ((d**2)*N*p)/mu;\n",
      "\n",
      "# Results\n",
      "print \"Nre = %.2e\"%Nre\n",
      "print \" Therefore the agitator operates in the turbulent region\"\n",
      "Npo = 1.62;\n",
      "gc = 32.174;\n",
      "P = (Npo*(p*(N**3)*(d**5)))/(gc*550);\n",
      "Cf = 63025.;\n",
      "Tq = (P/s)*Cf;\n",
      "PbyV = P/V;\n",
      "PbyV1 = P/V1;\n",
      "TqbyV = Tq/V;\n",
      "TqbyV1 = Tq/V1;\n",
      "print \" The power per unit volume and the torque per unit volume is  \\nP/V = %.2ef hp/ft**3 = %.2e \\\n",
      "hp/gal \\nTq/V = %.2f in*lb/ft**3 = %.3f in*lb/gal\"%(PbyV,PbyV1,TqbyV,TqbyV1);"
     ],
     "language": "python",
     "metadata": {},
     "outputs": [
      {
       "output_type": "stream",
       "stream": "stdout",
       "text": [
        "Nre = 2.87e+04\n",
        " Therefore the agitator operates in the turbulent region\n",
        " The power per unit volume and the torque per unit volume is  \n",
        "P/V = 1.52e-02f hp/ft**3 = 2.03e-03 hp/gal \n",
        "Tq/V = 3.19 in*lb/ft**3 = 0.427 in*lb/gal\n"
       ]
      }
     ],
     "prompt_number": 6
    },
    {
     "cell_type": "heading",
     "level": 3,
     "metadata": {},
     "source": [
      "Example 9.4 - Page No :391\n"
     ]
    },
    {
     "cell_type": "code",
     "collapsed": false,
     "input": [
      "\n",
      "# Variables\n",
      "Tpilot = 30.;\n",
      "Tlab = 10.;\n",
      "N1 = 690.;\n",
      "N2 = 271.;\n",
      "D2 = 3.;\n",
      "D1 = 1.;\n",
      "\n",
      "# Calculations\n",
      "n = (math.log(N1/N2))/(math.log(D2/D1));\n",
      "V = 12000/7.48;  \t\t\t #[ft**3]\n",
      "T = ((4.*V)/math.pi)**(1./3);  \t\t\t #[ft]\n",
      "R = 12.69/(30/12.);\n",
      "N3 = N2*(1./R)**n;  \t\t\t #[rpm] - impeller speed in the reactor\n",
      "\n",
      "# Results\n",
      "print \"impeller speed in rpm = %f\"%round(N3,4)\n",
      "D3 = 0.75*R;  \t\t\t #[ft] - reactor impeller diameter\n",
      "print \"reactor impeller diameter in ft = %.3f\"%D3\n",
      "P = 0.1374*((N3/N2)**3)*(R**5);\n",
      "print \"power in hp = %.3f\"%P\n",
      "Cf = 63025.;\n",
      "Tq = (P/N3)*Cf;  \t\t\t #[inch*lb]\n",
      "print \"torque in inch*lb = %.0f\"%Tq\n",
      "print \"At this point, the design is complete. \\nA sarc ard size impeller would be chosen as \\\n",
      " well as a tan ard size motor7.5 hp or 10 hp\"\n",
      "\n"
     ],
     "language": "python",
     "metadata": {},
     "outputs": [
      {
       "output_type": "stream",
       "stream": "stdout",
       "text": [
        "impeller speed in rpm = 68.044500\n",
        "reactor impeller diameter in ft = 3.807\n",
        "power in hp = 7.329\n",
        "torque in inch*lb = 6789\n",
        "At this point, the design is complete. \n",
        "A sarc ard size impeller would be chosen as  well as a tan ard size motor7.5 hp or 10 hp\n"
       ]
      }
     ],
     "prompt_number": 19
    },
    {
     "cell_type": "heading",
     "level": 3,
     "metadata": {},
     "source": [
      "Example 9.5 - Page No : 393\n"
     ]
    },
    {
     "cell_type": "code",
     "collapsed": false,
     "input": [
      "\n",
      "\n",
      "from numpy import *\n",
      "\n",
      "\n",
      "# Variables\n",
      "# given\n",
      "n = array([0.5, 0.6, 0.7, 0.8, 0.9, 1.0]);\n",
      "D2 = 3.806;\n",
      "D1 = 0.25;\n",
      "R = D2/D1;\n",
      "N1 = 690.;\n",
      "\n",
      "# Calculations\n",
      "N2 = N1*((D1/D2)**n);\n",
      "P1 = 9.33*10**-3;  \t\t\t #[hp]\n",
      "P2 = P1*R**(5.-3*n);\n",
      "\n",
      "# Results\n",
      "print \" n                   N,rpm         P,hp\"\n",
      "for i in range(6):\n",
      "    print \" %f            %4.0f         %4.0f\"%(n[i],N2[i],P2[i]);\n",
      "\n",
      "\n",
      "# Answers may be differ because of rounding error."
     ],
     "language": "python",
     "metadata": {},
     "outputs": [
      {
       "output_type": "stream",
       "stream": "stdout",
       "text": [
        " n                   N,rpm         P,hp\n",
        " 0.500000             177          128\n",
        " 0.600000             135           57\n",
        " 0.700000             103           25\n",
        " 0.800000              78           11\n",
        " 0.900000              60            5\n",
        " 1.000000              45            2\n"
       ]
      }
     ],
     "prompt_number": 29
    }
   ],
   "metadata": {}
  }
 ]
}