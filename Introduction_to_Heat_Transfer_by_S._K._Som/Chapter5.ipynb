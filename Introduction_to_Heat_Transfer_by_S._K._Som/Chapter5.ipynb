{
 "cells": [
  {
   "cell_type": "markdown",
   "metadata": {
    "collapsed": true
   },
   "source": [
    "# Chapter 5:Convection"
   ]
  },
  {
   "cell_type": "markdown",
   "metadata": {},
   "source": [
    "## Ex5.3:pg-206"
   ]
  },
  {
   "cell_type": "code",
   "execution_count": 1,
   "metadata": {
    "collapsed": false
   },
   "outputs": [
    {
     "name": "stdout",
     "output_type": "stream",
     "text": [
      "Introduction to heat transfer by S.K.Som, Chapter 5, Example 3\n",
      "Reynolds number is\n",
      "ReL= 55263.1578947\n",
      "The average heat transfer coefficient over a length(L)= 1m ,in W/m**2 is\n",
      "hbarL= 4.16\n",
      "The rate of heat transfer in W/m of width is\n",
      "Q= 332.8\n"
     ]
    }
   ],
   "source": [
    " \n",
    "import math \n",
    "from scipy.integrate import quad\n",
    " \n",
    "print\"Introduction to heat transfer by S.K.Som, Chapter 5, Example 3\"\n",
    "#Air at temprature (T1=20Â°C) and 1 atmospheric pressure flows over a flat plate with a free stream velocity(Uinf) of 1m/s.\n",
    "Uinf=1;\n",
    "T1=20;\n",
    "#The length of plate is 1m and is heated over its entire length to a constant temprature of T2=100Â°C.\n",
    "T2=100;\n",
    "#For air at 20Â°C(The mean temprature of 100Â°C and 20Â°C),viscosity(mu=1.9*10**-5kg/(m*s)),density(rho=1.05kg/m**3),conductivity(k=0.03W/(m*K)),specific heat(cp=1.007kJ/(kg*K))\n",
    "#Prandtl number is Pr=0.7\n",
    "mu=1.9*10**-5;\n",
    "rho=1.05;\n",
    "k=0.03;\n",
    "cp=1.007;\n",
    "Pr=0.7;\n",
    "#For laminar flow over a plate Nusselt number is Nux=0.332*Rex**0.5*Pr**(1/3)\n",
    "#The boundary layer flow over a flat plate will be laminar if Reynolds number is Rex=(rho*Uinf*x)/mu<5*10**5\n",
    "#First of all we have to check whether the flow is laminar or not.\n",
    "#Let us check at x=1m\n",
    "x=1.0;\n",
    "print\"Reynolds number is\"\n",
    "ReL=(rho*Uinf*x)/mu\n",
    "print\"ReL=\",ReL\n",
    "#There fore the flow is laminar and we can use the relationships of Nux,\n",
    "#Thus Rex=(1.05*1*x)/(1.9*10**-5)=0.5526*10**5*x\n",
    "#Therefore we can write Nux=(hx*x/k)=0.332*(0.5526*10**5*x)**0.5*Pr**(1/3)....or hx=2.08*x**(-1/2) W/(m**2*Â°C)\n",
    "#hbarL is the average heat transfer coefficient over a length(L)\n",
    "print\"The average heat transfer coefficient over a length(L)= 1m ,in W/m**2 is\"\n",
    "L=1;\n",
    "hbarL=(1.0/L)*quad(lambda x:2.08*x**(-1/2.0),0,L)[0]\n",
    "print\"hbarL=\",hbarL\n",
    "#Q is the rate of heat transfer\n",
    "print\"The rate of heat transfer in W/m of width is\"\n",
    "Q=hbarL*L*(T2-T1)\n",
    "print\"Q=\",Q\n",
    "\n",
    "\n",
    "\n",
    "\n",
    "\n",
    "\n",
    "\n",
    "\n",
    "\n",
    "\n",
    "\n",
    "\n",
    "\n",
    "\n",
    "\n",
    "\n"
   ]
  },
  {
   "cell_type": "markdown",
   "metadata": {},
   "source": [
    "## Ex5.4:pg-207"
   ]
  },
  {
   "cell_type": "code",
   "execution_count": 2,
   "metadata": {
    "collapsed": false
   },
   "outputs": [
    {
     "name": "stdout",
     "output_type": "stream",
     "text": [
      "Introduction to heat transfer by S.K.Som, Chapter 5, Example 4\n",
      "The local heat transfer coefficient hx is hx=27.063*U**0.85\n",
      "The minimum flow velocity in m/s is\n",
      "U= 15.4806813943\n"
     ]
    }
   ],
   "source": [
    " \n",
    "import math\n",
    " \n",
    "print\"Introduction to heat transfer by S.K.Som, Chapter 5, Example 4\"\n",
    "#Air at atmospheric pressure is required to flow over a circuit board to cool the electronics element mounted on it.\n",
    "#Chip has length (L)=3mm and width(B)=3mm located x=0.1m from the leading edge\n",
    "L=0.003;#in metre\n",
    "B=0.003;#in metre\n",
    "x=0.1;\n",
    "#The Nusselt no. is given by Nux=0.06*Rex**0.85*Pr**0.33\n",
    "#The chip has to dissipate E=50mW of energy while its surface temprature has to be kept below temprature,Ts=45Â°C and free strem Temptrature of air is Tinf=25Â°C\n",
    "Ts=45;\n",
    "Tinf=25;\n",
    "E=50*10**-3;#in watt\n",
    "#For air ,density(rho=1.2kg/m**3),viscosity(mu=1.8*10**5kg/(m*s)),conductivity(k=0.03W/(m*K)) and specific heat(cp=1000J/(kg*K))\n",
    "rho=1.2;\n",
    "mu=1.8*10**5;\n",
    "k=0.03;\n",
    "cp=1000;\n",
    "#Let the minimum flow velocity be U.\n",
    "#The local heat transfer coefficient hx where the chip is mounted is determined as hx=(k/x)*0.06*(rho*U*x/mu)**0.85*(mu*cp/k)**0.33\n",
    "print\"The local heat transfer coefficient hx is hx=27.063*U**0.85\"\n",
    "#from an enrgy balance we can write as E=27.063*U**0.85*L*B*(Ts-Tinf)\n",
    "print\"The minimum flow velocity in m/s is\"\n",
    "U=(E/(27.063*L*B*(Ts-Tinf)))**(1/0.85)\n",
    "print\"U=\",U\n",
    "\n",
    "\n",
    "\n",
    "\n",
    "\n",
    "\n",
    "\n",
    "\n",
    "\n",
    "\n",
    "\n"
   ]
  },
  {
   "cell_type": "markdown",
   "metadata": {},
   "source": [
    "## Ex5.6:pg-208"
   ]
  },
  {
   "cell_type": "code",
   "execution_count": 3,
   "metadata": {
    "collapsed": false
   },
   "outputs": [
    {
     "name": "stdout",
     "output_type": "stream",
     "text": [
      "Introduction to heat transfer by S.K.Som, Chapter 5, Example 6\n",
      "mdot= 0.0235619449019\n",
      "(dTb/dx)in Â°C/m is\n",
      "Y= 26.6666666667\n",
      "Therefore Exit bulk mean temprature Tb2 in Â°C is\n",
      "Tb2= 83.3333333333\n",
      "Heat flux(hx) in W/(m**2*Â°C) is \n",
      "hx= 100\n",
      "Overall Nusselt number is \n",
      "NuL= 87.7192982456\n"
     ]
    }
   ],
   "source": [
    " \n",
    "import math\n",
    " \n",
    " \n",
    "print\"Introduction to heat transfer by S.K.Som, Chapter 5, Example 6\"\n",
    "#Air at 1atm pressure and temprature(Tin)=30Â°C enters a tube of 25mm diameter(D) with a velocity(U) of 10m/s\n",
    "D=0.025;#in metre\n",
    "U=10;\n",
    "Tin=30;\n",
    "#Tube is heated so that a constant heat flux(q) of 2kW/m**2 is maintained at the wall whose temprature is deltaT=20Â°C above the bulk mean air temprature through the length of tube \n",
    "#Let Tw-Tb=T\n",
    "q=2000;\n",
    "deltaT=20;\n",
    "#The length(L)= 2m\n",
    "L=2;\n",
    "#For air density(rho=1.2kg/m**3),specific heat(cp=1000J/(kg*K))\n",
    "rho=1.2;\n",
    "cp=1000;\n",
    "#From an energy balance of a control volume of air we get mdot*cp*(Tb+(dTb/dx)*deltax-Tb)=q*pi*D*deltax or (dTb/dx)=(q*pi*D)/(mdot*cp)\n",
    "#mass flow rate=mdot\n",
    "mdot=rho*math.pi*D**2*U;\n",
    "print\"mdot=\",mdot\n",
    "#let (dTb/dx)=Y\n",
    "print\"(dTb/dx)in Â°C/m is\"\n",
    "Y=(4*q*math.pi*D)/(mdot*cp)\n",
    "print\"Y=\",Y\n",
    "#Tb2 is Exit bulk mean temprature\n",
    "print\"Therefore Exit bulk mean temprature Tb2 in Â°C is\"\n",
    "Tb2=Tin+Y*2\n",
    "print\"Tb2=\",Tb2\n",
    "#Again we can write at any section of the tube hx*(Tw-Tb)=q or hx=q/(Tw-Tb)\n",
    "#hx is heat flux\n",
    "print\"Heat flux(hx) in W/(m**2*Â°C) is \"\n",
    "hx=q/(deltaT)\n",
    "print\"hx=\",hx\n",
    "#Since Tw-Tb remains the same,The heat transfer coefficient at all sections are the same\n",
    "#Now Overall Nusselt number,NuL=hx*D/k\n",
    "#The thermal conductivity of air at mean temprature of (30+83.4)/2=56.7Â°C is k=0.0285 W/(m*K)\n",
    "k=0.0285;\n",
    "print\"Overall Nusselt number is \"\n",
    "NuL=hx*D/k\n",
    "print\"NuL=\",NuL\n",
    "\n",
    "\n",
    "\n",
    "\n",
    "\n",
    "\n",
    "\n",
    "\n",
    "\n",
    "\n",
    "\n",
    "\n",
    "\n",
    "\n",
    "\n",
    "\n",
    "\n",
    "\n"
   ]
  },
  {
   "cell_type": "markdown",
   "metadata": {},
   "source": [
    "## Ex5.7:pg-210"
   ]
  },
  {
   "cell_type": "code",
   "execution_count": 4,
   "metadata": {
    "collapsed": false
   },
   "outputs": [
    {
     "name": "stdout",
     "output_type": "stream",
     "text": [
      "Introduction to heat transfer by S.K.Som, Chapter 5, Example 7\n",
      "Beta(The volumetric coefficient of expansion in K**-1 is\n",
      "Beta= 0\n",
      "Grashoff number is\n",
      "Gr= 0.0\n",
      "The average nusselt number is\n",
      "NuHbar= 0.13\n",
      "Heat flux hbar in W/(m**2*Â°C)\n",
      "hbar= 0.00169\n",
      "The heat loss from the plate in W is\n",
      "Q= 0.4394\n"
     ]
    }
   ],
   "source": [
    " \n",
    "import math\n",
    " \n",
    "print\"Introduction to heat transfer by S.K.Som, Chapter 5, Example 7\"\n",
    "#A wall is exposed to nitrogen at one atmospheric pressure and temprature,Tinf=4Â°C.\n",
    "Tinf=4;\n",
    "#The wall is H=2.0m high and B=2.5m wide and is maintained at temprature,Ts=56Â°C\n",
    "Ts=56;\n",
    "H=2;\n",
    "B=2.5;\n",
    "A=H*B;#area is(A)\n",
    "#The average nusselt number NuHbar over the height of the plate is given by NuHbar=0.13*(Gr*Pr)**(1/3)\n",
    "#The properties of nitrogen at mean film temprature(Tf) is (56+4)/2=30Â°C are given as density(rho=1.142kg/m**3) ,conductivity(k=0.026W/(m*K)),\n",
    "#kinematic viscosity(nu=15.630*10**-6 m**2/s) ,Prandtl number(Pr=0.713)\n",
    "rho=1.142;\n",
    "k=0.026;\n",
    "nu=15.630*10**-6;\n",
    "Pr=0.713;\n",
    "Tf=30;\n",
    "#We first have to detrmine the value of Grashoff number,Gr.In consideration of nitrogen as an ideal gas,we can write\n",
    "#Beta(The volumetric coefficient of expansion)=1/T\n",
    "print\"Beta(The volumetric coefficient of expansion in K**-1 is\"\n",
    "Beta=1/(273+Tf)\n",
    "print\"Beta=\",Beta\n",
    "#Now Gr=(g*Beta*(Ts-Tinf)*H**3)/nu**2\n",
    "g=9.81;#acceleration due to gravity\n",
    "print\"Grashoff number is\"\n",
    "Gr=(g*Beta*(Ts-Tinf)*H**3)/nu**2\n",
    "print\"Gr=\",Gr\n",
    "print\"The average nusselt number is\"\n",
    "NuHbar=0.13*(Gr*Pr)**(1/3)\n",
    "print\"NuHbar=\",NuHbar\n",
    "#hbar is the heat flux\n",
    "print\"Heat flux hbar in W/(m**2*Â°C)\"\n",
    "hbar=NuHbar*k/H\n",
    "print\"hbar=\",hbar\n",
    "#Q is the heat loss from the plate\n",
    "print\"The heat loss from the plate in W is\"\n",
    "Q=hbar*A*(Ts-Tinf)\n",
    "print\"Q=\",Q\n",
    "\n",
    "\n",
    "\n",
    "\n",
    "\n",
    "\n",
    "\n",
    "\n",
    "\n",
    "\n",
    "\n",
    "\n",
    "\n",
    "\n"
   ]
  },
  {
   "cell_type": "markdown",
   "metadata": {},
   "source": [
    "## Ex5.8:pg-211"
   ]
  },
  {
   "cell_type": "code",
   "execution_count": 1,
   "metadata": {
    "collapsed": false
   },
   "outputs": [
    {
     "name": "stdout",
     "output_type": "stream",
     "text": [
      "Introduction to heat transfer by S.K.Som, Chapter 5, Example 8\n",
      "The heat flux in W/(m**2*K) is\n",
      "hbar 120.0\n",
      "The heat loss from the wire is Q=hbar*pi*D*L*(Twire-Tair) in Watt\n",
      "Q= 1.88495559215\n",
      "The current in Ampere is\n",
      "I= 17.7245385091\n"
     ]
    }
   ],
   "source": [
    " \n",
    "import math\n",
    " \n",
    "print\"Introduction to heat transfer by S.K.Som, Chapter 5, Example 8\"\n",
    "#Eletric current passes through a L=0.5m long horizontal wire of D=0.1mm diameter.\n",
    "L=0.5;\n",
    "D=0.1*10**-3;\n",
    "#The wire is to be maintained at temprature,Twire=400K and the air is at temprature,Tair=300K.\n",
    "Twire=400;\n",
    "Tair=300;\n",
    "#The resistance of the wire(R) is 0.012ohm per meter.Nusselt number(NuL) over the length of wire to be 0.4.\n",
    "NuL=0.4;\n",
    "R=0.012;\n",
    "#At mean temprature of Tf=350K, The thermal conductivity of air is k=0.03W/(m*K)\n",
    "k=0.03;\n",
    "#Nusselt number is NuL=hbar*D/k\n",
    "#hbar is the heat flux\n",
    "print\"The heat flux in W/(m**2*K) is\"\n",
    "hbar=NuL*k/D\n",
    "print\"hbar\",hbar\n",
    "#Q is the heat loss from the wire\n",
    "print\"The heat loss from the wire is Q=hbar*pi*D*L*(Twire-Tair) in Watt\"\n",
    "Q=hbar*math.pi*D*L*(Twire-Tair)\n",
    "print\"Q=\",Q\n",
    "#At steady state the ohmic loss in the wire equals the heat loss from its surface Therfore I**2*R=Q\n",
    "#I is the current flow.\n",
    "print\"The current in Ampere is\"\n",
    "I=(Q/(R*L))**0.5\n",
    "print\"I=\",I\n",
    "\n",
    "\n",
    "\n",
    "\n",
    "\n",
    "\n",
    "\n",
    "\n",
    "\n",
    "\n",
    "\n",
    "\n",
    "\n",
    "\n",
    "\n",
    "\n",
    "\n",
    "\n",
    "\n",
    "\n",
    "\n"
   ]
  }
 ],
 "metadata": {
  "kernelspec": {
   "display_name": "Python 2",
   "language": "python",
   "name": "python2"
  },
  "language_info": {
   "codemirror_mode": {
    "name": "ipython",
    "version": 2
   },
   "file_extension": ".py",
   "mimetype": "text/x-python",
   "name": "python",
   "nbconvert_exporter": "python",
   "pygments_lexer": "ipython2",
   "version": "2.7.11"
  }
 },
 "nbformat": 4,
 "nbformat_minor": 0
}
