{
 "metadata": {
  "name": ""
 },
 "nbformat": 3,
 "nbformat_minor": 0,
 "worksheets": [
  {
   "cells": [
    {
     "cell_type": "heading",
     "level": 1,
     "metadata": {},
     "source": [
      "Chapter 7: Lasers and Holography"
     ]
    },
    {
     "cell_type": "heading",
     "level": 2,
     "metadata": {},
     "source": [
      "Example 7.1, Page 410"
     ]
    },
    {
     "cell_type": "code",
     "collapsed": false,
     "input": [
      "#Variable declaration\n",
      "e = 1.6e-019;  # Charge on an electron, eV \n",
      "h = 6.62e-034;  # Planck's constant, J-s\n",
      "c = 3e+008;  # Speed of light in vacuum, m/s\n",
      "n = 2.8e+019;  # Number of photons in laser pulse\n",
      "lamda = 7e-007;  # Wavelength of the radiation emited by the laser, m\n",
      "\n",
      "#Calculations\n",
      "E = (h*c)/(lamda*e);  # Energy of the photon in the laser light, eV\n",
      "del_E = E*n;  # The energy of laser pulse having n photons, eV\n",
      "\n",
      "#Result\n",
      "print \"The energy of the laser pulse = %4.2e eV\"%del_E\n"
     ],
     "language": "python",
     "metadata": {},
     "outputs": [
      {
       "output_type": "stream",
       "stream": "stdout",
       "text": [
        "The energy of the laser pulse = 4.97e+19 eV\n"
       ]
      }
     ],
     "prompt_number": 2
    },
    {
     "cell_type": "heading",
     "level": 2,
     "metadata": {},
     "source": [
      "Example 7.2, Page 411"
     ]
    },
    {
     "cell_type": "code",
     "collapsed": false,
     "input": [
      "from math import *\n",
      "\n",
      "#Variable declaration\n",
      "c = 3.0e8;        #velocity of light, m/s\n",
      "tc = 0.5e-9     #time duration of pulses(s)\n",
      "lamda = 6.5e-7  #wavelength, m\n",
      "\n",
      "\n",
      "#Calculations&Results\n",
      "Lc = c*tc;    # coherence length, m\n",
      "print \"The coherence length is %.2f m\"%Lc\n",
      "del_v = 1/tc\n",
      "print \"Resultant bandwidth = %.e Hz\"%del_v\n",
      "del_lamda = (lamda**2*del_v)/c\n",
      "print \"Line width = %.2e m\"%(del_lamda)\n"
     ],
     "language": "python",
     "metadata": {},
     "outputs": [
      {
       "output_type": "stream",
       "stream": "stdout",
       "text": [
        "The coherence length is 0.15 m\n",
        "Resultant bandwidth = 2e+09 Hz\n",
        "Line width = 2.82e-12 m\n"
       ]
      }
     ],
     "prompt_number": 22
    },
    {
     "cell_type": "heading",
     "level": 2,
     "metadata": {},
     "source": [
      "Example 7.3, Page 411"
     ]
    },
    {
     "cell_type": "code",
     "collapsed": false,
     "input": [
      "from math import *\n",
      "\n",
      "#Variable declaration\n",
      "a = 4e-003;  # Coherence width of laser source, m\n",
      "lamda = 6e-007;  # Wavelength of the pulse, m\n",
      "D = 100;  # Distance of the surface from laser source, m\n",
      "\n",
      "#Calculations&Results\n",
      "A = 2*lamda/a;    # Angular spread of laser beam, radian\n",
      "print \"The angular spread = %1.0e radian\"%A\n",
      "theta = A/2;    # Semi angle, radian\n",
      "A_s = pi*(D*theta)**2;  # Areal spread of laser beam, Sq.m\n",
      "print \"The areal spread = %1.0e Sq.m\"%A_s\n"
     ],
     "language": "python",
     "metadata": {},
     "outputs": [
      {
       "output_type": "stream",
       "stream": "stdout",
       "text": [
        "The angular spread = 3e-04 radian\n",
        "The areal spread = 7e-04 Sq.m\n"
       ]
      }
     ],
     "prompt_number": 24
    }
   ],
   "metadata": {}
  }
 ]
}