{
 "metadata": {
  "name": ""
 },
 "nbformat": 3,
 "nbformat_minor": 0,
 "worksheets": [
  {
   "cells": [
    {
     "cell_type": "heading",
     "level": 1,
     "metadata": {},
     "source": [
      "Chapter 10: Electrostatics"
     ]
    },
    {
     "cell_type": "heading",
     "level": 2,
     "metadata": {},
     "source": [
      "Example 10.1, Page 507"
     ]
    },
    {
     "cell_type": "code",
     "collapsed": false,
     "input": [
      "#Variable Declaration\n",
      "m = 4e-013;  # Mass of the particle, kg\n",
      "q = 2.4e-019;  # Charge on particle, C\n",
      "d = 2e-002;  # Distance between the two horizontally charged plates, m\n",
      "g = 9.8;  #`Acceleration due to gravity, m/sec-square\n",
      "\n",
      "#Calculations\n",
      "E = (m*g)/q ;  # Electric field strength, N/C\n",
      "V = E*d;     # Potential difference between the two charged horizontal plates, V\n",
      "\n",
      "#Result\n",
      "print \"The potential difference between the two horizontally charged plates = %3.1e V\"%V\n",
      "#Incorrect answer in textbook"
     ],
     "language": "python",
     "metadata": {},
     "outputs": [
      {
       "output_type": "stream",
       "stream": "stdout",
       "text": [
        "The potential difference between the two horizontally charged plates = 3.3e+05 V\n"
       ]
      }
     ],
     "prompt_number": 9
    },
    {
     "cell_type": "heading",
     "level": 2,
     "metadata": {},
     "source": [
      "Example 10.2, Page 507"
     ]
    },
    {
     "cell_type": "code",
     "collapsed": false,
     "input": [
      "from math import *\n",
      "\n",
      "#Variable Declaration\n",
      "q1 = 1e-009;    # Charge at first corner, C\n",
      "q2 = 2e-009;    # Charge at second corner, C\n",
      "q3 = 3e-009;    # Charge at third corner, C\n",
      "d = 1.;  # Side of the equilateral triangle, m\n",
      "theta = 30;  # Angle at which line joining the observation point to the source charge makes with the side, degrees\n",
      "\n",
      "#Calculations\n",
      "r = (d/2)/cos(theta*pi/180);  # Distance of observation point from the charges, m\n",
      "#since,1/4*%pi*%eps = 9e+009;\n",
      "V = (q1+q2+q3)*(9e+009)/r;  # Elecric potential, V\n",
      "\n",
      "#Result\n",
      "print \"The electric potential at the point equidistant from the three corners of the triangle = %4.1f V\"%V\n"
     ],
     "language": "python",
     "metadata": {},
     "outputs": [
      {
       "output_type": "stream",
       "stream": "stdout",
       "text": [
        "The electric potential at the point equidistant from the three corners of the triangle = 93.5 V\n"
       ]
      }
     ],
     "prompt_number": 10
    },
    {
     "cell_type": "heading",
     "level": 2,
     "metadata": {},
     "source": [
      "Example 10.3, Page 508"
     ]
    },
    {
     "cell_type": "code",
     "collapsed": false,
     "input": [
      "from math import *\n",
      "\n",
      "#Variable Declaration\n",
      "q = 2e-008;    \n",
      "q1 = q;        # Charge at first corner, C\n",
      "q2 = -2*q;     # Charge at second corner, C\n",
      "q3 = 3*q;      # Charge at third corner, C\n",
      "q4 = 2*q;      # Charge at fourth corner, C\n",
      "d = 1;      # Side of the square, m\n",
      "\n",
      "#Calculations\n",
      "r = round(d*sin(45*pi/180),2);  # Distance of centre of the square from each corner, m\n",
      "V = (q1+q2+q3+q4)*(9e+009)/r;  # Elecric potential at the centre of the square, V \n",
      "\n",
      "#Result\n",
      "print \"The electric potential at the centre of the square = %4d V\"%V\n"
     ],
     "language": "python",
     "metadata": {},
     "outputs": [
      {
       "output_type": "stream",
       "stream": "stdout",
       "text": [
        "The electric potential at the centre of the square = 1014 V\n"
       ]
      }
     ],
     "prompt_number": 17
    },
    {
     "cell_type": "heading",
     "level": 2,
     "metadata": {},
     "source": [
      "Example 10.6, Page 511"
     ]
    },
    {
     "cell_type": "code",
     "collapsed": false,
     "input": [
      "#Variable Declaration\n",
      "V = 60;  # Electric potential of smaller drop, volt\n",
      "r = 1;  # For simplcity assume radius of each small drop to be unity, unit\n",
      "q = 1;  # For simplicity assume charge on smaller drop to be unity, C\n",
      "k = 1;  # For simplicity assume Coulomb's constant to be unity, unit\n",
      "\n",
      "#Calculations\n",
      "R = 2**(1./3)*r;    # Radius of bigger drop, unit\n",
      "Q = 2*q;  # Charge on bigger drop, C\n",
      "V_prime = k*Q/R*V;  # Electric potential of bigger drop, volt\n",
      "\n",
      "#Result\n",
      "print \"The electric potential of new drop = %4.1f V\"%V_prime\n",
      "#Incorrect answer in the textbook"
     ],
     "language": "python",
     "metadata": {},
     "outputs": [
      {
       "output_type": "stream",
       "stream": "stdout",
       "text": [
        "The electric potential of new drop = 95.2 V\n"
       ]
      }
     ],
     "prompt_number": 19
    },
    {
     "cell_type": "heading",
     "level": 2,
     "metadata": {},
     "source": [
      "Example 10.7, Page 512"
     ]
    },
    {
     "cell_type": "code",
     "collapsed": false,
     "input": [
      "#Variable Declaration\n",
      "m = 9.1e-031;  # Mass of the electron, kg\n",
      "e = 1.6e-019;  # Charge on an electron, C\n",
      "g = 9.8;       # Acceleration due to gravity, m/sec-square\n",
      "\n",
      "#Calculations\n",
      "# Electric force, F = e*E, where F = m*g or e*E = m*g\n",
      "E = m*g/e;    # Electric field which would balance the weight of an electron placed in it, N/C\n",
      "\n",
      "#Result\n",
      "print \"The required electric field strength = %3.1e N/C\"%E\n"
     ],
     "language": "python",
     "metadata": {},
     "outputs": [
      {
       "output_type": "stream",
       "stream": "stdout",
       "text": [
        "The required electric field strength = 5.6e-11 N/C\n"
       ]
      }
     ],
     "prompt_number": 20
    },
    {
     "cell_type": "heading",
     "level": 2,
     "metadata": {},
     "source": [
      "Example 10.8, Page 512"
     ]
    },
    {
     "cell_type": "code",
     "collapsed": false,
     "input": [
      "#Variable Declaration\n",
      "q1 = 8e-007;  # First Charge, C\n",
      "q2 = -8e-007;  # Second Charge, C\n",
      "r = 15e-002;  # Distance between the two charges, m\n",
      "k = 9e+009; # Coulomb's constant, N-metre-square/coulomb-square\n",
      "\n",
      "#Calculations&#Results\n",
      "E1 = k*q1/r**2;  # Electric field strength due to charge 8e-007 C\n",
      "print \"The electric field strength at midpoint = %3.1e N/C\"%E1\n",
      "E2 = abs(k*q2/r**2);  # Electric field strength -8e-007 C \n",
      "print \"The electric field strength at midpoint = %3.1e N/C\"%E2\n",
      "# Total electric field strength at the mid-point is\n",
      "E = E1+E2;      # Net electric field at mid point, N/C\n",
      "print \"The net electric field strength at midpoint = %3.1e N/C\"%E\n"
     ],
     "language": "python",
     "metadata": {},
     "outputs": [
      {
       "output_type": "stream",
       "stream": "stdout",
       "text": [
        "The electric field strength at midpoint = 3.2e+05 N/C\n",
        "The electric field strength at midpoint = 3.2e+05 N/C\n",
        "The net electric field strength at midpoint = 6.4e+05 N/C\n"
       ]
      }
     ],
     "prompt_number": 21
    }
   ],
   "metadata": {}
  }
 ]
}