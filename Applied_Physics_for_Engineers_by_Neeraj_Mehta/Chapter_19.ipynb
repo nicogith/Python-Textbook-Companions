{
 "metadata": {
  "name": ""
 },
 "nbformat": 3,
 "nbformat_minor": 0,
 "worksheets": [
  {
   "cells": [
    {
     "cell_type": "heading",
     "level": 1,
     "metadata": {},
     "source": [
      "Chapter 19: Superconductivity"
     ]
    },
    {
     "cell_type": "heading",
     "level": 2,
     "metadata": {},
     "source": [
      "Example 19.1, Page 959"
     ]
    },
    {
     "cell_type": "code",
     "collapsed": false,
     "input": [
      "#Variable declaration\n",
      "T_c = 6.2;    # Critical temperature of lead in superconducting state, K\n",
      "T = 4;        # Temperature at which critical field of lead is to be found out, K\n",
      "H_c0 = 0.064;    # Critical field for lead at 0 K, MA/m\n",
      "\n",
      "#Calculation\n",
      "H_cT = H_c0*(1-(T/T_c)**2);    # Critical field for lead at 4 K, MA/m\n",
      "\n",
      "#Result\n",
      "print \"The critical field for lead at 4 K = %5.3f MA/m\"%H_cT\n"
     ],
     "language": "python",
     "metadata": {},
     "outputs": [
      {
       "output_type": "stream",
       "stream": "stdout",
       "text": [
        "The critical field for lead at 4 K = 0.037 MA/m\n"
       ]
      }
     ],
     "prompt_number": 1
    },
    {
     "cell_type": "heading",
     "level": 2,
     "metadata": {},
     "source": [
      "Example 19.2, Page 959"
     ]
    },
    {
     "cell_type": "code",
     "collapsed": false,
     "input": [
      "from math import *\n",
      "\n",
      "#Variable declaration\n",
      "T_c1 = 4.153;    # Critical temperature of mercury for its one isotope, K\n",
      "M1 = 200.59;    # Mass of first isotope of mercury, amu\n",
      "M2 = 204;       # Mass of second isotope of mercury, amu \n",
      "\n",
      "#Calculation \n",
      "# From isotopic effect of superconductivity,\n",
      "# T_c2/T_c1 = sqrt(M1/M2), solving for T_c2\n",
      "T_c2 = T_c1*sqrt(M1/M2);    # Critical temperature of mercury for second isotope, K\n",
      "\n",
      "#Result\n",
      "print \"The critical temperature of mercury for its isotope of mass 204 amu = %5.3f K\"%T_c2\n"
     ],
     "language": "python",
     "metadata": {},
     "outputs": [
      {
       "output_type": "stream",
       "stream": "stdout",
       "text": [
        "The critical temperature of mercury for its isotope of mass 204 amu = 4.118 K\n"
       ]
      }
     ],
     "prompt_number": 2
    },
    {
     "cell_type": "heading",
     "level": 2,
     "metadata": {},
     "source": [
      "Example 19.3, Page 960"
     ]
    },
    {
     "cell_type": "code",
     "collapsed": false,
     "input": [
      "#Variable declaration\n",
      "d = 1e-003;    # Diameter of aluminium wire, m\n",
      "r = d/2;       # Radius of aluminium wire, m\n",
      "H_c = 7.9e+003;    # Critical magnetic field for Al, A/m\n",
      "\n",
      "#Calculation\n",
      "I_c = 2*3.14*r*H_c;    # Critical current through superconducting aluminium wire, A\n",
      "\n",
      "#Result\n",
      "print \"The critical current through superconducting aluminium wire = %6.3f A\"%I_c\n"
     ],
     "language": "python",
     "metadata": {},
     "outputs": [
      {
       "output_type": "stream",
       "stream": "stdout",
       "text": [
        "The critical current through superconducting aluminium wire = 24.806 A\n"
       ]
      }
     ],
     "prompt_number": 3
    },
    {
     "cell_type": "heading",
     "level": 2,
     "metadata": {},
     "source": [
      "Example 19.4, Page 960"
     ]
    },
    {
     "cell_type": "code",
     "collapsed": false,
     "input": [
      "#Variable declaration\n",
      "T_c = 7.18;    # Critical temperature of lead in superconducting state, K\n",
      "H_c0 = 6.5e+004;    # Critical field for lead at 0 K, A/m\n",
      "# At T = 4.2 K\n",
      "T = 4.2;       # Temperature at which critical field of lead is to be found out, K\n",
      "H_cT = H_c0*(1-(T/T_c)**2);    # Critical field for lead at 4 K, A/m\n",
      "d = 1e-003;    # Diameter of lead wire, m\n",
      "r = d/2;       # Radius of lead wire, m\n",
      "I_c = 2*3.14*r*H_cT;    # Critical current through superconducting lead wire, A\n",
      "J_c = I_c/(3.14*r**2);    # Critical current density for superconducting lead wire, A/Sq. meter\n",
      "print \"The critical current density at %3.1f K = %5.3e A/Sq.m\"%(T, J_c)\n",
      "# At T = 7 K\n",
      "T = 7;       # Temperature at which critical field of lead is to be found out, K\n",
      "H_cT = H_c0*(1-(T/T_c)**2);    # Critical field for lead at 4 K, A/m\n",
      "d = 1e-003;    # Diameter of lead wire, m\n",
      "r = d/2;       # Radius of lead wire, m\n",
      "I_c = 2*3.14*r*H_cT;    # Critical current through superconducting lead wire, A\n",
      "J_c = I_c/(3.14*r**2);    # Critical current density for superconducting lead wire, A/Sq. meter\n",
      "print \"The critical current density at %3.1f K = %4.2e A/Sq.m\"%(T, J_c)\n"
     ],
     "language": "python",
     "metadata": {},
     "outputs": [
      {
       "output_type": "stream",
       "stream": "stdout",
       "text": [
        "The critical current density at 4.2 K = 1.710e+08 A/Sq.m\n",
        "The critical current density at 7.0 K = 1.29e+07 A/Sq.m\n"
       ]
      }
     ],
     "prompt_number": 4
    },
    {
     "cell_type": "heading",
     "level": 2,
     "metadata": {},
     "source": [
      "Example 19.5, Page 961"
     ]
    },
    {
     "cell_type": "code",
     "collapsed": false,
     "input": [
      "#Variable declaration\n",
      "T1 = 3;    # Initial temperature of lead wire, K\n",
      "T2 = 7.1;    # Final temperature of lead wire, K\n",
      "lambda1 = 39.6;    # Initial London penetration depth for lead, mm\n",
      "lambda2 = 173;    # Final London penetration depth for lead, mm\n",
      "\n",
      "#Calculations\n",
      "# As lambda_T = lambda_0*(1-(T/T_c)^4)^(-1/2) so\n",
      "# (lambda1/lambda2)^2 = (T_c^4 - T2^4)/(T_c^4 - T1^4)\n",
      "# Solving for T_c\n",
      "T_c = ((T2**4-T1**4*(lambda1/lambda2)**2)/(1-(lambda1/lambda2)**2))**(1./4);\n",
      "\n",
      "#Result\n",
      "print \"The critical temperature of lead = %5.3f K\"%T_c\n"
     ],
     "language": "python",
     "metadata": {},
     "outputs": [
      {
       "output_type": "stream",
       "stream": "stdout",
       "text": [
        "The critical temperature of lead = 7.193 K\n"
       ]
      }
     ],
     "prompt_number": 5
    },
    {
     "cell_type": "heading",
     "level": 2,
     "metadata": {},
     "source": [
      "Example 19.6, Page 962"
     ]
    },
    {
     "cell_type": "code",
     "collapsed": false,
     "input": [
      "#Variable declaration\n",
      "T_c = 7.2;    # Critical temperature of lead in superconducting state, K\n",
      "T = 5;        # Temperature at which lead loses its superconducting state, K\n",
      "H_cT = 3.3e+004;    # Critical magnetic field for superconducting lead at 5 K, A/m\n",
      "\n",
      "#Calculation\n",
      "# As H_cT = H_c0*(1-(T/T_c)^2), solving for H_c0\n",
      "H_c0 = H_cT/(1-(T/T_c)**2);    # Critical field for lead at 0 K, A/m \n",
      "\n",
      "#Result\n",
      "print \"The critical magnetic field for lead at 0 K = %4.2e A/m\"%H_c0\n"
     ],
     "language": "python",
     "metadata": {},
     "outputs": [
      {
       "output_type": "stream",
       "stream": "stdout",
       "text": [
        "The critical magnetic field for lead at 0 K = 6.37e+04 A/m\n"
       ]
      }
     ],
     "prompt_number": 6
    },
    {
     "cell_type": "heading",
     "level": 2,
     "metadata": {},
     "source": [
      "Example 19.7, Page 962"
     ]
    },
    {
     "cell_type": "code",
     "collapsed": false,
     "input": [
      "#Variable declaration\n",
      "H_c0 = 2e+005;    # Critical field for niobium at 0 K, A/m \n",
      "H_cT = 1e+005;    # Critical magnetic field for superconducting niobium at 5 K, A/m\n",
      "T = 8;        # Temperature at which lead loses its superconducting state, K\n",
      "\n",
      "#Calculation\n",
      "# As H_cT = H_c0*(1-(T/T_c)^2), solving for T_c\n",
      "T_c = T/(1-H_cT/H_c0)**(1./2);\n",
      "\n",
      "#Result\n",
      "print \"The critical temperature for niobium = %6.3f K\"%T_c\n"
     ],
     "language": "python",
     "metadata": {},
     "outputs": [
      {
       "output_type": "stream",
       "stream": "stdout",
       "text": [
        "The critical temperature for niobium = 11.314 K\n"
       ]
      }
     ],
     "prompt_number": 7
    }
   ],
   "metadata": {}
  }
 ]
}