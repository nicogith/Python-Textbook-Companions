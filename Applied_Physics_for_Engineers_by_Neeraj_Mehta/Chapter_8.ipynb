{
 "metadata": {
  "name": ""
 },
 "nbformat": 3,
 "nbformat_minor": 0,
 "worksheets": [
  {
   "cells": [
    {
     "cell_type": "heading",
     "level": 1,
     "metadata": {},
     "source": [
      "Chapter 8: Ultrasonics"
     ]
    },
    {
     "cell_type": "heading",
     "level": 2,
     "metadata": {},
     "source": [
      "Example 8.1, Page 429"
     ]
    },
    {
     "cell_type": "code",
     "collapsed": false,
     "input": [
      "#Variable declaration\n",
      "d = 8e-004;  # Thickness of the piece of piezoelectric crystal, m\n",
      "v = 5760;  # Velocity of ultrasonic waves in the piece of piezoelectric crystal, m/s\n",
      "\n",
      "#Calculations\n",
      "n = v/(2*d);    # The frequency of the fundamental mode of ultrasonic wave, Hz\n",
      "\n",
      "#Result\n",
      "print \"The frequency of the fundamental mode of ultrasonic wave = %3.1f MHz\"%(n/1e+006)\n",
      "\n",
      " "
     ],
     "language": "python",
     "metadata": {},
     "outputs": [
      {
       "output_type": "stream",
       "stream": "stdout",
       "text": [
        "The frequency of the fundamental mode of ultrasonic wave = 3.6 MHz\n"
       ]
      }
     ],
     "prompt_number": 1
    },
    {
     "cell_type": "heading",
     "level": 2,
     "metadata": {},
     "source": [
      "Example 8.2, Page 430"
     ]
    },
    {
     "cell_type": "code",
     "collapsed": false,
     "input": [
      "from math import *\n",
      "\n",
      "#Variable declaration\n",
      "d = 2e-003;  # Thickness of the piece of quarts crystal, m\n",
      "rho = 2650;  # Density of the crystal, kg/meter-cube\n",
      "Y = 7.9e+010;  # Value of Youngs Modulus, N/metre-square\n",
      "\n",
      "#Calculations\n",
      "n = 1/(2*d)*sqrt(Y/rho);    #The frequency of the fundamental mode of vibration, Hz\n",
      "\n",
      "#Result\n",
      "print \"The frequency of the fundamental mode of vibration in quatrz crystal = %5.3f Hz\"%(n/1e+006)\n"
     ],
     "language": "python",
     "metadata": {},
     "outputs": [
      {
       "output_type": "stream",
       "stream": "stdout",
       "text": [
        "The frequency of the fundamental mode of vibration in quatrz crystal = 1.365 Hz\n"
       ]
      }
     ],
     "prompt_number": 2
    },
    {
     "cell_type": "heading",
     "level": 2,
     "metadata": {},
     "source": [
      "Example 8.3, Page 430"
     ]
    },
    {
     "cell_type": "code",
     "collapsed": false,
     "input": [
      "#Variable declaration\n",
      "v = 5e+003;  # Velocity of ultrasonic beam in steel plate, m/s\n",
      "n = 25e+003;  # Difference between two neighbouring harmonic frequencies (Nm - Nm_minus1), Hz  \n",
      "\n",
      "#Calculations\n",
      "d = v/(2*n);    # The thickness of steel plate, m\n",
      "\n",
      "#Result\n",
      "print \"The thickness of steel plate = %3.1f m\"%d\n"
     ],
     "language": "python",
     "metadata": {},
     "outputs": [
      {
       "output_type": "stream",
       "stream": "stdout",
       "text": [
        "The thickness of steel plate = 0.1 m\n"
       ]
      }
     ],
     "prompt_number": 3
    },
    {
     "cell_type": "heading",
     "level": 2,
     "metadata": {},
     "source": [
      "Example 8.4, Page 430"
     ]
    },
    {
     "cell_type": "code",
     "collapsed": false,
     "input": [
      "from math import *\n",
      "\n",
      "#Variable declaration\n",
      "n = 1e+006;  # Frequency of Ultrasonic waves, Hz  \n",
      "C = 2.5e-014;  # Capcitance of capacitor, F\n",
      "\n",
      "#Calculations\n",
      "# Frequency of elecric oscillations is given by n = 1/(2*%pi)*sqrt(1/(L*C)), solving for L\n",
      "L = 1/(4*pi**2*n**2*C);    # The inductance of an inductor to produce ultrasonic waves, henry\n",
      "\n",
      "#Result\n",
      "print \"The inductance of an inductor to produce ultrasonic waves = %d henry\"%L\n",
      "\n",
      " "
     ],
     "language": "python",
     "metadata": {},
     "outputs": [
      {
       "output_type": "stream",
       "stream": "stdout",
       "text": [
        "The inductance of an inductor to produce ultrasonic waves = 1 henry\n"
       ]
      }
     ],
     "prompt_number": 4
    },
    {
     "cell_type": "heading",
     "level": 2,
     "metadata": {},
     "source": [
      "Example 8.5, Page 431"
     ]
    },
    {
     "cell_type": "code",
     "collapsed": false,
     "input": [
      "#Variable declaration\n",
      "d = 50e-002;  # Thickness of the metallic rod, m\n",
      "t1 = 30e-006;  # Arrival time for first pulse, s\n",
      "t2 = 80e-006;      # Arrival time for second pulse, s\n",
      "\n",
      "#Calculations&Results\n",
      "v = 2*d/t2;  # Velocity of ultrasonic waves, m/s\n",
      "print \"The velocity of pulse inside the rod = %4.2e m/s\"%v\n",
      "x = t1*v/2;\n",
      "print \"The position of pulse inside the rod = %6.4f m\"%x\n"
     ],
     "language": "python",
     "metadata": {},
     "outputs": [
      {
       "output_type": "stream",
       "stream": "stdout",
       "text": [
        "The velocity of pulse inside the rod = 1.25e+04 m/s\n",
        "The position of pulse inside the rod = 0.1875 m\n"
       ]
      }
     ],
     "prompt_number": 6
    },
    {
     "cell_type": "heading",
     "level": 2,
     "metadata": {},
     "source": [
      "Example 8.6, Page 431"
     ]
    },
    {
     "cell_type": "code",
     "collapsed": false,
     "input": [
      "from math import *\n",
      "\n",
      "#Variable declaration\n",
      "I = 2.5e+004;  # Sound intensity, W/meter-square\n",
      "v = 1480;  # Sound velocity, m/s\n",
      "rho_w = 1000;  # Density of water, kg/meter-cube\n",
      "rho_c = 2650;  # Density of crystal of transducer, kg/meter-cube\n",
      "d = 0.001;  # Thickness of the quartz, m\n",
      "f = 20e+003;  # Frequency of sound in water, Hz\n",
      "\n",
      "#Calculations&Results\n",
      "# As sound intensity, I = p^2/(2*rho1*v), solving for p\n",
      "p = sqrt(2*rho_w*v*I);    # Pressure in the medium, N/metre-square\n",
      "a = p/(d*rho_c);    # Maximum acceleration of the quartz ultrasonic transducer, metre/second-square\n",
      "print \"The maximum acceleration produced in quartz transducer = %4.2e metre/second-square\"%a\n",
      "y = a/(2*pi*f)**2;    # Maximum displacement of the quartz transducer, m\n",
      "print \"The maximum displacement of quartz transducer = %3.1f micrometer\"%(y/1e-006)\n"
     ],
     "language": "python",
     "metadata": {},
     "outputs": [
      {
       "output_type": "stream",
       "stream": "stdout",
       "text": [
        "The maximum acceleration produced in quartz transducer = 1.03e+05 metre/second-square\n",
        "The maximum displacement of quartz transducer = 6.5 micrometer\n"
       ]
      }
     ],
     "prompt_number": 8
    },
    {
     "cell_type": "heading",
     "level": 2,
     "metadata": {},
     "source": [
      "Example 8.7, Page 432"
     ]
    },
    {
     "cell_type": "code",
     "collapsed": false,
     "input": [
      "#Variable declaration\n",
      "L = 0.2;  # Length of a magnetostrictive hydrophone, m\n",
      "lamda = 2*L;  # Wavelength of ultrasonic wave, m\n",
      "v = 4900;  # Velocity of ultrasonic beam in water, m/s\n",
      "\n",
      "#Calculations\n",
      "f = v/lamda;  # Fundamental frequency of ultrasonic, KHz\n",
      "\n",
      "#Result\n",
      "print \"The fundamental frequency of a magnetostrictive hydrophone = %4.2f KHz\"%(f/1e+03)\n"
     ],
     "language": "python",
     "metadata": {},
     "outputs": [
      {
       "output_type": "stream",
       "stream": "stdout",
       "text": [
        "The fundamental frequency of a magnetostrictive hydrophone = 12.25 KHz\n"
       ]
      }
     ],
     "prompt_number": 9
    },
    {
     "cell_type": "heading",
     "level": 2,
     "metadata": {},
     "source": [
      "Example 8.8, Page 432"
     ]
    },
    {
     "cell_type": "code",
     "collapsed": false,
     "input": [
      "#Variable declaration\n",
      "v = 3700;  # Velocity of ultrasonic beam in copper, m/s\n",
      "t = 1e-006;  # Delay time for ultrasonic beam, s\n",
      "\n",
      "#Calculations\n",
      "L = v*t;    # # Length of a copper wire required for a delay, m\n",
      "\n",
      "#Result\n",
      "print \"The length of a copper wire required for a delay = %6.4f m\"%L\n"
     ],
     "language": "python",
     "metadata": {},
     "outputs": [
      {
       "output_type": "stream",
       "stream": "stdout",
       "text": [
        "The length of a copper wire required for a delay = 0.0037 m\n"
       ]
      }
     ],
     "prompt_number": 10
    }
   ],
   "metadata": {}
  }
 ]
}