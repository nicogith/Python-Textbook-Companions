{
 "metadata": {
  "name": ""
 },
 "nbformat": 3,
 "nbformat_minor": 0,
 "worksheets": [
  {
   "cells": [
    {
     "cell_type": "heading",
     "level": 1,
     "metadata": {},
     "source": [
      "Chapter 13: Dielectric Properties of Materials"
     ]
    },
    {
     "cell_type": "heading",
     "level": 2,
     "metadata": {},
     "source": [
      "Example 13.1, Page 648"
     ]
    },
    {
     "cell_type": "code",
     "collapsed": false,
     "input": [
      "from math import *\n",
      "from scipy import integrate\n",
      "\n",
      "#Variable declaration\n",
      "q = 1e-006;   # Electric charge on either side of the dipole, C\n",
      "l = 2e-02;    # Dipole length, m\n",
      "p = q*l;      # Dipole moment for the pair of opposite charges, C-m\n",
      "E = 1e+005;   # External electric field, N/C\n",
      "theta = 90;   # Angle which the dipole makes with the external field, degrees\n",
      "\n",
      "#Calculations&Results\n",
      "tau = p*E*sin(theta);   # The maximum torque on dipole placed in external electric field, Nm\n",
      "print \"The maximum torque = %1.0e N-m\"%tau\n",
      "W = p*E*(cos(0)-cos(180*pi/180))\n",
      "#W = integrate('p*E*sin(thet)', 'thet', 0, pi);    # The work done in rotating the dipole direction = %1.0e J\", W\n",
      "print \"The work done in rotating the dipole direction = %1.0e J\"%W\n"
     ],
     "language": "python",
     "metadata": {},
     "outputs": [
      {
       "output_type": "stream",
       "stream": "stdout",
       "text": [
        "The maximum torque = 2e-03 N-m\n",
        "The work done in rotating the dipole direction = 4e-03 J\n"
       ]
      }
     ],
     "prompt_number": 30
    },
    {
     "cell_type": "heading",
     "level": 2,
     "metadata": {},
     "source": [
      "Example 13.2, Page 648"
     ]
    },
    {
     "cell_type": "code",
     "collapsed": false,
     "input": [
      "from math import *\n",
      "\n",
      "#Variable declaration\n",
      "Q = 8e-019;   # Charge of the nucleus, C\n",
      "p = 3.2e-029;   # Electric dipole moment, C-m\n",
      "r = 1e-10;    # Distance of dipole relative to the nucleus, m\n",
      "k = 9e+9;   # Coulomb constant, N-meter-square/C-square\n",
      "theta = 0;   # Angle for radial direction, radian \n",
      "\n",
      "#Calculations&Results\n",
      "F = k*p*Q*sqrt(3*cos(theta**2)+1)/r**3;    # The force acting on the dipole in the radial direction, N\n",
      "print \"The force acting on the dipole in the radial direction = %3.1e N\"%F\n",
      "theta = pi/2;   # Angle for perpendicular direction, radian\n",
      "F = k*p*Q*sqrt(3*cos(theta)**2+1)/r**3;\n",
      "print \"The force acting on the dipole in the direction perpendicular to radial direction = %3.1e N\"%F\n"
     ],
     "language": "python",
     "metadata": {},
     "outputs": [
      {
       "output_type": "stream",
       "stream": "stdout",
       "text": [
        "The force acting on the dipole in the radial direction = 4.6e-07 N\n",
        "The force acting on the dipole in the direction perpendicular to radial direction = 2.3e-07 N\n"
       ]
      }
     ],
     "prompt_number": 2
    },
    {
     "cell_type": "heading",
     "level": 2,
     "metadata": {},
     "source": [
      "Example 13.3, Page 649"
     ]
    },
    {
     "cell_type": "code",
     "collapsed": false,
     "input": [
      "#Variable declaration\n",
      "chi_e = 35.4e-12;   # Susceptability of the material, C-square/N-meter-square\n",
      "eps_0 = 8.85e-12;   # Electric permittivity in free space, C-squre/N-meter-square\n",
      "\n",
      "#Calculations&Results\n",
      "K = 1 + (chi_e/eps_0);\n",
      "print \"The dielectric constant = %d \"%K\n",
      "eps = (eps_0*K); \n",
      "print \"The electric permittivity  = %5.3e C-square/N-meter square \"%eps\n",
      "\n",
      " "
     ],
     "language": "python",
     "metadata": {},
     "outputs": [
      {
       "output_type": "stream",
       "stream": "stdout",
       "text": [
        "The dielectric constant = 5 \n",
        "The electric permittivity  = 4.425e-11 C-square/N-meter square \n"
       ]
      }
     ],
     "prompt_number": 3
    },
    {
     "cell_type": "heading",
     "level": 2,
     "metadata": {},
     "source": [
      "Example 13.4, Page 649"
     ]
    },
    {
     "cell_type": "code",
     "collapsed": false,
     "input": [
      "#Variable declaration\n",
      "eps = 1.46e-10;   # Electric permittivity, C-square/n-meter-square\n",
      "eps_0 = 8.85e-12;   # Permittivity in free space, C-squre/N-meter-square\n",
      "\n",
      "#Calculations&Results\n",
      "K = (eps/eps_0);\n",
      "print \"The dielectric constant = %4.1f \"%K\n",
      "chi_e = eps_0*(K-1);   # Susceptability,in C-square/N-meter-square\n",
      "print \"The electric susceptability = %4.2e C-square/N-meter square \"%chi_e\n"
     ],
     "language": "python",
     "metadata": {},
     "outputs": [
      {
       "output_type": "stream",
       "stream": "stdout",
       "text": [
        "The dielectric constant = 16.5 \n",
        "The electric susceptability = 1.37e-10 C-square/N-meter square \n"
       ]
      }
     ],
     "prompt_number": 4
    },
    {
     "cell_type": "heading",
     "level": 2,
     "metadata": {},
     "source": [
      "Example 13.5, Page 650"
     ]
    },
    {
     "cell_type": "code",
     "collapsed": false,
     "input": [
      "#Variable declaration\n",
      "K = 7.0;   # Dielectric constant of the slab\n",
      "d = 0.01;   # Distance between the two parallel plates, m\n",
      "V_0 = 100;   # Potential difference across the plates, V\n",
      "eps_0 = 8.85e-12;   # Electric permability of the free space, C-square/N-meter-square\n",
      "\n",
      "#Calculations&Results\n",
      "E_0 = V_0/d;   # Electric intensity in the absence of dielectric slab, V/m\n",
      "E = E_0/K;    # Electric intensity with dielectric slab introduced between the plates, V/m\n",
      "print \"The electric field intensity in the presence of the dielectric slab = %4.2e V/m \"%E\n",
      "D = (eps_0*K*E);    # Electric displacement, C-square/m-square\n",
      "print \"The electric displacement in the dielectric slab = %4.2e C-square/meter-square \"%D\n",
      "P = eps_0*(K-1)*E;    # Electric polarization in the dielectric slab, C-square/m-square\n",
      "print \"The electric polarization in the dielectric slab = %3.1e C-square/meter-square \"%P\n"
     ],
     "language": "python",
     "metadata": {},
     "outputs": [
      {
       "output_type": "stream",
       "stream": "stdout",
       "text": [
        "The electric field intensity in the presence of the dielectric slab = 1.43e+03 V/m \n",
        "The electric displacement in the dielectric slab = 8.85e-08 C-square/meter-square \n",
        "The electric polarization in the dielectric slab = 7.6e-08 C-square/meter-square \n"
       ]
      }
     ],
     "prompt_number": 5
    },
    {
     "cell_type": "heading",
     "level": 2,
     "metadata": {},
     "source": [
      "Example 13.6, Page 650"
     ]
    },
    {
     "cell_type": "code",
     "collapsed": false,
     "input": [
      "#Variable declaration\n",
      "K = 1.000074;   # Dielectric constant of the He\n",
      "n = 2.69e+025;   # Atomic density of He, atoms/meter-cube\n",
      "eps_0 = 8.85e-012;   # Electric permability of the free space, C-square/N-meter-square\n",
      "E = 1;   # Electric field strength, V/m\n",
      "\n",
      "#Calculations\n",
      "p = (eps_0*(K-1)*E)/n;    # Dipole moment induced in He, C-m\n",
      "\n",
      "#Result\n",
      "print \"The dipole moment induced in each He atom = %4.2e C-m \"%p\n"
     ],
     "language": "python",
     "metadata": {},
     "outputs": [
      {
       "output_type": "stream",
       "stream": "stdout",
       "text": [
        "The dipole moment induced in each He atom = 2.43e-41 C-m \n"
       ]
      }
     ],
     "prompt_number": 6
    },
    {
     "cell_type": "heading",
     "level": 2,
     "metadata": {},
     "source": [
      "Example 13.7, Page 650"
     ]
    },
    {
     "cell_type": "code",
     "collapsed": false,
     "input": [
      "#Variable declaration\n",
      "K = 1.000134;   # Dielectric constant of the neon\n",
      "n = 2.69e+25;   # Atomic density of argon,atoms/meter-cube\n",
      "eps_0 = 8.85e-12;   # Electric Permability in the free space, C-square/N-meter-square\n",
      "E = 90e+03;    # External electric field, V/m\n",
      "\n",
      "#Calculations\n",
      "p = eps_0*(K-1)*E/n;    # Dipole moment induced in each neon atom, C-m\n",
      "alpha = p/E;    # Atomic polarizability of neon gas, C-metre-square/V\n",
      "\n",
      "#Results\n",
      "print \"The induced dipole moment of noen atom = %4.2e C-m\"%p\n",
      "print \"The electronic polarizability of neon gas = %3.1e C-m-square/V \"%alpha\n"
     ],
     "language": "python",
     "metadata": {},
     "outputs": [
      {
       "output_type": "stream",
       "stream": "stdout",
       "text": [
        "The induced dipole moment of noen atom = 3.97e-36 C-m\n",
        "The electronic polarizability of neon gas = 4.4e-41 C-m-square/V \n"
       ]
      }
     ],
     "prompt_number": 7
    },
    {
     "cell_type": "heading",
     "level": 2,
     "metadata": {},
     "source": [
      "Example 13.8, Page 651"
     ]
    },
    {
     "cell_type": "code",
     "collapsed": false,
     "input": [
      "#Variable declaration\n",
      "K = 1.0024;   # Dielectric constant of the argon\n",
      "n = 2.7e+25;   # Atomic density of argon,atoms/meter-cube\n",
      "eps_0 = 8.85e-12;   # Electric Permability in the free space, C-square/N-meter-square\n",
      "\n",
      "#Calculations\n",
      "alpha = eps_0*(K-1)/n;\n",
      "\n",
      "#Result\n",
      "print \"The electronic polarizability of argon atom = %4.1e C-m-square/V \"%alpha\n"
     ],
     "language": "python",
     "metadata": {},
     "outputs": [
      {
       "output_type": "stream",
       "stream": "stdout",
       "text": [
        "The electronic polarizability of argon atom = 7.9e-40 C-m-square/V \n"
       ]
      }
     ],
     "prompt_number": 8
    },
    {
     "cell_type": "heading",
     "level": 2,
     "metadata": {},
     "source": [
      "Example 13.9, Page 651"
     ]
    },
    {
     "cell_type": "code",
     "collapsed": false,
     "input": [
      "#Variable declaration\n",
      "K = 2.24;   # Dielectric constant \n",
      "eps_0 = 8.85e-12;   # Electric permability in the free space, C-square/N-meter-square\n",
      "rho = 1.6e+003;   # Density of CCl4, kg/meter-cube\n",
      "M = 156;   # Molecular weight of CCl4\n",
      "E = 1e+007;   # External electric field strength, V/m\n",
      "N_A = 6.02e+26;    # Avogadro's number, per kmol\n",
      "\n",
      "#Calculations\n",
      "rho_M = rho*N_A/M;     # Molecular density of CCl4\n",
      "p = eps_0*(K-1)*E/rho_M;    # Individual dipole moment of CCL4 molecule, C-m\n",
      "\n",
      "#Result\n",
      "print \"Individual dipole moment of CCL4 molecule = %4.2e C-m \"%p\n"
     ],
     "language": "python",
     "metadata": {},
     "outputs": [
      {
       "output_type": "stream",
       "stream": "stdout",
       "text": [
        "Individual dipole moment of CCL4 molecule = 1.78e-32 C-m \n"
       ]
      }
     ],
     "prompt_number": 9
    },
    {
     "cell_type": "heading",
     "level": 2,
     "metadata": {},
     "source": [
      "Example 13.10, Page 652"
     ]
    },
    {
     "cell_type": "code",
     "collapsed": false,
     "input": [
      "from math import *\n",
      "\n",
      "#Variable declaration\n",
      "K = 1.0000684;   # Dielectric constant of He at 1 atm\n",
      "n = 2.7e+25;   # Density of He at 1 atm and 273 K, atoms/meter-cube\n",
      "\n",
      "#Calculations\n",
      "# The atomic polarizibility, alpha = eps_0*(K-1)/n \n",
      "# In terms of atomic radius, alpha = 4*%pi*eps_0*R^3 so, we have\n",
      "R = ((K-1)/(4*pi*n))**(1./3);    # Radius of He atom, m\n",
      "\n",
      "#Result\n",
      "print \"The atomic radius of He = %4.2e m \"%R\n"
     ],
     "language": "python",
     "metadata": {},
     "outputs": [
      {
       "output_type": "stream",
       "stream": "stdout",
       "text": [
        "The atomic radius of He = 5.86e-11 m \n"
       ]
      }
     ],
     "prompt_number": 11
    },
    {
     "cell_type": "heading",
     "level": 2,
     "metadata": {},
     "source": [
      "Example 13.11, Page 652"
     ]
    },
    {
     "cell_type": "code",
     "collapsed": false,
     "input": [
      "#Variable declaration\n",
      "mu = 1.5;   # Optical index of refraction of NaCl crystal\n",
      "K = 5.6;   # Static dielectric constant of NaCl crystal\n",
      "\n",
      "#Calculations\n",
      "P_IP = (1-((mu**2-1)*(K+2))/((mu**2+2)*(K-1)))*100;\n",
      "\n",
      "#Result\n",
      "print \"The percentage of ionic polarizibility in NaCl crystal = %4.1f percent \"%P_IP\n",
      "\n",
      "\n"
     ],
     "language": "python",
     "metadata": {},
     "outputs": [
      {
       "output_type": "stream",
       "stream": "stdout",
       "text": [
        "The percentage of ionic polarizibility in NaCl crystal = 51.4 percent \n"
       ]
      }
     ],
     "prompt_number": 12
    },
    {
     "cell_type": "heading",
     "level": 2,
     "metadata": {},
     "source": [
      "Example 13.12, Page 653"
     ]
    },
    {
     "cell_type": "code",
     "collapsed": false,
     "input": [
      "from math import *\n",
      "\n",
      "#Variable declaration\n",
      "K_B = 1.38e-23;   # Boltzmann constant, J/mol/K\n",
      "T = 300;   # Room temperature, K \n",
      "eps_0 = 8.85e-12;   # Electric permittivity of free space, F/m\n",
      "N_A = 6.0e+23;    # Avogadro's number\n",
      "\n",
      "#Calculations\n",
      "n2 = N_A*1000;     # Number of molecules of non-polar substance in 1000 cc volume\n",
      "p_0 = sqrt((9*K_B*T*eps_0*0.023)/n2);    # Dipole moment of polar molecules, C-m\n",
      "\n",
      "#Result\n",
      "print \"The dipole moment of polar molecules = %4.3e C-m\"%p_0\n"
     ],
     "language": "python",
     "metadata": {},
     "outputs": [
      {
       "output_type": "stream",
       "stream": "stdout",
       "text": [
        "The dipole moment of polar molecules = 3.555e-30 C-m\n"
       ]
      }
     ],
     "prompt_number": 31
    }
   ],
   "metadata": {}
  }
 ]
}