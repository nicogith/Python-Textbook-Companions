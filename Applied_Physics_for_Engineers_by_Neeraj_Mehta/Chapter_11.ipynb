{
 "metadata": {
  "name": ""
 },
 "nbformat": 3,
 "nbformat_minor": 0,
 "worksheets": [
  {
   "cells": [
    {
     "cell_type": "heading",
     "level": 1,
     "metadata": {},
     "source": [
      "Chapter 11: Electromagnetic Theory"
     ]
    },
    {
     "cell_type": "heading",
     "level": 2,
     "metadata": {},
     "source": [
      "Example 11.1, Page 559"
     ]
    },
    {
     "cell_type": "code",
     "collapsed": false,
     "input": [
      "from math import *\n",
      "\n",
      "#Variable declaration\n",
      "H_0 = 1;   # Amplitude off field vector,in A/m\n",
      "mu_0 = 12.56e-7;   # Permeability,in weber/A-m \n",
      "eps = 8.85e-12;   # Permittivity in free space,in C/N-meter-square\n",
      "\n",
      "#Calculations\n",
      "# From the relation between the amplitude of the field vector E and vector H of an EM wave in free space \n",
      "E_0 = H_0*(sqrt(mu_0/eps));\n",
      "\n",
      "#Result\n",
      "print \"The amplitude of field vector E in free space = %5.1f V/m\"%E_0\n"
     ],
     "language": "python",
     "metadata": {},
     "outputs": [
      {
       "output_type": "stream",
       "stream": "stdout",
       "text": [
        "The amplitude of field vector E in free space = 376.7 V/m\n"
       ]
      }
     ],
     "prompt_number": 1
    },
    {
     "cell_type": "heading",
     "level": 2,
     "metadata": {},
     "source": [
      "Example 11.2, Page 560"
     ]
    },
    {
     "cell_type": "code",
     "collapsed": false,
     "input": [
      "#Variable declaration\n",
      "E_o = 1e+3;   # Amplitude field vector in free space,N/C\n",
      "c = 3e+8;   # Speed of light,in m/s\n",
      "\n",
      "#Calculations\n",
      "# From the relation between the amplitude of the field vector E and vector H of an EM wave in free space E_o = H_o*(sqrt(mu_o/eps))and B_o = mu_o*H_o, we have\n",
      "B_o = E_o/c;\n",
      "\n",
      "#Result\n",
      "print \"The maximum value of magnetic induction vector = %4.2e weber/A-m\"%B_o\n"
     ],
     "language": "python",
     "metadata": {},
     "outputs": [
      {
       "output_type": "stream",
       "stream": "stdout",
       "text": [
        "The maximum value of magnetic induction vector = 3.33e-06 weber/A-m\n"
       ]
      }
     ],
     "prompt_number": 2
    },
    {
     "cell_type": "heading",
     "level": 2,
     "metadata": {},
     "source": [
      "Example 11.3, Page 560"
     ]
    },
    {
     "cell_type": "code",
     "collapsed": false,
     "input": [
      "#Variable declaration\n",
      "sigma = 5;   # Conductivity of the conducting medium, mho/m\n",
      "eps_r = 8.85e-12;   # Relative electrical permittivity of medium, F/m\n",
      "eps_0 = 1;    # Electrical permittivity of free space, F/m\n",
      "E0 = 250;   # Amplitude of applied electric field, V/m\n",
      "\n",
      "#Calculations\n",
      "J = sigma*E0;    # Amplitude of conduction current density, A/metre-square\n",
      "J_D = eps_r*eps_0*E0*1e+010;   # Amplitude of displacement current density, A/metre-square\n",
      "omega = sigma/(eps_0*eps_r);    # Frequency at which J = J_D\n",
      "\n",
      "#Results\n",
      "print \"The conduction current density = %3dsin(10^10t) A/metre-quare\"%J\n",
      "print \"The displacement current density = %5.3fcos(10^10t) A/metre-quare\"%J_D   #incorrect answer in the textbook\n",
      "print \"The frequency at which J = J_D is %3.1e Hz\"%omega"
     ],
     "language": "python",
     "metadata": {},
     "outputs": [
      {
       "output_type": "stream",
       "stream": "stdout",
       "text": [
        "The conduction current density = 1250sin(10^10t) A/metre-quare\n",
        "The displacement current density = 22.125cos(10^10t) A/metre-quare\n",
        "The frequency at which J = J_D is 5.6e+11 Hz\n"
       ]
      }
     ],
     "prompt_number": 3
    },
    {
     "cell_type": "heading",
     "level": 2,
     "metadata": {},
     "source": [
      "Example 11.8, Page 565"
     ]
    },
    {
     "cell_type": "code",
     "collapsed": false,
     "input": [
      "from math import *\n",
      "\n",
      "#Variable declaration\n",
      "P = 1000;   # Energy radiated by the lamp, watt\n",
      "r = 2;   # Distance from the source at which the electric field intensity is given, m\n",
      "\n",
      "#Calculations\n",
      "S = P/(4*pi*r**2);      # Magnitude of Poynting vector, W/metre-square\n",
      "# As wave imepdence, Z0 = E/H = 377 and H = E/377, so that with E*H = S we have\n",
      "E = 377\n",
      "E = sqrt(S*E)\n",
      "\n",
      "#Result\n",
      "print \"The average value of the intensity of electric field of radiation = %4.1f V/m\"%(E)\n"
     ],
     "language": "python",
     "metadata": {},
     "outputs": [
      {
       "output_type": "stream",
       "stream": "stdout",
       "text": [
        "The average value of the intensity of electric field of radiation = 86.6 V/m\n"
       ]
      }
     ],
     "prompt_number": 4
    },
    {
     "cell_type": "heading",
     "level": 2,
     "metadata": {},
     "source": [
      "Example 11.9, Page 566"
     ]
    },
    {
     "cell_type": "code",
     "collapsed": false,
     "input": [
      "from math import *\n",
      "\n",
      "#Variable declaration\n",
      "S = 2*4.186/60*1e+04;   # Solar constant, J/s/metre-square\n",
      "# From the poynting vector S = E*H \n",
      "C = 377;   # Wave Impedence, ohm\n",
      "\n",
      "#Calculations\n",
      "E = sqrt(S*C);      # Electric field of radiation, V/m\n",
      "H = E/C;            # Magnetic field of radiation, A/m\n",
      "E0 = E*sqrt(2);     # Amplitude of electric field of radiation, V/m \n",
      "H0 = H*sqrt(2);     # Amplitude of magnetic field of radiation, A/m\n",
      "\n",
      "#Results\n",
      "print \"The amplitude of electric field of radiation = %6.1f V/m\"%E0    #incorrect answer in the textbook\n",
      "print \"The amplitude of magnetic field of radiation = %5.3f V/m\"%H0\n"
     ],
     "language": "python",
     "metadata": {},
     "outputs": [
      {
       "output_type": "stream",
       "stream": "stdout",
       "text": [
        "The amplitude of electric field of radiation = 1025.7 V/m\n",
        "The amplitude of magnetic field of radiation = 2.721 V/m\n"
       ]
      }
     ],
     "prompt_number": 5
    },
    {
     "cell_type": "heading",
     "level": 2,
     "metadata": {},
     "source": [
      "Example 11.12, Page 569"
     ]
    },
    {
     "cell_type": "code",
     "collapsed": false,
     "input": [
      "from math import *\n",
      "\n",
      "#Variable declaration\n",
      "sigma = 3.54e+007;   # Electrical conductivity of Al, mho per metre \n",
      "mu = 12.56e-007;   # Permeability of the medium, weber/A-m\n",
      "f = 71.6e+06;    # Frequency of the wave, Hz\n",
      "\n",
      "#Calculations\n",
      "omega = 2*pi*f;   # Angular frequency of the wave, rad per sec\n",
      "delta = sqrt(2/(sigma*mu*omega));    # Skin depth of the EM wave in Al, m\n",
      "\n",
      "#Result\n",
      "print \"The skin depth of an EM-wave in Al = %2.0f micron\"%(delta/1e-06)\n"
     ],
     "language": "python",
     "metadata": {},
     "outputs": [
      {
       "output_type": "stream",
       "stream": "stdout",
       "text": [
        "The skin depth of an EM-wave in Al = 10 micron\n"
       ]
      }
     ],
     "prompt_number": 6
    },
    {
     "cell_type": "heading",
     "level": 2,
     "metadata": {},
     "source": [
      "Example 11.14, Page 571"
     ]
    },
    {
     "cell_type": "code",
     "collapsed": false,
     "input": [
      "from math import *\n",
      "\n",
      "#Variable declaration\n",
      "sigma = 5.;   # Electrical conductivity, mho per metre \n",
      "mu = 12.56e-007;   # Permeability of the medium, weber/A-m\n",
      "eps_0 = 8.85e-012;   # Electric permittivity of free space, C-square/N-m-square\n",
      "\n",
      "#Calculations&Results\n",
      "eps = 70*eps_0;    # Electric permittivity of the medium, C-square/N-m-square\n",
      "delta = 2/sigma*sqrt(eps/mu); # The skin depth and attenuation constant of sea water\n",
      "print \"The skin depth of an EM-wave in sea water = %6.4f m\"%delta\n",
      "Beta = 1/delta;    # The attenuation constant of sea water, per metre\n",
      "print \"The attenuation constant of the sea water = %6.2f m\"%Beta\n"
     ],
     "language": "python",
     "metadata": {},
     "outputs": [
      {
       "output_type": "stream",
       "stream": "stdout",
       "text": [
        "The skin depth of an EM-wave in sea water = 0.0089 m\n",
        "The attenuation constant of the sea water = 112.57 m\n"
       ]
      }
     ],
     "prompt_number": 8
    }
   ],
   "metadata": {}
  }
 ]
}