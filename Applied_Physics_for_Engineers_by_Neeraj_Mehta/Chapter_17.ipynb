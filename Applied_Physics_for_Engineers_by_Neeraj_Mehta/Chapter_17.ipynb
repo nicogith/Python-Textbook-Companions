{
 "metadata": {
  "name": ""
 },
 "nbformat": 3,
 "nbformat_minor": 0,
 "worksheets": [
  {
   "cells": [
    {
     "cell_type": "heading",
     "level": 1,
     "metadata": {},
     "source": [
      "Chapter 17: Nuclear Physics"
     ]
    },
    {
     "cell_type": "heading",
     "level": 2,
     "metadata": {},
     "source": [
      "Example 17.1, Page 888"
     ]
    },
    {
     "cell_type": "code",
     "collapsed": false,
     "input": [
      "#Variable declaration\n",
      "e = 1.6e-019;   # Energy equivalent of 1 eV, J/eV\n",
      "m_n = 1.675e-027;   # Mass of the neutron, kg\n",
      "m_p = 1.672e-027;   # Mass of the proton, kg\n",
      "M_D = 3.343e-027;   # Mass of the deutron, kg\n",
      "c = 3e+08;  # Speed of light, m/s\n",
      "\n",
      "#Calculations\n",
      "delta_m = m_n + m_p - M_D;  # Mass defect in the formation of deuterium, kg\n",
      "BE = delta_m*c**2;   # Binding energy of the deuterium, J\n",
      "BE_bar = BE/2;      # Binding energy per nucleon of deuterium, J\n",
      "\n",
      "#Result\n",
      "print \"Binding energy per nucleon for the deutron = %5.3f MeV\"%(BE_bar/(e*1e+06))\n"
     ],
     "language": "python",
     "metadata": {},
     "outputs": [
      {
       "output_type": "stream",
       "stream": "stdout",
       "text": [
        "Binding energy per nucleon for the deutron = 1.125 MeV\n"
       ]
      }
     ],
     "prompt_number": 1
    },
    {
     "cell_type": "heading",
     "level": 2,
     "metadata": {},
     "source": [
      "Example 17.2, Page 889"
     ]
    },
    {
     "cell_type": "code",
     "collapsed": false,
     "input": [
      "#Variable declaration\n",
      "amu = 931.5;    # Energy equivalent of 1 amu, MeV\n",
      "m_n = 1.008665;   # Mass of the neutron, amu\n",
      "m_p = 1.007825;   # Mass of the proton, amu\n",
      "M_He = 4.002870;   # Mass of the heluim nucleus, amu\n",
      "c = 3e+08;  # Speed of light, m/s\n",
      "\n",
      "#Calculations\n",
      "BE = (2*m_n+2*m_p - M_He)*amu;  # Binding energy for the alpha particle, MeV\n",
      "\n",
      "#Result\n",
      "print \"The binding energy for the alpha particle = %2d MeV\"%BE\n"
     ],
     "language": "python",
     "metadata": {},
     "outputs": [
      {
       "output_type": "stream",
       "stream": "stdout",
       "text": [
        "The binding energy for the alpha particle = 28 MeV\n"
       ]
      }
     ],
     "prompt_number": 2
    },
    {
     "cell_type": "heading",
     "level": 2,
     "metadata": {},
     "source": [
      "Example 17.4, Page 890"
     ]
    },
    {
     "cell_type": "code",
     "collapsed": false,
     "input": [
      "#Variable declaration\n",
      "\n",
      "print \"Values of Z for different values of A are:\"\n",
      "for A in range(7,11):\n",
      "    Z = A/(2+0.015*A**(2./3))\n",
      "    print round(Z,2),\n",
      "\n",
      "print \"\\n\\nSince 4.36 is closer to 3, 4Be9 is more stable\""
     ],
     "language": "python",
     "metadata": {},
     "outputs": [
      {
       "output_type": "stream",
       "stream": "stdout",
       "text": [
        "Values of Z for different values of A are:\n",
        "3.41 3.88 4.36 4.83 \n",
        "\n",
        "Since 4.36 is closer to 3, 4Be9 is more stable\n"
       ]
      }
     ],
     "prompt_number": 29
    },
    {
     "cell_type": "heading",
     "level": 2,
     "metadata": {},
     "source": [
      "Example 17.5, Page 891"
     ]
    },
    {
     "cell_type": "code",
     "collapsed": false,
     "input": [
      "#Variable declaration\n",
      "from sympy import *\n",
      "c2 = Symbol('c2')\n",
      "\n",
      "#Calculations\n",
      "#For N14O17\n",
      "Q1 = (14.00753+4.00206)*c2-(17.00450+1.00814)*c2\n",
      "print \"Since, Q = \",Q1, \"which is negative, the reaction is endothermic\"\n",
      "#For Li7He4\n",
      "Q2 = (7.01822+1.00814)*c2-(4.00206+4.00206)*c2\n",
      "print \"Since, Q = \",Q2, \"which is negative, the reaction is endothermic\"\n",
      "#Answers differ due to rounding-off errors in Sympy"
     ],
     "language": "python",
     "metadata": {},
     "outputs": [
      {
       "output_type": "stream",
       "stream": "stdout",
       "text": [
        "Since, Q =  -0.00305000000000177*c2 which is negative, the reaction is endothermic\n",
        "Since, Q =  0.02224*c2 which is negative, the reaction is endothermic\n"
       ]
      }
     ],
     "prompt_number": 13
    },
    {
     "cell_type": "heading",
     "level": 2,
     "metadata": {},
     "source": [
      "Example 17.7, Page 892"
     ]
    },
    {
     "cell_type": "code",
     "collapsed": false,
     "input": [
      "#Variable declaration\n",
      "mp = 1.00814   #amu\n",
      "mn = 1.00898   #amu\n",
      "Mp = 30.98356  #amu\n",
      "Msi = 30.98515 #amu\n",
      "\n",
      "#Calculations\n",
      "Q = Mp+mn-Msi-mp  #amu\n",
      "Q = Q*931.5       #MeV\n",
      "Eth = Q*(-(Mp+mn)/Mp)\n",
      "\n",
      "#Result\n",
      "print \"Threshold frequency = %.3fMeV\"%Eth\n",
      "#Rounding-off error"
     ],
     "language": "python",
     "metadata": {},
     "outputs": [
      {
       "output_type": "stream",
       "stream": "stdout",
       "text": [
        "Threshold frequency = 0.721MeV\n"
       ]
      }
     ],
     "prompt_number": 14
    },
    {
     "cell_type": "heading",
     "level": 2,
     "metadata": {},
     "source": [
      "Example 17.8, Page 892\n"
     ]
    },
    {
     "cell_type": "code",
     "collapsed": false,
     "input": [
      "#Variable declaration\n",
      "Q = -7.6342   #MeV\n",
      "Mp = 19.0457  #amu\n",
      "mi = 1.0087   #amu\n",
      "me = 1.00728  #amu\n",
      "Ki = 15\n",
      "\n",
      "#calculations\n",
      "Ke = (Q*Mp-(mi-Mp)*Ki)/(me+Mp)\n",
      "Eth = Q*(-(Mp+mn)/Mp)\n",
      "\n",
      "#Result\n",
      "print \"Kinetic energy of protons = %.3f MeV\"%Ke\n",
      "print \"Threshold frequency = %.3f MeV\"%Eth"
     ],
     "language": "python",
     "metadata": {},
     "outputs": [
      {
       "output_type": "stream",
       "stream": "stdout",
       "text": [
        "Kinetic energy of protons = 6.241 MeV\n",
        "Threshold frequency = 8.039 MeV\n"
       ]
      }
     ],
     "prompt_number": 38
    },
    {
     "cell_type": "heading",
     "level": 2,
     "metadata": {},
     "source": [
      "Example 17.9, Page 893"
     ]
    },
    {
     "cell_type": "code",
     "collapsed": false,
     "input": [
      "#Variable declaration\n",
      "e = 1.6e-019;    # Energy equivalent of 1 eV, J/eV\n",
      "N_A = 6.023e+023;    # Avogadro's number\n",
      "E_f = 200*1e+06*e;    # Energy released per fission, J\n",
      "\n",
      "#Calculations\n",
      "E_mol = E_f*N_A;    # Energy released by one mole of U235, J\n",
      "E = E_mol*1000/235;    # Energy released by the fission of 1 kg of U235, J\n",
      "\n",
      "#Result\n",
      "print \"The Energy released by the fission of 1 kg of U235 = %4.2e kWh\"%(E/(1000*3600))\n"
     ],
     "language": "python",
     "metadata": {},
     "outputs": [
      {
       "output_type": "stream",
       "stream": "stdout",
       "text": [
        "The Energy released by the fission of 1 kg of U235 = 2.28e+07 kWh\n"
       ]
      }
     ],
     "prompt_number": 39
    },
    {
     "cell_type": "heading",
     "level": 2,
     "metadata": {},
     "source": [
      "Example 17.10, Page 894"
     ]
    },
    {
     "cell_type": "code",
     "collapsed": false,
     "input": [
      "#Variable declaration\n",
      "e = 1.6e-019;    # Energy equivalent of 1 eV, J/eV\n",
      "E = 3.2e+07;    # Energy released per second by the reactor, J\n",
      "\n",
      "#Calculations\n",
      "E_f = 200*1e+06*e;    # Energy released per fission, J\n",
      "N = E/E_f;    # Number of fissions per second of U235, per second\n",
      "\n",
      "#Result\n",
      "print \"The number of U235 atoms undergoing fissions per second = %1.0e\"%N\n"
     ],
     "language": "python",
     "metadata": {},
     "outputs": [
      {
       "output_type": "stream",
       "stream": "stdout",
       "text": [
        "The number of U235 atoms undergoing fissions per second = 1e+18\n"
       ]
      }
     ],
     "prompt_number": 40
    },
    {
     "cell_type": "heading",
     "level": 2,
     "metadata": {},
     "source": [
      "Example 17.11, Page 894"
     ]
    },
    {
     "cell_type": "code",
     "collapsed": false,
     "input": [
      "#Variable declaration\n",
      "e = 1.6e-019;    # Energy equivalent of 1 eV, J/eV\n",
      "N_A = 6.023e+026;    # Avogadro's number, per kmol\n",
      "P = 2;    # Power produced by the fission of U235, watt\n",
      "\n",
      "#Calculations\n",
      "E_f = 200*1e+06*e;    # Energy released per fission, J\n",
      "FR = P/E_f;    # Fission rate of U235, fission/sec\n",
      "N = 0.5/235*N_A;    # Number of U235 nuclei in 0.5 kg of U235\n",
      "E = 200*N;    # Energy released in the complete fissioning of 0.5 kg of U235, MeV\n",
      "\n",
      "#Results\n",
      "print \"The fission rate of U235 = %4.2e fissions/sec\"%FR\n",
      "print \"The energy released in the complete fissioning of 0.5 kg of U235 = %1.0e kcal\"%(E*1e+06*e/(1000*4.186))\n"
     ],
     "language": "python",
     "metadata": {},
     "outputs": [
      {
       "output_type": "stream",
       "stream": "stdout",
       "text": [
        "The fission rate of U235 = 6.25e+10 fissions/sec\n",
        "The energy released in the complete fissioning of 0.5 kg of U235 = 1e+10 kcal\n"
       ]
      }
     ],
     "prompt_number": 41
    },
    {
     "cell_type": "heading",
     "level": 2,
     "metadata": {},
     "source": [
      "Example 17.12, Page 894"
     ]
    },
    {
     "cell_type": "code",
     "collapsed": false,
     "input": [
      "from math import *\n",
      "\n",
      "#Variable declaration\n",
      "e = 1.6e-019;    # Energy equivalent of 1 eV, J/eV\n",
      "R_max = 0.6;    # Radius of two dees of the cyclotron, m\n",
      "B = 1.6;        # Strength of pole pieces of the cyclotron, tesla\n",
      "# For proton\n",
      "m = 1.67e-027;    # Mass of the proton, kg\n",
      "q = 1.6e-019;    # Charge on a proton, C\n",
      "\n",
      "#Calculations&Result\n",
      "E = 1./2*q**2*R_max**2*B**2/(m*e*1e+06);    # Energy of the proton, MeV\n",
      "f_proton = q*B/(2*pi*m*1e+06);    # Cyclotron oscillator frequency for the proton, MHz\n",
      "print \"Energy of the proton = %5.2f MeV\"%E\n",
      "print \"Cyclotron frequency for proton = %5.2f MHz\"%f_proton\n",
      "# For deuteron\n",
      "m = 2*1.67e-027;    # Mass of the deuteron, kg\n",
      "q = 1.6e-019;    # Charge on a deuteron, C\n",
      "E = 1./2*q**2*R_max**2*B**2/(m*e*1e+06);    # Energy of the deuteron, MeV\n",
      "f_deuteron = q*B/(2*pi*m*1e+06);    # Cyclotron oscillator frequency for the deuteron, MHz\n",
      "print \"Energy of the deuteron = %5.2f MeV\"%E\n",
      "print \"Cyclotron frequency for deuteron = %5.2f MHz\"%f_deuteron\n",
      "# For alpha-particle\n",
      "m = 4*1.67e-027;    # Mass of the alpha-particle, kg\n",
      "q = 2*1.6e-019;    # Charge on a alpha-particle, C\n",
      "E = 1./2*q**2*R_max**2*B**2/(m*e*1e+06);    # Energy of the deuteron, MeV\n",
      "f_alpha = q*B/(2*pi*m*1e+06);    # Cyclotron oscillator frequency for the alpha-particle, MHz\n",
      "print \"Energy of the alpha-particle = %5.2f MeV\"%E\n",
      "print \"Cyclotron frequency for alpha-particle = %5.2f MHz\"%f_alpha\n"
     ],
     "language": "python",
     "metadata": {},
     "outputs": [
      {
       "output_type": "stream",
       "stream": "stdout",
       "text": [
        "Energy of the proton = 44.15 MeV\n",
        "Cyclotron frequency for proton = 24.40 MHz\n",
        "Energy of the deuteron = 22.07 MeV\n",
        "Cyclotron frequency for deuteron = 12.20 MHz\n",
        "Energy of the alpha-particle = 44.15 MeV\n",
        "Cyclotron frequency for alpha-particle = 12.20 MHz\n"
       ]
      }
     ],
     "prompt_number": 44
    },
    {
     "cell_type": "heading",
     "level": 2,
     "metadata": {},
     "source": [
      "Example 17.13, Page 895"
     ]
    },
    {
     "cell_type": "code",
     "collapsed": false,
     "input": [
      "from math import *\n",
      "\n",
      "#Variable declaration\n",
      "e = 1.67e-013;    # Energy equivalent of 1 eV, J/eV\n",
      "R_max = 0.75;    # Radius of two dees of the cyclotron, m\n",
      "f = 15e+06;    # Frequency of alternating potential, Hz\n",
      "m = 1.67e-027;    # Mass of the proton, kg\n",
      "\n",
      "#Calculations\n",
      "# As E = 1/2*q^2*R_max^2*B^2/(m*e) and f = q*B/(2*%pi*m), solving for E\n",
      "E = (2*pi**2*m*f**2*R_max**2)/(e);\n",
      "\n",
      "#Result\n",
      "print \"Energy of the protons issuing out of the cyclotron = %6.4f MeV\"%E\n",
      "#Incorrect answer in the textbook"
     ],
     "language": "python",
     "metadata": {},
     "outputs": [
      {
       "output_type": "stream",
       "stream": "stdout",
       "text": [
        "Energy of the protons issuing out of the cyclotron = 24.9824 MeV\n"
       ]
      }
     ],
     "prompt_number": 60
    },
    {
     "cell_type": "heading",
     "level": 2,
     "metadata": {},
     "source": [
      "Example 17.14, Page 896"
     ]
    },
    {
     "cell_type": "code",
     "collapsed": false,
     "input": [
      "from math import *\n",
      "\n",
      "#Variable declaration\n",
      "e = 1.6e-019;    # Charge on an electron, C    \n",
      "c = 3e+08;        # Speed of light, m/s\n",
      "B_orbit = 0.5;    # Magnetic field at the orbit of the betatron, T\n",
      "f = 60;    # Operating frequency of the betatron, Hz\n",
      "\n",
      "#Calculations\n",
      "omega = 2*pi*f;    # Angular frequency of operation, rad/s\n",
      "r = 1.6/2;    # Radius of stable orbit, m\n",
      "K_av = 4*omega*e*r**2*B_orbit/1.6e-019;    # Average energy gained by the electron per turn, eV\n",
      "K_max = c*e*r*B_orbit/1.6e-019;    # Maximum energy gained by the eectron, eV\n",
      "\n",
      "#Results\n",
      "print \"The average energy gained by the electron per turn = %5.1f eV\"%K_av\n",
      "print \"The maximum energy gained by the electron = %5.1e eV\"%K_max\n"
     ],
     "language": "python",
     "metadata": {},
     "outputs": [
      {
       "output_type": "stream",
       "stream": "stdout",
       "text": [
        "The average energy gained by the electron per turn = 482.5 eV\n",
        "The maximum energy gained by the electron = 1.2e+08 eV\n"
       ]
      }
     ],
     "prompt_number": 46
    },
    {
     "cell_type": "heading",
     "level": 2,
     "metadata": {},
     "source": [
      "Example 17.15, Page 896"
     ]
    },
    {
     "cell_type": "code",
     "collapsed": false,
     "input": [
      "#Variable declaration\n",
      "q = 1.6e-019;    # Charge on a deuteron, C    \n",
      "amu = 931.5;    # Energy equivalent of 1 amu, MeV\n",
      "m0 = 2.0141;    # Rest mass of a deuteron, kg\n",
      "B0 = 1.5;    # Magnetic field at the centre of the synchrocyclotron, T\n",
      "B = 1.431;    # Magnetic field at the periphery of the synchrocyclotron, T  \n",
      "\n",
      "#Calculations\n",
      "f0 = q*B0/(2*3.14*m0*1.67e-027*1e+06);    # Maximum frequency of Dee voltage of synhrocyclotron, MHz\n",
      "f = 1e+07;    # Minimum frequency of Dee voltage, Hz \n",
      "m = (q*B)/(2*3.14*f*1.67e-027);    # Mass of deuteron at the periphery of the Dee, amu\n",
      "K = (m-m0)*amu;    # Gain in energy of the deuteron, MeV\n",
      "\n",
      "#Results\n",
      "print \"The maximum frequency of Dee voltage = %5.2f MHz\"%f0\n",
      "print \"The gain in energy of the deuteron = %6.2f MeV\"%K\n",
      "#Incorrect answer in textbook"
     ],
     "language": "python",
     "metadata": {},
     "outputs": [
      {
       "output_type": "stream",
       "stream": "stdout",
       "text": [
        "The maximum frequency of Dee voltage = 11.36 MHz\n",
        "The gain in energy of the deuteron = 157.47 MeV\n"
       ]
      }
     ],
     "prompt_number": 63
    },
    {
     "cell_type": "heading",
     "level": 2,
     "metadata": {},
     "source": [
      "Example 17.16, Page 897"
     ]
    },
    {
     "cell_type": "code",
     "collapsed": false,
     "input": [
      "from math import *\n",
      "\n",
      "#Variable declaration\n",
      "V = 1000;    # Operating voltage of the GM counter, volt\n",
      "a = 1e-04    # Radius of GM counter wire, m\n",
      "b = 2e-02;    # Radius of cathode, m\n",
      "\n",
      "#Calculations\n",
      "E = V/(2.3026*a*log10(b/a));    # Maximum radial field at the surface of central wire of GM tube, V/m\n",
      "tau = 1e+09;    # Life time of GM tube, counts\n",
      "N = tau/(50*60*60*2000);    # Life of the GM counter, years\n",
      "\n",
      "#Results\n",
      "print \"The maximum radial field at the surface of central wire of GM tube = %4.2e V/m\"%E\n",
      "print \"The life of the GM counter = %4.2f years\"%N\n"
     ],
     "language": "python",
     "metadata": {},
     "outputs": [
      {
       "output_type": "stream",
       "stream": "stdout",
       "text": [
        "The maximum radial field at the surface of central wire of GM tube = 1.89e+06 V/m\n",
        "The life of the GM counter = 2.78 years\n"
       ]
      }
     ],
     "prompt_number": 49
    },
    {
     "cell_type": "heading",
     "level": 2,
     "metadata": {},
     "source": [
      "Example 17.17, Page 898"
     ]
    },
    {
     "cell_type": "code",
     "collapsed": false,
     "input": [
      "from math import *\n",
      "\n",
      "#Variable declaration\n",
      "I = 15.7;    # Ionization potential of argon in GM counter, volt\n",
      "a = 0.012/2*1e-02;    # Radius of GM counter wire, m\n",
      "b = 5./2*1e-02;    # Radius of cathode, m\n",
      "lamda = 7.8e-006;    # Mean free path of argon in GM counter, m\n",
      "\n",
      "#Calculations\n",
      "# As E*lambda = I = V*lambda/(2.3026*a*log10(b/a)), solving for V\n",
      "V = 2.3026*a*I*log10(b/a)/lamda;    # Voltage that must be applied to produce an avalanche in GM tube, volt\n",
      "\n",
      "#Result\n",
      "print \"The voltage that must be applied to produce an avalanche in GM tube = %6.2f volt\"%V\n"
     ],
     "language": "python",
     "metadata": {},
     "outputs": [
      {
       "output_type": "stream",
       "stream": "stdout",
       "text": [
        "The voltage that must be applied to produce an avalanche in GM tube = 728.52 volt\n"
       ]
      }
     ],
     "prompt_number": 50
    },
    {
     "cell_type": "heading",
     "level": 2,
     "metadata": {},
     "source": [
      "Example 17.18, Page 898"
     ]
    },
    {
     "cell_type": "code",
     "collapsed": false,
     "input": [
      "#Variable declaration\n",
      "count_err = 1e-03;    # Fractional error in counting\n",
      "m = 3;    # Plateau slope\n",
      "\n",
      "#Calculations\n",
      "delta_V = count_err*100/m*100;    # Maximum permissible voltage fluctuation in a GM counter, volt\n",
      "\n",
      "#Result\n",
      "print \"The maximum permissible voltage fluctuation in a GM counter = %3.1f volts\"%delta_V\n"
     ],
     "language": "python",
     "metadata": {},
     "outputs": [
      {
       "output_type": "stream",
       "stream": "stdout",
       "text": [
        "The maximum permissible voltage fluctuation in a GM counter = 3.3 volts\n"
       ]
      }
     ],
     "prompt_number": 51
    }
   ],
   "metadata": {}
  }
 ]
}