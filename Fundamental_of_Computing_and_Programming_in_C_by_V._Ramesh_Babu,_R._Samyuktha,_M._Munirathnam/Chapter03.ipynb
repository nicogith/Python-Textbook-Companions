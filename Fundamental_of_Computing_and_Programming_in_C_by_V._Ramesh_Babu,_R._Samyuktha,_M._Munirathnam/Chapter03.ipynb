{
 "metadata": {
  "name": "",
  "signature": "sha256:92464c4be2e3e810ccda180a900c5ec8bb15a9537c93387b95c317c7709c7b7c"
 },
 "nbformat": 3,
 "nbformat_minor": 0,
 "worksheets": [
  {
   "cells": [
    {
     "cell_type": "heading",
     "level": 1,
     "metadata": {},
     "source": [
      "Chapter 03 : Decision Making"
     ]
    },
    {
     "cell_type": "heading",
     "level": 2,
     "metadata": {},
     "source": [
      "Example 1, Page No.:4.79"
     ]
    },
    {
     "cell_type": "code",
     "collapsed": false,
     "input": [
      "#Program using if with multiple statements\n",
      "\n",
      "\n",
      "#Variable Declaration\n",
      "i=0\n",
      "\n",
      "#User Input\n",
      "\n",
      "i =int(raw_input(\"Give the numbers less than 10\"'\\n'))\n",
      "\n",
      "if i<=10:                  #Checking the given value\n",
      "\n",
      "#Result       \n",
      "    print \"The given value of\", i , \"less than 10\"\n",
      "    "
     ],
     "language": "python",
     "metadata": {},
     "outputs": [
      {
       "name": "stdout",
       "output_type": "stream",
       "stream": "stdout",
       "text": [
        "Give the numbers less than 10\n",
        "5\n"
       ]
      },
      {
       "output_type": "stream",
       "stream": "stdout",
       "text": [
        "the given value of 5 less than 10\n"
       ]
      }
     ],
     "prompt_number": 1
    },
    {
     "cell_type": "heading",
     "level": 2,
     "metadata": {},
     "source": [
      "Example: 2, Page No.: 4.79"
     ]
    },
    {
     "cell_type": "code",
     "collapsed": false,
     "input": [
      "##Program for interchange two values using if statement\n",
      "\n",
      "#Variable Declaration\n",
      "\n",
      "a=m=n=0\n",
      "\n",
      "#User Input\n",
      "\n",
      "m=int(raw_input(\"Give the value of m\" '\\t'))\n",
      "n=int(raw_input(\"Give the value of n\" '\\t'))\n",
      "\n",
      "if m>=n :                   #Checking the Given Values\n",
      "    \n",
      "    a=m                     # method for swapping            \n",
      "    m=n\n",
      "    n=a\n",
      "\n",
      "#Result\n",
      "\n",
      "print \"The Swapped Values of m and n are \", m,a"
     ],
     "language": "python",
     "metadata": {},
     "outputs": [
      {
       "name": "stdout",
       "output_type": "stream",
       "stream": "stdout",
       "text": [
        "Give the value of m\t34\n"
       ]
      },
      {
       "name": "stdout",
       "output_type": "stream",
       "stream": "stdout",
       "text": [
        "Give the value of n\t28\n"
       ]
      },
      {
       "output_type": "stream",
       "stream": "stdout",
       "text": [
        "The Swapped Values of m and n are  28 34\n"
       ]
      }
     ],
     "prompt_number": 2
    },
    {
     "cell_type": "heading",
     "level": 2,
     "metadata": {},
     "source": [
      "Example: 3, Page No. 4.81"
     ]
    },
    {
     "cell_type": "code",
     "collapsed": false,
     "input": [
      "#determine the given number is odd or even. \n",
      "\n",
      "#Variable Declaration\n",
      "num=rem=0\n",
      "\n",
      "#User Input\n",
      "num=input(\"Enter the value: \")\n",
      "rem=num%2           \n",
      "if rem==0 :             #Checking condition\n",
      "\n",
      "#Result 1\n",
      "    print \"The given number is Even\"\n",
      "else :\n",
      "    \n",
      "#Result 2\n",
      "    print \"The given number is Odd\"\n",
      "    \n",
      "    "
     ],
     "language": "python",
     "metadata": {},
     "outputs": [
      {
       "name": "stdout",
       "output_type": "stream",
       "stream": "stdout",
       "text": [
        "Enter the value: 80\n"
       ]
      },
      {
       "output_type": "stream",
       "stream": "stdout",
       "text": [
        "The given number is Even\n"
       ]
      }
     ],
     "prompt_number": 4
    },
    {
     "cell_type": "heading",
     "level": 2,
     "metadata": {},
     "source": [
      "Example: 4, Page No.:4.81"
     ]
    },
    {
     "cell_type": "code",
     "collapsed": false,
     "input": [
      "# Find floating point input using if-else statement\n",
      "\n",
      "#Variable Declaration\n",
      "\n",
      "years=seconds=0.0\n",
      "life=0\n",
      "\n",
      "years=float(raw_input(\"Give your Age in years: \"))\n",
      "life=years\n",
      "if life==0:\n",
      "    print \"The given age is not floating value\"\n",
      "    \n",
      "else :\n",
      "    seconds=\"%f\"%float(years*365*24*60*60)\n",
      "    print \"You have lived for\", seconds, \"seconds\""
     ],
     "language": "python",
     "metadata": {},
     "outputs": [
      {
       "name": "stdout",
       "output_type": "stream",
       "stream": "stdout",
       "text": [
        "Give your Age in years: 24\n"
       ]
      },
      {
       "output_type": "stream",
       "stream": "stdout",
       "text": [
        "You have lived for 756864000.000000 seconds\n"
       ]
      }
     ],
     "prompt_number": 7
    },
    {
     "cell_type": "heading",
     "level": 2,
     "metadata": {},
     "source": [
      "Example: 5, Page No. :4.82"
     ]
    },
    {
     "cell_type": "code",
     "collapsed": false,
     "input": [
      "# find biggest among two numbers \n",
      "\n",
      "#Variable Declaration\n",
      "\n",
      "i=j=big=0\n",
      "i,j=input(\"Give two values: \")\n",
      "\n",
      "big=i\n",
      "\n",
      "if big<j :\n",
      "    big=j\n",
      "    \n",
      "elif i<j :\n",
      "    big=j \n",
      "    \n",
      "else:\n",
      "    big = i\n",
      "\n",
      "print \"Biggest number of two numbers: \",big\n",
      "print \"Biggest of two numbers(using else) is: \",big"
     ],
     "language": "python",
     "metadata": {},
     "outputs": [
      {
       "name": "stdout",
       "output_type": "stream",
       "stream": "stdout",
       "text": [
        "Give two values: 45,78\n"
       ]
      },
      {
       "output_type": "stream",
       "stream": "stdout",
       "text": [
        "Biggest number of two numbers:  78\n",
        "Biggest of two numbers(using else) is:  78\n"
       ]
      }
     ],
     "prompt_number": 11
    },
    {
     "cell_type": "heading",
     "level": 2,
     "metadata": {},
     "source": [
      "Example: 6, Page No. : 4.84"
     ]
    },
    {
     "cell_type": "code",
     "collapsed": false,
     "input": [
      "# Program using nested if....else \n",
      "\n",
      "#Variable Declaration\n",
      "\n",
      "n=0\n",
      "\n",
      "#User Input\n",
      "n=int(raw_input(\"Enter the number\"))\n",
      "\n",
      "if n==15:           #Checking Condition\n",
      "    print \"Play Foot ball\"\n",
      "    \n",
      "elif n==10:\n",
      "    print \"Play Cricket\"\n",
      "\n",
      "else :    \n",
      "    print \"Don't Play\" "
     ],
     "language": "python",
     "metadata": {},
     "outputs": [
      {
       "name": "stdout",
       "output_type": "stream",
       "stream": "stdout",
       "text": [
        "Enter the number10\n"
       ]
      },
      {
       "output_type": "stream",
       "stream": "stdout",
       "text": [
        "Play Cricket\n"
       ]
      }
     ],
     "prompt_number": 12
    },
    {
     "cell_type": "heading",
     "level": 2,
     "metadata": {},
     "source": [
      "Example: 7, Page No. :4.85"
     ]
    },
    {
     "cell_type": "code",
     "collapsed": false,
     "input": [
      "#print the number between 10 and 20\n",
      "\n",
      "#Variable declaration\n",
      "\n",
      "i=0\n",
      "\n",
      "#User Input\n",
      "\n",
      "i=input(\"Enter the number: \")\n",
      "\n",
      "if (i>10) & (i<20):\n",
      "    print \"The given value is in between 10 and 20\"\n",
      "\n",
      "else :\n",
      "    print \"The given value is greater than 20 and less than 10\"    "
     ],
     "language": "python",
     "metadata": {},
     "outputs": [
      {
       "name": "stdout",
       "output_type": "stream",
       "stream": "stdout",
       "text": [
        "Enter the number: 15\n"
       ]
      },
      {
       "output_type": "stream",
       "stream": "stdout",
       "text": [
        "The given value is in between 10 and 20\n"
       ]
      }
     ],
     "prompt_number": 14
    },
    {
     "cell_type": "heading",
     "level": 2,
     "metadata": {},
     "source": [
      "Example: 8, Page No. :4.86"
     ]
    },
    {
     "cell_type": "code",
     "collapsed": false,
     "input": [
      "# display the types of characterusing if-else statement\n",
      "\n",
      "#User Input\n",
      "\n",
      "chr= raw_input(\"Enter a Single Character: \")\n",
      "\n",
      "if( ((chr>='a') & (chr<='z')) | ((chr>='A') & (chr<='Z'))):\n",
      "    print \"Given charactered is an Alphabetic\"\n",
      "    \n",
      "elif ((chr>='0') & (chr <='9')):\n",
      "    print \"Given Character is a digit\"\n",
      "    \n",
      "else:\n",
      "    print \"Entered Character is a special character\"\n",
      "    "
     ],
     "language": "python",
     "metadata": {},
     "outputs": [
      {
       "name": "stdout",
       "output_type": "stream",
       "stream": "stdout",
       "text": [
        "Enter a Single Character: M\n"
       ]
      },
      {
       "output_type": "stream",
       "stream": "stdout",
       "text": [
        "Given charactered is an Alphabetic\n"
       ]
      }
     ],
     "prompt_number": 16
    }
   ],
   "metadata": {}
  }
 ]
}