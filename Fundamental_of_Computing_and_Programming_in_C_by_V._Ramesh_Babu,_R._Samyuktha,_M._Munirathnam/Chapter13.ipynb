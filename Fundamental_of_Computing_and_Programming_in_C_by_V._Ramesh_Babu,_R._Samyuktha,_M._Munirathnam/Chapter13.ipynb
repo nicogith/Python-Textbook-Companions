{
 "metadata": {
  "name": "",
  "signature": "sha256:bd4e511a3dbdd189491e3271c86cff9ce5fc919ed7457d400a67c288e55ad433"
 },
 "nbformat": 3,
 "nbformat_minor": 0,
 "worksheets": [
  {
   "cells": [
    {
     "cell_type": "heading",
     "level": 1,
     "metadata": {},
     "source": [
      "Chapter 13 : Pointers"
     ]
    },
    {
     "cell_type": "heading",
     "level": 2,
     "metadata": {},
     "source": [
      "Example: 1, Page Number: 5.104"
     ]
    },
    {
     "cell_type": "code",
     "collapsed": false,
     "input": [
      "#Program to print address and value of variable\n",
      "#Local definitions\n",
      "sno = 39\n",
      "\n",
      "#Result\n",
      "print \"Address of sno = %u\" %id(sno)\n",
      "print \"Value of sno = %d\" %sno"
     ],
     "language": "python",
     "metadata": {},
     "outputs": [
      {
       "output_type": "stream",
       "stream": "stdout",
       "text": [
        "Address of sno = 20917296\n",
        "Value of sno = 39\n"
       ]
      }
     ],
     "prompt_number": 7
    }
   ],
   "metadata": {}
  }
 ]
}