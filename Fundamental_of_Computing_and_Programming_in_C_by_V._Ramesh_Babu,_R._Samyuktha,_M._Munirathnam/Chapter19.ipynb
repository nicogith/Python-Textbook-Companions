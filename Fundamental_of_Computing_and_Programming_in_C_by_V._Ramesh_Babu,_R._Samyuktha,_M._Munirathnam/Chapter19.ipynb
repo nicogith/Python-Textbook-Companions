{
 "metadata": {
  "name": "",
  "signature": "sha256:069422c07d34cc73268583e26cec775bbe1b3930cb154b474b2ff1e109dbe593"
 },
 "nbformat": 3,
 "nbformat_minor": 0,
 "worksheets": [
  {
   "cells": [
    {
     "cell_type": "heading",
     "level": 1,
     "metadata": {},
     "source": [
      "Chapter 19 : Command Line Arguments"
     ]
    },
    {
     "cell_type": "heading",
     "level": 2,
     "metadata": {},
     "source": [
      "Example: 1, Page No.:5.139"
     ]
    },
    {
     "cell_type": "code",
     "collapsed": false,
     "input": [
      "\n",
      "import sys\n",
      "argc=0\n",
      "if argc!=2:\n",
      "    print \"Hellow %s\"%(sys.argv)\n",
      "else:\n",
      "    print \"Forgotted to type name\"\n",
      "    exit(0)\n"
     ],
     "language": "python",
     "metadata": {},
     "outputs": [
      {
       "output_type": "stream",
       "stream": "stdout",
       "text": [
        "Hellow ['-c', '-f', '/home/gayathri/.config/ipython/profile_default/security/kernel-f732916e-2a20-4211-8210-1c4fa7115bd5.json', \"--IPKernelApp.parent_appname='ipython-notebook'\", '--profile-dir', '/home/gayathri/.config/ipython/profile_default', '--parent=1']\n"
       ]
      }
     ],
     "prompt_number": 3
    },
    {
     "cell_type": "heading",
     "level": 2,
     "metadata": {},
     "source": [
      "Example: 2, Page No. 5.139"
     ]
    },
    {
     "cell_type": "code",
     "collapsed": false,
     "input": [
      "import sys\n",
      "\n",
      "argc='0'\n",
      "if argc==2:\n",
      "    print \"Argument supplied is %s\"%(sys.argv)\n",
      "elif argc>2:\n",
      "    print \"Too many arguments supplied \\n\",(sys.argv)\n",
      "else:\n",
      "    print \"One Argument expected\",(sys.argv)\n"
     ],
     "language": "python",
     "metadata": {},
     "outputs": [
      {
       "output_type": "stream",
       "stream": "stdout",
       "text": [
        "Too many arguments supplied \n",
        "['-c', '-f', '/home/gayathri/.config/ipython/profile_default/security/kernel-f732916e-2a20-4211-8210-1c4fa7115bd5.json', \"--IPKernelApp.parent_appname='ipython-notebook'\", '--profile-dir', '/home/gayathri/.config/ipython/profile_default', '--parent=1']\n"
       ]
      }
     ],
     "prompt_number": 6
    },
    {
     "cell_type": "heading",
     "level": 2,
     "metadata": {},
     "source": [
      "Example: 3, Page No. :5.140"
     ]
    },
    {
     "cell_type": "code",
     "collapsed": false,
     "input": [
      "import sys\n",
      "\n",
      "\n",
      "print \"The Arguments to the program are: \"\n",
      "print str(sys.argv)\n",
      "    \n"
     ],
     "language": "python",
     "metadata": {},
     "outputs": [
      {
       "output_type": "stream",
       "stream": "stdout",
       "text": [
        "The Arguments to the program are: \n",
        "['-c', '-f', '/home/gayathri/.config/ipython/profile_default/security/kernel-f732916e-2a20-4211-8210-1c4fa7115bd5.json', \"--IPKernelApp.parent_appname='ipython-notebook'\", '--profile-dir', '/home/gayathri/.config/ipython/profile_default', '--parent=1']\n"
       ]
      }
     ],
     "prompt_number": 30
    }
   ],
   "metadata": {}
  }
 ]
}