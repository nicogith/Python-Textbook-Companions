{
 "metadata": {
  "name": "",
  "signature": "sha256:f1f13cd9c3fdcfa7b8b8c8379d6bf486b07b707956742ab81238144bdac12268"
 },
 "nbformat": 3,
 "nbformat_minor": 0,
 "worksheets": [
  {
   "cells": [
    {
     "cell_type": "heading",
     "level": 1,
     "metadata": {},
     "source": [
      "Chapter 19: Jet Propulsion and Rocket Engines"
     ]
    },
    {
     "cell_type": "heading",
     "level": 2,
     "metadata": {},
     "source": [
      "Example 1, page no. 873"
     ]
    },
    {
     "cell_type": "code",
     "collapsed": false,
     "input": [
      "\n",
      "from __future__ import division\n",
      "\n",
      "from math import sqrt\n",
      "\n",
      "#Variable Declaration: \n",
      "Cpg = 1.13  #Specific heat of gases(in kJ/kg.K):\n",
      "Cpa = 1.005 \n",
      "rg = 1.33\n",
      "ra = 1.4\n",
      "C = 41.84*10**3             #kJ/kg of fuel\n",
      "T1 = 272  #Temperatures(in K):\n",
      "T3 = 1000\n",
      "nc = 0.84 #Compression efficiency:\n",
      "p3 = 3\n",
      "p2 = 3\n",
      "p1 = 0.5\n",
      "p5 = 0.4\n",
      "nt = 0.82 #Turbine efficiency:\n",
      "nn = 0.92 #Nozzle efficiency:\n",
      "Ca = 200  #Speed(in m/s):\n",
      "T2 = T1*(p2/p1)**((ra-1)/ra) #Temperature at state 2(in K):\n",
      "T2a = T1+(T2-T1)/nc #Temperature at state 2'(in K):\n",
      "Wc = Cpa*(T2a-T1) #Compressive work(in kW):\n",
      "r = (C-Cpg*T3)/(Cpg*T3-Cpa*T2a) #Air fuel ratio:\n",
      "T4a = T3-Cpa/Cpg*(T2a-T1)/(1+r) #Temperature at state 4'(in K):\n",
      "T4a = 810.46\n",
      "T4 = T3-(T3-T4a)/nt\n",
      "p4 = p3*(T4/T3)**(rg/(rg-1)) #Pressure of gas leaving turbine(in bar):\n",
      "T5 = T4a*(p5/p4)**((rg-1)/rg) #Temperature at state 5(in K):\n",
      "T5a = T4a-nn*(T4a-T5) #Temperature at state 5'(in K):\n",
      "C5a = sqrt(2*Cpg*(T4a-T5a)*10**3) #Exit jet velocity(in m/s):\n",
      "Ce = C5a\n",
      "T = (1+1/r)*Ce-Ca #Thrust per kg of air per second:\n",
      "\n",
      "#Results: \n",
      "print \"Power required for compressor: \",round(Wc,2),\"kW/kg\"\n",
      "print \"Air fuel ratio: \",round(r,2)\n",
      "print \"Pressure of gas leaving turbine: \",round(p4,2),\"bar\"\n",
      "print \"Thrust: \",round(T,2),\"N/kg/s\""
     ],
     "language": "python",
     "metadata": {},
     "outputs": [
      {
       "output_type": "stream",
       "stream": "stdout",
       "text": [
        "Power required for compressor:  217.55 kW/kg\n",
        "Air fuel ratio:  63.7\n",
        "Pressure of gas leaving turbine:  1.04 bar\n",
        "Thrust:  405.75 N/kg/s\n"
       ]
      }
     ],
     "prompt_number": 2
    },
    {
     "cell_type": "heading",
     "level": 2,
     "metadata": {},
     "source": [
      "Example 2, page no. 876"
     ]
    },
    {
     "cell_type": "code",
     "collapsed": false,
     "input": [
      "\n",
      "from __future__ import division\n",
      "  \n",
      "from math import sqrt\n",
      "\n",
      "#Variable Declaration: \n",
      "T1 = 285                #K\n",
      "p1 = 1                  #bar\n",
      "T3 = 773                #K\n",
      "p2 = 4                  #bar\n",
      "r = 1.4\n",
      "Cpa = 1.005             #kJ/kg.K\n",
      "CV = 43100              #kJ/kg.K\n",
      "T3 = 273+500            #K\n",
      "\n",
      "#Calculations:\n",
      "T2 = T1*(p2/p1)**((r-1)/r) #Temperature at state 2(in K):\n",
      "T2a = T1+1.1*(T2-T1) #Temperature at state 2'(in K):\n",
      "Wc = Cpa*(T2a-T1) #Work required in compressor(in kJ/kg of air):\n",
      "qa = Cpa*(T3-T2a) #Heat added in combustion chamber(in kJ/kg of air):\n",
      "r1 = CV/qa  #Air fuel ratio:\n",
      "T5 = T3*(p1/p2)**((r-1)/r) #Temperature at state 5(in K):\n",
      "hd = Cpa*(T3-T5-T2a+T1) #Enthalpy drop in the nozzle(in kJ/kg of air):\n",
      "Ce = sqrt(2*hd*10**3) #Velocity of exit gas from nozzle(in m/s):\n",
      "T = (1+1/r)*Ce #Thrust(in N/kg/s):\n",
      "\n",
      "#Results: \n",
      "print \"Power required to drive compressor: \",round(Wc,2),\"kW/kg of air\"\n",
      "print \"Air-fuel ratio: \",round(r1,2)\n",
      "print \"Thrust: \",round(Ce,2),\"N/kg of air/s\""
     ],
     "language": "python",
     "metadata": {},
     "outputs": [
      {
       "output_type": "stream",
       "stream": "stdout",
       "text": [
        "Power required to drive compressor:  153.12 kW/kg of air\n",
        "Air-fuel ratio:  127.77\n",
        "Thrust:  449.34 N/kg of air/s\n"
       ]
      }
     ],
     "prompt_number": 4
    },
    {
     "cell_type": "heading",
     "level": 2,
     "metadata": {},
     "source": [
      "Example 3, page no. 877"
     ]
    },
    {
     "cell_type": "code",
     "collapsed": false,
     "input": [
      "\n",
      "from __future__ import division\n",
      "  \n",
      "from math import sqrt\n",
      "\n",
      "#Variable Declaration: \n",
      "Cpg = 1.14  #kJ/kg.K,Specific heat of gases(in kJ/kg.K):\n",
      "Cpa = 1.005 #kJ/kg.K,Specific heat of gases(in kJ/kg.K):\n",
      "nm = 0.96   #Mechanical efficiency:\n",
      "nc = 0.87   #Polytropic efficiency of compressor:\n",
      "nt = 0.90   #Turbine efficiency:\n",
      "nn = 0.95   #Nozzle efficiency:\n",
      "B = 5.5     #By pass ratio:\n",
      "ma = 200    #Mass flow rate of air(in kg/s):\n",
      "p2 = 1.5    #Pressures(in bar):\n",
      "p1 = 1\n",
      "p3 = 28\n",
      "pa = p1\n",
      "T1 = 288    #Temperatures(in K):\n",
      "rg = 1.33\n",
      "ra = 1.4\n",
      "CV = 43100                  #kJ/kg\n",
      "T4 = 1573                   #K\n",
      "\n",
      "#Calculations:\n",
      "a1 = 1/nc*(ra-1)/ra #For compression:a1 = ((ne-1)/ne)\n",
      "a1 = 0.328\n",
      "a2 = nt*(rg-1)/rg #For expansion:a2 = (nt-1)/nt\n",
      "a2 = 0.223\n",
      "T2a = T1*(p2/p1)**a1 #Temperature at state 2'(in K):\n",
      "T3a = T2a*(p3/p2)**a2 #Temperature at state 3'(in K):\n",
      "dT = nn*T2a*(1-(pa/p2)**((ra-1)/ra))#Using nozzle efficiency:\n",
      "C8 = sqrt(2*Cpa*10**3*dT) #Velocity at exit of nozzle(in m/s):\n",
      "mab = ma*B/(B+1) #Mass flow rate of bypass air(in kg/s):\n",
      "mca = ma-mab #Mass flow rate of hot gases(in kg/s):\n",
      "Tb = mab*C8/10**3 #Thrust available due to by pass air(in kN):\n",
      "r1 = (Cpg*T4-Cpa*T3a)/(CV-Cpg*T4) #Air fuel ratio:\n",
      "T5a = T4-(Cpa*(T3a-T2a)/(nm*(1+r1)*Cpg))#Temperature at state 5'(in K):\n",
      "T6a = (Cpg*nm*T5a-(1+B)*Cpa*(T2a-T1))/(Cpg*nm)#Temperature at state 6'(in K):\n",
      "p4 = p3-p2 #Pressure at state 4(in bar):\n",
      "p5 = p4*(T5a/T4)**(1/a2) #Pressure at state 5(in bar):\n",
      "p6 = p5*(T6a/T5a)**(1/a2)#Pressure at state 6(in bar):\n",
      "c = ((rg+1)/2)**(rg/(rg  #Pressure at state 7(in bar):\n",
      "dT1 = nn*T6a*(1-(p7/p6)**((rg-1)/rg))#For exit nozzle(in K):\n",
      "C7 = sqrt(2*Cpg*10**3*dT1) #Velocity at exit of nozzle(in m/s):\n",
      "Tg = mca*C7/10**3 #Thrust due to hot gases(in kN):\n",
      "Tt = Tg+Tb #Total thrust(in kN):\n",
      "st = Tt/ma #Specific thrust(in kN/kg/s):\n",
      "sfc = r1*mca*3600/(Tt*10**3) #Specific fuel consumption(in  kg/h.N):\n",
      "\n",
      "#Results: \n",
      "print \"Specific thrust: \",round(st,3),\"kN/kg/s\"\n",
      "print \"Specific fuel consumption: \",round(sfc,2),\"kg/h.N\""
     ],
     "language": "python",
     "metadata": {},
     "outputs": [
      {
       "output_type": "stream",
       "stream": "stdout",
       "text": [
        "Specific thrust:  0.309 kN/kg/s\n",
        "Specific fuel consumption:  0.05 kg/h.N\n"
       ]
      }
     ],
     "prompt_number": 6
    },
    {
     "cell_type": "heading",
     "level": 2,
     "metadata": {},
     "source": [
      "Example 4, page no. 881"
     ]
    },
    {
     "cell_type": "code",
     "collapsed": false,
     "input": [
      "\n",
      "from __future__ import division\n",
      "\n",
      "#Variable Declaration: \n",
      "Ca = 277.78 #Velociy of turbojet plane(in m/s):\n",
      "r1 = 0.5 #Thrust to velocity ratio:\n",
      "m = 50 #Rate at which air enters(in kg/s):\n",
      "r = 52 #Air fuel ratio:\n",
      "LCV = 43100 #Lower calorific value of fuel:\n",
      "\n",
      "#Calculations:\n",
      "Ce = Ca/r1 #Jet velocity(in m/s):\n",
      "T = (m+m/r)*Ce-m*Ca #Thrust(in N):\n",
      "St = T/m #Specific thrust(in N/kg/s):\n",
      "P = T*Ca/10**3 #Thrust power(in kW):\n",
      "np = 2/(1+1/r1)*100 #Propulsive efficiency:\n",
      "nt = ((1+1/r)*Ce**2-Ca**2)/(2*1/r*LCV)/10 #Thermal efficiency:\n",
      "no = np*nt/100 #Overall efficiency:\n",
      "sfc = m/r*3600/(T) #Specific fuel consumption(in kg/h.N):\n",
      "\n",
      "#Results: \n",
      "print \"Jet velocity: \",round(Ce,2),\"m/s\"\n",
      "print \"Thrust: \",round(T/10**3,2),\"kN\"\n",
      "print \"Specific thrust: \",round(St,2),\"N/kg/s\"\n",
      "print \"Thrust power: \",round(P,2),\"kW\"\n",
      "print \"Propulsive efficiency: \",round(np,2),\"%\"\n",
      "print \"Thermal efficiency: \",round(nt,2),\"%\"\n",
      "print \"Overall efficiency: \",round(no,2),\"%\"\n",
      "print \"Specific fuel consumption: \",round(sfc,4),\"kg/h.N\""
     ],
     "language": "python",
     "metadata": {},
     "outputs": [
      {
       "output_type": "stream",
       "stream": "stdout",
       "text": [
        "Jet velocity:  555.56 m/s\n",
        "Thrust:  14.42 kN\n",
        "Specific thrust:  288.46 N/kg/s\n",
        "Thrust power:  4006.47 kW\n",
        "Propulsive efficiency:  66.67 %\n",
        "Thermal efficiency:  14.32 %\n",
        "Overall efficiency:  9.55 %\n",
        "Specific fuel consumption:  0.24 kg/h.N\n"
       ]
      }
     ],
     "prompt_number": 8
    },
    {
     "cell_type": "heading",
     "level": 2,
     "metadata": {},
     "source": [
      "Example 5, page no. 882"
     ]
    },
    {
     "cell_type": "code",
     "collapsed": false,
     "input": [
      "\n",
      "from __future__ import division\n",
      "  \n",
      "from math import sqrt\n",
      "\n",
      "#Variable Declaration: \n",
      "p1 = 2.2 #Pressures(in bar):\n",
      "T1 = 220 #Temperatures(in K):\n",
      "T4 = 1273\n",
      "C1 = 260 #Velocities(in m/s):\n",
      "nn = 0.85 #Nozzle efficiency:\n",
      "nt = 0.88 #Turbine efficiency:\n",
      "nd = 0.90 #Diffuser efficiency:\n",
      "Cp = 1.005#Specific heat(in kJ/kg.K):\n",
      "r = 1.4 #Adiabatic index of  compression:\n",
      "r1 = 12 #Pressure ratio:\n",
      "T3a = 568.635\n",
      "p6 = 2.2\n",
      "\n",
      "#Calculations:\n",
      "T2 = T1+ C1**2/(2*Cp*1000) #Temperature at state 2(in K):\n",
      "p2 = p1*(T2/T1)**(r/(r-1)) #Pressure at state 2(in bar):\n",
      "p3 = p2*r1\n",
      "p4 = p3\n",
      "T3 = T2*(p3/p2)**((r-1)/r)#Temperature at state 3(in K):\n",
      "T3a = T2+(T3-T2)/nn  #Temperature at state 3'(in K):\n",
      "T5a = T4-(T3a-T2)   #Temperature at state 5'(in K):\n",
      "T4 = T3a -T2 +T5a\n",
      "T5 = T4-(T4-T5a)/nt   #Temperature of state 5(in K):\n",
      "p5 = p4*(T5/T4)**(r/(r-1))  #Pressure at state 5(in bar):\n",
      "T6 = T5*(p6/p5)**((r-1)/r)\n",
      "T2a = T1+(T2-T1)/nd  #Temperature at state 2'(in K):\n",
      "C6 = sqrt(2*(T5-T6)*Cp*10**3)   #Velocity at exit of nozzle(in m/s):\n",
      "\n",
      "#Results: \n",
      "print \"Velocity of exit of nozzle: \",round(C6,2),\"m/s\""
     ],
     "language": "python",
     "metadata": {},
     "outputs": [
      {
       "output_type": "stream",
       "stream": "stdout",
       "text": [
        "Velocity of exit of nozzle:  873.41 m/s\n"
       ]
      }
     ],
     "prompt_number": 12
    },
    {
     "cell_type": "heading",
     "level": 2,
     "metadata": {},
     "source": [
      "Example 6, page no. 885"
     ]
    },
    {
     "cell_type": "code",
     "collapsed": false,
     "input": [
      "\n",
      "from __future__ import division\n",
      " \n",
      "from math import sqrt\n",
      "\n",
      "#Variable Declaration: \n",
      "CV = 45000 #Calorific value(in kJ/kg):\n",
      "T1 = 1000  #Inlet temperature(in C):\n",
      "T4 = T1\n",
      "nn = 0.9   #Nozzle efficiency:\n",
      "nd = 0.9   #Diffuser efficiency:\n",
      "nc = 0.8   #Compressive efficiency:\n",
      "nt = 0.8   #Turbine efficiency:\n",
      "Cp = 1.005 #Specific heat(in kJ/kg.K):\n",
      "p3 = 7.248                  #bar\n",
      "r = 1.4\n",
      "p6 = 0.7\n",
      "R = 0.287 #Gas constant(in kJ/kg.K):\n",
      "T2a = 282.11 #Temperature at state 2(in K):\n",
      "T3a = 568.635\n",
      "\n",
      "#Calculations:\n",
      "p4 = p3-0.15\n",
      "r1 = (CV-T1*Cp)/(Cp*T1-Cp*T3a) #Air fuel ratio:\n",
      "T5a = T4-(T3a-T2a) #Temperature at state 5'(in K):\n",
      "T5 = T4-(T4-T5a)/nt #Temperature at state 5(in K):\n",
      "p5 = p4*(T5/T4)**(r/(r-1))\n",
      "T6 = T5a*(p6/p5)**((r-1)/r) #Temperature at state 6(in K):\n",
      "T6a = T5a-(T5a-T6)*nn #Temperature at state 6'(in K):\n",
      "C6 = sqrt(2*Cp*(T5a-T6a)*10**3) #Velocity at exit of nozzle(in m/s):\n",
      "v = 200/10 #Volume flow rate of air(in m**3/s):\n",
      "m = 0.7*10**2*v/(R*260) #Mass flow rate(in kg/s):\n",
      "St = (1+1/r1)*C6 #Specific thrust(in N/kg of air/s):\n",
      "Tt = m*St #Total thrust(in N):\n",
      "\n",
      "#Results: \n",
      "print \"Specific thrust: \",round(St,2),\"N/kg of air/s\"\n",
      "print \"Total thrust: \",round(Tt,2),\"N\""
     ],
     "language": "python",
     "metadata": {},
     "outputs": [
      {
       "output_type": "stream",
       "stream": "stdout",
       "text": [
        "Specific thrust:  508.22 N/kg of air/s\n",
        "Total thrust:  9535.07 N\n"
       ]
      }
     ],
     "prompt_number": 14
    },
    {
     "cell_type": "heading",
     "level": 2,
     "metadata": {},
     "source": [
      "Example 7, page no. 886"
     ]
    },
    {
     "cell_type": "code",
     "collapsed": false,
     "input": [
      "\n",
      "from __future__ import division\n",
      " \n",
      "from math import sqrt\n",
      "\n",
      "#Variable Declaration: \n",
      "Cpa = 1.005 #Specific heat(in kJ/kg.K):\n",
      "Cpg = 1.087\n",
      "ra = 1.4\n",
      "rg = 1.33\n",
      "R = 0.287 #Gas constant(in kJ/kg.K):\n",
      "C0 = 250 #Speed of aeroplane(in m/s):\n",
      "C4a = 180 #Velocity at exit of turbine(in m/s):\n",
      "CV = 43000                  #kJ/kg\n",
      "P = 800 #Thrust power(in kW):\n",
      "T0 = -20+273 #Temperatures(in K):\n",
      "T2 = 474.25 \n",
      "T3 = 973\n",
      "p0 = 0.3 #Pressures(in bar):\n",
      "p1 = 0.31\n",
      "nc = 0.85 #Compressor efficiency:\n",
      "nj = 0.90 #Jet engine efficiency:\n",
      "r1 = 6 #Pressure ratio:\n",
      "\n",
      "#Calculations:\n",
      "p5 = p0\n",
      "T1 = T0+C0**2/(2*Cpa*10**3)\t#Temperature at state 2(in K):\n",
      "T2a = T1+(T2-T1)/nc\n",
      "p2 = p1*r1 #Pressure at state 2(in bar):\n",
      "p3 = p2\n",
      "FA = (Cpa*T3-Cpg*T2a)/(CV-Cpa*T3) #Fuel air ratio:\n",
      "T4a = T3-Cpa/Cpg*(T2a-T1)/(1+FA) #Temperature at state 4'(in K):\n",
      "T4 = T3-(T3-T4a)/nc #Temperature at state 4(in K):\n",
      "p4 = p3*(T4/T3)**(rg/(rg-1)) #Pressure at state 4(in bar):\n",
      "T5 = T4a*(p5/p4)**((rg-1)/rg) #Temperature at state 5(in K):\n",
      "C5 = sqrt(2*nj*(Cpg*10**3*(T4a-T5)+C4a**2/2)) #Nozzle exit velocity(in m/s):\n",
      "no = (((1+FA)*C5-C0)*C0)/(FA*CV*10**3)*100 #Overall efficiency:\n",
      "ma = P*10**3/(((1+FA)*C5-C0)*C0) #Rate of air consumption(in kg/s):\n",
      "Pt = ma*(1+FA)*Cpg*(T3-T4a) #Power produced by the turbine(in kW):\n",
      "T5a = T4a-((C5**2-C4a**2)/(2*Cpg*10**3)) #Temperature at state 5'(in K):\n",
      "d5a = p5*10**2/(R*T5a)    #Density of exhaust gases(in m**3/kg):\n",
      "Aj = ma*(1+FA)/(C5*d5a) #Jet exit area(in m**2):\n",
      "\n",
      "#Results: \n",
      "print \"Air-fuel ratio: \",round(1/FA,2),\":1\"\n",
      "print \"Rate of air consumption: \",round(ma,2),\"kg/s\"\n",
      "print \"Power produced by turbine: \",round(Pt,2),\"kW\"\n",
      "print \"Jet exit area: \",round(Aj,2),\"m**2\""
     ],
     "language": "python",
     "metadata": {},
     "outputs": [
      {
       "output_type": "stream",
       "stream": "stdout",
       "text": [
        "Air-fuel ratio:  98.67 :1\n",
        "Rate of air consumption:  11.99 kg/s\n",
        "Power produced by turbine:  2694.84 kW\n",
        "Jet exit area:  0.15 m**2\n"
       ]
      }
     ],
     "prompt_number": 16
    },
    {
     "cell_type": "heading",
     "level": 2,
     "metadata": {},
     "source": [
      "Example 8, page no. 889"
     ]
    },
    {
     "cell_type": "code",
     "collapsed": false,
     "input": [
      "\n",
      "from __future__ import division\n",
      "  \n",
      "from math import sqrt,pi\n",
      "\n",
      "#Variable Declaration: \n",
      "Ca = 250 #Speed of jet plane(in m/s):\n",
      "d = 0.15 #Density of air(in kg/m**3):\n",
      "D = 6800 #Drag(in kW):\n",
      "np = 0.56 #Propulsive efficiency:\n",
      "\n",
      "#Calculations:\n",
      "Ce = 2*Ca/np-Ca #Relative velocity(in m/s):\n",
      "C = Ce-Ca #Absolute velocity of jet(in m/s):\n",
      "ma = D/(Ce-Ca) #Mass flow rate(in kg/s):\n",
      "v = ma/d #Volume flow rate(in m**3/s):\n",
      "dj = sqrt(v*4/(2*pi*Ce)) #Jet diameter(in m):\n",
      "    \n",
      "#Results: \n",
      "print \"Jet diamter: \",round(dj*100,1),\"cm\""
     ],
     "language": "python",
     "metadata": {},
     "outputs": [
      {
       "output_type": "stream",
       "stream": "stdout",
       "text": [
        "Jet diamter:  33.8 cm\n"
       ]
      }
     ],
     "prompt_number": 18
    },
    {
     "cell_type": "heading",
     "level": 2,
     "metadata": {},
     "source": [
      "Example 9, page no. 889"
     ]
    },
    {
     "cell_type": "code",
     "collapsed": false,
     "input": [
      "\n",
      "from __future__ import division\n",
      "\n",
      "#Variable Declaration: \n",
      "R = 0.287 #Gas constant(in kJ/kg.K):\n",
      "r1 = 0.4 #Density ratio:\n",
      "Cp = 1.005 #Specific heat(in kJ/kg.K):\n",
      "d = 0.018 #Drag coefficient:\n",
      "Ce = 550 #Jet velocity(in m/s):\n",
      "A = 20 #Wing area(in m**2):\n",
      "Ca = 900*1000/3600   #Speed of aeroplane(in m/s):\n",
      "d1 = 1.01325*10**2/(R*288) #Density of STP(in kg/m**3):\n",
      "d2 = r1*d1 #Density of air at altitude(in kg/m**3):\n",
      "T = d*A*d2*Ca**2/2 #Thrust on aeroplane:\n",
      "ma = T/(Ce-Ca) #Mass flow rate(in kg/s):\n",
      "St = T/ma #Specific thrust(in N/kg of air):\n",
      "\n",
      "#Results: \n",
      "print \"Specific thrust: \",round(St),\"N/kg of air\""
     ],
     "language": "python",
     "metadata": {},
     "outputs": [
      {
       "output_type": "stream",
       "stream": "stdout",
       "text": [
        "Specific thrust:  300.0 N/kg of air\n"
       ]
      }
     ],
     "prompt_number": 20
    },
    {
     "cell_type": "heading",
     "level": 2,
     "metadata": {},
     "source": [
      "Example 10, page no. 890"
     ]
    },
    {
     "cell_type": "code",
     "collapsed": false,
     "input": [
      "\n",
      "from __future__ import division\n",
      "   \n",
      "from math import sqrt\n",
      "\n",
      "#Variable Declaration: \n",
      "Ca = 250 #Speed of air craft(in m/s):\n",
      "m = 55 #Mass flow rate(in kg/s):\n",
      "r = 85 #Air fuel ratio:\n",
      "nc = 0.96 #Combustion efficiency:\n",
      "CV = 43000 #Lower calorific value(in kJ/kg):\n",
      "dh = 220 #Isentropic enthalpy change(in kJ/kg):\n",
      "n = 0.95 #Velocity coefficient:\n",
      "\n",
      "#Calculations:\n",
      "Ce = n*sqrt(2*dh*10**3)#Jet velocity(in m/s):\n",
      "Ce = 615.67\n",
      "St = 400.67 #Specific thrust per kg of air(in N/kg air):\n",
      "r1 = 1/r*3600*m #Fuel flow rate(in kg/hr):\n",
      "sfc = r1/(St*m) #Specific fuel consumption(in kg/N.hr):\n",
      "P = m*(Ce-Ca)*Ca/10**3 #Thrust power(in kW):\n",
      "Pp = m*(Ce**2-Ca**2)/2/10**3 #Propulsive power(in kW):\n",
      "np = P/Pp*100 #Propulsive efficiency:\n",
      "no = P/(m/r*CV*nc)*100 #Overall efficiency:\n",
      "\n",
      "#Results: \n",
      "print \"Propulsive power: \",round(Pp,2),\"kW\"\n",
      "print \"Propulsive efficiency: \",round(np,2),\"%\"\n",
      "print \"Overall efficiency: \",round(no,2),\"%\""
     ],
     "language": "python",
     "metadata": {},
     "outputs": [
      {
       "output_type": "stream",
       "stream": "stdout",
       "text": [
        "Propulsive power:  8705.11 kW\n",
        "Propulsive efficiency:  57.76 %\n",
        "Overall efficiency:  18.82 %\n"
       ]
      }
     ],
     "prompt_number": 22
    }
   ],
   "metadata": {}
  }
 ]
}