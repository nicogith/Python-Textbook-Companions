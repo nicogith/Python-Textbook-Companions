{
 "metadata": {
  "name": "",
  "signature": "sha256:f7a19d25377671432cfde9f9d56148d23c8e97851f20fd5f765a471e71e2f5a2"
 },
 "nbformat": 3,
 "nbformat_minor": 0,
 "worksheets": [
  {
   "cells": [
    {
     "cell_type": "heading",
     "level": 1,
     "metadata": {},
     "source": [
      "Chapter 15: Steam Condenser"
     ]
    },
    {
     "cell_type": "heading",
     "level": 2,
     "metadata": {},
     "source": [
      "Example 1, page no. 695"
     ]
    },
    {
     "cell_type": "code",
     "collapsed": false,
     "input": [
      "from __future__ import division\n",
      " \n",
      "\n",
      "#Variable Declaration: \n",
      "h = 71 #Height of mercury column in condenser(in mm of Hg):\n",
      "d = 0.0135951 #Density of mercury(in kg/cm**3):\n",
      "g = 9.81 #Acceleration due to gravity(in m/s**2):\n",
      "mw = 800 #Rate at which cooling water is circulated(in kg/min):\n",
      "ms = 25 #Condensate available at(in kg/min):\n",
      "R = 0.287 #Gas constant(in kJ/kg.K):\n",
      "Cpw = 4.18 #Specific heat of water(in kJ/kg.K):\n",
      "#From steam tables:\n",
      "ps = 5.62                   #kPa\n",
      "hf = 146.68                 #kJ/kg\n",
      "hfg = 2418.6                #kJ/kg\n",
      "\n",
      "#Calculations:\n",
      "pt = (76-h)*10**(-2)*d*10**6*9.81*10**(-3)#Absolute pressure in the condenser(in kPa):\n",
      "pa = pt-ps #Partial pressure of air(in kPa):\n",
      "ma = pa/((273+35)*R) #Mass of air per m**3 of condenser volume:\n",
      "hs = mw/ms*Cpw*(25-15)+Cpw*30#Enthalpy of steam(in kJ/kg):\n",
      "x = (hs-hf)/hfg#Dryness fraction of the steam entering:\n",
      "n = h*d*10**4*g/(76*d*10**4*g-ps*10**3)*100#Vacuum efficiency:\n",
      "\n",
      "#Results: \n",
      "print \"Mass of air of condenser volume: \",round(ma,3),\"kg/m**3\"\n",
      "print \"Dryness fraction of steam entering: \",round(x,4)\n",
      "print \"Vacuum efficiency: \",round(n,2),\"%\""
     ],
     "language": "python",
     "metadata": {},
     "outputs": [
      {
       "output_type": "stream",
       "stream": "stdout",
       "text": [
        "Mass of air of condenser volume:  0.012 kg/m**3\n",
        "Dryness fraction of steam entering:  0.5442\n",
        "Vacuum efficiency:  98.9 %\n"
       ]
      }
     ],
     "prompt_number": 3
    },
    {
     "cell_type": "heading",
     "level": 2,
     "metadata": {},
     "source": [
      "Example 2, page no. 695"
     ]
    },
    {
     "cell_type": "code",
     "collapsed": false,
     "input": [
      "from __future__ import division\n",
      "  \n",
      "\n",
      "#Variable Declaration: \n",
      "h = 70 #Height of mercury column in condenser(in mm of Hg):\n",
      "d = 0.0135951 #Density of mercury(in kg/cm**3):\n",
      "g = 9.81 #Acceleration due to gravity(in m/s**2):\n",
      "r = 2500 #Leakage of air in condenser:\n",
      "R = 0.287 #Gas constant(in kJ/kg.K):\n",
      "#From steam tables:\n",
      "ps = 4.246                  #kPa \n",
      "vg = 32.89                  #m**3/kg\n",
      "\n",
      "#Calculations:\n",
      "pt = (76-h)*10**(-2)*d*10**6*9.81*10**(-3)#Absolute pressure in the condenser(in kPa):\n",
      "pa = pt-ps #Partial pressure of air(in kPa):\n",
      "m = 1/r #Mass of air accoumpanying per kg of steam due to leakage(in kg):\n",
      "v = m*R*(273+30)/pa #Volume of air per kg of steam(in m**3/kg):\n",
      "m1 = v/vg #Mass of water vapour accompanying air:\n",
      "\n",
      "#Results: \n",
      "print \"Capacity of air pump: \",round(v*10**3,2),\" x 10^-3 m**3 per kg steam\"\n",
      "print \"Mass of water vapour accompanying air: \",round(m1*10**4,2),\" x 10^-4 kg/kg of steam\""
     ],
     "language": "python",
     "metadata": {},
     "outputs": [
      {
       "output_type": "stream",
       "stream": "stdout",
       "text": [
        "Capacity of air pump:  9.26  x 10^-3 m**3 per kg steam\n",
        "Mass of water vapour accompanying air:  2.82  x 10^-4 kg/kg of steam\n"
       ]
      }
     ],
     "prompt_number": 5
    },
    {
     "cell_type": "heading",
     "level": 2,
     "metadata": {},
     "source": [
      "Example 3, page no. 696"
     ]
    },
    {
     "cell_type": "code",
     "collapsed": false,
     "input": [
      "from __future__ import division\n",
      "\n",
      "#Variable Declaration: \n",
      "h = 67 #Height in mercury column in condenser(in cm):\n",
      "pt = 10.67 #Absolute pressure in the condenser(in kPa):\n",
      "ps = 7.384 #Partial pressure of steam(in kPa):\n",
      "ms = 50 #Mass flow rate of steam(in kg/min):\n",
      "mw = 1000 #Mass flow rate of water(in kg/min):\n",
      "Cpw = 4.18 #Specific heat of water(in kJ/kg.K):\n",
      "R = 0.287 #Gas constant(in kJ/kg.K):\n",
      "d = 0.0135951 #Density of mercury(in kg/cm**3):\n",
      "g = 9.81 #Acceleration due to gravity(in m/s**2):\n",
      "#From steam tables:\n",
      "hf = 167.57                 #kJ/kg \n",
      "hfg = 2406.7                #kJ/kg\n",
      "vg = 19.52                  #m**3/kg\n",
      "\n",
      "#Calculations:\n",
      "cv = 76-(75-h) #Corrected vacuum(in cm):\n",
      "pa = pt-ps #Partial pressure of air(in kPa):\n",
      "n = h*d*10**4*g/(75*d*10**4*g-ps*10**3)*100\t#VAcuum efficiency:\n",
      "u = 40-35 #Undercooling of condensate(in C):\n",
      "n1 = (25-10)/(46.9-10)*100 #Condenser efficiency:\n",
      "h = mw/ms*Cpw*(25-10)+Cpw*40 #Enthalpy of steam(in kJ/kg):\n",
      "x = (h-hf)/hfg      #Dryness fraction:\n",
      "m = pa/(R*(273+40)) #Mass of air per m**3 of condenser volume(in kg/m**3):\n",
      "m1 = pa*vg/(R*(273+40)) #Mass of air in 1kg of uncondensate steam(in kg):\n",
      "\n",
      "#Results:\n",
      "print \"Corrected vacuum: \",round(cv,2),\"cm of Hg\"\n",
      "print \"Vacuum efficiency: \",round(n,2),\"%\"\n",
      "print \"Undercooling: \",round(u,2),\"\u00b0C\"\n",
      "print \"Dryness fraction of steam entering: \",round(x,4)\n",
      "print \"Mass of air/m**3 of condenser volume: \",round(m,4),\"kg/m**3\"\n",
      "print \"Mass of air in per kg of uncondensate steam: \",round(m1,3),\"kg\""
     ],
     "language": "python",
     "metadata": {},
     "outputs": [
      {
       "output_type": "stream",
       "stream": "stdout",
       "text": [
        "Corrected vacuum:  68.0 cm of Hg\n",
        "Vacuum efficiency:  96.45 %\n",
        "Undercooling:  5.0 \u00b0C\n",
        "Dryness fraction of steam entering:  0.5209\n",
        "Mass of air/m**3 of condenser volume:  0.0366 kg/m**3\n",
        "Mass of air in per kg of uncondensate steam:  0.714 kg\n"
       ]
      }
     ],
     "prompt_number": 7
    },
    {
     "cell_type": "heading",
     "level": 2,
     "metadata": {},
     "source": [
      "Example 4, page no. 697"
     ]
    },
    {
     "cell_type": "code",
     "collapsed": false,
     "input": [
      "from __future__ import division\n",
      "  \n",
      "from math import pi\n",
      "\n",
      "#Variable Declaration: \n",
      "h = 69 #Height in mercury column in condenser(in cm):\n",
      "T1 = 30 #Inlet temperature(in \u00b0C):\n",
      "L = 60 #Leakage(in kg/hr):\n",
      "d = 0.0135951 #Density of mercury(in kg/cm**3):\n",
      "g = 9.81 #Acceleration due to gravity(in m/s**2):\n",
      "R = 0.287 #Gas constant(in kJ/kg.K):\n",
      "n = 240 #Rpm of engine:\n",
      "r = 1.5 #L/D ratio:\n",
      "#From steam tables:\n",
      "ps = 4.246                  #kPa \n",
      "vg = 32.89                  #m**3/kg\n",
      "pt = (76-h)*d*10**4*g     #Absolute pressure at inlet to air pump(in kPa):\n",
      "pa = 5.09  #Partial pressure of air(in kPa):\n",
      "V = L*R*(273+T1)/pa #Volume of 60 kg air(in m**3/hr):\n",
      "D = ((V*4)/(pi*r*n*60))**(1/3)*100 #Bore diameter(in cm):\n",
      "l = D*r #Stroke length(in cm):\n",
      "m = V/vg #Mass of water vapour extracted with air(in kg/hr):\n",
      "\n",
      "#Results: \n",
      "print \"Capacity of air pump: \",round(V,1),\"m**3/hr\"\n",
      "print \"Bore: \",round(D,2),\"cm\"\n",
      "print \"Stroke: \",round(l,2),\"cm\"\n",
      "print \"Mass of water vapour extracted with air: \",round(m,2),\"kg/hr\""
     ],
     "language": "python",
     "metadata": {},
     "outputs": [
      {
       "output_type": "stream",
       "stream": "stdout",
       "text": [
        "Capacity of air pump:  1025.1 m**3/hr\n",
        "Bore:  39.24 cm\n",
        "Stroke:  58.86 cm\n",
        "Mass of water vapour extracted with air:  31.17 kg/hr\n"
       ]
      }
     ],
     "prompt_number": 9
    },
    {
     "cell_type": "heading",
     "level": 2,
     "metadata": {},
     "source": [
      "Example 5, page no. 698"
     ]
    },
    {
     "cell_type": "code",
     "collapsed": false,
     "input": [
      "from __future__ import division\n",
      " \n",
      "\n",
      "#Variable Declaration: \n",
      "h = 70 #Height in mercury column in condenser(in cm):\n",
      "T = 30+273 #Inlet temperature(in K):\n",
      "m = 5*10**(-4) #Leakage(in kg/kg of steam):\n",
      "d = 0.0135951 #Density of mercury(in kg/cm**3):\n",
      "g = 9.81 #Acceleration due to gravity(in m/s**2):\n",
      "R = 0.287 #Gas constant(in kJ/kg.K):\n",
      "Cpw = 4.18 #Specific heat of water(in kJ/kg.K):\n",
      "dT = 15 #Increase in temperature of cooling water(in K):\n",
      "x = 0.90 #Dryness fraction:\n",
      "#From steam tables:\n",
      "hf = 125.79                 #kJ/kg\n",
      "hfg = 2430.5                #kJ/kg\n",
      "vg = 32.89                  #m**3/kg\n",
      "ps = 4.246                  #kPa\n",
      "\n",
      "#Calculations:\n",
      "pt = (77-h)*d*10**4*g    #Absolute pressure in condenser(in kPa):\n",
      "pa = 5.094 #Partial pressure of air(in kPa):\n",
      "V = m*10**3*R*T/pa    #Volume of air extracted per minute(in m**3/min):\n",
      "ms = V/vg      #Mass of steam extracted in maixture(in kg/min):\n",
      "mt = m*10**3+ms    #Mass handled by air extraction pump(in kg/min):\n",
      "h = hf+x*hfg #Enthalpy of steam entering(in kJ/kg):\n",
      "mw = 1000*(h-Cpw*T)/(Cpw*dT) #Water circulation rate(in kg/min):\n",
      "\n",
      "#Results: \n",
      "print \"Mass handled by air pump: \",round(mt,4),\"kg/min\"\n",
      "print \"Water circulation rate: \",round(mw,2),\"kg/min\""
     ],
     "language": "python",
     "metadata": {},
     "outputs": [
      {
       "output_type": "stream",
       "stream": "stdout",
       "text": [
        "Mass handled by air pump:  0.7595 kg/min\n",
        "Water circulation rate:  16693.78 kg/min\n"
       ]
      }
     ],
     "prompt_number": 11
    },
    {
     "cell_type": "heading",
     "level": 2,
     "metadata": {},
     "source": [
      "Example 6, page no. 699"
     ]
    },
    {
     "cell_type": "code",
     "collapsed": false,
     "input": [
      "from __future__ import division\n",
      " \n",
      "#Variable Declaration: \n",
      "h = 70 #Height in mercury column in condenser(in cm):\n",
      "T = 30+273 #Inlet temperature(in K):\n",
      "x = 0.85 #Dryness fraction:\n",
      "m = 300 #Rate at which steam enters(in kg/min):\n",
      "v = 50 #Velocity of water flow:\n",
      "ph = 5 #Pressure head(in m):\n",
      "d = 0.0135951 #Density of mercury(in kg/cm**3):\n",
      "g = 9.81 #Acceleration due to gravity(in m/s**2):\n",
      "R = 0.287 #Gas constant(in kJ/kg.K):\n",
      "Cpw = 4.18 #Specific heat of water(in kJ/kg.K):\n",
      "#From steam tables:\n",
      "ps = 4.246                  #kPa \n",
      "mw = 7415                   #kg/min\n",
      "A = 24.79 #Cooling surface area required(in m**2):\n",
      "\n",
      "#Calculations:\n",
      "pt = (76-h)*d*10**4*g #Absolute pressure in condenser(in kPa):\n",
      "pa = pt-ps #Partial pressure of air(in kPa):\n",
      "V = mw/1000 #Volume flow of water(in m**3/min):\n",
      "a = V/v #Flow surface area required(in m**2):\n",
      "vh = 1/2*(v/60)**2/g #Velocity head present(in m):\n",
      "th = ph+vh #Total head required(in m):\n",
      "\n",
      "#Results:\n",
      "print \"Flow surface area required: \",round(a,4),\"m**2\"  \n",
      "print \"Cooling surface area required: \",round(A,2),\"m**2\"\n",
      "print \"Head required: \",round(th,4),\"m\""
     ],
     "language": "python",
     "metadata": {},
     "outputs": [
      {
       "output_type": "stream",
       "stream": "stdout",
       "text": [
        "Flow surface area required:  0.1483 m**2\n",
        "Cooling surface area required:  24.79 m**2\n",
        "Head required:  5.0354 m\n"
       ]
      }
     ],
     "prompt_number": 13
    },
    {
     "cell_type": "heading",
     "level": 2,
     "metadata": {},
     "source": [
      "Example 7, page no. 700"
     ]
    },
    {
     "cell_type": "code",
     "collapsed": false,
     "input": [
      "from __future__ import division\n",
      "   \n",
      "#Variable Declaration: \n",
      "m1 = 350 #Mass of steam entering(in kg/min):\n",
      "v = 0.02 #Volume of water required(in m**3 per kg steam):\n",
      "r = 0.05/100 #Amount of air mass going into condenser:\n",
      "r1 = 5/100 #Volume of air dissolved in the water injected:\n",
      "h = 68 #Height in mercury column in condenser(in cm):\n",
      "T = 20+273 #Inlet temperature(in K):\n",
      "p = 101.3 #Atmospheric pressure(in kPa):\n",
      "d = 0.0135951 #Density of mercury(in kg/cm**3):\n",
      "g = 9.81 #Acceleration due to gravity(in m/s**2):\n",
      "R = 0.287 #Gas constant(in kJ/kg.K):\n",
      "Cpw = 4.18 #Specific heat of water(in kJ/kg.K):\n",
      "n = 0.90 #Volumetric efficiency:\n",
      "#From steam tables:\n",
      "ps = 4.246 #kPa \n",
      "vf = 0.001004 #m**3/kg\n",
      "\n",
      "#Calculations:\n",
      "pt = (76-h)*d*10**4*g*10**(-3)#Absolute pressure in condenser(in kPa):\n",
      "pa = pt-ps #Partial pressure of air(in kPa):\n",
      "V1 = m1*v #Volume of cooling water required per minute(in m**3/min):\n",
      "m2 = m1*r #Mass of air going into condenser(in kg/min):\n",
      "V = V1*r1 #Volume of air entering per minute with cooling water(in m**3/min):\n",
      "m = p*V/(R*T) #Mass of air with cooling water(in kg):\n",
      "mt = m+m2 #Total mass of air inside condenser(in kg):\n",
      "V2 = mt*R*(273+30)/pa #Volume of air corresponding:\n",
      "V3 = m1*vf #Volume of steam condensed(in m**3/min):\n",
      "Vt = V3+V2+V1 #Total volume(in m**3/min):\n",
      "C = Vt/n #Actual capacity of air pump(in m**3/min):\n",
      "\n",
      "#Results: \n",
      "print \"Capacity of air pump: \",round(C,2),\"m**3/min\""
     ],
     "language": "python",
     "metadata": {},
     "outputs": [
      {
       "output_type": "stream",
       "stream": "stdout",
       "text": [
        "Capacity of air pump:  17.14 m**3/min\n"
       ]
      }
     ],
     "prompt_number": 15
    },
    {
     "cell_type": "heading",
     "level": 2,
     "metadata": {},
     "source": [
      "Example 8, page no. 701"
     ]
    },
    {
     "cell_type": "code",
     "collapsed": false,
     "input": [
      "from __future__ import division\n",
      "\n",
      "#Variable Declaration: \n",
      "H = 65 #Height in mercury column in condenser(in cm):\n",
      "ms = 20 #Rate at which steam enters(in kg/min):\n",
      "m = 12 #Mass of cooling water per kg of steam:\n",
      "H1 = 66 #Height in mercury column in air pump(in cm):\n",
      "p = 101.3 #Atmospheric pressure(in kPa):\n",
      "d = 0.0135951 #Density of mercury(in kg/cm**3):\n",
      "g = 9.81 #Acceleration due to gravity(in m/s**2):\n",
      "R = 0.287 #Gas constant(in kJ/kg.K):\n",
      "Cpw = 4.18 #Specific heat of water(in kJ/kg.K):\n",
      "#From steam tables:\n",
      "ps = 7.384                  #kPa\n",
      "ps1 = 5.628                 #kPa\n",
      "hf = 167.57                 #kJ/kg\n",
      "hfg = 2406.7                #kJ/kg\n",
      "\n",
      "#Calculations:\n",
      "pt = (76-H)*d*10**4*g*10**(-3)      #Absolute pressure in condenser(in kPa):\n",
      "pa = pt-ps       #Partial pressure of air(in kPa):\n",
      "mw = m*ms       #Cooling water required(in kg/min):\n",
      "h = ((ms+mw)*Cpw*40-mw*Cpw*20)/ms #Enthalpy of steam entering:\n",
      "x = (h-hf)/hfg      #Dryness fraction of steam entering:\n",
      "pt1 = (76-H1)*d*10**4*g*10**(-3) #Absolute partial pressure at suction in air pump(in kPa): \n",
      "pa1 = pt1-ps1 #Partial pressure of air(in kPa):\n",
      "V = 2       #Volume of mixture(in m**3):\n",
      "m1 = pa1*V/(R*(273+35)) #Mass of air entering(in kg/min):\n",
      "H2 = (p-pt)/(g*d*10**3) #Head(in m):\n",
      "\n",
      "#Results: \n",
      "print \"Dryness fraction of steam entering: \",round(x,3)\n",
      "print \"Mass of air entering: \",round(m1,4),\"kg/min\"\n",
      "print \"Head: \",round(H2,4),\"m\""
     ],
     "language": "python",
     "metadata": {},
     "outputs": [
      {
       "output_type": "stream",
       "stream": "stdout",
       "text": [
        "Dryness fraction of steam entering:  0.417\n",
        "Mass of air entering:  0.1744 kg/min\n",
        "Head:  0.6496 m\n"
       ]
      }
     ],
     "prompt_number": 17
    },
    {
     "cell_type": "heading",
     "level": 2,
     "metadata": {},
     "source": [
      "Example 9, page no. 702"
     ]
    },
    {
     "cell_type": "code",
     "collapsed": false,
     "input": [
      "from __future__ import division\n",
      "\n",
      "#Variable Declaration: \n",
      "m = 3  #Leakage(in kg/min):\n",
      "g = 9.81  #Acceleration due to gravity(in m/s**2):\n",
      "R = 0.287  #Gas constant(in kJ/kg.K):\n",
      "#From steam tables:\n",
      "ps = 5.628                      #kPa\n",
      "ps1 = 5.075                     #kPa\n",
      "ps2 = 5.352                     #kPa\n",
      "pt = ps #Absolute pressure in condenser(in kPa):\n",
      "\n",
      "#Calculations:\n",
      "pa1 = pt-ps1  #Partial pressure of air(in kPa):\n",
      "V1 = m*R*(273+33)/pa1 #Volume of air handled by air pump(in m**3/hr):\n",
      "pa2 = pt-ps2 #Partial pressure of air(in kPa):\n",
      "V2 = m*R*(273+34)/pa2  #Volume of mixture handled(in m**3/hr):\n",
      "\n",
      "#Results: \n",
      "print \"Volume of air handled: \",round(V1,2),\"m**3/hr\"\n",
      "print \"Volume of mixture handled: \",round(V2,2),\"m**3/hr\""
     ],
     "language": "python",
     "metadata": {},
     "outputs": [
      {
       "output_type": "stream",
       "stream": "stdout",
       "text": [
        "Volume of air handled:  476.43 m**3/hr\n",
        "Volume of mixture handled:  957.71 m**3/hr\n"
       ]
      }
     ],
     "prompt_number": 19
    },
    {
     "cell_type": "heading",
     "level": 2,
     "metadata": {},
     "source": [
      "Example 10, page no. 703"
     ]
    },
    {
     "cell_type": "code",
     "collapsed": false,
     "input": [
      "from __future__ import division\n",
      "\n",
      "#Variable Declaration: \n",
      "H1 = 72 #Height in mercury column at inlet in condenser(in cm):\n",
      "H2 = 73 #Height in mercury column at outlet in condenser(in cm):\n",
      "x = 0.92 #Dryness fraction:\n",
      "d = 0.0135951 #Density of mercury(in kg/cm**3):\n",
      "g = 9.81 #Acceleration due to gravity(in m/s**2):\n",
      "R = 0.287 #Gas constant(in kJ/kg.K):\n",
      "Cpw = 4.18 #Specific heat of water(in kJ/kg.K):\n",
      "#From steam tables:\n",
      "hf = 141.97                 #kJ/kg\n",
      "hfg = 2421.33               #kJ/kg\n",
      "Tsat1 = 33.87               #\u00b0C\n",
      "Tsat2 = 28.96               #\u00b0C\n",
      "\n",
      "#Calculations:\n",
      "p1 = (76-H1)*d*10**4*g*10**(-3) #Inlet pressure in condenser(in kPa):\n",
      "p2 = (76-H2)*d*10**4*g*10**(-3) #Outlet pressure in the condenser(in kPa):\n",
      "u = Tsat1-Tsat2 #Undercooling(in C):\n",
      "h = hf+x*hfg #Enthalpy of steam entering(in kJ/kg):\n",
      "m = (h-Cpw*Tsat2)/(Cpw*13.87) #Cooling water requirement(in kg/kg steam):\n",
      "\n",
      "#Results: \n",
      "print \"Undercooling: \",round(u,2),\"\u00b0C\"\n",
      "print \"Cooling water requirement: \",round(m,2),\"kg/kg steam\""
     ],
     "language": "python",
     "metadata": {},
     "outputs": [
      {
       "output_type": "stream",
       "stream": "stdout",
       "text": [
        "Undercooling:  4.91 \u00b0C\n",
        "Cooling water requirement:  38.78 kg/kg steam\n"
       ]
      }
     ],
     "prompt_number": 21
    }
   ],
   "metadata": {}
  }
 ]
}