{
 "metadata": {
  "name": "",
  "signature": "sha256:6a2922d727738ae70604bae46fb35f03608e71a4b1a12c93dd485fb1323281a2"
 },
 "nbformat": 3,
 "nbformat_minor": 0,
 "worksheets": [
  {
   "cells": [
    {
     "cell_type": "heading",
     "level": 1,
     "metadata": {},
     "source": [
      "Chapter 11: Boilers and Boiler Calculations"
     ]
    },
    {
     "cell_type": "heading",
     "level": 2,
     "metadata": {},
     "source": [
      "Example 1, page no. 481"
     ]
    },
    {
     "cell_type": "code",
     "collapsed": false,
     "input": [
      "from __future__ import division\n",
      "\n",
      "#Variable Declaration: \n",
      "H = 30 #Height of chimney(in m):\n",
      "Ta = 27+273 #Ambient air temperature(in K):\n",
      "m = 20 #Mass per kg of fuel required for complete combustion(in kg):\n",
      "hw = 12 #Height in the water column(in mm):\n",
      "\n",
      "#Calculations:\n",
      "Tg = (Ta*353*H)/(353*H-hw*Ta)*(m)/(m+1)#Temperature of burnt gases(in K):\n",
      "\n",
      "#Results:\n",
      "print \"Temperature of the burnt gases: \",round(Tg,2),\"K\""
     ],
     "language": "python",
     "metadata": {},
     "outputs": [
      {
       "output_type": "stream",
       "stream": "stdout",
       "text": [
        "Temperature of the burnt gases:  432.86 K\n"
       ]
      }
     ],
     "prompt_number": 3
    },
    {
     "cell_type": "heading",
     "level": 2,
     "metadata": {},
     "source": [
      "Example 2, page no. 482"
     ]
    },
    {
     "cell_type": "code",
     "collapsed": false,
     "input": [
      "from __future__ import division\n",
      "\n",
      "#Variable Declaration: \n",
      "m = 18 #Mass per kg of fuel required for complete combustion(in kg):\n",
      "hw = 20 #Height in the water column(in mm):\n",
      "Ta = 27+273 #Ambient air temperature(in K):\n",
      "Tg = 300+273 #Temperature of burnt gases(in K):\n",
      "\n",
      "#Calculations:\n",
      "H = hw/(353*(1/Ta-(m+1)/(m*Tg)))#Height of chimney(in m):\n",
      "\n",
      "#Results:\n",
      "print \"Height of chimney: \",round(H,2),\"m\""
     ],
     "language": "python",
     "metadata": {},
     "outputs": [
      {
       "output_type": "stream",
       "stream": "stdout",
       "text": [
        "Height of chimney:  37.99 m\n"
       ]
      }
     ],
     "prompt_number": 5
    },
    {
     "cell_type": "heading",
     "level": 2,
     "metadata": {},
     "source": [
      "Example 3, page no. 482"
     ]
    },
    {
     "cell_type": "code",
     "collapsed": false,
     "input": [
      "from __future__ import division\n",
      "\n",
      "#Variable Declaration: \n",
      "H = 20 #Height of chimney(in m):\n",
      "Tg = 380+273 #Temperature of burnt gases(in K):\n",
      "Ta = 27+273 #Ambient air temperature(in K):\n",
      "\n",
      "#Calculations:\n",
      "m = 2*Ta/(Tg-2*Ta)   #Air supplied(in kg air per fuel):\n",
      "\n",
      "#Results:\n",
      "print \"Air supplied:\",round(m,2),\"kg/kg of fuel\""
     ],
     "language": "python",
     "metadata": {},
     "outputs": [
      {
       "output_type": "stream",
       "stream": "stdout",
       "text": [
        "Air supplied: 11.32 kg/kg of fuel\n"
       ]
      }
     ],
     "prompt_number": 7
    },
    {
     "cell_type": "heading",
     "level": 2,
     "metadata": {},
     "source": [
      "Example 4, page no. 482"
     ]
    },
    {
     "cell_type": "code",
     "collapsed": false,
     "input": [
      "from __future__ import division\n",
      "\n",
      "#Variable Declaration: \n",
      "H = 60   #Height of chimney(in m):\n",
      "Ta = 17+273 #Ambient air temperature(in K):\n",
      "Tg = 300+273 #Temperature of burnt gases(in K):\n",
      "Tga = 150+273 #Temperature of the artificial burnt gases(in K):\n",
      "m = 19  #Mass per kg of fuel required for complete combustion(in kg):\n",
      "Cpg = 1.0032 #Specific heat of hot gases(in kJ/kg.K):\n",
      "c = 32604 #Calorific value of burnt fuel(in kJ/kg):\n",
      "\n",
      "#Calculations:\n",
      "hw = 353*H*(1/Ta-(m+1)/(m*Tg)) #Draught (in mm of water column):\n",
      "n = 9.81*H*(m/(m+1)*Tg/Ta-1)/(Cpg*(Tg-Tga)*10**3)*100 #Chimney efficiency:\n",
      "Q = (m+1)*Cpg*(Tg-Tga) #Extra heat carried away by flue gases(in kJ):\n",
      "\n",
      "#Results:\n",
      "print \"Draught: \",round(hw,2),\" mm of water\"\n",
      "print \"Chimney efficiency\",round(n,4),\"%\"\n",
      "print \"Extra heat carried away by flue gases per kg of fuel burnt\",round(Q,1),\" kJ\""
     ],
     "language": "python",
     "metadata": {},
     "outputs": [
      {
       "output_type": "stream",
       "stream": "stdout",
       "text": [
        "Draught:  34.13  mm of water\n",
        "Chimney efficiency 0.3431 %\n",
        "Extra heat carried away by flue gases per kg of fuel burnt 3009.6  kJ\n"
       ]
      }
     ],
     "prompt_number": 9
    },
    {
     "cell_type": "heading",
     "level": 2,
     "metadata": {},
     "source": [
      "Example 5, page no. 483"
     ]
    },
    {
     "cell_type": "code",
     "collapsed": false,
     "input": [
      "from __future__ import division\n",
      "\n",
      "#Variable Declaration: \n",
      "H = 80   #Height of chimney(in m):\n",
      "Ta = 27+273 #Ambient air temperature(in K):\n",
      "m = 20 #Mass per kg of fuel required for complete combustion(in kg):\n",
      "Tga = 110+273 #Temperature of the artificial burnt gases(in K):\n",
      "Cpg = 1.0032 #Specific heat of hot gases(in kJ/kg.K):\n",
      "\n",
      "#Calculations:\n",
      "Tg = Ta*2*(m+1)/m #Temperature of burnt gases(in K):\n",
      "hw = 353*H*(1/Ta-(m+1)/(m*Tg)) #Draught in water column(in mm):\n",
      "n = 9.81*H*(m/(m+1)*Tg/Ta-1)/(Cpg*(Tg-Tga)*10**3)*100 #Chimney efficiency:\n",
      "\n",
      "#Results:\n",
      "print \"Hot gas temperature in chimney: \",round(Tg),\"K\"\n",
      "print \"Natural draught: \",round(hw,2),\"mm of water\"\n",
      "print \"Chimney efficiency: \",round(n,4),\"%\""
     ],
     "language": "python",
     "metadata": {},
     "outputs": [
      {
       "output_type": "stream",
       "stream": "stdout",
       "text": [
        "Hot gas temperature in chimney:  630.0 K\n",
        "Natural draught:  47.07 mm of water\n",
        "Chimney efficiency:  0.3167 %\n"
       ]
      }
     ],
     "prompt_number": 12
    },
    {
     "cell_type": "heading",
     "level": 2,
     "metadata": {},
     "source": [
      "Example 6, page no. 484"
     ]
    },
    {
     "cell_type": "code",
     "collapsed": false,
     "input": [
      "from __future__ import division\n",
      "   \n",
      "from math import sqrt,pi\n",
      "\n",
      "#Variable Declaration: \n",
      "R = 2.5*10**3 #Rate at which coal is burnt(in kg/hr):\n",
      "m = 20   #Mass per kg of fuel required for complete combustion(in kg):\n",
      "Tg = 327+273 #Temperature of burnt gases(in K):\n",
      "Ta = 27+273 #Ambient air temperature(in K):\n",
      "h = 7+6+3+2 #Pressure head(in mm):\n",
      "na = 0.90 #Ratio of actual natural draught to theoretical draught:\n",
      "g = 9.81 #Acceleration due to gravity(in m/s**2):\n",
      "\n",
      "#Calculations:\n",
      "hw = h/na #Actual natural draught(in mm of water):\n",
      "H = hw/(353*(1/Ta-(m+1)/(m*Tg))) #Height of chimney(in m):\n",
      "dg = 353/Tg*(m+1)/m #Density of hot gases(in kg/m**3):\n",
      "hg = H*((m+1)/m*Tg/Ta-1) #Height of hot gases column(in m):\n",
      "Mg = R*hw/3600 #Mass flow rate of hot gases(in kg/s):\n",
      "C = sqrt(2*g*hg) #Velocity of got gases(in m/s):\n",
      "D = sqrt((4*Mg)/(pi*C*dg)) #Diameter of chimney(in m):\n",
      "\n",
      "#Results:\n",
      "print \"Height of chimney:\",round(H,2),\"m\"\n",
      "print \"Diameter of chimney:\",round(D,2),\"m\""
     ],
     "language": "python",
     "metadata": {},
     "outputs": [
      {
       "output_type": "stream",
       "stream": "stdout",
       "text": [
        "Height of chimney: 35.78 m\n",
        "Diameter of chimney: 1.01 m\n"
       ]
      }
     ],
     "prompt_number": 14
    },
    {
     "cell_type": "heading",
     "level": 2,
     "metadata": {},
     "source": [
      "Example 7, page no. 485"
     ]
    },
    {
     "cell_type": "code",
     "collapsed": false,
     "input": [
      "from __future__ import division\n",
      " \n",
      "#Variable Declaration: \n",
      "hw = 50    #Draught in water column(in mm):\n",
      "T = 300+273 #Temperature of burnt gases(in K):\n",
      "m = 19   #Mass per kg of fuel required for complete combustion(in kg):\n",
      "T1 = 27+273 #Ambient air temperature(in K):\n",
      "T0 = 273 #Zero temperature(in K):\n",
      "n = 0.90 #Mechanical efficiency:\n",
      "d = 1.293 #Density of hot gases(in kg/m**3):\n",
      "\n",
      "#Calculations:\n",
      "M = 2000/3600 #Rate at which coal is burnt(in kg/s):\n",
      "P = hw*9.81 #Pressure applied by the draught water(in N/m**2):\n",
      "PFD = P*m*M*T1/(d*T0*n*1000) #Power required in FD fan(kW):\n",
      "P1D = P*m*M*T/(d*T0*n*1000) #Power required in 1D fan(kW):\n",
      "\n",
      "#Results:\n",
      "print \"Power for FD fan:\",round(PFD,2),\"kW\"\n",
      "print \"Power for 1D fan:\",round(P1D,2),\"kW\""
     ],
     "language": "python",
     "metadata": {},
     "outputs": [
      {
       "output_type": "stream",
       "stream": "stdout",
       "text": [
        "Power for FD fan: 4.89 kW\n",
        "Power for 1D fan: 9.34 kW\n"
       ]
      }
     ],
     "prompt_number": 16
    },
    {
     "cell_type": "heading",
     "level": 2,
     "metadata": {},
     "source": [
      "Example 8, page no. 486"
     ]
    },
    {
     "cell_type": "code",
     "collapsed": false,
     "input": [
      "from __future__ import division\n",
      "\n",
      "#Variable Declaration: \n",
      "Cpg = 1.0032 #Specific heat of hot gases(in kJ/kg.K):\n",
      "Tg = 177+273 #Temperature of burnt gases(in K):\n",
      "Ta = 27+273 #Ambient air temperature(in K):\n",
      "Tn = 327+273 #Natural draught temperature(in K):\n",
      "mn = 25     #Mass per kg of fuel required for natural draught(in kg):\n",
      "ma = 20  #Mass per kg of fuel required for artificial draught(in kg):\n",
      "r = Tg/Ta #Ratio of brake power for induced draught to forced draught:\n",
      "\n",
      "#Calculations:\n",
      "Qgad = (ma+1)*Cpg*(Tg-Ta) #Heat carried by hot flue gases in artificial draught(in per kg of fuel burnt):\n",
      "Qgnd = (mn+1)*Cpg*(Tn-Ta) #Heat carried by hot flue gases in natural draught(in per kg of fuel burnt):\n",
      "rh = Qgad/Qgnd #Ratio of heat carried away:\n",
      "\n",
      "#Results:\n",
      "print \"Ratio of power required: \",round(r,1)\n",
      "print \"Ratio of heat carried away: \",round(rh,3)"
     ],
     "language": "python",
     "metadata": {},
     "outputs": [
      {
       "output_type": "stream",
       "stream": "stdout",
       "text": [
        "Ratio of power required:  1.5\n",
        "Ratio of heat carried away:  0.404\n"
       ]
      }
     ],
     "prompt_number": 18
    },
    {
     "cell_type": "heading",
     "level": 2,
     "metadata": {},
     "source": [
      "Example 9, page no. 486"
     ]
    },
    {
     "cell_type": "code",
     "collapsed": false,
     "input": [
      "from __future__ import division\n",
      "\n",
      "#Variable Declaration: \n",
      "T = 27+273 #Feed water supply temperature(in K):\n",
      "P = 10    #Mean steam generation pressure(in bar):\n",
      "x = 0.95 #Dryness fravtion of steam generated:\n",
      "Q = 2500 #Feed water supplied(in kg/hr):\n",
      "Q1 = 275 #Coal burnt(in kg/hr):\n",
      "d = 300   #Difference in mass of water after trial:\n",
      "hf = 762.81 #kJ/kg #From steam tables:\n",
      "hg = 2778.1 #kJ/kg\n",
      "hfg = 2015.29 #kJ/kg\n",
      "\n",
      "#Calculations:\n",
      "h = hf+x*hfg #Enthalpy of steam generated(in kJ/kg):\n",
      "mw = Q+d #Mass of water evaporator per hour(in kg/hr):\n",
      "Ae = mw/Q1 #Actual evaporation(in per kg of coal):\n",
      "Ee = Ae*h/2257 #Equivalent evaporation(in kg per kg of coal):\n",
      "\n",
      "#Results:\n",
      "print \"Actual evaporation: \",round(Ae,2),\" kg per kg of coal\"\n",
      "print \"Equivalent evaporation: \",round(Ee,2),\"kg per kg of coal\""
     ],
     "language": "python",
     "metadata": {},
     "outputs": [
      {
       "output_type": "stream",
       "stream": "stdout",
       "text": [
        "Actual evaporation:  10.18  kg per kg of coal\n",
        "Equivalent evaporation:  12.08 kg per kg of coal\n"
       ]
      }
     ],
     "prompt_number": 22
    },
    {
     "cell_type": "heading",
     "level": 2,
     "metadata": {},
     "source": [
      "Example 10, page no. 487"
     ]
    },
    {
     "cell_type": "code",
     "collapsed": false,
     "input": [
      "from __future__ import division\n",
      "  \n",
      "#Variable Declaration: \n",
      "p = 10  #Average pressure of the steam(in bar):\n",
      "Ww = 15  #Weight of water consumed(in ton):\n",
      "Wc = 1.5 #Weight of coal produced(in ton):\n",
      "n = 1-0.03-0.04 #Percentage coal that caan be burnt:\n",
      "nm = 0.03 #Composition of moisture in coal:\n",
      "Tf = 35  #Temperature of feed water(in C):\n",
      "hg = 2778.1     #From steam tables(kJ/kg) \n",
      "\n",
      "#Calculations:\n",
      "h = hg-4.18*Tf #Enthalpy of steam generated(in kJ/kg):\n",
      "m = Ww/Wc #Steam generated per kg of coal(in kg):\n",
      "nb = m*h/(30.1*10**3)*100 #Boiler efficiency:\n",
      "Ee = m*h/(2257*(1-nm)) #Equivalent evaporation per kg of dry coal(in kg:\n",
      "Eea = Ee*(1-nm)/n #Equivalent evaporation per kg of combustible present in coal(in kg):\n",
      "\n",
      "#Results:\n",
      "print \"Boiler efficiency: \",round(nb,2),\"%\"\n",
      "print \"Equivalent evaporation per kg of dry coal: \",round(Ee,2),\"kg\"\n",
      "print \"Equivalent evaporation per kg of combustible present in coal: \",round(Eea,2),\"kg\""
     ],
     "language": "python",
     "metadata": {},
     "outputs": [
      {
       "output_type": "stream",
       "stream": "stdout",
       "text": [
        "Boiler efficiency:  87.44 %\n",
        "Equivalent evaporation per kg of dry coal:  12.02 kg\n",
        "Equivalent evaporation per kg of combustible present in coal:  12.54 kg\n"
       ]
      }
     ],
     "prompt_number": 24
    },
    {
     "cell_type": "heading",
     "level": 2,
     "metadata": {},
     "source": [
      "Example 11, page no. 488"
     ]
    },
    {
     "cell_type": "code",
     "collapsed": false,
     "input": [
      "from __future__ import division\n",
      "\n",
      "#Variable Declaration: \n",
      "t = 24 #Time of trial(in hrs):\n",
      "p = 16 #Pressure at which steam is generated(in bar):\n",
      "c = 10000 #Coal consumed(in kg):\n",
      "r = 2500 #Rate of steam generation(in kg/hr):\n",
      "Tf = 27    #Feed water temperature(in C):\n",
      "hsa = 3000 #Total heating surface area(in m**2):\n",
      "ga = 4   #Total grate area(in m**2):\n",
      "C = 28000 #Calorific value of coal(in kJ/kg):\n",
      "hg = 2794   #From steam tables(kJ/kg)\n",
      "L = 2257 #Latent heat at 100 C:\n",
      "\n",
      "#Calculations:\n",
      "m = c/t  #Coal  burnt per hour(in kg/hr):\n",
      "mg = m/ga #Coal burnt per m**2 of grate per hour:\n",
      "r1 = r/m #Rate of steam generated per kg of coal(in kg steam/kg coal):\n",
      "Q = r1*(hg-4.18*Tf)  #Heat added to steam per kg of coal(in kJ):\n",
      "Ee = Q/L #Equivalent evaporation from and at 100 C per kg of coal(in kg):\n",
      "Eepm = Ee*m/hsa #Equivalent evaporation from and at 100 C per m**2 of total surface per hour(in kg):\n",
      "n = Ee*L/C*100 #Boiler efficiency:\n",
      "\n",
      "#Results:\n",
      "print \"Mass of coal burnt per m**2 of grate per hour: \",round(mg,2),\"kg\"\n",
      "print \"Equivalent evaporation from and at 100 C per kg of coal: \",round(Ee,2),\"kg\"\n",
      "print \"Equivalent evaporation from and at 100 C per m**2 of total surface per hour: \",round(Eepm,2),\"kg\"\n",
      "print \"Boiler efficiency: \",round(n,2),\"%\""
     ],
     "language": "python",
     "metadata": {},
     "outputs": [
      {
       "output_type": "stream",
       "stream": "stdout",
       "text": [
        "Mass of coal burnt per m**2 of grate per hour:  104.17 kg\n",
        "Equivalent evaporation from and at 100 C per kg of coal:  7.13 kg\n",
        "Equivalent evaporation from and at 100 C per m**2 of total surface per hour:  0.99 kg\n",
        "Boiler efficiency:  57.45 %\n"
       ]
      }
     ],
     "prompt_number": 26
    },
    {
     "cell_type": "heading",
     "level": 2,
     "metadata": {},
     "source": [
      "Example 12, page no. 489"
     ]
    },
    {
     "cell_type": "code",
     "collapsed": false,
     "input": [
      "from __future__ import division\n",
      "\n",
      "#Variable Declaration: \n",
      "p = 30 #Pressure at which steam is generated(in bar):\n",
      "Ts = 300 #Temperature of steam(in C):\n",
      "r = 11  #Rate at which feed water enters(in kg/s):\n",
      "T1 = 100 #Temperature at which feed water enters the economiser(in C):\n",
      "m = 5000 #Mass of fuel used(in kg):\n",
      "C = 35000 #Calorific value of fuel(in kJ/kg.K):\n",
      "T = 27  #Temperature of feed water(in C):\n",
      "hg = 2993.5 #From steam tables:\n",
      "L = 2257 #Latent heat at 100 C:\n",
      "\n",
      "#Calculations:\n",
      "ms = r*3600/m #Mass of steam genrated per kg of fuel(in kg/kg fuel):\n",
      "Q = hg-4.18*T #Heat added per kg of fuel(in kJ):\n",
      "Ee = ms*Q/L #Equivalent evaporation from and at 100 C per kg of coal(in kg):\n",
      "n = Ee*L/C*100 #Boiler efficiency:\n",
      "Q1 = ms*4.18*(T1-T)  #Heat utilised in economiser per kg of fuel(in kJ):\n",
      "P = Q1/C*100 #Percentage of energy utilised in economiser:\n",
      "\n",
      "#Results:\n",
      "print \"Equivalent evaporation per kg of fuel: \",round(Ee,2),\"kg\"\n",
      "print \"Boiler efficiency: \",round(n,2),\"%\"\n",
      "print \"Percentage of energy utilised in economiser: \",round(P,1),\"%\""
     ],
     "language": "python",
     "metadata": {},
     "outputs": [
      {
       "output_type": "stream",
       "stream": "stdout",
       "text": [
        "Equivalent evaporation per kg of fuel:  10.11 kg\n",
        "Boiler efficiency:  65.18 %\n",
        "Percentage of energy utilised in economiser:  6.9 %\n"
       ]
      }
     ],
     "prompt_number": 28
    },
    {
     "cell_type": "heading",
     "level": 2,
     "metadata": {},
     "source": [
      "Example 13, page no. 489"
     ]
    },
    {
     "cell_type": "code",
     "collapsed": false,
     "input": [
      "from __future__ import division\n",
      "\n",
      "#Variable Declaration: \n",
      "m = 8 #Mass of steam genrated per kg of fuel:\n",
      "Ts = 400 #Temperature of steam(in C):\n",
      "p = 30   #Pressure of feed water(in bar):\n",
      "T = 40  #Temperature of feed water(in C):\n",
      "T1 = 150 #Temperature at which feed water leaves the economiser(in C):\n",
      "x = 0.98 #Dryness fraction:\n",
      "C = 29000 #Calorific value(in kJ/kg.K):\n",
      "h = 3230.9 #Enthalpy of steam generated(in kJ/kg): #From steam tables:\n",
      "hf = 1008.42                            #kJ/kg\n",
      "hfg = 1795.78                           #kJ/kg\n",
      "\n",
      "#Calculations:\n",
      "Q = h-4.18*T #Heat to be added(in kJ):\n",
      "n = m*Q/C*100 #Boiler efficiency:\n",
      "Q1 = 4.18*(T1-T) #Heat added in economiser per kg of steam generated(in kJ/kg):\n",
      "r1 = Q1/Q*100 #Percentage fraction of heat in economiser:\n",
      "Q2 = (hf+x*hfg)-4.18*T1 #Heat added in evaporator per kg of steam generated(in kJ/kg):\n",
      "r2 = Q2/Q*100 #Percentage fraction of heat in economiser:\n",
      "Q3 = Q-Q1-Q2 #Heat added in super heater per kg of steam generated by difference(in kJ/kg):\n",
      "r3 = Q3/Q*100 #Percentage fraction of heat in economiser:\n",
      "\n",
      "#Results:\n",
      "print \"Boiler efficiency: \",round(n,2),\"%\"\n",
      "print \"Percentage fraction of heat in economiser: \",round(r1,2),\"%\"\n",
      "print \"Percentage fraction of heat in evaporator: \",round(r2,2),\"%\"\n",
      "print \"Percentage fraction of heat in superheater: \",round(r3,2),\"%\""
     ],
     "language": "python",
     "metadata": {},
     "outputs": [
      {
       "output_type": "stream",
       "stream": "stdout",
       "text": [
        "Boiler efficiency:  84.52 %\n",
        "Percentage fraction of heat in economiser:  15.01 %\n",
        "Percentage fraction of heat in evaporator:  69.89 %\n",
        "Percentage fraction of heat in superheater:  15.1 %\n"
       ]
      }
     ],
     "prompt_number": 30
    },
    {
     "cell_type": "heading",
     "level": 2,
     "metadata": {},
     "source": [
      "Example 14, page no. 490"
     ]
    },
    {
     "cell_type": "code",
     "collapsed": false,
     "input": [
      "from __future__ import division\n",
      "\n",
      "#Variable Declaration: \n",
      "T1 = 20 #Temperature at which feed water enters and leaves the economiser(in C):\n",
      "T2 = 125\n",
      "r = 3 #Rate at which feed water leaves the economiser(in kg/s):\n",
      "T3 = 425 #Temperature of flue gases at inlet and outlet of economiser(in C):\n",
      "T4 = 300\n",
      "r1 = 18 #Rate at which coal is supplied(in kg/min):\n",
      "nc = 0.80 #% of C in coal:\n",
      "Cpg = 1.05 #Specific heat of flue gases(in kJ/kg.K):\n",
      "Ta = 15 #Atmospheric temperature(in C):\n",
      "m1 = 23.65 #Mass of dry flue gases at inlet and exit of economiser(in kg):\t\t\t\t#From table:\n",
      "m2 = 24.78\n",
      "\n",
      "#Calculations:\n",
      "A = m2-m1 #Air leakage in economiser per kg of coal:\n",
      "Q1 = m1*Cpg*T3+A*Cpg*Ta #Heat entering economiser with flue gases and leakage(in kJ):\n",
      "Q2 = m2*Cpg*T4   #Heat entering economiser with flue gases and leakage(in kJ):\n",
      "Q = Q1-Q2 #Heat lost in economiser per kg of coal(in kJ):\n",
      "Q3 = (r*60/r1)*4.18*(T2-T1)\t#Heat picked up by feed water in economiser per kg of coal(in kJ):\n",
      "\n",
      "#Results:\n",
      "print \"Heat released by the flue gases: \",round(Q,2),\"kJ per kg of coal\"\n",
      "print \"Air leakage: \",round(A,2),\"kg per kg of coal\"\n",
      "print \"Heat gained by feed water: \",round(Q3),\"kJ per kg of coal\"\n",
      "print \"___Please check there is a calculation mistake in book in calculating Q3____\""
     ],
     "language": "python",
     "metadata": {},
     "outputs": [
      {
       "output_type": "stream",
       "stream": "stdout",
       "text": [
        "Heat released by the flue gases:  2765.91 kJ per kg of coal\n",
        "Air leakage:  1.13 kg per kg of coal\n",
        "Heat gained by feed water:  4389.0 kJ per kg of coal\n",
        "___Please check there is a calculation mistake in book in calculating Q3____\n"
       ]
      }
     ],
     "prompt_number": 32
    },
    {
     "cell_type": "heading",
     "level": 2,
     "metadata": {},
     "source": [
      "Example 15, page no. 492"
     ]
    },
    {
     "cell_type": "code",
     "collapsed": false,
     "input": [
      "from __future__ import division\n",
      "\n",
      "#Variable Declaration: \n",
      "CpKg = 0.84                             #Carbon present per kg:\n",
      "CpKgDf = 0.0495                         #Carbon present per kgof dry fluegas:\n",
      "sg = 8                                  #Steam generated (kg per kg of coal):\n",
      "mh = 0.04*9 #H2O produced during the combustion(kg per kg of coal):\n",
      "ash = 0.05                              #Ash produced duing cumbustion(kg per kg of coal):\n",
      "M = 0.015                               #Moisture in coal burnt per kg of coal:\n",
      "h = 3213.6                              #Enthalpy of heat generated at 40 bar 400\u00b0C (KJ/Kg):\n",
      "C = 4.18                                #Heat capacity of water (KJ/Kg.K):\n",
      "Ti =  27                                #Feed water temperature at inlet to economiser (\u00b0C):\n",
      "Te = 137                                #Feed water temperature at exit of economiser(\u00b0C):\n",
      "Tfe = 300                               #Flue gas temperature entering air heater(\u00b0C):\n",
      "Tae = 120                               #Temperature of air entering boiler furnace(\u00b0C):\n",
      "Tatm = 15                               #Atmospheric air temperature(\u00b0C):\n",
      "Hs = 32600                              #Heat supplied by the fuel(KJ/Kg coal):\n",
      "cp = 1.0032                             #Heat capacity of air and dry gas (KJ/Kg.K):\n",
      "sp = 2.0064                             #Specific pressure of vapour(KJ/Kg.K):\n",
      "\n",
      "#Calculations:\n",
      "md = CpKg/CpKgDf #Mass of dry flue gas per kg of coal: #Specific pressure of vapour  =  2.0064 kJ/kg K\t\t\t\t#Partial pressure of vapour in flue gas  =  0.075 bar\t\t\t\t#For air and dry flue gas, cp  = 1.0032 kJ/kg K\t\t\t\t#Calorific value of coal  =  32600 kJ/kg\t\t\t\t#Datum temperature  =  15C\t\t\t\t#Dry flue gas composition by volume  =  12.5% CO2, 7.5% O2, 80% N2\t\t\t\t#Dry coal composition by mass  =  84% C, 4% H2, 7% O2 and remainder ash\t\t\t\t#Temperature of air entering boiler furnace  =  120C\t\t\t\t#Flue gas temperature leaving air heater and entering chimney  =  150C\t\t\t\t#Flue gas temperature entering air heater  = 300C\t\t\t\t#Moisture in coal burnt  =  1.5%\t\t\t\t#Feed water temperature at exit of economiser  =  137C\t\t\t\t#Feed water temperature at inlet to economiser  =  27C\t\t\t\t#Steam generated per kg of coal  =  8 kg\t\t\t\t#Steam generation: 40 bar, 400C\t\t\t\t#Atmospheric air temperature: 15C\n",
      "ma = md-(1-ash-mh)  #Amount of air supplied for combustion of one kg of dry coal(in kg):\n",
      "m = M/(1-M)  #Moisture per kg of dry coal(in kg):\n",
      "mt = round(mh+m,4)#Total moisture per kg of coal(in kg):\n",
      "sgd = sg/(1-M)  #Steam generated per kg of dry coal(in kg steam):\n",
      "H = sgd*(h-C*Ti)                       #Heat utilized by steam per kg of coal(KJ):\n",
      "n = H/Hs*100 #Boiler efficiency:\n",
      "Hu = ma*cp*(Tae-Tatm)                   #Heat utilized by air(KJ/Kg of coal)\n",
      "Ha = (md*cp+mt*sp)*(Tfe-Te)             #Heat available in air heater(KJ/Kg of coal):\n",
      "na = Hu/Ha*100 #Efficiency of heat exchange in air heater:\n",
      "\n",
      "#Results:\n",
      "print \"Boiler efficiency: \",round(n,2),\"%\"\n",
      "print \"Efficiency of heat exchange in air heater: \",round(na,2),\"%\""
     ],
     "language": "python",
     "metadata": {},
     "outputs": [
      {
       "output_type": "stream",
       "stream": "stdout",
       "text": [
        "Boiler efficiency:  77.25 %\n",
        "Efficiency of heat exchange in air heater:  59.54 %\n"
       ]
      }
     ],
     "prompt_number": 34
    },
    {
     "cell_type": "heading",
     "level": 2,
     "metadata": {},
     "source": [
      "Example 17, page no. 496"
     ]
    },
    {
     "cell_type": "code",
     "collapsed": false,
     "input": [
      "from __future__ import division\n",
      "\n",
      "#Variable Declaration: \n",
      "p = 20 #Pressure at which steam is generated(in bar):\n",
      "Ts = 300 #Temperature at which steam is generated(in C):\n",
      "T1 = 50 #Temperature of feed water supplied to the boiler(in C):\n",
      "C = 30000 #Calorific value of fuel(in kJ/kg):\n",
      "r = 600 #Rate at which coal is used(in kg/hr):\n",
      "r1 = 5000 #Rate at which steam is generated(in kg/hr):\n",
      "T = 100 #Temperature of the boiler unit(in C):\n",
      "L = 2257 #Latent heat(in kJ/kg.K):\n",
      "\n",
      "#Calculations:\n",
      "ms = r1/r #Steam generation per unit coal burnt per hour:\n",
      "hfi = 3023.5 #Final enthalpy of the steam(in kJ/kg):\n",
      "hfw = 209.33 #Enthalpy of feed water(in kJ/kg):\n",
      "no = ms*(hfi-hfw)/C*100 #Overall efficiency of boiler:\n",
      "Ee = ms*(hfi-hfw)/L #Equivalent evaporation of boiler unit(in kg steam per kg of coal):\n",
      "Eea = Ee*r #Equivalent evaporation of boiler unit at 100 C(in kg/hr):\n",
      "hfw1 = 313.93 #After fitting economiser the enthalp of feed water(in kJ/kg):\n",
      "nom = no+5 #Modified overall efficiency of boiler unit:\n",
      "mc = (hfi-hfw1)*r1*100/(C*nom) #Coal consumption(in kg/hr):\n",
      "s = r-mc #Saving of coal(in kg/hr):\n",
      "\n",
      "#Results:\n",
      "print \"Saving of coal: \",round(s,2),\"kg/hr\""
     ],
     "language": "python",
     "metadata": {},
     "outputs": [
      {
       "output_type": "stream",
       "stream": "stdout",
       "text": [
        "Saving of coal:  57.03 kg/hr\n"
       ]
      }
     ],
     "prompt_number": 36
    },
    {
     "cell_type": "heading",
     "level": 2,
     "metadata": {},
     "source": [
      "Example 18, page no. 497"
     ]
    },
    {
     "cell_type": "code",
     "collapsed": false,
     "input": [
      "from __future__ import division\n",
      "\n",
      "#Variable Declaration: \n",
      "r = 5000 #Rate at which steam is generated(in kg/hr):\n",
      "p = 20 #Pressure of steam(in bar):\n",
      "x = 0.98 #Dryness fraction:\n",
      "T = 60   #Temperature of feed water(in \u00b0C):\n",
      "r1 = 600 #Rate at which coal is supplied(in kg/hr):\n",
      "r2 = 16 #Rate at which air is supplied(in kg per kg coal):\n",
      "C = 30000 #Cslorific value of coal(in kJ/kg):\n",
      "Tr = 20   #Temperature of boiler room(in \u00b0C):\n",
      "nl = 0.86 #Fraction of heat losr with flue gases:\n",
      "Cpg = 1.005 #Specific heat of flue gases(in kJ/kg.K):\n",
      "#From steam tables:\n",
      "hf = 908.79                             #kJ/kg\n",
      "hfg = 1890.7                            #kJ/kg\n",
      "\n",
      "#Calculations:\n",
      "ms = r/r1 #Mass of steam genrated per kg of coal:\n",
      "hfi = hf+x*hfg #Enthalpy of final steam produced(in kJ/kg):\n",
      "hfw = 251.13 #Enthalpy of feed water(in kJ/kg):\n",
      "Q = ms*(hfi-hfw) #Heat used for steam generation(in kJ per kg of coal):\n",
      "Ql = C-Q #Heat lost per kg of coal:\n",
      "Qlf = nl*Ql #Heat lost with flue gases(in kJ per kg of coal):\n",
      "Tgas = Tr+Qlf/((r2+1)*Cpg) #Temperature of flue gases(in \u00b0C):\n",
      "\n",
      "#Results:\n",
      "print \"Temperature of flue gases: \",round(Tgas,2),\" \u00b0C\""
     ],
     "language": "python",
     "metadata": {},
     "outputs": [
      {
       "output_type": "stream",
       "stream": "stdout",
       "text": [
        "Temperature of flue gases:  476.99  \u00b0C\n"
       ]
      }
     ],
     "prompt_number": 38
    },
    {
     "cell_type": "heading",
     "level": 2,
     "metadata": {},
     "source": [
      "Example 19, page no. 498"
     ]
    },
    {
     "cell_type": "code",
     "collapsed": false,
     "input": [
      "from __future__ import division\n",
      " \n",
      "#Variable Declaration: \n",
      "Ta = 20+273 #Ambient temperature(in K):\n",
      "V = 20 #Velocity(in m/s):\n",
      "hw1 = 30 #Draught lost through grate(in mm of water column):\n",
      "nm = 0.80 #Mechanical efficiency:\n",
      "mf = 1000 #Rate at which coal is burnt(in kg/hr):\n",
      "ma = 16  #Rate at which air is supplied(in kg/hr):\n",
      "pa = 1.01325 #Ambient pressure(in bar):\n",
      "d = 1.29 #Density of air(in kg/m**3):\n",
      "g = 9.81 #Acceleration due to gravity(in m/s**2):\n",
      "T0 = 273 #Zero temperature(in K):\n",
      "\n",
      "#Calculations:\n",
      "P1 = d*V**2/2 #Pressure equivalent to velocity head(in N/m**2):\n",
      "P = P1/g                                #mm of water column\n",
      "hw = hw1+P #Total draught loss(in mm of water column):\n",
      "p = hw*g #Pressure required(in N/m**2):\n",
      "PFD = p*mf*ma*Ta/(d*T0*nm*3600) #F.D. fan power requirement(in W):\n",
      "\n",
      "#Results:\n",
      "print \"F.D. fan power: \",round(PFD/10**3,2),\"KW\""
     ],
     "language": "python",
     "metadata": {},
     "outputs": [
      {
       "output_type": "stream",
       "stream": "stdout",
       "text": [
        "F.D. fan power:  2.55 KW\n"
       ]
      }
     ],
     "prompt_number": 40
    }
   ],
   "metadata": {}
  }
 ]
}