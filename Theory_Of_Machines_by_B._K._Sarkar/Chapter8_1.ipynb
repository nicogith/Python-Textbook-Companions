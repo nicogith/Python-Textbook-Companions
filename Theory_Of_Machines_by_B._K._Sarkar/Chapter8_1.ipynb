{
 "metadata": {
  "name": "",
  "signature": "sha256:58914a8cfd8218ce6daf5fb785d2ca44a311ed0fcf973975091abe67490dee2e"
 },
 "nbformat": 3,
 "nbformat_minor": 0,
 "worksheets": [
  {
   "cells": [
    {
     "cell_type": "heading",
     "level": 1,
     "metadata": {},
     "source": [
      "Chapter8-Balancing of Rotating Masses"
     ]
    },
    {
     "cell_type": "heading",
     "level": 2,
     "metadata": {},
     "source": [
      "Ex1-pg221"
     ]
    },
    {
     "cell_type": "code",
     "collapsed": false,
     "input": [
      "##CHAPTER 8 ILLUSRTATION 1 PAGE NO 221\n",
      "##TITLE:BALANCING OF ROTATING MASSES\n",
      "pi=3.141\n",
      "import math\n",
      "mA=12.##       mass of A in kg\n",
      "mB=10.##       mass of B in kg\n",
      "mC=18.##       mass of C in kg\n",
      "mD=15.##       mass of D in kg\n",
      "rA=40.##       radius of A in mm\n",
      "rB=50.##       radius of B in mm\n",
      "rC=60.##       radius of C in mm\n",
      "rD=30.##       radius of D in mm\n",
      "theta1=0.##    angle between A-A in degrees\n",
      "theta2=60.##   angle between A-B in degrees\n",
      "theta3=130.##  angle between A-C in degrees\n",
      "theta4=270.##  angle between A-D in degrees\n",
      "R=100.##  radius at which mass to be determined in mm\n",
      "##====================================================\n",
      "Fh=(mA*rA*math.cos(theta1/57.3)+mB*rB*math.cos(theta2/57.3)+mC*rC*math.cos(theta3/57.3)+mD*rD*math.cos(theta4/57.3))/10.##    vertical component value in kg cm\n",
      "Fv=(mA*rA*math.sin(theta1/57.3)+mB*rB*math.sin(theta2/57.3)+mC*rC*math.sin(theta3/57.3)+mD*rD*math.sin(theta4/57.3))/10.##   horizontal component value in kg cm\n",
      "mb=(Fh**2.+Fv**2.)**.5/R*10.##     unbalanced mass in kg\n",
      "theta=math.atan(Fv/Fh)*57.3##   position in degrees \n",
      "THETA=180.+theta##       angle with mA\n",
      "print'%s %.1f %s %.1f %s'%('magnitude of unbalaced mass=',mb,' kg'' angle with mA=',THETA,'degrees')\n"
     ],
     "language": "python",
     "metadata": {},
     "outputs": [
      {
       "output_type": "stream",
       "stream": "stdout",
       "text": [
        "magnitude of unbalaced mass= 8.1  kg angle with mA= 267.5 degrees\n"
       ]
      }
     ],
     "prompt_number": 1
    },
    {
     "cell_type": "heading",
     "level": 2,
     "metadata": {},
     "source": [
      "Ex2-pg222"
     ]
    },
    {
     "cell_type": "code",
     "collapsed": false,
     "input": [
      "##CHAPTER 8 ILLUSRTATION 2 PAGE NO 222\n",
      "##TITLE:BALANCING OF ROTATING MASSES\n",
      "pi=3.141\n",
      "\n",
      "mA=5.##   mass of A in kg\n",
      "mB=10.##   mass of B in kg\n",
      "mC=8.##     mass of C in kg\n",
      "rA=10.##   radius of A in cm\n",
      "rB=15.##   radius of B in cm\n",
      "rC=10.##    radius of C in cm\n",
      "rD=10.##   radius of D in cm\n",
      "rE=15.##   radius of E in cm\n",
      "##============================\n",
      "mD=182./rD##    mass of D in kg by mearument\n",
      "mE=80./rE##     mass of E in kg  by mearument\n",
      "print'%s %.1f %s %.1f %s '%('mass of D= ',mD,' kg''mass of E= ',mE,' kg')\n"
     ],
     "language": "python",
     "metadata": {},
     "outputs": [
      {
       "output_type": "stream",
       "stream": "stdout",
       "text": [
        "mass of D=  18.2  kgmass of E=  5.3  kg \n"
       ]
      }
     ],
     "prompt_number": 2
    },
    {
     "cell_type": "heading",
     "level": 2,
     "metadata": {},
     "source": [
      "Ex3-pg223"
     ]
    },
    {
     "cell_type": "code",
     "collapsed": false,
     "input": [
      "##CHAPTER 8 ILLUSRTATION 3 PAGE NO 223\n",
      "##TITLE:BALANCING OF ROTATING MASSES\n",
      "pi=3.141\n",
      "\n",
      "mA=200.##       mass of A in kg\n",
      "mB=300.##       mass of B in kg\n",
      "mC=400.##       mass of C in kg\n",
      "mD=200.##       mass of D in kg\n",
      "rA=80.##       radius of A in mm\n",
      "rB=70.##       radius of B in mm\n",
      "rC=60.##       radius of C in mm\n",
      "rD=80.##       radius of D in mm\n",
      "rX=100.##      radius of X in mm\n",
      "rY=100.##     radius of Y in mm\n",
      "##=====================\n",
      "mY=7.3/.04##    mass of Y in kg by mearurement\n",
      "mX=35./.1##      mass of X in kg by mearurement\n",
      "thetaX=146.##   in degrees by mesurement\n",
      "print'%s %.1f %s %.1f %s %.1f %s'%('mass of X=',mX,' kg'' mass of Y=',mY,' kg''angle with mA=',thetaX,' degrees')\n",
      "\t"
     ],
     "language": "python",
     "metadata": {},
     "outputs": [
      {
       "output_type": "stream",
       "stream": "stdout",
       "text": [
        "mass of X= 350.0  kg mass of Y= 182.5  kgangle with mA= 146.0  degrees\n"
       ]
      }
     ],
     "prompt_number": 3
    },
    {
     "cell_type": "heading",
     "level": 2,
     "metadata": {},
     "source": [
      "Ex4-pg225"
     ]
    },
    {
     "cell_type": "code",
     "collapsed": false,
     "input": [
      "##CHAPTER 8 ILLUSRTATION 4 PAGE NO 225\n",
      "##TITLE:BALANCING OF ROTATING MASSES\n",
      "pi=3.141\n",
      "\n",
      "mB=30##       mass of B in kg\n",
      "mC=50##       mass of C in kg\n",
      "mD=40##       mass of D in kg\n",
      "rA=18##       radius of A in cm\n",
      "rB=24##       radius of B in cm\n",
      "rC=12##       radius of C in cm\n",
      "rD=15##       radius of D in cm\n",
      "##=============================\n",
      "mA=3.6/.18##         mass of A by measurement in kg\n",
      "theta=124.##          angle with mass B in degrees by measurement in degrees\n",
      "y=3.6/(.18*20)##     position of A from B\n",
      "print'%s %.1f %s %.1f %s %.1f %s'%('mass of A=',mA,' kg'' angle with mass B=',theta,' degrees'' position of A from B=',y,' m towards right of plane B')"
     ],
     "language": "python",
     "metadata": {},
     "outputs": [
      {
       "output_type": "stream",
       "stream": "stdout",
       "text": [
        "mass of A= 20.0  kg angle with mass B= 124.0  degrees position of A from B= 1.0  m towards right of plane B\n"
       ]
      }
     ],
     "prompt_number": 4
    },
    {
     "cell_type": "heading",
     "level": 2,
     "metadata": {},
     "source": [
      "Ex5-pg226"
     ]
    },
    {
     "cell_type": "code",
     "collapsed": false,
     "input": [
      "##CHAPTER 8 ILLUSRTATION 5 PAGE NO 226\n",
      "##TITLE:BALANCING OF ROTATING MASSES\n",
      "pi=3.141\n",
      "\n",
      "mB=10.##       mass of B in kg\n",
      "mC=5.##       mass of C in kg\n",
      "mD=4.##       mass of D in kg\n",
      "rA=10.##       radius of A in cm\n",
      "rB=12.5##       radius of B in cm\n",
      "rC=20.##       radius of C in cm\n",
      "rD=15.##       radius of D in cm\n",
      "##=====================================\n",
      "mA=7.##      mass of A in kg by mesurement\n",
      "BC=118.##     angle between B and C in degrees by mesurement\n",
      "BA=203.5##   angle between B and A in degrees by mesurement\n",
      "BD=260.##     angle between B and D in degrees by mesurement\n",
      "print'%s %.1f %s %.1f %s %.1f %s %.1f %s '%('Mass of A=',mA,' kg'' angle between B and C=',BC,' degrees''angle between B and A= ',BA,' degrees'' angle between B and D=',BD,' degrees')\n"
     ],
     "language": "python",
     "metadata": {},
     "outputs": [
      {
       "output_type": "stream",
       "stream": "stdout",
       "text": [
        "Mass of A= 7.0  kg angle between B and C= 118.0  degreesangle between B and A=  203.5  degrees angle between B and D= 260.0  degrees \n"
       ]
      }
     ],
     "prompt_number": 5
    },
    {
     "cell_type": "heading",
     "level": 2,
     "metadata": {},
     "source": [
      "Ex6-pg228"
     ]
    },
    {
     "cell_type": "code",
     "collapsed": false,
     "input": [
      "##CHAPTER 8 ILLUSRTATION 6 PAGE NO 228\n",
      "##TITLE:BALANCING OF ROTATING MASSES\n",
      "pi=3.141\n",
      "\n",
      "mB=36.##       mass of B in kg\n",
      "mC=25.##       mass of C in kg\n",
      "rA=20.##       radius of A in cm\n",
      "rB=15.##       radius of B in cm\n",
      "rC=15.##       radius of C in cm\n",
      "rD=20.##       radius of D in cm\n",
      "##==================================\n",
      "mA=3.9/.2##       mass of A in kg by measurement\n",
      "mD=16.5##        mass of D in kg by measurement\n",
      "theta=252.##      angular position of D from B by measurement in degrees\n",
      "print'%s %.1f %s %.1f %s %.1f %s'%('Mass of A= ',mA,' kg'' Mass od D= ',mD,' kg''  Angular position of D from B= ',theta,' degrees')\n"
     ],
     "language": "python",
     "metadata": {},
     "outputs": [
      {
       "output_type": "stream",
       "stream": "stdout",
       "text": [
        "Mass of A=  19.5  kg Mass od D=  16.5  kg  Angular position of D from B=  252.0  degrees\n"
       ]
      }
     ],
     "prompt_number": 6
    },
    {
     "cell_type": "heading",
     "level": 2,
     "metadata": {},
     "source": [
      "Ex7-pg229"
     ]
    },
    {
     "cell_type": "code",
     "collapsed": false,
     "input": [
      "##CHAPTER 8 ILLUSRTATION 7 PAGE NO 229\n",
      "##TITLE:BALANCING OF ROTATING MASSES\n",
      "\n",
      "\n",
      "pi=3.141\n",
      "mA=48.##     mass of A in kg\n",
      "mB=56.##       mass of B in kg\n",
      "mC=20.##       mass of C in kg\n",
      "rA=1.5##       radius of A in cm\n",
      "rB=1.5##       radius of B in cm\n",
      "rC=1.25##       radius of C in cm\n",
      "N=300.##   speed in rpm\n",
      "d=1.8##   distance between bearing in cm\n",
      "##================================\n",
      "w=2.*pi*N/60.##        angular speed in rad/s\n",
      "BA=164.##    angle between pulleys B&A in degrees by measurement\n",
      "BC=129.##    angle between pulleys B&C in degrees by measurement\n",
      "AC=67.##     angle between pulleys A&C in degrees by measurement\n",
      "C=.88*w**2.##    out of balance couple in N\n",
      "L=C/d##    load on each bearing in N\n",
      "print'%s %.1f %s  %.1f %s  %.1f %s  %.1f %s  %.1f %s '%('angle between pulleys B&A=',BA,' degrees'' angle between pulleys B&C= ',BC,' degrees'' angle between pulleys A&C=',AC,' degrees'' out of balance couple= ',C,' N'' load on each bearing=',L,' N')"
     ],
     "language": "python",
     "metadata": {},
     "outputs": [
      {
       "output_type": "stream",
       "stream": "stdout",
       "text": [
        "angle between pulleys B&A= 164.0  degrees angle between pulleys B&C=   129.0  degrees angle between pulleys A&C=  67.0  degrees out of balance couple=   868.2  N load on each bearing=  482.3  N \n"
       ]
      }
     ],
     "prompt_number": 7
    }
   ],
   "metadata": {}
  }
 ]
}