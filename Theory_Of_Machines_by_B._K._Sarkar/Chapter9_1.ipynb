{
 "metadata": {
  "name": "",
  "signature": "sha256:765c555912cbe4c0c322320d21d6db5068ffa5998304ec2dc51a4fde049316b1"
 },
 "nbformat": 3,
 "nbformat_minor": 0,
 "worksheets": [
  {
   "cells": [
    {
     "cell_type": "heading",
     "level": 1,
     "metadata": {},
     "source": [
      "Chapter9-Cams and Followers"
     ]
    },
    {
     "cell_type": "heading",
     "level": 2,
     "metadata": {},
     "source": [
      "Ex2-pg247"
     ]
    },
    {
     "cell_type": "code",
     "collapsed": false,
     "input": [
      "##CHAPTER 9 ILLUSRTATION 2 PAGE NO 247\n",
      "##TITLE:CAMS AND FOLLOWERS\n",
      "import math\n",
      "pi=3.141\n",
      "s=4.##         follower movement in cm\n",
      "theta=60.##    cam rotation in degrees\n",
      "THETA=60.*pi/180##   cam rotation in rad\n",
      "thetaD=45.##    after outstroke in degrees\n",
      "thetaR=90.##....angle with which it reaches its original position in degrees\n",
      "THETAR=90.*pi/180##   angle with which it reaches its original position in rad\n",
      "THETAd=360.-theta-thetaD-thetaR##      angle after return stroke in degrees\n",
      "N=300.##   speed in rpm\n",
      "w=2.*pi*N/60.##   speed in rad/s\n",
      "Vo=pi*w*s/2./THETA##   Maximum velocity of follower during outstroke in cm/s\n",
      "Vr=pi*w*s/2./THETAR## Maximum velocity of follower during return stroke in cm/s\n",
      "Fo=pi**2.*w**2.*s/2./THETA**2./100.##Maximum acceleration of follower during outstroke in m/s**2 \n",
      "Fr=pi**2.*w**2.*s/2./THETAR**2/100.##Maximum acceleration of follower during return stroke in m/s**2\n",
      "print'%s %.1f %s %.1f %s '%('Maximum acceleration of follower during outstroke =',Fo,' m/s**2''Maximum acceleration of follower during return stroke= ',Fr,' m/s**2')\n"
     ],
     "language": "python",
     "metadata": {},
     "outputs": [
      {
       "output_type": "stream",
       "stream": "stdout",
       "text": [
        "Maximum acceleration of follower during outstroke = 177.6  m/s**2Maximum acceleration of follower during return stroke=  78.9  m/s**2 \n"
       ]
      }
     ],
     "prompt_number": 3
    },
    {
     "cell_type": "heading",
     "level": 2,
     "metadata": {},
     "source": [
      "Ex3-pg249"
     ]
    },
    {
     "cell_type": "code",
     "collapsed": false,
     "input": [
      "##CHAPTER 9 ILLUSRTATION 3 PAGE NO 249\n",
      "##TITLE:CAMS AND FOLLOWERS\n",
      "import math\n",
      "pi=3.141\n",
      "s=5.##         follower movement in cm\n",
      "theta=120.##    cam rotation in degrees\n",
      "THETA=theta*pi/180.##   cam rotation in rad\n",
      "thetaD=30.##    after outstroke in degrees\n",
      "thetaR=60.##....angle with which it reaches its original position in degrees\n",
      "THETAR=60.*pi/180.##   angle with which it reaches its original position in rad\n",
      "THETAd=360.-theta-thetaD-thetaR##      angle after return stroke in degrees\n",
      "N=100.##   speed in rpm\n",
      "w=2.*pi*N/60.##   speed in rad/s\n",
      "Vo=pi*w*s/2./THETA##   Maximum velocity of follower during outstroke in cm/s\n",
      "Vr=pi*w*s/2./THETAR## Maximum velocity of follower during return stroke in cm/s\n",
      "Fo=pi**2.*w**2.*s/2./THETA**2./100.##Maximum acceleration of follower during outstroke in m/s**2\n",
      "Fr=pi**2*w**2.*s/2./THETAR**2/100.##Maximum acceleration of follower during return stroke in m/s**2\n",
      "print'%s %.1f %s %.1f %s '%('Maximum acceleration of follower during outstroke =',Fo,' m/s**2''Maximum acceleration of follower during return stroke= ',Fr,' m/s**2')\n"
     ],
     "language": "python",
     "metadata": {},
     "outputs": [
      {
       "output_type": "stream",
       "stream": "stdout",
       "text": [
        "Maximum acceleration of follower during outstroke = 6.2  m/s**2Maximum acceleration of follower during return stroke=  24.7  m/s**2 \n"
       ]
      }
     ],
     "prompt_number": 2
    },
    {
     "cell_type": "heading",
     "level": 2,
     "metadata": {},
     "source": [
      "Ex5-pg252"
     ]
    },
    {
     "cell_type": "code",
     "collapsed": false,
     "input": [
      "##CHAPTER 9 ILLUSRTATION 5 PAGE NO 252\n",
      "##TITLE:CAMS AND FOLLOWERS\n",
      "import math\n",
      "pi=3.141\n",
      "N=1000.##    speed of cam in rpm\n",
      "w=2.*pi*N/60.##  angular speed in rad/s\n",
      "s=2.5##   stroke of the follower in cm\n",
      "THETA=120.*pi/180.##  ANGULAR DISPLACEMENT OF CAM DURING OUTSTROKE IN RAD\n",
      "THETAR=90.*pi/180.##ANGULAR DISPLACEMENT OF CAM DURING DWELL IN RAD\n",
      "Vo=2.*w*s/THETA##   Maximum velocity of follower during outstroke in cm/s\n",
      "Vr=2.*w*s/THETAR##Maximum velocity of follower during return stroke in cm/s\n",
      "Fo=4.*w**2.*s/THETA**2.##Maximum acceleration of follower during outstroke in m/s**2\n",
      "Fr=4.*w**2.*s/THETAR**2.##Maximum acceleration of follower during return stroke in m/s**2\n",
      "print'%s %.1f %s %.1f %s '%('Maximum acceleration of follower during outstroke =',Fo,' m/s**2''Maximum acceleration of follower during return stroke= ',Fr,' m/s**2')\n"
     ],
     "language": "python",
     "metadata": {},
     "outputs": [
      {
       "output_type": "stream",
       "stream": "stdout",
       "text": [
        "Maximum acceleration of follower during outstroke = 25000.0  m/s**2Maximum acceleration of follower during return stroke=  44444.4  m/s**2 \n"
       ]
      }
     ],
     "prompt_number": 1
    }
   ],
   "metadata": {}
  }
 ]
}