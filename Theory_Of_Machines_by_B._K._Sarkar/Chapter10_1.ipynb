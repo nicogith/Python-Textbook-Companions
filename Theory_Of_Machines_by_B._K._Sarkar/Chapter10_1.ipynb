{
 "metadata": {
  "name": "",
  "signature": "sha256:657f291c53014a3c65d40f4bd27d5c5b11c86f39d42c3963b0caf443f608f132"
 },
 "nbformat": 3,
 "nbformat_minor": 0,
 "worksheets": [
  {
   "cells": [
    {
     "cell_type": "heading",
     "level": 1,
     "metadata": {},
     "source": [
      "Chapter10-Brakes and Dynamometers"
     ]
    },
    {
     "cell_type": "heading",
     "level": 2,
     "metadata": {},
     "source": [
      "Ex1-pg268"
     ]
    },
    {
     "cell_type": "code",
     "collapsed": false,
     "input": [
      "##CHAPTER 10 ILLUSRTATION 1 PAGE NO 268\n",
      "##TITLE:Brakes and Dynamometers\n",
      "import math\n",
      "#calculate torque transmitted by the block brake\n",
      "##===========================================================================================\n",
      "##INPUT DATA\n",
      "d=0.32;##Diameter of the drum in m\n",
      "qq=90.;##Angle of contact in degree\n",
      "P=820.;##Force applied in N\n",
      "U=0.35;##Coefficient of friction\n",
      "\n",
      "\n",
      "U1=((4.*U*math.sin(45/57.3))/((qq*(3.14/180.))+math.sin(90./57.3)));##Equivalent coefficient of friction\n",
      "F=((P*0.66)/((0.3/U1)-0.06));##Force value in N taking moments\n",
      "TB=(F*(d/2.));##Torque transmitted in N.m\n",
      "\n",
      "print'%s %.4f %s'%('Torque transmitted by the block brake is ',TB,' N.m')\n"
     ],
     "language": "python",
     "metadata": {},
     "outputs": [
      {
       "output_type": "stream",
       "stream": "stdout",
       "text": [
        "Torque transmitted by the block brake is  120.4553  N.m\n"
       ]
      }
     ],
     "prompt_number": 1
    },
    {
     "cell_type": "heading",
     "level": 2,
     "metadata": {},
     "source": [
      "Ex2-pg269"
     ]
    },
    {
     "cell_type": "code",
     "collapsed": false,
     "input": [
      "##CHAPTER 10 ILLUSRTATION 2 PAGE NO 269\n",
      "##TITLE:Brakes and Dynamometers\n",
      "import math\n",
      "#calculate The bicycle travels a distance and makes  turns before it comes to rest\n",
      "##===========================================================================================\n",
      "##INPUT DATA\n",
      "m=120.;##Mass of rider in kg\n",
      "v=16.2;##Speed of rider in km/hr\n",
      "d=0.9;##Diameter of the wheel in m\n",
      "P=120.;##Pressure applied on the brake in N\n",
      "U=0.06;##Coefficient of friction\n",
      "\n",
      "F=(U*P);##Frictional force in N\n",
      "KE=((m*(v*(5./18.))**2.)/2.);##Kinematic Energy in N.m\n",
      "S=(KE/F);##Distance travelled by the bicycle before it comes to rest in m\n",
      "N=(S/(d*3.14));##Required number of revolutions\n",
      "\n",
      "print'%s %.1f %s %.1f %s'%('The bicycle travels a distance of ',S,' m'and'',N,'turns before it comes to rest')\n"
     ],
     "language": "python",
     "metadata": {},
     "outputs": [
      {
       "output_type": "stream",
       "stream": "stdout",
       "text": [
        "The bicycle travels a distance of  168.8  59.7 turns before it comes to rest\n"
       ]
      }
     ],
     "prompt_number": 2
    },
    {
     "cell_type": "heading",
     "level": 2,
     "metadata": {},
     "source": [
      "Ex3-pg270"
     ]
    },
    {
     "cell_type": "code",
     "collapsed": false,
     "input": [
      "##CHAPTER 10 ILLUSRTATION 3 PAGE NO 270\n",
      "##TITLE:Brakes and Dynamometers\n",
      "import math\n",
      "#evaluvate maximum torque absorbed\n",
      "##===========================================================================================\n",
      "##INPUT DATA\n",
      "S=3500.;##Force on each arm in N\n",
      "d=0.36;##Diamter of the wheel in m\n",
      "U=0.4;##Coefficient of friction \n",
      "qq=100.;##Contact angle in degree\n",
      "\n",
      "qqr=(qq*(3.14/180));##Contact angle in radians\n",
      "UU=((4*U*math.sin(50/57.3))/(qqr+(math.sin(100./57.3))));##Equivalent coefficient of friction\n",
      "F1=(S*0.45)/((0.2/UU)+((d/2.)-0.04));##Force on fulcrum in N\n",
      "F2=(S*0.45)/((0.2/UU)-((d/2.)-0.04));##Force on fulcrum in N\n",
      "TB=(F1+F2)*(d/2.);##Maximum torque absorbed in N.m\n",
      "\n",
      "print'%s %.2f %s'%('Maximum torque absorbed is ',TB,' N.m')\n"
     ],
     "language": "python",
     "metadata": {},
     "outputs": [
      {
       "output_type": "stream",
       "stream": "stdout",
       "text": [
        "Maximum torque absorbed is  1412.67  N.m\n"
       ]
      }
     ],
     "prompt_number": 3
    },
    {
     "cell_type": "heading",
     "level": 2,
     "metadata": {},
     "source": [
      "Ex4-pg271"
     ]
    },
    {
     "cell_type": "code",
     "collapsed": false,
     "input": [
      "##CHAPTER 10 ILLUSRTATION 4 PAGE NO 271\n",
      "##TITLE:Brakes and Dynamometers\n",
      "import math\n",
      "#calculate The maximum braking torque on the drum\n",
      "##===========================================================================================\n",
      "##INPUT DATA\n",
      "a=0.5;##Length of lever in m\n",
      "d=0.5;##Diameter of brake drum in m\n",
      "q=(5/8.)*(2*3.14);##Angle made in radians\n",
      "b=0.1;##Distance between pin and fulcrum in m\n",
      "P=2000.;##Effort applied in N\n",
      "U=0.25;##Coefficient of friction\n",
      "\n",
      "T=math.exp(U*q);##Ratios of tension\n",
      "T2=((P*a)/b);##Tension in N\n",
      "T1=(T*T2);##Tension in N\n",
      "TB=((T1-T2)*(d/2.))/1000.;##Maximum braking torque in kNm\n",
      "\n",
      "print'%s %.2f %s'%('The maximum braking torque on the drum is',TB,' kNm')\n"
     ],
     "language": "python",
     "metadata": {},
     "outputs": [
      {
       "output_type": "stream",
       "stream": "stdout",
       "text": [
        "The maximum braking torque on the drum is 4.17  kNm\n"
       ]
      }
     ],
     "prompt_number": 4
    },
    {
     "cell_type": "heading",
     "level": 2,
     "metadata": {},
     "source": [
      "Ex5-pg271"
     ]
    },
    {
     "cell_type": "code",
     "collapsed": false,
     "input": [
      "##CHAPTER 10 ILLUSRTATION 5 PAGE NO 271\n",
      "##TITLE:Brakes and Dynamometers\n",
      "import math\n",
      "#caculate the brake is self -locking and tension in the side \n",
      "##===========================================================================================\n",
      "##INPUT DATA\n",
      "q=220.;##Angle of contact in degree\n",
      "T=340.;##Torque in Nm\n",
      "d=0.32;##Diameter of drum in m\n",
      "U=0.3;##Coefficient of friction\n",
      "\n",
      "Td=(T/(d/2.));##Difference in tensions in N\n",
      "Tr=math.exp(U*(q*(3.14/180.)));##Ratio of tensions\n",
      "T2=(Td/(Tr-1.));##Tension in N\n",
      "T1=(Tr*T2);##Tension in N\n",
      "P=((T2*(d/2.))-(T1*0.04))/0.5;##Force applied in N\n",
      "b=(T1/T2)*4.;##Value of b in cm when the brake is self-locking\n",
      "\n",
      "print'%s %.2f %s  %.2f %s  %.2f %s '%('The value of b is ',b,' cm' 'when the brake is self-locking ' 'Tensions in the sides are ',T1,' N and',T2,' N')\n"
     ],
     "language": "python",
     "metadata": {},
     "outputs": [
      {
       "output_type": "stream",
       "stream": "stdout",
       "text": [
        "The value of b is  12.65  cmwhen the brake is self-locking Tensions in the sides are   3107.70  N and  982.70  N \n"
       ]
      }
     ],
     "prompt_number": 5
    },
    {
     "cell_type": "heading",
     "level": 2,
     "metadata": {},
     "source": [
      "Ex6-pg272"
     ]
    },
    {
     "cell_type": "code",
     "collapsed": false,
     "input": [
      "##CHAPTER 10 ILLUSRTATION 6 PAGE NO 272\n",
      "##TITLE:Brakes and Dynamometers\n",
      "import math\n",
      "#calculate torque required and thickness necessary to limit the tensile stress to 70 and secton of the lever taking stress to 60 mpa\n",
      "##===========================================================================================\n",
      "##INPUT DATA\n",
      "d=0.5;##Drum diamter in m\n",
      "U=0.3;##Coefficient of friction\n",
      "q=250;##Angle of contact in degree\n",
      "P=750;##Force in N\n",
      "a=0.1;##Band width in m\n",
      "b=0.8;##Distance in m\n",
      "ft=(70*10**6);##Tensile stress in Pa\n",
      "f=(60*10**6);##Stress in Pa\n",
      "b1=0.1;##Distance in m\n",
      "\n",
      "T=math.exp(U*(q*(3.14/180.)));##Tensions ratio\n",
      "T2=(P*b*10.)/(T+1.);##Tension in N\n",
      "T1=(T*T2);##Tension in N\n",
      "TB=(T1-T2)*(d/2.);##Torque in N.m\n",
      "t=(max(T1,T2)/(ft*a))*1000.;##Thickness in mm\n",
      "M=(P*b);##bending moment at fulcrum in Nm\n",
      "X=(M/((1/6.)*f));##Value of th**2\n",
      "##t varies from 10mm to 15 mm. Taking t=15mm,\n",
      "h=math.sqrt(X/(0.015))*1000.;##Section of the lever in m\n",
      "\n",
      "print'%s %.1f %s %.1f %s %.1f %s'%('Torque required is ',TB,' N.m' 'Thickness necessary to limit the tensile stress to 70 MPa is ',t,' mm ''Section of the lever taking stress to 60 MPa is ',h,' mm')\n"
     ],
     "language": "python",
     "metadata": {},
     "outputs": [
      {
       "output_type": "stream",
       "stream": "stdout",
       "text": [
        "Torque required is  861.7  N.mThickness necessary to limit the tensile stress to 70 MPa is  0.7  mm Section of the lever taking stress to 60 MPa is  63.2  mm\n"
       ]
      }
     ],
     "prompt_number": 6
    },
    {
     "cell_type": "heading",
     "level": 2,
     "metadata": {},
     "source": [
      "Ex7-pg273"
     ]
    },
    {
     "cell_type": "code",
     "collapsed": false,
     "input": [
      "##CHAPTER 10 ILLUSRTATION 7 PAGE NO 273\n",
      "##TITLE:Brakes and Dynamometers\n",
      "#calculate value of x and value of power/bd ratio \n",
      "import math\n",
      "##===========================================================================================\n",
      "##INPUT DATA\n",
      "P1=30.;##Power in kW\n",
      "N=1250.;##Speed in r.p.m\n",
      "P=60.;##Applied force in N\n",
      "d=0.8;##Drum diameter in m\n",
      "q=310.;##Contact angle in degree\n",
      "a=0.03;##Length of a in m\n",
      "b=0.12;##Length of b in m\n",
      "U=0.2;##Coefficient of friction\n",
      "B=10.;##Band width in cm\n",
      "D=80.;##Diameter in cm\n",
      "\n",
      "T=(P1*60000.)/(2.*3.14*N);##Torque in N.m\n",
      "Td=(T/(d/2.));##Tension difference in N\n",
      "Tr=math.exp(U*(q*(3.14/180.)));##Tensions ratio\n",
      "T2=(Td/(Tr-1.));##Tension in N\n",
      "T1=(Tr*T2);##Tension in N\n",
      "x=((T2*b)-(T1*a))/P;##Distance in m;\n",
      "X=(P1/(B*D));##Ratio\n",
      "\n",
      "print'%s %.3f %s %.3f %s'%('Value of x is ',x,' m '' Value of (Power/bD) ratio is ',X,'')\n"
     ],
     "language": "python",
     "metadata": {},
     "outputs": [
      {
       "output_type": "stream",
       "stream": "stdout",
       "text": [
        "Value of x is  0.155  m  Value of (Power/bD) ratio is  0.037 \n"
       ]
      }
     ],
     "prompt_number": 7
    },
    {
     "cell_type": "heading",
     "level": 2,
     "metadata": {},
     "source": [
      "Ex8-pg274"
     ]
    },
    {
     "cell_type": "code",
     "collapsed": false,
     "input": [
      "##CHAPTER 10 ILLUSRTATION 8 PAGE NO 274\n",
      "##TITLE:Brakes and Dynamometers\n",
      "import math\n",
      "#calculate time required to bring the shaft to the rest from its running condition\n",
      "##===========================================================================================\n",
      "##INPUT DATA\n",
      "m=80.;##Mass of flywheel in kg\n",
      "k=0.5;##Radius of gyration in m\n",
      "N=250;##Speed in r.p.m\n",
      "d=0.32;##Diamter of the drum in m\n",
      "b=0.05;##Distance of pin in m\n",
      "q=260.;##Angle of contact in degree\n",
      "U=0.23;##Coefficient of friction\n",
      "P=20;##Force in N\n",
      "a=0.35;##Distance at which force is applied in m\n",
      "\n",
      "Tr=math.exp(U*q*(3.14/180.));##Tensions ratio\n",
      "T2=(P*a)/b;##Tension in N\n",
      "T1=(Tr*T2);##Tension in N\n",
      "TB=(T1-T2)*(d/2.);##Torque in N.m\n",
      "KE=((1/2.)*(m*k**2)*((2.*3.14*N)/60.)**2);##Kinematic energy of the rotating drum in Nm\n",
      "N1=(KE/(TB*2.*3.14));##Speed in rpm\n",
      "aa=((2*3.14*N)/60.)**2/(4.*3.14*N1);##Angular acceleration in rad/s**2\n",
      "t=((2.*3.14*N)/60.)/aa;##Time in seconds\n",
      "\n",
      "print'%s %.1f %s'%('Time required to bring the shaft to the rest from its running condition is ',t,' seconds')\n"
     ],
     "language": "python",
     "metadata": {},
     "outputs": [
      {
       "output_type": "stream",
       "stream": "stdout",
       "text": [
        "Time required to bring the shaft to the rest from its running condition is  12.7  seconds\n"
       ]
      }
     ],
     "prompt_number": 8
    },
    {
     "cell_type": "heading",
     "level": 2,
     "metadata": {},
     "source": [
      "Ex9-pg275"
     ]
    },
    {
     "cell_type": "code",
     "collapsed": false,
     "input": [
      "##CHAPTER 10 ILLUSRTATION 9 PAGE NO 275\n",
      "##TITLE:Brakes and Dynamometers\n",
      "import math\n",
      "#calculate Minimum force required  and Time taken to bring to rest \n",
      "##===========================================================================================\n",
      "##INPUT DATA\n",
      "n=12.;##Number of blocks\n",
      "q=15.;##Angle subtended in degree\n",
      "P=185.;##Power in kW\n",
      "N=300.;##Speed in r.p.m\n",
      "U=0.25;##Coefficient of friction\n",
      "d=1.25;##Diamter in m\n",
      "b1=0.04;##Distance in m\n",
      "b2=0.14;##Distance in m\n",
      "a=1.;##Diatance in m\n",
      "m=2400.;##Mass of rotor in kg\n",
      "k=0.5;##Radius of gyration in m\n",
      "\n",
      "Td=(P*60000.)/(2.*3.14*N*(d/2.));##Tension difference in N\n",
      "T=Td*(d/2.);##Torque in Nm\n",
      "Tr=((1+(U*math.tan(7.5/57.3)))/(1.-(U*math.tan(7.5/57.3))))**n;##Tension ratio\n",
      "To=(Td/(Tr-1.));##Tension in N\n",
      "Tn=(Tr*To);##Tension in N\n",
      "P=((To*b2)-(Tn*b1))/a;##Force in N\n",
      "aa=(T/(m*k**2));##Angular acceleration in rad/s**2\n",
      "t=((2*3.14*N)/60.)/aa;##Time in seconds\n",
      "\n",
      "print'%s %.1f %s %.1f %s'%('Minimum force required is ',P,' N' 'Time taken to bring to rest is ',t,' seconds')\n"
     ],
     "language": "python",
     "metadata": {},
     "outputs": [
      {
       "output_type": "stream",
       "stream": "stdout",
       "text": [
        "Minimum force required is  406.1  NTime taken to bring to rest is  3.2  seconds\n"
       ]
      }
     ],
     "prompt_number": 9
    },
    {
     "cell_type": "heading",
     "level": 2,
     "metadata": {},
     "source": [
      "Ex10-pg275"
     ]
    },
    {
     "cell_type": "code",
     "collapsed": false,
     "input": [
      "##CHAPTER 10 ILLUSRTATION 10 PAGE NO 275\n",
      "##TITLE:Brakes and Dynamometers\n",
      "import math\n",
      "#calculate Maximum braking torque and Angular retardation of the drum and Time taken by the system to come to rest \n",
      "##===========================================================================================\n",
      "##INPUT DATA\n",
      "n=12.;## Number of blocks\n",
      "q=16.;##Angle subtended in degrees\n",
      "d=0.9;##Effective diameter in m\n",
      "m=2000.;##Mass in kg\n",
      "k=0.5;##Radius of gyration in m\n",
      "b1=0.7;##Distance in m\n",
      "b2=0.03;##Distance in m\n",
      "a=0.1;##Distance in m\n",
      "P=180.;##Force in N\n",
      "N=360.;##Speed in r.p.m\n",
      "U=0.25;##Coefficient of friction\n",
      "\n",
      "Tr=((1.+(U*math.tan(8/57.3)))/(1.-(U*math.tan(8/57.3))))**n;##Tensions ratio\n",
      "T2=(P*b1)/(a-(b2*Tr));##Tension in N\n",
      "T1=(Tr*T2);##Tension in N\n",
      "TB=(T1-T2)*(d/2.);##Torque in N.m\n",
      "aa=(TB/(m*k**2.));##Angular acceleration in rad/s**2\n",
      "t=((2.*3.14*N)/60.)/aa;##Time in seconds\n",
      "\n",
      "print'%s %.2f %s %.2f %s %.2f %s '%('(i) Maximum braking torque is ',TB,'Nm ''(ii) Angular retardation of the drum is ',aa,' rad/s**2''(iii) Time taken by the system to come to rest is ',t,' s')\n"
     ],
     "language": "python",
     "metadata": {},
     "outputs": [
      {
       "output_type": "stream",
       "stream": "stdout",
       "text": [
        "(i) Maximum braking torque is  2481.63 Nm (ii) Angular retardation of the drum is  4.96  rad/s**2(iii) Time taken by the system to come to rest is  7.59  s \n"
       ]
      }
     ],
     "prompt_number": 10
    }
   ],
   "metadata": {}
  }
 ]
}