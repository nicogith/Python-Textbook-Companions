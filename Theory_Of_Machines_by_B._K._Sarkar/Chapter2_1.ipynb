{
 "metadata": {
  "name": "",
  "signature": "sha256:214de3ca59a9f823d9af2646136423031768f0a5e133206c7c8ac1d217b863ef"
 },
 "nbformat": 3,
 "nbformat_minor": 0,
 "worksheets": [
  {
   "cells": [
    {
     "cell_type": "heading",
     "level": 1,
     "metadata": {},
     "source": [
      "Chapter2-Transmission of Motion and Power by Belts and Pulleys"
     ]
    },
    {
     "cell_type": "heading",
     "level": 2,
     "metadata": {},
     "source": [
      "Ex1-pg57"
     ]
    },
    {
     "cell_type": "code",
     "collapsed": false,
     "input": [
      "##CHAPTER 2 ILLUSRTATION 1 PAGE NO 57\n",
      "##TITLE:TRANSMISSION OF MOTION AND POWER BY BELTS AND PULLEYS\n",
      "import math\n",
      "##===========================================================================================\n",
      "##INPUT DATA\n",
      "Na=300.;##driving shaft running speed in rpm\n",
      "Nb=400.;##driven shaft running speed in rpm\n",
      "Da=60.;##diameter of driving shaft in mm\n",
      "t=.8;##belt thickness in mm\n",
      "s=.05;##slip in percentage(5%)\n",
      "##==========================================================================================\n",
      "##calculation\n",
      "Db=(Da*Na)/Nb;##finding out the diameter of driven shaft without considering the thickness of belt\n",
      "Db1=(((Da+t)*Na)/Nb)-t##/considering the thickness\n",
      "Db2=(1.-s)*(Da+t)*(Na/Nb)-t##considering slip also\n",
      "##=========================================================================================\n",
      "##output\n",
      "print'%s %.1f %s'%('the value of Db is',Db,' cm')\n",
      "print'%s %.1f %s'%('the value of Db1 is',Db1,' cm')\n",
      "print'%s %.1f %s'%('the value of Db2 is',Db2,' cm')\n"
     ],
     "language": "python",
     "metadata": {},
     "outputs": [
      {
       "output_type": "stream",
       "stream": "stdout",
       "text": [
        "the value of Db is 45.0  cm\n",
        "the value of Db1 is 44.8  cm\n",
        "the value of Db2 is 42.5  cm\n"
       ]
      }
     ],
     "prompt_number": 1
    },
    {
     "cell_type": "heading",
     "level": 2,
     "metadata": {},
     "source": [
      "Ex2-pg57"
     ]
    },
    {
     "cell_type": "code",
     "collapsed": false,
     "input": [
      "##CHAPTER 2,ILLUSRTATION 2 PAGE NO 57\n",
      "##TITLE:TRANSMISSION OF MOTION AND POWER BY BELTS AND PULLEYS\n",
      "\n",
      "##====================================================================================\n",
      "##input\n",
      "n1=1200##rpm of motor shaft\n",
      "d1=40##diameter of motor pulley in cm\n",
      "d2=70##diameter of 1st pulley on the shaft in cm\n",
      "s=.03##percentage slip(3%)\n",
      "d3=45##diameter of 2nd pulley\n",
      "d4=65##diameter of the pulley on the counnter shaft\n",
      "##=========================================================================================\n",
      "##calculation\n",
      "n2=n1*d1*(1-s)/d2##rpm of driven shaft\n",
      "n3=n2##both the pulleys are mounted on the same shaft\n",
      "n4=n3*(1-s)*d3/d4##rpm of counter shaft\n",
      "\n",
      "##output\n",
      "print'%s %.1f %s %.1f %s '%('the speed of driven shaft is',n2,' rpm''the speed of counter shaft is ',n4,' rpm')\n"
     ],
     "language": "python",
     "metadata": {},
     "outputs": [
      {
       "output_type": "stream",
       "stream": "stdout",
       "text": [
        "the speed of driven shaft is 665.1  rpmthe speed of counter shaft is  446.7  rpm \n"
       ]
      }
     ],
     "prompt_number": 2
    },
    {
     "cell_type": "heading",
     "level": 2,
     "metadata": {},
     "source": [
      "Ex3-pg58"
     ]
    },
    {
     "cell_type": "code",
     "collapsed": false,
     "input": [
      "##CHAPTER 2 ILLUSTRATION 3 PAGE NO:58\n",
      "##TITLE:TRANSMISSION OF MOTION AND POWER BY BELTS AND PULLEYS\n",
      "import math\n",
      "##==============================================================================\n",
      "##input\n",
      "d1=30.##diameter of 1st shaft in cm\n",
      "d2=50.##diameter 2nd shaft in cm\n",
      "pi=3.141\n",
      "c=500.##centre distance between the shafts in cm\n",
      "##==============================================================================\n",
      "##calculation\n",
      "L1=((d1+d2)*pi/2.)+(2.*c)+((d1+d2)**2.)/(4.*c)##lenth of cross belt\n",
      "L2=((d1+d2)*pi/2.)+(2.*c)+((d1-d2)**2.)/(4.*c)##lenth of open belt\n",
      "r=L1-L2##remedy\n",
      "##==============================================================================\n",
      "##OUTPUT\n",
      "print'%s %.1f %s %.1f %s %.1f %s '%('length of cross belt is ',L1,'cm '' length of open belt is ',L2,'cm''the length of the belt to be shortened is ',r,' cm')\n"
     ],
     "language": "python",
     "metadata": {},
     "outputs": [
      {
       "output_type": "stream",
       "stream": "stdout",
       "text": [
        "length of cross belt is  1128.8 cm  length of open belt is  1125.8 cmthe length of the belt to be shortened is  3.0  cm \n"
       ]
      }
     ],
     "prompt_number": 3
    },
    {
     "cell_type": "heading",
     "level": 2,
     "metadata": {},
     "source": [
      "Ex4-pg59"
     ]
    },
    {
     "cell_type": "code",
     "collapsed": false,
     "input": [
      "\n",
      "##CHAPTER 2,ILLUSTRATION 4 PAGE 59\n",
      "##TITLE:TRANSMISSION OF MOTION AND POWER BY BELTS AND PULLEYS\n",
      "import math\n",
      "##====================================================================================\n",
      "##INPUT\n",
      "D1=.5##            DIAMETER OF 1ST SHAFT IN m\n",
      "D2=.25##           DIAMETER OF 2nd SHAFT IN m\n",
      "C=2.##              CENTRE DISTANCE IN m\n",
      "N1=220.##           SPEED OF 1st SHAFT\n",
      "T1=1250.##          TENSION ON TIGHT SIDE IN N\n",
      "U=.25##            COEFFICIENT OF FRICTION\n",
      "PI=3.141\n",
      "e=2.71\n",
      "##====================================================================================\n",
      "##CALCULATION\n",
      "L=(D1+D2)*PI/2.+((D1+D2)**2./(4.*C))+2.*C\n",
      "F=(D1+D2)/(2.*C)\n",
      "ALPHA=math.asin(F/57.3)\n",
      "THETA=(180.+(2.*ALPHA))*PI/180.##   ANGLE OF CONTACT IN radians\n",
      "T2=T1/(e**(U*THETA))##            TENSION ON SLACK SIDE IN N\n",
      "V=PI*D1*N1/60.##                   VELOCITY IN m/s\n",
      "P=(T1-T2)*V/1000.##                POWER IN kW\n",
      "##====================================================================================\n",
      "##OUTPUT\n",
      "print'%s %.1f %s'%('LENGTH OF BELT REQUIRED =',L,' m')\n",
      "print'%s %.1f %s'%('ANGLE OF CONTACT =',THETA,' radians')\n",
      "print'%s %.1f %s'%('POWER CAN BE TRANSMITTED=',P,' kW')\n"
     ],
     "language": "python",
     "metadata": {},
     "outputs": [
      {
       "output_type": "stream",
       "stream": "stdout",
       "text": [
        "LENGTH OF BELT REQUIRED = 5.2  m\n",
        "ANGLE OF CONTACT = 3.1  radians\n",
        "POWER CAN BE TRANSMITTED= 3.9  kW\n"
       ]
      }
     ],
     "prompt_number": 4
    },
    {
     "cell_type": "heading",
     "level": 2,
     "metadata": {},
     "source": [
      "Ex5-pg59"
     ]
    },
    {
     "cell_type": "code",
     "collapsed": false,
     "input": [
      "##CHAPTER 2,ILLUSTRATION 5 PAGE 5\n",
      "##TITLE:TRANSMISSION OF MOTION AND POWER BY BELTS AND PULLEYS\n",
      "import math\n",
      "##=====================================================================================================\n",
      "##input\n",
      "n1=100.## of driving shaft\n",
      "n2=240.##speed of driven shaft\n",
      "p=11000.##power to be transmitted in watts\n",
      "c=250.##centre distance in cm\n",
      "d2=60.##diameter in cm\n",
      "b=11.5*10**-2##width of belt in metres\n",
      "t=1.2*10**-2##thickness in metres\n",
      "u=.25##co-efficient of friction \n",
      "pi=3.141\n",
      "e=2.71\n",
      "##===================================================================================================\n",
      "##calculation for open bely drive\n",
      "d1=n2*d2/n1\n",
      "f=(d1-d2)/(2.*c)##sin(alpha) for open bely drive\n",
      "##angle of arc of contact for open belt drive is,theta=180-2*alpha\n",
      "alpha=math.asin(f)*57.3\n",
      "teta=(180.-(2*alpha))*3.147/180.##pi/180 is used to convert into radians\n",
      "x=(e**(u*teta))##finding out the value of t1/t2\n",
      "v=pi*d2*10.*n2/60.##finding out the value of t1-t2\n",
      "y=p*1000./(v)\n",
      "t1=(y*x)/(x-1.)\n",
      "Fb=t1/(t*b)/1000.\n",
      "##=======================================================================================================\n",
      "##calculation for cross belt drive bely drive\n",
      "F=(d1+d2)/(2.*c)##for cross belt drive bely drive\n",
      "ALPHA=math.asin(F)*57.3\n",
      "THETA=(180.+(2.*ALPHA))*pi/180.##pi/180 is used to convert into radians\n",
      "X=(e**(u*THETA))##finding out the value of t1/t2\n",
      "V=pi*d2*10.*n2/60.##finding out the value of t1-t2\n",
      "Y=p*1000./(V)\n",
      "T1=(Y*X)/(X-1.)\n",
      "Fb2=T1/(t*b)/1000.\n",
      "##========================================================================================================\n",
      "##output\n",
      "print('for a open belt drive:')\n",
      "print'%s %.1f %s %.1f %s'%('the tension in  belt is ',t1,'N'     'stress induced is ',Fb,' kN/m**2')\n",
      "print('for a cross belt drive:')\n",
      "print'%s %.1f %s %.1f %s '%('the tension in belt is ',T1,'N'     'stress induced is ',Fb2,' kN/m**2')\n"
     ],
     "language": "python",
     "metadata": {},
     "outputs": [
      {
       "output_type": "stream",
       "stream": "stdout",
       "text": [
        "for a open belt drive:\n",
        "the tension in  belt is  2898.4 Nstress induced is  2100.3  kN/m**2\n",
        "for a cross belt drive:\n",
        "the tension in belt is  2318.8 Nstress induced is  1680.3  kN/m**2 \n"
       ]
      }
     ],
     "prompt_number": 5
    },
    {
     "cell_type": "heading",
     "level": 2,
     "metadata": {},
     "source": [
      "Ex6-pg61"
     ]
    },
    {
     "cell_type": "code",
     "collapsed": false,
     "input": [
      "##CHAPTER 2,ILLUSTRATION 6 PAGE 61\n",
      "##TITLE:TRANSMISSION OF MOTION AND POWER BY BELTS AND PULLEYS\n",
      "import math\n",
      "##========================================================================================\n",
      "##INPUT\n",
      "D1=80.##DIAMETER OF SHAFT IN cm\n",
      "N1=160.##SPEED OF 1ST SHAFT IN rpm\n",
      "N2=320.##SPEED OF 2ND SHAFT IN rpm\n",
      "C=250.##CENTRE DISTANCE IN CM\n",
      "U=.3##COEFFICIENT OF FRICTION\n",
      "P=4.##POWER IN KILO WATTS\n",
      "e=2.71\n",
      "PI=3.141\n",
      "f=110.##STRESS PER cm WIDTH OF BELT\n",
      "##========================================================================================\n",
      "##CALCULATION\n",
      "V=PI*D1*math.pow(10,-2)*N1/60.##VELOCITY IN m/s\n",
      "Y=P*1000./V##Y=T1-T2\n",
      "D2=D1*(N1/N2)##DIAMETER OF DRIVEN SHAFT\n",
      "F=(D1-D2)/(2.*C)\n",
      "ALPHA=math.asin(F/57.3)\n",
      "THETA=(180.-(2.*ALPHA))*PI/180.##ANGLE OF CONTACT IN radians\n",
      "X=e**(U*THETA)##VALUE OF T1/T2\n",
      "T1=X*Y/(X-1.)\n",
      "b=T1/f##WIDTH OF THE BELT REQUIRED \n",
      "##=======================================================================================\n",
      "##OUTPUT\n",
      "print'%s %.1f %s'%('THE WIDTH OF THE BELT IS ',b,' cm')\n",
      "#apporximate ans is correct "
     ],
     "language": "python",
     "metadata": {},
     "outputs": [
      {
       "output_type": "stream",
       "stream": "stdout",
       "text": [
        "THE WIDTH OF THE BELT IS  8.9  cm\n"
       ]
      }
     ],
     "prompt_number": 6
    },
    {
     "cell_type": "heading",
     "level": 2,
     "metadata": {},
     "source": [
      "Ex7-pg62"
     ]
    },
    {
     "cell_type": "code",
     "collapsed": false,
     "input": [
      "##CHAPTER 2 ILLUSRTATION 7 PAGE NO 62\n",
      "##TITLE:TRANSMISSION OF MOTION AND POWER BY BELTS AND PULLEYS\n",
      "\n",
      "##===========================================================================================\n",
      "##INPUT DATA\n",
      "m=1000.##                             MASS OF THE CASTING IN kg\n",
      "PI=3.141\n",
      "THETA=2.75*2*PI##                    ANGLE OF CONTACT IN radians\n",
      "D=.26##                               DIAMETER OF DRUM IN m\n",
      "N=24.##                                SPEED OF THE DRUM IN rpm\n",
      "U=.25##                               COEFFICIENT OF FRICTION\n",
      "e=2.71\n",
      "T1=9810##                             TENSION ON TIGHTSIDE IN N\n",
      "##=============================================================================================\n",
      "##CALCULATION\n",
      "T2=T1/(e**(U*THETA))##                 tension on slack side of belt in N\n",
      "W=m*9.81##                            WEIGHT OF CASTING IN N\n",
      "R=D/2.##                               RADIUS OF DRUM IN m\n",
      "P=2*PI*N*W*R/60000.##                  POWER REQUIRED IN kW\n",
      "P2=(T1-T2)*PI*D*N/60000.##                  POWER SUPPLIED BY DRUM IN kW\n",
      "##============================================================================================\n",
      "##OUTPUT\n",
      "print'%s %.1f %s %.1f %s %.1f %s '%('FORCE REQUIRED BY MAN=',T2,' N'and 'POWER REQUIRED TO RAISE CASTING=',P,' kW' 'POWER SUPPLIED BY DRUM=',P2,' kW')\n",
      "\n"
     ],
     "language": "python",
     "metadata": {},
     "outputs": [
      {
       "output_type": "stream",
       "stream": "stdout",
       "text": [
        "FORCE REQUIRED BY MAN= 132.4 POWER REQUIRED TO RAISE CASTING= 3.2  kWPOWER SUPPLIED BY DRUM= 3.2  kW \n"
       ]
      }
     ],
     "prompt_number": 7
    },
    {
     "cell_type": "heading",
     "level": 2,
     "metadata": {},
     "source": [
      "Ex8-pg62"
     ]
    },
    {
     "cell_type": "code",
     "collapsed": false,
     "input": [
      "##CHAPTER 2,ILLUSTRATION 8 PAGE 62\n",
      "##TITLE:TRANSMISSION OF MOTION AND POWER BY BELTS AND PULLEYS\n",
      "import math\n",
      "##INPUT\n",
      "t=9.##THICKNESS IN mm\n",
      "b=250.##WIDTH IN mm\n",
      "D=90.##DIAMETER OF PULLEY IN cm\n",
      "N=336.##SPEED IN rpm\n",
      "PI=3.141\n",
      "U=.35##COEFFICIENT FRICTION\n",
      "e=2.71\n",
      "THETA=120.*PI/180.\n",
      "Fb=2.##STRESS IN MPa\n",
      "d=1000.##DENSITY IN KG/M**3\n",
      "\n",
      "##CALCULATION\n",
      "M=b*10**-3.*t*10**-3.*d##MASS IN KG\n",
      "V=PI*D*10**-2.*N/60.##VELOCITY IN m/s\n",
      "Tc=M*V**2##CENTRIFUGAL TENSION\n",
      "Tmax=b*t*Fb##MAX TENSION IN N\n",
      "T1=Tmax-Tc\n",
      "T2=T1/(e**(U*THETA))\n",
      "P=(T1-T2)*V/1000.\n",
      "\n",
      "##OUTPUT\n",
      "print'%s %.1f %s'%('THE TENSION ON TIGHT SIDE OF THE BELT IS',T1,' N')\n",
      "print'%s %.1f %s'%('THE TENSION ON SLACK SIDE OF THE BELT IS ',T2,' N')\n",
      "print'%s %.1f %s'%('CENTRIFUGAL TENSION =',Tc,'N')\n",
      "print'%s %.1f %s'%('THE POWER CAPACITY OF BELT IS ',P,' KW')\n",
      "\n"
     ],
     "language": "python",
     "metadata": {},
     "outputs": [
      {
       "output_type": "stream",
       "stream": "stdout",
       "text": [
        "THE TENSION ON TIGHT SIDE OF THE BELT IS 3936.1  N\n",
        "THE TENSION ON SLACK SIDE OF THE BELT IS  1895.6  N\n",
        "CENTRIFUGAL TENSION = 563.9 N\n",
        "THE POWER CAPACITY OF BELT IS  32.3  KW\n"
       ]
      }
     ],
     "prompt_number": 9
    },
    {
     "cell_type": "heading",
     "level": 2,
     "metadata": {},
     "source": [
      "Ex9-pg63"
     ]
    },
    {
     "cell_type": "code",
     "collapsed": false,
     "input": [
      "##CHAPTER 2,ILLUSTRATION 9 PAGE 63\n",
      "##TITLE:TRANSMISSION OF MOTION AND POWER BY BELTS AND PULLEYS\n",
      "import math\n",
      "##INPUT\n",
      "P=35000.##POWER TO BE TRANSMITTED IN WATTS\n",
      "D=1.5##EFFECTIVE DIAMETER OF PULLEY IN METRES\n",
      "N=300.##SPEED IN rpm\n",
      "e=2.71\n",
      "U=.3##COEFFICIENT OF FRICTION\n",
      "PI=3.141\n",
      "THETA=(11/24.)*360.*PI/180.##ANGLE OF CONTACT\n",
      "density=1.1##density of belt material in Mg/m**3\n",
      "L=1.##in metre\n",
      "t=9.5##THICKNESS OF BELT IN mm\n",
      "Fb=2.5##PERMISSIBLE WORK STRESS IN N/mm**2\n",
      "\n",
      "##CALCULATION\n",
      "V=PI*D*N/60.##VELOCITY IN m/s\n",
      "X=P/V##X=T1-T2\n",
      "Y=e**(U*THETA)##Y=T1/T2\n",
      "T1=X*Y/(Y-1)\n",
      "Mb=t*density*L/10**3.##value of m/b\n",
      "Tc=Mb*V**2.##centrifugal tension/b\n",
      "Tmaxb=t*Fb##max tension/b\n",
      "b=T1/(Tmaxb-Tc)##thickness in mm\n",
      "##output\n",
      "print'%s %.1f %s'%('TENSION IN TIGHT SIDE OF THE BELT =',T1,' N')\n",
      "print'%s %.1f %s'%('THICKNESS OF THE BELT IS =',b,' mm')\n",
      "\n",
      "\n"
     ],
     "language": "python",
     "metadata": {},
     "outputs": [
      {
       "output_type": "stream",
       "stream": "stdout",
       "text": [
        "TENSION IN TIGHT SIDE OF THE BELT = 2573.5  N\n",
        "THICKNESS OF THE BELT IS = 143.4  mm\n"
       ]
      }
     ],
     "prompt_number": 10
    },
    {
     "cell_type": "heading",
     "level": 2,
     "metadata": {},
     "source": [
      "Ex10-pg64"
     ]
    },
    {
     "cell_type": "code",
     "collapsed": false,
     "input": [
      "##CHAPTER 2,ILLUSTRATION 10 PAGE 64\n",
      "##TITLE:TRANSMISSION OF MOTION AND POWER BY BELTS AND PULLEYS\n",
      "import math\n",
      "##INPUT\n",
      "t=5.##THICKNESS OF BELT IN m\n",
      "PI=3.141\n",
      "U=.3\n",
      "e=2.71\n",
      "THETA=155.*PI/180.##ANGLE OF CONTACT IN radians\n",
      "V=30.##VELOCITY IN m/s\n",
      "density=1.##in m/cm**3\n",
      "L=1.##LENGTH\n",
      "\n",
      "##calculation\n",
      "Xb=80.##           (T1-T2)=80b;so let (T1-T2)/b=Xb\n",
      "Y=e**(U*THETA)##    LET Y=T1/T2\n",
      "Zb=80.*Y/(Y-1.)##   LET  T1/b=Zb;BY SOLVING THE ABOVE 2 EQUATIONS WE WILL GET THIS EXPRESSION\n",
      "Mb=t*L*density*10**-2.## m/b in N\n",
      "Tcb=Mb*V**2.##          centrifugal tension/b\n",
      "Tmaxb=Zb+Tcb##         MAX TENSION/b\n",
      "Fb=Tmaxb/t##STRESS INDUCED IN TIGHT BELT\n",
      "\n",
      "##OUTPUT\n",
      "print'%s %.1f %s'%('THE STRESS DEVELOPED ON THE TIGHT SIDE OF BELT=',Fb,' N/cm**2')\n",
      "\n",
      "\n",
      "\n",
      "\n",
      "\n",
      "\n",
      "\n",
      "\n",
      "\n",
      "\n",
      "\n",
      "\n",
      "\n",
      "\n"
     ],
     "language": "python",
     "metadata": {},
     "outputs": [
      {
       "output_type": "stream",
       "stream": "stdout",
       "text": [
        "THE STRESS DEVELOPED ON THE TIGHT SIDE OF BELT= 37.8  N/cm**2\n"
       ]
      }
     ],
     "prompt_number": 11
    },
    {
     "cell_type": "heading",
     "level": 2,
     "metadata": {},
     "source": [
      "Ex11-pg65"
     ]
    },
    {
     "cell_type": "code",
     "collapsed": false,
     "input": [
      "##CHAPTER 2,ILLUSTRATION 11 PAGE 65\n",
      "##TITLE:TRANSMISSION OF MOTION AND POWER BY BELTS AND PULLEYS\n",
      "import math\n",
      "##INPUT\n",
      "C=4.5##      CENTRE DISTANCE IN metres\n",
      "D1=1.35##    DIAMETER OF LARGER PULLEY IN metres\n",
      "D2=.9##      DIAMETER OF SMALLER PULLEY IN metres\n",
      "To=2100.##    INITIAL TENSION IN newtons\n",
      "b=12.##       WIDTH OF BELT IN cm\n",
      "t=12.##       THICKNESS OF BELT IN mm\n",
      "d=1.##        DENSITY IN gm/cm**3\n",
      "U=.3##       COEFFICIENT OF FRICTION\n",
      "L=1.##        length in metres\n",
      "PI=3.141\n",
      "e=2.71\n",
      "\n",
      "##CALCULATION\n",
      "M=b*t*d*L*10**-2.##               mass of belt per metre length in KG\n",
      "V=(To/3./M)**.5##                 VELOCITY OF FOR MAX POWER TO BE TRANSMITTED IN m/s\n",
      "Tc=M*V**2.##                      CENTRIFUGAL TENSION IN newtons\n",
      "##                              LET (T1+T2)=X\n",
      "X=2.*To-2.*Tc   ##                THE VALUE OF (T1+T2)\n",
      "F=(D1-D2)/(2.*C)\n",
      "ALPHA=math.asin(F/57.3)\n",
      "THETA=(180.-(2.*ALPHA))*PI/180.##   ANGLE OF CONTACT IN radians\n",
      "##                               LET T1/T2=Y\n",
      "Y=e**(U*THETA)##                  THE VALUE OF T1/T2\n",
      "T1=X*Y/(Y+1.)##                   BY SOLVING X AND Y WE WILL GET THIS EQN\n",
      "T2=X-T1\n",
      "P=(T1-T2)*V/1000.##                 MAX POWER TRANSMITTED IN kilowatts\n",
      "N1=V*60./(PI*D1)##                   SPEED OF LARGER PULLEY IN rpm\n",
      "N2=V*60./(PI*D2)##                   SPEED OF SMALLER PULLEY IN rpm\n",
      "##OUTPUT\n",
      "print'%s %.1f %s'%(' MAX POWER TO BE TRANSMITTED =',P,' KW')\n",
      "print'%s %.1f %s'%(' SPEED OF THE LARGER PULLEY =',N1,' rpm')\n",
      "print'%s %.1f %s'%(' SPEED OF THE SMALLER PULLEY =',N2,' rpm')\n"
     ],
     "language": "python",
     "metadata": {},
     "outputs": [
      {
       "output_type": "stream",
       "stream": "stdout",
       "text": [
        " MAX POWER TO BE TRANSMITTED = 27.0  KW\n",
        " SPEED OF THE LARGER PULLEY = 312.0  rpm\n",
        " SPEED OF THE SMALLER PULLEY = 468.0  rpm\n"
       ]
      }
     ],
     "prompt_number": 12
    },
    {
     "cell_type": "heading",
     "level": 2,
     "metadata": {},
     "source": [
      "Ex12-pg66"
     ]
    },
    {
     "cell_type": "code",
     "collapsed": false,
     "input": [
      "##CHAPTER 2,ILLUSTRATION 12 PAGE 66\n",
      "##TITLE:TRANSMISSION OF MOTION AND POWER BY BELTS AND PULLEYS\n",
      "import math\n",
      "##============================================================================================================================\n",
      "##INPUT\n",
      "PI=3.141\n",
      "e=2.71\n",
      "D1=1.20##               DIAMETER OF DRIVING SHAFT IN m\n",
      "D2=.50##                DIAMETER OF DRIVEN SHAFT IN m\n",
      "C=4.##                   CENTRE DISTANCE BETWEEN THE SHAFTS IN m\n",
      "M=.9##                  MASS OF BELT PER METRE LENGTH IN kg\n",
      "Tmax=2000##             MAX TENSION IN N\n",
      "U=.3##                  COEFFICIENT OF FRICTION\n",
      "N1=200.##                SPEED  OF DRIVING SHAFT IN rpm\n",
      "N2=450.##                SPEED OF DRIVEN SHAFT IN rpm\n",
      "##==============================================================================================================================\n",
      "##CALCULATION\n",
      "V=PI*D1*N1/60.##         VELOCITY OF BELT IN m/s\n",
      "Tc=M*V**2.##              CENTRIFUGAL TENSION IN N\n",
      "T1=Tmax-Tc##            TENSION ON TIGHTSIDE IN N\n",
      "F=(D1-D2)/(2.*C)\n",
      "ALPHA=math.asin(F/57.3)\n",
      "THETA=(180.-(2.*ALPHA))*PI/180.##   ANGLE OF CONTACT IN radians\n",
      "T2=T1/(e**(U*THETA))##            TENSION ON SLACK SIDE IN N\n",
      "TL=(T1-T2)*D1/2.##                TORQUE ON THE SHAFT OF LARGER PULLEY IN N-m\n",
      "TS=(T1-T2)*D2/2.##                TORQUE ON THE SHAFT OF SMALLER PULLEY IN N-m\n",
      "P=(T1-T2)*V/1000.##               POWER TRANSMITTED IN kW\n",
      "Pi=2.*PI*N1*TL/60000.##            INPUT POWER\n",
      "Po=2.*PI*N2*TS/60000.##            OUTPUT POWER\n",
      "Pl=Pi-Po##                       POWER LOST DUE TO FRICTION IN kW\n",
      "n=Po/Pi*100.##                    EFFICIENCY OF DRIVE IN %\n",
      "##==================================================================================================================================\n",
      "##OUTPUT\n",
      "print'%s %.1f %s'%('TORQUE ON LARGER SHAFT =',TL,'N-m')\n",
      "print'%s %.1f %s'%('TORQUE ON SMALLER SHAFT =',TS,' N-m')\n",
      "print'%s %.1f %s'%('POWER TRANSMITTED =',P,' kW')\n",
      "print'%s %.1f %s'%('POWER LOST DUE TO FRICTION =',Pl,' kW')\n",
      "print'%s %.1f %s'%('EFFICIENCY OF DRINE =',n,' percentage')\n"
     ],
     "language": "python",
     "metadata": {},
     "outputs": [
      {
       "output_type": "stream",
       "stream": "stdout",
       "text": [
        "TORQUE ON LARGER SHAFT = 679.0 N-m\n",
        "TORQUE ON SMALLER SHAFT = 282.9  N-m\n",
        "POWER TRANSMITTED = 14.2  kW\n",
        "POWER LOST DUE TO FRICTION = 0.9  kW\n",
        "EFFICIENCY OF DRINE = 93.8  percentage\n"
       ]
      }
     ],
     "prompt_number": 14
    },
    {
     "cell_type": "heading",
     "level": 2,
     "metadata": {},
     "source": [
      "Ex13-pg67"
     ]
    },
    {
     "cell_type": "code",
     "collapsed": false,
     "input": [
      "##CHAPTER 2,ILLUSTRATION 13 PAGE 67\n",
      "##TITLE:TRANSMISSION OF MOTION AND POWER BY BELTS AND PULLEYS\n",
      "import math\n",
      "##============================================================================================================================\n",
      "##INPUT\n",
      "PI=3.141\n",
      "e=2.71\n",
      "P=90##                      POWER OF A COMPRESSOR IN kW\n",
      "N2=250.##                   SPEED OF DRIVEN SHAFT IN rpm\n",
      "N1=750.##                   SPEED OF DRIVER SHAFT IN rpm\n",
      "D2=1.##                     DIAMETER OF DRIVEN SHAFT IN m\n",
      "C=1.75##                    CENTRE DISTANCE IN m\n",
      "V=1600./60.##                 VELOCITY IN m/s\n",
      "a=375.##                     CROSECTIONAL AREA IN mm**2\n",
      "density=1000.##              BELT DENSITY IN kg/m**3\n",
      "L=1##                       length to be considered\n",
      "Fb=2.5##                    STRESSS INDUCED IN MPa\n",
      "beeta=35./2.##                THE GROOVE ANGLE OF PULLEY\n",
      "U=.25##                     COEFFICIENT OF FRICTION\n",
      "##=================================================================================================================================\n",
      "##CALCULATION\n",
      "D1=N2*D2/N1##               DIAMETER OF DRIVING SHAFT IN m\n",
      "m=a*density*10**-6.*L##       MASS OF THE BELT IN kg\n",
      "Tmax=a*Fb##                 MAX TENSION IN N\n",
      "Tc=m*V**2.##                  CENTRIFUGAL TENSION IN N\n",
      "T1=Tmax-Tc##                TENSION ON TIGHTSIDE OF BELT IN N\n",
      "F=(D2-D1)/(2.*C)\n",
      "ALPHA=math.asin(F/57.3)\n",
      "THETA=(180.-(2.*ALPHA))*PI/180.##   ANGLE OF CONTACT IN radians\n",
      "T2=T1/(e**(U*THETA/math.sin(beeta/57.3)))##TENSION ON SLACKSIDE IN N\n",
      "P2=(T1-T2)*V/1000.##              POWER TRANSMITTED PER BELT kW\n",
      "N=P/P2##                          NO OF V-BELTS\n",
      "N3=N+1.\n",
      "##======================================================================================================================================\n",
      "##OUTPUT\n",
      "print'%s %.1f %s %.1f %s '%('NO OF BELTS REQUIRED TO TRANSMIT POWER=',N,' APPROXIMATELY=',N3,'')\n",
      "\n",
      "\n"
     ],
     "language": "python",
     "metadata": {},
     "outputs": [
      {
       "output_type": "stream",
       "stream": "stdout",
       "text": [
        "NO OF BELTS REQUIRED TO TRANSMIT POWER= 5.4  APPROXIMATELY= 6.4  \n"
       ]
      }
     ],
     "prompt_number": 15
    },
    {
     "cell_type": "heading",
     "level": 2,
     "metadata": {},
     "source": [
      "Ex14-pg68"
     ]
    },
    {
     "cell_type": "code",
     "collapsed": false,
     "input": [
      "##CHAPTER 2,ILLUSTRATION 14 PAGE 68\n",
      "##TITLE:TRANSMISSION OF MOTION AND POWER BY BELTS AND PULLEYS\n",
      "import math\n",
      "##============================================================================================================================\n",
      "##INPUT\n",
      "PI=3.141\n",
      "e=2.71\n",
      "P=75.##             POWER IN kW\n",
      "D=1.5##            DIAMETER OF PULLEY IN m\n",
      "U=.3##             COEFFICIENT OF FRICTION\n",
      "beeta=45./2.##       GROOVE ANGLE\n",
      "THETA=160.*PI/180.## ANGLE OF CONTACT IN radians\n",
      "m=.6##             MASS OF BELT IN kg/m\n",
      "Tmax=800.##         MAX TENSION IN N\n",
      "N=200.##            SPEED OF SHAFT IN rpm\n",
      "##=============================================================================================================================\n",
      "##calculation\n",
      "V=PI*D*N/60.##               VELOCITY OF ROPE IN m/s\n",
      "Tc=m*V**2.##                  CENTRIFUGAL TENSION IN N\n",
      "T1=Tmax-Tc##                     TENSION ON TIGHT SIDE IN N\n",
      "T2=T1/(e**(U*THETA/math.sin(beeta/57.3)))##TENSION ON SLACKSIDE IN N\n",
      "P2=(T1-T2)*V/1000.##              POWER TRANSMITTED PER BELT kW\n",
      "No=P/P2##                          NO OF V-BELTS\n",
      "N3=No+1.##                           ROUNDING OFF\n",
      "To=(T1+T2+Tc*2.)/2.##                 INITIAL TENSION\n",
      "##================================================================================================================================\n",
      "##OUTPUT\n",
      "print'%s %.1f %s %.1f %s '%('NO OF BELTS REQUIRED TO TRANSMIT POWER=',No,'' 'APPROXIMATELY=',N3,'')\n",
      "print'%s %.1f %s'%('INITIAL ROPE TENSION=',To,' N')\n"
     ],
     "language": "python",
     "metadata": {},
     "outputs": [
      {
       "output_type": "stream",
       "stream": "stdout",
       "text": [
        "NO OF BELTS REQUIRED TO TRANSMIT POWER= 8.3 APPROXIMATELY= 9.3  \n",
        "INITIAL ROPE TENSION= 510.8  N\n"
       ]
      }
     ],
     "prompt_number": 16
    }
   ],
   "metadata": {}
  }
 ]
}