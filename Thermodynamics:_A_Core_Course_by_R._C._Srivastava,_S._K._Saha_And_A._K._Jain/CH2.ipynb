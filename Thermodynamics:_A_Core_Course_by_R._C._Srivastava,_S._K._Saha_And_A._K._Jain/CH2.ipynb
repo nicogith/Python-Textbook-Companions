{
 "metadata": {
  "name": ""
 },
 "nbformat": 3,
 "nbformat_minor": 0,
 "worksheets": [
  {
   "cells": [
    {
     "cell_type": "heading",
     "level": 1,
     "metadata": {},
     "source": [
      "Chapter 2:Important terminologies in Thermodynamics "
     ]
    },
    {
     "cell_type": "heading",
     "level": 2,
     "metadata": {},
     "source": [
      "Example 2.1,Page no:13"
     ]
    },
    {
     "cell_type": "code",
     "collapsed": false,
     "input": [
      "m=25.0 \t\t\t\t#weight of water vapour [grams]\n",
      "w=18.0 \t\t\t\t#molecular weight of water vapour [grams/mol]\n",
      "T=9.69 \t\t\t\t#increase in temperature [K]\n",
      "Qp=0.45 \t\t\t#heat supplied at constant pressure[KJ]\n",
      "\n",
      "n=m/w \t\t\t\t#no. of moles of water vapour\n",
      "Cp=Qp/(n*T) \t\t\t#specific heat capacity at constant pressure[KJ]\n",
      "Cp=Cp*1000\t\t\t#specific heat capacity at constant pressure[J]\n",
      "\n",
      "print\"The specific heat capacity at constant pressure =\",round(Cp,2),\"J K^-1 mol^-1\""
     ],
     "language": "python",
     "metadata": {},
     "outputs": [
      {
       "output_type": "stream",
       "stream": "stdout",
       "text": [
        "The specific heat capacity at constant pressure = 33.44 J K^-1 mol^-1\n"
       ]
      }
     ],
     "prompt_number": 1
    },
    {
     "cell_type": "heading",
     "level": 2,
     "metadata": {},
     "source": [
      "Example 2.2,Page no:14"
     ]
    },
    {
     "cell_type": "code",
     "collapsed": false,
     "input": [
      "import math\n",
      "m=16.0 \t\t\t\t#weight of oxygen [grams]\n",
      "w=32.0 \t\t\t\t#molecular weight of oxygen [grams/mol]\n",
      "T=300.0 \t\t\t\t#Temperature during compression [K]\n",
      "P1=1.0 \t\t\t\t#initial pressure of process [atm]\n",
      "P2=100.0 \t\t\t\t#final pressure of process[atm]\n",
      "R=8.314 \t\t\t#Universal gas constant [J/K/mol]\n",
      "n=m/w \t\t\t\t#no. of moles of oxygen\n",
      "W=-n*R*T*math.log(P1/P2) \n",
      "print\"Mininmum work done to compress oxygen =\",round(W),\"J(approx)\""
     ],
     "language": "python",
     "metadata": {},
     "outputs": [
      {
       "output_type": "stream",
       "stream": "stdout",
       "text": [
        "Mininmum work done to compress oxygen = 5743.0 J(approx)\n"
       ]
      }
     ],
     "prompt_number": 2
    }
   ],
   "metadata": {}
  }
 ]
}