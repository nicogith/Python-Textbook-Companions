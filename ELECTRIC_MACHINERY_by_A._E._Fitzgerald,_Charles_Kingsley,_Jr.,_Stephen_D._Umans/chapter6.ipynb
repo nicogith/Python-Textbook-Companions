{
 "metadata": {
  "name": "",
  "signature": "sha256:543f6585f8a1e6c2c290bd192837a35d6ff750409ce379696635948315dd7dcf"
 },
 "nbformat": 3,
 "nbformat_minor": 0,
 "worksheets": [
  {
   "cells": [
    {
     "cell_type": "heading",
     "level": 1,
     "metadata": {},
     "source": [
      "Chapter 6: Polyphase Induction Machines"
     ]
    },
    {
     "cell_type": "heading",
     "level": 3,
     "metadata": {},
     "source": [
      "Example 6.1, Page number: 318"
     ]
    },
    {
     "cell_type": "code",
     "collapsed": false,
     "input": [
      "from __future__ import division\n",
      "\n",
      "#Variable declaration:\n",
      "n=3502                              #Speed of motor(rpm)\n",
      "Pin=15.7                            #Input power(kW)\n",
      "Ia=22.6                             #Terminal current(A)\n",
      "R=0.2                               #Stator winding resistance(ohm/ph)\n",
      "f=60                                #frequency(Hz)\n",
      "p=2                                 #No. of poles\n",
      "\n",
      "#Calculations:\n",
      "Ps=3*Ia**2*R/10**3                       #Power dissipated in stator winding(kW)\n",
      "Pg=Pin-Ps                           #Air-gap power(kW)\n",
      "ns=120*f/p\n",
      "s=(ns-n)/ns\n",
      "Pr=s*Pg                             #Power dissipated in stator(kW)\n",
      "\n",
      "\n",
      "#Results:\n",
      "print \"Power dissipated in stator:\",round(Pr*10**3,0),\"W\""
     ],
     "language": "python",
     "metadata": {},
     "outputs": [
      {
       "output_type": "stream",
       "stream": "stdout",
       "text": [
        "Power dissipated in stator: 419.0 W\n"
       ]
      }
     ],
     "prompt_number": 1
    },
    {
     "cell_type": "heading",
     "level": 3,
     "metadata": {},
     "source": [
      "Example 6.2, Page number: 320"
     ]
    },
    {
     "cell_type": "code",
     "collapsed": false,
     "input": [
      "from __future__ import division\n",
      "import cmath\n",
      "import math\n",
      "\n",
      "\n",
      "#Variable declaration:\n",
      "R1=0.294                            #Resistance of stator(ohm)\n",
      "R2=0.144                            #Rotor resistance referred to stator(ohm)\n",
      "X1=0.503                            #Reactance of stator(ohm)\n",
      "X2=0.209                            #Reactance of rotor referred to stator(ohm)\n",
      "Xm=13.25                            #Leakage reactance(ohm)\n",
      "s=0.02                              #slip\n",
      "Prot=403                            #Friction, windage and core losses(W)\n",
      "V=220                               #Line-to-line voltage(V)                          \n",
      "p=6                                 #No. of poles\n",
      "fc=60                               #frequency(Hz)\n",
      "nph=3                               #No. of phase\n",
      "\n",
      "#Calculations:\n",
      "Zf=((R2/s+1j*X2)*1j*Xm)/(R2/s+1j*X2+1j*Xm)\n",
      "Zin=R1+1j*X1+Zf\n",
      "V1=V/math.sqrt(3)\n",
      "I1=V1/Zin\n",
      "a=cmath.phase(I1)\n",
      "pf=math.cos(a)\n",
      "ns=120*fc/p\n",
      "ws=4*math.pi*fc/p\n",
      "n=(1-s)*ns\n",
      "wm=(1-s)*ws\n",
      "Pg=nph*abs(I1)**2*(Zf.real)\n",
      "Psh=(1-s)*Pg-Prot\n",
      "Tsh=Psh/wm\n",
      "Pin=nph*(V1*I1).real\n",
      "eff=Psh/Pin\n",
      "\n",
      "\n",
      "#Results:\n",
      "print \"Rotor speed:     \",n,\"rpm\"\n",
      "print \"Output torque:   \",round(Tsh,2),\"Nm\"\n",
      "print \"Output power:    \",round(Psh,2),\"W\"\n",
      "print \"Stator current:  \",round(abs(I1),1),\"A\"\n",
      "print \"Power factor:    \",round(pf,3),\"lagging\"\n",
      "print \"Efficiency of motor:\",round(eff*100,0),\"%\"\n"
     ],
     "language": "python",
     "metadata": {},
     "outputs": [
      {
       "output_type": "stream",
       "stream": "stdout",
       "text": [
        "Rotor speed:      1176.0 rpm\n",
        "Output torque:    42.4 Nm\n",
        "Output power:     5221.6 W\n",
        "Stator current:   18.8 A\n",
        "Power factor:     0.846 lagging\n",
        "Efficiency of motor: 86.0 %\n"
       ]
      }
     ],
     "prompt_number": 2
    },
    {
     "cell_type": "heading",
     "level": 3,
     "metadata": {},
     "source": [
      "Example 6.3, Page number: 325"
     ]
    },
    {
     "cell_type": "code",
     "collapsed": false,
     "input": [
      "from __future__ import division\n",
      "import cmath\n",
      "from math import *\n",
      "\n",
      "\n",
      "#Variable declaration:\n",
      "R1=0.294                            #Resistance of stator(ohm)\n",
      "R2=0.144                            #Rotor resistance referred to stator(ohm)\n",
      "X1=0.503                            #Reactance of stator(ohm)\n",
      "X2=0.209                            #Reactance of rotor referred to stator(ohm)\n",
      "Xm=13.25                            #Leakage reactance(ohm)\n",
      "s=0.03                              #slip\n",
      "V=220                               #Line-to-line voltage(V)         \n",
      "p=6                                 #No. of poles\n",
      "fc=60                               #frequency(Hz)\n",
      "nph=3                               #No. of phase\n",
      "\n",
      "\n",
      "#Calculations:\n",
      "#for part (a):\n",
      "Zf=((R2/s+1j*X2)*1j*Xm)/(R2/s+1j*X2+1j*Xm)   #Impedance referred to stator(ohm)      \n",
      "Zin=R1+1j*X1+Zf                                 #Total input impedance(ohm)\n",
      "Z1_eq=1j*Xm*(R1+1j*X1)/(R1+1j*(X1+Xm))          #Total equiv. impedance(ohm)\n",
      "R1_eq=Z1_eq.real\n",
      "X1_eq=Z1_eq.imag\n",
      "V1=V/sqrt(3)\n",
      "V1_eq=V1*(1j*Xm/(R1+1j*(X1+Xm)))\n",
      "I2=abs(V1_eq)/sqrt((R1_eq+R2/s)**2+(X1_eq+X2)**2)\n",
      "ws=4*pi*fc/p\n",
      "ns=120*fc/p\n",
      "Tmech=nph*I2**2*(R2/s)/ws\n",
      "Pmech=nph*round(I2,1)**2*(R2/s)*(1-s)\n",
      "\n",
      "\n",
      "#for part (b):\n",
      "SmaxT=R2/sqrt(R1_eq**2+(X1_eq+X2)**2)     #slip at max torque\n",
      "n_max=(1-SmaxT)*ns\n",
      "Tmax=(1/ws)*(0.5*nph*abs(V1_eq)**2)/(R1_eq+sqrt(R1_eq**2+(X1_eq+X2)**2))\n",
      "\n",
      "#for part (c):\n",
      "s1=1                                        #Slip at starting of motor\n",
      "I2_start=abs(V1_eq)/sqrt((R1_eq+R2)**2+(X1_eq+X2)**2)\n",
      "Tstart=nph*I2_start**2*R2/ws\n",
      "\n",
      "\n",
      "#Results:\n",
      "print \"(a) Load component I2 of stator current:\",round(I2,1),\"A\"\n",
      "print \"    Electromechanical torque, Tmech    :\",round(Tmech,1),\"Nm\"\n",
      "print \"    Electromechanical power, Pmech     :\",round(Pmech,0),\"W\"\n",
      "\n",
      "print \"(b) Maximum electromechanical torque   :\",round(Tmax,0),\"Nm\"\n",
      "print \"    Speed                              :\",round(n_max,0),\"rpm\"\n",
      "\n",
      "print \"(c) Electromechanical starting torque Tstart:\",round(Tstart,1),\"Nm\"\n",
      "print \"    Stator load current, I2_start           :\",round(I2_start,0),\"A\""
     ],
     "language": "python",
     "metadata": {},
     "outputs": [
      {
       "output_type": "stream",
       "stream": "stdout",
       "text": [
        "(a) Load component I2 of stator current: 23.9 A\n",
        "    Electromechanical torque, Tmech    : 65.4 Nm\n",
        "    Electromechanical power, Pmech     : 7979.0 W\n",
        "(b) Maximum electromechanical torque   : 175.0 Nm\n",
        "    Speed                              : 970.0 rpm\n",
        "(c) Electromechanical starting torque Tstart: 77.6 Nm\n",
        "    Stator load current, I2_start           : 150.0 A\n"
       ]
      }
     ],
     "prompt_number": 3
    },
    {
     "cell_type": "heading",
     "level": 3,
     "metadata": {},
     "source": [
      "Example 6.4, Page number: 328"
     ]
    },
    {
     "cell_type": "code",
     "collapsed": false,
     "input": [
      "from __future__ import division\n",
      "%matplotlib inline\n",
      "import cmath\n",
      "from math import *\n",
      "from matplotlib import *\n",
      "from pylab import *\n",
      "\n",
      "#Variable declaration:\n",
      "V=230                               #line to line voltage(V)\n",
      "R1=0.095                            #Resistance of stator(ohm)\n",
      "X1=0.680                            #Reactance of stator(ohm)\n",
      "X2=0.672                            #Reactance of rotor referred to stator(ohm)\n",
      "Xm=18.7                             #Leakage reactance(ohm)\n",
      "f=60                                #frequency(Hz)\n",
      "p=4                                 #No. of poles\n",
      "nph=3                               #No. of phases\n",
      "\n",
      "\n",
      "#Calculations and Results:\n",
      "V1=V/sqrt(3)\n",
      "omega=4*pi*f/p\n",
      "ns=120*f/p\n",
      "Z1eq=1j*Xm*(R1+1j*X1)/(R1+1j*(X1+Xm))           #Stator thevenin equivalent\n",
      "R1eq=Z1eq.real\n",
      "X1eq=Z1eq.imag\n",
      "V1eq=abs(V1*1j*Xm/(R1+1j*(X1+Xm)))\n",
      "\n",
      "print \"Hence, the required plot is shown below:\"\n",
      "for m in range(1,6,1):                      #Loop over rotor resistance\n",
      "    if m==1:\n",
      "        R2=0.1\n",
      "    elif m==2:\n",
      "        R2=0.2\n",
      "    elif m==3:\n",
      "        R2=0.5\n",
      "    elif m==4:\n",
      "        R2=1.0\n",
      "    else:\n",
      "        R2=1.5\n",
      "\n",
      "    s=[0]*202\n",
      "    rpm=[0]*202\n",
      "    Tmech=[0]*202\n",
      "    for n in range(1,201,1):                    #Loop over slip\n",
      "        s[n-1]=n/200                            #slip\n",
      "        rpm[n-1]=ns*(1-s[n-1])                  #rpm\n",
      "        I2=abs(V1eq/(Z1eq+1j*X2+R2/s[n-1]))     #I2\n",
      "        Tmech[n-1]=nph*I2**2*R2/(s[n-1]*omega)  #Electromechanical torque(Nm)\n",
      "\n",
      "    plot(rpm,Tmech)\n",
      "    title('Electromechanical mechanical torque, Tmech(Nm) vs rpm')\n",
      "    xlabel(\"rpm\")\n",
      "    ylabel(\"Tmech\")\n",
      "    if m==1:\n",
      "        show()\n",
      "show()"
     ],
     "language": "python",
     "metadata": {},
     "outputs": [
      {
       "output_type": "stream",
       "stream": "stdout",
       "text": [
        "Hence, the required plot is shown below:\n"
       ]
      },
      {
       "metadata": {},
       "output_type": "display_data",
       "png": "[encoded data removed]",
       "text": [
        "<matplotlib.figure.Figure at 0x32859d0>"
       ]
      },
      {
       "metadata": {},
       "output_type": "display_data",
       "png": "[encoded data removed]",
       "text": [
        "<matplotlib.figure.Figure at 0x34979d0>"
       ]
      }
     ],
     "prompt_number": 2
    },
    {
     "cell_type": "heading",
     "level": 3,
     "metadata": {},
     "source": [
      "Example 6.5, Page number: 335"
     ]
    },
    {
     "cell_type": "code",
     "collapsed": false,
     "input": [
      "from __future__ import division\n",
      "import math\n",
      "from sympy import *\n",
      "import math\n",
      "\n",
      "#Variable declaration:\n",
      "nph=3                       #No. of phases\n",
      "k=0.429             #reactance ratio(X1/X2) from table 6.1,for class C motor\n",
      "p=4                         #No.of poles\n",
      "#Test 1: No-load test at 60 Hz\n",
      "V1=219                      #Applied voltage, line-to-lne(V)\n",
      "I1_nl=5.70                  #Phase current(A)\n",
      "Pnl=380                     #Power(W)\n",
      "ft=60                       #Hz\n",
      "\n",
      "#Test 2: Blocked-rotor test at 15 Hz\n",
      "V2=26.5                     #Applie voltage, line-to-line(V)\n",
      "I1_bl=18.57                 #Phase current(A)\n",
      "Pbl=675                     #Power(W)\n",
      "fbl=15                      #Hz\n",
      "\n",
      "#Test 3:\n",
      "R1=0.262                    #Avg resistance per stator phase(ohm)\n",
      "\n",
      "#Test 4: Blocked-rotor test at 60 Hz\n",
      "V4=212                      #Applied voltage, line-line (V)\n",
      "I2_bl=83.3                  #Avg phase current(A)\n",
      "Pbl_4=20.1*10**3            #Power(W)\n",
      "Tstart=74.2                 ##starting torque(Nm)\n",
      "\n",
      "\n",
      "#Calculations:\n",
      "#For part (a):\n",
      "Prot=Pnl-nph*I1_nl**2*R1\n",
      "V1_nl=V1/sqrt(3)                            #from test 1\n",
      "Qnl=sqrt((nph*V1_nl*I1_nl)**2-Pnl**2)\n",
      "Xnl=Qnl/(nph*I1_nl**2)\n",
      "V1_bl=V2/sqrt(3)                            #from test 2\n",
      "Qbl=sqrt((nph*V1_bl*I1_bl)**2-Pbl**2)\n",
      "Xbl=(ft/fbl)*(Qbl/(nph*I1_bl**2))\n",
      "X2=symbols('X2')\n",
      "fx=k**2*X2**2+(Xbl*(1-k)-Xnl*(1+k))*X2+Xnl*Xbl\n",
      "x=solve(fx,X2)\n",
      "X2=round(x[0],2)                    #since X2 must be less than X1\n",
      "X1=k*X2\n",
      "Xm=Xnl-X1\n",
      "Rbl=Pbl/(nph*I1_bl**2)\n",
      "R2=(Rbl-R1)*((X2+Xm)/Xm)**2\n",
      "\n",
      "#for part (b):\n",
      "Pg=Pbl_4-nph*I2_bl**2*R1\n",
      "ws=4*math.pi*ft/p\n",
      "Tstart=Pg/ws\n",
      "\n",
      "\n",
      "#Results:\n",
      "print \"(a) N-load rotational loss:\",round(Prot,0),\"W\"\n",
      "print \"\\n  Equivalent ckt parameters:\\n\"\n",
      "print\"  R1=\",round(R1,3),\"ohm\",\"  R2=\",round(R2,3),\"ohm\"\n",
      "print\"  X1=\",round(X1,3),\"ohm\",\"  X2=\",round(X2,3),\"ohm\",\" Xm=\",round(Xm,2),\"ohm\"\n",
      "print \"\\n(b) Starting torque:\",round(Tstart,2),\"Nm\""
     ],
     "language": "python",
     "metadata": {},
     "outputs": [
      {
       "output_type": "stream",
       "stream": "stdout",
       "text": [
        "(a) N-load rotational loss: 354.0 W\n",
        "\n",
        "  Equivalent ckt parameters:\n",
        "\n",
        "  R1= 0.262 ohm   R2= 0.447 ohm\n",
        "  X1= 0.635 ohm   X2= 1.48 ohm  Xm= 21.2 ohm\n",
        "\n",
        "(b) Starting torque: 77.7 Nm\n"
       ]
      }
     ],
     "prompt_number": 6
    },
    {
     "cell_type": "heading",
     "level": 3,
     "metadata": {},
     "source": [
      "Example 6.6, Page number: 338"
     ]
    },
    {
     "cell_type": "code",
     "collapsed": false,
     "input": [
      "from __future__ import division\n",
      "from math import *\n",
      "\n",
      "#Variable declaration:\n",
      "Xnl=21.8                                #ohm\n",
      "Xbl=2.01                                #ohm\n",
      "R_1=0.26                                 #ohm\n",
      "Rbl=0.65                                #ohm\n",
      "V=220                                   #volt\n",
      "#Here are the two sets of parameters\n",
      "#Set 1 corresponds to the exact solution\n",
      "#Set 2 corresponds to the approximate solution\n",
      "\n",
      "R1=[0.262, 0.262]                        #ohm\n",
      "R2=[0.447, 0.444]                        #ohm\n",
      "X1=[0.633, 0.603]                        #H\n",
      "X2=[1.47, 1.41]                          #H\n",
      "Xm=[21.2, 21.2]                          #H\n",
      "nph=3                                   #No. of phases\n",
      "p=4                                     #No. of poles\n",
      "Prot=354                                #Rotational losses(Watts)\n",
      "\n",
      "#Calculations:\n",
      "X_1=0.3*Xbl                              #(ohm) from table 6.1 and X1+X2=Xbl\n",
      "X_2=Xbl-X_1                               #ohm\n",
      "X_m=Xnl-X_1\n",
      "R_2=(Rbl-R_1)*((X_2+X_m)/X_m)**2\n",
      "\n",
      "#Results for part (a):\n",
      "print \"(a) The parameters:\\n\"\n",
      "print\"  R1=\",round(R_1,3),\"ohm\",\"  R2=\",round(R_2,3),\"ohm\"\n",
      "print\"  X1=\",round(X_1,3),\"ohm\",\"   X2=\",round(X_2,2),\"ohm\"\n",
      "print\"  Xm=\",round(X_m,3),\"ohm\"\n",
      "\n",
      "#Calculations & Results for part (b):\n",
      "print \"\\n\\n(b)\"\n",
      "#Here is the operating condition\n",
      "V1=220/sqrt(3)\n",
      "fe=60                                   #Hz\n",
      "rpm=1746\n",
      "#Calculate the synchronous speed:\n",
      "ns=120*fe/p\n",
      "ws=4*pi*fe/p\n",
      "s=(ns-rpm)/ns\n",
      "wm=ws*(1-s)\n",
      "Zgap=[0]*2\n",
      "Zin=[0]*2\n",
      "Pmech=[0]*2\n",
      "I1=[0]*2\n",
      "I2=[0]*2\n",
      "Tmech=[0]*2\n",
      "\n",
      "#Calculate stator Thevenin equivalent:\n",
      "#Loop over the two motors\n",
      "for m in range(0,2,1):\n",
      "    Zgap = 1j*Xm[m]*(1j*X2[m] + R2[m]/s)/(R2[m]/s + 1j*(Xm[m] + X2[m]))\n",
      "    Zin=R1[m]+1j*X1[m]+Zgap\n",
      "    I1=V1/Zin\n",
      "    I2=I1*(1j*Xm[m])/(R2[m]/s+1j*(Xm[m]+X2[m]))\n",
      "    Tmech=nph*abs(I2)**2*R2[m]/(s*ws)   #Electromechanical torque\n",
      "    Pmech=wm*Tmech                      #Electromechanical power\n",
      "    Pshaft=Pmech - Prot\n",
      "    if (m==0):\n",
      "        print \"Exact Solution:\"\n",
      "    else:\n",
      "        print \"\\nApproximate Solution:\"\n",
      "\n",
      "\n",
      "\n",
      "    \n",
      "    print \"\\tPmech=\",round(Pmech,1),\"W\",\"\\tPshaft =\",round(Pshaft,1), \"W\"\n",
      "    print \"\\tI1=\", round(abs(I1),1),\"A\""
     ],
     "language": "python",
     "metadata": {},
     "outputs": [
      {
       "output_type": "stream",
       "stream": "stdout",
       "text": [
        "(a) The parameters:\n",
        "\n",
        "  R1= 0.26 ohm   R2= 0.443 ohm\n",
        "  X1= 0.603 ohm    X2= 1.41 ohm\n",
        "  Xm= 21.197 ohm\n",
        "\n",
        "\n",
        "(b)\n",
        "Exact Solution:\n",
        "\tPmech= 2820.7 W \tPshaft = 2466.7 W\n",
        "\tI1= 10.3 A\n",
        "\n",
        "Approximate Solution:\n",
        "\tPmech= 2850.5 W \tPshaft = 2496.5 W\n",
        "\tI1= 10.4 A\n"
       ]
      }
     ],
     "prompt_number": 7
    }
   ],
   "metadata": {}
  }
 ]
}