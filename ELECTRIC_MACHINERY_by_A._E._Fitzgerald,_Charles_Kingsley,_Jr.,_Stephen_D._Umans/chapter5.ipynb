{
 "metadata": {
  "name": "",
  "signature": "sha256:fdfb62ac44329d8ca6f9c44e55b110ca6276a0bf982882f2c43000518ecc6bb3"
 },
 "nbformat": 3,
 "nbformat_minor": 0,
 "worksheets": [
  {
   "cells": [
    {
     "cell_type": "heading",
     "level": 1,
     "metadata": {},
     "source": [
      "Chapter 5: Synchronous Machines"
     ]
    },
    {
     "cell_type": "heading",
     "level": 3,
     "metadata": {},
     "source": [
      "Example 5.1, Page number: 254"
     ]
    },
    {
     "cell_type": "code",
     "collapsed": false,
     "input": [
      "from __future__ import division\n",
      "import math\n",
      "import cmath\n",
      "\n",
      "#Varaible Declaration:\n",
      "pf=0.95                                 #Lagging power factor\n",
      "Vl=460                                  #Terminal voltage(V)\n",
      "I=120                                   #Terminal current(A)\n",
      "If=47                                   #Field current(A)\n",
      "X=1.68j                                 #Line syncchronous reactance(ohm)\n",
      "\n",
      "\n",
      "#Calculation:\n",
      "#Choosing motor reference direction:\n",
      "Va=Vl/math.sqrt(3)\n",
      "theta=math.acos(0.95)\n",
      "Ia=I*cmath.exp(-theta*1j)\n",
      "Eaf=Va-X*Ia\n",
      "wc=120*math.pi\n",
      "Laf=math.sqrt(2)*abs(Eaf)/(wc*If)\n",
      "P=3*Va*Ia*pf\n",
      "\n",
      "#Results:\n",
      "print \"Generated emf:\",round(abs(Eaf),1),\"V line to line\"\n",
      "print \"Fied to armature mutual inductance:\",round(Laf*1000,1),\"mH\"\n",
      "print \"Three phase power:\",round(abs(P/1000),1),\"kW or\",round(abs(P)/746),\"hp\"\n"
     ],
     "language": "python",
     "metadata": {},
     "outputs": [
      {
       "output_type": "stream",
       "stream": "stdout",
       "text": [
        "Generated emf: 278.8 V line to line\n",
        "Fied to armature mutual inductance: 22.3 mH\n",
        "Three phase power: 90.8 kW or 122.0 hp\n"
       ]
      }
     ],
     "prompt_number": 2
    },
    {
     "cell_type": "heading",
     "level": 3,
     "metadata": {},
     "source": [
      "Example 5.2, Page number: 255"
     ]
    },
    {
     "cell_type": "code",
     "collapsed": false,
     "input": [
      "from __future__ import division\n",
      "import cmath \n",
      "from math import *\n",
      "\n",
      "#Variable Declaration:\n",
      "Pin=90.6*10**3                              #Input power(kW)\n",
      "Va=265.6                                    #Terninal voltage(V)\n",
      "X=1.68j                                     #Synchronous reactance(ohm)\n",
      "Laf=22.3*10**-3                             #Mutual inductance(H)\n",
      "wc=120*pi                                   #Angular frequency(rad/sec)\n",
      "\n",
      "\n",
      "#Calculations:\n",
      "Ia=Pin/(3*Va)\n",
      "Eaf=Va-X*Ia\n",
      "delta=degrees(cmath.phase(Eaf))\n",
      "I=sqrt(2)*Eaf/(wc*Laf)\n",
      "\n",
      "\n",
      "#Results:\n",
      "print\"The phase angle,delta:\",round(delta,1),\"degrees\"\n",
      "print\"Required field current:\",round(abs(I),2),\"A\""
     ],
     "language": "python",
     "metadata": {},
     "outputs": [
      {
       "output_type": "stream",
       "stream": "stdout",
       "text": [
        "The phase angle,delta: -35.7 degrees\n",
        "Required field current: 55.04 A\n"
       ]
      }
     ],
     "prompt_number": 4
    },
    {
     "cell_type": "heading",
     "level": 3,
     "metadata": {},
     "source": [
      "Example 5.3, Page number: 257"
     ]
    },
    {
     "cell_type": "code",
     "collapsed": false,
     "input": [
      "from __future__ import division\n",
      "from math import *\n",
      "\n",
      "#Variable declaration:\n",
      "Eafl=13.8*10**3                             #Open circuit voltage(V)\n",
      "If1=318                                     #Field current(A)\n",
      "If2=263                              #Field current after extrapolation(A)\n",
      "wc=120*pi                            #Angular frequency(Hz)\n",
      "\n",
      "#Calculations:\n",
      "Eaf=Eafl/sqrt(3)\n",
      "La1=sqrt(2)*Eaf/(wc*If1)\n",
      "La2=sqrt(2)*Eaf/(wc*If2)\n",
      "\n",
      "#Results:\n",
      "print \"Saturated Laf1:\",round(La1*1000,0),\"mH\"    \n",
      "print \"Unsaturated Laf1:\",round(La2*1000,0),\"mH\""
     ],
     "language": "python",
     "metadata": {},
     "outputs": [
      {
       "output_type": "stream",
       "stream": "stdout",
       "text": [
        "Saturated Laf1: 94.0 mH\n",
        "Unsaturated Laf1: 114.0 mH\n"
       ]
      }
     ],
     "prompt_number": 5
    },
    {
     "cell_type": "heading",
     "level": 3,
     "metadata": {},
     "source": [
      "Example 5.4, Page number: 262"
     ]
    },
    {
     "cell_type": "code",
     "collapsed": false,
     "input": [
      "from __future__ import division\n",
      "from math import *\n",
      "\n",
      "#Variable declaration:\n",
      "Ia=[118, 152]                     #Armature current from SC Characteristics(A)\n",
      "If=[2.20, 2.84]                     #Field current from SC Characteristics(A)\n",
      "Vll=220                             #Line-to-line Voltage(V)\n",
      "V=202                               #Line-to-line air voltage(V) \n",
      "P=45*10**3                          #Power roted to motor(W)   \n",
      "Is_sc=1                             #per unit rated current(A)\n",
      "\n",
      "#Calculations:\n",
      "Va_ag=V/sqrt(3)                 #At field current of 2.20A,at air gap,(V)\n",
      "Ia_ag=Ia[0]\n",
      "Xs_u=Va_ag/Ia_ag\n",
      "Ia_rated=P/(sqrt(3)*Vll)\n",
      "Xa_g=Va_ag/1\n",
      "Xs_u_pu=Va_ag/Is_sc\n",
      "Xs=Vll/(Ia[1]*sqrt(3))\n",
      "Ia_pu=Ia[1]/Ia[0]\n",
      "SCR=If[1]/If[0]\n",
      "Xs=1/SCR\n",
      "\n",
      "\n",
      "\n",
      "#Results:\n",
      "print \"'All quantities are in per unit values'\"\n",
      "print\"Unsaturated value of synchronous reactance:\",round(Xs_u,3),\"ohm\"\n",
      "print \"Satureted value of synchronous reactance: \",round(Xs,3),\"ohm\"\n",
      "print\"Short circuit ratio:\",round(SCR,3)"
     ],
     "language": "python",
     "metadata": {},
     "outputs": [
      {
       "output_type": "stream",
       "stream": "stdout",
       "text": [
        "'All quantities are in per unit values'\n",
        "Unsaturated value of synchronous reactance: 0.988 ohm\n",
        "Satureted value of synchronous reactance:  0.775 ohm\n",
        "Short circuit ratio: 1.291\n"
       ]
      }
     ],
     "prompt_number": 6
    },
    {
     "cell_type": "heading",
     "level": 3,
     "metadata": {},
     "source": [
      "Example 5.5, Page number: 265"
     ]
    },
    {
     "cell_type": "code",
     "collapsed": false,
     "input": [
      "from __future__ import division\n",
      "\n",
      "#Variable declaration:\n",
      "P_rated=45*10**3                        #Rated power(KV)\n",
      "Pl=1.80*10**3                           #Short circuit load loss(W)\n",
      "Ia_pu=1                                    #Per unit armature current\n",
      "Ia=118                                  #rated armature current(A)\n",
      "Ra_dc=0.0335                            #Dc resistance(ohm/phase)\n",
      "\n",
      "\n",
      "#Calculations:\n",
      "Pl_pu=Pl/P_rated    \n",
      "Ra_eff1=Pl_pu/Ia_pu**2                      #in per unit basis\n",
      "Ra_eff2=Pl/(3*(Ia)**2)\n",
      "\n",
      "#Results:\n",
      "print \"Armature resistance in per unit:\",round(Ra_eff1,3),\"per unit\" \n",
      "print \"Armature resistance in ohms/phase:\", round(Ra_eff2,3),\"ohms/phase\""
     ],
     "language": "python",
     "metadata": {},
     "outputs": [
      {
       "output_type": "stream",
       "stream": "stdout",
       "text": [
        "Armature resistance in per unit: 0.04 per unit\n",
        "Armature resistance in ohms/phase: 0.043 ohms/phase\n"
       ]
      }
     ],
     "prompt_number": 4
    },
    {
     "cell_type": "heading",
     "level": 3,
     "metadata": {},
     "source": [
      "Example 5.6, Page number: 269"
     ]
    },
    {
     "cell_type": "code",
     "collapsed": false,
     "input": [
      "from __future__ import division\n",
      "%matplotlib inline\n",
      "import cmath\n",
      "import math\n",
      "from pylab import *\n",
      "\n",
      "\n",
      "#Variable declaration:\n",
      "Veq=1.0                                 #Externalsupply(p.u)                                    \n",
      "Eaf=1.0                                 #Internal voltage(p.u)\n",
      "Xeq=0.23                                #Eqv.resistance of external system(p.u)\n",
      "Xs=1.35                                #Saturated synchronous reactance(p.u)\n",
      "\n",
      "\n",
      "#Calculations:\n",
      "#for part (a):\n",
      "P_max=Eaf*Veq/(Xs+Xeq)\n",
      "\n",
      "\n",
      "#for part (b):\n",
      "delta=[0]*500\n",
      "Ia=[0]*500\n",
      "Va=[0]*500\n",
      "degree=[0]*500\n",
      "for n in range(1,101,1):\n",
      "    delta[n-1]=(pi/2)*(n-1)/100\n",
      "    Ia[n-1] = (Eaf *exp(1j*delta[n-1]) - Veq)/(1j*(Xs + Xeq))\n",
      "    Va[n-1] = abs(Veq + 1j*Xeq*Ia[n-1])\n",
      "    degree[n-1]=180*delta[n-1]/pi\n",
      "plot(degree,Va,'r.')\n",
      "xlabel('Power angle,delta(degrees)')\n",
      "ylabel('Terminal voltage(per unit)')\n",
      "title('Terminal voltage vs. power angle for part (b)')\n",
      "show()\n",
      "#for part (c):\n",
      "Vterm=1.0\n",
      "P=[0]*500\n",
      "deltat=[0]*500\n",
      "Ia=[0]*500\n",
      "Eaf=[0]*500\n",
      "\n",
      "for n in range(1,101,1):\n",
      "    P[n-1]=(n-1)/100\n",
      "    deltat[n-1]=math.asin(P[n-1]*Xeq/(Vterm*Veq))\n",
      "    Ia[n-1]=(Vterm*exp(1j*deltat[n-1])-Veq)/(1j*Xeq)\n",
      "    Eaf[n-1]=abs(Vterm+1j*(Xs+Xeq)*Ia[n-1])\n",
      "plot(P,Eaf,'r.')\n",
      "xlabel('Power [per unit]')\n",
      "ylabel('Eaf [per unit]')\n",
      "title('Eaf vs. power for part (c)')\n",
      "show()\n",
      "\n",
      "\n",
      "\n",
      "#Results:\n",
      "print \"(a) Maximum power supplied to external system:\",round(P_max,2),\"p.u\""
     ],
     "language": "python",
     "metadata": {},
     "outputs": [
      {
       "metadata": {},
       "output_type": "display_data",
       "png": "[encoded data removed]",
       "text": [
        "<matplotlib.figure.Figure at 0x34638d0>"
       ]
      },
      {
       "metadata": {},
       "output_type": "display_data",
       "png": "[encoded data removed]",
       "text": [
        "<matplotlib.figure.Figure at 0x3463890>"
       ]
      },
      {
       "output_type": "stream",
       "stream": "stdout",
       "text": [
        "(a) Maximum power supplied to external system: 0.63 p.u\n"
       ]
      }
     ],
     "prompt_number": 1
    },
    {
     "cell_type": "heading",
     "level": 3,
     "metadata": {},
     "source": [
      "Example 5.7, Page number: 272"
     ]
    },
    {
     "cell_type": "code",
     "collapsed": false,
     "input": [
      "from __future__ import division\n",
      "from math import *\n",
      "\n",
      "#Variable declaration:\n",
      "P_rated=2000*746/3                     #per phase rated power of motor(W)\n",
      "Xsm=1.95                                #Synchronous reactance(ohm)\n",
      "Vl=2300                                #Line to line voltage(V)\n",
      "f=60                                   #Angular frequency(Hz)\n",
      "p=30                                   #No. of poles\n",
      "Xsg=2.65                               #Synchronous reactance of generator(ohm)\n",
      "\n",
      "\n",
      "#Calculations:\n",
      "#for part (a):\n",
      "Vp=2300/sqrt(3)\n",
      "Ip=P_rated/Vp\n",
      "Eafm=sqrt(Vp**2+(Ip*Xsm)**2)\n",
      "Pm=3*Vp*Eafm/Xsm                             #Max power delivered to motor(W)\n",
      "ws=2*2*pi*f/p\n",
      "Tmax=Pm/ws                                  #MAx torque of motor(Nm)\n",
      "\n",
      "\n",
      "#for part (b):\n",
      "Eafg=sqrt(Vp**2+(Ip*Xsg)**2)\n",
      "Pm2=3*Eafm*Eafg/(Xsg+Xsm)                   #Max power delivered to motor(W)\n",
      "Tmax2=Pm2/ws                                #Max torque(Nm)\n",
      "\n",
      "\n",
      "\n",
      "#Results:\n",
      "print\"(a) Max power  :\",round(Pm/1000,0),\"kW,3-ph\"\n",
      "print\"    Max torque :\",round(Tmax/1000,1),\"kNm\"\n",
      "print \"(b) Max power :\", round(Pm2/1000,0),\"kW,3-ph\"\n",
      "print \"    Max torque:\", round(Tmax2/1000,1),\"Nm\""
     ],
     "language": "python",
     "metadata": {},
     "outputs": [
      {
       "output_type": "stream",
       "stream": "stdout",
       "text": [
        "(a) Max power  : 3096.0 kW,3-ph\n",
        "    Max torque : 123.2 kNm\n",
        "(b) Max power : 1639.0 kW,3-ph\n",
        "    Max torque: 65.2 Nm\n"
       ]
      }
     ],
     "prompt_number": 8
    },
    {
     "cell_type": "heading",
     "level": 3,
     "metadata": {},
     "source": [
      "Example 5.8, Page number: 279"
     ]
    },
    {
     "cell_type": "code",
     "collapsed": false,
     "input": [
      "from __future__ import division\n",
      "from math import *\n",
      "\n",
      "\n",
      "#Variable declaration:\n",
      "P=45                                    #Power rated(KVA)\n",
      "Va=220                                  #Terminal voltage(V)\n",
      "Pin=45                                  #Power input to the armature(KVA)\n",
      "If=5.50                                 #field current(A)\n",
      "Rf=35.5                                 #Field winding resistance(ohm)\n",
      "Ra=0.0399                               #Armature dc resistance(ohm/phase)\n",
      "Xal=0.215                               #Leakage reactance of motor(ohm)\n",
      "pf=0.80                                 #Lagging power factor \n",
      "Pc=1.8                                  #Core loss(kW)\n",
      "Pw=0.91                                 #Friction & windage losses(kW)\n",
      "Ps=0.37                                 #Stray load loss(kW)\n",
      "\n",
      "\n",
      "#Calculations:\n",
      "Ia=P*10**3/(sqrt(3)*Va)\n",
      "P1=If**2*Rf/10**3                            #Loss in field winding(kW)\n",
      "P2=3*Ia**2*Ra/10**3                          #Loss in armature(kW)\n",
      "Pl=(Pc+Pw+Ps+P1+P2)\n",
      "Pi=Pin*pf+P1\n",
      "Po=Pi-Pl\n",
      "eff=(Po/Pi)*100\n",
      "\n",
      "#Results:\n",
      "print \"Efficiency of the synchronous machine:\",round(eff,1),\"%\""
     ],
     "language": "python",
     "metadata": {},
     "outputs": [
      {
       "output_type": "stream",
       "stream": "stdout",
       "text": [
        "Efficiency of the synchronous machine: 84.3 %\n"
       ]
      }
     ],
     "prompt_number": 9
    },
    {
     "cell_type": "heading",
     "level": 3,
     "metadata": {},
     "source": [
      "Example 5.9, Page number: 287"
     ]
    },
    {
     "cell_type": "code",
     "collapsed": false,
     "input": [
      "from __future__ import division\n",
      "import math\n",
      "import cmath\n",
      "\n",
      "#Variable declaration:\n",
      "Xd=1                              #Direct axis synchronus reactance(p.u)\n",
      "Xq=0.60                           #Quadrature axis synchronous reactance(p.u)\n",
      "Va=1                              #Terminal voltage(p.u)\n",
      "pf=0.8                              #Lagging power factor\n",
      "Ia=0.8-1j*math.sin(math.acos(0.8))       #Line current(p.u)\n",
      "\n",
      "\n",
      "#Calculations:\n",
      "phy=-math.acos(pf)\n",
      "E=Va+1j*Xq*Ia\n",
      "delta=cmath.phase(E)\n",
      "Id=abs(Ia)*math.sin(delta-phy)*cmath.exp(1j*(-pi/2+delta))\n",
      "Iq=abs(Ia)*math.cos(delta-phy)*cmath.exp(1j*delta)\n",
      "Eaf=Va+Xd*Id*1j+Xq*Iq*1j\n",
      "\n",
      "\n",
      "#Results:\n",
      "print \"Generated voltage:\",round(abs(Eaf),2),\"p.u Volt\""
     ],
     "language": "python",
     "metadata": {},
     "outputs": [
      {
       "output_type": "stream",
       "stream": "stdout",
       "text": [
        "Generated voltage: 1.78 p.u Volt\n"
       ]
      }
     ],
     "prompt_number": 12
    },
    {
     "cell_type": "heading",
     "level": 3,
     "metadata": {},
     "source": [
      "Example 5.11, Page number: 291"
     ]
    },
    {
     "cell_type": "code",
     "collapsed": false,
     "input": [
      "from pylab import *\n",
      "import cmath\n",
      "from sympy import *\n",
      "\n",
      "#Variable declaration:\n",
      "P_rated=2000*746                  #Rated power of motor(W)\n",
      "Xs=1.95                           #Synchronous reactance(ohm/phase)\n",
      "Xd=1.95                           #Direct axis synchronous reactance(ohm/ph)\n",
      "Xq=1.40                         #Quadrature axis synchronous reactance(ohm/ph)\n",
      "pf=1                            #Power factor of the machine\n",
      "Vl=2300                         #Line to line voltage(V)\n",
      "\n",
      "#Calculatons:\n",
      "Va=float(Vl/sqrt(3))              #volt\n",
      "Ia=float(P_rated/(Va*3))          #ampere\n",
      "E1=Va-1j*Ia*Xq                      #From phasor diagram\n",
      "delta=cmath.phase(E1)             #power angle\n",
      "Id=Ia*sin(abs(delta))             #direct axis current(A)\n",
      "Eaf=abs(E1)+Id*(Xd-Xq)\n",
      "r=symbols('r')\n",
      "def P(r):                           #Process for finding maximum power\n",
      "    return Eaf*Va*sin(r)/Xd + Va**2*(Xd-Xq)*sin(2*r)/(2*Xd*Xq)\n",
      "P1=diff(P(r),r)\n",
      "#On differentiation,\n",
      "#P1 = 1023732.58489791*cos(r) + 355250.305250306*(2*(cos(r))**2-1)\n",
      "l = solve(1023732.58489791*cos(r) + 355250.305250306*(2*(cos(r))**2-1),r)\n",
      "P_max = (P(round(l[0],5)))\n",
      "\n",
      "\n",
      "#Results:\n",
      "print \"Maximum mechanical power:\",math.ceil(3*P_max/10**3),\"kW,3-phase\""
     ],
     "language": "python",
     "metadata": {},
     "outputs": [
      {
       "output_type": "stream",
       "stream": "stdout",
       "text": [
        "Maximum mechanical power: 3236.0 kW,3-phase\n"
       ]
      }
     ],
     "prompt_number": 1
    }
   ],
   "metadata": {}
  }
 ]
}