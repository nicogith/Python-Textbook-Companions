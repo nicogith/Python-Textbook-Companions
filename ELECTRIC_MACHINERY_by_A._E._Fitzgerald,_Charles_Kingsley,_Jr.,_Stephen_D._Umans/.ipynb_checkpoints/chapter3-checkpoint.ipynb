{
 "metadata": {
  "name": ""
 },
 "nbformat": 3,
 "nbformat_minor": 0,
 "worksheets": [
  {
   "cells": [
    {
     "cell_type": "heading",
     "level": 1,
     "metadata": {},
     "source": [
      "Chapter 3: Electromechanical-Energy-Conversion-Principles "
     ]
    },
    {
     "cell_type": "heading",
     "level": 3,
     "metadata": {},
     "source": [
      "Example 3.1, Page number: 114"
     ]
    },
    {
     "cell_type": "code",
     "collapsed": false,
     "input": [
      "from __future__ import division\n",
      "import math\n",
      "from sympy import *\n",
      "\n",
      "#Variable declaration:\n",
      "I=10                            #current in the coil(A)\n",
      "Bo=0.02                         #magnetic field (T)\n",
      "R=0.05                          #radius of the rotor(m)\n",
      "l=0.3                           #rotor length(m)\n",
      "\n",
      "\n",
      "#Calculations:\n",
      "q=symbols('q')                  #Direction of torque\n",
      "F1=-2*I*l*Bo*sin(q)             #Force on the coil(N)\n",
      "T=F1*R                          #Torque scting in theta direction(Nm)\n",
      "\n",
      "\n",
      "#Results:\n",
      "print \"Force per unit length:\",T,\"Nm\""
     ],
     "language": "python",
     "metadata": {},
     "outputs": [
      {
       "output_type": "stream",
       "stream": "stdout",
       "text": [
        "Force per unit length: -0.006*sin(q) Nm\n"
       ]
      }
     ],
     "prompt_number": 2
    },
    {
     "cell_type": "heading",
     "level": 3,
     "metadata": {},
     "source": [
      "Example 3.2, Page number: 121"
     ]
    },
    {
     "cell_type": "code",
     "collapsed": false,
     "input": [
      "from __future__ import division\n",
      "from sympy import *\n",
      "\n",
      "\n",
      "#Variable declaration\n",
      "N=1000                   #No of winding turns\n",
      "g=2                      #Air gap width(mm)\n",
      "d=0.15                  #Magnetic core width,d (m)\n",
      "l=0.1                    #thickness of core(0.1)\n",
      "x,d=symbols('x d')       #where h is height of plunger(m) \n",
      "                         #Lx is inductance as a function of x(H)\n",
      "i=10                     #Current in the winding(A)\n",
      "uo=4*3.14*10**-7           #permeability of free space(H/m)\n",
      "\n",
      "#Calculations:\n",
      "Lx=(uo*N**2*l*d)/(2*g*10**-3)*(1-x/d)\n",
      "Wfld=(1./2)*Lx*i**2\n",
      "\n",
      "\n",
      "#Results:\n",
      "print \"The magnetic energy stored, Wfld:\",\"236*(1-x/d) J\""
     ],
     "language": "python",
     "metadata": {},
     "outputs": [
      {
       "output_type": "stream",
       "stream": "stdout",
       "text": [
        "The magnetic energy stored, Wfld: 236*(1-x/d) J\n"
       ]
      }
     ],
     "prompt_number": 3
    },
    {
     "cell_type": "heading",
     "level": 3,
     "metadata": {},
     "source": [
      "Example 3.3, Page number: 124"
     ]
    },
    {
     "cell_type": "code",
     "collapsed": false,
     "input": [
      "from __future__ import division\n",
      "%matplotlib inline\n",
      "import numpy as np\n",
      "\n",
      "#Variable declaration:\n",
      "xdata=[0.0, 0.2, 0.4, 0.6, 0.8, 1.0, 1.2, 1.4, 1.6, 1.8, 2.0]     #(cm)\n",
      "Ldata=[2.8, 2.26, 1.78, 1.52, 1.34, 1.26, 1.20, 1.16, 1.13, 1.11, 1.10]   #(mH)\n",
      "I = 0.75                                                #(A)\n",
      "\n",
      "\n",
      "#Calculations:\n",
      "x=0.01*np.array(xdata)\n",
      "L=0.001*np.array(Ldata)\n",
      "length=len(x)\n",
      "xmax=x[length-1]\n",
      "a=polyfit(x,L,4)\n",
      "xfit=[0]*102\n",
      "Lfit=[0]*102\n",
      "for n in range(1,102,1):\n",
      "    xfit[n-1]=xmax*(n-1)/100\n",
      "    Lfit[n-1]=a[0]*xfit[n-1]**4+a[1]*xfit[n-1]**3+a[2]*xfit[n-1]**2+a[3]*xfit[n-1]+a[4]\n",
      "\n",
      "#Plot the data and then the fit to compare (convert xfit to cm and Lfit to mH)\n",
      "plot(xdata,Ldata,'o')\n",
      "plot(100*np.array(xfit),1000*np.array(Lfit),'g.')\n",
      "xlabel('x [cm] ')\n",
      "ylabel('L [mH] ')\n",
      "title('Inductance,L vs length,l')\n",
      "grid()\n",
      "print \"The required plots are shown below:\"\n",
      "show()\n",
      "\n",
      "#set current to 0.75 A\n",
      "I=0.75\n",
      "F=[0]*102\n",
      "for n in range(1,102,1):\n",
      "    xfit[n-1]=0.002+0.016*(n-1)/100\n",
      "    F[n-1]=4*a[0]*xfit[n-1]**3+3*a[1]*xfit[n-1]**2+2*a[2]*xfit[n-1]**1+a[3]\n",
      "    F[n-1]=(I**2/2)*F[n-1]\n",
      "plot(100*np.array(xfit),F,'b.')\n",
      "xlabel('x  [cm]')\n",
      "ylabel('Force [N]')\n",
      "title('Force, F vs length,l')\n",
      "grid()\n",
      "\n",
      "#Results:\n",
      "show()"
     ],
     "language": "python",
     "metadata": {},
     "outputs": [
      {
       "output_type": "stream",
       "stream": "stdout",
       "text": [
        "Populating the interactive namespace from numpy and matplotlib\n",
        "The required plots are shown below:"
       ]
      },
      {
       "output_type": "stream",
       "stream": "stdout",
       "text": [
        "\n"
       ]
      },
      {
       "output_type": "stream",
       "stream": "stderr",
       "text": [
        "WARNING: pylab import has clobbered these variables: ['Polygon', 'poly', 'sign', 'flatten', 'conjugate', 'diff', 'tan', 'Circle', 'roots', 'plot', 'eye', 'trace', 'floor', 'diag', 'invert', 'nan', 'sqrt', 'source', 'add', 'zeros', 'take', 'var', 'pi', 'plotting', 'product', 'seterr', 'power', 'multinomial', 'transpose', 'test', 'beta', 'ones', 'sinh', 'vectorize', 'cosh', 'trunc', 'cos', 'prod', 'tanh', 'mod', 'det', 'sin', 'binomial', 'solve', 'log', 'exp', 'reshape', 'gamma', 'interactive']\n",
        "`%pylab --no-import-all` prevents importing * from pylab and numpy\n"
       ]
      },
      {
       "metadata": {},
       "output_type": "display_data",
       "png": "[encoded data removed]",
       "text": [
        "<matplotlib.figure.Figure at 0x3dc9590>"
       ]
      },
      {
       "metadata": {},
       "output_type": "display_data",
       "png": "[encoded data removed]",
       "text": [
        "<matplotlib.figure.Figure at 0x48a36d0>"
       ]
      }
     ],
     "prompt_number": 4
    },
    {
     "cell_type": "heading",
     "level": 3,
     "metadata": {},
     "source": [
      "Example 3.4, Page number: 128"
     ]
    },
    {
     "cell_type": "code",
     "collapsed": false,
     "input": [
      "from __future__ import division\n",
      "from sympy import *\n",
      "\n",
      "#Variable declaration:\n",
      "Lo=10.6*10**-3                          #Initial inductance(H)\n",
      "L2=2.7*10**-3                           #H\n",
      "\n",
      "\n",
      "#Calculations:\n",
      "theta,i=symbols('theta i')\n",
      "L=Lo+L2*cos(2*theta)\n",
      "i=2                                     #Coil current,A\n",
      "def T(theta):\n",
      "    return i**2*diff(L,theta)/2\n",
      "                                    \n",
      "\n",
      "#Results:\n",
      "print \"Torque,Tfld =\",T(theta),\" N.m\""
     ],
     "language": "python",
     "metadata": {},
     "outputs": [
      {
       "output_type": "stream",
       "stream": "stdout",
       "text": [
        "Torque,Tfld = -0.0108*sin(2*theta)  N.m\n"
       ]
      }
     ],
     "prompt_number": 5
    },
    {
     "cell_type": "heading",
     "level": 3,
     "metadata": {},
     "source": [
      "Example 3.6, Page number: 134"
     ]
    },
    {
     "cell_type": "code",
     "collapsed": false,
     "input": [
      "from __future__ import division\n",
      "\n",
      "#Variable declaration:\n",
      "r1=2.5*10**-2                            #radius of rotor(m)\n",
      "h=1.8*10**-2                             #Axial length(m)\n",
      "g=3*10**-3                               #Air gap length(m)\n",
      "Bag=1.65                                #Magnetic field(T)\n",
      "uo=4*pi*10**-7                          #permeability of free space(H/m)\n",
      "\n",
      "#Calculations:\n",
      "H=Bag/uo\n",
      "Ni=2*g*H\n",
      "T=uo*(Ni)**2*h*(r1+0.5*g)/(4*g)\n",
      "\n",
      "#Results:\n",
      "print \"The maximum torque:\", round(T,2),\"Nm\""
     ],
     "language": "python",
     "metadata": {},
     "outputs": [
      {
       "output_type": "stream",
       "stream": "stdout",
       "text": [
        "The maximum torque: 3.1 Nm\n"
       ]
      }
     ],
     "prompt_number": 29
    },
    {
     "cell_type": "heading",
     "level": 3,
     "metadata": {},
     "source": [
      "Example 3.7, Page number: 140"
     ]
    },
    {
     "cell_type": "code",
     "collapsed": false,
     "input": [
      "from __future__ import division\n",
      "%matplotlib inline\n",
      "from matplotlib import *\n",
      "\n",
      "#Variable declaration:\n",
      "i1=0.8\n",
      "i2=0.01\n",
      "\n",
      "\n",
      "#Calculations & Results:\n",
      "def df(f,x,h=0.1e-10):\n",
      "    return ( f(x+h/2) - f(x-h/2) )/h\n",
      "\n",
      "\n",
      "\n",
      "def l11(x):\n",
      "    return (3+cos(2*x))/1000.0\n",
      "\n",
      "def l12(x):\n",
      "    return (0.3*cos(x))\n",
      "\n",
      "def l22(x):\n",
      "    return (30+10*cos(2*x))\n",
      "\n",
      "def g(x):\n",
      "    return ((i1**2)/2)*df(l11,x) + ((i2**2)/2)*df(l22,x) + (i1*i2)*df(l12,x)\n",
      "\n",
      "def r(x):\n",
      "    return ((i1**2)/2)*df(l11,x) + ((i2**2)/2)*df(l22,x)\n",
      "def s(x):\n",
      "    return (i1*i2)*df(l12,x)\n",
      "\n",
      "x=linspace(-pi,pi,100000)\n",
      "\n",
      "\n",
      "plot(x,r(x))\n",
      "plot(x,s(x))\n",
      "plot(x,g(x))\n",
      "grid()\n",
      "annotate(\"Total torque\",xy=(-0.5,0.003))\n",
      "annotate(\"Reluctance torque\",xy=(-2,-0.0015))\n",
      "annotate(\"Mutual Interaction torque\",xy=(1.6,-0.0026))\n",
      "xlabel(\"Theta [radians]\")\n",
      "ylabel(\"Torque [N.m]\")\n",
      "xlim(-pi,pi)\n",
      "\n",
      "\n",
      "#Results\n",
      "print \"Tfld = -1.64*10**-3*sin(2*x)- 2.4*10**-3*sin(x)\"\n",
      "show()"
     ],
     "language": "python",
     "metadata": {},
     "outputs": [
      {
       "output_type": "stream",
       "stream": "stdout",
       "text": [
        "Populating the interactive namespace from numpy and matplotlib\n",
        "Tfld = -1.64*10**-3*sin(2*x)- 2.4*10**-3*sin(x)"
       ]
      },
      {
       "output_type": "stream",
       "stream": "stdout",
       "text": [
        "\n"
       ]
      },
      {
       "output_type": "stream",
       "stream": "stderr",
       "text": [
        "WARNING: pylab import has clobbered these variables: ['vectorize', 'prod', 'plotting', 'Circle', 'diag', 'sinh', 'trunc', 'plot', 'eye', 'det', 'tan', 'product', 'gamma', 'roots', 'sin', 'zeros', 'cosh', 'interactive', 'conjugate', 'take', 'trace', 'beta', 'exp', 'ones', 'multinomial', 'cos', 'transpose', 'solve', 'diff', 'invert', 'pi', 'tanh', 'Polygon', 'reshape', 'sqrt', 'floor', 'source', 'add', 'poly', 'mod', 'sign', 'power', 'binomial', 'log', 'var', 'seterr', 'flatten', 'nan', 'test']\n",
        "`%pylab --no-import-all` prevents importing * from pylab and numpy\n"
       ]
      },
      {
       "metadata": {},
       "output_type": "display_data",
       "png": "[encoded data removed]",
       "text": [
        "<matplotlib.figure.Figure at 0x3dbe950>"
       ]
      }
     ],
     "prompt_number": 6
    },
    {
     "cell_type": "heading",
     "level": 3,
     "metadata": {},
     "source": [
      "Example 3.9, Page number: 148"
     ]
    },
    {
     "cell_type": "code",
     "collapsed": false,
     "input": [
      "from __future__ import division\n",
      "\n",
      "\n",
      "#Variable declaration:\n",
      "W=4.0*10**-2                            #width of plunger lower arm(m)\n",
      "W1=4.5*10**-2                           #width of plunger upper arm(m)\n",
      "D=3.5*10**-2                            #depth of plunger (m)\n",
      "d=8*10**-3                              #length of magnet(m)\n",
      "go=1*10**-3                             #air gap length(m)\n",
      "uo=4*pi*10**-7                          #Permeability of free space(A.turns/m)\n",
      "ur=1.06*uo                              #Relativity permeability\n",
      "Hc1=-940                                #Magnetising force(kA/m)\n",
      "Bt=1.25                                 #Magnetic field induction(T)\n",
      "N=1500                                  #No of turns\n",
      "x=3*10**-3                              #Position of plunger(m)\n",
      "\n",
      "#Calculation:\n",
      "Ni=-Hc1*d*10**3\n",
      "Rx=x/(uo*W1*D)\n",
      "Ro=go/(uo*W*D)\n",
      "Rm=d/(ur*W*D)\n",
      "f=-((Ni)**2)/(uo*W1*D*(Rx+Ro+Rm)**2)\n",
      "\n",
      "\n",
      "\n",
      "#Results:\n",
      "print \"The x-directed force:\",round(f,1),\"N\"\n",
      "print \"Current in the excitation winding:\",round(Ni/N,2),\"A\""
     ],
     "language": "python",
     "metadata": {},
     "outputs": [
      {
       "output_type": "stream",
       "stream": "stdout",
       "text": [
        "The x-directed force: -703.3 N\n",
        "Current in the excitation winding: 5.01 A\n"
       ]
      }
     ],
     "prompt_number": 31
    }
   ],
   "metadata": {}
  }
 ]
}