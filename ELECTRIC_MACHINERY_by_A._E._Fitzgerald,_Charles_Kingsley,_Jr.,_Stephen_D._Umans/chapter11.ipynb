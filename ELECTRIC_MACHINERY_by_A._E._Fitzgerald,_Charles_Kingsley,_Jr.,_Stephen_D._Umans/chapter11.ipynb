{
 "metadata": {
  "name": "",
  "signature": "sha256:4aa0be3787a5262658b58d5130a82adad92353bb1944b3902dc15e9d5045fa75"
 },
 "nbformat": 3,
 "nbformat_minor": 0,
 "worksheets": [
  {
   "cells": [
    {
     "cell_type": "heading",
     "level": 1,
     "metadata": {},
     "source": [
      "Chapter 11: Speed and Torque Control"
     ]
    },
    {
     "cell_type": "heading",
     "level": 3,
     "metadata": {},
     "source": [
      "Example 11.1, Page number: 561"
     ]
    },
    {
     "cell_type": "code",
     "collapsed": false,
     "input": [
      "from __future__ import division\n",
      "\n",
      "#Variable declaration:\n",
      "Vdc=240                             #DC supply (V)\n",
      "D=0.75                              #Duty cycle\n",
      "Rf=187                              #field resistance(ohm)\n",
      "Lf=4.2                              #field winding inductance(H)\n",
      "T=1                                 #switching period(msec)\n",
      "\n",
      "\n",
      "\n",
      "#Calculations:\n",
      "If=D*(Vdc/Rf)\n",
      "tau=Lf/Rf                           #time constant(msec)\n",
      "del_if=(2*Vdc/Rf)*(T/tau)*D*(1-D)\n",
      "\n",
      "\n",
      "#Results:\n",
      "print \"Avg field current:\",round(If,2),\"A\"\n",
      "print \"Magnitude of currnet ripple:\",round(del_if,1),\"mA\"\n"
     ],
     "language": "python",
     "metadata": {},
     "outputs": [
      {
       "output_type": "stream",
       "stream": "stdout",
       "text": [
        "Avg field current: 0.96 A\n",
        "Magnitude of currnet ripple: 21.4 mA\n"
       ]
      }
     ],
     "prompt_number": 4
    },
    {
     "cell_type": "heading",
     "level": 3,
     "metadata": {},
     "source": [
      "Example 11.2, Page number: 563"
     ]
    },
    {
     "cell_type": "code",
     "collapsed": false,
     "input": [
      "from __future__ import division\n",
      "from sympy import *\n",
      "from math import *\n",
      "\n",
      "#Variable declaration:\n",
      "n1=1800                                 #r/min\n",
      "n2=3600                                 #r/min\n",
      "Va=240                                  #terminal voltage(V)\n",
      "Ifo=0.34                                #No-load field current(A)\n",
      "Ra=0.05                                 #Armature resistance(ohm)\n",
      "Rsh=187                                 #Shunt field resistance(ohm)\n",
      "\n",
      "#Calculations:\n",
      "wm=symbols('wm')\n",
      "wm1=float(2*pi*n1/60)\n",
      "wm2=float(2*pi*n2/60)\n",
      "def Pload(wm):\n",
      "    return (22.4*(120*pi)**-3)*(wm)**3\n",
      "\n",
      "T1=Pload(wm1)*1000/wm1\n",
      "T2=Pload(wm2)*1000/wm2\n",
      "\n",
      "Kf=Va/(Ifo*wm2)\n",
      "def If(T,wm):\n",
      "    return (Va/(2*Kf*wm))*(1+sqrt(1-(4*wm*T*Ra)/Va**2))\n",
      "\n",
      "Rf1tot=round(Va/float(If(T1,wm1)))\n",
      "Rf2tot=round(Va/float(If(T2,wm2)))\n",
      "Rrh1=Rf1tot-Rsh\n",
      "Rrh2=Rf2tot-Rsh\n",
      "\n",
      "\n",
      "#Results:\n",
      "print \"----------------------------------------------------------------\"\n",
      "print \"r/min    Tload[N.m]      If[A]      R(f)tot[ohm]   Rrheostat[ohm]\"\n",
      "print \"----------------------------------------------------------------\"\n",
      "print n1,\"\\t \",round(float(T1),1),\"\\t\\t \",round(float(If(T1,wm1)),3),\"\\t\",Rf1tot,\"\\t      \",Rrh1\n",
      "print n2,\"\\t \",round(float(T2),1),\"\\t\\t \",round(float(If(T2,wm2)),3),\"\\t\",Rf2tot,\"\\t      \",Rrh2\n",
      "print \"----------------------------------------------------------------\"\n"
     ],
     "language": "python",
     "metadata": {},
     "outputs": [
      {
       "output_type": "stream",
       "stream": "stdout",
       "text": [
        "----------------------------------------------------------------\n",
        "r/min    Tload[N.m]      If[A]      R(f)tot[ohm]   Rrheostat[ohm]\n",
        "----------------------------------------------------------------\n",
        "1800 \t  14.9 \t\t  0.678 \t354.0 \t       167.0\n",
        "3600 \t  59.4 \t\t  0.333 \t720.0 \t       533.0\n",
        "----------------------------------------------------------------\n"
       ]
      }
     ],
     "prompt_number": 1
    },
    {
     "cell_type": "heading",
     "level": 3,
     "metadata": {},
     "source": [
      "Example 11.3, Page number: 567"
     ]
    },
    {
     "cell_type": "code",
     "collapsed": false,
     "input": [
      "from __future__ import division\n",
      "%matplotlib inline\n",
      "from math import *\n",
      "from pylab import *\n",
      "\n",
      "#Variable declaration:\n",
      "Rf=109                                  #Field resistance(ohm)\n",
      "Vf=300                                  #Rated field voltage(V)\n",
      "Ra=0.084                                #Armature resistance(ohm)\n",
      "Kf=0.694                                #Geometric constant(A.rad/sec)\n",
      "\n",
      "\n",
      "#Calculations:\n",
      "If=Vf/Rf                                #Resulting field current(A)\n",
      "w_rated=2500*(pi/30)                    #Rated speed(rad/sec)\n",
      "P_rated=100*746                         #Watts\n",
      "T_rated=P_rated/w_rated                 #Nm\n",
      "Va=[0]*102\n",
      "NoLoadRPM=[0]*102\n",
      "FullLoadRPM=[0]*102                      \n",
      "for n in range(1,102,1):\n",
      "    Va[n-1]=250*(1+(n-1)/100)\n",
      "    T=0                                     #Zero torque\n",
      "    w=(Va[n-1]-T*Ra/(Kf*If))/(Kf*If)\n",
      "    NoLoadRPM[n-1]=w*30/pi\n",
      "    T=T_rated\n",
      "    w=(Va[n-1]-T*Ra/(Kf*If))/(Kf*If)\n",
      "    FullLoadRPM[n-1]=w*30/pi\n",
      "\n",
      "print\"The plot is as shown:\"\n",
      "plot(Va,NoLoadRPM)\n",
      "plot(Va[20] ,NoLoadRPM[20] ,'r+')\n",
      "plot (Va[50] , NoLoadRPM[50] , 'r+')\n",
      "plot (Va[80] ,NoLoadRPM[80] , 'r+')\n",
      "plot (Va, FullLoadRPM,'.')\n",
      "plot (Va[20] ,FullLoadRPM[20] ,'o')\n",
      "plot (Va[50] , FullLoadRPM[50] , ' o' )\n",
      "plot (Va[80] , FullLoadRPM[80] ,'o' )\n",
      "title('Speed vs Armature voltage')\n",
      "xlabel('Armature voltage [V] ')\n",
      "ylabel('Speed [r/min] ')\n",
      "annotate('+ = Zero torque',xy=(270,2300))\n",
      "annotate('o =   Full load torque',xy=(270,2100))\n",
      "ylim(1000,2500)\n",
      "xlim(250,500)\n",
      "show()"
     ],
     "language": "python",
     "metadata": {},
     "outputs": [
      {
       "output_type": "stream",
       "stream": "stdout",
       "text": [
        "The plot is as shown:\n"
       ]
      },
      {
       "metadata": {},
       "output_type": "display_data",
       "png": "[encoded data removed]",
       "text": [
        "<matplotlib.figure.Figure at 0x2718810>"
       ]
      }
     ],
     "prompt_number": 7
    },
    {
     "cell_type": "heading",
     "level": 3,
     "metadata": {},
     "source": [
      "Example 11.4, Page number: 571"
     ]
    },
    {
     "cell_type": "code",
     "collapsed": false,
     "input": [
      "from __future__ import division\n",
      "from sympy import *\n",
      "from math import *\n",
      "\n",
      "#Variable declaration:\n",
      "Rf=109                                  #Field resistance(ohm)\n",
      "Vf=300                                  #Rated field voltage(V)\n",
      "n1=2000                                  #rpm\n",
      "T_rated=285                            #Rated torque(Nm)\n",
      "n2=1975                                 #Dropped rpm\n",
      "Kf=0.694                                #Geometric constant(A.rad/sec\n",
      "Ra=0.084                                #Armature resistance(ohm)\n",
      "\n",
      "#Calculations:\n",
      "If=Vf/Rf                                #Resulting field current(A)\n",
      "wm1=2*pi*n1/60\n",
      "w_ref=wm1\n",
      "Vao=Kf*If*wm1\n",
      "Ia=T_rated/(Kf*If)\n",
      "wm2=2*pi*n2/60\n",
      "Ea=Kf*If*wm2\n",
      "Va=Ea+Ia*Ra\n",
      "G=symbols('G')\n",
      "x=solve(Vao-round(Va)+G*(w_ref-wm2),G)\n",
      "\n",
      "\n",
      "#Results:\n",
      "print \"Armature voltage,Vao:\",round(Va,0),\"V\"\n",
      "print \"Multiplicative constant,G:\",float(round(x[0],2)),\"A.sec/rad\""
     ],
     "language": "python",
     "metadata": {},
     "outputs": [
      {
       "output_type": "stream",
       "stream": "stdout",
       "text": [
        "Armature voltage,Vao: 408.0 V\n",
        "Multiplicative constant,G: 3.04 A.sec/rad\n"
       ]
      }
     ],
     "prompt_number": 3
    },
    {
     "cell_type": "heading",
     "level": 3,
     "metadata": {},
     "source": [
      "Example 11.5, Page number: 573"
     ]
    },
    {
     "cell_type": "code",
     "collapsed": false,
     "input": [
      "from __future__ import division\n",
      "from math import *\n",
      "from sympy import *\n",
      "\n",
      "#Variable Declaration:\n",
      "Km=0.22                             #torque constant(V/(rad/sec))\n",
      "Ra=1.03                             #ohm\n",
      "Pl=100                            #Power load(W)\n",
      "Va1=40                              #Armature voltage(V)\n",
      "Va2=50                              #  \"        \"     \"\n",
      "\n",
      "\n",
      "#Calculations:\n",
      "wm1=(Va1/(2*Km))*(1+sqrt(1-(4*Pl*Ra/Va1**2)))\n",
      "wm2=(Va2/(2*Km))*(1+sqrt(1-(4*Pl*Ra/Va2**2)))\n",
      "\n",
      "#Results:\n",
      "print \"for Va=40 V, wm=\",round(wm1,1),\"rad/sec\"\n",
      "print \"for Va=50 V, wm=\",round(wm2,1),\"rad/sec\""
     ],
     "language": "python",
     "metadata": {},
     "outputs": [
      {
       "output_type": "stream",
       "stream": "stdout",
       "text": [
        "for Va=40 V, wm= 169.2 rad/sec\n",
        "for Va=50 V, wm= 217.5 rad/sec\n"
       ]
      }
     ],
     "prompt_number": 4
    },
    {
     "cell_type": "heading",
     "level": 3,
     "metadata": {},
     "source": [
      "Example 11.6, Page number: 575"
     ]
    },
    {
     "cell_type": "code",
     "collapsed": false,
     "input": [
      "from __future__ import division\n",
      "from math import *\n",
      "\n",
      "#Variable declaration:\n",
      "\n",
      "Rf=109                                  #Field resistance(ohm)\n",
      "Vf=300                                  #Rated field voltage(V)\n",
      "Ra=0.084                                #Armature resistance(ohm)\n",
      "Kf=0.694                                #Geometric constant(A.rad/sec)\n",
      "Tfl=285                                 #Full load torque(Nm)\n",
      "nf=2500                                 #Speed at full load(r/min)\n",
      "#wm=2500                                 #rated r/min\n",
      "\n",
      "#for part (1):\n",
      "n1=2000                                 #r/min\n",
      "n2=2500                                 #r/min\n",
      "\n",
      "\n",
      "#Calculations:\n",
      "#part (a):\n",
      "If=Vf/Rf\n",
      "w1=n1*2*pi/60\n",
      "w2=n2*2*pi/60\n",
      "Ea1=Kf*If*w1                    #Avg Amature voltage(V)\n",
      "Ea2=Kf*If*w2\n",
      "Ia1=n1*Tfl/(nf*Kf*If)\n",
      "Ia2=n2*Tfl/(nf*Kf*If)\n",
      "Va1 = Ea1 + Ia1*Ra\n",
      "Va2 = Ea2 + Ia2*Ra\n",
      "Tl1=(n1/nf)*Tfl\n",
      "Tl2=(n2/nf)*Tfl\n",
      "\n",
      "#part (b):\n",
      "\n",
      "# The dynamic equation governing the speed of the motor is\n",
      "\n",
      "#   J*(dwm/dt)=Tmech-Tload\n",
      "#   wm=(pi/30)*n & wr=(pi/30)*nf\n",
      "#      Tload= (Tfl/wf)*wm\n",
      "#   Tmech = Kf*If*Ia=Kf*If*(Va-Ea)/Ra          #Under armature-voltage control\n",
      "\n",
      "#   Thus the governing differential equation is\n",
      "#   d(wm)/dt + 48.4*wm - 24.7*Va = 0\n",
      " \n",
      "#   wm = wf + (wi-wf)*exp(-t/tau)          #tau=1/48.4=20.7 msec\n",
      "#   n = 2500- 50*exp( -t/tau )\n",
      "\n",
      "#   The armature current will decrease exponentially with the \n",
      "#   same 20.7 msec time constant from an initial value of \n",
      "#   (Vf - Vi)/Ra = 1190 A to its final value of 149 A.\n",
      "\n",
      "#   Ia = 149 + 1041*exp(-t/tau)\n",
      "\n",
      "#part (c):\n",
      "#        J*d(wm)/dt = Tmech-Tload = Tf-(Tf/wm)*wm\n",
      "# or      d(wm)/dt + 1.18*wm - 310 = 0\n",
      "\n",
      "#In this case, the speed will rise exponentially to wm=wf=262 rad/sec as\n",
      "#         wm = 262-53*exp(-t/tau)           #tau=1/1.18=845 msec\n",
      "\n",
      "#Results:\n",
      "print \"part(a):\\n\"\n",
      "print \"-------------------------------------------------\"\n",
      "print \"r/min\\tw[rad/s]\\tVa(V)\\tIa(A)\\tTload[Nm]\"\n",
      "print \"-------------------------------------------------\"\n",
      "print n1,\"\\t\",round(w1),\"\\t\\t\",round(Va1),\"\\t\",round(Ia1),\"\\t\",Tl1,\"Nm\"\n",
      "print n2,\"\\t\",round(w2),\"\\t\\t\",round(Va2),\"\\t\",round(Ia2),\"\\t\",Tl2,\"Nm\"\n",
      "print \"-------------------------------------------------\"\n",
      "print \"\\npart (b):\"\n",
      "print \" The resultant motor speed, n = 2500 - 50*exp(-t/tau) where tau=20.7 msec\"\n",
      "\n",
      "print \"\\npart (c):\"\n",
      "print \" The resultant motor speed, wm = 262 - 53*exp(-t/tau) where tau=845 msec\""
     ],
     "language": "python",
     "metadata": {},
     "outputs": [
      {
       "output_type": "stream",
       "stream": "stdout",
       "text": [
        "part(a):\n",
        "\n",
        "-------------------------------------------------\n",
        "r/min\tw[rad/s]\tVa(V)\tIa(A)\tTload[Nm]\n",
        "-------------------------------------------------\n",
        "2000 \t209.0 \t\t410.0 \t119.0 \t228.0 Nm\n",
        "2500 \t262.0 \t\t513.0 \t149.0 \t285.0 Nm\n",
        "-------------------------------------------------\n",
        "\n",
        "part (b):\n",
        " The resultant motor speed, n = 2500 - 50*exp(-t/tau) where tau=20.7 msec\n",
        "\n",
        "part (c):\n",
        " The resultant motor speed, wm = 262 - 53*exp(-t/tau) where tau=845 msec\n"
       ]
      }
     ],
     "prompt_number": 5
    },
    {
     "cell_type": "heading",
     "level": 3,
     "metadata": {},
     "source": [
      "Example 11.7, Page number: 581"
     ]
    },
    {
     "cell_type": "code",
     "collapsed": false,
     "input": [
      "from __future__ import division\n",
      "import math\n",
      "\n",
      "\n",
      "#Variable Calculations:\n",
      "f1=60                                #Initial frequency(Hz)\n",
      "f2=50                               #Changed frequency(Hz)\n",
      "Xs=0.836                            #Saturated synch reactance(ohm)\n",
      "Va=1+0j                             #Armature voltage(V p.u)\n",
      "Ia=1+0j                             #Armature current(A p.u)\n",
      "If_rated=2.84                       #Rated field current(A)\n",
      "p=6                                 #No. of poles\n",
      "\n",
      "\n",
      "#Calculations:\n",
      "#for part (a):\n",
      "ns1=120*f1/p\n",
      "ns2=120*f2/p\n",
      "Eaf=Va-1j*Xs*Ia*exp(1j*0)          #field voltage(V)\n",
      "Ifo=abs(Eaf)*If_rated                   #motor field current(A)\n",
      "\n",
      "#for part(b):\n",
      "#Eaf= (wm/wmo)*(If/Ifo)*Eafo\n",
      "If=Ifo\n",
      "\n",
      "#Results:\n",
      "print \"part(a):\"\n",
      "print \"(i)  The motor speed:\",ns1,\"r/min\"\n",
      "print \"(ii) The motor field current:\",round(Ifo,2),\"A\"\n",
      "print \"part(b):\"\n",
      "print \"(i)  The changed speed:\",ns2,\"A\"\n",
      "print \"(ii) The mototr field current:\",round(If,2),\"A\""
     ],
     "language": "python",
     "metadata": {},
     "outputs": [
      {
       "output_type": "stream",
       "stream": "stdout",
       "text": [
        "part(a):\n",
        "(i)  The motor speed: 1200.0 r/min\n",
        "(ii) The motor field current: 3.7 A\n",
        "part(b):\n",
        "(i)  The changed speed: 1000.0 A\n",
        "(ii) The mototr field current: 3.7 A\n"
       ]
      }
     ],
     "prompt_number": 2
    },
    {
     "cell_type": "heading",
     "level": 3,
     "metadata": {},
     "source": [
      "Example 11.8, Page number: 588"
     ]
    },
    {
     "cell_type": "code",
     "collapsed": false,
     "input": [
      "from __future__ import division\n",
      "from math import *\n",
      "from sympy import *\n",
      "\n",
      "#Variable declaration:\n",
      "iF=2.84                                 #rated field current(A)\n",
      "Vbase=220                               #base voltage(V)\n",
      "Eaf=220/sqrt(3)                         #Rms voltage line-to-neutral(V)\n",
      "f=60                                    #Hz\n",
      "p=6                                     #poles\n",
      "P_rated=45*10**3                        #rated power(W)\n",
      "Xs_pu=0.836                             #per unit synchronous reactance(ohm)\n",
      "\n",
      "#Calculations:\n",
      "we=2*pi*f\n",
      "Laf=sqrt(2)*Eaf/(we*iF)                 #Armature field reactance(H)\n",
      "T_rated=P_rated/(we*2/p)\n",
      "#setting rated values to reference values.\n",
      "Tref=T_rated\n",
      "iFref=iF\n",
      "iQ=round((2/3)*(2/p)*Tref/(Laf*iFref),2)\n",
      "iD=0\n",
      "\n",
      "#since theta_me=wc*t, iD=0,we have,\n",
      "t=symbols('t')\n",
      "wc=120*pi\n",
      "def ia(t):\n",
      "    return iD*cos(wc*t)-iQ*sin(wc*t)\n",
      "def ib(t):\n",
      "    return iD*cos(wc*t-2*pi/3)-iQ*sin(wc*t-2*pi/3)\n",
      "def ic(t):\n",
      "    return iD*cos(wc*t+2*pi/3)-iQ*sin(wc*t+2*pi/3)\n",
      "Ibase=P_rated/(sqrt(3)*Eaf)\n",
      "Imax=round(ia((pi/(2*wc))))\n",
      "Ia=1j*abs(round(Imax/sqrt(2)))\n",
      "Eaf=1j*we*Laf*iF/sqrt(2)\n",
      "Zbase=Vbase**2/P_rated\n",
      "Xs=Xs_pu*Zbase\n",
      "Va=1j*Xs*Ia+Eaf                             #line-to-neutral voltage\n",
      "Vt=abs(sqrt(3)*Va)/Vbase                #p.u terminal voltage(line-to-line)(V)\n",
      "\n",
      "#Results:\n",
      "print \"part(a):\"\n",
      "print \"\\tia(t)=\",ia(t),\"A\"\n",
      "print \"\\tib(t)=\",ib(t),\"A\"\n",
      "print \"\\tic(t)=\",ic(t),\"A\"\n",
      "print \"part(b):\"\n",
      "print \"\\tTerminal voltage:\",round(float(Vt),2),\"per unit\""
     ],
     "language": "python",
     "metadata": {},
     "outputs": [
      {
       "output_type": "stream",
       "stream": "stdout",
       "text": [
        "part(a):\n",
        "\tia(t)= -167.01*sin(120*pi*t) A\n",
        "\tib(t)= 167.01*sin(120*pi*t + pi/3) A\n",
        "\tic(t)= -167.01*cos(120*pi*t + pi/6) A\n",
        "part(b):\n",
        "\tTerminal voltage: 1.3 per unit\n"
       ]
      }
     ],
     "prompt_number": 1
    },
    {
     "cell_type": "heading",
     "level": 3,
     "metadata": {},
     "source": [
      "Example 11.9, Page number: 591"
     ]
    },
    {
     "cell_type": "code",
     "collapsed": false,
     "input": [
      "from __future__ import division\n",
      "from math import *\n",
      "\n",
      "#Variable declaration:\n",
      "iF=2.84                                 #rated field current(A)\n",
      "Vrated=220                              #rated terminal voltage,l-l(V)\n",
      "Ibase=118                               #base current(A)\n",
      "Eaf=220/sqrt(3)                         #Rms voltage, line-to-neutral(V)\n",
      "f=60                                    #Hz\n",
      "p=6                                     #poles\n",
      "P_rated=45*10**3                        #rated power(W)\n",
      "Xs=0.899                                #Synchronous reactance(ohm)\n",
      "Xs_pu=0.836                             #per unit synchronous reactance(ohm)\n",
      "Tref=358                                #Reference torque(Nm) (from Ex11.8)\n",
      "\n",
      "#Calculations:\n",
      "Va=Vrated/sqrt(3)                        #base voltage, line to neutral(V)\n",
      "we=2*pi*f\n",
      "wm=(2/p)*we\n",
      "Laf=sqrt(2)*Eaf/(we*iF)                 #Armature field reactance(H)\n",
      "Ia=Tref*wm/(3*Va)\n",
      "Ls=Xs/we                                #Synchronous inductance(mH)\n",
      "delta=-atan(we*Ls*Ia/Va)\n",
      "iQ_ref=sqrt(2)*Ia*cos(delta)\n",
      "iD_ref=sqrt(2)*Ia*sin(delta)\n",
      "iF_ref=(2./3)*(2/p)*Tref/(Laf*iQ_ref)\n",
      "\n",
      "#since motor is running at rated voltage, base voltage and rated voltage \n",
      "# are assumed to be same.\n",
      "Va_pu=Va/Va                      \n",
      "Ia_pu=Ia/Ibase\n",
      "\n",
      "\n",
      "#Results:\n",
      "print \"The reqd motor field current:\",round(iF_ref,2),\"A\"\n",
      "print \"Per unit voltage:\",Va_pu,\"p.u\"\n",
      "print \"Per unit current:\",round(Ia_pu),\"p.u\""
     ],
     "language": "python",
     "metadata": {},
     "outputs": [
      {
       "output_type": "stream",
       "stream": "stdout",
       "text": [
        " The reqd motor field current: 3.7 A\n",
        "Per unit voltage: 1.0 p.u\n",
        "Per unit current: 1.0 p.u\n"
       ]
      }
     ],
     "prompt_number": 10
    },
    {
     "cell_type": "heading",
     "level": 3,
     "metadata": {},
     "source": [
      "Example 11.10, Page number: 593"
     ]
    },
    {
     "cell_type": "code",
     "collapsed": false,
     "input": [
      "from __future__ import division\n",
      "from math import *\n",
      "\n",
      "#Variable declaration:\n",
      "ns=4000                             #rated speed(rpm)\n",
      "Va=220                              #rated voltage(V)\n",
      "Ls=1.75*10**-3                      #synchronous inductance(H)\n",
      "Prated=25000                        #Watts\n",
      "n=3200                              #rated OC speed(rpm)\n",
      "p=2                                 #No. of poles\n",
      "\n",
      "#Calculations:\n",
      "#for part(a):\n",
      "Eaf=Va/sqrt(3)\n",
      "wm=ns*pi/30                         #rad/sec\n",
      "Trated=Prated/wm\n",
      "we=(p/2)*n*pi/30\n",
      "lambdaPM=sqrt(2)*Eaf/we             #flux linked wth permanent magnet(Wb)  \n",
      "Tref=Trated*0.65                #since motor is operated at 65% of Trated\n",
      "iQref=(2./3)*(2/p)*(Tref/lambdaPM)\n",
      "\n",
      "#for part(b:)\n",
      "lambdaD=lambdaPM                         #since iD=0\n",
      "lambdaQ=Ls*iQref\n",
      "lambdaa=sqrt((lambdaD**2+lambdaQ**2)/2)  #rms line-to-neutral armature flux(Wb)\n",
      "lambdaa_base=Eaf/wm\n",
      "lambda_pu=lambdaa/lambdaa_base\n",
      "\n",
      "#for part(c)\n",
      "lambdaD=sqrt(2*(lambdaa_base)**2-lambdaQ**2)\n",
      "iDref=(lambdaD-lambdaPM)/Ls\n",
      "Ia=sqrt((iDref**2+iQref**2)/2)          #rms armature current(A)\n",
      "Ibase=Prated/(sqrt(3)*Va)\n",
      "I_pu=Ia/Ibase\n",
      "\n",
      "#Results:\n",
      "print \"(a)  Required quadrature-axis current:\",round(iQref,1),\"A\"\n",
      "print \"(b)  Resultant armature flux linkage\",round(lambda_pu,2),\"p.u\"\n",
      "print \"(c)  iD:\",round(iDref,1),\"A\"\n",
      "print \"     Rms value of armature current:\",round(Ia),\"A\"\n",
      "print \"     Per unit value of armature current:\",round(I_pu,2),\"A\""
     ],
     "language": "python",
     "metadata": {},
     "outputs": [
      {
       "output_type": "stream",
       "stream": "stdout",
       "text": [
        "(a)  Required quadrature-axis current: 48.2 A\n",
        "(b)  Resultant armature flux linkage 1.27 p.u\n",
        "(c)  iD: -66.1 A\n",
        "     Rms value of armature current: 58.0 A\n",
        "     Per unit value of armature current: 0.88 A\n"
       ]
      }
     ],
     "prompt_number": 11
    },
    {
     "cell_type": "heading",
     "level": 3,
     "metadata": {},
     "source": [
      "Example 11.11, Page number: 600"
     ]
    },
    {
     "cell_type": "code",
     "collapsed": false,
     "input": [
      "from __future__ import division\n",
      "from math import *\n",
      "\n",
      "#Variable declaration:\n",
      "V10=230/sqrt(3)\n",
      "Nph=3\n",
      "p=4\n",
      "fe0=60\n",
      "R1=0.095                                #Armature resistance(ohm)\n",
      "R2=0.2                                  #Rotor resistance(ohm)\n",
      "X10=0.680                               #Armature leakage reactance(ohm)\n",
      "X20=0.672                               #Rotor leakage reactance(ohm)\n",
      "Xm0=18.7                                #Inductice reactance(ohm)\n",
      "\n",
      "\n",
      "#Calculations:\n",
      "#taking two frequency values:\n",
      "fe1=40\n",
      "fe2=60\n",
      "\n",
      "for m in range(1,3,1):\n",
      "    if m==1:\n",
      "        fe=fe1\n",
      "    else:\n",
      "        fe=fe2\n",
      "    X1=X10*(fe/fe0)\n",
      "    X2=X20*(fe/fe0)\n",
      "    Xm=Xm0*(fe/fe0)\n",
      "    V1=V10*(fe/fe0)\n",
      "    \n",
      "    ws=4*pi*fe/p\n",
      "    ns=120*fe/p\n",
      "    V1eq=abs(V1*1j*Xm/(R1+1j*(X1+Xm)))\n",
      "    Z1eq=1j*Xm*(R1+1j*X1)/(R1+1j*(X1+Xm))\n",
      "    R1eq=Z1eq.real\n",
      "    X1eq=Z1eq.imag\n",
      "    \n",
      "#Search over the slip until the Pload = Pmech   \n",
      "    s=0                             #slip initialised to 0\n",
      "    error=1\n",
      "    \n",
      "    while error >=0:\n",
      "        s=s+0.00001\n",
      "        rpm=ns*(1-s)\n",
      "        wm=ws*(1-s)\n",
      "        Tmech=(1/ws)*Nph*V1eq**2*(R2/s)\n",
      "        Tmech = Tmech/((R1+R2/s)**2 + (X1+X2)**2)\n",
      "        Pmech=Tmech*wm\n",
      "        Pload=10.5*10**3*(rpm/1800)**3\n",
      "        error=Pload-Pmech\n",
      "    \n",
      "    print \"\\nFor fe =\",fe,\"Hz :\"\n",
      "    print \"\\tTerminal voltage=\",round(V1*sqrt(3)),\"V l-l\"\n",
      "    print \"\\trpm =\",round(rpm)\n",
      "    print \"\\tslip =\",round(100*s,1),\"%\"\n",
      "    print \"\\tPload =\",round(Pload/1000,2),\"kW\""
     ],
     "language": "python",
     "metadata": {},
     "outputs": [
      {
       "output_type": "stream",
       "stream": "stdout",
       "text": [
        "\n",
        "For fe = 40 Hz :\n",
        "\tTerminal voltage= 153.0 V l-l\n",
        "\trpm = 1166.0\n",
        "\tslip = 2.8 %\n",
        "\tPload = 2.86 kW\n",
        "\n",
        "For fe = 60 Hz :\n",
        "\tTerminal voltage= 230.0 V l-l\n",
        "\trpm = 1721.0\n",
        "\tslip = 4.4 %\n",
        "\tPload = 9.17 kW\n"
       ]
      }
     ],
     "prompt_number": 12
    },
    {
     "cell_type": "heading",
     "level": 3,
     "metadata": {},
     "source": [
      "Example 11.12, Page number: 608"
     ]
    },
    {
     "cell_type": "code",
     "collapsed": false,
     "input": [
      "from __future__ import division\n",
      "from math import *\n",
      "\n",
      "#Variable declaration:\n",
      "V10=230/sqrt(3)\n",
      "Nph=3\n",
      "p=4\n",
      "fe0=60\n",
      "R1=0.095                                #Armature resistance(ohm)\n",
      "R2=0.2                                  #Rotor resistance(ohm)\n",
      "X10=0.680                               #Armature leakage reactance(ohm)\n",
      "X20=0.672                               #Rotor leakage reactance(ohm)\n",
      "Xm0=18.7                                #Inductice reactance(ohm)\n",
      "n=1680                                  #rpm\n",
      "Pmech=9.7*10**3                         #Electromagnetic power(W)\n",
      "\n",
      "\n",
      "#Calculations:\n",
      "we0=2*pi*fe0\n",
      "Lm=Xm0/we0\n",
      "LS=Lm+X10/we0\n",
      "LR=Lm+X20/we0\n",
      "Ra=R1\n",
      "RaR=R2\n",
      "lambda_rated=sqrt(2)*V10/we0\n",
      "lambdaDR=lambda_rated\n",
      "#for specified operating condition\n",
      "wm=n*(pi/30)\n",
      "Tmech=Pmech/wm\n",
      "iQ=(2/3)*(2/p)*(LR/Lm)*(Tmech/lambdaDR)\n",
      "iD=lambdaDR/Lm\n",
      "Ia=sqrt((iD**2+iQ**2)/2)\n",
      "wme=(p/2)*wm\n",
      "we=wme+(RaR/LR)*(iQ/iD)\n",
      "fe=we/(2*pi)\n",
      "Va=sqrt(((Ra*iD-we*(LS-Lm**2/LR)*iQ)**2 + (Ra*iQ+we*LS*iD)**2)/2)\n",
      "\n",
      "\n",
      "\n",
      "#Results:\n",
      "print \"Rms amplitude of the armature current:\",round(Ia,1),\"A\"\n",
      "print \"The electrical frequency:\",round(fe,1),\"Hz\"\n",
      "print \"Rms terminal voltage:\",round(sqrt(3)*Va,1),\"V  line-line\""
     ],
     "language": "python",
     "metadata": {},
     "outputs": [
      {
       "output_type": "stream",
       "stream": "stdout",
       "text": [
        "Rms amplitude of the armature current: 27.9 A\n",
        "The electrical frequency: 58.4 Hz\n",
        "Rms terminal voltage: 243.6 V  line-line\n"
       ]
      }
     ],
     "prompt_number": 13
    },
    {
     "cell_type": "heading",
     "level": 3,
     "metadata": {},
     "source": [
      "Example 11.13, Page number: 610"
     ]
    },
    {
     "cell_type": "code",
     "collapsed": false,
     "input": [
      "from __future__ import division\n",
      "%matplotlib inline\n",
      "from math import *\n",
      "from pylab import *\n",
      "\n",
      "#Variable declaration:\n",
      "P_rated = 12*10**3                       #Watts\n",
      "V_rated = 230                            #Rated line-line voltage(v)\n",
      "Va_rated = 230/sqrt(3)                   #Rated line to neutral(V)\n",
      "fe_rated = 60                            #Hz\n",
      "we_rated = 2*pi*fe_rated                 #rad/sec\n",
      "lambda_rated = sqrt(2)*Va_rated/we_rated #Wb\n",
      "I_rated = P_rated/(sqrt(3)*V_rated)      #A\n",
      "Ipeak_base = sqrt(2)*I_rated            #A\n",
      "p = 4                                   #poles\n",
      "\n",
      "V10=V_rated/sqrt(3)\n",
      "R1=0.095                                #Armature resistance(ohm)\n",
      "R2=0.2                                  #Rotor resistance(ohm)\n",
      "X10=0.680                               #Armature leakage reactance(ohm)\n",
      "X20=0.672                               #Rotor leakage reactance(ohm)\n",
      "Xm0=18.7                                #Inductice reactance(ohm)\n",
      "\n",
      "#Calculations:\n",
      "Lm = Xm0/we_rated;\n",
      "LS = Lm + X10/we_rated;\n",
      "LR = Lm + X20/we_rated;\n",
      "Ra = R1\n",
      "RaR = R2\n",
      "#operating point:\n",
      "n = 1680                                #rpm\n",
      "lambdaDR=lambda_rated\n",
      "wm = n*pi/30\n",
      "wme = (p/2)*wm\n",
      "Pmech = 9.7*10**3\n",
      "Tmech = Pmech/wm\n",
      "lambda_DRpu=[0]*42\n",
      "iDpu=[0]*42\n",
      "Iapu=[0]*42\n",
      "fe=[0]*42\n",
      "Vapu=[0]*42\n",
      "\n",
      "for n in range(1,43,1):\n",
      "    lambdaDR = (0.8+(n-1)*0.4/40)*lambda_rated\n",
      "    lambda_DRpu[n-1]=lambdaDR/lambda_rated\n",
      "    iQ=(2/3)*(2/p)*(LR/Lm)*(Tmech/lambdaDR)\n",
      "    iD=(lambdaDR/Lm)\n",
      "    iDpu[n-1]=iD/Ipeak_base\n",
      "    iQR=-(Lm/LR)**iQ\n",
      "    Ia=sqrt((iD**2+iQ**2)/2)\n",
      "    Iapu[n-1]=Ia/I_rated\n",
      "    we=wme-(RaR/LR)*(iQ/iD)\n",
      "    fe[n-1]=we/(2*pi)\n",
      "    Va_rms=sqrt(((Ra*iD-we*(LS-Lm**2/LR)*iQ)**2 +(Ra*iQ+ we*LS*iD)**2)/2)\n",
      "    Vapu[n-1]=Va_rms/Va_rated\n",
      "\n",
      "#Results:\n",
      "print \"The required plot is as shown:\"\n",
      "plot(iDpu,Iapu)\n",
      "plot(iDpu,Vapu,':')\n",
      "xlabel('i_D [per unit] ')\n",
      "ylabel('per unit')\n",
      "annotate('Ia',xy=(0.21,1.05))\n",
      "annotate('Va',xy=(0.21,0.85))\n",
      "show()"
     ],
     "language": "python",
     "metadata": {},
     "outputs": [
      {
       "output_type": "stream",
       "stream": "stdout",
       "text": [
        "The required plot is as shown:\n"
       ]
      },
      {
       "metadata": {},
       "output_type": "display_data",
       "png": "[encoded data removed]",
       "text": [
        "<matplotlib.figure.Figure at 0x27d0450>"
       ]
      }
     ],
     "prompt_number": 6
    }
   ],
   "metadata": {}
  }
 ]
}