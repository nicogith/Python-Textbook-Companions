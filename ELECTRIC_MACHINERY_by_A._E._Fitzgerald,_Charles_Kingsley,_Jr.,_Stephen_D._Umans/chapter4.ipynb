{
 "metadata": {
  "name": ""
 },
 "nbformat": 3,
 "nbformat_minor": 0,
 "worksheets": [
  {
   "cells": [
    {
     "cell_type": "heading",
     "level": 1,
     "metadata": {},
     "source": [
      "Chapter 4: Introduction to Rotating Machines"
     ]
    },
    {
     "cell_type": "heading",
     "level": 3,
     "metadata": {},
     "source": [
      "Example 4.2, Page number: 199"
     ]
    },
    {
     "cell_type": "code",
     "collapsed": false,
     "input": [
      "from __future__ import division\n",
      "from math import *\n",
      "\n",
      "#Variable declaration:\n",
      "uo=4*pi*10**-7                          #Permeabolity of free space(H/m)\n",
      "g=0.7*10**-3                            #Length of air gap(m)\n",
      "p=4                                     #no. of poles\n",
      "Ba=1.6                                  #Magnetic flux density(T)\n",
      "Kr=0.935                                #Winding constant\n",
      "N=263                                   #No. of turns\n",
      "\n",
      "#Calculations:\n",
      "Ir=(pi*g*p/(4*uo*Kr*N))*1.6\n",
      "\n",
      "\n",
      "#Results:\n",
      "print \"Rotor winding current:\",round(Ir,1),\"A\""
     ],
     "language": "python",
     "metadata": {},
     "outputs": [
      {
       "output_type": "stream",
       "stream": "stdout",
       "text": [
        "Rotor winding current: 11.4 A\n"
       ]
      }
     ],
     "prompt_number": 1
    },
    {
     "cell_type": "heading",
     "level": 3,
     "metadata": {},
     "source": [
      "Example 4.3, Page number: 208"
     ]
    },
    {
     "cell_type": "code",
     "collapsed": false,
     "input": [
      "from __future__ import division\n",
      "from math import *\n",
      "\n",
      "#Variable declaration:\n",
      "fc=60                                   #frequency of the current(Hz)\n",
      "p=[2, 4, 6]                             #matrix of no. of poles\n",
      "\n",
      "#Calculations:\n",
      "ns=[0]*3\n",
      "ws=[0]*3\n",
      "wc=2*pi*fc\n",
      "for n in range(0,3,1):\n",
      "    ws[n]=round((2/p[n])*wc,0)\n",
      "    \n",
      "for i in range(0,3,1):\n",
      "    ns[i]=round(120*fc/p[i],0)\n",
      "\n",
      "\n",
      "#Results:\n",
      "print \"The synchronous angular velocities:\",ws, \"rad/sec\"\n",
      "print \"The speed of the rotor:\",ns,\"r/min\""
     ],
     "language": "python",
     "metadata": {},
     "outputs": [
      {
       "output_type": "stream",
       "stream": "stdout",
       "text": [
        "The synchronous angular velocities: [377.0, 188.0, 126.0] rad/sec\n",
        "The speed of the rotor: [3600.0, 1800.0, 1200.0] r/min\n"
       ]
      }
     ],
     "prompt_number": 2
    },
    {
     "cell_type": "heading",
     "level": 3,
     "metadata": {},
     "source": [
      "Example 4.5, Page number: 212"
     ]
    },
    {
     "cell_type": "code",
     "collapsed": false,
     "input": [
      "from __future__ import division\n",
      "from math import *\n",
      "\n",
      "#Variable declaration:\n",
      "Nf=68                                   #Field winding\n",
      "Na=18                                   #Armature winding\n",
      "r=0.53                                  #mean air gap radius(m)\n",
      "l=3.8                                   #Armature winding length(m)\n",
      "Kf=0.945                                #Winding factor of field winding\n",
      "Ka=0.933                                #Winding factor of armature winding\n",
      "g=4.5*10**-2                            #Air gap length(m)\n",
      "p=2                                     #No. of poles\n",
      "If=720                                  #field current(A)\n",
      "uo=4*pi*10**-7                          #Permeability of free space(H/m)\n",
      "f=60                                    #Frequency curent(Hz)\n",
      "\n",
      "#Calculations:\n",
      "Fag1_peak=4*Kf*Nf*If/(pi*p)\n",
      "Bag1_peak=uo*Fag1_peak/g\n",
      "Qp=2*Bag1_peak*l*r\n",
      "Erms=sqrt(3)*sqrt(2)*pi*f*Ka*Na*Qp\n",
      "\n",
      "\n",
      "#Results:\n",
      "print \"The peak fundamental mmf,Fag1_peak: \",round(Fag1_peak/10000,2),\"* 10^4  A.turns/pole\"\n",
      "print \"\\nThe flux density in the air gap,Bag1_peak: \",round(Bag1_peak,2),\"T\"\n",
      "print \"\\nThe fundamental flux per pole, Qp:\" ,round(Qp,2),\"Wb\"\n",
      "print \"\\nThe rms value of open circuit voltage,Erms: \",round(Erms/1000,1),\"KV\""
     ],
     "language": "python",
     "metadata": {},
     "outputs": [
      {
       "output_type": "stream",
       "stream": "stdout",
       "text": [
        "The peak fundamental mmf,Fag1_peak:  2.95 * 10^4  A.turns/pole\n",
        "\n",
        "The flux density in the air gap,Bag1_peak:  0.82 T\n",
        "\n",
        "The fundamental flux per pole, Qp: 3.31 Wb\n",
        "\n",
        "The rms value of open circuit voltage,Erms:  25.7 KV\n"
       ]
      }
     ],
     "prompt_number": 3
    },
    {
     "cell_type": "heading",
     "level": 3,
     "metadata": {},
     "source": [
      "Example 4.8, Page number: 225"
     ]
    },
    {
     "cell_type": "code",
     "collapsed": false,
     "input": [
      "from __future__ import division\n",
      "from math import *\n",
      "\n",
      "#Variable Declaration:\n",
      "ns=1800                            #Speed of rotor(rpm)\n",
      "f=60                                #Frequency(Hz)\n",
      "g=1.2*10**-3                        #Air gap length(m)\n",
      "D=0.27                                  #Avg diameter of the gap(m)\n",
      "Kr=0.976                             #Winding factor\n",
      "l=0.32                              #Axial length(m)\n",
      "I=18                                #Rotor current(A)\n",
      "p=4                                 #No of poles\n",
      "Nr=786                              #Rotor windings\n",
      "B_max=1.5                           #Max. flux densiity(T)\n",
      "\n",
      "\n",
      "#Calculations:\n",
      "Fr_max=4*Kr*Nr*I/(pi*p)\n",
      "T_max=p*pi*D*l*B_max*Fr_max/4\n",
      "wm=ns*pi/30\n",
      "P=wm*T_max\n",
      "\n",
      "\n",
      "#Results:\n",
      "print \"Maximum torque, T_max:\",round(T_max,0),\"Nm\"\n",
      "print \"Maximum power,P:\",round(P/1000,0),\"kW\""
     ],
     "language": "python",
     "metadata": {},
     "outputs": [
      {
       "output_type": "stream",
       "stream": "stdout",
       "text": [
        "Maximum torque, T_max: 1790.0 Nm\n",
        "Maximum power,P: 337.0 kW\n"
       ]
      }
     ],
     "prompt_number": 4
    },
    {
     "cell_type": "heading",
     "level": 3,
     "metadata": {},
     "source": [
      "Example 4.9, Page number: 229"
     ]
    },
    {
     "cell_type": "code",
     "collapsed": false,
     "input": [
      "from __future__ import division\n",
      "from math import *\n",
      "\n",
      "#Variable Declaration:\n",
      "b=0.5                                       #Wavelength of wnding(m)\n",
      "l=1.5                                   #Winding length(m)\n",
      "I=700                                   #Currents in windings(A)\n",
      "N=45                                    #No. of turns\n",
      "K=0.92                                  #winding factor\n",
      "p=3                                     #No. of phases\n",
      "uo=4*pi*10**-7\n",
      "g=0.01                                  #Air gap flux(m)\n",
      "f=25                                    #Frequency of the exciting current(A)\n",
      "\n",
      "#Calculations:\n",
      "F_peak=(3*4*K*N*700)/round(4*pi*p,-1)\n",
      "B=uo*F_peak/g\n",
      "v=f*b\n",
      "\n",
      "#Results:\n",
      "print \"Amplitude of the resultant mmf wave:\",round(F_peak/1000,1),\"kA/m\"\n",
      "print \"Peak air gap flux:\",round(B,1),\"T\"\n",
      "print \"Velocity of the travelling wave:\",v,\"m/s\""
     ],
     "language": "python",
     "metadata": {},
     "outputs": [
      {
       "output_type": "stream",
       "stream": "stdout",
       "text": [
        "Amplitude of the resultant mmf wave: 8.7 kA/m\n",
        "Peak air gap flux: 1.1 T\n",
        "Velocity of the travelling wave: 12.5 m/s\n"
       ]
      }
     ],
     "prompt_number": 5
    }
   ],
   "metadata": {}
  }
 ]
}