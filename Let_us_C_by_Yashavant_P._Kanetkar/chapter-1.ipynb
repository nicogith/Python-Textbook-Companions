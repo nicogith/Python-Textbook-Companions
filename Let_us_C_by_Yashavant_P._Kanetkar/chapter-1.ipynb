{
 "metadata": {
  "name": "",
  "signature": "sha256:67e127b30e1e4aca343f9987e4ae454c0b4254a7be37191ad1b156a6da5403fc"
 },
 "nbformat": 3,
 "nbformat_minor": 0,
 "worksheets": [
  {
   "cells": [
    {
     "cell_type": "markdown",
     "metadata": {},
     "source": [
      "<h1>Chapter 1: Getting Started<h1>"
     ]
    },
    {
     "cell_type": "markdown",
     "metadata": {},
     "source": [
      "<h3>First C Program, Page number: 14<h3>\n",
      "    "
     ]
    },
    {
     "cell_type": "code",
     "collapsed": false,
     "input": [
      "\n",
      "p = 1000 #principle\n",
      "n = 3 # number of years\n",
      "r = 8.5 # rate of interest\n",
      "\n",
      "#Calculation\n",
      "si = p * n * r / 100 ; #formula for simple interest\n",
      "\n",
      "#Result\n",
      "print ( si )\n"
     ],
     "language": "python",
     "metadata": {},
     "outputs": [
      {
       "output_type": "stream",
       "stream": "stdout",
       "text": [
        "255.0\n"
       ]
      }
     ],
     "prompt_number": 1
    },
    {
     "cell_type": "markdown",
     "metadata": {},
     "source": [
      "<h3>Simple Interest, Page number: 21<h3>"
     ]
    },
    {
     "cell_type": "code",
     "collapsed": false,
     "input": [
      "\n",
      "p = 100 # principle\n",
      "n = 5 # number of years\n",
      "r = 15.5 # rate of interest\n",
      "\n",
      "#Calculation\n",
      "si = p * n * r / 100 ; #formula for simple interest\n",
      "\n",
      "#Result\n",
      "print ( si )\n"
     ],
     "language": "python",
     "metadata": {},
     "outputs": [
      {
       "output_type": "stream",
       "stream": "stdout",
       "text": [
        "77.5\n"
       ]
      }
     ],
     "prompt_number": 2
    },
    {
     "cell_type": "markdown",
     "metadata": {},
     "source": [
      "<h3>Just for fun, Page number: 22<h3>"
     ]
    },
    {
     "cell_type": "code",
     "collapsed": false,
     "input": [
      "\n",
      "num = 11\n",
      "\n",
      "#Result\n",
      "print  \"Now I am letting you on a secret...\"  \n",
      "print \"You have just entered the number\", num \n"
     ],
     "language": "python",
     "metadata": {},
     "outputs": [
      {
       "output_type": "stream",
       "stream": "stdout",
       "text": [
        "Now I am letting you on a secret...\n",
        "You have just entered the number 11\n"
       ]
      }
     ],
     "prompt_number": 4
    },
    {
     "cell_type": "markdown",
     "metadata": {},
     "source": [
      "<h3>Example 1.1, Page number: 32<h3>"
     ]
    },
    {
     "cell_type": "code",
     "collapsed": false,
     "input": [
      "\n",
      "i1 = 2 * 3 # operation *\n",
      "i2 = i1 / 4 # operation /\n",
      "i3 = 4 / 4 # operation /\n",
      "i4 = 5 / 8 # operation /\n",
      "i5 = i2 + i3 # operation +\n",
      "i6 = i5 + 8 # operation +\n",
      "i7 = i6 - 2 # operation -\n",
      "i8 = i7 + i4 # operation +\n",
      "i = i8\n",
      "\n",
      "#Result\n",
      "print \"i = \", i"
     ],
     "language": "python",
     "metadata": {},
     "outputs": [
      {
       "output_type": "stream",
       "stream": "stdout",
       "text": [
        "i =  8\n"
       ]
      }
     ],
     "prompt_number": 2
    },
    {
     "cell_type": "markdown",
     "metadata": {},
     "source": [
      "<h3>Example 1.2, Page number: 33<h3>"
     ]
    },
    {
     "cell_type": "code",
     "collapsed": false,
     "input": [
      "\n",
      "kk1 = 3 / 2# operation /\n",
      "kk2 = kk1 * 4 # operation *\n",
      "kk3 = 3 / 8 # operation /\n",
      "kk4 = kk2 + kk3 # operation +\n",
      "kk5 = kk4 + 3 # operation +\n",
      "kk = kk5\n",
      "\n",
      "#Result\n",
      "print \"kk = \", kk\n"
     ],
     "language": "python",
     "metadata": {},
     "outputs": [
      {
       "output_type": "stream",
       "stream": "stdout",
       "text": [
        "kk =  7\n"
       ]
      }
     ],
     "prompt_number": 3
    },
    {
     "cell_type": "code",
     "collapsed": false,
     "input": [],
     "language": "python",
     "metadata": {},
     "outputs": []
    }
   ],
   "metadata": {}
  }
 ]
}