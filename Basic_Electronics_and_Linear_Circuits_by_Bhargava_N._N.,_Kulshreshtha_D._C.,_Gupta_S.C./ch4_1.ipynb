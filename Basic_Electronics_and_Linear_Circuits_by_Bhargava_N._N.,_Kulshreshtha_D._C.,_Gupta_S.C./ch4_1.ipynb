{
 "metadata": {
  "name": "",
  "signature": "sha256:ae9612ced78590c195456849014e70cbd1cdee113840d747c19ee249579f79a3"
 },
 "nbformat": 3,
 "nbformat_minor": 0,
 "worksheets": [
  {
   "cells": [
    {
     "cell_type": "heading",
     "level": 1,
     "metadata": {},
     "source": [
      "Chapter 4:Semiconductor Diode"
     ]
    },
    {
     "cell_type": "heading",
     "level": 3,
     "metadata": {},
     "source": [
      "Example 4.1 Page No.85"
     ]
    },
    {
     "cell_type": "code",
     "collapsed": false,
     "input": [
      "\n",
      "Vrms=220             #Volts, power supply\n",
      "n2=1                     #Assumption\n",
      "n1=12*n2            #Turns Ratio\n",
      "\n",
      "#Calculation\n",
      "import math\n",
      "Vp=math.sqrt(2)*Vrms     #Maximum(Peak) Primary Voltage\n",
      "Vm=n2*Vp/n1                  #Maximum Secondary Voltage\n",
      "Vdc=Vm/math.pi                   #DC load Voltage \n",
      "# Results \n",
      "print \"The DC load Voltage is = \",round(Vdc,2),\"V\"\n",
      "print \"The Peak Inverse Voltage(PIV) is = \",round(Vm,1),\"V\""
     ],
     "language": "python",
     "metadata": {},
     "outputs": [
      {
       "output_type": "stream",
       "stream": "stdout",
       "text": [
        "The DC load Voltage is =  8.25 V\n",
        "The Peak Inverse Voltage(PIV) is =  25.9 V\n"
       ]
      }
     ],
     "prompt_number": 1
    },
    {
     "cell_type": "heading",
     "level": 3,
     "metadata": {},
     "source": [
      "Example 4.2 Page No.90"
     ]
    },
    {
     "cell_type": "code",
     "collapsed": false,
     "input": [
      "\n",
      "Vrms=220                   #Volts, power supply  rms voltage\n",
      "n2=1                           #Assumption\n",
      "n1=12*n2                 #Turns Ratio\n",
      "\n",
      "#Calculation\n",
      "import math\n",
      "Vp=math.sqrt(2)*Vrms  #Maximum(Peak Primary Voltage\n",
      "Vm=n2*Vp/n1                #Maximum Secondary Voltage\n",
      "Vdc=2*Vm/math.pi              #DC load Voltage \n",
      "\n",
      "# Results \n",
      "print \"The DC load Voltage is = \",round(Vdc,1),\"V\"\n",
      "print \"The Peak Inverse Voltage(PIV of Bridge Rectifier is =  \",round(Vm,1),\"V\"\n",
      "print \"The Peak Inverse Voltage(PIV of Centre-tap Rectifier is = \",round(2*Vm,1),\"v\""
     ],
     "language": "python",
     "metadata": {},
     "outputs": [
      {
       "output_type": "stream",
       "stream": "stdout",
       "text": [
        "The DC load Voltage is =  16.5 V\n",
        "The Peak Inverse Voltage(PIV of Bridge Rectifier is =   25.9 V\n",
        "The Peak Inverse Voltage(PIV of Centre-tap Rectifier is =  51.9 v\n"
       ]
      }
     ],
     "prompt_number": 2
    },
    {
     "cell_type": "heading",
     "level": 3,
     "metadata": {},
     "source": [
      "Example 4.3 Page No.95"
     ]
    },
    {
     "cell_type": "code",
     "collapsed": false,
     "input": [
      "\n",
      "import math\n",
      "Rl=1000.0                     #Ohms, load resistance\n",
      "rd=10.0                          #Ohms   forward base dynamic resistance\n",
      "Vm=220.0                     #Volts(Peak Value of Voltage)\n",
      "#Calculation\n",
      "Im=Vm/(rd+Rl)                       #Peak Value of Current\n",
      "\n",
      "# Result\n",
      "print \"The Peak Value of Current is =  \",round(Im*1000,1),\"mA\"\n",
      "\n",
      "#(b) dc or av value of current\n",
      "\n",
      "Idc=2*Im/math.pi                        #DC Value of Current\n",
      "# Results \n",
      "print \"The DC or Average Value of Current is \",round(Idc*1000,2),\"mA\"\n",
      "\n",
      "#(c)\n",
      "Irms=Im/math.sqrt(2)              #RMS Value of Current\n",
      "# Results \n",
      "print \"The RMS Value of Current is = \",round(Irms*1000,1),\"mA\"\n",
      "\n",
      "#(d)\n",
      "r=math.sqrt((Irms/Idc)**2-1)     #Ripple Factor\n",
      "# Results i\n",
      "print \" The Ripple Factor r = \",round(r,3)\n",
      "\n",
      "#(e)\n",
      "Pdc=Idc**2*Rl\n",
      "Pac=Irms**2*(rd+Rl)\n",
      "n=Pdc/Pac                                  #Rectification Efficiency\n",
      "# Results\n",
      "print \"The Rectification EFficiency n(eeta) =  percent.\",round(n*100,2)"
     ],
     "language": "python",
     "metadata": {},
     "outputs": [
      {
       "output_type": "stream",
       "stream": "stdout",
       "text": [
        "The Peak Value of Current is =   217.8 mA\n",
        "The DC or Average Value of Current is  138.67 mA\n",
        "The RMS Value of Current is =  154.0 mA\n",
        " The Ripple Factor r =  0.483\n",
        "The Rectification EFficiency n(eeta) =  percent. 80.25\n"
       ]
      }
     ],
     "prompt_number": 3
    },
    {
     "cell_type": "heading",
     "level": 3,
     "metadata": {},
     "source": [
      "Example 4.4 Page No.103"
     ]
    },
    {
     "cell_type": "code",
     "collapsed": false,
     "input": [
      "\n",
      "Vz=9.1                #Volts\n",
      "P=0.364              #Watts\n",
      "#Calculation\n",
      "Iz=P/Vz\n",
      "#Result\n",
      "print \" The Maximum permissible Current is \",Iz*1000,\"mA\""
     ],
     "language": "python",
     "metadata": {},
     "outputs": [
      {
       "output_type": "stream",
       "stream": "stdout",
       "text": [
        " The Maximum permissible Current is  40.0 mA\n"
       ]
      }
     ],
     "prompt_number": 4
    },
    {
     "cell_type": "heading",
     "level": 3,
     "metadata": {},
     "source": [
      "Example 4.5 Page No.105"
     ]
    },
    {
     "cell_type": "code",
     "collapsed": false,
     "input": [
      "\n",
      "Ci=18*10**(-12)            #i.e. 18 pF,  capacitance of diode\n",
      "Vi=4                                 #volt, initial  voltage\n",
      "Vf=8                               #v, final voltage\n",
      "\n",
      "#Calculation\n",
      "import math\n",
      "Vf=8                             \n",
      "K=Ci*math.sqrt(Vi)\n",
      "Cf=K/math.sqrt(Vf)\n",
      "#Result\n",
      "print \" The Final Value of Capacitance is C = \",round(Cf/10**(-12),3),\"pF\""
     ],
     "language": "python",
     "metadata": {},
     "outputs": [
      {
       "output_type": "stream",
       "stream": "stdout",
       "text": [
        " The Final Value of Capacitance is C =  12.728 pF\n"
       ]
      }
     ],
     "prompt_number": 5
    }
   ],
   "metadata": {}
  }
 ]
}