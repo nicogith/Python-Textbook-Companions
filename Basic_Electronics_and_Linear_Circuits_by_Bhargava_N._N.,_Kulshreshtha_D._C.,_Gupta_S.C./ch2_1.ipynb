{
 "metadata": {
  "name": "",
  "signature": "sha256:d04dc734c5bc464767e0da96b38331e03b832b88f0bd8644b242b3682feeb9d9"
 },
 "nbformat": 3,
 "nbformat_minor": 0,
 "worksheets": [
  {
   "cells": [
    {
     "cell_type": "heading",
     "level": 1,
     "metadata": {},
     "source": [
      "Chapter 2:Current and Voltage Source"
     ]
    },
    {
     "cell_type": "heading",
     "level": 3,
     "metadata": {},
     "source": [
      "Example 2.1 Page no.39"
     ]
    },
    {
     "cell_type": "code",
     "collapsed": false,
     "input": [
      "\n",
      "Vs=2           #V open circuit voltage\n",
      "Rs=1           #ohm . internal impedence\n",
      "#Current Source or Norton's Representaion (Parallel Current Source & Resistor\n",
      "Is=Vs/Rs    #Ampere, short circuit current\n",
      "#result\n",
      "print \"The Short Circuit Current Value is  \",Is,\"A\"\n",
      "print \"The Source Impedence Value is \",Rs,\"ohm\"\n",
      "print \"The Current Source & Source Impedance are connected in Parallel.\""
     ],
     "language": "python",
     "metadata": {},
     "outputs": [
      {
       "output_type": "stream",
       "stream": "stdout",
       "text": [
        "The Short Circuit Current Value is   2 A\n",
        "The Source Impedence Value is  1 ohm\n",
        "The Current Source & Source Impedance are connected in Parallel.\n"
       ]
      }
     ],
     "prompt_number": 1
    },
    {
     "cell_type": "heading",
     "level": 3,
     "metadata": {},
     "source": [
      "Example 2.2 Page no.40"
     ]
    },
    {
     "cell_type": "code",
     "collapsed": false,
     "input": [
      "\n",
      "Is=0.2          #Amperes\n",
      "Zs=100       #Ohms\n",
      "#Voltage Source or Thevenin's Representaion (Series Voltage Source & Resistor)\n",
      "Vs=Is*Zs   #Volts\n",
      "# Results \n",
      "print \"The Open Circuit Voltage is  \",Vs,\"V\"\n",
      "print \"The Source Impedence Value is  \",Zs,\"ohm\"\n",
      "print \"The Voltage Source & Source Impedance are connected in Series.\""
     ],
     "language": "python",
     "metadata": {},
     "outputs": [
      {
       "output_type": "stream",
       "stream": "stdout",
       "text": [
        "The Open Circuit Voltage is   20.0 V\n",
        "The Source Impedence Value is   100 ohm\n",
        "The Voltage Source & Source Impedance are connected in Series.\n"
       ]
      }
     ],
     "prompt_number": 2
    },
    {
     "cell_type": "heading",
     "level": 3,
     "metadata": {},
     "source": [
      "Example 2.3 Page no.40"
     ]
    },
    {
     "cell_type": "code",
     "collapsed": false,
     "input": [
      "\n",
      "Is=1.5*10**(-3)       #Amperes ,source current\n",
      "Zs=2000            #Ohms, resistance connected to the loads\n",
      "Z1=10000          #Ohms , load resistance 1\n",
      "Z2=40000          #Ohms  load resistance 2\n",
      "#Calculation for Current Source Representation\n",
      "Zl=Z1*Z2/(Z1+Z2)\n",
      "I2=Is*Zs/(Zs+Zl)\n",
      "I4I=I2*Z1/(Z1+Z2)     #Using Current Divider Rule\n",
      "\n",
      "#Calculation for Current Source Representation\n",
      "Vs=Is*Zs                    #Open Circuit Volatge\n",
      "I=Vs/(Zs+Zl)\n",
      "I4V=I*Z1/(Z1+Z2)    #Using Current Divider Rule\n",
      "# Results \n",
      "print \"The Load Current using Current Source Representaion is I4I =  \",I4I,\"A\"\n",
      "print \"The Load Current using Voltage Source Representaion is I4V =  \",I4V,\"A\"\n",
      "print \"I4I==I4V so\"\n",
      "print \" Both Results are same.\"\n",
      "\n"
     ],
     "language": "python",
     "metadata": {},
     "outputs": [
      {
       "output_type": "stream",
       "stream": "stdout",
       "text": [
        "The Load Current using Current Source Representaion is I4I =   6e-05 A\n",
        "The Load Current using Voltage Source Representaion is I4V =   6e-05 A\n",
        "I4I==I4V so\n",
        " Both Results are same.\n"
       ]
      }
     ],
     "prompt_number": 3
    },
    {
     "cell_type": "heading",
     "level": 3,
     "metadata": {},
     "source": [
      "Example 2.4 Page no.45"
     ]
    },
    {
     "cell_type": "code",
     "collapsed": false,
     "input": [
      " \n",
      "Vs=0.01              #V ,dc voltage\n",
      "Rs=1000            # ohm, resistance\n",
      "#Output Side resistance\n",
      "Ro1=20000       #ohm, 20 kOhms\n",
      "Ro2=2000         # Ohms\n",
      "\n",
      "#Calculation\n",
      "i=Vs/Rs          #Input Current\n",
      "Io=100*i       #Output Current\n",
      "Il=Io*Ro1/(Ro1+Ro2)  #Using Current Divider Rule\n",
      "Vo=Il*Ro2                     #Output Volatge\n",
      "\n",
      "# Result\n",
      "print \"The Output Voltage Vo =  \",round(Vo,3),\"V\""
     ],
     "language": "python",
     "metadata": {},
     "outputs": [
      {
       "output_type": "stream",
       "stream": "stdout",
       "text": [
        "The Output Voltage Vo =   1.818 V\n"
       ]
      }
     ],
     "prompt_number": 4
    }
   ],
   "metadata": {}
  }
 ]
}