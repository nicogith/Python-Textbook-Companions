{
 "metadata": {
  "name": "",
  "signature": "sha256:599e62479fb81312d9e71ded8b631cb3f6c046aff5ae2a1f3f8129c2f46ca250"
 },
 "nbformat": 3,
 "nbformat_minor": 0,
 "worksheets": [
  {
   "cells": [
    {
     "cell_type": "heading",
     "level": 1,
     "metadata": {},
     "source": [
      "Chapter 13:Oscillators"
     ]
    },
    {
     "cell_type": "heading",
     "level": 3,
     "metadata": {},
     "source": [
      "Example 13.1 Page no.421"
     ]
    },
    {
     "cell_type": "code",
     "collapsed": false,
     "input": [
      "\n",
      "L=58.6*10**(-6)                         # H, inductance\n",
      "C=300*10**(-12)                        # F, capacitance\n",
      "\n",
      "#Calculation\n",
      "import math\n",
      "fo=1/(2*math.pi*math.sqrt(L*C))\n",
      "\n",
      "#Result\n",
      "print \" The Frequency of Oscillation of Tuned Collector Oscillator is fo =  \",round(fo/10**3,2),\"KHz\""
     ],
     "language": "python",
     "metadata": {},
     "outputs": [
      {
       "output_type": "stream",
       "stream": "stdout",
       "text": [
        " The Frequency of Oscillation of Tuned Collector Oscillator is fo =   1200.36 KHz\n"
       ]
      }
     ],
     "prompt_number": 1
    },
    {
     "cell_type": "heading",
     "level": 3,
     "metadata": {},
     "source": [
      "Example 13.2 Page no.427"
     ]
    },
    {
     "cell_type": "code",
     "collapsed": false,
     "input": [
      "\n",
      "R=100000.0                                   # Ohms, resistance\n",
      "C=0.01*10**(-6)                           #F, capacitance\n",
      "\n",
      "#Calculation\n",
      "import math\n",
      "fo=1/(2*math.pi*R*C*math.sqrt(6))\n",
      "#Result\n",
      "print \"The Frequency of Oscillation of Vacuum Tube Phase Shift Oscillator is fo =  \",round(fo,2),\"Hz\""
     ],
     "language": "python",
     "metadata": {},
     "outputs": [
      {
       "output_type": "stream",
       "stream": "stdout",
       "text": [
        "The Frequency of Oscillation of Vacuum Tube Phase Shift Oscillator is fo =   64.97 Hz\n"
       ]
      }
     ],
     "prompt_number": 2
    },
    {
     "cell_type": "heading",
     "level": 3,
     "metadata": {},
     "source": [
      "Example 13.3 Page no.427"
     ]
    },
    {
     "cell_type": "code",
     "collapsed": false,
     "input": [
      "\n",
      "R1=220000.0                                  # Ohms, Resistance 1\n",
      "R2=220000.0                                  # Ohms Resistance  2\n",
      "C1=250*10**(-12)                        #F, capacitance 1 \n",
      "C2=250*10**(-12)                        #F, capacitance 2\n",
      "\n",
      "#Calculation\n",
      "import math\n",
      "fo=1/(2*math.pi*math.sqrt(R1*C1*R2*C2))\n",
      "# Result\n",
      "print \"The Frequency of Oscillation of Wein Bridge Oscillator is fo =  \",round(fo/10**3,2),\"KHz\""
     ],
     "language": "python",
     "metadata": {},
     "outputs": [
      {
       "output_type": "stream",
       "stream": "stdout",
       "text": [
        "The Frequency of Oscillation of Wein Bridge Oscillator is fo =   2.89 KHz\n"
       ]
      }
     ],
     "prompt_number": 3
    }
   ],
   "metadata": {}
  }
 ]
}