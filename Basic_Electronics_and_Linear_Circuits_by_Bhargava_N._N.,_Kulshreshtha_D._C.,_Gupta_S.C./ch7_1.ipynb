{
 "metadata": {
  "name": "",
  "signature": "sha256:a8e6eec0c3406a8b34f53cdcd04f5f3e158306e880eeefff72f3f3980fec597f"
 },
 "nbformat": 3,
 "nbformat_minor": 0,
 "worksheets": [
  {
   "cells": [
    {
     "cell_type": "heading",
     "level": 1,
     "metadata": {},
     "source": [
      "Chapter 7 :Transistor Biasing And Stabilization of Operation Point"
     ]
    },
    {
     "cell_type": "heading",
     "level": 3,
     "metadata": {},
     "source": [
      "Example 7.1 Page No.230"
     ]
    },
    {
     "cell_type": "code",
     "collapsed": false,
     "input": [
      "#Given\n",
      "Vcc=9.0                                      #V, collector bias junction voltage\n",
      "Rb=300*10**3                              #Ohms, , base resistance\n",
      "Rc=2*10**3                                #Ohms, collector resistance\n",
      "Beeta=50.0                                #current gain factor\n",
      "\n",
      "#Calculation\n",
      "Ib=(Vcc)/Rb\n",
      "Ic=Beeta*Ib\n",
      "Icsat=Vcc/Rc\n",
      "Vce=Vcc-Ic*Rc\n",
      "\n",
      "#Result\n",
      "print \"a) Base current is \",Ib,\"A\"\n",
      "print \"b) collector current is =  \",Ic/10**(-3),\"mA\"\n",
      "print \"collector saturation  current is =  \",Icsat/10**(-3),\"mA\"\n",
      "if Ic < Icsat:\n",
      "    \n",
      "    print\"Since Ic < Icsat \\nSo Transistor is not in saturation\" \n",
      "else:\n",
      "    print \"Transistor is in saturation\"\n",
      "\n",
      "print \"c) The collector to emitter voltage is = \",Vce,\"V\"\n"
     ],
     "language": "python",
     "metadata": {},
     "outputs": [
      {
       "output_type": "stream",
       "stream": "stdout",
       "text": [
        "a) Base current is  3e-05 A\n",
        "b) collector current is =   1.5 mA\n",
        "collector saturation  current is =   4.5 mA\n",
        "Since Ic < Icsat \n",
        "So Transistor is not in saturation\n",
        "c) The collector to emitter voltage is =  6.0 V\n"
       ]
      }
     ],
     "prompt_number": 21
    },
    {
     "cell_type": "heading",
     "level": 3,
     "metadata": {},
     "source": [
      "Example 7.2 Page No.230"
     ]
    },
    {
     "cell_type": "code",
     "collapsed": false,
     "input": [
      "\n",
      "Vcc=10.0                          #V, collector bias junction voltage\n",
      "Rb=100*10**3              #Ohms, base resistance\n",
      "Rc=1*10**3                  #Ohms, collector resistance\n",
      "Beeta=60                        #current gain\n",
      " \n",
      "#Calculation\n",
      "Ib=(Vcc)/Rb                 #A, base current\n",
      "Ic=Beeta*Ib                 #A, collector current\n",
      "Icsat=Vcc/Rc               #A, collector saturated current\n",
      "Vce=Vcc-Ic*Rc            #V, collector emitter voltage\n",
      "\n",
      "#Result\n",
      "print \"a) Base current is \",Ib*10**6,\"microA\"\n",
      "print \"b) collector current is \",Ic*10**3,\"mA\"\n",
      "print \"collector saturation current is \",Icsat*10**3,\"mA\"\n",
      "if Ic < Icsat:\n",
      "    \n",
      "    print\"Since Ic < Icsat \\nSo Transistor is not in saturation\" \n",
      "else:\n",
      "    print \"Transistor is  in saturation\"\n",
      "print \"c) The collector emitter voltage is \",Vce,\"V\""
     ],
     "language": "python",
     "metadata": {},
     "outputs": [
      {
       "output_type": "stream",
       "stream": "stdout",
       "text": [
        "a) Base current is  100.0 microA\n",
        "b) collector current is  6.0 mA\n",
        "collector saturation current is  10.0 mA\n",
        "Since Ic < Icsat \n",
        "So Transistor is not in saturation\n",
        "c) The collector emitter voltage is  4.0 V\n"
       ]
      }
     ],
     "prompt_number": 23
    },
    {
     "cell_type": "heading",
     "level": 3,
     "metadata": {},
     "source": [
      "Example 7.3 Page No.231"
     ]
    },
    {
     "cell_type": "code",
     "collapsed": false,
     "input": [
      "\n",
      "Vcc=10.0                               #V, collector bias junction voltage\n",
      "Rb=100*10**3                          #Ohms, Base resistance\n",
      "Rc=1*10**3                            #Ohms, collector resistance\n",
      "Beeta=150                             #current gain\n",
      "\n",
      "#Calculation\n",
      "Ib=(Vcc)/Rb                     #Base current\n",
      "Ic=Beeta*Ib                     #collector resistance\n",
      "Icsat=Vcc/Rc                    #A, collector saturation current\n",
      "Vce=0                           #V, collector emitter voltage\n",
      "\n",
      "#Result\n",
      "print \"collector current is Ic = \",Ic/10**(-3),\"mA\"\n",
      "print \"collector saturated current is \",Icsat*10**3,\"mA\" \n",
      "if Ic < Icsat:\n",
      "    \n",
      "    print\" Transistor is not in saturation.\" \n",
      "else:\n",
      "    print \"Since Ic > Icsat \\n So Transistor is  in saturation\"\n",
      "print \"collector emitter voltage is \",Vce,\"V\"\n"
     ],
     "language": "python",
     "metadata": {},
     "outputs": [
      {
       "output_type": "stream",
       "stream": "stdout",
       "text": [
        "collector current is Ic =  15.0 mA\n",
        "collector saturated current is  10.0 mA\n",
        "Since Ic > Icsat \n",
        " So Transistor is  in saturation\n",
        "collector emitter voltage is  0 V\n"
       ]
      }
     ],
     "prompt_number": 25
    },
    {
     "cell_type": "heading",
     "level": 3,
     "metadata": {},
     "source": [
      "Example 7.4 Page No.231"
     ]
    },
    {
     "cell_type": "code",
     "collapsed": false,
     "input": [
      "\n",
      "Vcc=6          #V,collector base junction voltage\n",
      "Vbe=0.3        #V,base emittor voltage\n",
      "Icbo=.000002   #A,colector leakage current\n",
      "Ic=.001 #A,collector current\n",
      "Beeta=20.0\n",
      "\n",
      "#Calculation\n",
      "#Case 1: Considering Icbo and Vbe in the calculations\n",
      "Ib=(Ic-(Beeta+1)*Icbo)/Beeta\n",
      "print Ib\n",
      "Rb1=(Vcc-Vbe)/Ib\n",
      "print \"value of base resistance is =\",round(Rb1/1000,3),\"K ohm\"\n",
      "\n",
      "#Case 2: Neglecting Icbo and Vbe in the calculations\n",
      "Ib2=Ic/Beeta\n",
      "Rb2=Vcc/Ib2\n",
      "#Percentage Error\n",
      "E=(Rb2-Rb1)/Rb1*100\n",
      "#Displaying The Results in Command Window\n",
      "print\"The Base Resistance (Neglecting Icbo and Vbe) is \",Rb2/1000,\"k ohm\"\n",
      "print\" Percentage Error is = \",round(E,3)\n",
      "\n",
      "#b  Due to rise in temprature\n",
      "beeta1=25.0\n",
      "Icbo1=10.0\n",
      "Ic1=beeta1*Ib+(beeta1+1)*Icbo1*10**-6\n",
      "print \"Now collector current is \",round(Ic1*10**3,2),\"mA\""
     ],
     "language": "python",
     "metadata": {},
     "outputs": [
      {
       "output_type": "stream",
       "stream": "stdout",
       "text": [
        "4.79e-05\n",
        "value of base resistance is = 118.998 K ohm\n",
        "The Base Resistance (Neglecting Icbo and Vbe) is  120.0 k ohm\n",
        " Percentage Error is =  0.842\n",
        "Now collector current is  1.46 mA\n"
       ]
      }
     ],
     "prompt_number": 40
    },
    {
     "cell_type": "heading",
     "level": 3,
     "metadata": {},
     "source": [
      "Example 7.5 Page No.235"
     ]
    },
    {
     "cell_type": "code",
     "collapsed": false,
     "input": [
      "\n",
      "Vcc=10.0      #V,collectoe base junction voltage\n",
      "Rc=500.0      #Ohms,colector resistance\n",
      "Rb=500000  #Ohms,base resistance\n",
      "Beeta=100.0   #current gain\n",
      "#Calculation\n",
      "Ib=Vcc/(Rb+Beeta*Rc) #emittor currenr\n",
      "Ic=Beeta*Ib\n",
      "Ie=Ic\n",
      "Vce=Vcc-Ic*Rc\n",
      "Vc=Vce\n",
      "\n",
      "# Results \n",
      "print \"emittor current is \",round(Ie*1000,1),\"mA\"\n",
      "print\"The collector voltage is \",round(Vc,1),\"V\""
     ],
     "language": "python",
     "metadata": {},
     "outputs": [
      {
       "output_type": "stream",
       "stream": "stdout",
       "text": [
        "emittor current is  1.8 mA\n",
        "The collector voltage is  9.1 V\n"
       ]
      }
     ],
     "prompt_number": 3
    },
    {
     "cell_type": "heading",
     "level": 3,
     "metadata": {},
     "source": [
      "Example 7.6 Page No.235"
     ]
    },
    {
     "cell_type": "code",
     "collapsed": false,
     "input": [
      "\n",
      "#Given Circuit Data\n",
      "Vcc=20.0     #V,collector base voltage\n",
      "Rc=2000.0    #Ohms.collector resistance\n",
      "Rb=200000.0   #Ohms,base resistance\n",
      "Beeta1=50.0   #current gain factor\n",
      "Beeta2=200.0\n",
      "\n",
      "#Calculation CASE-1: Minimum Collector Current\n",
      "#from fig 7.14\n",
      "Ibmin=Vcc/(Rb+Beeta1*Rc)\n",
      "Icmin=Beeta1*Ibmin\n",
      "#result\n",
      "print \"minimum    base curent    is \",round(Ibmin,6),\"A\"\n",
      "print \"minimum collector current is \",round(Icmin*1000,3),\"mA\"\n",
      "#Calculation CASE-2: Maximum Collector Current\n",
      "Ibmax=Vcc/(Rb+Beeta2*Rc)\n",
      "Icmax=Beeta2*Ibmax\n",
      "\n",
      "#Results \n",
      "print\"The maximum    base   current =  \",round(Ibmax/10**(-3),6),\"A\"\n",
      "print\"The Maximum Collector Current = \",round(Icmax/10**(-3),2),\"mA\""
     ],
     "language": "python",
     "metadata": {},
     "outputs": [
      {
       "output_type": "stream",
       "stream": "stdout",
       "text": [
        "minimum    base curent    is  6.7e-05 A\n",
        "minimum collector current is  3.333 mA\n",
        "The maximum    base   current =   0.033333 A\n",
        "The Maximum Collector Current =  6.67 mA\n"
       ]
      }
     ],
     "prompt_number": 2
    },
    {
     "cell_type": "heading",
     "level": 3,
     "metadata": {},
     "source": [
      "Example 7.7 Page No.238"
     ]
    },
    {
     "cell_type": "code",
     "collapsed": false,
     "input": [
      "\n",
      "Vcc=10.0    #V collector junction voltage\n",
      "Rc=2000.0    #Ohms collector resistane\n",
      "Rb=1000000.0 #Ohms,base resistance\n",
      "Re=1000.0    #Ohms emittor resstance\n",
      "Beeta=100.0  #current gain\n",
      "\n",
      "#Calculation\n",
      "Ib=Vcc/(Rb+(Beeta+1)*Re)\n",
      "Ic=Beeta*Ib\n",
      "Ie=Ic+Ib\n",
      "#Results \n",
      "print \" The Collector Current Ic =  \",round(Ic*1000,3),\"mA\"\n",
      "print \" The Base Current Ib  .\",round(Ib*1000000,2),\"microA\"\n",
      "print \" The Emitter Current Ie = \",round(Ie*1000,3),\"mA\""
     ],
     "language": "python",
     "metadata": {},
     "outputs": [
      {
       "output_type": "stream",
       "stream": "stdout",
       "text": [
        " The Collector Current Ic =   0.908 mA\n",
        " The Base Current Ib  . 9.08 microA\n",
        " The Emitter Current Ie =  0.917 mA\n"
       ]
      }
     ],
     "prompt_number": 1
    },
    {
     "cell_type": "heading",
     "level": 3,
     "metadata": {},
     "source": [
      "Example 7.8 Page No.239"
     ]
    },
    {
     "cell_type": "code",
     "collapsed": false,
     "input": [
      "\n",
      "Vcc=6        #V,collector bias junction volage\n",
      "Vbe=0.3      #V base emittor voltage\n",
      "Rc=50        #Ohms collector resistance\n",
      "Rb=10*10**3  #Ohms base resistance\n",
      "Re=100       #Ohms emittor resistance\n",
      "Beeta1=50    # gain factor\n",
      "Beeta2=200\n",
      "\n",
      "#Calculation CASE-1: Minimum Emitter Current & corresponding Vce\n",
      "Iemin=(Vcc-Vbe)*(Beeta1+1)/(Rb+(Beeta1+1)*Re)\n",
      "Vcemin=Vcc-(Rc+Re)*Iemin\n",
      "#Calculatioen CASE-2: Maximum Emitter Current & corresponding Vce\n",
      "Iemax=(Vcc-Vbe)*(Beeta2+1)/(Rb+(Beeta2+1)*Re)\n",
      "Vcemax=Vcc-(Rc+Re)*Iemax\n",
      "\n",
      "#Results \n",
      "print\"The Minimum Emitter Current Ie(min) is\",round(Iemin*1000,2),\"mA\"\n",
      "print \"The Corresponding Vce =  V .\",round(Vcemin,1),\"v\"\n",
      "print \"The Maximum Emitter Current Ie(max) = .\",round(Iemax*1000,1),\"mA\"\n",
      "print \"The Corresponding Vce =  V .\",round(Vcemax,1),\"v\""
     ],
     "language": "python",
     "metadata": {},
     "outputs": [
      {
       "output_type": "stream",
       "stream": "stdout",
       "text": [
        "The Minimum Emitter Current Ie(min) is 19.25 mA\n",
        "The Corresponding Vce =  V . 3.1 v\n",
        "The Maximum Emitter Current Ie(max) = . 38.1 mA\n",
        "The Corresponding Vce =  V . 0.3 v\n"
       ]
      }
     ],
     "prompt_number": 4
    },
    {
     "cell_type": "heading",
     "level": 3,
     "metadata": {},
     "source": [
      "Example 7.9 Page No. 240"
     ]
    },
    {
     "cell_type": "code",
     "collapsed": false,
     "input": [
      "\n",
      "Vcc=6.0                         #V, collector bias junction voltage\n",
      "Vbe=0.3                         #V, base emitter voltage\n",
      "Rc=1*10**3                   #Ohms, collector resistance\n",
      "Rb=10*10**3                 #Ohms, base resistance\n",
      "Re=100.0                        #Ohms, emitter resistance\n",
      "Beeta1=50                       #current gain factor\n",
      "Beeta2=200\n",
      "Ie1=19.25*10**(-3)                     #A,for beeta=50,  from example 7.8 \n",
      "Ie2=38.2*10**(-3)                       #A,for beeta=200, from example 7.8\n",
      "\n",
      "#Calculation  (i)\n",
      "\n",
      "Ie1=19.25*10**(-3)                       #A,for beeta=50,  from example 7.8                       \n",
      "Vce=Vcc-(Rc+Re)*Ie1                       #V, collector emitter voltage\n",
      "Icsat1=Vcc/(Rc+Re)                       #collector saturated current\n",
      "Vcesat1=0\n",
      "print \"The collector voltage is Vcc \",Vcc,\"V\"\n",
      "print \"The collector emitter voltage is Vce\",Vce,\"V\"\n",
      "print \"Because Collector voltage is greater than collector emitter voltage so Transistor is  in saturation \"\n",
      "print \"collector saturated current is \",round(Icsat1*10**3,2),\"mA\"\n",
      "print \"collector emitter satirated voltage is\",Vcesat1,\"V\"\n",
      "\n",
      "# ii\n",
      "Icsat2=Icsat1\n",
      "Vcesat2=Vcesat1\n",
      "print \"(ii) collector saturated current is \",round(Icsat2*10**3,3),\"mA\"\n",
      "print \"collector emitter satirated voltage is\",Vcesat2,\"V\"\n",
      "\n",
      "\n"
     ],
     "language": "python",
     "metadata": {},
     "outputs": [
      {
       "output_type": "stream",
       "stream": "stdout",
       "text": [
        "The collector voltage is Vcc  6.0 V\n",
        "The collector emitter voltage is Vce -15.175 V\n",
        "Because Collector voltage is greater than collector emitter voltage so Transistor is  in saturation \n",
        "collector saturated current is  5.45 mA\n",
        "collector emitter satirated voltage is 0 V\n",
        "(ii) collector saturated current is  5.455 mA\n",
        "collector emitter satirated voltage is 0 V\n"
       ]
      }
     ],
     "prompt_number": 48
    },
    {
     "cell_type": "heading",
     "level": 3,
     "metadata": {},
     "source": [
      "Example 7.10 Page No.240"
     ]
    },
    {
     "cell_type": "code",
     "collapsed": false,
     "input": [
      "\n",
      "Vcc=9       #V,collector bias junction voltge\n",
      "Vce=3       #V,collector emittor voltage\n",
      "Re=500      #Ohms,emittor resistance\n",
      "Ic=8*10**(-3) #A,collector current\n",
      "Beeta=80\n",
      "#Calculation\n",
      "Ib=Ic/Beeta\n",
      "Rb=(Vcc-(Beeta+1)*Ib*Re)/Ib\n",
      "#Displaying The Results in Command Window\n",
      "print\"The Base Resistance is :\",round(Rb/1000,5),\"kohm\""
     ],
     "language": "python",
     "metadata": {},
     "outputs": [
      {
       "output_type": "stream",
       "stream": "stdout",
       "text": [
        "The Base Resistance is : 49.5 kohm\n"
       ]
      }
     ],
     "prompt_number": 5
    },
    {
     "cell_type": "heading",
     "level": 3,
     "metadata": {},
     "source": [
      "Example 7.11 Page No.242"
     ]
    },
    {
     "cell_type": "code",
     "collapsed": false,
     "input": [
      "\n",
      "Vcc=12.0    #V collector bias junction voltage\n",
      "Vbe=0.3     #V base emitter junction voltage\n",
      "R1=40000.0    #Ohms resistance\n",
      "R2=5000.0     #Ohms resistance\n",
      "Re=1000.0     #Ohms emitter reistance\n",
      "Rc=5000.0     #Ohms collector resistance\n",
      "Beeta=60\n",
      "\n",
      "#Calculation\n",
      "Vb=(R2/(R1+R2))*Vcc\n",
      "Ve=Vb-Vbe\n",
      "Ie=Ve/Re\n",
      "Ic=Ie\n",
      "Vc=Vcc-Ic*Rc\n",
      "Vce=Vc-Ve\n",
      "# Results \n",
      "print\" V2= Vb \",round(Vb,1),\"v\"\n",
      "print\" Ve =  \",round(Ve,1),\"v\"\n",
      "print\" Ie =  \",round(Ie/10**(-3),1),\"mA\"\n",
      "print\" Ic =  \",round(Ic/10**(-3),1),\"mA\"\n",
      "print\" Vc =  \",round(Vc,0),\"v\"\n",
      "print\" Vce = \",round(Vce,0),\"v\""
     ],
     "language": "python",
     "metadata": {},
     "outputs": [
      {
       "output_type": "stream",
       "stream": "stdout",
       "text": [
        " V2= Vb  1.3 v\n",
        " Ve =   1.0 v\n",
        " Ie =   1.0 mA\n",
        " Ic =   1.0 mA\n",
        " Vc =   7.0 v\n",
        " Vce =  6.0 v\n"
       ]
      }
     ],
     "prompt_number": 6
    },
    {
     "cell_type": "heading",
     "level": 3,
     "metadata": {},
     "source": [
      "Example 7.12 Page No.243"
     ]
    },
    {
     "cell_type": "code",
     "collapsed": false,
     "input": [
      "\n",
      "Vcc=15.0 #V collector bias junction voltage\n",
      "R1=200.0 #Ohms resistor 1\n",
      "R2=100.0 #Ohms resistor 2\n",
      "Rc=20.0  #Ohms collector resistace\n",
      "Ic=.1    #A collector current\n",
      "\n",
      "#Calculation\n",
      "Ie=Ic\n",
      "Vb=(R2/(R1+R2))*Vcc\n",
      "Ve=Vb  # Neglecting Vbe\n",
      "Re=Ve/Ie\n",
      "Vce=Vcc-(Rc+Re)*Ic\n",
      "# Results\n",
      "print\" The Emitter Resistance is Re =  .\",Re,\"ohm\"\n",
      "print\" The Collector to Emitter Voltage is Vce =  \",Vce,\"v\""
     ],
     "language": "python",
     "metadata": {},
     "outputs": [
      {
       "output_type": "stream",
       "stream": "stdout",
       "text": [
        " The Emitter Resistance is Re =  . 50.0 ohm\n",
        " The Collector to Emitter Voltage is Vce =   8.0 v\n"
       ]
      }
     ],
     "prompt_number": 7
    },
    {
     "cell_type": "heading",
     "level": 3,
     "metadata": {},
     "source": [
      "Example 7.13 Page No.246"
     ]
    },
    {
     "cell_type": "code",
     "collapsed": false,
     "input": [
      "\n",
      "Vcc=12.0     #V collector bias junction voltage\n",
      "Vbe=0.3     #V base emitter voltage\n",
      "R1=40000.0  #Ohms given resistance\n",
      "R2=5000.0   #Ohms\n",
      "Re=1000.9   #Ohms emitter resistance\n",
      "Rc=5000.0   #Ohms collector resistance\n",
      "Beeta=60\n",
      "#Calculation\n",
      "Vth=(R2/(R1+R2))*Vcc\n",
      "Rth=R1*R2/(R1+R2)\n",
      "Ib=(Vth-Vbe)/(Rth+Beeta*Re)\n",
      "Ic=Beeta*Ib\n",
      "Vce=Vcc-Ic*(Rc+Re)\n",
      "\n",
      "# Results \n",
      "print \"collector current is \",round(Ic*1000,2),\"mA\"\n",
      "print \"collector to emitter voltage =  \",round(Vce,2),\"v\""
     ],
     "language": "python",
     "metadata": {},
     "outputs": [
      {
       "output_type": "stream",
       "stream": "stdout",
       "text": [
        "collector current is  0.96 mA\n",
        "collector to emitter voltage =   6.23 v\n"
       ]
      }
     ],
     "prompt_number": 8
    },
    {
     "cell_type": "heading",
     "level": 3,
     "metadata": {},
     "source": [
      "Example 7.14 Page No.248"
     ]
    },
    {
     "cell_type": "code",
     "collapsed": false,
     "input": [
      "\n",
      "Vcc=12      #V collector bias junction voltage\n",
      "Vee=15.0     #V emittor bias junction voltage\n",
      "Rc=5000.0   #Ohms collector resistance\n",
      "Re=10000.0  #Ohms emitter resistance\n",
      "Rb=10000.0  #Ohms base resistance\n",
      "Beeta=100\n",
      "\n",
      "#Calculation\n",
      "Ie=Vee/Re\n",
      "Ic=Ie\n",
      "Vce=Vcc-Ic*Rc\n",
      "#Displaying The Results in Command Window\n",
      "print\" Ic =  \",Ic/10**(-3),\"mA\"\n",
      "print\" Vce = \",Vce,\"v\""
     ],
     "language": "python",
     "metadata": {},
     "outputs": [
      {
       "output_type": "stream",
       "stream": "stdout",
       "text": [
        " Ic =   1.5 mA\n",
        " Vce =  4.5 v\n"
       ]
      }
     ],
     "prompt_number": 9
    }
   ],
   "metadata": {}
  }
 ]
}