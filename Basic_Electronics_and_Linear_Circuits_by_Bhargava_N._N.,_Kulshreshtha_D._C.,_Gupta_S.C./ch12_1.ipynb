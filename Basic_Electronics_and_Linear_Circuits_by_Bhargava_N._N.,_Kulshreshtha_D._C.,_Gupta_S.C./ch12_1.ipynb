{
 "metadata": {
  "name": "",
  "signature": "sha256:1fc7b4e7810aaec71230ef3ddc13645d6efc0b44874bc6bf484268f68693d914"
 },
 "nbformat": 3,
 "nbformat_minor": 0,
 "worksheets": [
  {
   "cells": [
    {
     "cell_type": "heading",
     "level": 1,
     "metadata": {},
     "source": [
      "Chapter 12:Feedback in amplifiers"
     ]
    },
    {
     "cell_type": "heading",
     "level": 3,
     "metadata": {},
     "source": [
      "Example 12.1 Page no.395"
     ]
    },
    {
     "cell_type": "code",
     "collapsed": false,
     "input": [
      "\n",
      "A=100.0                                 #Internal Gain\n",
      "B=0.1                            #Feedback Factor\n",
      "\n",
      "#Calculation\n",
      "Af=A/(1+A*B)                # Gain of Feedback Amplifier \n",
      "# Result\n",
      "print \" The Value of the Gain of Feedback Amplifier is = \",round(Af,2)"
     ],
     "language": "python",
     "metadata": {},
     "outputs": [
      {
       "output_type": "stream",
       "stream": "stdout",
       "text": [
        " The Value of the Gain of Feedback Amplifier is, =  9.09\n"
       ]
      }
     ],
     "prompt_number": 1
    },
    {
     "cell_type": "heading",
     "level": 3,
     "metadata": {},
     "source": [
      "Example 12.2 Page no. 395"
     ]
    },
    {
     "cell_type": "code",
     "collapsed": false,
     "input": [
      "\n",
      "Af=100.0                                            #Voltage Gain\n",
      "Vin=.05                            #V , Input Signal without Feedaback Gain\n",
      "Vi=0.6                                              #V , Input Signal with Feedaback Gain\n",
      "\n",
      "#Calculation\n",
      "Vo=Af*Vi\n",
      "A=Vo/Vin\n",
      "B=((A/Af)-1)/A\n",
      "#Result\n",
      "print \"The Value of the Internal Gain A is, A =  \",A\n",
      "print \" The Value of the Feedback Gain B is, B =  percent \",round(B*100,2)"
     ],
     "language": "python",
     "metadata": {},
     "outputs": [
      {
       "output_type": "stream",
       "stream": "stdout",
       "text": [
        "The Value of the Internal Gain A is, A =   1200.0\n",
        " The Value of the Feedback Gain B is, B =  percent  0.92\n"
       ]
      }
     ],
     "prompt_number": 2
    },
    {
     "cell_type": "heading",
     "level": 3,
     "metadata": {},
     "source": [
      "Example 12.3 Page no. 401"
     ]
    },
    {
     "cell_type": "code",
     "collapsed": false,
     "input": [
      "\n",
      "A=1000                                            #60dB    Voltage Gain\n",
      "B=0.005                                            #Negative Feedback\n",
      "dAbyA=-0.12                                 #dA/A = 12 %\n",
      "\n",
      "#Calculation\n",
      "dAfbyAf=1/(1+A*B)*dAbyA    #dAf/Af=1/(1+A*B)*dA/A\n",
      "\n",
      "# Result\n",
      "print \" The change in overall Gain of the Feedback Amplifier is\",dAfbyAf\n",
      "print \"Therefore the overall gain of feedback amplifier will be reduce by \",-dAfbyAf*100,\"%\""
     ],
     "language": "python",
     "metadata": {},
     "outputs": [
      {
       "output_type": "stream",
       "stream": "stdout",
       "text": [
        " The change in overall Gain of the Feedback Amplifier is -0.02\n",
        "Therefore the overall gain of feedback amplifier will be reduce by  2.0 %\n"
       ]
      }
     ],
     "prompt_number": 3
    },
    {
     "cell_type": "heading",
     "level": 3,
     "metadata": {},
     "source": [
      "Example 12.4 Page no. 401"
     ]
    },
    {
     "cell_type": "code",
     "collapsed": false,
     "input": [
      "\n",
      "Zi=1000.0                                #Ohms\n",
      "A=1000.0                                #Voltage Gain\n",
      "B=0.01                                    #Negative Feedback\n",
      "\n",
      "#Calculation\n",
      "Zid=(1+A*B)*Zi\n",
      "# Result\n",
      "print \" The Value of the Input Impedance of the Feedback Amplifier is, Zid =  \",Zid/10**3,\"K ohm\""
     ],
     "language": "python",
     "metadata": {},
     "outputs": [
      {
       "output_type": "stream",
       "stream": "stdout",
       "text": [
        " The Value of the Input Impedance of the Feedback Amplifier is, Zid =   11.0 K ohm\n"
       ]
      }
     ],
     "prompt_number": 4
    },
    {
     "cell_type": "heading",
     "level": 3,
     "metadata": {},
     "source": [
      "Example 12.5 Page no. 401"
     ]
    },
    {
     "cell_type": "code",
     "collapsed": false,
     "input": [
      "\n",
      "A=1000.0                                    #60dB, Voltage Gain\n",
      "Zo=12000.0                                #Ohms\n",
      "Zod=600.0                                 #Ohms\n",
      "dAbyA=0.1                               #dA/A = 10 %\n",
      "\n",
      "#Calculation\n",
      "B=((Zo/Zod)-1)/A                             #Zod=Zo/(1+A*B)\n",
      "dAfbyAf=1/(1+A*B)*dAbyA       #dAf/Af=1/(1+A*B)*dA/A\n",
      "# Result\n",
      "print \" The Feedback Factor of the Feedback Amplifier is, B = \",B*100,\"percent\"\n",
      "print \" The change in overall Gain of the Feedback Amplifier is, dAf/Af = \",dAfbyAf*100,\"percent\""
     ],
     "language": "python",
     "metadata": {},
     "outputs": [
      {
       "output_type": "stream",
       "stream": "stdout",
       "text": [
        " The Feedback Factor of the Feedback Amplifier is, B =  1.9 percent\n",
        " The change in overall Gain of the Feedback Amplifier is, dAf/Af =  0.5 percent\n"
       ]
      }
     ],
     "prompt_number": 6
    }
   ],
   "metadata": {}
  }
 ]
}