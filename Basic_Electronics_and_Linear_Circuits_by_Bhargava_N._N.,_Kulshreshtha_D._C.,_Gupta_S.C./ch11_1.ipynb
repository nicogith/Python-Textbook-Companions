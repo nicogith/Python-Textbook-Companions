{
 "metadata": {
  "name": "",
  "signature": "sha256:42316ce336a06a4afe76966dd3df12fd0f55e47e7182329e33e900184918fde7"
 },
 "nbformat": 3,
 "nbformat_minor": 0,
 "worksheets": [
  {
   "cells": [
    {
     "cell_type": "heading",
     "level": 1,
     "metadata": {},
     "source": [
      "Chapter 11: Tuned  Voltage mplifiers"
     ]
    },
    {
     "cell_type": "heading",
     "level": 3,
     "metadata": {},
     "source": [
      "Example 11.1 Page No.374"
     ]
    },
    {
     "cell_type": "code",
     "collapsed": false,
     "input": [
      "#Given\n",
      "C=300*10**(-12)                                        #F, capacitance\n",
      "L=220*10**(-6)                                          #H, inductance\n",
      "R=20.0                                                             #Ohms, resistance\n",
      "\n",
      "#Calculation\n",
      "import math\n",
      "fr=1/(2*math.pi*math.sqrt(L*C))                    #resonant frequency\n",
      "#result\n",
      "print \" The Resonant Frequency, fr =  \",round(fr/10**3,0),\"khz\"\n",
      "\n",
      "#(b) find  The Impedance at Resonance\n",
      "#Calculation\n",
      "Rr=R\n",
      "#result\n",
      "print \" The Impedance at Resonance, Rr =   \",Rr,\"ohm\"\n",
      "\n",
      "#(c) find  The Current at Resonance\n",
      "V=10.0                                                             #V, voltage\n",
      "#Calculation\n",
      "I=V/R\n",
      "#result\n",
      "print \" The Current at Resonance, I =   \",I,\"A\"\n",
      "\n",
      "#(d)\n",
      "#Calculation\n",
      "fr=1/(2*math.pi*math.sqrt(L*C))\n",
      "I=V/R\n",
      "Xl=2*math.pi*fr*L                                        #reactance of inductor\n",
      "Vl=I*Xl                                                      # Voltage across the Inductance\n",
      "Xc=1/(2*math.pi*fr*C)                                 #reactance of capacitance\n",
      "Vc=I*Xc                                                    # Voltage across the Capacitance,\n",
      "Vr=I*R                                                       #Voltage across the Resistance\n",
      "\n",
      "#result\n",
      "print \" Voltage across the Inductance, Vl =  \",round(Vl,0),\"V\"\n",
      "print \" Voltage across the Capacitance, Vc = \",round(Vc,0),\"V\"\n",
      "print \" Voltage across the Resistance, Vr =  \",round(Vr,0),\"V\""
     ],
     "language": "python",
     "metadata": {},
     "outputs": [
      {
       "output_type": "stream",
       "stream": "stdout",
       "text": [
        " The Resonant Frequency, fr =   620.0 khz\n",
        " The Impedance at Resonance, Rr =    20.0 ohm\n",
        " The Current at Resonance, I =    0.5 A\n",
        " Voltage across the Inductance, Vl =   428.0 V\n",
        " Voltage across the Capacitance, Vc =  428.0 V\n",
        " Voltage across the Resistance, Vr =   10.0 V\n"
       ]
      }
     ],
     "prompt_number": 2
    },
    {
     "cell_type": "heading",
     "level": 3,
     "metadata": {},
     "source": [
      "Example 11.2 Page No.378"
     ]
    },
    {
     "cell_type": "code",
     "collapsed": false,
     "input": [
      "\n",
      "C=100*10**(-12)                                #F\n",
      "L=100*10**(-6)                                 #H\n",
      "R=10                                           #Ohms\n",
      "V=100                                          #V\n",
      "\n",
      "#Calculation\n",
      "import math\n",
      "fr=1/(2*math.pi*math.sqrt(L*C))        #Hz, resonant frequency\n",
      "Xl=2*math.pi*fr*L                                #ohm,  inductive reactance\n",
      "Il=V/Xl                                          #A, current in inductive branch\n",
      "Xc=1/(2*math.pi*fr*C)                          #ohm, capacitance reactance\n",
      "Ic=V/Xc                                         #A, current in capacitive branch \n",
      "Zp=L/(R*C)                                      #ohm , series impedance\n",
      "I=V/Zp                                           #A, line current\n",
      "\n",
      "#Result\n",
      "print \"fr= \",round(fr/10**3,0),\"khz\"\n",
      "print \"Il= \",Il,\"A\"\n",
      "print \"Ic= \",Ic,\"A\"\n",
      "print \"Zp= \",Zp,\"ohm\"\n",
      "print \"I=  \",I/10**(-3),\"mA\""
     ],
     "language": "python",
     "metadata": {},
     "outputs": [
      {
       "output_type": "stream",
       "stream": "stdout",
       "text": [
        "fr=  1592.0 khz\n",
        "Il=  0.1 A\n",
        "Ic=  0.1 A\n",
        "Zp=  100000.0 ohm\n",
        "I=   1.0 mA\n"
       ]
      }
     ],
     "prompt_number": 4
    },
    {
     "cell_type": "heading",
     "level": 3,
     "metadata": {},
     "source": [
      "Example 11.3 Page no. 379"
     ]
    },
    {
     "cell_type": "code",
     "collapsed": false,
     "input": [
      "\n",
      "import math\n",
      "C=100*10**(-12)                            #F, capacitance\n",
      "L=150*10**(-6)                              #H, inductance\n",
      "R=15                                                 #Ohms, resistance\n",
      "\n",
      "#Calculation\n",
      "fr=1/(2*math.pi*math.sqrt(L*C))\n",
      "Zp=L/(R*C)\n",
      "Q=2*math.pi*fr*L/R\n",
      "df=fr/Q                                            #Bandwidth\n",
      "\n",
      "#The Result\n",
      "print \" Impedance, Zp=  \",Zp/10**3,\"kohm\"\n",
      "print \" Quality Factor, Q=  \",round(Q,1)\n",
      "print \" Bandwidth, df=  \",round(df/10**3,2),\"khz\""
     ],
     "language": "python",
     "metadata": {},
     "outputs": [
      {
       "output_type": "stream",
       "stream": "stdout",
       "text": [
        " Impedance, Zp=   100.0 kohm\n",
        " Quality Factor, Q=   81.6\n",
        " Bandwidth, df=   15.92 khz\n"
       ]
      }
     ],
     "prompt_number": 5
    }
   ],
   "metadata": {}
  }
 ]
}