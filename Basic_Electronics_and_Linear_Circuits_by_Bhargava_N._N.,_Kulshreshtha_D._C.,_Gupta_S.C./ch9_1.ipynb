{
 "metadata": {
  "name": "",
  "signature": "sha256:83bf55a24e2aa90db4083899e2e7c0a6deddf51b02a3e4634d291129436942ec"
 },
 "nbformat": 3,
 "nbformat_minor": 0,
 "worksheets": [
  {
   "cells": [
    {
     "cell_type": "heading",
     "level": 1,
     "metadata": {},
     "source": [
      "Chapter 9:Multi stage Amplifiers"
     ]
    },
    {
     "cell_type": "heading",
     "level": 3,
     "metadata": {},
     "source": [
      "Example 9.1 Page no.305"
     ]
    },
    {
     "cell_type": "code",
     "collapsed": false,
     "input": [
      "#Given\n",
      "A1=30                         #voltage gain 1\n",
      "A2=50                        #voltage gain  2\n",
      "A3=80                        #voltage gain  3\n",
      "\n",
      "#Calculation\n",
      "import math\n",
      "A=A1*A2*A3             #overall Voltage Gain\n",
      "Adb=20*math.log10(A)      #Voltage Gain in dB\n",
      "# Result\n",
      "print \" The overall Voltage Gain of the Multistage Amplifier Adb =  \",round(Adb,2),\"dB\""
     ],
     "language": "python",
     "metadata": {},
     "outputs": [
      {
       "output_type": "stream",
       "stream": "stdout",
       "text": [
        " The overall Voltage Gain of the Multistage Amplifier Adb =   101.58 dB\n"
       ]
      }
     ],
     "prompt_number": 1
    },
    {
     "cell_type": "heading",
     "level": 3,
     "metadata": {},
     "source": [
      "Example 9.2 Page no.312"
     ]
    },
    {
     "cell_type": "code",
     "collapsed": false,
     "input": [
      "\n",
      "Vcc=30.0                                    #V, collector bias junction voltage\n",
      "Vi=1.4                                      #V, input voltage\n",
      "Vbe=0.7                                  #V. base emitter voltage        \n",
      "B=300                                     #Beeta, gain factor\n",
      "R1=27000.0                            #Ohms, given resistance\n",
      "R2=680.0                                #Ohms given resistance\n",
      "R3=24000.0                            #Ohms\n",
      "R4=2400.0                              #Ohms\n",
      "\n",
      "#Calculation\n",
      "Ve=Vi-Vbe                                            #V, voltage at emitter terminal\n",
      "Ie1=Vbe/R2                                          #A, emitter current at 1st stage\n",
      "Ic1=Ie1                                                 #A, collector current\n",
      "Vc1=Vcc-round(Ie1,3)*R1                                #collector voltage at 1st stage\n",
      "Vb2=Vc1                                             #V, base voltage at 2nd stage\n",
      "\n",
      "Ve2=Vb2-Vbe                                      #V  emitter voltage at 2nd stage\n",
      "Ie2=Ve2/R4                                         #A,  emitter current at 2nd stage\n",
      "Ic2=round(Ie2,3)                                               #A  collector  current at 2nd stage\n",
      "Vc2=Vcc-Ic2*R3\n",
      "Vo=Vc2\n",
      "#Displaying The Results in Command Window\n",
      "print \" The Voltage at the Output Terminal of Two Stage Direct Coupled Amplifier, Vo = \",Vo,\"V\""
     ],
     "language": "python",
     "metadata": {},
     "outputs": [
      {
       "output_type": "stream",
       "stream": "stdout",
       "text": [
        " The Voltage at the Output Terminal of Two Stage Direct Coupled Amplifier, Vo =  6.0 V\n"
       ]
      }
     ],
     "prompt_number": 1
    },
    {
     "cell_type": "heading",
     "level": 3,
     "metadata": {},
     "source": [
      "Example 9.3 Page no.319"
     ]
    },
    {
     "cell_type": "code",
     "collapsed": false,
     "input": [
      "\n",
      "A=100                         #voltage gain\n",
      "f1=400                        #Hz, frequency 1\n",
      "f2=25*10**3                   #Hz, frequency  2\n",
      "f3=80                         #Hz, frequency 3 \n",
      "f4=40*10**3                   # Hz, frequency 4 \n",
      "\n",
      "#Calculation\n",
      "import math\n",
      "Adb=20*math.log10(A)\n",
      "Adbc=Adb-3                  #Lower by 3dB\n",
      "# Result\n",
      "print \" The Gain at Cutoff Frequencies is, Adb (at Cutoff Frequencies) =  \",Adbc,\"dB\"\n",
      "\n",
      "#plot\n",
      "from pylab import *\n",
      "f1=[80,400,25000,40000]\n",
      "Adb1=[37,40,40,37]\n",
      "a=plot(f1,Adb1)\n",
      "xlim(0,40000)\n",
      "xlabel(\"$f(Hz)$\")\n",
      "ylabel(\"$AdB$\")\n",
      "ylim(0,50)\n",
      "show(a1)\n"
     ],
     "language": "python",
     "metadata": {},
     "outputs": [
      {
       "output_type": "stream",
       "stream": "stdout",
       "text": [
        " The Gain at Cutoff Frequencies is, Adb (at Cutoff Frequencies) =   37.0 dB\n"
       ]
      },
      {
       "metadata": {},
       "output_type": "display_data",
       "png": "[encoded data removed]"
      }
     ],
     "prompt_number": 8
    },
    {
     "cell_type": "heading",
     "level": 3,
     "metadata": {},
     "source": [
      "Example 9.4 Page no 325."
     ]
    },
    {
     "cell_type": "code",
     "collapsed": false,
     "input": [
      "                                #all the quantities of R are resistances\n",
      "R1=5600.0                                       #Ohms\n",
      "R2=56000.0                                     #Ohms\n",
      "R3=1100.0                                       #Ohms\n",
      "\n",
      "#Calculation\n",
      "Zi=R1*R2*R3/(R1*R2+R2*R3+R3*R1)\n",
      "#Result\n",
      "print \" The Input Impedance, Zi =   \",round(Zi/10**3,3),\"kohm\"\n",
      "\n",
      "#(b) Calculate output Impedance \n",
      "Ro1=3300.0                                   #Ohms\n",
      "Ro2=2200                                #Ohms\n",
      "\n",
      "#Calculation\n",
      "Zo=Ro1*Ro2/(Ro1+Ro2)\n",
      "\n",
      "#Result\n",
      "print \" The Output Impedance, Zo =  \",Zo/10**3,\"kohm\"\n",
      "#(c) voltage gain\n",
      "hfe=120                                        #current amplification factor\n",
      "hie=1100.0                                    #Ohms, dynamic input resistance\n",
      "R1=6800.0                                    #Ohms\n",
      "R2=56000.0                                  #Ohms\n",
      "R3=5600.0                                    #Ohms\n",
      "R4=1100.0                                    #Ohms\n",
      "\n",
      "#Calculation\n",
      "Rac2=Ro1*Ro2/(Ro1+Ro2)\n",
      "A2=-hfe*Rac2/hie\n",
      "Rac1=R1*R2*R3*R4/(R1*R2*R3+R2*R3*R4+R1*R3*R4+R1*R2*R4)\n",
      "Rac1=round(Rac1,0)\n",
      "A1=-hfe*Rac1/hie\n",
      "\n",
      "A1=round(A1,2)\n",
      "A=A1*A2                                 #Overall Gain\n",
      "\n",
      "#Result\n",
      "print \" The Overall Gain, A = \",round(A,0)"
     ],
     "language": "python",
     "metadata": {},
     "outputs": [
      {
       "output_type": "stream",
       "stream": "stdout",
       "text": [
        " The Input Impedance, Zi =    0.905 kohm\n",
        " The Output Impedance, Zo =   1.32 kohm\n",
        " The Overall Gain, A =  12535.0\n"
       ]
      }
     ],
     "prompt_number": 2
    },
    {
     "cell_type": "heading",
     "level": 3,
     "metadata": {},
     "source": [
      "Example 9.5 Page no. 326"
     ]
    },
    {
     "cell_type": "code",
     "collapsed": false,
     "input": [
      "\n",
      "Rl=10000.0                                          #Ohms, resistance\n",
      "Rg=470000.0                                      #Ohms dynamic input resistance\n",
      "Cs=100*10**(-12)                             #F Capacitance\n",
      "u=25                                                     #amplification factor\n",
      "rp=8000.0                                          #Ohms\n",
      "Cc=0.01*10**(-6)                             #F, capacitance\n",
      "\n",
      "#Calculation\n",
      "import math\n",
      "gm=u/rp                                           #transconductance\n",
      "Req=rp*Rl*Rg/(rp*Rl+Rl*Rg+Rg*rp)                 #equivalent resistance\n",
      "Avm=(u/rp)*Req                                  #voltage gain\n",
      "Avmd=Avm**2                               # Voltage Gain of Two Stages\n",
      "Rd=(rp*Rl/(rp+Rl))+Rg\n",
      "f1=1/(2*math.pi*Cc*Rd)                     #Lower Cutoff Frequency\n",
      "f1d=f1/math.sqrt(math.sqrt(2)-1)                    #Lower Cutoff Frequency of Two Stages\n",
      "Req =(rp*Rl)/(rp+Rl) #approximately\n",
      "f2=1/(2*math.pi*Cs*Req)                  #Upper Cutoff Frequency\n",
      "f2d=f2*math.sqrt(math.sqrt(2)-1)                   #Upper Cutoff Frequency of Two Stages\n",
      "BW=f2d-f1d                                   \n",
      "#Bandwidth\n",
      "# Result\n",
      "print \" The Voltage Gain of Two Stages, Avmd =  \",round(Avmd,2)\n",
      "print \" The Bandwidth, BW = \",round(BW/10**3,0),\"KHz\""
     ],
     "language": "python",
     "metadata": {},
     "outputs": [
      {
       "output_type": "stream",
       "stream": "stdout",
       "text": [
        " The Voltage Gain of Two Stages, Avmd =   189.3\n",
        " The Bandwidth, BW =  230.0 KHz\n"
       ]
      }
     ],
     "prompt_number": 3
    }
   ],
   "metadata": {}
  }
 ]
}