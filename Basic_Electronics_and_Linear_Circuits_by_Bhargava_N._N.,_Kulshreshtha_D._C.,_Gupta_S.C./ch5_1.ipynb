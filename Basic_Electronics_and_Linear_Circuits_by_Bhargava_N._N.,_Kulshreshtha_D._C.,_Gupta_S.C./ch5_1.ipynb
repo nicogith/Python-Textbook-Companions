{
 "metadata": {
  "name": "",
  "signature": "sha256:fb72fb6e3e7bfcc92ab695858992d86597c1a24269bab39240e9f25a8dff8c2d"
 },
 "nbformat": 3,
 "nbformat_minor": 0,
 "worksheets": [
  {
   "cells": [
    {
     "cell_type": "heading",
     "level": 1,
     "metadata": {},
     "source": [
      "Chapter 5: Transistors"
     ]
    },
    {
     "cell_type": "heading",
     "level": 3,
     "metadata": {},
     "source": [
      "Example 5.1 Page No 134"
     ]
    },
    {
     "cell_type": "code",
     "collapsed": false,
     "input": [
      "\n",
      "alpha=0.98                       #alpha(dc),  current gain\n",
      "Ico=1*10**(-6)               #Ampere, collector leakage current\n",
      "Ie=1*10**(-3)                 # Ampere, emitter current\n",
      "\n",
      "#Calculation\n",
      "Ic=alpha*Ie+Ico             #Collector Current\n",
      "Ib=Ie-Ic                          #Base Current \n",
      "#result\n",
      "print \" The Collector Current is Ic=  \",Ic*1000,\"mA\"\n",
      "print \" The Base Current is Ib= \",Ib*10**6,\"microA\""
     ],
     "language": "python",
     "metadata": {},
     "outputs": [
      {
       "output_type": "stream",
       "stream": "stdout",
       "text": [
        " The Collector Current is Ic=   0.981 mA\n",
        " The Base Current is Ib=  19.0 microA\n"
       ]
      }
     ],
     "prompt_number": 1
    },
    {
     "cell_type": "heading",
     "level": 3,
     "metadata": {},
     "source": [
      "Example 5.2 Page No 141"
     ]
    },
    {
     "cell_type": "code",
     "collapsed": false,
     "input": [
      "\n",
      "dIe=(0.7-0.3)*10**(-3)                        #A, change in emitter current\n",
      "dVeb=(0.7-0.62)                                  #V, change in emitter base voltage\n",
      "#Calculation\n",
      "ri=dVeb/dIe                                      #Dynamic Input Resistance at Vcb= -10 V \n",
      "#Result\n",
      "print \" The Dynamic Input Resistance is ri=  \",ri,\"ohm\""
     ],
     "language": "python",
     "metadata": {},
     "outputs": [
      {
       "output_type": "stream",
       "stream": "stdout",
       "text": [
        " The Dynamic Input Resistance is ri=   200.0 ohm\n"
       ]
      }
     ],
     "prompt_number": 7
    },
    {
     "cell_type": "heading",
     "level": 3,
     "metadata": {},
     "source": [
      "Example 5.3 Page No 144"
     ]
    },
    {
     "cell_type": "code",
     "collapsed": false,
     "input": [
      "\n",
      "dIe=1*10**(-3)                  #A, change in emitter current\n",
      "dIc=0.99*10**(-3)             #A, change in the collector current\n",
      "\n",
      "#Calculation\n",
      "hfb=dIc/dIe                       #Short Circuit Current Gain\n",
      "#Result\n",
      "print \"The Short Circuit Current Gain is alpha or hfb= \",hfb"
     ],
     "language": "python",
     "metadata": {},
     "outputs": []
    },
    {
     "cell_type": "heading",
     "level": 3,
     "metadata": {},
     "source": [
      "Example 5.4 Page No 147 "
     ]
    },
    {
     "cell_type": "code",
     "collapsed": false,
     "input": [
      "\n",
      "dIe=1*10**(-3)                           #A, change in emitter current\n",
      "dIc=0.995*10**(-3)                    #A, change in collector current\n",
      "\n",
      "#Calculation\n",
      "alpha=dIc/dIe                              #Common Base Short Circuit Current Gain\n",
      "#Result\n",
      "print \" The Common Base Short Circuit Current Gain is alpha= \",alpha\n",
      "\n",
      "#(b)\n",
      "beeta=alpha/(1-alpha)                  #Common Emitter Short Circuit Current Gain\n",
      "# Result\n",
      "print \" The Common Emitter Short Circuit Current Gain is beeta= \",beeta\n"
     ],
     "language": "python",
     "metadata": {},
     "outputs": [
      {
       "output_type": "stream",
       "stream": "stdout",
       "text": [
        " The Common Base Short Circuit Current Gain is alpha=  0.995\n",
        " The Common Emitter Short Circuit Current Gain is beeta=  199.0\n"
       ]
      }
     ],
     "prompt_number": 6
    },
    {
     "cell_type": "heading",
     "level": 3,
     "metadata": {},
     "source": [
      "Example 5.5 Page No 147 "
     ]
    },
    {
     "cell_type": "code",
     "collapsed": false,
     "input": [
      "\n",
      "Beeta=100.0                            #dc current gain\n",
      "\n",
      "#Calculation\n",
      "Alpha=Beeta/(Beeta+1)    #DC Current Gain in Common Base Configuration\n",
      "# Result\n",
      "print \" The DC Current Gain in Common Base Configuration is Alpha= \",round(Alpha,2)"
     ],
     "language": "python",
     "metadata": {},
     "outputs": [
      {
       "output_type": "stream",
       "stream": "stdout",
       "text": [
        " The DC Current Gain in Common Base Configuration is Alpha=  0.99\n"
       ]
      }
     ],
     "prompt_number": 5
    },
    {
     "cell_type": "heading",
     "level": 3,
     "metadata": {},
     "source": [
      "Example 5.6 Page No 150"
     ]
    },
    {
     "cell_type": "code",
     "collapsed": false,
     "input": [
      "\n",
      "Vce=10                                       #V, collector emitter voltage\n",
      "Ib=30*10**(-6)                        #A, base current\n",
      "\n",
      "#Calculation from Given Output Characteristics at Ib = 30uA\n",
      "dVce=(12.5-7.5)                      #V, change in collector emitter voltage\n",
      "dic=(3.7-3.5)*10**(-3)           #A, change in collector current\n",
      "Ic=3.6*10**(-3)                      #A, collector current at operating point \n",
      "ro=dVce/dic                            # Dynamic Output Resistance\n",
      "Beeta_dc=Ic/Ib                      # DC Current Gain\n",
      "Beeta_ac=((4.7-3.6)*10**(-3))/((40-30)*10**(-6))                #AC Current Gain, From Graph, Bac=delta(ic)/delta(ib) for given Vce\n",
      "\n",
      "# Result\n",
      "print \"Dynamic Output Resistance ,ro = \",ro/10**(3),\"kohm\"\n",
      "print \" DC Current Gain ,Bdc = \",Beeta_dc\n",
      "print \" AC Current Gain ,Bac = \",Beeta_ac"
     ],
     "language": "python",
     "metadata": {},
     "outputs": [
      {
       "output_type": "stream",
       "stream": "stdout",
       "text": [
        "Dynamic Output Resistance ,ro =  25.0 kohm\n",
        " DC Current Gain ,Bdc =  120.0\n",
        " AC Current Gain ,Bac =  110.0\n"
       ]
      }
     ],
     "prompt_number": 4
    },
    {
     "cell_type": "heading",
     "level": 3,
     "metadata": {},
     "source": [
      "Example 5.7 Page No 159"
     ]
    },
    {
     "cell_type": "code",
     "collapsed": false,
     "input": [
      " \n",
      "Vcc=12                                #V, collector bias juncyion voltage\n",
      "Rc=1000.0                           #Ohms, collector resistance\n",
      "Vbb=10.7                            #V.  base bias junction voltage\n",
      "Rb=200000.0                      #Ohms, base resistance\n",
      "Vbe=0.7                              #V, base emitter voltage\n",
      "\n",
      "#Calculation\n",
      "Ib=(Vbb-Vbe)/Rb             # base current\n",
      "#Value of Ib comes out to be 50uA. A dotted Curve is drawn for \n",
      "#Ib=40uA and Ib=60uA.   At the Point of Intersection:\n",
      "Vce=6                                 #V, collector emitter voltage\n",
      "Ic=6*10**(-3)                   #A, collector current\n",
      "# Result\n",
      "print \" Q point:  Ib = \",Ib/10**(-6),\"microA\"\n",
      "print \" Vce = \",Vce,\"V\"\n",
      "print \" Ic =  \",Ic/10**(-3),\"mA\"\n",
      "#Plot\n",
      "\n",
      "#DC Load LIne  AT Ib=50 microA\n",
      "Vce1=[0,12]\n",
      "Ic1=[12,0]\n",
      "a1=plot(Vce1,Ic1)\n",
      "xlim(0,14)\n",
      "ylim(0,17)\n",
      "\n",
      "\n",
      "# AT Ib=20 microA\n",
      "Vce2=[0,1,12]\n",
      "Ic2=[0,1.5,3]\n",
      "a2=plot(Vce2,Ic2)\n",
      "\n",
      "# AT Ib=40 microA\n",
      "Vce3=[0,1,12]\n",
      "Ic3=[0,4,5]\n",
      "a3=plot(Vce3,Ic3)\n",
      "\n",
      "#At IB=50\n",
      "Vcex=[3.2,9]\n",
      "Icx=[5.5,6]\n",
      "ax=plot(Vcex,Icx,linestyle='--')\n",
      "qx=plot(6.1,5.9,marker='o',label='$Q  point$')\n",
      "legend()\n",
      "\n",
      "# AT Ib=60 microA\n",
      "Vce4=[0,1,12]\n",
      "Ic4=[0,6.5,8]\n",
      "a4=plot(Vce4,Ic4)\n",
      "\n",
      "# AT Ib=80 microA\n",
      "Vce5=[0,1,12]\n",
      "Ic5=[0,9,10]\n",
      "a5=plot(Vce5,Ic5)\n",
      "\n",
      "# AT Ib=100 microA\n",
      "Vce6=[0,1,12]\n",
      "Ic6=[0,12,12.5]\n",
      "a6=plot(Vce6,Ic6)\n",
      "\n",
      "# AT Ib=120 microA\n",
      "Vce7=[0,1,12]\n",
      "Ic7=[0,14.2,15]\n",
      "a7=plot(Vce7,Ic7)\n",
      "xlabel(\"$Vce(volt)$\")\n",
      "ylabel(\"$Ic(mA)$\")\n",
      "show(a1)\n",
      "show(ax)\n",
      "show(qx)\n",
      "show(a2)\n",
      "show(a3)\n",
      "show(a4)\n",
      "show(a5)\n",
      "show(a6)\n",
      "show(a7)\n"
     ],
     "language": "python",
     "metadata": {},
     "outputs": [
      {
       "output_type": "stream",
       "stream": "stdout",
       "text": [
        " Q point:  Ib =  50.0 microA\n",
        " Vce =  6 V\n",
        " Ic =   6.0 mA\n"
       ]
      },
      {
       "metadata": {},
       "output_type": "display_data",
       "png": "[encoded data removed]"
      }
     ],
     "prompt_number": 15
    },
    {
     "cell_type": "heading",
     "level": 3,
     "metadata": {},
     "source": [
      "Example 5.8 Page No 173"
     ]
    },
    {
     "cell_type": "code",
     "collapsed": false,
     "input": [
      "\n",
      "u=80.0                                      # Amplification Factor\n",
      "gm=200*10**(-6)                   # S, Transconductance\n",
      "\n",
      "#Calculation\n",
      "rd=u/gm                                #Dynamic Drain Resistance\n",
      "# Result\n",
      "print \" The Dynamic Drain Resistance of JFET is rd= \",rd/10**(3),\"kohm\""
     ],
     "language": "python",
     "metadata": {},
     "outputs": [
      {
       "output_type": "stream",
       "stream": "stdout",
       "text": [
        " The Dynamic Drain Resistance of JFET is rd=  400.0 kohm\n"
       ]
      }
     ],
     "prompt_number": 3
    }
   ],
   "metadata": {}
  }
 ]
}