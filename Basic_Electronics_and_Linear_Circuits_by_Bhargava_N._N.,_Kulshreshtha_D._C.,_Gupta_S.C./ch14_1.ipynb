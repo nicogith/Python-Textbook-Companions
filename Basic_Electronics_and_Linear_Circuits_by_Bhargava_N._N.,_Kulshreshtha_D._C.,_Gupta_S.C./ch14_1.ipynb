{
 "metadata": {
  "name": "",
  "signature": "sha256:cfa443285df31619aefbaacada3721c633441a1550bfa091bb356c1fe13c7815"
 },
 "nbformat": 3,
 "nbformat_minor": 0,
 "worksheets": [
  {
   "cells": [
    {
     "cell_type": "heading",
     "level": 1,
     "metadata": {},
     "source": [
      "Chapter 14 :Electronic Instruments"
     ]
    },
    {
     "cell_type": "heading",
     "level": 3,
     "metadata": {},
     "source": [
      "Example 14.1 Page no.443"
     ]
    },
    {
     "cell_type": "code",
     "collapsed": false,
     "input": [
      "\n",
      "Rm=100.0                   #Ohms,  coil resistance\n",
      "Is=100*10**(-6 )      #A current sensivity\n",
      "Vr=100.0                     #V,  voltage\n",
      "\n",
      "#Calculation\n",
      "Rtotal=Vr/Is             #series resistance\n",
      "Rs=Rtotal-Rm          #additional series resistance\n",
      "#Result\n",
      "print \" The Series Resistance to Convert given dArsonval movement into a Voltmeter is, Rs =  \",Rs/10**3,\"Kohm\""
     ],
     "language": "python",
     "metadata": {},
     "outputs": [
      {
       "output_type": "stream",
       "stream": "stdout",
       "text": [
        " The Series Resistance to Convert given dArsonval movement into a Voltmeter is, Rs =   999.9 Kohm\n"
       ]
      }
     ],
     "prompt_number": 1
    },
    {
     "cell_type": "heading",
     "level": 3,
     "metadata": {},
     "source": [
      "Example 14.2 Page no. 445"
     ]
    },
    {
     "cell_type": "code",
     "collapsed": false,
     "input": [
      "\n",
      "Rm=100.0                        #. meter resistance             #Ohms\n",
      "CS=100*10**(-6)                 #A. current sensivity\n",
      "Imax=10*10**(-3)                #A. maximum current\n",
      "\n",
      "#Calculation\n",
      "Ish=Imax-CS\n",
      "Rsh=Rm*CS/Ish\n",
      "# Result\n",
      "print \" The Value of Shunt Resistance is, Rsh =  \",round(Rsh,6),\"ohm\""
     ],
     "language": "python",
     "metadata": {},
     "outputs": [
      {
       "output_type": "stream",
       "stream": "stdout",
       "text": [
        " The Value of Shunt Resistance is, Rsh =   1.010101 ohm\n"
       ]
      }
     ],
     "prompt_number": 2
    },
    {
     "cell_type": "heading",
     "level": 3,
     "metadata": {},
     "source": [
      "Example 14.3 Page no.446"
     ]
    },
    {
     "cell_type": "code",
     "collapsed": false,
     "input": [
      "\n",
      "CS=100*10**(-6)                              #A, current source\n",
      "R=100.0                                               #Ohms, resistance\n",
      "Rm=900.0                                            #Ohms, resistance of a meter\n",
      "\n",
      "#(a)\n",
      "#Calculation\n",
      "Imax1=1*10**(-3)                             #A, maximum current\n",
      "Rsh=CS*R/(Imax1-CS)                    #ohm, shunt path resistance\n",
      "Rm1=Rm                                            #ohm,  meter branch resistance\n",
      "Ish1=Imax1-CS                                 #A  shunt path current\n",
      "Rsh1=Rm1*CS/Ish1                        #ohm shunt path resistance\n",
      "\n",
      "#(b)\n",
      "#Calculation\n",
      "Imax2=0.01                              #A, maximum current\n",
      "Ish2=Imax2-CS                                #A, shunt path current\n",
      "R1=(R*Ish2-Rm*CS)/(Ish2+CS)    #ohm, resistance in branch 1\n",
      "\n",
      "#(c)\n",
      "#Calculation\n",
      "Imax3=100*10**(-3)                        #A. maximum current\n",
      "Ish3=Imax3-CS                                 #A, shunt path current\n",
      "R2=((R-R1)*Ish3-Rm*CS)/(Ish3-CS)                        #ohm, resistance in branch 2\n",
      "\n",
      "#(d)\n",
      "#Calculation\n",
      "Imax4=500*10**(-3)                       #A  , maximum current\n",
      "Ish4=Imax4-CS                                #A, shunt path current\n",
      "R3=((R-R1-R2)*Ish4-Rm*CS)/(Ish4-CS)                 #ohm, resistance in branch 3\n",
      "\n",
      "#(e)\n",
      "#Calculation\n",
      "Imax5=1                                              #A\n",
      "Ish5=Imax5-CS                                  #A, shunt path current\n",
      "R4=((R-R1-R2-R3)*Ish5-Rm*CS)/(Ish5-CS)            #ohm, resistance in branch 4\n",
      "R5=R-R1-R2-R3-R4                                                      #ohm, resistance in branch 2\n",
      "\n",
      "# Result\n",
      "print \" Shunt Resistance  =\",round(Rsh,6),\"ohm\"\n",
      "print \" For Range switch at 1 mA  , Rsh1 \",Rsh1,\"ohm\"\n",
      "print \" For Range switch at 10 mA , R1 =   \",R1,\"ohm\"\n",
      "print \" For Range switch at 100 mA, R2 =   \",round(R2,0),\"ohm\"\n",
      "print \" For Range switch at 500 mA, R3 =   \",round(R3,1),\"ohm\"\n",
      "print \" For Range switch at 1 A   , R4 =   \",round(R4,1),\"ohm\"\n",
      "print \"  R5 =   \",round(R5,1),\"ohm\""
     ],
     "language": "python",
     "metadata": {},
     "outputs": [
      {
       "output_type": "stream",
       "stream": "stdout",
       "text": [
        " Shunt Resistance  = 11.111111 ohm\n",
        " For Range switch at 1 mA  , Rsh1  100.0 ohm\n",
        " For Range switch at 10 mA , R1 =    90.0 ohm\n",
        " For Range switch at 100 mA, R2 =    9.0 ohm\n",
        " For Range switch at 500 mA, R3 =    0.7 ohm\n",
        " For Range switch at 1 A   , R4 =    0.1 ohm\n",
        "  R5 =    0.1 ohm\n"
       ]
      }
     ],
     "prompt_number": 3
    },
    {
     "cell_type": "heading",
     "level": 3,
     "metadata": {},
     "source": [
      "Example 14.4 Page no.469"
     ]
    },
    {
     "cell_type": "code",
     "collapsed": false,
     "input": [
      "\n",
      "DS=5                         #V/cm, Deflection Sensitivity\n",
      "l=10                           #cm, Trace Length\n",
      "\n",
      "#Calculation\n",
      "import math\n",
      "Vp=DS*l\n",
      "Vm=Vp/2\n",
      "V=Vm/math.sqrt(2)\n",
      "# Result\n",
      "print \" The RMS AC Voltage is=\",round(V,3),\"V\""
     ],
     "language": "python",
     "metadata": {},
     "outputs": [
      {
       "output_type": "stream",
       "stream": "stdout",
       "text": [
        " The RMS AC Voltage is= 17.678 V\n"
       ]
      }
     ],
     "prompt_number": 6
    },
    {
     "cell_type": "code",
     "collapsed": false,
     "input": [
      "%matplotlib inline"
     ],
     "language": "python",
     "metadata": {},
     "outputs": [
      {
       "output_type": "stream",
       "stream": "stdout",
       "text": [
        "\n",
        "Welcome to pylab, a matplotlib-based Python environment [backend: module://IPython.zmq.pylab.backend_inline].\n",
        "For more information, type 'help(pylab)'.\n"
       ]
      }
     ],
     "prompt_number": 1
    },
    {
     "cell_type": "heading",
     "level": 3,
     "metadata": {},
     "source": [
      "Example 14.5 Page no. 471"
     ]
    },
    {
     "cell_type": "code",
     "collapsed": false,
     "input": [
      "\n",
      "import numpy\n",
      "#Given Circuit Data\n",
      "Am=3.5                                        #V, Amplitude\n",
      "tb=0.1*10**(-3)                          #seconds\n",
      "TP=4                                            #Time Period\n",
      "x=linspace(-10,10,1000)\n",
      "plt.grid()\n",
      "plot(x,cos(x))\n",
      "title('Display of a sine wave voltage on CRO ')\n",
      "show()\n",
      "#Calculation\n",
      "import math\n",
      "Vm=2*Am\n",
      "V=Vm/math.sqrt(2)\n",
      "T=TP*tb\n",
      "f=1/T\n",
      "\n",
      "# Result\n",
      "print \"The Magnitude of Wave Voltage, \",round(V,2),\"V\"\n",
      "print \" The Frequency of Wave Voltage, f = \",f/10**3,\"KHz\"\n"
     ],
     "language": "python",
     "metadata": {},
     "outputs": [
      {
       "metadata": {},
       "output_type": "display_data",
       "png": "[encoded data removed]"
      },
      {
       "output_type": "stream",
       "stream": "stdout",
       "text": [
        "The Magnitude of Wave Voltage,  4.95 V\n",
        " The Frequency of Wave Voltage, f =  2.5 KHz\n"
       ]
      }
     ],
     "prompt_number": 2
    }
   ],
   "metadata": {}
  }
 ]
}