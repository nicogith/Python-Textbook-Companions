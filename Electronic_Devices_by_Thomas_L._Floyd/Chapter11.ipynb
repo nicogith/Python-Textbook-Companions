{
 "metadata": {
  "name": "Chapter_11"
 }, 
 "nbformat": 2, 
 "worksheets": [
  {
   "cells": [
    {
     "cell_type": "markdown", 
     "source": [
      "<h1>Chapter 11: Thyristors and other Devices<h1>"
     ]
    }, 
    {
     "cell_type": "markdown", 
     "source": [
      "<h3>Example 11.1, Page Number: 353<h3>"
     ]
    }, 
    {
     "cell_type": "code", 
     "collapsed": false, 
     "input": [
      "", 
      "V_AK=20.0;    #VOLTAGE ACROSS ANODE", 
      "I_A=1*10**-6;", 
      "R_AK=V_AK/I_A;", 
      "print('Resistance = %d * 10^6 Ohm'%(R_AK/10**6))"
     ], 
     "language": "python", 
     "outputs": [
      {
       "output_type": "stream", 
       "stream": "stdout", 
       "text": [
        "Resistance = 20 * 10^6 Ohm"
       ]
      }
     ], 
     "prompt_number": 1
    }, 
    {
     "cell_type": "markdown", 
     "source": [
      "<h3>Example 11.2, Page Number: 354<h3>"
     ]
    }, 
    {
     "cell_type": "code", 
     "collapsed": false, 
     "input": [
      "", 
      "R_S=10**3;", 
      "V_BIAS=110.0;", 
      "V_BE=0.7;", 
      "V_CE_sat=0.1;", 
      "V_A=V_BE+V_CE_sat;    #VOLTAGE ACROSS ANODE", 
      "V_R_s=V_BIAS-V_A;    #VOLTAGE ACROSS R_S", 
      "I_A=V_R_s/R_S;", 
      "print('Anode current = %f A'%I_A)"
     ], 
     "language": "python", 
     "outputs": [
      {
       "output_type": "stream", 
       "stream": "stdout", 
       "text": [
        "Anode current = 0.109200 A"
       ]
      }
     ], 
     "prompt_number": 2
    }, 
    {
     "cell_type": "markdown", 
     "source": [
      "<h3>Example 11.3, Page Number: 364<h3>"
     ]
    }, 
    {
     "cell_type": "code", 
     "collapsed": false, 
     "input": [
      "", 
      "n=0.6;", 
      "V_BB=20.0;", 
      "V_pn=0.7;", 
      "V_P=n*V_BB+V_pn;", 
      "print('peak point emitter voltage = %.1f Volts'%V_P)"
     ], 
     "language": "python", 
     "outputs": [
      {
       "output_type": "stream", 
       "stream": "stdout", 
       "text": [
        "peak point emitter voltage = 12.7 Volts"
       ]
      }
     ], 
     "prompt_number": 3
    }, 
    {
     "cell_type": "markdown", 
     "source": [
      "<h3>Example 11.4, page Number: 366<h3>"
     ]
    }, 
    {
     "cell_type": "code", 
     "collapsed": false, 
     "input": [
      "", 
      "V_BB=30.0;", 
      "V_P=14.0;", 
      "I_P=20.0*10**-6;", 
      "V_V=1.0;", 
      "I_V=10.0*10**-3;", 
      "x=(V_BB-V_P)/I_P;", 
      "y=(V_BB-V_V)/I_V;", 
      "print('R1 should be less than %d Ohms'%x)", 
      "print('R1 should be more than %d Ohms'%y)"
     ], 
     "language": "python", 
     "outputs": [
      {
       "output_type": "stream", 
       "stream": "stdout", 
       "text": [
        "R1 should be less than 800000 Ohms", 
        "R1 should be more than 2900 Ohms"
       ]
      }
     ], 
     "prompt_number": 4
    }, 
    {
     "cell_type": "markdown", 
     "source": [
      "<h3>Example 11.5, Page Number: 376<h3>"
     ]
    }, 
    {
     "cell_type": "code", 
     "collapsed": false, 
     "input": [
      "", 
      "import math", 
      "n2=1.3;    #cladding index", 
      "n1=1.35;    #core index", 
      "theta=math.acos(n2/n1);", 
      "t=theta*180/math.pi;", 
      "print('critical angle in degrees \\n\\t%f'%t)"
     ], 
     "language": "python", 
     "outputs": [
      {
       "output_type": "stream", 
       "stream": "stdout", 
       "text": [
        "critical angle in degrees ", 
        "\t15.642471"
       ]
      }
     ], 
     "prompt_number": 5
    }
   ]
  }
 ]
}