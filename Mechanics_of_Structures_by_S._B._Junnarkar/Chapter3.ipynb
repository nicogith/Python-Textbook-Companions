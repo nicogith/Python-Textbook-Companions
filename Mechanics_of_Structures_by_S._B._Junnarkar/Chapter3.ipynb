{
 "metadata": {
  "name": "",
  "signature": "sha256:fda2efbde9309c997fd1c5768ac3e3ef47209d8a8fc8385592f593bd1834cc52"
 },
 "nbformat": 3,
 "nbformat_minor": 0,
 "worksheets": [
  {
   "cells": [
    {
     "cell_type": "heading",
     "level": 1,
     "metadata": {},
     "source": [
      "Chapter3-Impact or shock loading:strain energy"
     ]
    },
    {
     "cell_type": "heading",
     "level": 1,
     "metadata": {},
     "source": [
      "Ex1-pg63"
     ]
    },
    {
     "cell_type": "code",
     "collapsed": false,
     "input": [
      "import math\n",
      "#calculate The maximum instantaneous stress produced and corresponding strain  work done on the rod and stored\n",
      "d = 3./2.;##inches\n",
      "l = 10.;##feet\n",
      "P = 8.;##tons\n",
      "E = 13500.;##tons/in^2\n",
      "A = 0.25*math.pi*d**2;##in^2\n",
      "p = 2.*P/A;## tons/in^2\n",
      "e = p/E;\n",
      "del_l = e*l*12.;##inches\n",
      "W = P*del_l;##inch-ton\n",
      "print'%s %.2f %s'%('The maximum instantaneous stress produced is, p =',p,'tons/in^2');\n",
      "print'%s %.4f %s'%('The corresponding strain is e =',e,'') \n",
      "print'%s %.2f %s'%('del_l =',del_l,'inches')\n",
      "print'%s %.2f %s'%('The work done on the rod and stored by it is',W,'inch-ton.');\n",
      "\n",
      "##there is an error in the answer given in text book\n"
     ],
     "language": "python",
     "metadata": {},
     "outputs": [
      {
       "output_type": "stream",
       "stream": "stdout",
       "text": [
        "The maximum instantaneous stress produced is, p = 9.05 tons/in^2\n",
        "The corresponding strain is e = 0.0007 \n",
        "del_l = 0.08 inches\n",
        "The work done on the rod and stored by it is 0.64 inch-ton.\n"
       ]
      }
     ],
     "prompt_number": 4
    },
    {
     "cell_type": "heading",
     "level": 2,
     "metadata": {},
     "source": [
      "Ex2-pg64"
     ]
    },
    {
     "cell_type": "code",
     "collapsed": false,
     "input": [
      "import math\n",
      "#calculate Maximum instantaneous and extension stress produced\n",
      "l = 6.;##feet\n",
      "d = 1.;##inches\n",
      "h = 4.;##inches\n",
      "E = 30*10**6;##lb/in^2\n",
      "A = 0.25*math.pi*d**2;##in^2\n",
      "P = 50.;##lb\n",
      "p = (P/A)+math.sqrt((P**2/A**2)+(2*E*P*h)/(A*l*12.));\n",
      "e = p/E;\n",
      "del_l = e*l*12.##inches\n",
      "print'%s %.d %s'%('Maximum instantaneous stress produced is p =',p,'lb/in^2');\n",
      "print'%s %.3f %s'%('Maximum instantaneous extension produced is del_l =',del_l,'lb/in^2');\n",
      "\n",
      "##there is an error in the answer given in text book\n",
      "\n"
     ],
     "language": "python",
     "metadata": {},
     "outputs": [
      {
       "output_type": "stream",
       "stream": "stdout",
       "text": [
        "Maximum instantaneous stress produced is p = 14631 lb/in^2\n",
        "Maximum instantaneous extension produced is del_l = 0.035 lb/in^2\n"
       ]
      }
     ],
     "prompt_number": 1
    },
    {
     "cell_type": "heading",
     "level": 2,
     "metadata": {},
     "source": [
      "Ex3-pg64"
     ]
    },
    {
     "cell_type": "code",
     "collapsed": false,
     "input": [
      "import math\n",
      "#calculate Instantaneous elongation and Height of the drop\n",
      "l = 10.;##feet\n",
      "d = 5./4.;##inches\n",
      "p = 8.;##tons/in^2\n",
      "E = 13000.;##tons/in^2\n",
      "A = 0.25*math.pi*d**2;##in^2\n",
      "e = p/E;\n",
      "del_l = e*l*12.;##inches\n",
      "W = 0.5*p**2*A*l*12./E;## inch-ton\n",
      "h = W*10.-del_l;##inches\n",
      "print'%s %.3f %s'%('Instantaneous elongation is del_l =',del_l,'inches')\n",
      "print'%s %.2f %s'%('Height of the drop is h =',h,'inches');\n"
     ],
     "language": "python",
     "metadata": {},
     "outputs": [
      {
       "output_type": "stream",
       "stream": "stdout",
       "text": [
        "Instantaneous elongation is del_l = 0.074 inches\n",
        "Height of the drop is h = 3.55 inches\n"
       ]
      }
     ],
     "prompt_number": 6
    },
    {
     "cell_type": "heading",
     "level": 2,
     "metadata": {},
     "source": [
      "Ex4-pg65"
     ]
    },
    {
     "cell_type": "code",
     "collapsed": false,
     "input": [
      "import math\n",
      "#calculate Maximum instantaneous extension and stress\n",
      "w = 4.;##tons\n",
      "v = 2.;##miles per hour\n",
      "l = 150.;##feet\n",
      "d = 3./2.;##inches\n",
      "E = 13000.;## tons/in^2\n",
      "g = 32.;## ft/sec^2\n",
      "A = 0.25*math.pi*d**2;## in^2\n",
      "KE = w*(v*17.6)**2/(2*g*12);## inch-tons\n",
      "p = math.sqrt(KE*(2.*E)/(A*l*12.));## tons/in^2\n",
      "del_l = p*l*12./E;## inches\n",
      "print'%s %.2f %s'%('Maximum instantaneous stress produced is p =',p,'tons/in^2')\n",
      "print'%s %.f %s'%('Maximum instantaneous extension produced is del_l =',del_l,'inch')\n"
     ],
     "language": "python",
     "metadata": {},
     "outputs": [
      {
       "output_type": "stream",
       "stream": "stdout",
       "text": [
        "Maximum instantaneous stress produced is p = 7.26 tons/in^2\n",
        "Maximum instantaneous extension produced is del_l = 1 inch\n"
       ]
      }
     ],
     "prompt_number": 8
    },
    {
     "cell_type": "heading",
     "level": 2,
     "metadata": {},
     "source": [
      "Ex5-pg66"
     ]
    },
    {
     "cell_type": "code",
     "collapsed": false,
     "input": [
      "import math\n",
      "#Maximum instantaneous stress and extension \n",
      "d = 2.;##inches\n",
      "l = 8.;##feet\n",
      "U = 50.;## ft-lbs\n",
      "E = 28.*10**6;## lb/in^2\n",
      "V = 0.25*math.pi*d**2*l*12.;## in^3\n",
      "p = math.sqrt(2*U*12.*E/V);## lb/in^2\n",
      "e = p/E;\n",
      "del_l = e*l*12.;## inches\n",
      "print'%s %.1f %s'%('Maximum instantaneous stress produced is p =',p,'lb/in^2');\n",
      "print'%s %.4f %s'%('Maximum instantaneous extension produced is del_l =',del_l,'inches');\n",
      "##there is an error in the answer given in text book\n",
      "\n"
     ],
     "language": "python",
     "metadata": {},
     "outputs": [
      {
       "output_type": "stream",
       "stream": "stdout",
       "text": [
        "Maximum instantaneous stress produced is p = 10555.0 lb/in^2\n",
        "Maximum instantaneous extension produced is del_l = 0.0362 inches\n"
       ]
      }
     ],
     "prompt_number": 10
    },
    {
     "cell_type": "heading",
     "level": 2,
     "metadata": {},
     "source": [
      "Ex6-pg66"
     ]
    },
    {
     "cell_type": "code",
     "collapsed": false,
     "input": [
      "import math\n",
      "# calculate Maximum instantaneous stress and Ratio of energies stored if both bars are allowed to reach the proof stress and Ratio of energies stored at the same stress per unit volume\n",
      "l = 12.;##feet\n",
      "d1_A = 1.;##inch\n",
      "d2_A = 2.;##inches\n",
      "l1_A = 4.;##inches\n",
      "l2_A = 8.;##inches\n",
      "d1_B = 1.;##inch\n",
      "d2_B = 2.;##inches\n",
      "l1_B = 8.;##inches\n",
      "l2_B = 4.;##inches\n",
      "p_A = 15./2.;## tons/in^2\n",
      "p_B = math.sqrt((2./3.)*p_A**2);## tons/in^2\n",
      "r1 = (9*math.pi/8.)/(3*math.pi/4.);##ratio of energies if both bars are allowed to reach the proof stress\n",
      "V_A  = 0.25*math.pi*d1_A**2*l1_A+ 0.25*math.pi*d2_A**2*l2_A;## in^3\n",
      "V_B  = 0.25*math.pi*d1_B**2*l1_B+ 0.25*math.pi*d2_B**2*l2_B;## in^3\n",
      "r2 = ((3./16.)*p_B**2)/((1./12.)*p_B**2);##ratio of enrgies\n",
      "print'%s %.2f %s'%('Maximum instantaneous stress produced is p_B =',p_B,'tons/in^2')\n",
      "print'%s %.2f %s'%('Ratio of energies stored if both bars are allowed to reach the proof stress is r1 =',r1,'');\n",
      "print'%s %.2f %s'%('Ratio of energies stored at the same stress per unit volume, is r2 =',r2,'');\n",
      "\n"
     ],
     "language": "python",
     "metadata": {},
     "outputs": [
      {
       "output_type": "stream",
       "stream": "stdout",
       "text": [
        "Maximum instantaneous stress produced is p_B = 6.12 tons/in^2\n",
        "Ratio of energies stored if both bars are allowed to reach the proof stress is r1 = 1.50 \n",
        "Ratio of energies stored at the same stress per unit volume, is r2 = 2.25 \n"
       ]
      }
     ],
     "prompt_number": 13
    }
   ],
   "metadata": {}
  }
 ]
}