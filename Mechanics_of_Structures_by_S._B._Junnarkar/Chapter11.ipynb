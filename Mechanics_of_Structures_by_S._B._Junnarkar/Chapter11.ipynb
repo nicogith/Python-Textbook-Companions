{
 "metadata": {
  "name": "",
  "signature": "sha256:efd3a63c379116e766993d1d8b2baacab12f4039280250b30fc0874f009306a1"
 },
 "nbformat": 3,
 "nbformat_minor": 0,
 "worksheets": [
  {
   "cells": [
    {
     "cell_type": "heading",
     "level": 2,
     "metadata": {},
     "source": [
      "Chapter11-Reveted joints"
     ]
    },
    {
     "cell_type": "heading",
     "level": 2,
     "metadata": {},
     "source": [
      "Ex11-pg424"
     ]
    },
    {
     "cell_type": "code",
     "collapsed": false,
     "input": [
      "import math\n",
      "#calculate The efficiency of the joint\n",
      "t = 5/8.;## inch\n",
      "d = 1.;## inch\n",
      "p = 4.;## inches\n",
      "f_t = 28.; ##tons/in^2\n",
      "f_s = 20.; ##tons/in^2\n",
      "f_b = 40.; ##tons/in^2\n",
      "P_t = (p-d)*t*f_t;## tons\n",
      "P_s = 2*2*0.25*math.pi*d**2 *f_s;## tons\n",
      "P_b = 2*d*t*f_b;##tons\n",
      "P = p*t*f_t;## tons\n",
      "n = min(P_t,P_s,P_b)/P ;## efficiency\n",
      "print'%s %.1f %s'%('The efficiency of the joint =',n,'f')\n",
      "print'%s %.1f %s'%('or',n*100,'percentage')\n"
     ],
     "language": "python",
     "metadata": {},
     "outputs": [
      {
       "output_type": "stream",
       "stream": "stdout",
       "text": [
        "The efficiency of the joint = 0.7 f\n",
        "or 71.4 percentage\n"
       ]
      }
     ],
     "prompt_number": 2
    },
    {
     "cell_type": "heading",
     "level": 2,
     "metadata": {},
     "source": [
      "Ex2-pg425"
     ]
    },
    {
     "cell_type": "code",
     "collapsed": false,
     "input": [
      "import math\n",
      "#calculate The efficiency of first joint with required conditions\n",
      "t = 1/2.;## inches\n",
      "d1= 7/8.;## inches\n",
      "p1 = 5/2.;## inches\n",
      "d2= 9/8.;## inches\n",
      "p2 = 7/2.;## inches\n",
      "f_t = 8.;## tons/in^2\n",
      "f_s = 6.;## tons/in^2\n",
      "f_b = 10.;## tons/in^2\n",
      "\n",
      "P_t1 = (p1-d1)*t*f_t;## tons\n",
      "P_s1 = 0.25*math.pi*d1**2 *f_s;## tons\n",
      "P_b1 = d1*t*f_b;##tons\n",
      "P1 = p1*t*f_t;## tons\n",
      "n1 = min(P_t1,P_s1,P_b1)/P1 ;## efficiency\n",
      "print'%s %.3f %s'%('The efficiency of first joint = ',n1,'')\n",
      "print'%s %.1f %s'%('or  =',n1*100,'percentage')\n",
      "\n",
      "P_t2 = (p2-d2)*t*f_t;## tons\n",
      "P_s2 = 0.25*math.pi*d2**2 *f_s;## tons\n",
      "P_b2 = d2*t*f_b;##tons\n",
      "P2 = p2*t*f_t;## tons\n",
      "n2 = min(P_t2,P_s2,P_b2)/P2 ;## efficiency\n",
      "print'%s %.3f %s'%('The efficiency of second joint = ',n2,'f') \n",
      "print'%s %.1f %s'%('or= ',n2*100,'percentage')\n",
      "\n",
      "if n2 > n1: \n",
      "    print(' The second joint, with its higher efficiency, is stronger');\n",
      "else:\n",
      "    print(' The first joint, with its higher efficiency, is stronger');\n",
      "\n"
     ],
     "language": "python",
     "metadata": {},
     "outputs": [
      {
       "output_type": "stream",
       "stream": "stdout",
       "text": [
        "The efficiency of first joint =  0.361 \n",
        "or  = 36.1 percentage\n",
        "The efficiency of second joint =  0.402 f\n",
        "or=  40.2 percentage\n",
        " The second joint, with its higher efficiency, is stronger\n"
       ]
      }
     ],
     "prompt_number": 1
    },
    {
     "cell_type": "heading",
     "level": 2,
     "metadata": {},
     "source": [
      "Ex3-pg427"
     ]
    },
    {
     "cell_type": "code",
     "collapsed": false,
     "input": [
      "import math\n",
      "#calculate 'The efficiency of the joint\n",
      "t = 3/8.;## inches\n",
      "p2 = 7/2.;## inches\n",
      "f_t = 11/2.;## tons/in^2\n",
      "f_s = 5.;## tons/in^2\n",
      "f_b = 12.;## tons/in^2\n",
      "d = 1.2*math.sqrt(t);## inches\n",
      "##d = 0.735, say 0.75 inches\n",
      "d = 0.75;## inches\n",
      "P_s = 0.25*math.pi*d**2 *f_s;## tons\n",
      "P_b = d*t*f_b;##tons\n",
      "P_t_limit = P_s;##tons\n",
      "p_limit = P_s/(t*f_t) + d;## inches\n",
      "##p_limit = 1.763, take p = 1.75\n",
      "p = 1.75;## inches\n",
      "n = (p-d)/p;## efficiency\n",
      "print'%s %.1f %s'%('The efficiency of the joint = ',n*100,' percentage')\n",
      "\n"
     ],
     "language": "python",
     "metadata": {},
     "outputs": [
      {
       "output_type": "stream",
       "stream": "stdout",
       "text": [
        "The efficiency of the joint =  57.1  percentage\n"
       ]
      }
     ],
     "prompt_number": 4
    },
    {
     "cell_type": "heading",
     "level": 2,
     "metadata": {},
     "source": [
      "Ex4-pg428"
     ]
    },
    {
     "cell_type": "code",
     "collapsed": false,
     "input": [
      "import math\n",
      "#calculate  Pitch and efficency\n",
      "d = 7/8.;## inches\n",
      "t = 1/2.;## inches   \n",
      "f_t = 6.;## tons/in^2\n",
      "f_s = 5.;## tons/in^2\n",
      "f_b = 10.;## tons/in^2\n",
      "p_s = 2*0.25*math.pi*d**2*f_s;## tons\n",
      "P_b = d*t*f_b;## tons\n",
      "p_t_limit = 2*P_b/3 + d;## inches\n",
      "n = (p_t_limit-d)/p_t_limit;## efficiency\n",
      "print'%s %.3f %s'%('Pitch, p =',p_t_limit,' inches')\n",
      "\n",
      "print'%s %.1f %s'%('Efficiency = ',n,' ')\n",
      "print'%s %.d %s'%('or',n*100,' percentage');\n",
      "\n",
      "##the answer is approximated in the textbook.\n"
     ],
     "language": "python",
     "metadata": {},
     "outputs": [
      {
       "output_type": "stream",
       "stream": "stdout",
       "text": [
        "Pitch, p = 3.792  inches\n",
        "Efficiency =  0.8  \n",
        "or 76  percentage\n"
       ]
      }
     ],
     "prompt_number": 2
    },
    {
     "cell_type": "heading",
     "level": 2,
     "metadata": {},
     "source": [
      "Ex5-pg430"
     ]
    },
    {
     "cell_type": "code",
     "collapsed": false,
     "input": [
      "import math\n",
      "#calculate Pitch and The efficiency of the joint \n",
      "d = 6.;## feet\n",
      "p = 180.;## lb/in^2\n",
      "f = 6.;## tons\n",
      "n = 70./100.;## efficiency\n",
      "d1 = 1.;## inches\n",
      "f_s = 5.;## tons/in^2\n",
      "f_b = 10.;## tons/in^2\n",
      "t = p*d/(2.*f*n);## inches\n",
      "## t = 0.6889 inches, say 0.75 inches\n",
      "t = 0.75;##inches\n",
      "P_s = 2*0.25*math.pi*d1**2*f_s;## tons\n",
      "P_b = d1*t*f_b;## tons\n",
      "p_limit = 2*P_b/(t*f) + d1;## inches\n",
      "##p_limit = 4.33 inches, make it 4 inches\n",
      "p = round(p_limit);## inches\n",
      "n1 = (p-d1)/p;## efficiency\n",
      "print'%s %.2f %s'%('Pitch = ',p_limit,'inches')\n",
      "print'%s %.d %s'%('make it',p,' inches.')\n",
      "print'%s %.d %s'%(' The efficiency of the joint will be',n1*100,'percentage')\n",
      "print'%s %.d %s'%('percentage aganist the assumed value of ',n*100,' percentage.')\n"
     ],
     "language": "python",
     "metadata": {},
     "outputs": [
      {
       "output_type": "stream",
       "stream": "stdout",
       "text": [
        "Pitch =  4.33 inches\n",
        "make it 4  inches.\n",
        " The efficiency of the joint will be 75 percentage\n",
        "percentage aganist the assumed value of  70  percentage.\n"
       ]
      }
     ],
     "prompt_number": 3
    },
    {
     "cell_type": "heading",
     "level": 2,
     "metadata": {},
     "source": [
      "Ex6-pg433"
     ]
    },
    {
     "cell_type": "code",
     "collapsed": false,
     "input": [
      "import math\n",
      "#calculate The number of rivets required and The efficiency of the joint and  The actual stresses induce in the rivet and The tensile stress at section 11 ,22 33 44\n",
      "t = 1./2.;## inches\n",
      "a = 1./2.;## inches\n",
      "P = 42.;## tons\n",
      "d = 3/4.;## inches\n",
      "f_t = 7.5;## tons/in^2\n",
      "f_s = 6.;## tons/in^2\n",
      "f_b = 12.;## tons/in^2\n",
      "P_s = 2*0.25*math.pi*d**2 *f_s;## tons\n",
      "P_b = d*t*f_b;## tons\n",
      "n = P/min(P_s,P_b);\n",
      "n = round(n+1);\n",
      "b1 = P/(t*f_t) + d;## inches\n",
      "b = round(b1);\n",
      "e = (b-d)/b;## efficiency\n",
      "f_s = (P/n)/(2*0.25*math.pi*d**2) ;## tons/in^2\n",
      "f_b = (P/n)/(d*t);## tons/in^2\n",
      "f1 = P/(a*(b-d));## tons/in^2\n",
      "f2 = (P-(P/n))/((b-2*d)*t);## tons/in^2\n",
      "f3 = (P-(3.*P/n))/((b-3.*d)*t);## tons/in^2\n",
      "f4 = (P-(6.*P/n))/((b-4.*d)*t);## tons/in^2\n",
      "print'%s %.d %s'%('The number of rivets required, n = ',n,'');\n",
      "print'%s %.2f %s %.d %s'%(' The width of the flat required, b = ',b1,'inches'and' ',b,' inches');\n",
      "print'%s %.2f %s '%(' The efficiency of the joint = ',e*100,' percentage');\n",
      "print'%s %.2f %s %.2f %s'%(' The actual stresses induce in the rivet are, f_s = ',f_s,' tons/in^2' and ' f_b = ',f_b ,'tons/in^2');\n",
      "print'%s %.3f %s'%(' The tensile stress at section 11, f1 = ',f1,'rons/in^2');\n",
      "print'%s %.3f %s'%(' The tensile stress at section 22, f2 = ',f2,' rons/in^2');\n",
      "print'%s %.3f %s'%(' The tensile stress at section 33, f3 = ',f3,' rons/in^2');\n",
      "print'%s %.3f %s'%(' The tensile stress at section 44, f4 = ',f4,' rons/in^2');\n"
     ],
     "language": "python",
     "metadata": {},
     "outputs": [
      {
       "output_type": "stream",
       "stream": "stdout",
       "text": [
        "The number of rivets required, n =  10 \n",
        " The width of the flat required, b =  11.95   12  inches\n",
        " The efficiency of the joint =  93.75  percentage \n",
        " The actual stresses induce in the rivet are, f_s =  4.75  f_b =  11.20 tons/in^2\n",
        " The tensile stress at section 11, f1 =  7.467 rons/in^2\n",
        " The tensile stress at section 22, f2 =  7.200  rons/in^2\n",
        " The tensile stress at section 33, f3 =  6.031  rons/in^2\n",
        " The tensile stress at section 44, f4 =  3.733  rons/in^2\n"
       ]
      }
     ],
     "prompt_number": 4
    },
    {
     "cell_type": "heading",
     "level": 2,
     "metadata": {},
     "source": [
      "Ex7-pg436"
     ]
    },
    {
     "cell_type": "code",
     "collapsed": false,
     "input": [
      "#calculate The number of rivets required and The efficiency of the joint and The pull section at different points and The maximum possible pull which the flat will safely transmit\n",
      "import math\n",
      "\n",
      "b = 9.;## inches\n",
      "t = 3./4.;## inches\n",
      "f_t = 8.;## tons/in**2\n",
      "f_s = 5.;## tons/in**2\n",
      "f_b = 10.;## tons/in**2\n",
      "d = 7/8.;## inches\n",
      "P = (b-d)*t*f_t;## tons\n",
      "P_s = 2.*0.25*math.pi*d**2 *f_s;## tons\n",
      "P_b = d*t*f_b;## tons\n",
      "n = P/min(P_s,P_b);\n",
      "e = (b-d)/b;## efficiency\n",
      "P1 = f_t*(b-d)*t;## tons\n",
      "P2 = f_t*(b-2*d)*t+P_s;## tons\n",
      "P3 = f_t*(b-3*d)*t+3*P_s;## tons\n",
      "P4 = f_t*(b-3*d)*t+6*P_s;## tons\n",
      "print'%s %.d %s'%('The number of rivets required, n = ',round(n+1),'')\n",
      "print'%s %.1f %s'%(' The efficiency of the joint =',e*100,' percentage');\n",
      "print'%s %.2f %s'%(' The pull at section 11, P1 = ',P1,' rons/in**2');\n",
      "print'%s %.1f %s'%( 'The pull at section 22, P2 = ',P2,'rons/in**2');\n",
      "print'%s %.2f %s'%(' The pull at section 33, P3 = ',P3,' rons/in**2');\n",
      "print'%s %.2f %s'%(' The pull at section 44, P4 = ',P4,' rons/in**2');\n",
      "if P1 == min(P1,P2,P3,P4) :\n",
      "    print'%s %.2f %s'%(' The maximum possible pull which the flat will safely transmit is P1 = ',P1,' tons/in^2 at section 11');\n",
      "elif P2 == min(P1,P2,P3,P4):\n",
      "      print'%s %.1f %s'%(' The maximum possible pull which the flat will safely transmit is P2 = ',P2,' tons/in^2 at section 22'); \n",
      "elif  P3 == min(P1,P2,P3,P4):  \n",
      "    print'%s %.2f %s'%('The maximum possible pull which the flat will safely transmit is P3 = ',P3,' tons/in^2 at section 33');\n",
      "else:\n",
      "    print'%s %.2f %s'%(' The maximum possible pull which the flat will safely transmit is P4 = ',P4,' tons/in^2 at section 44');   \n",
      "\n",
      "\n",
      "##there is a minute error in the answer given textbook.\n"
     ],
     "language": "python",
     "metadata": {},
     "outputs": [
      {
       "output_type": "stream",
       "stream": "stdout",
       "text": [
        "The number of rivets required, n =  9 \n",
        " The efficiency of the joint = 90.3  percentage\n",
        " The pull at section 11, P1 =  48.75  rons/in**2\n",
        "The pull at section 22, P2 =  49.5 rons/in**2\n",
        " The pull at section 33, P3 =  56.29  rons/in**2\n",
        " The pull at section 44, P4 =  74.33  rons/in**2\n",
        " The maximum possible pull which the flat will safely transmit is P1 =  48.75  tons/in^2 at section 11\n"
       ]
      }
     ],
     "prompt_number": 1
    },
    {
     "cell_type": "heading",
     "level": 2,
     "metadata": {},
     "source": [
      "Ex8-pg437"
     ]
    },
    {
     "cell_type": "code",
     "collapsed": false,
     "input": [
      "import math\n",
      "#calculate The number of rivets required \n",
      "P = 150.; ##tons\n",
      "t = 3./4.;## inches\n",
      "d = 1.;## inches\n",
      "f_s = 6.;## tons/in**2\n",
      "f_b = 12.;## tons/in**2\n",
      "P_s = 0.25*math.pi*d**2 *f_s;## tons\n",
      "P_b = t*d*f_b;## tons\n",
      "n = P/min(P_s,P_b);## no. of rivets required\n",
      "print'%s %.2f %s %.d %s'%('The number of rivets required, n = ',n,', say ',round(n),'');\n"
     ],
     "language": "python",
     "metadata": {},
     "outputs": [
      {
       "output_type": "stream",
       "stream": "stdout",
       "text": [
        "The number of rivets required, n =  31.83 , say  32 \n"
       ]
      }
     ],
     "prompt_number": 5
    },
    {
     "cell_type": "heading",
     "level": 2,
     "metadata": {},
     "source": [
      "Ex9-pg440\n"
     ]
    },
    {
     "cell_type": "code",
     "collapsed": false,
     "input": [
      "import math\n",
      "#calculate The minimum pitch required\n",
      "l = 50.;## feet\n",
      "b = 4.;## feet\n",
      "P = 3.;## tons per foot run\n",
      "t = 1/2.;## inches\n",
      "b1 = 4.;## inches\n",
      "d1 = 4.;## inches\n",
      "h1 = 1/2.;## inches\n",
      "d = 7/8.;## inches\n",
      "f_s = 6.;## tons/in**2\n",
      "f_b = 12.;## tons/in**2\n",
      "P_s = 2.*0.25*math.pi*d**2 *f_s;## tons\n",
      "P_b = t*d*f_b;## tons\n",
      "R = P_b;## tons\n",
      "F = l*P*2./d1;## tons\n",
      "p_min = R*(l-0.5*b1)/F ;## inches\n",
      "print'%s %.2f %s %.d %s'%('The minimum pitch required is p = ',p_min,' inches, say ',p_min,' inches');\n"
     ],
     "language": "python",
     "metadata": {},
     "outputs": [
      {
       "output_type": "stream",
       "stream": "stdout",
       "text": [
        "The minimum pitch required is p =  3.36  inches, say  3  inches\n"
       ]
      }
     ],
     "prompt_number": 3
    },
    {
     "cell_type": "heading",
     "level": 2,
     "metadata": {},
     "source": [
      "Ex10-pg442"
     ]
    },
    {
     "cell_type": "code",
     "collapsed": false,
     "input": [
      "import math\n",
      "#calculate The maximum shear intensity induced at any rivet\n",
      "P = 2.4;## tons\n",
      "e = 18.;## inches\n",
      "n = 8.;##no. of rivets\n",
      "d = 7/8.;## inches\n",
      "h = 4.;## inches\n",
      "M = P*e;## ton-inches\n",
      "d1 = 2.;## \n",
      "d2 = 6.;##\n",
      "square_r_sum = h*((0.5*h)**2. + d2**2.) + h*((0.5*h)**2 + d1**2.);##\n",
      "r = math.sqrt(40.);\n",
      "F = M*r/square_r_sum;## tons\n",
      "theta = math.atan(d2/d1)##radians\n",
      "theta1 = theta*180./math.pi## degrees\n",
      "V = (P/n) + F*math.cos(theta);## tons\n",
      "H = F*math.sin(theta);## tons\n",
      "R = math.sqrt(V**2 + H**2);## tons\n",
      "f_s = R/(0.25*math.pi*d**2);## tons/in**2\n",
      "print('The maximum shear intensity induced at any rivet is' )\n",
      "print'%s %.2f %s'%('f_s = ',f_s,' tons/in**2');\n"
     ],
     "language": "python",
     "metadata": {},
     "outputs": [
      {
       "output_type": "stream",
       "stream": "stdout",
       "text": [
        "The maximum shear intensity induced at any rivet is\n",
        "f_s =  2.57  tons/in**2\n"
       ]
      }
     ],
     "prompt_number": 6
    }
   ],
   "metadata": {}
  }
 ]
}