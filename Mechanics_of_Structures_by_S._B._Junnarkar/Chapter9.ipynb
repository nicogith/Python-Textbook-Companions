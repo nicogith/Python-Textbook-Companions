{
 "metadata": {
  "name": "",
  "signature": "sha256:de66edc6628557b633dd9783c4dabb08e00d657b0d4a1fadad535f3bd5215433"
 },
 "nbformat": 3,
 "nbformat_minor": 0,
 "worksheets": [
  {
   "cells": [
    {
     "cell_type": "heading",
     "level": 1,
     "metadata": {},
     "source": [
      "Chapter9-Columns and struts of uniform section"
     ]
    },
    {
     "cell_type": "heading",
     "level": 2,
     "metadata": {},
     "source": [
      "Ex1-pg350"
     ]
    },
    {
     "cell_type": "code",
     "collapsed": false,
     "input": [
      "import math\n",
      "#calculate m1 and m2,m3,m4,m5,m6,m7,m8,m9\n",
      "## n =l/k\n",
      "n1 = 40.;\n",
      "n2 = 60.;\n",
      "n3 = 80.;\n",
      "n4 = 100.;\n",
      "n5 = 120.;\n",
      "n6 = 140.;\n",
      "n7 = 160.;\n",
      "n8 = 180.;\n",
      "n9 = 200.;\n",
      "E = 13000.;## tons/in**2\n",
      "##m = P/A\n",
      "m1 = 4*math.pi**2 *E/n1**2;## tons per sq. inch\n",
      "m2 = 4*math.pi**2 *E/n2**2;## tons per sq. inch\n",
      "m3 = 4*math.pi**2 *E/n3**2;## tons per sq. inch\n",
      "m4 = 4*math.pi**2 *E/n4**2;## tons per sq. inch\n",
      "m5 = 4*math.pi**2 *E/n5**2;## tons per sq. inch\n",
      "m6 = 4*math.pi**2 *E/n6**2;## tons per sq. inch\n",
      "m7 = 4*math.pi**2 *E/n7**2;## tons per sq. inch\n",
      "m8 = 4*math.pi**2 *E/n8**2;## tons per sq. inch\n",
      "m9 = 4*math.pi**2 *E/n9**2;## tons per sq. inch\n",
      "print'%s %.d %s %.d %s %.d %s %.d %s %.d %s %.d %s %.d %s %.d %s %.d %s'%('l/k : ',n1,' ',n2,'',n3,' ',n4,' ',n5,'',n6,'',n7,'',n8,'',n9,'' )\n",
      "print'%s %.1f %s  %.1f %s  %.1f %s  %.1f %s  %.1f %s  %.1f %s  %.1f %s  %.1f %s  %.1f %s  '%('P/A:',m1,'',m2,'',m3,'',m4,'',m5,'',m6,'',m7,'',m8,'',m9,'')\n",
      "\n",
      "##there is a minute error in the answer given in text book\n"
     ],
     "language": "python",
     "metadata": {},
     "outputs": [
      {
       "output_type": "stream",
       "stream": "stdout",
       "text": [
        "l/k :  40   60  80   100   120  140  160  180  200 \n",
        "P/A: 320.8   142.6   80.2   51.3   35.6   26.2   20.0   15.8   12.8   \n"
       ]
      }
     ],
     "prompt_number": 1
    },
    {
     "cell_type": "heading",
     "level": 2,
     "metadata": {},
     "source": [
      "Ex2-pg351"
     ]
    },
    {
     "cell_type": "code",
     "collapsed": false,
     "input": [
      "import math\n",
      "#calculate The collapsing load\n",
      "d = 1.;## inches\n",
      "t = 1/8.;## inches\n",
      "l = 10.;## feet\n",
      "E = 13500.;## tons/in**2\n",
      "D = d+2.*t;## inches\n",
      "I = (math.pi/64.)*(D**4. - d**4.);## in**4\n",
      "P = 20.25*E*I/(12.*l)**2. ;## tons\n",
      "print'%s %.2f %s'%('The collapsing load, P =',P,'tons')\n",
      "\n"
     ],
     "language": "python",
     "metadata": {},
     "outputs": [
      {
       "output_type": "stream",
       "stream": "stdout",
       "text": [
        "The collapsing load, P = 1.34 tons\n"
       ]
      }
     ],
     "prompt_number": 2
    },
    {
     "cell_type": "heading",
     "level": 2,
     "metadata": {},
     "source": [
      "Ex3-pg354"
     ]
    },
    {
     "cell_type": "code",
     "collapsed": false,
     "input": [
      "import math\n",
      "#calculate The safe axial load\n",
      "b = 10.;## inches\n",
      "d = 6.;##inches\n",
      "l = 15.;## feet\n",
      "A = 11.77;## in^2\n",
      "I_xx = 204.80;## in^4\n",
      "I_yy = 21.76;## in^4\n",
      "f_c = 21.;## tons/in^2\n",
      "a = 1/7500.;\n",
      "n = 3.;##factor of safety\n",
      "k = math.sqrt(I_yy/A);## radius of gyration\n",
      "P = f_c*A/(1.+(a/2.)*(l*12./k)**2);## tons\n",
      "P_s = P/n;## safe load\n",
      "print'%s %.3f %s'%('The safe axial load =',P_s,'tons');\n",
      "\n",
      "##there is a minute calculation error in the answer given in text book\n"
     ],
     "language": "python",
     "metadata": {},
     "outputs": [
      {
       "output_type": "stream",
       "stream": "stdout",
       "text": [
        "The safe axial load = 37.997 tons\n"
       ]
      }
     ],
     "prompt_number": 3
    },
    {
     "cell_type": "heading",
     "level": 2,
     "metadata": {},
     "source": [
      "Ex4-pg355"
     ]
    },
    {
     "cell_type": "code",
     "collapsed": false,
     "input": [
      "import math\n",
      "#calculate The internal diameter and The thickness of the metal\n",
      "l = 16.;## feet\n",
      "F = 30.;## tons\n",
      "n = 8.;## factor of safety\n",
      "k = 0.8;##k = d/D\n",
      "f_c = 36.;## tons/in^2\n",
      "a = 1/1600.;\n",
      "r = 0.25*math.pi*(1-k**2);##r = A/D^2\n",
      "P = n*F;## tons\n",
      "D1 = math.sqrt(P/(f_c*r*2) +math.sqrt((P/(f_c*r))*((a/4)*(l*12.)**2.)/((1+k**2.)/16.) + (P/(f_c*r*2.))**2.));## inches\n",
      "D = round(D1);## inches\n",
      "d = k*D;## inches\n",
      "t = (D-d)/2.;## inches\n",
      "print'%s %.1f %s'%('The internal diameter d =',d,'inches');\n",
      "print'%s %.2f %s'%('The thickness of the metal will be',t,'inches');\n",
      "## the answer is correct only, but it is approximated in the text book\n"
     ],
     "language": "python",
     "metadata": {},
     "outputs": [
      {
       "output_type": "stream",
       "stream": "stdout",
       "text": [
        "The internal diameter d = 5.6 inches\n",
        "The thickness of the metal will be 0.70 inches\n"
       ]
      }
     ],
     "prompt_number": 5
    },
    {
     "cell_type": "heading",
     "level": 2,
     "metadata": {},
     "source": [
      "Ex5-pg356"
     ]
    },
    {
     "cell_type": "code",
     "collapsed": false,
     "input": [
      "import math\n",
      "#calculate The safe axial load \n",
      "l = 5.;## feet\n",
      "b = 5./2.;## inches\n",
      "d = 5/2.;## inches\n",
      "h = 1/4.;## inches\n",
      "n = 3.;## factor of safety\n",
      "A = 1.19;## in^2\n",
      "k = 0.49;## minimum radius of gyration\n",
      "f_c = 21.;## lb/in^2\n",
      "a = 1/7500.;\n",
      "P = f_c*A/(1+(a/2)*((l*12)**2)/k**2);## tons\n",
      "P_safe = P/n;## tons\n",
      "print'%s %.2f %s'%('The safe axial load =',P_safe,'tons');\n"
     ],
     "language": "python",
     "metadata": {},
     "outputs": [
      {
       "output_type": "stream",
       "stream": "stdout",
       "text": [
        "The safe axial load = 4.17 tons\n"
       ]
      }
     ],
     "prompt_number": 6
    },
    {
     "cell_type": "heading",
     "level": 2,
     "metadata": {},
     "source": [
      "Ex6-pg356"
     ]
    },
    {
     "cell_type": "code",
     "collapsed": false,
     "input": [
      "import math\n",
      "#calculate The safe axial load\n",
      "b1 = 10.;## inches\n",
      "d1 = 7/2.;## inches\n",
      "r = 9/2.;## inches\n",
      "b2 = 12.;## inches\n",
      "d2 = 1/2.;## inches\n",
      "l = 20.;## feet\n",
      "n = 4.;## factor of safety\n",
      "A_s = 7.19;## in^2\n",
      "I_xx1 = 109.42;## in^4\n",
      "I_yy1 = 7.42;## in^4\n",
      "d = 0.97;## inches\n",
      "f_c = 21.;## lb/in^2\n",
      "a = 1/7500.;\n",
      "A = 2*A_s + 4*b2*d2;## in^2\n",
      "I_xx = 2.*I_xx1 + 2.*((1/12.)*b2*(2*d2)**3. + b2*(r+2.*d2)**2.);## in^4\n",
      "I_yy = 2.*(1/12.)*(2*d2)*b2**3. + 2.*(I_yy1 + A_s*(0.5*r+d)**2.);## in^4\n",
      "k = math.sqrt(min(I_xx,I_yy)/A);## minimum radius of gyration\n",
      "P = f_c*A/(1.+ a*((l*12.)**2./k**2));## tons\n",
      "P_safe = P/n;## tons\n",
      "print'%s %.1f %s'%('The safe axial load =',round(P_safe),'tons');\n"
     ],
     "language": "python",
     "metadata": {},
     "outputs": [
      {
       "output_type": "stream",
       "stream": "stdout",
       "text": [
        "The safe axial load = 122.0 tons\n"
       ]
      }
     ],
     "prompt_number": 7
    },
    {
     "cell_type": "heading",
     "level": 2,
     "metadata": {},
     "source": [
      "Ex7-pg357"
     ]
    },
    {
     "cell_type": "code",
     "collapsed": false,
     "input": [
      "import math\n",
      "#calculate the safe axial load\n",
      "m = 4.;## no. of angles\n",
      "b = 7/2.;## inches\n",
      "d = 7/2.;## inches\n",
      "h = 3/8.;## inches\n",
      "s = 18.;## inches\n",
      "l = 30.;## feet\n",
      "n = 3.;## factor of safety\n",
      "A = 2.49;## in^2\n",
      "J = 1.;## inches\n",
      "I_xxs = 2.80;## in^4\n",
      "I_yys = I_xxs;## in^4\n",
      "##from the chapter V. \n",
      "I = 648.64;## in^4\n",
      "k = math.sqrt(65.2);## in^2\n",
      "f_c = 21.;## lb/in^2\n",
      "a = 1/7500.;\n",
      "P = m*f_c*A/(1.+a*((l*12)**2)/k**2);## tons\n",
      "P_safe = P/n;## tons\n",
      "print'%s %.1f %s'%('The safe axial load =',P_safe,'tons');\n"
     ],
     "language": "python",
     "metadata": {},
     "outputs": [
      {
       "output_type": "stream",
       "stream": "stdout",
       "text": [
        "The safe axial load = 55.1 tons\n"
       ]
      }
     ],
     "prompt_number": 8
    },
    {
     "cell_type": "heading",
     "level": 2,
     "metadata": {},
     "source": [
      "Ex8-pg365"
     ]
    },
    {
     "cell_type": "code",
     "collapsed": false,
     "input": [
      "import math\n",
      "#calculate Stress intensities and Maximum possible eccentricity\n",
      "D = 7.;## inches\n",
      "t = 3/4.;## inches\n",
      "l = 16.;## feet\n",
      "P = 12.;## tons\n",
      "e = 3/4.;## inches\n",
      "E = 6000.;## tons/in^2\n",
      "d = D-2.*t;## inches\n",
      "A = 0.25*math.pi*(D**2. - d**2.);## in^2\n",
      "I = (math.pi/64.)*(D**4. - d**4.);## in^4\n",
      "p_0 = P/A;## tons/in^2\n",
      "Z = 2.*I/D;## in^3\n",
      "M = P*e/math.cos(0.25*l*12.*math.sqrt(P/(E*I)));## ton-inches\n",
      "p_b = M/Z;## tons/in^2\n",
      "p_max = p_0+p_b;## tons/in^2\n",
      "p_min = p_0-p_b;## tons/in^2\n",
      "##if tension is just on the point being induced in the section, p_b = p_0\n",
      "e = p_0*t*Z/M;## inches\n",
      "print'%s %.3f %s'%('Stress intensities, p_max =',p_max,'tons/in^2.,compressive')\n",
      "print'%s %.3f %s'%('p_min =',p_min,'tons/in^2., compressive');\n",
      "print'%s %.2f %s'%('Maximum possible eccentricity, e =',e,'inches')\n"
     ],
     "language": "python",
     "metadata": {},
     "outputs": [
      {
       "output_type": "stream",
       "stream": "stdout",
       "text": [
        "Stress intensities, p_max = 1.261 tons/in^2.,compressive\n",
        "p_min = 0.369 tons/in^2., compressive\n",
        "Maximum possible eccentricity, e = 1.37 inches\n"
       ]
      }
     ],
     "prompt_number": 10
    },
    {
     "cell_type": "heading",
     "level": 2,
     "metadata": {},
     "source": [
      "Ex9-pg366"
     ]
    },
    {
     "cell_type": "code",
     "collapsed": false,
     "input": [
      "import math\n",
      "#calculate The maximum possible eccentricity\n",
      "P = 80;## tons\n",
      "p_max = 5;## tons/in^2\n",
      "E = 13000;## tons/in^2\n",
      "A = 38.38;## in^2\n",
      "I_yy = 451.94;## in^4\n",
      "y_c = 6;## inches\n",
      "l = 20;## inches\n",
      "k = math.sqrt(I_yy/A);## inches\n",
      "Z_yy = I_yy/y_c;## in^3\n",
      "p_0 = P/A;## tons/in^2\n",
      "p_b = p_max-p_0;## tons/in^2\n",
      "M_max = p_b*Z_yy;## ton-inches\n",
      "e = M_max/(P/math.cos(0.5*l*12*math.sqrt(P/(E*I_yy))));##inches\n",
      "print'%s %.2f %s'%('The maximum possible eccentricity, e =',e,'inches')\n",
      "\n",
      "\n"
     ],
     "language": "python",
     "metadata": {},
     "outputs": [
      {
       "output_type": "stream",
       "stream": "stdout",
       "text": [
        "The maximum possible eccentricity, e = 2.48 inches\n"
       ]
      }
     ],
     "prompt_number": 11
    },
    {
     "cell_type": "heading",
     "level": 2,
     "metadata": {},
     "source": [
      "Ex10-pg368"
     ]
    },
    {
     "cell_type": "code",
     "collapsed": false,
     "input": [
      "import math\n",
      "#calculate The safe load\n",
      "e = 7/4.;## inches\n",
      "E = 13000.;## tons/in^2\n",
      "p = 5.;## tons/in^2\n",
      "y_c = 6.;## inches\n",
      "l = 20.;## feet\n",
      "A = 38.38;## in^2\n",
      "k = math.sqrt(11.78);## inches\n",
      "I = 11.78;## in^4\n",
      "p_e = (math.pi)**2 *E*k**2 /(l*12)**2;## tons/in^2\n",
      "##from Perry's formula\n",
      "p_0 = 0.5*((p_e*1.2*e*y_c/k**2)+p_e+p)-math.sqrt((0.5*((p_e*1.2*e*y_c/k**2)+p_e+p))**2 - p_e*p);## tons/in^2\n",
      "P = p_0*A;## tons\n",
      "print'%s %.2f %s'%('The safe load, P =',P,'tons');\n",
      "\n",
      "##there is a minute calculation error in the answer given in text book\n"
     ],
     "language": "python",
     "metadata": {},
     "outputs": [
      {
       "output_type": "stream",
       "stream": "stdout",
       "text": [
        "The safe load, P = 88.33 tons\n"
       ]
      }
     ],
     "prompt_number": 12
    },
    {
     "cell_type": "heading",
     "level": 2,
     "metadata": {},
     "source": [
      "Ex11-pg373"
     ]
    },
    {
     "cell_type": "code",
     "collapsed": false,
     "input": [
      "import math\n",
      "#calculate The safe load\n",
      "b1 = 10.;## inches\n",
      "d1 = 6.;## inches\n",
      "b2 = 12.;## inches\n",
      "d2 = 1/2.;## inches\n",
      "l = 16.;## feet\n",
      "A_s = 11.77;## in^2\n",
      "I_xxs = 204.80;## in^4\n",
      "I_yys = 21.76;## in^4\n",
      "A = A_s + 2*b2*d2;## in^2\n",
      "I_yy = I_yys + 2.*(1./12.)*d2*b2**3.;## in^4\n",
      "k = math.sqrt(I_yy/A);## inches\n",
      "##from the Perry-Robertson formula\n",
      "n = 0.003*l*12/k;\n",
      "p_e = 13000*math.pi**2/((l*12)/k)**2 ;## tons/in^2\n",
      "f = 18.;## tons/in^2\n",
      "x = 0.5*(f+p_e*(1.+n));\n",
      "p_0 = x - math.sqrt(x**2 - f*p_e);## tons/in^2\n",
      "P = p_0*A;## tons\n",
      "P_safe = P/2.36;## tons\n",
      "print'%s %.1f %s'%('The safe load, P =',P_safe,'tons');\n",
      "\n",
      "##there is a minute calculation error in the answer given in text book\n"
     ],
     "language": "python",
     "metadata": {},
     "outputs": [
      {
       "output_type": "stream",
       "stream": "stdout",
       "text": [
        "The safe load, P = 125.3 tons\n"
       ]
      }
     ],
     "prompt_number": 13
    }
   ],
   "metadata": {}
  }
 ]
}