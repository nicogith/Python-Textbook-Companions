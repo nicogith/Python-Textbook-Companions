{
 "metadata": {
  "name": "",
  "signature": "sha256:2fca8a5a6eea7d0d827f574ce7d290e4eee4cc08f84f7dba0473e27ed4225209"
 },
 "nbformat": 3,
 "nbformat_minor": 0,
 "worksheets": [
  {
   "cells": [
    {
     "cell_type": "heading",
     "level": 1,
     "metadata": {},
     "source": [
      "Wires Cables and General Electrical Accessories"
     ]
    }
   ],
   "metadata": {}
  }
 ]
}