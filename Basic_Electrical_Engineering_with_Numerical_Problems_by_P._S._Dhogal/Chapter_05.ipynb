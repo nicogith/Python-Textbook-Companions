{
 "metadata": {
  "name": "",
  "signature": "sha256:179d1aa791f84982595aec77701ac00e5f4718cb4b0fb539bad5702fddb2a8a1"
 },
 "nbformat": 3,
 "nbformat_minor": 0,
 "worksheets": [
  {
   "cells": [
    {
     "cell_type": "heading",
     "level": 1,
     "metadata": {},
     "source": [
      "Chapter 5:Chemical and Heating Effects of Electric Current"
     ]
    },
    {
     "cell_type": "heading",
     "level": 3,
     "metadata": {},
     "source": [
      "Example 5.1: Page 74:"
     ]
    },
    {
     "cell_type": "code",
     "collapsed": false,
     "input": [
      "\n",
      "from __future__ import division\n",
      "import math\n",
      "\n",
      "#given  data  :\n",
      "t=200;#  time  in  sec\n",
      "M=111.83;#  silver  in  mg\n",
      "I=0.5;#  current  in  A\n",
      "\n",
      "#calculations:\n",
      "Z=(M/(I*t*1000))*1000#  electro-chemical-equivalent\n",
      "\n",
      "#Results\n",
      "print  \"E.C.E,Z(mg/C)  =  \",Z"
     ],
     "language": "python",
     "metadata": {},
     "outputs": [
      {
       "output_type": "stream",
       "stream": "stdout",
       "text": [
        "E.C.E,Z(mg/C)  =   1.1183\n"
       ]
      }
     ],
     "prompt_number": 1
    },
    {
     "cell_type": "heading",
     "level": 3,
     "metadata": {},
     "source": [
      "Example 5.2: page 74:"
     ]
    },
    {
     "cell_type": "code",
     "collapsed": false,
     "input": [
      "\n",
      "from __future__ import division\n",
      "import math\n",
      "\n",
      "#given  data  :\n",
      "Z=0.329*10**-3#  IN  g/C\n",
      "I=1    #  in  amperes\n",
      "t=90*60#  in  seconds\n",
      "\n",
      "#calculation:\n",
      "M=Z*I*t#  in  grams  \n",
      "A=200#area  in  centimete  square\n",
      "S=8.9#density  in  g/cc\n",
      "T=(M)/(2*A*S)#thickness  in  cm\n",
      "\n",
      "#Results\n",
      "print  \"thickness  of  copper  in  cm  is\", round(T,6)"
     ],
     "language": "python",
     "metadata": {},
     "outputs": [
      {
       "output_type": "stream",
       "stream": "stdout",
       "text": [
        "thickness  of  copper  in  cm  is 0.000499\n"
       ]
      }
     ],
     "prompt_number": 2
    },
    {
     "cell_type": "heading",
     "level": 3,
     "metadata": {},
     "source": [
      "Example 5.3: Page 76:"
     ]
    },
    {
     "cell_type": "code",
     "collapsed": false,
     "input": [
      "\n",
      "from __future__ import division\n",
      "import math\n",
      "\n",
      "#given data:\n",
      "w=15  #  in  kg\n",
      "t1=15#  in  degree  celsius\n",
      "t2=100#in  degree  celsius\n",
      "t=25  #  time  in  minutes\n",
      "I=10  #  in  ampere\n",
      "n=85  #efficiency  of  conversion  in  percentage\n",
      "\n",
      "#calculations:\n",
      "ho=w*(t2-t1)#output  heat  required  in  kcal\n",
      "R=((ho*4187*100)/(I**2*t*60*n))#  resistance  in  ohms\n",
      "\n",
      "#Results\n",
      "print  \"resistance  in  ohms\",R"
     ],
     "language": "python",
     "metadata": {},
     "outputs": [
      {
       "output_type": "stream",
       "stream": "stdout",
       "text": [
        "resistance  in  ohms 41.87\n"
       ]
      }
     ],
     "prompt_number": 3
    },
    {
     "cell_type": "heading",
     "level": 3,
     "metadata": {},
     "source": [
      "Example 5.4: page 76:"
     ]
    },
    {
     "cell_type": "code",
     "collapsed": false,
     "input": [
      "\n",
      "from __future__ import division\n",
      "import math\n",
      "\n",
      "#given data:\n",
      "w=20  #  in  kg\n",
      "t1=10#  in  degree  celsius\n",
      "t2=90#in  degree  celsius\n",
      "t=2*3600+19*60+34#  time  in  seconds\n",
      "I=4    #  in  ampere\n",
      "n=80  #efficiency  of  conversion  in  percentage\n",
      "\n",
      "#calculations:\n",
      "ho=w*(t2-t1)#output  heat  required  in  kcal\n",
      "V=((ho*4187*100)/(I*t*n))#  POTENTIAL  DROP  IN  VOLTS\n",
      "\n",
      "#Results\n",
      "print  \"potential  drop  across  heater  element  in  volts  is\", V"
     ],
     "language": "python",
     "metadata": {},
     "outputs": [
      {
       "output_type": "stream",
       "stream": "stdout",
       "text": [
        "potential  drop  across  heater  element  in  volts  is 250.0\n"
       ]
      }
     ],
     "prompt_number": 4
    }
   ],
   "metadata": {}
  }
 ]
}