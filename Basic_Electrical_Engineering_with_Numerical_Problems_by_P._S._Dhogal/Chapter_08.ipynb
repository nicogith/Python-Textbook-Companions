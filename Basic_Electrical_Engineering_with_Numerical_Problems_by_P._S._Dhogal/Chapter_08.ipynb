{
 "metadata": {
  "name": "",
  "signature": "sha256:6b51ae63262d051d8c33b477f21b4f8b38c9632d3bf6e663f7b45ca75bc3f387"
 },
 "nbformat": 3,
 "nbformat_minor": 0,
 "worksheets": [
  {
   "cells": [
    {
     "cell_type": "heading",
     "level": 1,
     "metadata": {},
     "source": [
      "Chapter 8: DC Motors"
     ]
    },
    {
     "cell_type": "heading",
     "level": 3,
     "metadata": {},
     "source": [
      "Example 8.1: page 137:"
     ]
    },
    {
     "cell_type": "code",
     "collapsed": false,
     "input": [
      "from __future__ import division\n",
      "import math\n",
      "\n",
      "#given  data  :\n",
      "s=22;#  shaft  of  the  motor  in  hp\n",
      "Tsh=210;#  torue  in  hp\n",
      "\n",
      "#calculations:\n",
      "N=(s*60*746)/(2*math.pi*Tsh);\n",
      "\n",
      "#Results\n",
      "print  \"speed,N(rpm)  =  \",N "
     ],
     "language": "python",
     "metadata": {},
     "outputs": [
      {
       "output_type": "stream",
       "stream": "stdout",
       "text": [
        "speed,N(rpm)  =   746.300264578\n"
       ]
      }
     ],
     "prompt_number": 1
    },
    {
     "cell_type": "heading",
     "level": 3,
     "metadata": {},
     "source": [
      "Example 8.2: Page 143:"
     ]
    },
    {
     "cell_type": "code",
     "collapsed": false,
     "input": [
      "\n",
      "from __future__ import division\n",
      "import math\n",
      "\n",
      "#given  data  :\n",
      "N=955;#  in  r.p.m\n",
      "V=230;#  voltage  in  volts\n",
      "I=72;#  current  in  A\n",
      "s=968;#  stray  losses\n",
      "Rsh=115;#  shunt  field  resistance  in  ohm\n",
      "Ra=0.5#  armature  resistance  in  ohm\n",
      "\n",
      "#calculations:\n",
      "W=V*I;\n",
      "Ish=V/Rsh#  shunt  field  resistance\n",
      "Ia=I-Ish;\n",
      "Eb=V-(Ia*Ra)#  back  emf  in  volts\n",
      "Dpd=Eb*Ia#  driving  power  developed\n",
      "Mpo=Dpd-s;\n",
      "bhp=Mpo/746;\n",
      "c_losses=W-Dpd;\n",
      "Ta=(9.55*Eb*Ia)/N;\n",
      "Tsh=(bhp*60*746)/(2*math.pi*N);\n",
      "Tl=Ta-Tsh;\n",
      "eta=(Mpo/W)*100;\n",
      "\n",
      "#Results\n",
      "print  \"(a)bhp  =  \",bhp\n",
      "print  \"(b)copper  losses(W)  =  \",c_losses\n",
      "print  \"(c)torque  armature,Ta(N-m)  =  \",Ta\n",
      "print  \"(d)shaft  torque,Tsh(N-m)  =  \",round(Tsh,2)\n",
      "print  \"(e)lost  torque,Tl(N-m)  =  \",round(Tl,2)\n",
      "print  \"(f)commercial  efficioency,eta(%)  =  \",round(eta,2)"
     ],
     "language": "python",
     "metadata": {},
     "outputs": [
      {
       "output_type": "stream",
       "stream": "stdout",
       "text": [
        "(a)bhp  =   17.0\n",
        "(b)copper  losses(W)  =   2910.0\n",
        "(c)torque  armature,Ta(N-m)  =   136.5\n",
        "(d)shaft  torque,Tsh(N-m)  =   126.81\n",
        "(e)lost  torque,Tl(N-m)  =   9.69\n",
        "(f)commercial  efficioency,eta(%)  =   76.58\n"
       ]
      }
     ],
     "prompt_number": 2
    },
    {
     "cell_type": "heading",
     "level": 3,
     "metadata": {},
     "source": [
      "Example 8.3: page 144:"
     ]
    },
    {
     "cell_type": "code",
     "collapsed": false,
     "input": [
      "\n",
      "from __future__ import division\n",
      "import math\n",
      "\n",
      "#given data:\n",
      "V=230#  in  volts\n",
      "I=5  #  in  amperes\n",
      "rpm=914#turns\n",
      "ra=0.5#resistance  of  armature  in  ihms\n",
      "rsh=115#shunt  field  in  ohms\n",
      "Il=30#  in  amperes\n",
      "ar=10#  in  percent\n",
      "\n",
      "#calculations:\n",
      "Ish=V/rsh#  in  amperes\n",
      "anl=I-Ish#armature  current  in  amperes  at  no  load\n",
      "al=Il-Ish#armature  currentin  amperes  at  load\n",
      "Eb1=(V-anl*ra)#back  emf  at  no  load\n",
      "Eb2=(V-al*ra)#back  emf  at  load\n",
      "ph1=100#\n",
      "ph2=90#\n",
      "Ns=(rpm*Eb2*ph1)/(Eb1*ph2)#speed  when  loaded  in  rpm\n",
      "\n",
      "#Results\n",
      "print  \"speed  when  loaded  in  rpm is \",Ns"
     ],
     "language": "python",
     "metadata": {},
     "outputs": [
      {
       "output_type": "stream",
       "stream": "stdout",
       "text": [
        "speed  when  loaded  in  rpm is  960.0\n"
       ]
      }
     ],
     "prompt_number": 3
    },
    {
     "cell_type": "heading",
     "level": 3,
     "metadata": {},
     "source": [
      "Example 8.4: page 144:"
     ]
    },
    {
     "cell_type": "code",
     "collapsed": false,
     "input": [
      "\n",
      "from __future__ import division\n",
      "import math\n",
      "\n",
      "#given data:\n",
      "Il=83#  WHEN  LOADED  IN  AMPERES\n",
      "V=110#  in  volts\n",
      "I=5    #  in  amperes  without  load\n",
      "ra=0.5#armature  resistance  in  ohms\n",
      "rsh=110#shunt  field  in  ohms\n",
      "\n",
      "#calculations:\n",
      "Ish=V/rsh#  in  ampere\n",
      "anl=I-Ish#armature  current  in  amperes  at  no  load\n",
      "al=Il-Ish#armature  currentin  amperes  at  load\n",
      "Eb1=(V-anl*ra)#back  emf  at  no  load\n",
      "Eb2=(V-al*ra)#back  emf  at  load\n",
      "Dp=Eb1*anl#driving  power  at  no  load  in  watt\n",
      "Dpl=Eb2*al#driving  power  at  load  in  watt\n",
      "mo=Dpl-Dp#out  of  motor  in  watt\n",
      "bhp=mo/746#horse  power\n",
      "mi=V*Il#input  power  in  watt\n",
      "n=(mo/mi)*100#efficiency  in  percentage\n",
      "\n",
      "#Results\n",
      "print  \"(a)stray  losses  in  watt is\",Dp\n",
      "print  \"(b)horse  power  in  ampere  is\",round(bhp,1)\n",
      "print  \"(c)efficiency  of  motor  when  it  is  work  on  full  ,load  in  percentage  is\",round(n,2)\n",
      "#answer(c)  is  wrong  in  the  textbook"
     ],
     "language": "python",
     "metadata": {},
     "outputs": [
      {
       "output_type": "stream",
       "stream": "stdout",
       "text": [
        "(a)stray  losses  in  watt is 432.0\n",
        "(b)horse  power  in  ampere  is 7.0\n",
        "(c)efficiency  of  motor  when  it  is  work  on  full  ,load  in  percentage  is 57.24\n"
       ]
      }
     ],
     "prompt_number": 4
    },
    {
     "cell_type": "heading",
     "level": 3,
     "metadata": {},
     "source": [
      "Example 8.5: page 146"
     ]
    },
    {
     "cell_type": "code",
     "collapsed": false,
     "input": [
      "\n",
      "from __future__ import division\n",
      "import math\n",
      "\n",
      "#given data:\n",
      "V=230#  in  volts\n",
      "I=60#  in  amperes\n",
      "rpm=955#turns\n",
      "ra=0.2#resistance  of  armature  in  ihms\n",
      "rsh=0.15#shunt  field  in  ohms\n",
      "sl=604#stray  losses  in  watts\n",
      "\n",
      "#calculations:\n",
      "Rm=ra+rsh#  in  ohms\n",
      "Eb=(V-I*Rm)#  back  emf  in  volts\n",
      "Dp=Eb*I#driving  power  in  watts\n",
      "mi=V*I#input  power  in  watts\n",
      "Cl=mi-Dp#  copper  losses  in  watts\n",
      "mo=Dp-sl#output  of  motor\n",
      "bhp=mo/746#  horse  power  in  bhp\n",
      "Ta=(9.55*Eb*I)/rpm#total  torque  in  N-m\n",
      "Ts=(bhp*60*746)/(2*math.pi*rpm)#shaft  torque  in  N-m\n",
      "Tl=Ta-Ts#lost  torque  in  N-m\n",
      "nc=(mo/mi)*100#commercial  efficiency  in  percentge\n",
      "\n",
      "#Results\n",
      "print  \"(a)back  emf  in  volts is\",Eb\n",
      "print  \"(b)copper  losses  in  watts is \",Cl\n",
      "print  \"(c)horse  power    is\", bhp\n",
      "print  \"(d)total  torque  in  N-m is\",Ta\n",
      "print  \"(e)shaft  torque  in  N-m is\",round(Ts,1)\n",
      "print  \"(f)lost  torque  in  N-m is\",round(Tl,1)\n",
      "print  \"(g)commercial  efficiency  in  percentge is\",round(nc,2)"
     ],
     "language": "python",
     "metadata": {},
     "outputs": [
      {
       "output_type": "stream",
       "stream": "stdout",
       "text": [
        "(a)back  emf  in  volts is 209.0\n",
        "(b)copper  losses  in  watts is  1260.0\n",
        "(c)horse  power    is 16.0\n",
        "(d)total  torque  in  N-m is 125.4\n",
        "(e)shaft  torque  in  N-m is 119.4\n",
        "(f)lost  torque  in  N-m is 6.0\n",
        "(g)commercial  efficiency  in  percentge is 86.49\n"
       ]
      }
     ],
     "prompt_number": 5
    },
    {
     "cell_type": "heading",
     "level": 3,
     "metadata": {},
     "source": [
      "Example 8.6: page 146:"
     ]
    },
    {
     "cell_type": "code",
     "collapsed": false,
     "input": [
      "\n",
      "from __future__ import division\n",
      "import math\n",
      "\n",
      "#given data:\n",
      "V=220#  in  volts\n",
      "I=60#  in  amperes\n",
      "rpm=728#turns\n",
      "Ts=150#shaft  torque  in  N-m\n",
      "nc=80#commercial  efficiency  in  percentge\n",
      "\n",
      "#calculations:\n",
      "I=((Ts*2*math.pi*rpm*746)/(60*746*(nc/100)*V))#  CURRENT  TAKEN  IN  AMPERES\n",
      "\n",
      "#Results\n",
      "print  \"current  taken  in  amperes  is\",round(I,1) "
     ],
     "language": "python",
     "metadata": {},
     "outputs": [
      {
       "output_type": "stream",
       "stream": "stdout",
       "text": [
        "current  taken  in  amperes  is 65.0\n"
       ]
      }
     ],
     "prompt_number": 6
    },
    {
     "cell_type": "heading",
     "level": 3,
     "metadata": {},
     "source": [
      "Example 8.7: page 147:"
     ]
    },
    {
     "cell_type": "code",
     "collapsed": false,
     "input": [
      "\n",
      "from __future__ import division\n",
      "import math\n",
      "\n",
      "#given data:\n",
      "V=220#  in  volts\n",
      "rpm=2100#turns\n",
      "ra=0.5#resistance  of  armature  in  ihms\n",
      "rsh=220#shunt  field  in  ohms\n",
      "Il=21#  in  amperes\n",
      "R1=220#  in  ohms\n",
      "ph1=50#\n",
      "ph2=100#\n",
      "\n",
      "#calculations:\n",
      "Ish=V/rsh#  in  amperes\n",
      "Ifs=V/(rsh+R1)#shunt  field  current  in  second  case  in  ampere\n",
      "n2=(rpm*ph2)/ph1#speed  in  rpm\n",
      "\n",
      "#Results\n",
      "print  \"speed  in  rpm  is\",n2"
     ],
     "language": "python",
     "metadata": {},
     "outputs": [
      {
       "output_type": "stream",
       "stream": "stdout",
       "text": [
        "speed  in  rpm  is 4200.0\n"
       ]
      }
     ],
     "prompt_number": 7
    }
   ],
   "metadata": {}
  }
 ]
}