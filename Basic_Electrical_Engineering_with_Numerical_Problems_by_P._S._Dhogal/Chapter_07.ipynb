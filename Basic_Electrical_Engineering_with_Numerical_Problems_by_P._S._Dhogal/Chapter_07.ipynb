{
 "metadata": {
  "name": "",
  "signature": "sha256:9d2dd07c4cd6a48736a25e250c2fa9389b802f12af2edf636c3211f6120daf44"
 },
 "nbformat": 3,
 "nbformat_minor": 0,
 "worksheets": [
  {
   "cells": [
    {
     "cell_type": "heading",
     "level": 1,
     "metadata": {},
     "source": [
      "Chapter 7: DC Generators"
     ]
    },
    {
     "cell_type": "heading",
     "level": 3,
     "metadata": {},
     "source": [
      "Example 7.1: Page 114:"
     ]
    },
    {
     "cell_type": "code",
     "collapsed": false,
     "input": [
      "\n",
      "from __future__ import division\n",
      "import math\n",
      "\n",
      "#  given  data:\n",
      "p=8;  #  number  of  poles\n",
      "a1=p;  #  in  lap  winding\n",
      "a2=2;  #  in  wave  winding\n",
      "fi=15*10**-3;#  in  wb\n",
      "N=500;#  rev/min\n",
      "Z=800;#  number  of  conductors  on  armature\n",
      "\n",
      "#calculations:\n",
      "emf1=(fi*Z*N*p)/(60*a1)#  when  the  armature  is  lap  wound\n",
      "emf2=(fi*Z*N*p)/(60*a2)#  when  the  armature  is  wave  wound\n",
      "\n",
      "#Results\n",
      "print \"when  the  armature  is  lap  wound, emf(V)  =  \",emf1\n",
      "print \"when  the  armature  is  wave wound, emf(V)  =  \",emf2"
     ],
     "language": "python",
     "metadata": {},
     "outputs": [
      {
       "output_type": "stream",
       "stream": "stdout",
       "text": [
        "when  the  armature  is  lap  wound, emf(V)  =   100.0\n",
        "when  the  armature  is  wave wound, emf(V)  =   400.0\n"
       ]
      }
     ],
     "prompt_number": 1
    },
    {
     "cell_type": "heading",
     "level": 3,
     "metadata": {},
     "source": [
      "Example 7.2: Page 119:"
     ]
    },
    {
     "cell_type": "code",
     "collapsed": false,
     "input": [
      "\n",
      "from __future__ import division\n",
      "import math\n",
      "\n",
      "#given  data:\n",
      "Vt=200#  terminal  voltage  in  volts\n",
      "Rsh=100;#shunt  fieldresistance    in  ohm\n",
      "Ra=0.1;#  armature  resistance  in  ohm\n",
      "l=60;#  number  of  lamps\n",
      "w=40  #  in  watt\n",
      "N=4;  #  number  of  poles\n",
      "\n",
      "#calculations:\n",
      "total_l=l*w#  in  watt\n",
      "Il=total_l/Vt#  load  current\n",
      "Ish=Vt/Rsh#  shunt  field  current\n",
      "Ia=Il+Ish;\n",
      "I=Ia/N;\n",
      "Va=Ia*Ra#armature  voltage  drop  \n",
      "Vb=1+1;#  brush  contact  drop  for  2  pair  of  poles\n",
      "E=Vt+Va+Vb;\n",
      "\n",
      "#Results\n",
      "print  \"(a)armature  current,Ia(A)  =  \",Ia\n",
      "print  \"(b)current  per  path  in  a  armature,I(A)  =\",I\n",
      "print  \"(c)emf,E(Volts)  =  \",E"
     ],
     "language": "python",
     "metadata": {},
     "outputs": [
      {
       "output_type": "stream",
       "stream": "stdout",
       "text": [
        "(a)armature  current,Ia(A)  =   14.0\n",
        "(b)current  per  path  in  a  armature,I(A)  = 3.5\n",
        "(c)emf,E(Volts)  =   203.4\n"
       ]
      }
     ],
     "prompt_number": 2
    },
    {
     "cell_type": "heading",
     "level": 3,
     "metadata": {},
     "source": [
      "Example 7.3: Page 119:"
     ]
    },
    {
     "cell_type": "code",
     "collapsed": false,
     "input": [
      "\n",
      "from __future__ import division\n",
      "import math\n",
      "\n",
      "#  given  data:\n",
      "W=10  #  output  of  the  generator  in  k-w\n",
      "V=250;#  voltage  in  volts\n",
      "R=0.07;#  in  ohm\n",
      "Rsh=63.2;#  shunt  resistance  in  ohm\n",
      "Ra=0.05;#  armature  resistance  in  ohm\n",
      "Vb=2;#  brush  contact  drop\n",
      "\n",
      "#calculations:\n",
      "Il=(W*1000)/V#  load  current  in  A\n",
      "Vf=Il*R#  voltage  drop  in  feeder\n",
      "Vt=V+Vf;\n",
      "Ish=Vt/Rsh;\n",
      "Ia=Il+Ish;\n",
      "Vd=Ia*Ra#  voltage  drop  in  the  armature\n",
      "E=Vt+Vd+Vb;\n",
      "#Results\n",
      "print  \"(a)terminal  voltage,Vt(V)  = \",Vt \n",
      "print  \"(b)emf,E(V)  = \", E"
     ],
     "language": "python",
     "metadata": {},
     "outputs": [
      {
       "output_type": "stream",
       "stream": "stdout",
       "text": [
        "(a)terminal  voltage,Vt(V)  =  252.8\n",
        "(b)emf,E(V)  =  257.0\n"
       ]
      }
     ],
     "prompt_number": 3
    },
    {
     "cell_type": "heading",
     "level": 3,
     "metadata": {},
     "source": [
      "Example 7.4: page 129:"
     ]
    },
    {
     "cell_type": "code",
     "collapsed": false,
     "input": [
      "\n",
      "from __future__ import division\n",
      "import math\n",
      "\n",
      "# given  data:\n",
      "W=20000#  in  watt\n",
      "V=200;#  in  volts\n",
      "R=0.08;#  in  ohm\n",
      "Rs=0.02;#  series  field  resistance  in  ohm\n",
      "Rsh=42;#  shunt  ield  resistance  in  ohm\n",
      "Ra=0.04;#    armature  resistance  in  ohm\n",
      "iron_losses=309.5;#  iron  and  friction  losses\n",
      "\n",
      "#calculations:\n",
      "I=W/V;#  in  A\n",
      "Vf=I*R;\n",
      "Vs=I*Rs;\n",
      "V1=Vf+Vs;#  voltage  drop  of  feeder  and  series  field\n",
      "Vg=V+V1;\n",
      "Ish=Vg/Rsh#  shunt  field  current\n",
      "Ia=I+Ish;\n",
      "Vd=Ia*Ra;\n",
      "emf=Vg+Vd;\n",
      "Ed=emf*Ia#  in  watt\n",
      "copper_losses=Ed-W;\n",
      "mech_in=W+copper_losses+iron_losses;\n",
      "Bhp=mech_in/735.5;\n",
      "efficiency=(W/mech_in)*100;\n",
      "\n",
      "#Results\n",
      "print  \"(a)terminal  voltage,Vg(V)  = \",Vg\n",
      "print  \"(b)emf(V)  =\",emf\n",
      "print  \"(c)copper  losses(Watt)  =  \",copper_losses\n",
      "print  \"(d)bhp  metric  of  the  primemover,Bhp  =  \",Bhp \n",
      "print  \"(e)efficiency(%)  =  \",round(efficiency,1)"
     ],
     "language": "python",
     "metadata": {},
     "outputs": [
      {
       "output_type": "stream",
       "stream": "stdout",
       "text": [
        "(a)terminal  voltage,Vg(V)  =  210.0\n",
        "(b)emf(V)  = 214.2\n",
        "(c)copper  losses(Watt)  =   2491.0\n",
        "(d)bhp  metric  of  the  primemover,Bhp  =   31.0\n",
        "(e)efficiency(%)  =   87.7\n"
       ]
      }
     ],
     "prompt_number": 4
    },
    {
     "cell_type": "heading",
     "level": 3,
     "metadata": {},
     "source": [
      "Example 7.5: page 129:"
     ]
    },
    {
     "cell_type": "code",
     "collapsed": false,
     "input": [
      "\n",
      "from __future__ import division\n",
      "import math\n",
      "\n",
      "#  given  data:\n",
      "n=3    #  number  of  motors\n",
      "n1=4  #  number  of  parallel  path  in  winding\n",
      "i=30;#current  in  A\n",
      "Bhp=65#  in  hp\n",
      "Rsh=44;#  shunt  field  resistance\n",
      "Ra=0.08;#  armature  resistance  in  ohm\n",
      "V=440;#  voltage  in  V\n",
      "Vb=2  #  we  know  ,  brush  contact  drops\n",
      "\n",
      "#calculations:\n",
      "I=i*n#  current  taken  by  three  motors\n",
      "Ish=V/Rsh#  shunt  field  current\n",
      "Ia=I+Ish;\n",
      "I1=Ia/n1#  current  in  each  path\n",
      "Va=Ia*Ra;#  armature  drop\n",
      "E=V+Va+Vb;\n",
      "E_power=E*Ia;\n",
      "W=V*I#  in  watt\n",
      "M_power=Bhp*746#  assume  Bhp=746  W\n",
      "Copper_losses=E_power-W;\n",
      "S_loses=M_power-E_power;\n",
      "eta_e=(W/E_power)*100;\n",
      "eta_c=(W/M_power)*100;\n",
      "eta_m=(E_power/M_power)*100;\n",
      "\n",
      "#Results\n",
      "print  \"(a)total  armature  current,Ia(A)  =\",Ia\n",
      "print  \"(b)current  in  each  path,I1(A)  = \",I1\n",
      "print  \"(c)emf,E(V)  =  \",E  #  answer  is  wrong  in  a  book \n",
      "print  \"(d)electrical  power  developed  in  watt  =  \",E_power  #  answer  is  wrong  in  a  book \n",
      "print  \"(e)copper  losses  (W)  =  \",Copper_losses\n",
      "print  \"(f)stray  losses(W)  =  \",S_loses\n",
      "print  \"(g1)electrical  efficiency,eta_e(%)  =  \",eta_e\n",
      "print  \"(g2)commercial  efficiency,eta_c(%)  =  \",round(eta_c,2)\n",
      "print  \"(g3)mechanical  efficiency,eta_m(%)  =  \",round(eta_m,1)"
     ],
     "language": "python",
     "metadata": {},
     "outputs": [
      {
       "output_type": "stream",
       "stream": "stdout",
       "text": [
        "(a)total  armature  current,Ia(A)  = 100.0\n",
        "(b)current  in  each  path,I1(A)  =  25.0\n",
        "(c)emf,E(V)  =   450.0\n",
        "(d)electrical  power  developed  in  watt  =   45000.0\n",
        "(e)copper  losses  (W)  =   5400.0\n",
        "(f)stray  losses(W)  =   3490.0\n",
        "(g1)electrical  efficiency,eta_e(%)  =   88.0\n",
        "(g2)commercial  efficiency,eta_c(%)  =   81.67\n",
        "(g3)mechanical  efficiency,eta_m(%)  =   92.8\n"
       ]
      }
     ],
     "prompt_number": 5
    }
   ],
   "metadata": {}
  }
 ]
}