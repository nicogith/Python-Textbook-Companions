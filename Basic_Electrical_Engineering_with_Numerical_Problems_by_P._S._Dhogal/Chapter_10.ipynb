{
 "metadata": {
  "name": "",
  "signature": "sha256:40665d77e6c03cce80f80ccba51c958481fca359588ebaf3851ecf724eb38bbb"
 },
 "nbformat": 3,
 "nbformat_minor": 0,
 "worksheets": [
  {
   "cells": [
    {
     "cell_type": "heading",
     "level": 1,
     "metadata": {},
     "source": [
      "Wiring Systems"
     ]
    }
   ],
   "metadata": {}
  }
 ]
}