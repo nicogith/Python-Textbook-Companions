{
 "metadata": {
  "name": "",
  "signature": "sha256:3d029ef4e834a5cd003571095b5e7fdf64f109f6f6e91dbd7ffcf37b297f5b62"
 },
 "nbformat": 3,
 "nbformat_minor": 0,
 "worksheets": [
  {
   "cells": [
    {
     "cell_type": "heading",
     "level": 1,
     "metadata": {},
     "source": [
      "Chapter 4: Work Power and Energy"
     ]
    },
    {
     "cell_type": "heading",
     "level": 3,
     "metadata": {},
     "source": [
      "Example 4.1: Page 61"
     ]
    },
    {
     "cell_type": "code",
     "collapsed": false,
     "input": [
      "\n",
      "from __future__ import division\n",
      "import math\n",
      "\n",
      "#given  data  :\n",
      "I=11;#  current  in  A\n",
      "V1=55;#  voltage  in  V\n",
      "V2=220;#  voltage  in  V\n",
      "\n",
      "#calculations\n",
      "V=V2-V1;\n",
      "R=V/I;  \n",
      "P=I**2*R;\n",
      "\n",
      "#Results\n",
      "print  \"(a)resistance,R  = \", R,\" ohm\" \n",
      "print  \"(b)power  lost,P = \",P,\" W\""
     ],
     "language": "python",
     "metadata": {},
     "outputs": [
      {
       "output_type": "stream",
       "stream": "stdout",
       "text": [
        "(a)resistance,R  =  15.0  ohm\n",
        "(b)power  lost,P =  1815.0  W\n"
       ]
      }
     ],
     "prompt_number": 1
    },
    {
     "cell_type": "heading",
     "level": 3,
     "metadata": {},
     "source": [
      "Example 4.2: Page 61"
     ]
    },
    {
     "cell_type": "code",
     "collapsed": false,
     "input": [
      "\n",
      "from __future__ import division\n",
      "import math\n",
      "\n",
      "#given  data  :\n",
      "V=300;#  voltage  in  volts\n",
      "W=360;#  power  lost  in  one  coil  in  watt\n",
      "I=6;  #  current  in  A\n",
      "\n",
      "#calculations:\n",
      "R1=V/I;\n",
      "R=V**2/W;\n",
      "a=(1/R1)-(1/R);\n",
      "r2=1/a;\n",
      "\n",
      "#Results\n",
      "print  \"resistance  of  360W  coil1,R= \",R,\"ohm and \\n resistance  of  second  coil2,r2=\",r2,\"ohm\" "
     ],
     "language": "python",
     "metadata": {},
     "outputs": [
      {
       "output_type": "stream",
       "stream": "stdout",
       "text": [
        "resistance  of  360W  coil1,R=  250.0 ohm and \n",
        " resistance  of  second  coil2,r2= 62.5 ohm\n"
       ]
      }
     ],
     "prompt_number": 2
    },
    {
     "cell_type": "heading",
     "level": 3,
     "metadata": {},
     "source": [
      "Example 4.3: Page 61"
     ]
    },
    {
     "cell_type": "code",
     "collapsed": false,
     "input": [
      "\n",
      "from __future__ import division\n",
      "import math\n",
      "\n",
      "#given  data  :\n",
      "W1=100#  in  watt\n",
      "E=110#  in  volts\n",
      "W2=60#  in  watt\n",
      "\n",
      "#calculations:\n",
      "I1=W1/E#  current  taken  by  100  w  lamp\n",
      "I2=W2/E#  current  taken  by  60W  lamp\n",
      "I=I1-I2;\n",
      "R=E/I;\n",
      "\n",
      "#Results\n",
      "print  \"resistance,R =\", R,\" ohm\""
     ],
     "language": "python",
     "metadata": {},
     "outputs": [
      {
       "output_type": "stream",
       "stream": "stdout",
       "text": [
        "resistance,R = 302.5  ohm\n"
       ]
      }
     ],
     "prompt_number": 3
    },
    {
     "cell_type": "heading",
     "level": 3,
     "metadata": {},
     "source": [
      "Example 4.4: Page 62"
     ]
    },
    {
     "cell_type": "code",
     "collapsed": false,
     "input": [
      "\n",
      "from __future__ import division\n",
      "import math\n",
      "\n",
      "#given  data  :\n",
      "w=100;#  in  watt\n",
      "V=220;#  voltage  in  volts\n",
      "\n",
      "#calculations:\n",
      "R1=V**2/w;\n",
      "Rp=R1/2;#  total  resistance  of  the  circuit\n",
      "Ip=V/Rp;\n",
      "Wp=Ip**2*Rp;\n",
      "R2=V**2/w;\n",
      "Rs=R1+R2;#  total  resistance  of  the  circuit\n",
      "Is=V/Rs;\n",
      "Ws=Is**2*Rs;\n",
      "\n",
      "#Results\n",
      "print  \"(a)power  in  case  of  parallel,W =  \",Wp,\"watts\"\n",
      "print  \"(b)power  in  case  of  series, W  =  \",Ws,\" Watts\" "
     ],
     "language": "python",
     "metadata": {},
     "outputs": [
      {
       "output_type": "stream",
       "stream": "stdout",
       "text": [
        "(a)power  in  case  of  parallel,W =   200.0 watts\n",
        "(b)power  in  case  of  series, W  =   50.0  Watts\n"
       ]
      }
     ],
     "prompt_number": 4
    },
    {
     "cell_type": "heading",
     "level": 3,
     "metadata": {},
     "source": [
      "Example 4.5: Page 63"
     ]
    },
    {
     "cell_type": "code",
     "collapsed": false,
     "input": [
      "\n",
      "from __future__ import division\n",
      "import math\n",
      "\n",
      "#given  data  :\n",
      "V = 220; #voltage\n",
      "l=300;#  number  of  lamps\n",
      "w1=60;#  in  watt\n",
      "w2=40;#  in  watt\n",
      "f=100;#  number  of  fan\n",
      "\n",
      "# Calculations:\n",
      "W1=w1*l;#  wattage  required  for  300  lamps,  60  watt  each\n",
      "W2=w2*f#  wattage  required  for  100  fans,  40  watt  each\n",
      "W=(W1+W2)*10**-3;\n",
      "I=(W*1000)/V;\n",
      "\n",
      "#Results\n",
      "print \"(a)total  load,W  =  \",W,\" kW\" \n",
      "print \"(b)current,I =  \",I,\"A\""
     ],
     "language": "python",
     "metadata": {},
     "outputs": [
      {
       "output_type": "stream",
       "stream": "stdout",
       "text": [
        "(a)total  load,W  =   22.0  kW\n",
        "(b)current,I =   100.0 A\n"
       ]
      }
     ],
     "prompt_number": 3
    },
    {
     "cell_type": "heading",
     "level": 3,
     "metadata": {},
     "source": [
      "Example 4.6: Page 63"
     ]
    },
    {
     "cell_type": "code",
     "collapsed": false,
     "input": [
      "\n",
      "from __future__ import division\n",
      "import math\n",
      "\n",
      "#given and Calculations:\n",
      "nl=12#no.  of  lamps\n",
      "wl=100#wattage  of  lamps\n",
      "hl=6  #each  lamps  work  6  hours  a  days\n",
      "nf=6  #no.  of  fans\n",
      "wf=60#wattage  of  fans\n",
      "hf=5  #each  fans  work  5  hours  a  days\n",
      "nc=2  #no.  of  electric  cookers\n",
      "wc=1500#wattage  of  electric  cookers\n",
      "hc=4  #each  electric  cookers  work  4  hours  a  days\n",
      "ng=2  #no.  of  gysers\n",
      "wg=1000#wattage  of  each  gyser\n",
      "hg=3  #each  gyser  works  3  hours  a  day\n",
      "Ccg=40#IN  PAISA\n",
      "Ccg1=35#IN  PAISA\n",
      "\n",
      "# Calculations:\n",
      "w12=wl*nl*hl#wattage  of  12  lamps  in  Wh\n",
      "w6=wf*nf*hf#wattage  of  12  fans  in  Wh\n",
      "w2=wc*nc*hc#wattage  of  2  electric  cookers  in  Wh\n",
      "w21=wg*hg*ng#total  wattage  of  gysers  in  Wh\n",
      "tcg=(w12+w6)*10**-3#TOTAL  WATTAGE  OF  LAMPS  AND  FANS\n",
      "Ecg=  (tcg*Ccg*30)/100#TOTAL  ENERGY  CHARGES  @40  PAISA  PER  UNIT\n",
      "tcg1=(w2+w21)*10**-3#TOTAL  WATTAGE  OF  COOKERS  AND  GYSERS\n",
      "Ecg1=  (tcg1*Ccg1*30)/100#TOTAL  ENERGY  CHARGES  @35  PAISA  PER  UNIT\n",
      "tc=Ecg+Ecg1#  IN  RUPPES\n",
      "\n",
      "#Results\n",
      "print  \"total  cost  of  electric  charge  @40  paisa  per  unit  in  rupees\",Ecg\n",
      "print  \"total  cost  of  electric  charge  @35  paisa  per  unit  in  rupees\",Ecg1\n",
      "print  \"total  charge  for  ligh  and  power  in  rupees\",tc"
     ],
     "language": "python",
     "metadata": {},
     "outputs": [
      {
       "output_type": "stream",
       "stream": "stdout",
       "text": [
        "total  cost  of  electric  charge  @40  paisa  per  unit  in  rupees 108.0\n",
        "total  cost  of  electric  charge  @35  paisa  per  unit  in  rupees 189.0\n",
        "total  charge  for  ligh  and  power  in  rupees 297.0\n"
       ]
      }
     ],
     "prompt_number": 4
    },
    {
     "cell_type": "heading",
     "level": 3,
     "metadata": {},
     "source": [
      "Example 4.7: Page 63"
     ]
    },
    {
     "cell_type": "code",
     "collapsed": false,
     "input": [
      "from __future__ import division\n",
      "import math\n",
      "\n",
      "#given and Calculations\n",
      "V = 250;#volts\n",
      "r = 0.03; #in ohms\n",
      "I = 20; #in Amps\n",
      "nl=400#no.  of  lamps\n",
      "wl=100#wattage  of  lamps\n",
      "nf=100#no.  of  fans\n",
      "wf=40#wattage  of  fans\n",
      "nc=200#no.  of  wall  scokets\n",
      "wc=60#wattage  of  wall  scckets\n",
      "hl=50#heating  load  in  kW\n",
      "h=5    #  hours\n",
      "\n",
      "# Calculations:\n",
      "w400=wl*nl#wattage  of  400  lamps  in  W\n",
      "w6=wf*nf#wattage  of  100  fans  in  W\n",
      "w2=wc*nc#wattage  of  200  wall  sockets  in  Wh\n",
      "tc=  (w400+w6+w2)/1000#total  consumption  in  kW\n",
      "Ml=V*I/1000#miscellaneous  loads  in  kW\n",
      "Mo=  ((50*80*746)/(100*1000))#MOTOR  AT  80%  LOAD  IN  Kw\n",
      "tl=tc+Ml+hl+Mo#total  load  in  kW\n",
      "It = tl*1000/V\n",
      "Vc=It*r#voltage  drop  in  the  cable\n",
      "Vs=Vc+V#voltage  at  the  sending  end  of  the  feeder  in  volts\n",
      "Pw=It**2*r#power  wasted  in  kW\n",
      "ll=tc*h#lightning  load  in  kWh\n",
      "te=Ml*2 + ll#TOTAL  ENERGY  COSNUMED  PER  DAY\n",
      "Nu=te*6#NO.  OF  UNITS\n",
      "Ec=(Nu*30)/100#  ENERGY  CHARGE  @30  PAISA  PER  UNIT\n",
      "eCM=Ec+2+34.80#TOTAL  CHARGE  AFTER  TAX  AND  RENT  IN  RUPEES.\n",
      "hlh=hl*4#heating  load  in  kWh\n",
      "Moh=Mo*8#MOTOR  LOAD  IN  kWh\n",
      "TEP=hlh+Moh#total  energy  per  day\n",
      "tepl=TEP*6#total  energy  in  6  days\n",
      "tepc=(tepl*35)/100#  energy  charges  @35  paisa  per  unit  in  rupees\n",
      "tepcl=tepc+50+78.96#total  charges  in  rupess\n",
      "\n",
      "GTb = eCM + tepcl\n",
      "\n",
      "\n",
      "#Results\n",
      "print  \"(a)total  consumption  of  factory is \", tl,\"kW\"\n",
      "print  \"(b)total  current  taken  buy  the  factory\",It,\" Amp\"\n",
      "print  \"(c)voltage  at  the  sending  end  of  the  feeder  is\",round(Vs,1),\"Volts\"\n",
      "print  \"(d)power  wasted  is\",round(Pw/1000,2),\"kW\"\n",
      "print  \"(e)total  lightning  charges-  including  meter  rent  and  electricy  tax  is,(Rs)=\",round(eCM,2)\n",
      "print  \"total  power  charges  including  meter  rent  and  electricy  tax  is,(Rs)=\",round(tepcl,2)\n",
      "print  \"grand  total  of  bills  is,(Rs)=\",round(GTb,2)\n"
     ],
     "language": "python",
     "metadata": {},
     "outputs": [
      {
       "output_type": "stream",
       "stream": "stdout",
       "text": [
        "(a)total  consumption  of  factory is  140.84 kW\n",
        "(b)total  current  taken  buy  the  factory 563.36  Amp\n",
        "(c)voltage  at  the  sending  end  of  the  feeder  is 266.9 Volts\n",
        "(d)power  wasted  is 9.52 kW\n",
        "(e)total  lightning  charges-  including  meter  rent  and  electricy  tax  is,(Rs)= 558.8\n",
        "total  power  charges  including  meter  rent  and  electricy  tax  is,(Rs)= 1050.27\n",
        "grand  total  of  bills  is,(Rs)= 1609.07\n"
       ]
      }
     ],
     "prompt_number": 5
    },
    {
     "cell_type": "heading",
     "level": 3,
     "metadata": {},
     "source": [
      "Example 4.8: Page 64"
     ]
    },
    {
     "cell_type": "code",
     "collapsed": false,
     "input": [
      "\n",
      "from __future__ import division\n",
      "import math\n",
      "\n",
      "#given  data  :\n",
      "V=250;#  voltage  in  volts\n",
      "L=5*746;#  1  hp=746  watt\n",
      "eta=80#  eficiency  of  motor  in  %\n",
      "\n",
      "# Calculations:\n",
      "Input=(L*100)/80;  \n",
      "I=Input/V;\n",
      "\n",
      "#Results\n",
      "print  \"cureent,I(A)  =  \", I"
     ],
     "language": "python",
     "metadata": {},
     "outputs": [
      {
       "output_type": "stream",
       "stream": "stdout",
       "text": [
        "cureent,I(A)  =   18.65\n"
       ]
      }
     ],
     "prompt_number": 8
    },
    {
     "cell_type": "heading",
     "level": 3,
     "metadata": {},
     "source": [
      "Example 4.9: Page 64"
     ]
    },
    {
     "cell_type": "code",
     "collapsed": false,
     "input": [
      "\n",
      "from __future__ import division\n",
      "import math\n",
      "\n",
      "#given:\n",
      "p=30  #horse  power  of  motor\n",
      "r=24  #  rupees  per  kWh\n",
      "ec=35#paisa  per  unit\n",
      "n=80  #percentage  of  load\n",
      "t=8    #  in  hours\n",
      "d=25  #  total  days\n",
      "ne=96#efficiency  of  motor  in  percentage\n",
      "\n",
      "#calculations:\n",
      "mo=(n*p)/100#output  of  motor  at  80%  of  load\n",
      "mi=(mo*100*746)/(ne)#input  of  motor  in  watts\n",
      "ecm=mi*10**-3*t*d#energy  consumed  in  a  month\n",
      "ecu=(ecm*35)/100#energy  charges\n",
      "mid=(30*100*746)/(ne*1000)#input  of  motor  in  kW  at  demanded\n",
      "ecud=(mid*24)#  demanded  connection  in  rupees\n",
      "ta=ecu+ecud#total  bill  in  rupees\n",
      "\n",
      "#Results\n",
      "print  \"total  bill  in  rupees  is\",ta"
     ],
     "language": "python",
     "metadata": {},
     "outputs": [
      {
       "output_type": "stream",
       "stream": "stdout",
       "text": [
        "total  bill  in  rupees  is 1865.0\n"
       ]
      }
     ],
     "prompt_number": 9
    },
    {
     "cell_type": "heading",
     "level": 3,
     "metadata": {},
     "source": [
      "Example 4.10: Page 65"
     ]
    },
    {
     "cell_type": "code",
     "collapsed": false,
     "input": [
      "\n",
      "from __future__ import division\n",
      "import math\n",
      "\n",
      "#given:\n",
      "V=400#three  phase  voltage\n",
      "lp=50#no.  of  light  points\n",
      "lw=60#wattage  of  light  points\n",
      "fp=20#no.  of  fan  points\n",
      "fw=100#wattage  of  fan  points\n",
      "wpp=10#no.  of  wall  plug  points\n",
      "wppw=60#wattage  of  wall  plug  points\n",
      "bp=5  #no.  of  bell  points\n",
      "bpw=40#wattage  of  bell  points\n",
      "ppp=8#power  plug  points\n",
      "pppw=500#wattage  of  power  plug  points\n",
      "\n",
      "#calculations:\n",
      "lpw=lp*lw#wattage  of  50  lamps\n",
      "fpw=fp*fw#wattage  of  20  fans\n",
      "wpppw=wpp*wppw#wattage  of  wall  plug  points\n",
      "bpww=bp*bpw#wattage  of  bell  points  \n",
      "tl=lpw+fpw+wpppw+bpww#total  wattage\n",
      "ppppw=ppp*pppw#wattage  of  power  plug  points\n",
      "tw=tl+ppppw#total  wattage\n",
      "Il=(tl/V)#  CURRENT  THROUGH  LIGHTNING  LOAD\n",
      "Ip=ppppw/V#  current  through  power  load\n",
      "ttl=Il+Ip#total  load  curent\n",
      "\n",
      "#Results\n",
      "print  \"total  wattage  of  lightning  load  is  in  watts = \", tl\n",
      "print  \"total  load  current  in  amperes = \",ttl"
     ],
     "language": "python",
     "metadata": {},
     "outputs": [
      {
       "output_type": "stream",
       "stream": "stdout",
       "text": [
        "total  wattage  of  lightning  load  is  in  watts =  5800\n",
        "total  load  current  in  amperes =  24.5\n"
       ]
      }
     ],
     "prompt_number": 10
    },
    {
     "cell_type": "heading",
     "level": 3,
     "metadata": {},
     "source": [
      "Example 4.11: Page 66"
     ]
    },
    {
     "cell_type": "code",
     "collapsed": false,
     "input": [
      "\n",
      "from __future__ import division\n",
      "import math\n",
      "\n",
      "#given  data  and calculations:\n",
      "h=30;#  in  m\n",
      "Fl=10#  friction  loss  in  %\n",
      "eta=90;#  eficiency  of  pump\n",
      "w=1000;#  water  weight  in  kg\n",
      "flow_rate=243;#  in  per  hour\n",
      "\n",
      "# Calculations:\n",
      "Hl=(Fl/100)*h;\n",
      "total_H=h+Hl;\n",
      "W_done=(flow_rate*w*total_H)/60;#  in  kg-m/min\n",
      "output=W_done/4500;#output  of  pump  in  hp\n",
      "In=(output*100)/eta;\n",
      "O=In;\n",
      "\n",
      "#Results\n",
      "print  \"output  of  the  motor,O(hp)  =  \",O"
     ],
     "language": "python",
     "metadata": {},
     "outputs": [
      {
       "output_type": "stream",
       "stream": "stdout",
       "text": [
        "output  of  the  motor,O(hp)  =   33.0\n"
       ]
      }
     ],
     "prompt_number": 6
    },
    {
     "cell_type": "heading",
     "level": 3,
     "metadata": {},
     "source": [
      "Example 4.12: Page 66"
     ]
    },
    {
     "cell_type": "code",
     "collapsed": false,
     "input": [
      "\n",
      "from __future__ import division\n",
      "import math\n",
      "\n",
      "#given data:\n",
      "l=7.5#load  in  tonnes\n",
      "h=135#height  in  meters\n",
      "c=0.5#cge  weight  in  tonnes\n",
      "b=3    #balance  weight  in  tonnes\n",
      "td=90#time  in  seconds\n",
      "onet=1000#  in  kg\n",
      "onehp=746#watt\n",
      "\n",
      "#calculations:\n",
      "wl=l+c-b#weight  lifted  during  upward  journey  in  tonnes\n",
      "wld=b-c#weight  lifted  during  downward  journey  in  tonnes\n",
      "wdu=(wl*10**3*h*60)/td#work  done  by  the  lift  per  minute  during  upward  journey\n",
      "wdd=(wld*10**3*h*60)/td#work  done  by  the  lift  per  minute  during  downward  journey\n",
      "mou=wdu/4500#  in  hp\n",
      "miu=(mou*100*746)/(n*1000)#  input  of  motor  in  kW\n",
      "mod=wdd/4500#  in  hp\n",
      "mid=(mod*100*746)/(n*1000)#  input  of  motor  in  kW\n",
      "tc=miu+mid#total  energy  consumption  in  kW\n",
      "Eh=tc*10#total  energy  consuption  per  hour\n",
      "rate=40#rate  in  paisa\n",
      "ce=Eh*(rate/100)#cost  of  energy  in  rupees\n",
      "\n",
      "#Results\n",
      "print  \"(a1)BHP  of  the  motor  in  upward  journey  in  hp\",mou \n",
      "print  \"(a2)BHP  of  the  motor  in  downward  journey  in  hp\",mod\n",
      "print  \"(b)cost  of  energy  in  rupees  is\" ,ce"
     ],
     "language": "python",
     "metadata": {},
     "outputs": [
      {
       "output_type": "stream",
       "stream": "stdout",
       "text": [
        "(a1)BHP  of  the  motor  in  upward  journey  in  hp 100.0\n",
        "(a2)BHP  of  the  motor  in  downward  journey  in  hp 50.0\n",
        "(b)cost  of  energy  in  rupees  is 559.5\n"
       ]
      }
     ],
     "prompt_number": 12
    }
   ],
   "metadata": {}
  }
 ]
}