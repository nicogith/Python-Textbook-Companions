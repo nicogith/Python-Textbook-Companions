{
 "metadata": {
  "name": "",
  "signature": "sha256:72dd78c95491da01bae8bb6c19d6c9d27dd9551ab7b871373157d8e61c931719"
 },
 "nbformat": 3,
 "nbformat_minor": 0,
 "worksheets": [
  {
   "cells": [
    {
     "cell_type": "heading",
     "level": 1,
     "metadata": {},
     "source": [
      "Introductions"
     ]
    }
   ],
   "metadata": {}
  }
 ]
}