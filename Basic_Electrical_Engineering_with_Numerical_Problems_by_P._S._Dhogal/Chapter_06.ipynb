{
 "metadata": {
  "name": "",
  "signature": "sha256:574b119cc7251d26efe27fb23031d2a66fe48006b301b495653100a11e0e2a3e"
 },
 "nbformat": 3,
 "nbformat_minor": 0,
 "worksheets": [
  {
   "cells": [
    {
     "cell_type": "heading",
     "level": 1,
     "metadata": {},
     "source": [
      "Chapter 6: Magnetism, Electromagnetism and Electromagnetic Induction"
     ]
    },
    {
     "cell_type": "heading",
     "level": 3,
     "metadata": {},
     "source": [
      "Example 6.1: page 99:"
     ]
    },
    {
     "cell_type": "code",
     "collapsed": false,
     "input": [
      "\n",
      "from __future__ import division\n",
      "import math\n",
      "\n",
      "#given data:\n",
      "I=1.5#  in  amperes\n",
      "n=50  #turns\n",
      "l=0.25#length  of  coil  in  meter\n",
      "\n",
      "#calculations:\n",
      "H=(I*n)/l#field  strength  in  ampere-turns/m\n",
      "\n",
      "#Results\n",
      "print  \"field  strength  in  ampere-turns/m is\",H"
     ],
     "language": "python",
     "metadata": {},
     "outputs": [
      {
       "output_type": "stream",
       "stream": "stdout",
       "text": [
        "field  strength  in  ampere-turns/m is 300.0\n"
       ]
      }
     ],
     "prompt_number": 1
    },
    {
     "cell_type": "heading",
     "level": 3,
     "metadata": {},
     "source": [
      "Example 6.2: page 100:"
     ]
    },
    {
     "cell_type": "code",
     "collapsed": false,
     "input": [
      "\n",
      "from __future__ import division\n",
      "import math\n",
      "\n",
      "#given data:\n",
      "I=70  #  in  amperes\n",
      "B=0.4#flus  density  in  Wb/m**2\n",
      "n=1    #turns\n",
      "\n",
      "#calculations:\n",
      "F=B*n*I#  in  newton\n",
      "\n",
      "#Results\n",
      "print  \"force  in  newtons  is\", F"
     ],
     "language": "python",
     "metadata": {},
     "outputs": [
      {
       "output_type": "stream",
       "stream": "stdout",
       "text": [
        "force  in  newtons  is 28.0\n"
       ]
      }
     ],
     "prompt_number": 2
    },
    {
     "cell_type": "heading",
     "level": 3,
     "metadata": {},
     "source": [
      "Example 6.3: page 104:"
     ]
    },
    {
     "cell_type": "code",
     "collapsed": false,
     "input": [
      "\n",
      "from __future__ import division\n",
      "import math\n",
      "\n",
      "#given data:\n",
      "b=2    #in  Wb/m**2\n",
      "l=6    #in  cm\n",
      "s=0.75#in  m's\n",
      "alpha=90#\n",
      "\n",
      "#calculations:\n",
      "emf=b*l*s*(math.sin(alpha*math.pi/180))#\n",
      "\n",
      "#Results\n",
      "print  \"emf  induced  in  volts  is\",emf"
     ],
     "language": "python",
     "metadata": {},
     "outputs": [
      {
       "output_type": "stream",
       "stream": "stdout",
       "text": [
        "emf  induced  in  volts  is 9.0\n"
       ]
      }
     ],
     "prompt_number": 3
    }
   ],
   "metadata": {}
  }
 ]
}