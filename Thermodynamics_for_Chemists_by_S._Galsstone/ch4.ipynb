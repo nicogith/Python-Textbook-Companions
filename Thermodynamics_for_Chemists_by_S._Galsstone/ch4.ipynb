{
 "metadata": {
  "name": "",
  "signature": "sha256:17fe11bebdee4f72db68fc477ded3a039f0dd502d606be55f2589ab50a034b6b"
 },
 "nbformat": 3,
 "nbformat_minor": 0,
 "worksheets": [
  {
   "cells": [
    {
     "cell_type": "heading",
     "level": 1,
     "metadata": {},
     "source": [
      "Chapter 4 : Heat changes and heat capacities"
     ]
    },
    {
     "cell_type": "heading",
     "level": 2,
     "metadata": {},
     "source": [
      "Example 4.1 Page No : 54"
     ]
    },
    {
     "cell_type": "code",
     "collapsed": false,
     "input": [
      "\n",
      "# Variables\n",
      "T1 = 400.    \t\t\t#K\n",
      "T2 = 300. \t    \t\t#K\n",
      "k1 = 6.095 \t\t    \t#cal mole**-1 K**-1\n",
      "k2 = 3.253*10**-3 \t\t\t#cal mole**-1 K**-2\n",
      "k3 = -1.017*10**-6 \t\t\t#cal mole**-1 K**-3\n",
      "\n",
      "# Calculations\n",
      "dH = k1*(T1-T2)+0.5*k2*(T1**2-T2**2)+(1./3)*k3*(T1**3-T2**3)\n",
      "\n",
      "# Results\n",
      "print  'Heat required to raise the temperature  = %d cal-mole**-1'%(dH)\n"
     ],
     "language": "python",
     "metadata": {},
     "outputs": [
      {
       "output_type": "stream",
       "stream": "stdout",
       "text": [
        "Heat required to raise the temperature  = 710 cal-mole**-1\n"
       ]
      }
     ],
     "prompt_number": 2
    },
    {
     "cell_type": "heading",
     "level": 2,
     "metadata": {},
     "source": [
      "Example 4.2 Page No : 56"
     ]
    },
    {
     "cell_type": "code",
     "collapsed": false,
     "input": [
      "\n",
      "# Variables\n",
      "p1 = 10. \t\t\t#atm\n",
      "p2 = 1. \t\t\t#atm\n",
      "T1 = 25. \t\t\t#C\n",
      "n = 2/5.\n",
      "\n",
      "# Calculations\n",
      "T2 = (p1/p2)**n*(273+T1)-273\n",
      "\n",
      "# Results\n",
      "print  'Final temperature  = %.f C'%(T2)\n"
     ],
     "language": "python",
     "metadata": {},
     "outputs": [
      {
       "output_type": "stream",
       "stream": "stdout",
       "text": [
        "Final temperature  = 476 C\n"
       ]
      }
     ],
     "prompt_number": 2
    },
    {
     "cell_type": "heading",
     "level": 2,
     "metadata": {},
     "source": [
      "Example 4.3 Page No : 57"
     ]
    },
    {
     "cell_type": "code",
     "collapsed": false,
     "input": [
      "\n",
      "# Variables\n",
      "p1 = 20. \t\t\t#atm\n",
      "p2 = 200. \t\t\t#atm\n",
      "T1 = 25. \t\t\t#C\n",
      "n = 2/7.\n",
      "\n",
      "# Calculations\n",
      "T2 = (p1/p2)**n*(273+T1)-273\n",
      "\n",
      "# Results\n",
      "print  'Final temperature  = %.f C'%(T2)\n"
     ],
     "language": "python",
     "metadata": {},
     "outputs": [
      {
       "output_type": "stream",
       "stream": "stdout",
       "text": [
        "Final temperature  = -119 C\n"
       ]
      }
     ],
     "prompt_number": 3
    },
    {
     "cell_type": "heading",
     "level": 2,
     "metadata": {},
     "source": [
      "Example 4.4 Page No : 58"
     ]
    },
    {
     "cell_type": "code",
     "collapsed": false,
     "input": [
      "\n",
      "# Variables\n",
      "Cv = 5*4.18*10**7 \t\t\t#ergs deg**-1 mole**-1\n",
      "T1 = 25. \t\t\t#C\n",
      "P2 = 5. \t\t\t#atm\n",
      "P1 = 1. \t\t\t#atm\n",
      "n = 2./7\n",
      "\n",
      "# Calculations\n",
      "W = Cv*(273+T1)*(1-(P2/P1)**n)\n",
      "\n",
      "# Results\n",
      "print  'Work of expansion  = %.2e ergs mole**-1'%(W)\n"
     ],
     "language": "python",
     "metadata": {},
     "outputs": [
      {
       "output_type": "stream",
       "stream": "stdout",
       "text": [
        "Work of expansion  = -3.64e+10 ergs mole**-1\n"
       ]
      }
     ],
     "prompt_number": 4
    },
    {
     "cell_type": "heading",
     "level": 2,
     "metadata": {},
     "source": [
      "Example 4.5 Page No : 64"
     ]
    },
    {
     "cell_type": "code",
     "collapsed": false,
     "input": [
      "\n",
      "# Variables\n",
      "Ti = 25. \t\t\t#C\n",
      "p = 200. \t\t\t#atm\n",
      "p = 1.   \t\t\t#atm\n",
      "dT = 31 \t\t\t#C \n",
      "\n",
      "# Calculations\n",
      "Tf = Ti-dT\n",
      "\n",
      "# Results\n",
      "print  'Final temperature  = %.f degrees'%(Tf)\n"
     ],
     "language": "python",
     "metadata": {},
     "outputs": [
      {
       "output_type": "stream",
       "stream": "stdout",
       "text": [
        "Final temperature  = -6 degrees\n"
       ]
      }
     ],
     "prompt_number": 5
    },
    {
     "cell_type": "heading",
     "level": 2,
     "metadata": {},
     "source": [
      "Example 4.6 Page No : 65"
     ]
    },
    {
     "cell_type": "code",
     "collapsed": false,
     "input": [
      "\n",
      "# Variables\n",
      "k1 = 6.45       \t\t\t#cal deg**-1 mol**-1\n",
      "k2 = 1.41*10**-3 \t\t\t#cal deg**-2 mol**-1\n",
      "k3 = -0.81*10**-7 \t\t\t#cal deg**-3 mol**-1\n",
      "T = 300 \t\t        \t#K\n",
      "k4 = -0.21*1.36 \t\t\t#cal deg**-3 mol**-1 atm**-1\n",
      "k5 = 6.87*1.5\t\t\t    #cal deg**-3 mol**-1 atm**-2\n",
      "p = 10**-3\n",
      "\n",
      "# Calculations\n",
      "Cp = k1+k2*T+k3*T**2\n",
      "dCp = k2+2*k3*T\n",
      "dCp1 = k4*p+k5*p\n",
      "\n",
      "# Results\n",
      "print  'Cp  = %.2f cal deg**-1 mole**-1'%(Cp)\n",
      "print  ' Specific heat at temperature  = %.2e cal deg**-2 mole**-1'%(dCp)\n",
      "print  ' Specific heat at pressure  = %.2e cal deg**-2 mole**-1 atm**-1'%(dCp1)\n"
     ],
     "language": "python",
     "metadata": {},
     "outputs": [
      {
       "output_type": "stream",
       "stream": "stdout",
       "text": [
        "Cp  = 6.87 cal deg**-1 mole**-1\n",
        " Specific heat at temperature  = 1.36e-03 cal deg**-2 mole**-1\n",
        " Specific heat at pressure  = 1.00e-02 cal deg**-2 mole**-1 atm**-1\n"
       ]
      }
     ],
     "prompt_number": 6
    },
    {
     "cell_type": "code",
     "collapsed": false,
     "input": [],
     "language": "python",
     "metadata": {},
     "outputs": []
    }
   ],
   "metadata": {}
  }
 ]
}