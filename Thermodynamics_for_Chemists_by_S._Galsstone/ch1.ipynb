{
 "metadata": {
  "name": "",
  "signature": "sha256:6bc091a7df60a18f534957b667a129c222bd914be53352e82176eb63d1e4fae8"
 },
 "nbformat": 3,
 "nbformat_minor": 0,
 "worksheets": [
  {
   "cells": [
    {
     "cell_type": "heading",
     "level": 1,
     "metadata": {},
     "source": [
      "Chapter 1 : Heat work and energy"
     ]
    },
    {
     "cell_type": "heading",
     "level": 2,
     "metadata": {},
     "source": [
      "Example 1.1 Page No : 7"
     ]
    },
    {
     "cell_type": "code",
     "collapsed": false,
     "input": [
      "\n",
      "# Variables\n",
      "q = 26.45 \t\t\t#coloumbs\n",
      "e = 2.432 \t\t\t#volts\n",
      "\n",
      "# Calculations\n",
      "Q1 = q*e\n",
      "Q2 = Q1*1.0002*10**7\n",
      "\n",
      "# Results\n",
      "print  'Energy expenditure in joules  = %.2f int.joules'%(Q1)\n",
      "print  ' Energy expenditure in ergs  = %.2e ergs'%(Q2)\n"
     ],
     "language": "python",
     "metadata": {},
     "outputs": [
      {
       "output_type": "stream",
       "stream": "stdout",
       "text": [
        "Energy expenditure in joules  = 64.33 int.joules\n",
        " Energy expenditure in ergs  = 6.43e+08 ergs\n"
       ]
      }
     ],
     "prompt_number": 2
    },
    {
     "cell_type": "heading",
     "level": 2,
     "metadata": {},
     "source": [
      "Example 1.2 Page No : 9"
     ]
    },
    {
     "cell_type": "code",
     "collapsed": false,
     "input": [
      "\n",
      "# Variables\n",
      "I = 0.565 \t\t\t#amp\n",
      "R = 15.43 \t\t\t#ohms\n",
      "t = 185 \t\t\t#secs\n",
      "Tr = 0.544 \t\t\t#C\n",
      "\n",
      "# Calculations\n",
      "Q1 = I**2*R*t\n",
      "Q2 = I**2*R*t/Tr\n",
      "\n",
      "# Results\n",
      "print  'Heat capacity  = %.f int.joules deg**-1'%(Q2)\n",
      "\n"
     ],
     "language": "python",
     "metadata": {},
     "outputs": [
      {
       "output_type": "stream",
       "stream": "stdout",
       "text": [
        "Heat capacity  = 1675 int.joules deg**-1\n"
       ]
      }
     ],
     "prompt_number": 2
    },
    {
     "cell_type": "heading",
     "level": 2,
     "metadata": {},
     "source": [
      "Example 1.3 Page No : 10"
     ]
    },
    {
     "cell_type": "code",
     "collapsed": false,
     "input": [
      "\n",
      "# Variables\n",
      "I = 0.565 \t\t\t#amp\n",
      "R = 15.43 \t\t\t#ohms\n",
      "t = 185   \t\t\t#secs\n",
      "Tr = 0.544 \t\t\t#C\n",
      "\n",
      "# Calculations\n",
      "Q1 = I**2*R*t\n",
      "Q2 = I**2*R*t/(Tr*4.183)\n",
      "\n",
      "# Results\n",
      "print  'Heat capacity  = %.1f calories'%(Q2)\n",
      "\n"
     ],
     "language": "python",
     "metadata": {},
     "outputs": [
      {
       "output_type": "stream",
       "stream": "stdout",
       "text": [
        "Heat capacity  = 400.4 calories\n"
       ]
      }
     ],
     "prompt_number": 3
    },
    {
     "cell_type": "heading",
     "level": 2,
     "metadata": {},
     "source": [
      "Example 1.4 Page No : 11"
     ]
    },
    {
     "cell_type": "code",
     "collapsed": false,
     "input": [
      "\n",
      "# Variables\n",
      "v = 1.    \t\t\t#lit\n",
      "p = 1. \t    \t\t#atm\n",
      "h = 76.   \t\t\t#cm\n",
      "d = 13.595 \t\t\t#kg/cm**3\n",
      "g = 980.66 \t\t\t#dunes cm**-2\n",
      "j = 4.18 \t\t\t#joules\n",
      "\n",
      "# Calculations\n",
      "W = v*p\n",
      "W1 = h*d*g\n",
      "W2 = W1*10**-4\n",
      "W3 = W2/j\n",
      "\n",
      "# Results\n",
      "print  'Work done in lit-atm  = %.f lit-atm'%(W)\n",
      "print  ' Work done in dynes  = %.2e dynes cm**-2'%(W1)\n",
      "print  ' Work done in ergs  = %.2e ergs'%(W2)\n",
      "print  ' Work done in calories  = %.2f calories'%(W3)\n"
     ],
     "language": "python",
     "metadata": {},
     "outputs": [
      {
       "output_type": "stream",
       "stream": "stdout",
       "text": [
        "Work done in lit-atm  = 1 lit-atm\n",
        " Work done in dynes  = 1.01e+06 dynes cm**-2\n",
        " Work done in ergs  = 1.01e+02 ergs\n",
        " Work done in calories  = 24.24 calories\n"
       ]
      }
     ],
     "prompt_number": 4
    },
    {
     "cell_type": "code",
     "collapsed": false,
     "input": [],
     "language": "python",
     "metadata": {},
     "outputs": []
    }
   ],
   "metadata": {}
  }
 ]
}