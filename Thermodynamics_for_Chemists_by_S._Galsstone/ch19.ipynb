{
 "metadata": {
  "name": "",
  "signature": "sha256:2af58c41d3e9a37ed73ccccf2f28cbf6901991c8026760ee1d6bb639ca43e341"
 },
 "nbformat": 3,
 "nbformat_minor": 0,
 "worksheets": [
  {
   "cells": [
    {
     "cell_type": "heading",
     "level": 1,
     "metadata": {},
     "source": [
      "Chapter 19 : EMF and the thermodynamics of ions"
     ]
    },
    {
     "cell_type": "heading",
     "level": 2,
     "metadata": {},
     "source": [
      "Example 19.1 Page No : 466"
     ]
    },
    {
     "cell_type": "code",
     "collapsed": false,
     "input": [
      "\n",
      "# Variables\n",
      "h = 23070. \t\t\t#cal volt**-1 g equiv**-1\n",
      "n = 2.   \t\t\t#electrons\n",
      "e = 1.005 \t\t\t#volts\n",
      "T = 25. \t\t\t#C\n",
      "e1 = 1.015 \t\t\t#volts\n",
      "\n",
      "# Calculations\n",
      "dH = (-n*h*(e-((273.2+T)*(e-e1)/T)))/1000\n",
      "\n",
      "# Results\n",
      "print  'Heat change in the cell reaction  = %.2f kcal'%(dH)\n"
     ],
     "language": "python",
     "metadata": {},
     "outputs": [
      {
       "output_type": "stream",
       "stream": "stdout",
       "text": [
        "Heat change in the cell reaction  = -51.87 kcal\n"
       ]
      }
     ],
     "prompt_number": 1
    },
    {
     "cell_type": "heading",
     "level": 2,
     "metadata": {},
     "source": [
      "Example 19.2 Page No : 482"
     ]
    },
    {
     "cell_type": "code",
     "collapsed": false,
     "input": [
      "\n",
      "# Variables\n",
      "E = -0.344   \t\t\t#volt\n",
      "E1 = -0.401 \t\t\t#volt\n",
      "R = 0.05914 \t\t\t#volt\n",
      "n = 4.\n",
      "T = 25. \t    \t\t#C\n",
      "H = -7300. \t\t    \t#cal\n",
      "\n",
      "# Calculations\n",
      "po2 = 10**(-n*(E-E1)/R)\n",
      "dH = -0.5*n*H+0.5*n*(273+T)\n",
      "\n",
      "# Results\n",
      "print  'Pressure of Oxygen  = %.1e atm'%(po2)\n",
      "print  ' Change in Enthalpy  = %.f cal'%(dH+4)\n"
     ],
     "language": "python",
     "metadata": {},
     "outputs": [
      {
       "output_type": "stream",
       "stream": "stdout",
       "text": [
        "Pressure of Oxygen  = 1.4e-04 atm\n",
        " Change in Enthalpy  = 15200 cal\n"
       ]
      }
     ],
     "prompt_number": 2
    },
    {
     "cell_type": "heading",
     "level": 2,
     "metadata": {},
     "source": [
      "Example 19.3 Page No : 489"
     ]
    },
    {
     "cell_type": "code",
     "collapsed": false,
     "input": [
      "\n",
      "# Variables\n",
      "H = -60.15 \t\t\t#kcal\n",
      "e = 2.924 \t\t\t#volt\n",
      "v = 23070. \t\t\t#cc\n",
      "T = 25. \t\t\t#C\n",
      "Sm = 15.2 \t\t\t#E.U.mole**-1\n",
      "Sg = 31.2 \t\t\t#E.U.mole**-1\n",
      "\n",
      "# Calculations\n",
      "dS = (H*1000-(-e*v))/(273.2+T)\n",
      "Sk = (dS+Sm)-0.5*Sg\n",
      "\n",
      "# Results\n",
      "print  'Standard entropy of pottasium ion   = %.1f E.U.g ion**-1'%(Sk)\n"
     ],
     "language": "python",
     "metadata": {},
     "outputs": [
      {
       "output_type": "stream",
       "stream": "stdout",
       "text": [
        "Standard entropy of pottasium ion   = 24.1 E.U.g ion**-1\n"
       ]
      }
     ],
     "prompt_number": 4
    },
    {
     "cell_type": "heading",
     "level": 2,
     "metadata": {},
     "source": [
      "Example 19.4 Page No : 490"
     ]
    },
    {
     "cell_type": "code",
     "collapsed": false,
     "input": [
      "\n",
      "# Variables\n",
      "dS = -4.61 \t\t\t#E.Ugm ion**-1\n",
      "SH = 31.21 \t\t\t#E.U gm ion**-1\n",
      "Sm = 9.95 \t\t\t#E.U gm ion**-1\n",
      "\n",
      "# Calculations\n",
      "Szn = dS-SH+Sm\n",
      "\n",
      "# Results\n",
      "print  'Standard entropy of zinc ion   = %.1f E.U.g ion**-1'%(Szn)\n"
     ],
     "language": "python",
     "metadata": {},
     "outputs": [
      {
       "output_type": "stream",
       "stream": "stdout",
       "text": [
        "Standard entropy of zinc ion   = -25.9 E.U.g ion**-1\n"
       ]
      }
     ],
     "prompt_number": 5
    },
    {
     "cell_type": "heading",
     "level": 2,
     "metadata": {},
     "source": [
      "Example 19.5 Page No : 491"
     ]
    },
    {
     "cell_type": "code",
     "collapsed": false,
     "input": [
      "\n",
      "# Variables\n",
      "import math \n",
      "n = 2.\n",
      "T = 25. \t\t\t#C\n",
      "R = 4.576 \n",
      "is_ = 9.57*10**-6\n",
      "n1 = 4.\n",
      "f = 0.509 \t\t\t#volts\n",
      "dH = 5970. \t\t\t#cal\n",
      "SBa = 2.3 \t\t\t#E.U. gm ion**-1\n",
      "Sba = 31.5 \t\t\t#E.U. gm ion6-1\n",
      "\n",
      "# Calculations\n",
      "r = 10**(-n1*f*math.sqrt(n1*is_))\n",
      "dF = -n*R*(273.2+T)*math.log10(is_*r)\n",
      "dS = (dH-dF)/(273.2+T)\n",
      "Sso = Sba-SBa+dS\n",
      "\n",
      "# Results\n",
      "print  'Standard entropy of sulfate ion   = %.1f E.U.g ion**-1'%(Sso)\n"
     ],
     "language": "python",
     "metadata": {},
     "outputs": [
      {
       "output_type": "stream",
       "stream": "stdout",
       "text": [
        "Standard entropy of sulfate ion   = 3.2 E.U.g ion**-1\n"
       ]
      }
     ],
     "prompt_number": 7
    },
    {
     "cell_type": "heading",
     "level": 2,
     "metadata": {},
     "source": [
      "Example 19.6 Page No : 496"
     ]
    },
    {
     "cell_type": "code",
     "collapsed": false,
     "input": [
      "\n",
      "# Variables\n",
      "f1 = 20.66 \t\t\t#kcal\n",
      "h1 = 21.6 \t\t\t#kcal\n",
      "e1 = 50.34 \t\t\t#kcal\n",
      "f2 = 0   \t\t\t#kcal\n",
      "f3 = -56.70 \t\t\t#kcal\n",
      "f4 = -26.25 \t\t\t#kcal\n",
      "h2 = 0 \t    \t\t#kcal\n",
      "h3 = -68.32 \t\t\t#kcal\n",
      "h4 = -49.5 \t\t\t#kcal\n",
      "e2 = 49.00 \t\t\t#kcal\n",
      "e3 = 16.75 \t\t\t#kcal\n",
      "e4 = 35 \t\t\t#kcal\n",
      "n1 = 2\n",
      "n2 = 1.5\n",
      "n3 = 1\n",
      "T = 25 \t\t\t#C\n",
      "\n",
      "# Calculations\n",
      "dF = n1*f4-(n1*f1+f3)\n",
      "dH = n1*h4-(n1*h1+h3)\n",
      "dS = n1*e4-(n1*e1+e3+n2*e2)\n",
      "dS1 = (dH-dF)*1000/(273.2+T)\n",
      "\n",
      "# Results\n",
      "print  'free energy   = %.2f kcal'%(dF)\n",
      "print  ' heat of formation   = %.1f kcal'%(dH)\n",
      "print  ' Entropy  = %.1f E.U'%(dS)\n",
      "print  ' Entropy umath.sing heat of formation and free energy   = %.1f E.U'%(dS1)\n"
     ],
     "language": "python",
     "metadata": {},
     "outputs": [
      {
       "output_type": "stream",
       "stream": "stdout",
       "text": [
        "free energy   = -37.12 kcal\n",
        " heat of formation   = -73.9 kcal\n",
        " Entropy  = -120.9 E.U\n",
        " Entropy umath.sing heat of formation and free energy   = -123.3 E.U\n"
       ]
      }
     ],
     "prompt_number": 8
    },
    {
     "cell_type": "code",
     "collapsed": false,
     "input": [],
     "language": "python",
     "metadata": {},
     "outputs": []
    }
   ],
   "metadata": {}
  }
 ]
}