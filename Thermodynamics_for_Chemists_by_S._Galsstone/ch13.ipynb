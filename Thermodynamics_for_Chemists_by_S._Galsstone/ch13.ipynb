{
 "metadata": {
  "name": "",
  "signature": "sha256:acd91289e0ae9fe9e2bc3339cdf9c4eec3f5bc3e39c8f68c1c64dee935af52c5"
 },
 "nbformat": 3,
 "nbformat_minor": 0,
 "worksheets": [
  {
   "cells": [
    {
     "cell_type": "heading",
     "level": 1,
     "metadata": {},
     "source": [
      "Chapter 13 : Free Energy and Chemical Reactions"
     ]
    },
    {
     "cell_type": "heading",
     "level": 2,
     "metadata": {},
     "source": [
      "Example 13.1 Page No : 285"
     ]
    },
    {
     "cell_type": "code",
     "collapsed": false,
     "input": [
      "\n",
      "# Variables\n",
      "import math \n",
      "R = 4.576 \t\t\t#cal deg**-1 mole**-1\n",
      "T = 700 \t\t\t#C\n",
      "Kp = 0.71\n",
      "p1 = 1.5 \t\t\t#atm\n",
      "p2 = 5   \t\t\t#atm\n",
      "\n",
      "# Calculations\n",
      "dF = -R*(273+T)*(math.log(Kp)-math.log((p1*p2)/(10*p2)))*0.77\n",
      "\n",
      "# Results\n",
      "print  'Free energy  = %.f cal'%(dF-10)\n"
     ],
     "language": "python",
     "metadata": {},
     "outputs": [
      {
       "output_type": "stream",
       "stream": "stdout",
       "text": [
        "Free energy  = -5340 cal\n"
       ]
      }
     ],
     "prompt_number": 1
    },
    {
     "cell_type": "heading",
     "level": 2,
     "metadata": {},
     "source": [
      "Example 13.1.1  Page no : 287"
     ]
    },
    {
     "cell_type": "code",
     "collapsed": false,
     "input": [
      "import math\n",
      "\n",
      "# variables and calculations\n",
      "\n",
      "# for CO2\n",
      "Tc = 304.      #K\n",
      "Pc = 72.9       # atm\n",
      "a = 873.       # K\n",
      "b = 500.       # atm\n",
      "\n",
      "theta1 = a/Tc\n",
      "pi2 = b/Pc\n",
      "YCO2 = 1.09\n",
      "\n",
      "# for H2\n",
      "Tc = 33.2      #K\n",
      "Pc = 12.8       # atm\n",
      "\n",
      "theta1 = a/(Tc+8)\n",
      "pi2 = b/(Pc+8)\n",
      "YH2 = 1.10\n",
      "\n",
      "# for CO\n",
      "Tc = 134.      #K\n",
      "Pc = 34.6       # atm\n",
      "\n",
      "theta1 = a/Tc\n",
      "pi2 = b/Pc\n",
      "YCO = 1.23\n",
      "\n",
      "# for H20\n",
      "Tc = 647.      #K\n",
      "Pc = 218       # atm\n",
      "\n",
      "theta1 = a/Tc\n",
      "pi2 = b/Pc\n",
      "YHO2 = 0.77\n",
      "\n",
      "Jy = YCO2*YH2/(YCO*YHO2)\n",
      "# results\n",
      "print \"Jy = %.2f\"%Jy\n",
      "\n"
     ],
     "language": "python",
     "metadata": {},
     "outputs": [
      {
       "output_type": "stream",
       "stream": "stdout",
       "text": [
        "Jy = 1.27\n"
       ]
      }
     ],
     "prompt_number": 2
    },
    {
     "cell_type": "heading",
     "level": 2,
     "metadata": {},
     "source": [
      "Example 13.2 Page No : 293"
     ]
    },
    {
     "cell_type": "code",
     "collapsed": false,
     "input": [
      "\n",
      "# Variables\n",
      "import math \n",
      "k1 = 4600.\n",
      "k2 = -8.64\n",
      "k3 = 1.86*10**-3\n",
      "k4 = -0.12*10**-6\n",
      "k5 = 12.07\n",
      "T = 600. \t\t\t#K\n",
      "\n",
      "# Calculations\n",
      "Kf = math.e**(k1*(1/T)+k2*math.log10(T)+k3*T+k4*T**2+k5)\n",
      "\n",
      "# Results\n",
      "print  'Kf  = %.3f '%(Kf)\n"
     ],
     "language": "python",
     "metadata": {},
     "outputs": [
      {
       "output_type": "stream",
       "stream": "stdout",
       "text": [
        "Kf  = 0.041 \n"
       ]
      }
     ],
     "prompt_number": 4
    },
    {
     "cell_type": "heading",
     "level": 2,
     "metadata": {},
     "source": [
      "Example 13.3 Page No : 294"
     ]
    },
    {
     "cell_type": "code",
     "collapsed": false,
     "input": [
      "\n",
      "# Variables\n",
      "import math \n",
      "k = -8810 \t\t\t#cal\n",
      "k1 = -7.46 \t\t\t#cal K**-1\n",
      "k2 = 3.69*10**-3 \t\t\t#cal K**-2\n",
      "k3 = -0.47*10**-6 \t\t\t#cak K**-3\n",
      "T = 298 \t\t\t#K\n",
      "\n",
      "# Calculations\n",
      "dH = k+k1*T+k2*T**2+k3*T**3\n",
      "\n",
      "# Results\n",
      "print  'Standard heat of reaction  = %.f cal'%(dH)\n"
     ],
     "language": "python",
     "metadata": {},
     "outputs": [
      {
       "output_type": "stream",
       "stream": "stdout",
       "text": [
        "Standard heat of reaction  = -10718 cal\n"
       ]
      }
     ],
     "prompt_number": 5
    },
    {
     "cell_type": "heading",
     "level": 2,
     "metadata": {},
     "source": [
      "Example 13.4 Page No : 296"
     ]
    },
    {
     "cell_type": "code",
     "collapsed": false,
     "input": [
      "\n",
      "# Variables\n",
      "import math \n",
      "k1 = -9130 \t\t\t#cal\n",
      "k2 = 7.46 \t\t\t#cal K**-1\n",
      "k3 = -3.69*10**-3 \t\t\t#K**-2\n",
      "k4 = 0.235*10**-6 \t\t\t#K**-3\n",
      "k5 = -12.07\n",
      "T = 298 \t\t\t#K\n",
      "R = 1.987 \t\t\t#cal deg**-1 mole**-1\n",
      "\n",
      "# Calculations\n",
      "dF = k1+k2*T*math.log(T)+k3*T**2+k4*T**3+k5*R*T\n",
      "\n",
      "# Results\n",
      "print  'Free energy  = %.f cal'%(dF)\n",
      "\n",
      "# rounding off error is there. please check.\n"
     ],
     "language": "python",
     "metadata": {},
     "outputs": [
      {
       "output_type": "stream",
       "stream": "stdout",
       "text": [
        "Free energy  = -3933 cal\n"
       ]
      }
     ],
     "prompt_number": 1
    },
    {
     "cell_type": "heading",
     "level": 2,
     "metadata": {},
     "source": [
      "Example 13.5 Page No : 297"
     ]
    },
    {
     "cell_type": "code",
     "collapsed": false,
     "input": [
      "\n",
      "# Variables\n",
      "T = 25       \t\t\t#C\n",
      "dF1 = 61.44 \t\t\t#kcal\n",
      "dF = 54.65 \t\t\t#kcal\n",
      "R = 4.576 \t\t\t#cal deg**-1 mole**-1\n",
      "\n",
      "# Calculations\n",
      "Kf = 10**(-(dF1-dF)*10**3/(R*(273.2+T)))\n",
      "\n",
      "# Results\n",
      "print  'Kf at this temperature  = %.2e '%(Kf)\n"
     ],
     "language": "python",
     "metadata": {},
     "outputs": [
      {
       "output_type": "stream",
       "stream": "stdout",
       "text": [
        "Kf at this temperature  = 1.06e-05 \n"
       ]
      }
     ],
     "prompt_number": 7
    },
    {
     "cell_type": "heading",
     "level": 2,
     "metadata": {},
     "source": [
      "Example 13.6 Page No : 300"
     ]
    },
    {
     "cell_type": "code",
     "collapsed": false,
     "input": [
      "\n",
      "# Variables\n",
      "import math \n",
      "R = 4.576 \t\t\t#cal mole**-1 K**-1\n",
      "T = 25. \t\t\t#C\n",
      "p1 = 122. \t\t\t#mm\n",
      "F1 = -5.88 \t\t\t#kcal\n",
      "F2 = -33 \t\t\t#kcal\n",
      "\n",
      "# Calculations\n",
      "dF = R*(273.2+T)*math.log10(p1/760)\n",
      "F = F2+F1+(dF/1000)\n",
      "\n",
      "# Results\n",
      "print  'Standard free energy change  = %.f kcal'%(F)\n"
     ],
     "language": "python",
     "metadata": {},
     "outputs": [
      {
       "output_type": "stream",
       "stream": "stdout",
       "text": [
        "Standard free energy change  = -40 kcal\n"
       ]
      }
     ],
     "prompt_number": 10
    },
    {
     "cell_type": "heading",
     "level": 2,
     "metadata": {},
     "source": [
      "Example 13.7 Page No : 303"
     ]
    },
    {
     "cell_type": "code",
     "collapsed": false,
     "input": [
      "\n",
      "# Variables\n",
      "r = 3.38*10**-4 \t\t\t#volt deg**-1\n",
      "F = 23070.       \t\t\t#cal volt**-1 deg**-1\n",
      "Sagcl = 23 \t        \t\t#E.U.mole**-1\n",
      "Shg = 18.5 \t        \t\t#E.U.mole**-1\n",
      "Sag = 10.2 \t\t        \t#E.U.mole**-1\n",
      "\n",
      "# Calculations\n",
      "dS = F*r\n",
      "shgcl = 2*-(dS-Sagcl-Shg+Sag)\n",
      "\n",
      "# Results\n",
      "print  'dS   = %.1f E.U.cal deg**-1'%(dS)\n",
      "print  ' molar entropy   = %.f E.U.mole**-1'%(shgcl)\n",
      "\n"
     ],
     "language": "python",
     "metadata": {},
     "outputs": [
      {
       "output_type": "stream",
       "stream": "stdout",
       "text": [
        "dS   = 7.8 E.U.cal deg**-1\n",
        " molar entropy   = 47 E.U.mole**-1\n"
       ]
      }
     ],
     "prompt_number": 11
    },
    {
     "cell_type": "heading",
     "level": 2,
     "metadata": {},
     "source": [
      "Example 13.8 Page No : 304"
     ]
    },
    {
     "cell_type": "code",
     "collapsed": false,
     "input": [
      "\n",
      "# Variables\n",
      "s1 = 44.5 \t\t\t#cal deg**-1 mole**-1\n",
      "s2 = 49 \t\t\t#cal deg**-1 mole**-1\n",
      "s3 = 51.06 \t\t\t#cal deg**-1 mole**-1\n",
      "s4 = 16.75 \t\t\t#cal deg**-1 mole**-1\n",
      "h1 = -17.9 \t\t\t#kcal mole**-1\n",
      "h2 = 0 \t\t\t#kcal mole**-1\n",
      "h3 = -94 \t\t\t#kcal mole**-1\n",
      "h4 = -68.3 \t\t\t#kcal mole**-1\n",
      "T = 25 \t\t\t#C\n",
      "n = 2\n",
      "\n",
      "# Calculations\n",
      "dS = s3+2*s4-s1-n*s2\n",
      "dH = h3+n*h4-h1-n*h2\n",
      "dF = -0.001*(273.2+T)*dS+dH\n",
      "\n",
      "# Results\n",
      "print  'Entropy Change  = %.1f E.U'%(dS)\n",
      "print  ' Enthalpy Change  = %.1f E.U'%(dH)\n",
      "print  ' Standard free energy  = %.1f kcal'%(dF)\n"
     ],
     "language": "python",
     "metadata": {},
     "outputs": [
      {
       "output_type": "stream",
       "stream": "stdout",
       "text": [
        "Entropy Change  = -57.9 E.U\n",
        " Enthalpy Change  = -212.7 E.U\n",
        " Standard free energy  = -195.4 kcal\n"
       ]
      }
     ],
     "prompt_number": 13
    },
    {
     "cell_type": "heading",
     "level": 2,
     "metadata": {},
     "source": [
      "Example 13.9 Page No : 304"
     ]
    },
    {
     "cell_type": "code",
     "collapsed": false,
     "input": [
      "\n",
      "# Variables\n",
      "import math \n",
      "a = -15.84 \n",
      "b = 22.84*10**-3\n",
      "c = -80.97*10**-7 \n",
      "T = 25. \t\t\t#C\n",
      "H1 = -48.1 \t\t\t#kcal\n",
      "H2 = -26.4\n",
      "dS = 53.09\n",
      "T1 = 327. \t\t\t#C\n",
      "r1 = 0.58\n",
      "r2 = 1.1\n",
      "r3 = 1.13\n",
      "\n",
      "# Calculations\n",
      "dH = round((H1-H2)*1000-a*(273.2+T)-0.5*b*(273.2+T)**2-0.33*c*(273.2+T)**3,-1)\n",
      "dF = round((H1-H2)*1000+(273.2+T)*dS,-1)\n",
      "I = (dF-dH+a*(273.2+T)*math.log(273.2+T)+0.5*b*(273.2+T)**2+0.166*c*(273.2+T)**3)/(273.2+T)\n",
      "dF1 = (dH-a*(273+T1)*math.log(273+T1)-0.5*b*(273+T1)**2-0.166*c*(273+T1)**3)+I*(273+T1)\n",
      "Kf = 10**(-dF1/(4.576*(273+T1)))\n",
      "Jr = r1/(r2**2*r3)\n",
      "Kp = Kf/Jr\n",
      "\n",
      "# Results\n",
      "print  'heat of formation  = %d cal'%(dH)\n",
      "print  ' Entropy  = %.f cal'%(dF)\n",
      "print  ' Inertia  = %.2f gm cm**2'%(I)\n",
      "print  ' Entropy  = %.f cal'%(dF1)\n",
      "print  ' Kf  = %.1e '%(Kf)\n",
      "print  ' Kp  = %.1e '%(Kp)\n",
      "\n",
      "# rounding off error is there. please check."
     ],
     "language": "python",
     "metadata": {},
     "outputs": [
      {
       "output_type": "stream",
       "stream": "stdout",
       "text": [
        "heat of formation  = -17920 cal\n",
        " Entropy  = -5870 cal\n",
        " Inertia  = -46.56 gm cm**2\n",
        " Entropy  = 11121 cal\n",
        " Kf  = 8.9e-05 \n",
        " Kp  = 2.1e-04 \n"
       ]
      }
     ],
     "prompt_number": 7
    },
    {
     "cell_type": "heading",
     "level": 2,
     "metadata": {},
     "source": [
      "Example 13.10 Page No : 309"
     ]
    },
    {
     "cell_type": "code",
     "collapsed": false,
     "input": [
      "\n",
      "# Variables\n",
      "F1 = 24.423\t\t\t#cal deg**-1\n",
      "F2 = 21.031 \t\t\t#cal deg**-1\n",
      "F3 = 37.172 \t\t\t#cal deg**-1\n",
      "H1 = 2.024 \t\t\t#kcal\n",
      "H2 = 1.035 \t\t\t#kcal\n",
      "H3 = 2.365 \t\t\t#kcal\n",
      "H = -57.8 \t\t\t#kcal\n",
      "T = 25.  \t\t\t#C\n",
      "\n",
      "# Calculations\n",
      "dF = F3-F1-F2\n",
      "dH = H3-H1-H2\n",
      "Hf = H-dH\n",
      "F = Hf-((273.2+T)*dF*10**-3) \n",
      "\n",
      "# Results\n",
      "print  'Standard free energy  = %.2f kcal'%(F)\n"
     ],
     "language": "python",
     "metadata": {},
     "outputs": [
      {
       "output_type": "stream",
       "stream": "stdout",
       "text": [
        "Standard free energy  = -54.64 kcal\n"
       ]
      }
     ],
     "prompt_number": 15
    },
    {
     "cell_type": "heading",
     "level": 2,
     "metadata": {},
     "source": [
      "Example 13.11 Page No : 311"
     ]
    },
    {
     "cell_type": "code",
     "collapsed": false,
     "input": [
      "\n",
      "# Variables\n",
      "import math \n",
      "T = 1000 \t\t\t    #C\n",
      "j = 1.5\n",
      "Q = 35840    \t\t\t#cal\n",
      "I = 743*10**-40 \t\t#g cm**2\n",
      "w = 214 \t    \t\t#cm**-2\n",
      "Kf = 0.184\n",
      "\n",
      "# Results\n",
      "print  'Equilibrium constant  = %.3f '%(Kf)\n",
      "\n",
      "# Note :NO SOLUTION IS GIVEN TO SOLVE Kf INCOMPLETE SOLUTION IN THE TEXTBOOK\n",
      "\n"
     ],
     "language": "python",
     "metadata": {},
     "outputs": [
      {
       "output_type": "stream",
       "stream": "stdout",
       "text": [
        "Equilibrium constant  = 0.184 \n"
       ]
      }
     ],
     "prompt_number": 17
    },
    {
     "cell_type": "heading",
     "level": 2,
     "metadata": {},
     "source": [
      "Example 13.12 Page No : 313"
     ]
    },
    {
     "cell_type": "code",
     "collapsed": false,
     "input": [
      "\n",
      "# Variables\n",
      "import math \n",
      "dH = 83 \t\t\t#cal\n",
      "R = 1.98 \t\t\t#cal mole K**-1\n",
      "T = 25 \t\t\t#C\n",
      "M1 = 128 \t\t\t#gms\n",
      "M2 = 4 \t\t\t#gms\n",
      "M3 = 2 \t\t\t#gms\n",
      "M4 = 129 \t\t\t#gms\n",
      "I1 = 4.31 \t\t\t#g cm**2\n",
      "I2 = 0.920 \t\t\t#g cm**2\n",
      "I3 = 0.459 \t\t\t#g cm**2\n",
      "I4 = 8.55 \t\t\t# g cm**2\n",
      "\n",
      "# Calculations\n",
      "K = 1+10**((-dH/(2.303*R*(298)))+1.5*math.log(M1**2*M2/(M3*M4**2))+math.log(I1**2*I2/(I3*I4**2)))\n",
      "\n",
      "# Results\n",
      "print  'Equilibrium constant  = %.1f '%(K)\n",
      "\n",
      "# note : rounding off error."
     ],
     "language": "python",
     "metadata": {},
     "outputs": [
      {
       "output_type": "stream",
       "stream": "stdout",
       "text": [
        "Equilibrium constant  = 1.2 \n"
       ]
      }
     ],
     "prompt_number": 13
    },
    {
     "cell_type": "code",
     "collapsed": false,
     "input": [],
     "language": "python",
     "metadata": {},
     "outputs": []
    }
   ],
   "metadata": {}
  }
 ]
}