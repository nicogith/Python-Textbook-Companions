{
 "metadata": {
  "name": "",
  "signature": "sha256:24358c055307caa3764298de0f3c55c7302f3945715dac67660be1528e9deeb6"
 },
 "nbformat": 3,
 "nbformat_minor": 0,
 "worksheets": [
  {
   "cells": [
    {
     "cell_type": "heading",
     "level": 1,
     "metadata": {},
     "source": [
      "Chapter 11 : Phase Equilibria"
     ]
    },
    {
     "cell_type": "heading",
     "level": 2,
     "metadata": {},
     "source": [
      "Example 11.1 Page No : 225"
     ]
    },
    {
     "cell_type": "code",
     "collapsed": false,
     "input": [
      "\n",
      "# Variables\n",
      "T = 0.       \t\t\t#C\n",
      "sv = 1.0001 \t\t\t#cc g**-1\n",
      "sv1 = 1.0907 \t\t\t#cc g**-1\n",
      "R = 0.0242 \t    \t\t#atm**-1 cc**-1 cal\n",
      "p = 79.8 \t\t    \t#atm\n",
      "\n",
      "# Calculations\n",
      "r = (273.2+T)*(sv-sv1)*R/p\n",
      "\n",
      "# Results\n",
      "print  'rate of change of melting point  = %.4f deg atm**-1'%(r)\n"
     ],
     "language": "python",
     "metadata": {},
     "outputs": [
      {
       "output_type": "stream",
       "stream": "stdout",
       "text": [
        "rate of change of melting point  = -0.0075 deg atm**-1\n"
       ]
      }
     ],
     "prompt_number": 1
    },
    {
     "cell_type": "heading",
     "level": 2,
     "metadata": {},
     "source": [
      "Example 11.2 Page No : 225"
     ]
    },
    {
     "cell_type": "code",
     "collapsed": false,
     "input": [
      "\n",
      "# Variables\n",
      "T = 95.5 \t\t\t#C\n",
      "p = 1.   \t\t\t#atm\n",
      "v = 0.0126 \t\t\t#cc g**-1\n",
      "a = 0.0242 \t\t\t#cal cc**-1 atm**-1\n",
      "r = 0.035 \t\t\t#K atm**-1\n",
      "\n",
      "# Calculations\n",
      "dH = (273.2+T)*v*a/r\n",
      "\n",
      "# Results\n",
      "print  'Heat of transition  = %.1f cal g**-1'%(dH)\n"
     ],
     "language": "python",
     "metadata": {},
     "outputs": [
      {
       "output_type": "stream",
       "stream": "stdout",
       "text": [
        "Heat of transition  = 3.2 cal g**-1\n"
       ]
      }
     ],
     "prompt_number": 2
    },
    {
     "cell_type": "heading",
     "level": 2,
     "metadata": {},
     "source": [
      "Example 11.3 Page No : 226"
     ]
    },
    {
     "cell_type": "code",
     "collapsed": false,
     "input": [
      "\n",
      "# Variables\n",
      "T = 100. \t\t\t#C\n",
      "j = 0.0242 \t\t\t#cal cc**-1 atm6-1\n",
      "k = 539. \t\t\t#cal g**-1\n",
      "p = 1664. \t\t\t#cc g**-1\n",
      "\n",
      "# Calculations\n",
      "r = (273.2+T)*(p-1)*j/k\n",
      "\n",
      "# Results\n",
      "print  'Rise in temperature per unit of pressure = %.1f deg atm**-1'%(r)\n"
     ],
     "language": "python",
     "metadata": {},
     "outputs": [
      {
       "output_type": "stream",
       "stream": "stdout",
       "text": [
        "Rise in temperature per unit of pressure = 27.9 deg atm**-1\n"
       ]
      }
     ],
     "prompt_number": 3
    },
    {
     "cell_type": "heading",
     "level": 2,
     "metadata": {},
     "source": [
      "Example 11.4 Page No : 228"
     ]
    },
    {
     "cell_type": "code",
     "collapsed": false,
     "input": [
      "\n",
      "# Variables\n",
      "T1 = 100. \t\t\t#C\n",
      "T2 = 90. \t\t\t#C\n",
      "p = 76. \t\t\t#cm of hg\n",
      "H = 542*18.02 \t\t\t#cal mole**-1\n",
      "\n",
      "# Calculations\n",
      "p1 = p/10**((H/4.576)*((T1-T2)/((273.2+T1)*(273.2+T2))))\n",
      "\n",
      "# Results\n",
      "print  'Final vapour pressure of water  = %.1f cm'%(p1)\n"
     ],
     "language": "python",
     "metadata": {},
     "outputs": [
      {
       "output_type": "stream",
       "stream": "stdout",
       "text": [
        "Final vapour pressure of water  = 52.9 cm\n"
       ]
      }
     ],
     "prompt_number": 4
    },
    {
     "cell_type": "heading",
     "level": 2,
     "metadata": {},
     "source": [
      "Example 11.5 Page No : 230"
     ]
    },
    {
     "cell_type": "code",
     "collapsed": false,
     "input": [
      "\n",
      "# Variables\n",
      "T = 239.05 \t\t\t#K\n",
      "r = 0.0242 \t\t\t#cal cc6-1 atm**-1\n",
      "Vv = 269.1 \t\t\t#cc g**-1\n",
      "Vl = 0.7 \t\t\t#cc g**-1\n",
      "r1 = 3.343 \t\t\t#cm of mercury deg6-1\n",
      "p = 76. \t\t\t#cm\n",
      "\n",
      "# Calculations\n",
      "tbyp = r1/p\n",
      "dH = T*(Vv-Vl)*tbyp*r\n",
      "\n",
      "# Results\n",
      "print  'heat of vapourisation of liquid chlorine  = %.1f cal g**-1'%(dH)\n"
     ],
     "language": "python",
     "metadata": {},
     "outputs": [
      {
       "output_type": "stream",
       "stream": "stdout",
       "text": [
        "heat of vapourisation of liquid chlorine  = 68.3 cal g**-1\n"
       ]
      }
     ],
     "prompt_number": 5
    },
    {
     "cell_type": "heading",
     "level": 2,
     "metadata": {},
     "source": [
      "Example 11.6 Page No : 231"
     ]
    },
    {
     "cell_type": "code",
     "collapsed": false,
     "input": [
      "\n",
      "# Variables\n",
      "Ta = 441. \t\t    \t#C\n",
      "Tb = 882. \t    \t\t#C\n",
      "Tb1 = 1218. \t\t\t#C\n",
      "\n",
      "# Calculations\n",
      "Ta1 = (273+Tb1)*(Tb+273)/(273+Ta)\n",
      "Tb = Ta1-273\n",
      "\n",
      "# Results\n",
      "print  'Normal boiling point of silver  = %.f K'%(Ta1)\n",
      "print  ' Normal boiling point of silver in degrees  = %.f degrees'%(Tb)\n"
     ],
     "language": "python",
     "metadata": {},
     "outputs": [
      {
       "output_type": "stream",
       "stream": "stdout",
       "text": [
        "Normal boiling point of silver  = 2412 K\n",
        " Normal boiling point of silver in degrees  = 2139 degrees\n"
       ]
      }
     ],
     "prompt_number": 6
    },
    {
     "cell_type": "heading",
     "level": 2,
     "metadata": {},
     "source": [
      "Example 11.7 Page No : 233"
     ]
    },
    {
     "cell_type": "code",
     "collapsed": false,
     "input": [
      "\n",
      "# Variables\n",
      "import math \n",
      "T = 40. \t\t\t#C\n",
      "T1 = 80.1 \t\t\t#C\n",
      "\n",
      "# Calculations\n",
      "H = 2*(273.2+T1)\n",
      "p = math.e**(-(H/(4.576*(273.2+T)))+4.59)/3.07\n",
      "\n",
      "# Results\n",
      "print  'vapour pressure  = %.1f cm'%(p)\n"
     ],
     "language": "python",
     "metadata": {},
     "outputs": [
      {
       "output_type": "stream",
       "stream": "stdout",
       "text": [
        "vapour pressure  = 19.6 cm\n"
       ]
      }
     ],
     "prompt_number": 7
    },
    {
     "cell_type": "heading",
     "level": 2,
     "metadata": {},
     "source": [
      "Example 11.8 Page No : 237"
     ]
    },
    {
     "cell_type": "code",
     "collapsed": false,
     "input": [
      "\n",
      "# Variables\n",
      "p = 23.76 \t\t\t#mm\n",
      "R = 0.082 \t\t\t#atm-lit deg**-1 mol**-1\n",
      "T = 25. \t\t\t#C\n",
      "vl = 18 \t\t\t#ml\n",
      "p1 = 1. \t\t\t#atm\n",
      "\n",
      "# Calculations\n",
      "dP = 0.001*vl*p*p1/(R*(273+T))\n",
      "p2 = p+dP\n",
      "\n",
      "# Results\n",
      "print  'vapour pressure  = %.2f mm'%(p2)\n",
      "\n",
      "# Note : ANSWER GIVEN IN THE TEXTBOOK IS WRONG\n"
     ],
     "language": "python",
     "metadata": {},
     "outputs": [
      {
       "output_type": "stream",
       "stream": "stdout",
       "text": [
        "vapour pressure  = 23.78 mm\n"
       ]
      }
     ],
     "prompt_number": 8
    },
    {
     "cell_type": "heading",
     "level": 2,
     "metadata": {},
     "source": [
      "Example 11.9 Page No : 246"
     ]
    },
    {
     "cell_type": "code",
     "collapsed": false,
     "input": [
      "\n",
      "# Variables\n",
      "T = 25. \t\t\t    #C\n",
      "R = 8.314*10**7 \t\t#ergs /mol K\n",
      "st = 72. \t\t    \t#dynes cm**-1\n",
      "mv = 18. \t    \t\t#cc mole**-1\n",
      "r = 10.**-5 \t\t\t#cm\n",
      "p = 23.76    \t\t\t#cm\n",
      "\n",
      "# Calculations\n",
      "p1 = p*10**(2*st*mv/(r*R*2.303*(273.2+T)))\n",
      "\n",
      "# Results\n",
      "print  'vapour pressure  = %.2f mm'%(p1)\n"
     ],
     "language": "python",
     "metadata": {},
     "outputs": [
      {
       "output_type": "stream",
       "stream": "stdout",
       "text": [
        "vapour pressure  = 24.01 mm\n"
       ]
      }
     ],
     "prompt_number": 9
    },
    {
     "cell_type": "code",
     "collapsed": false,
     "input": [],
     "language": "python",
     "metadata": {},
     "outputs": []
    }
   ],
   "metadata": {}
  }
 ]
}