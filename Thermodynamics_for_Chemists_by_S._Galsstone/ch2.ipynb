{
 "metadata": {
  "name": "",
  "signature": "sha256:7896b33251e7015813ab8cc120828b27506a0ecc4b27e995a44efccaece33084"
 },
 "nbformat": 3,
 "nbformat_minor": 0,
 "worksheets": [
  {
   "cells": [
    {
     "cell_type": "heading",
     "level": 1,
     "metadata": {},
     "source": [
      "Chapter 2 : Properties of thromodynamic systems"
     ]
    },
    {
     "cell_type": "heading",
     "level": 2,
     "metadata": {},
     "source": [
      "Example 2.1 Page No : 24"
     ]
    },
    {
     "cell_type": "code",
     "collapsed": false,
     "input": [
      "\n",
      "# Variables\n",
      "T = 40    \t\t\t#C\n",
      "R = 0.0820 \t\t\t#lit-atm deg**-1 mol**-1\n",
      "v = 0.381 \t\t\t#lit\n",
      "b = 0.043 \t\t\t#lit\n",
      "a = 3.6 \n",
      "\n",
      "# Calculations\n",
      "P = (R*(273+T)/(v-b))-(a/v**2)\n",
      "\n",
      "# Results\n",
      "print  'Pressure  = %.1f atm'%(P)\n"
     ],
     "language": "python",
     "metadata": {},
     "outputs": [
      {
       "output_type": "stream",
       "stream": "stdout",
       "text": [
        "Pressure  = 51.1 atm\n"
       ]
      }
     ],
     "prompt_number": 1
    },
    {
     "cell_type": "heading",
     "level": 2,
     "metadata": {},
     "source": [
      "Example 2.2 Page No : 24"
     ]
    },
    {
     "cell_type": "code",
     "collapsed": false,
     "input": [
      "\n",
      "# Variables\n",
      "T = 0 \t    \t\t#C\n",
      "R = 0.0820 \t\t\t#lit-atm deg**-1 mol**-1\n",
      "p = 400. \t\t\t#atm\n",
      "\n",
      "# Calculations\n",
      "V = R*(273+T)/p\n",
      "\n",
      "# Results\n",
      "print  'Volume of the ideal gas  = %.4f lit mol**-1'%(V)\n"
     ],
     "language": "python",
     "metadata": {},
     "outputs": [
      {
       "output_type": "stream",
       "stream": "stdout",
       "text": [
        "Volume of the ideal gas  = 0.0560 lit mol**-1\n"
       ]
      }
     ],
     "prompt_number": 2
    },
    {
     "cell_type": "heading",
     "level": 2,
     "metadata": {},
     "source": [
      "Example 2.3 Page No : 29"
     ]
    },
    {
     "cell_type": "code",
     "collapsed": false,
     "input": [
      "\n",
      "# Variables\n",
      "p = 400.  \t\t\t#atm\n",
      "T = 273 \t    \t\t#K\n",
      "R = 0.0820 \t\t\t#lit-atm deg**-1 mol**-1\n",
      "k = 1.27\n",
      "\n",
      "# Calculations\n",
      "V = k*R*T/p\n",
      "\n",
      "# Results\n",
      "print  'Volume of the ideal gas  = %.3f lit mol**-1'%(V)\n"
     ],
     "language": "python",
     "metadata": {},
     "outputs": [
      {
       "output_type": "stream",
       "stream": "stdout",
       "text": [
        "Volume of the ideal gas  = 0.071 lit mol**-1\n"
       ]
      }
     ],
     "prompt_number": 1
    },
    {
     "cell_type": "heading",
     "level": 2,
     "metadata": {},
     "source": [
      "Example 2.4 Page No : 29"
     ]
    },
    {
     "cell_type": "code",
     "collapsed": false,
     "input": [
      "\n",
      "# Variables\n",
      "V = 0.381 \t\t\t#lit\n",
      "T = 313. \t\t\t#K\n",
      "R = 0.0820 \t\t\t#lit-atm deg**-1 mol**-1\n",
      "pc = 72.9 \t\t\t#atm\n",
      "\n",
      "# Calculations\n",
      "p = R*T/V\n",
      "r = p/pc\n",
      "\n",
      "# Results\n",
      "print  'Pressure of carbon dioxide gas  = %.1f atm'%(p)\n",
      "print  ' ratio  = %.3f '%(r)\n"
     ],
     "language": "python",
     "metadata": {},
     "outputs": [
      {
       "output_type": "stream",
       "stream": "stdout",
       "text": [
        "Pressure of carbon dioxide gas  = 67.4 atm\n",
        " ratio  = 0.924 \n"
       ]
      }
     ],
     "prompt_number": 4
    },
    {
     "cell_type": "heading",
     "level": 2,
     "metadata": {},
     "source": [
      "Example 2.5 Page No : 30"
     ]
    },
    {
     "cell_type": "code",
     "collapsed": false,
     "input": [
      "\n",
      "# Variables\n",
      "n1 = 0.25 \t\t\t#mole\n",
      "n2 = 0.75 \t\t\t#mole\n",
      "l = 0.0832 \t\t\t#lit\n",
      "T = 50 \t\t\t#C\n",
      "p1 = 404 \t\t\t#atm\n",
      "p2 = 390 \t\t\t#atm\n",
      "\n",
      "# Calculations\n",
      "P = n1*p1+n2*p2\n",
      "\n",
      "# Results\n",
      "print  'Total Pressure  = %.f atm'%(P)\n"
     ],
     "language": "python",
     "metadata": {},
     "outputs": [
      {
       "output_type": "stream",
       "stream": "stdout",
       "text": [
        "Total Pressure  = 394 atm\n"
       ]
      }
     ],
     "prompt_number": 5
    },
    {
     "cell_type": "heading",
     "level": 2,
     "metadata": {},
     "source": [
      "Example 2.6 Page No : 31"
     ]
    },
    {
     "cell_type": "code",
     "collapsed": false,
     "input": [
      "\n",
      "# Variables\n",
      "n1 = 0.25 \t\t\t#mole\n",
      "nh = 0.75 \t\t\t#mole\n",
      "p = 400. \t\t\t#atm\n",
      "T = 50. \t\t\t#C\n",
      "vn = 0.083 \t\t\t#lit\n",
      "vh = 0.081 \t\t\t#lit\n",
      "\n",
      "# Calculations\n",
      "V = n1*vn+vh*nh\n",
      "\n",
      "# Results\n",
      "print  'Volume of given mixture is  = %.3f lit'%(V)\n"
     ],
     "language": "python",
     "metadata": {},
     "outputs": [
      {
       "output_type": "stream",
       "stream": "stdout",
       "text": [
        "Volume of given mixture is  = 0.082 lit\n"
       ]
      }
     ],
     "prompt_number": 6
    },
    {
     "cell_type": "code",
     "collapsed": false,
     "input": [],
     "language": "python",
     "metadata": {},
     "outputs": []
    }
   ],
   "metadata": {}
  }
 ]
}