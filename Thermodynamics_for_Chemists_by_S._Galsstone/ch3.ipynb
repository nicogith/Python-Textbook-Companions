{
 "metadata": {
  "name": "",
  "signature": "sha256:13323936ef2e62d44534d1e2a20550e892e59337bee53263e64e756951d19fc1"
 },
 "nbformat": 3,
 "nbformat_minor": 0,
 "worksheets": [
  {
   "cells": [
    {
     "cell_type": "heading",
     "level": 1,
     "metadata": {},
     "source": [
      "Chapter 3 : The first law of thermodynamics"
     ]
    },
    {
     "cell_type": "heading",
     "level": 2,
     "metadata": {},
     "source": [
      "Example 3.1 Page No : 34"
     ]
    },
    {
     "cell_type": "code",
     "collapsed": false,
     "input": [
      "\n",
      "# Variables\n",
      "p = 1.013*10**6 \t\t\t#dynecm**2\n",
      "T = 273.16 \t\t\t#K\n",
      "V = 773.4  \t\t\t#cc\n",
      "n = 0.0687 \t\t\t#cal\n",
      "#CALCCULATIONS\n",
      "W = p*V/T\n",
      "k = W/n\n",
      "\n",
      "# Results\n",
      "print  'Work of expansion  = %.2e ergs'%(W)\n",
      "print  ' 1 cal  = %.2e ergs'%(k)\n"
     ],
     "language": "python",
     "metadata": {},
     "outputs": [
      {
       "output_type": "stream",
       "stream": "stdout",
       "text": [
        "Work of expansion  = 2.87e+06 ergs\n",
        " 1 cal  = 4.17e+07 ergs\n"
       ]
      }
     ],
     "prompt_number": 1
    },
    {
     "cell_type": "heading",
     "level": 2,
     "metadata": {},
     "source": [
      "Example 3.2 Page No : 44"
     ]
    },
    {
     "cell_type": "code",
     "collapsed": false,
     "input": [
      "\n",
      "# Variables\n",
      "import math \n",
      "R = 8.314*10**7 \t\t\t#J/mol K\n",
      "T = 298.2    \t    \t\t#K\n",
      "p1 = 1.         \t\t\t#atm\n",
      "p2 = 5.\t    \t\t        #atm\n",
      "\n",
      "# Calculations\n",
      "W = R*T*math.log(p1/p2)\n",
      "\n",
      "# Results\n",
      "print  'Work of expansion  = %.2e ergs mole**-1 '%(W)\n"
     ],
     "language": "python",
     "metadata": {},
     "outputs": [
      {
       "output_type": "stream",
       "stream": "stdout",
       "text": [
        "Work of expansion  = -3.99e+10 ergs mole**-1 \n"
       ]
      }
     ],
     "prompt_number": 2
    },
    {
     "cell_type": "code",
     "collapsed": false,
     "input": [],
     "language": "python",
     "metadata": {},
     "outputs": []
    }
   ],
   "metadata": {}
  }
 ]
}