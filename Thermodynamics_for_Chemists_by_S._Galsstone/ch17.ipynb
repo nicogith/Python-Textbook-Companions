{
 "metadata": {
  "name": "",
  "signature": "sha256:5d3d45dd2b0a1624f92837d3a7578318e5309e0f2974bf7ce73a51b4be600cda"
 },
 "nbformat": 3,
 "nbformat_minor": 0,
 "worksheets": [
  {
   "cells": [
    {
     "cell_type": "heading",
     "level": 1,
     "metadata": {},
     "source": [
      "Chapter 17 : The Debye Huckel Theory"
     ]
    },
    {
     "cell_type": "heading",
     "level": 2,
     "metadata": {},
     "source": [
      "Example 17.1 Page No : 416"
     ]
    },
    {
     "cell_type": "code",
     "collapsed": false,
     "input": [
      "\n",
      "# Variables\n",
      "import math \n",
      "s = 1.771*10**-4 \t\t\t#mole litre**-1\n",
      "s1 = 0.3252*10**-2 \t\t\t#mole litre**-1\n",
      "\n",
      "# Calculations\n",
      "S = s*10**(0.509*(math.sqrt(s+s1)-math.sqrt(s)))\n",
      "\n",
      "# Results\n",
      "print  'Solubility  = %.2e mole litre**-1'%(S)\n"
     ],
     "language": "python",
     "metadata": {},
     "outputs": [
      {
       "output_type": "stream",
       "stream": "stdout",
       "text": [
        "Solubility  = 1.87e-04 mole litre**-1\n"
       ]
      }
     ],
     "prompt_number": 1
    },
    {
     "cell_type": "heading",
     "level": 2,
     "metadata": {},
     "source": [
      "Example 17.2 Page No : 420"
     ]
    },
    {
     "cell_type": "code",
     "collapsed": false,
     "input": [
      "\n",
      "# Variables\n",
      "import math \n",
      "a = 0.1\n",
      "\n",
      "# Calculations\n",
      "r = 10**(-0.509*math.sqrt(a)/(1+math.sqrt(a)))\n",
      "\n",
      "# Results\n",
      "print  'mean ionic acctivity coefficient  = %.3f '%(r)\n"
     ],
     "language": "python",
     "metadata": {},
     "outputs": [
      {
       "output_type": "stream",
       "stream": "stdout",
       "text": [
        "mean ionic acctivity coefficient  = 0.755 \n"
       ]
      }
     ],
     "prompt_number": 2
    },
    {
     "cell_type": "code",
     "collapsed": false,
     "input": [],
     "language": "python",
     "metadata": {},
     "outputs": []
    }
   ],
   "metadata": {}
  }
 ]
}