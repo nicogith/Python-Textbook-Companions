{
 "metadata": {
  "name": "",
  "signature": "sha256:643ece1a205940084a51dab36a68239a7d1fd6078e2786fc61d4036267e5fc54"
 },
 "nbformat": 3,
 "nbformat_minor": 0,
 "worksheets": [
  {
   "cells": [
    {
     "cell_type": "heading",
     "level": 1,
     "metadata": {},
     "source": [
      "Chapter 6 : Calculation of energy and heat capcity"
     ]
    },
    {
     "cell_type": "heading",
     "level": 2,
     "metadata": {},
     "source": [
      "Example 6.1 Page No : 105"
     ]
    },
    {
     "cell_type": "code",
     "collapsed": false,
     "input": [
      "\n",
      "# Variables\n",
      "import math \n",
      "m = 5.313*10**-23 \t\t\t#g\n",
      "k = 1.38*10**-16 \n",
      "T = 298 \t\t\t#K\n",
      "R = 82.06 \t\t\t#ml-atm /mol K\n",
      "h = 6.624*10**-27 \t\t\t#J /mol\n",
      "\n",
      "# Calculations\n",
      "Qt = (2*math.pi*m*k*T)**1.5*R*T/h**3\n",
      "\n",
      "# Results\n",
      "print  'Qt  = %.2e '%(Qt)\n"
     ],
     "language": "python",
     "metadata": {},
     "outputs": [
      {
       "output_type": "stream",
       "stream": "stdout",
       "text": [
        "Qt  = 4.28e+30 \n"
       ]
      }
     ],
     "prompt_number": 1
    },
    {
     "cell_type": "heading",
     "level": 2,
     "metadata": {},
     "source": [
      "Example 6.2 Page No : 107"
     ]
    },
    {
     "cell_type": "code",
     "collapsed": false,
     "input": [
      "\n",
      "# Variables\n",
      "import math \n",
      "Qe = 4.029\n",
      "Qe1 = -37.02\n",
      "Qe2 = 4.695*10**4\n",
      "T = 300 \t\t\t#K\n",
      "R = 1.98 \t\t\t#cal /mol K\n",
      "Qe3 = 4.158\n",
      "Qe4 = -200.8\n",
      "Qe5 = 2.546*10**5\n",
      "T1 = 500 \t\t\t#K\n",
      "\n",
      "# Calculations\n",
      "Ce = R*((Qe2/Qe)-(Qe1/Qe)**2)/T**2\n",
      "Ce1 = R*((Qe5/Qe3)-(Qe4/Qe3)**2)/T1**2\n",
      "\n",
      "# Results\n",
      "print  'electronic contribution  = %.3f cal deg**-1.g.atom**-1'%(Ce)\n",
      "print  ' electronic contribution  = %.3f cal deg**-1.g.atom**-1'%(Ce1)\n"
     ],
     "language": "python",
     "metadata": {},
     "outputs": [
      {
       "output_type": "stream",
       "stream": "stdout",
       "text": [
        "electronic contribution  = 0.255 cal deg**-1.g.atom**-1\n",
        " electronic contribution  = 0.466 cal deg**-1.g.atom**-1\n"
       ]
      }
     ],
     "prompt_number": 2
    },
    {
     "cell_type": "heading",
     "level": 2,
     "metadata": {},
     "source": [
      "Example 6.3 Page No : 111"
     ]
    },
    {
     "cell_type": "code",
     "collapsed": false,
     "input": [
      "\n",
      "# Variables\n",
      "import math \n",
      "I = 0.459*10**-40 \t\t\t#g cm**2\n",
      "k = 1.38*10**-16\n",
      "T = 300 \t\t\t#K\n",
      "h = 6.624*10**-27 \t\t\t#J/mol\n",
      "I1 = 245*10**-40 \t\t\t# g cm**2\n",
      "\n",
      "# Calculations\n",
      "Qr = I*k*T*8*math.pi**2*0.5/h**2\n",
      "Qr1 = I1*k*T*8*math.pi**2/h**2\n",
      "\n",
      "# Results\n",
      "print  'Rotational Partition  = %.2f '%(Qr)\n",
      "print  ' Rotational Partition  = %.f '%(Qr1)\n",
      "\n",
      "# note : rounding off error. please check."
     ],
     "language": "python",
     "metadata": {},
     "outputs": [
      {
       "output_type": "stream",
       "stream": "stdout",
       "text": [
        "Rotational Partition  = 1.71 \n",
        " Rotational Partition  = 1825 \n"
       ]
      }
     ],
     "prompt_number": 5
    },
    {
     "cell_type": "heading",
     "level": 2,
     "metadata": {},
     "source": [
      "Example 6.4 Page No : 114"
     ]
    },
    {
     "cell_type": "code",
     "collapsed": false,
     "input": [
      "\n",
      "# Variables\n",
      "import math \n",
      "h = 1.439\n",
      "T = 300. \t\t\t#K\n",
      "w = 4405. \t\t\t#cm**-1\n",
      "w1 = 565. \t\t\t#cm**-1\n",
      "\n",
      "# Calculations\n",
      "Qv1 = (1-math.e**(-h*w/T))**-1\n",
      "Qv2 = (1-math.e**(-h*w1/T))**-1\n",
      "\n",
      "# Results\n",
      "print  'Vibrational Partition  = %.3f '%(Qv1)\n",
      "print  ' Vibrational Partition  = %.3f '%(Qv2)\n"
     ],
     "language": "python",
     "metadata": {},
     "outputs": [
      {
       "output_type": "stream",
       "stream": "stdout",
       "text": [
        "Vibrational Partition  = 1.000 \n",
        " Vibrational Partition  = 1.071 \n"
       ]
      }
     ],
     "prompt_number": 4
    },
    {
     "cell_type": "heading",
     "level": 3,
     "metadata": {},
     "source": [
      "Example 6.5 Page No : 116"
     ]
    },
    {
     "cell_type": "code",
     "collapsed": false,
     "input": [
      "\n",
      "# Variables\n",
      "h = 1.439\n",
      "T = 300 \t\t\t#K\n",
      "w = 565 \t\t\t#cm**-1\n",
      "R = 1.98 \t\t\t#cal /mol K\n",
      "n = 0.56\n",
      "\n",
      "# Calculations\n",
      "Qr = h*w/T\n",
      "Cv = n*R\n",
      "\n",
      "# Results\n",
      "print  'Vibrational Partition  = %.2f '%(Qr)\n",
      "print  ' Cv  = %.2f cal deg**-1 mole**-1'%(Cv)\n"
     ],
     "language": "python",
     "metadata": {},
     "outputs": [
      {
       "output_type": "stream",
       "stream": "stdout",
       "text": [
        "Vibrational Partition  = 2.71 \n",
        " Cv  = 1.11 cal deg**-1 mole**-1\n"
       ]
      }
     ],
     "prompt_number": 5
    },
    {
     "cell_type": "heading",
     "level": 2,
     "metadata": {},
     "source": [
      "Example 6.6 Page No : 118"
     ]
    },
    {
     "cell_type": "code",
     "collapsed": false,
     "input": [
      "\n",
      "# Variables\n",
      "R = 1.986 \t\t\t#cal deg**-1 mole**-1\n",
      "cv1 = 0.392 \t\t\t#cal deg**-1 mole**-1\n",
      "cv2 = 0.004 \t\t\t#cal deg**-1 mole**-1\n",
      "cv3 = 0.003 \t\t\t#cal deg**-1 mole**-1\n",
      "cv4 = 1.265 \t\t\t#cal deg**-1 mole**-1\n",
      "cv5 = 0.247 \t\t\t#cal deg**-1 mole**-1\n",
      "cv6 = 0.225 \t\t\t#cal deg**-1 mole**-1\n",
      "\n",
      "# Calculations\n",
      "Cv  = 3*R+cv1+cv2+cv3\n",
      "Cv1 = 3*R+cv4+cv5+cv6\n",
      "\n",
      "# Results\n",
      "print  'Total heat capacity  = %.2f cal deg**-1 mole**-1'%(Cv)\n",
      "print  ' Total heat capacity  = %.2f cal deg**-1 mole**-1'%(Cv1)\n"
     ],
     "language": "python",
     "metadata": {},
     "outputs": [
      {
       "output_type": "stream",
       "stream": "stdout",
       "text": [
        "Total heat capacity  = 6.36 cal deg**-1 mole**-1\n",
        " Total heat capacity  = 7.69 cal deg**-1 mole**-1\n"
       ]
      }
     ],
     "prompt_number": 6
    },
    {
     "cell_type": "heading",
     "level": 2,
     "metadata": {},
     "source": [
      "Example 6.7 Page No : 123"
     ]
    },
    {
     "cell_type": "code",
     "collapsed": false,
     "input": [
      "\n",
      "# Variables\n",
      "R = 1.98 \t\t\t#cal/mol K\n",
      "\n",
      "# Calculations\n",
      "Cv = 2.856*R\n",
      "\n",
      "# Results\n",
      "print  'Cv  = %.2f cal deg**-1 g.atom**-1'%(Cv)\n"
     ],
     "language": "python",
     "metadata": {},
     "outputs": [
      {
       "output_type": "stream",
       "stream": "stdout",
       "text": [
        "Cv  = 5.65 cal deg**-1 g.atom**-1\n"
       ]
      }
     ],
     "prompt_number": 7
    },
    {
     "cell_type": "heading",
     "level": 2,
     "metadata": {},
     "source": [
      "Example 6.8 Page No : 124"
     ]
    },
    {
     "cell_type": "code",
     "collapsed": false,
     "input": [
      "\n",
      "# Variables\n",
      "R = 1.98 \t\t\t#cal/mol K\n",
      "n = 3\n",
      "\n",
      "# Calculations\n",
      "Cv = n*R*0.8673\n",
      "\n",
      "# Results\n",
      "print  'Cv  = %.2f cal deg**-1 g.atom**-1'%(Cv)\n"
     ],
     "language": "python",
     "metadata": {},
     "outputs": [
      {
       "output_type": "stream",
       "stream": "stdout",
       "text": [
        "Cv  = 5.15 cal deg**-1 g.atom**-1\n"
       ]
      }
     ],
     "prompt_number": 8
    },
    {
     "cell_type": "heading",
     "level": 2,
     "metadata": {},
     "source": [
      "Example 6.9 Page No : 125"
     ]
    },
    {
     "cell_type": "code",
     "collapsed": false,
     "input": [
      "\n",
      "# Variables\n",
      "R = 1.98 \t\t\t#cal/mol K\n",
      "n = 3\n",
      "\n",
      "# Calculations\n",
      "Cv = n*R*0.904\n",
      "\n",
      "# Results\n",
      "print  'Cv  = %.2f cal deg**-1.g.atom**-1'%(Cv)\n"
     ],
     "language": "python",
     "metadata": {},
     "outputs": [
      {
       "output_type": "stream",
       "stream": "stdout",
       "text": [
        "Cv  = 5.37 cal deg**-1.g.atom**-1\n"
       ]
      }
     ],
     "prompt_number": 9
    },
    {
     "cell_type": "code",
     "collapsed": false,
     "input": [],
     "language": "python",
     "metadata": {},
     "outputs": []
    }
   ],
   "metadata": {}
  }
 ]
}