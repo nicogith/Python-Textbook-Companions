{
 "metadata": {
  "name": "",
  "signature": "sha256:b75b58d1ed9b57bf27e69f44b206b58457285a660f3ccfef707e8c28d3e7645c"
 },
 "nbformat": 3,
 "nbformat_minor": 0,
 "worksheets": [
  {
   "cells": [
    {
     "cell_type": "heading",
     "level": 1,
     "metadata": {},
     "source": [
      "Chapter 18 : Partial Molar Properties"
     ]
    },
    {
     "cell_type": "heading",
     "level": 2,
     "metadata": {},
     "source": [
      "Example 18.1 Page No : 429"
     ]
    },
    {
     "cell_type": "code",
     "collapsed": false,
     "input": [
      "\n",
      "# Variables\n",
      "import math \n",
      "k1 = 16.4 \t\t\t#ml mole**-1\n",
      "k2 = 2.5 \t\t\t#ml mole**-2\n",
      "k3 = -1.2 \t\t\t#ml mole**-3\n",
      "m = 1 \t\t\t#molal\n",
      "\n",
      "# Calculations\n",
      "Ov = k1+k2*m+k3*m**2\n",
      "\n",
      "# Results\n",
      "print  'Apparent molar volume  = %.1f ml mole**-1'%(Ov)\n"
     ],
     "language": "python",
     "metadata": {},
     "outputs": [
      {
       "output_type": "stream",
       "stream": "stdout",
       "text": [
        "Apparent molar volume  = 17.7 ml mole**-1\n"
       ]
      }
     ],
     "prompt_number": 1
    },
    {
     "cell_type": "heading",
     "level": 2,
     "metadata": {},
     "source": [
      "Example 18.2 Page No : 443"
     ]
    },
    {
     "cell_type": "code",
     "collapsed": false,
     "input": [
      "\n",
      "# Variables\n",
      "n = 1    \t\t\t#mole\n",
      "n1 = 400 \t\t\t#mole\n",
      "T = 25 \t    \t\t#C\n",
      "H1 = 5410 \t\t\t#cal\n",
      "H2 = -5020 \t\t\t#cal\n",
      "\n",
      "# Calculations\n",
      "dH = -(H1+H2)\n",
      "\n",
      "# Results\n",
      "print  'Heat required to remove the water  = %.f cal'%(dH)\n"
     ],
     "language": "python",
     "metadata": {},
     "outputs": [
      {
       "output_type": "stream",
       "stream": "stdout",
       "text": [
        "Heat required to remove the water  = -390 cal\n"
       ]
      }
     ],
     "prompt_number": 2
    },
    {
     "cell_type": "heading",
     "level": 2,
     "metadata": {},
     "source": [
      "Example 18.3 Page No : 443"
     ]
    },
    {
     "cell_type": "code",
     "collapsed": false,
     "input": [
      "\n",
      "# Variables\n",
      "n = 1    \t\t\t#mole\n",
      "n1 = 400 \t\t\t#mole\n",
      "T = 25 \t    \t\t#C\n",
      "H1 = 23540 \t\t\t#cal\n",
      "H2 = -5410 \t\t\t#cal\n",
      "\n",
      "# Calculations\n",
      "dH = -(H1+H2)\n",
      "\n",
      "# Results\n",
      "print  'Heat required to remove the water  = %.f cal'%(dH)\n"
     ],
     "language": "python",
     "metadata": {},
     "outputs": [
      {
       "output_type": "stream",
       "stream": "stdout",
       "text": [
        "Heat required to remove the water  = -18130 cal\n"
       ]
      }
     ],
     "prompt_number": 3
    },
    {
     "cell_type": "heading",
     "level": 2,
     "metadata": {},
     "source": [
      "Example 18.4 Page No : 446"
     ]
    },
    {
     "cell_type": "code",
     "collapsed": false,
     "input": [
      "\n",
      "# Variables\n",
      "n1 = 1   \t\t\t#mole\n",
      "n2 = 400 \t\t\t#mole\n",
      "H1 = 5638 \t\t\t#cal\n",
      "H2 = 23540 \t\t\t#cal\n",
      "L = -1.54 \t\t\t#cal/mole\n",
      "l1 = -2.16 \t\t\t#cal/mole\n",
      "l2 = 5842 \t\t\t#cal/mole\n",
      "\n",
      "# Calculations\n",
      "Q1 = n2*L+H1+H2\n",
      "Q2 = n2*l1+2*l2\n",
      "Q = Q2-Q1\n",
      "\n",
      "# Results\n",
      "print  'Heat change  = %.f cal'%(Q)\n"
     ],
     "language": "python",
     "metadata": {},
     "outputs": [
      {
       "output_type": "stream",
       "stream": "stdout",
       "text": [
        "Heat change  = -17742 cal\n"
       ]
      }
     ],
     "prompt_number": 4
    },
    {
     "cell_type": "heading",
     "level": 2,
     "metadata": {},
     "source": [
      "Example 18.5 Page No : 447"
     ]
    },
    {
     "cell_type": "code",
     "collapsed": false,
     "input": [
      "\n",
      "# Variables\n",
      "L2 = 6000. \t    \t\t#cal\n",
      "v = 3. \n",
      "T = 25.        \t\t\t#C\n",
      "T1 = 0. \t    \t\t#C\n",
      "\n",
      "# Calculations\n",
      "R = ((L2/(v*4.576))*(T-T1)/((273+T1)*(273+T)))\n",
      "r = 10**((L2/(v*4.576))*(T-T1)/((273+T1)*(273+T)))\n",
      "\n",
      "# Results\n",
      "print  'Ratio  = %.3f '%(R)\n",
      "print  ' Relative change in mean ionic coefficient  = %.2f '%(r)\n"
     ],
     "language": "python",
     "metadata": {},
     "outputs": [
      {
       "output_type": "stream",
       "stream": "stdout",
       "text": [
        "Ratio  = 0.134 \n",
        " Relative change in mean ionic coefficient  = 1.36 \n"
       ]
      }
     ],
     "prompt_number": 5
    },
    {
     "cell_type": "heading",
     "level": 2,
     "metadata": {},
     "source": [
      "Example 18.6 Page No : 450"
     ]
    },
    {
     "cell_type": "code",
     "collapsed": false,
     "input": [
      "\n",
      "# Variables\n",
      "L2 = 4120. \t\t\t#cal\n",
      "l = -108. \t\t\t#cal mole**-1\n",
      "L21 = -306. \t\t\t#cal mole**-1\n",
      "n1 = 55.5 \t\t\t#moles\n",
      "n2 = 1. \t\t\t#mole\n",
      "\n",
      "# Calculations\n",
      "Q = L21+L2\n",
      "\n",
      "# Results\n",
      "print  'differential heat of solution  = %.f cal mole**-1'%(Q)  \n"
     ],
     "language": "python",
     "metadata": {},
     "outputs": [
      {
       "output_type": "stream",
       "stream": "stdout",
       "text": [
        "differential heat of solution  = 3814 cal mole**-1\n"
       ]
      }
     ],
     "prompt_number": 6
    },
    {
     "cell_type": "heading",
     "level": 2,
     "metadata": {},
     "source": [
      "Example 18.7 Page No : 456"
     ]
    },
    {
     "cell_type": "code",
     "collapsed": false,
     "input": [
      "\n",
      "# Variables\n",
      "n1 = 2.  \t\t\t#moles\n",
      "n2 = 100. \t\t\t#moles\n",
      "Cp1 = 17.9 \t\t\t#cal deg**-1 mole**-1\n",
      "Cp2 = 21.78 \t\t\t#cal deg**-1 mole**-1\n",
      "T1 = 30 \t\t\t#C\n",
      "T2 = 25 \t\t\t#C\n",
      "L1 = 5780. \t\t\t#cal\n",
      "L2 = 5410. \t\t\t#cal\n",
      "h = 5620. \t\t\t#cal mole**-1\n",
      "n3 = 3. \t\t\t#moles\n",
      "Cp3 = 16.55 \t\t\t#cal deg**-1 mole**-1\n",
      "\n",
      "# Calculations \n",
      "Cp = n2*Cp1+n1*Cp2\n",
      "Q = (T2-T1)*Cp\n",
      "Q1 = (n1*L1+L2)\n",
      "Q2 = n3*h\n",
      "dQ = Q2-Q1\n",
      "dH = Q+dQ\n",
      "HC = 300*Cp1+n3*Cp3\n",
      "t = -dH/HC\n",
      "Tf = T2+t\n",
      "\n",
      "# Results\n",
      "print  'Increase in temperature  = %.2f deg'%(t)  \n",
      "print  ' Final temperature  = %.1f deg'%(Tf)  \n"
     ],
     "language": "python",
     "metadata": {},
     "outputs": [
      {
       "output_type": "stream",
       "stream": "stdout",
       "text": [
        "Increase in temperature  = 1.71 deg\n",
        " Final temperature  = 26.7 deg\n"
       ]
      }
     ],
     "prompt_number": 7
    },
    {
     "cell_type": "code",
     "collapsed": false,
     "input": [],
     "language": "python",
     "metadata": {},
     "outputs": []
    }
   ],
   "metadata": {}
  }
 ]
}