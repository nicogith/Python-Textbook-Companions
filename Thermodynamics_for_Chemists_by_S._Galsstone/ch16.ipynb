{
 "metadata": {
  "name": "",
  "signature": "sha256:7eec017415569aca37aee9a00f020d7a26daf7fdc28863ef2749469da6c56db1"
 },
 "nbformat": 3,
 "nbformat_minor": 0,
 "worksheets": [
  {
   "cells": [
    {
     "cell_type": "heading",
     "level": 1,
     "metadata": {},
     "source": [
      "Chapter 16 : Solutions of Electrolytes"
     ]
    },
    {
     "cell_type": "heading",
     "level": 2,
     "metadata": {},
     "source": [
      "Example 16.1 Page No : 380"
     ]
    },
    {
     "cell_type": "code",
     "collapsed": false,
     "input": [
      "\n",
      "# Variables\n",
      "v = 1.\n",
      "m = 0.5\n",
      "\n",
      "# Calculations\n",
      "m1  = 2*m\n",
      "m2  = 1*m\n",
      "v1  = 2*v\n",
      "v2  = 1*v\n",
      "M  = (m1**2*m2)**(1/(v1+v2))\n",
      "\n",
      "# Results\n",
      "print  'mean ionic molality  = %.1f '%(m2)\n",
      "print  ' mean ionic molality  = %.3f '%(M)\n"
     ],
     "language": "python",
     "metadata": {},
     "outputs": [
      {
       "output_type": "stream",
       "stream": "stdout",
       "text": [
        "mean ionic molality  = 0.5 \n",
        " mean ionic molality  = 0.794 \n"
       ]
      }
     ],
     "prompt_number": 1
    },
    {
     "cell_type": "heading",
     "level": 2,
     "metadata": {},
     "source": [
      "Example 16.2 Page No : 399"
     ]
    },
    {
     "cell_type": "code",
     "collapsed": false,
     "input": [
      "\n",
      "# Variables\n",
      "n = 2\n",
      "m = 0.01422\n",
      "m1 = 0.00869\n",
      "m2 = 0.025\n",
      "\n",
      "# Calculations\n",
      "M  = m2+m1\n",
      "M1 = (M*m1)**(1./n)\n",
      "r = m/M1\n",
      "\n",
      "# Results\n",
      "print  'mean ionic molality  = %.3f '%(r)\n"
     ],
     "language": "python",
     "metadata": {},
     "outputs": [
      {
       "output_type": "stream",
       "stream": "stdout",
       "text": [
        "mean ionic molality  = 0.831 \n"
       ]
      }
     ],
     "prompt_number": 1
    },
    {
     "cell_type": "heading",
     "level": 2,
     "metadata": {},
     "source": [
      "Example 16.3 Page No : 400"
     ]
    },
    {
     "cell_type": "code",
     "collapsed": false,
     "input": [
      "\n",
      "# Variables\n",
      "mu = 1\n",
      "mb = 2\n",
      "m = 1 \n",
      "m1 = 2\n",
      "\n",
      "# Calculations\n",
      "ym1 = 0.5*(mu*m**2+mu*m**2)\n",
      "ym2 = 0.5*(mb*m**2+m*m1**2)\n",
      "ym3 = 0.5*(mu*m1**2+mu*m1**2)\n",
      "\n",
      "# Results\n",
      "print  'ionic strength of solution  = %.f *m'%(ym1)\n",
      "print  ' ionic strength of solution  = %.f *m'%(ym2)\n",
      "print  ' ionic strength of solution  = %.f *m'%(ym3)\n"
     ],
     "language": "python",
     "metadata": {},
     "outputs": [
      {
       "output_type": "stream",
       "stream": "stdout",
       "text": [
        "ionic strength of solution  = 1 *m\n",
        " ionic strength of solution  = 3 *m\n",
        " ionic strength of solution  = 4 *m\n"
       ]
      }
     ],
     "prompt_number": 3
    },
    {
     "cell_type": "code",
     "collapsed": false,
     "input": [],
     "language": "python",
     "metadata": {},
     "outputs": []
    }
   ],
   "metadata": {}
  }
 ]
}