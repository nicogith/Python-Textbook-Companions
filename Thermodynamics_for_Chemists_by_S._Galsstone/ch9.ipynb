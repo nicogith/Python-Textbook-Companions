{
 "metadata": {
  "name": "",
  "signature": "sha256:504d1c6e130519bd52ac789c89a6f8e08c6f8ebcef05a86769153cb6fef7a117"
 },
 "nbformat": 3,
 "nbformat_minor": 0,
 "worksheets": [
  {
   "cells": [
    {
     "cell_type": "heading",
     "level": 1,
     "metadata": {},
     "source": [
      "Chapter 9 : Entropy determination and Significance"
     ]
    },
    {
     "cell_type": "heading",
     "level": 2,
     "metadata": {},
     "source": [
      "Example 9.1 Page No : 191"
     ]
    },
    {
     "cell_type": "code",
     "collapsed": false,
     "input": [
      "\n",
      "# Variables\n",
      "import math \n",
      "w = 35.46 \t\t\t#gms\n",
      "T = 298.2 \t\t\t#K\n",
      "Qc = 4.03 \n",
      "\n",
      "# Calculations\n",
      "S = 4.576*(1.5*math.log10(w)+2.5*math.log10(T)+math.log10(Qc)-0.5055)\n",
      "\n",
      "# Results\n",
      "print  'Standard entropy  = %.1f cal deg**-1 g atom**-1'%(S)\n"
     ],
     "language": "python",
     "metadata": {},
     "outputs": [
      {
       "output_type": "stream",
       "stream": "stdout",
       "text": [
        "Standard entropy  = 39.4 cal deg**-1 g atom**-1\n"
       ]
      }
     ],
     "prompt_number": 2
    },
    {
     "cell_type": "heading",
     "level": 2,
     "metadata": {},
     "source": [
      "Example 9.2 Page No : 195"
     ]
    },
    {
     "cell_type": "code",
     "collapsed": false,
     "input": [
      "\n",
      "# Variables\n",
      "import math \n",
      "M = 28.  \t    \t    \t#gms\n",
      "T = 25.     \t    \t\t#C\n",
      "I = 13.9*10**-40 \t\t\t# gcm**2\n",
      "s = 2\n",
      "\n",
      "# Calculations\n",
      "S = 4.576*(1.5*math.log10(M)+2.5*math.log10(273.2+T)-0.5055)\n",
      "S1 = 4.576*(math.log10(I)+math.log10(273.2+T)-math.log10(s)+38.82)\n",
      "\n",
      "# Results\n",
      "print  'Standard entropy  = %.1f E.U.mole**-1'%(S)\n",
      "print  ' Standard entropy  = %.1f E.U.mole**-1'%(S1)\n"
     ],
     "language": "python",
     "metadata": {},
     "outputs": [
      {
       "output_type": "stream",
       "stream": "stdout",
       "text": [
        "Standard entropy  = 35.9 E.U.mole**-1\n",
        " Standard entropy  = 9.8 E.U.mole**-1\n"
       ]
      }
     ],
     "prompt_number": 3
    },
    {
     "cell_type": "heading",
     "level": 2,
     "metadata": {},
     "source": [
      "Example 9.3 Page No : 196"
     ]
    },
    {
     "cell_type": "code",
     "collapsed": false,
     "input": [
      "\n",
      "# Variables\n",
      "import math \n",
      "T = 25.          \t\t\t#C\n",
      "I = 4.33*10**-40 \t\t\t# gcm**2\n",
      "I1 = 2.78*10**-40 \t\t\t#g cm**2\n",
      "s = 3\n",
      "\n",
      "# Calculations\n",
      "S = 4.576*(0.5*math.log10(I1**2*I)+1.5*math.log10(273.2+T)-math.log10(s)+58.51)\n",
      "\n",
      "# Results\n",
      "print  'Standard entropy  = %.1f cal deg**-1 mole**-1'%(S)\n"
     ],
     "language": "python",
     "metadata": {},
     "outputs": [
      {
       "output_type": "stream",
       "stream": "stdout",
       "text": [
        "Standard entropy  = 11.5 cal deg**-1 mole**-1\n"
       ]
      }
     ],
     "prompt_number": 4
    },
    {
     "cell_type": "heading",
     "level": 2,
     "metadata": {},
     "source": [
      "Example 9.4 Page No : 198"
     ]
    },
    {
     "cell_type": "code",
     "collapsed": false,
     "input": [
      "\n",
      "# Variables\n",
      "Sco = 47.3 \t\t    \t#cal deg**-1 \n",
      "Sh2 = 31.21 \t\t\t#cal deg**-1\n",
      "Sc = 1.36 \t\t    \t#cal deg**-1\n",
      "Sho  = 16.75 \t\t\t#cal deg**-1\n",
      "\n",
      "# Calculations\n",
      "S = Sco+Sh2-Sc-Sho\n",
      "\n",
      "# Results\n",
      "print  'Standard entropy  = %.2f cal deg**-1 mole**-1'%(S)\n"
     ],
     "language": "python",
     "metadata": {},
     "outputs": [
      {
       "output_type": "stream",
       "stream": "stdout",
       "text": [
        "Standard entropy  = 60.40 cal deg**-1 mole**-1\n"
       ]
      }
     ],
     "prompt_number": 5
    },
    {
     "cell_type": "code",
     "collapsed": false,
     "input": [],
     "language": "python",
     "metadata": {},
     "outputs": []
    }
   ],
   "metadata": {}
  }
 ]
}