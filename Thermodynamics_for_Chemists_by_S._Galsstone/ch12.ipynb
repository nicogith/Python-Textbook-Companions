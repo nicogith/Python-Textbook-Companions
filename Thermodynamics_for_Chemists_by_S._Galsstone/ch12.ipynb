{
 "metadata": {
  "name": "",
  "signature": "sha256:dbef979b458f64ee0bfe42675123da99553458bca4c9fa96996153ac4fc86f65"
 },
 "nbformat": 3,
 "nbformat_minor": 0,
 "worksheets": [
  {
   "cells": [
    {
     "cell_type": "heading",
     "level": 1,
     "metadata": {},
     "source": [
      "Chapter 12 : Fugacity and Activity"
     ]
    },
    {
     "cell_type": "heading",
     "level": 2,
     "metadata": {},
     "source": [
      "Example 12.1 Page No : 252"
     ]
    },
    {
     "cell_type": "code",
     "collapsed": false,
     "input": [
      "\n",
      "# Variables\n",
      "p1 = 50 \t\t\t#atm\n",
      "p2 = 100 \t\t\t#atm\n",
      "p3 = 200 \t\t\t#atm\n",
      "p4 = 400 \t\t\t#atm\n",
      "p5 = 800 \t\t\t#atm\n",
      "p6 = 1000 \t\t\t#atm\n",
      "r1 = 0.979\n",
      "r2 = 0.967\n",
      "r3 = 0.971\n",
      "r4 = 1.061\n",
      "r5 = 1.489\n",
      "r6 = 1.834\n",
      "\n",
      "# Calculations\n",
      "f1 = r1*p1\n",
      "f2 = r2*p2\n",
      "f3 = r3*p3\n",
      "f4 = r4*p4\n",
      "f5 = r5*p5\n",
      "f6 = r6*p6\n",
      "\n",
      "# Results\n",
      "print  'fugacity of nitrogen gas  = %.2f atm'%(f1)\n",
      "print  ' fugacity of nitrogen gas  = %.1f atm'%(f2)\n",
      "print  ' fugacity of nitrogen gas  = %.1f atm'%(f3)\n",
      "print  ' fugacity of nitrogen gas  = %.1f atm'%(f4)\n",
      "print  ' fugacity of nitrogen gas  = %.f atm'%(f5)\n",
      "print  ' fugacity of nitrogen gas  = %.f atm'%(f6)\n"
     ],
     "language": "python",
     "metadata": {},
     "outputs": [
      {
       "output_type": "stream",
       "stream": "stdout",
       "text": [
        "fugacity of nitrogen gas  = 48.95 atm\n",
        " fugacity of nitrogen gas  = 96.7 atm\n",
        " fugacity of nitrogen gas  = 194.2 atm\n",
        " fugacity of nitrogen gas  = 424.4 atm\n",
        " fugacity of nitrogen gas  = 1191 atm\n",
        " fugacity of nitrogen gas  = 1834 atm\n"
       ]
      }
     ],
     "prompt_number": 1
    },
    {
     "cell_type": "heading",
     "level": 2,
     "metadata": {},
     "source": [
      "Example 12.2 Page No : 258"
     ]
    },
    {
     "cell_type": "code",
     "collapsed": false,
     "input": [
      "\n",
      "# Variables\n",
      "p1 = 50 \t\t\t#atm\n",
      "p2 = 100 \t\t\t#atm\n",
      "p3 = 200 \t\t\t#atm\n",
      "p4 = 400 \t\t\t#atm\n",
      "r1 = 0.98\n",
      "r2 = 0.97\n",
      "r3 = 0.98\n",
      "r4 = 1.07\n",
      "\n",
      "# Calculations\n",
      "f1 = p1*r1\n",
      "f2 = p2*r1\n",
      "f3 = p3*r3\n",
      "f4 = p4*r4\n",
      "\n",
      "# Results\n",
      "print  'fugacity of nitrogen gas  = %.f atm'%(f1)\n",
      "print  ' fugacity of nitrogen gas  = %.f atm'%(f2)\n",
      "print  ' fugacity of nitrogen gas  = %.f atm'%(f3)\n",
      "print  ' fugacity of nitrogen gas  = %.f atm'%(f4)\n"
     ],
     "language": "python",
     "metadata": {},
     "outputs": [
      {
       "output_type": "stream",
       "stream": "stdout",
       "text": [
        "fugacity of nitrogen gas  = 49 atm\n",
        " fugacity of nitrogen gas  = 98 atm\n",
        " fugacity of nitrogen gas  = 196 atm\n",
        " fugacity of nitrogen gas  = 428 atm\n"
       ]
      }
     ],
     "prompt_number": 2
    },
    {
     "cell_type": "heading",
     "level": 2,
     "metadata": {},
     "source": [
      "Example 12.3 Page No : 260"
     ]
    },
    {
     "cell_type": "code",
     "collapsed": false,
     "input": [
      "\n",
      "# Variables\n",
      "p = 3.66 \t\t\t#atm\n",
      "v = 6.01 \t\t\t#litre mole**-1\n",
      "T = 0    \t\t\t#C\n",
      "R = 0.082 \t\t\t#lit-atm mole**-1 K**-1\n",
      "\n",
      "# Calculations\n",
      "f = p**2*v/(R*(273+T))\n",
      "\n",
      "# Results\n",
      "print  'fugacity of liquid chlorine  = %.2f atm'%(f)\n"
     ],
     "language": "python",
     "metadata": {},
     "outputs": [
      {
       "output_type": "stream",
       "stream": "stdout",
       "text": [
        "fugacity of liquid chlorine  = 3.60 atm\n"
       ]
      }
     ],
     "prompt_number": 3
    },
    {
     "cell_type": "code",
     "collapsed": false,
     "input": [],
     "language": "python",
     "metadata": {},
     "outputs": []
    }
   ],
   "metadata": {}
  }
 ]
}