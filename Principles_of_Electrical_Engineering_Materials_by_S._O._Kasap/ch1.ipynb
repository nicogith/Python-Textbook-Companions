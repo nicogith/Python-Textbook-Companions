{
 "metadata": {
  "name": "",
  "signature": "sha256:1d645bcf155c10fc3ccf4c5aa79440417efe4cfdb744fd0ce2e78c231ca774d3"
 },
 "nbformat": 3,
 "nbformat_minor": 0,
 "worksheets": [
  {
   "cells": [
    {
     "cell_type": "heading",
     "level": 1,
     "metadata": {},
     "source": [
      "Chapter 1 : Elementary Materials Science Concepts"
     ]
    },
    {
     "cell_type": "heading",
     "level": 2,
     "metadata": {},
     "source": [
      "Example 1.1  Page No : 4"
     ]
    },
    {
     "cell_type": "code",
     "collapsed": false,
     "input": [
      "# Given\n",
      "A = 8.0*10**-77         # in J m**6\n",
      "B = 1.12*10**-133       # in J m**12\n",
      "\n",
      "# lennard-Jones 6-12 potential Energy (PE)curve is E(r)=-A*r**-6+B*r**-12\n",
      "# For bonding to occur PE should be minimum, hence differentiating the PE equation and setting it to Zero at r=ro we get\n",
      "\n",
      "# Calculations and Results\n",
      "ro = (2.0*B/A)**(1.0/6)\n",
      "print(\"Bond length in meters is {0:.5g}\".format(ro))\n",
      "E_bond = -A*ro**-6+(B*ro**-12)        # in J\n",
      "E_bond = abs(E_bond/(1.6*10**-19))\n",
      "print(\"Bond Energy for solid argon in ev is {0:.4f}\".format(E_bond))\n"
     ],
     "language": "python",
     "metadata": {},
     "outputs": [
      {
       "output_type": "stream",
       "stream": "stdout",
       "text": [
        "Bond length in meters is 3.7543e-10\n",
        "Bond Energy for solid argon in ev is 0.0893\n"
       ]
      }
     ],
     "prompt_number": 1
    },
    {
     "cell_type": "heading",
     "level": 2,
     "metadata": {},
     "source": [
      "Example 1.2  Page No : 5"
     ]
    },
    {
     "cell_type": "code",
     "collapsed": false,
     "input": [
      "import math \n",
      "\n",
      "# Given\n",
      "R = 8.314        # in J/mol/K\n",
      "T = 27.0         # in degree celcius\n",
      "T += 273.0       # in Kelvin\n",
      "M_at = 14.0      # in g/mol\n",
      "# From Kinetic Theory\n",
      "\n",
      "# Calculations and Results\n",
      "V_rms = math.sqrt((3.0*R*T)/(2.0*M_at*10**-3))\n",
      "print(\"rms velocity of Nitrogen molecule in atmosphere at 300K in m/s is {0:.4f}\".format(V_rms))\n",
      "V_rmsx = V_rms/math.sqrt(3.0)\n",
      "print(\"rms velocity in one direction in m/s is {0:.4f}\".format(V_rmsx))\n"
     ],
     "language": "python",
     "metadata": {},
     "outputs": [
      {
       "output_type": "stream",
       "stream": "stdout",
       "text": [
        "rms velocity of Nitrogen molecule in atmosphere at 300K in m/s is 516.9485\n",
        "rms velocity in one direction in m/s is 298.4603\n"
       ]
      }
     ],
     "prompt_number": 2
    },
    {
     "cell_type": "heading",
     "level": 2,
     "metadata": {},
     "source": [
      "Example 1.3  Page No : 10"
     ]
    },
    {
     "cell_type": "code",
     "collapsed": false,
     "input": [
      "# Given\n",
      "R = 8.314        # in J/mol/K\n",
      "M_at = 63.6      # in g/mol\n",
      "# Acc. to Dulong -Petit rule Cm=3R for NA atoms\n",
      "\n",
      "# Calculations and Results\n",
      "C_gram = 3.0*R/M_at\n",
      "print(\"Heat Capacity of copper per unit gram in J/g/K is {0:.4f}\".format(C_gram))\n"
     ],
     "language": "python",
     "metadata": {},
     "outputs": [
      {
       "output_type": "stream",
       "stream": "stdout",
       "text": [
        "Heat Capacity of copper per unit gram in J/g/K is 0.3922\n"
       ]
      }
     ],
     "prompt_number": 3
    },
    {
     "cell_type": "heading",
     "level": 2,
     "metadata": {},
     "source": [
      "Example 1.4  Page No : 12"
     ]
    },
    {
     "cell_type": "code",
     "collapsed": false,
     "input": [
      "import math \n",
      "# Given\n",
      "k = 1.38*10**-23        # in J/K\n",
      "m = 9.1*10**-31         # in Kg\n",
      "T = 300.0               # in Kelvin\n",
      "\n",
      "# Calculations and Results\n",
      "v_av = math.sqrt(8.0*k*T/(math.pi*m))\n",
      "print(\"Mean speed for a gas of non interacting electrons in Km is {0:.4f}\".format(v_av*10**-3))\n",
      "v = math.sqrt(2.0*k*T/m)\n",
      "print(\"Most probable speed for a gas of non interacting electrons in Km is {0:.4f}\".format(v*10**-3))\n",
      "v_rms = math.sqrt(3.0*k*T/m)\n",
      "print(\"rms velocity for a gas of non interacting electrons in Km is {0:.4f}\".format(v_rms*10**-3))\n"
     ],
     "language": "python",
     "metadata": {},
     "outputs": [
      {
       "output_type": "stream",
       "stream": "stdout",
       "text": [
        "Mean speed for a gas of non interacting electrons in Km is 107.6340\n",
        "Most probable speed for a gas of non interacting electrons in Km is 95.3882\n",
        "rms velocity for a gas of non interacting electrons in Km is 116.8262\n"
       ]
      }
     ],
     "prompt_number": 4
    },
    {
     "cell_type": "heading",
     "level": 2,
     "metadata": {},
     "source": [
      "Example 1.5  Page No : 13"
     ]
    },
    {
     "cell_type": "code",
     "collapsed": false,
     "input": [
      "import math \n",
      "# Given\n",
      "L = 100*10**-6          # in Henry\n",
      "C = 100*10**-12         # in Farad\n",
      "T = 300.0               # in Kelvin\n",
      "R = 200*10**3           # in ohms\n",
      "k = 1.38*10**-23        # in J/K\n",
      "\n",
      "# Calculations and Results\n",
      "fo = 1.0/(2.0*math.pi*math.sqrt(L*C))       # resonant frequency\n",
      "Q = 2.0*math.pi*fo*C*R                      # quality factor\n",
      "B = fo/Q                                    # Bandwidth of tuned RLC\n",
      "# Acc. to Johnson resistor noise equation\n",
      "\n",
      "Vrms = math.sqrt(4*k*T*R*B)  # in volts\n",
      "Vrms /= 10**-6  # in micro volts\n",
      "print(\"Minimum rms radio signal that can be detected in micro volts is {0:.4f}\".format(Vrms))\n",
      "\n"
     ],
     "language": "python",
     "metadata": {},
     "outputs": [
      {
       "output_type": "stream",
       "stream": "stdout",
       "text": [
        "Minimum rms radio signal that can be detected in micro volts is 5.1338\n"
       ]
      }
     ],
     "prompt_number": 5
    },
    {
     "cell_type": "heading",
     "level": 2,
     "metadata": {},
     "source": [
      "Example 1.7  Page No : 18"
     ]
    },
    {
     "cell_type": "code",
     "collapsed": false,
     "input": [
      "import math\n",
      "\n",
      "# Given\n",
      "n = 4.0\n",
      "M_at = 63.55*10**-3         # Kg/mol\n",
      "NA = 6.022*10**23           # mol**-1\n",
      "R = 0.128                   # in nm\n",
      "c = 8.0                     # no.of corners of unit cells\n",
      "f = 6.0                       # no.of faces of unit cells\n",
      "\n",
      "# Calculations and Results\n",
      "# a\n",
      "N = c*(1.0/8)+f*(1.0/2)\n",
      "print(\"No. of atoms per unit cells is {0:.4f}\".format(N))\n",
      "# b\n",
      "# Lattice parameter\n",
      "a = R*2*2**(1.0/2)\n",
      "print(\"Lattice Parameter in nm is {0:.4f}\".format(a))\n",
      "a *= 10**-9  # in m\n",
      "# c\n",
      "# APF=(No.of atoms in unit cell)*(Vol. of atom)/(Vol. of unit cell)\n",
      "APF = 4**2*math.pi/(3*(2*math.sqrt(2.0))**3)\n",
      "print(\"Atomic Packing Factor is {0:.4f}\".format(APF))\n",
      "# d\n",
      "p = n*M_at/(a**3*NA)  # density\n",
      "print(\"density of Copper in Kg/m3 is {0:.4f}\".format(p))\n"
     ],
     "language": "python",
     "metadata": {},
     "outputs": [
      {
       "output_type": "stream",
       "stream": "stdout",
       "text": [
        "No. of atoms per unit cells is 4.0000\n",
        "Lattice Parameter in nm is 0.3620\n",
        "Atomic Packing Factor is 0.7405\n",
        "density of Copper in Kg/m3 is 8895.4906\n"
       ]
      }
     ],
     "prompt_number": 6
    },
    {
     "cell_type": "heading",
     "level": 2,
     "metadata": {},
     "source": [
      "Example 1.8  Page No : 23"
     ]
    },
    {
     "cell_type": "code",
     "collapsed": false,
     "input": [
      "import math\n",
      "\n",
      "# lcm function\n",
      "def lcm(*args):\n",
      "    return cal_lcm(args[0][0], cal_lcm(args[0][1], args[0][2]))\n",
      "\n",
      "\n",
      "def cal_lcm(x, y):\n",
      "    if x > y:\n",
      "        greater = x\n",
      "    else:\n",
      "        greater = y\n",
      "    while True:\n",
      "        if(greater % x == 0) and (greater % y == 0):\n",
      "            result = greater\n",
      "            break\n",
      "        greater += 1\n",
      "    return result\n",
      "\n",
      "\n",
      "# Given\n",
      "a = 1.0/float(\"inf\")\n",
      "b = -1.0/1\n",
      "c = 2.0/1\n",
      "p = (1.0, 1.0, 1.0)\n",
      "# 1/%inf = 0  ; (0/1 -1/1 2/1) hence lcm is taken for [1 1 1]\n",
      "\n",
      "# Calculations and Results\n",
      "LCM = lcm(p)\n",
      "h = a*float(LCM)\n",
      "k = b*float(LCM)\n",
      "l = c*float(LCM)\n",
      "print(\"miller indices = {0:.4f} {1:.4f} {2:.4f}\".format(h, k, l))\n"
     ],
     "language": "python",
     "metadata": {},
     "outputs": [
      {
       "output_type": "stream",
       "stream": "stdout",
       "text": [
        "miller indices = 0.0000 -1.0000 2.0000\n"
       ]
      }
     ],
     "prompt_number": 9
    },
    {
     "cell_type": "heading",
     "level": 2,
     "metadata": {},
     "source": [
      "Example 1.9  Page No : 28"
     ]
    },
    {
     "cell_type": "code",
     "collapsed": false,
     "input": [
      "import math\n",
      "\n",
      "# Given\n",
      "k = 1.38*10**-23        # J/K\n",
      "T = 300.0               # kelvin\n",
      "Ev = 0.75               # eV/atom\n",
      "Ev = Ev*1.6*10**-19     # in J\n",
      "T1 = 660.0              # degree celcius\n",
      "T1 += 273.0             # in kelvin\n",
      "# at room temperature\n",
      "# let nv/N=nv_N for convenience\n",
      "\n",
      "# Calculations and Results\n",
      "nv_N = math.exp(-Ev/(k*T))\n",
      "print(\"Fractional concentration of vacancies in the aluminium crystal at room temperature is {0:.4g}\".format(nv_N))\n",
      "# at melting temperature\n",
      "# let nv/N=nv_N for convenience\n",
      "nv_N = math.exp(-Ev/(k*T1))\n",
      "print(\"Fractional concentration of vacancies in the aluminium crystal at melting temperature is {0:.4g}\".format(nv_N))\n"
     ],
     "language": "python",
     "metadata": {},
     "outputs": [
      {
       "output_type": "stream",
       "stream": "stdout",
       "text": [
        "Fractional concentration of vacancies in the aluminium crystal at room temperature is 2.581e-13\n",
        "Fractional concentration of vacancies in the aluminium crystal at melting temperature is 8.961e-05\n"
       ]
      }
     ],
     "prompt_number": 10
    },
    {
     "cell_type": "heading",
     "level": 2,
     "metadata": {},
     "source": [
      "Example 1.10  Page No : 33"
     ]
    },
    {
     "cell_type": "code",
     "collapsed": false,
     "input": [
      "import math\n",
      "\n",
      "# Given\n",
      "NA = 6.023*10**23       # mol**-1\n",
      "d = 2.33                # density of Si in g/cm3\n",
      "Mat = 28.09             # g/mol\n",
      "Ev = 2.4                # ev/atom\n",
      "Ev = 2.4*1.6*10**-19    # J/atom\n",
      "k = 1.38*10**-23        # J/K\n",
      "T = 300.0                 # kelvin\n",
      "T1 = 1000.0               # degree celsius\n",
      "T1 += 273.0               # in kelvin\n",
      "\n",
      "# Calculations and Results\n",
      "N = (NA*d)/Mat\n",
      "# at room temperature\n",
      "nv = N*math.exp(-(Ev/(k*T)))\n",
      "print(\"concentration of vacancies in a Si crystal at room temperature in cm**-3 is {0:.4g}\".format(nv))\n",
      "# at 1000 degree celsius\n",
      "nv = N*math.exp(-(Ev/(k*T1)))\n",
      "print(\"concentration of vacancies in a Si crystal at 1000 degree celsius in cm**-3 is {0:.4g}\".format(nv))\n"
     ],
     "language": "python",
     "metadata": {},
     "outputs": [
      {
       "output_type": "stream",
       "stream": "stdout",
       "text": [
        "concentration of vacancies in a Si crystal at room temperature in cm**-3 is 2.608e-18\n",
        "concentration of vacancies in a Si crystal at 1000 degree celsius in cm**-3 is 1.605e+13\n"
       ]
      }
     ],
     "prompt_number": 11
    },
    {
     "cell_type": "heading",
     "level": 2,
     "metadata": {},
     "source": [
      "Example 1.11  Page No : 34"
     ]
    },
    {
     "cell_type": "code",
     "collapsed": false,
     "input": [
      "# Given\n",
      "# from fig 7.1\n",
      "# at 210 degree celsius\n",
      "print(\"At 210 degree celsius\")\n",
      "C_L = 50.0        # CL=50% Sn\n",
      "C_alpha = 18.0    # C_alpha=18% Sn\n",
      "Co = 40.0         # solidification of alloy\n",
      "\n",
      "# Calculations and Results\n",
      "# lever rule\n",
      "W_alpha = (C_L-Co)/(C_L-C_alpha)\n",
      "print(\"weight fraction of alpha in the alloy is {0:.4f}\".format(W_alpha*100))\n",
      "W_L = 1-W_alpha\n",
      "print(\"weight fraction of liquid phase in the alloy is {0:.4f}\".format(W_L*100))\n",
      "\n",
      "# Given\n",
      "# at 183.5 degree celsius\n",
      "print(\"At 183.5 degree celsius\")\n",
      "C_L = 61.9        # CL=50% Sn\n",
      "C_alpha = 19.2    # C_alpha=18% Sn\n",
      "Co = 40.0         # solidification of alloy\n",
      "\n",
      "# Calculation and Results\n",
      "# lever rule\n",
      "W_alpha = (C_L-Co)/(C_L-C_alpha)\n",
      "print(\"weight fraction of alpha in the alloy is {0:.4f}\".format(W_alpha*100))\n",
      "W_L = 1-W_alpha\n",
      "print(\"weight fraction of liquid phase in the alloy is {0:.4f}\".format(W_L*100))\n",
      "\n",
      "# Given\n",
      "# at 182.5 degree celsius\n",
      "print(\"At 182.5 degree celsius\")\n",
      "C_beta = 97.5     # CL=50% Sn\n",
      "C_alpha = 19.2    # C_alpha=18% Sn\n",
      "Co = 40.0         # solidification of alloy\n",
      "\n",
      "# Calculations and Results\n",
      "# lever rule\n",
      "W_alpha = (C_beta-Co)/(C_beta-C_alpha)\n",
      "print(\"weight fraction of alpha in the alloy is {0:.4f}\".format(W_alpha*100))\n",
      "W_beta = 1-W_alpha\n",
      "print(\"weight fraction of beta phase in the alloy is {0:.4f}\".format(W_beta*100))\n"
     ],
     "language": "python",
     "metadata": {},
     "outputs": [
      {
       "output_type": "stream",
       "stream": "stdout",
       "text": [
        "At 210 degree celsius\n",
        "weight fraction of alpha in the alloy is 31.2500\n",
        "weight fraction of liquid phase in the alloy is 68.7500\n",
        "At 183.5 degree celsius\n",
        "weight fraction of alpha in the alloy is 51.2881\n",
        "weight fraction of liquid phase in the alloy is 48.7119\n",
        "At 182.5 degree celsius\n",
        "weight fraction of alpha in the alloy is 73.4355\n",
        "weight fraction of beta phase in the alloy is 26.5645\n"
       ]
      }
     ],
     "prompt_number": 12
    }
   ],
   "metadata": {}
  }
 ]
}