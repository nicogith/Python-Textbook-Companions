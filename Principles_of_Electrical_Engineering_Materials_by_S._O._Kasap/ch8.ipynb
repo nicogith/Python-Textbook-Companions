{
 "metadata": {
  "name": "",
  "signature": "sha256:041d5244aa5d603722207511a0c716199565294cf0a34c3074cf07858de21983"
 },
 "nbformat": 3,
 "nbformat_minor": 0,
 "worksheets": [
  {
   "cells": [
    {
     "cell_type": "heading",
     "level": 1,
     "metadata": {},
     "source": [
      "Chapter 8 : Magnetic properties and conductivity"
     ]
    },
    {
     "cell_type": "heading",
     "level": 2,
     "metadata": {},
     "source": [
      "Example 8.3  Page No : 354"
     ]
    },
    {
     "cell_type": "code",
     "collapsed": false,
     "input": [
      "import math \n",
      "\n",
      "# Given\n",
      "Mat = 55.85*10**-3          # in Kg/mol\n",
      "NA = 6.022*10**23           # in mol**-1\n",
      "p = 7.86*10**3              # in kg/m3\n",
      "Msat = 1.75*10**6           # in A/m\n",
      "# funcprot(0)\n",
      "beta = 9.27*10**-24         # in J/tesla\n",
      "\n",
      "# Calculations and Results\n",
      "n_at = p*NA/Mat\n",
      "x = Msat/(n_at*beta)\n",
      "print(\"In the solid each Fe atom contributes only {0:.4f} bohr magneton\".format(x))\n"
     ],
     "language": "python",
     "metadata": {},
     "outputs": [
      {
       "output_type": "stream",
       "stream": "stdout",
       "text": [
        "In the solid each Fe atom contributes only 2.2275 bohr magneton\n"
       ]
      }
     ],
     "prompt_number": 1
    },
    {
     "cell_type": "heading",
     "level": 2,
     "metadata": {},
     "source": [
      "Example 8.5  Page No : 358"
     ]
    },
    {
     "cell_type": "code",
     "collapsed": false,
     "input": [
      "import math \n",
      "\n",
      "# Given\n",
      "u_o = 4*math.pi*10**-7      # in H/m\n",
      "u_ri = 2*10**3\n",
      "N = 200.0                   # no. of turns\n",
      "d = 0.005                   # in m\n",
      "D = 2.5*10**-2              # in m\n",
      "\n",
      "# Calculations and Results\n",
      "A = math.pi*(d**2)/4\n",
      "l = math.pi*D\n",
      "L = u_ri*u_o*N**2*A/l\n",
      "print(\"Approximate inductance of the coil in Henry is {0:.4f}\".format(L))\n"
     ],
     "language": "python",
     "metadata": {},
     "outputs": [
      {
       "output_type": "stream",
       "stream": "stdout",
       "text": [
        "Approximate inductance of the coil in Henry is 0.0251\n"
       ]
      }
     ],
     "prompt_number": 2
    },
    {
     "cell_type": "heading",
     "level": 2,
     "metadata": {},
     "source": [
      "Example 8.7  Page No : 359"
     ]
    },
    {
     "cell_type": "code",
     "collapsed": false,
     "input": [
      "import math \n",
      "\n",
      "# Given\n",
      "N = 500.0                 # no.of turns\n",
      "B = 5.0                   # in Tesla\n",
      "l = 1.0                   # in m\n",
      "r = 10**-3              # in m\n",
      "uo = 4*math.pi*10**-7   # in H/m\n",
      "d = 10*10**-2           # in m\n",
      "\n",
      "# Calculations and Results\n",
      "I = (B*l)/(uo*N)\n",
      "print(\"current in Amperes is {0:.4f}\".format(I))\n",
      "E_vol = B**2/(2*uo)\n",
      "v = math.pi*l*d**2/4.0\n",
      "E = E_vol*v\n",
      "print(\"Energy stored in the solenoid in joules is {0:.4f}\".format(E))\n"
     ],
     "language": "python",
     "metadata": {},
     "outputs": [
      {
       "output_type": "stream",
       "stream": "stdout",
       "text": [
        "current in Amperes is 7957.7472\n",
        "Energy stored in the solenoid in joules is 78125.0000\n"
       ]
      }
     ],
     "prompt_number": 3
    }
   ],
   "metadata": {}
  }
 ]
}