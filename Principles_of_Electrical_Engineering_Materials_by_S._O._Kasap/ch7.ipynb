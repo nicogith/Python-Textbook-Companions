{
 "metadata": {
  "name": "",
  "signature": "sha256:bf05b593414ed786160c113f8f3bb8234f72964f8f7ff07fb2368e2be036655e"
 },
 "nbformat": 3,
 "nbformat_minor": 0,
 "worksheets": [
  {
   "cells": [
    {
     "cell_type": "heading",
     "level": 1,
     "metadata": {},
     "source": [
      "Chapter 7 : Dielectric Materials and Insulation"
     ]
    },
    {
     "cell_type": "heading",
     "level": 2,
     "metadata": {},
     "source": [
      "Example 7.1  Page No : 301"
     ]
    },
    {
     "cell_type": "code",
     "collapsed": false,
     "input": [
      "# Given\n",
      "NA = 6.023*10**23           # in mol**-1\n",
      "d = 1.8                     # g/cm3\n",
      "Mat = 39.95                 # in mol**-1\n",
      "epsilon_o = 8.85*10**-12    # F/m2\n",
      "alpha_e = 1.7*10**-40       # F*m2\n",
      "\n",
      "# Calculations and Results\n",
      "N = NA*d/Mat                # in cm**-3\n",
      "N *= 10**6                  # in m**-3\n",
      "epsilon_r = 1+(N*alpha_e/epsilon_o)\n",
      "print(\"Dielectric constant of solid Ar is {0:.4f}\".format(epsilon_r))\n",
      "# using clausius-mossotti equation\n",
      "epsilon_r = (1+(2*N*alpha_e/(3*epsilon_o)))/(1-(N*alpha_e/(3*epsilon_o)))\n",
      "print(\"using clausius-mossotti equation,  Dielectric constant of solid Ar is {0:.4f}\".format(epsilon_r))\n"
     ],
     "language": "python",
     "metadata": {},
     "outputs": [
      {
       "output_type": "stream",
       "stream": "stdout",
       "text": [
        "Dielectric constant of solid Ar is 1.5213\n",
        "using clausius-mossotti equation,  Dielectric constant of solid Ar is 1.6309\n"
       ]
      }
     ],
     "prompt_number": 1
    },
    {
     "cell_type": "heading",
     "level": 2,
     "metadata": {},
     "source": [
      "Example 7.2  Page No : 307"
     ]
    },
    {
     "cell_type": "code",
     "collapsed": false,
     "input": [
      "import math \n",
      "\n",
      "# Given\n",
      "N = 5*10**28                    # in m**-3\n",
      "e = 1.6*10**-19                 # in coulombs\n",
      "Z = 4.0\n",
      "me = 9.1*10**-31                # in Kg\n",
      "epsilon_o = 8.85*10**-12        # F/m2\n",
      "epsilon_r = 11.9\n",
      "\n",
      "# Calculations and Results\n",
      "# part(a)\n",
      "alpha_e = (3*epsilon_o/N)*((epsilon_r-1)/(epsilon_r+2))\n",
      "print(\"Electronic polarizability in F/m2 {0:.4g}\".format(alpha_e))\n",
      "# part(b)\n",
      "# let x=E_loc/E\n",
      "x = (epsilon_r+2)/3.0\n",
      "print(\"Local field is a factor of {0:.4f} greater than applied field\".format(x))\n",
      "# part(c)\n",
      "wo = math.sqrt(Z*e**2/(me*alpha_e))\n",
      "fo = wo/(2*math.pi)\n",
      "print(\"resonant frequency in Hz is {0:.4g}\".format(fo))\n"
     ],
     "language": "python",
     "metadata": {},
     "outputs": [
      {
       "output_type": "stream",
       "stream": "stdout",
       "text": [
        "Electronic polarizability in F/m2 4.164e-40\n",
        "Local field is a factor of 4.6333 greater than applied field\n",
        "resonant frequency in Hz is 2.616e+15\n"
       ]
      }
     ],
     "prompt_number": 2
    },
    {
     "cell_type": "heading",
     "level": 2,
     "metadata": {},
     "source": [
      "Example 7.3  Page No : 311"
     ]
    },
    {
     "cell_type": "code",
     "collapsed": false,
     "input": [
      "# Given\n",
      "# let epsilon=E\n",
      "Eo = 8.85*10**-12               # in F/m\n",
      "Ni = 1.43*10**28                # in m**-3\n",
      "alpha_e_Cs = 3.35*10**-40       # F m2\n",
      "alpha_e_Cl = 3.40*10**-40       # F m2\n",
      "alpha_i = 6*10**-40             # F m2\n",
      "\n",
      "# Calculations and Results\n",
      "# (Er-1)/(Er+2)=(1/(3*E0))*(Ni*alpha_e(Cs+)+Ni*alpha_e(Cl-)+Ni*alpha_i)\n",
      "# let x=(1/(3*E0))*(Ni*alpha_e(Cs+)+Ni*alpha_e(Cl-)+Ni*alpha_i)\n",
      "# after few mathematical steps we get\n",
      "# Er=(2*x+1)/(1-x)\n",
      "x = (1.0/(3*Eo))*(Ni*alpha_e_Cs+Ni*alpha_e_Cl+Ni*alpha_i)\n",
      "Er = (2*x+1)/(1-x)\n",
      "print(\"Dielectric constant at low frequency is\")\n",
      "# similarly\n",
      "# let y=(1/(3*E0))*(Ni*alpha_e(Cs+)+Ni*alpha_e(Cl-))\n",
      "# after few mathematical steps we get\n",
      "# Erop=(2*x+1)/(1-x)\n",
      "y = (1.0/(3*Eo))*(Ni*alpha_e_Cs+Ni*alpha_e_Cl)\n",
      "Erop = (2*y+1)/(1-y)\n",
      "print(\"Dielectric constant at optical frequency is {0:.4f}\".format(Erop))\n"
     ],
     "language": "python",
     "metadata": {},
     "outputs": [
      {
       "output_type": "stream",
       "stream": "stdout",
       "text": [
        "Dielectric constant at low frequency is\n",
        "Dielectric constant at optical frequency is 2.7137\n"
       ]
      }
     ],
     "prompt_number": 3
    },
    {
     "cell_type": "heading",
     "level": 2,
     "metadata": {},
     "source": [
      "Example 7.6  Page No : 315"
     ]
    },
    {
     "cell_type": "code",
     "collapsed": false,
     "input": [
      "import math\n",
      "\n",
      "# Given\n",
      "# power dissipated at a given voltage per unit capacitance depends only on w*math.tan(delta)\n",
      "# at f=60 #in Hz.\n",
      "f = 60.0                # in Hz.\n",
      "w = 2*math.pi*f\n",
      "# let x=math.tan(delta)\n",
      "x_PC = 9*10**-4         # Ploy-carbonate\n",
      "x_SR = 2.25*10**-2      # Silicone rubber\n",
      "x_E = 4.7*10**-2        # Epoxy with mineral filler\n",
      "\n",
      "# Calculations and Results\n",
      "p_PC = w*x_PC\n",
      "p_SR = w*x_SR\n",
      "p_E = w*x_E\n",
      "a = min(p_PC, p_SR, p_E)\n",
      "print(\"The minimum w*math.radians(math.tan(delta) is {0:.4f} which corresponds to polycarbonate\".format(a))\n",
      "print(\"Hence the lowest power dissipation per unit capacitance at a given voltage \"\n",
      "      \"corresponds to polycarbonate at 60Hz\")\n",
      "\n",
      "# Given\n",
      "# at f=1                # in MHz.\n",
      "f = 10**6               # in Hz.\n",
      "w = 2*math.pi*f\n",
      "# let x=math.tan(delta)\n",
      "x_PC = 1*10**-2         # Ploy-carbonate\n",
      "x_SR = 4*10**-3         # Silicone rubber\n",
      "x_E = 3*10**-2          # Epoxy with mineral filler\n",
      "\n",
      "# Calculations and Results\n",
      "p_PC = w*x_PC\n",
      "p_SR = w*x_SR\n",
      "p_E = w*x_E\n",
      "a = min(p_PC, p_SR, p_E)\n",
      "print(\"The minimum w*math.radians(math.tan(delta) is {0:.4f} which corresponds to Silicone rubber\".format(a))\n",
      "print(\"Hence, the lowest power dissipation per unit capacitance at a given \"\n",
      "      \"voltage corresponds to Silicone rubber at 1MHz\")\n"
     ],
     "language": "python",
     "metadata": {},
     "outputs": [
      {
       "output_type": "stream",
       "stream": "stdout",
       "text": [
        "The minimum w*math.radians(math.tan(delta) is 0.3393 which corresponds to polycarbonate\n",
        "Hence the lowest power dissipation per unit capacitance at a given voltage corresponds to polycarbonate at 60Hz\n",
        "The minimum w*math.radians(math.tan(delta) is 25132.7412 which corresponds to Silicone rubber\n",
        "Hence, the lowest power dissipation per unit capacitance at a given voltage corresponds to Silicone rubber at 1MHz\n"
       ]
      }
     ],
     "prompt_number": 4
    },
    {
     "cell_type": "heading",
     "level": 2,
     "metadata": {},
     "source": [
      "Example 7.7  Page No : 320"
     ]
    },
    {
     "cell_type": "code",
     "collapsed": false,
     "input": [
      "import math \n",
      "\n",
      "# Given\n",
      "# at 60 Hz\n",
      "f = 60.0                    # Hz\n",
      "E = 100*10**3*10**2         # in V/m\n",
      "# values taken from table 7.3\n",
      "epsilon_o = 8.85*10**-12    # in F/m\n",
      "epsilon_r_HLPE = 2.3\n",
      "epsilon_r_Alumina = 8.5\n",
      "# let x=math.tan(delta)\n",
      "x_HLPE = 3*10**-4\n",
      "x_Alumina = 1*10**-3\n",
      "\n",
      "# Calculations and Results\n",
      "W_vol_HLPE = 2*math.pi*f*E**2*epsilon_o*epsilon_r_HLPE*x_HLPE  # in W/m3\n",
      "W_vol_HLPE /= 10**3         # in mW/cm3\n",
      "print(\"Heat dissipated per unit volume of HLPE at 60 Hz in mW/cm3 is {0:.4f}\".format(W_vol_HLPE))\n",
      "W_vol_Alumina = 2*math.pi*f*E**2*epsilon_o*epsilon_r_Alumina*x_Alumina\n",
      "W_vol_Alumina /= 10**3      # in mW/cm3\n",
      "print(\"Heat dissipated per unit volume of Alumina at 60 Hz in mW/cm3 is {0:.4f}\".format(W_vol_Alumina))\n",
      "\n",
      "# Given\n",
      "# at 1 MHz\n",
      "f = 10**6                   # Hz\n",
      "x_HLPE = 4*10**-4\n",
      "x_Alumina = 1*10**-3\n",
      "\n",
      "# Calculations and Results\n",
      "W_vol_HLPE = 2*math.pi*f*E**2*epsilon_o*epsilon_r_HLPE*x_HLPE  # in W/m3\n",
      "W_vol_HLPE /= 10**6         # in W/cm3\n",
      "print(\"Heat dissipated per unit volume of HLPE at 1 MHz in mW/cm3 is {0:.4f}\".format(W_vol_HLPE))\n",
      "W_vol_Alumina = 2*math.pi*f*E**2*epsilon_o*epsilon_r_Alumina*x_Alumina\n",
      "W_vol_Alumina /= 10**6      # in W/cm3\n",
      "print(\"Heat dissipated per unit volume of Alumina at 1 MHz in mW/cm3 is {0:.4f}\".format(W_vol_Alumina))\n",
      "print(\"The heats at 60Hz are small comparing to heats at 1MHz\")\n",
      "\n"
     ],
     "language": "python",
     "metadata": {},
     "outputs": [
      {
       "output_type": "stream",
       "stream": "stdout",
       "text": [
        "Heat dissipated per unit volume of HLPE at 60 Hz in mW/cm3 is 0.2302\n",
        "Heat dissipated per unit volume of Alumina at 60 Hz in mW/cm3 is 2.8359\n",
        "Heat dissipated per unit volume of HLPE at 1 MHz in mW/cm3 is 5.1158\n",
        "Heat dissipated per unit volume of Alumina at 1 MHz in mW/cm3 is 47.2653\n",
        "The heats at 60Hz are small comparing to heats at 1MHz\n"
       ]
      }
     ],
     "prompt_number": 5
    },
    {
     "cell_type": "heading",
     "level": 2,
     "metadata": {},
     "source": [
      "Example 7.10  Page No : 324"
     ]
    },
    {
     "cell_type": "code",
     "collapsed": false,
     "input": [
      "import math \n",
      "\n",
      "# Given\n",
      "# part(C)\n",
      "d = 0.5                 # cm\n",
      "a = d/2.0               # in cm\n",
      "t = 0.5                 # in cm\n",
      "Ebr_X = 217.0           # in kV/cm from table 7.5\n",
      "Ebr_S = 158.0           # in kV/cm from table 7.5\n",
      "\n",
      "# Calculations and Results\n",
      "b = a+t\n",
      "Vbr_X = Ebr_X*a*math.log(b/a)\n",
      "print(\"breakdown voltage of XLPE in kV is {0:.4f}\".format(Vbr_X))\n",
      "Vbr_S = Ebr_S*a*math.log(b/a)\n",
      "print(\"breakdown voltage of Silicone rubber in kV is {0:.4f}\".format(Vbr_S))\n",
      "# part(d)\n",
      "# Given\n",
      "# letE=epsiolon\n",
      "Er_X = 2.3              # for XLPE\n",
      "Er_S = 3.7              # for Silicone rubber\n",
      "# Eair_br=Ebr\n",
      "Eair_br_X = 100.0       # in kV/cm\n",
      "Eair_br_S = 100.0       # in kV/cm\n",
      "\n",
      "# Calculations and Results\n",
      "# Vair_br=Eair_br*a*math.log(b/a)/Er\n",
      "Vair_br_X = Eair_br_X*a*math.log(b/a)/Er_X\n",
      "print(\"Voltage for partial discharge in a microvoid for XLPE in  kV is {0:.4f}\".format(Vair_br_X))\n",
      "Vair_br_S = Eair_br_S*a*math.log(b/a)/Er_S\n",
      "print(\"Voltage for partial discharge in a microvoid for Silicone rubber in  kV is {0:.4f}\".format(Vair_br_S))\n"
     ],
     "language": "python",
     "metadata": {},
     "outputs": [
      {
       "output_type": "stream",
       "stream": "stdout",
       "text": [
        "breakdown voltage of XLPE in kV is 59.5997\n",
        "breakdown voltage of Silicone rubber in kV is 43.3952\n",
        "Voltage for partial discharge in a microvoid for XLPE in  kV is 11.9414\n",
        "Voltage for partial discharge in a microvoid for Silicone rubber in  kV is 7.4231\n"
       ]
      }
     ],
     "prompt_number": 6
    },
    {
     "cell_type": "heading",
     "level": 2,
     "metadata": {},
     "source": [
      "Example 7.11  Page No : 327"
     ]
    },
    {
     "cell_type": "code",
     "collapsed": false,
     "input": [
      "import math \n",
      "\n",
      "# Given\n",
      "# letE=epsiolon\n",
      "Er_100c = 2.69\n",
      "Er_25c = 2.60\n",
      "f = 1*10**3             # in Hz\n",
      "w = 2*math.pi*f\n",
      "C_25c = 560*10**-12     # in Farads\n",
      "# Gp=w*C*math.tan(delta)\n",
      "# let x=math.tan(delta)=0.002\n",
      "x = 0.002\n",
      "\n",
      "# Calculations and Results\n",
      "Gp = w*C_25c*x\n",
      "print(\"Equivalent parallel conductance at 25 degree celsius in ohm**-1 is {0:.4g}\".format(Gp))\n",
      "\n",
      "# Given\n",
      "# at 100 c\n",
      "x = 0.01\n",
      "\n",
      "# Calculations and Results\n",
      "C_100c = C_25c*Er_100c/Er_25c\n",
      "Gp = w*C_100c*x\n",
      "print(\"Equivalent parallel conductance at 100 degree celsius in ohm**-1 is {0:.4g}\".format(Gp))\n"
     ],
     "language": "python",
     "metadata": {},
     "outputs": [
      {
       "output_type": "stream",
       "stream": "stdout",
       "text": [
        "Equivalent parallel conductance at 25 degree celsius in ohm**-1 is 7.037e-09\n",
        "Equivalent parallel conductance at 100 degree celsius in ohm**-1 is 3.64e-08\n"
       ]
      }
     ],
     "prompt_number": 7
    },
    {
     "cell_type": "heading",
     "level": 2,
     "metadata": {},
     "source": [
      "Example 7.12  Page No : 331"
     ]
    },
    {
     "cell_type": "code",
     "collapsed": false,
     "input": [
      "import math \n",
      "\n",
      "# Given\n",
      "Eo = 8.85*10**-12           # F/m2\n",
      "Er = 1000.0\n",
      "D = 3*10**-3                # in m\n",
      "V = 5000.0                  # in V\n",
      "d = 200*10**-12             # in m/V\n",
      "L = 10*10**-3               # in mm\n",
      "\n",
      "# Calculations and Results\n",
      "A = math.pi*(D/2.0)**2\n",
      "F = Eo*Er*A*V/(d*L)\n",
      "print(\"Force required to spark the gap in Newton is {0:.4f}\".format(F))\n"
     ],
     "language": "python",
     "metadata": {},
     "outputs": [
      {
       "output_type": "stream",
       "stream": "stdout",
       "text": [
        "Force required to spark the gap in Newton is 156.3924\n"
       ]
      }
     ],
     "prompt_number": 8
    },
    {
     "cell_type": "heading",
     "level": 2,
     "metadata": {},
     "source": [
      "Example 7.13  Page No : 333"
     ]
    },
    {
     "cell_type": "code",
     "collapsed": false,
     "input": [
      "import math \n",
      "\n",
      "# Given\n",
      "fs = 1.0                  # in MHz\n",
      "k = 0.1\n",
      "\n",
      "# Calculations and Results\n",
      "fa = fs/(math.sqrt(1-k**2))\n",
      "print(\"fa value in MHz for given fs is {0:.4f}\".format(fa))\n",
      "print(\"thus fa-fs is only {0:.4f} kHz (which means they are very close)\".format((fa-fs)*10**3))\n"
     ],
     "language": "python",
     "metadata": {},
     "outputs": [
      {
       "output_type": "stream",
       "stream": "stdout",
       "text": [
        "fa value in MHz for given fs is 1.0050\n",
        "thus fa-fs is only 5.0378 kHz (which means they are very close)\n"
       ]
      }
     ],
     "prompt_number": 9
    },
    {
     "cell_type": "heading",
     "level": 2,
     "metadata": {},
     "source": [
      "Example 7.14  Page No : 334"
     ]
    },
    {
     "cell_type": "code",
     "collapsed": false,
     "input": [
      "import math \n",
      "\n",
      "# Given\n",
      "Co = 5.0              # in pF\n",
      "fa = 1.0025           # in MHz\n",
      "fs = 1.0              # in MHz\n",
      "R = 20.0              # in ohms\n",
      "\n",
      "# Calculations and Results\n",
      "C = Co*((fa/fs)**2-1)\n",
      "print(\"Capacitance value in the equivalent circuit of the crystal in pF is {0:.4f}\".format(C))\n",
      "L = 1/(C*(2*math.pi*fs)**2)\n",
      "print(\"Inductance value in the equivalent circuit of the crystal in Henry is {0:.4f}\".format(L))\n",
      "\n",
      "# Given\n",
      "fs *= 10**6         # in Hz\n",
      "C *= 10**-12        # in F\n",
      "\n",
      "# Calculations and Results\n",
      "Q = 1.0/(2*math.pi*fs*R*C)\n",
      "print(\"Quality factor of the crystal is {0:.4g}\".format(Q))\n"
     ],
     "language": "python",
     "metadata": {},
     "outputs": [
      {
       "output_type": "stream",
       "stream": "stdout",
       "text": [
        "Capacitance value in the equivalent circuit of the crystal in pF is 0.0250\n",
        "Inductance value in the equivalent circuit of the crystal in Henry is 1.0119\n",
        "Quality factor of the crystal is 3.179e+05\n"
       ]
      }
     ],
     "prompt_number": 10
    },
    {
     "cell_type": "heading",
     "level": 2,
     "metadata": {},
     "source": [
      "Example 7.15  Page No : 340"
     ]
    },
    {
     "cell_type": "code",
     "collapsed": false,
     "input": [
      "# Given\n",
      "P = 380*10**-6          # in C/m2/K\n",
      "c = 380.0               # in J/Kg/K\n",
      "# let epsilon=E\n",
      "Eo = 8.85*10**-12       # in F/m\n",
      "Er = 290.0\n",
      "rho = 7000.0            # in Kg/m3\n",
      "delta_V = 0.001         # in V\n",
      "delta_t = 0.2           # in seconds\n",
      "\n",
      "# Calculations and Results\n",
      "I = (P/(rho*c*Eo*Er))**-1*delta_V/delta_t\n",
      "print(\"Minimum radiation intensity that can be measured in W/m2 is {0:.4f}\".format(I))\n"
     ],
     "language": "python",
     "metadata": {},
     "outputs": [
      {
       "output_type": "stream",
       "stream": "stdout",
       "text": [
        "Minimum radiation intensity that can be measured in W/m2 is 0.0898\n"
       ]
      }
     ],
     "prompt_number": 11
    }
   ],
   "metadata": {}
  }
 ]
}