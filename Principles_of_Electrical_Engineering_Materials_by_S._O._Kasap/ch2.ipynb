{
 "metadata": {
  "name": "",
  "signature": "sha256:bfb56d32f2fccdba55a3a9ca27883b3fb3f7cd5c9e884d2c3ad898549e047a85"
 },
 "nbformat": 3,
 "nbformat_minor": 0,
 "worksheets": [
  {
   "cells": [
    {
     "cell_type": "heading",
     "level": 1,
     "metadata": {},
     "source": [
      "Chapter 2 : Electrical and thermal conduction in solids"
     ]
    },
    {
     "cell_type": "heading",
     "level": 2,
     "metadata": {},
     "source": [
      "Example 2.2  Page No : 43"
     ]
    },
    {
     "cell_type": "code",
     "collapsed": false,
     "input": [
      "# Given\n",
      "sigma = 5.9*10**5   # in ohm**-1*cm**-1\n",
      "e = 1.6*10**-19     # Coulombs\n",
      "d = 8.93            # g/cm**3\n",
      "Mat = 63.5          # g/mol\n",
      "NA = 6.02*10**23    # mol**-1\n",
      "\n",
      "# Calculations and Results\n",
      "n = d*NA/Mat\n",
      "u_d = sigma/(e*n)   # electron drift mobility\n",
      "print(\"Drift mobility of electrons in copper at room temperature in cm2/V/s is {0:.4f}\".format(u_d))\n"
     ],
     "language": "python",
     "metadata": {},
     "outputs": [
      {
       "output_type": "stream",
       "stream": "stdout",
       "text": [
        "Drift mobility of electrons in copper at room temperature in cm2/V/s is 43.5570\n"
       ]
      }
     ],
     "prompt_number": 1
    },
    {
     "cell_type": "heading",
     "level": 2,
     "metadata": {},
     "source": [
      "Example 2.3  Page No : 49"
     ]
    },
    {
     "cell_type": "code",
     "collapsed": false,
     "input": [
      "# Given\n",
      "u_d = 3.2*10**-3    # in m**2/V/s\n",
      "u = 1.2*10**6       # m/s\n",
      "v_dx = 0.1*u\n",
      "\n",
      "# Calculations and Results\n",
      "# drift velocity of conduction electrons is v_dx=u_d*E\n",
      "E = v_dx/u_d\n",
      "print(\"Applied electric field in V/m is {0:.4g}\".format(E))\n"
     ],
     "language": "python",
     "metadata": {},
     "outputs": [
      {
       "output_type": "stream",
       "stream": "stdout",
       "text": [
        "Applied electric field in V/m is 3.75e+07\n"
       ]
      }
     ],
     "prompt_number": 2
    },
    {
     "cell_type": "heading",
     "level": 2,
     "metadata": {},
     "source": [
      "Example 2.4  Page No : 50"
     ]
    },
    {
     "cell_type": "code",
     "collapsed": false,
     "input": [
      "# Given\n",
      "T_summer = 20.0     # in degree celsius\n",
      "T_summer += 273.0   # in kelvin\n",
      "T_winter = -30.0    # in degree celsius\n",
      "T_winter += 273.0   # in kelvin\n",
      "\n",
      "# Calculations and Results\n",
      "# we have R is proportional to A*T\n",
      "# Hence\n",
      "R = (T_summer-T_winter)/T_summer\n",
      "R *= 100\n",
      "print(\" Percentage change in the resistance of a pure metal wire from Saskatchewans summer \"\n",
      "      \"too winter in % is {0:.4f}\".format(R))\n",
      "\n"
     ],
     "language": "python",
     "metadata": {},
     "outputs": [
      {
       "output_type": "stream",
       "stream": "stdout",
       "text": [
        " Percentage change in the resistance of a pure metal wire from Saskatchewans summer too winter in % is 17.0648\n"
       ]
      }
     ],
     "prompt_number": 3
    },
    {
     "cell_type": "heading",
     "level": 2,
     "metadata": {},
     "source": [
      "Example 2.5  Page No : 52"
     ]
    },
    {
     "cell_type": "code",
     "collapsed": false,
     "input": [
      "import math \n",
      "\n",
      "# Given\n",
      "d = 8.96*10**3      # in Kg/m3\n",
      "NA = 6.02*10**23    # mol**-1\n",
      "Mat = 63.56*10**-3  # Kg/mol\n",
      "k = 1.38*10**-23    # J/K\n",
      "T = 300.0             # kelvin\n",
      "e = 1.6*10**-19     # in coulombs\n",
      "m_e = 9.1*10**-31   # in Kg\n",
      "u = 1.25*10**6      # m/s\n",
      "f = 4*10**12        # frequency in s**-1\n",
      "\n",
      "# Calculations and Results\n",
      "Ns = d*NA/Mat       # atomic concentration in m**-3\n",
      "M = Mat/NA\n",
      "w = 2*math.pi*f     # angular frequency of the vibration\n",
      "# by virtue of Equipartition of energy  theorem\n",
      "a = math.sqrt((2*k*T)/(M*w**2))\n",
      "S = math.pi*a**2    # cross sectional area\n",
      "t = 1.0/(S*u*Ns)      # mean free time\n",
      "u_d = e*t/m_e       # drift velocity\n",
      "u_d *= 10**4        # change in units\n",
      "Ns /= 10**6         # in cm**-3\n",
      "sigma = e*Ns*u_d    # conductivity\n",
      "print(\"drift velocity of electrons in m2/V/s is {0:.4f}\".format(u_d))\n",
      "print(\"conductivity of copper in ohm**-1/cm is {0:.4g}\".format(sigma))\n",
      "# slight change in the answer is due to the computation method, otherwise answer is matching with textbook\n"
     ],
     "language": "python",
     "metadata": {},
     "outputs": [
      {
       "output_type": "stream",
       "stream": "stdout",
       "text": [
        "drift velocity of electrons in m2/V/s is 42.4947\n",
        "conductivity of copper in ohm**-1/cm is 5.77e+05\n"
       ]
      }
     ],
     "prompt_number": 4
    },
    {
     "cell_type": "heading",
     "level": 2,
     "metadata": {},
     "source": [
      "Example 2.7  Page No : 53"
     ]
    },
    {
     "cell_type": "code",
     "collapsed": false,
     "input": [
      "# Given\n",
      "n = 1.2\n",
      "To = 293.0              # in kelvin\n",
      "\n",
      "# Calculations and Results\n",
      "alpha_o = n/To\n",
      "print(\"Theoretical value of TCR at 293K is {0:.4f} which is in \"\n",
      "      \"well agreement with experimental value\".format(alpha_o))\n",
      "alpha_o = 0.00393       # experimental value\n",
      "n = alpha_o*To\n",
      "print(\"Theoretical value of n at 293K (n = {0:.4f}) is in well agreement with experimental value\".format(n))\n"
     ],
     "language": "python",
     "metadata": {},
     "outputs": [
      {
       "output_type": "stream",
       "stream": "stdout",
       "text": [
        "Theoretical value of TCR at 293K is 0.0041 which is in well agreement with experimental value\n",
        "Theoretical value of n at 293K (n = 1.1515) is in well agreement with experimental value\n"
       ]
      }
     ],
     "prompt_number": 5
    },
    {
     "cell_type": "heading",
     "level": 2,
     "metadata": {},
     "source": [
      "Example 2.9  Page No : 58"
     ]
    },
    {
     "cell_type": "code",
     "collapsed": false,
     "input": [
      "import math\n",
      "\n",
      "# Given\n",
      "P = 40.0                # in Watt\n",
      "V = 120.0               # in Volts\n",
      "D = 33*10**-6         # in meter\n",
      "L = 0.381             # in meter\n",
      "To = 293.0              # in kelvin\n",
      "P_radiated = 40.0       # in watt\n",
      "epsilon = 0.35\n",
      "sigma_s = 5.6*10**-8  # in W/m2/K4\n",
      "\n",
      "# Calculations and Results\n",
      "I = P/V\n",
      "A = math.pi*D**2/4.0\n",
      "R = V/I               # resistance of the filament\n",
      "p_t = R*A/L           # resistivity of tungsten\n",
      "p_o = 5.51*10**-8     # resistivity at room temperature in ohm*m\n",
      "# p_t=p_o*(T/To)**1.2\n",
      "T = To*(p_t/p_o)**(1.0/1.2)\n",
      "print(\"Temperature of the bulb when it is operated at the rated voltage in Kelvin is {0:.4f}\".format(T))\n",
      "A = L*math.pi*D\n",
      "# Stefans Law\n",
      "T = (P_radiated/(epsilon*sigma_s*A))**(1.0/4.0)\n",
      "print(\"Temperature of the filament in kelvin is {0:.4f}\".format(T))\n"
     ],
     "language": "python",
     "metadata": {},
     "outputs": [
      {
       "output_type": "stream",
       "stream": "stdout",
       "text": [
        "Temperature of the bulb when it is operated at the rated voltage in Kelvin is 2746.7599\n",
        "Temperature of the filament in kelvin is 2681.0430\n"
       ]
      }
     ],
     "prompt_number": 6
    },
    {
     "cell_type": "heading",
     "level": 2,
     "metadata": {},
     "source": [
      "Example 2.10  Page No : 63"
     ]
    },
    {
     "cell_type": "code",
     "collapsed": false,
     "input": [
      "# Given\n",
      "M_Au = 197.0\n",
      "w = 0.1\n",
      "M_Cu = 63.55\n",
      "p_exp = 108.0         # n*ohm*m\n",
      "\n",
      "# Calculations and Results\n",
      "X = M_Au*w/((1-w)*M_Cu+(w*M_Au))\n",
      "C = 450.0             # n*ohm*m\n",
      "p_Au = 22.8         # resistivity in n*ohm*m\n",
      "p = p_Au+C*X*(1-X)  # Nordheim rule\n",
      "x = ((p-p_exp)/p)*100\n",
      "print(\"resistivity of the alloy in n*ohm*m is {0:.4f}\".format(p))\n",
      "print(\"The difference in the value from experimental value in % is {0:.4f}\".format(x))\n"
     ],
     "language": "python",
     "metadata": {},
     "outputs": [
      {
       "output_type": "stream",
       "stream": "stdout",
       "text": [
        "resistivity of the alloy in n*ohm*m is 108.5513\n",
        "The difference in the value from experimental value in % is 0.5079\n"
       ]
      }
     ],
     "prompt_number": 7
    },
    {
     "cell_type": "heading",
     "level": 2,
     "metadata": {},
     "source": [
      "Example 2.11  Page No : 68"
     ]
    },
    {
     "cell_type": "code",
     "collapsed": false,
     "input": [
      "# Given\n",
      "u = 1.58*10**6    # in m/s\n",
      "N = 8.5*10**28    # m**-3\n",
      "e = 1.6*10**-19   # in coulombs\n",
      "me = 9.1*10**-31  # in Kg\n",
      "N_I = 0.01*N\n",
      "\n",
      "# Calculations and Results\n",
      "l_I = N_I**(-1/3)\n",
      "t_I = l_I/u\n",
      "p = me/(e**2*N*t_I)\n",
      "print(\" worst case resistivity in ohm*m {0:.4g}\".format(p))\n",
      "# slight change in answer due to computational method\n"
     ],
     "language": "python",
     "metadata": {},
     "outputs": [
      {
       "output_type": "stream",
       "stream": "stdout",
       "text": [
        " worst case resistivity in ohm*m 5.616e+11\n"
       ]
      }
     ],
     "prompt_number": 8
    },
    {
     "cell_type": "heading",
     "level": 2,
     "metadata": {},
     "source": [
      "Example 2.13  Page No : 74"
     ]
    },
    {
     "cell_type": "code",
     "collapsed": false,
     "input": [
      "# Given\n",
      "Xd = 0.15\n",
      "p_c = 1*10**-7          # ohm*m\n",
      "\n",
      "# Calculations and Results\n",
      "p_eff = p_c*((1+0.5*Xd)/(1-Xd))\n",
      "print(\"Effective resistivity in ohm m is {0:.4g}\".format(p_eff))\n",
      "# slight change in the answer due to printing the answer\n"
     ],
     "language": "python",
     "metadata": {},
     "outputs": [
      {
       "output_type": "stream",
       "stream": "stdout",
       "text": [
        "Effective resistivity in ohm m is 1.265e-07\n"
       ]
      }
     ],
     "prompt_number": 9
    },
    {
     "cell_type": "heading",
     "level": 2,
     "metadata": {},
     "source": [
      "Example 2.14  Page No : 75"
     ]
    },
    {
     "cell_type": "code",
     "collapsed": false,
     "input": [
      "# Given\n",
      "Xd = 0.15\n",
      "p_c = 4*10**-8      # ohm*m\n",
      "\n",
      "# Calculations and Results\n",
      "p_eff = p_c*((1+0.5*Xd)/(1-Xd))\n",
      "print(\"Effective resistivity in ohm m is {0:.4g}\".format(p_eff))\n",
      "# change in the answer due to coding\n"
     ],
     "language": "python",
     "metadata": {},
     "outputs": [
      {
       "output_type": "stream",
       "stream": "stdout",
       "text": [
        "Effective resistivity in ohm m is 5.059e-08\n"
       ]
      }
     ],
     "prompt_number": 10
    },
    {
     "cell_type": "heading",
     "level": 2,
     "metadata": {},
     "source": [
      "Example 2.16  Page No : 76"
     ]
    },
    {
     "cell_type": "code",
     "collapsed": false,
     "input": [
      "import math \n",
      "\n",
      "# Given\n",
      "# at f=10MHz\n",
      "a = 10**-3              # in m\n",
      "f = 10*10**6            # in Hz\n",
      "w = 2*math.pi*f\n",
      "sigma_dc = 5.9*10**7    # in m**-1\n",
      "u = 1.257*10**-6        # in Wb/A/m\n",
      "\n",
      "# Calculations and Results\n",
      "delta = 1.0/math.sqrt(0.5*w*sigma_dc*u)\n",
      "# let r=r_ac/r_dc=a/(2*delta)\n",
      "r = a/(2*delta)\n",
      "print(\"Change in dc resistance of a copper wire at 10MHz  is {0:.4f}\".format(r))\n",
      "# part(b)\n",
      "f = 1*10**9  # in Hz\n",
      "w = 2*math.pi*f\n",
      "delta = 1.0/math.sqrt(0.5*w*sigma_dc*u)\n",
      "# let r=r_ac/r_dc=a/(2*delta)\n",
      "r = a/(2*delta)\n",
      "print(\"Change in dc resistance of a copper wire at 1GHz  is {0:.4f}\".format(r))\n"
     ],
     "language": "python",
     "metadata": {},
     "outputs": [
      {
       "output_type": "stream",
       "stream": "stdout",
       "text": [
        "Change in dc resistance of a copper wire at 10MHz  is 24.1345\n",
        "Change in dc resistance of a copper wire at 1GHz  is 241.3452\n"
       ]
      }
     ],
     "prompt_number": 11
    },
    {
     "cell_type": "heading",
     "level": 2,
     "metadata": {},
     "source": [
      "Example 2.18  Page No : 79"
     ]
    },
    {
     "cell_type": "code",
     "collapsed": false,
     "input": [
      "# Given\n",
      "sigma = 5.9*10**7       # ohm**-1*m**-2\n",
      "RH = -0.55*10**-10      # m**3/A/s\n",
      "\n",
      "# Calculations and Results\n",
      "u_d = -RH*sigma\n",
      "print(\"drift mobility of electrons in copper in m2/V/s is {0:.4g}\".format(u_d))\n"
     ],
     "language": "python",
     "metadata": {},
     "outputs": [
      {
       "output_type": "stream",
       "stream": "stdout",
       "text": [
        "drift mobility of electrons in copper in m2/V/s is 0.003245\n"
       ]
      }
     ],
     "prompt_number": 12
    },
    {
     "cell_type": "heading",
     "level": 2,
     "metadata": {},
     "source": [
      "Example 2.19  Page No : 80"
     ]
    },
    {
     "cell_type": "code",
     "collapsed": false,
     "input": [
      "# Given\n",
      "no = 8.5*10**28     # in m3\n",
      "e = 1.6*10**-19     # in coulombs\n",
      "u_d = 3.2*10**-3    # m2/V/s\n",
      "sigma = 5.9*10**7   # in ohm**-1*m**-1\n",
      "\n",
      "# Calculations and Results\n",
      "n = sigma/(e*u_d)\n",
      "print(\"concentration of conduction electrons in copper in m**-3 is {0:.4g}\".format(n))\n",
      "A = n/no\n",
      "print(\"Average number of electrons contributed per atom is {0:.4f}\".format(A))\n"
     ],
     "language": "python",
     "metadata": {},
     "outputs": [
      {
       "output_type": "stream",
       "stream": "stdout",
       "text": [
        "concentration of conduction electrons in copper in m**-3 is 1.152e+29\n",
        "Average number of electrons contributed per atom is 1.3557\n"
       ]
      }
     ],
     "prompt_number": 13
    },
    {
     "cell_type": "heading",
     "level": 2,
     "metadata": {},
     "source": [
      "Example 2.20  Page No : 85"
     ]
    },
    {
     "cell_type": "code",
     "collapsed": false,
     "input": [
      "# Given\n",
      "sigma = 1*10**7         # ohm**-1*m**-1\n",
      "T = 300.0               # kelvin\n",
      "C_WFL = 2.44*10**-8     # W*ohm/K2\n",
      "X_d = 0.15\n",
      "\n",
      "# Calculations and Results\n",
      "K_c = sigma*T*C_WFL\n",
      "K_eff = K_c*((1-X_d)/(1+0.5*X_d))\n",
      "print(\"Thermal Conductivity at room temperature in W/m/K is {0:.4f}\".format(K_eff))\n"
     ],
     "language": "python",
     "metadata": {},
     "outputs": [
      {
       "output_type": "stream",
       "stream": "stdout",
       "text": [
        "Thermal Conductivity at room temperature in W/m/K is 57.8791\n"
       ]
      }
     ],
     "prompt_number": 14
    },
    {
     "cell_type": "heading",
     "level": 2,
     "metadata": {},
     "source": [
      "Example 2.21  Page No : 89"
     ]
    },
    {
     "cell_type": "code",
     "collapsed": false,
     "input": [
      "import math \n",
      "# Chapter2\n",
      "# Ex_21\n",
      "# Given\n",
      "sigma = 50*10**-9       # in ohm\n",
      "T = 300.0               # kelvin\n",
      "C_WFL = 2.45*10**-8     # in W*ohm/K2\n",
      "L = 30*10**-3           # in m\n",
      "d = 20*10**-3           # in m\n",
      "Q = 10.0                # in W\n",
      "\n",
      "# Calculations and Results\n",
      "# Wiedemann-Franz Lorenz Law\n",
      "k = sigma**-1*T*C_WFL  # thermal conductivity\n",
      "A = math.pi*(d**2)/4.0\n",
      "theta = L/(k*A)  # thermal resistance\n",
      "delta_T = theta*Q\n",
      "print(\"Temperature drop across the disk in degree celsius is {0:.4f}\".format(delta_T))\n"
     ],
     "language": "python",
     "metadata": {},
     "outputs": [
      {
       "output_type": "stream",
       "stream": "stdout",
       "text": [
        "Temperature drop across the disk in degree celsius is 6.4961\n"
       ]
      }
     ],
     "prompt_number": 15
    }
   ],
   "metadata": {}
  }
 ]
}