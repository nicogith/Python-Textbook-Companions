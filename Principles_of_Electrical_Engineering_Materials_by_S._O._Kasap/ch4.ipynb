{
 "metadata": {
  "name": "",
  "signature": "sha256:964094f6f27ad1a01c6c3e380eaf82de54433e63e5c47ff1d4d1fcbe0e988294"
 },
 "nbformat": 3,
 "nbformat_minor": 0,
 "worksheets": [
  {
   "cells": [
    {
     "cell_type": "heading",
     "level": 1,
     "metadata": {},
     "source": [
      "Chapter 4 : Bonding the Band Theory of Solids and Statistics"
     ]
    },
    {
     "cell_type": "heading",
     "level": 2,
     "metadata": {},
     "source": [
      "Example 4.6  Page No : 154"
     ]
    },
    {
     "cell_type": "code",
     "collapsed": false,
     "input": [
      "import math \n",
      "\n",
      "# Given\n",
      "E_FO = 7.0          # in eV\n",
      "e = 1.6*10**-19     # in coulombs\n",
      "E_FO *= e           # in Joules\n",
      "me = 9.1*10**-31    # in Kg\n",
      "\n",
      "# Calculations and Results\n",
      "v_f = math.sqrt(2*E_FO/me)\n",
      "print(\"Speed of the conduction electrons in m/s is {0:.4g}\".format(v_f))\n",
      "\n"
     ],
     "language": "python",
     "metadata": {},
     "outputs": [
      {
       "output_type": "stream",
       "stream": "stdout",
       "text": [
        "Speed of the conduction electrons in m/s is 1.569e+06\n"
       ]
      }
     ],
     "prompt_number": 1
    },
    {
     "cell_type": "heading",
     "level": 2,
     "metadata": {},
     "source": [
      "Example 4.7  Page No : 159"
     ]
    },
    {
     "cell_type": "code",
     "collapsed": false,
     "input": [
      "# Given\n",
      "e = 1.6 * 10 ** -19     # in coulombs\n",
      "Eg = 1.1                # in eV\n",
      "Eg *= e                 # in Joules\n",
      "h = 6.6 * 10 ** -34     # in Js\n",
      "c = 3 * 10 ** 8         # in m/s\n",
      "\n",
      "# Calculations and Results\n",
      "lambda_val = h * c / Eg\n",
      "print(\"Wavelength of light that can be absorbed by an Si photo-detector\"\n",
      "      \" at Eg=1.1 eV in micro meter is {0:.4g}\".format(lambda_val * 10 ** 6))\n",
      "print(\"Hence the light of wavelength 1.31 micro meter and 1.55 micro meter will not \"\n",
      "      \"be absorbed by Si and thus cannot be detected by detector\")\n"
     ],
     "language": "python",
     "metadata": {},
     "outputs": [
      {
       "output_type": "stream",
       "stream": "stdout",
       "text": [
        "Wavelength of light that can be absorbed by an Si photo-detector at Eg=1.1 eV in micro meter is 1.125\n",
        "Hence the light of wavelength 1.31 micro meter and 1.55 micro meter will not be absorbed by Si and thus cannot be detected by detector\n"
       ]
      }
     ],
     "prompt_number": 2
    },
    {
     "cell_type": "heading",
     "level": 2,
     "metadata": {},
     "source": [
      "Example 4.8  Page No : 162"
     ]
    },
    {
     "cell_type": "code",
     "collapsed": false,
     "input": [
      "import math \n",
      "\n",
      "# Given\n",
      "e = 1.6*10**-19     # in coulombs\n",
      "h = 6.626*10**-34   # in Js\n",
      "me = 9.1*10**-31    # in Kg\n",
      "# let x=k*T\n",
      "x = 0.026           # in eV\n",
      "E = 5.0               # in ev\n",
      "E *= e              # in Joules\n",
      "\n",
      "# Calculations and Results\n",
      "g_E = (8*math.pi*math.sqrt(2))*(me/h**2)**(3./2)*math.sqrt(E)  # in J**-1*m**-3\n",
      "# conversion of units\n",
      "g_E = g_E*10**-6*e  # in eV**-1 cm**-3\n",
      "print(\"density of states at the center of the band in cm**-3*J**-1 is {0:.4g}\".format(g_E))\n",
      "# part(b)\n",
      "n_E = g_E*x         # in cm**-3\n",
      "print(\"No.of states per unit volume within kT about the center in cm**-3 is {0:.4g}\".format(n_E))\n",
      "# part(c)\n",
      "# Given\n",
      "E = 0.026           # in eV\n",
      "E *= e              # in joules\n",
      "\n",
      "# Calculations and Results\n",
      "g_E = (8*math.pi*math.sqrt(2))*(me/h**2)**(3./2)*math.sqrt(E)  # in J**-1*m**-3\n",
      "# conversion of units\n",
      "g_E = g_E*10**-6*e  # in eV**-1 cm**-3\n",
      "print(\"density of states at at kT above the band in cm**-3*J**-1 is {0:.4g}\".format(g_E))\n",
      "# part(d)\n",
      "n_E = g_E*x         # in cm**-3\n",
      "print(\" No.of states per unit volume within kT about the center in cm**-3 is {0:.4g}\".format(n_E))\n",
      "# solved using the values taken from the solution of textbook\n"
     ],
     "language": "python",
     "metadata": {},
     "outputs": [
      {
       "output_type": "stream",
       "stream": "stdout",
       "text": [
        "density of states at the center of the band in cm**-3*J**-1 is 1.518e+22\n",
        "No.of states per unit volume within kT about the center in cm**-3 is 3.946e+20\n",
        "density of states at at kT above the band in cm**-3*J**-1 is 1.095e+21\n",
        " No.of states per unit volume within kT about the center in cm**-3 is 2.846e+19\n"
       ]
      }
     ],
     "prompt_number": 3
    },
    {
     "cell_type": "heading",
     "level": 2,
     "metadata": {},
     "source": [
      "Example 4.9  Page No : 165"
     ]
    },
    {
     "cell_type": "code",
     "collapsed": false,
     "input": [
      "import math\n",
      "\n",
      "# Given\n",
      "e = 1.6*10**-19     # in coulombs\n",
      "h = 6.626*10**-34   # in Js\n",
      "me = 9.1*10**-31    # in Kg\n",
      "d = 10.5            # in g/cm\n",
      "Mat = 107.9         # g/mol\n",
      "NA = 6.023*10**23   # mol**-1\n",
      "E_ctr = 5.0           # in ev\n",
      "E_ctr *= e          # in Joules\n",
      "\n",
      "# Calculations and Results\n",
      "S_band = 2*(16*math.pi*math.sqrt(2)/3)*(me/h**2)**(3./2)*E_ctr**(3./2)  # in states m**-3\n",
      "# conversion of units\n",
      "S_band *= 10**-6    # in states cm**-3\n",
      "print(\"No. of states in the band in states cm**-3 is {0:.4g}\".format(S_band))\n",
      "n_Ag = d*NA/Mat\n",
      "print(\"No.of atoms per unit volume in silver in atoms per cm3 is {0:.4g}\".format(n_Ag))\n"
     ],
     "language": "python",
     "metadata": {},
     "outputs": [
      {
       "output_type": "stream",
       "stream": "stdout",
       "text": [
        "No. of states in the band in states cm**-3 is 1.012e+23\n",
        "No.of atoms per unit volume in silver in atoms per cm3 is 5.861e+22\n"
       ]
      }
     ],
     "prompt_number": 4
    },
    {
     "cell_type": "heading",
     "level": 2,
     "metadata": {},
     "source": [
      "Example 4.10  Page No : 169"
     ]
    },
    {
     "cell_type": "code",
     "collapsed": false,
     "input": [
      "import math\n",
      "# Given\n",
      "e = 1.6*10**-19     # in coulombs\n",
      "h = 6.626*10**-34   # in Js\n",
      "me = 9.1*10**-31    # in Kg\n",
      "d = 8.96            # in g/cm\n",
      "Mat = 63.5          # g/ mol\n",
      "NA = 6.023*10**23   # mol**-1\n",
      "n = d*NA/Mat        # in cm**-3\n",
      "n *= 10**6          # in m**-3\n",
      "\n",
      "# Calculations and Results\n",
      "E_FO = (h**2/(8*me))*(3*n/math.pi)**(2./3)   # in J\n",
      "E_FO /= e           # in eV\n",
      "print(\"Fermi energy at 0 Kelvin in eV is {0:.4f}\".format(E_FO))\n",
      "E_FO = (h**2/(8*me))*(3*n/math.pi)**(2./3)   # in J\n",
      "v_e = math.sqrt(6*E_FO/(5*me))\n",
      "print(\"Average speed of conduction electrons in m/s is {0:.4g}\".format(v_e))\n"
     ],
     "language": "python",
     "metadata": {},
     "outputs": [
      {
       "output_type": "stream",
       "stream": "stdout",
       "text": [
        "Fermi energy at 0 Kelvin in eV is 7.0653\n",
        "Average speed of conduction electrons in m/s is 1.221e+06\n"
       ]
      }
     ],
     "prompt_number": 5
    },
    {
     "cell_type": "heading",
     "level": 2,
     "metadata": {},
     "source": [
      "Example 4.11  Page No : 174"
     ]
    },
    {
     "cell_type": "code",
     "collapsed": false,
     "input": [
      "# Given\n",
      "e = 1.6*10**-19     # in coulombs\n",
      "me = 9.1*10**-31    # in Kg\n",
      "u_d = 43*10**-4     # in cm2/V/s\n",
      "v_e = 1.22*10**6    # in m/s\n",
      "\n",
      "# Calculations and Results\n",
      "T = u_d*me/e\n",
      "l_e = v_e*T\n",
      "print(\"Mean free path of electrons in meters is {0:.4g}\".format(l_e))\n"
     ],
     "language": "python",
     "metadata": {},
     "outputs": [
      {
       "output_type": "stream",
       "stream": "stdout",
       "text": [
        "Mean free path of electrons in meters is 2.984e-08\n"
       ]
      }
     ],
     "prompt_number": 6
    },
    {
     "cell_type": "heading",
     "level": 2,
     "metadata": {},
     "source": [
      "Example 4.13  Page No : 178"
     ]
    },
    {
     "cell_type": "code",
     "collapsed": false,
     "input": [
      "import math \n",
      "# Given\n",
      "e = 1.6*10**-19   # in coulombs\n",
      "T = 373.0         # in kelvin\n",
      "To = 273.0        # in kelvin\n",
      "k = 1.38*10**-23  # in m2 kg /k/s2\n",
      "# from table 4.3\n",
      "E_FAO = 11.6      # in eV\n",
      "E_FAO *= e        # in J\n",
      "x_A = 2.78\n",
      "E_FBO = 7.01      # in eV\n",
      "E_FBO *= e        # in J\n",
      "x_B = -1.79\n",
      "\n",
      "# Calculations and Results\n",
      "# Mott jones Equation\n",
      "V_AB = (-math.pi**2*k**2/(6*e))*((x_A/E_FAO)-(x_B/E_FBO))*(T**2-To**2)\n",
      "print(\"EMF in micro volts available from Al and Cu thermocouple with the given respective\"\n",
      "      \" temperatures at the junctions is {0:.4f}\".format(V_AB*10**6))\n"
     ],
     "language": "python",
     "metadata": {},
     "outputs": [
      {
       "output_type": "stream",
       "stream": "stdout",
       "text": [
        "EMF in micro volts available from Al and Cu thermocouple with the given respective temperatures at the junctions is -391.2988\n"
       ]
      }
     ],
     "prompt_number": 7
    },
    {
     "cell_type": "heading",
     "level": 2,
     "metadata": {},
     "source": [
      "Example 4.14  Page No : 182"
     ]
    },
    {
     "cell_type": "code",
     "collapsed": false,
     "input": [
      "import math \n",
      "# Given\n",
      "phi = 2.6           # in eV\n",
      "e = 1.6*10**-19     # in coulombs\n",
      "phi *= e            # in Joules\n",
      "Be = 3*10**4        # schottky coefficient in A/m2/K2\n",
      "T = 1600.0            # in degree celsius\n",
      "T += 273.0            # in Kelvin\n",
      "k = 1.38*10**-23    # m2 kg s-2 K-1\n",
      "d = 2*10**-3        # in m\n",
      "l = 4*10**-2        # in in m\n",
      "\n",
      "# Calculations and Results\n",
      "# Richardson-Dushman Equation\n",
      "J = Be*T**2*math.exp(-phi/(k*T))\n",
      "A = math.pi*d*l\n",
      "I = J*A\n",
      "print(\"Saturation current in Amperes if the tube is operated at 1873 kelvin is {0:.4g}\".format(I))\n"
     ],
     "language": "python",
     "metadata": {},
     "outputs": [
      {
       "output_type": "stream",
       "stream": "stdout",
       "text": [
        "Saturation current in Amperes if the tube is operated at 1873 kelvin is 2.708\n"
       ]
      }
     ],
     "prompt_number": 8
    }
   ],
   "metadata": {}
  }
 ]
}