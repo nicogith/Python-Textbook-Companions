{
 "metadata": {
  "name": "",
  "signature": "sha256:0a2e92e1bbe3dfa1c8302057620bde3bdeb0efb1fb47bd9ddc100369dbe575f1"
 },
 "nbformat": 3,
 "nbformat_minor": 0,
 "worksheets": [
  {
   "cells": [
    {
     "cell_type": "heading",
     "level": 1,
     "metadata": {},
     "source": [
      "Chapter 5 : Semiconductors"
     ]
    },
    {
     "cell_type": "heading",
     "level": 2,
     "metadata": {},
     "source": [
      "Example 5.1  Page No : 193"
     ]
    },
    {
     "cell_type": "code",
     "collapsed": false,
     "input": [
      "import math \n",
      "\n",
      "# Given\n",
      "e = 1.6*10**-19     # in coulombs\n",
      "h = 6.6*10**-34     # in J s\n",
      "m = 9.1*10**-31     # in Kg\n",
      "me = 1.08*m\n",
      "mh = 0.56*m\n",
      "T = 300.0           # in Kelvin\n",
      "Eg = 1.10           # in eV\n",
      "ue = 1350.0         # in cm2/V/s\n",
      "uh = 450.0          # in cm2/V/s\n",
      "k = 1.38*10**-23    # m2 kg s-2 K-1\n",
      "\n",
      "# Calculations and Results\n",
      "Nc = 2*((2*math.pi*me*k*T)/h**2)**(3.0/2.0)  # in m**-3\n",
      "Nc *= 10**-6        # in cm**-3\n",
      "Nv = 2*((2*math.pi*mh*k*T)/h**2)**(3.0/2.0)  # in m**-3\n",
      "Nv *= 10**-6  # in cm**-3\n",
      "ni = math.sqrt(Nc*Nv)*math.exp(-Eg*e/(2*k*T))\n",
      "print(\"Intrinsic concentration of Si in cm**-3 is {0:.4g}\".format(ni))\n",
      "sigma = e*ni*(ue+uh)\n",
      "p = 1.0/sigma\n",
      "print(\"Intrinsic resistivity of Si in ohm cm is {0:.4g}\".format(p))\n"
     ],
     "language": "python",
     "metadata": {},
     "outputs": [
      {
       "output_type": "stream",
       "stream": "stdout",
       "text": [
        "Intrinsic concentration of Si in cm**-3 is 1.02e+10\n",
        "Intrinsic resistivity of Si in ohm cm is 3.404e+05\n"
       ]
      }
     ],
     "prompt_number": 1
    },
    {
     "cell_type": "heading",
     "level": 2,
     "metadata": {},
     "source": [
      "Example 5.2  Page No : 194"
     ]
    },
    {
     "cell_type": "code",
     "collapsed": false,
     "input": [
      "import math \n",
      "# Given\n",
      "T = 300.0         # in kelvin\n",
      "k = 1.38*10**-23  # in m2 kg s-2 K-1\n",
      "me = 9.1*10**-31  # in Kg\n",
      "m = 0.26*me\n",
      "\n",
      "# Calculations and Results\n",
      "Ve = math.sqrt(3*k*T/m)\n",
      "print(\"Mean speed of electrons in conduction band in m/s is {0:.4g}\".format(Ve))\n"
     ],
     "language": "python",
     "metadata": {},
     "outputs": [
      {
       "output_type": "stream",
       "stream": "stdout",
       "text": [
        "Mean speed of electrons in conduction band in m/s is 2.291e+05\n"
       ]
      }
     ],
     "prompt_number": 2
    },
    {
     "cell_type": "heading",
     "level": 2,
     "metadata": {},
     "source": [
      "Example 5.3  Page No : 195"
     ]
    },
    {
     "cell_type": "code",
     "collapsed": false,
     "input": [
      "# Given\n",
      "e = 1.6*10**-19     # in coulombs\n",
      "ue = 1350.0         # in cm2/V/s\n",
      "uh = 450.0          # in cm2/V/s\n",
      "ni = 1.45*10**10    # in cm**-3\n",
      "L = 1.0             # in cm\n",
      "A = 1.0             # in cm2\n",
      "N_Si = 5*10**22     # in cm**-3\n",
      "\n",
      "# Calculations and Results\n",
      "sigma = e*ni*(ue+uh)\n",
      "R = L/(sigma*A)\n",
      "print(\"Resistance of a pure Silicon crystal in ohms is {0:.4g}\".format(R))\n",
      "Nd = N_Si/10**9\n",
      "n = Nd              # at room temperature\n",
      "p = ni**2/Nd\n",
      "sigma = e*n*ue\n",
      "R = L/(sigma*A)\n",
      "print(\"Resistance in ohms of Silicon crystal when doped with Arsenic with 1 in 10**9 is {0:.4f}\".format(R))\n",
      "\n"
     ],
     "language": "python",
     "metadata": {},
     "outputs": [
      {
       "output_type": "stream",
       "stream": "stdout",
       "text": [
        "Resistance of a pure Silicon crystal in ohms is 2.395e+05\n",
        "Resistance in ohms of Silicon crystal when doped with Arsenic with 1 in 10**9 is 92.5926\n"
       ]
      }
     ],
     "prompt_number": 3
    },
    {
     "cell_type": "heading",
     "level": 2,
     "metadata": {},
     "source": [
      "Example 5.4  Page No : 197"
     ]
    },
    {
     "cell_type": "code",
     "collapsed": false,
     "input": [
      "# Given\n",
      "Na = 10**17         # acceptor atoms /cm3\n",
      "Nd = 10**16         # donor atoms /cm3\n",
      "p = Na-Nd           # in cm**-3\n",
      "ni = 1.45*10**10    # in cm**-3\n",
      "\n",
      "# Calculations and Results\n",
      "n = ni**2/p\n",
      "print(\"Electron concentration in cm**-3 is {0:.4f}\".format(n))\n"
     ],
     "language": "python",
     "metadata": {},
     "outputs": [
      {
       "output_type": "stream",
       "stream": "stdout",
       "text": [
        "Electron concentration in cm**-3 is 2336.1111\n"
       ]
      }
     ],
     "prompt_number": 4
    },
    {
     "cell_type": "heading",
     "level": 2,
     "metadata": {},
     "source": [
      "Example 5.5  Page No : 202"
     ]
    },
    {
     "cell_type": "code",
     "collapsed": false,
     "input": [
      "import math \n",
      "\n",
      "# Given\n",
      "Na = 2*10**17       # acceptor atoms /cm3\n",
      "Nd = 10**16         # acceptor atoms /cm3\n",
      "ni = 1.45*10**10    # in cm**-3\n",
      "K = 0.0259          # in eV\n",
      "\n",
      "# Calculations and Results\n",
      "# math.since Nd>>ni\n",
      "n = Nd\n",
      "# let EFn-EFi=E\n",
      "E = K*math.log(Nd/ni)\n",
      "print(\"Position of the fermi energy w.r.t fermi energy in intrinsic Si in eV is {0:.4f}\".format(E))\n",
      "# for intrinsic Si\n",
      "# ni=Nc*exp(-(Ec-E_Fi)/(k*T))\n",
      "# for doped Si\n",
      "# Nd=Nc*exp(-(Ec-E_Fn)/(k*T))\n",
      "# let x=Nd/ni\n",
      "# let K=k*T\n",
      "p = Na-Nd\n",
      "# let E=EFp-EFi\n",
      "# let n=p/ni\n",
      "E = -K*math.log(p/ni)\n",
      "print(\"Position of the fermi energy w.r.t fermi energy in n-type case in eV is {0:.4f}\".format(E))\n"
     ],
     "language": "python",
     "metadata": {},
     "outputs": [
      {
       "output_type": "stream",
       "stream": "stdout",
       "text": [
        "Position of the fermi energy w.r.t fermi energy in intrinsic Si in eV is 0.3482\n",
        "Position of the fermi energy w.r.t fermi energy in n-type case in eV is -0.4245\n"
       ]
      }
     ],
     "prompt_number": 5
    },
    {
     "cell_type": "heading",
     "level": 2,
     "metadata": {},
     "source": [
      "Example 5.7  Page No : 208"
     ]
    },
    {
     "cell_type": "code",
     "collapsed": false,
     "input": [
      "import math \n",
      "\n",
      "# Given\n",
      "Nd = 10**15         # in cm**-3\n",
      "Nc = 2.8*10**19     # in cm**-3\n",
      "Ti = 556.0            # in Kelvin\n",
      "k = 8.62*10**-5     # in eV/K\n",
      "delta_E = 0.045     # in eV\n",
      "T = 300.0             # in kelvin\n",
      "\n",
      "# Calculations and Results\n",
      "# part(a)\n",
      "print(\"From fig 5.16 the estimated temperature above which the si sample behaves as if intrinsic is 556 Kelvin\")\n",
      "# part(b)\n",
      "Ts = delta_E/(k*math.log(Nc/(2*Nd)))\n",
      "Nc_Ts = Nc*(Ts/T)**(3.0/2.0)\n",
      "print(\"Lowest temperature in kelvin is {0:.4f}\".format(Ts))\n",
      "# the improved temperature\n",
      "Ts = delta_E/(k*math.log(Nc_Ts/(2*Nd)))\n",
      "print(\"Extrinsic range of Si is {0:.4f} K to 556 K\".format(Ts))\n"
     ],
     "language": "python",
     "metadata": {},
     "outputs": [
      {
       "output_type": "stream",
       "stream": "stdout",
       "text": [
        "From fig 5.16 the estimated temperature above which the si sample behaves as if intrinsic is 556 Kelvin\n",
        "Lowest temperature in kelvin is 54.6823\n",
        "Extrinsic range of Si is 74.6473 K to 556 K\n"
       ]
      }
     ],
     "prompt_number": 6
    },
    {
     "cell_type": "heading",
     "level": 2,
     "metadata": {},
     "source": [
      "Example 5.9  Page No : 214"
     ]
    },
    {
     "cell_type": "code",
     "collapsed": false,
     "input": [
      "# Given\n",
      "e = 1.6*10**-19   # in coulombs\n",
      "Nd = 10**17       # in cm**-3\n",
      "Na = 9*10**16     # in cm**-3\n",
      "\n",
      "# Calculations and Results\n",
      "# part(a)\n",
      "ue1 = 800.0         # at 300 kelvin ue in cm2/V/s\n",
      "sigma1 = e*Nd*ue1\n",
      "ue2 = 420.0         # at 400 kelvin ue in cm2/V/s\n",
      "sigma2 = e*Nd*ue2\n",
      "print(\"when Si sample is doped with 10**17 arsenic atoms/cm3, the conductivity of \"\n",
      "      \"the sample at 300K and 400K in ohm**-1*cm**-1 is {0:.4f}, {1:.4f} respectively\".format(sigma1, sigma2))\n",
      "# part(b)\n",
      "ue1 = 600.0         # at 300 kelvin ue in cm2/V/s\n",
      "sigma1 = e*(Nd-Na)*ue1\n",
      "ue2 = 400.0         # at 400 kelvin ue in cm2/V/s\n",
      "sigma2 = e*(Nd-Na)*ue2\n",
      "print(\"when n-type Si is further doped with 9*10**16 boron atoms /cm3, the conductivity of\"\n",
      "      \" the sample at 300K and 400K in ohm**-1*cm**-1 is {0:.4f}, {1:.4f} respectively\".format(sigma1, sigma2))\n"
     ],
     "language": "python",
     "metadata": {},
     "outputs": [
      {
       "output_type": "stream",
       "stream": "stdout",
       "text": [
        "when Si sample is doped with 10**17 arsenic atoms/cm3, the conductivity of the sample at 300K and 400K in ohm**-1*cm**-1 is 12.8000, 6.7200 respectively\n",
        "when n-type Si is further doped with 9*10**16 boron atoms /cm3, the conductivity of the sample at 300K and 400K in ohm**-1*cm**-1 is 0.9600, 0.6400 respectively\n"
       ]
      }
     ],
     "prompt_number": 7
    },
    {
     "cell_type": "heading",
     "level": 2,
     "metadata": {},
     "source": [
      "Example 5.11  Page No : 218"
     ]
    },
    {
     "cell_type": "code",
     "collapsed": false,
     "input": [
      "# Given\n",
      "# part(a)\n",
      "h = 6.63*10**-34            # in Js\n",
      "c = 3*10**8                 # in m/s\n",
      "e = 1.6*10**-19             # in coulombs\n",
      "ue = 0.034                  # in m2/V/s\n",
      "uh = 0.0018                 # in m2/V/s\n",
      "t = 1*10**-3                # in seconds\n",
      "L = 1*10**-3                # in m\n",
      "D = 0.1*10**-3              # in m\n",
      "W = 1*10**-3                # in m\n",
      "I = 1.0                     # mW/cm**2\n",
      "I = I*10**-3*10**4          # conversion of units to W/m**2\n",
      "n = 1.0                     # quantum efficiency\n",
      "lambda_val = 450*10**-9     # in m\n",
      "V = 50.0                    # in volts\n",
      "\n",
      "# Calculations and Results\n",
      "# part(a)\n",
      "A = L*W                     # in m3\n",
      "EHP_ph = (A*n*I*lambda_val)/(h*c)\n",
      "print(\"No.of EHP/s generated per second is {0:.4g}\".format(EHP_ph))\n",
      "# part(b)\n",
      "delta_sigma = e*n*I*lambda_val*t*(ue+uh)/(h*c*D)\n",
      "print(\"Photo conductivity of the sample in ohm**-1 m**-1 is {0:.4g}\".format(delta_sigma))\n",
      "# part(c)\n",
      "A = 0.1*10**-6              # m2\n",
      "E = V/W\n",
      "delta_J = E*delta_sigma\n",
      "delta_I = A*delta_J\n",
      "print(\"Photo-current produced in mA is {0:.4g}\".format(delta_I*10**3))\n"
     ],
     "language": "python",
     "metadata": {},
     "outputs": [
      {
       "output_type": "stream",
       "stream": "stdout",
       "text": [
        "No.of EHP/s generated per second is 2.262e+13\n",
        "Photo conductivity of the sample in ohm**-1 m**-1 is 1.296\n",
        "Photo-current produced in mA is 6.48\n"
       ]
      }
     ],
     "prompt_number": 8
    },
    {
     "cell_type": "heading",
     "level": 2,
     "metadata": {},
     "source": [
      "Example 5.13  Page No : 223"
     ]
    },
    {
     "cell_type": "code",
     "collapsed": false,
     "input": [
      "# Given\n",
      "e = 1.6*10**-19     # in coulombs\n",
      "T = 300.0           # in kelvin\n",
      "ue = 1300.0         # in cm2/V/s\n",
      "\n",
      "# Calculations and Results\n",
      "# V=k*T/e\n",
      "V = 0.0259          # thermal voltage in Volts\n",
      "# D=ue*k*T/e\n",
      "D = ue*V\n",
      "print(\"Diffusion coefficient of electrons at room temperature in cm2/s is {0:.4f}\".format(D))\n"
     ],
     "language": "python",
     "metadata": {},
     "outputs": [
      {
       "output_type": "stream",
       "stream": "stdout",
       "text": [
        "Diffusion coefficient of electrons at room temperature in cm2/s is 33.6700\n"
       ]
      }
     ],
     "prompt_number": 9
    },
    {
     "cell_type": "heading",
     "level": 2,
     "metadata": {},
     "source": [
      "Example 5.17  Page No : 229"
     ]
    },
    {
     "cell_type": "code",
     "collapsed": false,
     "input": [
      "# Given\n",
      "Eg = 1.42       # in eV\n",
      "# letE=hc/lambda=hf\n",
      "E = 1.96        # in eV\n",
      "P_L = 50.0      # in mW\n",
      "kT = 0.0259     # in eV\n",
      "\n",
      "# Calculations and Results\n",
      "delta_E = E-(Eg+(3.0/2.0)*kT)\n",
      "P_H = (P_L/E)*delta_E\n",
      "print(\"Amount of power dissipated as heat in mW is {0:.4f}\".format(P_H))\n"
     ],
     "language": "python",
     "metadata": {},
     "outputs": [
      {
       "output_type": "stream",
       "stream": "stdout",
       "text": [
        "Amount of power dissipated as heat in mW is 12.7844\n"
       ]
      }
     ],
     "prompt_number": 10
    },
    {
     "cell_type": "heading",
     "level": 2,
     "metadata": {},
     "source": [
      "Example 5.18  Page No : 234"
     ]
    },
    {
     "cell_type": "code",
     "collapsed": false,
     "input": [
      "import math\n",
      "\n",
      "# Given\n",
      "phi_m = 4.28            # in eV\n",
      "e = 1.6*10**-19         # in coulombs\n",
      "X = 4.01                # in eV\n",
      "kT = 0.026              # in eV\n",
      "Vf = 0.1                # in V\n",
      "T = 300.0                 # in kelvin\n",
      "Be = 30.0                 # A/K2/cm2\n",
      "A = 0.01                # cm2\n",
      "\n",
      "# Calculations and Results\n",
      "# part(a)\n",
      "phi_B = phi_m-X\n",
      "print(\"Theoretical barrier height in eV is {0:.4f}\".format(phi_B))\n",
      "# part(b)\n",
      "phi_B = 0.5             # in eV\n",
      "Io = A*Be*T**2*math.exp(-phi_B/kT)\n",
      "print(\"Saturation current in micro amperes is {0:.4f}\".format(Io*10**6))\n",
      "# let/E=e*Vf            #in eV\n",
      "E = 0.1                 # in eV\n",
      "If = Io*(math.exp((E/kT))-1)\n",
      "print(\"Forward current in milli amperes is {0:.4f}\".format(If*10**3))\n"
     ],
     "language": "python",
     "metadata": {},
     "outputs": [
      {
       "output_type": "stream",
       "stream": "stdout",
       "text": [
        "Theoretical barrier height in eV is 0.2700\n",
        "Saturation current in micro amperes is 120.1011\n",
        "Forward current in milli amperes is 5.5021\n"
       ]
      }
     ],
     "prompt_number": 11
    }
   ],
   "metadata": {}
  }
 ]
}