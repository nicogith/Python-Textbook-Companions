{
 "metadata": {
  "name": "",
  "signature": "sha256:a1c57dcea36d3741ad4c663237ed74b9446d043dd515ecab430a8c5aaad770ab"
 },
 "nbformat": 3,
 "nbformat_minor": 0,
 "worksheets": [
  {
   "cells": [
    {
     "cell_type": "heading",
     "level": 1,
     "metadata": {},
     "source": [
      "Chapter 3 : Elementary Quantum Physics"
     ]
    },
    {
     "cell_type": "heading",
     "level": 2,
     "metadata": {},
     "source": [
      "Example 3.1  Page No : 101"
     ]
    },
    {
     "cell_type": "code",
     "collapsed": false,
     "input": [
      "# Given\n",
      "lambda_val = 450*10**-9     # in nm\n",
      "h = 6.6*10**-34             # in J s\n",
      "e = 1.6*10**-19             # in coulombs\n",
      "c = 3*10**8                 # in m/s\n",
      "\n",
      "# Calculations and Results\n",
      "E_ph = h*c/lambda_val       # in J\n",
      "E_ph /= e                   # in eV\n",
      "print(\" Energy of blue photon in eV is {0:.4f}\".format(E_ph))\n"
     ],
     "language": "python",
     "metadata": {},
     "outputs": [
      {
       "output_type": "stream",
       "stream": "stdout",
       "text": [
        " Energy of blue photon in eV is 2.7500\n"
       ]
      }
     ],
     "prompt_number": 1
    },
    {
     "cell_type": "heading",
     "level": 2,
     "metadata": {},
     "source": [
      "Example 3.2  Page No : 103"
     ]
    },
    {
     "cell_type": "code",
     "collapsed": false,
     "input": [
      "# Given\n",
      "lambda_o = 522*10**-9    # in nm\n",
      "lambda_val = 250*10**-9  # in nm\n",
      "h = 6.6*10**-34          # in J s\n",
      "c = 3*10**8              # in m/s\n",
      "e = 1.6*10**-19          # in coulombs\n",
      "I = 20*10**-3            # in W/cm2\n",
      "I = 20*10**-3*10**4      # in J/s/m2\n",
      "\n",
      "# Calculations and Results\n",
      "# part(a)\n",
      "phi = h*c/(lambda_o*e)   # in eV\n",
      "print(\"Work function of sodium in eV is {0:.4f}\".format(phi))\n",
      "KE = h*c/(lambda_val*e)-phi\n",
      "print(\"Kinetic energy of photo emitted electrons in eV is {0:.4f}\".format(KE))\n",
      "J = (e*I*lambda_val)/(h*c)\n",
      "print(\"Photoelectric current density in A/m2 is {0:.4f}\".format(J))\n"
     ],
     "language": "python",
     "metadata": {},
     "outputs": [
      {
       "output_type": "stream",
       "stream": "stdout",
       "text": [
        "Work function of sodium in eV is 2.3707\n",
        "Kinetic energy of photo emitted electrons in eV is 2.5793\n",
        "Photoelectric current density in A/m2 is 40.4040\n"
       ]
      }
     ],
     "prompt_number": 2
    },
    {
     "cell_type": "heading",
     "level": 2,
     "metadata": {},
     "source": [
      "Example 3.4  Page No : 104"
     ]
    },
    {
     "cell_type": "code",
     "collapsed": false,
     "input": [
      "import math \n",
      "\n",
      "# Given\n",
      "theta = 15.2    # in degree\n",
      "d = 0.234       # in nm\n",
      "V = 100.0       # in V\n",
      "\n",
      "# Calculations and Results\n",
      "lambda_val = 2*d*math.sin(math.radians(theta))  # Braggs condition\n",
      "print(\"Wavelength of electron in nm is {0:.4f}\".format(lambda_val))\n",
      "lambda_val = 1.226/math.sqrt(V)                 # debroglie wavelength in nm\n",
      "print(\"de Broglie Wavelength of electron in nm is {0:.4f}\".format(lambda_val))\n",
      "print(\"de Broglie Wavelength is in excellent agreement with that determined from Braggs condition\")\n"
     ],
     "language": "python",
     "metadata": {},
     "outputs": [
      {
       "output_type": "stream",
       "stream": "stdout",
       "text": [
        "Wavelength of electron in nm is 0.1227\n",
        "de Broglie Wavelength of electron in nm is 0.1226\n",
        "de Broglie Wavelength is in excellent agreement with that determined from Braggs condition\n"
       ]
      }
     ],
     "prompt_number": 3
    },
    {
     "cell_type": "heading",
     "level": 2,
     "metadata": {},
     "source": [
      "Example 3.5  Page No : 105"
     ]
    },
    {
     "cell_type": "code",
     "collapsed": false,
     "input": [
      "# Given\n",
      "h = 6.6*10**-34     # in J s\n",
      "c = 3*10**8         # in m/s\n",
      "n = 1.0\n",
      "m = 9.1*10**-31     # in Kg\n",
      "a = 0.1*10**-9      # in m\n",
      "e = 1.6*10**-19     # in coulombs\n",
      "\n",
      "# Calculations and Results\n",
      "E1 = (h**2*n**2)/(8*m*a**2)\n",
      "E1 /= e  # in eV\n",
      "print(\"Ground Energy of the electron in J is {0:.4f}\".format(E1))\n",
      "# part(b)\n",
      "n = 3.0\n",
      "E3 = E1*n**2\n",
      "print(\"Energy required to put the electrons in third energy level in eV is {0:.4f}\".format(E3))\n",
      "E = E3-E1\n",
      "print(\"Energy required to take the electron from E1 to E3 in eV is {0:.4f}\".format(E))\n",
      "lambda_val = h*c/(E*e)\n",
      "print(\"wavelength of the required photon in nm is {0:.4g}\".format(lambda_val))\n",
      "print(\"which is an X-ray photon\")\n"
     ],
     "language": "python",
     "metadata": {},
     "outputs": [
      {
       "output_type": "stream",
       "stream": "stdout",
       "text": [
        "Ground Energy of the electron in J is 37.3970\n",
        "Energy required to put the electrons in third energy level in eV is 336.5728\n",
        "Energy required to take the electron from E1 to E3 in eV is 299.1758\n",
        "wavelength of the required photon in nm is 4.136e-09\n",
        "which is an X-ray photon\n"
       ]
      }
     ],
     "prompt_number": 4
    },
    {
     "cell_type": "heading",
     "level": 2,
     "metadata": {},
     "source": [
      "Example 3.6  Page No : 110"
     ]
    },
    {
     "cell_type": "code",
     "collapsed": false,
     "input": [
      "import math \n",
      "\n",
      "# Given\n",
      "h = 6.6*10**-34     # in J s\n",
      "c = 3*10**8         # in m/s\n",
      "n = 1.0\n",
      "m = 0.1             # in Kg\n",
      "a = 1.0             # in m\n",
      "\n",
      "# Calculations and Results\n",
      "E1 = (h**2*n**2)/(8*m*a**2)\n",
      "v = math.sqrt(2*E1/m)\n",
      "print(\"Minimum speed of the object in m/s {0:.4g}\".format(v))\n",
      "# calculation of quantum number n\n",
      "v = 1.0             # in m/s\n",
      "E_n = m*v**2/2.0\n",
      "n = math.sqrt((8*m*a**2*E_n)/h**2)\n",
      "print(\"Quantum number if the object is moving with a minimum speed of 1m/s is {0:.4g}\".format(n))\n",
      "delta_E = (h**2/(8*m*a**2))*(2*n+1)         # delta_E=E_n+1-En\n",
      "print(\"Separation of energy levels of the object moving with speed of 1 m/s in Joules is {0:.4g}\".format(delta_E))\n"
     ],
     "language": "python",
     "metadata": {},
     "outputs": [
      {
       "output_type": "stream",
       "stream": "stdout",
       "text": [
        "Minimum speed of the object in m/s 3.3e-33\n",
        "Quantum number if the object is moving with a minimum speed of 1m/s is 3.03e+32\n",
        "Separation of energy levels of the object moving with speed of 1 m/s in Joules is 3.3e-34\n"
       ]
      }
     ],
     "prompt_number": 5
    },
    {
     "cell_type": "heading",
     "level": 2,
     "metadata": {},
     "source": [
      "Example 3.8  Page No : 114"
     ]
    },
    {
     "cell_type": "code",
     "collapsed": false,
     "input": [
      "# Given\n",
      "h_bar = 1.054*10**-34       # in J s\n",
      "delta_x = 0.1*10**-9        # in m\n",
      "m_e = 9.1*10**-31           # in Kg\n",
      "\n",
      "# Calculations and Results\n",
      "delta_Px = h_bar/delta_x\n",
      "print(\"uncertainty in momentum in Kg m/s is {0:.4g}\".format(delta_Px))\n",
      "delta_v = delta_Px/m_e\n",
      "KE = delta_Px**2/(2*m_e)\n",
      "print(\"Uncertainty in Kinetic Energy in J is {0:.4g}\".format(KE))\n"
     ],
     "language": "python",
     "metadata": {},
     "outputs": [
      {
       "output_type": "stream",
       "stream": "stdout",
       "text": [
        "uncertainty in momentum in Kg m/s is 1.054e-24\n",
        "Uncertainty in Kinetic Energy in J is 6.104e-19\n"
       ]
      }
     ],
     "prompt_number": 6
    },
    {
     "cell_type": "heading",
     "level": 2,
     "metadata": {},
     "source": [
      "Example 3.9  Page No : 115"
     ]
    },
    {
     "cell_type": "code",
     "collapsed": false,
     "input": [
      "# Given\n",
      "h_bar = 1.054*10**-34       # in J s\n",
      "delta_x = 1.0               # in m\n",
      "m = 0.1                     # in Kg\n",
      "\n",
      "# Calculations and Results\n",
      "delta_Px = h_bar/delta_x\n",
      "delta_v = delta_Px/m\n",
      "print(\"minimum uncertainty in the velocity in m/s is {0:.4g}\".format(delta_v))\n"
     ],
     "language": "python",
     "metadata": {},
     "outputs": [
      {
       "output_type": "stream",
       "stream": "stdout",
       "text": [
        "minimum uncertainty in the velocity in m/s is 1.054e-33\n"
       ]
      }
     ],
     "prompt_number": 7
    },
    {
     "cell_type": "heading",
     "level": 2,
     "metadata": {},
     "source": [
      "Example 3.10  Page No : 121"
     ]
    },
    {
     "cell_type": "code",
     "collapsed": false,
     "input": [
      "import math \n",
      "\n",
      "# Given\n",
      "h_bar = 1.054*10**-34   # in J s\n",
      "m = 9.1*10**-31         # in Kg\n",
      "e = 1.6*10**-19         # in coulombs\n",
      "Vo = 10.0                 # in ev\n",
      "Vo *= e                 # in J\n",
      "E = 7.0                   # in eV\n",
      "E *= e                  # in J\n",
      "a = 5*10**-9            # in m\n",
      "\n",
      "# Calculations and Results\n",
      "alpha = math.sqrt(2*m*(Vo-E)/h_bar**2)\n",
      "To = 16*E*(Vo-E)/Vo**2\n",
      "T = To*math.exp(-2*alpha*a)\n",
      "print(\"Transmission coefficient of conduction electrons in copper is {0:.4g}\".format(T))\n",
      "a = 1*10**-9  # in m\n",
      "T = To*math.exp(-2*alpha*a)\n",
      "print(\"Transmission coefficient if the oxide barrier is 1 nm is {0:.4g}\".format(T))\n",
      "# slight change in the answer due to approximations in alpha value\n"
     ],
     "language": "python",
     "metadata": {},
     "outputs": [
      {
       "output_type": "stream",
       "stream": "stdout",
       "text": [
        "Transmission coefficient of conduction electrons in copper is 1.033e-38\n",
        "Transmission coefficient if the oxide barrier is 1 nm is 6.666e-08\n"
       ]
      }
     ],
     "prompt_number": 8
    },
    {
     "cell_type": "heading",
     "level": 2,
     "metadata": {},
     "source": [
      "Example 3.11  Page No : 122"
     ]
    },
    {
     "cell_type": "code",
     "collapsed": false,
     "input": [
      "import math \n",
      "\n",
      "# Given\n",
      "h_bar = 1.054*10**-34       # in J s\n",
      "m = 100.0                     # in Kg\n",
      "g = 10.0                      # in m/s2\n",
      "h = 10.0                      # in m\n",
      "h1 = 15.0                     # in m\n",
      "a = 10.0                      # in m\n",
      "E = m*g*h                   # total energy of carriage\n",
      "Vo = m*g*h1                 # PE required to reach the peak\n",
      "\n",
      "# Calculations and Results\n",
      "alpha = math.sqrt(2*m*(Vo-E)/h_bar**2)\n",
      "To = 16*E*(Vo-E)/Vo**2\n",
      "T = To*math.exp(-2*alpha*a)\n",
      "print(\"Transmission probability is {0:.4g}\".format(T))\n",
      "h_bar = 10*10**3            # Js\n",
      "alpha = math.sqrt(2*m*(Vo-E)/h_bar**2)\n",
      "D = Vo**2/(4*E*(Vo-E))\n",
      "T = (1+(math.sinh(alpha*a))**2)**-1\n",
      "print(\"transmission probability in a universe where h_bar is 10KJs is {0:.4g}\".format(T))\n"
     ],
     "language": "python",
     "metadata": {},
     "outputs": [
      {
       "output_type": "stream",
       "stream": "stdout",
       "text": [
        "Transmission probability is 0\n",
        "transmission probability in a universe where h_bar is 10KJs is 0.42\n"
       ]
      }
     ],
     "prompt_number": 11
    },
    {
     "cell_type": "heading",
     "level": 2,
     "metadata": {},
     "source": [
      "Example 3.12  Page No : 124"
     ]
    },
    {
     "cell_type": "code",
     "collapsed": false,
     "input": [
      "# Given\n",
      "x = 9\n",
      "\n",
      "# Calculation and Results\n",
      "for n1 in range(1, x+1):\n",
      "    for n2 in range(1, x+1):\n",
      "        for n3 in range(1, x+1):\n",
      "            y = n1**2+n2**2+n3**2           # let y=N**2=n1**2+n2**2+n3**2\n",
      "            if y == 41:\n",
      "                print('{0}\\t{1}\\t{2}'.format(n1, n2, n3))\n",
      "print(\"Thus there are nine possible states\")\n"
     ],
     "language": "python",
     "metadata": {},
     "outputs": [
      {
       "output_type": "stream",
       "stream": "stdout",
       "text": [
        "1\t2\t6\n",
        "1\t6\t2\n",
        "2\t1\t6\n",
        "2\t6\t1\n",
        "3\t4\t4\n",
        "4\t3\t4\n",
        "4\t4\t3\n",
        "6\t1\t2\n",
        "6\t2\t1\n",
        "Thus there are nine possible states\n"
       ]
      }
     ],
     "prompt_number": 13
    },
    {
     "cell_type": "heading",
     "level": 2,
     "metadata": {},
     "source": [
      "Example 3.13  Page No : 126"
     ]
    },
    {
     "cell_type": "code",
     "collapsed": false,
     "input": [
      "import math \n",
      "\n",
      "# Given\n",
      "h = 6.6*10**-34     # in J s\n",
      "c = 3*10**8         # in m/s\n",
      "m = 9.1*10**-31     # in Kg\n",
      "e = 1.6*10**-19     # in coulombs\n",
      "v = 2.1*10**6       # in m/s\n",
      "E = m*v**2/2.0      # in J\n",
      "E /= e              # in eV\n",
      "E1 = -13.6          # in eV\n",
      "\n",
      "# Calculations and Results\n",
      "# change in the energy is E=En-E1\n",
      "n = math.sqrt(-13.6/(E+E1))\n",
      "print(\" the electron gets excited to {0:.4f} level\".format(n))\n",
      "n = 3.0\n",
      "E3 = -13.6/n**2\n",
      "delta_E31 = E3-E1   # in eV\n",
      "delta_E31 *= e      # in J\n",
      "lambda_31 = h*c/delta_E31\n",
      "print(\"wavelength of emitted radiation from n=3 to n=1 in nm is {0:.4f}\".format(lambda_31*10**9))\n",
      "# Another probability is transition fromm n=3 to n=2\n",
      "n = 2.0\n",
      "E2 = -13.6/n**2\n",
      "delta_E32 = E3-E2  # in eV\n",
      "delta_E32 *= e     # in J\n",
      "lambda_32 = h*c/delta_E32\n",
      "print(\"wavelength of emitted radiation from n=3 to n=2 in nm is {0:.4f}\".format(lambda_32*10**9))\n",
      "# Another probability is transition fromm n=2 to n=1\n",
      "E2 = -13.6/n**2\n",
      "delta_E21 = E2-E1  # in eV\n",
      "delta_E21 *= e  # in J\n",
      "lambda_21 = h*c/delta_E21\n",
      "print(\"wavelength of emitted radiation from n=2 to n=1 in nm is {0:.4f}\".format(lambda_21*10**9))\n"
     ],
     "language": "python",
     "metadata": {},
     "outputs": [
      {
       "output_type": "stream",
       "stream": "stdout",
       "text": [
        " the electron gets excited to 3.5835 level\n",
        "wavelength of emitted radiation from n=3 to n=1 in nm is 102.3667\n",
        "wavelength of emitted radiation from n=3 to n=2 in nm is 655.1471\n",
        "wavelength of emitted radiation from n=2 to n=1 in nm is 121.3235\n"
       ]
      }
     ],
     "prompt_number": 14
    },
    {
     "cell_type": "heading",
     "level": 2,
     "metadata": {},
     "source": [
      "Example 3.14  Page No : 127"
     ]
    },
    {
     "cell_type": "code",
     "collapsed": false,
     "input": [
      "# Given\n",
      "Z = 2.0\n",
      "n = 1.0\n",
      "\n",
      "# Calculations and Results\n",
      "E1 = -Z**2*13.6/n**2\n",
      "E1 = abs(E1)\n",
      "print(\"Energy required to ionize He+ further in eV is {0:.4f}\".format(E1))\n"
     ],
     "language": "python",
     "metadata": {},
     "outputs": [
      {
       "output_type": "stream",
       "stream": "stdout",
       "text": [
        "Energy required to ionize He+ further in eV is 54.4000\n"
       ]
      }
     ],
     "prompt_number": 15
    },
    {
     "cell_type": "heading",
     "level": 2,
     "metadata": {},
     "source": [
      "Example 3.15  Page No : 130"
     ]
    },
    {
     "cell_type": "code",
     "collapsed": false,
     "input": [
      "# Given\n",
      "Z = 1.0\n",
      "n1 = 2.0\n",
      "n2 = 3.0\n",
      "R_inf = 1.0974*10**7    # in m**-1\n",
      "\n",
      "# Calculations and Results\n",
      "# Let x=1/lambda\n",
      "x = R_inf*Z**2*((1/n1**2)-(1/n2**2))\n",
      "lambda_val = 1.0/x\n",
      "print(\"Wavelength of first spectral line in Angstroms is {0:.4f}\".format(lambda_val*10**10))\n",
      "n1 = 2.0\n",
      "n2 = 4.0\n",
      "x = R_inf*Z**2*((1/n1**2)-(1/n2**2))\n",
      "lambda_val = 1.0/x\n",
      "print(\"Wavelength of second spectral line in Angstroms is {0:.4f}\".format(lambda_val*10**10))\n",
      "print(\"These spectral lines correspond to H_alpha and H_beta lines of Hydrogen\")\n"
     ],
     "language": "python",
     "metadata": {},
     "outputs": [
      {
       "output_type": "stream",
       "stream": "stdout",
       "text": [
        "Wavelength of first spectral line in Angstroms is 6560.9623\n",
        "Wavelength of second spectral line in Angstroms is 4859.9721\n",
        "These spectral lines correspond to H_alpha and H_beta lines of Hydrogen\n"
       ]
      }
     ],
     "prompt_number": 16
    },
    {
     "cell_type": "heading",
     "level": 2,
     "metadata": {},
     "source": [
      "Example 3.16  Page No : 133"
     ]
    },
    {
     "cell_type": "code",
     "collapsed": false,
     "input": [
      "# Given\n",
      "h = 6.6*10**-34         # in J s\n",
      "e = 1.6*10**-19         # in coulombs\n",
      "E1 = 13.6               # in eV\n",
      "E1 *= e                 # in J\n",
      "Z = 1.0\n",
      "n1 = 109.0\n",
      "n2 = 110.0\n",
      "ao = 52.918*10**-12     # in m\n",
      "\n",
      "# Calculations and Results\n",
      "v = Z**2*E1*((1.0/n1**2)-(1.0/n2**2))/h\n",
      "print(\"Frequency of radiation in MHz is {0:.4f}\".format(v*10**-6))\n",
      "print(\"The frequency of radiation in the transition from n1=109 to n2=110 is same as that \"\n",
      "      \"of the detected frequency .Hence, the radiation comes from excited hydrogen atoms in\"\n",
      "      \" the give transition\")\n",
      "x = 2*n2**2*ao\n",
      "print(\"The size of the atom in micro meter is {0:.4f}\".format(x*10**6))\n",
      "# slight difference in the answer is due to approximations\n"
     ],
     "language": "python",
     "metadata": {},
     "outputs": [
      {
       "output_type": "stream",
       "stream": "stdout",
       "text": [
        "Frequency of radiation in MHz is 5022.5088\n",
        "The frequency of radiation in the transition from n1=109 to n2=110 is same as that of the detected frequency .Hence, the radiation comes from excited hydrogen atoms in the give transition\n",
        "The size of the atom in micro meter is 1.2806\n"
       ]
      }
     ],
     "prompt_number": 17
    },
    {
     "cell_type": "heading",
     "level": 2,
     "metadata": {},
     "source": [
      "Example 3.20  Page No : 139"
     ]
    },
    {
     "cell_type": "code",
     "collapsed": false,
     "input": [
      "# Given\n",
      "P_out = 2.5*10**-3      # in Watt\n",
      "I = 5*10**-3            # in Amp\n",
      "V = 2000.0              # in volts\n",
      "\n",
      "# Calculations and Results\n",
      "P_in = V*I\n",
      "E = (P_out/P_in)*100\n",
      "print(\"Efficiency of the laser in % is {0:.4f}\".format(E))\n"
     ],
     "language": "python",
     "metadata": {},
     "outputs": [
      {
       "output_type": "stream",
       "stream": "stdout",
       "text": [
        "Efficiency of the laser in % is 0.0250\n"
       ]
      }
     ],
     "prompt_number": 18
    },
    {
     "cell_type": "heading",
     "level": 2,
     "metadata": {},
     "source": [
      "Example 3.21  Page No : 142"
     ]
    },
    {
     "cell_type": "code",
     "collapsed": false,
     "input": [
      "import math \n",
      "\n",
      "# Given\n",
      "lambda_o = 632.8*10**-9     # in m\n",
      "c = 3*10**8                 # in m/s\n",
      "T = 127.0                   # in degree celsius\n",
      "T += 273.0                  # in Kelvin\n",
      "m_A = 20.2*10**-3           # in Kg/mol\n",
      "NA = 6.023*10**23           # mol**-1\n",
      "k = 1.38*10**-23            # in J/K\n",
      "\n",
      "# Calculations and Results\n",
      "m = m_A/NA                  # in Kg\n",
      "vx = math.sqrt(k*T/m)\n",
      "vo = c/lambda_o\n",
      "delta_v = 2*vo*vx/c\n",
      "print(\"delta_v in GHz is {0:.4g}\".format(delta_v))\n",
      "delta_lambda = delta_v*(-lambda_o/vo)\n",
      "print(\"delta_lambda in meters is {0:.4g}\".format(abs(delta_lambda)))\n"
     ],
     "language": "python",
     "metadata": {},
     "outputs": [
      {
       "output_type": "stream",
       "stream": "stdout",
       "text": [
        "delta_v in GHz is 1.282e+09\n",
        "delta_lambda in meters is 1.711e-12\n"
       ]
      }
     ],
     "prompt_number": 19
    }
   ],
   "metadata": {}
  }
 ]
}