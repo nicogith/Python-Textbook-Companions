{
 "metadata": {
  "name": "",
  "signature": "sha256:ba6cb48fc1189e2b468babe0bc479e8b749b88611384eb78034e3edb673abb92"
 },
 "nbformat": 3,
 "nbformat_minor": 0,
 "worksheets": [
  {
   "cells": [
    {
     "cell_type": "heading",
     "level": 1,
     "metadata": {},
     "source": [
      "Chapter 6 : Semiconductor Devices"
     ]
    },
    {
     "cell_type": "heading",
     "level": 2,
     "metadata": {},
     "source": [
      "Example 6.1  Page No : 248"
     ]
    },
    {
     "cell_type": "code",
     "collapsed": false,
     "input": [
      "import math \n",
      "\n",
      "# Given\n",
      "# let K=kT/e\n",
      "K = 0.0259              # in V\n",
      "Nd = 10**17             # in cm**-3\n",
      "Na = 10**16             # in cm**-3\n",
      "ni_Si = 1.45*10**10     # in cm**-3\n",
      "ni_Ge = 2.40*10**13     # in cm**-3\n",
      "ni_GaAs = 1.79*10**6    # in cm**-3\n",
      "\n",
      "# Calculations and Results\n",
      "# Vo=(k*T/e)*math.log(Nd*Na/ni**2)\n",
      "Vo_Si = K*math.log(Nd*Na/ni_Si**2)\n",
      "print(\"Built in potential for Si in Volts is {0:.4f}\".format(Vo_Si))\n",
      "Vo_Ge = K*math.log(Nd*Na/ni_Ge**2)\n",
      "print(\"Built in potential for Ge in Volts is {0:.4f}\".format(Vo_Ge))\n",
      "Vo_GaAs = K*math.log(Nd*Na/ni_GaAs**2)\n",
      "print(\"Built in potential for GaAs in Volts is {0:.4f}\".format(Vo_GaAs))\n"
     ],
     "language": "python",
     "metadata": {},
     "outputs": [
      {
       "output_type": "stream",
       "stream": "stdout",
       "text": [
        "Built in potential for Si in Volts is 0.7560\n",
        "Built in potential for Ge in Volts is 0.3721\n",
        "Built in potential for GaAs in Volts is 1.2222\n"
       ]
      }
     ],
     "prompt_number": 1
    },
    {
     "cell_type": "heading",
     "level": 2,
     "metadata": {},
     "source": [
      "Example 6.2  Page No : 253"
     ]
    },
    {
     "cell_type": "code",
     "collapsed": false,
     "input": [
      "import math \n",
      "\n",
      "# Given\n",
      "# let K=kT/e\n",
      "K = 0.0259              # in V\n",
      "Na = 10**18             # in cm**-3\n",
      "Nd = 10**16             # in cm**-3\n",
      "e = 1.6*10**-19         # in coulombs\n",
      "Eo = 8.85*10**-12       # in m-3 kg-1 s4 A2\n",
      "Er = 11.9\n",
      "E = Eo*Er\n",
      "ni = 1.45*10**10        # in cm**-3\n",
      "\n",
      "# Calculations and Results\n",
      "# Vo=(k*T/e)*math.log(Nd*Na/ni**2)\n",
      "Vo = K*math.log(Nd*Na/ni**2)\n",
      "print(\"{0:.4f}\".format(Vo))\n",
      "Nd *= 10**6             # in m**-3\n",
      "Wo = math.sqrt(2*E*Vo/(e*Nd))\n",
      "print(\"Depletion width in micro meters is {0:.4f}\".format(Wo*10**6))\n"
     ],
     "language": "python",
     "metadata": {},
     "outputs": [
      {
       "output_type": "stream",
       "stream": "stdout",
       "text": [
        "0.8157\n",
        "Depletion width in micro meters is 0.3277\n"
       ]
      }
     ],
     "prompt_number": 2
    },
    {
     "cell_type": "heading",
     "level": 2,
     "metadata": {},
     "source": [
      "Example 6.3  Page No : 258"
     ]
    },
    {
     "cell_type": "code",
     "collapsed": false,
     "input": [
      "import math \n",
      "\n",
      "# Given\n",
      "# part(a)\n",
      "# let K=k*T/e\n",
      "K = 0.0259                  # in V\n",
      "Te = 5*10**-9               # in s\n",
      "Th = 417*10**-9             # in s\n",
      "ue = 120.0                    # in cm2/V/s\n",
      "uh = 440.0                    # in cm2/V/s\n",
      "Na = 5*10**18               # in cm**-3\n",
      "Nd = 10**16                 # in cm**-3\n",
      "T1 = 300.0                    # in kelvin\n",
      "T2 = 373.0                    # in kelvin\n",
      "Tg = 10**-6                 # in seconds\n",
      "Vr = 5.0                      # in volts\n",
      "ni_300 = 1.45*10**10        # in cm**-3 at 300K\n",
      "ni_373 = 1.2*10**12         # in cm**-3 at 373K\n",
      "A = 0.01                    # in cm2\n",
      "e = 1.6*10**-19             # in coulombs\n",
      "epsilon_o = 8.85*10**-12    # in F/m\n",
      "epsilon_r = 11.9\n",
      "V = 0.6                     # in v\n",
      "\n",
      "# Calculations and Results\n",
      "# De=k*T*ue/e\n",
      "De = K*ue\n",
      "Dh = K*uh\n",
      "Le = math.sqrt(De*Te)\n",
      "Lh = math.sqrt(Dh*Th)\n",
      "print(\"Diffusion length of electrons in cm is {0:.4g}\".format(Le))\n",
      "print(\"Diffusion length of holes in cm is {0:.4g}\".format(Lh))\n",
      "# part(b)\n",
      "# Vo=(k*T/e)*math.log(Nd*Na/ni**2)\n",
      "Vo = K*math.log(Nd*Na/ni_300**2)\n",
      "print(\"Built-in potential in volts is {0:.4f}\".format(Vo))\n",
      "# part(C)\n",
      "Iso_300 = A*e*ni_300**2*Dh/(Lh*Nd)\n",
      "# I=Iso*exp(eV/kT)\n",
      "I = Iso_300*math.exp(V/K)\n",
      "print(\"Current when there is a forward bias of 0.6 V at 300K in Amperes is {0:.4g}\".format(I))\n",
      "# part(d)\n",
      "Iso_373 = Iso_300*(ni_373/ni_300)**2\n",
      "I = Iso_373*math.exp((V/K)*(T1/T2))\n",
      "print(\"Current when there is a forward bias of 0.6 V at 373K in Amperes is {0:.4f}\".format(I))\n",
      "# part(e)\n",
      "Nd *= 10**6                 # in m**-3\n",
      "epsilon = epsilon_o*epsilon_r\n",
      "W = math.sqrt(2*epsilon*(Vo+Vr)/(e*Nd))\n",
      "W *= 10**2                  # in cm\n",
      "ni = 1.45*10**10            # in cm**-3\n",
      "I_gen = e*A*W*ni/Tg\n",
      "print(\"Thermal generation current in Amperes is {0:.4g}\".format(I_gen))\n"
     ],
     "language": "python",
     "metadata": {},
     "outputs": [
      {
       "output_type": "stream",
       "stream": "stdout",
       "text": [
        "Diffusion length of electrons in cm is 0.0001247\n",
        "Diffusion length of holes in cm is 0.00218\n",
        "Built-in potential in volts is 0.8574\n",
        "Current when there is a forward bias of 0.6 V at 300K in Amperes is 0.002023\n",
        "Current when there is a forward bias of 0.6 V at 373K in Amperes is 0.1488\n",
        "Thermal generation current in Amperes is 2.037e-09\n"
       ]
      }
     ],
     "prompt_number": 3
    },
    {
     "cell_type": "heading",
     "level": 2,
     "metadata": {},
     "source": [
      "Example 6.5  Page No : 261"
     ]
    },
    {
     "cell_type": "code",
     "collapsed": false,
     "input": [
      "import math \n",
      "\n",
      "# Given\n",
      "A = 10**-6              # in m2\n",
      "Vo = 0.856              # in V\n",
      "I = 5*10**-3            # in Amperes\n",
      "Iso = 0.176*10**-12     # in Amperes\n",
      "e = 1.6*10**-19         # in coulombs\n",
      "Eo = 8.85*10**-12       # in m-3 kg-1 s4 A2\n",
      "Er = 11.9\n",
      "Th = 417*10**-9         # in seconds\n",
      "Nd = 10**22             # in m**-3\n",
      "# let K=kT/e\n",
      "K = 0.0259              # in V\n",
      "\n",
      "# Calculations and Results\n",
      "# Vo=(k*T/e)*math.log(I/Iso)\n",
      "V = K*math.log(I/Iso)\n",
      "I = 5.0                   # in mA\n",
      "rd = 25.0/I\n",
      "print(\"Incremental diode resistance in ohms is {0:.4f}\".format(rd))\n",
      "E = Eo*Er\n",
      "C_dep = A*math.sqrt((e*E*Nd)/(2*(Vo-V)))\n",
      "print(\"Depletion capacitance of the diode in Farads {0:.4g}\".format(C_dep))\n",
      "C_diff = Th*I/25\n",
      "print(\"Incremental diffusion coefficient in Farads is {0:.4g}\".format(C_diff))\n"
     ],
     "language": "python",
     "metadata": {},
     "outputs": [
      {
       "output_type": "stream",
       "stream": "stdout",
       "text": [
        "Incremental diode resistance in ohms is 5.0000\n",
        "Depletion capacitance of the diode in Farads 6.019e-10\n",
        "Incremental diffusion coefficient in Farads is 8.34e-08\n"
       ]
      }
     ],
     "prompt_number": 4
    },
    {
     "cell_type": "heading",
     "level": 2,
     "metadata": {},
     "source": [
      "Example 6.6  Page No : 264"
     ]
    },
    {
     "cell_type": "code",
     "collapsed": false,
     "input": [
      "# Given\n",
      "e = 1.6*10**-19                     # in coulombs\n",
      "Nd = 10**16                         # in cm**-3\n",
      "Ebr = 4*10**5                       # in V/cm\n",
      "epsilono = 8.85*10**-12*10**-2      # in F/cm\n",
      "epsilonr = 11.9\n",
      "\n",
      "# Calculations and Results\n",
      "epsilon = epsilono*epsilonr\n",
      "Vbr = epsilon*Ebr**2/(2*e*Nd)\n",
      "print(\"Reverse break down voltage of the Si diode in Volts is {0:.4f}\".format(Vbr))\n",
      "# part(b)\n",
      "Nd = 10**17                         # in cm**-3\n",
      "Ebr = 6*10**5                       # in V/cm\n",
      "Vbr = epsilon*Ebr**2/(2*e*Nd)\n",
      "print(\"Reverse break down voltage in Volts when phosphorous doping is increased \"\n",
      "      \"to 10**17 cm**-3 is {0:.4f}\".format(Vbr))\n"
     ],
     "language": "python",
     "metadata": {},
     "outputs": [
      {
       "output_type": "stream",
       "stream": "stdout",
       "text": [
        "Reverse break down voltage of the Si diode in Volts is 52.6575\n",
        "Reverse break down voltage in Volts when phosphorous doping is increased to 10**17 cm**-3 is 11.8479\n"
       ]
      }
     ],
     "prompt_number": 5
    },
    {
     "cell_type": "heading",
     "level": 2,
     "metadata": {},
     "source": [
      "Example 6.7  Page No : 266"
     ]
    },
    {
     "cell_type": "code",
     "collapsed": false,
     "input": [
      "import math \n",
      "\n",
      "# Given\n",
      "# part(a)\n",
      "Th = 250*10**-9         # in seconds\n",
      "A = 0.02*10**-2         # in cm2\n",
      "Av = 10.0               # voltage gain\n",
      "ni = 1.45*10**10        # in cm**-3\n",
      "Nd = 2*10**16           # in cm**-3\n",
      "W_B = 2*10**-4          # in cm\n",
      "uh = 410.0              # in cm2/V/s\n",
      "I_E = 2.5*10**-3        # in Amperes\n",
      "# let K=kT/e\n",
      "K = 0.0259              # in V\n",
      "\n",
      "# Calculations and Results\n",
      "# Dh=(kT/e)*uh\n",
      "Dh = K*uh\n",
      "Tt = W_B**2/(2*Dh)\n",
      "e = 1.6*10**-19         # in coulombs\n",
      "alpha = 1-(Tt/Th)\n",
      "print(\"CB current transfer ratio is {0:.4f}\".format(alpha))\n",
      "# funcprot(0)\n",
      "beta = alpha/(1-alpha)\n",
      "print(\"current gain is {0:.4f}\".format(beta))\n",
      "# part(c)\n",
      "I_EO = e*A*Dh*ni**2/(Nd*W_B)\n",
      "# V_EB=(k*T/e)*math.log(I_E/I_EO)\n",
      "V_EB = K*math.log(I_E/I_EO)\n",
      "print(\"V_EB in volts is {0:.4f}\".format(V_EB))\n",
      "# re=(k*T/e)/IE=25/IE(mA)\n",
      "I_E = 2.5               # in mA\n",
      "re = 25/I_E\n",
      "print(\"small signal input resistance in ohms is {0:.4f}\".format(re))\n",
      "# part(d)\n",
      "R_C = Av*re\n",
      "print(\"R_C in ohms is {0:.4f}\".format(R_C))\n",
      "# part(e)\n",
      "I_E = 2.5*10**-3        # in Amperes\n",
      "I_B = I_E*(1-alpha)\n",
      "print(\"base current in micro amperes is {0:.4f}\".format(I_B*10**6))\n",
      "# part(f)\n",
      "f = 1.0/Tt\n",
      "print(\"upper frequency range limit in MHz is {0:.4f}\".format(f*10**-6))\n"
     ],
     "language": "python",
     "metadata": {},
     "outputs": [
      {
       "output_type": "stream",
       "stream": "stdout",
       "text": [
        "CB current transfer ratio is 0.9925\n",
        "current gain is 131.7375\n",
        "V_EB in volts is 0.6647\n",
        "small signal input resistance in ohms is 10.0000\n",
        "R_C in ohms is 100.0000\n",
        "base current in micro amperes is 18.8342\n",
        "upper frequency range limit in MHz is 530.9500\n"
       ]
      }
     ],
     "prompt_number": 6
    },
    {
     "cell_type": "heading",
     "level": 2,
     "metadata": {},
     "source": [
      "Example 6.8  Page No : 271"
     ]
    },
    {
     "cell_type": "code",
     "collapsed": false,
     "input": [
      "# Given\n",
      "# part(c)\n",
      "Nd = 2*10**16       # in cm**-3\n",
      "Na = 10**19         # in cm**-3\n",
      "W_B = 2*10**-4      # in cm\n",
      "W_E = 2*10**-4      # in cm\n",
      "ue = 110.0            # in cm2/V/s\n",
      "uh = 410.0            # in cm2/V/s\n",
      "Th = 250*10**-9     # in seconds\n",
      "# let K=kT/e\n",
      "K = 0.0259          # in V\n",
      "\n",
      "# Calculations and Results\n",
      "# Dh=(kT/e)*uh\n",
      "Dh = K*uh\n",
      "Tt = W_B**2/(2*Dh)\n",
      "gamma = 1.0/(1+((Nd*W_B*ue)/(Na*W_E*uh)))\n",
      "print(\"Injection frequency is {0:.4f}\".format(gamma))\n",
      "alpha = gamma*(1-(Tt/Th))\n",
      "print(\"Modified alpha is {0:.4f}\".format(alpha))\n",
      "beta = alpha/(1-alpha)\n",
      "print(\"modified current gain is {0:.4f}\".format(beta))\n"
     ],
     "language": "python",
     "metadata": {},
     "outputs": [
      {
       "output_type": "stream",
       "stream": "stdout",
       "text": [
        "Injection frequency is 0.9995\n",
        "Modified alpha is 0.9919\n",
        "modified current gain is 122.9784\n"
       ]
      }
     ],
     "prompt_number": 7
    },
    {
     "cell_type": "heading",
     "level": 2,
     "metadata": {},
     "source": [
      "Example 6.9  Page No : 276"
     ]
    },
    {
     "cell_type": "code",
     "collapsed": false,
     "input": [
      "# Given\n",
      "# rms output voltage\n",
      "Ic = 2.5                    # in mA\n",
      "Rc = 1000.0                   # in ohms\n",
      "beta = 100.0\n",
      "vs = 1.0                      # in mV\n",
      "Rs = 50.0                     # in ohms\n",
      "\n",
      "# Calculations and Results\n",
      "r_be = beta*25/Ic           # Ic in mA\n",
      "gm = Ic/25.0                  # Ic in mA\n",
      "# Av=v_ce/v_be=gm*Rc\n",
      "Av = gm*Rc\n",
      "v_be = vs*r_be/(r_be+Rs)    # in mV\n",
      "v_ce = Av*v_be\n",
      "print(\"rms output voltage in mV is {0:.4f}\".format(v_ce))\n",
      "v_be *= 10**-3              # in volts\n",
      "Ap = beta*Av\n",
      "P_in = v_be**2/r_be\n",
      "print(\"Input power in watts is {0:.4f}\".format(P_in*10**9))\n",
      "P_out = P_in*Ap\n",
      "print(\"output power in watts is {0:.4f}\".format(P_out*10**6))\n",
      "\n"
     ],
     "language": "python",
     "metadata": {},
     "outputs": [
      {
       "output_type": "stream",
       "stream": "stdout",
       "text": [
        "rms output voltage in mV is 95.2381\n",
        "Input power in watts is 0.9070\n",
        "output power in watts is 9.0703\n"
       ]
      }
     ],
     "prompt_number": 8
    },
    {
     "cell_type": "heading",
     "level": 2,
     "metadata": {},
     "source": [
      "Example 6.10  Page No : 278"
     ]
    },
    {
     "cell_type": "code",
     "collapsed": false,
     "input": [
      "import math \n",
      "\n",
      "# Given\n",
      "V_GS = -1.5                             # in Volts\n",
      "V_GS_off = -5.0                         # in Volts\n",
      "I_DSS = 10*10**-3                       # in A\n",
      "R_D = 2000.0                            # in ohms\n",
      "\n",
      "# Calculations and Results\n",
      "I_DS = I_DSS*(1-(V_GS/V_GS_off))**2     # in A\n",
      "gm = -2*math.sqrt(I_DSS*I_DS)/V_GS_off\n",
      "Av = -gm*R_D\n",
      "print(\"voltage amplification for small signal is {0:.4f}\".format(Av))\n"
     ],
     "language": "python",
     "metadata": {},
     "outputs": [
      {
       "output_type": "stream",
       "stream": "stdout",
       "text": [
        "voltage amplification for small signal is -5.6000\n"
       ]
      }
     ],
     "prompt_number": 9
    },
    {
     "cell_type": "heading",
     "level": 2,
     "metadata": {},
     "source": [
      "Example 6.11  Page No : 283"
     ]
    },
    {
     "cell_type": "code",
     "collapsed": false,
     "input": [
      "# Given\n",
      "Z = 50*10**-6               # in m\n",
      "L = 10*10**-6               # in m\n",
      "t_ox = 450*10**-10          # in m\n",
      "V_GS = 8.0                  # in V\n",
      "V_th = 4.0                  # in V\n",
      "V_DS = 20.0                 # in V\n",
      "lambda_val = 0.01\n",
      "ue = 750*10**-4             # in m2/V/s\n",
      "epsilon_r = 3.9\n",
      "epsilon_o = 8.85*10**-12    # F/m2\n",
      "\n",
      "# Calculations and Results\n",
      "epsilon = epsilon_r*epsilon_o\n",
      "K = (Z*ue*epsilon)/(2*L*t_ox)\n",
      "I_DS = K*(V_GS-V_th)**2*(1+lambda_val*V_DS)\n",
      "print(\"drain current in mA is {0:.4g}\".format(I_DS*10**3))\n"
     ],
     "language": "python",
     "metadata": {},
     "outputs": [
      {
       "output_type": "stream",
       "stream": "stdout",
       "text": [
        "drain current in mA is 2.761\n"
       ]
      }
     ],
     "prompt_number": 10
    },
    {
     "cell_type": "heading",
     "level": 2,
     "metadata": {},
     "source": [
      "Example 6.13  Page No : 288"
     ]
    },
    {
     "cell_type": "code",
     "collapsed": false,
     "input": [
      "import math \n",
      "\n",
      "# Given\n",
      "e = 1.6*10**-19         # in coulombs\n",
      "I = 10**-3              # in A\n",
      "Th = 10**-6             # in s\n",
      "\n",
      "# Calculations and Results\n",
      "B = 1/Th                # in Hz\n",
      "i_sn = math.sqrt(2*e*I*B)\n",
      "print(\"shot noise current in amperes is {0:.4g}\".format(i_sn))\n"
     ],
     "language": "python",
     "metadata": {},
     "outputs": [
      {
       "output_type": "stream",
       "stream": "stdout",
       "text": [
        "shot noise current in amperes is 1.789e-08\n"
       ]
      }
     ],
     "prompt_number": 11
    }
   ],
   "metadata": {}
  }
 ]
}