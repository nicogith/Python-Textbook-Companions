{
 "metadata": {
  "name": ""
 },
 "nbformat": 3,
 "nbformat_minor": 0,
 "worksheets": [
  {
   "cells": [
    {
     "cell_type": "heading",
     "level": 1,
     "metadata": {},
     "source": [
      "Chapter 7: SELF AND MUTUAL INDUCTANCES"
     ]
    },
    {
     "cell_type": "heading",
     "level": 2,
     "metadata": {},
     "source": [
      "Example 7.1,Page number: 184\n"
     ]
    },
    {
     "cell_type": "code",
     "collapsed": false,
     "input": [
      "#Question:\n",
      "\"\"\"Finding the emf induced in a coil.\"\"\"\n",
      "\n",
      "#Variable Declaration:\n",
      "L=4                    #Self inductance of the coil(in Henry) \n",
      "di=4-10                #Change in current(in Amperes)\n",
      "dt=0.1                 #Time interval(in seconds)\n",
      "\n",
      "\n",
      "#Calculations:\n",
      "e=-L*(di/dt)\n",
      "\n",
      "\n",
      "#Result:\n",
      "print \"The emf induced in the coil is %.2f V.\" %(e)"
     ],
     "language": "python",
     "metadata": {},
     "outputs": [
      {
       "output_type": "stream",
       "stream": "stdout",
       "text": [
        "The emf induced in the coil is 240.00 V.\n"
       ]
      }
     ],
     "prompt_number": 1
    },
    {
     "cell_type": "heading",
     "level": 2,
     "metadata": {},
     "source": [
      "Example 7.2,Page number: 184"
     ]
    },
    {
     "cell_type": "code",
     "collapsed": false,
     "input": [
      "#Question:\n",
      "\"\"\"Finding the inductance of a coil.\"\"\"\n",
      "\n",
      "#Variable Declaration:\n",
      "N=150                  #Number of turns in the coil \n",
      "flux=0.01              #Flux linked with the coil(in Webers)\n",
      "I=10                   #Current in the coil(in Amperes)    \n",
      "\n",
      "\n",
      "#Calculations:\n",
      "L=(N*flux)/I\n",
      "di=-10-(10)\n",
      "dt=0.01\n",
      "e=-L*(di/dt)\n",
      "\n",
      "\n",
      "#Result:\n",
      "print \"The inductance of the coil is %.2f H.\" %(L)\n",
      "print \"The induced emf is %.2f V.\" %(e)"
     ],
     "language": "python",
     "metadata": {},
     "outputs": [
      {
       "output_type": "stream",
       "stream": "stdout",
       "text": [
        "The inductance of the coil is 0.15 H.\n",
        "The induced emf is 300.00 V.\n"
       ]
      }
     ],
     "prompt_number": 2
    },
    {
     "cell_type": "heading",
     "level": 2,
     "metadata": {},
     "source": [
      "Example 7.3,Page number: 185"
     ]
    },
    {
     "cell_type": "code",
     "collapsed": false,
     "input": [
      "#Question:\n",
      "\"\"\"Finding the inductance of the coil and the emf induced.\"\"\"\n",
      "\n",
      "#Variable Declaration:\n",
      "N=100                  #Number of turns in the coil\n",
      "\n",
      "\n",
      "#Calculations:\n",
      "dflux=-0.4-0.4\n",
      "di=-10-10\n",
      "L=N*(dflux/di)\n",
      "dt=0.01\n",
      "e=-(L*(di/dt))/1000\n",
      "\n",
      "\n",
      "#Result:\n",
      "print \"The inductance of the coil is %.2f mH.\" %(L)\n",
      "print \"The induced emf is %.2f V.\" %(e)\n"
     ],
     "language": "python",
     "metadata": {},
     "outputs": [
      {
       "output_type": "stream",
       "stream": "stdout",
       "text": [
        "The inductance of the coil is 4.00 mH.\n",
        "The induced emf is 8.00 V.\n"
       ]
      }
     ],
     "prompt_number": 3
    },
    {
     "cell_type": "heading",
     "level": 2,
     "metadata": {},
     "source": [
      "Example 7.4,Page number: 185"
     ]
    },
    {
     "cell_type": "code",
     "collapsed": false,
     "input": [
      "#Question:\n",
      "\"\"\"Finding the energy stored in an air-cored solenoid.\"\"\"\n",
      "\n",
      "from math import pi,pow\n",
      "\n",
      "\"\"\" All quantities expresssed in SI System.\"\"\"\n",
      "\n",
      "#Variable Declaration:\n",
      "l=0.30                 #Length of the solenoid(in metres) \n",
      "d=0.015                #Internal diameter of the solenoid(in metres)    \n",
      "r=0.0075               #Internal radius of the solenoid(in metres)\n",
      "N=900                  #Number of turns in the coil \n",
      "\n",
      "\n",
      "#Calculations:\n",
      "A=pi*pow(r,2)\n",
      "L=(pow(N,2)*4*pi*A)/(0.30*10000000)\n",
      "I=5\n",
      "W=0.5*L*pow(I,2)\n",
      "\n",
      "\n",
      "#Result:\n",
      "print \"The inductance of the air-cored solenoid is %.2f mH.\" %(L*1000)\n",
      "print \"The amount of energy stored in the air-cored solenoid is %.2f mJ.\" %(W*1000)"
     ],
     "language": "python",
     "metadata": {},
     "outputs": [
      {
       "output_type": "stream",
       "stream": "stdout",
       "text": [
        "The inductance of the air-cored solenoid is 0.60 mH.\n",
        "The amount of energy stored in the air-cored solenoid is 7.49 mJ.\n"
       ]
      }
     ],
     "prompt_number": 11
    },
    {
     "cell_type": "heading",
     "level": 2,
     "metadata": {},
     "source": [
      "Example 7.5,Page number: 185"
     ]
    },
    {
     "cell_type": "code",
     "collapsed": false,
     "input": [
      "#Question:\n",
      "\"\"\"Finding the relative permeability of iron and the inductance of a coil.\"\"\"\n",
      "\n",
      "from math import pow,pi\n",
      "\n",
      "#Variable Declaration:\n",
      "r=0.01                 #Radius of circular ring(in metres)\n",
      "A=pi*pow(r,2)          #Area of circular ring(in square metres) \n",
      "N=3000                 #Number of turns in the coil \n",
      "I=0.5                  #Current in the coil(in Amperes)\n",
      "l=20.0/100             #Length of the iron rod(in metres) \n",
      "B=1.2                  #Magnitude of magnetic field(in Tesla)\n",
      "\n",
      "\n",
      "#Calculations:\n",
      "H=(N*I)/l\n",
      "per=B/H\n",
      "rel_per=(per*10000000)/(4*pi)\n",
      "L=(N*B*A)/I\n",
      "dflux=(0.1-1)*A*B\n",
      "dt=0.01\n",
      "e=-N*(dflux/dt)\n",
      "\n",
      "\n",
      "#Result:\n",
      "print \"(a)The permeability of iron is %e Tm/A.\" %(per)\n",
      "print \"(b)The relative permeability of iron is %d.\" %(rel_per)\n",
      "print \"(c)The inductance of the coil is %.2f H.\" %(L)\n",
      "print \"(d)The voltage in the coil is %.2f V.\" %(e)"
     ],
     "language": "python",
     "metadata": {},
     "outputs": [
      {
       "output_type": "stream",
       "stream": "stdout",
       "text": [
        "(a)The permeability of iron is 1.600000e-04 Tm/A.\n",
        "(b)The relative permeability of iron is 127.\n",
        "(c)The inductance of the coil is 2.26 H.\n",
        "(d)The voltage in the coil is 101.79 V.\n"
       ]
      }
     ],
     "prompt_number": 13
    },
    {
     "cell_type": "heading",
     "level": 2,
     "metadata": {},
     "source": [
      "Example 7.6,Page number: 186"
     ]
    },
    {
     "cell_type": "code",
     "collapsed": false,
     "input": [
      "#Question:\n",
      "\"\"\"Finding the potential difference across the terminals of a coil.\"\"\"\n",
      "\n",
      "#Variable Declaration:\n",
      "R=3                    #Resistance of the coil(in Ohms)\n",
      "i=1                    #Current in the coil(in Amperes)\n",
      "di=10000               #Change in current(in Amperes) \n",
      "dt=1                   #Time interval(in seconds)\n",
      "L=0.1/1000             #Self inductance of the coil(in Henry)\n",
      "\n",
      "\n",
      "#Calculations:\n",
      "V=(i*R)+(L*(di/dt))\n",
      "\n",
      "\n",
      "#Result:\n",
      "print \"The potential difference that exists across the terminals of the coil is %.2f V.\" %(V)     "
     ],
     "language": "python",
     "metadata": {},
     "outputs": [
      {
       "output_type": "stream",
       "stream": "stdout",
       "text": [
        "The potential difference that exists across the terminals of the coil is 4.00 V.\n"
       ]
      }
     ],
     "prompt_number": 14
    },
    {
     "cell_type": "heading",
     "level": 2,
     "metadata": {},
     "source": [
      "Example 7.7,Page number: 188"
     ]
    },
    {
     "cell_type": "code",
     "collapsed": false,
     "input": [
      "#Question:\n",
      "\"\"\"Finding the mutual inductance and emf induced in a search coil.\"\"\"\n",
      "\n",
      "from math import pi,pow\n",
      "\n",
      "#Variable Declaration:\n",
      "N1=2000                #Number of turns in the solenoid   \n",
      "N2=500                 #Number of turns in the search coil\n",
      "l=0.70                 #Length of the solenoid(in metres) \n",
      "k=1                    #Coefficient of coupling\n",
      "A=30.0/10000           #Mean area of the search coil(in square metres)\n",
      "\n",
      "\n",
      "#Calculations:\n",
      "per=(4*pi)/10000000.0\n",
      "M=(k*N1*N2*per*A)/l\n",
      "di1=260.0\n",
      "dt=1\n",
      "e=M*(di1/dt)\n",
      "\n",
      "\n",
      "#Result:\n",
      "print \"(a)The mutual inductance is %.4f mH.\" %(M*1000)\n",
      "print \"(b)The emf induced in the search coil is %.2f V.\" %(e)"
     ],
     "language": "python",
     "metadata": {},
     "outputs": [
      {
       "output_type": "stream",
       "stream": "stdout",
       "text": [
        "(a)The mutual inductance is 5.3856 mH.\n",
        "(b)The emf induced in the search coil is 1.40 V.\n"
       ]
      }
     ],
     "prompt_number": 16
    },
    {
     "cell_type": "heading",
     "level": 2,
     "metadata": {},
     "source": [
      "Example 7.8,Page number: 189"
     ]
    },
    {
     "cell_type": "code",
     "collapsed": false,
     "input": [
      "#Question:\n",
      "\"\"\"Finding the mutual inductance and the coefficient of coupling between two coils.\"\"\"\n",
      "\n",
      "from math import pow,sqrt\n",
      "\n",
      "#Variable Declaration:\n",
      "N1=600.0               #Number of turns in the first coil\n",
      "N2=1700.0              #Number of turns in the second coil \n",
      "flux2=0.8/1000         #Magnetic flux produced in the second coil(in Webers) \n",
      "I2=6                   #Current in the second coil(in Amperes)\n",
      "\n",
      "\n",
      "#Calculations:\n",
      "L2=(N2*flux2)/I2\n",
      "L1=L2*pow((N1/N2),2)\n",
      "flux21=0.5/1000\n",
      "k=flux21/flux2\n",
      "M=k*sqrt(L1*L2)\n",
      "\n",
      "\n",
      "#Result:\n",
      "print \"L1=%.4f H.\" %(L1)\n",
      "print \"L2=%.4f H.\" %(L2)\n",
      "print \"The coefficient of coupling(k)=%.4f.\" %(k) \n",
      "print \"M=%.4f H.\" %(M)"
     ],
     "language": "python",
     "metadata": {},
     "outputs": [
      {
       "output_type": "stream",
       "stream": "stdout",
       "text": [
        "L1=0.0282 H.\n",
        "L2=0.2267 H.\n",
        "The coefficient of coupling(k)=0.6250.\n",
        "M=0.0500 H.\n"
       ]
      }
     ],
     "prompt_number": 17
    },
    {
     "cell_type": "heading",
     "level": 2,
     "metadata": {},
     "source": [
      "Example 7.9,Page number: 189 "
     ]
    },
    {
     "cell_type": "code",
     "collapsed": false,
     "input": [
      "#Question:\n",
      "\"\"\"Finding the mutual inductance and the coefficient of coupling between two coils.\"\"\"\n",
      "\n",
      "from math import sqrt\n",
      "\n",
      "#Variable Declaration:\n",
      "N1=1200.0              #Number of turns in the first coil       \n",
      "flux1=0.25/1000        #Magnetic flux produced in the first coil(in Webers) \n",
      "I1=5                   #Current in the first coil(in Amperes)\n",
      "N2=800.0               #Number of turns in the second coil\n",
      "flux2=0.15/1000        #Magnetic flux produced in the second coil(in Webers)\n",
      "I2=5                   #Current in the second coil(in Amperes)\n",
      "\n",
      "\n",
      "#Calculations:\n",
      "L1=(N1*flux1)/I1\n",
      "L2=(N2*flux2)/I2\n",
      "k=0.6\n",
      "flux12=k*flux1\n",
      "M=(N2*flux12)/I1\n",
      "k_new=M/sqrt(L1*L2)\n",
      "\n",
      "\n",
      "#Result:\n",
      "print \"The mutual inductance(M) is %.4f H.\" %(M)\n",
      "print \"The coefficient of coupling is %.4f.\" %(k_new)"
     ],
     "language": "python",
     "metadata": {},
     "outputs": [
      {
       "output_type": "stream",
       "stream": "stdout",
       "text": [
        "The mutual inductance(M) is 0.0240 H.\n",
        "The coefficient of coupling is 0.6325.\n"
       ]
      }
     ],
     "prompt_number": 19
    },
    {
     "cell_type": "heading",
     "level": 2,
     "metadata": {},
     "source": [
      "Example 7.10,Page number: 192 "
     ]
    },
    {
     "cell_type": "code",
     "collapsed": false,
     "input": [
      "#Question:\n",
      "\"\"\"Finding the mutual inductance and the coefficient of coupling between two coils.\"\"\"\n",
      "\n",
      "from math import sqrt\n",
      "\n",
      "#Variable Declaration:\n",
      "Lsa=1.4/1000           #Net inductance in series-aiding connections(in Henry) \n",
      "Lso=0.6/1000           #Net inductance in series-opposing connections(in Henry) \n",
      "\n",
      "\n",
      "#Calculations:\n",
      "M=(Lsa-Lso)/4\n",
      "\"\"\"Lsa=L1+L2+2M \n",
      "    L1+L2=1 mH; As the two coils are similar L1=L2=0.5mH \"\"\"\n",
      "L1=0.5/1000\n",
      "L2=0.5/1000\n",
      "k=M/sqrt(L1*L2)\n",
      "\n",
      "\n",
      "#Result:\n",
      "print \"The mutual inductance is %.2f mH.\" %(M*1000)\n",
      "print \"The coefficient of coupling(k) is %.2f.\" %(k)"
     ],
     "language": "python",
     "metadata": {},
     "outputs": [
      {
       "output_type": "stream",
       "stream": "stdout",
       "text": [
        "The mutual inductance is 0.20 mH.\n",
        "The coefficient of coupling(k) is 0.40.\n"
       ]
      }
     ],
     "prompt_number": 20
    },
    {
     "cell_type": "heading",
     "level": 2,
     "metadata": {},
     "source": [
      "Example 7.11,Page number: 193"
     ]
    },
    {
     "cell_type": "code",
     "collapsed": false,
     "input": [
      "#Question:\n",
      "\"\"\"Finding the mutual inductance and the self-inductances of two coils. \"\"\"\n",
      "\n",
      "from math import sqrt\n",
      "\n",
      "\"\"\" Equation 1 is L1+L2+(2*M)=1.8;\n",
      "    \n",
      "    Equation 2 is L1+L2-(2*M)=0.8. \"\"\"\n",
      "\n",
      "#Variable Declaration:\n",
      "k=0.6                 #Coefficient of coupling\n",
      "eq1=1.8               #Net inductance when fluxes are in same direction(in Henry)\n",
      "eq2=0.8               #Net inductance when fluxes are in opposite direction(in Henry)\n",
      "\n",
      "\n",
      "#Calculations:\n",
      "M=(eq1-eq2)/4\n",
      "sum=(eq1+eq2)/2\n",
      "product=(M*M)/(k*k)\n",
      "diff=sqrt((sum*sum)-(4*product))\n",
      "L1=(sum+diff)/2\n",
      "L2=(sum-diff)/2\n",
      "\n",
      "\n",
      "#Result:\n",
      "print \"The mutual inductance of the two coils is %.3f H.\" %(M)\n",
      "print \"The self inducatnce of the first coil is %.3f H and the self inductance of the second coil is %.3f H.\" %(L1,L2)"
     ],
     "language": "python",
     "metadata": {},
     "outputs": [
      {
       "output_type": "stream",
       "stream": "stdout",
       "text": [
        "The mutual inductance of the two coils is 0.250 H.\n",
        "The self inducatnce of the first coil is 1.149 H and the self inductance of the second coil is 0.151 H.\n"
       ]
      }
     ],
     "prompt_number": 21
    },
    {
     "cell_type": "heading",
     "level": 2,
     "metadata": {},
     "source": [
      "Example 7.12,Page number:195"
     ]
    },
    {
     "cell_type": "code",
     "collapsed": false,
     "input": [
      "#Question:\n",
      "\"\"\"Finding the equivalent inductance of a combination of inductances connected in parallel.\"\"\"\n",
      "\n",
      "from math import sqrt\n",
      "\n",
      "#Variable Declaration:\n",
      "k=0.433                #Coefficient of coupling   \n",
      "L1=8                   #Self-inductance of the first coil    \n",
      "L2=6                   #Self-inductance of the second coil\n",
      "\n",
      "\n",
      "#Calculations:\n",
      "M=k*sqrt(L1*L2)\n",
      "Lpa=((L1*L2)-(M*M))/(L1+L2-(2*M))\n",
      "Lpo=((L1*L2)-(M*M))/(L1+L2+(2*M))\n",
      "\n",
      "\n",
      "#Result:\n",
      "print \"(a)The equivalent inductance such that the mutual induction assists the self induction is %.3f H.\" %(Lpa)\n",
      "print \"(b)The equivalent inductance such that the mutual induction opposes the self induction is %.3f H.\" %(Lpo)  "
     ],
     "language": "python",
     "metadata": {},
     "outputs": [
      {
       "output_type": "stream",
       "stream": "stdout",
       "text": [
        "(a)The equivalent inductance such that the mutual induction assists the self induction is 4.875 H.\n",
        "(b)The equivalent inductance such that the mutual induction opposes the self induction is 1.950 H.\n"
       ]
      }
     ],
     "prompt_number": 25
    },
    {
     "cell_type": "heading",
     "level": 2,
     "metadata": {},
     "source": [
      "Example 7.13,Page number: 196 "
     ]
    },
    {
     "cell_type": "code",
     "collapsed": false,
     "input": [
      "#Question:\n",
      "\"\"\"Finding the number of turns in an air-cored coil.\"\"\"\n",
      "\n",
      "from math import sqrt\n",
      "\n",
      "#Variable Declaration:\n",
      "l=2.5e-02             #Length of the coil(in metres)\n",
      "A=2e-04               #Average cross-sectional area of the coil(in square-metres)\n",
      "L=400e-06             #Self-inductance of the coil(in Henry)\n",
      "\n",
      "\n",
      "#Calculations:\n",
      "abs_per=(4*pi)/(1e07)\n",
      "N=sqrt((L*l)/(abs_per*A))\n",
      "\n",
      "\n",
      "#Result:\n",
      "print \"The number of turns in the air-cored coil is %d.\" %(round(N,0)) "
     ],
     "language": "python",
     "metadata": {},
     "outputs": [
      {
       "output_type": "stream",
       "stream": "stdout",
       "text": [
        "The number of turns in the air-cored coil is 199.\n"
       ]
      }
     ],
     "prompt_number": 27
    },
    {
     "cell_type": "heading",
     "level": 2,
     "metadata": {},
     "source": [
      "Example 7.14,Page number: 196"
     ]
    },
    {
     "cell_type": "code",
     "collapsed": false,
     "input": [
      "#Question:\n",
      "\"\"\"Finding the mutual inductance between two coils and their self inductances.\"\"\"\n",
      "\n",
      "from math import sqrt\n",
      "\n",
      "#Variable Declaration:\n",
      "k=0.75                #Coefficient of coupling between two coils\n",
      "I1=3.0                #Current in the first coil(in Amperes)\n",
      "N1=250.0              #Number of turns in the first coil\n",
      "flux1=4e-03           #Flux produced in the first coil(in Webers)\n",
      "V2=70.0               #Voltage induced in the second coil due to first coil(in Volts)\n",
      "di1=3.0               #Change in current in the first coil(in Amperes)\n",
      "dt=3e-03              #Time interval(in seconds)\n",
      "\n",
      "\n",
      "#Calculations:\n",
      "L1=N1*(flux1/I1)\n",
      "M=(V2*dt)/di1\n",
      "L2=(M*M)/(k*k*L1)\n",
      "N2=N1*sqrt(L2/L1)\n",
      "\n",
      "\n",
      "#Result:\n",
      "print \"L1=%.4f H.\" %(L1)\n",
      "print \"L2=%.4f H.\" %(L2)\n",
      "print \"M=%.4f H.\" %(M)\n",
      "print \"N2=%d.\" %(round(N2,0))"
     ],
     "language": "python",
     "metadata": {},
     "outputs": [
      {
       "output_type": "stream",
       "stream": "stdout",
       "text": [
        "L1=0.3333 H.\n",
        "L2=0.0261 H.\n",
        "M=0.0700 H.\n",
        "N2=70.\n"
       ]
      }
     ],
     "prompt_number": 30
    },
    {
     "cell_type": "heading",
     "level": 2,
     "metadata": {},
     "source": [
      "Example 7.15,Page number: 197"
     ]
    },
    {
     "cell_type": "code",
     "collapsed": false,
     "input": [
      "#Question:\n",
      "\"\"\"Finding the mean value of self inductance of a coil.\"\"\"\n",
      "\n",
      "#Variable Declaration:\n",
      "N=1000.0              #Number of turns in the coil\n",
      "A=20e-04              #Cross-sectional area of the coil(in square-metre)\n",
      "I1=4.0                #First current(in Amperes)\n",
      "B1=1.0                #Flux density associated with the first current(in Weber per sqyare-metre) \n",
      "I2=9.0                #Second current(in Amperes)\n",
      "B2=1.4                #Flux density associated with the first current(in Weber per sqyare-metre)\n",
      "dt=0.05               #Time interval(in seconds)\n",
      "\n",
      "\n",
      "#Calculations:\n",
      "L1=(N*B1*A)/I1\n",
      "L2=(N*B2*A)/I2\n",
      "L=(L1+L2)/2.0\n",
      "di=I2-I1\n",
      "e=L*(di/dt)\n",
      "\n",
      "\n",
      "#Result:\n",
      "print \"The mean value of inductance between the given current limits is %.4f H.\" %(L)\n",
      "print \"The emf induced in the coil is %.2f V.\" %(e)"
     ],
     "language": "python",
     "metadata": {},
     "outputs": [
      {
       "output_type": "stream",
       "stream": "stdout",
       "text": [
        "The mean value of inductance between the given current limits is 0.4056 H.\n",
        "The emf induced in the coil is 40.56 V.\n"
       ]
      }
     ],
     "prompt_number": 42
    },
    {
     "cell_type": "heading",
     "level": 2,
     "metadata": {},
     "source": [
      "Example 7.16,Page number: 197"
     ]
    },
    {
     "cell_type": "code",
     "collapsed": false,
     "input": [
      "#Question:\n",
      "\"\"\"Finding the mutual inductance between two coils and their respective self-inductances.\"\"\"\n",
      "\n",
      "from math import pi,sqrt\n",
      "\n",
      "#Variable Declaration:\n",
      "N1=100.0              #Number of turns in the first coil\n",
      "N2=150.0              #Number of turns in the second coil\n",
      "A=125e-04             #Area of cross-section(in square-metres)\n",
      "l=200e-02             #Mean length(in metres)\n",
      "rel_per=2000.0        #Relative permeability of iron\n",
      "k=1                   #Coefficient of coupling\n",
      "\n",
      "\"\"\" NOTE: As the two coils are wound side by side,there is tight coupling. Therefore, k=1. \"\"\"\n",
      "\n",
      "#Calculations:\n",
      "abs_per=(4*pi)/(1e07)\n",
      "L1=(N1*N1*rel_per*abs_per*A)/l\n",
      "L2=(N2*N2*rel_per*abs_per*A)/l\n",
      "M=k*sqrt(L1*L2)\n",
      "di1=5.0\n",
      "dt=0.02\n",
      "e2=M*(di1/dt)\n",
      "\n",
      "\n",
      "#Result:\n",
      "print \"(a)The self inductances of the tow coils are: L1=%.3f mH and L2=%.3f mH.\" %((L1*1000.0),(L2*1000.0))\n",
      "print \"(b)The mutual inductance between the two coils is %.3f mH.\" %(M*1000.0)\n",
      "print \"(c)The emf induced in the second coil is %.2f V.\" %(e2)"
     ],
     "language": "python",
     "metadata": {},
     "outputs": [
      {
       "output_type": "stream",
       "stream": "stdout",
       "text": [
        "(a)The self inductances of the tow coils are: L1=157.080 mH and L2=353.429 mH.\n",
        "(b)The mutual inductance between the two coils is 235.619 mH.\n",
        "(c)The emf induced in the second coil is 58.90 V.\n"
       ]
      }
     ],
     "prompt_number": 44
    },
    {
     "cell_type": "heading",
     "level": 2,
     "metadata": {},
     "source": [
      "Example 7.17,Page number: 198"
     ]
    },
    {
     "cell_type": "code",
     "collapsed": false,
     "input": [
      "#Question:\n",
      "\"\"\"Finding the coeffcient of coupling and the self-inductance of two coils.\"\"\" \n",
      "\n",
      "from math import sqrt\n",
      "\n",
      "#Variable Declaration:\n",
      "Lsa=4.0               #Equivalent inductance of series aiding(in Henry)\n",
      "Lso=0.8               #Equivalent inductance of series opposing(in Henry)\n",
      "\n",
      "\"\"\" NOTE: Lsa=L+L+(2*M);\n",
      "          Lso=L+L-(2*M); \"\"\"\n",
      "\n",
      "\n",
      "#Calculations:\n",
      "L=(Lsa+Lso)/4.0\n",
      "M=(Lsa-Lso)/4.0\n",
      "k=M/sqrt(L*L)\n",
      "\n",
      "\n",
      "#Result:\n",
      "print \"The self inductance of each coil is %.2f H.\" %(L)\n",
      "print \"The coefficient of coupling is %.3f.\" %(round(k,3))"
     ],
     "language": "python",
     "metadata": {},
     "outputs": [
      {
       "output_type": "stream",
       "stream": "stdout",
       "text": [
        "The self inductance of each coil is 1.20 H.\n",
        "The coefficient of coupling is 0.667.\n"
       ]
      }
     ],
     "prompt_number": 39
    },
    {
     "cell_type": "heading",
     "level": 2,
     "metadata": {},
     "source": [
      "Example 7.18,Page number: 198"
     ]
    },
    {
     "cell_type": "code",
     "collapsed": false,
     "input": [
      "#Question:\n",
      "\"\"\"Finding the equivalent inductance of different combinations of two coils.\"\"\"\n",
      "\n",
      "from math import sqrt\n",
      "\n",
      "#Variable Declaration:\n",
      "L1=200e-03            #Self-inductance of the first coil(in Henry)  \n",
      "L2=800e-03            #Self-inductance of the second coil(in Henry)\n",
      "k=0.5                 #Coefficient of coupling between two coils\n",
      "\n",
      "\n",
      "#Calculations:\n",
      "M=k*sqrt(L1*L2)\n",
      "Lsa=L1+L2+(2*M)\n",
      "Lso=L1+L2-(2*M)\n",
      "Lpa=((L1*L2)-(M*M))/Lso\n",
      "Lpo=((L1*L2)-(M*M))/Lsa\n",
      "\n",
      "\n",
      "#Result:\n",
      "print \"(a)The equivalent inductance of series aiding is %.3f mH.\" %(Lsa*1000.0)\n",
      "print \"(b)The equivalent inductance of series opposing is %.3f mH.\" %(Lso*1000.0)\n",
      "print \"(c)The equivalent inductance of parallel aiding is %.3f mH.\" %(Lpa*1000.0)\n",
      "print \"(d)The equivalent inductance of parallel opposing is %.3f mH.\" %(Lpo*1000.0)"
     ],
     "language": "python",
     "metadata": {},
     "outputs": [
      {
       "output_type": "stream",
       "stream": "stdout",
       "text": [
        "(a)The equivalent inductance of series aiding is 1400.000 mH.\n",
        "(b)The equivalent inductance of series opposing is 600.000 mH.\n",
        "(c)The equivalent inductance of parallel aiding is 200.000 mH.\n",
        "(d)The equivalent inductance of parallel opposing is 85.714 mH.\n"
       ]
      }
     ],
     "prompt_number": 35
    },
    {
     "cell_type": "heading",
     "level": 2,
     "metadata": {},
     "source": [
      "Example 7.19,Page number: 198"
     ]
    },
    {
     "cell_type": "code",
     "collapsed": false,
     "input": [
      "#Question:\n",
      "\"\"\"Finding the exciting current for a horse-shoe magnet.\"\"\"\n",
      "\n",
      "from math import sqrt\n",
      "\n",
      "#Variable Declaration:\n",
      "l=45e-02              #Length of the iron path(in metres)\n",
      "A=6e-04               #Cross-sectional area of the wrought iron bar(in square-metres)\n",
      "N=500.0               #Number of turns in exciting coil\n",
      "load=60.0             #Load to be lifted(in kilograms)\n",
      "rel_per=800.0         #Relative permeability of iron\n",
      "g=9.8                 #Accelaration due to gravity(in metre per square-seconds) \n",
      "\n",
      "\n",
      "#Calculations:\n",
      "abs_per=(4*pi)/(1e07)\n",
      "F=(load/2.0)*g\n",
      "B=sqrt((2*abs_per*F)/A)\n",
      "H=B/(abs_per*rel_per)\n",
      "At=H*l\n",
      "I=At/(N*2)\n",
      "\n",
      "\n",
      "#Result:\n",
      "print \"The exciting current needed for the magnet is %.5f A.\" %(I)"
     ],
     "language": "python",
     "metadata": {},
     "outputs": [
      {
       "output_type": "stream",
       "stream": "stdout",
       "text": [
        "The exciting current needed for the magnet is 0.49674 A.\n"
       ]
      }
     ],
     "prompt_number": 31
    }
   ],
   "metadata": {}
  }
 ]
}