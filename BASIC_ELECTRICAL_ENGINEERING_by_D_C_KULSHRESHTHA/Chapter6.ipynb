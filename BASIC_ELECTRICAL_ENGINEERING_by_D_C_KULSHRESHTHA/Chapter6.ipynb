{
 "metadata": {
  "name": ""
 },
 "nbformat": 3,
 "nbformat_minor": 0,
 "worksheets": [
  {
   "cells": [
    {
     "cell_type": "heading",
     "level": 1,
     "metadata": {},
     "source": [
      "Chapter 6: MAGNETIC CIRCUITS"
     ]
    },
    {
     "cell_type": "heading",
     "level": 2,
     "metadata": {},
     "source": [
      "Example 6.1,Page number: 167\n"
     ]
    },
    {
     "cell_type": "code",
     "collapsed": false,
     "input": [
      "#Question:\n",
      "\"\"\"Finding the magnetic field strength and total flux passing through a coil.\"\"\"\n",
      "\n",
      "from math import pi\n",
      "\n",
      "#Variable Declaration:\n",
      "N=200                 #Number of turns in the coil \n",
      "l=0.60                #Length(Circumference) of the wooden ring(in metres)\n",
      "A=500e-06             #Cross-sectional area of the ring(in square-metres)\n",
      "I=4                   #Current through the coil(in Amperes)\n",
      "\n",
      "\n",
      "#Calculations:\n",
      "H=(N*I)/l\n",
      "rel_per=1\n",
      "per=(4*pi)*(1e-07)\n",
      "B=per*rel_per*H\n",
      "flux=B*A\n",
      "\n",
      "\n",
      "#Result:\n",
      "print \"(a)The magnetic field strength is %.2f A/m.\" %(H)\n",
      "print \"(b)The flux density is %.2f micro T.\" %(B*1000000)\n",
      "print \"(c)The total flux is %.5f micro Wb.\" %(flux*1000000)\n"
     ],
     "language": "python",
     "metadata": {},
     "outputs": [
      {
       "output_type": "stream",
       "stream": "stdout",
       "text": [
        "(a)The magnetic field strength is 1333.33 A/m.\n",
        "(b)The flux density is 1675.52 micro T.\n",
        "(c)The total flux is 0.83776 micro Wb.\n"
       ]
      }
     ],
     "prompt_number": 1
    },
    {
     "cell_type": "heading",
     "level": 2,
     "metadata": {},
     "source": [
      "Example 6.2,Page number: 168\n"
     ]
    },
    {
     "cell_type": "code",
     "collapsed": false,
     "input": [
      "#Question:\n",
      "\"\"\"Finding the magnetomotive force(mmf) required to produce flux.\"\"\"\n",
      "\n",
      "from math import pi\n",
      "\n",
      "#Variable Declaration:\n",
      "flux=0.015            #Flux across the air-gap(in Webers)\n",
      "l=2.5e-03             #Length of the air-fap(in metres)\n",
      "A=200e-04             #Effective area of the air-gap(in square-metres)\n",
      "\n",
      "\n",
      "#Calculations:\n",
      "B=flux/A\n",
      "abs_per=(4*pi)*(1e-07)\n",
      "H=B/abs_per\n",
      "mmf=H*l\n",
      "\n",
      "\n",
      "#Result:\n",
      "print \"The magneto motive force(mmf) required is %.2f At.\" %(mmf)"
     ],
     "language": "python",
     "metadata": {},
     "outputs": [
      {
       "output_type": "stream",
       "stream": "stdout",
       "text": [
        "The magneto motive force(mmf) required is 1492.08 At.\n"
       ]
      }
     ],
     "prompt_number": 2
    },
    {
     "cell_type": "heading",
     "level": 2,
     "metadata": {},
     "source": [
      "Example 6.3,Page number: 168\n"
     ]
    },
    {
     "cell_type": "code",
     "collapsed": false,
     "input": [
      "#Question:\n",
      "\"\"\"Finding the reluctance of a mild-steel ring.\"\"\"\n",
      "\n",
      "from math import pi\n",
      "\n",
      "#Variable Declaration:\n",
      "N=200                       #Number of turns in the coil\n",
      "abs_per=(4*pi)*(1e-07)      #Absolute permeability of free space   \n",
      "rel_per=380                 #Relative permeability of mild-steel\n",
      "l=400e-03                   #Length(Circumference) of the mild-steel ring(in metres)\n",
      "A=500e-06                   #Cross-sectional area of the mild-steel ring(in square-metres)\n",
      "flux=800e-06                #Flux in the ring(in Webers) \n",
      "\n",
      "\n",
      "#Calculations:\n",
      "Rel=l/(abs_per*rel_per*A)\n",
      "mmf=flux*Rel\n",
      "I=mmf/N\n",
      "\n",
      "\n",
      "#Result:\n",
      "print \"(a)The reluctance of the ring is %6e A/Wb.\" %(Rel)\n",
      "print \"(b)The magnetising current is %.2f A.\" %(I)"
     ],
     "language": "python",
     "metadata": {},
     "outputs": [
      {
       "output_type": "stream",
       "stream": "stdout",
       "text": [
        "(a)The reluctance of the ring is 1.675315e+06 A/Wb.\n",
        "(b)The magnetising current is 6.70 A.\n"
       ]
      }
     ],
     "prompt_number": 3
    },
    {
     "cell_type": "heading",
     "level": 2,
     "metadata": {},
     "source": [
      "Example 6.4,Page number: 171\n"
     ]
    },
    {
     "cell_type": "code",
     "collapsed": false,
     "input": [
      "#Question:\n",
      "\"\"\"Finding the current in the coil to produce a flux density of 0.9 T in the air gap.\"\"\"\n",
      "\n",
      "from math import pi\n",
      "\n",
      "#Variable Declaration:\n",
      "B=0.90                #Flux Density in the air gap(in Tesla)     \n",
      "N=4000                #Number of turns in the core\n",
      "l_core=220e-03        #Length of the core(in metres)\n",
      "A_core=50e-06         #Cross-sectional area of the core(in square-metres)\n",
      "H_core=820            #Magnetic field intensity of the core(in Ampere per metre)  \n",
      "l_gap=1e-03           #Length of the air-gap(in metres)\n",
      "A_gap=50e-06          #Cross-sectional area of the air gap(in square-metres)\n",
      "\n",
      "\n",
      "#Calculations:\n",
      "mmf_core=H_core*l_core\n",
      "abs_per=(4*pi*(1e-07))\n",
      "H_gap=B/abs_per\n",
      "mmf_air_gap=H_gap*l_gap\n",
      "Total_mmf=mmf_core+mmf_air_gap\n",
      "I=Total_mmf/N\n",
      "\n",
      "\n",
      "#Result:\n",
      "print \"The magnetisation current is %.5f A.\" %(I)"
     ],
     "language": "python",
     "metadata": {},
     "outputs": [
      {
       "output_type": "stream",
       "stream": "stdout",
       "text": [
        "The magnetisation current is 0.22415 A.\n"
       ]
      }
     ],
     "prompt_number": 4
    },
    {
     "cell_type": "heading",
     "level": 2,
     "metadata": {},
     "source": [
      "Example 6.5,Page number: 173"
     ]
    },
    {
     "cell_type": "code",
     "collapsed": false,
     "input": [
      "#Question:\n",
      "\"\"\"Finding the magnetising current required to produce a flux across the air gap.\"\"\"\n",
      "\n",
      "from math import pi\n",
      "\n",
      "#Variable Declaration:\n",
      "w=40e-03               #Width of the core(in metres)\n",
      "d=50e-03               #Depth of the core(in metres)\n",
      "lg=2.0e-03             #Length of the air gap(in metres)\n",
      "Ag=2500e-06            #Area of the air gap(in square metres)\n",
      "N=800                  #Number of turns in the coil\n",
      "flux=2.50e-03          #Flux across the air gap(in Webers)\n",
      "lf=1.2                 #Leakage Factor\n",
      "abs_per=(4*pi)*(1e-07) #Absolute permeability of free space(Henry per metre) \n",
      "lc=600e-03             #Length of the core(in metres)\n",
      "\n",
      "\n",
      "#Calculations:\n",
      "Ac=w*d\n",
      "Bg=flux/Ag\n",
      "Hg=Bg/abs_per\n",
      "mmf_g=Hg*lg\n",
      "eff_Ac=0.92*Ac\n",
      "flux_c=flux*lf\n",
      "Bc=flux_c/eff_Ac\n",
      "Hc=4000.0\n",
      "mmf_c=Hc*lc\n",
      "mmf=mmf_c+mmf_g\n",
      "I=mmf/N\n",
      "\n",
      "\n",
      "#Result:\n",
      "print \"The magnetising current required to produce a flux of 0.0025 Wb across the air gap is %.2f A.\" %(I)"
     ],
     "language": "python",
     "metadata": {},
     "outputs": [
      {
       "output_type": "stream",
       "stream": "stdout",
       "text": [
        "The magnetising current required to produce a flux of 0.0025 Wb across the air gap is 4.99 A.\n"
       ]
      }
     ],
     "prompt_number": 9
    },
    {
     "cell_type": "heading",
     "level": 2,
     "metadata": {},
     "source": [
      "Example 6.6,Page number: 174"
     ]
    },
    {
     "cell_type": "code",
     "collapsed": false,
     "input": [
      "#Question:\n",
      "\"\"\"Finding the current in the coil.\"\"\"\n",
      "\n",
      "#Variable Declaration:\n",
      "lA=0.3                #Length of silicon steel material(in metres)\n",
      "lB=0.2                #Length of low-carbon mild steel material(in metres)\n",
      "lC=0.1                #Length of cast iron material(in metres)\n",
      "N=100                 #Number of turns in the exciting coil\n",
      "A=0.001               #Cross-sectional area(in square-metres)\n",
      "flux=600e-06          #Flux in the coil(in Webers)\n",
      "abs_per=(4*pi)*(1e-07)#Absolute permeability of free space(in Henry per metre)\n",
      "\n",
      "\n",
      "#Calculations:\n",
      "B=flux/A\n",
      "B_A=B\n",
      "B_C=B\n",
      "B_C=B\n",
      "\"\"\"From magnetisation characteristics of ferromagnetic materials,\"\"\"\n",
      "H_A=20.0\n",
      "H_B=700.0\n",
      "H_C=2500.0\n",
      "\"\"\"According to Kirchoff's magnetomotive force law(KML),the total mmf required, tot_mmf= mmf_A+mmf_B+mmf_C.\"\"\"\n",
      "tot_mmf=(H_A*lA)+(H_B*lB)+(H_C*lC)\n",
      "I=tot_mmf/N\n",
      "rel_A=B/(abs_per*H_A)\n",
      "rel_B=B/(abs_per*H_B)\n",
      "rel_C=B/(abs_per*H_C)\n",
      "R_A=(H_A*lA)/flux\n",
      "R_B=(H_B*lB)/flux\n",
      "R_C=(H_C*lC)/flux\n",
      "\n",
      "\n",
      "#Result:\n",
      "print \"(a)The mmf for setting up a flux of 600 micro Weber is %.2f At.\" %(tot_mmf)\n",
      "print \"(b)The current in the coil is %.2f A.\" %(I)\n",
      "print \"(c)The relative permeability of:\\n   Material A: %.2f\\n   Material B: %.2f\\n   Material C: %.2f.\\n\" %(rel_A,rel_B,rel_C)\n",
      "print \"   The reluctances are :\\n   R_A=%.2f At/Wb \\n   R_B=%.2f At/Wb \\n   R_C=%.2f At/Wb.\" %(R_A,R_B,R_C)"
     ],
     "language": "python",
     "metadata": {},
     "outputs": [
      {
       "output_type": "stream",
       "stream": "stdout",
       "text": [
        "(a)The mmf for setting up a flux of 600 micro Weber is 396.00 At.\n",
        "(b)The current in the coil is 3.96 A.\n",
        "(c)The relative permeability of:\n",
        "   Material A: 23873.24\n",
        "   Material B: 682.09\n",
        "   Material C: 190.99.\n",
        "\n",
        "   The reluctances are :\n",
        "   R_A=10000.00 At/Wb \n",
        "   R_B=233333.33 At/Wb \n",
        "   R_C=416666.67 At/Wb.\n"
       ]
      }
     ],
     "prompt_number": 4
    },
    {
     "cell_type": "heading",
     "level": 2,
     "metadata": {},
     "source": [
      "Example 6.7,Page number: 175"
     ]
    },
    {
     "cell_type": "code",
     "collapsed": false,
     "input": [
      "#Question:\n",
      "\"\"\"Finding the current in the exciting coil.\"\"\"\n",
      "\n",
      "from math import pi\n",
      "\n",
      "#Variable Declaration:\n",
      "N=300                 #Number of the turns in the exciting coil\n",
      "flux=600e-06          #Flux in the air gap(in Webers)\n",
      "lg=1e-03              #Length of the air gap(in metres)\n",
      "lc=40e-02             #Mean length of the core(in metres)\n",
      "A=4e-04               #Cross sectional area of the core(in square metres)\n",
      "abs_per=(4*pi)*1e-07  #Absolute permeability of free space(in Henry per metre)\n",
      "\n",
      "\n",
      "#Calculations:\n",
      "B=flux/A\n",
      "Hg=B/abs_per\n",
      "mmf_g=Hg*lg\n",
      "mmf_c=3000*lc\n",
      "mmf=mmf_g+mmf_c\n",
      "I=mmf/N\n",
      "\n",
      "\n",
      "#Result:\n",
      "print \"The current in the exciting coil to set up a flux of 600 micro Weber in the air gap is %.2f A.\" %(I)"
     ],
     "language": "python",
     "metadata": {},
     "outputs": [
      {
       "output_type": "stream",
       "stream": "stdout",
       "text": [
        "The current in the exciting coil to set up a flux of 600 micro Weber in the air gap is 7.98 A.\n"
       ]
      }
     ],
     "prompt_number": 15
    },
    {
     "cell_type": "heading",
     "level": 2,
     "metadata": {},
     "source": [
      "Example 6.8,Page number: 175 "
     ]
    },
    {
     "cell_type": "code",
     "collapsed": false,
     "input": [
      "#Question:\n",
      "\"\"\"Finding the current in the exciting coil.\"\"\"\n",
      "\n",
      "#Variable Declaration:\n",
      "l1=10e-02             #Length of first side of the magnetic circuit(in metres)\n",
      "l2=18e-02             #Length of second side of the magnetic circuit(in metres)\n",
      "l3=18e-02             #Length of third side of the magnetic circuit(in metres)\n",
      "A1=6.25e-04           #Cross sectional area of l1 path(in square-metre) \n",
      "A2=3.00e-04           #Cross sectional area of l2 path(in square-metre)\n",
      "A3=3.00e-04           #Cross sectional area of l3 path(in square-metre)\n",
      "lg=2e-03              #Length of air gap(in metres)\n",
      "rel_per=800.0         #Relative permeability of core material\n",
      "N=600                 #Number of turns\n",
      "flux=100e-06          #Flux in the air gap(in Webers)\n",
      "abs_per=(4*pi)*1e-07  #Absolute permeability of free space(in Farad per metre)\n",
      "\n",
      "\n",
      "#Calculations:\n",
      "Bg=flux/A1\n",
      "Hg=Bg/abs_per\n",
      "mmf_g=Hg*lg\n",
      "B1=Bg\n",
      "H1=B1/(rel_per*abs_per)\n",
      "mmf_1=H1*l1\n",
      "flux2=flux/2.0\n",
      "B2=flux2/A2\n",
      "H2=B2/(rel_per*abs_per)\n",
      "mmf_2=H2*l2\n",
      "tot_mmf=mmf_g+mmf_1+mmf_2\n",
      "I=tot_mmf/N\n",
      "\n",
      "\n",
      "#Result:\n",
      "print \"The current in the 600 turn exciting coil is %.3f A.\" %(I) "
     ],
     "language": "python",
     "metadata": {},
     "outputs": [
      {
       "output_type": "stream",
       "stream": "stdout",
       "text": [
        "The current in the 600 turn exciting coil is 0.501 A.\n"
       ]
      }
     ],
     "prompt_number": 10
    },
    {
     "cell_type": "heading",
     "level": 2,
     "metadata": {},
     "source": [
      "Example 6.9,Page number: 176 "
     ]
    },
    {
     "cell_type": "code",
     "collapsed": false,
     "input": [
      "#Question:\n",
      "\"\"\"Finding the value of exciting current.\"\"\"\n",
      "\n",
      "#Variable Declaration:\n",
      "A_B=0.01              #Area of cross section of limb B(in square metre)\n",
      "A_C=0.02              #Area of cross section of limb C(in square metre)\n",
      "l_B=1e-03             #Length of air gap in limb B(in metres)\n",
      "l_C=2e-03             #Length of air gap in limb C(in metres)\n",
      "flux_B=1.5e-03        #Flux in limb B(in Webers)\n",
      "N=500                 #Number of turns in the coil\n",
      "abs_per=(4*pi)*(1e-07)#Absolute permeability of free space(in Henry per metre) \n",
      "\n",
      "\n",
      "#Calculations:\n",
      "\"\"\"The mmf across parallel paths must be same. \n",
      "   (R_B*flux_B)=(R_C*flux_C);\"\"\"\n",
      "flux_C=flux_B*(l_B/l_C)*(A_C/A_B)\n",
      "flux=flux_B+flux_C\n",
      "R_B=l_B/(abs_per*A_B)\n",
      "R_C=l_C/(abs_per*A_C)\n",
      "R_net=1.0/((1.0/R_B)+(1.0/R_C))\n",
      "I=(flux*R_net)/N\n",
      "\n",
      "\n",
      "#Result:\n",
      "print \"The flux in limb A is %e Wb.\" %(flux)\n",
      "print \"The current in the exciting coil is %e A.\" %(I) "
     ],
     "language": "python",
     "metadata": {},
     "outputs": [
      {
       "output_type": "stream",
       "stream": "stdout",
       "text": [
        "The flux in limb A is 3.000000e-03 Wb.\n",
        "The current in the exciting coil is 2.387324e-01 A.\n"
       ]
      }
     ],
     "prompt_number": 16
    },
    {
     "cell_type": "heading",
     "level": 2,
     "metadata": {},
     "source": [
      "Example 6.10,Page number: 177 "
     ]
    },
    {
     "cell_type": "code",
     "collapsed": false,
     "input": [
      "#Question:\n",
      "\"\"\"Finding the ampere turns required to produce a flux.\"\"\"\n",
      "\n",
      "from math import pi\n",
      "\n",
      "#Variable Declaration:\n",
      "abs_per=(4*pi)*(1e-07) #Absolute permeability of free space(in Henry per metre)\n",
      "D=21e-02               #Mean diameter of the ring(in metres)\n",
      "A=10e-04               #Cross sectional area(in square metre)\n",
      "flux=0.8e-03           #Flux to be produced(in Webers)\n",
      "lg=0.4e-03             #Length of the air gap(in metres) \n",
      "rel_i=166.0            #Relative permeability of iron\n",
      "rel_s=800.0            #Relative permeability of steel\n",
      "\n",
      "\n",
      "#Calculations:\n",
      "B=flux/A\n",
      "li=(pi*D)/2.0\n",
      "ls=(pi*D)/2.0\n",
      "mmf_g=(B/abs_per)*lg\n",
      "mmf_i=(B/(abs_per*rel_i))*li\n",
      "mmf_s=(B/(abs_per*rel_s))*ls\n",
      "mmf=mmf_g+mmf_i+mmf_s\n",
      "\n",
      "\n",
      "#Result:\n",
      "print \"The total ampere turns required is %.2f At.\" %(mmf)"
     ],
     "language": "python",
     "metadata": {},
     "outputs": [
      {
       "output_type": "stream",
       "stream": "stdout",
       "text": [
        "The total ampere turns required is 1782.21 At.\n"
       ]
      }
     ],
     "prompt_number": 21
    },
    {
     "cell_type": "heading",
     "level": 2,
     "metadata": {},
     "source": [
      "Example 6.11,Page number: 177 "
     ]
    },
    {
     "cell_type": "code",
     "collapsed": false,
     "input": [
      "#Question:\n",
      "\"\"\"Finding the ampere turns of the coil wound on the central limb.\"\"\"\n",
      "\n",
      "#Variable Declaration:\n",
      "flux=1e-03            #Flux in the central limb(in Webers)\n",
      "Ac=8e-04              #Area of the central limb(in square metres)\n",
      "As=5e-04              #Area of each side limb(in square metres)\n",
      "l=0.15                #Length of the central limb(in metres)\n",
      "lg=0.001              #Length of the air gap(in metres)\n",
      "abs_per=(4*pi)*1e-07  #Absolute permeability of free space(in Henry per metre)\n",
      "l1=0.34               #Length of the part ABCD(in metres)\n",
      "\n",
      "\n",
      "#Calculations:\n",
      "B=flux/Ac\n",
      "\"\"\"Corresponding to this value of B, H is 500 At/m from the table.\"\"\"\n",
      "mmf_DG=500*l\n",
      "Hg=1.25/abs_per\n",
      "mmf_g=Hg*lg\n",
      "B1=(flux/2.0)/As\n",
      "\"\"\"Corresponding to this value of B, H is 200 At/m from the table.\"\"\"\n",
      "mmf_1=200*l1\n",
      "mmf_tot=mmf_DG+mmf_g+mmf_1\n",
      "\n",
      "\n",
      "#Result:\n",
      "print \"The required ampere turns of the coil wound on the central limb is %.2f At.\" %(mmf_tot)\n",
      "\n"
     ],
     "language": "python",
     "metadata": {},
     "outputs": [
      {
       "output_type": "stream",
       "stream": "stdout",
       "text": [
        "The required ampere turns of the coil wound on the central limb is 1137.72 At.\n"
       ]
      }
     ],
     "prompt_number": 3
    }
   ],
   "metadata": {}
  }
 ]
}