{
 "metadata": {
  "name": ""
 },
 "nbformat": 3,
 "nbformat_minor": 0,
 "worksheets": [
  {
   "cells": [
    {
     "cell_type": "heading",
     "level": 1,
     "metadata": {},
     "source": [
      "Chapter 14: ALTERNATORS AND SYNCHRONOUS MOTORS"
     ]
    },
    {
     "cell_type": "heading",
     "level": 2,
     "metadata": {},
     "source": [
      "Example 14.1,Page number: 433"
     ]
    },
    {
     "cell_type": "code",
     "collapsed": false,
     "input": [
      "#Question:\n",
      "\"\"\"Finding the number of poles on the generator if the frequency of the generated voltage is decreased.\"\"\"\n",
      "\n",
      "#Variable Declaration:\n",
      "f=60                  #Frequency of ac-generator(in Hertz)\n",
      "P=6                   #Number of poles\n",
      "\n",
      "\n",
      "#Calculations:\n",
      "Ns=(120*f)/P\n",
      "f=20\n",
      "P=(120*f)/Ns\n",
      "\n",
      "\n",
      "#Result:\n",
      "print \"The speed of rotation of the generator is %d rpm.\" %(Ns)\n",
      "print \"If the frequency is reduced to 20Hz,the required number of poles is %d.\" %(P)"
     ],
     "language": "python",
     "metadata": {},
     "outputs": [
      {
       "output_type": "stream",
       "stream": "stdout",
       "text": [
        "The speed of rotation of the generator is 1200 rpm.\n",
        "If the frequency is reduced to 20Hz,the required number of poles is 2.\n"
       ]
      }
     ],
     "prompt_number": 1
    },
    {
     "cell_type": "heading",
     "level": 2,
     "metadata": {},
     "source": [
      "Example 14.2,Page number: 441\n"
     ]
    },
    {
     "cell_type": "code",
     "collapsed": false,
     "input": [
      "#Question:\n",
      "\"\"\"Finding the distribution factor for a machine.\"\"\"\n",
      "\n",
      "from math import radians,degrees,sin\n",
      "\n",
      "#Variable Declaration:\n",
      "slots=9                      #Number of slots\n",
      "slot_angle=radians(180/9)    #Slot angle(in radians)\n",
      "\n",
      "\n",
      "#Calculations:\n",
      "q_a=120.0/degrees(slot_angle)\n",
      "k_d_a=sin(q_a*(slot_angle/2.0))/(q_a*sin(slot_angle/2.0))\n",
      "q_b=60.0/degrees(slot_angle)\n",
      "k_d_b=sin(q_b*(slot_angle/2.0))/(q_b*sin(slot_angle/2.0))\n",
      "\n",
      "\n",
      "#Result:\n",
      "print \"(a)The distribution factor for a machine for a three phase winding with 120 degrees phase group is %.3f.\" %(k_d_a)\n",
      "print \"(b)The distribution factor for a machine for a three phase winding with 60 degrees phase group is %.3f.\" %(k_d_b)"
     ],
     "language": "python",
     "metadata": {},
     "outputs": [
      {
       "output_type": "stream",
       "stream": "stdout",
       "text": [
        "(a)The distribution factor for a machine for a three phase winding with 120 degrees phase group is 0.831.\n",
        "(b)The distribution factor for a machine for a three phase winding with 60 degrees phase group is 0.960.\n"
       ]
      }
     ],
     "prompt_number": 5
    },
    {
     "cell_type": "heading",
     "level": 2,
     "metadata": {},
     "source": [
      "Example 14.3,Page number: 441"
     ]
    },
    {
     "cell_type": "code",
     "collapsed": false,
     "input": [
      "#Question:\n",
      "\"\"\"Finding the speed,the generated emf per phase,and the line emf of a three-phase alternator.\"\"\"\n",
      "\n",
      "from math import radians,degrees,sqrt,sin\n",
      "\n",
      "#Variable Declaration:\n",
      "phase=3                #Number of phases\n",
      "f=50                   #Frequency rating(in Hertz)\n",
      "P=20                   #Number of poles \n",
      "slots=180              #Number of slots on the stator\n",
      "cond_per_slot=8        #Number of conductors per slot\n",
      "flux=25e-03            #Flux per pole(in Weber) \n",
      "\n",
      "\n",
      "#Calculations:\n",
      "Z=slots*cond_per_slot\n",
      "T=(Z/2)/phase\n",
      "Ns=(120*f)/P\n",
      "k_p=1\n",
      "slots_per_pole=slots/P\n",
      "slot_angle=radians(180/slots_per_pole)\n",
      "q=slots_per_pole/phase\n",
      "k_d=sin(q*(slot_angle/2))/(q*sin(slot_angle/2))\n",
      "E=4.44*f*flux*T*k_p*k_d\n",
      "line_emf=sqrt(3.0)*E\n",
      "\n",
      "#Result:\n",
      "print \"(a)The speed of the alternator is %d rpm.\" %(round(Ns,0))\n",
      "print \"(b)The rms value of generated EMF per phase is %.2f V.\" %(E)\n",
      "print \"(c)The line EMF is %.2f V.\" %(line_emf)"
     ],
     "language": "python",
     "metadata": {},
     "outputs": [
      {
       "output_type": "stream",
       "stream": "stdout",
       "text": [
        "(a)The speed of the alternator is 300 rpm.\n",
        "(b)The rms value of generated EMF per phase is 1278.45 V.\n",
        "(c)The line EMF is 2214.34 V.\n"
       ]
      }
     ],
     "prompt_number": 6
    },
    {
     "cell_type": "heading",
     "level": 2,
     "metadata": {},
     "source": [
      "Example 14.4,Page number: 446\n"
     ]
    },
    {
     "cell_type": "code",
     "collapsed": false,
     "input": [
      "#Question:\n",
      "\"\"\"Finding the voltage regulation for full-load for a three-phase alternator.\"\"\"\n",
      "\n",
      "from math import sqrt,cos,acos \n",
      "\n",
      "#Variable Declaration:\n",
      "P=600e06              #Power rating of the alternator(in VA) \n",
      "V_L=22e03             #Rated terminal voltage(in Volts) \n",
      "sync_imp=0.16         #Synchronous impedance per phase(in Ohms)\n",
      "res_phase=0.014       #Resistance per phase(in Ohms) \n",
      "\n",
      "\n",
      "#Calculations:\n",
      "I_L=P/(sqrt(3)*V_L)\n",
      "Iph=I_L\n",
      "V=V_L/sqrt(3)\n",
      "Vz=Iph*sync_imp\n",
      "theta=acos(res_phase/sync_imp)\n",
      "pf=0.8\n",
      "phi=acos(pf)\n",
      "alpha=theta-phi\n",
      "E=sqrt((V*V)+(Vz*Vz)+(2*V*Vz*cos(alpha)))\n",
      "vol_reg_a=(E-V)/V\n",
      "pf=1\n",
      "phi=acos(pf)\n",
      "alpha=theta-phi\n",
      "E=sqrt((V*V)+(Vz*Vz)+(2*V*Vz*cos(alpha)))\n",
      "vol_reg_b=(E-V)/V\n",
      "pf=0.8\n",
      "phi=acos(pf)\n",
      "alpha=theta+phi\n",
      "E=sqrt((V*V)+(Vz*Vz)+(2*V*Vz*cos(alpha)))\n",
      "vol_reg_c=(E-V)/V\n",
      "\n",
      "\n",
      "#Result:\n",
      "print \"(a)For a power factor of 0.8 lagging:\"\n",
      "print \"The voltage regulation for full load is %.2f percent.\" %(vol_reg_a*100)\n",
      "print \"(b)For unity power factor:\"\n",
      "print \"The voltage regulation for full load is %.2f percent.\" %(vol_reg_b*100)\n",
      "print \"(c)For a power factor of 0.8 leading:\"     \n",
      "print \"The voltage regulation for full load is %.2f percent.\" %(vol_reg_c*100)\n",
      "print \"\\nNote:The voltage regulation for leading power-factor load is negative.\"\n",
      "print \"It means that on removing the load, the terminal voltage decreases.\"   "
     ],
     "language": "python",
     "metadata": {},
     "outputs": [
      {
       "output_type": "stream",
       "stream": "stdout",
       "text": [
        "(a)For a power factor of 0.8 lagging:\n",
        "The voltage regulation for full load is 14.20 percent.\n",
        "(b)For unity power factor:\n",
        "The voltage regulation for full load is 3.64 percent.\n",
        "(c)For a power factor of 0.8 leading:\n",
        "The voltage regulation for full load is -8.90 percent.\n",
        "\n",
        "Note:The voltage regulation for leading power-factor load is negative.\n",
        "It means that on removing the load, the terminal voltage decreases.\n"
       ]
      }
     ],
     "prompt_number": 14
    },
    {
     "cell_type": "heading",
     "level": 2,
     "metadata": {},
     "source": [
      "Example 14.5,Page number: 450\n"
     ]
    },
    {
     "cell_type": "code",
     "collapsed": false,
     "input": [
      "#Question:\n",
      "\"\"\"Finding the synchronous reactance per phase and the voltage regulation for a three-phase star-connected alternator.\"\"\"\n",
      "\n",
      "from math import acos,sqrt,cos\n",
      "\n",
      "#Variable Declaration:\n",
      "V_L=900               #Open-circuit voltage(line to line)(in Volts)\n",
      "V_L_rated=3.3e03      #Rated voltage of the alternator(in Volts)\n",
      "I_f=100               #Full-load current(in Amperes)\n",
      "R=0.9                 #Armature Resistance(in Ohm/phase)\n",
      "\n",
      "\n",
      "#Calculations:\n",
      "V_oc=V_L/sqrt(3)\n",
      "I_sc=I_f\n",
      "sync_imp=V_oc/I_sc\n",
      "sync_rea=sqrt((sync_imp*sync_imp)-(R*R))\n",
      "theta=acos(R/sync_imp)\n",
      "V=V_L_rated/sqrt(3)\n",
      "Vz=I_f*sync_imp\n",
      "pf=0.8\n",
      "phi=acos(pf)\n",
      "alpha=theta-phi\n",
      "E=sqrt((V*V)+(Vz*Vz)+(2*V*Vz*cos(alpha)))\n",
      "vol_reg_a=(E-V)/V\n",
      "pf=0.8\n",
      "phi=acos(pf)\n",
      "alpha=theta+phi\n",
      "E=sqrt((V*V)+(Vz*Vz)+(2*V*Vz*cos(alpha)))\n",
      "vol_reg_b=(E-V)/V\n",
      "\n",
      "\n",
      "#Result:\n",
      "print \"The synchronous reactance per phase is %.3f Ohms.\" %(sync_rea)\n",
      "print \"(a) For a power factor of 0.8 lagging:\"\n",
      "print \"The voltage regulation for full load is %.2f percent\" %(vol_reg_a*100)\n",
      "print \"(b) For a power factor of 0.8 leading:\"\n",
      "print \"The voltage regulation for full load is %.2f percent.\" %(vol_reg_b*100)\n",
      "print \"\\nNote: The voltage regulation for leading power-factor load is negative.\"\n",
      "print \"It means that on removing the load, the terminal voltage decreases.\"\n",
      "    "
     ],
     "language": "python",
     "metadata": {},
     "outputs": [
      {
       "output_type": "stream",
       "stream": "stdout",
       "text": [
        "The synchronous reactance per phase is 5.118 Ohms.\n",
        "(a) For a power factor of 0.8 lagging:\n",
        "The voltage regulation for full load is 21.34 percent\n",
        "(b) For a power factor of 0.8 leading:\n",
        "The voltage regulation for full load is -9.03 percent.\n",
        "\n",
        "Note: The voltage regulation for leading power-factor load is negative.\n",
        "It means that on removing the load, the terminal voltage decreases.\n"
       ]
      }
     ],
     "prompt_number": 16
    },
    {
     "cell_type": "heading",
     "level": 2,
     "metadata": {},
     "source": [
      "Example 14.6,Page number: 455\n"
     ]
    },
    {
     "cell_type": "code",
     "collapsed": false,
     "input": [
      "#Question:\n",
      "\"\"\"Finding the angle of retard of a synchronous motor.\"\"\"\n",
      "\n",
      "from math import sqrt,acos,cos,pi,asin,sin,degrees\n",
      "from cmath import phase\n",
      "\n",
      "#Variable Declaration:\n",
      "Po=9e03               #Power rating of synchronous motor(in Watts)  \n",
      "V_L=400               #Voltage rating of synchronous motor(in Watts)\n",
      "Zs=0.4+3*1j           #Synchronous impedance per phase(in Ohms)  \n",
      "pf=0.8                #Power factor(leading) \n",
      "effi=0.9              #Efficiency of the motor\n",
      "\n",
      "\n",
      "#Calculations:\n",
      "Pin=Po/effi\n",
      "I_L=Pin/(sqrt(3)*V_L*pf)\n",
      "I=I_L\n",
      "phi=acos(pf)\n",
      "mod_Zs=abs(Zs)\n",
      "theta=phase(Zs)\n",
      "V=V_L/sqrt(3)\n",
      "Er=I*mod_Zs\n",
      "E=sqrt((V*V)+(Er*Er)+(2*V*Er*cos(pi-(theta+phi))))\n",
      "E_L=sqrt(3)*E\n",
      "angle_retard=asin((Er*sin(theta+phi))/E)\n",
      "\n",
      "\n",
      "#Result:\n",
      "print \"The angle of retard of the rotor is %.2f degrees.\" %(degrees(angle_retard))\n",
      "print \"The excitation emf E to which the motor has to be excited to give a full-load output at 0.8 leading power factor is %.2f V.\" %(E_L)"
     ],
     "language": "python",
     "metadata": {},
     "outputs": [
      {
       "output_type": "stream",
       "stream": "stdout",
       "text": [
        "The angle of retard of the rotor is 10.47 degrees.\n",
        "The excitation emf E to which the motor has to be excited to give a full-load output at 0.8 leading power factor is 453.81 V.\n"
       ]
      }
     ],
     "prompt_number": 17
    },
    {
     "cell_type": "heading",
     "level": 2,
     "metadata": {},
     "source": [
      "Example 14.7,Page number: 459"
     ]
    },
    {
     "cell_type": "code",
     "collapsed": false,
     "input": [
      "#Question:\n",
      "\"\"\"Finding the line emf generated by the alternator.\"\"\"\n",
      "\n",
      "#Variable Declaration:\n",
      "S=24.0                #Number of slots in the alternator\n",
      "C=12.0                #Number of conductors per slot\n",
      "flux=0.1              #Flux per pole(in Weber)\n",
      "P=4.0                 #Number of poles in the alternator\n",
      "Ns=1500.0             #Synchronous speed of the alternator(in rpm)\n",
      "\n",
      "\n",
      "#Calculations:\n",
      "Zph=S*C/3.0\n",
      "T=Zph/2.0\n",
      "S_pole=S/P\n",
      "slot_ang=180.0/S_pole\n",
      "q=S_pole/3.0\n",
      "kd=sin((q*radians(slot_ang)/2))/(q*sin(radians(slot_ang/2)))\n",
      "f=(P*Ns)/120.0\n",
      "kp=1.0\n",
      "E=4.44*flux*f*T*kp*kd\n",
      "E_L=sqrt(3.0)*E\n",
      "         \n",
      "         \n",
      "#Result:\n",
      "print \"The line emf generated when the alternator runs at 1500 rpm is %.2f V.\" %(E_L)"
     ],
     "language": "python",
     "metadata": {},
     "outputs": [
      {
       "output_type": "stream",
       "stream": "stdout",
       "text": [
        "The line emf generated when the alternator runs at 1500 rpm is 1782.78 V.\n"
       ]
      }
     ],
     "prompt_number": 9
    },
    {
     "cell_type": "heading",
     "level": 2,
     "metadata": {},
     "source": [
      "Example 14.8,Page number: 460"
     ]
    },
    {
     "cell_type": "code",
     "collapsed": false,
     "input": [
      "#Question:\n",
      "\"\"\"Finding the net emf induced in the 6 coil in series constituting the alternator winding.\"\"\"\n",
      "\n",
      "from math import radians,sin\n",
      "\n",
      "#Variable Declaration:\n",
      "q=6.0                 #Number of slots per pole per phase\n",
      "angle=30.0            #Electrical angle between two consecutive slotss(in degrees) \n",
      "e=10.0                #Emf of each coil(in Volts)   \n",
      "\n",
      "\n",
      "#Calculations:\n",
      "kd=sin(q*(radians(angle/2.0)))/(q*sin(radians(angle/2.0)))\n",
      "arith_sum=6*e\n",
      "Er=kd*arith_sum\n",
      "\n",
      "\n",
      "#Result:\n",
      "print \"The net emf induced in the six coils in series is %.3f V.\" %(round(Er,3)) "
     ],
     "language": "python",
     "metadata": {},
     "outputs": [
      {
       "output_type": "stream",
       "stream": "stdout",
       "text": [
        "The net emf induced in the six coils in series is 38.637 V.\n"
       ]
      }
     ],
     "prompt_number": 20
    },
    {
     "cell_type": "heading",
     "level": 2,
     "metadata": {},
     "source": [
      "Example 14.9,Page number: 460"
     ]
    },
    {
     "cell_type": "code",
     "collapsed": false,
     "input": [
      "#Question:\n",
      "\"\"\"Finding the number of poles and the current rating of an alternator.\"\"\"\n",
      "\n",
      "from math import sqrt,pi\n",
      "\n",
      "#Variable Declaration:\n",
      "N=120.0               #Speed of the alternator(in rpm)\n",
      "f=50.0                #Frequency of the alternator(in Hertz)\n",
      "VA=100e06             #VA rating of the alternator(in Volt-Ampere)\n",
      "pf=1.0                #Power factor\n",
      "V_L=11e03             #Line voltage(in Volts)\n",
      "effi=0.97             #Efficiency of the alternator \n",
      "\n",
      "\n",
      "#Calculations:\n",
      "P=(120.0*f)/N\n",
      "Po=VA*pf\n",
      "I_L=VA/(sqrt(3.0)*V_L)\n",
      "Pin=Po/effi\n",
      "tor=Pin/(2*pi*N/60.0)\n",
      "\n",
      "\n",
      "#Result:\n",
      "print \"(a)The number of poles is %d.\" %(P)\n",
      "print \"(b)The current rating is %.2f A.\" %(I_L)\n",
      "print \"(c)The input power is %.2f MW.\" %(round((Pin/1000000),2))\n",
      "print \"(d)The prime-mover torque applied to the genrator shaft is %e Nm.\" %(tor)"
     ],
     "language": "python",
     "metadata": {},
     "outputs": [
      {
       "output_type": "stream",
       "stream": "stdout",
       "text": [
        "(a)The number of poles is 50.\n",
        "(b)The current rating is 5248.64 A.\n",
        "(c)The input power is 103.09 MW.\n",
        "(d)The prime-mover torque applied to the genrator shaft is 8.203863e+06 Nm.\n"
       ]
      }
     ],
     "prompt_number": 21
    },
    {
     "cell_type": "heading",
     "level": 2,
     "metadata": {},
     "source": [
      "Example 14.10,Page number: 460"
     ]
    },
    {
     "cell_type": "code",
     "collapsed": false,
     "input": [
      "#Question:\n",
      "\"\"\"Finding the percentage regulation for a load.\"\"\"\n",
      "\n",
      "from math import atan,radians,acos\n",
      "\n",
      "#Variable Declaration:\n",
      "V_L=11e03             #Line voltage of the star-connected alternator(in Volts)\n",
      "VA=800e03             #Power rating of the alternator(in Volt-Amperes)\n",
      "Rs=1.5                #Resistance per phase(in Ohms)\n",
      "Xs=25.0               #Synchronous reactance(in Ohms)\n",
      "pf=0.8                #Leading power factor\n",
      "Po=600e03             #Output power(in Watts)\n",
      "\n",
      "\n",
      "#Calculations:\n",
      "Vph=V_L/sqrt(3.0)\n",
      "V=Vph\n",
      "Iph=Po/(sqrt(3.0)*V_L*pf)\n",
      "Zs=sqrt((Rs*Rs)+(Xs*Xs))\n",
      "theta=atan(Xs/Rs)\n",
      "Vz=Iph*Zs\n",
      "pf_ang=acos(pf)\n",
      "alpha=theta+pf_ang\n",
      "E=sqrt((V*V)+(Vz*Vz)+(2*V*Vz*cos(alpha)))\n",
      "reg=(E-V)/V\n",
      "\n",
      "\n",
      "#Result:\n",
      "print \"The percentage regulation is %.3f per cent.\" %(reg*100)"
     ],
     "language": "python",
     "metadata": {},
     "outputs": [
      {
       "output_type": "stream",
       "stream": "stdout",
       "text": [
        "The percentage regulation is -7.641 per cent.\n"
       ]
      }
     ],
     "prompt_number": 26
    },
    {
     "cell_type": "heading",
     "level": 2,
     "metadata": {},
     "source": [
      "Example 14.11,Page number: 461"
     ]
    },
    {
     "cell_type": "code",
     "collapsed": false,
     "input": [
      "#Question:\n",
      "\"\"\"Finding the full-load voltage regulation of the alternator.\"\"\"\n",
      "\n",
      "from math import atan,acos\n",
      "\n",
      "#Variable Declaration:\n",
      "V_L=6e03              #Line voltage of the alternator(in Volts)\n",
      "VA=6000e03            #Power rating of the alternator(in Volt-Amperes)\n",
      "R=0.2                 #Winding resistance per phase(in Ohms)\n",
      "pf=0.8                #Lagging power factor\n",
      "V_L_OC=480.0          #Line voltage in open-circuit test(in Volts)\n",
      "I_f_OC=10.0           #Field current in open-circuit test(in Amperes)\n",
      "I_L_SC=105.0          #Line current in short-circuit test(in Amperes)\n",
      "I_f_SC=5.0            #Field current in short-circuit test(in Amperes) \n",
      "\n",
      "\n",
      "#Calculations:\n",
      "\"\"\"In the short-circuit test,the currents are small compared to the full-load current.\"\"\"\n",
      "V=V_L/sqrt(3.0)\n",
      "I=VA/(3*V)\n",
      "V_ph_OC=V_L_OC/sqrt(3.0)\n",
      "\"\"\"Since the field current of 5 A gives an armature current of 105 A,a field current of 10 A will give an armature \n",
      "   current of (105*2)=210 A.\"\"\"\n",
      "I_ph=I_L_SC*2\n",
      "Zs=V_ph_OC/I_ph\n",
      "Xs=sqrt((Zs*Zs)-(R*R))\n",
      "theta=atan(Xs/R)\n",
      "Vz=I*Zs\n",
      "pf_ang=acos(pf)\n",
      "alpha=theta-pf_ang\n",
      "E=sqrt((V*V)+(Vz*Vz)+(2*V*Vz*cos(alpha)))\n",
      "reg=(E-V)/V\n",
      "\n",
      "\n",
      "#Result:\n",
      "print \"The full-load voltage regulation of the alternator at 0.8 lagging power factor is %.2f per cent.\" %(reg*100)"
     ],
     "language": "python",
     "metadata": {},
     "outputs": [
      {
       "output_type": "stream",
       "stream": "stdout",
       "text": [
        "The full-load voltage regulation of the alternator at 0.8 lagging power factor is 16.73 per cent.\n"
       ]
      }
     ],
     "prompt_number": 2
    },
    {
     "cell_type": "heading",
     "level": 2,
     "metadata": {},
     "source": [
      "Example 14.12,Page number: 462"
     ]
    },
    {
     "cell_type": "code",
     "collapsed": false,
     "input": [
      "#Question:\n",
      "\"\"\"Finding the terminal voltage of the generator.\"\"\"\n",
      "\n",
      "#Variable Declaration:\n",
      "f=50.0                #Frequency rating of the generator(in Hertz)\n",
      "Z_p=96.0              #Number of conductors per phase\n",
      "flux=0.1              #Flux per pole(in Webers)\n",
      "Xs=5.0                #Synchronous reactance per phase(in Ohms)\n",
      "kd=0.96               #Distribution factor for the stator winding\n",
      "Z_L=10.0              #Load impedance(in Ohms)\n",
      "\n",
      "\n",
      "#Calculations:\n",
      "Zs=1j*Xs\n",
      "kp=1.0\n",
      "T=Z_p/2.0\n",
      "E=4.44*f*flux*kp*kd*T\n",
      "V=E/(1+(Zs/Z_L))\n",
      "V_L=sqrt(3.0)*abs(V)\n",
      "\n",
      "\n",
      "#Result:\n",
      "print \"The terminal voltage of the generator is %.2f V.\" %(V_L)"
     ],
     "language": "python",
     "metadata": {},
     "outputs": [
      {
       "output_type": "stream",
       "stream": "stdout",
       "text": [
        "The terminal voltage of the generator is 1584.79 V.\n"
       ]
      }
     ],
     "prompt_number": 6
    },
    {
     "cell_type": "heading",
     "level": 2,
     "metadata": {},
     "source": [
      "Example 14.13,Page number: 462"
     ]
    },
    {
     "cell_type": "code",
     "collapsed": false,
     "input": [
      "#Question:\n",
      "\"\"\"Finding the percentage change of voltage.\"\"\"\n",
      "\n",
      "from math import atan,radians,acos\n",
      "\n",
      "#Variable Declaration:\n",
      "V_L=6.6e03            #Line voltage of the star-connected alternator(in Volts)\n",
      "VA=1500e03            #Power rating of the alternator(in Volt-Amperes)\n",
      "Rs=0.5                #Resistance per phase(in Ohms)\n",
      "Xs=5.0                #Synchronous reactance(in Ohms)\n",
      "pf=0.8                #Lagging power factor\n",
      "\n",
      "\n",
      "\n",
      "#Calculations:\n",
      "Vph=V_L/sqrt(3.0)\n",
      "V=Vph\n",
      "Iph=VA/(3.0*Vph)\n",
      "Zs=sqrt((Rs*Rs)+(Xs*Xs))\n",
      "theta=atan(Xs/Rs)\n",
      "Vz=Iph*Zs\n",
      "pf_ang=acos(pf)\n",
      "alpha=theta-pf_ang\n",
      "E=sqrt((V*V)+(Vz*Vz)+(2*V*Vz*cos(alpha)))\n",
      "reg=(E-V)/V\n",
      "\n",
      "\n",
      "#Result:\n",
      "print \"The percentage change in voltage is %.3f per cent.\" %(reg*100)"
     ],
     "language": "python",
     "metadata": {},
     "outputs": [
      {
       "output_type": "stream",
       "stream": "stdout",
       "text": [
        "The percentage change in voltage is 12.432 per cent.\n"
       ]
      }
     ],
     "prompt_number": 25
    },
    {
     "cell_type": "heading",
     "level": 2,
     "metadata": {},
     "source": [
      "Example 14.14,Page number: 463"
     ]
    },
    {
     "cell_type": "code",
     "collapsed": false,
     "input": [
      "#Question:\n",
      "\"\"\"Finding the terminal voltage and load regulation.\"\"\"\n",
      "\n",
      "from math import atan,radians,acos,asin\n",
      "\n",
      "#Variable Declaration:\n",
      "V_L=6599.0            #Line voltage of the star-connected alternator(in Volts)\n",
      "Rs=0.5                #Resistance per phase(in Ohms)\n",
      "Xs=5.0                #Synchronous reactance(in Ohms)\n",
      "I=130.0               #Full-load current(in Amperes)\n",
      "\n",
      "\n",
      "#Calculations:\n",
      "E=V_L/sqrt(3.0)\n",
      "Zs=Rs+1j*Xs\n",
      "theta=atan(Xs/Rs)\n",
      "Vz=I*abs(Zs)\n",
      "pf=0.8\n",
      "pf_ang=acos(pf)\n",
      "alpha=theta-pf_ang\n",
      "tor_ang=asin((Vz*sin(alpha))/E)\n",
      "V_a=(E*cos(tor_ang))-(Vz*cos(alpha))\n",
      "reg_a=(E-V_a)/V_a\n",
      "pf=0.6\n",
      "pf_ang=acos(pf)\n",
      "alpha=theta+pf_ang\n",
      "beta=pi-alpha\n",
      "tor_ang=asin((Vz*sin(beta))/E)\n",
      "V_b=(E*cos(tor_ang))+(Vz*cos(beta))\n",
      "reg_b=(E-V_b)/V_b\n",
      "\n",
      "\n",
      "#Result:\n",
      "print \"(a)The terminal voltage when the power factor is 0.8 lagging is %.2f V.\" %(V_a)\n",
      "print \"   The load regulation is %.2f per cent.\" %(reg_a*100)    \n",
      "print \"(b)The terminal voltage when the power factor is 0.6 leading is %.2f V.\" %(V_b)\n",
      "print \"   The load regulation is %.2f per cent.\" %(reg_b*100)"
     ],
     "language": "python",
     "metadata": {},
     "outputs": [
      {
       "output_type": "stream",
       "stream": "stdout",
       "text": [
        "(a)The terminal voltage when the power factor is 0.8 lagging is 3337.45 V.\n",
        "   The load regulation is 14.16 per cent.\n",
        "(b)The terminal voltage when the power factor is 0.6 leading is 4265.21 V.\n",
        "   The load regulation is -10.67 per cent.\n"
       ]
      }
     ],
     "prompt_number": 8
    },
    {
     "cell_type": "heading",
     "level": 2,
     "metadata": {},
     "source": [
      "Example 14.15,Page number: 464"
     ]
    },
    {
     "cell_type": "code",
     "collapsed": false,
     "input": [
      "#Question:\n",
      "\"\"\"Finding the percentage load regulation.\"\"\"\n",
      "\n",
      "from math import acos,atan\n",
      "\n",
      "#Variable Declration:\n",
      "VA=1.5e06            #Power rating of the synchronous generator(in Volt-Amperes)\n",
      "V_L=11e03            #Line voltage(in Volts)\n",
      "Rs=1.2               #Armature resistance(in Ohms)\n",
      "Xs=25.0              #Synchronous reactance per phase(in Ohms)\n",
      "P_L=1.4375e06        #Load to be delivered(in Volt-Amperes)\n",
      "\n",
      "\n",
      "#Calculations:\n",
      "V=V_L/sqrt(3.0)\n",
      "I=P_L/(3*V)\n",
      "Zs=sqrt((Rs*Rs)+(Xs*Xs))\n",
      "Vz=I*Zs\n",
      "pf=0.8\n",
      "pf_ang=acos(pf)\n",
      "theta=atan(Xs/Rs)\n",
      "alpha=theta-pf_ang\n",
      "E=sqrt((V*V)+(Vz*Vz)+(2*V*Vz*cos(alpha)))\n",
      "reg_a=(E-V)/V\n",
      "alpha=theta+pf_ang\n",
      "E=sqrt((V*V)+(Vz*Vz)+(2*V*Vz*cos(alpha)))\n",
      "reg_b=(E-V)/V\n",
      "\n",
      "\n",
      "#Result:\n",
      "print \"(a)The percentage load regulation for a power factor of 0.8 lagging is %.2f per cent.\" %(reg_a*100)\n",
      "print \"(b)The percentage load regulation for a power factor of 0.8 leading is %.2f per cent.\" %(reg_b*100)"
     ],
     "language": "python",
     "metadata": {},
     "outputs": [
      {
       "output_type": "stream",
       "stream": "stdout",
       "text": [
        "(a)The percentage load regulation for a power factor of 0.8 lagging is 21.15 per cent.\n",
        "(b)The percentage load regulation for a power factor of 0.8 leading is -13.12 per cent.\n"
       ]
      }
     ],
     "prompt_number": 4
    },
    {
     "cell_type": "heading",
     "level": 2,
     "metadata": {},
     "source": [
      "Example 14.16,Page number: 465"
     ]
    },
    {
     "cell_type": "code",
     "collapsed": false,
     "input": [
      "#Question:\n",
      "\"\"\"Finding the torque angle of the alternator.\"\"\"\n",
      "\n",
      "from math import acos,degrees\n",
      "\n",
      "#Variable Declaration:\n",
      "R=0.5                 #Effective resistance per phase of the alternator(in Ohms)\n",
      "V_L=2200.0            #Line voltage of the alternator(in Volts)\n",
      "I_FL=200.0            #Full-load current(in Amperes)\n",
      "If=30.0               #Field current(in Amperes)\n",
      "V_L_oc=1100.0         #Line-to-line voltage on open circuit(in Volts)\n",
      "pf=0.8                #Lagging power factor     \n",
      "\n",
      "\n",
      "#Calculations:\n",
      "Zs=V_L_oc/(sqrt(3.0)*I_FL)\n",
      "theta=acos(R/Zs)\n",
      "Vz=I_FL*Zs\n",
      "V=V_L/sqrt(3.0)\n",
      "pf_ang=acos(pf)\n",
      "alpha=theta-pf_ang\n",
      "E=sqrt((V*V)+(Vz*Vz)+(2*V*Vz*cos(alpha)))\n",
      "Po=V*I_FL*pf\n",
      "tor_ang=theta-acos((Po+(V*V*cos(theta)/Zs))*(Zs/(E*V)))\n",
      "\n",
      "\n",
      "#Result:\n",
      "print \"The torque angle of the alternator is %.2f degrees.\" %(degrees(tor_ang))"
     ],
     "language": "python",
     "metadata": {},
     "outputs": [
      {
       "output_type": "stream",
       "stream": "stdout",
       "text": [
        "The torque angle of the alternator is 14.35 degrees.\n"
       ]
      }
     ],
     "prompt_number": 5
    },
    {
     "cell_type": "heading",
     "level": 2,
     "metadata": {},
     "source": [
      "Example 14.17,Page number: 465"
     ]
    },
    {
     "cell_type": "code",
     "collapsed": false,
     "input": [
      "#Question:\n",
      "\"\"\"\"Finding the synchronising power of the alternator.\"\"\"\n",
      "\n",
      "from math import acos\n",
      "\n",
      "#Variable Declaration:\n",
      "P=6.0                 #Number of poles\n",
      "VA=3e06               #Power rating of the alternator(in Volt-Amperes)\n",
      "Ns=1000.0             #Speed of operation of the alternator(in rpm)\n",
      "V_L=3.3e03            #Line voltage of the load(in Volts)\n",
      "pf=0.8                #Lagging power factor\n",
      "\n",
      "#Calculations:\n",
      "V=V_L/sqrt(3.0)\n",
      "I=VA/(sqrt(3.0)*V_L)\n",
      "IXs=0.25*V\n",
      "Xs=IXs/I\n",
      "rotor_dis=radians(1*(P/2.0))\n",
      "Vz=I*Xs\n",
      "theta=pi/2\n",
      "pf_ang=acos(0.8)\n",
      "alpha=theta-pf_ang\n",
      "E=sqrt((V*V)+(Vz*Vz)+(2*V*Vz*cos(alpha)))\n",
      "Psy=(3*E*V*sin(rotor_dis))/(Xs)\n",
      "tor=(3*Psy)/(2*pi*Ns/60)\n",
      "\n",
      "\n",
      "#Result:\n",
      "print \"(a)The synchronising power is %.2f kW.\" %(Psy/1000)\n",
      "print \"(b)The synchronising torque per mechanical degree is %.2f kNm.\" %(tor/1000)"
     ],
     "language": "python",
     "metadata": {},
     "outputs": [
      {
       "output_type": "stream",
       "stream": "stdout",
       "text": [
        "(a)The synchronising power is 733.08 kW.\n",
        "(b)The synchronising torque per mechanical degree is 21.00 kNm.\n"
       ]
      }
     ],
     "prompt_number": 10
    },
    {
     "cell_type": "heading",
     "level": 2,
     "metadata": {},
     "source": [
      "Example 14.18,Page number: 466"
     ]
    },
    {
     "cell_type": "code",
     "collapsed": false,
     "input": [
      "#Question:\n",
      "\"\"\"Finding the armature current and power factor.\"\"\"\n",
      "\n",
      "from math import radians,degrees\n",
      "from cmath import rect,phase\n",
      "\n",
      "#Variable Declaration:\n",
      "V_L=2300.0            #Line voltage of the winding(in Volts)\n",
      "f=50.0                #Operating frequency of the synchronous motor(in Hertz)\n",
      "Psh=205.0             #Power delivered by the motor(in Horse Power)\n",
      "ang=15.0              #Power angle(in degrees)\n",
      "Xs=11.0               #Synchronous reactance(in Ohms)\n",
      "effi=0.90             #Efficiency of the motor\n",
      "\n",
      "\n",
      "#Calculations:\n",
      "V=V_L/sqrt(3.0)\n",
      "Psh=Psh*746.0\n",
      "Pd=Psh/effi\n",
      "E=(Pd*Xs)/(3.0*V*sin(radians(ang)))\n",
      "I=(rect(V,0)-rect(E,radians(-ang)))/(1j*Xs)\n",
      "pf=cos(phase(I))\n",
      "\n",
      "\n",
      "#Result:\n",
      "print \"(a)The excitation voltage per phase is %.2f V per phase.\" %(E)\n",
      "print \"(b)The armature current is %.2f A at a phase angle of %.2f degrees.\" %(abs(I),degrees(phase(I)))\n",
      "print \"(c)The power factor is %.4f leading.\" %(pf)"
     ],
     "language": "python",
     "metadata": {},
     "outputs": [
      {
       "output_type": "stream",
       "stream": "stdout",
       "text": [
        "(a)The excitation voltage per phase is 1812.83 V per phase.\n",
        "(b)The armature current is 57.44 A at a phase angle of 42.05 degrees.\n",
        "(c)The power factor is 0.7426 leading.\n"
       ]
      }
     ],
     "prompt_number": 6
    },
    {
     "cell_type": "heading",
     "level": 2,
     "metadata": {},
     "source": [
      "Example 14.19,Page number: 466"
     ]
    },
    {
     "cell_type": "code",
     "collapsed": false,
     "input": [
      "#Question:\n",
      "\"\"\"Finding the line current and the power factor.\"\"\"\n",
      "\n",
      "#Variable Declaration:\n",
      "V_L=6600.0            #Line voltage(in Volts)\n",
      "Xs=20.0               #Synchronous reactance per phase(in Ohms)\n",
      "Pin=915e03            #Power consumed by the motor(in Watts)\n",
      "E_L=8942.0            #Induced line emf per phase(in Volts)\n",
      "\n",
      "\n",
      "#Calculations:\n",
      "V=V_L/sqrt(3.0)\n",
      "E=E_L/sqrt(3.0)\n",
      "I_cos=Pin/(sqrt(3.0)*V_L)\n",
      "BN=Xs*I_cos\n",
      "NA=sqrt((E*E)-(BN*BN))\n",
      "NO=NA-V\n",
      "Er=sqrt((NO*NO)+(BN*BN))\n",
      "I_L=Er/Xs\n",
      "pf=I_cos/I_L\n",
      "\n",
      "\n",
      "#Result:\n",
      "print \"(a)The line current is %.2f A.\" %(I_L)\n",
      "print \"(b)The power factor is %.4f leading.\" %(pf) "
     ],
     "language": "python",
     "metadata": {},
     "outputs": [
      {
       "output_type": "stream",
       "stream": "stdout",
       "text": [
        "(a)The line current is 97.05 A.\n",
        "(b)The power factor is 0.8247 leading.\n"
       ]
      }
     ],
     "prompt_number": 1
    },
    {
     "cell_type": "heading",
     "level": 2,
     "metadata": {},
     "source": [
      "Example 14.20,Page number: 467"
     ]
    },
    {
     "cell_type": "code",
     "collapsed": false,
     "input": [
      "#Question:\n",
      "\"\"\"Finding the power factor when the load on the motor increases.\"\"\"\n",
      "\n",
      "from math import acos,asin\n",
      "\n",
      "#Variable Declaration:\n",
      "V_L=6600.0            #Line voltage(in Volts)\n",
      "Xs=15.0               #Synchronous reactance per phase(in Ohms)\n",
      "Pin=500e03            #Power consumed by the motor(in Watts)\n",
      "pf=0.8                #Leading power factor\n",
      "Pin_new=800e03        #New Input power(in Watts)\n",
      "\n",
      "\n",
      "#Calculations:\n",
      "V=V_L/sqrt(3.0)\n",
      "Zs=Xs\n",
      "I_L=Pin/(sqrt(3.0)*V_L*pf)\n",
      "Er=I_L*Zs\n",
      "pf_ang=acos(pf)\n",
      "alpha=(pi/2)-pf_ang\n",
      "E=sqrt((V*V)+(Er*Er)+(2*V*Er*cos(alpha)))\n",
      "I1_cos=Pin_new/(sqrt(3.0)*V_L)\n",
      "sin_tor=(Pin_new*Xs)/(E*V)\n",
      "AN=V*sin_tor\n",
      "NB=E-(V*cos(asin(sin_tor)))\n",
      "Er1=sqrt((AN*AN)+(NB*NB))\n",
      "I1=Er1/Xs\n",
      "pf=I1_cos/I1\n",
      "\n",
      "\n",
      "#Result:\n",
      "print \"The power factor when the load on the motor increases is %.4f leading.\" %(pf)"
     ],
     "language": "python",
     "metadata": {},
     "outputs": [
      {
       "output_type": "stream",
       "stream": "stdout",
       "text": [
        "The power factor when the load on the motor increases is 0.3229 leading.\n"
       ]
      }
     ],
     "prompt_number": 3
    },
    {
     "cell_type": "heading",
     "level": 2,
     "metadata": {},
     "source": [
      "Example 14.21,Page number: 469"
     ]
    },
    {
     "cell_type": "code",
     "collapsed": false,
     "input": [
      "#Question:\n",
      "\"\"\"Finding the power factor and kVA rating of the synchronous motor.\"\"\"\n",
      "\n",
      "from math import atan,acos\n",
      "\n",
      "#Variable Declaration:\n",
      "Si=500e03             #Load supplied by the three-phase system(in Volt-Amperes)\n",
      "pf_i=0.5              #Lagging power factor of three-phase system\n",
      "Po=100.0              #Load supplied by the synchronous motor(in Horse-Power)\n",
      "pf_t=0.9              #Overall lagging power factor \n",
      "effi=0.87             #Efficiency of the synchronous motor\n",
      "\n",
      "\n",
      "#Calculations:\n",
      "Pi=Si*pf_i\n",
      "Qi=Si*sin(acos(pf_i))\n",
      "Ps=(Po*746)/effi\n",
      "Pt=Pi+Ps\n",
      "St=Pt/pf_t\n",
      "Qt=St*sin(acos(pf_t))\n",
      "Qs=Qt-Qi\n",
      "pf_ang=atan(Qs/Ps)\n",
      "pf_s=cos(pf_ang)\n",
      "Ss=sqrt((Ps*Ps)+(Qs*Qs))\n",
      "\n",
      "\n",
      "#Result:\n",
      "print \"(a)The power faactor of the synchronous motor is %.2f leading.\" %(pf_s)\n",
      "print \"(b)The kVA rating of the synchronous motor is %.2f kVA.\" %(Ss/1000.0)"
     ],
     "language": "python",
     "metadata": {},
     "outputs": [
      {
       "output_type": "stream",
       "stream": "stdout",
       "text": [
        "(a)The power faactor of the synchronous motor is 0.30 leading.\n",
        "(b)The kVA rating of the synchronous motor is 283.67 kVA.\n"
       ]
      }
     ],
     "prompt_number": 3
    }
   ],
   "metadata": {}
  }
 ]
}