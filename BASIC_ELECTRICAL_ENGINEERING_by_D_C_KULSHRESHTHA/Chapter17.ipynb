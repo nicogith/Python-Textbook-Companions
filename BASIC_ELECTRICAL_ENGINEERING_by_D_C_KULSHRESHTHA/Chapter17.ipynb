{
 "metadata": {
  "name": ""
 },
 "nbformat": 3,
 "nbformat_minor": 0,
 "worksheets": [
  {
   "cells": [
    {
     "cell_type": "heading",
     "level": 1,
     "metadata": {},
     "source": [
      "Chapter 17: FRACTIONAL HORSE POWER MOTORS"
     ]
    },
    {
     "cell_type": "heading",
     "level": 2,
     "metadata": {},
     "source": [
      "Example 17.1,Page number: 570\n"
     ]
    },
    {
     "cell_type": "code",
     "collapsed": false,
     "input": [
      "#Question:\n",
      "\"\"\"Finding the slip and efficiency of induction motor.\"\"\"\n",
      "\n",
      "#Variable Declaration:\n",
      "f=50                  #Frequency rating of the induction motor(in Hertz) \n",
      "P=4                   #Number of poles in the induction motor  \n",
      "N=1410                #Speed of the motor(in rpm)\n",
      "Po=375                #Output Power(in Watts)\n",
      "V=230                 #Voltage rating of the induction motor(in Volts)    \n",
      "I=2.9                 #Input current(in Amperes)\n",
      "pf=0.71               #Power factor(lagging) \n",
      "\n",
      "\n",
      "#Calculations:\n",
      "Ns=(120.0*f)/P\n",
      "slip=(Ns-N)/Ns\n",
      "\n",
      "\n",
      "#Result:\n",
      "print \"Slip is %.2f percent.\" %(slip*100)\n",
      "Pin=V*I*pf\n",
      "efficiency=Po/Pin\n",
      "print \"The efficiency is %.2f percent.\" %(efficiency*100)"
     ],
     "language": "python",
     "metadata": {},
     "outputs": [
      {
       "output_type": "stream",
       "stream": "stdout",
       "text": [
        "Slip is 6.00 percent.\n",
        "The efficiency is 79.19 percent.\n"
       ]
      }
     ],
     "prompt_number": 1
    },
    {
     "cell_type": "heading",
     "level": 2,
     "metadata": {},
     "source": [
      "Example 17.2,Page number: 570\n"
     ]
    },
    {
     "cell_type": "code",
     "collapsed": false,
     "input": [
      "#Question:\n",
      "\n",
      "\"\"\"Finding the currents and the power factor in the induction motor.\"\"\"\n",
      "\n",
      "from cmath import phase,rect,polar\n",
      "from math import radians,degrees,cos\n",
      "\n",
      "#Variable Declartion:\n",
      "V=rect(230,0)        #Voltage rating of the split-phase induction motor(in Volts)   \n",
      "Z_M=5+ 12*1j         #Impedance of the main winding(in Ohms)\n",
      "Z_A=12+ 5*1j         #Start-winding impedance(in Ohms)\n",
      "\n",
      "\n",
      "#Calculations:\n",
      "mod_Z_M=abs(Z_M)\n",
      "mod_Z_A=abs(Z_A)\n",
      "phi_M=phase(Z_M)\n",
      "phi_A=phase(Z_A)\n",
      "I_M=V/Z_M\n",
      "mod_I_M=abs(I_M)\n",
      "phi_I_M=degrees(phase(I_M))\n",
      "I_A=V/Z_A\n",
      "mod_I_A=abs(I_A)\n",
      "phi_I_A=degrees(phase(I_A))\n",
      "I_L=I_M+I_A\n",
      "mod_I_L=abs(I_L)\n",
      "phi_I_L=degrees(phase(I_L))\n",
      "phi=phi_I_A-phi_I_M\n",
      "pf=cos(radians(phi_I_L))\n",
      "\n",
      "\n",
      "#Result:\n",
      "print \"(a)The current in the main winding is %.2f A at a phase angle of %.2f degrees.\" %(mod_I_M,phi_I_M)\n",
      "print \"(b)The current in the starting winding is %.2f A at a phase angle of %.2f degrees.\" %(mod_I_A,phi_I_A)\n",
      "print \"(c)The line current is %.2f A at a phase angle of %.2f degrees.\" %(mod_I_L,phi_I_L)\n",
      "print \"(d)The phase displacement between the two winding currents is %.2f degrees.\" %(phi)\n",
      "print \"(e)The power factor is %.4f lagging.\" %(pf)                "
     ],
     "language": "python",
     "metadata": {},
     "outputs": [
      {
       "output_type": "stream",
       "stream": "stdout",
       "text": [
        "(a)The current in the main winding is 17.69 A at a phase angle of -67.38 degrees.\n",
        "(b)The current in the starting winding is 17.69 A at a phase angle of -22.62 degrees.\n",
        "(c)The line current is 32.72 A at a phase angle of -45.00 degrees.\n",
        "(d)The phase displacement between the two winding currents is 44.76 degrees.\n",
        "(e)The power factor is 0.7071 lagging.\n"
       ]
      }
     ],
     "prompt_number": 2
    },
    {
     "cell_type": "heading",
     "level": 2,
     "metadata": {},
     "source": [
      "Example 17.3,Page number: 571\n"
     ]
    },
    {
     "cell_type": "code",
     "collapsed": false,
     "input": [
      "#Question:\n",
      "\"\"\"Finding the capacitance in series with the auxiliary winding to maximize starting torque.\"\"\"\n",
      "\n",
      "from math import radians,degrees,atan,pi,tan\n",
      "\n",
      "#Variable Declaration:\n",
      "X_M=20                #Inductive reactance of the main winding(in Ohm)\n",
      "R_M=2                 #Resistance of the main winding(in Ohm)\n",
      "X_A=5                 #Inductive reactance of the auxiliary winding(in Ohm)\n",
      "R_A=25                #Resistance of the auxiliary winding(in Ohm)\n",
      "f=50                  #Frequency rating of the split-phase induction motor(in Hertz)   \n",
      "\n",
      "\n",
      "#Calculations:\n",
      "angle_M=atan(X_M/R_M)\n",
      "angle_A=degrees(angle_M)-90\n",
      "Xc=X_A-(R_A*tan(radians(angle_A)))\n",
      "\n",
      "\n",
      "#Result:\n",
      "C=1/(2*pi*f*Xc)\n",
      "print \"The value of capacitance connected in series with the auxiliary winding to obtain maximum starting torque is %e F.\" %(C)"
     ],
     "language": "python",
     "metadata": {},
     "outputs": [
      {
       "output_type": "stream",
       "stream": "stdout",
       "text": [
        "The value of capacitance connected in series with the auxiliary winding to obtain maximum starting torque is 4.244132e-04 F.\n"
       ]
      }
     ],
     "prompt_number": 3
    },
    {
     "cell_type": "heading",
     "level": 2,
     "metadata": {},
     "source": [
      "Example 17.4,Page number: 576\n"
     ]
    },
    {
     "cell_type": "code",
     "collapsed": false,
     "input": [
      "#Question:\n",
      "\"\"\"Finding the resolution and shaft speed of a stepper motor.\"\"\"\n",
      "\n",
      "#Variable Declaration:\n",
      "beta=2.5              #Step-angle of a stepper motor(in degrees)\n",
      "step_freq=3600        #Stepping frequency(in pps)\n",
      "\n",
      "\n",
      "#Calculations:\n",
      "res=360/beta\n",
      "number_steps=res*25\n",
      "shaft_speed=(beta*step_freq)/360\n",
      "\n",
      "\n",
      "#Result:\n",
      "print \"(a)The resolution is %d steps per revolution.\" %(res)\n",
      "print \"(b)The number of steps required for the shaft to make 25 revolutions=%d.\" %(number_steps)\n",
      "print \"(c)The shaft speed is %.2f rps.\" %(shaft_speed)\n"
     ],
     "language": "python",
     "metadata": {},
     "outputs": [
      {
       "output_type": "stream",
       "stream": "stdout",
       "text": [
        "(a)The resolution is 144 steps per revolution.\n",
        "(b)The number of steps required for the shaft to make 25 revolutions=3600.\n",
        "(c)The shaft speed is 25.00 rps.\n"
       ]
      }
     ],
     "prompt_number": 6
    },
    {
     "cell_type": "heading",
     "level": 2,
     "metadata": {},
     "source": [
      "Example 17.5,Page number:577\n"
     ]
    },
    {
     "cell_type": "code",
     "collapsed": false,
     "input": [
      "#Question:\n",
      "\"\"\"Finding the number of stator and rotor poles in a VR motor.\"\"\"\n",
      "\n",
      "#Variable Declaration:\n",
      "m=3                   #Number of phases\n",
      "beta=15               #Step angle(in degrees)\n",
      "\n",
      "\n",
      "#Calculations:\n",
      "Nr=360/(m*beta)\n",
      "Ns1=(Nr*360)/(360-(beta*Nr))\n",
      "Ns2=(Nr*360)/(360+(beta*Nr))\n",
      "\n",
      "\n",
      "#Result:\n",
      "print \"(a) The number of rotor poles is %d.\" %(Nr)\n",
      "print \"(b)\"\n",
      "print \"   Case 1: Ns>Nr\"\n",
      "print \"   The number of stator poles is %d. \\n\" %(Ns1)\n",
      "print \"   Case 2: Ns<Nr\"\n",
      "print \"   The number of stator poles is %d.\" %(Ns2)"
     ],
     "language": "python",
     "metadata": {},
     "outputs": [
      {
       "output_type": "stream",
       "stream": "stdout",
       "text": [
        "(a) The number of rotor poles is 8.\n",
        "(b)\n",
        "   Case 1: Ns>Nr\n",
        "   The number of stator poles is 12. \n",
        "\n",
        "   Case 2: Ns<Nr\n",
        "   The number of stator poles is 6.\n"
       ]
      }
     ],
     "prompt_number": 7
    },
    {
     "cell_type": "heading",
     "level": 2,
     "metadata": {},
     "source": [
      "Example 17.6,Page number: 579\n"
     ]
    },
    {
     "cell_type": "code",
     "collapsed": false,
     "input": [
      "#Question:\n",
      "\"\"\"Finding the number of rotor and stator teeth in VR stepper motor.\"\"\"\n",
      "\n",
      "#Variable Declaration:\n",
      "m=4                   #Number of stacks\n",
      "beta=1.8              #Step angle(in degrees)\n",
      "\n",
      "\n",
      "#Calculations:\n",
      "Nr=360/(m*beta)\n",
      "Ns=Nr\n",
      "\n",
      "\n",
      "#Result:\n",
      "print \"The number of rotor teeth is %d.\" %(Nr)\n",
      "print \"The number of stator teeth is %d.\" %(Ns)\n",
      "print \"\\nNOTE: In a multistack stepper motor the number of stator teeth is same as that of the rotor teeth.\""
     ],
     "language": "python",
     "metadata": {},
     "outputs": [
      {
       "output_type": "stream",
       "stream": "stdout",
       "text": [
        "The number of rotor teeth is 50.\n",
        "The number of stator teeth is 50.\n",
        "\n",
        "NOTE: In a multistack stepper motor the number of stator teeth is same as that of the rotor teeth.\n"
       ]
      }
     ],
     "prompt_number": 8
    }
   ],
   "metadata": {}
  }
 ]
}