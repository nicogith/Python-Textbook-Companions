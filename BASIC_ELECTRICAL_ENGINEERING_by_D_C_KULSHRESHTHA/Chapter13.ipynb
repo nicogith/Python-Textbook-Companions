{
 "metadata": {
  "name": ""
 },
 "nbformat": 3,
 "nbformat_minor": 0,
 "worksheets": [
  {
   "cells": [
    {
     "cell_type": "heading",
     "level": 1,
     "metadata": {},
     "source": [
      "Chapter 13: TRANSFORMERS"
     ]
    },
    {
     "cell_type": "heading",
     "level": 2,
     "metadata": {},
     "source": [
      "Example 13.1,Page number: 374"
     ]
    },
    {
     "cell_type": "code",
     "collapsed": false,
     "input": [
      "#Question:\n",
      "\"\"\"Finding the voltage across the secondary of the transformer.\"\"\"\n",
      "\n",
      "#Variable Declaration:\n",
      "E_p=6400              #Primary voltage(in Volts)  \n",
      "f=50                  #Frequency of primary supply(in Hertz)\n",
      "N1=480                #Number of turns in the primary of the transformer\n",
      "\n",
      "\n",
      "#Calculations:\n",
      "flux_m=E_p/(4.44*f*N1)\n",
      "N2=20.0\n",
      "Es=4.44*f*N2*flux_m\n",
      "\n",
      "\n",
      "#Result:\n",
      "print \"(a)The peak value of the flux produced in the core is %.2f Wb.\" %(flux_m)\n",
      "print \"(b)The voltage across the secondary winding if it has 20 turns is %.2f V.\" %(Es)"
     ],
     "language": "python",
     "metadata": {},
     "outputs": [
      {
       "output_type": "stream",
       "stream": "stdout",
       "text": [
        "(a)The peak value of the flux produced in the core is 0.06 Wb.\n",
        "(b)The voltage across the secondary winding if it has 20 turns is 266.67 V.\n"
       ]
      }
     ],
     "prompt_number": 3
    },
    {
     "cell_type": "heading",
     "level": 2,
     "metadata": {},
     "source": [
      "Example 13.2,Page number: 377"
     ]
    },
    {
     "cell_type": "code",
     "collapsed": false,
     "input": [
      "#Question:\n",
      "\"\"\"Finding the peak value of the flux density in the core.\"\"\"\n",
      "\n",
      "#Variable Declaration:\n",
      "f=50.0                #Operating frequency of the transformer(in Hertz)\n",
      "N1=30.0               #Number of turns in the primary of transformer\n",
      "N2=350.0              #Number of turns in the secondary of transformer\n",
      "A=250e-04             #Cross-sectional area of the core(in square-metres)\n",
      "E1=230.0              #Voltage of the supply(in Volts)\n",
      "\n",
      "\n",
      "#Calculations:\n",
      "flux_m=E1/(4.44*f*N1)\n",
      "B_m=flux_m/A\n",
      "E2=E1*(N2/N1)\n",
      "I2=100.0\n",
      "I1=I2*(N2/N1)\n",
      "\n",
      "\n",
      "#Result:\n",
      "print \"(a)The peak value of flux density in the core is %.2f T.\" %(B_m)\n",
      "print \"(b)The voltage induced in the secondary winding is %e V.\" %(E2)\n",
      "print \"(c)The primary current when the secondary current is 100 A is %e A.\" %(I1)"
     ],
     "language": "python",
     "metadata": {},
     "outputs": [
      {
       "output_type": "stream",
       "stream": "stdout",
       "text": [
        "(a)The peak value of flux density in the core is 1.38 T.\n",
        "(b)The voltage induced in the secondary winding is 2.683333e+03 V.\n",
        "(c)The primary current when the secondary current is 100 A is 1.166667e+03 A.\n"
       ]
      }
     ],
     "prompt_number": 4
    },
    {
     "cell_type": "heading",
     "level": 2,
     "metadata": {},
     "source": [
      "Example 13.3,Page number: 377"
     ]
    },
    {
     "cell_type": "code",
     "collapsed": false,
     "input": [
      "#Question:\n",
      "\"\"\"Finding the turns-ratio of the transformer.\"\"\"\n",
      "\n",
      "from math import sqrt\n",
      "\n",
      "#Variable Declaration:\n",
      "Req=50.0               #Output resistance of the source(in Ohms) \n",
      "R_L=800.0              #Load resistance(in Ohms)  \n",
      "\n",
      "\n",
      "#Calculations:\n",
      "K=sqrt(R_L/Req)\n",
      "\n",
      "\n",
      "#Result:\n",
      "print \"The turns-ratio of the transformer to be used for maximising the load power is %d.\" %(K)"
     ],
     "language": "python",
     "metadata": {},
     "outputs": [
      {
       "output_type": "stream",
       "stream": "stdout",
       "text": [
        "The turns-ratio of the transformer to be used for maximising the load power is 4.\n"
       ]
      }
     ],
     "prompt_number": 5
    },
    {
     "cell_type": "heading",
     "level": 2,
     "metadata": {},
     "source": [
      "Example 13.4,Page number: 378"
     ]
    },
    {
     "cell_type": "code",
     "collapsed": false,
     "input": [
      "#Question:\n",
      "\"\"\"Finding the load current in the ac circuit.\"\"\"\n",
      "\n",
      "from cmath import rect,phase\n",
      "from math import degrees\n",
      "\n",
      "#Calculations:\n",
      "V=rect(30,0)\n",
      "Ip=V/(20+20*1j+(pow(2,2)*(2-10*1j)))\n",
      "I_L=2.0*Ip\n",
      "\n",
      "#Result:\n",
      "print \"The load current is %.3f A at a phase angle of %.3f degrees.\" %(abs(I_L),degrees(phase(I_L)))"
     ],
     "language": "python",
     "metadata": {},
     "outputs": [
      {
       "output_type": "stream",
       "stream": "stdout",
       "text": [
        "The load current is 1.744 A at a phase angle of 35.538 degrees.\n"
       ]
      }
     ],
     "prompt_number": 6
    },
    {
     "cell_type": "heading",
     "level": 2,
     "metadata": {},
     "source": [
      "Example 13.5,Page number: 378 "
     ]
    },
    {
     "cell_type": "code",
     "collapsed": false,
     "input": [
      "#Question:\n",
      "\"\"\"Finding the output of the transformer in kVA.\"\"\"\n",
      "\n",
      "#Variable Declaration:\n",
      "B_m=1.1               #Maximum magnetic flux density(in Weber per square-metre)\n",
      "A=150e-04             #Cross-sectional area of the core(in square-metres)\n",
      "\n",
      "\n",
      "#Calculations:\n",
      "flux_m=B_m*A\n",
      "N2=66\n",
      "f=50\n",
      "Z_L=4.0\n",
      "E2=4.44*N2*f*flux_m\n",
      "V2=E2\n",
      "I2=V2/Z_L\n",
      "output=(I2*V2)/1000.0\n",
      "\n",
      "\n",
      "#Result:\n",
      "print \"The output when connected to a load of 4 Ohms impedance is %.3f kVA.\" %(output)"
     ],
     "language": "python",
     "metadata": {},
     "outputs": [
      {
       "output_type": "stream",
       "stream": "stdout",
       "text": [
        "The output when connected to a load of 4 Ohms impedance is 14.612 kVA.\n"
       ]
      }
     ],
     "prompt_number": 7
    },
    {
     "cell_type": "heading",
     "level": 2,
     "metadata": {},
     "source": [
      "Example 13.6,Page number: 378 "
     ]
    },
    {
     "cell_type": "code",
     "collapsed": false,
     "input": [
      "#Question:\n",
      "\"\"\"Finding the number of turns in each winding of the transformer.\"\"\"\n",
      "\n",
      "#Variable Declaration:\n",
      "A=9e-04               #Cross-sectional area of the core(in square-metre)       \n",
      "E1=230.0              #Primary Voltage(in Volts)\n",
      "E2=110.0              #Secondary Voltage(in Volts)\n",
      "E3=6.0                #Tertiary Voltage(in Volts)\n",
      "f=50.0                #Operating frequency of the transformer(in Hertz)\n",
      "Bm=1.0                #Maximum magnetic flux density(in Tesla)  \n",
      "\n",
      "\n",
      "#Calculations:\n",
      "flux_m=Bm*A\n",
      "N3_half=E3/(4.44*f*flux_m)\n",
      "N3=2*N3_half\n",
      "N1=N3_half*(E1/E3)\n",
      "N2=N3_half*(E2/E3)\n",
      "\n",
      "\n",
      "#Result:\n",
      "print \"The total number of turns on the primary winding is %d turns.\" %(N1)\n",
      "print \"The total number of turns on the secondary winding is %d turns.\" %(N2)\n",
      "print \"The total number of turns on the tertiary winding is %d turns.\" %(N3)"
     ],
     "language": "python",
     "metadata": {},
     "outputs": [
      {
       "output_type": "stream",
       "stream": "stdout",
       "text": [
        "The total number of turns on the primary winding is 1151 turns.\n",
        "The total number of turns on the secondary winding is 550 turns.\n",
        "The total number of turns on the tertiary winding is 60 turns.\n"
       ]
      }
     ],
     "prompt_number": 8
    },
    {
     "cell_type": "heading",
     "level": 2,
     "metadata": {},
     "source": [
      "Example 13.7,Page number: 380"
     ]
    },
    {
     "cell_type": "code",
     "collapsed": false,
     "input": [
      "#Question:\n",
      "\"\"\"Finding the no-load power factor of the transformer.\"\"\"\n",
      "\n",
      "from math import sqrt,pow\n",
      "\n",
      "#Variable Declaration:\n",
      "VA=350.0              #Input at no-load(in Volt-Amperes) \n",
      "V1=230.0              #Primary voltage(in Volts)\n",
      "\n",
      "\n",
      "#Calculations:\n",
      "Io=VA/V1\n",
      "Pi=110.0\n",
      "pf=Pi/(V1*Io)\n",
      "Iw=Io*pf\n",
      "Im=sqrt(pow(Io,2)-pow(Iw,2))\n",
      "\n",
      "\n",
      "#Result:\n",
      "print \"The loss component of no-load current is given as %.4f A.\" %(Iw)\n",
      "print \"The magnetising component of no-load current is %.4f A.\" %(Im)\n",
      "print \"The no-load power factor is %.4f.\" %(pf)"
     ],
     "language": "python",
     "metadata": {},
     "outputs": [
      {
       "output_type": "stream",
       "stream": "stdout",
       "text": [
        "The loss component of no-load current is given as 0.4783 A.\n",
        "The magnetising component of no-load current is 1.4446 A.\n",
        "The no-load power factor is 0.3143.\n"
       ]
      }
     ],
     "prompt_number": 9
    },
    {
     "cell_type": "heading",
     "level": 2,
     "metadata": {},
     "source": [
      "Example 13.8,Page number: 382"
     ]
    },
    {
     "cell_type": "code",
     "collapsed": false,
     "input": [
      "#Question:\n",
      "\"\"\"Finding the hysterisis and eddy-current losses of the transformer.\"\"\"\n",
      "\n",
      "\n",
      "#Variable Declaration:\n",
      "f=50.0                #Operating frequency of the transformer(in Hertz)\n",
      "eq1=100.0             #Iron loss at 60 Hz(in Watts)\n",
      "eq2=60.0              #Iron loss at 40 Hz(in Watts)\n",
      "\n",
      "\n",
      "#Calculations:\n",
      "\"\"\" P_h=A*f ; P_e=B*f*f ; \n",
      "    \n",
      "    P_i=P_h+P_e=(A*f)+(B*f*f); \"\"\"\n",
      "\n",
      "A=((eq2*36)-(eq1*16))/((40*36)-(60*16))\n",
      "B=((eq1*4)-(eq2*6))/((3600*4)-(1600*6))\n",
      "P_h=A*f\n",
      "P_e=B*f*f\n",
      "\n",
      "\n",
      "#Result:\n",
      "print \"The Hysteresis loss at 50 Hz is %.2f W.\" %(P_h) \n",
      "print \"The Eddy-current loss at 50 Hz is %.2f W.\" %(P_e) "
     ],
     "language": "python",
     "metadata": {},
     "outputs": [
      {
       "output_type": "stream",
       "stream": "stdout",
       "text": [
        "The Hysteresis loss at 50 Hz is 58.33 W.\n",
        "The Eddy-current loss at 50 Hz is 20.83 W.\n"
       ]
      }
     ],
     "prompt_number": 10
    },
    {
     "cell_type": "heading",
     "level": 2,
     "metadata": {},
     "source": [
      "Example 13.9,Page number: 385"
     ]
    },
    {
     "cell_type": "code",
     "collapsed": false,
     "input": [
      "#Question:\n",
      "\"\"\"Finding the primary current snd the primary power factor.\"\"\"\n",
      "\n",
      "from math import acos,degrees,cos\n",
      "from cmath import phase,rect\n",
      "\n",
      "#Variable Declaration:\n",
      "V1=440.0              #Primary voltage(in Volts)\n",
      "V2=110.0              #Secondary voltage(in Volts)\n",
      "I_0_mod=5.0           #No-load current(in Amperes) \n",
      "I2=120.0              #Secondary current(in Amperes) \n",
      "\n",
      "\n",
      "#Calculations:\n",
      "phi_0=acos(0.2)\n",
      "phi_2=acos(0.8)\n",
      "K=V2/V1\n",
      "I1_load_mod=K*I2\n",
      "I1_load=rect(I1_load_mod,-phi_2)\n",
      "I0=rect(I_0_mod,-phi_0)\n",
      "I1_total=I0+I1_load\n",
      "pf_primary=cos(phase(I1_total))\n",
      "\n",
      "\n",
      "#Result:\n",
      "print \"The primary current is %.2f A at a phase angle of %.2f degrees.\" %(abs(I1_total),degrees(phase(I1_total)))\n",
      "print \"The primary power factor is %.3f lagging.\" %(pf_primary)"
     ],
     "language": "python",
     "metadata": {},
     "outputs": [
      {
       "output_type": "stream",
       "stream": "stdout",
       "text": [
        "The primary current is 33.90 A at a phase angle of -42.49 degrees.\n",
        "The primary power factor is 0.737 lagging.\n"
       ]
      }
     ],
     "prompt_number": 11
    },
    {
     "cell_type": "heading",
     "level": 2,
     "metadata": {},
     "source": [
      "Example 13.10,Page number: 390"
     ]
    },
    {
     "cell_type": "code",
     "collapsed": false,
     "input": [
      "#Question:\n",
      "\"\"\"Finding the equivalent resistance as referred to the primary and secondary.\"\"\"\n",
      "\n",
      "from math import sqrt\n",
      "\n",
      "#Variable Declaration:\n",
      "VA=50e03              #Power rating of the transformer(in Volt-Amperes) \n",
      "V1=4400.0             #Primary voltage(in Volts) \n",
      "V2=220.0              #Secondary voltage(in Volts)\n",
      "R1=3.45               #Primary resistance(in Ohms)\n",
      "R2=0.009              #Secondary resistance(in Ohms)\n",
      "X1=5.2                #Leakage reactance of primary(in Ohms)\n",
      "X2=0.015              #Leakage reactance of secondary(in Ohms)\n",
      "\n",
      "\n",
      "#Calculations:\n",
      "I1=VA/V1\n",
      "I2=VA/V2\n",
      "K=V2/V1\n",
      "Re1=R1+(R2/(K*K))\n",
      "Re2=(K*K*R1)+R2\n",
      "Xe1=X1+(X2/(K*K))\n",
      "Xe2=(K*K*X1)+X2\n",
      "Ze1=sqrt((Re1*Re1)+(Xe1*Xe1))\n",
      "Ze2=sqrt((Re2*Re2)+(Xe2*Xe2))\n",
      "tot_copp_loss=(I1*I1*R1)+(I2*I2*R2)\n",
      "tot_copp_eq_p=I1*I1*Re1\n",
      "tot_copp_eq_s=I2*I2*Re2\n",
      "\n",
      "\n",
      "#Result:\n",
      "print \"(a)The equivalent resistance as referred to the primary is %.2f Ohms.\" %(Re1)\n",
      "print \"(b)The equivalent resistance as referred to the secondary is %.4f Ohms.\" %(Re2)\n",
      "print \"(c)The equivalent reactance as referred to the primary is %.2f Ohms.\" %(Xe1)\n",
      "print \"(d)The equivalent reactance as referred to the secondary is %.3f Ohms.\" %(Xe2)\n",
      "print \"(e)The equivalent impedance as referred to the primary is %.2f Ohms.\" %(Ze1)\n",
      "print \"(f)The equivalent impedance as referred to the secondary is %.4f Ohms.\" %(Ze2)\n",
      "print \"(g)The total copper loss by using the individual resistances of the two windings is %.2f W.\" %(tot_copp_loss)\n",
      "print \"   By considering equivalent resistances,\"\n",
      "print \"   Total copper loss(referred to primary equivalent resistance)=%.2f W.\" %(tot_copp_eq_p)   \n",
      "print \"   Total copper loss(referred to secondary equivalent  resistance)=%.2f W\" %(tot_copp_eq_s)"
     ],
     "language": "python",
     "metadata": {},
     "outputs": [
      {
       "output_type": "stream",
       "stream": "stdout",
       "text": [
        "(a)The equivalent resistance as referred to the primary is 7.05 Ohms.\n",
        "(b)The equivalent resistance as referred to the secondary is 0.0176 Ohms.\n",
        "(c)The equivalent reactance as referred to the primary is 11.20 Ohms.\n",
        "(d)The equivalent reactance as referred to the secondary is 0.028 Ohms.\n",
        "(e)The equivalent impedance as referred to the primary is 13.23 Ohms.\n",
        "(f)The equivalent impedance as referred to the secondary is 0.0331 Ohms.\n",
        "(g)The total copper loss by using the individual resistances of the two windings is 910.38 W.\n",
        "   By considering equivalent resistances,\n",
        "   Total copper loss(referred to primary equivalent resistance)=910.38 W.\n",
        "   Total copper loss(referred to secondary equivalent  resistance)=910.38 W\n"
       ]
      }
     ],
     "prompt_number": 22
    },
    {
     "cell_type": "heading",
     "level": 2,
     "metadata": {},
     "source": [
      "Example 13.11,Page number: 393"
     ]
    },
    {
     "cell_type": "code",
     "collapsed": false,
     "input": [
      "#Question:\n",
      "\"\"\"Finding the full-load regulation for different load power factors.\"\"\"\n",
      "\n",
      "from math import cos,acos,sin\n",
      "\n",
      "#Variable Declaration:\n",
      "VA=40e03              #Power rating of the transformer(in Volt-Amperes)   \n",
      "V1=6600.0             #Primary voltage(in Volts) \n",
      "V2=250.0              #Secondary voltage(in Volts)\n",
      "R1=10.0               #Primary resistance(in Ohms)\n",
      "R2=0.02               #Secondary resistance(in Ohms)\n",
      "Xe1=35.0              #Equivalent leakage reactance as referred to the primary(in Ohms)\n",
      "\n",
      "\n",
      "#Calculations:\n",
      "K=V2/V1\n",
      "I2=VA/V2\n",
      "Re2=(K*K*R1)+R2\n",
      "Xe2=(K*K*Xe1)\n",
      "pf=1\n",
      "phi=acos(pf)\n",
      "per_reg_a=(((I2*Re2*pf)+(I2*Xe2*sin(phi)))/V2)*100\n",
      "pf=0.8\n",
      "phi=acos(pf)\n",
      "per_reg_b=(((I2*Re2*pf)+(I2*Xe2*sin(phi)))/V2)*100\n",
      "pf=0.8\n",
      "phi=acos(pf)\n",
      "per_reg_c=(((I2*Re2*pf)-(I2*Xe2*sin(phi)))/V2)*100\n",
      "\n",
      "\n",
      "#Result:\n",
      "print \"(a)For unity power factor of the load:\"\n",
      "print \"The full-load percentage regulation is %.3f percent.\" %(per_reg_a)\n",
      "print \"\\n(b)For  power factor of the load=0.8 lagging:\"\n",
      "print \"The full-load percentage regulation is %.3f percent.\" %(per_reg_b)\n",
      "print \"\\n(c)For power factor of the load=0.8 leading:\"\n",
      "print \"The full-load percentage regulation is %.3f percent.\" %(per_reg_c)"
     ],
     "language": "python",
     "metadata": {},
     "outputs": [
      {
       "output_type": "stream",
       "stream": "stdout",
       "text": [
        "(a)For unity power factor of the load:\n",
        "The full-load percentage regulation is 2.198 percent.\n",
        "\n",
        "(b)For  power factor of the load=0.8 lagging:\n",
        "The full-load percentage regulation is 3.687 percent.\n",
        "\n",
        "(c)For power factor of the load=0.8 leading:\n",
        "The full-load percentage regulation is -0.170 percent.\n"
       ]
      }
     ],
     "prompt_number": 24
    },
    {
     "cell_type": "heading",
     "level": 2,
     "metadata": {},
     "source": [
      "Example 13.12,Page number: 396"
     ]
    },
    {
     "cell_type": "code",
     "collapsed": false,
     "input": [
      "#Question:\n",
      "\"\"\"Finding the number of turns in each winding.\"\"\"\n",
      "\n",
      "from math import sqrt \n",
      "\n",
      "#Variable Declaration:\n",
      "f=50.0                #Operating frequency of the transformer(in Hertz)\n",
      "E1=5000.0             #Primary voltage at no-load(in Volts)\n",
      "E2=250.0              #Secondary voltage at no-load(in Volts)\n",
      "VA_full=150e03        #Power rating of the transformer(in Volt-Ampere)  \n",
      "flux=0.06             #Maximum core flux(in Weber)\n",
      "Pi=1500.0             #Core losses(in Watts)\n",
      "Pc_FL=1800.0          #Full-load copper losses(in Watts)\n",
      "\n",
      "\n",
      "#Calculations:\n",
      "N2=E2/(4.44*f*flux)\n",
      "N1=(E1/E2)*round(N2,0)\n",
      "pf=1\n",
      "Po=0.5*VA_full*pf\n",
      "Pc=0.5*0.5*Pc_FL\n",
      "effi_b=(Po/(Po+Pi+Pc))*100\n",
      "pf=0.8\n",
      "Po=VA_full*pf\n",
      "Pc=Pc_FL\n",
      "effi_c=(Po/(Po+Pi+Pc))*100\n",
      "x=sqrt(Pi/Pc_FL)\n",
      "VA_load=VA_full*x\n",
      "\n",
      "\n",
      "#Result:\n",
      "print \"(a)The number of turns in the primary winding is %d.\" %(round(N1,0)) \n",
      "print \"   The number of turns in the secondary winding is %d.\" %(round(N2,0))\n",
      "print \"(b)The efficiency at half rated kVA and unity power factor is %.3f percent\" %(effi_b)\n",
      "print \"(c)The efficiency at full load and 0.8 power factor lagging is %.3f percent.\" %(effi_c)\n",
      "print \"(d)The kVA load for maximum efficiency is %d kVA.\" %(round((VA_load/1000),0))"
     ],
     "language": "python",
     "metadata": {},
     "outputs": [
      {
       "output_type": "stream",
       "stream": "stdout",
       "text": [
        "(a)The number of turns in the primary winding is 380.\n",
        "   The number of turns in the secondary winding is 19.\n",
        "(b)The efficiency at half rated kVA and unity power factor is 97.466 percent\n",
        "(c)The efficiency at full load and 0.8 power factor lagging is 97.324 percent.\n",
        "(d)The kVA load for maximum efficiency is 137 kVA.\n"
       ]
      }
     ],
     "prompt_number": 17
    },
    {
     "cell_type": "heading",
     "level": 2,
     "metadata": {},
     "source": [
      "Example 13.13,Page number: 397"
     ]
    },
    {
     "cell_type": "code",
     "collapsed": false,
     "input": [
      "#Question:\n",
      "\"\"\"Finding the all-day efficiency of a distribution transformer.\"\"\"\n",
      "\n",
      "#Variable Declaration:\n",
      "kVA_FL=200.0          #Power rating of transformer at full-load(in Volt-Ampere)            \n",
      "Pc_FL=3.02            #Full-load copper losses(in kilo-Watts)  \n",
      "Pi=1.6                #Iron-losses(in kilo-Watts) \n",
      "\n",
      "\n",
      "#Calculations:\n",
      "Pi_24_hrs=24.0*Pi\n",
      "\"\"\" For 80 kW load at unity power factor in 6 hrs:\"\"\"\n",
      "Po_1=80\n",
      "t1=6\n",
      "pf_1=1\n",
      "output_ene_1=Po_1*t1\n",
      "kVA_1=Po_1/pf_1\n",
      "Pc_1=pow((kVA_1/kVA_FL),2)*Pc_FL*t1\n",
      "\"\"\" For 160 kW load at 0.8 power factor in 8 hrs:\"\"\"\n",
      "Po_2=160\n",
      "t2=8\n",
      "pf_2=0.8\n",
      "output_ene_2=Po_2*t2\n",
      "kVA_2=Po_2/pf_2\n",
      "Pc_2=pow((kVA_2/kVA_FL),2)*Pc_FL*t2\n",
      "\"\"\" For no load period of 10 hrs:\"\"\"\n",
      "Po_3=0\n",
      "t3=10\n",
      "output_ene_3=0\n",
      "Pc_3=0\n",
      "Po_total=output_ene_1+output_ene_2+output_ene_3\n",
      "Pc_total=Pc_1+Pc_2+Pc_3\n",
      "all_day_effi=Po_total/(Po_total+Pc_total+Pi_24_hrs)\n",
      "\n",
      "\n",
      "#Result:\n",
      "print \"The all day efficiency of the distribution transformer is %.3f percent.\" %(all_day_effi*100)"
     ],
     "language": "python",
     "metadata": {},
     "outputs": [
      {
       "output_type": "stream",
       "stream": "stdout",
       "text": [
        "The all day efficiency of the distribution transformer is 96.414 percent.\n"
       ]
      }
     ],
     "prompt_number": 12
    },
    {
     "cell_type": "heading",
     "level": 2,
     "metadata": {},
     "source": [
      "Example 13.14,Page number: 398"
     ]
    },
    {
     "cell_type": "code",
     "collapsed": false,
     "input": [
      "#Question:\n",
      "\"\"\"Finding the apparent power rating of an autotransformer.\"\"\"\n",
      "\n",
      "#Variable Declaration:\n",
      "V_rated=120.0          #Voltage rating of the transformer(in Volts)\n",
      "VA=12e03               #Power rating of the transformer(in Volt-Ampere)\n",
      "\n",
      "\n",
      "#Calculations:\n",
      "I1=VA/V_rated\n",
      "I2=I1\n",
      "input_app_pow=240*I1\n",
      "output_app_pow=120*2*I1\n",
      "\n",
      "\n",
      "#Result:\n",
      "print \"In auto-tranformer mode, the input apparent power is %d kVA and the output apparent power is %d kVA.\" %(round((input_app_pow/1000),0),round((output_app_pow/1000),0))\n",
      "print \"Thus, the apparent power capacity of the 12-kVA transformer is doubled by the auto-transformer connection.\"\n",
      "print \"In effect,half the apparent power is transformed and half is conducted directly to the secondary side.\""
     ],
     "language": "python",
     "metadata": {},
     "outputs": [
      {
       "output_type": "stream",
       "stream": "stdout",
       "text": [
        "In auto-tranformer mode, the input apparent power is 24 kVA and the output apparent power is 24 kVA.\n",
        "Thus, the apparent power capacity of the 12-kVA transformer is doubled by the auto-transformer connection.\n",
        "In effect,half the apparent power is transformed and half is conducted directly to the secondary side.\n"
       ]
      }
     ],
     "prompt_number": 10
    },
    {
     "cell_type": "heading",
     "level": 2,
     "metadata": {},
     "source": [
      "Example 13.15,Page number: 401"
     ]
    },
    {
     "cell_type": "code",
     "collapsed": false,
     "input": [
      "#Question:\n",
      "\"\"\"Finding the secondary line voltage on no load when the windings are connected(a)star/delta,(b)delta/star.\"\"\"\n",
      "\n",
      "from math import sqrt\n",
      "\n",
      "#Variable Declaration:\n",
      "V_L1=3300.0           #Supply voltage(in Volts)\n",
      "Np=840.0              #Number of turns in the primary\n",
      "Ns=72.0               #Number of turns in the secondary\n",
      "\n",
      "\n",
      "#Calculations:\n",
      "Vph_1a=V_L1/sqrt(3)\n",
      "Vph_2a=Vph_1a*(Ns/Np)\n",
      "V_L2a=Vph_2a\n",
      "Vph_1b=V_L1\n",
      "Vph_2b=Vph_1b*(Ns/Np)\n",
      "V_L2b=Vph_2b*sqrt(3)\n",
      "\n",
      "\n",
      "#Result:\n",
      "print(\"(a)For star/delta connection: \")\n",
      "print \"The secondary line voltage on no load is %.2f V.\" %(V_L2a)\n",
      "print(\"(b)For delta/star connection: \")\n",
      "print \"The secondary line voltage on no load is %.2f V.\" %(V_L2b)"
     ],
     "language": "python",
     "metadata": {},
     "outputs": [
      {
       "output_type": "stream",
       "stream": "stdout",
       "text": [
        "(a)For star/delta connection: \n",
        "The secondary line voltage on no load is 163.31 V.\n",
        "(b)For delta/star connection: \n",
        "The secondary line voltage on no load is 489.92 V.\n"
       ]
      }
     ],
     "prompt_number": 7
    },
    {
     "cell_type": "heading",
     "level": 2,
     "metadata": {},
     "source": [
      "Example 13.16,Page number: 403"
     ]
    },
    {
     "cell_type": "code",
     "collapsed": false,
     "input": [
      "#Question:\n",
      "\"\"\"Finding the magnetising current and the core-loss current in a single-phase transformer.\"\"\" \n",
      " \n",
      "from math import sqrt\n",
      "\n",
      "#Variable Declaration:\n",
      "VA=12e03              #Power rating of the transformer(in Volt-Ampere) \n",
      "Vp=400.0              #Primary voltage(in Volts)\n",
      "Vs=200.0              #Secondary voltage(in Volts)\n",
      "Wo=120.0              #Power in open-circuit test(in Watts)   \n",
      "V1=200.0              #Voltage in open-circuit test(in Volts)\n",
      "I_0=1.3               #Current in open-circuit test(in Amperes)\n",
      "Isc=30.0              #Current in short-circuit test(in Amperes)\n",
      "Wsc=200.0             #Power in short-circuit test(in Watts)\n",
      "Vsc=22.0              #Voltage in short-circuit test(in Volts)\n",
      "\n",
      "\n",
      "#Calculations:\n",
      "Iw=Wo/V1\n",
      "Im=sqrt((I_0*I_0)-(Iw*Iw))\n",
      "R_0=V1/Iw\n",
      "X_0=V1/Im\n",
      "K=Vs/Vp\n",
      "I_FL=VA/Vp\n",
      "Re1=Wsc/(Isc*Isc)\n",
      "Ze1=Vsc/Isc\n",
      "Xe1=sqrt((Ze1*Ze1)-(Re1*Re1))\n",
      "Re2=K*K*Re1\n",
      "Xe2=K*K*Xe1\n",
      "\n",
      "\n",
      "#Result:\n",
      "print \"(a)The magnetising current is %.2f A and the core-loss current is %.2f A\" %(Im,Iw)\n",
      "print \"(b)The parameters of equivalent circuit as referred to the low voltage winding(secondary winding) are: \\n    Re2=%.4f ohm \\n    Xe2=%.4f ohm\" %(Re2,Xe2)"
     ],
     "language": "python",
     "metadata": {},
     "outputs": [
      {
       "output_type": "stream",
       "stream": "stdout",
       "text": [
        "(a)The magnetising current is 1.15 A and the core-loss current is 0.60 A\n",
        "(b)The parameters of equivalent circuit as referred to the low voltage winding(secondary winding) are: \n",
        "    Re2=0.0556 ohm \n",
        "    Xe2=0.1747 ohm\n"
       ]
      }
     ],
     "prompt_number": 2
    },
    {
     "cell_type": "heading",
     "level": 2,
     "metadata": {},
     "source": [
      "Example 13.17,Page number: 404"
     ]
    },
    {
     "cell_type": "code",
     "collapsed": false,
     "input": [
      "#Question:\n",
      "\"\"\"Finding the secondary emf in a transformer.\"\"\"\n",
      "\n",
      "#Variable Declaration:\n",
      "VA=25.0e03            #Power rating of the transformer(in VA)\n",
      "N1=500.0              #Number of turns in the primary winding \n",
      "N2=40.0               #Number of turns in the secondary winding\n",
      "V1=3e03               #Voltage of the supply connected to primary(in Volts)\n",
      "f=50.0                #Frequency of the supply(in Hertz)\n",
      "\n",
      "\n",
      "#Calculations:\n",
      "K=N2/N1\n",
      "E2=K*V1\n",
      "I1=VA/V1\n",
      "I2=I1/K\n",
      "flux=V1/(4.44*f*N1)\n",
      "\n",
      "\n",
      "#Result:\n",
      "print \"(a)The secondary emf is %.2f V.\" %(E2)\n",
      "print \"(b)The primary current on full-load is %.2f A and the secondary current on full-load is %.2f A.\" %(I1,I2)\n",
      "print \"(c)The maximum flux in the core is %.4f Wb.\" %(flux)"
     ],
     "language": "python",
     "metadata": {},
     "outputs": [
      {
       "output_type": "stream",
       "stream": "stdout",
       "text": [
        "(a)The secondary emf is 240.00 V.\n",
        "(b)The primary current on full-load is 8.33 A and the secondary current on full-load is 104.17 A.\n",
        "(c)The maximum flux in the core is 0.0270 Wb.\n"
       ]
      }
     ],
     "prompt_number": 3
    },
    {
     "cell_type": "heading",
     "level": 2,
     "metadata": {},
     "source": [
      "Example 13.18,Page number: 404"
     ]
    },
    {
     "cell_type": "code",
     "collapsed": false,
     "input": [
      "#Question:\n",
      "\"\"\"Finding the active cross-sectional area of the core.\"\"\"\n",
      "\n",
      "from math import sqrt\n",
      "\n",
      "#Variable Declaration:\n",
      "N1=50.0               #Number of turns in the primary winding\n",
      "B=1.0                 #Maximum flux density(in Tesla)\n",
      "f=50.0                #Frequency rating of the transformer(in Hertz)\n",
      "V=230.0               #Voltage rating of the transformer(in Volts)\n",
      "\n",
      "\n",
      "#Calculations:\n",
      "E1=V\n",
      "flux=E1/(4.44*f*N1)\n",
      "A=flux/B\n",
      "\"\"\"Due to the insulation of laminations from each other,the gross area is about 10% greater than the active area.\"\"\" \n",
      "gross=1.1*A\n",
      "a=sqrt(gross)\n",
      "\n",
      "\n",
      "#Result:\n",
      "print \"(a)The active cross sectional area of the core is %.5f square m.\" %(A)\n",
      "print \"(b)The side of a square core is %.2f m.\" %(a)"
     ],
     "language": "python",
     "metadata": {},
     "outputs": [
      {
       "output_type": "stream",
       "stream": "stdout",
       "text": [
        "(a)The active cross sectional area of the core is 0.02072 square m.\n",
        "(b)The side of a square core is 0.15 m.\n"
       ]
      }
     ],
     "prompt_number": 8
    },
    {
     "cell_type": "heading",
     "level": 2,
     "metadata": {},
     "source": [
      "Example 13.19,Page number: 405"
     ]
    },
    {
     "cell_type": "code",
     "collapsed": false,
     "input": [
      "#Question:\n",
      "\"\"\"Finding the output of the transformer in kVA.\"\"\"\n",
      "\n",
      "#Variable Declaration:\n",
      "A=150e-04             #Cross-sectional area of the core(in square metres)\n",
      "Bm=1.1                #Maximum flux density(in Tesla)\n",
      "f=50.0                #Frequency of the supply(in Hertz)\n",
      "N2=66.0               #Number of turns in the secondary winding\n",
      "Z_L=4.0               #Load impedance(in Ohms)\n",
      "\n",
      "\n",
      "#Calculations:\n",
      "flux=Bm*A\n",
      "E2=4.44*flux*f*N2\n",
      "I2=E2/Z_L\n",
      "kVA=(E2*I2)/1000.0\n",
      "\n",
      "\n",
      "#Result:\n",
      "print \"The output in kVA when connected to a 4 Ohms load impedance is %.2f kVA.\" %(kVA)"
     ],
     "language": "python",
     "metadata": {},
     "outputs": [
      {
       "output_type": "stream",
       "stream": "stdout",
       "text": [
        "The output in kVA when connected to a 4 Ohms load impedance is 14.61 kVA.\n"
       ]
      }
     ],
     "prompt_number": 9
    },
    {
     "cell_type": "heading",
     "level": 2,
     "metadata": {},
     "source": [
      "Example 13.20,Page number: 405"
     ]
    },
    {
     "cell_type": "code",
     "collapsed": false,
     "input": [
      "#Question:\n",
      "\"\"\"Finding the magnetising current and the iron loss.\"\"\"\n",
      "\n",
      "#Variable Declaration:\n",
      "I0=1.0                #No-load primary current(in Amperes)\n",
      "pf=0.24               #Power factor\n",
      "V1=11e03              #Primary voltage(in Volts)\n",
      "V2=400                #Secondary voltage(in Volts)\n",
      "\n",
      "\n",
      "#Calculations:\n",
      "Iw=I0*pf\n",
      "Im=sqrt((I0*I0)-(Iw*Iw))\n",
      "Pi=V1*I0*pf\n",
      "\n",
      "\n",
      "#Result:\n",
      "print \"(a)The core-loss current is %.2f A.\" %(Iw) \n",
      "print \"(b)The magnetising current is %.3f A.\" %(Im)\n",
      "print \"(c)The iron loss is %.2f W.\" %(Pi)"
     ],
     "language": "python",
     "metadata": {},
     "outputs": [
      {
       "output_type": "stream",
       "stream": "stdout",
       "text": [
        "(a)The core-loss current is 0.24 A.\n",
        "(b)The magnetising current is 0.971 A.\n",
        "(c)The iron loss is 2640.00 W.\n"
       ]
      }
     ],
     "prompt_number": 11
    },
    {
     "cell_type": "heading",
     "level": 2,
     "metadata": {},
     "source": [
      "Example 13.21,Page number: 405"
     ]
    },
    {
     "cell_type": "code",
     "collapsed": false,
     "input": [
      "#Question:\n",
      "\"\"\"Finding the supply voltage and the power factor.\"\"\"\n",
      "\n",
      "from cmath import rect,phase\n",
      "from math import degrees,radians\n",
      "\n",
      "#Variable Declaration:\n",
      "K=0.5                    #Turns ratio of the step-down transformer\n",
      "R1=2.5                   #Resistance of the primary winding(in Ohms)\n",
      "X1=6.0                   #Reactance of the primary winding(in Ohms)\n",
      "R2=0.25                  #Resistance of the secondary winding(in Ohms)\n",
      "X2=1                     #Reactance of the secondary winding(in Ohms)\n",
      "Im=51.5e-03              #Magnetising current(in Amperes)\n",
      "Iw=20.6e-03              #Core-loss current(in Amperes)\n",
      "Z_L=rect(25,radians(30)) #Load impedance(in Ohms)\n",
      "Vo=50.0                  #Output voltage(in Volts)\n",
      "\n",
      "\n",
      "#Calculations:\n",
      "Z1=R1+1j*X1\n",
      "Z2=R2+1j*X2\n",
      "V2=rect(Vo,0)\n",
      "I2=V2/Z_L\n",
      "E2=V2+(I2*Z2)\n",
      "E1=E2/K\n",
      "E1_minus=-E1\n",
      "I1_a=-I2*K\n",
      "\"\"\"Im lags -E1 by 90 degrees and Iw is in phase with -E1.\"\"\"\n",
      "Im_com=rect(Im,(phase(E1_minus)-radians(90)))\n",
      "Iw_com=rect(Iw,phase(E1_minus))\n",
      "I1=I1_a+Im_com+Iw_com\n",
      "V1=E1_minus+(I1*Z1)\n",
      "pf_ang=phase(V1)-phase(I1)\n",
      "pf=cos(pf_ang)\n",
      "\n",
      "\n",
      "#Result:I\n",
      "print \"The supply voltage is %.4f V at a phase angle of %.2f degrees.\" %(abs(V1),degrees(phase(V1)))\n",
      "print \"The current drawn from the supply is %.4f A at a phase angle of %.2f degrees.\" %(abs(I1),degrees(phase(I1)))\n",
      "print \"The power factor is %.3f lagging.\" %(pf)"
     ],
     "language": "python",
     "metadata": {},
     "outputs": [
      {
       "output_type": "stream",
       "stream": "stdout",
       "text": [
        "The supply voltage is 108.6120 V at a phase angle of -176.35 degrees.\n",
        "The current drawn from the supply is 1.0451 A at a phase angle of 148.19 degrees.\n",
        "The power factor is 0.815 lagging.\n"
       ]
      }
     ],
     "prompt_number": 14
    },
    {
     "cell_type": "heading",
     "level": 2,
     "metadata": {},
     "source": [
      "Example 13.22,Page number: 406"
     ]
    },
    {
     "cell_type": "code",
     "collapsed": false,
     "input": [
      "#Question:\n",
      "\"\"\"Finding the copper loss in the transformer.\"\"\"\n",
      "\n",
      "#Variable Declaration:\n",
      "K=0.25                #Turns ratio of the step-down transformer\n",
      "R1=1.4                #Resistance of the primary(in Ohms)\n",
      "X1=5.5                #Reactance of the primary(in Ohms)\n",
      "R2=0.06               #Resistance of the secondary(in Ohms)\n",
      "X2=0.04               #Reactance of the secondary(in Ohms)\n",
      "Vsc=24.0              #Voltage of the HV winding(in Volts)\n",
      "\n",
      "\n",
      "#Calculations:\n",
      "Re1=R1+(R2/(K*K))\n",
      "Xe1=X1+(X2/(K*K))\n",
      "Ze1=sqrt((Re1*Re1)+(Xe1*Xe1))\n",
      "Isc=Vsc/Ze1\n",
      "I1=Isc\n",
      "I2=I1/K\n",
      "P=I1*I1*Re1\n",
      "pf=P/(Vsc*I1)\n",
      "\n",
      "\n",
      "#Result:\n",
      "print \"(a)The current in the LV winding is %.3f A.\" %(I2)\n",
      "print \"(b)The copper loss in the transformer is %.2f W.\" %(P)\n",
      "print \"(c)The power factor is %.4f.\" %(pf)"
     ],
     "language": "python",
     "metadata": {},
     "outputs": [
      {
       "output_type": "stream",
       "stream": "stdout",
       "text": [
        "(a)The current in the LV winding is 14.594 A.\n",
        "(b)The copper loss in the transformer is 31.42 W.\n",
        "(c)The power factor is 0.3588.\n"
       ]
      }
     ],
     "prompt_number": 13
    },
    {
     "cell_type": "heading",
     "level": 2,
     "metadata": {},
     "source": [
      "Example 13.23,Page number: 406"
     ]
    },
    {
     "cell_type": "code",
     "collapsed": false,
     "input": [
      "#Question:\n",
      "\"\"\"Finding the regulation and efficiency.\"\"\"\n",
      "\n",
      "from math import acos\n",
      "\n",
      "#Variable Declaration:\n",
      "VA=20e03              #Power rating of the transformer(in Volt-Amperes)\n",
      "V1=2200.0             #Voltage of the primary winding(in Volts)\n",
      "V2=220.0              #Voltage of the secondary winding(in Volts)\n",
      "f=50.0                #Frequency rating of the transformer(in Hertz)\n",
      "Vsc=86.0              #Voltage measured during short-circuit test(in Volts)\n",
      "Isc=10.5              #Current measured during short-circuit test(in Amperes)\n",
      "Psc=360.0             #Power measured during short-circuit test(in Watts)\n",
      "Voc=220.0             #Voltage measured during open-circuit test(in Volts)\n",
      "Ioc=4.2               #Current measured during open-circuit test(in Amperes)\n",
      "Poc=148.0             #Power measured during open-circuit test(in Watts)\n",
      "pf=0.8                #Lagging power factor\n",
      "\n",
      "\n",
      "#Calculations:\n",
      "Ze1=Vsc/Isc\n",
      "Re1=Psc/(Isc*Isc)\n",
      "Xe1=sqrt((Ze1*Ze1)-(Re1*Re1))\n",
      "I1=VA/V1\n",
      "reg=(I1*((Re1*pf)+(Xe1*sin(acos(pf)))))/V1\n",
      "Pc=(I1/Isc)*(I1/Isc)*Psc\n",
      "Pi=Poc\n",
      "Po=VA*pf\n",
      "effi=Po/(Po+Pc+Pi)\n",
      "pf_sc=Re1/Ze1\n",
      "\n",
      "\n",
      "#Result:\n",
      "print \"(a)The regulation at 0.8 pf lagging at full load is %.2f per cent.\" %(reg*100)    \n",
      "print \"   The efficiency is %.2f per cent.\" %(effi*100)\n",
      "print \"(b)The power factor on short circuit is %.3f lagging.\" %(pf_sc)"
     ],
     "language": "python",
     "metadata": {},
     "outputs": [
      {
       "output_type": "stream",
       "stream": "stdout",
       "text": [
        "(a)The regulation at 0.8 pf lagging at full load is 2.94 per cent.\n",
        "   The efficiency is 97.45 per cent.\n",
        "(b)The power factor on short circuit is 0.399 lagging.\n"
       ]
      }
     ],
     "prompt_number": 20
    },
    {
     "cell_type": "heading",
     "level": 2,
     "metadata": {},
     "source": [
      "Example 13.24,Page number: 407"
     ]
    },
    {
     "cell_type": "code",
     "collapsed": false,
     "input": [
      "#Question:\n",
      "\"\"\"Finding the efficiency at half of full-load current.\"\"\"\n",
      "\n",
      "#Variable Declaration:\n",
      "VA=200e03             #Power rating of the transformer(in VA)\n",
      "effi_FL=0.98          #Full-load efficiency of the transformer\n",
      "pf=0.8                #Lagging power factor\n",
      "x=0.75                #Fraction of load at which maximum efficiency occurs\n",
      "\n",
      "\n",
      "#Calculations:\n",
      "Po=VA*pf\n",
      "Pin=Po/effi_FL\n",
      "tot_loss=Pin-Po\n",
      "Pc=tot_loss/(1+(x*x))\n",
      "Pi=tot_loss-Pc\n",
      "x_new=0.5\n",
      "P1=(x_new*x_new*Pc)+Pi\n",
      "effi_half=(Po/2.0)/((Po/2.0)+P1)\n",
      "\n",
      "\n",
      "#Result:\n",
      "print \"The efficiency at half of full-load current is %.3f per cent.\" %(effi_half*100)"
     ],
     "language": "python",
     "metadata": {},
     "outputs": [
      {
       "output_type": "stream",
       "stream": "stdout",
       "text": [
        "The efficiency at half of full-load current is 97.922 per cent.\n"
       ]
      }
     ],
     "prompt_number": 21
    },
    {
     "cell_type": "heading",
     "level": 2,
     "metadata": {},
     "source": [
      "Example 13.25,Page number: 408"
     ]
    },
    {
     "cell_type": "code",
     "collapsed": false,
     "input": [
      "#Question:\n",
      "\"\"\"Finding the efficiency at different rated kVAs.\"\"\"\n",
      "\n",
      "#Variable Declaration:\n",
      "VA=150e03             #Power rating of the transformer(in Volt-Amperes)\n",
      "V1=5000.0             #Voltage of the primary winding(in Volts)\n",
      "V2=250.0              #Voltage of the secondary winding(in Volts)\n",
      "f=50.0                #Frequency rating of the transformer(in Hertz)\n",
      "Pc=1.8e03             #Full-load copper losses(in Watts)\n",
      "Pi=1.5e03             #Core losses(in Watts)\n",
      "flux=60e-03           #Maximum core flux(in Webers)\n",
      "pf=0.8                #Lagging power factor\n",
      "\n",
      "\n",
      "#Calculations:\n",
      "N2=V2/(4.44*f*flux)\n",
      "N1=round(N2,0)*(V1/V2)\n",
      "\"\"\"Case 1:\"\"\"\n",
      "Po=(VA*pf)\n",
      "effi_a=Po/(Po+Pi+Pc)\n",
      "\"\"\"Case 2:\"\"\"\n",
      "pf=1.0\n",
      "Po=0.5*VA*pf\n",
      "Pc_new=0.5*0.5*Pc\n",
      "effi_b=Po/(Po+Pi+Pc_new)\n",
      "\n",
      "x=sqrt(Pi/Pc)\n",
      "VA_max_effi=x*VA\n",
      "\n",
      "\n",
      "#Result:\n",
      "print \"(a)The number of turns in the primary winding is %d turns.\" %(round(N1,0))\n",
      "print \"   The number of turns in the secondary winding is %d turns.\" %(round(N2,0))\n",
      "print \"(b)The efficiency at full rated kVA with 0.8 pf lagging is %.2f percent.\" %(effi_a*100)  \n",
      "print \"(c)The efficiency at half rated kVA with unity pf is %.2f percent.\" %(effi_b*100)\n",
      "print \"(d)The kVA load for maximum efficieny is %d kVA.\" %(round((VA_max_effi/1000),0)) "
     ],
     "language": "python",
     "metadata": {},
     "outputs": [
      {
       "output_type": "stream",
       "stream": "stdout",
       "text": [
        "(a)The number of turns in the primary winding is 380 turns.\n",
        "   The number of turns in the secondary winding is 19 turns.\n",
        "(b)The efficiency at full rated kVA with 0.8 pf lagging is 97.32 percent.\n",
        "(c)The efficiency at half rated kVA with unity pf is 97.47 percent.\n",
        "(d)The kVA load for maximum efficieny is 137 kVA.\n"
       ]
      }
     ],
     "prompt_number": 30
    },
    {
     "cell_type": "heading",
     "level": 2,
     "metadata": {},
     "source": [
      "Example 13.26,Page number: 409 "
     ]
    },
    {
     "cell_type": "code",
     "collapsed": false,
     "input": [
      "#Question:\n",
      "\"\"\"Finding the impedance on the high voltage side.\"\"\"\n",
      "\n",
      "#Variable Declaration:\n",
      "VA=50e03              #Power rating of the transformer(in VA)\n",
      "V1=2400.0             #Voltage of primary winding(in Volts)\n",
      "V2=240.0              #Voltage of secondary winding(in Volts)\n",
      "f=50.0                #Frequency rating of the transformer(in Hertz)\n",
      "LV=240.0              #Low tension voltage(in Volts)\n",
      "\n",
      "\n",
      "#Calculations:\n",
      "I2=VA/V2\n",
      "Z_L=V2/I2\n",
      "K=V2/V1\n",
      "Zeq=Z_L/(K*K)\n",
      "I_high=K*I2\n",
      "\n",
      "\n",
      "#Result:\n",
      "print \"(a)The load impedance connected to the LV side is %.3f Ohms.\" %(Z_L)\n",
      "print \"(b)The load impedance referred to to the high voltage side is %.2f Ohms.\" %(Zeq)\n",
      "print \"(c)The current referred to the high voltage side is %.3f A.\" %(I_high) "
     ],
     "language": "python",
     "metadata": {},
     "outputs": [
      {
       "output_type": "stream",
       "stream": "stdout",
       "text": [
        "(a)The load impedance connected to the LV side is 1.152 Ohms.\n",
        "(b)The load impedance referred to to the high voltage side is 115.20 Ohms.\n",
        "(c)The current referred to the high voltage side is 20.833 A.\n"
       ]
      }
     ],
     "prompt_number": 3
    },
    {
     "cell_type": "heading",
     "level": 2,
     "metadata": {},
     "source": [
      "Example 13.27,Page number: 409"
     ]
    },
    {
     "cell_type": "code",
     "collapsed": false,
     "input": [
      "#Question:\n",
      "\"\"\"Finding the kVA output of the transformer.\"\"\"\n",
      "\n",
      "#Variable Declaration:\n",
      "VA=10e03              #Power rating of the transformer(in VA)\n",
      "V1=2300.0             #Voltage of HT winding(in Volts)\n",
      "V2=230.0              #Voltage of LT winding(in Volts)\n",
      "f=50.0                #Frequency rating of the transformer(in Hertz)\n",
      "\n",
      "\n",
      "#Calculations:\n",
      "I_HT=VA/V1\n",
      "I_LT=VA/V2\n",
      "I2=I_HT+I_LT\n",
      "I1=I_LT\n",
      "kVA_out=(V1*I2)/1000.0\n",
      "VA_c=(V1*I1)\n",
      "VA_i=V1*(I2-I1)\n",
      "K=V1/(V1+V2)\n",
      "\n",
      "\n",
      "#Result:\n",
      "print \"(a)The current distribution in the windings: load current=%.2f A and the input current is %.2f A.\" %(I2,I1)\n",
      "print \"(b)The kVA output is %.2f kVA.\" %(kVA_out)\n",
      "print \"(c)The volt-amperes transferred conductively is %.2f kVA\" %(VA_c/1000.0) \n",
      "print \"   The volt-amperes transferred inductively is %.2f kVA\" %(VA_i/1000.0)\n",
      "print \"(d)The saving in copper as compared to the two-winding transformer is %.2f per cent.\" %(K*100)"
     ],
     "language": "python",
     "metadata": {},
     "outputs": [
      {
       "output_type": "stream",
       "stream": "stdout",
       "text": [
        "(a)The current distribution in the windings: load current=47.83 A and the input current is 43.48 A.\n",
        "(b)The kVA output is 110.00 kVA.\n",
        "(c)The volt-amperes transferred conductively is 100.00 kVA\n",
        "   The volt-amperes transferred inductively is 10.00 kVA\n",
        "(d)The saving in copper as compared to the two-winding transformer is 90.91 per cent.\n"
       ]
      }
     ],
     "prompt_number": 8
    }
   ],
   "metadata": {}
  }
 ]
}