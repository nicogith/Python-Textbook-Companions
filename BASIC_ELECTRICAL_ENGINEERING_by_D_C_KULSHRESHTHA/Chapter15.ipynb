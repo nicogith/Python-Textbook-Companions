{
 "metadata": {
  "name": ""
 },
 "nbformat": 3,
 "nbformat_minor": 0,
 "worksheets": [
  {
   "cells": [
    {
     "cell_type": "heading",
     "level": 1,
     "metadata": {},
     "source": [
      "Chapter 15: INDUCTION MOTORS"
     ]
    },
    {
     "cell_type": "heading",
     "level": 2,
     "metadata": {},
     "source": [
      "Example 15.1,Page number: 480"
     ]
    },
    {
     "cell_type": "code",
     "collapsed": false,
     "input": [
      "#Question:\n",
      "\"\"\"Finding the synchronous speed of an induction motor and the frequency of rotor currents at standstill.\"\"\"\n",
      "\n",
      "#Variable Declaration:\n",
      "P=6.0                 #Number of poles \n",
      "f=50.0                #Operating frequency of the induction motor(in Hertz)\n",
      "s_no_load=0.01        #Slip at no-load  \n",
      "s_full_load=0.03      #Slip at full-load\n",
      "\n",
      "\n",
      "#Calculations:\n",
      "Ns=(120.0*f)/P\n",
      "N_no_load=Ns*(1-s_no_load)\n",
      "N_full_load=Ns*(1-s_full_load)\n",
      "s_standstill=1.0\n",
      "fr_standstill=s_standstill*f\n",
      "fr_full_load=s_full_load*f\n",
      "\n",
      "\n",
      "#Result:\n",
      "print \"(a)The synchronous speed is %d rpm.\" %(Ns) \n",
      "print \"(b)The no-load speed is %d rpm.\" %(N_no_load) \n",
      "print \"(c)The full-load speed is %d rpm.\" %(N_full_load) \n",
      "print \"(d)The frequency of rotor-currents at standstill is %.2f Hz.\" %(fr_standstill)\n",
      "print \"(e)The frequency of rotor-currents at full-load is %.2f Hz.\" %(fr_full_load)"
     ],
     "language": "python",
     "metadata": {},
     "outputs": [
      {
       "output_type": "stream",
       "stream": "stdout",
       "text": [
        "(a)The synchronous speed is 1000 rpm.\n",
        "(b)The no-load speed is 990 rpm.\n",
        "(c)The full-load speed is 970 rpm.\n",
        "(d)The frequency of rotor-currents at standstill is 50.00 Hz.\n",
        "(e)The frequency of rotor-currents at full-load is 1.50 Hz.\n"
       ]
      }
     ],
     "prompt_number": 1
    },
    {
     "cell_type": "heading",
     "level": 2,
     "metadata": {},
     "source": [
      "Example 15.2,Page number: 480"
     ]
    },
    {
     "cell_type": "code",
     "collapsed": false,
     "input": [
      "#Question:\n",
      "\"\"\"Finding the frequency of rotor-current in an induction motor.\"\"\"\n",
      "\n",
      "#Variable Declaration:\n",
      "P=12.0                #Number of poles                 \n",
      "f=50.0                #Operating frequency of induction motor(in Hertz)\n",
      "N=485.0               #Speed of the motor(in rpm)  \n",
      "\n",
      "\n",
      "#Calculations:\n",
      "Ns=(120.0*f)/P\n",
      "s=(Ns-N)/Ns\n",
      "fr=s*f\n",
      "\n",
      "\n",
      "#Result:\n",
      "print \"The frequency of the rotor-currents is %.2f Hz.\" %(fr)  "
     ],
     "language": "python",
     "metadata": {},
     "outputs": [
      {
       "output_type": "stream",
       "stream": "stdout",
       "text": [
        "The frequency of the rotor-currents is 1.50 Hz.\n"
       ]
      }
     ],
     "prompt_number": 2
    },
    {
     "cell_type": "heading",
     "level": 2,
     "metadata": {},
     "source": [
      "Example 15.3,Page number: 481 "
     ]
    },
    {
     "cell_type": "code",
     "collapsed": false,
     "input": [
      "#Question:\n",
      "\"\"\"Finding the full-load slip and speed of an induction motor.\"\"\"\n",
      "\n",
      "#Variable Declaration:\n",
      "fr=2.0                #Frequency of thr rotoremf at full-load(in Hertz) \n",
      "f=50.0                #Frequency of the supply(in Hertz)\n",
      "P=6.0                 #Number of poles \n",
      "\n",
      "\n",
      "#Calculations:\n",
      "s=fr/f\n",
      "Ns=(120*f)/P\n",
      "N=Ns*(1-s)\n",
      "\n",
      "\n",
      "#Result:\n",
      "print \"The slip at full-load is %.2f percent.\" %(s*100)\n",
      "print \"The full-load speed is %d rpm.\" %(N) "
     ],
     "language": "python",
     "metadata": {},
     "outputs": [
      {
       "output_type": "stream",
       "stream": "stdout",
       "text": [
        "The slip at full-load is 4.00 percent.\n",
        "The full-load speed is 960 rpm.\n"
       ]
      }
     ],
     "prompt_number": 3
    },
    {
     "cell_type": "heading",
     "level": 2,
     "metadata": {},
     "source": [
      "Example 15.4,Page number: 481 "
     ]
    },
    {
     "cell_type": "code",
     "collapsed": false,
     "input": [
      "#Question:\n",
      "\"\"\"Finding the synchronous speed and the rotor frequency of an induction motor.\"\"\"\n",
      "\n",
      "#Variable Declaration:\n",
      "f=50.0                #Frequency of the supply(in Hertz)  \n",
      "P=4.0                 #Number of poles\n",
      "\n",
      "\n",
      "#Calculations:\n",
      "Ns=(120*f)/P\n",
      "s1=0.04\n",
      "N1=Ns*(1-s1) \n",
      "N2=600\n",
      "s2=(Ns-N2)/Ns\n",
      "fr=s2*f\n",
      "\n",
      "\n",
      "#Result:\n",
      "print \"(a)The synchronous speed is %d rpm.\" %(Ns)\n",
      "print \"(b)The speed of the rotor when the slip is 0.04 is %d rpm.\" %(N1)\n",
      "print \"(c)The rotor frequency when the speed of the rotor is 600 rpm is %.2f Hz.\" %(fr)"
     ],
     "language": "python",
     "metadata": {},
     "outputs": [
      {
       "output_type": "stream",
       "stream": "stdout",
       "text": [
        "(a)The synchronous speed is 1500 rpm.\n",
        "(b)The speed of the rotor when the slip is 0.04 is 1440 rpm.\n",
        "(c)The rotor frequency when the speed of the rotor is 600 rpm is 30.00 Hz.\n"
       ]
      }
     ],
     "prompt_number": 5
    },
    {
     "cell_type": "heading",
     "level": 2,
     "metadata": {},
     "source": [
      "Example 15.5,Page number: 484 "
     ]
    },
    {
     "cell_type": "code",
     "collapsed": false,
     "input": [
      "#Question:\n",
      "\"\"\"Finding the rotor current of a three-phase induction motor.\"\"\"\n",
      "\n",
      "from math import sqrt,pow,acos,radians,degrees\n",
      "\n",
      "#Variable Declaration:\n",
      "E_L=100.0              #Induced EMF(in Volts)\n",
      "R2=0.05                #Resistance of rotor windings(in Ohms) \n",
      "X_20=0.1               #Standstill reactance of rotor windings(in Ohms)\n",
      "\n",
      "\n",
      "#Calculations:\n",
      "E_20=E_L/sqrt(3.0)\n",
      "s_a=0.04\n",
      "E2_a=s_a*E_20\n",
      "Z2_a=sqrt((R2*R2)+pow((s_a*X_20),2))\n",
      "I2_a=E2_a/Z2_a\n",
      "angle_a=acos(R2/Z2_a)\n",
      "s_b=1.0\n",
      "E2_b=s_b*E_20\n",
      "Z2_b=sqrt((R2*R2)+pow((s_b*X_20),2))\n",
      "I2_b=E2_b/Z2_b\n",
      "angle_b=acos(R2/Z2_b)\n",
      "\n",
      "\n",
      "#Result:\n",
      "print \"(a)At 4% slip : \"\n",
      "print \"   The rotor current is %.2f A.\" %(round(I2_a,2))\n",
      "print \"   The phase difference between the rotor voltage and the rotor current is %.2f degrees.\" %(round(degrees(angle_a),2))\n",
      "print \"\\n(b)At 100% slip :\"\n",
      "print \"   The rotor current is %.2f A.\" %(round(I2_b,2))\n",
      "print \"   The phase difference between the rotor voltage and the rotor current is %.2f degrees.\" %(round(degrees(angle_b),2))"
     ],
     "language": "python",
     "metadata": {},
     "outputs": [
      {
       "output_type": "stream",
       "stream": "stdout",
       "text": [
        "(a)At 4% slip : \n",
        "   The rotor current is 46.04 A.\n",
        "   The phase difference between the rotor voltage and the rotor current is 4.57 degrees.\n",
        "\n",
        "(b)At 100% slip :\n",
        "   The rotor current is 516.40 A.\n",
        "   The phase difference between the rotor voltage and the rotor current is 63.43 degrees.\n"
       ]
      }
     ],
     "prompt_number": 17
    },
    {
     "cell_type": "heading",
     "level": 2,
     "metadata": {},
     "source": [
      "Example 15.6,Page number: 485"
     ]
    },
    {
     "cell_type": "code",
     "collapsed": false,
     "input": [
      "#Question:\n",
      "\"\"\"Finding the developed power,air-gap power,rotor copper loss,and stator loss in an induction motor.\"\"\"\n",
      "\n",
      "#Variable Declaration:\n",
      "HP=746.0              #Value of Horse-Power(in Watts) \n",
      "f=50.0                #Operating frequency of the induction motor(in Hertz)\n",
      "N=1470.0              #Speed of the motor(in rpm)\n",
      "P=4.0                 #Number of poles\n",
      "phase=3.0             #Number of phases \n",
      "effi=87.5e-02         #Efficiency of the motor at full-load  \n",
      "\n",
      "\n",
      "#Calculations:\n",
      "Po=5.0*HP\n",
      "Pin=Po/effi\n",
      "total_loss=Pin-Po\n",
      "mech_loss=0.05*total_loss\n",
      "elec_loss=total_loss-mech_loss\n",
      "dev_pow=Po+mech_loss\n",
      "Ns=(120*f)/P\n",
      "s=(Ns-N)/Ns\n",
      "Pg=dev_pow/(1-s)\n",
      "P_R=s*Pg\n",
      "P_S=Pin-Pg\n",
      "\n",
      "\n",
      "#Result:\n",
      "print \"The developed power is %.2f W.\" %(round(dev_pow,2))\n",
      "print \"The air-gap power is %.2f W.\" %(round(Pg,2))\n",
      "print \"The rotor copper loss is %.2f W.\" %(round(P_R,2))\n",
      "print \"The stator loss is %.2f W.\" %(round(P_S,2))"
     ],
     "language": "python",
     "metadata": {},
     "outputs": [
      {
       "output_type": "stream",
       "stream": "stdout",
       "text": [
        "The developed power is 3756.64 W.\n",
        "The air-gap power is 3833.31 W.\n",
        "The rotor copper loss is 76.67 W.\n",
        "The stator loss is 429.55 W.\n"
       ]
      }
     ],
     "prompt_number": 11
    },
    {
     "cell_type": "heading",
     "level": 2,
     "metadata": {},
     "source": [
      "Example 15.7,Page number: 490 "
     ]
    },
    {
     "cell_type": "code",
     "collapsed": false,
     "input": [
      "#Question:\n",
      "\"\"\"Finding the rotor speed,the stator current,the power factor and the efficiency of an induction motor. \"\"\"\n",
      "\n",
      "from math import sqrt,cos,degrees\n",
      "from cmath import rect,phase\n",
      "\n",
      "#Variable Declaration:\n",
      "V_L=400.0             #Operating voltage of the induction motor(in Volts)\n",
      "P=4.0                 #Number of poles\n",
      "f=50.0                #Operating frequency of the motor(in Hertz)\n",
      "s=0.02                #Slip at rated load   \n",
      "rot_loss=0.34e03      #Rotational losses(in Watts)\n",
      "R1=0.641              #Impedance per phase on the stator side(in Ohms) \n",
      "X1=1.106              #Impedance per phase on the stator side(in Ohms)       \n",
      "R2_eq=0.332           #Impedance per phase on the stator side(in Ohms)\n",
      "X_20_eq=0.464         #Impedance per phase on the stator side(in Ohms) \n",
      "Xg=26.3               #Impedance per phase on the stator side(in Ohms)\n",
      "\n",
      "\n",
      "#Calculations:\n",
      "V1_mod=V_L/sqrt(3)\n",
      "V1=rect(V1_mod,0)\n",
      "Ns=(120*f)/P\n",
      "N=Ns*(1-s)\n",
      "V_Th=V1*((Xg/(R1+(X1+Xg)*1j))*1j)\n",
      "Z_Th=((Xg*(R1+X1*1j))/(R1+(X1+Xg)*1j))*1j\n",
      "R_L_eq=((1-s)/s)*R2_eq\n",
      "I1=V_Th/(Z_Th +(R2_eq+X_20_eq*1j)+R_L_eq)\n",
      "angle=phase(I1)\n",
      "pf=cos(angle)\n",
      "Po=(3*abs(I1)*abs(I1)*R_L_eq)-rot_loss\n",
      "Pi=3*abs(V1)*abs(I1)*cos(phase(I1))\n",
      "effi=(Po/Pi)*100\n",
      "\n",
      "\n",
      "#Result:\n",
      "print \"(a)The rotor speed is %d rpm.\" %(round(N,0))\n",
      "print \"(b)The stator current is %.2f A at a phase angle of %.2f degrees.\" %(abs(I1),degrees(phase(I1))) \n",
      "print \"(c)The power factor is %.3f lagging.\" %(pf)\n",
      "print \"(d)The output power is %.2f W.\" %(Po)\n",
      "print \"   The input power is %.2f W.\" %(Pi)\n",
      "print \"(e)The efficiency of the motor is %.2f percent.\" %(effi)"
     ],
     "language": "python",
     "metadata": {},
     "outputs": [
      {
       "output_type": "stream",
       "stream": "stdout",
       "text": [
        "(a)The rotor speed is 1470 rpm.\n",
        "(b)The stator current is 12.84 A at a phase angle of -3.78 degrees.\n",
        "(c)The power factor is 0.998 lagging.\n",
        "(d)The output power is 7703.00 W.\n",
        "   The input power is 8874.78 W.\n",
        "(e)The efficiency of the motor is 86.80 percent.\n"
       ]
      }
     ],
     "prompt_number": 18
    },
    {
     "cell_type": "heading",
     "level": 2,
     "metadata": {},
     "source": [
      "Example 15.8,Page number: 495"
     ]
    },
    {
     "cell_type": "code",
     "collapsed": false,
     "input": [
      "#Question:\n",
      "\"\"\"Finding the standstill rotor reactance of an induction motor.\"\"\"\n",
      "\n",
      "#Variable Declaration:\n",
      "f=50.0                #Operating frequency of induction motor(in Hertz)\n",
      "P=6.0                 #Number of poles\n",
      "N=940.0               #Speed of motor(in rpm)\n",
      "R2=0.1                #Resistance per phase(in Ohms)\n",
      "\n",
      "\n",
      "#Calculations:\n",
      "Ns=(120*f)/P\n",
      "s=(Ns-N)/Ns\n",
      "X_20=R2/s\n",
      "\n",
      "\n",
      "#Result:\n",
      "print \"The standstill rotor resistance is %.3f Ohms.\" %(X_20)"
     ],
     "language": "python",
     "metadata": {},
     "outputs": [
      {
       "output_type": "stream",
       "stream": "stdout",
       "text": [
        "The standstill rotor resistance is 1.667 Ohms.\n"
       ]
      }
     ],
     "prompt_number": 6
    },
    {
     "cell_type": "heading",
     "level": 2,
     "metadata": {},
     "source": [
      "Example 15.9,Page number: 498"
     ]
    },
    {
     "cell_type": "code",
     "collapsed": false,
     "input": [
      "#Question:\n",
      "\"\"\"Finding the full-load slip of an induction motor.\"\"\"\n",
      "\n",
      "#Variable Declaration:\n",
      "P_motor=6.0           #Number of poles in the induction motor\n",
      "N_motor=960.0         #Full-load speed of the induction motor(in rpm)\n",
      "P_alt=4.0             #Number of poles in the alternator\n",
      "N_alt=1500.0          #Speed of the alternator(in rpm)\n",
      "\n",
      "\n",
      "#Calculations:\n",
      "f=(N_alt*P_alt)/120.0\n",
      "Ns=(120.0*f)/P_motor\n",
      "s=(Ns-N_motor)/Ns\n",
      "\n",
      "\n",
      "#Result:\n",
      "print \"The full-load slip of the motor is %.2f percent.\" %(s*100)"
     ],
     "language": "python",
     "metadata": {},
     "outputs": [
      {
       "output_type": "stream",
       "stream": "stdout",
       "text": [
        "The full-load slip of the motor is 4.00 percent.\n"
       ]
      }
     ],
     "prompt_number": 7
    },
    {
     "cell_type": "heading",
     "level": 2,
     "metadata": {},
     "source": [
      "Example 15.10,Page number: 498"
     ]
    },
    {
     "cell_type": "code",
     "collapsed": false,
     "input": [
      "#Question:\n",
      "\"\"\"Finding the rotor input,motor input and the efficiency of an induction motor.\"\"\"\n",
      "\n",
      "from math import pi\n",
      "\n",
      "#Variable Declaration:\n",
      "P=4.0                 #Number of poles in the induction motor\n",
      "useful_tor=160.0      #Useful torque(in Newton-metre)\n",
      "s=0.05                #Slip\n",
      "P_S=1000.0            #Stator losses(in Watts)\n",
      "Pm=500.0              #Frictional and windage losses(in Watts)\n",
      "f=50.0                #Frequency of induction motor(in Hertz)\n",
      "#Calculations:\n",
      "Ns=(120.0*f)/P\n",
      "N=(1-s)*Ns\n",
      "Po=(2*pi*useful_tor*N)/60.0\n",
      "Pd=Po+Pm\n",
      "Pg=Pd/(1-s)\n",
      "Pin=Pg+P_S\n",
      "effi=Po/Pin\n",
      "\n",
      "\n",
      "#Result:\n",
      "print \"(a)The rotor input is %.4f kW.\" %(Pg/1000.0)\n",
      "print \"(b)The motor input is %.4f W.\" %(Pin)\n",
      "print \"(c)The efficiency is %.4f percent.\" %(effi*100)"
     ],
     "language": "python",
     "metadata": {},
     "outputs": [
      {
       "output_type": "stream",
       "stream": "stdout",
       "text": [
        "(a)The rotor input is 25.6591 kW.\n",
        "(b)The motor input is 26659.0570 W.\n",
        "(c)The efficiency is 89.5609 percent.\n"
       ]
      }
     ],
     "prompt_number": 13
    },
    {
     "cell_type": "heading",
     "level": 2,
     "metadata": {},
     "source": [
      "Example 15.11,Page number: 499"
     ]
    },
    {
     "cell_type": "code",
     "collapsed": false,
     "input": [
      "#Question:\n",
      "\"\"\"Finding the slip of an induction motor.\"\"\"\n",
      "\n",
      "#Variable Declaration:\n",
      "effi=0.9              #Efficiency of the induction motor\n",
      "Po=50e03              #Load driven by the motor(in Watts)\n",
      "\n",
      "\n",
      "#Calculations:\n",
      "Pin=Po/effi\n",
      "P_tot=Pin-Po\n",
      "\"\"\"The no-load losses comprise of the stator iron loss(Pi) and mechanical losses(Pm)\n",
      "   (since the stator and rotor copper losses are negligible).These two losses are independent of the load.\n",
      "   \n",
      "   Given,the mechanical loss,Pm=(no-load loss)/3.0=((Pi+Pm)/3.0).\n",
      "   \n",
      "   Therefore,Pm=(Pi/2.0).\n",
      "   \n",
      "   Total loss=(Stator copper loss)+(Stator iron loss)+(Rotor copper loss)+(Mechanical loss).\"\"\"\n",
      "Pi=(2.0/7.0)*P_tot\n",
      "P_R=Pi\n",
      "Pm=Pi/2.0\n",
      "Pd=Po+Pm\n",
      "Pg=Pd+P_R\n",
      "s=P_R/Pg\n",
      "\n",
      "\n",
      "#Result:\n",
      "print \"The slip of the induction motor is %.2f percent.\" %(s*100)"
     ],
     "language": "python",
     "metadata": {},
     "outputs": [
      {
       "output_type": "stream",
       "stream": "stdout",
       "text": [
        "The slip of the induction motor is 3.03 percent.\n"
       ]
      }
     ],
     "prompt_number": 8
    },
    {
     "cell_type": "heading",
     "level": 2,
     "metadata": {},
     "source": [
      "Example 15.12,Page number: 499"
     ]
    },
    {
     "cell_type": "code",
     "collapsed": false,
     "input": [
      "#Question:\n",
      "\"\"\"Finding the rotor current in an induction motor.\"\"\"\n",
      "\n",
      "from math import sqrt\n",
      "\n",
      "#Variable Declaration:\n",
      "V2=100.0              #Induced emf between slip ring terminals(in Volts)\n",
      "R2=0.4                #Resistance per phase of star-connected rotor windings(in Ohms)\n",
      "s=0.04                #Slip of rotor\n",
      "\n",
      "\n",
      "#Calculations:\n",
      "E20=V2/sqrt(3.0)\n",
      "\"\"\"The rotor reactance X2=(s*X20) is negligible for small values of sand hence cam be ignored.\"\"\"\n",
      "I2=(s*E20)/R2\n",
      "\n",
      "\n",
      "#Result:\n",
      "print \"The rotor current is %.3f A.\" %(I2)"
     ],
     "language": "python",
     "metadata": {},
     "outputs": [
      {
       "output_type": "stream",
       "stream": "stdout",
       "text": [
        "The rotor current is 5.774 A.\n"
       ]
      }
     ],
     "prompt_number": 10
    },
    {
     "cell_type": "heading",
     "level": 2,
     "metadata": {},
     "source": [
      "Example 15.13,Page number: 499"
     ]
    },
    {
     "cell_type": "code",
     "collapsed": false,
     "input": [
      "#Question:\n",
      "\"\"\"Finding the number of poles and the slip of an induction motor.\"\"\"\n",
      "\n",
      "#Variable Declaration:\n",
      "N=285.0               #Full-load speed of an induction motor(in rpm)\n",
      "f=50.0                #Frequency of supply(in Hertz)\n",
      "P_R=250.0             #Original rotor losses(in Watts)\n",
      "\n",
      "\n",
      "#Calculations:\n",
      "P=(120.0*f)/N\n",
      "\"There has to be even number of poles,such that Ns>N.Thus,the actual number of poles is 20.\"\"\"\n",
      "P=round((P-1),0)\n",
      "Ns=(120.0*f)/P\n",
      "s=(Ns-N)/Ns\n",
      "\"\"\"For small values of s,the reactance of (s*X20) is much smaller than the resistance R2,hence\n",
      "   torque is directly proportional to (s/R2).\n",
      "         \n",
      "   It means that the to keep the torque same,the (s/R2) ratio should remain the same.If R2 is doubled,then s also has to be \n",
      "   doubled.\"\"\"       \n",
      "s_new=2*s\n",
      "\"\"\"Since the full-load current remains the same,on doubling the rotor resistance,the copper loss(I*I*R) is also doubled.\"\"\"\n",
      "P_R_new=2*P_R\n",
      "\n",
      "\n",
      "#Result:\n",
      "print \"(a)The number of poles is %d.\" %(P)\n",
      "print \"(b)The slip is %.2f percent.\" %(s*100)\n",
      "print \"(c)The slip for full-load torque if the rotor resistance is doubled is %.2f percent.\" %(s_new*100)\n",
      "print \"(d)The rotor copper losses with added rotor resistance is %.2f W.\" %(P_R_new)\n"
     ],
     "language": "python",
     "metadata": {},
     "outputs": [
      {
       "output_type": "stream",
       "stream": "stdout",
       "text": [
        "(a)The number of poles is 20.\n",
        "(b)The slip is 5.00 percent.\n",
        "(c)The slip for full-load torque if the rotor resistance is doubled is 10.00 percent.\n",
        "(d)The rotor copper losses with added rotor resistance is 500.00 W.\n"
       ]
      }
     ],
     "prompt_number": 3
    },
    {
     "cell_type": "heading",
     "level": 2,
     "metadata": {},
     "source": [
      "Example 15.14,Page number: 500"
     ]
    },
    {
     "cell_type": "code",
     "collapsed": false,
     "input": [
      "#Question:\n",
      "\"\"\"Finding the slip and the power output of an induction motor when external resistances are inserted in each rotor phase.\"\"\"\n",
      "\n",
      "#Variable Declaration:\n",
      "s=0.02                #Full-load slip of the induction motor\n",
      "Po=500                #Power rating of the motor(in HorsePower)\n",
      "R2=0.25               #Resistance per phase of the rotor(in Ohms)\n",
      "\n",
      "\n",
      "#Calculations:\n",
      "R2_new=2.0+R2\n",
      "s_new=(s/R2)*(R2_new)\n",
      "\"\"\"If Ns is the synchronous speed of the motor,then the speed of the rotor before inserting external resistance,\n",
      "   N=(1-s)*Ns;\n",
      "    \n",
      "   The speed of the rotor after inserting external resistance is N_new=(1-s_new)*Ns;\"\"\"\n",
      "\n",
      "Po_new=((1-s_new)/(1-s))*Po\n",
      "   \n",
      "\n",
      "#Result:\n",
      "print \"The new slip is %.2f percent.\" %(s_new*100)\n",
      "print \"The new power output is %.2f HP.\" %(Po_new)"
     ],
     "language": "python",
     "metadata": {},
     "outputs": [
      {
       "output_type": "stream",
       "stream": "stdout",
       "text": [
        "The new slip is 18.00 percent.\n",
        "The new power output is 418.37 HP.\n"
       ]
      }
     ],
     "prompt_number": 7
    },
    {
     "cell_type": "heading",
     "level": 2,
     "metadata": {},
     "source": [
      "Example 15.15,Page number: 500"
     ]
    },
    {
     "cell_type": "code",
     "collapsed": false,
     "input": [
      "#Question:\n",
      "\"\"\"Finding the full-load speed of an induction motor.\"\"\"\n",
      "\n",
      "from sympy import *;\n",
      "\n",
      "#Variable Declaration:\n",
      "P=4.0                 #Number of poles in the induction motor\n",
      "f=50.0                #Rated frequency of the induction motor(in Hertz)\n",
      "\n",
      "\n",
      "#Calculations:\n",
      "\"\"\" Starting torque(tor_st)=1.6*(tor_fl) where tor_fl=full-load torque;\n",
      "    Maximum torque(tor_max)=2.0*(tor_fl);\n",
      "    \n",
      "    tor_st/tor_max=0.8;\n",
      "    \n",
      "    (tor_st/tor_max)=(2*s_m)/((s_m*s_m)+1))\n",
      "    \n",
      "    (s_m*s_m)-(2.5*s_m)+1=0 is a quadratic equation whose roots are 2 and 0.5 \n",
      "    \n",
      "    s_m has to be less than 1. Therefore, s_m=0.5; \n",
      "    \n",
      "    Similarly,\n",
      "    (tor_fl)/(tor_max)=0.5; \n",
      "    \n",
      "    (tor_fl)/(tor_max)=(2*s_fl*s_m)/((s_m*s_m)+(s_fl*s_fl))\n",
      "    \n",
      "    Substituting s_m=0.5,we get a quadratic equation,\n",
      "    \n",
      "    (s_fl*s_fl)-(s_fl)+0.125=0 whose roots are 0.8535,0.1465.\n",
      "    \n",
      "    s_fl=0.1465 as s_fl should be less than s_m. \"\"\"\n",
      "\"\"\"Finding the roots:\"\"\"\n",
      "s_m,s_fl= symbols('s_m s_fl')\n",
      "a=solve(s_m**2-(2.5*s_m)+1.0,s_m)\n",
      "b=solve(s_fl**2-s_fl+0.125, s_fl)\n",
      "Ns=(120*f)/P\n",
      "Nfl=Ns*(1-b[0])\n",
      "Nm=Ns*(1-a[0])\n",
      "\n",
      "\n",
      "#Result:\n",
      "print \"(a)The full-load speed is %.2f rpm.\" %(Nfl)\n",
      "print \"(b)The speed at maximum torque is %.2f rpm.\" %(Nm)"
     ],
     "language": "python",
     "metadata": {},
     "outputs": [
      {
       "output_type": "stream",
       "stream": "stdout",
       "text": [
        "(a)The full-load speed is 1280.33 rpm.\n",
        "(b)The speed at maximum torque is 750.00 rpm.\n"
       ]
      }
     ],
     "prompt_number": 1
    },
    {
     "cell_type": "heading",
     "level": 2,
     "metadata": {},
     "source": [
      "Example 15.16,Page number: 501"
     ]
    },
    {
     "cell_type": "code",
     "collapsed": false,
     "input": [
      "#Question:\n",
      "\"\"\"Finding the rotor copper loss and the gross torque for an induction motor.\"\"\"\n",
      "\n",
      "from math import pi\n",
      "\n",
      "#Variable Declaration:\n",
      "s=0.04                #Full-load slip\n",
      "P=4.0                 #Number of poles\n",
      "f=50.0                #Frequency of the induction motor(in Hertz)\n",
      "Po=18.65e03           #Power output(in Watts)\n",
      "\n",
      "\n",
      "#Calculations:\n",
      "Pm=0.025*Po\n",
      "Pd=Pm+Po\n",
      "P_R=Pd*(s/(1-s))\n",
      "Pg=P_R/s\n",
      "Ns=(120*f)/P\n",
      "N=Ns*(1-s)\n",
      "sh_tor=Po/(2*pi*(N/60.0))\n",
      "gross_tor=Pd/(2*pi*(N/60.0))\n",
      "\n",
      "\n",
      "#Result:\n",
      "print \"(a)The rotor copper loss is %.2f W.\" %(P_R)\n",
      "print \"(b)The rotor input is %.2f W.\" %(Pg)\n",
      "print \"(c)The output(shaft) torque is %.2f Nm.\" %(sh_tor)\n",
      "print \"(d)The gross torque is %.2f Nm.\" %(gross_tor)"
     ],
     "language": "python",
     "metadata": {},
     "outputs": [
      {
       "output_type": "stream",
       "stream": "stdout",
       "text": [
        "(a)The rotor copper loss is 796.51 W.\n",
        "(b)The rotor input is 19912.76 W.\n",
        "(c)The output(shaft) torque is 123.68 Nm.\n",
        "(d)The gross torque is 126.77 Nm.\n"
       ]
      }
     ],
     "prompt_number": 8
    },
    {
     "cell_type": "heading",
     "level": 2,
     "metadata": {},
     "source": [
      "Example 15.17,Page number: 501"
     ]
    },
    {
     "cell_type": "code",
     "collapsed": false,
     "input": [
      "#Question:\n",
      "\"\"\"Finding the rotor current and the rotor power factor for an induction motor.\"\"\"\n",
      "\n",
      "from math import sqrt,pow,cos,atan\n",
      "\n",
      "#Variable Declaration:\n",
      "P=4.0                 #Number of poles in the induction motor\n",
      "E1=1100.0             #Line voltage(in Volts) \n",
      "f=50.0                #Operating frequency of the motor(in Hertz)\n",
      "K=1.0/3.8             #Transformation ratio\n",
      "R2=0.012              #Rotor resistance per phase(in Ohms)\n",
      "X20=0.25              #Rotor stanstill reactance per phase(in Ohms) \n",
      "N=1440.0              #Full-load speed of the motor(in rpm)\n",
      "\n",
      "\n",
      "#Calculations:\n",
      "Ns=(120.0*f)/P\n",
      "s=(Ns-N)/Ns\n",
      "E20=K*E1\n",
      "Z20=sqrt((R2*R2)+(X20*X20))\n",
      "Z2=sqrt((R2*R2)+(s*X20*s*X20))\n",
      "I20=E20/Z20\n",
      "pf_20=cos(atan(X20/R2))\n",
      "I2=(s*E20)/Z2\n",
      "pf=R2/Z2\n",
      "I1=100.0/sqrt(3.0)\n",
      "I_20=I1/K\n",
      "Z2_rot=E20/I_20\n",
      "r=sqrt((Z2_rot*Z2_rot)-(X20*X20))-R2\n",
      "\n",
      "\n",
      "#Result:\n",
      "print \"(a)The rotor current at starting with slip-rings shorted is %.2f A.\" %(I20)\n",
      "print \"(b)The rotor power factor at starting with slip-rings shorted is %.5f,lagging.\" %(pf_20)\n",
      "print \"(c)The rotor current while running at full load with slip-rings shorted is %.3f A.\" %(I2)\n",
      "print \"(d)The rotor power factor while running at full-load with slip-rings shorted is %.5f,lagging.\" %(pf)\n",
      "print \"(e)The external rotor resistance is %.4f Ohms.\" %(r)"
     ],
     "language": "python",
     "metadata": {},
     "outputs": [
      {
       "output_type": "stream",
       "stream": "stdout",
       "text": [
        "(a)The rotor current at starting with slip-rings shorted is 1156.56 A.\n",
        "(b)The rotor power factor at starting with slip-rings shorted is 0.04794,lagging.\n",
        "(c)The rotor current while running at full load with slip-rings shorted is 741.266 A.\n",
        "(d)The rotor power factor while running at full-load with slip-rings shorted is 0.76822,lagging.\n",
        "(e)The external rotor resistance is 1.2835 Ohms.\n"
       ]
      }
     ],
     "prompt_number": 7
    }
   ],
   "metadata": {}
  }
 ]
}