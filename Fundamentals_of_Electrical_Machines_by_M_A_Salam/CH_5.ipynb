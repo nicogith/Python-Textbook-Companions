{
 "metadata": {
  "name": ""
 },
 "nbformat": 3,
 "nbformat_minor": 0,
 "worksheets": [
  {
   "cells": [
    {
     "cell_type": "heading",
     "level": 1,
     "metadata": {},
     "source": [
      "CHAPTER 5: DIRECT CURRENT MOTORS"
     ]
    },
    {
     "cell_type": "heading",
     "level": 2,
     "metadata": {},
     "source": [
      "Example 5.1, Page number 182"
     ]
    },
    {
     "cell_type": "code",
     "collapsed": false,
     "input": [
      "#Variable declaration\n",
      "l = 10.0    #Conductor length(m)\n",
      "B = 0.56    #Magnetic flux density(T)\n",
      "I = 2.0     #Current through conductor(A)\n",
      "\n",
      "#Calculation\n",
      "F = B*I*l   #Magnitude of force(N)\n",
      "\n",
      "#Result\n",
      "print('Magnitude of force , F = %.1f N' %F)"
     ],
     "language": "python",
     "metadata": {},
     "outputs": [
      {
       "output_type": "stream",
       "stream": "stdout",
       "text": [
        "Magnitude of force , F = 11.2 N\n"
       ]
      }
     ],
     "prompt_number": 1
    },
    {
     "cell_type": "heading",
     "level": 2,
     "metadata": {},
     "source": [
      "Example 5.2, Page number 189"
     ]
    },
    {
     "cell_type": "code",
     "collapsed": false,
     "input": [
      "#Variable declaration\n",
      "I = 20.0         #Total current(A)\n",
      "V_t = 250.0      #Supply voltage(V) \n",
      "R_sh = 200.0     #Shunt field resistance(ohm)\n",
      "R_a = 0.3        #Armature resistance(ohm)\n",
      "\n",
      "#Calculation\n",
      "I_sh = V_t/R_sh     #Shunt field current(A)\n",
      "I_a = I-I_sh        #Armature current(A)\n",
      "#For case(i)\n",
      "E_b = V_t-R_a*I_a   #Back emf(V)\n",
      "#For case(ii)\n",
      "P_md = E_b*I_a      #Mechanical power developed(W) \n",
      "\n",
      "#Result\n",
      "print('(i)  Value of back emf , E_b = %.1f V' %E_b) \n",
      "print('(ii) Mechanical power developed in the armature motor , P_md = %.1f W' %P_md)\n",
      "print('\\nNOTE : ERROR : Armature current I_a = 18.13 A is taken in textbook solution instead of I_a = 18.75 A')"
     ],
     "language": "python",
     "metadata": {},
     "outputs": [
      {
       "output_type": "stream",
       "stream": "stdout",
       "text": [
        "(i)  Value of back emf , E_b = 244.4 V\n",
        "(ii) Mechanical power developed in the armature motor , P_md = 4582.0 W\n",
        "\n",
        "NOTE : ERROR : Armature current I_a = 18.13 A is taken in textbook solution instead of I_a = 18.75 A\n"
       ]
      }
     ],
     "prompt_number": 1
    },
    {
     "cell_type": "heading",
     "level": 2,
     "metadata": {},
     "source": [
      "Example 5.3, Page number 189"
     ]
    },
    {
     "cell_type": "code",
     "collapsed": false,
     "input": [
      "#Variable declaration\n",
      "R_a = 0.7       #Armature circuit resistance(ohm)\n",
      "V_t = 5.0       #Applied voltage(V)\n",
      "I_anl = 5.0     #No-load armature current(A)\n",
      "I_afl = 35.0    #Full-load armature current(A)\n",
      "\n",
      "#Calculation\n",
      "E_bnl = V_t-R_a*I_anl   #Back emf under no-load(V)\n",
      "E_bfl = V_t-R_a*I_afl   #Back emf under full-load(V)\n",
      "E_bc = E_bnl-E_bfl      #Change in back emf from no-load to full load(V)\n",
      " \n",
      "#Result\n",
      "print('Change in back emf from no-load to full load , E_bc = %.f V' %E_bc)"
     ],
     "language": "python",
     "metadata": {},
     "outputs": [
      {
       "output_type": "stream",
       "stream": "stdout",
       "text": [
        "Change in back emf from no-load to full load , E_bc = 21 V\n"
       ]
      }
     ],
     "prompt_number": 1
    },
    {
     "cell_type": "heading",
     "level": 2,
     "metadata": {},
     "source": [
      "Example 5.4, Page number 191"
     ]
    },
    {
     "cell_type": "code",
     "collapsed": false,
     "input": [
      "#Variable declaration\n",
      "I = 40.0        #Current(A)\n",
      "V_t = 230.0     #Supply voltage(V)\n",
      "N = 1100.0      #Speed(rpm)\n",
      "R_a = 0.25      #Armature resistance(ohm)\n",
      "R_sh = 230.0    #Shunt field resistance(ohm) \n",
      "\n",
      "#Calculation\n",
      "I_sh = V_t/R_sh         #Shunt field current(A)\n",
      "I_a = I-I_sh            #Armature current(A)\n",
      "E_b = V_t-I_a*R_a       #Back emf(V) \n",
      "T_a = 9.55*E_b*I_a/N    #Armature torque(N-m)\n",
      " \n",
      "#Result\n",
      "print('Torque developed by the armature , T_a = %.2f N-m' %T_a)"
     ],
     "language": "python",
     "metadata": {},
     "outputs": [
      {
       "output_type": "stream",
       "stream": "stdout",
       "text": [
        "Torque developed by the armature , T_a = 74.57 N-m\n"
       ]
      }
     ],
     "prompt_number": 1
    },
    {
     "cell_type": "heading",
     "level": 2,
     "metadata": {},
     "source": [
      "Example 5.5, Page number 191-192"
     ]
    },
    {
     "cell_type": "code",
     "collapsed": false,
     "input": [
      "#Variable declaration\n",
      "P = 6.0             #Number of poles\n",
      "V_t = 230.0         #Supply voltage to shunt motor(V)\n",
      "Z = 450.0           #Number of conductors\n",
      "R_a = 0.8           #Armature resistance(ohm)\n",
      "I = 30.0            #Current drawn from supply(A)\n",
      "P_0 = 5560.0        #Output power(W)\n",
      "I_f = 3.0           #Current through field winding(A)\n",
      "phi = 25*10**-3     #Flux per pole(Wb)\n",
      "\n",
      "#Calculation\n",
      "A = P                    #Number of parallel paths in lap winding\n",
      "I_a = I-I_f              #Armature current(A)\n",
      "E_b = V_t-I_a*R_a        #Back emf(V)\n",
      "N = 60*A*E_b/(P*Z*phi)   #Speed(rpm)\n",
      "T_sh = 9.55*P_0/N        #Shaft torque(N-m)\n",
      "\n",
      "#Result\n",
      "print('Speed , N = %.1f rpm' %N)\n",
      "print('Shaft torque , T_sh = %.1f N-m' %T_sh)"
     ],
     "language": "python",
     "metadata": {},
     "outputs": [
      {
       "output_type": "stream",
       "stream": "stdout",
       "text": [
        "Speed , N = 1111.5 rpm\n",
        "Shaft torque , T_sh = 47.8 N-m\n"
       ]
      }
     ],
     "prompt_number": 1
    },
    {
     "cell_type": "heading",
     "level": 2,
     "metadata": {},
     "source": [
      "Example 5.6, Page number 193-194"
     ]
    },
    {
     "cell_type": "code",
     "collapsed": false,
     "input": [
      "#Variable declaration\n",
      "I_Lnl = 5.0     #Current drawn at no-load(A)\n",
      "V_t = 230.0     #Terminal voltage at no-load(V)\n",
      "N_nl = 1000.0   #Speed at no-load(rpm)\n",
      "R_a = 0.2       #Armature resistance(ohm)\n",
      "R_f = 230.0     #Field resistance(ohm)\n",
      "I_Lfl = 30.0    #Current drawn at full-load(A)\n",
      "\n",
      "#Calculation\n",
      "#Under No-load condition\n",
      "I_sh = V_t/R_f            #Shunt field current(A)\n",
      "I_a1 = I_Lnl-I_sh         #Armature current(A)\n",
      "E_b1 = V_t-I_a1*R_a       #Back emf(V)\n",
      "#Under Full-load condition\n",
      "I_a2 = I_Lfl-I_sh         #Armature current(A)\n",
      "E_b2 = V_t-I_a2*R_a       #Back emf(V)\n",
      "N_2 = (E_b2/E_b1)*N_nl    #Motor speed under load condition(rpm)\n",
      "\n",
      "#Result\n",
      "print('Motor speed under load condition , N_2 = %.1f rpm' %N_2)"
     ],
     "language": "python",
     "metadata": {},
     "outputs": [
      {
       "output_type": "stream",
       "stream": "stdout",
       "text": [
        "Motor speed under load condition , N_2 = 978.2 rpm\n"
       ]
      }
     ],
     "prompt_number": 1
    },
    {
     "cell_type": "heading",
     "level": 2,
     "metadata": {},
     "source": [
      "Example 5.7, Page number 194-195"
     ]
    },
    {
     "cell_type": "code",
     "collapsed": false,
     "input": [
      "#Variable declaration\n",
      "I_a1 = 65.0           #Current drawn(A)\n",
      "V_t = 230.0           #Supply voltage(V)\n",
      "N_1 = 900.0           #Speed(rpm)\n",
      "R_a = 0.2             #Armature resistance(ohm)\n",
      "R_sh = 0.25           #Field resistance(ohm)\n",
      "I_a2 = 15.0           #Line current(A)\n",
      "phi_1 = 1.0           #Assumtion of flux(Wb)\n",
      "phi_2 = 0.4*phi_1     #Flux(Wb)\n",
      "\n",
      "#Calculation\n",
      "E_b1 = V_t-I_a1*(R_a+R_sh)          #Initial back emf(V)\n",
      "E_b2 = V_t-I_a2*(R_a+R_sh)          #Final back emf(V)\n",
      "N_2 = N_1*E_b2*phi_1/(E_b1*phi_2)   #Speed of motor(rpm)\n",
      "\n",
      "#Result\n",
      "print('Speed of motor when line current is 15 A , N_2 = %.f rpm' %N_2)\n",
      "print('\\nNOTE : ERROR : In textbook question current I_a1 = 56 A is given but it should be I_a1 = 65 A')"
     ],
     "language": "python",
     "metadata": {},
     "outputs": [
      {
       "output_type": "stream",
       "stream": "stdout",
       "text": [
        "Speed of motor when line current is 15 A , N_2 = 2502 rpm\n",
        "\n",
        "NOTE : ERROR : In textbook question current I_a1 = 56 A is given but it should be I_a1 = 65 A\n"
       ]
      }
     ],
     "prompt_number": 1
    },
    {
     "cell_type": "heading",
     "level": 2,
     "metadata": {},
     "source": [
      "Example 5.8, Page number 197-198"
     ]
    },
    {
     "cell_type": "code",
     "collapsed": false,
     "input": [
      "#Variable declaration\n",
      "I_Lnl = 5.0     #Current drawn at no-load(A)\n",
      "V_t = 230.0     #Supply voltage at no-load(V)\n",
      "R_a = 0.25      #Armature circuit resistance(ohm)\n",
      "R_sh = 115      #Field circuit resistance(ohm)\n",
      "I_L = 40.0      #Current under load condition(A)\n",
      "\n",
      "#Calculation\n",
      "#Under No-load condition\n",
      "P_in1 = V_t*I_Lnl                          #Input power(W)\n",
      "I_sh = V_t/R_sh                            #Shunt field current(A)\n",
      "I_a1 = I_Lnl-I_sh                          #Armature current(A)\n",
      "P_acu1 = I_a1**2*R_a                       #Armature copper loss(W)\n",
      "P_shcu = I_sh**2*R_sh                      #Shunt field copper loss(W)\n",
      "P_iron_friction = P_in1-(P_acu1+P_shcu)    #Iron and friction losses(W)\n",
      "#Under load condition\n",
      "I_a2 = I_L-I_sh                            #Armature current(A)\n",
      "P_acu2 = I_a2**2*R_a                       #Armature copper loss(W)\n",
      "P_loss = P_iron_friction+P_shcu+P_acu2     #Total losses(W)\n",
      "P_in2 = V_t*I_L                            #Input power(W)\n",
      "P_0 = P_in2-P_loss                         #Output power(W)\n",
      "n = (P_0/P_in2)*100                        #Efficiency(percent)\n",
      "\n",
      "#Result\n",
      "print('Iron and friction losses , P_iron_friction = %.2f W' %P_iron_friction)\n",
      "print('Efficiency , \u03b7 = %.f percent' %n)"
     ],
     "language": "python",
     "metadata": {},
     "outputs": [
      {
       "output_type": "stream",
       "stream": "stdout",
       "text": [
        "Iron and friction losses , P_iron_friction = 687.75 W\n",
        "Efficiency , \u03b7 = 84 percent\n"
       ]
      }
     ],
     "prompt_number": 1
    },
    {
     "cell_type": "heading",
     "level": 2,
     "metadata": {},
     "source": [
      "Example 5.9, Page number 198-199"
     ]
    },
    {
     "cell_type": "code",
     "collapsed": false,
     "input": [
      "#Variable declaration\n",
      "I_L = 80.0          #Current drawn(A)\n",
      "V_t = 220.0         #Supply voltage(V)\n",
      "N = 800.0           #Speed(rpm)\n",
      "R_a = 0.1           #Armature resistance(ohm)\n",
      "R_sh = 50.0         #Shunt field resistance(ohm)\n",
      "P_if = 1600.0       #Iron and friction losses(W)\n",
      "\n",
      "#Calculation\n",
      "I_sh = V_t/R_sh           #Shunt field current(A)\n",
      "I_a = I_L-I_sh            #Armature current(A)\n",
      "E_b = V_t-I_a*R_a         #Back emf(V)\n",
      "#For case(i)\n",
      "P_in = V_t*I_L            #Input power(W)\n",
      "P_md = E_b*I_a            #Mechanical power developed in the armature(W)\n",
      "P_cu = P_in-P_md          #Copper loss(W)\n",
      "#For case(ii)\n",
      "T_a = 9.55*E_b*I_a/N      #Armature torque(N-m)\n",
      "#For case(iii)\n",
      "P_0 = P_md-P_if           #Output power(W)\n",
      "T_sh = 9.55*P_0/N         #Shaft torque(N-m)\n",
      "#For case(iv)\n",
      "n = (P_0/P_in)*100        #Efficiency(percent)\n",
      "\n",
      "#Result\n",
      "print('(i)   Copper losses , P_cu = %.2f W' %P_cu)\n",
      "print('(ii)  Armature torque , T_a = %.2f N-m' %T_a)\n",
      "print('(iii) Shaft torque , T_sh = %.2f N-m' %T_sh)\n",
      "print('(iv)  Efficiency , \u03b7 = %.f percent' %n)"
     ],
     "language": "python",
     "metadata": {},
     "outputs": [
      {
       "output_type": "stream",
       "stream": "stdout",
       "text": [
        "(i)   Copper losses , P_cu = 1539.54 W\n",
        "(ii)  Armature torque , T_a = 191.72 N-m\n",
        "(iii) Shaft torque , T_sh = 172.62 N-m\n",
        "(iv)  Efficiency , \u03b7 = 82 percent\n"
       ]
      }
     ],
     "prompt_number": 1
    }
   ],
   "metadata": {}
  }
 ]
}