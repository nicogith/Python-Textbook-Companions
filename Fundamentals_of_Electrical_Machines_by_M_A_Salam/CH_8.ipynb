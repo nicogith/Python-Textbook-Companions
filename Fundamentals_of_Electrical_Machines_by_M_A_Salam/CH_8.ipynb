{
 "metadata": {
  "name": ""
 },
 "nbformat": 3,
 "nbformat_minor": 0,
 "worksheets": [
  {
   "cells": [
    {
     "cell_type": "heading",
     "level": 1,
     "metadata": {},
     "source": [
      "CHAPTER 8: STARTING, CONTROL AND TESTING OF AN INDUCTION MOTOR"
     ]
    },
    {
     "cell_type": "heading",
     "level": 2,
     "metadata": {},
     "source": [
      "Example 8.1, Page number 273"
     ]
    },
    {
     "cell_type": "code",
     "collapsed": false,
     "input": [
      "#Variable declaration\n",
      "T_st = '1.5*T_f'         #Starting torque\n",
      "s = 0.03                 #Slip\n",
      "\n",
      "#Calculation\n",
      "I_sc_I_f = (1.5/s)**0.5  #I_sc/I_f\n",
      "\n",
      "#Result\n",
      "print('Short circuit current , I_sc = %.2f*I_f' %I_sc_I_f)"
     ],
     "language": "python",
     "metadata": {},
     "outputs": [
      {
       "output_type": "stream",
       "stream": "stdout",
       "text": [
        "Short circuit current , I_sc = 7.07*I_f\n"
       ]
      }
     ],
     "prompt_number": 1
    },
    {
     "cell_type": "heading",
     "level": 2,
     "metadata": {},
     "source": [
      "Example 8.2, Page number 274-275"
     ]
    },
    {
     "cell_type": "code",
     "collapsed": false,
     "input": [
      "#Variable declaration\n",
      "T_ratio = 50.0/100    #Ratio of starting torque to full load torque T_st/T_f\n",
      "s_f = 0.03            #Full load slip\n",
      "I_ratio = 5.0         #Ratio of short circuit current to full load current I_sc/I_f\n",
      "\n",
      "#Calculation\n",
      "x = (1/I_ratio)*(T_ratio/s_f)**0.5  #Percentage of taping\n",
      "\n",
      "#Result\n",
      "print('Percentage tapings required on the autotransformer , x = %.3f ' %x)"
     ],
     "language": "python",
     "metadata": {},
     "outputs": [
      {
       "output_type": "stream",
       "stream": "stdout",
       "text": [
        "Percentage tapings required on the autotransformer , x = 0.816 \n"
       ]
      }
     ],
     "prompt_number": 1
    },
    {
     "cell_type": "heading",
     "level": 2,
     "metadata": {},
     "source": [
      "Example 8.3, Page number 277"
     ]
    },
    {
     "cell_type": "code",
     "collapsed": false,
     "input": [
      "#Variable declaration\n",
      "T_ratio = 25.0/100           #Ratio of starting torque to full load torque T_st/T_f\n",
      "I_ratio = 3.0*120/100        #Ratio of short circuit current to full load current I_sc/I_f\n",
      "\n",
      "#Calculation\n",
      "s_f = T_ratio*3/I_ratio**2   #Full load slip\n",
      "\n",
      "#Result\n",
      "print('Full load slip , s_f = %.2f ' %s_f)"
     ],
     "language": "python",
     "metadata": {},
     "outputs": [
      {
       "output_type": "stream",
       "stream": "stdout",
       "text": [
        "Full load slip , s_f = 0.06 \n"
       ]
      }
     ],
     "prompt_number": 1
    },
    {
     "cell_type": "heading",
     "level": 2,
     "metadata": {},
     "source": [
      "Example 8.4, Page number 281-282"
     ]
    },
    {
     "cell_type": "code",
     "collapsed": false,
     "input": [
      "#Variable declaration\n",
      "Z_icr = complex(0.04,0.5)       #Inner cage impedance per phase at standstill(ohm)\n",
      "Z_ocr = complex(0.4,0.2)        #Outer cage impedance per phase at standstill(ohm)\n",
      "V = 120.0                       #Per phase rotor induced voltage at standstill(V)\n",
      "\n",
      "#Calculation\n",
      "#For case(i)\n",
      "Z_com = (Z_icr*Z_ocr)/(Z_icr+Z_ocr)      #Combined impedance(ohm)\n",
      "I_2 = V/abs(Z_com)                       #Rotor current per phase(A)\n",
      "R_2 = Z_com.real                         #Combined rotor resistance(ohm)\n",
      "T = I_2**2*R_2                           #Torque at stand still condition(synchronous watts)\n",
      "#For case(ii)\n",
      "s = 0.06                                 #Slip\n",
      "R_ocr = Z_ocr.real\n",
      "X_ocr = Z_ocr.imag\n",
      "R_icr = Z_icr.real\n",
      "X_icr = Z_icr.imag\n",
      "Z_com6 = complex(R_ocr/s,X_ocr)*complex(R_icr/s,X_icr)/complex(R_ocr/s+R_icr/s,X_ocr+X_icr)  #Combined impedance(ohm)\n",
      "I2_6 = V/abs(Z_com6)                     #Rotor current per phase(A)\n",
      "R2_6 = Z_com6.real                       #Combined rotor resistance(ohm)\n",
      "T_6 = I2_6**2*R2_6                       #Torque at 6% slip(synhronous watts)\n",
      "\n",
      "#Result\n",
      "print('(i)  Torque at standstill condition , T = %.2f syn.watt' %T)\n",
      "print('(ii) Torque at 6 percent slip , T_6 = %.2f syn.watt' %T_6)\n",
      "print('\\nNOTE : Changes in answer is due to precision i.e more number of decimal places')"
     ],
     "language": "python",
     "metadata": {},
     "outputs": [
      {
       "output_type": "stream",
       "stream": "stdout",
       "text": [
        "(i)  Torque at standstill condition , T = 31089.35 syn.watt\n",
        "(ii) Torque at 6 percent slip , T_6 = 15982.06 syn.watt\n",
        "\n",
        "NOTE : Changes in answer is due to precision i.e more number of decimal places\n"
       ]
      }
     ],
     "prompt_number": 1
    },
    {
     "cell_type": "heading",
     "level": 2,
     "metadata": {},
     "source": [
      "Example 8.5, Page number 285"
     ]
    },
    {
     "cell_type": "code",
     "collapsed": false,
     "input": [
      "#Variable declaration\n",
      "V = 210.0      #Supply voltage(V)\n",
      "f = 50.0       #Supply frequency(Hz)\n",
      "P = 50.0       #Input power(W)\n",
      "I_br = 2.5     #Line current(A)\n",
      "V_L = 25.0     #Line voltage(V)\n",
      "R_1 = 2.4      #DC resistance between any two terminal(ohm)\n",
      "\n",
      "#Calculation\n",
      "V_br = V_L/3**0.5             #Phase voltage(V)\n",
      "P_br = P/3                    #Power per phase(W)\n",
      "R_eq = P_br/I_br**2           #Equivalent resistance(ohm)\n",
      "R_2 = R_eq-(R_1/2)            #Per phase rotor resistance(ohm)\n",
      "Z_eq = V_br/I_br              #Equivalent impedance(ohm)\n",
      "X_eq = (Z_eq**2-R_2**2)**0.5  #Equivalent reactance(ohm)\n",
      "X_1 = 0.5*X_eq                #For practical cases reactances(ohm)\n",
      "\n",
      "#Result\n",
      "print('Equivalent resistance , R_eq = %.1f ohm' %R_eq)\n",
      "print('Equivalent impedance , Z_eq = %.1f ohm' %Z_eq)\n",
      "print('Equivalent reactance , X_eq = %.1f ohm' %X_eq)\n",
      "print('Per phase rotor resistance , R_2 = %.1f ohm' %R_2)\n",
      "print('Reactances for practical cases , X_1 = X_2 = %.1f ohm' %X_1)"
     ],
     "language": "python",
     "metadata": {},
     "outputs": [
      {
       "output_type": "stream",
       "stream": "stdout",
       "text": [
        "Equivalent resistance , R_eq = 2.7 ohm\n",
        "Equivalent impedance , Z_eq = 5.8 ohm\n",
        "Equivalent reactance , X_eq = 5.6 ohm\n",
        "Per phase rotor resistance , R_2 = 1.5 ohm\n",
        "Reactances for practical cases , X_1 = X_2 = 2.8 ohm\n"
       ]
      }
     ],
     "prompt_number": 1
    },
    {
     "cell_type": "heading",
     "level": 2,
     "metadata": {},
     "source": [
      "Example 8.6, Page number 287"
     ]
    },
    {
     "cell_type": "code",
     "collapsed": false,
     "input": [
      "import math\n",
      "\n",
      "#Variable declaration\n",
      "V = 210.0        #Supply voltage(V)\n",
      "f = 50.0         #Supply frequency(Hz)\n",
      "P = 4.0          #Number of poles\n",
      "P_0 = 400.0      #Input power(W)\n",
      "I_0 = 1.2        #Line current(A)\n",
      "V_0 = 210.0      #Line voltage(V)\n",
      "P_fw = 150.0     #Total friction and windage losses(W)\n",
      "R = 2.2          #Stator resistance between any two terminals(ohm)\n",
      "        \n",
      "#Calculation\n",
      "R_1 = R/2                                   #Per phase stator resistance(ohm)\n",
      "P_scu = 3*I_0**2*R_1                        #Stator copper loss(W)\n",
      "P_core = P_0-P_fw-P_scu                     #Stator core loss(W)\n",
      "R_0 = (V_0/3**0.5)**2/(P_core/3)            #No-load resistance(ohm)\n",
      "#Alternate approach\\n\",\n",
      "phi_0 = math.acos(P_core/(3**0.5*V_0*I_0))  #Power factor angle(radians)\n",
      "phi_0_deg = phi_0*180/math.pi               #Power factor angle(degree)\n",
      "R_01 = (V_0/3**0.5)/(I_0*math.cos(phi_0))   #No-load circuit resistance per phase(ohm)\n",
      "X_0 = (V_0/3**0.5)/(I_0*math.sin(phi_0))    #Magnetizing reactance per phase(ohm)\n",
      "        \n",
      "#Result\n",
      "print('Stator core loss , P_core = %.1f W' %P_core)\n",
      "print('No-load circuit resistance per phase , R_0 = %.1f ohm' %R_01)\n",
      "print('Magnetizing reactance per phase , X_0 = %.f ohm' %X_0)"
     ],
     "language": "python",
     "metadata": {},
     "outputs": [
      {
       "output_type": "stream",
       "stream": "stdout",
       "text": [
        "Stator core loss , P_core = 245.2 W\n",
        "No-load circuit resistance per phase , R_0 = 179.8 ohm\n",
        "Magnetizing reactance per phase , X_0 = 122 ohm\n"
       ]
      }
     ],
     "prompt_number": 1
    },
    {
     "cell_type": "heading",
     "level": 2,
     "metadata": {},
     "source": [
      "Example 8.7, Page number 290"
     ]
    },
    {
     "cell_type": "code",
     "collapsed": false,
     "input": [
      "#Variable declaration\n",
      "P_1 = 6.0       #Number of pole\n",
      "P_2 = 4.0       #Number of pole\n",
      "f = 50.0        #Supply frequency(Hz)\n",
      "P = 60.0        #Power(kW)\n",
      "\n",
      "#Calculation\n",
      "#For case(i)\n",
      "s = P_2/(P_1+P_2)          #Combined slip\n",
      "#For case(ii)\n",
      "N_cs = 120*f/(P_1+P_2)     #Combined synchronous speed(rpm)\n",
      "#For case(iii)\n",
      "P_0 = P*P_2/(P_1+P_2)      #Output of 4-pole motor(kW)\n",
      "\n",
      "#Result\n",
      "print('(i)   Combined slip , s = %.1f ' %s)\n",
      "print('(ii)  Combined synchronous speed , N_cs = %.f rpm' %N_cs)\n",
      "print('(iii) Output of the 4-pole motor , P_0 = %.f kW' %P_0)"
     ],
     "language": "python",
     "metadata": {},
     "outputs": [
      {
       "output_type": "stream",
       "stream": "stdout",
       "text": [
        "(i)   Combined slip , s = 0.4 \n",
        "(ii)  Combined synchronous speed , N_cs = 600 rpm\n",
        "(iii) Output of the 4-pole motor , P_0 = 24 kW\n"
       ]
      }
     ],
     "prompt_number": 1
    }
   ],
   "metadata": {}
  }
 ]
}