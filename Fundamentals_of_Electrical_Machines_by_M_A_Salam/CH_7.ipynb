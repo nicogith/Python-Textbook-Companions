{
 "metadata": {
  "name": ""
 },
 "nbformat": 3,
 "nbformat_minor": 0,
 "worksheets": [
  {
   "cells": [
    {
     "cell_type": "heading",
     "level": 1,
     "metadata": {},
     "source": [
      "CHAPTER 7: THREE-PHASE INDUCTION MOTOR"
     ]
    },
    {
     "cell_type": "heading",
     "level": 2,
     "metadata": {},
     "source": [
      "Example 7.1, Page number 246-247"
     ]
    },
    {
     "cell_type": "code",
     "collapsed": false,
     "input": [
      "#Variable declaration\n",
      "V = 230.0        #Supply voltage(V)\n",
      "P = 4.0          #Number of poles\n",
      "f = 50.0         #Frequency(Hz)\n",
      "N_l = 1445.0     #Full load speed(rpm)\n",
      "\n",
      "#Calculation\n",
      "#For case(i)\n",
      "N_s = 120*f/P       #Synchronous speed(rpm)\n",
      "#For case(ii)\n",
      "s = (N_s-N_l)/N_s   #Slip\n",
      "#For case(iii)\n",
      "f_r = s*f           #Rotor frequency(Hz)\n",
      "\n",
      "#Result\n",
      "print('(i)   Synchronous speed , N_s = %.f rpm' %N_s)\n",
      "print('(ii)  Slip , s = %.4f ' %s)\n",
      "print('(iii) Rotor frequency , f_r = %.1f Hz' %f_r)"
     ],
     "language": "python",
     "metadata": {},
     "outputs": [
      {
       "output_type": "stream",
       "stream": "stdout",
       "text": [
        "(i)   Synchronous speed , N_s = 1500 rpm\n",
        "(ii)  Slip , s = 0.0367 \n",
        "(iii) Rotor frequency , f_r = 1.8 Hz\n"
       ]
      }
     ],
     "prompt_number": 1
    },
    {
     "cell_type": "heading",
     "level": 2,
     "metadata": {},
     "source": [
      "Example 7.2, Page number 247-248"
     ]
    },
    {
     "cell_type": "code",
     "collapsed": false,
     "input": [
      "#Variable declaration\n",
      "E_BR = 120.0     #Voltage under blocked condition(V)\n",
      "P = 4.0          #Number of poles\n",
      "f = 50.0         #Frequency(Hz)\n",
      "N_l = 1450.0     #Speed(rpm)\n",
      "\n",
      "#Calculation\n",
      "N_s = 120*f/P        #Synchronous speed(rpm)\n",
      "s = (N_s-N_l)/N_s    #Slip\n",
      "f_r = s*f            #Rotor frequency(Hz)\n",
      "E_r = s*E_BR         #Rotor voltage(V)\n",
      "\n",
      "#Result\n",
      "print('Synchronous speed , N_s = %.f rpm' %N_s)\n",
      "print('Rotor frequency , f_r = %.2f Hz' %f_r)\n",
      "print('Rotor voltage , E_r = %.2f V' %E_r)\n",
      "print('\\nNOTE : Changes in answer is due to precision i.e more number of decimal places')"
     ],
     "language": "python",
     "metadata": {},
     "outputs": [
      {
       "output_type": "stream",
       "stream": "stdout",
       "text": [
        "Synchronous speed , N_s = 1500 rpm\n",
        "Rotor frequency , f_r = 1.67 Hz\n",
        "Rotor voltage , E_r = 4.00 V\n",
        "\n",
        "NOTE : Changes in answer is due to precision i.e more number of decimal places\n"
       ]
      }
     ],
     "prompt_number": 1
    },
    {
     "cell_type": "heading",
     "level": 2,
     "metadata": {},
     "source": [
      "Example 7.3, Page number 250"
     ]
    },
    {
     "cell_type": "code",
     "collapsed": false,
     "input": [
      "#Variable declaration\n",
      "V_0 = 230.0    #Supply voltage(V)\n",
      "P = 4.0        #Number of poles\n",
      "T_0 = 230.0    #Original torque(N-m)\n",
      "V_s = 150.0    #Stator voltage(V)\n",
      "I_0 = 560.0    #Starting current(A)\n",
      "\n",
      "#Calculation\n",
      "T_st = (V_s/V_0)**2*T_0    #Starting torque(N-m)\n",
      "I_st = I_0*(V_s/V_0)       #Starting current(A)\n",
      "\n",
      "#Result\n",
      "print('Starting torque , T_st = %.1f N-m' %T_st)\n",
      "print('Starting current , I_st = %.1f A' %I_st)"
     ],
     "language": "python",
     "metadata": {},
     "outputs": [
      {
       "output_type": "stream",
       "stream": "stdout",
       "text": [
        "Starting torque , T_st = 97.8 N-m\n",
        "Starting current , I_st = 365.2 A\n"
       ]
      }
     ],
     "prompt_number": 1
    },
    {
     "cell_type": "heading",
     "level": 2,
     "metadata": {},
     "source": [
      "Example 7.4, Page number 254"
     ]
    },
    {
     "cell_type": "code",
     "collapsed": false,
     "input": [
      "#Variable declaration\n",
      "f = 50.0        #Frequency(Hz)\n",
      "P = 8.0         #Number of poles\n",
      "a = 0.03        #Full load slip\n",
      "R_2 = 0.01      #Rotor resistance per phase(ohm)\n",
      "X_2 = 0.1       #Standstill reactance per phase(ohm)\n",
      "\n",
      "#Calculation\n",
      "#For case(i)\n",
      "N_s = 120*f/P               #Synchronous speed(rpm)\n",
      "s = R_2/X_2                 #Slip at maximum torque\n",
      "N_l = (1-s)*N_s             #Rotor speed at maximum torque(rpm)\n",
      "#For case(ii)\n",
      "T = (s**2+a**2)/(2*a*s)     #Ratio of maximum torque to full load torque\n",
      "\n",
      "#Result\n",
      "print('(i)  Speed at which maximum torque occurs , N_l = %.f rpm' %N_l)\n",
      "print('(ii) Ratio of the maximum torque to full load torque , T_max/T_f = %.2f ' %T)"
     ],
     "language": "python",
     "metadata": {},
     "outputs": [
      {
       "output_type": "stream",
       "stream": "stdout",
       "text": [
        "(i)  Speed at which maximum torque occurs , N_l = 675 rpm\n",
        "(ii) Ratio of the maximum torque to full load torque , T_max/T_f = 1.82 \n"
       ]
      }
     ],
     "prompt_number": 1
    },
    {
     "cell_type": "heading",
     "level": 2,
     "metadata": {},
     "source": [
      "Example 7.5, Page number 260"
     ]
    },
    {
     "cell_type": "code",
     "collapsed": false,
     "input": [
      "#Variable declaration\n",
      "V = 440.0       #Supply voltage(V)\n",
      "P = 4.0         #Number of poles\n",
      "P_ag = 1500.0   #Rotor input(W)\n",
      "P_rcu = 250.0   #Copper loss(W)\n",
      "f = 50.0        #Frequency(Hz)\n",
      "\n",
      "#Calculation\n",
      "#For case(i)\n",
      "s = P_rcu/P_ag         #Slip\n",
      "#For case(ii)\n",
      "N_s = 120*f/P          #Synchronous speed(rpm)\n",
      "#For case(iii)\n",
      "N_l = (1-s)*N_s        #Shaft speed(rpm)\n",
      "#For case(iv)\n",
      "P_mech = (1-s)*P_ag    #Mechanical power developed(W)\n",
      "\n",
      "#Result\n",
      "print('(i)   Slip , s = %.2f' %s)\n",
      "print('(ii)  Synchronous speed , N_s = %.f rpm' %N_s)\n",
      "print('(iii) Shaft speed , N_l = %.f rpm' %N_l)\n",
      "print('(iv)  Mechanical power developed , P_mech = %.f W' %P_mech)\n",
      "print('\\nNOTE : Changes in answer is due to precision i.e more number of decimal places')"
     ],
     "language": "python",
     "metadata": {},
     "outputs": [
      {
       "output_type": "stream",
       "stream": "stdout",
       "text": [
        "(i)   Slip , s = 0.17\n",
        "(ii)  Synchronous speed , N_s = 1500 rpm\n",
        "(iii) Shaft speed , N_l = 1250 rpm\n",
        "(iv)  Mechanical power developed , P_mech = 1250 W\n",
        "\n",
        "NOTE : Changes in answer is due to precision i.e more number of decimal places\n"
       ]
      }
     ],
     "prompt_number": 1
    },
    {
     "cell_type": "heading",
     "level": 2,
     "metadata": {},
     "source": [
      "Example 7.6, Page number 264"
     ]
    },
    {
     "cell_type": "code",
     "collapsed": false,
     "input": [
      "import math\n",
      "\n",
      "#Variable declaration\n",
      "V_1 = 150.0              #Supply voltage(V)\n",
      "P = 4.0                  #Number of poles\n",
      "f = 50.0                 #Frequency(Hz)\n",
      "Z_1 = complex(0.12,0.16) #Per phase standstill stator impedance(ohm)\n",
      "Z_2 = complex(0.22,0.28) #Per phase standstill rotor impedance(ohm)\n",
      "\n",
      "#Calculation\n",
      "Z_eq = Z_1+Z_2                                  #Equivalent impedance(ohm)\n",
      "R_eq = Z_eq.real\n",
      "P_mech =  3*V_1**2/(2*(R_eq+abs(Z_eq)))*10**-3  #Maximum mechanical power developed(kW)\n",
      "R_2 = Z_2.real\n",
      "s_mp = R_2/(abs(Z_eq)+R_2)                      #Slip\n",
      "W_s = 2*math.pi*2*f/P                           #Synchronous speed(rad/s)\n",
      "W = (1-s_mp)*W_s                                #Speed of rotor(rad/s)\n",
      "T_mxm = P_mech*1000/W                           #Maximum torque(N-m) \n",
      "\n",
      "#Result\n",
      "print('Maximum mechanical power , P_mech = %.2f kW' %P_mech)\n",
      "print('Maximum torque , T_mxm = %.2f N-m' %T_mxm)\n",
      "print('Slip , s_mp = %.2f ' %s_mp)\n",
      "print('\\nNOTE : Changes in answer is due to precision i.e more number of decimal places')"
     ],
     "language": "python",
     "metadata": {},
     "outputs": [
      {
       "output_type": "stream",
       "stream": "stdout",
       "text": [
        "Maximum mechanical power , P_mech = 37.66 kW\n",
        "Maximum torque , T_mxm = 334.65 N-m\n",
        "Slip , s_mp = 0.28 \n",
        "\n",
        "NOTE : Changes in answer is due to precision i.e more number of decimal places\n"
       ]
      }
     ],
     "prompt_number": 1
    },
    {
     "cell_type": "heading",
     "level": 2,
     "metadata": {},
     "source": [
      "Example 7.7, Page number 265-266"
     ]
    },
    {
     "cell_type": "code",
     "collapsed": false,
     "input": [
      "#Variable declaration\n",
      "V = 440.0           #Supply voltage(V)\n",
      "P = 6.0             #Number of poles\n",
      "f = 50.0            #Frequency(Hz)\n",
      "P_a = 45000.0       #Input power(W)\n",
      "N_l = 900.0         #Speed(rpm)\n",
      "P_tloss = 2000.0    #Total stator losses(W)\n",
      "P_fw = 1000.0       #Friction and windage losses(W)\n",
      "\n",
      "#Calculation\n",
      "N_s = 120*f/P                 #Synchronous speed(rpm)\n",
      "s = (N_s-N_l)/N_s             #Slip\n",
      "P_ag = (P_a-P_tloss)          #Air gap power(W)\n",
      "P_rcu = s*P_ag                #Rotor copper loss(W)\n",
      "P_mech = P_ag-P_rcu           #Mechanical power(W)\n",
      "P_0 = P_mech-(P_tloss+P_fw)   #Output power(W)\n",
      "n = (P_0/P_ag)*100            #Efficiency(percent)\n",
      "\n",
      "#Result\n",
      "print('(i)   Slip , s = %.1f ' %s)\n",
      "print('(ii)  Rotor copper loss , P_rcu = %.f W' %P_rcu)\n",
      "print('(iii) Shaft or Output power , P_0 = %.f W' %P_0)\n",
      "print('(iv)  Efficiency , \u03b7 = %.f percent' %n)\n",
      "print('\\nNOTE : ERROR : Friction & windage losses are 1 kW not 1.5 kW as given in textbook question')"
     ],
     "language": "python",
     "metadata": {},
     "outputs": [
      {
       "output_type": "stream",
       "stream": "stdout",
       "text": [
        "(i)   Slip , s = 0.1 \n",
        "(ii)  Rotor copper loss , P_rcu = 4300 W\n",
        "(iii) Shaft or Output power , P_0 = 35700 W\n",
        "(iv)  Efficiency , \u03b7 = 83 percent\n",
        "\n",
        "NOTE : ERROR : Friction & windage losses are 1 kW not 1.5 kW as given in textbook question\n"
       ]
      }
     ],
     "prompt_number": 1
    },
    {
     "cell_type": "heading",
     "level": 2,
     "metadata": {},
     "source": [
      "Example 7.8, Page number 268-269"
     ]
    },
    {
     "cell_type": "code",
     "collapsed": false,
     "input": [
      "#Variable declaration\n",
      "v_s = 120.0      #Train speed(km/h)\n",
      "f = 50.0         #Stator frequency(Hz)\n",
      "\n",
      "#Calculation\n",
      "v_s1 = v_s*1000/(60*60)    #Train speed(m/s)\n",
      "w = v_s1/(2*f)             #Length of the pole-pitch(m)\n",
      "\n",
      "#Result\n",
      "print('Length of the pole-pitch of linear induction motor , w = %.2f m' %w)"
     ],
     "language": "python",
     "metadata": {},
     "outputs": [
      {
       "output_type": "stream",
       "stream": "stdout",
       "text": [
        "Length of the pole-pitch of linear induction motor , w = 0.33 m\n"
       ]
      }
     ],
     "prompt_number": 1
    }
   ],
   "metadata": {}
  }
 ]
}