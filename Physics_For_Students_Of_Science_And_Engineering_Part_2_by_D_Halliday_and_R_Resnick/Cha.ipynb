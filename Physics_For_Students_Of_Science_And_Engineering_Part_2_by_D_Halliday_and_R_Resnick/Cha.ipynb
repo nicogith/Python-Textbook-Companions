{
 "cells": [
  {
   "cell_type": "markdown",
   "metadata": {},
   "source": [
    "# Chapter 30 CAPACITORS AND DIELECTRICS"
   ]
  },
  {
   "cell_type": "markdown",
   "metadata": {},
   "source": [
    "## Example 30.1 Plate area"
   ]
  },
  {
   "cell_type": "code",
   "execution_count": 1,
   "metadata": {
    "collapsed": false
   },
   "outputs": [
    {
     "name": "stdout",
     "output_type": "stream",
     "text": [
      "Plate area in square meter is 1.130e+08\n"
     ]
    }
   ],
   "source": [
    "C=1.0 #capacitance in farad\n",
    "d=1.0*10**-3 #separation b/w plates in meter\n",
    "epsilon0=8.85*10**-12 #coul2/nt-m2\n",
    "A=d*C/epsilon0\n",
    "print(\"Plate area in square meter is %.3e\"%A)"
   ]
  },
  {
   "cell_type": "markdown",
   "metadata": {},
   "source": [
    "## Example 30.5 To calculate Capacitance Free charge Electric ﬁeld strength Potential diﬀrence between plates"
   ]
  },
  {
   "cell_type": "code",
   "execution_count": 2,
   "metadata": {
    "collapsed": false
   },
   "outputs": [
    {
     "name": "stdout",
     "output_type": "stream",
     "text": [
      "(a)Capacitance before the slab is inserted in farad is 8.850e-12\n",
      "(b)Free charge in coul is 8.850e-10\n",
      "(c)Electric field strength in the gap in volts/meter is 10000\n",
      "(d)Electric field strength in the dielectric in volts/meter is 1428.5714\n",
      "(e)Potential difference between the plates in volts is 57.1429\n",
      "(f)Capacitance with the slab in place in farads is 1.549e-11\n"
     ]
    }
   ],
   "source": [
    "epsilon0=8.85*10**-12 #coul2/nt-m2\n",
    "A=100*10**-4#area of the plate in square meter\n",
    "d=1*10**-2 #separation b/w plates in meter\n",
    "b=5*10**-3 #thickness of dielectric lab in meter\n",
    "V0=100#in volts\n",
    "k=7\n",
    "#(a)\n",
    "C0=epsilon0*A/d\n",
    "print(\"(a)Capacitance before the slab is inserted in farad is %.3e\"%C0)\n",
    "#(b)\n",
    "q=C0*V0\n",
    "print(\"(b)Free charge in coul is %.3e\"%q)\n",
    "#(c)\n",
    "E0=q/(epsilon0*A)\n",
    "print(\"(c)Electric field strength in the gap in volts/meter is %d\"%E0)\n",
    "#(d)\n",
    "E=q/(k*epsilon0*A)\n",
    "print(\"(d)Electric field strength in the dielectric in volts/meter is %.4f\"%E)\n",
    "#(e)\n",
    "#Refer to fig30-12\n",
    "V=E0*(d-b)+E*b\n",
    "print(\"(e)Potential difference between the plates in volts is %.4f\"%V)\n",
    "#(f)\n",
    "C=q/V\n",
    "print(\"(f)Capacitance with the slab in place in farads is %.3e\"%C)"
   ]
  },
  {
   "cell_type": "markdown",
   "metadata": {},
   "source": [
    "## Example 30.6 To calculate Electric displacement and Electric polarisation in dielectric and air gap"
   ]
  },
  {
   "cell_type": "code",
   "execution_count": 3,
   "metadata": {
    "collapsed": false
   },
   "outputs": [
    {
     "name": "stdout",
     "output_type": "stream",
     "text": [
      "(a)Electric displacement in dielectric in coul/square metre is 8.859e-08\n",
      "Electric polarisation in dielectric in coul/square meter is 7.593e-08\n",
      "(b)Electric displacement in air gap in coul/square metre is 8.850e-08\n",
      "Electric polarisation in air gap in coul/square meter is 0.0\n"
     ]
    }
   ],
   "source": [
    "epsilon0=8.85*10**-12 #coul2/nt-m2\n",
    "A=100*10**-4#area of the plate in square meter\n",
    "d=1*10**-2 #separation b/w plates in meter\n",
    "V0=100#in volts\n",
    "E0=1*10**4 #Electric field in the air gap in volts/meter\n",
    "k=7\n",
    "k0=1\n",
    "E=1.43*10**3 #in volts/metre\n",
    "D=k*E*epsilon0\n",
    "P=epsilon0*(k-1)*E\n",
    "#(a)\n",
    "print(\"(a)Electric displacement in dielectric in coul/square metre is %.3e\"%D)\n",
    "print(\"Electric polarisation in dielectric in coul/square meter is %.3e\"%P)\n",
    "#(b)\n",
    "D0=k0*epsilon0*E0\n",
    "print(\"(b)Electric displacement in air gap in coul/square metre is %.3e\"%D0)\n",
    "P0=epsilon0*(k0-1)*E0\n",
    "print(\"Electric polarisation in air gap in coul/square meter is\",P0)"
   ]
  }
 ],
 "metadata": {
  "anaconda-cloud": {},
  "kernelspec": {
   "display_name": "Python [Root]",
   "language": "python",
   "name": "Python [Root]"
  },
  "language_info": {
   "codemirror_mode": {
    "name": "ipython",
    "version": 2
   },
   "file_extension": ".py",
   "mimetype": "text/x-python",
   "name": "python",
   "nbconvert_exporter": "python",
   "pygments_lexer": "ipython2",
   "version": "2.7.12"
  },
  "widgets": {
   "state": {},
   "version": "1.1.2"
  }
 },
 "nbformat": 4,
 "nbformat_minor": 0
}
