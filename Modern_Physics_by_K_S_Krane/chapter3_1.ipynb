{
 "metadata": {
  "name": "",
  "signature": "sha256:90fc77a4706b2ba6c4e383a2e0d80f0a572a43d837aa619ea730d827f91d4409"
 },
 "nbformat": 3,
 "nbformat_minor": 0,
 "worksheets": [
  {
   "cells": [
    {
     "cell_type": "heading",
     "level": 1,
     "metadata": {},
     "source": [
      "3: The Atomic Structure"
     ]
    },
    {
     "cell_type": "heading",
     "level": 2,
     "metadata": {},
     "source": [
      "Example number 3.1, Page number 25"
     ]
    },
    {
     "cell_type": "code",
     "collapsed": false,
     "input": [
      "#import modules\n",
      "import math\n",
      "from __future__ import division\n",
      "\n",
      "#Variable declaration\n",
      "Z=79;         #atomic number of gold\n",
      "e=1.6*10**-19;       #electron charge(C)\n",
      "Eo=8.854*10**-12;     #absolute permitivity of free space(F/m)\n",
      "K=7.68*1.6*10**-13;    #kinectic energy(J)\n",
      "\n",
      "#calculation\n",
      "D=(2*Z*e**2)/(4*math.pi*Eo*K);        #closest distance of approach(m)\n",
      "\n",
      "#Result\n",
      "print \"The closest distance of approach is\",round(D/1e-14,2),\"*10**-14 m\""
     ],
     "language": "python",
     "metadata": {},
     "outputs": [
      {
       "output_type": "stream",
       "stream": "stdout",
       "text": [
        "The closest distance of approach is 2.96 *10**-14 m\n"
       ]
      }
     ],
     "prompt_number": 4
    },
    {
     "cell_type": "heading",
     "level": 2,
     "metadata": {},
     "source": [
      "Example number 3.2, Page number 28"
     ]
    },
    {
     "cell_type": "code",
     "collapsed": false,
     "input": [
      "#import modules\n",
      "import math\n",
      "from __future__ import division\n",
      "\n",
      "#Variable declaration\n",
      "Z=1;       #atomic number of hydrogen\n",
      "e=1.6*10**-19;    #electron charge(C)\n",
      "h=6.625*10**-34;    #plank's constant(J-s)\n",
      "m=9.1*10**-31;      #mass of an electron(kg)\n",
      "Eo=8.854*10**-12;        #absolute permitivity of free space(F/m)\n",
      "c=3*10**8;               #speed of light(m/s)\n",
      "n=1;                 #ground state\n",
      "\n",
      "#calculation\n",
      "v=9*10**9*(2*math.pi*Z*e**2)/(n*h);         #velocity of ground state(m/s)\n",
      "r=(Eo*n**2*h**2)/(math.pi*m*e**2);          #radius of Bohr orbit in ground state(m)\n",
      "t=(2*math.pi*r)/v;        #time taken by electron to traverse the bohr first orbit(s)\n",
      "R=(m*(e**4))/(8*(Eo**2)*(h**3)*c);       #Rhydberg contstant(m^-1)\n",
      "#v=v*10**-5;\n",
      "#v=math.ceil(v*10**3)/10**3;   #rounding off to 3 decimals\n",
      "#r=r*10**10;\n",
      "#R=R/10**6;\n",
      "\n",
      "#Result\n",
      "print \"velocity of ground state\",round(v/1e+5,2),\"*10^5 m/s\"\n",
      "print \"radius of Bohr orbit in ground state\",round(r/1e-10,2),\"*10^-10 m\"\n",
      "print \"time taken by electron to traverse the bohr first orbit\",round(t/1e-16,2),\"micro s\"\n",
      "print \"Rhydberg constant is\",round(R/1e+6,3),\"*10**6 m^-1\"\n",
      "print \"answer for Rhydberg contstant given in the book differs in the 2nd decimal point\""
     ],
     "language": "python",
     "metadata": {},
     "outputs": [
      {
       "output_type": "stream",
       "stream": "stdout",
       "text": [
        "velocity of ground state 21.85 *10^5 m/s\n",
        "radius of Bohr orbit in ground state 0.53 *10^-10 m\n",
        "time taken by electron to traverse the bohr first orbit 1.53 micro s\n",
        "Rhydberg constant is 10.901 *10**6 m^-1\n",
        "answer for Rhydberg contstant given in the book differs in the 2nd decimal point\n"
       ]
      }
     ],
     "prompt_number": 18
    },
    {
     "cell_type": "heading",
     "level": 2,
     "metadata": {},
     "source": [
      "Example number 3.3, Page number 29"
     ]
    },
    {
     "cell_type": "code",
     "collapsed": false,
     "input": [
      "#import modules\n",
      "import math\n",
      "from __future__ import division\n",
      "\n",
      "#Variable declaration\n",
      "B=2.179*10**-16;      #constant(J)\n",
      "h=6.6*10**-34;      #plank's constant(J-s)\n",
      "\n",
      "#calculation\n",
      "E3=-B/3**2;       #energy in 3rd orbit(J)\n",
      "E2=-B/2**2;       #energy in 2nd orbit(J)  \n",
      "f=(E3-E2)/h;      #frequency of radiation(Hz) \n",
      "\n",
      "#Result\n",
      "print \"frequency of radiation\",round(f/1e+16,1),\"*10**16 Hz\""
     ],
     "language": "python",
     "metadata": {},
     "outputs": [
      {
       "output_type": "stream",
       "stream": "stdout",
       "text": [
        "frequency of radiation 4.6 *10**16 Hz\n"
       ]
      }
     ],
     "prompt_number": 35
    },
    {
     "cell_type": "heading",
     "level": 2,
     "metadata": {},
     "source": [
      "Example number 3.4, Page number 29"
     ]
    },
    {
     "cell_type": "code",
     "collapsed": false,
     "input": [
      "#import modules\n",
      "import math\n",
      "from __future__ import division\n",
      "\n",
      "#Variable declaration\n",
      "Z=1;     #atomic number of hydrogen\n",
      "e=1.6*10**-19;       #electron charge(C)\n",
      "h=6.625*10**-34;     #plank's constant(J-s)\n",
      "m=9.1*10**-31;       #mass of an electron(kg)\n",
      "Eo=8.854*10**-12;    #absolute permitivity of free space(F/m)\n",
      "n=1;         #ground state\n",
      "\n",
      "#Calculation\n",
      "f=(m*Z**2*e**4)/(4*Eo**2*h**3);         #frequency(Hz)\n",
      "\n",
      "#Result\n",
      "print \"the frequency is\",round(f/1e+15,2),\"*10**15 Hz\""
     ],
     "language": "python",
     "metadata": {},
     "outputs": [
      {
       "output_type": "stream",
       "stream": "stdout",
       "text": [
        "the frequency is 6.54 *10**15 Hz\n"
       ]
      }
     ],
     "prompt_number": 38
    },
    {
     "cell_type": "heading",
     "level": 2,
     "metadata": {},
     "source": [
      "Example number 3.5, Page number 30"
     ]
    },
    {
     "cell_type": "code",
     "collapsed": false,
     "input": [
      "#import modules\n",
      "import math\n",
      "from __future__ import division\n",
      "\n",
      "#Variable declaration\n",
      "Z=1;\n",
      "n=1;\n",
      "e=1.6*10**-19;    #the charge on electron(C)\n",
      "h=6.62*10**-34;   #Plank's constant\n",
      "Eo=8.854*10**-12;     #absolute permitivity of free space(F/m)\n",
      "m=9.1*10**-31;     #mass of electron(kg)\n",
      "\n",
      "#calculation\n",
      "v=Z*(e**2)/(2*Eo*n*h);        #velocity(m/s)\n",
      "E=-m*(Z**2)*(e**4)/(8*(Eo*n*h)**2);      #energy of hydrogen atom(J)\n",
      "f=m*(Z**2)*(e**4)/(4*(Eo**2)*(n*h)**3);        #frequecy(Hz)\n",
      "\n",
      "#Result\n",
      "print \"velocity is\",round(v*10**-6,2),\"*10**6 m/s\"\n",
      "print \"energy of hydrogen atom\",round(E*10**19,1),\"*10**-19 J\"\n",
      "print \"frequecy\",round(f/1e+15,1),\"*10**15 Hz\"\n",
      "print \"answer for velocity given in the book is wrong\"\n",
      "print \"answer for frequency given in the book varies due to rounding off errors\""
     ],
     "language": "python",
     "metadata": {},
     "outputs": [
      {
       "output_type": "stream",
       "stream": "stdout",
       "text": [
        "velocity is 2.18 *10**6 m/s\n",
        "energy of hydrogen atom -21.7 *10**-19 J\n",
        "frequecy 6.6 *10**15 Hz\n",
        "answer for velocity given in the book is wrong\n",
        "answer for frequency given in the book varies due to rounding off errors\n"
       ]
      }
     ],
     "prompt_number": 24
    },
    {
     "cell_type": "heading",
     "level": 2,
     "metadata": {},
     "source": [
      "Example number 3.8, Page number 38"
     ]
    },
    {
     "cell_type": "code",
     "collapsed": false,
     "input": [
      "#import modules\n",
      "import math\n",
      "from __future__ import division\n",
      "\n",
      "#Variable declaration\n",
      "h=6.625*10**-34;     #Plank's constant\n",
      "c=3*10**8;          #speed of light(m/s)\n",
      "E1=10.2;           #energy(eV)\n",
      "E2=12.09;           #energy(eV)\n",
      "e=1.6*10**-19;        #the charge on electron(C)\n",
      "\n",
      "#calcualtion\n",
      "#principal quantum numbers are 2 & 3 respectively\n",
      "lamda1=c*h/(E1*e)*10**10;       #wavelength for E1(angstrom)\n",
      "lamda2=c*h/(E2*e)*10**10;       #wavelength for E2(angstrom)\n",
      "\n",
      "#Result\n",
      "print \"wavelength for 10.2 eV is\",int(lamda1),\"angstrom\"\n",
      "print \"wavelength for 12.09 eV is\",int(lamda2),\"angstrom\"\n",
      "print \"answers given in the book differ due to rounding off errors\""
     ],
     "language": "python",
     "metadata": {},
     "outputs": [
      {
       "output_type": "stream",
       "stream": "stdout",
       "text": [
        "wavelength for 10.2 eV is 1217 angstrom\n",
        "wavelength for 12.09 eV is 1027 angstrom\n",
        "answers given in the book differ due to rounding off errors\n"
       ]
      }
     ],
     "prompt_number": 58
    },
    {
     "cell_type": "heading",
     "level": 2,
     "metadata": {},
     "source": [
      "Example number 3.9, Page number 39"
     ]
    },
    {
     "cell_type": "code",
     "collapsed": false,
     "input": [
      "#import modules\n",
      "import math\n",
      "from __future__ import division\n",
      "\n",
      "#Variable declaration\n",
      "R=10967700;      #Rydberg constant(m^-1)\n",
      "\n",
      "#calculation\n",
      "long_lamda=4/(3*R);     #as n1=1 and n2=2\n",
      "long_lamda=long_lamda*10**10;           #long wavelength(angstrom)\n",
      "short_lamda=1/R;         #as n1=1 and n2=infinity\n",
      "short_lamda=short_lamda*10**10;         #long wavelength(angstrom)\n",
      "\n",
      "#Result\n",
      "print \"Long wavelength is\",round(long_lamda),\"angstrom\"\n",
      "print \"Short wavelength is\",round(short_lamda),\"angstrom\""
     ],
     "language": "python",
     "metadata": {},
     "outputs": [
      {
       "output_type": "stream",
       "stream": "stdout",
       "text": [
        "Long wavelength is 1216.0 angstrom\n",
        "Short wavelength is 912.0 angstrom\n"
       ]
      }
     ],
     "prompt_number": 62
    }
   ],
   "metadata": {}
  }
 ]
}