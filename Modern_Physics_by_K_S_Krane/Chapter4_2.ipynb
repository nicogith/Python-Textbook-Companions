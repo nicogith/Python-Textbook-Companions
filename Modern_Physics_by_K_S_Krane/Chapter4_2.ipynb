{
 "metadata": {
  "name": "MP-4"
 },
 "nbformat": 3,
 "nbformat_minor": 0,
 "worksheets": [
  {
   "cells": [
    {
     "cell_type": "heading",
     "level": 1,
     "metadata": {},
     "source": "The Wave Like Properties of Particles"
    },
    {
     "cell_type": "heading",
     "level": 2,
     "metadata": {},
     "source": "Example 4.1 Page 101"
    },
    {
     "cell_type": "code",
     "collapsed": false,
     "input": "#initiation of variable\nfrom math import sqrt\nh=6.6*10**-34;                              # h(planck's constant)= 6.6*10^-34 \nm1= 10.0**3;v1=100.0;                           # for automobile\n\n#calculation\nw1= h/(m1*v1);                            # ['w'-wavelength in metre'm'-mass in Kg 'v'-velocity in metres/sec.] of the particles \nm2=10.0*(10**-3);v2= 500;                     # for bullet\nw2=h/(m2*v2);\nm3=(10.0**-9)*(10.0**-3); v3=1.0*10**-2;\nw3=h/(m3*v3);\nm4=9.1*10**-31;k=1*1.6*10**-19;            # k- kinetic energy of the electron & using 1ev = 1.6*10^-19 joule\np=sqrt(2.0*m4*k);                         # p=momentum of electron ;from K=1/2*m*v^2\nw4=h/p;\nhc=1240;pc=100                         # In the extreme relativistc realm, K=E=pc; Given pc=100MeV,hc=1240MeV \nw5= hc/pc;\n\n#result\nprint \"Wavelength of the automobile in m is\",w1;\nprint \"Wavelength of the bullet in m is \",w2 ;\nprint\"Wavelength of the smoke particle in m is\",w3 ;\nprint \"Wavelength of the electron(1ev) in nm is\",round(w4*10**9,3) ;\nprint \"Wavelength of the electron (100Mev) in fm is\",w5;",
     "language": "python",
     "metadata": {},
     "outputs": [
      {
       "output_type": "stream",
       "stream": "stdout",
       "text": "Wavelength of the automobile in m is 6.6e-39\nWavelength of the bullet in m is  1.32e-34\nWavelength of the smoke particle in m is 6.6e-20\nWavelength of the electron(1ev) in nm is 1.223\nWavelength of the electron (100Mev) in fm is 12\n"
      }
     ],
     "prompt_number": 3
    },
    {
     "cell_type": "heading",
     "level": 2,
     "metadata": {},
     "source": "Example 4.2 Page 113"
    },
    {
     "cell_type": "code",
     "collapsed": false,
     "input": "#initiation of variable\nfrom math import pi\n# w=wavelength; consider k=2*(pi/w); \n# differentiate k w.r.t w and replace del(k)/del(w) = 1 for equation.4.3\n# which gives del(w)= w^2 /(2*pi*del(x)), hence \nw=20; delx=200; # delx=200cm and w=20cm\n\n#calculation\ndelw=(w**2)/(delx*2*pi);\n\n#result\nprint \"Hence uncertainity in length in cm is\",round(delw,3);",
     "language": "python",
     "metadata": {},
     "outputs": [
      {
       "output_type": "stream",
       "stream": "stdout",
       "text": "Hence uncertainity in length is in cm 0.318\n"
      }
     ],
     "prompt_number": 4
    },
    {
     "cell_type": "heading",
     "level": 2,
     "metadata": {},
     "source": "Example 4.3 Page 114"
    },
    {
     "cell_type": "code",
     "collapsed": false,
     "input": "#initiation of variable\nfrom math import pi\ndelt=1.0;             #consider time interval of 1 sec\ndelw=1/delt;        # since delw*delt =1 from equation 4.4\ndelf=0.01          #calculated accuracy is 0.01Hz\n\n#calculation\ndelwc =2*pi*delf # delwc-claimed accuracy from w=2*pi*f\n\n#result\nprint \"The minimum uncertainity calculated is 1rad/sec. The claimed accuracy in rad/sec is \\n\",round(delwc,3);\nprint \"thus there is a reason to doubt the claim\"\n",
     "language": "python",
     "metadata": {},
     "outputs": [
      {
       "output_type": "stream",
       "stream": "stdout",
       "text": "The minimum uncertainity calculated is 1rad/sec. The claimed accuracy is in rad/sec\n0.063\nthus there is a reason to doubt the claim\n"
      }
     ],
     "prompt_number": 6
    },
    {
     "cell_type": "heading",
     "level": 2,
     "metadata": {},
     "source": "Example 4.4 Page 115"
    },
    {
     "cell_type": "code",
     "collapsed": false,
     "input": "#initiation of variable\nfrom math import pi\nm=9.11*10**-31;v=3.6*10**6; #'m','v' - mass an velocity of the electron in SI units\nh=1.05*10**-34; #planck's constant in SI\np=m*v; #momentum\ndelp=p*0.01; #due to 1% precision in p\ndelx = h/delp; #uncertainity in position\n\n#result\nprint \"Uncertainity in position in nm is\",round(delx*10**9,2);\n\n#partb\nprint \"Since the motion is strictly along X-direction, its velocity in Y direction is absolutely zero.\\n So uncertainity in velocity along y is zero=> uncertainity in position along y is infinite. \\nSo nothing can be said about its position/motion along \"",
     "language": "python",
     "metadata": {},
     "outputs": [
      {
       "output_type": "stream",
       "stream": "stdout",
       "text": "Uncertainity in position in nm is 3.2\nSince the motion is strictly along X-direction, its velocity in Y direction is absolutely zero.\n So uncertainity in velocity along y is zero=> uncertainity in position along y is infinite. \nSo nothing can be said about its position/motion along \n"
      }
     ],
     "prompt_number": 4
    },
    {
     "cell_type": "heading",
     "level": 2,
     "metadata": {},
     "source": "Example 4.5 Page 116"
    },
    {
     "cell_type": "code",
     "collapsed": false,
     "input": "#initiation of variable\nfrom math import pi\nm=0.145;v=42.5; #'m','v' - mass an velocity of the electron in SI units\nh=1.05*10**-34; #planck's constant in SI\np=m*v; #momentum\ndelp=p*0.01;#due to 1% precision in p\n\n#calculation\ndelx = h/delp#uncertainity in position\n\n#result\nprint \"Uncertainity in position is %.1e\" %delx;\n\n#part b\nprint \"Motion along y is unpredictable as long as the veloity along y is exactly known(as zero).\";",
     "language": "python",
     "metadata": {},
     "outputs": [
      {
       "output_type": "stream",
       "stream": "stdout",
       "text": "Uncertainity in position is 1.7e-33\nMotion along y is unpredictable as long as the veloity along y is exactly known(as zero).\n"
      }
     ],
     "prompt_number": 5
    },
    {
     "cell_type": "heading",
     "level": 2,
     "metadata": {},
     "source": "Example 4.7 Page 119"
    },
    {
     "cell_type": "code",
     "collapsed": false,
     "input": "#initiation of variable\nfrom math import sqrt\nmc2=2.15*10**-4;          #mc2 is the mass of the electron, concidered in Mev for the simplicity in calculations\nhc=197.0                  # The value of h*c in Mev.fm for simplicity\ndelx= 10.0               # Given uncertainity in position=diameter of nucleus= 10 fm\n\n#calculation\ndelp= hc/delx ;       #Uncertainiy in momentum per unit 'c' i.e (Mev/c) delp= h/delx =(h*c)/(c*delx);hc=197 Mev.fm  1Mev=1.6*10^-13 Joules')\np=delp;               # Equating delp to p  as a consequence of equation 4.10\nK1=p**2+mc2**2   # The following 3 steps are the steps invlolved in calculating K.E= sqrt((p*c)^2 + (mc^2)^2)- m*c^2\nK1=sqrt(K1)\nK1= K1-(mc2);\n\n#result\nprint \"Kinetic energy was found out to be in Mev is\", round(K1,3)",
     "language": "python",
     "metadata": {},
     "outputs": [
      {
       "output_type": "stream",
       "stream": "stdout",
       "text": "Kinetic energy was found out to be in Mev 19.7\n"
      }
     ],
     "prompt_number": 14
    },
    {
     "cell_type": "heading",
     "level": 2,
     "metadata": {},
     "source": "Example 4.8 Page 120"
    },
    {
     "cell_type": "code",
     "collapsed": false,
     "input": "#initiation of variable\nh=6.58*10**-16; # plack's constant\ndelt1=26.0*10**-9;E1=140.0*10**6 #given values of lifetime and rest energy of charged pi meson\ndelt2=8.3*10**-17;E2=135.0*10**6;  #given values of lifetime and rest energy of uncharged pi meson\ndelt3=4.4*10**-24;E3=765*10**6;       #given values of lifetime and rest energy of rho meson\n\n#calculation\ndelE1=h/delt1; k1=delE1/E1;  # k is the measure of uncertainity\ndelE2=h/delt2; k2=delE2/E2;\ndelE3=h/delt3; k3=delE3/E3;\n\n#result\nprint \"Uncertainity in energy of charged pi meson is %.1e\" %k1;\nprint \"Uncertainity in energy of uncharged pi meson is %.1e\" %k2;\nprint \"Uncertainity in energy of rho meson is \",round(k3,2);",
     "language": "python",
     "metadata": {},
     "outputs": [
      {
       "output_type": "stream",
       "stream": "stdout",
       "text": "Uncertainity in energy of charged pi meson is 1.8e-16\nUncertainity in energy of uncharged pi meson is 5.9e-08\nUncertainity in energy of rho meson is  0.2\n"
      }
     ],
     "prompt_number": 9
    },
    {
     "cell_type": "heading",
     "level": 2,
     "metadata": {},
     "source": "Example 4.9 Page 121"
    },
    {
     "cell_type": "code",
     "collapsed": false,
     "input": "#initiation of variable\nh=1.05*10**-34;  #value of planck's constant in J.sec\ndelx= 1.0;        # uncertainity in positon= dimension of the ball\ndelp=h/delx;    # uncertainity in momentum \nm=0.1;         #mass of the ball in kg\n\n#calculation\ndelv=delp/m;    # uncertainity in velocity\n\n#result\nprint \"The value of minimum velocity was found out to be in m/sec\",delv;",
     "language": "python",
     "metadata": {},
     "outputs": [
      {
       "output_type": "stream",
       "stream": "stdout",
       "text": "The value of minimum velocity was found out to be in m/sec 1.05e-33\n"
      }
     ],
     "prompt_number": 17
    }
   ],
   "metadata": {}
  }
 ]
}