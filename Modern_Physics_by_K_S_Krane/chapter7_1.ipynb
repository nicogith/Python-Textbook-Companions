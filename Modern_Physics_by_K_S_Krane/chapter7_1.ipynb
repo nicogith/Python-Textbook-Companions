{
 "metadata": {
  "name": "",
  "signature": "sha256:bb88588092f5e168d4a1c62bb7bb87ac343b1c2045bd4d31cd2391090ea3e567"
 },
 "nbformat": 3,
 "nbformat_minor": 0,
 "worksheets": [
  {
   "cells": [
    {
     "cell_type": "heading",
     "level": 1,
     "metadata": {},
     "source": [
      "7: Classification of Solids"
     ]
    },
    {
     "cell_type": "heading",
     "level": 2,
     "metadata": {},
     "source": [
      "Example number 7.1, Page number 138"
     ]
    },
    {
     "cell_type": "code",
     "collapsed": false,
     "input": [
      "#import modules\n",
      "import math\n",
      "from __future__ import division\n",
      "\n",
      "#Variable declaration\n",
      "W=11000;     #wavelength(angstrom)\n",
      "\n",
      "#Calculation\n",
      "Eg=W/12400;     #energy gap(eV)\n",
      "\n",
      "#Result\n",
      "print \"Energy Gap is\",round(Eg,3),\"eV\""
     ],
     "language": "python",
     "metadata": {},
     "outputs": [
      {
       "output_type": "stream",
       "stream": "stdout",
       "text": [
        "Energy Gap is 0.887 eV\n"
       ]
      }
     ],
     "prompt_number": 2
    },
    {
     "cell_type": "heading",
     "level": 2,
     "metadata": {},
     "source": [
      "Example number 7.2, Page number 138"
     ]
    },
    {
     "cell_type": "code",
     "collapsed": false,
     "input": [
      "#import modules\n",
      "import math\n",
      "from __future__ import division\n",
      "\n",
      "#Variable declaration\n",
      "p=1.7*10**-6;      #resistivity(ohm-cm)\n",
      "d=8.96;         #density(g/cc)\n",
      "W=63.5;         #atomic weight(gm)\n",
      "Na=6.02*10**23;   #Avagadro number(per g-mol)\n",
      "e=1.6*10**-19;     #the charge on electron(C)\n",
      "\n",
      "#Calculation\n",
      "n=8.96*Na/W;      #number of Cu atoms per cc\n",
      "mewe=1/(p*e*n);     #mobility of electrons(cm^2/V-s)\n",
      "\n",
      "#Result\n",
      "print \"mobility of electrons is\",round(mewe,1),\"cm^2/V-s\""
     ],
     "language": "python",
     "metadata": {},
     "outputs": [
      {
       "output_type": "stream",
       "stream": "stdout",
       "text": [
        "mobility of electrons is 43.3 cm^2/V-s\n"
       ]
      }
     ],
     "prompt_number": 5
    },
    {
     "cell_type": "heading",
     "level": 2,
     "metadata": {},
     "source": [
      "Example number 7.3, Page number 139"
     ]
    },
    {
     "cell_type": "code",
     "collapsed": false,
     "input": [
      "#import modules\n",
      "import math\n",
      "from __future__ import division\n",
      "\n",
      "#Variable declaration\n",
      "d1=2.5*10**19;      #density of charge carriers(per m^3)\n",
      "d2=4.2*10**28;      #density of germanium atoms(per m^3)\n",
      "mewe=0.36;          #mobilty of electrons(m^2/V-s)\n",
      "Na=6.02*10**23;     #Avgraodo no.(per g-mol)\n",
      "e=1.6*10**-19;      #the charge on electron(C)\n",
      "\n",
      "#Calculation\n",
      "Nd=d2/10**6;       #density of added impurity atoms(atoms/m^3)\n",
      "sigma_n=Nd*e*mewe;        #conductivity(mho/m)\n",
      "rho_n=1/sigma_n;          #resistivity of doped germanium(ohm-m)\n",
      "\n",
      "#Result\n",
      "print \"resistivity of doped germanium is\",round(rho_n*10**3,3),\"*10**-3 ohm-m\""
     ],
     "language": "python",
     "metadata": {},
     "outputs": [
      {
       "output_type": "stream",
       "stream": "stdout",
       "text": [
        "resistivity of doped germanium is 0.413 *10**-3 ohm-m\n"
       ]
      }
     ],
     "prompt_number": 10
    },
    {
     "cell_type": "heading",
     "level": 2,
     "metadata": {},
     "source": [
      "Example number 7.4, Page number 139"
     ]
    },
    {
     "cell_type": "code",
     "collapsed": false,
     "input": [
      "#import modules\n",
      "import math\n",
      "from __future__ import division\n",
      "\n",
      "#Variable declaration\n",
      "Eg=0.75;      #energy gap(eV)\n",
      "\n",
      "#Calculation\n",
      "lamda=12400/Eg;     #wavelength(angstrom)\n",
      "\n",
      "#Result\n",
      "print \"wavelength is\",int(lamda),\"angstrom\""
     ],
     "language": "python",
     "metadata": {},
     "outputs": [
      {
       "output_type": "stream",
       "stream": "stdout",
       "text": [
        "wavelength is 16533 angstrom\n"
       ]
      }
     ],
     "prompt_number": 12
    }
   ],
   "metadata": {}
  }
 ]
}