{
 "metadata": {
  "name": "",
  "signature": "sha256:a8391f5a05f23d60fe8f4f8931e579dcdcd76160c3d9f4755fb607b65fe83b63"
 },
 "nbformat": 3,
 "nbformat_minor": 0,
 "worksheets": [
  {
   "cells": [
    {
     "cell_type": "heading",
     "level": 1,
     "metadata": {},
     "source": [
      "15: Nuclear Energy Sources"
     ]
    },
    {
     "cell_type": "heading",
     "level": 2,
     "metadata": {},
     "source": [
      "Example number 15.1, Page number 290"
     ]
    },
    {
     "cell_type": "code",
     "collapsed": false,
     "input": [
      "#import modules\n",
      "import math\n",
      "from __future__ import division\n",
      "\n",
      "#Variable declaration\n",
      "#m is mass of neutron and M is mass of other neucleus\n",
      "ma=1;\n",
      "Ma=2;\n",
      "mb=1;\n",
      "Mb=12;\n",
      "mc=1;\n",
      "Mc=238;     \n",
      "\n",
      "#Calculation\n",
      "eeta1=(4*ma*Ma/((ma+Ma)**2))*100;      #Maximum fraction of KE lost by a neutron for H2(%)\n",
      "eeta2=(4*mb*Mb/((mb+Mb)**2))*100;      #Maximum fraction of KE lost by a neutron for C12(%)\n",
      "eeta3=(4*mc*Mc/((mc+Mc)**2))*100;      #Maximum fraction of KE lost by a neutron for U238(%)\n",
      "\n",
      "#Result\n",
      "print \"Maximum fraction of KE lost by a neutron for H2 is\",round(eeta1,1),\"%\"\n",
      "print \"Maximum fraction of KE lost by a neutron for C12 is\",round(eeta2,1),\"%\"\n",
      "print \"Maximum fraction of KE lost by a neutron for U238 is\",round(eeta3,2),\"%\"\n",
      "print \"answer for eeta2 given in the book is wrong\""
     ],
     "language": "python",
     "metadata": {},
     "outputs": [
      {
       "output_type": "stream",
       "stream": "stdout",
       "text": [
        "Maximum fraction of KE lost by a neutron for H2 is 88.9 %\n",
        "Maximum fraction of KE lost by a neutron for C12 is 28.4 %\n",
        "Maximum fraction of KE lost by a neutron for U238 is 1.67 %\n",
        "answer for eeta2 given in the book is wrong\n"
       ]
      }
     ],
     "prompt_number": 9
    },
    {
     "cell_type": "heading",
     "level": 2,
     "metadata": {},
     "source": [
      "Example number 15.2, Page number 291"
     ]
    },
    {
     "cell_type": "code",
     "collapsed": false,
     "input": [
      "#import modules\n",
      "import math\n",
      "from __future__ import division\n",
      "\n",
      "#Variable declaration\n",
      "E=200;     #energy released per fission(MeV)\n",
      "e=1.6*10**-19;    #the charge on electron(C)\n",
      "Na=6.02*10**26;   #Avgraodo no.(per kg mole)\n",
      "\n",
      "#Calculation\n",
      "CE=E*e*10**6;     #conversion in J\n",
      "RF=1/CE;        #fission rate(fissions/second)\n",
      "Ekg=CE*Na/235;     #Energy realeased in complete fission of 1 kg(J)\n",
      "\n",
      "#Result\n",
      "print \"fission rate is\",round(RF/10**10,1),\"*10**10 fissions/second\"\n",
      "print \"Energy realeased in complete fission of 1 kg is\",round(Ekg/1e+13,1),\"*10**13 J\""
     ],
     "language": "python",
     "metadata": {},
     "outputs": [
      {
       "output_type": "stream",
       "stream": "stdout",
       "text": [
        "fission rate is 3.1 *10**10 fissions/second\n",
        "Energy realeased in complete fission of 1 kg is 8.2 *10**13 J\n"
       ]
      }
     ],
     "prompt_number": 13
    },
    {
     "cell_type": "heading",
     "level": 2,
     "metadata": {},
     "source": [
      "Example number 15.3, Page number 291"
     ]
    },
    {
     "cell_type": "code",
     "collapsed": false,
     "input": [
      "#import modules\n",
      "import math\n",
      "from __future__ import division\n",
      "\n",
      "#Variable declaration\n",
      "R=3*10**7;       #rate of energy development(Js)\n",
      "E=200;           #energy released per fission(MeV)\n",
      "e=1.6*10**-19;    #the charge on electron(C)\n",
      "t=1000;           #time(hours)\n",
      "Ekg=8.2*10**13;   #energy released per kg of U-235\n",
      "\n",
      "#Calculation\n",
      "CE=E*e*10**6;     #conversion in J\n",
      "n=R/CE;         #no of atoms undergoing fission/second\n",
      "TE=R*t*3600;      #energy produced in 1000 hours(J)\n",
      "MC=TE/Ekg;        #mass consumed(kg)  \n",
      "\n",
      "#Result\n",
      "print \"number of atoms undergoing fissions per second is\",round(n/1e+17,1),\"*10**17\"\n",
      "print \"mass consumed is\",round(MC,2),\"kg\""
     ],
     "language": "python",
     "metadata": {},
     "outputs": [
      {
       "output_type": "stream",
       "stream": "stdout",
       "text": [
        "number of atoms undergoing fissions per second is 9.4 *10**17\n",
        "mass consumed is 1.32 kg\n"
       ]
      }
     ],
     "prompt_number": 16
    },
    {
     "cell_type": "heading",
     "level": 2,
     "metadata": {},
     "source": [
      "Example number 15.4, Page number 292"
     ]
    },
    {
     "cell_type": "code",
     "collapsed": false,
     "input": [
      "#import modules\n",
      "import math\n",
      "from __future__ import division\n",
      "\n",
      "#Variable declaration\n",
      "EPF=180;       #Energy consumed per disintegration(MeV)\n",
      "E=1200;        #average power(kW)\n",
      "t=10;          #time(hours)\n",
      "Na=6.02*10**26;      #Avgraodo no.(per kg mole)\n",
      "e=1.6*10**-19;       #the charge on electron(C)\n",
      "\n",
      "#Calculation\n",
      "TE=E*t;    #energy consumed(kWh)\n",
      "TE=TE*36*10**5;     #conversion(J)\n",
      "EE=TE/0.2;          #efficient energy\n",
      "CE=EPF*e*10**6;     #conversion in J\n",
      "n=EE/CE;\n",
      "m=235*n/Na*1000;     #mass consumed(gram)\n",
      "\n",
      "#Result\n",
      "print \"mass consumed is\",round(m,2),\"gram\""
     ],
     "language": "python",
     "metadata": {},
     "outputs": [
      {
       "output_type": "stream",
       "stream": "stdout",
       "text": [
        "mass consumed is 2.93 gram\n"
       ]
      }
     ],
     "prompt_number": 18
    },
    {
     "cell_type": "heading",
     "level": 2,
     "metadata": {},
     "source": [
      "Example number 15.5, Page number 292"
     ]
    },
    {
     "cell_type": "code",
     "collapsed": false,
     "input": [
      "#import modules\n",
      "import math\n",
      "from __future__ import division\n",
      "\n",
      "#Variable declaration\n",
      "OE=200;       #output power(MW)\n",
      "E=200;        #energy released per fission(MeV)\n",
      "WF=3.1*10**10;     #fission rate(fissions/second)\n",
      "Na=6.02*10**26;    #Avagadro no.(per kg mole)\n",
      "\n",
      "#Calculation\n",
      "IE=OE/0.3*10**6;     #reactor input(W)\n",
      "TFR=WF*IE;\n",
      "n=TFR*24*3600;      #no. of U-235 for one day\n",
      "m=235*n/Na;         #mass required(kg)\n",
      "   \n",
      "#Result\n",
      "print \"amount of natural uranium consumed per day is\",round(m*100/0.7,3),\"kg\""
     ],
     "language": "python",
     "metadata": {},
     "outputs": [
      {
       "output_type": "stream",
       "stream": "stdout",
       "text": [
        "amount of natural uranium consumed per day is 99.577 kg\n"
       ]
      }
     ],
     "prompt_number": 22
    },
    {
     "cell_type": "heading",
     "level": 2,
     "metadata": {},
     "source": [
      "Example number 15.6, Page number 292"
     ]
    },
    {
     "cell_type": "code",
     "collapsed": false,
     "input": [
      "#import modules\n",
      "import math\n",
      "from __future__ import division\n",
      "\n",
      "#Variable declaration\n",
      "AE=100;       #electrical power(MW)\n",
      "E=200;        #energy released per fission(MeV)\n",
      "e=1.6*10**-19;     #the charge on electron(C)\n",
      "Na=6.02*10**26;    #Avagadro no.(per kg mole)\n",
      "\n",
      "#Calculation\n",
      "TE=AE*10**6*24*3600;     #energy consumed in city in one day(J)\n",
      "EE=TE/0.2;\n",
      "CE=E*e*10**6;          #conversion in J\n",
      "n=EE/CE;               #no. of atoms to be fissioned  \n",
      "m=235*n/Na;           #amount of fuel required(kg)\n",
      "\n",
      "#Result\n",
      "print \"amount of fuel required is\",round(m,2),\"kg\""
     ],
     "language": "python",
     "metadata": {},
     "outputs": [
      {
       "output_type": "stream",
       "stream": "stdout",
       "text": [
        "amount of fuel required is 0.53 kg\n"
       ]
      }
     ],
     "prompt_number": 25
    },
    {
     "cell_type": "heading",
     "level": 2,
     "metadata": {},
     "source": [
      "Example number 15.7, Page number 293"
     ]
    },
    {
     "cell_type": "code",
     "collapsed": false,
     "input": [
      "#import modules\n",
      "import math\n",
      "from __future__ import division\n",
      "\n",
      "#Variable declaration\n",
      "OE=3000;       #output power(MWh)\n",
      "E=200;         #energy released per fission(MeV)\n",
      "e=1.6*10**-19;       #the charge on electron(C)\n",
      "Na=6.02*10**26;      #Avagadro no.(per kg mole)\n",
      "\n",
      "#Calculation\n",
      "IE=OE/0.2;        #nuclear energy input(MWh)\n",
      "TE=IE*36*10**8;     #conversion in J\n",
      "CE=E*e*10**6;       #conversion in J\n",
      "n=TE/CE;            #number of nuclides required per day\n",
      "m=235*n/Na;         #daily fuel requirement(kg)\n",
      "\n",
      "#Result\n",
      "print \"daily fuel requirement is\",round(m,3),\"kg or\",round(m,3)*1000,\"gram\"\n",
      "print \"answer given in the book varies due to rounding off errors\""
     ],
     "language": "python",
     "metadata": {},
     "outputs": [
      {
       "output_type": "stream",
       "stream": "stdout",
       "text": [
        "daily fuel requirement is 0.659 kg or 659.0 gram\n",
        "answer given in the book varies due to rounding off errors\n"
       ]
      }
     ],
     "prompt_number": 32
    },
    {
     "cell_type": "heading",
     "level": 2,
     "metadata": {},
     "source": [
      "Example number 15.8, Page number 293"
     ]
    },
    {
     "cell_type": "code",
     "collapsed": false,
     "input": [
      "#import modules\n",
      "import math\n",
      "from __future__ import division\n",
      "\n",
      "#Variable declaration\n",
      "OP=32824;    #output power(kW)\n",
      "E=200;       #energy released per fission(MeV)\n",
      "Ekg=8.2*10**13;     #energy released per kg of U-235(J)\n",
      "\n",
      "#Calculation\n",
      "DOP=OP*1000*24*3600;      #daily output power(J)\n",
      "IP=DOP/0.2;               #nuclear energy input(J)\n",
      "DFC=IP/Ekg;            #daily fuel consumption(kg)\n",
      "DI=DOP/(0.8*4186);     #daily input at 80% efficiency(kcal)\n",
      "Crqd=DI/(7*10**3);     #Coal required per day(tonnes)\n",
      "\n",
      "#Result\n",
      "print \"Daily fuel consumption is\",round(DFC,3)*1000,\"gram\"\n",
      "print \"Coal required per day is\",int(Crqd),\"tonnes\"\n",
      "print \"answer for coal required per day Crqd given in the book is wrong\""
     ],
     "language": "python",
     "metadata": {},
     "outputs": [
      {
       "output_type": "stream",
       "stream": "stdout",
       "text": [
        "Daily fuel consumption is 173.0 gram\n",
        "Coal required per day is 120981 tonnes\n",
        "answer for coal required per day Crqd given in the book is wrong\n"
       ]
      }
     ],
     "prompt_number": 42
    }
   ],
   "metadata": {}
  }
 ]
}