{
 "metadata": {
  "name": "",
  "signature": "sha256:bab0907a92dd1a315ea33ad663e957734494f7112ddbb87e9005b028bf98d841"
 },
 "nbformat": 3,
 "nbformat_minor": 0,
 "worksheets": [
  {
   "cells": [
    {
     "cell_type": "heading",
     "level": 1,
     "metadata": {},
     "source": [
      "9: Waves and Particles"
     ]
    },
    {
     "cell_type": "heading",
     "level": 2,
     "metadata": {},
     "source": [
      "Example number 9.1, Page number 179"
     ]
    },
    {
     "cell_type": "code",
     "collapsed": false,
     "input": [
      "#import modules\n",
      "import math\n",
      "from __future__ import division\n",
      "\n",
      "#Variable declaration\n",
      "V=20000;     #applied voltage(V)\n",
      "\n",
      "#Calculation\n",
      "lamda=12.25/(math.sqrt(V));        #de broglie wavelength(angstrom)\n",
      "\n",
      "#Result\n",
      "print \"de broglie wavelength is\",round(lamda,3),\"angstrom\""
     ],
     "language": "python",
     "metadata": {},
     "outputs": [
      {
       "output_type": "stream",
       "stream": "stdout",
       "text": [
        "de broglie wavelength is 0.087 angstrom\n"
       ]
      }
     ],
     "prompt_number": 2
    },
    {
     "cell_type": "heading",
     "level": 2,
     "metadata": {},
     "source": [
      "Example number 9.2, Page number 179"
     ]
    },
    {
     "cell_type": "code",
     "collapsed": false,
     "input": [
      "#import modules\n",
      "import math\n",
      "from __future__ import division\n",
      "\n",
      "#Variable declaration\n",
      "V=5000;           #applied voltage(V)\n",
      "e=1.602*10**-19;     #the charge on electron(C)\n",
      "m=9.12*10**-31;      #mass of electron(kg)\n",
      "d=2.04*10**-10;      #distance(m)\n",
      "n=1;\n",
      "\n",
      "#Calculation\n",
      "p=math.sqrt(2*m*e*V);       #momentum(kg m/s)\n",
      "lamda=12.25/math.sqrt(V);       #de broglie wavelength(angstrom)\n",
      "v=1/(lamda*10**-10);            #wave number\n",
      "theta=math.asin((n*lamda*10**-10)/(2*d));    #Bragg angle(radian)\n",
      "theta=theta*180/math.pi;                     #Bragg angle(degrees)\n",
      "\n",
      "#Result\n",
      "print \"momentum is\",round(p/1e-23,2),\"*10^-23 kg m/s\"\n",
      "print \"de broglie wavelength is\",round(lamda,3),\"angstrom\"\n",
      "print \"the wave number is\",round(v/10**10,2),\"*10^10\"\n",
      "print \"the Bragg angle is\",round(theta,2),\"degrees\"\n",
      "print \"answers given in the book varies due to rounding off errors\""
     ],
     "language": "python",
     "metadata": {},
     "outputs": [
      {
       "output_type": "stream",
       "stream": "stdout",
       "text": [
        "momentum is 3.82 *10^-23 kg m/s\n",
        "de broglie wavelength is 0.173 angstrom\n",
        "the wave number is 5.77 *10^10\n",
        "the Bragg angle is 2.43 degrees\n",
        "answers given in the book varies due to rounding off errors\n"
       ]
      }
     ],
     "prompt_number": 15
    },
    {
     "cell_type": "heading",
     "level": 2,
     "metadata": {},
     "source": [
      "Example number 9.3, Page number 179"
     ]
    },
    {
     "cell_type": "code",
     "collapsed": false,
     "input": [
      "#import modules\n",
      "import math\n",
      "from __future__ import division\n",
      "\n",
      "#Variable declaration\n",
      "V=54;           #applied voltage(V)\n",
      "e=1.602*10**-19;       #the charge on electron(C)\n",
      "m=9.12*10**-31;        #mass of electron(kg)\n",
      "h=6.625*10**-34;       #Plank's constant\n",
      "\n",
      "#Calculation\n",
      "v=math.sqrt(2*e*V/m);      #velocity of electron(m/s)\n",
      "lamda=12.25/math.sqrt(V);       #de broglie wavelength(angstrom)\n",
      "u=h/(2*m*lamda*10**-10);        #phase velocity(m/s)\n",
      "\n",
      "#Result\n",
      "print \"velocity of electron is\",round(v/1e+6,2),\"*10^6 m/s\"\n",
      "print \"de broglie wavelength is\",round(lamda,2),\"angstrom\"\n",
      "print \"phase velocity is\",round(u/1e+6,2),\"*10^6 m/s\""
     ],
     "language": "python",
     "metadata": {},
     "outputs": [
      {
       "output_type": "stream",
       "stream": "stdout",
       "text": [
        "velocity of electron is 4.36 *10^6 m/s\n",
        "de broglie wavelength is 1.67 angstrom\n",
        "phase velocity is 2.18 *10^6 m/s\n"
       ]
      }
     ],
     "prompt_number": 18
    },
    {
     "cell_type": "heading",
     "level": 2,
     "metadata": {},
     "source": [
      "Example number 9.4, Page number 180"
     ]
    },
    {
     "cell_type": "code",
     "collapsed": false,
     "input": [
      "#import modules\n",
      "import math\n",
      "from __future__ import division\n",
      "\n",
      "#Variable declaration\n",
      "e=1.6*10**-19;        #the charge on electron(C)\n",
      "m=9.12*10**-31;       #mass of electron(kg)\n",
      "c=3*10**8;           #speed of light(m/s)\n",
      "h=6.625*10**-34;     #Plank's constant\n",
      "\n",
      "#Calculation\n",
      "E=m*c**2;         #rest energy(J)\n",
      "mp=1836*m;        #mass of proton(kg)\n",
      "#(0.5*m*v^2)=E\n",
      "mv=math.sqrt(E*2*mp);     #momentum(kg m/s)\n",
      "lamda=h/mv;            #de broglie wavelength(m)\n",
      "\n",
      "#Result\n",
      "print \"de broglie wavelength is\",round(lamda*10**10,4),\"Angstrom\""
     ],
     "language": "python",
     "metadata": {},
     "outputs": [
      {
       "output_type": "stream",
       "stream": "stdout",
       "text": [
        "de broglie wavelength is 0.0004 Angstrom\n"
       ]
      }
     ],
     "prompt_number": 21
    },
    {
     "cell_type": "heading",
     "level": 2,
     "metadata": {},
     "source": [
      "Example number 9.5, Page number 180"
     ]
    },
    {
     "cell_type": "code",
     "collapsed": false,
     "input": [
      "#import modules\n",
      "import math\n",
      "from __future__ import division\n",
      "\n",
      "#Variable declaration\n",
      "e=1.6*10**-19;        #the charge on electron(C)\n",
      "m=1.676*10**-27;      #mass of neutron(kg)\n",
      "c=3*10**8;            #speed of light(m/s)\n",
      "h=6.625*10**-34;      #Plank's constant\n",
      "\n",
      "#Calculation\n",
      "E=1;          #in eV\n",
      "E=1*e;        #in V\n",
      "mv=math.sqrt(2*E*m);         #momentum(kg m/s)\n",
      "lamda=h/mv;           #de broglie wavelength(m)\n",
      "\n",
      "#Result\n",
      "print \"de broglie wavelength is\",round(lamda*10**10,3),\"Angstrom\""
     ],
     "language": "python",
     "metadata": {},
     "outputs": [
      {
       "output_type": "stream",
       "stream": "stdout",
       "text": [
        "de broglie wavelength is 0.286 Angstrom\n"
       ]
      }
     ],
     "prompt_number": 23
    },
    {
     "cell_type": "heading",
     "level": 2,
     "metadata": {},
     "source": [
      "Example number 9.6, Page number 183"
     ]
    },
    {
     "cell_type": "code",
     "collapsed": false,
     "input": [
      "#import modules\n",
      "import math\n",
      "from __future__ import division\n",
      "\n",
      "#Variable declaration\n",
      "lamda=0.09;          #wavelength(Angstrom)\n",
      "D=54;            #scattering angle(degree)\n",
      "h=6.625*10**-34;      #Plank's constant\n",
      "c=3*10**8;            #speed of light(m/s)\n",
      "e=1.6*10**-19;        #the charge on electron(C)\n",
      "\n",
      "#Calculation\n",
      "dlamda=0.0243*(1-math.cos(D));      \n",
      "lamda1=lamda+dlamda;             #Wavelength of scattered X-rays(Angstrom)\n",
      "Ei=h*c/(lamda*10**-10);           #Energy of incident photon(J)\n",
      "Es=h*c/(lamda1*10**-10);          #Energy of scattered photon(J)\n",
      "\n",
      "#Result\n",
      "print \"wavelength of scattered X-rays is\",round(lamda1,1),\"Angstrom\"\n",
      "print \"Energy of incident photon is\",round(Ei/(e*10**6),3),\"MeV\"\n",
      "print \"Energy of scattered photon is\",round(Es/(e*10**6),4),\"MeV\"\n",
      "print \"answer for energy of scattered photon given in the book varies due to rounding off errors\""
     ],
     "language": "python",
     "metadata": {},
     "outputs": [
      {
       "output_type": "stream",
       "stream": "stdout",
       "text": [
        "wavelength of scattered X-rays is 0.1 Angstrom\n",
        "Energy of incident photon is 0.138 MeV\n",
        "Energy of scattered photon is 0.0924 MeV\n",
        "answer for energy of scattered photon given in the book varies due to rounding off errors\n"
       ]
      }
     ],
     "prompt_number": 29
    },
    {
     "cell_type": "heading",
     "level": 2,
     "metadata": {},
     "source": [
      "Example number 9.7, Page number 191"
     ]
    },
    {
     "cell_type": "code",
     "collapsed": false,
     "input": [
      "#import modules\n",
      "import math\n",
      "from __future__ import division\n",
      "\n",
      "#Variable declaration\n",
      "h=6.625*10**-34;      #Plank's constant\n",
      "m=9.12*10**-31;       #mass of electron(kg)\n",
      "\n",
      "#Calculation\n",
      "#for 1st quantum state\n",
      "nx=1;\n",
      "ny=1;\n",
      "nz=1;\n",
      "L=1;\n",
      "E1=h**2*(nx**2+ny**2+nz**2)/(8*m*L**2);       #energy in first quantum state(J)\n",
      "#for 2nd quantum state (nx^2+ny^2+nz^2)=6\n",
      "L=1;\n",
      "E=h**2*6/(8*m*L**2);                   #energy in second quantum state(J)\n",
      "\n",
      "#Result\n",
      "print \"energy in first quantum state is\",round(E1/1e-37,3),\"*10^-37 J\"\n",
      "print \"energy in second quantum state is\",round(E/1e-37,2),\"*10^-37 J\""
     ],
     "language": "python",
     "metadata": {},
     "outputs": [
      {
       "output_type": "stream",
       "stream": "stdout",
       "text": [
        "energy in first quantum state is 1.805 *10^-37 J\n",
        "energy in second quantum state is 3.61 *10^-37 J\n"
       ]
      }
     ],
     "prompt_number": 32
    },
    {
     "cell_type": "heading",
     "level": 2,
     "metadata": {},
     "source": [
      "Example number 9.8, Page number 194"
     ]
    },
    {
     "cell_type": "code",
     "collapsed": false,
     "input": [
      "#import modules\n",
      "import math\n",
      "from __future__ import division\n",
      "\n",
      "#Variable declaration\n",
      "h=6.625*10**-34;       #Plank's constant\n",
      "m=9.12*10**-31;        #mass of electron(kg)\n",
      "L=2.5*10**-10;         #width of square(m)\n",
      "e=1.6*10**-19;         #the charge on electron(C)\n",
      "n1=1;\n",
      "n2=2;\n",
      "n3=3;\n",
      "\n",
      "#Calculation\n",
      "E1=n1**2*h**2/(8*m*L**2*e);          #1st lowest quantum energy(eV)\n",
      "E2=n2**2*E1;             #2nd lowest quantum energy(eV)\n",
      "E3=n3**2*E1;             #3rd lowest quantum energy(eV) \n",
      " \n",
      "#Result\n",
      "print \"the lowest 3 quantum energies are\",int(E1),\"eV,\",int(E2),\"eV and\",int(E3),\"eV\""
     ],
     "language": "python",
     "metadata": {},
     "outputs": [
      {
       "output_type": "stream",
       "stream": "stdout",
       "text": [
        "the lowest 3 quantum energies are 6 eV, 24 eV and 54 eV\n"
       ]
      }
     ],
     "prompt_number": 35
    }
   ],
   "metadata": {}
  }
 ]
}