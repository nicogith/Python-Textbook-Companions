{
 "metadata": {
  "name": ""
 },
 "nbformat": 3,
 "nbformat_minor": 0,
 "worksheets": [
  {
   "cells": [
    {
     "cell_type": "heading",
     "level": 1,
     "metadata": {},
     "source": [
      "Statistical Physics"
     ]
    },
    {
     "cell_type": "heading",
     "level": 2,
     "metadata": {},
     "source": [
      "Example 10.2 Page 307"
     ]
    },
    {
     "cell_type": "code",
     "collapsed": false,
     "input": [
      "#initiation of variable\n",
      "from math import sqrt\n",
      "#The solution is purely theoretical and involves a lot of approximations.\n",
      "print\"The value of shift in frequency was found out to be delf=7.14*fo*10^-7*sqrt(T) for a star composing of hydrogen atoms at a temperature T.\";\n",
      "T=6000.0;                       #temperature for sun\n",
      "delf=7.14*10**-7*sqrt(T);#change in frequency\n",
      "\n",
      "#result\n",
      "print\"The value of frequency shift for sun(at 6000 deg. temperature) comprsing of hydrogen atoms is\",delf,\" times the frequency of the light.\""
     ],
     "language": "python",
     "metadata": {},
     "outputs": [
      {
       "output_type": "stream",
       "stream": "stdout",
       "text": [
        "The value of shift in frequency was found out to be delf=7.14*fo*10^-7*sqrt(T) for a star composing of hydrogen atoms at a temperature T.\n",
        "The value of frequency shift for sun(at 6000 deg. temperature) comprsing of hydrogen atoms is 5.53062021838e-05  times the frequency of the light.\n"
       ]
      }
     ],
     "prompt_number": 2
    },
    {
     "cell_type": "heading",
     "level": 2,
     "metadata": {},
     "source": [
      "Example 10.3 Page 309"
     ]
    },
    {
     "cell_type": "code",
     "collapsed": false,
     "input": [
      "#initiation of variable\n",
      "from math import sqrt,pi, exp, log\n",
      "kT=0.0252;E=10.2                              # at room temperature, kT=0.0252 standard value and given value of E\n",
      "\n",
      "#calculation\n",
      "n2=2;n1=1; g2=2*(n2**2);g1=2*(n1**2);           #values for ground and excited states\n",
      "t=(g2/g1)*exp(-E/kT);                         #fraction of atoms\n",
      "\n",
      "#result\n",
      "print\"The number of hydrogen atoms required is %.1e\" %(1.0/t),\" which weighs %.1e\" %((1/t)*(1.67*10**-27)),\"Kg\"\n",
      "\n",
      "#partb\n",
      "t=0.1/0.9;k=8.65*10**-5                          #fracion of atoms in case-2 is given\n",
      "T=-E/(log(t/(g2/g1))*k);                        #temperature\n",
      "\n",
      "#result\n",
      "print\"The value of temperature at which 1/10 atoms are in excited state in K is %.1e\" %round(T,3);"
     ],
     "language": "python",
     "metadata": {},
     "outputs": [
      {
       "output_type": "stream",
       "stream": "stdout",
       "text": [
        "The number of hydrogen atoms required is 1.5e+175  which weighs 2.5e+148 Kg\n",
        "The value of temperature at which 1/10 atoms are in excited state in K is 3.3e+04\n"
       ]
      }
     ],
     "prompt_number": 1
    },
    {
     "cell_type": "heading",
     "level": 2,
     "metadata": {},
     "source": [
      "Example 10.4 Page 311"
     ]
    },
    {
     "cell_type": "code",
     "collapsed": false,
     "input": [
      "#initiation of variable\n",
      "from math import log\n",
      "#theoritical part a\n",
      "print'The energy of interaction with magnetic field is given by uB and the degeneracy of the states are +-1/2 which are identical.\\nThe ratio is therefore pE2/pE1 which gives e^(-2*u*B/k*T)';\n",
      "#partb\n",
      "uB=5.79*10**-4;        #for a typical atom\n",
      "t=1.1;k=8.65*10**-5;   #ratio and constant k\n",
      "\n",
      "#calculation\n",
      "T=2*uB/(log(t)*k);    #temperature\n",
      "\n",
      "#result\n",
      "print\"The value of temperature ar which the given ratio exists in K is\",round(T,3);"
     ],
     "language": "python",
     "metadata": {},
     "outputs": [
      {
       "output_type": "stream",
       "stream": "stdout",
       "text": [
        "The energy of interaction with magnetic field is given by uB and the degeneracy of the states are +-1/2 which are identical.\n",
        "The ratio is therefore pE2/pE1 which gives e^(-2*u*B/k*T)\n",
        "The value of temperature ar which the given ratio exists in K is 140.46\n"
       ]
      }
     ],
     "prompt_number": 8
    },
    {
     "cell_type": "heading",
     "level": 2,
     "metadata": {},
     "source": [
      "Example 10.5 Page 313"
     ]
    },
    {
     "cell_type": "code",
     "collapsed": false,
     "input": [
      "#initiation of variable\n",
      "from math import pi\n",
      "p=0.971; A=6.023*10**23; m=23.0;    # various given values and constants\n",
      "\n",
      "#calculation\n",
      "c= (p*A/m)*10**6;                   # atoms per unit volume\n",
      "hc=1240.0; mc2=0.511*10**6;           # hc=1240 eV.nm\n",
      "E= ((hc**2)/(2*mc2))*(((3/(8*pi))*c)**(2.0/3)); #value of fermi energy\n",
      "\n",
      "#result\n",
      "print\"The fermi energy for sodium is\",round(E*10**-18,4),\"eV\";#multiply by 10^-18 to convert metres^2 term to nm^2"
     ],
     "language": "python",
     "metadata": {},
     "outputs": [
      {
       "output_type": "stream",
       "stream": "stdout",
       "text": [
        "The fermi energy for sodium is 3.1539 eV\n"
       ]
      }
     ],
     "prompt_number": 12
    }
   ],
   "metadata": {}
  }
 ]
}