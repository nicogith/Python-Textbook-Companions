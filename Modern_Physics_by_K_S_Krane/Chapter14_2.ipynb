{
 "metadata": {
  "name": "MP-14"
 },
 "nbformat": 3,
 "nbformat_minor": 0,
 "worksheets": [
  {
   "cells": [
    {
     "cell_type": "heading",
     "level": 1,
     "metadata": {},
     "source": "Elementary Particles"
    },
    {
     "cell_type": "heading",
     "level": 2,
     "metadata": {},
     "source": "Example 14.2 Page 451"
    },
    {
     "cell_type": "code",
     "collapsed": false,
     "input": "#initiation of variable\nmvo=1116.0;mp=938.0;mpi=140.0;    #mass of various particles\n\n#calculation\nQ=(mvo-mp-mpi);            #Q value of energy\nPp=100.0;Ppi=100;            #momentum of various particles\nKp=5.0;Kpi=38-Kp;            #kinetic energy of particles\n\n#result\nprint \"The kinetic energy of the particles Kp and Kpi are\", Kp,\" MeV and\",Kpi,\" MeV respectively\"",
     "language": "python",
     "metadata": {},
     "outputs": [
      {
       "output_type": "stream",
       "stream": "stdout",
       "text": " The kinetic energy of the particles Kp and Kpi are 5.0  MeV and 33.0  MeV respectively\n"
      }
     ],
     "prompt_number": 2
    },
    {
     "cell_type": "heading",
     "level": 2,
     "metadata": {},
     "source": "Example 14.3 Page 453"
    },
    {
     "cell_type": "code",
     "collapsed": false,
     "input": "#initiation of variable\nQ=105.2                    # The Q value for the given decay\nMuc2=105.80344         #mass energy\n\n#calculation\nKe= Q**2/(2*Muc2);       #Ke=Ee-mec2;\n\n#result\nprint \"The maximum kinetic energy in MeV is\",round(Ke,3);\n",
     "language": "python",
     "metadata": {},
     "outputs": [
      {
       "output_type": "stream",
       "stream": "stdout",
       "text": "The maximum kinetic energy in MeV is 52.3\n"
      }
     ],
     "prompt_number": 3
    },
    {
     "cell_type": "heading",
     "level": 2,
     "metadata": {},
     "source": "Example 14.4 Page 455"
    },
    {
     "cell_type": "code",
     "collapsed": false,
     "input": "#initiation of variable\nfrom __future__ import division\nfrom sympy.solvers import solve\nfrom sympy import Symbol\nfrom sympy import *\nfrom math import sqrt\nmkc2=494.0; mpic2=135.0;mec2=0.5;# mass of various particles\n\n#calculation\nQ1=mkc2-mpic2-mec2;       #Q of reaction\n# the neutrino has negligible energy\nx = symbols('x')\nk=solve((x**2+135.0**2)**(0.5)+x-494,x);# assigning the Q to sum of energies and simplifying\n\nprint \"The value of maximum kinetic enrgy for pi-meson  and positron are\",266,\"MeV &\",k,\" MeV\";",
     "language": "python",
     "metadata": {},
     "outputs": [
      {
       "output_type": "stream",
       "stream": "stdout",
       "text": " The value of maximum kinetic enrgy for pi-meson  and positron are 266 MeV & [228.553643724696]  MeV\n"
      }
     ],
     "prompt_number": 17
    },
    {
     "cell_type": "heading",
     "level": 2,
     "metadata": {},
     "source": "Example 14.5 Page 457"
    },
    {
     "cell_type": "code",
     "collapsed": false,
     "input": "#initiation of variable\nmpi_=140;mp=938;mKo=498;mLo=1116; #mass of various particles\n\n#calculation\nQ1= mpi_+mp-mKo-mLo;          #Q value of reaction 1\nmK_=494.0;mpio=135.0;         \nQ2=mK_+mp-mLo-mpio;         #Q value of reaction 2\n\n#result\nprint\"The Q values of reactions 1 and 2 are\", Q1,\" MeV and\",Q2,\"MeV\";",
     "language": "python",
     "metadata": {},
     "outputs": [
      {
       "output_type": "stream",
       "stream": "stdout",
       "text": "The Q values of reactions 1 and 2 are -536  MeV and 181.0 MeV\n"
      }
     ],
     "prompt_number": 19
    },
    {
     "cell_type": "heading",
     "level": 2,
     "metadata": {},
     "source": "Example 14.6 Page 459"
    },
    {
     "cell_type": "code",
     "collapsed": false,
     "input": "#initiation of variable\nmpic2=135.0;        #mass ennergy of pi particle\n\n#calculation\nQ=-mpic2;\nmp=938.0;mpi=135.0;\nKth=(-Q)*((4*mp)+mpi)/(2*(mp));  #threshold energy\n\n#result\nprint\"The threshold kinetic energy in MeV is\",round(Kth,3);",
     "language": "python",
     "metadata": {},
     "outputs": [
      {
       "output_type": "stream",
       "stream": "stdout",
       "text": "The threshold kinetic energy in MeV is 279.715\n"
      }
     ],
     "prompt_number": 20
    },
    {
     "cell_type": "heading",
     "level": 2,
     "metadata": {},
     "source": "Example 14.7 Page 460"
    },
    {
     "cell_type": "code",
     "collapsed": false,
     "input": "#initiation of variable\nmpc2=938.0;   #rest energy of proton\n\n#result\nQ=mpc2+mpc2-(4*mpc2);        #Q value of reaction \nKth=(-Q)*(6*mpc2/(2*mpc2));       # thershold kinetic energy\n\n#result\nprint \"The threshold kinetic energy in MeV is\",round(Kth,3);",
     "language": "python",
     "metadata": {},
     "outputs": [
      {
       "output_type": "stream",
       "stream": "stdout",
       "text": "The threshold kinetic energy in MeV is 5628.0\n"
      }
     ],
     "prompt_number": 21
    }
   ],
   "metadata": {}
  }
 ]
}