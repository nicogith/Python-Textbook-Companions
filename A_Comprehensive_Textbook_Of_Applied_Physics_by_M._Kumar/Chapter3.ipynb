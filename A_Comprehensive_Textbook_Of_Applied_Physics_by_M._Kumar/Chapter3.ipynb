{
 "metadata": {
  "name": "",
  "signature": "sha256:040e38e52e7b9682cfcedeffe89e523ef70aa22db1a3d6616f3de2ca6dd532ec"
 },
 "nbformat": 3,
 "nbformat_minor": 0,
 "worksheets": [
  {
   "cells": [
    {
     "cell_type": "heading",
     "level": 1,
     "metadata": {},
     "source": [
      "UNIT-3:Principle of Optics"
     ]
    },
    {
     "cell_type": "heading",
     "level": 2,
     "metadata": {},
     "source": [
      "Example no:3.1,Page no:69"
     ]
    },
    {
     "cell_type": "code",
     "collapsed": false,
     "input": [
      "\n",
      "\n",
      "#Variable declaration \n",
      "f=15.0           #focal length in cm\n",
      "v=10.0          #image distance in cm\n",
      "\n",
      "#Calculation\n",
      "u=1/((1/v)-(1/f))  #calculating u using (1/f)=(1/v)-(1/u)\n",
      "\n",
      "#Result\n",
      "print\"Object Distance ,u= \",u,\"cm\""
     ],
     "language": "python",
     "metadata": {},
     "outputs": [
      {
       "output_type": "stream",
       "stream": "stdout",
       "text": [
        "Object Distance ,u=  30.0 cm\n"
       ]
      }
     ],
     "prompt_number": 1
    },
    {
     "cell_type": "heading",
     "level": 2,
     "metadata": {},
     "source": [
      "Example no:3.2,Page no:70"
     ]
    },
    {
     "cell_type": "code",
     "collapsed": false,
     "input": [
      "\n",
      "\n",
      "#Variable declaration\n",
      "f=80.0      #focal length in cm\n",
      "f1=20.0     #focallength of first lens in cm\n",
      "\n",
      "#Calculation\n",
      "f2=1/((1/f)-(1/f1))  #using (1/F)=(1/f1)+(1/f2)\n",
      "P=(100.0/f)    #power in D\n",
      "P1=100.0/20     #power of first lens\n",
      "P2=P1-P     #power in D\n",
      "\n",
      "#Variable declaration\n",
      "print\"Power= \",P2,\"D\"    "
     ],
     "language": "python",
     "metadata": {},
     "outputs": [
      {
       "output_type": "stream",
       "stream": "stdout",
       "text": [
        "Power=  3.75 D\n"
       ]
      }
     ],
     "prompt_number": 2
    },
    {
     "cell_type": "heading",
     "level": 2,
     "metadata": {},
     "source": [
      "Example no:3.3,Page no:71"
     ]
    },
    {
     "cell_type": "code",
     "collapsed": false,
     "input": [
      "\n",
      "\n",
      "#Variable declaration \n",
      "P=2.5      #Power in D\n",
      "\n",
      "#Calculation\n",
      "f=-(1/P)   #calculating f in m\n",
      "\n",
      "#Result\n",
      "print\"Focal length =\",f,\"m\"    "
     ],
     "language": "python",
     "metadata": {},
     "outputs": [
      {
       "output_type": "stream",
       "stream": "stdout",
       "text": [
        "Focal length = -0.4 m\n"
       ]
      }
     ],
     "prompt_number": 3
    },
    {
     "cell_type": "heading",
     "level": 2,
     "metadata": {},
     "source": [
      "Example no:3.4,Page no:72"
     ]
    },
    {
     "cell_type": "code",
     "collapsed": false,
     "input": [
      "\n",
      "\n",
      "#Variable declaration \n",
      "m=4      #magnigication\n",
      "f=20     #focal length in cm\n",
      "\n",
      "#Calculation\n",
      "u=(20*3)/(4)   #on simplifying (1/f)=(1/v)-(1/u)\n",
      "v=(4*u)   #calculating v in cm\n",
      "\n",
      "#Result\n",
      "print\"Object distance,u= \",u,\"cm\"     \n",
      "print\"Image distance,v= \",v,\"cm\""
     ],
     "language": "python",
     "metadata": {},
     "outputs": [
      {
       "output_type": "stream",
       "stream": "stdout",
       "text": [
        "Object distance,u=  15 cm\n",
        "Image distance,v=  60 cm\n"
       ]
      }
     ],
     "prompt_number": 4
    },
    {
     "cell_type": "heading",
     "level": 2,
     "metadata": {},
     "source": [
      "Example no:3.5,Page no:72"
     ]
    },
    {
     "cell_type": "code",
     "collapsed": false,
     "input": [
      "\n",
      "from scipy.optimize import fsolve \n",
      "\n",
      "#Variable declaration\n",
      "u=14.0     #object distance in cm\n",
      "f=-21.0     #focal distance in cm\n",
      "\n",
      "#Calculation\n",
      "v=1/((1/f)-(1/u))\n",
      "I=(3.0*v)/(-u)    #using m=(1/0)=(v/u) \n",
      "\n",
      "#Result\n",
      "print\"Image distance= \",v,\"cm\"    \n",
      "print\"I= \",I,\"cm\"    "
     ],
     "language": "python",
     "metadata": {},
     "outputs": [
      {
       "output_type": "stream",
       "stream": "stdout",
       "text": [
        "Image distance=  -8.4 cm\n",
        "I=  1.8 cm\n"
       ]
      }
     ],
     "prompt_number": 5
    },
    {
     "cell_type": "heading",
     "level": 2,
     "metadata": {},
     "source": [
      "Example no:3.6,Page no:79"
     ]
    },
    {
     "cell_type": "code",
     "collapsed": false,
     "input": [
      "\n",
      "\n",
      "#Variable declaration \n",
      "fe=5   #focal length in cm\n",
      "D=25   #distance od distinct vision in cm\n",
      "\n",
      "#Calculation\n",
      "m=1+(D/fe)   #calculating magnifying power\n",
      "\n",
      "#Result\n",
      "print\"magnifying Power = \",m    "
     ],
     "language": "python",
     "metadata": {},
     "outputs": [
      {
       "output_type": "stream",
       "stream": "stdout",
       "text": [
        "magnifying Power =  6\n"
       ]
      }
     ],
     "prompt_number": 6
    },
    {
     "cell_type": "heading",
     "level": 2,
     "metadata": {},
     "source": [
      "Example no:3.7,Page no:80"
     ]
    },
    {
     "cell_type": "code",
     "collapsed": false,
     "input": [
      "\n",
      "\n",
      "#Variable declaration \n",
      "fe=5   #focal length in cm\n",
      "D=25   #distance od distinct vision in cm\n",
      "\n",
      "#Calculation\n",
      "mo=30/(1+(D/fe))   #calculating magnification of objective lens\n",
      "\n",
      "#Result\n",
      "print\"Magnification produced by objective lens = \",mo    "
     ],
     "language": "python",
     "metadata": {},
     "outputs": [
      {
       "output_type": "stream",
       "stream": "stdout",
       "text": [
        "Magnification produced by objective lens =  5\n"
       ]
      }
     ],
     "prompt_number": 6
    },
    {
     "cell_type": "heading",
     "level": 2,
     "metadata": {},
     "source": [
      "Example no:3.8,Page no:80"
     ]
    },
    {
     "cell_type": "code",
     "collapsed": false,
     "input": [
      "\n",
      "\n",
      "#Variable declaration \n",
      "u=-6.0     #object distance in cm\n",
      "fo=4.0     #focal distance in cm\n",
      "fe=6.0   #focal length in cm\n",
      "D=25.0  #distance of distinct vision in cm\n",
      "\n",
      "#Calculation\n",
      "v=1/((1/u)+(1/fo))  #using (1/f)=(1/v)-(1/u)\n",
      "m=(v/u)*(1+(D/fe))   #calculating m\n",
      "\n",
      "#Result\n",
      "print\"Image distance in cm = \",v,\"cm\"     \n",
      "print\"Magnifying Power = \",round(-m,2)       "
     ],
     "language": "python",
     "metadata": {},
     "outputs": [
      {
       "output_type": "stream",
       "stream": "stdout",
       "text": [
        "Image distance in cm =  12.0 cm\n",
        "Magnifying Power =  10.33\n"
       ]
      }
     ],
     "prompt_number": 7
    },
    {
     "cell_type": "heading",
     "level": 2,
     "metadata": {},
     "source": [
      "Example no:3.9,Page no:81"
     ]
    },
    {
     "cell_type": "code",
     "collapsed": false,
     "input": [
      "\n",
      "\n",
      "#Variable declaration \n",
      "D=25.0         #distance of distinct vision\n",
      "u=-9.0     #object distance in cm\n",
      "fe=10.0   #focal length in cm\n",
      "\n",
      "#Calculation\n",
      "v=1/((1/fe)+(1/u))    #using (1/f)=(1/v)-(1/u)\n",
      "m=(v/u)   #calculating m\n",
      "M=D/u     #calculating Magnifying power of lens\n",
      "\n",
      "#Result\n",
      "print\"Magnification of lens = \",m     \n",
      "print\"Magnifying Power = \",round(-M,1)       "
     ],
     "language": "python",
     "metadata": {},
     "outputs": [
      {
       "output_type": "stream",
       "stream": "stdout",
       "text": [
        "Magnification of lens =  10.0\n",
        "Magnifying Power =  2.8\n"
       ]
      }
     ],
     "prompt_number": 8
    },
    {
     "cell_type": "heading",
     "level": 2,
     "metadata": {},
     "source": [
      "Example no:3.10,Page no:82"
     ]
    },
    {
     "cell_type": "code",
     "collapsed": false,
     "input": [
      "\n",
      "\n",
      "#Variable declaration \n",
      "fo=0.5     #focal length of eye lens\n",
      "D=25         #distance of distinct vision\n",
      "L=15       #length in cm\n",
      "m=375    #magnification\n",
      "\n",
      "#Calculation\n",
      "fe=(-L*D)/(fo*((L/fo)-m))   #calculating fe\n",
      "\n",
      "#Result\n",
      "print\"Focal length of eye lens= \",round(fe,1),\"cm\"    "
     ],
     "language": "python",
     "metadata": {},
     "outputs": [
      {
       "output_type": "stream",
       "stream": "stdout",
       "text": [
        "Focal length of eye lens=  2.2 cm\n"
       ]
      }
     ],
     "prompt_number": 33
    },
    {
     "cell_type": "heading",
     "level": 2,
     "metadata": {},
     "source": [
      "Example no:3.11,Page no:86"
     ]
    },
    {
     "cell_type": "code",
     "collapsed": false,
     "input": [
      "\n",
      "\n",
      "#Variable declaration \n",
      "m=5     #magnifying power\n",
      "L=24       #length in cm\n",
      "fe=4    #focal length in cm\n",
      "\n",
      "#Calculation\n",
      "fo=5*fe   #calculating fo\n",
      "\n",
      "#Result\n",
      "print\"Focal length of lens = \",fo,\"cm\""
     ],
     "language": "python",
     "metadata": {},
     "outputs": [
      {
       "output_type": "stream",
       "stream": "stdout",
       "text": [
        "Focal length of lens =  20 cm\n"
       ]
      }
     ],
     "prompt_number": 9
    },
    {
     "cell_type": "heading",
     "level": 2,
     "metadata": {},
     "source": [
      "Example no:3.12,Page no:87"
     ]
    },
    {
     "cell_type": "code",
     "collapsed": false,
     "input": [
      "\n",
      "\n",
      "#Variable declaration \n",
      "D=25.0         #distance of distinct vision in cm\n",
      "fo=140.0     #focal length of eye lens\n",
      "fe=5.0         #focal length in cm\n",
      "\n",
      "#Calculation\n",
      "m=-(fo/fe)    #calculating magnifying power\n",
      "m1=-(fo/fe)*(1+(fe/D))     #calculating magnifying power\n",
      "\n",
      "#Result\n",
      "print\"(a):Magnifying power at normal adjustment = \",m\n",
      "print\"(b):Magnifying power atleast distance of distinct vision = \",m1"
     ],
     "language": "python",
     "metadata": {},
     "outputs": [
      {
       "output_type": "stream",
       "stream": "stdout",
       "text": [
        "(a):Magnifying power at normal adjustment =  -28.0\n",
        "(b):Magnifying power atleast distance of distinct vision =  -33.6\n"
       ]
      }
     ],
     "prompt_number": 10
    },
    {
     "cell_type": "heading",
     "level": 2,
     "metadata": {},
     "source": [
      "Example no:3.13,Page no:88"
     ]
    },
    {
     "cell_type": "code",
     "collapsed": false,
     "input": [
      "\n",
      "\n",
      "#Variable declaration \n",
      "M=5          #Magnifying power\n",
      "fo=10     #focal length of eye lens\n",
      "\n",
      "#Calculation\n",
      "fe=fo/M      #calculating fe\n",
      "\n",
      "#Result\n",
      "print\"Focal length of eye lens= \",fe,\"cm\""
     ],
     "language": "python",
     "metadata": {},
     "outputs": [
      {
       "output_type": "stream",
       "stream": "stdout",
       "text": [
        "Focal length of eye lens=  2 cm\n"
       ]
      }
     ],
     "prompt_number": 11
    },
    {
     "cell_type": "heading",
     "level": 2,
     "metadata": {},
     "source": [
      "Example no:3.14,Page no:88"
     ]
    },
    {
     "cell_type": "code",
     "collapsed": false,
     "input": [
      "\n",
      "#Variable declaration \n",
      "fo=75.0     #focal length of eye lens\n",
      "D=25.0         #distance of distinct vision\n",
      "fe=5.0       #focal  of eye lens in cm\n",
      "\n",
      "#Calculation\n",
      "M=-(fo/fe)*(1+(fe/D))   #calculating M\n",
      "\n",
      "#Result\n",
      "print\"Magnifying power = \",M"
     ],
     "language": "python",
     "metadata": {},
     "outputs": [
      {
       "output_type": "stream",
       "stream": "stdout",
       "text": [
        "Magnifying power =  -18.0\n"
       ]
      }
     ],
     "prompt_number": 12
    },
    {
     "cell_type": "heading",
     "level": 2,
     "metadata": {},
     "source": [
      "Example no:3.15,Page no:88"
     ]
    },
    {
     "cell_type": "code",
     "collapsed": false,
     "input": [
      "\n",
      "\n",
      "#Variable declaration \n",
      "M=7       #magnifying power\n",
      "L=40     #length\n",
      "\n",
      "#Calculation\n",
      "fe=(L/(M+1))   #focal length of eye lens in cm\n",
      "fo=(M*fe)    #calculating focal length\n",
      "\n",
      "#Result\n",
      "print\"Focal Length of lens=\",fo,\"cm\""
     ],
     "language": "python",
     "metadata": {},
     "outputs": [
      {
       "output_type": "stream",
       "stream": "stdout",
       "text": [
        "Focal Length of lens= 35 cm\n"
       ]
      }
     ],
     "prompt_number": 13
    }
   ],
   "metadata": {}
  }
 ]
}