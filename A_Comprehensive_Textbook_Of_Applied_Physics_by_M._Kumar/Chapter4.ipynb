{
 "metadata": {
  "name": "",
  "signature": "sha256:5389b8ee7db605c2b6709900953f8acf2763d42f0399c64611452653d4ee8704"
 },
 "nbformat": 3,
 "nbformat_minor": 0,
 "worksheets": [
  {
   "cells": [
    {
     "cell_type": "heading",
     "level": 1,
     "metadata": {},
     "source": [
      "UNIT-4:Electrostatics"
     ]
    },
    {
     "cell_type": "heading",
     "level": 2,
     "metadata": {},
     "source": [
      "Example no:4.1,Page no:103"
     ]
    },
    {
     "cell_type": "code",
     "collapsed": false,
     "input": [
      "\n",
      "\n",
      "#Variable declaration  \n",
      "q=1.0          #no of coulomb\n",
      "e=1.6*10**-19    #charge on an electron\n",
      "\n",
      "#Calculation\n",
      "n=(q/e)   #calculating no of electrons\n",
      "\n",
      "#Result\n",
      "print\"No of electrons =\",n\n",
      "print\"NOTE:Calculation mistake in book\""
     ],
     "language": "python",
     "metadata": {},
     "outputs": [
      {
       "output_type": "stream",
       "stream": "stdout",
       "text": [
        "No of electrons = 6.25e+18\n",
        "NOTE:Calculation mistake in book\n"
       ]
      }
     ],
     "prompt_number": 32
    },
    {
     "cell_type": "heading",
     "level": 2,
     "metadata": {},
     "source": [
      "Example no:4.2,Page no:103"
     ]
    },
    {
     "cell_type": "code",
     "collapsed": false,
     "input": [
      "\n",
      "\n",
      "import math  \n",
      "\n",
      "#Variable declaration\n",
      "g=9.8\n",
      "m=4.5       #Massin [kg]\n",
      "r=0.03      #radius in [m]\n",
      "\n",
      "#Calculation\n",
      "F=m*g    #in Newton\n",
      "q=math.sqrt(((r**2)*m*g)/(9*10**9))   #calculating q using F=(1/4*3.14*eo)*((q1*q2)/(r**2))\n",
      "\n",
      "#Result\n",
      "print\"Charge = \",q,\"C\"\n",
      "print\"\\nNOTE:Calculation mistake in book\""
     ],
     "language": "python",
     "metadata": {},
     "outputs": [
      {
       "output_type": "stream",
       "stream": "stdout",
       "text": [
        "Charge =  2.1e-06 C\n",
        "\n",
        "NOTE:Calculation mistake in book\n"
       ]
      }
     ],
     "prompt_number": 36
    },
    {
     "cell_type": "heading",
     "level": 2,
     "metadata": {},
     "source": [
      "Example no:4.3,Page no:103"
     ]
    },
    {
     "cell_type": "code",
     "collapsed": false,
     "input": [
      "\n",
      "\n",
      "#Variable declaration  \n",
      "q1=2*10**-7     #charge in C\n",
      "q2=3*10**-7     #charge in C\n",
      "r=30*10**-2     #r in m\n",
      "\n",
      "#Calculation\n",
      "F=(9*10**9)*((q1*q2)/r**2)   #calculating F\n",
      "\n",
      "#Result\n",
      "print\"Force  = %.e\"%F,\"N\""
     ],
     "language": "python",
     "metadata": {},
     "outputs": [
      {
       "output_type": "stream",
       "stream": "stdout",
       "text": [
        "Force  = 6e-03 N\n"
       ]
      }
     ],
     "prompt_number": 70
    },
    {
     "cell_type": "heading",
     "level": 2,
     "metadata": {},
     "source": [
      "Example no:4.4,Page no:104"
     ]
    },
    {
     "cell_type": "code",
     "collapsed": false,
     "input": [
      "\n",
      "\n",
      "#Variable declaration  \n",
      "q1=1     #charge in C\n",
      "q2=1     #charge in C\n",
      "r=1     #r in m\n",
      "\n",
      "#Calculation\n",
      "F=(9*10**9)*((q1*q2)/r**2)   #calculating F\n",
      "\n",
      "#Result\n",
      "print\"Force = %.e\"%F,\"N\""
     ],
     "language": "python",
     "metadata": {},
     "outputs": [
      {
       "output_type": "stream",
       "stream": "stdout",
       "text": [
        "Force = 9e+09 N\n"
       ]
      }
     ],
     "prompt_number": 71
    },
    {
     "cell_type": "heading",
     "level": 2,
     "metadata": {},
     "source": [
      "Example no:4.5,Page no:104"
     ]
    },
    {
     "cell_type": "code",
     "collapsed": false,
     "input": [
      "\n",
      "\n",
      "#Variable declaration  \n",
      "m=9*10**-31       #mass of electron in kg\n",
      "q=-3.2*10**-7     #charge in C\n",
      "e=-1.6*10**-19     #charge on electron in C\n",
      "\n",
      "#Calculation\n",
      "n=(q/e)   #calculating n\n",
      "M=n*m     #calculating mass transfered\n",
      "\n",
      "#Result\n",
      "print\"(a):No. of electrons = \",n\n",
      "print\"(b):Mass transfered to polythene= \",M,\"kg\""
     ],
     "language": "python",
     "metadata": {},
     "outputs": [
      {
       "output_type": "stream",
       "stream": "stdout",
       "text": [
        "(a):No. of electrons =  2e+12\n",
        "(b):Mass transfered to polythene=  1.8e-18 kg\n"
       ]
      }
     ],
     "prompt_number": 50
    },
    {
     "cell_type": "heading",
     "level": 2,
     "metadata": {},
     "source": [
      "Example no:4.6,Page no:105"
     ]
    },
    {
     "cell_type": "code",
     "collapsed": false,
     "input": [
      "\n",
      "#Variable declaration  \n",
      "q1=1.6*10**-19     #charge in C\n",
      "q2=-1.6*10**-19     #charge in C\n",
      "r=10**-9     #r in m\n",
      "\n",
      "#Calculation\n",
      "F=(9*10**9)*((q1*q2)/r**2)   #calculating F\n",
      "\n",
      "#Result\n",
      "print\"Force=\",F,\"N\""
     ],
     "language": "python",
     "metadata": {},
     "outputs": [
      {
       "output_type": "stream",
       "stream": "stdout",
       "text": [
        "Force= -2.304e-10 N\n"
       ]
      }
     ],
     "prompt_number": 54
    },
    {
     "cell_type": "heading",
     "level": 2,
     "metadata": {},
     "source": [
      "Example no:4.7,Page no:110"
     ]
    },
    {
     "cell_type": "code",
     "collapsed": false,
     "input": [
      "\n",
      "#Variable declaration  \n",
      "Va=-10  #voltage in volts\n",
      "W=100   #work in Joule\n",
      "q=2     #charge in Coulomb\n",
      "\n",
      "#Calculation\n",
      "v=(Va)+(W/q)   #calculating v\n",
      "\n",
      "#Result\n",
      "print\"Voltage = \",v,\"V\""
     ],
     "language": "python",
     "metadata": {},
     "outputs": [
      {
       "output_type": "stream",
       "stream": "stdout",
       "text": [
        "Voltage =  40 V\n"
       ]
      }
     ],
     "prompt_number": 55
    },
    {
     "cell_type": "heading",
     "level": 2,
     "metadata": {},
     "source": [
      "Example no:4.8,Page no:111"
     ]
    },
    {
     "cell_type": "code",
     "collapsed": false,
     "input": [
      "\n",
      "import math  \n",
      "\n",
      "#Variable declaration\n",
      "eo=(8.854*10**-12)    #constant\n",
      "E=2    #magnitude of electric field in N/C\n",
      "r=0.5   #r in m\n",
      "\n",
      "#Calculation\n",
      "q=E*4*(math.pi)*(eo)*(r**2)    #calculating charge\n",
      "\n",
      "#Result\n",
      "print\"Charge= %.2e\"%q,\"C\"\n",
      "print\"\\nNOTE:Calcualtion mistake in book\""
     ],
     "language": "python",
     "metadata": {},
     "outputs": [
      {
       "output_type": "stream",
       "stream": "stdout",
       "text": [
        "Charge= 5.56e-11 C\n",
        "\n",
        "NOTE:Calcualtion mistake in book\n"
       ]
      }
     ],
     "prompt_number": 73
    },
    {
     "cell_type": "heading",
     "level": 2,
     "metadata": {},
     "source": [
      "Example no:4.9,Page no:111"
     ]
    },
    {
     "cell_type": "code",
     "collapsed": false,
     "input": [
      "\n",
      "#Variable declaration  \n",
      "e=-1.6*10**-19   #charge on electron in Coulomb\n",
      "q=20*10**-6   #charge in Coulomb\n",
      "r1=0.1   #r1 in m\n",
      "r2=0.05   #r2 in m\n",
      "\n",
      "#Calculation\n",
      "Va=9*10**9*(q/r1)   #calculating voltage at A\n",
      "Vb=9*10**9*(q/r2)   #calculating voltage at B\n",
      "V=Va-Vb     #potential difference\n",
      "W=V*e      #calculating work done in joule\n",
      "\n",
      "#Result\n",
      "print\"Work done to take the electron from A to B = \",W,\"Joule\""
     ],
     "language": "python",
     "metadata": {},
     "outputs": [
      {
       "output_type": "stream",
       "stream": "stdout",
       "text": [
        "Work done to take the electron from A to B =  2.88e-13 Joule\n"
       ]
      }
     ],
     "prompt_number": 69
    },
    {
     "cell_type": "heading",
     "level": 2,
     "metadata": {},
     "source": [
      "Example no:4.10,Page no:112"
     ]
    },
    {
     "cell_type": "code",
     "collapsed": false,
     "input": [
      "\n",
      "#Variable declaration  \n",
      "q1=(2.0*10**-8)   #charge in coulomb\n",
      "q2=(-2.0*10**-8)   #charge in coulomb\n",
      "q3=(3.0*10**-8)   #charge in coulomb\n",
      "q4=(6.0*10**-8)   #charge in coulomb\n",
      "s=1.0   #side in m\n",
      "\n",
      "#Calculation\n",
      "V=(9.0*10**9)*(1.0/s)*(q1+q2+q3+q4)   #calculating voltage\n",
      "\n",
      "#Result\n",
      "print\"Voltage in Volts = \",V,\"Volts\"\n",
      "print\"\\nNOTE:Calculation mistake in book\""
     ],
     "language": "python",
     "metadata": {},
     "outputs": [
      {
       "output_type": "stream",
       "stream": "stdout",
       "text": [
        "Voltage in Volts =  810.0 Volts\n",
        "\n",
        "NOTE:Calculation mistake in book\n"
       ]
      }
     ],
     "prompt_number": 4
    },
    {
     "cell_type": "heading",
     "level": 2,
     "metadata": {},
     "source": [
      "Example no:4.11,Page no:123"
     ]
    },
    {
     "cell_type": "code",
     "collapsed": false,
     "input": [
      "\n",
      "\n",
      "#Variable declaration  \n",
      "eo=8.85*10**-12   #constant\n",
      "q=2*10**-6    #charge in coulomb\n",
      "l=9    #length in cm\n",
      "\n",
      "#Calculation\n",
      "fi=(q/eo)   #calcualting flux in (N m square)/c\n",
      "\n",
      "#Result\n",
      "print\"Flux through the surface=%2e\"%fi,\"N m^2/c\"\n"
     ],
     "language": "python",
     "metadata": {},
     "outputs": [
      {
       "output_type": "stream",
       "stream": "stdout",
       "text": [
        "Flux through the surface=2.259887e+05 N m^2/c\n"
       ]
      }
     ],
     "prompt_number": 6
    },
    {
     "cell_type": "heading",
     "level": 2,
     "metadata": {},
     "source": [
      "Example no:4.12,Page no:124"
     ]
    },
    {
     "cell_type": "code",
     "collapsed": false,
     "input": [
      "\n",
      "\n",
      "import math  \n",
      "\n",
      "#Variable declaration\n",
      "eo=8.85*10**-12   #constant\n",
      "r=1.2    #r in m\n",
      "t=80*10**-6   #surface sharge density in c/m square\n",
      "\n",
      "#Calculation\n",
      "q=t*4*(math.pi)*(r**2)   #calculating charge\n",
      "fi=q/eo      #calculating flux\n",
      "\n",
      "#Result\n",
      "print\"Flux=%g\"%fi,\"N c^-1 m^2\"\n"
     ],
     "language": "python",
     "metadata": {},
     "outputs": [
      {
       "output_type": "stream",
       "stream": "stdout",
       "text": [
        "Flux=1.63576e+08 N c^-1 m^2\n"
       ]
      }
     ],
     "prompt_number": 12
    },
    {
     "cell_type": "heading",
     "level": 2,
     "metadata": {},
     "source": [
      "Example no:4.13,Page no:124"
     ]
    },
    {
     "cell_type": "code",
     "collapsed": false,
     "input": [
      "\n",
      "\n",
      "import math  \n",
      "\n",
      "#Variable declaration\n",
      "eo=8.85*10**-12   #constant\n",
      "E=9*10**4    #Electric field in N/C\n",
      "r=2*10**-2    #r in m\n",
      "\n",
      "#Calculation\n",
      "L=2*(math.pi)*E*eo*r   #calculating linear charge density\n",
      "\n",
      "#Result\n",
      "print\"Linear charge density = \",round(L,7),\"cm^-1\""
     ],
     "language": "python",
     "metadata": {},
     "outputs": [
      {
       "output_type": "stream",
       "stream": "stdout",
       "text": [
        "Linear charge density =  1e-07 cm^-1\n"
       ]
      }
     ],
     "prompt_number": 3
    },
    {
     "cell_type": "heading",
     "level": 2,
     "metadata": {},
     "source": [
      "Example no:4.14,Page no:125"
     ]
    },
    {
     "cell_type": "code",
     "collapsed": false,
     "input": [
      "\n",
      "\n",
      "#Variable declaration  \n",
      "o=17*10**-22    #surface charge density in cm**-2\n",
      "eo=8.85*10**-12   #constant\n",
      "\n",
      "#Calculation\n",
      "E=o/eo   #calculating electric intensity in region III\n",
      "\n",
      "#Result\n",
      "print\"Electric Intensity in regions I and II = 0\"    \n",
      "print\"Electric Intensity in region III  = \",round(E,12),\"N/C\"\n"
     ],
     "language": "python",
     "metadata": {},
     "outputs": [
      {
       "output_type": "stream",
       "stream": "stdout",
       "text": [
        "Electric Intensity in regions I and II = 0\n",
        "Electric Intensity in region III  =  1.92e-10 N/C\n"
       ]
      }
     ],
     "prompt_number": 7
    },
    {
     "cell_type": "heading",
     "level": 2,
     "metadata": {},
     "source": [
      "Example no:4.15,Page no:125"
     ]
    },
    {
     "cell_type": "code",
     "collapsed": false,
     "input": [
      "\n",
      "\n",
      "import math \n",
      "\n",
      "#Variable declaration\n",
      "r=0.05   # in m\n",
      "eo=8.85*10**-12   #constant\n",
      "q=10.0**-9   #charge at point P in Coulomb\n",
      "\n",
      "#Calculation\n",
      "E=q/(4*(math.pi)*eo*(r**2))   #calculating electric field\n",
      "r1=0.2   #in m\n",
      "V1=q/(4*(math.pi)*eo*r1)   #calculating potential difference\n",
      "\n",
      "#Result\n",
      "print\"Electric field= \",round(E),\"v/m\"\n",
      "print\"\\nNOTE:Approximate answer is calculated in book\\n\\n\"\n",
      "print\"Potential difference between two points = \",round(V1),\"V\""
     ],
     "language": "python",
     "metadata": {},
     "outputs": [
      {
       "output_type": "stream",
       "stream": "stdout",
       "text": [
        "Electric field=  3597.0 v/m\n",
        "\n",
        "NOTE:Approximate answer is calculated in book\n",
        "\n",
        "\n",
        "Potential difference between two points =  45.0 V\n"
       ]
      }
     ],
     "prompt_number": 65
    },
    {
     "cell_type": "heading",
     "level": 2,
     "metadata": {},
     "source": [
      "Example no:4.16,Page no:126"
     ]
    },
    {
     "cell_type": "code",
     "collapsed": false,
     "input": [
      "\n",
      "import math  \n",
      "\n",
      "#Variable declaration\n",
      "eo=8.85*10**-12   #constant\n",
      "o=80.0*10**-6   #surface charge density in c/ square\n",
      "r=1.2   #in m\n",
      "\n",
      "#Calculation\n",
      "q=o*(math.pi)*(r**2)   #calculating charge in Coulomb\n",
      "fi=q/eo   #calculating electric flux\n",
      "\n",
      "#Result\n",
      "print\"Charge= \",q,\"C\"\n",
      "print\"Electric flux  = \",fi,\"N m^2/c\"\n",
      "print\"\\nNOTE:Wrong answers in book\\n\""
     ],
     "language": "python",
     "metadata": {},
     "outputs": [
      {
       "output_type": "stream",
       "stream": "stdout",
       "text": [
        "Charge=  0.000361911473694 C\n",
        "Electric flux  =  40893951.8298 N m^2/c\n",
        "\n",
        "NOTE:Wrong answers in book\n",
        "\n"
       ]
      }
     ],
     "prompt_number": 19
    },
    {
     "cell_type": "heading",
     "level": 2,
     "metadata": {},
     "source": [
      "Example no:4.17,Page no:138"
     ]
    },
    {
     "cell_type": "code",
     "collapsed": false,
     "input": [
      "\n",
      "#Variable declaration  \n",
      "V=250   #potential difference in Volt\n",
      "C=10**-11   #capacitance in farad\n",
      "\n",
      "#Calculation\n",
      "q=C*V   #calculating charge\n",
      "\n",
      "#Result\n",
      "print\"Charge  = \",q,\"C\""
     ],
     "language": "python",
     "metadata": {},
     "outputs": [
      {
       "output_type": "stream",
       "stream": "stdout",
       "text": [
        "Charge  =  2.5e-09 C\n"
       ]
      }
     ],
     "prompt_number": 68
    },
    {
     "cell_type": "heading",
     "level": 2,
     "metadata": {},
     "source": [
      "Example no:4.18,Page no:138"
     ]
    },
    {
     "cell_type": "code",
     "collapsed": false,
     "input": [
      "\n",
      "\n",
      "#Variable declaration  \n",
      "r=6.4*10**6   #in m\n",
      "\n",
      "#Calculation\n",
      "C=r/(9*10**9)   #calculating charge\n",
      "\n",
      "#Result\n",
      "print\"Capacitance = \",round(C*10**6),\"mu F\""
     ],
     "language": "python",
     "metadata": {},
     "outputs": [
      {
       "output_type": "stream",
       "stream": "stdout",
       "text": [
        "Capacitance =  711.0 mu F\n"
       ]
      }
     ],
     "prompt_number": 67
    },
    {
     "cell_type": "heading",
     "level": 2,
     "metadata": {},
     "source": [
      "Example no:4.19,Page no:138"
     ]
    },
    {
     "cell_type": "code",
     "collapsed": false,
     "input": [
      "\n",
      "#Variable declaration  \n",
      "C=2   #capacitance in Farad\n",
      "d=0.5*10**-2   #distance in m\n",
      "eo=8.85*10**-12   #constant\n",
      "\n",
      "#Calculation\n",
      "A=(C*d)/(eo)   #calculating area\n",
      "\n",
      "#Result\n",
      "print\"Area=%.2e\"%A,\"m^2\""
     ],
     "language": "python",
     "metadata": {},
     "outputs": [
      {
       "output_type": "stream",
       "stream": "stdout",
       "text": [
        "Area=1.13e+09 m^2\n"
       ]
      }
     ],
     "prompt_number": 66
    },
    {
     "cell_type": "heading",
     "level": 2,
     "metadata": {},
     "source": [
      "Example no:4.20,Page no:139"
     ]
    },
    {
     "cell_type": "code",
     "collapsed": false,
     "input": [
      "\n",
      "\n",
      "import math  \n",
      "\n",
      "#Variable declaration\n",
      "A=0.02   #area in m square\n",
      "r=0.5   #r in m\n",
      "\n",
      "#Calculation\n",
      "d=(A/(4*(math.pi)*r))   #calculating distance\n",
      "\n",
      "#Result\n",
      "print\"Distance between the plates = \",round(d*1000,2),\"mm\""
     ],
     "language": "python",
     "metadata": {},
     "outputs": [
      {
       "output_type": "stream",
       "stream": "stdout",
       "text": [
        "Distance between the plates =  3.18 mm\n"
       ]
      }
     ],
     "prompt_number": 4
    },
    {
     "cell_type": "heading",
     "level": 2,
     "metadata": {},
     "source": [
      "Example no:4.21,Page no:139"
     ]
    },
    {
     "cell_type": "code",
     "collapsed": false,
     "input": [
      "\n",
      "\n",
      "#Variable declaration  \n",
      "eo=8.85*10**-12   #constant\n",
      "A=1   #area in m square\n",
      "d=2*10**-3   #r in m\n",
      "K=4   #constant\n",
      "\n",
      "#Calculation\n",
      "C=(K*eo*A)/d    #calculating capacitance\n",
      "\n",
      "#Result\n",
      "print\"Capacitance = \",C,\"Farad\""
     ],
     "language": "python",
     "metadata": {},
     "outputs": [
      {
       "output_type": "stream",
       "stream": "stdout",
       "text": [
        "Capacitance =  1.77e-08 Farad\n"
       ]
      }
     ],
     "prompt_number": 21
    },
    {
     "cell_type": "heading",
     "level": 2,
     "metadata": {},
     "source": [
      "Example no:4.22,Page no:140"
     ]
    },
    {
     "cell_type": "code",
     "collapsed": false,
     "input": [
      "\n",
      "#Variable declaration  \n",
      "cm=10*10**-6   #capacitance in Farad\n",
      "K=2   #constant\n",
      "\n",
      "#Calculation\n",
      "co=cm/K   #calculating co\n",
      "\n",
      "#Result\n",
      "print\"capacity of capacitor with air between the plates= \",co*10**6,\"muF\""
     ],
     "language": "python",
     "metadata": {},
     "outputs": [
      {
       "output_type": "stream",
       "stream": "stdout",
       "text": [
        "capacity of capacitor with air between the plates=  5.0 muF\n"
       ]
      }
     ],
     "prompt_number": 37
    },
    {
     "cell_type": "heading",
     "level": 2,
     "metadata": {},
     "source": [
      "Example no:4.23,Page no:140"
     ]
    },
    {
     "cell_type": "code",
     "collapsed": false,
     "input": [
      "\n",
      "\n",
      "#Variable declaration  \n",
      "v=100.0        #v in volt\n",
      "c1=8.0*10**-6   #capacitance in Farad\n",
      "c2=12.0*10.0**-6   #capacitance in Farad\n",
      "c3=24.0*10.0**-6   #capacitance in Farad\n",
      "cs=4.0/(10.0**6)   #calculating series capacitance\n",
      "\n",
      "#Calculation\n",
      "cp=(c1+c2+c3)   #calculating parallel capacitance\n",
      "qs=cs*v   #calculating charge\n",
      "\n",
      "#Result\n",
      "print\"Equivalent Series capacitance,C= \",cs*10**6,\"muF\"\n",
      "print\"Equivalent parallel capacitance,Cp= \",cp*10**6,\"muF\"    \n",
      "print\"charge on plate=%.e\"%qs,\"C\""
     ],
     "language": "python",
     "metadata": {},
     "outputs": [
      {
       "output_type": "stream",
       "stream": "stdout",
       "text": [
        "Equivalent Series capacitance,C=  4.0 muF\n",
        "Equivalent parallel capacitance,Cp=  44.0 muF\n",
        "charge on plate=4e-04 C\n"
       ]
      }
     ],
     "prompt_number": 48
    },
    {
     "cell_type": "heading",
     "level": 2,
     "metadata": {},
     "source": [
      "Example no:4.24,Page no:141"
     ]
    },
    {
     "cell_type": "code",
     "collapsed": false,
     "input": [
      "\n",
      "\n",
      "#Variable declaration  \n",
      "C=9*10**-10   #capacitance in farad\n",
      "V=100.0   #in volt\n",
      "\n",
      "#Calculation\n",
      "U=(1/2.0)*(C*(V**2))   #calculating energy stored\n",
      "\n",
      "#Result\n",
      "print\"Energy stored  = \",U,\"J\""
     ],
     "language": "python",
     "metadata": {},
     "outputs": [
      {
       "output_type": "stream",
       "stream": "stdout",
       "text": [
        "Energy stored  =  4.5e-06 J\n"
       ]
      }
     ],
     "prompt_number": 50
    },
    {
     "cell_type": "heading",
     "level": 2,
     "metadata": {},
     "source": [
      "Example no:4.25,Page no:141"
     ]
    },
    {
     "cell_type": "code",
     "collapsed": false,
     "input": [
      "\n",
      "\n",
      "#Variable declaration  \n",
      "eo=8.85*10**-12   #constant\n",
      "A=90.0*10**-4   #area in m square\n",
      "d=2.5*10**-3    #distance in m\n",
      "V=400.0   #in volt\n",
      "\n",
      "#Calculation\n",
      "C=(eo*A)/d   #calculating capacitance\n",
      "W=(1/2.0)*(C*(V**2))   #calculating electrical energy stored\n",
      "\n",
      "#Result\n",
      "print\"Capacitance = \",C,\"Farad\"\n",
      "print\"Electrical Energy stored in capacitor =%.2e\"%W,\"J\""
     ],
     "language": "python",
     "metadata": {},
     "outputs": [
      {
       "output_type": "stream",
       "stream": "stdout",
       "text": [
        "Capacitance =  3.186e-11 Farad\n",
        "Electrical Energy stored in capacitor =2.55e-06 J\n"
       ]
      }
     ],
     "prompt_number": 56
    },
    {
     "cell_type": "heading",
     "level": 2,
     "metadata": {},
     "source": [
      "Example no:4.26,Page no:142"
     ]
    },
    {
     "cell_type": "code",
     "collapsed": false,
     "input": [
      "\n",
      "#Variable declaration  \n",
      "v=100        #v in volt\n",
      "c1=1*10**-6   #capacitance in Farad\n",
      "c2=2*10**-6   #capacitance in Farad\n",
      "c3=3*10**-6   #capacitance in Farad\n",
      "cs=6/11.0   #calculating series capacitance\n",
      "\n",
      "#Calculation\n",
      "cp=(c1+c2+c3)   #calculating parallel capacitance\n",
      "\n",
      "#Result\n",
      "print\"Equivalent Series capacitance = \",cs,\"muF\"\n",
      "print\"Equivalent parallel capacitance= \",cp*10**6,\"muF\"\n",
      "print\"Therefore Cp=(11*Cs)\"    "
     ],
     "language": "python",
     "metadata": {},
     "outputs": [
      {
       "output_type": "stream",
       "stream": "stdout",
       "text": [
        "Equivalent Series capacitance =  0.545454545455 muF\n",
        "Equivalent parallel capacitance=  6.0 muF\n",
        "Therefore Cp=(11*Cs)\n"
       ]
      }
     ],
     "prompt_number": 60
    },
    {
     "cell_type": "heading",
     "level": 2,
     "metadata": {},
     "source": [
      "Example no:4.27,Page no:143"
     ]
    },
    {
     "cell_type": "code",
     "collapsed": false,
     "input": [
      "\n",
      "#Variable declaration  \n",
      "eo=8.85*10**-12   #constant\n",
      "V=6   #v in volt\n",
      "A=25*10**-4   #area in m square\n",
      "d=10**-3   #distance in m\n",
      "\n",
      "#Calculation\n",
      "q=(eo*A*V)/d   #calculating charge\n",
      "W=q*V    #calculating work done\n",
      "\n",
      "#Result\n",
      "print\"Charge through battery  =%.3g\"%q,\"C\"\n",
      "print\"Work done by Battery=%.e\"%W,\"J\""
     ],
     "language": "python",
     "metadata": {},
     "outputs": [
      {
       "output_type": "stream",
       "stream": "stdout",
       "text": [
        "Charge through battery  =1.33e-10 C\n",
        "Work done by Battery=8e-10 J\n"
       ]
      }
     ],
     "prompt_number": 63
    }
   ],
   "metadata": {}
  }
 ]
}