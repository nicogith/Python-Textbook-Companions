{
 "metadata": {
  "name": "",
  "signature": "sha256:bc446a4cb1141cc1fc3a73e237c82b9c455db1185763ba734b760bbf57d3288c"
 },
 "nbformat": 3,
 "nbformat_minor": 0,
 "worksheets": [
  {
   "cells": [
    {
     "cell_type": "heading",
     "level": 1,
     "metadata": {},
     "source": [
      "UNIT-2:Application of Sound Waves"
     ]
    },
    {
     "cell_type": "heading",
     "level": 2,
     "metadata": {},
     "source": [
      "Example no:2.1,Page no:41"
     ]
    },
    {
     "cell_type": "code",
     "collapsed": false,
     "input": [
      "\n",
      "\n",
      "#Variable declaration\n",
      "v=3000              #volume in metre cube.\n",
      "theta=0.2           #theta in owu(open window unit).\n",
      "s=1850              #area in metre cube.\n",
      "\n",
      "#Calculation\n",
      "a=theta*s     #calculating total absorbtion of surface.\n",
      "T=(0.165*v)/a #calculating T using Sabine formula\n",
      "\n",
      "#Result\n",
      "print\"Reverberation time of Room = \",round(T,2) ,\"sec\"    \n"
     ],
     "language": "python",
     "metadata": {},
     "outputs": [
      {
       "output_type": "stream",
       "stream": "stdout",
       "text": [
        "Reverberation time of Room =  1.34 sec\n"
       ]
      }
     ],
     "prompt_number": 11
    },
    {
     "cell_type": "heading",
     "level": 2,
     "metadata": {},
     "source": [
      "Example no:2.2,Page no:41"
     ]
    },
    {
     "cell_type": "code",
     "collapsed": false,
     "input": [
      "\n",
      "#Variable declaration\n",
      "v=120000                            #volume in metre cube.\n",
      "t=1.5                               #time in second.\n",
      "s=25000                             #area in metre cube.\n",
      "\n",
      "#Calculation\n",
      "a=(0.16*v)/(t*s)                   #using Sabine formula for calculating a\n",
      "\n",
      "#Variable declaration\n",
      "print\"Average Absorbing Power of Surface = \",a,\"o w u\"   "
     ],
     "language": "python",
     "metadata": {},
     "outputs": [
      {
       "output_type": "stream",
       "stream": "stdout",
       "text": [
        "Average Absorbing Power of Surface =  0.512 o w u\n"
       ]
      }
     ],
     "prompt_number": 39
    },
    {
     "cell_type": "heading",
     "level": 2,
     "metadata": {},
     "source": [
      "Example no:2.3,Page no:42"
     ]
    },
    {
     "cell_type": "code",
     "collapsed": false,
     "input": [
      "\n",
      "\n",
      "#Variable declaration\n",
      "v=6000.0                    #Volume in metre cube.\n",
      "a=20.0                     #surface absorbtion in owu(open window unit).\n",
      "\n",
      "#Calculation\n",
      "T=(0.165*v)/(a)            #calculating T using Sabine Formula.\n",
      "\n",
      "#Result\n",
      "print\"Reverberation Time = \",T,\"sec\"\n",
      "print\"\\nNOTE:Calculation mistake in book\""
     ],
     "language": "python",
     "metadata": {},
     "outputs": [
      {
       "output_type": "stream",
       "stream": "stdout",
       "text": [
        "Reverberation Time =  49.5 sec\n",
        "\n",
        "NOTE:Calculation mistake in book\n"
       ]
      }
     ],
     "prompt_number": 37
    },
    {
     "cell_type": "heading",
     "level": 2,
     "metadata": {},
     "source": [
      "Example no:2.4,Page no:42"
     ]
    },
    {
     "cell_type": "code",
     "collapsed": false,
     "input": [
      "\n",
      "v=3500                  #volume in metre cube.\n",
      "n1=370-300              #no. of audience on wooden seats.\n",
      "n2=300-70               #no. of empty wooden seats.\n",
      "\n",
      "#Calculation\n",
      "a1s1=0.04*60            #absorption due to wooden doors.\n",
      "a2s2=0.03*700           #absorption due to plastered walls.\n",
      "a3s3=0.06*50            #absorption due to glass work.\n",
      "a4s4=4.2*370            #absorption due to audience on spungy and wooden \n",
      "#seats.\n",
      "a5s5=2*230               #absorption due to empty seats.\n",
      "sum=a1s1+a2s2+a3s3+a4s4+a5s5  #total absorption of cinema hall.\n",
      "T=(0.165*v)/sum          #calculating T using Sabine Formula.\n",
      "\n",
      "#Result\n",
      "print\"Reverberation Time = \",round(T,2),\"sec\"       "
     ],
     "language": "python",
     "metadata": {},
     "outputs": [
      {
       "output_type": "stream",
       "stream": "stdout",
       "text": [
        "Reverberation Time =  0.28 sec\n"
       ]
      }
     ],
     "prompt_number": 40
    },
    {
     "cell_type": "heading",
     "level": 2,
     "metadata": {},
     "source": [
      "Example no:2.5,Page no:49"
     ]
    },
    {
     "cell_type": "code",
     "collapsed": false,
     "input": [
      "\n",
      "\n",
      "import math\n",
      "\n",
      "#Variable declaration\n",
      "l=10                           #length in centimetres.\n",
      "Y=20*10**11                     #Young's Modulus in dyne/cm square.\n",
      "R=8                            #Density in gram/cc\n",
      "\n",
      "#Calculation\n",
      "n=(1.0/(2*l))*math.sqrt(Y/R)  #calculating frequency of vibration using \n",
      "#young's modulus.\n",
      "\n",
      "#Result\n",
      "print\"Frequency of vibration=\",n,\"Hz\"       "
     ],
     "language": "python",
     "metadata": {},
     "outputs": [
      {
       "output_type": "stream",
       "stream": "stdout",
       "text": [
        "Frequency of vibration= 25000.0 Hz\n"
       ]
      }
     ],
     "prompt_number": 28
    },
    {
     "cell_type": "heading",
     "level": 2,
     "metadata": {},
     "source": [
      "Example no:2.6,Page no:50"
     ]
    },
    {
     "cell_type": "code",
     "collapsed": false,
     "input": [
      "\n",
      "import math\n",
      "\n",
      "#Variable declaration\n",
      "t=0.1                #thickness in centimetre.\n",
      "Y=8.75*10**11         #Young's Modulus in dyne/cm square.\n",
      "R=2.654              #Density in gram/cm square.\n",
      "\n",
      "#Calculation\n",
      "n=(1/(2*t))*math.sqrt(Y/R)      #calculating frequency using Young's modulus.\n",
      "\n",
      "#Result\n",
      "print\"Frequency of Vibration=\",round(n),\"Hz\"    "
     ],
     "language": "python",
     "metadata": {},
     "outputs": [
      {
       "output_type": "stream",
       "stream": "stdout",
       "text": [
        "Frequency of Vibration= 2870936.0 Hz\n"
       ]
      }
     ],
     "prompt_number": 26
    },
    {
     "cell_type": "heading",
     "level": 2,
     "metadata": {},
     "source": [
      "Example no:2.7,Page no:50"
     ]
    },
    {
     "cell_type": "code",
     "collapsed": false,
     "input": [
      "\n",
      "\n",
      "#Variable declaration\n",
      "K=2.026*10**9               #Bulk Modulus in N/m square.\n",
      "R=10**3                     #Density in Kg/m cube.\n",
      "\n",
      "#Calculation\n",
      "V=math.sqrt(K/R)                #Calculating speed using Bulk Modulus.\n",
      "\n",
      "#Result\n",
      "print\"Velocity of sound waves in water = \",round(V,2),\"m/sec\"     \n"
     ],
     "language": "python",
     "metadata": {},
     "outputs": [
      {
       "output_type": "stream",
       "stream": "stdout",
       "text": [
        "Velocity of sound waves in water =  1423.38 m/sec\n"
       ]
      }
     ],
     "prompt_number": 18
    },
    {
     "cell_type": "heading",
     "level": 2,
     "metadata": {},
     "source": [
      "Example no:2.8,Page no:51"
     ]
    },
    {
     "cell_type": "code",
     "collapsed": false,
     "input": [
      "\n",
      "\n",
      "import math\n",
      "\n",
      "#Variable declaration\n",
      "Y=1.41             #Young's Modulus.\n",
      "R=1.293*10**-3      #Density of air in g/centimetre cube.\n",
      "P=76*13.6*980      #atmospheric pressure in dyne/cm square.\n",
      "\n",
      "#Calculation\n",
      "V=math.sqrt((Y*P)/R)     #calculating speed using young's modulus.\n",
      "\n",
      "#Result\n",
      "print\"Speed of ultrasonic wave in air at n.t.p=\",round(V*10**-2,1),\"m/sec\"   "
     ],
     "language": "python",
     "metadata": {},
     "outputs": [
      {
       "output_type": "stream",
       "stream": "stdout",
       "text": [
        "Speed of ultrasonic wave in air at n.t.p= 332.4 m/sec\n"
       ]
      }
     ],
     "prompt_number": 16
    }
   ],
   "metadata": {}
  }
 ]
}