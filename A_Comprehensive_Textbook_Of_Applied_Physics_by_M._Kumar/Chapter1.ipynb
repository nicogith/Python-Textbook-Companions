{
 "metadata": {
  "name": "",
  "signature": "sha256:b9d3600de62f2e313ebd68d87880d0cad19ed95bdfc9a86e635db985c6359259"
 },
 "nbformat": 3,
 "nbformat_minor": 0,
 "worksheets": [
  {
   "cells": [
    {
     "cell_type": "heading",
     "level": 1,
     "metadata": {},
     "source": [
      "UNIT-1:Waves & Vibrations"
     ]
    },
    {
     "cell_type": "heading",
     "level": 2,
     "metadata": {},
     "source": [
      "Example no:1.1,Page no:11"
     ]
    },
    {
     "cell_type": "code",
     "collapsed": false,
     "input": [
      " \n",
      "\n",
      "#Variable declaration\n",
      "n=512   #frequency in Hz\n",
      "l=67    #wavelength in cm\n",
      "\n",
      "#Calculation\n",
      "v=n*l    #calculating velocity\n",
      "\n",
      "#Result\n",
      "print\"Velocity = \",v,\" cm/sec\"    \n",
      "print\"NOTE:Calculation mistake in book\""
     ],
     "language": "python",
     "metadata": {},
     "outputs": [
      {
       "output_type": "stream",
       "stream": "stdout",
       "text": [
        "Velocity =  34304  cm/sec\n",
        "NOTE:Calculation mistake in book\n"
       ]
      }
     ],
     "prompt_number": 6
    },
    {
     "cell_type": "heading",
     "level": 2,
     "metadata": {},
     "source": [
      "Example no:1.2,Page no:11"
     ]
    },
    {
     "cell_type": "code",
     "collapsed": false,
     "input": [
      "  \n",
      "\n",
      "#Variable declaration\n",
      "v=340   #velocity in m/sec\n",
      "l=0.68    #wavelength in m\n",
      "\n",
      "#Calculation\n",
      "n=v/l    #calculating frequency\n",
      "\n",
      "#Result\n",
      "print\"Frequency\",n,\"Hz\"    "
     ],
     "language": "python",
     "metadata": {},
     "outputs": [
      {
       "output_type": "stream",
       "stream": "stdout",
       "text": [
        "Frequency 500.0 Hz\n"
       ]
      }
     ],
     "prompt_number": 1
    },
    {
     "cell_type": "heading",
     "level": 2,
     "metadata": {},
     "source": [
      "Example no:1.3,Page no:12"
     ]
    },
    {
     "cell_type": "code",
     "collapsed": false,
     "input": [
      "  \n",
      "\n",
      "#Variable declaration\n",
      "v=3*10**8   #velocity in m/sec\n",
      "n=500*10**3    #frequency in Hz\n",
      "\n",
      "#Calculation\n",
      "l=v/n    #calculating wavelength\n",
      "\n",
      "#Result\n",
      "print\"Wavelength=\",l,\"m\"    "
     ],
     "language": "python",
     "metadata": {},
     "outputs": [
      {
       "output_type": "stream",
       "stream": "stdout",
       "text": [
        "Wavelength= 600 m\n"
       ]
      }
     ],
     "prompt_number": 3
    },
    {
     "cell_type": "heading",
     "level": 2,
     "metadata": {},
     "source": [
      "Example no:1.4,Page no:12"
     ]
    },
    {
     "cell_type": "code",
     "collapsed": false,
     "input": [
      "  \n",
      "\n",
      "#Variable declaration\n",
      "v=330   #velocity in m/sec\n",
      "n=560.0    #frequency in Hz\n",
      "\n",
      "#Calculation\n",
      "lamda=v/n    #calculating wavelength\n",
      "\n",
      "#Result\n",
      "print\"lambda=\",round(lamda,3),\"m\"\n",
      "print\"Distance travelled in 30 vibrations in m = \",round(lamda*30,2),\"m\"    "
     ],
     "language": "python",
     "metadata": {},
     "outputs": [
      {
       "output_type": "stream",
       "stream": "stdout",
       "text": [
        "lambda= 0.589 m\n",
        "Distance travelled in 30 vibrations in m =  17.68 m\n"
       ]
      }
     ],
     "prompt_number": 7
    },
    {
     "cell_type": "heading",
     "level": 2,
     "metadata": {},
     "source": [
      "Example no:1.5,Page no:12"
     ]
    },
    {
     "cell_type": "code",
     "collapsed": false,
     "input": [
      "\n",
      "import math  \n",
      "\n",
      "#Variable declaration\n",
      "s=90.0      #distance in m\n",
      "u=0       #initial velocity in m/sec\n",
      "\n",
      "#Calculation\n",
      "t=math.sqrt(90/4.9)     #calculating time using kinematical equation\n",
      "later=4.56        #Time after which sound is heard\n",
      "t1=later-t       #calculating time taken by sound to travel\n",
      "t1=round(t1,2)\n",
      "v=s/t1       #calculating velocity\n",
      "\n",
      "#Result\n",
      "print\"Velocity in m/sec = \",round(v,2),\"m/s\""
     ],
     "language": "python",
     "metadata": {},
     "outputs": [
      {
       "output_type": "stream",
       "stream": "stdout",
       "text": [
        "Velocity in m/sec =  333.33 m/s\n"
       ]
      }
     ],
     "prompt_number": 4
    },
    {
     "cell_type": "heading",
     "level": 2,
     "metadata": {},
     "source": [
      "Example no:1.6,Page no:13"
     ]
    },
    {
     "cell_type": "code",
     "collapsed": false,
     "input": [
      "  \n",
      "\n",
      "#Variable declaration\n",
      "l1=1.5    #wavelength in m\n",
      "l2=2    #wavelength in m\n",
      "v1=120   #velocity in m/sec\n",
      "\n",
      "#Calculation\n",
      "n=v1/l1     #calculating frequency\n",
      "v2=n*l2    #calculating velocity\n",
      "\n",
      "#Result\n",
      "print\"Velocity in m/sec = \",v2,\"m/sec\"   "
     ],
     "language": "python",
     "metadata": {},
     "outputs": [
      {
       "output_type": "stream",
       "stream": "stdout",
       "text": [
        "Velocity in m/sec =  160.0 m/sec\n"
       ]
      }
     ],
     "prompt_number": 16
    },
    {
     "cell_type": "heading",
     "level": 2,
     "metadata": {},
     "source": [
      "Example no:1.7,Page no:14"
     ]
    },
    {
     "cell_type": "code",
     "collapsed": false,
     "input": [
      "  \n",
      "\n",
      "#Variable declaration\n",
      "l=5641*10**-10    #wavelength in m\n",
      "c=3*10**8         #velocity in m/sec\n",
      "u=1.58        #refractive index of glass\n",
      "\n",
      "#Calculation\n",
      "n=c/l          #calculating frequency\n",
      "cg=c/u         #calculating velocity of light in glass\n",
      "l1=cg/n       #calculating wavelegth in glass\n",
      "\n",
      "#Result\n",
      "print\"Wavelength in glass in Angstrom =\",l1*10**10,\"Angstrom\"   \n",
      "print\"\\n\\nNOTE:Calculation ambiguity in book,value of cg is taken as 1.9*10**8 ,Therefore final answer is changed\""
     ],
     "language": "python",
     "metadata": {},
     "outputs": [
      {
       "output_type": "stream",
       "stream": "stdout",
       "text": [
        "Wavelength in glass in Angstrom = 3570.25316456 Angstrom\n",
        "\n",
        "\n",
        "NOTE:Calculation ambiguity in book,value of cg is taken as 1.9*10**8 ,Therefore final answer is changed\n"
       ]
      }
     ],
     "prompt_number": 4
    },
    {
     "cell_type": "heading",
     "level": 2,
     "metadata": {},
     "source": [
      "Example no:1.8,Page no:15"
     ]
    },
    {
     "cell_type": "code",
     "collapsed": false,
     "input": [
      "  \n",
      "\n",
      "#Variable declaration\n",
      "n=12*10**6         #frequency in Hz\n",
      "v=3*10**8         #velocity in m/sec\n",
      "\n",
      "#Calculation\n",
      "l=v/n            #calculating wavelength\n",
      "\n",
      "#Result\n",
      "print\"Wavelength in m = \",l,\"m\"   "
     ],
     "language": "python",
     "metadata": {},
     "outputs": [
      {
       "output_type": "stream",
       "stream": "stdout",
       "text": [
        "Wavelength in m =  25 m\n"
       ]
      }
     ],
     "prompt_number": 18
    },
    {
     "cell_type": "heading",
     "level": 2,
     "metadata": {},
     "source": [
      "Example no:1.9,Page no:15"
     ]
    },
    {
     "cell_type": "code",
     "collapsed": false,
     "input": [
      " \n",
      "\n",
      "#Variable declaration\n",
      "n=400        #frequency in Hz\n",
      "v=300.0      #velocity in m/sec\n",
      "\n",
      "#Calculation\n",
      "l=v/n            #calculating wavelength\n",
      "\n",
      "#Result\n",
      "print\"Wavelength=\",l,\"m\"   "
     ],
     "language": "python",
     "metadata": {},
     "outputs": [
      {
       "output_type": "stream",
       "stream": "stdout",
       "text": [
        "Wavelength= 0.75 m\n"
       ]
      }
     ],
     "prompt_number": 1
    },
    {
     "cell_type": "heading",
     "level": 2,
     "metadata": {},
     "source": [
      "Example no:1.10,Page no:22"
     ]
    },
    {
     "cell_type": "code",
     "collapsed": false,
     "input": [
      "\n",
      "import math  \n",
      "\n",
      "#Variable declaration\n",
      "a=20       #amplitude in cm\n",
      "n=6       #frequency per second\n",
      "\n",
      "#Calculation\n",
      "w=2*(math.pi)*n    #omega in radians/sec\n",
      "\n",
      "#Result\n",
      "print\"Omega in radians/sec = \",round(w,1),\"rad/sec\"    \n",
      "print\"y=\",a,\"sin\",round(w,1),\"t\""
     ],
     "language": "python",
     "metadata": {},
     "outputs": [
      {
       "output_type": "stream",
       "stream": "stdout",
       "text": [
        "Omega in radians/sec =  37.7 rad/sec\n",
        "y= 20 sin 37.7 t\n"
       ]
      }
     ],
     "prompt_number": 7
    },
    {
     "cell_type": "heading",
     "level": 2,
     "metadata": {},
     "source": [
      "Example no:1.11,Page no:23"
     ]
    },
    {
     "cell_type": "code",
     "collapsed": false,
     "input": [
      "  \n",
      "\n",
      "#Variable declaration\n",
      "a=6      #amplitude in cm\n",
      "n=9      #frequency in Hz.\n",
      "\n",
      "#Calculation\n",
      "vmax=2*(math.pi)*n*6   #calculating velocity in cm/sec\n",
      "acc=-((18*(math.pi))**2)*6   #calculating acc. in m/sec square\n",
      "\n",
      "#Result\n",
      "print\"Maximum velocity in cm/sec = \",round(vmax,2),\"cm/sec\"   \n",
      "print\"Velocity at extreme position = 0\"    \n",
      "print\"Accelaration at mean position = 0\"   \n",
      "print\"Accelaration at extreme position  = \",round(acc,1),\"m/sec^2\"   \n",
      "print\"\\n\\nNOTE:Calculation mistake in book\""
     ],
     "language": "python",
     "metadata": {},
     "outputs": [
      {
       "output_type": "stream",
       "stream": "stdout",
       "text": [
        "Maximum velocity in cm/sec =  339.29 cm/sec\n",
        "Velocity at extreme position = 0\n",
        "Accelaration at mean position = 0\n",
        "Accelaration at extreme position  =  -19186.5 m/sec^2\n",
        "\n",
        "\n",
        "NOTE:Calculation mistake in book\n"
       ]
      }
     ],
     "prompt_number": 8
    },
    {
     "cell_type": "heading",
     "level": 2,
     "metadata": {},
     "source": [
      "Example no:1.12,Page no:26"
     ]
    },
    {
     "cell_type": "code",
     "collapsed": false,
     "input": [
      "\n",
      "\n",
      "#Variable declaration\n",
      "g=9.8    #gravitational constant\n",
      "m=50    #mass in kg\n",
      "l=0.2    #length in m\n",
      "T=0.6     #time period\n",
      "\n",
      "#Calculation\n",
      "k=(m*g)/l    #calculating constant\n",
      "m=2450*((T/(2*(math.pi)))**2)   #calcualting mass using given time period\n",
      "\n",
      "#Result\n",
      "print\"Mass of body= \",round(m,2),\"kg\"  \n",
      "print\"Weight of suspended body=\",round(m,2)*g,\"N\""
     ],
     "language": "python",
     "metadata": {},
     "outputs": [
      {
       "output_type": "stream",
       "stream": "stdout",
       "text": [
        "Mass of body=  22.34 kg\n",
        "Weight of suspended body= 218.932 N\n"
       ]
      }
     ],
     "prompt_number": 12
    }
   ],
   "metadata": {}
  }
 ]
}