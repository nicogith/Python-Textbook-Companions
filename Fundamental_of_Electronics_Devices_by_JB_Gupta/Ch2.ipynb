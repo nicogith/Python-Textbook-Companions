{
 "metadata": {
  "name": ""
 },
 "nbformat": 3,
 "nbformat_minor": 0,
 "worksheets": [
  {
   "cells": [
    {
     "cell_type": "heading",
     "level": 1,
     "metadata": {},
     "source": [
      "Chapter2 : Energy Bands and Charge Carriers in semiconductor"
     ]
    },
    {
     "cell_type": "heading",
     "level": 3,
     "metadata": {},
     "source": [
      "Example 2.1 Page No.58"
     ]
    },
    {
     "cell_type": "code",
     "collapsed": false,
     "input": [
      "\n",
      "dE1=0.1             #eV\n",
      "dE2=-0.1           #eV\n",
      "k=8.61*10**-5     #Boltzman constant\n",
      "T=300             #K\n",
      "\n",
      "import math\n",
      "FE1=1/(1+math.exp(dE1/(k*T)))\n",
      "FE2=1/(1+math.exp(dE2/(k*T)))\n",
      "\n",
      "print\"Probability when the energy of the state is above 0.1 eV\",round(FE1,2)\n",
      "print\"Probability when the energy of the state is below 0.1 eV\",round(FE2,2)"
     ],
     "language": "python",
     "metadata": {},
     "outputs": [
      {
       "output_type": "stream",
       "stream": "stdout",
       "text": [
        "Probability when the energy of the state is above 0.1 eV 0.02\n",
        "Probability when the energy of the state is below 0.1 eV 0.98\n"
       ]
      }
     ],
     "prompt_number": 9
    },
    {
     "cell_type": "heading",
     "level": 3,
     "metadata": {},
     "source": [
      "Example 2.2 Page No. 58"
     ]
    },
    {
     "cell_type": "code",
     "collapsed": false,
     "input": [
      "\n",
      "Ef=6.25         #EV  fermi energy level\n",
      "dE=-0.30        #eV\n",
      "k=8.61*10**-5    #Boltzman constant\n",
      "fE=0.99\n",
      "\n",
      "T=(dE)/(k*math.log(1/fE-1))\n",
      "\n",
      "print\"The Temprature is\",round(T,1),\"K\" "
     ],
     "language": "python",
     "metadata": {},
     "outputs": [
      {
       "output_type": "stream",
       "stream": "stdout",
       "text": [
        "The Temprature is 758.3 K\n"
       ]
      }
     ],
     "prompt_number": 2
    },
    {
     "cell_type": "heading",
     "level": 3,
     "metadata": {},
     "source": [
      "Example 2.3 Page No. 64"
     ]
    },
    {
     "cell_type": "code",
     "collapsed": false,
     "input": [
      "\n",
      "Eg=0.72            #eV\n",
      "Ef=0.5*Eg\n",
      "dE=Eg-Ef           #eV\n",
      "k=8.61*10**-5     #Boltzman constant\n",
      "T=300             #K\n",
      "\n",
      "import math\n",
      "N=1/(1+math.exp(dE/(k*T)))\n",
      "\n",
      "\n",
      "print\"the fraction of total no. of electron is \",round(N,9)"
     ],
     "language": "python",
     "metadata": {},
     "outputs": [
      {
       "output_type": "stream",
       "stream": "stdout",
       "text": [
        "the fraction of total no. of electron is  8.85e-07\n"
       ]
      }
     ],
     "prompt_number": 1
    },
    {
     "cell_type": "heading",
     "level": 3,
     "metadata": {},
     "source": [
      "Example 2.4 Page No. 64"
     ]
    },
    {
     "cell_type": "code",
     "collapsed": false,
     "input": [
      "\n",
      "E=300*1.602*10**-19            #eV Energy\n",
      "m=9.108*10**-31                #kg, mass of electron\n",
      "h=6.626*10**-34                #Planck constant\n",
      "\n",
      "v=math.sqrt(2*E/m)\n",
      "lam=h*v/E\n",
      "\n",
      "print\"The wavwlength is\",round(lam*10**10,3),\"A\"\n",
      "\n",
      "\n"
     ],
     "language": "python",
     "metadata": {},
     "outputs": [
      {
       "output_type": "stream",
       "stream": "stdout",
       "text": [
        "The wavwlength is 1.416 A\n"
       ]
      }
     ],
     "prompt_number": 22
    },
    {
     "cell_type": "heading",
     "level": 3,
     "metadata": {},
     "source": [
      "Example 2.5 Page No. 70"
     ]
    },
    {
     "cell_type": "code",
     "collapsed": false,
     "input": [
      "\n",
      "ni=1.4*10**18\t\t\t#in atoms/m**3\n",
      "Nd=1.4*10**24\t\t\t#in atoms/m**3\n",
      "n=Nd\t\t\t\t#in atoms/m**3\n",
      "\n",
      "p=ni**2/n\t\t\t#in atoms/m**3\n",
      "ratio=n/p\t\t\t#unitless\n",
      "\n",
      "print\"Ratio of electron to hole concentration : \",round(ratio,2)"
     ],
     "language": "python",
     "metadata": {},
     "outputs": [
      {
       "output_type": "stream",
       "stream": "stdout",
       "text": [
        "Ratio of electron to hole concentration :  1e+12\n"
       ]
      }
     ],
     "prompt_number": 25
    },
    {
     "cell_type": "heading",
     "level": 3,
     "metadata": {},
     "source": [
      "Example 2.7 Page no 74"
     ]
    },
    {
     "cell_type": "code",
     "collapsed": false,
     "input": [
      "\n",
      "n=10**24          #Electron density\n",
      "e=1.6*10**-19     #Electron charge\n",
      "v=0.015           #m/s drift velocity\n",
      "A=10**-4            #m**2 area\n",
      "\n",
      "I=n*e*v/A\n",
      "\n",
      "print\"The magnitude of current is\",round(I/10**8,2),\"A\""
     ],
     "language": "python",
     "metadata": {},
     "outputs": [
      {
       "output_type": "stream",
       "stream": "stdout",
       "text": [
        "The magnitude of current is 0.24 A\n"
       ]
      }
     ],
     "prompt_number": 35
    },
    {
     "cell_type": "heading",
     "level": 3,
     "metadata": {},
     "source": [
      "Example 2.8 Page No. 74"
     ]
    },
    {
     "cell_type": "code",
     "collapsed": false,
     "input": [
      "\n",
      "Ef=5.5\t\t\t#in eV\n",
      "MUe=7.04*10**-3\t\t#in m**2/V-s\n",
      "n=5.8*10**28\t\t#in m**-3\n",
      "e=1.6*10**-19\t\t#constant\n",
      "m=9.1*10**-31\t\t#in Kg\n",
      "\n",
      "import math\n",
      "tau=MUe*m/e\t\t#in sec\n",
      "rho=1/(n*e*MUe)\t\t#in ohm-m\n",
      "vF=math.sqrt(2*Ef*1.6*10**-19/m)\n",
      "\n",
      "print\"Relaxation time in sec : \",tau,\"s\"\n",
      "print\"Resistivity of conductor in ohm-m : \",round(rho,11),\"ohm m\"\n",
      "print\"velocity of electron with fermi energy is \",round(vF,0),\"m/s\""
     ],
     "language": "python",
     "metadata": {},
     "outputs": [
      {
       "output_type": "stream",
       "stream": "stdout",
       "text": [
        "Relaxation time in sec :  4.004e-14 s\n",
        "Resistivity of conductor in ohm-m :  1.531e-08 ohm m\n",
        "velocity of electron with fermi energy is  1390707.0 m/s\n"
       ]
      }
     ],
     "prompt_number": 32
    },
    {
     "cell_type": "heading",
     "level": 3,
     "metadata": {},
     "source": [
      "Example 2.9 Page No. 75"
     ]
    },
    {
     "cell_type": "code",
     "collapsed": false,
     "input": [
      "\n",
      "rho=1.73*10**-8       #resistivity\n",
      "Tav=2.42*10**-14      #Average Time\n",
      "e=1.6*10**-19\t\t#constant\n",
      "m=9.1*10**-31\t\t#in Kg\n",
      "\n",
      "n=m/(e**2*Tav*rho)\n",
      "mu=(e*Tav)/m\n",
      "\n",
      "print\"NO. of free electrons are\",round(n,-26)\n",
      "print\"mobility of  electrons is\",round(mu,3),\"m**2/Vs\"\n",
      "\n"
     ],
     "language": "python",
     "metadata": {},
     "outputs": [
      {
       "output_type": "stream",
       "stream": "stdout",
       "text": [
        "NO. of free electrons are 8.49e+28\n",
        "mobility of  electrons is 0.004 m**2/Vs\n"
       ]
      }
     ],
     "prompt_number": 51
    },
    {
     "cell_type": "heading",
     "level": 3,
     "metadata": {},
     "source": [
      "Example 2.10 page No. 75"
     ]
    },
    {
     "cell_type": "code",
     "collapsed": false,
     "input": [
      "\n",
      "Ef=100\t\t\t#in V/m Applied electric field\n",
      "n=6*10**28\t\t#in m**-3\n",
      "e=1.6*10**-19\t\t#constant electronic charge\n",
      "m=9.1*10**-31\t\t#in Kg  mass of electron\n",
      "rho=1.5*10**-8      #Density\n",
      "\n",
      "import math\n",
      "tau=m/(n*e**2*rho)\t\t#in sec\n",
      "vF=e*Ef*tau/m\n",
      "\n",
      "print\"Relaxation time in sec : \",round(tau,16),\"s\"\n",
      "print\"velocity of electron with fermi energy is \",round(vF,1),\"m/s\"\n"
     ],
     "language": "python",
     "metadata": {},
     "outputs": [
      {
       "output_type": "stream",
       "stream": "stdout",
       "text": [
        "Relaxation time in sec :  3.95e-14 s\n",
        "velocity of electron with fermi energy is  0.7 m/s\n"
       ]
      }
     ],
     "prompt_number": 57
    },
    {
     "cell_type": "heading",
     "level": 3,
     "metadata": {},
     "source": [
      "Example 2.11 Page No.75"
     ]
    },
    {
     "cell_type": "code",
     "collapsed": false,
     "input": [
      "\n",
      "d=0.002             #m, diameter of pipe\n",
      "s=5.8*10**7         #Conductivity S/m\n",
      "mu=0.0032            #m**2/Vs, Electron mobility\n",
      "e=1.6*10**-19\t\t#constant electronic charge\n",
      "m=9.1*10**-31\t\t#in Kg  mass of electron\n",
      "E=0.02               #V/m Electric field\n",
      "\n",
      "import math\n",
      "n=s/(e*mu)\n",
      "J=s*E\n",
      "I=J*(math.pi*d**2/4.0)\n",
      "v=mu*E\n",
      "\n",
      "print\"Charge density is\",round(n,-26),\"m**-3\"\n",
      "print\"current density is\",round(J,6),\"A/m**2\"\n",
      "print\"curret flowing is\",round(I,3),\"A\"\n",
      "print\"electron drift velocityis\",round(v,6),\"m/s\""
     ],
     "language": "python",
     "metadata": {},
     "outputs": [
      {
       "output_type": "stream",
       "stream": "stdout",
       "text": [
        "Charge density is 1.133e+29 m**-3\n",
        "current density is 1160000.0 A/m**2\n",
        "curret flowing is 3.644 A\n",
        "electron drift velocityis 6.4e-05 m/s\n"
       ]
      }
     ],
     "prompt_number": 69
    },
    {
     "cell_type": "heading",
     "level": 3,
     "metadata": {},
     "source": [
      "Example 2.12 page no 76"
     ]
    },
    {
     "cell_type": "code",
     "collapsed": false,
     "input": [
      "\n",
      "rho=0.5        #ohm-m Resistivity\n",
      "J=100          #A/m**2 Current density\n",
      "mue=0.4        #m**2/Vs Electron mobility\n",
      "d=10*10**-6    #m distance\n",
      "\n",
      "Ve=mue*J*rho\n",
      "t=d/Ve\n",
      "\n",
      "print\"The drift velocity is \",Ve,\"m/s\"\n",
      "print\"Time taken by the electron is\",round(t,8),\"s\""
     ],
     "language": "python",
     "metadata": {},
     "outputs": [
      {
       "output_type": "stream",
       "stream": "stdout",
       "text": [
        "The drift velocity is  20.0 m/s\n",
        "Time taken by the electron is 5e-07 s\n"
       ]
      }
     ],
     "prompt_number": 156
    },
    {
     "cell_type": "heading",
     "level": 3,
     "metadata": {},
     "source": [
      "Example 2.13 Page No.76"
     ]
    },
    {
     "cell_type": "code",
     "collapsed": false,
     "input": [
      "\n",
      "e=1.6*10**-19\t\t#constant electronic charge\n",
      "m=9.1*10**-31\t\t#in Kg  mass of electron\n",
      "rho=0.039             #ohm-cm resistivity\n",
      "mu=3600               #cm**2/Vs  Carrier mobility\n",
      "ni=2.5*10**13\n",
      "\n",
      "Nd=(1/(rho*e*mu))\n",
      "n=Nd\n",
      "p=(ni**2/n)\n",
      "\n",
      "print\"Concentration of electron is\",round(n,-14),\"/cm**3\"\n",
      "print\"Concentration of holes is\",round(p,0),\"/cm**3\"\n"
     ],
     "language": "python",
     "metadata": {},
     "outputs": [
      {
       "output_type": "stream",
       "stream": "stdout",
       "text": [
        "Concentration of electron is 4.45e+16 /cm**3\n",
        "Concentration of holes is 14040000000.0 /cm**3\n"
       ]
      }
     ],
     "prompt_number": 76
    },
    {
     "cell_type": "heading",
     "level": 3,
     "metadata": {},
     "source": [
      "Example 2.14 page No 76"
     ]
    },
    {
     "cell_type": "code",
     "collapsed": false,
     "input": [
      "\n",
      "rho=5.32              #kg/m**3, density\n",
      "Aw=72.6               #kg/K kmol atomic weight\n",
      "ni=2.5*10**13\n",
      "di=10**8              #Donor impurity\n",
      "e=1.6*10**-19         #Electronic charge\n",
      "mue=0.38              #m**/Vs\n",
      "muh=0.18               #m**/Vs\n",
      "\n",
      "N=6.023*10**23*rho/Aw       #No 0f germanium atoms per cm**3\n",
      "Nd=N/di\n",
      "n=Nd\n",
      "p=(ni**2/n)\n",
      "s=n*e*mue*10**4\n",
      "\n",
      "print\"Concentration of electrons is\",round(n,-12),\"atoms/cm**3\"\n",
      "print\"Concentration of holes is\",round(p,-10),\"atoms/cm**3\"\n",
      "\n",
      "if n > p:\n",
      "    \n",
      "    print\"Conductivity of N-type germanium\",round(s*100,1),\"/ohm-m\" \n",
      "else:\n",
      "    print \"Calculate p-type germanium conductivity\"\n",
      "\n",
      "\n",
      "\n"
     ],
     "language": "python",
     "metadata": {},
     "outputs": [
      {
       "output_type": "stream",
       "stream": "stdout",
       "text": [
        "Concentration of electrons is 4.41e+14 atoms/cm**3\n",
        "Concentration of holes is 1.42e+12 atoms/cm**3\n",
        "Conductivity of N-type germanium 26.8 /ohm-m\n"
       ]
      }
     ],
     "prompt_number": 4
    },
    {
     "cell_type": "heading",
     "level": 3,
     "metadata": {},
     "source": [
      "Example 2.15 Page no.79"
     ]
    },
    {
     "cell_type": "code",
     "collapsed": false,
     "input": [
      "\n",
      "e=1.6*10**-19         #Electronic charge\n",
      "mue=0.39              #m**/Vs\n",
      "muh=0.19               #m**/Vs\n",
      "rhoi=0.47              #ohm-m, intrinsic resistivity\n",
      "E=10**4                #Electric field\n",
      "\n",
      "sigmai=1/rhoi\n",
      "ni=sigmai/(e*(mue+muh))\n",
      "Vn=mue*E\n",
      "Vh=muh*E\n",
      "\n",
      "print\"Density of electrons is\",round(ni,-17),\"/m**3\"\n",
      "print\"Drift velocity for electrons\",round(Vn,0),\"m/s\"\n",
      "print\"Drift velocity for holes\",round(Vh,0),\"m/s\""
     ],
     "language": "python",
     "metadata": {},
     "outputs": [
      {
       "output_type": "stream",
       "stream": "stdout",
       "text": [
        "Density of electrons is 2.29e+19 /m**3\n",
        "Drift velocity for electrons 3900.0 m/s\n",
        "Drift velocity for holes 1900.0 m/s\n"
       ]
      }
     ],
     "prompt_number": 5
    },
    {
     "cell_type": "heading",
     "level": 3,
     "metadata": {},
     "source": [
      "Example 2.16 page No.80"
     ]
    },
    {
     "cell_type": "code",
     "collapsed": false,
     "input": [
      "\n",
      "i=10**7            #IMpurity in Ge atom\n",
      "ni=2.5*10**13      #/cm**3\n",
      "N=4.4*10**22       #No. of atoms of Ge\n",
      "mue=3800            #cm**2/Vs\n",
      "muh=1800            #cm**2/Vs\n",
      "e=1.6*10**-19       #Electronic charge\n",
      "E=400               #Electric field\n",
      "\n",
      "sigmai=ni*e*(mue+muh)\n",
      "Nd=N/i\n",
      "n=Nd\n",
      "p=ni**2/(Nd)\n",
      "sigman=e*Nd*mue\n",
      "\n",
      "print\"Intrinsic conductivity of Ge is \",sigmai,\"ohm-cm**-1\"\n",
      "print\"Conductivity of N type Ge semiconductor is\",round(sigman,2),\"ohm-cm**-1\"\n"
     ],
     "language": "python",
     "metadata": {},
     "outputs": [
      {
       "output_type": "stream",
       "stream": "stdout",
       "text": [
        "Intrinsic conductivity of Ge is  0.0224 ohm-cm**-1\n",
        "Conductivity of N type Ge semiconductor is 2.68 ohm-cm**-1\n"
       ]
      }
     ],
     "prompt_number": 10
    },
    {
     "cell_type": "heading",
     "level": 3,
     "metadata": {},
     "source": [
      "Example 2.17 Page No. 80"
     ]
    },
    {
     "cell_type": "code",
     "collapsed": false,
     "input": [
      "\n",
      "V=10              #Volt\n",
      "l=0.025           #m, length\n",
      "w=0.004           #m width\n",
      "t=0.0015         #m thickness\n",
      "\n",
      "ni=2.5*10**19      #/cm**3\n",
      "mue=0.38               #m**2/Vs\n",
      "muh=0.18               #m**2/Vs\n",
      "e=1.6*10**-19           #Electronic charge\n",
      "E=400              #Electric field\n",
      "\n",
      "E=V/l\n",
      "Ve=mue*E\n",
      "Vh=muh*E\n",
      "sigmai=ni*e*(mue+muh)\n",
      "I=sigmai*E*w*t\n",
      "\n",
      "print\"(i)Electron drift velocity is \",Ve,\"m/s\"\n",
      "print\"   hole drift velocity is \",Vh,\"m/s\"\n",
      "print\"(ii)Intrinsic Conductivity of Ge is\",sigmai,\"ohm-m**-1\"\n",
      "print\"(iii)The total current is \",I*1000,\"mA\""
     ],
     "language": "python",
     "metadata": {},
     "outputs": [
      {
       "output_type": "stream",
       "stream": "stdout",
       "text": [
        "(i)Electron drift velocity is  152.0 m/s\n",
        "   hole drift velocity is  72.0 m/s\n",
        "(ii)Intrinsic Conductivity of Ge is 2.24 ohm-m**-1\n",
        "(iii)The total current is  5.376 mA\n"
       ]
      }
     ],
     "prompt_number": 8
    },
    {
     "cell_type": "heading",
     "level": 3,
     "metadata": {},
     "source": [
      "Example 2.18 page no.80"
     ]
    },
    {
     "cell_type": "code",
     "collapsed": false,
     "input": [
      "\n",
      "Ie=3/4.0           #Current due to electron\n",
      "Ih=1-Ie            #Current due to holes\n",
      "Vh=1               #Hole velocity\n",
      "Ve=3                #Electron velocity 3 times the hole velocity\n",
      "\n",
      "R=(Ie*Vh/(Ih*Ve))\n",
      "\n",
      "print\"The ratio of electrons to holes drift velocity is \",R"
     ],
     "language": "python",
     "metadata": {},
     "outputs": [
      {
       "output_type": "stream",
       "stream": "stdout",
       "text": [
        "The ratio of electrons to holes drift velocity is  1.0\n"
       ]
      }
     ],
     "prompt_number": 11
    },
    {
     "cell_type": "heading",
     "level": 3,
     "metadata": {},
     "source": [
      "Example 2.19 Page No.81"
     ]
    },
    {
     "cell_type": "code",
     "collapsed": false,
     "input": [
      "\n",
      "e=1.6*10**-19\t\t\t#in coulamb\n",
      "T=300\t\t\t\t#in Kelvin\n",
      "MUh=0.025\t\t\t#in m**2/V-s\n",
      "MUe=0.17\t\t\t#in m**2/V-s\n",
      "k=1.38*10**-23\t\t\t#in J/K\n",
      "De=MUe*k*T/e\t\t\t#in cm**2/s\n",
      "Dh=MUh*k*T/e\t\t\t#in cm**2/s\n",
      "\n",
      "print\"Diffusion constant of electron is \",round(De*10000,2),\"(in cm**2/s)\"\n",
      "print\"Diffusion constant of hole is \",round(Dh*10000,2),\"(in cm**2/s)\""
     ],
     "language": "python",
     "metadata": {},
     "outputs": [
      {
       "output_type": "stream",
       "stream": "stdout",
       "text": [
        "Diffusion constant of electron is  43.99 (in cm**2/s)\n",
        "Diffusion constant of hole is  6.47 (in cm**2/s)\n"
       ]
      }
     ],
     "prompt_number": 17
    },
    {
     "cell_type": "heading",
     "level": 3,
     "metadata": {},
     "source": [
      "Example 2.20 Page no. 81                "
     ]
    },
    {
     "cell_type": "code",
     "collapsed": false,
     "input": [
      "\n",
      "N=3*10**25          #No of atoms\n",
      "e=1.6*10**-19\n",
      "Eg=1.1*e         #eV\n",
      "k=1.38*10**-23   #j/k  boltzman's constant\n",
      "T=300            #K\n",
      "mue=0.14\n",
      "muh=0.05\n",
      "\n",
      "ni=N*math.exp(-Eg/(2*k*T))\n",
      "sigma=ni*e*(mue+muh)\n",
      "\n",
      "print\"The intrinsic carries concentration is \",round(ni,-14),\"/m**3\"\n",
      "print\"The conductivity of Si is \",round(sigma,5),\"S/m\"\n"
     ],
     "language": "python",
     "metadata": {},
     "outputs": [
      {
       "output_type": "stream",
       "stream": "stdout",
       "text": [
        "The intrinsic carries concentration is  1.76e+16 /m**3\n",
        "The conductivity of Si is  0.00054 S/m\n"
       ]
      }
     ],
     "prompt_number": 40
    },
    {
     "cell_type": "heading",
     "level": 3,
     "metadata": {},
     "source": [
      "Example 2.21 Page No.84"
     ]
    },
    {
     "cell_type": "code",
     "collapsed": false,
     "input": [
      "\n",
      "a=1.5        #a=me/mo\n",
      "T=300     #K\n",
      "\n",
      "Nc=4.82*10**21*(a)**(1.5)*T**(1.5)\n",
      "\n",
      "print\"The effective density is\",round(Nc,-23),\"/m**3\""
     ],
     "language": "python",
     "metadata": {},
     "outputs": [
      {
       "output_type": "stream",
       "stream": "stdout",
       "text": [
        "The effective density is 4.6e+25 /m**3\n"
       ]
      }
     ],
     "prompt_number": 44
    },
    {
     "cell_type": "heading",
     "level": 3,
     "metadata": {},
     "source": [
      "Example 2.22 page no. 84"
     ]
    },
    {
     "cell_type": "code",
     "collapsed": false,
     "input": [
      "\n",
      "a=0.07          #a=me/mo\n",
      "b=0.4            #b=mh/mo\n",
      "T=300           #K\n",
      "Eg=0.7          #eV\n",
      "k=8.62*10**-5   # Boltzman constant\n",
      "\n",
      "import math\n",
      "ni=math.sqrt(2.33*10**43*(a*b)**(1.5)*T**3*math.exp(-Eg/(k*T)))\n",
      "\n",
      "print\"The intrinsic concentration of charge carrier is\",round(ni,-16),\"/m**3\"\n",
      "\n",
      "\n",
      "\n"
     ],
     "language": "python",
     "metadata": {},
     "outputs": [
      {
       "output_type": "stream",
       "stream": "stdout",
       "text": [
        "The intrinsic concentration of charge carrier is 2.27e+18 /m**3\n"
       ]
      }
     ],
     "prompt_number": 55
    },
    {
     "cell_type": "heading",
     "level": 3,
     "metadata": {},
     "source": [
      "Example 2.23 Page no. 85"
     ]
    },
    {
     "cell_type": "code",
     "collapsed": false,
     "input": [
      "\n",
      "C=5*10**28            #atom/m**3, concentration of Si atoms\n",
      "DL=2*10**8            #Doping level \n",
      "m=1\n",
      "me=m\n",
      "Nd=C/DL\n",
      "nc=Nd\n",
      "T=((nc/(4.82*10**21))*(m/me)**(1.5))**(2/3.0)\n",
      "\n",
      "print\"The absolute temprature is\",round(T,2),\"K\"\n",
      "\n"
     ],
     "language": "python",
     "metadata": {},
     "outputs": [
      {
       "output_type": "stream",
       "stream": "stdout",
       "text": [
        "The absolute temprature is 0.14 K\n"
       ]
      }
     ],
     "prompt_number": 61
    },
    {
     "cell_type": "heading",
     "level": 3,
     "metadata": {},
     "source": [
      "Example 2.24 Page No. 85"
     ]
    },
    {
     "cell_type": "code",
     "collapsed": false,
     "input": [
      "\n",
      "T1=300.0          #K temprature\n",
      "T2=400.0\n",
      "k=1.38*10**-23  #J/k\n",
      "m=1.25*9.107*10**-31\n",
      "h=6.625*10**-34\n",
      "dE=0.3           #eV\n",
      "k_=8.62*10**-5\n",
      "\n",
      "import math\n",
      "nc1=2*(2*math.pi*m*k*T1/(h**2))**(1.5)\n",
      "n1=nc1*math.exp(-(0.3/(k_*T1)))\n",
      "\n",
      "nc2=2*(2*math.pi*m*k*T2/(h**2))**(1.5)\n",
      "n2=nc2*math.exp(-(0.3/(k_*T2)))\n",
      "\n",
      "print\"The effective density at temprature 300 K is\",round(n1,-19),\"/m**3\"\n",
      "print\"The effective density at temprature 400 K is\",round(n2,-19),\"/m**3\"\n"
     ],
     "language": "python",
     "metadata": {},
     "outputs": [
      {
       "output_type": "stream",
       "stream": "stdout",
       "text": [
        "The effective density at temprature 300 K is 3.2e+20 /m**3\n",
        "The effective density at temprature 400 K is 8.98e+21 /m**3\n"
       ]
      }
     ],
     "prompt_number": 110
    },
    {
     "cell_type": "heading",
     "level": 3,
     "metadata": {},
     "source": [
      "Example 2.25 Page no.86"
     ]
    },
    {
     "cell_type": "code",
     "collapsed": false,
     "input": [
      "\n",
      "T=300.0\n",
      "k=8.62*10**-5  #J/k\n",
      "m=9.107*10**-31\n",
      "me=0.6*m\n",
      "mh=0.4*m\n",
      "\n",
      "\n",
      "dE=-3*k*T*math.log((me/mh)**(1))/4.0   #dE=Ef-Emidgap\n",
      "\n",
      "print\"The position of fermi level is\",round(dE,4),\"eV\"\n"
     ],
     "language": "python",
     "metadata": {},
     "outputs": [
      {
       "output_type": "stream",
       "stream": "stdout",
       "text": [
        "The position of fermi level is -0.0079 eV\n"
       ]
      }
     ],
     "prompt_number": 116
    },
    {
     "cell_type": "heading",
     "level": 3,
     "metadata": {},
     "source": [
      "Example 2.26 Page no 86"
     ]
    },
    {
     "cell_type": "code",
     "collapsed": false,
     "input": [
      "\n",
      "T=300.0\n",
      "Eg=0.72      #eV Energy gap\n",
      "k=8.62*10**-5  #J/k\n",
      "me=1\n",
      "mh=5.0\n",
      "\n",
      "import math\n",
      "dE=(Eg/2.0)-3*k*T*math.log(me/mh)/4.0 #dE=Ef-Emidgap\n",
      "\n",
      "print\"The position of fermi level is\",round(dE,4),\"eV\"\n"
     ],
     "language": "python",
     "metadata": {},
     "outputs": [
      {
       "output_type": "stream",
       "stream": "stdout",
       "text": [
        "The position of fermi level is 0.3912 eV\n"
       ]
      }
     ],
     "prompt_number": 131
    },
    {
     "cell_type": "heading",
     "level": 3,
     "metadata": {},
     "source": [
      "Example 2.27 Page no 87"
     ]
    },
    {
     "cell_type": "code",
     "collapsed": false,
     "input": [
      "\n",
      "T1=300.0\n",
      "T2=350\n",
      "Eg=0.24        #eV Energy gap\n",
      "\n",
      "import math\n",
      "dE=(T2/T1)*Eg\n",
      "\n",
      "print\"The position of fermi level is\",round(dE,4),\"eV\"\n"
     ],
     "language": "python",
     "metadata": {},
     "outputs": [
      {
       "output_type": "stream",
       "stream": "stdout",
       "text": [
        "The position of fermi level is 0.28 eV\n"
       ]
      }
     ],
     "prompt_number": 134
    },
    {
     "cell_type": "heading",
     "level": 3,
     "metadata": {},
     "source": [
      "Example 2.28 Page no.88"
     ]
    },
    {
     "cell_type": "code",
     "collapsed": false,
     "input": [
      "\n",
      "T1=300.0\n",
      "T2=400\n",
      "Eg=0.27        #eV Energy gap\n",
      "\n",
      "import math\n",
      "dE=(T2/T1)*Eg\n",
      "\n",
      "print\"The position of fermi level is\",round(dE,4),\"eV\"\n"
     ],
     "language": "python",
     "metadata": {},
     "outputs": [
      {
       "output_type": "stream",
       "stream": "stdout",
       "text": [
        "The position of fermi level is 0.36 eV\n"
       ]
      }
     ],
     "prompt_number": 133
    },
    {
     "cell_type": "heading",
     "level": 3,
     "metadata": {},
     "source": [
      "Example 2.29 page no.88"
     ]
    },
    {
     "cell_type": "code",
     "collapsed": false,
     "input": [
      "\n",
      "dE1=0.3        #eV Energy gap\n",
      "kT=0.026       #eV\n",
      "\n",
      "import math\n",
      "x=math.exp(-dE1/kT)    #x=Nd/nc\n",
      "y=5           #y=Nd2/Nd1\n",
      "dE2=-math.log(y)*kT+dE1\n",
      "\n",
      "print\"The position of fermi level is\",round(dE2,3),\"eV\"\n"
     ],
     "language": "python",
     "metadata": {},
     "outputs": [
      {
       "output_type": "stream",
       "stream": "stdout",
       "text": [
        "The position of fermi level is 0.258 eV\n"
       ]
      }
     ],
     "prompt_number": 137
    },
    {
     "cell_type": "heading",
     "level": 3,
     "metadata": {},
     "source": [
      "Example 2.30 Page no.89"
     ]
    },
    {
     "cell_type": "code",
     "collapsed": false,
     "input": [
      "\n",
      "dE1=0.39        #eV Energy gap\n",
      "kT=0.026        #eV\n",
      "\n",
      "import math\n",
      "x=math.exp(-dE1/kT)    #x=NA1/nV\n",
      "y=3           #y=NA2/NA1\n",
      "dE2=((dE1/kT)-math.log(y))*kT\n",
      "\n",
      "\n",
      "print\"The position of fermi level is\",round(dE2,2),\"eV\"\n"
     ],
     "language": "python",
     "metadata": {},
     "outputs": [
      {
       "output_type": "stream",
       "stream": "stdout",
       "text": [
        "The position of fermi level is 0.36 eV\n"
       ]
      }
     ],
     "prompt_number": 143
    },
    {
     "cell_type": "heading",
     "level": 3,
     "metadata": {},
     "source": [
      "Example 2.31 Page no.91"
     ]
    },
    {
     "cell_type": "code",
     "collapsed": false,
     "input": [
      "\n",
      "rho=1       #ohm-m Resistivity\n",
      "Rh=100.0       #cm**3/coulomb\n",
      "e=1.6*10**-19\n",
      "\n",
      "con=1/rho   #Conductivity\n",
      "R=1/Rh      #Charge density\n",
      "ED=R*10**6/e\n",
      "mu=con/(R*10**6)\n",
      "\n",
      "print\"The electron density is\",ED,\"/m**3\"\n",
      "print\"The mobility is %.e\"%mu,\"/m**3\""
     ],
     "language": "python",
     "metadata": {},
     "outputs": [
      {
       "output_type": "stream",
       "stream": "stdout",
       "text": [
        "The electron density is 6.25e+22 /m**3\n",
        "The mobility is 1e-04 /m**3\n"
       ]
      }
     ],
     "prompt_number": 9
    },
    {
     "cell_type": "heading",
     "level": 3,
     "metadata": {},
     "source": [
      "Example 2.32 Page no. 92"
     ]
    },
    {
     "cell_type": "code",
     "collapsed": false,
     "input": [
      "\n",
      "w=0.1      #m width\n",
      "t=0.01     #m thickness\n",
      "F=0.6       #T, field\n",
      "Rh=3.8*10**-4  #Hall Coefficient\n",
      "I=10        #mA\n",
      "\n",
      "Vh=(Rh*F*I/w)\n",
      "\n",
      "print\"Hall Voltage is\",Vh*1000,\"micro V\"\n",
      "\n",
      "\n"
     ],
     "language": "python",
     "metadata": {},
     "outputs": [
      {
       "output_type": "stream",
       "stream": "stdout",
       "text": [
        "Hall Voltage is 22.8 micro V\n"
       ]
      }
     ],
     "prompt_number": 146
    },
    {
     "cell_type": "heading",
     "level": 3,
     "metadata": {},
     "source": [
      "Example 2.33 Page No. 92"
     ]
    },
    {
     "cell_type": "code",
     "collapsed": false,
     "input": [
      "\n",
      "e=1.6*10**-19\t\t\t#in coulamb\n",
      "ND=10**17\t\t\t#in cm**-3\n",
      "Bz=0.1\t\t\t\t#in Wb/m**2\n",
      "w=4\t\t\t\t#in mm\n",
      "d=4\t\t\t\t#in mm\n",
      "Ex=5\t\t\t\t#in V/cm\n",
      "MUe=3800\t\t\t#in cm**2/V-s\n",
      "\n",
      "v=MUe*Ex\t\t\t#in cm/s\n",
      "v=v*10**-2\t\t\t#in m/s\n",
      "VH=Bz*v*d\t\t\t#in mV\n",
      "\n",
      "print\"Magnitude of hall voltage is\",VH,\"mV\""
     ],
     "language": "python",
     "metadata": {},
     "outputs": [
      {
       "output_type": "stream",
       "stream": "stdout",
       "text": [
        "Magnitude of hall voltage is 76.0 mV\n"
       ]
      }
     ],
     "prompt_number": 19
    },
    {
     "cell_type": "heading",
     "level": 3,
     "metadata": {},
     "source": [
      "Example 2.34 Page No.92"
     ]
    },
    {
     "cell_type": "code",
     "collapsed": false,
     "input": [
      "\n",
      "e=1.6*10**-19\t\t\t#in coulamb\n",
      "ND=10**21\t\t\t#in m**-3\n",
      "Bz=0.2\t\t\t\t#in T\n",
      "d=4\t\t\t\t#in mm\n",
      "d=d*10**-3\t\t\t#in meter\n",
      "J=600\t\t\t\t#in A/m**2\n",
      "n=ND\t\t\t\t#in m**-3\n",
      "\n",
      "VH=Bz*J*d/(n*e)\t\t\t#in V\n",
      "\n",
      "print\"Magnitude of hall voltage is \",VH*10**3,\"mV\""
     ],
     "language": "python",
     "metadata": {},
     "outputs": [
      {
       "output_type": "stream",
       "stream": "stdout",
       "text": [
        "Magnitude of hall voltage is  3.0 mV\n"
       ]
      }
     ],
     "prompt_number": 22
    },
    {
     "cell_type": "heading",
     "level": 3,
     "metadata": {},
     "source": [
      "Example 2.35 Page No."
     ]
    },
    {
     "cell_type": "code",
     "collapsed": false,
     "input": [
      "\n",
      "e=1.6*10**-19\t\t\t#in coulamb\n",
      "rho=0.00912\t\t\t#in ohm-m\n",
      "B=0.48\t\t\t\t#in Wb/m**2\n",
      "RH=3.55*10**-4\t\t\t#in m**3-coulamb**-1\n",
      "SIGMA=1/rho\t\t\t#in (ohm=m)**-1\n",
      "\n",
      "import math\n",
      "THETAh=math.atan(SIGMA*B*RH)\t#in Degree\n",
      "\n",
      "print\"Hall angle is\",round(THETAh*180/3.14,4),\"degree\""
     ],
     "language": "python",
     "metadata": {},
     "outputs": [
      {
       "output_type": "stream",
       "stream": "stdout",
       "text": [
        "Hall angle is 1.0709 degree\n"
       ]
      }
     ],
     "prompt_number": 169
    },
    {
     "cell_type": "code",
     "collapsed": false,
     "input": [],
     "language": "python",
     "metadata": {},
     "outputs": []
    }
   ],
   "metadata": {}
  }
 ]
}