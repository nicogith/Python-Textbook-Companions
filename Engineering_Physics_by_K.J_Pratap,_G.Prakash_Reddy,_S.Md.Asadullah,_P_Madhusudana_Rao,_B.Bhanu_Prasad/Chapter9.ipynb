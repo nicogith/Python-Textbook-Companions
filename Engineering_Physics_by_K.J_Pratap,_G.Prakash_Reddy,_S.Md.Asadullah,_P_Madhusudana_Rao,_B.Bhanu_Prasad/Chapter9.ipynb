{
 "cells": [
  {
   "cell_type": "markdown",
   "metadata": {},
   "source": [
    "#  Chapter 9 : Electromagnetic Theory "
   ]
  },
  {
   "cell_type": "markdown",
   "metadata": {},
   "source": [
    "## Example number 1 , Page number 141"
   ]
  },
  {
   "cell_type": "code",
   "execution_count": 1,
   "metadata": {
    "collapsed": false
   },
   "outputs": [
    {
     "name": "stdout",
     "output_type": "stream",
     "text": [
      "Amplitude of field E=  30.0 V/m\n"
     ]
    }
   ],
   "source": [
    "#importing module\n",
    "import math\n",
    "from __future__ import division\n",
    "\n",
    "#Variable declaration\n",
    "P=60                   #Power\n",
    "r=2                    #distance from source\n",
    "epsilon0=8.85*10**-12\n",
    "C=3*10**2\n",
    "\n",
    "#Calculations\n",
    "E0=math.sqrt((P*2)/(4*math.pi*r**2*C*epsilon0))/1000\n",
    "\n",
    "#Result\n",
    "print\"Amplitude of field E= \",round(E0),\"V/m\""
   ]
  },
  {
   "cell_type": "markdown",
   "metadata": {},
   "source": [
    "## Example number 2 , Page number 142"
   ]
  },
  {
   "cell_type": "code",
   "execution_count": 2,
   "metadata": {
    "collapsed": false
   },
   "outputs": [
    {
     "name": "stdout",
     "output_type": "stream",
     "text": [
      "Intensity of Beam= 4*10**2 W\n",
      "E0= 549 V/m\n",
      "B0= 1.83 myu-T\n"
     ]
    }
   ],
   "source": [
    "#importing module\n",
    "import math\n",
    "from __future__ import division\n",
    "\n",
    "#Variable declaration\n",
    "P=8*10**-4              #Power\n",
    "A=2*10**-6              #cross-sectional Area\n",
    "epsilon0=8.85*10**-12\n",
    "C=3*10**2\n",
    "\n",
    "#Calculations\n",
    "I=P/A/100\n",
    "E0=math.sqrt((2*I)/(C*epsilon0))/100\n",
    "B0=E0/C\n",
    "\n",
    "#Result\n",
    "print\"Intensity of Beam= %i*10**2 W\" %I\n",
    "print\"E0= %i\" %round(E0),\"V/m\"\n",
    "print\"B0= %1.2f\" %B0,\"myu-T\""
   ]
  },
  {
   "cell_type": "markdown",
   "metadata": {},
   "source": [
    "## Example number 3 , Page number 142"
   ]
  },
  {
   "cell_type": "code",
   "execution_count": 3,
   "metadata": {
    "collapsed": false
   },
   "outputs": [
    {
     "name": "stdout",
     "output_type": "stream",
     "text": [
      "Poynting vector S= 1.59*10**-4 W/m**2\n",
      "E0= 0.346 V/m\n",
      "B0= 11.5 *10**-10 T\n"
     ]
    }
   ],
   "source": [
    "#importing module\n",
    "import math\n",
    "from __future__ import division\n",
    "\n",
    "#Variable declaration\n",
    "E0=9*10**-12\n",
    "myu0=4*math.pi*10**-7\n",
    "r=10**4                  #radius of Hemisphere\n",
    "epsilon0=8.85*10**-12\n",
    "C=3*10**2\n",
    "P=10**5                   \n",
    "\n",
    "#Calculations\n",
    "S=P/(2*math.pi*r**2)/10**-4\n",
    "E0=math.sqrt((2*S)/(C*epsilon0))/10**5\n",
    "B0=E0/C/10**-4\n",
    "\n",
    "#Result\n",
    "print\"Poynting vector S= %1.2f*10**-4 W/m**2\" %S\n",
    "print\"E0= %0.3f V/m\" %E0\n",
    "print\"B0= %2.1f *10**-10 T\" %B0"
   ]
  },
  {
   "cell_type": "markdown",
   "metadata": {},
   "source": [
    "## Example number 4 , Page number 143"
   ]
  },
  {
   "cell_type": "code",
   "execution_count": 4,
   "metadata": {
    "collapsed": false
   },
   "outputs": [
    {
     "name": "stdout",
     "output_type": "stream",
     "text": [
      "Intensity of Electric field E= 86.58 V/m\n",
      "Intensity of Magnetic field H= 0.23 amp. turn/m\n"
     ]
    }
   ],
   "source": [
    "#importing module\n",
    "import math\n",
    "from __future__ import division\n",
    "\n",
    "#Variable declaration\n",
    "myu0=4*math.pi*10**-7\n",
    "r=2                         #radius of Hemisphere\n",
    "epsilon0=8.85*10**-12\n",
    "P0=1000                     #Power \n",
    "\n",
    "#Calculations\n",
    "E=((P0*math.sqrt(myu0/epsilon0))/(16*math.pi))**(1/2)\n",
    "H=P0/(16*math.pi*E)\n",
    "\n",
    "#Result\n",
    "print\"Intensity of Electric field E= %2.2f\" %E,\"V/m\"\n",
    "print\"Intensity of Magnetic field H= %1.2f\" %H,\"amp. turn/m\""
   ]
  },
  {
   "cell_type": "markdown",
   "metadata": {},
   "source": [
    "## Example number 6 , Page number 143"
   ]
  },
  {
   "cell_type": "code",
   "execution_count": 5,
   "metadata": {
    "collapsed": false
   },
   "outputs": [
    {
     "name": "stdout",
     "output_type": "stream",
     "text": [
      "Refractive index n= 9\n",
      "Velocity of light= 3.33*10**7 m/sec\n"
     ]
    }
   ],
   "source": [
    "#importing module\n",
    "import math\n",
    "from __future__ import division\n",
    "\n",
    "#Variable declaration\n",
    "E=81\n",
    "c=3*10**8             #speed of ligth\n",
    "\n",
    "#Calculations\n",
    "n=math.sqrt(E)\n",
    "V=c/n/10**7\n",
    "\n",
    "#Result\n",
    "print\"Refractive index n= %i\" %n\n",
    "print\"Velocity of light= %1.2f*10**7 m/sec\"  %V"
   ]
  }
 ],
 "metadata": {
  "kernelspec": {
   "display_name": "Python 2",
   "language": "python",
   "name": "python2"
  },
  "language_info": {
   "codemirror_mode": {
    "name": "ipython",
    "version": 2
   },
   "file_extension": ".py",
   "mimetype": "text/x-python",
   "name": "python",
   "nbconvert_exporter": "python",
   "pygments_lexer": "ipython2",
   "version": "2.7.3"
  }
 },
 "nbformat": 4,
 "nbformat_minor": 0
}
