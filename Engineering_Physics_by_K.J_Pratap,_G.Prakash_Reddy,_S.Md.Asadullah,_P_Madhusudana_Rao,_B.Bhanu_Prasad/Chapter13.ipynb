{
 "cells": [
  {
   "cell_type": "markdown",
   "metadata": {},
   "source": [
    "#  Chapter 13 : Thin Film Preparation Techniques and their Applications"
   ]
  },
  {
   "cell_type": "markdown",
   "metadata": {},
   "source": [
    "## Example number 1 , Page number 248"
   ]
  },
  {
   "cell_type": "code",
   "execution_count": 3,
   "metadata": {
    "collapsed": false
   },
   "outputs": [
    {
     "name": "stdout",
     "output_type": "stream",
     "text": [
      "Series Resistance = 500.0 V/m\n"
     ]
    }
   ],
   "source": [
    "#importing modules\n",
    "import math\n",
    "from __future__ import division\n",
    "\n",
    "#Variable declaration\n",
    "delV1=2*10**-3           #milivolts to volts         \n",
    "delI1=4*10**-6           #microAmpere to Ampere\n",
    "\n",
    "#Calculations\n",
    "Rs=delV1/delI1\n",
    "\n",
    "#Result\n",
    "print\"Series Resistance =\",Rs,\"V/m\""
   ]
  },
  {
   "cell_type": "markdown",
   "metadata": {},
   "source": [
    "## Example number 2 , Page number 248"
   ]
  },
  {
   "cell_type": "code",
   "execution_count": 4,
   "metadata": {
    "collapsed": false
   },
   "outputs": [
    {
     "name": "stdout",
     "output_type": "stream",
     "text": [
      "Change in conductivity = 5.0 *10**-3 Ohm**-1-cm**-1\n"
     ]
    }
   ],
   "source": [
    "#importing modules\n",
    "import math\n",
    "from __future__ import division\n",
    "\n",
    "#Variable declaration\n",
    "I=2*10**-3\n",
    "V=1\n",
    "\n",
    "#Calculations\n",
    "rho=(V/I)*2\n",
    "delR=rho-800  #change in resitance\n",
    "A=1/delR      #change in conductance\n",
    "\n",
    "#Result\n",
    "print\"Change in conductivity =\",round(A*10**3),\"*10**-3 Ohm**-1-cm**-1\""
   ]
  },
  {
   "cell_type": "markdown",
   "metadata": {},
   "source": [
    "## Example number 3 , Page number 248"
   ]
  },
  {
   "cell_type": "code",
   "execution_count": 5,
   "metadata": {
    "collapsed": false
   },
   "outputs": [
    {
     "name": "stdout",
     "output_type": "stream",
     "text": [
      "Fill factor = 0.42\n",
      "Percentage of efficieny = 15.0 %\n"
     ]
    }
   ],
   "source": [
    "#importing modules\n",
    "import math\n",
    "from __future__ import division\n",
    "\n",
    "#Variable declaration \n",
    "Pmax=21*10**-3        #maximum power output\n",
    "Isc=100*10**-3        #short circuit voltage\n",
    "Voc=500*10**-3        #open circuit voltage\n",
    "Pin=35*10**-3         #Power input\n",
    "A=4                   #area of solar cell\n",
    "\n",
    "#Calculations\n",
    "Fill_Factor=Pmax/(Isc*Voc)\n",
    "n=(Pmax/(Pin*A))*100\n",
    "\n",
    "#Result\n",
    "print\"Fill factor =\",round(Fill_Factor,2)\n",
    "print\"Percentage of efficieny =\",n,\"%\"    #TextBook has calculation error"
   ]
  },
  {
   "cell_type": "markdown",
   "metadata": {},
   "source": [
    "## Example number 4 , Page number 249"
   ]
  },
  {
   "cell_type": "code",
   "execution_count": 6,
   "metadata": {
    "collapsed": false
   },
   "outputs": [
    {
     "name": "stdout",
     "output_type": "stream",
     "text": [
      "Isc = 100.0 mA\n",
      "Percentage of efficieny = 17.14 %\n"
     ]
    }
   ],
   "source": [
    "#importing modules\n",
    "import math\n",
    "from __future__ import division\n",
    "\n",
    "#Variable declaration\n",
    "Pmax=18*10**-3        #maximum power output\n",
    "F=0.6               #fill factor\n",
    "Voc=300*10**-3        #open circuit voltage\n",
    "Pin=21*10**-3         #Power input\n",
    "A=5                   #area of solar cell\n",
    "\n",
    "#Calculations\n",
    "Isc=Pmax/(F*Voc)\n",
    "n=(Pmax/(Pin*A))*100\n",
    "\n",
    "#Result\n",
    "print\"Isc =\",Isc*1000,\"mA\"\n",
    "print\"Percentage of efficieny =\",round(n,2),\"%\"   "
   ]
  }
 ],
 "metadata": {
  "kernelspec": {
   "display_name": "Python 2",
   "language": "python",
   "name": "python2"
  },
  "language_info": {
   "codemirror_mode": {
    "name": "ipython",
    "version": 2
   },
   "file_extension": ".py",
   "mimetype": "text/x-python",
   "name": "python",
   "nbconvert_exporter": "python",
   "pygments_lexer": "ipython2",
   "version": "2.7.3"
  }
 },
 "nbformat": 4,
 "nbformat_minor": 0
}
