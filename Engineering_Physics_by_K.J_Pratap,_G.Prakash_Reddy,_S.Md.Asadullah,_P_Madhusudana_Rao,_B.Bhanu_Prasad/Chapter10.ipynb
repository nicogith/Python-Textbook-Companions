{
 "cells": [
  {
   "cell_type": "markdown",
   "metadata": {},
   "source": [
    "#  Chapter 10 : Crystallography and Crystal Imperfections"
   ]
  },
  {
   "cell_type": "markdown",
   "metadata": {},
   "source": [
    "## Example number 1 , Page number 178"
   ]
  },
  {
   "cell_type": "code",
   "execution_count": 1,
   "metadata": {
    "collapsed": false
   },
   "outputs": [
    {
     "name": "stdout",
     "output_type": "stream",
     "text": [
      "lattice parameter a= 4.075*10**-8 cm\n"
     ]
    }
   ],
   "source": [
    "#importing module\n",
    "import math\n",
    "from __future__ import division\n",
    "\n",
    "#Variable declaration\n",
    "rho=10.6              #density of material\n",
    "n=4                   #No. of atoms/cell\n",
    "A=108                 #Atomic weigth\n",
    "No=6.023*10**23       #Avagadro's No.\n",
    "\n",
    "#Calculations\n",
    "a=((n*A)/(No*rho))**(1/3)/10**-8\n",
    "\n",
    "#Result\n",
    "print\"lattice parameter a= %1.3f*10**-8 cm\"  %a"
   ]
  },
  {
   "cell_type": "markdown",
   "metadata": {},
   "source": [
    "## Example number 2 , Page number 179"
   ]
  },
  {
   "cell_type": "code",
   "execution_count": 2,
   "metadata": {
    "collapsed": false
   },
   "outputs": [
    {
     "name": "stdout",
     "output_type": "stream",
     "text": [
      "lattice parameter a= 2.87*10**-10 m\n"
     ]
    }
   ],
   "source": [
    "#importing module\n",
    "import math\n",
    "from __future__ import division\n",
    "\n",
    "#Variable declaration\n",
    "rho=7.86*10**3        #density of material\n",
    "n=2                   #No. of atoms/cell\n",
    "A=55.85               #Atomic weigth\n",
    "No=6.023*10**26       #Avagadro's No.\n",
    "\n",
    "#Calculations\n",
    "a=((n*A)/(No*rho))**(1/3)/10**-10\n",
    "\n",
    "#Result\n",
    "print\"lattice parameter a= %1.2f*10**-10 m\" %a"
   ]
  },
  {
   "cell_type": "markdown",
   "metadata": {},
   "source": [
    "## Example number 3 , Page number 179"
   ]
  },
  {
   "cell_type": "code",
   "execution_count": 3,
   "metadata": {
    "collapsed": false
   },
   "outputs": [
    {
     "name": "stdout",
     "output_type": "stream",
     "text": [
      "Distance between like atoms a= 5.628*10**-10 m\n",
      "Distance between adjacent atoms a/2= 2.81*10**-10 m\n"
     ]
    }
   ],
   "source": [
    "#importing module\n",
    "import math\n",
    "from __future__ import division\n",
    "\n",
    "#Variable declaration\n",
    "M=58.5                #formula weigth\n",
    "rho=2180              #density of material\n",
    "n=4                   #No. of atoms/cell              \n",
    "No=6.02*10**26        #Avagadro's No.\n",
    "\n",
    "#Calculations\n",
    "a=((n*M)/(No*rho))**(1/3)/10**-10/2\n",
    "\n",
    "#Result\n",
    "print\"Distance between like atoms a= %1.3f*10**-10 m\" %(2*a)\n",
    "print\"Distance between adjacent atoms a/2= %1.2f*10**-10 m\" %a"
   ]
  },
  {
   "cell_type": "markdown",
   "metadata": {},
   "source": [
    "## Example number 4 , Page number 179"
   ]
  },
  {
   "cell_type": "code",
   "execution_count": 4,
   "metadata": {
    "collapsed": false
   },
   "outputs": [
    {
     "name": "stdout",
     "output_type": "stream",
     "text": [
      "Lattice constant a= 5.64*10**-10 m\n"
     ]
    }
   ],
   "source": [
    "#importing module\n",
    "import math\n",
    "from __future__ import division\n",
    "\n",
    "#Variable declaration\n",
    "M=58.45               #formula weigth\n",
    "rho=2.17*10**3        #density of material\n",
    "n=4                   #No. of atoms/cell              \n",
    "No=6*10**26           #Avagadro's No.\n",
    "\n",
    "#Calculations\n",
    "a=((n*M)/(No*rho))**(1/3)/10**-10\n",
    "\n",
    "#Result\n",
    "print\"Lattice constant a= %1.2f*10**-10 m\" %a"
   ]
  },
  {
   "cell_type": "markdown",
   "metadata": {},
   "source": [
    "## Example number 5 , Page number 180"
   ]
  },
  {
   "cell_type": "code",
   "execution_count": 5,
   "metadata": {
    "collapsed": false
   },
   "outputs": [
    {
     "name": "stdout",
     "output_type": "stream",
     "text": [
      "Lattice constant a= 3.615 Armstrong\n"
     ]
    }
   ],
   "source": [
    "#importing module\n",
    "import math\n",
    "from __future__ import division\n",
    "\n",
    "#Variable declaration\n",
    "r=1.278               #atomic weigth              \n",
    "No=6.02*10**26        #Avagadro's No.\n",
    "\n",
    "#Calculations\n",
    "a=2*math.sqrt(2)*r\n",
    "\n",
    "#Result\n",
    "print\"Lattice constant a= %1.3f\" %a,\"Armstrong\""
   ]
  },
  {
   "cell_type": "markdown",
   "metadata": {},
   "source": [
    "## Example number 6 , Page number 180"
   ]
  },
  {
   "cell_type": "code",
   "execution_count": 9,
   "metadata": {
    "collapsed": false
   },
   "outputs": [
    {
     "name": "stdout",
     "output_type": "stream",
     "text": [
      "Density of the material= 8.94 gm/cc\n"
     ]
    }
   ],
   "source": [
    "#importing module\n",
    "import math\n",
    "from __future__ import division\n",
    "\n",
    "#Variable declaration\n",
    "r=1.278               #atomic weigth              \n",
    "N0=6.02*10**23        #Avagadro's No.\n",
    "no=4                  #No. of atoms/cell\n",
    "A=63.54               #Atomic weigth\n",
    "\n",
    "#Calculations\n",
    "a=2*math.sqrt(2)*r\n",
    "rho=(no*A)/(N0*a**3)/10**-24\n",
    "\n",
    "#Result\n",
    "print\"Density of the material= %1.2f\" %rho,\"gm/cc\""
   ]
  },
  {
   "cell_type": "markdown",
   "metadata": {},
   "source": [
    "## Example number 7 , Page number 180"
   ]
  },
  {
   "cell_type": "code",
   "execution_count": 7,
   "metadata": {
    "collapsed": false
   },
   "outputs": [
    {
     "name": "stdout",
     "output_type": "stream",
     "text": [
      "Miller indices are ( 3.0 , 2.0 , 2.0 )\n"
     ]
    }
   ],
   "source": [
    "#importing module\n",
    "import math\n",
    "from __future__ import division\n",
    "\n",
    "#Variable declaration\n",
    "x=2                    #x intercept  \n",
    "y=3                    #y intercept\n",
    "z=3                    #z intercept\n",
    "\n",
    "#Calculations          \n",
    "rx=(1/x)*6             #reciprocal of x intercept\n",
    "ry=(1/y)*6             #reciprocal of y intercept\n",
    "rz=(1/z)*6             #reciprocal of z intercept\n",
    "\n",
    "#Result\n",
    "print\"Miller indices are (\",rx,\",\",ry,\",\",rz,\")\""
   ]
  },
  {
   "cell_type": "markdown",
   "metadata": {},
   "source": [
    "## Example number 8 , Page number 181"
   ]
  },
  {
   "cell_type": "code",
   "execution_count": 8,
   "metadata": {
    "collapsed": false
   },
   "outputs": [
    {
     "name": "stdout",
     "output_type": "stream",
     "text": [
      "inter-planar spacing d= 1.05 Armstrong\n"
     ]
    }
   ],
   "source": [
    "#importing module\n",
    "import math\n",
    "from __future__ import division\n",
    "\n",
    "#Variable declaration\n",
    "h=1\n",
    "k=1\n",
    "l=2\n",
    "a=b=2.5\n",
    "c=2.6\n",
    "\n",
    "#Calculations          \n",
    "d=((h**2/a**2)+(k**2/b**2)+(l**2/c**2))**(-0.5)\n",
    "\n",
    "#Result\n",
    "print\"inter-planar spacing d= %1.2f\" %d,\"Armstrong\""
   ]
  }
 ],
 "metadata": {
  "kernelspec": {
   "display_name": "Python 2",
   "language": "python",
   "name": "python2"
  },
  "language_info": {
   "codemirror_mode": {
    "name": "ipython",
    "version": 2
   },
   "file_extension": ".py",
   "mimetype": "text/x-python",
   "name": "python",
   "nbconvert_exporter": "python",
   "pygments_lexer": "ipython2",
   "version": "2.7.3"
  }
 },
 "nbformat": 4,
 "nbformat_minor": 0
}
