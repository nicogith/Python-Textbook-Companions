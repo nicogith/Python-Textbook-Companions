{
 "cells": [
  {
   "cell_type": "markdown",
   "metadata": {},
   "source": [
    "#  Chapter 15 : Dielectric Material"
   ]
  },
  {
   "cell_type": "markdown",
   "metadata": {},
   "source": [
    "## Example number 1 , Page number 282"
   ]
  },
  {
   "cell_type": "code",
   "execution_count": 4,
   "metadata": {
    "collapsed": false
   },
   "outputs": [
    {
     "name": "stdout",
     "output_type": "stream",
     "text": [
      "Electric field strength = 3.529*10**7 V/m\n",
      "Total dipole moment = 33.5*10**-12 C-m\n"
     ]
    }
   ],
   "source": [
    "#importing modules\n",
    "import math\n",
    "from __future__ import division\n",
    "\n",
    "#Variable declaration\n",
    "V=15                    #potential difference\n",
    "C=6*10**-6              #Capacitance\n",
    "epsilon0=8.854*10**-12  #absloute permittivity\n",
    "epsilonr=8              #relative permittivity\n",
    "A=360*10**-4            #surface Area\n",
    "\n",
    "#Calculations\n",
    "E=(V*C)/(epsilon0*epsilonr*A)/10**7\n",
    "T=epsilon0*(epsilonr-1)*V*A/10**-12\n",
    "\n",
    "#Result\n",
    "print\"Electric field strength = %1.3f*10**7 V/m\" %E\n",
    "print\"Total dipole moment = %1.1f*10**-12 C-m\"  %T\n"
   ]
  }
 ],
 "metadata": {
  "kernelspec": {
   "display_name": "Python 2",
   "language": "python",
   "name": "python2"
  },
  "language_info": {
   "codemirror_mode": {
    "name": "ipython",
    "version": 2
   },
   "file_extension": ".py",
   "mimetype": "text/x-python",
   "name": "python",
   "nbconvert_exporter": "python",
   "pygments_lexer": "ipython2",
   "version": "2.7.3"
  }
 },
 "nbformat": 4,
 "nbformat_minor": 0
}
