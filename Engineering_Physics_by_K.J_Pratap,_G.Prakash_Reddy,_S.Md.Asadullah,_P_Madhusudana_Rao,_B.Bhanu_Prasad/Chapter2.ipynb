{
 "cells": [
  {
   "cell_type": "markdown",
   "metadata": {},
   "source": [
    "#  Chapter 2 : Diffraction"
   ]
  },
  {
   "cell_type": "markdown",
   "metadata": {},
   "source": [
    "## Example number 1 , Page number 46"
   ]
  },
  {
   "cell_type": "code",
   "execution_count": 1,
   "metadata": {
    "collapsed": false
   },
   "outputs": [
    {
     "name": "stdout",
     "output_type": "stream",
     "text": [
      "width of the slit a= 1.05 micro-m\n"
     ]
    }
   ],
   "source": [
    "#importing modules\n",
    "import math\n",
    "from __future__ import division\n",
    "\n",
    "#Variable declaration\n",
    "m=1                      #first minimum\n",
    "lamda=6000*10**-10       #waveleght\n",
    "theta=math.radians(35)   #angle in radians\n",
    "\n",
    "#Calculations\n",
    "a=(m*lamda)/math.sin(theta)/10**-6\n",
    "\n",
    "#Result\n",
    "print\"width of the slit a= %1.2f micro-m\" %a"
   ]
  },
  {
   "cell_type": "markdown",
   "metadata": {},
   "source": [
    "## Example number 2 , Page number 46"
   ]
  },
  {
   "cell_type": "code",
   "execution_count": 2,
   "metadata": {
    "collapsed": false
   },
   "outputs": [
    {
     "name": "stdout",
     "output_type": "stream",
     "text": [
      "Angle of first minimum theta= 18.97 degrees\n"
     ]
    }
   ],
   "source": [
    "#importing modules\n",
    "import math\n",
    "from __future__ import division\n",
    "\n",
    "#Variable declaration\n",
    "m=1                      #first minimum\n",
    "lamda=6500*10**-10       #waveleght\n",
    "a=2*10**-6               #slit width\n",
    "\n",
    "#Calculations\n",
    "theta=math.degrees(math.asin((m*lamda)/a))\n",
    "\n",
    "#Result\n",
    "print\"Angle of first minimum theta= %2.2f degrees\" %theta"
   ]
  },
  {
   "cell_type": "markdown",
   "metadata": {},
   "source": [
    "## Example number 3 , Page number 46"
   ]
  },
  {
   "cell_type": "code",
   "execution_count": 3,
   "metadata": {
    "collapsed": false
   },
   "outputs": [
    {
     "name": "stdout",
     "output_type": "stream",
     "text": [
      "Wavelength of incident light lamda= 5510 Armstrong\n"
     ]
    }
   ],
   "source": [
    "#importing modules\n",
    "import math\n",
    "from __future__ import division\n",
    "\n",
    "#Variable declaration\n",
    "m=1                      #first minimum\n",
    "a=90*10**-16             #slit width\n",
    "y=6*10**-3               #distance from central maximum\n",
    "D=0.98                   #Screen distance\n",
    "\n",
    "#Calculations\n",
    "lamda=(y*a)/D/10**-17*10**3\n",
    "\n",
    "#Result\n",
    "print\"Wavelength of incident light lamda= %i Armstrong\" %lamda"
   ]
  },
  {
   "cell_type": "markdown",
   "metadata": {},
   "source": [
    "## Example number 4 , Page number 46"
   ]
  },
  {
   "cell_type": "code",
   "execution_count": 4,
   "metadata": {
    "collapsed": false
   },
   "outputs": [
    {
     "name": "stdout",
     "output_type": "stream",
     "text": [
      "Total linear width= 1.2 cm\n",
      "angular position of the minima= 3*10**-3 radian\n"
     ]
    }
   ],
   "source": [
    "#importing modules\n",
    "import math\n",
    "from __future__ import division\n",
    "\n",
    "#Variable declaration\n",
    "a=2*10**-4               #slit width                \n",
    "lamda=6*10**-7           #waveleght\n",
    "\n",
    "#Calculations\n",
    "theta=math.asin(lamda/a)\n",
    "TLW=4*theta/10**-2\n",
    "theta1=math.asin(lamda/a)/10**-3\n",
    "\n",
    "#Result\n",
    "print\"Total linear width= %1.1f cm\" %TLW\n",
    "print\"angular position of the minima= %i*10**-3 radian\" %theta1"
   ]
  },
  {
   "cell_type": "markdown",
   "metadata": {},
   "source": [
    "## Example number 5 , Page number 47"
   ]
  },
  {
   "cell_type": "code",
   "execution_count": 5,
   "metadata": {
    "collapsed": false
   },
   "outputs": [
    {
     "name": "stdout",
     "output_type": "stream",
     "text": [
      "angle between 1st and 2nd order line is 24.95 degrees\n"
     ]
    }
   ],
   "source": [
    "#importing modules\n",
    "import math\n",
    "from __future__ import division\n",
    "\n",
    "#Variable declaration\n",
    "n1=1\n",
    "n2=2               \n",
    "lamda=6000*10**-8          #waveleght\n",
    "N=6000                     #number of lines for diffraction grating\n",
    "\n",
    "#Calculations\n",
    "theta1=math.degrees(math.asin(n1*lamda*N))\n",
    "theta2=math.degrees(math.asin(n2*lamda*N))\n",
    "\n",
    "#Result\n",
    "print\"angle between 1st and 2nd order line is %2.2f degrees\" %(theta2-theta1)"
   ]
  },
  {
   "cell_type": "markdown",
   "metadata": {},
   "source": [
    "## Example number 6 , Page number 47"
   ]
  },
  {
   "cell_type": "code",
   "execution_count": 6,
   "metadata": {
    "collapsed": false
   },
   "outputs": [
    {
     "name": "stdout",
     "output_type": "stream",
     "text": [
      "angular separation= 0.06 degrees\n"
     ]
    }
   ],
   "source": [
    "#importing modules\n",
    "import math\n",
    "from __future__ import division\n",
    "\n",
    "#Variable declaration             \n",
    "lamda1=5890*10**-8         #waveleght\n",
    "lamda2=5896*10**-8         #waveleght\n",
    "N=6000                     #number of lines for diffraction grating\n",
    "\n",
    "#Calculations\n",
    "theta1=math.degrees(math.asin(2*lamda1*N))\n",
    "theta2=math.degrees(math.asin(2*lamda2*N))\n",
    "\n",
    "#Result\n",
    "print\"angular separation= %2.2f degrees\" %(theta2-theta1)"
   ]
  },
  {
   "cell_type": "markdown",
   "metadata": {},
   "source": [
    "## Example number 7 , Page number 48"
   ]
  },
  {
   "cell_type": "code",
   "execution_count": 7,
   "metadata": {
    "collapsed": false
   },
   "outputs": [
    {
     "name": "stdout",
     "output_type": "stream",
     "text": [
      "dispersive power in third order spectum= 36.87 degrees\n"
     ]
    }
   ],
   "source": [
    "#importing modules\n",
    "import math\n",
    "from __future__ import division\n",
    "\n",
    "#Variable declaration             \n",
    "lamda=5000*10**-8          #waveleght\n",
    "N=4000                     #number of lines for diffraction grating\n",
    "n=3                        #third order \n",
    "\n",
    "#Calculations\n",
    "theta=math.degrees(math.asin(n*lamda*N))\n",
    "\n",
    "#Result\n",
    "print\"dispersive power in third order spectum= %2.2f degrees\" %(theta)"
   ]
  },
  {
   "cell_type": "markdown",
   "metadata": {},
   "source": [
    "## Example number 8 , Page number 48"
   ]
  },
  {
   "cell_type": "code",
   "execution_count": 8,
   "metadata": {
    "collapsed": false
   },
   "outputs": [
    {
     "name": "stdout",
     "output_type": "stream",
     "text": [
      "wavelength lamda= 5000 Armstrong\n"
     ]
    }
   ],
   "source": [
    "#importing modules\n",
    "import math\n",
    "from __future__ import division\n",
    "\n",
    "#Variable declaration             \n",
    "N=5000                     #number of lines for diffraction grating\n",
    "n=2                        #second order \n",
    "theta2=math.radians(30)    #angle in radians\n",
    "\n",
    "#Calculations\n",
    "lamda=math.sin(theta2)/(n*N)/10**-5*10**3\n",
    "\n",
    "#Result\n",
    "print\"wavelength lamda= %1.0f Armstrong\" %lamda"
   ]
  },
  {
   "cell_type": "markdown",
   "metadata": {},
   "source": [
    "## Example number 9 , Page number 48"
   ]
  },
  {
   "cell_type": "code",
   "execution_count": 9,
   "metadata": {
    "collapsed": false
   },
   "outputs": [
    {
     "name": "stdout",
     "output_type": "stream",
     "text": [
      "Number of grating lines= 327.4\n"
     ]
    }
   ],
   "source": [
    "#importing modules\n",
    "import math\n",
    "from __future__ import division\n",
    "\n",
    "#Variable declaration             \n",
    "lamda=5893*10**-8         #wavelenght\n",
    "dlamda=6*10**-8\n",
    "n=3                       #third order\n",
    "\n",
    "#Calculations\n",
    "N=lamda/(n*dlamda)\n",
    "\n",
    "#Result\n",
    "print\"Number of grating lines= %0.1f\" %N"
   ]
  },
  {
   "cell_type": "markdown",
   "metadata": {},
   "source": [
    "## Example number 10 , Page number 49"
   ]
  },
  {
   "cell_type": "code",
   "execution_count": 10,
   "metadata": {
    "collapsed": false
   },
   "outputs": [
    {
     "name": "stdout",
     "output_type": "stream",
     "text": [
      "Grating element= 2.511*10**-6 m\n"
     ]
    }
   ],
   "source": [
    "#importing modules\n",
    "import math\n",
    "from __future__ import division\n",
    "\n",
    "#Variable declaration             \n",
    "lamda=6.5*10**-7         #wavelenght\n",
    "n=1                      #first order\n",
    "theta=math.radians(15)   #angle in radians\n",
    "\n",
    "#Calculations\n",
    "d=(n*lamda)/math.sin(theta)/10**-6\n",
    "\n",
    "#Result\n",
    "print\"Grating element= %1.3f*10**-6 m\" %d"
   ]
  },
  {
   "cell_type": "markdown",
   "metadata": {},
   "source": [
    "## Example number 11 , Page number 49"
   ]
  },
  {
   "cell_type": "code",
   "execution_count": 11,
   "metadata": {
    "collapsed": false
   },
   "outputs": [
    {
     "name": "stdout",
     "output_type": "stream",
     "text": [
      "lamda= 6656 Armstrong\n"
     ]
    }
   ],
   "source": [
    "#importing modules\n",
    "import math\n",
    "from __future__ import division\n",
    "\n",
    "#Variable declaration             \n",
    "lamda2=4992            #wavelenght\n",
    "\n",
    "#Calculations\n",
    "lamda=(4*lamda2)/3\n",
    "\n",
    "#Result\n",
    "print\"lamda= %i Armstrong\" %lamda"
   ]
  },
  {
   "cell_type": "markdown",
   "metadata": {},
   "source": [
    "## Example number 12 , Page number 49"
   ]
  },
  {
   "cell_type": "code",
   "execution_count": 12,
   "metadata": {
    "collapsed": false
   },
   "outputs": [
    {
     "name": "stdout",
     "output_type": "stream",
     "text": [
      "Grating element= 3.24*10**-4 cm\n",
      "Number of lines in 1 cm lenght of grating= 3086\n"
     ]
    }
   ],
   "source": [
    "#importing modules\n",
    "import math\n",
    "from __future__ import division\n",
    "\n",
    "#Variable declaration             \n",
    "theta=math.radians(30)  #angle in radians\n",
    "lamda1=5400*10**-10     \n",
    "n=3                     #third order\n",
    "\n",
    "#Calculations\n",
    "d=(n*lamda1)/math.sin(theta)*10**2/10**-4\n",
    "N1=1/d/10**-1*10**3\n",
    "\n",
    "#Result\n",
    "print\"Grating element= %1.2f*10**-4 cm\" %d\n",
    "print\"Number of lines in 1 cm lenght of grating= %i\" %N1"
   ]
  }
 ],
 "metadata": {
  "kernelspec": {
   "display_name": "Python 2",
   "language": "python",
   "name": "python2"
  },
  "language_info": {
   "codemirror_mode": {
    "name": "ipython",
    "version": 2
   },
   "file_extension": ".py",
   "mimetype": "text/x-python",
   "name": "python",
   "nbconvert_exporter": "python",
   "pygments_lexer": "ipython2",
   "version": "2.7.3"
  }
 },
 "nbformat": 4,
 "nbformat_minor": 0
}
