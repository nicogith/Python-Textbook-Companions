{
 "cells": [
  {
   "cell_type": "markdown",
   "metadata": {},
   "source": [
    "#  Chapter 4 : Laser and Holography"
   ]
  },
  {
   "cell_type": "markdown",
   "metadata": {},
   "source": [
    "## Example number 1 , Page number 81"
   ]
  },
  {
   "cell_type": "code",
   "execution_count": 1,
   "metadata": {
    "collapsed": false
   },
   "outputs": [
    {
     "name": "stdout",
     "output_type": "stream",
     "text": [
      "Wavelength of radiation= 414 nm\n"
     ]
    }
   ],
   "source": [
    "#importing module\n",
    "import math\n",
    "from __future__ import division\n",
    "\n",
    "#Variable declaration\n",
    "delE=3*1.6*10**-19      #Energy of laser\n",
    "h=6.63*10**-34          #planck's constant\n",
    "c=3*10**8               #speed of ligth\n",
    "\n",
    "#Calculations\n",
    "lamda=(h*c)/delE/10**-9\n",
    "\n",
    "#Result\n",
    "print\"Wavelength of radiation= %i nm\" %lamda"
   ]
  },
  {
   "cell_type": "markdown",
   "metadata": {},
   "source": [
    "## Example number 2 , Page number 81"
   ]
  },
  {
   "cell_type": "code",
   "execution_count": 2,
   "metadata": {
    "collapsed": false
   },
   "outputs": [
    {
     "name": "stdout",
     "output_type": "stream",
     "text": [
      "Energy of radiation= 1.96 eV\n",
      "Momentum of electron= 1.048*10**-27 kgm/s\n"
     ]
    }
   ],
   "source": [
    "#importing module\n",
    "import math\n",
    "from __future__ import division\n",
    "\n",
    "#Variable declaration\n",
    "lamda=6328*10**-10      #wavelength\n",
    "h=6.63*10**-34          #planck's constant\n",
    "c=3*10**8               #speed of ligth\n",
    "\n",
    "#Calculations\n",
    "E=((h*c)/lamda)/1.6*10**19\n",
    "Momentum=h/lamda/10**-27\n",
    "\n",
    "#Result\n",
    "print\"Energy of radiation= %1.2f eV\" %E\n",
    "print\"Momentum of electron= %1.3f*10**-27 kgm/s\" %Momentum"
   ]
  },
  {
   "cell_type": "markdown",
   "metadata": {},
   "source": [
    "## Example number 3 , Page number 82"
   ]
  },
  {
   "cell_type": "code",
   "execution_count": 3,
   "metadata": {
    "collapsed": false
   },
   "outputs": [
    {
     "name": "stdout",
     "output_type": "stream",
     "text": [
      "Wavelength of radiation= 338*10**15 photons/sec\n"
     ]
    }
   ],
   "source": [
    "#importing module\n",
    "import math\n",
    "from __future__ import division\n",
    "\n",
    "#Variable declaration\n",
    "lamda=6730*10**-18      #wavelength\n",
    "h=6.63*10**-34          #planck's constant\n",
    "c=3*10**8               #speed of ligth\n",
    "P=10**-3                #Power of laser\n",
    "\n",
    "#Calculations\n",
    "n=(P*lamda)/(h*c)/10**5\n",
    "\n",
    "#Result\n",
    "print\"Wavelength of radiation= %i*10**15 photons/sec\"  %n"
   ]
  }
 ],
 "metadata": {
  "kernelspec": {
   "display_name": "Python 2",
   "language": "python",
   "name": "python2"
  },
  "language_info": {
   "codemirror_mode": {
    "name": "ipython",
    "version": 2
   },
   "file_extension": ".py",
   "mimetype": "text/x-python",
   "name": "python",
   "nbconvert_exporter": "python",
   "pygments_lexer": "ipython2",
   "version": "2.7.3"
  }
 },
 "nbformat": 4,
 "nbformat_minor": 0
}
