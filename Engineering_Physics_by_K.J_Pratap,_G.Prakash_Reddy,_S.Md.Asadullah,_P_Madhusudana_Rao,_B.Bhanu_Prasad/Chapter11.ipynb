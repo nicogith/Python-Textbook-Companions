{
 "cells": [
  {
   "cell_type": "markdown",
   "metadata": {},
   "source": [
    "#  Chapter 11 : Free Electron Theory Of Metals"
   ]
  },
  {
   "cell_type": "markdown",
   "metadata": {},
   "source": [
    "## Example number 1 , page number 205 "
   ]
  },
  {
   "cell_type": "code",
   "execution_count": 1,
   "metadata": {
    "collapsed": false
   },
   "outputs": [
    {
     "name": "stdout",
     "output_type": "stream",
     "text": [
      "root mean square velocity v= 1.17*10**5 m/s\n"
     ]
    }
   ],
   "source": [
    "#importing module\n",
    "import math\n",
    "from __future__ import division\n",
    "\n",
    "#Variable declaration\n",
    "k=1.376*10**-23           #Boltzmann's constant in J/K\n",
    "T=300                     #Temperature\n",
    "m=9.11*10**-31            #Mass of electron\n",
    "\n",
    "#Calculations\n",
    "v=math.sqrt((3*k*T)/m)/10**5\n",
    "\n",
    "#Result\n",
    "print\"root mean square velocity v= %1.2f*10**5 m/s\" %v"
   ]
  },
  {
   "cell_type": "markdown",
   "metadata": {},
   "source": [
    "## Example number 2 , page number 205 "
   ]
  },
  {
   "cell_type": "code",
   "execution_count": 2,
   "metadata": {
    "collapsed": false
   },
   "outputs": [
    {
     "name": "stdout",
     "output_type": "stream",
     "text": [
      "Mean free path for electron= 6.6*10**-9 m\n"
     ]
    }
   ],
   "source": [
    "#importing module\n",
    "import math\n",
    "from __future__ import division\n",
    "\n",
    "#Variable declaration\n",
    "sigma=6.8*10**7        #conductivity\n",
    "n=8.5*10**28           #number of electrons\n",
    "m=9.1*10**-31          #Mass of electron\n",
    "e=1.6*10**-19          #charge on electron\n",
    "k=1.38*10**-23         #Boltzmann's constant in J/K\n",
    "T=300                  #temperature in K\n",
    "\n",
    "#Calculations\n",
    "lamda=(2*sigma*math.sqrt(3*m*k*T))/(n*e**2)/10**-9\n",
    "\n",
    "#Result\n",
    "print\"Mean free path for electron= %1.1f*10**-9 m\"  %lamda"
   ]
  },
  {
   "cell_type": "markdown",
   "metadata": {},
   "source": [
    "## Example number 3 , page number 205 "
   ]
  },
  {
   "cell_type": "code",
   "execution_count": 3,
   "metadata": {
    "collapsed": false
   },
   "outputs": [
    {
     "name": "stdout",
     "output_type": "stream",
     "text": [
      "Relaxation time= 3.97*10**-14 seconds\n"
     ]
    }
   ],
   "source": [
    "#importing module\n",
    "import math\n",
    "from __future__ import division\n",
    "\n",
    "#Variable declaration\n",
    "rho=1.54*10**-8         #resistivity\n",
    "n=5.8*10**28            #electron density\n",
    "e=1.602*10**-19         #charge on electron\n",
    "m=9.1*10**-31           #Mass of electron\n",
    "\n",
    "#Calculations\n",
    "tau=m/(n*(e**2)*rho)/10**-14\n",
    "\n",
    "#Result\n",
    "print\"Relaxation time= %1.2f*10**-14 seconds\" %tau"
   ]
  },
  {
   "cell_type": "markdown",
   "metadata": {},
   "source": [
    "## Example number 4 , page number 206 "
   ]
  },
  {
   "cell_type": "code",
   "execution_count": 4,
   "metadata": {
    "collapsed": false
   },
   "outputs": [
    {
     "name": "stdout",
     "output_type": "stream",
     "text": [
      "No. of free electrons per unit volume= 8.395*10**28 electrons per meter**3\n"
     ]
    }
   ],
   "source": [
    "#importing module\n",
    "import math\n",
    "from __future__ import division\n",
    "\n",
    "#Variable declaration\n",
    "EF=1.1214*10**-18       #fermi energy in J\n",
    "m=9.11*10**-31          #Mass of electron\n",
    "h=6.63*10**-34          #planck's constant\n",
    "\n",
    "#Calculations\n",
    "n=((8*m*EF)/(h**2))**(3/2)*(math.pi/3)/10**28\n",
    "\n",
    "#Result\n",
    "print\"No. of free electrons per unit volume= %1.3f*10**28 electrons per meter**3\" %n"
   ]
  },
  {
   "cell_type": "markdown",
   "metadata": {},
   "source": [
    "## Example number 5 , page number 206 "
   ]
  },
  {
   "cell_type": "code",
   "execution_count": 5,
   "metadata": {
    "collapsed": false
   },
   "outputs": [
    {
     "name": "stdout",
     "output_type": "stream",
     "text": [
      "Temperature= 1261 K\n"
     ]
    }
   ],
   "source": [
    "#importing module\n",
    "import math\n",
    "import numpy as np\n",
    "from __future__ import division\n",
    "\n",
    "#Variable declaration\n",
    "fE=0.01                 #probability\n",
    "delE=8*10**-20          #ev to J\n",
    "\n",
    "#Calculations\n",
    "T=5797/np.log(99)\n",
    "\n",
    "#Result\n",
    "print\"Temperature= %i\" %T,\"K\""
   ]
  }
 ],
 "metadata": {
  "kernelspec": {
   "display_name": "Python 2",
   "language": "python",
   "name": "python2"
  },
  "language_info": {
   "codemirror_mode": {
    "name": "ipython",
    "version": 2
   },
   "file_extension": ".py",
   "mimetype": "text/x-python",
   "name": "python",
   "nbconvert_exporter": "python",
   "pygments_lexer": "ipython2",
   "version": "2.7.3"
  }
 },
 "nbformat": 4,
 "nbformat_minor": 0
}
