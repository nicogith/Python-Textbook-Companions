{
 "cells": [
  {
   "cell_type": "markdown",
   "metadata": {},
   "source": [
    "# Chapter 16 : MAGNETIC MATERIALS"
   ]
  },
  {
   "cell_type": "markdown",
   "metadata": {},
   "source": [
    "## Example number 1, Page number 298"
   ]
  },
  {
   "cell_type": "code",
   "execution_count": 2,
   "metadata": {
    "collapsed": false
   },
   "outputs": [
    {
     "name": "stdout",
     "output_type": "stream",
     "text": [
      "Intensity of Magnetization= 5.0 ampere/m\n",
      "Flux density in the material= 1.257 weber/m^2\n"
     ]
    }
   ],
   "source": [
    "#importing modules\n",
    "import math\n",
    "from __future__ import division\n",
    "\n",
    "#Variable declaration\n",
    "H=10**6                #Magnetic Field Strength in ampere/m\n",
    "x=0.5*10**-5           #Magnetic susceptibility \n",
    "mu_0=4*math.pi*10**-7\n",
    "\n",
    "#Calculatiions\n",
    "M=x*H\n",
    "B=mu_0*(M+H)\n",
    "\n",
    "#Result\n",
    "print\"Intensity of Magnetization=\",M,\"ampere/m\"\n",
    "print\"Flux density in the material=\",round(B,3),\"weber/m^2\"\n",
    "\n",
    "\n"
   ]
  }
 ],
 "metadata": {
  "kernelspec": {
   "display_name": "Python 2",
   "language": "python",
   "name": "python2"
  },
  "language_info": {
   "codemirror_mode": {
    "name": "ipython",
    "version": 2
   },
   "file_extension": ".py",
   "mimetype": "text/x-python",
   "name": "python",
   "nbconvert_exporter": "python",
   "pygments_lexer": "ipython2",
   "version": "2.7.3"
  }
 },
 "nbformat": 4,
 "nbformat_minor": 0
}
