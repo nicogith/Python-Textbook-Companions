{
 "cells": [
  {
   "cell_type": "markdown",
   "metadata": {},
   "source": [
    "# Chapter 4:Shear and Development Length"
   ]
  },
  {
   "cell_type": "markdown",
   "metadata": {},
   "source": [
    "## Ex4.1:pg-134"
   ]
  },
  {
   "cell_type": "code",
   "execution_count": 2,
   "metadata": {
    "collapsed": false
   },
   "outputs": [
    {
     "name": "stdout",
     "output_type": "stream",
     "text": [
      "Nominal shear stress in beam= 0.48  MPa\n",
      "Shear strength of concrete= 0.37  MPa\n"
     ]
    }
   ],
   "source": [
    "import math\n",
    "b=250 #width, in mm\n",
    "d=500.0 #effective depth, in mm\n",
    "W=20 #UDL including self-weight, in kN/m\n",
    "Pt=1 #percentage tensile steel\n",
    "l=6 #span, in m\n",
    "V=W*l/2.0 #in kN\n",
    "Tv=(V*10**3)/(b*d) #in MPa\n",
    " #for Pt=1% and for M15 grade concrete\n",
    "Tc=0.37 #in MPa\n",
    " #as Tv>Tc, shear reinforcement is required\n",
    "print \"Nominal shear stress in beam=\",Tv,\" MPa\\nShear strength of concrete=\",Tc,\" MPa\"\n"
   ]
  },
  {
   "cell_type": "markdown",
   "metadata": {},
   "source": [
    "##  Ex4.2:pg-135"
   ]
  },
  {
   "cell_type": "code",
   "execution_count": 3,
   "metadata": {
    "collapsed": false
   },
   "outputs": [
    {
     "name": "stdout",
     "output_type": "stream",
     "text": [
      "Nominal shear stress in beam= 0.469565217391  MPa\n",
      "Shear strength of concrete= 0.4  MPa\n"
     ]
    }
   ],
   "source": [
    "import math\n",
    "b=230 #width, in mm\n",
    "d=500 #effective depth, in mm\n",
    "W=24 #UDL including self-weight, in kN/m\n",
    "Ast=4*0.785*20**2 #four 20 mm dia bars, in sq mm\n",
    "Pt=Ast/(b*d)*100 #percentage tensile steel\n",
    "l=4.5 #span, in m\n",
    "V=W*l/2.0 #in kN\n",
    "Tv=(V*10**3)/(b*d) #in MPa\n",
    " #for Pt=1.1% and for M20 grade concrete\n",
    "Tc=0.40 #in MPa\n",
    " #as Tv>Tc, shear reinforcement is required\n",
    "print \"Nominal shear stress in beam=\",Tv,\" MPa\\nShear strength of concrete=\",Tc,\" MPa\"\n"
   ]
  },
  {
   "cell_type": "markdown",
   "metadata": {},
   "source": [
    "##  Ex4.3:pg-135"
   ]
  },
  {
   "cell_type": "code",
   "execution_count": 4,
   "metadata": {
    "collapsed": false
   },
   "outputs": [
    {
     "name": "stdout",
     "output_type": "stream",
     "text": [
      "Nominal shear stress in beam= 2.0  MPa\n",
      "For given grade of concrete, Tcmax=1.8 MPa and as Tv > Tcmax, section is to be redesigned so that Tv becomes less than Tcmax\n"
     ]
    }
   ],
   "source": [
    "import math\n",
    "b=300 #width, in mm\n",
    "d=600 #effective depth, in mm\n",
    "W=100 #UDL including self-weight, in kN/m\n",
    "Pt=2 #percentage tensile steel\n",
    "l=7.2 #span, in m\n",
    "sigma_cbc=7 #in MPa\n",
    "sigma_st=190 #in MPa\n",
    "m=13.33 #modular ratio\n",
    "V=W*l/2.0 #in kN\n",
    "Tv=(V*10**3)/(b*d) #in MPa\n",
    "Tcmax=1.8 #in MPa\n",
    " #as Tv>Tcmax, section is to be redesigned so that Tv becomes less than Tcmax\n",
    "print \"Nominal shear stress in beam=\",Tv,\" MPa\\nFor given grade of concrete, Tcmax=1.8 MPa and as Tv > Tcmax, section is to be redesigned so that Tv becomes less than Tcmax\"\n"
   ]
  },
  {
   "cell_type": "markdown",
   "metadata": {},
   "source": [
    "##  Ex4.4:pg-136"
   ]
  },
  {
   "cell_type": "code",
   "execution_count": 5,
   "metadata": {
    "collapsed": false
   },
   "outputs": [
    {
     "name": "stdout",
     "output_type": "stream",
     "text": [
      "Nominal shear stress in slab, Tv= 0.175  MPa\n",
      "Shear strength of slab, Tc= 0.481  MPa. As Tc > Tv, no shear reinforcement is required\n"
     ]
    }
   ],
   "source": [
    "import math\n",
    "b=1000 #consider 1 m width of slab\n",
    "D=100 #depth of slab, in mm\n",
    "cover=20 #in mm\n",
    "d=D-cover #effective depth, in mm\n",
    "W=7 #uniformly distributed load, in kN/m**2\n",
    "dia=10 #in mm\n",
    "s=100 #spacing of 10 mm dia bars, in mm\n",
    "l=4 #span, in m\n",
    "V=W*l/2.0 #in kN\n",
    "Pt=1000*.785*dia**2/(s*b*d)*100 #in %\n",
    "Tv=(V*10**3)/(b*d) #in MPa\n",
    " #for given Pt and M15 grade concrete\n",
    "Tc=0.37 #in MPa\n",
    " #and for solid slabs\n",
    "k=1.3\n",
    "Tc=k*Tc #in MPa\n",
    "print \"Nominal shear stress in slab, Tv=\",Tv,\" MPa\\nShear strength of slab, Tc=\",Tc,\" MPa. As Tc > Tv, no shear reinforcement is required\"\n"
   ]
  },
  {
   "cell_type": "markdown",
   "metadata": {},
   "source": [
    "##  Ex4.5:pg-136"
   ]
  },
  {
   "cell_type": "code",
   "execution_count": 6,
   "metadata": {
    "collapsed": false
   },
   "outputs": [
    {
     "name": "stdout",
     "output_type": "stream",
     "text": [
      "Provide 6 mm dia bars at  118  mm c/c throughout the length of the beam, as shear reinforcement\n"
     ]
    }
   ],
   "source": [
    "import math\n",
    "b=300 #width, in mm\n",
    "d=1010 #effective depth, in mm\n",
    "W=45 #UDL including self-weight, in kN/m\n",
    "Ast=6*0.785*22**2 #six 22 mm dia bars, in sq mm\n",
    "l=7 #span, in m\n",
    "sigma_cbc=5 #in MPa\n",
    "sigma_sv=140 #in MPa\n",
    "Fy=250 #in MPa\n",
    "V=W*l/2.0 #in kN\n",
    "Tv=(V*10**3)/(b*d) #in MPa\n",
    "Tcmax=1.6 #in MPa\n",
    " #Tv<Tcmax; OK\n",
    "Pt=Ast/(b*d)*100 #percentage tensile steel\n",
    " #for given Pt and for M15 grade concrete\n",
    "Tc=0.34 #in MPa\n",
    "Vs=V-Tc*b*d/10**3 #in kN\n",
    " #providing 6 mm dia stirrups\n",
    "dia=6 #in mm\n",
    "Asv=2*0.785*dia**2 #in sq mm\n",
    "Sv1=Asv*sigma_sv*d/(Vs*10**3) #in mm\n",
    "Sv1=145 #round-off, in mm\n",
    "#Sv<0.75d or 450 mm, whichever is less; hence OK\n",
    "#calculating minimum spacing of shear reinforcement\n",
    "Sv2=Asv*Fy/(b*0.4) #in mm\n",
    "Sv2=118 #round-off, in mm\n",
    "Sv=min(Sv1,Sv2)\n",
    "print \"Provide 6 mm dia bars at \",Sv,\" mm c/c throughout the length of the beam, as shear reinforcement\"\n"
   ]
  },
  {
   "cell_type": "markdown",
   "metadata": {},
   "source": [
    "##  Ex4.6:pg-137"
   ]
  },
  {
   "cell_type": "code",
   "execution_count": 9,
   "metadata": {
    "collapsed": false
   },
   "outputs": [
    {
     "name": "stdout",
     "output_type": "stream",
     "text": [
      "Provide 6 mm dia stirrups at  105  mm c/c upto  3.28  m from both ends\n",
      "For the remaining portion, provide 6 mm dia stirrups at  260  mm\n"
     ]
    }
   ],
   "source": [
    "import math\n",
    "Bf=1600 #width, in mm\n",
    "Df=100 #thickness of slab, in mm\n",
    "d=400 #effective depth, in mm\n",
    "Bw=225 #breadth of web, in mm\n",
    "b=Bw\n",
    "W=30 #UDL including self-weight, in kN/m\n",
    "Ast=5*0.785*22**2 #five 22 mm dia bars, in sq mm\n",
    "l=9.2 #span, in m\n",
    "sigma_cbc=5 #in MPa\n",
    "sigma_sv=230 #in MPa\n",
    "Fy=415 #in MPa\n",
    "V=W*l/2.0 #in kN\n",
    "Tv=(V*10**3)/(b*d) #in MPa\n",
    "Tcmax=1.6 #in MPa\n",
    " #Tv<Tcmax; OK\n",
    "Pt=Ast/(b*d)*100 #percentage tensile steel\n",
    " #for given Pt and for M15 grade concrete\n",
    "Tc=0.44 #in MPa\n",
    "Vs=V-Tc*b*d/10**3 #in kN\n",
    " #providing bent-up bars\n",
    "Asv=0.785*22**2 #in sq mm\n",
    "Vs1=Asv*sigma_sv*math.sin(45.0)/10**3 #in kN\n",
    " #but shear taken up by bent-up bar is limited to Vs/2\n",
    "Vs1=Vs/2 #in kN\n",
    " #providing 6 mm dia stirrups, which will take up remaining shear force\n",
    "Vs2=Vs-Vs1 #in kN\n",
    "dia=6 #in mm\n",
    "Asv=2*0.785*dia**2 #in sq mm\n",
    "Sv=Asv*sigma_sv*d/(Vs2*10**3) #in mm\n",
    "Sv1=105 #round-off, in mm\n",
    "#Sv<0.75d or 450 mm, whichever is less; hence OK\n",
    "#calculating minimum spacing of shear reinforcement\n",
    "Sv2=Asv*Fy/(b*0.4) #in mm\n",
    "Sv2=260 #round-off, in mm\n",
    "#to calculate distance 'x' from support where shear stress in concrete is equal to Tc\n",
    "x=Tc/Tv*l/2.0 #in m\n",
    "print \"Provide 6 mm dia stirrups at \",(Sv1),\" mm c/c upto \",(l/2.0-x),\" m from both ends\\nFor the remaining portion, provide 6 mm dia stirrups at \",(Sv2),\" mm\"\n"
   ]
  },
  {
   "cell_type": "markdown",
   "metadata": {},
   "source": [
    "##  Ex4.7:pg-138"
   ]
  },
  {
   "cell_type": "code",
   "execution_count": 10,
   "metadata": {
    "collapsed": false
   },
   "outputs": [
    {
     "name": "stdout",
     "output_type": "stream",
     "text": [
      "Development length required from the face of the support =  177  mm\n"
     ]
    }
   ],
   "source": [
    "import math\n",
    "D=100 #thickness of slab, in mm\n",
    "l=3 #span of slab, in m\n",
    "s=0.23 #thickness of support, in m\n",
    "Lef=l+s #effective span, in m\n",
    "W=5 #UDL, in kN/m\n",
    "cover=15 #in mm\n",
    "R=W*Lef/2 #in kN\n",
    "M=(R*s/2-W*s**2/2)*10**6 #bending moment at face of wall, in N-mm\n",
    " #10 mm dia bars at 145 mm c/c as main steel\n",
    "dia=10 #in mm\n",
    "c=145 #spacing of reinforcement, in mm\n",
    "Ast=1000*0.785*dia**2/c #in sq mm\n",
    " #as alternate bars are bent up\n",
    "Ast=Ast/2 #available steel reinforcement at face of wall, in sq mm\n",
    "d=D-10/2.0-cover #in mm\n",
    " #assuming balanced section\n",
    "z=0.87*d #in mm\n",
    "sigma_st=M/(Ast*z) #in MPa\n",
    "Tbd=0.6 #bond stress, in MPa\n",
    "Ld=dia*sigma_st/(4*Tbd) #in mm\n",
    "Ld=177 #round-off, in mm\n",
    "print \"Development length required from the face of the support = \",(Ld),\" mm\"\n",
    " #answer given in textbook is incorrect\n"
   ]
  },
  {
   "cell_type": "markdown",
   "metadata": {},
   "source": [
    "##  Ex4.8:pg-139"
   ]
  },
  {
   "cell_type": "code",
   "execution_count": 11,
   "metadata": {
    "collapsed": false
   },
   "outputs": [
    {
     "name": "stdout",
     "output_type": "stream",
     "text": [
      "Development length required from the face of the support for tension steel =  176.492736343  mm\n",
      "Development length required from the face of the support for compression steel =  53.542740239  mm\n"
     ]
    }
   ],
   "source": [
    "import math\n",
    "b=230 #width, in mm\n",
    "d=500 #effective depth, in mm\n",
    "l=6 #span, in m\n",
    "s=0.3 #thickness of support, in m\n",
    "Lef=l+s #effective span, in m\n",
    "W=60 #UDL, in kN/m\n",
    "Ast=6*0.785*20**2 #six 20 mm dia bars at bottom, in sq mm\n",
    "Asc=2*0.785*20**2 #two 20 mm dia bars at top, in sq mm\n",
    "dia=20 #in mm\n",
    "sigma_cbc=5 #in MPa\n",
    "sigma_st=230 #in MPa\n",
    "m=18.66 #modular ratio\n",
    "R=W*l/2.0 #in kN\n",
    "M=(R*s/2-W*s**2/2.0)*10**6 #bending moment at face of wall, in N-mm\n",
    " #assuming balanced section\n",
    "z=0.87*d #in mm\n",
    "sigma_st1=M/(Ast*z) #in MPa\n",
    "Tbd=0.6*1.4 #bond stress in MPa for deformed steel and M15\n",
    "Ld1=dia*sigma_st1/(4*Tbd) #in mm\n",
    " #to find critical depth of neutral axis\n",
    "Xc=d/(1+sigma_st/(m*sigma_cbc)) #in mm\n",
    "Xc=144 #round-off, in mm\n",
    " #at face of support\n",
    "sigma_cbc=sigma_st1/m*Xc/(d-Xc) #in MPa\n",
    "sigma_sc=1.5*m*sigma_cbc #in MPa\n",
    "Tbd=1.68 #bond stress in MPa for M15 and deformed steel in compression\n",
    "Ld2=dia*sigma_sc/(4*Tbd) #in mm\n",
    "print \"Development length required from the face of the support for tension steel = \",(Ld1),\" mm\\nDevelopment length required from the face of the support for compression steel = \",(Ld2),\" mm\"\n"
   ]
  },
  {
   "cell_type": "markdown",
   "metadata": {},
   "source": [
    "##  Ex4.9:pg-139"
   ]
  },
  {
   "cell_type": "code",
   "execution_count": 15,
   "metadata": {
    "collapsed": false
   },
   "outputs": [
    {
     "name": "stdout",
     "output_type": "stream",
     "text": [
      "Development length required from the face of the support =  412  mm\n"
     ]
    }
   ],
   "source": [
    "import math\n",
    "D=120 #thickness of slab, in mm\n",
    "l=1.5 #span of slab, in m\n",
    "s=0.23 #thickness of support, in m\n",
    "Lef=l+s #effective span, in m\n",
    "W1=3 #UDL, in kN/m**2\n",
    "cover=15 #in mm\n",
    "sigma_cbc=5 #in MPa\n",
    "sigma_st=140 #in MPa\n",
    "m=18.66 #modular ratio\n",
    "W2=(D/10**3)*1*25 #self load, in kN/m\n",
    "W=W1+W2 #in kN/m\n",
    "M=W*l**2/2*10**6 #bending moment at face of wall, in N-mm\n",
    " #10 mm dia bars at 145 mm c/c as main steel\n",
    "dia=10 #in mm\n",
    "d=D-dia/2-cover\n",
    "c=100 #spacing of reinforcement, in mm\n",
    "Ast=1000*0.785*dia**2/c #in sq mm\n",
    " #assuming balanced section\n",
    "z=0.87*d #in mm\n",
    "sigma_st=M/(Ast*z) #in MPa\n",
    "Tbd=0.6 #bond stress in MPa\n",
    "Ld=dia*sigma_st/(4*Tbd) #in mm\n",
    "Ld=412 #round-off,in mm\n",
    "print \"Development length required from the face of the support = \",(Ld),\" mm\"\n"
   ]
  }
 ],
 "metadata": {
  "kernelspec": {
   "display_name": "Python 2",
   "language": "python",
   "name": "python2"
  },
  "language_info": {
   "codemirror_mode": {
    "name": "ipython",
    "version": 2
   },
   "file_extension": ".py",
   "mimetype": "text/x-python",
   "name": "python",
   "nbconvert_exporter": "python",
   "pygments_lexer": "ipython2",
   "version": "2.7.11"
  }
 },
 "nbformat": 4,
 "nbformat_minor": 0
}
