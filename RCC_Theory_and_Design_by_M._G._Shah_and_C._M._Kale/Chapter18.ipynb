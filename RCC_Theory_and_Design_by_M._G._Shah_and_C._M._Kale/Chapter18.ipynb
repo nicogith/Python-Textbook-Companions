{
 "cells": [
  {
   "cell_type": "markdown",
   "metadata": {},
   "source": [
    "# Chapter 18:Columns"
   ]
  },
  {
   "cell_type": "markdown",
   "metadata": {},
   "source": [
    "## Ex18.1:pg-977"
   ]
  },
  {
   "cell_type": "code",
   "execution_count": 13,
   "metadata": {
    "collapsed": false
   },
   "outputs": [
    {
     "name": "stdout",
     "output_type": "stream",
     "text": [
      "Column size -  530  x  530  mm\n"
     ]
    }
   ],
   "source": [
    "import math\n",
    "Pu=3000 #in kN\n",
    "fck=20 #in MPa\n",
    "fy=415 #in MPa\n",
    "l=3 #unsupported length, in m\n",
    " #assume 1% steel\n",
    "Ag=Pu*10**3/(0.4*fck*0.99+0.67*fy*0.01) #in sq mm\n",
    "L=math.sqrt(Ag) #assuming a square column\n",
    "L=530 #in mm\n",
    "Asc=0.01*L**2 #in sq mm\n",
    "emin=l*10**3/500+L/30 #in mm\n",
    "ep=0.05*L #>emin, hence OK\n",
    "print \"Column size - \",L,\" x \",L,\" mm\"\n"
   ]
  },
  {
   "cell_type": "markdown",
   "metadata": {},
   "source": [
    "## Ex18.2:pg-978"
   ]
  },
  {
   "cell_type": "code",
   "execution_count": 14,
   "metadata": {
    "collapsed": false
   },
   "outputs": [
    {
     "name": "stdout",
     "output_type": "stream",
     "text": [
      "The column is safe on long dimension side but not on short dimension side. As such, the column be checked for eccentricity in short direction.\n"
     ]
    }
   ],
   "source": [
    "import math\n",
    "Pu=1500 #in kN\n",
    "fck=15 #in MPa\n",
    "fy=250 #in MPa\n",
    "l=2.75 #unsupported length, in m\n",
    " #assume 1% steel\n",
    "Ag=Pu*10**3/(0.4*fck*0.99+0.67*fy*0.01) #in sq mm\n",
    "L1=225 #assuming a square column\n",
    "L2=Ag/L1 #in mm\n",
    "L2=880 #in mm\n",
    "Asc=0.01*L1*L2 #in sq mm\n",
    "e1=l*10**3/500+L1/30 #in mm\n",
    "e2=l*10**3/500+L2/30 #in mm\n",
    "ep1=0.05*L1 #<e1\n",
    "ep2=0.05*L2 #>e2, hence Ok\n",
    "print \"The column is safe on long dimension side but not on short dimension side. As such, the column be checked for eccentricity in short direction.\"\n"
   ]
  },
  {
   "cell_type": "markdown",
   "metadata": {},
   "source": [
    "## Ex18.3:pg-978"
   ]
  },
  {
   "cell_type": "code",
   "execution_count": 15,
   "metadata": {
    "collapsed": false
   },
   "outputs": [
    {
     "name": "stdout",
     "output_type": "stream",
     "text": [
      "(i) For xu = 1.1 D\n",
      "P= 1446.61010463  kN\n",
      "Mu= 67.6351908515  kN-m\n",
      "\n",
      "(ii) For xu = 330 mm\n",
      "P= 384.47253  kN\n",
      "Mu= 261.45522765  kN-m\n"
     ]
    }
   ],
   "source": [
    "import math\n",
    "b=225 #in mm\n",
    "D=500 #in mm\n",
    "c=45 #cover, in mm\n",
    "Asc=2463 #in sq mm\n",
    "Ast=Asc\n",
    "fck=15 #in MPa\n",
    "fy=250 #in MPa\n",
    "fcc=0.446*fck #in MPa\n",
    " #(i)\n",
    "xu=1.1*D #in mm\n",
    "m=0.43*D #in mm\n",
    "esc1=0.002*(xu-c)/(xu-m)\n",
    "esc2=0.002*(xu-D+c)/(xu-m)\n",
    " #by interpolation\n",
    "fsc1=217.5 #in MPa\n",
    "fsc2=217.5*esc2/0.0010875 #in MPa\n",
    " #stress block parameters for xu / D = 1.1\n",
    "n=0.384\n",
    "l=0.443\n",
    "A=n*fck*D #area of stress block\n",
    "r=l*D #distance of c.g., in mm\n",
    "Pu=(A*b+Asc*(fsc1-fcc)+Ast*fsc2)/10**3\n",
    "Mu=(A*b*(D/2-r)+Asc*(fsc1-fcc)*(D/2-c)-Ast*fsc2*(D/2-c))/10**6\n",
    "print \"(i) For xu = 1.1 D\\nP=\",Pu,\" kN\\nMu=\",Mu,\" kN-m\\n\"\n",
    "#answer in textbook is incorrect\n",
    "#(ii)\n",
    "xu=330 #in mm\n",
    "esc=0.0035*(xu-c)/xu\n",
    "est=0.0035*(D-c-xu)/xu\n",
    "#by interpolation\n",
    "fsc=217.5 #in MPa\n",
    "fst=217.5 #in MPa\n",
    "Pu=(0.36*fck*b*xu+Asc*(fsc-fcc)-Ast*fst)/10**3 #in kN\n",
    "Mu=(0.36*fck*b*xu*(D/2-0.416*xu)+Asc*(fsc-fcc)*(D/2-c)+Ast*fst*(D/2-c))/10**6 #in kN-m\n",
    "print \"(ii) For xu = 330 mm\\nP=\",Pu,\" kN\\nMu=\",Mu,\" kN-m\"\n"
   ]
  },
  {
   "cell_type": "markdown",
   "metadata": {},
   "source": [
    "## Ex18.4:pg-979"
   ]
  },
  {
   "cell_type": "code",
   "execution_count": 16,
   "metadata": {
    "collapsed": false
   },
   "outputs": [
    {
     "name": "stdout",
     "output_type": "stream",
     "text": [
      "(i) For xu = 1.4 D\n",
      "P= 1016.73308  kN\n",
      "Mu= 16.0682812  kN-m\n",
      "\n",
      "(ii) For xu = 370 mm\n",
      "P= 757.19772  kN\n",
      "Mu= 54.4459644  kN-m\n"
     ]
    }
   ],
   "source": [
    "import math\n",
    "b=300 #in mm\n",
    "D=400 #in mm\n",
    "c=30 #cover, in mm\n",
    "Asc=452 #in sq mm\n",
    "Ast=Asc\n",
    "fck=15 #in MPa\n",
    "fy=415 #in MPa\n",
    "fcc=0.446*fck #in MPa\n",
    " #(i)\n",
    "xu=1.4*D #in mm\n",
    "m=0.43*D #in mm\n",
    "esc1=0.002*(xu-c)/(xu-m)\n",
    "esc2=0.002*(xu-D+c)/(xu-m)\n",
    " #by interpolation\n",
    "fsc1=356.8 #in MPa\n",
    "fsc2=238.68 #in MPa\n",
    " #stress block parameters for xu / D = 1.4\n",
    "n=0.417\n",
    "l=0.475\n",
    "A=n*fck*D #area of stress block\n",
    "r=l*D #distance of c.g., in mm\n",
    "Pu=(A*b+Asc*(fsc1-fcc)+Ast*fsc2)/10**3 #in kN\n",
    "Mu=(A*b*(D/2-r)+Asc*(fsc1-fcc)*(D/2-c)-Ast*fsc2*(D/2-c))/10**6 #in kN-m\n",
    "print \"(i) For xu = 1.4 D\\nP=\",Pu,\" kN\\nMu=\",Mu,\" kN-m\\n\"\n",
    " #(ii)\n",
    "xu=370 #in mm\n",
    "esc=0.0035*(xu-c)/xu\n",
    "est=0.0035*(D-c-xu)/xu\n",
    " #by interpolation\n",
    "fsc=355.8 #in MPa\n",
    "Pu=(0.36*fck*b*xu+Asc*(fsc-fcc))/10**3 #in kN\n",
    "Mu=(0.36*fck*b*xu*(D/2-0.416*xu)+Asc*(fsc-fcc)*(D/2-c))/10**6 #in kN-m\n",
    "print \"(ii) For xu = 370 mm\\nP=\",Pu,\" kN\\nMu=\",Mu,\" kN-m\"\n"
   ]
  },
  {
   "cell_type": "markdown",
   "metadata": {},
   "source": [
    "## Ex18.5:pg-980"
   ]
  },
  {
   "cell_type": "code",
   "execution_count": 17,
   "metadata": {
    "collapsed": false
   },
   "outputs": [
    {
     "name": "stdout",
     "output_type": "stream",
     "text": [
      "(i) For xu = 1.3 D\n",
      "P= 1813.08128  kN\n",
      "Mu= 81.543504  kN-m\n",
      "\n",
      "(ii) For xu = 400 mm\n",
      "P= 1143.1248  kN\n",
      "Mu= 206.36736  kN-m\n"
     ]
    }
   ],
   "source": [
    "import math\n",
    "b=225 #in mm\n",
    "D=500 #in mm\n",
    "c=50 #cover, in mm\n",
    "Asc=1520 #in sq mm\n",
    "Ast=Asc\n",
    "fck=20 #in MPa\n",
    "fy=500 #in MPa\n",
    "fcc=0.446*fck #in MPa\n",
    " #(i)\n",
    "xu=1.3*D #in mm\n",
    "m=0.43*D #in mm\n",
    "esc1=0.002*(xu-c)/(xu-m)\n",
    "esc2=0.002*(xu-D+c)/(xu-m)\n",
    " #by interpolation\n",
    "fsc1=412.515 #in MPa\n",
    "fsc2=183.794 #in MPa\n",
    " #stress block parameters for xu / D = 1.3\n",
    "n=0.409\n",
    "l=0.468\n",
    "A=n*fck*D #area of stress block\n",
    "r=l*D #distance of c.g., in mm\n",
    "Pu=(A*b+Asc*(fsc1-fcc)+Ast*fsc2)/10**3 #in kN\n",
    "Mu=(A*b*(D/2-r)+Asc*(fsc1-fcc)*(D/2-c)-Ast*fsc2*(D/2-c))/10**6 #in kN-m\n",
    "print \"(i) For xu = 1.3 D\\nP=\",Pu,\" kN\\nMu=\",Mu,\" kN-m\\n\"\n",
    " #(ii)\n",
    "xu=400 #in mm\n",
    "esc=0.0035*(xu-c)/xu\n",
    "est=0.0035*(D-c-xu)/xu\n",
    " #by interpolation\n",
    "fsc=422.11 #in MPa\n",
    "fst=87.45 #in MPa\n",
    "Pu=(0.36*fck*b*xu+Asc*(fsc-fcc)-Ast*fst)/10**3 #in kN\n",
    "Mu=(0.36*fck*b*xu*(D/2-0.416*xu)+Asc*(fsc-fcc)*(D/2-c)+Ast*fst*(D/2-c))/10**6 #in kN-m\n",
    "print \"(ii) For xu = 400 mm\\nP=\",Pu,\" kN\\nMu=\",Mu,\" kN-m\"\n",
    " #answer in textbook for Mu in (ii) is incorrect\n"
   ]
  },
  {
   "cell_type": "markdown",
   "metadata": {},
   "source": [
    "## Ex18.6:pg-981"
   ]
  },
  {
   "cell_type": "code",
   "execution_count": 18,
   "metadata": {
    "collapsed": false
   },
   "outputs": [
    {
     "name": "stdout",
     "output_type": "stream",
     "text": [
      "Additional Moments are:\n",
      "Max= 4.8  kN/m\n",
      "May= 9.6  kN-m\n"
     ]
    }
   ],
   "source": [
    "import math\n",
    "b=250.0 #column width, in mm\n",
    "D=500.0 #column depth, in mm\n",
    "lex=4.0 #in m\n",
    "ley=4.0 #in m\n",
    "Pu=300.0 #in kN\n",
    "Asc=1472.0 #in sq mm\n",
    "Ast=1472.0 #in sq mm\n",
    "fck=15.0 #in MPa\n",
    "fy=250.0 #in MPa\n",
    "c=50 #cover, in mm\n",
    "Max=Pu*10**3*D/2000*(lex/(D/10**3))**2.0/10**6 #in kN-m\n",
    "May=Pu*10.0**3*b/2000*(ley/(b/10**3))**2.0/10**6 #in kN-m\n",
    "Puz=(0.45*fck*(b*D-(Asc+Ast))+0.75*fy*(Asc+Ast))/10**3 #in kN\n",
    " #to find Pb\n",
    "xu=(D-c)/(1+0.002/0.0035) #in mm\n",
    "fsc=217.5 #in MPa\n",
    "fst=217.5 #in MPa\n",
    "Pb=(0.36*fck*b*xu+fsc*Asc-fst*Ast)/10**3 #in kN\n",
    "k=(Puz-Pu)/(Puz-Pb) #>1\n",
    "k=1\n",
    "Max=k*Max #in kN-m\n",
    "May=k*May #in kN-m\n",
    "print \"Additional Moments are:\\nMax=\",Max,\" kN/m\\nMay=\",May,\" kN-m\"\n"
   ]
  }
 ],
 "metadata": {
  "kernelspec": {
   "display_name": "Python 2",
   "language": "python",
   "name": "python2"
  },
  "language_info": {
   "codemirror_mode": {
    "name": "ipython",
    "version": 2
   },
   "file_extension": ".py",
   "mimetype": "text/x-python",
   "name": "python",
   "nbconvert_exporter": "python",
   "pygments_lexer": "ipython2",
   "version": "2.7.11"
  }
 },
 "nbformat": 4,
 "nbformat_minor": 0
}
