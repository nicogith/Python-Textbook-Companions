{
 "cells": [
  {
   "cell_type": "markdown",
   "metadata": {},
   "source": [
    "# Chapter 16:T Beams"
   ]
  },
  {
   "cell_type": "markdown",
   "metadata": {},
   "source": [
    "## Ex16.1:pg-867"
   ]
  },
  {
   "cell_type": "code",
   "execution_count": 7,
   "metadata": {
    "collapsed": false
   },
   "outputs": [
    {
     "name": "stdout",
     "output_type": "stream",
     "text": [
      "Moment of resistance of T-beam= 470.560221818  kN-m\n"
     ]
    }
   ],
   "source": [
    "import math\n",
    "Df=120 #in mm\n",
    "bf=1100 #in mm\n",
    "bw=275 #in mm\n",
    "d=450 #in mm\n",
    "Ast=2700 #in sq mm\n",
    "fy=500 #in MPa\n",
    "fck=25 #in MPa\n",
    "Asf=round(0.36*fck*bf*Df/0.87/fy) #area of steel required for flange, in sq mm\n",
    " #as Ast<Asf, Xu<Df\n",
    "Xu=0.87*fy*Ast/0.36/fck/bf #in mm\n",
    "Mu=0.36*fck*bf*Xu*(d-0.416*Xu)/10**6 #in kN-m\n",
    "print \"Moment of resistance of T-beam=\",Mu,\" kN-m\"\n"
   ]
  },
  {
   "cell_type": "markdown",
   "metadata": {},
   "source": [
    "## Ex16.2:pg-868"
   ]
  },
  {
   "cell_type": "code",
   "execution_count": 8,
   "metadata": {
    "collapsed": false
   },
   "outputs": [
    {
     "name": "stdout",
     "output_type": "stream",
     "text": [
      "Moment of resistance of T-beam= 862.135878917  kN-m\n"
     ]
    }
   ],
   "source": [
    "import math\n",
    "Df=100 #in mm\n",
    "bf=1500 #in mm\n",
    "bw=300 #in mm\n",
    "d=600 #in mm\n",
    "Ast=4500 #in sq mm\n",
    "fy=415 #in MPa\n",
    "fck=20 #in MPa\n",
    "Asf=round(0.36*fck*bf*Df/0.87/fy) #area of steel required for flange, in sq mm\n",
    " #as Ast>Asf, Xu>Df\n",
    "Xu=(0.87*fy*Ast-0.446*fck*(bf-bw)*Df)/0.36/fck/bw #in mm\n",
    "Xc=0.479*d #Xc>Xu; hence OK\n",
    "a=0.43*Xu #as Df<0.43 Xu, stress in flange is uniform\n",
    "Mu=(0.36*fck*bw*Xu*(d-0.416*Xu)+0.446*fck*(bf-bw)*Df*(d-Df/2))/10**6 #in kN-m\n",
    "print \"Moment of resistance of T-beam=\",Mu,\" kN-m\"\n"
   ]
  },
  {
   "cell_type": "markdown",
   "metadata": {},
   "source": [
    "## Ex16.3:pg-869"
   ]
  },
  {
   "cell_type": "code",
   "execution_count": 9,
   "metadata": {
    "collapsed": false
   },
   "outputs": [
    {
     "name": "stdout",
     "output_type": "stream",
     "text": [
      "Moment of resistance of T-beam= 547.9209765  kN-m\n"
     ]
    }
   ],
   "source": [
    "import math\n",
    "Df=100 #in mm\n",
    "bf=1500 #in mm\n",
    "bw=300 #in mm\n",
    "d=700 #in mm\n",
    "Ast=4510 #in sq mm\n",
    "fy=250 #in MPa\n",
    "fck=15 #in MPa\n",
    "Asf=round(0.36*fck*bf*Df/0.87/fy) #area of steel required for flange, in sq mm\n",
    " #as Ast>Asf, Xu>Df\n",
    "Xu=round((0.87*fy*Ast-0.446*fck*(bf-bw)*Df)/0.36/fck/bw) #in mm\n",
    "Xc=0.531*d #Xc>Xu; hence OK\n",
    "a=0.43*Xu #as Df>0.43 Xu, stress in flange is not uniform\n",
    "yf=0.15*Xu+0.65*Df #in mm\n",
    "Mu=(0.36*fck*bw*Xu*(d-0.416*Xu)+0.446*fck*(bf-bw)*yf*(d-yf/2))/10**6 #in kN-m\n",
    "print \"Moment of resistance of T-beam=\",Mu,\" kN-m\"\n"
   ]
  },
  {
   "cell_type": "markdown",
   "metadata": {},
   "source": [
    "## Ex16.4:pg-870"
   ]
  },
  {
   "cell_type": "code",
   "execution_count": 10,
   "metadata": {
    "collapsed": false
   },
   "outputs": [
    {
     "name": "stdout",
     "output_type": "stream",
     "text": [
      "Moment of resistance of T-beam= 610.289086931  kN-m\n"
     ]
    }
   ],
   "source": [
    "import math\n",
    "Df=100 #in mm\n",
    "bf=1250 #in mm\n",
    "bw=250 #in mm\n",
    "d=650 #in mm\n",
    "Ast=2800 #in sq mm\n",
    "fy=415 #in MPa\n",
    "fck=20 #in MPa\n",
    "Asf=round(0.36*fck*bf*Df/0.87/fy) #area of steel required for flange, in sq mm\n",
    " #as Ast>Asf, Xu>Df\n",
    "Xu=round((0.87*fy*Ast-0.446*fck*(bf-bw)*Df)/0.36/fck/bw) #in mm\n",
    " #but Xu<Df; this indicates that stress in the flange is not uniform, hence replace Df by yf\n",
    "Xu=(0.87*fy*Ast-0.446*fck*(bf-bw)*0.65*Df)/(0.36*fck*bw+0.446*fck*(bf-bw)*0.15) #in mm\n",
    "Xc=0.479*d #Xc>Xu; hence OK\n",
    "a=0.43*Xu #as Df>0.43 Xu, stress in flange is not uniform\n",
    "yf=0.15*Xu+0.65*Df #in mm\n",
    "Mu=(0.36*fck*bw*Xu*(d-0.416*Xu)+0.446*fck*(bf-bw)*yf*(d-yf/2))/10**6 #in kN-m\n",
    "print \"Moment of resistance of T-beam=\",Mu,\" kN-m\"\n",
    " #answer in textbook is incorrect\n"
   ]
  },
  {
   "cell_type": "markdown",
   "metadata": {},
   "source": [
    "## Ex16.5:pg-871"
   ]
  },
  {
   "cell_type": "code",
   "execution_count": 11,
   "metadata": {
    "collapsed": false
   },
   "outputs": [
    {
     "name": "stdout",
     "output_type": "stream",
     "text": [
      "Moment of resistance of T-beam= 651.372905965  kN-m\n",
      "Area of steel required= 5251.13103448  sq mm\n"
     ]
    }
   ],
   "source": [
    "import math\n",
    "Df=100 #in mm\n",
    "bf=1250 #in mm\n",
    "bw=250 #in mm\n",
    "d=660 #in mm\n",
    "fy=250 #in MPa\n",
    "fck=15 #in MPa\n",
    "Xc=0.531*d #in mm\n",
    "a=0.43*Xc #Df<0.43 Xu, stress in entire flange is uniform\n",
    "Mu=(0.36*fck*bw*Xc*(d-0.416*Xc)+0.446*fck*(bf-bw)*Df*(d-Df/2))/10**6 #in kN-m\n",
    "Ast=(0.36*fck*bw*Xc+0.446*fck*(bf-bw)*Df)/0.87/fy #in sq mm\n",
    "print \"Moment of resistance of T-beam=\",Mu,\" kN-m\\nArea of steel required=\",Ast,\" sq mm\"\n"
   ]
  },
  {
   "cell_type": "markdown",
   "metadata": {},
   "source": [
    "## Ex16.6:pg-872"
   ]
  },
  {
   "cell_type": "code",
   "execution_count": 12,
   "metadata": {
    "collapsed": false
   },
   "outputs": [
    {
     "name": "stdout",
     "output_type": "stream",
     "text": [
      "Area of steel required= 2208.32488139  sq mm\n"
     ]
    }
   ],
   "source": [
    "import math\n",
    "Df=100 #in mm\n",
    "bf=1250 #in mm\n",
    "bw=250 #in mm\n",
    "d=550 #in mm\n",
    "Mu=400 #in kN-m\n",
    "fy=415 #in MPa\n",
    "fck=15 #in MPa\n",
    "Asf=0.446*fck*(bf-bw)*Df/0.87/fy #in sq mm\n",
    "Muf=0.446*fck*(bf-bw)*Df*(d-Df/2)/10**6 #in kN-m\n",
    "Muw=Mu-Muf #in kN-m\n",
    " #using Cu=Tu, 0.36 fck bw Xu = 0.87 fy Ast, Xu = a Asw\n",
    "a=0.87*fy/0.36/fck/bw\n",
    " #Muw=0.87 fy Asw (d-0.416 Xu)\n",
    "p=0.87*fy*0.416*a\n",
    "q=-0.87*fy*d\n",
    "r=Muw*10**6\n",
    "Asw=(-q-math.sqrt(q**2-4*p*r))/2/p #in sq mm\n",
    "Ast=Asw+Asf #in sq mm\n",
    "print \"Area of steel required=\",Ast,\" sq mm\"\n",
    "\n"
   ]
  }
 ],
 "metadata": {
  "kernelspec": {
   "display_name": "Python 2",
   "language": "python",
   "name": "python2"
  },
  "language_info": {
   "codemirror_mode": {
    "name": "ipython",
    "version": 2
   },
   "file_extension": ".py",
   "mimetype": "text/x-python",
   "name": "python",
   "nbconvert_exporter": "python",
   "pygments_lexer": "ipython2",
   "version": "2.7.11"
  }
 },
 "nbformat": 4,
 "nbformat_minor": 0
}
