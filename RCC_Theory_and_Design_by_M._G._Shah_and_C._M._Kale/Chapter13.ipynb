{
 "cells": [
  {
   "cell_type": "markdown",
   "metadata": {},
   "source": [
    "# Chapter 13:Water Tanks"
   ]
  },
  {
   "cell_type": "markdown",
   "metadata": {},
   "source": [
    "## Ex13.1:pg-702"
   ]
  },
  {
   "cell_type": "code",
   "execution_count": 3,
   "metadata": {
    "collapsed": false
   },
   "outputs": [
    {
     "name": "stdout",
     "output_type": "stream",
     "text": [
      "Summary of design\n",
      "Diameter of tank= 10.1  m\n",
      "Depth of tank= 3.0  m\n",
      "Tank wall thickness= 110  mm\n",
      "Steel-hoop steel; 3 m to 1.5 m below top=16 mm dia @  130  mm c/c\n",
      "1.5 m to 0 m below top=16 mm dia @  260  mm c/c\n",
      "vertical steel=10 mm dia @  235  mm c/c\n",
      "Tank floor: Thickness  150  mm\n",
      "Steel=10 mm dia @  170  mm c/c\n"
     ]
    }
   ],
   "source": [
    "import math\n",
    "sigma_cbc=7 #in MPa\n",
    "sigma_ct=1.2 #in MPa\n",
    "sigma_st=100 #in MPa\n",
    "m=13.33 #modular ratio\n",
    "V=200000 #capacity, in L\n",
    "V=V/10**3 #in cu m\n",
    "h=2.5 #assumed depth of water in tank, in m\n",
    "A=V/h #area of tank, in sq m\n",
    "B=math.sqrt(4/math.pi*A) #diameter, in m\n",
    "B=10.1 #assume, in m\n",
    "H=h+0.5 #including freeboard, in m\n",
    "w=10 #unit weight of water, in kN/cu m\n",
    "T=w*H*B/2 #hoop tension, in kN\n",
    "Ast=T*10**3/sigma_st #in sq mm\n",
    "s1=10**3*0.785*16**2/Ast #in mm\n",
    "s1=130 #assume, in mm\n",
    "t=(T*10**3/sigma_ct-(m-1)*Ast)/1000 #in mm\n",
    "t=110 #assume, in mm\n",
    " #hoop tension steel at 1.5 m below top of wall\n",
    "h=1.5 #in m\n",
    "T=w*h*B/2 #in kN\n",
    "Ast=T*10**3/sigma_st #in sq mm\n",
    "s2=10**3*0.785*16**2/Ast #in mm\n",
    "s2=260 #assume, in mm\n",
    "Ads=0.3/100*t*10**3 #vertical steel as distribution steel, in sq mm\n",
    "s3=1000*0.785*10**2/Ads #in mm\n",
    "s3=235 #in mm\n",
    " #design of tank floor\n",
    "D=150 #in mm\n",
    "Ast=0.3/100*D*1000 #in sq mm\n",
    "s4=1000*0.785*10**2/Ast #in mm\n",
    "s4=170 #in mm\n",
    "print \"Summary of design\\nDiameter of tank=\",B,\" m\\nDepth of tank=\",H,\" m\\nTank wall thickness=\",t,\" mm\\nSteel-hoop steel; 3 m to 1.5 m below top=16 mm dia @ \",s1,\" mm c/c\\n1.5 m to 0 m below top=16 mm dia @ \",s2,\" mm c/c\\nvertical steel=10 mm dia @ \",s3,\" mm c/c\\nTank floor: Thickness \",D,\" mm\\nSteel=10 mm dia @ \",s4,\" mm c/c\"\n",
    " #answer in textbook for spacing of 16 mm dia bars from 1.5 m to 0 m below top is incorrect \n"
   ]
  },
  {
   "cell_type": "markdown",
   "metadata": {},
   "source": [
    "## Ex13.2:pg-703"
   ]
  },
  {
   "cell_type": "code",
   "execution_count": 1,
   "metadata": {
    "collapsed": false
   },
   "outputs": [
    {
     "name": "stdout",
     "output_type": "stream",
     "text": [
      "Summary of design\n",
      "Diameter of tank= 13  m\n",
      "Depth of tank= 3.5  m\n",
      "Tank wall thickness= 175  mm\n",
      "Steel-hoop steel; 4 m to 2 m below top=12 mm dia @  80  mm c/c\n",
      "2 m to 0 m below top=12 mm dia @  145  mm c/c\n",
      "vertical steel=10 mm dia @  150  mm c/c\n",
      "Tank floor: Thickness  190  mm\n",
      "Steel=10 mm dia @  135  mm c/c both ways\n"
     ]
    }
   ],
   "source": [
    "import math\n",
    "\n",
    "sigma_cbc=7 #in MPa\n",
    "sigma_ct=1.2 #in MPa\n",
    "sigma_st=170 #in MPa\n",
    "m=13.33 #modular ratio\n",
    "V=400000 #capacity, in L\n",
    "V=V/10**3 #in cu m\n",
    "h=3 #assumed depth of water in tank, in m\n",
    "A=V/h #area of tank, in sq m\n",
    "B=math.sqrt(4/math.pi*A) #diameter, in m\n",
    "B=13 #assume, in m\n",
    "H=h+0.5 #including freeboard, in m\n",
    "w=10 #unit weight of water, in kN/cu m\n",
    "T=w*H*B/2 #hoop tension, in kN\n",
    "Ast=T*10**3/sigma_st #in sq mm\n",
    "s1=10**3*0.785*12**2/Ast #in mm\n",
    "s1=80 #assume, in mm\n",
    "t=(T*10**3/sigma_ct-(m-1)*Ast)/1000 #in mm\n",
    "t=175 #assume, in mm\n",
    " #steel at 2 m below top of wall\n",
    "h=2 #in m\n",
    "T=w*h*B/2 #in kN\n",
    "Ast=T*10**3/sigma_st #in sq mm\n",
    "s2=10**3*0.785*12**2/Ast #in mm\n",
    "s2=145 #assume, in mm\n",
    "Ads=0.3/100*t*10**3 #vertical steel as distribution steel, in sq mm\n",
    "s3=1000*0.785*10**2/Ads #in mm\n",
    "s3=150 #assume, in mm\n",
    " #design of tank floor\n",
    "D=190 #in mm\n",
    "Ast=0.3/100*D*1000 #in sq mm\n",
    "s4=1000*0.785*10**2/Ast #in mm\n",
    "s4=135 #assume, in mm\n",
    "print \"Summary of design\\nDiameter of tank=\",B,\" m\\nDepth of tank=\",H,\" m\\nTank wall thickness=\",t,\" mm\\nSteel-hoop steel; 4 m to 2 m below top=12 mm dia @ \",s1,\" mm c/c\\n2 m to 0 m below top=12 mm dia @ \",s2,\" mm c/c\\nvertical steel=10 mm dia @ \",s3,\" mm c/c\\nTank floor: Thickness \",D,\" mm\\nSteel=10 mm dia @ \",s4,\" mm c/c both ways\"\n"
   ]
  }
 ],
 "metadata": {
  "kernelspec": {
   "display_name": "Python 2",
   "language": "python",
   "name": "python2"
  },
  "language_info": {
   "codemirror_mode": {
    "name": "ipython",
    "version": 2
   },
   "file_extension": ".py",
   "mimetype": "text/x-python",
   "name": "python",
   "nbconvert_exporter": "python",
   "pygments_lexer": "ipython2",
   "version": "2.7.11"
  }
 },
 "nbformat": 4,
 "nbformat_minor": 0
}
