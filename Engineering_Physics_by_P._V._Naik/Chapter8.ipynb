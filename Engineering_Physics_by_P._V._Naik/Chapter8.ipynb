{
 "metadata": {
  "name": "",
  "signature": "sha256:a95b407b682939fdad30498a4e63981a88538f3262f7c6d2067bc16aa9ba5b35"
 },
 "nbformat": 3,
 "nbformat_minor": 0,
 "worksheets": [
  {
   "cells": [
    {
     "cell_type": "heading",
     "level": 1,
     "metadata": {},
     "source": [
      "8: Magnetic materials and Spectroscopy"
     ]
    },
    {
     "cell_type": "heading",
     "level": 2,
     "metadata": {},
     "source": [
      "Example number 8.1, Page number 153"
     ]
    },
    {
     "cell_type": "code",
     "collapsed": false,
     "input": [
      "#importing modules\n",
      "import math\n",
      "from __future__ import division\n",
      "\n",
      "#Variable declaration\n",
      "mew=0.9*10**-23;             #magnetic dipole moment(J/T)\n",
      "B=0.72;                     #magnetic field applied(T)\n",
      "k=1.38*10**-23;             #boltzmann constant\n",
      "\n",
      "#Calculation                        \n",
      "T=(2*mew*B)/(3*k);          #temperature(K)\n",
      "\n",
      "#Result\n",
      "print \"The temperature is\",round(T,2),\"K\""
     ],
     "language": "python",
     "metadata": {},
     "outputs": [
      {
       "output_type": "stream",
       "stream": "stdout",
       "text": [
        "The temperature is 0.31 K\n"
       ]
      }
     ],
     "prompt_number": 2
    },
    {
     "cell_type": "heading",
     "level": 2,
     "metadata": {},
     "source": [
      "Example number 8.2, Page number 153"
     ]
    },
    {
     "cell_type": "code",
     "collapsed": false,
     "input": [
      "#importing modules\n",
      "import math\n",
      "from __future__ import division\n",
      "\n",
      "#Variable declaration\n",
      "#(C=mew0*M*T)/B.\n",
      "#Therefore M=(C*B)/(mew0*T)\n",
      "C=2*10**-3;            #C is curies constant(K)\n",
      "B=0.4;                #applied magnetic field(T)\n",
      "mew0=4*math.pi*10**-7;\n",
      "T=300;                #temperature(K)\n",
      "\n",
      "#Calculation                        \n",
      "M=(C*B)/(mew0*T);     #magnetisation(A/m)\n",
      "\n",
      "#Result\n",
      "print \"magnetisation is\",round(M,2),\"A/m\""
     ],
     "language": "python",
     "metadata": {},
     "outputs": [
      {
       "output_type": "stream",
       "stream": "stdout",
       "text": [
        "magnetisation is 2.12 A/m\n"
       ]
      }
     ],
     "prompt_number": 4
    },
    {
     "cell_type": "heading",
     "level": 2,
     "metadata": {},
     "source": [
      "Example number 8.3, Page number 153"
     ]
    },
    {
     "cell_type": "code",
     "collapsed": false,
     "input": [
      "#importing modules\n",
      "import math\n",
      "from __future__ import division\n",
      "\n",
      "#Variable declaration\n",
      "e=1.6*10**-19;\n",
      "B=0.35;                  #magnetic field(T)\n",
      "lamda=500*10**-9;       #wavelength(m)\n",
      "m=9.1*10**-31;\n",
      "c=3*10**8;         #speed of light \n",
      "\n",
      "#Calculation                        \n",
      "deltalambda=(e*B*(lamda)**2)/(4*(math.pi)*m*c*10**-9);      #Zeeman shift in wave length(nm)\n",
      "\n",
      "#Result\n",
      "print \"Zeeman shift in wave length is\",round(deltalambda,5),\"nm\""
     ],
     "language": "python",
     "metadata": {},
     "outputs": [
      {
       "output_type": "stream",
       "stream": "stdout",
       "text": [
        "Zeeman shift in wave length is 0.00408 nm\n"
       ]
      }
     ],
     "prompt_number": 7
    },
    {
     "cell_type": "heading",
     "level": 2,
     "metadata": {},
     "source": [
      "Example number 8.4, Page number 154"
     ]
    },
    {
     "cell_type": "code",
     "collapsed": false,
     "input": [
      "#importing modules\n",
      "import math\n",
      "from __future__ import division\n",
      "\n",
      "#Variable declaration\n",
      "#T=(C*B)/(mew0*B)\n",
      "C=2.1*10**-3;           #C is curie's constant(K)\n",
      "B=0.38;                #magnetic field(T)\n",
      "mew0=4*math.pi*10**-7;   #molecular magnetic moment\n",
      "M=2.15;               #magnetisation(A/m)\n",
      "\n",
      "#Calculation                        \n",
      "T=(C*B)/(mew0*M);     #temperature(K)\n",
      "\n",
      "#Result\n",
      "print \"Temperature is\",round(T,1),\"K\"\n",
      "print \"answer in the book varies due to rounding off errors\""
     ],
     "language": "python",
     "metadata": {},
     "outputs": [
      {
       "output_type": "stream",
       "stream": "stdout",
       "text": [
        "Temperature is 295.4 K\n",
        "answer in the book varies due to rounding off errors\n"
       ]
      }
     ],
     "prompt_number": 9
    },
    {
     "cell_type": "heading",
     "level": 2,
     "metadata": {},
     "source": [
      "Example number 8.5, Page number 154"
     ]
    },
    {
     "cell_type": "code",
     "collapsed": false,
     "input": [
      "#importing modules\n",
      "import math\n",
      "from __future__ import division\n",
      "\n",
      "#Variable declaration\n",
      "#(M1*T1)=(M2*T2).Therefore M2=(M1*T1)/T2\n",
      "M1=2;                 #Initial magnetisation(A/m)\n",
      "T1=305;               #Initial temperature(K)\n",
      "T2=321;\t\t      #final temperature(K)\t\n",
      "\n",
      "#Calculation                        \n",
      "M2=(M1*T1)/T2;        #magnetisation at 321K(A/m)\n",
      "\n",
      "#Result\n",
      "print \"Magnetisation at 321 K is\",round(M2,1),\"A/m\""
     ],
     "language": "python",
     "metadata": {},
     "outputs": [
      {
       "output_type": "stream",
       "stream": "stdout",
       "text": [
        "Magnetisation at 321 K is 1.9 A/m\n"
       ]
      }
     ],
     "prompt_number": 11
    },
    {
     "cell_type": "heading",
     "level": 2,
     "metadata": {},
     "source": [
      "Example number 8.6, Page number 154"
     ]
    },
    {
     "cell_type": "code",
     "collapsed": false,
     "input": [
      "#importing modules\n",
      "import math\n",
      "from __future__ import division\n",
      "\n",
      "#Variable declaration\n",
      "mew0=4*math.pi*10**-7;        #molecular magnetic moment\n",
      "M=4;                          #magnetisation(A/m)\n",
      "T=310;                        #temperature(K)\n",
      "C=1.9*10**-3;                 #Curie's constant(K)\n",
      "\n",
      "#Calculation                        \n",
      "B=(mew0*M*T)/C;              #magnetic field(T)\n",
      "\n",
      "#Result\n",
      "print \"Magnetic field is\",round(B,2),\"T\""
     ],
     "language": "python",
     "metadata": {},
     "outputs": [
      {
       "output_type": "stream",
       "stream": "stdout",
       "text": [
        "Magnetic field is 0.82 T\n"
       ]
      }
     ],
     "prompt_number": 13
    },
    {
     "cell_type": "heading",
     "level": 2,
     "metadata": {},
     "source": [
      "Example number 8.7, Page number 154"
     ]
    },
    {
     "cell_type": "code",
     "collapsed": false,
     "input": [
      "#importing modules\n",
      "import math\n",
      "from __future__ import division\n",
      "\n",
      "#Variable declaration\n",
      "#e/m is gyromagnetic ratio.\n",
      "deltalambda=0.01*10**-9;                         #Zeeman shift(m)\n",
      "c=3*10**8;                                       #speed of light in  vacuum(m/s)\n",
      "lamda=600*10**-9;                              #wavelength(m)\n",
      "e=1.6*10**-19;\n",
      "m=9.1*10**-31;\n",
      "\n",
      "#Calculation                        \n",
      "B=(deltalambda*4*math.pi*m*c)/(e*(lamda)**2);    #uniform magnetic field(T)\n",
      "\n",
      "#Result\n",
      "print \"Magnetic field is\",round(B,4),\"T\""
     ],
     "language": "python",
     "metadata": {},
     "outputs": [
      {
       "output_type": "stream",
       "stream": "stdout",
       "text": [
        "Magnetic field is 0.5956 T\n"
       ]
      }
     ],
     "prompt_number": 16
    },
    {
     "cell_type": "heading",
     "level": 2,
     "metadata": {},
     "source": [
      "Example number 8.8, Page number 154"
     ]
    },
    {
     "cell_type": "code",
     "collapsed": false,
     "input": [
      "#importing modules\n",
      "import math\n",
      "from __future__ import division\n",
      "\n",
      "#Variable declaration\n",
      "deltalambda=0.01*10**-9;                           #Zeeman shift(m)\n",
      "c=3*10**8;                                      #speed of light in vacuum(m/s)\n",
      "B=0.78;                                          #magnetic field(T)\n",
      "lamda=550*10**-9;                              #wavelength(m)\n",
      "\n",
      "#Calculation    \n",
      "Y=(deltalambda*4*math.pi*3*10**8)/(B*(lamda)**2);    #e/m ratio(C/kg)\n",
      "\n",
      "#Result\n",
      "print \"e/m ratio is\",round(Y/10**11,1),\"*10**11 C/kg\"\n",
      "print \"answer in the book varies due to rounding off errors\""
     ],
     "language": "python",
     "metadata": {},
     "outputs": [
      {
       "output_type": "stream",
       "stream": "stdout",
       "text": [
        "e/m ratio is 1.6 *10**11 C/kg\n",
        "answer in the book varies due to rounding off errors\n"
       ]
      }
     ],
     "prompt_number": 21
    }
   ],
   "metadata": {}
  }
 ]
}