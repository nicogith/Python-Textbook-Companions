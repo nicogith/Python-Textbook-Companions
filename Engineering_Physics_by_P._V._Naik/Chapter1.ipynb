{
 "metadata": {
  "name": "",
  "signature": "sha256:305dcc155810a92329b40a851ec0d721020f53211b825d9c1f3b0e3bb9312285"
 },
 "nbformat": 3,
 "nbformat_minor": 0,
 "worksheets": [
  {
   "cells": [
    {
     "cell_type": "heading",
     "level": 1,
     "metadata": {},
     "source": [
      "1: Acoustics"
     ]
    },
    {
     "cell_type": "heading",
     "level": 2,
     "metadata": {},
     "source": [
      "Example number 1.1, Page number 12"
     ]
    },
    {
     "cell_type": "code",
     "collapsed": false,
     "input": [
      "#importing modules\n",
      "import math\n",
      "from __future__ import division\n",
      "\n",
      "#Variable declaration\n",
      "p=50;                   #sound waves with output power(W)\n",
      "r=4;                    #Distance(m)\n",
      "\n",
      "#Calculation\n",
      "I=p/(4*math.pi*r**2)       #Intensity(W/m**2)\n",
      "\n",
      "#Result\n",
      "print \"Intensity of sound at a distance of 4m from the source is\",round(I,2),\"W/m**2\""
     ],
     "language": "python",
     "metadata": {},
     "outputs": [
      {
       "output_type": "stream",
       "stream": "stdout",
       "text": [
        "Intensity of sound at a distance of 4m from the source is 0.25 W/m**2\n"
       ]
      }
     ],
     "prompt_number": 2
    },
    {
     "cell_type": "heading",
     "level": 2,
     "metadata": {},
     "source": [
      "Example number 1.2, Page number 12"
     ]
    },
    {
     "cell_type": "code",
     "collapsed": false,
     "input": [
      "#importing modules\n",
      "import math\n",
      "from __future__ import division\n",
      "\n",
      "#Variable declaration\n",
      "Io=10**-12;              #Initial intensity of sound(W/m**2)\n",
      "d=50;                    #number of decibels given by 10log(Io/I1)\n",
      "P=70;                    #Output power(W)\n",
      "\n",
      "#Calculation\n",
      "I1=(10**5)*Io;     #Intensity(W/m**2)\n",
      "r=math.sqrt(P/(4*math.pi*I1));   #distance(m)\n",
      "\n",
      "#Result\n",
      "print \"The distance at which sound reduces to a level of 50dB is\",round(r/10**3,2),\"*10**3 m\""
     ],
     "language": "python",
     "metadata": {},
     "outputs": [
      {
       "output_type": "stream",
       "stream": "stdout",
       "text": [
        "The distance at which sound reduces to a level of 50dB is 7.46 *10**3 m\n"
       ]
      }
     ],
     "prompt_number": 5
    },
    {
     "cell_type": "heading",
     "level": 2,
     "metadata": {},
     "source": [
      "Example number 1.3, Page number 12"
     ]
    },
    {
     "cell_type": "code",
     "collapsed": false,
     "input": [
      "#importing modules\n",
      "import math\n",
      "from __future__ import division\n",
      "\n",
      "#Variable declaration\n",
      "v=8000;             #volume of the hall(m**3)\n",
      "T=1.5;             #Reverberation time(sec)\n",
      "\n",
      "#Calculation\n",
      "A=(0.161*v)/T;      #Total absorption time(m**2 sabine)\n",
      "\n",
      "#Result\n",
      "print \"The total reverberation in the hall is\",round(A,2),\"m**2 sabine\""
     ],
     "language": "python",
     "metadata": {},
     "outputs": [
      {
       "output_type": "stream",
       "stream": "stdout",
       "text": [
        "The total reverberation in the hall is 858.67 m**2 sabine\n"
       ]
      }
     ],
     "prompt_number": 7
    },
    {
     "cell_type": "heading",
     "level": 2,
     "metadata": {},
     "source": [
      "Example number 1.4, Page number 12"
     ]
    },
    {
     "cell_type": "code",
     "collapsed": false,
     "input": [
      "#importing modules\n",
      "import math\n",
      "from __future__ import division\n",
      "\n",
      "#Variable declaration\n",
      "l=25;                          #length of the hall(m)\n",
      "b=20;                         #breadth of the hall(m)\n",
      "h=10;                        #height of the hall(m)\n",
      "T=4;                         #Reverberation time(s)\n",
      "\n",
      "#Calculation\n",
      "V=l*b*h;                     #Volume of the hall(m**3)\n",
      "A=(0.161*V)/T;             #Total absorption time(m**2 sabine)\n",
      "a=A/(2*((l*b)+(b*h)+(l*h)));  #a is absorption co-efficient\n",
      "\n",
      "#Result\n",
      "print \"The average absorption co-efficients of surfaces is\",round(a,3)"
     ],
     "language": "python",
     "metadata": {},
     "outputs": [
      {
       "output_type": "stream",
       "stream": "stdout",
       "text": [
        "The average absorption co-efficients of surfaces is 0.106\n"
       ]
      }
     ],
     "prompt_number": 9
    },
    {
     "cell_type": "heading",
     "level": 2,
     "metadata": {},
     "source": [
      "Example number 1.5, Page number 12"
     ]
    },
    {
     "cell_type": "code",
     "collapsed": false,
     "input": [
      "#importing modules\n",
      "import math\n",
      "from __future__ import division\n",
      "\n",
      "#Variable declaration\n",
      "Y=77*(10**10);                               #Youngs modulus for quartz(dyne/cm**2)\n",
      "rho=2.6;                                     #density of quartz(g/cm**3)\n",
      "t=0.4;                                       #thickness(cm)\n",
      "\n",
      "#Calculation\n",
      "f=((1/(2*t))*math.sqrt(Y/rho))*10**-3;              #frequency(kHz)\n",
      "\n",
      "#Result\n",
      "print \"The frequency of ultrasonic waves produced is\",int(f),\"kHz\""
     ],
     "language": "python",
     "metadata": {},
     "outputs": [
      {
       "output_type": "stream",
       "stream": "stdout",
       "text": [
        "The frequency of ultrasonic waves produced is 680 kHz\n"
       ]
      }
     ],
     "prompt_number": 11
    },
    {
     "cell_type": "heading",
     "level": 2,
     "metadata": {},
     "source": [
      "Example number 1.6, Page number 12"
     ]
    },
    {
     "cell_type": "code",
     "collapsed": false,
     "input": [
      "#importing modules\n",
      "import math\n",
      "from __future__ import division\n",
      "\n",
      "#Variable declaration\n",
      "Y=81*10**10;                              #Young's modulus for barium titanate(dynes/cm**2)\n",
      "rho=5.51;                                 #density of barium titanate(g/cm**3)\n",
      "f=900;                                    #frequency of ultrasonic waves(kHZ)\n",
      "\n",
      "#Calculation\n",
      "t=((1/(2*f))*math.sqrt(Y/rho))*10**-2;           #thickness of crystal(mm)\n",
      "\n",
      "#Result\n",
      "print \"The thickness of the crystal to produce ultrasonic waves is\",round(t,2),\"mm\""
     ],
     "language": "python",
     "metadata": {},
     "outputs": [
      {
       "output_type": "stream",
       "stream": "stdout",
       "text": [
        "The thickness of the crystal to produce ultrasonic waves is 2.13 mm\n"
       ]
      }
     ],
     "prompt_number": 13
    },
    {
     "cell_type": "heading",
     "level": 2,
     "metadata": {},
     "source": [
      "Example number 1.7, Page number 13"
     ]
    },
    {
     "cell_type": "code",
     "collapsed": false,
     "input": [
      "#importing modules\n",
      "import math\n",
      "from __future__ import division\n",
      "\n",
      "#Variable declaration\n",
      "r=3;                        #distance(m)\n",
      "I=0.86;                     #Intensity of sound source(W/m**2)\n",
      "\n",
      "#Calculation\n",
      "P=4*math.pi*r**2*I;             #Power of the sound source(W)\n",
      "\n",
      "#Result\n",
      "print \"The output power of the sound source is\",round(P,2),\"W\""
     ],
     "language": "python",
     "metadata": {},
     "outputs": [
      {
       "output_type": "stream",
       "stream": "stdout",
       "text": [
        "The output power of the sound source is 97.26 W\n"
       ]
      }
     ],
     "prompt_number": 15
    },
    {
     "cell_type": "heading",
     "level": 2,
     "metadata": {},
     "source": [
      "Example number 1.8, Page number 13"
     ]
    },
    {
     "cell_type": "code",
     "collapsed": false,
     "input": [
      "#importing modules\n",
      "import math\n",
      "from __future__ import division\n",
      "\n",
      "#Variable declaration\n",
      "d=60;                    #Number of decibels given by 10*log(I/I0)\n",
      "I0=10**-12;               #Initial intensity of sound(W/m**2)\n",
      "I=10**-6;                 #since 10log(I/I0)=60\n",
      "r=200;                    #distance(m)\n",
      "\n",
      "#Calculation\n",
      "P=4*math.pi*r**2*I;      #output power of the sound source(W)\n",
      "\n",
      "#Result\n",
      "print \"The output power of the sound source is\",round(P,1),\"W\""
     ],
     "language": "python",
     "metadata": {},
     "outputs": [
      {
       "output_type": "stream",
       "stream": "stdout",
       "text": [
        "The output power of the sound source is 0.5 W\n"
       ]
      }
     ],
     "prompt_number": 17
    },
    {
     "cell_type": "heading",
     "level": 2,
     "metadata": {},
     "source": [
      "Example number 1.9, Page number 13"
     ]
    },
    {
     "cell_type": "code",
     "collapsed": false,
     "input": [
      "#importing modules\n",
      "import math\n",
      "from __future__ import division\n",
      "\n",
      "#Variable declaration\n",
      "V=9250;                       #volume of the hall(m**3)\n",
      "A=900;                        #Total absorption(m**2 sabine)\n",
      "\n",
      "#Calculation\n",
      "T=(0.161*V)/A;                 #Reverberation time(s)\n",
      "\n",
      "#Result\n",
      "print \"The reverberation time in a hall is\",round(T,2),\"s\""
     ],
     "language": "python",
     "metadata": {},
     "outputs": [
      {
       "output_type": "stream",
       "stream": "stdout",
       "text": [
        "The reverberation time in a hall is 1.65 s\n"
       ]
      }
     ],
     "prompt_number": 19
    },
    {
     "cell_type": "heading",
     "level": 2,
     "metadata": {},
     "source": [
      "Example number 1.10, Page number 13"
     ]
    },
    {
     "cell_type": "code",
     "collapsed": false,
     "input": [
      "#importing modules\n",
      "import math\n",
      "from __future__ import division\n",
      "\n",
      "#Variable declaration\n",
      "f1=400;                          #Initial frequency(kHZ)\n",
      "f2=500;                          #New frequency(kHZ)\n",
      "t1=3;                           #initial thickness of the crystal(mm)\n",
      "\n",
      "#Calculation\n",
      "t2=(f1*t1)/f2;                  #required thickness(mm)\n",
      "\n",
      "#Result\n",
      "print \"The required thickness of the crystal is\",t2,\"mm\""
     ],
     "language": "python",
     "metadata": {},
     "outputs": [
      {
       "output_type": "stream",
       "stream": "stdout",
       "text": [
        "The required thickness of the crystal is 2.4 mm\n"
       ]
      }
     ],
     "prompt_number": 20
    },
    {
     "cell_type": "heading",
     "level": 2,
     "metadata": {},
     "source": [
      "Example number 1.11, Page number 13"
     ]
    },
    {
     "cell_type": "code",
     "collapsed": false,
     "input": [
      "#importing modules\n",
      "import math\n",
      "from __future__ import division\n",
      "\n",
      "#Variable declaration\n",
      "t1=2;                     #Initial thickness(mm)\n",
      "t2=2.8;                   #New thickness(mm)\n",
      "\n",
      "#Calculation\n",
      "F=t1/t2;                  #ratio of new to old frequencies\n",
      "\n",
      "#Result\n",
      "print \"The ratio of new to old frequencies is\",round(F,3),"
     ],
     "language": "python",
     "metadata": {},
     "outputs": [
      {
       "output_type": "stream",
       "stream": "stdout",
       "text": [
        "The ratio of new to old frequencies is 0.714\n"
       ]
      }
     ],
     "prompt_number": 23
    }
   ],
   "metadata": {}
  }
 ]
}