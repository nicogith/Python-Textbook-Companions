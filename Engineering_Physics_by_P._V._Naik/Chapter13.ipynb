{
 "metadata": {
  "name": "",
  "signature": "sha256:46a82c7fe1b65af7ee26b9fa38521b26c61cee31bc75dd5001fe45442416739c"
 },
 "nbformat": 3,
 "nbformat_minor": 0,
 "worksheets": [
  {
   "cells": [
    {
     "cell_type": "heading",
     "level": 1,
     "metadata": {},
     "source": [
      "13: Optical Fibre"
     ]
    },
    {
     "cell_type": "heading",
     "level": 2,
     "metadata": {},
     "source": [
      "Example number 13.1, Page number 250"
     ]
    },
    {
     "cell_type": "code",
     "collapsed": false,
     "input": [
      "#importing modules\n",
      "import math\n",
      "from __future__ import division\n",
      "\n",
      "#Variable declaration\n",
      "n1=1.49;                    #refractive index of core\n",
      "n2=1.46;                    #refractive index of cladding\n",
      "\n",
      "#Calculation                        \n",
      "NA=math.sqrt((n1**2)-(n2**2));      #Numerical aperture\n",
      "\n",
      "#Result\n",
      "print \"The numerical aperture is\",round(NA,1)"
     ],
     "language": "python",
     "metadata": {},
     "outputs": [
      {
       "output_type": "stream",
       "stream": "stdout",
       "text": [
        "The numerical aperture is 0.3\n"
       ]
      }
     ],
     "prompt_number": 2
    },
    {
     "cell_type": "heading",
     "level": 2,
     "metadata": {},
     "source": [
      "Example number 13.2, Page number 250"
     ]
    },
    {
     "cell_type": "code",
     "collapsed": false,
     "input": [
      "#importing modules\n",
      "import math\n",
      "from __future__ import division\n",
      "\n",
      "#Variable declaration\n",
      "NA=0.5;                       #numerical aperture of fibre \n",
      "n0=1;                         #refractive index of the medium(air)\n",
      "\n",
      "#Calculation                        \n",
      "i=math.asin(NA/n0);           #acceptance angle(radian)\n",
      "i=i*180/math.pi;         #angle(degrees)\n",
      "\n",
      "#Result\n",
      "print \"The acceptance angle is\",i,\"degrees\""
     ],
     "language": "python",
     "metadata": {},
     "outputs": [
      {
       "output_type": "stream",
       "stream": "stdout",
       "text": [
        "The acceptance angle is 30.0 degrees\n"
       ]
      }
     ],
     "prompt_number": 3
    },
    {
     "cell_type": "heading",
     "level": 2,
     "metadata": {},
     "source": [
      "Example number 13.3, Page number 250"
     ]
    },
    {
     "cell_type": "code",
     "collapsed": false,
     "input": [
      "\n",
      "#importing modules\n",
      "import math\n",
      "from __future__ import division\n",
      "\n",
      "#Variable declaration\n",
      "NA=0.25;                        #numerical apperture\n",
      "lamda=0.75;                    #wavelength(micro m)\n",
      "a=25;                           #core radius(micro m)\n",
      "\n",
      "#Calculation                        \n",
      "f=(2*math.pi*a*NA)/lamda;      #normalised frequency\n",
      "Ng=(f**2)/2;                    #number of guided modes\n",
      "\n",
      "#Result\n",
      "print \"The number of guided modes is\",int(Ng)"
     ],
     "language": "python",
     "metadata": {},
     "outputs": [
      {
       "output_type": "stream",
       "stream": "stdout",
       "text": [
        "The number of guided modes is 1370\n"
       ]
      }
     ],
     "prompt_number": 6
    },
    {
     "cell_type": "heading",
     "level": 2,
     "metadata": {},
     "source": [
      "Example number 13.4, Page number 250"
     ]
    },
    {
     "cell_type": "code",
     "collapsed": false,
     "input": [
      "#importing modules\n",
      "import math\n",
      "from __future__ import division\n",
      "\n",
      "#Variable declaration\n",
      "pi=100;                 #mean optical power launched(micro m)\n",
      "po=5;                   #mean optical power at fibre output(micro W)\n",
      "l=6;                    #length(km)\n",
      "\n",
      "#Calculation                        \n",
      "S=10*math.log10(pi/po);         #signal attenuation(dB)\n",
      "Sk=S/l;                 #signal attenuation(dB/km)\n",
      "\n",
      "#Result\n",
      "print \"The signal attenuation is\",round(Sk,3),\"dB/km\""
     ],
     "language": "python",
     "metadata": {},
     "outputs": [
      {
       "output_type": "stream",
       "stream": "stdout",
       "text": [
        "The signal attenuation is 2.168 dB/km\n"
       ]
      }
     ],
     "prompt_number": 8
    },
    {
     "cell_type": "heading",
     "level": 2,
     "metadata": {},
     "source": [
      "Example number 13.5, Page number 250"
     ]
    },
    {
     "cell_type": "code",
     "collapsed": false,
     "input": [
      "#importing modules\n",
      "import math\n",
      "from __future__ import division\n",
      "\n",
      "#Variable declaration\n",
      "ns=2.89;                 #sum of refractive indices of core & cladding\n",
      "nd=0.03;                 #difference of refractive indices of core & cladding\n",
      "\n",
      "#Calculation                        \n",
      "NA=math.sqrt(ns*nd);         #numerical apperture\n",
      "\n",
      "#Result\n",
      "print \"The numerical apperture for the optical fibre is\",round(NA,2)"
     ],
     "language": "python",
     "metadata": {},
     "outputs": [
      {
       "output_type": "stream",
       "stream": "stdout",
       "text": [
        "The numerical apperture for the optical fibre is 0.29\n"
       ]
      }
     ],
     "prompt_number": 10
    },
    {
     "cell_type": "heading",
     "level": 2,
     "metadata": {},
     "source": [
      "Example number 13.6, Page number 250"
     ]
    },
    {
     "cell_type": "code",
     "collapsed": false,
     "input": [
      "#importing modules\n",
      "import math\n",
      "from __future__ import division\n",
      "\n",
      "#Variable declaration\n",
      "NA=0.28;                  #numerical aperture\n",
      "a=30;                     #core radius(micro m)\n",
      "lamda=0.8;               #wavelength(micro m)\n",
      "\n",
      "#Calculation                        \n",
      "f=(2*math.pi*a*NA)/lamda;           #normalised frequency\n",
      "Ng=f**2/2;                           #number of guided modes\n",
      "\n",
      "#Result\n",
      "print \"The number of guided modes is\",int(Ng)\n",
      "print \"answer in the book varies due to rounding off errors\""
     ],
     "language": "python",
     "metadata": {},
     "outputs": [
      {
       "output_type": "stream",
       "stream": "stdout",
       "text": [
        "The number of guided modes is 2176\n",
        "answer in the book varies due to rounding off errors\n"
       ]
      }
     ],
     "prompt_number": 14
    },
    {
     "cell_type": "heading",
     "level": 2,
     "metadata": {},
     "source": [
      "Example number 13.7, Page number 250"
     ]
    },
    {
     "cell_type": "code",
     "collapsed": false,
     "input": [
      "#importing modules\n",
      "import math\n",
      "from __future__ import division\n",
      "\n",
      "#Variable declaration\n",
      "S=2;                  #signal attenuation(dB/km)\n",
      "l=1;                  #length(km)\n",
      "p0=20;                #mean optical power at fibre output(micro W)\n",
      "\n",
      "#Calculation                        \n",
      "pi=p0*10**(S/10);     #mean optical power launched into fibre(micro W)\n",
      "\n",
      "#Result\n",
      "print \"The mean optical power launched into a fibre is\",round(pi,1),\"micro W\""
     ],
     "language": "python",
     "metadata": {},
     "outputs": [
      {
       "output_type": "stream",
       "stream": "stdout",
       "text": [
        "The mean optical power launched into a fibre is 31.7 micro W\n"
       ]
      }
     ],
     "prompt_number": 16
    },
    {
     "cell_type": "heading",
     "level": 2,
     "metadata": {},
     "source": [
      "Example number 13.8, Page number 251"
     ]
    },
    {
     "cell_type": "code",
     "collapsed": false,
     "input": [
      "#importing modules\n",
      "import math\n",
      "from __future__ import division\n",
      "\n",
      "#Variable declaration\n",
      "S=2.3;                #Signal attenuation(dB/km)\n",
      "l=4;                  #length(km)\n",
      "\n",
      "#Calculation                        \n",
      "S=S*l;                #signal attenuation for 4km in dB\n",
      "P=10**(S/10);         #ratio of mean optical power\n",
      "\n",
      "#Result\n",
      "print \"ratio of mean optical power is\",round(P,1)"
     ],
     "language": "python",
     "metadata": {},
     "outputs": [
      {
       "output_type": "stream",
       "stream": "stdout",
       "text": [
        "ratio of mean optical power is 8.3\n"
       ]
      }
     ],
     "prompt_number": 18
    },
    {
     "cell_type": "heading",
     "level": 2,
     "metadata": {},
     "source": [
      "Example number 13.9, Page number 251"
     ]
    },
    {
     "cell_type": "code",
     "collapsed": false,
     "input": [
      "#importing modules\n",
      "import math\n",
      "from __future__ import division\n",
      "\n",
      "#Variable declaration\n",
      "op=1/4;          #ratio\n",
      "\n",
      "#Calculation                        \n",
      "#S=10*log(pi/po)\n",
      "S=10*math.log10(1/op);         #signal attenuation(dB)\n",
      "\n",
      "#Result\n",
      "print \"Signal attenuation is\",int(S),\"dB\""
     ],
     "language": "python",
     "metadata": {},
     "outputs": [
      {
       "output_type": "stream",
       "stream": "stdout",
       "text": [
        "Signal attenuation is 6 dB\n"
       ]
      }
     ],
     "prompt_number": 20
    }
   ],
   "metadata": {}
  }
 ]
}