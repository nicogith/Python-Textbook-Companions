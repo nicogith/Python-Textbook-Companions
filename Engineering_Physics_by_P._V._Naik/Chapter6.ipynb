{
 "metadata": {
  "name": "",
  "signature": "sha256:015049a6d28a54143e382d872ce51260f52be159a8159c04fe93d876c0cea685"
 },
 "nbformat": 3,
 "nbformat_minor": 0,
 "worksheets": [
  {
   "cells": [
    {
     "cell_type": "heading",
     "level": 1,
     "metadata": {},
     "source": [
      "6: Polarisation"
     ]
    },
    {
     "cell_type": "heading",
     "level": 2,
     "metadata": {},
     "source": [
      "Example number 6.1, Page number 108"
     ]
    },
    {
     "cell_type": "code",
     "collapsed": false,
     "input": [
      "#importing modules\n",
      "import math\n",
      "from __future__ import division\n",
      "\n",
      "#Variable declaration\n",
      "mew=1.63;              #refractive index of the glass plate\n",
      "\n",
      "#Calculation                        \n",
      "#tan ip=mew\n",
      "ip=math.atan(mew);        #ip=polarising angle(radian)\n",
      "ip=ip*180/math.pi;     #ip=polarising angle(degrees)\n",
      "#ip+r=90\n",
      "r=90-ip;              #angle of refraction(degrees)\n",
      "rd=int(r);      #angle(degrees)\n",
      "rm=round(60*(r-rd));     #angle(minutes)\n",
      "\n",
      "#Result\n",
      "print \"The angle of refraction is\",rd,\"degrees\",rm,\"minutes\""
     ],
     "language": "python",
     "metadata": {},
     "outputs": [
      {
       "output_type": "stream",
       "stream": "stdout",
       "text": [
        "The angle of refraction is 31 degrees 32.0 minutes\n"
       ]
      }
     ],
     "prompt_number": 4
    },
    {
     "cell_type": "heading",
     "level": 2,
     "metadata": {},
     "source": [
      "Example number 6.2, Page number 108"
     ]
    },
    {
     "cell_type": "code",
     "collapsed": false,
     "input": [
      "#importing modules\n",
      "import math\n",
      "from __future__ import division\n",
      "\n",
      "#Variable declaration\n",
      "#I=I0(cos^2(teta))\n",
      "theta=50;                #angle made between two principle planes(degrees)\n",
      "\n",
      "#Calculation                        \n",
      "theta=theta*math.pi/180;   #angle(radian)\n",
      "I=(math.cos(theta))**2;         #incident unpolarized light\n",
      "#percentage of incident unpolarised light is (I/I0)*100 where I0 is incident polarised light\n",
      "p=I*100;      #percentage of incident unpolarized light(%)\n",
      "\n",
      "#Result\n",
      "print \"The percentage of incident unpolarized light is\",int(p),\"%\""
     ],
     "language": "python",
     "metadata": {},
     "outputs": [
      {
       "output_type": "stream",
       "stream": "stdout",
       "text": [
        "The percentage of incident unpolarized light is 41 %\n"
       ]
      }
     ],
     "prompt_number": 6
    },
    {
     "cell_type": "heading",
     "level": 2,
     "metadata": {},
     "source": [
      "Example number 6.3, Page number 108"
     ]
    },
    {
     "cell_type": "code",
     "collapsed": false,
     "input": [
      "#importing modules\n",
      "import math\n",
      "from __future__ import division\n",
      "\n",
      "#Variable declaration\n",
      "#I=I0*cos^2(teta)\n",
      "#cos^2(teta)=I/I0\n",
      "a=0.08;                #a=I/I0;where I=incident unpolarized light & I0=incident polarized light\n",
      "\n",
      "#Calculation                        \n",
      "theta=math.acos(math.sqrt(a));    #angle between planes of transmission of analyser and polariser(radian)\n",
      "theta=theta*180/math.pi;     #angle(degrees)\n",
      "thetad=int(theta);     #angle(degrees)\n",
      "thetam=round(60*(theta-thetad));     #angle(minutes)\n",
      "\n",
      "#Result\n",
      "print \"The angle between the planes of transmission of analyser & polariser is +(or)- \",thetad,\"degrees\",thetam,\"minutes\""
     ],
     "language": "python",
     "metadata": {},
     "outputs": [
      {
       "output_type": "stream",
       "stream": "stdout",
       "text": [
        "The angle between the planes of transmission of analyser & polariser is +(or)-  73 degrees 34.0 minutes\n"
       ]
      }
     ],
     "prompt_number": 9
    },
    {
     "cell_type": "heading",
     "level": 2,
     "metadata": {},
     "source": [
      "Example number 6.4, Page number 108"
     ]
    },
    {
     "cell_type": "code",
     "collapsed": false,
     "input": [
      "#importing modules\n",
      "import math\n",
      "from __future__ import division\n",
      "\n",
      "#Variable declaration\n",
      "#IE=A^2(cos^2(teta));IO=A^2(sin^2(teta))\n",
      "#I0/IE=tan^2(teta)\n",
      "theta=40;                    #angle made between incident beam & optic axis(degrees)\n",
      "\n",
      "#Calculation                        \n",
      "theta=theta*math.pi/180;   #angle(radian)\n",
      "a=math.tan(theta)**2;                  #I0/IE\n",
      "\n",
      "#Result\n",
      "print \"I0/IE=\",round(a,1)"
     ],
     "language": "python",
     "metadata": {},
     "outputs": [
      {
       "output_type": "stream",
       "stream": "stdout",
       "text": [
        "I0/IE= 0.7\n"
       ]
      }
     ],
     "prompt_number": 11
    },
    {
     "cell_type": "heading",
     "level": 2,
     "metadata": {},
     "source": [
      "Example number 6.5, Page number 108"
     ]
    },
    {
     "cell_type": "code",
     "collapsed": false,
     "input": [
      "#importing modules\n",
      "import math\n",
      "from __future__ import division\n",
      "\n",
      "#Variable declaration\n",
      "lamda=589;                              #wavelength of light(nm)\n",
      "mew0=1.54;                               #refractive index for ordinary wave\n",
      "mewE=1.55;                               #refractive index for extraordinary wave\n",
      "\n",
      "#Calculation                        \n",
      "t=lamda/(4*(mewE-mew0))*10**-3;         #thickness(micro m)\n",
      "\n",
      "#Result\n",
      "print \"The thickness of a quarter-wave plate is\",t,\"micro m\""
     ],
     "language": "python",
     "metadata": {},
     "outputs": [
      {
       "output_type": "stream",
       "stream": "stdout",
       "text": [
        "The thickness of a quarter-wave plate is 14.725 micro m\n"
       ]
      }
     ],
     "prompt_number": 13
    },
    {
     "cell_type": "heading",
     "level": 2,
     "metadata": {},
     "source": [
      "Example number 6.6, Page number 109"
     ]
    },
    {
     "cell_type": "code",
     "collapsed": false,
     "input": [
      "#importing modules\n",
      "import math\n",
      "from __future__ import division\n",
      "\n",
      "#Variable declaration\n",
      "ip=52;                               #angle of polarization(degrees)\n",
      "\n",
      "#Calculation                        \n",
      "ip=ip*math.pi/180;   #angle(radian)\n",
      "mew=math.tan(ip);                    #refractive index of the material surface\n",
      "\n",
      "#Result\n",
      "print \"The refractive index of the material surface is\",round(mew,2)"
     ],
     "language": "python",
     "metadata": {},
     "outputs": [
      {
       "output_type": "stream",
       "stream": "stdout",
       "text": [
        "The refractive index of the material surface is 1.28\n"
       ]
      }
     ],
     "prompt_number": 15
    },
    {
     "cell_type": "heading",
     "level": 2,
     "metadata": {},
     "source": [
      "Example number 6.7, Page number 109"
     ]
    },
    {
     "cell_type": "code",
     "collapsed": false,
     "input": [
      "#importing modules\n",
      "import math\n",
      "from __future__ import division\n",
      "\n",
      "#Variable declaration\n",
      "r=33;                      #angle of refraction(degrees)\n",
      "\n",
      "#Calculation                        \n",
      "ip=90-r;                   #polarising angle(degrees)\n",
      "ip=ip*math.pi/180;     #angle(radian)\n",
      "mew=math.tan(ip);          #refractive index of quartz\n",
      "\n",
      "#Result\n",
      "print \"The refractive index of quartz is\",round(mew,2)"
     ],
     "language": "python",
     "metadata": {},
     "outputs": [
      {
       "output_type": "stream",
       "stream": "stdout",
       "text": [
        "The refractive index of quartz is 1.54\n"
       ]
      }
     ],
     "prompt_number": 18
    },
    {
     "cell_type": "heading",
     "level": 2,
     "metadata": {},
     "source": [
      "Example number 6.8, Page number 109"
     ]
    },
    {
     "cell_type": "code",
     "collapsed": false,
     "input": [
      "#importing modules\n",
      "import math\n",
      "from __future__ import division\n",
      "\n",
      "#Variable declaration\n",
      "#IE=A^2*cos^2(teta);IO=A^2*sin^2(teta)\n",
      "#I0/IE=tan^2(teta)=0.65\n",
      "a=0.65;                        #ratio of intensities of ordinary & extraordinary light\n",
      "\n",
      "#Calculation                        \n",
      "theta=math.atan(math.sqrt(a));           #angle made by plane of vibration of the incident light with optic axis(radian)\n",
      "theta=theta*180/math.pi;      #angle(degrees)\n",
      "thetad=int(theta);     #angle(degrees)\n",
      "thetam=int(60*(theta-thetad));\n",
      "\n",
      "#Result\n",
      "print \"The angle made by the plane of vibration of incident light with the optic axis is\",thetad,\"degrees\",thetam,\"minutes\""
     ],
     "language": "python",
     "metadata": {},
     "outputs": [
      {
       "output_type": "stream",
       "stream": "stdout",
       "text": [
        "The angle made by the plane of vibration of incident light with the optic axis is 38 degrees 52 minutes\n"
       ]
      }
     ],
     "prompt_number": 20
    },
    {
     "cell_type": "heading",
     "level": 2,
     "metadata": {},
     "source": [
      "Example number 6.9, Page number 109"
     ]
    },
    {
     "cell_type": "code",
     "collapsed": false,
     "input": [
      "#importing modules\n",
      "import math\n",
      "from __future__ import division\n",
      "\n",
      "#Variable declaration\n",
      "mew0=1.544;                                  #refractive index of ordinary waves\n",
      "mewE=1.553;                                  #refractive index of extraordinary waves\n",
      "lamda=550;                                  #wavelength(nm) \n",
      "t=9;\n",
      "\n",
      "#Calculation                        \n",
      "delta=((2*180)/(lamda*(10**-9)))*(mewE-mew0)*t*(10**-6);           #phase difference(degrees)\n",
      "\n",
      "#Result\n",
      "print \"The phase difference between O and E rays is\",int(delta),\"degrees\""
     ],
     "language": "python",
     "metadata": {},
     "outputs": [
      {
       "output_type": "stream",
       "stream": "stdout",
       "text": [
        "The phase difference between O and E rays is 53 degrees\n"
       ]
      }
     ],
     "prompt_number": 23
    },
    {
     "cell_type": "heading",
     "level": 2,
     "metadata": {},
     "source": [
      "Example number 6.10, Page number 109"
     ]
    },
    {
     "cell_type": "code",
     "collapsed": false,
     "input": [
      "#importing modules\n",
      "import math\n",
      "from __future__ import division\n",
      "\n",
      "#Variable declaration\n",
      "delta=50;                                #phase difference(degrees)\n",
      "mewE=1.544;                              #refractive index of extraordinary waves\n",
      "mew0=1.553;                              #refractive index of ordinary waves\n",
      "t=8;                                     #thickness(nm)\n",
      "\n",
      "#Calculation                        \n",
      "lamda=((2*180)/delta)*(mew0-mewE)*t*10**-6*10**9;              #wavelength of light incident(nm)\n",
      "\n",
      "#Result\n",
      "print \"The wavelength of light incident is\",lamda,\"nm\""
     ],
     "language": "python",
     "metadata": {},
     "outputs": [
      {
       "output_type": "stream",
       "stream": "stdout",
       "text": [
        "The wavelength of light incident is 518.4 nm\n"
       ]
      }
     ],
     "prompt_number": 25
    }
   ],
   "metadata": {}
  }
 ]
}