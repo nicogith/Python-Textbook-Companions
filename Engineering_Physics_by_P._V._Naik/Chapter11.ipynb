{
 "metadata": {
  "name": "",
  "signature": "sha256:1d5f4970753c62d94a2bd202867cc0f79046f1baac4b1a42721a5ae6844ad5f4"
 },
 "nbformat": 3,
 "nbformat_minor": 0,
 "worksheets": [
  {
   "cells": [
    {
     "cell_type": "heading",
     "level": 1,
     "metadata": {},
     "source": [
      "11: Nuclear Radiations and Detectors"
     ]
    },
    {
     "cell_type": "heading",
     "level": 2,
     "metadata": {},
     "source": [
      "Example number 11.1, Page number 227"
     ]
    },
    {
     "cell_type": "code",
     "collapsed": false,
     "input": [
      "#importing modules\n",
      "import math\n",
      "from __future__ import division\n",
      "\n",
      "#Variable declaration\n",
      "r0=1.2;              #radius(fm)\n",
      "A=7;                 #mass number \n",
      "\n",
      "#Calculation                        \n",
      "r=r0*A**(1/3);\t     #radius of Li(fm) \n",
      "\n",
      "#Result\n",
      "print \"The radius of Li is\",round(r,4),\"fm\""
     ],
     "language": "python",
     "metadata": {},
     "outputs": [
      {
       "output_type": "stream",
       "stream": "stdout",
       "text": [
        "The radius of Li is 2.2955 fm\n"
       ]
      }
     ],
     "prompt_number": 2
    },
    {
     "cell_type": "heading",
     "level": 2,
     "metadata": {},
     "source": [
      "Example number 11.2, Page number 227"
     ]
    },
    {
     "cell_type": "code",
     "collapsed": false,
     "input": [
      "#importing modules\n",
      "import math\n",
      "from __future__ import division\n",
      "\n",
      "#Variable declaration\n",
      "M=235.043945;         #atomic mass of uranium(u)\n",
      "Z=92;                 #atomic number of uranium\n",
      "mp=1.007825;          #mass of proton(kg)\n",
      "N=143;                #no.of neutrons\n",
      "mn=1.008665;          #mass of neutron(kg)\n",
      "A=235;                #number of nucleons\n",
      "\n",
      "#Calculation                        \n",
      "B=(((Z*mp)+(N*mn)-(M))/A)*931.5;            #Binding energy(MeV)\n",
      "\n",
      "#Result\n",
      "print \"The binding energy per nucleon is\",round(B,3),\"MeV\""
     ],
     "language": "python",
     "metadata": {},
     "outputs": [
      {
       "output_type": "stream",
       "stream": "stdout",
       "text": [
        "The binding energy per nucleon is 7.591 MeV\n"
       ]
      }
     ],
     "prompt_number": 4
    },
    {
     "cell_type": "heading",
     "level": 2,
     "metadata": {},
     "source": [
      "Example number 11.3, Page number 227"
     ]
    },
    {
     "cell_type": "code",
     "collapsed": false,
     "input": [
      "#importing modules\n",
      "import math\n",
      "from __future__ import division\n",
      "\n",
      "#Variable declaration\n",
      "#After removing one neutron from Ca(A=43;Z=20) it becomes Ca(A=42;Z=20)\n",
      "M=41.958622;             #mass of Ca(A=42;Z=20)(kg)\n",
      "mn=1.008665;             #mass of neutron(kg)\n",
      "E=42.95877;              #mass of Ca(A=43;Z=20)(kg)\n",
      "\n",
      "#Calculation                        \n",
      "C=M+mn;\n",
      "D=C-E;\n",
      "B=D*931.5;               #Binding energy of neutron(MeV)\n",
      "\n",
      "#Result\n",
      "print \"The binding energy of neutron is\",round(B,4),\"MeV\""
     ],
     "language": "python",
     "metadata": {},
     "outputs": [
      {
       "output_type": "stream",
       "stream": "stdout",
       "text": [
        "The binding energy of neutron is 7.9336 MeV\n"
       ]
      }
     ],
     "prompt_number": 7
    },
    {
     "cell_type": "heading",
     "level": 2,
     "metadata": {},
     "source": [
      "Example number 11.4, Page number 227"
     ]
    },
    {
     "cell_type": "code",
     "collapsed": false,
     "input": [
      "#importing modules\n",
      "import math\n",
      "from __future__ import division\n",
      "\n",
      "#Variable declaration\n",
      "mBe=9.012182;            #Atomic mass of beryllium(u)\n",
      "mHe=4.002603;            #Atomic mass of helium\n",
      "mn=1.008665;             #mass of neutron(kg)\n",
      "mC=12.000000;            #Atomic mass of carbon\n",
      "\n",
      "#Calculation                        \n",
      "Q=(mBe+mHe-mn-mC)*931.5        #energy balance of the reaction(MeV)\n",
      "\n",
      "#Result\n",
      "print \"The Q-value is\",round(Q,1),\"MeV\""
     ],
     "language": "python",
     "metadata": {},
     "outputs": [
      {
       "output_type": "stream",
       "stream": "stdout",
       "text": [
        "The Q-value is 5.7 MeV\n"
       ]
      }
     ],
     "prompt_number": 9
    },
    {
     "cell_type": "heading",
     "level": 2,
     "metadata": {},
     "source": [
      "Example number 11.5, Page number 227"
     ]
    },
    {
     "cell_type": "code",
     "collapsed": false,
     "input": [
      "#importing modules\n",
      "import math\n",
      "from __future__ import division\n",
      "\n",
      "#Variable declaration\n",
      "mLi=7.016004;              #mass of Lithium(A=7)(u)\n",
      "mH=1.007825;               #mass of Hydrogen(A=1)(u)\n",
      "mHe=4.002603;              #mass of helium(A=4)(u)\n",
      "p=0.5;                       #energy of proton(MeV)\n",
      "\n",
      "#Calculation                        \n",
      "Q=(mLi+mH-2*(mHe))*931.5     #energy balance of the reaction(MeV)\n",
      "#The energy of 2 alpha particles is equal to the Q-value + energy of proton.\n",
      "Ealpha=(Q+p)/2;              #energy of each alpha particle(MeV)\n",
      "\n",
      "#Result\n",
      "print \"The Q-value of the reaction is\",round(Q,2),\"MeV\"\n",
      "print \"The energy of each alpha particle is\",round(Ealpha,3),\"MeV\"\n",
      "print \"answer for energy in the book varies due to rounding off errors\""
     ],
     "language": "python",
     "metadata": {},
     "outputs": [
      {
       "output_type": "stream",
       "stream": "stdout",
       "text": [
        "The Q-value of the reaction is 17.35 MeV\n",
        "The energy of each alpha particle is 8.924 MeV\n",
        "answer for energy in the book varies due to rounding off errors\n"
       ]
      }
     ],
     "prompt_number": 14
    },
    {
     "cell_type": "heading",
     "level": 2,
     "metadata": {},
     "source": [
      "Example number 11.6, Page number 228"
     ]
    },
    {
     "cell_type": "code",
     "collapsed": false,
     "input": [
      "#importing modules\n",
      "import math\n",
      "from __future__ import division\n",
      "\n",
      "#Variable declaration\n",
      "wt=1000;            #weight(gm)\n",
      "A=235;              #mass number of uranium\n",
      "N=(6.02*10**23/A)*wt;         #no.of nuclei in 1kg of uranium\n",
      "Q=208;                          #energy-balance of the reaction\n",
      "\n",
      "#Calculation                        \n",
      "E=N*Q;                          #Energy released(MeV)\n",
      "#1MeV=4.45*10^-20kWh\n",
      "E=E*4.45*10**-20;\n",
      "\n",
      "#Result\n",
      "print \"The energy released is\",round(E/10**7,3),\"*10**7 kWh\""
     ],
     "language": "python",
     "metadata": {},
     "outputs": [
      {
       "output_type": "stream",
       "stream": "stdout",
       "text": [
        "The energy released is 2.371 *10**7 kWh\n"
       ]
      }
     ],
     "prompt_number": 16
    },
    {
     "cell_type": "heading",
     "level": 2,
     "metadata": {},
     "source": [
      "Example number 11.7, Page number 228"
     ]
    },
    {
     "cell_type": "code",
     "collapsed": false,
     "input": [
      "#importing modules\n",
      "import math\n",
      "from __future__ import division\n",
      "\n",
      "#Variable declaration\n",
      "wt=5000;                   #weight(gm)\n",
      "A=235;                     #mass number of uranium\n",
      "Ef=208;                    #Energy released per fission(MeV)\n",
      "\n",
      "#Calculation                        \n",
      "N=(6.02*10**23/A)*wt;      #number of nuclei in 5 Kg\n",
      "E=N*Ef;                    #Energy(MeV)\n",
      "E=E*1.6*10**-13;           #Energy(J)\n",
      "T=24*60*60;                #time\n",
      "P=E/T;                     #power(MW)\n",
      "\n",
      "#Result\n",
      "print \"The power output of a nuclear reactor is\",round(P/10**6),\"MW\"\n",
      "print \"answer given in the book is wrong\""
     ],
     "language": "python",
     "metadata": {},
     "outputs": [
      {
       "output_type": "stream",
       "stream": "stdout",
       "text": [
        "The power output of a nuclear reactor is 4934.0 MW\n",
        "answer given in the book is wrong\n"
       ]
      }
     ],
     "prompt_number": 19
    },
    {
     "cell_type": "heading",
     "level": 2,
     "metadata": {},
     "source": [
      "Example number 11.8, Page number 228"
     ]
    },
    {
     "cell_type": "code",
     "collapsed": false,
     "input": [
      "#importing modules\n",
      "import math\n",
      "from __future__ import division\n",
      "\n",
      "#Variable declaration\n",
      "A=235;                  #mass number of uranium\n",
      "p=1000;                 #amount of electric power produced(MW)\n",
      "e=0.32;                 #energy conversion efficiency of the plant\n",
      "f=200;                  #fission energy per event(MeV)\n",
      "\n",
      "#Calculation                        \n",
      "I=p/e;                  #Input nuclear energy(MW)\n",
      "TE=I*(10**6)*3600*24*365;           #total energy(J)\n",
      "EF=f*(10**6)*1.6*10**-19;           #Energy released per fission event(J)\n",
      "N=TE/EF;                            #Number of nuclei required\n",
      "M=N*A/(6.02*10**23);       #corresponding mass(g)\n",
      "\n",
      "#Result\n",
      "print \"The amount of uranium required is\",round(M*10**-3,1),\"kg\"\n",
      "print \"answer in the book varies due to rounding off errors\""
     ],
     "language": "python",
     "metadata": {},
     "outputs": [
      {
       "output_type": "stream",
       "stream": "stdout",
       "text": [
        "The amount of uranium required is 1202.2 kg\n",
        "answer in the book varies due to rounding off errors\n"
       ]
      }
     ],
     "prompt_number": 22
    },
    {
     "cell_type": "heading",
     "level": 2,
     "metadata": {},
     "source": [
      "Example number 11.9, Page number 229"
     ]
    },
    {
     "cell_type": "code",
     "collapsed": false,
     "input": [
      "#importing modules\n",
      "import math\n",
      "from __future__ import division\n",
      "\n",
      "#Variable declaration\n",
      "q=1.6*10**-19;                  #charge of the particle(c)\n",
      "B=1;                            #magnetic field(T)\n",
      "m=1.67*10**-27;                 #mass of proton(kg)\n",
      "r=0.5;                              #radius(m)\n",
      "\n",
      "#Calculation                        \n",
      "omega=(q*B)/m;                  #angular frequency(radian/s)\n",
      "v=(omega/(2*math.pi))*10**-8;           #frequency(MHz)\n",
      "s=omega*r;                          #speed of proton(m/s)\n",
      "K=(m*(s**2))*(1/2)*6.27*10**12;     #kinetic energy of protons emerging from cyclotron(MeV)\n",
      "\n",
      "#Result\n",
      "print \"The frequency of oscillator to accelerate protons is\",round(omega/10**8,2),\"*10**8 radian/s\"\n",
      "print \"The speed of proton is\",round(s/10**7,1),\"*10**7 m/s\"\n",
      "print \"The kinetic energy of protons emerging from the cyclotron is\",int(K),\"MeV\""
     ],
     "language": "python",
     "metadata": {},
     "outputs": [
      {
       "output_type": "stream",
       "stream": "stdout",
       "text": [
        "The frequency of oscillator to accelerate protons is 0.96 *10**8 radian/s\n",
        "The speed of proton is 4.8 *10**7 m/s\n",
        "The kinetic energy of protons emerging from the cyclotron is 12 MeV\n"
       ]
      }
     ],
     "prompt_number": 28
    },
    {
     "cell_type": "heading",
     "level": 2,
     "metadata": {},
     "source": [
      "Example number 11.10, Page number 229"
     ]
    },
    {
     "cell_type": "code",
     "collapsed": false,
     "input": [
      "#importing modules\n",
      "import math\n",
      "from __future__ import division\n",
      "\n",
      "#Variable declaration\n",
      "rho=1.83*10**17;                     #average density of carbon nucleus(kg/m^3)\n",
      "m=12;                                #mass(u)\n",
      "e=1.66*10**-27;\n",
      "\n",
      "#Calculation                        \n",
      "r=(m*e/((4/3)*math.pi*rho))**(1/3)*10**15;         #radius(fm)\n",
      "\n",
      "#Result\n",
      "print \"The radius is\",round(r,2),\"fm\""
     ],
     "language": "python",
     "metadata": {},
     "outputs": [
      {
       "output_type": "stream",
       "stream": "stdout",
       "text": [
        "The radius is 2.96 fm\n"
       ]
      }
     ],
     "prompt_number": 30
    },
    {
     "cell_type": "heading",
     "level": 2,
     "metadata": {},
     "source": [
      "Example number 11.11, Page number 229"
     ]
    },
    {
     "cell_type": "code",
     "collapsed": false,
     "input": [
      "#importing modules\n",
      "import math\n",
      "from __future__ import division\n",
      "\n",
      "#Variable declaration\n",
      "q=1.6*10**-19;              #charge of the particle(c)\n",
      "B=5;                        #magnetic field(T)\n",
      "m=9.1*10**-31;              #mass of electron(kg)\n",
      "\n",
      "#Calculation                        \n",
      "v=(q*B)/(2*math.pi*m);      #cyclotron frequency(Hz)\n",
      "\n",
      "#Result\n",
      "print \"cyclotron frequency of electron is\",round(v/10**11,1),\"*10**11 Hz\""
     ],
     "language": "python",
     "metadata": {},
     "outputs": [
      {
       "output_type": "stream",
       "stream": "stdout",
       "text": [
        "cyclotron frequency of electron is 1.4 *10**11 Hz\n"
       ]
      }
     ],
     "prompt_number": 32
    },
    {
     "cell_type": "heading",
     "level": 2,
     "metadata": {},
     "source": [
      "Example number 11.12, Page number 229"
     ]
    },
    {
     "cell_type": "code",
     "collapsed": false,
     "input": [
      "#importing modules\n",
      "import math\n",
      "from __future__ import division\n",
      "\n",
      "#Variable declaration\n",
      "k=1.5;                           #maximum kinetic energy(MeV)\n",
      "m=1.67*10**-27;                  #mass of proton(kg)\n",
      "q=1.6*10**-19;                   #charge of particle(c)\n",
      "r=0.35;                          #radius(m)\n",
      "\n",
      "#Calculation                        \n",
      "B=math.sqrt(k*10**6*q*2*m)/(q*r);           #magnetic field(T)\n",
      "\n",
      "#Result\n",
      "print \"The mgnetic field is\",round(B,1),\"T\""
     ],
     "language": "python",
     "metadata": {},
     "outputs": [
      {
       "output_type": "stream",
       "stream": "stdout",
       "text": [
        "The mgnetic field is 0.5 T\n"
       ]
      }
     ],
     "prompt_number": 34
    },
    {
     "cell_type": "heading",
     "level": 2,
     "metadata": {},
     "source": [
      "Example number 11.13, Page number 229"
     ]
    },
    {
     "cell_type": "code",
     "collapsed": false,
     "input": [
      "#importing modules\n",
      "import math\n",
      "from __future__ import division\n",
      "\n",
      "#Variable declaration\n",
      "m=1.67*10**-27;                       #mass of proton(kg)\n",
      "q=1.6*10**-19;                        #charge of particle(q)\n",
      "v=25;                                 #cyclotron frequency(MHz)\n",
      "\n",
      "#Calculation                        \n",
      "B=(v*10**6*2*math.pi*m)/q;          #magnetic field(T)\n",
      "\n",
      "#Result\n",
      "print \"The required magnetic field is\",round(B,4),\"T\""
     ],
     "language": "python",
     "metadata": {},
     "outputs": [
      {
       "output_type": "stream",
       "stream": "stdout",
       "text": [
        "The required magnetic field is 1.6395 T\n"
       ]
      }
     ],
     "prompt_number": 37
    },
    {
     "cell_type": "heading",
     "level": 2,
     "metadata": {},
     "source": [
      "Example number 11.14, Page number 229"
     ]
    },
    {
     "cell_type": "code",
     "collapsed": false,
     "input": [
      "#importing modules\n",
      "import math\n",
      "from __future__ import division\n",
      "\n",
      "#Variable declaration\n",
      "v=20;                 #cyclotron frequency(MHz)\n",
      "B=1.3;                #magnetic field(T)\n",
      "\n",
      "#Calculation                        \n",
      "d=2*math.pi*v*10**6/B;           #charge to mass ratio of proton(C/kg)\n",
      "\n",
      "#Result\n",
      "print \"charge to mass ratio of proton is\",round(d/10**6,2),\"*10**6 C/kg\""
     ],
     "language": "python",
     "metadata": {},
     "outputs": [
      {
       "output_type": "stream",
       "stream": "stdout",
       "text": [
        "charge to mass ratio of proton is 96.66 *10**6 C/kg\n"
       ]
      }
     ],
     "prompt_number": 39
    }
   ],
   "metadata": {}
  }
 ]
}