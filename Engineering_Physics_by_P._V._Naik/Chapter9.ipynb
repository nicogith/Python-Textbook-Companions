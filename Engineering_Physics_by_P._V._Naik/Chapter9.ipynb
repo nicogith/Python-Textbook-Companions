{
 "metadata": {
  "name": "",
  "signature": "sha256:495ac96015f20ad80c50d2c1722e924721169f0ca7b7ca56739c5ef92f3f2a43"
 },
 "nbformat": 3,
 "nbformat_minor": 0,
 "worksheets": [
  {
   "cells": [
    {
     "cell_type": "heading",
     "level": 1,
     "metadata": {},
     "source": [
      "9: Quantum Theory"
     ]
    },
    {
     "cell_type": "heading",
     "level": 2,
     "metadata": {},
     "source": [
      "Example number 9.1, Page number 171"
     ]
    },
    {
     "cell_type": "code",
     "collapsed": false,
     "input": [
      "#importing modules\n",
      "import math\n",
      "from __future__ import division\n",
      "\n",
      "#Variable declaration\n",
      "r=0.05;                  #radius of the wire(mm)\n",
      "l=4;                     #length of the wire(cm)\n",
      "e=1;\n",
      "T=3000;                  #temperature(K)\n",
      "s=5.6703*10**-8;         #stefan's constant \n",
      "\n",
      "#Calculation  \n",
      "A=2*math.pi*r*l*10**-5;      #area(m**2)\n",
      "p=s*T**4*A*e;            #power radiated by the filament(W)\n",
      "\n",
      "#Result\n",
      "print \"The power radiated by the filament is\",round(p,2),\"W\"\n",
      "print \"answer given in the book is wrong\""
     ],
     "language": "python",
     "metadata": {},
     "outputs": [
      {
       "output_type": "stream",
       "stream": "stdout",
       "text": [
        "The power radiated by the filament is 57.72 W\n",
        "answer given in the book is wrong\n"
       ]
      }
     ],
     "prompt_number": 7
    },
    {
     "cell_type": "heading",
     "level": 2,
     "metadata": {},
     "source": [
      "Example number 9.2, Page number 171"
     ]
    },
    {
     "cell_type": "code",
     "collapsed": false,
     "input": [
      "#importing modules\n",
      "import math\n",
      "from __future__ import division\n",
      "\n",
      "#Variable declaration\n",
      "h=6.626*10**-34;                   #plancks constant\n",
      "c=3*10**8;                         #speed of light(m/s)\n",
      "lamda=550;                        #wavelength(nm)\n",
      "\n",
      "#Calculation                        \n",
      "E=(h*c)/(lamda*10**-9);           #energy of photon(J)\n",
      "Es=0.1/E;                          #number of photons(per square cm per second)\n",
      "\n",
      "#Result\n",
      "print \"The number of photons are\",round(Es/10**17,2),\"*10**17 per square cm per second\"\n",
      "print \"answer in the book varies due to rounding off errors\""
     ],
     "language": "python",
     "metadata": {},
     "outputs": [
      {
       "output_type": "stream",
       "stream": "stdout",
       "text": [
        "The number of photons are 2.77 *10**17 per square cm per second\n",
        "answer in the book varies due to rounding off errors\n"
       ]
      }
     ],
     "prompt_number": 11
    },
    {
     "cell_type": "heading",
     "level": 2,
     "metadata": {},
     "source": [
      "Example number 9.3, Page number 171"
     ]
    },
    {
     "cell_type": "code",
     "collapsed": false,
     "input": [
      "#importing modules\n",
      "import math\n",
      "from __future__ import division\n",
      "\n",
      "#Variable declaration\n",
      "h=6.626*10**-34;                      #plancks constant\n",
      "c=3*10**8;                            #speed of light(m/s)\n",
      "lamda=300*10**-9;                    #wavelength(m)\n",
      "e=1.6*10**-19;\n",
      "phi=2.2;                              #work function(eV)\n",
      "\n",
      "#Calculation                        \n",
      "E=(h*c)/lamda;                       #energy of photon(J)\n",
      "Kmax=(E-(phi*e))/e;                           #maximum kinetic energy(eV)\n",
      "\n",
      "#Result\n",
      "print \"The maximum kinetic energy  is\",round(Kmax,2),\"eV\""
     ],
     "language": "python",
     "metadata": {},
     "outputs": [
      {
       "output_type": "stream",
       "stream": "stdout",
       "text": [
        "The maximum kinetic energy  is 1.94 eV\n"
       ]
      }
     ],
     "prompt_number": 17
    },
    {
     "cell_type": "heading",
     "level": 2,
     "metadata": {},
     "source": [
      "Example number 9.4, Page number 172"
     ]
    },
    {
     "cell_type": "code",
     "collapsed": false,
     "input": [
      "#importing modules\n",
      "import math\n",
      "from __future__ import division\n",
      "\n",
      "#Variable declaration\n",
      "h=6.626*10**-34;                      #plancks constant\n",
      "c=3*10**8;                            #speed of light(m/s)\n",
      "lamda=175*10**-9;                    #wavelength of light(m)\n",
      "w=5;                                  #work function of nickel(eV)\n",
      "\n",
      "#Calculation                        \n",
      "E=(h*c)/(lamda*1.6*10**-19);         #Energy of 200 nm photon(eV)\n",
      "#From photoelectric equation E-w is the potential difference\n",
      "p=E-w;                                #potential difference required to stop the fastest electron(eV)\n",
      "\n",
      "#Result\n",
      "print \"The potential difference that should be applied is\",round(p,1),\"V\""
     ],
     "language": "python",
     "metadata": {},
     "outputs": [
      {
       "output_type": "stream",
       "stream": "stdout",
       "text": [
        "The potential difference that should be applied is 2.1 V\n"
       ]
      }
     ],
     "prompt_number": 21
    },
    {
     "cell_type": "heading",
     "level": 2,
     "metadata": {},
     "source": [
      "Example number 9.5, Page number 172"
     ]
    },
    {
     "cell_type": "code",
     "collapsed": false,
     "input": [
      "#importing modules\n",
      "import math\n",
      "from __future__ import division\n",
      "\n",
      "#Variable declaration\n",
      "h=6.626*10**-34;                   #plancks constant\n",
      "c=3*10**8;                         #speed of light(m/s)\n",
      "e=1.6*10**-19;\n",
      "V=50;                              #accelerating voltage(kV)\n",
      "\n",
      "#Calculation                        \n",
      "lambdamin=((h*c)/(e*V*10**3))*10**9;      #shortest wavelength of X-rays(nm)\n",
      "\n",
      "#Result\n",
      "print \"The shortest wavelength of X-rays is\",round(lambdamin,4),\"nm\""
     ],
     "language": "python",
     "metadata": {},
     "outputs": [
      {
       "output_type": "stream",
       "stream": "stdout",
       "text": [
        "The shortest wavelength of X-rays is 0.0248 nm\n"
       ]
      }
     ],
     "prompt_number": 23
    },
    {
     "cell_type": "heading",
     "level": 2,
     "metadata": {},
     "source": [
      "Example number 9.6, Page number 172"
     ]
    },
    {
     "cell_type": "code",
     "collapsed": false,
     "input": [
      "#importing modules\n",
      "import math\n",
      "from __future__ import division\n",
      "\n",
      "#Variable declaration\n",
      "lambda1=0.708;                  #wavelength of a certain line in an X-ray spectrum(angstrom)\n",
      "Z1=42;                          #atomic number\n",
      "Z2=24;\n",
      "a=1;                            #screening constant\n",
      "\n",
      "#Calculation                        \n",
      "lambda2=(lambda1*(Z1-a)**2)/((Z2-a)**2);      #wavelength of same line(angstrom)\n",
      "\n",
      "#Result\n",
      "print \"The wavelength of same line is\",round(lambda2,2),\"angstrom\""
     ],
     "language": "python",
     "metadata": {},
     "outputs": [
      {
       "output_type": "stream",
       "stream": "stdout",
       "text": [
        "The wavelength of same line is 2.25 angstrom\n"
       ]
      }
     ],
     "prompt_number": 25
    },
    {
     "cell_type": "heading",
     "level": 2,
     "metadata": {},
     "source": [
      "Example number 9.7, Page number 172"
     ]
    },
    {
     "cell_type": "code",
     "collapsed": false,
     "input": [
      "#importing modules\n",
      "import math\n",
      "from __future__ import division\n",
      "\n",
      "#Variable declaration\n",
      "#From Bragg's law 2*d*sin(teta)=n*lambda\n",
      "n=1;\n",
      "lamda=0.32;                    #wavelength(nm)\n",
      "theta=28;                       #angle at which first order Bragg's reflection is observed(degrees)\n",
      "\n",
      "#Calculation                        \n",
      "theta=theta*math.pi/180;        #angle(radian)\n",
      "d=lamda/(2*math.sin(theta));      #distance between atomic planes(nm)\n",
      "\n",
      "#Result\n",
      "print \"The distance between atomic planes is\",round(d,2),\"nm\""
     ],
     "language": "python",
     "metadata": {},
     "outputs": [
      {
       "output_type": "stream",
       "stream": "stdout",
       "text": [
        "The distance between atomic planes is 0.34 nm\n"
       ]
      }
     ],
     "prompt_number": 28
    },
    {
     "cell_type": "heading",
     "level": 2,
     "metadata": {},
     "source": [
      "Example number 9.8, Page number 172"
     ]
    },
    {
     "cell_type": "code",
     "collapsed": false,
     "input": [
      "#importing modules\n",
      "import math\n",
      "from __future__ import division\n",
      "\n",
      "#Variable declaration\n",
      "h=6.626*10**-34;                   #plancks constant\n",
      "theta=50;                   #angle(degrees)\n",
      "m=9.1*10**-31;              #mass of electron(kg)\n",
      "c=3*10**8;                  #speed of light(m/s)\n",
      "\n",
      "#Calculation                        \n",
      "theta=theta*math.pi/180;    #angle(radian)\n",
      "deltalambda=(h/(m*c))*(1-math.cos(theta))*10**12;      \n",
      "lambdafin=2.5;              #wavelength of scattered X-rays\n",
      "lambdainit=lambdafin-deltalambda;     #wavelength of X-rays in the incident beam(pm)\n",
      "\n",
      "#Result\n",
      "print \"The wavelength of X-rays in the incident beam is\",round(lambdainit,2),\"pm\""
     ],
     "language": "python",
     "metadata": {},
     "outputs": [
      {
       "output_type": "stream",
       "stream": "stdout",
       "text": [
        "The wavelength of X-rays in the incident beam is 1.63 pm\n"
       ]
      }
     ],
     "prompt_number": 30
    },
    {
     "cell_type": "heading",
     "level": 2,
     "metadata": {},
     "source": [
      "Example number 9.9, Page number 172"
     ]
    },
    {
     "cell_type": "code",
     "collapsed": false,
     "input": [
      "#importing modules\n",
      "import math\n",
      "from __future__ import division\n",
      "\n",
      "#Variable declaration\n",
      "h=6.626*10**-34;                 #plancks constant\n",
      "c=3*10**8;                       #speed of light(m/s)\n",
      "lamda=500*10**-9;               #wavelength of laser(m)\n",
      "t=20*10**-3;                     #time(s)\n",
      "N=2.52*10**16;                   #number of photons in a 20ms pulse\n",
      "\n",
      "#Calculation                        \n",
      "E=(h*c)/lamda;                  #Energy of 500 nm photon(J)\n",
      "p=E*N/t;                         #power of the laser(W)\n",
      "\n",
      "#Result\n",
      "print \"The power of the laser is\",round(p,1),\"W\""
     ],
     "language": "python",
     "metadata": {},
     "outputs": [
      {
       "output_type": "stream",
       "stream": "stdout",
       "text": [
        "The power of the laser is 0.5 W\n"
       ]
      }
     ],
     "prompt_number": 34
    },
    {
     "cell_type": "heading",
     "level": 2,
     "metadata": {},
     "source": [
      "Example number 9.10, Page number 173"
     ]
    },
    {
     "cell_type": "code",
     "collapsed": false,
     "input": [
      "#importing modules\n",
      "import math\n",
      "from __future__ import division\n",
      "\n",
      "#Variable declaration\n",
      "h=6.626*10**-34;                        #plancks constant\n",
      "c=3*10**8;                              #speed of light(m/s)\n",
      "lamda=350*10**-9;                      #threshold wavelength(m)\n",
      "e=1.6*10**-19;\n",
      "\n",
      "#Calculation  \n",
      "W=h*c/(lamda*e);             #work function of the surface(eV)\n",
      "\n",
      "#Result\n",
      "print \"The work function of the surface is\",round(W,2),\"eV\""
     ],
     "language": "python",
     "metadata": {},
     "outputs": [
      {
       "output_type": "stream",
       "stream": "stdout",
       "text": [
        "The work function of the surface is 3.55 eV\n"
       ]
      }
     ],
     "prompt_number": 40
    },
    {
     "cell_type": "heading",
     "level": 2,
     "metadata": {},
     "source": [
      "Example number 9.11, Page number 173"
     ]
    },
    {
     "cell_type": "code",
     "collapsed": false,
     "input": [
      "#importing modules\n",
      "import math\n",
      "from __future__ import division\n",
      "\n",
      "#Variable declaration\n",
      "h=6.626*10**-34;                  #plancks constant\n",
      "c=3*10**8;                        #speed of light(m/s)\n",
      "e=1.6*10**-19;\n",
      "lambdamin=0.02*10**-9;            #minimum wavelength(m)\n",
      "\n",
      "#Calculation                        \n",
      "V=(h*c/(lambdamin*e))*10**-3;       #accelerating voltage(kV)\n",
      "\n",
      "#Result\n",
      "print \"The accelerating voltage needed to produce minimum wavelength is\",round(V,4),\"kV\""
     ],
     "language": "python",
     "metadata": {},
     "outputs": [
      {
       "output_type": "stream",
       "stream": "stdout",
       "text": [
        "The accelerating voltage needed to produce minimum wavelength is 62.1187 kV\n"
       ]
      }
     ],
     "prompt_number": 42
    },
    {
     "cell_type": "heading",
     "level": 2,
     "metadata": {},
     "source": [
      "Example number 9.12, Page number 173"
     ]
    },
    {
     "cell_type": "code",
     "collapsed": false,
     "input": [
      "#importing modules\n",
      "import math\n",
      "from __future__ import division\n",
      "\n",
      "#Variable declaration\n",
      "#According to Bragg's eq.2*d*sin(teta)=n*lambda\n",
      "n=2;                     #since second order Bragg's eq.\n",
      "d=5;                     #since d=5(lambda)\n",
      "lamda=1;\n",
      "\n",
      "#Calculation                        \n",
      "a=(n*lamda)/(2*5*lamda);\n",
      "theta=math.asin(a);      #angle of second order Braggs reflection(radian)\n",
      "theta=theta*180/math.pi;      #angle(degrees)\n",
      "\n",
      "#Result\n",
      "print \"The angle of second order Braggs reflection is\",round(theta,2),\"degrees\""
     ],
     "language": "python",
     "metadata": {},
     "outputs": [
      {
       "output_type": "stream",
       "stream": "stdout",
       "text": [
        "The angle of second order Braggs reflection is 11.54 degrees\n"
       ]
      }
     ],
     "prompt_number": 45
    },
    {
     "cell_type": "heading",
     "level": 2,
     "metadata": {},
     "source": [
      "Example number 9.13, Page number 173"
     ]
    },
    {
     "cell_type": "code",
     "collapsed": false,
     "input": [
      "#importing modules\n",
      "import math\n",
      "from __future__ import division\n",
      "\n",
      "#Variable declaration\n",
      "h=6.626*10**-34;                     #plancks constant\n",
      "c=3*10**8;                           #speed of light(m/s)\n",
      "lamda=0.03;                         #wavelength(nm)\n",
      "p=80/100;\n",
      "\n",
      "#Calculation                        \n",
      "E=(h*c)/(lamda*10**-9);             #energy of photon(J) \n",
      "TE=E/p;                              #Total energy.E=80% of TE(J)\n",
      "TE=TE*(10**-3)/e;                    #Total energy(keV)\n",
      "\n",
      "#Result\n",
      "print \"The electron must have been accelerated through a potential difference of\",round(TE,3),\"kV\" "
     ],
     "language": "python",
     "metadata": {},
     "outputs": [
      {
       "output_type": "stream",
       "stream": "stdout",
       "text": [
        "The electron must have been accelerated through a potential difference of 51.766 kV\n"
       ]
      }
     ],
     "prompt_number": 49
    }
   ],
   "metadata": {}
  }
 ]
}