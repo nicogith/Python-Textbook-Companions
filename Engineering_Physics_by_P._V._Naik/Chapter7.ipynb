{
 "metadata": {
  "name": "",
  "signature": "sha256:604dfd31225e3c2fe12afc104ed18461bd1bcabd558389f5cc69df386ba9091d"
 },
 "nbformat": 3,
 "nbformat_minor": 0,
 "worksheets": [
  {
   "cells": [
    {
     "cell_type": "heading",
     "level": 1,
     "metadata": {},
     "source": [
      "7: Motion of a charged particle"
     ]
    },
    {
     "cell_type": "heading",
     "level": 2,
     "metadata": {},
     "source": [
      "Example number 7.1, Page number 132"
     ]
    },
    {
     "cell_type": "code",
     "collapsed": false,
     "input": [
      "#importing modules\n",
      "import math\n",
      "from __future__ import division\n",
      "\n",
      "#Variable declaration\n",
      "e=1.6*10**-19;                   #charge of the electron(c)\n",
      "V=18;                            #potential difference(kV)\n",
      "m=9.1*10**-31;                   #mass of the electron(kg)\n",
      "\n",
      "#Calculation                        \n",
      "K=e*V*10**3;                     #Kinetic energy(J)\n",
      "v=math.sqrt((2*e*V*10**3)/m);            #speed of electron(m/s)\n",
      "\n",
      "#Result\n",
      "print \"The kinetic energy of electron is\",K*10**16,\"*10**-16 J\"\n",
      "print \"Speed of the electron is\",round(v/10**7,3),\"*10**7 m/s\""
     ],
     "language": "python",
     "metadata": {},
     "outputs": [
      {
       "output_type": "stream",
       "stream": "stdout",
       "text": [
        "The kinetic energy of electron is 28.8 *10**-16 J\n",
        "Speed of the electron is 7.956 *10**7 m/s\n"
       ]
      }
     ],
     "prompt_number": 5
    },
    {
     "cell_type": "heading",
     "level": 2,
     "metadata": {},
     "source": [
      "Example number 7.2, Page number 133"
     ]
    },
    {
     "cell_type": "code",
     "collapsed": false,
     "input": [
      "#importing modules\n",
      "import math\n",
      "from __future__ import division\n",
      "\n",
      "#Variable declaration\n",
      "m=9.1*10**-31;                    #mass of electron(kg)\n",
      "vx=4*10**6;                       #velocity along x-axis(m/s)\n",
      "E=1500;                           #electric field strength(N/C)\n",
      "l=0.07;                           #length in y-axis(m)\n",
      "q=1.6*10**-19;                    #charge of electron(c)\n",
      "\n",
      "#Calculation                        \n",
      "y=(-q*E*(l**2))/(2*m*(vx**2))*10**2;         #vertical displacement of electron(cm)\n",
      "\n",
      "#Result\n",
      "print \"The vertical displacement of electron when it leaves the electric field is\",round(y,3),\"cm\""
     ],
     "language": "python",
     "metadata": {},
     "outputs": [
      {
       "output_type": "stream",
       "stream": "stdout",
       "text": [
        "The vertical displacement of electron when it leaves the electric field is -4.038 cm\n"
       ]
      }
     ],
     "prompt_number": 7
    },
    {
     "cell_type": "heading",
     "level": 2,
     "metadata": {},
     "source": [
      "Example number 7.3, Page number 133"
     ]
    },
    {
     "cell_type": "code",
     "collapsed": false,
     "input": [
      "#importing modules\n",
      "import math\n",
      "from __future__ import division\n",
      "\n",
      "#Variable declaration\n",
      "u=5*10**5;                   #velocity(m/s)\n",
      "m=1.67*10**-27;               #mass of proton(kg)\n",
      "q=1.6*10**-19;\n",
      "E=500;                        #electric field(N/C)\n",
      "theta=42;                     #angle(degrees)\n",
      "\n",
      "#Calculation                        \n",
      "theta=theta*math.pi/180;      #angle(radian)\n",
      "t=((u*m*math.sin(theta))/(q*E))*10**6;             #time required for the proton(micro s)\n",
      "\n",
      "#Result\n",
      "print \"The time required for the proton is\",round(t,2),\"micro s\""
     ],
     "language": "python",
     "metadata": {},
     "outputs": [
      {
       "output_type": "stream",
       "stream": "stdout",
       "text": [
        "The time required for the proton is 6.98 micro s\n"
       ]
      }
     ],
     "prompt_number": 9
    },
    {
     "cell_type": "heading",
     "level": 2,
     "metadata": {},
     "source": [
      "Example number 7.4, Page number 133"
     ]
    },
    {
     "cell_type": "code",
     "collapsed": false,
     "input": [
      "#importing modules\n",
      "import math\n",
      "from __future__ import division\n",
      "\n",
      "#Variable declaration\n",
      "m=1.67*10**-27;                  #mass of proton(kg)\n",
      "q=1.6*10**-19;\n",
      "B=0.36;                          #magnetic field(T)\n",
      "R=0.2;                           #radius(m)\n",
      "\n",
      "#Calculation                        \n",
      "v=(q*B*R)/m;            #orbital speed of proton(m/s)\n",
      "\n",
      "#Result\n",
      "print \"The orbital speed of proton is\",round(v/10**6,1),\"*10**6 m/s\""
     ],
     "language": "python",
     "metadata": {},
     "outputs": [
      {
       "output_type": "stream",
       "stream": "stdout",
       "text": [
        "The orbital speed of proton is 6.9 *10**6 m/s\n"
       ]
      }
     ],
     "prompt_number": 12
    },
    {
     "cell_type": "heading",
     "level": 2,
     "metadata": {},
     "source": [
      "Example number 7.5, Page number 133"
     ]
    },
    {
     "cell_type": "code",
     "collapsed": false,
     "input": [
      "#importing modules\n",
      "import math\n",
      "from __future__ import division\n",
      "\n",
      "#Variable declaration\n",
      "v=2*10**6;                     #speed(m/s)\n",
      "theta=30;                      #angle at which proton enters at the origin of coordinate system(degrees)\n",
      "B=0.3;                         #magnetic field(T)\n",
      "m=1.67*10**-27;                #mass of proton(kg)\n",
      "q=1.6*10**-19;\n",
      "\n",
      "#Calculation                        \n",
      "theta=theta*math.pi/180;       #angle(radian)\n",
      "vp=v*math.sin(theta);          #v(perpendicular component)\n",
      "vpa=v*math.cos(theta);         #v(parallel component)\n",
      "p=(vpa*2*math.pi*m)/(q*B);         #pitch of the helix described by the proton\n",
      "R=((m*vp)/(q*B))*10**2;         #radius of the trajectory\n",
      "\n",
      "#Result\n",
      "print \"the pitch of the helix is\",round(p,2),\"m\"\n",
      "print \"the radius of trajectory is\",round(R,2),\"cm\""
     ],
     "language": "python",
     "metadata": {},
     "outputs": [
      {
       "output_type": "stream",
       "stream": "stdout",
       "text": [
        "the pitch of the helix is 0.38 m\n",
        "the radius of trajectory is 3.48 cm\n"
       ]
      }
     ],
     "prompt_number": 14
    },
    {
     "cell_type": "heading",
     "level": 2,
     "metadata": {},
     "source": [
      "Example number 7.6, Page number 133"
     ]
    },
    {
     "cell_type": "code",
     "collapsed": false,
     "input": [
      "#importing modules\n",
      "import math\n",
      "from __future__ import division\n",
      "\n",
      "#Variable declaration\n",
      "V=25;                      #deflecting voltage(V)\n",
      "l=0.03;                    #length of deflecting planes(m)\n",
      "d=0.75;                    #distance between 2 deflecting plates(cm)\n",
      "Va=800;                    #final anode voltage(V)\n",
      "D=0.2;                     #distance between the screen and the plates(m)\n",
      "e=1.6*10**-19;\n",
      "m=9.1*10**-31;                               #mass of electron(kg)\n",
      "\n",
      "#Calculation                        \n",
      "y=(((V*l)/(2*d*Va))*(D+(l/2)))*10**4;        #displacement produced(cm)\n",
      "a=((V*l)/(2*d*Va))*10**2;\n",
      "alpha=math.atan(a);                          #angle made by the beam with the axis(radian)\n",
      "alpha1=alpha*180/math.pi;        #angle(degrees)\n",
      "v=((math.sqrt((2*e*Va)/m))/math.cos(alpha));          #velocity of electron(v)\n",
      "\n",
      "#Result\n",
      "print \"the displacement produced is\",round(y,2),\"cm\"\n",
      "print \"the angle made by the beam with the axis is\",round(alpha1,2),\"degrees\"\n",
      "print \"velocity of electrons is\",round(v/10**7,2),\"*10**7 m/s\""
     ],
     "language": "python",
     "metadata": {},
     "outputs": [
      {
       "output_type": "stream",
       "stream": "stdout",
       "text": [
        "the displacement produced is 1.34 cm\n",
        "the angle made by the beam with the axis is 3.58 degrees\n",
        "velocity of electrons is 1.68 *10**7 m/s\n"
       ]
      }
     ],
     "prompt_number": 18
    },
    {
     "cell_type": "heading",
     "level": 2,
     "metadata": {},
     "source": [
      "Example number 7.7, Page number 134"
     ]
    },
    {
     "cell_type": "code",
     "collapsed": false,
     "input": [
      "#importing modules\n",
      "import math\n",
      "from __future__ import division\n",
      "\n",
      "#Variable declaration\n",
      "e=1.6*10**-19;\n",
      "B=5*10**-5;                  #magnetic field(Wb/m**2)\n",
      "l=0.04;                      #length of magnetic field along the axis(m)\n",
      "m=9.1*10**-31;               #mass of electron(kg)\n",
      "D=0.25;                      #distance of the screen from the field(m)\n",
      "Va=600;                      #final anode voltage(V)\n",
      "\n",
      "#Calculation                        \n",
      "y=(((e*B*l)/m)*math.sqrt(m/(2*e*Va))*(D+(l/2)))*10**2;      #displacement of the electron(cm)\n",
      "\n",
      "#Result\n",
      "print \"the displacement of the electron beam spot on the screen is\",round(y,2),\"cm\""
     ],
     "language": "python",
     "metadata": {},
     "outputs": [
      {
       "output_type": "stream",
       "stream": "stdout",
       "text": [
        "the displacement of the electron beam spot on the screen is 0.65 cm\n"
       ]
      }
     ],
     "prompt_number": 20
    },
    {
     "cell_type": "heading",
     "level": 2,
     "metadata": {},
     "source": [
      "Example number 7.8, Page number 134"
     ]
    },
    {
     "cell_type": "code",
     "collapsed": false,
     "input": [
      "#importing modules\n",
      "import math\n",
      "from __future__ import division\n",
      "\n",
      "#Variable declaration\n",
      "E=2.5*10**4;               #electric field(V/m)\n",
      "B=0.18;                    #magnetic field(T)\n",
      "B1=0.22;                   #magnetic field in the main chamber(T)\n",
      "m2=13;                     #mass number of carbon(kg)\n",
      "m1=12;                     #mass number of carbon(kg)\n",
      "e=1.6*10**-9;\n",
      "q=1.67*10**-27;\n",
      "\n",
      "#Calculation                        \n",
      "v=E/B;                     #velocity of particles(m/s)\n",
      "s=((2*v*(m2-m1)*q)/(e*B1))*10**12;       #seperation on photographic plate(cm)\n",
      "\n",
      "#Result\n",
      "print \"the seperation on photographic plate is\",round(s,3),\"cm\""
     ],
     "language": "python",
     "metadata": {},
     "outputs": [
      {
       "output_type": "stream",
       "stream": "stdout",
       "text": [
        "the seperation on photographic plate is 1.318 cm\n"
       ]
      }
     ],
     "prompt_number": 22
    },
    {
     "cell_type": "heading",
     "level": 2,
     "metadata": {},
     "source": [
      "Example number 7.9, Page number 134"
     ]
    },
    {
     "cell_type": "code",
     "collapsed": false,
     "input": [
      "#importing modules\n",
      "import math\n",
      "from __future__ import division\n",
      "\n",
      "#Variable declaration\n",
      "v=5.6*10**6;                  #speed of the electron(m/s)\n",
      "m=9.1*10**-31;                #mass of electron(kg)\n",
      "e=1.6*10**-19;\n",
      "s=0.03;                       #distance travelled(m)\n",
      "\n",
      "#Calculation                        \n",
      "E=(m*(v)**2)/(2*e*s);         #intensity of electric field(N/C)\n",
      "\n",
      "#Result\n",
      "print \"The intensity of electric field is\",round(E),\"N/C\""
     ],
     "language": "python",
     "metadata": {},
     "outputs": [
      {
       "output_type": "stream",
       "stream": "stdout",
       "text": [
        "The intensity of electric field is 2973.0 N/C\n"
       ]
      }
     ],
     "prompt_number": 24
    },
    {
     "cell_type": "heading",
     "level": 2,
     "metadata": {},
     "source": [
      "Example number 7.10, Page number 134"
     ]
    },
    {
     "cell_type": "code",
     "collapsed": false,
     "input": [
      "#importing modules\n",
      "import math\n",
      "from __future__ import division\n",
      "\n",
      "#Variable declaration\n",
      "v=5*10**7;\n",
      "B=0.4;                   #magnetic field(T)\n",
      "r=0.711*10**-3;          #radius of the circle(m)\n",
      "\n",
      "#Calculation                        \n",
      "Q=v/(B*r);               #charge to mass ratio(C/kg)\n",
      "\n",
      "#Result\n",
      "print \"The charge to mass ratio is\",round(Q/10**10,2),\"*10**10 C/kg\""
     ],
     "language": "python",
     "metadata": {},
     "outputs": [
      {
       "output_type": "stream",
       "stream": "stdout",
       "text": [
        "The charge to mass ratio is 17.58 *10**10 C/kg\n"
       ]
      }
     ],
     "prompt_number": 27
    },
    {
     "cell_type": "heading",
     "level": 2,
     "metadata": {},
     "source": [
      "Example number 7.11, Page number 135"
     ]
    },
    {
     "cell_type": "code",
     "collapsed": false,
     "input": [
      "#importing modules\n",
      "import math\n",
      "from __future__ import division\n",
      "\n",
      "#Variable declaration\n",
      "m=9.1*10**-31;              #mass of electron(kg)\n",
      "v=3*10**7;                  #speed of electron(m/s)\n",
      "R=0.05;                     #radius of the circle(m)\n",
      "q=1.6*10**-31;\n",
      "\n",
      "#Calculation                        \n",
      "B=((m*v)/(q*R))*10**-9;          #magnetic field(mT)\n",
      "\n",
      "#Result\n",
      "print \"The magnetic field to bend a beam is\",round(B,1),\"mT\""
     ],
     "language": "python",
     "metadata": {},
     "outputs": [
      {
       "output_type": "stream",
       "stream": "stdout",
       "text": [
        "The magnetic field to bend a beam is 3.4 mT\n"
       ]
      }
     ],
     "prompt_number": 29
    },
    {
     "cell_type": "heading",
     "level": 2,
     "metadata": {},
     "source": [
      "Example number 7.12, Page number 135"
     ]
    },
    {
     "cell_type": "code",
     "collapsed": false,
     "input": [
      "#importing modules\n",
      "import math\n",
      "from __future__ import division\n",
      "\n",
      "#Variable declaration\n",
      "m=9.1*10**-31;                #mass of electron(kg)\n",
      "q=1.6*10**-19;\n",
      "t=8*10**-9;                   #time(ns)\n",
      "\n",
      "#Calculation                        \n",
      "B=(2*math.pi*m*500)/(q*t);          #magnetic field(T)\n",
      "\n",
      "#Result\n",
      "print \"The magnetic field is\",round(B,2),\"T\""
     ],
     "language": "python",
     "metadata": {},
     "outputs": [
      {
       "output_type": "stream",
       "stream": "stdout",
       "text": [
        "The magnetic field is 2.23 T\n"
       ]
      }
     ],
     "prompt_number": 31
    },
    {
     "cell_type": "heading",
     "level": 2,
     "metadata": {},
     "source": [
      "Example number 7.13, Page number 135"
     ]
    },
    {
     "cell_type": "code",
     "collapsed": false,
     "input": [
      "#importing modules\n",
      "import math\n",
      "from __future__ import division\n",
      "\n",
      "#Variable declaration\n",
      "v=9.15*10**7;                  #cyclotron frequency of proton(Hz)\n",
      "m=1.67*10**-27;                #mass of proton(kg)\n",
      "q=1.6*10**-19;\n",
      "\n",
      "#Calculation                        \n",
      "B=(2*math.pi*v*m)/q;           #magnetic field(T)\n",
      "\n",
      "#Result\n",
      "print \"The magnetic field is\",int(B),\"T\""
     ],
     "language": "python",
     "metadata": {},
     "outputs": [
      {
       "output_type": "stream",
       "stream": "stdout",
       "text": [
        "The magnetic field is 6 T\n"
       ]
      }
     ],
     "prompt_number": 33
    }
   ],
   "metadata": {}
  }
 ]
}