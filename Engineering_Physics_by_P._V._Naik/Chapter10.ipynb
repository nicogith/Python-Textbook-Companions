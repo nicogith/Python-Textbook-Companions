{
 "metadata": {
  "name": "",
  "signature": "sha256:9dafdb7acb5e988ab3a5ace98a3f2deebed0e1d539e288cbefca9baaaeda9388"
 },
 "nbformat": 3,
 "nbformat_minor": 0,
 "worksheets": [
  {
   "cells": [
    {
     "cell_type": "heading",
     "level": 1,
     "metadata": {},
     "source": [
      "10: Quantum Mechanics"
     ]
    },
    {
     "cell_type": "heading",
     "level": 2,
     "metadata": {},
     "source": [
      "Example number 10.1, Page number 196"
     ]
    },
    {
     "cell_type": "code",
     "collapsed": false,
     "input": [
      "#importing modules\n",
      "import math\n",
      "from __future__ import division\n",
      "\n",
      "#Variable declaration\n",
      "v=10**7;                  #speed of electron(m/s)\n",
      "h=6.626*10**-34;          #plancks constant\n",
      "m=9.1*10**-31;            #mass of electron(kg)\n",
      "\n",
      "#Calculation                        \n",
      "lamda=h/(m*v);           #de Broglie wavelength(m)\n",
      "\n",
      "#Result\n",
      "print \"The de Broglie wavelength is\",round(lamda*10**11,2),\"*10**-11 m\""
     ],
     "language": "python",
     "metadata": {},
     "outputs": [
      {
       "output_type": "stream",
       "stream": "stdout",
       "text": [
        "The de Broglie wavelength is 7.28 *10**-11 m\n"
       ]
      }
     ],
     "prompt_number": 3
    },
    {
     "cell_type": "heading",
     "level": 2,
     "metadata": {},
     "source": [
      "Example number 10.2, Page number 196"
     ]
    },
    {
     "cell_type": "code",
     "collapsed": false,
     "input": [
      "#importing modules\n",
      "import math\n",
      "from __future__ import division\n",
      "\n",
      "#Variable declaration\n",
      "h=6.626*10**-34;                     #plancks constant\n",
      "lamda=0.3;                          #de Broglie wavelength(nm)\n",
      "#For electron\n",
      "me=9.1*10**-31;                      #mass of electron(kg)\n",
      "#For proton\n",
      "mp=1.672*10**-27;                    #mass of proton(kg)\n",
      "\n",
      "#Calculation                        \n",
      "p=h/(lamda*10**-9);                 #uncertainity in determining momentum(kg m/s)\n",
      "K1=p**2/(2*me);                      #kinetic energy of electron(J)\n",
      "K2=p**2/(2*mp);                      #kinetic energy of proton(J)\n",
      "\n",
      "#Result\n",
      "print \"The kinetic energy of electron is\",round(K1*10**18,1),\"*10**-18 J\"\n",
      "print \"The kinetic energy of proton is\",round(K2*10**21,2),\"*10**-21 J\""
     ],
     "language": "python",
     "metadata": {},
     "outputs": [
      {
       "output_type": "stream",
       "stream": "stdout",
       "text": [
        "The kinetic energy of electron is 2.7 *10**-18 J\n",
        "The kinetic energy of proton is 1.46 *10**-21 J\n"
       ]
      }
     ],
     "prompt_number": 5
    },
    {
     "cell_type": "heading",
     "level": 2,
     "metadata": {},
     "source": [
      "Example number 10.3, Page number 196"
     ]
    },
    {
     "cell_type": "code",
     "collapsed": false,
     "input": [
      "#importing modules\n",
      "import math\n",
      "from __future__ import division\n",
      "\n",
      "#Variable declaration\n",
      "#K=p^2/(lambda^2*2*m) where K is kinetic energy\n",
      "h=6.626*10**-34;                  #plancks constant\n",
      "lamda=10**-14;                   #de Broglie wavelength(m)\n",
      "m=9.1*10**-31;                    #mass of electron(kg)\n",
      "e=1.6*10**-19;\n",
      "\n",
      "#Calculation                        \n",
      "K=(h**2/((lamda**2)*2*m*e))*10**-9;      \n",
      "\n",
      "#Result\n",
      "print \"The kinetic energy is\",int(K),\"GeV\"\n",
      "print \"It is not possible to confine the electron to a nucleus.\""
     ],
     "language": "python",
     "metadata": {},
     "outputs": [
      {
       "output_type": "stream",
       "stream": "stdout",
       "text": [
        "The kinetic energy is 15 GeV\n",
        "It is not possible to confine the electron to a nucleus.\n"
       ]
      }
     ],
     "prompt_number": 9
    },
    {
     "cell_type": "heading",
     "level": 2,
     "metadata": {},
     "source": [
      "Example number 10.4, Page number 197"
     ]
    },
    {
     "cell_type": "code",
     "collapsed": false,
     "input": [
      "#importing modules\n",
      "import math\n",
      "from __future__ import division\n",
      "\n",
      "#Variable declaration\n",
      "m=9.1*10**-31;                #mass of electron(kg)\n",
      "v=6*10**3;                    #speed of electron(m/s)\n",
      "h=6.626*10**-34;              #plancks constant\n",
      "a=0.00005; \n",
      "\n",
      "#Calculation                        \n",
      "p=m*v;                        #uncertainity in momentum(kg m/s)\n",
      "deltap=a*p;             #uncertainity in p\n",
      "deltax=(h/(4*math.pi*deltap))*10**3       #uncertainity in position(mm)\n",
      "\n",
      "#Result\n",
      "print \"The uncertainity in position is\",round(deltax,3),\"mm\""
     ],
     "language": "python",
     "metadata": {},
     "outputs": [
      {
       "output_type": "stream",
       "stream": "stdout",
       "text": [
        "The uncertainity in position is 0.193 mm\n"
       ]
      }
     ],
     "prompt_number": 11
    },
    {
     "cell_type": "heading",
     "level": 2,
     "metadata": {},
     "source": [
      "Example number 10.5, Page number 197"
     ]
    },
    {
     "cell_type": "code",
     "collapsed": false,
     "input": [
      "#importing modules\n",
      "import math\n",
      "from __future__ import division\n",
      "\n",
      "#Variable declaration\n",
      "L=3*10**-5;                   #diameter of the sphere(nm)\n",
      "h=6.626*10**-34;              #plancks constant\n",
      "m=1.67*10**-27;               #mass of the particle(kg)\n",
      "n=1;\n",
      "e=1.6*10**-19;\n",
      "\n",
      "#Calculation                        \n",
      "E1=((h**2)*(n**2))/(8*m*(L**2)*e)*10**12        #first energy level(MeV)\n",
      "E2=E1*2**2;                                     #second energy level(MeV)\n",
      "\n",
      "#Result\n",
      "print \"The first energy level is\",round(E1,3),\"MeV\"\n",
      "print \"The second energy level is\",round(E2,4),\"MeV\""
     ],
     "language": "python",
     "metadata": {},
     "outputs": [
      {
       "output_type": "stream",
       "stream": "stdout",
       "text": [
        "The first energy level is 0.228 MeV\n",
        "The second energy level is 0.9128 MeV\n"
       ]
      }
     ],
     "prompt_number": 14
    },
    {
     "cell_type": "heading",
     "level": 2,
     "metadata": {},
     "source": [
      "Example number 10.6, Page number 197"
     ]
    },
    {
     "cell_type": "code",
     "collapsed": false,
     "input": [
      "#importing modules\n",
      "import math\n",
      "from __future__ import division\n",
      "\n",
      "#Variable declaration\n",
      "h=6.626*10**-34;               #plancks constant\n",
      "a=2*10**12;                    #angular frequency(rad/s)\n",
      "e=1.6*10**-19;\n",
      "\n",
      "#Calculation                        \n",
      "E0=(0.5*(h/(2*math.pi*e))*a)*10**3;   #ground state energy(MeV)\n",
      "E1=(1.5*(h/(2*math.pi*e))*a)*10**3;   #first excited state energy(MeV)\n",
      "\n",
      "#Result\n",
      "print \"The ground state energy is\",round(E0,3),\"MeV\" \n",
      "print \"The first excited state energy is\",round(E1,3),\"MeV\""
     ],
     "language": "python",
     "metadata": {},
     "outputs": [
      {
       "output_type": "stream",
       "stream": "stdout",
       "text": [
        "The ground state energy is 0.659 MeV\n",
        "The first excited state energy is 1.977 MeV\n"
       ]
      }
     ],
     "prompt_number": 16
    },
    {
     "cell_type": "heading",
     "level": 2,
     "metadata": {},
     "source": [
      "Example number 10.7, Page number 197"
     ]
    },
    {
     "cell_type": "code",
     "collapsed": false,
     "input": [
      "#importing modules\n",
      "import math\n",
      "from __future__ import division\n",
      "\n",
      "#Variable declaration\n",
      "h=6.626*10**-34;                 #plancks constant\n",
      "E=85;                            #Energy(keV)\n",
      "c=3*10**8;                       #speed of light(m/s)\n",
      "e=1.6*10**-19;\n",
      "\n",
      "#Calculation                        \n",
      "lamda=(h*c)/(E*10**3*e);       #de Broglie wavelength(m)\n",
      "m=9.1*10**-31;                  #mass of electron(kg)\n",
      "K=((h**2)/((lamda**2)*2*m*e));  #kinetic energy of electron(keV)\n",
      "\n",
      "#Result\n",
      "print \"The kinetic energy of the electron is\",round(K*10**-3,2),\"keV\"\n",
      "print \"answer in the book varies due to rounding off errors\""
     ],
     "language": "python",
     "metadata": {},
     "outputs": [
      {
       "output_type": "stream",
       "stream": "stdout",
       "text": [
        "The kinetic energy of the electron is 7.06 keV\n",
        "answer in the book varies due to rounding off errors\n"
       ]
      }
     ],
     "prompt_number": 21
    },
    {
     "cell_type": "heading",
     "level": 2,
     "metadata": {},
     "source": [
      "Example number 10.8, Page number 198"
     ]
    },
    {
     "cell_type": "code",
     "collapsed": false,
     "input": [
      "#importing modules\n",
      "import math\n",
      "from __future__ import division\n",
      "\n",
      "#Variable declaration\n",
      "lamda=0.08;                          #de Briglie wavelength(nm)\n",
      "m=9.1*10**-31;                        #mass of electron(kg)\n",
      "h=6.626*10**-34;                      #plancks constant\n",
      "\n",
      "#Calculation                        \n",
      "v=h/(m*lamda*10**-9);                 #velocity of the electron(m/s)\n",
      "\n",
      "#Result\n",
      "print \"The velocity of the electron is\",round(v/10**6,1),\"*10**6 m/s\""
     ],
     "language": "python",
     "metadata": {},
     "outputs": [
      {
       "output_type": "stream",
       "stream": "stdout",
       "text": [
        "The velocity of the electron is 9.1 *10**6 m/s\n"
       ]
      }
     ],
     "prompt_number": 28
    },
    {
     "cell_type": "heading",
     "level": 2,
     "metadata": {},
     "source": [
      "Example number 10.9, Page number 198"
     ]
    },
    {
     "cell_type": "code",
     "collapsed": false,
     "input": [
      "#importing modules\n",
      "import math\n",
      "from __future__ import division\n",
      "\n",
      "#Variable declaration\n",
      "h=6.626*10**-34;                  #plancks constant\n",
      "lamda=589*10**-9;                #wavelength(m)\n",
      "m=9.1*10**-31;                    #mass of electron(kg)\n",
      "e=1.6*10**-19;\n",
      "\n",
      "#Calculation                        \n",
      "V=((h**2)/((lamda**2)*2*m*e))*10**6;    #potential diference(micro V)\n",
      "\n",
      "#Result\n",
      "print \"The potential difference through which an electron should be accelerated is\",round(V,2),\"micro V\""
     ],
     "language": "python",
     "metadata": {},
     "outputs": [
      {
       "output_type": "stream",
       "stream": "stdout",
       "text": [
        "The potential difference through which an electron should be accelerated is 4.35 micro V\n"
       ]
      }
     ],
     "prompt_number": 31
    },
    {
     "cell_type": "heading",
     "level": 2,
     "metadata": {},
     "source": [
      "Example number 10.10, Page number 198"
     ]
    },
    {
     "cell_type": "code",
     "collapsed": false,
     "input": [
      "#importing modules\n",
      "import math\n",
      "from __future__ import division\n",
      "\n",
      "#Variable declaration\n",
      "deltax=0.92*10**-9;                  #uncertainity in position(m)\n",
      "m=9.1*10**-31;                       #mass of electron(kg)\n",
      "h=6.626*10**-34;                     #plancks constant\n",
      "\n",
      "#Calculation                        \n",
      "deltav=h/(4*math.pi*m*deltax);       #uncertainity in velocity(m/s)\n",
      "\n",
      "#Result\n",
      "print \"The uncertainity in velocity is\",round(deltav/10**4,1),\"*10**4 m/s\""
     ],
     "language": "python",
     "metadata": {},
     "outputs": [
      {
       "output_type": "stream",
       "stream": "stdout",
       "text": [
        "The uncertainity in velocity is 6.3 *10**4 m/s\n"
       ]
      }
     ],
     "prompt_number": 33
    },
    {
     "cell_type": "heading",
     "level": 2,
     "metadata": {},
     "source": [
      "Example number 10.11, Page number 198"
     ]
    },
    {
     "cell_type": "code",
     "collapsed": false,
     "input": [
      "#importing modules\n",
      "import math\n",
      "from __future__ import division\n",
      "\n",
      "#Variable declaration\n",
      "h=6.626*10**-34;                     #plancks constant\n",
      "n=3;                                 #for second excited state\n",
      "m=1.67*10**-27;                      #mass of proton(kg)\n",
      "E=0.5;                               #energy(MeV)\n",
      "e=1.6*10**-19;\n",
      "\n",
      "#Calculation                        \n",
      "L=((h*n)/math.sqrt(8*m*E*10**6*e))*10**15;      #length of the box(fm)\n",
      "\n",
      "#Result\n",
      "print \"The length of the box for proton in its second excited state is\",round(L,1),\"fm\""
     ],
     "language": "python",
     "metadata": {},
     "outputs": [
      {
       "output_type": "stream",
       "stream": "stdout",
       "text": [
        "The length of the box for proton in its second excited state is 60.8 fm\n"
       ]
      }
     ],
     "prompt_number": 35
    }
   ],
   "metadata": {}
  }
 ]
}