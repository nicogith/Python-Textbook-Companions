{
 "metadata": {
  "name": "",
  "signature": "sha256:f3dfb0a49e3f8552798e92e62c041d1f0b46371fc7dc05dfc9c1bf5833f43216"
 },
 "nbformat": 3,
 "nbformat_minor": 0,
 "worksheets": [
  {
   "cells": [
    {
     "cell_type": "heading",
     "level": 1,
     "metadata": {},
     "source": [
      "14: Nuclear Fission And Fusion"
     ]
    },
    {
     "cell_type": "heading",
     "level": 2,
     "metadata": {},
     "source": [
      "Example number 14.1, Page number 269"
     ]
    },
    {
     "cell_type": "code",
     "collapsed": false,
     "input": [
      "#import modules\n",
      "import math\n",
      "from __future__ import division\n",
      "\n",
      "#Variable declaration\n",
      "E1=7.8;     #avg. B.E per nucleon(MeV)\n",
      "E2=8.6;     #for fissin fragments(MeV)\n",
      "\n",
      "#Calculation\n",
      "FER=(234*E2)-(236*E1);     #Fission energy released(MeV)\n",
      "\n",
      "#Result\n",
      "print \"Fission energy released is\",FER,\"MeV\""
     ],
     "language": "python",
     "metadata": {},
     "outputs": [
      {
       "output_type": "stream",
       "stream": "stdout",
       "text": [
        "Fission energy released is 171.6 MeV\n"
       ]
      }
     ],
     "prompt_number": 1
    },
    {
     "cell_type": "heading",
     "level": 2,
     "metadata": {},
     "source": [
      "Example number 14.2, Page number 273"
     ]
    },
    {
     "cell_type": "code",
     "collapsed": false,
     "input": [
      "#import modules\n",
      "import math\n",
      "from __future__ import division\n",
      "\n",
      "#Variable declaration\n",
      "m1=235.044;    #mass of 92U235(a.m.u)\n",
      "m2=97.905;     #mass of 42Mo98(a.m.u)\n",
      "m3=135.917;    #mass of 54Xe136(a.m.u)\n",
      "#rxn = 0n1 + 92U235 = 42Mo98 + 54Xe136 + 4 -1e0 + 2 0n1\n",
      "\n",
      "#Calculation\n",
      "LHSm=1.009+m1;\n",
      "RHSm=m2+m3+(4*0.00055)+(2*1.009);\n",
      "delta_m=LHSm-RHSm;        #mass defect(a.m.u)\n",
      "E=delta_m*931;         #energy released(MeV)\n",
      "\n",
      "#Result\n",
      "print \"mass defect is\",round(delta_m,3),\"a.m.u\"\n",
      "print \"energy released is\",int(E),\"MeV\""
     ],
     "language": "python",
     "metadata": {},
     "outputs": [
      {
       "output_type": "stream",
       "stream": "stdout",
       "text": [
        "mass defect is 0.211 a.m.u\n",
        "energy released is 196 MeV\n"
       ]
      }
     ],
     "prompt_number": 4
    },
    {
     "cell_type": "heading",
     "level": 2,
     "metadata": {},
     "source": [
      "Example number 14.3, Page number 274"
     ]
    },
    {
     "cell_type": "code",
     "collapsed": false,
     "input": [
      "#import modules\n",
      "import math\n",
      "from __future__ import division\n",
      "\n",
      "#Variable declaration\n",
      "m1=1.00813;    #mass of 1H1(a.m.u)\n",
      "m2=4.00386;    #mass of 2He4(a.m.u)\n",
      "SC=1.35;     #solar constant(kW/m^2)\n",
      "d=1.5*10**11;    #distance b/w earth and sum(m)\n",
      "e=1.6*10**-19;   #the charge on electron(C)\n",
      "Na=6.02*10**26;    #Avgraodo no.(per kg mole)\n",
      "#rxn = 4 1H1 = 2He4 + 2 1e0\n",
      "\n",
      "#Calculation\n",
      "dm=(4*m1)-m2;\n",
      "E=dm*931;     #energy produced(MeV)\n",
      "EP=E/4;      #energy produced per atom(MeV)\n",
      "EP=EP*10**6*e;    #conversion in J\n",
      "EPkg=EP*Na;     #energy produced by 1 kg of hydrogen\n",
      "SC=SC*1000;     #conversion(J/s-m^2)\n",
      "SA=4*math.pi*d**2;   #surface area of sphere\n",
      "ER=SC*SA;      #energy recieved per second\n",
      "m=ER/EPkg;     #mass of hydrogen consumed(tonnes/second)\n",
      "\n",
      "#Result\n",
      "print \"mass of hydrogen consumed is\",round(m/10**11,3),\"*10**8 tonnes/second\""
     ],
     "language": "python",
     "metadata": {},
     "outputs": [
      {
       "output_type": "stream",
       "stream": "stdout",
       "text": [
        "mass of hydrogen consumed is 5.941 *10**8 tonnes/second\n"
       ]
      }
     ],
     "prompt_number": 8
    },
    {
     "cell_type": "heading",
     "level": 2,
     "metadata": {},
     "source": [
      "Example number 14.4, Page number 275"
     ]
    },
    {
     "cell_type": "code",
     "collapsed": false,
     "input": [
      "#import modules\n",
      "import math\n",
      "from __future__ import division\n",
      "\n",
      "#Variable declaration\n",
      "m1=2.01478;     #mass of 1H2(a.m.u)\n",
      "m2=4.00388;     #mass of 2He4(a.m.u)\n",
      "#rxn 1H2 + 1H2 = 2He4 + Q\n",
      "\n",
      "#Calculation\n",
      "Q=2*m1-m2;        #energy liberated(MeV) \n",
      "Q=Q*931;          #conversion in MeV\n",
      "\n",
      "#Result\n",
      "print \"energy liberated is\",round(Q,1),\"MeV\""
     ],
     "language": "python",
     "metadata": {},
     "outputs": [
      {
       "output_type": "stream",
       "stream": "stdout",
       "text": [
        "energy liberated is 23.9 MeV\n"
       ]
      }
     ],
     "prompt_number": 11
    }
   ],
   "metadata": {}
  }
 ]
}