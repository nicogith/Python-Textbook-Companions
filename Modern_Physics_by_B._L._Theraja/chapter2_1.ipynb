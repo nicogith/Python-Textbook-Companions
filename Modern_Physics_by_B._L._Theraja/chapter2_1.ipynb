{
 "metadata": {
  "name": "",
  "signature": "sha256:8d579c32fbc82bfc0d050265719851f3d1a9f6f9fcc17df43ae5b1c38cc41c26"
 },
 "nbformat": 3,
 "nbformat_minor": 0,
 "worksheets": [
  {
   "cells": [
    {
     "cell_type": "heading",
     "level": 1,
     "metadata": {},
     "source": [
      "2: The Electron"
     ]
    },
    {
     "cell_type": "heading",
     "level": 2,
     "metadata": {},
     "source": [
      "Example number 2.1, Page number 18"
     ]
    },
    {
     "cell_type": "code",
     "collapsed": false,
     "input": [
      "#import modules\n",
      "import math\n",
      "from __future__ import division\n",
      "\n",
      "#Variable declaration\n",
      "E=2400;         #electric field intensity(V/m)\n",
      "V=90;           #potential difference(V)\n",
      "e=1.6*10**-19;       #the charge on electron(C)\n",
      "m=9.12*10**-31;      #mass of electron(kg)\n",
      "\n",
      "#Calculation\n",
      "F=e*E;      #force on electron(N)\n",
      "a=F/m;      #acceleration(m/s^2)  \n",
      "KE=e*V;     #Kinetic Energy of particle(J) \n",
      "v=math.sqrt(2*KE/m);       #velocity of the electron(m/s)\n",
      "v=v*10**-6;\n",
      "v=math.ceil(v*10**2)/10**2;   #rounding off to 2 decimals\n",
      "\n",
      "#Result\n",
      "print \"The force on electron is\",F,\"N\"\n",
      "print \"Its acceleration is\",round(a/1e+14,2),\"*10**14 m/s^2\"\n",
      "print \"The Kinetic Energy of particle is\",KE,\"J\"\n",
      "print \"The velocity of the electron\",v,\"*10**6 m/s\"\n",
      "print \"answers for acceleration and velocity given in the book varies due to rounding off errors\""
     ],
     "language": "python",
     "metadata": {},
     "outputs": [
      {
       "output_type": "stream",
       "stream": "stdout",
       "text": [
        "The force on electron is 3.84e-16 N\n",
        "Its acceleration is 4.21 *10**14 m/s^2\n",
        "The Kinetic Energy of particle is 1.44e-17 J\n",
        "The velocity of the electron 5.62 *10**6 m/s\n",
        "answers for acceleration and velocity given in the book varies due to rounding off errors\n"
       ]
      }
     ],
     "prompt_number": 9
    },
    {
     "cell_type": "heading",
     "level": 2,
     "metadata": {},
     "source": [
      "Example number 2.2, Page number 18"
     ]
    },
    {
     "cell_type": "code",
     "collapsed": false,
     "input": [
      "#import modules\n",
      "import math\n",
      "from __future__ import division\n",
      "\n",
      "#Variable declaration\n",
      "V=900;      #potential difference(V)\n",
      "B=0.01;       #uniform magnetic field(Wb/m^2)\n",
      "em=1.76*10**11;       #value of e/m(C/kg)\n",
      "\n",
      "#calculation\n",
      "v=math.sqrt(2*em*V);        #linear velocity of electron(m/s)\n",
      "R=v/(em*B);             #radius of the circular path(m) \n",
      "R=math.ceil(R*10**3)/10**3;   #rounding off to 3 decimals\n",
      "v=v*10**-7;\n",
      "v=math.ceil(v*10**2)/10**2;   #rounding off to 2 decimals\n",
      "\n",
      "#Result\n",
      "print \"The linear velocity of electron is\",v,\"*10**7 m/s\"\n",
      "print \"The radius of the circular path is\",R,\"m\""
     ],
     "language": "python",
     "metadata": {},
     "outputs": [
      {
       "output_type": "stream",
       "stream": "stdout",
       "text": [
        "The linear velocity of electron is 1.78 *10**7 m/s\n",
        "The radius of the circular path is 0.011 m\n"
       ]
      }
     ],
     "prompt_number": 13
    },
    {
     "cell_type": "heading",
     "level": 2,
     "metadata": {},
     "source": [
      "Example number 2.3, Page number 18"
     ]
    },
    {
     "cell_type": "code",
     "collapsed": false,
     "input": [
      "#import modules\n",
      "import math\n",
      "from __future__ import division\n",
      "\n",
      "#Variable declaration\n",
      "d=6*10**-3;       #distance between plates(m)\n",
      "V=900;          #potential difference(V)\n",
      "B=0.5;          #uniform magnetic field(Wb/m^2)\n",
      "Q=1.6*10**-19;      #the charge on electron(C)\n",
      "R=10.6*10**-2;      #circular track radius(m)\n",
      "\n",
      "#calculation\n",
      "v=V/(B*d);       #velocity(m/s)\n",
      "m=R*Q*B/v;       #mass of particle(kg)\n",
      "\n",
      "#Result\n",
      "print \"The mass of particle\",round(m/1e-26,3),\"*10**-26 kg\""
     ],
     "language": "python",
     "metadata": {},
     "outputs": [
      {
       "output_type": "stream",
       "stream": "stdout",
       "text": [
        "The mass of particle 2.827 *10**-26 kg\n"
       ]
      }
     ],
     "prompt_number": 16
    },
    {
     "cell_type": "heading",
     "level": 2,
     "metadata": {},
     "source": [
      "Example number 2.4, Page number 19"
     ]
    },
    {
     "cell_type": "code",
     "collapsed": false,
     "input": [
      "#import modules\n",
      "import math\n",
      "from __future__ import division\n",
      "\n",
      "#Variable declaration\n",
      "V=6920;        #potential difference(V)\n",
      "d=1.3*10**-2;      #distance between(m)\n",
      "v=1.9*10**-4;      #velocity(m/s)\n",
      "p=0.9*10**3;       #density of oil(kg/m^3)\n",
      "n=1.81*10**-5;     #coefficient of viscosity(N-s/m^2)\n",
      "g=9.81;          #accelaration due to gravity(m/s^2)\n",
      "\n",
      "#calculation\n",
      "a=math.sqrt((9*n*v)/(2*g*p));      #radius of the drop(m) \n",
      "E=V/d;         #electric field(V/m)\n",
      "Q=4*math.pi*(a**3)*p*g/(3*E);      #value of charge on oil drop(C)\n",
      "\n",
      "#Result\n",
      "print \"The radius of the drop is\",round(a/1e-6,2),\"micro m\"\n",
      "print \"The value of charge on oil drop is\",round(Q/1e-19,3),\"*10^-19 C\"\n",
      "print \"answers given in the book are wrong\""
     ],
     "language": "python",
     "metadata": {},
     "outputs": [
      {
       "output_type": "stream",
       "stream": "stdout",
       "text": [
        "The radius of the drop is 1.32 micro m\n",
        "The value of charge on oil drop is 1.612 *10^-19 C\n",
        "answers given in the book are wrong\n"
       ]
      }
     ],
     "prompt_number": 2
    }
   ],
   "metadata": {}
  }
 ]
}