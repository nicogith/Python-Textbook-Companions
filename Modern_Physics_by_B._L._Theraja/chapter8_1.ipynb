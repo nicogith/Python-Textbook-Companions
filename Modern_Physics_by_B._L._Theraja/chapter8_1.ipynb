{
 "metadata": {
  "name": "",
  "signature": "sha256:d72c0a73996bcf192ce1ccd2756ffc71afe785564affcd57aa0f4ee59a16ed83"
 },
 "nbformat": 3,
 "nbformat_minor": 0,
 "worksheets": [
  {
   "cells": [
    {
     "cell_type": "heading",
     "level": 1,
     "metadata": {},
     "source": [
      "8: X-Rays"
     ]
    },
    {
     "cell_type": "heading",
     "level": 2,
     "metadata": {},
     "source": [
      "Example number 8.1, Page number 155"
     ]
    },
    {
     "cell_type": "code",
     "collapsed": false,
     "input": [
      "#import modules\n",
      "import math\n",
      "from __future__ import division\n",
      "\n",
      "#Variable declaration\n",
      "V=60000;       #working voltage(V)\n",
      "\n",
      "#Calculation\n",
      "lamda_min=12400/V;          #Wavelength emitted(Angstrom)\n",
      "\n",
      "#Result\n",
      "print \"Wavelength emitted is\",round(lamda_min,1),\"Angstrom\""
     ],
     "language": "python",
     "metadata": {},
     "outputs": [
      {
       "output_type": "stream",
       "stream": "stdout",
       "text": [
        "Wavelength emitted is 0.2 Angstrom\n"
       ]
      }
     ],
     "prompt_number": 2
    },
    {
     "cell_type": "heading",
     "level": 2,
     "metadata": {},
     "source": [
      "Example number 8.2, Page number 155"
     ]
    },
    {
     "cell_type": "code",
     "collapsed": false,
     "input": [
      "#import modules\n",
      "import math\n",
      "from __future__ import division\n",
      "\n",
      "#Variable declaration\n",
      "V=12400;      #Volatage applied(V)\n",
      "I=0.002;      #current drop(A)\n",
      "e=1.6*10**-19;    #the charge on electron(C)\n",
      "\n",
      "#Calculation\n",
      "n=I/e;         #number of electrons\n",
      "v=(5.93*10**5)*(math.sqrt(V));      #striking speed(m/s)\n",
      "lamda_min=12400/V;                #shortest wavelength is(Angstrom)\n",
      "\n",
      "#Result\n",
      "print \"number of electrons striking per second is\",n,\"s-1\" \n",
      "print \"the speed with which they strike is\",round(v/1e+7,1),\"*10^7 m/s\"\n",
      "print \"shortest wavelength is\",lamda_min,\"Angstrom\""
     ],
     "language": "python",
     "metadata": {},
     "outputs": [
      {
       "output_type": "stream",
       "stream": "stdout",
       "text": [
        "number of electrons striking per second is 1.25e+16 s-1\n",
        "the speed with which they strike is 6.6 *10^7 m/s\n",
        "shortest wavelength is 1.0 Angstrom\n"
       ]
      }
     ],
     "prompt_number": 6
    },
    {
     "cell_type": "heading",
     "level": 2,
     "metadata": {},
     "source": [
      "Example number 8.3, Page number 156"
     ]
    },
    {
     "cell_type": "code",
     "collapsed": false,
     "input": [
      "#import modules\n",
      "import math\n",
      "from __future__ import division\n",
      "\n",
      "#Variable declaration\n",
      "lamda_min=1;    #shortest wavelength(Angstrom)\n",
      "\n",
      "#Calculation\n",
      "V=(12400/lamda_min)/1000;      #minimum applied voltage(kV)\n",
      "\n",
      "#Result\n",
      "print \"The minimum applied voltage is\",V,\"kV\""
     ],
     "language": "python",
     "metadata": {},
     "outputs": [
      {
       "output_type": "stream",
       "stream": "stdout",
       "text": [
        "The minimum applied voltage is 12.4 kV\n"
       ]
      }
     ],
     "prompt_number": 7
    },
    {
     "cell_type": "heading",
     "level": 2,
     "metadata": {},
     "source": [
      "Example number 8.4, Page number 156"
     ]
    },
    {
     "cell_type": "code",
     "collapsed": false,
     "input": [
      "#import modules\n",
      "import math\n",
      "from __future__ import division\n",
      "\n",
      "#Variable declaration\n",
      "I=0.005;        #current(A)\n",
      "V=100*10**3;     #potential difference(V)\n",
      "\n",
      "#Calculation\n",
      "v=(5.93*10**5)*(math.sqrt(V));         #Maximum speed of electrons(m/s)\n",
      "IP=V*I;             #incident power(W)\n",
      "P=0.999*IP;         #power converted into heat(W)\n",
      "H=P/4.18;           #rate of production of heat(cal/s)\n",
      "\n",
      "#Result\n",
      "print \"Maximum speed of electrons is\",round(v/1e+8,2),\"*10^8 m/s\"\n",
      "print \"rate of production of heat is\",int(H),\"cal/s\"\n",
      "print \"answer for maximum speed of electrons given in the book is wrong\""
     ],
     "language": "python",
     "metadata": {},
     "outputs": [
      {
       "output_type": "stream",
       "stream": "stdout",
       "text": [
        "Maximum speed of electrons is 1.88 *10^8 m/s\n",
        "rate of production of heat is 119 cal/s\n",
        "answer for maximum speed of electrons given in the book is wrong\n"
       ]
      }
     ],
     "prompt_number": 15
    },
    {
     "cell_type": "heading",
     "level": 2,
     "metadata": {},
     "source": [
      "Example number 8.5, Page number 156"
     ]
    },
    {
     "cell_type": "code",
     "collapsed": false,
     "input": [
      "#import modules\n",
      "import math\n",
      "from __future__ import division\n",
      "\n",
      "#Variable declaration\n",
      "V=30000;          #potential difference(V)\n",
      "lamda_min=0.414*10**-10;    #short wavelength limit(m)\n",
      "e=1.602*10**-19;           #the charge on electron(C)\n",
      "c=3*10**8;               #speed of light(m/s)\n",
      "\n",
      "#Calculation\n",
      "h=(e*V*lamda_min)/c;        #Planck's constant(Js)\n",
      "\n",
      "#Result\n",
      "print \"The Planck's constant is\",round(h/1e-34,2),\"*10^-34 Js\""
     ],
     "language": "python",
     "metadata": {},
     "outputs": [
      {
       "output_type": "stream",
       "stream": "stdout",
       "text": [
        "The Planck's constant is 6.63 *10^-34 Js\n"
       ]
      }
     ],
     "prompt_number": 17
    },
    {
     "cell_type": "heading",
     "level": 2,
     "metadata": {},
     "source": [
      "Example number 8.6, Page number 158"
     ]
    },
    {
     "cell_type": "code",
     "collapsed": false,
     "input": [
      "#import modules\n",
      "import math\n",
      "from __future__ import division\n",
      "\n",
      "#Variable declaration\n",
      "lamda=1.43*10**-10;       #wavelength(m)\n",
      "Z=74;                    #atomic number\n",
      "R=10.97*10**6;          #Rydberg constant(1/m)\n",
      "\n",
      "#Calculation\n",
      "b=74-math.sqrt(36/(5*R*lamda));         #nuclear screening constant\n",
      "\n",
      "#Result\n",
      "print \"nuclear screening constant is\",round(b,2)"
     ],
     "language": "python",
     "metadata": {},
     "outputs": [
      {
       "output_type": "stream",
       "stream": "stdout",
       "text": [
        "nuclear screening constant is 6.25\n"
       ]
      }
     ],
     "prompt_number": 1
    },
    {
     "cell_type": "heading",
     "level": 2,
     "metadata": {},
     "source": [
      "Example number 8.9, Page number 162"
     ]
    },
    {
     "cell_type": "code",
     "collapsed": false,
     "input": [
      "#import modules\n",
      "import math\n",
      "from __future__ import division\n",
      "\n",
      "#Variable declaration\n",
      "mewm=0.6;     #mass adsoption coeffcient(cm^2/g)\n",
      "rho=2.7;    #density of aluminium(g/cm^3)\n",
      "\n",
      "#Calculation\n",
      "mew=rho*mewm;        #linear adsorption coefficent of aluminium (1/cm)\n",
      "T=0.693/mew;         #hvl(cm)\n",
      "x=(math.log(20))*(1/mew);     #thickness(cm)\n",
      "\n",
      "#Result\n",
      "print \"linear adsorption coefficent of aluminium is\",mew,\"cm-1\"\n",
      "print \"the hvl is\",round(T,3),\"cm\"\n",
      "print \"the thickness is\",round(x,2),\"cm\""
     ],
     "language": "python",
     "metadata": {},
     "outputs": [
      {
       "output_type": "stream",
       "stream": "stdout",
       "text": [
        "linear adsorption coefficent of aluminium is 1.62 cm-1\n",
        "the hvl is 0.428 cm\n",
        "the thickness is 1.85 cm\n"
       ]
      }
     ],
     "prompt_number": 4
    },
    {
     "cell_type": "heading",
     "level": 2,
     "metadata": {},
     "source": [
      "Example number 8.10, Page number 167"
     ]
    },
    {
     "cell_type": "code",
     "collapsed": false,
     "input": [
      "#import modules\n",
      "import math\n",
      "from __future__ import division\n",
      "\n",
      "#Variable declaration\n",
      "theta=12;       #glancing angle(degrees)\n",
      "n=1;\n",
      "d=3.04*10**-10;     #grating space(m)\n",
      "\n",
      "#Calculation \n",
      "theta=theta*math.pi/180;         #glancing angle(radian)\n",
      "lamda=(2*d*math.sin(theta))/n;     #wavelength of X-rays(m)\n",
      "theta3=(3*lamda)/(2*d);        #angle for third order reflection(radian)\n",
      "theta3=theta3*180/math.pi;        #angle for third order reflection(degrees)\n",
      "\n",
      "#Result\n",
      "print \"wavelength of X-rays is\",round(lamda/10**-10,2),\"Angstrom\"\n",
      "print \"angle for third order reflection is\",round(theta3,2),\"degrees\"\n",
      "print \"answers given in the book are wrong\""
     ],
     "language": "python",
     "metadata": {},
     "outputs": [
      {
       "output_type": "stream",
       "stream": "stdout",
       "text": [
        "wavelength of X-rays is 1.26 Angstrom\n",
        "angle for third order reflection is 35.74 degrees\n",
        "answers given in the book are wrong\n"
       ]
      }
     ],
     "prompt_number": 13
    },
    {
     "cell_type": "heading",
     "level": 2,
     "metadata": {},
     "source": [
      "Example number 8.11, Page number 167"
     ]
    },
    {
     "cell_type": "code",
     "collapsed": false,
     "input": [
      "#import modules\n",
      "import math\n",
      "from __future__ import division\n",
      "\n",
      "#Variable declaration\n",
      "d=1.181;       #distance of seperation(Angstrom)\n",
      "lamda=1.540;       #wavelength(Angstrom)\n",
      "\n",
      "#Calculation\n",
      "n=2*d/lamda;        #sin(D) = 1 for max value\n",
      "\n",
      "#Result\n",
      "print \"the orders of bragg reflection observed are\",int(n)"
     ],
     "language": "python",
     "metadata": {},
     "outputs": [
      {
       "output_type": "stream",
       "stream": "stdout",
       "text": [
        "the orders of bragg reflection observed are 1\n"
       ]
      }
     ],
     "prompt_number": 14
    },
    {
     "cell_type": "heading",
     "level": 2,
     "metadata": {},
     "source": [
      "Example number 8.12, Page number 168"
     ]
    },
    {
     "cell_type": "code",
     "collapsed": false,
     "input": [
      "#import modules\n",
      "import math\n",
      "from __future__ import division\n",
      "\n",
      "#Variable declaration\n",
      "lamda=0.6;        #wavelength(angstrom)\n",
      "theta1=6.45;\n",
      "theta2=9.15;\n",
      "theta3=13;        #angles(degree)\n",
      "\n",
      "#Calculation\n",
      "lamda=lamda*10**-10;        ##wavelength(m)\n",
      "theta1=theta1*math.pi/180;         \n",
      "theta2=theta2*math.pi/180;         \n",
      "theta3=theta3*math.pi/180;         #angles(radian)\n",
      "d_a=lamda/(2*math.sin(theta1));     #interplanar spacing for 6.45 degrees(m)\n",
      "d_b=lamda/(2*math.sin(theta2));\n",
      "d_c=lamda/(2*math.sin(theta3));       \n",
      "\n",
      "#Result\n",
      "print \"interplanar spacing for 6.45 degrees is\",round(d_a/1e-10,2),\"*10^-10 m\"\n",
      "print \"interplanar spacing for 9.15 degrees is\",round(d_b/1e-10,3),\"*10^-10 m\"\n",
      "print \"interplanar spacing for 13 degrees is\",round(d_c/1e-10,2),\"*10^-10 m\"\n",
      "print \"answers given in the book vary due to rounding off errors\""
     ],
     "language": "python",
     "metadata": {},
     "outputs": [
      {
       "output_type": "stream",
       "stream": "stdout",
       "text": [
        "interplanar spacing for 6.45 degrees is 2.67 *10^-10 m\n",
        "interplanar spacing for 9.15 degrees is 1.887 *10^-10 m\n",
        "interplanar spacing for 13 degrees is 1.33 *10^-10 m\n",
        "answers given in the book vary due to rounding off errors\n"
       ]
      }
     ],
     "prompt_number": 22
    },
    {
     "cell_type": "heading",
     "level": 2,
     "metadata": {},
     "source": [
      "Example number 8.13, Page number 168"
     ]
    },
    {
     "cell_type": "code",
     "collapsed": false,
     "input": [
      "#import modules\n",
      "import math\n",
      "from __future__ import division\n",
      "\n",
      "#Variable declaration\n",
      "lamda=3*10**-10;      #wavelength(m)\n",
      "theta=40;            #angle(degree)\n",
      "n=1;\n",
      "\n",
      "#Calculation\n",
      "theta=theta*math.pi/180;         #angle(radian)\n",
      "d=n*lamda/(2*math.sin(theta));     #spacing between planes(m)\n",
      "a=2*d;            #lattice constant(m)\n",
      "V=a**3;           #volume of unit cell(m^3)\n",
      "\n",
      "#Result\n",
      "print \"spacing between planes is\",round(d/10**-10,2),\"AU\"\n",
      "print \"volume of unit cell is\",round(V/1e-28,3),\"*10^-28 m^3\""
     ],
     "language": "python",
     "metadata": {},
     "outputs": [
      {
       "output_type": "stream",
       "stream": "stdout",
       "text": [
        "spacing between planes is 2.33 AU\n",
        "volume of unit cell is 1.017 *10^-28 m^3\n"
       ]
      }
     ],
     "prompt_number": 25
    },
    {
     "cell_type": "heading",
     "level": 2,
     "metadata": {},
     "source": [
      "Example number 8.14, Page number 168"
     ]
    },
    {
     "cell_type": "code",
     "collapsed": false,
     "input": [
      "#import modules\n",
      "import math\n",
      "from __future__ import division\n",
      "\n",
      "#Variable declaration\n",
      "theta1=5.4;\n",
      "theta2=7.6;\n",
      "theta3=9.4;          #angles in degree\n",
      "\n",
      "#Calculation\n",
      "theta1=theta1*math.pi/180;         \n",
      "theta2=theta2*math.pi/180;         \n",
      "theta3=theta3*math.pi/180;         #angles(radian)\n",
      "d1=1/(2*math.sin(theta1));\n",
      "d2=1/(2*math.sin(theta2));\n",
      "d3=1/(2*math.sin(theta3));\n",
      "m=min(d1,d2,d3);\n",
      "d1=d1/m;\n",
      "d2=d2/m;\n",
      "d3=d3/m;\n",
      "\n",
      "#Result\n",
      "print \"d1:d2:d3 =\",d1,d2,d3"
     ],
     "language": "python",
     "metadata": {},
     "outputs": [
      {
       "output_type": "stream",
       "stream": "stdout",
       "text": [
        "d1:d2:d3 = 1.73551046111 1.23491924983 1.0\n"
       ]
      }
     ],
     "prompt_number": 27
    },
    {
     "cell_type": "heading",
     "level": 2,
     "metadata": {},
     "source": [
      "Example number 8.15, Page number 169"
     ]
    },
    {
     "cell_type": "code",
     "collapsed": false,
     "input": [
      "#import modules\n",
      "import math\n",
      "from __future__ import division\n",
      "\n",
      "#Variable declaration\n",
      "V=50000;      #applied voltage(V)\n",
      "rho=1.99*10**3;    #density(kg/m^3)\n",
      "n=4;\n",
      "Na=6.02*10**26;      #Avgraodo number(per kg mole)\n",
      "M=74.6;              #molecular mass\n",
      "lamda=0.248*10**-10;      #wavelength(m)\n",
      "\n",
      "#Calculation\n",
      "lamda_min=12400/V;       #short wavelength limit(Angstrom)\n",
      "a=(n*M/(Na*rho))**(1/3);      #lattice constant(m)\n",
      "d=a/2;\n",
      "theta=math.asin(lamda/(2*d));      #glancing angle(radian)\n",
      "theta=theta*180/math.pi;           #glancing angle(degrees) \n",
      "deg=int(theta);          #glancing angle(degrees) \n",
      "t=60*(theta-deg);\n",
      "m=int(t);              #glancing angle(minutes)\n",
      "\n",
      "#Result\n",
      "print \"short wavelength limit is\",lamda_min,\"Angstrom\"\n",
      "print \"glancing angle is\",deg,\"degrees\",m,\"minutes\"\n",
      "print \"answer for glancing angle in minutes given in the book is wrong\""
     ],
     "language": "python",
     "metadata": {},
     "outputs": [
      {
       "output_type": "stream",
       "stream": "stdout",
       "text": [
        "short wavelength limit is 0.248 Angstrom\n",
        "glancing angle is 2 degrees 15 minutes\n",
        "answer for glancing angle in minutes given in the book is wrong\n"
       ]
      }
     ],
     "prompt_number": 32
    },
    {
     "cell_type": "heading",
     "level": 2,
     "metadata": {},
     "source": [
      "Example number 8.16, Page number 169"
     ]
    },
    {
     "cell_type": "code",
     "collapsed": false,
     "input": [
      "#import modules\n",
      "import math\n",
      "from __future__ import division\n",
      "\n",
      "#Variable declaration\n",
      "lamda=1.54;         #wavelength(angstrom)\n",
      "theta=15.9;         #angle(degrees)\n",
      "M=58.45;            #molecular weight\n",
      "rho=2.164;     #density(g/cm^3)\n",
      "n=2;                #for NaCl molecule\n",
      "\n",
      "#Calculation\n",
      "theta=theta*math.pi/180;         #angle(radian)\n",
      "d=lamda/(2*math.sin(theta));     #lattice spacing(angstrom) \n",
      "dm=d*10**-8;                    ##lattice spacing(cm) \n",
      "Na=M/(2*rho*dm**3);               #Avogadro number(per gm mole)       \n",
      "\n",
      "#Result\n",
      "print \"lattice spacing is\",round(d,2),\"angstrom\"\n",
      "print \"Avogadro number is\",round(Na/1e+23,2),\"*10^23 per gm mole\""
     ],
     "language": "python",
     "metadata": {},
     "outputs": [
      {
       "output_type": "stream",
       "stream": "stdout",
       "text": [
        " lattice spacing is 2.81 angstrom\n",
        "Avogadro number is 6.08 *10^23 per gm mole\n"
       ]
      }
     ],
     "prompt_number": 7
    },
    {
     "cell_type": "heading",
     "level": 2,
     "metadata": {},
     "source": [
      "Example number 8.17, Page number 172"
     ]
    },
    {
     "cell_type": "code",
     "collapsed": false,
     "input": [
      "#import modules\n",
      "import math\n",
      "from __future__ import division\n",
      "\n",
      "#Variable declaration\n",
      "theta=60;         #angle(degree)\n",
      "lamda=0.254;      #wavelength(angstrom)\n",
      "\n",
      "#Calculation\n",
      "theta=theta*math.pi/180;         #angle(radian)\n",
      "dlamda=0.024*(1-math.cos(theta));      #amount of increase in wavelength(angstrom)\n",
      "lamda1=lamda-dlamda;       #primary X-ray wavelength(angstrom)\n",
      "\n",
      "#Result\n",
      "print \"primary X-ray wavelength is\",lamda1,\"angstrom\""
     ],
     "language": "python",
     "metadata": {},
     "outputs": [
      {
       "output_type": "stream",
       "stream": "stdout",
       "text": [
        "primary X-ray wavelength is 0.242 angstrom\n"
       ]
      }
     ],
     "prompt_number": 9
    },
    {
     "cell_type": "heading",
     "level": 2,
     "metadata": {},
     "source": [
      "Example number 8.18, Page number 172"
     ]
    },
    {
     "cell_type": "code",
     "collapsed": false,
     "input": [
      "#import modules\n",
      "import math\n",
      "from __future__ import division\n",
      "\n",
      "#Variable declaration\n",
      "theta=32;         #angle(degree)\n",
      "lamda=1.54*10**-10;      #wavelength(angstrom)\n",
      "h=2;       \n",
      "k=2;\n",
      "l=0;                 #lattice constants\n",
      "\n",
      "#Calculation\n",
      "theta=theta*math.pi/180;         #angle(radian)\n",
      "d=lamda/(2*math.sin(theta));       #interplanar spacing(m)\n",
      "a=d*math.sqrt(h**2+k**2+l**2);     #lattice parameter(m)\n",
      "r=math.sqrt(2)*a/4;            #radius of atom(m)\n",
      "\n",
      "#Result\n",
      "print \"lattice parameter is\",round(a/1e-10,1),\"*10^-10 m\"\n",
      "print \"radius of atom is\",round(r/1e-10,2),\"*10^-10 m\""
     ],
     "language": "python",
     "metadata": {},
     "outputs": [
      {
       "output_type": "stream",
       "stream": "stdout",
       "text": [
        "lattice parameter is 4.1 *10^-10 m\n",
        "radius of atom is 1.45 *10^-10 m\n"
       ]
      }
     ],
     "prompt_number": 11
    }
   ],
   "metadata": {}
  }
 ]
}