{
 "metadata": {
  "name": "",
  "signature": "sha256:9895a0f3fc78aa13cc793dfc60b4d616a3af11e4983465d122ac29be7197893e"
 },
 "nbformat": 3,
 "nbformat_minor": 0,
 "worksheets": [
  {
   "cells": [
    {
     "cell_type": "heading",
     "level": 1,
     "metadata": {},
     "source": [
      "Chapter 25: Elements of Electro-Mechanical Energy Conversion"
     ]
    },
    {
     "cell_type": "heading",
     "level": 2,
     "metadata": {},
     "source": [
      "Example Number 25.1, Page Number:876"
     ]
    },
    {
     "cell_type": "code",
     "collapsed": false,
     "input": [
      "import math\n",
      "\n",
      "#variable declaration\n",
      "sod=15#stator-core outer diameter\n",
      "sid=10.05#stator-core inner diameter\n",
      "rod=10.00#rotor-core outer diameter\n",
      "rid=5#rotor-core inner diameter\n",
      "a=8#axial lenght of the machine\n",
      "b=1.20\n",
      "ur=1000\n",
      "#calculations\n",
      "vs=(3.14/4)*((sod*sod)-(sid*sid))*a#volume of stator-core\n",
      "vr=(3.14/4)*((rod*rod)-(rid*rid))*a#volume of rotor-core\n",
      "va=(3.14/4)*((sid*sid)-(rod*rod))*a#volume of air-gap in the machine\n",
      "ed=(.5*b*b)/(4*3.14*math.pow(10,-7))\n",
      "e=ed*va*math.pow(10,-6)\n",
      "edm=(.5*b*b)/(4*3.14*math.pow(10,-7)*ur)\n",
      "es=edm*vs*math.pow(10,-6)\n",
      "er=edm*vr*math.pow(10,-6)\n",
      "kr=(vs+vr)/vs\n",
      "ke=(es+er)/e\n",
      "ratio=kr/ke\n",
      "eratio=e/(es+er)\n",
      "\n",
      "#result\n",
      "print \"Energy stored in air gap= \",e,\" Joules\"\n",
      "print \"Energy stored in stator-core= \",round(es,2),\" Joules\"\n",
      "print \"Energy stored in rotor core= \",er,\" Joules\"\n",
      "print \"Ratio of energy dtored in air-gap to that stored in the cores=\",round(eratio)\n"
     ],
     "language": "python",
     "metadata": {},
     "outputs": [
      {
       "output_type": "stream",
       "stream": "stdout",
       "text": [
        "Energy stored in air gap=  3.609  Joules\n",
        "Energy stored in stator-core=  0.45  Joules\n",
        "Energy stored in rotor core=  0.27  Joules\n",
        "Ratio of energy dtored in air-gap to that stored in the cores= 5.0\n"
       ]
      }
     ],
     "prompt_number": 2
    },
    {
     "cell_type": "heading",
     "level": 2,
     "metadata": {},
     "source": [
      "Example Number 25.2, Page Number:877"
     ]
    },
    {
     "cell_type": "code",
     "collapsed": false,
     "input": [
      "import math\n",
      "\n",
      "#variable declaration\n",
      "n=800#turns\n",
      "area=5*5#cross sectional area\n",
      "i=1.25#amp\n",
      "x=0.25#cm\n",
      "l=0.402\n",
      "#calculations\n",
      "p=4*3.14*10**(-7)*area*10**(-4)/(0.5*10**(-2))\n",
      "l=n**2*p\n",
      "em=.5*i*i*l\n",
      "W=-1*0.5*n**2*4*3.14*10**(-7)*area*10**(-4)*i**2/(0.5*10**(-2))**2\n",
      "\n",
      "#result\n",
      "print \"a)i)coil inductance=\",l,\"H\"\n",
      "print \"  ii)field energy stored=\",em,\"J\"\n",
      "print \"b)mechanical energy output=\",W,\"NW\""
     ],
     "language": "python",
     "metadata": {},
     "outputs": [
      {
       "output_type": "stream",
       "stream": "stdout",
       "text": [
        "a)i)coil inductance= 0.40192 H\n",
        "  ii)field energy stored= 0.314 J\n",
        "b)mechanical energy output= -62.8 NW\n"
       ]
      }
     ],
     "prompt_number": 13
    },
    {
     "cell_type": "heading",
     "level": 2,
     "metadata": {},
     "source": [
      "Example Number 25.4, Page Number:882"
     ]
    },
    {
     "cell_type": "code",
     "collapsed": false,
     "input": [
      "#variable declaration\n",
      "lo=50#mH\n",
      "xo=0.05#cm\n",
      "r=0.5#ohm\n",
      "x=0.075#cm\n",
      "i2=3#A\n",
      "x2=0.15#cm\n",
      "\n",
      "#calculation\n",
      "l1=2*lo/(1+(x/xo))\n",
      "lambda1=l1*i2*10**(-3)\n",
      "W=0.5*l1*i2**2*10**(-3)\n",
      "l2=2*lo/(1+(x2/xo))\n",
      "lambda2=l2*i2*10**(-3)\n",
      "w2=0.5*i2*(lambda1-lambda2)\n",
      "\n",
      "#result\n",
      "print \"a)magnetic stored energy=\",W,\"J\"\n",
      "print \"b)change in magnetic stored energy=\",w2,\"J\""
     ],
     "language": "python",
     "metadata": {},
     "outputs": []
    },
    {
     "cell_type": "heading",
     "level": 2,
     "metadata": {},
     "source": [
      "Example Number 25.5, Page Number:883"
     ]
    },
    {
     "cell_type": "code",
     "collapsed": false,
     "input": [
      "#variable declaration\n",
      "rc=0.5#ohm\n",
      "v=3#V\n",
      "i=6#A\n",
      "l1=40#mH\n",
      "l2=25#mH\n",
      "wfld=0.5*l2*i*i*0.001\n",
      "delE=0.5*i*i*0.001*(l1-l2)\n",
      "\n",
      "#result\n",
      "print \"a)magnetic stored energy=\",wfld,\"J\"\n",
      "print \"b)change in magnetic store energy=\",delE,\"J\""
     ],
     "language": "python",
     "metadata": {},
     "outputs": [
      {
       "output_type": "stream",
       "stream": "stdout",
       "text": [
        "a)magnetic stored energy= 0.45 J\n",
        "b)change in magnetic store energy= 0.27 J\n"
       ]
      }
     ],
     "prompt_number": 3
    },
    {
     "cell_type": "code",
     "collapsed": false,
     "input": [],
     "language": "python",
     "metadata": {},
     "outputs": []
    }
   ],
   "metadata": {}
  }
 ]
}