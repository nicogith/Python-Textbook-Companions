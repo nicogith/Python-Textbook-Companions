{
 "cells": [
  {
   "cell_type": "markdown",
   "metadata": {},
   "source": [
    "# Chapter 20: Field-effect Transistors"
   ]
  },
  {
   "cell_type": "markdown",
   "metadata": {},
   "source": [
    "## Example 20.1, Page"
   ]
  },
  {
   "cell_type": "code",
   "execution_count": 4,
   "metadata": {
    "collapsed": false
   },
   "outputs": [
    {
     "name": "stdout",
     "output_type": "stream",
     "text": [
      "Small signal voltage gain = -4 \n",
      "Low frequency cut off = 0.16 Hz\n"
     ]
    }
   ],
   "source": [
    "import math\n",
    "\n",
    "#Introduction\n",
    "gm=2*10**-3\n",
    "rd=2*10**3                         #resistance in ohm\n",
    "C=10**-6                           #capacitance in farad\n",
    "R=10**6                            #resistance in ohm\n",
    "\n",
    "\n",
    "#Calculation\n",
    "G=-gm*rd                             #Small signal voltage gain\n",
    "fc=1/(2*math.pi*C*R)                 #frequency in Hz\n",
    "\n",
    "#Result\n",
    "print'Small signal voltage gain = %d '%G\n",
    "print'Low frequency cut off = %.2f Hz'%fc"
   ]
  },
  {
   "cell_type": "markdown",
   "metadata": {},
   "source": [
    "## Example 20.2, Page"
   ]
  },
  {
   "cell_type": "code",
   "execution_count": 2,
   "metadata": {
    "collapsed": false
   },
   "outputs": [
    {
     "name": "stdout",
     "output_type": "stream",
     "text": [
      "Rd = 0.67 kOhm\n"
     ]
    }
   ],
   "source": [
    "import math\n",
    "\n",
    "#Introduction\n",
    "idd=4*10**-3                        #current in ampere\n",
    "vo=8                               #voltage\n",
    "vdd=12                             #voltage\n",
    "\n",
    "#Calculation\n",
    "Rd=vo*(vdd-idd)**-1\n",
    "\n",
    "#Result\n",
    "print'Rd = %.2f kOhm'%Rd          #wrong answer in textbook"
   ]
  }
 ],
 "metadata": {
  "anaconda-cloud": {},
  "kernelspec": {
   "display_name": "Python 2",
   "language": "python",
   "name": "python2"
  },
  "language_info": {
   "codemirror_mode": {
    "name": "ipython",
    "version": 2
   },
   "file_extension": ".py",
   "mimetype": "text/x-python",
   "name": "python",
   "nbconvert_exporter": "python",
   "pygments_lexer": "ipython2",
   "version": "2.7.10"
  }
 },
 "nbformat": 4,
 "nbformat_minor": 0
}
