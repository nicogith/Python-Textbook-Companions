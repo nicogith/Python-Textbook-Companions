{
 "cells": [
  {
   "cell_type": "markdown",
   "metadata": {},
   "source": [
    "# Chapter 5: Signals and Data Transmission"
   ]
  },
  {
   "cell_type": "markdown",
   "metadata": {},
   "source": [
    "## Example 5.1, Page 71"
   ]
  },
  {
   "cell_type": "code",
   "execution_count": 66,
   "metadata": {
    "collapsed": false
   },
   "outputs": [
    {
     "name": "stdout",
     "output_type": "stream",
     "text": [
      "An 8-bit word can take 2^8 = 256 values\n",
      "\n",
      "An 16-bit word can take 2^16 = 65536 values\n",
      "\n",
      "An 32-bit word can take 2^32 = 4.000000 x 10^9 values\n",
      "\n"
     ]
    }
   ],
   "source": [
    "import math\n",
    "#Initialisation\n",
    "n=8                                 #8 bit\n",
    "n2=16                               #16 bit\n",
    "n3=32                               #32 bit\n",
    "\n",
    "#Calculation\n",
    "c=2**n                               #value for 8 bit\n",
    "c2=2**n2                             #value for 16 bit\n",
    "c3=2**n3                             #value for 32 bit\n",
    "\n",
    "#Result\n",
    "print'An 8-bit word can take 2^8 = %d values\\n'%c\n",
    "print'An 16-bit word can take 2^16 = %d values\\n'%c2\n",
    "print'An 32-bit word can take 2^32 = %f x 10^9 values\\n'%(c3/10**9)"
   ]
  },
  {
   "cell_type": "markdown",
   "metadata": {},
   "source": [
    "## Example 5.2, Page 71"
   ]
  },
  {
   "cell_type": "code",
   "execution_count": 67,
   "metadata": {
    "collapsed": false
   },
   "outputs": [
    {
     "name": "stdout",
     "output_type": "stream",
     "text": [
      "An 8-bit word resolution = 0.39 percent\n",
      "\n",
      "An 16-bit word resolution = 0.0015 percent\n",
      "\n",
      "An 32-bit word resolution = 0.000000023 percent\n",
      "\n"
     ]
    }
   ],
   "source": [
    "import math\n",
    "#Initialisation\n",
    "n=8                                 #8 bit\n",
    "n2=16                               #16 bit\n",
    "n3=32                               #32 bit\n",
    "\n",
    "\n",
    "#Calculation\n",
    "c=2**n                               #value for 8 bit\n",
    "p=(1*c**-1)*100                      #percent\n",
    "c2=2**n2                             #value for 16 bit\n",
    "p2=(1*c2**-1)*100                      #percent\n",
    "c3=2**n3                             #value for 32 bit\n",
    "p3=(1*c3**-1)*100                      #percent\n",
    "\n",
    "#Result\n",
    "print'An 8-bit word resolution = %.2f percent\\n'%p\n",
    "print'An 16-bit word resolution = %.4f percent\\n'%p2\n",
    "print'An 32-bit word resolution = %.9f percent\\n'%p3"
   ]
  },
  {
   "cell_type": "markdown",
   "metadata": {},
   "source": [
    "## Example 5.3, Page 73"
   ]
  },
  {
   "cell_type": "code",
   "execution_count": 64,
   "metadata": {
    "collapsed": false
   },
   "outputs": [
    {
     "data": {
      "image/png": "[encoded data removed]",
      "text/plain": [
       "<matplotlib.figure.Figure at 0x8ee1f60>"
      ]
     },
     "metadata": {},
     "output_type": "display_data"
    }
   ],
   "source": [
    "import math\n",
    "import numpy as np\n",
    "import matplotlib.pyplot as plt\n",
    "\n",
    "#data\n",
    "x = np.linspace(0, 3, 1)\n",
    "y=2\n",
    "\n",
    "#plotting\n",
    "\n",
    "plt.bar(1, y, 0.001*max(x))\n",
    "\n",
    "\n",
    "xlabel(\"Frequency in kHz\")\n",
    "ylabel(\"Voltage\")\n",
    "title(\"Frequency Spectrum\")\n",
    "plt.axis([0, 2, 0, 3])\n",
    "plt.grid()\n",
    "plt.show()\n",
    "\n"
   ]
  },
  {
   "cell_type": "markdown",
   "metadata": {},
   "source": [
    "## Example 5.4, Page 73"
   ]
  },
  {
   "cell_type": "code",
   "execution_count": 65,
   "metadata": {
    "collapsed": false
   },
   "outputs": [
    {
     "data": {
      "image/png": "[encoded data removed]",
      "text/plain": [
       "<matplotlib.figure.Figure at 0x8b6bd30>"
      ]
     },
     "metadata": {},
     "output_type": "display_data"
    }
   ],
   "source": [
    "import math\n",
    "import numpy as np\n",
    "import matplotlib.pyplot as plt\n",
    "\n",
    "#data\n",
    "x = np.linspace(0, 3, 1)\n",
    "y=2\n",
    "y1=1\n",
    "\n",
    "#plotting\n",
    "plt.bar(1, y, 0.001*max(x))\n",
    "plt.bar(1.5, y1, 0.001*max(x))\n",
    "\n",
    "\n",
    "xlabel(\"Frequency in kHz\")\n",
    "ylabel(\"Voltage\")\n",
    "title(\"Frequency Spectrum\")\n",
    "plt.axis([0, 2, 0, 3])\n",
    "plt.grid()\n",
    "plt.show()\n"
   ]
  },
  {
   "cell_type": "markdown",
   "metadata": {},
   "source": [
    "## Example 5.5, Page 74"
   ]
  },
  {
   "cell_type": "code",
   "execution_count": 68,
   "metadata": {
    "collapsed": false
   },
   "outputs": [
    {
     "name": "stdout",
     "output_type": "stream",
     "text": [
      "Bandwidth = 7.0 kHz\n"
     ]
    }
   ],
   "source": [
    "import math\n",
    "#Initialisation\n",
    "f1=7000                         #Human Speech Frequency Upper limit in HZ\n",
    "f2=50                         #Human Speech Frequency Lower limit in Hz\n",
    "\n",
    "#Calculation\n",
    "B=f1-f2                            #Bandwidth in Hz\n",
    "\n",
    "#Result\n",
    "print'Bandwidth = %.1f kHz'%(B*1000**-1)"
   ]
  }
 ],
 "metadata": {
  "anaconda-cloud": {},
  "kernelspec": {
   "display_name": "Python 2",
   "language": "python",
   "name": "python2"
  },
  "language_info": {
   "codemirror_mode": {
    "name": "ipython",
    "version": 2
   },
   "file_extension": ".py",
   "mimetype": "text/x-python",
   "name": "python",
   "nbconvert_exporter": "python",
   "pygments_lexer": "ipython2",
   "version": "2.7.10"
  }
 },
 "nbformat": 4,
 "nbformat_minor": 0
}
