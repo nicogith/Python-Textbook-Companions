{
 "cells": [
  {
   "cell_type": "markdown",
   "metadata": {},
   "source": [
    "# Chapter 23: Electric Motors and Generators"
   ]
  },
  {
   "cell_type": "markdown",
   "metadata": {},
   "source": [
    "## Example 23.1, Page 483"
   ]
  },
  {
   "cell_type": "code",
   "execution_count": 1,
   "metadata": {
    "collapsed": false
   },
   "outputs": [
    {
     "name": "stdout",
     "output_type": "stream",
     "text": [
      "Sinusoidal Voltage with Peak value = 8.4 V\n"
     ]
    }
   ],
   "source": [
    "import math\n",
    "#initialization\n",
    "n=100                   #no of turns\n",
    "b=400*10**-3            #magnetic field\n",
    "a=20*10**-4             #area in cm^2\n",
    "w=105                    #angular frequency\n",
    "\n",
    "#calculation\n",
    "v=n*b*a*w                 #voltage\n",
    "\n",
    "#result\n",
    "print'Sinusoidal Voltage with Peak value = %.1f V'%v"
   ]
  },
  {
   "cell_type": "markdown",
   "metadata": {},
   "source": [
    "## Example 23.2, Page 488"
   ]
  },
  {
   "cell_type": "code",
   "execution_count": 2,
   "metadata": {
    "collapsed": false
   },
   "outputs": [
    {
     "name": "stdout",
     "output_type": "stream",
     "text": [
      "Rotation Speed = 1800 rpm\n"
     ]
    }
   ],
   "source": [
    "import math\n",
    "#initialization\n",
    "f=60                    #frequency in Hz\n",
    "a=60                    #seconds\n",
    "\n",
    "#calculation\n",
    "f1=f/2                  #required rotation speed\n",
    "f2=f1*a                  #equivalent rotation speed\n",
    "\n",
    "\n",
    "#result\n",
    "print'Rotation Speed = %d rpm'%f2"
   ]
  },
  {
   "cell_type": "markdown",
   "metadata": {},
   "source": [
    "## Example 23.3, Page 490"
   ]
  },
  {
   "cell_type": "code",
   "execution_count": 3,
   "metadata": {
    "collapsed": false
   },
   "outputs": [
    {
     "name": "stdout",
     "output_type": "stream",
     "text": [
      "Rotation Speed = 12000 rpm\n"
     ]
    }
   ],
   "source": [
    "import math\n",
    "#initialization\n",
    "f=50                    #frequency in Hz\n",
    "p=4                     #four times magnetic field for 8 pole motor\n",
    "a=60                    #seconds\n",
    "\n",
    "#calculation\n",
    "f1=f*p                   #required rotation speed\n",
    "f2=f1*a                  #equivalent rotation speed\n",
    "\n",
    "\n",
    "#result\n",
    "print'Rotation Speed = %d rpm'%f2"
   ]
  }
 ],
 "metadata": {
  "anaconda-cloud": {},
  "kernelspec": {
   "display_name": "Python 2",
   "language": "python",
   "name": "python2"
  },
  "language_info": {
   "codemirror_mode": {
    "name": "ipython",
    "version": 2
   },
   "file_extension": ".py",
   "mimetype": "text/x-python",
   "name": "python",
   "nbconvert_exporter": "python",
   "pygments_lexer": "ipython2",
   "version": "2.7.10"
  }
 },
 "nbformat": 4,
 "nbformat_minor": 0
}
