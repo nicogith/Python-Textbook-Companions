{
 "metadata": {
  "name": ""
 },
 "nbformat": 3,
 "nbformat_minor": 0,
 "worksheets": [
  {
   "cells": [
    {
     "cell_type": "heading",
     "level": 2,
     "metadata": {},
     "source": [
      "CHAPTER 8 TRANSISTOR BIASING"
     ]
    },
    {
     "cell_type": "heading",
     "level": 2,
     "metadata": {},
     "source": [
      "Example 8-1, Page 263"
     ]
    },
    {
     "cell_type": "code",
     "collapsed": false,
     "input": [
      "\n",
      "VCC=10                  #collector voltage(V)\n",
      "RC=3.6                  #Collector resistance (KOhm)\n",
      "RE=1                    #Emitter resistance (KOhm)\n",
      "R1=10                   #Base resistance1 (KOhm)\n",
      "R2=2.2                  #Base resistance2 (KOhm)\n",
      "VBE=0.7                 #Base-emitter voltage drop(V)\n",
      "\n",
      "VBB=(R2/(R1+R2))*VCC    #Base voltage(V)\n",
      "VE=VBB-VBE              #Emitter voltage(V)\n",
      "IE=VE/RE                #Emitter current(mA)\n",
      "IC=IE                   #Collector current(mA)\n",
      "VC=VCC-(IC*RC)          #collector to ground voltage(V)\n",
      "VCE=VC-VE               #Collector-emitter voltage(V)\n",
      "\n",
      "print 'Collector current IC = ',round(IC,2),'mA'\n",
      "print 'Collector-emitter voltage VCE = ',round(VCE,2),'V'"
     ],
     "language": "python",
     "metadata": {},
     "outputs": [
      {
       "output_type": "stream",
       "stream": "stdout",
       "text": [
        "Collector current IC =  1.1 mA\n",
        "Collector-emitter voltage VCE =  4.92 V\n"
       ]
      }
     ],
     "prompt_number": 1
    },
    {
     "cell_type": "heading",
     "level": 2,
     "metadata": {},
     "source": [
      "Example 8-3, Page 267"
     ]
    },
    {
     "cell_type": "code",
     "collapsed": false,
     "input": [
      "\n",
      "VCC=10                  #collector voltage(V)\n",
      "RC=3.6                  #Collector resistance (KOhm)\n",
      "RE=1                    #Emitter resistance (KOhm)\n",
      "R1=10                   #Base resistance1 (KOhm)\n",
      "R2=2.2                  #Base resistance2 (KOhm)\n",
      "VBE=0.7                 #Base-emitter voltage drop(V)\n",
      "Bdc=200                 #current gain\n",
      "\n",
      "R=(R1*R2)/(R1+R2)       #Thevenin resistance(KOhm)\n",
      "Ri=Bdc*RE               #Base input resistance(KOhm)\n",
      "R100=0.01*Ri            #100th of Ri(KOhm)\n",
      "VBB=(R2/(R1+R2))*VCC    #Base voltage(V)\n",
      "VE=VBB-VBE              #Emitter voltage(V)\n",
      "IE=VE/(RE+(R/Ri))       #Emitter current(mA)\n",
      "\n",
      "print 'As per stiff voltage divider rule, R1||R2 < 0.01 Bdc*RE, So, Voltage divider is stiff.'\n",
      "print 'Emitter current IE = ',round(IE,2),'mA'"
     ],
     "language": "python",
     "metadata": {},
     "outputs": [
      {
       "output_type": "stream",
       "stream": "stdout",
       "text": [
        "As per stiff voltage divider rule, R1||R2 < 0.01 Bdc*RE, So, Voltage divider is stiff.\n",
        "Emitter current IE =  1.09 mA\n"
       ]
      }
     ],
     "prompt_number": 2
    },
    {
     "cell_type": "heading",
     "level": 2,
     "metadata": {},
     "source": [
      "Example 8-4, Page 269"
     ]
    },
    {
     "cell_type": "code",
     "collapsed": false,
     "input": [
      "\n",
      "VCC=10                  #collector voltage(V)\n",
      "IC=10                   #Collector current(mA)\n",
      "VBE=0.7                 #Base-emitter voltage drop(V)\n",
      "Bdc=100                 #current gain\n",
      "\n",
      "IE=IC                   #Emitter current(mA)\n",
      "VE=0.1*VCC              #Emitter voltage(V)\n",
      "RE=(VE/IE)*1000         #Emitter resistance (Ohm)\n",
      "RC=4*RE                 #Collector resistance(Ohm)\n",
      "R2=0.01*Bdc*RE          #Base input resistance2(Ohm)\n",
      "V2=VE+VBE               #voltage across R1(V)\n",
      "V1=VCC-V2               #voltage across R2(V)\n",
      "R1=(V1/V2)*R2           #Base input resistance1(Ohm)\n",
      "\n",
      "print 'Emitter resistance RE = ',RE,'Ohm'\n",
      "print 'Collector resistance RC = ',RC,'Ohm'\n",
      "print 'Base resistance R1 = ',round(R1,2),'Ohm'\n",
      "print 'Base resistance R2 = ',R2,'Ohm'"
     ],
     "language": "python",
     "metadata": {},
     "outputs": [
      {
       "output_type": "stream",
       "stream": "stdout",
       "text": [
        "Emitter resistance RE =  100.0 Ohm\n",
        "Collector resistance RC =  400.0 Ohm\n",
        "Base resistance R1 =  488.24 Ohm\n",
        "Base resistance R2 =  100.0 Ohm\n"
       ]
      }
     ],
     "prompt_number": 3
    },
    {
     "cell_type": "heading",
     "level": 2,
     "metadata": {},
     "source": [
      "Example 8-5, Page 271"
     ]
    },
    {
     "cell_type": "code",
     "collapsed": false,
     "input": [
      "\n",
      "VCC=10                  #collector voltage(V)\n",
      "RC=3.6                  #Collector resistance (KOhm)\n",
      "RE=1.8                  #Emitter resistance (KOhm)\n",
      "RB=2.7                  #Base resistance (KOhm)\n",
      "VBE=0.7                 #Base-emitter voltage drop(V)\n",
      "VEE=2                   #emitter voltage(V)\n",
      "\n",
      "VBB=0                   #Base voltage(V)\n",
      "VE=VEE-VBE              #Emitter to ground voltage(V)\n",
      "IE=VE/RE                #Emitter current(mA)\n",
      "IC=IE                   #Collector current(mA)\n",
      "VC=VCC-(IC*RC)          #collector to ground voltage(V)\n",
      "\n",
      "print 'Emitter current IE = ',round(IE,2),'mA'\n",
      "print 'Collector voltage VC = ',VC,'V'"
     ],
     "language": "python",
     "metadata": {},
     "outputs": [
      {
       "output_type": "stream",
       "stream": "stdout",
       "text": [
        "Emitter current IE =  0.72 mA\n",
        "Collector voltage VC =  7.4 V\n"
       ]
      }
     ],
     "prompt_number": 4
    },
    {
     "cell_type": "heading",
     "level": 2,
     "metadata": {},
     "source": [
      "Example 8-6, Page 271"
     ]
    },
    {
     "cell_type": "code",
     "collapsed": false,
     "input": [
      "\n",
      "VCC=15                  #collector voltage(V)\n",
      "RC=10                   #Collector resistance (KOhm)\n",
      "RE=20                   #Emitter resistance (KOhm)\n",
      "VBE=0.7                 #Base-emitter voltage drop(V)\n",
      "VEE=15                   #emitter voltage(V)\n",
      "\n",
      "VBB=0                   #Base voltage(V)\n",
      "VE=VEE-VBE              #Emitter to ground voltage(V)\n",
      "IE=VE/RE                #Emitter current(mA)\n",
      "IC=IE                   #Collector current(mA)\n",
      "VC=VCC-(IC*RC)          #collector to ground voltage(V)\n",
      "\n",
      "print 'Emitter current IE = ',IE,'mA'\n",
      "print 'Collector voltage VC = ',VC,'V'"
     ],
     "language": "python",
     "metadata": {},
     "outputs": [
      {
       "output_type": "stream",
       "stream": "stdout",
       "text": [
        "Emitter current IE =  0.715 mA\n",
        "Collector voltage VC =  7.85 V\n"
       ]
      }
     ],
     "prompt_number": 11
    },
    {
     "cell_type": "heading",
     "level": 2,
     "metadata": {},
     "source": [
      "Example 8-7, Page 278"
     ]
    },
    {
     "cell_type": "code",
     "collapsed": false,
     "input": [
      "\n",
      "VCC=-10                 #collector supply voltage(V)\n",
      "VEE=-VCC                #Emitter supply voltage(V)\n",
      "RC=3.6                  #Collector resistance (KOhm)\n",
      "RE=1                    #Emitter resistance (KOhm)\n",
      "R1=10                   #Base resistance1 (KOhm)\n",
      "R2=2.2                  #Base resistance2 (KOhm)\n",
      "VBE=0.7                 #Base-emitter voltage drop(V)\n",
      "\n",
      "V2=(R2/(R1+R2))*VEE     #Base voltage(V)\n",
      "IE=(V2-VBE)/RE          #Emitter current(mA)\n",
      "VC=IE*RC                #collector to ground voltage(V)\n",
      "VB=VEE-V2               #Base to ground voltage(V)\n",
      "VE=VEE-(V2-VBE)         #Emitter to ground voltage(V)\n",
      "\n",
      "print 'Emitter current IE = ',round(IE,2),'mA'\n",
      "print 'Collector to ground voltage VC = ',round(VC,2),'V'\n",
      "print 'Base to ground voltage VB = ',round(VB,2),'V'\n",
      "print 'Emitter to ground voltage VE = ',round(VE,2),'V'"
     ],
     "language": "python",
     "metadata": {},
     "outputs": [
      {
       "output_type": "stream",
       "stream": "stdout",
       "text": [
        "Emitter current IE =  1.1 mA\n",
        "Collector to ground voltage VC =  3.97 V\n",
        "Base to ground voltage VB =  8.2 V\n",
        "Emitter to ground voltage VE =  8.9 V\n"
       ]
      }
     ],
     "prompt_number": 5
    },
    {
     "cell_type": "code",
     "collapsed": false,
     "input": [],
     "language": "python",
     "metadata": {},
     "outputs": []
    }
   ],
   "metadata": {}
  }
 ]
}