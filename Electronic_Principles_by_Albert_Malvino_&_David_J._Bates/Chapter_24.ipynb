{
 "metadata": {
  "name": ""
 },
 "nbformat": 3,
 "nbformat_minor": 0,
 "worksheets": [
  {
   "cells": [
    {
     "cell_type": "heading",
     "level": 2,
     "metadata": {},
     "source": [
      "CHAPTER 24 REGULATED POWER SUPPLIES"
     ]
    },
    {
     "cell_type": "heading",
     "level": 2,
     "metadata": {},
     "source": [
      "Example 24-1, Page 954  "
     ]
    },
    {
     "cell_type": "code",
     "collapsed": false,
     "input": [
      "\n",
      "Rs=10                          #given source resistance Rs(Ohm)\n",
      "RL=40                          #given load resistance RL(Ohm)\n",
      "Vin=15                         #input voltage(V)\n",
      "VBE=0.8                        #base-emitter voltage drop(V) \n",
      "Vz=9.1                         #voltage across diode(V)\n",
      "\n",
      "Vout=Vz+VBE                         #output voltage(V) \n",
      "Is=1000*(Vin-Vout)/Rs               #input current(mA)  \n",
      "IL=1000*Vout/RL                     #load current(mA)\n",
      "IC=Is-IL                            #collector current(mA)\n",
      "\n",
      "print 'Output voltage Vout = ',Vout,'V'\n",
      "print 'input current Is = ',Is,'mA'\n",
      "print 'load current IL = ',IL,'mA'\n",
      "print 'collector current IC = ',IC,'mA'"
     ],
     "language": "python",
     "metadata": {},
     "outputs": [
      {
       "output_type": "stream",
       "stream": "stdout",
       "text": [
        "Output voltage Vout =  9.9 V\n",
        "input current Is =  510.0 mA\n",
        "load current IL =  247.5 mA\n",
        "collector current IC =  262.5 mA\n"
       ]
      }
     ],
     "prompt_number": 1
    },
    {
     "cell_type": "heading",
     "level": 2,
     "metadata": {},
     "source": [
      "Example 24-2, Page 954"
     ]
    },
    {
     "cell_type": "code",
     "collapsed": false,
     "input": [
      "\n",
      "Rs=10                          #given source resistance Rs(Ohm)\n",
      "RL=40                          #given load resistance RL(Ohm)\n",
      "Vin=15                         #input voltage(V)\n",
      "VBE=0.81                       #base-emitter voltage drop(V) \n",
      "Vz=6.2                         #voltage across diode(V)\n",
      "R1=750                         #base input resistance(Ohm)\n",
      "R2=250                         #base input resistance(Ohm)\n",
      "\n",
      "Vout=(Vz+VBE)*(R1+R2)/R1            #output voltage(V) \n",
      "Is=1000*(Vin-Vout)/Rs               #input current(mA)  \n",
      "IL=1000*Vout/RL                     #load current(mA)\n",
      "IC=Is-IL                            #collector current(mA)\n",
      "\n",
      "print 'Output voltage Vout = ',round(Vout,2),'V'\n",
      "print 'input current Is = ',round(Is,2),'mA'\n",
      "print 'load current IL = ',round(IL,2),'mA'\n",
      "print 'collector current IC = ',round(IC,2),'mA'"
     ],
     "language": "python",
     "metadata": {},
     "outputs": [
      {
       "output_type": "stream",
       "stream": "stdout",
       "text": [
        "Output voltage Vout =  9.35 V\n",
        "input current Is =  565.33 mA\n",
        "load current IL =  233.67 mA\n",
        "collector current IC =  331.67 mA\n"
       ]
      }
     ],
     "prompt_number": 1
    },
    {
     "cell_type": "heading",
     "level": 2,
     "metadata": {},
     "source": [
      "Example 24-3, Page 954"
     ]
    },
    {
     "cell_type": "code",
     "collapsed": false,
     "input": [
      "\n",
      "Vout=9.35                         #output voltage(V)\n",
      "IL=234                            #load current(mA)\n",
      "Is=565                            #input current(mA)\n",
      "Vin=15.0                          #input voltage(V)\n",
      "\n",
      "Pout=Vout*IL/1000                 #output power(W)\n",
      "Pin=Vin*Is/1000                   #input power(W)\n",
      "eff=Pout/Pin                      #efficiency\n",
      "preg=Pin-Pout                     #power dissipated by regulator(W)\n",
      "\n",
      "print 'input power Pin = ',Pin,'W'\n",
      "print 'Output power Pout = ',round(Pout,2),'W'\n",
      "print 'Effifciency = ',round((eff*100),2),'%'\n",
      "print'power dissipated by regulator = ',round(preg,2),'W'"
     ],
     "language": "python",
     "metadata": {},
     "outputs": [
      {
       "output_type": "stream",
       "stream": "stdout",
       "text": [
        "input power Pin =  8.475 W\n",
        "Output power Pout =  2.19 W\n",
        "Effifciency =  25.82 %\n",
        "power dissipated by regulator =  6.29 W\n"
       ]
      }
     ],
     "prompt_number": 2
    },
    {
     "cell_type": "heading",
     "level": 2,
     "metadata": {},
     "source": [
      "Example 24-4, Page 955"
     ]
    },
    {
     "cell_type": "code",
     "collapsed": false,
     "input": [
      "\n",
      "Rs=10                          #given source resistance Rs(Ohm)\n",
      "RL=40                          #given load resistance RL(Ohm)\n",
      "Vin=15                         #input voltage(V)\n",
      "Vz=6.8                         #voltage across diode(V)\n",
      "R1=7.5*10**3                   #base input resistance(Ohm)\n",
      "R2=2.5*10**3                   #base input resistance(Ohm)\n",
      "\n",
      "Vout=Vz*(R1+R2)/R1                  #output voltage(V) \n",
      "Is=1000*(Vin-Vout)/Rs               #input current(mA)  \n",
      "IL=1000*Vout/RL                     #load current(mA)\n",
      "IC=Is-IL                            #collector current(mA)\n",
      "\n",
      "print 'Output voltage Vout = ',round(Vout,2),'V'\n",
      "print 'input current Is = ',round(Is,2),'mA'\n",
      "print 'load current IL = ',round(IL,2),'mA'\n",
      "print 'collector current IC = ',round(IC,2),'mA'"
     ],
     "language": "python",
     "metadata": {},
     "outputs": [
      {
       "output_type": "stream",
       "stream": "stdout",
       "text": [
        "Output voltage Vout =  9.07 V\n",
        "input current Is =  593.33 mA\n",
        "load current IL =  226.67 mA\n",
        "collector current IC =  366.67 mA\n"
       ]
      }
     ],
     "prompt_number": 3
    },
    {
     "cell_type": "heading",
     "level": 2,
     "metadata": {},
     "source": [
      "Example 24-5, Page 956"
     ]
    },
    {
     "cell_type": "code",
     "collapsed": false,
     "input": [
      "\n",
      "Is1=510                            #input current in ex. 24-1 (mA)\n",
      "Is2=565                            #input current in ex. 24-2 (mA)\n",
      "Is4=593                            #input current in ex. 24-4 (mA)\n",
      "\n",
      "Imax1=Is1                           #maximum load current (mA) \n",
      "Imax2=Is2                           #maximum load current (mA) \n",
      "Imax4=Is4                           #maximum load current (mA) \n",
      "\n",
      "print 'maximum load current Imax1 = ',Imax1,'mA'\n",
      "print 'maximum load current Imax2 = ',Imax2,'mA'\n",
      "print 'maximum load current Imax4 = ',Imax4,'mA'"
     ],
     "language": "python",
     "metadata": {},
     "outputs": [
      {
       "output_type": "stream",
       "stream": "stdout",
       "text": [
        "maximum load current Imax1 =  510 mA\n",
        "maximum load current Imax2 =  565 mA\n",
        "maximum load current Imax4 =  593 mA\n"
       ]
      }
     ],
     "prompt_number": 8
    },
    {
     "cell_type": "heading",
     "level": 2,
     "metadata": {},
     "source": [
      "Example 24-6, Page 956"
     ]
    },
    {
     "cell_type": "code",
     "collapsed": false,
     "input": [
      "\n",
      "VNL=9.91                              #given VNL(V)\n",
      "VFL=9.81                              #given VFL(V)\n",
      "VHL=9.94                              #given VHL(V) \n",
      "VLL=9.79                              #given VLL(V)\n",
      "\n",
      "LoR=(VNL-VFL)*100/VFL                  #Load regulation(%)\n",
      "LiR=(VHL-VLL)*100/VLL                  #Line regulation(%)\n",
      "\n",
      "print 'Load regulation = ',round(LoR,2),'%'\n",
      "print 'Line regulation = ',round(LiR,2),'%'"
     ],
     "language": "python",
     "metadata": {},
     "outputs": [
      {
       "output_type": "stream",
       "stream": "stdout",
       "text": [
        "Load regulation =  1.02 %\n",
        "Line regulation =  1.53 %\n"
       ]
      }
     ],
     "prompt_number": 4
    },
    {
     "cell_type": "heading",
     "level": 2,
     "metadata": {},
     "source": [
      "Example 24-7, Page 962"
     ]
    },
    {
     "cell_type": "code",
     "collapsed": false,
     "input": [
      "\n",
      "RL=40.0                         #given load resistance RL(Ohm)\n",
      "VBE=0.7                         #base-emitter voltage drop(V) \n",
      "Vz=6.2                          #voltage across diode(V)\n",
      "R1=3.0                          #base input resistance(KOhm)\n",
      "R2=1.0                          #base input resistance(KOhm)\n",
      "Vin=15                          #input voltage(V)\n",
      "\n",
      "Vout=(Vz+VBE)*(R1+R2)/R1        #output voltage(V)\n",
      "IC=Vout/RL                      #transistor current(A)\n",
      "PD=(Vin-Vout)*IC                #power dissipation(W)\n",
      "\n",
      "print 'Output voltage Vout = ',Vout,'V'\n",
      "print 'transistor current = load current = IC = ',IC*1000,'mA'\n",
      "print 'Power dissipation PD = ',PD,'W'"
     ],
     "language": "python",
     "metadata": {},
     "outputs": [
      {
       "output_type": "stream",
       "stream": "stdout",
       "text": [
        "Output voltage Vout =  9.2 V\n",
        "transistor current = load current = IC =  "
       ]
      },
      {
       "output_type": "stream",
       "stream": "stdout",
       "text": [
        "230.0 mA\n",
        "Power dissipation PD =  1.334 W\n"
       ]
      }
     ],
     "prompt_number": 11
    },
    {
     "cell_type": "heading",
     "level": 2,
     "metadata": {},
     "source": [
      "Example 24-8, Page 963"
     ]
    },
    {
     "cell_type": "code",
     "collapsed": false,
     "input": [
      "\n",
      "Vout=9.2                          #output voltage(V)\n",
      "IL=230                            #load current(mA)\n",
      "Vin=15.0                          #input voltage(V)\n",
      "\n",
      "Pout=Vout*IL/1000                 #output power(W)\n",
      "Pin=Vin*IL/1000                   #input power(W)\n",
      "eff1=Pout/Pin                     #efficiency\n",
      "eff2=Vout/Vin                     #efficiency\n",
      "\n",
      "print 'input power Pin = ',Pin,'W'\n",
      "print 'Output power Pout = ',Pout,'W'\n",
      "print 'Effifciency 1= ',round((eff1*100),2),'%'\n",
      "print 'Effifciency 2= ',round((eff2*100),2),'%'"
     ],
     "language": "python",
     "metadata": {},
     "outputs": [
      {
       "output_type": "stream",
       "stream": "stdout",
       "text": [
        "input power Pin =  3.45 W\n",
        "Output power Pout =  2.116 W\n",
        "Effifciency 1=  61.33 %\n",
        "Effifciency 2=  61.33 %\n"
       ]
      }
     ],
     "prompt_number": 5
    },
    {
     "cell_type": "heading",
     "level": 2,
     "metadata": {},
     "source": [
      "Example 24-9, Page 963"
     ]
    },
    {
     "cell_type": "code",
     "collapsed": false,
     "input": [
      "\n",
      "RL=4.0                          #given load resistance RL(Ohm)\n",
      "Vz=5.6                          #voltage across diode(V)\n",
      "R1=2.7                          #base input resistance(KOhm)\n",
      "R2=2.2                          #base input resistance(KOhm)\n",
      "Vin=15                          #input voltage(V)\n",
      "B=100                           #current gain\n",
      "\n",
      "Vout=Vz*(R1+R2)/R1              #output voltage(V)\n",
      "IL=Vout/RL                      #load current(A)\n",
      "IB=IL/B                         #base current(A)\n",
      "\n",
      "print 'Output voltage Vout = ',round(Vout,2),'V'\n",
      "print 'Load current IL = ',round(IL,2),'A'\n",
      "print 'base current IB = ',round((IB*1000),2),'mA'"
     ],
     "language": "python",
     "metadata": {},
     "outputs": [
      {
       "output_type": "stream",
       "stream": "stdout",
       "text": [
        "Output voltage Vout =  10.16 V\n",
        "Load current IL =  2.54 A\n",
        "base current IB =  25.41 mA\n"
       ]
      }
     ],
     "prompt_number": 6
    },
    {
     "cell_type": "heading",
     "level": 2,
     "metadata": {},
     "source": [
      "Example 24-10, Page 964"
     ]
    },
    {
     "cell_type": "code",
     "collapsed": false,
     "input": [
      "\n",
      "VNL=10.16                              #given VNL(V)\n",
      "VFL=10.15                              #given VFL(V)\n",
      "VHL=10.16                              #given VHL(V) \n",
      "VLL=10.07                              #given VLL(V)\n",
      "\n",
      "LoR=(VNL-VFL)*100/VFL                  #Load regulation(%)\n",
      "LiR=(VHL-VLL)*100/VLL                  #Line regulation(%)\n",
      "\n",
      "print 'Load regulation = ',round(LoR,3),'%'\n",
      "print 'Line regulation = ',round(LiR,2),'%'"
     ],
     "language": "python",
     "metadata": {},
     "outputs": [
      {
       "output_type": "stream",
       "stream": "stdout",
       "text": [
        "Load regulation =  0.099 %\n",
        "Line regulation =  0.89 %\n"
       ]
      }
     ],
     "prompt_number": 9
    },
    {
     "cell_type": "heading",
     "level": 2,
     "metadata": {},
     "source": [
      "Example 24-11, Page 965"
     ]
    },
    {
     "cell_type": "code",
     "collapsed": false,
     "input": [
      "\n",
      "RL=3.0                          #given load resistance RL(Ohm)\n",
      "Vz=4.7                          #voltage across diode(V)\n",
      "R11=1750                        #base input resistance with max. potentiometer(Ohm)\n",
      "R12=750                         #base input resistance with min. potentiometer(Ohm)\n",
      "R2=750                          #base input resistance(Ohm)\n",
      "Vin=22.5                        #max. input voltage(V)\n",
      "B=100                           #current gain\n",
      "Rs=820                          #input side resistance(Ohm)\n",
      "Vcl=0.6                          #voltage across current limiting resistor(V)\n",
      "Vcs=0.7                          #voltage across current sensing resistor(V)\n",
      "Vo=12.5                         #regulated voltage given(V)\n",
      "\n",
      "Iz=(Vin-Vz)/Rs                  #max. zener current(A)\n",
      "Vout1=Vz*(R11+R2)/R11           #min. regulated output voltage(V)\n",
      "Vout2=Vz*(R12+R2)/R12           #max. regulated output voltage(V)\n",
      "IL=Vcl/RL                       #load current(A)\n",
      "RL1=Vo/IL                       #load resistance(Ohm)\n",
      "ISL=Vcs/RL                      #shorted-load current(A)\n",
      "\n",
      "print 'maximum zener current Iz = ',round((Iz*1000),2),'mA'\n",
      "print 'Load current IL = ',IL*1000,'mA'\n",
      "print 'load resistance RL = ',RL1,'Ohm'\n",
      "print 'shorted-load current ISL = ',round((ISL*1000),2),'mA'"
     ],
     "language": "python",
     "metadata": {},
     "outputs": [
      {
       "output_type": "stream",
       "stream": "stdout",
       "text": [
        "maximum zener current Iz =  21.71 mA\n",
        "Load current IL =  200.0 mA\n",
        "load resistance RL =  62.5 Ohm\n",
        "shorted-load current ISL =  233.33 mA\n"
       ]
      }
     ],
     "prompt_number": 10
    },
    {
     "cell_type": "heading",
     "level": 2,
     "metadata": {},
     "source": [
      "Example 24-12, Page 971"
     ]
    },
    {
     "cell_type": "code",
     "collapsed": false,
     "input": [
      "\n",
      "Vout=12.0                                #regulated output voltage(V)\n",
      "RL=100.0                                 #given load resistance RL(Ohm)\n",
      "\n",
      "C=1000*10**-6                            #given capacitance(F)\n",
      "f=120                                    #frequency(Hz)\n",
      "RR_dB=72.0                               #ripple rejection(dB)\n",
      "\n",
      "IL=Vout/RL                               #load current(A)\n",
      "VRi=IL/(f*C)                             #peak to peak input ripple (V)\n",
      "RR=10**(RR_dB/20)                        #ripple rejection\n",
      "VRo=VRi/RR                               #peak to peak output ripple (V)\n",
      "\n",
      "print 'Load current IL = ',IL*1000,'mA'\n",
      "print 'peak to peak input ripple = ',VRi,'V'\n",
      "print 'peak to peak output ripple = ',round((VRo*1000),2),'mV'"
     ],
     "language": "python",
     "metadata": {},
     "outputs": [
      {
       "output_type": "stream",
       "stream": "stdout",
       "text": [
        "Load current IL =  120.0 mA\n",
        "peak to peak input ripple =  1.0 V\n",
        "peak to peak output ripple =  0.25 mV\n"
       ]
      }
     ],
     "prompt_number": 11
    },
    {
     "cell_type": "heading",
     "level": 2,
     "metadata": {},
     "source": [
      "Example 24-13, Page 972"
     ]
    },
    {
     "cell_type": "code",
     "collapsed": false,
     "input": [
      "\n",
      "R1=2.0                          #given resistance(KOhm)\n",
      "R2=22.0                         #given resistance(KOhm)\n",
      "R21=46.0                        #given resistance increased(KOhm)\n",
      "\n",
      "Vout1=1.25*(R1+R2)/R1              #output voltage(V)\n",
      "Vout2=1.25*(R1+R21)/R1             #output voltage with increased R2(V)\n",
      "\n",
      "print 'Output voltage Vout1 = ',Vout1,'V'\n",
      "print 'output voltage with increased R2, Vout2 = ',Vout2,'V' "
     ],
     "language": "python",
     "metadata": {},
     "outputs": [
      {
       "output_type": "stream",
       "stream": "stdout",
       "text": [
        "Output voltage Vout1 =  15.0 V\n",
        "output voltage with increased R2, Vout2 =  30.0 V\n"
       ]
      }
     ],
     "prompt_number": 26
    },
    {
     "cell_type": "heading",
     "level": 2,
     "metadata": {},
     "source": [
      "Example 24-14, Page 972"
     ]
    },
    {
     "cell_type": "code",
     "collapsed": false,
     "input": [
      "\n",
      "Vout=5.0                          #output voltage(V)\n",
      "Vin_min=7.5                       #min. input voltage(V)\n",
      "Vin_max=20.0                      #max. input voltage(V)\n",
      "\n",
      "eff_max=Vout/Vin_min                     #maximum efficiency\n",
      "eff_min=Vout/Vin_max                     #minimum efficiency\n",
      "\n",
      "print 'Minimum Effifciency = ',eff_min*100,'%'\n",
      "print 'Maximum Effifciency = ',round((eff_max*100),2),'%'"
     ],
     "language": "python",
     "metadata": {},
     "outputs": [
      {
       "output_type": "stream",
       "stream": "stdout",
       "text": [
        "Minimum Effifciency =  25.0 %\n",
        "Maximum Effifciency =  66.67 %\n"
       ]
      }
     ],
     "prompt_number": 12
    },
    {
     "cell_type": "heading",
     "level": 2,
     "metadata": {},
     "source": [
      "Example 24-15, Page 984"
     ]
    },
    {
     "cell_type": "code",
     "collapsed": false,
     "input": [
      "\n",
      "R1=2.21                          #given resistance(KOhm)\n",
      "R2=2.8                           #given resistance(KOhm)\n",
      "R21=46.0                         #given resistance increased(KOhm)\n",
      "VREF=2.21                        #Reference voltage(V)\n",
      "\n",
      "Vout=VREF*(R1+R2)/R1             #output voltage(V)\n",
      "\n",
      "print 'Output voltage Vout = ',Vout,'V'\n",
      "print 'Input voltage should be 2V greater than output voltage So, Vin = 7 V'"
     ],
     "language": "python",
     "metadata": {},
     "outputs": [
      {
       "output_type": "stream",
       "stream": "stdout",
       "text": [
        "Output voltage Vout =  5.01 V\n",
        "Input voltage should be 2V greater than output voltage So, Vin = 7 V\n"
       ]
      }
     ],
     "prompt_number": 31
    },
    {
     "cell_type": "heading",
     "level": 2,
     "metadata": {},
     "source": [
      "Example 24-16, Page 984"
     ]
    },
    {
     "cell_type": "code",
     "collapsed": false,
     "input": [
      "\n",
      "R1=1                              #given resistance(KOhm)\n",
      "R2=5.79                           #given resistance(KOhm)\n",
      "VREF=2.21                         #Reference voltage(V)\n",
      "\n",
      "Vout=VREF*(R1+R2)/R1             #output voltage(V)\n",
      "\n",
      "print 'Output voltage Vout = ',round(Vout,2),'V'"
     ],
     "language": "python",
     "metadata": {},
     "outputs": [
      {
       "output_type": "stream",
       "stream": "stdout",
       "text": [
        "Output voltage Vout =  15.01 V\n"
       ]
      }
     ],
     "prompt_number": 13
    },
    {
     "cell_type": "code",
     "collapsed": false,
     "input": [],
     "language": "python",
     "metadata": {},
     "outputs": []
    }
   ],
   "metadata": {}
  }
 ]
}