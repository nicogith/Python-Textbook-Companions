{
 "metadata": {
  "name": ""
 },
 "nbformat": 3,
 "nbformat_minor": 0,
 "worksheets": [
  {
   "cells": [
    {
     "cell_type": "heading",
     "level": 2,
     "metadata": {},
     "source": [
      "CHAPTER 6 BIPOLAR JUNCTION TRANSISTOR"
     ]
    },
    {
     "cell_type": "heading",
     "level": 2,
     "metadata": {},
     "source": [
      "Example 6-1, Page 194"
     ]
    },
    {
     "cell_type": "code",
     "collapsed": false,
     "input": [
      "\n",
      "Ic=10                  #collector current(mA)\n",
      "Ib=40.0/1000.0         #base current (mA)\n",
      "\n",
      "Bdc=Ic/Ib            #Current gain\n",
      "\n",
      "print 'Current gain Bdc =',Bdc"
     ],
     "language": "python",
     "metadata": {},
     "outputs": [
      {
       "output_type": "stream",
       "stream": "stdout",
       "text": [
        "Current gain Bdc = 250.0\n"
       ]
      }
     ],
     "prompt_number": 10
    },
    {
     "cell_type": "heading",
     "level": 2,
     "metadata": {},
     "source": [
      "Example 6-2, Page 194"
     ]
    },
    {
     "cell_type": "code",
     "collapsed": false,
     "input": [
      "\n",
      "Bdc=175                #current gain\n",
      "Ib=0.1                 #base current (mA)\n",
      "\n",
      "Ic=Bdc*Ib            #Current gain\n",
      "\n",
      "print 'Collector current Ic =',Ic,'mA'"
     ],
     "language": "python",
     "metadata": {},
     "outputs": [
      {
       "output_type": "stream",
       "stream": "stdout",
       "text": [
        "Collector current Ic = 17.5 mA\n"
       ]
      }
     ],
     "prompt_number": 9
    },
    {
     "cell_type": "heading",
     "level": 2,
     "metadata": {},
     "source": [
      "Example 6-3, Page 195"
     ]
    },
    {
     "cell_type": "code",
     "collapsed": false,
     "input": [
      "\n",
      "Bdc=135.0              #current gain\n",
      "Ic=2.0                 #collector current (mA)\n",
      "\n",
      "Ib=(Ic/Bdc)*1000       #Current gain\n",
      "\n",
      "print 'Base current Ib =',round(Ib,2),'uA'"
     ],
     "language": "python",
     "metadata": {},
     "outputs": [
      {
       "output_type": "stream",
       "stream": "stdout",
       "text": [
        "Base current Ib = 14.81 uA\n"
       ]
      }
     ],
     "prompt_number": 1
    },
    {
     "cell_type": "heading",
     "level": 2,
     "metadata": {},
     "source": [
      "Example 6-4, Page 197"
     ]
    },
    {
     "cell_type": "code",
     "collapsed": false,
     "input": [
      "\n",
      "Vbb=2                  #base source voltage(V)\n",
      "Rb=100                 #base resistor (KOhm)\n",
      "Bdc=200                #current gain\n",
      "Vbe=0.7                #base-emitter voltage drop(V)\n",
      "\n",
      "Ib=((Vbb-Vbe)/Rb)*1000 #base current(uA)\n",
      "Ic=Bdc*Ib/1000         #Collector current(mA)\n",
      "\n",
      "print 'Base current Ib =',Ib,'uA'\n",
      "print 'Collector current Ic =',Ic,'mA'"
     ],
     "language": "python",
     "metadata": {},
     "outputs": [
      {
       "output_type": "stream",
       "stream": "stdout",
       "text": [
        "Base current Ib = 13.0 uA\n",
        "Collector current Ic = 2.6 mA\n"
       ]
      }
     ],
     "prompt_number": 2
    },
    {
     "cell_type": "heading",
     "level": 2,
     "metadata": {},
     "source": [
      "Example 6-5, Page 201"
     ]
    },
    {
     "cell_type": "code",
     "collapsed": false,
     "input": [
      "\n",
      "VBB=10                   #Base voltage (V)\n",
      "RC=2                     #Collector resistance(KOhm)\n",
      "VCC=10                   #collector voltage(V)\n",
      "Bdc=300                  #current gain\n",
      "RB=1                     #base resistance (MOhm)\n",
      "VBE=0.7                  #base-emitter voltage drop(V) \n",
      "\n",
      "IB=((VBB-VBE)/RB)          #base current(uA)\n",
      "IC=Bdc*IB/1000             #Collector current(mA)\n",
      "VCE=VCC-(IC*RC)            #Collector-emitter voltage(V)\n",
      "PD=VCE*IC                  #Collector power dissipation(W)\n",
      "\n",
      "print 'Base current IB =',IB,'uA'\n",
      "print 'Collector current IC =',IC,'mA'\n",
      "print 'Collector-emitter voltage VCE =',VCE,'V'\n",
      "print 'Power dissipation PD = ',round(PD,2),'W'"
     ],
     "language": "python",
     "metadata": {},
     "outputs": [
      {
       "output_type": "stream",
       "stream": "stdout",
       "text": [
        "Base current IB = 9.3 uA\n",
        "Collector current IC = 2.79 mA\n",
        "Collector-emitter voltage VCE = 4.42 V\n",
        "Power dissipation PD =  12.33 W\n"
       ]
      }
     ],
     "prompt_number": 3
    },
    {
     "cell_type": "heading",
     "level": 2,
     "metadata": {},
     "source": [
      "Example 6-6, Page 202"
     ]
    },
    {
     "cell_type": "code",
     "collapsed": false,
     "input": [
      "\n",
      "VBB=10                   #Base voltage (V)\n",
      "RC=470                   #Collector resistance(Ohm)\n",
      "VCC=10                   #collector voltage(V)\n",
      "Bdc=300                  #current gain\n",
      "VCE=5.4535               #collector-emitter voltage shown on multisim screen \n",
      "RB=330                   #base resistance (KOhm)\n",
      "VBE=0.7                  #base-emitter voltage drop \n",
      "\n",
      "IB=((VBB-VBE)/RB)*1000    #base current(uA)\n",
      "V=VCC-VCE                 #voltage across Rc\n",
      "IC=(V/RC)*1000            #Collector current(mA)\n",
      "Bdc=int((IC/IB)*1000)     #Collector-emitter voltage\n",
      "\n",
      "print 'Base current IB =',round(IB,2),'uA'\n",
      "print 'voltage across Rc VRc = ',round(V,2),'V'\n",
      "print 'Collector current IC =',round(IC,2),'mA'\n",
      "print 'Current gain Bdc = ',Bdc"
     ],
     "language": "python",
     "metadata": {},
     "outputs": [
      {
       "output_type": "stream",
       "stream": "stdout",
       "text": [
        "Base current IB = 28.18 uA\n",
        "voltage across Rc VRc =  4.55 V\n",
        "Collector current IC = 9.67 mA\n",
        "Current gain Bdc =  343\n"
       ]
      }
     ],
     "prompt_number": 4
    },
    {
     "cell_type": "heading",
     "level": 2,
     "metadata": {},
     "source": [
      "Example 6-7, Page 204"
     ]
    },
    {
     "cell_type": "code",
     "collapsed": false,
     "input": [
      "\n",
      "VBB=15                   #Base voltage (V)\n",
      "RC=3.6                   #Collector resistance(KOhm)\n",
      "VCC=15                   #collector voltage(V)\n",
      "Bdc=100                  #current gain\n",
      "RB=470                   #base resistance (KOhm)\n",
      "VBE=0                    #base-emitter voltage drop(V) \n",
      "\n",
      "IB=((VBB-VBE)/float(RB))*1000     #base current(uA)\n",
      "IC=Bdc*IB/1000                    #Collector current(mA)\n",
      "VCE=VCC-(IC*RC)                   #Collector-emitter voltage(V)\n",
      "IE=IC+(IB/1000)                   #emitter current(mA)\n",
      "\n",
      "print 'Base current IB =',round(IB,2),'uA'\n",
      "print 'Collector current IC =',round(IC,2),'mA'\n",
      "print 'Collector-emitter voltage VCE = ',round(VCE,2),'V'\n",
      "print 'Emitter current IE =',round(IE,2),'mA'"
     ],
     "language": "python",
     "metadata": {},
     "outputs": [
      {
       "output_type": "stream",
       "stream": "stdout",
       "text": [
        "Base current IB = 31.91 uA\n",
        "Collector current IC = 3.19 mA\n",
        "Collector-emitter voltage VCE =  3.51 V\n",
        "Emitter current IE = 3.22 mA\n"
       ]
      }
     ],
     "prompt_number": 5
    },
    {
     "cell_type": "heading",
     "level": 2,
     "metadata": {},
     "source": [
      "Example 6-8, Page 205"
     ]
    },
    {
     "cell_type": "code",
     "collapsed": false,
     "input": [
      "\n",
      "VBB=15                   #Base voltage (V)\n",
      "RC=3.6                   #Collector resistance(KOhm)\n",
      "VCC=15                   #collector voltage(V)\n",
      "Bdc=100                  #current gain\n",
      "RB=470                   #base resistance (KOhm)\n",
      "VBE=0.7                  #base-emitter voltage drop(V) \n",
      "\n",
      "IB=((VBB-VBE)/float(RB))*1000     #base current(uA)\n",
      "IC=Bdc*IB/1000                    #Collector current(mA)\n",
      "VCE=VCC-(IC*RC)                   #Collector-emitter voltage(V)\n",
      "\n",
      "print 'Base current IB =',round(IB,2),'uA'\n",
      "print 'Collector current IC =',round(IC,2),'mA'\n",
      "print 'Collector-emitter voltage VCE = ',round(VCE,2),'V'"
     ],
     "language": "python",
     "metadata": {},
     "outputs": [
      {
       "output_type": "stream",
       "stream": "stdout",
       "text": [
        "Base current IB = 30.43 uA\n",
        "Collector current IC = 3.04 mA\n",
        "Collector-emitter voltage VCE =  4.05 V\n"
       ]
      }
     ],
     "prompt_number": 6
    },
    {
     "cell_type": "heading",
     "level": 2,
     "metadata": {},
     "source": [
      "Example 6-9, Page 206"
     ]
    },
    {
     "cell_type": "code",
     "collapsed": false,
     "input": [
      "\n",
      "VBB=15                   #Base voltage (V)\n",
      "RC=3.6                   #Collector resistance(KOhm)\n",
      "VCC=15                   #collector voltage(V)\n",
      "Bdc=100                  #current gain\n",
      "RB=470                   #base resistance (KOhm)\n",
      "VBE=1                    #base-emitter voltage drop(V) \n",
      "\n",
      "IB=((VBB-VBE)/float(RB))*1000     #base current(uA)\n",
      "IC=Bdc*IB/1000                    #Collector current(mA)\n",
      "VCE=VCC-(IC*RC)                   #Collector-emitter voltage(V)\n",
      "\n",
      "print 'Base current IB =',round(IB,2),'uA'\n",
      "print 'Collector current IC =',round(IC,2),'mA'\n",
      "print 'Collector-emitter voltage VCE = ',round(VCE,2),'V'"
     ],
     "language": "python",
     "metadata": {},
     "outputs": [
      {
       "output_type": "stream",
       "stream": "stdout",
       "text": [
        "Base current IB = 29.79 uA\n",
        "Collector current IC = 2.98 mA\n",
        "Collector-emitter voltage VCE =  4.28 V\n"
       ]
      }
     ],
     "prompt_number": 7
    },
    {
     "cell_type": "heading",
     "level": 2,
     "metadata": {},
     "source": [
      "Example 6-10, Page 206"
     ]
    },
    {
     "cell_type": "code",
     "collapsed": false,
     "input": [
      "\n",
      "VBB=5                    #Base voltage (V)\n",
      "RC=3.6                   #Collector resistance(KOhm)\n",
      "VCC=15                   #collector voltage(V)\n",
      "Bdc=100                  #current gain\n",
      "RB=470                   #base resistance (KOhm)\n",
      "VBE1=0                   #base-emitter voltage drop1(V) \n",
      "VBE2=0.7                 #base-emitter voltage drop2(V)\n",
      "VBE3=1                   #base-emitter voltage drop3(V)\n",
      "\n",
      "IB1=((VBB-VBE1)/float(RB))*1000     #base current1(uA)\n",
      "IC1=Bdc*IB1/1000                    #Collector current1(mA)\n",
      "VCE1=VCC-(IC1*RC)                   #Collector-emitter voltage1(V)\n",
      "\n",
      "IB2=((VBB-VBE2)/float(RB))*1000     #base current2(uA)\n",
      "IC2=Bdc*IB2/1000                    #Collector current2(mA)\n",
      "VCE2=VCC-(IC2*RC)                   #Collector-emitter voltage2(V)\n",
      "\n",
      "IB3=((VBB-VBE3)/float(RB))*1000     #base current3(uA)\n",
      "IC3=Bdc*IB3/1000                    #Collector current3(mA)\n",
      "VCE3=VCC-(IC3*RC)                   #Collector-emitter voltage3(V)\n",
      "\n",
      "print 'Base current IB1 =',round(IB1,2),'uA'\n",
      "print 'Collector current IC1 =',round(IC1,2),'mA'\n",
      "print 'Collector-emitter voltage VCE1 = ',round(VCE1,2),'V'\n",
      "\n",
      "print 'Base current IB2 =',round(IB2,2),'uA'\n",
      "print 'Collector current IC2 =',round(IC2,2),'mA'\n",
      "print 'Collector-emitter voltage VCE2 = ',round(VCE2,2),'V'\n",
      "\n",
      "print 'Base current IB3 =',round(IB3,2),'uA'\n",
      "print 'Collector current IC3 =',round(IC3,2),'mA'\n",
      "print 'Collector-emitter voltage VCE3 = ',round(VCE3,2),'V'"
     ],
     "language": "python",
     "metadata": {},
     "outputs": [
      {
       "output_type": "stream",
       "stream": "stdout",
       "text": [
        "Base current IB1 = 10.64 uA\n",
        "Collector current IC1 = 1.06 mA\n",
        "Collector-emitter voltage VCE1 =  11.17 V\n",
        "Base current IB2 = 9.15 uA\n",
        "Collector current IC2 = 0.91 mA\n",
        "Collector-emitter voltage VCE2 =  11.71 V\n",
        "Base current IB3 = 8.51 uA\n",
        "Collector current IC3 = 0.85 mA\n",
        "Collector-emitter voltage VCE3 =  11.94 V\n"
       ]
      }
     ],
     "prompt_number": 8
    },
    {
     "cell_type": "heading",
     "level": 2,
     "metadata": {},
     "source": [
      "Example 6-11, Page 211"
     ]
    },
    {
     "cell_type": "code",
     "collapsed": false,
     "input": [
      "\n",
      "VCE=10                    #Collector-emitter voltage(V)\n",
      "IC=20                     #Collector current(mA)\n",
      "T=25                      #Ambient temperature(deg C)\n",
      "                    \n",
      "PD = VCE*IC               #Power dissipation(mW)\n",
      "\n",
      "print 'Power dissipation PD = ',PD,'mW'\n",
      "print 'for 25 deg C, power rating is 625 mW So, transistor is well within power rating.'"
     ],
     "language": "python",
     "metadata": {},
     "outputs": [
      {
       "output_type": "stream",
       "stream": "stdout",
       "text": [
        "Power dissipation PD =  200 mW\n",
        "for 25 deg C, power rating is 625 mW So, transistor is well within power rating.\n"
       ]
      }
     ],
     "prompt_number": 9
    },
    {
     "cell_type": "heading",
     "level": 2,
     "metadata": {},
     "source": [
      "Example 6-12, Page 212"
     ]
    },
    {
     "cell_type": "code",
     "collapsed": false,
     "input": [
      "\n",
      "T1=100                    #Ambient temperature(deg C)\n",
      "T2=25                     #Reference temperature(deg C)\n",
      "mf=5                      #Multiply factor(mW/deg C)   \n",
      "Pr=625                    #power rating(mW)\n",
      "\n",
      "Td=T1-T2                  #Temperature difference(deg C)\n",
      "Pd=mf*Td                  #Difference in power(mW)\n",
      "PDmax=Pr-Pd               #Maximum power dissipation(mW)\n",
      "\n",
      "print 'Maximum Power dissipation PDmax = ',PDmax,'mW'\n",
      "print 'for 25 deg C, power rating is 625 mW So, transistor is yet within power rating.'"
     ],
     "language": "python",
     "metadata": {},
     "outputs": [
      {
       "output_type": "stream",
       "stream": "stdout",
       "text": [
        "Maximum Power dissipation PDmax =  250 mW\n",
        "for 25 deg C, power rating is 625 mW So, transistor is yet within power rating.\n"
       ]
      }
     ],
     "prompt_number": 10
    },
    {
     "cell_type": "code",
     "collapsed": false,
     "input": [],
     "language": "python",
     "metadata": {},
     "outputs": []
    }
   ],
   "metadata": {}
  }
 ]
}