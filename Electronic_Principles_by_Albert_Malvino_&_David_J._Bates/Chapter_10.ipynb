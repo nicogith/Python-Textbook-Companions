{
 "metadata": {
  "name": ""
 },
 "nbformat": 3,
 "nbformat_minor": 0,
 "worksheets": [
  {
   "cells": [
    {
     "cell_type": "heading",
     "level": 2,
     "metadata": {},
     "source": [
      "CHAPTER 10 VOLTAGE AMPLIFIERS"
     ]
    },
    {
     "cell_type": "heading",
     "level": 2,
     "metadata": {},
     "source": [
      "Example 10-1, Page 322"
     ]
    },
    {
     "cell_type": "code",
     "collapsed": false,
     "input": [
      "\n",
      "re=22.7               #Ac resistance as per example 9-5(Ohm)\n",
      "RC=3.6                #Collector Resistance(KOhm)\n",
      "RL=10                 #Load Resistance(KOhm)\n",
      "Vin=2                 #Input voltage(mV)\n",
      "\n",
      "rc=RC*RL/(RC+RL)            #AC collector resistance(Ohm)\n",
      "Av=(rc/re)*1000             #Voltage gain\n",
      "Vout=Av*Vin                 #Output voltage(mV)\n",
      "\n",
      "print 'Voltage gain Av = ',round(Av,2)\n",
      "print 'Output voltage Vout = ',round(Vout,2),'mV'"
     ],
     "language": "python",
     "metadata": {},
     "outputs": [
      {
       "output_type": "stream",
       "stream": "stdout",
       "text": [
        "Voltage gain Av =  116.61\n",
        "Output voltage Vout =  233.22 mV\n"
       ]
      }
     ],
     "prompt_number": 1
    },
    {
     "cell_type": "heading",
     "level": 2,
     "metadata": {},
     "source": [
      "Example 10-2, Page 323"
     ]
    },
    {
     "cell_type": "code",
     "collapsed": false,
     "input": [
      "\n",
      "RC=3.6                #Collector Resistance(KOhm)\n",
      "RL=2.2                #Load Resistance(KOhm)\n",
      "Vin=5                 #Input voltage(mV)\n",
      "VEE=9                 #collector voltage(V)\n",
      "RE=10                 #Emitter resistance(KOhm)\n",
      "VBE=0.7               #Base-emitter voltage drop(V)\n",
      "\n",
      "rc=RC*RL/(RC+RL)            #AC collector resistance(Ohm)\n",
      "IE=(VEE-VBE)/RE             #emitter current(mA)\n",
      "re=25/IE                    #AC resistance(Ohm)\n",
      "Av=(rc/re)*1000             #Voltage gain\n",
      "Vout=Av*Vin                 #Output voltage(mV)\n",
      "\n",
      "print 'Emitter current IE = ',IE,'mA'\n",
      "print 'Voltage gain Av = ',round(Av,2)\n",
      "print 'Output voltage Vout = ',round(Vout,2),'mV'"
     ],
     "language": "python",
     "metadata": {},
     "outputs": [
      {
       "output_type": "stream",
       "stream": "stdout",
       "text": [
        "Emitter current IE =  0.83 mA\n",
        "Voltage gain Av =  45.34\n",
        "Output voltage Vout =  226.68 mV\n"
       ]
      }
     ],
     "prompt_number": 2
    },
    {
     "cell_type": "heading",
     "level": 2,
     "metadata": {},
     "source": [
      "Example 10-3, Page 325"
     ]
    },
    {
     "cell_type": "code",
     "collapsed": false,
     "input": [
      "\n",
      "re=22.7               #Ac resistance as per example 9-5(Ohm)\n",
      "B=300                 #current gain\n",
      "R1=10                 #Base resistance1 (KOhm)\n",
      "R2=2.2                #Base resistance2 (KOhm)\n",
      "Rs=0.6                #internal resistance of source(KOhm)\n",
      "Av=117                #Voltage gain as per example 10-1\n",
      "Vs=2                  #ac voltage supply(mV)\n",
      "\n",
      "Zin_base=B*re/1000                                #input impedance of base(KOhm)\n",
      "Zin_stage=((R1**-1)+(Zin_base**-1)+(R2**-1))**-1  #input impedance of stage(KOhm)\n",
      "Vin=(Zin_stage/(Rs+Zin_stage))*Vs                 #input voltage(mV)\n",
      "Vout=Av*Vin                                       #output voltage(mV)\n",
      "\n",
      "print 'input impedance of stage Zin(stage) = ',round(Zin_stage,2),'KOhm'\n",
      "print 'Output volatge Vout = ',round(Vout,2),'mV'"
     ],
     "language": "python",
     "metadata": {},
     "outputs": [
      {
       "output_type": "stream",
       "stream": "stdout",
       "text": [
        "input impedance of stage Zin(stage) =  1.43 KOhm\n",
        "Output volatge Vout =  164.69 mV\n"
       ]
      }
     ],
     "prompt_number": 3
    },
    {
     "cell_type": "heading",
     "level": 2,
     "metadata": {},
     "source": [
      "Example 10-4, Page 325"
     ]
    },
    {
     "cell_type": "code",
     "collapsed": false,
     "input": [
      "\n",
      "re=22.7               #Ac resistance as per example 9-5(Ohm)\n",
      "B=50                  #current gain\n",
      "R1=10                 #Base resistance1 (KOhm)\n",
      "R2=2.2                #Base resistance2 (KOhm)\n",
      "Rs=0.6                #internal resistance of source(KOhm)\n",
      "Av=117                #Voltage gain as per example 10-1\n",
      "Vs=2                  #ac voltage supply(mV)\n",
      "\n",
      "Zin_base=B*re/1000                                #input impedance of base(KOhm)\n",
      "Zin_stage=((R1**-1)+(Zin_base**-1)+(R2**-1))**-1  #input impedance of stage(KOhm)\n",
      "Vin=(Zin_stage/(Rs+Zin_stage))*Vs                 #input voltage(mV)\n",
      "Vout=Av*Vin                                       #output voltage(mV)\n",
      "\n",
      "print 'input impedance of stage Zin(stage) = ',round(Zin_stage,2),'KOhm'\n",
      "print 'Output volatge Vout = ',round(Vout,2),'mV'"
     ],
     "language": "python",
     "metadata": {},
     "outputs": [
      {
       "output_type": "stream",
       "stream": "stdout",
       "text": [
        "input impedance of stage Zin(stage) =  0.7 KOhm\n",
        "Output volatge Vout =  125.71 mV\n"
       ]
      }
     ],
     "prompt_number": 4
    },
    {
     "cell_type": "heading",
     "level": 2,
     "metadata": {},
     "source": [
      "Example 10-5, Page 327"
     ]
    },
    {
     "cell_type": "code",
     "collapsed": false,
     "input": [
      "\n",
      "re=22.7               #Ac resistance as per example 9-5(Ohm)\n",
      "B=100                 #current gain\n",
      "R1=10                 #Base resistance1 (KOhm)\n",
      "R2=2.2                #Base resistance2 (KOhm)\n",
      "Rs=0.6                #internal resistance of source(KOhm)\n",
      "RC=3.6                #colletcor resistance (KOhm)\n",
      "Vs=1                  #ac voltage supply(mV)\n",
      "RL=10                 #Load resistance(KOhm)\n",
      "\n",
      "Zin_base=B*re/1000                                #input impedance of base(KOhm)\n",
      "Zin_stage1=((R1**-1)+(Zin_base**-1)+(R2**-1))**-1 #input impedance of stage1(KOhm)\n",
      "Vin=(Zin_stage1/(Rs+Zin_stage1))*Vs               #input voltage(mV)\n",
      "Zin_stage2=((R1**-1)+(Zin_base**-1)+(R2**-1))**-1 #input impedance of stage2(KOhm)\n",
      "rc1=(RC*Zin_stage2)/(RC+Zin_stage2)               #AC collector resistance of stage1(KOhm)\n",
      "Av1=rc1/re                                        #Voltage gain of stage 1\n",
      "vc=Av1*Vin                                        #AC collector voltage of stage 1(V)\n",
      "rc2=(RC*RL)/(RC+RL)                               #AC collector resistance of stage2(KOhm)\n",
      "Av2=rc2/re                                        #Voltage gain of stage 2\n",
      "Vout=Av2*vc                                       #output voltage(mV)\n",
      "Av=Av1*Av2                                        #Overall voltage gain\n",
      "Voutf=Av*Vin                                      #AC output voltage across RL(V)\n",
      "\n",
      "print 'AC collector voltage of first stage vc = ',round(vc*1000,2),'mV'\n",
      "print 'AC output voltage across load resistor Vout = ',round(Voutf*1000,2),'V'"
     ],
     "language": "python",
     "metadata": {},
     "outputs": [
      {
       "output_type": "stream",
       "stream": "stdout",
       "text": [
        "AC collector voltage of first stage vc =  21.67 mV\n",
        "AC output voltage across load resistor Vout =  2.53 V\n"
       ]
      }
     ],
     "prompt_number": 5
    },
    {
     "cell_type": "heading",
     "level": 2,
     "metadata": {},
     "source": [
      "Example 10-6, Page 331"
     ]
    },
    {
     "cell_type": "code",
     "collapsed": false,
     "input": [
      "\n",
      "VCC=10                  #collector voltage(V)\n",
      "RC=3.6                  #Collector resistance (KOhm)\n",
      "re=0.18                 #Emitter resistance (KOhm)\n",
      "R1=10                   #Base resistance1 (KOhm)\n",
      "R2=2.2                  #Base resistance2 (KOhm)\n",
      "Rs=0.6                  #internal resistance of source(KOhm)\n",
      "VBE=0.7                 #Base-emitter voltage drop(V)\n",
      "Vs=50                   #ac voltage supply(mV)\n",
      "RL=10                   #Load resistance(KOhm)\n",
      "B=200                   #current gain \n",
      "\n",
      "Zin_base=B*re                                     #input impedance of base(KOhm)\n",
      "Zin_stage=((R1**-1)+(Zin_base**-1)+(R2**-1))**-1  #input impedance of stage(KOhm)\n",
      "Vin=(Zin_stage/(Rs+Zin_stage))*Vs                 #input voltage(mV)\n",
      "rc=(RC*RL)/(RC+RL)                                #AC collector resistance of stage(KOhm)\n",
      "Av=rc/re                                          #Voltage gain of stage\n",
      "Vout=Av*Vin                                       #output voltage(mV)\n",
      "\n",
      "print 'input impedance of stage Zin(stage) = ',round(Zin_stage,2),'KOhm'\n",
      "print 'Output volatge Vout = ',round(Vout,2),'mV'"
     ],
     "language": "python",
     "metadata": {},
     "outputs": [
      {
       "output_type": "stream",
       "stream": "stdout",
       "text": [
        "input impedance of stage Zin(stage) =  1.72 KOhm\n",
        "Output volatge Vout =  544.91 mV\n"
       ]
      }
     ],
     "prompt_number": 6
    },
    {
     "cell_type": "heading",
     "level": 2,
     "metadata": {},
     "source": [
      "Example 10-7, Page 332"
     ]
    },
    {
     "cell_type": "code",
     "collapsed": false,
     "input": [
      "\n",
      "VCC=10                  #collector voltage(V)\n",
      "RC=3.6                  #Collector resistance (KOhm)\n",
      "re=0.18                 #Emitter resistance (KOhm)\n",
      "re1=0.0227              #Ac resistance as per example 9-5(KOhm)\n",
      "R1=10                   #Base resistance1 (KOhm)\n",
      "R2=2.2                  #Base resistance2 (KOhm)\n",
      "Rs=0.6                  #internal resistance of source(KOhm)\n",
      "VBE=0.7                 #Base-emitter voltage drop(V)\n",
      "Vs=50                   #ac voltage supply(mV)\n",
      "RL=10                   #Load resistance(KOhm)\n",
      "B=200                   #current gain \n",
      "\n",
      "Zin_base=B*(re+re1)                               #input impedance of base(KOhm)\n",
      "Zin_stage=((R1**-1)+(Zin_base**-1)+(R2**-1))**-1  #input impedance of stage(KOhm)\n",
      "Vin=(Zin_stage/(Rs+Zin_stage))*Vs                 #input voltage(mV)\n",
      "rc=(RC*RL)/(RC+RL)                                #AC collector resistance of stage(KOhm)\n",
      "Av=rc/(re+re1)                                    #Voltage gain of stage\n",
      "Vout=Av*Vin                                       #output voltage(mV)\n",
      "\n",
      "print 'input impedance of stage Zin(stage) = ',round(Zin_stage,2),'KOhm'\n",
      "print 'Output volatge Vout = ',round(Vout,2),'mV'"
     ],
     "language": "python",
     "metadata": {},
     "outputs": [
      {
       "output_type": "stream",
       "stream": "stdout",
       "text": [
        "input impedance of stage Zin(stage) =  1.73 KOhm\n",
        "Output volatge Vout =  484.55 mV\n"
       ]
      }
     ],
     "prompt_number": 7
    },
    {
     "cell_type": "heading",
     "level": 2,
     "metadata": {},
     "source": [
      "Example 10-8, Page 333"
     ]
    },
    {
     "cell_type": "code",
     "collapsed": false,
     "input": [
      "\n",
      "re=0.18               #emitter reistance(Ohm)\n",
      "B=200                 #current gain\n",
      "R1=10                 #Base resistance1 (KOhm)\n",
      "R2=2.2                #Base resistance2 (KOhm)\n",
      "Rs=0.6                #internal resistance of source(KOhm)\n",
      "RC=3.6                #colletcor resistance (KOhm)\n",
      "Vs=1                  #ac voltage supply(mV)\n",
      "RL=10                 #Load resistance(KOhm)\n",
      "\n",
      "Zin_base=B*re                                     #input impedance of base(KOhm)\n",
      "Zin_stage1=((R1**-1)+(Zin_base**-1)+(R2**-1))**-1 #input impedance of stage1(KOhm)\n",
      "Vin=(Zin_stage1/(Rs+Zin_stage1))*Vs               #input voltage(mV)\n",
      "Zin_stage2=((R1**-1)+(Zin_base**-1)+(R2**-1))**-1 #input impedance of stage2(KOhm)\n",
      "rc1=(RC*Zin_stage2)/(RC+Zin_stage2)               #AC collector resistance of stage1(KOhm)\n",
      "Av1=rc1/re                                        #Voltage gain of stage 1\n",
      "vc=Av1*Vin                                        #AC collector voltage of stage 1(V)\n",
      "rc2=(RC*RL)/(RC+RL)                               #AC collector resistance of stage2(KOhm)\n",
      "Av2=rc2/re                                        #Voltage gain of stage 2\n",
      "Vout=Av2*vc                                       #output voltage(mV)\n",
      "Av=Av1*Av2                                        #Overall voltage gain\n",
      "Voutf=Av*Vin                                      #AC output voltage across RL(V)\n",
      "\n",
      "print 'AC collector voltage of first stage vc = ',round(vc,2),'mV'\n",
      "print 'AC output voltage across load resistor Vout = ',round(Voutf,2),'mV'"
     ],
     "language": "python",
     "metadata": {},
     "outputs": [
      {
       "output_type": "stream",
       "stream": "stdout",
       "text": [
        "AC collector voltage of first stage vc =  4.79 mV\n",
        "AC output voltage across load resistor Vout =  70.39 mV\n"
       ]
      }
     ],
     "prompt_number": 8
    },
    {
     "cell_type": "heading",
     "level": 2,
     "metadata": {},
     "source": [
      "Example 10-9, Page 335"
     ]
    },
    {
     "cell_type": "code",
     "collapsed": false,
     "input": [
      "\n",
      "RV_min=0                #minimum variable resistance (KOhm)\n",
      "RV_max=10               #maximum variable resistance (KOhm)\n",
      "re=0.1                  #Emitter resistance (KOhm)\n",
      "\n",
      "rf_min=RV_min+1         #minimum feedback resistance(KOhm)\n",
      "rf_max=RV_max+1         #maximum feedback resistance(KOhm)\n",
      "Av_min=rf_min/re        #minimum voltage gain\n",
      "Av_max=rf_max/re        #maximum voltage gain\n",
      "\n",
      "print 'minimum voltage gain Av(min)= ',Av_min\n",
      "print 'minimum voltage gain Av(max)= ',Av_max"
     ],
     "language": "python",
     "metadata": {},
     "outputs": [
      {
       "output_type": "stream",
       "stream": "stdout",
       "text": [
        "minimum voltage gain Av(min)=  10.0\n",
        "minimum voltage gain Av(max)=  110.0\n"
       ]
      }
     ],
     "prompt_number": 44
    },
    {
     "cell_type": "code",
     "collapsed": false,
     "input": [],
     "language": "python",
     "metadata": {},
     "outputs": []
    }
   ],
   "metadata": {}
  }
 ]
}