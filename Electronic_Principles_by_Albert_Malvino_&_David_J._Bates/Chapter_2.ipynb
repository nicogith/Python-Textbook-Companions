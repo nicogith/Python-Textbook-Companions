{
 "metadata": {
  "name": ""
 },
 "nbformat": 3,
 "nbformat_minor": 0,
 "worksheets": [
  {
   "cells": [
    {
     "cell_type": "heading",
     "level": 2,
     "metadata": {},
     "source": [
      "CHAPTER 2 SEMICONDUCTORS"
     ]
    },
    {
     "cell_type": "heading",
     "level": 2,
     "metadata": {},
     "source": [
      "Example 2-5, Page 49"
     ]
    },
    {
     "cell_type": "code",
     "collapsed": false,
     "input": [
      "\n",
      "Tj=100               #junction temperature 1(C)\n",
      "Vb=0.7               #Barrier potential(V)\n",
      "Tamb=25              #Ambient temperature(C)\n",
      "T1=0                 #junction temperature 2(C)\n",
      "\n",
      "Vd=-0.002*(Tj-Tamb)  #Change in barrier potential(V)\n",
      "Vbn=Vb+Vd            #Barrier potential(V)\n",
      "Vd1=-0.002*(T1-Tamb) #Change in barrier potential(V)\n",
      "Vb1n=Vb+Vd1          #Barrier potential(V)\n",
      "\n",
      "print 'Change in barrier potential = Vd =',Vd,'V'\n",
      "print 'Brrier potential = Vbn =',Vbn,'V'\n",
      "print 'For junction temperature 0 C'\n",
      "print 'Change in barrier potential = Vd1 =',Vd1,'V'\n",
      "print 'New barrier potential = Vb1n =',Vb1n,'V'"
     ],
     "language": "python",
     "metadata": {},
     "outputs": [
      {
       "output_type": "stream",
       "stream": "stdout",
       "text": [
        "Change in barrier potential = Vd = -0.15 V\n",
        "Brrier potential = Vbn = 0.55 V\n",
        "For junction temperature 0 C\n",
        "Change in barrier potential = Vd1 = 0.05 V\n",
        "New barrier potential = Vb1n = 0.75 V\n"
       ]
      }
     ],
     "prompt_number": 2
    },
    {
     "cell_type": "heading",
     "level": 2,
     "metadata": {},
     "source": [
      "Example 2-6, Page 51"
     ]
    },
    {
     "cell_type": "code",
     "collapsed": false,
     "input": [
      "\n",
      "\n",
      "T2=100    #Temperature(C)\n",
      "T1=25     #Temperature(C)\n",
      "Isat1=5   #Current(nA)\n",
      "\n",
      "Td=T2-T1          #Temperature change(C)\n",
      "Is1=(2**7)*Isat1  #Current(nA)\n",
      "Is2=(1.07**5)*Is1 #Current(nA)\n",
      "\n",
      "print 'Change in temperature = Td = T2-T1 =',Td,'C'\n",
      "print 'For first 70 C change seven doublings are there.'\n",
      "print 'Is1 = (2^7)*Isat1 =',Is1,'nA'\n",
      "print 'For additional 5 C, 7% per C'\n",
      "print 'Is2 = ',round(Is2,2),'nA'"
     ],
     "language": "python",
     "metadata": {},
     "outputs": [
      {
       "output_type": "stream",
       "stream": "stdout",
       "text": [
        "Change in temperature = Td = T2-T1 = 75 C\n",
        "For first 70 C change seven doublings are there.\n",
        "Is1 = (2^7)*Isat1 = 640 nA\n",
        "For additional 5 C, 7% per C\n",
        "Is2 =  897.63 nA\n"
       ]
      }
     ],
     "prompt_number": 10
    },
    {
     "cell_type": "heading",
     "level": 2,
     "metadata": {},
     "source": [
      "Example 2-7, Page 52"
     ]
    },
    {
     "cell_type": "code",
     "collapsed": false,
     "input": [
      "\n",
      "Isl=2*(10**-9)     #surface leakage current(nA)\n",
      "Vr=25              #Reverse voltage(V)\n",
      "Vr1=35             #Reverse voltage(V)\n",
      "\n",
      "Rsl=Vr/Isl             #surface leakage reistance(Ohm)\n",
      "Isl1=(Vr1/Rsl)*(10**9) #surface leakage current(nA)\n",
      "\n",
      "print 'surface-leakage reistance Rsl = Vr/Isl =',Rsl*10**-6,'MOhm'\n",
      "print 'for Vr1 = 35 V,'\n",
      "print 'surface-leakage reistance Isl1 = Vr1/Rsl =',Isl1,'nA'"
     ],
     "language": "python",
     "metadata": {},
     "outputs": [
      {
       "output_type": "stream",
       "stream": "stdout",
       "text": [
        "surface-leakage reistance Rsl = Vr/Isl = 12500.0 MOhm\n",
        "for Vr1 = 35 V,\n",
        "surface-leakage reistance Isl1 = Vr1/Rsl = 2.8 nA\n"
       ]
      }
     ],
     "prompt_number": 17
    },
    {
     "cell_type": "code",
     "collapsed": false,
     "input": [],
     "language": "python",
     "metadata": {},
     "outputs": []
    }
   ],
   "metadata": {}
  }
 ]
}