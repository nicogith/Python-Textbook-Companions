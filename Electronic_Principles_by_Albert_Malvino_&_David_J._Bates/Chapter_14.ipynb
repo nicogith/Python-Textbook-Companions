{
 "metadata": {
  "name": ""
 },
 "nbformat": 3,
 "nbformat_minor": 0,
 "worksheets": [
  {
   "cells": [
    {
     "cell_type": "heading",
     "level": 2,
     "metadata": {},
     "source": [
      "CHAPTER 14 MOSFETs"
     ]
    },
    {
     "cell_type": "heading",
     "level": 2,
     "metadata": {},
     "source": [
      "Example 14-1, Page 481"
     ]
    },
    {
     "cell_type": "code",
     "collapsed": false,
     "input": [
      "\n",
      "VGS_off=-3.0            #Gate-source cutoff voltage(V)\n",
      "IDSS=6                  #IDSS current(mA) \n",
      "VGS1=-1                 #VGS voltage(V)\n",
      "VGS2=-2\n",
      "VGS3=0\n",
      "VGS4=1\n",
      "VGS5=2\n",
      "\n",
      "ID1=IDSS*((1-(VGS1/VGS_off))**2)\n",
      "ID2=IDSS*((1-(VGS2/VGS_off))**2)\n",
      "ID3=IDSS*((1-(VGS3/VGS_off))**2)\n",
      "ID4=IDSS*((1-(VGS4/VGS_off))**2)\n",
      "ID5=IDSS*((1-(VGS5/VGS_off))**2)\n",
      "\n",
      "\n",
      "print 'Drain current ID1 = ',round(ID1,2),'mA'\n",
      "print 'Drain current ID2 = ',round(ID2,2),'mA'\n",
      "print 'Drain current ID3 = ',ID3,'mA'\n",
      "print 'Drain current ID4 = ',round(ID4,2),'mA'\n",
      "print 'Drain current ID5 = ',round(ID5,2),'mA'"
     ],
     "language": "python",
     "metadata": {},
     "outputs": [
      {
       "output_type": "stream",
       "stream": "stdout",
       "text": [
        "Drain current ID1 =  2.67 mA\n",
        "Drain current ID2 =  0.67 mA\n",
        "Drain current ID3 =  6.0 mA\n",
        "Drain current ID4 =  10.67 mA\n",
        "Drain current ID5 =  16.67 mA\n"
       ]
      }
     ],
     "prompt_number": 1
    },
    {
     "cell_type": "heading",
     "level": 2,
     "metadata": {},
     "source": [
      "Example 14-2, Page 482"
     ]
    },
    {
     "cell_type": "code",
     "collapsed": false,
     "input": [
      "\n",
      "VGS_off=-2.0            #Gate-source cutoff voltage(V)\n",
      "IDSS=4                  #IDSS current(mA) \n",
      "gm0=2000*10**-6         #transconductance(S)\n",
      "VGS=0                   #VGS voltage(V)\n",
      "VDD=15                  #Drain supply voltage(V)\n",
      "RD=2.0                  #Drain resistance(KOhm)\n",
      "RL=10.0                 #Load resistance(KOhm)\n",
      "Vin=20                  #input voltage(mV)\n",
      "\n",
      "VDS=VDD-(IDSS*RD)       #Drain-source voltage(V)\n",
      "rd=RD*RL/(RD+RL)        #ac drain resistance(KOhm) \n",
      "Av=gm0*rd*1000          #voltage gain\n",
      "Vout=Vin*Av             #output voltage (mV)\n",
      "\n",
      "print 'Output voltage Vout = ',round(Vout,2),'mV'"
     ],
     "language": "python",
     "metadata": {},
     "outputs": [
      {
       "output_type": "stream",
       "stream": "stdout",
       "text": [
        "Output voltage Vout =  66.67 mV\n"
       ]
      }
     ],
     "prompt_number": 2
    },
    {
     "cell_type": "heading",
     "level": 2,
     "metadata": {},
     "source": [
      "Example 14-3, Page 490"
     ]
    },
    {
     "cell_type": "code",
     "collapsed": false,
     "input": [
      "\n",
      "VGS_on=4.5              #Gate-source voltage(V)\n",
      "ID_on=75                #ID current(mA) \n",
      "RDS=6                   #Ohmic resistance(Ohm)\n",
      "VDD=20                  #Drain supply voltage(V)\n",
      "RD=1.0                  #Drain resistance(KOhm)\n",
      "RL=10.0                 #Load resistance(KOhm)\n",
      "\n",
      "ID_sat=VDD/RD                  #drain saturation current(mA)\n",
      "Vout1=VDD*(RDS/(RDS+(RD*1000)))#output voltage when VGS is high(V)\n",
      "Vout2=VDD                      #output voltage when VGS is low(V) \n",
      "\n",
      "print 'output voltage when VGS is high = ',round(Vout1,2),'V'\n",
      "print 'output voltage when VGS is low = ',Vout2,'V'"
     ],
     "language": "python",
     "metadata": {},
     "outputs": [
      {
       "output_type": "stream",
       "stream": "stdout",
       "text": [
        "output voltage when VGS is high =  0.12 V\n",
        "output voltage when VGS is low =  20 V\n"
       ]
      }
     ],
     "prompt_number": 3
    },
    {
     "cell_type": "heading",
     "level": 2,
     "metadata": {},
     "source": [
      "Example 14-4, Page 492"
     ]
    },
    {
     "cell_type": "code",
     "collapsed": false,
     "input": [
      "\n",
      "ID=20                     #ID current as per previous example(mA) \n",
      "Vled=2                    #Led drop(V)\n",
      "RD=1.0                    #Drain resistance(KOhm)\n",
      "\n",
      "ID=(VDD-Vled)/RD          #drain current considering LED drop\n",
      "\n",
      "print 'drain current considering LED drop ID = ',ID,'mA'"
     ],
     "language": "python",
     "metadata": {},
     "outputs": [
      {
       "output_type": "stream",
       "stream": "stdout",
       "text": [
        "drain current considering LED drop ID =  18.0 mA\n"
       ]
      }
     ],
     "prompt_number": 22
    },
    {
     "cell_type": "heading",
     "level": 2,
     "metadata": {},
     "source": [
      "Example 14-5, Page 492"
     ]
    },
    {
     "cell_type": "code",
     "collapsed": false,
     "input": [
      "\n",
      "Rrc=500.0          #Resistance of relay(V)\n",
      "VDD=24             #drain supply voltage(V)\n",
      "\n",
      "ID_sat=VDD/Rrc     #drain saturation current(A)\n",
      "\n",
      "print 'Drain saturaion current ID(sat) = ',ID_sat*1000,'mA'"
     ],
     "language": "python",
     "metadata": {},
     "outputs": [
      {
       "output_type": "stream",
       "stream": "stdout",
       "text": [
        "Drain saturaion current ID(sat) =  48.0 mA\n"
       ]
      }
     ],
     "prompt_number": 25
    },
    {
     "cell_type": "heading",
     "level": 2,
     "metadata": {},
     "source": [
      "Example 14-6, Page 496"
     ]
    },
    {
     "cell_type": "code",
     "collapsed": false,
     "input": [
      "\n",
      "VDD=20.0                    #drain supply voltage (V)\n",
      "RD=10*10**3                 #drain resistance(Ohm)\n",
      "RDS=50.0                    #Ohmic resistance(Ohm)\n",
      "\n",
      "Vout1=VDD                   #Output voltage when i/p is low (V)\n",
      "Vout2=VDD*RDS/(RDS+RD)      #Output voltage when i/p is high (V)\n",
      "\n",
      "print 'Output voltage when input is low Vout1 = ',Vout1,'V'\n",
      "print 'Output voltage when input is high Vout2 = ',round((Vout2*1000),2),'mV'"
     ],
     "language": "python",
     "metadata": {},
     "outputs": [
      {
       "output_type": "stream",
       "stream": "stdout",
       "text": [
        "Output voltage when input is low Vout1 =  20.0 V\n",
        "Output voltage when input is high Vout2 =  99.5 mV\n"
       ]
      }
     ],
     "prompt_number": 4
    },
    {
     "cell_type": "heading",
     "level": 2,
     "metadata": {},
     "source": [
      "Example 14-7, Page 496"
     ]
    },
    {
     "cell_type": "code",
     "collapsed": false,
     "input": [
      "\n",
      "VDD=10.0                     #drain supply voltage (V)\n",
      "RD=2*10**3                   #drain resistance(Ohm)\n",
      "RDS=500.0                    #Ohmic resistance(Ohm)\n",
      "\n",
      "Vout1=VDD                   #Output voltage when i/p is low (V)\n",
      "Vout2=VDD*RDS/(RDS+RD)      #Output voltage when i/p is high (V)\n",
      "\n",
      "print 'Output voltage when input is low Vout1 = ',Vout1,'V'\n",
      "print 'Output voltage when input is high Vout2 = ',Vout2,'V'"
     ],
     "language": "python",
     "metadata": {},
     "outputs": [
      {
       "output_type": "stream",
       "stream": "stdout",
       "text": [
        "Output voltage when input is low Vout1 =  10.0 V\n",
        "Output voltage when input is high Vout2 =  2.0 V\n"
       ]
      }
     ],
     "prompt_number": 32
    },
    {
     "cell_type": "heading",
     "level": 2,
     "metadata": {},
     "source": [
      "Example 14-8, Page 498"
     ]
    },
    {
     "cell_type": "code",
     "collapsed": false,
     "input": [
      "\n",
      "import matplotlib.pyplot as plt\n",
      "%matplotlib inline\n",
      "\n",
      "print 'Input signal switches from 0 to 15 V at pt. A & 15 to 0 V at pt. B'\n",
      "x=[1,2,3,4,5,6,7,8,9,10]\n",
      "y=[0,0,0,15,15,15,15,0,0,0]\n",
      "print 'approximate plotting shown in figure'\n",
      "plt.plot(x,y)\n",
      "plt.show()\n",
      "print 'output signal shown on second plot'\n",
      "z=[15,15,15,0,0,0,0,15,15,15]\n",
      "plt.plot(x,z,'r')\n",
      "plt.show()"
     ],
     "language": "python",
     "metadata": {},
     "outputs": [
      {
       "output_type": "stream",
       "stream": "stdout",
       "text": [
        "Populating the interactive namespace from numpy and matplotlib\n",
        "Input signal switches from 0 to 15 V at pt. A & 15 to 0 V at pt. B\n",
        "approximate plotting shown in figure\n"
       ]
      },
      {
       "metadata": {},
       "output_type": "display_data",
       "png": "[encoded data removed]",
       "text": [
        "<matplotlib.figure.Figure at 0x60fcb70>"
       ]
      },
      {
       "output_type": "stream",
       "stream": "stdout",
       "text": [
        "output signal shown on second plot\n"
       ]
      },
      {
       "metadata": {},
       "output_type": "display_data",
       "png": "[encoded data removed]",
       "text": [
        "<matplotlib.figure.Figure at 0x9285470>"
       ]
      }
     ],
     "prompt_number": 2
    },
    {
     "cell_type": "heading",
     "level": 2,
     "metadata": {},
     "source": [
      "Example 14-9, Page 502"
     ]
    },
    {
     "cell_type": "code",
     "collapsed": false,
     "input": [
      "\n",
      "VDD=30.0                    #drain supply voltage (V)\n",
      "RD=30                       #drain resistance(Ohm)\n",
      "RDS=1.95                    #Ohmic resistance(Ohm)\n",
      "ID_on=2                     #ID for MOSFET on (A)\n",
      "\n",
      "ID_sat=VDD/RD                    #drain saturation current(A)\n",
      "ID=VDD/(RDS+RD)                  #drain current(A)\n",
      "\n",
      "print 'current through motor winding is ID = ',round(ID,2),'A'"
     ],
     "language": "python",
     "metadata": {},
     "outputs": [
      {
       "output_type": "stream",
       "stream": "stdout",
       "text": [
        "current through motor winding is ID =  0.94 A\n"
       ]
      }
     ],
     "prompt_number": 5
    },
    {
     "cell_type": "heading",
     "level": 2,
     "metadata": {},
     "source": [
      "Example 14-10, Page 503"
     ]
    },
    {
     "cell_type": "code",
     "collapsed": false,
     "input": [
      "\n",
      "VDD=30.0                    #drain supply voltage (V)\n",
      "RD=10                       #drain resistance(Ohm)\n",
      "RDS=1.07                    #Ohmic resistance(Ohm)\n",
      "ID_on=5                     #ID for MOSFET on (A)\n",
      "\n",
      "ID_sat=VDD/RD                    #drain saturation current(A)\n",
      "ID=VDD/(RDS+RD)                  #drain current(A)\n",
      "\n",
      "print 'current through lamp is ID = ',round(ID,2),'A'"
     ],
     "language": "python",
     "metadata": {},
     "outputs": [
      {
       "output_type": "stream",
       "stream": "stdout",
       "text": [
        "current through lamp is ID =  2.71 A\n"
       ]
      }
     ],
     "prompt_number": 6
    },
    {
     "cell_type": "heading",
     "level": 2,
     "metadata": {},
     "source": [
      "Example 14-11, Page 503"
     ]
    },
    {
     "cell_type": "code",
     "collapsed": false,
     "input": [
      "\n",
      "VDD=10.0                    #drain supply voltage (V)\n",
      "RD=10                       #drain resistance(Ohm)\n",
      "RDS=0.5                     #Ohmic resistance(Ohm)\n",
      "ID_on=5                     #ID for MOSFET on (A)\n",
      "\n",
      "ID=VDD/(RDS+RD)             #drain current(A)\n",
      "\n",
      "print 'current through water valve is ID = ',round(ID,2),'A'"
     ],
     "language": "python",
     "metadata": {},
     "outputs": [
      {
       "output_type": "stream",
       "stream": "stdout",
       "text": [
        "current through water valve is ID =  0.95 A\n"
       ]
      }
     ],
     "prompt_number": 7
    },
    {
     "cell_type": "heading",
     "level": 2,
     "metadata": {},
     "source": [
      "Example 14-12, Page 504"
     ]
    },
    {
     "cell_type": "code",
     "collapsed": false,
     "input": [
      "\n",
      "VDD=30.0                    #drain supply voltage (V)\n",
      "RD=10                       #drain resistance(Ohm)\n",
      "RDS=1.07                    #Ohmic resistance(Ohm)\n",
      "R1=2*10**6                  #Resistance1 at gate (Ohm)\n",
      "R2=1*10**6                  #Resistance2 at gate (Ohm)\n",
      "C=10*10**-6                 #Capacitance at gate(F)\n",
      "\n",
      "RTH=R1*R2/(R1+R2)           #Thevenin resistance(Ohm)\n",
      "RC=RTH*C                    #RC Time constant(s)\n",
      "ID=VDD/(RDS+RD)             #drain current through lamp(A)\n",
      "P=(ID**2)*RD                #Lamp Power(W)\n",
      "\n",
      "print 'RC Time constant = ',round(RC,2),'s'\n",
      "print 'current through lamp is ID = ',round(ID,2),'A'\n",
      "print 'Lamp power P = ',round(P,2),'W'"
     ],
     "language": "python",
     "metadata": {},
     "outputs": [
      {
       "output_type": "stream",
       "stream": "stdout",
       "text": [
        "RC Time constant =  6.67 s\n",
        "current through lamp is ID =  2.71 A\n",
        "Lamp power P =  73.44 W\n"
       ]
      }
     ],
     "prompt_number": 8
    },
    {
     "cell_type": "heading",
     "level": 2,
     "metadata": {},
     "source": [
      "Example 14-13, Page 506"
     ]
    },
    {
     "cell_type": "code",
     "collapsed": false,
     "input": [
      "\n",
      "ID_on=0.6                   #ID for MOSFET on (A)\n",
      "VGS_on=4.5                  #VGS for MOSFET on(V)\n",
      "VGS_th=2.1                  #VGS threshold(V)\n",
      "VGS1=3                      #Gate-source voltage1(V)\n",
      "VGS2=4.5                    #Gate-source voltage2(V)\n",
      "\n",
      "k=ID_on/(VGS_on-VGS_th)**2  #constant(A/V2)\n",
      "ID1=1000*k*(VGS1-VGS_th)**2      #ID for VGS=3 (mA)\n",
      "ID2=1000*k*(VGS2-VGS_th)**2      #ID for VGS=4.5 (mA)\n",
      "\n",
      "print 'ID1 (for VGS = 3V) = ',round(ID1,2),'mA'\n",
      "print 'ID2 (for VGS = 4.5V) = ',ID2,'mA'"
     ],
     "language": "python",
     "metadata": {},
     "outputs": [
      {
       "output_type": "stream",
       "stream": "stdout",
       "text": [
        "ID1 (for VGS = 3V) =  84.37 mA\n",
        "ID2 (for VGS = 4.5V) =  600.0 mA\n"
       ]
      }
     ],
     "prompt_number": 9
    },
    {
     "cell_type": "heading",
     "level": 2,
     "metadata": {},
     "source": [
      "Example 14-14, Page 507"
     ]
    },
    {
     "cell_type": "code",
     "collapsed": false,
     "input": [
      "\n",
      "ID_on=3                 #ID (On) (mA)\n",
      "VDS_on=10               #VDS(On) (V) \n",
      "VDD=25                  #Drain supply voltage (V)\n",
      "\n",
      "RD=(VDD-VDS_on)/ID_on   #Drain resistance(KOhm)\n",
      "\n",
      "print 'Drain resistance RD = ',RD,'KOhm'"
     ],
     "language": "python",
     "metadata": {},
     "outputs": [
      {
       "output_type": "stream",
       "stream": "stdout",
       "text": [
        "Drain resistance RD =  5 KOhm\n"
       ]
      }
     ],
     "prompt_number": 59
    },
    {
     "cell_type": "heading",
     "level": 2,
     "metadata": {},
     "source": [
      " Example 14-15, Page 508"
     ]
    },
    {
     "cell_type": "code",
     "collapsed": false,
     "input": [
      "\n",
      "ID_on=600               #ID (On) (mA)\n",
      "VGS_th=2.1              #VGS(threshold) (V) \n",
      "VDD=12                  #Drain supply voltage (V)\n",
      "k=104*10**-3            #constant(A/V2)\n",
      "R1=1.0*10**6            #Resistance1 at gate (Ohm)\n",
      "R2=350.0*10**3          #Resistance2 at gate (Ohm)\n",
      "Vin=100.0*10**-3        #input voltage (V)\n",
      "RD=68.0                 #Drain resistance(Ohm)\n",
      "RL=1.0*10**3            #Load resistance(Ohm)\n",
      "\n",
      "VGS=VDD*R2/(R1+R2)              #Gate-source voltage(V)\n",
      "ID=1000*k*(VGS1-VGS_th)**2      #Drain current (mA)\n",
      "gm=2*k*(VGS-VGS_th)             #transconductance (S)\n",
      "rd=RD*RL/(RD+RL)                #ac drain resistance(Ohm)  \n",
      "Av=gm*rd                        #voltage gain\n",
      "Vout=Vin*Av                     #Output voltage (V)\n",
      "\n",
      "print 'Gate-source voltage VGS = ',round(VGS,2),'V'\n",
      "print 'transconductance gm = ',round((gm*1000),2),'mS'\n",
      "print 'Ac drain resistance rd = ',round(rd,2),'Ohm'\n",
      "print 'voltage gain Av = ',round(Av,2)\n",
      "print 'Output voltage Vout = ',round(Vout,2),'V'"
     ],
     "language": "python",
     "metadata": {},
     "outputs": [
      {
       "output_type": "stream",
       "stream": "stdout",
       "text": [
        "Gate-source voltage VGS =  3.11 V\n",
        "transconductance gm =  210.31 mS\n",
        "Ac drain resistance rd =  63.67 Ohm\n",
        "voltage gain Av =  13.39\n",
        "Output voltage Vout =  1.34 V\n"
       ]
      }
     ],
     "prompt_number": 10
    },
    {
     "cell_type": "code",
     "collapsed": false,
     "input": [],
     "language": "python",
     "metadata": {},
     "outputs": []
    }
   ],
   "metadata": {}
  }
 ]
}