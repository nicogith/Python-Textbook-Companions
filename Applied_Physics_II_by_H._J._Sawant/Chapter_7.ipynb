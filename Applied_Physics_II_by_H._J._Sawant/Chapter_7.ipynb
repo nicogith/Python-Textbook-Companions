{
 "metadata": {
  "name": ""
 },
 "nbformat": 3,
 "nbformat_minor": 0,
 "worksheets": [
  {
   "cells": [
    {
     "cell_type": "heading",
     "level": 1,
     "metadata": {},
     "source": [
      "Chapter 7: Superconductivity"
     ]
    },
    {
     "cell_type": "heading",
     "level": 2,
     "metadata": {},
     "source": [
      "Example 7.3.1, Page number 7-6"
     ]
    },
    {
     "cell_type": "code",
     "collapsed": false,
     "input": [
      "\n",
      "import math\n",
      "\n",
      "#Variable declaration\n",
      "Ho = 2.*10**5   #A/m\n",
      "Hc = 1.*10**5   #A/m\n",
      "T = 8.          #temperature(K)\n",
      "\n",
      "#Calculations\n",
      "Tc = math.sqrt(T**2/(1-(Hc/Ho)))\n",
      "\n",
      "#Result\n",
      "print \"Critical temperature =\",round(Tc,3),\"K\""
     ],
     "language": "python",
     "metadata": {},
     "outputs": [
      {
       "output_type": "stream",
       "stream": "stdout",
       "text": [
        "Critical temperature = 11.314 K\n"
       ]
      }
     ],
     "prompt_number": 8
    },
    {
     "cell_type": "heading",
     "level": 2,
     "metadata": {},
     "source": [
      "Example 7.3.2, Page number 7-7"
     ]
    },
    {
     "cell_type": "code",
     "collapsed": false,
     "input": [
      "\n",
      "import math\n",
      "\n",
      "#Variable declaration\n",
      "Bo = 0.0306   #Critical field at 0K(T)\n",
      "Tc = 3.7      #critical temperature(K)\n",
      "T = 2         #K\n",
      "\n",
      "#calculation\n",
      "Bc = Bo*(1-((T/Tc)**2))\n",
      "\n",
      "#Result\n",
      "print \"Critical field at 2K is\",round(Bc,5),\"T\""
     ],
     "language": "python",
     "metadata": {},
     "outputs": [
      {
       "output_type": "stream",
       "stream": "stdout",
       "text": [
        "Critical field at 2K is 0.02166 T\n"
       ]
      }
     ],
     "prompt_number": 11
    },
    {
     "cell_type": "heading",
     "level": 2,
     "metadata": {},
     "source": [
      "Example 7.3.3, Page number 7-7"
     ]
    },
    {
     "cell_type": "code",
     "collapsed": false,
     "input": [
      "\n",
      "import math\n",
      "\n",
      "#Variable declaration\n",
      "Ho = 6.5*10**4   #Critical field at 0K(T)\n",
      "Tc = 7.18        #critical temperature(K)\n",
      "T = 4.2          #K\n",
      "r = 0.5*10**-3   #radius(m)\n",
      "\n",
      "#calculation\n",
      "Hc = Ho*(1-((T/Tc)**2))\n",
      "Ic = 2*math.pi*r*Hc\n",
      "\n",
      "#Result\n",
      "print \"Critical current =\",round(Ic,2),\"A\""
     ],
     "language": "python",
     "metadata": {},
     "outputs": [
      {
       "output_type": "stream",
       "stream": "stdout",
       "text": [
        "Critical current = 134.33 A\n"
       ]
      }
     ],
     "prompt_number": 2
    },
    {
     "cell_type": "heading",
     "level": 2,
     "metadata": {},
     "source": [
      "Example 7.3.4, Page number 7-8"
     ]
    },
    {
     "cell_type": "code",
     "collapsed": false,
     "input": [
      "\n",
      "#Variable declaration\n",
      "Tc1 = 4.185      #critical temperature(K)\n",
      "M1 = 199.5       #isotopic mass\n",
      "Tc2 = 4.133      #K\n",
      "\n",
      "#calculation\n",
      "M2 = ((Tc1*M1**0.5)/Tc2)**2\n",
      "\n",
      "#Result\n",
      "print \"Isotopic mass =\",round(M2,2)"
     ],
     "language": "python",
     "metadata": {},
     "outputs": [
      {
       "output_type": "stream",
       "stream": "stdout",
       "text": [
        "Isotopic mass = 204.55\n"
       ]
      }
     ],
     "prompt_number": 9
    }
   ],
   "metadata": {}
  }
 ]
}