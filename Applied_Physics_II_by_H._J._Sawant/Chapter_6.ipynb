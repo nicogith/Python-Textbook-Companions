{
 "metadata": {
  "name": ""
 },
 "nbformat": 3,
 "nbformat_minor": 0,
 "worksheets": [
  {
   "cells": [
    {
     "cell_type": "heading",
     "level": 1,
     "metadata": {},
     "source": [
      "Chapter 6: Motion of charge particle in Electric & Magnetic fields"
     ]
    },
    {
     "cell_type": "heading",
     "level": 2,
     "metadata": {},
     "source": [
      "Example 6.1.1, Page number 6-6"
     ]
    },
    {
     "cell_type": "code",
     "collapsed": false,
     "input": [
      "\n",
      "import math\n",
      "\n",
      "#Variable declaration\n",
      "m = 9.1*10**-31         #mass of electron(kg)\n",
      "v = 2.5*10**6           #velocity of electron(m/s)\n",
      "theta = 30*math.pi/180  #angle(degrees)\n",
      "B = 0.94*10**-4         #field strength(Wb/m^2)\n",
      "e = 1.6*10**-19         #electron charge(C)\n",
      "\n",
      "#Calculations\n",
      "r = (m*v*math.sin(theta))/(B*e)\n",
      "\n",
      "l = (5*v*math.cos(theta)*2*math.pi*m)/(B*e)\n",
      "\n",
      "#Results\n",
      "print \"Radius =\",round(r/1e-3,2),\"mm\"\n",
      "print \"Distance covered =\",round(l,3),\"m\""
     ],
     "language": "python",
     "metadata": {},
     "outputs": [
      {
       "output_type": "stream",
       "stream": "stdout",
       "text": [
        "Radius = 75.63 mm\n",
        "Distance covered = 4.115 m\n"
       ]
      }
     ],
     "prompt_number": 6
    },
    {
     "cell_type": "heading",
     "level": 2,
     "metadata": {},
     "source": [
      "Example 6.1.2, Page number 6-7    "
     ]
    },
    {
     "cell_type": "code",
     "collapsed": false,
     "input": [
      "\n",
      "import math\n",
      "\n",
      "#Variable declaration\n",
      "m = 9.1*10**-31         #mass of electron(kg)\n",
      "v = 3*10**7             #velocity of electron(m/s)\n",
      "theta = 45*math.pi/180  #angle(degrees)\n",
      "B = 0.23*10**-4         #field strength(Wb/m^2)\n",
      "e = 1.6*10**-19         #electron charge(C)\n",
      "\n",
      "#Calculations\n",
      "r = (m*v*math.sin(theta))/(B*e)\n",
      "\n",
      "l = (v*math.cos(theta)*2*math.pi*m)/(B*e)\n",
      "\n",
      "#Results\n",
      "print \"Radius =\",round(r,2),\"m\"\n",
      "print \"Distance covered =\",round(l,3),\"m\"\n",
      "#Calculation mistakes in the textbook"
     ],
     "language": "python",
     "metadata": {},
     "outputs": [
      {
       "output_type": "stream",
       "stream": "stdout",
       "text": [
        "Radius = 5.25 m\n",
        "Distance covered = 32.959 m\n"
       ]
      }
     ],
     "prompt_number": 9
    },
    {
     "cell_type": "heading",
     "level": 2,
     "metadata": {},
     "source": [
      "Example 6.1.3, Page number 6-7"
     ]
    },
    {
     "cell_type": "code",
     "collapsed": false,
     "input": [
      "\n",
      "#Variable declaration\n",
      "y = 1.5         #displacement(cm)\n",
      "d = 0.42        #distance(cm)\n",
      "Va = 1.6*10**3  #anode voltage(V)\n",
      "D = 28          #cm\n",
      "l = 1.8         #length of plates(cm)\n",
      "\n",
      "#Calculation\n",
      "V = (2*y*d*Va)/(D*l)\n",
      "Vin = V/6\n",
      "\n",
      "#Result\n",
      "print \"Input voltage =\",round(Vin,2),\"V\""
     ],
     "language": "python",
     "metadata": {},
     "outputs": [
      {
       "output_type": "stream",
       "stream": "stdout",
       "text": [
        "Input voltage = 6.67 V\n"
       ]
      }
     ],
     "prompt_number": 11
    },
    {
     "cell_type": "heading",
     "level": 2,
     "metadata": {},
     "source": [
      "Example 6.5.1, Page number 6-16"
     ]
    },
    {
     "cell_type": "code",
     "collapsed": false,
     "input": [
      "\n",
      "#Variable declaration\n",
      "da = 0.8    #minor axis(cm)\n",
      "db = 2      #major axis(cm)\n",
      "\n",
      "#Calculation\n",
      "ps = math.degrees(math.asin(da/db))\n",
      "\n",
      "#Result\n",
      "print \"Phase shift =\",round(ps,2),\"degrees\""
     ],
     "language": "python",
     "metadata": {},
     "outputs": [
      {
       "output_type": "stream",
       "stream": "stdout",
       "text": [
        "Phase shift = 23.58 degrees\n"
       ]
      }
     ],
     "prompt_number": 13
    }
   ],
   "metadata": {}
  }
 ]
}