{
 "metadata": {
  "name": "",
  "signature": "sha256:a39a5d4ea8ffe1914cd33b67220ec42d5558bffc165a5ec7a80594827b6fbce6"
 },
 "nbformat": 3,
 "nbformat_minor": 0,
 "worksheets": [
  {
   "cells": [
    {
     "cell_type": "heading",
     "level": 1,
     "metadata": {},
     "source": [
      "CHAPTER 24 - Machining Processes: Milling, Broaching, Sawing\n",
      "Filing, and Gear Manufacturing"
     ]
    },
    {
     "cell_type": "heading",
     "level": 2,
     "metadata": {},
     "source": [
      "EXAMPLE 24.1 - PG NO. 664"
     ]
    },
    {
     "cell_type": "code",
     "collapsed": false,
     "input": [
      "#Example 24.1\n",
      "#page no. 664\n",
      "# Given that\n",
      "import math\n",
      "l=12.#in inch Length of block\n",
      "w=100\n",
      "f=100#in inch/tooth feed  \n",
      "d=3#in inch depth of cut\n",
      "D=2.#in inch diameter of cutter\n",
      "n=20.#no. of teeth\n",
      "N=500.#in rpm spindle rotation\n",
      "Vt=8.#in inch/minute axial speed of the tool\n",
      "\n",
      "# Sample Problem on page no. 600\n",
      "\n",
      "print(\"\\n # Material Removal Rate , Power required and Cutting Time in slab milling # \\n\")\n",
      "\n",
      "v=f*N*n\n",
      "MRR=w*d*v \n",
      "print'%s %d %s' %(\"\\n\\n Material Removal Rate = \",MRR/2000,\" mm^3/min\")\n",
      "\n",
      "#for annealed mild steel unit power is taken as 1.1 hp min/in3\n",
      "P=3.*MRR/2000*(1./60.)\n",
      "print'%s %.1f %s' %(\"\\n\\n Cutting power=\",P/1000,\"kW\")\n",
      "\n",
      "T=7500.*60/(100*2.*3.14)\n",
      "print'%s %d %s' %(\"\\n\\n Cutting torque=\",T,\"N-m\")\n",
      "\n",
      "lc=math.sqrt(d*D)\n",
      "t=(300.+12.2)/500.\n",
      "print'%s %.1f %s' %(\"\\n\\n Cutting time=\",t*60,\"sec\")\n",
      "\n",
      "#Answers vary due to aproximations \n",
      "\n",
      "\n",
      "\n",
      "\n"
     ],
     "language": "python",
     "metadata": {},
     "outputs": [
      {
       "output_type": "stream",
       "stream": "stdout",
       "text": [
        "\n",
        " # Material Removal Rate , Power required and Cutting Time in slab milling # \n",
        "\n",
        "\n",
        "\n",
        " Material Removal Rate =  150000  mm^3/min\n",
        "\n",
        "\n",
        " Cutting power= 7.5 kW\n",
        "\n",
        "\n",
        " Cutting torque= 716 N-m\n",
        "\n",
        "\n",
        " Cutting time= 37.5 sec\n"
       ]
      }
     ],
     "prompt_number": 4
    },
    {
     "cell_type": "heading",
     "level": 2,
     "metadata": {},
     "source": [
      "EXAMPLE 24.2 - PG NO. 667"
     ]
    },
    {
     "cell_type": "code",
     "collapsed": false,
     "input": [
      "#example 24.2\n",
      "#page no. 667\n",
      "# Given that\n",
      "l=500#in mm Length\n",
      "w=60#in mm width\n",
      "v=0.6#in m/min  \n",
      "d=3#in mm depth of cut\n",
      "D=150#in mm diameter of cutter\n",
      "n=10#no. of inserts\n",
      "N=100#in rpm spindle rotation\n",
      "\n",
      "# Sample Problem on page no. 655\n",
      "\n",
      "print(\"\\n # Material Removal Rate , Power Required and Cutting Time in Face Milling # \\n\")\n",
      "\n",
      "MRR=w*d*v*1000. \n",
      "print'%s %d %s' %(\"\\n\\n Material Removal Rate = \",MRR,\"mm^3/min\")\n",
      "\n",
      "lc=D/2.\n",
      "t=((l+(2.*lc))/((v*1000.)/60.)) # velocity is converted into mm/sec\n",
      "t1=t/60.\n",
      "print'%s %.2f %s' %(\"\\n\\n Cutting time= \",t1,\"min\")\n",
      "\n",
      "f=(v*1000.*60.)/(60.*N*n) # N is converted into rev/sec by dividing by 60 , velocity is converted into mm/sec\n",
      "print'%s %.1f %s' %(\"\\n\\n Feed per Tooth =\",f,\"mm/tooth\")\n",
      "\n",
      "#for high strength aluminium alloy unit power is taken as 1.1 W s/mm3\n",
      "P=(1.1*MRR)/60. # MRR is converted into mm3/sec by dividing by 60\n",
      "P1=P/(1000.)#in KW\n",
      "print'%s %.2f %s' %(\"\\n\\n Cutting power =\",P1,\"kW\")\n",
      "\n",
      "\n",
      "\n",
      "\n",
      "\n"
     ],
     "language": "python",
     "metadata": {},
     "outputs": [
      {
       "output_type": "stream",
       "stream": "stdout",
       "text": [
        "\n",
        " # Material Removal Rate , Power Required and Cutting Time in Face Milling # \n",
        "\n",
        "\n",
        "\n",
        " Material Removal Rate =  108000 mm^3/min\n",
        "\n",
        "\n",
        " Cutting time=  1.08 min\n",
        "\n",
        "\n",
        " Feed per Tooth = 0.6 mm/tooth\n",
        "\n",
        "\n",
        " Cutting power = 1.98 kW\n"
       ]
      }
     ],
     "prompt_number": 3
    }
   ],
   "metadata": {}
  }
 ]
}