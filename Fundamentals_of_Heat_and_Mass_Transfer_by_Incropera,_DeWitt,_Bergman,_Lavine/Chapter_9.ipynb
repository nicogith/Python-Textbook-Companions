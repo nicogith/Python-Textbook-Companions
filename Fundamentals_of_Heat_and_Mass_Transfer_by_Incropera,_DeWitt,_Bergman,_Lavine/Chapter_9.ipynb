{
 "metadata": {
  "name": "",
  "signature": "sha256:56bd333b1440dc978cb1a204c216290125fc0bef6769e6c73f6ac7af2e17116b"
 },
 "nbformat": 3,
 "nbformat_minor": 0,
 "worksheets": [
  {
   "cells": [
    {
     "cell_type": "heading",
     "level": 1,
     "metadata": {},
     "source": [
      "Free Convection"
     ]
    },
    {
     "cell_type": "heading",
     "level": 2,
     "metadata": {},
     "source": [
      "Example 9.1 Page 569"
     ]
    },
    {
     "cell_type": "code",
     "collapsed": false,
     "input": [
      "\n",
      "import math\n",
      "#Operating Conditions\n",
      "Ts = 70+273.;    \t\t\t\t\t#[K] Surface Temperature\n",
      "Tsurr = 25+273.;    \t\t\t\t#[K] Surrounding Temperature\n",
      "v1 = 0;            \t\t\t\t\t#[m/s] Velocity of free air\n",
      "v2 = 5;            \t\t\t\t\t#[m/s] Velocity of free air\n",
      "L = .25;            \t\t\t\t#[m] length\n",
      "#calculations and results\n",
      "#Table A.4 Air Properties T = 320 K\n",
      "uv = 17.95*math.pow(10,-6);\t\t\t#[m^2/s] Kinematic Viscosity\n",
      "be = 3.12*math.pow(10,-3); \t\t\t#[K^-1]  Tf^-1\n",
      "Pr = 269;               \t\t\t# Prandtl number \n",
      "g = 9.81;        \t\t\t\t\t#[m^2/s]gravitational constt\n",
      "\n",
      "Gr = g*be*(Ts-Tsurr)*L*L*L/(uv*uv);\n",
      "del1 = 6*L/math.pow((Gr/4),.25);\n",
      "print '%s %.3f %s' %(\"\\n Boundary Layer thickness at trailing edge for no air stream\",del1,\"m\");\n",
      "\n",
      "Re = v2*L/uv;\n",
      "print '%s %.2e %s' %(\"\\n\\n For air stream at 5 m/s As the Reynolds Number is \",Re,\"the free convection boundary layer is Laminar\");\n",
      "del2 = 5*L/math.pow((Re),.5);\n",
      "print '%s %.4f %s' %(\"\\n Boundary Layer thickness at trailing edge for air stream at 5 m/s is\",del2,\"m\");\n",
      "#END"
     ],
     "language": "python",
     "metadata": {},
     "outputs": [
      {
       "output_type": "stream",
       "stream": "stdout",
       "text": [
        "\n",
        " Boundary Layer thickness at trailing edge for no air stream 0.023 m\n",
        "\n",
        "\n",
        " For air stream at 5 m/s As the Reynolds Number is  6.96e+04 the free convection boundary layer is Laminar\n",
        "\n",
        " Boundary Layer thickness at trailing edge for air stream at 5 m/s is 0.0047 m\n"
       ]
      }
     ],
     "prompt_number": 1
    },
    {
     "cell_type": "heading",
     "level": 2,
     "metadata": {},
     "source": [
      "Example 9.2  Page 572 "
     ]
    },
    {
     "cell_type": "code",
     "collapsed": false,
     "input": [
      "\n",
      "import math\n",
      "#Operating Conditions\n",
      "Ts = 232+273.;    \t\t\t#[K] Surface Temperature\n",
      "Tsurr = 23+273.;    \t\t#[K] Surrounding Temperature\n",
      "L = .71;            \t\t#[m] length\n",
      "w = 1.02;           \t\t#[m] Width\n",
      "\n",
      "#Table A.4 Air Properties T = 400 K\n",
      "k = 33.8*math.pow(10,-3)   \t;#[W/m.K]\n",
      "uv = 26.4*math.pow(10,-6)  \t;#[m^2/s] Kinematic Viscosity\n",
      "al = 38.3*math.pow(10,-6)\t;#[m^2/s]\n",
      "be = 2.5*math.pow(10,-3)  \t;#[K^-1]  Tf^-1\n",
      "Pr = .69               \t\t;# Prandtl number \n",
      "g = 9.81                \t;#[m^2/s] gravitational constt\n",
      "#calculations and results\n",
      "Ra = g*be*(Ts-Tsurr)/al*L*L*L/uv;\n",
      "print '%s %.2e %s' %(\"\\n\\n As the Rayleigh Number is\",Ra,\"the free convection boundary layer is turbulent\");\n",
      "#From equatiom 9.23\n",
      "Nu = math.pow(.825 + .387*math.pow(Ra,.16667) /math.pow((1+math.pow((.492/Pr),(9./16.))),(8./27.)),2);\n",
      "h = Nu*k/L;\n",
      "q = h*L*w*(Ts-Tsurr);\n",
      "\n",
      "print '%s %d %s' %(\"\\n Heat transfer by convection between screen and room air is\",q,\"W\");\n",
      "#END"
     ],
     "language": "python",
     "metadata": {},
     "outputs": [
      {
       "output_type": "stream",
       "stream": "stdout",
       "text": [
        "\n",
        "\n",
        " As the Rayleigh Number is 1.81e+09 the free convection boundary layer is turbulent\n",
        "\n",
        " Heat transfer by convection between screen and room air is 1060 W\n"
       ]
      }
     ],
     "prompt_number": 2
    },
    {
     "cell_type": "heading",
     "level": 2,
     "metadata": {},
     "source": [
      "Example 9.3 Page 577"
     ]
    },
    {
     "cell_type": "code",
     "collapsed": false,
     "input": [
      "\n",
      "import math\n",
      "#Operating Conditions\n",
      "Ts = 45+273.;    \t\t\t\t#[K] Surface Temperature\n",
      "Tsurr = 15+273.    \t\t\t\t;#[K] Surrounding Temperature\n",
      "H = .3            \t\t\t\t;#[m] Height \n",
      "w = .75           \t\t\t\t;#[m] Width\n",
      "\n",
      "#Table A.4 Air Properties T = 303 K\n",
      "k = 26.5*math.pow(10,-3)   \t\t;#[W/m.K]\n",
      "uv = 16.2*math.pow(10,-6)       ;#[m^2/s] Kinematic Viscosity\n",
      "al = 22.9*math.pow(10,-6)       ;#[m^2/s] alpha\n",
      "be = 3.3*math.pow(10,-3)        ;#[K^-1]  Tf^-1\n",
      "Pr = .71               \t\t\t;# Prandtl number \n",
      "g = 9.81                \t\t;#[m^2/s] gravitational constt\n",
      "#calculations\n",
      "Ra = g*be*(Ts-Tsurr)/al*H*H*H/uv;    #Length = Height\n",
      "#From equatiom 9.27\n",
      "Nu = (.68 + .67*math.pow(Ra,.25) /math.pow((1+math.pow((.492/Pr),(9./16.))),(4./9.)));\n",
      "#for Sides\n",
      "hs = Nu*k/H;\n",
      "\n",
      "Ra2 = g*be*(Ts-Tsurr)/al*(w/2.)*(w/2.)*(w/2.)/uv;       #Length = w/2\n",
      "#For top eq 9.31\n",
      "ht = k/(w/2.)*.15*math.pow(Ra2,.3334);\n",
      "#For bottom Eq 9.32\n",
      "hb = k/(w/2.)*.27*math.pow(Ra2,.25);\n",
      "\n",
      "q = (2*hs*H+ht*w+hb*w)*(Ts-Tsurr);\n",
      "#results\n",
      "print '%s %d %s' %(\"\\n Rate of heat loss per unit length of duct is\",q,\" W/m\");\n",
      "#END"
     ],
     "language": "python",
     "metadata": {},
     "outputs": [
      {
       "output_type": "stream",
       "stream": "stdout",
       "text": [
        "\n",
        " Rate of heat loss per unit length of duct is 246  W/m\n"
       ]
      }
     ],
     "prompt_number": 3
    },
    {
     "cell_type": "heading",
     "level": 2,
     "metadata": {},
     "source": [
      "Example 9.4 Page 580 "
     ]
    },
    {
     "cell_type": "code",
     "collapsed": false,
     "input": [
      "\n",
      "import math\n",
      "#Operating Conditions\n",
      "Ts = 165+273.;    \t\t\t\t#[K] Surface Temperature\n",
      "Tsurr = 23+273.;    \t\t\t#[K] Surrounding Temperature\n",
      "D = .1            \t\t\t\t;#[m] Diameter\n",
      "e = .85          \t\t\t\t;# emissivity\n",
      "stfncnstt=5.67*math.pow(10,(-8))# [W/m^2.K^4] - Stefan Boltzmann Constant \n",
      "\n",
      "#Table A.4 Air Properties T = 303 K\n",
      "k = 31.3*math.pow(10,-3)        ;#[W/m.K] Conductivity\n",
      "uv = 22.8*math.pow(10,-6)       ;#[m^2/s] Kinematic Viscosity\n",
      "al = 32.8*math.pow(10,-6)       ;#[m^2/s] alpha\n",
      "be = 2.725*math.pow(10,-3)     \t;#[K^-1]  Tf^-1\n",
      "Pr = .697               \t\t;# Prandtl number \n",
      "g = 9.81                \t\t;#[m^2/s] gravitational constt\n",
      "#calculations\t\n",
      "Ra = g*be*(Ts-Tsurr)/al*D*D*D/uv;    \n",
      "#From equatiom 9.34\n",
      "Nu = math.pow((.60 + .387*math.pow(Ra,(1./6.))/math.pow(1+math.pow((.559/Pr),(9./16.)),(8./27.))),2);\n",
      "h = Nu*k/D;\n",
      "\n",
      "qconv = h*math.pi*D*(Ts-Tsurr);\n",
      "qrad = e*math.pi*D*stfncnstt*(Ts*Ts*Ts*Ts-Tsurr*Tsurr*Tsurr*Tsurr);\n",
      "#results\n",
      "print '%s %d %s' %(\"\\n Rate of heat loss per unit length of pipe is \",qrad+qconv,\"W/m\");\n",
      "#END"
     ],
     "language": "python",
     "metadata": {},
     "outputs": [
      {
       "output_type": "stream",
       "stream": "stdout",
       "text": [
        "\n",
        " Rate of heat loss per unit length of pipe is  763 W/m\n"
       ]
      }
     ],
     "prompt_number": 4
    },
    {
     "cell_type": "heading",
     "level": 2,
     "metadata": {},
     "source": [
      "Example 9.5 Page 592"
     ]
    },
    {
     "cell_type": "code",
     "collapsed": false,
     "input": [
      "\n",
      "import math\n",
      "#Operating Conditions\n",
      "To = 35+273.    \t\t\t;#[K] Shield Temperature\n",
      "Ti = 120+273.    \t\t\t;#[K] Tube Temperature\n",
      "Di = .1            \t\t\t;#[m] Diameter inner\n",
      "Do = .12            \t\t;#[m] Diameter outer\n",
      "L = .01            \t\t\t;#[m] air gap insulation\n",
      "\n",
      "#Table A.4 Air Properties T = 350 K\n",
      "k = 30*math.pow(10,-3)      ;#[W/m.K] Conductivity\n",
      "uv = 20.92*math.pow(10,-6)  ;#[m^2/s] Kinematic Viscosity\n",
      "al = 29.9*math.pow(10,-6)   ;#[m^2/s] alpha\n",
      "be = 2.85*math.pow(10,-3)   ;#[K^-1]  Tf^-1\n",
      "Pr = .7               \t\t;# Prandtl number \n",
      "g = 9.81                \t;#[m^2/s] gravitational constt\n",
      "#Table A.3 Insulation glass fiber T=300K\n",
      "kins = .038               \t;#[W/m.K] Conductivity\n",
      "#calculations\n",
      "Lc = 2*math.pow((2.303*math.log10(Do/Di)),(4./3.))/math.pow((math.pow((Di/2.),(-3./5.))+math.pow((Do/2.),(-3./5.))),(5./3.));\n",
      "Ra = g*be*(Ti-To)/al*Lc*Lc*Lc/uv;    \n",
      "keff = .386*k*math.pow((Pr/(.861+Pr)),.25) *math.pow(Ra,.25);\n",
      "q = 2*math.pi*keff*(Ti-To)/(2.303*math.log10(Do/Di));\n",
      "\n",
      "#From equatiom 9.58 and 3.27\n",
      "qin = q*kins/keff;\n",
      "#results\n",
      "print '%s %d %s' %(\"\\n Heat Loss from pipe per unit of length is \",q,\"W/m\")\n",
      "print '%s %d %s' %(\" \\n Heat Loss if air is filled with glass-fiber blanket insulation\",qin,\"W/m\");\n",
      "#END"
     ],
     "language": "python",
     "metadata": {},
     "outputs": [
      {
       "output_type": "stream",
       "stream": "stdout",
       "text": [
        "\n",
        " Heat Loss from pipe per unit of length is  100 W/m\n",
        " \n",
        " Heat Loss if air is filled with glass-fiber blanket insulation 111 W/m\n"
       ]
      }
     ],
     "prompt_number": 5
    }
   ],
   "metadata": {}
  }
 ]
}