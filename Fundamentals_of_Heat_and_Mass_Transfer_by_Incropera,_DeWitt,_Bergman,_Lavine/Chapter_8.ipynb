{
 "metadata": {
  "name": "",
  "signature": "sha256:bcdb44fcb5c412a8fb12ecf8bc3409e5bc0d03dc35a4f7331daf1db849b5f7af"
 },
 "nbformat": 3,
 "nbformat_minor": 0,
 "worksheets": [
  {
   "cells": [
    {
     "cell_type": "heading",
     "level": 1,
     "metadata": {},
     "source": [
      "Internal Flow"
     ]
    },
    {
     "cell_type": "heading",
     "level": 2,
     "metadata": {},
     "source": [
      "Example 8.2 Page 499"
     ]
    },
    {
     "cell_type": "code",
     "collapsed": false,
     "input": [
      "\n",
      "import math\n",
      "#Operating Conditions\n",
      "m = .1;            #[kg/s] mass flow rate of water\n",
      "Ti = 20+273.;      #[K] Inlet temp\n",
      "To = 60+273.;      #[K] Outlet temperature\n",
      "Di = .02;          #[m] Inner Diameter\n",
      "Do = .04;          #[m] Outer Diameter\n",
      "q = 1000000.;\t   #[w/m^3]  Heat generation Rate\n",
      "Tsi = 70+273.;     #[K] Inner Surface Temp\n",
      "#Table A.4 Air Properties T = 313 K\n",
      "cp = 4179;         #[J/kg.K] specific heat\n",
      "#calculations\n",
      "L = 4*m*cp*(To-Ti)/(math.pi*(Do*Do-Di*Di)*q);\n",
      "\n",
      "#From Newtons Law of cooling, Equation 8.27, local heat convection coefficient is\n",
      "h = q*(Do*Do-Di*Di)/(Di*4*(Tsi-To));\n",
      "#results\n",
      "print '%s %.1f %s' %(\"\\n Length of tube needed to achieve the desired outlet temperature = \",L,\"m \")\n",
      "print '%s %.1f %s' %(\"\\n Local convection coefficient at the outlet =\",h,\" W/m^2.K\");\n",
      "\n",
      "#END"
     ],
     "language": "python",
     "metadata": {},
     "outputs": [
      {
       "output_type": "stream",
       "stream": "stdout",
       "text": [
        "\n",
        " Length of tube needed to achieve the desired outlet temperature =  17.7 m \n",
        "\n",
        " Local convection coefficient at the outlet = 1500.0  W/m^2.K\n"
       ]
      }
     ],
     "prompt_number": 1
    },
    {
     "cell_type": "heading",
     "level": 2,
     "metadata": {},
     "source": [
      "Example 8.3 Page 503 "
     ]
    },
    {
     "cell_type": "code",
     "collapsed": false,
     "input": [
      "\n",
      "import math\n",
      "#Operating Conditions\n",
      "m = .25;            \t#[kg/s] mass flow rate of water\n",
      "Ti = 15+273.;       \t#[K] Inlet temp\n",
      "To = 57+273.;       \t#[K] Outlet temperature\n",
      "D = .05;          \t\t#[m] Diameter\n",
      "L = 6;          \t\t#[m] Length of tube\n",
      "Ts = 100+273.;      \t#[K] outer Surface Temp\n",
      "\n",
      "#Table A.4 Air Properties T = 309 K\n",
      "cp = 4178;          \t#[J/kg.K] specific heat\n",
      "#calculations\n",
      "Tlm = ((Ts-To)-(Ts-Ti))/(2.30*math.log10((Ts-To)/(Ts-Ti)));\n",
      "\n",
      "h = m*cp*(To-Ti)/(math.pi*D*L*Tlm);\n",
      "#results\n",
      "print '%s %d %s' %(\"\\n Average Heat transfer Convection Coefficient = \",h,\"W/m^2.K\");\n",
      "\n",
      "#END"
     ],
     "language": "python",
     "metadata": {},
     "outputs": [
      {
       "output_type": "stream",
       "stream": "stdout",
       "text": [
        "\n",
        " Average Heat transfer Convection Coefficient =  754 W/m^2.K\n"
       ]
      }
     ],
     "prompt_number": 2
    },
    {
     "cell_type": "heading",
     "level": 2,
     "metadata": {},
     "source": [
      "Example 8.4  Page 506 "
     ]
    },
    {
     "cell_type": "code",
     "collapsed": false,
     "input": [
      "\n",
      "import math\n",
      "#Operating Conditions\n",
      "m = .01;            #[kg/s] mass flow rate of water\n",
      "Ti = 20+273;       \t#[K] Inlet temp\n",
      "To = 80+273;       \t#[K] Outlet temperature\n",
      "D = .06;          \t#[m] Diameter\n",
      "q = 2000;          \t#[W/m^2] Heat flux to fluid\n",
      "\n",
      "#Table A.4 Air Properties T = 323 K\n",
      "cp = 4178;          #[J/kg.K] specific heat\n",
      "#Table A.4 Air Properties T = 353 K\n",
      "k = .670;           #[W/m] Thermal Conductivity\n",
      "u = 352*math.pow(10,-6);#[N.s/m^2] Viscosity\n",
      "Pr = 2.2;           #Prandtl Number\n",
      "cp = 4178;          #[J/kg.K] specific heat\n",
      "#calculations\n",
      "L = m*cp*(To-Ti)/(math.pi*D*q);\n",
      "\n",
      "#Using equation 8.6\n",
      "Re = m*4/(math.pi*D*u);\n",
      "print '%s %.2f %s' %(\"\\n (a) Length of tube for required heating =\",L,\"m\")\n",
      "print '%s %.2f %s' %(\"\\n\\n (b)As Reynolds Number is\",Re,\".The flow is laminar.\");\n",
      "\n",
      "Nu = 4.364;        #Nusselt Number\n",
      "h = Nu*k/D;        #[W/m^2.K] Heat convection Coefficient\n",
      "\n",
      "Ts = q/h+To;        #[K]\n",
      "#results\n",
      "print '%s %.2f %s' %(\"\\n Surface Temperature at tube outlet = \",Ts-273,\"degC\");\n",
      "\n",
      "#END"
     ],
     "language": "python",
     "metadata": {},
     "outputs": [
      {
       "output_type": "stream",
       "stream": "stdout",
       "text": [
        "\n",
        " (a) Length of tube for required heating = 6.65 m\n",
        "\n",
        "\n",
        " (b)As Reynolds Number is 602.86 .The flow is laminar.\n",
        "\n",
        " Surface Temperature at tube outlet =  121.04 degC\n"
       ]
      }
     ],
     "prompt_number": 4
    },
    {
     "cell_type": "heading",
     "level": 2,
     "metadata": {},
     "source": [
      "Example 8.5 Page 509 "
     ]
    },
    {
     "cell_type": "code",
     "collapsed": false,
     "input": [
      "\n",
      "import math\n",
      "#Operating Conditions\n",
      "um1 = .13;                  #[m/s] Blood stream\n",
      "um2 = 3*math.pow(10,-3);    #[m/s] Blood stream\n",
      "um3 = .7*math.pow(10,-3);   #[m/s] Blood stream\n",
      "D1 = .003;                  #[m] Diameter\n",
      "D2 = .02*math.pow(10,-3);   #[m] Diameter\n",
      "D3 =  .008*math.pow(10,-3); #[m] Diameter\n",
      "Tlm = .05;\n",
      "kf = .5;                    #[W/m.K] Conductivity\n",
      "#Table A. Water Properties T = 310 K\n",
      "rho = 993.;                 #[kg/m^3] density\n",
      "cp = 4178.;                 #[J/kg.K] specific heat\n",
      "u = 695*math.pow(10,-6);    #[N.s/m^2] Viscosity\n",
      "kb = .628;                  #[W/m.K] Conductivity\n",
      "Pr = 4.62;                  #Prandtl Number\n",
      "i=1.;\n",
      "#calculations\n",
      "#Using equation 8.6\n",
      "Re1 = rho*um1*D1/u;\n",
      "Nu = 4;\n",
      "hb = Nu*kb/D1;\n",
      "hf = kf/D1;\n",
      "U1 = 1/(1/hb + 1/hf);\n",
      "L1 = -rho*um1*D1/U1*cp*2.303*math.log10(Tlm)/4.;\n",
      "xfdh1 = .05*Re1*D1;\n",
      "xfdr1 = xfdh1*Pr;\n",
      "\n",
      "Re2 = rho*um2*D2/u;\n",
      "Nu = 4;\n",
      "hb = Nu*kb/D2;\n",
      "hf = kf/D2;\n",
      "U2 = 1/(1/hb + 1/hf);\n",
      "L2 = -rho*um2*D2/U2*cp*2.303*math.log10(Tlm)/4.;\n",
      "xfdh2 = .05*Re2*D2;\n",
      "xfdr2 = xfdh2*Pr;\n",
      "\n",
      "Re3 = rho*um3*D3/u;\n",
      "Nu = 4;\n",
      "hb = Nu*kb/D3;\n",
      "hf = kf/D3;\n",
      "U3 = 1/(1/hb + 1/hf);\n",
      "L3 = -rho*um3*D3/U3*cp*2.303*math.log10(Tlm)/4.;\n",
      "xfdh3 = .05*Re3*D3;\n",
      "xfdr3 = xfdh3*Pr;\n",
      "#results\n",
      "print ' %s' %(\"\\n Vessel          Re   U(W/m^2.K)    L(m)   xfdh(m)  xfdr(m)\")\n",
      "print '%s %.3f %d %.1e %.1e %.1e' %(\"\\n Artery          \",Re1,      U1         ,L1,   xfdh1     , xfdr1)\n",
      "print '%s %.3f %d %.1e %.1e %.1e' %(\"\\n Anteriole       \",Re2,      U2         ,L2,   xfdh2     , xfdr2)\n",
      "print '%s %.3f %d %.1e %.1e %.1e' %(\"\\n Capillary      \",Re3,U3,L3,xfdh3,xfdr3);\n",
      "\n",
      "#END"
     ],
     "language": "python",
     "metadata": {},
     "outputs": [
      {
       "output_type": "stream",
       "stream": "stdout",
       "text": [
        " \n",
        " Vessel          Re   U(W/m^2.K)    L(m)   xfdh(m)  xfdr(m)\n",
        "\n",
        " Artery           557.223 138 8.7e+00 8.4e-02 3.9e-01\n",
        "\n",
        " Anteriole        0.086 20849 8.9e-06 8.6e-08 4.0e-07\n",
        "\n",
        " Capillary       0.008 52124 3.3e-07 3.2e-09 1.5e-08\n"
       ]
      }
     ],
     "prompt_number": 5
    },
    {
     "cell_type": "heading",
     "level": 2,
     "metadata": {},
     "source": [
      "Example 8.6 Page 516 "
     ]
    },
    {
     "cell_type": "code",
     "collapsed": false,
     "input": [
      "\n",
      "import math\n",
      "#Operating Conditions\n",
      "m = .05;            \t#[kg/s] mass flow rate of water\n",
      "Ti = 103+273.;       \t#[K] Inlet temp\n",
      "To = 77+273.;     \t\t#[K] Outlet temperature\n",
      "D = .15;          \t\t#[m] Diameter\n",
      "L = 5;            \t\t#[m] length\n",
      "ho = 6.;           \t\t#[W/m^2.K] Heat transfer convective coefficient\n",
      "Tsurr = 0+273.;    \t\t#[K] Temperature of surrounding\n",
      "\n",
      "#Table A.4 Air Properties T = 363 K\n",
      "cp = 1010;          \t#[J/kg.K] specific heat\n",
      "#Table A.4 Air Properties T = 350 K\n",
      "k = .030;           \t#[W/m] Thermal Conductivity\n",
      "u = 20.82/1000000.;   \t#[N.s/m^2] Viscosity\n",
      "Pr = .7;           \t\t#Prandtl Number\n",
      "#calculations and results\n",
      "q = m*cp*(To-Ti);\n",
      "\n",
      "Re = m*4/(math.pi*D*u);\n",
      "print '%s %d %s' %(\"\\n As Reynolds Number is\",Re,\". The flow is Turbulent.\");\n",
      "\n",
      "#Equation 8.6\n",
      "n = 0.3;\n",
      "Nu = .023*math.pow(Re,.8)*math.pow(Pr,.3);\n",
      "h = Nu*k/D;\n",
      "q2 = (To-Tsurr)/(1/h + 1/ho);\n",
      "Ts = -q2/h+To;\n",
      "\n",
      "print '%s %d %s' %(\"\\n\\n Heat Loss from the Duct over the Length L, q =\",q,\" W \")\n",
      "print '%s %.1f %s %.1f %s' %(\"\\n Heat flux and suface temperature at x=L is\",q2,\"W/m^2 &\",Ts-273,\"degC respectively\");\n",
      "\n",
      "#END"
     ],
     "language": "python",
     "metadata": {},
     "outputs": [
      {
       "output_type": "stream",
       "stream": "stdout",
       "text": [
        "\n",
        " As Reynolds Number is 20384 . The flow is Turbulent.\n",
        "\n",
        "\n",
        " Heat Loss from the Duct over the Length L, q = -1313  W \n",
        "\n",
        " Heat flux and suface temperature at x=L is 304.3 W/m^2 & 50.7 degC respectively\n"
       ]
      }
     ],
     "prompt_number": 6
    },
    {
     "cell_type": "heading",
     "level": 2,
     "metadata": {},
     "source": [
      "Example 8.7 Page 525"
     ]
    },
    {
     "cell_type": "code",
     "collapsed": false,
     "input": [
      "\n",
      "import math\n",
      "#Operating Conditions\n",
      "T1 = 125+273.;    \t\t\t#[K] Chip Temperature 1\n",
      "T2 = 25+273.;    \t\t\t#[K] Chip Temperature 2\n",
      "Ti = 5+273.;    \t\t\t#[K] Inlet Temperature \n",
      "D = .01;          \t\t\t#[m] Diameter\n",
      "L = .02;            \t\t#[m] length\n",
      "delP = 500*1000.;    \t\t#[N/m^2] Pressure drop\n",
      "#Dimensions\n",
      "a = 40*math.pow(10,-6);       \n",
      "b = 160*math.pow(10,-6);\n",
      "s = 40*math.pow(10,-6);\n",
      "\n",
      "#Table A.5 Ethylene Glycol Properties T = 288 K\n",
      "rho = 1120.2;           \t#[kg/m^3]    Density\n",
      "cp = 2359.;             \t#[J/kg.K]    Specific Heat\n",
      "u = 2.82*math.pow(10,-2);\t#[N.s/m^2] Viscosity\n",
      "k = 247*math.pow(10,-3); \t#[W/m.K]  Thermal Conductivity\n",
      "Pr = 269;              \t\t#Prandtl number \n",
      "#Table A.5 Ethylene Glycol Properties T = 338 K\n",
      "rho2 = 1085.;            \t#[kg/m^3]    Density\n",
      "cp2 = 2583.;             \t#[J/kg.K]    Specific Heat\n",
      "u2 = .427*math.pow(10,-2);\t#[N.s/m^2] Viscosity\n",
      "k2 = 261*math.pow(10,-3); \t#[W/m.K]  Thermal Conductivity\n",
      "Pr2 = 45.2;               \t#Prandtl number\n",
      "#calculations\n",
      "P = 2*a+2*b;              \t#Perimeter of microchannel\n",
      "Dh = 4*a*b/P;             \t#Hydraulic Diameter\n",
      "\n",
      "um2 = 2/73.*Dh*Dh/u2*delP/L;#[[m/s] Equation 8.22a\n",
      "Re2 = um2*Dh*rho2/u2;       #Reynolds Number\n",
      "xfdh2 = .05*Dh*Re2;        \t#[m] From Equation 8.3\n",
      "xfdr2 = xfdh2*Pr2;        \t#[m] From Equation 8.23\n",
      "m2 = rho2*a*b*um2;        \t#[kg/s]\n",
      "Nu2 = 4.44;            \t\t#Nusselt Number from Table 8.1\n",
      "h2 = Nu2*k2/Dh;        \t\t#[W/m^2.K] Convection Coeff\n",
      "Tc2 = 124+273.;        \t\t#[K]\n",
      "xc2 = m2/P*cp2/h2*2.303*math.log10((T1-Ti)/(T1-Tc2));\n",
      "tc2 = xc2/um2;\n",
      "\n",
      "um = 2/73.*Dh*Dh/u*delP/L;  #[[m/s] Equation 8.22a\n",
      "Re = um*Dh*rho/u;        \t#Reynolds Number\n",
      "xfdh = .05*Dh*Re;        \t#[m] From Equation 8.3\n",
      "xfdr = xfdh*Pr;        \t\t#[m] From Equation 8.23\n",
      "m = rho2*a*b*um;        \t#[kg/s]\n",
      "Nu = 4.44;            \t\t#Nusselt Number from Table 8.1\n",
      "h = Nu*k/Dh;        \t\t#[W/m^2.K] Convection Coeff\n",
      "Tc = 24+273.;        \t\t#[K]\n",
      "xc = m/P*cp/h*2.303*math.log10((T2-Ti)/(T2-Tc));\n",
      "tc = xc/um;\n",
      "\n",
      "#results\n",
      "print '%s %.1f %s' %(\"\\nTemp in case 2= \",T2-273,\" [degC]\")\n",
      "print '%s %.1f %s' %(\"\\nTemp in case 1= \",T1-273,\" [degC]\")\n",
      "print '%s %.3f %s' %(\"\\nFlow rate in case 2 = \",um2,\"[m/s]\")\n",
      "print '%s %.3f %s' %(\"\\nFlow rate in case 1 = \",um,\"[m/s]\")\n",
      "print '%s %.1f' %(\"\\nReynolds number in case 2 = \",Re2)\n",
      "print '%s %.1f' %(\"\\nReynolds number in case 1 = \",Re)\n",
      "print '%s %.1f' %(\"\\nHydrodynamic entrance Length [m] =\",xfdh)\n",
      "print '%s %.1f' %(\"\\nHydrodynamic entrance Length in case 2 [m] =\",xfdh2)  \n",
      "print '%s %.1e' %(\"\\nThermal entrance Length [m] = \",xfdr)\n",
      "print '%s %.1e' %(\"\\nThermal entrance Length in case 2 [m] = \",xfdr2)\n",
      "print '%s %.2e' %(\"\\nMass Flow rate [kg/s] = \",m)\n",
      "print '%s %.2e' %(\"\\nMass Flow rate in case 2 [kg/s] = \",m2)\n",
      "print '%s %.2e' %(\"\\nConvective Coeff [W/m^2.K] = \",h)\n",
      "print '%s %.2e' %(\"\\nConvective Coeff in case 2 [W/m^2.K] = \",h2)\n",
      "print '%s %.2e' %(\"\\nTransition Length [m] = \",xc)\n",
      "print '%s %.2e' %(\"\\nTransition Length in case 2 [m] = \",xc2)\n",
      "print '%s %.3f' %(\"\\nRequired Time [s] = \",tc)\n",
      "print '%s %.3f' %(\"\\nRequired Time in case 2 [s] = \",tc2)\n",
      "#END"
     ],
     "language": "python",
     "metadata": {},
     "outputs": [
      {
       "output_type": "stream",
       "stream": "stdout",
       "text": [
        "\n",
        "Temp in case 2=  25.0  [degC]\n",
        "\n",
        "Temp in case 1=  125.0  [degC]\n",
        "\n",
        "Flow rate in case 2 =  0.657 [m/s]\n",
        "\n",
        "Flow rate in case 1 =  0.099 [m/s]\n",
        "\n",
        "Reynolds number in case 2 =  10.7\n",
        "\n",
        "Reynolds number in case 1 =  0.3\n",
        "\n",
        "Hydrodynamic entrance Length [m] = 0.0\n",
        "\n",
        "Hydrodynamic entrance Length in case 2 [m] = 0.0\n",
        "\n",
        "Thermal entrance Length [m] =  2.2e-04\n",
        "\n",
        "Thermal entrance Length in case 2 [m] =  1.5e-03\n",
        "\n",
        "Mass Flow rate [kg/s] =  6.91e-07\n",
        "\n",
        "Mass Flow rate in case 2 [kg/s] =  4.56e-06\n",
        "\n",
        "Convective Coeff [W/m^2.K] =  1.71e+04\n",
        "\n",
        "Convective Coeff in case 2 [W/m^2.K] =  1.81e+04\n",
        "\n",
        "Transition Length [m] =  7.12e-04\n",
        "\n",
        "Transition Length in case 2 [m] =  7.79e-03\n",
        "\n",
        "Required Time [s] =  0.007\n",
        "\n",
        "Required Time in case 2 [s] =  0.012\n"
       ]
      }
     ],
     "prompt_number": 7
    },
    {
     "cell_type": "heading",
     "level": 2,
     "metadata": {},
     "source": [
      "Example 8.8  Page 529"
     ]
    },
    {
     "cell_type": "code",
     "collapsed": false,
     "input": [
      "\n",
      "import math\n",
      "#Operating Conditions\n",
      "m = .0003;            \t\t#[kg/s] mass flow rate of water\n",
      "T = 25+273;    \t\t\t\t#[K] Temperature of surrounding and tube\n",
      "D = .01;          \t\t\t#[m] Diameter\n",
      "L = 1;            \t\t\t#[m] length\n",
      "#calculations and results\n",
      "#Table A.4 Air Properties T = 298 K\n",
      "uv = 15.7*math.pow(10,-6);  #[m^2/s] Kinematic Viscosity\n",
      "u = 18.36*math.pow(10,-6);  #[N.s/m^2] Viscosity\n",
      "#Table A.8 Ammonia-Air Properties T = 298 K\n",
      "Dab = .28*math.pow(10,-4);  #[m^2/s] Diffusion coeff\n",
      "Sc = .56;\n",
      "\n",
      "Re = m*4/(math.pi*D*u);\n",
      "print '%s %d %s' %(\"\\n As Reynolds Number is\",Re,\". The flow is Laminar.\");\n",
      "\n",
      "#Using Equation 8.57\n",
      "Sh = 1.86*math.pow((Re*Sc*D/L),.3334);\n",
      "h = Sh*Dab/D;\n",
      "print '%s %.3f %s' %(\"\\n Average mass trasnfer convection coefficient for the tube\",h,\"m/s\");\n",
      "\n",
      "#END"
     ],
     "language": "python",
     "metadata": {},
     "outputs": [
      {
       "output_type": "stream",
       "stream": "stdout",
       "text": [
        "\n",
        " As Reynolds Number is 2080 . The flow is Laminar.\n",
        "\n",
        " Average mass trasnfer convection coefficient for the tube 0.012 m/s\n"
       ]
      }
     ],
     "prompt_number": 8
    }
   ],
   "metadata": {}
  }
 ]
}