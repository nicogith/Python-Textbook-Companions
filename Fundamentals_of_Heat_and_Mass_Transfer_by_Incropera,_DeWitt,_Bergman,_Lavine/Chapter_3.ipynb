{
 "metadata": {
  "name": "",
  "signature": "sha256:ca8839cd8008ad44590694ea2ad13ce425811997673bf9c8b6a013454026c154"
 },
 "nbformat": 3,
 "nbformat_minor": 0,
 "worksheets": [
  {
   "cells": [
    {
     "cell_type": "heading",
     "level": 1,
     "metadata": {},
     "source": [
      "One-dimensional, Steady State Conduction"
     ]
    },
    {
     "cell_type": "heading",
     "level": 2,
     "metadata": {},
     "source": [
      "Example 3.1 Page 104"
     ]
    },
    {
     "cell_type": "code",
     "collapsed": false,
     "input": [
      "\n",
      "import math\n",
      "A=1.8;    \t\t\t\t\t# [m^2] Area for Heat transfer i.e. both surfaces\n",
      "Ti = 35+273.;  \t\t\t\t#[K] - Inside Surface Temperature of Body\n",
      "Tsurr = 10+273.; \t\t\t#[K] - Temperature of surrounding\n",
      "Tf = 283.; \t\t\t\t\t#[K] - Temperature of Fluid Flow\n",
      "e=.95; \t\t\t\t\t\t#  Emissivity of Surface\n",
      "Lst=.003;    \t\t\t\t#[m] - Thickness of Skin\n",
      "kst=.3; \t\t \t\t\t#  [W/m.K] Effective Thermal Conductivity of Body\n",
      "kins = .014;  \t\t\t\t#  [W/m.K] Effective Thermal Conductivity of Aerogel Insulation\n",
      "hr = 5.9;    \t\t\t\t#[W/m^2.k] - Natural Thermal Convectivity from body to air\n",
      "stfncnstt=5.67*math.pow(10,(-8)); # [W/m^2.K^4] - Stefan Boltzmann Constant \n",
      "q = 100;          \t\t\t#[W] Given Heat rate\n",
      "#calculations\n",
      "\n",
      "#Using Conducion Basic Eq 3.19\n",
      "Rtot = (Ti-Tsurr)/q;\n",
      "#Also\n",
      "#Rtot=Lst/(kst*A) + Lins/(kins*A)+(h*A + hr*A)^-1\n",
      "#Rtot = 1/A*(Lst/kst + Lins/kins +(1/(h+hr)))\n",
      "\n",
      "#Thus\n",
      "#For Air,\n",
      "h=2.;    \t\t\t\t\t#[W/m^2.k] - Natural Thermal Convectivity from body to air\n",
      "Lins1 =  kins * (A*Rtot - Lst/kst - 1/(h+hr));\n",
      "\n",
      "#For Water,\n",
      "h=200.;    \t\t\t\t\t#[W/m^2.k] - Natural Thermal Convectivity from body to air\n",
      "Lins2 =  kins * (A*Rtot - Lst/kst - 1/(h+hr));\n",
      "\n",
      "Tsa=305.;            \t\t#[K]  Body Temperature Assumed\n",
      "\n",
      "#Temperature of Skin is same in both cases as Heat Rate is same\n",
      "#q=(kst*A*(Ti-Ts))/Lst\n",
      "Ts = Ti - q*Lst/(kst*A);\n",
      "#results\n",
      "\n",
      "#Also from eqn of effective resistance Rtot F\n",
      "print '%s %.1f %s' %(\"\\n\\n (I) In presence of Air, Insulation Thickness = \",Lins1*1000,\" mm\")\n",
      "print '%s %.1f %s' %(\"\\n (II) In presence of Water, Insulation Thickness =\",Lins2*1000.,\" mm\");\n",
      "print '%s %.2f %s' %(\"\\n\\n  Temperature of Skin =\",Ts-273,\" degC\");\n",
      "#END"
     ],
     "language": "python",
     "metadata": {},
     "outputs": [
      {
       "output_type": "stream",
       "stream": "stdout",
       "text": [
        "\n",
        "\n",
        " (I) In presence of Air, Insulation Thickness =  4.4  mm\n",
        "\n",
        " (II) In presence of Water, Insulation Thickness = 6.1  mm\n",
        "\n",
        "\n",
        "  Temperature of Skin = 34.44  degC\n"
       ]
      }
     ],
     "prompt_number": 1
    },
    {
     "cell_type": "heading",
     "level": 2,
     "metadata": {},
     "source": [
      "Example 3.2 Page 107"
     ]
    },
    {
     "cell_type": "code",
     "collapsed": false,
     "input": [
      "import math\n",
      "Tf = 25+273.; \t\t\t#[K] - Temperature of Fluid Flow\n",
      "L=.008;    \t\t\t\t#[m] - Thickness of Aluminium \n",
      "k=239;  \t\t\t\t#  [W/m.K] Effective Thermal Conductivity of Aluminium\n",
      "Rc=.9*math.pow(10,-4);  #[K.m^2/W]    Maximum permeasible Resistane of Epoxy Joint\n",
      "q=10000.;    \t\t\t#[W/m^2]    Heat dissipated by Chip\n",
      "h=100.;    \t\t\t\t#[W/m^2.k] - Thermal Convectivity from chip to air\n",
      "#calculations\n",
      "\n",
      "#Temperature of Chip\n",
      "\n",
      "Tc = Tf + q/(h+1/(Rc+(L/k)+(1/h)));\n",
      "q=(Tc-Tf)/(1/h)+(Tc-Tf)/(Rc+(L/k)+(1/h))\n",
      "#results\n",
      "\n",
      "print '%s %.2f %s' %(\"\\n\\n Temperature of Chip =\",Tc-273,\"degC\");\n",
      "print '%s' %(\"\\n Chip will Work well below its maximum allowable Temperature ie 85 degC\")\n",
      "#END"
     ],
     "language": "python",
     "metadata": {},
     "outputs": [
      {
       "output_type": "stream",
       "stream": "stdout",
       "text": [
        "\n",
        "\n",
        " Temperature of Chip = 75.31 degC\n",
        "\n",
        " Chip will Work well below its maximum allowable Temperature ie 85 degC\n"
       ]
      }
     ],
     "prompt_number": 2
    },
    {
     "cell_type": "heading",
     "level": 2,
     "metadata": {},
     "source": [
      "Example 3.3 Page 109"
     ]
    },
    {
     "cell_type": "code",
     "collapsed": false,
     "input": [
      "\n",
      "import math\n",
      "D = 14 * math.pow(10,-9);    \t\t\t# [m]Dia of Nanotube\n",
      "s = 5*math.pow(10,-6);       \t\t\t# [m]Distance between the islands\n",
      "Ts = 308.4;        \t\t\t\t\t\t#[K] Temp of sensing island\n",
      "Tsurr = 300;       \t\t\t\t\t\t#[K] Temp of surrounding\n",
      "q = 11.3*math.pow(10,-6);    \t\t\t#[W] Total Rate of Heat flow\n",
      "\n",
      "#Dimension of platinum line\n",
      "wpt =math.pow(10,-6);       \t\t\t#[m]\n",
      "tpt = 0.2*math.pow(10,-6);   \t\t\t#[m] \n",
      "Lpt = 250*math.pow(10,-6);   \t\t\t#[m] \n",
      "#Dimension of Silicon nitride line\n",
      "wsn = 3*math.pow(10,-6);       \t\t\t#[m]\n",
      "tsn = 0.5*math.pow(10,-6);  \t \t\t#[m] \n",
      "Lsn = 250*math.pow(10,-6);   \t\t\t#[m] \n",
      "#From Table A.1 Platinum Temp Assumed = 325K\n",
      "kpt = 71.6;    \t\t\t\t\t\t\t#[W/m.K]\n",
      "#From Table A.2, Silicon Nitride Temp Assumed = 325K\n",
      "ksn = 15.5;   \t \t\t\t\t\t\t#[W/m.K]\n",
      "#calculations\n",
      "\n",
      "Apt = wpt*tpt;        \t\t\t\t\t#Cross sectional area of platinum support beam\n",
      "Asn = wsn*tsn-Apt;    \t\t\t\t\t#Cross sectional area of Silicon Nitride support beam\n",
      "Acn = math.pi*D*D/4.;       \t\t\t#Cross sectional Area of Carbon nanotube\n",
      "\n",
      "Rtsupp = 1/(kpt*Apt/Lpt + ksn*Asn/Lsn); #[K/W] Thermal Resistance of each support\n",
      "\n",
      "qs = 2*(Ts-Tsurr)/Rtsupp;    \t\t\t#[W] Heat loss through sensing island support\n",
      "qh = q - qs;    \t\t\t\t\t\t#[W] Heat loss through heating island support\n",
      "\n",
      "Th = Tsurr + qh*Rtsupp/2.;    \t\t\t#[K] Temp of Heating island\n",
      "\n",
      "#For portion Through Carbon Nanotube\n",
      "\n",
      "\n",
      "kcn = qs*s/(Acn*(Th-Ts));\n",
      "qs = (Th-Ts)/(s/(kcn*Acn));\n",
      "#results\n",
      "\n",
      "print '%s %.2f %s' %(\"\\n\\n Thermal Conductivity of Carbon nanotube =\",kcn,\"W/m.K\");\n",
      "#END"
     ],
     "language": "python",
     "metadata": {},
     "outputs": [
      {
       "output_type": "stream",
       "stream": "stdout",
       "text": [
        "\n",
        "\n",
        " Thermal Conductivity of Carbon nanotube = 3111.86 W/m.K\n"
       ]
      }
     ],
     "prompt_number": 3
    },
    {
     "cell_type": "heading",
     "level": 2,
     "metadata": {},
     "source": [
      "Example 3.4 Page 113"
     ]
    },
    {
     "cell_type": "code",
     "collapsed": false,
     "input": [
      "\n",
      "import math\n",
      "import numpy\n",
      "from numpy import linspace\n",
      "import matplotlib\n",
      "from matplotlib import pyplot\n",
      "a = 0.25;\n",
      "x1 = .05;      #[m] Distance of smaller end\n",
      "x2 = .25;      #[m] Distance of larger end\n",
      "T1 = 400;      #[K] Temperature of smaller end\n",
      "T2 = 600;      #[K] Temperature of larger end\n",
      "k = 3.46;      #[W/m.K] From Table A.2, Pyroceram at Temp 285K\n",
      "T=numpy.zeros(100)\n",
      "#calculations\n",
      "\n",
      "x = numpy.linspace(0.05,100,num=100);\n",
      "i=1;\n",
      "for i in range (0,99):\n",
      "    z=float(x[i]);\n",
      "    T[i]=(T1 + (T1-T2)*((1/z - 1/x1)/(1/x1 - 1/x2)));\t\n",
      "\n",
      "pyplot.plot(x,T);\n",
      "pyplot.xlabel(\"x (m)\");\n",
      "pyplot.ylabel(\"T (K)\");\n",
      "pyplot.show()\n",
      "qx = math.pi*a*a*k*(T1-T2)/(4*(1/x1 - 1/x2));            #[W]\n",
      "#results\n",
      "\n",
      "print '%s %.2f %s' %(\"\\n\\n Heat Transfer rate =\",qx,\" W\");\n",
      "#END"
     ],
     "language": "python",
     "metadata": {},
     "outputs": [
      {
       "output_type": "stream",
       "stream": "stdout",
       "text": [
        "\n",
        "\n",
        " Heat Transfer rate = -2.12  W\n"
       ]
      }
     ],
     "prompt_number": 10
    },
    {
     "cell_type": "heading",
     "level": 2,
     "metadata": {},
     "source": [
      "Example 3.5 Page 119 "
     ]
    },
    {
     "cell_type": "code",
     "collapsed": false,
     "input": [
      "\n",
      "%matplotlib inline\n",
      "import math\n",
      "import numpy\n",
      "from numpy import linspace\n",
      "import matplotlib\n",
      "from matplotlib import pyplot\n",
      "k = .055;    \t\t\t\t#[W/m.K] From Table A.3, Cellular glass at Temp 285K\n",
      "h = 5;       \t\t\t\t#[W/m^2.K]\n",
      "ri = 5*math.pow(10,-3);     #[m]  radius of tube\n",
      "#calculations\n",
      "\n",
      "rct = k/h;     \t\t\t\t# [m] Critical Thickness of Insulation for maximum Heat loss or minimum resistance\n",
      "\n",
      "x = numpy.linspace(0,100,num=99);\n",
      "ycond= numpy.zeros(99);\n",
      "yconv= numpy.zeros(99);\n",
      "ytot= numpy.zeros(99);\n",
      "for i in range (0,99):\n",
      "    z=float(x[i]);\n",
      "    ycond[i]=(2.30*math.log10((z+ri)/ri)/(2*math.pi*k));\n",
      "    yconv[i]=1/(2*math.pi*(z+ri)*h);\n",
      "    ytot[i]=yconv[i]+ycond[i];\n",
      "\n",
      "    \n",
      "pyplot.plot(x,ytot);\n",
      "pyplot.xlabel(\"r-ri (m)\");\n",
      "pyplot.ylabel(\"R (m.K/W)\");\n",
      "pyplot.show();\n",
      "#results\n",
      "\n",
      "print '%s %.3f %s' %(\"\\n\\n Critical Radius is =\",rct,\"  m \")\n",
      "print '%s %.3f %s' %(\"\\n Heat transfer will increase with the addition of insulation up to a thickness of\",rct-ri,\" m\");\n",
      "#END"
     ],
     "language": "python",
     "metadata": {},
     "outputs": [
      {
       "output_type": "stream",
       "stream": "stdout",
       "text": [
        "Populating the interactive namespace from numpy and matplotlib\n"
       ]
      },
      {
       "metadata": {},
       "output_type": "display_data",
       "png": "[encoded data removed]",
       "text": [
        "<matplotlib.figure.Figure at 0x42e6390>"
       ]
      },
      {
       "output_type": "stream",
       "stream": "stdout",
       "text": [
        "\n",
        "\n",
        " Critical Radius is = 0.011   m \n",
        "\n",
        " Heat transfer will increase with the addition of insulation up to a thickness of 0.006  m\n"
       ]
      }
     ],
     "prompt_number": 2
    },
    {
     "cell_type": "heading",
     "level": 2,
     "metadata": {},
     "source": [
      "Example 3.6 Page 122"
     ]
    },
    {
     "cell_type": "code",
     "collapsed": false,
     "input": [
      " \n",
      "import math\n",
      "k = .0017;    \t\t\t\t\t\t#[W/m.K] From Table A.3, Silica Powder at Temp 300K\n",
      "h = 5;       \t\t\t\t\t\t#[W/m^2.K]\n",
      "r1 = 25./100.;      \t\t\t\t#[m]  Radius of sphere\n",
      "r2 = .275;          \t\t\t\t#[m]  Radius including Insulation thickness\n",
      "\n",
      "#Liquid Nitrogen Properties\n",
      "T = 77;        \t\t\t\t\t\t#[K] Temperature\n",
      "rho = 804;     \t\t\t\t\t\t#[kg/m^3] Density\n",
      "hfg = 2*100000.;  \t\t\t\t\t#[J/kg] latent heat of vaporisation\n",
      "\n",
      "#Air Properties\n",
      "Tsurr = 300;   \t\t\t\t\t\t#[K] Temperature\n",
      "h = 20        \t\t\t\t\t\t;#[W/m^2.K]  convection coefficient\n",
      "#calculations\n",
      "\n",
      "Rcond = (1/r1-1/r2)/(4*math.pi*k);  #Using Eq 3.36\n",
      "Rconv = 1/(h*4*math.pi*r2*r2);\n",
      "q = (Tsurr-T)/(Rcond+Rconv);\n",
      "\n",
      "print '%s %.2f %s' %(\"\\n\\n (a)Rate of Heat transfer to Liquid Nitrogen\",q,\" W\");\n",
      "\n",
      "#Using Energy Balance q - m*hfg = 0\n",
      "m=q/hfg;    \t\t\t\t\t\t#[kg/s] mass of nirtogen lost per second\n",
      "mc = m/rho*3600*24*1000.;\n",
      "#results\n",
      "\n",
      "print '%s %.2f %s' %(\"\\n\\n (b)Mass rate of nitrogen boil off \",mc,\"Litres/day\");\n",
      "#END"
     ],
     "language": "python",
     "metadata": {},
     "outputs": [
      {
       "output_type": "stream",
       "stream": "stdout",
       "text": [
        "\n",
        "\n",
        " (a)Rate of Heat transfer to Liquid Nitrogen 13.06  W\n",
        "\n",
        "\n",
        " (b)Mass rate of nitrogen boil off  7.02 Litres/day\n"
       ]
      }
     ],
     "prompt_number": 18
    },
    {
     "cell_type": "heading",
     "level": 2,
     "metadata": {},
     "source": [
      "Example 3.7 Page 129"
     ]
    },
    {
     "cell_type": "code",
     "collapsed": false,
     "input": [
      "\n",
      "import math\n",
      "\n",
      "Tsurr = 30+273.;   \t\t\t\t\t\t#[K] Temperature of surrounding Water\n",
      "h = 1000.;     \t\t\t\t\t\t\t#[W/m^2.K] Heat Convection Coeff of Water\n",
      "kb = 150.;    \t\t\t\t\t\t\t#[W/m.K] Material B\n",
      "Lb = .02;    \t\t\t\t\t\t\t#[m] Thickness Material B\n",
      "ka = 75.;    \t\t\t\t\t\t\t#[W/m.K] Material A\n",
      "La = .05;    \t\t\t\t\t\t\t#[m] Thickness Material A\n",
      "qa = 1.5*math.pow(10,6);\t\t\t\t#[W/m^3] Heat generation at wall A\n",
      "qb = 0;  \t\t\t\t\t\t\t\t#[W/m^3] Heat generation at wall B\n",
      "#calculations\n",
      "T2 = Tsurr + qa*La/h;\n",
      "To = 100+273.15;    \t\t\t\t    #[K] Temp of opposite end of rod\n",
      "Rcondb = Lb/kb;\n",
      "Rconv = 1/h;\n",
      "T1 = Tsurr +(Rcondb + Rconv)*(qa*La);\n",
      "#From Eqn 3.43\n",
      "T0 = qa*La*La/(2*ka) + T1;\n",
      "\n",
      "#results\n",
      "\n",
      "print '%s %d %s' %(\"\\n\\n (a) Inner Temperature of Composite To = \",T0-273,\" degC\") \n",
      "print '%s %d %s' %(\"\\n (b) Outer Temperature of the Composite T2 =\",T2-273,\" degC\");\n",
      "#END"
     ],
     "language": "python",
     "metadata": {},
     "outputs": [
      {
       "output_type": "stream",
       "stream": "stdout",
       "text": [
        "\n",
        "\n",
        " (a) Inner Temperature of Composite To =  140  degC\n",
        "\n",
        " (b) Outer Temperature of the Composite T2 = 105  degC\n"
       ]
      }
     ],
     "prompt_number": 5
    },
    {
     "cell_type": "heading",
     "level": 2,
     "metadata": {},
     "source": [
      "Example 3.9 Page 145 "
     ]
    },
    {
     "cell_type": "code",
     "collapsed": false,
     "input": [
      "#Variable Initialization\n",
      "%matplotlib inline\n",
      "\n",
      "import math\n",
      "import numpy\n",
      "from numpy import linalg\n",
      "import matplotlib\n",
      "from matplotlib import pyplot\n",
      "%matplotlib inline\n",
      "kc = 398.;    \t\t\t\t\t\t#[W/m.K] From Table A.1, Copper at Temp 335K\n",
      "kal = 180.;   \t \t\t\t\t\t#[W/m.K] From Table A.1, Aluminium at Temp 335K\n",
      "kst = 14.;    \t\t\t\t\t\t#[W/m.K] From Table A.1, Stainless Steel at Temp 335K\n",
      "h = 100.;      \t\t\t\t\t\t#[W/m^2.K] Heat Convection Coeff of Air\n",
      "Tsurr = 25+273.;    \t\t\t\t#[K] Temperature of surrounding Air\n",
      "D = 5/1000.;    \t\t\t\t\t#[m] Dia of rod\n",
      "To = 100+273.15;    \t\t\t\t#[K] Temp of opposite end of rod\n",
      "#calculations\n",
      "\n",
      "#For infintely long fin m = h*P/(k*A)\n",
      "mc = math.pow((4*h/(kc*D)),.5);\n",
      "mal = math.pow((4*h/(kal*D)),.5);\n",
      "mst = math.pow((4*h/(kst*D)),.5);\n",
      "x = numpy.linspace(0,0.3,100);\n",
      "Tc= numpy.zeros(100);\n",
      "Tal= numpy.zeros(100);\n",
      "Tst= numpy.zeros(100);\n",
      "for i in range (0,100):\n",
      "    z=x[i];\n",
      "    Tc[i] =Tsurr + (To - Tsurr)*math.pow(2.73,(-mc*z)) - 273;\n",
      "    Tal[i] = Tsurr + (To - Tsurr)*math.pow(2.73,(-mal*z)) -273;\n",
      "    Tst[i] = Tsurr + (To - Tsurr)*math.pow(2.73,(-mst*z)) -273;\n",
      "\n",
      "\n",
      "pyplot.plot(x,Tc,label=\"Cu\");\n",
      "pyplot.plot(x,Tal,label=\"2024 Al\");\n",
      "pyplot.plot(x,Tst,label=\"316 SS\");\n",
      "pyplot.legend();\n",
      "pyplot.xlabel(\"x (m)\");\n",
      "pyplot.ylabel(\"T (C)\");\n",
      "pyplot.show();\n",
      "\n",
      "#Using eqn 3.80\n",
      "qfc = math.pow((h*math.pi*D*kc*math.pi/4*D*D),.5)*(To-Tsurr);\n",
      "qfal = math.pow((h*math.pi*D*kal*math.pi/4*D*D),.5)*(To-Tsurr);\n",
      "qfst = math.pow((h*math.pi*D*kst*math.pi/4*D*D),.5)*(To-Tsurr);\n",
      "\n",
      "print '%s %.2f %s %.2f %s %.2f %s' %(\"\\n\\n (a) Heat rate \\n        For Copper = \",qfc,\"W \\n        For Aluminium =\",qfal,\" W \\n        For Stainless steel = \",qfst,\" W\");\n",
      "\n",
      "#Using eqn 3.76 for satisfactory approx\n",
      "Linfc = 2.65/mc;\n",
      "Linfal = 2.65/mal;\n",
      "Linfst = 2.65/mst;\n",
      "\n",
      "print '%s %.2f %s %.2f %s %.2f %s' %(\"\\n\\n (a) Rods may be assumed to be infinite Long if it is greater than equal to \\n For Copper =\",Linfc,\"m \\n        For Aluminium = \",Linfal,\" m \\n        For Stainless steel =\",Linfst,\"m\");\n",
      "#END"
     ],
     "language": "python",
     "metadata": {},
     "outputs": [
      {
       "output_type": "stream",
       "stream": "stdout",
       "text": [
        "Populating the interactive namespace from numpy and matplotlib\n",
        "Populating the interactive namespace from numpy and matplotlib\n"
       ]
      },
      {
       "metadata": {},
       "output_type": "display_data",
       "png": "[encoded data removed]",
       "text": [
        "<matplotlib.figure.Figure at 0x43e7f50>"
       ]
      },
      {
       "output_type": "stream",
       "stream": "stdout",
       "text": [
        "\n",
        "\n",
        " (a) Heat rate \n",
        "        For Copper =  8.33 W \n",
        "        For Aluminium = 5.60  W \n",
        "        For Stainless steel =  1.56  W\n",
        "\n",
        "\n",
        " (a) Rods may be assumed to be infinite Long if it is greater than equal to \n",
        " For Copper = 0.19 m \n",
        "        For Aluminium =  0.13  m \n",
        "        For Stainless steel = 0.04 m\n"
       ]
      }
     ],
     "prompt_number": 3
    },
    {
     "cell_type": "heading",
     "level": 2,
     "metadata": {},
     "source": [
      "Example 3.10 Page 156"
     ]
    },
    {
     "cell_type": "code",
     "collapsed": false,
     "input": [
      "\n",
      "import math\n",
      "H = .15;   \t\t\t\t\t\t#[m] height\n",
      "k = 186;    \t\t\t\t\t#[W/m.K] alumunium at 400K\n",
      "h = 50;      \t\t\t\t\t#[W/m^2.K] Heat convection coefficient\n",
      "Tsurr = 300;    \t\t\t\t#[K] Temperature of surrounding air\n",
      "To = 500;    \t\t\t\t\t#[K] Temp inside\n",
      "\n",
      "#Dimensions of Fin\n",
      "N = 5;\n",
      "t = .006;    \t\t\t\t\t#[m] Thickness\n",
      "L = .020;     \t\t\t\t\t#[m] Length\n",
      "r2c = .048;        \t\t\t\t#[m]\n",
      "r1 = .025;           \t\t\t#[m]\n",
      "#calculations\n",
      "\n",
      "Af = 2*math.pi*(r2c*r2c-r1*r1);\n",
      "At = N*Af + 2*math.pi*r1*(H-N*t);\n",
      "\n",
      "#Using fig 3.19 \n",
      "nf = .95;\n",
      "\n",
      "qt = h*At*(1-N*Af*(1-nf)/At)*(To-Tsurr);\n",
      "qwo = h*(2*math.pi*r1*H)*(To-Tsurr);\n",
      "#results\n",
      "\n",
      "print '%s %.2f %s' %(\"\\n\\n  Heat Transfer Rate with the fins =\",qt,\"W \")\n",
      "print '%s %.2f %s' %(\" \\n  Heat Transfer Rate without the fins =\",qwo,\"W\")\n",
      "print '%s %.2f %s' %(\"\\n Thus Increase in Heat transfer rate of\",qt-qwo,\" W is observed with fins\");\n",
      "#END"
     ],
     "language": "python",
     "metadata": {},
     "outputs": [
      {
       "output_type": "stream",
       "stream": "stdout",
       "text": [
        "\n",
        "\n",
        "  Heat Transfer Rate with the fins = 689.60 W \n",
        " \n",
        "  Heat Transfer Rate without the fins = 235.62 W\n",
        "\n",
        " Thus Increase in Heat transfer rate of 453.98  W is observed with fins\n"
       ]
      }
     ],
     "prompt_number": 21
    },
    {
     "cell_type": "heading",
     "level": 2,
     "metadata": {},
     "source": [
      "Example 3.11 Page 158"
     ]
    },
    {
     "cell_type": "code",
     "collapsed": false,
     "input": [
      "\n",
      "import math\n",
      "Wc =.05;    \t\t\t\t#[m] width\n",
      "H = .026;  \t \t\t\t\t#[m] height\n",
      "tc = .006;  \t\t\t\t#[m] thickness of cell\n",
      "V = 9.4;    \t\t\t\t#[m/sec] vel of cooling air\n",
      "P = 9;      \t\t\t\t#[W] Power generated\n",
      "C = 1000;    \t\t\t\t#[W/(m^3/s)] Ratio of fan power consumption to vol flow rate\n",
      "k = 200;    \t\t\t\t#[W/m.K] alumunium\n",
      "Tsurr = 25+273.15;    \t\t#[K] Temperature of surrounding air\n",
      "Tc = 56.4+273.15;    \t\t#[K] Temp of fuel cell\n",
      "Rtcy = math.pow(10,-3);     #[K/W]   Contact thermal resistance\n",
      "tb = .002;           \t\t#[m] thickness of base of heat sink\n",
      "Lc = .05;        \t\t\t#[m] length of fuel cell\n",
      "#Dimensions of Fin\n",
      "tf = .001;    \t\t\t\t#[m] Thickness\n",
      "Lf = .008;     \t\t\t\t#[m] Length\n",
      "#calculations\n",
      "\n",
      "Vf = V*(Wc*(H-tc));    \t\t#[m^3/sec] Volumetric flow rate\n",
      "Pnet = P - C*Vf;\n",
      "\n",
      "\n",
      "P = 2*(Lc+tf);\n",
      "Ac = Lc*tf;\n",
      "N = 22;\n",
      "a=(2*Wc - N*tf)/N;\n",
      "h = 19.1;            \t\t#/[W/m^2.K]\n",
      "q = 11.25;            \t\t#[W]\n",
      "m = math.pow((h*P/(k*Ac)),.5);\n",
      "Rtf = math.pow((h*P*k*Ac),(-.5))/ math.tanh(m*Lf);\n",
      "Rtc = Rtcy/(2*Lc*Wc);\n",
      "Rtbase = tb/(2*k*Lc*Wc);\n",
      "Rtb = 1/(h*(2*Wc-N*tf)*Lc);\n",
      "Rtfn = Rtf/N;\n",
      "Requiv = 1/(1/Rtb + 1/Rtfn);\n",
      "Rtot = Rtc + Rtbase + Requiv;\n",
      "\n",
      "Tc2 = Tsurr +q*(Rtot);\n",
      "#results\n",
      "\n",
      "print '%s %.2f %s' %(\"\\n\\n (a) Power consumed by fan is more than the generated power of fuel cell, and hence system cannot produce net power = \",Pnet ,\"W \")\n",
      "print '%s %.2f %s %.2f %s' %(\"\\n\\n (b) Actual fuel cell Temp is close enough to \",Tc2-273.,\" degC for reducing the fan power consumption by half ie Pnet =\",C*Vf/2.,\" W, we require 22 fins, 11 on top and 11 on bottom.\");\n",
      "\n",
      "#END"
     ],
     "language": "python",
     "metadata": {},
     "outputs": [
      {
       "output_type": "stream",
       "stream": "stdout",
       "text": [
        "\n",
        "\n",
        " (a) Power consumed by fan is more than the generated power of fuel cell, and hence system cannot produce net power =  -0.40 W \n",
        "\n",
        "\n",
        " (b) Actual fuel cell Temp is close enough to  54.47  degC for reducing the fan power consumption by half ie Pnet = 4.70  W, we require 22 fins, 11 on top and 11 on bottom.\n"
       ]
      }
     ],
     "prompt_number": 22
    },
    {
     "cell_type": "heading",
     "level": 2,
     "metadata": {},
     "source": [
      "Example 3.12 Page 163"
     ]
    },
    {
     "cell_type": "code",
     "collapsed": false,
     "input": [
      "\n",
      "import math\n",
      "hair = 2.;     \t\t\t#[W/m^2.K] Heat convection coefficient air\n",
      "hwater = 200.;     \t\t#[W/m^2.K] Heat convection coefficient water\n",
      "hr = 5.9 ;     \t\t\t#[W/m^2.K] Heat radiation coefficient\n",
      "Tsurr = 297.;    \t\t#[K] Temperature of surrounding air\n",
      "Tc = 37+273.;    \t\t#[K] Temp inside\n",
      "e = .95;\n",
      "A = 1.8 ;       \t\t#[m^2] area\n",
      "#Prop of blood\n",
      "w = .0005 ;      \t\t#[s^-1] perfusion rate\n",
      "pb = 1000.;        \t\t#[kg/m^3] blood density\n",
      "cb = 3600.;        \t\t#[J/kg] specific heat\n",
      "#Dimensions & properties of muscle & skin/fat\n",
      "Lm = .03 ;       \t\t#[m]\n",
      "Lsf = .003 ;     \t\t#[m]\n",
      "km = .5 ;       \t\t#[W/m.K]\n",
      "ksf = .3;        \t\t#[W/m.K]\n",
      "q = 700.;         \t\t#[W/m^3]  Metabolic heat generation rate\n",
      "#calculations\n",
      "\n",
      "Rtotair = (Lsf/ksf + 1/(hair + hr))/A;\n",
      "Rtotwater = (Lsf/ksf + 1/(hwater+hr))/A;\n",
      "#please correct this in the textbook. \n",
      "m = math.pow((w*pb*cb/km),.5);\n",
      "Theta = -q/(w*pb*cb);\n",
      "\n",
      "Tiair = (Tsurr*math.sinh(m*Lm) + km*A*m*Rtotair*(Theta + (Tc + q/(w*pb*cb))*math.cosh(m*Lm)))/(math.sinh(m*Lm)+km*A*m*Rtotair*math.cosh(m*Lm));\n",
      "qair = (Tiair - Tsurr)/Rtotair;\n",
      "\n",
      "Tiwater = (Tsurr*math.sinh(m*Lm) + km*A*m*Rtotwater*(Theta + (Tc + q/(w*pb*cb))*math.cosh(m*Lm)))/(math.sinh(m*Lm)+km*A*m*Rtotwater*math.cosh(m*Lm));\n",
      "qwater = (Tiwater - Tsurr)/Rtotwater;\n",
      "#results\n",
      "\n",
      "print '%s %.2f %s' %(\"\\n\\n For Air \\n Temp excess Ti = \",Tiair-273,\" degC \")\n",
      "print '%s %.2f %s %.2f %s %.2f %s' %(\"and Heat loss rate =\",qair,\" W \\n\\n For Water \\n Temp excess Ti = \",Tiwater-273,\" degC and Heat loss rate =\",qwater,\"W \");\n",
      "#END"
     ],
     "language": "python",
     "metadata": {},
     "outputs": [
      {
       "output_type": "stream",
       "stream": "stdout",
       "text": [
        "\n",
        "\n",
        " For Air \n",
        " Temp excess Ti =  34.77  degC \n",
        "and Heat loss rate = 141.99  W \n",
        "\n",
        " For Water \n",
        " Temp excess Ti =  28.25  degC and Heat loss rate = 514.35 W \n"
       ]
      }
     ],
     "prompt_number": 23
    }
   ],
   "metadata": {}
  }
 ]
}