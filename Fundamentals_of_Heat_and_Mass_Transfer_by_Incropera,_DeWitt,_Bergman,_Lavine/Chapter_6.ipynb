{
 "metadata": {
  "name": "",
  "signature": "sha256:4c9f19718c00e3bd942cd652731d5120db18676ef29029938745f62980f5cff9"
 },
 "nbformat": 3,
 "nbformat_minor": 0,
 "worksheets": [
  {
   "cells": [
    {
     "cell_type": "heading",
     "level": 1,
     "metadata": {},
     "source": [
      "Introduction to Convection"
     ]
    },
    {
     "cell_type": "heading",
     "level": 2,
     "metadata": {},
     "source": [
      "Example 6.2 Page 356 "
     ]
    },
    {
     "cell_type": "code",
     "collapsed": false,
     "input": [
      "import math\n",
      "#Operating Conditions\n",
      "\n",
      "h = .05;          \t\t\t#[W/m^2.K] Heat Convection coefficient\n",
      "D = .02;          \t\t\t#[m] Diameter of cylinder\n",
      "Cas = 5*math.pow(10,-6);    #[kmol/m^3] Surface molar Conc\n",
      "Casurr = 0;       \t\t\t#[kmol/m^3] Surrounding molar Conc\n",
      "Ma = 128;         \t\t\t#[Kg/kmol] Molecular weight\n",
      "#calculations\n",
      "#From Eqn 6.15\n",
      "Na = h*(math.pi*D)*(Cas-Casurr);\n",
      "na = Ma*Na;\n",
      "#results\n",
      "print '%s %.2e %s' %(\"\\n\\n Mass sublimation Rate is =\",na,\" kg/s.m \");\n",
      "#END"
     ],
     "language": "python",
     "metadata": {},
     "outputs": [
      {
       "output_type": "stream",
       "stream": "stdout",
       "text": [
        "\n",
        "\n",
        " Mass sublimation Rate is = 2.01e-06  kg/s.m \n"
       ]
      }
     ],
     "prompt_number": 1
    },
    {
     "cell_type": "heading",
     "level": 2,
     "metadata": {},
     "source": [
      "Example 6.3 Page 357"
     ]
    },
    {
     "cell_type": "code",
     "collapsed": false,
     "input": [
      "\n",
      "import math\n",
      "#Operating Conditions\n",
      "\n",
      "Dab = .288*math.pow(10,-4);        \t#[m^2/s] Table A.8 water vapor-air (319K)\n",
      "pas = .1;            \t\t\t\t#[atm] Partial pressure at surface\n",
      "pasurr = .02;            \t\t\t#[atm] Partial pressure at infinity\n",
      "y0 = .003;            \t\t\t\t#[m] Tangent at y = 0 intercepts y axis at 3 mm\n",
      "#calculations\n",
      "#From Measured Vapor Pressure Distribution\n",
      "delp = (0 - pas)/(y0 - 0);            #[atm/m]\n",
      "hmx = -Dab*delp/(pas - pasurr);       #[m/s] \n",
      "#results\n",
      "print '%s %.4f %s' %(\"\\n\\n Convection Mass Transfer coefficient at prescribed location =\",hmx,\" m/s\");\n",
      "#END"
     ],
     "language": "python",
     "metadata": {},
     "outputs": [
      {
       "output_type": "stream",
       "stream": "stdout",
       "text": [
        "\n",
        "\n",
        " Convection Mass Transfer coefficient at prescribed location = 0.0120  m/s\n"
       ]
      }
     ],
     "prompt_number": 2
    },
    {
     "cell_type": "heading",
     "level": 2,
     "metadata": {},
     "source": [
      "Example 6.4 Page 362 "
     ]
    },
    {
     "cell_type": "code",
     "collapsed": false,
     "input": [
      "\n",
      "import math\n",
      "#Operating Conditions\n",
      "v = 1;        \t\t\t\t#[m/s]  Velocity of water\n",
      "L = 0.6;      \t\t\t\t#[m] Plate length\n",
      "Tw1 = 300.;    \t\t\t\t#[K]\n",
      "Tw2 = 350.;    \t\t\t\t#[K]\n",
      "#Coefficients [W/m^1.5 . K]\n",
      "Clam1 = 395;\n",
      "Cturb1 = 2330;\n",
      "Clam2 = 477;\n",
      "Cturb2 = 3600;\n",
      "\n",
      "#Water Properties at T = 300K\n",
      "p1 = 997;    \t\t\t\t#[kg/m^3]  Density\n",
      "u1 = 855*math.pow(10,-6);   #[N.s/m^2] Viscosity\n",
      "#Water Properties at T = 350K\n",
      "p2 = 974;    \t\t\t\t#[kg/m^3]  Density\n",
      "u2 = 365*math.pow(10,-6);   #[N.s/m^2] Viscosity\n",
      "\n",
      "\n",
      "Rec = 5*math.pow(10,5);     #Transititon Reynolds Number\n",
      "xc1 = Rec*u1/(p1*v); \t\t#[m]Transition length at 300K\n",
      "xc2 = Rec*u2/(p2*v); \t\t#[m]Transition length at 350K\n",
      "#calculations\n",
      "#Integrating eqn 6.14\n",
      "#At 300 K\n",
      "h1 = (Clam1*math.pow(xc1,.5) /.5 + Cturb1*(math.pow(L,.8)-math.pow(xc1,.8))/.8)/L;\n",
      "\n",
      "#At 350 K\n",
      "h2 = (Clam2*math.pow(xc2,.5) /.5 + Cturb2*(math.pow(L,.8)-math.pow(xc2,.8))/.8)/L;\n",
      "#results\n",
      "print '%s %.2f %s %.2f %s' %(\"\\n\\n Average Convection Coefficient over the entire plate for the two temperatures at 300K =\",h1,\" W/m^2.K and at 350K =\",h2,\" W/m^2.K\");\n",
      "#END"
     ],
     "language": "python",
     "metadata": {},
     "outputs": [
      {
       "output_type": "stream",
       "stream": "stdout",
       "text": [
        "\n",
        "\n",
        " Average Convection Coefficient over the entire plate for the two temperatures at 300K = 1622.45  W/m^2.K and at 350K = 3707.93  W/m^2.K\n"
       ]
      }
     ],
     "prompt_number": 3
    },
    {
     "cell_type": "heading",
     "level": 2,
     "metadata": {},
     "source": [
      "Example 6.5 Page 372"
     ]
    },
    {
     "cell_type": "code",
     "collapsed": false,
     "input": [
      "\n",
      "\n",
      "#Operating Conditions\n",
      "v = 160;        \t\t\t\t#[m/s]  Velocity of air\n",
      "L = 0.04;      \t\t\t\t\t#[m] Blade length\n",
      "Tsurr = 1150+273.;    \t\t\t#[K]\n",
      "Ts = 800+273.;    \t\t\t\t#[K] Surface Temp\n",
      "q = 95000;        \t\t\t\t#[W/m^2] Original heat flux\n",
      "#calculations\n",
      "#Case 1\n",
      "Ts1 = 700+273.;   \t \t\t\t#[K] Surface Temp\n",
      "q1 = q*(Tsurr-Ts1)/(Tsurr-Ts);\n",
      "\n",
      "#Case 2\n",
      "L2 = .08;            \t\t\t#[m] Length\n",
      "q2 = q*L/L2;        \t\t\t#[W/m^2] Heat flux\n",
      "#results\n",
      "\n",
      "print '%s %d %s' %(\"\\n\\n (a) Heat Flux to blade when surface temp is reduced =\",q1/1000. ,\" KW/m^2\") \n",
      "print '%s %.2f %s' %(\"\\n (b) Heat flux to a larger turbine blade = \",q2/1000. ,\"KW/m^2\");\n",
      "#END"
     ],
     "language": "python",
     "metadata": {},
     "outputs": [
      {
       "output_type": "stream",
       "stream": "stdout",
       "text": [
        "\n",
        "\n",
        " (a) Heat Flux to blade when surface temp is reduced = 122  KW/m^2\n",
        "\n",
        " (b) Heat flux to a larger turbine blade =  47.50 KW/m^2\n"
       ]
      }
     ],
     "prompt_number": 4
    },
    {
     "cell_type": "heading",
     "level": 2,
     "metadata": {},
     "source": [
      "Example 6.6 Page 379"
     ]
    },
    {
     "cell_type": "code",
     "collapsed": false,
     "input": [
      "\n",
      "import math\n",
      "#Operating Conditions\n",
      "v = 100;        \t\t\t#[m/s]  Velocity of air\n",
      "Tsurr = 20+273.;    \t\t#[K] Surrounding Air Temperature\n",
      "L1 = 1;      \t\t\t\t#[m] solid length\n",
      "Ts = 80+273.;    \t\t\t#[K] Surface Temp\n",
      "qx = 10000;        \t\t\t#[W/m^2] heat flux at a point x\n",
      "Txy = 60+273.;        \t\t#[K] Temp in boundary layer above the point\n",
      "\n",
      "#Table A.4 Air Properties at T = 323K\n",
      "v = 18.2*math.pow(10,-6);   #[m^2/s] Viscosity\n",
      "k = 28*math.pow(10,-3);    \t#[W/m.K] Conductivity\n",
      "Pr = 0.7;          \t\t\t#Prandttl Number\n",
      "#Table A.6 Saturated Water Vapor at T = 323K\n",
      "pasat = 0.082;     \t\t\t#[kg/m^3]\n",
      "Ma = 18;           \t\t\t#[kg/kmol] Molecular mass of water vapor\n",
      "#Table A.8 Water Vapor-air at T = 323K\n",
      "Dab = .26*math.pow(10,-4);\t#[m^2/s]\n",
      "#calculations\n",
      "#Case 1\n",
      "Casurr = 0;\n",
      "Cas = pasat/Ma;        \t\t#[kmol/m^3] Molar conc of saturated water vapor at surface\n",
      "Caxy = Cas + (Casurr - Cas)*(Txy - Ts)/(Tsurr - Ts);\n",
      "\n",
      "#Case 2\n",
      "L2 = 2.;\n",
      "hm = L1/L2 * Dab/k * qx/(Ts-Tsurr);\n",
      "Na = hm*(Cas - Casurr);\n",
      "#results\n",
      "\n",
      "print '%s %.4f %s' %(\"\\n (a) Water vapor Concentration above the point =\",Caxy,\"Kmol/m^3 \\n\") \n",
      "print '%s %.2e %s' %(\"(b) Molar flux to a larger surface = \",Na,\"Kmol/s.m^2\");\n",
      "#END"
     ],
     "language": "python",
     "metadata": {},
     "outputs": [
      {
       "output_type": "stream",
       "stream": "stdout",
       "text": [
        "\n",
        " (a) Water vapor Concentration above the point = 0.0030 Kmol/m^3 \n",
        "\n",
        "(b) Molar flux to a larger surface =  3.53e-04 Kmol/s.m^2\n"
       ]
      }
     ],
     "prompt_number": 5
    },
    {
     "cell_type": "heading",
     "level": 2,
     "metadata": {},
     "source": [
      "Example 6.7 Page 383 "
     ]
    },
    {
     "cell_type": "code",
     "collapsed": false,
     "input": [
      "\n",
      "import math\n",
      "#Operating Conditions\n",
      "Tsurr = 40+273.;    \t\t#[K] Surrounding Air Temperature\n",
      "#Volatile Wetting Agent A\n",
      "hfg = 100;        \t\t\t#[kJ/kg]\n",
      "Ma = 200;         \t\t\t#[kg/kmol] Molecular mass\n",
      "pasat = 5000;     \t\t\t#[N/m^2] Saturate pressure\n",
      "Dab = .2*math.pow(10,-4);   #[m^2/s] Diffusion coefficient\n",
      "\n",
      "#Table A.4 Air Properties at T = 300K\n",
      "p = 1.16;                \t#[kg/m^3] Density\n",
      "cp = 1.007;              \t#[kJ/kg.K] Specific Heat\n",
      "alpha = 22.5*math.pow(10,-6)#[m^2/s] \n",
      "R = 8.314;               \t#[kJ/kmol] Universal Gas Constt\n",
      "#calculations\n",
      "#Applying Eqn 6.65 and setting pasurr = 0\n",
      "# Ts^2 - Tsurr*Ts + B = 0     , where the coefficient B is\n",
      "B = Ma*hfg*pasat*math.pow(10,-3) /(R*p*cp*math.pow((alpha/Dab),(2./3.)));\n",
      "Ts = (Tsurr + math.sqrt(Tsurr*Tsurr - 4*B))/2. ;\n",
      "#results\n",
      "print '%s %.1f %s' %(\"\\n Steady State Surface Temperature of Beverage =\",Ts-273.,\"degC\");\n",
      "#END"
     ],
     "language": "python",
     "metadata": {},
     "outputs": [
      {
       "output_type": "stream",
       "stream": "stdout",
       "text": [
        "\n",
        " Steady State Surface Temperature of Beverage = 5.9 degC\n"
       ]
      }
     ],
     "prompt_number": 6
    }
   ],
   "metadata": {}
  }
 ]
}