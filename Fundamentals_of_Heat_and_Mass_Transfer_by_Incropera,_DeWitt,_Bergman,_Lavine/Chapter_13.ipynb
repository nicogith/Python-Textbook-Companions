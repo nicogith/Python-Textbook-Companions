{
 "metadata": {
  "name": "",
  "signature": "sha256:0be077d15f32f0d1b8e0a08fdc77fccd31f63a0aa5b7d4531be27e5ff004495f"
 },
 "nbformat": 3,
 "nbformat_minor": 0,
 "worksheets": [
  {
   "cells": [
    {
     "cell_type": "heading",
     "level": 1,
     "metadata": {},
     "source": [
      "Radiation Exchange between surfaces"
     ]
    },
    {
     "cell_type": "heading",
     "level": 2,
     "metadata": {},
     "source": [
      "Example 13.2 Page 821"
     ]
    },
    {
     "cell_type": "code",
     "collapsed": false,
     "input": [
      "\n",
      "\n",
      "import math\n",
      "# (1) Sphere within Cube\n",
      "F12a = 1                    \t\t;#By Inspection\n",
      "F21a = (math.pi/6.)*F12a        \t; #By Reciprocity\n",
      "#calculations\n",
      "\n",
      "# (2) Partition within a Square Duct\n",
      "F11b = 0                    \t\t;#By Inspection\n",
      "#By Symmetry F12 = F13\n",
      "F12b = (1-F11b)/2.      ;\t\t    #By Summation Rule\n",
      "F21b = math.sqrt(2.)*F12b     ;     #By Reciprocity\n",
      "\n",
      "# (3) Circular Tube\n",
      "#From Table 13.2 or 13.5, with r3/L = 0.5 and L/r1 = 2\n",
      "F13c = .172;\n",
      "F11c = 0;                    \t\t#By Inspection\n",
      "F12c = 1 - F11c - F13c      \t\t;#By Summation Rule\n",
      "F21c = F12c/4.               \t\t;#By Reciprocity\n",
      "#results\n",
      "\n",
      "print' %s' %('\\n Desired View Factors may be obtained from inspection, the reciprocity rule, the summation rule and/or use of charts')\n",
      "print '%s %.3f' %('\\n (1) Sphere within Cube F21 =',F21a)\n",
      "print '%s %.3f' %('\\n (2) Partition within a Square Duct F21 = ',F21b)\n",
      "print '%s %.3f' %('\\n (3) Circular Tube F21 =',F21c);"
     ],
     "language": "python",
     "metadata": {},
     "outputs": [
      {
       "output_type": "stream",
       "stream": "stdout",
       "text": [
        " \n",
        " Desired View Factors may be obtained from inspection, the reciprocity rule, the summation rule and/or use of charts\n",
        "\n",
        " (1) Sphere within Cube F21 = 0.524\n",
        "\n",
        " (2) Partition within a Square Duct F21 =  0.707\n",
        "\n",
        " (3) Circular Tube F21 = 0.207\n"
       ]
      }
     ],
     "prompt_number": 1
    },
    {
     "cell_type": "heading",
     "level": 2,
     "metadata": {},
     "source": [
      "Example 13.3 Page 826"
     ]
    },
    {
     "cell_type": "code",
     "collapsed": false,
     "input": [
      "\n",
      "\n",
      "import math\n",
      "import numpy\n",
      "from numpy import linalg\n",
      "\n",
      "L = 10        \t;#[m] Collector length = Heater Length\n",
      "T2 = 600      \t;#[K] Temperature of curved surface\n",
      "A2 = 15      \t;#[m^2] Area of curved surface\n",
      "e2 = .5      \t;# emissivity of curved surface\n",
      "stfncnstt = 5.67*math.pow(10,-8);\t\t#[W/m^2.K^4] Stefan-Boltzmann constant\n",
      "T1 = 1000        ;#[K] Temperature of heater\n",
      "A1 = 10          ;#[m^2] area of heater\n",
      "e1 = .9          ;# emissivity of heater\n",
      "W = 1            ;#[m] Width of heater\n",
      "H = 1            ;#[m] Height\n",
      "T3 = 300         ;#[K] Temperature of surrounding\n",
      "e3 = 1           ;# emissivity of surrounding\n",
      "#calculations\n",
      "\n",
      "J3 = stfncnstt*T3*T3*T3*T3; #[W/m^2]\n",
      "#From Figure 13.4 or Table 13.2, with Y/L = 10 and X/L =1\n",
      "F12 = .39;\n",
      "F13 = 1 - F12;   \t\t\t#By Summation Rule\n",
      "#For a hypothetical surface A2h\n",
      "A2h = L*W;\n",
      "F2h3 = F13;       \t\t\t#By Symmetry\n",
      "F23 = A2h/A2*F13;         \t#By reciprocity\n",
      "Eb1 = stfncnstt*T1*T1*T1*T1;#[W/m^2]\n",
      "Eb2 = stfncnstt*T2*T2*T2*T2;#[W/m^2]\n",
      "#Radiation network analysis at Node corresponding 1\n",
      "#-10J1 + 0.39J2 = -510582\n",
      "#.26J1 - 1.67J2 = -7536\n",
      "#Solving above equations\n",
      "A = ([[-10 ,.39],\n",
      "     [.26, -1.67]]);\n",
      "B = ([[-510582.],\n",
      "     [-7536.]]);\n",
      "\n",
      "X = numpy.linalg.solve (A,B);\n",
      "\n",
      "q2 = (Eb2 - X[1])/(1-e2)*(e2*A2);\n",
      "#results\n",
      "\n",
      "print '%s %.1f %s' %('\\n Net Heat transfer rate to the absorber is = ',q2/1000. ,'kW');"
     ],
     "language": "python",
     "metadata": {},
     "outputs": [
      {
       "output_type": "stream",
       "stream": "stdout",
       "text": [
        "\n",
        " Net Heat transfer rate to the absorber is =  -77.8 kW\n"
       ]
      }
     ],
     "prompt_number": 2
    },
    {
     "cell_type": "heading",
     "level": 2,
     "metadata": {},
     "source": [
      "Example 13.4 Page 830"
     ]
    },
    {
     "cell_type": "code",
     "collapsed": false,
     "input": [
      "\n",
      "\n",
      "import math\n",
      "\n",
      "T3 = 300.         \t\t\t\t\t;#[K] Temperature of surrounding\n",
      "L = .15        \t\t\t\t\t\t;#[m] Furnace Length\n",
      "T2 = 1650+273.      \t\t\t\t;#[K] Temperature of bottom surface\n",
      "T1 = 1350+273.      \t\t\t\t;#[K] Temperature of sides of furnace\n",
      "D = .075           \t\t\t\t\t;#[m] Diameter of furnace\n",
      "stfncnstt = 5.670*math.pow(10,-8);  #[W/m^2.K^4] Stefan Boltzman Constant\n",
      "#calculations\n",
      "\n",
      "A2 = math.pi*D*D/4.        \t\t\t;#[m] Area of bottom surface\n",
      "A1 = math.pi*D*L        \t \t\t;#[m] Area of curved sides\n",
      "#From Figure 13.5 or Table 13.2, with ri/L = .25 \n",
      "F23 = .056;\n",
      "F21 = 1 - F23;        \t\t\t\t#By Summation Rule\n",
      "F12 = A2/A1*F21;         \t\t\t#By reciprocity\n",
      "F13 = F12            \t\t\t\t;#By Symmetry\n",
      "#From Equation 13.17 Heat balance\n",
      "q = A1*F13*stfncnstt*(T1*T1*T1*T1 - T3*T3*T3*T3) + A2*F23*stfncnstt*(T2*T2*T2*T2 - T3*T3*T3*T3);\n",
      "#results\n",
      "\n",
      "print '%s %d %s' %('\\n Power required to maintain prescribed temperatures is =',q, 'W');"
     ],
     "language": "python",
     "metadata": {},
     "outputs": [
      {
       "output_type": "stream",
       "stream": "stdout",
       "text": [
        "\n",
        " Power required to maintain prescribed temperatures is = 1830 W\n"
       ]
      }
     ],
     "prompt_number": 3
    },
    {
     "cell_type": "heading",
     "level": 2,
     "metadata": {},
     "source": [
      "Example 13.5 Page 834"
     ]
    },
    {
     "cell_type": "code",
     "collapsed": false,
     "input": [
      "\n",
      "\n",
      "import math\n",
      "\n",
      "T2 = 300      \t;#[K] Temperature of inner surface\n",
      "D2 = .05      \t;#[m] Diameter of Inner Surface\n",
      "e2 = .05      \t;# emissivity of Inner Surface\n",
      "T1 = 77      \t;#[K] Temperature of Outer Surface\n",
      "D1 = .02        ;#[m] Diameter of Inner Surface\n",
      "e1 = .02      \t;# emissivity of Outer Surface\n",
      "D3 = .035       ;#[m] Diameter of Shield\n",
      "e3 = .02        ;# emissivity of Shield\n",
      "stfncnstt = 5.670*math.pow(10,-8)        ;#[W/m^2.K^4] Stefan Boltzman Constant\n",
      "#calculations\n",
      "\n",
      "#From Equation 13.20 Heat balance\n",
      "q = stfncnstt*(math.pi*D1)*(T1*T1*T1*T1-T2*T2*T2*T2)/(1/e1 + (1-e2)/e2*D1/D2) ;#[W/m] \n",
      "\n",
      "RtotL = (1-e1)/(e1*math.pi*D1) + 1/(math.pi*D1*1) + 2*((1-e3)/(e3*math.pi*D3)) + 1/(math.pi*D3*1) + (1-e2)/(e2*math.pi*D2)    ;#[m^-2]\n",
      "q2 = stfncnstt*(T1*T1*T1*T1 - T2*T2*T2*T2)/RtotL;   #[W/m] \n",
      "#results\n",
      "\n",
      "print '%s %.2f %s' %('\\n Heat gain by the fluid passing through the inner tube =',q,'W/m') \n",
      "print '%s %.2f %s' %('\\n Percentage change in heat gain with radiation shield inserted midway between inner and outer tubes is =',(q2-q)*100/q,'percent'); "
     ],
     "language": "python",
     "metadata": {},
     "outputs": [
      {
       "output_type": "stream",
       "stream": "stdout",
       "text": [
        "\n",
        " Heat gain by the fluid passing through the inner tube = -0.50 W/m\n",
        "\n",
        " Percentage change in heat gain with radiation shield inserted midway between inner and outer tubes is = -49.55 percent\n"
       ]
      }
     ],
     "prompt_number": 4
    },
    {
     "cell_type": "heading",
     "level": 2,
     "metadata": {},
     "source": [
      "Example 13.6 Page 836"
     ]
    },
    {
     "cell_type": "code",
     "collapsed": false,
     "input": [
      "\n",
      "import math\n",
      "\n",
      "T2 = 500      \t\t\t\t\t;#[K] Temperature of Painted surface\n",
      "e2 = .4     \t \t\t\t\t;# emissivity of Painted Surface\n",
      "T1 = 1200      \t\t\t\t\t;#[K] Temperature of Heated Surface\n",
      "W = 1          \t\t\t\t\t; #[m] Width of Painted Surface\n",
      "e1 = .8      \t\t\t\t\t;# emissivity of Heated Surface\n",
      "er = .8        \t\t\t\t\t;# emissivity of Insulated Surface\n",
      "stfncnstt = 5.670*math.pow(10,-8);#[W/m^2.K^4] Stefan Boltzman Constant\n",
      "\n",
      "#By Symmetry Rule\n",
      "F2R = .5;\n",
      "F12 = .5;\n",
      "F1R = .5;\n",
      "#calculations\n",
      "\n",
      "#From Equation 13.20 Heat balance\n",
      "q = stfncnstt*(T1*T1*T1*T1-T2*T2*T2*T2)/((1-e1)/e1*W+ 1/(W*F12+1/((1/W/F1R) + (1/W/F2R))) + (1-e2)/e2*W) ;#[W/m] \n",
      "\n",
      "#Surface Energy Balance 13.13\n",
      "J1 = stfncnstt*T1*T1*T1*T1 - (1-e1)*q/(e1*W)\t\t;# [W/m^2] Surface 1\n",
      "J2 = stfncnstt*T2*T2*T2*T2 - (1-e2)*(-q)/(e2*W)\t\t;# [W/m^2] Surface 2\n",
      "#From Equation 13.26 Heat balance\n",
      "JR = (J1+J2)/2.;\n",
      "TR = math.pow((JR/stfncnstt),.25);\n",
      "#results\n",
      "\n",
      "print '%s %.2f %s' %('\\n Rate at which heat must be supplied per unit length of duct = ',q/1000.,'kW/m') \n",
      "print '%s %d %s' %('\\n Temperature of the insulated surface = ',TR,'K');"
     ],
     "language": "python",
     "metadata": {},
     "outputs": [
      {
       "output_type": "stream",
       "stream": "stdout",
       "text": [
        "\n",
        " Rate at which heat must be supplied per unit length of duct =  36.98 kW/m\n",
        "\n",
        " Temperature of the insulated surface =  1102 K\n"
       ]
      }
     ],
     "prompt_number": 5
    },
    {
     "cell_type": "heading",
     "level": 2,
     "metadata": {},
     "source": [
      "Example 13.7  Page 841"
     ]
    },
    {
     "cell_type": "code",
     "collapsed": false,
     "input": [
      "\n",
      "\n",
      "import math\n",
      "\n",
      "\n",
      "T1 = 1000.      \t\t\t\t;#[K] Temperature of Heated Surface\n",
      "e1 = .8      \t\t\t\t\t;# emissivity of Heated Surface\n",
      "e2 = .8       \t\t\t\t\t; # emissivity of Insulated Surface\n",
      "r = .02        \t\t\t\t\t;#[m] Radius of surface\n",
      "Tm = 400        \t\t\t\t;#[K] Temperature of surrounding air\n",
      "m = .01        \t\t\t\t\t;#[kg/s] Flow rate of surrounding air\n",
      "p = 101325     \t\t\t\t\t;#[Pa] Pressure of surrounding air\n",
      "stfncnstt = 5.670*math.pow(10,-8);#[W/m^2.K^4] Stefan Boltzman Constant\n",
      "#Table A.4 Air Properties at 1 atm, 400 K\n",
      "k = .0338        \t\t\t\t;#[W/m.K] conductivity\n",
      "u = 230*math.pow(10,-7)    \t\t;#[kg/s.m] Viscosity\n",
      "cp = 1014        \t\t\t\t;#[J/kg] Specific heat\n",
      "Pr = .69         \t\t\t\t;# Prandtl Number\n",
      "#calculations and results\n",
      "\n",
      "#Hydraulic Diameter\n",
      "Dh = 2*math.pi*r/(math.pi+2.)   ;#[m]\n",
      "#Reynolds number\n",
      "Re = m*Dh/(math.pi*r*r/2.)/u;\n",
      "#View Factor\n",
      "F12 = 1 ;\n",
      "\n",
      "print '%s %d %s' %(\"\\n As Reynolds Number is\",Re,\", Hence it is Turbulent flow inside a cylinder. Hence we will use Dittus-Boelter Equation\");\n",
      "\n",
      "#From Dittus-Boelter Equation\n",
      "Nu = .023*math.pow(Re,.8) *math.pow(Pr,.4);\n",
      "h = Nu*k/Dh;            \t\t#[W/m^2.K]\n",
      "\n",
      "#From Equation 13.18 Heat Energy balance\n",
      "#Newton Raphson\n",
      "T2=600;        \t\t\t\t\t#Initial Assumption\n",
      "T2=696. \t\t\t\t\t\t#Final answer\n",
      "#From energy Balance\n",
      "q = h*math.pi*r*(T2-Tm) + h*2*r*(T1-Tm)        ;#[W/m]\n",
      "\n",
      "print '%s %.2f %s' %('\\n Rate at which heat must be supplied per unit length of duct =',q,'W/m') \n",
      "print '%s %.2f %s' %('& Temperature of the insulated surface =',T2,'K');"
     ],
     "language": "python",
     "metadata": {},
     "outputs": [
      {
       "output_type": "stream",
       "stream": "stdout",
       "text": [
        "\n",
        " As Reynolds Number is 16912 , Hence it is Turbulent flow inside a cylinder. Hence we will use Dittus-Boelter Equation\n",
        "\n",
        " Rate at which heat must be supplied per unit length of duct = 2818.56 W/m\n",
        "& Temperature of the insulated surface = 696.00 K\n"
       ]
      }
     ],
     "prompt_number": 6
    }
   ],
   "metadata": {}
  }
 ]
}