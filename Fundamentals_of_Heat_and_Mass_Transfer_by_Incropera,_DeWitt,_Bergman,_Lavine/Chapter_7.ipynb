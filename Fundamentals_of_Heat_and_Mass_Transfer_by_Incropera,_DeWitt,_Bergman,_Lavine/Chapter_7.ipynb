{
 "metadata": {
  "name": "",
  "signature": "sha256:12137eba1f5bf47c0fd628804006f0ff8647777d41f9645050b549888507b91d"
 },
 "nbformat": 3,
 "nbformat_minor": 0,
 "worksheets": [
  {
   "cells": [
    {
     "cell_type": "heading",
     "level": 1,
     "metadata": {},
     "source": [
      "External Flow"
     ]
    },
    {
     "cell_type": "heading",
     "level": 2,
     "metadata": {},
     "source": [
      "Example 7.1 Page 415"
     ]
    },
    {
     "cell_type": "code",
     "collapsed": false,
     "input": [
      "\n",
      "import math\n",
      "#Operating Conditions\n",
      "v = 10;            \t\t\t\t\t\t\t#[m/s] Air velocity\n",
      "p = 6000;          \t\t\t\t\t\t\t#[N/m^2] Air pressure\n",
      "Tsurr = 300+273.;    \t\t\t\t\t\t#[K] Surrounding Air Temperature\n",
      "L = .5;            \t\t\t\t\t\t\t#[m] Length of plate\n",
      "Ts = 27+273.;       \t\t\t\t\t\t#[K] Surface Temp\n",
      "\n",
      "#Table A.4 Air Properties at T = 437K \n",
      "uv = 30.84*math.pow(10,-6)*(101325./6000.); #[m^2/s] Kinematic Viscosity at P = 6000 N/m^2\n",
      "k = 36.4*math.pow(10,-3);           \t\t#[W/m.K] Thermal COnductivity\n",
      "Pr = .687;                \t\t\t\t\t#Prandtl number\n",
      "#calculations\n",
      "Re = v*L/uv;        \t\t\t\t\t\t#Reynolds number\n",
      "print '%s %d %s' %(\"\\n Since Reynolds Number is\",Re,\", The flow is laminar over the entire plate\");\n",
      "\n",
      "#Correlation 7.30 \n",
      "NuL = .664*math.pow(Re,.5)*math.pow(Pr,0.3334);    #Nusselt Number over entire plate length\n",
      "hL = NuL*k/L;                # Average Convection Coefficient\n",
      "#Required cooling rate per unit width of plate\n",
      "q = hL*L*(Tsurr-Ts);\n",
      "#results\n",
      "print '%s %d %s' %(\"\\n\\n Required cooling rate per unit width of plate =\",q,\" W/m\");\n",
      "#END"
     ],
     "language": "python",
     "metadata": {},
     "outputs": [
      {
       "output_type": "stream",
       "stream": "stdout",
       "text": [
        "\n",
        " Since Reynolds Number is 9600 , The flow is laminar over the entire plate\n",
        "\n",
        "\n",
        " Required cooling rate per unit width of plate = 570  W/m\n"
       ]
      }
     ],
     "prompt_number": 1
    },
    {
     "cell_type": "heading",
     "level": 2,
     "metadata": {},
     "source": [
      "Example 7.2 Page 417"
     ]
    },
    {
     "cell_type": "code",
     "collapsed": false,
     "input": [
      "\n",
      "import math\n",
      "#Operating Conditions\n",
      "v = 60;            \t\t\t#[m/s] Air velocity\n",
      "Tsurr = 25+273.;    \t\t#[K] Surrounding Air Temperature\n",
      "w = 1;            \t\t\t#[m] Width of plate\n",
      "L = .05;          \t\t\t#[m] Length of stripper\n",
      "Ts = 230+273.;       \t\t#[K] Surface Temp\n",
      "\n",
      "#Table A.4 Air Properties at T = 400K \n",
      "uv = 26.41*math.pow(10,-6); #[m^2/s] Kinematic Viscosity\n",
      "k = .0338;                \t#[W/m.K] Thermal COnductivity\n",
      "Pr = .690;                \t#Prandtl number\n",
      "#calculations\n",
      "Re = v*L/uv;        \t\t#Reynolds number\n",
      "\n",
      "Rexc = 5*math.pow(10,5);    #Transition Reynolds Number\n",
      "xc = uv*Rexc/v;      \t\t#Transition Length\n",
      "#results\n",
      "print '%s %d' %(\"\\n Reynolds Number based on length L = .05m is \",Re)\n",
      "print '%s %.2f %s' %(\"\\n And the transition occur at xc =\",xc,\" m ie fifth plate\");\n",
      "\n",
      "#For first heater\n",
      "#Correlation 7.30 \n",
      "Nu1 = .664*math.pow(Re,0.5)*math.pow(Pr,0.3334);    #Nusselt Number \n",
      "h1 = Nu1*k/L;               # Average Convection Coefficient\n",
      "q1 = h1*(L*w)*(Ts-Tsurr);   # Convective Heat exchange\n",
      "\n",
      "#For first four heaters\n",
      "Re4 = 4*Re;\n",
      "L4 = 4*L;\n",
      "Nu4 = .664*math.pow(Re4,0.5)*math.pow(Pr,0.3334);    #Nusselt Number \n",
      "h4 = Nu4*k/L4;              # Average Convection Coefficient\n",
      "print(h4)\n",
      "#For Fifth heater from Eqn 7.38\n",
      "Re5 = 5*Re;\n",
      "A = 871;    \n",
      "L5 = 5*L;\n",
      "Nu5 = (.037*math.pow(Re5,.8)-A)*math.pow(Pr,.3334);    #Nusselt Number \n",
      "h5 = Nu5*k/L5;              # Average Convection Coefficient\n",
      "q5 = (h5*L5-h4*L4)*w*(Ts-Tsurr);\n",
      "\n",
      "#For Sixth heater from Eqn 7.38\n",
      "Re6 = 6*Re;\n",
      "L6 = 6*L;\n",
      "Nu6 = (.037*math.pow(Re6,.8)-A)*math.pow(Pr,.3334) ;   #Nusselt Number \n",
      "h6 = Nu6*k/L6 ;             # Average Convection Coefficient\n",
      "q6 = (h6*L6-h5*L5)*w*(Ts-Tsurr);\n",
      "\n",
      "print '%s %d %s %d %s %d %s' %(\"\\n\\n Power requirement are \\n qconv1 = \",q1,\"W  qconv5 =\",q5,\" W  qconv6 = \",q6,\"W\");\n",
      "print '%s %d %s %d %s %d %s' %(\"\\n Hence\",q6,\">\",q1,\" >\",q5,\"and the sixth plate has largest power requirement\");\n",
      "#END"
     ],
     "language": "python",
     "metadata": {},
     "outputs": [
      {
       "output_type": "stream",
       "stream": "stdout",
       "text": [
        "\n",
        " Reynolds Number based on length L = .05m is  113593\n",
        "\n",
        " And the transition occur at xc = 0.22  m ie fifth plate\n",
        "66.8395462952\n",
        "\n",
        "\n",
        " Power requirement are \n",
        " qconv1 =  1370 W  qconv5 = 1017  W  qconv6 =  1427 W\n",
        "\n",
        " Hence 1427 > 1370  > 1017 and the sixth plate has largest power requirement\n"
       ]
      }
     ],
     "prompt_number": 2
    },
    {
     "cell_type": "heading",
     "level": 2,
     "metadata": {},
     "source": [
      "Example 7.3 Page 420"
     ]
    },
    {
     "cell_type": "code",
     "collapsed": false,
     "input": [
      "\n",
      "import math\n",
      "#Operating Conditions\n",
      "v = 2;            \t\t\t#[m/s] Air velocity\n",
      "Tsurr = 25+273.;    \t\t#[K] Surrounding Air Temperature\n",
      "H = .5;            \t\t\t# Humidity\n",
      "w = 6;            \t\t\t#[m] Width of pool\n",
      "L1 = 12;          \t\t\t#[m] Length of pool\n",
      "e = 1.5;         \t\t\t#[m] Deck Wide\n",
      "Ts = 25+273.;      \t\t\t#[K] Surface Temp of water\n",
      "#calculations\n",
      "#Table A.4 Air Properties at T = 298K \n",
      "uv = 15.7*math.pow(10,-6);  #[m^2/s] Kinematic Viscosity\n",
      "#Table A.8 Water vapor-Air Properties at T = 298K \n",
      "Dab = .26*math.pow(10,-4); \t#[m^2/s] Diffusion Coefficient\n",
      "Sc = uv/Dab;\n",
      "#Table A.6 Air Properties at T = 298K \n",
      "rho = .0226;               \t#[kg/m^3]\n",
      "\n",
      "L = L1+e;\n",
      "Re = v*L/uv;        \t\t#Reynolds number\n",
      "\n",
      "#Equation 7.41 yields\n",
      "ShLe = .037*math.pow(Re,.8)*math.pow(Sc,.3334);\n",
      "#Equation 7.44\n",
      "p = 8.;        #Turbulent Flow\n",
      "ShL = (L/(L-e))*ShLe*math.pow((1-math.pow((e/L),((p+1)/(p+2)))),(p/(p+1)));\n",
      "\n",
      "hmL = ShL*(Dab/L);\n",
      "n = hmL*(L1*w)*rho*(1-H);\n",
      "#results\n",
      "print '%s %.2e %s' %(\"\\n Reynolds Number is \",Re,\". Hence for turbulent Flow p = 8 in Equation 7.44.\")\n",
      "print '%s %d %s' %(\"\\n Daily Water Loss due to evaporation is\",n*86400. ,\"kg/day\");\n",
      "\n",
      "#END"
     ],
     "language": "python",
     "metadata": {},
     "outputs": [
      {
       "output_type": "stream",
       "stream": "stdout",
       "text": [
        "\n",
        " Reynolds Number is  1.72e+06 . Hence for turbulent Flow p = 8 in Equation 7.44.\n",
        "\n",
        " Daily Water Loss due to evaporation is 406 kg/day\n"
       ]
      }
     ],
     "prompt_number": 3
    },
    {
     "cell_type": "heading",
     "level": 2,
     "metadata": {},
     "source": [
      "Example 7.4 Page 428"
     ]
    },
    {
     "cell_type": "code",
     "collapsed": false,
     "input": [
      "\n",
      "import math\n",
      "#Operating Conditions\n",
      "v = 10;            \t\t\t#[m/s] Air velocity\n",
      "Tsurr = 26.2+273.;    \t\t#[K] Surrounding Air Temperature\n",
      "P = 46.;           \t\t\t# [W] Power dissipation\n",
      "L = .094;          \t\t\t#[m] Length of cylinder\n",
      "D = .0127;         \t\t\t#[m] Diameter of cylinder\n",
      "Ts = 128.4+273.;       \t\t#[K] Surface Temp of water\n",
      "q = 46.15*46;        \t\t#[W] Actual power dissipation without the 15% loss\n",
      "\n",
      "#Table A.4 Air Properties at T = 300K \n",
      "uv = 15.89*math.pow(10,-6); #[m^2/s] Kinematic Viscosity\n",
      "k = 26.3*math.pow(10,-3);   #[W/m.K] Thermal conductivity\n",
      "Pr = .707;                \t#Prandtl Number\n",
      "#Table A.4 Air Properties at T = 401K \n",
      "Prs = .690;                \t#Prandtl Number\n",
      "#calculations\n",
      "A = math.pi*D*L;\n",
      "h = q/(A*(Ts-Tsurr));\n",
      "\n",
      "Re = v*D/uv;        \t\t#Reynolds number\n",
      "#Using Zukauskas Relation, Equation 7.53\n",
      "C = .26;\n",
      "m = .6;\n",
      "n = .37;\n",
      "Nu = C*math.pow(Re,m)*math.pow(Pr,n)*math.pow((Pr/Prs),.25);\n",
      "havg = Nu*k/D;\n",
      "#results\n",
      "print '%s %d %s' %(\"\\n Convection Coefficient associated with operating conditions\",h,\"W/m^2.K.\") \n",
      "print '%s %d %s' %(\"\\n Reynolds Number is \",Re,\". Hence taking suitable corresponding data from Table 7.4.\")\n",
      "print '%s %d %s' %(\"\\n Convection Coefficient from an appropriate Zukauskas correlation\",havg,\" W/m^2.K\");\n",
      "\n",
      "#END"
     ],
     "language": "python",
     "metadata": {},
     "outputs": [
      {
       "output_type": "stream",
       "stream": "stdout",
       "text": [
        "\n",
        " Convection Coefficient associated with operating conditions 5538 W/m^2.K.\n",
        "\n",
        " Reynolds Number is  7992 . Hence taking suitable corresponding data from Table 7.4.\n",
        "\n",
        " Convection Coefficient from an appropriate Zukauskas correlation 104  W/m^2.K\n"
       ]
      }
     ],
     "prompt_number": 4
    },
    {
     "cell_type": "heading",
     "level": 2,
     "metadata": {},
     "source": [
      "Example 7.5 page 431"
     ]
    },
    {
     "cell_type": "code",
     "collapsed": false,
     "input": [
      "\n",
      "import math\n",
      "#Operating Conditions\n",
      "v = 23;            \t\t\t\t#[m/s] Air velocity\n",
      "Tsurr = 296.;    \t\t\t\t#[K] Surrounding Air Temperature\n",
      "L = .8;          \t\t\t\t#[m] Length of cylinder\n",
      "Di = .1;         \t\t\t\t#[m] Diameter of cylinder\n",
      "t = .005;      \t\t\t\t\t#[m] Thickness of cylinder\n",
      "\n",
      "#Table A.4 Air Properties at T = 285K \n",
      "uv = 14.56*math.pow(10,-6);     #[m^2/s] Kinematic Viscosity\n",
      "k = 25.2*math.pow(10,-3);       #[W/m.K] Thermal conductivity\n",
      "Pr = .712;                \t\t#Prandtl Number\n",
      "#Table A.1 AISI 316 Stainless steel Properties at T = 300K \n",
      "kss = 13.4;                \t\t#[W/m.K]Conductivity\n",
      "\n",
      "pH2 = 1.01;        \t\t\t\t#[N]\n",
      "Ti = -3550/(2.30*math.log10(pH2) - 12.9);\n",
      "Eg = -(1.35*math.pow(10,-4))*(29.5*math.pow(10,6));\n",
      "#calculations\n",
      "Re = v*(Di+2*t)/uv;        \t\t#Reynolds number\n",
      "# Equation 7.54\n",
      "Nu = .3+.62*math.pow(Re,.5)*math.pow(Pr,.3334) /math.pow((1+math.pow((.4/Pr),.6668)),.25) *math.pow(1+math.pow((Re/282000.),(5./8.)),.8);\n",
      "h = Nu*k/(Di+2*t);\n",
      "\n",
      "qconv = (Tsurr-Ti)/((1/(math.pi*L*(Di+2*t)*h))+(2.30*math.log10((Di+2*t)/Di)/(2*math.pi*kss*L)));\n",
      "\n",
      "#results\n",
      "print '%s %d %s' %(\"\\n Additional Thermal Energy must be supplied to canister to mainatin steady-state operating temperatue\",-qconv-Eg,\"W\");\n",
      "\n",
      "#END"
     ],
     "language": "python",
     "metadata": {},
     "outputs": [
      {
       "output_type": "stream",
       "stream": "stdout",
       "text": [
        "\n",
        " Additional Thermal Energy must be supplied to canister to mainatin steady-state operating temperatue 3581 W\n"
       ]
      }
     ],
     "prompt_number": 5
    },
    {
     "cell_type": "heading",
     "level": 2,
     "metadata": {},
     "source": [
      "Example 7.6 page 434"
     ]
    },
    {
     "cell_type": "code",
     "collapsed": false,
     "input": [
      "\n",
      "import math\n",
      "#Operating Conditions\n",
      "v = 10;            \t\t\t#[m/s] Air velocity\n",
      "Tsurr = 23+273.;    \t\t#[K] Surrounding Air Temperature\n",
      "D = .01;         \t\t\t#[m] Diameter of sphere\n",
      "Ti = 75+273.;        \t\t#[K] Initial temp\n",
      "Tt = 35+273.;        \t\t#[K] Temperature after time t\n",
      "p = 1;               \t\t#[atm]\n",
      "\n",
      "#Table A.1 Copper at T = 328K \n",
      "rho = 8933;        \t\t\t#[kg/m^3] Density\n",
      "k = 399;           \t\t\t#[W/m.K] Conductivity\n",
      "cp = 388;          \t\t\t#[J/kg.K] specific \n",
      "#Table A.4 Air Properties T = 296 K\n",
      "u = 182.6*math.pow(10,-7);  #[N.s/m^2] Viscosity\n",
      "uv = 15.53*math.pow(10,-6); #[m^2/s] Kinematic Viscosity\n",
      "k = 25.1*math.pow(10,-3);   #[W/m.K] Thermal conductivity\n",
      "Pr = .708;                \t#Prandtl Number\n",
      "#Table A.4 Air Properties T = 328 K\n",
      "u2 = 197.8*math.pow(10,-7); #[N.s/m^2] Viscosity\n",
      "#calculations\n",
      "Re = v*D/uv;        \t\t#Reynolds number\n",
      "#Using Equation 7.56\n",
      "Nu = 2+(0.4*math.pow(Re,.5) + 0.06*math.pow(Re,.668))*math.pow(Pr,.4)*math.pow((u/u2),.25);\n",
      "h = Nu*k/D;\n",
      "#From equation 5.4 and 5.5\n",
      "t = rho*cp*D*2.30*math.log10((Ti-Tsurr)/(Tt-Tsurr))/(6*h);\n",
      "#results\n",
      "print '%s %.1f %s' %(\"\\nTime required for cooling is\",t,\"sec\");\n",
      "\n",
      "#END"
     ],
     "language": "python",
     "metadata": {},
     "outputs": [
      {
       "output_type": "stream",
       "stream": "stdout",
       "text": [
        "\n",
        "Time required for cooling is 71.2 sec\n"
       ]
      }
     ],
     "prompt_number": 6
    },
    {
     "cell_type": "heading",
     "level": 2,
     "metadata": {},
     "source": [
      "Example 7.7 Page 443"
     ]
    },
    {
     "cell_type": "code",
     "collapsed": false,
     "input": [
      "\n",
      "import math\n",
      "#Operating Conditions\n",
      "v = 6;            \t\t\t#[m/s] Air velocity\n",
      "Tsurr = 15+273.;   \t \t\t#[K] Surrounding Air Temperature\n",
      "D = .0164;         \t\t\t#[m] Diameter of tube\n",
      "Ts = 70+273.;        \t\t#[K] Temp of tube\n",
      "#Staggered arrangement dimensions\n",
      "St = .0313;        \t\t\t#[m]\n",
      "Sl = .0343;        \t\t\t#[m]\n",
      "\n",
      "#Table A.4 Air Properties T = 288 K\n",
      "rho = 1.217;        \t\t#[kg/m^3] Density\n",
      "cp = 1007;          \t\t#[J/kg.K] specific heat\n",
      "uv = 14.82*math.pow(10,-6); #[m^2/s] Kinematic Viscosity\n",
      "k = 25.3*math.pow(10,-3);   #[W/m.K] Thermal conductivity\n",
      "Pr = .71;                \t#Prandtl Number\n",
      "#Table A.4 Air Properties T = 343 K\n",
      "Pr2 = .701;                \t#Prandtl Number\n",
      "#Table A.4 Air Properties T = 316 K\n",
      "uv3 = 17.4*math.pow(10,-6); #[m^2/s] Kinematic Viscosity\n",
      "k3 = 27.4*math.pow(10,-3);  #[W/m.K] Thermal conductivity\n",
      "Pr3 = .705;                \t#Prandtl Number\n",
      "#calculations\n",
      "Sd = math.pow((Sl*Sl + (St/2)*(St/2)),.5);\n",
      "Vmax = St*v/(St-D);\n",
      "\n",
      "Re = Vmax*D/uv;        \t\t#Reynolds number\n",
      "\n",
      "C = .35*math.pow((St/Sl),.2);\n",
      "m = .6;\n",
      "C2 = .95;\n",
      "N = 56;\n",
      "Nt = 8;\n",
      "#Using Equation 7.64 & 7.65\n",
      "Nu = C2*C*math.pow(Re,m)* math.pow(Pr,.36) *math.pow((Pr/Pr2),.25);\n",
      "h = Nu*k/D;\n",
      "\n",
      "#From Eqnn 7.67\n",
      "Tso = (Ts-Tsurr)*math.exp(-(math.pi*D*N*h)/(rho*v*Nt*St*cp));\n",
      "Tlm = ((Ts-Tsurr) - Tso)/(2.30*math.log10((Ts-Tsurr)/Tso));\n",
      "q = N*(h*math.pi*D*Tlm);\n",
      "\n",
      "Pt = St/D;\n",
      "#From Fig 7.14\n",
      "X = 1.04;\n",
      "f = .35;\n",
      "NL = 7;\n",
      "press = NL*X*(rho*Vmax*Vmax/2.)*f;\n",
      "#results\n",
      "print '%s %.1f %s' %(\"\\n Air side Convection coefficient h = \",h,\"W/m^2.k\"); \n",
      "print '%s %.1f %s' %(\"\\n and Heat rate q = \",q/1000. ,\" kW/m\"); \n",
      "print '%s %.2e %s' %(\"\t\\n Pressure Drop =\",press/100000. ,\" bars\");\n",
      "\n",
      "#END"
     ],
     "language": "python",
     "metadata": {},
     "outputs": [
      {
       "output_type": "stream",
       "stream": "stdout",
       "text": [
        "\n",
        " Air side Convection coefficient h =  137.0 W/m^2.k\n",
        "\n",
        " and Heat rate q =  19.6  kW/m\n",
        "\t\n",
        " Pressure Drop = 2.46e-03  bars\n"
       ]
      }
     ],
     "prompt_number": 7
    }
   ],
   "metadata": {}
  }
 ]
}