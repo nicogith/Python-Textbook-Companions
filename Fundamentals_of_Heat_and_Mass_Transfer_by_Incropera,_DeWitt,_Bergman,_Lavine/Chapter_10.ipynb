{
 "metadata": {
  "name": "",
  "signature": "sha256:1967d26762283e30e4854c10c803a16851680afbc2e91b1d3cee7d16421cae2c"
 },
 "nbformat": 3,
 "nbformat_minor": 0,
 "worksheets": [
  {
   "cells": [
    {
     "cell_type": "heading",
     "level": 1,
     "metadata": {},
     "source": [
      "Boiling and Condensation"
     ]
    },
    {
     "cell_type": "heading",
     "level": 2,
     "metadata": {},
     "source": [
      "Example 10.1 Page 632"
     ]
    },
    {
     "cell_type": "code",
     "collapsed": false,
     "input": [
      "\n",
      "import math\n",
      "#Operating Conditions\n",
      "Ts = 118+273.    \t\t\t\t;#[K] Surface Temperature\n",
      "Tsat = 100+273.    \t\t\t\t;#[K] Saturated Temperature\n",
      "D = .3            \t\t\t\t;#[m] Diameter of pan\n",
      "g = 9.81          \t\t\t\t;#[m^2/s] gravitaional constant\n",
      "#Table A.6 Saturated water Liquid Properties T = 373 K\n",
      "rhol = 957.9            \t\t;#[kg/m^3] Density\n",
      "cp = 4.217*math.pow(10,3)       ;#[J/kg] Specific Heat\n",
      "u = 279*math.pow(10,-6)         ;#[N.s/m^2] Viscosity\n",
      "Pr = 1.76                \t\t;# Prandtl Number\n",
      "hfg = 2257*math.pow(10,3)       ;#[J/kg] Specific Heat\n",
      "si = 58.9*math.pow(10,-3)      \t;#[N/m]\n",
      "#Table A.6 Saturated water Vapor Properties T = 373 K\n",
      "rhov = .5956            \t\t;#[kg/m^3] Density\n",
      "\n",
      "Te = Ts-Tsat;\n",
      "#calculations\n",
      "\n",
      "#From Table 10.1\n",
      "C = .0128;\n",
      "n = 1.;\n",
      "q = u*hfg*math.pow(g*(rhol-rhov)/si,.5)*math.pow((cp*Te/(C*hfg*math.pow(Pr,n))),3);\n",
      "qs = q*math.pi*D*D/4.; \t\t\t#Boiling heat transfer rate\n",
      " \n",
      "m = qs/hfg; \t\t\t\t\t#Rate of evaporation\n",
      "\n",
      "qmax = .149*hfg*rhov*math.pow(si*g*(rhol-rhov)/(rhov*rhov),.25); \t#Critical heat flux\n",
      "#results\n",
      "\n",
      "print '%s %.2f %s' %(\"\\n Boiling Heat transfer rate = \",qs/1000. ,\"kW\")\n",
      "print '%s %d %s' %(\"\\n Rate of water evaporation due to boiling =\",m*3600 ,\"kg/h\")\n",
      "print '%s %.2f %s' %(\"\\n Critical Heat flux corresponding to the burnout point =\",qmax/math.pow(10,6) ,\"MW/m^2\");\n",
      "#END"
     ],
     "language": "python",
     "metadata": {},
     "outputs": [
      {
       "output_type": "stream",
       "stream": "stdout",
       "text": [
        "\n",
        " Boiling Heat transfer rate =  59.13 kW\n",
        "\n",
        " Rate of water evaporation due to boiling = 94 kg/h\n",
        "\n",
        " Critical Heat flux corresponding to the burnout point = 1.26 MW/m^2\n"
       ]
      }
     ],
     "prompt_number": 1
    },
    {
     "cell_type": "heading",
     "level": 2,
     "metadata": {},
     "source": [
      "Example 10.2 Page 635"
     ]
    },
    {
     "cell_type": "code",
     "collapsed": false,
     "input": [
      "\n",
      "import math\n",
      "#Operating Conditions\n",
      "Ts = 255+273.    \t\t\t\t\t;#[K] Surface Temperature\n",
      "Tsat = 100+273.    \t\t\t\t\t;#[K] Saturated Temperature\n",
      "D = 6*math.pow(10,-3)            \t;#[m] Diameter of pan\n",
      "e = 1            \t\t\t\t\t;# emissivity\n",
      "stfncnstt=5.67*math.pow(10,(-8))    ;# [W/m^2.K^4] - Stefan Boltzmann Constant \n",
      "g = 9.81          \t\t\t\t\t;#[m^2/s] gravitaional constant\n",
      "#Table A.6 Saturated water Liquid Properties T = 373 K\n",
      "rhol = 957.9            \t\t\t;#[kg/m^3] Density\n",
      "hfg = 2257*math.pow(10,3)        \t;#[J/kg] Specific Heat\n",
      "#Table A.4 Water Vapor Properties T = 450 K\n",
      "rhov = .4902            \t\t\t;#[kg/m^3] Density\n",
      "cpv = 1.98*math.pow(10,3)           ;#[J/kg.K] Specific Heat\n",
      "kv = 0.0299                \t\t\t;#[W/m.K] Conductivity\n",
      "uv = 15.25*math.pow(10,-6)          ;#[N.s/m^2] Viscosity\n",
      "#calculations\n",
      "\n",
      "Te = Ts-Tsat;\n",
      "\n",
      "hconv = .62*math.pow((kv*kv*kv*rhov*(rhol-rhov)*g*(hfg+.8*cpv*Te)/(uv*D*Te)),.25);\n",
      "hrad = e*stfncnstt*(math.pow(Ts,4)-math.pow(Tsat,4))/(Ts-Tsat);\n",
      "\n",
      "#From eqn 10.9 h^(4/3) = hconv^(4/3) + hrad*h^(1/3)\n",
      "#Newton Raphson\n",
      "h=250.;        \t\t\t\t\t\t#Initial Assumption\n",
      "while 1>0 :\n",
      "\tf = math.pow(h,(4./3.)) - (math.pow(hconv,(4./3.)) + math.pow(hrad*h,(1./3.)));\n",
      "\tfd = (4./3.)*math.pow(h,(1./3.)) - (1./3.)*hrad*math.pow(h,(-2./3.));\n",
      "\thn=h-f/fd;\n",
      "\tz=math.pow(hn,(4./3.)) - (math.pow(hconv,(4./3.)) + math.pow(hrad*hn,(1./3.)))\n",
      "\tif z < .01:\n",
      "\t\tbreak;\n",
      "\th=hn;\n",
      "\n",
      "q = h*math.pi*D*Te; \t\t\t\t#power dissipation\n",
      "#results\n",
      "\n",
      "print '%s %d %s' %(\"\\n Power Dissipation per unith length for the cylinder, qs= \",q,\"W/m\");\n",
      "print '%s' %(\"The answer is a bit different due to rounding off error\")\n",
      "#END"
     ],
     "language": "python",
     "metadata": {},
     "outputs": [
      {
       "output_type": "stream",
       "stream": "stdout",
       "text": [
        "\n",
        " Power Dissipation per unith length for the cylinder, qs=  730 W/m\n",
        "The answer is a bit different due to rounding off error\n"
       ]
      }
     ],
     "prompt_number": 2
    },
    {
     "cell_type": "heading",
     "level": 2,
     "metadata": {},
     "source": [
      "Example 10.3 Page 648"
     ]
    },
    {
     "cell_type": "code",
     "collapsed": false,
     "input": [
      "\n",
      "import math\n",
      "#Operating Conditions\n",
      "Ts = 50+273.    \t\t\t;#[K] Surface Temperature\n",
      "Tsat = 100+273.    \t\t\t;#[K] Saturated Temperature\n",
      "D = .08            \t\t\t;#[m] Diameter of pan\n",
      "g = 9.81          \t\t\t;#[m^2/s] gravitaional constant\n",
      "L = 1                \t\t#[m] Length\n",
      "#Table A.6 Saturated Vapor Properties p = 1.0133 bars\n",
      "rhov = .596            \t\t;#[kg/m^3] Density\n",
      "hfg = 2257*1000.        \t;#[J/kg] Specific Heat\n",
      "#Table A.6 Saturated water Liquid Properties T = 348 K\n",
      "rhol = 975.            \t\t;#[kg/m^3] Density\n",
      "cpl = 4193.             \t; #[J/kg.K] Specific Heat\n",
      "kl = 0.668               \t;#[W/m.K] Conductivity\n",
      "ul = 375*math.pow(10,-6)    ;#[N.s/m^2] Viscosity\n",
      "#calculations\n",
      "\n",
      "\n",
      "uvl = ul/rhol           \t;#[N.s.m/Kg] Kinematic viscosity\n",
      "Ja = cpl*(Tsat-Ts)/hfg;\n",
      "hfg2 = hfg*(1+.68*Ja);\n",
      "\n",
      "#Equation 10.43\n",
      "Re = math.pow((3.70*kl*L*(Tsat-Ts)/(ul*hfg2*math.pow((uvl*uvl/g),.33334))+4.8),.82); #Reynolds number\n",
      "\n",
      "#From equation 10.41\n",
      "hL = Re*ul*hfg2/(4*L*(Tsat-Ts)); \t\t#Transfer coefficient\n",
      "q = hL*(math.pi*D*L)*(Tsat-Ts); \t\t#Heat transfer rate\n",
      "\n",
      "m = q/hfg;\t\t\t\t\t\t\t\t#Rate of condensation\n",
      "#Using Equation 10.26\n",
      "delta = math.pow((4*kl*ul*(Tsat-Ts)*L/(g*rhol*(rhol-rhov)*hfg2)),.25);\n",
      "#results\n",
      "\n",
      "print '%s %.2f %s %.4f %s' %(\"\\n Heat Transfer Rate = \",q/1000.,\"kW and Condensation Rates=\",m,\" kg/s\"); \n",
      "print '%s %.3f %s %.2f %s' %(\"\\n And as del(L)\", delta*1000,\"<< (D/2)\", D/2. ,\"m use of vertical cylinder correlation is justified\");\n",
      "#END"
     ],
     "language": "python",
     "metadata": {},
     "outputs": [
      {
       "output_type": "stream",
       "stream": "stdout",
       "text": [
        "\n",
        " Heat Transfer Rate =  66.62 kW and Condensation Rates= 0.0295  kg/s\n",
        "\n",
        " And as del(L) 0.218 << (D/2) 0.04 m use of vertical cylinder correlation is justified\n"
       ]
      }
     ],
     "prompt_number": 3
    },
    {
     "cell_type": "heading",
     "level": 2,
     "metadata": {},
     "source": [
      "Example 10.4 Page 652"
     ]
    },
    {
     "cell_type": "code",
     "collapsed": false,
     "input": [
      "\n",
      "import math\n",
      "#Operating Conditions\n",
      "Ts = 25+273.    \t\t\t\t\t;#[K] Surface Temperature\n",
      "Tsat = 54+273.    \t\t\t\t\t;#[K] Saturated Temperature\n",
      "D = .006          \t\t\t\t\t;  #[m] Diameter of pan\n",
      "g = 9.81          \t\t\t\t\t;#[m^2/s] gravitaional constant\n",
      "N = 20                \t\t\t\t# No of tubes\n",
      "\n",
      "#Table A.6 Saturated Vapor Properties p = 1.015 bar\n",
      "rhov = .098            \t\t\t\t;#[kg/m^3] Density\n",
      "hfg = 2373*1000.        \t\t\t;#[J/kg] Specific Heat\n",
      "#Table A.6 Saturated water Liquid Properties Tf = 312.5 K\n",
      "rhol = 992.            \t\t\t\t;#[kg/m^3] Density\n",
      "cpl = 4178.              \t\t\t;#[J/kg.K] Specific Heat\n",
      "kl = 0.631              \t\t\t; #[W/m.K] Conductivity\n",
      "ul = 663*math.pow(10,-6)           \t; #[N.s/m^2] Viscosity\n",
      "#calculations\n",
      "\n",
      "Ja = cpl*(Tsat-Ts)/hfg;\t\t\t\t\n",
      "hfg2 = hfg*(1+.68*Ja); \t\t\t\t#Coefficient of condensation\n",
      "#Equation 10.46\n",
      "h = .729*math.pow((g*rhol*(rhol-rhov)*kl*kl*kl*hfg2/(N*ul*(Tsat-Ts)*D)),.25);\n",
      "#Equation 10.34\n",
      "m1 = h*(math.pi*D)*(Tsat-Ts)/hfg2;\t#Average condensation rate\n",
      "\n",
      "m = N*N*m1;\t\t\t\t\t\t\t#Rate per unit length\n",
      "#results\n",
      "\n",
      "print '%s %.3f %s' %(\"\\n For the complete array of tubes, the condensation per unit length is\",m ,\" kg/s.m\");\n",
      "#END"
     ],
     "language": "python",
     "metadata": {},
     "outputs": [
      {
       "output_type": "stream",
       "stream": "stdout",
       "text": [
        "EXAMPLE 10.4   Page 652 \n",
        "\n",
        "\n",
        " For the complete array of tubes, the condensation per unit length is 0.463  kg/s.m\n"
       ]
      }
     ],
     "prompt_number": 4
    }
   ],
   "metadata": {}
  }
 ]
}