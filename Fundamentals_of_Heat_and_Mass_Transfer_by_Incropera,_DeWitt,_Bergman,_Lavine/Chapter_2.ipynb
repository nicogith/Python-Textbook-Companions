{
 "metadata": {
  "name": "",
  "signature": "sha256:4b81d2c2d1afd02d772e0a94bc27f4f0abc2b4c7049b86921017b2dd7bb1c1b3"
 },
 "nbformat": 3,
 "nbformat_minor": 0,
 "worksheets": [
  {
   "cells": [
    {
     "cell_type": "heading",
     "level": 1,
     "metadata": {},
     "source": [
      "Introduction to conduction"
     ]
    },
    {
     "cell_type": "heading",
     "level": 2,
     "metadata": {},
     "source": [
      "Example 2.1 Page 68"
     ]
    },
    {
     "cell_type": "code",
     "collapsed": false,
     "input": [
      "\n",
      "\n",
      "def alpha(p, Cp, k):\n",
      "    a=k/(p*Cp); #[m^2/s]\n",
      "    return a;\n",
      "\n",
      "p = 2702.;  \t\t#[Kg/m^3] - Density Of Material \n",
      "Cp = 903.; \t\t\t#[J/kg.K] - Specific heat of Material\n",
      "k = 237.;    \t\t#[W/m.k] - Thermal Conductivity of Material\n",
      "\n",
      "print '%s %.2e %s' %(\"\\n (a) Thermal Diffuisivity of Pure Aluminium at 300K = \",alpha(p, Cp, k),\" m^2/s\\n\");\n",
      "\n",
      "#(b) Pure Aluminium at 700K\n",
      "# From Appendix A, Table A.1\n",
      "\n",
      "p = 2702.;  \t\t#[Kg/m^3] - Density Of Material \n",
      "Cp = 1090.; \t\t#[J/kg.K] - Specific heat of Material\n",
      "k = 225.;    \t\t#[W/m.k] - Thermal Conductivity of Material\n",
      "\n",
      "print '%s %.2e %s' %(\"\\n (b) Thermal Diffuisivity of Pure Aluminium at 700K =\",alpha(p, Cp, k),\" m^2/s\\n\");\n",
      "\n",
      "#(c) Silicon Carbide at 1000K\n",
      "# From Appendix A, Table A.2\n",
      "\n",
      "p = 3160.;  \t\t#[Kg/m^3] - Density Of Material \n",
      "Cp = 1195.; \t\t#[J/kg.K] - Specific heat of Material\n",
      "k = 87.;    \t\t#[W/m.k] - Thermal Conductivity of Material\n",
      "\n",
      "print '%s %.2e %s' %(\"\\n (c) Thermal Diffuisivity of Silicon Carbide at 1000K =\",alpha(p, Cp, k),\" m^2/s\\n\");\n",
      "\n",
      "#(d) Paraffin at 300K\n",
      "# From Appendix A, Table A.3\n",
      "\n",
      "p = 900.;  \t\t\t#[Kg/m^3] - Density Of Material \n",
      "Cp = 2890.; \t\t#[J/kg.K] - Specific heat of Material\n",
      "k = .24;    \t\t#[W/m.k] - Thermal Conductivity of Material\n",
      "\n",
      "print '%s %.2e %s' %(\"\\n (d) Thermal Diffuisivity of Paraffin at 300K = \",alpha(p, Cp, k),\"m^2/s\");\n",
      "#END\n"
     ],
     "language": "python",
     "metadata": {},
     "outputs": [
      {
       "output_type": "stream",
       "stream": "stdout",
       "text": [
        "\n",
        " (a) Thermal Diffuisivity of Pure Aluminium at 300K =  9.71e-05  m^2/s\n",
        "\n",
        "\n",
        " (b) Thermal Diffuisivity of Pure Aluminium at 700K = 7.64e-05  m^2/s\n",
        "\n",
        "\n",
        " (c) Thermal Diffuisivity of Silicon Carbide at 1000K = 2.30e-05  m^2/s\n",
        "\n",
        "\n",
        " (d) Thermal Diffuisivity of Paraffin at 300K =  9.23e-08 m^2/s\n"
       ]
      }
     ],
     "prompt_number": 1
    },
    {
     "cell_type": "heading",
     "level": 2,
     "metadata": {},
     "source": [
      "Example 2.2 Page 75"
     ]
    },
    {
     "cell_type": "code",
     "collapsed": false,
     "input": [
      "\n",
      "\n",
      "a = 900.;    \t\t\t#[degC]\n",
      "b = -300.;   \t\t\t#[degC/m]\n",
      "c = -50.;    \t\t\t#[degC/m^2]\n",
      "\n",
      "q = 1000.;    \t\t\t#[W/m^2.K] - Uniform heat Generation\n",
      "A = 10. ;      \t\t\t#[m^2]    - Wall Area\n",
      "#Properties of Wall\n",
      "p = 1600.;    \t\t\t#[kg/m^3]  - Density\n",
      "k = 40.;      \t\t\t#[W/m]    - Thermal Conductivity\n",
      "Cp = 4000.;   \t\t\t#[J/kg.K]  - Specific Heat\n",
      "L = 1;      \t\t\t  #[m]    - Length of wall\n",
      "#calculations and results\n",
      "\n",
      "#(i) Rate of Heat Transfer entering the wall and leaving the wall\n",
      "# From Eqn 2.1\n",
      "# qin = -kA(dT/dx)|x=0 = -kA(b)\n",
      "\n",
      "qin= - b*k*A;\n",
      "\n",
      "# Similarly\n",
      "# qout = -kA(dT/dx)|x=L = -kA(b+2cx)|x=L\n",
      "\n",
      "qout= - k*A*(b+2*c*L);\n",
      "\n",
      "print '%s %d %s' %(\"\\n (i) Rate of Heat Transfer entering the wall =\",qin,\" W \");\n",
      "print '%s %d %s' %(\"\\n And leaving the wall =\",qout,\"W \");\n",
      "\n",
      "#(ii) Rate of change Of Energy Storage in Wall E`st\n",
      "# Applying Overall Energy Balance across the Wall\n",
      "#E`st = E`in + E`g + E`out = qin + q`AL - qout\n",
      "Est = qin + q*A*L - qout;\n",
      "\n",
      "print '%s %d %s' %(\"\\n (ii) Rate of change Of Energy Storage in Wall =\",Est,\" W\\n\");\n",
      "\n",
      "#(iii) Time rate of Temperature change at x= 0, 0.25 and .5m\n",
      "#Using Eqn 2.19\n",
      "# T`= dT/dt = (k/p*Cp)*d(dT/dx)/dx + q`/p*Cp\n",
      "#As d(dT/dx)/dx = d(b + 2cx)/dx = 2c - Independent of x\n",
      "T = (k/(p*Cp))*(2*c)+ q/(p*Cp);\n",
      "print '%s %.6f %s' %(\"\\n (iii) Time rate of Temperature change independent of x =\",T,\" degC/s\\n\");\n",
      "\n",
      "#END\n"
     ],
     "language": "python",
     "metadata": {},
     "outputs": [
      {
       "output_type": "stream",
       "stream": "stdout",
       "text": [
        "\n",
        " (i) Rate of Heat Transfer entering the wall = 120000  W \n",
        "\n",
        " And leaving the wall = 160000 W \n",
        "\n",
        " (ii) Rate of change Of Energy Storage in Wall = -30000  W\n",
        "\n",
        "\n",
        " (iii) Time rate of Temperature change independent of x = -0.000469  degC/s\n",
        "\n"
       ]
      }
     ],
     "prompt_number": 2
    }
   ],
   "metadata": {}
  }
 ]
}