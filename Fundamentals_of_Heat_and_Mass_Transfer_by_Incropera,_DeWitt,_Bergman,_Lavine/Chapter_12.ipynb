{
 "metadata": {
  "name": "",
  "signature": "sha256:3f70bd8e66ed069013ea8da0a0db103f64597532e63478b727d2e9fd79a10d32"
 },
 "nbformat": 3,
 "nbformat_minor": 0,
 "worksheets": [
  {
   "cells": [
    {
     "cell_type": "heading",
     "level": 1,
     "metadata": {},
     "source": [
      "Radiation: Processes and Properties"
     ]
    },
    {
     "cell_type": "heading",
     "level": 2,
     "metadata": {},
     "source": [
      "Example 12.1 Page 731 "
     ]
    },
    {
     "cell_type": "code",
     "collapsed": false,
     "input": [
      "\n",
      "\n",
      "import math\n",
      "\n",
      "\n",
      "A1 = .001\t\t;#[m^2] Area of emitter\n",
      "In  = 7000\t\t;#[W/m^2.Sr] Intensity of radiation in normal direction\n",
      "A2 = .001\t\t;#[m^2] Area of other intercepting plates\n",
      "A3 = A2\t\t\t;#[m^2] Area of other intercepting plates\n",
      "A4 = A2\t\t\t;#[m^2] Area of other intercepting plates\n",
      "r = .5\t\t\t;#[m] Distance of each plate from emitter\n",
      "theta1 = 60.\t;#[deg] Angle between surface 1 normal & direction of radiation to surface 2\n",
      "theta2 = 30.\t;#[deg] Angle between surface 2 normal & direction of radiation to surface 1\n",
      "theta3 = 45.\t;#[deg] Angle between surface 1 normal & direction of radiation to surface 4\n",
      "#calculations\n",
      "\n",
      "#From equation 12.2\n",
      "w31 = A3/(r*r);\n",
      "w41 = w31;\n",
      "w21 = A2*math.cos(theta2*0.0174532925)/(r*r);\n",
      "\n",
      "\n",
      "#From equation 12.6\n",
      "q12 = In*A1*math.cos(theta1*0.0174532925)*w21;\n",
      "q13 = In*A1*math.cos(0*math.pi/180.)*w31;\n",
      "q14 = In*A1*math.cos(theta3*0.0174532925)*w41;\n",
      "#results\n",
      "\n",
      "print '%s %d %s' %(\"\\n (a) As Intensity of emitted radiation is independent of direction, for each of the three directions I = \",In,\"W/m^2.sr\")\n",
      "print '%s' %(\"\\n\\n (b) By the Three Surfaces\\n         Solid angles subtended                Rate at which radiation is intercepted \\n\")\n",
      "print '%s %.2e %s' %(\"w4-1 =\",w41,\" sr\")\n",
      "print '%s %.2e %s' %(\"\\t \\t \\t \\t  \\t \\t q1-4 =\",q14,\" W\") \n",
      "print '%s %.2e %s' %(\"\\nw3-1 = \",w31,\" sr\")\n",
      "print '%s %.2e %s' %(\"\\t \\t \\t \\t \\t \\t q1-3 =\",q13,\" W\")\n",
      "print '%s %.2e %s' %(\"\\n w2-1 = \",w21,\" sr\")\n",
      "print '%s %.2e %s' %(\"\\t \\t \\t \\t \\t \\tq1-2 = \",q12,\" W \");\n",
      "#END\n"
     ],
     "language": "python",
     "metadata": {},
     "outputs": [
      {
       "output_type": "stream",
       "stream": "stdout",
       "text": [
        "\n",
        " (a) As Intensity of emitted radiation is independent of direction, for each of the three directions I =  7000 W/m^2.sr\n",
        "\n",
        "\n",
        " (b) By the Three Surfaces\n",
        "         Solid angles subtended                Rate at which radiation is intercepted \n",
        "\n",
        "w4-1 = 4.00e-03  sr\n",
        "\t \t \t \t  \t \t q1-4 = 1.98e-02  W\n",
        "\n",
        "w3-1 =  4.00e-03  sr\n",
        "\t \t \t \t \t \t q1-3 = 2.80e-02  W\n",
        "\n",
        " w2-1 =  3.46e-03  sr\n",
        "\t \t \t \t \t \tq1-2 =  1.21e-02  W \n"
       ]
      }
     ],
     "prompt_number": 1
    },
    {
     "cell_type": "heading",
     "level": 2,
     "metadata": {},
     "source": [
      "Example 12.2 Page 734"
     ]
    },
    {
     "cell_type": "code",
     "collapsed": false,
     "input": [
      "\n",
      "import math\n",
      "import matplotlib.pyplot as plt\n",
      "%matplotlib inline\n",
      "# Total Irradiation\n",
      "#calculations\n",
      "\n",
      "x=([0, 5, 20, 25]);\n",
      "y=([0, 1000, 1000, 0]);\n",
      "\n",
      "plt.plot(x,y);\n",
      "plt.xlabel(\"Spectral Distribution\")\n",
      "plt.ylabel(\"wavelength (micro-m)\")\n",
      "#By Equation 12.4\n",
      "G = 1000*(5-0)/2. +1000*(20-5)+1000*(25-20)/2.;\n",
      "#results\n",
      "\n",
      "print '%s %d %s' %(\"\\n G =\",G,\" W/m^2\");\n",
      "#END"
     ],
     "language": "python",
     "metadata": {},
     "outputs": [
      {
       "output_type": "stream",
       "stream": "stdout",
       "text": [
        "Populating the interactive namespace from numpy and matplotlib\n",
        "\n",
        " G = 20000  W/m^2"
       ]
      },
      {
       "output_type": "stream",
       "stream": "stdout",
       "text": [
        "\n"
       ]
      },
      {
       "metadata": {},
       "output_type": "display_data",
       "png": "[encoded data removed]",
       "text": [
        "<matplotlib.figure.Figure at 0x391dbd0>"
       ]
      }
     ],
     "prompt_number": 1
    },
    {
     "cell_type": "heading",
     "level": 2,
     "metadata": {},
     "source": [
      "Example 12.3 Page 741"
     ]
    },
    {
     "cell_type": "code",
     "collapsed": false,
     "input": [
      "\n",
      "\n",
      "import math\n",
      "\n",
      "\n",
      "T = 2000.\t\t\t\t\t\t\t\t;#[K] temperature of surface\n",
      "stfncnstt = 5.67*math.pow(10,-8)\t\t;#[W/m^2.K^4] Stefan-Boltzmann constant\n",
      "E = stfncnstt*T*T*T*T;        \t\t\t#[W/m^2]\n",
      "#calculations\n",
      "\n",
      "#From Table 12.1 \n",
      "constt1 = 2195.    ;   \t\t\t\t\t#[micro-m.K]\n",
      "wl1 = constt1/T;\n",
      "#From Table 12.1 \n",
      "constt2 = 9382.   ;    \t\t\t\t\t#[micro-m.K]\n",
      "wl2 = constt2/T;\n",
      "\n",
      "#From Weins Law, wlmax*T = consttmax = 2898 micro-m.K\n",
      "consttmax = 2898         \t\t\t\t;#micro-m.K\n",
      "wlmax = consttmax/T;\n",
      "#from Table 12.1 at wlmax = 1.45 micro-m.K and T = 2000 K\n",
      "I = .722*stfncnstt*T*T*T*T*T/10000.;\n",
      "Eb = math.pi*I;\n",
      "\n",
      "G = E;        #[W/m^2] Irradiation of any small object inside the enclosure is equal to emission from blackbody at enclosure temperature\n",
      "#results\n",
      "\n",
      "print '%s %.2e %s' %(\"\\n (a) Spectral Emissive Power of a small aperture on the enclosure =\",E,\" W/m^2.Sr for each of the three directions\")\n",
      "print '%s %.1f %s' %(\"\\n (b) Wavelength below which 10percent of the radiation is concentrated = \",wl1,\" micro-m \\n\")    \n",
      "print '%s %.2f %s' %(\" Wavelength above which 10percent of the radiation is concentrated = \",wl2,\" micro-m \\n\")\n",
      "print '%s %.2e %s %.2e %s' %(\"(c) Spectral emissive power and wavelength associated with maximum emission is \",Eb,\"micro-m and\",wlmax,\" W/m^2.micro-m respectively\")\n",
      "print '%s %.2e %s' %(\"\\n (d) Irradiation on a small object inside the enclosure =\",G,\"W/m^2\");\n",
      "#END"
     ],
     "language": "python",
     "metadata": {},
     "outputs": [
      {
       "output_type": "stream",
       "stream": "stdout",
       "text": [
        "\n",
        " (a) Spectral Emissive Power of a small aperture on the enclosure = 9.07e+05  W/m^2.Sr for each of the three directions\n",
        "\n",
        " (b) Wavelength below which 10percent of the radiation is concentrated =  1.1  micro-m \n",
        "\n",
        " Wavelength above which 10percent of the radiation is concentrated =  4.69  micro-m \n",
        "\n",
        "(c) Spectral emissive power and wavelength associated with maximum emission is  4.12e+05 micro-m and 1.45e+00  W/m^2.micro-m respectively\n",
        "\n",
        " (d) Irradiation on a small object inside the enclosure = 9.07e+05 W/m^2\n"
       ]
      }
     ],
     "prompt_number": 3
    },
    {
     "cell_type": "heading",
     "level": 2,
     "metadata": {},
     "source": [
      "Example 12.4 Page 743 "
     ]
    },
    {
     "cell_type": "code",
     "collapsed": false,
     "input": [
      "\n",
      "\n",
      "import math\n",
      "import scipy\n",
      "from scipy import integrate\n",
      "\n",
      "\n",
      "T = 1500.\t\t\t\t\t\t\t\t;#[K] temperature of surface\n",
      "stfncnstt = 5.67*math.pow(10,-8)\t\t;#[W/m^2.K^4] Stefan-Boltzmann constant\n",
      "#calculations\n",
      "\n",
      "#From Equation 12.26 Black Body Radiation\n",
      "Eb = stfncnstt*T*T*T*T;        \t\t\t#[W/m^2]\n",
      "\n",
      "#From Table 12.1 as wl1*T = 2*1500 (micro-m.K)\n",
      "F02 = .273;\n",
      "#From Table 12.1 as wl2*T = 4*1500 (micro-m.K)\n",
      "F04 = .738;\n",
      "def func(x):\n",
      "\tfunc = 2*math.cos(x) *math.sin(x)\n",
      "\treturn func;\n",
      "\n",
      "#From equation 12.10 and 12.11\n",
      "i1 = scipy.integrate.quad(func,0,math.pi/3.);\n",
      "delE = i1[0] *(F04-F02)*Eb;\n",
      "#results\n",
      "\n",
      "print '%s %.2e %s' %(\"\\n Rate of emission per unit area over all directions between 0 degC and 60 degC and over all wavelengths between wavelengths 2 micro-m and 4 micro-m =\",delE,\" W/m^2\");\n",
      "#END"
     ],
     "language": "python",
     "metadata": {},
     "outputs": [
      {
       "output_type": "stream",
       "stream": "stdout",
       "text": [
        "\n",
        " Rate of emission per unit area over all directions between 0 degC and 60 degC and over all wavelengths between wavelengths 2 micro-m and 4 micro-m = 1.00e+05  W/m^2\n"
       ]
      }
     ],
     "prompt_number": 4
    },
    {
     "cell_type": "heading",
     "level": 2,
     "metadata": {},
     "source": [
      "Example 12.5 Page 748"
     ]
    },
    {
     "cell_type": "code",
     "collapsed": false,
     "input": [
      "\n",
      "import math\n",
      "\n",
      "\n",
      "T = 1600.\t\t\t\t\t\t\t\t;#[K] temperature of surface\n",
      "wl1 = 2            \t\t\t\t\t\t;#[micro-m] wavelength 1\n",
      "wl2 = 5            \t\t\t\t\t\t;#[micro-m] wavelength 2\n",
      "stfncnstt = 5.67*math.pow(10,-8);\t\t#[W/m^2.K^4] Stefan-Boltzmann constant\n",
      "# From the given graph of emissivities\n",
      "e1 = .4;\n",
      "e2 = .8;\n",
      "#calculations\n",
      "\n",
      "#From Equation 12.26 Black Body Radiation\n",
      "Eb = stfncnstt*T*T*T*T; \t       \t\t#[W/m^2]\n",
      "\n",
      "#Solution (A)\n",
      "#From Table 12.1 as wl1*T = 2*1600 (micro-m.K)\n",
      "F02 = .318;\n",
      "#From Table 12.1 as wl2*T = 5*1600 (micro-m.K)\n",
      "F05 = .856;\n",
      "#From Equation 12.36\n",
      "e = e1*F02 + e2*(F05 - F02);\n",
      "\n",
      "#Solution (B)\n",
      "#From equation 12.35\n",
      "E = e*Eb;\n",
      "\n",
      "#Solution (C)\n",
      "#For maximum condition Using Weins Law\n",
      "consttmax = 2898.        \t\t\t\t;#[micro-m.K]\n",
      "wlmax = consttmax/T;\n",
      "\n",
      "#equation 12.32 with Table 12.1\n",
      "E1 = math.pi*e1*.722*stfncnstt*T*T*T*T*T/10000.;\n",
      "\n",
      "E2 = math.pi*e2*.706*stfncnstt*T*T*T*T*T/10000.;\n",
      "#results\n",
      "\n",
      "print '%s %.3f' %(\"\\n (a) Total hemispherical emissivity =\",e)\n",
      "print '%s %d %s' %(\"\\n (b) Total emissive Power =\",E/1000. ,\" kW/m^2\")\n",
      "print '%s %.1f %s %.1f %s ' %(\"\\n (c) Emissive Power at wavelength 2micro-m is greater than Emissive power at maximum wavelength \\n     i.e.\",E2/1000.,\" kW/m^2 >\",E1/1000.,\" kW/m^2\")\n",
      "print '%s %d %s' %(\"\\n     Thus, Peak emission occurs at\",wl1,\"micro-m\");\n",
      "#END"
     ],
     "language": "python",
     "metadata": {},
     "outputs": [
      {
       "output_type": "stream",
       "stream": "stdout",
       "text": [
        "\n",
        " (a) Total hemispherical emissivity = 0.558\n",
        "\n",
        " (b) Total emissive Power = 207  kW/m^2\n",
        "\n",
        " (c) Emissive Power at wavelength 2micro-m is greater than Emissive power at maximum wavelength \n",
        "     i.e. 105.5  kW/m^2 > 53.9  kW/m^2 \n",
        "\n",
        "     Thus, Peak emission occurs at 2 micro-m\n"
       ]
      }
     ],
     "prompt_number": 5
    },
    {
     "cell_type": "heading",
     "level": 2,
     "metadata": {},
     "source": [
      "Example 12.6 Page 751"
     ]
    },
    {
     "cell_type": "code",
     "collapsed": false,
     "input": [
      "\n",
      "\n",
      "import math\n",
      "import scipy\n",
      "from scipy import integrate\n",
      "\n",
      "T = 2000.\t\t\t\t\t\t\t\t;#[K] temperature of surface\n",
      "wl = 1            \t\t\t\t\t\t;#[micro-m] wavelength \n",
      "stfncnstt = 5.67*math.pow(10,-8);\t\t#[W/m^2.K^4] Stefan-Boltzmann constant\n",
      "\n",
      "# From the given graph of emissivities\n",
      "e1 = .3;\n",
      "e2 = .6;\n",
      "#calculations\n",
      "\n",
      "#From Equation 12.26 Black Body Radiation\n",
      "Eb = stfncnstt*T*T*T*T;        \t\t\t\t\t\t#[W/m^2]\n",
      "def func1(x):\n",
      "\tfunc1=e1*math.cos(x) *math.sin(x);\n",
      "\treturn func1;\n",
      "\n",
      "def func2(x):\n",
      "\tfunc2=e2*math.cos(x) *math.sin(x);\n",
      "\treturn func2;\n",
      "\n",
      "#Equation 12.34\n",
      "i1 = scipy.integrate.quad(func1,0,math.pi/3.);\n",
      "i2 = scipy.integrate.quad(func2,math.pi/3. ,4*math.pi/9.);\n",
      "e = 2*(i1[0]+i2[0]);\n",
      "\n",
      "# From Table 12.1 at wl = 1 micro-m and T = 2000 K.\n",
      "\n",
      "I = .493*math.pow(10,-4) * stfncnstt*T*T*T*T*T        ;#[W/m^2.micro-m.sr]\n",
      "\n",
      "In = e1*I;\n",
      "\n",
      "#Using Equation 12.32 for wl = 1 micro-m and T = 2000 K\n",
      "E = e*math.pi*I;\n",
      "#results\n",
      "\n",
      "print '%s %.1f' %('\\n Spectral Normal emissivity en =',e1)\n",
      "print '%s %.2f' %('and spectral hemispherical emissivity e = ',e)\n",
      "print '%s %.2e %s' %('\\n Spectral normal intensity In =',In,' W/m^2.micro-m.sr')\n",
      "print '%s %.1e %s' % ('and Spectral emissive power =',E,' W/m^2.micro-m.sr ');"
     ],
     "language": "python",
     "metadata": {},
     "outputs": [
      {
       "output_type": "stream",
       "stream": "stdout",
       "text": [
        "\n",
        " Spectral Normal emissivity en = 0.3\n",
        "and spectral hemispherical emissivity e =  0.36\n",
        "\n",
        " Spectral normal intensity In = 2.68e+04  W/m^2.micro-m.sr\n",
        "and Spectral emissive power = 1.0e+05  W/m^2.micro-m.sr \n"
       ]
      }
     ],
     "prompt_number": 6
    },
    {
     "cell_type": "heading",
     "level": 2,
     "metadata": {},
     "source": [
      "Example 12.7 Page 759"
     ]
    },
    {
     "cell_type": "code",
     "collapsed": false,
     "input": [
      "\n",
      "\n",
      "import math\n",
      "import matplotlib\n",
      "from matplotlib import pyplot\n",
      "%matplotlib inline\n",
      "\n",
      "\n",
      "T = 500.\t\t\t\t\t\t\t\t;#[K] temperature of surface\n",
      "e = .8;\n",
      "stfncnstt = 5.67*math.pow(10,-8);\t\t#[W/m^2.K^4] Stefan-Boltzmann constant\n",
      "#calculations\n",
      "\n",
      "x=([0, 6, 8, 16]);\n",
      "y=([.8, .8, 0, 0]);\n",
      "\n",
      "pyplot.xlabel(\"Spectral Distribution of reflectivity\")\n",
      "pyplot.ylabel(\"wavelength (micro-m)\");\n",
      "pyplot.plot(x,y);\n",
      "pyplot.show();\n",
      "\n",
      "\n",
      "#From equation 12.43 and 12.44\n",
      "Gabs = (.2*500/2.*(6.-2.)+500*(.2*(8.-6.)+(1.-.2)*(8.-6.)/2.)+1*500*(12.-8.)+500*(16.-12.)/2.)  ;#[w/m^2]\n",
      "G = (500*(6.-2.)/2.+500*(12.-6.)+500*(16.-12.)/2.)            \t\t\t\t\t\t\t\t\t;#[w/m^2]\n",
      "a = Gabs/G;\n",
      "\n",
      "#Neglecting convection effects net het flux to the surface\n",
      "qnet = a*G - e*stfncnstt*T*T*T*T;\n",
      "#results\n",
      "\n",
      "print '%s %.2f' %('\\n Total, hemispherical absorptivity',a)\n",
      "print '%s %.2f %s' %('\\n Nature of surface temperature change =',qnet,' W/m^2 \\n Since qnet > 0, the sirface temperature will increase with the time');"
     ],
     "language": "python",
     "metadata": {},
     "outputs": [
      {
       "output_type": "stream",
       "stream": "stdout",
       "text": [
        "Populating the interactive namespace from numpy and matplotlib\n"
       ]
      },
      {
       "metadata": {},
       "output_type": "display_data",
       "png": "[encoded data removed]",
       "text": [
        "<matplotlib.figure.Figure at 0x2fec390>"
       ]
      },
      {
       "output_type": "stream",
       "stream": "stdout",
       "text": [
        "\n",
        " Total, hemispherical absorptivity 0.76\n",
        "\n",
        " Nature of surface temperature change = 965.00  W/m^2 \n",
        " Since qnet > 0, the sirface temperature will increase with the time\n"
       ]
      }
     ],
     "prompt_number": 2
    },
    {
     "cell_type": "heading",
     "level": 2,
     "metadata": {},
     "source": [
      "Example 12.8 Page 761"
     ]
    },
    {
     "cell_type": "code",
     "collapsed": false,
     "input": [
      "\n",
      "import math\n",
      "\n",
      "T = 5800.\t\t\t\t\t\t\t\t;#[K] temperature of surface\n",
      "e = .8;\n",
      "stfncnstt = 5.67*math.pow(10,-8);\t\t#[W/m^2.K^4] Stefan-Boltzmann constant\n",
      "#calculations and results\n",
      "\n",
      "#From Table 12.1\n",
      "#For wl1 = .3 micro-m and T = 5800 K, At wl1*T = 1740 micro-m.K\n",
      "F0wl1 = .0335;\n",
      "#For wl1 = .3 micro-m and T = 5800 K, At wl2*T = 14500 micro-m.K\n",
      "F0wl2 = .9664;\n",
      "\n",
      "#Hence from equation 12.29\n",
      "t = .90*(F0wl2 - F0wl1);\n",
      "\n",
      "print '%s %.2f' %('\\n Total emissivity of cover glass to solar radiation =',t);"
     ],
     "language": "python",
     "metadata": {},
     "outputs": [
      {
       "output_type": "stream",
       "stream": "stdout",
       "text": [
        "\n",
        " Total emissivity of cover glass to solar radiation = 0.84\n"
       ]
      }
     ],
     "prompt_number": 8
    },
    {
     "cell_type": "heading",
     "level": 2,
     "metadata": {},
     "source": [
      "Example 12.9 Page 766"
     ]
    },
    {
     "cell_type": "code",
     "collapsed": false,
     "input": [
      "\n",
      "\n",
      "import math\n",
      "\n",
      "Ts = 500.\t\t\t\t\t\t\t;#[K] temperature of brick surface\n",
      "Tc = 2000.           \t\t\t\t;#[K] Temperature of coal exposed\n",
      "stfncnstt = 5.67*math.pow(10,-8)\t;#[W/m^2.K^4] Stefan-Boltzmann constant\n",
      "# From the given graph of emissivities\n",
      "e1 = .1;    \t\t\t\t\t\t#between wavelength 0 micro-m- 1.5 micro-m\n",
      "e2 = .5;    \t\t\t\t\t\t#between wavelength 1.5 micro-m- 10 micro-m\n",
      "e3 = .8;    \t\t\t\t\t\t#greater than wavelength 10 micro-m\n",
      "#calculations\n",
      "\n",
      "#From Table 12.1\n",
      "#For wl1 = 1.5 micro-m and T = 500 K, At wl1*T = 750 micro-m.K\n",
      "F0wl1 = 0;\n",
      "#For wl2 = 10 micro-m and T = 500 K, At wl2*T = 5000 micro-m.K\n",
      "F0wl2 = .634;\n",
      "#From equation 12.36\n",
      "e = e1*F0wl1 + e2*F0wl2 + e3*(1-F0wl1-F0wl2);\n",
      "\n",
      "#Equation 12.26 and 12.35\n",
      "E = e*stfncnstt*Ts*Ts*Ts*Ts;\n",
      "\n",
      "#From Table 12.1\n",
      "#For wl1 = 1.5 micro-m and T = 2000 K, At wl1*T = 3000 micro-m.K\n",
      "F0wl1c = 0.273;\n",
      "#For wl2 = 10 micro-m and T = 2000 K, At wl2*T = 20000 micro-m.K\n",
      "F0wl2c = .986;\n",
      "ac = e1*F0wl1c + e2*(F0wl2c-F0wl1c) + e3*(1-F0wl2c);\n",
      "#results\n",
      "\n",
      "print '%s %.3f' %('\\n Total hemispherical emissivity of fire brick wall =',e)\n",
      "print '%s %d %s' %('\\n Total emissive power of brick wall =',E,'W/m^2.')\n",
      "print '%s %.3f' %('\\n Absorptivity of the wall to irradiation from coals =',ac);"
     ],
     "language": "python",
     "metadata": {},
     "outputs": [
      {
       "output_type": "stream",
       "stream": "stdout",
       "text": [
        "\n",
        " Total hemispherical emissivity of fire brick wall = 0.610\n",
        "\n",
        " Total emissive power of brick wall = 2160 W/m^2.\n",
        "\n",
        " Absorptivity of the wall to irradiation from coals = 0.395\n"
       ]
      }
     ],
     "prompt_number": 9
    },
    {
     "cell_type": "heading",
     "level": 2,
     "metadata": {},
     "source": [
      "Example 12.10 Page 768"
     ]
    },
    {
     "cell_type": "code",
     "collapsed": false,
     "input": [
      "\n",
      "import math\n",
      "\n",
      "Ts = 300.;\t\t\t\t\t\t\t#[K] temperature of surface\n",
      "Tf = 1200;           \t\t\t\t#[K] Temperature of Furnace\n",
      "stfncnstt = 5.67*math.pow(10,-8);\t#[W/m^2.K^4] Stefan-Boltzmann constant\n",
      "# From the given graph of absorptivities\n",
      "a1 = .8;    \t\t\t\t\t\t#between wavelength 0 micro-m- 5 micro-m\n",
      "a2 = .1;    \t\t\t\t\t\t#greater than wavelength 5 micro-m\n",
      "#calculations\n",
      "\n",
      "#From Table 12.1\n",
      "#For wl1 = 5 micro-m and T = 1200 K, At wl1*T = 6000 micro-m.K\n",
      "F0wl1 = 0.738;\n",
      "#From equation 12.44\n",
      "a = a1*F0wl1 + a2*(1-F0wl1);\n",
      "#From Table 12.1\n",
      "#For wl1 = 5 micro-m and T = 300 K, At wl1*T = 1500 micro-m.K\n",
      "F0wl1s = 0.014;\n",
      "#From equation 12.36\n",
      "e = a1*F0wl1s + a2*(1-F0wl1s);\n",
      "#results\n",
      "\n",
      "print' %s %.2f' %('\\n For Initial Condition \\n Total hemispherical absorptivity = ',a)\n",
      "print '%s %.2f' %('Emissivity of sphere =',e)\n",
      "print '%s' %('\\n\\n Beacuase the spectral characteristics of the coating and the furnace temeprature remain fixed, there is no change in the value of absorptivity with increasing time.')\n",
      "print '%s %d %s %.2f' %('\\n Hence, After a sufficiently long time, Ts = Tf = ',Tf,' K and emissivity equals absorptivity e = a = ',a);"
     ],
     "language": "python",
     "metadata": {},
     "outputs": [
      {
       "output_type": "stream",
       "stream": "stdout",
       "text": [
        " \n",
        " For Initial Condition \n",
        " Total hemispherical absorptivity =  0.62\n",
        "Emissivity of sphere = 0.11\n",
        "\n",
        "\n",
        " Beacuase the spectral characteristics of the coating and the furnace temeprature remain fixed, there is no change in the value of absorptivity with increasing time.\n",
        "\n",
        " Hence, After a sufficiently long time, Ts = Tf =  1200  K and emissivity equals absorptivity e = a =  0.62\n"
       ]
      }
     ],
     "prompt_number": 10
    },
    {
     "cell_type": "heading",
     "level": 2,
     "metadata": {},
     "source": [
      "Example 12.11 Page 774"
     ]
    },
    {
     "cell_type": "code",
     "collapsed": false,
     "input": [
      "\n",
      "\n",
      "import math\n",
      "\n",
      "Ts = 120+273.;\t\t\t\t\t\t\t#[K] temperature of surface\n",
      "Gs = 750;                 \t\t\t\t#[W/m^2] Solar irradiation\n",
      "Tsky = -10+273.;          \t\t\t\t#[K] Temperature of Sky\n",
      "Tsurr = 30+273.;        \t  \t\t\t#[K] Temperature os surrounding Air\n",
      "e = .1             \t\t     \t\t\t;# emissivity \n",
      "ast = .95                \t\t\t\t;# Absorptivity of Surface\n",
      "asky = e                \t\t\t\t;# Absorptivity of Sky\n",
      "stfncnstt = 5.67*math.pow(10,-8);\t\t#[W/m^2.K^4] Stefan-Boltzmann constant\n",
      "#calculations\n",
      "\n",
      "h = 0.22*math.pow((Ts - Tsurr),.3334);\t#[W/m^2.K] Convective Heat transfer Coeff\n",
      "#From equation 12.67\n",
      "Gsky = stfncnstt*Tsky*Tsky*Tsky*Tsky; \t#[W/m^2]  Irradiadtion from sky\n",
      "qconv = h*(Ts-Tsurr);        \t\t\t#[W/m^2]  Convective Heat transfer\n",
      "E = e*stfncnstt*Ts*Ts*Ts*Ts;       \t\t#[W/m^2]  Irradiadtion from Surface\n",
      "\n",
      "#From energy Balance\n",
      "q = ast*Gs + asky*Gsky - qconv - E;\n",
      "\n",
      "#Collector efficiency\n",
      "eff = q/Gs;\n",
      "#results\n",
      "\n",
      "print '%s %d %s' %('\\n Useful heat removal rate per unit area by Energy Conservation = ',q,'W/m^2')\n",
      "print '%s %.2f' %('\\n Collector efficiency defined as the fraction of solar irradiation extracted as useful energy is',eff);"
     ],
     "language": "python",
     "metadata": {},
     "outputs": [
      {
       "output_type": "stream",
       "stream": "stdout",
       "text": [
        "\n",
        " Useful heat removal rate per unit area by Energy Conservation =  515 W/m^2\n",
        "\n",
        " Collector efficiency defined as the fraction of solar irradiation extracted as useful energy is 0.69\n"
       ]
      }
     ],
     "prompt_number": 11
    }
   ],
   "metadata": {}
  }
 ]
}