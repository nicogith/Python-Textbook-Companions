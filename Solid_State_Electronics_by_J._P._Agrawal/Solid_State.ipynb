{
 "metadata": {
  "name": ""
 },
 "nbformat": 3,
 "nbformat_minor": 0,
 "worksheets": [
  {
   "cells": [
    {
     "cell_type": "heading",
     "level": 1,
     "metadata": {},
     "source": [
      "Chapter 10 : The Unijunction Transistor"
     ]
    },
    {
     "cell_type": "heading",
     "level": 2,
     "metadata": {},
     "source": [
      "Example 10.1, Page No.249"
     ]
    },
    {
     "cell_type": "code",
     "collapsed": false,
     "input": [
      "# stand off and peak point voltage\n",
      "\n",
      "import math\n",
      "#Variable declaration\n",
      "Vbb=20                 # in V\n",
      "eta=0.6                # instrinsic stand off ratio \n",
      "Vb=0.7                 # in V\n",
      "\n",
      "#Calculations\n",
      "sov=eta*Vbb            # Stand off voltage\n",
      "Vp=(eta*Vbb)+Vb;\n",
      "\n",
      "print(\"(i). Stand off voltage,(V) = %.f \"%sov)\n",
      "print(\"(ii). Peak point voltage,Vp(V) = %.1f\"%Vp)"
     ],
     "language": "python",
     "metadata": {},
     "outputs": [
      {
       "output_type": "stream",
       "stream": "stdout",
       "text": [
        "(i). Stand off voltage,(V) = 12 \n",
        "(ii). Peak point voltage,Vp(V) = 12.7\n"
       ]
      }
     ],
     "prompt_number": 2
    },
    {
     "cell_type": "heading",
     "level": 2,
     "metadata": {},
     "source": [
      "Example 10.2, Page No. 249"
     ]
    },
    {
     "cell_type": "code",
     "collapsed": false,
     "input": [
      "# time period\n",
      "\n",
      "import math\n",
      "#Variable declaration\n",
      "Vbb=20.0               # in V\n",
      "C=100.0                # in micro-farad\n",
      "R=100.0                # in kilo-ohms\n",
      "Vp=10.0                # in V\n",
      "\n",
      "#Calculations\n",
      "eta=Vp/Vbb                                           # instrinsic stand off ratio \n",
      "T= ((C*10**-12*R*10**3 *math.log(1/(1-eta))))*10**7  #in micro-seconds\n",
      "\n",
      "#Result\n",
      "print(\"time period of the saw  tooth waveform generated is ,(micro-seconds)= %.2f\"%T)"
     ],
     "language": "python",
     "metadata": {},
     "outputs": [
      {
       "output_type": "stream",
       "stream": "stdout",
       "text": [
        "time period of the saw  tooth waveform generated is ,(micro-seconds)= 69.31\n"
       ]
      }
     ],
     "prompt_number": 4
    },
    {
     "cell_type": "heading",
     "level": 2,
     "metadata": {},
     "source": [
      "Example 10.3, Page No. 249"
     ]
    },
    {
     "cell_type": "code",
     "collapsed": false,
     "input": [
      "# resistance\n",
      "\n",
      "import math\n",
      "#variable declaration\n",
      "eta=0.6              # instrinsic stand off ratio \n",
      "Rbb=10               # interbase resistance in k-ohm\n",
      "\n",
      "#Calculations\n",
      "Rb1=eta*Rbb\n",
      "Rb2=Rbb-Rb1\n",
      "\n",
      "#Result\n",
      "print(\"Resistance,Rb1(k-ohm) = %.f\"%Rb1)\n",
      "print(\"Resistance,Rb1(k-ohm) = %.f\"%Rb2)"
     ],
     "language": "python",
     "metadata": {},
     "outputs": [
      {
       "output_type": "stream",
       "stream": "stdout",
       "text": [
        "Resistance,Rb1(k-ohm) = 6\n",
        "Resistance,Rb1(k-ohm) = 4\n"
       ]
      }
     ],
     "prompt_number": 7
    }
   ],
   "metadata": {}
  }
 ]
}