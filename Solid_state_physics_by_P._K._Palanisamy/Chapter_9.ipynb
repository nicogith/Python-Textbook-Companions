{
 "metadata": {
  "name": "",
  "signature": "sha256:b86f6f4d444d5177f7a40efe10b2b4ac505571f2f5cf98eeaa6619afa2ee7d22"
 },
 "nbformat": 3,
 "nbformat_minor": 0,
 "worksheets": [
  {
   "cells": [
    {
     "cell_type": "heading",
     "level": 1,
     "metadata": {},
     "source": [
      "Chapter 9: Semiconductors"
     ]
    },
    {
     "cell_type": "heading",
     "level": 2,
     "metadata": {},
     "source": [
      "Example 9.1, Page number 9.11"
     ]
    },
    {
     "cell_type": "code",
     "collapsed": false,
     "input": [
      "\n",
      "#Variable declaration\n",
      "ni = 2.37*10**19     #intrinsic carrier density(m^-3)\n",
      "ue = 0.38            #electron mobility(m^2/V-s)\n",
      "uh = 0.18            #hole mobility(m^2/V-s)\n",
      "e = 1.6*10**-19      #charge on electron(C)\n",
      "\n",
      "#Calculations\n",
      "sigma_i = ni*e*(ue+uh) #(1/ohm-m)\n",
      "p = 1/sigma_i\n",
      "\n",
      "#Result\n",
      "print \"Resistivity =\",round(p,3),\"m\""
     ],
     "language": "python",
     "metadata": {},
     "outputs": [
      {
       "output_type": "stream",
       "stream": "stdout",
       "text": [
        "Resistivity = 0.471 m\n"
       ]
      }
     ],
     "prompt_number": 1
    },
    {
     "cell_type": "heading",
     "level": 2,
     "metadata": {},
     "source": [
      "Example 9.2, Page number 9.12"
     ]
    },
    {
     "cell_type": "code",
     "collapsed": false,
     "input": [
      "\n",
      "import math\n",
      "\n",
      "#Variable declaration\n",
      "Eg = 1.12           #bandgap(eV)\n",
      "k = 1.38*10**-23    #Boltzman constant(J/K)\n",
      "T = 300             #Temperature(K)\n",
      "mh = 0.28           #Effective Mass of the hole(kg)\n",
      "me = 0.12           #Effective Mass of the hole(kg)\n",
      "e = 1.6*10**-19     #charge on electron(C)\n",
      "\n",
      "#Calculation\n",
      "Ef = (Eg/2)+3/4*k*T*(math.log(mh/me))/e\n",
      "\n",
      "#Result \n",
      "print \"The position of the Fermi level is at\",round(Ef,2),\"from the top of valence band\" "
     ],
     "language": "python",
     "metadata": {},
     "outputs": [
      {
       "output_type": "stream",
       "stream": "stdout",
       "text": [
        "The position of the Fermi level is at 0.56 from the top of valence band\n"
       ]
      }
     ],
     "prompt_number": 2
    },
    {
     "cell_type": "heading",
     "level": 2,
     "metadata": {},
     "source": [
      "Example 9.3, Page number 9.12"
     ]
    },
    {
     "cell_type": "code",
     "collapsed": false,
     "input": [
      "\n",
      "from math import pi, exp\n",
      "\n",
      "#Variable declaration\n",
      "m = 9.109*10**-31   #mass of an electron(kg)\n",
      "k = 1.38*10**-23    #Boltzman constant(J/K)\n",
      "T = 300             #Temperature(K)\n",
      "h = 6.626*10**-34   #Planck's constant\n",
      "Eg = 0.7            #bandgap(eV)\n",
      "e = 1.6*10**-19     #charge on electron(C)\n",
      "\n",
      "#Calculation\n",
      "C = (((2*pi*m*k)/h**2)**(3./2.))  \n",
      "T1 = T**(3./2.)\n",
      "E = exp((-Eg*e)/(2*k*T))\n",
      "ni = 2*C*T1*E\n",
      "\n",
      "#Result\n",
      "print \"Concentration of intrinsic charge carriers =\",round((ni/1E+18),2),\"*10**18/m^3\"\n"
     ],
     "language": "python",
     "metadata": {},
     "outputs": [
      {
       "output_type": "stream",
       "stream": "stdout",
       "text": [
        "Concentration of intrinsic charge carriers = 33.48 *10**18/m^3\n"
       ]
      }
     ],
     "prompt_number": 3
    },
    {
     "cell_type": "heading",
     "level": 2,
     "metadata": {},
     "source": [
      "Example 9.4, Page number "
     ]
    },
    {
     "cell_type": "code",
     "collapsed": false,
     "input": [
      "\n",
      "#Variable declaration\n",
      "ni = 2.4*10**19      #intrinsic carrier density(m^-3)\n",
      "ue = 0.39            #electron mobility(m^2/V-s)\n",
      "uh = 0.19            #hole mobility(m^2/V-s)\n",
      "e = 1.6*10**-19      #charge on electron(C)\n",
      "\n",
      "#Calculations\n",
      "sigma_i = ni*e*(ue+uh) #(1/ohm-m)\n",
      "p = 1/sigma_i\n",
      "\n",
      "#Result\n",
      "print \"Resistivity =\",round(p,3),\"m\""
     ],
     "language": "python",
     "metadata": {},
     "outputs": [
      {
       "output_type": "stream",
       "stream": "stdout",
       "text": [
        "Resistivity = 0.449 m\n"
       ]
      }
     ],
     "prompt_number": 4
    },
    {
     "cell_type": "heading",
     "level": 2,
     "metadata": {},
     "source": [
      "Example 9.5, Page number 9.13"
     ]
    },
    {
     "cell_type": "code",
     "collapsed": false,
     "input": [
      "\n",
      "#Variable declaration\n",
      "ni = 2.5*10**19      #intrinsic carrier density(m^-3)\n",
      "ue = 0.39            #electron mobility(m^2/V-s)\n",
      "uh = 0.19            #hole mobility(m^2/V-s)\n",
      "e = 1.6*10**-19      #charge on electron(C)\n",
      "l = 1*10**-2         #length of rod(m)\n",
      "A = 10**-3*10**-3    #area(m^2)\n",
      "\n",
      "#Calculations\n",
      "sigma = ni*e*(ue+uh) #(1/ohm-m)\n",
      "R = 1/(sigma*A)\n",
      "\n",
      "#Result\n",
      "print \"Resistivity =\",round(R,3),\"Ohms\""
     ],
     "language": "python",
     "metadata": {},
     "outputs": [
      {
       "output_type": "stream",
       "stream": "stdout",
       "text": [
        "Resistivity = 431034.483 Ohms\n"
       ]
      }
     ],
     "prompt_number": 6
    },
    {
     "cell_type": "heading",
     "level": 2,
     "metadata": {},
     "source": [
      "Example 9.6, Page number 9.14"
     ]
    },
    {
     "cell_type": "code",
     "collapsed": false,
     "input": [
      "\n",
      "from math import pi, exp\n",
      "\n",
      "#Variable declaration\n",
      "ue = 0.48            #electron mobility(m^2/V-s)\n",
      "uh = 0.013           #hole mobility(m^2/V-s)\n",
      "Eg = 1.1             #bandgap(eV)\n",
      "T = 300              #assumption - Temperature(K)\n",
      "h = 6.626*10**-34    #Planck's constant\n",
      "e = 1.6*10**-19      #charge on electron(C)\n",
      "k = 1.38*10**-23     #Boltzman constant(J/K)\n",
      "m = 9.1*10**-31      #mass of an electron(kg)\n",
      "\n",
      "#Calculation\n",
      "C = 2*(((2*pi*m*k)/h**2))**(3./2.)\n",
      "ni = C*T**(3./2.)*exp((-Eg*e)/(2*k*T))\n",
      "sigma_i =  ni*e*(ue+uh)\n",
      "\n",
      "#Result\n",
      "print \"Conductivity=\",round((sigma_i/1E-3),3),\"*10^-3/ohm-m\""
     ],
     "language": "python",
     "metadata": {},
     "outputs": [
      {
       "output_type": "stream",
       "stream": "stdout",
       "text": [
        "Conductivity= 1.159 *10^-3/ohm-m\n"
       ]
      }
     ],
     "prompt_number": 7
    },
    {
     "cell_type": "heading",
     "level": 2,
     "metadata": {},
     "source": [
      "Example 9.7, Page number 9.15"
     ]
    },
    {
     "cell_type": "code",
     "collapsed": false,
     "input": [
      "\n",
      "from math import pi, exp\n",
      "\n",
      "#Variable declaration\n",
      "ue = 0.4             #electron mobility(m^2/V-s)\n",
      "uh = 0.2             #hole mobility(m^2/V-s)\n",
      "Eg = 0.7             #bandgap(eV)\n",
      "T = 300              #assumption - Temperature(K)\n",
      "h = 6.626*10**-34    #Planck's constant\n",
      "e = 1.6*10**-19      #charge on electron(C)\n",
      "k = 1.38*10**-23     #Boltzman constant(J/K)\n",
      "m = 9.1*10**-31      #mass of an electron(kg)\n",
      "\n",
      "#Calculation\n",
      "C = 2*(((2*pi*m*k)/h**2))**(3./2.)\n",
      "ni = C*T**(3./2.)*exp((-Eg*e)/(2*k*T))\n",
      "sigma_i =  ni*e*(ue+uh)\n",
      "\n",
      "#Result\n",
      "print \"Intrinsic carrier density =\",round((ni/1E+19),2),\"*10^19 per m^3\"\n",
      "print \"Conductivity=\",round(sigma_i,2),\"/ohm-m\""
     ],
     "language": "python",
     "metadata": {},
     "outputs": [
      {
       "output_type": "stream",
       "stream": "stdout",
       "text": [
        "Intrinsic carrier density = 3.34 *10^19 per m^3\n",
        "Conductivity= 3.21 /ohm-m\n"
       ]
      }
     ],
     "prompt_number": 8
    },
    {
     "cell_type": "heading",
     "level": 2,
     "metadata": {},
     "source": [
      "Example 9.8, Page number 9.15"
     ]
    },
    {
     "cell_type": "code",
     "collapsed": false,
     "input": [
      "\n",
      "#Variable declaration\n",
      "ue = 0.36            #electron mobility(m^2/V-s)\n",
      "uh = 0.17            #hole mobility(m^2/V-s)\n",
      "P = 2.12             #resistivity(ohm-m)\n",
      "e = 1.6*10**-19      #charge on electron(C)\n",
      "k = 1.38*10**-23     #Boltzman constant(J/K)\n",
      "m = 9.1*10**-31      #mass of an electron(kg)\n",
      "h = 6.626*10**-34    #Planck's constant\n",
      "T = 300              #assumption - Temperature(K)\n",
      "\n",
      "#Calculations\n",
      "sigma = 1/P\n",
      "ni = sigma/(e*(ue+uh))\n",
      "C = 2*(((2*pi*m*k)/h**2))**(3./2.)\n",
      "Eg = ((2*k*T)/e)*math.log(C*(T**(3./2.))/ni)\n",
      "\n",
      "#Result\n",
      "print \"Forbidden energy gap =\",round(Eg,3),\"eV\""
     ],
     "language": "python",
     "metadata": {},
     "outputs": [
      {
       "output_type": "stream",
       "stream": "stdout",
       "text": [
        "Forbidden energy gap = 0.793 eV\n"
       ]
      }
     ],
     "prompt_number": 9
    },
    {
     "cell_type": "heading",
     "level": 2,
     "metadata": {},
     "source": [
      "Example 9.9, Page number 9.16"
     ]
    },
    {
     "cell_type": "code",
     "collapsed": false,
     "input": [
      "\n",
      "from math import log10\n",
      "\n",
      "#Variable declaration\n",
      "p1 = 2        #resistivity(ohm-m)\n",
      "p2 = 4.5      #resistivity(ohm-m)\n",
      "T1 = 20.+273  #Temperature(K)\n",
      "T2 = 32.+273  #temperature(K)\n",
      "k = 1.38*10**-23     #Boltzman constant(J/K)\n",
      "\n",
      "#Calculations\n",
      "dy = log10(p2)-log10(p1)\n",
      "dx = (1/T1)-(1/T2)\n",
      "dy_by_dx = dy/dx\n",
      "Eg = (2*k*dy_by_dx)/e\n",
      "\n",
      "#Result\n",
      "print \"Energy band gap =\",round(Eg,3),\"eV\""
     ],
     "language": "python",
     "metadata": {},
     "outputs": [
      {
       "output_type": "stream",
       "stream": "stdout",
       "text": [
        "Energy band gap = 0.452 eV\n"
       ]
      }
     ],
     "prompt_number": 10
    },
    {
     "cell_type": "heading",
     "level": 2,
     "metadata": {},
     "source": [
      "Example 9.10, Page number 9.16"
     ]
    },
    {
     "cell_type": "code",
     "collapsed": false,
     "input": [
      "\n",
      "from math import log\n",
      "\n",
      "#Variable declaration\n",
      "e = 1.602*10**-19    #charge on electron(C)\n",
      "k = 1.38*10**-23     #Boltzman constant(J/K)\n",
      "Eg = 1*e             #bandgap(J)\n",
      "\n",
      "#Calculations\n",
      "'''At T = 0K\n",
      "(Ev+0.5)=(Ec+Ev)/2  -----(1)\n",
      "\n",
      "Let at temperature T, fermi level be shited by 10%\n",
      "(Ev+06) = (Ec+Ev)/2 +(3kT*ln(4))/4  ----(2)\n",
      "\n",
      "Subtracting (1) from (2), we get the following expression'''\n",
      "\n",
      "T = (4*e/10)/(3*k*log(4))\n",
      "\n",
      "#Result\n",
      "print \"Temperature =\",round(T,2),\"K\""
     ],
     "language": "python",
     "metadata": {},
     "outputs": [
      {
       "output_type": "stream",
       "stream": "stdout",
       "text": [
        "Temperature = 1116.52 K\n"
       ]
      }
     ],
     "prompt_number": 11
    },
    {
     "cell_type": "heading",
     "level": 2,
     "metadata": {},
     "source": [
      "Example 9.11, Page number 9.17"
     ]
    },
    {
     "cell_type": "code",
     "collapsed": false,
     "input": [
      "\n",
      "#Variable declaration\n",
      "Na = 5*10**23    #no. of atoms of boron\n",
      "Nd = 3*10**23    #no. of atoms of arsenic\n",
      "ni = 2*10**16    #intrinsic charge carriers(/m^3)\n",
      "\n",
      "#Calculations\n",
      "p = (2*(Na-Nd))/2  #hole concentration(/m^3)\n",
      "n = ni**2/p        #electron concentration(/m^3)\n",
      "\n",
      "#Result\n",
      "print \"Hole concentration =\",round((p/1E+23),2),\"*10^23 per m^3\"\n",
      "print \"Electron concentration =\",round((n/1E+9),2),\"*10^9 per m^3\""
     ],
     "language": "python",
     "metadata": {},
     "outputs": [
      {
       "output_type": "stream",
       "stream": "stdout",
       "text": [
        "Hole concentration = 2.0 *10^23 per m^3\n",
        "Electron concentration = 2.0 *10^9 per m^3\n"
       ]
      }
     ],
     "prompt_number": 12
    },
    {
     "cell_type": "heading",
     "level": 2,
     "metadata": {},
     "source": [
      "Example 9.12, Page number 9.18"
     ]
    },
    {
     "cell_type": "code",
     "collapsed": false,
     "input": [
      "\n",
      "#Variable declaration\n",
      "ue = 0.13            #electron mobility(m^2/V-s)\n",
      "uh = 0.05            #hole mobility(m^2/V-s)\n",
      "e = 1.602*10**-19    #charge on electron(C)\n",
      "ni = 1.5*10**16      #intrinsic charge carriers(/m^3) \n",
      "\n",
      "\n",
      "#Calculations\n",
      "#Part a\n",
      "sigma = ni*e*(ue+uh)  #conductivity(1/ohm-m)\n",
      "\n",
      "#Part b\n",
      "w = 28.1                  #atomic weight of Si\n",
      "den = 2.33*10**3          #density of Si(kg/m^3)\n",
      "n = (den*6.02*10**26)/w   #no. of atoms of silicon\n",
      "#Since one donor type impurity atom is added in 10^8 Si atoms, \n",
      "Nd = n/10**8\n",
      "p = ni**2/Nd\n",
      "sigma_ex = Nd*e*ue        #(per ohm-m)\n",
      "\n",
      "#Part c\n",
      "Na = Nd         #Since one acceptor type impurity atom is added in 10^8 Si atoms\n",
      "n2 = ni**2/Na\n",
      "sigma_ax = Na*e*uh         #(per ohm-m)\n",
      "\n",
      "#Results\n",
      "print \"a)Conductivity =\",round((sigma/1E-3),3),\"*10^-3 per ohm-m\"\n",
      "print \"b)Conductivity if donor type impurity is added =\",round(sigma_ex,2),\"per ohm-m\"\n",
      "print \"c)Conductivity if acceptor type impurity is added =\",round(sigma_ax,2),\"per ohm-m\""
     ],
     "language": "python",
     "metadata": {},
     "outputs": [
      {
       "output_type": "stream",
       "stream": "stdout",
       "text": [
        "a)Conductivity = 0.433 *10^-3 per ohm-m\n",
        "b)Conductivity if donor type impurity is added = 10.4 per ohm-m\n",
        "c)Conductivity if acceptor type impurity is added = 4.0 per ohm-m\n"
       ]
      }
     ],
     "prompt_number": 13
    },
    {
     "cell_type": "heading",
     "level": 2,
     "metadata": {},
     "source": [
      "Example 9.13, Page number 9.20"
     ]
    },
    {
     "cell_type": "code",
     "collapsed": false,
     "input": [
      "\n",
      "from math import log\n",
      "\n",
      "#Variable declaration\n",
      "ue = 0.135            #electron mobility(m^2/V-s)\n",
      "uh = 0.048            #hole mobility(m^2/V-s)\n",
      "e = 1.602*10**-19     #charge on electron(C)\n",
      "ni = 1.5*10**16       #intrinsic charge carriers(atoms/m^3)\n",
      "k = 1.38*10**-23      #Boltzman constant(J/K)\n",
      "T = 300               #assumption - Temperature(K)\n",
      "Nd = 10**23           #doping concentration(atoms/m^3)\n",
      "\n",
      "#Calculations\n",
      "sigma = ni*e*(ue+uh)  #conductivity of intrinsic Si\n",
      "\n",
      "p = ni**2/Nd          #hole concentration\n",
      "\n",
      "sigma_ex = Nd*e*ue    #conductivity at equilibrium\n",
      "F = (3*k*T)/(4*e)*log(ue/uh)  #position of Fermi level\n",
      "\n",
      "#Results\n",
      "print \"Conductivity of intrinsic Si is\",round((sigma/1E-3),4),\"*10^-3 per ohm-m\"\n",
      "print \"Hole concentration at equilibrium is\",round((Nd/1E+23)),\"*10^23 per m^3\"\n",
      "print \"Conductivity at equilibrium is\",round((sigma_ex/1E+3),2),\"*10^3 per m^3\"\n",
      "print \"Fermi level will be\",round(F,2),\"eV above intrinsic level\" "
     ],
     "language": "python",
     "metadata": {},
     "outputs": [
      {
       "output_type": "stream",
       "stream": "stdout",
       "text": [
        "Conductivity of intrinsic Si is 0.4397 *10^-3 per ohm-m\n",
        "Hole concentration at equilibrium is 1.0 *10^23 per m^3\n",
        "Conductivity at equilibrium is 2.16 *10^3 per m^3\n",
        "Fermi level will be 0.02 eV above intrinsic level\n"
       ]
      }
     ],
     "prompt_number": 14
    },
    {
     "cell_type": "heading",
     "level": 2,
     "metadata": {},
     "source": [
      "Example 9.14, Page number 9.35"
     ]
    },
    {
     "cell_type": "code",
     "collapsed": false,
     "input": [
      "\n",
      "#Variable declaration\n",
      "ue = 0.19             #electron mobility(m^2/V-s)\n",
      "e = 1.602*10**-19     #charge on electron(C)\n",
      "T = 300               #Temperature(K)\n",
      "\n",
      "#Calculation\n",
      "Dn = (ue*k*T)/e\n",
      "\n",
      "#Result\n",
      "print \"Diffusion co-efficient =\",round((Dn/1E-4),2),\"*10^-4 m^2/s\""
     ],
     "language": "python",
     "metadata": {},
     "outputs": [
      {
       "output_type": "stream",
       "stream": "stdout",
       "text": [
        "Diffusion co-efficient = 49.1 *10^-4 m^2/s\n"
       ]
      }
     ],
     "prompt_number": 15
    },
    {
     "cell_type": "heading",
     "level": 2,
     "metadata": {},
     "source": [
      "Example 9.15, Page number 9.45"
     ]
    },
    {
     "cell_type": "code",
     "collapsed": false,
     "input": [
      "\n",
      "#Variable declaration\n",
      "Rh = 3.66*10**-4   #Hall coefficient\n",
      "I = 10**-2         #current(A)\n",
      "B = 0.5            #magnetic field intensity(wb/m^2)\n",
      "t = 1.*10**-3      #thickness of plate(m)\n",
      "\n",
      "#Calculations\n",
      "Vh = (Rh*I*B)/t\n",
      "\n",
      "#Result\n",
      "print \"Hall coefficient =\",(Vh/1E-3),\"mV\"\n"
     ],
     "language": "python",
     "metadata": {},
     "outputs": [
      {
       "output_type": "stream",
       "stream": "stdout",
       "text": [
        "Hall coefficient = 1.83 mV\n"
       ]
      }
     ],
     "prompt_number": 6
    },
    {
     "cell_type": "heading",
     "level": 2,
     "metadata": {},
     "source": [
      "Example 9.16, Page number 9.46"
     ]
    },
    {
     "cell_type": "code",
     "collapsed": false,
     "input": [
      "\n",
      "#Variable declaration\n",
      "Vy = 37*10**-6      #voltage(V)\n",
      "t = 10**-3          #thickness of crystal(m)\n",
      "Bz = 0.5            #magnetic field intensity(Wb/m^2)\n",
      "Ix = 20*10**-3      #current(A)\n",
      "\n",
      "#Calculations\n",
      "Vh = (Vy*t)/(Ix*Bz)\n",
      "\n",
      "#Result\n",
      "print \"Hall coefficient =\",(Vh/1E-6),\"*10^-6 m^3/C\"\n"
     ],
     "language": "python",
     "metadata": {},
     "outputs": [
      {
       "output_type": "stream",
       "stream": "stdout",
       "text": [
        "Hall coefficient = 3.7 *10^-6 m^3/C\n"
       ]
      }
     ],
     "prompt_number": 7
    },
    {
     "cell_type": "heading",
     "level": 2,
     "metadata": {},
     "source": [
      "Example 9.17, Page number 9.46"
     ]
    },
    {
     "cell_type": "code",
     "collapsed": false,
     "input": [
      "\n",
      "#Variable declaration\n",
      "Rh = 7.35*10**-5   #Hall coefficient(m^3/C)\n",
      "e = 1.6*10**-19    #charge on electron(C)\n",
      "sigma = 200        #conductivity(/ohm-m)\n",
      "n = 8.023*10**22   #Avogadro's number\n",
      "\n",
      "#Calculations\n",
      "n = 1/(Rh*e)\n",
      "\n",
      "u = sigma/(n*e)\n",
      "\n",
      "#Results\n",
      "print \"Density =\",round((n/1E+22),3),\"*10^22 m^3\"\n",
      "print \"Conductivity =\",round((u/1E-3),2),\"*10^-3 m^2/V-s\""
     ],
     "language": "python",
     "metadata": {},
     "outputs": [
      {
       "output_type": "stream",
       "stream": "stdout",
       "text": [
        "Density = 8.503 *10^22 m^3\n",
        "Conductivity = 14.7 *10^-3 m^2/V-s\n"
       ]
      }
     ],
     "prompt_number": 8
    },
    {
     "cell_type": "heading",
     "level": 2,
     "metadata": {},
     "source": [
      "Example 9.18, Page number 9.47"
     ]
    },
    {
     "cell_type": "code",
     "collapsed": false,
     "input": [
      "\n",
      "#Variable declaration\n",
      "I = 50           #current(A)\n",
      "B = 1.5          #magnetic field intensity(T)\n",
      "n = 8.4*10**28   #free electron concentration in copper(electron/m^3)\n",
      "t = 0.5*10**-2   #thickness of slab(m)\n",
      "\n",
      "#Calculation\n",
      "Vh = (I*B)/(n*e*t)\n",
      "\n",
      "#Result\n",
      "print \"The magnitude of Hall voltage is\",round((Vh/1E-6),3),\"*10^-6 V\""
     ],
     "language": "python",
     "metadata": {},
     "outputs": [
      {
       "output_type": "stream",
       "stream": "stdout",
       "text": [
        "The magnitude of Hall voltage is 1.116 *10^-6 V\n"
       ]
      }
     ],
     "prompt_number": 9
    },
    {
     "cell_type": "heading",
     "level": 2,
     "metadata": {},
     "source": [
      "Example 9.19, Page number 9.48"
     ]
    },
    {
     "cell_type": "code",
     "collapsed": false,
     "input": [
      "\n",
      "#Variable declaration\n",
      "Rh = 3.66*10**-4   #Hall coefficient(m^3/C)\n",
      "e = 1.6*10**-19    #charge on electron(C)\n",
      "Pn = 8.93*10**-3   #resistivity(ohm-m)\n",
      "\n",
      "#Calculation\n",
      "n = 1/(Rh*e)\n",
      "\n",
      "ue = Rh/Pn\n",
      "\n",
      "#Result\n",
      "print \"n =\",round((n/1E+22),3),\"*10^22/m^3\"\n",
      "print \"u =\",round(ue,3),\"m^2/V-s\""
     ],
     "language": "python",
     "metadata": {},
     "outputs": [
      {
       "output_type": "stream",
       "stream": "stdout",
       "text": [
        "n = 1.708 *10^22/m^3\n",
        "u = 0.041 m^2/V-s\n"
       ]
      }
     ],
     "prompt_number": 10
    }
   ],
   "metadata": {}
  }
 ]
}