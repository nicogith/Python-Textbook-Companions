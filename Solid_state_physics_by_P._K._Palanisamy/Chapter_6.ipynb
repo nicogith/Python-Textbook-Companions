{
 "metadata": {
  "name": "",
  "signature": "sha256:425f92ebc94b7b662d737292c7c739a2d9f7bf01d4a0a5239c1380861a6af3a7"
 },
 "nbformat": 3,
 "nbformat_minor": 0,
 "worksheets": [
  {
   "cells": [
    {
     "cell_type": "heading",
     "level": 1,
     "metadata": {},
     "source": [
      "Chapter 6: Electron theory of Metals"
     ]
    },
    {
     "cell_type": "heading",
     "level": 2,
     "metadata": {},
     "source": [
      "Example 6.1, Page number 6.5"
     ]
    },
    {
     "cell_type": "code",
     "collapsed": false,
     "input": [
      "\n",
      "#Variable declaration\n",
      "rho_s = 10.5*10**3   #density of silver(kg/m^3)\n",
      "Na = 6.02*10**26     #Avogadro's number\n",
      "Ma = 107.9           #atomic weight of silver\n",
      "sigma = 6.8*10**7    #conductivity(/ohm-m)\n",
      "e = 1.6*10**-19      #charge of an electron(C)\n",
      "\n",
      "#Calculations\n",
      "n = (rho_s*Na)/Ma\n",
      "u = sigma/(n*e)\n",
      "\n",
      "#Results\n",
      "print \"Density of electrons =\",round((n/1E+28),2),\"*10^28\"\n",
      "print \"Mobility of electrons =\",round((u/1E-2),3),\"*10^-2 m^2/V-s\""
     ],
     "language": "python",
     "metadata": {},
     "outputs": [
      {
       "output_type": "stream",
       "stream": "stdout",
       "text": [
        "Density of electrons = 5.86 *10^28\n",
        "Mobility of electrons = 0.725 *10^-2 m^2/V-s\n"
       ]
      }
     ],
     "prompt_number": 1
    },
    {
     "cell_type": "heading",
     "level": 2,
     "metadata": {},
     "source": [
      "Example 6.2, Page number 6.6"
     ]
    },
    {
     "cell_type": "code",
     "collapsed": false,
     "input": [
      "\n",
      "#Variable declaration\n",
      "den = 8.92*10**3  #density(kg/m^3)\n",
      "rho = 1.73*10**-8 #resistivity of copper(ohm-m)\n",
      "Ma = 63.5         #atomic weight\n",
      "e = 1.6*10**-19   #charge of an electron(C)\n",
      "Na = 6.02*10**26  #Avogadro's number\n",
      "m = 9.1*10**-31   #mass of an electron(kg)\n",
      "\n",
      "#Calculations\n",
      "n = (den*Na)/Ma\n",
      "u = 1/(rho*n*e)\n",
      "tou = m/(n*e**2*rho)\n",
      "\n",
      "#Results\n",
      "print \"Mobility of electrons =\",round((u/1E-2),3),\"*10^-2 m/V-s\"\n",
      "print \"Average time of collision of electrons =\",round((tou/1E-14),2),\"*10^-14 s\""
     ],
     "language": "python",
     "metadata": {},
     "outputs": [
      {
       "output_type": "stream",
       "stream": "stdout",
       "text": [
        "Mobility of electrons = 0.427 *10^-2 m/V-s\n",
        "Average time of collision of electrons = 2.43 *10^-14 s\n"
       ]
      }
     ],
     "prompt_number": 2
    },
    {
     "cell_type": "heading",
     "level": 2,
     "metadata": {},
     "source": [
      "Example 6.3, Page number 6.7"
     ]
    },
    {
     "cell_type": "code",
     "collapsed": false,
     "input": [
      "\n",
      "#Variable declaration\n",
      "P = 1.54*10**-8    #resistivity(ohm-m)\n",
      "n = 5.8*10**28     #no. of electrons per m^3\n",
      "m = 9.108*10**-31  #mass of an elecron(kg)\n",
      "e = 1.602*10**-19  #charge of an electron(C)\n",
      "\n",
      "#Calculations\n",
      "tou = m/(n*e**2*P)\n",
      "\n",
      "#Result\n",
      "print \"The relaxation time of conducton of electrons is\",round((tou/1E-14),2),\"*10^-14 s\""
     ],
     "language": "python",
     "metadata": {},
     "outputs": [
      {
       "output_type": "stream",
       "stream": "stdout",
       "text": [
        "The relaxation time of conducton of electrons is 3.97 *10^-14 s\n"
       ]
      }
     ],
     "prompt_number": 3
    },
    {
     "cell_type": "heading",
     "level": 2,
     "metadata": {},
     "source": [
      "Example 6.4, Page number 6.8"
     ]
    },
    {
     "cell_type": "code",
     "collapsed": false,
     "input": [
      "\n",
      "#Varaible declaration\n",
      "R = 0.06             #resistance(ohms)\n",
      "D = 5                #length of wire(m)\n",
      "I = 15               #current(A)\n",
      "p = 2.7*10**-8       #resistivity of aluminium(ohm-m)\n",
      "Ma = 26.98           #atomic weight\n",
      "Na = 6.025*10**26    #Avogadro's number\n",
      "rho_s = 2.7*10**3    #sensity(kg/m^3)\n",
      "\n",
      "#Calculations\n",
      "#Since each free atom atom contains 3 electrons, therefore,\n",
      "n = (3*rho_s*Na)/Ma\n",
      "\n",
      "#For mobility\n",
      "u = 1/(n*e*p)\n",
      "\n",
      "#For drift velocity\n",
      "E = (I*R)/D\n",
      "vd = u*E\n",
      "\n",
      "#Results\n",
      "print \"Free electron concentration =\",round((n/1E+29),4),\"*10^29 electrons/m^2\"\n",
      "print \"Mobility of electrons =\",round((u/1E-3),3),\"*10^-3 m/V-s\"\n",
      "print \"Drift velocity of electrons =\",round((vd/1E-3),3),\"*10^-3 m/s\""
     ],
     "language": "python",
     "metadata": {},
     "outputs": [
      {
       "output_type": "stream",
       "stream": "stdout",
       "text": [
        "Free electron concentration = 1.8088 *10^29 electrons/m^2\n",
        "Mobility of electrons = 1.278 *10^-3 m/V-s\n",
        "Drift velocity of electrons = 0.23 *10^-3 m/s\n"
       ]
      }
     ],
     "prompt_number": 5
    },
    {
     "cell_type": "heading",
     "level": 2,
     "metadata": {},
     "source": [
      "Example 6.5, Page number 6.13"
     ]
    },
    {
     "cell_type": "code",
     "collapsed": false,
     "input": [
      "\n",
      "#Variable declaration\n",
      "L = 0.1*10**-9    #length of each side of box(m)\n",
      "h = 6.62*10**-34  #Planck's constant(J-s)\n",
      "m = 9.1*10**-31   #mass of electron(kg)\n",
      "#For lowest energy,\n",
      "nx = 1\n",
      "ny = 1\n",
      "nz = 1\n",
      "\n",
      "#Calculations\n",
      "E1 = (((h**2)*(nx**2+ny**2+nz**2))/(8*m*L**2))//(1.6*10**-19)\n",
      "\n",
      "#Result\n",
      "print \"The lowest energy of electron is\",round(E1,2),\"eV\" "
     ],
     "language": "python",
     "metadata": {},
     "outputs": [
      {
       "output_type": "stream",
       "stream": "stdout",
       "text": [
        "The lowest energy of electron is 112.0 eV\n"
       ]
      }
     ],
     "prompt_number": 7
    },
    {
     "cell_type": "heading",
     "level": 2,
     "metadata": {},
     "source": [
      "Exmple 6.6, Page number 6.13"
     ]
    },
    {
     "cell_type": "code",
     "collapsed": false,
     "input": [
      "\n",
      "import math\n",
      "\n",
      "#Variable declaration\n",
      "'''Fermi equation\n",
      "F(E) =       1\n",
      "          ---------------\n",
      "          1+exp((E-Ef)/kT)\n",
      "Given, E-Ef = kT\n",
      "therefore,\n",
      "F(E) =    1\n",
      "      --------\n",
      "      1+exp(1)\n",
      "'''\n",
      "\n",
      "#Calculation\n",
      "Fe = 1./(1.+math.exp(1.))\n",
      "\n",
      "#Result\n",
      "print \"F(E) =\",round(Fe,3)"
     ],
     "language": "python",
     "metadata": {},
     "outputs": [
      {
       "output_type": "stream",
       "stream": "stdout",
       "text": [
        "F(E) = 0.269\n"
       ]
      }
     ],
     "prompt_number": 8
    },
    {
     "cell_type": "heading",
     "level": 2,
     "metadata": {},
     "source": [
      "Example 6.7, Page number 6.13"
     ]
    },
    {
     "cell_type": "code",
     "collapsed": false,
     "input": [
      "\n",
      "import math \n",
      "\n",
      "#Variable declaration\n",
      "Fe = 10./100.   #probability\n",
      "Ef = 5.5        #Fermi energy(eV)\n",
      "k = 1.38*10**-23\n",
      " \n",
      "#Calculations\n",
      "'''Fermi equation\n",
      "F(E) =       1\n",
      "          ---------------\n",
      "          1+exp((E-Ef)/kT)\n",
      "'''\n",
      "E = Ef+(Ef/100)\n",
      "E_Ef = (E - Ef)*1.6*10**-19  #(J)\n",
      "\n",
      "#Let x be E-Ef/k\n",
      "x = E_Ef/k\n",
      "T = x/math.log(-(1-(1/Fe)))\n",
      "\n",
      "#Result\n",
      "print \"Temperature =\",round(T,2),\"K\""
     ],
     "language": "python",
     "metadata": {},
     "outputs": [
      {
       "output_type": "stream",
       "stream": "stdout",
       "text": [
        "Temperature = 290.22 K\n"
       ]
      }
     ],
     "prompt_number": 9
    },
    {
     "cell_type": "heading",
     "level": 2,
     "metadata": {},
     "source": [
      "Example 6.8, Page number 6.16"
     ]
    },
    {
     "cell_type": "code",
     "collapsed": false,
     "input": [
      "\n",
      "import math \n",
      "\n",
      "#Variable declaration\n",
      "Fe = 1./100.   #probability\n",
      "Ef = 0.5       #Fermi energy(eV)\n",
      "k = 1.38*10**-23\n",
      " \n",
      "#Calculations\n",
      "'''Fermi equation\n",
      "F(E) =       1\n",
      "          ---------------\n",
      "          1+exp((E-Ef)/kT)\n",
      "'''\n",
      "\n",
      "E = Ef+0.5\n",
      "E_Ef = (E - Ef)*1.6*10**-19  #(J)\n",
      "\n",
      "#Let x be E-Ef/k\n",
      "x = E_Ef/k\n",
      "T = x/math.log(-(1-(1/Fe)))\n",
      "\n",
      "#Result\n",
      "print \"Temperature =\",round(T),\"K\""
     ],
     "language": "python",
     "metadata": {},
     "outputs": [
      {
       "output_type": "stream",
       "stream": "stdout",
       "text": [
        "Temperature = 1262.0 K\n"
       ]
      }
     ],
     "prompt_number": 10
    }
   ],
   "metadata": {}
  }
 ]
}