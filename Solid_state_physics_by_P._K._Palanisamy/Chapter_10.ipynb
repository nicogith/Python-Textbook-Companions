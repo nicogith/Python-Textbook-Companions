{
 "metadata": {
  "name": ""
 },
 "nbformat": 3,
 "nbformat_minor": 0,
 "worksheets": [
  {
   "cells": [
    {
     "cell_type": "heading",
     "level": 1,
     "metadata": {},
     "source": [
      "Chapter 10: Superconductivity"
     ]
    },
    {
     "cell_type": "heading",
     "level": 2,
     "metadata": {},
     "source": [
      "Example 10.1, Page number 10.3"
     ]
    },
    {
     "cell_type": "code",
     "collapsed": false,
     "input": [
      "\n",
      "#Variable declaration\n",
      "Tc = 3.7       #critical temperature(K)\n",
      "Hc_o = 0.0306  #critical field(T)\n",
      "T = 2          #temperature(K)\n",
      "\n",
      "#Calculation\n",
      "Hc_2 = Hc_o*(1-((T/Tc)**2))\n",
      "\n",
      "#Result\n",
      "print \"Critical field at 2K is\",round(Hc_2,5),\"T\""
     ],
     "language": "python",
     "metadata": {},
     "outputs": [
      {
       "output_type": "stream",
       "stream": "stdout",
       "text": [
        "Critical field at 2K is 0.02166 T\n"
       ]
      }
     ],
     "prompt_number": 1
    },
    {
     "cell_type": "heading",
     "level": 2,
     "metadata": {},
     "source": [
      "Example 10.2, Page number 10.5"
     ]
    },
    {
     "cell_type": "code",
     "collapsed": false,
     "input": [
      "\n",
      "from math import pi\n",
      "\n",
      "#Variable declaration\n",
      "T = 4.2        #temperature(K)\n",
      "Tc = 7.18      #critical temperature(K)\n",
      "Ho = 6.5*10**4 #A/m\n",
      "d = 1*10**-3   #diameter(m)\n",
      "\n",
      "#Calculations\n",
      "Hc = Ho*(1-((T/Tc)**2))\n",
      "r = d/2\n",
      "ic = 2*pi*r*Hc\n",
      "\n",
      "#Result\n",
      "print \"Critical current =\",round(ic,2),\"A\""
     ],
     "language": "python",
     "metadata": {},
     "outputs": [
      {
       "output_type": "stream",
       "stream": "stdout",
       "text": [
        "Critical current = 134.33 A\n"
       ]
      }
     ],
     "prompt_number": 2
    },
    {
     "cell_type": "heading",
     "level": 2,
     "metadata": {},
     "source": [
      "Example 10.3, Page number 10.12"
     ]
    },
    {
     "cell_type": "code",
     "collapsed": false,
     "input": [
      "\n",
      "import math \n",
      "\n",
      "#Variable declaration\n",
      "T = 3.5         #temperature(K)\n",
      "lamda_t = 750   #penetration depth at T(A)\n",
      "Tc = 4.12       #K\n",
      "\n",
      "#Calculation\n",
      "lamda_o = lamda_t*math.sqrt((1-((T/Tc)**4)))\n",
      "\n",
      "#Result\n",
      "print \"Penetration depth at 4.12K is\",round(lamda_o,1),\"A\""
     ],
     "language": "python",
     "metadata": {},
     "outputs": [
      {
       "output_type": "stream",
       "stream": "stdout",
       "text": [
        "Penetration depth at 4.12K is 519.2 A\n"
       ]
      }
     ],
     "prompt_number": 7
    },
    {
     "cell_type": "heading",
     "level": 2,
     "metadata": {},
     "source": [
      "Example 10.4, Page number 10.13"
     ]
    },
    {
     "cell_type": "code",
     "collapsed": false,
     "input": [
      "\n",
      "import math\n",
      "\n",
      "#Variable declaration\n",
      "T1 = 3          #temperature(K)\n",
      "lamda_t1 = 396.  #penetration depth at T1(A)\n",
      "T2 = 7.1        #temperature(K)\n",
      "lamda_t2 = 1730. #penetration depth at T2(A)\n",
      "\n",
      "#Calculations\n",
      "x = lamda_t2**2/lamda_t1**2\n",
      "Tc = math.sqrt(math.sqrt((-T1**4+(x*(T2**4)))/(x-1)))\n",
      "\n",
      "#Result\n",
      "print \"Critical temperature =\",round(Tc,3),\"K\""
     ],
     "language": "python",
     "metadata": {},
     "outputs": [
      {
       "output_type": "stream",
       "stream": "stdout",
       "text": [
        "Critical temperature = 7.193 K\n"
       ]
      }
     ],
     "prompt_number": 18
    }
   ],
   "metadata": {}
  }
 ]
}