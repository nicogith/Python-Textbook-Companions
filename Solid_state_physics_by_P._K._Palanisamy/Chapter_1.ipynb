{
 "metadata": {
  "name": ""
 },
 "nbformat": 3,
 "nbformat_minor": 0,
 "worksheets": [
  {
   "cells": [
    {
     "cell_type": "heading",
     "level": 1,
     "metadata": {},
     "source": [
      "Chapter 1: Bonding in Solids"
     ]
    },
    {
     "cell_type": "heading",
     "level": 2,
     "metadata": {},
     "source": [
      "Example 1.1, Page number 1.4"
     ]
    },
    {
     "cell_type": "code",
     "collapsed": false,
     "input": [
      "\n",
      "from math import pi\n",
      "\n",
      "#Variable declartion\n",
      "E_a = 502        #first ionization energy of A(kJ/mol)\n",
      "E_b = -335       #electron affinity for B atom(kJ/mol)\n",
      "d = 3*10**-10    #inter-ionic seperation(m)\n",
      "E = 8.85*10**-12 #permittivity of free space(C/N -m)\n",
      "e = 1.602*10**-19#charge of an electron(C)\n",
      "\n",
      "#Calculations\n",
      "C_e = (-e**2)/(4*pi*E*d)           #Coulumbic attraction energy(J/ion pair)\n",
      "C_e_kj = C_e *6.022*10**23*10**-3  #Converting C_e to KJ/mol\n",
      "n_e = E_a + E_b  + C_e_kj          #Net change in energy per mole\n",
      "\n",
      "#Results\n",
      "print \"Net change in energy is =\",round(n_e,3),\"kJ/mol\"\n",
      "print \"As the net change in energy is negative, the molecule will be stable\"\n",
      "print \"\\nThe solution differs because of rounding-off of the digits in the textbook\""
     ],
     "language": "python",
     "metadata": {},
     "outputs": [
      {
       "output_type": "stream",
       "stream": "stdout",
       "text": [
        "Net change in energy is = -296.224 kJ/mol\n",
        "As the net change in energy is negative, the molecule will be stable\n",
        "\n",
        "The solution differs because of rounding-off of the digits in the textbook\n"
       ]
      }
     ],
     "prompt_number": 19
    },
    {
     "cell_type": "heading",
     "level": 2,
     "metadata": {},
     "source": [
      "Example 1.2, Page number 1.4"
     ]
    },
    {
     "cell_type": "code",
     "collapsed": false,
     "input": [
      "\n",
      "from math import pi \n",
      "\n",
      "#Variable declaration\n",
      "IP_K = 4.1        #ionization energy of K(eV)\n",
      "EA_Cl = 3.6       #electron affinity of Cl(eV)\n",
      "e = 1.602*10**-19 #charge of an electron(C)\n",
      "Eo = 8.85*10**-12 #permittivity of free space(C/N -m)\n",
      "\n",
      "#Calcuations\n",
      "del_E = IP_K - EA_Cl\n",
      "#Ec = 0.5 = -e/4*pi*Eo*R\n",
      "R = e/(4*pi*Eo*del_E)\n",
      "\n",
      "#Results\n",
      "print \"(a) If their total energy is to be zero, then del_E = Ec\"\n",
      "print \"(b) The seperation between the ion pair is\", round((R/1E-9),2), \"nm\""
     ],
     "language": "python",
     "metadata": {},
     "outputs": [
      {
       "output_type": "stream",
       "stream": "stdout",
       "text": [
        "(a) If their total energy is to be zero, then del_E = Ec\n",
        "(b) The seperation between the ion pair is 2.88 nm\n"
       ]
      }
     ],
     "prompt_number": 7
    },
    {
     "cell_type": "heading",
     "level": 2,
     "metadata": {},
     "source": [
      "Example 1.3, Page number 1.5"
     ]
    },
    {
     "cell_type": "code",
     "collapsed": false,
     "input": [
      "\n",
      "from math import pi\n",
      "\n",
      "#Variable declaration\n",
      "ro = 2.36*10**-10  #inter ionic equilibrium distance(m)\n",
      "IP = 5.14          #ionization energy of Na(eV)\n",
      "EA = 3.65          #electron affinity of Cl(eV)\n",
      "e = 1.602*10**-19  #charge of an electron(C)\n",
      "Eo = 8.85*10**-12  #permittivity of free space(C/N -m)\n",
      "\n",
      "#Calculations\n",
      "Ue = (-e**2)/(4*pi*Eo*ro*e) #Potential energy in eV\n",
      "Be = -Ue - IP + EA\n",
      "\n",
      "#Result\n",
      "print \"Bond energy for NaCl molecule is\",round(Be,2),\"eV\""
     ],
     "language": "python",
     "metadata": {},
     "outputs": [
      {
       "output_type": "stream",
       "stream": "stdout",
       "text": [
        "Bond energy for NaCl molecule is 4.61 eV\n"
       ]
      }
     ],
     "prompt_number": 9
    },
    {
     "cell_type": "heading",
     "level": 2,
     "metadata": {},
     "source": [
      "Example 1.4, Page number 1.18"
     ]
    },
    {
     "cell_type": "code",
     "collapsed": false,
     "input": [
      "\n",
      "from math import pi\n",
      "\n",
      "#Variable declaration\n",
      "ro = 0.281*10**-9 #equilibrium seperation between the ion pair(m)\n",
      "IP = 5.14         #ionization energy of Na(eV)\n",
      "EA = 3.61         #electron affinity of Cl(eV)\n",
      "A = 1.748         #Madelung constant\n",
      "n = 9.            #born replusive exponent\n",
      "e = 1.602*10**-19 #charge of an electron(C)\n",
      "Eo = 8.85*10**-12 #permittivity of free space(C/N -m)\n",
      "\n",
      "#Calculations\n",
      "Ce = (A*(e**2)*(1-(1/n)))/(4*pi*Eo*ro) #joules\n",
      "Ce_ev = Ce/e                           #Converting joules to eV\n",
      "\n",
      "#Result\n",
      "print \"The cohesive energy of NaCl molecule is\",round(Ce_ev,2),\"eV\""
     ],
     "language": "python",
     "metadata": {},
     "outputs": [
      {
       "output_type": "stream",
       "stream": "stdout",
       "text": [
        "The cohesive energy of NaCl molecule is 7.97 eV\n"
       ]
      }
     ],
     "prompt_number": 22
    }
   ],
   "metadata": {}
  }
 ]
}