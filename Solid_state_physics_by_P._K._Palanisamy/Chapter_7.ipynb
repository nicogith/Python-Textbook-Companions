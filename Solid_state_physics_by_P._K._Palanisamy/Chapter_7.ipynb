{
 "metadata": {
  "name": "",
  "signature": "sha256:9ccabd1c0a5d5861a1e63defe760a8b9caed49864d9aebb3ab3b0741ed755b61"
 },
 "nbformat": 3,
 "nbformat_minor": 0,
 "worksheets": [
  {
   "cells": [
    {
     "cell_type": "heading",
     "level": 1,
     "metadata": {},
     "source": [
      "Chapter 7: Dielectric Properties"
     ]
    },
    {
     "cell_type": "heading",
     "level": 2,
     "metadata": {},
     "source": [
      "Example 7.1, Page number 7.23"
     ]
    },
    {
     "cell_type": "code",
     "collapsed": false,
     "input": [
      "\n",
      "#Variable declaration\n",
      "C = 2*10**-6   #Capacitance(F)\n",
      "V = 1000       #voltage(V)\n",
      "Er = 100       #permittivity\n",
      "\n",
      "#Calculations\n",
      "W = (C*V**2)/2\n",
      "\n",
      "Co = C/Er\n",
      "Wo = (Co*V**2)/2\n",
      "Wf = W-Wo\n",
      "\n",
      "#Result\n",
      "print \"Energy stored in condenser =\",W,\"J\"\n",
      "print \"Energy stored in polarizing the dilectric =\",Wf,\"J\""
     ],
     "language": "python",
     "metadata": {},
     "outputs": [
      {
       "output_type": "stream",
       "stream": "stdout",
       "text": [
        "Energy stored in condenser = 1.0 J\n",
        "Energy stored in polarizing the dilectric = 0.99 J\n"
       ]
      }
     ],
     "prompt_number": 1
    },
    {
     "cell_type": "heading",
     "level": 2,
     "metadata": {},
     "source": [
      "Example 7.2, Page number 7.24"
     ]
    },
    {
     "cell_type": "code",
     "collapsed": false,
     "input": [
      "\n",
      "#Variable declaraion\n",
      "Er = 4.94   #permittivity\n",
      "n2 = 2.69   #index of refraction\n",
      "\n",
      "#Calculations\n",
      "'''\n",
      "Er - 1    N(ae+ai)\n",
      "------ = ---------\n",
      "Er + 2     3*Eo \n",
      "Sunbstituting the values for Er, we get,\n",
      "N(ae+ai)       \n",
      "--------  = 0.5677           ------------(1)\n",
      "  3*ao\n",
      "'''\n",
      "x = 0.5677\n",
      "\n",
      "'''\n",
      "Also, Er = n**2\n",
      "Therefore, n**2-1    N*ae\n",
      "           ------- = -----\n",
      "            n**2+2    3*Eo\n",
      "Substituting the values for n^2, we get,\n",
      "N*ae\n",
      "---- = 0.36034   ---------------(2)\n",
      "3*Eo\n",
      "'''\n",
      "y = 0.36034\n",
      "#Let z = ai/ae\n",
      "#Dividing equation (1) by (2), we get,\n",
      "\n",
      "z = (x/y)-1\n",
      "\n",
      "#Result\n",
      "print \"Ratio between electronic and ionic probabbility is\",round(z,3) ,\"or\",round((1/z),3)\n"
     ],
     "language": "python",
     "metadata": {},
     "outputs": [
      {
       "output_type": "stream",
       "stream": "stdout",
       "text": [
        "Ratio between electronic and ionic probabbility is 0.575 or 1.738\n"
       ]
      }
     ],
     "prompt_number": 5
    },
    {
     "cell_type": "heading",
     "level": 2,
     "metadata": {},
     "source": [
      "Example 7.3, Page number 7.25"
     ]
    },
    {
     "cell_type": "code",
     "collapsed": false,
     "input": [
      "\n",
      "import math\n",
      "\n",
      "#Variable declaration\n",
      "Er = 2.56         #permittivity\n",
      "f = 1*10**6       #frequency(Hz)\n",
      "A = 8*10**-4      #area(m^2)\n",
      "d= 0.08*10**-3    #distance of seperation(m)\n",
      "Eo = 8.85*10**-12\n",
      "\n",
      "#Calculations\n",
      "Er_dash = Er*0.7*10**-4\n",
      "w = 2*math.pi*f\n",
      "Rp = d/(w*Eo*Er_dash*A)\n",
      "\n",
      "Cp = (A*Eo*Er)/d\n",
      "\n",
      "#Results\n",
      "print \"Parallel loss resistance =\",round((Rp/1E+6),2),\"MOhms\"\n",
      "print \"Capacitance =\",Cp,\"F(Calculation mistake in textbook)\""
     ],
     "language": "python",
     "metadata": {},
     "outputs": [
      {
       "output_type": "stream",
       "stream": "stdout",
       "text": [
        "Parallel loss resistance = 10.04 MOhms\n",
        "Capacitance = 2.2656e-10 F(Calculation mistake in textbook)\n"
       ]
      }
     ],
     "prompt_number": 6
    },
    {
     "cell_type": "heading",
     "level": 2,
     "metadata": {},
     "source": [
      "Example 7.5, Page number 7.26"
     ]
    },
    {
     "cell_type": "code",
     "collapsed": false,
     "input": [
      "\n",
      "#Varaible declaration\n",
      "N = 3.*10**28       #density(atoms/m^3)\n",
      "ae = 10.**-40       #electronic polarizability(F m^2)\n",
      "Eo = 8.854*10**-12  #permittivity of free space(F/m)\n",
      "\n",
      "#Calculaion\n",
      "Er = 1+((N*ae)/Eo)\n",
      "\n",
      "#Result\n",
      "print \"dielectric constant =\",round(Er,3)"
     ],
     "language": "python",
     "metadata": {},
     "outputs": [
      {
       "output_type": "stream",
       "stream": "stdout",
       "text": [
        "dielectric constant = 1.339\n"
       ]
      }
     ],
     "prompt_number": 7
    },
    {
     "cell_type": "heading",
     "level": 2,
     "metadata": {},
     "source": [
      "Example 7.5, Page number 7.26"
     ]
    },
    {
     "cell_type": "code",
     "collapsed": false,
     "input": [
      "\n",
      "#Variable declaration\n",
      "Er = 1.0000684      #permittivity of dilectric\n",
      "Eo = 8.854*10**-12  #permittivity of free space(F/m)\n",
      "N = 2.7*10**25      #density(atoms/m^3)\n",
      "\n",
      "#Calculation\n",
      "ae = (Eo*(Er-1))/N\n",
      "\n",
      "#Result\n",
      "print \"Electronic polarizability =\",round((ae/1E-41),3),\"*10^-41 Fm^2\""
     ],
     "language": "python",
     "metadata": {},
     "outputs": [
      {
       "output_type": "stream",
       "stream": "stdout",
       "text": [
        "Electronic polarizability = 2.243 *10^-41 Fm^2\n"
       ]
      }
     ],
     "prompt_number": 8
    },
    {
     "cell_type": "heading",
     "level": 2,
     "metadata": {},
     "source": [
      "Example 7.6, Page number 7.27"
     ]
    },
    {
     "cell_type": "code",
     "collapsed": false,
     "input": [
      "\n",
      "#Variable declaration\n",
      "A = 100*10**-4      #area of parallel capacitor(m^2)\n",
      "d = 1*10**-2        #separation between plates(m)\n",
      "Eo = 8.854*10**-12  #permittivity of free space(F/m)\n",
      "V = 100             #voltage(V)\n",
      "\n",
      "#Calculation\n",
      "C = (Eo*A)/d\n",
      "Q = C*V\n",
      "\n",
      "#Result\n",
      "print \"Capacitance =\",round((C/1E-12),2),\"pF\"\n",
      "print \"Charge =\",Q,\"C\""
     ],
     "language": "python",
     "metadata": {},
     "outputs": [
      {
       "output_type": "stream",
       "stream": "stdout",
       "text": [
        "Capacitance = 8.85 pF\n",
        "Charge = 8.854e-10 C\n"
       ]
      }
     ],
     "prompt_number": 10
    },
    {
     "cell_type": "heading",
     "level": 2,
     "metadata": {},
     "source": [
      "Example 7.7, Page number 7.28"
     ]
    },
    {
     "cell_type": "code",
     "collapsed": false,
     "input": [
      "\n",
      "#Variable declaration\n",
      "N = 6.02*10**26    #Avogadro's number\n",
      "den = 2050         #density(kg/m^3)\n",
      "Ma = 32            #atomic weight\n",
      "Eo = 8.55*10**-12 #permittivity of free space(F/m)\n",
      "v = 1/3            #internal field constant\n",
      "Er = 3.75          #dielectric constant of sulphur\n",
      "\n",
      "#Calculations\n",
      "n = (N*den)/Ma     #no. of atoms per m^3\n",
      "ae = ((Er-1)/(Er+2))*((3*Eo)/n)\n",
      "\n",
      "#Result\n",
      "print \"Electronic polarizability =\",round((ae/1E-40),3),\"*10^-41 Fm^2\""
     ],
     "language": "python",
     "metadata": {},
     "outputs": [
      {
       "output_type": "stream",
       "stream": "stdout",
       "text": [
        "Electronic polarizability = 3.181 *10^-41 Fm^2\n"
       ]
      }
     ],
     "prompt_number": 11
    }
   ],
   "metadata": {}
  }
 ]
}