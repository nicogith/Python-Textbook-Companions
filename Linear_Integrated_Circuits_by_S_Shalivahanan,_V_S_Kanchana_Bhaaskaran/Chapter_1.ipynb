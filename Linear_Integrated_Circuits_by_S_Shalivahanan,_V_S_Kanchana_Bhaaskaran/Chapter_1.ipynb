{
 "metadata": {
  "name": "Ch_1"
 }, 
 "nbformat": 2, 
 "worksheets": [
  {
   "cells": [
    {
     "cell_type": "markdown", 
     "source": [
      "<h1>Chapter 1: Integrated circuit fabrication<h1>"
     ]
    }, 
    {
     "cell_type": "markdown", 
     "source": [
      "<h3>Example 1.1, Page No:23<h3>"
     ]
    }, 
    {
     "cell_type": "code", 
     "collapsed": false, 
     "input": [
      "", 
      "#Variable Declaration:", 
      "Rs=200.0         #Sheet resistance of p-type diffusion in ohm/square", 
      "R=5000.0         #Resistance in ohm", 
      "", 
      "#Calculations:", 
      "luponw= R/Rs     #calculating  dimentions of pattern ", 
      "", 
      "#Results:", 
      "print('L upon W =%d'%luponw)", 
      "print('\\n5kohm resistor can be fabricated by using a pattern of %d mil*1mil'%luponw)"
     ], 
     "language": "python", 
     "outputs": [
      {
       "output_type": "stream", 
       "stream": "stdout", 
       "text": [
        "L upon W =25", 
        "", 
        "5kohm resistor can be fabricated by using a pattern of 25 mil*1mil"
       ]
      }
     ], 
     "prompt_number": 3
    }, 
    {
     "cell_type": "markdown", 
     "source": [
      "<h3>Example 1.2, Page No:23<h3>"
     ]
    }, 
    {
     "cell_type": "code", 
     "collapsed": false, 
     "input": [
      "", 
      "#Variable Declaration:", 
      "Rs=30.0         #Sheet resistance of p-type diffusion in ohm/square", 
      "R=1000.0        #resistance in ohm", 
      "", 
      "#Calculations:", 
      "luponw=R/Rs     #calculating  dimentions of pattern ", 
      "", 
      "#Results:", 
      "print('L upon W =100/3')", 
      "print('\\n1kohm resistor can be fabricated by using a pattern of 100 mil* 3 mil')"
     ], 
     "language": "python", 
     "outputs": [
      {
       "output_type": "stream", 
       "stream": "stdout", 
       "text": [
        "L upon W =100/3", 
        "", 
        "1kohm resistor can be fabricated by using a pattern of 100 mil* 3 mil"
       ]
      }
     ], 
     "prompt_number": 4
    }
   ]
  }
 ]
}