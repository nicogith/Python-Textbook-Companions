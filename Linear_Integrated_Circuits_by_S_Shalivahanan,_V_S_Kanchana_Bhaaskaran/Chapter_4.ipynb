{
 "metadata": {
  "name": ""
 },
 "nbformat": 3,
 "nbformat_minor": 0,
 "worksheets": [
  {
   "cells": [
    {
     "cell_type": "markdown",
     "metadata": {},
     "source": [
      "<h1>Chapter 4: Applications of Operational Amplifiers<h1>"
     ]
    },
    {
     "cell_type": "markdown",
     "metadata": {},
     "source": [
      "<h3>Example No. 4.1, Page No: 185<h3>"
     ]
    },
    {
     "cell_type": "code",
     "collapsed": false,
     "input": [
      "%matplotlib inline"
     ],
     "language": "python",
     "metadata": {},
     "outputs": [
      {
       "output_type": "stream",
       "stream": "stdout",
       "text": [
        "Populating the interactive namespace from numpy and matplotlib\n"
       ]
      },
      {
       "output_type": "stream",
       "stream": "stderr",
       "text": [
        "WARNING: pylab import has clobbered these variables: ['prod', 'plotting', 'Circle', 'power', 'diag', 'fmax', 'sinh', 'trunc', 'binomial', 'plot', 'eye', 'f', 'det', 'tan', 'product', 'roots', 'sin', 'zeros', 'cosh', 'conjugate', 'take', 'solve', 'trace', 'beta', 'pylab', 'ones', 'transpose', 'vectorize', 'cos', 'interactive', 'diff', 'invert', 'tanh', 'Polygon', 'reshape', 'sqrt', 'floor', 'source', 'add', 'multinomial', 'test', 'poly', 'mod', 'sign', 'gamma', 'log', 'var', 'seterr', 'flatten', 'nan', 'pi', 'exp']\n",
        "`%pylab --no-import-all` prevents importing * from pylab and numpy\n"
       ]
      }
     ],
     "prompt_number": 25
    },
    {
     "cell_type": "code",
     "collapsed": false,
     "input": [
      "\n",
      "#Variable Declaration:\n",
      "import math\n",
      "R1=20.0*10**3             #Resistance in ohm\n",
      "R=39.0*10**3              #Resistance in ohm\n",
      "f=2000.0                  #Frequencuy in hertz\n",
      "Rf=R1                     #Value of Rf is equal to R1 in ohm\n",
      "C=10**-9                  #Capacitance in farad\n",
      "\n",
      "#Calculations:\n",
      "fo=1/(2*math.pi*R*C)      #Calculating output frequency\n",
      "\n",
      "theta=-2*math.atan(f/fo)  #Calculating phase angle\n",
      "theta=theta*180/math.pi   #Calculating phase angle\n",
      "\n",
      "td=theta/(f*360)          #Calculating time delay\n",
      "td=-td*10**6              #Calculating time delay\n",
      "\n",
      "#Results:\n",
      "print('Phase angle=%.1f degree'%theta)\n",
      "print('\\nTime delay td= %.1f us'%td)"
     ],
     "language": "python",
     "metadata": {},
     "outputs": [
      {
       "output_type": "stream",
       "stream": "stdout",
       "text": [
        "Phase angle=-52.2 degree\n",
        "\n",
        "Time delay td= 72.5 us\n"
       ]
      }
     ],
     "prompt_number": 26
    },
    {
     "cell_type": "markdown",
     "metadata": {},
     "source": [
      "<h3>Example No. 4.2, Page No: 187<h3>"
     ]
    },
    {
     "cell_type": "code",
     "collapsed": false,
     "input": [
      "\n",
      "#Variable Declaration:\n",
      "Vee=12.0            #Volatge Vee in volt\n",
      "Vcc=5.0             #Voltage Vcc in volt\n",
      "RL=1000.0           #Resistance RL in ohm\n",
      "\n",
      "#Calculations:\n",
      "Vdiff=Vee-Vcc       #Calculating voltage difference\n",
      "IL=Vdiff/RL         #Calculating current\n",
      "IL=IL*1000.0        #Calculating current\n",
      "\n",
      "#Results:\n",
      "print('Current through RL is IL= %d mA'%IL)"
     ],
     "language": "python",
     "metadata": {},
     "outputs": [
      {
       "output_type": "stream",
       "stream": "stdout",
       "text": [
        "Current through RL is IL= 7 mA\n"
       ]
      }
     ],
     "prompt_number": 27
    },
    {
     "cell_type": "markdown",
     "metadata": {},
     "source": [
      "<h3>Example No. 4.3, Page NO: 187<h3>"
     ]
    },
    {
     "cell_type": "code",
     "collapsed": false,
     "input": [
      "\n",
      "#Variable Declaration:\n",
      "V=5.0               #Voltage in volt\n",
      "R=1000.0            #Resistance in ohm\n",
      "\n",
      "#Calculations:\n",
      "I=V/R               #Calculating current\n",
      "I=I*1000.0          #Calculating current\n",
      "\n",
      "#Results:\n",
      "print('Current= %d mA'%I)"
     ],
     "language": "python",
     "metadata": {},
     "outputs": [
      {
       "output_type": "stream",
       "stream": "stdout",
       "text": [
        "Current= 5 mA\n"
       ]
      }
     ],
     "prompt_number": 28
    },
    {
     "cell_type": "markdown",
     "metadata": {},
     "source": [
      "<h3>Example No.4.4, Page NO: 187<h3>"
     ]
    },
    {
     "cell_type": "code",
     "collapsed": false,
     "input": [
      "\n",
      "#Variable Declaration:\n",
      "Vcc=15.0                #Voltage in volt\n",
      "Re2=1000.0              #Resistance in ohm\n",
      "Vc1=5.0                 #Voltage in volt\n",
      "Ve2=5.0                 #Voltage in volt\n",
      "\n",
      "#Calculations:\n",
      "I=(Vcc-Ve2)/Re2         #Calculating current\n",
      "I=I*1000.0              #Calculating current\n",
      "\n",
      "#Results:\n",
      "print('Current= %d mA'%I)"
     ],
     "language": "python",
     "metadata": {},
     "outputs": [
      {
       "output_type": "stream",
       "stream": "stdout",
       "text": [
        "Current= 10 mA\n"
       ]
      }
     ],
     "prompt_number": 29
    },
    {
     "cell_type": "markdown",
     "metadata": {},
     "source": [
      "<h3>Example No. 4.5, Page No: 189<h3>"
     ]
    },
    {
     "cell_type": "code",
     "collapsed": false,
     "input": [
      "\n",
      "#Variable Declaration:\n",
      "R1=22.0*10**3              #Resistance in ohm\n",
      "Rf=1000.0                  #Feedback Resistance in ohm\n",
      "RL=10.0*10**3              #Load Resistance in ohm           \n",
      "Ii=10.0*10**-6             #Current in ampere\n",
      "\n",
      "#Calculations:\n",
      "Ai=1+R1/Rf                 #Calculating gain \n",
      "Io=Ai*Ii                   #Calculating output current\n",
      "Io=Io*10**6                #Calculating output current\n",
      "print('Current Io= %f uA'%Io)\n",
      "\n",
      "Io=Io/10**6                #Calculating output current \n",
      "Vmax=Io*RL + Ii*R1         #Calculating maximum voltage\n",
      "\n",
      "#Results:\n",
      "print('\\nVmax= %.2f V'%Vmax)\n",
      "print('\\nHence output clipping doesnot occur')"
     ],
     "language": "python",
     "metadata": {},
     "outputs": [
      {
       "output_type": "stream",
       "stream": "stdout",
       "text": [
        "Current Io= 230.000000 uA\n",
        "\n",
        "Vmax= 2.52 V\n",
        "\n",
        "Hence output clipping doesnot occur\n"
       ]
      }
     ],
     "prompt_number": 30
    },
    {
     "cell_type": "markdown",
     "metadata": {},
     "source": [
      "<h3>Example No. 4.6, Page No: 192<h3>"
     ]
    },
    {
     "cell_type": "code",
     "collapsed": false,
     "input": [
      "\n",
      "#Variable Declaration:\n",
      "Rf=10.0*10**3      #Feedback resistance in ohm\n",
      "RL=2000.0          #Load resistance in ohm\n",
      "Vi=0.5             #Input voltage in volt\n",
      "\n",
      "#Calculations:\n",
      "IL=Vi/Rf           #Calculating current\n",
      "IL=IL*10**6        #Calculating current\n",
      "print('Current IL= %d uA'%IL)\n",
      "\n",
      "IL=IL/10**6        #Calculating current\n",
      "Vmax=IL*RL + IL*Rf #Calculating maximum voltage\n",
      "\n",
      "#Results:\n",
      "print('\\nVmax= %.2f V'%Vmax)\n",
      "print('\\nHence output clipping doesnot occur')"
     ],
     "language": "python",
     "metadata": {},
     "outputs": [
      {
       "output_type": "stream",
       "stream": "stdout",
       "text": [
        "Current IL= 50 uA\n",
        "\n",
        "Vmax= 0.60 V\n",
        "\n",
        "Hence output clipping doesnot occur\n"
       ]
      }
     ],
     "prompt_number": 31
    },
    {
     "cell_type": "markdown",
     "metadata": {},
     "source": [
      "<h3>Example No. 4.7, Page No: 194<h3>"
     ]
    },
    {
     "cell_type": "code",
     "collapsed": false,
     "input": [
      "\n",
      "#Variable Declaration:\n",
      "V1=2.0                  #Voltage in volt\n",
      "V2=3.0                  #Voltage in volt\n",
      "V3=4.0                  #Voltage in volt\n",
      "Rf=1000.0               #Feedback resistance in ohm\n",
      "R1=Rf                   #Resistance value of the R1 is equal to Rf in ohm\n",
      "R2=Rf                   #Resistance value of the R2 is equal to Rf in ohm  \n",
      "R3=Rf                   #Resistance value of the R3 is equal to Rf in ohm\n",
      "R=Rf                    #Resistance value of the R is equal to Rf in ohm \n",
      "\n",
      "#Calculations:\n",
      "Vo=-(Rf/R1)*(V1+V2+V3)  #Calculating output voltage\n",
      "\n",
      "#Results:\n",
      "print('Vo= %d V'%Vo)"
     ],
     "language": "python",
     "metadata": {},
     "outputs": [
      {
       "output_type": "stream",
       "stream": "stdout",
       "text": [
        "Vo= -9 V\n"
       ]
      }
     ],
     "prompt_number": 32
    },
    {
     "cell_type": "markdown",
     "metadata": {},
     "source": [
      "<h3>Example No: 4.9, Page NO: 207<h3>"
     ]
    },
    {
     "cell_type": "code",
     "collapsed": false,
     "input": [
      "\n",
      "#Variable Declaration:\n",
      "import math\n",
      "R1=10.0*10**3            #Resistance in ohm\n",
      "Rf=100.0*10**3           #Resistance in ohm\n",
      "Cf=10.0*10**-9           #Capacitance in farad\n",
      "\n",
      "#Calculations:\n",
      "fa=1/(2*math.pi*Rf*Cf)   #Calculating lower frequency limit\n",
      "\n",
      "#PART (a)\n",
      "Vo1=10**4/(2*3.14*2500)     \n",
      "#PART (b)\n",
      "Vo2 = -10**4*0.2*10**-3 \n",
      "#PART (c)\n",
      "Vo3 = -10**4*0.6*10**-3\n",
      "#Results:\n",
      "print('fa= %d Hz'%fa)\n",
      "print('output voltage for sine wave input is %.3f volt'%Vo1)\n",
      "print('output voltage for square wave input is %d volt'%Vo2)\n",
      "print('output voltage for step input is %d volt'%Vo3)\n",
      "\n",
      "##############(1)#############\n",
      "t = arange(0.001, 1, 0.005)\n",
      "k = arange(0.0001, 0.2, 0.0005)\n",
      "subplot(221)\n",
      "plot(t, sin(16*t))\n",
      "plot(t,0.637*cos(16*t))\n",
      "plot(t,(0*t)/t,'-')\n",
      "plot(k,(-0.637*k)/k,'--')\n",
      "ylim( (-1,1) )\n",
      "text(-0.11,-0.637,'-0.637')\n",
      "text(0.2,0.2,'Green = Vo')\n",
      "text(0.07,0.5,'Blue = Vi')\n",
      "ylabel('Vin')\n",
      "xlabel('time in ms')\n",
      "title('Input & output waveforms of integrator')\n",
      "\n",
      "##############(2)#################\n",
      "n = arange(0.0001,0.2, 0.0005)\n",
      "n1= arange(0.2, 2*0.2, 0.0005)\n",
      "n2= arange(2*0.2, 3*0.2, 0.0005)\n",
      "n3= arange(3*0.2,4*0.2, 0.0005)\n",
      "n4= arange(4*0.2,5*0.2, 0.0005)\n",
      "n5= arange(0.0001,5*0.2, 0.0005)\n",
      "\n",
      "a=arange(-1,1,0.0005)\n",
      "\n",
      "x5=(0.2*a)/a\n",
      "x10=(2*0.2*a)/a\n",
      "x15=(3*0.2*a)/a\n",
      "x25=(4*0.2*a)/a\n",
      "\n",
      "subplot(223)\n",
      "\n",
      "plot(n5,(0*n5)/n5,'-')\n",
      "plot(n,1*n/n,'b')\n",
      "plot(n1,-1*n1/n1,'b')\n",
      "plot(n2,1*n2/n2,'b')\n",
      "plot(n3,-1*n3/n3,'b')\n",
      "plot(n4,1*n4/n4,'b')\n",
      "\n",
      "plot(x5,a,'b')\n",
      "plot(x10,a,'b')\n",
      "plot(x15,a,'b')\n",
      "plot(x25,a,'b')\n",
      "\n",
      "plot(n,(-10*n+1),'r')\n",
      "plot(n1,(10*n-1),'r')\n",
      "plot(n+0.4,(-10*n+1),'r')\n",
      "plot(n3,(10*n-1),'r')\n",
      "\n",
      "ylim( (-1.1,1.1) )\n",
      "text(0.3,-0.4,'Red = Vo')\n",
      "text(0.05,0.5,'Blue = Vi')\n",
      "ylabel('Vin')\n",
      "xlabel('time in ms')\n",
      "\n",
      "###############(3)##################\n",
      "t = arange(0.0001, 1, 0.0005)\n",
      "t2 = arange(0.0001, 0.6, 0.0005)\n",
      "a=arange(-6,0.0001,0.0005)\n",
      "x=(0.6*a)/a\n",
      "subplot(222)\n",
      "plot(t,1*t/t,'r')\n",
      "plot(t,0*t/t,'--')\n",
      "plot(t2,-6*t2/t2,'--')\n",
      "plot(x,a,'--')\n",
      "plot(t,(-10*t),'b')\n",
      "text(0.4,-4,'Vo')\n",
      "text(0.3,1.1,'Vi')\n",
      "xlabel('time in ms')"
     ],
     "language": "python",
     "metadata": {},
     "outputs": [
      {
       "output_type": "stream",
       "stream": "stdout",
       "text": [
        "fa= 159 Hz\n",
        "output voltage for sine wave input is 0.637 volt\n",
        "output voltage for square wave input is -2 volt\n",
        "output voltage for step input is -6 volt\n"
       ]
      },
      {
       "metadata": {},
       "output_type": "pyout",
       "prompt_number": 33,
       "text": [
        "<matplotlib.text.Text at 0xce594e0>"
       ]
      },
      {
       "metadata": {},
       "output_type": "display_data",
       "png": "[encoded data removed]",
       "text": [
        "<matplotlib.figure.Figure at 0xcb7c6a0>"
       ]
      }
     ],
     "prompt_number": 33
    },
    {
     "cell_type": "markdown",
     "metadata": {},
     "source": [
      "<h3>Example No: 4.10, Page No: 210<h3>"
     ]
    },
    {
     "cell_type": "code",
     "collapsed": false,
     "input": [
      "\n",
      "#Variable Declaration:\n",
      "import math\n",
      "fa=1.0*10**3              #Upper cut off frequency in hertz\n",
      "C1=1.0*10**-6             #Capacitance in farad\n",
      "\n",
      "#Calculations:\n",
      "Rf=1/(2*math.pi*fa*C1)    #Calculating value of resistance\n",
      "Rf=Rf/100.0               #Calculating value of resistance \n",
      "\n",
      "#Results:\n",
      "print('Rf= %.2f kohm'%Rf)"
     ],
     "language": "python",
     "metadata": {},
     "outputs": [
      {
       "output_type": "stream",
       "stream": "stdout",
       "text": [
        "Rf= 1.59 kohm\n"
       ]
      }
     ],
     "prompt_number": 34
    },
    {
     "cell_type": "markdown",
     "metadata": {},
     "source": [
      "<h3>Example No. 4.11, Page No: 213<h3>"
     ]
    },
    {
     "cell_type": "code",
     "collapsed": false,
     "input": [
      "\n",
      "#Variable Declaration:\n",
      "import math\n",
      "import pylab\n",
      "import numpy\n",
      "fa=200.0                  #frequency in hertz\n",
      "fmax=fa                   #frequency fmax is equal to fa\n",
      "C1=0.1*10**-6             #Capacitance in farad\n",
      "\n",
      "#Calculations:\n",
      "             \n",
      "Rf=1/(2*math.pi*fa*C1)    #Calcukating resistance value \n",
      "Rf=Rf/1000.0              #Calculating resistance value\n",
      "\n",
      "fb=10.0*fa                #Calculating frequency\n",
      "R1=1/(2*math.pi*fb*C1)    #Calculating resistance \n",
      "R1=R1/1000.0              #Calculating resistance\n",
      "\n",
      "Cf=R1*C1/Rf               #Calculating capacitance \n",
      "Cf=Cf*10**6               #Calculating capacitance\n",
      "\n",
      "subplot(211)\n",
      "plot(t,1*sin(2*pi*t))\n",
      "\n",
      "ylim( (-1,1) )\n",
      "ylabel('Vin')\n",
      "title('Input Waveform')\n",
      "\n",
      "\n",
      "#Results:\n",
      "print('Rf= %.3f kohm'%Rf)\n",
      "print('\\nR1= %.3f kohm'%R1)\n",
      "print('\\nCf= %.2f uF'%Cf)\n",
      "\n",
      "############PLOT###################\n",
      "\n",
      "##########(1)###############\n",
      "t = arange(0.001, 5*pi, 0.005)\n",
      "subplot(221)\n",
      "plot(t, sin(pi*t/4))\n",
      "plot(t,(0*t)/t,'-')\n",
      "ylim( (-1,1) )\n",
      "ylabel('Vin')\n",
      "title('Input Waveform')\n",
      "\n",
      "###########(2)#######\n",
      "subplot(223)\n",
      "plot(t, cos((pi*t/4-135)))\n",
      "plot(t,(0*t)/t,'-')\n",
      "ylim( (-1,1) )\n",
      "ylabel('Vout')\n",
      "xlabel('(a)')\n",
      "title('Output Waveform')\n",
      "\n",
      "##########(3)#########\n",
      "k = arange(0.0001, pi, 0.0005)\n",
      "k1= arange(pi, 2*pi, 0.0005)\n",
      "k2= arange(2*pi, 3*pi, 0.0005)\n",
      "k3= arange(3*pi,4*pi, 0.0005)\n",
      "k4= arange(4*pi,5*pi, 0.0005)\n",
      "m=arange(-1,1,0.0005)\n",
      "x5=(pi*m)/m\n",
      "x10=(2*pi*m)/m\n",
      "x15=(3*pi*m)/m\n",
      "x25=(4*pi*m)/m\n",
      "subplot(222)\n",
      "plot(t,(0*t)/t,'-')\n",
      "plot(k,1*k/k,'b')\n",
      "plot(k1,-1*k1/k1,'b')\n",
      "plot(k2,1*k2/k2,'b')\n",
      "plot(k3,-1*k3/k3,'b')\n",
      "plot(k4,1*k4/k4,'b')\n",
      "plot(x5,m,'b')\n",
      "plot(x10,m,'b')\n",
      "plot(x15,m,'b')\n",
      "plot(x25,m,'b')\n",
      "ylim( (-1.1,1.1) )\n",
      "ylabel('Vin')\n",
      "title('Input Waveform')\n",
      "\n",
      "############(4)############\n",
      "subplot(224)\n",
      "m1=arange(0.001,13,0.0005)\n",
      "m2=arange(-13,0.001,0.0005)\n",
      "y1=(0.01*pi*m2)/m2\n",
      "y5=(pi*m1)/m1\n",
      "y10=(2*pi*m2)/m2\n",
      "y15=(3*pi*m1)/m1\n",
      "y25=(4*pi*m2)/m2\n",
      "plot(t,(0*t)/t,'-')\n",
      "plot(y5,m1,'b')\n",
      "plot(y10,m2,'b')\n",
      "plot(y1,m2,'b')\n",
      "plot(y15,m1,'b')\n",
      "plot(y25,m2,'b')\n",
      "plot(y5+0.1,m1,'b')\n",
      "plot(y10+0.1,m2,'b')\n",
      "plot(y1+0.1,m2,'b')\n",
      "plot(y15+0.1,m1,'b')\n",
      "plot(y25+0.1,m2,'b')\n",
      "text(-2.5,13,'Vsat')\n",
      "text(-2.5,-13,'-Vsat')\n",
      "ylim(-13,13)\n",
      "ylabel('Vout')\n",
      "xlabel('(b)')\n",
      "title('Output Waveform')"
     ],
     "language": "python",
     "metadata": {},
     "outputs": [
      {
       "output_type": "stream",
       "stream": "stdout",
       "text": [
        "Rf= 7.958 kohm\n",
        "\n",
        "R1= 0.796 kohm\n",
        "\n",
        "Cf= 0.01 uF\n"
       ]
      },
      {
       "metadata": {},
       "output_type": "pyout",
       "prompt_number": 35,
       "text": [
        "<matplotlib.text.Text at 0xd0e5c18>"
       ]
      },
      {
       "metadata": {},
       "output_type": "display_data",
       "png": "[encoded data removed]",
       "text": [
        "<matplotlib.figure.Figure at 0xcb7cc18>"
       ]
      }
     ],
     "prompt_number": 35
    },
    {
     "cell_type": "markdown",
     "metadata": {},
     "source": [
      "<h3>Example No.4.13, Page No: 226<h3>"
     ]
    },
    {
     "cell_type": "code",
     "collapsed": false,
     "input": [
      "import sympy\n",
      "from sympy import *\n",
      "sympy.init_printing()\n",
      "\n",
      "s = Symbol(\"s\")\n",
      "H = 4/(s**2+3.3*s+0.9)\n",
      "print(\"The given transfer function is:\")\n",
      "display(H.simplify())\n",
      "print(\"\\n\\n\\nThe above transfer function can be represented after factoring as given by:\")\n",
      "display(factor(H))"
     ],
     "language": "python",
     "metadata": {},
     "outputs": [
      {
       "output_type": "stream",
       "stream": "stdout",
       "text": [
        "The given transfer function is:\n"
       ]
      },
      {
       "latex": [
        "$$\\frac{4}{s^{2} + 3.3 s + 0.9}$$"
       ],
       "metadata": {},
       "output_type": "display_data",
       "text": [
        "       4        \n",
        "\u2500\u2500\u2500\u2500\u2500\u2500\u2500\u2500\u2500\u2500\u2500\u2500\u2500\u2500\u2500\u2500\n",
        " 2              \n",
        "s  + 3.3\u22c5s + 0.9"
       ]
      },
      {
       "output_type": "stream",
       "stream": "stdout",
       "text": [
        "\n",
        "\n",
        "\n",
        "The above transfer function can be represented after factoring as given by:\n"
       ]
      },
      {
       "latex": [
        "$$\\frac{40.0}{\\left(1.0 s + 3.0\\right) \\left(10.0 s + 3.0\\right)}$$"
       ],
       "metadata": {},
       "output_type": "display_data",
       "text": [
        "            40.0            \n",
        "\u2500\u2500\u2500\u2500\u2500\u2500\u2500\u2500\u2500\u2500\u2500\u2500\u2500\u2500\u2500\u2500\u2500\u2500\u2500\u2500\u2500\u2500\u2500\u2500\u2500\u2500\u2500\u2500\n",
        "(1.0\u22c5s + 3.0)\u22c5(10.0\u22c5s + 3.0)"
       ]
      }
     ],
     "prompt_number": 42
    }
   ],
   "metadata": {}
  }
 ]
}