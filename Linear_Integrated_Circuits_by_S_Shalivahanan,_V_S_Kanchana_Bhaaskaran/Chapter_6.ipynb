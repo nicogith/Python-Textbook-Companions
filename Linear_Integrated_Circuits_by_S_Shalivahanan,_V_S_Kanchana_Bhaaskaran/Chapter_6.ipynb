{
 "metadata": {
  "name": ""
 },
 "nbformat": 3,
 "nbformat_minor": 0,
 "worksheets": [
  {
   "cells": [
    {
     "cell_type": "markdown",
     "metadata": {},
     "source": [
      "<h1>Chapter 6: Active Filters<h1>"
     ]
    },
    {
     "cell_type": "markdown",
     "metadata": {},
     "source": [
      "<h3>Example No. 6.1, Page NO: 269<h3>"
     ]
    },
    {
     "cell_type": "code",
     "collapsed": false,
     "input": [
      "%matplotlib inline"
     ],
     "language": "python",
     "metadata": {},
     "outputs": [
      {
       "output_type": "stream",
       "stream": "stdout",
       "text": [
        "Populating the interactive namespace from numpy and matplotlib\n"
       ]
      },
      {
       "output_type": "stream",
       "stream": "stderr",
       "text": [
        "WARNING: pylab import has clobbered these variables: ['f']\n",
        "`%pylab --no-import-all` prevents importing * from pylab and numpy\n"
       ]
      }
     ],
     "prompt_number": 17
    },
    {
     "cell_type": "code",
     "collapsed": false,
     "input": [
      "\n",
      "#Variable Declaration:\n",
      "import math\n",
      "fH=10.0*10**3                       #Frequency in hertz\n",
      "f=12.0*10**3                        #Frequency in hertz\n",
      "\n",
      "#Calculations:\n",
      "t=(f**2/fH**2)                      \n",
      "Hif=1/(math.sqrt(1+t))              #Calculating magnitude of voltage tranfer fuction\n",
      "Hifdb=20*math.log(Hif)/math.log(10) #Calculating magnitude of voltage tranfer fuction\n",
      "\n",
      "#Result:\n",
      "print('Delta Vi=%.2f dB'%Hifdb)"
     ],
     "language": "python",
     "metadata": {},
     "outputs": [
      {
       "output_type": "stream",
       "stream": "stdout",
       "text": [
        "Delta Vi=-3.87 dB\n"
       ]
      }
     ],
     "prompt_number": 18
    },
    {
     "cell_type": "markdown",
     "metadata": {},
     "source": [
      "<h3>Example No. 6.2, Page No: 270<h3>"
     ]
    },
    {
     "cell_type": "code",
     "collapsed": false,
     "input": [
      "\n",
      "#Variable Declaration:\n",
      "import math\n",
      "fh=2000.0                    #Cut-off frequency in hertz\n",
      "A=2.0                        #Gain\n",
      "C=0.01*10**-6                #Capacitance in farad\n",
      "\n",
      "#Calculations:\n",
      "R=1/(2*math.pi*fh*C)         #Calculating value of resistance\n",
      "R=R/1000.0                   #Calculating resistance value\n",
      "\n",
      "#Results:\n",
      "print('R= %.3f kohm'%R)\n",
      "#Rf/Ri=A-1\n",
      "print('\\n Hence Rf=Ri=10kohm')"
     ],
     "language": "python",
     "metadata": {},
     "outputs": [
      {
       "output_type": "stream",
       "stream": "stdout",
       "text": [
        "R= 7.958 kohm\n",
        "\n",
        " Hence Rf=Ri=10kohm\n"
       ]
      }
     ],
     "prompt_number": 19
    },
    {
     "cell_type": "markdown",
     "metadata": {},
     "source": [
      "<h3>Example No.6.3, Page No: 272<h3>"
     ]
    },
    {
     "cell_type": "code",
     "collapsed": false,
     "input": [
      "\n",
      "#Variable Declaration:\n",
      "import math\n",
      "fh=10.0*10**3             #Cut-off frequency in hertz \n",
      "f=12.0*10**3              #Signal freuency in hertz\n",
      "R=200.0*10**3             #Resistance value in ohm\n",
      "\n",
      "#Calaculations:\n",
      "RC=1/(2*math.pi*fh)       #Calculating value of resistance\n",
      "C=RC/R                    #Calculating value of capacitance \n",
      "C3=1.414*C                #Calculating value of capacitance\n",
      "C4=0.707*C                #Calculating value of capacitance \n",
      "\n",
      "t=(f**4/fh**4)            \n",
      "Hif=1/(math.sqrt(1+t))                 #Calculating magnitude of voltage tranfer fuction\n",
      "Hifdb=20*math.log(Hif)/math.log(10)    #Calculating magnitude of voltage tranfer fuction\n",
      "\n",
      "#Result:\n",
      "print('Hif= %.2f dB'%Hifdb)"
     ],
     "language": "python",
     "metadata": {},
     "outputs": [
      {
       "output_type": "stream",
       "stream": "stdout",
       "text": [
        "Hif= -4.88 dB\n"
       ]
      }
     ],
     "prompt_number": 20
    },
    {
     "cell_type": "markdown",
     "metadata": {},
     "source": [
      "<h3> Example 6.4, Page No-275<h3>"
     ]
    },
    {
     "cell_type": "code",
     "collapsed": false,
     "input": [
      "\n",
      "#Variable Declaration:\n",
      "import math\n",
      "N=2.0                    #Order of filter\n",
      "fh=2.0*10**3             #upper cut-off frequency in hertz\n",
      "C=0.1*10**-6             #Capacitance value in farad\n",
      "alpha=1.414              #Value of damping coefficient\n",
      "\n",
      "#Calculations:\n",
      "R=1/(2*math.pi*fh*C)     #Calculating resistance value\n",
      "Rkohm=R/1000.0           #Calculating resistance value\n",
      "A=3-alpha                #Calculating passband gain\n",
      "RfbyRi=A-1               #Calculating ratio Rf/Ri\n",
      "\n",
      "#Results:\n",
      "print('R= %.1f kohm'%Rkohm)\n",
      "print('\\nRf/Ri= %.3f'%RfbyRi)\n",
      "print('\\nHence, take Rf=5.86 kohm and Ri=10 kohm')"
     ],
     "language": "python",
     "metadata": {},
     "outputs": [
      {
       "output_type": "stream",
       "stream": "stdout",
       "text": [
        "R= 0.8 kohm\n",
        "\n",
        "Rf/Ri= 0.586\n",
        "\n",
        "Hence, take Rf=5.86 kohm and Ri=10 kohm\n"
       ]
      }
     ],
     "prompt_number": 21
    },
    {
     "cell_type": "markdown",
     "metadata": {},
     "source": [
      "<h3>Example No.6.5, Page No: 276<h3>"
     ]
    },
    {
     "cell_type": "code",
     "collapsed": false,
     "input": [
      "\n",
      "#Variable declaration:\n",
      "import math\n",
      "\n",
      "fh=10.0*10**3           #cut-off frequency in hertz\n",
      "f=12.0*10**3            #Signal frequency in hertz\n",
      "\n",
      "#For third order low pass butterworth filter\n",
      "\n",
      "#Calculations:\n",
      "t=(f**6/fh**6)        \n",
      "Hif=1/(math.sqrt(1+t))                 #Calculating magnitude of voltage transfer function\n",
      "Hifdb=20*math.log(Hif)/math.log(10)    #Calculating magnitude of voltage transfer function\n",
      "\n",
      "#Result:\n",
      "print('Hif= %.4f dB'%Hifdb)\n",
      "\n",
      "#For fourth order low pass butterworth filter\n",
      "\n",
      "#Calculation:\n",
      "t=(f**8/fh**8)\n",
      "Hif=1/(math.sqrt(1+t))\n",
      "Hifdb=20*math.log(Hif)/math.log(10)\n",
      "\n",
      "#Result:\n",
      "print('\\nHif= %.2f dB'%Hifdb)"
     ],
     "language": "python",
     "metadata": {},
     "outputs": [
      {
       "output_type": "stream",
       "stream": "stdout",
       "text": [
        "Hif= -6.0054 dB\n",
        "\n",
        "Hif= -7.24 dB\n"
       ]
      }
     ],
     "prompt_number": 22
    },
    {
     "cell_type": "markdown",
     "metadata": {},
     "source": [
      "<h3>Example No. 6.6, Page No: 276 <h3>"
     ]
    },
    {
     "cell_type": "code",
     "collapsed": false,
     "input": [
      "\n",
      "#Variable Declaration:\n",
      "import math\n",
      "N=2.0                    #Order of filter\n",
      "fh=2000.0                #cut-off frequency in hertz\n",
      "C=0.1*10**-6             #Capacitance values in farad\n",
      "alpha1=0.765             #damping coefficient\n",
      "alpha2=1.848             #damping coefficient\n",
      "\n",
      "#Calculations:\n",
      "R=1/(2*math.pi*fh*C)     #Calculating resistance value\n",
      "Rkohm=R/1000.0           #Calculating resistance value\n",
      "\n",
      "A1=3-alpha1              #Calculating passband gain\n",
      "A2=3-alpha2              #Calculating passband gain\n",
      "\n",
      "Rf1byRi1=A1-1            #Calculating Rf1/Ri1 ratio\n",
      "Rf2byRi2=A2-1            #Calculating Rf2/Ri2 ratio\n",
      "\n",
      "#Results:\n",
      "print('R= %.1f kohm'%Rkohm)\n",
      "print('\\nRf1/Ri1= %.3f'%Rf1byRi1)\n",
      "print('\\nHence, take Rf1=12.35 kohm and Ri1=10 kohm')\n",
      "print('\\nRf2/Ri2= %.3f'%Rf2byRi2)\n",
      "print('\\nHence, take Rf2=15.2 kohm and Ri2=100 kohm')"
     ],
     "language": "python",
     "metadata": {},
     "outputs": [
      {
       "output_type": "stream",
       "stream": "stdout",
       "text": [
        "R= 0.8 kohm\n",
        "\n",
        "Rf1/Ri1= 1.235\n",
        "\n",
        "Hence, take Rf1=12.35 kohm and Ri1=10 kohm\n",
        "\n",
        "Rf2/Ri2= 0.152\n",
        "\n",
        "Hence, take Rf2=15.2 kohm and Ri2=100 kohm\n"
       ]
      }
     ],
     "prompt_number": 23
    },
    {
     "cell_type": "markdown",
     "metadata": {},
     "source": [
      "<h3>Example No.  6.7, Page No: 279<h3>"
     ]
    },
    {
     "cell_type": "code",
     "collapsed": false,
     "input": [
      "\n",
      "#Variable Declaration:\n",
      "import math\n",
      "A=2.0                     #Gain\n",
      "fL=2.0*10**3              #Frequency in hertz\n",
      "C=0.01*10**-6             #Capacitance value in farad\n",
      "\n",
      "#Calculations:\n",
      "R=1/(2*math.pi*fL*C)      #Calculating value of resistance\n",
      "Rkohm=R/1000.0            #Calculating value of resistance\n",
      "RfbyRi=A-1                #Calculating ratio Rf/Ri\n",
      "\n",
      "#Results:\n",
      "print('R= %.1f kohm'%Rkohm)\n",
      "print('\\nRf/Ri= %.3f'%RfbyRi)\n",
      "print('\\nHence, take Rf=10 kohm and Ri=10 kohm')"
     ],
     "language": "python",
     "metadata": {},
     "outputs": [
      {
       "output_type": "stream",
       "stream": "stdout",
       "text": [
        "R= 8.0 kohm\n",
        "\n",
        "Rf/Ri= 1.000\n",
        "\n",
        "Hence, take Rf=10 kohm and Ri=10 kohm\n"
       ]
      }
     ],
     "prompt_number": 24
    },
    {
     "cell_type": "markdown",
     "metadata": {},
     "source": [
      "<h3>Example No: 6.8, Page No: 282<h3>"
     ]
    },
    {
     "cell_type": "code",
     "collapsed": false,
     "input": [
      "\n",
      "#Variable Declaration:\n",
      "import math\n",
      "\n",
      "R2=16.0*10**3           #Resistance in ohm\n",
      "R3=16.0*10**3           #Resistance in ohm\n",
      "Rf=15.8*10**3           #Resistance in ohm\n",
      "Ri=27.0*10**3           #Resistance in ohm\n",
      "C2=0.01*10**-6          #Capacitance in farad\n",
      "C3=0.01*10**-6          #Capacitance in farad\n",
      "\n",
      "#Calculations:\n",
      "fL=1/(2*math.pi*math.sqrt(R2*R3*C2*C3))  #Calculating lower cut-off frequency\n",
      "fL=fL/1000.0                             #Calculating lower cut-off frequency\n",
      "A=1+Rf/Ri                                #Calculating passband gain\n",
      "\n",
      "#Results:\n",
      "print('\\nfL= %.1f kHz'%fL)\n",
      "print('\\nA= %.3f'%A)\n",
      "\n",
      "a=[-35.99,-23.96,-3.12,1.00,3.95,4.00,4.01,4.01,4.01]\n",
      "b=[log10(100),log10(200),log10(700),log10(1000),log10(3000),log10(7000),log10(10000),log10(30000),log10(100000)]\n",
      "plot(b,a,'b')\n",
      "plot(log10(100),-35.99,'o')\n",
      "plot(log10(200),-23.96,'o')\n",
      "plot(log10(700),-3.12,'o')\n",
      "plot(log10(1000),1.00,'o')\n",
      "plot(log10(3000),3.95,'o')\n",
      "plot(log10(7000),4.00,'o')\n",
      "plot(log10(10000),4.01,'o')\n",
      "plot(log10(30000),4.01,'o')\n",
      "plot(log10(100000),4.01,'o')\n",
      "m=arange(-40,1,0.0005)\n",
      "x5=(3*m)/m\n",
      "plot(x5,m,'--')\n",
      "k = arange(2.0001,3.5, 0.0005)\n",
      "plot(k,4.006*k/k,'--')\n",
      "text(1.6,4.006,'+4.006')\n",
      "text(3.3,-38,'Passband')\n",
      "text(2.3,-38,'Stopband')\n",
      "text(2.2,-10,'40 dB/decade')\n",
      "text(3,2,'3dB')\n",
      "title('Frequency response of ssecond order high-pass filter')\n",
      "ylabel('Voltage gain in dB')\n",
      "xlabel('frequency index n where n=log(f)')"
     ],
     "language": "python",
     "metadata": {},
     "outputs": [
      {
       "output_type": "stream",
       "stream": "stdout",
       "text": [
        "\n",
        "fL= 1.0 kHz\n",
        "\n",
        "A= 1.585\n"
       ]
      },
      {
       "metadata": {},
       "output_type": "pyout",
       "prompt_number": 25,
       "text": [
        "<matplotlib.text.Text at 0x8410ba8>"
       ]
      },
      {
       "metadata": {},
       "output_type": "display_data",
       "png": "[encoded data removed]",
       "text": [
        "<matplotlib.figure.Figure at 0x5070fd0>"
       ]
      }
     ],
     "prompt_number": 25
    },
    {
     "cell_type": "markdown",
     "metadata": {},
     "source": [
      "<h3>Example No. 6.9, Page No: 284<h3>"
     ]
    },
    {
     "cell_type": "code",
     "collapsed": false,
     "input": [
      "\n",
      "#Variable Declaration:\n",
      "import math\n",
      "fh=50000.0             #frequency in hertz\n",
      "C=0.001*10**-6         #capacitance in farad\n",
      "\n",
      "#Calculations:\n",
      "R=1/(2.0*math.pi*fh*C)      #Calculating value of resistance\n",
      "Rkohm=R/1000.0              #Calculating value of resistance\n",
      "\n",
      "R1=R/1.082                  #Calculating value of resistance\n",
      "R2=R/0.9241                 #Calculating value of resistance\n",
      "R3=R/2.613                  #Calculating value of resistance\n",
      "R4=R/0.3825                 #Calculating value of resistance\n",
      "Hif=0.02\n",
      "s=(Hif**2)/(1-Hif**2)       \n",
      "s1=s**0.125                 \n",
      "f=fh/1.6815 * s1            #Calculating value of frequency\n",
      "fkhz=f/1000.0               #Calculating value of frequency\n",
      "\n",
      "#Results:\n",
      "print('R= %.3f kohm'%Rkohm)\n",
      "print('\\nR1= %.3f kohm'% (R1/1000))\n",
      "print('\\nR2= %.3f kohm'% (R2/1000))\n",
      "print('\\nR3= %.3f kohm'% (R3/1000))\n",
      "print('\\nR4= %.3f kohm'% (R4/1000))\n",
      "print('\\nf= %.2f kHz'% fkhz)"
     ],
     "language": "python",
     "metadata": {},
     "outputs": [
      {
       "output_type": "stream",
       "stream": "stdout",
       "text": [
        "R= 3.183 kohm\n",
        "\n",
        "R1= 2.942 kohm\n",
        "\n",
        "R2= 3.445 kohm\n",
        "\n",
        "R3= 1.218 kohm\n",
        "\n",
        "R4= 8.322 kohm\n",
        "\n",
        "f= 11.18 kHz\n"
       ]
      }
     ],
     "prompt_number": 26
    },
    {
     "cell_type": "markdown",
     "metadata": {},
     "source": [
      "<h3>Example No. 6.10, Page No: 286<h3>"
     ]
    },
    {
     "cell_type": "code",
     "collapsed": false,
     "input": [
      "\n",
      "#Variable Declaration:\n",
      "import math\n",
      "fh=2500.0                   #Frequency in hertz\n",
      "fL=250.0                    #Frequency in hertz\n",
      "\n",
      "#Calculations:\n",
      "B=fh-fL                     #Calculating bandwidth\n",
      "fr=math.sqrt(fh*fL)         #Calculating frequency\n",
      "fc=(fL+fh)/2                #Calculating frequency\n",
      "\n",
      "#Results:\n",
      "print('Bandwdth B= %d Hz'%B)\n",
      "print('\\nResonant Frequency fr= %.2f Hz'%fr)\n",
      "print('\\nCenter Frequency fr= %d Hz'%fc)\n",
      "print('\\nHence, resonant frequency is always less than center frequency')"
     ],
     "language": "python",
     "metadata": {},
     "outputs": [
      {
       "output_type": "stream",
       "stream": "stdout",
       "text": [
        "Bandwdth B= 2250 Hz\n",
        "\n",
        "Resonant Frequency fr= 790.57 Hz\n",
        "\n",
        "Center Frequency fr= 1375 Hz\n",
        "\n",
        "Hence, resonant frequency is always less than center frequency\n"
       ]
      }
     ],
     "prompt_number": 27
    },
    {
     "cell_type": "markdown",
     "metadata": {},
     "source": [
      "<h3>Example No. 6.11, Page No: 286<h3>"
     ]
    },
    {
     "cell_type": "code",
     "collapsed": false,
     "input": [
      "\n",
      "#Variable Declaration:\n",
      "import math\n",
      "#Part A\n",
      "fr=1000.0           #Frequency in hertz\n",
      "B=3000.0            #Bandwidth in hertz\n",
      "\n",
      "#Calculations:\n",
      "Q=fr/B              #Calculation Quality factor \n",
      "\n",
      "#Part B\n",
      "fL= math.sqrt((B*B/4)+fr**2) - B/2 #Calculating lower cut-off frequency\n",
      "\n",
      "#Part C\n",
      "fh=fL+B                            #Calculating high cut-off frequency \n",
      "\n",
      "#Results:\n",
      "print('Quality factor Q= %.2f '%Q)\n",
      "print('Since Q<0.5, this is a wideband filter')\n",
      "print('\\nfL= %.2f Hz'%fL) \n",
      "print('\\nfh= %.2f Hz'%fh)"
     ],
     "language": "python",
     "metadata": {},
     "outputs": [
      {
       "output_type": "stream",
       "stream": "stdout",
       "text": [
        "Quality factor Q= 0.33 \n",
        "Since Q<0.5, this is a wideband filter\n",
        "\n",
        "fL= 302.78 Hz\n",
        "\n",
        "fh= 3302.78 Hz\n"
       ]
      }
     ],
     "prompt_number": 28
    },
    {
     "cell_type": "markdown",
     "metadata": {},
     "source": [
      "<h3>Example No: 6.12, Page No: 288<h3>"
     ]
    },
    {
     "cell_type": "code",
     "collapsed": false,
     "input": [
      "\n",
      "#Variable Declaration:\n",
      "import math\n",
      "# Part A\n",
      "#For a bandpass filter\n",
      "R=20000.0                          #Resistance in ohm\n",
      "Rr=2700.0                          #Resistance in ohm\n",
      "C=0.01*10**-6                      #Capacitance in farad\n",
      "\n",
      "#Calculations:\n",
      "fr=0.1125*(math.sqrt(1+R/Rr))/(R*C)   #Calculating resonant frequency\n",
      "\n",
      "#Part B\n",
      "B=0.1591/(R*C)                        #Calculating Bandwidth\n",
      "\n",
      "#Results:\n",
      "print('Resonant frequency= %.1f Hz'%fr)\n",
      "print('\\nBandwidth= %.1f Hz'%B)"
     ],
     "language": "python",
     "metadata": {},
     "outputs": [
      {
       "output_type": "stream",
       "stream": "stdout",
       "text": [
        "Resonant frequency= 1631.0 Hz\n",
        "\n",
        "Bandwidth= 795.5 Hz\n"
       ]
      }
     ],
     "prompt_number": 29
    },
    {
     "cell_type": "markdown",
     "metadata": {},
     "source": [
      "<h3>Example NO. 6.13, Page No: 289<h3>"
     ]
    },
    {
     "cell_type": "code",
     "collapsed": false,
     "input": [
      "\n",
      "#Variable Declaration:\n",
      "fr=200.0                     #Resonant frequency in hertz\n",
      "B=20.0                       #Bandwidth in hertz\n",
      "C=0.33*10**-6                #Capacitance in farad\n",
      "\n",
      "#Calculations:\n",
      "Q=fr/B                       #Calculating quality factor\n",
      "    \n",
      "R=0.1591/(B*C)               #Calculating resistance value\n",
      "Rr=R/(2.0*Q*Q-1)             #Calculating resistance value\n",
      "R=R/1000.0                   #Calculating resistance value\n",
      "\n",
      "#Results:\n",
      "print('\\nR= %.1f kohm'%R)\n",
      "print('\\nRr= %.1f ohm'% Rr)"
     ],
     "language": "python",
     "metadata": {},
     "outputs": [
      {
       "output_type": "stream",
       "stream": "stdout",
       "text": [
        "\n",
        "R= 24.1 kohm\n",
        "\n",
        "Rr= 121.1 ohm\n"
       ]
      }
     ],
     "prompt_number": 30
    },
    {
     "cell_type": "markdown",
     "metadata": {},
     "source": [
      "<h3>Example No. 6.14, Page NO: 307<h3>"
     ]
    },
    {
     "cell_type": "code",
     "collapsed": false,
     "input": [
      "\n",
      "#Variable Declaration:\n",
      "R=1.0*10**6                   #Resistance in ohm\n",
      "C=40.0*10**-12                #Capacitance value\n",
      "\n",
      "#Calculations:\n",
      "fck=1/(R*C)                   #Calculating clock frequency\n",
      "fck=fck/1000                  #Calculating clock frequency\n",
      "\n",
      "#Result:\n",
      "print('Fck= %.1f kHz'%fck)"
     ],
     "language": "python",
     "metadata": {},
     "outputs": [
      {
       "output_type": "stream",
       "stream": "stdout",
       "text": [
        "Fck= 25.0 kHz\n"
       ]
      }
     ],
     "prompt_number": 31
    }
   ],
   "metadata": {}
  }
 ]
}