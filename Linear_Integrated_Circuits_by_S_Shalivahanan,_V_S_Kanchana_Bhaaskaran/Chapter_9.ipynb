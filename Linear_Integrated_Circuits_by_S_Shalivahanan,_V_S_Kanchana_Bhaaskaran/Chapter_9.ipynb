{
 "metadata": {
  "name": "ch_9"
 }, 
 "nbformat": 2, 
 "worksheets": [
  {
   "cells": [
    {
     "cell_type": "markdown", 
     "source": [
      "<h1>Chapter 9:Analog Multipliers<h1>"
     ]
    }, 
    {
     "cell_type": "markdown", 
     "source": [
      "<h3>Example No. 9.1, Page No:411<h3>"
     ]
    }, 
    {
     "cell_type": "code", 
     "collapsed": false, 
     "input": [
      "", 
      "#Variable Declaration:", 
      "import math", 
      "", 
      "#Calculations:", 
      "#Part 1", 
      "th1=math.acos(0)", 
      "th=th1*180/math.pi               #Calculating theta", 
      "#Part 2", 
      "Vodc=4.47*4.47*math.cos(th1)/20  #Calculating output voltage ", 
      "#For theta=+/-30 deg", 
      "Vodc1=math.cos(30*math.pi/180)   #Calculating output voltage for theta 30", 
      "#For theta=+/-45 deg", 
      "Vodc2=math.cos(45*math.pi/180)   #Calculating output voltage for theta 45", 
      "#For theta=+/-60 deg", 
      "Vodc3=math.cos(60*math.pi/180)   #Calculating output voltage for theta 60", 
      "", 
      "#Results:", 
      "print('Theta= + or - %d degree'%th)", 
      "print('\\nVodc for 30 degree= %.3f V'%Vodc1)", 
      "print('\\nVodc for 45 degree= %.3f V'% Vodc2)", 
      "print('\\nVodc for 60 degree= %.1f V'% Vodc3)"
     ], 
     "language": "python", 
     "outputs": [
      {
       "output_type": "stream", 
       "stream": "stdout", 
       "text": [
        "Theta= + or - 90 degree", 
        "", 
        "Vodc for 30 degree= 0.866 V", 
        "", 
        "Vodc for 45 degree= 0.707 V", 
        "", 
        "Vodc for 60 degree= 0.5 V"
       ]
      }
     ], 
     "prompt_number": 1
    }, 
    {
     "cell_type": "code", 
     "collapsed": true, 
     "input": [], 
     "language": "python", 
     "outputs": []
    }
   ]
  }
 ]
}