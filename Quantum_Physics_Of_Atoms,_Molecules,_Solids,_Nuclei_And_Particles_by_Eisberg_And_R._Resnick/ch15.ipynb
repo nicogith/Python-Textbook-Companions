{
 "metadata": {
  "name": "",
  "signature": "sha256:07dabd304e22430ce1f181c3b2d1c0ff3f5fd33d98ec84ebf259dbfeb589139d"
 },
 "nbformat": 3,
 "nbformat_minor": 0,
 "worksheets": [
  {
   "cells": [
    {
     "cell_type": "heading",
     "level": 1,
     "metadata": {},
     "source": [
      "Chapter 15: Nuclear Models"
     ]
    },
    {
     "cell_type": "heading",
     "level": 2,
     "metadata": {},
     "source": [
      "Example 15.2, Page 516"
     ]
    },
    {
     "cell_type": "code",
     "collapsed": false,
     "input": [
      "#Variable declaration\n",
      "c=3*10**8#m/s\n",
      "k=500.#Mev\n",
      "\n",
      "#Calculations\n",
      "p=(k)/(c*6.2*10**12)\n",
      "h=6.63*10**-34#in j-s\n",
      "lamda=h/p\n",
      "angle=0.53#in rad\n",
      "r=lamda/angle\n",
      "\n",
      "#Results\n",
      "print \"The wavelength is  %.1e  m\"%lamda\n",
      "print \"The angle is  %.1e  m\"%r\n",
      "#answers vary due to rounding-off errors"
     ],
     "language": "python",
     "metadata": {},
     "outputs": [
      {
       "output_type": "stream",
       "stream": "stdout",
       "text": [
        "The wavelength is  2.5e-15  m\n",
        "The angle is  4.7e-15  m\n"
       ]
      }
     ],
     "prompt_number": 1
    },
    {
     "cell_type": "heading",
     "level": 2,
     "metadata": {},
     "source": [
      "Example 15.4, Page 522"
     ]
    },
    {
     "cell_type": "code",
     "collapsed": false,
     "input": [
      "#Variable declaration\n",
      "kb=4.44#in Mev\n",
      "ka=7.70#in Mev\n",
      "mb=1.\n",
      "mB=17\n",
      "ma=4.\n",
      "\n",
      "#Calculations&Results\n",
      "Q=(kb*(1+(mb/mB)))-(ka*(1-(ma/mB)))\n",
      "#Part a \n",
      "print \"The value of Q is %.2f  Mev\"%Q\n",
      "c=3*10**8#m/s\n",
      "m=Q/(931.5)\n",
      "print \"The atomic mass of Q is %.2e  u\"%m"
     ],
     "language": "python",
     "metadata": {},
     "outputs": [
      {
       "output_type": "stream",
       "stream": "stdout",
       "text": [
        "The value of Q is -1.19  Mev\n",
        "The atomic mass of Q is -1.27e-03  u\n"
       ]
      }
     ],
     "prompt_number": 2
    },
    {
     "cell_type": "heading",
     "level": 2,
     "metadata": {},
     "source": [
      "Example 15.5, Page 523"
     ]
    },
    {
     "cell_type": "code",
     "collapsed": false,
     "input": [
      "#Variable declaration\n",
      "M_He=4.0026033#*u, Mass of helium\n",
      "M1H1=1.00782525#*u, electron mass\n",
      "Mon1=1.0086654#*u, neutron mass\n",
      "\n",
      "#Calculations\n",
      "Mass=(2*M1H1)+(2*Mon1)\n",
      "delta_M=(Mass)-M_He\n",
      "\n",
      "#Result\n",
      "print \"The binding energy of helium is  %f*u\"%delta_M"
     ],
     "language": "python",
     "metadata": {},
     "outputs": [
      {
       "output_type": "stream",
       "stream": "stdout",
       "text": [
        "The binding energy of helium is  0.030378*u\n"
       ]
      }
     ],
     "prompt_number": 3
    },
    {
     "cell_type": "heading",
     "level": 2,
     "metadata": {},
     "source": [
      "Example 15.8, Page 531"
     ]
    },
    {
     "cell_type": "code",
     "collapsed": false,
     "input": [
      "#Variable declaration\n",
      "N=0.60\n",
      "\n",
      "#Calculations&Results\n",
      "rho=(N)/((4/3))\n",
      "print \"The density is  %.2f  /pi*a**3\"%rho\n",
      "h=6.63*10**-34#in j-s\n",
      "a=1.1#F\n",
      "M=1\n",
      "ef=43#in Mev\n",
      "En=7#in Mev\n",
      "Vo=ef+En\n",
      "print \"The depth of the net nuclear potential acting on neutron is %.f Mev\"%Vo"
     ],
     "language": "python",
     "metadata": {},
     "outputs": [
      {
       "output_type": "stream",
       "stream": "stdout",
       "text": [
        "The density is  0.60  /pi*a**3\n",
        "The depth of the net nuclear potential acting on neutron is 50 Mev\n"
       ]
      }
     ],
     "prompt_number": 4
    }
   ],
   "metadata": {}
  }
 ]
}