{
 "metadata": {
  "name": "",
  "signature": "sha256:c1a69d5541d90cd693ae070326ce132cabc096635d3f0424a79c26880b0ed05e"
 },
 "nbformat": 3,
 "nbformat_minor": 0,
 "worksheets": [
  {
   "cells": [
    {
     "cell_type": "heading",
     "level": 1,
     "metadata": {},
     "source": [
      "Chapter 10: Multielectron Atoms - Optical Excitations"
     ]
    },
    {
     "cell_type": "heading",
     "level": 2,
     "metadata": {},
     "source": [
      "Example 10.1, Page 352"
     ]
    },
    {
     "cell_type": "code",
     "collapsed": false,
     "input": [
      "#Variable declaration\n",
      "E3p=-3#in ev\n",
      "E3s=-5.1#in ev\n",
      "E=E3p-E3s\n",
      "E_Joule=E*1.6*10**-19#in Joule\n",
      "h=6.6*10**-34#in J-s\n",
      "c=3*10**8#in m/s\n",
      "\n",
      "#calculations&Results\n",
      "#Part a\n",
      "lamda=(h*c)/E_Joule\n",
      "print \"The wavelength is  %.1e  m\"%lamda\n",
      "\n",
      "#Part b\n",
      "d_lamda=(h*c*E_Joule)/(E_Joule)**2\n",
      "print \"The magnitude of seperation is  %.1e  m\"%d_lamda\n",
      "#Answer given in book for part b is wrong"
     ],
     "language": "python",
     "metadata": {},
     "outputs": [
      {
       "output_type": "stream",
       "stream": "stdout",
       "text": [
        "The wavelength is  5.9e-07  m\n",
        "The magnitude of seperation is  5.9e-07  m\n"
       ]
      }
     ],
     "prompt_number": 2
    },
    {
     "cell_type": "heading",
     "level": 2,
     "metadata": {},
     "source": [
      "Example 10.5, Page 368"
     ]
    },
    {
     "cell_type": "code",
     "collapsed": false,
     "input": [
      "#Variable declaration\n",
      "a=1.0*(1+1)\n",
      "x=a+a-a\n",
      "y=2*a\n",
      "g=1+(x/y)\n",
      "u=9.3*10**-24#amp-m2\n",
      "B=1./10#in Tesla\n",
      "\n",
      "#calculations\n",
      "delta_E=u*B*g\n",
      "\n",
      "#Result\n",
      "print \"The displace energy is  %.1e joule or %.1e eV\"%(delta_E,(delta_E*6.24*10**18))"
     ],
     "language": "python",
     "metadata": {},
     "outputs": [
      {
       "output_type": "stream",
       "stream": "stdout",
       "text": [
        "The displace energy is  1.4e-24 joule or 8.7e-06 eV\n"
       ]
      }
     ],
     "prompt_number": 3
    },
    {
     "cell_type": "heading",
     "level": 2,
     "metadata": {},
     "source": [
      "Example 10.6, Page 369"
     ]
    },
    {
     "cell_type": "code",
     "collapsed": false,
     "input": [
      "#Variable declaration\n",
      "h=6.6*10**-34#in J-s\n",
      "v=1*10**10#per sec\n",
      "ub=9.3*10**-24#in amp-m2\n",
      "\n",
      "#calculations\n",
      "B=(h*v)/(2*ub)\n",
      "\n",
      "#Result\n",
      "print \"The Magentic energy is  %.1e  Tesla\"%B"
     ],
     "language": "python",
     "metadata": {},
     "outputs": [
      {
       "output_type": "stream",
       "stream": "stdout",
       "text": [
        "The Magentic energy is  3.5e-01  Tesla\n"
       ]
      }
     ],
     "prompt_number": 4
    }
   ],
   "metadata": {}
  }
 ]
}