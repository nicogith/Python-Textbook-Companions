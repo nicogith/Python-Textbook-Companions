{
 "metadata": {
  "name": "",
  "signature": "sha256:d0b9137f221c1f89ed90ea5133297aae29cbdd48c73798b8562ff1a8fbffe501"
 },
 "nbformat": 3,
 "nbformat_minor": 0,
 "worksheets": [
  {
   "cells": [
    {
     "cell_type": "heading",
     "level": 1,
     "metadata": {},
     "source": [
      "Chapter 3: De Broglie's Postulate - Wavelike Properties of Particles"
     ]
    },
    {
     "cell_type": "heading",
     "level": 2,
     "metadata": {},
     "source": [
      "Example 3.1, Page 56"
     ]
    },
    {
     "cell_type": "code",
     "collapsed": false,
     "input": [
      "import math\n",
      "\n",
      "#Variable declaration\n",
      "m=1#in kg\n",
      "h=6.63*10**-34#Joule-sec\n",
      "v=10#in m/sec\n",
      "\n",
      "#Calculations & Results\n",
      "lamda=h/(m*v)\n",
      "print \"Part(a)\\n De broglie wavelength for v=10m/sec %.1e m\"%lamda\n",
      "\n",
      "#For KE=100ev\n",
      "m=9.1*10**-31\n",
      "K=100*1.6*10**-19#in Joules\n",
      "lamda=h/math.sqrt(2*m*K)\n",
      "print \"\\nPart(b)\\n De broglie wavelength is %.1e m\"%lamda"
     ],
     "language": "python",
     "metadata": {},
     "outputs": [
      {
       "output_type": "stream",
       "stream": "stdout",
       "text": [
        "Part(a)\n",
        " De broglie wavelength for v=10m/sec 6.6e-35 m\n",
        "\n",
        "Part(b)\n",
        " De broglie wavelength is 1.2e-10 m\n"
       ]
      }
     ],
     "prompt_number": 1
    },
    {
     "cell_type": "heading",
     "level": 2,
     "metadata": {},
     "source": [
      "Example 3.2, Page 60"
     ]
    },
    {
     "cell_type": "code",
     "collapsed": false,
     "input": [
      "#Variable declaration\n",
      "h=6.63*10**-34#Joule-sec\n",
      "v=1.635*10**3#m/s\n",
      "M=4*10**-3#in kg/mole\n",
      "No=6.02*10**23#atom/mole\n",
      "\n",
      "#Calculations & Results\n",
      "m=M/No\n",
      "print \"Mass of Helium atom is %.2e kg\"%m\n",
      "lamda=h/(m*v)\n",
      "print \"De broglie wavelength is %.1e m\"%lamda"
     ],
     "language": "python",
     "metadata": {},
     "outputs": [
      {
       "output_type": "stream",
       "stream": "stdout",
       "text": [
        "Mass of Helium atom is 6.64e-27 kg\n",
        "De broglie wavelength is 6.1e-11 m\n"
       ]
      }
     ],
     "prompt_number": 2
    },
    {
     "cell_type": "heading",
     "level": 2,
     "metadata": {},
     "source": [
      "Example 3.3, Page 69"
     ]
    },
    {
     "cell_type": "code",
     "collapsed": false,
     "input": [
      "import math\n",
      "\n",
      "#Calculations & Results\n",
      "#For electron\n",
      "m1=9.1*10**-31#in kg\n",
      "v=300#in m/s\n",
      "h=6.6*10**-34#in joule-sec\n",
      "p1=m1*v#delta v\n",
      "delta_p1=.0001*p1#m*delata_v in kg-m/sec\n",
      "delta_x1=(h)/(4*math.pi*delta_p1)\n",
      "print \"Position of electron %.e  m\"%delta_x1\n",
      "\n",
      "#For bullet\n",
      "m2=0.05#in kg\n",
      "p2=m2*v\n",
      "delta_p2=0.0001*p2#in kg-m/s\n",
      "delta_x2=(h)/(4*math.pi*delta_p2)\n",
      "print \"Position of bullet %.e  m\"%delta_x2"
     ],
     "language": "python",
     "metadata": {},
     "outputs": [
      {
       "output_type": "stream",
       "stream": "stdout",
       "text": [
        "Position of electron 2e-03  m\n",
        "Position of bullet 4e-32  m\n"
       ]
      }
     ],
     "prompt_number": 3
    },
    {
     "cell_type": "heading",
     "level": 2,
     "metadata": {},
     "source": [
      "Example 3.5, Page 75"
     ]
    },
    {
     "cell_type": "code",
     "collapsed": false,
     "input": [
      "import math\n",
      "\n",
      "#Calculations & Results\n",
      "lamda=5890*10**-8#in cm\n",
      "c=3*10**10#in cm/s\n",
      "v=c/lamda\n",
      "del_v=8*10**6#per s\n",
      "x=del_v/v\n",
      "h=4.14*10**-15#in ev-sec\n",
      "print \"Part(b)\\nFractional width of either line(del_v/v) %.1e  \"%x\n",
      "\n",
      "#Calculate uncertainty\n",
      "del_t=10**-8\n",
      "del_e=(h)/(4*math.pi*del_t)\n",
      "print \"\\nPart(b)\\nUncertainty is %.1e ev \"%del_e"
     ],
     "language": "python",
     "metadata": {},
     "outputs": [
      {
       "output_type": "stream",
       "stream": "stdout",
       "text": [
        "Part(b)\n",
        "Fractional width of either line(del_v/v) 1.6e-08  \n",
        "\n",
        "Part(b)\n",
        "Uncertainty is 3.3e-08 ev \n"
       ]
      }
     ],
     "prompt_number": 4
    }
   ],
   "metadata": {}
  }
 ]
}