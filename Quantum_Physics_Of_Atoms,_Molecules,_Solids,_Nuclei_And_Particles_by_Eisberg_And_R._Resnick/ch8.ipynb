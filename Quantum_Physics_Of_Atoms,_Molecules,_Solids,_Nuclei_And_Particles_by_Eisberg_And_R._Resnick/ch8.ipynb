{
 "metadata": {
  "name": "",
  "signature": "sha256:e46709cd8d88fd07566540cd60df43623695fcb9d132b92a23280340b88ece18"
 },
 "nbformat": 3,
 "nbformat_minor": 0,
 "worksheets": [
  {
   "cells": [
    {
     "cell_type": "heading",
     "level": 1,
     "metadata": {},
     "source": [
      "Chapter 8: Magnetic Dipole Moments, Spin and Transition Rates"
     ]
    },
    {
     "cell_type": "heading",
     "level": 2,
     "metadata": {},
     "source": [
      "Example 8.1, Page 269"
     ]
    },
    {
     "cell_type": "code",
     "collapsed": false,
     "input": [
      "#Variable declaration\n",
      "u=0.927*10**-23#amp-m2\n",
      "B=1#in J/amp-m2\n",
      "\n",
      "#Calculations\n",
      "E=2*u*B\n",
      "\n",
      "#Result\n",
      "print \"Energy supplied to the dipole  is %.2e  J \"%E"
     ],
     "language": "python",
     "metadata": {},
     "outputs": [
      {
       "output_type": "stream",
       "stream": "stdout",
       "text": [
        "Energy supplied to the dipole  is 1.85e-23  J \n"
       ]
      }
     ],
     "prompt_number": 1
    },
    {
     "cell_type": "heading",
     "level": 2,
     "metadata": {},
     "source": [
      "Example 8.2, Page 275"
     ]
    },
    {
     "cell_type": "code",
     "collapsed": false,
     "input": [
      "#Variable declaration\n",
      "#From previous derivation of formula\n",
      "delb_by_delz=10#tesla/m\n",
      "u=0.927*10**-23#amp-m2\n",
      "x=1#/in m\n",
      "k=1.38*10**-23#j/k\n",
      "T=400#in K\n",
      "\n",
      "#Calculations\n",
      "Z=(delb_by_delz*u*x**2)/(8*k*T)\n",
      "\n",
      "#Result\n",
      "print \"Transverse deflection that occur  is + %.1e m or - %.1e m \"%(Z,Z)"
     ],
     "language": "python",
     "metadata": {},
     "outputs": [
      {
       "output_type": "stream",
       "stream": "stdout",
       "text": [
        "Transverse deflection that occur  is + 2.1e-03 m or - 2.1e-03 m \n"
       ]
      }
     ],
     "prompt_number": 2
    },
    {
     "cell_type": "heading",
     "level": 2,
     "metadata": {},
     "source": [
      "Example 8.3, Page 280"
     ]
    },
    {
     "cell_type": "code",
     "collapsed": false,
     "input": [
      "#Variable declaration\n",
      "m=9*10**-31#in kg\n",
      "e=1.6*10**-19#in coul\n",
      "c=3*10**8#in m/s2\n",
      "four_pi_epsilon=1.1*10**-34#in j-sec\n",
      "constant=9*10**9#nt-n2/coul2\n",
      "\n",
      "#Calculations\n",
      "delta_E=(constant**4*m*e**8)/(54*c*c*(four_pi_epsilon)**4)\n",
      "\n",
      "#Result\n",
      "print \"The energy deflection is %.1e Joule\"%delta_E\n",
      "#Answer given in the book is wrong\n"
     ],
     "language": "python",
     "metadata": {},
     "outputs": [
      {
       "output_type": "stream",
       "stream": "stdout",
       "text": [
        "The energy deflection is 3.6e-24 Joule\n"
       ]
      }
     ],
     "prompt_number": 3
    },
    {
     "cell_type": "heading",
     "level": 2,
     "metadata": {},
     "source": [
      "Example 8.4, Page 281"
     ]
    },
    {
     "cell_type": "code",
     "collapsed": false,
     "input": [
      "#Variable declaration\n",
      "u_s=10**-23#amp-m2\n",
      "u_b=10**-23#amp-m2\n",
      "\n",
      "#Calculations\n",
      "B=u_s/u_b\n",
      "\n",
      "#Result\n",
      "print \"The deflection is  %d  Tesla \"%B"
     ],
     "language": "python",
     "metadata": {},
     "outputs": [
      {
       "output_type": "stream",
       "stream": "stdout",
       "text": [
        "The deflection is  1  Tesla \n"
       ]
      }
     ],
     "prompt_number": 4
    }
   ],
   "metadata": {}
  }
 ]
}