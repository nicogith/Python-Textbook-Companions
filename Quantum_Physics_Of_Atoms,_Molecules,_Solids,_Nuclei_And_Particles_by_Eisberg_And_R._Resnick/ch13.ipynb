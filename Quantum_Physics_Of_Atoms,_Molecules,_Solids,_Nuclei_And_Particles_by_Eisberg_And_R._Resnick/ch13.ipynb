{
 "metadata": {
  "name": "",
  "signature": "sha256:abab7c27d9b926532747b22722c158f61a99947ed74911a5b9770259d6a258b6"
 },
 "nbformat": 3,
 "nbformat_minor": 0,
 "worksheets": [
  {
   "cells": [
    {
     "cell_type": "heading",
     "level": 1,
     "metadata": {},
     "source": [
      "Chapter 13: Solids - Conductors and Semiconductors"
     ]
    },
    {
     "cell_type": "heading",
     "level": 2,
     "metadata": {},
     "source": [
      "Example 13.1, Page 453"
     ]
    },
    {
     "cell_type": "code",
     "collapsed": false,
     "input": [
      "import math\n",
      "\n",
      "#Variable declaration\n",
      "m=9.11*10**-31#in kg\n",
      "h=6.63*10**-34#in j-s\n",
      "\n",
      "#Calculations\n",
      "ef=4.72*1.60*10**-19#in J\n",
      "n=math.pi*(((8*m)/h**2)**(3./2))*((ef**(3./2))/3)\n",
      "\n",
      "#Result\n",
      "print \"The number of electron per unit volume in lithium is  %.2e  /m**3\"%n"
     ],
     "language": "python",
     "metadata": {},
     "outputs": [
      {
       "output_type": "stream",
       "stream": "stdout",
       "text": [
        "The number of electron per unit volume in lithium is  4.64e+28  /m**3\n"
       ]
      }
     ],
     "prompt_number": 1
    },
    {
     "cell_type": "heading",
     "level": 2,
     "metadata": {},
     "source": [
      "Example 13.3, Page 465"
     ]
    },
    {
     "cell_type": "code",
     "collapsed": false,
     "input": [
      "import math\n",
      "\n",
      "#Variable declaration\n",
      "m=9.11*10**-31#in kg\n",
      "h=6.63*10**-34#in j-s\n",
      "c=3*10**8#m/s\n",
      "ef=4.72*1.60*10**-19#in J\n",
      "\n",
      "#Calculations\n",
      "pf=math.sqrt(2*m*ef)\n",
      "tf=pf/(m*c)\n",
      "\n",
      "#Result\n",
      "print \"The angle is  %.2e  rad\"%tf"
     ],
     "language": "python",
     "metadata": {},
     "outputs": [
      {
       "output_type": "stream",
       "stream": "stdout",
       "text": [
        "The angle is  4.29e-03  rad\n"
       ]
      }
     ],
     "prompt_number": 2
    }
   ],
   "metadata": {}
  }
 ]
}