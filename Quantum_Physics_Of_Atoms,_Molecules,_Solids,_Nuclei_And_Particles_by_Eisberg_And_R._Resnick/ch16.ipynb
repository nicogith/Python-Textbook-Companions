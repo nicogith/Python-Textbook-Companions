{
 "metadata": {
  "name": "",
  "signature": "sha256:428b3739ebd50dc9b7be9a0c473d7bca17ecc91a42ced1dda8b827ae1bdace1f"
 },
 "nbformat": 3,
 "nbformat_minor": 0,
 "worksheets": [
  {
   "cells": [
    {
     "cell_type": "heading",
     "level": 1,
     "metadata": {},
     "source": [
      "Chapter 16: Nuclear Decay and nuclear Reactions"
     ]
    },
    {
     "cell_type": "heading",
     "level": 2,
     "metadata": {},
     "source": [
      "Example 16.1, Page 557"
     ]
    },
    {
     "cell_type": "code",
     "collapsed": false,
     "input": [
      "#Calculations&Results\n",
      "r=(4**(1./3)+208**(1./3))*1.07\n",
      "print \"The sum of radii is  %.f  F\"%r\n",
      "e=1.60*10**-19#in coul\n",
      "z=82.\n",
      "x=1.1*10**-10#coul2/nt-m2\n",
      "Vo=(2*z*e*e)/(x*r*10**-15)\n",
      "print \"The total energy is  %.1e  J\"%Vo"
     ],
     "language": "python",
     "metadata": {},
     "outputs": [
      {
       "output_type": "stream",
       "stream": "stdout",
       "text": [
        "The sum of radii is  8  F\n",
        "The total energy is  4.7e-12  J\n"
       ]
      }
     ],
     "prompt_number": 1
    },
    {
     "cell_type": "heading",
     "level": 2,
     "metadata": {},
     "source": [
      "Example 16.2, Page 561"
     ]
    },
    {
     "cell_type": "code",
     "collapsed": false,
     "input": [
      "import math\n",
      "\n",
      "#Calculations\n",
      "x=math.log(math.exp(.827))\n",
      "t=(math.log(143))/x\n",
      "\n",
      "#Result\n",
      "print \"The elapsed time is  %.e  year\"%(t*10**9)"
     ],
     "language": "python",
     "metadata": {},
     "outputs": [
      {
       "output_type": "stream",
       "stream": "stdout",
       "text": [
        "The elapsed time is  6e+09  year\n"
       ]
      }
     ],
     "prompt_number": 2
    },
    {
     "cell_type": "heading",
     "level": 2,
     "metadata": {},
     "source": [
      "Example 16.4, Page 571"
     ]
    },
    {
     "cell_type": "code",
     "collapsed": false,
     "input": [
      "#Variable declaration\n",
      "# Using formula logb(m)=n\n",
      "#n=b**n\n",
      "F=10**(-5.7)\n",
      "Y=12.3 #yr\n",
      "d=365#day/yr\n",
      "h=24#hr/day\n",
      "m=60#min/hr\n",
      "s=60#sec/min\n",
      "\n",
      "#Calculations\n",
      "T=(Y*d*h*m*s)/0.693\n",
      "\n",
      "#Result\n",
      "print \"The life time is  %.1e  s\"%T"
     ],
     "language": "python",
     "metadata": {},
     "outputs": [
      {
       "output_type": "stream",
       "stream": "stdout",
       "text": [
        "The life time is  5.6e+08  s\n"
       ]
      }
     ],
     "prompt_number": 3
    },
    {
     "cell_type": "heading",
     "level": 2,
     "metadata": {},
     "source": [
      "Example 16.5, Page 573"
     ]
    },
    {
     "cell_type": "code",
     "collapsed": false,
     "input": [
      "import math\n",
      "\n",
      "#Variable declaration\n",
      "h=1.05*10**-34#j-s\n",
      "F=1.2\n",
      "T=10**3#in s\n",
      "m=.91*10**-30#in kg\n",
      "c=3*10**8#in m/s\n",
      "M=1\n",
      "\n",
      "#Calculations\n",
      "beta_square=(2*math.pi**3*(h**7))/(F*T*(m**5)*(c**4))\n",
      "beta=math.sqrt(beta_square)\n",
      "\n",
      "#Result\n",
      "print \"The value of Beta is %.1e  J**2*m**6\"%beta"
     ],
     "language": "python",
     "metadata": {},
     "outputs": [
      {
       "output_type": "stream",
       "stream": "stdout",
       "text": [
        "The value of Beta is 3.8e-62  J**2*m**6\n"
       ]
      }
     ],
     "prompt_number": 4
    },
    {
     "cell_type": "heading",
     "level": 2,
     "metadata": {},
     "source": [
      "Example 16.7, Page 584"
     ]
    },
    {
     "cell_type": "code",
     "collapsed": false,
     "input": [
      "#Variable declaration\n",
      "E=0.129#in Mev\n",
      "x=931#uc**2\n",
      "\n",
      "#Calculations&Results\n",
      "Del_E=-(E)**2/(2*x*191)\n",
      "print \"The value of delta E is %.1e eV\"%(Del_E*10**6)\n",
      "h=6.6*10**-16#ev-sec\n",
      "T=1.4*10**-10#sec\n",
      "Tou=h/T\n",
      "print \"The value of Tou is %.1e eV\"%Tou"
     ],
     "language": "python",
     "metadata": {},
     "outputs": [
      {
       "output_type": "stream",
       "stream": "stdout",
       "text": [
        "The value of delta E is -4.7e-02 eV\n",
        "The value of Tou is 4.7e-06 eV\n"
       ]
      }
     ],
     "prompt_number": 5
    },
    {
     "cell_type": "heading",
     "level": 2,
     "metadata": {},
     "source": [
      "Example 16.9, Page 589"
     ]
    },
    {
     "cell_type": "code",
     "collapsed": false,
     "input": [
      "import math\n",
      "\n",
      "#Variable declaration\n",
      "Z=0+1+4\n",
      "A=1+9-1\n",
      "\n",
      "#Calculations&Results\n",
      "print \"The value of z is %d\"%Z\n",
      "print \"The value of A is %d\"%A\n",
      "ka=50\n",
      "kb=48.1\n",
      "mB=1\n",
      "ma=1./9\n",
      "mb=1./9\n",
      "x=1./9#ma/mB\n",
      "y=1./9#mb/mB\n",
      "part1=kb*(1+x)\n",
      "part2=ka*(1-y)\n",
      "part3=(2*math.sqrt(ka*kb*ma*mb))\n",
      "Q=part1-part2-part3\n",
      "print \"The value of Q is %.1f Mev\"%Q\n",
      "sq_kb_plus=(1.36+math.sqrt(1.36**2+(4*1.11*42.5)))/(2*1.11)\n",
      "sq_kb_minus=(1.36-math.sqrt(1.36**2+(4*1.11*42.5)))/(2*1.11)\n",
      "kb_plus=(sq_kb_plus)**2\n",
      "kb_minus=(sq_kb_minus)**2\n",
      "print \"The maximum neutron produced at angle 30 degree is %.1f Mev\"%kb_plus\n"
     ],
     "language": "python",
     "metadata": {},
     "outputs": [
      {
       "output_type": "stream",
       "stream": "stdout",
       "text": [
        "The value of z is 5\n",
        "The value of A is 9\n",
        "The value of Q is -1.9 Mev\n",
        "The maximum neutron produced at angle 30 degree is 46.7 Mev\n"
       ]
      }
     ],
     "prompt_number": 6
    },
    {
     "cell_type": "heading",
     "level": 2,
     "metadata": {},
     "source": [
      "Example 16.10, Page 597"
     ]
    },
    {
     "cell_type": "code",
     "collapsed": false,
     "input": [
      "#Calculations&Results\n",
      "n=(1./10)/(54*1.66*10**-27)\n",
      "d_ohm=10**-5/(10**-1)**2\n",
      "d_zigma=(1.3*10**-3)*10**-31#m2/nucleus\n",
      "P=d_zigma*n\n",
      "#disp(P)\n",
      "I=(10**-7)/(1.6*10**-19)\n",
      "dN=I*P\n",
      "print \"The number of events detected are %d events/sec\"%dN\n",
      "#The answer differnce is because of round off"
     ],
     "language": "python",
     "metadata": {},
     "outputs": [
      {
       "output_type": "stream",
       "stream": "stdout",
       "text": [
        "The number of events detected are 90 events/sec\n"
       ]
      }
     ],
     "prompt_number": 9
    },
    {
     "cell_type": "heading",
     "level": 2,
     "metadata": {},
     "source": [
      "Example 16.11, Page 606"
     ]
    },
    {
     "cell_type": "code",
     "collapsed": false,
     "input": [
      "#Variable declaration\n",
      "E=200*1.6*10**-13#j/neutron\n",
      "E=10**-11#Rounding off\n",
      "p=E/(10**-3)\n",
      "P=10**8#in watt\n",
      "\n",
      "#Calculations\n",
      "N=P/p\n",
      "\n",
      "#Result\n",
      "print \"The number of free electron present is %.e\"%N"
     ],
     "language": "python",
     "metadata": {},
     "outputs": [
      {
       "output_type": "stream",
       "stream": "stdout",
       "text": [
        "The number of free electron present is 1e+16\n"
       ]
      }
     ],
     "prompt_number": 8
    }
   ],
   "metadata": {}
  }
 ]
}