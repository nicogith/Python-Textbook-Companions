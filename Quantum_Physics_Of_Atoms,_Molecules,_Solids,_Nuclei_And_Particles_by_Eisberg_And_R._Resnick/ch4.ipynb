{
 "metadata": {
  "name": "",
  "signature": "sha256:869415992ff75630c5cc7145424b5bc68916a511f41f4751655ec84bc29e1ced"
 },
 "nbformat": 3,
 "nbformat_minor": 0,
 "worksheets": [
  {
   "cells": [
    {
     "cell_type": "heading",
     "level": 1,
     "metadata": {},
     "source": [
      "Chapter 4: Bohr's Model of the Atom"
     ]
    },
    {
     "cell_type": "heading",
     "level": 2,
     "metadata": {},
     "source": [
      "Example 4.1, Page 86"
     ]
    },
    {
     "cell_type": "code",
     "collapsed": false,
     "input": [
      "import math\n",
      "\n",
      "#Variable declaration\n",
      "rho=9*10**9#in nt-m2/coul2\n",
      "e=1.6*10**-19#coul\n",
      "r=1*10**-10#in m\n",
      "\n",
      "#Calculations\n",
      "k=(rho*e**2)/(r**3)#nt/m\n",
      "m=9.11*10**-31#in kg\n",
      "c=3*10**8#in m/s\n",
      "v=(1/(2*math.pi))*math.sqrt(k/m)\n",
      "lamda=c/v\n",
      "\n",
      "#Result\n",
      "print \"Part(b)\\nThe wavelength is %.1e m \"%lamda"
     ],
     "language": "python",
     "metadata": {},
     "outputs": [
      {
       "output_type": "stream",
       "stream": "stdout",
       "text": [
        "Part(b)\n",
        "The wavelength is 1.2e-07 m \n"
       ]
      }
     ],
     "prompt_number": 1
    },
    {
     "cell_type": "heading",
     "level": 2,
     "metadata": {},
     "source": [
      "Example 4.2, Page 89"
     ]
    },
    {
     "cell_type": "code",
     "collapsed": false,
     "input": [
      "import math\n",
      "\n",
      "#Variable declaration\n",
      "N=10**4#in rad, Number of atoms tarversed\n",
      "\n",
      "#Calculations\n",
      "theta=(2*10**-2)/math.sqrt(N)\n",
      "\n",
      "#Result\n",
      "print \"Average deflection %.1e rad \"%theta"
     ],
     "language": "python",
     "metadata": {},
     "outputs": [
      {
       "output_type": "stream",
       "stream": "stdout",
       "text": [
        "Average deflection 2.0e-04 rad \n"
       ]
      }
     ],
     "prompt_number": 2
    },
    {
     "cell_type": "heading",
     "level": 2,
     "metadata": {},
     "source": [
      "Example 4.6, Page 102"
     ]
    },
    {
     "cell_type": "code",
     "collapsed": false,
     "input": [
      "#Variable declaration\n",
      "rho=9*10**9#in nt-m2/coul2 \n",
      "m=9.11*10**-31#in kg\n",
      "e=1.6*10**-19#coul\n",
      "h=1.05*10**-34#in j-sec\n",
      "\n",
      "#Calculations\n",
      "E=-(rho*m*e**4)/(2*h**2)\n",
      "\n",
      "#Result\n",
      "print \"Binding energy is %.2e Joule \"%E\n",
      "#Answer given in the book is wrong"
     ],
     "language": "python",
     "metadata": {},
     "outputs": [
      {
       "output_type": "stream",
       "stream": "stdout",
       "text": [
        "Binding energy is -2.44e-28 Joule \n"
       ]
      }
     ],
     "prompt_number": 3
    },
    {
     "cell_type": "heading",
     "level": 2,
     "metadata": {},
     "source": [
      "Example 4.9, Page 106"
     ]
    },
    {
     "cell_type": "code",
     "collapsed": false,
     "input": [
      "#Variable declaration\n",
      "mu=207#207*me\n",
      "\n",
      "#Calculations&Results\n",
      "M=1836#183*me\n",
      "u=(mu*M)/(mu+M)\n",
      "D=(1./u)*5.3*10**-11\n",
      "print \"Part(a)\\nMuon nucleus seperation is %.1e m \"%D\n",
      "\n",
      "E=-u*13.6\n",
      "print \"\\nPart(b)\\n Binding energy is %.f ev \"%E\n",
      "\n",
      "R=109737#in cm\n",
      "lamda=(1./u)*(1/0.75)*(1./R)\n",
      "print \"\\nPart(c)\\n Wavelength is %.1e cm \"%lamda"
     ],
     "language": "python",
     "metadata": {},
     "outputs": [
      {
       "output_type": "stream",
       "stream": "stdout",
       "text": [
        "Part(a)\n",
        "Muon nucleus seperation is 2.8e-13 m \n",
        "\n",
        "Part(b)\n",
        " Binding energy is -2530 ev \n",
        "\n",
        "Part(c)\n",
        " Wavelength is 6.5e-08 cm \n"
       ]
      }
     ],
     "prompt_number": 4
    },
    {
     "cell_type": "heading",
     "level": 2,
     "metadata": {},
     "source": [
      "Example 4.10, Page 107"
     ]
    },
    {
     "cell_type": "code",
     "collapsed": false,
     "input": [
      "#Calculations&Results\n",
      "\n",
      "#For Hydrogen atom\n",
      "R_o=109737#in cm\n",
      "m=1\n",
      "M=1836.\n",
      "RH=(R_o)/(1+(m/M))\n",
      "print \"Spectrum line for Hydrogen occur at %.f /cm \"%RH\n",
      "\n",
      "#For Deuterium atom\n",
      "R_o=109737#in cm\n",
      "m=1\n",
      "M=2*1836.\n",
      "RD=(R_o)/(1+(m/M))\n",
      "print \"Spectrum line for Deuterium occur at %.f /cm \"%RD"
     ],
     "language": "python",
     "metadata": {},
     "outputs": [
      {
       "output_type": "stream",
       "stream": "stdout",
       "text": [
        "Spectrum line for Hydrogen occur at 109677 /cm \n",
        "Spectrum line for Deuterium occur at 109707 /cm \n"
       ]
      }
     ],
     "prompt_number": 5
    }
   ],
   "metadata": {}
  }
 ]
}