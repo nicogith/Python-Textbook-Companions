{
 "metadata": {
  "name": "",
  "signature": "sha256:d67692243ecfba68e523fa8db72e6b3785877687da97ff14c0b281b886269f69"
 },
 "nbformat": 3,
 "nbformat_minor": 0,
 "worksheets": [
  {
   "cells": [
    {
     "cell_type": "heading",
     "level": 1,
     "metadata": {},
     "source": [
      "Chapter 14: Solids - Superconductors and Magnetic Properties"
     ]
    },
    {
     "cell_type": "heading",
     "level": 2,
     "metadata": {},
     "source": [
      "Example 14.1, Page 489"
     ]
    },
    {
     "cell_type": "code",
     "collapsed": false,
     "input": [
      "#Calculations&Results\n",
      "#Part a\n",
      "k=1.4*10**-23#in J/K\n",
      "Te=4.2#in K\n",
      "eg=3*k*Te\n",
      "print \"The gap energy is  %.1e  J\"%eg\n",
      "h=6.63*10**-34#in j-s\n",
      "c=3*10**8#m/s\n",
      "\n",
      "\n",
      "#Part b\n",
      "lamda=(h*c)/eg\n",
      "print \"The wavelength is  %.1e  m\"%lamda\n"
     ],
     "language": "python",
     "metadata": {},
     "outputs": [
      {
       "output_type": "stream",
       "stream": "stdout",
       "text": [
        "The gap energy is  1.8e-22  J\n",
        "The wavelength is  1.1e-03  m\n"
       ]
      }
     ],
     "prompt_number": 1
    },
    {
     "cell_type": "heading",
     "level": 2,
     "metadata": {},
     "source": [
      "Example 14.3, Page 496"
     ]
    },
    {
     "cell_type": "code",
     "collapsed": false,
     "input": [
      "import math\n",
      "\n",
      "#Variable declaration\n",
      "u=9.3*10**-24#in Tesla\n",
      "B=1#in Tesla\n",
      "Eb=u*B*6.24150934*10**18 \n",
      "T=300#in K\n",
      "k=8.6*10**-5#ev/k\n",
      "\n",
      "#Calculations&Results\n",
      "x=k*T\n",
      "s=(Eb/x)*100\n",
      "#Part a\n",
      "print \"The percentage is  %.1f\"%s\n",
      "\n",
      "#Part b\n",
      "n=2.0*10**28#/m3\n",
      "k=1.38*10**-23#in J/k\n",
      "uo=4*math.pi*10**-7#T-m/amp\n",
      "con=(uo*n*u*u)/(k*T)\n",
      "print \"The number of unpaired electrons is  %.1e\"%con"
     ],
     "language": "python",
     "metadata": {},
     "outputs": [
      {
       "output_type": "stream",
       "stream": "stdout",
       "text": [
        "The percentage is  0.2\n",
        "The number of unpaired electrons is  5.3e-04\n"
       ]
      }
     ],
     "prompt_number": 2
    },
    {
     "cell_type": "heading",
     "level": 2,
     "metadata": {},
     "source": [
      "Example 14.4, Page 498"
     ]
    },
    {
     "cell_type": "code",
     "collapsed": false,
     "input": [
      "import math\n",
      "\n",
      "#Variable declaration\n",
      "uo=4*math.pi*10**-7#T-m/amp\n",
      "u=2.2*9.3*10**-24#in Tesla\n",
      "x=3*10**-10#in m\n",
      "\n",
      "#Calculations&Results\n",
      "E=(uo*u*u)/(2*math.pi*x**3)\n",
      "print \"The Energy required  is  %.1e Joule\"%E\n",
      "k=1.38*10**-23#in J/k\n",
      "T=E/k\n",
      "print \"The temperature  is  %.2f K\"%T"
     ],
     "language": "python",
     "metadata": {},
     "outputs": [
      {
       "output_type": "stream",
       "stream": "stdout",
       "text": [
        "The Energy required  is  3.1e-24 Joule\n",
        "The temperature  is  0.22 K\n"
       ]
      }
     ],
     "prompt_number": 3
    }
   ],
   "metadata": {}
  }
 ]
}