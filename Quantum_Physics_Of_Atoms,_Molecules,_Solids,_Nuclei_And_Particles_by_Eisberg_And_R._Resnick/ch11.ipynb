{
 "metadata": {
  "name": "",
  "signature": "sha256:2f9b42b55f8df37e11a67d35a01f86de87bb50e427ca8a509210604f0175eab7"
 },
 "nbformat": 3,
 "nbformat_minor": 0,
 "worksheets": [
  {
   "cells": [
    {
     "cell_type": "heading",
     "level": 1,
     "metadata": {},
     "source": [
      "Chapter 11: Quantum Statistics"
     ]
    },
    {
     "cell_type": "heading",
     "level": 2,
     "metadata": {},
     "source": [
      "Example 11.2, Page 390"
     ]
    },
    {
     "cell_type": "code",
     "collapsed": false,
     "input": [
      "import math\n",
      "import numpy as np\n",
      "import scipy\n",
      "from scipy import integrate\n",
      "\n",
      "#Variable declaration\n",
      "R = 1.985\n",
      "\n",
      "#Calculations\n",
      "#from equation 11.31,\n",
      "f = lambda x:(x**3/(np.exp(x)-1))\n",
      "integ,err = integrate.quad(f,0,1)\n",
      "Cv = 9*R*4*integ*1/math.exp(1)-1\n",
      "\n",
      "#Result\n",
      "print \"Cv = %.2f cal/mole K\"%Cv\n",
      "#Incorrect answer in the textbook"
     ],
     "language": "python",
     "metadata": {},
     "outputs": [
      {
       "output_type": "stream",
       "stream": "stdout",
       "text": [
        "Cv = 4.91 cal/mole K\n"
       ]
      }
     ],
     "prompt_number": 31
    },
    {
     "cell_type": "heading",
     "level": 2,
     "metadata": {},
     "source": [
      "Example 11.3, Page 392"
     ]
    },
    {
     "cell_type": "code",
     "collapsed": false,
     "input": [
      "import math\n",
      "\n",
      "#Variable declaration\n",
      "h=6.6*10**-34#in J-s\n",
      "v=1*10**7#per sec\n",
      "K=1.4*10**-23#in J-K\n",
      "T=300#in K\n",
      "\n",
      "#calculations\n",
      "n=math.exp(-((h*v)/(K*T)))\n",
      "\n",
      "#Result\n",
      "print \"The Boltzan factor is  %.1e  Tesla\"%(1-n)"
     ],
     "language": "python",
     "metadata": {},
     "outputs": [
      {
       "output_type": "stream",
       "stream": "stdout",
       "text": [
        "The Boltzan factor is  1.6e-06  Tesla\n"
       ]
      }
     ],
     "prompt_number": 1
    },
    {
     "cell_type": "heading",
     "level": 2,
     "metadata": {},
     "source": [
      "Example 11.5, Page 406"
     ]
    },
    {
     "cell_type": "code",
     "collapsed": false,
     "input": [
      "import math\n",
      "\n",
      "#Calculations&Results\n",
      "#Part a\n",
      "A=108#in g/mole\n",
      "M=10.5#in g/cm3\n",
      "D=6.02*10**23#in atom/mole\n",
      "n=((D*M)/A)*100\n",
      "h=6.6*10**-34\n",
      "print \"The fermi energy is  %.1e electron/cm**3\"%n\n",
      "m=9.1*10**-31#in kg\n",
      "x=((3*n)/(math.pi))**(2/3)\n",
      "Ef=(h**2/(8*m))*x\n",
      "print \"The energy is  %.1e J\"%Ef\n",
      "\n",
      "#part b\n",
      "K=1.38*10**-23#in J-K\n",
      "T=300#in K\n",
      "z=(n*h**3)/(2*math.pi*m*K*T)**(3./2)\n",
      "print \"\\nThe degeneracy term is  %.1e \"%z\n",
      "#Incorrect answers in the textbook"
     ],
     "language": "python",
     "metadata": {},
     "outputs": [
      {
       "output_type": "stream",
       "stream": "stdout",
       "text": [
        "The fermi energy is  5.9e+24 electron/cm**3\n",
        "The energy is  6.0e-38 J\n",
        "\n",
        "The degeneracy term is  4.6e-01 \n"
       ]
      }
     ],
     "prompt_number": 2
    }
   ],
   "metadata": {}
  }
 ]
}