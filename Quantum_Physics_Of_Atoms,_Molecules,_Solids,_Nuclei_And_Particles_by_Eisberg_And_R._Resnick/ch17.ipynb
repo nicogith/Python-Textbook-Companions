{
 "metadata": {
  "name": "",
  "signature": "sha256:27e7d7c6398fa359e8f185aeee6aab143f163cc3400f27231386923c1e321032"
 },
 "nbformat": 3,
 "nbformat_minor": 0,
 "worksheets": [
  {
   "cells": [
    {
     "cell_type": "heading",
     "level": 1,
     "metadata": {},
     "source": [
      "Chapter 17: Introduction to Elementary Particles"
     ]
    },
    {
     "cell_type": "heading",
     "level": 2,
     "metadata": {},
     "source": [
      "Example 17.1, Page 625"
     ]
    },
    {
     "cell_type": "code",
     "collapsed": false,
     "input": [
      "#Variable declaration\n",
      "h=1.05*10**-34#j-s\n",
      "M=1.7*10**-27#in kg\n",
      "r=2*10**-15#in m\n",
      "\n",
      "#Calculations\n",
      "K=(h**2)/(M*r*r)\n",
      "s=K* 6.24150647996E+12#converting to Mev\n",
      "K_total_cm=2*s\n",
      "k_incident=2*K_total_cm\n",
      "\n",
      "#Result\n",
      "print \"The kinetic energy of incident nucleon is %d Mev\"%k_incident"
     ],
     "language": "python",
     "metadata": {},
     "outputs": [
      {
       "output_type": "stream",
       "stream": "stdout",
       "text": [
        "The kinetic energy of incident nucleon is 40 Mev\n"
       ]
      }
     ],
     "prompt_number": 1
    },
    {
     "cell_type": "heading",
     "level": 2,
     "metadata": {},
     "source": [
      "Example 17.3, Page 635"
     ]
    },
    {
     "cell_type": "code",
     "collapsed": false,
     "input": [
      "#Variable declaration\n",
      "h=1*10**-34#j-s\n",
      "r=2*10**-15#m\n",
      "c=3*10**8#m/s\n",
      "\n",
      "#Calculations\n",
      "m_pi=h/(r*c)\n",
      "\n",
      "#Result\n",
      "print \"The value of m pi is %.e kg\"%m_pi\n",
      "#Answer difference is because of round off"
     ],
     "language": "python",
     "metadata": {},
     "outputs": [
      {
       "output_type": "stream",
       "stream": "stdout",
       "text": [
        "The value of m pi is 2e-28 kg\n"
       ]
      }
     ],
     "prompt_number": 2
    },
    {
     "cell_type": "heading",
     "level": 2,
     "metadata": {},
     "source": [
      "Example 17.5, Page 646"
     ]
    },
    {
     "cell_type": "code",
     "collapsed": false,
     "input": [
      "#Calculations&Results\n",
      "\n",
      "#For Ao\n",
      "Tz=(1-1)/2\n",
      "print \"The value of Tz for Ao is %.f \"%Tz\n",
      "\n",
      "#For K+\n",
      "Q=1\n",
      "B=0\n",
      "S=1\n",
      "Tz=1-0.5\n",
      "print \"The value of Tz for K+ is %.1f \"%Tz\n",
      "\n",
      "#For K-\n",
      "Q=-1\n",
      "B=0\n",
      "S=-1\n",
      "Tz=-1+0.5\n",
      "print \"\\nThe value of Tz for K- is %.1f\"%Tz\n",
      "\n",
      "\n",
      "#For Ko\n",
      "Q=0\n",
      "B=0\n",
      "S=1\n",
      "Tz=-0-0.5\n",
      "print \"\\nThe value of Tz for Ko is %.1f\"%Tz\n",
      "\n",
      "\n",
      "#For Ko_dash\n",
      "Tz=0+0.5\n",
      "print \"\\nThe value of Tz for Ko- is %.1f\"%Tz"
     ],
     "language": "python",
     "metadata": {},
     "outputs": [
      {
       "output_type": "stream",
       "stream": "stdout",
       "text": [
        "The value of Tz for Ao is 0 \n",
        "The value of Tz for K+ is 0.5 \n",
        "\n",
        "The value of Tz for K- is -0.5\n",
        "\n",
        "The value of Tz for Ko is -0.5\n",
        "\n",
        "The value of Tz for Ko- is 0.5\n"
       ]
      }
     ],
     "prompt_number": 3
    }
   ],
   "metadata": {}
  }
 ]
}