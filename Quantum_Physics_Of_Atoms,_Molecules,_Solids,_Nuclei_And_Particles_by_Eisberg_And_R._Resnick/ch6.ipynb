{
 "metadata": {
  "name": "",
  "signature": "sha256:741fc685828bda591a35f0425af7b2d7e3f2e518df4c4952227da8f2b9bf51e9"
 },
 "nbformat": 3,
 "nbformat_minor": 0,
 "worksheets": [
  {
   "cells": [
    {
     "cell_type": "heading",
     "level": 1,
     "metadata": {},
     "source": [
      "Chapter 6: Solutions of Time-Independent Schroedinger Equations"
     ]
    },
    {
     "cell_type": "heading",
     "level": 2,
     "metadata": {},
     "source": [
      "Example 6.1, Page 190"
     ]
    },
    {
     "cell_type": "code",
     "collapsed": false,
     "input": [
      "import math\n",
      "\n",
      "#Variable declaration\n",
      "m=4*10**-14#in kg\n",
      "v=10**-2#in m/s\n",
      "\n",
      "#Calculations&Results\n",
      "KE=(0.5*m*v**2)\n",
      "h=10**-34\n",
      "print \"Kinetic energy(Vo-E) at %.e Joule\"%KE\n",
      "delta_x=(h)/math.sqrt(2*m*KE)\n",
      "print \"Value of penetration distance is  %.e m \"%delta_x"
     ],
     "language": "python",
     "metadata": {},
     "outputs": [
      {
       "output_type": "stream",
       "stream": "stdout",
       "text": [
        "Kinetic energy(Vo-E) at 2e-18 Joule\n",
        "Value of penetration distance is  2e-19 m \n"
       ]
      }
     ],
     "prompt_number": 1
    },
    {
     "cell_type": "heading",
     "level": 2,
     "metadata": {},
     "source": [
      "Example 6.2, Page 191"
     ]
    },
    {
     "cell_type": "code",
     "collapsed": false,
     "input": [
      "import math\n",
      "\n",
      "#Variable declaration\n",
      "#KE=4ev, convert to joule\n",
      "KE=4*1.6*10**-19#in j\n",
      "m=9*10**-31#in kg\n",
      "h=10**-34#in j-s\n",
      "\n",
      "#Calculations\n",
      "delta_x=(h)/math.sqrt(2*m*KE)\n",
      "\n",
      "#Result\n",
      "print \"Value of penetration distance is  %.1e m \"%delta_x\n",
      "#Incorrect answer in the textbook\n"
     ],
     "language": "python",
     "metadata": {},
     "outputs": [
      {
       "output_type": "stream",
       "stream": "stdout",
       "text": [
        "Value of penetration distance is  9.3e-11 m \n"
       ]
      }
     ],
     "prompt_number": 2
    },
    {
     "cell_type": "heading",
     "level": 2,
     "metadata": {},
     "source": [
      "Example 6.3, Page 198"
     ]
    },
    {
     "cell_type": "code",
     "collapsed": false,
     "input": [
      "import math\n",
      "\n",
      "#Variable declaration\n",
      "v=50.#in Mev\n",
      "E=55.#in Mev\n",
      "\n",
      "#Calculations\n",
      "x=math.sqrt(1-(v/E))\n",
      "R=((1-x)/(1+x))**2\n",
      "\n",
      "#Result\n",
      "print \"Probablity of neutron will be reflected is  %.2f\"%R"
     ],
     "language": "python",
     "metadata": {},
     "outputs": [
      {
       "output_type": "stream",
       "stream": "stdout",
       "text": [
        "Probablity of neutron will be reflected is  0.29\n"
       ]
      }
     ],
     "prompt_number": 3
    },
    {
     "cell_type": "heading",
     "level": 2,
     "metadata": {},
     "source": [
      "Example 6.4, Page 202"
     ]
    },
    {
     "cell_type": "code",
     "collapsed": false,
     "input": [
      "#Variable declaration\n",
      "m=9*10**-31#in kg\n",
      "h=10**-34#in j-s\n",
      "V=10#in ev\n",
      "a=1.8*10**-10#in m\n",
      "\n",
      "#Calculations\n",
      "#convert v to joule\n",
      "Vo=V*1.6*10**-19#in Joule\n",
      "N=(2*m*Vo*a**2)/(h**2)\n",
      "\n",
      "#Result\n",
      "print \"Number given is  %d \"%N"
     ],
     "language": "python",
     "metadata": {},
     "outputs": [
      {
       "output_type": "stream",
       "stream": "stdout",
       "text": [
        "Number given is  9 \n"
       ]
      }
     ],
     "prompt_number": 5
    },
    {
     "cell_type": "heading",
     "level": 2,
     "metadata": {},
     "source": [
      "Example 6.6, Page 219"
     ]
    },
    {
     "cell_type": "code",
     "collapsed": false,
     "input": [
      "import math\n",
      "\n",
      "#Variable declaration\n",
      "h=10**-34#in j-s\n",
      "m=10**-30#in kg\n",
      "a=10**-14#in m\n",
      "c=3*10**8#in m/s\n",
      "\n",
      "#Calculations&Results\n",
      "E=((math.pi*h)**2)/(2*m*a*a)\n",
      "print \"Energy is %.e  J\"%E\n",
      "#convert to ev\n",
      "e=E/(1.6*10**-19)\n",
      "print \"Energy is %.e  eV \"%e\n",
      "#Answer difference is due to round off\n",
      "E1=(math.pi*c*h)/a\n",
      "print \"Zero level Energy is %.e  J \"%E1\n",
      "e1=E1/(1.6*10**-19)\n",
      "print \"Zero level Energy is %.e  ev \"%e1\n",
      "#Answer difference is due to round off\n",
      "#when A=100\n",
      "A=100\n",
      "r=10**-14#in m\n",
      "x=10**-10#in coul2/nt-m2\n",
      "ec=1.6*10**-19#in c\n",
      "Q=(-(A*ec*ec)/(x*r))*(1/ec)\n",
      "print \"Typical value Energy is %.e  ev \"%Q\n"
     ],
     "language": "python",
     "metadata": {},
     "outputs": [
      {
       "output_type": "stream",
       "stream": "stdout",
       "text": [
        "Energy is 5e-10  J\n",
        "Energy is 3e+09  eV \n",
        "Zero level Energy is 9e-12  J \n",
        "Zero level Energy is 6e+07  ev \n",
        "Typical value Energy is -2e+07  ev \n"
       ]
      }
     ],
     "prompt_number": 6
    }
   ],
   "metadata": {}
  }
 ]
}