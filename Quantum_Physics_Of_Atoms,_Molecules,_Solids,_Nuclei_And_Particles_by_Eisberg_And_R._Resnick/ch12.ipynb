{
 "metadata": {
  "name": "",
  "signature": "sha256:ab48f2c40e70efd0dbd4a0a216aeb5f957ab0b6c6ed6461a4d612acc45234d2b"
 },
 "nbformat": 3,
 "nbformat_minor": 0,
 "worksheets": [
  {
   "cells": [
    {
     "cell_type": "heading",
     "level": 1,
     "metadata": {},
     "source": [
      "Chapter 12: Molecules"
     ]
    },
    {
     "cell_type": "heading",
     "level": 2,
     "metadata": {},
     "source": [
      "Example 12.1, Page 417"
     ]
    },
    {
     "cell_type": "code",
     "collapsed": false,
     "input": [
      "#Variable declaration\n",
      "c=9*10**9\n",
      "cm=1.6*10**-19\n",
      "d=2.4*10**-10#in m\n",
      "\n",
      "#Calculations\n",
      "v=(c*cm*cm)/d\n",
      "e=-v/(1.6*10**-19)#in J\n",
      "\n",
      "#Result\n",
      "print \"The energy is  %.f eV\"%e"
     ],
     "language": "python",
     "metadata": {},
     "outputs": [
      {
       "output_type": "stream",
       "stream": "stdout",
       "text": [
        "The energy is  -6 eV\n"
       ]
      }
     ],
     "prompt_number": 1
    },
    {
     "cell_type": "heading",
     "level": 2,
     "metadata": {},
     "source": [
      "Example 12.3, Page 427"
     ]
    },
    {
     "cell_type": "code",
     "collapsed": false,
     "input": [
      "import math\n",
      "\n",
      "#Variable declaration\n",
      "h=6.63*10**-34#in J-s\n",
      "\n",
      "#Calculations&Results\n",
      "I=(2*math.pi)**2*2.66*10**-47#in kg-m2\n",
      "m_H=1./(6.02*10**26)#in kg\n",
      "E=(h**2)/I\n",
      "print \"The energy is  %.1e  J\"%E\n",
      "s=.59*10**-19#in J\n",
      "k=1.38*10**-23#in j/k\n",
      "T=(s)/k\n",
      "print \"The temperature is  %.f  K\"%T\n",
      "#Answer diffrence is because of round off"
     ],
     "language": "python",
     "metadata": {},
     "outputs": [
      {
       "output_type": "stream",
       "stream": "stdout",
       "text": [
        "The energy is  4.2e-22  J\n",
        "The temperature is  4275  K\n"
       ]
      }
     ],
     "prompt_number": 2
    }
   ],
   "metadata": {}
  }
 ]
}