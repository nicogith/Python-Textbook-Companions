{
 "metadata": {
  "name": "",
  "signature": "sha256:1023bca8cb8453488e25aeea2e371999cd0a341d0ed807c352e0435c626d2974"
 },
 "nbformat": 3,
 "nbformat_minor": 0,
 "worksheets": [
  {
   "cells": [
    {
     "cell_type": "heading",
     "level": 1,
     "metadata": {},
     "source": [
      "Chapter 2: Photons -- Particlelike Properties of Radiation"
     ]
    },
    {
     "cell_type": "heading",
     "level": 2,
     "metadata": {},
     "source": [
      "Example 2.1, Page 29"
     ]
    },
    {
     "cell_type": "code",
     "collapsed": false,
     "input": [
      "import math\n",
      "\n",
      "#Variable declaration\n",
      "P=1#power in j/s\n",
      "r=10**-10#Radius in m^2\n",
      "\n",
      "#Calculations\n",
      "R=(P*math.pi*r**2)/(4*math.pi)#Rate at which energy falls in J/sec\n",
      "R_e=3.4*10**-19#in Joule, rate at energy removed\n",
      "t=R_e/R\n",
      "\n",
      "#Result\n",
      "print \"Time required for energy to clear is %.1e sec\"%t"
     ],
     "language": "python",
     "metadata": {},
     "outputs": [
      {
       "output_type": "stream",
       "stream": "stdout",
       "text": [
        "Time required for energy to clear is 1.4e+02 sec\n"
       ]
      }
     ],
     "prompt_number": 1
    },
    {
     "cell_type": "heading",
     "level": 2,
     "metadata": {},
     "source": [
      "Example 2.2, Page 31"
     ]
    },
    {
     "cell_type": "code",
     "collapsed": false,
     "input": [
      "#Variable declaration\n",
      "h=6.63*10**-34#Joule-sec\n",
      "vo=5.6*10**14\n",
      "\n",
      "#Calculations&Results\n",
      "w=h*vo\n",
      "print \"power is %.1e per sec\"%w\n",
      "ev=(1/(1.6*10**-19))\n",
      "wo=w*ev\n",
      "print \"Energy is %.1f ev\"%wo"
     ],
     "language": "python",
     "metadata": {},
     "outputs": [
      {
       "output_type": "stream",
       "stream": "stdout",
       "text": [
        "power is 3.7e-19 per sec\n",
        "Energy is 2.3 ev\n"
       ]
      }
     ],
     "prompt_number": 2
    },
    {
     "cell_type": "heading",
     "level": 2,
     "metadata": {},
     "source": [
      "Example 2.3, Page 32"
     ]
    },
    {
     "cell_type": "code",
     "collapsed": false,
     "input": [
      "import math\n",
      "\n",
      "#Variable declaration\n",
      "p=1#j/s\n",
      "r=1#radius in m\n",
      "h=6.63*10**-34#Joule-sec\n",
      "c=3*10**8#m/sec\n",
      "lamda=5.89*10**-7#m\n",
      "\n",
      "#Calculations\n",
      "R=p/(4*math.pi*r**2)\n",
      "E=(h*c)/lamda\n",
      "Rate_R=R*(1/E)\n",
      "\n",
      "#Result\n",
      "print \"Rate at which photons strike unit area of place %.1e photons/m^2-sec\"%Rate_R"
     ],
     "language": "python",
     "metadata": {},
     "outputs": [
      {
       "output_type": "stream",
       "stream": "stdout",
       "text": [
        "Rate at which photons strike unit area of place 2.4e+17 photons/m^2-sec\n"
       ]
      }
     ],
     "prompt_number": 3
    },
    {
     "cell_type": "heading",
     "level": 2,
     "metadata": {},
     "source": [
      "Example 2.4, Page 39"
     ]
    },
    {
     "cell_type": "code",
     "collapsed": false,
     "input": [
      "import math\n",
      "\n",
      "#Variable declaration\n",
      "h=6.63*10**-34#Joule-sec\n",
      "c=3*10**8#m/sec\n",
      "m_o=9.11*10**-31#in kg\n",
      "\n",
      "#Calculations&Results\n",
      "delta_h=(h*(1-math.cos(90*math.pi/180)))/(m_o*c)\n",
      "print \"Part(a)\\nCompton shift is %.2e m\"%delta_h\n",
      "\n",
      "delta1=1*10**-10\n",
      "K=(h*c*delta_h)/(delta1*(delta1+delta_h))\n",
      "print \"\\nPart(b)\\nX-ray beam is  %.2e Joule\"%K\n",
      "delta2=1.88*10**-12\n",
      "K=(h*c*delta_h)/(delta2*(delta2+delta_h))\n",
      "print \"X-ray beam is  %.2e Joule\"%K\n",
      "\n",
      "E1=(h*c)/delta1\n",
      "E1_ev=(6.241509*10**18)*E1\n",
      "print \"\\nPart(c) \\nX-ray energy is  %.1f keV\"%(E1_ev/10**3)\n",
      "E2=(h*c)/delta2\n",
      "E2_ev=(6.241509*10**18)*E2\n",
      "print \"X-ray energy is  %.1f kev\"%(E2_ev/10**3)\n",
      "Per1=(100*.295*10**3)/E1_ev\n",
      "Per2=(100*378*10**3)/E2_ev\n",
      "print \"Energy lost in percentage = %.1f \"%Per1\n",
      "print \"Energy lost in percentage = %.f \"%Per2"
     ],
     "language": "python",
     "metadata": {},
     "outputs": [
      {
       "output_type": "stream",
       "stream": "stdout",
       "text": [
        "Part(a)\n",
        "Compton shift is 2.43e-12 m\n",
        "\n",
        "Part(b)\n",
        "X-ray beam is  4.71e-17 Joule\n",
        "X-ray beam is  5.96e-14 Joule\n",
        "\n",
        "Part(c) \n",
        "X-ray energy is  12.4 keV\n",
        "X-ray energy is  660.3 kev\n",
        "Energy lost in percentage = 2.4 \n",
        "Energy lost in percentage = 57 \n"
       ]
      }
     ],
     "prompt_number": 4
    },
    {
     "cell_type": "heading",
     "level": 2,
     "metadata": {},
     "source": [
      "Example 2.5, Page 42"
     ]
    },
    {
     "cell_type": "code",
     "collapsed": false,
     "input": [
      "#Variable declaration\n",
      "e=1.6*10**-19#in coul\n",
      "v=4*10**4#in V\n",
      "lamda=3*10**-11#in m\n",
      "c=3*10**8#m/sec\n",
      "\n",
      "#Calculations\n",
      "h=(e*v*lamda)/c\n",
      "\n",
      "#Result\n",
      "print \"Planck's constant is %.2e Joule-sec\"%h"
     ],
     "language": "python",
     "metadata": {},
     "outputs": [
      {
       "output_type": "stream",
       "stream": "stdout",
       "text": [
        "Planck's constant is 6.40e-34 Joule-sec\n"
       ]
      }
     ],
     "prompt_number": 5
    },
    {
     "cell_type": "heading",
     "level": 2,
     "metadata": {},
     "source": [
      "Example 2.6, Page 44"
     ]
    },
    {
     "cell_type": "code",
     "collapsed": false,
     "input": [
      "import math\n",
      "\n",
      "#Variable declaration\n",
      "e=1.6*10**-19#in coul\n",
      "B=2*10**-1#weber/m2\n",
      "r=2.5*10**-2#in m\n",
      "\n",
      "#Calculations&Results\n",
      "p=e*B*r\n",
      "print \"Momentum of electron %.1e Kg-m/sec\"%p\n",
      "x=1.5#in Mev, ie c^2*p^2\n",
      "y=.51#in Mev\n",
      "E_minus=math.sqrt(x**2+y**2)\n",
      "E=2*E_minus#h*v\n",
      "h=6.63*10**-34#Joule-sec\n",
      "c=3*10**8#m/sec\n",
      "lamda=(h*c)/(10**6*E*1.6*10**-19)\n",
      "print \"Photons wavelength is %.1e m\"%lamda"
     ],
     "language": "python",
     "metadata": {},
     "outputs": [
      {
       "output_type": "stream",
       "stream": "stdout",
       "text": [
        "Momentum of electron 8.0e-22 Kg-m/sec\n",
        "Photons wavelength is 3.9e-13 m\n"
       ]
      }
     ],
     "prompt_number": 6
    }
   ],
   "metadata": {}
  }
 ]
}