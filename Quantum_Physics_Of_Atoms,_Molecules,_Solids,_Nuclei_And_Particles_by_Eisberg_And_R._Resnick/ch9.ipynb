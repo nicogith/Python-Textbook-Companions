{
 "metadata": {
  "name": "",
  "signature": "sha256:188d22d5932feed068cf0478b5ac2576670d14180d189d8fc04c32bf68954e8d"
 },
 "nbformat": 3,
 "nbformat_minor": 0,
 "worksheets": [
  {
   "cells": [
    {
     "cell_type": "heading",
     "level": 1,
     "metadata": {},
     "source": [
      "Chapter 9: Multielectron Atoms - Ground states and X-Ray Excitations"
     ]
    },
    {
     "cell_type": "heading",
     "level": 2,
     "metadata": {},
     "source": [
      "Example 9.4, Page 316"
     ]
    },
    {
     "cell_type": "code",
     "collapsed": false,
     "input": [
      "#Variable declaration\n",
      "Z = 2.\n",
      "\n",
      "\n",
      "#Calculations\n",
      "#At ground state\n",
      "n1=n2 =1  \n",
      "Eg = -(Z**2*13.6/n1**2)-(Z**2*13.6/n2**2)\n",
      "\n",
      "#At first excited state\n",
      "n1=1\n",
      "n2=2\n",
      "Ef = -(Z**2*13.6/n1**2)-(Z**2*13.6/n2**2)\n",
      "\n",
      "#Result\n",
      "print \"Energy at ground state is %.f eV\"%Eg\n",
      "print \"Energy at first excited state is %d eV\"%Ef"
     ],
     "language": "python",
     "metadata": {},
     "outputs": [
      {
       "output_type": "stream",
       "stream": "stdout",
       "text": [
        "Energy at ground state is -109 eV\n",
        "Energy at first excited state is -68 eV\n"
       ]
      }
     ],
     "prompt_number": 2
    },
    {
     "cell_type": "heading",
     "level": 2,
     "metadata": {},
     "source": [
      "Example 9.5, Page 325"
     ]
    },
    {
     "cell_type": "code",
     "collapsed": false,
     "input": [
      "#Variable declaration\n",
      "Z=[16, 8, 3]\n",
      "\n",
      "#Calculations&Results\n",
      "#Argon numbers\n",
      "n = 1\n",
      "for x in range(len(Z)):\n",
      "    E=(-((Z[x])/n)**2)*13.6\n",
      "    print \"The electric field for n=%d is  %.1f  ev\"%(n, E)\n",
      "    n+=1\n",
      "\n",
      "#Answer differnce is because of round off\n",
      "\n"
     ],
     "language": "python",
     "metadata": {},
     "outputs": [
      {
       "output_type": "stream",
       "stream": "stdout",
       "text": [
        "The electric field for n=1 is  -3481.6  ev\n",
        "The electric field for n=2 is  -217.6  ev\n",
        "The electric field for n=3 is  -13.6  ev\n"
       ]
      }
     ],
     "prompt_number": 3
    },
    {
     "cell_type": "heading",
     "level": 2,
     "metadata": {},
     "source": [
      "Example 9.7, Page 337"
     ]
    },
    {
     "cell_type": "code",
     "collapsed": false,
     "input": [
      "#Variable declaration\n",
      "Z=92\n",
      "n=2\n",
      "\n",
      "#Calculations\n",
      "E=((Z/n)**2)*13.6#in ev\n",
      "\n",
      "#Result\n",
      "print \"The ionization energy is  %.e  ev\"%E"
     ],
     "language": "python",
     "metadata": {},
     "outputs": [
      {
       "output_type": "stream",
       "stream": "stdout",
       "text": [
        "The ionization energy is  3e+04  ev\n"
       ]
      }
     ],
     "prompt_number": 4
    },
    {
     "cell_type": "heading",
     "level": 2,
     "metadata": {},
     "source": [
      "Example 9.8, Page 340"
     ]
    },
    {
     "cell_type": "code",
     "collapsed": false,
     "input": [
      "#Calculations&Results\n",
      "#Energy of K shell\n",
      "z=26\n",
      "k=2\n",
      "E_k=13.6*(z-k)**2#in ev\n",
      "v=7.8*10**3#in V\n",
      "\n",
      "#for L shell\n",
      "l=10\n",
      "E_l=13.6*(z-l)**2#in ev\n",
      "h=E_k-E_l\n",
      "R_m=1.1*10**7\n",
      "x=R_m*(z-2)**2#x=1/lamda\n",
      "lamba=1/x\n",
      "print \"The wavelength is  %.1e  m\"%lamba\n"
     ],
     "language": "python",
     "metadata": {},
     "outputs": [
      {
       "output_type": "stream",
       "stream": "stdout",
       "text": [
        "The wavelength is  1.6e-10  m\n"
       ]
      }
     ],
     "prompt_number": 5
    },
    {
     "cell_type": "heading",
     "level": 2,
     "metadata": {},
     "source": [
      "Example 9.9, Page 342"
     ]
    },
    {
     "cell_type": "code",
     "collapsed": false,
     "input": [
      "#Variable declaration\n",
      "#Energy of K shell\n",
      "z=82\n",
      "k=2\n",
      "\n",
      "#Calculations\n",
      "E_k=13.6*(z-k)**2#in ev\n",
      "\n",
      "#Result\n",
      "print \"The energy of K shell is  %.1e  eV\"%E_k"
     ],
     "language": "python",
     "metadata": {},
     "outputs": [
      {
       "output_type": "stream",
       "stream": "stdout",
       "text": [
        "The energy of K shell is  8.7e+04  eV\n"
       ]
      }
     ],
     "prompt_number": 6
    }
   ],
   "metadata": {}
  }
 ]
}