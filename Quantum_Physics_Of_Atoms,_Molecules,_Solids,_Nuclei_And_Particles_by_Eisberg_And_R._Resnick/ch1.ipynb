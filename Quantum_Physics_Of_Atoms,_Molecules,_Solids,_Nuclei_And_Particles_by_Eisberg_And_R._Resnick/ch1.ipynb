{
 "metadata": {
  "name": "",
  "signature": "sha256:8b6b4c997b87f2b477f4d393c9a025e00767e82724c255f5c7e06280da6e0de9"
 },
 "nbformat": 3,
 "nbformat_minor": 0,
 "worksheets": [
  {
   "cells": [
    {
     "cell_type": "heading",
     "level": 1,
     "metadata": {},
     "source": [
      "Chapter 1: Thermal Radiation and Planck's Postulate"
     ]
    },
    {
     "cell_type": "heading",
     "level": 2,
     "metadata": {},
     "source": [
      "Example 1.1, Page 6"
     ]
    },
    {
     "cell_type": "code",
     "collapsed": false,
     "input": [
      "#Variable declaration\n",
      "#For sun\n",
      "sigma=5.67*10**-8#w/m^2-k^4\n",
      "T=5700#in K\n",
      "\n",
      "#Calculations&Results\n",
      "ST_sun=sigma*T**4\n",
      "print \" Surface temperature of sun is %.2e W/m^2.\"%ST_sun\n",
      "#For north star\n",
      "T=8300#in K\n",
      "ST_Northstar=sigma*T**4\n",
      "print \" Surface temperature of sun is %.2e W/m^2.\"%ST_Northstar"
     ],
     "language": "python",
     "metadata": {},
     "outputs": [
      {
       "output_type": "stream",
       "stream": "stdout",
       "text": [
        " Surface temperature of sun is 5.99e+07 W/m^2.\n",
        " Surface temperature of sun is 2.69e+08 W/m^2.\n"
       ]
      }
     ],
     "prompt_number": 1
    },
    {
     "cell_type": "heading",
     "level": 2,
     "metadata": {},
     "source": [
      "Example 1.6, Page 21"
     ]
    },
    {
     "cell_type": "code",
     "collapsed": false,
     "input": [
      "import math\n",
      "\n",
      "#Variable declaration\n",
      "g=9.8#in m/s^2, constant\n",
      "l=.1#in m\n",
      "m=0.01#in kg\n",
      "h=6.63*10**-34#Joule-sec\n",
      "theta=0.1#in radians\n",
      "\n",
      "#Calculations&Results\n",
      "v=(1/(2*math.pi)*math.sqrt(g/l))\n",
      "print \"Oscillation frequency of pendulum %.1f per sec.\"%v\n",
      "E=m*g*l*(1-math.cos(theta))\n",
      "print \"Energy of pendulum at its maximum potential %.e Joule.\"%E\n",
      "Delta_e=h*v\n",
      "print \"Delta E %.1e Joule\"%Delta_e"
     ],
     "language": "python",
     "metadata": {},
     "outputs": [
      {
       "output_type": "stream",
       "stream": "stdout",
       "text": [
        "Oscillation frequency of pendulum 1.6 per sec.\n",
        "Energy of pendulum at its maximum potential 5e-05 Joule.\n",
        "Delta E 1.0e-33 Joule\n"
       ]
      }
     ],
     "prompt_number": 2
    }
   ],
   "metadata": {}
  }
 ]
}