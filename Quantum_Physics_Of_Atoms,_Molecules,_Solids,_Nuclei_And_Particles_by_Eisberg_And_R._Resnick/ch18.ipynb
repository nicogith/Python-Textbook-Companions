{
 "metadata": {
  "name": "",
  "signature": "sha256:4a4fdf0521ed564b9c8872b693cd90e9c81aa7381624ac774e78ee7599f37e9e"
 },
 "nbformat": 3,
 "nbformat_minor": 0,
 "worksheets": [
  {
   "cells": [
    {
     "cell_type": "heading",
     "level": 1,
     "metadata": {},
     "source": [
      "Chapter 18: More Elementary Particles"
     ]
    },
    {
     "cell_type": "heading",
     "level": 2,
     "metadata": {},
     "source": [
      "Example 18.2, Page 676"
     ]
    },
    {
     "cell_type": "code",
     "collapsed": false,
     "input": [
      "#Calculations&Results\n",
      "Q=(2./3)-(1./3)-(1./3)\n",
      "B=(1./3)+(1./3)+(1./3)\n",
      "S=0+0-1\n",
      "T=(1./2)+(1./2)+0\n",
      "Tz=(1./2)-(1./2)+0\n",
      "print \"The value of Q is %.f\"%Q\n",
      "print \"The value of B is %.f\"%B\n",
      "print \"The value of S is %.f\"%S\n",
      "print \"The value of T is %.f\"%T\n",
      "print \"The value of Tz is %.f\"%Tz"
     ],
     "language": "python",
     "metadata": {},
     "outputs": [
      {
       "output_type": "stream",
       "stream": "stdout",
       "text": [
        "The value of Q is 0\n",
        "The value of B is 1\n",
        "The value of S is -1\n",
        "The value of T is 1\n",
        "The value of Tz is 0\n"
       ]
      }
     ],
     "prompt_number": 1
    }
   ],
   "metadata": {}
  }
 ]
}