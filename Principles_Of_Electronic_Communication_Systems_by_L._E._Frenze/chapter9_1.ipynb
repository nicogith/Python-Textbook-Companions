{
 "metadata": {
  "name": "",
  "signature": "sha256:6155c127590921d5e033df68036b77ef47addc52e34e8604566f4914d9b739cf"
 },
 "nbformat": 3,
 "nbformat_minor": 0,
 "worksheets": [
  {
   "cells": [
    {
     "cell_type": "heading",
     "level": 1,
     "metadata": {},
     "source": [
      "Chapter 9 Communication receivers"
     ]
    },
    {
     "cell_type": "heading",
     "level": 2,
     "metadata": {},
     "source": [
      "Example 9.1 Page no 318"
     ]
    },
    {
     "cell_type": "code",
     "collapsed": false,
     "input": [
      "#given\n",
      "fl =220*10**6\n",
      "fm =224*10**6\n",
      "IF1 = 10.7*10**6\n",
      "IF = 1.5*10**6\n",
      "\n",
      "#Calculation\n",
      "IF2 =IF1+IF\n",
      "tune_l =fl+IF1\n",
      "tune_m = fm+IF1\n",
      "IF1_imgl = tune_l+IF1\n",
      "IF2_imgm = tune_m+IF1\n",
      "\n",
      "#Result\n",
      "print\"(a) The local oscillatior tuning range is \",tune_l/10**6,\"to \",tune_m/10**6,\"Mhz\"\n",
      "print\"(b) Frequency of the second local oscillator is \",IF2/10**6,\"MHz\"\n",
      "print\"(c) First IF image range is \",IF1_imgl/10**6,\"MHz to \",IF2_imgm/10**6,\"MHz\"\n"
     ],
     "language": "python",
     "metadata": {},
     "outputs": [
      {
       "output_type": "stream",
       "stream": "stdout",
       "text": [
        "The local oscillatior tuning range is  230.7 to  234.7 Mhz\n",
        "Frequency of the second local oscillator is  12.2 MHz\n",
        "First IF image range is  241.4 MHz to  245.4 MHz\n"
       ]
      }
     ],
     "prompt_number": 1
    },
    {
     "cell_type": "heading",
     "level": 2,
     "metadata": {},
     "source": [
      "Example 9.2 Page no 324"
     ]
    },
    {
     "cell_type": "code",
     "collapsed": false,
     "input": [
      "#Given\n",
      "R = 100*10**3\n",
      "T = 273+25\n",
      "B = 20*10**3\n",
      "k = 1.38*10**-23\n",
      "\n",
      "#Calculation\n",
      "Vn=(4*k*T*B*R)**0.5\n",
      "\n",
      "#Result\n",
      "print\"The noise voltage across 100k resistor is \",round(Vn*10**6,2),\"microvolt\"\n"
     ],
     "language": "python",
     "metadata": {},
     "outputs": [
      {
       "output_type": "stream",
       "stream": "stdout",
       "text": [
        "The noise voltage across 100k resistor is  5.74 microvolt\n"
       ]
      }
     ],
     "prompt_number": 1
    },
    {
     "cell_type": "heading",
     "level": 2,
     "metadata": {},
     "source": [
      "Example 9.3 Page no 324"
     ]
    },
    {
     "cell_type": "code",
     "collapsed": false,
     "input": [
      "#Given\n",
      "R=75\n",
      "B=6*10**6  \n",
      "T = 29+273\n",
      "k =1.38*10**-23\n",
      "\n",
      "#calculation\n",
      "Vn = (4*k*T*B*R)**0.5\n",
      "\n",
      "#Result\n",
      "print\"The input themal noise is \",round(Vn*10**6,2),\"microvolt\"\n"
     ],
     "language": "python",
     "metadata": {},
     "outputs": [
      {
       "output_type": "stream",
       "stream": "stdout",
       "text": [
        "The input themal noise is  2.74 microvolt\n"
       ]
      }
     ],
     "prompt_number": 2
    },
    {
     "cell_type": "heading",
     "level": 2,
     "metadata": {},
     "source": [
      "Example 9.4 Page no 326"
     ]
    },
    {
     "cell_type": "code",
     "collapsed": false,
     "input": [
      "#Given\n",
      "Tc=32.2\n",
      "Tk=273+Tc\n",
      "B =30*10**3\n",
      "k =1.38*10**-23\n",
      "\n",
      "#Calculation\n",
      "Pn=k*Tk*B\n",
      "\n",
      "#Result\n",
      "print\"The average noise power is \",round(Pn*10**16,2),\"10**-16 W\"\n"
     ],
     "language": "python",
     "metadata": {},
     "outputs": [
      {
       "output_type": "stream",
       "stream": "stdout",
       "text": [
        "The average noise power is  1.26 10**-16 W\n"
       ]
      }
     ],
     "prompt_number": 3
    },
    {
     "cell_type": "heading",
     "level": 2,
     "metadata": {},
     "source": [
      "Example 9.5 Page no 329"
     ]
    },
    {
     "cell_type": "code",
     "collapsed": false,
     "input": [
      "#Given\n",
      "SN_ip = 8\n",
      "SN_op = 6.0\n",
      "\n",
      "#Calculation\n",
      "NR = SN_ip/SN_op\n",
      "NF = 10*log10(NR)\n",
      "\n",
      "#Result\n",
      "print\"The noise factor is \",round(NR,2)\n",
      "print\"The noise figure is \",round(NF,2),\"dB\"\n"
     ],
     "language": "python",
     "metadata": {},
     "outputs": [
      {
       "output_type": "stream",
       "stream": "stdout",
       "text": [
        "The noise factor is  1.33\n",
        "The noise figure is  1.25 dB\n"
       ]
      }
     ],
     "prompt_number": 6
    },
    {
     "cell_type": "heading",
     "level": 2,
     "metadata": {},
     "source": [
      "Example 9.6 Page no 330"
     ]
    },
    {
     "cell_type": "code",
     "collapsed": false,
     "input": [
      "#Given\n",
      "R= 75.0\n",
      "T=31+273\n",
      "k=1.38*10**-23\n",
      "B=6*10**6\n",
      "Vs = 8.3*10**-6\n",
      "NF=2.8\n",
      "\n",
      "#Calculation\n",
      "import math\n",
      "Vn = math.sqrt(4*k*T*B*R)\n",
      "Pn = Vn**2/R\n",
      "Ps = Vs**2/R\n",
      "SN = (Ps*10**12)/(Pn/10.0**12)\n",
      "SN_dB =10*log10(SN)\n",
      "NR = 10**0.28\n",
      "SN_op = SN/NR\n",
      "Tn = 290*(NR-1)\n",
      "\n",
      "#Result\n",
      "print\"(a) The input noise power is \",round(Pn*10**12,1),\"pW\"\n",
      "print\"(b) The input signal power is \",round(Ps*10**12,3),\"pW\"\n",
      "print\"(c) Signal to noise ratio in decibels \",round(SN/10**24,2)\n",
      "print\"(d) The noise factor is \",round(NR,2)\n",
      "print\"(e) Signal to noise ratio of the amplifier is \",round(SN_op/10**24,2)\n",
      "print\"(f) The noise temperature of the amplifier \",round(Tn,0),\"K\"\n"
     ],
     "language": "python",
     "metadata": {},
     "outputs": [
      {
       "output_type": "stream",
       "stream": "stdout",
       "text": [
        "(a) The input noise power is  0.1 pW\n",
        "(b) The input signal power is  0.919 pW\n",
        "(c) Signal to noise ratio in decibels  9.12\n",
        "(d) The noise factor is  1.91\n",
        "(e) Signal to noise ratio of the amplifier is  4.79\n",
        "(f) The noise temperature of the amplifier  263.0 K\n"
       ]
      }
     ],
     "prompt_number": 23
    }
   ],
   "metadata": {}
  }
 ]
}