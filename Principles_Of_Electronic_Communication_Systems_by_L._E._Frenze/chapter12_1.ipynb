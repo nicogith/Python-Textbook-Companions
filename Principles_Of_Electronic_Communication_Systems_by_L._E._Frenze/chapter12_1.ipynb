{
 "metadata": {
  "name": "",
  "signature": "sha256:24e3c45fb7b4a00b042c526c50c49b4a5f07521c8d395e638826ab3ea2de6f29"
 },
 "nbformat": 3,
 "nbformat_minor": 0,
 "worksheets": [
  {
   "cells": [
    {
     "cell_type": "heading",
     "level": 1,
     "metadata": {},
     "source": [
      "Chapter 12 Introduction to Networking and local area networks"
     ]
    },
    {
     "cell_type": "heading",
     "level": 2,
     "metadata": {},
     "source": [
      "Example 12.1 Page no 448"
     ]
    },
    {
     "cell_type": "code",
     "collapsed": false,
     "input": [
      "#Given\n",
      "N = 20\n",
      "\n",
      "#Calculation\n",
      "L = (N*(N-1))/2.0\n",
      "\n",
      "#Result\n",
      "print\"The number of interconnecting wires required are \",L\n"
     ],
     "language": "python",
     "metadata": {},
     "outputs": [
      {
       "output_type": "stream",
       "stream": "stdout",
       "text": [
        "The number of interconnecting wires required are  190.0\n"
       ]
      }
     ],
     "prompt_number": 1
    },
    {
     "cell_type": "heading",
     "level": 2,
     "metadata": {},
     "source": [
      "Example 12.2 Page no 474"
     ]
    },
    {
     "cell_type": "code",
     "collapsed": false,
     "input": [
      "#Given\n",
      "block = 1500\n",
      "ethernet = 10.0*10**6\n",
      "token_ring = 16.0*10**6\n",
      "\n",
      "#Calculation\n",
      "t1_bit = 1/ethernet\n",
      "t1_byte = 8*t1_bit\n",
      "t1_1526 = 1526 *t1_byte\n",
      "t2_bit = 1/token_ring\n",
      "t2_byte = 8 * t2_bit\n",
      "t2_1521 =1521*t2_byte\n",
      "\n",
      "#Result\n",
      "print\"(a) Time required for 1526 bytes is \",t1_1526*10**6,\"ns\"\n",
      "print\"(b) Time required for 1521 bytes is \",t2_1521*10**3,\"ms\"\n",
      "\n"
     ],
     "language": "python",
     "metadata": {},
     "outputs": [
      {
       "output_type": "stream",
       "stream": "stdout",
       "text": [
        "(a) Time required for 1526 bytes is  1220.8 ns\n",
        "(b) Time required for 1521 bytes is  0.7605 ms\n"
       ]
      }
     ],
     "prompt_number": 5
    }
   ],
   "metadata": {}
  }
 ]
}