{
 "metadata": {
  "name": "",
  "signature": "sha256:ac4273a5639d4b88e878e68a7a5f45b084fdf8a5c45c4bc6304c023f494f5c4d"
 },
 "nbformat": 3,
 "nbformat_minor": 0,
 "worksheets": [
  {
   "cells": [
    {
     "cell_type": "heading",
     "level": 1,
     "metadata": {},
     "source": [
      "Chapter 11 The Transmission of binary data in communication systems"
     ]
    },
    {
     "cell_type": "heading",
     "level": 2,
     "metadata": {},
     "source": [
      "Example 11.1 Page no 392"
     ]
    },
    {
     "cell_type": "code",
     "collapsed": false,
     "input": [
      "#Given\n",
      "t=0.0016\n",
      "No_words=256.0\n",
      "bits_word = 12.0\n",
      "\n",
      "#Calculation\n",
      "tword= t/No_words\n",
      "tbit = tword/bits_word\n",
      "bps =1/tbit\n",
      "\n",
      "#Result\n",
      "print\"(a) The time duration of the word \",tword*10**8,\"microsecond\"\n",
      "print\"(b) The time duration of the one bit is \",round(tbit*10**8,4),\"microseconds\"\n",
      "print\"(c) The speed of transmission is \",bps/10**5,\"kbps\"\n"
     ],
     "language": "python",
     "metadata": {},
     "outputs": [
      {
       "output_type": "stream",
       "stream": "stdout",
       "text": [
        "(a) The time duration of the word  625.0 microsecond\n",
        "(b) The time duration of the one bit is  52.0833 microseconds\n",
        "(c) The speed of transmission is  19.2 kbps\n"
       ]
      }
     ],
     "prompt_number": 2
    },
    {
     "cell_type": "heading",
     "level": 2,
     "metadata": {},
     "source": [
      "Example 11.2 Page no 400"
     ]
    },
    {
     "cell_type": "code",
     "collapsed": false,
     "input": [
      "#Given\n",
      "B=12.5*10**3\n",
      "SN_dB= 25\n",
      "\n",
      "#Calculation\n",
      "import math\n",
      "C_th = 2*B\n",
      "SN=316.2\n",
      "C =B*3.32*log10(SN+1)\n",
      "N= 2**(C/(2.0*B))\n",
      "\n",
      "#Result\n",
      "print\"(a) The maximum theorotical data rate is \",C_th/10**3,\"kbps\"\n",
      "print\"(b) The maximum theorotical capacity of channel is \",round(C/10**3,1),\"Kbps\"\n",
      "print\"(c) The number of levels needed to acheive maximum speed are \",round(N,2)\n"
     ],
     "language": "python",
     "metadata": {},
     "outputs": [
      {
       "output_type": "stream",
       "stream": "stdout",
       "text": [
        "(a) The maximum theorotical data rate is  25.0 kbps\n",
        "(b) The maximum theorotical capacity of channel is  103.8 Kbps\n",
        "(c) The number of levels needed to acheive maximum speed are  17.78\n"
       ]
      }
     ],
     "prompt_number": 5
    },
    {
     "cell_type": "heading",
     "level": 2,
     "metadata": {},
     "source": [
      "Example 11.3 Page no 430"
     ]
    },
    {
     "cell_type": "code",
     "collapsed": false,
     "input": [
      "#Given\n",
      "block =512\n",
      "packets =8\n",
      "BER = 2*10**-4\n",
      " \n",
      "#Calculation\n",
      "avg_errors = block*packets*8*BER\n",
      "\n",
      "print\"Average number of errors are \",avg_errors\n"
     ],
     "language": "python",
     "metadata": {},
     "outputs": [
      {
       "output_type": "stream",
       "stream": "stdout",
       "text": [
        "Average number of errors are  6.5536\n"
       ]
      }
     ],
     "prompt_number": 3
    }
   ],
   "metadata": {}
  }
 ]
}