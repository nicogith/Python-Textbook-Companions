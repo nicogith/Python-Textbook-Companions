{
 "metadata": {
  "name": "",
  "signature": "sha256:85b158cea1a60588125a433baf8a8e61131cf8432c25ac46bd61066878c52a4c"
 },
 "nbformat": 3,
 "nbformat_minor": 0,
 "worksheets": [
  {
   "cells": [
    {
     "cell_type": "heading",
     "level": 1,
     "metadata": {},
     "source": [
      "Chapter 3 Amplitude modulation fundamentals"
     ]
    },
    {
     "cell_type": "heading",
     "level": 2,
     "metadata": {},
     "source": [
      "Example 3.1 page no 99"
     ]
    },
    {
     "cell_type": "code",
     "collapsed": false,
     "input": [
      "#Given\n",
      "Vmax = 5.9\n",
      "Vmin = 1.2\n",
      "\n",
      "#Calculation\n",
      "m = (Vmax-Vmin)/(Vmax+Vmin)\n",
      "Vc = (Vmax+Vmin)/2.0\n",
      "Vm = (Vmax-Vmin)/2.0\n",
      "m = Vm/Vc\n",
      "\n",
      "#Result\n",
      "print\"(a) The modulation index is \",round(m,2)\n",
      "print\"Vc= \",Vc,\"Vm= \",Vm,\"(for 2 volt/div on verticle scale)\"\n"
     ],
     "language": "python",
     "metadata": {},
     "outputs": [
      {
       "output_type": "stream",
       "stream": "stdout",
       "text": [
        "The modulation index is  0.66\n",
        "Vc=  3.55 Vm=  2.35 (for 2 volt/div on verticle scale)\n"
       ]
      }
     ],
     "prompt_number": 1
    },
    {
     "cell_type": "heading",
     "level": 2,
     "metadata": {},
     "source": [
      "Example 3.2 page no 102"
     ]
    },
    {
     "cell_type": "code",
     "collapsed": false,
     "input": [
      "#Given\n",
      "frq =980*10**3\n",
      "frq_range = 5*10**3\n",
      "\n",
      "#Calculation\n",
      "fusb = frq+frq_range\n",
      "flsb = frq-frq_range\n",
      "bw=fusb-flsb\n",
      "\n",
      "#Result\n",
      "print\"The upper sideband is at \",fusb/10**3,\"Khz\"\n",
      "print\"Lower sideband is at \",flsb/10**3,\"Khz\"\n",
      "print\"the babdwidth is \",bw/10**3,\"KHz\"\n"
     ],
     "language": "python",
     "metadata": {},
     "outputs": [
      {
       "output_type": "stream",
       "stream": "stdout",
       "text": [
        "The upper sideband is at  985 Khz\n",
        "Lower sideband is at  975 Khz\n",
        "the babdwidth is  10 KHz\n"
       ]
      }
     ],
     "prompt_number": 2
    },
    {
     "cell_type": "heading",
     "level": 2,
     "metadata": {},
     "source": [
      "Example 3.3 page no 106"
     ]
    },
    {
     "cell_type": "code",
     "collapsed": false,
     "input": [
      "#Given\n",
      "Pc = 30\n",
      "m=0.85\n",
      "\n",
      "#Calculation\n",
      "Pt = Pc*(1+ (m**2/2.0))\n",
      "Psb_both =Pt-Pc\n",
      "Psb_one = Psb_both/2.0\n",
      "\n",
      "#Result\n",
      "print\"The total power is \",round(Pt,1),\"watt\" \n",
      "print\"The power in one sideband is \",round(Psb_one,1),\"Watt\"\n"
     ],
     "language": "python",
     "metadata": {},
     "outputs": [
      {
       "output_type": "stream",
       "stream": "stdout",
       "text": [
        "The total power is  40.8 watt\n",
        "The power in one sideband is  5.4 Watt\n"
       ]
      }
     ],
     "prompt_number": 3
    },
    {
     "cell_type": "heading",
     "level": 2,
     "metadata": {},
     "source": [
      "Example 3.4 page no 108"
     ]
    },
    {
     "cell_type": "code",
     "collapsed": false,
     "input": [
      "#Given\n",
      "R = 40\n",
      "I = 4.8\n",
      "m=0.9\n",
      "\n",
      "#Calculation\n",
      "Pc = I**2*R\n",
      "Pt = (I*(1+(m**2/2.0))**0.5)**2*R\n",
      "Psb = Pt-Pc\n",
      "\n",
      "#Result\n",
      "print\"(a) The carrier power is \",Pc,\" watt\"\n",
      "print\"(b) Total power = \",round(Pt,0),\"watt\"\n",
      "print\"(c) Sideband Power = \",round(Psb,1),\"watt\"\n"
     ],
     "language": "python",
     "metadata": {},
     "outputs": [
      {
       "output_type": "stream",
       "stream": "stdout",
       "text": [
        "(a) The carrier power is  921.6  watt\n",
        "(b) Total power =  1295.0 watt\n",
        "(c) Sideband Power =  373.2 watt\n"
       ]
      }
     ],
     "prompt_number": 6
    },
    {
     "cell_type": "heading",
     "level": 2,
     "metadata": {},
     "source": [
      "Example 3.5 page no 108"
     ]
    },
    {
     "cell_type": "code",
     "collapsed": false,
     "input": [
      "#given\n",
      "It = 5.1\n",
      "Ic =4.8\n",
      "\n",
      "#Calculation\n",
      "m=(2*((It/Ic)**2-1))**0.5\n",
      "\n",
      "#Result\n",
      "print\"The percentage of modulation is \",round(m*100,0)\n"
     ],
     "language": "python",
     "metadata": {},
     "outputs": [
      {
       "output_type": "stream",
       "stream": "stdout",
       "text": [
        "The percentage of modulation is  51.0\n"
       ]
      }
     ],
     "prompt_number": 7
    },
    {
     "cell_type": "heading",
     "level": 2,
     "metadata": {},
     "source": [
      "Example 3.6 page no 109"
     ]
    },
    {
     "cell_type": "code",
     "collapsed": false,
     "input": [
      "#Given\n",
      "m = 0.9\n",
      "Pc = 921.6\n",
      "\n",
      "#calculation\n",
      "Psb = (m**2*Pc)/4.0\n",
      "\n",
      "#Result\n",
      "print\"The power in one sideband \",round(Psb,1),\"Watt\"\n"
     ],
     "language": "python",
     "metadata": {},
     "outputs": [
      {
       "output_type": "stream",
       "stream": "stdout",
       "text": [
        "The power in one sideband  186.6 Watt\n"
       ]
      }
     ],
     "prompt_number": 8
    },
    {
     "cell_type": "heading",
     "level": 2,
     "metadata": {},
     "source": [
      "Example 3.7 page no 113"
     ]
    },
    {
     "cell_type": "code",
     "collapsed": false,
     "input": [
      "#Given\n",
      "Vpp = 178\n",
      "R = 75.0\n",
      "\n",
      "#Calculation\n",
      "Vp =Vpp/2.0\n",
      "Vrms = 0.707*Vp\n",
      "PEP =(Vrms**2/R)\n",
      "\n",
      "#Result\n",
      "print\"The peak envelop power is \", round(PEP,1),\"Watt\"\n"
     ],
     "language": "python",
     "metadata": {},
     "outputs": [
      {
       "output_type": "stream",
       "stream": "stdout",
       "text": [
        "The peak envelop power is  52.8 Watt\n"
       ]
      }
     ],
     "prompt_number": 9
    },
    {
     "cell_type": "heading",
     "level": 2,
     "metadata": {},
     "source": [
      "Example 3.8 page no 113"
     ]
    },
    {
     "cell_type": "code",
     "collapsed": false,
     "input": [
      "#Given\n",
      "Vs =24\n",
      "Im =9.3\n",
      "\n",
      "#Calculation\n",
      "PEP = Vs*Im \n",
      "Pavg1 = PEP/3.0\n",
      "Pavg2 = PEP/4.0\n",
      "\n",
      "#Result\n",
      "print\"(a) The peak envelope power is \",PEP,\"watt\"\n",
      "print\"(b) Average power of transmitter is \",Pavg2,\"watt to\",Pavg1,\"watt\"\n"
     ],
     "language": "python",
     "metadata": {},
     "outputs": [
      {
       "output_type": "stream",
       "stream": "stdout",
       "text": [
        "(a) The peak envelope power is  223.2 watt\n",
        "(b) Average power of transmitter is  55.8 watt to 74.4 watt\n"
       ]
      }
     ],
     "prompt_number": 10
    }
   ],
   "metadata": {}
  }
 ]
}