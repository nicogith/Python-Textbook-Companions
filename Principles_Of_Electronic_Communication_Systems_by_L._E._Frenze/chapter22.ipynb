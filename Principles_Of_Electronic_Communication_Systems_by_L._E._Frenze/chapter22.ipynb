{
 "metadata": {
  "name": "",
  "signature": "sha256:d66b7b0a5ebd4fcdf9eb24f98ae81ac03aa2dcdb229f576b47a170647bd9ea49"
 },
 "nbformat": 3,
 "nbformat_minor": 0,
 "worksheets": [
  {
   "cells": [
    {
     "cell_type": "heading",
     "level": 1,
     "metadata": {},
     "source": [
      "Chapter 22 Communication tests and measurments"
     ]
    },
    {
     "cell_type": "heading",
     "level": 2,
     "metadata": {},
     "source": [
      "Example 22.1 Page no 854"
     ]
    },
    {
     "cell_type": "code",
     "collapsed": false,
     "input": [
      "#Given\n",
      "Vp=8                       #volts\n",
      "R=75                       #Ohm\n",
      "\n",
      "#Calculation\n",
      "Vmax=0.707*Vp\n",
      "P=Vmax**2/R\n",
      "\n",
      "#Result\n",
      "print\"Power is dissipated in the load is \",round(P,4),\"Watt\""
     ],
     "language": "python",
     "metadata": {},
     "outputs": [
      {
       "output_type": "stream",
       "stream": "stdout",
       "text": [
        "Power is dissipated in the load is  0.4265 Watt\n"
       ]
      }
     ],
     "prompt_number": 3
    },
    {
     "cell_type": "heading",
     "level": 2,
     "metadata": {},
     "source": [
      "Example 22.2 Page no 857"
     ]
    },
    {
     "cell_type": "code",
     "collapsed": false,
     "input": [
      "#Given\n",
      "Pf=380.0                     #Watt\n",
      "Pr=40                      #Watt\n",
      "\n",
      "#Calculation\n",
      "import math\n",
      "m=math.sqrt(Pr/Pf)\n",
      "SWR=(1+m)/(1-m)\n",
      "print\"SWR= \",round(SWR,2)"
     ],
     "language": "python",
     "metadata": {},
     "outputs": [
      {
       "output_type": "stream",
       "stream": "stdout",
       "text": [
        "SWR=  1.96\n"
       ]
      }
     ],
     "prompt_number": 8
    }
   ],
   "metadata": {}
  }
 ]
}