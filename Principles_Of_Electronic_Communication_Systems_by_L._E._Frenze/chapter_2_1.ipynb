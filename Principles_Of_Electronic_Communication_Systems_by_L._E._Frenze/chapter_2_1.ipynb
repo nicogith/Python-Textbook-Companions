{
 "metadata": {
  "name": "",
  "signature": "sha256:0b7383bde99cd4f0125cd654ff30432e941ee3972919bf09fe35e260edf9b001"
 },
 "nbformat": 3,
 "nbformat_minor": 0,
 "worksheets": [
  {
   "cells": [
    {
     "cell_type": "heading",
     "level": 1,
     "metadata": {},
     "source": [
      "Chapter 2 The fundamentals of Electronics: A Review"
     ]
    },
    {
     "cell_type": "heading",
     "level": 2,
     "metadata": {},
     "source": [
      "Example 2.1 Page no 31"
     ]
    },
    {
     "cell_type": "code",
     "collapsed": false,
     "input": [
      "#given\n",
      "vout=750*10**-3\n",
      "vin = 30*10**-6\n",
      "\n",
      "#calculation\n",
      "gain=vout/vin\n",
      "\n",
      "#Result\n",
      "print\"The Voltage gain of the amplifier is \",gain\n"
     ],
     "language": "python",
     "metadata": {},
     "outputs": [
      {
       "output_type": "stream",
       "stream": "stdout",
       "text": [
        "The Voltage gain of the amplifier is  25000.0\n"
       ]
      }
     ],
     "prompt_number": 2
    },
    {
     "cell_type": "heading",
     "level": 2,
     "metadata": {},
     "source": [
      "Example 2.2 Page no 31"
     ]
    },
    {
     "cell_type": "code",
     "collapsed": false,
     "input": [
      "#given\n",
      "pout=6\n",
      "power_gain=80.0\n",
      "\n",
      "#calculation\n",
      "pin=pout/power_gain\n",
      "\n",
      "#Result\n",
      "print\"The input power of the signal is \",pin*1000,\"mW\"\n"
     ],
     "language": "python",
     "metadata": {},
     "outputs": [
      {
       "output_type": "stream",
       "stream": "stdout",
       "text": [
        "The input power of the sigmal is  75.0 mW\n"
       ]
      }
     ],
     "prompt_number": 3
    },
    {
     "cell_type": "heading",
     "level": 2,
     "metadata": {},
     "source": [
      "Example 2.3 Page no 32"
     ]
    },
    {
     "cell_type": "code",
     "collapsed": false,
     "input": [
      "#given\n",
      "A1=5;\n",
      "A2=2;\n",
      "A3=17;\n",
      "total_gain=A1*A2*A3;\n",
      "pin= 40*10**-3;\n",
      "\n",
      "#calculation\n",
      "pout=total_gain*pin;\n",
      "\n",
      "#Result\n",
      "print\"The output power is\",pout,\"watts\"\n",
      "\n"
     ],
     "language": "python",
     "metadata": {},
     "outputs": [
      {
       "output_type": "stream",
       "stream": "stdout",
       "text": [
        "The output power is 6.8 watts\n"
       ]
      }
     ],
     "prompt_number": 4
    },
    {
     "cell_type": "heading",
     "level": 2,
     "metadata": {},
     "source": [
      "Example 2.4 Page no 32"
     ]
    },
    {
     "cell_type": "code",
     "collapsed": false,
     "input": [
      "#given\n",
      "pin=25.0*10**-6;\n",
      "pout=1.5*10**-3;\n",
      "A1=3.0;\n",
      "\n",
      "#Calculation\n",
      "total_gain=pout/pin;\n",
      "print\"Total gain is\",total_gain\n",
      "A2=total_gain/A1\n",
      "\n",
      "#Result\n",
      "print\"The gain of second stage is \",A2\n"
     ],
     "language": "python",
     "metadata": {},
     "outputs": [
      {
       "output_type": "stream",
       "stream": "stdout",
       "text": [
        "Total gain is 60.0\n",
        "The gain of second stage is  20.0\n"
       ]
      }
     ],
     "prompt_number": 7
    },
    {
     "cell_type": "heading",
     "level": 2,
     "metadata": {},
     "source": [
      "Example 2.5 Page no 34"
     ]
    },
    {
     "cell_type": "code",
     "collapsed": false,
     "input": [
      "#given\n",
      "R1=10.0*10**3;\n",
      "R2=470.0;\n",
      "\n",
      "#Calculation\n",
      "attenuation=R2/(R2+R1)\n",
      "A2=1/attenuation\n",
      "\n",
      "#Result\n",
      "print\"(a) The attenuation (A1) is\",round(attenuation,3)\n",
      "print\"(b) The attenuation (A2) is\",round(A2,1)\n"
     ],
     "language": "python",
     "metadata": {},
     "outputs": [
      {
       "output_type": "stream",
       "stream": "stdout",
       "text": [
        "(a) The attenuation (A1) is 0.045\n",
        "(b) The attenuation (A2) is 22.3\n"
       ]
      }
     ],
     "prompt_number": 7
    },
    {
     "cell_type": "heading",
     "level": 2,
     "metadata": {},
     "source": [
      "Example 2.6 Page no 35"
     ]
    },
    {
     "cell_type": "code",
     "collapsed": false,
     "input": [
      "#given\n",
      "Vin=20.0*10**-6;\n",
      "Vout=100*10**-3;\n",
      "A1=45000.0                                #A1 isAmplifier gain\n",
      "\n",
      "#calculation\n",
      "AT=Vout/Vin                                #AT is Total gain\n",
      "A2=AT/A1                                   #A2 is attenuation factor\n",
      "\n",
      "#Result\n",
      "print\"Total gain is\",AT\n",
      "print\"The atenuation factor needed to to keep the output voltage from exceeding 100 mv is \",round(A2,4)\n"
     ],
     "language": "python",
     "metadata": {},
     "outputs": [
      {
       "output_type": "stream",
       "stream": "stdout",
       "text": [
        "Total gain is 5000.0\n",
        "The atenuation factor needed to to keep the output voltage from exceeding 100 mv is  0.1111\n"
       ]
      }
     ],
     "prompt_number": 6
    },
    {
     "cell_type": "heading",
     "level": 2,
     "metadata": {},
     "source": [
      "Example 2.7 Page no 36"
     ]
    },
    {
     "cell_type": "code",
     "collapsed": false,
     "input": [
      "#given\n",
      "Vin=3.0*10**-3\n",
      "Vout=5\n",
      "Pin=50.0*10**-3                                     \n",
      "Pout=2*10**-3                                     \n",
      "\n",
      "#calculation\n",
      "import math\n",
      "gain_dB= 20*log10 (Vout/Vin)\n",
      "gain_db=10*log10 (Pout/Pin)\n",
      "\n",
      "#Result\n",
      "print\"(a) The gain of amplifier in dB is \",round(gain_dB,1)\n",
      "print\"(b) The gain in dB is \",round(gain_db,2)\n"
     ],
     "language": "python",
     "metadata": {},
     "outputs": [
      {
       "output_type": "stream",
       "stream": "stdout",
       "text": [
        "(a) The gain of amplifier in dB is  64.4\n",
        "(b) The gain in dB is  -13.98\n"
       ]
      }
     ],
     "prompt_number": 11
    },
    {
     "cell_type": "heading",
     "level": 2,
     "metadata": {},
     "source": [
      "Example 2.8 Page no 38"
     ]
    },
    {
     "cell_type": "code",
     "collapsed": false,
     "input": [
      "#given\n",
      "gain_dB = 40\n",
      "pout_W= 100\n",
      "\n",
      "#calculation\n",
      "pin_W = pout_W/10.0**4\n",
      "\n",
      "#Result\n",
      "print\"The input power is \",pin_W,\"Watt\"\n",
      " \n"
     ],
     "language": "python",
     "metadata": {},
     "outputs": [
      {
       "output_type": "stream",
       "stream": "stdout",
       "text": [
        "The input power is  0.01 Watt\n"
       ]
      }
     ],
     "prompt_number": 19
    },
    {
     "cell_type": "heading",
     "level": 2,
     "metadata": {},
     "source": [
      "Example 2.9 Page no 38"
     ]
    },
    {
     "cell_type": "code",
     "collapsed": false,
     "input": [
      "#given\n",
      "\n",
      "gain_db = 60\n",
      "vin = 50*10**-6\n",
      "\n",
      "#calculation\n",
      "vout = 10**(60/20.0)*vin\n",
      "\n",
      "#Result\n",
      "print\"The output voltage is \",vout,\"volt\"\n"
     ],
     "language": "python",
     "metadata": {},
     "outputs": [
      {
       "output_type": "stream",
       "stream": "stdout",
       "text": [
        "The output voltage is  0.05 volt\n"
       ]
      }
     ],
     "prompt_number": 21
    },
    {
     "cell_type": "heading",
     "level": 2,
     "metadata": {},
     "source": [
      "Example 2.10 Page no 39"
     ]
    },
    {
     "cell_type": "code",
     "collapsed": false,
     "input": [
      "#given\n",
      "\n",
      "vin=90*10**-3\n",
      "R1= 10.0*10**3\n",
      "vout=7.8\n",
      "Rout=8.0\n",
      "\n",
      "#calculation\n",
      "pin= vin**2/R1\n",
      "pout=vout**2/Rout\n",
      "\n",
      "import math\n",
      "Ap_db = 10*log10 (pout/pin)\n",
      "\n",
      "#Result\n",
      "print\"The power gain in decibel is \",round(Ap_db,1),\"dB\"\n",
      "\n"
     ],
     "language": "python",
     "metadata": {},
     "outputs": [
      {
       "output_type": "stream",
       "stream": "stdout",
       "text": [
        "The power gain in decibel is  69.7 dB\n"
       ]
      }
     ],
     "prompt_number": 13
    },
    {
     "cell_type": "heading",
     "level": 2,
     "metadata": {},
     "source": [
      "Example 2.11 Page no 40"
     ]
    },
    {
     "cell_type": "code",
     "collapsed": false,
     "input": [
      "#given\n",
      "\n",
      "gain_db = 28\n",
      "pin = 36*10**-3\n",
      "\n",
      "#calculation\n",
      "pout = 10**2.8*pin;\n",
      "\n",
      "#Result\n",
      "print\"The output power is \",round(pout,2),\"watt\"\n"
     ],
     "language": "python",
     "metadata": {},
     "outputs": [
      {
       "output_type": "stream",
       "stream": "stdout",
       "text": [
        "The output power is  22.71 watt\n"
       ]
      }
     ],
     "prompt_number": 14
    },
    {
     "cell_type": "heading",
     "level": 2,
     "metadata": {},
     "source": [
      "Example 2.12 Page no 40"
     ]
    },
    {
     "cell_type": "code",
     "collapsed": false,
     "input": [
      "#given\n",
      "gain1 = 6.8 \n",
      "gain2 = 14.3\n",
      "attenuation1 = -16.4\n",
      "attenuation2 = -2.9\n",
      "vout = 800*10**-3\n",
      "\n",
      "#calculation\n",
      "At = gain1+gain2+attenuation1+attenuation2\n",
      "vin = vout/10.0**(At/20.0)\n",
      "\n",
      "#Result\n",
      "print\"The input voltage is \",round(vin*10**3,1),\"mv\"\n"
     ],
     "language": "python",
     "metadata": {},
     "outputs": [
      {
       "output_type": "stream",
       "stream": "stdout",
       "text": [
        "The input voltage is  650.3 mv\n"
       ]
      }
     ],
     "prompt_number": 15
    },
    {
     "cell_type": "heading",
     "level": 2,
     "metadata": {},
     "source": [
      "Example 2.13 Page no 40"
     ]
    },
    {
     "cell_type": "code",
     "collapsed": false,
     "input": [
      "#given\n",
      "pout_db =12.3\n",
      "\n",
      "#calculation\n",
      "pout_mW = 0.001*10**(12.3/10.0)\n",
      "\n",
      "#Result\n",
      "print\"The output power is \" ,round(pout_mW*10**3,0),\"mv\"\n"
     ],
     "language": "python",
     "metadata": {},
     "outputs": [
      {
       "output_type": "stream",
       "stream": "stdout",
       "text": [
        "The output power is  17.0 mv\n"
       ]
      }
     ],
     "prompt_number": 16
    },
    {
     "cell_type": "heading",
     "level": 2,
     "metadata": {},
     "source": [
      "Example 2.14 Page no 46"
     ]
    },
    {
     "cell_type": "code",
     "collapsed": false,
     "input": [
      "#given\n",
      "c = 2.7*10**-12\n",
      "l = 33*10**-9\n",
      "\n",
      "#calculation\n",
      "fr= 1/(6.28*(l*c)**0.5)\n",
      "\n",
      "#Result\n",
      "print\"The resonat frequency is \" ,round(fr/10.0**6,0),\"Mhz\"\n"
     ],
     "language": "python",
     "metadata": {},
     "outputs": [
      {
       "output_type": "stream",
       "stream": "stdout",
       "text": [
        "The resonat frequency is  533.0 Mhz\n"
       ]
      }
     ],
     "prompt_number": 19
    },
    {
     "cell_type": "heading",
     "level": 2,
     "metadata": {},
     "source": [
      "Example 2.15 Page no 47"
     ]
    },
    {
     "cell_type": "code",
     "collapsed": false,
     "input": [
      "#given\n",
      "c =12*10**-12\n",
      "fr = 49*10**6\n",
      "\n",
      "#calculation\n",
      "l=1/(4*3.14**2*fr**2*c)\n",
      "\n",
      "#Result\n",
      "print\"The value of inductance is \" ,round(l*10**9,0),\"nh\" \n"
     ],
     "language": "python",
     "metadata": {},
     "outputs": [
      {
       "output_type": "stream",
       "stream": "stdout",
       "text": [
        "The value of inductance is  880.0 nh\n"
       ]
      }
     ],
     "prompt_number": 20
    },
    {
     "cell_type": "heading",
     "level": 2,
     "metadata": {},
     "source": [
      "Example 2.16 Page no 49"
     ]
    },
    {
     "cell_type": "code",
     "collapsed": false,
     "input": [
      "#given\n",
      "fr=28*10**6\n",
      "Q=70.0\n",
      "\n",
      "#calculation\n",
      "bandwidth = fr/Q\n",
      "\n",
      "#Result\n",
      "print\"The bandwidth is \",bandwidth/10.0**3,\"Khz\"\n"
     ],
     "language": "python",
     "metadata": {},
     "outputs": [
      {
       "output_type": "stream",
       "stream": "stdout",
       "text": [
        "The bandwidth is  400.0 Khz\n"
       ]
      }
     ],
     "prompt_number": 6
    },
    {
     "cell_type": "heading",
     "level": 2,
     "metadata": {},
     "source": [
      "Example 2.17 Page no 50"
     ]
    },
    {
     "cell_type": "code",
     "collapsed": false,
     "input": [
      "#given\n",
      "f1= 7.93*10**6\n",
      "f2= 8.07*10**6\n",
      "\n",
      "#calculation\n",
      "bw= f2-f1\n",
      "fr=(f1*f2)**0.5\n",
      "Q= fr/bw\n",
      "\n",
      "#Result\n",
      "print\"(a) The bandwidth is \",bw/10.0**3,\"Khz\"\n",
      "print\"(b) The resonant frequency is \",round(fr/10.0**6,0),\"Mhz\"\n",
      "print\"(c) The Q of resonant circuit is \",round(Q,2)\n"
     ],
     "language": "python",
     "metadata": {},
     "outputs": [
      {
       "output_type": "stream",
       "stream": "stdout",
       "text": [
        "(a) The bandwidth is  140.0 Khz\n",
        "(b) The resonant frequency is  8.0 Mhz\n",
        "(c) The Q of resonant circuit is  57.14\n"
       ]
      }
     ],
     "prompt_number": 23
    },
    {
     "cell_type": "heading",
     "level": 2,
     "metadata": {},
     "source": [
      "Example 2.18 Page no 50"
     ]
    },
    {
     "cell_type": "code",
     "collapsed": false,
     "input": [
      "#given\n",
      "Q=200.0\n",
      "fr=16*10**6\n",
      "\n",
      "#calculation\n",
      "bw=fr/Q\n",
      "f1= fr-(bw/2)\n",
      "f2=fr+(bw/2)\n",
      "\n",
      "#Result\n",
      "print\"Bandwidth is \",bw*10**-3,\"KHz\"\n",
      "print\"f1= \",f1*10**-6,\"MHz\"\n",
      "print\"f2= \",f2*10**-6,\"MHz\""
     ],
     "language": "python",
     "metadata": {},
     "outputs": [
      {
       "output_type": "stream",
       "stream": "stdout",
       "text": [
        "Bandwidth is  80.0 KHz\n",
        "f1=  15.96 MHz\n",
        "f2=  16.04 MHz\n"
       ]
      }
     ],
     "prompt_number": 30
    },
    {
     "cell_type": "heading",
     "level": 2,
     "metadata": {},
     "source": [
      "Example 2.19 Page no 52"
     ]
    },
    {
     "cell_type": "code",
     "collapsed": false,
     "input": [
      "#given\n",
      "Q= 150\n",
      "Vs=3*10**-6\n",
      "\n",
      "#calculation\n",
      "Vc= Q*Vs\n",
      "\n",
      "#Result\n",
      "print\"The voltage across capacitor is \",Vc*10**6,\"microvolt\"\n"
     ],
     "language": "python",
     "metadata": {},
     "outputs": [
      {
       "output_type": "stream",
       "stream": "stdout",
       "text": [
        "The voltage across capacitor is  450.0 microvolt\n"
       ]
      }
     ],
     "prompt_number": 9
    },
    {
     "cell_type": "heading",
     "level": 2,
     "metadata": {},
     "source": [
      "Example 2.20 Page no 54"
     ]
    },
    {
     "cell_type": "code",
     "collapsed": false,
     "input": [
      "#given\n",
      "fr= 52*10**6\n",
      "Q=12.0\n",
      "L=0.15*10**-6\n",
      "\n",
      "#calculation\n",
      "Rw=(6.28*fr*L)/Q\n",
      "Req= Rw*(Q**2+1)\n",
      "\n",
      "#Result\n",
      "print\"Impedance of the parellel LC circuit is \",round(Req,0),\"ohm\"\n"
     ],
     "language": "python",
     "metadata": {},
     "outputs": [
      {
       "output_type": "stream",
       "stream": "stdout",
       "text": [
        "Impedance of the parellel LC circuit is  592.0 ohm\n"
       ]
      }
     ],
     "prompt_number": 10
    },
    {
     "cell_type": "heading",
     "level": 2,
     "metadata": {},
     "source": [
      "Example 2.21 Page no 54"
     ]
    },
    {
     "cell_type": "code",
     "collapsed": false,
     "input": [
      "#given\n",
      "fr= 52.0*10**6\n",
      "Rw= 4.1\n",
      "L =0.15*10**-6\n",
      "\n",
      "#calculation\n",
      "C=1/(4.0*3.14**2*fr**2*L)\n",
      "Z = L/(C*Rw)\n",
      "\n",
      "#Result\n",
      "print\"the impedance of the circuit is \",round(Z,0),\"ohm\"\n",
      "\n"
     ],
     "language": "python",
     "metadata": {},
     "outputs": [
      {
       "output_type": "stream",
       "stream": "stdout",
       "text": [
        "the impedance of the circuit is  585.0 ohm\n"
       ]
      }
     ],
     "prompt_number": 13
    },
    {
     "cell_type": "heading",
     "level": 2,
     "metadata": {},
     "source": [
      "Example 2.22 Page no 55"
     ]
    },
    {
     "cell_type": "code",
     "collapsed": false,
     "input": [
      "#given\n",
      "bw = 1.0*10**6\n",
      "XL = 300\n",
      "Rw = 10.0\n",
      "fr =10*10**6\n",
      "\n",
      "#calculation\n",
      "Q1 = XL/Rw\n",
      "Rp = Rw*(Q1**2+1) \n",
      "\n",
      "Q2 = fr/bw\n",
      "Rpnew = Q2*XL\n",
      "\n",
      "Rext = (Rpnew*Rp)/(Rp-Rpnew)\n",
      "\n",
      "#Result\n",
      "print\"The value of resistor needed to set the bandwidth of the parellel tuned circuit is \",round(Rext,1),\"ohm\"\n"
     ],
     "language": "python",
     "metadata": {},
     "outputs": [
      {
       "output_type": "stream",
       "stream": "stdout",
       "text": [
        "The value of resistor needed to set the bandwidth of the parellel tuned circuit is  4497.5 ohm\n"
       ]
      }
     ],
     "prompt_number": 17
    },
    {
     "cell_type": "heading",
     "level": 2,
     "metadata": {},
     "source": [
      "Example 2.23 Page no 57"
     ]
    },
    {
     "cell_type": "code",
     "collapsed": false,
     "input": [
      "#given\n",
      "R = 8.2*10**3\n",
      "C =0.0033*10**-6\n",
      "\n",
      "#calculation\n",
      "fco = 1/(6.28* R*C)\n",
      "\n",
      "#Result\n",
      "print\"The cut off frequency is \",round(fco/10.0**3,2),\"Khz\"\n"
     ],
     "language": "python",
     "metadata": {},
     "outputs": [
      {
       "output_type": "stream",
       "stream": "stdout",
       "text": [
        "The cut off frequency is  5.88 Khz\n"
       ]
      }
     ],
     "prompt_number": 18
    },
    {
     "cell_type": "heading",
     "level": 2,
     "metadata": {},
     "source": [
      "Example 2.24 Page no 60"
     ]
    },
    {
     "cell_type": "code",
     "collapsed": false,
     "input": [
      "#given\n",
      "fco =3.4*10**3\n",
      "C = 0.047*10**-6\n",
      "\n",
      "#calculation\n",
      "R = 1/(6.28* fco* C)\n",
      "\n",
      "#Result\n",
      "print\"The value of the resistor is \",round(R,0),\"ohm\"\n",
      "print\"The closest standard value is \", 1000 ,\"ohm\"\n"
     ],
     "language": "python",
     "metadata": {},
     "outputs": [
      {
       "output_type": "stream",
       "stream": "stdout",
       "text": [
        "The value of the resistor is  996.0 ohm\n",
        "The closest standard value is  1000 ohm\n"
       ]
      }
     ],
     "prompt_number": 19
    },
    {
     "cell_type": "heading",
     "level": 2,
     "metadata": {},
     "source": [
      "Example 2.25 Page no 61"
     ]
    },
    {
     "cell_type": "code",
     "collapsed": false,
     "input": [
      "#given\n",
      "fnotch = 120\n",
      "R = 220*10**3\n",
      "\n",
      "#calculatiuon\n",
      "C = 1/(6.28*R*fnotch)\n",
      "\n",
      "#Result\n",
      "print\"The value of capacitance required is \",round(2*C*10**6,3),\"microfarad\"\n"
     ],
     "language": "python",
     "metadata": {},
     "outputs": [
      {
       "output_type": "stream",
       "stream": "stdout",
       "text": [
        "The value of capacitance required is  0.012 microfarad\n"
       ]
      }
     ],
     "prompt_number": 20
    },
    {
     "cell_type": "heading",
     "level": 2,
     "metadata": {},
     "source": [
      "Example 2.26 Page no 82"
     ]
    },
    {
     "cell_type": "code",
     "collapsed": false,
     "input": [
      "#given\n",
      "Vpeak =3.0\n",
      "f=48*10**3\n",
      "\n",
      "#calculation\n",
      "fifth_harmonic = 5*f\n",
      "Vrms=(4/3.14)*(3/5.0)*0.707\n",
      "\n",
      "#Result\n",
      "print\"(a) The frequency of the fifth harmonic is \",fifth_harmonic/10.0**3,\"Khz\"\n",
      "print\"The RMS voltage of the fifth harmonic is \",round(Vrms,3)\n"
     ],
     "language": "python",
     "metadata": {},
     "outputs": [
      {
       "output_type": "stream",
       "stream": "stdout",
       "text": [
        "(a) The frequency of the fifth harmonic is  240.0 Khz\n",
        "The RMS voltage of the fifth harmonic is  0.54\n"
       ]
      }
     ],
     "prompt_number": 22
    },
    {
     "cell_type": "heading",
     "level": 2,
     "metadata": {},
     "source": [
      "Example 2.27 Page no 87"
     ]
    },
    {
     "cell_type": "code",
     "collapsed": false,
     "input": [
      "#given\n",
      "Vpeak = 5\n",
      "f = 4.0*10**6\n",
      "duty_cycle=0.3\n",
      "\n",
      "#calculation\n",
      "T = 1/f\n",
      "t0 = duty_cycle*T\n",
      "Vavg = Vpeak*duty_cycle\n",
      "min_bw =1/t0\n",
      "\n",
      "#Result\n",
      "print\"(a) The average DC value is \",Vavg,\"volt\"\n",
      "print\"(b) The minimum bandwidth required is \" ,round(min_bw/10.0**6,3),\"Mhz\""
     ],
     "language": "python",
     "metadata": {},
     "outputs": [
      {
       "output_type": "stream",
       "stream": "stdout",
       "text": [
        "(a) The average DC value is  1.5 volt\n",
        "(b) The minimum bandwidth required is  13.333 Mhz\n"
       ]
      }
     ],
     "prompt_number": 25
    },
    {
     "cell_type": "heading",
     "level": 2,
     "metadata": {},
     "source": [
      "Example 2.28 Page no 88"
     ]
    },
    {
     "cell_type": "code",
     "collapsed": false,
     "input": [
      "#given\n",
      "tr =6*10**-9\n",
      "\n",
      "#calculation\n",
      "min_bw=(35/0.006)\n",
      "\n",
      "#Result\n",
      "print\"The minimum bandwidth is % is \",round(min_bw/10.0**2,1),\"Mhz\"\n"
     ],
     "language": "python",
     "metadata": {},
     "outputs": [
      {
       "output_type": "stream",
       "stream": "stdout",
       "text": [
        "The minimum bandwidth is % is  58.3 Mhz\n"
       ]
      }
     ],
     "prompt_number": 26
    },
    {
     "cell_type": "heading",
     "level": 2,
     "metadata": {},
     "source": [
      "Example 2.29 Page no 89"
     ]
    },
    {
     "cell_type": "code",
     "collapsed": false,
     "input": [
      "#given\n",
      "bw= 200.0*10**3\n",
      "\n",
      "#calculation\n",
      "tr= 0.35/(bw*10**-3)\n",
      "\n",
      "#Result\n",
      "print\"The fastest rise time of the circuit is \" ,tr*10**3,\"microseconds\"\n"
     ],
     "language": "python",
     "metadata": {},
     "outputs": [
      {
       "output_type": "stream",
       "stream": "stdout",
       "text": [
        "The fastest rise time of the circuit is  1.75 microseconds\n"
       ]
      }
     ],
     "prompt_number": 31
    },
    {
     "cell_type": "heading",
     "level": 2,
     "metadata": {},
     "source": [
      "Example 2.30 Page no 90"
     ]
    },
    {
     "cell_type": "code",
     "collapsed": false,
     "input": [
      "#given\n",
      "bw_mhz = 60\n",
      "tri_ns= 15\n",
      "\n",
      "#calculation\n",
      "tra_osci = 0.35/(bw_mhz)\n",
      "tra_comp = 1.1*(tri_ns**2 + (tra_osci*10**3)**2)**0.5\n",
      "\n",
      "#Result\n",
      "print\"The rise time of the displayed square wave is \",round(tra_comp,1),\"ns\"\n"
     ],
     "language": "python",
     "metadata": {},
     "outputs": [
      {
       "output_type": "stream",
       "stream": "stdout",
       "text": [
        "The rise time of the displayed square wave is  17.7 ns\n"
       ]
      }
     ],
     "prompt_number": 27
    }
   ],
   "metadata": {}
  }
 ]
}