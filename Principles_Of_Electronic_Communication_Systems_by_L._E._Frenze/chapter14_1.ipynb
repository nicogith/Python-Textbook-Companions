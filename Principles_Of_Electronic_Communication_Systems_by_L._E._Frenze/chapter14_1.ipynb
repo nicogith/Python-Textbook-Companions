{
 "metadata": {
  "name": "",
  "signature": "sha256:8f9093920b7d1b010ea79cdf7fde78edb0be4df7ea34f4ae2c0023eb64d7b5d4"
 },
 "nbformat": 3,
 "nbformat_minor": 0,
 "worksheets": [
  {
   "cells": [
    {
     "cell_type": "heading",
     "level": 1,
     "metadata": {},
     "source": [
      "Chapter 14 Antennas and Wave Propogation"
     ]
    },
    {
     "cell_type": "heading",
     "level": 2,
     "metadata": {},
     "source": [
      "Example 14.1 page no 544"
     ]
    },
    {
     "cell_type": "code",
     "collapsed": false,
     "input": [
      "#Given\n",
      "f=310.0*10**6\n",
      "\n",
      "#Calculation\n",
      "import math\n",
      "len1 =(492*0.97)/f\n",
      "len2 =(492/f)*0.8\n",
      "len3 =(984/f)*0.73\n",
      "z1 =120*log(35/2.0)\n",
      "len4 =234/f\n",
      "z2  = 73/2.0\n",
      "\n",
      "#Result\n",
      "print\"(a) The length and radiation resistance of the dipole are \",round(len1*10**6,2),\"feet and 73 ohm respectively\"\n",
      "print\"(b) The length of the folded dipole are \",round(len2*10**6,2),\"feet\"\n",
      "print\"(c) The length and radiation resistance of the bow tie antenna are \",round(len3*10**6,1),\"feet and \",round(z1,1),\"ohm respectively\"\n",
      "print\"(d) The length and radiation resistance of the groun plane antenna are \",round(len4*10**6,3),\"feet and\",z2,\"ohmrespectively\"\n"
     ],
     "language": "python",
     "metadata": {},
     "outputs": [
      {
       "output_type": "stream",
       "stream": "stdout",
       "text": [
        "(a) The length and radiation resistance of the dipole are  1.54 feet and 73 ohm respectively\n",
        "(b) The length of the folded dipole are  1.27 feet\n",
        "(c) The length and radiation resistance of the bow tie antenna are  2.3 feet and  343.5 ohm respectively\n",
        "(d) The length and radiation resistance of the groun plane antenna are  0.755 feet and 36.5 ohmrespectively\n"
       ]
      }
     ],
     "prompt_number": 8
    },
    {
     "cell_type": "heading",
     "level": 2,
     "metadata": {},
     "source": [
      "Example 14.2 Page no 553"
     ]
    },
    {
     "cell_type": "code",
     "collapsed": false,
     "input": [
      "#Given\n",
      "gain=14\n",
      "len=250\n",
      "attn_100=3.6\n",
      "f =220*10\n",
      "pin =50\n",
      "p =0.126\n",
      "\n",
      "#Calculation\n",
      "pout =pin*p\n",
      "line_loss =pin-pout\n",
      "pwr_ratio = 25.1\n",
      "ERP = pwr_ratio*pout\n",
      "\n",
      "#Result\n",
      "print\"(a) The transmission line loss is \",line_loss\n",
      "print\"(b) Effective raduated power is \",round(ERP,1),\"W\"\n",
      "\n"
     ],
     "language": "python",
     "metadata": {},
     "outputs": [
      {
       "output_type": "stream",
       "stream": "stdout",
       "text": [
        "(a) The transmission line loss is  43.7\n",
        "(b) Effective raduated power is  158.1 W\n"
       ]
      }
     ],
     "prompt_number": 12
    },
    {
     "cell_type": "heading",
     "level": 2,
     "metadata": {},
     "source": [
      "Example 14.3 Page no 556"
     ]
    },
    {
     "cell_type": "code",
     "collapsed": false,
     "input": [
      "#Given\n",
      "Z0 =50\n",
      "Zl =172\n",
      "f =460.0*10**6\n",
      "VF =0.86\n",
      "\n",
      "#Calculation\n",
      "len =(246/f)*VF\n",
      "\n",
      "#Result\n",
      "print\"The length of the impedance matching section needed for the Q section is \",round(len*10**6,2),\"feet\"\n"
     ],
     "language": "python",
     "metadata": {},
     "outputs": [
      {
       "output_type": "stream",
       "stream": "stdout",
       "text": [
        "The length of the impedance matching section needed for the Q section is  0.46 feet\n"
       ]
      }
     ],
     "prompt_number": 13
    },
    {
     "cell_type": "heading",
     "level": 2,
     "metadata": {},
     "source": [
      "Example 14.4 Page no 557"
     ]
    },
    {
     "cell_type": "code",
     "collapsed": false,
     "input": [
      "#Given\n",
      "f = 460.0*10**6\n",
      "VF = 0.66\n",
      "\n",
      "#Calculation\n",
      "len = (246/f)*VF\n",
      "\n",
      "#Result \n",
      "print\"The length of impedance matching section is \",round(len*10**6,3),\"feet\"\n"
     ],
     "language": "python",
     "metadata": {},
     "outputs": [
      {
       "output_type": "stream",
       "stream": "stdout",
       "text": [
        "The length of impedance matching section is  0.353 feet\n"
       ]
      }
     ],
     "prompt_number": 14
    },
    {
     "cell_type": "heading",
     "level": 2,
     "metadata": {},
     "source": [
      "Example 14.5 Page no 567"
     ]
    },
    {
     "cell_type": "code",
     "collapsed": false,
     "input": [
      "#Given\n",
      "ht =275\n",
      "hr =60\n",
      "f=224.0*10**6\n",
      "pt=100\n",
      "Gt = 26\n",
      "Gr = 3.27\n",
      "\n",
      "#Calculation\n",
      "D =((2*ht)**0.5+(2*hr)**0.5)*1.61\n",
      "lamda = 300/f\n",
      "Pr = (pt*Gt*Gr*lamda**2)/(16*3.14**2*D**2)\n",
      "\n",
      "#Result\n",
      "print\"(a) The maximmum transmitting distance is \",round(D,1),\"kilometer\"\n",
      "print\"The received power is \",round(Pr*10**15,1),\"nW\"\n"
     ],
     "language": "python",
     "metadata": {},
     "outputs": [
      {
       "output_type": "stream",
       "stream": "stdout",
       "text": [
        "(a) The maximmum transmitting distance is  55.4 kilometer\n",
        "The received power is  31.5 nW\n"
       ]
      }
     ],
     "prompt_number": 16
    }
   ],
   "metadata": {}
  }
 ]
}