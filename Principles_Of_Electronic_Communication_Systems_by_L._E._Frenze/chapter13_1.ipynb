{
 "metadata": {
  "name": "",
  "signature": "sha256:0554007e74bfe6cdd53136e8f25769048ad21412148cdd192396d4befa058e18"
 },
 "nbformat": 3,
 "nbformat_minor": 0,
 "worksheets": [
  {
   "cells": [
    {
     "cell_type": "heading",
     "level": 1,
     "metadata": {},
     "source": [
      "Chapter 13 Transmission lines"
     ]
    },
    {
     "cell_type": "heading",
     "level": 2,
     "metadata": {},
     "source": [
      "Example 13.1 Page no 483"
     ]
    },
    {
     "cell_type": "code",
     "collapsed": false,
     "input": [
      "#Given\n",
      "f= 450.0*10**6\n",
      "\n",
      "#Calculation\n",
      "lamda = 984/f\n",
      "len =0.1*lamda\n",
      "\n",
      "#Result\n",
      "print\"feet long conductors would be considered as the transmission line \",round(len*10**6,3),\"ft\"\n"
     ],
     "language": "python",
     "metadata": {},
     "outputs": [
      {
       "output_type": "stream",
       "stream": "stdout",
       "text": [
        "feet long conductors would be considered as the transmission line  0.219 ft\n"
       ]
      }
     ],
     "prompt_number": 2
    },
    {
     "cell_type": "heading",
     "level": 2,
     "metadata": {},
     "source": [
      "Example 13.2 Page no 484"
     ]
    },
    {
     "cell_type": "code",
     "collapsed": false,
     "input": [
      "#Given\n",
      "lamda = 2.19\n",
      "\n",
      "#Calculation\n",
      "len = (3/8.0)*lamda\n",
      "\n",
      "#Result\n",
      "print\"The pyhsical length of the transmission line \",round(len,2),\"feet\"\n"
     ],
     "language": "python",
     "metadata": {},
     "outputs": [
      {
       "output_type": "stream",
       "stream": "stdout",
       "text": [
        "The pyhsical length of the transmission line  0.82 feet\n"
       ]
      }
     ],
     "prompt_number": 4
    },
    {
     "cell_type": "heading",
     "level": 2,
     "metadata": {},
     "source": [
      "Example 13.3 Page no 492"
     ]
    },
    {
     "cell_type": "code",
     "collapsed": false,
     "input": [
      "#Given\n",
      "len = 165\n",
      "attn_100ft = 5.3\n",
      "pin = 100\n",
      "attn_ft = 5.3/100.0\n",
      "\n",
      "#Calculation\n",
      "total_attn = attn_ft * len\n",
      "pout = pin *0.1335\n",
      "\n",
      "#Result\n",
      "print\"The total attenuation of the cable is \",total_attn,\"dB\"\n",
      "print\"Output power is \",pout,\"W\"\n"
     ],
     "language": "python",
     "metadata": {},
     "outputs": [
      {
       "output_type": "stream",
       "stream": "stdout",
       "text": [
        "The total attenuation of the cable is  8.745 dB\n",
        "Output power is  13.35 W\n"
       ]
      }
     ],
     "prompt_number": 5
    },
    {
     "cell_type": "heading",
     "level": 2,
     "metadata": {},
     "source": [
      "Example 13.4 Page no 494"
     ]
    },
    {
     "cell_type": "code",
     "collapsed": false,
     "input": [
      "#Given\n",
      "len =150\n",
      "C =13.5\n",
      "Z0 =93\n",
      "f =2.5*10**6\n",
      "attn_100ft =2.8\n",
      "\n",
      "#Calculation\n",
      "L =C*Z0**2\n",
      "td =(L*C)**0.5\n",
      "theta = ((360)*188.3)/(1/f)\n",
      "attn_ft = attn_100ft/100.0\n",
      "total_attn = attn_ft*150\n",
      "\n",
      "print\"(a) The load impedance required to terminate the the line to avoid the reflections is %d ohm\",Z0\n",
      "print\"(b) The equivalent inductance per feet is \",L/10**3,\"nh\"\n",
      "print\"(c) The time delay introduced by the cable per feet is \",td/10**3,\"ns\"\n",
      "print\"(d) The phase shift occurs in degrees for the 2.5 Mhz sine wave is \",theta/10**9\n",
      "print\"(e) The total attenuation is \",total_attn,\"db\"\n",
      "\n"
     ],
     "language": "python",
     "metadata": {},
     "outputs": [
      {
       "output_type": "stream",
       "stream": "stdout",
       "text": [
        "(a) The load impedance required to terminate the the line to avoid the reflections is %d ohm 93\n",
        "(b) The equivalent inductance per feet is  116.7615 nh\n",
        "(c) The time delay introduced by the cable per feet is  1.2555 ns\n",
        "(d) The phase shift occurs in degrees for the 2.5 Mhz sine wave is  169.47\n",
        "(e) The total attenuation is  4.2 db\n"
       ]
      }
     ],
     "prompt_number": 7
    },
    {
     "cell_type": "heading",
     "level": 2,
     "metadata": {},
     "source": [
      "Example 13.5 Page no 501"
     ]
    },
    {
     "cell_type": "code",
     "collapsed": false,
     "input": [
      "#Given\n",
      "vmax= 52.0\n",
      "vmin= 17.0\n",
      "Z0 = 75\n",
      "\n",
      "#calculation\n",
      "SWR = vmax/vmin\n",
      "ref_coeff = (vmax-vmin)/(vmax+vmin)\n",
      "Zl1 = Z0*SWR\n",
      "Zl2 = Z0/SWR\n",
      "\n",
      "#Result\n",
      "print\"(a) The standing wave ratio is \",round(SWR,2)\n",
      "print\"(b) Reflection coefficient is \",round(ref_coeff,2)\n",
      "print\"The value of resistive load is \",round(Zl1,2),\"ohm or\",round(Zl2,2),\"ohm\"\n"
     ],
     "language": "python",
     "metadata": {},
     "outputs": [
      {
       "output_type": "stream",
       "stream": "stdout",
       "text": [
        "(a) The standing wave ratio is  3.06\n",
        "(b) Reflection coefficient is  0.51\n",
        "The value of resistive load is  229.41 ohm or 24.52 ohm\n"
       ]
      }
     ],
     "prompt_number": 7
    },
    {
     "cell_type": "heading",
     "level": 2,
     "metadata": {},
     "source": [
      "Example 13.6 Page no 503"
     ]
    },
    {
     "cell_type": "code",
     "collapsed": false,
     "input": [
      "#Given\n",
      "SWR =3.05\n",
      "ref_pwr =0.2562\n",
      "pin =30\n",
      "\n",
      "#calculation\n",
      "pout = pin -(pin*((SWR-1)/(SWR+1))**2)\n",
      "\n",
      "#Result\n",
      "print\"The output power of the cable is \",round(pout,3),\"W\"\n"
     ],
     "language": "python",
     "metadata": {},
     "outputs": [
      {
       "output_type": "stream",
       "stream": "stdout",
       "text": [
        "The output power of the cable is  22.314 W\n"
       ]
      }
     ],
     "prompt_number": 9
    },
    {
     "cell_type": "heading",
     "level": 2,
     "metadata": {},
     "source": [
      "Example 13.7 Page no 508"
     ]
    },
    {
     "cell_type": "code",
     "collapsed": false,
     "input": [
      "#Given\n",
      "C =4*10**-12\n",
      "f =800*10**6\n",
      "diele = 3.5\n",
      "h = 0.0625\n",
      "w = 0.13\n",
      "t = 0.002\n",
      "\n",
      "#Calculation\n",
      "import math\n",
      "Z0 = 38.8*math.log(0.374/0.106)\n",
      "Xc = 1/(6.28*f*C)\n",
      "\n",
      "#Result\n",
      "print\"The charecteristics impedance of the transmission line is \",round(Z0,1),\"ohm\"\n",
      "print\"The reactance of the capacitor is \",round(Xc,2),\"ohm\"\n"
     ],
     "language": "python",
     "metadata": {},
     "outputs": [
      {
       "output_type": "stream",
       "stream": "stdout",
       "text": [
        "The charecteristics impedance of the transmission line is  48.9 ohm\n",
        "The reactance of the capacitor is  49.76 ohm\n"
       ]
      }
     ],
     "prompt_number": 13
    },
    {
     "cell_type": "heading",
     "level": 2,
     "metadata": {},
     "source": [
      "Example 13.8 Page no 508"
     ]
    },
    {
     "cell_type": "code",
     "collapsed": false,
     "input": [
      "#Given\n",
      "lamda = (984/800.0)\n",
      "lamda_8 =lamda/8.0\n",
      "\n",
      "#Calculation\n",
      "len = lamda_8*12*(1/3.6**0.5)\n",
      "\n",
      "#Result\n",
      "print\"The length of the transmission line is \",round(len,3)\n"
     ],
     "language": "python",
     "metadata": {},
     "outputs": [
      {
       "output_type": "stream",
       "stream": "stdout",
       "text": [
        "The length of the transmission line is  0.972\n"
       ]
      }
     ],
     "prompt_number": 19
    }
   ],
   "metadata": {}
  }
 ]
}