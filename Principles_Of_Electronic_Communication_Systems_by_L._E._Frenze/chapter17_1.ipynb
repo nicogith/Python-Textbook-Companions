{
 "metadata": {
  "name": "",
  "signature": "sha256:1fcf40b444ffe01cf0b970d987135c0a701705380b8393b58911739ca6b5af8f"
 },
 "nbformat": 3,
 "nbformat_minor": 0,
 "worksheets": [
  {
   "cells": [
    {
     "cell_type": "heading",
     "level": 1,
     "metadata": {},
     "source": [
      "Chapeter 17 Satellite communication"
     ]
    },
    {
     "cell_type": "heading",
     "level": 2,
     "metadata": {},
     "source": [
      "Example 17.1 Page no 678"
     ]
    },
    {
     "cell_type": "code",
     "collapsed": false,
     "input": [
      "#Given\n",
      "stn_long = 95\n",
      "stn_lat = 30\n",
      "sat_long =121\n",
      "rad_pos = 137\n",
      "\n",
      "\n",
      "#Calculation\n",
      "azimuth = 360-rad_pos\n",
      "\n",
      "#Result\n",
      "print\"The elevation setting for the antenna is 45 degree\"\n",
      "print\"The azimuth setting for the antenna is \",azimuth,\"degree\"\n",
      "\n"
     ],
     "language": "python",
     "metadata": {},
     "outputs": [
      {
       "output_type": "stream",
       "stream": "stdout",
       "text": [
        "The elevation setting for the antenna is 45 degree\n",
        "The azimuth setting for the antenna is  223 degree\n"
       ]
      }
     ],
     "prompt_number": 3
    },
    {
     "cell_type": "heading",
     "level": 2,
     "metadata": {},
     "source": [
      "Example 17.2 Page no 681"
     ]
    },
    {
     "cell_type": "code",
     "collapsed": false,
     "input": [
      "#Given\n",
      "flo = 2*10**9\n",
      "fd =3840*10**6\n",
      "B =36*10**6\n",
      "\n",
      "#Calculation\n",
      "fu =fd+flo\n",
      "C =2*B\n",
      "\n",
      "#Result\n",
      "print\"The uplink frequency is \",fu/10.0**9,\"GHz\"\n",
      "print\"The data rate is \", C/10**6,\"Mbps\"\n"
     ],
     "language": "python",
     "metadata": {},
     "outputs": [
      {
       "output_type": "stream",
       "stream": "stdout",
       "text": [
        "The uplink frequency is  5.84 GHz\n",
        "The data rate is  72 Mbps\n"
       ]
      }
     ],
     "prompt_number": 1
    },
    {
     "cell_type": "heading",
     "level": 2,
     "metadata": {},
     "source": [
      "Example 17.3 Page no 691"
     ]
    },
    {
     "cell_type": "code",
     "collapsed": false,
     "input": [
      "#Given\n",
      "fs = 4.08*10**9\n",
      "fIF1 = 770*10**6\n",
      "fIF2 = 140*10**6\n",
      "\n",
      "#Calculation\n",
      "flo1 = fs - fIF1\n",
      "flo2 = fIF1 - fIF2\n",
      "\n",
      "#Result\n",
      "print\"The local oscillator frequency for first IF is \",flo1/10**6,\"MHz\"\n",
      "print\"The local oscillator frequency for the second IF is \",flo2/10**6,\"MHz\"\n"
     ],
     "language": "python",
     "metadata": {},
     "outputs": [
      {
       "output_type": "stream",
       "stream": "stdout",
       "text": [
        "The local oscillator frequency for first IF is  3310.0 MHz\n",
        "The local oscillator frequency for the second IF is  630 MHz\n"
       ]
      }
     ],
     "prompt_number": 3
    }
   ],
   "metadata": {}
  }
 ]
}