{
 "metadata": {
  "name": "",
  "signature": "sha256:2c7fa5f48e2180e437af8892520159f12789c250e22a9e424719ad83f83b7fff"
 },
 "nbformat": 3,
 "nbformat_minor": 0,
 "worksheets": [
  {
   "cells": [
    {
     "cell_type": "heading",
     "level": 1,
     "metadata": {},
     "source": [
      "Chapter6-Properties of Light"
     ]
    },
    {
     "cell_type": "heading",
     "level": 2,
     "metadata": {},
     "source": [
      "Ex1-pg124"
     ]
    },
    {
     "cell_type": "code",
     "collapsed": false,
     "input": [
      "\n",
      "##Example 6.1\n",
      "##Optical path calculation \n",
      "\n",
      "##given values\n",
      "n=1.33;##refractive index of medium\n",
      "x=.75;##geometrical path in micrometre\n",
      " ##calculation\n",
      "y=x*n;##\n",
      "print'%s %.3f %s'%('optical path  (in micrometre) is:',y,'')\n"
     ],
     "language": "python",
     "metadata": {},
     "outputs": [
      {
       "output_type": "stream",
       "stream": "stdout",
       "text": [
        "optical path  (in micrometre) is: 0.998 \n"
       ]
      }
     ],
     "prompt_number": 1
    },
    {
     "cell_type": "heading",
     "level": 2,
     "metadata": {},
     "source": [
      "Ex2-pg137"
     ]
    },
    {
     "cell_type": "code",
     "collapsed": false,
     "input": [
      "\n",
      "##Example 6.2\n",
      "##Coherence length calculation \n",
      "\n",
      "##given values\n",
      "l=1*10**-14.;##line width in metre\n",
      "x=10.6*10**-6.;##IR emission wavelength in metre\n",
      " ##calculation\n",
      "y=x**2./l;##\n",
      "print'%s %.1f %s'%('coherence length(in metre) is:',y,'')\n"
     ],
     "language": "python",
     "metadata": {},
     "outputs": [
      {
       "output_type": "stream",
       "stream": "stdout",
       "text": [
        "coherence length(in metre) is: 11236.0 \n"
       ]
      }
     ],
     "prompt_number": 2
    }
   ],
   "metadata": {}
  }
 ]
}