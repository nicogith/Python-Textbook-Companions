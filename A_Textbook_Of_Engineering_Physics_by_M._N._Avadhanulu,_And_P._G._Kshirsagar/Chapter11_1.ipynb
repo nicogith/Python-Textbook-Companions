{
 "metadata": {
  "name": "",
  "signature": "sha256:cb0c026235eca0bc18a695dcb9668ea4e2691af702577b5109cf13ded8d1630d"
 },
 "nbformat": 3,
 "nbformat_minor": 0,
 "worksheets": [
  {
   "cells": [
    {
     "cell_type": "heading",
     "level": 1,
     "metadata": {},
     "source": [
      "Chapter11-Architectural Acoustics"
     ]
    },
    {
     "cell_type": "heading",
     "level": 2,
     "metadata": {},
     "source": [
      "Ex1-pg293"
     ]
    },
    {
     "cell_type": "code",
     "collapsed": false,
     "input": [
      "import math\n",
      "##Example 11.1\n",
      "##calculation of total absorption and average absorption coefficient\n",
      "\n",
      "##given values\n",
      "\n",
      "V=20*15*5.;##volume of hall in m**3\n",
      "t=3.5;##reverberation time of empty hall in sec\n",
      "\n",
      "\n",
      "##calculation\n",
      "a1=.161*V/t;##total absorption of empty hall\n",
      "k=a1/(2.*(20*15+15*5+20*5.));\n",
      "print'%s %.2f %s'%('the average absorption coefficient is',k,'');"
     ],
     "language": "python",
     "metadata": {},
     "outputs": [
      {
       "output_type": "stream",
       "stream": "stdout",
       "text": [
        "the average absorption coefficient is 0.07 \n"
       ]
      }
     ],
     "prompt_number": 3
    },
    {
     "cell_type": "heading",
     "level": 2,
     "metadata": {},
     "source": [
      "Ex2-pg293"
     ]
    },
    {
     "cell_type": "code",
     "collapsed": false,
     "input": [
      "import math\n",
      "##Example 11.2\n",
      "##calculation of average absorption coefficient\n",
      "\n",
      "##given values\n",
      "\n",
      "V=10*8.*6.;##volume of hall in m**3\n",
      "t=1.5;##reverberation time of empty hall in sec\n",
      "A=20.;##area of curtain cloth in m**2\n",
      "t1=1.;##new reverberation time in sec\n",
      "\n",
      "##calculation\n",
      "a1=.161*V/t;##total absorption of empty hall\n",
      "a2=.161*V/t1;##total absorption after a curtain cloth is suspended\n",
      "\n",
      "k=(a2-a1)/(2.*20.);\n",
      "print'%s %.2f %s'%('the average absorption coefficient is',k,'');\n"
     ],
     "language": "python",
     "metadata": {},
     "outputs": [
      {
       "output_type": "stream",
       "stream": "stdout",
       "text": [
        "the average absorption coefficient is 0.64 \n"
       ]
      }
     ],
     "prompt_number": 2
    },
    {
     "cell_type": "heading",
     "level": 2,
     "metadata": {},
     "source": [
      "Ex3-pg293"
     ]
    },
    {
     "cell_type": "code",
     "collapsed": false,
     "input": [
      "import math\n",
      "##Example 11.3\n",
      "##calculation of average absorption coefficient and area\n",
      "\n",
      "##given values\n",
      "\n",
      "V=20*15*10.;##volume of hall in m**3\n",
      "t=3.5;##reverberation time of empty hall in sec\n",
      "t1=2.5;##reduced reverberation time \n",
      "k2=.5;##absorption coefficient of curtain cloth\n",
      "##calculation\n",
      "a1=.161*V/t;##total absorption of empty hall\n",
      "k1=a1/(2*(20*15+15*10+20*10));\n",
      "print'%s %.2f %s'%('the average absorption coefficient is',k1,'');\n",
      "a2=.161*V/t1;##total absorption when wall is covered with curtain\n",
      "a=t1*(a2-a1)/(t1*k2);\n",
      "print'%s %.2f %s'%('area of wall to be covered with curtain(in m^2)is:',a,'')"
     ],
     "language": "python",
     "metadata": {},
     "outputs": [
      {
       "output_type": "stream",
       "stream": "stdout",
       "text": [
        "the average absorption coefficient is 0.11 \n",
        "area of wall to be covered with curtain(in m^2)is: 110.40 \n"
       ]
      }
     ],
     "prompt_number": 1
    }
   ],
   "metadata": {}
  }
 ]
}