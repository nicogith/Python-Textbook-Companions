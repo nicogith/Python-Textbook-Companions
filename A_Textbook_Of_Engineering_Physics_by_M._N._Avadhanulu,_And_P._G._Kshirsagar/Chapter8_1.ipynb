{
 "metadata": {
  "name": "",
  "signature": "sha256:960fd108c21eb5121a849117765bbc8e0d88eb94076f3988470cabfdb760bcc0"
 },
 "nbformat": 3,
 "nbformat_minor": 0,
 "worksheets": [
  {
   "cells": [
    {
     "cell_type": "heading",
     "level": 1,
     "metadata": {},
     "source": [
      "Chapter8-Polarization"
     ]
    },
    {
     "cell_type": "heading",
     "level": 2,
     "metadata": {},
     "source": [
      "Ex2-pg200"
     ]
    },
    {
     "cell_type": "code",
     "collapsed": false,
     "input": [
      "import math\n",
      "##Example 8.2\n",
      "##Polarizer,calculation of angle\n",
      "\n",
      "##given values\n",
      "Io=1.;##intensity of polarised light\n",
      "I1=Io/2.;##intensity of beam polarised by first by first polariser\n",
      "I2=Io/3.;##intensity of light polarised by second polariser\n",
      "\n",
      "\n",
      " ##calculation\n",
      "a=math.acos(math.sqrt(I2/I1));\n",
      "alpha=a*180./math.pi;##conversion of angle into degree\n",
      "print'%s %.1f %s'%('angle between characteristic directions  (in degree) is',alpha,'');"
     ],
     "language": "python",
     "metadata": {},
     "outputs": [
      {
       "output_type": "stream",
       "stream": "stdout",
       "text": [
        "angle between characteristic directions  (in degree) is 35.3 \n"
       ]
      }
     ],
     "prompt_number": 2
    },
    {
     "cell_type": "heading",
     "level": 2,
     "metadata": {},
     "source": [
      "Ex3-pg209"
     ]
    },
    {
     "cell_type": "code",
     "collapsed": false,
     "input": [
      "import math\n",
      "##Example 8.3\n",
      "##calculation of birefringence\n",
      "\n",
      "##given values\n",
      "\n",
      "l=6*10**-7.;##wavelength of light in metre\n",
      "d=3*10**-5.;##thickness of crystal\n",
      "\n",
      "\n",
      " ##calculation\n",
      "x=l/(4.*d);\n",
      "print'%s %.3f %s'%('the birefringance of the crystal is',x,'');"
     ],
     "language": "python",
     "metadata": {},
     "outputs": [
      {
       "output_type": "stream",
       "stream": "stdout",
       "text": [
        "the birefringance of the crystal is 0.005 \n"
       ]
      }
     ],
     "prompt_number": 1
    }
   ],
   "metadata": {}
  }
 ]
}