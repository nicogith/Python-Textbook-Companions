{
 "metadata": {
  "name": "",
  "signature": "sha256:1347b69ffb48f57ed84c93fa692b1b83ef62827af6c7ff1223306a59bfbf283e"
 },
 "nbformat": 3,
 "nbformat_minor": 0,
 "worksheets": [
  {
   "cells": [
    {
     "cell_type": "heading",
     "level": 1,
     "metadata": {},
     "source": [
      "Chapter13-Atomic Physics"
     ]
    },
    {
     "cell_type": "heading",
     "level": 2,
     "metadata": {},
     "source": [
      "Ex1-pg310"
     ]
    },
    {
     "cell_type": "code",
     "collapsed": false,
     "input": [
      "import math\n",
      "##Example 13.1\n",
      "##calculation of rate of flow of photons\n",
      "\n",
      "##given values\n",
      "\n",
      "l=5893*10**-10;##wavelength of light in m \n",
      "P=40.;##power of sodium lamp in W\n",
      "d=10;##distance from the source in m\n",
      "s=4*math.pi*d**2;##surface area of radius in m**2\n",
      "c=3*10**8.;##velocity of light in m/s\n",
      "h=6.626*10**-34;##Planck's constant in Js\n",
      "##calculation\n",
      "E=P*1.;##\n",
      "print'%s %.2f %s'%('total energy emitted per second(in Joule)is',E,'');\n",
      "n=E*l/(c*h);##total no of photons\n",
      "R=n/s;\n",
      "print'%s %.2e %s'%('rate of flow of photons per unit area (in /m^2) is',R,'')"
     ],
     "language": "python",
     "metadata": {},
     "outputs": [
      {
       "output_type": "stream",
       "stream": "stdout",
       "text": [
        "total energy emitted per second(in Joule)is 40.00 \n",
        "rate of flow of photons per unit area (in /m^2) is 9.44e+16 \n"
       ]
      }
     ],
     "prompt_number": 3
    },
    {
     "cell_type": "heading",
     "level": 2,
     "metadata": {},
     "source": [
      "Ex2-pg315"
     ]
    },
    {
     "cell_type": "code",
     "collapsed": false,
     "input": [
      "import math\n",
      "##Example 13.2\n",
      "##calculation of threshold wavelength and stopping potential\n",
      "\n",
      "##given values\n",
      "\n",
      "l=2000.;##wavelength of light in armstrong \n",
      "e=1.6*10**-19.;##charge of electron\n",
      "W=4.2;##work function in eV\n",
      "c=3*10**8.;##velocity of light in m/s\n",
      "h=6.626*10**-34.;##Planck's constant in Js\n",
      "##calculation\n",
      "x=12400/(W);##h*c=12400 eV\n",
      "print'%s %.2f %s'%('threshold wavelength(in Armstrong)is',x,'');\n",
      "Vs=(12400/l-W);##\n",
      "print'%s %.2f %s'%('stopping potential (in VOLTS) is',Vs,'')"
     ],
     "language": "python",
     "metadata": {},
     "outputs": [
      {
       "output_type": "stream",
       "stream": "stdout",
       "text": [
        "threshold wavelength(in Armstrong)is 2952.38 \n",
        "stopping potential (in VOLTS) is 2.00 \n"
       ]
      }
     ],
     "prompt_number": 2
    },
    {
     "cell_type": "heading",
     "level": 2,
     "metadata": {},
     "source": [
      "Ex3-pg326"
     ]
    },
    {
     "cell_type": "code",
     "collapsed": false,
     "input": [
      "import math\n",
      "##Example 13.3\n",
      "##calculation of momentum of X-ray photon undergoing scattering\n",
      "\n",
      "##given values\n",
      "\n",
      "alpha=60*math.pi/180.;##scattering angle in radian\n",
      "e=1.6*10**-19;##charge ofelectrone\n",
      "W=12273.;##work function in eV\n",
      "c=3*10**8;##velocity of light in m/s\n",
      "h=6.626*10**-34.;##Planck's constant in Js\n",
      "hc=12400.;##in eV\n",
      "m=9.1*10**-31##restmass of photon in kg\n",
      "##calculation\n",
      "x=hc/(W);##wavelength of photon undergoing modofied scattering in armstrong\n",
      "y=x-(h/(m*c))*(1-math.cos(alpha));\n",
      "p=h/y*10**10.;\n",
      "print'%s %.3e %s'%('momentum of photon(in kg-m/s) is',p,'');"
     ],
     "language": "python",
     "metadata": {},
     "outputs": [
      {
       "output_type": "stream",
       "stream": "stdout",
       "text": [
        "momentum of photon(in kg-m/s) is 6.558e-24 \n"
       ]
      }
     ],
     "prompt_number": 6
    },
    {
     "cell_type": "heading",
     "level": 2,
     "metadata": {},
     "source": [
      "Ex4-pg327"
     ]
    },
    {
     "cell_type": "code",
     "collapsed": false,
     "input": [
      "import math\n",
      "##Example 13.4\n",
      "##calculation of wavelength of scattered radiation and velocity of recoiled electron\n",
      "\n",
      "##given values\n",
      "\n",
      "alpha=30*math.pi/180.;##scattering angle in radian\n",
      "e=1.6*10**-19.;##charge ofelectron\n",
      "x=1.372*10**-10.;##wavelength of incident radiation in m\n",
      "c=3*10**8;##velocity of light in m/s\n",
      "h=6.626*10**-34;##Planck's constant in Js\n",
      "m=9.1*10**-31##rest mass of photon in kg\n",
      "hc=12400.;##in eV\n",
      "##calculation\n",
      "\n",
      "y=((x+(h/(m*c))*(1-math.cos(alpha))))*10**10;\n",
      "print'%s %.2f %s'%('wavelength of scattered radiation(in armstrong)is',y,'');\n",
      "x1=x*10**10;##converting incident wavelength into armstrong\n",
      "KE=hc*e*((1/x1)-(1/y));##kinetic energy in Joule\n",
      "print'%s %.3e %s'%('kinetic energy in joule is ',KE,'');\n",
      "v=math.sqrt(2.*KE/m);\n",
      "print'%s %.2f %s'%('velocity of recoiled electron (in m/s^2)is',v,'');\n"
     ],
     "language": "python",
     "metadata": {},
     "outputs": [
      {
       "output_type": "stream",
       "stream": "stdout",
       "text": [
        "wavelength of scattered radiation(in armstrong)is 1.38 \n",
        "kinetic energy in joule is  3.419e-18 \n",
        "velocity of recoiled electron (in m/s^2)is 2741274.99 \n"
       ]
      }
     ],
     "prompt_number": 4
    },
    {
     "cell_type": "heading",
     "level": 2,
     "metadata": {},
     "source": [
      "Ex5-pg333"
     ]
    },
    {
     "cell_type": "code",
     "collapsed": false,
     "input": [
      "import math\n",
      "##Example 13.5\n",
      "##calculation of wavelength of light emitted\n",
      "\n",
      "##given values\n",
      "e=1.6*10**-19;##charge of electrone\n",
      "c=3*10**8;##velocity of light\n",
      "h=6.626*10**-34;##Planck's constant in Js\n",
      "E1=5.36;##energy of first state in eV\n",
      "E2=3.45;##energy of second state in eV\n",
      "\n",
      "\n",
      "##1)calculation\n",
      "\n",
      "l=h*c*10**10/((E1-E2)*e);\n",
      "print'%s %.2f %s'%('wavelength of scattered light(in Armstrong)is',l,'');\n"
     ],
     "language": "python",
     "metadata": {},
     "outputs": [
      {
       "output_type": "stream",
       "stream": "stdout",
       "text": [
        "wavelength of scattered light(in Armstrong)is 6504.58 \n"
       ]
      }
     ],
     "prompt_number": 4
    },
    {
     "cell_type": "heading",
     "level": 2,
     "metadata": {},
     "source": [
      "Ex6-pg361"
     ]
    },
    {
     "cell_type": "code",
     "collapsed": false,
     "input": [
      "import math\n",
      "##Example 13.6\n",
      "##calculation of de Broglie wavelength \n",
      "\n",
      "##1)given values\n",
      "e=1.6*10**-19.;\n",
      "h=6.626*10**-34.;##Planck's constant in Js\n",
      "V=182.;##potential difference in volts\n",
      "m=9.1*10**-31;##mass of e in kg\n",
      "\n",
      "\n",
      "##1)calculation\n",
      "\n",
      "l=h/math.sqrt(2.*e*m*V);\n",
      "print'%s %.3e %s'%('de Brogliewavelength (in m)is',l,'');\n",
      "\n",
      "\n",
      "##2)given values\n",
      "m1=1.;##mass of object in kg\n",
      "v=1.;##velocity of object in m/s\n",
      "l1=h/(m1*v);\n",
      "print'%s %.3e %s'%('debrogie wavelength of object in m) is',l1,'');"
     ],
     "language": "python",
     "metadata": {},
     "outputs": [
      {
       "output_type": "stream",
       "stream": "stdout",
       "text": [
        "de Brogliewavelength (in m)is 9.102e-11 \n",
        "debrogie wavelength of object in m) is 6.626e-34 \n"
       ]
      }
     ],
     "prompt_number": 3
    },
    {
     "cell_type": "heading",
     "level": 2,
     "metadata": {},
     "source": [
      "Ex7-pg368"
     ]
    },
    {
     "cell_type": "code",
     "collapsed": false,
     "input": [
      "import math\n",
      "##Example 13.7\n",
      "##calculation of uncertainty in position\n",
      "\n",
      "##1)given values\n",
      "\n",
      "h=6.626*10**-34;##Planck's constant in Js\n",
      "v1=220;##velocity of e in m/s\n",
      "m=9.1*10**-31;##mass of e in kg\n",
      "A=0.065/100.;##accuracy\n",
      "\n",
      "\n",
      "##1)calculation\n",
      "v2=v1*A;##uncertainty in speed\n",
      "x1=h/(2*math.pi*m*v2);##\n",
      "print'%s %.4f %s'%('uncertainty in position of e (in m)is',x1,'');\n",
      "\n",
      "\n",
      "##2)given values\n",
      "m1=150/1000.;##mass of object in kg\n",
      "x2=h/(2*math.pi*m1*v2);\n",
      "print'%s %.3e %s'%('uncertainty in position of baseball(in m) is',x2,'');"
     ],
     "language": "python",
     "metadata": {},
     "outputs": [
      {
       "output_type": "stream",
       "stream": "stdout",
       "text": [
        "uncertainty in position of e (in m)is 0.0008 \n",
        "uncertainty in position of baseball(in m) is 4.916e-33 \n"
       ]
      }
     ],
     "prompt_number": 2
    },
    {
     "cell_type": "heading",
     "level": 2,
     "metadata": {},
     "source": [
      "Ex8-pg377"
     ]
    },
    {
     "cell_type": "code",
     "collapsed": false,
     "input": [
      "import math\n",
      "##Example 13.8\n",
      "##calculation of energy states of an electron and grain of dust and comparing\n",
      "\n",
      "##1)given values\n",
      "L1=10*10**-10;##width of potential well in which e is confined\n",
      "L2=.1*10**-3;##width of potential well in which grain of dust is confined\n",
      "h=6.626*10**-34;##Planck's constant in Js\n",
      "v1=10**6;##velocity of garin of dust in m/s\n",
      "m1=9.1*10**-31;##mass of e in kg\n",
      "m2=10**-9;##mass of grain in kg\n",
      "\n",
      "##1)calculation\n",
      "\n",
      "Ee1=1**2*h**2./(8.*m1*L1**2.);##first energy state of electron\n",
      "print'%s %.3e %s'%('first energy state of e is ',Ee1,'');\n",
      "Ee2=2**2*h**2/(8*m1*L1**2);##second energy state of electron\n",
      "print'%s %.3e %s'%('second energy state of e is ',Ee2,'');\n",
      "Ee3=3**2*h**2/(8*m1*L1**2);##third energy state of electron\n",
      "print'%s %.3e %s'%('third energy state of e is ',Ee3,'');\n",
      "print('Energy levels of an electron in an infinite potential well are quantised and the energy difference between the successive levels is quite large.Electron cannot jump from one level to other on strength of thermal energy.Hence quantization of energy plays a significant role in case of electron')\n",
      "\n",
      "Eg1=1**2*h**2/(8.*m2*L2**2.);##first energy state of grain of dust\n",
      "print'%s %.3e %s'%('first energy state of grain of dust is ',Eg1,'');\n",
      "Eg2=2**2*h**2/(8.*m2*L2**2.);##second energy state of grain of dust\n",
      "print'%s %.3e %s'%('second energy state of grain of dust is ',Eg2,'');\n",
      "Eg3=3**2*h**2/(8.*m2*L2**2.);##third energy state of grain of dust\n",
      "print'%s %.3e %s'%('third energy state of  grain of dust is ',Eg3,'');\n",
      "KE=m2*v1**2/2.;##kinetic energy of grain of dust;\n",
      "print'%s %.2f %s'%('kinetic energy of grain of dust is',KE,'');\n",
      "print('The energy levels of a grain of dust are so near to each other that they constitute a continuum.These energy levels are far smaller than the kinetic energy possessed by the grain of dust.It can move through all these energy levels without an external supply of energy.Thus quantization of energy levels is not at all significant in case of macroscopic bodies.')"
     ],
     "language": "python",
     "metadata": {},
     "outputs": [
      {
       "output_type": "stream",
       "stream": "stdout",
       "text": [
        "first energy state of e is  6.031e-20 \n",
        "second energy state of e is  2.412e-19 \n",
        "third energy state of e is  5.428e-19 \n",
        "Energy levels of an electron in an infinite potential well are quantised and the energy difference between the successive levels is quite large.Electron cannot jump from one level to other on strength of thermal energy.Hence quantization of energy plays a significant role in case of electron\n",
        "first energy state of grain of dust is  5.488e-51 \n",
        "second energy state of grain of dust is  2.195e-50 \n",
        "third energy state of  grain of dust is  4.939e-50 \n",
        "kinetic energy of grain of dust is 500.00 \n",
        "The energy levels of a grain of dust are so near to each other that they constitute a continuum.These energy levels are far smaller than the kinetic energy possessed by the grain of dust.It can move through all these energy levels without an external supply of energy.Thus quantization of energy levels is not at all significant in case of macroscopic bodies.\n"
       ]
      }
     ],
     "prompt_number": 1
    }
   ],
   "metadata": {}
  }
 ]
}