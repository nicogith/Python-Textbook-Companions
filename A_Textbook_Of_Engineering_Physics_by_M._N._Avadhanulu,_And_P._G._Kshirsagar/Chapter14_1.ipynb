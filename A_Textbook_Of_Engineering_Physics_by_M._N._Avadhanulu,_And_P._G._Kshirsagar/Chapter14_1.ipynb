{
 "metadata": {
  "name": "",
  "signature": "sha256:fa946e3f77a5fb13eb7ad900f4bb8618950afc67e42b0d85db2b38e779043158"
 },
 "nbformat": 3,
 "nbformat_minor": 0,
 "worksheets": [
  {
   "cells": [
    {
     "cell_type": "heading",
     "level": 1,
     "metadata": {},
     "source": [
      "Chapter14-Lasers\n"
     ]
    },
    {
     "cell_type": "heading",
     "level": 2,
     "metadata": {},
     "source": [
      "Ex1-pg418"
     ]
    },
    {
     "cell_type": "code",
     "collapsed": false,
     "input": [
      "import math\n",
      "##Example 14.1\n",
      "##calculation of intensity of laser beam\n",
      "\n",
      "##given values\n",
      "P=10*10**-3.;##Power in Watt\n",
      "d=1.3*10**-3.;##diametre in m\n",
      "A=math.pi*d**2./4.;##area in m**2\n",
      "\n",
      "\n",
      "##calculation\n",
      "I=P/A;\n",
      "print'%s %.2f %s'%('intensity (in W/m^2) is',I,'');"
     ],
     "language": "python",
     "metadata": {},
     "outputs": [
      {
       "output_type": "stream",
       "stream": "stdout",
       "text": [
        "intensity (in W/m^2) is 7533.96 \n"
       ]
      }
     ],
     "prompt_number": 1
    },
    {
     "cell_type": "heading",
     "level": 2,
     "metadata": {},
     "source": [
      "Ex2-pg418"
     ]
    },
    {
     "cell_type": "code",
     "collapsed": false,
     "input": [
      "import math\n",
      "##Example 14.2\n",
      "##calculation of intensity of laser beam\n",
      "\n",
      "##given values\n",
      "P=1*10**-3.;##Power in Watt\n",
      "l=6328*10**-10.;##wavelength in m\n",
      "A=l**2.;##area in m**2\n",
      "\n",
      "\n",
      "##calculation\n",
      "I=P/A;\n",
      "print'%s %.3e %s'%('intensity (in W/m^2) is',I,'');"
     ],
     "language": "python",
     "metadata": {},
     "outputs": [
      {
       "output_type": "stream",
       "stream": "stdout",
       "text": [
        "intensity (in W/m^2) is 2.497e+09 \n"
       ]
      }
     ],
     "prompt_number": 2
    },
    {
     "cell_type": "heading",
     "level": 2,
     "metadata": {},
     "source": [
      "Ex3-pg418"
     ]
    },
    {
     "cell_type": "code",
     "collapsed": false,
     "input": [
      "import math\n",
      "##Example 14.3\n",
      "##calculation of coherence length,bandwidth and line width\n",
      "\n",
      "##given values\n",
      "c=3*10**8.;##velocity of light in m/s\n",
      "t=.1*10**-9.;##timedivision in s\n",
      "l=6238*10**-10.;##wavelength in m\n",
      "\n",
      "##calculation\n",
      "x=c*t;\n",
      "print'%s %.2f %s'%('coherence length (in m) is',x,'');\n",
      "d=1./t;\n",
      "print'%s %.3e %s'%('bandwidth (in Hz) is',d,'');\n",
      "y=l**2*d/c;##line width in m\n",
      "print'%s %.2f %s'%('line width(in armstrong )is',y*10**10,'');"
     ],
     "language": "python",
     "metadata": {},
     "outputs": [
      {
       "output_type": "stream",
       "stream": "stdout",
       "text": [
        "coherence length (in m) is 0.03 \n",
        "bandwidth (in Hz) is 1.000e+10 \n",
        "line width(in armstrong )is 0.13 \n"
       ]
      }
     ],
     "prompt_number": 3
    },
    {
     "cell_type": "heading",
     "level": 2,
     "metadata": {},
     "source": [
      "Ex4-pg418"
     ]
    },
    {
     "cell_type": "code",
     "collapsed": false,
     "input": [
      "import math\n",
      "##Example 14.4\n",
      "##calculation of frequency difference\n",
      "\n",
      "##given values\n",
      "c=3*10**8;##velocity of light in m/s\n",
      "l=.5;##distance in m\n",
      "\n",
      "##calculation\n",
      "f=c/(2*l);##in hertz\n",
      "print'%s %.2f %s'%('frequency difference (in MHz) is',f/10**6,'');\n"
     ],
     "language": "python",
     "metadata": {},
     "outputs": [
      {
       "output_type": "stream",
       "stream": "stdout",
       "text": [
        "frequency difference (in MHz) is 300.00 \n"
       ]
      }
     ],
     "prompt_number": 2
    },
    {
     "cell_type": "heading",
     "level": 2,
     "metadata": {},
     "source": [
      "Ex5-pg418"
     ]
    },
    {
     "cell_type": "code",
     "collapsed": false,
     "input": [
      "import math\n",
      "##Example 14.5\n",
      "##calculation of no of cavity modes\n",
      "\n",
      "##given values\n",
      "c=3*10**8.;##velocity of light in m/s\n",
      "n=1.75;##refractive index\n",
      "l=2*10**-2;##length of ruby rod in m\n",
      "x=6943*10**-10.;##wavelength in m\n",
      "y=5.3*10**-10.;##spread of wavelength in m\n",
      "\n",
      "##calculation\n",
      "d=c/n/l;\n",
      "f=c*y/x**2.;\n",
      "m=f/d;\n",
      "print'%s %.2f %s'%('no of modes is',m,'');\n"
     ],
     "language": "python",
     "metadata": {},
     "outputs": [
      {
       "output_type": "stream",
       "stream": "stdout",
       "text": [
        "no of modes is 38.48 \n"
       ]
      }
     ],
     "prompt_number": 1
    }
   ],
   "metadata": {}
  }
 ]
}