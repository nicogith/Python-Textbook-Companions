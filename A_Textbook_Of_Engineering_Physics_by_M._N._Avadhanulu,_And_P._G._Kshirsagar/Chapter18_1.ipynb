{
 "metadata": {
  "name": "",
  "signature": "sha256:265535ddaffc0266824860d662b8052593e36ca515dd70e32c070b51cf842e7d"
 },
 "nbformat": 3,
 "nbformat_minor": 0,
 "worksheets": [
  {
   "cells": [
    {
     "cell_type": "heading",
     "level": 1,
     "metadata": {},
     "source": [
      "Chapter18-Semiconductors"
     ]
    },
    {
     "cell_type": "heading",
     "level": 2,
     "metadata": {},
     "source": [
      "Ex2-pg539"
     ]
    },
    {
     "cell_type": "code",
     "collapsed": false,
     "input": [
      "import math\n",
      "##Example 18.2\n",
      "##calculation of probability\n",
      "\n",
      "##given values\n",
      "T=300.;##temp in K\n",
      "kT=.026;##temperture equivalent at room temp in eV\n",
      "Eg=5.6;##forbidden gap in eV\n",
      "\n",
      "##calculation\n",
      "f=1./(1.+math.e**(Eg/(2.*kT)));\n",
      "\n",
      "print'%s %.3e %s'%('probability of an e being thermally promoted to conduction band is',f,'');\n"
     ],
     "language": "python",
     "metadata": {},
     "outputs": [
      {
       "output_type": "stream",
       "stream": "stdout",
       "text": [
        "probability of an e being thermally promoted to conduction band is 1.698e-47 \n"
       ]
      }
     ],
     "prompt_number": 1
    },
    {
     "cell_type": "heading",
     "level": 2,
     "metadata": {},
     "source": [
      "Ex3-pg540"
     ]
    },
    {
     "cell_type": "code",
     "collapsed": false,
     "input": [
      "import math\n",
      "##Example 18.3\n",
      "##calculation of fraction of e in CB\n",
      "\n",
      "##given values\n",
      "T=300.;##temp in K\n",
      "kT=.026;##temperture equivalent at room temp in eV\n",
      "Eg1=.72;##forbidden gap of germanium in eV\n",
      "Eg2=1.1;##forbidden gap of silicon in eV\n",
      "Eg3=5.6;##forbidden gap of diamond in eV\n",
      "\n",
      "##calculation\n",
      "f1=math.e**(-Eg1/(2.*kT));\n",
      "print'%s %.6f %s'%('fraction of e in  conduction band of germanium is',f1,'');\n",
      "f2=math.e**(-Eg2/(2.*kT));\n",
      "print'%s %.3e %s'%('fraction of e in  conduction band of silicon is',f2,'');\n",
      "f3=math.e**(-Eg3/(2*kT));\n",
      "print'%s %.3e %s'%('fraction of e in  conduction band of diamond  is',f3,'');\n",
      "print'abpove results shows that larger the band gap and the smaller electrons that can go under into the conduction band'"
     ],
     "language": "python",
     "metadata": {},
     "outputs": [
      {
       "output_type": "stream",
       "stream": "stdout",
       "text": [
        "fraction of e in  conduction band of germanium is 0.000001 \n",
        "fraction of e in  conduction band of silicon is 6.501e-10 \n",
        "fraction of e in  conduction band of diamond  is 1.698e-47 \n",
        "abpove results shows that larger the band gap and the smaller electrons that can go under into the conduction band\n"
       ]
      }
     ],
     "prompt_number": 5
    },
    {
     "cell_type": "heading",
     "level": 2,
     "metadata": {},
     "source": [
      "Ex4-pg540"
     ]
    },
    {
     "cell_type": "code",
     "collapsed": false,
     "input": [
      "import math\n",
      "##Example 18.4\n",
      "##calculation of fractionional change in no of e\n",
      "\n",
      "##given values\n",
      "T1=300.;##temp in K\n",
      "T2=310.;##temp in K\n",
      "Eg=1.1;##forbidden gap of silicon in eV\n",
      "k=8.6*10**-5.;##boltzmann's constant in eV/K\n",
      "\n",
      "##calculation\n",
      "n1=(10**21.7)*(T1**(3/2.))*10**(-2500.*Eg/T1);##no of conduction e at T1\n",
      "n2=(10**21.7)*(T2**(3/2.))*10**(-2500.*Eg/T2);##no of conduction e at T2\n",
      "x=n2/n1;\n",
      "print'%s %.1f %s'%('fractional change in no of e is',x,'');\n",
      "print 'in book he just worte ans but he didnt calculated final ans but here is i calculated'"
     ],
     "language": "python",
     "metadata": {},
     "outputs": [
      {
       "output_type": "stream",
       "stream": "stdout",
       "text": [
        "fractional change in no of e is 2.1 \n",
        "in book he just worte ans but he didnt calculated final ans but here is i calculated\n"
       ]
      }
     ],
     "prompt_number": 17
    },
    {
     "cell_type": "heading",
     "level": 2,
     "metadata": {},
     "source": [
      "Ex5-pg541"
     ]
    },
    {
     "cell_type": "code",
     "collapsed": false,
     "input": [
      "\n",
      "##Example 18.5\n",
      "##calculation of resistivity\n",
      "\n",
      "##given values\n",
      "e=1.6*10**-19;\n",
      "ni=2.5*10**19;##intrinsic density of carriers per m**3\n",
      "ue=.39;##mobility of e \n",
      "uh=.19;##mobility of hole\n",
      "\n",
      "\n",
      "##calculation\n",
      "c=e*ni*(ue+uh);##conductivity\n",
      "r=1/c;##resistivity\n",
      "print'%s %.2f %s'%('resistivity in ohm m is',r,'');"
     ],
     "language": "python",
     "metadata": {},
     "outputs": [
      {
       "output_type": "stream",
       "stream": "stdout",
       "text": [
        "resistivity in ohm m is 0.43 \n"
       ]
      }
     ],
     "prompt_number": 11
    },
    {
     "cell_type": "heading",
     "level": 2,
     "metadata": {},
     "source": [
      "Ex6-pg548"
     ]
    },
    {
     "cell_type": "code",
     "collapsed": false,
     "input": [
      "import math\n",
      "##Example 18.6\n",
      "##calculation of conductivity of intrinsic and doped semiconductors\n",
      "\n",
      "##given values\n",
      "h=4.52*10**24;##no of holes per m**3\n",
      "e=1.25*10**14;##no of electrons per m**3\n",
      "ue=.38;##e mobility\n",
      "uh=.18;##hole mobility\n",
      "q=1.6*10**-19;##charge of e in C\n",
      "##calculation\n",
      "ni=math.sqrt(h*e);##intrinsic concentration\n",
      "ci=q*ni*(ue+uh);\n",
      "print'%s %.2f %s'%('conductivity of semiconductor(in S/m) is',ci,'');\n",
      "cp=q*h*uh;\n",
      "print'%s %.2f %s'%('conductivity of doped semiconductor (in S/m) is',cp,'');"
     ],
     "language": "python",
     "metadata": {},
     "outputs": [
      {
       "output_type": "stream",
       "stream": "stdout",
       "text": [
        "conductivity of semiconductor(in S/m) is 2.13 \n",
        "conductivity of doped semiconductor (in S/m) is 130176.00 \n"
       ]
      }
     ],
     "prompt_number": 12
    },
    {
     "cell_type": "heading",
     "level": 2,
     "metadata": {},
     "source": [
      "Ex7-pg548"
     ]
    },
    {
     "cell_type": "code",
     "collapsed": false,
     "input": [
      "import math\n",
      "##Example 18.7\n",
      "##calculation of hole concentration\n",
      "\n",
      "##given values\n",
      "ni=2.4*10**19.;##carrier concentration per m**3\n",
      "N=4*10**28.;##concentration of ge atoms per m**3\n",
      "\n",
      "##calculation\n",
      "ND=N/10**6.;##donor cocntrtn\n",
      "n=ND;##no of electrones\n",
      "\n",
      "p=ni**2./n;\n",
      "print'%s %.3e %s'%('concentartion of holes per m^3 is',p,'');"
     ],
     "language": "python",
     "metadata": {},
     "outputs": [
      {
       "output_type": "stream",
       "stream": "stdout",
       "text": [
        "concentartion of holes per m^3 is 1.440e+16 \n"
       ]
      }
     ],
     "prompt_number": 18
    },
    {
     "cell_type": "heading",
     "level": 2,
     "metadata": {},
     "source": [
      "Ex8-pg558"
     ]
    },
    {
     "cell_type": "code",
     "collapsed": false,
     "input": [
      "import math\n",
      "##Example 18.8\n",
      "##calculation of Hall voltage\n",
      "\n",
      "##given values\n",
      "ND=10**21.;##donor density per m**3\n",
      "B=.5;##magnetic field in T\n",
      "J=500.;##current density in A/m**2\n",
      "w=3*10**-3.;##width in m\n",
      "e=1.6*10**-19.;##charge in C\n",
      "\n",
      "##calculation\n",
      "\n",
      "\n",
      "V=B*J*w/(ND*e);##in volts\n",
      "print'%s %.2f %s'%('Hall voltage in mv is',V*10**3,'');"
     ],
     "language": "python",
     "metadata": {},
     "outputs": [
      {
       "output_type": "stream",
       "stream": "stdout",
       "text": [
        "Hall voltage in mv is 4.69 \n"
       ]
      }
     ],
     "prompt_number": 14
    }
   ],
   "metadata": {}
  }
 ]
}