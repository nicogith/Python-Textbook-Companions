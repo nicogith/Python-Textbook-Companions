{
 "metadata": {
  "name": "",
  "signature": "sha256:e62a104ff81010a41974070c37970149915a1689606735dc017583e29241aaa5"
 },
 "nbformat": 3,
 "nbformat_minor": 0,
 "worksheets": [
  {
   "cells": [
    {
     "cell_type": "heading",
     "level": 1,
     "metadata": {},
     "source": [
      "Chapter19-PN-Junction Diode"
     ]
    },
    {
     "cell_type": "heading",
     "level": 2,
     "metadata": {},
     "source": [
      "Ex1-pg571"
     ]
    },
    {
     "cell_type": "code",
     "collapsed": false,
     "input": [
      "import math\n",
      "##Example 19.1\n",
      "##calculation of potential barrier\n",
      "\n",
      "##given values\n",
      "e=1.6*10**-19.;\n",
      "n=4.4*10**28.;##no of atoms per m**3\n",
      "kT=.026*e;##temp eqvlnt at room temp\n",
      "ni=2.4*10**19.;##no of intrinsic carriers per m**3\n",
      "NA=n/10**6.;##no of acceptors\n",
      "ND=n/10**6.;##no of donors\n",
      "\n",
      "##calculation\n",
      "V=(kT/e)*math.log(NA*ND/ni**2);\n",
      "print'%s %.2f %s'%('potential barrier in volts is',V,'');\n"
     ],
     "language": "python",
     "metadata": {},
     "outputs": [
      {
       "output_type": "stream",
       "stream": "stdout",
       "text": [
        "potential barrier in volts is 0.39 \n"
       ]
      }
     ],
     "prompt_number": 1
    },
    {
     "cell_type": "heading",
     "level": 2,
     "metadata": {},
     "source": [
      "Ex2-pg578"
     ]
    },
    {
     "cell_type": "code",
     "collapsed": false,
     "input": [
      "import math\n",
      "##Example 19.2\n",
      "##calculation of current\n",
      "\n",
      "##given values\n",
      "e=1.6*10**-19.;\n",
      "kT=.026*e;##temp eqvlnt at room temp\n",
      "Io=2*10**-7;##current flowing at room temp in A\n",
      "V=.1;##forward bias voltage in volts\n",
      "\n",
      "##calculation\n",
      "I=Io*(math.e**(e*V/kT)-1);##in Ampere\n",
      "print'%s %.2f %s'%('current flowing when forward bias applied(in microampere)is',I*10**6,'');\n"
     ],
     "language": "python",
     "metadata": {},
     "outputs": [
      {
       "output_type": "stream",
       "stream": "stdout",
       "text": [
        "current flowing when forward bias applied(in microampere)is 9.16 \n"
       ]
      }
     ],
     "prompt_number": 2
    }
   ],
   "metadata": {}
  }
 ]
}