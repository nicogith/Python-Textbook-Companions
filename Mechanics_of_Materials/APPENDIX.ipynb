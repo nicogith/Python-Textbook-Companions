{
 "metadata": {
  "name": ""
 },
 "nbformat": 3,
 "nbformat_minor": 0,
 "worksheets": [
  {
   "cells": [
    {
     "cell_type": "heading",
     "level": 1,
     "metadata": {},
     "source": [
      "APPENDIX A:Geomatric Properties of an Area"
     ]
    },
    {
     "cell_type": "heading",
     "level": 3,
     "metadata": {},
     "source": [
      "Example A.1:Page no. 786"
     ]
    },
    {
     "cell_type": "code",
     "collapsed": false,
     "input": [
      "#Given\n",
      "#From fig. A-4(a)   The given dimensions are\n",
      "l1=8       #inch\n",
      "l2=3       #inch\n",
      "l3=10      #inch\n",
      "l4=5       #inch\n",
      "l5=11.5    #inch\n",
      "l6=2       #inch\n",
      "\n",
      "#calculation\n",
      "ymean1=((l4*l3*l6)+(l5*l2*l1))/((l3*l6)+(l2*l1))\n",
      "#From fig. A-4(b)\n",
      "l1_=-8       #inch\n",
      "l2_=3       #inch\n",
      "l3_=10      #inch\n",
      "l4_=-1.5    #\n",
      "l5_=2       #inch\n",
      "ymean2=((l4_*l2_*-l1_)+(l1_*l3_*l5_))/((l2_*-l1_)+(l3_*l5_))\n",
      "d=ymean1-ymean2     #Depth of beam\n",
      "#From fig. A-4(c)\n",
      "la=8       #inch\n",
      "lb=6.5       #inch\n",
      "lc=10       #inch\n",
      "ld=13        #\n",
      "le=5        #inch\n",
      "lf=3        #inch\n",
      "ymean3=((lb*ld*la)-2*(le*lc*lf))/((ld*la-2*(lc*lf)))\n",
      "print\"Location of centroid in fig (a)is\",ymean1,\"inch\" \n",
      "print\"Location of centroid in fig (b)is\",ymean2,\"inch\"\n",
      "print\"Location of centroid in fig (c)is\",ymean3,\"inch\""
     ],
     "language": "python",
     "metadata": {},
     "outputs": [
      {
       "output_type": "stream",
       "stream": "stdout",
       "text": [
        "Location of centroid in fig (a)is 8.54545454545 inch\n",
        "Location of centroid in fig (b)is -4.45454545455 inch\n",
        "Location of centroid in fig (c)is 8.54545454545 inch\n"
       ]
      }
     ],
     "prompt_number": 7
    },
    {
     "cell_type": "heading",
     "level": 3,
     "metadata": {},
     "source": [
      "Example A.2:Page no 789"
     ]
    },
    {
     "cell_type": "code",
     "collapsed": false,
     "input": [
      "#Given\n",
      "#Dimension in the fig.A-7 a\n",
      "#The given dimensions are\n",
      "l1=8       #inch\n",
      "l2=8.55    #inch\n",
      "l3=10      #inch\n",
      "l4=5       #inch\n",
      "l5=1.5     #inch\n",
      "l6=2       #inch\n",
      "l7=4.45    #inch\n",
      "\n",
      "#Calculation\n",
      "Ix1=(1/12.0*l6*l3**3)\n",
      "A1=l6*l3\n",
      "dy1=(l2-l4)\n",
      "Ix2=(1/12.0*l1*(l5+l5)**3)\n",
      "A2=l1*(l5+l5)\n",
      "dy2=(l7-l5)\n",
      "I1=(Ix1+A1*dy1**2)+(Ix2+A2*dy2**2)\n",
      "print I1\n",
      "\n",
      "#Dimension in the fig.A-7 b\n",
      "l1_= 13      #inch\n",
      "l2_= 3      #inch\n",
      "l3_=10      #inch\n",
      "l4_=5       #inch\n",
      "l5_= 2   #inch\n",
      "l6_= 6.5      #inch\n",
      "l7_=4.45    #inch\n",
      "l8_=8.55    #inch\n",
      "l9_=6.5    #inch\n",
      "\n",
      "Ix1_=(1/12.0*l1_*(l2_+l5+l2_)**3)\n",
      "A1_=l1_*(l2_+l5+l2_)\n",
      "dy1_=(l8_-l9_)\n",
      "Ix2_=(1/12.0*l2_*(l3_)**3)\n",
      "A2_=l2_*(l3_)\n",
      "dy2_=(l7_-l4_)\n",
      "I2=(Ix1+A1*dy1**2)+(Ix2+A2*dy2**2)\n",
      "\n",
      "#Result\n",
      "print\"Moment of inertia for fig a is\",round(I1,0),\"inch**4\"\n",
      "print\"Moment of inertia for fig a is\",round(I2,0),\"inch**4\""
     ],
     "language": "python",
     "metadata": {},
     "outputs": [
      {
       "output_type": "stream",
       "stream": "stdout",
       "text": [
        "645.576666667\n",
        "645.576666667\n",
        "Moment of inertia for fig a is 646.0 inch**4\n",
        "Moment of inertia for fig a is 646.0 inch**4\n"
       ]
      }
     ],
     "prompt_number": 17
    },
    {
     "cell_type": "heading",
     "level": 3,
     "metadata": {},
     "source": [
      "Example A.3 Page no: 790"
     ]
    },
    {
     "cell_type": "code",
     "collapsed": false,
     "input": [
      "#Given\n",
      "#From fig A-8(a)\n",
      "#The given dimensions are\n",
      "l1=100    #mm\n",
      "l2=400    #mm\n",
      "l3=600    #mm\n",
      "dx=250    #mm\n",
      "dy=200     #mm\n",
      "\n",
      "#Calculation\n",
      "#Rectangle A:\n",
      "Ix1=(1/12.0*l1*(l2-l1)**3)\n",
      "Ady=(l1*(l2-l1)*dy**2)\n",
      "Ix=(Ix1+Ady)\n",
      "Iy1=(1/12.0*(l2-l1)*l1**3)\n",
      "Adx=(l1*(l2-l1)*dx**2)\n",
      "Iy=(Iy1+Adx)\n",
      "\n",
      "#Rectangle B:\n",
      "Ix_=(1/12.0*l3*l1**3)\n",
      "Iy_=(1/12.0*l1*l3**3)\n",
      "\n",
      "#Rectangle C\n",
      "Ix3=(1/12.0*l1*(l2-l1)**3)\n",
      "Ady_=(l1*(l2-l1)*200**2)\n",
      "Ix3_=(Ix3+Ady_)\n",
      "Iy3=(1/12.0*(l2-l1)*l1**3)\n",
      "Adx_=(l1*(l2-l1)*dx**2)\n",
      "Iy3_=(Iy3+Adx)\n",
      "\n",
      "#Total Moment of inertia\n",
      "Itx=(Ix+Ix_+Ix3_)\n",
      "Ity=(Iy+Iy_+Iy3_)\n",
      "\n",
      "#Result\n",
      "print\"Moment of inertia across x is \",Itx,\"mm**4\"\n",
      "print\"Moment of inertia across y is \",Ity,\"mm**4\"\n"
     ],
     "language": "python",
     "metadata": {},
     "outputs": [
      {
       "output_type": "stream",
       "stream": "stdout",
       "text": [
        "Moment of inertia across x is  2900000000.0 mm**4\n",
        "Moment of inertia across y is  5600000000.0 mm**4\n"
       ]
      }
     ],
     "prompt_number": 2
    },
    {
     "cell_type": "heading",
     "level": 3,
     "metadata": {},
     "source": [
      "Example A.4 :page no. 793"
     ]
    },
    {
     "cell_type": "code",
     "collapsed": false,
     "input": [
      "#Given\n",
      "#From fig A-12 a\n",
      "#The given length of sides are\n",
      "l1=100      #mm\n",
      "l2=300      #mm\n",
      "dy=200      #mm\n",
      "dx=250      #mm\n",
      "\n",
      "#Calculation\n",
      "#Rectangle A\n",
      "Ixy1=0\n",
      "A1=l1*l2\n",
      "Ixy1=Ixy1+A1*(-dx)*dy\n",
      "\n",
      "#Rectangle B\n",
      "Ixy2=0\n",
      "A2=0\n",
      "Ixy2=Ixy2+A2*dx*dy\n",
      "\n",
      "#Rectangle D\n",
      "Ixy3=0\n",
      "A3=l1*l2\n",
      "Ixy3=Ixy3+A3*(dx)*(-dy)\n",
      "Ixy=Ixy1+Ixy2+Ixy3\n",
      "\n",
      "#Result\n",
      "print\"The moment of inertia is\",Ixy,\"mm**4\"\n"
     ],
     "language": "python",
     "metadata": {},
     "outputs": [
      {
       "output_type": "stream",
       "stream": "stdout",
       "text": [
        "The moment of inertia is -3000000000 mm**4\n"
       ]
      }
     ],
     "prompt_number": 3
    },
    {
     "cell_type": "heading",
     "level": 3,
     "metadata": {},
     "source": [
      "Example A.5 :page no. 796"
     ]
    },
    {
     "cell_type": "code",
     "collapsed": false,
     "input": [
      "#Given\n",
      "#From fig A-15 and From Example A.3 and A.4\n",
      "Ix=2.9*10**9           #moment of inertia along x\n",
      "Iy=5.6*10**9           #moment of inertia along y\n",
      "Ixy=-3*10**9           #moment of inertia along xy\n",
      "\n",
      "#Calculation\n",
      "import math\n",
      "#Using eq. A11\n",
      "import math\n",
      "thetaP1=1/2.0*math.atan(-Ixy*2/(Ix-Iy))*100\n",
      "#As shown in fig. A-15\n",
      "thetaP2=-32.9      #degree\n",
      "Imax=(Ix+Iy)/2.0+math.sqrt((((Ix-Iy)/2.0)**2)+Ixy**2)\n",
      "Imin=(Ix+Iy)/2.0-math.sqrt((((Ix-Iy)/2.0)**2)+Ixy**2)\n",
      "\n",
      "#Result\n",
      "print\"Maximum moment of inertia is\",Imax,\"mm**4\"\n",
      "print\"Minimum moment of inertia is\",Imin,\"mm**4\""
     ],
     "language": "python",
     "metadata": {},
     "outputs": [
      {
       "output_type": "stream",
       "stream": "stdout",
       "text": [
        "Maximum moment of inertia is 7539756829.92 mm**4\n",
        "Minimum moment of inertia is 960243170.081 mm**4\n"
       ]
      }
     ],
     "prompt_number": 22
    },
    {
     "cell_type": "heading",
     "level": 3,
     "metadata": {},
     "source": [
      "Example A.6 :page no. 799"
     ]
    },
    {
     "cell_type": "code",
     "collapsed": false,
     "input": [
      "#given\n",
      "#From fig. A-17 a and Example  A.3 and A.4\n",
      "Ix=2.9*10**9           #mm**4, moment of inertia\n",
      "Iy=5.6*10**9\n",
      "Ixy=-3*10**9\n",
      "\n",
      "#Calculation\n",
      "import math\n",
      "d=(Ix+Iy)/2.0   #distance of centre of circle       \n",
      "#from fig A-17 b\n",
      "BC=1.35\n",
      "AB=3\n",
      "CA=math.sqrt(BC**2+AB**2)\n",
      "\n",
      "#the circle intersect the I axis at point (7.54,0) and  (0.960,0) hence\n",
      "Imax=7.54*(10**9)  #mm**4\n",
      "Imin=0.960*(10**9)  #mm**4\n",
      "thetap1=1/2.0*(180-(math.atan(AB/BC))*180/math.pi)\n",
      "\n",
      "#Result\n",
      "print\"The maximum moment of inertia is\",Imax,\"mm**4\"\n",
      "print\"The minimum moment of inertia is\",Imin,\"mm**4\"\n",
      "print\"The angle is \",round(thetap1,1)\n"
     ],
     "language": "python",
     "metadata": {},
     "outputs": [
      {
       "output_type": "stream",
       "stream": "stdout",
       "text": [
        "The maximum moment of inertia is 7540000000.0 mm**4\n",
        "The minimum moment of inertia is 960000000.0 mm**4\n",
        "The angle is  57.1\n"
       ]
      }
     ],
     "prompt_number": 33
    }
   ],
   "metadata": {}
  }
 ]
}