{
 "metadata": {
  "name": "",
  "signature": "sha256:e11123ba8b6bbada16d8c62d198839756136e69c9f0cc93a98384db776536508"
 },
 "nbformat": 3,
 "nbformat_minor": 0,
 "worksheets": [
  {
   "cells": [
    {
     "cell_type": "heading",
     "level": 1,
     "metadata": {},
     "source": [
      "Chapter 9 : Optical Fiber System-I"
     ]
    },
    {
     "cell_type": "heading",
     "level": 1,
     "metadata": {},
     "source": [
      "Example 1: PgNo-424"
     ]
    },
    {
     "cell_type": "code",
     "collapsed": false,
     "input": [
      "import math\n",
      "\n",
      "# Initialisation of variables\n",
      "e_c=550.0 # number of electron collected\n",
      "p=800.0 # number of photon incident\n",
      "n=e_c/p # quantum efficiency\n",
      "eq=1.602*math.pow(10,-19)# charge\n",
      "h=6.626*math.pow(10,-34)# plank constant\n",
      "c=3*math.pow(10,8)# speed of light in m/s\n",
      "y=1.3*math.pow(10,-6) #wavelength in m\n",
      "R=(n*eq*y)/(h*c)# responsivity in A/W\n",
      "\n",
      "# Results\n",
      "print ('%s %.2f %s' %(\" The responsivity = \",R,\"Amp/Watt\"))"
     ],
     "language": "python",
     "metadata": {},
     "outputs": [
      {
       "output_type": "stream",
       "stream": "stdout",
       "text": [
        " The responsivity =  0.72 Amp/Watt\n"
       ]
      }
     ],
     "prompt_number": 31
    },
    {
     "cell_type": "heading",
     "level": 2,
     "metadata": {},
     "source": [
      "Example 2: PgNo-427"
     ]
    },
    {
     "cell_type": "code",
     "collapsed": false,
     "input": [
      "import math\n",
      "\n",
      "# Variable initialisation\n",
      "eq=1.602*math.pow(10,-19)# charge\n",
      "h=6.626*math.pow(10,-34)# plank constant\n",
      "c=3*math.pow(10,8)# speed of light in m/s\n",
      "y=0.85*math.pow(10,-6) # wavelength in m\n",
      "R=0.274 # responsivity in A/W\n",
      "n=(R*h*c)/(eq*y) # quantum efficiency\n",
      "n1=n*100 # % of quantum efficiency\n",
      "# Results\n",
      "print ('%s %.2f %s' %(\" The quantum efficiency = \",n1,\"%\"))"
     ],
     "language": "python",
     "metadata": {},
     "outputs": [
      {
       "output_type": "stream",
       "stream": "stdout",
       "text": [
        " The quantum efficiency =  40.00 %\n"
       ]
      }
     ],
     "prompt_number": 32
    },
    {
     "cell_type": "heading",
     "level": 2,
     "metadata": {},
     "source": [
      "Example 3: PgNo-429"
     ]
    },
    {
     "cell_type": "code",
     "collapsed": false,
     "input": [
      "import math\n",
      "\n",
      "# Variable declaration\n",
      "e_c=1.0  # number of electron collected\n",
      "p=3.0    # number of photon incident\n",
      "n=e_c/p # quantum efficiency\n",
      "eq=1.602*math.pow(10,-19) # charge\n",
      "h=6.626*math.pow(10,-34) # plank constant\n",
      "c=3*math.pow(10,8) # speed of light in m/s\n",
      "y=0.8*math.pow(10,-6) # wavelength in m\n",
      "Eg=(h*c)/y # band gap energy in J\n",
      "R=(n*eq*y)/(h*c)# responsivity in A/W\n",
      "Po=math.pow(10,-7) # in W\n",
      "Ip=R*Po # output photo current\n",
      "\n",
      "# Results\n",
      "print ('%s %.2f %s' %(\" The quantum efficiency = \",n*100,\"%\"))\n",
      "print ('%s %.2f %s' %(\"\\n band gap energy = \",Eg*pow(10,20),\"*10^-20 J\"))\n",
      "print ('%s %.2f %s' %(\"\\n The output photo current = \",Ip*pow(10,9),\"nA\"))"
     ],
     "language": "python",
     "metadata": {},
     "outputs": [
      {
       "output_type": "stream",
       "stream": "stdout",
       "text": [
        " The quantum efficiency =  33.33 %\n",
        "\n",
        " band gap energy =  24.85 *10^-20 J\n",
        "\n",
        " The output photo current =  21.49 nA\n"
       ]
      }
     ],
     "prompt_number": 33
    },
    {
     "cell_type": "heading",
     "level": 2,
     "metadata": {},
     "source": [
      "Example 4: PgNo-432"
     ]
    },
    {
     "cell_type": "code",
     "collapsed": false,
     "input": [
      "import math\n",
      "\n",
      "# Variable initialisation\n",
      "n=0.50 # quantum efficiency\n",
      "eq=1.602*math.pow(10,-19)# charge\n",
      "h=6.626*math.pow(10,-34)# plank constant\n",
      "c=3*math.pow(10,8)# speed of light in m/s\n",
      "y=0.85*math.pow(10,-6) # wavelength in m\n",
      "R=(n*eq*y)/(h*c)# responsivity in A/W\n",
      "Ip=math.pow(10,-6)# mean photo current\n",
      "Po=Ip/R  # received optical power in W\n",
      "f=c/y\n",
      "re=(n*Po)/(h*f)\n",
      "rp=re/n # number of received photons\n",
      "\n",
      "# Results\n",
      "print ('%s %.2f %s' %(\" The responsivity = \",R,\"A/W\"))\n",
      "print ('%s %.2f %s' %(\"\\n The received optical power = \",Po*pow(10,6),\"uW\"))\n",
      "print ('%s %.2f %s' %(\"\\n The number of received photons = \",rp/pow(10,13),\"*10^13 photons/sec\"))"
     ],
     "language": "python",
     "metadata": {},
     "outputs": [
      {
       "output_type": "stream",
       "stream": "stdout",
       "text": [
        " The responsivity =  0.34 A/W\n",
        "\n",
        " The received optical power =  2.92 uW\n",
        "\n",
        " The number of received photons =  1.25 *10^13 photons/sec\n"
       ]
      }
     ],
     "prompt_number": 34
    },
    {
     "cell_type": "heading",
     "level": 2,
     "metadata": {},
     "source": [
      "Example 5: PgNo-435"
     ]
    },
    {
     "cell_type": "code",
     "collapsed": false,
     "input": [
      "import math\n",
      "\n",
      "# Variable initialisation\n",
      "h=6.626*math.pow(10,-34)# plank constant\n",
      "c=3*math.pow(10,8)   # speed of light in m/s\n",
      "Eg=1.43         # in eV\n",
      "Eg1=Eg*1.602*math.pow(10,-19) # in J\n",
      "y=(h*c)/Eg1    # cut off wavelength in m\n",
      "# Results\n",
      "print ('%s %.2f %s' %(\" The cut off wavelength = \",y*pow(10,6),\"um\"))"
     ],
     "language": "python",
     "metadata": {},
     "outputs": [
      {
       "output_type": "stream",
       "stream": "stdout",
       "text": [
        " The cut off wavelength =  0.87 um\n"
       ]
      }
     ],
     "prompt_number": 35
    },
    {
     "cell_type": "heading",
     "level": 2,
     "metadata": {},
     "source": [
      "Example 6: PgNo-437"
     ]
    },
    {
     "cell_type": "code",
     "collapsed": false,
     "input": [
      "import math\n",
      "\n",
      "# Initialisation of variables\n",
      "vd=2.5*math.pow(10,4)# carrier velocity in m/s\n",
      "w=30*math.pow(10,-6)# width in m\n",
      "Bm=vd/(2*math.pi*w)\n",
      "Tm=1/Bm # max response time in sec\n",
      "Tm1=Tm*math.pow(10,9) # max response time in ns\n",
      "# Results\n",
      "print ('%s %.2f %s' %(\" The max response time = \",Tm1,\"ns\"))"
     ],
     "language": "python",
     "metadata": {},
     "outputs": [
      {
       "output_type": "stream",
       "stream": "stdout",
       "text": [
        " The max response time =  7.54 ns\n"
       ]
      }
     ],
     "prompt_number": 36
    },
    {
     "cell_type": "heading",
     "level": 2,
     "metadata": {},
     "source": [
      "Example 7: PgNo-440"
     ]
    },
    {
     "cell_type": "code",
     "collapsed": false,
     "input": [
      "import math\n",
      "\n",
      "# Variable initialisation\n",
      "n=0.65  # quantum efficiency\n",
      "eq=1.602*math.pow(10,-19) # charge\n",
      "h=6.626*math.pow(10,-34) # plank constant\n",
      "c=3*math.pow(10,8) # speed of light in m/s\n",
      "y=0.85*math.pow(10,-6)# wavelength in m\n",
      "R=(n*eq*y)/(h*c)# responsivity in A/W\n",
      "Po=0.35*math.pow(10,-6) # in W\n",
      "Ip=R*Po # output photo current\n",
      "I=9*math.pow(10,-6) # output current in A\n",
      "M=I/Ip # multiplication factor\n",
      "M1=math.ceil(M)\n",
      "# Results\n",
      "print \" The multiplication factor = \",int(M1)"
     ],
     "language": "python",
     "metadata": {},
     "outputs": [
      {
       "output_type": "stream",
       "stream": "stdout",
       "text": [
        " The multiplication factor =  58\n"
       ]
      }
     ],
     "prompt_number": 37
    },
    {
     "cell_type": "heading",
     "level": 2,
     "metadata": {},
     "source": [
      "Example 8: PgNo-442"
     ]
    },
    {
     "cell_type": "code",
     "collapsed": false,
     "input": [
      "import math\n",
      "\n",
      "# Variable declaration\n",
      "n=0.50  # quantum efficiency\n",
      "eq=1.602*math.pow(10,-19) # charge\n",
      "h=6.626*math.pow(10,-34) # plank constant\n",
      "c=3*math.pow(10,8) # speed of light in m/s\n",
      "Eg=1.5*math.pow(10,-19) # in J\n",
      "y=(h*c)/Eg # cut off wavelength in m\n",
      "f=c/y\n",
      "R=(n*eq)/(h*f) # responsivity in A/W\n",
      "Ip=2.7*math.pow(10,-6) # photo current in A\n",
      "Po=Ip/R # incident optical power in W\n",
      "Po1=Po*math.pow(10,6) # incident optical power in uW\n",
      "\n",
      "# results\n",
      "print ('%s %.2f %s' %( \" The cut off wavelength = \",y*pow(10,6),\"um\"))\n",
      "print ('%s %.2f %s' %(\"\\n The responsivity = \",R,\"A/W \"))\n",
      "print ('%s %.2f %s' %(\"\\n The incident optical power = \",Po1,\"uW\"))"
     ],
     "language": "python",
     "metadata": {},
     "outputs": [
      {
       "output_type": "stream",
       "stream": "stdout",
       "text": [
        " The cut off wavelength =  1.33 um\n",
        "\n",
        " The responsivity =  0.53 A/W \n",
        "\n",
        " The incident optical power =  5.06 uW\n"
       ]
      }
     ],
     "prompt_number": 38
    },
    {
     "cell_type": "heading",
     "level": 2,
     "metadata": {},
     "source": [
      "Example 9: PgNo-445"
     ]
    },
    {
     "cell_type": "code",
     "collapsed": false,
     "input": [
      "import math\n",
      "\n",
      "#Variable declaration\n",
      "n=0.15 # quantum efficiency\n",
      "eq=1.6*math.pow(10,-19) # charge\n",
      "h=6.63*math.pow(10,-34)# plank constant\n",
      "c=3*math.pow(10,8) # speed of light in m/s\n",
      "y=0.85*math.pow(10,-6) # cut off wavelength in m\n",
      "f=c/y # frequency in Hz\n",
      "R=(n*eq)/(h*f) # responsivity in A/W\n",
      "# Results\n",
      "print ('%s %.3f %s' %(\" The responsivity = \",R,\"A/W\"))"
     ],
     "language": "python",
     "metadata": {},
     "outputs": [
      {
       "output_type": "stream",
       "stream": "stdout",
       "text": [
        " The responsivity =  0.103 A/W\n"
       ]
      }
     ],
     "prompt_number": 39
    },
    {
     "cell_type": "heading",
     "level": 2,
     "metadata": {},
     "source": [
      "Example 10: PgNo-448"
     ]
    },
    {
     "cell_type": "code",
     "collapsed": false,
     "input": [
      "import math\n",
      "\n",
      "# Variable initialisation\n",
      "Iph=75*math.pow(10,-6) # output photocurrent in A\n",
      "y=0.85 # operating wavelength in um\n",
      "Pie=750*math.pow(10,-6) # incident optical power in uW\n",
      "R=Iph/Pie # responsivity in A/W\n",
      "n=1.24*R/y # external quantum efficiency\n",
      "n1=n*100  # percentage of external quantum efficiency\n",
      "\n",
      "# Results\n",
      "print ('%s %.2f %s' %(\" The responsivity = \",R,\"A/W\"))\n",
      "print ('%s %.2f %s' %(\"\\n The external quantum efficiency = \",n1,\"%\"))"
     ],
     "language": "python",
     "metadata": {},
     "outputs": [
      {
       "output_type": "stream",
       "stream": "stdout",
       "text": [
        " The responsivity =  0.10 A/W\n",
        "\n",
        " The external quantum efficiency =  14.59 %\n"
       ]
      }
     ],
     "prompt_number": 40
    },
    {
     "cell_type": "heading",
     "level": 2,
     "metadata": {},
     "source": [
      "Example 11: PgNo-451"
     ]
    },
    {
     "cell_type": "code",
     "collapsed": false,
     "input": [
      "import math\n",
      "\n",
      "# Variable initialisation\n",
      "Vs=math.pow(10,5) # saturation in m/s\n",
      "W=7*math.pow(10,-6) # depletion layer width in m\n",
      "tr=W/Vs # transit time in sec\n",
      "\n",
      "# Results\n",
      "print ('%s %.1f %s' %(\" The transit time = \",tr*pow(10,12),\"ps\"))"
     ],
     "language": "python",
     "metadata": {},
     "outputs": [
      {
       "output_type": "stream",
       "stream": "stdout",
       "text": [
        " The transit time =  70.0 ps\n"
       ]
      }
     ],
     "prompt_number": 41
    },
    {
     "cell_type": "heading",
     "level": 2,
     "metadata": {},
     "source": [
      "Example 12: PgNo-454"
     ]
    },
    {
     "cell_type": "code",
     "collapsed": false,
     "input": [
      "import math\n",
      "\n",
      "# Variable initialisation\n",
      "Vs=3*math.pow(10,4)# saturation in m/s\n",
      "W=25*math.pow(10,-6) # depletion layer width in m\n",
      "tr=W/Vs # transit time in sec\n",
      "f=0.35/tr # max 3 dB bandwidth Hz\n",
      "f1=f/math.pow(10,6) # max 3 dB bandwidth Hz\n",
      "\n",
      "# results\n",
      "print ('%s %.f %s' %(\" The max 3 dB bandwidth = \",f1,\"MHz\"))\n",
      "print (\"\\n The answer is wrong in the textbook \")"
     ],
     "language": "python",
     "metadata": {},
     "outputs": [
      {
       "output_type": "stream",
       "stream": "stdout",
       "text": [
        " The max 3 dB bandwidth =  420 MHz\n",
        "\n",
        " The answer is wrong in the textbook \n"
       ]
      }
     ],
     "prompt_number": 42
    },
    {
     "cell_type": "heading",
     "level": 2,
     "metadata": {},
     "source": [
      "Example 13: PgNo-456"
     ]
    },
    {
     "cell_type": "code",
     "collapsed": false,
     "input": [
      "import math\n",
      "\n",
      "# variable initialisation\n",
      "Vs=3*math.pow(10,4) # saturation in m/s\n",
      "W=25*math.pow(10,-6) # depletion layer width in m\n",
      "E=10.5*math.pow(10,-11) # in F/m\n",
      "RL=15*math.pow(10,6) # load resister in ohm\n",
      "A=0.25*math.pow(10,-6) # area in m^2\n",
      "tr=W/Vs # transit time in sec\n",
      "Cj=E*A/W # junction capacitance in F\n",
      "t=RL*Cj # time constant in sec\n",
      "\n",
      "# Results\n",
      "print ('%s %.3f %s' %(\" The transit time = \",tr*pow(10,9),\"ns\"))\n",
      "print ('%s %.2f %s' %(\"\\n The junction capacitance = \",Cj*pow(10,12),\"pF\"))\n",
      "print ('%s %.2f %s' %(\"\\n The time constant = \",t*pow(10,6),\"us\"))"
     ],
     "language": "python",
     "metadata": {},
     "outputs": [
      {
       "output_type": "stream",
       "stream": "stdout",
       "text": [
        " The transit time =  0.833 ns\n",
        "\n",
        " The junction capacitance =  1.05 pF\n",
        "\n",
        " The time constant =  15.75 us\n"
       ]
      }
     ],
     "prompt_number": 43
    },
    {
     "cell_type": "heading",
     "level": 2,
     "metadata": {},
     "source": [
      "Example 14: PgNo-459"
     ]
    },
    {
     "cell_type": "code",
     "collapsed": false,
     "input": [
      "import math\n",
      "\n",
      "# Initialisation of variables\n",
      "Eg1=1.12    # band gap for Si in eV\n",
      "Eg2=0.667   # band gap for Ge in eV\n",
      "y_si=1.24/Eg1 # cut off wavelength for Si in um\n",
      "y_he=1.24/Eg2 # cut off wavelength for Ge in um\n",
      "\n",
      "# Results\n",
      "print ('%s %.3f %s' %(\" The cut off wavelength for Si  = \",y_si,\"um\"))\n",
      "print ('%s %.3f %s' %(\"\\n The cut off wavelength for Ge = \",y_he,\"um\"))\n"
     ],
     "language": "python",
     "metadata": {},
     "outputs": [
      {
       "output_type": "stream",
       "stream": "stdout",
       "text": [
        " The cut off wavelength for Si  =  1.107 um\n",
        "\n",
        " The cut off wavelength for Ge =  1.859 um\n"
       ]
      }
     ],
     "prompt_number": 44
    },
    {
     "cell_type": "heading",
     "level": 2,
     "metadata": {},
     "source": [
      "Example 15: PgNo-463"
     ]
    },
    {
     "cell_type": "code",
     "collapsed": false,
     "input": [
      "import math\n",
      "\n",
      "# variable declaration\n",
      "n=0.50  # quantum efficiency\n",
      "eq=1.6*math.pow(10,-19)# charge\n",
      "h=6.626*math.pow(10,-34) # plank constant\n",
      "c=3*math.pow(10,8) # speed of light in m/s\n",
      "y=0.9*math.pow(10,-6) # wavelength in m\n",
      "R=(n*eq*y)/(h*c) # responsivity in A/W\n",
      "Ip=math.pow(10,-6) # mean photo current\n",
      "Po=Ip/R # received optical power in W\n",
      "f=c/y\n",
      "re=(n*Po)/(h*f)\n",
      "rp=re/n # number of received photons\n",
      "\n",
      "# Results\n",
      "print ('%s %.2f %s' %(\" The responsivity = \",R,\"A/W\"))\n",
      "print ('%s %.2f %s' %(\"\\n The received optical power = \",Po*pow(10,6),\"uW\"))\n",
      "print ('%s %.2f %s' %(\"\\n The number of received photons = \",rp/pow(10,13),\"*10^13 photons/sec\"))"
     ],
     "language": "python",
     "metadata": {},
     "outputs": [
      {
       "output_type": "stream",
       "stream": "stdout",
       "text": [
        " The responsivity =  0.36 A/W\n",
        "\n",
        " The received optical power =  2.76 uW\n",
        "\n",
        " The number of received photons =  1.25 *10^13 photons/sec\n"
       ]
      }
     ],
     "prompt_number": 45
    },
    {
     "cell_type": "heading",
     "level": 2,
     "metadata": {},
     "source": [
      "Example 16: PgNo-466"
     ]
    },
    {
     "cell_type": "code",
     "collapsed": false,
     "input": [
      "import math\n",
      "\n",
      "# Initialisation of variables\n",
      "R=0.40 # Responsivity in A/W\n",
      "m=100*math.pow(10,-6) # incident flux in W/m-m\n",
      "A=2  # area in m-m\n",
      "Po=m*A # incident power in W\n",
      "Ip=R*Po # photon current in A\n",
      "\n",
      "# Results\n",
      "print ('%s %.f %s' %(\" The photon current = \",Ip*math.pow(10,6),\"uA\"))"
     ],
     "language": "python",
     "metadata": {},
     "outputs": [
      {
       "output_type": "stream",
       "stream": "stdout",
       "text": [
        " The photon current =  80 uA\n"
       ]
      }
     ],
     "prompt_number": 46
    },
    {
     "cell_type": "heading",
     "level": 2,
     "metadata": {},
     "source": [
      "Example 17: PgNo-470"
     ]
    },
    {
     "cell_type": "code",
     "collapsed": false,
     "input": [
      "import math\n",
      "\n",
      "# Variable declaration\n",
      "n=0.65      # quantum efficiency\n",
      "eq=1.602*math.pow(10,-19) # charge\n",
      "h=6.626*math.pow(10,-34) # plank constant\n",
      "c=3*math.pow(10,8)  # speed of light in m/s\n",
      "Eg=1.5*math.pow(10,-19) # in J\n",
      "y=(h*c)/Eg   # cut off wavelength in m\n",
      "f=c/y\n",
      "R=(n*eq)/(h*f)  # responsivity in A/W\n",
      "Ip=2.5*math.pow(10,-6) # photo current in A\n",
      "Po=Ip/R    # incident optical power in W\n",
      "Po1=Po*math.pow(10,6) # incident optical power in uW\n",
      "\n",
      "# Results\n",
      "print ('%s %.2f %s' %(\" The cut off wavelength = \",y*math.pow(10,6),\"um\"))\n",
      "print ('%s %.2f %s' %(\"\\n The responsivity = \",R,\"A/W\"))\n",
      "print ('%s %.2f %s' %(\"\\n The incident optical power = \",Po1,\"uW\"))"
     ],
     "language": "python",
     "metadata": {},
     "outputs": [
      {
       "output_type": "stream",
       "stream": "stdout",
       "text": [
        " The cut off wavelength =  1.33 um\n",
        "\n",
        " The responsivity =  0.69 A/W\n",
        "\n",
        " The incident optical power =  3.60 uW\n"
       ]
      }
     ],
     "prompt_number": 47
    },
    {
     "cell_type": "heading",
     "level": 2,
     "metadata": {},
     "source": [
      "Example 18: PgNo-472"
     ]
    },
    {
     "cell_type": "code",
     "collapsed": false,
     "input": [
      "import math\n",
      "\n",
      "# Variable declaration\n",
      "h=6.626*math.pow(10,-34) # plank constant\n",
      "c=3*math.pow(10,8) # speed of light in m/s\n",
      "Eg=1.43 # in eV\n",
      "Eg1=Eg*1.602*math.pow(10,-19) # in J\n",
      "y=(h*c)/Eg1 # cut off wavelength in m\n",
      "\n",
      "# Results\n",
      "print ('%s %.3f %s' %(\" The cut off wavelength = \",y*math.pow(10,6),\"um\"))"
     ],
     "language": "python",
     "metadata": {},
     "outputs": [
      {
       "output_type": "stream",
       "stream": "stdout",
       "text": [
        " The cut off wavelength =  0.868 um\n"
       ]
      }
     ],
     "prompt_number": 48
    },
    {
     "cell_type": "heading",
     "level": 2,
     "metadata": {},
     "source": [
      "Example 19: PgNo-474"
     ]
    },
    {
     "cell_type": "code",
     "collapsed": false,
     "input": [
      "import math\n",
      "\n",
      "# Variable declaration\n",
      "n=0.45  # quantum efficiency\n",
      "h=6.62*math.pow(10,-34) # plank constant\n",
      "c=3*math.pow(10,8) # speed of light in m/s\n",
      "y=1.2*math.pow(10,-6) # cut off wavelength in m\n",
      "Ic=20*math.pow(10,-6) # collector current in A\n",
      "Po=120*math.pow(10,-6)# incident optical power in W\n",
      "eq=1.602*math.pow(10,-19)# charge\n",
      "Go=(h*c*Ic)/(y*Po*eq) # optical gain\n",
      "h_e=Go/n # common emitter gain\n",
      "\n",
      "# Results\n",
      "print ('%s %.3f ' %(\" The optical gain = \",Go))\n",
      "print ('%s %.3f ' %(\"\\n The common emitter gain = \",h_e))\n"
     ],
     "language": "python",
     "metadata": {},
     "outputs": [
      {
       "output_type": "stream",
       "stream": "stdout",
       "text": [
        " The optical gain =  0.172 \n",
        "\n",
        " The common emitter gain =  0.383 \n"
       ]
      }
     ],
     "prompt_number": 49
    },
    {
     "cell_type": "heading",
     "level": 2,
     "metadata": {},
     "source": [
      "Example 20: PgNo-477"
     ]
    },
    {
     "cell_type": "code",
     "collapsed": false,
     "input": [
      "import math\n",
      "\n",
      "# Initialisation of variables\n",
      "n=0.5   # quantum efficiency\n",
      "eq=1.602*math.pow(10,-19) # charge\n",
      "h=6.626*math.pow(10,-34) # plank constant\n",
      "c=3*math.pow(10,8) # speed of light in m/s\n",
      "y=1.3*math.pow(10,-6) # wavelength in m\n",
      "R=(n*eq*y)/(h*c)# responsivity in A/W\n",
      "Po=0.4*math.pow(10,-6) # in W\n",
      "Ip=R*Po # output photo current\n",
      "I=8*math.pow(10,-6) # output current in A\n",
      "M=I/Ip # multiplication factor\n",
      "\n",
      "# Results\n",
      "print \" The multiplication factor = \",int(M)"
     ],
     "language": "python",
     "metadata": {},
     "outputs": [
      {
       "output_type": "stream",
       "stream": "stdout",
       "text": [
        " The multiplication factor =  38\n"
       ]
      }
     ],
     "prompt_number": 50
    },
    {
     "cell_type": "heading",
     "level": 2,
     "metadata": {},
     "source": [
      "Example 21: PgNo-481"
     ]
    },
    {
     "cell_type": "code",
     "collapsed": false,
     "input": [
      "import math\n",
      "\n",
      "# Initialisation of variables\n",
      "n=0.85  # quantum efficiency\n",
      "eq=1.6*math.pow(10,-19) # charge\n",
      "h=6.625*math.pow(10,-34) # plank constant\n",
      "c=3*math.pow(10,8) # speed of light in m/s\n",
      "y=0.9*math.pow(10,-6) # wavelength in m\n",
      "R=(n*eq*y)/(h*c)# responsivity in A/W\n",
      "Po=0.6*math.pow(10,-6) # in W\n",
      "Ip=R*Po # output photo current\n",
      "I=10*math.pow(10,-6) # output current in A\n",
      "M=I/Ip # multiplication factor\n",
      "\n",
      "# Results\n",
      "print \" The multiplication factor = \",int(M)"
     ],
     "language": "python",
     "metadata": {},
     "outputs": [
      {
       "output_type": "stream",
       "stream": "stdout",
       "text": [
        " The multiplication factor =  27\n"
       ]
      }
     ],
     "prompt_number": 51
    },
    {
     "cell_type": "heading",
     "level": 2,
     "metadata": {},
     "source": [
      "Example 22: PgNo-483"
     ]
    },
    {
     "cell_type": "code",
     "collapsed": false,
     "input": [
      "import math\n",
      "\n",
      "# Variable initialisation\n",
      "e_c=1.2*math.pow(10,11) # number of electron collected\n",
      "p=2*math.pow(10,11) # number of photon incident\n",
      "n=e_c/p  # quantum efficiency\n",
      "eq=1.602*math.pow(10,-19) # charge\n",
      "h=6.626*math.pow(10,-34) # plank constant\n",
      "c=3*math.pow(10,8)    # speed of light in m/s\n",
      "E=1.5*math.pow(10,-19) # energy in J\n",
      "\n",
      "# Calculations\n",
      "y=(h*c)/E  # wavelength in m\n",
      "R=(n*eq*y)/(h*c)  # responsivity in A/W\n",
      "Ip=2.6*math.pow(10,-6) # photocurrent in A\n",
      "Po=Ip/R     # incident optical power in W\n",
      "\n",
      "# Results\n",
      "print ('%s %.2f %s' %(\" The quantum efficiency = \",n*100,\"%\"))\n",
      "print ('%s %.2f %s' %(\"\\n The wavelength = \",y*pow(10,6),\"um\"))\n",
      "print ('%s %.2f %s' %(\"\\n The responsivity = \",R,\"Amp/Watt\"))\n",
      "print ('%s %.2f %s' %(\"\\n The incident optical power = \",Po*math.pow(10,6),\"uW\"))"
     ],
     "language": "python",
     "metadata": {},
     "outputs": [
      {
       "output_type": "stream",
       "stream": "stdout",
       "text": [
        " The quantum efficiency =  60.00 %\n",
        "\n",
        " The wavelength =  1.33 um\n",
        "\n",
        " The responsivity =  0.64 Amp/Watt\n",
        "\n",
        " The incident optical power =  4.06 uW\n"
       ]
      }
     ],
     "prompt_number": 52
    },
    {
     "cell_type": "heading",
     "level": 2,
     "metadata": {},
     "source": [
      "Example 23: PgNo-485"
     ]
    },
    {
     "cell_type": "code",
     "collapsed": false,
     "input": [
      "import math\n",
      "\n",
      "# Variable initialisation\n",
      "n=0.40  # quantum efficiency\n",
      "eq=1.602*math.pow(10,-19) # charge\n",
      "h=6.626*math.pow(10,-34) # plank constant\n",
      "c=3*math.pow(10,8) # speed of light in m/s\n",
      "y=1.35*math.pow(10,-6) # wavelength in m\n",
      "R=(n*eq*y)/(h*c) # responsivity in A/W\n",
      "Po=0.2*math.pow(10,-6) # in W\n",
      "Ip=R*Po     # output photo current\n",
      "I=4.9*math.pow(10,-6) # output current in A\n",
      "M=I/Ip    # multiplication factor\n",
      "\n",
      "# Results\n",
      "print \" The multiplication factor = \",int(M)"
     ],
     "language": "python",
     "metadata": {},
     "outputs": [
      {
       "output_type": "stream",
       "stream": "stdout",
       "text": [
        " The multiplication factor =  56\n"
       ]
      }
     ],
     "prompt_number": 53
    },
    {
     "cell_type": "heading",
     "level": 2,
     "metadata": {},
     "source": [
      "Example 24: PgNo-489"
     ]
    },
    {
     "cell_type": "code",
     "collapsed": false,
     "input": [
      "import math\n",
      "\n",
      "# Variable initialisation\n",
      "n=0.55      # quantum efficiency\n",
      "eq=1.6*math.pow(10,-19) # charge\n",
      "h=6.626*math.pow(10,-34) # plank constant\n",
      "c=3*math.pow(10,8) # speed of light in m/s\n",
      "y=0.85*math.pow(10,-6) # wavelength in m\n",
      "R=(n*eq*y)/(h*c) # responsivity in A/W\n",
      "Ip=2*math.pow(10,-6) # mean photo current\n",
      "Po=Ip/R   # received optical power in W\n",
      "re=(n*Po*y)/(h*c)  # number of received photons\n",
      "\n",
      "# Results\n",
      "print ('%s %.3f %s' %(\" The responsivity = \",R,\"A/W\"))\n",
      "print ('%s %.3f %s' %(\"\\n The received optical power = \",Po*math.pow(10,6),\"uW\"))\n",
      "print ('%s %.2f %s' %(\"\\n The number of received photons = \",re/math.pow(10,13),\"*10^13 photons/sec\"))"
     ],
     "language": "python",
     "metadata": {},
     "outputs": [
      {
       "output_type": "stream",
       "stream": "stdout",
       "text": [
        " The responsivity =  0.376 A/W\n",
        "\n",
        " The received optical power =  5.315 uW\n",
        "\n",
        " The number of received photons =  1.25 *10^13 photons/sec\n"
       ]
      }
     ],
     "prompt_number": 54
    },
    {
     "cell_type": "heading",
     "level": 2,
     "metadata": {},
     "source": [
      "Example 25: PgNo-494"
     ]
    },
    {
     "cell_type": "code",
     "collapsed": false,
     "input": [
      "import math\n",
      "\n",
      "# Variable declaration\n",
      "h=6.625*math.pow(10,-34) # plank constant\n",
      "c=3*math.pow(10,8) # speed of light in m/s\n",
      "n=1      # quantum efficiency\n",
      "eq=1.602*math.pow(10,-19) # charge\n",
      "E=1.3*math.pow(10,-19) # energy in J\n",
      "y=(h*c)/E # wavelength in m\n",
      "M=18      # multiplication factor\n",
      "rp=math.pow(10,13) # no. of photon per sec\n",
      "Po=rp*E   # output power in w\n",
      "Ip=(n*Po*eq)/E   # output photocurrent in A\n",
      "I=M*Ip     # photocurrent in A\n",
      "\n",
      "# Results\n",
      "print ('%s %.3f %s' %(\" The wavelength = \",y*math.pow(10,6),\"um\"))\n",
      "print ('%s %.1f %s' %(\"\\n The output power = \",Po*math.pow(10,6),\"uW\"))\n",
      "print ('%s %.3f %s' %(\"\\n The photocurrent = \",I*math.pow(10,6),\"uA\"))"
     ],
     "language": "python",
     "metadata": {},
     "outputs": [
      {
       "output_type": "stream",
       "stream": "stdout",
       "text": [
        " The wavelength =  1.529 um\n",
        "\n",
        " The output power =  1.3 uW\n",
        "\n",
        " The photocurrent =  28.836 uA\n"
       ]
      }
     ],
     "prompt_number": 55
    },
    {
     "cell_type": "heading",
     "level": 2,
     "metadata": {},
     "source": [
      "Example 26: PgNo-497"
     ]
    },
    {
     "cell_type": "code",
     "collapsed": false,
     "input": [
      "import math\n",
      "\n",
      "# Variable declaration\n",
      "e_c=2*math.pow(10,10) # number of electron collected\n",
      "p=5*math.pow(10,10)  # number of photon incident\n",
      "n=e_c/p   # quantum efficiency\n",
      "eq=1.602*math.pow(10,-19) # charge\n",
      "h=6.626*math.pow(10,-34) # plank constant\n",
      "c=3*math.pow(10,8)# speed of light in m/s\n",
      "y=0.85*math.pow(10,-6) # wavelength in m\n",
      "y1=0.85     # wavelength in um\n",
      "Eg=(h*c)/y  #  bandgap energy in J\n",
      "Eg1=1.24/y1 # bandgap energy in terms of eV\n",
      "Po=10*math.pow(10,-6) # incident power in W\n",
      "Ip=(n*eq*Po)/Eg   # mean output photocurrent in A\n",
      "\n",
      "# Results\n",
      "print ('%s %.2f %s' %(\" The quantum efficiency = \",n*100,\"%\"))\n",
      "print ('%s %.3f %s' %(\"\\n The bandgap energy = \",Eg*math.pow(10,19),\"*10^-19 J\"))\n",
      "print ('%s %.2f %s' %(\"\\n The bandgap energy = \",Eg1,\"eV\"))\n",
      "print ('%s %.3f %s' %(\"\\n The mean output photocurrent = \",Ip*math.pow(10,6),\"uA\"))"
     ],
     "language": "python",
     "metadata": {},
     "outputs": [
      {
       "output_type": "stream",
       "stream": "stdout",
       "text": [
        " The quantum efficiency =  40.00 %\n",
        "\n",
        " The bandgap energy =  2.339 *10^-19 J\n",
        "\n",
        " The bandgap energy =  1.46 eV\n",
        "\n",
        " The mean output photocurrent =  2.740 uA\n"
       ]
      }
     ],
     "prompt_number": 56
    }
   ],
   "metadata": {}
  }
 ]
}