{
 "metadata": {
  "name": ""
 },
 "nbformat": 3,
 "nbformat_minor": 0,
 "worksheets": [
  {
   "cells": [
    {
     "cell_type": "heading",
     "level": 1,
     "metadata": {},
     "source": [
      "CHAPTER 5: ARMATURE REACTION AND COMMUTATION IN DYNAMOS"
     ]
    },
    {
     "cell_type": "heading",
     "level": 2,
     "metadata": {},
     "source": [
      "Example 5.1, Page number 140"
     ]
    },
    {
     "cell_type": "code",
     "collapsed": false,
     "input": [
      "#Variable declaration\n",
      "conductors = 800.0   #Number of conductors \n",
      "I_a = 1000.0         #Rated armature current(A)\n",
      "P = 10.0             #Number of poles\n",
      "pitch = 0.7          #Pole-face covers 70% of the pitch \n",
      "a = P                #Number of parallel paths for Simplex lap-wound\n",
      "\n",
      "#Calculation\n",
      "Z = conductors/P     #Number of armature conductors/path under each pole\n",
      "Z_a = Z*pitch        #Active armature conductors/pole\n",
      "Z_p = Z_a/a          #Number of pole face conductors/pole \n",
      "\n",
      "#Result\n",
      "print('Number of pole face conductors/pole , Z_p = %.1f or %.f conductors/pole' %(Z_p,Z_p))"
     ],
     "language": "python",
     "metadata": {},
     "outputs": [
      {
       "output_type": "stream",
       "stream": "stdout",
       "text": [
        "Number of pole face conductors/pole , Z_p = 5.6 or 6 conductors/pole\n"
       ]
      }
     ],
     "prompt_number": 1
    },
    {
     "cell_type": "heading",
     "level": 2,
     "metadata": {},
     "source": [
      "Example 5.2, Page number 140"
     ]
    },
    {
     "cell_type": "code",
     "collapsed": false,
     "input": [
      "#Variable declaration\n",
      "conductors = 800.0    #Number of conductors \n",
      "I_a = 1000.0          #Rated armature current(A)\n",
      "I_l = I_a             #Load or total current entering the armature(A)\n",
      "P = 10.0              #Number of poles\n",
      "pitch = 0.7           #Pole-face covers 70% of the pitch \n",
      "a = P                 #Number of parallel paths for Simplex lap-wound\n",
      "alpha = 5.0           #Number of electrical degress that the brushes are shifted \n",
      "\n",
      "#Calculation\n",
      "Z = conductors/P                                      #Number of armature conductors/path under each pole\n",
      "A_Z_per_pole = (Z*I_l)/(P*a)                          #Cross magnetizing ampere-conductors/pole\n",
      "At_per_pole = (1.0/2)*(8000/1)                        #Ampere-turns/pole\n",
      "frac_demag_At_per_pole  = (2*alpha)/180*(At_per_pole) #Fraction of demagnetizing ampere-turns/pole\n",
      "beta = 180-2*alpha                                    #Cross-magnetizing electrical degrees\n",
      "cross_mag_At_per_pole = (beta/180)*(At_per_pole)      #Cross-magnetizing ampere-turns/pole\n",
      "\n",
      "#Result\n",
      "print('(a) The cross-magnetizing ampere-conductors/pole = %.1f ampere-conductors/pole' %A_Z_per_pole)\n",
      "print('    The cross-magnetizing ampere-turns/pole = %.1f At/pole' %At_per_pole)\n",
      "print('(b) The fraction of demagnetizing ampere-turns/pole = %.1f At/pole' %frac_demag_At_per_pole)\n",
      "print('(c) The cross-magnetizing ampere-turns/pole = %.f At/pole' %cross_mag_At_per_pole)"
     ],
     "language": "python",
     "metadata": {},
     "outputs": [
      {
       "output_type": "stream",
       "stream": "stdout",
       "text": [
        "(a) The cross-magnetizing ampere-conductors/pole = 800.0 ampere-conductors/pole\n",
        "    The cross-magnetizing ampere-turns/pole = 4000.0 At/pole\n",
        "(b) The fraction of demagnetizing ampere-turns/pole = 222.2 At/pole\n",
        "(c) The cross-magnetizing ampere-turns/pole = 3778 At/pole\n"
       ]
      }
     ],
     "prompt_number": 1
    }
   ],
   "metadata": {}
  }
 ]
}