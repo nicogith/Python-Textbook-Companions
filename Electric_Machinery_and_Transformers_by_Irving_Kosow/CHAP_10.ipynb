{
 "metadata": {
  "name": ""
 },
 "nbformat": 3,
 "nbformat_minor": 0,
 "worksheets": [
  {
   "cells": [
    {
     "cell_type": "heading",
     "level": 1,
     "metadata": {},
     "source": [
      "CHAPTER 10: SINGLE-PHASE MOTORS"
     ]
    },
    {
     "cell_type": "heading",
     "level": 2,
     "metadata": {},
     "source": [
      "Example 10.1, Page number 341"
     ]
    },
    {
     "cell_type": "code",
     "collapsed": false,
     "input": [
      "import math\n",
      "import cmath\n",
      "\n",
      "#Variable declaration\n",
      "hp = 0.25        #Power rating of the single-phase motor(hp)\n",
      "V = 110.0        #Voltage rating of the single-phase motor(V)\n",
      "I_sw = 4.0       #Starting winding current(A)\n",
      "phi_I_sw = 15.0  #Phase angle by which I_sw lags behind V(degree)\n",
      "I_rw = 6.0       #Running winding current(A)\n",
      "phi_I_rw = 40.0  #Phase angle by which I_rw lags behind V(degree) \n",
      "\n",
      "#Calculation\n",
      "#Case(a)\n",
      "I_s = I_sw*cmath.exp(1j*-phi_I_sw*math.pi/180)    #Starting current(A)\n",
      "I_r = I_rw*cmath.exp(1j*-phi_I_rw*math.pi/180)    #Running current(A)\n",
      "I_t = I_s+I_r                                     #Total starting current(A)\n",
      "I_t_angle = cmath.phase(I_t)*180/math.pi          #Angle of total starting current(degree)\n",
      "Power_factor = math.cos(I_t_angle*math.pi/180)    #Power factor\n",
      "#Case(b)\n",
      "Is_cos_theta = I_s.real                           #Component of starting winding current in phase with the supply voltage(A)\n",
      "#Case(c)\n",
      "Ir_sin_theta = I_r.imag                           #Component of running winding current that lags the supply voltage by 90\u00b0(A)\n",
      "#Case(d)\n",
      "phase = (phi_I_rw-phi_I_sw)                       #Phase angle between the starting and running currents(degree)\n",
      "\n",
      "#Result\n",
      "print('Case(a): Total starting current , I_t = %.2f\u2220%.f\u00b0 A' %(abs(I_t),I_t_angle))\n",
      "print('         Power factor = %.3f lagging' %Power_factor)\n",
      "print('Case(b): Component of starting winding current in phase with the supply voltage , I_s*cos\u03b8 = %.2f A' %Is_cos_theta)\n",
      "print('Case(c): Component of running winding current that lags the supply voltage by 90\u00b0 , I_r*sin\u03b8 = %.2fj A' %Ir_sin_theta)\n",
      "print('Case(d): Phase angle between starting and running currents , (\u03b8_r-\u03b8_s) = %.f\u00b0 ' %phase)"
     ],
     "language": "python",
     "metadata": {},
     "outputs": [
      {
       "output_type": "stream",
       "stream": "stdout",
       "text": [
        "Case(a): Total starting current , I_t = 9.77\u2220-30\u00b0 A\n",
        "         Power factor = 0.866 lagging\n",
        "Case(b): Component of starting winding current in phase with the supply voltage , I_s*cos\u03b8 = 3.86 A\n",
        "Case(c): Component of running winding current that lags the supply voltage by 90\u00b0 , I_r*sin\u03b8 = -3.86j A\n",
        "Case(d): Phase angle between starting and running currents , (\u03b8_r-\u03b8_s) = 25\u00b0 \n"
       ]
      }
     ],
     "prompt_number": 1
    },
    {
     "cell_type": "heading",
     "level": 2,
     "metadata": {},
     "source": [
      "Example 10.2, Page number 341"
     ]
    },
    {
     "cell_type": "code",
     "collapsed": false,
     "input": [
      "import math\n",
      "\n",
      "#Variable declaration\n",
      "hp = 0.25        #Power rating of the single-phase motor(hp)\n",
      "V = 110.0        #Voltage rating of the single-phase motor(V)\n",
      "I_s = 4.0        #Starting winding current(A)\n",
      "phi_I_s = 15.0   #Phase angle by which I_sw lags behind V(degree)\n",
      "I_r = 6.0        #Running winding current(A)\n",
      "phi_I_r = 40.0   #Phase angle by which I_rw lags behind V(degree) \n",
      "\n",
      "#Calculation\n",
      "P_s = V*I_s*math.cos(phi_I_s*math.pi/180)   #Power dissipated by starting winding(W)\n",
      "P_r = V*I_r*math.cos(phi_I_r*math.pi/180)   #Power dissipated in the running winding(W)\n",
      "P_t = P_s+P_r                               #Total instantaneous power dissipated during starting(W)\n",
      "P_r_d = P_r                                 #Total steady-state power dissipated during running(W)\n",
      "n = hp*746/P_r*100                          #Efficiency(%)\n",
      "\n",
      "#Result\n",
      "print('Case(a): Power dissipated by the starting winding , P_s = %.f W' %P_s)\n",
      "print('Case(b): Power dissipated in the running winding , P_r = %.1f W' %P_r)\n",
      "print('Case(c): Total instantaneous power dissipated during starting , P_t = %.1f W' %P_t)\n",
      "print('Case(d): Total steady-state power dissipated during running , P_r = %.1f W' %P_r_d)\n",
      "print('Case(e): Motor efficiency , \u03b7 = %.f percent' %n)"
     ],
     "language": "python",
     "metadata": {},
     "outputs": [
      {
       "output_type": "stream",
       "stream": "stdout",
       "text": [
        "Case(a): Power dissipated by the starting winding , P_s = 425 W\n",
        "Case(b): Power dissipated in the running winding , P_r = 505.6 W\n",
        "Case(c): Total instantaneous power dissipated during starting , P_t = 930.6 W\n",
        "Case(d): Total steady-state power dissipated during running , P_r = 505.6 W\n",
        "Case(e): Motor efficiency , \u03b7 = 37 percent\n"
       ]
      }
     ],
     "prompt_number": 1
    },
    {
     "cell_type": "heading",
     "level": 2,
     "metadata": {},
     "source": [
      "Example 10.3, Page number 345"
     ]
    },
    {
     "cell_type": "code",
     "collapsed": false,
     "input": [
      "import math\n",
      "import cmath\n",
      "\n",
      "#Variable declaration\n",
      "hp = 0.25        #Power rating of the single-phase motor(hp)\n",
      "V = 110.0        #Voltage rating of the single-phase motor(V)\n",
      "I_sw = 4.0       #Starting winding current(A)\n",
      "phi_I_sw = 42.0  #Phase angle by which I_sw lead V(degree)\n",
      "I_rw = 6.0       #Running winding current(A)\n",
      "phi_I_rw = 40.0  #Phase angle by which I_rw lags behind V(degree) \n",
      "\n",
      "#Calculation\n",
      "#Case(a)\n",
      "I_s = I_sw*cmath.exp(1j*phi_I_sw*math.pi/180)       #Starting current(A)\n",
      "I_r = I_rw*cmath.exp(1j*-phi_I_rw*math.pi/180)      #Running current(A)\n",
      "I_t = I_s+I_r                                       #Total starting current(A)\n",
      "I_t_angle = cmath.phase(I_t)*180/math.pi            #Angle of total starting current(degree)\n",
      "Power_factor = math.cos(I_t_angle*math.pi/180)      #Power factor\n",
      "#Case(b)\n",
      "angle = (phi_I_rw-(-phi_I_sw))                      #Angle between starting and running current(degree)\n",
      "sin_angle = math.sin(angle*math.pi/180)             #Sine of the angle between starting and running currents\n",
      "#Case(c)\n",
      "T_ratio = sin_angle/math.sin(25*math.pi/180)        #Ratio of starting torque\n",
      "\n",
      "#Result\n",
      "print('Case(a): Total starting current , I_t = %.2f\u2220%.1f\u00b0 A' %(abs(I_t),I_t_angle))\n",
      "print('         Power factor = %.3f ' %Power_factor)\n",
      "print('Case(b): Sine of the angle between starting and running currents = %.4f ' %sin_angle)\n",
      "print('Case(c): Steady state starting current has been reduced from 9.88\u2220-30\u00b0 A to %.2f\u2220%.1f\u00b0 A' %(abs(I_t),I_t_angle))\n",
      "print('         The power factor has raised from 0.866 lagging to %.3f' %Power_factor)\n",
      "print('         The ratio of starting torques , T_cs/T_rs = %.2f ' %T_ratio)"
     ],
     "language": "python",
     "metadata": {},
     "outputs": [
      {
       "output_type": "stream",
       "stream": "stdout",
       "text": [
        "Case(a): Total starting current , I_t = 7.66\u2220-8.9\u00b0 A\n",
        "         Power factor = 0.988 \n",
        "Case(b): Sine of the angle between starting and running currents = 0.9903 \n",
        "Case(c): Steady state starting current has been reduced from 9.88\u2220-30\u00b0 A to 7.66\u2220-8.9\u00b0 A\n",
        "         The power factor has raised from 0.866 lagging to 0.988\n",
        "         The ratio of starting torques , T_cs/T_rs = 2.34 \n"
       ]
      }
     ],
     "prompt_number": 1
    },
    {
     "cell_type": "heading",
     "level": 2,
     "metadata": {},
     "source": [
      "Example 10.4, Page number 345"
     ]
    },
    {
     "cell_type": "code",
     "collapsed": false,
     "input": [
      "#Variable declaration\n",
      "T_r = 1.0       #Rated torque(lb-ft)\n",
      "P_in = 400.0    #Rated input power(W)\n",
      "V = 115.0       #Rated input voltage(V)\n",
      "I_t = 5.35      #Rated input current(A)\n",
      "Speed = 1750.0  #Rated speed(rpm)\n",
      "hp = 1.0/3      #Rated hp\n",
      "T_s = 4.5       #Starting torque(lb-ft) From Locked-Rotor data\n",
      "T_br = 2.5      #Breakdown torque(lb-ft) From Breakdown-Torque data\n",
      "\n",
      "#Calculation\n",
      "T_s_r = T_s/T_r      #Ratio of starting to rated torque\n",
      "T_br_r = T_br/T_r    #Ratio of breakdown to rated torque\n",
      "P_o = hp*746         #Power output(W) \n",
      "n = P_o/P_in*100     #Rated load efficiency(%)\n",
      "S = V*I_t            #VA rating of the motor\n",
      "cos_theta = P_in/S   #Rated load power factor\n",
      "hp = T_r*Speed/5252  #Rated load horsepower\n",
      "\n",
      "#Result\n",
      "print('Case(a): Ratio of starting to rated torque , T_s/T_r = %.1f ' %T_s_r)\n",
      "print('Case(b): Ratio of breakdown to rated torque , T_br/T_r = %.1f ' %T_br_r)\n",
      "print('Case(c): Rated load efficiency , \u03b7 = %.1f percent' %n)\n",
      "print('Case(d): Rated load power factor , cos\u03b8 = %.4f ' %cos_theta)\n",
      "print('Case(e): Rated load horsepower , hp = %.4f hp' %hp)"
     ],
     "language": "python",
     "metadata": {},
     "outputs": [
      {
       "output_type": "stream",
       "stream": "stdout",
       "text": [
        "Case(a): Ratio of starting to rated torque , T_s/T_r = 4.5 \n",
        "Case(b): Ratio of breakdown to rated torque , T_br/T_r = 2.5 \n",
        "Case(c): Rated load efficiency , \u03b7 = 62.2 percent\n",
        "Case(d): Rated load power factor , cos\u03b8 = 0.6501 \n",
        "Case(e): Rated load horsepower , hp = 0.3332 hp\n"
       ]
      }
     ],
     "prompt_number": 1
    }
   ],
   "metadata": {}
  }
 ]
}