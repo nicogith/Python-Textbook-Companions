{
 "metadata": {
  "name": ""
 },
 "nbformat": 3,
 "nbformat_minor": 0,
 "worksheets": [
  {
   "cells": [
    {
     "cell_type": "heading",
     "level": 1,
     "metadata": {},
     "source": [
      "CHAPTER 3: DC DYNAMO VOLTAGE RELATIONS-DC GENERATORS"
     ]
    },
    {
     "cell_type": "heading",
     "level": 2,
     "metadata": {},
     "source": [
      "Example 3.1, Page number 69"
     ]
    },
    {
     "cell_type": "code",
     "collapsed": false,
     "input": [
      "#Variable declaration\n",
      "kW = 150.0        #Power rating of Shunt generator(kW)\n",
      "V_1 = 250.0       #Voltage rating of Shunt generator(V)\n",
      "V_a = V_1         #Voltage rating of Shunt generator(V)\n",
      "R_f = 50.0        #Field resistance(ohm)\n",
      "R_a = 0.05        #Armature resistance(ohm)\n",
      "\n",
      "#Calculation\n",
      "I_1 = kW*1000/V_1    #Full-load line current flowing to the load(A)\n",
      "I_f = V_1/R_f        #Field current(A)\n",
      "I_a = I_f+I_1        #Armature current(A)\n",
      "E_g = V_a+(I_a*R_a)  #Full load generated voltage(V)\n",
      "\n",
      "#Result\n",
      "print('Case(a): Full-load line current flowing to the load , I_1 = %.f A' %I_1)\n",
      "print('Case(b): Field current , I_f = %.f A' %I_f)\n",
      "print('Case(c): Armature current , I_a = %.f A' %I_a)\n",
      "print('Case(d): Full-load generated voltage , E_g = %.2f A' %E_g)"
     ],
     "language": "python",
     "metadata": {},
     "outputs": [
      {
       "output_type": "stream",
       "stream": "stdout",
       "text": [
        "Case(a): Full-load line current flowing to the load , I_1 = 600 A\n",
        "Case(b): Field current , I_f = 5 A\n",
        "Case(c): Armature current , I_a = 605 A\n",
        "Case(d): Full-load generated voltage , E_g = 280.25 A\n"
       ]
      }
     ],
     "prompt_number": 1
    },
    {
     "cell_type": "heading",
     "level": 2,
     "metadata": {},
     "source": [
      "Example 3.2, Page number 72"
     ]
    },
    {
     "cell_type": "code",
     "collapsed": false,
     "input": [
      "#Variable declaration\n",
      "kW =100.0      #Power rating of the generator(kW)\n",
      "V_1 = 500.0    #Voltage rating of hte generator(V)\n",
      "R_a = 0.03     #Armature resistance(ohm)\n",
      "R_f = 125.0    #Shunt field resistance(ohm)\n",
      "R_s = 0.01     #Series field resistance(ohm)\n",
      "I_d = 54.0     #Diverter current(A)\n",
      "\n",
      "#Calculation\n",
      "#Case(a)\n",
      "I_1 = kW*1000/V_1          #Full-load line current flowing to the load(A)\n",
      "I_f = V_1/R_f              #Shunt Field current(A)\n",
      "I_a = I_f+I_1              #Armature current(A)\n",
      "I_s = I_a-I_d              #Series Field current(A)\n",
      "R_d = I_s*R_s/I_d          #Diverter resistance(ohm)\n",
      "#Case(b)\n",
      "E_g = V_1+I_a*R_a+I_s*R_s  #Generated voltage at full load(V)\n",
      "\n",
      "#Result\n",
      "print('Case(a): Diverter resistance at full load , R_d = %.4f \u03a9' %R_d)\n",
      "print('Case(b): Generated voltage at full load , E_g = %.2f V' %E_g)"
     ],
     "language": "python",
     "metadata": {},
     "outputs": [
      {
       "output_type": "stream",
       "stream": "stdout",
       "text": [
        "Case(a): Diverter resistance at full load , R_d = 0.0278 \u03a9\n",
        "Case(b): Generated voltage at full load , E_g = 507.62 V\n"
       ]
      }
     ],
     "prompt_number": 1
    },
    {
     "cell_type": "heading",
     "level": 2,
     "metadata": {},
     "source": [
      "Example 3.3, Page number 75"
     ]
    },
    {
     "cell_type": "code",
     "collapsed": false,
     "input": [
      "#Variable declaration\n",
      "E_orig = 150.0      #Armature voltage of the generator(V)\n",
      "S_orig = 1800.0     #Speed of the generator(rpm)\n",
      "S_final_a =2000.0   #Increased Speed of the generator(rpm)\n",
      "S_final_b =1600.0   #Increased Speed of the generator(rpm)\n",
      "\n",
      "#Calculation\n",
      "E_final_a = E_orig*(S_final_a/S_orig)   #No-load voltage of the generator(V)\n",
      "E_final_b = E_orig*(S_final_b/S_orig)   #No-load voltage of the generator(V)\n",
      "\n",
      "#Result\n",
      "print('Case(a): No-load voltage of the separately excited generator , E_final = %.2f V' %E_final_a)\n",
      "print('Case(b): No-load voltage of the separately excited generator , E_final = %.2f V' %E_final_b)"
     ],
     "language": "python",
     "metadata": {},
     "outputs": [
      {
       "output_type": "stream",
       "stream": "stdout",
       "text": [
        "Case(a): No-load voltage of the separately excited generator , E_final = 166.67 V\n",
        "Case(b): No-load voltage of the separately excited generator , E_final = 133.33 V\n"
       ]
      }
     ],
     "prompt_number": 1
    },
    {
     "cell_type": "heading",
     "level": 2,
     "metadata": {},
     "source": [
      "Example 3.4, Page number 75"
     ]
    },
    {
     "cell_type": "code",
     "collapsed": false,
     "input": [
      "#Variable declaration\n",
      "S_final = 1200.0      #Speed of the generator(rpm)\n",
      "E_orig_a = 64.3       #Armature voltage of the generator(V) for case a\n",
      "S_orig_a = 1205.0     #Varied Speed of the generator(rpm)\n",
      "E_orig_b = 82.9       #Armature voltage of the generator(V) for case b\n",
      "S_orig_b = 1194.0     #Varied Speed of the generator(rpm)\n",
      "E_orig_c = 162.3      #Armature voltage of the generator(V) for case c\n",
      "S_orig_c = 1202.0     #Varied Speed of the generator(rpm)\n",
      "\n",
      "#Calculation\n",
      "E_1 = E_orig_a*(S_final/S_orig_a)   #No-load voltage of the generator(V)\n",
      "E_2 = E_orig_b*(S_final/S_orig_b)   #No-load voltage of the generator(V)\n",
      "E_3 = E_orig_c*(S_final/S_orig_c)   #No-load voltage of the generator(V)\n",
      "\n",
      "#Result\n",
      "print('Case(a): No-load voltage of the generator , E_1 = %.1f V at %.f rpm' %(E_1,S_final))\n",
      "print('Case(b): No-load voltage of the generator , E_2 = %.1f V at %.f rpm' %(E_2,S_final))\n",
      "print('Case(c): No-load voltage of the generator , E_3 = %.1f V at %.f rpm' %(E_3,S_final))"
     ],
     "language": "python",
     "metadata": {},
     "outputs": [
      {
       "output_type": "stream",
       "stream": "stdout",
       "text": [
        "Case(a): No-load voltage of the generator , E_1 = 64.0 V at 1200 rpm\n",
        "Case(b): No-load voltage of the generator , E_2 = 83.3 V at 1200 rpm\n",
        "Case(c): No-load voltage of the generator , E_3 = 162.0 V at 1200 rpm\n"
       ]
      }
     ],
     "prompt_number": 1
    },
    {
     "cell_type": "heading",
     "level": 2,
     "metadata": {},
     "source": [
      "Example 3.5, Page number 82"
     ]
    },
    {
     "cell_type": "code",
     "collapsed": false,
     "input": [
      "#Variable declaration\n",
      "V = 125.0      #Rated voltage of the shunt generator(V)\n",
      "R_a = 0.15     #Armature resistance(ohm)\n",
      "V_a = 0        #Terminal voltage across the load(V)\n",
      "I_l = 96.0     #Load current(A)\n",
      "I_f = 4.0      #Field current in A\n",
      "\n",
      "#Calculation\n",
      "I_a = I_f+I_l      #Armature current(A)\n",
      "E_g = V_a+I_a*R_a  #Voltage generated in the armature(V)\n",
      "\n",
      "#Result\n",
      "print('Voltage generated in the armature , E_g = %.f V' %E_g)"
     ],
     "language": "python",
     "metadata": {},
     "outputs": [
      {
       "output_type": "stream",
       "stream": "stdout",
       "text": [
        "Voltage generated in the armature , E_g = 15 V\n"
       ]
      }
     ],
     "prompt_number": 1
    },
    {
     "cell_type": "heading",
     "level": 2,
     "metadata": {},
     "source": [
      "Example 3.6, Page number 84"
     ]
    },
    {
     "cell_type": "code",
     "collapsed": false,
     "input": [
      "#Variable declaration\n",
      "V_nl = 135.0   #No-load voltage of the shunt generator(V)\n",
      "V_fl = 125.0   #Full-load voltage of the shunt generator(V)\n",
      "\n",
      "#Calculation\n",
      "VR = (V_nl-V_fl)/V_fl*100  #Voltage regulation(%)\n",
      "\n",
      "#Result\n",
      "print('Voltage regulation , VR = %.f percent' %VR)"
     ],
     "language": "python",
     "metadata": {},
     "outputs": [
      {
       "output_type": "stream",
       "stream": "stdout",
       "text": [
        "Voltage regulation , VR = 8 percent\n"
       ]
      }
     ],
     "prompt_number": 1
    },
    {
     "cell_type": "heading",
     "level": 2,
     "metadata": {},
     "source": [
      "Example 3.7, Page number 84"
     ]
    },
    {
     "cell_type": "code",
     "collapsed": false,
     "input": [
      "#Variable declaration\n",
      "VR = 0.105     #Voltage regulation\n",
      "V_fl = 250.0   #Full-load voltage of the shunt generator(V)\n",
      "\n",
      "#Calculation\n",
      "V_nl = V_fl+(V_fl*VR)   #No-load voltage of the generator(V)\n",
      "\n",
      "#Result\n",
      "print('No-load voltage of the generator , V_nl = %.1f V' %V_nl)"
     ],
     "language": "python",
     "metadata": {},
     "outputs": [
      {
       "output_type": "stream",
       "stream": "stdout",
       "text": [
        "No-load voltage of the generator , V_nl = 276.2 V\n"
       ]
      }
     ],
     "prompt_number": 1
    },
    {
     "cell_type": "heading",
     "level": 2,
     "metadata": {},
     "source": [
      "Example 3.8, Page number 88"
     ]
    },
    {
     "cell_type": "code",
     "collapsed": false,
     "input": [
      "#Variable declaration\n",
      "N_f = 1000.0    #Shunt field winding(turns/pole)\n",
      "N_s = 4.0       #Series field winding(turns/pole)\n",
      "I_f = 0.2       #Field current(A)\n",
      "I_a = 80.0      #Full-load armature current(A)\n",
      "R_s =0.05       #Series field resistance(ohm)\n",
      "\n",
      "#Calculation\n",
      "I_s_N_s = I_f*N_f     #Series field ampere-turns\n",
      "I_s =(I_s_N_s)/N_s    #Desired current in the series field required to produce voltage rise(A)\n",
      "I_d = I_a-I_s         #Diverter current(A)\n",
      "R_d = (I_s*R_s)/I_d   #Diverter resistance(ohm)\n",
      "\n",
      "#Result\n",
      "print('Case(a): Number of series field ampere-turns required for flat-compound operation , I_sN_s = %.f At' %I_s_N_s)\n",
      "print('Case(b): Diverter resistance required for flat-compound operation , R_d = %.4f \u03a9' %R_d)"
     ],
     "language": "python",
     "metadata": {},
     "outputs": [
      {
       "output_type": "stream",
       "stream": "stdout",
       "text": [
        "Case(a): Number of series field ampere-turns required for flat-compound operation , I_sN_s = 200 At\n",
        "Case(b): Diverter resistance required for flat-compound operation , R_d = 0.0833 \u03a9\n"
       ]
      }
     ],
     "prompt_number": 1
    },
    {
     "cell_type": "heading",
     "level": 2,
     "metadata": {},
     "source": [
      "Example 3.9, Page number 89"
     ]
    },
    {
     "cell_type": "code",
     "collapsed": false,
     "input": [
      "#Variable declaration\n",
      "kW = 60.0    #Power rating of the generator(kW)\n",
      "V = 240.0    #Voltage rating of the generator(V)\n",
      "I_f = 3.0    #Increase in the field current(A)\n",
      "OC_V = 275.0 #Over-compounded Voltage(V)\n",
      "I_l = 250.0  #Rated load current(A)\n",
      "N_f = 200.0  #Number of turns per pole in the shunt field winding \n",
      "N_s = 5.0    #Number of turns per pole in the series field winding \n",
      "R_f = 240.0  #Shunt field resistance(ohm)\n",
      "R_s = 0.005  #Series field resistance(ohm)\n",
      "\n",
      "#Calculation\n",
      "#Case(a)\n",
      "I_s_N_s = I_f * N_f        #Series field ampere-turns\n",
      "I_s = (I_s_N_s)/N_s        #Desired current in the series field required to produce voltage rise(A)\n",
      "I_d = I_l-I_s              #Diverter current(A)\n",
      "R_d = (I_s*R_s)/I_d        #Diverter resistance(ohm)\n",
      "#Case(b)\n",
      "NL_MMF = (V/R_f)*N_f       #No-load MMF(At/pole)\n",
      "I_f_N_f = NL_MMF\n",
      "FL_MMF = I_f_N_f+I_s_N_s   #Full-load MMF(At/pole)\n",
      "\n",
      "#Result\n",
      "print('Case(a): Required diverter resistance , R_d = %.5f \u03a9' %R_d)\n",
      "print('Case(b): Total air-gap MMF per pole at no load , No-load MMF = %.f At/pole' %NL_MMF)\n",
      "print('         Total air-gap MMF per pole at full load , Full-load MMF = %.f At/pole' %FL_MMF)"
     ],
     "language": "python",
     "metadata": {},
     "outputs": [
      {
       "output_type": "stream",
       "stream": "stdout",
       "text": [
        "Case(a): Required diverter resistance , R_d = 0.00462 \u03a9\n",
        "Case(b): Total air-gap MMF per pole at no load , No-load MMF = 200 At/pole\n",
        "         Total air-gap MMF per pole at full load , Full-load MMF = 800 At/pole\n"
       ]
      }
     ],
     "prompt_number": 1
    },
    {
     "cell_type": "heading",
     "level": 2,
     "metadata": {},
     "source": [
      "Example 3.10, Page number 93"
     ]
    },
    {
     "cell_type": "code",
     "collapsed": false,
     "input": [
      "#Variable declaration\n",
      "kW= 50.0              #Power rating of the dynamo(kW)\n",
      "V = 125.0             #Rated voltage(V)\n",
      "S = 1800.0            #Speed of the dynamo(rpm)\n",
      "I_f = 20.0            #Exciting field current(A)\n",
      "Max_temp_rise = 25.0  #Maximum Temperature rise(degree celsius)\n",
      "I_l = 400.0           #Load Current(A)\n",
      "\n",
      "#Result\n",
      "print('Case(a): Since the speed is reduced in half,we must reduce the kW rating in half.Consequently,the 25kW, 900rpm dynamo has the SAME size');\n",
      "print('Case(b): Since we have cut the speed in half but maintained the same kW rating, the dynamo has TWICE the size as the original')\n",
      "print('Case(c): HALF the size')\n",
      "print('Case(d): SAME size')"
     ],
     "language": "python",
     "metadata": {},
     "outputs": [
      {
       "output_type": "stream",
       "stream": "stdout",
       "text": [
        "Case(a): Since the speed is reduced in half,we must reduce the kW rating in half.Consequently,the 25kW, 900rpm dynamo has the SAME size\n",
        "Case(b): Since we have cut the speed in half but maintained the same kW rating, the dynamo has TWICE the size as the original\n",
        "Case(c): HALF the size\n",
        "Case(d): SAME size\n"
       ]
      }
     ],
     "prompt_number": 1
    }
   ],
   "metadata": {}
  }
 ]
}