{
 "metadata": {
  "name": ""
 },
 "nbformat": 3,
 "nbformat_minor": 0,
 "worksheets": [
  {
   "cells": [
    {
     "cell_type": "heading",
     "level": 1,
     "metadata": {},
     "source": [
      "CHAPTER 11: SPECIALIZED DYNAMOS"
     ]
    },
    {
     "cell_type": "heading",
     "level": 2,
     "metadata": {},
     "source": [
      "Example 11.1, Page number 372"
     ]
    },
    {
     "cell_type": "code",
     "collapsed": false,
     "input": [
      "#Variable declaration\n",
      "#Given Torque-Speed relations shown in Fig.11-3b page no-371 for a dc servomotor\n",
      "\n",
      "#Calculation\n",
      "#Case(a)\n",
      "S = 800.0            #Motor speed at point x(rpm). Extrapolating to load line point x\n",
      "V = 60.0             #Armature voltage at point x(V)\n",
      "#Case(b)\n",
      "T = 4.5              #At standstill, 60 V yields 4.5 lb-ft of starting torque\n",
      "#Case(c)\n",
      "P_c = T*S/5252       #Power delivered to the load(hp). From case(a)\n",
      "P_c_watt = P_c*746   #Power delivered to the load(W)\n",
      "#Case(d)\n",
      "T_d = 1.1            #Torque for continuous duty without cooling fan(lb-ft). At point o\n",
      "S_d = 410.0          #Maximum load speed(rpm)\n",
      "#Case(e)\n",
      "T_e = 2.4            #Torque for continuous duty with cooling fan(lb-ft). At point w\n",
      "S_e = 900.0          #Maximum load speed(rpm)\n",
      "#Case(f)\n",
      "P_d = T_d*S_d/5252   #Power delivered to the load(hp). From case(d)\n",
      "P_d_watt = P_d*746   #Power delivered to the load(W)\n",
      "#Case(g)\n",
      "P_e = T_e*S_e/5252   #Power delivered to the load(hp). From case(e)\n",
      "P_e_watt = P_e*746   #Power delivered to the load(W)\n",
      "#Case(h)\n",
      "A = 65.0             #Upper limit of power range A(W)\n",
      "B = 305.0            #Upper limit of power range B(W)\n",
      "\n",
      "#Result\n",
      "print('Case(a): Motor speed when load torque is 2.1 lb-ft at point x , S = %.f rpm' %S)\n",
      "print('         Armature voltage when load torque is 2.1 lb-ft at point x , V = %.f V' %V)\n",
      "print('Case(b): Motor starting torque using the voltage found in part(a) , T_st = %.1f lb-ft' %T)\n",
      "print('Case(c): Power delivered to the load under conditions given in part(a) , P = %.3f hp = %.f W' %(P_c,P_c_watt))\n",
      "print('Case(d): Maximum load speed for continuous duty without cooling fan , S = %.f rpm' %S_d)\n",
      "print('         Torque for continuous duty without cooling fan , T = %.1f lb-ft' %T_d)\n",
      "print('Case(e): Maximum load speed for continuous duty with cooling fan , S = %.f rpm' %S_e)\n",
      "print('         Torque for continuous duty with cooling fan , T = %.1f lb-ft' %T_e)\n",
      "print('Case(f): Power delivered to load in part(d) , P = %.4f hp = %.1f W' %(P_d,P_d_watt))\n",
      "print('Case(g): Power delivered to load in part(e) , P = %.3f hp = %.f W' %(P_e,P_e_watt))\n",
      "print('Case(h): Upper limit of power range , A = %.f W' %A)\n",
      "print('         Upper limit of power range , B = %.f W' %B)"
     ],
     "language": "python",
     "metadata": {},
     "outputs": [
      {
       "output_type": "stream",
       "stream": "stdout",
       "text": [
        "Case(a): Motor speed when load torque is 2.1 lb-ft at point x , S = 800 rpm\n",
        "         Armature voltage when load torque is 2.1 lb-ft at point x , V = 60 V\n",
        "Case(b): Motor starting torque using the voltage found in part(a) , T_st = 4.5 lb-ft\n",
        "Case(c): Power delivered to the load under conditions given in part(a) , P = 0.685 hp = 511 W\n",
        "Case(d): Maximum load speed for continuous duty without cooling fan , S = 410 rpm\n",
        "         Torque for continuous duty without cooling fan , T = 1.1 lb-ft\n",
        "Case(e): Maximum load speed for continuous duty with cooling fan , S = 900 rpm\n",
        "         Torque for continuous duty with cooling fan , T = 2.4 lb-ft\n",
        "Case(f): Power delivered to load in part(d) , P = 0.0859 hp = 64.1 W\n",
        "Case(g): Power delivered to load in part(e) , P = 0.411 hp = 307 W\n",
        "Case(h): Upper limit of power range , A = 65 W\n",
        "         Upper limit of power range , B = 305 W\n"
       ]
      }
     ],
     "prompt_number": 1
    },
    {
     "cell_type": "heading",
     "level": 2,
     "metadata": {},
     "source": [
      "Example 11.2, Page number 379"
     ]
    },
    {
     "cell_type": "code",
     "collapsed": false,
     "input": [
      "#Variable declaration\n",
      "n = 3.0       #Number of stacks or phases\n",
      "P_a = 16.0    #Number of rotor teeth\n",
      "P_b = 24.0    #Number of rotor poles\n",
      "\n",
      "#Calculation\n",
      "alpha_a = 360/(n*P_a)     #Stepping angle(degree/step) \n",
      "alpha_b = 360/(n*P_b)     #Stepping angle(degree/step)\n",
      "\n",
      "#Result\n",
      "print('Case(a): Stepping angle , \u03b1 = %.1f\u00b0/step' %alpha_a)\n",
      "print('Case(b): Stepping angle , \u03b1 = %.1f\u00b0/step' %alpha_b)"
     ],
     "language": "python",
     "metadata": {},
     "outputs": [
      {
       "output_type": "stream",
       "stream": "stdout",
       "text": [
        "Case(a): Stepping angle , \u03b1 = 7.5\u00b0/step\n",
        "Case(b): Stepping angle , \u03b1 = 5.0\u00b0/step\n"
       ]
      }
     ],
     "prompt_number": 1
    },
    {
     "cell_type": "heading",
     "level": 2,
     "metadata": {},
     "source": [
      "Example 11.3, Page number 381"
     ]
    },
    {
     "cell_type": "code",
     "collapsed": false,
     "input": [
      "#Variable declaration\n",
      "P = 50.0     #Number of rotor teeth\n",
      "\n",
      "#Calculation\n",
      "alpha = 90/P #Stepping length(degrees)\n",
      "\n",
      "#Result\n",
      "print('\u03b1 = %.1f\u00b0 ' %alpha)"
     ],
     "language": "python",
     "metadata": {},
     "outputs": [
      {
       "output_type": "stream",
       "stream": "stdout",
       "text": [
        "\u03b1 = 1.8\u00b0 \n"
       ]
      }
     ],
     "prompt_number": 1
    },
    {
     "cell_type": "heading",
     "level": 2,
     "metadata": {},
     "source": [
      "Example 11.4, Page number 388"
     ]
    },
    {
     "cell_type": "code",
     "collapsed": false,
     "input": [
      "#Variable declaration\n",
      "tou = 0.1   #Pole pitch of a double-sided primary LIM(m)\n",
      "f = 60.0    #Frequency applied to the primary LIM(Hz)\n",
      "\n",
      "#Calculation\n",
      "v_s = 2*f*tou   #Synchronous velocity(m/s)\n",
      "\n",
      "#Result\n",
      "print('Synchronous velocity , v_s = %.f m/s' %v_s)"
     ],
     "language": "python",
     "metadata": {},
     "outputs": [
      {
       "output_type": "stream",
       "stream": "stdout",
       "text": [
        "Synchronous velocity , v_s = 12 m/s\n"
       ]
      }
     ],
     "prompt_number": 1
    },
    {
     "cell_type": "heading",
     "level": 2,
     "metadata": {},
     "source": [
      "Example 11.5, Page number 388"
     ]
    },
    {
     "cell_type": "code",
     "collapsed": false,
     "input": [
      "#Variable declaration\n",
      "v_s = 12.0   #Synchronous velocity(m/s)\n",
      "v = 10.0     #Linear velocity of secondary sheet(m/s)\n",
      "\n",
      "#Calculation\n",
      "s = (v_s-v)/v_s   #Slip of the DSLIM\n",
      "\n",
      "#Result\n",
      "print('Slip of the DSLIM , s = %.3f' %s)"
     ],
     "language": "python",
     "metadata": {},
     "outputs": [
      {
       "output_type": "stream",
       "stream": "stdout",
       "text": [
        "Slip of the DSLIM , s = 0.167\n"
       ]
      }
     ],
     "prompt_number": 1
    }
   ],
   "metadata": {}
  }
 ]
}