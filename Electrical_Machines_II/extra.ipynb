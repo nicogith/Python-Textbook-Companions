{
 "metadata": {
  "name": "",
  "signature": "sha256:f8b31f19cbf3c6b3dce4ba746cfebc233c9801395be699bc2538e86d3ab6c5f4"
 },
 "nbformat": 3,
 "nbformat_minor": 0,
 "worksheets": [
  {
   "cells": [
    {
     "cell_type": "heading",
     "level": 1,
     "metadata": {},
     "source": [
      "Chapter 2: Induction Motors(Additional problems)"
     ]
    },
    {
     "cell_type": "heading",
     "level": 2,
     "metadata": {},
     "source": [
      "Problem 1, Page 225"
     ]
    },
    {
     "cell_type": "code",
     "collapsed": false,
     "input": [
      "#Variable declaration\n",
      "P = 8    #number of poles\n",
      "f = 50   #Hz\n",
      "\n",
      "#Calculations\n",
      "Ns = (120*f)/P\n",
      "\n",
      "#Result\n",
      "print \"Synchronous speed = %d r.p.m.\"%Ns"
     ],
     "language": "python",
     "metadata": {},
     "outputs": [
      {
       "output_type": "stream",
       "stream": "stdout",
       "text": [
        "Synchronous speed = 750 r.p.m.\n"
       ]
      }
     ],
     "prompt_number": 1
    },
    {
     "cell_type": "heading",
     "level": 2,
     "metadata": {},
     "source": [
      "Problem 2, Page 225"
     ]
    },
    {
     "cell_type": "code",
     "collapsed": false,
     "input": [
      "#Variable declaration\n",
      "P = 2     #assumption - number of poles\n",
      "f = 50   #Hz\n",
      "\n",
      "#Calculations\n",
      "Ns = (120*f)/P\n",
      "\n",
      "#Result\n",
      "print \"Maximum speed = %d r.p.m.\"%Ns"
     ],
     "language": "python",
     "metadata": {},
     "outputs": [
      {
       "output_type": "stream",
       "stream": "stdout",
       "text": [
        "Maximum speed = 3000 r.p.m.\n"
       ]
      }
     ],
     "prompt_number": 2
    },
    {
     "cell_type": "heading",
     "level": 2,
     "metadata": {},
     "source": [
      "Problem 3, Page 225"
     ]
    },
    {
     "cell_type": "code",
     "collapsed": false,
     "input": [
      "#Variable declaration\n",
      "Pa = 6     #number of poles in alternator\n",
      "N = 1000   #rpm\n",
      "Pi = 16    #number of poles in induction motor\n",
      "S = 2.5    #slip\n",
      "\n",
      "#Calculations\n",
      "f = (N*Pa)/120   #Hz\n",
      "Ns = (120*f)/Pi   #rpm\n",
      "Nr = Ns - ((S*Ns)/100)\n",
      "\n",
      "#Results\n",
      "print \"The actual motor speed is %.2f r.p.m.\"%Nr"
     ],
     "language": "python",
     "metadata": {},
     "outputs": [
      {
       "output_type": "stream",
       "stream": "stdout",
       "text": [
        "The actual motor speed is 365.62 r.p.m.\n"
       ]
      }
     ],
     "prompt_number": 3
    },
    {
     "cell_type": "heading",
     "level": 2,
     "metadata": {},
     "source": [
      "Problem 4, Page 225"
     ]
    },
    {
     "cell_type": "code",
     "collapsed": false,
     "input": [
      "#Variable declaration\n",
      "P = 14.    #no. of poles\n",
      "f = 50.    #Hz\n",
      "N = 414.   #r.p.m.\n",
      "\n",
      "#calculations\n",
      "Ns = (120*f)/P   #rpm\n",
      "S = ((Ns-N)/Ns)*100\n",
      "fr = (S*f)/100\n",
      "\n",
      "#Results\n",
      "print \"Rotor frequency = %.2f Hz\"%fr\n",
      "print \"Slip = %.2f %%\"%S\n",
      "#Incorrect answers in the textbook"
     ],
     "language": "python",
     "metadata": {},
     "outputs": [
      {
       "output_type": "stream",
       "stream": "stdout",
       "text": [
        "Rotor frequency = 1.70 Hz\n",
        "Slip = 3.40 %\n"
       ]
      }
     ],
     "prompt_number": 4
    },
    {
     "cell_type": "heading",
     "level": 2,
     "metadata": {},
     "source": [
      "Problem 5, Page 225"
     ]
    },
    {
     "cell_type": "code",
     "collapsed": false,
     "input": [
      "#Variable declaration\n",
      "Pi = 50         #motor input - KW\n",
      "S = 3./100      #slip - %\n",
      "\n",
      "#Calculations\n",
      "Lc = Pi*S   #rotor copper loss\n",
      "Pm = Pi-Lc\n",
      "\n",
      "#Result\n",
      "print \"Total mechanical power = %.1f kW\"%Pm"
     ],
     "language": "python",
     "metadata": {},
     "outputs": [
      {
       "output_type": "stream",
       "stream": "stdout",
       "text": [
        "Total mechanical power = 48.5 kW\n"
       ]
      }
     ],
     "prompt_number": 5
    },
    {
     "cell_type": "heading",
     "level": 2,
     "metadata": {},
     "source": [
      "Problem 6, Page 225"
     ]
    },
    {
     "cell_type": "code",
     "collapsed": false,
     "input": [
      "import math\n",
      "\n",
      "#Variable declaration\n",
      "P = 4    #no. of poles\n",
      "m = 3\n",
      "f = 50   #Hz\n",
      "n = 85   #efficiency %\n",
      "Po = 17.  #useful output power kW\n",
      "Ls = 900 #stator losses W\n",
      "Lwf = 1100 #windage&friction losses W\n",
      "Lrc = 1.   #rotor copper loss kW\n",
      "\n",
      "#Calculations\n",
      "Pi = Po/n*100    #input power\n",
      "Tl = Pi-Po   #total losses kW\n",
      "Lc = Tl - Ls - Lwf  #copper loss W\n",
      "Pir = Pi-Ls   #input to rotor kW\n",
      "S = Lrc/Pi\n",
      "Ns = 120*f/P  #rpm\n",
      "N = Ns-(S*Ns) #rpm\n",
      "wT = 19.1*1000 #W\n",
      "Td = (wT*60)/(math.pi*2*N)\n",
      "Ta = (Po*1000*60)/(2*math.pi*N)\n",
      "\n",
      "#Results\n",
      "print \"Slip = %.3f\"%S\n",
      "print \"Torque developed = %.2f N-m\"%Td\n",
      "print \"Torque available = %.1f N\"%Ta\n",
      "#Answers vary due to rounding-off errors"
     ],
     "language": "python",
     "metadata": {},
     "outputs": [
      {
       "output_type": "stream",
       "stream": "stdout",
       "text": [
        "Slip = 0.050\n",
        "Torque developed = 127.99 N-m\n",
        "Torque available = 113.9 N\n"
       ]
      }
     ],
     "prompt_number": 6
    },
    {
     "cell_type": "heading",
     "level": 2,
     "metadata": {},
     "source": [
      "Problem 7, Page 225"
     ]
    },
    {
     "cell_type": "code",
     "collapsed": false,
     "input": [
      "import math\n",
      "\n",
      "#Variable declaration\n",
      "P = 6    #no. of poles\n",
      "f = 60   #Hz\n",
      "T = 70   #N-m\n",
      "N = 1152. #rpm\n",
      "\n",
      "#Calculations\n",
      "#Part a\n",
      "Pi = (2*math.pi*1200*T)/60/1000  #input to rotor W\n",
      "Ns = (120.*f)/P   #rpm\n",
      "S = (Ns-N)/Ns\n",
      "\n",
      "#Part b\n",
      "Lrc = S*Pi*1000  #W\n",
      "Td = (2*math.pi*N*T)/60\n",
      "\n",
      "#Part c\n",
      "Pm = Td  #W\n",
      "\n",
      "#Results\n",
      "print \"Total input to the rotor = %.1f kW\"%Pi\n",
      "print \"Rotor copper loss = %d W\"%Lrc\n",
      "print \"Mechanical power developed = %.2f W\"%Pm\n",
      "#answers vary due to rounding-off errors"
     ],
     "language": "python",
     "metadata": {},
     "outputs": [
      {
       "output_type": "stream",
       "stream": "stdout",
       "text": [
        "Total input to the rotor = 8.8 kW\n",
        "Rotor copper loss = 351 W\n",
        "Mechanical power developed = 8444.60 W\n"
       ]
      }
     ],
     "prompt_number": 7
    },
    {
     "cell_type": "heading",
     "level": 2,
     "metadata": {},
     "source": [
      "Problem 8, Page 226"
     ]
    },
    {
     "cell_type": "code",
     "collapsed": false,
     "input": [
      "import math\n",
      "\n",
      "#Variable declaration\n",
      "Vs = 100     #voltage between two slip rings V\n",
      "R2 = 0.2     #ohms/phase\n",
      "Xo = 1       #ohm/phase\n",
      "S = 0.04     #slip\n",
      "\n",
      "#Calculations\n",
      "Eo = Vs/math.sqrt(3)\n",
      "I2 = (S*Eo)/math.sqrt(R2**2+(S*Xo)**2)\n",
      "#During maximum torque,\n",
      "Sm = R2/Xo   \n",
      "Ir = (Sm*Eo)/math.sqrt(S**2+(S*Xo)**2)\n",
      "\n",
      "#Results\n",
      "print \"Rotor current when slip is 4%% is %.1f A\"%I2\n",
      "print \"Slip during maximum torque is %.1f\"%Sm\n",
      "print \"Rotor current during maximum torque is %.1f A\"%Ir  #incorrect answer in the textbook"
     ],
     "language": "python",
     "metadata": {},
     "outputs": [
      {
       "output_type": "stream",
       "stream": "stdout",
       "text": [
        "Rotor current when slip is 4% is 11.3 A\n",
        "Slip during maximum torque is 0.2\n",
        "Rotor current during maximum torque is 204.1 A\n"
       ]
      }
     ],
     "prompt_number": 8
    },
    {
     "cell_type": "heading",
     "level": 2,
     "metadata": {},
     "source": [
      "Problem 9, Page 226"
     ]
    },
    {
     "cell_type": "code",
     "collapsed": false,
     "input": [
      "#Variable declaration\n",
      "S = 1   #slip at the time of starting\n",
      "X2 = 1  #ohms/pase\n",
      "X1 = 0.1 #internal rotor resistance ohms/phase\n",
      "\n",
      "#Calculations\n",
      "#Total resistance required for maximum torque is 1 Ohm\n",
      "Re = X2-X1\n",
      "\n",
      "#Result\n",
      "print \"External resistance needed to be added is %.1f ohms/phase\"%Re"
     ],
     "language": "python",
     "metadata": {},
     "outputs": [
      {
       "output_type": "stream",
       "stream": "stdout",
       "text": [
        "External resistance needed to be added is 0.9 ohms/phase\n"
       ]
      }
     ],
     "prompt_number": 9
    },
    {
     "cell_type": "heading",
     "level": 2,
     "metadata": {},
     "source": [
      "Problem 10, Page 226"
     ]
    },
    {
     "cell_type": "code",
     "collapsed": false,
     "input": [
      "import sympy\n",
      "from sympy.solvers import solve\n",
      "from sympy import Symbol\n",
      "\n",
      "#Variable declaration\n",
      "T = 162.8   #maximum torque Nw-m\n",
      "N = 1365    #speed rpm\n",
      "f = 50      #Hz\n",
      "P = 4       #no. of poles\n",
      "R2 = 0.2    #ohms/phase\n",
      "\n",
      "#Calculations\n",
      "Ns = 120*f/P\n",
      "S = Ns-N/Ns  #slip at maximum torque\n",
      "X2 = R2/S    #ohms\n",
      "Th = T/2     #half of maximum torque\n",
      "R2 = Symbol('R2')\n",
      "x = solve((Th*R2**2-18.1*40*R2+400),R2)  #solving the equation\n",
      "\n",
      "#Results\n",
      "print \"Required resistance = \",round(x[0],2),\"ohms\""
     ],
     "language": "python",
     "metadata": {},
     "outputs": [
      {
       "output_type": "stream",
       "stream": "stdout",
       "text": [
        "Required resistance =  0.59 ohms\n"
       ]
      }
     ],
     "prompt_number": 1
    },
    {
     "cell_type": "heading",
     "level": 2,
     "metadata": {},
     "source": [
      "Problem 11, Page 226"
     ]
    },
    {
     "cell_type": "code",
     "collapsed": false,
     "input": [
      "#Variable declaration\n",
      "N = 290.   #speed of motor at full load rpm\n",
      "f = 50    #Hz\n",
      "\n",
      "#Calculations\n",
      "P = 20    #since motors running at full load\n",
      "Ns= 120*f/P\n",
      "S1 = (Ns-N)/Ns*100\n",
      "#since S is directly proportinal to R2,\n",
      "#when R2 is doubled, S is also doubled\n",
      "S = 2*S1\n",
      "\n",
      "#Results\n",
      "print \"The number of poles are %d\"%P\n",
      "print \"Slip = %.1f %%\"%S1\n",
      "print \"Slip if the rotor resistance is doubled = %.1f %%\"%S"
     ],
     "language": "python",
     "metadata": {},
     "outputs": [
      {
       "output_type": "stream",
       "stream": "stdout",
       "text": [
        "The number of poles are 20\n",
        "Slip = 3.3 %\n",
        "Slip if the rotor resistance is doubled = 6.7 %\n"
       ]
      }
     ],
     "prompt_number": 13
    },
    {
     "cell_type": "heading",
     "level": 2,
     "metadata": {},
     "source": [
      "Problem 12, Page 226"
     ]
    },
    {
     "cell_type": "code",
     "collapsed": false,
     "input": [
      "#Variable declarartion\n",
      "S = 2.5/100  #slip\n",
      "#Isc=4*If\n",
      "\n",
      "#Calculations\n",
      "'''\n",
      "Ts   Isc ^2\n",
      "-- = ---   * slip\n",
      "Tf    If\n",
      "'''\n",
      "Ts_by_Tf = 4**2*S*100\n",
      "\n",
      "#Result\n",
      "print \"Starting torque is %d %% of full load torque\"%Ts_by_Tf"
     ],
     "language": "python",
     "metadata": {},
     "outputs": [
      {
       "output_type": "stream",
       "stream": "stdout",
       "text": [
        "Starting torque is 40 % of full load torque\n"
       ]
      }
     ],
     "prompt_number": 14
    },
    {
     "cell_type": "heading",
     "level": 2,
     "metadata": {},
     "source": [
      "Problem 13, Page 226"
     ]
    },
    {
     "cell_type": "code",
     "collapsed": false,
     "input": [
      "import math\n",
      "\n",
      "#Variable declaration\n",
      "f = 50    #Hz\n",
      "P = 6     #no. of poles\n",
      "S = 1     #slip\n",
      "Eo = 62.8 #phase voltage V\n",
      "m = 3.\n",
      "Xo = 6    #rotor reactance ohms\n",
      "R2 = 1    #resistance ohms\n",
      "\n",
      "#Calculations\n",
      "Ns = 120*f/P  #rpm\n",
      "ws = 2*math.pi*Ns/60  #rad/sec\n",
      "K = m/ws\n",
      "Ts = (K*S*Eo**2*R2)/((R2**2)+(S*Xo)**2)  #at starting\n",
      "#For maximum torque\n",
      "R2 = 1  #ohm\n",
      "X2 = 6  #ohms\n",
      "S = R2/X2\n",
      "Tmax = (K*Eo**2)/(2*X2)\n",
      "\n",
      "#Result\n",
      "print \"The starting torque is %.3f N-m\"%Ts\n",
      "print \"The maximum torque develped is %.1f N-m\"%Tmax\n",
      "#Incorrect soltion in the textbook"
     ],
     "language": "python",
     "metadata": {},
     "outputs": [
      {
       "output_type": "stream",
       "stream": "stdout",
       "text": [
        "The starting torque is 3.054 N-m\n",
        "The maximum torque develped is 9.4 N-m\n"
       ]
      }
     ],
     "prompt_number": 15
    },
    {
     "cell_type": "heading",
     "level": 2,
     "metadata": {},
     "source": [
      "Problem 14, Page 226"
     ]
    },
    {
     "cell_type": "code",
     "collapsed": false,
     "input": [
      "import math\n",
      "\n",
      "#Variable declaration\n",
      "Vl = 200.    #line voltage of stator V\n",
      "t = 0.67    #turn ratio\n",
      "Ns = 1500.   #rpm\n",
      "R2 = 0.1    #resistance  ohms\n",
      "S = 0.04    #slip\n",
      "X = 0.9     #reactance ohms\n",
      "m = 3.       #number of phases\n",
      "\n",
      "#Calculations\n",
      "Vp = Vl/math.sqrt(3)  #phase voltage of stator V\n",
      "E = Vp*t\n",
      "ws = (2*math.pi*Ns)/60\n",
      "K = m/ws\n",
      "T = (K*S*E**2*R2)/(R2**2+(S*X)**2)\n",
      "\n",
      "#Result\n",
      "print \"Total torque = %d N-m\"%T\n",
      "#Incorrect answer in the textbook"
     ],
     "language": "python",
     "metadata": {},
     "outputs": [
      {
       "output_type": "stream",
       "stream": "stdout",
       "text": [
        "Total torque = 40 N-m\n"
       ]
      }
     ],
     "prompt_number": 16
    },
    {
     "cell_type": "heading",
     "level": 2,
     "metadata": {},
     "source": [
      "Problem 15, Page 226"
     ]
    },
    {
     "cell_type": "code",
     "collapsed": false,
     "input": [
      "#Variable declaration\n",
      "P = 8         #number of pos\n",
      "f = 50.       #Hz\n",
      "S = 0.04      #slip\n",
      "Po = 15*1000  #oput power W\n",
      "R2 = 0.2      #rotor resistance Ohms\n",
      "X = 1.5       #rotor reactance Ohms\n",
      "N = 400       #ohms\n",
      "\n",
      "#Calculations\n",
      "Ns = (120*f)/P   #rpm\n",
      "S_dash = (Ns-N)/Ns\n",
      "R2_dash = (R2*S_dash)/S #ohms\n",
      "R = R2_dash-R2  #resistance to be added\n",
      "Pi = Po/(1-S)   #W\n",
      "Lc = S_dash*Pi  #rotor copper loss W\n",
      "P = Pi - Lc     #ouput power W\n",
      "\n",
      "#Results\n",
      "print \"The external resistance to be connected per phase is %.2f ohms\"%R\n",
      "print \"Total rotor copper loss = %d W\"%Lc\n",
      "print \"Ouput power of motor = %d W\"%P\n",
      "\n",
      "#Incorrect answers in the textbook"
     ],
     "language": "python",
     "metadata": {},
     "outputs": [
      {
       "output_type": "stream",
       "stream": "stdout",
       "text": [
        "The external resistance to be connected per phase is 2.13 ohms\n",
        "Total rotor copper loss = 7291 W\n",
        "Ouput power of motor = 8333 W\n"
       ]
      }
     ],
     "prompt_number": 17
    },
    {
     "cell_type": "heading",
     "level": 2,
     "metadata": {},
     "source": [
      "Problem 16, Page 227"
     ]
    },
    {
     "cell_type": "code",
     "collapsed": false,
     "input": [
      "#Variable declaration\n",
      "n = 0.8    #efficiency \n",
      "O = 20*735.5 #load/output\n",
      "\n",
      "#Calculations\n",
      "i = O/n  #input W\n",
      "Tl = i - O   #total losses W\n",
      "#since total losses is a sum of rotor copper loss+stator copper loss+iron loss+mechanical loss\n",
      "K = (Tl*3)/10  #rotor copper loss W\n",
      "Ri = O+(K/3)+K #input to the rotor W \n",
      "S = K/Ri       #slip\n",
      "\n",
      "#Result \n",
      "print \"Slip = %.3f\"%S"
     ],
     "language": "python",
     "metadata": {},
     "outputs": [
      {
       "output_type": "stream",
       "stream": "stdout",
       "text": [
        "Slip = 0.068\n"
       ]
      }
     ],
     "prompt_number": 18
    },
    {
     "cell_type": "heading",
     "level": 2,
     "metadata": {},
     "source": [
      "Problem 17, Page 227"
     ]
    },
    {
     "cell_type": "code",
     "collapsed": false,
     "input": [
      "import math\n",
      "\n",
      "#Variable declaration\n",
      "Pi = 20     #input power KW\n",
      "N = 960.     #speed rpm\n",
      "f = 50      #Hz\n",
      "P = 6       #number of poles\n",
      "R2 = 1./3   #resistance ohms\n",
      "\n",
      "#Calculations\n",
      "Ns = 1000.\n",
      "S = (Ns-N)/Ns    #slip\n",
      "Lrc = S*Pi*1000  #rotor copper loss W\n",
      "Lrc_ph = Lrc/3   #rotor copper loss per phase\n",
      "I2 = math.sqrt(Lrc_ph/R2)\n",
      "\n",
      "#Result\n",
      "print \"Rotor current per phase = %.1f A\"%I2"
     ],
     "language": "python",
     "metadata": {},
     "outputs": [
      {
       "output_type": "stream",
       "stream": "stdout",
       "text": [
        "Rotor current per phase = 28.3 A\n"
       ]
      }
     ],
     "prompt_number": 19
    },
    {
     "cell_type": "heading",
     "level": 2,
     "metadata": {},
     "source": [
      "Problem 18, Page 227"
     ]
    },
    {
     "cell_type": "code",
     "collapsed": false,
     "input": [
      "#Variable declaration\n",
      "P = 4    #number of poles \n",
      "f = 50.   #Hz\n",
      "N = 645.  #speed rpm\n",
      "R2 = 0.04 #rotor resistance ohms\n",
      "\n",
      "#Calculations\n",
      "Ns = (120*f)/P   #rpm\n",
      "S = (Ns-N)/Ns     #slip\n",
      "X2 = R2/S         #rotor reactance ohms\n",
      "a = R2/X2\n",
      "St_by_mt = (2*a)/(a*2+1) #starting torque/maximum torque\n",
      "S = 0.03\n",
      "Flt_by_mt = (2*a*S)/(a**2+S**2)  #full load torque/maximum torque\n",
      "\n",
      "#Results\n",
      "print \"Maximum torque at starting is %d %%\"%(St_by_mt*100)\n",
      "print \"Maximum torque when slip is 3%% is %d %%\"%(Flt_by_mt*100)\n",
      "\n",
      "#Value of Ns ic wrongly calculated in the textbook. Hence the answers vary"
     ],
     "language": "python",
     "metadata": {},
     "outputs": [
      {
       "output_type": "stream",
       "stream": "stdout",
       "text": [
        "Maximum torque at starting is 53 %\n",
        "Maximum torque when slip is 3% is 10 %\n"
       ]
      }
     ],
     "prompt_number": 20
    },
    {
     "cell_type": "heading",
     "level": 2,
     "metadata": {},
     "source": [
      "Problem 20, Page 227"
     ]
    },
    {
     "cell_type": "code",
     "collapsed": false,
     "input": [
      "#Variable declaration\n",
      "R2 = 0.5    #rotor resistance ohms\n",
      "X2 = 5      #rotor reactance ohms\n",
      "Tm_by_tfl = 2.5   #max torque/full load torque\n",
      "\n",
      "#Calculations\n",
      "#Tfl = Tm/2.5 = KE^2/2.5*2*X2\n",
      "#Part a\n",
      "Tst_by_Tfl_a = (25*R2)/(R2**2+X2**2)\n",
      "\n",
      "#Part b\n",
      "Tst_by_Tfl_b = (25*R2)/(3*(R2**2+X2**2))\n",
      "\n",
      "#Part c\n",
      "#Rotor voltage at starting = 0.75E2\n",
      "Tst_by_Tfl_c = (0.75**2*25*R2)/(R2**2+X2**2)\n",
      "\n",
      "#Results\n",
      "print \"The ratio of starting torque to full load torque for the given cases are as below:\"\n",
      "print \"Part a: %.2f\"%Tst_by_Tfl_a\n",
      "print \"Part a: %.2f\"%Tst_by_Tfl_b\n",
      "print \"Part a: %.2f\"%Tst_by_Tfl_c"
     ],
     "language": "python",
     "metadata": {},
     "outputs": [
      {
       "output_type": "stream",
       "stream": "stdout",
       "text": [
        "The ratio of starting torque to full load torque for the given cases are as below:\n",
        "Part a: 0.50\n",
        "Part a: 0.17\n",
        "Part a: 0.28\n"
       ]
      }
     ],
     "prompt_number": 21
    }
   ],
   "metadata": {}
  }
 ]
}