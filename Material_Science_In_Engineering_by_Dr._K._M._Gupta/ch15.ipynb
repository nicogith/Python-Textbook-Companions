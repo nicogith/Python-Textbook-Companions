{
 "metadata": {
  "name": ""
 },
 "nbformat": 3,
 "nbformat_minor": 0,
 "worksheets": [
  {
   "cells": [
    {
     "cell_type": "heading",
     "level": 1,
     "metadata": {},
     "source": [
      "Chapter 15 : Electric Properties"
     ]
    },
    {
     "cell_type": "heading",
     "level": 3,
     "metadata": {},
     "source": [
      "Example 15.1 pageno :  391"
     ]
    },
    {
     "cell_type": "code",
     "collapsed": false,
     "input": [
      "\n",
      "# Variables\n",
      "v = 230.;\t\t\t#in volts\n",
      "d = 0.005;\t\t\t#in m\n",
      "\n",
      "# Calculations\n",
      "E = -v/d;\t\t\t#in V/m\n",
      "\n",
      "# Results\n",
      "print \"Electric field between pair of conducting plates (in V/m)  =  \",E\n"
     ],
     "language": "python",
     "metadata": {},
     "outputs": [
      {
       "output_type": "stream",
       "stream": "stdout",
       "text": [
        "Electric field between pair of conducting plates (in V/m)  =   -46000.0\n"
       ]
      }
     ],
     "prompt_number": 1
    },
    {
     "cell_type": "heading",
     "level": 3,
     "metadata": {},
     "source": [
      "Example 15.2 pageno : 391"
     ]
    },
    {
     "cell_type": "code",
     "collapsed": false,
     "input": [
      "\n",
      "# Variables\n",
      "n = 10.**19;\t\t\t#no. of electrons per unit volume\n",
      "e = 1.602*10**-19;\t\t\t#charge of an electron in C\n",
      "a = 0.018;\t\t\t#conductivity in ohm/m\n",
      "m = 9.1*10**-31;\t\t\t#mass of an electron in kg\n",
      "v = 0.16;\t\t\t#in volts\n",
      "t = 0.29;\t\t\t#thickness in mm\n",
      "\n",
      "# Calculations\n",
      "efg = v/t;\t\t\t#electric field gradient in V/m\n",
      "vd = a*efg/(n*e);\n",
      "vd1 = 10**3*vd;\t\t\t#in m/s\n",
      "\n",
      "# Results\n",
      "print \"Drift Velocity (in m/sec)  =  %.3f m/s\"%vd1\n"
     ],
     "language": "python",
     "metadata": {},
     "outputs": [
      {
       "output_type": "stream",
       "stream": "stdout",
       "text": [
        "Drift Velocity (in m/sec)  =  6.199 m/s\n"
       ]
      }
     ],
     "prompt_number": 2
    },
    {
     "cell_type": "heading",
     "level": 3,
     "metadata": {},
     "source": [
      "Example 15.3 pageno : 399"
     ]
    },
    {
     "cell_type": "code",
     "collapsed": false,
     "input": [
      "\n",
      "# Variables\n",
      "l = 200.;   \t    \t\t#in m\n",
      "r = 21.;\t    \t    \t#in ohm\n",
      "d = 0.44*10**-3;\t\t\t#in m\n",
      "\n",
      "# Calculations\n",
      "a = 3.14*(d/2)**2;\t\t\t#area in sq m\n",
      "p = r*a/l;\t\t\t#in ohm-m\n",
      "\n",
      "# Results\n",
      "print \"Specific Resistance (in ohm-m)  =  %.3e ohm-m\"%p\n"
     ],
     "language": "python",
     "metadata": {},
     "outputs": [
      {
       "output_type": "stream",
       "stream": "stdout",
       "text": [
        "Specific Resistance (in ohm-m)  =  1.596e-08 ohm-m\n"
       ]
      }
     ],
     "prompt_number": 3
    },
    {
     "cell_type": "heading",
     "level": 3,
     "metadata": {},
     "source": [
      "Example 15.4 pageno : 400"
     ]
    },
    {
     "cell_type": "code",
     "collapsed": false,
     "input": [
      "\n",
      "# Variables\n",
      "p_cu = 0.015*10**-6;\t\t\t#resistivity of copper in ohm-m\n",
      "p_ni = 0.012*10**-6;\t\t\t#resistivity of nickel in ohm-m\n",
      "p_ag = 0.016*10**-6;\t\t\t#resistivity of silver in ohm-m\n",
      "c1 = 0.25;\t\t\t#atomic % of nickel\n",
      "c2 = 0.4;\t\t\t#atomic % of silver\n",
      "\n",
      "# Calculations\n",
      "p = p_cu+(c1*p_ni)+(c2*p_ag);\n",
      "\n",
      "# Results\n",
      "print \"Resistivity of Cu-Ni-Ag alloy at 300 K (in ohm-m)  =  %.2e ohm m\"%p\n"
     ],
     "language": "python",
     "metadata": {},
     "outputs": [
      {
       "output_type": "stream",
       "stream": "stdout",
       "text": [
        "Resistivity of Cu-Ni-Ag alloy at 300 K (in ohm-m)  =  2.44e-08 ohm m\n"
       ]
      }
     ],
     "prompt_number": 4
    },
    {
     "cell_type": "heading",
     "level": 3,
     "metadata": {},
     "source": [
      "Example 15.5 pageno : 407"
     ]
    },
    {
     "cell_type": "code",
     "collapsed": false,
     "input": [
      "\n",
      "# Variables\n",
      "m = 0.14;\t\t\t#mobility of electron\n",
      "u_h = 0.05;\t\t\t#mobility of holes\n",
      "p = 3000.;\t\t\t#resistivity in ohm-m\n",
      "\n",
      "# Calculations\n",
      "e = 1.602*10**-19;\t\t\t#charge of an electron in C\n",
      "a = 1./p;\t\t\t#conductivity \n",
      "n = a/(e*(m+u_h));\n",
      "\n",
      "# Results\n",
      "print \"Intrinsic Carrier density in pure silicon (in per cu m)  =  %.3e m**3\"%n\n"
     ],
     "language": "python",
     "metadata": {},
     "outputs": [
      {
       "output_type": "stream",
       "stream": "stdout",
       "text": [
        "Intrinsic Carrier density in pure silicon (in per cu m)  =  1.095e+16 m**3\n"
       ]
      }
     ],
     "prompt_number": 6
    },
    {
     "cell_type": "heading",
     "level": 3,
     "metadata": {},
     "source": [
      "Example 15.6 pageno : 410"
     ]
    },
    {
     "cell_type": "code",
     "collapsed": false,
     "input": [
      "\n",
      "# Variables\n",
      "id = 1000.;\t\t\t#in A/sqm\n",
      "p = 0.05;\t\t\t#resistivity in ohm-m\n",
      "l = 100.*10**-6;\t\t\t#in m\n",
      "m_e = 0.4;\t\t\t#in sqm/Vsec\n",
      "e = 1.602*10**-19;\t\t\t#charge of electron in C\n",
      "\n",
      "# Calculations\n",
      "a = 1./p;\t\t\t#conductivity\n",
      "n_e = a/(e*m_e);\t\t\t#in per cubic m\n",
      "v_d = id/(n_e*e);\t\t\t#in m/s\n",
      "t = l/v_d;\t\t\t#in sec\n",
      "t1 = t*10**6;\t\t\t#in msec\n",
      "\n",
      "# Results\n",
      "print \"Drift Velocity (in m/s)  =  %.f m/s\"%v_d\n",
      "print \"Time taken by electrons (in msec)  =  %.f ms\"%t1\n"
     ],
     "language": "python",
     "metadata": {},
     "outputs": [
      {
       "output_type": "stream",
       "stream": "stdout",
       "text": [
        "Drift Velocity (in m/s)  =  20 m/s\n",
        "Time taken by electrons (in msec)  =  5 ms\n"
       ]
      }
     ],
     "prompt_number": 7
    },
    {
     "cell_type": "heading",
     "level": 3,
     "metadata": {},
     "source": [
      "Example 15.7 pageno : 410"
     ]
    },
    {
     "cell_type": "code",
     "collapsed": false,
     "input": [
      "\n",
      "# Variables\n",
      "d = 1.*10**-3;\t    \t\t#diameter in m\n",
      "a = 3.14*(d/2)**2;\t\t\t#area of cross section of rod in sq m\n",
      "r = 100.;\t\t\t        #in ohm\n",
      "\n",
      "# Calculations\n",
      "l = 10.*10**-3;\t\t\t    #in m\n",
      "p = a*r/l;\t\t\t        #in ohm-m\n",
      "c = 1./p;\t        \t\t#conductivity\n",
      "e = 1.602*10**-19;\t\t\t#charge of electron in C\n",
      "u_h = 0.19;\t\t\t        #mobility of holes in sqm/Vsec\n",
      "n_h = c/(e*u_h);\n",
      "\n",
      "# Results\n",
      "print \"Impurity concentration in rod (in per cubic m)  =  %.2e m**3\"%n_h\n"
     ],
     "language": "python",
     "metadata": {},
     "outputs": [
      {
       "output_type": "stream",
       "stream": "stdout",
       "text": [
        "Impurity concentration in rod (in per cubic m)  =  4.19e+21 m**3\n"
       ]
      }
     ],
     "prompt_number": 9
    },
    {
     "cell_type": "heading",
     "level": 3,
     "metadata": {},
     "source": [
      "Example 15.8 pageno : 413"
     ]
    },
    {
     "cell_type": "code",
     "collapsed": false,
     "input": [
      "\n",
      "# Variables\n",
      "ni = 1.5*10**16;\t\t\t#intrinsic carrier concentration per cu. m\n",
      "n = 10**19;\t\t\t#no. of conduction electrons in per cu. m\n",
      "\n",
      "# Calculations\n",
      "p = ni**2/n;\t\t\t#in per cu.m\n",
      "\n",
      "# Results\n",
      "print \"Conduction electron and hole density (per cubic m)  =  %.2e m**3\"%p\n"
     ],
     "language": "python",
     "metadata": {},
     "outputs": [
      {
       "output_type": "stream",
       "stream": "stdout",
       "text": [
        "Conduction electron and hole density (per cubic m)  =  2.25e+13 m**3\n"
       ]
      }
     ],
     "prompt_number": 11
    },
    {
     "cell_type": "heading",
     "level": 3,
     "metadata": {},
     "source": [
      "Example 15.9 pageno : 413"
     ]
    },
    {
     "cell_type": "code",
     "collapsed": false,
     "input": [
      "\n",
      "import math \n",
      "\n",
      "# Variables\n",
      "nd = 10.**17;\t\t\t#in per cu cm\n",
      "ni = 1.5*10**10;\t\t\t#in cu cm\n",
      "t = 300;\t\t\t#in K\n",
      "\n",
      "# Calculations\n",
      "ne = nd;\t\t\t#nd>>ni\n",
      "nh = ni**2/ne;\n",
      "e = 0.0259*math.log(ne/ni);\t\t\t#in eV\n",
      "\n",
      "# Results\n",
      "print \"Hole concentration (in per cubic cm)  =  %.2e /cm**3\"%nh\n",
      "print \"Location of Fermi Level (in eV)  =  %.3f eV\"%e\n"
     ],
     "language": "python",
     "metadata": {},
     "outputs": [
      {
       "output_type": "stream",
       "stream": "stdout",
       "text": [
        "Hole concentration (in per cubic cm)  =  2.25e+03 /cm**3\n",
        "Location of Fermi Level (in eV)  =  0.407 eV\n"
       ]
      }
     ],
     "prompt_number": 12
    },
    {
     "cell_type": "heading",
     "level": 3,
     "metadata": {},
     "source": [
      "Example 15.10 pageno : 423"
     ]
    },
    {
     "cell_type": "code",
     "collapsed": false,
     "input": [
      "\n",
      "\n",
      "# Variables\n",
      "d = 40000.;\t\t\t    #dielectric strength in V/mm\n",
      "v = 33*10.**3;\t\t\t#in volts\n",
      "\n",
      "# Calculations\n",
      "t = v/d;\t\t\t#in mm\n",
      "\n",
      "# Results\n",
      "print \"thickness of insulation (in mm)  =  %.3f m m\"%t\n"
     ],
     "language": "python",
     "metadata": {},
     "outputs": [
      {
       "output_type": "stream",
       "stream": "stdout",
       "text": [
        "thickness of insulation (in mm)  =  0.825 m m\n"
       ]
      }
     ],
     "prompt_number": 13
    },
    {
     "cell_type": "heading",
     "level": 3,
     "metadata": {},
     "source": [
      "Example 15.14 page no : 424"
     ]
    },
    {
     "cell_type": "code",
     "collapsed": false,
     "input": [
      "# Calculation\n",
      "\n",
      "T = 0.0464*10**5/2.9444\n",
      "\n",
      "# Result\n",
      "print \"Temperature T = %.1f K\"%T"
     ],
     "language": "python",
     "metadata": {},
     "outputs": [
      {
       "output_type": "stream",
       "stream": "stdout",
       "text": [
        "Temperature T = 1575.9 K\n"
       ]
      }
     ],
     "prompt_number": 14
    },
    {
     "cell_type": "heading",
     "level": 3,
     "metadata": {},
     "source": [
      "Example 15.16 pageno : 425"
     ]
    },
    {
     "cell_type": "code",
     "collapsed": false,
     "input": [
      "\n",
      "# Variables\n",
      "c = 2.99*10**8;\t\t    \t#speed of light in m/s\n",
      "h = 6.62*10**-24;\t\t\t#planck's constant\n",
      "l = 1.771*10**-6             #wavelength in m\n",
      "\n",
      "# Calculations\n",
      "eg = (h*c)/l;\t        \t\t#in J\n",
      "\n",
      "# Results\n",
      "print \"Band gap energy (in J)  =  %.2e Joules\"%eg\n",
      "#Incorrect answer int the textbook. Please calculate manually"
     ],
     "language": "python",
     "metadata": {},
     "outputs": [
      {
       "output_type": "stream",
       "stream": "stdout",
       "text": [
        "Band gap energy (in J)  =  1.12e-09 Joules\n"
       ]
      }
     ],
     "prompt_number": 7
    }
   ],
   "metadata": {}
  }
 ]
}