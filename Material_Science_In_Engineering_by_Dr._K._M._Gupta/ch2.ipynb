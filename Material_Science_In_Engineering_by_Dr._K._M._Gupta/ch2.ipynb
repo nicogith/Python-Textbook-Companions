{
 "metadata": {
  "name": ""
 },
 "nbformat": 3,
 "nbformat_minor": 0,
 "worksheets": [
  {
   "cells": [
    {
     "cell_type": "heading",
     "level": 1,
     "metadata": {},
     "source": [
      "Chapter 2 : Review of Atomic concepts, Atomic Models, and Periodic Table"
     ]
    },
    {
     "cell_type": "heading",
     "level": 3,
     "metadata": {},
     "source": [
      "Example 2.1 page no : 21"
     ]
    },
    {
     "cell_type": "code",
     "collapsed": false,
     "input": [
      "\n",
      "\n",
      "# Variables\n",
      "a1 = 1.0078;\t\t\t#atomic weight of H-1\n",
      "a2 = 2.0143;\t\t\t#atomic weight of H-2\n",
      "p1 = 99.985;\t\t\t#% of H-1\n",
      "p2 = .015;  \t\t\t#% of H-2\n",
      "\n",
      "# Calculations\n",
      "a = ((a1*p1)+(a2*p2))/100\n",
      "\n",
      "# Results\n",
      "print \"Average atomic weight of Hydrogen  =  %.3f\"%a\n"
     ],
     "language": "python",
     "metadata": {},
     "outputs": [
      {
       "output_type": "stream",
       "stream": "stdout",
       "text": [
        "Average atomic weight of Hydrogen  =  1.008\n"
       ]
      }
     ],
     "prompt_number": 1
    },
    {
     "cell_type": "heading",
     "level": 3,
     "metadata": {},
     "source": [
      "Example 2.2 page no : 24"
     ]
    },
    {
     "cell_type": "code",
     "collapsed": false,
     "input": [
      "\n",
      "# Variables\n",
      "z = 79.;            \t\t\t#atomic no. of gold\n",
      "e = 7.68*1.6*10**-13;\t\t\t#ke in J\n",
      "e_c = 1.6*10**-19;\t    \t\t#charge of electron in C\n",
      "e_0 = 8.854*10**-12;\t\t\t#permittivity F/m\n",
      "\n",
      "#Calculations\n",
      "d = (2*e_c**2*z)/(4*3.14*e_0*e);\t\t\t#distance in m\n",
      "\n",
      "# Results\n",
      "print \"distance (in m)  =  %.2e m\"%d\n"
     ],
     "language": "python",
     "metadata": {},
     "outputs": [
      {
       "output_type": "stream",
       "stream": "stdout",
       "text": [
        "distance (in m)  =  2.96e-14 m\n"
       ]
      }
     ],
     "prompt_number": 11
    },
    {
     "cell_type": "heading",
     "level": 3,
     "metadata": {},
     "source": [
      "Example 2.3 pageno : 24"
     ]
    },
    {
     "cell_type": "code",
     "collapsed": false,
     "input": [
      "\n",
      "import math \n",
      "\n",
      "# Variables\n",
      "n = 44.;\t\t\t#no. of particles scattered per minute\n",
      "a = 90.;\t\t\t#angle in degrees\n",
      "b = 75.;\t\t\t#angle in degrees\n",
      "d = 135.;\t\t\t#angle in degrees\n",
      "\n",
      "# Calculations\n",
      "x = math.sin(math.radians(a/2));\n",
      "c = n*x**4;\n",
      "y = math.sin(math.radians(b/2));\n",
      "n1 = c/y**4;\n",
      "z = math.sin(math.radians(d/2));\n",
      "n2 = c/z**4;\n",
      "\n",
      "# Results\n",
      "print \"Proportionality constant  =  \",c\n",
      "print \"No. of particles scattered at 75 degree (in per minute)  =  %d\"%n1\n",
      "print \"No. of particles scattered at 135 degree (in per minute)  =  %d\"%n2\n"
     ],
     "language": "python",
     "metadata": {},
     "outputs": [
      {
       "output_type": "stream",
       "stream": "stdout",
       "text": [
        "Proportionality constant  =   11.0\n",
        "No. of particles scattered at 75 degree (in per minute)  =  80\n",
        "No. of particles scattered at 135 degree (in per minute)  =  15\n"
       ]
      }
     ],
     "prompt_number": 3
    },
    {
     "cell_type": "heading",
     "level": 3,
     "metadata": {},
     "source": [
      "Example 2.4 pageno : 28"
     ]
    },
    {
     "cell_type": "code",
     "collapsed": false,
     "input": [
      "\n",
      "import math \n",
      "\n",
      "# Variables\n",
      "n = 1.          \t\t\t#first orbit\n",
      "e_0 = 8.85*10**-12;\t\t\t#permittivity in freee space\n",
      "h = 6.62*10**-34;\t\t\t#planck's consmath.tant\n",
      "m = 9.1*10**-31;\t\t\t#mass of an electron in kg\n",
      "e = 1.6*10**-19;\t\t\t#charge of an electron in C\n",
      "z = 1.;\n",
      "\n",
      "# Calculations\n",
      "r = n**2*e_0*h**2/(3.14*m*e**2*z);\t\t\t#radius of first orbit in m\n",
      "r1 = r*10.**10;\t\t\t                    #radius in Angstorm\n",
      "\n",
      "# Results\n",
      "print \"Radius of first orbit of electron in Hydrogen atom (in Angstorm)  =  %.2f A\"%r1\n"
     ],
     "language": "python",
     "metadata": {},
     "outputs": [
      {
       "output_type": "stream",
       "stream": "stdout",
       "text": [
        "Radius of first orbit of electron in Hydrogen atom (in Angstorm)  =  0.53 A\n"
       ]
      }
     ],
     "prompt_number": 5
    },
    {
     "cell_type": "heading",
     "level": 3,
     "metadata": {},
     "source": [
      "Example 2.5 pageno : 28"
     ]
    },
    {
     "cell_type": "code",
     "collapsed": false,
     "input": [
      "\n",
      "import math \n",
      "\n",
      "# Variables\n",
      "e_0 = 8.85*10**-12;\t\t\t#permittivity in freee space in sqC/N/sqm\n",
      "h = 6.62*10**-34;\t\t\t#planck's constant in Js\n",
      "m = 9.1*10**-31;\t\t\t#mass of an electron in kg\n",
      "e = 1.6*10**-19;\t\t\t#charge of an electron in C\n",
      "z = 1.;\t            \t\t#for hydrogen\n",
      "n = 1.;\n",
      "\n",
      "# Calculations\n",
      "e = m*z**2*e**4/(8*e_0**2*h**2*n**2);\t\t\t#ionisation energy in J\n",
      "e1 = e/(1.602*10**-19);\t\t\t                #in eV\n",
      "\n",
      "# Results\n",
      "print \"Ionisation Energy (in J)  =  %.2e J\"%e\n",
      "print \"Ionisation Energy (in eV)  =  %.1f V\"%e1\n"
     ],
     "language": "python",
     "metadata": {},
     "outputs": [
      {
       "output_type": "stream",
       "stream": "stdout",
       "text": [
        "Ionisation Energy (in J)  =  2.17e-18 J\n",
        "Ionisation Energy (in eV)  =  13.6 V\n"
       ]
      }
     ],
     "prompt_number": 7
    },
    {
     "cell_type": "heading",
     "level": 3,
     "metadata": {},
     "source": [
      "Example 2.6 page no : 32"
     ]
    },
    {
     "cell_type": "code",
     "collapsed": false,
     "input": [
      "\n",
      "# Variables\n",
      "n = 4.;     \t\t\t#fourth orbit\n",
      "\n",
      "# Calculations\n",
      "a = (0+1)/n;\t\t\t#for s suborbit\n",
      "b = (1+1)/n;\t\t\t#for p suborbit\n",
      "c = (2+1)/n;\t\t\t#for d suborbit\n",
      "d = (3+1)/n;\t\t\t#for f suborbit\n",
      "\n",
      "# Results\n",
      "print \"For s suborbit b/a  =  \",a,\"a\"\n",
      "print \"For p suborbit b/a  =  \",b,\"a\"\n",
      "print \"For d suborbit b/a  =  \",c,\"a\"\n",
      "print \"For f suborbit b/a  =  \",d,\"a\"\n"
     ],
     "language": "python",
     "metadata": {},
     "outputs": [
      {
       "output_type": "stream",
       "stream": "stdout",
       "text": [
        "For s suborbit b/a  =   0.25 a\n",
        "For p suborbit b/a  =   0.5 a\n",
        "For d suborbit b/a  =   0.75 a\n",
        "For f suborbit b/a  =   1.0 a\n"
       ]
      }
     ],
     "prompt_number": 8
    },
    {
     "cell_type": "heading",
     "level": 3,
     "metadata": {},
     "source": [
      "Example 2.7 pageno : 33"
     ]
    },
    {
     "cell_type": "code",
     "collapsed": false,
     "input": [
      "\n",
      "# Variables\n",
      "h = 6.62*10**-34;\t\t\t#planck's constant in Js\n",
      "p = 10**-27;\t\t\t#uncertainity in momentum in kg m/s\n",
      "\n",
      "# Calculations\n",
      "x = h/(2*3.14*p);\t\t\t#uncertainity in position in m\n",
      "\n",
      "# Results\n",
      "print \"Minimum Uncertainity in Position (in m)  =  %.3e\"%x\n"
     ],
     "language": "python",
     "metadata": {},
     "outputs": [
      {
       "output_type": "stream",
       "stream": "stdout",
       "text": [
        "Minimum Uncertainity in Position (in m)  =  1.054e-07\n"
       ]
      }
     ],
     "prompt_number": 10
    }
   ],
   "metadata": {}
  }
 ]
}