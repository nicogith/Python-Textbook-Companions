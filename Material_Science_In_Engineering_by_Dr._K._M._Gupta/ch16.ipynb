{
 "metadata": {
  "name": ""
 },
 "nbformat": 3,
 "nbformat_minor": 0,
 "worksheets": [
  {
   "cells": [
    {
     "cell_type": "heading",
     "level": 1,
     "metadata": {},
     "source": [
      "Chapter 16 : Superconductivity and Superconductors"
     ]
    },
    {
     "cell_type": "heading",
     "level": 3,
     "metadata": {},
     "source": [
      "Example 16.1 page no : 431"
     ]
    },
    {
     "cell_type": "code",
     "collapsed": false,
     "input": [
      "\n",
      "\n",
      "# Variables\n",
      "b = 0;\n",
      "#m = -h\n",
      "#m = x*h\n",
      "# =  = >> -h = x*h\n",
      "\n",
      "# Calculations\n",
      "x = -1;\t\t\t#from above realtions\n",
      "ur = x+1;\t\t\t#relative permeability\n",
      "\n",
      "# Results\n",
      "print \"Susceptibility of superconductor  =  \",x\n",
      "print \"Relative permeability of superconductor  =  \",ur\n"
     ],
     "language": "python",
     "metadata": {},
     "outputs": [
      {
       "output_type": "stream",
       "stream": "stdout",
       "text": [
        "Susceptibility of superconductor  =   -1\n",
        "Relative permeability of superconductor  =   0\n"
       ]
      }
     ],
     "prompt_number": 1
    },
    {
     "cell_type": "heading",
     "level": 3,
     "metadata": {},
     "source": [
      "Example 16.2 pageno : 434"
     ]
    },
    {
     "cell_type": "code",
     "collapsed": false,
     "input": [
      "\n",
      "# Variables\n",
      "ho = 0.0803;\t\t\t#in A/m\n",
      "t1 = 3.;    \t\t\t#in K\n",
      "t2 = 10.;\t    \t\t#in k\n",
      "tc = 7.17;\t\t    \t#in K\n",
      "\n",
      "# Calculations\n",
      "hc1 = ho*(1-(t1/tc)**2);\n",
      "hc2 = ho*(1-(t2/tc)**2);\n",
      "\n",
      "# Results\n",
      "print \"Critical field at 3K (in A/m)  =  %f A/m\"%hc1\n",
      "print \"Critical field at 10K (in A/m)  =  %.4f A/m\"%hc2\n"
     ],
     "language": "python",
     "metadata": {},
     "outputs": [
      {
       "output_type": "stream",
       "stream": "stdout",
       "text": [
        "Critical field at 3K (in A/m)  =  0.066242 A/m\n",
        "Critical field at 10K (in A/m)  =  -0.0759 A/m\n"
       ]
      }
     ],
     "prompt_number": 4
    },
    {
     "cell_type": "heading",
     "level": 3,
     "metadata": {},
     "source": [
      "Example 16.3 pageno : 434"
     ]
    },
    {
     "cell_type": "code",
     "collapsed": false,
     "input": [
      "\n",
      "# Calculations\n",
      "r = 1.*10**-3;\t\t\t#in m\n",
      "hc = 7.9*10**3;\t\t\t#in A/m\n",
      "ic = 2.*3.14*r*hc;\t\t\t#in m\n",
      "\n",
      "# Results\n",
      "print \"Critical current in superconducting state (in A)  =  %.2f A\"%ic\n"
     ],
     "language": "python",
     "metadata": {},
     "outputs": [
      {
       "output_type": "stream",
       "stream": "stdout",
       "text": [
        "Critical current in superconducting state (in A)  =  49.61 A\n"
       ]
      }
     ],
     "prompt_number": 5
    },
    {
     "cell_type": "heading",
     "level": 3,
     "metadata": {},
     "source": [
      "Example 16.4 pageno : 441"
     ]
    },
    {
     "cell_type": "code",
     "collapsed": false,
     "input": [
      "\n",
      "# Variables\n",
      "p = 11.4*10**3;\t\t\t#in kg/m**3\n",
      "aw = 207.2;\t\t\t#in kg/kg-mol\n",
      "v = 1200.;\t\t\t#in m/s\n",
      "\n",
      "# Calculations\n",
      "na = 60.23*10**26;\t\t\t#avagadro's no\n",
      "e = 1.6*10**-19;\t\t\t#charge in C\n",
      "m = 9.1*10**-31;\t\t\t#mass of electron in kg\n",
      "mo = 4*3.14*10**-7;\t\t\t#in H/m\n",
      "ne = 2*p*na/aw;\t\t\t#in per m**3\n",
      "ied = ne*e*v;\t\t\t#in A/m**2\n",
      "dp = (m/(mo*(6.62*10**28)*(e**2)))**(1./2);\n",
      "dp1 = round(dp*10**10,-1);\n",
      "\n",
      "# Results\n",
      "print \"Electron density (in per m**3)  =  %.2e electron/m**3\"%ne\n",
      "print \"Current density (in A/m**2)  =  %.2e A/m**2\"%ied\n",
      "print \"Depth of penetration (in angstorm)  =  %.1f A\"%dp1\n"
     ],
     "language": "python",
     "metadata": {},
     "outputs": [
      {
       "output_type": "stream",
       "stream": "stdout",
       "text": [
        "Electron density (in per m**3)  =  6.63e+29 electron/m**3\n",
        "Current density (in A/m**2)  =  1.27e+14 A/m**2\n",
        "Depth of penetration (in angstorm)  =  210.0 A\n"
       ]
      }
     ],
     "prompt_number": 13
    },
    {
     "cell_type": "heading",
     "level": 3,
     "metadata": {},
     "source": [
      "Example 16.9 page no : 446"
     ]
    },
    {
     "cell_type": "code",
     "collapsed": false,
     "input": [
      "\n",
      "# Variables\n",
      "ho = 65.*10**3;\t\t\t#in A/m\n",
      "tc = 7.18;\t\t\t#in K\n",
      "t = 4.2;\t\t\t#in K\n",
      "r = 0.5*10**-3;\t\t\t#in m\n",
      "\n",
      "# Calculations\n",
      "hc = ho*(1-(t/tc)**2);\t\t\t#in A/m\n",
      "ic = 2*3.14*r*hc;   \t\t\t#in A\n",
      "a = 3.14*r**2;\t\t        \t#area in m**2\n",
      "j = ic/a;\t\t\t            #in A/m**2\n",
      "\n",
      "# Results\n",
      "print \"current density (in A/m**2)  =  %.2e A/m**2\"%j\n"
     ],
     "language": "python",
     "metadata": {},
     "outputs": [
      {
       "output_type": "stream",
       "stream": "stdout",
       "text": [
        "current density (in A/m**2)  =  1.71e+08 A/m**2\n"
       ]
      }
     ],
     "prompt_number": 14
    },
    {
     "cell_type": "heading",
     "level": 3,
     "metadata": {},
     "source": [
      "Example 16.10 page no : 446"
     ]
    },
    {
     "cell_type": "code",
     "collapsed": false,
     "input": [
      "\n",
      "import math \n",
      "\n",
      "# Variables\n",
      "hc1 = 21.;\t\t\t#in A/m\n",
      "hc2 = 10.;\t\t\t#in A/m\n",
      "tc = 7.;\t\t\t#in K\n",
      "t = 14.;\t\t\t#in K\n",
      "h = hc1/hc2;\n",
      "\n",
      "# Calculations\n",
      "#Determining critical temperature\n",
      "tc1 = math.sqrt(3626./11);\t\t\t#by quadratic eqn in the example\n",
      "ho = hc1/(1-(tc**2/tc1**2));\n",
      "t = 4.2;\t\t\t#in k\n",
      "hc = ho*(1-(t/tc1)**2);\n",
      "\n",
      "# Results\n",
      "print \"Critical field at 0 K (in A/m)  =  %.2f A/m\"%ho\n",
      "print \"Critical field At 4.2 k (in A/m)  =  %.3f A/m\"%hc\n"
     ],
     "language": "python",
     "metadata": {},
     "outputs": [
      {
       "output_type": "stream",
       "stream": "stdout",
       "text": [
        "Critical field at 0 K (in A/m)  =  24.67 A/m\n",
        "Critical field At 4.2 k (in A/m)  =  23.347 A/m\n"
       ]
      }
     ],
     "prompt_number": 16
    },
    {
     "cell_type": "heading",
     "level": 3,
     "metadata": {},
     "source": [
      "Example 16.11 page no : 447"
     ]
    },
    {
     "cell_type": "code",
     "collapsed": false,
     "input": [
      "import math\n",
      "\n",
      "# part (b)\n",
      "# Variables\n",
      "m = 39.6                    # materials\n",
      "Tc = 7.19                   # K\n",
      "\n",
      "# Calculation\n",
      "dp = math.sqrt(m**2 * (1 - 3**4/Tc**4))\n",
      "\n",
      "# Results\n",
      "print \"Depth of penetration at absolute zero dp(0) = %.3f nm\"%dp"
     ],
     "language": "python",
     "metadata": {},
     "outputs": [
      {
       "output_type": "stream",
       "stream": "stdout",
       "text": [
        "Depth of penetration at absolute zero dp(0) = 38.995 nm\n"
       ]
      }
     ],
     "prompt_number": 4
    }
   ],
   "metadata": {}
  }
 ]
}