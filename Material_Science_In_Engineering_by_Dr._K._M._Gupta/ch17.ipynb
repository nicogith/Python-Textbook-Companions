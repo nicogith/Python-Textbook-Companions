{
 "metadata": {
  "name": ""
 },
 "nbformat": 3,
 "nbformat_minor": 0,
 "worksheets": [
  {
   "cells": [
    {
     "cell_type": "heading",
     "level": 1,
     "metadata": {},
     "source": [
      "Chapter 17 : Ceramics and Plastics"
     ]
    },
    {
     "cell_type": "heading",
     "level": 3,
     "metadata": {},
     "source": [
      "Example 17.1 pageno : 467"
     ]
    },
    {
     "cell_type": "code",
     "collapsed": false,
     "input": [
      "\n",
      "# Variables\n",
      "mc = 12.;\t\t\t#mol wt of carbon\n",
      "mh = 1.;\t\t\t#mol wt of hydrogen\n",
      "m = 8.*(mc+mh);\t\t\t#mol wt of C8H8\n",
      "DOP = 10000.;\t\t\t#degree of polarization , given\n",
      "\n",
      "# Calculations\n",
      "mp = DOP*m;\n",
      "\n",
      "# Results\n",
      "print \"Molecualr weight of Styrene polymer  =  %.2e \"%mp\n"
     ],
     "language": "python",
     "metadata": {},
     "outputs": [
      {
       "output_type": "stream",
       "stream": "stdout",
       "text": [
        "Molecualr weight of Styrene polymer  =  1.04e+06 \n"
       ]
      }
     ],
     "prompt_number": 1
    },
    {
     "cell_type": "heading",
     "level": 3,
     "metadata": {},
     "source": [
      "Example 17.2 pageno : 468"
     ]
    },
    {
     "cell_type": "code",
     "collapsed": false,
     "input": [
      "\n",
      "# Variables\n",
      "DOP = 100000.;\n",
      "mc = 12.;\t\t\t#mol wt of carbon\n",
      "mf = 19.;\t\t\t#mol wt of fluorine\n",
      "\n",
      "# Calculations\n",
      "m = (2*mc)+(4*mf);\t\t\t#mol wt of teflon monomer\n",
      "mp = DOP*m;\n",
      "mh = 1.;\t\t\t#mol wt of hydrogen\n",
      "m1 = (2*mc)+(4*mh);\t\t\t#mol wt of polyethylene\n",
      "#for same DOP\n",
      "x = m/m1;\t\t\t#ratio of molecular weights\n",
      "\n",
      "# Results\n",
      "print \"Molecualr weight of Teflon polymer  =  %e\"%mp\n",
      "print \"Ratio of molecualr weights of Teflon and Polyethylene  =  %.2f\"%x\n"
     ],
     "language": "python",
     "metadata": {},
     "outputs": [
      {
       "output_type": "stream",
       "stream": "stdout",
       "text": [
        "Molecualr weight of Teflon polymer  =  1.000000e+07\n",
        "Ratio of molecualr weights of Teflon and Polyethylene  =  3.57\n"
       ]
      }
     ],
     "prompt_number": 6
    }
   ],
   "metadata": {}
  }
 ]
}