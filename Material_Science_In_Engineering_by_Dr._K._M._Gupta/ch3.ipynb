{
 "metadata": {
  "name": ""
 },
 "nbformat": 3,
 "nbformat_minor": 0,
 "worksheets": [
  {
   "cells": [
    {
     "cell_type": "heading",
     "level": 1,
     "metadata": {},
     "source": [
      "Chapter 3 : Chemical Bonding"
     ]
    },
    {
     "cell_type": "heading",
     "level": 3,
     "metadata": {},
     "source": [
      "Example 3.4 pageno : 59"
     ]
    },
    {
     "cell_type": "code",
     "collapsed": false,
     "input": [
      "\n",
      "# Variables\n",
      "e1 = -13.6;\t\t\t#ionization potential of hydrogen in volts\n",
      "n = 3.; \t\t\t#third orbit\n",
      "m = 5.; \t\t\t#fifth orbit\n",
      "\n",
      "# Calculations\n",
      "e3 = e1/(n**2);\t\t\t#Energy of third orbit in volts\n",
      "e5 = e1/(m**2);\t\t\t#Energy of fifth orbit in volts\n",
      "\n",
      "# Results\n",
      "print \"Energy of third orbit (in volts)  =  %.2f eV\"%e3\n",
      "print \"Energy of fifth orbit (in volts)  =  %.2f eV\"%e5\n"
     ],
     "language": "python",
     "metadata": {},
     "outputs": [
      {
       "output_type": "stream",
       "stream": "stdout",
       "text": [
        "Energy of third orbit (in volts)  =  -1.51 eV\n",
        "Energy of fifth orbit (in volts)  =  -0.54 eV\n"
       ]
      }
     ],
     "prompt_number": 1
    },
    {
     "cell_type": "heading",
     "level": 3,
     "metadata": {},
     "source": [
      "Example 3.5 pageno : 61"
     ]
    },
    {
     "cell_type": "code",
     "collapsed": false,
     "input": [
      "\n",
      "# Variables\n",
      "d = 0.9178;\t\t\t#molecular distance in angstorm\n",
      "\n",
      "# Calculations\n",
      "d1 = d*10**-10;\t    \t\t#in m\n",
      "e = 1.602*10**-19;\t\t\t#in C\n",
      "dm = e*d1;      \t\t\t#dipole moment in fully ionic state in Cm\n",
      "dm_m = 6.375*10**-30;\t\t\t#meaured dipole moment in Cm\n",
      "p = (dm_m*100)/dm;\t\t\t#Percentage ionic character\n",
      "\n",
      "\n",
      "# Results\n",
      "print \"Dipole moment of HF in fully ionic state (in Cm)  =  %.3e Cm\"%dm\n",
      "print \"Percentage ionic character : %.1f %%\"%p\n"
     ],
     "language": "python",
     "metadata": {},
     "outputs": [
      {
       "output_type": "stream",
       "stream": "stdout",
       "text": [
        "Dipole moment of HF in fully ionic state (in Cm)  =  1.470e-29 Cm\n",
        "Percentage ionic character : 43.4 %\n"
       ]
      }
     ],
     "prompt_number": 2
    }
   ],
   "metadata": {}
  }
 ]
}