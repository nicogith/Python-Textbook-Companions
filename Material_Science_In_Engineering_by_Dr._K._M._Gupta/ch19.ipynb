{
 "metadata": {
  "name": ""
 },
 "nbformat": 3,
 "nbformat_minor": 0,
 "worksheets": [
  {
   "cells": [
    {
     "cell_type": "heading",
     "level": 1,
     "metadata": {},
     "source": [
      "Chatper 19 : Composite Materials"
     ]
    },
    {
     "cell_type": "heading",
     "level": 3,
     "metadata": {},
     "source": [
      "Example 19.1 pageno : 507"
     ]
    },
    {
     "cell_type": "code",
     "collapsed": false,
     "input": [
      "\n",
      "# Variables\n",
      "t_s = 3.;\t\t\t#in mm\n",
      "t_c = 24.;\t\t\t#in mm\n",
      "b = 100.;\t\t\t#in mm\n",
      "\n",
      "# Calculations\n",
      "d = (t_s+t_c)/2;\t\t\t#in mm\n",
      "is_ = ((b*t_s**3)/12)+(b*t_s*d**2);\t\t\t#in mm**4\n",
      "ic = b*t_c**3/12                \t\t\t#in mm**4\n",
      "Es = 7000.;    \t\t\t                #moduli of polyester skin in N/mm**2\n",
      "m_f = 20.;  \t\t\t                    #moduli of foam core in N/mm**2\n",
      "d_fr = (2*Es*is_)+(m_f*ic);\t\t\t        #in N/mm**2\n",
      "\n",
      "Ts = 6\n",
      "D_s = (Es*b*Ts**2)/12\n",
      "c = d_fr/D_s\n",
      "\n",
      "# Results\n",
      "print \"Flexural rigidity (in N/sqm)  =  %.2e\"%d_fr\n",
      "print \"Ds = %.1e N mm**2\"%D_s\n",
      "print \"Flexural rigidity of sandwich beam is %d times more\"%c\n",
      "\n",
      "\n",
      "# Note : answer in book is wrong for D_s please check manually."
     ],
     "language": "python",
     "metadata": {},
     "outputs": [
      {
       "output_type": "stream",
       "stream": "stdout",
       "text": [
        "Flexural rigidity (in N/sqm)  =  7.71e+08\n",
        "Ds = 2.1e+06 N mm**2\n",
        "Flexural rigidity of sandwich beam is 367 times more\n"
       ]
      }
     ],
     "prompt_number": 3
    },
    {
     "cell_type": "heading",
     "level": 3,
     "metadata": {},
     "source": [
      "Example 19.2 page no : 520"
     ]
    },
    {
     "cell_type": "code",
     "collapsed": false,
     "input": [
      "\n",
      "# Variables\n",
      "ec = 210.;\t\t\t#in GPa\n",
      "ea = 71.;\t\t\t#in GPa\n",
      "eb = 440.;\t\t\t#in GPa\n",
      "\n",
      "# Calculations\n",
      "va = (ec-eb)/(ea-eb);\n",
      "vb = 1-va;\n",
      "c = vb/va;\n",
      "\n",
      "# Results\n",
      "print \"Volume ratio  =  %.2f\"%c\n",
      "\n",
      "# note : answer in book is wrong . please calculate manually.\n"
     ],
     "language": "python",
     "metadata": {},
     "outputs": [
      {
       "output_type": "stream",
       "stream": "stdout",
       "text": [
        "Volume ratio  =  0.60\n"
       ]
      }
     ],
     "prompt_number": 2
    },
    {
     "cell_type": "heading",
     "level": 3,
     "metadata": {},
     "source": [
      "Example 19.3 pageno : 521"
     ]
    },
    {
     "cell_type": "code",
     "collapsed": false,
     "input": [
      "\n",
      "# Variables\n",
      "ef = 430.;\t\t\t#in GPa\n",
      "e = 3.6;\t\t\t#in GPa\n",
      "m = ef/e;\n",
      "vf = 0.15;\t\t\t#by volume\n",
      "\n",
      "# Calculations\n",
      "vm = 1-vf;\n",
      "x = vm/vf;\n",
      "pf = m;\n",
      "pc = m+x;\n",
      "y = pf/pc;\n",
      "vf1 = 0.65\n",
      "vm1 = 1-vf1;\n",
      "z = vm1/vf1;\n",
      "pc1 = m+z;\n",
      "zz = pf/pc1;\n",
      "\n",
      "# Results\n",
      "print \"fraction of load carried by fibres (15 %% by volume)  =  %.2f\"%y\n",
      "print \"fraction of load carried by fibres (65 %% by volume)  =  %.4f\"%zz\n"
     ],
     "language": "python",
     "metadata": {},
     "outputs": [
      {
       "output_type": "stream",
       "stream": "stdout",
       "text": [
        "fraction of load carried by fibres (15 % by volume)  =  0.95\n",
        "fraction of load carried by fibres (65 % by volume)  =  0.9955\n"
       ]
      }
     ],
     "prompt_number": 14
    },
    {
     "cell_type": "heading",
     "level": 3,
     "metadata": {},
     "source": [
      "Example 19.4 page no : 522"
     ]
    },
    {
     "cell_type": "code",
     "collapsed": false,
     "input": [
      "\n",
      "# Variables\n",
      "vf = 0.65;\n",
      "vm = 1-vf;\n",
      "kts = 2.8;  \t\t\t#in Gpa\n",
      "ets = 0.0025;\t\t\t#in GPa\n",
      "\n",
      "# Calculations and Results\n",
      "ac = (kts*vf)+(ets*vm);\t\t\t#in GPa\n",
      "print \"Longitudinal Strength (in GPa)  =  %.2f\"%ac\n",
      "\n",
      "ktm = 130.;\t\t\t#in GPa\n",
      "etm = 3.5;\t\t\t#in GPa\n",
      "ec = (ktm*vf)+(etm*vm);\n",
      "print \"Longitudianl Modulous (in GPa)  =  %.2f\"%ec\n",
      "\n",
      "e_c = 1/((vf/ktm)+(vm/etm));\n",
      "print \"Transverse Modulous (in GPa)  =  %.2f\"%e_c\n",
      "\n",
      "kp = 0.34;\t\t\t#in GPa\n",
      "ep = 0.36;\t\t\t#in GPa\n",
      "vlt = (vf*kp)+(vm*vm);\n",
      "print \"Poissons Ratio  =  \",vlt\n",
      "\n",
      "glt = 1./((vf/2.2)+(vm/1.2));\t\t\t#in GPa\n",
      "print \"Shear Modulous (in GPa)  =  %.2f\"%glt\n",
      "\n",
      "# note: answer in book is wrong for part a. please calculate manually.\n"
     ],
     "language": "python",
     "metadata": {},
     "outputs": [
      {
       "output_type": "stream",
       "stream": "stdout",
       "text": [
        "Longitudinal Strength (in GPa)  =  1.82\n",
        "Longitudianl Modulous (in GPa)  =  85.72\n",
        "Transverse Modulous (in GPa)  =  9.52\n",
        "Poissons Ratio  =   0.3435\n",
        "Shear Modulous (in GPa)  =  1.70\n"
       ]
      }
     ],
     "prompt_number": 17
    }
   ],
   "metadata": {}
  }
 ]
}