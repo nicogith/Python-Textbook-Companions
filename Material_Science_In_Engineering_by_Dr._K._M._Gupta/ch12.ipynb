{
 "metadata": {
  "name": ""
 },
 "nbformat": 3,
 "nbformat_minor": 0,
 "worksheets": [
  {
   "cells": [
    {
     "cell_type": "heading",
     "level": 1,
     "metadata": {},
     "source": [
      "Chapter 12 : Heat Treatment"
     ]
    },
    {
     "cell_type": "heading",
     "level": 3,
     "metadata": {},
     "source": [
      "Example 12.1 page no : 304"
     ]
    },
    {
     "cell_type": "code",
     "collapsed": false,
     "input": [
      "import math\n",
      "\n",
      "# Variables\n",
      "n_bcc = 1./2;\n",
      "n_fcc = 1./4;\n",
      "r_fcc = 1.26;\t\t\t#in Angstorm\n",
      "r_bcc = 1.24;\t\t\t#in Angstorm\n",
      "\n",
      "# Calculations\n",
      "a_bcc = 4.*r_bcc/math.sqrt(3);\t\t\t#in Angstorm\n",
      "a_fcc = 2.*math.sqrt(2)*r_fcc;\t\t\t#in Angstorm\n",
      "v_fcc = a_fcc**3;\n",
      "v_bcc = a_bcc**3;\n",
      "v = 100*((n_fcc*v_fcc)-(n_bcc*v_bcc))/(n_fcc*v_fcc);\n",
      "\n",
      "# Results\n",
      "print \"Percentage change in volume  =  %.3f\"%v\n"
     ],
     "language": "python",
     "metadata": {},
     "outputs": [
      {
       "output_type": "stream",
       "stream": "stdout",
       "text": [
        "Percentage change in volume  =  -3.764\n"
       ]
      }
     ],
     "prompt_number": 1
    },
    {
     "cell_type": "heading",
     "level": 3,
     "metadata": {},
     "source": [
      "Example 12.3 pageno : 317"
     ]
    },
    {
     "cell_type": "code",
     "collapsed": false,
     "input": [
      "\n",
      "# Variables\n",
      "e = 51.;\t\t\t#Young modulous in GPa\n",
      "v = 0.22;\t\t\t#poisson ratio\n",
      "\n",
      "# Calculations\n",
      "g = e/(2*(1-v));\t\t\t#shear modulous in GPa\n",
      "b = 2*10.**-10;\n",
      "ue = (1./2)*g*10**9*b**2*10**12;\t\t\t#in J/m**3\n",
      "\n",
      "# Results\n",
      "print \"Change in free energy during recrysatllization (in J/m**3)  =  %.1f J/m**3\"%ue\n"
     ],
     "language": "python",
     "metadata": {},
     "outputs": [
      {
       "output_type": "stream",
       "stream": "stdout",
       "text": [
        "Change in free energy during recrysatllization (in J/m**3)  =  653.8 J/m**3\n"
       ]
      }
     ],
     "prompt_number": 3
    },
    {
     "cell_type": "heading",
     "level": 3,
     "metadata": {},
     "source": [
      "Example 12.5 pageno : 329"
     ]
    },
    {
     "cell_type": "code",
     "collapsed": false,
     "input": [
      "\n",
      "# Variables\n",
      "g = 41.*10**9;\t\t\t#in N/m**2\n",
      "b = 0.64*10**-9;\t\t\t#in m\n",
      "l = 20.*10**-6;\t\t\t#in m\n",
      "\n",
      "# Calculations\n",
      "t = g*b/l;\t\t\t#in N/m**2\n",
      "T = t*10.**-6;\t\t\t#in MPa\n",
      "\n",
      "# Results\n",
      "print \"Contribution of these particles (in MPa)  =  %.3f MPa\"%T\n"
     ],
     "language": "python",
     "metadata": {},
     "outputs": [
      {
       "output_type": "stream",
       "stream": "stdout",
       "text": [
        "Contribution of these particles (in MPa)  =  1.312 MPa\n"
       ]
      }
     ],
     "prompt_number": 4
    }
   ],
   "metadata": {}
  }
 ]
}