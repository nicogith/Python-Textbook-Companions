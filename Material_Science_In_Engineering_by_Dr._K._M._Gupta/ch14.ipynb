{
 "metadata": {
  "name": ""
 },
 "nbformat": 3,
 "nbformat_minor": 0,
 "worksheets": [
  {
   "cells": [
    {
     "cell_type": "heading",
     "level": 1,
     "metadata": {},
     "source": [
      "Chapter 14 : Magnetic Properties and Materials"
     ]
    },
    {
     "cell_type": "heading",
     "level": 3,
     "metadata": {},
     "source": [
      "Example 14.1 pageno : 358"
     ]
    },
    {
     "cell_type": "code",
     "collapsed": false,
     "input": [
      "\n",
      "# Variables\n",
      "x = 1500.;\t\t\t#susceptibility\n",
      "h = 2400.;\t\t\t#mafnetic field in A/m\n",
      "\n",
      "# Calculations\n",
      "u_r = 1+x;\n",
      "m = x*h;\t\t\t    #in A/m\n",
      "u_0 = 4*3.14*10**-7;\n",
      "b = u_0*u_r*h;\t\t\t#in T\n",
      "\n",
      "# Results\n",
      "print \"relative permeability  =  \",u_r\n",
      "print \"Intensity of magnetisation (in A/m)\",m\n",
      "print \"Remanance (in T)  =  \",b\n"
     ],
     "language": "python",
     "metadata": {},
     "outputs": [
      {
       "output_type": "stream",
       "stream": "stdout",
       "text": [
        "relative permeability  =   1501.0\n",
        "Intensity of magnetisation (in A/m) 3600000.0\n",
        "Remanance (in T)  =   4.5246144\n"
       ]
      }
     ],
     "prompt_number": 1
    },
    {
     "cell_type": "heading",
     "level": 3,
     "metadata": {},
     "source": [
      "Example 14.2 page no : 368"
     ]
    },
    {
     "cell_type": "code",
     "collapsed": false,
     "input": [
      "\n",
      "\n",
      "# Variables\n",
      "w = 80. + 80;\t\t\t#width of loop in A/m from graph\n",
      "h = 0.15 + .15;\t\t\t#height of loop in Wb/sqm\n",
      "\n",
      "# Calculations\n",
      "a = w*h;\t\t\t    #area of the loop in J\n",
      "\n",
      "# Results\n",
      "print \"Hysteresis energy loss per unit volume of magnetic material during one cycle (in J)  =  %d J\"%a\n"
     ],
     "language": "python",
     "metadata": {},
     "outputs": [
      {
       "output_type": "stream",
       "stream": "stdout",
       "text": [
        "Hysteresis energy loss per unit volume of magnetic material during one cycle (in J)  =  48 J\n"
       ]
      }
     ],
     "prompt_number": 1
    },
    {
     "cell_type": "heading",
     "level": 3,
     "metadata": {},
     "source": [
      "Example 14.3 pageno : 370"
     ]
    },
    {
     "cell_type": "code",
     "collapsed": false,
     "input": [
      "\n",
      "# Variables\n",
      "a = 600.;\t\t\t#loop area in J/sqm\n",
      "f = 50.;\t\t\t#in Hz\n",
      "v = 0.01\t\t\t#volume in cu. m\n",
      "\n",
      "# Calculations\n",
      "w = a*f*v;\t\t\t#in W\n",
      "\n",
      "# Results\n",
      "print \"Power loss due to Hysteresis (in W)  =  %.f watt\"%w\n"
     ],
     "language": "python",
     "metadata": {},
     "outputs": [
      {
       "output_type": "stream",
       "stream": "stdout",
       "text": [
        "Power loss due to Hysteresis (in W)  =  300 watt\n"
       ]
      }
     ],
     "prompt_number": 2
    },
    {
     "cell_type": "heading",
     "level": 3,
     "metadata": {},
     "source": [
      "Example 14.4 pageno : 370"
     ]
    },
    {
     "cell_type": "code",
     "collapsed": false,
     "input": [
      "\n",
      "# Variables\n",
      "w_h1 = 300.;           # hysteresis loss\n",
      "b_1 = 0.9;             # max. flux density\n",
      "\n",
      "y = b_1**1.7;\n",
      "b_2 = 1.1;             #raised flux density(Wb/m^2)\n",
      "x = b_2**1.7;\n",
      "f1 = 50*10**-7;        #frequency(Hz)\n",
      "f2 = 40*10**-7;        #frequency(Hz)\n",
      "\n",
      "# Calculations\n",
      "w_h2 = (w_h1*x*f2)/(y*f1);\n",
      "\n",
      "\n",
      "# Results\n",
      "print \"Loss at 40 Hz (in W)  =  %.f W\"%w_h2\n",
      "\n",
      "# Note : Answer in book is wrong. Please calculate manually."
     ],
     "language": "python",
     "metadata": {},
     "outputs": [
      {
       "output_type": "stream",
       "stream": "stdout",
       "text": [
        "Loss at 40 Hz (in W)  =  338 W\n"
       ]
      }
     ],
     "prompt_number": 1
    },
    {
     "cell_type": "heading",
     "level": 3,
     "metadata": {},
     "source": [
      "Example 14.5 pageno : 376"
     ]
    },
    {
     "cell_type": "code",
     "collapsed": false,
     "input": [
      "\n",
      "# Variables\n",
      "m = 6000.;             # megnetization\n",
      "u_r = 200000.;         # relative permeability\n",
      "\n",
      "# Calculations\n",
      "x = u_r-1;\n",
      "h = m/x;\n",
      "u_0 = 4*3.14*10**-7;\n",
      "b = u_0*u_r*h;\n",
      "\n",
      "# Results\n",
      "print \"Magnetic strength (in T)  =  %.5f tesla\"%b\n"
     ],
     "language": "python",
     "metadata": {},
     "outputs": [
      {
       "output_type": "stream",
       "stream": "stdout",
       "text": [
        "Magnetic strength (in T)  =  0.00754 tesla\n"
       ]
      }
     ],
     "prompt_number": 2
    },
    {
     "cell_type": "heading",
     "level": 3,
     "metadata": {},
     "source": [
      "Example 14.6 pageno : 376"
     ]
    },
    {
     "cell_type": "code",
     "collapsed": false,
     "input": [
      "\n",
      "# Variables\n",
      "b = 9.27*10**-24;\t\t\t#Bohr Magneton in A/sqm\n",
      "m = 0.6*b;\n",
      "\n",
      "# Calculations\n",
      "a = 0.35*10**-9;\n",
      "n = 4.;\t\t\t#FCC\n",
      "m_g = n*m/a**3;\t\t\t#in A/m\n",
      "\n",
      "# Results\n",
      "print \"Saturation Magnetisation (in A/m)  = %.2e A/m\"%m_g\n"
     ],
     "language": "python",
     "metadata": {},
     "outputs": [
      {
       "output_type": "stream",
       "stream": "stdout",
       "text": [
        "Saturation Magnetisation (in A/m)  = 5.19e+05 A/m\n"
       ]
      }
     ],
     "prompt_number": 10
    },
    {
     "cell_type": "heading",
     "level": 3,
     "metadata": {},
     "source": [
      "Example 14.9 page no : 381"
     ]
    },
    {
     "cell_type": "code",
     "collapsed": false,
     "input": [
      "\n",
      "# Variables\n",
      "f = 50.;\t\t\t#in Hz\n",
      "L = 100.;\t\t\t#Eddy current loss in transformer in W\n",
      "f1 = 60.;\t\t\t#in Hz\n",
      "f2 = 100;\t\t\t#in Hz\n",
      "\n",
      "# Calculations\n",
      "w_e = L*(f1/f)**2;\t\t\t#in W\n",
      "w_ee = L*(f2/f)**2;\t\t\t#in W\n",
      "\n",
      "# Results\n",
      "print \"Eddy current loss at 60 Hz (in W)  =  %.1f W\"%w_e\n",
      "print \"Eddy current loss at 100 Hz (in W)  =  %.1f W\"%w_ee\n"
     ],
     "language": "python",
     "metadata": {},
     "outputs": [
      {
       "output_type": "stream",
       "stream": "stdout",
       "text": [
        "Eddy current loss at 60 Hz (in W)  =  144.0 W\n",
        "Eddy current loss at 100 Hz (in W)  =  400.0 W\n"
       ]
      }
     ],
     "prompt_number": 11
    },
    {
     "cell_type": "heading",
     "level": 3,
     "metadata": {},
     "source": [
      "Example 14.13 pageno : 382"
     ]
    },
    {
     "cell_type": "code",
     "collapsed": false,
     "input": [
      "\n",
      "# Variables\n",
      "l = .25;\t\t\t#in m\n",
      "n = 400.;\t\t\t#turns\n",
      "i = 15.;\t\t\t#in A\n",
      "\n",
      "# Calculations\n",
      "u_0 = 1.257*10**-6;\t\t\t#in H/m\n",
      "h = n*i/l;\t\t\t#in AT/m\n",
      "u_r = 1;\t\t\t#relative permeability\n",
      "b = u_0*u_r*h;\t\t\t#in wB/sqm\n",
      "\n",
      "# Results\n",
      "print \"Magnetic field strength (in AT/m)  =  %.1f AT/m\"%h\n",
      "print \"Flux density (in Wb/sq m)  =  %.2f Wb/m**2\"%b\n"
     ],
     "language": "python",
     "metadata": {},
     "outputs": [
      {
       "output_type": "stream",
       "stream": "stdout",
       "text": [
        "Magnetic field strength (in AT/m)  =  24000.0 AT/m\n",
        "Flux density (in Wb/sq m)  =  0.03 Wb/m**2\n"
       ]
      }
     ],
     "prompt_number": 12
    }
   ],
   "metadata": {}
  }
 ]
}