{
 "metadata": {
  "name": ""
 },
 "nbformat": 3,
 "nbformat_minor": 0,
 "worksheets": [
  {
   "cells": [
    {
     "cell_type": "heading",
     "level": 1,
     "metadata": {},
     "source": [
      "Chapter 21 : Diffusion of Solids"
     ]
    },
    {
     "cell_type": "heading",
     "level": 3,
     "metadata": {},
     "source": [
      "Example 21.1 pageno : 577"
     ]
    },
    {
     "cell_type": "code",
     "collapsed": false,
     "input": [
      "\n",
      "# Variables\n",
      "c_cu = 2.*10**13;\t\t\t#concentration of copper in /m**3\n",
      "c_al = 4.*10**6;\t\t\t#concn of copper on other side of Al in /m**3\n",
      "\n",
      "# Calculations\n",
      "t = 3.*10**-3;\t\t    \t#thickness in m\n",
      "z = (c_cu-c_al)/t;\t\t\t#z = dm/dx,concentration graient\n",
      "jx = 10.**21;\t\t    \t#outward flux of copperv atoms in /sq m/sec\n",
      "d = -jx/z;\t\t\t        #diffusivity in sq m/sec\n",
      "\n",
      "# Results\n",
      "print \"Diffusivity (in sq m/sec)  =  %.2e m**2/s\"%d\n"
     ],
     "language": "python",
     "metadata": {},
     "outputs": [
      {
       "output_type": "stream",
       "stream": "stdout",
       "text": [
        "Diffusivity (in sq m/sec)  =  -1.50e+05 m**2/s\n"
       ]
      }
     ],
     "prompt_number": 1
    },
    {
     "cell_type": "heading",
     "level": 3,
     "metadata": {},
     "source": [
      "Example 21.2 pageno : 583"
     ]
    },
    {
     "cell_type": "code",
     "collapsed": false,
     "input": [
      "\n",
      "import math \n",
      "\n",
      "c_n = 12.;\t\t\t#nitrogen concentration in kg/m**3\n",
      "t = 6.*10**-3;\t\t\t#thickness in m\n",
      "\n",
      "# Calculations\n",
      "z = (c_n-0)/t;\t\t\t#concentration gradient in kg/m**4\n",
      "d0 = 5.*10**-7;\t\t\t#in sqm/sec\n",
      "q = 75.*10**3;\t\t\t#in j/mol\n",
      "r = 8.314;\t\t\t#in J/mol/K\n",
      "t = 400.;\t\t\t#in K\n",
      "dx = d0*math.exp(-q/(r*t));\t\t\t#diffusivity in sqm/sec\n",
      "jx = dx * 2*10**-3;\t\t\t#rate of flow of nitrogen in kg/sqm/sec\n",
      "\n",
      "# Results\n",
      "print \"concentration gradient (in kg/m4)  =  %.0e\"%z\n",
      "print \"Diffusivity (in sqm/sec)  =  %.3e m**2/s\"%dx\n",
      "print \"Rate at which nitrogen escapes (in kg/sqm/sec)  =  %.3e kg/m**2/s\"%jx\n"
     ],
     "language": "python",
     "metadata": {},
     "outputs": [
      {
       "output_type": "stream",
       "stream": "stdout",
       "text": [
        "concentration gradient (in kg/m4)  =  2e+03\n",
        "Diffusivity (in sqm/sec)  =  8.028e-17 m**2/s\n",
        "Rate at which nitrogen escapes (in kg/sqm/sec)  =  1.606e-19 kg/m**2/s\n"
       ]
      }
     ],
     "prompt_number": 7
    },
    {
     "cell_type": "heading",
     "level": 3,
     "metadata": {},
     "source": [
      "Example 21.4 pageno : 585"
     ]
    },
    {
     "cell_type": "code",
     "collapsed": false,
     "input": [
      "\n",
      "import math \n",
      "\n",
      "# variables\n",
      "z = 8.;\t\t\t#ratio of diffusion in silicon at 1350 C and 1100 C\n",
      "x = math.log(z);\n",
      "\n",
      "# calculations\n",
      "q = x/(1.35*10**-5);\t\t\t#activation energy for silver diffusion in J/mol\n",
      "q1 = q/1000.;\t        \t\t#in kJ/mol\n",
      "\n",
      "# results\n",
      "print \"Activation Energy in Silver diffusion (in kJ/mol)  =  %d kJ/mol\"%q1\n"
     ],
     "language": "python",
     "metadata": {},
     "outputs": [
      {
       "output_type": "stream",
       "stream": "stdout",
       "text": [
        "Activation Energy in Silver diffusion (in kJ/mol)  =  154 kJ/mol\n"
       ]
      }
     ],
     "prompt_number": 10
    }
   ],
   "metadata": {}
  }
 ]
}