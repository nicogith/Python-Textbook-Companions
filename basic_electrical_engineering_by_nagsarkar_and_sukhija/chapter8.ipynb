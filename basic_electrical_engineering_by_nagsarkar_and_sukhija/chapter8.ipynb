{
 "cells": [
  {
   "cell_type": "markdown",
   "metadata": {},
   "source": [
    "# Chapter 8:Induction motors"
   ]
  },
  {
   "cell_type": "markdown",
   "metadata": {},
   "source": [
    "## Example 8.1:Page number-474"
   ]
  },
  {
   "cell_type": "code",
   "execution_count": 1,
   "metadata": {
    "collapsed": false
   },
   "outputs": [
    {
     "name": "stdout",
     "output_type": "stream",
     "text": [
      "synchronous speed= 1500.0 rpm\n",
      "rotor speed= 1455.0 rpm\n",
      "rotor frequency= 0.0 Hz\n"
     ]
    }
   ],
   "source": [
    "import math\n",
    "\n",
    "#given\n",
    "f=50\n",
    "p=4\n",
    "\n",
    "#case a\n",
    "\n",
    "s=(120*f)/p #synchronous speed\n",
    "\n",
    "print \"synchronous speed=\",round(s,0),\"rpm\"\n",
    "\n",
    "#case b\n",
    "\n",
    "slip=0.03\n",
    "\n",
    "r=s-s*slip #rotor speed\n",
    "\n",
    "print \"rotor speed=\",round(r,0),\"rpm\"\n",
    "\n",
    "#case c\n",
    "\n",
    "r=900 #given speed of rotor\n",
    "\n",
    "slip=(s-r)/s #per unit slip\n",
    "rf=slip*f\n",
    "\n",
    "print \"rotor frequency=\",round(rf,0),\"Hz\"\n"
   ]
  },
  {
   "cell_type": "markdown",
   "metadata": {},
   "source": [
    "## Example 8.2:Page number-475"
   ]
  },
  {
   "cell_type": "code",
   "execution_count": 7,
   "metadata": {
    "collapsed": false
   },
   "outputs": [
    {
     "name": "stdout",
     "output_type": "stream",
     "text": [
      "frequency= 60.0 Hz\n",
      "The number of poles of an induction motor is= 6.0\n",
      "slip=0.025pu\n"
     ]
    }
   ],
   "source": [
    "import math\n",
    "\n",
    "#given\n",
    "\n",
    "pg=10 #poles of generator\n",
    "r=720 #synchronous speed\n",
    "\n",
    "f=pg*r/120\n",
    "\n",
    "print \"frequency=\",round(f,0),\"Hz\"\n",
    "\n",
    "#it has been shown that synchronous motor runs at a speed lower than the synchronous speed.The nearest synchronous speed possible in present case is 1200\n",
    "\n",
    "#case a\n",
    "\n",
    "r=1200 #synchronous speed possible for present case\n",
    "pi=120*f/r #poles of the induction motor\n",
    "\n",
    "print \"The number of poles of an induction motor is=\",round(pi,0)\n",
    "\n",
    "#case b\n",
    "\n",
    "n=1170  #load speed\n",
    "slip=(1200-n)/1200 #calculated as 0.025\n",
    "\n",
    "print \"slip=0.025pu\""
   ]
  },
  {
   "cell_type": "markdown",
   "metadata": {},
   "source": [
    "## Example 8.3:Page number-479 "
   ]
  },
  {
   "cell_type": "code",
   "execution_count": 23,
   "metadata": {
    "collapsed": false
   },
   "outputs": [
    {
     "name": "stdout",
     "output_type": "stream",
     "text": [
      "The distribution factor=0.96\n",
      "0.9408\n",
      "flux in the air gap= 0.019 Wb\n",
      "1.0\n",
      "the induced rotor voltage per phase is= 159.73357 V\n"
     ]
    }
   ],
   "source": [
    "import math\n",
    "\n",
    "#given\n",
    "\n",
    "f=50\n",
    "ns=1000\n",
    "#m=90/6*3\n",
    "m=5\n",
    "\n",
    "#angle is obtained as 12\n",
    "#x=12\n",
    "#angle=(m*x)/2\n",
    "#x=30 #assuming for convinience\n",
    "#a=math.degrees(30)\n",
    "#b=math.radians(a)\n",
    "#c=math.sin(b)\n",
    "\n",
    "\n",
    "#y=x/2\n",
    "#y=6 #assuming for convinience\n",
    "#d=math.degrees(y)\n",
    "#e=math.radians(c)\n",
    "#g=math.sin(e)\n",
    "#kd=c/(5*g)\n",
    "\n",
    "kd=0.96\n",
    "#after calculations\n",
    "print \"The distribution factor=0.96\"\n",
    "\n",
    "kp=0.98 #pitch factor=cos(20/2)\n",
    "\n",
    "#case a\n",
    "\n",
    "kw=kd*kp\n",
    "\n",
    "print kw\n",
    "\n",
    "#case b\n",
    "\n",
    "t1=(90*4)/(3*2) #number of turns per stator phase\n",
    "\n",
    "e1=415\n",
    "flux=415/((3**0.5)*4.44*0.94*50*60)\n",
    "\n",
    "print \"flux in the air gap=\",round(flux,3),\"Wb\"\n",
    "\n",
    "#case c\n",
    "\n",
    "t2=(120*2)/(3*2)\n",
    "\n",
    "a=t1/t2 #transformation ratio\n",
    "\n",
    "print round(a,5)\n",
    "\n",
    "#case d\n",
    "\n",
    "#e2=e1/a #the induced rotor voltage per phase\n",
    "\n",
    "e2=415/((3**0.5)*1.5)\n",
    "\n",
    "print \"the induced rotor voltage per phase is=\",round(e2,5),\"V\"\n",
    "\n",
    "\n",
    "\n"
   ]
  },
  {
   "cell_type": "markdown",
   "metadata": {},
   "source": [
    "## Example 8.4 "
   ]
  },
  {
   "cell_type": "code",
   "execution_count": 24,
   "metadata": {
    "collapsed": false
   },
   "outputs": [
    {
     "name": "stdout",
     "output_type": "stream",
     "text": [
      "At stand still the rotor current is=3.23A at angle -63.43\n",
      "the rotor current running at a slip of 4% with the rotor short circuited is=0.81 at angle -69.44A\n"
     ]
    }
   ],
   "source": [
    "import math\n",
    "\n",
    "#given\n",
    "s=1\n",
    "\n",
    "#case a\n",
    "#the rotor circuit impedance=6+j12 obtained from (0.75+5.25)+j(5+7) as rotor resistance and reactance are 0.5 and 0.75\n",
    "\n",
    "#rotor current=e2/z2=3.23 at angle -63.43\n",
    "\n",
    "print \"At stand still the rotor current is=3.23A at angle -63.43\"\n",
    "\n",
    "#case b\n",
    "\n",
    "s=0.04\n",
    "\n",
    "#z2=(0.75+j*0.04*5)ohm \n",
    "#again e2=s*e2/z2=0.81 at angle -69.44A\n",
    "\n",
    "print \"the rotor current running at a slip of 4% with the rotor short circuited is=0.81 at angle -69.44A\"\n",
    "\n"
   ]
  },
  {
   "cell_type": "markdown",
   "metadata": {},
   "source": [
    "## Example 8.5:Page number-482"
   ]
  },
  {
   "cell_type": "code",
   "execution_count": 8,
   "metadata": {
    "collapsed": false
   },
   "outputs": [
    {
     "name": "stdout",
     "output_type": "stream",
     "text": [
      "synchronous speed= 1000.0 rpm\n",
      "s=0.025\n",
      "power factor of the supply=0.92\n",
      "9\n",
      "output of the rotor= 9.0 HP\n",
      "efficiency= 86.0\n"
     ]
    }
   ],
   "source": [
    "import math\n",
    "\n",
    "#given\n",
    "p=6\n",
    "f=50\n",
    "pc=1000\n",
    "ml=600\n",
    "n=975 \n",
    "\n",
    "ns=(120*50)/p\n",
    "\n",
    "print \"synchronous speed=\",round(ns,0),\"rpm\"\n",
    "\n",
    "#s=(ns-n)/ns\n",
    "s=0.025\n",
    "\n",
    "print \"s=0.025\"\n",
    "\n",
    "#the rotor impedance referred to the stator side z2=(2+j0/15)ohm\n",
    "\n",
    "#assuming the per phase supply voltage as the reference phasor it is seen that the stator load current is,\n",
    "\n",
    "#i1=(114.43-j16.75)ohm which can be written 115.65 at angle -8.33 \n",
    "# the current drawn from supply is given by 124.38 at angle -23.07\n",
    "\n",
    "#case a\n",
    "\n",
    "#power factor of the supply=cos(-23.07)=0.92\n",
    "\n",
    "print \"power factor of the supply=0.92\"\n",
    "\n",
    "#power input to the motor=(3*415*124.38*0.92)/(3**0.5)=8225 w\n",
    "#the input power to the rotor is given by pag=pi-3*i1*i1*0.05-pc=78.93 KW\n",
    "pag=78.93\n",
    "#the gross mechanical power output\n",
    "#pm=(1-s)*pag\n",
    "pm=7696\n",
    "\n",
    "#case b\n",
    "\n",
    "ml=600 #mechanical loss\n",
    "o=(pm-ml)/746\n",
    "\n",
    "print \"output of the rotor=\",round(o,5),\"HP\"\n",
    "\n",
    "#case c\n",
    "\n",
    "n=(pm-ml)*100/8225\n",
    "\n",
    "print \"efficiency=\",round(n,2)\n",
    "\n",
    "#NOTE: The values given in text are calculated wrongly"
   ]
  },
  {
   "cell_type": "markdown",
   "metadata": {},
   "source": [
    "## Example 8.6:Page number-483"
   ]
  },
  {
   "cell_type": "code",
   "execution_count": 11,
   "metadata": {
    "collapsed": false
   },
   "outputs": [
    {
     "name": "stdout",
     "output_type": "stream",
     "text": [
      "synchrous speed=0.04pu\n",
      "rotor speed= 960.0 rpm\n",
      "mechanical power developed= 72.0 KW\n",
      "r= 1.0 KW\n",
      "r2= 0.278 Ohm\n"
     ]
    }
   ],
   "source": [
    "import math\n",
    "\n",
    "#case a slip\n",
    "\n",
    "f=50\n",
    "p=6\n",
    "ns=(120*f)/p\n",
    "\n",
    "\n",
    "#rotor frequency fr=120/60=2 Hz\n",
    "\n",
    "fr=2\n",
    "#s=fr/f=2/50=0.04\n",
    "s=0.04\n",
    "print \"synchrous speed=0.04pu\"\n",
    "\n",
    "#case b rotor speed\n",
    "\n",
    "N=(1-s)*ns\n",
    "\n",
    "print \"rotor speed=\",round(N,0),\"rpm\"\n",
    "\n",
    "#case c mechanical power developed \n",
    "#pag=5/3=25Kw\n",
    "\n",
    "pag=25\n",
    "\n",
    "pm=3*pag*(1-s)\n",
    "\n",
    "print \"mechanical power developed=\",round(pm,0),\"KW\"\n",
    "\n",
    "#case d the rotor resistance loss per phase\n",
    "\n",
    "r=s*pag\n",
    "\n",
    "print \"r=\",round(r,0),\"KW\"\n",
    "\n",
    "#case e rotor resistance per phase if rotor current is 60A\n",
    "\n",
    "#i2 and r2 are rotor current and resistance respectively\n",
    "\n",
    "#i2**2*r2=1000\n",
    "#r2=1000/(60*60)\n",
    "r2=0.277777\n",
    "\n",
    "print \"r2=\",format(r2, '.3f'),\"Ohm\"\n",
    "\n",
    "\n",
    "\n",
    "\n",
    "\n",
    "\n",
    "\n"
   ]
  },
  {
   "cell_type": "markdown",
   "metadata": {
    "collapsed": true
   },
   "source": [
    "## Example 8.7:Page number-484"
   ]
  },
  {
   "cell_type": "code",
   "execution_count": 1,
   "metadata": {
    "collapsed": false
   },
   "outputs": [
    {
     "name": "stdout",
     "output_type": "stream",
     "text": [
      "slip= 0.0415\n"
     ]
    }
   ],
   "source": [
    "import math\n",
    "\n",
    "#given\n",
    "\n",
    "po=60\n",
    "e=(3*0.88)\n",
    "pi=po/e\n",
    "\n",
    "#where pi is power input and po is power otuput and e is the efficiency\n",
    "\n",
    "\n",
    "#let the iron loss per phase be X kw. Then mechanical loss=0.25X kw\n",
    "\n",
    "#stator resistance loss per phase=rotor resistance loss per phase=X kw\n",
    "\n",
    "#air gap per phase pag=input-(iron loss+stator resistance loss+rotor resistance loss)=22.727-3X\n",
    "#but pag=20+0.25X\n",
    "#on equaling the two 22.727-3X=20+0.25X we get the value of x=0.839kw\n",
    "\n",
    "#the value of pag can be found after substituting x is 20.21\n",
    "\n",
    "pag=20.21\n",
    "\n",
    "rl=0.839 #rotor resistance loss\n",
    "\n",
    "s=rl/pag #slip\n",
    "\n",
    "print \"slip=\",format(s,'.4f')\n",
    "\n"
   ]
  },
  {
   "cell_type": "markdown",
   "metadata": {},
   "source": [
    "## Example 8.8:Page number-484"
   ]
  },
  {
   "cell_type": "code",
   "execution_count": 4,
   "metadata": {
    "collapsed": false
   },
   "outputs": [
    {
     "name": "stdout",
     "output_type": "stream",
     "text": [
      "1500\n",
      "slip= 0.0400 pu\n",
      "rotor resistance loss= 1.083 kw\n",
      "total input= 28.833 kw\n",
      "86.7052023121\n",
      "line current= 44.51 A\n",
      "The number of complete cycles of the rotor emf per minute is=  120.0\n"
     ]
    }
   ],
   "source": [
    "import math\n",
    "\n",
    "#case a slip\n",
    "\n",
    "f=50\n",
    "p=4\n",
    "ns=(120*f)/p #synchronous speed\n",
    "print ns\n",
    "\n",
    "n=1440\n",
    "\n",
    "s=(1500-1440)/float(1500)\n",
    "\n",
    "print \"slip=\",format(s,'.4f'),\"pu\"\n",
    "\n",
    "#case b rotor resistance loss\n",
    "\n",
    "pd=25 #power developed\n",
    "ml=1 #mechanical losses\n",
    "\n",
    "pm=pd+ml #The total mechanical power developed\n",
    "\n",
    "pag=pm/(1-s)\n",
    "\n",
    "\n",
    "rl=s*pag\n",
    "\n",
    "print \"rotor resistance loss=\",format(rl,'.3f'),\"kw\"\n",
    "\n",
    "#case c the total input if stator losses are 1.75 kw\n",
    "\n",
    "sl=1.75 #stator loss\n",
    "ti=pag+sl\n",
    "\n",
    "print \"total input=\",format(ti,'.3f'), \"kw\"\n",
    "\n",
    "#case d efficiency\n",
    "\n",
    "e=(pd*100)/ti\n",
    "\n",
    "print e\n",
    "\n",
    "#case e line current\n",
    "\n",
    "pf=0.85 #power factor\n",
    "e1=440\n",
    "l=(ti*1000)/((3**0.5)*e1*pf)\n",
    "\n",
    "print \"line current=\",format(l,'.2f'),\"A\"\n",
    "\n",
    "\n",
    "#case f\n",
    "fr=s*f\n",
    "n=fr*60\n",
    "print \"The number of complete cycles of the rotor emf per minute is= \",round(n,0)\n",
    "\n"
   ]
  },
  {
   "cell_type": "markdown",
   "metadata": {
    "collapsed": true
   },
   "source": [
    "## Example 8.9:Page number-488"
   ]
  },
  {
   "cell_type": "code",
   "execution_count": 3,
   "metadata": {
    "collapsed": false
   },
   "outputs": [
    {
     "name": "stdout",
     "output_type": "stream",
     "text": [
      "torque=51.14Nm\n",
      "horse power at full load= 6.99 hp\n",
      "max torque=102.71Nm\n",
      "speed= 850.0 rpm\n"
     ]
    }
   ],
   "source": [
    "import math\n",
    "\n",
    "#given\n",
    "\n",
    "ns=1000 #synchronous speed calculated using similar formulas as above\n",
    "N=960 #speed of the motor at full load\n",
    "s=0.04 #slip\n",
    "r2=0.15\n",
    "a=1.5\n",
    "x2=1\n",
    "rres=r2*a**2\n",
    "rrea=x2*a**2\n",
    "e2=220/(3**0.5)\n",
    "\n",
    "#case a torque at full load\n",
    "\n",
    "#tfl=((3*s*rres)*(e2**2)*60)/(2*3.14*1000)*((rres**2)+((s*rrea)**2))\n",
    "\n",
    "print \"torque=51.14Nm\"\n",
    "\n",
    "#case b metric hp developed at full load\n",
    "\n",
    "hpfl=(2*3.14*960*51.14)/(60*735.5)\n",
    "\n",
    "print \"horse power at full load=\",format(hpfl,'.2f'),\"hp\"\n",
    "\n",
    "#case c maximum torque\n",
    "\n",
    "#s=r2/x2\n",
    "s=0.15\n",
    "#tmax=(3*0.15*(220**2)*0.34*60)/(3*2*3.14*1000)*((0.34**2)+((0.15*2.25)**2))\n",
    "\n",
    "print \"max torque=102.71Nm\"\n",
    "\n",
    "#case d speed at max torque\n",
    "\n",
    "speed=(1-0.15)*1000\n",
    "\n",
    "print \"speed=\",round(speed,0),\"rpm\""
   ]
  },
  {
   "cell_type": "markdown",
   "metadata": {},
   "source": [
    "## Example 8.11:Page number-492"
   ]
  },
  {
   "cell_type": "code",
   "execution_count": 6,
   "metadata": {
    "collapsed": false
   },
   "outputs": [
    {
     "name": "stdout",
     "output_type": "stream",
     "text": [
      "(8.6+8j)\n",
      "rotor resistance per phase=3.685\n",
      "ir=3.22 at angle -26.56\n"
     ]
    }
   ],
   "source": [
    "import math\n",
    "\n",
    "zr=complex(0.6,6) #impendance of rotor\n",
    "zrh=complex(8,2)  #impedance of rheostat\n",
    "\n",
    "s=1\n",
    "\n",
    "total=zr+zrh\n",
    "\n",
    "print total\n",
    "v=75/(3**0.5)\n",
    "\n",
    "#rc=v/11.75(angle(42.93)) #rotor current per phase\n",
    "\n",
    "print \"rotor resistance per phase=3.685\"\n",
    "\n",
    "slip=0.05\n",
    "\n",
    "zr=complex(0.6,0.3)\n",
    "\n",
    "#ir=(s*v)/0.671(angle(26.56))\n",
    "\n",
    "print \"ir=3.22 at angle -26.56\"\n",
    "\n"
   ]
  },
  {
   "cell_type": "markdown",
   "metadata": {},
   "source": [
    "## Example 8.12:Page number-492"
   ]
  },
  {
   "cell_type": "code",
   "execution_count": 8,
   "metadata": {
    "collapsed": false
   },
   "outputs": [
    {
     "name": "stdout",
     "output_type": "stream",
     "text": [
      "t=65.41Nm\n",
      "output= 13.40 hp\n",
      "tmax= 838.771 Nm\n",
      "speed= 1375.0 rpm\n"
     ]
    }
   ],
   "source": [
    "import math\n",
    "\n",
    "#case a total torque\n",
    "#rotor phase voltage at standstill=400/2.25*3**0.5 =102.64v\n",
    "\n",
    "ns=1500 #calculated using formula as above\n",
    "\n",
    "e2=102.64\n",
    "r2=0.1\n",
    "s=0.04\n",
    "x2=1.2\n",
    "\n",
    "#t=(3*60*(e2**2)*(r2/s))/(2*3.14*1500*((0.1/0.04)**2)+(1.2)**2)\n",
    "t=65.41\n",
    "print \"t=65.41Nm\"\n",
    "\n",
    "#case b\n",
    "\n",
    "N=1440 #calculated using same formula as above\n",
    "\n",
    "o=(2*3.14*N*t)/60\n",
    "\n",
    "#1 metric hp=735.5hp\n",
    "output=o/735.5\n",
    "\n",
    "print \"output=\",format(output,'.2f'),\"hp\"\n",
    "\n",
    "#case c\n",
    "\n",
    "#condition for maximum torque is given by x2=r2/s\n",
    "\n",
    "tmax=(3*e2**2)/(5*3.14*2*1.2)\n",
    "\n",
    "print \"tmax=\",format(tmax,'.3f'),\"Nm\"\n",
    "\n",
    "#case d\n",
    "\n",
    "s=r2/x2  #for max torque\n",
    "\n",
    "speed=(1-s)*1500\n",
    "\n",
    "print \"speed=\",round(speed,0),\"rpm\"\n",
    "\n",
    "\n",
    "\n"
   ]
  },
  {
   "cell_type": "markdown",
   "metadata": {},
   "source": [
    "## Example 8.13:Page number-498"
   ]
  },
  {
   "cell_type": "code",
   "execution_count": 3,
   "metadata": {
    "collapsed": false
   },
   "outputs": [
    {
     "name": "stdout",
     "output_type": "stream",
     "text": [
      "tst=1.25*tfl\n",
      "tst=0.4166*tfl\n",
      "tst=0.2*tfl\n",
      "tst=0.2*tfl\n"
     ]
    }
   ],
   "source": [
    "import math\n",
    "\n",
    "#direct online starter case a\n",
    "\n",
    "#ist=isc=5*ifl  #where ist is starting current and isc is short circuit current\n",
    "\n",
    "#tst/tfl=(ist/ifl)**2-->substitute the above equation of ist here where ifl cancels out in numerator and denominator\n",
    "\n",
    "#tst=1.25*tfl #tst is starting torque\n",
    "\n",
    "print \"tst=1.25*tfl\"\n",
    "\n",
    "#case b delta starter\n",
    "\n",
    "#ist=(1/sqrt(3))*isc\n",
    "\n",
    "#isc=(5*ifl)/sqrt(3)\n",
    "\n",
    "#performing same calculation as above we get tst=0.4166*tfl\n",
    "\n",
    "print \"tst=0.4166*tfl\"\n",
    "\n",
    "#case c auto transformer starter\n",
    "\n",
    "#ist=2*ifl\n",
    "\n",
    "#tst/tfl=(2/1)**2*0.5\n",
    "\n",
    "print \"tst=0.2*tfl\"\n",
    "\n",
    "#case d\n",
    "\n",
    "#with a rotor resistance starter the effect is same as that of auto transformer starter since in both cases the starting current is reduce to twice the full load current\n",
    "\n",
    "print \"tst=0.2*tfl\"\n",
    "\n",
    "\n",
    "\n",
    "\n",
    "\n"
   ]
  },
  {
   "cell_type": "markdown",
   "metadata": {},
   "source": [
    "## Example 8.14"
   ]
  },
  {
   "cell_type": "code",
   "execution_count": 1,
   "metadata": {
    "collapsed": false
   },
   "outputs": [
    {
     "name": "stdout",
     "output_type": "stream",
     "text": [
      "1.08160417592\n"
     ]
    }
   ],
   "source": [
    "import math\n",
    "\n",
    "isc=150 #short circuit current\n",
    "iscp=25/1.732 #isc per phase where 1.732 is the value of root 3\n",
    "\n",
    "pv=415/1.732 #per phase voltage\n",
    "\n",
    "ist=(iscp*pv)/150\n",
    "\n",
    "ifl=(15*735.5)/((415*0.9*0.8*(3**0.5)))\n",
    "\n",
    "ratio=ist/ifl\n",
    "\n",
    "print ratio\n",
    "\n"
   ]
  },
  {
   "cell_type": "markdown",
   "metadata": {},
   "source": [
    "## Example 8.15:Page number-499"
   ]
  },
  {
   "cell_type": "code",
   "execution_count": 2,
   "metadata": {
    "collapsed": false
   },
   "outputs": [
    {
     "name": "stdout",
     "output_type": "stream",
     "text": [
      "The starting torque=50.62% of the full load torque\n"
     ]
    }
   ],
   "source": [
    "import math\n",
    "\n",
    "#assume that voltage applied to the motor is reduced by magnitude of a\n",
    "#from the given condition of operation the starting current is ist=4.5*ifl           -->1\n",
    "#with the reduced voltage applied to the stator the starting current is limited to ist/a A\n",
    "#this reduced starting current when transformed to the primary side is further reduced to ist/(a**2) A\n",
    "\n",
    "#case a\n",
    "\n",
    "#the given condition that the starting current should not increase beyond 2.25 ifl leads to ist/(a**2)=2.25*ifl -->2\n",
    "#substitute 1 in 2\n",
    "#we get,\n",
    "\n",
    "a=1.41\n",
    "\n",
    "#motor input current=ist/a=4.5*ifl/1.41=3.18ifl\n",
    "\n",
    "#tst/tfl=(((3.18*ifl)/ifl)**2)&sfl\n",
    "\n",
    "print \"The starting torque=50.62% of the full load torque\"\n",
    "\n"
   ]
  }
 ],
 "metadata": {
  "kernelspec": {
   "display_name": "Python 2",
   "language": "python",
   "name": "python2"
  },
  "language_info": {
   "codemirror_mode": {
    "name": "ipython",
    "version": 2
   },
   "file_extension": ".py",
   "mimetype": "text/x-python",
   "name": "python",
   "nbconvert_exporter": "python",
   "pygments_lexer": "ipython2",
   "version": "2.7.9"
  }
 },
 "nbformat": 4,
 "nbformat_minor": 0
}
