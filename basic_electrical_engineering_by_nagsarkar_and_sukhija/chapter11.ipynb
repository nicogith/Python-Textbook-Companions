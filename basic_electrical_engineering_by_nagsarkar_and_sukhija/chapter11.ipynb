{
 "cells": [
  {
   "cell_type": "markdown",
   "metadata": {},
   "source": [
    "# Chapter 11:Basic Analogue Instruments"
   ]
  },
  {
   "cell_type": "markdown",
   "metadata": {},
   "source": [
    "## Example 11.1:Page number-617"
   ]
  },
  {
   "cell_type": "code",
   "execution_count": 1,
   "metadata": {
    "collapsed": false
   },
   "outputs": [
    {
     "name": "stdout",
     "output_type": "stream",
     "text": [
      "rsh= 0.00450 ohm\n",
      "rsh= 0.00300 ohm\n",
      "rsh= 0.00225 ohm\n"
     ]
    }
   ],
   "source": [
    "import math\n",
    "#given and derived\n",
    "rm=75\n",
    "im=300*(10**-6)\n",
    "#case a\n",
    "i=5\n",
    "rsh=(rm*im)/float(i-im)\n",
    "print \"rsh=\",format(rsh,'.5f'),\"ohm\"\n",
    "#case b\n",
    "i=7.5\n",
    "rsh=(rm*im)/float(i-im)\n",
    "print \"rsh=\",format(rsh,'.5f'),\"ohm\"\n",
    "#case c\n",
    "i=10\n",
    "rsh=(rm*im)/float(i-im)\n",
    "print \"rsh=\",format(rsh,'.5f'),\"ohm\""
   ]
  },
  {
   "cell_type": "markdown",
   "metadata": {},
   "source": [
    "## Example 11.2:Page number-619"
   ]
  },
  {
   "cell_type": "code",
   "execution_count": 2,
   "metadata": {
    "collapsed": false
   },
   "outputs": [
    {
     "name": "stdout",
     "output_type": "stream",
     "text": [
      "rse= 166591.67 ohm\n",
      "rse= 249925.00 ohm\n",
      "rse= 333258.33 ohm\n"
     ]
    }
   ],
   "source": [
    "import math\n",
    "im=300*(10**-6)\n",
    "rm=75\n",
    "#case a\n",
    "v=50\n",
    "rse=(v/im)-rm\n",
    "print \"rse=\",format(rse,'.2f'),\"ohm\"\n",
    "#case b\n",
    "v=75\n",
    "rse=(v/im)-rm\n",
    "print \"rse=\",format(rse,'.2f'),\"ohm\"\n",
    "#case c\n",
    "v=100\n",
    "rse=(v/im)-rm\n",
    "print \"rse=\",format(rse,'.2f'),\"ohm\"\n"
   ]
  },
  {
   "cell_type": "code",
   "execution_count": null,
   "metadata": {
    "collapsed": true
   },
   "outputs": [],
   "source": []
  }
 ],
 "metadata": {
  "kernelspec": {
   "display_name": "Python 2",
   "language": "python",
   "name": "python2"
  },
  "language_info": {
   "codemirror_mode": {
    "name": "ipython",
    "version": 2
   },
   "file_extension": ".py",
   "mimetype": "text/x-python",
   "name": "python",
   "nbconvert_exporter": "python",
   "pygments_lexer": "ipython2",
   "version": "2.7.5"
  }
 },
 "nbformat": 4,
 "nbformat_minor": 0
}
