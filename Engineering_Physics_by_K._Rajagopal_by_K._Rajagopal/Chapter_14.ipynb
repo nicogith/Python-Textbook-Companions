{
 "metadata": {
  "name": ""
 },
 "nbformat": 3,
 "nbformat_minor": 0,
 "worksheets": [
  {
   "cells": [
    {
     "cell_type": "heading",
     "level": 1,
     "metadata": {},
     "source": [
      "Chapter 14: Dielectrics"
     ]
    },
    {
     "cell_type": "heading",
     "level": 2,
     "metadata": {},
     "source": [
      "Example 14.1, Page 475"
     ]
    },
    {
     "cell_type": "code",
     "collapsed": false,
     "input": [
      "from math import pi\n",
      "\n",
      "#Variable declaration\n",
      "er=1.0000684;#dielectric constant of helium \n",
      "N=2.7*1e25;#atoms/m^3\n",
      "\n",
      "#Calculations\n",
      "r=(er-1)/(4*pi*N);\n",
      "R=r**(1./3); #radius of electron cloud\n",
      "\n",
      "#Result\n",
      "print 'radius of electron cloud is %.1f*10^-10 m'%(R/1e-10)\n"
     ],
     "language": "python",
     "metadata": {},
     "outputs": [
      {
       "output_type": "stream",
       "stream": "stdout",
       "text": [
        "radius of electron cloud is 0.6*10^-10 m\n"
       ]
      }
     ],
     "prompt_number": 1
    },
    {
     "cell_type": "heading",
     "level": 2,
     "metadata": {},
     "source": [
      "Example 14.2, Page 475"
     ]
    },
    {
     "cell_type": "code",
     "collapsed": false,
     "input": [
      "#Variable declaration\n",
      "k=1.38*1e-23;#boltzmann constant\n",
      "N=1e27;#HCL molecule per cubic meter\n",
      "E=1e6;#electric field of vapour\n",
      "D=3.33*1e-30;\n",
      "\n",
      "#Calculations\n",
      "pHCL=1.04*D;\n",
      "T=300;#tempreture in kelvin\n",
      "alpha=(pHCL)**2/(3*k*T);\n",
      "p0=N*alpha*E;#orientation polarization\n",
      "\n",
      "#Result\n",
      "print 'orientation polarization is %.3f*10^-6 C/m^2'%(p0/1e-6)\n"
     ],
     "language": "python",
     "metadata": {},
     "outputs": [
      {
       "output_type": "stream",
       "stream": "stdout",
       "text": [
        "orientation polarization is 0.966*10^-6 C/m^2\n"
       ]
      }
     ],
     "prompt_number": 2
    },
    {
     "cell_type": "heading",
     "level": 2,
     "metadata": {},
     "source": [
      "Example 14.3, Page 476"
     ]
    },
    {
     "cell_type": "code",
     "collapsed": false,
     "input": [
      "#Variable declaration\n",
      "alpha=0.35*1e-40;#polarizability of gas\n",
      "N=2.7*1e25;\n",
      "e0=8.854*1e-12;#permittivity of vacume\n",
      "\n",
      "#Calculation\n",
      "er=1+(N*alpha/e0);#relative permittivity\n",
      "\n",
      "#Result\n",
      "print 'relative permittivity is %.6f'%er\n"
     ],
     "language": "python",
     "metadata": {},
     "outputs": [
      {
       "output_type": "stream",
       "stream": "stdout",
       "text": [
        "relative permittivity is 1.000107\n"
       ]
      }
     ],
     "prompt_number": 3
    },
    {
     "cell_type": "heading",
     "level": 2,
     "metadata": {},
     "source": [
      "Example 14.4, Page 480"
     ]
    },
    {
     "cell_type": "code",
     "collapsed": false,
     "input": [
      "#Variable declaration\n",
      "er=12.;#relative permittivity\n",
      "N=5*1e28;#atoms/m^3\n",
      "e0=8.854*1e-12;#permittivity of vacume\n",
      "\n",
      "#Calculations\n",
      "x=(er-1)/(er+2);\n",
      "alpha=(3*e0/N)*x;#electrical polarizability\n",
      "\n",
      "#Result\n",
      "print 'electronic polarizability = %.2f*10^-40 F*m^2'%(alpha/1e-40)\n"
     ],
     "language": "python",
     "metadata": {},
     "outputs": [
      {
       "output_type": "stream",
       "stream": "stdout",
       "text": [
        "electronic polarizability = 4.17*10^-40 F*m^2\n"
       ]
      }
     ],
     "prompt_number": 5
    },
    {
     "cell_type": "heading",
     "level": 2,
     "metadata": {},
     "source": [
      "Example 14.5, Page 483"
     ]
    },
    {
     "cell_type": "code",
     "collapsed": false,
     "input": [
      "from math import atan,degrees\n",
      "\n",
      "#Variable declaration\n",
      "C=2.4*1e-12;#given capacitance in F\n",
      "e0=8.854*1e-12;#permittivity of vacume\n",
      "a=4*1e-4;#area in m^2\n",
      "d=0.5*1e-2;#thickness\n",
      "tandelta=0.02;\n",
      "\n",
      "#Calculations&Results\n",
      "er=(C*d)/(e0*a);#relative permittivity\n",
      "print 'relative permittivity = %.2f'%er\n",
      "lf=er*tandelta;#loss factor\n",
      "print 'electric loss factor = %.4f'%lf\n",
      "delta=degrees(atan(tandelta))\n",
      "PA=90-delta;#phase angle\n",
      "print 'phase angle = %.2f degrees'%PA\n",
      "#incorrect answers in the textbook\n"
     ],
     "language": "python",
     "metadata": {},
     "outputs": [
      {
       "output_type": "stream",
       "stream": "stdout",
       "text": [
        "relative permittivity = 3.39\n",
        "electric loss factor = 0.0678\n",
        "phase angle = 88.85 degrees\n"
       ]
      }
     ],
     "prompt_number": 25
    },
    {
     "cell_type": "heading",
     "level": 2,
     "metadata": {},
     "source": [
      "Example 14.6, Page 483"
     ]
    },
    {
     "cell_type": "code",
     "collapsed": false,
     "input": [
      "#Variable declaration\n",
      "er=8.;#relative permittivity\n",
      "a=0.036;#area in m^2\n",
      "e0=8.854*1e-12;#permittivity of vacume\n",
      "C=6*1e-6;#capacitance in F\n",
      "V=15.0;#potential difference\n",
      "\n",
      "#Calculations\n",
      "d=(e0*er*a)/C;\n",
      "E=V/d;#field strength\n",
      "\n",
      "#Results\n",
      "print 'field strength is= %.3f*10^7 V/m'%(E/1e+7)\n",
      "dpm=e0*(er-1)*E;#dipole moment/unit volume\n",
      "print 'dipole moment/unit volume= %.4f*10^-2 C/m^2'%(dpm/1e-2)\n",
      "#Incorrect answers in the textbook\n"
     ],
     "language": "python",
     "metadata": {},
     "outputs": [
      {
       "output_type": "stream",
       "stream": "stdout",
       "text": [
        "field strength is= 3.529*10^7 V/m\n",
        "dipole moment/unit volume= 0.2187*10^-2 C/m^2\n"
       ]
      }
     ],
     "prompt_number": 6
    }
   ],
   "metadata": {}
  }
 ]
}