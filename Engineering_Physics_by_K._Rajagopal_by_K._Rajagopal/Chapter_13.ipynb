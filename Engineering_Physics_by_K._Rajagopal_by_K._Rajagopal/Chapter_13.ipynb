{
 "metadata": {
  "name": ""
 },
 "nbformat": 3,
 "nbformat_minor": 0,
 "worksheets": [
  {
   "cells": [
    {
     "cell_type": "heading",
     "level": 1,
     "metadata": {},
     "source": [
      "Chapter 13: Magnetic Materials"
     ]
    },
    {
     "cell_type": "heading",
     "level": 2,
     "metadata": {},
     "source": [
      "Example 13.1, Page 457"
     ]
    },
    {
     "cell_type": "code",
     "collapsed": false,
     "input": [
      "from math import pi\n",
      "\n",
      "#Variable declaration\n",
      "u0=4*pi*1e-7;\n",
      "H=1e7;#magnetic field strength\n",
      "X=(-0.9)*1e-6;#magnetic suseptiblity\n",
      "\n",
      "#Calculations&Results\n",
      "M=X*H;#magnetization of material\n",
      "print 'magnetization of material is %.f A/m'%M\n",
      "B=u0*H;#magnetic flux density\n",
      "print 'magnetic flux density is %.2f Wb/m^2'%B\n"
     ],
     "language": "python",
     "metadata": {},
     "outputs": [
      {
       "output_type": "stream",
       "stream": "stdout",
       "text": [
        "magnetization of material is -9 A/m\n",
        "magnetic flux density is 12.57 Wb/m^2\n"
       ]
      }
     ],
     "prompt_number": 1
    },
    {
     "cell_type": "heading",
     "level": 2,
     "metadata": {},
     "source": [
      "Example 13.2, Page 457"
     ]
    },
    {
     "cell_type": "code",
     "collapsed": false,
     "input": [
      "from math import pi\n",
      "\n",
      "#Variable declaration\n",
      "X=2*1e-3;#magnetic suseptibility of material at room temp.\n",
      "H=1e3;#magnetic field intrnsity of piece of ferricoxide\n",
      "u0=4*pi*1e-7;\n",
      "\n",
      "#Calculatons&Results\n",
      "M=X*H;#magnetization\n",
      "print 'magnetization is %.f A/m'%M\n",
      "ur=X+1;#relative permiability\n",
      "B=u0*ur*H;#magnetic flux density\n",
      "print 'magnetic flux density is %.3f*10^-3 W/m^2'%(B/1e-3)\n"
     ],
     "language": "python",
     "metadata": {},
     "outputs": [
      {
       "output_type": "stream",
       "stream": "stdout",
       "text": [
        "magnetization is 2 A/m\n",
        "magnetic flux density is 1.259*10^-3 W/m^2\n"
       ]
      }
     ],
     "prompt_number": 2
    },
    {
     "cell_type": "heading",
     "level": 2,
     "metadata": {},
     "source": [
      "Example 13.3, Page 458"
     ]
    },
    {
     "cell_type": "code",
     "collapsed": false,
     "input": [
      "#Variable declaration\n",
      "M=2.74*1e8;#magnetization per atom in A/m\n",
      "a=2.66*1e-10;#elementry cube edge\n",
      "n=2;#Iron in BCC\n",
      "\n",
      "#Calculations&Results\n",
      "B=(M*a**3)/2;#Am^2 per atom\n",
      "print 'Average number of Bohr magnetons contributed are %.2f*10^-22'%(B/1e-22)\n",
      "#interms of bohr megneton\n",
      "b=B/(9.27*1e-24);#dipole moment\n",
      "print 'dipole moment is %.f bohr megneton/atom'%b\n",
      "#Incorrect answers in the textbook\n"
     ],
     "language": "python",
     "metadata": {},
     "outputs": [
      {
       "output_type": "stream",
       "stream": "stdout",
       "text": [
        "Average number of Bohr magnetons contributed are 25.78*10^-22\n",
        "dipole moment is 278 bohr megneton/atom\n"
       ]
      }
     ],
     "prompt_number": 3
    },
    {
     "cell_type": "heading",
     "level": 2,
     "metadata": {},
     "source": [
      "Example 13.4, Page 258"
     ]
    },
    {
     "cell_type": "code",
     "collapsed": false,
     "input": [
      "from math import pi\n",
      "\n",
      "#Variable declaration\n",
      "u0=4*pi*1e-7;\n",
      "b=9.27*1e-24;\n",
      "H=1e3;#homogeneous field\n",
      "k=1.38*1e-23;#boltzmann constant\n",
      "T=303;#temp in kelvin\n",
      "\n",
      "#Calculations\n",
      "T1 = T - 273; # Temp In Degree\n",
      "x=u0*b*H/(k*T);#avg magnetic moment\n",
      "\n",
      "#Result\n",
      "print 'avg magnetic moment is %.2f*10^-6 bohr magneton/spin'%(x/1e-6)\n"
     ],
     "language": "python",
     "metadata": {},
     "outputs": [
      {
       "output_type": "stream",
       "stream": "stdout",
       "text": [
        "avg magnetic moment is 2.79*10^-6 bohr magneton/spin\n"
       ]
      }
     ],
     "prompt_number": 4
    },
    {
     "cell_type": "heading",
     "level": 2,
     "metadata": {},
     "source": [
      "Example 13.5, Page 459"
     ]
    },
    {
     "cell_type": "code",
     "collapsed": false,
     "input": [
      "#Variable declaration\n",
      "ur=16;#relative permiability\n",
      "I=3300;#intensity of magnetization\n",
      "\n",
      "#Calculation\n",
      "H=I/(ur-1);#strength of the field\n",
      "\n",
      "#Result\n",
      "print 'strength of the field =%.f A/m'%H\n"
     ],
     "language": "python",
     "metadata": {},
     "outputs": [
      {
       "output_type": "stream",
       "stream": "stdout",
       "text": [
        "strength of the field =220 A/m\n"
       ]
      }
     ],
     "prompt_number": 5
    }
   ],
   "metadata": {}
  }
 ]
}