{
 "metadata": {
  "name": ""
 },
 "nbformat": 3,
 "nbformat_minor": 0,
 "worksheets": [
  {
   "cells": [
    {
     "cell_type": "heading",
     "level": 1,
     "metadata": {},
     "source": [
      "Chapter 5: Wave Optics"
     ]
    },
    {
     "cell_type": "heading",
     "level": 2,
     "metadata": {},
     "source": [
      "Example 5.1, Page 142"
     ]
    },
    {
     "cell_type": "code",
     "collapsed": false,
     "input": [
      "#Variable Declaration\n",
      "refractive_index=1.65 #refractive index\n",
      "lamda=5893*1e-10;#wavelength\n",
      "n=400;\n",
      "\n",
      "#Calculation\n",
      "t=(n*lamda)/(2*(refractive_index-1));#Thickness of film\n",
      "\n",
      "#Result\t\t\n",
      "print 'Thickness of film = ',round(t/1e-4,2),'*10^-4 m'\n"
     ],
     "language": "python",
     "metadata": {},
     "outputs": [
      {
       "output_type": "stream",
       "stream": "stdout",
       "text": [
        "Thickness of film =  1.81 *10^-4 m\n"
       ]
      }
     ],
     "prompt_number": 1
    },
    {
     "cell_type": "heading",
     "level": 2,
     "metadata": {},
     "source": [
      "Example 5.2, Page 142"
     ]
    },
    {
     "cell_type": "code",
     "collapsed": false,
     "input": [
      "#Variable Declaration\n",
      "x=0.40*1e-3; #in meter\n",
      "n=900;\n",
      "\n",
      "#Calculations\n",
      "lamda=2*x/n;#Wavelength of light in meters\n",
      "lamda1=lamda/1e-10;#Wavelength of light in A\n",
      "\n",
      "#Result\t\t\n",
      "print 'Wavelength of light in A =',round(lamda1),'A'\n"
     ],
     "language": "python",
     "metadata": {},
     "outputs": [
      {
       "output_type": "stream",
       "stream": "stdout",
       "text": [
        "Wavelength of light in A = 8889.0 A\n"
       ]
      }
     ],
     "prompt_number": 2
    },
    {
     "cell_type": "heading",
     "level": 2,
     "metadata": {},
     "source": [
      "Example 5.3, Page 143"
     ]
    },
    {
     "cell_type": "code",
     "collapsed": false,
     "input": [
      "#Variable Declaration\n",
      "lamda=5893*1e-10;#wavelength of monocromatic light\n",
      "n=4000;\n",
      "\n",
      "#Calculation\n",
      "x=n*lamda/2;#distance moved by mirror M1\n",
      "\n",
      "#Result\n",
      "print 'distance moved by mirror M1 =',x/1e-2,'*10^-2 m'\n"
     ],
     "language": "python",
     "metadata": {},
     "outputs": [
      {
       "output_type": "stream",
       "stream": "stdout",
       "text": [
        "distance moved by mirror M1 = 0.11786 *10^-2 m\n"
       ]
      }
     ],
     "prompt_number": 3
    },
    {
     "cell_type": "heading",
     "level": 2,
     "metadata": {},
     "source": [
      "Example 5.4, Page 143"
     ]
    },
    {
     "cell_type": "code",
     "collapsed": false,
     "input": [
      "#Variable Declaration\n",
      "lamda=5461*1e-10;#wavelength of light\n",
      "n=8;#no of frings\n",
      "t=6*1e-6;#in meter\n",
      "\n",
      "#calculation\n",
      "u=((n*lamda)/(2*t))+1;#refractive index of material\n",
      "\n",
      "#Result\n",
      "print 'refractive index of material =',round(u,5)\n"
     ],
     "language": "python",
     "metadata": {},
     "outputs": [
      {
       "output_type": "stream",
       "stream": "stdout",
       "text": [
        "refractive index of material = 1.36407\n"
       ]
      }
     ],
     "prompt_number": 4
    },
    {
     "cell_type": "heading",
     "level": 2,
     "metadata": {},
     "source": [
      "Example 5.5, Page 154"
     ]
    },
    {
     "cell_type": "code",
     "collapsed": false,
     "input": [
      "#Variable Declaration\n",
      "ue=1.553;#given ue\n",
      "u0=1.544;#given uo\n",
      "lamda=500*1e-9;#in meter\n",
      "\n",
      "#Calculation\n",
      "t=lamda/(4*(ue-u0));#The thickness of quarter wave plate\n",
      "\n",
      "#Result\n",
      "print 'The thickness of quarter wave plate =',round(t/1e-5,3),'*10^-5 m'\n"
     ],
     "language": "python",
     "metadata": {},
     "outputs": [
      {
       "output_type": "stream",
       "stream": "stdout",
       "text": [
        "The thickness of quarter wave plate = 1.389 *10^-5 m\n"
       ]
      }
     ],
     "prompt_number": 6
    },
    {
     "cell_type": "heading",
     "level": 2,
     "metadata": {},
     "source": [
      "Example 5.6, Page 155"
     ]
    },
    {
     "cell_type": "code",
     "collapsed": false,
     "input": [
      "#Variable Declaration\n",
      "lamda=5893*1e-10;#in meter\n",
      "ue=1.55333;#given ue\n",
      "u0=1.5442;#given u0\n",
      "\n",
      "#Calculation\n",
      "t=lamda/(2*(ue-u0));#Thicknesss of half wave plate\n",
      "\n",
      "#Result\n",
      "print 'Thicknesss of half wave plate =',round(t/1e-5,2),'*10^-5 m'\n"
     ],
     "language": "python",
     "metadata": {},
     "outputs": [
      {
       "output_type": "stream",
       "stream": "stdout",
       "text": [
        "Thicknesss of half wave plate = 3.23 *10^-5 m\n"
       ]
      }
     ],
     "prompt_number": 7
    },
    {
     "cell_type": "heading",
     "level": 2,
     "metadata": {},
     "source": [
      "Example 5.7, Page 155"
     ]
    },
    {
     "cell_type": "code",
     "collapsed": false,
     "input": [
      "#Variable Declaration\n",
      "u0=1.5442;#given u0\n",
      "ue=1.5533;#given ue\n",
      "lamda=5*1e-5;#wavelrngth in cm\n",
      "\n",
      "#Calculation\n",
      "t=lamda/(2*(ue-u0));#Thicknesss of half wave plate\n",
      "\n",
      "#Result\n",
      "print 'Thicknesss of half wave plate =',round(t/1e-3,2),'*10^-3 cm'\n",
      "#Incorrect answer in the textbook\n"
     ],
     "language": "python",
     "metadata": {},
     "outputs": [
      {
       "output_type": "stream",
       "stream": "stdout",
       "text": [
        "Thicknesss of half wave plate = 2.75 *10^-3 cm\n"
       ]
      }
     ],
     "prompt_number": 27
    },
    {
     "cell_type": "heading",
     "level": 2,
     "metadata": {},
     "source": [
      "Example 5.8, Page 155"
     ]
    },
    {
     "cell_type": "code",
     "collapsed": false,
     "input": [
      "#Variable Declaration\n",
      "u0=1.658;#given u0\n",
      "ue=1.486;#given ue\n",
      "lamda=5893*1e-8 #in cm\n",
      "\n",
      "#Calculation\n",
      "t=lamda/(4*(u0-ue));#Thicknesss of quarter wave plate \n",
      "\n",
      "#Result\n",
      "print 'Thicknesss of quarter wave plate =',round(t/1e-4,2),'*10^-4 cm'\n"
     ],
     "language": "python",
     "metadata": {},
     "outputs": [
      {
       "output_type": "stream",
       "stream": "stdout",
       "text": [
        "Thicknesss of quarter wave plate = 0.86 *10^-4 cm\n"
       ]
      }
     ],
     "prompt_number": 8
    }
   ],
   "metadata": {}
  }
 ]
}