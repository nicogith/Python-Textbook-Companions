{
 "metadata": {
  "name": ""
 },
 "nbformat": 3,
 "nbformat_minor": 0,
 "worksheets": [
  {
   "cells": [
    {
     "cell_type": "heading",
     "level": 1,
     "metadata": {},
     "source": [
      "Chapter 10: Energy Bands in Solids"
     ]
    },
    {
     "cell_type": "heading",
     "level": 2,
     "metadata": {},
     "source": [
      "Example 10.1, Page 323"
     ]
    },
    {
     "cell_type": "code",
     "collapsed": false,
     "input": [
      "from math import log\n",
      "\n",
      "#Variable declaration\n",
      "#E=Ef+1% of Ef\n",
      "k=1.38*1e-23;#boltzman constant\n",
      "e=1.6*1e-19;#charge of electron\n",
      "E=0.0555;\n",
      "\n",
      "#calculations\n",
      "#0.1=1/[(exp((E*e)/(k*T)))+1]\n",
      "T=(E*e)/(k*log(9));#Temprature\n",
      "\n",
      "#Result\n",
      "print 'Temprature = %.f K'%T\n",
      "#Incorrect answer in the textbook\n"
     ],
     "language": "python",
     "metadata": {},
     "outputs": [
      {
       "output_type": "stream",
       "stream": "stdout",
       "text": [
        "Temprature = 293 K\n"
       ]
      }
     ],
     "prompt_number": 1
    },
    {
     "cell_type": "heading",
     "level": 2,
     "metadata": {},
     "source": [
      "Example 10.2, Page 324\n"
     ]
    },
    {
     "cell_type": "code",
     "collapsed": false,
     "input": [
      "from math import exp\n",
      "\n",
      "#Variable declaration\n",
      "sx=0.01 #in ev. where x=E-Ef\n",
      "x1=sx*1.6*1e-19 #converting it in joule\n",
      "T=200 #in kelvin\n",
      "\n",
      "#calculation\n",
      "Fe=1/(1+exp(x1/(1.38*1e-23*T)));#The value of F(E) \n",
      "\n",
      "#Result\n",
      "print 'The value of F(E) = %.2f'%Fe\n"
     ],
     "language": "python",
     "metadata": {},
     "outputs": [
      {
       "output_type": "stream",
       "stream": "stdout",
       "text": [
        "The value of F(E) = 0.36\n"
       ]
      }
     ],
     "prompt_number": 2
    },
    {
     "cell_type": "heading",
     "level": 2,
     "metadata": {},
     "source": [
      "Example 10.3, Page 327"
     ]
    },
    {
     "cell_type": "code",
     "collapsed": false,
     "input": [
      "\n",
      "#Variable declaration\n",
      "density=7.13*1e3  #in kg/m^3\n",
      "M=65.4\n",
      "N=6.023*1e26 #avogedro number\n",
      "\n",
      "#Calculations\n",
      "n=(2*density*N)/M\n",
      "n1=n**(2./3);\n",
      "Ef=3.65*1e-19*n1; #in eV\n",
      "Ef1=(3./5)*Ef #in eV\n",
      "\n",
      "#Results\n",
      "print 'fermi energy = %.1f eV'%Ef\n",
      "print 'Mean energy at T=0K is %.f eV'%Ef1\n",
      "#Incorrect answers in the textbook\n"
     ],
     "language": "python",
     "metadata": {},
     "outputs": [
      {
       "output_type": "stream",
       "stream": "stdout",
       "text": [
        "fermi energy = 9.4 eV\n",
        "Mean energy at T=0K is 6 eV\n"
       ]
      }
     ],
     "prompt_number": 3
    },
    {
     "cell_type": "heading",
     "level": 2,
     "metadata": {},
     "source": [
      "Example 10.4, Page 328"
     ]
    },
    {
     "cell_type": "code",
     "collapsed": false,
     "input": [
      "#Variable declaration\n",
      "Ef=5.51 #in eV\n",
      "\n",
      "#calculation\n",
      "E=(3./5)*Ef;#The average energy of a free electron in silver at 0k\n",
      "\n",
      "#Result\n",
      "print 'The average energy of a free electron in silver at 0k = %.3f eV'%E\n"
     ],
     "language": "python",
     "metadata": {},
     "outputs": [
      {
       "output_type": "stream",
       "stream": "stdout",
       "text": [
        "The average energy of a free electron in silver at 0k = 3.306 eV\n"
       ]
      }
     ],
     "prompt_number": 4
    }
   ],
   "metadata": {}
  }
 ]
}