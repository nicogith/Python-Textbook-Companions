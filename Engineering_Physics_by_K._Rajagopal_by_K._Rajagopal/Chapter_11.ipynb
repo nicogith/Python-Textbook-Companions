{
 "metadata": {
  "name": ""
 },
 "nbformat": 3,
 "nbformat_minor": 0,
 "worksheets": [
  {
   "cells": [
    {
     "cell_type": "heading",
     "level": 1,
     "metadata": {},
     "source": [
      "Chapter 11: Semiconductors"
     ]
    },
    {
     "cell_type": "heading",
     "level": 2,
     "metadata": {},
     "source": [
      "Example 11.1, Page 343"
     ]
    },
    {
     "cell_type": "code",
     "collapsed": false,
     "input": [
      "#Variable Declaration\n",
      "Pi=0.47;#given resistivity of intrinsic germanium\n",
      "sigmai=1/Pi;#conductance\n",
      "e=1.6*1e-19;#charge of electron\n",
      "ue=0.38;#electron mobility\n",
      "up=0.18;#hole mobility\n",
      "\n",
      "#Calculation\n",
      "ni=sigmai/(e*(ue+up));#intrinsic carrier density at 300K \n",
      "\n",
      "#Result\n",
      "print 'intrinsic carrier density at 300K temp= %.2f*10^19 m^-3'%(ni/1e+19)\n"
     ],
     "language": "python",
     "metadata": {},
     "outputs": [
      {
       "output_type": "stream",
       "stream": "stdout",
       "text": [
        "intrinsic carrier density at 300K temp= 2.37*10^19 m^-3\n"
       ]
      }
     ],
     "prompt_number": 1
    },
    {
     "cell_type": "heading",
     "level": 2,
     "metadata": {},
     "source": [
      "Example 11.2, Page 343"
     ]
    },
    {
     "cell_type": "code",
     "collapsed": false,
     "input": [
      "#Variable Declaration\n",
      "e=1.6*1e-19;#charge of electron\n",
      "ue=0.39;#electron mobility\n",
      "up=0.19;#hole mobility\n",
      "ni=2.4*1e19;#intrinsic carrier density \n",
      "\n",
      "#calculation\n",
      "sigma=ni*e*(up+ue);\n",
      "\n",
      "#Result\n",
      "print 'conductivity of intrinsic semiconductor= %.2f ohm^-1*m^-1'%sigma"
     ],
     "language": "python",
     "metadata": {},
     "outputs": [
      {
       "output_type": "stream",
       "stream": "stdout",
       "text": [
        "conductivity of intrinsic semiconductor= 2.23 ohm^-1*m^-1\n"
       ]
      }
     ],
     "prompt_number": 2
    },
    {
     "cell_type": "heading",
     "level": 2,
     "metadata": {},
     "source": [
      "Example 11.3, Page 343"
     ]
    },
    {
     "cell_type": "code",
     "collapsed": false,
     "input": [
      "from math import pi,exp\n",
      "\n",
      "#Variable Declaration\n",
      "m0=9.1*1e-31;\n",
      "me=0.12*m0;\n",
      "mp=0.28*m0;\n",
      "Eg=0.67*1.6*1e-19\n",
      "k=1.38*1e-23;#boltzman constant\n",
      "h=6.62*1e-34;#plank's constant\n",
      "T=300;\n",
      "\n",
      "#Calculations\n",
      "ni=2*((2*pi*k*T/h**2)**(3./2))*((me*mp)**(3./4))*exp(-Eg/(2*k*T));#intrinsic carrier concentration\n",
      "\n",
      "#Result\n",
      "print 'intrinsic carrier concentration is= %.1f *10^18 m^-3'%(ni/1e18)\n"
     ],
     "language": "python",
     "metadata": {},
     "outputs": [
      {
       "output_type": "stream",
       "stream": "stdout",
       "text": [
        "intrinsic carrier concentration is= 4.7 *10^18 m^-3\n"
       ]
      }
     ],
     "prompt_number": 3
    },
    {
     "cell_type": "heading",
     "level": 2,
     "metadata": {},
     "source": [
      "Example 11.4, Page 343"
     ]
    },
    {
     "cell_type": "code",
     "collapsed": false,
     "input": [
      "from math import exp\n",
      "\n",
      "#Variable Declaration\n",
      "Eg1=0.36*1.6*1e-19;\n",
      "Eg2=0.72*1.6*1e-19\n",
      "k=1.38*1e-23;#boltzman constant\n",
      "T=300;#tempreture in kelvin\n",
      "\n",
      "#Calculation\n",
      "#in this formula ni=2*((2*%pi*k*T/h^2)^(3/2))*((me*mp)^(3/4))*exp(-Eg/(2*k*T))ratio of nip/niq is given by:\n",
      "x=exp((Eg2-Eg1)/(2*k*T));#ratio of nip/niq\n",
      "\n",
      "#Result\n",
      "print 'ratio of nip/niq is= %.f '%x\n",
      "#Incorrect answer in the textbook\n"
     ],
     "language": "python",
     "metadata": {},
     "outputs": [
      {
       "output_type": "stream",
       "stream": "stdout",
       "text": [
        "ratio of nip/niq is= 1050 \n"
       ]
      }
     ],
     "prompt_number": 5
    },
    {
     "cell_type": "heading",
     "level": 2,
     "metadata": {},
     "source": [
      "Example 11.5, Page 344"
     ]
    },
    {
     "cell_type": "code",
     "collapsed": false,
     "input": [
      "#Variable Declaration\n",
      "e=1.6*1e-19;#charge of electron\n",
      "ue=0.39;#electron mobility\n",
      "up=0.19;#hole mobility\n",
      "ni=2.5*1e19;#intrinsic carrier density \n",
      "l=1e-2;#length of Ge rode\n",
      "a=1e-4;#area of Ge rode\n",
      "\n",
      "#Calculations&Results\n",
      "sigma=ni*e*(up+ue);#conductivity of intrinsic semiconductor\n",
      "print 'conductivity of intrinsic semiconductor= %.2f ohm^-1*m^-1'%sigma\n",
      "P=1/sigma;\n",
      "R=P*l/a;#resistance of Ge rode\n",
      "print 'resistance of Ge rode =%.1f ohm'%R\n"
     ],
     "language": "python",
     "metadata": {},
     "outputs": [
      {
       "output_type": "stream",
       "stream": "stdout",
       "text": [
        "conductivity of intrinsic semiconductor= 2.32 ohm^-1*m^-1\n",
        "resistance of Ge rode =43.1 ohm\n"
       ]
      }
     ],
     "prompt_number": 6
    },
    {
     "cell_type": "heading",
     "level": 2,
     "metadata": {},
     "source": [
      "Example 11.6, Page 347"
     ]
    },
    {
     "cell_type": "code",
     "collapsed": false,
     "input": [
      "#Variable Declaration\n",
      "ue=3850;#mobility of electron\n",
      "sigma=5;#conductivity of ntype semiconductor\n",
      "e=1.6*1e-19;#charge of electron\n",
      "\n",
      "#Calculation\n",
      "Nd=sigma/(e*ue);#density of donor atoms\n",
      "\n",
      "#Result\n",
      "print 'density of donor atoms is= %.2f*10^16 cm^-3'%(Nd/1e16)\n"
     ],
     "language": "python",
     "metadata": {},
     "outputs": [
      {
       "output_type": "stream",
       "stream": "stdout",
       "text": [
        "density of donor atoms is= 0.81*10^16 cm^-3\n"
       ]
      }
     ],
     "prompt_number": 7
    },
    {
     "cell_type": "heading",
     "level": 2,
     "metadata": {},
     "source": [
      "Example 11.7, Page 351"
     ]
    },
    {
     "cell_type": "code",
     "collapsed": false,
     "input": [
      "from math import log\n",
      "\n",
      "#Variable Declaration\n",
      "#let Ef-Ev=0.4eV=x and Ef1-Ev=y\n",
      "x=0.4;#Ef-Ev in eV\n",
      "k=1.38*1e-23;#boltzmann constant\n",
      "T=300;#tempreture in kelvin\n",
      "\n",
      "#Calculations\n",
      "#now p=Nv*exp(-x/(k*T))=Na and p'=Nv*exp(-y/(k*T))=2Na so ratio of this 2 is 2=exp(x-y/(k*T))\n",
      "y=x-((k*T*log(2))/1.6e-19);#Ef1-Ev in eV\n",
      "\n",
      "#Result\n",
      "print 'Ef1-Ev in eV is= %.4feV'%y\n",
      "#Answer varies due to rounding-off errors"
     ],
     "language": "python",
     "metadata": {},
     "outputs": [
      {
       "output_type": "stream",
       "stream": "stdout",
       "text": [
        "Ef1-Ev in eV is= 0.3821eV\n"
       ]
      }
     ],
     "prompt_number": 8
    },
    {
     "cell_type": "heading",
     "level": 2,
     "metadata": {},
     "source": [
      "Example 11.8, Page 352"
     ]
    },
    {
     "cell_type": "code",
     "collapsed": false,
     "input": [
      "#Variable Declaration\n",
      "#let Ec1-Ef=0.3eV=x and Ec2-Ef=y\n",
      "x=0.3;#Ec-Ef in eV\n",
      "T1=300.;#tempreture in kelvin\n",
      "T2=330.;#tempreture in kelvin\n",
      "\n",
      "#Calculation\n",
      "#Ec-Ef=k*T*log(Nc/Nd) so..\n",
      "y=T2*x/T1;#Ec2-Ef in eV\n",
      "\n",
      "#Result\n",
      "print 'Ec2-Ef in eV is= %.2f eV'%y\n"
     ],
     "language": "python",
     "metadata": {},
     "outputs": [
      {
       "output_type": "stream",
       "stream": "stdout",
       "text": [
        "Ec2-Ef in eV is= 0.33 eV\n"
       ]
      }
     ],
     "prompt_number": 9
    },
    {
     "cell_type": "heading",
     "level": 2,
     "metadata": {},
     "source": [
      "Example 11.9, Page 356"
     ]
    },
    {
     "cell_type": "code",
     "collapsed": false,
     "input": [
      "#Variable Declaration\n",
      "B=0.5;#given flux density\n",
      "d=3*1e-3;#given thickness\n",
      "J=500.;#given current density\n",
      "n=1e21;#given donor density\n",
      "e=1.6*1e-19;#charge of electron\n",
      "\n",
      "#Calculation\n",
      "Vh=(B*J*d)/(n*e);#hall voltage\n",
      "\n",
      "#Result\n",
      "print 'hall voltage is= %.1f mV'%(Vh/1e-3)\n"
     ],
     "language": "python",
     "metadata": {},
     "outputs": [
      {
       "output_type": "stream",
       "stream": "stdout",
       "text": [
        "hall voltage is= 4.7 mV\n"
       ]
      }
     ],
     "prompt_number": 11
    },
    {
     "cell_type": "heading",
     "level": 2,
     "metadata": {},
     "source": [
      "Example 11.10, Page 357"
     ]
    },
    {
     "cell_type": "code",
     "collapsed": false,
     "input": [
      "from math import pi\n",
      "\n",
      "#Variable Declaration\n",
      "P=8.9*1e-3;#resistivity of doped sillicon\n",
      "Rh=3.6*1e-4;#hall coefficient\n",
      "e=1.6*1e-19;#charge of electron\n",
      "\n",
      "#Calculations&Results\n",
      "ne=(3*pi)/(8*Rh*e);#carrier density of electron\n",
      "print 'carrier density of electrons = %.3f*10^22 m^-3'%(ne/1e22)\n",
      "ue=1./(P*ne*e);#mobility of electon\n",
      "print 'mobility of charges = %.4f m^2*V^-1*s^-1'%ue\n"
     ],
     "language": "python",
     "metadata": {},
     "outputs": [
      {
       "output_type": "stream",
       "stream": "stdout",
       "text": [
        "carrier density of electrons = 2.045*10^22 m^-3\n",
        "mobility of charges = 0.0343 m^2*V^-1*s^-1\n"
       ]
      }
     ],
     "prompt_number": 12
    }
   ],
   "metadata": {}
  }
 ]
}