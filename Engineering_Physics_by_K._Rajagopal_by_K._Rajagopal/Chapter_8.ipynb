{
 "metadata": {
  "name": ""
 },
 "nbformat": 3,
 "nbformat_minor": 0,
 "worksheets": [
  {
   "cells": [
    {
     "cell_type": "heading",
     "level": 1,
     "metadata": {},
     "source": [
      "Chapter 8:Conducting Materials"
     ]
    },
    {
     "cell_type": "heading",
     "level": 2,
     "metadata": {},
     "source": [
      "Example 8.1, Page 266"
     ]
    },
    {
     "cell_type": "code",
     "collapsed": false,
     "input": [
      "#Variable declaration\n",
      "n = 5.8*1e28; # Electrons density in electrons per cube meter\n",
      "rho = 1.58*1e-8; #Resistivity of wire in ohm meter\n",
      "m = 9.1*1e-31; # Mass of electron \n",
      "e = 1.6*1e-19; # Charge of electron in coloumb\n",
      "E = 1e2; # Electric field\n",
      "\n",
      "#Calculations\n",
      "t = round((m/(rho*n*e**2))/1e-14);\n",
      "u = (e*t*10**-14)/m;\n",
      "v = u*E; \n",
      "\n",
      "#Results\n",
      "print 'The relaxation time is ',t,'*10^-14 s'\n",
      "print 'The mobility of electrons ',round(u/1e-3,2),'*10^-3 m^2/volt sec'\n",
      "print 'The average drift velocity for an electric field of 1V/cm is ',round(v,3),'m/s'\n"
     ],
     "language": "python",
     "metadata": {},
     "outputs": [
      {
       "output_type": "stream",
       "stream": "stdout",
       "text": [
        "The relaxation time is  4.0 *10^-14 s\n",
        "The mobility of electrons  7.03 *10^-3 m^2/volt sec\n",
        "The average drift velocity for an electric field of 1V/cm is  0.703 m/s\n"
       ]
      }
     ],
     "prompt_number": 1
    },
    {
     "cell_type": "heading",
     "level": 2,
     "metadata": {},
     "source": [
      "Example 8.2, Page 267"
     ]
    },
    {
     "cell_type": "code",
     "collapsed": false,
     "input": [
      "from math import sqrt\n",
      "\n",
      "#Variable declaration\n",
      "e = 1.6*1e-19; # Charge on electron in coulumb\n",
      "m = 9.1*1e-31; # Mass of electron in kg \n",
      "rho =  1.54*1e-8; #Resistivity of material at room temperature in ohm . meter\n",
      "n = 5.8*1e28; # Number of electrons per cubic meter\n",
      "Ef = 5.5; # The fermi energy of the conductor in eV\n",
      "\n",
      "#Calculations\n",
      "vf = sqrt((2*Ef*e)/m);\n",
      "t = (m/(n*e**2*rho));\n",
      "MFP = vf*t;\n",
      "\n",
      "#Results\n",
      "print 'Velocity of electron is',round(vf/1e6,2),'*10^6 m/s'\n",
      "print 'Mean free path of electron is',round(MFP/1e-8,2),'*10^-8 m'\n"
     ],
     "language": "python",
     "metadata": {},
     "outputs": [
      {
       "output_type": "stream",
       "stream": "stdout",
       "text": [
        "Velocity of electron is 1.39 *10^6 m/s\n",
        "Mean free path of electron is 5.53 *10^-8 m\n"
       ]
      }
     ],
     "prompt_number": 2
    },
    {
     "cell_type": "heading",
     "level": 2,
     "metadata": {},
     "source": [
      "Example 8.3, Page 267"
     ]
    },
    {
     "cell_type": "code",
     "collapsed": false,
     "input": [
      "#Variable declaration\n",
      "m = 9.1*1e-31; #Mass of electron in kg\n",
      "e = 1.6*1e-19; # Charge on electron in coulumb\n",
      "t = 3*1e-14; # Relaxation time in seconds\n",
      "n = 5.8*1e28; #Number of electrons in cubic meter\n",
      "\n",
      "#Calculations\n",
      "rho =m/(n*t*e*e);#The resistivity of metal \n",
      "u = 1/(n*e*rho);#The mobility of electron \n",
      "\n",
      "#Result\n",
      "print 'The resistivity of metal is',round(rho/1e-8,2),'*10^-8 Ohm.meter'  #incorrect answer in textbook\n",
      "print 'The mobility of electron is',round(u/1e-3,2),'*10^-3 sqaure meter per volt.second' \n",
      "\n"
     ],
     "language": "python",
     "metadata": {},
     "outputs": [
      {
       "output_type": "stream",
       "stream": "stdout",
       "text": [
        "The resistivity of metal is 2.04 *10^-8 Ohm.meter\n",
        "The mobility of electron is 5.27 *10^-3 sqaure meter per volt.second\n"
       ]
      }
     ],
     "prompt_number": 3
    },
    {
     "cell_type": "heading",
     "level": 2,
     "metadata": {},
     "source": [
      "Example 8.4, Page 268"
     ]
    },
    {
     "cell_type": "code",
     "collapsed": false,
     "input": [
      "from math import sqrt\n",
      "\n",
      "#Variable declaration\n",
      "e = 1.6*1e-19; # Charge of electrons in coloumbs\n",
      "m = 9.1*1e-31; # Mass of electrons in Kg\n",
      "Ef = 7*e ; #Fermi energy in electrons volt\n",
      "t = 3*1e-14; # Relaxation time in seconds\n",
      "\n",
      "#Calculations\n",
      "vf = sqrt(Ef*2/m);\n",
      "lamda = vf*t;#The mean free path of electrons \n",
      "\n",
      "#Result\n",
      "print 'The mean free path of electrons is',round(lamda/1e-10),'A'\n"
     ],
     "language": "python",
     "metadata": {},
     "outputs": [
      {
       "output_type": "stream",
       "stream": "stdout",
       "text": [
        "The mean free path of electrons is 471.0 A\n"
       ]
      }
     ],
     "prompt_number": 4
    },
    {
     "cell_type": "heading",
     "level": 2,
     "metadata": {},
     "source": [
      "Example 8.5, Page 268"
     ]
    },
    {
     "cell_type": "code",
     "collapsed": false,
     "input": [
      "#Variable declaration\n",
      "rhoC = 1.65*1e-8; # Electrical resistivity of cpooer in ohm meter\n",
      "rhoN = 14*1e-8; # Electrical resistivity of Nickel in ohm meter\n",
      "T = 300; # Room temperature in kelvin\n",
      "\n",
      "#Calculations\n",
      "KCu =(2.45*1e-8*T)/rhoC;#Thermal conductivity of Cu\n",
      "KNi =2.45*1e-8*T/rhoN;#Thermal conductivity of Ni\n",
      "\n",
      "#Results\n",
      "print 'Thermal conductivity of Cu is ',round(KCu),'W/(m*degree)' #incorrect answer in textbook\n",
      "print 'Thermal conductivity of Ni is ',KNi,'W/(m*degree)'\n",
      "\n"
     ],
     "language": "python",
     "metadata": {},
     "outputs": [
      {
       "output_type": "stream",
       "stream": "stdout",
       "text": [
        "Thermal conductivity of Cu is  445.0 W/(m*degree)\n",
        "Thermal conductivity of Ni is  52.5 W/(m*degree)\n"
       ]
      }
     ],
     "prompt_number": 5
    }
   ],
   "metadata": {}
  }
 ]
}