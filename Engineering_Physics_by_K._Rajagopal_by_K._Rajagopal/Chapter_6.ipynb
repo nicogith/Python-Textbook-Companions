{
 "metadata": {
  "name": ""
 },
 "nbformat": 3,
 "nbformat_minor": 0,
 "worksheets": [
  {
   "cells": [
    {
     "cell_type": "heading",
     "level": 1,
     "metadata": {},
     "source": [
      "Chapter 6: Lasers"
     ]
    },
    {
     "cell_type": "heading",
     "level": 2,
     "metadata": {},
     "source": [
      "Example 6.1, Page 170"
     ]
    },
    {
     "cell_type": "code",
     "collapsed": false,
     "input": [
      "#Variable Declaration\n",
      "D=4*1e8;#distance between earth and moon in m\n",
      "lamda=16000.*1e-10;#wavelength in meters\n",
      "d=1e-3;#aperture in meter\n",
      "\n",
      "#Calculations & Result\n",
      "th=lamda/d;#angular speed\n",
      "print 'angular speed is=',th,'rad'\n",
      "aos=(D*th)**2;#area of spread \n",
      "print 'area of spread is=',aos,'m^2'\n",
      "#Incorrect answer in the textbook\n"
     ],
     "language": "python",
     "metadata": {},
     "outputs": [
      {
       "output_type": "stream",
       "stream": "stdout",
       "text": [
        "angular speed is= 0.0016 rad\n",
        "area of spread is= 4.096e+11 m^2\n"
       ]
      }
     ],
     "prompt_number": 1
    },
    {
     "cell_type": "heading",
     "level": 2,
     "metadata": {},
     "source": [
      "Example 6.2, Page 170"
     ]
    },
    {
     "cell_type": "code",
     "collapsed": false,
     "input": [
      "#Variable Declaration\n",
      "a1=2*1e-3;#distance from the laser\n",
      "a2=3*1e-3;#distance from the laser\n",
      "d1=2;#output beam spot diameter\n",
      "d2=4;#output beam spot diameter\n",
      "\n",
      "#Calculation\n",
      "th=(a2-a1)/(2*(d2-d1));#angle of divergence\n",
      "\n",
      "#Result\n",
      "print 'angle of divergence',th/1e-3,'*10^-3 rad'\n"
     ],
     "language": "python",
     "metadata": {},
     "outputs": [
      {
       "output_type": "stream",
       "stream": "stdout",
       "text": [
        "angle of divergence 0.25 *10^-3 rad\n"
       ]
      }
     ],
     "prompt_number": 2
    },
    {
     "cell_type": "heading",
     "level": 2,
     "metadata": {},
     "source": [
      "Example 6.3, Page 171"
     ]
    },
    {
     "cell_type": "code",
     "collapsed": false,
     "input": [
      "#Variable Declaration\n",
      "D=0.1;#focal length of lens\n",
      "lamda=14400*1e-10;#wavelength in meters\n",
      "p=100*1e-3;#power of laser beam\n",
      "d=10*1e-3;#aperture in meter\n",
      "\n",
      "#Calculations & Results\n",
      "th=lamda/d;#angular speed\n",
      "print 'angular speed is=',th/1e-4,'*10^-4 rad'\n",
      "aos=(D*th)**2;#area of spread \n",
      "print 'area of spread is=',aos/1e-10,'*10^-10 m^2'\n",
      "I=p/aos;#'intensity\n",
      "print 'intensity is=',round(I/1e7,1),'*10^7 W*m^-2'\n",
      "\n"
     ],
     "language": "python",
     "metadata": {},
     "outputs": [
      {
       "output_type": "stream",
       "stream": "stdout",
       "text": [
        "angular speed is= 1.44 *10^-4 rad\n",
        "area of spread is= 2.0736 *10^-10 m^2\n",
        "intensity is= 48.2 *10^7 W*m^-2\n"
       ]
      }
     ],
     "prompt_number": 3
    }
   ],
   "metadata": {}
  }
 ]
}