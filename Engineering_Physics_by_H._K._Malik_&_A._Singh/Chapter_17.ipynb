{
 "metadata": {
  "name": ""
 },
 "nbformat": 3,
 "nbformat_minor": 0,
 "worksheets": [
  {
   "cells": [
    {
     "cell_type": "heading",
     "level": 1,
     "metadata": {},
     "source": [
      "Chapter 17: Band Theory of Solids"
     ]
    },
    {
     "cell_type": "heading",
     "level": 2,
     "metadata": {},
     "source": [
      "Example 17.1, Page 17.18"
     ]
    },
    {
     "cell_type": "code",
     "collapsed": false,
     "input": [
      " \n",
      "# Given \n",
      "a = 3e-10 # side of square lattice in m\n",
      "h = 6.62e-34 # Planck constant in J sec\n",
      "e = 1.6e-19 # charge on an electron in C\n",
      "m = 9.1e-31 # mass of electron in kg\n",
      "\n",
      "#Calculations\n",
      "p = (h / (2 * a))\n",
      "E = (p**2 / (2 * m)) * (1. / e)\n",
      "\n",
      "#Result\n",
      "print \"Electron momentum value at the sides of first Brilloin zone is %.1e kg-m/sec\\nEnergy of free electron is %.1f eV\"%(p,E)"
     ],
     "language": "python",
     "metadata": {},
     "outputs": [
      {
       "output_type": "stream",
       "stream": "stdout",
       "text": [
        "Electron momentum value at the sides of first Brilloin zone is 1.1e-24 kg-m/sec\n",
        "Energy of free electron is 4.2 eV\n"
       ]
      }
     ],
     "prompt_number": 2
    },
    {
     "cell_type": "heading",
     "level": 2,
     "metadata": {},
     "source": [
      "Example 17.2, Page 17.19"
     ]
    },
    {
     "cell_type": "code",
     "collapsed": false,
     "input": [
      "from math import log,pi\n",
      "\n",
      "# Given \n",
      "n = 5e22 # no. of atoms per m^3\n",
      "t = 300 # room temperature in K\n",
      "k = 1.37e-23 # Boltzmann's constant in J/K\n",
      "h = 6.62e-34 # Planck constant in J sec\n",
      "e = 1.6e-19 # charge on an electron in C\n",
      "m = 9.1e-31 # mass of electron in kg\n",
      "\n",
      "#Calculations\n",
      "d = (k * t) * log(n * h**3 / (2 * (2 * pi * m * k * t)**(3./2)))\n",
      "\n",
      "#Result\n",
      "print \"Position of fermi level is %.3f eV\"%(-d/e)\n",
      "#Answer varies due to round-off errors"
     ],
     "language": "python",
     "metadata": {},
     "outputs": [
      {
       "output_type": "stream",
       "stream": "stdout",
       "text": [
        "Position of fermi level is 0.159 eV\n"
       ]
      }
     ],
     "prompt_number": 3
    },
    {
     "cell_type": "heading",
     "level": 2,
     "metadata": {},
     "source": [
      "Example 17.3, Page 17.19"
     ]
    },
    {
     "cell_type": "code",
     "collapsed": false,
     "input": [
      " \n",
      "# Given \n",
      "E = 0.3 # Fermi energy in eV\n",
      "T = 330 # temperature in K\n",
      "t = 300 # room temperature in K\n",
      "k = 1.37e-23 # Boltzmann's constant in J/K\n",
      "h = 6.62e-34 # Planck constant in J sec\n",
      "e = 1.6e-19 # charge on an electron in C\n",
      "m = 9.1e-31 # mass of electron in kg\n",
      "\n",
      "#Calculations\n",
      "d = (T / t) * (E)\n",
      "\n",
      "print \"New position of fermi level is %.2f eV\"%d"
     ],
     "language": "python",
     "metadata": {},
     "outputs": [
      {
       "output_type": "stream",
       "stream": "stdout",
       "text": [
        "New position of fermi level is 0.30 eV\n"
       ]
      }
     ],
     "prompt_number": 4
    },
    {
     "cell_type": "heading",
     "level": 2,
     "metadata": {},
     "source": [
      "Example 17.4, Page 17.20"
     ]
    },
    {
     "cell_type": "code",
     "collapsed": false,
     "input": [
      "from math import *\n",
      "\n",
      "# Given\n",
      "E = 0.7 # band gap for semiconductor in eV\n",
      "t = 300 # room temperature in K\n",
      "k = 1.38e-23 # Boltzmann's constant in J/K\n",
      "h = 6.62e-34 # Planck constant in J sec\n",
      "e = 1.6e-19 # charge on an electron in C\n",
      "m = 9.1e-31 # mass of electron in kg\n",
      "\n",
      "#Calculations\n",
      "n = 2 * ((2 * pi * k * t * m) / h**2)**(3./2) * exp(-(E * e / (2 * k * t)))\n",
      "\n",
      "#Result\n",
      "print \"Density of holes and electron is %.1e per m^3\"%n"
     ],
     "language": "python",
     "metadata": {},
     "outputs": [
      {
       "output_type": "stream",
       "stream": "stdout",
       "text": [
        "Density of holes and electron is 3.4e+19 per m^3\n"
       ]
      }
     ],
     "prompt_number": 5
    },
    {
     "cell_type": "heading",
     "level": 2,
     "metadata": {},
     "source": [
      "Example 17.5, Page 17.20"
     ]
    },
    {
     "cell_type": "code",
     "collapsed": false,
     "input": [
      " \n",
      "# Given \n",
      "n = 5e28 # no. of atoms in per m^3\n",
      "e = 1.6e-19 # charge on an electron in C\n",
      "\n",
      "#Calculations\n",
      "R = -(1 / (n * e))\n",
      "\n",
      "#Resilt\n",
      "print \"Hall coefficient is %.3e m^3/C\"%R"
     ],
     "language": "python",
     "metadata": {},
     "outputs": [
      {
       "output_type": "stream",
       "stream": "stdout",
       "text": [
        "Hall coefficient is -1.250e-10 m^3/C\n"
       ]
      }
     ],
     "prompt_number": 6
    },
    {
     "cell_type": "heading",
     "level": 2,
     "metadata": {},
     "source": [
      "Example 17.6, Page 17.20"
     ]
    },
    {
     "cell_type": "code",
     "collapsed": false,
     "input": [
      " \n",
      "# Given \n",
      "a = 4.28e-10 # cell side of Na in m\n",
      "e = 1.6e-19 # charge on an electron in C\n",
      "\n",
      "#Calculations\n",
      "n = (2 / a**3)\n",
      "R = -(1 / (n * e))\n",
      "\n",
      "#Result\n",
      "print \"Hall coefficient is %.3e m^3/C\"%R"
     ],
     "language": "python",
     "metadata": {},
     "outputs": [
      {
       "output_type": "stream",
       "stream": "stdout",
       "text": [
        "Hall coefficient is -2.450e-10 m^3/C\n"
       ]
      }
     ],
     "prompt_number": 7
    }
   ],
   "metadata": {}
  }
 ]
}