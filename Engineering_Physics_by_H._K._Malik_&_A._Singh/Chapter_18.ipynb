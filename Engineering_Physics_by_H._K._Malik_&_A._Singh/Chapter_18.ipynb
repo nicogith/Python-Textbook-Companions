{
 "metadata": {
  "name": ""
 },
 "nbformat": 3,
 "nbformat_minor": 0,
 "worksheets": [
  {
   "cells": [
    {
     "cell_type": "heading",
     "level": 1,
     "metadata": {},
     "source": [
      "Chapter 18: Magnetic Properties of Solids"
     ]
    },
    {
     "cell_type": "heading",
     "level": 2,
     "metadata": {},
     "source": [
      "Example 18.1, Page 18.21"
     ]
    },
    {
     "cell_type": "code",
     "collapsed": false,
     "input": [
      "from math import *\n",
      "\n",
      "# Given \n",
      "r = 0.53e-10 # radius of orbit in m\n",
      "f = 6.6e15 # frequency of revolution in Hz\n",
      "h = 6.6e-34 # Planck constant in J sec\n",
      "e = 1.6e-19 # charge on an electron in C\n",
      "m = 9.1e-31 # mass of electron in kg\n",
      "\n",
      "#Calculations\n",
      "M = e * f * pi * r**2\n",
      "mu = (e * h) / (4 * pi * m) \n",
      "\n",
      "#Result\n",
      "print \"Magnetic moment is %.3e Am^2\\nBohr magneton is %.2e J/T\"%(M,mu)"
     ],
     "language": "python",
     "metadata": {},
     "outputs": [
      {
       "output_type": "stream",
       "stream": "stdout",
       "text": [
        "Magnetic moment is 9.319e-24 Am^2\n",
        "Bohr magneton is 9.23e-24 J/T\n"
       ]
      }
     ],
     "prompt_number": 1
    },
    {
     "cell_type": "heading",
     "level": 2,
     "metadata": {},
     "source": [
      "Example 18.2, Page 18.21"
     ]
    },
    {
     "cell_type": "code",
     "collapsed": false,
     "input": [
      "from math import *\n",
      "\n",
      "# Given \n",
      "X = -4.2e-6 # magnetic susceptibility\n",
      "H = 1.19e5 # magnetic field in A/m\n",
      "mu_ = 4 * pi * 1e-7 # magnetic permeability of space\n",
      "\n",
      "#Calculations\n",
      "I = X * H\n",
      "B = mu_ * (H + I)\n",
      "mur = (1 + I/H)\n",
      "\n",
      "#Results\n",
      "print \"Magnetisation is %.2f A/m\\nFlux density is %.3f T\\nRelative permeability is %.2f\"%(I,B,mur)"
     ],
     "language": "python",
     "metadata": {},
     "outputs": [
      {
       "output_type": "stream",
       "stream": "stdout",
       "text": [
        "Magnetisation is -0.50 A/m\n",
        "Flux density is 0.150 T\n",
        "Relative permeability is 1.00\n"
       ]
      }
     ],
     "prompt_number": 9
    },
    {
     "cell_type": "heading",
     "level": 2,
     "metadata": {},
     "source": [
      "Example 18.3, Page 18.22"
     ]
    },
    {
     "cell_type": "code",
     "collapsed": false,
     "input": [
      " \n",
      "# Given \n",
      "X = 1.2e-5 # magnetic susceptibility of magnesium\n",
      "\n",
      "#Calculations\n",
      "p = 100 * X\n",
      "\n",
      "#Result\n",
      "print \"Percentage increase in magnetic induction is %.4f percent\"%p"
     ],
     "language": "python",
     "metadata": {},
     "outputs": [
      {
       "output_type": "stream",
       "stream": "stdout",
       "text": [
        "Percentage increase in magnetic induction is 0.0012 percent\n"
       ]
      }
     ],
     "prompt_number": 10
    },
    {
     "cell_type": "heading",
     "level": 2,
     "metadata": {},
     "source": [
      "Example 18.4, Page 18.22"
     ]
    },
    {
     "cell_type": "code",
     "collapsed": false,
     "input": [
      "from math import *\n",
      "\n",
      "# Given \n",
      "X = -0.4e-5 # magnetic susceptibility of material\n",
      "H = 1e4 # magnetic field in A/m\n",
      "mu_ = 4 * pi * 1e-7 # magnetic permittivity of space\n",
      "\n",
      "#Calculations\n",
      "I = X * H\n",
      "B = mu_ * (H + I)\n",
      "\n",
      "#Result\n",
      "print \"Magnetisation is %.2f A/m\\nMagnetic flux density is %f T\"%(I,B)"
     ],
     "language": "python",
     "metadata": {},
     "outputs": [
      {
       "output_type": "stream",
       "stream": "stdout",
       "text": [
        "Magnetisation is -0.04 A/m\n",
        "Magnetic flux density is 0.012566 T\n"
       ]
      }
     ],
     "prompt_number": 16
    },
    {
     "cell_type": "heading",
     "level": 2,
     "metadata": {},
     "source": [
      "Example 18.5, Page 18.23"
     ]
    },
    {
     "cell_type": "code",
     "collapsed": false,
     "input": [
      "from math import *\n",
      "\n",
      "# Given \n",
      "X = 2.3e-5 # magnetic susceptibility of aluminium\n",
      "mu_ = 4 * pi * 1e-7 # magnetic permeability of space\n",
      "\n",
      "#Calculations\n",
      "mur = 1 + X\n",
      "mu = mu_ * mur\n",
      "\n",
      "#Result\n",
      "print \"Permeability of aluminium is %.2e N/A^2\"%mu"
     ],
     "language": "python",
     "metadata": {},
     "outputs": [
      {
       "output_type": "stream",
       "stream": "stdout",
       "text": [
        "Permeability of aluminium is 1.26e-06 N/A^2\n"
       ]
      }
     ],
     "prompt_number": 17
    },
    {
     "cell_type": "heading",
     "level": 2,
     "metadata": {},
     "source": [
      "Example 18.6, Page 18.23"
     ]
    },
    {
     "cell_type": "code",
     "collapsed": false,
     "input": [
      "from math import pi\n",
      "\n",
      "# Given \n",
      "X = 9.4e-2 # magnetic susceptibility\n",
      "mu_ = 4 * pi * 1e-7 # magnetic permeability of space\n",
      "\n",
      "#Calculations\n",
      "mu_r = 1 + X\n",
      "mu = mu_ * mu_r\n",
      "\n",
      "#Results\n",
      "print \"Absolute permeability is %.2e N/A^2\\nRelative permeability is %.3f\"%(mu,mu_r)"
     ],
     "language": "python",
     "metadata": {},
     "outputs": [
      {
       "output_type": "stream",
       "stream": "stdout",
       "text": [
        "Absolute permeability is 1.37e-06 N/A^2\n",
        "Relative permeability is 1.094\n"
       ]
      }
     ],
     "prompt_number": 18
    },
    {
     "cell_type": "heading",
     "level": 2,
     "metadata": {},
     "source": [
      "Example 18.7, Page 18.23"
     ]
    },
    {
     "cell_type": "code",
     "collapsed": false,
     "input": [
      "from math import *\n",
      "\n",
      "# Given \n",
      "mu = 0.126 # maximum value of the permeability in N/A^2\n",
      "mu_ = 4 * pi * 1e-7 # magnetic permeability of space\n",
      "\n",
      "#Calculations\n",
      "mu_r = mu / mu_\n",
      "X = mu_r - 1\n",
      "\n",
      "#Results\n",
      "print \"Magnetic susceptibility is %.f\\nRelative permeability is %e\"%(X,mu_r)\n",
      "#Answers differ due to rounding off values"
     ],
     "language": "python",
     "metadata": {},
     "outputs": [
      {
       "output_type": "stream",
       "stream": "stdout",
       "text": [
        "Magnetic susceptibility is 100267\n",
        "Relative permeability is 1.002676e+05\n"
       ]
      }
     ],
     "prompt_number": 19
    },
    {
     "cell_type": "heading",
     "level": 2,
     "metadata": {},
     "source": [
      "Example 18.8, Page 18.24"
     ]
    },
    {
     "cell_type": "code",
     "collapsed": false,
     "input": [
      "from math import pi\n",
      "\n",
      "# Given \n",
      "r = 0.6e-10 # radius of the atom\n",
      "N = 28e26 # no. of electron in per m^3\n",
      "mu_ = 4 * pi * 1e-7 # magnetic permeability of space\n",
      "Z = 2 # atomic no. of helium\n",
      "m = 9.1e-31 # mass of an electron in kg\n",
      "e = 1.6e-19 # charge on an electron in C\n",
      "\n",
      "#Calculations\n",
      "Chi = -(mu_ * Z * N * r**2 * e**2) / (6 * m)\n",
      "\n",
      "#Result\n",
      "print \"Diamagnetic susceptibility is %.3e\"%Chi"
     ],
     "language": "python",
     "metadata": {},
     "outputs": [
      {
       "output_type": "stream",
       "stream": "stdout",
       "text": [
        "Diamagnetic susceptibility is -1.188e-07\n"
       ]
      }
     ],
     "prompt_number": 20
    },
    {
     "cell_type": "heading",
     "level": 2,
     "metadata": {},
     "source": [
      "Example 18.9, Page 18.24"
     ]
    },
    {
     "cell_type": "code",
     "collapsed": false,
     "input": [
      "from math import pi\n",
      "\n",
      "# Given \n",
      "H = 1e3 # magnetisation field in A/m\n",
      "phi = 2e-5 # magnetic flux in Weber\n",
      "a = 0.2e-4 # area of cross section in m^2\n",
      "mu_ = 4 * pi * 1e-7 # magnetic permeability of space\n",
      "\n",
      "#Calculations\n",
      "B = phi / a\n",
      "mu = B / H\n",
      "X = mu / mu_ - 1\n",
      "\n",
      "#Results\n",
      "print \"Permeability is %.e N/A^2\\nSusceptibility is %.3f\"%(mu,X)"
     ],
     "language": "python",
     "metadata": {},
     "outputs": [
      {
       "output_type": "stream",
       "stream": "stdout",
       "text": [
        "Permeability is 1e-03 N/A^2\n",
        "Susceptibility is 794.775\n"
       ]
      }
     ],
     "prompt_number": 21
    },
    {
     "cell_type": "heading",
     "level": 2,
     "metadata": {},
     "source": [
      "Example 18.10, Page 18.24"
     ]
    },
    {
     "cell_type": "code",
     "collapsed": false,
     "input": [
      " \n",
      "# Given \n",
      "l = 1 # length of iron rod in m\n",
      "a = 4e-4 # area in m^2\n",
      "mu = 50e-4 # permeability of iron in H/m\n",
      "Phi = 4e-4 # magnetic flux in Weber\n",
      "\n",
      "#Calculations\n",
      "B = Phi / a\n",
      "NI = B / mu\n",
      "\n",
      "#Result\n",
      "print \"Number of ampere turns is %d A/m\"%NI"
     ],
     "language": "python",
     "metadata": {},
     "outputs": [
      {
       "output_type": "stream",
       "stream": "stdout",
       "text": [
        "Number of ampere turns is 200 A/m\n"
       ]
      }
     ],
     "prompt_number": 10
    },
    {
     "cell_type": "heading",
     "level": 2,
     "metadata": {},
     "source": [
      "Example 18.11, Page 18.25"
     ]
    },
    {
     "cell_type": "code",
     "collapsed": false,
     "input": [
      "from math import *\n",
      "\n",
      "# Given \n",
      "n = 200 # no. of turns \n",
      "l = 0.5 # the mean length of iron wire in m\n",
      "phi = 4e-4 # magnetic flux in Weber\n",
      "a = 4e-4 # area of cross section in m^2\n",
      "mu = 6.5e-4 # permeability of iron in wb/Am\n",
      "mu_ = 4 * pi * 1e-7 # magnetic permeability of space\n",
      "\n",
      "#Calculations\n",
      "B = phi / a\n",
      "N = n / l\n",
      "I = B / (mu * N)\n",
      "\n",
      "#Result\n",
      "print \"Current through the winding is %.2f A\"%I"
     ],
     "language": "python",
     "metadata": {},
     "outputs": [
      {
       "output_type": "stream",
       "stream": "stdout",
       "text": [
        "Current through the winding is 3.85 A\n"
       ]
      }
     ],
     "prompt_number": 22
    },
    {
     "cell_type": "heading",
     "level": 2,
     "metadata": {},
     "source": [
      "Example 18.12, Page 18.25"
     ]
    },
    {
     "cell_type": "code",
     "collapsed": false,
     "input": [
      "from math import pi\n",
      "\n",
      "# Given \n",
      "X = -5.6e-6 # magnetic susceptibility of material\n",
      "a = 2.55e-10 # lattice constant in m\n",
      "H = 1e4 # magnetic field in A/m\n",
      "mu_ = 4 * pi * 1e-7 # magnetic permittivity of space\n",
      "m = 9.1e-31 # mass of electron in kg\n",
      "e = 1.6e-19 # charge in an electron in C\n",
      "\n",
      "#Calculations\n",
      "N = 2 / a**3\n",
      "z = 1 \n",
      "R = ((-X * 6 * m) / (mu_ * z * e**2 * N))**(1./2)\n",
      "\n",
      "#Result\n",
      "print \"Radius of  atom is %.2f A\"%(R * 1e10)"
     ],
     "language": "python",
     "metadata": {},
     "outputs": [
      {
       "output_type": "stream",
       "stream": "stdout",
       "text": [
        "Radius of  atom is 0.89 A\n"
       ]
      }
     ],
     "prompt_number": 23
    },
    {
     "cell_type": "heading",
     "level": 2,
     "metadata": {},
     "source": [
      "Example 18.13, Page 18.25"
     ]
    },
    {
     "cell_type": "code",
     "collapsed": false,
     "input": [
      "from math import pi\n",
      "\n",
      "# Given \n",
      "N = 6.5e25 # no. of atom per m^3\n",
      "T = 300 # room temperature in K\n",
      "mu_ = 4 * pi * 1e-7 # magnetic permittivity of space\n",
      "k = 1.38e-23 # Boltzmann's constant in J/K\n",
      "m = 9.1e-31 # mass of electron in kg\n",
      "e = 1.6e-19 # charge in an electron in C\n",
      "h = 6.62e-34 # Planck constant in J sec\n",
      "\n",
      "#Calculations\n",
      "M = (e * h) / (4 * pi * m)\n",
      "X = (mu_ * N * M**2) / (3 * k * T)\n",
      "\n",
      "#Result\n",
      "print \"Susceptibility is %.3e\"%X"
     ],
     "language": "python",
     "metadata": {},
     "outputs": [
      {
       "output_type": "stream",
       "stream": "stdout",
       "text": [
        "Susceptibility is 5.642e-07\n"
       ]
      }
     ],
     "prompt_number": 24
    },
    {
     "cell_type": "heading",
     "level": 2,
     "metadata": {},
     "source": [
      "Example 18.14, Page 18.26"
     ]
    },
    {
     "cell_type": "code",
     "collapsed": false,
     "input": [
      "from math import *\n",
      "\n",
      "# Given \n",
      "w = 168.5 # molecular weight \n",
      "d = 4370 # density of material in kg/m^3\n",
      "H = 2e5 # magnetic field in A/m\n",
      "T = 300 # room temperature in K\n",
      "mu_ = 4 * pi * 1e-7 # magnetic permittivity of space]\n",
      "NA = 6.02e26 # Avogadro no. in per kg\n",
      "mu_b = 9.24e-24 # Bohr magnetons in Am^2\n",
      "k = 1.38e-23 # Boltzmann's constant in J/K\n",
      "\n",
      "#Calculations\n",
      "N = d * NA / w\n",
      "X = (mu_ * N * (2 * mu_b)**2) / (3 * k * T)\n",
      "I = X * H\n",
      "\n",
      "#Result\n",
      "print \"Magnetisation is %.2f A/m\"%I"
     ],
     "language": "python",
     "metadata": {},
     "outputs": [
      {
       "output_type": "stream",
       "stream": "stdout",
       "text": [
        "Magnetisation is 107.89 A/m\n"
       ]
      }
     ],
     "prompt_number": 25
    },
    {
     "cell_type": "heading",
     "level": 2,
     "metadata": {},
     "source": [
      "Example 18.15, Page 18.26"
     ]
    },
    {
     "cell_type": "code",
     "collapsed": false,
     "input": [
      " \n",
      "# Given that\n",
      "A = 2500 # area of hysteresis loop \n",
      "m = 10000 # weight in kg\n",
      "d = 7.5 # density of material in g/cm^3\n",
      "f = 50 # frequency in Hz\n",
      "\n",
      "#Calculations\n",
      "E = f * A * 3600\n",
      "V = m / d\n",
      "L = E * V\n",
      "\n",
      "#Result\n",
      "print \"Total loss of energy per hour is %.e ergs\"%L"
     ],
     "language": "python",
     "metadata": {},
     "outputs": [
      {
       "output_type": "stream",
       "stream": "stdout",
       "text": [
        "Total loss of energy per hour is 6e+11 ergs\n"
       ]
      }
     ],
     "prompt_number": 26
    },
    {
     "cell_type": "heading",
     "level": 2,
     "metadata": {},
     "source": [
      "Example 18.16, Page 18.27"
     ]
    },
    {
     "cell_type": "code",
     "collapsed": false,
     "input": [
      " \n",
      "# Given \n",
      "H = 5e3 # coercivity in A/m\n",
      "l = 0.10 # length of solenoid in m\n",
      "n = 50 # no. of turns \n",
      "\n",
      "#Calculations\n",
      "N = n / l\n",
      "i = H / N\n",
      "\n",
      "#Result\n",
      "print \"Current in solenoid should be %d A\"%i"
     ],
     "language": "python",
     "metadata": {},
     "outputs": [
      {
       "output_type": "stream",
       "stream": "stdout",
       "text": [
        "Current in solenoid should be 10 A\n"
       ]
      }
     ],
     "prompt_number": 16
    },
    {
     "cell_type": "heading",
     "level": 2,
     "metadata": {},
     "source": [
      "Example 18.17, Page 18.27"
     ]
    },
    {
     "cell_type": "code",
     "collapsed": false,
     "input": [
      " \n",
      "# Given \n",
      "l = 0.50 # length of iron rod in m\n",
      "a = 4e-4 # area of cross section of rod in m^2\n",
      "mu = 65e-4 # permeability of iron in H/m\n",
      "fi = 4e-5 # flux in weber \n",
      "\n",
      "#Calculations\n",
      "B = fi / a\n",
      "H = B / mu\n",
      "N = H * l\n",
      "\n",
      "#Result\n",
      "print \"Number of turns are %.2f\"%N"
     ],
     "language": "python",
     "metadata": {},
     "outputs": [
      {
       "output_type": "stream",
       "stream": "stdout",
       "text": [
        "Number of turns are 7.69\n"
       ]
      }
     ],
     "prompt_number": 27
    },
    {
     "cell_type": "heading",
     "level": 2,
     "metadata": {},
     "source": [
      "Example 18.18, Page 18.27"
     ]
    },
    {
     "cell_type": "code",
     "collapsed": false,
     "input": [
      "from math import *\n",
      "\n",
      "# Given \n",
      "H = 600 # magnetic flux in A/m\n",
      "a = 0.2e-4 # area of cross section of rod in m^2\n",
      "phi = 2.4e-5 # flux in weber \n",
      "mu_ = 4*pi * 1e-7 # permeability of space in N/A^2\n",
      "\n",
      "#Calculations\n",
      "B = phi / a\n",
      "mu = B / H\n",
      "X = mu / mu_ - 1\n",
      "\n",
      "#Result\n",
      "print \"Permeability is %.3f N/A^2\\nSusceptibility is %.f\"%(mu,X)"
     ],
     "language": "python",
     "metadata": {},
     "outputs": [
      {
       "output_type": "stream",
       "stream": "stdout",
       "text": [
        "Permeability is 0.002 N/A^2\n",
        "Susceptibility is 1591\n"
       ]
      }
     ],
     "prompt_number": 28
    },
    {
     "cell_type": "heading",
     "level": 2,
     "metadata": {},
     "source": [
      "Example 18.19, Page 18.28"
     ]
    },
    {
     "cell_type": "code",
     "collapsed": false,
     "input": [
      "from math import *\n",
      "\n",
      "# Given \n",
      "X = 9.5e-9 # susceptibility of medium \n",
      "mu_ = 4*pi * 1e-7 # permeability of space in N/A^2\n",
      "\n",
      "#Calculations\n",
      "mu = mu_ * (1 + X)\n",
      "mu_r = mu / mu_\n",
      "\n",
      "#Result\n",
      "print \"Relative permeability is 1 + %.3e\"%(mu_r -1)"
     ],
     "language": "python",
     "metadata": {},
     "outputs": [
      {
       "output_type": "stream",
       "stream": "stdout",
       "text": [
        "Relative permeability is 1 + 9.500e-09\n"
       ]
      }
     ],
     "prompt_number": 32
    },
    {
     "cell_type": "heading",
     "level": 2,
     "metadata": {},
     "source": [
      "Example 18.20, Page 18.28"
     ]
    },
    {
     "cell_type": "code",
     "collapsed": false,
     "input": [
      " \n",
      "# Given \n",
      "a = 250. # area of the B-H loop in J/m^3\n",
      "f = 50. # frequency in Hz\n",
      "d = 7.5e3 # density of iron in kg/m^3\n",
      "m = 100. # mass of core in kg\n",
      "\n",
      "#Calculations\n",
      "V = m / d\n",
      "n = 3600 * f\n",
      "A = a * V * n\n",
      "\n",
      "\n",
      "#Result\n",
      "print \"Energy loss per hour is %.3e J\"%A\n",
      "#Answer varies due to rounding-off values"
     ],
     "language": "python",
     "metadata": {},
     "outputs": [
      {
       "output_type": "stream",
       "stream": "stdout",
       "text": [
        "Energy loss per hour is 6.000e+05 J\n"
       ]
      }
     ],
     "prompt_number": 37
    },
    {
     "cell_type": "heading",
     "level": 2,
     "metadata": {},
     "source": [
      "Example 18.21, Page 18.28"
     ]
    },
    {
     "cell_type": "code",
     "collapsed": false,
     "input": [
      " \n",
      "# Given \n",
      "B_max = 1.375 # maximum value of B in Wb/m^2\n",
      "a = 0.513 # area of the loop in cm^2\n",
      "k = 1000 # value of 1 cm on x axis in A/m\n",
      "k_ = 1 # value of 1 cm on y axis in Wb/m^2\n",
      "B = 1.375 # alternating magnetic flux density in Wb/m^2\n",
      "v = 1e-3 # volume of specimen in m^3\n",
      "f = 50 # frequency in Hz\n",
      "\n",
      "#Calculations\n",
      "K = a * k * k_\n",
      "L = K * v * f\n",
      "\n",
      "#Result\n",
      "print \"Hysteresis loss per sec is %.2f W\"%L"
     ],
     "language": "python",
     "metadata": {},
     "outputs": [
      {
       "output_type": "stream",
       "stream": "stdout",
       "text": [
        "Hysteresis loss per sec is 25.65 W\n"
       ]
      }
     ],
     "prompt_number": 38
    }
   ],
   "metadata": {}
  }
 ]
}