{
 "metadata": {
  "name": ""
 },
 "nbformat": 3,
 "nbformat_minor": 0,
 "worksheets": [
  {
   "cells": [
    {
     "cell_type": "heading",
     "level": 1,
     "metadata": {},
     "source": [
      "Chapter 2: Diffraction"
     ]
    },
    {
     "cell_type": "heading",
     "level": 2,
     "metadata": {},
     "source": [
      "Example 2.1, Page 2.38"
     ]
    },
    {
     "cell_type": "code",
     "collapsed": false,
     "input": [
      "from math import sqrt,pi\n",
      "\n",
      "# Given \n",
      "l = 5e-7 # wavelength of light in meter\n",
      "d = 1 # distance of wavefront received on the screen from the opening in meter\n",
      "n = 80 # no. of half period zone\n",
      "\n",
      "#Calculations\n",
      "Rn = sqrt(n * l * d)# calculation for radius of nth half period zone\n",
      "A = pi * d * l# calculation for area of half period zone\n",
      "\n",
      "#Result\n",
      "print(\"Radius of 80th half period zone = %.3f cm. \\nArea of half period zone = %.4f square cm.\"%(Rn*100,A*10000))"
     ],
     "language": "python",
     "metadata": {},
     "outputs": [
      {
       "output_type": "stream",
       "stream": "stdout",
       "text": [
        "Radius of 80th half period zone = 0.632 cm. \n",
        "Area of half period zone = 0.0157 square cm.\n"
       ]
      }
     ],
     "prompt_number": 26
    },
    {
     "cell_type": "heading",
     "level": 2,
     "metadata": {},
     "source": [
      "Example 2.2, Page 2.38"
     ]
    },
    {
     "cell_type": "code",
     "collapsed": false,
     "input": [
      "from math import sqrt\n",
      "\n",
      "# Given \n",
      "l = 6e-7 # wavelength of light in meter\n",
      "f = 0.6 # focal length of convex lens in meter\n",
      "n = 1 # no. of half period zone\n",
      "\n",
      "#Calculation\n",
      "Rn = sqrt(n * l * f)# calculation for radius of half period zone\n",
      "\n",
      "print(\"Radius of  half period zone = %.1f mm \"%(Rn*1000))"
     ],
     "language": "python",
     "metadata": {},
     "outputs": [
      {
       "output_type": "stream",
       "stream": "stdout",
       "text": [
        "Radius of  half period zone = 0.6 mm \n"
       ]
      }
     ],
     "prompt_number": 28
    },
    {
     "cell_type": "heading",
     "level": 2,
     "metadata": {},
     "source": [
      "Example 2.3, Page 2.38"
     ]
    },
    {
     "cell_type": "code",
     "collapsed": false,
     "input": [
      "from math import sqrt\n",
      "\n",
      "# Given \n",
      "l = 6e-7 # wavelength of light in meter\n",
      "f = 0.60  #focal length in m\n",
      "n = 1 # no. of half period zone\n",
      "\n",
      "#Calculation\n",
      "r1 = sqrt(f* l ) # because at maxima intensity is four time the individual intensity of light\n",
      "\n",
      "#Result\n",
      "print(\"Radius of 80th half period zone = %.4f mm. \"%(r1)) "
     ],
     "language": "python",
     "metadata": {},
     "outputs": [
      {
       "output_type": "stream",
       "stream": "stdout",
       "text": [
        "Radius of 80th half period zone = 0.0006 mm. \n"
       ]
      }
     ],
     "prompt_number": 2
    },
    {
     "cell_type": "heading",
     "level": 2,
     "metadata": {},
     "source": [
      "Example 2.4, Page 2.39"
     ]
    },
    {
     "cell_type": "code",
     "collapsed": false,
     "input": [
      "# Given \n",
      "l = 6e-7 # wavelength of light in meter\n",
      "d = 0.5 # distance of observation point from circular opening in meter\n",
      "r1 = 2e-3 # radius of circular opening in first case in meter\n",
      "r2 = 2e-2 # radius of circular opening in second case in meter \n",
      "\n",
      "#Calculation\n",
      "n1 = (r1**2) / (d * l) # calculation for no. of half period zone in first case \n",
      "n2 = (r2**2) / (d * l) # calculation for no. of half period zone in second case\n",
      "\n",
      "print(\"No. of half period zone in first case = %d \\nNo. of half period zone in second case = %d \"%(n1,n2))"
     ],
     "language": "python",
     "metadata": {},
     "outputs": [
      {
       "output_type": "stream",
       "stream": "stdout",
       "text": [
        "No. of half period zone in first case = 13 \n",
        "No. of half period zone in second case = 1333 \n"
       ]
      }
     ],
     "prompt_number": 9
    },
    {
     "cell_type": "heading",
     "level": 2,
     "metadata": {},
     "source": [
      "Example 2.5, Page 2.39"
     ]
    },
    {
     "cell_type": "code",
     "collapsed": false,
     "input": [
      "# Given \n",
      "l = 5e-7 # wavelength of light in meter\n",
      "d = 1e-3 # diameter of the first ring of zone plate in meter\n",
      "n = 1 # no. of half period zone\n",
      "\n",
      "#Calculation\n",
      "D = (d**2) / (4 * l * n) # calculation for distance of screen from opening\n",
      "\n",
      "#Result\n",
      "print(\"Distance of screen from opening = %.1f meter \"%D)"
     ],
     "language": "python",
     "metadata": {},
     "outputs": [
      {
       "output_type": "stream",
       "stream": "stdout",
       "text": [
        "Distance of screen from opening = 0.5 meter \n"
       ]
      }
     ],
     "prompt_number": 33
    },
    {
     "cell_type": "heading",
     "level": 2,
     "metadata": {},
     "source": [
      "Example 2.6, Page 2.40"
     ]
    },
    {
     "cell_type": "code",
     "collapsed": false,
     "input": [
      "from math import sqrt\n",
      "\n",
      "# Given \n",
      "l = 5.893e-7 # wavelength of light in meter\n",
      "f = 1 # focal-length of convex lens in meter\n",
      "n1 = 1 # no. of first half period zone\n",
      "n2 = 3 # no. of second half period zone\n",
      "n3 = 5 # no. of third half period zone\n",
      "\n",
      "#Calculations\n",
      "R1 = sqrt(n1 * l * f) # calculation for Radius of first half period zone\n",
      "R2 = sqrt(n2 * l * f) # calculation for Radius of second half period zone\n",
      "R3 = sqrt(n3 * l * f) # calculation for Radius of third half period zone\n",
      "\n",
      "#Result\n",
      "print(\"Radius of first ,second and third half period zone = %.3e, %.3e and %.3e meter respectively. \"%(R1,R2,R3))"
     ],
     "language": "python",
     "metadata": {},
     "outputs": [
      {
       "output_type": "stream",
       "stream": "stdout",
       "text": [
        "Radius of first ,second and third half period zone = 7.677e-04, 1.330e-03 and 1.717e-03 meter respectively. \n"
       ]
      }
     ],
     "prompt_number": 34
    },
    {
     "cell_type": "heading",
     "level": 2,
     "metadata": {},
     "source": [
      "Example 2.7, Page 2.40"
     ]
    },
    {
     "cell_type": "code",
     "collapsed": false,
     "input": [
      "from math import sqrt\n",
      "\n",
      "# Given \n",
      "l = 5e-7 # wavelength of light in meter\n",
      "f = 0.2 # focal length of convex lens in meter\n",
      "n = 10 # no. of half period zone\n",
      "\n",
      "#Calculation\n",
      "Rn = sqrt(n * l * f) # calculation for radius of 10th half period zone\n",
      "\n",
      "#Result\n",
      "print(\"Radius of 10th half period zone = %.1f mm. \"%(Rn*1000))"
     ],
     "language": "python",
     "metadata": {},
     "outputs": [
      {
       "output_type": "stream",
       "stream": "stdout",
       "text": [
        "Radius of 10th half period zone = 1.0 mm. \n"
       ]
      }
     ],
     "prompt_number": 36
    },
    {
     "cell_type": "heading",
     "level": 2,
     "metadata": {},
     "source": [
      "Example 2.8, Page 2.40"
     ]
    },
    {
     "cell_type": "code",
     "collapsed": false,
     "input": [
      "from math import sqrt\n",
      "\n",
      "# Given \n",
      "l = 5.89e-7 # wavelength of light in meter\n",
      "d1 = 1. # distance of wavefront recieved on the screen from the opening in first side in meter\n",
      "d2 = 2. # distance of wavefront recieved on the screen from the opening in other side in meter\n",
      "\n",
      "#Calculations\n",
      "f = (d1 * d2) / (d1 + d2)\n",
      "p = 1. / f # beacause zone plate act as a convex lens\n",
      "n = 1 # for first zone\n",
      "Rn = sqrt(n * l * f) # calculation for radius of first zone\n",
      "Dn = 2 * Rn # calculation for diameter of first zone\n",
      "\n",
      "#Result\n",
      "print(\"Focal length = %.2f meter. \\n Power = %.1f D. \\n Diameter of first zone = %.3f mm. \"%(f,p,Dn*1000))"
     ],
     "language": "python",
     "metadata": {},
     "outputs": [
      {
       "output_type": "stream",
       "stream": "stdout",
       "text": [
        "Focal length = 0.67 meter. \n",
        " Power = 1.5 D. \n",
        " Diameter of first zone = 1.253 mm. \n"
       ]
      }
     ],
     "prompt_number": 37
    },
    {
     "cell_type": "heading",
     "level": 2,
     "metadata": {},
     "source": [
      "Example 2.9, Page 2.41"
     ]
    },
    {
     "cell_type": "code",
     "collapsed": false,
     "input": [
      "# Given \n",
      "lambda1 = 6e-7 # wavelength of first light in meter\n",
      "lambda2 = 5e-7 # wavelength of second light in meter\n",
      "f1 = 1 # focal length in first case in meter \n",
      "\n",
      "#Calculation\n",
      "f2 = (lambda1 * f1) / lambda2 # calculation for focal length in second case\n",
      "\n",
      "#Result\n",
      "print(\"Focal length in second case = %.1f meter\"%f2)"
     ],
     "language": "python",
     "metadata": {},
     "outputs": [
      {
       "output_type": "stream",
       "stream": "stdout",
       "text": [
        "Focal length in second case = 1.2 meter\n"
       ]
      }
     ],
     "prompt_number": 38
    },
    {
     "cell_type": "heading",
     "level": 2,
     "metadata": {},
     "source": [
      "Example 2.10, Page 2.41"
     ]
    },
    {
     "cell_type": "code",
     "collapsed": false,
     "input": [
      "# Given \n",
      "l = 4e-7 # wavelength of light in meter\n",
      "u = 0.2 # distance of object from zone plate in meter\n",
      "v = 0.2 # distance of brightest image from from zone plate in meter \n",
      "r = 0.01 # radius in meter\n",
      "\n",
      "#Calculations\n",
      "f = (u * v) / (u + v) # calculation for focal length\n",
      "n = (r**2) / (f * l) # calculation for no. of zone of Fresnel\n",
      "\n",
      "#Result\n",
      "print(\"No. of zone of Fresnel = %.f\"%n)"
     ],
     "language": "python",
     "metadata": {},
     "outputs": [
      {
       "output_type": "stream",
       "stream": "stdout",
       "text": [
        "No. of zone of Fresnel = 2500\n"
       ]
      }
     ],
     "prompt_number": 39
    },
    {
     "cell_type": "heading",
     "level": 2,
     "metadata": {},
     "source": [
      "Example 2.11, Page 2.42"
     ]
    },
    {
     "cell_type": "code",
     "collapsed": false,
     "input": [
      "# Given \n",
      "l = 5.893e-7 # wavelength of light in meter\n",
      "d = 2.3e-3 # diameter of the central zone of zone plate in meter\n",
      "u = 6 # distance between point source from zone plate in meter\n",
      "n = 1 # for central zone\n",
      "\n",
      "#Calculations\n",
      "r = d/2\n",
      "f = (r**2) / (l) # calculation for focal length\n",
      "v = (f * u) / (u - f)  # calculation for distance of first image from zone plate\n",
      "\n",
      "#Result\n",
      "print(\"Distance of first image from zone plate = %.2f meter \"%v) #answer differs due to rounding-off values"
     ],
     "language": "python",
     "metadata": {},
     "outputs": [
      {
       "output_type": "stream",
       "stream": "stdout",
       "text": [
        "Distance of first image from zone plate = 3.59 meter \n"
       ]
      }
     ],
     "prompt_number": 41
    },
    {
     "cell_type": "heading",
     "level": 2,
     "metadata": {},
     "source": [
      "Example 2.12, Page 2.42"
     ]
    },
    {
     "cell_type": "code",
     "collapsed": false,
     "input": [
      "# Given \n",
      "R = 2 # radius of curvature in meter\n",
      "\n",
      "#Calculation\n",
      "f = R # calculation for principal focal length of zone plate\n",
      "\n",
      "#Result\n",
      "print(\"Principal focal length of zone plate = %.1f meter \"%f)"
     ],
     "language": "python",
     "metadata": {},
     "outputs": [
      {
       "output_type": "stream",
       "stream": "stdout",
       "text": [
        "Principal focal length of zone plate = 2.0 meter \n"
       ]
      }
     ],
     "prompt_number": 43
    },
    {
     "cell_type": "heading",
     "level": 2,
     "metadata": {},
     "source": [
      "Example 2.13, Page 2.42"
     ]
    },
    {
     "cell_type": "code",
     "collapsed": false,
     "input": [
      "from math import asin, pi\n",
      "\n",
      "# Given \n",
      "l = 5.89e-7 # wavelength of light in meter\n",
      "b = 1e-3 # slit-width in meter\n",
      "m = 1 # for first minima\n",
      "\n",
      "#Calculation\n",
      "theta = asin((m * l) / b) # calculation for angular spread of the central maxima in radian\n",
      "theta_ = theta * (180 / pi) # calculation for angular spread of the central maxima in degree\n",
      "\n",
      "#Result\n",
      "print(\"Angular spread of the central maxima = %.4f degree \"%(2 * theta_))"
     ],
     "language": "python",
     "metadata": {},
     "outputs": [
      {
       "output_type": "stream",
       "stream": "stdout",
       "text": [
        "Angular spread of the central maxima = 0.0675 degree \n"
       ]
      }
     ],
     "prompt_number": 44
    },
    {
     "cell_type": "heading",
     "level": 2,
     "metadata": {},
     "source": [
      "Example 2.14, Page 2.43"
     ]
    },
    {
     "cell_type": "code",
     "collapsed": false,
     "input": [
      "# Given \n",
      "d = 1.2 # distance of screen from slit in meter\n",
      "x = 3.7e-3 # distance between first maxima to central maxima in meter\n",
      "b = 2e-4 # slit-width in meter\n",
      "\n",
      "#Calculation\n",
      "l = (x * b) / d # calculation for wavelength of light\n",
      "\n",
      "#Result\n",
      "print \"Wavelength of light = \",round(l/1e-10),\"A\""
     ],
     "language": "python",
     "metadata": {},
     "outputs": [
      {
       "output_type": "stream",
       "stream": "stdout",
       "text": [
        "Wavelength of light =  6167.0 A\n"
       ]
      }
     ],
     "prompt_number": 70
    },
    {
     "cell_type": "heading",
     "level": 2,
     "metadata": {},
     "source": [
      "Example 2.15, Page 2.43"
     ]
    },
    {
     "cell_type": "code",
     "collapsed": false,
     "input": [
      "from math import asin, pi\n",
      "\n",
      "# Given \n",
      "l = 5.5e-7 # wavelength of light in meter\n",
      "b = 2.2e-6 # slit-width in meter\n",
      "\n",
      "#Calculations\n",
      "m2 = 2 # for second minima\n",
      "theta2 = asin((m2 * l) / b) * (180 / pi) # calculation for angular position of second minima\n",
      "m3 = 3 # for third minima\n",
      "theta3 = asin((m3 * l) / b) * (180 / pi) # calculation for angular position of third minima\n",
      "\n",
      "#Result\n",
      "print(\"Angular position of second and third minima = %.f degrees and %.2f degrees respectively \"%(theta2 ,theta3))"
     ],
     "language": "python",
     "metadata": {},
     "outputs": [
      {
       "output_type": "stream",
       "stream": "stdout",
       "text": [
        "Angular position of second and third minima = 30 degrees and 48.59 degrees respectively \n"
       ]
      }
     ],
     "prompt_number": 72
    },
    {
     "cell_type": "heading",
     "level": 2,
     "metadata": {},
     "source": [
      "Example 2.16, Page 2.44"
     ]
    },
    {
     "cell_type": "code",
     "collapsed": false,
     "input": [
      "from math import asin, pi\n",
      "\n",
      "# Given \n",
      "l = 5.89e-7 # wavelength of light in meter\n",
      "b = 1.2e-6 # slit-width in meter\n",
      "\n",
      "#Calculation\n",
      "m = 1 # for first minima\n",
      "theta = asin((m * l) / b) # calculation for half angular width of the central bright maxima in radian\n",
      "theta_ = theta * (180 / pi) # calculation for half angular width of the central bright maxima in degree\n",
      "\n",
      "#Result\n",
      "print(\"Half angular width of the central bright maxima = %.2f degrees \"%theta_)"
     ],
     "language": "python",
     "metadata": {},
     "outputs": [
      {
       "output_type": "stream",
       "stream": "stdout",
       "text": [
        "Half angular width of the central bright maxima = 29.40 degrees \n"
       ]
      }
     ],
     "prompt_number": 74
    },
    {
     "cell_type": "heading",
     "level": 2,
     "metadata": {},
     "source": [
      "Example 2.17, Page 2.44"
     ]
    },
    {
     "cell_type": "code",
     "collapsed": false,
     "input": [
      "from math import sin, pi \n",
      "\n",
      "# Given \n",
      "l = 5e-7 # wavelength of light in meter\n",
      "theta = pi / 6 # half angular width of central maximum in first case in radian\n",
      "theta_ = pi / 2 # half angular width of central maximum in second case in radian\n",
      "\n",
      "#Calculation\n",
      "m = 1 # for first minima\n",
      "b1 = (l * m) / sin(theta) # calculation for slit width in first case\n",
      "b2 = (l * m) / sin(theta_) # calculation for slit width in second case\n",
      "\n",
      "#Result\n",
      "print(\"Slit width in first case = %.f micro-meter \\nSlit width in second case = %.1f micro-meter\"%(b1*1e6,b2*1e6))"
     ],
     "language": "python",
     "metadata": {},
     "outputs": [
      {
       "output_type": "stream",
       "stream": "stdout",
       "text": [
        "Slit width in first case = 1 micro-meter \n",
        "Slit width in second case = 0.5 micro-meter\n"
       ]
      }
     ],
     "prompt_number": 10
    },
    {
     "cell_type": "heading",
     "level": 2,
     "metadata": {},
     "source": [
      "Example 2.18, Page 2.44"
     ]
    },
    {
     "cell_type": "code",
     "collapsed": false,
     "input": [
      "from math import asin, pi\n",
      "\n",
      "# Given \n",
      "l = 5.89e-7 # wavelength of light in meter\n",
      "d = 1 # distance of screen from slit in meter\n",
      "b = 1e-4 # slit-width in meter\n",
      "\n",
      "#Calculations\n",
      "theta = (asin(l / b)) * (180 / pi) # calculation for angular spread\n",
      "x = (2 * d * l) / b# calculation for linear width\n",
      "\n",
      "#Result\n",
      "print(\"Angular spread = %.3f degree\\nLinear width = %.3f cm \"%(2*theta,x*1e2))"
     ],
     "language": "python",
     "metadata": {},
     "outputs": [
      {
       "output_type": "stream",
       "stream": "stdout",
       "text": [
        "Angular spread = 0.675 degree\n",
        "Linear width = 1.178 cm \n"
       ]
      }
     ],
     "prompt_number": 15
    },
    {
     "cell_type": "heading",
     "level": 2,
     "metadata": {},
     "source": [
      "Example 2.20, Page 2.45"
     ]
    },
    {
     "cell_type": "code",
     "collapsed": false,
     "input": [
      "from math import asin, pi\n",
      "\n",
      "# Given \n",
      "l = 6e-7 # wavelength of light in meter\n",
      "b = 1.2e-6 # slit-width in meter\n",
      "\n",
      "#Calculations\n",
      "m = 1 # for first minima\n",
      "theta = asin((m * l) / b) # calculation for angular width of the central maxima in radian\n",
      "theta_ = theta * (180 / pi) # calculation for angular width of the central maxima in degree\n",
      "\n",
      "#Result\n",
      "print(\"Angular width of the central maxima = %.f degree \"%(2 * theta_))"
     ],
     "language": "python",
     "metadata": {},
     "outputs": [
      {
       "output_type": "stream",
       "stream": "stdout",
       "text": [
        "Angular width of the central maxima = 60 degree \n"
       ]
      }
     ],
     "prompt_number": 104
    },
    {
     "cell_type": "heading",
     "level": 2,
     "metadata": {},
     "source": [
      "Example 2.21, Page 2.46"
     ]
    },
    {
     "cell_type": "code",
     "collapsed": false,
     "input": [
      "# Given \n",
      "l = 4.890e-7 # wavelength of light in meter\n",
      "b = 5e-3 # slit-width in meter\n",
      "f = 0.4 # focal-length of convex lens in meter\n",
      "\n",
      "#Calculation\n",
      "m = 1 # for first dark fringe\n",
      "x = (f * m * l) / b  \n",
      "n = 1 # for first secondary maxima\n",
      "x_ = ((2 * n + 1) * l * f) / (2 * b) \n",
      "delta_x = x_ - x # calculation for separation of dark band \n",
      "\n",
      "#Result\n",
      "print(\"Separation of dark band = %.3e meter.\"%(delta_x))"
     ],
     "language": "python",
     "metadata": {},
     "outputs": [
      {
       "output_type": "stream",
       "stream": "stdout",
       "text": [
        "Separation of dark band = 1.956e-05 meter.\n"
       ]
      }
     ],
     "prompt_number": 105
    },
    {
     "cell_type": "heading",
     "level": 2,
     "metadata": {},
     "source": [
      "Example 2.22, Page 2.47"
     ]
    },
    {
     "cell_type": "code",
     "collapsed": false,
     "input": [
      "# Given \n",
      "l = 5.893e-7 # wavelength of light in meter\n",
      "b = 5e-4 # slit-width in meter\n",
      "f = 1 # focal length of convex lens in meter\n",
      "\n",
      "#Calculation\n",
      "x = (2 * l * f) / b # calculation for Separation of dark band on either side of the cenral maximum\n",
      "\n",
      "#Result\n",
      "print(\"Separation of dark band on either side of the central maximum = %.3e meter\"%x)"
     ],
     "language": "python",
     "metadata": {},
     "outputs": [
      {
       "output_type": "stream",
       "stream": "stdout",
       "text": [
        "Separation of dark band on either side of the central maximum = 2.357e-03 meter\n"
       ]
      }
     ],
     "prompt_number": 106
    },
    {
     "cell_type": "heading",
     "level": 2,
     "metadata": {},
     "source": [
      "Example 2.23, Page 2.47"
     ]
    },
    {
     "cell_type": "code",
     "collapsed": false,
     "input": [
      "# Given \n",
      "d = 4e-4 # separation between slits in meter\n",
      "b = 8e-5 # slit-width in meter\n",
      "\n",
      "#Calculations\n",
      "r = (b + d) / b # calculation for ratio of n with m\n",
      "m1 = 1\n",
      "n1 = r * m1 # calculation for Missing orders \n",
      "m2 = 2\n",
      "n2 = r * m2 # calculation for Missing orders \n",
      "m3 = 3\n",
      "n3 = r * m3 # calculation for Missing orders \n",
      "\n",
      "#Result\n",
      "print(\"Missing orders = %d,%d,%d,......etc.\"%(n1,n2,n3))"
     ],
     "language": "python",
     "metadata": {},
     "outputs": [
      {
       "output_type": "stream",
       "stream": "stdout",
       "text": [
        "Missing orders = 6,12,18,......etc.\n"
       ]
      }
     ],
     "prompt_number": 107
    },
    {
     "cell_type": "heading",
     "level": 2,
     "metadata": {},
     "source": [
      "Example 2.24, Page 2.47"
     ]
    },
    {
     "cell_type": "code",
     "collapsed": false,
     "input": [
      "# Given \n",
      "d = 4e-4 # separation between slits in meter\n",
      "b = 2e-4 # slit-width in meter\n",
      "fringe_width = 2.5e-3 # fringe width in meter\n",
      "D = 1.6 # distance between screen and slits\n",
      "\n",
      "#Calculations\n",
      "l = (fringe_width * d) / D # calculation for wavelength of light\n",
      "r = (b + d) / b # calculation for ratio of n with m\n",
      "m1 = 1\n",
      "n1 = r * m1 # calculation for missing order\n",
      "m2 = 2\n",
      "n2 = r * m2 # calculation for missing order\n",
      "m3 = 3\n",
      "n3 = r * m3 # calculation for missing order\n",
      "\n",
      "#Result\n",
      "print(\"Wavelength of light = %.3e meter. \\nMissing order = %d,%d,%d....etc.\"%(l,n1,n2,n3))"
     ],
     "language": "python",
     "metadata": {},
     "outputs": [
      {
       "output_type": "stream",
       "stream": "stdout",
       "text": [
        "Wavelength of light = 6.250e-07 meter. \n",
        "Missing order = 3,6,9....etc.\n"
       ]
      }
     ],
     "prompt_number": 109
    },
    {
     "cell_type": "heading",
     "level": 2,
     "metadata": {},
     "source": [
      "Example 2.25, Page 2.48"
     ]
    },
    {
     "cell_type": "code",
     "collapsed": false,
     "input": [
      "from math import pi, sin\n",
      "\n",
      "# Given \n",
      "N = 425000 # no. of lines in plane transmission grating per meter\n",
      "theta = pi / 6 # angle at which second order spectral line is observed in radian\n",
      "n = 2 # order of spectral line\n",
      "\n",
      "#Calculation\n",
      "l = sin(theta) / (2 * N) # calculation for wavelength of light\n",
      "\n",
      "#Result\n",
      "print \"Wavelength of light = \",round(l/1e-10),\"A\""
     ],
     "language": "python",
     "metadata": {},
     "outputs": [
      {
       "output_type": "stream",
       "stream": "stdout",
       "text": [
        "Wavelength of light =  5882.0 A\n"
       ]
      }
     ],
     "prompt_number": 115
    },
    {
     "cell_type": "heading",
     "level": 2,
     "metadata": {},
     "source": [
      "Example 2.26, Page 2.48"
     ]
    },
    {
     "cell_type": "code",
     "collapsed": false,
     "input": [
      "from math import pi, sin\n",
      " \n",
      "# Given \n",
      "N = 500000 # no. of lines in plane transmission grating per meter\n",
      "theta = pi / 6 # angle at which second order spectral line is observed in radian\n",
      "n = 2 # order of spectral line\n",
      "\n",
      "#Calculation\n",
      "l = sin(theta) / (2 * N) # calculation for wavelength of light\n",
      "\n",
      "#Result\n",
      "print \"wavelength of light = \",l/1e-10,\"A\""
     ],
     "language": "python",
     "metadata": {},
     "outputs": [
      {
       "output_type": "stream",
       "stream": "stdout",
       "text": [
        "wavelength of light =  5000.0 A\n"
       ]
      }
     ],
     "prompt_number": 116
    },
    {
     "cell_type": "heading",
     "level": 2,
     "metadata": {},
     "source": [
      "Example 2.27, Page 2.48"
     ]
    },
    {
     "cell_type": "code",
     "collapsed": false,
     "input": [
      "from math import ceil\n",
      "\n",
      "# Given \n",
      "lambda2 = 5.461e-7 # wavelength of  light in second case in meter\n",
      "n1 = 4 # no. of order in first case\n",
      "n2 = 3 # no. of order in second case \n",
      "\n",
      "#Calculation\n",
      "lambda1 = (n2 * lambda2) / n1 # calculation for Wavelength of light in first case\n",
      "\n",
      "#Result\n",
      "print(\"Wavelength of light in first case = %d A\"%(ceil(lambda1*1e10)))"
     ],
     "language": "python",
     "metadata": {},
     "outputs": [
      {
       "output_type": "stream",
       "stream": "stdout",
       "text": [
        "Wavelength of light in first case = 4096 A\n"
       ]
      }
     ],
     "prompt_number": 90
    },
    {
     "cell_type": "heading",
     "level": 2,
     "metadata": {},
     "source": [
      "Example 2.28, Page 2.49"
     ]
    },
    {
     "cell_type": "code",
     "collapsed": false,
     "input": [
      "from math import pi, sin\n",
      "\n",
      "# Given \n",
      "l = 5e-7 # wavelength of light in meter\n",
      "theta = pi / 6 # angle at which second order spectral line is observed in radian\n",
      "n = 2 # order of spectral line\n",
      "\n",
      "#Calculations\n",
      "k = (n * l) / sin(theta) # calculation for (b+d)\n",
      "N = 1 / k # calculation for no. of lines in per cm\n",
      "\n",
      "#Result\n",
      "print(\"No. of lines per cm = %.f \"%(N / 100))"
     ],
     "language": "python",
     "metadata": {},
     "outputs": [
      {
       "output_type": "stream",
       "stream": "stdout",
       "text": [
        "No. of lines per cm = 5000 \n"
       ]
      }
     ],
     "prompt_number": 117
    },
    {
     "cell_type": "heading",
     "level": 2,
     "metadata": {},
     "source": [
      "Example 2.29, Page 2.49"
     ]
    },
    {
     "cell_type": "code",
     "collapsed": false,
     "input": [
      "from math import asin,pi \n",
      "\n",
      "# Given \n",
      "lambda1 = 5.048e-7 # wavelength of light in first case in meter\n",
      "lambda2 = 5.016e-7 # wavelength of light in second case in meter\n",
      "n = 2 # no. of order in first case\n",
      "N = 15000 # no. of lines in grating per inch  \n",
      "\n",
      "#Calculations\n",
      "k = 2.54 / 1500000 # in meter\n",
      "theta1 = asin(n * lambda1 / k) * (180 / pi) # calculation for angle in first case\n",
      "theta2 = asin(n * lambda2 / k) * (180 / pi) # calculation for angle in second case\n",
      "delta_theta = theta1 - theta2 # calculation for angle of separation\n",
      "\n",
      "#Result\n",
      "print(\"Angle of separation = %.2f degree\"%delta_theta)"
     ],
     "language": "python",
     "metadata": {},
     "outputs": [
      {
       "output_type": "stream",
       "stream": "stdout",
       "text": [
        "Angle of separation = 0.27 degree\n"
       ]
      }
     ],
     "prompt_number": 118
    },
    {
     "cell_type": "heading",
     "level": 2,
     "metadata": {},
     "source": [
      "Example 2.30, Page 2.50"
     ]
    },
    {
     "cell_type": "code",
     "collapsed": false,
     "input": [
      "from math import asin,pi \n",
      "\n",
      "# Given \n",
      "lambda1 = 5.89e-7 # wavelength of  light in first case in meter\n",
      "lambda2 = 5.896e-7 # wavelength of  light in second case in meter\n",
      "n = 2 # no. of order in first case\n",
      "N = 600000 # no. of lines in grating per meter  \n",
      "\n",
      "#Calculations\n",
      "k = 1. / N # in meter\n",
      "theta1 = asin(n * lambda1 / k) * (180 / pi) # calculation for angle in first case\n",
      "theta2 = asin(n * lambda2 / k) * (180 / pi) # calculation for angle in second case\n",
      "delta_theta = theta2 - theta1 # calculation for angle of separation\n",
      "\n",
      "#Result\n",
      "print(\"Angle of separation = %.2f degree\"%delta_theta)"
     ],
     "language": "python",
     "metadata": {},
     "outputs": [
      {
       "output_type": "stream",
       "stream": "stdout",
       "text": [
        "Angle of separation = 0.06 degree\n"
       ]
      }
     ],
     "prompt_number": 119
    },
    {
     "cell_type": "heading",
     "level": 2,
     "metadata": {},
     "source": [
      "Example 2.31, Page 2.50"
     ]
    },
    {
     "cell_type": "code",
     "collapsed": false,
     "input": [
      "from math import pi\n",
      "\n",
      "# Given \n",
      "lambda1 = 5.4e-7 # wavelength of light for nth order in meter\n",
      "lambda2 = 4.05e-7 # wavelength of light for (n+1)th order in meter \n",
      "theta = pi / 6 # angle of diffraction in radian \n",
      "\n",
      "#Calculations\n",
      "k = (lambda1 * lambda2) / ((lambda1 - lambda2) * sin(theta)) # calculation for b+d\n",
      "N = (1 / k) * (0.01) # calculation for no. of lines per cm\n",
      "\n",
      "#Result\n",
      "print(\"No. of lines per cm = %d \"%N)"
     ],
     "language": "python",
     "metadata": {},
     "outputs": [
      {
       "output_type": "stream",
       "stream": "stdout",
       "text": [
        "No. of lines per cm = 3086 \n"
       ]
      }
     ],
     "prompt_number": 97
    },
    {
     "cell_type": "heading",
     "level": 2,
     "metadata": {},
     "source": [
      "Example 2.32, Page 2.51"
     ]
    },
    {
     "cell_type": "code",
     "collapsed": false,
     "input": [
      "from math import pi, cos, sin\n",
      "\n",
      "# Given \n",
      "d_theta = 0.01 # angular separation between two wavelengths in radian \n",
      "theta = pi / 6 # angle of diffraction in radian \n",
      "l = 5e-7 # wavelength of light in meter\n",
      "\n",
      "#Calculation\n",
      "d_lambda = (l * cos(theta) * d_theta) / sin(theta) # calculation for difference in two waveligth\n",
      "\n",
      "#Result\n",
      "print \"Difference in two wavelength = \",round(d_lambda/1e-10,1),\"A\""
     ],
     "language": "python",
     "metadata": {},
     "outputs": [
      {
       "output_type": "stream",
       "stream": "stdout",
       "text": [
        "Difference in two wavelength =  86.6 A\n"
       ]
      }
     ],
     "prompt_number": 127
    },
    {
     "cell_type": "heading",
     "level": 2,
     "metadata": {},
     "source": [
      "Example 2.33, Page 2.51"
     ]
    },
    {
     "cell_type": "code",
     "collapsed": false,
     "input": [
      "# Given \n",
      "N = 2620 # no. of lines in plane transmission grating per inch\n",
      "l = 5e-7 # wavelength of incident radiation in meter\n",
      "\n",
      "#Calculations\n",
      "k = 2.54 / N * 1 / 100 # calculation for b+d in meter\n",
      "n = k / l # calculation for order of spectrum\n",
      "\n",
      "#Result\n",
      "print(\"Order of spectrum = %d\"%n)"
     ],
     "language": "python",
     "metadata": {},
     "outputs": [
      {
       "output_type": "stream",
       "stream": "stdout",
       "text": [
        "Order of spectrum = 19\n"
       ]
      }
     ],
     "prompt_number": 99
    },
    {
     "cell_type": "heading",
     "level": 2,
     "metadata": {},
     "source": [
      "Example 2.34, Page 2.51"
     ]
    },
    {
     "cell_type": "code",
     "collapsed": false,
     "input": [
      "# Given \n",
      "N = 500000. # no. of lines in plane transmission grating per meter\n",
      "l = 5e-7 # wavelength of incident radiation in meter\n",
      "\n",
      "#Calculations\n",
      "k = 1 / N # calculation for b+d in meter\n",
      "n = k / l # calculation for order of spectrum \n",
      "\n",
      "#Result\n",
      "print \"Order of spectrum = %d\"%n"
     ],
     "language": "python",
     "metadata": {},
     "outputs": [
      {
       "output_type": "stream",
       "stream": "stdout",
       "text": [
        "Order of spectrum = 4\n"
       ]
      }
     ],
     "prompt_number": 2
    },
    {
     "cell_type": "heading",
     "level": 2,
     "metadata": {},
     "source": [
      "Example 2.35, Page 2.52"
     ]
    },
    {
     "cell_type": "code",
     "collapsed": false,
     "input": [
      "# Given \n",
      "N = 4000.       # no. of lines in plane transmission grating per meter\n",
      "lambda1 = 4.e-7 # wavelength of light in first case in meter\n",
      "lambda2 = 7.e-7 # wavelength of light in second case in meter\n",
      "\n",
      "#Calculations\n",
      "b_plus_d = (1/N)*10**-2\n",
      "n1 = b_plus_d /  lambda1 # calculation for Observed order in first case\n",
      "n2 = b_plus_d / lambda2 # calculation for Observed order in second case\n",
      "\n",
      "#Result\n",
      "print \"Observed order = %.2f,%.2f\"%(n1,n2)"
     ],
     "language": "python",
     "metadata": {},
     "outputs": [
      {
       "output_type": "stream",
       "stream": "stdout",
       "text": [
        "Observed order = 6.25,3.57\n"
       ]
      }
     ],
     "prompt_number": 28
    },
    {
     "cell_type": "heading",
     "level": 2,
     "metadata": {},
     "source": [
      "Example 2.36, Page 2.52"
     ]
    },
    {
     "cell_type": "code",
     "collapsed": false,
     "input": [
      "from math import sqrt\n",
      "\n",
      "# Given \n",
      "N = 4000 # no. of lines in grating per meter\n",
      "l = 5e-5 # wavelength of incident radiation in cm\n",
      "n = 3 # no. of order\n",
      "\n",
      "#Calculation\n",
      "p = (n * N) / (sqrt(1 - (N * n * l)))# dispersive power (p) = d(theta)/d(lambda)\n",
      "\n",
      "#Result\n",
      "print \"Dispersive power = %.3e rad/m\"%p"
     ],
     "language": "python",
     "metadata": {},
     "outputs": [
      {
       "output_type": "stream",
       "stream": "stdout",
       "text": [
        "Dispersive power = 1.897e+04 rad/m\n"
       ]
      }
     ],
     "prompt_number": 1
    },
    {
     "cell_type": "heading",
     "level": 2,
     "metadata": {},
     "source": [
      "Example 2.37, Page 2.52"
     ]
    },
    {
     "cell_type": "code",
     "collapsed": false,
     "input": [
      "# Given \n",
      "n = 2 # no. of order\n",
      "lambda1 = 5.89e-7 # wavelength of light in first case in meter\n",
      "lambda2 = 5.896e-7 # wavelength of light in second case in meter\n",
      "\n",
      "#Calculation\n",
      "N = lambda1 / (n * (lambda2 - lambda1)) # calculation for minimum no. of lines in grating \n",
      "\n",
      "#Result\n",
      "print \"Minimum no. of lines in grating = %.1f\"%N"
     ],
     "language": "python",
     "metadata": {},
     "outputs": [
      {
       "output_type": "stream",
       "stream": "stdout",
       "text": [
        "Minimum no. of lines in grating = 490.8\n"
       ]
      }
     ],
     "prompt_number": 31
    },
    {
     "cell_type": "heading",
     "level": 2,
     "metadata": {},
     "source": [
      "Example 2.38, Page 2.53"
     ]
    },
    {
     "cell_type": "code",
     "collapsed": false,
     "input": [
      "# Given \n",
      "n = 1 # no. of order\n",
      "lambda1 = 5.89e-7 # wavelength of light in first case in meter\n",
      "lambda2 = 5.896e-7 # wavelength of light in second case in meter\n",
      "\n",
      "#Calculation\n",
      "N = lambda1 / (n * (lambda2 - lambda1)) # calculation for minimum no. of lines in grating\n",
      "\n",
      "#Result\n",
      "print \"Minimum no. of lines in grating = %.2f\"%N"
     ],
     "language": "python",
     "metadata": {},
     "outputs": [
      {
       "output_type": "stream",
       "stream": "stdout",
       "text": [
        "Minimum no. of lines in grating = 981.67\n"
       ]
      }
     ],
     "prompt_number": 32
    },
    {
     "cell_type": "heading",
     "level": 2,
     "metadata": {},
     "source": [
      "Example 2.39, Page 2.53"
     ]
    },
    {
     "cell_type": "code",
     "collapsed": false,
     "input": [
      "from math import pi,sin\n",
      "\n",
      "# Given \n",
      "n = 3 # no. of order\n",
      "theta = pi / 6 # view angle of third order in radian\n",
      "lambda1 = 5.89e-7 # min. wavelength of light in meter\n",
      "lambda2 = 5.896e-7 # max.wavelength of light in meter\n",
      "\n",
      "#Calculations\n",
      "mean_lambda = (lambda1 + lambda2) / 2 # calculation for mean wavelength\n",
      "s = (n * mean_lambda) / sin(theta) # calculation for grating space b+d\n",
      "N = lambda1 / (n * (lambda2 - lambda1)) # calculation for minimum no. of lines in grating\n",
      "\n",
      "#Result\n",
      "print \"Grating space = %.3e meter. \\nTotal width of ruled surface = %.3e meter. \"%(s,s * N)"
     ],
     "language": "python",
     "metadata": {},
     "outputs": [
      {
       "output_type": "stream",
       "stream": "stdout",
       "text": [
        "Grating space = 3.536e-06 meter. \n",
        "Total width of ruled surface = 1.157e-03 meter. \n"
       ]
      }
     ],
     "prompt_number": 34
    },
    {
     "cell_type": "heading",
     "level": 2,
     "metadata": {},
     "source": [
      "Example 2.40, Page 2.53"
     ]
    },
    {
     "cell_type": "code",
     "collapsed": false,
     "input": [
      "# Given \n",
      "l = 5.5e-7 # wavelength of light in meter\n",
      "a = 5 # diameter of objective lens of telescope in meter\n",
      "R = 3.8e8 # distance of moon in meter\n",
      "\n",
      "#Calculations\n",
      "theta = (1.22 * l) / a # calculation for angle \n",
      "x = (R * theta) # calculation for the separation of two points on moon\n",
      "\n",
      "#Result\n",
      "print \"The separation of two points on moon = %.3f meter\"%x"
     ],
     "language": "python",
     "metadata": {},
     "outputs": [
      {
       "output_type": "stream",
       "stream": "stdout",
       "text": [
        "The separation of two points on moon = 50.996 meter\n"
       ]
      }
     ],
     "prompt_number": 35
    },
    {
     "cell_type": "heading",
     "level": 2,
     "metadata": {},
     "source": [
      "Example 2.41, Page 2.54"
     ]
    },
    {
     "cell_type": "code",
     "collapsed": false,
     "input": [
      "from math import pi\n",
      "\n",
      "# Given \n",
      "l = 5e-7 # wavelength of light in meter\n",
      "theta = (1e-3) * (pi / 180) # separation angle of stars in radian\n",
      "\n",
      "#Calculation\n",
      "a = (1.22 * l) / theta # calculation for diameter of telescope objective\n",
      "\n",
      "#Result\n",
      "print \"Diameter of telescope objective = %.5f meter\"%a"
     ],
     "language": "python",
     "metadata": {},
     "outputs": [
      {
       "output_type": "stream",
       "stream": "stdout",
       "text": [
        "Diameter of telescope objective = 0.03495 meter\n"
       ]
      }
     ],
     "prompt_number": 36
    },
    {
     "cell_type": "heading",
     "level": 2,
     "metadata": {},
     "source": [
      "Example 2.42, Page 42"
     ]
    },
    {
     "cell_type": "code",
     "collapsed": false,
     "input": [
      "# Given \n",
      "l = 6e-7 # wavelength of light in meter\n",
      "theta = 2.44e-6 # separation angle of stars in radian\n",
      "\n",
      "#Calculation\n",
      "a = (1.22 * l) / theta # calculation for diameter of telescope objective\n",
      "\n",
      "#Result\n",
      "print \"Diameter of telescope objective = %.2f meter\"%a"
     ],
     "language": "python",
     "metadata": {},
     "outputs": [
      {
       "output_type": "stream",
       "stream": "stdout",
       "text": [
        "Diameter of telescope objective = 0.30 meter\n"
       ]
      }
     ],
     "prompt_number": 37
    },
    {
     "cell_type": "heading",
     "level": 2,
     "metadata": {},
     "source": [
      "Example 2.43, Page 2.54"
     ]
    },
    {
     "cell_type": "code",
     "collapsed": false,
     "input": [
      "# Given \n",
      "l = 5.5e-7 # wavelength of light in meter\n",
      "a = 0.004 # diameter of objective lens of telescope in meter\n",
      "x = 1.5e-3 # distance between two pin holes in meter\n",
      "\n",
      "#Calculations\n",
      "theta = (1.22 * l) / a # calculation for angle  \n",
      "R = x / theta # calculation for max. distance of pin holes from microscope\n",
      "\n",
      "#Result\n",
      "print \"Max. distance of pin holes from microscope = %.4f meter\"%R"
     ],
     "language": "python",
     "metadata": {},
     "outputs": [
      {
       "output_type": "stream",
       "stream": "stdout",
       "text": [
        "Max. distance of pin holes from microscope = 8.9419 meter\n"
       ]
      }
     ],
     "prompt_number": 38
    },
    {
     "cell_type": "heading",
     "level": 2,
     "metadata": {},
     "source": [
      "Example 2.44, Page 2.55"
     ]
    },
    {
     "cell_type": "code",
     "collapsed": false,
     "input": [
      "from math import pi, sin\n",
      "\n",
      "# Given \n",
      "l = 5.5e-7 # wavelength of light in meter\n",
      "theta = pi / 6 # semi-angle of cone in radian\n",
      "\n",
      "#Calculation\n",
      "d = (1.22 * l) / (2 * sin(theta)) # calculation for the resolving limit of microscope \n",
      "\n",
      "#Result\n",
      "print \"The resolving limit of microscope = %.1e meter\"%d"
     ],
     "language": "python",
     "metadata": {},
     "outputs": [
      {
       "output_type": "stream",
       "stream": "stdout",
       "text": [
        "The resolving limit of microscope = 6.7e-07 meter\n"
       ]
      }
     ],
     "prompt_number": 40
    },
    {
     "cell_type": "heading",
     "level": 2,
     "metadata": {},
     "source": [
      "Example 2.45, Page 2.55"
     ]
    },
    {
     "cell_type": "code",
     "collapsed": false,
     "input": [
      "# Given \n",
      "l = 5.461e-7 # wavelength of light in meter\n",
      "d = 4e-7 # separation between objects in meter\n",
      "\n",
      "#Calculation\n",
      "NA = (1.22 * l) / (2 * d) # calculation for numerical aperture of objective \n",
      "\n",
      "#Result\n",
      "print \"Numerical aperture of objective = %.3f\"%NA"
     ],
     "language": "python",
     "metadata": {},
     "outputs": [
      {
       "output_type": "stream",
       "stream": "stdout",
       "text": [
        "Numerical aperture of objective = 0.833\n"
       ]
      }
     ],
     "prompt_number": 41
    }
   ],
   "metadata": {}
  }
 ]
}