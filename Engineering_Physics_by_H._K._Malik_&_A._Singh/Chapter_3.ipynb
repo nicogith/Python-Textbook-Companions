{
 "metadata": {
  "name": ""
 },
 "nbformat": 3,
 "nbformat_minor": 0,
 "worksheets": [
  {
   "cells": [
    {
     "cell_type": "heading",
     "level": 1,
     "metadata": {},
     "source": [
      "Chapter 3: Polarisation"
     ]
    },
    {
     "cell_type": "heading",
     "level": 2,
     "metadata": {},
     "source": [
      "Example 3.1, Page 3.23"
     ]
    },
    {
     "cell_type": "code",
     "collapsed": false,
     "input": [
      "from math import pi, atan\n",
      "\n",
      "# Given \n",
      "mu = 1.5 # refractive index of glass\n",
      "\n",
      "#Calculations\n",
      "Ip = atan(mu) * (180 / pi) # by brewster's law\n",
      "r = 90 - Ip # calculation for angle of refraction\n",
      "\n",
      "#Result\n",
      "print \"Brewster angle = %.f degree\\nAngle of refraction = %.f degree\"%(Ip,r)"
     ],
     "language": "python",
     "metadata": {},
     "outputs": [
      {
       "output_type": "stream",
       "stream": "stdout",
       "text": [
        "Brewster angle = 56 degree\n",
        "Angle of refraction = 34 degree\n"
       ]
      }
     ],
     "prompt_number": 3
    },
    {
     "cell_type": "heading",
     "level": 2,
     "metadata": {},
     "source": [
      "Example 3.2, Page 3.24"
     ]
    },
    {
     "cell_type": "code",
     "collapsed": false,
     "input": [
      "from math import pi, atan\n",
      "\n",
      "# Given \n",
      "mu = 1.33 # refractive index of glass\n",
      "\n",
      "#Calculations\n",
      "Ip = atan(mu) * (180 / pi) # by Brewster's law\n",
      "\n",
      "#Result\n",
      "print \"Angle of brewster = %.2f degree\"%Ip"
     ],
     "language": "python",
     "metadata": {},
     "outputs": [
      {
       "output_type": "stream",
       "stream": "stdout",
       "text": [
        "Angle of brewster = 53.06 degree\n"
       ]
      }
     ],
     "prompt_number": 2
    },
    {
     "cell_type": "heading",
     "level": 2,
     "metadata": {},
     "source": [
      "Example 3.3, Page 3.24"
     ]
    },
    {
     "cell_type": "code",
     "collapsed": false,
     "input": [
      "from math import pi, atan\n",
      "\n",
      "# Given \n",
      "mu_w = 1.33 # refractive index of water\n",
      "mu_g = 1.54 # refractive index of glass\n",
      "\n",
      "#Calculations\n",
      "Ip_1 = atan(mu_g / mu_w) * (180 / pi)#calculation for polarizing angle for water\n",
      "Ip_2 = atan(mu_w / mu_g) * (180 / pi) # calculation for polarizing angle for glass\n",
      "\n",
      "#Result\n",
      "print \"Polarizing angle for water to glass = %.2f degree,\\n Polarizing angle for glass to water = %.2f degree\"%(Ip_1,Ip_2)\n",
      "print \"So polarizing angle is greater for a beam incident from water to glass\""
     ],
     "language": "python",
     "metadata": {},
     "outputs": [
      {
       "output_type": "stream",
       "stream": "stdout",
       "text": [
        "Polarizing angle for water to glass = 49.18 degree,\n",
        " Polarizing angle for glass to water = 40.82 degree\n",
        "So polarizing angle is greater for a beam incident from water to glass\n"
       ]
      }
     ],
     "prompt_number": 3
    },
    {
     "cell_type": "heading",
     "level": 2,
     "metadata": {},
     "source": [
      "Example 3.4, Page 24"
     ]
    },
    {
     "cell_type": "code",
     "collapsed": false,
     "input": [
      "from math import pi, asin, tan, sin\n",
      "\n",
      "# Given \n",
      "Ip = pi / 3 # polarizing angle of piece of glass for green light in radian\n",
      "a = pi / 3 # angle of prism in radian \n",
      "\n",
      "#Calculations\n",
      "mu = tan(Ip) # calculation for refractive index\n",
      "delta_m = 2 * (asin(mu * sin(a / 2)) - (a / 2)) * (180 / pi) # calculation for angle of minimum deviation\n",
      "\n",
      "#Result\n",
      "print \"Angle of minimum deviation = %.f degree\"%delta_m"
     ],
     "language": "python",
     "metadata": {},
     "outputs": [
      {
       "output_type": "stream",
       "stream": "stdout",
       "text": [
        "Angle of minimum deviation = 60 degree\n"
       ]
      }
     ],
     "prompt_number": 47
    },
    {
     "cell_type": "heading",
     "level": 2,
     "metadata": {},
     "source": [
      "Example 3.5, Page 3.25"
     ]
    },
    {
     "cell_type": "code",
     "collapsed": false,
     "input": [
      "from math import pi, atan\n",
      "\n",
      "# Given \n",
      "mu_w = 1.33 # refractive index of water\n",
      "mu_g = 1.5 # refractive index of glass\n",
      "\n",
      "#Calculations\n",
      "Ip = atan(mu_g / mu_w) * (180 / pi) # calculation for Brewster angle\n",
      "\n",
      "#Result\n",
      "print \"Brewster angle = %.1f degree\"%Ip\n"
     ],
     "language": "python",
     "metadata": {},
     "outputs": [
      {
       "output_type": "stream",
       "stream": "stdout",
       "text": [
        "Brewster angle = 48.4 degree\n"
       ]
      }
     ],
     "prompt_number": 4
    },
    {
     "cell_type": "heading",
     "level": 2,
     "metadata": {},
     "source": [
      "Example 3.6, Page 3.25"
     ]
    },
    {
     "cell_type": "code",
     "collapsed": false,
     "input": [
      "from math import pi, atan\n",
      "\n",
      "# Given \n",
      "mu = 1.732 # refractive index of glass\n",
      "\n",
      "#Calculations\n",
      "Ip = atan(mu) * (180 / pi) # by Brewster's law\n",
      "r = 90 - Ip# calculation for angle of refraction\n",
      "\n",
      "#Result\n",
      "print \"Angle of incidence = %.f degree\\nAngle of refraction = %.f degree\"%(Ip,r)"
     ],
     "language": "python",
     "metadata": {},
     "outputs": [
      {
       "output_type": "stream",
       "stream": "stdout",
       "text": [
        "Angle of incidence = 60 degree\n",
        "Angle of refraction = 30 degree\n"
       ]
      }
     ],
     "prompt_number": 5
    },
    {
     "cell_type": "heading",
     "level": 2,
     "metadata": {},
     "source": [
      "Example 3.7, Page 3.25"
     ]
    },
    {
     "cell_type": "code",
     "collapsed": false,
     "input": [
      "from math import pi, cos\n",
      "\n",
      "# Given \n",
      "alpha = pi / 3 # angle between polarizer and analyzer\n",
      "\n",
      "#Calculation\n",
      "r = (cos(alpha))**2 # where r = transmitted intensity / incident intensity\n",
      "\n",
      "#Result\n",
      "print \"Ratio between transmitted intensity to incident intensity = %.2f \"%r"
     ],
     "language": "python",
     "metadata": {},
     "outputs": [
      {
       "output_type": "stream",
       "stream": "stdout",
       "text": [
        "Ratio between transmitted intensity to incident intensity = 0.25 \n"
       ]
      }
     ],
     "prompt_number": 9
    },
    {
     "cell_type": "heading",
     "level": 2,
     "metadata": {},
     "source": [
      "Example 3.8, Page 3.25"
     ]
    },
    {
     "cell_type": "code",
     "collapsed": false,
     "input": [
      "from math import sqrt,acos,degrees\n",
      "\n",
      "#Given \n",
      "r1 = 1./3  #ratio of intensity of transmitted light to the intensity of transmitted beam in first case\n",
      "r2 = 1./3  #ratio of intensity of transmitted light to the intensity of incident beam in second case\n",
      "p = 50    #percentage reduction in intensity of unpolarized light by the sheet \n",
      "\n",
      "#Calculations\n",
      "theta1 = degrees(acos(sqrt(r1)))   #calculation for the angle between characteristics directions of the sheet in first case\n",
      "theta2 = degrees(acos(sqrt(2*r2))) #calculation for the angle between characteristics directions of the sheet in second case\n",
      "\n",
      "#Result\n",
      "print \"The angle between characteristics directions of the sheet in 1st case = %.2f degrees.\"%(theta1)\n",
      "print \"The angle between characteristics directions of the sheet in 2nd case = %.2f degrees.\"%(theta2)"
     ],
     "language": "python",
     "metadata": {},
     "outputs": [
      {
       "output_type": "stream",
       "stream": "stdout",
       "text": [
        "The angle between characteristics directions of the sheet in 1st case = 54.74 degrees.\n",
        "The angle between characteristics directions of the sheet in 2nd case = 35.26 degrees.\n"
       ]
      }
     ],
     "prompt_number": 15
    },
    {
     "cell_type": "heading",
     "level": 2,
     "metadata": {},
     "source": [
      "Example 3.9, Page 3.26"
     ]
    },
    {
     "cell_type": "code",
     "collapsed": false,
     "input": [
      "from math import acos, sqrt, pi\n",
      "\n",
      "# Given \n",
      "r = 3. / 4 # ratio of intensity of transmitted light to the intensity of incident light\n",
      "\n",
      "#Calculation\n",
      "theta = acos(sqrt(r)) * (180 / pi) # calculation for angle between the nicol prisms\n",
      "\n",
      "#Result\n",
      "print \"Angle between the nicol prisms = %.f degree\"%theta"
     ],
     "language": "python",
     "metadata": {},
     "outputs": [
      {
       "output_type": "stream",
       "stream": "stdout",
       "text": [
        "Angle between the nicol prisms = 30 degree\n"
       ]
      }
     ],
     "prompt_number": 45
    },
    {
     "cell_type": "heading",
     "level": 2,
     "metadata": {},
     "source": [
      "Example 3.10, Page 3.26"
     ]
    },
    {
     "cell_type": "code",
     "collapsed": false,
     "input": [
      "from math import pi, cos\n",
      "\n",
      "# Given \n",
      "theta1 = pi / 6 # angle between Nicole prisms in first case in radian\n",
      "theta2 = pi / 4 # angle between Nicole prisms in second case in radian\n",
      "theta3 = pi / 3 # angle between Nicole prisms in third case in radian\n",
      "theta4 = pi / 2 # angle between Nicole prisms in fourth case in radian\n",
      "\n",
      "#Calculations\n",
      "I1 = (1 - (cos(theta1))**2) * 100\n",
      "I2 = (1 - (cos(theta2))**2) * 100\n",
      "I3 = (1 - (cos(theta3))**2) * 100\n",
      "I4 = (1 - (cos(theta4))**2) * 100\n",
      "\n",
      "#Result\n",
      "print \"Percentage reduction in intensity of light-\\n(i)%.f %%\\n(ii)%.f %%\\n(iii)%.f %%\\n(iv)%.f %%\"%(I1,I2,I3,I4)"
     ],
     "language": "python",
     "metadata": {},
     "outputs": [
      {
       "output_type": "stream",
       "stream": "stdout",
       "text": [
        "Percentage reduction in intensity of light-\n",
        "(i)25 %\n",
        "(ii)50 %\n",
        "(iii)75 %\n",
        "(iv)100 %\n"
       ]
      }
     ],
     "prompt_number": 18
    },
    {
     "cell_type": "heading",
     "level": 2,
     "metadata": {},
     "source": [
      "Example 3.11, Page 3.27"
     ]
    },
    {
     "cell_type": "code",
     "collapsed": false,
     "input": [
      "from math import pi, acos, sqrt \n",
      "\n",
      "# Given \n",
      "i1 = 1. / 2 # reduced intensity ratio in first case\n",
      "i2 = 1. / 4 # reduced intensity ratio in second case\n",
      "\n",
      "#Calculations\n",
      "theta1 = acos(sqrt(i1)) * (180 / pi)# calculation for angle between nicols in first case \n",
      "theta2 = acos(sqrt(i2)) * (180 / pi)# calculation for angle between nicols in second case\n",
      "\n",
      "#Result\n",
      "print \"Angle between the Nicols in first case = %.f degree\\nAnd in second case = %.f degree\"%(theta1,theta2)"
     ],
     "language": "python",
     "metadata": {},
     "outputs": [
      {
       "output_type": "stream",
       "stream": "stdout",
       "text": [
        "Angle between the Nicols in first case = 45 degree\n",
        "And in second case = 60 degree\n"
       ]
      }
     ],
     "prompt_number": 44
    },
    {
     "cell_type": "heading",
     "level": 2,
     "metadata": {},
     "source": [
      "Example 3.12, Page 3.27"
     ]
    },
    {
     "cell_type": "code",
     "collapsed": false,
     "input": [
      "# Given \n",
      "l = 5e-7 # wavelength of light in meter\n",
      "mu_e = 1.553 # refractive index for extraordinary light\n",
      "mu_o = 1.544 # refractive index for ordinary light\n",
      "\n",
      "#Calculations\n",
      "t = l / (2 * (mu_e - mu_o)) # calculation for thickness of half-wave plate of quartz\n",
      "\n",
      "#Result\n",
      "print \"Thickness of half-wave plate of quartz = %.2e meter\"%t"
     ],
     "language": "python",
     "metadata": {},
     "outputs": [
      {
       "output_type": "stream",
       "stream": "stdout",
       "text": [
        "Thickness of half-wave plate of quartz = 2.78e-05 meter\n"
       ]
      }
     ],
     "prompt_number": 20
    },
    {
     "cell_type": "heading",
     "level": 2,
     "metadata": {},
     "source": [
      "Example 3.13, Page 3.27"
     ]
    },
    {
     "cell_type": "code",
     "collapsed": false,
     "input": [
      "# Given \n",
      "l = 5.893e-7 # wavelength of light in meter\n",
      "mu_e = 1.533 # refractive index for extraordinary light\n",
      "mu_o = 1.554 # refractive index for ordinary light\n",
      "\n",
      "#Calculation\n",
      "t = l / (4 * (mu_o - mu_e)) # calculation for thickness of quartz plate\n",
      "\n",
      "#Result\n",
      "print \"Thickness of quartz plate  = %.2e meter\"%t"
     ],
     "language": "python",
     "metadata": {},
     "outputs": [
      {
       "output_type": "stream",
       "stream": "stdout",
       "text": [
        "Thickness of quartz plate  = 7.02e-06 meter\n"
       ]
      }
     ],
     "prompt_number": 21
    },
    {
     "cell_type": "heading",
     "level": 2,
     "metadata": {},
     "source": [
      "Example 3.14, Page 3.28"
     ]
    },
    {
     "cell_type": "code",
     "collapsed": false,
     "input": [
      "# Given \n",
      "l = 5.89e-7 # wavelength of light in meter\n",
      "mu_e1 = 1.5 # refractive index for extraordinary light in first case\n",
      "mu_o1 = 1.55 # refractive index for ordinary light in first case\n",
      "mu_e2 = 1.57 # refractive index for extraordinary light in second case\n",
      "mu_o2 = 1.55 # refractive index for ordinary light in second case\n",
      "\n",
      "#Calculations\n",
      "t1 = l / (4 * (mu_o1 - mu_e1))\n",
      "t2 = l / (4 * (mu_e2 - mu_o2))\n",
      " # calculation for thickness of plate of quartz\n",
      "\n",
      "#Result\n",
      "print \"Thickness of plate of quartz in first case = %.3e meter,\\nAnd thickness of plate of quartz in second case = %.2e meter\"%(t1,t2)"
     ],
     "language": "python",
     "metadata": {},
     "outputs": [
      {
       "output_type": "stream",
       "stream": "stdout",
       "text": [
        "Thickness of plate of quartz in first case = 2.945e-06 meter,\n",
        "And thickness of plate of quartz in second case = 7.36e-06 meter\n"
       ]
      }
     ],
     "prompt_number": 22
    },
    {
     "cell_type": "heading",
     "level": 2,
     "metadata": {},
     "source": [
      "Example 3.15, Page 3.28"
     ]
    },
    {
     "cell_type": "code",
     "collapsed": false,
     "input": [
      "# Given \n",
      "l = 5.89e-7 # wavelength of light in meter\n",
      "mu_e = 1.486 # refractive index for extraordinary light\n",
      "mu_o = 1.658 # refractive index for ordinary light\n",
      "\n",
      "#Calculation\n",
      "t = l / (4 * (mu_o - mu_e)) # calculation for thickness of calcite plate \n",
      "\n",
      "#Result\n",
      "print \"Thickness of calcite plate  = %.2e meter\"%t"
     ],
     "language": "python",
     "metadata": {},
     "outputs": [
      {
       "output_type": "stream",
       "stream": "stdout",
       "text": [
        "Thickness of calcite plate  = 8.56e-07 meter\n"
       ]
      }
     ],
     "prompt_number": 23
    },
    {
     "cell_type": "heading",
     "level": 2,
     "metadata": {},
     "source": [
      "Example 3.16, Page 3.28"
     ]
    },
    {
     "cell_type": "code",
     "collapsed": false,
     "input": [
      "# Given \n",
      "l = 5e-7 # wavelength of light in meter\n",
      "mu_e = 1.5533 # refractive index for extraordinary light\n",
      "mu_o = 1.5442 # refractive index for ordinary light\n",
      "\n",
      "#Calculation\n",
      "t = l / (4 * (mu_e - mu_o)) # calculation for thickness of quartz plate\n",
      "\n",
      "#Result\n",
      "print \"Thickness of quartz plate  = %.2e meter\"%t"
     ],
     "language": "python",
     "metadata": {},
     "outputs": [
      {
       "output_type": "stream",
       "stream": "stdout",
       "text": [
        "Thickness of quartz plate  = 1.37e-05 meter\n"
       ]
      }
     ],
     "prompt_number": 24
    },
    {
     "cell_type": "heading",
     "level": 2,
     "metadata": {},
     "source": [
      "Example 3.17, Page 3.28"
     ]
    },
    {
     "cell_type": "code",
     "collapsed": false,
     "input": [
      "# Given \n",
      "l = 5.89e-7 # wavelength of light in meter\n",
      "mu_e = 1.54 # refractive index for extraordinary light\n",
      "mu_o = 1.55 # refractive index for ordinary light\n",
      "\n",
      "#Calculation\n",
      "t = l / (4 * (mu_o - mu_e)) # calculation for thickness of quartz plate\n",
      "\n",
      "#Result\n",
      "print \"Thickness of quartz plate  = %.2e meter\"%t"
     ],
     "language": "python",
     "metadata": {},
     "outputs": [
      {
       "output_type": "stream",
       "stream": "stdout",
       "text": [
        "Thickness of quartz plate  = 1.47e-05 meter\n"
       ]
      }
     ],
     "prompt_number": 25
    },
    {
     "cell_type": "heading",
     "level": 2,
     "metadata": {},
     "source": [
      "Example 3.18, Page 3.28"
     ]
    },
    {
     "cell_type": "code",
     "collapsed": false,
     "input": [
      "# Given \n",
      "l = 5.89e-7 # wavelength of light in meter\n",
      "mu_e = 1.553 # refractive index for extraordinary light\n",
      "mu_o = 1.544 # refractive index for ordinary light\n",
      "\n",
      "#Calculation\n",
      "t = l / (4 * (mu_e - mu_o)) # calculation for thickness of quartz plate\n",
      "\n",
      "#Result\n",
      "print \"Thickness of quartz plate  = %.2e meter\"%t"
     ],
     "language": "python",
     "metadata": {},
     "outputs": [
      {
       "output_type": "stream",
       "stream": "stdout",
       "text": [
        "Thickness of quartz plate  = 1.64e-05 meter\n"
       ]
      }
     ],
     "prompt_number": 26
    },
    {
     "cell_type": "heading",
     "level": 2,
     "metadata": {},
     "source": [
      "Example 3.19, Page 3.29"
     ]
    },
    {
     "cell_type": "code",
     "collapsed": false,
     "input": [
      "# Given \n",
      "mu_e = 1.5442 # refractive index for extraordinary light\n",
      "mu_o = 1.5533 # refractive index for ordinary light\n",
      "l = 5e-7 # wavelength of plane polarized light in meter\n",
      "\n",
      "#Calculation\n",
      "t = l / (2 * (mu_o - mu_e))# calculation for thickness of quartz plate\n",
      "\n",
      "#Result\n",
      "print \"Thickness of quartz plate  = %.2e meter\"%t"
     ],
     "language": "python",
     "metadata": {},
     "outputs": [
      {
       "output_type": "stream",
       "stream": "stdout",
       "text": [
        "Thickness of quartz plate  = 2.75e-05 meter\n"
       ]
      }
     ],
     "prompt_number": 27
    },
    {
     "cell_type": "heading",
     "level": 2,
     "metadata": {},
     "source": [
      "Example 3.20, Page 3.29"
     ]
    },
    {
     "cell_type": "code",
     "collapsed": false,
     "input": [
      "# Given \n",
      "theta = 10 # rotation of plane of polarization in degree\n",
      "s = 60 # specific rotation of sugar solution in degree per decimeter per unit concentration\n",
      "l = 2.5 # length of Polari meter in decimeter\n",
      "\n",
      "#Calculation\n",
      "c = theta / (s * l) # calculation for concentration of sugar solution\n",
      "\n",
      "#Result\n",
      "print \"Concentration of sugar solution = %.3f gm/cc\"%c"
     ],
     "language": "python",
     "metadata": {},
     "outputs": [
      {
       "output_type": "stream",
       "stream": "stdout",
       "text": [
        "Concentration of sugar solution = 0.067 gm/cc\n"
       ]
      }
     ],
     "prompt_number": 28
    },
    {
     "cell_type": "heading",
     "level": 2,
     "metadata": {},
     "source": [
      "Example 3.21, Page 3.29"
     ]
    },
    {
     "cell_type": "code",
     "collapsed": false,
     "input": [
      "# Given \n",
      "theta = 26.4 # rotation of plane of polarization in degree\n",
      "c = 0.2 # concentration of sugar solution in gm/cc\n",
      "l = 2 # length of polarizing tube in decimeter\n",
      "\n",
      "#Calculation\n",
      "s = theta / (l * c)# calculation for specific rotation of sugar solution\n",
      "\n",
      "#Result\n",
      "print \"Specific rotation of sugar solution = %.f degree/(dm-cc)\"%s"
     ],
     "language": "python",
     "metadata": {},
     "outputs": [
      {
       "output_type": "stream",
       "stream": "stdout",
       "text": [
        "Specific rotation of sugar solution = 66 degree/(dm-cc)\n"
       ]
      }
     ],
     "prompt_number": 43
    },
    {
     "cell_type": "heading",
     "level": 2,
     "metadata": {},
     "source": [
      "Example 3.22, Page 3.29"
     ]
    },
    {
     "cell_type": "code",
     "collapsed": false,
     "input": [
      "# Given \n",
      "theta = 6.5 # rotation of plane of polarization in degree\n",
      "c = 0.05 # concentration of sugar solution in gm/cc\n",
      "l = 2 # length of polarizing tube in decimeter\n",
      "\n",
      "#Calculation\n",
      "s = theta / (l * c) # calculation for specific rotation of sugar solution\n",
      "\n",
      "#Result\n",
      "print \"Specific rotation of sugar solution = %.f degree/(dm-cc)\"%s"
     ],
     "language": "python",
     "metadata": {},
     "outputs": [
      {
       "output_type": "stream",
       "stream": "stdout",
       "text": [
        "Specific rotation of sugar solution = 65 degree/(dm-cc)\n"
       ]
      }
     ],
     "prompt_number": 42
    },
    {
     "cell_type": "heading",
     "level": 2,
     "metadata": {},
     "source": [
      "Example 3.23, Page 3.30"
     ]
    },
    {
     "cell_type": "code",
     "collapsed": false,
     "input": [
      "# Given \n",
      "w = 80 # weight of impure sugar in gm\n",
      "theta = 9.9 # rotation of plane of polarization in degree\n",
      "s = 66 # specific rotation of sugar solution in degree per decimeter per unit concentration\n",
      "l = 2 # length of Polari meter in decimeter\n",
      "\n",
      "#Calculations\n",
      "c = theta / (s * l) * (1000) # in gm/l\n",
      "per_c = (c * 100) / w # calculation for concentration of sugar solution\n",
      "\n",
      "#Result\n",
      "print \"Concentration of sugar solution = %.2f percent\"%per_c"
     ],
     "language": "python",
     "metadata": {},
     "outputs": [
      {
       "output_type": "stream",
       "stream": "stdout",
       "text": [
        "Concentration of sugar solution = 93.75 percent\n"
       ]
      }
     ],
     "prompt_number": 29
    },
    {
     "cell_type": "heading",
     "level": 2,
     "metadata": {},
     "source": [
      "Example 3.24, Page 3.30"
     ]
    },
    {
     "cell_type": "code",
     "collapsed": false,
     "input": [
      "# Given \n",
      "theta = 11. # rotation of plane of polarization in degree\n",
      "s = 66 # specific rotation of sugar solution in degree per decimeter per unit concentration\n",
      "l = 2 # length of Polari meter in decimeter\n",
      "\n",
      "#Calculation\n",
      "c = theta / (s * l) # calculation for concentration of sugar solution\n",
      "\n",
      "#Result\n",
      "print \"Concentration of sugar solution = %.4f gm/cc\"%c"
     ],
     "language": "python",
     "metadata": {},
     "outputs": [
      {
       "output_type": "stream",
       "stream": "stdout",
       "text": [
        "Concentration of sugar solution = 0.0833 gm/cc\n"
       ]
      }
     ],
     "prompt_number": 30
    },
    {
     "cell_type": "heading",
     "level": 2,
     "metadata": {},
     "source": [
      "Example 3.25, Page 3.30"
     ]
    },
    {
     "cell_type": "code",
     "collapsed": false,
     "input": [
      "# Given \n",
      "theta = 26.4 # rotation of plane of polarization in degree\n",
      "c = 0.2 # concentration of sugar solution in gm/cc\n",
      "l = 2 # length of polarizing tube in decimeter\n",
      "\n",
      "#calculation\n",
      "s = theta / (l * c) # calculation for specific rotation of sugar solution\n",
      "\n",
      "#Result\n",
      "print \"Specific rotation of sugar solution = %.f degree/(dm-cc)\"%s"
     ],
     "language": "python",
     "metadata": {},
     "outputs": [
      {
       "output_type": "stream",
       "stream": "stdout",
       "text": [
        "Specific rotation of sugar solution = 66 degree/(dm-cc)\n"
       ]
      }
     ],
     "prompt_number": 40
    },
    {
     "cell_type": "heading",
     "level": 2,
     "metadata": {},
     "source": [
      "Example 3.26, Page 3.30"
     ]
    },
    {
     "cell_type": "code",
     "collapsed": false,
     "input": [
      "# Given \n",
      "theta = 13 # rotation of plane of polarization in degree\n",
      "r = (1. / 3) # ratio of the final concentration to the initial solution\n",
      "l = 2 # length of Polari meter in decimeter\n",
      "l_ = 3 # length of second polarizing tube in decimeter \n",
      "\n",
      "#Calculation\n",
      "theta_ = (l_ * r * theta) / l# calculation for optical rotation of diluted solution\n",
      "\n",
      "#Result\n",
      "print \"Optical rotation of diluted solution = %.1f degree\"%theta_"
     ],
     "language": "python",
     "metadata": {},
     "outputs": [
      {
       "output_type": "stream",
       "stream": "stdout",
       "text": [
        "Optical rotation of diluted solution = 6.5 degree\n"
       ]
      }
     ],
     "prompt_number": 39
    }
   ],
   "metadata": {}
  }
 ]
}