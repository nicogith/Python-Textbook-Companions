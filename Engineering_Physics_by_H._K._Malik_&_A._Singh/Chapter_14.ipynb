{
 "metadata": {
  "name": ""
 },
 "nbformat": 3,
 "nbformat_minor": 0,
 "worksheets": [
  {
   "cells": [
    {
     "cell_type": "heading",
     "level": 1,
     "metadata": {},
     "source": [
      "Chapter 14: Development of Quantum Mechanics"
     ]
    },
    {
     "cell_type": "heading",
     "level": 2,
     "metadata": {},
     "source": [
      "Example 14.1, Page 14.20"
     ]
    },
    {
     "cell_type": "code",
     "collapsed": false,
     "input": [
      "# Given \n",
      "E = 75 # energy of photon in eV\n",
      "h = 6.62e-34 # Planck constant in J-sec\n",
      "c = 3e8 # speed of light in m/sec\n",
      "e = 1.6e-19 # charge on an electron in J \n",
      "\n",
      "#Calculations\n",
      "f = E * e / h\n",
      "lamda = c / f\n",
      " \n",
      "#Result\n",
      "print \"Frequency is %.2e Hz\\nWavelength is %.1f A\"%(f,lamda * 10**10)\n",
      "                                                               "
     ],
     "language": "python",
     "metadata": {},
     "outputs": [
      {
       "output_type": "stream",
       "stream": "stdout",
       "text": [
        "Frequency is 1.81e+16 Hz\n",
        "Wavelength is 165.5 A\n"
       ]
      }
     ],
     "prompt_number": 1
    },
    {
     "cell_type": "heading",
     "level": 2,
     "metadata": {},
     "source": [
      "Example 14.2, Page 14.20"
     ]
    },
    {
     "cell_type": "code",
     "collapsed": false,
     "input": [
      "# Given \n",
      "P = 2e5 # radiated power in W\n",
      "f = 98e6 # frequency in Hz \n",
      "h = 6.62e-34 # Planck constant in J-sec\n",
      "c = 3e8 # speed of light in m/sec\n",
      "e = 1.6e-19 # charge on an electron in C \n",
      "\n",
      "#Calculations\n",
      "E = h * f\n",
      "n = P / E\n",
      "\n",
      "#Result\n",
      "print \"Number of quanta emitted per sec is %.2e\"%n\n",
      "                                                               "
     ],
     "language": "python",
     "metadata": {},
     "outputs": [
      {
       "output_type": "stream",
       "stream": "stdout",
       "text": [
        "Number of quanta emitted per sec is 3.08e+30\n"
       ]
      }
     ],
     "prompt_number": 2
    },
    {
     "cell_type": "heading",
     "level": 2,
     "metadata": {},
     "source": [
      "Example 14.3, Page 14.20"
     ]
    },
    {
     "cell_type": "code",
     "collapsed": false,
     "input": [
      "# Given \n",
      "lamda = 4e-7 # wavelength of spectral line in meter\n",
      "h = 6.62e-34 # Planck constant in J-sec\n",
      "c = 3e8 # speed of light in m/sec\n",
      "e = 1.6e-19 # charge on an electron in C \n",
      "\n",
      "#Calculations\n",
      "E = (h * c) / lamda\n",
      "\n",
      "#Result\n",
      "print \"Energy of photon is %.3e J\"%E\n",
      "                                                               "
     ],
     "language": "python",
     "metadata": {},
     "outputs": [
      {
       "output_type": "stream",
       "stream": "stdout",
       "text": [
        "Energy of photon is 4.965e-19 J\n"
       ]
      }
     ],
     "prompt_number": 3
    },
    {
     "cell_type": "heading",
     "level": 2,
     "metadata": {},
     "source": [
      "Example 14.4, Page 14.21"
     ]
    },
    {
     "cell_type": "code",
     "collapsed": false,
     "input": [
      "\n",
      "# Given \n",
      "lamda = 5e-7 # wavelength of green light in meter\n",
      "h = 6.62e-34 # Planck constant in J-sec\n",
      "c = 3e8 # speed of light in m/sec\n",
      "e = 1.6e-19 # charge on an electron in C \n",
      "P = 1. # energy in erg\n",
      "\n",
      "#Calculations\n",
      "E = ((h * c) / lamda) * (10**7)\n",
      "n = P / E\n",
      "\n",
      "#Result\n",
      "print \"Number of photons of green light emitted is %.2e\"%n\n",
      "                                                               "
     ],
     "language": "python",
     "metadata": {},
     "outputs": [
      {
       "output_type": "stream",
       "stream": "stdout",
       "text": [
        "Number of photons of green light emitted is 2.52e+11\n"
       ]
      }
     ],
     "prompt_number": 7
    },
    {
     "cell_type": "heading",
     "level": 2,
     "metadata": {},
     "source": [
      "Example 14.5, Page 14.21"
     ]
    },
    {
     "cell_type": "code",
     "collapsed": false,
     "input": [
      "\n",
      "# Given \n",
      "E = 5e-19 # energy of photon in J\n",
      "h = 6.62e-34 # Planck constant in J-sec\n",
      "c = 3e8 # speed of light in m/sec\n",
      "e = 1.6e-19 # charge on an electron in C\n",
      "\n",
      "#Calculations\n",
      "lamda = (c * h) / E\n",
      "\n",
      "#Result\n",
      "print \"Wavelength is %.f A\"%(lamda * 10**10)\n",
      "#Incorrect answer in the textbook                    "
     ],
     "language": "python",
     "metadata": {},
     "outputs": [
      {
       "output_type": "stream",
       "stream": "stdout",
       "text": [
        "Wavelength is 3972 A\n"
       ]
      }
     ],
     "prompt_number": 8
    },
    {
     "cell_type": "heading",
     "level": 2,
     "metadata": {},
     "source": [
      "Example 14.6, Page 14.21"
     ]
    },
    {
     "cell_type": "code",
     "collapsed": false,
     "input": [
      "# Given \n",
      "lamda = 4.35e-7 # wavelength of green light in meter\n",
      "h = 6.62e-34 # Planck constant in J-sec\n",
      "c = 3e8 # speed of light in m/sec\n",
      "e = 1.6e-19 # charge on an electron in C \n",
      "P = 1 # energy in erg\n",
      "\n",
      "#Calculations\n",
      "E = ((h * c) / lamda)\n",
      "\n",
      "#Result\n",
      "print \"Energy of an electron is %.3e J\"%E\n",
      "                                                               "
     ],
     "language": "python",
     "metadata": {},
     "outputs": [
      {
       "output_type": "stream",
       "stream": "stdout",
       "text": [
        "Energy of an electron is 4.566e-19 J\n"
       ]
      }
     ],
     "prompt_number": 9
    },
    {
     "cell_type": "heading",
     "level": 2,
     "metadata": {},
     "source": [
      "Example 14.7, Page 14.22"
     ]
    },
    {
     "cell_type": "code",
     "collapsed": false,
     "input": [
      "# Given \n",
      "lamda = 5.6e-7 # wavelength of light in meter\n",
      "n = 120 # no. of photons per second\n",
      "h = 6.62e-34 # Planck constant in J-sec\n",
      "c = 3e8 # speed of light in m/sec\n",
      "e = 1.6e-19 # charge on an electron in C \n",
      "\n",
      "#Calculations\n",
      "E = ((h * c) / lamda)\n",
      "p = E * n\n",
      "\n",
      "#Result\n",
      "print \"Energy received by the eye per second is %.3e W\"%p\n",
      "#Incorrect answer in the textbook                                                               "
     ],
     "language": "python",
     "metadata": {},
     "outputs": [
      {
       "output_type": "stream",
       "stream": "stdout",
       "text": [
        "Energy received by the eye per second is 4.256e-17 W\n"
       ]
      }
     ],
     "prompt_number": 14
    },
    {
     "cell_type": "heading",
     "level": 2,
     "metadata": {},
     "source": [
      "Example 14.8, Page 14.22"
     ]
    },
    {
     "cell_type": "code",
     "collapsed": false,
     "input": [
      " \n",
      "# Given \n",
      "lamda = 5.5e-7 # wavelength of light in meter\n",
      "E = 1.5 # energy in J\n",
      "h = 6.62e-34 # Planck constant in J-sec\n",
      "c = 3e8 # speed of light in m/sec\n",
      "e = 1.6e-19 # charge on an electron in C \n",
      "\n",
      "#Calculations\n",
      "E_ = ((h * c) / lamda)\n",
      "n = E / E_\n",
      "\n",
      "#Result\n",
      "print \"Number of photons of yellow light = %.3e\"%n\n",
      "                                                               "
     ],
     "language": "python",
     "metadata": {},
     "outputs": [
      {
       "output_type": "stream",
       "stream": "stdout",
       "text": [
        "Number of photons of yellow light = 4.154e+18\n"
       ]
      }
     ],
     "prompt_number": 15
    },
    {
     "cell_type": "heading",
     "level": 2,
     "metadata": {},
     "source": [
      "Example 14.9, Page 14.22"
     ]
    },
    {
     "cell_type": "code",
     "collapsed": false,
     "input": [
      "from math import *\n",
      "\n",
      "# Given \n",
      "lamda = 4.35e-7 # wavelength of light in meter\n",
      "lambda_ = 5.42e-7 # threshold wavelength of photoelectron in meter\n",
      "h = 6.62e-34 # Planck constant in J-sec\n",
      "c = 3e8 # speed of light in m/sec\n",
      "e = 1.6e-19 # charge on an electron in C\n",
      "m = 9.1e-31 # mass of an electron in kg \n",
      "\n",
      "#Calculations\n",
      "w = ((h * c) / lambda_)\n",
      "v = sqrt(((2 * h * c) / m) * (1 / lamda - 1 / lambda_))\n",
      "V = m * v**2 / (2 * e)\n",
      "\n",
      "#Result\n",
      "print \"Work function is %.3e J\\nStopping potential is %.2f V\\nMaximum velocity is %.3e m/sec\"%(w,V,v)\n",
      "                                                               "
     ],
     "language": "python",
     "metadata": {},
     "outputs": [
      {
       "output_type": "stream",
       "stream": "stdout",
       "text": [
        "Work function is 3.664e-19 J\n",
        "Stopping potential is 0.56 V\n",
        "Maximum velocity is 4.451e+05 m/sec\n"
       ]
      }
     ],
     "prompt_number": 16
    },
    {
     "cell_type": "heading",
     "level": 2,
     "metadata": {},
     "source": [
      "Example 14.10, Page 14.23"
     ]
    },
    {
     "cell_type": "code",
     "collapsed": false,
     "input": [
      " \n",
      "# Given \n",
      "f = 1.2e15 # frequency of light in Hz\n",
      "f_ = 1.1e+15 # threshold frequency of photoelectron emission in copper in Hz\n",
      "h = 6.62e-34 # Planck constant in J-sec\n",
      "c = 3e8 # speed of light in m/sec\n",
      "e = 1.6e-19 # charge on an electron in C\n",
      "\n",
      "#Calculations\n",
      "E = h * (f - f_) / e\n",
      "\n",
      "#Result\n",
      "print \"Maximum energy of photoelectron is %.3f eV\"%E\n",
      "                                                               "
     ],
     "language": "python",
     "metadata": {},
     "outputs": [
      {
       "output_type": "stream",
       "stream": "stdout",
       "text": [
        "Maximum energy of photoelectron is 0.414 eV\n"
       ]
      }
     ],
     "prompt_number": 17
    },
    {
     "cell_type": "heading",
     "level": 2,
     "metadata": {},
     "source": [
      "Example 14.11, Page 14.23"
     ]
    },
    {
     "cell_type": "code",
     "collapsed": false,
     "input": [
      " \n",
      "# Given \n",
      "lamda = 6.2e-7 # threshold wavelength of photoelectron in first case in meter\n",
      "lambda_ = 5e-7 # threshold wavelength of photoelectron in second case in meter\n",
      "h = 6.62e-34 # Planck constant in J-sec\n",
      "c = 3e8 # speed of light in m/sec\n",
      "e = 1.6e-19 # charge on an electron in C\n",
      "\n",
      "#Calculations\n",
      "w = ((h * c) / lamda) * (1 / e)\n",
      "w_ = ((h * c) / lambda_) * (1 / e)\n",
      "\n",
      "#Result\n",
      "print \"Work function for wavelength %.e A is %.f eV\\nWork function for wavelength %.e A is %.2f eV\"%(lamda,w,lambda_,w_)\n",
      "                                                               "
     ],
     "language": "python",
     "metadata": {},
     "outputs": [
      {
       "output_type": "stream",
       "stream": "stdout",
       "text": [
        "Work function for wavelength 6e-07 A is 2 eV\n",
        "Work function for wavelength 5e-07 A is 2.48 eV\n"
       ]
      }
     ],
     "prompt_number": 20
    },
    {
     "cell_type": "heading",
     "level": 2,
     "metadata": {},
     "source": [
      "Example 14.12, Page 14.24"
     ]
    },
    {
     "cell_type": "code",
     "collapsed": false,
     "input": [
      "\n",
      "# Given \n",
      "lamda = 3.132e-7 # wavelength of light in meter\n",
      "V = 1.98 # stopping potential in V\n",
      "h = 6.62e-34 # Planck constant in J-sec\n",
      "c = 3e8 # speed of light in m/sec\n",
      "e = 1.6e-19 # charge on an electron in C\n",
      "m = 9.1e-31 # mass of an electron in kg \n",
      "\n",
      "#Calculations\n",
      "E = e * V\n",
      "lambda_ = 1. / ((1. / lamda) - (E / (h * c)))\n",
      "f = c / lambda_\n",
      "w = ((h * c) / lambda_)\n",
      "\n",
      "#Result\n",
      "print \"Work function is %.3e J\\nMaximum energy is %.3e J\\nThreshold frequency is %.3e Hz\"%(w,E,f)"
     ],
     "language": "python",
     "metadata": {},
     "outputs": [
      {
       "output_type": "stream",
       "stream": "stdout",
       "text": [
        "Work function is 3.173e-19 J\n",
        "Maximum energy is 3.168e-19 J\n",
        "Threshold frequency is 4.793e+14 Hz\n"
       ]
      }
     ],
     "prompt_number": 23
    },
    {
     "cell_type": "heading",
     "level": 2,
     "metadata": {},
     "source": [
      "Example 14.13, Page 14.24"
     ]
    },
    {
     "cell_type": "code",
     "collapsed": false,
     "input": [
      "\n",
      "# Given \n",
      "w = 4.8 # work function in eV\n",
      "lambda1 = 5e-7 # wavelength of incident radiation in first case in meter\n",
      "lambda2 = 2e-7 # wavelength of incident radiation in second case in meter\n",
      "h = 6.62e-34 # Planck constant in J-sec\n",
      "c = 3e8 # speed of light in m/sec\n",
      "e = 1.6e-19 # charge on an electron in C\n",
      "\n",
      "#Calculations\n",
      "E_k1 = h*c/lambda1\n",
      "E_k2 = h*c / lambda2\n",
      "\n",
      "#Result\n",
      "print \"The energy corresponding to wavelength 5000 A is %.2f which is found to be less than the work function 4.8 eV\"%(E_k1/e) \n",
      "print \"The energy corresponding to wavelength 2000 A %.2f is found to be greater than the work function\"%(E_k2/e)\n",
      "                                                               "
     ],
     "language": "python",
     "metadata": {},
     "outputs": [
      {
       "output_type": "stream",
       "stream": "stdout",
       "text": [
        "The energy corresponding to wavelength 5000 A is 2.48 which is found to be less than the work function 4.8 eV\n",
        "The energy corresponding to wavelength 2000 A 6.21 is found to be greater than the work function\n"
       ]
      }
     ],
     "prompt_number": 4
    },
    {
     "cell_type": "heading",
     "level": 2,
     "metadata": {},
     "source": [
      "Example 14.14, Page 14.25"
     ]
    },
    {
     "cell_type": "code",
     "collapsed": false,
     "input": [
      " \n",
      "# Given \n",
      "lamda = 5.893e-7 # wavelength of light in meter\n",
      "V = 0.36 # stopping potential for emitted electron in eV\n",
      "h = 6.62e-34 # Planck constant in J-sec\n",
      "c = 3e8 # speed of light in m/sec\n",
      "e = 1.6e-19 # charge on an electron in C\n",
      "m = 9.1e-31 # mass of an electron in kg \n",
      "\n",
      "#Calculations\n",
      "E = h * c / lamda\n",
      "w = ((h * c) / lamda) * (1 / e) - V\n",
      "f = w * e / h\n",
      "\n",
      "#Result\n",
      "print \"Maximum energy is %.2f eV\\nWork function is %.2f eV\\nThreshold frequency is %.2e cycles/sec\"%(E/e,w,f)\n",
      "                                                               "
     ],
     "language": "python",
     "metadata": {},
     "outputs": [
      {
       "output_type": "stream",
       "stream": "stdout",
       "text": [
        "Maximum energy is 2.11 eV\n",
        "Work function is 1.75 eV\n",
        "Threshold frequency is 4.22e+14 cycles/sec\n"
       ]
      }
     ],
     "prompt_number": 29
    },
    {
     "cell_type": "heading",
     "level": 2,
     "metadata": {},
     "source": [
      "Example 14.15, Page 14.25"
     ]
    },
    {
     "cell_type": "code",
     "collapsed": false,
     "input": [
      "\n",
      "# Given \n",
      "lamda = 5.89e-7 # wavelength of light in meter\n",
      "lambda_ = 7.32e-7 # threshold wavelength of photoelectron in meter\n",
      "h = 6.62e-34 # Planck constant in J-sec\n",
      "c = 3e8 # speed of light in m/sec\n",
      "e = 1.6e-19 # charge on an electron in C\n",
      "m = 9.1e-31 # mass of an electron in kg \n",
      "\n",
      "#Calculations\n",
      "E = (h * c) * (1 / lamda - 1 / lambda_)\n",
      "V = E / e\n",
      "\n",
      "#Result\n",
      "print \"Stopping potential is %.3f V\\nMaximum kinetic energy is %.3e J\"%(V,E)\n",
      "                                                               "
     ],
     "language": "python",
     "metadata": {},
     "outputs": [
      {
       "output_type": "stream",
       "stream": "stdout",
       "text": [
        "Stopping potential is 0.412 V\n",
        "Maximum kinetic energy is 6.587e-20 J\n"
       ]
      }
     ],
     "prompt_number": 30
    },
    {
     "cell_type": "heading",
     "level": 2,
     "metadata": {},
     "source": [
      "Example 14.16, Page 14.26"
     ]
    },
    {
     "cell_type": "code",
     "collapsed": false,
     "input": [
      " \n",
      "# Given \n",
      "E = 1.5 # maximum energy in eV\n",
      "lambda_ = 2.3e-7 # threshold wavelength of photoelectron in meter\n",
      "h = 6.62e-34 # Planck constant in J-sec\n",
      "c = 3e8 # speed of light in m/sec\n",
      "e = 1.6e-19 # charge on an electron in C\n",
      "m = 9.1e-31 # mass of an electron in kg \n",
      "\n",
      "#Calculations\n",
      "lamda = 1 / ((E * e / (h * c)) + (1 / lambda_))\n",
      "\n",
      "#Resuult\n",
      "print \"Wavelength of light is %.1f A\"%(lamda * 1e10)\n",
      "                                                               "
     ],
     "language": "python",
     "metadata": {},
     "outputs": [
      {
       "output_type": "stream",
       "stream": "stdout",
       "text": [
        "Wavelength of light is 1799.8 A\n"
       ]
      }
     ],
     "prompt_number": 31
    },
    {
     "cell_type": "heading",
     "level": 2,
     "metadata": {},
     "source": [
      "Example 14.17, Page 14.26"
     ]
    },
    {
     "cell_type": "code",
     "collapsed": false,
     "input": [
      " \n",
      "# Given \n",
      "lamda = 1.5e-7 # wavelength of light in in meter\n",
      "w = 4.53 # work function of tungsten in eV\n",
      "h = 6.62e-34 # Planck constant in J-sec\n",
      "c = 3e8 # speed of light in m/sec\n",
      "e = 1.6e-19 # charge on an electron in C\n",
      "\n",
      "#Calculations\n",
      "E = ((h * c) / lamda) * (1 / e)\n",
      "k = E - w\n",
      "\n",
      "#Result\n",
      "print \"Energy of incident photon is %.2f eV,which is greater than the work function \\nSo it causes photoelectric emission.\\nKinetic energy of the emitted electron is %.2f eV\"%(E,k)\n",
      "                                                               "
     ],
     "language": "python",
     "metadata": {},
     "outputs": [
      {
       "output_type": "stream",
       "stream": "stdout",
       "text": [
        "Energy of incident photon is 8.28 eV,which is greater than the work function \n",
        "So it causes photoelectric emission.\n",
        "Kinetic energy of the emitted electron is 3.75 eV\n"
       ]
      }
     ],
     "prompt_number": 33
    },
    {
     "cell_type": "heading",
     "level": 2,
     "metadata": {},
     "source": [
      "Example 14.18, Page 14.26"
     ]
    },
    {
     "cell_type": "code",
     "collapsed": false,
     "input": [
      " \n",
      "# Given \n",
      "w = 2.3 # work function of sodium in eV\n",
      "h = 6.62e-34 # Planck constant in J-sec\n",
      "c = 3e8 # speed of light in m/sec\n",
      "e = 1.6e-19 # charge on an electron in C\n",
      "\n",
      "#Calculations\n",
      "lamda = ((h * c) / w) * (1 / e)\n",
      "\n",
      "#Result\n",
      "print \"Longest wavelength required for photoemission is %.2f A\"%(lamda * 1e10)\n",
      "                                                               "
     ],
     "language": "python",
     "metadata": {},
     "outputs": [
      {
       "output_type": "stream",
       "stream": "stdout",
       "text": [
        "Longest wavelength required for photoemission is 5396.74 A\n"
       ]
      }
     ],
     "prompt_number": 34
    },
    {
     "cell_type": "heading",
     "level": 2,
     "metadata": {},
     "source": [
      "Example 14.19, Page 14.27"
     ]
    },
    {
     "cell_type": "code",
     "collapsed": false,
     "input": [
      " \n",
      "# Given \n",
      "w = 2 # work function of sodium in eV\n",
      "h = 6.62e-34 # Planck constant in J-sec\n",
      "c = 3e8 # speed of light in m/sec\n",
      "e = 1.6e-19 # charge on an electron in C\n",
      "\n",
      "#Calculations\n",
      "lamda = ((h * c) / w) * (1 / e)\n",
      "\n",
      "#Result\n",
      "print \"Threshold wavelength for photo emission is %d A\"%(lamda * 1e10)\n",
      "                                                               "
     ],
     "language": "python",
     "metadata": {},
     "outputs": [
      {
       "output_type": "stream",
       "stream": "stdout",
       "text": [
        "Threshold wavelength for photo emission is 6206 A\n"
       ]
      }
     ],
     "prompt_number": 27
    },
    {
     "cell_type": "heading",
     "level": 2,
     "metadata": {},
     "source": [
      "Example 14.20, Page 14.27"
     ]
    },
    {
     "cell_type": "code",
     "collapsed": false,
     "input": [
      " \n",
      "# Given \n",
      "k = 4 # maximum kinetic energy of electron in eV\n",
      "w = 2.2 # work function of sodium in eV\n",
      "h = 6.62e-34 # Planck constant in J-sec\n",
      "c = 3e8 # speed of light in m/sec\n",
      "e = 1.6e-19 # charge on an electron in C\n",
      "\n",
      "#Calculations\n",
      "lambda_ = ((h * c) / (w * e)) \n",
      "lamda = (1 / ((((k * e)  / (h * c))) + (1 / lambda_)))\n",
      "\n",
      "#Result\n",
      "print \"Threshold wavelength is %d A\\nIncident electromagnetic wavelength is %.f A\"%(lambda_ * 1e10,lamda * 1e10)\n",
      "                                                               "
     ],
     "language": "python",
     "metadata": {},
     "outputs": [
      {
       "output_type": "stream",
       "stream": "stdout",
       "text": [
        "Threshold wavelength is 5642 A\n",
        "Incident electromagnetic wavelength is 2002 A\n"
       ]
      }
     ],
     "prompt_number": 35
    },
    {
     "cell_type": "heading",
     "level": 2,
     "metadata": {},
     "source": [
      "Example 14.21, Page 14.28"
     ]
    },
    {
     "cell_type": "code",
     "collapsed": false,
     "input": [
      " \n",
      "# Given \n",
      "lamda = 3.5e-7 # wavelength of light in meter\n",
      "i = 1 # intensity in W/m^2\n",
      "p = 0.5 # percent of incident photon produce electron\n",
      "a = 1 # surface area of potassium in cm^2\n",
      "w = 2.1 # work function of potassium in eV\n",
      "h = 6.62e-34 # Planck constant in J-sec\n",
      "c = 3e8 # speed of light in m/sec\n",
      "e = 1.6e-19 # charge on an electron in C\n",
      "m = 9.1e-31 # mass of an electron in kg \n",
      "\n",
      "#Calculations\n",
      "E = (((h * c) / lamda) * (1 / e) - w) * e\n",
      "E_ = (p * a * 1e-4) / 100 # in W/cm^2\n",
      "n = E_ / E\n",
      "\n",
      "#Result\n",
      "print \"Maximum kinetic energy is %.3e J\\nNumber of electrons emitted per sec from 1cm^2 area is %.2e\"%(E,n)\n",
      "                                                               "
     ],
     "language": "python",
     "metadata": {},
     "outputs": [
      {
       "output_type": "stream",
       "stream": "stdout",
       "text": [
        "Maximum kinetic energy is 2.314e-19 J\n",
        "Number of electrons emitted per sec from 1cm^2 area is 2.16e+12\n"
       ]
      }
     ],
     "prompt_number": 36
    },
    {
     "cell_type": "heading",
     "level": 2,
     "metadata": {},
     "source": [
      "Example 14.22, Page 14.28"
     ]
    },
    {
     "cell_type": "code",
     "collapsed": false,
     "input": [
      " \n",
      "# Given \n",
      "lamda = 5.896e-7 # wavelength of first light in meter\n",
      "lambda_ = 2.83e-7 # wavelength of second light in meter\n",
      "V1 = 0.12 # stopping potential for emitted electrons for first light in V\n",
      "V2 = 2.2 # stopping potential for emitted electrons for second light in V\n",
      "c = 3e8 # speed of light in m/sec\n",
      "e = 1.6e-19 # charge on an electron in C \n",
      "\n",
      "#Calculations\n",
      "h = (e * (V2 - V1) / c) / (1 / lambda_ - 1 / lamda)\n",
      "\n",
      "#Result\n",
      "print \"Value of Planck constant is %.2e J-sec\"%h\n",
      "                                                               "
     ],
     "language": "python",
     "metadata": {},
     "outputs": [
      {
       "output_type": "stream",
       "stream": "stdout",
       "text": [
        "Value of Planck constant is 6.04e-34 J-sec\n"
       ]
      }
     ],
     "prompt_number": 37
    },
    {
     "cell_type": "heading",
     "level": 2,
     "metadata": {},
     "source": [
      "Example 14.23, Page 14.29"
     ]
    },
    {
     "cell_type": "code",
     "collapsed": false,
     "input": [
      "from math import *\n",
      "\n",
      "# Given \n",
      "lamda = 1e-10 # wavelength of light in meter\n",
      "theta = 90 # angle at which scattered radiation is viewed in degree\n",
      "h = 6.62e-34 # Planck constant in J-sec\n",
      "c = 3e8 # speed of light in m/sec\n",
      "e = 1.6e-19 # charge on an electron in C \n",
      "m = 9.1e-31 # mass of an electron in kg\n",
      "\n",
      "#Calculations\n",
      "delta_lambda = (h * (1 - cos(theta*pi/180))) / (m * c)\n",
      "\n",
      "#Result\n",
      "print \"Compton shift is %.3f A\"%(delta_lambda * 1e10)\n",
      "                                                               "
     ],
     "language": "python",
     "metadata": {},
     "outputs": [
      {
       "output_type": "stream",
       "stream": "stdout",
       "text": [
        "Compton shift is 0.024 A\n"
       ]
      }
     ],
     "prompt_number": 39
    },
    {
     "cell_type": "heading",
     "level": 2,
     "metadata": {},
     "source": [
      "Example 14.24, Page 14.29"
     ]
    },
    {
     "cell_type": "code",
     "collapsed": false,
     "input": [
      "from math import * \n",
      "# Given \n",
      "lamda = 1e-10 # wavelength of light in meter\n",
      "theta = 90 # angle in degree\n",
      "h = 6.62e-34 # Planck constant in J-sec\n",
      "c = 3e8 # speed of light in m/sec\n",
      "e = 1.6e-19 # charge on an electron in C \n",
      "m = 9.1e-31 # mass of an electron in kg\n",
      "\n",
      "#Calculations\n",
      "delta_lambda = (h * (1 - cos(theta*pi/180))) / (m * c)\n",
      "E = (h * c) / delta_lambda\n",
      "\n",
      "#Result\n",
      "print \"Compton shift is %.3f A\\nEnergy of incident beam is %.3f MeV\"%(delta_lambda * 1e10,E / 1.6e-13)\n",
      "                                                               "
     ],
     "language": "python",
     "metadata": {},
     "outputs": [
      {
       "output_type": "stream",
       "stream": "stdout",
       "text": [
        "Compton shift is 0.024 A\n",
        "Energy of incident beam is 0.512 MeV\n"
       ]
      }
     ],
     "prompt_number": 41
    },
    {
     "cell_type": "heading",
     "level": 2,
     "metadata": {},
     "source": [
      "Example 14.25, Page 14.30"
     ]
    },
    {
     "cell_type": "code",
     "collapsed": false,
     "input": [
      "from math import *\n",
      "    \n",
      "# Given \n",
      "E = 4 # enrgy of recoil electron in KeV\n",
      "theta = 180 # scattered angle of photon in degree\n",
      "h = 6.62e-34 # Planck constant in J-sec\n",
      "c = 3e8 # speed of light in m/sec\n",
      "e = 1.6e-19 # charge on an electron in C \n",
      "m = 9.1e-31 # mass of an electron in kg\n",
      "\n",
      "#Calculations\n",
      "p = sqrt(2 * E * 10**3 * e * m)\n",
      "lamda = (2 * h * c) / (p * c + E * 10**3 * e)\n",
      "\n",
      "#Result\n",
      "print \"Wavelength of incident beam is %.3f A\"%(lamda * 1e10)\n",
      "                                                               "
     ],
     "language": "python",
     "metadata": {},
     "outputs": [
      {
       "output_type": "stream",
       "stream": "stdout",
       "text": [
        "Wavelength of incident beam is 0.365 A\n"
       ]
      }
     ],
     "prompt_number": 42
    },
    {
     "cell_type": "heading",
     "level": 2,
     "metadata": {},
     "source": [
      "Example 14.26, Page 14.31"
     ]
    },
    {
     "cell_type": "code",
     "collapsed": false,
     "input": [
      "from math import *\n",
      "\n",
      "# Given \n",
      "lamda = 1e-10 # wavelength of light in meter\n",
      "theta = 90 # angle in degree\n",
      "h = 6.62e-34 # Planck constant in J-sec\n",
      "c = 3e8 # speed of light in m/sec\n",
      "e = 1.6e-19 # charge on an electron in C \n",
      "m = 9.1e-31 # mass of an electron in kg\n",
      "\n",
      "#Calculations\n",
      "delta_lambda = (h * (1 - cos(theta*pi/180))) / (m * c)\n",
      "E = (h * c) * ((1 / lamda) - (1 / (lamda + delta_lambda)))\n",
      "\n",
      "#Result\n",
      "print \"Compton shift is %.3e m\\nKinetic energy is %.f eV\"%(delta_lambda,E / 1.6e-19)\n",
      "                                                               "
     ],
     "language": "python",
     "metadata": {},
     "outputs": [
      {
       "output_type": "stream",
       "stream": "stdout",
       "text": [
        "Compton shift is 2.425e-12 m\n",
        "Kinetic energy is 294 eV\n"
       ]
      }
     ],
     "prompt_number": 44
    },
    {
     "cell_type": "heading",
     "level": 2,
     "metadata": {},
     "source": [
      "Example 14.27, Page 14.31"
     ]
    },
    {
     "cell_type": "code",
     "collapsed": false,
     "input": [
      "from math import *\n",
      "\n",
      "# Given \n",
      "lamda = 0.144e-10 # wavelength of x-ray in meter\n",
      "h = 6.62e-34 # Planck constant in J-sec\n",
      "c = 3e8 # speed of light in m/sec\n",
      "e = 1.6e-19 # charge on an electron in C \n",
      "m = 9.1e-31 # mass of an electron in kg\n",
      "\n",
      "#Calculations\n",
      "theta = 180 # for maximum shift\n",
      "d_lamda = (h * (1 - cos(theta*pi/180))) / (m * c)\n",
      "E = (h * c) * ((1. / lamda) - (1. / (d_lamda+lamda)))\n",
      "\n",
      "#Result\n",
      "print \"Maximum Compton shift is %.4f A\\nKinetic energy is %.2f KeV\"%(delta_lambda * 1e10,E / 1.6e-16)\n",
      "                                                               "
     ],
     "language": "python",
     "metadata": {},
     "outputs": [
      {
       "output_type": "stream",
       "stream": "stdout",
       "text": [
        "Maximum Compton shift is 0.0485 A\n",
        "Kinetic energy is 21.72 KeV\n"
       ]
      }
     ],
     "prompt_number": 5
    },
    {
     "cell_type": "heading",
     "level": 2,
     "metadata": {},
     "source": [
      "Example 14.28, Page 14.32"
     ]
    },
    {
     "cell_type": "code",
     "collapsed": false,
     "input": [
      "from math import *\n",
      "\n",
      "# Given \n",
      "lamda = 0.2e-10 # wavelength of x-ray in meter\n",
      "theta = 45 # scattered angle in degree\n",
      "h = 6.62e-34 # Planck constant in J-sec\n",
      "c = 3e8 # speed of light in m/sec\n",
      "e = 1.6e-19 # charge on an electron in C \n",
      "m = 9.1e-31 # mass of an electron in kg\n",
      "\n",
      "#Calculations\n",
      "delta_lambda = (h * (1 - cos(theta*pi/180))) / (m * c)\n",
      "E = (h * c) * ((1 / lamda) - (1 / (lamda + delta_lambda)))\n",
      "theta_ = 180 # for maximum\n",
      "delta_lambda_ = (h * (1 - cos(theta_*pi/180))) / (m * c)\n",
      "lambda_ = lamda + delta_lambda_\n",
      "E_k = h*c*(1/lamda - 1/lambda_)\n",
      "\n",
      "#Result\n",
      "print \"Wavelength of x-ray is %.4f A\\nMaximum kinetic energy %.2e J\"%(lambda_ * 1e10,E_k)\n",
      "                                                               "
     ],
     "language": "python",
     "metadata": {},
     "outputs": [
      {
       "output_type": "stream",
       "stream": "stdout",
       "text": [
        "Wavelength of x-ray is 0.2485 A\n",
        "Maximum kinetic energy 1.94e-15 J\n"
       ]
      }
     ],
     "prompt_number": 7
    },
    {
     "cell_type": "heading",
     "level": 2,
     "metadata": {},
     "source": [
      "Example 14.29, Page 14.33"
     ]
    },
    {
     "cell_type": "code",
     "collapsed": false,
     "input": [
      " \n",
      "# Given \n",
      "h = 6.62e-34 # Planck constant in J-sec\n",
      "v = 96 # speed of automobile in km/hr\n",
      "e = 1.6e-19 # charge on an electron in C \n",
      "m = 2e3 # mass of automobile in kg\n",
      "\n",
      "#Calculations\n",
      "v_ = v * (5. / 18)\n",
      "lamda = h / (m * v_)\n",
      "\n",
      "#Result\n",
      "print \"de-Broglie wavelength is %.2e m\"%lamda\n",
      "                                                               "
     ],
     "language": "python",
     "metadata": {},
     "outputs": [
      {
       "output_type": "stream",
       "stream": "stdout",
       "text": [
        "de-Broglie wavelength is 1.24e-38 m\n"
       ]
      }
     ],
     "prompt_number": 8
    },
    {
     "cell_type": "heading",
     "level": 2,
     "metadata": {},
     "source": [
      "Example 14.30, Page 14.33"
     ]
    },
    {
     "cell_type": "code",
     "collapsed": false,
     "input": [
      "from math import *\n",
      "\n",
      "# Given \n",
      "v = 50 # potential differece in volt\n",
      "h = 6.62e-34 # Planck constant in J-sec\n",
      "c = 3e8 # speed of light in m/sec\n",
      "e = 1.6e-19 # charge on an electron in C \n",
      "m = 9.1e-31 # mass of an electron in kg\n",
      "\n",
      "#Calculations\n",
      "lamda =  h  / sqrt(2 * m * v * e)\n",
      "\n",
      "#Result\n",
      "print \"de-Broglie wavelength is %.2f A\"%(lamda * 1e10)\n",
      "                                                               "
     ],
     "language": "python",
     "metadata": {},
     "outputs": [
      {
       "output_type": "stream",
       "stream": "stdout",
       "text": [
        "de-Broglie wavelength is 1.73 A\n"
       ]
      }
     ],
     "prompt_number": 9
    },
    {
     "cell_type": "heading",
     "level": 2,
     "metadata": {},
     "source": [
      "Example 14.31, Page 14.33"
     ]
    },
    {
     "cell_type": "code",
     "collapsed": false,
     "input": [
      "from math import *\n",
      "\n",
      "# Given \n",
      "t = 300 # temperature in K\n",
      "k = 1.37e-23 # Boltzmann's constant in J/K\n",
      "h = 6.62e-34 # Planck constant in J-sec\n",
      "e = 1.6e-19 # charge on an electron in C \n",
      "m = 1.67e-27 # mass of neutron in kg\n",
      "\n",
      "#Calculations\n",
      "lamda = h / sqrt(3 * m * k * t)\n",
      "\n",
      "#Result\n",
      "print \"Wavelength of thermal neutron is %.3f A\"%(lamda * 1e10)\n",
      "                                                               "
     ],
     "language": "python",
     "metadata": {},
     "outputs": [
      {
       "output_type": "stream",
       "stream": "stdout",
       "text": [
        "Wavelength of thermal neutron is 1.459 A\n"
       ]
      }
     ],
     "prompt_number": 10
    },
    {
     "cell_type": "heading",
     "level": 2,
     "metadata": {},
     "source": [
      "Example 14.32, Page 14.34"
     ]
    },
    {
     "cell_type": "code",
     "collapsed": false,
     "input": [
      " \n",
      "# Given \n",
      "v = 2e8 # speed of proton in m/sec\n",
      "h = 6.62e-34 # Planck constant in J-sec\n",
      "e = 1.6e-19 # charge on an electron in C \n",
      "m = 1.67e-27 # mass of proton in kg\n",
      "\n",
      "#Calculations\n",
      "lamda = h / (m * v)\n",
      "\n",
      "#Result\n",
      "print \"Wavelength of matter wave associated with proton is %.2e m\"%lamda\n",
      "                                                               "
     ],
     "language": "python",
     "metadata": {},
     "outputs": [
      {
       "output_type": "stream",
       "stream": "stdout",
       "text": [
        "Wavelength of matter wave associated with proton is 1.98e-15 m\n"
       ]
      }
     ],
     "prompt_number": 11
    },
    {
     "cell_type": "heading",
     "level": 2,
     "metadata": {},
     "source": [
      "Example 14.33, Page 14.34"
     ]
    },
    {
     "cell_type": "code",
     "collapsed": false,
     "input": [
      " \n",
      "# Given \n",
      "lamda = 0.1e-10 # DE Broglie wavelength associated with electron in M\n",
      "h = 6.62e-34 # Planck constant in J-sec\n",
      "e = 1.6e-19 # charge on an electron in C \n",
      "m = 9.1e-31 # mass of electron in kg\n",
      "\n",
      "#Calculations\n",
      "V = h**2 / (2 * m* e * lamda**2)\n",
      "\n",
      "#Result\n",
      "print \"Potential difference is %.2f KV\"%(V * 10**-3)"
     ],
     "language": "python",
     "metadata": {},
     "outputs": [
      {
       "output_type": "stream",
       "stream": "stdout",
       "text": [
        "Potential difference is 15.05 KV\n"
       ]
      }
     ],
     "prompt_number": 12
    },
    {
     "cell_type": "heading",
     "level": 2,
     "metadata": {},
     "source": [
      "Example 14.34, Page 14.34"
     ]
    },
    {
     "cell_type": "code",
     "collapsed": false,
     "input": [
      "from math import *\n",
      "\n",
      "# Given \n",
      "v = 200 # potential differece in volt\n",
      "h = 6.62e-34 # Planck constant in J-sec\n",
      "c = 3e8 # speed of light in m/sec\n",
      "q = 3.2e-19 # charge on an alpha particle in C \n",
      "m = 4 * 1.67e-27 # mass of alpha particle in kg\n",
      "\n",
      "#Calculations\n",
      "lamda =  h  / sqrt(2 * m * v * q)\n",
      "\n",
      "#Result\n",
      "print \"de-Broglie wavelength = %.2e m\"%lamda\n",
      "                                                               "
     ],
     "language": "python",
     "metadata": {},
     "outputs": [
      {
       "output_type": "stream",
       "stream": "stdout",
       "text": [
        "de-Broglie wavelength = 7.16e-13 m\n"
       ]
      }
     ],
     "prompt_number": 13
    },
    {
     "cell_type": "heading",
     "level": 2,
     "metadata": {},
     "source": [
      "Example 14.35, Page 14.34"
     ]
    },
    {
     "cell_type": "code",
     "collapsed": false,
     "input": [
      "from math import *\n",
      "\n",
      "# Given \n",
      "t = 400 # temperature in K\n",
      "k = 1.38e-23 # Boltzmann's constant in J/K\n",
      "h = 6.62e-34 # Planck constant in J-sec\n",
      "e = 1.6e-19 # charge on an electron in C \n",
      "m = 4 * 1.67e-27 # mass of helium atom in kg\n",
      "\n",
      "#Calculations\n",
      "lamda = h / sqrt(3 * m * k * t)\n",
      "\n",
      "#Result\n",
      "print \"de-Broglie wavelength = %.4f A\"%(lamda * 1e10)\n",
      "                                                               "
     ],
     "language": "python",
     "metadata": {},
     "outputs": [
      {
       "output_type": "stream",
       "stream": "stdout",
       "text": [
        "de-Broglie wavelength = 0.6294 A\n"
       ]
      }
     ],
     "prompt_number": 14
    },
    {
     "cell_type": "heading",
     "level": 2,
     "metadata": {},
     "source": [
      "Example 14.36, Page 14.35"
     ]
    },
    {
     "cell_type": "code",
     "collapsed": false,
     "input": [
      " \n",
      "# Given \n",
      "v = 2000 # velocity of neutron in m/sec\n",
      "h = 6.62e-34 # Planck constant in J-sec\n",
      "e = 1.6e-19 # charge on an electron in C \n",
      "m = 1.67e-27 # mass of neutron in kg\n",
      "\n",
      "#Calculations\n",
      "lamda = h / (m * v)\n",
      "\n",
      "#Result\n",
      "print \"de-Broglie wavelength is %.2f A\"%(lamda * 1e10)\n",
      "                                                               "
     ],
     "language": "python",
     "metadata": {},
     "outputs": [
      {
       "output_type": "stream",
       "stream": "stdout",
       "text": [
        "de-Broglie wavelength is 1.98 A\n"
       ]
      }
     ],
     "prompt_number": 15
    },
    {
     "cell_type": "heading",
     "level": 2,
     "metadata": {},
     "source": [
      "Example 14.37, Page 14.35"
     ]
    },
    {
     "cell_type": "code",
     "collapsed": false,
     "input": [
      " \n",
      "# Given \n",
      "lamda = 1e-10 # wavelength in m\n",
      "h = 6.62e-34 # Planck constant in J-sec\n",
      "e = 1.6e-19 # charge on an electron in C \n",
      "m = 9.1e-31 # mass of electron in kg\n",
      "m_ = 1.7e-27 # mass of neutron in kg\n",
      "\n",
      "#Calculations\n",
      "v = h / (m_ * lamda)\n",
      "E = h**2 / (2 * m * lamda**2)\n",
      "E_ = h**2 / (2 * m_ * lamda**2)\n",
      "\n",
      "#Result\n",
      "print \"Energy for electron is %.f eV\\nEnergy for neutron is %.3f eV\"%(E / e,E_ / e)\n",
      "                                                               "
     ],
     "language": "python",
     "metadata": {},
     "outputs": [
      {
       "output_type": "stream",
       "stream": "stdout",
       "text": [
        "Energy for electron is 150 eV\n",
        "Energy for neutron is 0.081 eV\n"
       ]
      }
     ],
     "prompt_number": 18
    },
    {
     "cell_type": "heading",
     "level": 2,
     "metadata": {},
     "source": [
      "Example 14.38, Page 14.36"
     ]
    },
    {
     "cell_type": "code",
     "collapsed": false,
     "input": [
      "from math import *\n",
      "\n",
      "# Given \n",
      "E1 = 500 # kinetic energy of electron in first case in eV\n",
      "E2 = 50 # kinetic energy of electron in second case in eV\n",
      "E3 = 1 # kinetic energy of electron in third case in eV\n",
      "h = 6.62e-34 # Planck constant in J-sec\n",
      "e = 1.6e-19 # charge on an electron in C \n",
      "m = 9.1e-31 # mass of electron in kg\n",
      "\n",
      "#Calculations\n",
      "lambda1 = h / sqrt(2 * m * E1 * e)\n",
      "lambda2 = h / sqrt(2 * m * E2 * e)\n",
      "lambda3 = h / sqrt(2 * m * E3 * e)\n",
      "\n",
      "#Result\n",
      "print \"de-Broglie wavelength of electron - \\n(1) In first case is %.4f A \\n(2) In second case is %.3f A \\n(3) In third is %.3f A\"%(lambda1*1e10,lambda2*1e10,lambda3*1e10)\n",
      "                                                               "
     ],
     "language": "python",
     "metadata": {},
     "outputs": [
      {
       "output_type": "stream",
       "stream": "stdout",
       "text": [
        "de-Broglie wavelength of electron - \n",
        "(1) In first case is 0.5486 A \n",
        "(2) In second case is 1.735 A \n",
        "(3) In third is 12.268 A\n"
       ]
      }
     ],
     "prompt_number": 20
    },
    {
     "cell_type": "heading",
     "level": 2,
     "metadata": {},
     "source": [
      "Example 14.39, Page 14.36"
     ]
    },
    {
     "cell_type": "code",
     "collapsed": false,
     "input": [
      "from math import *\n",
      "\n",
      "# Given \n",
      "E1 = 1 # kinetic energy of neutron in first case in eV\n",
      "E2 = 510 # kinetic energy of neutron in second case in eV\n",
      "h = 6.62e-34 # Planck constant in J-sec\n",
      "e = 1.6e-19 # charge on an electron in C \n",
      "m = 1.67e-27 # mass of neutron in kg\n",
      "\n",
      "#Calculations\n",
      "lambda1 = h / sqrt(2 * m * E1 * e)\n",
      "lambda2 = h / sqrt(2 * m * E2 * e)\n",
      "r = lambda1 / lambda2\n",
      "\n",
      "#Result\n",
      "print \"Ratio of de-Broglie wavelengths is %.2f:1\"%r\n",
      "                                                               "
     ],
     "language": "python",
     "metadata": {},
     "outputs": [
      {
       "output_type": "stream",
       "stream": "stdout",
       "text": [
        "Ratio of de-Broglie wavelengths is 22.58:1\n"
       ]
      }
     ],
     "prompt_number": 22
    },
    {
     "cell_type": "heading",
     "level": 2,
     "metadata": {},
     "source": [
      "Example 14.40, Page 14.37"
     ]
    },
    {
     "cell_type": "code",
     "collapsed": false,
     "input": [
      "from math import *\n",
      "\n",
      "# Given \n",
      "E = 20 # kinetic energy of proton in MeV\n",
      "E2 = 510 # kinetic energy of neutron in second case in eV\n",
      "h = 6.62e-34 # Planck constant in J-sec\n",
      "e = 1.6e-19 # charge on an electron in C \n",
      "m = 1.67e-27 # mass of proton in kg\n",
      "m_ = 9.1e-31 # mass of electron in kg\n",
      "\n",
      "#Calculations\n",
      "lambda1 = h / sqrt(2 * m * 10**6 * E * e)\n",
      "lambda2 = h / sqrt(2 * m_ * E * 10**6 * e)\n",
      "r = lambda2 / lambda1\n",
      "\n",
      "#Result\n",
      "print \"Ratio of de-Broglie wavelengths is 1:%.f\"%r\n",
      "                                                               "
     ],
     "language": "python",
     "metadata": {},
     "outputs": [
      {
       "output_type": "stream",
       "stream": "stdout",
       "text": [
        "Ratio of de-Broglie wavelengths is 1:43\n"
       ]
      }
     ],
     "prompt_number": 24
    },
    {
     "cell_type": "heading",
     "level": 2,
     "metadata": {},
     "source": [
      "Example 14.41, Page 14.37"
     ]
    },
    {
     "cell_type": "code",
     "collapsed": false,
     "input": [
      "from math import *\n",
      "\n",
      "# Given \n",
      "E = 1 # kinetic energy of proton in MeV\n",
      "h = 6.62e-34 # Planck constant in J-sec\n",
      "e = 1.6e-19 # charge on an electron in C \n",
      "m = 1.67e-27 # mass of proton in kg\n",
      "\n",
      "#Calculations\n",
      "v = sqrt(2 * E * 1.6e-13 / m)\n",
      "\n",
      "#Result\n",
      "print \"Velocity is %.2e m/sec\"%v\n",
      "                                                               "
     ],
     "language": "python",
     "metadata": {},
     "outputs": [
      {
       "output_type": "stream",
       "stream": "stdout",
       "text": [
        "Velocity is 1.38e+07 m/sec\n"
       ]
      }
     ],
     "prompt_number": 26
    },
    {
     "cell_type": "heading",
     "level": 2,
     "metadata": {},
     "source": [
      "Example 14.42, Page 14.38"
     ]
    },
    {
     "cell_type": "code",
     "collapsed": false,
     "input": [
      " \n",
      "# Given \n",
      "r = 1. / 20 # ratio of velocity of proton to the velocity of light \n",
      "c = 3e8 # velocity of light in m/sec\n",
      "h = 6.62e-34 # Planck constant in J-sec\n",
      "e = 1.6e-19 # charge on an electron in C \n",
      "m = 1.67e-27 # mass of proton in kg\n",
      "\n",
      "#Calculations\n",
      "v = r * c\n",
      "lamda = h / (m * v)\n",
      "\n",
      "#Result\n",
      "print \"de-Broglie wavelength is %.3e m\"%lamda\n",
      "                                                               "
     ],
     "language": "python",
     "metadata": {},
     "outputs": [
      {
       "output_type": "stream",
       "stream": "stdout",
       "text": [
        "de-Broglie wavelength is 2.643e-14 m\n"
       ]
      }
     ],
     "prompt_number": 27
    },
    {
     "cell_type": "heading",
     "level": 2,
     "metadata": {},
     "source": [
      "Example 14.43, Page 14.38"
     ]
    },
    {
     "cell_type": "code",
     "collapsed": false,
     "input": [
      " \n",
      "# Given \n",
      "lamda = 5.0e-7 # wavelength in m\n",
      "c = 3.e8 # velocity of light in m/sec\n",
      "h = 6.62e-34 # Planck constant in J-sec\n",
      "e = 1.6e-19 # charge on an electron in C \n",
      "m = 1.67e-27 # mass of proton in kg\n",
      "m_ = 9.1e-31 # mass of electron in kg\n",
      "\n",
      "#Calculations\n",
      "E1 = h**2 / (2 * m * lamda**2)\n",
      "E2 = h**2 / (2 * m_ * lamda**2)\n",
      "\n",
      "#Results\n",
      "print 'kinetic energy of proton(in J) =%.3e'%E1\n",
      "print 'kinetic energy of electron(in J) =%.2e'%E2\n",
      "      "
     ],
     "language": "python",
     "metadata": {},
     "outputs": [
      {
       "output_type": "stream",
       "stream": "stdout",
       "text": [
        "kinetic energy of proton(in J) =5.248e-28\n",
        "kinetic energy of electron(in J) =9.63e-25\n"
       ]
      }
     ],
     "prompt_number": 37
    },
    {
     "cell_type": "heading",
     "level": 2,
     "metadata": {},
     "source": [
      "Example 14.44, Page 14.38"
     ]
    },
    {
     "cell_type": "code",
     "collapsed": false,
     "input": [
      "from math import *\n",
      "\n",
      "# Given \n",
      "n = 1 # no. of Bohr's orbit of hydrogen atom\n",
      "c = 3e8 # velocity of light in m/sec\n",
      "h = 6.62e-34 # Planck constant in J-sec\n",
      "e = 1.6e-19 # charge on an electron in C \n",
      "m = 9.1e-31 # mass of electron in kg\n",
      "\n",
      "#Calculations\n",
      "E = (13.6 / n**2) * e\n",
      "lamda = h / sqrt(2 * m * E)\n",
      "\n",
      "#Result\n",
      "print \"de-Broglie wavelength is %.1f A\"%(lamda*1e10)\n",
      "                                                               "
     ],
     "language": "python",
     "metadata": {},
     "outputs": [
      {
       "output_type": "stream",
       "stream": "stdout",
       "text": [
        "de-Broglie wavelength is 3.3 A\n"
       ]
      }
     ],
     "prompt_number": 38
    },
    {
     "cell_type": "heading",
     "level": 2,
     "metadata": {},
     "source": [
      "Example 14.45, Page 14.38"
     ]
    },
    {
     "cell_type": "code",
     "collapsed": false,
     "input": [
      "from math import *\n",
      "\n",
      "# Given \n",
      "t = 300 # temperature in K\n",
      "k = 1.376e-23 # Boltzmann's constant in J/K\n",
      "c = 3e8 # velocity of light in m/sec\n",
      "h = 6.62e-34 # Planck constant in J-sec\n",
      "e = 1.6e-19 # charge on an electron in C \n",
      "m_ = 4 * 1.67e-27 # mass of helium atom in kg\n",
      "m = 1.67e-27 # mass of hydrogen atom in kg\n",
      "\n",
      "#Calculations\n",
      "lambda1 = h / sqrt(3 * m * k * t)\n",
      "lambda2 = h / sqrt(3 * m_ * k * t)\n",
      "r = lambda1 / lambda2\n",
      "\n",
      "#Result\n",
      "print \"Ratio of de-Broglie wavelengths is %d:1\"%r\n",
      "                                                               "
     ],
     "language": "python",
     "metadata": {},
     "outputs": [
      {
       "output_type": "stream",
       "stream": "stdout",
       "text": [
        "Ratio of de-Broglie wavelengths is 2:1\n"
       ]
      }
     ],
     "prompt_number": 39
    },
    {
     "cell_type": "heading",
     "level": 2,
     "metadata": {},
     "source": [
      "Example 14.47, Page 14.40"
     ]
    },
    {
     "cell_type": "code",
     "collapsed": false,
     "input": [
      "# Given \n",
      "lamda = 1.2e-10 # DE Broglie wavelength in m\n",
      "c = 3e8 # velocity of light in m/sec\n",
      "h = 6.62e-34 # Planck constant in J-sec\n",
      "e = 1.6e-19 # charge on an electron in C \n",
      "m = 9.1e-31 # mass of electron in kg\n",
      "\n",
      "#Calculations\n",
      "v1 = h / (m * lamda)\n",
      "v2 = h / (2 * m * lamda)\n",
      "\n",
      "#Result\n",
      "print \"Group velocity is %.2e m/sec\\nPhase velocity is %.2e m/sec\"%(v1,v2)\n",
      "                                                               "
     ],
     "language": "python",
     "metadata": {},
     "outputs": [
      {
       "output_type": "stream",
       "stream": "stdout",
       "text": [
        "Group velocity is 6.06e+06 m/sec\n",
        "Phase velocity is 3.03e+06 m/sec\n"
       ]
      }
     ],
     "prompt_number": 41
    }
   ],
   "metadata": {}
  }
 ]
}