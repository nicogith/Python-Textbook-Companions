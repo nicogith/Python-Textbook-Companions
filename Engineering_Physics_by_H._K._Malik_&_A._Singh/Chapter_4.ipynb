{
 "metadata": {
  "name": ""
 },
 "nbformat": 3,
 "nbformat_minor": 0,
 "worksheets": [
  {
   "cells": [
    {
     "cell_type": "heading",
     "level": 1,
     "metadata": {},
     "source": [
      "Chapter 4: Lasers and Holography"
     ]
    },
    {
     "cell_type": "heading",
     "level": 2,
     "metadata": {},
     "source": [
      "Example 4.1, Page 4.23"
     ]
    },
    {
     "cell_type": "code",
     "collapsed": false,
     "input": [
      "from math import exp\n",
      "\n",
      "# Given \n",
      "l = 5.5e-7 # wavelength of light in meter\n",
      "c = 3e+8 # speed of light in m/sec\n",
      "h = 6.63e-34 # Planck constant in j/sec\n",
      "e = 1.6e-19 # charge on electron in coulomb \n",
      "k = 8.62e-5 # Boltzmann constant in eV/K\n",
      "T = 300 # temperature in kelvin\n",
      "\n",
      "#Calculations\n",
      "delta_E = (h * c) / (l * e) # calculation for energy difference \n",
      "r = exp(-delta_E / (k * T)) # calculation for ratio of population of upper level to the lower energy level\n",
      "T_ = (delta_E / (k * 0.693)) # calculation for temperature for the second condition\n",
      "\n",
      "#Result\n",
      "print \"Ratio of population of upper level to the lower energy level = %.1e. \\nTemperature for the second condition = %.f K. \"%(r,T_)\n",
      "#Incorrect answer in the textbook"
     ],
     "language": "python",
     "metadata": {},
     "outputs": [
      {
       "output_type": "stream",
       "stream": "stdout",
       "text": [
        "Ratio of population of upper level to the lower energy level = 1.1e-38. \n",
        "Temperature for the second condition = 37837 K. \n"
       ]
      }
     ],
     "prompt_number": 2
    },
    {
     "cell_type": "heading",
     "level": 2,
     "metadata": {},
     "source": [
      "Example 4.2, Page 4.24"
     ]
    },
    {
     "cell_type": "code",
     "collapsed": false,
     "input": [
      "from math import pi\n",
      "\n",
      "# Given \n",
      "lambda1 = 6.328e-7 # wavelength of light in first case in meter\n",
      "lambda2 =2e-7 # wavelength of light in second case in meter\n",
      "r1 = 2.3e-4 # the radius of internal beam of laser in first case in meter\n",
      "r2 = 2.4e-3 # the radius of internal beam of laser in second case in meter\n",
      "\n",
      "#Calculations\n",
      "theta1 = lambda1 / (pi * r1) # calculation for beam divergence angle in first case\n",
      "theta2 = lambda2 / (pi * r2) # calculation for beam divergence angle in second case\n",
      "\n",
      "#Result\n",
      "print \"Beam divergence angle in first case = %.2e radian. \\nBeam divergence angle in second case = %.2e radian. \"%(theta1,theta2)"
     ],
     "language": "python",
     "metadata": {},
     "outputs": [
      {
       "output_type": "stream",
       "stream": "stdout",
       "text": [
        "Beam divergence angle in first case = 8.76e-04 radian. \n",
        "Beam divergence angle in second case = 2.65e-05 radian. \n"
       ]
      }
     ],
     "prompt_number": 3
    },
    {
     "cell_type": "heading",
     "level": 2,
     "metadata": {},
     "source": [
      "Example 4.3, Page 4.25"
     ]
    },
    {
     "cell_type": "code",
     "collapsed": false,
     "input": [
      "from math import pi,ceil\n",
      "\n",
      "# Given \n",
      "l = 6.0*10**-2 # length of laser in meter\n",
      "D = 1.0*10**-2 # diameter of laser in meter\n",
      "L = 6.944e-7 # wavelength of light in meter\n",
      "d = 3700 # density of aluminium oxide in kg/meter cube\n",
      "Na = 6e+23 # Avogadro number\n",
      "M = 0.102 # molar mass of aluminium oxide in kg/meter cube\n",
      "h = 4.1e-15 # Planck constant in eV-sec\n",
      "c = 3e+8 # speed of light in meter/sec\n",
      "\n",
      "#Calculations\n",
      "v = (pi * (D**2) * l) / 4 # calculation for volume \n",
      "N = (2 * Na * d * v) / M # calculation for no. of aluminium ions\n",
      "N_ = N / 3500 # calculation for the no. of chromium ions\n",
      "E = (h * c) / L # calculation for the energy of stimulated emission photon \n",
      "Et = N_ * E * (1.6e-19) # calculation for total energy\n",
      "\n",
      "#Result\n",
      "print \"Total energy = %.f J\"%(ceil(Et))"
     ],
     "language": "python",
     "metadata": {},
     "outputs": [
      {
       "output_type": "stream",
       "stream": "stdout",
       "text": [
        "Total energy = 17 J\n"
       ]
      }
     ],
     "prompt_number": 11
    },
    {
     "cell_type": "heading",
     "level": 2,
     "metadata": {},
     "source": [
      "Example 4.4, Page 4.26"
     ]
    },
    {
     "cell_type": "code",
     "collapsed": false,
     "input": [
      "from math import pi\n",
      "\n",
      "# Given \n",
      "p = 4e-3 # energy of laser pulse in meter\n",
      "r = 1.5e-5 # radius of spot in meter\n",
      "t = 1e-9 # pulse length in time in sec\n",
      "\n",
      "#Calculations\n",
      "p_ = p / t# calculation for  power in watt\n",
      "I = p_ / (pi * r**2)# calculation for power per unit area delivered by the laser\n",
      "\n",
      "#Result\n",
      "print \"Power per unit area delivered by the laser = %.1e watt/square meter\"%I"
     ],
     "language": "python",
     "metadata": {},
     "outputs": [
      {
       "output_type": "stream",
       "stream": "stdout",
       "text": [
        "Power per unit area delivered by the laser = 5.7e+15 watt/square meter\n"
       ]
      }
     ],
     "prompt_number": 12
    },
    {
     "cell_type": "heading",
     "level": 2,
     "metadata": {},
     "source": [
      "Example 4.5, Page 4.26"
     ]
    },
    {
     "cell_type": "code",
     "collapsed": false,
     "input": [
      "# Given \n",
      "D = 5e-3 # diameter of laser in meter\n",
      "l = 7.2e-7 # wavelength of light in meter\n",
      "d = 4e8 # distance at moon from earth in meter\n",
      "\n",
      "#Calculations\n",
      "r = (D / 2) # calculation for radius\n",
      "theta = (0.637 * l) / r # calculation for angular spread\n",
      "areal_spread = (d * theta)**2 # calculation for areal spread\n",
      "\n",
      "#Result\n",
      "print \"Angular spread = %.3e radian ,\\nAreal spread = %.2e square meter\"%(theta,areal_spread)"
     ],
     "language": "python",
     "metadata": {},
     "outputs": [
      {
       "output_type": "stream",
       "stream": "stdout",
       "text": [
        "Angular spread = 1.835e-04 radian ,\n",
        "Areal spread = 5.38e+09 square meter\n"
       ]
      }
     ],
     "prompt_number": 14
    },
    {
     "cell_type": "heading",
     "level": 2,
     "metadata": {},
     "source": [
      "Example 4.6, Page 4.27\n"
     ]
    },
    {
     "cell_type": "code",
     "collapsed": false,
     "input": [
      "# Given \n",
      "D = 5.0e-3 # diameter of laser in meter\n",
      "l = 6.943e-7 # wavelength of light in meter\n",
      "f =0.1 # focal length in meter\n",
      "P = 0.1 # power of laser in watt\n",
      "\n",
      "#Calculations\n",
      "r = (D / 2)# calculation for \n",
      "theta = (0.637 * l) / r# calculation for angular spread\n",
      "areal_spread = (f * theta)**2# calculation for areal spread\n",
      "I = P / areal_spread# calculation for intensity\n",
      "\n",
      "#Result\n",
      "print \"Areal spread = %.3e square meter,\\nIntensity = %.3e watt/square meter\"%(areal_spread,I)"
     ],
     "language": "python",
     "metadata": {},
     "outputs": [
      {
       "output_type": "stream",
       "stream": "stdout",
       "text": [
        "Areal spread = 3.130e-10 square meter,\n",
        "Intensity = 3.195e+08 watt/square meter\n"
       ]
      }
     ],
     "prompt_number": 15
    },
    {
     "cell_type": "heading",
     "level": 2,
     "metadata": {},
     "source": [
      "Example 4.7, Page 4.28"
     ]
    },
    {
     "cell_type": "code",
     "collapsed": false,
     "input": [
      "# Given \n",
      "tou = 1e-10 # coherence time in sec\n",
      "l = 5.4e-7 # wavelength of light in meter\n",
      "\n",
      "#Calculations\n",
      "delta_v = 1 / tou \n",
      "v_ = (3e+8) / l # calculation for frequency\n",
      "d = delta_v / v_ # calculation for degree of non-monochromaticity\n",
      "\n",
      "#Result\n",
      "print \"Degree of non-monochromaticity = %f \"%d"
     ],
     "language": "python",
     "metadata": {},
     "outputs": [
      {
       "output_type": "stream",
       "stream": "stdout",
       "text": [
        "Degree of non-monochromaticity = 0.000018 \n"
       ]
      }
     ],
     "prompt_number": 9
    }
   ],
   "metadata": {}
  }
 ]
}