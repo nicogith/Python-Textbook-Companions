{
 "metadata": {
  "name": ""
 },
 "nbformat": 3,
 "nbformat_minor": 0,
 "worksheets": [
  {
   "cells": [
    {
     "cell_type": "heading",
     "level": 1,
     "metadata": {},
     "source": [
      "Chapter 8: Sound Waves and Acoustics of Buildings \n"
     ]
    },
    {
     "cell_type": "heading",
     "level": 2,
     "metadata": {},
     "source": [
      "Example 8.1, Page 8.17"
     ]
    },
    {
     "cell_type": "code",
     "collapsed": false,
     "input": [
      "# Given \n",
      "v = 34500 # speed of sound in cm/sec\n",
      "f = 20 # lower limit of frequency for human hearing ear in Hz\n",
      "f_ = 20000 # upper limit of frequency for human hearing ear in Hz\n",
      "\n",
      "#Clculations\n",
      "l1 = v / f\n",
      "l2 = v / f_\n",
      "\n",
      "#Results\n",
      "print \"Wavelength range of the sound wave is %.f cm to %.f cm.\"%(l1,l2)"
     ],
     "language": "python",
     "metadata": {},
     "outputs": [
      {
       "output_type": "stream",
       "stream": "stdout",
       "text": [
        "Wavelength range of the sound wave is 1725 cm to 1 cm.\n"
       ]
      }
     ],
     "prompt_number": 2
    },
    {
     "cell_type": "heading",
     "level": 2,
     "metadata": {},
     "source": [
      "Example 8.2, Page 8.18"
     ]
    },
    {
     "cell_type": "code",
     "collapsed": false,
     "input": [
      "from math import sqrt\n",
      "\n",
      "# Given \n",
      "T = 373. # temperature in kelvin\n",
      "d = 1.293e-3 # density of air at S.T.P. in gm/cm^3\n",
      "d_ = 13.6 # density of mercury in gm/cm^3\n",
      "Cp = 0.2417 # specific heat of air at constant pressure \n",
      "Cv = 0.1715 # specific heat of air at constant volume\n",
      "g = 980 # gravitational constant i dynes/cm^3\n",
      "\n",
      "#calculations\n",
      "p = 76 * d_ * g\n",
      "gama = Cp / Cv\n",
      "v = sqrt(gama * (p / d))\n",
      "v_ = v * sqrt(T / 273)\n",
      "\n",
      "#Result\n",
      "print \"Velocity of sound in the air in %.f cm/sec.\"%v_\n",
      "#Incorrect answer in textbook"
     ],
     "language": "python",
     "metadata": {},
     "outputs": [
      {
       "output_type": "stream",
       "stream": "stdout",
       "text": [
        "Velocity of sound in the air in 38839 cm/sec.\n"
       ]
      }
     ],
     "prompt_number": 3
    },
    {
     "cell_type": "heading",
     "level": 2,
     "metadata": {},
     "source": [
      "Example 8.3, Page 8.18"
     ]
    },
    {
     "cell_type": "code",
     "collapsed": false,
     "input": [
      "from math import sqrt\n",
      "\n",
      " \n",
      "# Given that\n",
      "n = 512. # frequency of tuning fork in Hz \n",
      "T = 290. # temperature in kelvin\n",
      "l = 66.5 # wavelength of the gas emitted by tuning fork in cm\n",
      "d = 1.293e-3 # density of air at S.T.P. in gm/cm^3\n",
      "d_ = 13.6 # density of mercury in gm/cm^3\n",
      "g = 980 # gravitational constant i dynes/cm^3\n",
      "\n",
      "#Calculations\n",
      "p = 76 * d_ * g# calculation for pressure\n",
      "v_ = n * l# calculation for velocity of sound in air at temperature 17 c \n",
      "v = v_ * sqrt(273 / T)# calculation for velocity of sound in air at temp 0 c\n",
      "gama = v**2 * (d / p)# calculation for ratio of two specific heat\n",
      "\n",
      "#Result\n",
      "print \"Ratio of  two principal specific heats of air is %.2f\"%gama"
     ],
     "language": "python",
     "metadata": {},
     "outputs": [
      {
       "output_type": "stream",
       "stream": "stdout",
       "text": [
        "Ratio of  two principal specific heats of air is 1.39\n"
       ]
      }
     ],
     "prompt_number": 4
    },
    {
     "cell_type": "heading",
     "level": 2,
     "metadata": {},
     "source": [
      "Example 8.4, Page 8.19"
     ]
    },
    {
     "cell_type": "code",
     "collapsed": false,
     "input": [
      "# Given \n",
      "A = 15 * 30 # area of the floor in square meter\n",
      "h = 6 # height of hall in meter\n",
      "N = 500 # no. of people\n",
      "t = 1.36 # optimum time for orchestral music in sec\n",
      "k = 0.44 # absorption coefficient per person\n",
      "\n",
      "#Calculations\n",
      "aS = 0.161 * ((A * h) / t)\n",
      "a = N * k\n",
      "a_ = aS - a\n",
      "w = a_ + (N / 2) * k + (N / 2) * 0.02\n",
      "t = (0.161 * (A * h)) / w\n",
      "\n",
      "#Results\n",
      "print \"Coefficient of absorption to be provided by the walls, floor and ceiling when the hall is fully occupied is %.f SI unit.\"%a_\n",
      "print \"Reverberation time if only half upholstered seats are occupied is %.2f sec.\"%t\n",
      "#Answer varies due to rounding-off "
     ],
     "language": "python",
     "metadata": {},
     "outputs": [
      {
       "output_type": "stream",
       "stream": "stdout",
       "text": [
        "319.632352941\n",
        "Coefficient of absorption to be provided by the walls, floor and ceiling when the hall is fully occupied is 100 SI unit.\n",
        "Reverberation time if only half upholstered seats are occupied is 2.03 sec.\n"
       ]
      }
     ],
     "prompt_number": 6
    },
    {
     "cell_type": "heading",
     "level": 2,
     "metadata": {},
     "source": [
      "Example 8.5, Page 8.19"
     ]
    },
    {
     "cell_type": "code",
     "collapsed": false,
     "input": [
      "# Given\n",
      "V = 8000 # volume of hall in meter^3\n",
      "t = 1.8 # reverberation time in sec\n",
      "\n",
      "#Calculation\n",
      "aS = (0.161 * V) / t# calculation for the total absorption constant\n",
      "\n",
      "#Result\n",
      "print \"The total absorption constant = %.3f O.W.U.\"%aS\n",
      "#Incorrect answer in the textbook"
     ],
     "language": "python",
     "metadata": {},
     "outputs": [
      {
       "output_type": "stream",
       "stream": "stdout",
       "text": [
        "The total absorption constant = 715.556 O.W.U.\n"
       ]
      }
     ],
     "prompt_number": 10
    },
    {
     "cell_type": "heading",
     "level": 2,
     "metadata": {},
     "source": [
      "Example 8.6, Page 8.20"
     ]
    },
    {
     "cell_type": "code",
     "collapsed": false,
     "input": [
      "# Given \n",
      "V = 1700 # volume in meter^3\n",
      "a1 = 98 # area of plastered wall in m^2\n",
      "a2 = 144 # area of plastered ceiling in m^2\n",
      "a3 = 15 # area of wooden door in m^2\n",
      "a4 = 88 # area of cushioned chairs in m^2\n",
      "a5 = 150 # area of audience (each person) in m^2\n",
      "k1 = 0.03 # coefficient of absorption for plastered wall in O.W.U.\n",
      "k2 = 0.04 # coefficient of absorption for plastered ceiling in O.W.U.\n",
      "k3 = 0.06 # coefficient of absorption for wooden door in O.W.U.\n",
      "k4 = 1 # coefficient of absorption for cushioned chair in O.W.U.\n",
      "k5 = 4.7 # coefficient of absorption for audience (each person) in O.W.U.\n",
      "\n",
      "#Calculations\n",
      "A1 = a1 * k1# calculation for the absorption by the plaster wall\n",
      "A2 = a2 * k2# calculation for the absorption by the plastered ceiling\n",
      "A3 = a3 * k3# calculation for wooden door\n",
      "A4 = a4 * k4# calculation for cushioned chairs \n",
      "A = A1 + A2 + A3 + A4# calculation for total absorption\n",
      "T = 0.161 * (V / A)# calculation for reverberation time\n",
      "\n",
      "#Result\n",
      "print \"Reverberation time is %.2f sec\"%T"
     ],
     "language": "python",
     "metadata": {},
     "outputs": [
      {
       "output_type": "stream",
       "stream": "stdout",
       "text": [
        "Reverberation time is 2.80 sec\n"
       ]
      }
     ],
     "prompt_number": 11
    },
    {
     "cell_type": "heading",
     "level": 2,
     "metadata": {},
     "source": [
      "Example 8.7, Page 8.20"
     ]
    },
    {
     "cell_type": "code",
     "collapsed": false,
     "input": [
      "# Given \n",
      "V = 1400 # volume of hall in meter^3\n",
      "C = 110 # seating capacity of hall \n",
      "a1 = 98 # area of plastered wall in m^2\n",
      "a2 = 144 # area of plastered ceiling in m^2\n",
      "a3 = 15 # area of wooden door in m^2\n",
      "a4 = 88 # area of cushioned chairs in m^2\n",
      "a5 = 150 # area of audience (each person) in m^2\n",
      "k1 = 0.03 # coefficient of absorption for plastered wall in O.W.U.\n",
      "k2 = 0.04 # coefficient of absorption for plastered ceiling in O.W.U.\n",
      "k3 = 0.06 # coefficient of absorption for wooden door in O.W.U.\n",
      "k4 = 1 # coefficient of absorption for cushioned chair in O.W.U.\n",
      "k5 = 4.7 # coefficient of absorption for audience (each person) in O.W.U.\n",
      "\n",
      "#Calculations\n",
      "A1 = a1 * k1# calculation for the absorption by the plaster wall\n",
      "A2 = a2 * k2# calculation for the absorption by the plastered ceiling\n",
      "A3 = a3 * k3# calculation for wooden door\n",
      "A4 = a4 * k4# calculation for cushioned chairs \n",
      "A5 = C*k5 # the absorption due to persons\n",
      "A = A1 + A2 + A3 + A4 + A5 # calculation for total absorption\n",
      "T = (0.161 * V) / A# calculation for the reverberation time\n",
      "\n",
      "#Result\n",
      "print \"Reverberation time is %.3f sec\"%T"
     ],
     "language": "python",
     "metadata": {},
     "outputs": [
      {
       "output_type": "stream",
       "stream": "stdout",
       "text": [
        "Reverberation time is 0.367 sec\n"
       ]
      }
     ],
     "prompt_number": 12
    },
    {
     "cell_type": "heading",
     "level": 2,
     "metadata": {},
     "source": [
      "Example 8.8, Page 8.21"
     ]
    },
    {
     "cell_type": "code",
     "collapsed": false,
     "input": [
      "# Given \n",
      "V = 980 # volume in meter^3\n",
      "a1 = 150 # area of wall in m^2\n",
      "a2 = 95 # area of ceiling in m^2\n",
      "a3 = 90 # area of floor in m^2\n",
      "k1 = 0.03 # coefficient of absorption for wall in O.W.U.\n",
      "k2 = 0.80 # coefficient of absorption for ceiling in O.W.U.\n",
      "k3 = 0.06 # coefficient of absorption for floor in O.W.U.\n",
      "\n",
      "#calculations\n",
      "A1 = a1 * k1\n",
      "A2 = a2 * k2\n",
      "A3 = a3 * k3\n",
      "A = A1 + A2 + A3\n",
      "T = 0.161 * (V / A)\n",
      "\n",
      "#Result\n",
      "print \"Reverberation time = %.2f sec\"%T"
     ],
     "language": "python",
     "metadata": {},
     "outputs": [
      {
       "output_type": "stream",
       "stream": "stdout",
       "text": [
        "Reverberation time = 1.84 sec\n"
       ]
      }
     ],
     "prompt_number": 13
    },
    {
     "cell_type": "heading",
     "level": 2,
     "metadata": {},
     "source": [
      "Example 8.9, Page 8.21"
     ]
    },
    {
     "cell_type": "code",
     "collapsed": false,
     "input": [
      "# Given \n",
      "V = 980 # volume in meter^3\n",
      "a = 1.58 # area of window in m^2\n",
      "I_ = 1e-12 # standard intensity level of sound wave in W/m^2\n",
      "l = 60 # intensity level in dB\n",
      "\n",
      "#calculations\n",
      "I = I_ * 10**(l / 10)# calculation for intensity\n",
      "AP = I * a# calculation for acoustic power\n",
      "\n",
      "#Result\n",
      "print \"Acoustic power = %.2e watt\"%AP"
     ],
     "language": "python",
     "metadata": {},
     "outputs": [
      {
       "output_type": "stream",
       "stream": "stdout",
       "text": [
        "Acoustic power = 1.58e-06 watt\n"
       ]
      }
     ],
     "prompt_number": 14
    }
   ],
   "metadata": {}
  }
 ]
}