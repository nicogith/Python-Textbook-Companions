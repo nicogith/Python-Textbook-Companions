{
 "metadata": {
  "name": ""
 },
 "nbformat": 3,
 "nbformat_minor": 0,
 "worksheets": [
  {
   "cells": [
    {
     "cell_type": "heading",
     "level": 1,
     "metadata": {},
     "source": [
      "Chapter 16: Free Electron Theory"
     ]
    },
    {
     "cell_type": "heading",
     "level": 2,
     "metadata": {},
     "source": [
      "Example 16.1, Page 16.14"
     ]
    },
    {
     "cell_type": "code",
     "collapsed": false,
     "input": [
      "from math import *\n",
      "\n",
      "# Given \n",
      "t = 0 # temperature in K\n",
      "E = 10 # Fermi energy of electron in eV\n",
      "e = 1.6e-19 # charge on an electron in C\n",
      "m = 9.1e-31 # mass of electron in kg\n",
      "\n",
      "#Calculations\n",
      "E_ = E * 3 / 5\n",
      "v = sqrt(2 * E_ * e / m)\n",
      "\n",
      "#Result\n",
      "print \"\\nAverage energy of electron is %.f eV\\nSpeed of electron is %.2e m/sec\"%(E_,v)"
     ],
     "language": "python",
     "metadata": {},
     "outputs": [
      {
       "output_type": "stream",
       "stream": "stdout",
       "text": [
        "\n",
        "Average energy of electron is 6 eV\n",
        "Speed of electron is 1.45e+06 m/sec\n"
       ]
      }
     ],
     "prompt_number": 1
    },
    {
     "cell_type": "heading",
     "level": 2,
     "metadata": {},
     "source": [
      "Example 16.2, Page 16.14"
     ]
    },
    {
     "cell_type": "code",
     "collapsed": false,
     "input": [
      "from math import *\n",
      "\n",
      "# Given \n",
      "t = 0 # temperature in K\n",
      "E = 7.9 # Fermi energy in eV\n",
      "e = 1.6e-19 # charge on an electron in C\n",
      "m = 9.1e-31 # mass of electron in kg\n",
      "\n",
      "#Calculations\n",
      "E_ = E * 3 / 5\n",
      "v = sqrt(2 * E_ * e / m)\n",
      "\n",
      "#Result\n",
      "print \"Average energy of electron is %.2f eV\\nSpeed of electron is %.2e m/sec\"%(E_,v)"
     ],
     "language": "python",
     "metadata": {},
     "outputs": [
      {
       "output_type": "stream",
       "stream": "stdout",
       "text": [
        "Average energy of electron is 4.74 eV\n",
        "Speed of electron is 1.29e+06 m/sec\n"
       ]
      }
     ],
     "prompt_number": 2
    },
    {
     "cell_type": "heading",
     "level": 2,
     "metadata": {},
     "source": [
      "Example 16.3, Page 16.15"
     ]
    },
    {
     "cell_type": "code",
     "collapsed": false,
     "input": [
      "from math import *\n",
      "\n",
      "# Given \n",
      "n = 2.5e28 # no. of free electron in per meter cube\n",
      "e = 1.6e-19 # charge on an electron in C\n",
      "m = 9.1e-31 # mass of electron in kg\n",
      "h = 6.62e-34 # Planck constant in J-sec\n",
      "\n",
      "#Calculations\n",
      "E = (h**2 / (8 * pi**2 * m)) * (3 * pi**2 * n)**(2./3) * (1. / e)\n",
      "v = (h / (2 * pi * m)) * (3 * pi**2 * n)**(1./3)\n",
      "\n",
      "#Results\n",
      "print \"Fermi energy is %.2f eV\\nSpeed of electron is %.2e m/sec\"%(E,v)"
     ],
     "language": "python",
     "metadata": {},
     "outputs": [
      {
       "output_type": "stream",
       "stream": "stdout",
       "text": [
        "Fermi energy is 3.12 eV\n",
        "Speed of electron is 1.05e+06 m/sec\n"
       ]
      }
     ],
     "prompt_number": 3
    },
    {
     "cell_type": "heading",
     "level": 2,
     "metadata": {},
     "source": [
      "Example 16.4, Page 16.15"
     ]
    },
    {
     "cell_type": "code",
     "collapsed": false,
     "input": [
      "from math import *\n",
      "\n",
      "# Given \n",
      "d = 8940 # density of copper in kg/m^3\n",
      "w = 63.55 # atomic weight of copper\n",
      "t = 0 # temperature in K\n",
      "N = 6.02e26 # Avogadro no. in per kg\n",
      "m = 9.1e-31 # mass of electron in kg\n",
      "h = 6.62e-34 # Planck constant in J-sec\n",
      "e = 1.6e-19 # charge on an electron in C\n",
      "\n",
      "#Calculations\n",
      "V = w / d\n",
      "n = N / V \n",
      "E = (h**2 / (8 * pi**2 * m)) * (3 * pi**2 * n)**(2./3) * (1. / e)\n",
      "E_ = 3 * E / 5\n",
      "\n",
      "#Results\n",
      "print \"Fermi energy is %.3f eV\\nAverage energy is %.2f eV\"%(E,E_)"
     ],
     "language": "python",
     "metadata": {},
     "outputs": [
      {
       "output_type": "stream",
       "stream": "stdout",
       "text": [
        "Fermi energy is 7.036 eV\n",
        "Average energy is 4.22 eV\n"
       ]
      }
     ],
     "prompt_number": 4
    },
    {
     "cell_type": "heading",
     "level": 2,
     "metadata": {},
     "source": [
      "Example 16.5, Page 16.16\n"
     ]
    },
    {
     "cell_type": "code",
     "collapsed": false,
     "input": [
      "from math import *\n",
      "\n",
      "# Given \n",
      "d = 10.5e6 # density of silver in g/m^3\n",
      "w = 108 # atomic weight of silver\n",
      "t = 0 # temperature in K\n",
      "N = 6.02e23 # Avogadro no. in per kg\n",
      "m = 9.1e-31 # mass of electron in kg\n",
      "h = 6.62e-34 # Planck constant in J-sec\n",
      "e = 1.6e-19 # charge on an electron in C\n",
      "\n",
      "#Calculations\n",
      "V = w / d\n",
      "n = N / V \n",
      "E = (h**2 / (8 * pi**2 * m)) * (3 * pi**2 * n)**(2./3) * (1 / e)\n",
      "\n",
      "#Result\n",
      "print \"Fermi energy is %.1f eV\"%E"
     ],
     "language": "python",
     "metadata": {},
     "outputs": [
      {
       "output_type": "stream",
       "stream": "stdout",
       "text": [
        "Fermi energy is 5.5 eV\n"
       ]
      }
     ],
     "prompt_number": 5
    },
    {
     "cell_type": "heading",
     "level": 2,
     "metadata": {},
     "source": [
      "Example 16.6, Page 16.16"
     ]
    },
    {
     "cell_type": "code",
     "collapsed": false,
     "input": [
      "from math import *\n",
      "\n",
      "# Given \n",
      "a = 4e-10 # lattice constant in mr\n",
      "t = 0 # temperature in K\n",
      "N = 6.02e23 # Avogadro no. in per kg\n",
      "m = 9.1e-31 # mass of electron in kg\n",
      "h = 6.62e-34 # Planck constant in J-sec\n",
      "e = 1.6e-19 # charge on an electron in C\n",
      "\n",
      "#Calculations\n",
      "V = a**3\n",
      "n = 4 / V \n",
      "E = (h**2 / (8 * pi**2 * m)) * (3 * pi**2 * n)**(2./3) * (1 / e)\n",
      "k = (3 * pi**2 *n)**(1./3)\n",
      "KE = (3 * E / 5) * (n)\n",
      "\n",
      "#Results\n",
      "print \"Fermi energy is %.2f eV\\nFermi vector is %.2e per m\\nTotal kinetic energy is %.2e eV\"%(E,k,KE)"
     ],
     "language": "python",
     "metadata": {},
     "outputs": [
      {
       "output_type": "stream",
       "stream": "stdout",
       "text": [
        "Fermi energy is 5.75 eV\n",
        "Fermi vector is 1.23e+10 per m\n",
        "Total kinetic energy is 2.15e+29 eV\n"
       ]
      }
     ],
     "prompt_number": 6
    },
    {
     "cell_type": "heading",
     "level": 2,
     "metadata": {},
     "source": [
      "Example 16.7, Page 16.17"
     ]
    },
    {
     "cell_type": "code",
     "collapsed": false,
     "input": [
      "from math import pi\n",
      "\n",
      "# Given \n",
      "d = 0.9e-3 # diameter of aluminium in m\n",
      "i = 6 # current in amp\n",
      "n = 4.5e28 # no. of electron available for conduction per meter^3 \n",
      "e =  1.6e-19 # charge on an electron in C\n",
      "\n",
      "#Calculations\n",
      "J = i * 4 / (pi * (d)**2)\n",
      "v = J / (n * e)\n",
      "\n",
      "#Result\n",
      "print \"Drift velocity of electron is %.3e m/sec\"%v"
     ],
     "language": "python",
     "metadata": {},
     "outputs": [
      {
       "output_type": "stream",
       "stream": "stdout",
       "text": [
        "Drift velocity of electron is 1.310e-03 m/sec\n"
       ]
      }
     ],
     "prompt_number": 7
    },
    {
     "cell_type": "heading",
     "level": 2,
     "metadata": {},
     "source": [
      "Example 16.8, Page 16.17"
     ]
    },
    {
     "cell_type": "code",
     "collapsed": false,
     "input": [
      "from math import *\n",
      "\n",
      "# Given \n",
      "d = 8.92e3 # density of copper in kg/m^3\n",
      "i = 5 # current in amp\n",
      "w = 63.5 # atomic weight of copper\n",
      "r = 0.7e-3 # radius in meter\n",
      "N = 6.02e28 # Avogadro no.\n",
      "e = 1.6e-19 # charge on an electron in C\n",
      "\n",
      "#Calculations\n",
      "V = (w / d)\n",
      "n = N / V \n",
      "J = i / (pi * r**2)\n",
      "v = J / (n * e)\n",
      "\n",
      "#Result\n",
      "print \"Current density = %.2e amp/m^2\\nDrift velocity is %.1e m/sec\"%(J,v)\n",
      "#Incorrect units in the textbook"
     ],
     "language": "python",
     "metadata": {},
     "outputs": [
      {
       "output_type": "stream",
       "stream": "stdout",
       "text": [
        "Current density = 3.25e+06 amp/m^2\n",
        "Drift velocity is 2.4e-06 m/sec\n"
       ]
      }
     ],
     "prompt_number": 8
    },
    {
     "cell_type": "heading",
     "level": 2,
     "metadata": {},
     "source": [
      "Example 16.9, Page 16.17"
     ]
    },
    {
     "cell_type": "code",
     "collapsed": false,
     "input": [
      "from math import *\n",
      "\n",
      "# Given\n",
      "d1= 0.534*10**3 # densiy of Li in kg/m^3\n",
      "d2= 0.971*10**3 # densiy of Na in kg/m^3\n",
      "d3= 0.86*10**3 # densiy of K in kg/m^3\n",
      "w1 = 6.939 # atomic weight of Li \n",
      "w2 = 22.99 # atomic weight of Na\n",
      "w3 = 39.202 # atomic weight of K\n",
      "h = 6.62e-34 # Planck constant in J sec\n",
      "m = 9.1e-31 # mass of an electron in kg\n",
      "NA = 6.023e26 # Avogadro no.\n",
      "e = 1.6e-19 # charge on an electron in C\n",
      "\n",
      "#Calculations\n",
      "# For Li\n",
      "n1 = NA * d1/w1\n",
      "E1 = h**2/(8*pi**2*m)*(3*pi**2*n1)**(2./3)\n",
      "# For Na\n",
      "n2 = NA * d2/w2\n",
      "E2 = h**2/(8*pi**2*m)*(3*pi**2*n2)**(2./3)\n",
      "# For K\n",
      "n3 = NA * d3/w3\n",
      "E3 = h**2/(8*pi**2*m)*(3*pi**2*n3)**(2./3)\n",
      "\n",
      "#Results\n",
      "print \"Fermi Energy \\nFor Li is %.2f eV\\nFor Na is %.3f eV \\nFor K is %.3f eV\"%(E1/e,E2/e,E3/e)\n"
     ],
     "language": "python",
     "metadata": {},
     "outputs": [
      {
       "output_type": "stream",
       "stream": "stdout",
       "text": [
        "Fermi Energy \n",
        "For Li is 4.71 eV\n",
        "For Na is 3.156 eV \n",
        "For K is 2.039 eV\n"
       ]
      }
     ],
     "prompt_number": 9
    },
    {
     "cell_type": "heading",
     "level": 2,
     "metadata": {},
     "source": [
      "Example 16.10, Page 16.18\n"
     ]
    },
    {
     "cell_type": "code",
     "collapsed": false,
     "input": [
      " \n",
      "# Given \n",
      "l = 1e-10 #length of box in m\n",
      "e = 1.6e-19 # charge on an electron in C\n",
      "m = 9.1e-31 # mass of electron in kg\n",
      "h = 6.62e-34 # Planck constant in J-sec\n",
      "\n",
      "#Calculations\n",
      "n = 1 # for n=1\n",
      "E = (n**2 * h**2) / (8 * m * l**2)\n",
      "n = 2 # for n=2\n",
      "E_ = (n**2 * h**2) / (8 * m * l**2)\n",
      "d = (E_ - E) * (1 / e)\n",
      "\n",
      "#Result\n",
      "print \"Energy difference is %.2f eV\"%d"
     ],
     "language": "python",
     "metadata": {},
     "outputs": [
      {
       "output_type": "stream",
       "stream": "stdout",
       "text": [
        "Energy difference is 112.87 eV\n"
       ]
      }
     ],
     "prompt_number": 10
    }
   ],
   "metadata": {}
  }
 ]
}